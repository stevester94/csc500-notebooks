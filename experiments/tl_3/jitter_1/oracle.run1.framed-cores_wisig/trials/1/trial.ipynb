{
 "cells": [
  {
   "cell_type": "markdown",
   "id": "9fea5f46",
   "metadata": {
    "papermill": {
     "duration": 0.017587,
     "end_time": "2022-03-18T10:05:46.235986",
     "exception": false,
     "start_time": "2022-03-18T10:05:46.218399",
     "status": "completed"
    },
    "tags": []
   },
   "source": [
    "# Transfer Learning Template"
   ]
  },
  {
   "cell_type": "code",
   "execution_count": 1,
   "id": "0902182a",
   "metadata": {
    "execution": {
     "iopub.execute_input": "2022-03-18T10:05:46.275840Z",
     "iopub.status.busy": "2022-03-18T10:05:46.275436Z",
     "iopub.status.idle": "2022-03-18T10:05:47.170593Z",
     "shell.execute_reply": "2022-03-18T10:05:47.170815Z"
    },
    "papermill": {
     "duration": 0.922142,
     "end_time": "2022-03-18T10:05:47.170904",
     "exception": false,
     "start_time": "2022-03-18T10:05:46.248762",
     "status": "completed"
    },
    "tags": []
   },
   "outputs": [],
   "source": [
    "%load_ext autoreload\n",
    "%autoreload 2\n",
    "%matplotlib inline\n",
    "\n",
    "    \n",
    "import os, json, sys, time, random\n",
    "import numpy as np\n",
    "import torch\n",
    "from torch.optim import Adam\n",
    "from  easydict import EasyDict\n",
    "import matplotlib.pyplot as plt\n",
    "\n",
    "from steves_models.steves_ptn import Steves_Prototypical_Network\n",
    "\n",
    "from steves_utils.lazy_iterable_wrapper import Lazy_Iterable_Wrapper\n",
    "from steves_utils.iterable_aggregator import Iterable_Aggregator\n",
    "from steves_utils.ptn_train_eval_test_jig import  PTN_Train_Eval_Test_Jig\n",
    "from steves_utils.torch_sequential_builder import build_sequential\n",
    "from steves_utils.torch_utils import get_dataset_metrics, ptn_confusion_by_domain_over_dataloader\n",
    "from steves_utils.utils_v2 import (per_domain_accuracy_from_confusion, get_datasets_base_path)\n",
    "from steves_utils.PTN.utils import independent_accuracy_assesment\n",
    "\n",
    "from torch.utils.data import DataLoader\n",
    "\n",
    "from steves_utils.stratified_dataset.episodic_accessor import Episodic_Accessor_Factory\n",
    "\n",
    "from steves_utils.ptn_do_report import (\n",
    "    get_loss_curve,\n",
    "    get_results_table,\n",
    "    get_parameters_table,\n",
    "    get_domain_accuracies,\n",
    ")\n",
    "\n",
    "from steves_utils.transforms import get_chained_transform"
   ]
  },
  {
   "cell_type": "markdown",
   "id": "41c840b4",
   "metadata": {
    "papermill": {
     "duration": 0.013412,
     "end_time": "2022-03-18T10:05:47.197974",
     "exception": false,
     "start_time": "2022-03-18T10:05:47.184562",
     "status": "completed"
    },
    "tags": []
   },
   "source": [
    "# Allowed Parameters\n",
    "These are allowed parameters, not defaults\n",
    "Each of these values need to be present in the injected parameters (the notebook will raise an exception if they are not present)\n",
    "\n",
    "Papermill uses the cell tag \"parameters\" to inject the real parameters below this cell.\n",
    "Enable tags to see what I mean"
   ]
  },
  {
   "cell_type": "code",
   "execution_count": 2,
   "id": "fd44eb83",
   "metadata": {
    "execution": {
     "iopub.execute_input": "2022-03-18T10:05:47.228006Z",
     "iopub.status.busy": "2022-03-18T10:05:47.227740Z",
     "iopub.status.idle": "2022-03-18T10:05:47.242269Z",
     "shell.execute_reply": "2022-03-18T10:05:47.241867Z"
    },
    "papermill": {
     "duration": 0.03094,
     "end_time": "2022-03-18T10:05:47.242357",
     "exception": false,
     "start_time": "2022-03-18T10:05:47.211417",
     "status": "completed"
    },
    "tags": []
   },
   "outputs": [],
   "source": [
    "required_parameters = {\n",
    "    \"experiment_name\",\n",
    "    \"lr\",\n",
    "    \"device\",\n",
    "    \"seed\",\n",
    "    \"dataset_seed\",\n",
    "    \"n_shot\",\n",
    "    \"n_query\",\n",
    "    \"n_way\",\n",
    "    \"train_k_factor\",\n",
    "    \"val_k_factor\",\n",
    "    \"test_k_factor\",\n",
    "    \"n_epoch\",\n",
    "    \"patience\",\n",
    "    \"criteria_for_best\",\n",
    "    \"x_net\",\n",
    "    \"datasets\",\n",
    "    \"torch_default_dtype\",\n",
    "    \"NUM_LOGS_PER_EPOCH\",\n",
    "    \"BEST_MODEL_PATH\",\n",
    "    \"x_shape\",\n",
    "}"
   ]
  },
  {
   "cell_type": "code",
   "execution_count": 3,
   "id": "fa3f0049",
   "metadata": {
    "execution": {
     "iopub.execute_input": "2022-03-18T10:05:47.285032Z",
     "iopub.status.busy": "2022-03-18T10:05:47.280532Z",
     "iopub.status.idle": "2022-03-18T10:05:47.296693Z",
     "shell.execute_reply": "2022-03-18T10:05:47.297063Z"
    },
    "papermill": {
     "duration": 0.036968,
     "end_time": "2022-03-18T10:05:47.297172",
     "exception": false,
     "start_time": "2022-03-18T10:05:47.260204",
     "status": "completed"
    },
    "tags": [
     "parameters"
    ]
   },
   "outputs": [],
   "source": [
    "from steves_utils.CORES.utils import (\n",
    "    ALL_NODES,\n",
    "    ALL_NODES_MINIMUM_1000_EXAMPLES,\n",
    "    ALL_DAYS\n",
    ")\n",
    "\n",
    "from steves_utils.ORACLE.utils_v2 import (\n",
    "    ALL_DISTANCES_FEET_NARROWED,\n",
    "    ALL_RUNS,\n",
    "    ALL_SERIAL_NUMBERS,\n",
    ")\n",
    "\n",
    "standalone_parameters = {}\n",
    "standalone_parameters[\"experiment_name\"] = \"STANDALONE PTN\"\n",
    "standalone_parameters[\"lr\"] = 0.001\n",
    "standalone_parameters[\"device\"] = \"cuda\"\n",
    "\n",
    "standalone_parameters[\"seed\"] = 1337\n",
    "standalone_parameters[\"dataset_seed\"] = 1337\n",
    "\n",
    "standalone_parameters[\"n_way\"] = 8\n",
    "standalone_parameters[\"n_shot\"] = 3\n",
    "standalone_parameters[\"n_query\"]  = 2\n",
    "standalone_parameters[\"train_k_factor\"] = 1\n",
    "standalone_parameters[\"val_k_factor\"] = 2\n",
    "standalone_parameters[\"test_k_factor\"] = 2\n",
    "\n",
    "\n",
    "standalone_parameters[\"n_epoch\"] = 50\n",
    "\n",
    "standalone_parameters[\"patience\"] = 10\n",
    "standalone_parameters[\"criteria_for_best\"] = \"source_loss\"\n",
    "\n",
    "standalone_parameters[\"datasets\"] = [\n",
    "    {\n",
    "        \"labels\": ALL_SERIAL_NUMBERS,\n",
    "        \"domains\": ALL_DISTANCES_FEET_NARROWED,\n",
    "        \"num_examples_per_domain_per_label\": 100,\n",
    "        \"pickle_path\": os.path.join(get_datasets_base_path(), \"oracle.Run1_framed_2000Examples_stratified_ds.2022A.pkl\"),\n",
    "        \"source_or_target_dataset\": \"source\",\n",
    "        \"x_transforms\": [\"unit_mag\", \"minus_two\"],\n",
    "        \"episode_transforms\": [],\n",
    "        \"domain_prefix\": \"ORACLE_\"\n",
    "    },\n",
    "    {\n",
    "        \"labels\": ALL_NODES,\n",
    "        \"domains\": ALL_DAYS,\n",
    "        \"num_examples_per_domain_per_label\": 100,\n",
    "        \"pickle_path\": os.path.join(get_datasets_base_path(), \"cores.stratified_ds.2022A.pkl\"),\n",
    "        \"source_or_target_dataset\": \"target\",\n",
    "        \"x_transforms\": [\"unit_power\", \"times_zero\"],\n",
    "        \"episode_transforms\": [],\n",
    "        \"domain_prefix\": \"CORES_\"\n",
    "    }   \n",
    "]\n",
    "\n",
    "standalone_parameters[\"torch_default_dtype\"] = \"torch.float32\" \n",
    "\n",
    "\n",
    "\n",
    "standalone_parameters[\"x_net\"] =     [\n",
    "    {\"class\": \"nnReshape\", \"kargs\": {\"shape\":[-1, 1, 2, 256]}},\n",
    "    {\"class\": \"Conv2d\", \"kargs\": { \"in_channels\":1, \"out_channels\":256, \"kernel_size\":(1,7), \"bias\":False, \"padding\":(0,3), },},\n",
    "    {\"class\": \"ReLU\", \"kargs\": {\"inplace\": True}},\n",
    "    {\"class\": \"BatchNorm2d\", \"kargs\": {\"num_features\":256}},\n",
    "\n",
    "    {\"class\": \"Conv2d\", \"kargs\": { \"in_channels\":256, \"out_channels\":80, \"kernel_size\":(2,7), \"bias\":True, \"padding\":(0,3), },},\n",
    "    {\"class\": \"ReLU\", \"kargs\": {\"inplace\": True}},\n",
    "    {\"class\": \"BatchNorm2d\", \"kargs\": {\"num_features\":80}},\n",
    "    {\"class\": \"Flatten\", \"kargs\": {}},\n",
    "\n",
    "    {\"class\": \"Linear\", \"kargs\": {\"in_features\": 80*256, \"out_features\": 256}}, # 80 units per IQ pair\n",
    "    {\"class\": \"ReLU\", \"kargs\": {\"inplace\": True}},\n",
    "    {\"class\": \"BatchNorm1d\", \"kargs\": {\"num_features\":256}},\n",
    "\n",
    "    {\"class\": \"Linear\", \"kargs\": {\"in_features\": 256, \"out_features\": 256}},\n",
    "]\n",
    "\n",
    "# Parameters relevant to results\n",
    "# These parameters will basically never need to change\n",
    "standalone_parameters[\"NUM_LOGS_PER_EPOCH\"] = 10\n",
    "standalone_parameters[\"BEST_MODEL_PATH\"] = \"./best_model.pth\"\n",
    "\n",
    "\n",
    "\n",
    "\n"
   ]
  },
  {
   "cell_type": "code",
   "execution_count": 4,
   "id": "090b04cc",
   "metadata": {
    "execution": {
     "iopub.execute_input": "2022-03-18T10:05:47.338145Z",
     "iopub.status.busy": "2022-03-18T10:05:47.333061Z",
     "iopub.status.idle": "2022-03-18T10:05:47.350360Z",
     "shell.execute_reply": "2022-03-18T10:05:47.350737Z"
    },
    "papermill": {
     "duration": 0.037538,
     "end_time": "2022-03-18T10:05:47.350840",
     "exception": false,
     "start_time": "2022-03-18T10:05:47.313302",
     "status": "completed"
    },
    "tags": [
     "injected-parameters"
    ]
   },
   "outputs": [],
   "source": [
    "# Parameters\n",
    "parameters = {\n",
    "    \"experiment_name\": \"tl_3-jitter1:oracle.run1.framed -> cores+wisig\",\n",
    "    \"device\": \"cuda\",\n",
    "    \"lr\": 0.001,\n",
    "    \"seed\": 1337,\n",
    "    \"dataset_seed\": 1337,\n",
    "    \"n_shot\": 3,\n",
    "    \"n_query\": 2,\n",
    "    \"train_k_factor\": 3,\n",
    "    \"val_k_factor\": 2,\n",
    "    \"test_k_factor\": 2,\n",
    "    \"torch_default_dtype\": \"torch.float32\",\n",
    "    \"n_epoch\": 50,\n",
    "    \"patience\": 3,\n",
    "    \"criteria_for_best\": \"target_loss\",\n",
    "    \"x_net\": [\n",
    "        {\"class\": \"nnReshape\", \"kargs\": {\"shape\": [-1, 1, 2, 256]}},\n",
    "        {\n",
    "            \"class\": \"Conv2d\",\n",
    "            \"kargs\": {\n",
    "                \"in_channels\": 1,\n",
    "                \"out_channels\": 256,\n",
    "                \"kernel_size\": [1, 7],\n",
    "                \"bias\": False,\n",
    "                \"padding\": [0, 3],\n",
    "            },\n",
    "        },\n",
    "        {\"class\": \"ReLU\", \"kargs\": {\"inplace\": True}},\n",
    "        {\"class\": \"BatchNorm2d\", \"kargs\": {\"num_features\": 256}},\n",
    "        {\n",
    "            \"class\": \"Conv2d\",\n",
    "            \"kargs\": {\n",
    "                \"in_channels\": 256,\n",
    "                \"out_channels\": 80,\n",
    "                \"kernel_size\": [2, 7],\n",
    "                \"bias\": True,\n",
    "                \"padding\": [0, 3],\n",
    "            },\n",
    "        },\n",
    "        {\"class\": \"ReLU\", \"kargs\": {\"inplace\": True}},\n",
    "        {\"class\": \"BatchNorm2d\", \"kargs\": {\"num_features\": 80}},\n",
    "        {\"class\": \"Flatten\", \"kargs\": {}},\n",
    "        {\"class\": \"Linear\", \"kargs\": {\"in_features\": 20480, \"out_features\": 256}},\n",
    "        {\"class\": \"ReLU\", \"kargs\": {\"inplace\": True}},\n",
    "        {\"class\": \"BatchNorm1d\", \"kargs\": {\"num_features\": 256}},\n",
    "        {\"class\": \"Linear\", \"kargs\": {\"in_features\": 256, \"out_features\": 256}},\n",
    "    ],\n",
    "    \"NUM_LOGS_PER_EPOCH\": 10,\n",
    "    \"BEST_MODEL_PATH\": \"./best_model.pth\",\n",
    "    \"n_way\": 16,\n",
    "    \"datasets\": [\n",
    "        {\n",
    "            \"labels\": [\n",
    "                \"1-10.\",\n",
    "                \"1-11.\",\n",
    "                \"1-15.\",\n",
    "                \"1-16.\",\n",
    "                \"1-17.\",\n",
    "                \"1-18.\",\n",
    "                \"1-19.\",\n",
    "                \"10-4.\",\n",
    "                \"10-7.\",\n",
    "                \"11-1.\",\n",
    "                \"11-14.\",\n",
    "                \"11-17.\",\n",
    "                \"11-20.\",\n",
    "                \"11-7.\",\n",
    "                \"13-20.\",\n",
    "                \"13-8.\",\n",
    "                \"14-10.\",\n",
    "                \"14-11.\",\n",
    "                \"14-14.\",\n",
    "                \"14-7.\",\n",
    "                \"15-1.\",\n",
    "                \"15-20.\",\n",
    "                \"16-1.\",\n",
    "                \"16-16.\",\n",
    "                \"17-10.\",\n",
    "                \"17-11.\",\n",
    "                \"17-2.\",\n",
    "                \"19-1.\",\n",
    "                \"19-16.\",\n",
    "                \"19-19.\",\n",
    "                \"19-20.\",\n",
    "                \"19-3.\",\n",
    "                \"2-10.\",\n",
    "                \"2-11.\",\n",
    "                \"2-17.\",\n",
    "                \"2-18.\",\n",
    "                \"2-20.\",\n",
    "                \"2-3.\",\n",
    "                \"2-4.\",\n",
    "                \"2-5.\",\n",
    "                \"2-6.\",\n",
    "                \"2-7.\",\n",
    "                \"2-8.\",\n",
    "                \"3-13.\",\n",
    "                \"3-18.\",\n",
    "                \"3-3.\",\n",
    "                \"4-1.\",\n",
    "                \"4-10.\",\n",
    "                \"4-11.\",\n",
    "                \"4-19.\",\n",
    "                \"5-5.\",\n",
    "                \"6-15.\",\n",
    "                \"7-10.\",\n",
    "                \"7-14.\",\n",
    "                \"8-18.\",\n",
    "                \"8-20.\",\n",
    "                \"8-3.\",\n",
    "                \"8-8.\",\n",
    "            ],\n",
    "            \"domains\": [1, 2, 3, 4, 5],\n",
    "            \"num_examples_per_domain_per_label\": 100,\n",
    "            \"pickle_path\": \"/mnt/wd500GB/CSC500/csc500-main/datasets/cores.stratified_ds.2022A.pkl\",\n",
    "            \"source_or_target_dataset\": \"target\",\n",
    "            \"x_transforms\": [\"unit_mag\", \"jitter_256_1\", \"take_200\"],\n",
    "            \"episode_transforms\": [],\n",
    "            \"domain_prefix\": \"C_A_\",\n",
    "        },\n",
    "        {\n",
    "            \"labels\": [\n",
    "                \"1-10\",\n",
    "                \"1-12\",\n",
    "                \"1-14\",\n",
    "                \"1-16\",\n",
    "                \"1-18\",\n",
    "                \"1-19\",\n",
    "                \"1-8\",\n",
    "                \"10-11\",\n",
    "                \"10-17\",\n",
    "                \"10-4\",\n",
    "                \"10-7\",\n",
    "                \"11-1\",\n",
    "                \"11-10\",\n",
    "                \"11-19\",\n",
    "                \"11-20\",\n",
    "                \"11-4\",\n",
    "                \"11-7\",\n",
    "                \"12-19\",\n",
    "                \"12-20\",\n",
    "                \"12-7\",\n",
    "                \"13-14\",\n",
    "                \"13-18\",\n",
    "                \"13-19\",\n",
    "                \"13-20\",\n",
    "                \"13-3\",\n",
    "                \"13-7\",\n",
    "                \"14-10\",\n",
    "                \"14-11\",\n",
    "                \"14-12\",\n",
    "                \"14-13\",\n",
    "                \"14-14\",\n",
    "                \"14-19\",\n",
    "                \"14-20\",\n",
    "                \"14-7\",\n",
    "                \"14-8\",\n",
    "                \"14-9\",\n",
    "                \"15-1\",\n",
    "                \"15-19\",\n",
    "                \"15-6\",\n",
    "                \"16-1\",\n",
    "                \"16-16\",\n",
    "                \"16-19\",\n",
    "                \"16-20\",\n",
    "                \"17-10\",\n",
    "                \"17-11\",\n",
    "                \"18-1\",\n",
    "                \"18-10\",\n",
    "                \"18-11\",\n",
    "                \"18-12\",\n",
    "                \"18-13\",\n",
    "                \"18-14\",\n",
    "                \"18-15\",\n",
    "                \"18-16\",\n",
    "                \"18-17\",\n",
    "                \"18-19\",\n",
    "                \"18-2\",\n",
    "                \"18-20\",\n",
    "                \"18-4\",\n",
    "                \"18-5\",\n",
    "                \"18-7\",\n",
    "                \"18-8\",\n",
    "                \"18-9\",\n",
    "                \"19-1\",\n",
    "                \"19-10\",\n",
    "                \"19-11\",\n",
    "                \"19-12\",\n",
    "                \"19-13\",\n",
    "                \"19-14\",\n",
    "                \"19-15\",\n",
    "                \"19-19\",\n",
    "                \"19-2\",\n",
    "                \"19-20\",\n",
    "                \"19-3\",\n",
    "                \"19-4\",\n",
    "                \"19-6\",\n",
    "                \"19-7\",\n",
    "                \"19-8\",\n",
    "                \"19-9\",\n",
    "                \"2-1\",\n",
    "                \"2-13\",\n",
    "                \"2-15\",\n",
    "                \"2-3\",\n",
    "                \"2-4\",\n",
    "                \"2-5\",\n",
    "                \"2-6\",\n",
    "                \"2-7\",\n",
    "                \"2-8\",\n",
    "                \"20-1\",\n",
    "                \"20-12\",\n",
    "                \"20-14\",\n",
    "                \"20-15\",\n",
    "                \"20-16\",\n",
    "                \"20-18\",\n",
    "                \"20-19\",\n",
    "                \"20-20\",\n",
    "                \"20-3\",\n",
    "                \"20-4\",\n",
    "                \"20-5\",\n",
    "                \"20-7\",\n",
    "                \"20-8\",\n",
    "                \"3-1\",\n",
    "                \"3-13\",\n",
    "                \"3-18\",\n",
    "                \"3-2\",\n",
    "                \"3-8\",\n",
    "                \"4-1\",\n",
    "                \"4-10\",\n",
    "                \"4-11\",\n",
    "                \"5-1\",\n",
    "                \"5-5\",\n",
    "                \"6-1\",\n",
    "                \"6-15\",\n",
    "                \"6-6\",\n",
    "                \"7-10\",\n",
    "                \"7-11\",\n",
    "                \"7-12\",\n",
    "                \"7-13\",\n",
    "                \"7-14\",\n",
    "                \"7-7\",\n",
    "                \"7-8\",\n",
    "                \"7-9\",\n",
    "                \"8-1\",\n",
    "                \"8-13\",\n",
    "                \"8-14\",\n",
    "                \"8-18\",\n",
    "                \"8-20\",\n",
    "                \"8-3\",\n",
    "                \"8-8\",\n",
    "                \"9-1\",\n",
    "                \"9-7\",\n",
    "            ],\n",
    "            \"domains\": [1, 2, 3, 4],\n",
    "            \"num_examples_per_domain_per_label\": 100,\n",
    "            \"pickle_path\": \"/mnt/wd500GB/CSC500/csc500-main/datasets/wisig.node3-19.stratified_ds.2022A.pkl\",\n",
    "            \"source_or_target_dataset\": \"target\",\n",
    "            \"x_transforms\": [\"unit_mag\", \"jitter_256_1\", \"take_200\"],\n",
    "            \"episode_transforms\": [],\n",
    "            \"domain_prefix\": \"W_A_\",\n",
    "        },\n",
    "        {\n",
    "            \"labels\": [\n",
    "                \"3123D52\",\n",
    "                \"3123D65\",\n",
    "                \"3123D79\",\n",
    "                \"3123D80\",\n",
    "                \"3123D54\",\n",
    "                \"3123D70\",\n",
    "                \"3123D7B\",\n",
    "                \"3123D89\",\n",
    "                \"3123D58\",\n",
    "                \"3123D76\",\n",
    "                \"3123D7D\",\n",
    "                \"3123EFE\",\n",
    "                \"3123D64\",\n",
    "                \"3123D78\",\n",
    "                \"3123D7E\",\n",
    "                \"3124E4A\",\n",
    "            ],\n",
    "            \"domains\": [32, 38, 8, 44, 14, 50, 20, 26],\n",
    "            \"num_examples_per_domain_per_label\": 2000,\n",
    "            \"pickle_path\": \"/mnt/wd500GB/CSC500/csc500-main/datasets/oracle.Run1_framed_2000Examples_stratified_ds.2022A.pkl\",\n",
    "            \"source_or_target_dataset\": \"source\",\n",
    "            \"x_transforms\": [\n",
    "                \"unit_mag\",\n",
    "                \"jitter_256_1\",\n",
    "                \"take_200\",\n",
    "                \"resample_20Msps_to_25Msps\",\n",
    "            ],\n",
    "            \"episode_transforms\": [],\n",
    "            \"domain_prefix\": \"ORACLE.run1_\",\n",
    "        },\n",
    "    ],\n",
    "}\n"
   ]
  },
  {
   "cell_type": "code",
   "execution_count": 5,
   "id": "8fa1cc33",
   "metadata": {
    "execution": {
     "iopub.execute_input": "2022-03-18T10:05:47.384446Z",
     "iopub.status.busy": "2022-03-18T10:05:47.384163Z",
     "iopub.status.idle": "2022-03-18T10:05:47.397890Z",
     "shell.execute_reply": "2022-03-18T10:05:47.397581Z"
    },
    "papermill": {
     "duration": 0.030339,
     "end_time": "2022-03-18T10:05:47.397959",
     "exception": false,
     "start_time": "2022-03-18T10:05:47.367620",
     "status": "completed"
    },
    "tags": []
   },
   "outputs": [],
   "source": [
    "# Set this to True if you want to run this template directly\n",
    "STANDALONE = False\n",
    "if STANDALONE:\n",
    "    print(\"parameters not injected, running with standalone_parameters\")\n",
    "    parameters = standalone_parameters\n",
    "\n",
    "if not 'parameters' in locals() and not 'parameters' in globals():\n",
    "    raise Exception(\"Parameter injection failed\")\n",
    "\n",
    "#Use an easy dict for all the parameters\n",
    "p = EasyDict(parameters)\n",
    "\n",
    "if \"x_shape\" not in p:\n",
    "    p.x_shape = [2,256] # Default to this if we dont supply x_shape\n",
    "\n",
    "\n",
    "supplied_keys = set(p.keys())\n",
    "\n",
    "if  supplied_keys != required_parameters:\n",
    "    print(\"Parameters are incorrect\")\n",
    "    if len(supplied_keys - required_parameters)>0: print(\"Shouldn't have:\", str(supplied_keys - required_parameters))\n",
    "    if len(required_parameters - supplied_keys)>0: print(\"Need to have:\", str(required_parameters - supplied_keys))\n",
    "    raise RuntimeError(\"Parameters are incorrect\")"
   ]
  },
  {
   "cell_type": "code",
   "execution_count": 6,
   "id": "3a028d58",
   "metadata": {
    "execution": {
     "iopub.execute_input": "2022-03-18T10:05:47.429193Z",
     "iopub.status.busy": "2022-03-18T10:05:47.428943Z",
     "iopub.status.idle": "2022-03-18T10:05:47.444100Z",
     "shell.execute_reply": "2022-03-18T10:05:47.443707Z"
    },
    "papermill": {
     "duration": 0.030363,
     "end_time": "2022-03-18T10:05:47.444188",
     "exception": false,
     "start_time": "2022-03-18T10:05:47.413825",
     "status": "completed"
    },
    "tags": []
   },
   "outputs": [],
   "source": [
    "###################################\n",
    "# Set the RNGs and make it all deterministic\n",
    "###################################\n",
    "np.random.seed(p.seed)\n",
    "random.seed(p.seed)\n",
    "torch.manual_seed(p.seed)\n",
    "\n",
    "torch.use_deterministic_algorithms(True) "
   ]
  },
  {
   "cell_type": "code",
   "execution_count": 7,
   "id": "b691acf6",
   "metadata": {
    "execution": {
     "iopub.execute_input": "2022-03-18T10:05:47.473637Z",
     "iopub.status.busy": "2022-03-18T10:05:47.473388Z",
     "iopub.status.idle": "2022-03-18T10:05:47.487672Z",
     "shell.execute_reply": "2022-03-18T10:05:47.487878Z"
    },
    "papermill": {
     "duration": 0.029289,
     "end_time": "2022-03-18T10:05:47.487934",
     "exception": false,
     "start_time": "2022-03-18T10:05:47.458645",
     "status": "completed"
    },
    "tags": []
   },
   "outputs": [],
   "source": [
    "###########################################\n",
    "# The stratified datasets honor this\n",
    "###########################################\n",
    "torch.set_default_dtype(eval(p.torch_default_dtype))"
   ]
  },
  {
   "cell_type": "code",
   "execution_count": 8,
   "id": "b5fba671",
   "metadata": {
    "execution": {
     "iopub.execute_input": "2022-03-18T10:05:47.521555Z",
     "iopub.status.busy": "2022-03-18T10:05:47.520881Z",
     "iopub.status.idle": "2022-03-18T10:05:47.562533Z",
     "shell.execute_reply": "2022-03-18T10:05:47.562072Z"
    },
    "papermill": {
     "duration": 0.056342,
     "end_time": "2022-03-18T10:05:47.562633",
     "exception": false,
     "start_time": "2022-03-18T10:05:47.506291",
     "status": "completed"
    },
    "tags": []
   },
   "outputs": [],
   "source": [
    "###################################\n",
    "# Build the network(s)\n",
    "# Note: It's critical to do this AFTER setting the RNG\n",
    "###################################\n",
    "x_net = build_sequential(p.x_net)"
   ]
  },
  {
   "cell_type": "code",
   "execution_count": 9,
   "id": "5d7e61cc",
   "metadata": {
    "execution": {
     "iopub.execute_input": "2022-03-18T10:05:47.598421Z",
     "iopub.status.busy": "2022-03-18T10:05:47.598067Z",
     "iopub.status.idle": "2022-03-18T10:05:47.609503Z",
     "shell.execute_reply": "2022-03-18T10:05:47.609797Z"
    },
    "papermill": {
     "duration": 0.026884,
     "end_time": "2022-03-18T10:05:47.609878",
     "exception": false,
     "start_time": "2022-03-18T10:05:47.582994",
     "status": "completed"
    },
    "tags": []
   },
   "outputs": [],
   "source": [
    "start_time_secs = time.time()"
   ]
  },
  {
   "cell_type": "code",
   "execution_count": 10,
   "id": "c6b67dfd",
   "metadata": {
    "execution": {
     "iopub.execute_input": "2022-03-18T10:05:47.643497Z",
     "iopub.status.busy": "2022-03-18T10:05:47.643221Z",
     "iopub.status.idle": "2022-03-18T10:05:47.657109Z",
     "shell.execute_reply": "2022-03-18T10:05:47.657467Z"
    },
    "papermill": {
     "duration": 0.030146,
     "end_time": "2022-03-18T10:05:47.657571",
     "exception": false,
     "start_time": "2022-03-18T10:05:47.627425",
     "status": "completed"
    },
    "tags": []
   },
   "outputs": [],
   "source": [
    "p.domains_source = []\n",
    "p.domains_target = []\n",
    "\n",
    "\n",
    "train_original_source = []\n",
    "val_original_source   = []\n",
    "test_original_source  = []\n",
    "\n",
    "train_original_target = []\n",
    "val_original_target   = []\n",
    "test_original_target  = []"
   ]
  },
  {
   "cell_type": "code",
   "execution_count": 11,
   "id": "e3d9c3d3",
   "metadata": {
    "execution": {
     "iopub.execute_input": "2022-03-18T10:05:47.691198Z",
     "iopub.status.busy": "2022-03-18T10:05:47.690946Z",
     "iopub.status.idle": "2022-03-18T10:05:47.705278Z",
     "shell.execute_reply": "2022-03-18T10:05:47.704864Z"
    },
    "papermill": {
     "duration": 0.02974,
     "end_time": "2022-03-18T10:05:47.705365",
     "exception": false,
     "start_time": "2022-03-18T10:05:47.675625",
     "status": "completed"
    },
    "tags": []
   },
   "outputs": [],
   "source": [
    "# global_x_transform_func = lambda x: normalize(x.to(torch.get_default_dtype()), \"unit_power\") # unit_power, unit_mag\n",
    "# global_x_transform_func = lambda x: normalize(x, \"unit_power\") # unit_power, unit_mag"
   ]
  },
  {
   "cell_type": "code",
   "execution_count": 12,
   "id": "acb78fd2",
   "metadata": {
    "execution": {
     "iopub.execute_input": "2022-03-18T10:05:47.743522Z",
     "iopub.status.busy": "2022-03-18T10:05:47.743260Z",
     "iopub.status.idle": "2022-03-18T10:05:47.757311Z",
     "shell.execute_reply": "2022-03-18T10:05:47.756862Z"
    },
    "papermill": {
     "duration": 0.03368,
     "end_time": "2022-03-18T10:05:47.757400",
     "exception": false,
     "start_time": "2022-03-18T10:05:47.723720",
     "status": "completed"
    },
    "tags": []
   },
   "outputs": [],
   "source": [
    "def add_dataset(\n",
    "    labels,\n",
    "    domains,\n",
    "    pickle_path,\n",
    "    x_transforms,\n",
    "    episode_transforms,\n",
    "    domain_prefix,\n",
    "    num_examples_per_domain_per_label,\n",
    "    source_or_target_dataset:str,\n",
    "    iterator_seed=p.seed,\n",
    "    dataset_seed=p.dataset_seed,\n",
    "    n_shot=p.n_shot,\n",
    "    n_way=p.n_way,\n",
    "    n_query=p.n_query,\n",
    "    train_val_test_k_factors=(p.train_k_factor,p.val_k_factor,p.test_k_factor),\n",
    "):\n",
    "   \n",
    "    if x_transforms == []: x_transform = None\n",
    "    else: x_transform = get_chained_transform(x_transforms)\n",
    "    \n",
    "    if episode_transforms == []: episode_transform = None\n",
    "    else: raise Exception(\"episode_transforms not implemented\")\n",
    "    \n",
    "    episode_transform = lambda tup, _prefix=domain_prefix: (_prefix + str(tup[0]), tup[1])\n",
    "\n",
    "\n",
    "    eaf = Episodic_Accessor_Factory(\n",
    "        labels=labels,\n",
    "        domains=domains,\n",
    "        num_examples_per_domain_per_label=num_examples_per_domain_per_label,\n",
    "        iterator_seed=iterator_seed,\n",
    "        dataset_seed=dataset_seed,\n",
    "        n_shot=n_shot,\n",
    "        n_way=n_way,\n",
    "        n_query=n_query,\n",
    "        train_val_test_k_factors=train_val_test_k_factors,\n",
    "        pickle_path=pickle_path,\n",
    "        x_transform_func=x_transform,\n",
    "    )\n",
    "\n",
    "    train, val, test = eaf.get_train(), eaf.get_val(), eaf.get_test()\n",
    "    train = Lazy_Iterable_Wrapper(train, episode_transform)\n",
    "    val = Lazy_Iterable_Wrapper(val, episode_transform)\n",
    "    test = Lazy_Iterable_Wrapper(test, episode_transform)\n",
    "\n",
    "    if source_or_target_dataset==\"source\":\n",
    "        train_original_source.append(train)\n",
    "        val_original_source.append(val)\n",
    "        test_original_source.append(test)\n",
    "\n",
    "        p.domains_source.extend(\n",
    "            [domain_prefix + str(u) for u in domains]\n",
    "        )\n",
    "    elif source_or_target_dataset==\"target\":\n",
    "        train_original_target.append(train)\n",
    "        val_original_target.append(val)\n",
    "        test_original_target.append(test)\n",
    "        p.domains_target.extend(\n",
    "            [domain_prefix + str(u) for u in domains]\n",
    "        )\n",
    "    else:\n",
    "        raise Exception(f\"invalid source_or_target_dataset: {source_or_target_dataset}\")\n",
    "    "
   ]
  },
  {
   "cell_type": "code",
   "execution_count": 13,
   "id": "fe266617",
   "metadata": {
    "execution": {
     "iopub.execute_input": "2022-03-18T10:05:47.792184Z",
     "iopub.status.busy": "2022-03-18T10:05:47.791937Z",
     "iopub.status.idle": "2022-03-18T10:06:45.384889Z",
     "shell.execute_reply": "2022-03-18T10:06:45.385266Z"
    },
    "papermill": {
     "duration": 57.609688,
     "end_time": "2022-03-18T10:06:45.385389",
     "exception": false,
     "start_time": "2022-03-18T10:05:47.775701",
     "status": "completed"
    },
    "tags": []
   },
   "outputs": [],
   "source": [
    "for ds in p.datasets:\n",
    "    add_dataset(**ds)"
   ]
  },
  {
   "cell_type": "code",
   "execution_count": 14,
   "id": "b90d65ac",
   "metadata": {
    "execution": {
     "iopub.execute_input": "2022-03-18T10:06:45.419671Z",
     "iopub.status.busy": "2022-03-18T10:06:45.419415Z",
     "iopub.status.idle": "2022-03-18T10:06:45.432044Z",
     "shell.execute_reply": "2022-03-18T10:06:45.432336Z"
    },
    "papermill": {
     "duration": 0.028582,
     "end_time": "2022-03-18T10:06:45.432418",
     "exception": false,
     "start_time": "2022-03-18T10:06:45.403836",
     "status": "completed"
    },
    "tags": []
   },
   "outputs": [],
   "source": [
    "# from steves_utils.CORES.utils import (\n",
    "#     ALL_NODES,\n",
    "#     ALL_NODES_MINIMUM_1000_EXAMPLES,\n",
    "#     ALL_DAYS\n",
    "# )\n",
    "\n",
    "# add_dataset(\n",
    "#     labels=ALL_NODES,\n",
    "#     domains = ALL_DAYS,\n",
    "#     num_examples_per_domain_per_label=100,\n",
    "#     pickle_path=os.path.join(get_datasets_base_path(), \"cores.stratified_ds.2022A.pkl\"),\n",
    "#     source_or_target_dataset=\"target\",\n",
    "#     x_transform_func=global_x_transform_func,\n",
    "#     domain_modifier=lambda u: f\"cores_{u}\"\n",
    "# )"
   ]
  },
  {
   "cell_type": "code",
   "execution_count": 15,
   "id": "76db484d",
   "metadata": {
    "execution": {
     "iopub.execute_input": "2022-03-18T10:06:45.464778Z",
     "iopub.status.busy": "2022-03-18T10:06:45.464525Z",
     "iopub.status.idle": "2022-03-18T10:06:45.479492Z",
     "shell.execute_reply": "2022-03-18T10:06:45.479086Z"
    },
    "papermill": {
     "duration": 0.030279,
     "end_time": "2022-03-18T10:06:45.479582",
     "exception": false,
     "start_time": "2022-03-18T10:06:45.449303",
     "status": "completed"
    },
    "tags": []
   },
   "outputs": [],
   "source": [
    "# from steves_utils.ORACLE.utils_v2 import (\n",
    "#     ALL_DISTANCES_FEET,\n",
    "#     ALL_RUNS,\n",
    "#     ALL_SERIAL_NUMBERS,\n",
    "# )\n",
    "\n",
    "\n",
    "# add_dataset(\n",
    "#     labels=ALL_SERIAL_NUMBERS,\n",
    "#     domains = list(set(ALL_DISTANCES_FEET) - {2,62}),\n",
    "#     num_examples_per_domain_per_label=100,\n",
    "#     pickle_path=os.path.join(get_datasets_base_path(), \"oracle.Run2_framed_2000Examples_stratified_ds.2022A.pkl\"),\n",
    "#     source_or_target_dataset=\"source\",\n",
    "#     x_transform_func=global_x_transform_func,\n",
    "#     domain_modifier=lambda u: f\"oracle1_{u}\"\n",
    "# )\n"
   ]
  },
  {
   "cell_type": "code",
   "execution_count": 16,
   "id": "97dea9d2",
   "metadata": {
    "execution": {
     "iopub.execute_input": "2022-03-18T10:06:45.511324Z",
     "iopub.status.busy": "2022-03-18T10:06:45.511042Z",
     "iopub.status.idle": "2022-03-18T10:06:45.524996Z",
     "shell.execute_reply": "2022-03-18T10:06:45.525359Z"
    },
    "papermill": {
     "duration": 0.030164,
     "end_time": "2022-03-18T10:06:45.525465",
     "exception": false,
     "start_time": "2022-03-18T10:06:45.495301",
     "status": "completed"
    },
    "tags": []
   },
   "outputs": [],
   "source": [
    "# from steves_utils.ORACLE.utils_v2 import (\n",
    "#     ALL_DISTANCES_FEET,\n",
    "#     ALL_RUNS,\n",
    "#     ALL_SERIAL_NUMBERS,\n",
    "# )\n",
    "\n",
    "\n",
    "# add_dataset(\n",
    "#     labels=ALL_SERIAL_NUMBERS,\n",
    "#     domains = list(set(ALL_DISTANCES_FEET) - {2,62,56}),\n",
    "#     num_examples_per_domain_per_label=100,\n",
    "#     pickle_path=os.path.join(get_datasets_base_path(), \"oracle.Run2_framed_2000Examples_stratified_ds.2022A.pkl\"),\n",
    "#     source_or_target_dataset=\"source\",\n",
    "#     x_transform_func=global_x_transform_func,\n",
    "#     domain_modifier=lambda u: f\"oracle2_{u}\"\n",
    "# )"
   ]
  },
  {
   "cell_type": "code",
   "execution_count": 17,
   "id": "6f289866",
   "metadata": {
    "execution": {
     "iopub.execute_input": "2022-03-18T10:06:45.560504Z",
     "iopub.status.busy": "2022-03-18T10:06:45.560248Z",
     "iopub.status.idle": "2022-03-18T10:06:45.574968Z",
     "shell.execute_reply": "2022-03-18T10:06:45.575346Z"
    },
    "papermill": {
     "duration": 0.031125,
     "end_time": "2022-03-18T10:06:45.575453",
     "exception": false,
     "start_time": "2022-03-18T10:06:45.544328",
     "status": "completed"
    },
    "tags": []
   },
   "outputs": [],
   "source": [
    "# add_dataset(\n",
    "#     labels=list(range(19)),\n",
    "#     domains = [0,1,2],\n",
    "#     num_examples_per_domain_per_label=100,\n",
    "#     pickle_path=os.path.join(get_datasets_base_path(), \"metehan.stratified_ds.2022A.pkl\"),\n",
    "#     source_or_target_dataset=\"target\",\n",
    "#     x_transform_func=global_x_transform_func,\n",
    "#     domain_modifier=lambda u: f\"met_{u}\"\n",
    "# )"
   ]
  },
  {
   "cell_type": "code",
   "execution_count": 18,
   "id": "86a863c3",
   "metadata": {
    "execution": {
     "iopub.execute_input": "2022-03-18T10:06:45.606925Z",
     "iopub.status.busy": "2022-03-18T10:06:45.606671Z",
     "iopub.status.idle": "2022-03-18T10:06:45.620669Z",
     "shell.execute_reply": "2022-03-18T10:06:45.621025Z"
    },
    "papermill": {
     "duration": 0.029984,
     "end_time": "2022-03-18T10:06:45.621130",
     "exception": false,
     "start_time": "2022-03-18T10:06:45.591146",
     "status": "completed"
    },
    "tags": []
   },
   "outputs": [],
   "source": [
    "# # from steves_utils.wisig.utils import (\n",
    "# #     ALL_NODES_MINIMUM_100_EXAMPLES,\n",
    "# #     ALL_NODES_MINIMUM_500_EXAMPLES,\n",
    "# #     ALL_NODES_MINIMUM_1000_EXAMPLES,\n",
    "# #     ALL_DAYS\n",
    "# # )\n",
    "\n",
    "# import steves_utils.wisig.utils as wisig\n",
    "\n",
    "\n",
    "# add_dataset(\n",
    "#     labels=wisig.ALL_NODES_MINIMUM_100_EXAMPLES,\n",
    "#     domains = wisig.ALL_DAYS,\n",
    "#     num_examples_per_domain_per_label=100,\n",
    "#     pickle_path=os.path.join(get_datasets_base_path(), \"wisig.node3-19.stratified_ds.2022A.pkl\"),\n",
    "#     source_or_target_dataset=\"target\",\n",
    "#     x_transform_func=global_x_transform_func,\n",
    "#     domain_modifier=lambda u: f\"wisig_{u}\"\n",
    "# )"
   ]
  },
  {
   "cell_type": "code",
   "execution_count": 19,
   "id": "fd5442bc",
   "metadata": {
    "execution": {
     "iopub.execute_input": "2022-03-18T10:06:45.658734Z",
     "iopub.status.busy": "2022-03-18T10:06:45.658451Z",
     "iopub.status.idle": "2022-03-18T10:06:45.671576Z",
     "shell.execute_reply": "2022-03-18T10:06:45.671931Z"
    },
    "papermill": {
     "duration": 0.032244,
     "end_time": "2022-03-18T10:06:45.672037",
     "exception": false,
     "start_time": "2022-03-18T10:06:45.639793",
     "status": "completed"
    },
    "tags": []
   },
   "outputs": [],
   "source": [
    "###################################\n",
    "# Build the dataset\n",
    "###################################\n",
    "train_original_source = Iterable_Aggregator(train_original_source, p.seed)\n",
    "val_original_source = Iterable_Aggregator(val_original_source, p.seed)\n",
    "test_original_source = Iterable_Aggregator(test_original_source, p.seed)\n",
    "\n",
    "\n",
    "train_original_target = Iterable_Aggregator(train_original_target, p.seed)\n",
    "val_original_target = Iterable_Aggregator(val_original_target, p.seed)\n",
    "test_original_target = Iterable_Aggregator(test_original_target, p.seed)\n",
    "\n",
    "# For CNN We only use X and Y. And we only train on the source.\n",
    "# Properly form the data using a transform lambda and Lazy_Iterable_Wrapper. Finally wrap them in a dataloader\n",
    "\n",
    "transform_lambda = lambda ex: ex[1] # Original is (<domain>, <episode>) so we strip down to episode only\n",
    "\n",
    "train_processed_source = Lazy_Iterable_Wrapper(train_original_source, transform_lambda)\n",
    "val_processed_source   = Lazy_Iterable_Wrapper(val_original_source, transform_lambda)\n",
    "test_processed_source  = Lazy_Iterable_Wrapper(test_original_source, transform_lambda)\n",
    "\n",
    "train_processed_target = Lazy_Iterable_Wrapper(train_original_target, transform_lambda)\n",
    "val_processed_target   = Lazy_Iterable_Wrapper(val_original_target, transform_lambda)\n",
    "test_processed_target  = Lazy_Iterable_Wrapper(test_original_target, transform_lambda)\n",
    "\n",
    "datasets = EasyDict({\n",
    "    \"source\": {\n",
    "        \"original\": {\"train\":train_original_source, \"val\":val_original_source, \"test\":test_original_source},\n",
    "        \"processed\": {\"train\":train_processed_source, \"val\":val_processed_source, \"test\":test_processed_source}\n",
    "    },\n",
    "    \"target\": {\n",
    "        \"original\": {\"train\":train_original_target, \"val\":val_original_target, \"test\":test_original_target},\n",
    "        \"processed\": {\"train\":train_processed_target, \"val\":val_processed_target, \"test\":test_processed_target}\n",
    "    },\n",
    "})"
   ]
  },
  {
   "cell_type": "code",
   "execution_count": 20,
   "id": "5b3c01fc",
   "metadata": {
    "execution": {
     "iopub.execute_input": "2022-03-18T10:06:45.707058Z",
     "iopub.status.busy": "2022-03-18T10:06:45.706778Z",
     "iopub.status.idle": "2022-03-18T10:06:50.591352Z",
     "shell.execute_reply": "2022-03-18T10:06:50.590978Z"
    },
    "papermill": {
     "duration": 4.901721,
     "end_time": "2022-03-18T10:06:50.591436",
     "exception": false,
     "start_time": "2022-03-18T10:06:45.689715",
     "status": "completed"
    },
    "tags": []
   },
   "outputs": [
    {
     "name": "stdout",
     "output_type": "stream",
     "text": [
      "{'ORACLE.run1_50', 'ORACLE.run1_44', 'ORACLE.run1_20', 'ORACLE.run1_26', 'ORACLE.run1_8', 'ORACLE.run1_14', 'ORACLE.run1_32', 'ORACLE.run1_38'}\n"
     ]
    },
    {
     "name": "stdout",
     "output_type": "stream",
     "text": [
      "{'C_A_5', 'W_A_4', 'W_A_3', 'C_A_1', 'C_A_3', 'W_A_2', 'C_A_2', 'C_A_4', 'W_A_1'}\n"
     ]
    },
    {
     "name": "stdout",
     "output_type": "stream",
     "text": [
      "tensor([[[0., 0., 0.,  ..., 0., 0., 0.],\n",
      "         [0., 0., 0.,  ..., 0., 0., 0.]],\n",
      "\n",
      "        [[0., 0., 0.,  ..., 0., 0., 0.],\n",
      "         [0., 0., 0.,  ..., 0., 0., 0.]],\n",
      "\n",
      "        [[0., 0., 0.,  ..., 0., 0., 0.],\n",
      "         [0., 0., 0.,  ..., 0., 0., 0.]],\n",
      "\n",
      "        ...,\n",
      "\n",
      "        [[0., 0., 0.,  ..., 0., 0., 0.],\n",
      "         [0., 0., 0.,  ..., 0., 0., 0.]],\n",
      "\n",
      "        [[0., 0., 0.,  ..., 0., 0., 0.],\n",
      "         [0., 0., 0.,  ..., 0., 0., 0.]],\n",
      "\n",
      "        [[0., 0., 0.,  ..., 0., 0., 0.],\n",
      "         [0., 0., 0.,  ..., 0., 0., 0.]]])\n"
     ]
    }
   ],
   "source": [
    "from steves_utils.transforms import get_average_magnitude, get_average_power\n",
    "\n",
    "print(set([u for u,_ in val_original_source]))\n",
    "print(set([u for u,_ in val_original_target]))\n",
    "\n",
    "s_x, s_y, q_x, q_y, _ = next(iter(train_processed_source))\n",
    "print(s_x)\n",
    "\n",
    "# for ds in [\n",
    "#     train_processed_source,\n",
    "#     val_processed_source,\n",
    "#     test_processed_source,\n",
    "#     train_processed_target,\n",
    "#     val_processed_target,\n",
    "#     test_processed_target\n",
    "# ]:\n",
    "#     for s_x, s_y, q_x, q_y, _ in ds:\n",
    "#         for X in (s_x, q_x):\n",
    "#             for x in X:\n",
    "#                 assert np.isclose(get_average_magnitude(x.numpy()), 1.0)\n",
    "#                 assert np.isclose(get_average_power(x.numpy()), 1.0)\n",
    "                "
   ]
  },
  {
   "cell_type": "code",
   "execution_count": 21,
   "id": "bbdacba1",
   "metadata": {
    "execution": {
     "iopub.execute_input": "2022-03-18T10:06:50.637117Z",
     "iopub.status.busy": "2022-03-18T10:06:50.636852Z",
     "iopub.status.idle": "2022-03-18T10:06:50.699197Z",
     "shell.execute_reply": "2022-03-18T10:06:50.698758Z"
    },
    "papermill": {
     "duration": 0.083333,
     "end_time": "2022-03-18T10:06:50.699324",
     "exception": false,
     "start_time": "2022-03-18T10:06:50.615991",
     "status": "completed"
    },
    "tags": []
   },
   "outputs": [
    {
     "name": "stdout",
     "output_type": "stream",
     "text": [
      "(2, 256)\n"
     ]
    }
   ],
   "source": [
    "###################################\n",
    "# Build the model\n",
    "###################################\n",
    "# easfsl only wants a tuple for the shape\n",
    "model = Steves_Prototypical_Network(x_net, device=p.device, x_shape=tuple(p.x_shape))\n",
    "optimizer = Adam(params=model.parameters(), lr=p.lr)"
   ]
  },
  {
   "cell_type": "code",
   "execution_count": 22,
   "id": "22b39ac5",
   "metadata": {
    "execution": {
     "iopub.execute_input": "2022-03-18T10:06:50.741734Z",
     "iopub.status.busy": "2022-03-18T10:06:50.741355Z",
     "iopub.status.idle": "2022-03-18T10:30:44.222443Z",
     "shell.execute_reply": "2022-03-18T10:30:44.222208Z"
    },
    "papermill": {
     "duration": 1433.499019,
     "end_time": "2022-03-18T10:30:44.222502",
     "exception": false,
     "start_time": "2022-03-18T10:06:50.723483",
     "status": "completed"
    },
    "tags": []
   },
   "outputs": [
    {
     "name": "stdout",
     "output_type": "stream",
     "text": [
      "epoch: 1, [batch: 1 / 6720], examples_per_second: 49.8685, train_label_loss: 2.9136, \n"
     ]
    },
    {
     "name": "stdout",
     "output_type": "stream",
     "text": [
      "epoch: 1, [batch: 672 / 6720], examples_per_second: 3199.7937, train_label_loss: 1.1073, \n"
     ]
    },
    {
     "name": "stdout",
     "output_type": "stream",
     "text": [
      "epoch: 1, [batch: 1344 / 6720], examples_per_second: 3214.3149, train_label_loss: 1.0548, \n"
     ]
    },
    {
     "name": "stdout",
     "output_type": "stream",
     "text": [
      "epoch: 1, [batch: 2016 / 6720], examples_per_second: 3185.7136, train_label_loss: 1.8650, \n"
     ]
    },
    {
     "name": "stdout",
     "output_type": "stream",
     "text": [
      "epoch: 1, [batch: 2688 / 6720], examples_per_second: 3174.7560, train_label_loss: 1.0827, \n"
     ]
    },
    {
     "name": "stdout",
     "output_type": "stream",
     "text": [
      "epoch: 1, [batch: 3360 / 6720], examples_per_second: 3188.4941, train_label_loss: 1.2759, \n"
     ]
    },
    {
     "name": "stdout",
     "output_type": "stream",
     "text": [
      "epoch: 1, [batch: 4032 / 6720], examples_per_second: 3201.7405, train_label_loss: 1.2491, \n"
     ]
    },
    {
     "name": "stdout",
     "output_type": "stream",
     "text": [
      "epoch: 1, [batch: 4704 / 6720], examples_per_second: 3187.4036, train_label_loss: 0.7371, \n"
     ]
    },
    {
     "name": "stdout",
     "output_type": "stream",
     "text": [
      "epoch: 1, [batch: 5376 / 6720], examples_per_second: 3198.2599, train_label_loss: 0.8931, \n"
     ]
    },
    {
     "name": "stdout",
     "output_type": "stream",
     "text": [
      "epoch: 1, [batch: 6048 / 6720], examples_per_second: 3197.2842, train_label_loss: 0.8186, \n"
     ]
    },
    {
     "name": "stdout",
     "output_type": "stream",
     "text": [
      "=============================================================\n",
      "epoch: 1, source_val_acc_label: 0.5562, target_val_acc_label: 0.3898, source_val_label_loss: 18.3145, target_val_label_loss: 3496.2319, \n",
      "=============================================================\n"
     ]
    },
    {
     "name": "stdout",
     "output_type": "stream",
     "text": [
      "New best\n"
     ]
    },
    {
     "name": "stdout",
     "output_type": "stream",
     "text": [
      "epoch: 2, [batch: 1 / 6720], examples_per_second: 5.5387, train_label_loss: 38.5856, \n"
     ]
    },
    {
     "name": "stdout",
     "output_type": "stream",
     "text": [
      "epoch: 2, [batch: 672 / 6720], examples_per_second: 3222.0771, train_label_loss: 0.9406, \n"
     ]
    },
    {
     "name": "stdout",
     "output_type": "stream",
     "text": [
      "epoch: 2, [batch: 1344 / 6720], examples_per_second: 3230.5262, train_label_loss: 0.8344, \n"
     ]
    },
    {
     "name": "stdout",
     "output_type": "stream",
     "text": [
      "epoch: 2, [batch: 2016 / 6720], examples_per_second: 3224.3408, train_label_loss: 1.3681, \n"
     ]
    },
    {
     "name": "stdout",
     "output_type": "stream",
     "text": [
      "epoch: 2, [batch: 2688 / 6720], examples_per_second: 3210.3988, train_label_loss: 1.2135, \n"
     ]
    },
    {
     "name": "stdout",
     "output_type": "stream",
     "text": [
      "epoch: 2, [batch: 3360 / 6720], examples_per_second: 3224.8835, train_label_loss: 1.5929, \n"
     ]
    },
    {
     "name": "stdout",
     "output_type": "stream",
     "text": [
      "epoch: 2, [batch: 4032 / 6720], examples_per_second: 3222.7086, train_label_loss: 0.9695, \n"
     ]
    },
    {
     "name": "stdout",
     "output_type": "stream",
     "text": [
      "epoch: 2, [batch: 4704 / 6720], examples_per_second: 3209.0514, train_label_loss: 1.1753, \n"
     ]
    },
    {
     "name": "stdout",
     "output_type": "stream",
     "text": [
      "epoch: 2, [batch: 5376 / 6720], examples_per_second: 3228.3893, train_label_loss: 1.2153, \n"
     ]
    },
    {
     "name": "stdout",
     "output_type": "stream",
     "text": [
      "epoch: 2, [batch: 6048 / 6720], examples_per_second: 3223.3185, train_label_loss: 0.7136, \n"
     ]
    },
    {
     "name": "stdout",
     "output_type": "stream",
     "text": [
      "=============================================================\n",
      "epoch: 2, source_val_acc_label: 0.6458, target_val_acc_label: 0.5171, source_val_label_loss: 0.9570, target_val_label_loss: 758.6997, \n",
      "=============================================================\n"
     ]
    },
    {
     "name": "stdout",
     "output_type": "stream",
     "text": [
      "New best\n"
     ]
    },
    {
     "name": "stdout",
     "output_type": "stream",
     "text": [
      "epoch: 3, [batch: 1 / 6720], examples_per_second: 5.5552, train_label_loss: 1.1468, \n"
     ]
    },
    {
     "name": "stdout",
     "output_type": "stream",
     "text": [
      "epoch: 3, [batch: 672 / 6720], examples_per_second: 3215.2529, train_label_loss: 0.5100, \n"
     ]
    },
    {
     "name": "stdout",
     "output_type": "stream",
     "text": [
      "epoch: 3, [batch: 1344 / 6720], examples_per_second: 3224.2135, train_label_loss: 0.6818, \n"
     ]
    },
    {
     "name": "stdout",
     "output_type": "stream",
     "text": [
      "epoch: 3, [batch: 2016 / 6720], examples_per_second: 3227.6194, train_label_loss: 0.7161, \n"
     ]
    },
    {
     "name": "stdout",
     "output_type": "stream",
     "text": [
      "epoch: 3, [batch: 2688 / 6720], examples_per_second: 3212.0588, train_label_loss: 0.7281, \n"
     ]
    },
    {
     "name": "stdout",
     "output_type": "stream",
     "text": [
      "epoch: 3, [batch: 3360 / 6720], examples_per_second: 3221.3866, train_label_loss: 1.2344, \n"
     ]
    },
    {
     "name": "stdout",
     "output_type": "stream",
     "text": [
      "epoch: 3, [batch: 4032 / 6720], examples_per_second: 3215.5952, train_label_loss: 1.1198, \n"
     ]
    },
    {
     "name": "stdout",
     "output_type": "stream",
     "text": [
      "epoch: 3, [batch: 4704 / 6720], examples_per_second: 3220.2215, train_label_loss: 0.5341, \n"
     ]
    },
    {
     "name": "stdout",
     "output_type": "stream",
     "text": [
      "epoch: 3, [batch: 5376 / 6720], examples_per_second: 3225.8894, train_label_loss: 0.6782, \n"
     ]
    },
    {
     "name": "stdout",
     "output_type": "stream",
     "text": [
      "epoch: 3, [batch: 6048 / 6720], examples_per_second: 3220.1269, train_label_loss: 0.4531, \n"
     ]
    },
    {
     "name": "stdout",
     "output_type": "stream",
     "text": [
      "=============================================================\n",
      "epoch: 3, source_val_acc_label: 0.6639, target_val_acc_label: 0.5588, source_val_label_loss: 0.9087, target_val_label_loss: 927.2599, \n",
      "=============================================================\n"
     ]
    },
    {
     "name": "stdout",
     "output_type": "stream",
     "text": [
      "epoch: 4, [batch: 1 / 6720], examples_per_second: 5.5684, train_label_loss: 1.0453, \n"
     ]
    },
    {
     "name": "stdout",
     "output_type": "stream",
     "text": [
      "epoch: 4, [batch: 672 / 6720], examples_per_second: 3205.2461, train_label_loss: 0.4876, \n"
     ]
    },
    {
     "name": "stdout",
     "output_type": "stream",
     "text": [
      "epoch: 4, [batch: 1344 / 6720], examples_per_second: 3222.3083, train_label_loss: 1.1953, \n"
     ]
    },
    {
     "name": "stdout",
     "output_type": "stream",
     "text": [
      "epoch: 4, [batch: 2016 / 6720], examples_per_second: 3210.4968, train_label_loss: 1.1340, \n"
     ]
    },
    {
     "name": "stdout",
     "output_type": "stream",
     "text": [
      "epoch: 4, [batch: 2688 / 6720], examples_per_second: 3209.2851, train_label_loss: 0.6334, \n"
     ]
    },
    {
     "name": "stdout",
     "output_type": "stream",
     "text": [
      "epoch: 4, [batch: 3360 / 6720], examples_per_second: 3222.3120, train_label_loss: 0.5199, \n"
     ]
    },
    {
     "name": "stdout",
     "output_type": "stream",
     "text": [
      "epoch: 4, [batch: 4032 / 6720], examples_per_second: 3210.6227, train_label_loss: 1.2471, \n"
     ]
    },
    {
     "name": "stdout",
     "output_type": "stream",
     "text": [
      "epoch: 4, [batch: 4704 / 6720], examples_per_second: 3205.9669, train_label_loss: 0.6859, \n"
     ]
    },
    {
     "name": "stdout",
     "output_type": "stream",
     "text": [
      "epoch: 4, [batch: 5376 / 6720], examples_per_second: 3225.7768, train_label_loss: 0.8283, \n"
     ]
    },
    {
     "name": "stdout",
     "output_type": "stream",
     "text": [
      "epoch: 4, [batch: 6048 / 6720], examples_per_second: 3229.1436, train_label_loss: 0.5355, \n"
     ]
    },
    {
     "name": "stdout",
     "output_type": "stream",
     "text": [
      "=============================================================\n",
      "epoch: 4, source_val_acc_label: 0.7225, target_val_acc_label: 0.6186, source_val_label_loss: 0.7585, target_val_label_loss: 329.2343, \n",
      "=============================================================\n"
     ]
    },
    {
     "name": "stdout",
     "output_type": "stream",
     "text": [
      "New best\n"
     ]
    },
    {
     "name": "stdout",
     "output_type": "stream",
     "text": [
      "epoch: 5, [batch: 1 / 6720], examples_per_second: 5.5716, train_label_loss: 0.5382, \n"
     ]
    },
    {
     "name": "stdout",
     "output_type": "stream",
     "text": [
      "epoch: 5, [batch: 672 / 6720], examples_per_second: 3208.8702, train_label_loss: 0.5311, \n"
     ]
    },
    {
     "name": "stdout",
     "output_type": "stream",
     "text": [
      "epoch: 5, [batch: 1344 / 6720], examples_per_second: 3216.2284, train_label_loss: 0.6816, \n"
     ]
    },
    {
     "name": "stdout",
     "output_type": "stream",
     "text": [
      "epoch: 5, [batch: 2016 / 6720], examples_per_second: 3226.8207, train_label_loss: 1.2123, \n"
     ]
    },
    {
     "name": "stdout",
     "output_type": "stream",
     "text": [
      "epoch: 5, [batch: 2688 / 6720], examples_per_second: 3213.9206, train_label_loss: 0.7164, \n"
     ]
    },
    {
     "name": "stdout",
     "output_type": "stream",
     "text": [
      "epoch: 5, [batch: 3360 / 6720], examples_per_second: 3232.3904, train_label_loss: 0.5977, \n"
     ]
    },
    {
     "name": "stdout",
     "output_type": "stream",
     "text": [
      "epoch: 5, [batch: 4032 / 6720], examples_per_second: 3211.1836, train_label_loss: 0.5209, \n"
     ]
    },
    {
     "name": "stdout",
     "output_type": "stream",
     "text": [
      "epoch: 5, [batch: 4704 / 6720], examples_per_second: 3202.9271, train_label_loss: 0.3081, \n"
     ]
    },
    {
     "name": "stdout",
     "output_type": "stream",
     "text": [
      "epoch: 5, [batch: 5376 / 6720], examples_per_second: 3208.8647, train_label_loss: 0.9179, \n"
     ]
    },
    {
     "name": "stdout",
     "output_type": "stream",
     "text": [
      "epoch: 5, [batch: 6048 / 6720], examples_per_second: 3213.1001, train_label_loss: 0.5567, \n"
     ]
    },
    {
     "name": "stdout",
     "output_type": "stream",
     "text": [
      "=============================================================\n",
      "epoch: 5, source_val_acc_label: 0.7638, target_val_acc_label: 0.6013, source_val_label_loss: 0.6455, target_val_label_loss: 394.6774, \n",
      "=============================================================\n"
     ]
    },
    {
     "name": "stdout",
     "output_type": "stream",
     "text": [
      "epoch: 6, [batch: 1 / 6720], examples_per_second: 5.5619, train_label_loss: 0.5995, \n"
     ]
    },
    {
     "name": "stdout",
     "output_type": "stream",
     "text": [
      "epoch: 6, [batch: 672 / 6720], examples_per_second: 3207.4384, train_label_loss: 0.8643, \n"
     ]
    },
    {
     "name": "stdout",
     "output_type": "stream",
     "text": [
      "epoch: 6, [batch: 1344 / 6720], examples_per_second: 3213.0519, train_label_loss: 1.0075, \n"
     ]
    },
    {
     "name": "stdout",
     "output_type": "stream",
     "text": [
      "epoch: 6, [batch: 2016 / 6720], examples_per_second: 3238.3964, train_label_loss: 0.6001, \n"
     ]
    },
    {
     "name": "stdout",
     "output_type": "stream",
     "text": [
      "epoch: 6, [batch: 2688 / 6720], examples_per_second: 3207.7552, train_label_loss: 0.3057, \n"
     ]
    },
    {
     "name": "stdout",
     "output_type": "stream",
     "text": [
      "epoch: 6, [batch: 3360 / 6720], examples_per_second: 3230.2791, train_label_loss: 0.6066, \n"
     ]
    },
    {
     "name": "stdout",
     "output_type": "stream",
     "text": [
      "epoch: 6, [batch: 4032 / 6720], examples_per_second: 3228.4384, train_label_loss: 0.7068, \n"
     ]
    },
    {
     "name": "stdout",
     "output_type": "stream",
     "text": [
      "epoch: 6, [batch: 4704 / 6720], examples_per_second: 3220.2877, train_label_loss: 0.6126, \n"
     ]
    },
    {
     "name": "stdout",
     "output_type": "stream",
     "text": [
      "epoch: 6, [batch: 5376 / 6720], examples_per_second: 3220.1172, train_label_loss: 0.4654, \n"
     ]
    },
    {
     "name": "stdout",
     "output_type": "stream",
     "text": [
      "epoch: 6, [batch: 6048 / 6720], examples_per_second: 3233.5394, train_label_loss: 0.5804, \n"
     ]
    },
    {
     "name": "stdout",
     "output_type": "stream",
     "text": [
      "=============================================================\n",
      "epoch: 6, source_val_acc_label: 0.8043, target_val_acc_label: 0.5826, source_val_label_loss: 0.5407, target_val_label_loss: 526.9312, \n",
      "=============================================================\n"
     ]
    },
    {
     "name": "stdout",
     "output_type": "stream",
     "text": [
      "epoch: 7, [batch: 1 / 6720], examples_per_second: 5.5648, train_label_loss: 0.2412, \n"
     ]
    },
    {
     "name": "stdout",
     "output_type": "stream",
     "text": [
      "epoch: 7, [batch: 672 / 6720], examples_per_second: 3205.5113, train_label_loss: 0.9110, \n"
     ]
    },
    {
     "name": "stdout",
     "output_type": "stream",
     "text": [
      "epoch: 7, [batch: 1344 / 6720], examples_per_second: 3211.0661, train_label_loss: 0.3907, \n"
     ]
    },
    {
     "name": "stdout",
     "output_type": "stream",
     "text": [
      "epoch: 7, [batch: 2016 / 6720], examples_per_second: 3212.1828, train_label_loss: 0.7070, \n"
     ]
    },
    {
     "name": "stdout",
     "output_type": "stream",
     "text": [
      "epoch: 7, [batch: 2688 / 6720], examples_per_second: 3211.8978, train_label_loss: 0.6363, \n"
     ]
    },
    {
     "name": "stdout",
     "output_type": "stream",
     "text": [
      "epoch: 7, [batch: 3360 / 6720], examples_per_second: 3226.6972, train_label_loss: 0.8710, \n"
     ]
    },
    {
     "name": "stdout",
     "output_type": "stream",
     "text": [
      "epoch: 7, [batch: 4032 / 6720], examples_per_second: 3222.9905, train_label_loss: 0.2811, \n"
     ]
    },
    {
     "name": "stdout",
     "output_type": "stream",
     "text": [
      "epoch: 7, [batch: 4704 / 6720], examples_per_second: 3219.0782, train_label_loss: 0.5301, \n"
     ]
    },
    {
     "name": "stdout",
     "output_type": "stream",
     "text": [
      "epoch: 7, [batch: 5376 / 6720], examples_per_second: 3231.8118, train_label_loss: 0.3147, \n"
     ]
    },
    {
     "name": "stdout",
     "output_type": "stream",
     "text": [
      "epoch: 7, [batch: 6048 / 6720], examples_per_second: 3228.4493, train_label_loss: 0.3883, \n"
     ]
    },
    {
     "name": "stdout",
     "output_type": "stream",
     "text": [
      "=============================================================\n",
      "epoch: 7, source_val_acc_label: 0.7532, target_val_acc_label: 0.5641, source_val_label_loss: 0.6790, target_val_label_loss: 663.4760, \n",
      "=============================================================\n"
     ]
    },
    {
     "name": "stdout",
     "output_type": "stream",
     "text": [
      "epoch: 8, [batch: 1 / 6720], examples_per_second: 5.5387, train_label_loss: 0.9483, \n"
     ]
    },
    {
     "name": "stdout",
     "output_type": "stream",
     "text": [
      "epoch: 8, [batch: 672 / 6720], examples_per_second: 3213.4035, train_label_loss: 0.7409, \n"
     ]
    },
    {
     "name": "stdout",
     "output_type": "stream",
     "text": [
      "epoch: 8, [batch: 1344 / 6720], examples_per_second: 3233.5110, train_label_loss: 0.7733, \n"
     ]
    },
    {
     "name": "stdout",
     "output_type": "stream",
     "text": [
      "epoch: 8, [batch: 2016 / 6720], examples_per_second: 3234.3373, train_label_loss: 0.2904, \n"
     ]
    },
    {
     "name": "stdout",
     "output_type": "stream",
     "text": [
      "epoch: 8, [batch: 2688 / 6720], examples_per_second: 3212.5057, train_label_loss: 0.2843, \n"
     ]
    },
    {
     "name": "stdout",
     "output_type": "stream",
     "text": [
      "epoch: 8, [batch: 3360 / 6720], examples_per_second: 3230.3041, train_label_loss: 0.6220, \n"
     ]
    },
    {
     "name": "stdout",
     "output_type": "stream",
     "text": [
      "epoch: 8, [batch: 4032 / 6720], examples_per_second: 3225.4337, train_label_loss: 0.5566, \n"
     ]
    },
    {
     "name": "stdout",
     "output_type": "stream",
     "text": [
      "epoch: 8, [batch: 4704 / 6720], examples_per_second: 3218.6439, train_label_loss: 0.3919, \n"
     ]
    },
    {
     "name": "stdout",
     "output_type": "stream",
     "text": [
      "epoch: 8, [batch: 5376 / 6720], examples_per_second: 3226.7771, train_label_loss: 0.6357, \n"
     ]
    },
    {
     "name": "stdout",
     "output_type": "stream",
     "text": [
      "epoch: 8, [batch: 6048 / 6720], examples_per_second: 3224.2934, train_label_loss: 0.4776, \n"
     ]
    },
    {
     "name": "stdout",
     "output_type": "stream",
     "text": [
      "=============================================================\n",
      "epoch: 8, source_val_acc_label: 0.8174, target_val_acc_label: 0.5196, source_val_label_loss: 0.4916, target_val_label_loss: 838.0137, \n",
      "=============================================================\n"
     ]
    },
    {
     "name": "stdout",
     "output_type": "stream",
     "text": [
      "Patience (3) exhausted\n"
     ]
    }
   ],
   "source": [
    "###################################\n",
    "# train\n",
    "###################################\n",
    "jig = PTN_Train_Eval_Test_Jig(model, p.BEST_MODEL_PATH, p.device)\n",
    "\n",
    "jig.train(\n",
    "    train_iterable=datasets.source.processed.train,\n",
    "    source_val_iterable=datasets.source.processed.val,\n",
    "    target_val_iterable=datasets.target.processed.val,\n",
    "    num_epochs=p.n_epoch,\n",
    "    num_logs_per_epoch=p.NUM_LOGS_PER_EPOCH,\n",
    "    patience=p.patience,\n",
    "    optimizer=optimizer,\n",
    "    criteria_for_best=p.criteria_for_best,\n",
    ")"
   ]
  },
  {
   "cell_type": "code",
   "execution_count": 23,
   "id": "31e8fabf",
   "metadata": {
    "execution": {
     "iopub.execute_input": "2022-03-18T10:30:44.288102Z",
     "iopub.status.busy": "2022-03-18T10:30:44.287586Z",
     "iopub.status.idle": "2022-03-18T10:30:44.306518Z",
     "shell.execute_reply": "2022-03-18T10:30:44.306094Z"
    },
    "papermill": {
     "duration": 0.053181,
     "end_time": "2022-03-18T10:30:44.306628",
     "exception": false,
     "start_time": "2022-03-18T10:30:44.253447",
     "status": "completed"
    },
    "tags": []
   },
   "outputs": [],
   "source": [
    "total_experiment_time_secs = time.time() - start_time_secs"
   ]
  },
  {
   "cell_type": "code",
   "execution_count": 24,
   "id": "87b9595b",
   "metadata": {
    "execution": {
     "iopub.execute_input": "2022-03-18T10:30:44.380447Z",
     "iopub.status.busy": "2022-03-18T10:30:44.380053Z",
     "iopub.status.idle": "2022-03-18T10:31:49.513804Z",
     "shell.execute_reply": "2022-03-18T10:31:49.514185Z"
    },
    "papermill": {
     "duration": 65.170489,
     "end_time": "2022-03-18T10:31:49.514316",
     "exception": false,
     "start_time": "2022-03-18T10:30:44.343827",
     "status": "completed"
    },
    "tags": []
   },
   "outputs": [],
   "source": [
    "###################################\n",
    "# Evaluate the model\n",
    "###################################\n",
    "source_test_label_accuracy, source_test_label_loss = jig.test(datasets.source.processed.test)\n",
    "target_test_label_accuracy, target_test_label_loss = jig.test(datasets.target.processed.test)\n",
    "\n",
    "source_val_label_accuracy, source_val_label_loss = jig.test(datasets.source.processed.val)\n",
    "target_val_label_accuracy, target_val_label_loss = jig.test(datasets.target.processed.val)\n",
    "\n",
    "history = jig.get_history()\n",
    "\n",
    "total_epochs_trained = len(history[\"epoch_indices\"])\n",
    "\n",
    "val_dl = Iterable_Aggregator((datasets.source.original.val,datasets.target.original.val))\n",
    "\n",
    "confusion = ptn_confusion_by_domain_over_dataloader(model, p.device, val_dl)\n",
    "per_domain_accuracy = per_domain_accuracy_from_confusion(confusion)\n",
    "\n",
    "# Add a key to per_domain_accuracy for if it was a source domain\n",
    "for domain, accuracy in per_domain_accuracy.items():\n",
    "    per_domain_accuracy[domain] = {\n",
    "        \"accuracy\": accuracy,\n",
    "        \"source?\": domain in p.domains_source\n",
    "    }\n",
    "\n",
    "# Do an independent accuracy assesment JUST TO BE SURE!\n",
    "# _source_test_label_accuracy = independent_accuracy_assesment(model, datasets.source.processed.test, p.device)\n",
    "# _target_test_label_accuracy = independent_accuracy_assesment(model, datasets.target.processed.test, p.device)\n",
    "# _source_val_label_accuracy = independent_accuracy_assesment(model, datasets.source.processed.val, p.device)\n",
    "# _target_val_label_accuracy = independent_accuracy_assesment(model, datasets.target.processed.val, p.device)\n",
    "\n",
    "# assert(_source_test_label_accuracy == source_test_label_accuracy)\n",
    "# assert(_target_test_label_accuracy == target_test_label_accuracy)\n",
    "# assert(_source_val_label_accuracy == source_val_label_accuracy)\n",
    "# assert(_target_val_label_accuracy == target_val_label_accuracy)\n",
    "\n",
    "experiment = {\n",
    "    \"experiment_name\": p.experiment_name,\n",
    "    \"parameters\": dict(p),\n",
    "    \"results\": {\n",
    "        \"source_test_label_accuracy\": source_test_label_accuracy,\n",
    "        \"source_test_label_loss\": source_test_label_loss,\n",
    "        \"target_test_label_accuracy\": target_test_label_accuracy,\n",
    "        \"target_test_label_loss\": target_test_label_loss,\n",
    "        \"source_val_label_accuracy\": source_val_label_accuracy,\n",
    "        \"source_val_label_loss\": source_val_label_loss,\n",
    "        \"target_val_label_accuracy\": target_val_label_accuracy,\n",
    "        \"target_val_label_loss\": target_val_label_loss,\n",
    "        \"total_epochs_trained\": total_epochs_trained,\n",
    "        \"total_experiment_time_secs\": total_experiment_time_secs,\n",
    "        \"confusion\": confusion,\n",
    "        \"per_domain_accuracy\": per_domain_accuracy,\n",
    "    },\n",
    "    \"history\": history,\n",
    "    \"dataset_metrics\": get_dataset_metrics(datasets, \"ptn\"),\n",
    "}"
   ]
  },
  {
   "cell_type": "code",
   "execution_count": 25,
   "id": "54a21829",
   "metadata": {
    "execution": {
     "iopub.execute_input": "2022-03-18T10:31:49.583606Z",
     "iopub.status.busy": "2022-03-18T10:31:49.583342Z",
     "iopub.status.idle": "2022-03-18T10:31:49.710598Z",
     "shell.execute_reply": "2022-03-18T10:31:49.711018Z"
    },
    "papermill": {
     "duration": 0.160981,
     "end_time": "2022-03-18T10:31:49.711149",
     "exception": false,
     "start_time": "2022-03-18T10:31:49.550168",
     "status": "completed"
    },
    "tags": []
   },
   "outputs": [
    {
     "data": {
      "image/png": "[encoded data removed]",
      "text/plain": [
       "<Figure size 1080x504 with 1 Axes>"
      ]
     },
     "metadata": {
      "needs_background": "light"
     },
     "output_type": "display_data"
    }
   ],
   "source": [
    "ax = get_loss_curve(experiment)\n",
    "plt.show()"
   ]
  },
  {
   "cell_type": "code",
   "execution_count": 26,
   "id": "fd8a0f60",
   "metadata": {
    "execution": {
     "iopub.execute_input": "2022-03-18T10:31:49.783119Z",
     "iopub.status.busy": "2022-03-18T10:31:49.782853Z",
     "iopub.status.idle": "2022-03-18T10:31:49.926055Z",
     "shell.execute_reply": "2022-03-18T10:31:49.926282Z"
    },
    "papermill": {
     "duration": 0.177146,
     "end_time": "2022-03-18T10:31:49.926363",
     "exception": false,
     "start_time": "2022-03-18T10:31:49.749217",
     "status": "completed"
    },
    "tags": []
   },
   "outputs": [
    {
     "data": {
      "text/plain": [
       "<AxesSubplot:title={'center':'Results'}>"
      ]
     },
     "execution_count": 26,
     "metadata": {},
     "output_type": "execute_result"
    },
    {
     "data": {
      "image/png": "[encoded data removed]",
      "text/plain": [
       "<Figure size 1080x504 with 1 Axes>"
      ]
     },
     "metadata": {
      "needs_background": "light"
     },
     "output_type": "display_data"
    }
   ],
   "source": [
    "get_results_table(experiment)"
   ]
  },
  {
   "cell_type": "code",
   "execution_count": 27,
   "id": "cf8dc689",
   "metadata": {
    "execution": {
     "iopub.execute_input": "2022-03-18T10:31:49.996606Z",
     "iopub.status.busy": "2022-03-18T10:31:49.996316Z",
     "iopub.status.idle": "2022-03-18T10:31:50.159585Z",
     "shell.execute_reply": "2022-03-18T10:31:50.160005Z"
    },
    "papermill": {
     "duration": 0.199485,
     "end_time": "2022-03-18T10:31:50.160137",
     "exception": false,
     "start_time": "2022-03-18T10:31:49.960652",
     "status": "completed"
    },
    "tags": []
   },
   "outputs": [
    {
     "data": {
      "text/plain": [
       "<AxesSubplot:title={'center':'Per Domain Validation Accuracy'}, xlabel='domain'>"
      ]
     },
     "execution_count": 27,
     "metadata": {},
     "output_type": "execute_result"
    },
    {
     "data": {
      "image/png": "[encoded data removed]",
      "text/plain": [
       "<Figure size 1080x504 with 1 Axes>"
      ]
     },
     "metadata": {
      "needs_background": "light"
     },
     "output_type": "display_data"
    }
   ],
   "source": [
    "get_domain_accuracies(experiment)"
   ]
  },
  {
   "cell_type": "code",
   "execution_count": 28,
   "id": "a74ae082",
   "metadata": {
    "execution": {
     "iopub.execute_input": "2022-03-18T10:31:50.242743Z",
     "iopub.status.busy": "2022-03-18T10:31:50.242482Z",
     "iopub.status.idle": "2022-03-18T10:31:50.258863Z",
     "shell.execute_reply": "2022-03-18T10:31:50.259223Z"
    },
    "papermill": {
     "duration": 0.053138,
     "end_time": "2022-03-18T10:31:50.259355",
     "exception": false,
     "start_time": "2022-03-18T10:31:50.206217",
     "status": "completed"
    },
    "tags": []
   },
   "outputs": [
    {
     "name": "stdout",
     "output_type": "stream",
     "text": [
      "Source Test Label Accuracy: 0.7279947916666667 Target Test Label Accuracy: 0.6138698630136986\n",
      "Source Val Label Accuracy: 0.7225260416666667 Target Val Label Accuracy: 0.6185787671232876\n"
     ]
    }
   ],
   "source": [
    "print(\"Source Test Label Accuracy:\", experiment[\"results\"][\"source_test_label_accuracy\"], \"Target Test Label Accuracy:\", experiment[\"results\"][\"target_test_label_accuracy\"])\n",
    "print(\"Source Val Label Accuracy:\", experiment[\"results\"][\"source_val_label_accuracy\"], \"Target Val Label Accuracy:\", experiment[\"results\"][\"target_val_label_accuracy\"])"
   ]
  },
  {
   "cell_type": "code",
   "execution_count": 29,
   "id": "dacca602",
   "metadata": {
    "execution": {
     "iopub.execute_input": "2022-03-18T10:31:50.342162Z",
     "iopub.status.busy": "2022-03-18T10:31:50.332912Z",
     "iopub.status.idle": "2022-03-18T10:31:50.348793Z",
     "shell.execute_reply": "2022-03-18T10:31:50.349176Z"
    },
    "papermill": {
     "duration": 0.051729,
     "end_time": "2022-03-18T10:31:50.349285",
     "exception": false,
     "start_time": "2022-03-18T10:31:50.297556",
     "status": "completed"
    },
    "tags": [
     "experiment_json"
    ]
   },
   "outputs": [
    {
     "data": {
      "text/plain": [
       "'{\"experiment_name\": \"tl_3-jitter1:oracle.run1.framed -> cores+wisig\", \"parameters\": {\"experiment_name\": \"tl_3-jitter1:oracle.run1.framed -> cores+wisig\", \"device\": \"cuda\", \"lr\": 0.001, \"seed\": 1337, \"dataset_seed\": 1337, \"n_shot\": 3, \"n_query\": 2, \"train_k_factor\": 3, \"val_k_factor\": 2, \"test_k_factor\": 2, \"torch_default_dtype\": \"torch.float32\", \"n_epoch\": 50, \"patience\": 3, \"criteria_for_best\": \"target_loss\", \"x_net\": [{\"class\": \"nnReshape\", \"kargs\": {\"shape\": [-1, 1, 2, 256]}}, {\"class\": \"Conv2d\", \"kargs\": {\"in_channels\": 1, \"out_channels\": 256, \"kernel_size\": [1, 7], \"bias\": false, \"padding\": [0, 3]}}, {\"class\": \"ReLU\", \"kargs\": {\"inplace\": true}}, {\"class\": \"BatchNorm2d\", \"kargs\": {\"num_features\": 256}}, {\"class\": \"Conv2d\", \"kargs\": {\"in_channels\": 256, \"out_channels\": 80, \"kernel_size\": [2, 7], \"bias\": true, \"padding\": [0, 3]}}, {\"class\": \"ReLU\", \"kargs\": {\"inplace\": true}}, {\"class\": \"BatchNorm2d\", \"kargs\": {\"num_features\": 80}}, {\"class\": \"Flatten\", \"kargs\": {}}, {\"class\": \"Linear\", \"kargs\": {\"in_features\": 20480, \"out_features\": 256}}, {\"class\": \"ReLU\", \"kargs\": {\"inplace\": true}}, {\"class\": \"BatchNorm1d\", \"kargs\": {\"num_features\": 256}}, {\"class\": \"Linear\", \"kargs\": {\"in_features\": 256, \"out_features\": 256}}], \"NUM_LOGS_PER_EPOCH\": 10, \"BEST_MODEL_PATH\": \"./best_model.pth\", \"n_way\": 16, \"datasets\": [{\"labels\": [\"1-10.\", \"1-11.\", \"1-15.\", \"1-16.\", \"1-17.\", \"1-18.\", \"1-19.\", \"10-4.\", \"10-7.\", \"11-1.\", \"11-14.\", \"11-17.\", \"11-20.\", \"11-7.\", \"13-20.\", \"13-8.\", \"14-10.\", \"14-11.\", \"14-14.\", \"14-7.\", \"15-1.\", \"15-20.\", \"16-1.\", \"16-16.\", \"17-10.\", \"17-11.\", \"17-2.\", \"19-1.\", \"19-16.\", \"19-19.\", \"19-20.\", \"19-3.\", \"2-10.\", \"2-11.\", \"2-17.\", \"2-18.\", \"2-20.\", \"2-3.\", \"2-4.\", \"2-5.\", \"2-6.\", \"2-7.\", \"2-8.\", \"3-13.\", \"3-18.\", \"3-3.\", \"4-1.\", \"4-10.\", \"4-11.\", \"4-19.\", \"5-5.\", \"6-15.\", \"7-10.\", \"7-14.\", \"8-18.\", \"8-20.\", \"8-3.\", \"8-8.\"], \"domains\": [1, 2, 3, 4, 5], \"num_examples_per_domain_per_label\": 100, \"pickle_path\": \"/mnt/wd500GB/CSC500/csc500-main/datasets/cores.stratified_ds.2022A.pkl\", \"source_or_target_dataset\": \"target\", \"x_transforms\": [\"unit_mag\", \"jitter_256_1\", \"take_200\"], \"episode_transforms\": [], \"domain_prefix\": \"C_A_\"}, {\"labels\": [\"1-10\", \"1-12\", \"1-14\", \"1-16\", \"1-18\", \"1-19\", \"1-8\", \"10-11\", \"10-17\", \"10-4\", \"10-7\", \"11-1\", \"11-10\", \"11-19\", \"11-20\", \"11-4\", \"11-7\", \"12-19\", \"12-20\", \"12-7\", \"13-14\", \"13-18\", \"13-19\", \"13-20\", \"13-3\", \"13-7\", \"14-10\", \"14-11\", \"14-12\", \"14-13\", \"14-14\", \"14-19\", \"14-20\", \"14-7\", \"14-8\", \"14-9\", \"15-1\", \"15-19\", \"15-6\", \"16-1\", \"16-16\", \"16-19\", \"16-20\", \"17-10\", \"17-11\", \"18-1\", \"18-10\", \"18-11\", \"18-12\", \"18-13\", \"18-14\", \"18-15\", \"18-16\", \"18-17\", \"18-19\", \"18-2\", \"18-20\", \"18-4\", \"18-5\", \"18-7\", \"18-8\", \"18-9\", \"19-1\", \"19-10\", \"19-11\", \"19-12\", \"19-13\", \"19-14\", \"19-15\", \"19-19\", \"19-2\", \"19-20\", \"19-3\", \"19-4\", \"19-6\", \"19-7\", \"19-8\", \"19-9\", \"2-1\", \"2-13\", \"2-15\", \"2-3\", \"2-4\", \"2-5\", \"2-6\", \"2-7\", \"2-8\", \"20-1\", \"20-12\", \"20-14\", \"20-15\", \"20-16\", \"20-18\", \"20-19\", \"20-20\", \"20-3\", \"20-4\", \"20-5\", \"20-7\", \"20-8\", \"3-1\", \"3-13\", \"3-18\", \"3-2\", \"3-8\", \"4-1\", \"4-10\", \"4-11\", \"5-1\", \"5-5\", \"6-1\", \"6-15\", \"6-6\", \"7-10\", \"7-11\", \"7-12\", \"7-13\", \"7-14\", \"7-7\", \"7-8\", \"7-9\", \"8-1\", \"8-13\", \"8-14\", \"8-18\", \"8-20\", \"8-3\", \"8-8\", \"9-1\", \"9-7\"], \"domains\": [1, 2, 3, 4], \"num_examples_per_domain_per_label\": 100, \"pickle_path\": \"/mnt/wd500GB/CSC500/csc500-main/datasets/wisig.node3-19.stratified_ds.2022A.pkl\", \"source_or_target_dataset\": \"target\", \"x_transforms\": [\"unit_mag\", \"jitter_256_1\", \"take_200\"], \"episode_transforms\": [], \"domain_prefix\": \"W_A_\"}, {\"labels\": [\"3123D52\", \"3123D65\", \"3123D79\", \"3123D80\", \"3123D54\", \"3123D70\", \"3123D7B\", \"3123D89\", \"3123D58\", \"3123D76\", \"3123D7D\", \"3123EFE\", \"3123D64\", \"3123D78\", \"3123D7E\", \"3124E4A\"], \"domains\": [32, 38, 8, 44, 14, 50, 20, 26], \"num_examples_per_domain_per_label\": 2000, \"pickle_path\": \"/mnt/wd500GB/CSC500/csc500-main/datasets/oracle.Run1_framed_2000Examples_stratified_ds.2022A.pkl\", \"source_or_target_dataset\": \"source\", \"x_transforms\": [\"unit_mag\", \"jitter_256_1\", \"take_200\", \"resample_20Msps_to_25Msps\"], \"episode_transforms\": [], \"domain_prefix\": \"ORACLE.run1_\"}], \"x_shape\": [2, 256], \"domains_source\": [\"ORACLE.run1_32\", \"ORACLE.run1_38\", \"ORACLE.run1_8\", \"ORACLE.run1_44\", \"ORACLE.run1_14\", \"ORACLE.run1_50\", \"ORACLE.run1_20\", \"ORACLE.run1_26\"], \"domains_target\": [\"C_A_1\", \"C_A_2\", \"C_A_3\", \"C_A_4\", \"C_A_5\", \"W_A_1\", \"W_A_2\", \"W_A_3\", \"W_A_4\"]}, \"results\": {\"source_test_label_accuracy\": 0.7279947916666667, \"source_test_label_loss\": 0.7472736835479736, \"target_test_label_accuracy\": 0.6138698630136986, \"target_test_label_loss\": 332.7583312988281, \"source_val_label_accuracy\": 0.7225260416666667, \"source_val_label_loss\": 0.7584519982337952, \"target_val_label_accuracy\": 0.6185787671232876, \"target_val_label_loss\": 329.2342834472656, \"total_epochs_trained\": 8, \"total_experiment_time_secs\": 1496.6966545581818, \"confusion\": {\"ORACLE.run1_14\": {\"15\": {\"15\": 234, \"7\": 6}, \"3\": {\"3\": 224, \"14\": 4, \"2\": 3, \"4\": 6, \"5\": 2, \"0\": 1}, \"6\": {\"13\": 75, \"6\": 138, \"2\": 13, \"14\": 14}, \"1\": {\"1\": 209, \"5\": 20, \"4\": 10, \"2\": 1}, \"8\": {\"8\": 240}, \"10\": {\"10\": 218, \"0\": 21, \"13\": 1}, \"9\": {\"9\": 240}, \"13\": {\"14\": 66, \"13\": 73, \"2\": 23, \"6\": 76, \"5\": 1, \"3\": 1}, \"12\": {\"12\": 239, \"9\": 1}, \"5\": {\"5\": 151, \"4\": 44, \"1\": 27, \"2\": 14, \"3\": 3, \"7\": 1}, \"0\": {\"0\": 207, \"10\": 25, \"11\": 4, \"3\": 4}, \"2\": {\"6\": 17, \"2\": 116, \"3\": 11, \"14\": 36, \"13\": 18, \"5\": 30, \"15\": 3, \"4\": 6, \"7\": 3}, \"11\": {\"11\": 223, \"9\": 15, \"0\": 2}, \"14\": {\"14\": 174, \"6\": 12, \"13\": 36, \"2\": 15, \"3\": 3}, \"7\": {\"7\": 238, \"5\": 1, \"15\": 1}, \"4\": {\"4\": 188, \"5\": 37, \"1\": 9, \"3\": 4, \"6\": 1, \"2\": 1}}, \"ORACLE.run1_20\": {\"3\": {\"3\": 116, \"4\": 7, \"9\": 48, \"12\": 42, \"2\": 16, \"8\": 2, \"0\": 1, \"7\": 3, \"5\": 4, \"1\": 1}, \"15\": {\"15\": 140, \"0\": 29, \"1\": 48, \"5\": 13, \"13\": 4, \"12\": 6}, \"8\": {\"8\": 189, \"7\": 9, \"10\": 2, \"4\": 27, \"14\": 4, \"3\": 6, \"2\": 1, \"6\": 2}, \"4\": {\"4\": 185, \"5\": 3, \"10\": 6, \"8\": 34, \"3\": 9, \"7\": 1, \"12\": 1, \"2\": 1}, \"14\": {\"6\": 25, \"14\": 195, \"8\": 5, \"10\": 15}, \"0\": {\"1\": 27, \"5\": 57, \"4\": 1, \"0\": 98, \"15\": 41, \"9\": 2, \"3\": 1, \"8\": 1, \"12\": 9, \"13\": 2, \"2\": 1}, \"7\": {\"2\": 27, \"8\": 10, \"7\": 180, \"3\": 8, \"9\": 14, \"5\": 1}, \"6\": {\"6\": 222, \"14\": 17, \"10\": 1}, \"10\": {\"10\": 224, \"14\": 14, \"8\": 2}, \"5\": {\"5\": 114, \"1\": 36, \"0\": 62, \"15\": 8, \"12\": 19, \"3\": 1}, \"2\": {\"2\": 95, \"9\": 75, \"13\": 21, \"7\": 25, \"3\": 12, \"12\": 11, \"5\": 1}, \"12\": {\"12\": 126, \"3\": 42, \"9\": 11, \"1\": 26, \"0\": 7, \"2\": 7, \"5\": 19, \"7\": 1, \"13\": 1}, \"9\": {\"9\": 113, \"2\": 74, \"3\": 26, \"13\": 6, \"12\": 9, \"7\": 10, \"5\": 1, \"1\": 1}, \"1\": {\"1\": 116, \"0\": 16, \"12\": 40, \"5\": 41, \"15\": 25, \"3\": 2}, \"11\": {\"11\": 240}, \"13\": {\"13\": 208, \"2\": 19, \"1\": 6, \"5\": 2, \"12\": 1, \"9\": 1, \"15\": 3}}, \"ORACLE.run1_38\": {\"5\": {\"5\": 131, \"8\": 50, \"0\": 5, \"1\": 2, \"15\": 7, \"7\": 25, \"9\": 11, \"6\": 7, \"13\": 2}, \"8\": {\"8\": 153, \"7\": 19, \"0\": 23, \"1\": 2, \"15\": 2, \"5\": 31, \"13\": 3, \"10\": 7}, \"11\": {\"11\": 209, \"14\": 24, \"12\": 4, \"3\": 1, \"10\": 1, \"4\": 1}, \"1\": {\"1\": 228, \"15\": 12}, \"10\": {\"10\": 185, \"12\": 7, \"7\": 7, \"13\": 20, \"14\": 6, \"8\": 11, \"15\": 1, \"4\": 2, \"0\": 1}, \"15\": {\"13\": 37, \"15\": 174, \"8\": 10, \"1\": 17, \"5\": 2}, \"3\": {\"3\": 219, \"9\": 4, \"0\": 9, \"7\": 8}, \"7\": {\"7\": 167, \"0\": 43, \"5\": 15, \"8\": 9, \"4\": 1, \"9\": 1, \"3\": 2, \"10\": 2}, \"4\": {\"4\": 218, \"12\": 21, \"10\": 1}, \"14\": {\"14\": 203, \"11\": 6, \"10\": 6, \"2\": 25}, \"9\": {\"9\": 177, \"6\": 47, \"5\": 10, \"3\": 5, \"0\": 1}, \"12\": {\"12\": 227, \"4\": 8, \"10\": 5}, \"6\": {\"6\": 218, \"5\": 1, \"9\": 21}, \"2\": {\"14\": 25, \"2\": 202, \"13\": 12, \"10\": 1}, \"0\": {\"8\": 35, \"0\": 115, \"5\": 12, \"13\": 7, \"7\": 40, \"3\": 16, \"4\": 2, \"15\": 1, \"10\": 12}, \"13\": {\"13\": 173, \"14\": 3, \"15\": 33, \"10\": 14, \"2\": 13, \"0\": 1, \"5\": 1, \"8\": 2}}, \"ORACLE.run1_8\": {\"9\": {\"9\": 240}, \"10\": {\"10\": 172, \"4\": 7, \"13\": 13, \"14\": 46, \"5\": 2}, \"13\": {\"13\": 93, \"0\": 48, \"6\": 17, \"4\": 39, \"14\": 24, \"10\": 19}, \"0\": {\"13\": 36, \"0\": 179, \"7\": 12, \"4\": 5, \"6\": 6, \"14\": 2}, \"1\": {\"1\": 202, \"5\": 9, \"11\": 26, \"10\": 2, \"14\": 1}, \"15\": {\"15\": 194, \"8\": 8, \"12\": 38}, \"5\": {\"5\": 205, \"11\": 3, \"1\": 13, \"14\": 6, \"10\": 13}, \"3\": {\"2\": 11, \"3\": 227, \"12\": 2}, \"6\": {\"0\": 6, \"4\": 18, \"6\": 151, \"7\": 57, \"13\": 8}, \"11\": {\"11\": 199, \"1\": 30, \"5\": 7, \"14\": 4}, \"8\": {\"8\": 225, \"15\": 15}, \"4\": {\"10\": 4, \"13\": 62, \"6\": 22, \"4\": 124, \"14\": 22, \"0\": 6}, \"12\": {\"12\": 134, \"15\": 64, \"3\": 37, \"8\": 2, \"2\": 3}, \"14\": {\"10\": 54, \"14\": 128, \"1\": 12, \"4\": 27, \"5\": 2, \"13\": 14, \"11\": 2, \"0\": 1}, \"2\": {\"15\": 4, \"2\": 203, \"7\": 8, \"3\": 24, \"6\": 1}, \"7\": {\"7\": 194, \"0\": 1, \"6\": 42, \"13\": 2, \"4\": 1}}, \"ORACLE.run1_50\": {\"7\": {\"7\": 169, \"13\": 33, \"5\": 25, \"10\": 7, \"6\": 4, \"8\": 2}, \"3\": {\"3\": 238, \"8\": 2}, \"8\": {\"8\": 227, \"10\": 11, \"3\": 2}, \"2\": {\"2\": 221, \"0\": 19}, \"14\": {\"14\": 238, \"11\": 1, \"12\": 1}, \"4\": {\"15\": 44, \"4\": 128, \"1\": 22, \"5\": 23, \"6\": 14, \"13\": 5, \"7\": 4}, \"6\": {\"4\": 15, \"15\": 5, \"6\": 160, \"1\": 16, \"13\": 33, \"5\": 8, \"7\": 3}, \"15\": {\"15\": 148, \"4\": 32, \"1\": 39, \"11\": 16, \"6\": 4, \"5\": 1}, \"10\": {\"10\": 212, \"0\": 7, \"13\": 9, \"8\": 8, \"7\": 4}, \"11\": {\"11\": 207, \"9\": 11, \"15\": 12, \"12\": 7, \"1\": 2, \"4\": 1}, \"13\": {\"13\": 162, \"7\": 24, \"6\": 20, \"5\": 24, \"10\": 9, \"0\": 1}, \"9\": {\"9\": 199, \"12\": 21, \"11\": 20}, \"0\": {\"0\": 193, \"10\": 16, \"2\": 29, \"13\": 1, \"1\": 1}, \"1\": {\"15\": 30, \"4\": 13, \"1\": 167, \"6\": 20, \"13\": 1, \"11\": 4, \"2\": 1, \"5\": 4}, \"12\": {\"12\": 218, \"9\": 14, \"14\": 6, \"11\": 2}, \"5\": {\"5\": 91, \"4\": 37, \"7\": 45, \"13\": 35, \"6\": 10, \"1\": 19, \"15\": 3}}, \"ORACLE.run1_32\": {\"8\": {\"8\": 172, \"5\": 25, \"0\": 21, \"14\": 4, \"13\": 14, \"7\": 1, \"3\": 2, \"4\": 1}, \"14\": {\"14\": 109, \"11\": 57, \"3\": 8, \"0\": 14, \"7\": 35, \"5\": 9, \"8\": 3, \"13\": 3, \"4\": 2}, \"2\": {\"2\": 188, \"4\": 49, \"0\": 2, \"7\": 1}, \"0\": {\"2\": 3, \"0\": 166, \"5\": 9, \"7\": 21, \"14\": 9, \"8\": 24, \"4\": 5, \"13\": 3}, \"1\": {\"1\": 237, \"10\": 3}, \"10\": {\"10\": 240}, \"11\": {\"11\": 174, \"14\": 42, \"7\": 18, \"5\": 3, \"3\": 1, \"13\": 2}, \"5\": {\"7\": 38, \"11\": 9, \"5\": 54, \"3\": 30, \"13\": 45, \"8\": 31, \"4\": 11, \"14\": 13, \"0\": 9}, \"15\": {\"15\": 240}, \"3\": {\"3\": 216, \"14\": 4, \"5\": 10, \"13\": 7, \"11\": 3}, \"12\": {\"12\": 240}, \"7\": {\"7\": 113, \"13\": 26, \"14\": 24, \"5\": 21, \"4\": 34, \"0\": 9, \"11\": 9, \"3\": 1, \"8\": 2, \"2\": 1}, \"13\": {\"13\": 122, \"7\": 25, \"4\": 28, \"5\": 30, \"11\": 5, \"14\": 6, \"8\": 14, \"0\": 3, \"3\": 7}, \"6\": {\"6\": 240}, \"4\": {\"4\": 156, \"2\": 46, \"7\": 22, \"13\": 8, \"0\": 5, \"5\": 2, \"8\": 1}, \"9\": {\"9\": 239, \"12\": 1}}, \"ORACLE.run1_26\": {\"4\": {\"14\": 49, \"10\": 9, \"4\": 93, \"0\": 22, \"7\": 22, \"1\": 11, \"2\": 1, \"8\": 33}, \"12\": {\"12\": 238, \"11\": 2}, \"10\": {\"4\": 14, \"10\": 98, \"8\": 33, \"0\": 49, \"14\": 26, \"1\": 4, \"6\": 13, \"5\": 1, \"9\": 1, \"15\": 1}, \"0\": {\"4\": 36, \"0\": 61, \"1\": 4, \"6\": 9, \"10\": 49, \"14\": 51, \"8\": 27, \"9\": 2, \"7\": 1}, \"13\": {\"13\": 175, \"5\": 35, \"2\": 5, \"9\": 16, \"15\": 6, \"6\": 3}, \"9\": {\"13\": 15, \"15\": 97, \"9\": 92, \"7\": 2, \"6\": 17, \"8\": 5, \"2\": 3, \"10\": 3, \"5\": 6}, \"3\": {\"3\": 144, \"2\": 70, \"7\": 24, \"5\": 2}, \"2\": {\"2\": 87, \"7\": 32, \"5\": 26, \"3\": 74, \"15\": 7, \"8\": 4, \"9\": 7, \"4\": 2, \"13\": 1}, \"5\": {\"5\": 173, \"13\": 20, \"15\": 17, \"9\": 10, \"7\": 4, \"3\": 5, \"8\": 2, \"2\": 9}, \"14\": {\"4\": 52, \"14\": 89, \"1\": 38, \"0\": 39, \"10\": 16, \"8\": 5, \"7\": 1}, \"8\": {\"8\": 90, \"7\": 25, \"4\": 37, \"14\": 11, \"6\": 7, \"10\": 32, \"0\": 11, \"9\": 9, \"15\": 15, \"2\": 1, \"1\": 1, \"5\": 1}, \"7\": {\"7\": 152, \"3\": 20, \"8\": 11, \"2\": 27, \"4\": 18, \"5\": 1, \"9\": 1, \"0\": 3, \"14\": 2, \"10\": 2, \"15\": 3}, \"6\": {\"6\": 183, \"10\": 16, \"4\": 2, \"9\": 16, \"15\": 16, \"8\": 3, \"14\": 1, \"0\": 2, \"13\": 1}, \"11\": {\"11\": 239, \"12\": 1}, \"15\": {\"9\": 75, \"15\": 78, \"5\": 17, \"0\": 2, \"8\": 23, \"13\": 20, \"7\": 4, \"2\": 5, \"6\": 11, \"10\": 4, \"4\": 1}, \"1\": {\"1\": 170, \"14\": 53, \"4\": 10, \"7\": 2, \"10\": 2, \"8\": 2, \"0\": 1}}, \"ORACLE.run1_44\": {\"12\": {\"12\": 184, \"1\": 48, \"10\": 7, \"3\": 1}, \"7\": {\"7\": 144, \"2\": 34, \"9\": 48, \"6\": 6, \"1\": 3, \"13\": 3, \"3\": 2}, \"5\": {\"5\": 178, \"14\": 11, \"0\": 18, \"15\": 21, \"4\": 5, \"8\": 7}, \"15\": {\"15\": 177, \"14\": 16, \"0\": 31, \"8\": 4, \"5\": 10, \"4\": 2}, \"8\": {\"0\": 103, \"8\": 123, \"15\": 9, \"5\": 5}, \"2\": {\"2\": 173, \"1\": 12, \"7\": 44, \"10\": 8, \"3\": 1, \"9\": 1, \"6\": 1}, \"13\": {\"6\": 42, \"13\": 157, \"9\": 33, \"11\": 7, \"7\": 1}, \"4\": {\"4\": 168, \"14\": 69, \"15\": 3}, \"0\": {\"8\": 78, \"15\": 14, \"5\": 15, \"0\": 133}, \"6\": {\"9\": 26, \"6\": 157, \"7\": 12, \"13\": 41, \"11\": 4}, \"9\": {\"13\": 27, \"7\": 43, \"9\": 143, \"6\": 20, \"4\": 3, \"1\": 1, \"2\": 3}, \"11\": {\"11\": 216, \"13\": 18, \"6\": 6}, \"10\": {\"1\": 20, \"10\": 183, \"12\": 15, \"2\": 20, \"7\": 1, \"9\": 1}, \"14\": {\"4\": 84, \"14\": 130, \"15\": 18, \"5\": 8}, \"1\": {\"1\": 125, \"12\": 59, \"10\": 16, \"3\": 20, \"2\": 20}, \"3\": {\"3\": 217, \"7\": 1, \"1\": 13, \"12\": 7, \"2\": 2}}, \"W_A_3\": {\"109\": {\"57\": 2, \"2\": 2, \"109\": 3, \"126\": 1, \"20\": 1, \"26\": 1, \"48\": 1, \"71\": 1}, \"127\": {\"114\": 1, \"7\": 1, \"5\": 2, \"3\": 1, \"127\": 5, \"55\": 1, \"77\": 1}, \"14\": {\"14\": 5, \"45\": 2, \"123\": 2, \"116\": 1, \"93\": 1, \"23\": 1}, \"7\": {\"7\": 10, \"8\": 1, \"101\": 1}, \"129\": {\"129\": 7, \"40\": 1, \"17\": 1, \"87\": 1, \"41\": 1, \"1\": 1}, \"57\": {\"57\": 8, \"22\": 1, \"17\": 2, \"74\": 1}, \"84\": {\"107\": 1, \"129\": 1, \"115\": 1, \"43\": 1, \"32\": 2, \"1\": 2, \"84\": 2, \"10\": 1, \"53\": 1}, \"114\": {\"57\": 1, \"114\": 7, \"85\": 1, \"110\": 1, \"29\": 1, \"7\": 1}, \"44\": {\"44\": 8, \"1\": 1, \"28\": 2, \"80\": 1}, \"21\": {\"21\": 10, \"39\": 2}, \"46\": {\"127\": 1, \"46\": 5, \"110\": 2, \"5\": 3, \"10\": 1}, \"100\": {\"100\": 2, \"57\": 1, \"105\": 3, \"32\": 2, \"113\": 1, \"28\": 1, \"4\": 1, \"128\": 1}, \"63\": {\"63\": 6, \"24\": 1, \"27\": 1, \"65\": 1, \"10\": 1, \"82\": 1, \"54\": 1}, \"24\": {\"44\": 1, \"21\": 1, \"94\": 1, \"83\": 1, \"24\": 3, \"43\": 1, \"15\": 1, \"112\": 1, \"3\": 2}, \"107\": {\"107\": 2, \"57\": 1, \"33\": 1, \"55\": 1, \"105\": 1, \"16\": 1, \"23\": 1, \"65\": 1, \"84\": 1, \"5\": 1, \"122\": 1}, \"35\": {\"24\": 1, \"35\": 6, \"10\": 1, \"46\": 1, \"27\": 1}, \"81\": {\"64\": 1, \"81\": 5, \"18\": 3, \"26\": 1, \"62\": 1, \"53\": 1}, \"64\": {\"64\": 10, \"120\": 2}, \"59\": {\"59\": 12}, \"33\": {\"33\": 5, \"39\": 2, \"107\": 1, \"119\": 2, \"116\": 1, \"10\": 1}, \"34\": {\"34\": 9, \"10\": 2, \"52\": 1}, \"36\": {\"59\": 1, \"36\": 5, \"24\": 3, \"44\": 1, \"6\": 1, \"3\": 1}, \"79\": {\"64\": 1, \"22\": 1, \"90\": 2, \"56\": 2, \"107\": 1, \"70\": 1, \"20\": 2, \"79\": 1, \"115\": 1}, \"80\": {\"80\": 10, \"87\": 1, \"28\": 1}, \"77\": {\"77\": 7, \"108\": 1, \"58\": 1, \"41\": 2, \"8\": 1}, \"22\": {\"105\": 1, \"22\": 4, \"86\": 1, \"66\": 1, \"19\": 1, \"41\": 2, \"95\": 2}, \"124\": {\"105\": 2, \"124\": 4, \"12\": 2, \"36\": 1, \"85\": 1, \"9\": 1, \"0\": 1}, \"2\": {\"87\": 1, \"81\": 1, \"21\": 2, \"122\": 3, \"67\": 1, \"120\": 2, \"62\": 1, \"56\": 1}, \"87\": {\"105\": 1, \"80\": 1, \"17\": 2, \"87\": 3, \"96\": 1, \"9\": 1, \"108\": 1, \"129\": 1, \"41\": 1}, \"105\": {\"105\": 9, \"19\": 1, \"114\": 2}, \"95\": {\"85\": 1, \"8\": 1, \"10\": 2, \"95\": 1, \"112\": 1, \"71\": 1, \"58\": 1, \"35\": 3, \"3\": 1}, \"43\": {\"21\": 2, \"43\": 3, \"78\": 1, \"39\": 1, \"118\": 1, \"96\": 2, \"56\": 1, \"11\": 1}, \"56\": {\"110\": 1, \"85\": 1, \"56\": 3, \"30\": 1, \"20\": 1, \"103\": 1, \"57\": 1, \"90\": 1}, \"18\": {\"18\": 11, \"102\": 1}, \"85\": {\"110\": 1, \"85\": 7, \"8\": 1, \"5\": 2, \"30\": 1}, \"113\": {\"21\": 1, \"43\": 1, \"87\": 1, \"113\": 3, \"96\": 2, \"63\": 1, \"50\": 2, \"13\": 1}, \"97\": {\"8\": 1, \"97\": 5, \"72\": 1, \"51\": 1, \"101\": 1, \"1\": 1, \"7\": 1, \"58\": 1}, \"86\": {\"86\": 4, \"46\": 2, \"5\": 2, \"19\": 1, \"57\": 1, \"41\": 1, \"110\": 1}, \"128\": {\"85\": 2, \"99\": 1, \"122\": 1, \"128\": 5, \"95\": 1, \"9\": 1, \"29\": 1}, \"123\": {\"123\": 2, \"116\": 1, \"82\": 1, \"67\": 2, \"26\": 1, \"118\": 1, \"20\": 1, \"69\": 1, \"21\": 1, \"63\": 1}, \"8\": {\"86\": 1, \"8\": 7, \"7\": 2, \"103\": 1, \"92\": 1}, \"110\": {\"110\": 6, \"56\": 1, \"10\": 1, \"90\": 1, \"9\": 1, \"122\": 1, \"41\": 1}, \"126\": {\"21\": 2, \"56\": 1, \"120\": 2, \"109\": 2, \"57\": 1, \"87\": 1, \"126\": 2, \"50\": 1}, \"101\": {\"101\": 5, \"114\": 1, \"68\": 2, \"20\": 1, \"97\": 1, \"92\": 1, \"7\": 1}, \"115\": {\"78\": 1, \"45\": 2, \"115\": 1, \"43\": 1, \"128\": 1, \"119\": 1, \"41\": 1, \"9\": 1, \"42\": 1, \"116\": 1, \"79\": 1}, \"49\": {\"49\": 4, \"108\": 1, \"80\": 1, \"48\": 1, \"98\": 1, \"12\": 1, \"28\": 2, \"30\": 1}, \"45\": {\"45\": 3, \"43\": 1, \"2\": 2, \"90\": 1, \"82\": 1, \"39\": 1, \"41\": 1, \"40\": 1, \"14\": 1}, \"78\": {\"78\": 5, \"116\": 2, \"9\": 3, \"70\": 1, \"127\": 1}, \"65\": {\"65\": 5, \"35\": 2, \"85\": 2, \"109\": 1}, \"54\": {\"54\": 11, \"94\": 1}, \"31\": {\"31\": 6, \"44\": 1, \"90\": 1, \"80\": 1, \"57\": 1}, \"42\": {\"42\": 4, \"65\": 1, \"108\": 1, \"48\": 1, \"98\": 1, \"91\": 1, \"20\": 1, \"112\": 1, \"78\": 1}, \"68\": {\"101\": 1, \"68\": 7, \"72\": 1, \"5\": 1, \"0\": 1, \"86\": 1}, \"15\": {\"15\": 8, \"91\": 1, \"68\": 1, \"12\": 1, \"108\": 1}, \"69\": {\"69\": 10, \"26\": 2}, \"17\": {\"17\": 5, \"78\": 1, \"9\": 1, \"1\": 1, \"5\": 1, \"57\": 1}, \"73\": {\"73\": 11, \"15\": 1}, \"121\": {\"31\": 1, \"57\": 1, \"121\": 6, \"40\": 1, \"87\": 2, \"100\": 1}, \"102\": {\"69\": 1, \"102\": 6, \"40\": 1, \"50\": 2, \"118\": 1, \"32\": 1}, \"48\": {\"69\": 1, \"102\": 1, \"117\": 1, \"112\": 1, \"48\": 2, \"77\": 1, \"37\": 1, \"65\": 1, \"82\": 1, \"116\": 1, \"41\": 1}, \"23\": {\"17\": 2, \"28\": 1, \"90\": 1, \"99\": 1, \"63\": 1, \"128\": 1, \"91\": 1, \"23\": 1, \"126\": 1, \"8\": 1, \"120\": 1}, \"108\": {\"77\": 2, \"108\": 6, \"49\": 1, \"3\": 2, \"0\": 1}, \"53\": {\"53\": 11, \"116\": 1}, \"94\": {\"94\": 3, \"77\": 1, \"101\": 1, \"66\": 1, \"25\": 1, \"97\": 2, \"56\": 1}, \"41\": {\"41\": 8, \"5\": 1, \"85\": 1, \"32\": 1, \"57\": 1}, \"58\": {\"58\": 8, \"19\": 2, \"7\": 1, \"53\": 1}, \"29\": {\"29\": 10, \"28\": 2}, \"116\": {\"116\": 2, \"60\": 1, \"53\": 2, \"92\": 1, \"118\": 1, \"70\": 1, \"31\": 1, \"76\": 1, \"17\": 2}, \"60\": {\"66\": 1, \"60\": 4, \"49\": 1, \"42\": 1, \"74\": 1, \"37\": 1, \"28\": 1, \"108\": 1, \"52\": 1}, \"104\": {\"123\": 2, \"11\": 1, \"40\": 1, \"16\": 1, \"74\": 1, \"9\": 1, \"107\": 1, \"67\": 1, \"66\": 1, \"104\": 2}, \"106\": {\"15\": 3, \"106\": 4, \"73\": 1, \"12\": 2, \"101\": 1, \"51\": 1}, \"66\": {\"60\": 1, \"106\": 1, \"20\": 1, \"129\": 1, \"66\": 3, \"27\": 1, \"85\": 1, \"95\": 1, \"72\": 1, \"53\": 1}, \"47\": {\"47\": 8, \"35\": 1, \"101\": 1, \"56\": 2}, \"40\": {\"40\": 5, \"123\": 1, \"74\": 1, \"11\": 1, \"93\": 1, \"16\": 1, \"92\": 2}, \"82\": {\"40\": 1, \"82\": 6, \"39\": 1, \"128\": 1, \"115\": 1, \"119\": 1, \"11\": 1}, \"13\": {\"19\": 2, \"87\": 1, \"13\": 1, \"90\": 2, \"81\": 1, \"22\": 1, \"120\": 2, \"11\": 1, \"113\": 1}, \"19\": {\"72\": 1, \"19\": 4, \"128\": 2, \"91\": 1, \"20\": 1, \"87\": 1, \"105\": 1, \"127\": 1}, \"72\": {\"72\": 4, \"68\": 1, \"103\": 1, \"91\": 1, \"7\": 1, \"105\": 1, \"12\": 1, \"58\": 1, \"95\": 1}, \"9\": {\"9\": 9, \"19\": 1, \"1\": 1, \"91\": 1}, \"67\": {\"40\": 1, \"67\": 8, \"16\": 1, \"80\": 1, \"109\": 1}, \"11\": {\"78\": 2, \"74\": 2, \"17\": 2, \"13\": 2, \"82\": 1, \"10\": 1, \"88\": 1, \"76\": 1}, \"125\": {\"125\": 6, \"12\": 1, \"0\": 2, \"41\": 2, \"30\": 1}, \"76\": {\"76\": 4, \"78\": 1, \"48\": 1, \"70\": 1, \"11\": 1}, \"83\": {\"83\": 12}, \"74\": {\"74\": 4, \"54\": 1, \"23\": 1, \"53\": 2, \"22\": 1, \"57\": 1, \"79\": 1, \"11\": 1}, \"20\": {\"20\": 11, \"85\": 1}, \"119\": {\"74\": 1, \"119\": 3, \"128\": 1, \"50\": 2, \"45\": 1, \"82\": 1, \"92\": 1, \"64\": 1, \"67\": 1}, \"1\": {\"129\": 1, \"87\": 1, \"100\": 1, \"1\": 6, \"9\": 1, \"46\": 1, \"78\": 1}, \"16\": {\"67\": 1, \"16\": 4, \"64\": 1, \"39\": 1, \"70\": 1, \"104\": 2, \"1\": 1, \"40\": 1}, \"25\": {\"25\": 11, \"120\": 1}, \"90\": {\"90\": 6, \"87\": 1, \"31\": 1}, \"39\": {\"21\": 2, \"70\": 2, \"45\": 1, \"86\": 1, \"50\": 2, \"78\": 1, \"89\": 1, \"122\": 2}, \"28\": {\"28\": 12}, \"55\": {\"55\": 9, \"127\": 3}, \"117\": {\"117\": 7, \"89\": 1, \"69\": 1, \"14\": 1, \"2\": 2}, \"112\": {\"112\": 8, \"98\": 2, \"127\": 1, \"103\": 1}, \"38\": {\"38\": 5, \"64\": 1, \"74\": 1, \"100\": 1, \"62\": 1, \"41\": 1, \"45\": 1, \"92\": 1}, \"37\": {\"37\": 8, \"35\": 2, \"51\": 2}, \"120\": {\"64\": 1, \"120\": 8, \"31\": 2, \"62\": 1}, \"122\": {\"110\": 2, \"10\": 1, \"74\": 1, \"99\": 1, \"96\": 1, \"29\": 1, \"122\": 1, \"5\": 2, \"57\": 2}, \"50\": {\"113\": 2, \"50\": 7, \"40\": 1, \"23\": 1, \"6\": 1}, \"10\": {\"127\": 2, \"10\": 7, \"48\": 1, \"88\": 2}, \"5\": {\"5\": 9, \"9\": 1, \"3\": 2}, \"51\": {\"51\": 10, \"52\": 1, \"35\": 1}, \"3\": {\"95\": 1, \"70\": 1, \"3\": 7, \"1\": 1, \"58\": 1, \"17\": 1}, \"98\": {\"98\": 8, \"48\": 1, \"51\": 1, \"52\": 1, \"34\": 1}, \"70\": {\"49\": 1, \"95\": 1, \"70\": 6, \"1\": 1, \"28\": 2, \"112\": 1}, \"96\": {\"96\": 9, \"92\": 1, \"29\": 1, \"87\": 1}, \"12\": {\"105\": 2, \"12\": 3, \"52\": 1, \"71\": 1, \"86\": 1, \"3\": 1, \"5\": 1, \"0\": 2}, \"99\": {\"99\": 10, \"91\": 2}, \"52\": {\"71\": 1, \"52\": 8, \"110\": 1, \"47\": 1, \"58\": 1}, \"71\": {\"71\": 4, \"128\": 1, \"103\": 1, \"122\": 1, \"95\": 2, \"101\": 1, \"3\": 2}, \"89\": {\"89\": 6, \"26\": 1, \"27\": 1, \"50\": 1, \"82\": 2, \"61\": 1}, \"0\": {\"8\": 1, \"71\": 1, \"0\": 6, \"91\": 1, \"105\": 1, \"12\": 2}, \"4\": {\"71\": 2, \"4\": 2, \"114\": 3, \"111\": 1, \"118\": 1, \"43\": 1, \"68\": 1, \"120\": 1}, \"93\": {\"93\": 3, \"9\": 1, \"122\": 1, \"2\": 1, \"62\": 1, \"87\": 2, \"40\": 1, \"119\": 1, \"123\": 1}, \"6\": {\"6\": 4, \"56\": 1, \"85\": 1, \"19\": 1, \"125\": 1, \"36\": 1, \"34\": 1}, \"75\": {\"75\": 6, \"125\": 1, \"106\": 1, \"66\": 2, \"37\": 1, \"54\": 1}, \"62\": {\"62\": 7, \"64\": 1, \"33\": 1, \"65\": 1, \"56\": 1, \"2\": 1}, \"103\": {\"103\": 11, \"71\": 1}, \"30\": {\"103\": 1, \"72\": 1, \"124\": 1, \"30\": 4, \"51\": 2, \"91\": 1, \"97\": 1, \"0\": 1}, \"91\": {\"91\": 4, \"98\": 2, \"37\": 1, \"128\": 1, \"30\": 2, \"77\": 1, \"41\": 1}, \"27\": {\"103\": 2, \"51\": 1, \"22\": 1, \"114\": 1, \"27\": 5, \"112\": 1, \"83\": 1}, \"26\": {\"26\": 5, \"39\": 1, \"93\": 1, \"62\": 1, \"33\": 1, \"81\": 1, \"118\": 1, \"104\": 1}, \"61\": {\"61\": 12}, \"118\": {\"93\": 2, \"26\": 2, \"118\": 2, \"69\": 1, \"19\": 1, \"20\": 1, \"57\": 1, \"126\": 1, \"102\": 1}, \"92\": {\"29\": 2, \"92\": 7, \"88\": 1, \"64\": 1, \"120\": 1}, \"111\": {\"0\": 3, \"85\": 2, \"111\": 6, \"12\": 1}, \"32\": {\"32\": 3, \"62\": 1, \"116\": 1, \"53\": 1, \"19\": 1, \"108\": 1, \"128\": 1, \"92\": 1, \"35\": 1, \"113\": 1}, \"88\": {\"70\": 1, \"88\": 6, \"118\": 1, \"20\": 1, \"78\": 1}}, \"W_A_4\": {\"28\": {\"14\": 1, \"96\": 2, \"116\": 1, \"11\": 1, \"28\": 3, \"79\": 1, \"46\": 1, \"13\": 1, \"122\": 1}, \"4\": {\"4\": 7, \"11\": 1, \"3\": 1, \"71\": 2, \"86\": 1}, \"72\": {\"72\": 8, \"0\": 1, \"46\": 1, \"70\": 1, \"23\": 1}, \"111\": {\"111\": 4, \"12\": 3, \"114\": 1, \"27\": 2, \"15\": 2}, \"108\": {\"43\": 1, \"28\": 1, \"72\": 1, \"1\": 1, \"93\": 1, \"22\": 1, \"74\": 1, \"5\": 1, \"80\": 1, \"73\": 1, \"50\": 1, \"119\": 1}, \"43\": {\"43\": 5, \"114\": 1, \"82\": 1, \"103\": 1, \"1\": 1, \"11\": 1}, \"96\": {\"45\": 1, \"31\": 1, \"124\": 1, \"69\": 1, \"64\": 1, \"118\": 1, \"96\": 2, \"19\": 1, \"81\": 1, \"15\": 1, \"11\": 1}, \"89\": {\"4\": 1, \"28\": 1, \"54\": 1, \"89\": 3, \"3\": 1, \"79\": 1, \"22\": 1, \"60\": 1, \"49\": 1, \"127\": 1}, \"31\": {\"31\": 4, \"45\": 1, \"109\": 1, \"2\": 1, \"13\": 1, \"87\": 1, \"14\": 1, \"16\": 1, \"65\": 1}, \"45\": {\"45\": 5, \"92\": 2, \"31\": 1, \"35\": 1, \"125\": 1, \"69\": 1, \"102\": 1}, \"2\": {\"96\": 1, \"31\": 1, \"37\": 1, \"118\": 1, \"0\": 1, \"39\": 2, \"115\": 2, \"84\": 1, \"63\": 1, \"71\": 1}, \"114\": {\"4\": 1, \"114\": 4, \"1\": 4, \"3\": 1, \"105\": 1, \"112\": 1}, \"11\": {\"11\": 9, \"90\": 1, \"100\": 1, \"50\": 1}, \"12\": {\"111\": 3, \"12\": 5, \"4\": 2, \"27\": 1, \"98\": 1}, \"14\": {\"90\": 2, \"124\": 3, \"14\": 2, \"122\": 1, \"110\": 1, \"120\": 1, \"76\": 1, \"11\": 1}, \"90\": {\"90\": 8, \"93\": 1, \"66\": 2, \"22\": 1}, \"10\": {\"85\": 1, \"10\": 2, \"128\": 2, \"127\": 1, \"9\": 1, \"34\": 1, \"58\": 1, \"6\": 1, \"119\": 2}, \"63\": {\"11\": 1, \"63\": 9, \"70\": 1, \"2\": 1}, \"85\": {\"85\": 9, \"11\": 1, \"58\": 2}, \"64\": {\"64\": 4, \"11\": 1, \"110\": 1, \"117\": 1, \"9\": 2, \"17\": 1, \"73\": 1, \"120\": 1}, \"82\": {\"82\": 8, \"66\": 1, \"4\": 1, \"16\": 1, \"63\": 1}, \"58\": {\"58\": 9, \"111\": 1, \"10\": 2}, \"3\": {\"4\": 1, \"3\": 7, \"114\": 1, \"71\": 1, \"49\": 1, \"5\": 1}, \"54\": {\"54\": 9, \"97\": 3}, \"121\": {\"121\": 3, \"11\": 1, \"99\": 2, \"23\": 2, \"115\": 1, \"37\": 1, \"9\": 1, \"72\": 1}, \"42\": {\"42\": 7, \"91\": 1, \"119\": 1, \"8\": 1, \"37\": 1, \"7\": 1}, \"98\": {\"98\": 9, \"91\": 1, \"41\": 2}, \"123\": {\"63\": 2, \"104\": 2, \"109\": 1, \"23\": 1, \"120\": 1, \"16\": 2, \"69\": 3}, \"91\": {\"58\": 1, \"54\": 1, \"27\": 1, \"91\": 4, \"74\": 1, \"128\": 2, \"87\": 1, \"85\": 1}, \"66\": {\"72\": 2, \"60\": 1, \"128\": 1, \"66\": 5, \"42\": 1, \"90\": 2}, \"102\": {\"102\": 2, \"57\": 1, \"109\": 2, \"105\": 1, \"39\": 2, \"23\": 1, \"50\": 1, \"107\": 1, \"118\": 1}, \"122\": {\"122\": 4, \"1\": 1, \"88\": 1, \"110\": 1, \"56\": 1, \"74\": 1, \"100\": 1, \"11\": 2}, \"1\": {\"1\": 10, \"4\": 1, \"114\": 1}, \"15\": {\"4\": 1, \"125\": 1, \"9\": 1, \"53\": 1, \"51\": 1, \"6\": 1, \"83\": 1, \"15\": 2, \"79\": 1, \"58\": 1, \"59\": 1}, \"97\": {\"72\": 1, \"4\": 1, \"97\": 4, \"9\": 1, \"59\": 2, \"108\": 1, \"83\": 1, \"42\": 1}, \"75\": {\"75\": 12}, \"95\": {\"95\": 3, \"4\": 1, \"46\": 1, \"127\": 1, \"85\": 1, \"82\": 1, \"101\": 1, \"86\": 2, \"106\": 1}, \"57\": {\"72\": 2, \"57\": 5, \"11\": 2, \"20\": 1, \"33\": 1, \"32\": 1}, \"68\": {\"95\": 2, \"15\": 2, \"68\": 3, \"103\": 1, \"3\": 1, \"86\": 1, \"70\": 2}, \"125\": {\"15\": 2, \"125\": 7, \"58\": 1, \"0\": 1, \"86\": 1}, \"62\": {\"102\": 1, \"122\": 1, \"126\": 2, \"62\": 2, \"96\": 1, \"84\": 2, \"48\": 1}, \"27\": {\"27\": 3, \"37\": 1, \"78\": 1, \"111\": 1, \"41\": 1, \"103\": 1, \"7\": 1, \"88\": 1, \"20\": 1, \"127\": 1}, \"120\": {\"120\": 10, \"103\": 1, \"42\": 1}, \"26\": {\"35\": 2, \"117\": 2, \"113\": 1, \"26\": 4, \"31\": 2, \"108\": 1}, \"55\": {\"55\": 6, \"46\": 1, \"106\": 2, \"1\": 2, \"86\": 1}, \"71\": {\"27\": 2, \"71\": 4, \"19\": 1, \"88\": 1, \"115\": 2, \"72\": 1, \"101\": 1}, \"22\": {\"46\": 1, \"22\": 10, \"43\": 1}, \"99\": {\"99\": 10, \"128\": 1, \"21\": 1}, \"84\": {\"63\": 1, \"84\": 2, \"103\": 1, \"23\": 1, \"81\": 2, \"67\": 1, \"118\": 1, \"43\": 1, \"122\": 1, \"96\": 1}, \"37\": {\"37\": 11, \"20\": 1}, \"83\": {\"27\": 1, \"83\": 9, \"74\": 1, \"114\": 1}, \"46\": {\"83\": 3, \"46\": 5, \"52\": 1, \"120\": 1, \"5\": 1, \"60\": 1}, \"35\": {\"26\": 2, \"22\": 1, \"117\": 2, \"35\": 4, \"13\": 1, \"92\": 1, \"33\": 1}, \"13\": {\"63\": 1, \"84\": 1, \"118\": 1, \"64\": 1, \"13\": 4, \"31\": 1, \"65\": 1, \"18\": 1, \"35\": 1}, \"53\": {\"53\": 10, \"88\": 1, \"78\": 1}, \"127\": {\"9\": 1, \"15\": 2, \"53\": 3, \"127\": 4, \"27\": 1, \"59\": 1}, \"69\": {\"127\": 1, \"69\": 6, \"63\": 2, \"81\": 2, \"78\": 1}, \"48\": {\"69\": 1, \"57\": 2, \"126\": 2, \"109\": 2, \"67\": 1, \"66\": 1, \"48\": 2, \"85\": 1}, \"16\": {\"16\": 10, \"33\": 1, \"63\": 1}, \"0\": {\"82\": 1, \"89\": 1, \"8\": 2, \"86\": 1, \"0\": 1, \"55\": 2, \"23\": 1, \"4\": 1, \"49\": 1, \"37\": 1}, \"8\": {\"8\": 6, \"127\": 1, \"71\": 1, \"42\": 1, \"101\": 2, \"100\": 1}, \"9\": {\"9\": 5, \"53\": 1, \"34\": 1, \"98\": 1, \"106\": 1, \"86\": 1, \"91\": 2}, \"115\": {\"57\": 1, \"69\": 1, \"6\": 1, \"46\": 1, \"87\": 2, \"108\": 1, \"103\": 1, \"115\": 1, \"56\": 1, \"23\": 1, \"64\": 1}, \"70\": {\"119\": 1, \"70\": 7, \"78\": 1, \"8\": 1, \"56\": 1, \"43\": 1}, \"119\": {\"119\": 7, \"42\": 2, \"85\": 3}, \"59\": {\"59\": 5, \"52\": 2, \"29\": 1, \"47\": 2, \"34\": 2}, \"52\": {\"51\": 2, \"52\": 6, \"29\": 1, \"83\": 1, \"85\": 2}, \"60\": {\"6\": 1, \"44\": 1, \"128\": 1, \"99\": 2, \"90\": 1, \"19\": 2, \"10\": 1, \"89\": 1, \"11\": 1, \"60\": 1}, \"44\": {\"44\": 9, \"3\": 1, \"66\": 1, \"85\": 1}, \"51\": {\"51\": 2, \"120\": 1, \"111\": 3, \"79\": 1, \"47\": 1, \"9\": 1, \"68\": 2, \"53\": 1}, \"6\": {\"6\": 5, \"77\": 1, \"34\": 1, \"85\": 1, \"59\": 1, \"51\": 2, \"58\": 1}, \"73\": {\"50\": 2, \"124\": 1, \"73\": 2, \"17\": 2, \"5\": 1, \"46\": 1, \"86\": 1, \"87\": 1, \"49\": 1}, \"78\": {\"73\": 1, \"78\": 1, \"37\": 2, \"87\": 1, \"119\": 1, \"66\": 2, \"0\": 2, \"11\": 2}, \"92\": {\"92\": 6, \"16\": 1, \"28\": 1, \"61\": 1, \"35\": 3}, \"20\": {\"74\": 1, \"78\": 1, \"20\": 5, \"43\": 1, \"5\": 1, \"19\": 2, \"79\": 1}, \"17\": {\"73\": 5, \"17\": 1, \"74\": 1, \"129\": 1, \"124\": 1, \"82\": 1, \"50\": 2}, \"74\": {\"20\": 1, \"74\": 9, \"3\": 1, \"37\": 1}, \"19\": {\"19\": 6, \"50\": 3, \"90\": 1, \"71\": 1, \"79\": 1}, \"50\": {\"50\": 8, \"20\": 1, \"3\": 1, \"19\": 1, \"11\": 1}, \"34\": {\"73\": 1, \"19\": 1, \"34\": 5, \"55\": 1, \"6\": 1, \"0\": 1, \"10\": 1, \"59\": 1}, \"104\": {\"9\": 1, \"63\": 1, \"31\": 1, \"109\": 1, \"104\": 1, \"67\": 1, \"32\": 1, \"126\": 1}, \"33\": {\"33\": 6, \"37\": 1, \"55\": 1, \"0\": 1, \"28\": 1, \"122\": 1, \"43\": 1}, \"5\": {\"5\": 8, \"22\": 2, \"83\": 2}, \"7\": {\"7\": 8, \"49\": 1, \"128\": 1, \"27\": 1, \"120\": 1}, \"29\": {\"29\": 9, \"91\": 3}, \"25\": {\"25\": 10, \"75\": 1, \"59\": 1}, \"124\": {\"37\": 2, \"71\": 1, \"57\": 1, \"69\": 1, \"66\": 1, \"10\": 1, \"47\": 1, \"124\": 1, \"79\": 1, \"110\": 1, \"48\": 1}, \"117\": {\"11\": 1, \"117\": 8, \"113\": 1, \"26\": 1, \"80\": 1}, \"88\": {\"88\": 5, \"83\": 1, \"110\": 1, \"71\": 2, \"119\": 2, \"78\": 1}, \"61\": {\"61\": 9, \"88\": 1, \"92\": 1, \"13\": 1}, \"86\": {\"86\": 5, \"1\": 1, \"72\": 1, \"46\": 1, \"27\": 1, \"101\": 1, \"68\": 1, \"111\": 1}, \"116\": {\"89\": 2, \"5\": 1, \"22\": 1, \"107\": 1, \"79\": 1, \"40\": 1, \"20\": 1, \"80\": 1, \"86\": 1, \"129\": 1, \"0\": 1}, \"24\": {\"24\": 8, \"114\": 1, \"128\": 1, \"94\": 1, \"36\": 1}, \"128\": {\"101\": 1, \"28\": 1, \"128\": 5, \"21\": 1, \"100\": 1, \"20\": 1, \"83\": 2}, \"101\": {\"101\": 6, \"112\": 1, \"86\": 1, \"27\": 1, \"12\": 1, \"103\": 1, \"127\": 1}, \"65\": {\"14\": 1, \"65\": 3, \"105\": 1, \"13\": 1, \"3\": 1, \"0\": 1, \"109\": 1, \"35\": 1}, \"36\": {\"24\": 1, \"101\": 1, \"36\": 8, \"53\": 1, \"49\": 1}, \"21\": {\"21\": 11, \"78\": 1}, \"106\": {\"37\": 1, \"27\": 1, \"41\": 2, \"106\": 3, \"47\": 1, \"52\": 1, \"71\": 1, \"68\": 1, \"95\": 1}, \"118\": {\"37\": 1, \"118\": 2, \"88\": 2, \"122\": 1, \"100\": 1, \"87\": 1, \"13\": 1, \"65\": 1, \"11\": 1, \"39\": 1}, \"113\": {\"113\": 2, \"126\": 1, \"44\": 1, \"21\": 1, \"76\": 1, \"120\": 2, \"20\": 2, \"78\": 1, \"109\": 1}, \"40\": {\"1\": 3, \"46\": 2, \"22\": 1, \"123\": 1, \"28\": 1, \"5\": 1, \"40\": 2, \"57\": 1}, \"93\": {\"83\": 2, \"93\": 4, \"22\": 1, \"108\": 1}, \"94\": {\"103\": 1, \"29\": 1, \"34\": 1, \"25\": 1, \"94\": 5, \"51\": 1, \"49\": 1, \"10\": 1}, \"103\": {\"83\": 1, \"71\": 1, \"46\": 2, \"129\": 1, \"103\": 2, \"121\": 1, \"12\": 1, \"50\": 1, \"24\": 1, \"22\": 1}, \"110\": {\"110\": 5, \"85\": 1, \"22\": 1, \"108\": 1, \"72\": 1, \"82\": 1, \"57\": 1, \"60\": 1}, \"56\": {\"56\": 8, \"30\": 1, \"100\": 1, \"86\": 2}, \"39\": {\"0\": 2, \"78\": 1, \"6\": 1, \"7\": 1, \"18\": 1, \"21\": 2, \"11\": 2, \"109\": 1, \"94\": 1}, \"109\": {\"0\": 1, \"109\": 3, \"108\": 1, \"5\": 1, \"126\": 1, \"57\": 1, \"88\": 1, \"39\": 2, \"104\": 1}, \"67\": {\"16\": 2, \"67\": 1, \"84\": 1, \"39\": 2, \"76\": 1, \"62\": 1, \"88\": 1, \"47\": 1, \"81\": 1, \"96\": 1}, \"129\": {\"73\": 2, \"103\": 2, \"22\": 1, \"129\": 1, \"68\": 1, \"113\": 1, \"4\": 1, \"23\": 1, \"50\": 2}, \"30\": {\"30\": 3, \"3\": 1, \"47\": 1, \"101\": 1, \"49\": 1, \"125\": 1, \"9\": 1, \"83\": 1, \"15\": 1, \"55\": 1}, \"126\": {\"44\": 1, \"74\": 1, \"126\": 2, \"5\": 1, \"105\": 1, \"20\": 2, \"127\": 2, \"104\": 1, \"108\": 1}, \"87\": {\"21\": 1, \"50\": 2, \"110\": 1, \"119\": 1, \"87\": 4, \"0\": 1, \"1\": 1, \"76\": 1}, \"112\": {\"112\": 7, \"79\": 1, \"38\": 1, \"83\": 1, \"41\": 1, \"114\": 1}, \"100\": {\"79\": 1, \"70\": 1, \"100\": 7, \"37\": 1, \"42\": 2}, \"79\": {\"79\": 9, \"83\": 1}, \"81\": {\"81\": 5, \"56\": 1, \"99\": 1, \"39\": 1, \"80\": 1, \"117\": 1, \"69\": 2}, \"76\": {\"87\": 2, \"115\": 1, \"67\": 1, \"76\": 3, \"40\": 2, \"11\": 1}, \"47\": {\"47\": 10, \"100\": 1, \"106\": 1}, \"77\": {\"77\": 12}, \"23\": {\"103\": 1, \"46\": 1, \"7\": 2, \"108\": 1, \"22\": 2, \"23\": 1, \"86\": 1, \"120\": 1, \"78\": 1, \"87\": 1}, \"18\": {\"18\": 10, \"16\": 2}, \"49\": {\"85\": 1, \"49\": 8, \"41\": 1, \"7\": 1, \"86\": 1}, \"41\": {\"41\": 8, \"125\": 1, \"112\": 1, \"56\": 1, \"86\": 1}, \"32\": {\"110\": 2, \"109\": 2, \"87\": 2, \"46\": 2, \"32\": 1, \"1\": 1, \"14\": 1, \"11\": 1}, \"107\": {\"80\": 1, \"105\": 1, \"62\": 2, \"19\": 2, \"11\": 1, \"33\": 1, \"107\": 2}, \"80\": {\"80\": 9, \"126\": 1, \"79\": 1, \"5\": 1}, \"105\": {\"103\": 3, \"87\": 2, \"12\": 1, \"114\": 2, \"90\": 1, \"105\": 1}, \"38\": {\"80\": 2, \"38\": 8}}, \"C_A_3\": {\"43\": {\"43\": 12}, \"9\": {\"9\": 10, \"29\": 2}, \"6\": {\"6\": 8, \"46\": 1, \"3\": 1}, \"3\": {\"37\": 2, \"3\": 5, \"46\": 1, \"50\": 1, \"53\": 1, \"30\": 1, \"17\": 1}, \"16\": {\"16\": 12}, \"51\": {\"51\": 12}, \"31\": {\"31\": 12}, \"46\": {\"46\": 5, \"33\": 2, \"5\": 3}, \"19\": {\"19\": 7, \"4\": 1}, \"8\": {\"8\": 9, \"25\": 3}, \"18\": {\"18\": 12}, \"37\": {\"37\": 12}, \"24\": {\"24\": 12}, \"10\": {\"10\": 12}, \"44\": {\"19\": 3, \"53\": 1, \"44\": 6}, \"14\": {\"10\": 1, \"9\": 1, \"4\": 4, \"7\": 1, \"29\": 1, \"14\": 3, \"35\": 1}, \"38\": {\"38\": 8, \"54\": 1, \"36\": 1}, \"53\": {\"53\": 10, \"20\": 2}, \"20\": {\"20\": 12}, \"32\": {\"32\": 12}, \"36\": {\"32\": 3, \"54\": 1, \"36\": 6}, \"33\": {\"33\": 11, \"6\": 1}, \"56\": {\"56\": 11, \"1\": 1}, \"23\": {\"23\": 12}, \"54\": {\"54\": 10}, \"34\": {\"34\": 12}, \"13\": {\"13\": 12}, \"2\": {\"2\": 12}, \"55\": {\"55\": 9, \"41\": 1}, \"21\": {\"21\": 8, \"17\": 1, \"38\": 1}, \"49\": {\"49\": 10}, \"25\": {\"25\": 12}, \"5\": {\"5\": 11, \"42\": 1}, \"50\": {\"25\": 1, \"50\": 6, \"3\": 1}, \"40\": {\"55\": 1, \"21\": 1, \"4\": 4, \"40\": 3, \"29\": 1, \"44\": 1, \"13\": 1}, \"57\": {\"57\": 8}, \"22\": {\"22\": 10}, \"1\": {\"1\": 10}, \"17\": {\"17\": 12}, \"41\": {\"41\": 10, \"33\": 1, \"42\": 1}, \"4\": {\"4\": 8, \"51\": 2}, \"7\": {\"7\": 10}, \"26\": {\"26\": 10}, \"29\": {\"29\": 12}, \"52\": {\"52\": 10, \"47\": 2}, \"15\": {\"15\": 12}, \"35\": {\"29\": 1, \"35\": 11}, \"42\": {\"42\": 12}, \"30\": {\"30\": 10}, \"27\": {\"27\": 8}, \"45\": {\"44\": 4, \"51\": 1, \"45\": 1, \"4\": 2, \"35\": 2}, \"0\": {\"0\": 12}, \"28\": {\"28\": 9, \"5\": 1, \"1\": 1, \"48\": 1}, \"47\": {\"47\": 12}, \"11\": {\"11\": 10}, \"39\": {\"39\": 10}, \"48\": {\"41\": 2, \"48\": 9, \"33\": 1}, \"12\": {\"12\": 6, \"54\": 2}}, \"C_A_4\": {\"35\": {\"35\": 10}, \"25\": {\"25\": 9, \"27\": 1, \"26\": 1, \"8\": 1}, \"24\": {\"24\": 8, \"11\": 1, \"43\": 1}, \"48\": {\"48\": 12}, \"51\": {\"51\": 12}, \"13\": {\"13\": 10, \"10\": 2}, \"14\": {\"35\": 2, \"50\": 1, \"14\": 3, \"10\": 2}, \"32\": {\"32\": 12}, \"30\": {\"30\": 11, \"25\": 1}, \"34\": {\"34\": 10}, \"9\": {\"9\": 12}, \"1\": {\"1\": 12}, \"0\": {\"0\": 12}, \"38\": {\"38\": 12}, \"22\": {\"22\": 6, \"38\": 2}, \"40\": {\"40\": 5, \"9\": 2, \"14\": 1, \"13\": 1, \"19\": 1, \"33\": 1, \"44\": 1}, \"39\": {\"39\": 12}, \"46\": {\"32\": 1, \"5\": 1, \"46\": 7, \"54\": 2, \"52\": 1}, \"36\": {\"34\": 1, \"36\": 10, \"48\": 1}, \"50\": {\"50\": 6, \"25\": 1, \"4\": 1, \"36\": 1, \"3\": 1, \"12\": 1, \"19\": 1}, \"49\": {\"49\": 12}, \"17\": {\"17\": 12}, \"45\": {\"45\": 8, \"17\": 1, \"40\": 1, \"33\": 2}, \"6\": {\"6\": 6, \"36\": 1, \"26\": 2, \"48\": 1, \"54\": 2}, \"8\": {\"8\": 11, \"30\": 1}, \"5\": {\"46\": 2, \"42\": 2, \"5\": 4, \"48\": 1, \"3\": 1}, \"33\": {\"33\": 9, \"4\": 1, \"19\": 2}, \"31\": {\"31\": 12}, \"37\": {\"35\": 2, \"37\": 8}, \"47\": {\"47\": 8}, \"15\": {\"15\": 9, \"0\": 1}, \"7\": {\"7\": 10, \"49\": 1, \"1\": 1}, \"20\": {\"20\": 12}, \"4\": {\"4\": 11, \"21\": 1}, \"54\": {\"54\": 12}, \"44\": {\"44\": 12}, \"3\": {\"25\": 1, \"3\": 7, \"26\": 1, \"36\": 1, \"27\": 1, \"53\": 1}, \"11\": {\"11\": 10}, \"27\": {\"27\": 10}, \"19\": {\"19\": 9, \"10\": 1, \"33\": 2}, \"55\": {\"55\": 11, \"54\": 1}, \"16\": {\"16\": 12}, \"2\": {\"2\": 10}, \"52\": {\"52\": 10}, \"42\": {\"42\": 9, \"25\": 1}, \"26\": {\"26\": 12}, \"10\": {\"10\": 12}, \"53\": {\"53\": 10}, \"28\": {\"28\": 12}, \"21\": {\"36\": 1, \"21\": 9}, \"57\": {\"57\": 10}, \"23\": {\"23\": 8}, \"43\": {\"43\": 10}, \"12\": {\"12\": 12}, \"41\": {\"41\": 11, \"3\": 1}, \"56\": {\"56\": 6, \"2\": 1, \"10\": 1}, \"18\": {\"18\": 10}, \"29\": {\"29\": 8}}, \"W_A_1\": {\"108\": {\"70\": 2, \"108\": 5, \"0\": 1, \"28\": 1, \"35\": 1}, \"40\": {\"40\": 4, \"4\": 1, \"5\": 2, \"55\": 1, \"110\": 1, \"114\": 2, \"105\": 1}, \"68\": {\"108\": 1, \"110\": 1, \"58\": 2, \"68\": 5, \"0\": 1, \"71\": 1, \"101\": 1}, \"23\": {\"108\": 1, \"64\": 1, \"23\": 2, \"99\": 1, \"86\": 1, \"66\": 1, \"58\": 1, \"7\": 1, \"79\": 2, \"127\": 1}, \"26\": {\"23\": 1, \"26\": 11}, \"64\": {\"70\": 1, \"64\": 7, \"44\": 2, \"66\": 2}, \"22\": {\"22\": 7, \"19\": 2, \"57\": 1, \"9\": 1, \"54\": 1}, \"3\": {\"23\": 2, \"3\": 8, \"96\": 1, \"101\": 1}, \"4\": {\"110\": 1, \"68\": 1, \"83\": 2, \"101\": 2, \"114\": 1, \"4\": 2, \"106\": 1, \"43\": 2}, \"70\": {\"70\": 6, \"23\": 1, \"3\": 1, \"35\": 1, \"72\": 1, \"41\": 1, \"115\": 1}, \"57\": {\"57\": 11, \"19\": 1}, \"79\": {\"79\": 10, \"47\": 1, \"34\": 1}, \"9\": {\"23\": 1, \"68\": 1, \"24\": 2, \"34\": 1, \"114\": 1, \"0\": 1, \"9\": 3, \"101\": 1, \"104\": 1}, \"89\": {\"9\": 1, \"4\": 1, \"111\": 2, \"104\": 2, \"89\": 1, \"101\": 1, \"34\": 1, \"128\": 1, \"129\": 1, \"29\": 1}, \"110\": {\"110\": 3, \"71\": 1, \"10\": 1, \"29\": 1, \"55\": 2, \"5\": 2, \"101\": 1, \"93\": 1}, \"102\": {\"102\": 6, \"62\": 1, \"117\": 1, \"22\": 1, \"71\": 1, \"19\": 1, \"39\": 1}, \"31\": {\"31\": 9, \"58\": 1, \"41\": 1, \"86\": 1}, \"58\": {\"31\": 1, \"58\": 9, \"56\": 1, \"66\": 1}, \"47\": {\"17\": 1, \"47\": 9, \"72\": 1, \"103\": 1}, \"24\": {\"31\": 3, \"24\": 5, \"44\": 1, \"27\": 1, \"41\": 2}, \"19\": {\"19\": 9, \"57\": 1, \"17\": 1, \"32\": 1}, \"11\": {\"19\": 2, \"99\": 1, \"11\": 4, \"35\": 1, \"78\": 1, \"108\": 1, \"43\": 1, \"126\": 1}, \"52\": {\"52\": 12}, \"17\": {\"17\": 7, \"47\": 1, \"114\": 2, \"19\": 1, \"5\": 1}, \"25\": {\"47\": 1, \"19\": 2, \"25\": 5, \"42\": 2, \"20\": 1, \"34\": 1}, \"69\": {\"69\": 8, \"60\": 1, \"67\": 1, \"102\": 2}, \"96\": {\"115\": 1, \"96\": 3, \"35\": 1, \"84\": 1, \"101\": 1, \"90\": 1, \"66\": 1, \"108\": 1, \"79\": 1, \"57\": 1}, \"109\": {\"109\": 8, \"126\": 2, \"7\": 2}, \"115\": {\"47\": 1, \"115\": 9, \"129\": 1, \"96\": 1}, \"83\": {\"96\": 2, \"42\": 1, \"124\": 2, \"83\": 2, \"91\": 1, \"1\": 2, \"4\": 1, \"122\": 1}, \"84\": {\"1\": 2, \"84\": 5, \"47\": 1, \"101\": 1, \"19\": 1, \"60\": 2}, \"119\": {\"119\": 9, \"65\": 1}, \"122\": {\"122\": 2, \"65\": 1, \"78\": 2, \"105\": 1, \"57\": 1, \"87\": 2, \"99\": 1}, \"99\": {\"99\": 12}, \"1\": {\"84\": 2, \"1\": 5, \"35\": 1, \"72\": 1, \"5\": 1, \"34\": 1, \"106\": 1}, \"74\": {\"74\": 10, \"23\": 1, \"44\": 1}, \"85\": {\"85\": 6, \"127\": 1, \"32\": 1, \"86\": 1, \"72\": 1, \"97\": 2}, \"127\": {\"127\": 9, \"58\": 2, \"110\": 1}, \"111\": {\"111\": 9, \"127\": 1, \"110\": 1, \"12\": 1}, \"53\": {\"53\": 12}, \"88\": {\"7\": 1, \"23\": 1, \"71\": 1, \"36\": 1, \"88\": 2, \"89\": 3, \"44\": 2, \"49\": 1}, \"65\": {\"99\": 1, \"65\": 3, \"63\": 2, \"103\": 2, \"129\": 1, \"74\": 1}, \"7\": {\"23\": 1, \"7\": 10, \"90\": 1}, \"16\": {\"16\": 9, \"10\": 1, \"123\": 1, \"118\": 1}, \"128\": {\"17\": 1, \"129\": 1, \"128\": 4, \"105\": 1, \"42\": 1, \"1\": 1, \"84\": 1, \"57\": 2}, \"34\": {\"41\": 1, \"114\": 1, \"75\": 1, \"34\": 4, \"115\": 1, \"71\": 1, \"79\": 1, \"92\": 1, \"88\": 1}, \"129\": {\"27\": 1, \"43\": 1, \"46\": 2, \"114\": 2, \"80\": 1, \"74\": 1, \"32\": 2, \"129\": 1, \"63\": 1}, \"43\": {\"43\": 8, \"0\": 1, \"74\": 1, \"10\": 1, \"73\": 1}, \"92\": {\"92\": 9, \"68\": 1, \"49\": 1, \"53\": 1}, \"28\": {\"28\": 8, \"96\": 1, \"99\": 2, \"77\": 1}, \"27\": {\"53\": 1, \"27\": 4, \"32\": 1, \"30\": 1, \"52\": 1, \"0\": 1, \"71\": 1, \"47\": 1, \"15\": 1}, \"114\": {\"114\": 7, \"9\": 2, \"79\": 1, \"5\": 1, \"108\": 1}, \"73\": {\"73\": 11, \"9\": 1}, \"0\": {\"92\": 1, \"0\": 9, \"48\": 1, \"68\": 1}, \"104\": {\"104\": 11, \"41\": 1}, \"118\": {\"118\": 7, \"92\": 1, \"2\": 1, \"63\": 2, \"95\": 1}, \"41\": {\"41\": 9, \"86\": 1, \"44\": 1, \"75\": 1}, \"49\": {\"86\": 1, \"23\": 1, \"49\": 4, \"72\": 2, \"56\": 1, \"85\": 1, \"46\": 1, \"128\": 1}, \"14\": {\"46\": 1, \"14\": 4, \"43\": 1, \"82\": 1, \"129\": 2, \"74\": 1, \"122\": 2}, \"46\": {\"14\": 1, \"129\": 1, \"45\": 1, \"40\": 1, \"8\": 1, \"12\": 2, \"82\": 1, \"22\": 1, \"39\": 1, \"46\": 2}, \"33\": {\"22\": 1, \"129\": 2, \"33\": 7, \"13\": 1, \"19\": 1}, \"76\": {\"76\": 11, \"93\": 1}, \"125\": {\"92\": 1, \"125\": 7, \"40\": 1, \"12\": 1, \"112\": 2}, \"86\": {\"86\": 6, \"7\": 2, \"31\": 2}, \"66\": {\"23\": 2, \"66\": 3, \"44\": 1, \"61\": 2, \"64\": 1, \"96\": 1, \"115\": 1, \"51\": 1}, \"5\": {\"5\": 8, \"40\": 1, \"101\": 1, \"110\": 1, \"32\": 1}, \"117\": {\"67\": 2, \"118\": 4, \"95\": 1, \"117\": 3, \"80\": 1, \"38\": 1}, \"75\": {\"24\": 2, \"75\": 8, \"94\": 1, \"31\": 1}, \"61\": {\"61\": 12}, \"50\": {\"22\": 2, \"46\": 1, \"76\": 1, \"50\": 2, \"74\": 2, \"100\": 1, \"14\": 1, \"116\": 1, \"11\": 1}, \"67\": {\"50\": 1, \"67\": 6, \"117\": 3}, \"18\": {\"18\": 9, \"33\": 1, \"69\": 1, \"102\": 1}, \"98\": {\"98\": 12}, \"55\": {\"73\": 1, \"55\": 6, \"0\": 1, \"5\": 1, \"72\": 1}, \"32\": {\"55\": 1, \"32\": 7, \"87\": 1, \"97\": 1, \"5\": 2}, \"120\": {\"120\": 3, \"76\": 1, \"57\": 2, \"116\": 1, \"123\": 1, \"90\": 1, \"38\": 2, \"60\": 1}, \"97\": {\"97\": 9, \"91\": 1, \"24\": 1, \"92\": 1}, \"126\": {\"126\": 9, \"115\": 1, \"73\": 1, \"64\": 1}, \"45\": {\"126\": 2, \"50\": 1, \"120\": 1, \"80\": 2, \"63\": 1, \"42\": 1, \"45\": 1, \"41\": 1, \"23\": 2}, \"78\": {\"3\": 2, \"54\": 3, \"55\": 1, \"21\": 1, \"108\": 1, \"73\": 2}, \"100\": {\"100\": 4, \"63\": 1, \"80\": 2, \"105\": 1, \"50\": 1, \"114\": 1, \"84\": 1, \"126\": 1}, \"107\": {\"115\": 1, \"107\": 5, \"0\": 2, \"17\": 3, \"85\": 1}, \"93\": {\"115\": 2, \"93\": 2, \"107\": 1, \"48\": 1, \"24\": 1, \"90\": 1, \"72\": 3, \"105\": 1}, \"77\": {\"77\": 11, \"103\": 1}, \"63\": {\"34\": 1, \"113\": 1, \"2\": 2, \"63\": 3, \"81\": 1, \"42\": 1, \"69\": 1, \"87\": 2}, \"112\": {\"112\": 11, \"92\": 1}, \"113\": {\"65\": 1, \"113\": 7, \"13\": 2, \"43\": 1, \"11\": 1}, \"103\": {\"85\": 2, \"57\": 1, \"103\": 6, \"86\": 1}, \"71\": {\"92\": 2, \"71\": 7, \"112\": 2, \"68\": 1}, \"30\": {\"30\": 4, \"71\": 1, \"59\": 1, \"52\": 1, \"27\": 1, \"111\": 1, \"94\": 1, \"86\": 2}, \"90\": {\"90\": 9, \"54\": 1, \"99\": 1, \"96\": 1}, \"37\": {\"15\": 3, \"37\": 6, \"98\": 2, \"27\": 1}, \"60\": {\"60\": 6, \"114\": 1, \"96\": 1, \"49\": 1, \"11\": 1, \"1\": 1, \"104\": 1}, \"15\": {\"71\": 1, \"30\": 1, \"0\": 1, \"53\": 1, \"127\": 1, \"6\": 1, \"15\": 4, \"108\": 1, \"4\": 1}, \"39\": {\"39\": 4, \"113\": 1, \"63\": 1, \"42\": 1, \"87\": 1, \"16\": 3, \"22\": 1}, \"72\": {\"72\": 8, \"106\": 1, \"85\": 1, \"55\": 2}, \"54\": {\"54\": 9, \"29\": 1, \"22\": 1, \"47\": 1}, \"35\": {\"86\": 1, \"96\": 1, \"87\": 1, \"72\": 1, \"28\": 1, \"47\": 1, \"35\": 2, \"46\": 1, \"85\": 1, \"115\": 2}, \"2\": {\"35\": 1, \"119\": 1, \"2\": 6, \"93\": 1, \"59\": 1, \"120\": 2}, \"94\": {\"53\": 1, \"0\": 1, \"66\": 1, \"41\": 1, \"75\": 2, \"94\": 3, \"90\": 1, \"109\": 1, \"4\": 1}, \"42\": {\"87\": 2, \"42\": 6, \"1\": 1, \"28\": 1, \"66\": 1, \"34\": 1}, \"81\": {\"81\": 8, \"50\": 1, \"120\": 1, \"67\": 1, \"94\": 1}, \"8\": {\"74\": 2, \"8\": 6, \"21\": 3, \"20\": 1}, \"87\": {\"9\": 1, \"114\": 1, \"72\": 1, \"1\": 1, \"29\": 2, \"110\": 3, \"87\": 2, \"129\": 1}, \"6\": {\"15\": 1, \"53\": 1, \"6\": 2, \"112\": 2, \"94\": 2, \"92\": 2, \"27\": 2}, \"36\": {\"6\": 2, \"71\": 1, \"124\": 1, \"36\": 5, \"37\": 1, \"60\": 1, \"83\": 1}, \"91\": {\"91\": 6, \"72\": 1, \"75\": 1, \"85\": 2, \"77\": 1, \"12\": 1}, \"56\": {\"72\": 1, \"56\": 7, \"91\": 2, \"58\": 1, \"85\": 1}, \"80\": {\"80\": 3, \"20\": 1, \"45\": 1, \"62\": 1, \"47\": 1, \"34\": 1, \"81\": 1, \"112\": 1, \"90\": 1, \"11\": 1}, \"124\": {\"66\": 1, \"11\": 1, \"100\": 1, \"105\": 1, \"124\": 2, \"45\": 1, \"37\": 1, \"114\": 1, \"122\": 1}, \"44\": {\"44\": 12}, \"13\": {\"119\": 2, \"20\": 1, \"102\": 1, \"13\": 4, \"69\": 1, \"61\": 1, \"21\": 1, \"62\": 1}, \"10\": {\"58\": 2, \"101\": 2, \"21\": 3, \"70\": 1, \"8\": 1, \"10\": 1, \"61\": 1, \"17\": 1}, \"59\": {\"56\": 2, \"37\": 1, \"59\": 5, \"30\": 1, \"123\": 2, \"51\": 1}, \"95\": {\"16\": 1, \"95\": 8, \"26\": 1, \"87\": 1, \"74\": 1}, \"105\": {\"103\": 1, \"105\": 3, \"5\": 1, \"66\": 1, \"114\": 2, \"73\": 1, \"72\": 1, \"54\": 1, \"32\": 1}, \"101\": {\"5\": 1, \"101\": 8, \"31\": 1, \"93\": 1, \"0\": 1}, \"20\": {\"20\": 12}, \"48\": {\"75\": 1, \"28\": 1, \"48\": 6, \"77\": 1, \"93\": 1, \"44\": 1, \"26\": 1}, \"106\": {\"35\": 1, \"111\": 1, \"128\": 1, \"103\": 1, \"4\": 3, \"106\": 2, \"58\": 1, \"17\": 1, \"47\": 1}, \"51\": {\"111\": 1, \"51\": 9, \"125\": 1, \"72\": 1}, \"21\": {\"28\": 2, \"87\": 1, \"21\": 6, \"58\": 1, \"7\": 1, \"101\": 1}, \"123\": {\"123\": 7, \"48\": 1, \"78\": 1, \"13\": 1, \"63\": 1, \"87\": 1}, \"121\": {\"61\": 2, \"83\": 2, \"121\": 2, \"21\": 4, \"20\": 2}, \"38\": {\"121\": 1, \"20\": 1, \"29\": 2, \"8\": 1, \"38\": 4, \"90\": 1, \"14\": 1, \"111\": 1}, \"62\": {\"79\": 1, \"62\": 4, \"33\": 1, \"59\": 2, \"60\": 1, \"50\": 2, \"46\": 1}, \"29\": {\"29\": 12}, \"82\": {\"87\": 2, \"90\": 1, \"8\": 2, \"93\": 1, \"14\": 1, \"25\": 1, \"82\": 4}, \"116\": {\"83\": 1, \"102\": 1, \"116\": 2, \"79\": 1, \"62\": 1, \"35\": 2, \"64\": 2, \"65\": 1, \"124\": 1}, \"12\": {\"107\": 2, \"12\": 3, \"111\": 1, \"112\": 1, \"91\": 1}}, \"C_A_5\": {\"47\": {\"47\": 10}, \"53\": {\"53\": 12}, \"29\": {\"29\": 12}, \"52\": {\"52\": 12}, \"55\": {\"17\": 1, \"55\": 11}, \"17\": {\"17\": 11, \"25\": 1}, \"42\": {\"42\": 12}, \"33\": {\"33\": 10}, \"11\": {\"11\": 12}, \"19\": {\"19\": 8}, \"1\": {\"1\": 11, \"39\": 1}, \"44\": {\"44\": 10, \"33\": 1, \"29\": 1}, \"49\": {\"49\": 12}, \"4\": {\"4\": 12}, \"6\": {\"6\": 4, \"1\": 1, \"7\": 1, \"38\": 2, \"27\": 1, \"30\": 1, \"17\": 1, \"26\": 1}, \"39\": {\"39\": 12}, \"13\": {\"13\": 10, \"15\": 1, \"56\": 1}, \"5\": {\"5\": 9, \"50\": 1}, \"16\": {\"16\": 10}, \"25\": {\"25\": 7, \"8\": 2, \"41\": 2, \"53\": 1}, \"45\": {\"45\": 10, \"38\": 2}, \"7\": {\"7\": 10}, \"22\": {\"22\": 10, \"29\": 1, \"49\": 1}, \"40\": {\"44\": 3, \"40\": 1, \"28\": 1, \"5\": 1, \"33\": 1, \"19\": 3, \"27\": 1, \"4\": 1}, \"38\": {\"38\": 10, \"45\": 2}, \"35\": {\"52\": 1, \"35\": 6, \"31\": 1}, \"56\": {\"56\": 12}, \"50\": {\"27\": 1, \"30\": 2, \"5\": 1, \"19\": 1, \"8\": 1, \"6\": 2, \"25\": 1, \"50\": 1}, \"0\": {\"0\": 12}, \"10\": {\"10\": 12}, \"27\": {\"27\": 11, \"32\": 1}, \"20\": {\"20\": 10}, \"36\": {\"36\": 7, \"28\": 1}, \"34\": {\"34\": 12}, \"30\": {\"30\": 12}, \"2\": {\"2\": 10}, \"15\": {\"15\": 12}, \"18\": {\"18\": 12}, \"32\": {\"32\": 11, \"27\": 1}, \"31\": {\"31\": 12}, \"57\": {\"57\": 12}, \"48\": {\"1\": 2, \"48\": 5, \"50\": 1}, \"28\": {\"28\": 10}, \"14\": {\"11\": 2, \"14\": 4, \"41\": 2, \"32\": 1, \"1\": 2, \"52\": 1}, \"3\": {\"14\": 2, \"3\": 8, \"31\": 1, \"52\": 1}, \"8\": {\"8\": 12}, \"9\": {\"9\": 11, \"33\": 1}, \"21\": {\"21\": 9, \"37\": 1}, \"41\": {\"41\": 12}, \"24\": {\"24\": 12}, \"46\": {\"46\": 10}, \"43\": {\"43\": 10}, \"54\": {\"54\": 10}, \"23\": {\"23\": 9, \"47\": 1}, \"37\": {\"37\": 10}, \"12\": {\"12\": 10}, \"26\": {\"26\": 10}, \"51\": {\"51\": 6}}, \"C_A_1\": {\"46\": {\"46\": 6, \"56\": 2, \"6\": 1, \"50\": 2, \"48\": 1}, \"16\": {\"16\": 12}, \"26\": {\"26\": 9, \"9\": 2, \"53\": 1}, \"10\": {\"10\": 12}, \"9\": {\"9\": 10}, \"28\": {\"28\": 11, \"39\": 1}, \"51\": {\"51\": 12}, \"1\": {\"1\": 11, \"7\": 1}, \"55\": {\"55\": 11, \"54\": 1}, \"27\": {\"27\": 10}, \"22\": {\"22\": 11, \"24\": 1}, \"52\": {\"52\": 10, \"15\": 2}, \"3\": {\"51\": 3, \"57\": 1, \"35\": 1, \"3\": 3, \"1\": 1, \"19\": 1, \"13\": 2}, \"33\": {\"33\": 8}, \"47\": {\"47\": 9, \"35\": 3}, \"42\": {\"42\": 12}, \"12\": {\"12\": 4}, \"23\": {\"23\": 12}, \"49\": {\"49\": 10}, \"7\": {\"7\": 12}, \"4\": {\"56\": 2, \"4\": 6, \"5\": 2, \"46\": 1, \"44\": 1}, \"50\": {\"50\": 12}, \"19\": {\"19\": 10, \"57\": 1, \"1\": 1}, \"11\": {\"11\": 12}, \"31\": {\"31\": 10}, \"41\": {\"19\": 2, \"53\": 1, \"41\": 3, \"17\": 2, \"26\": 2, \"51\": 2}, \"56\": {\"56\": 8, \"19\": 2}, \"0\": {\"0\": 11, \"16\": 1}, \"57\": {\"19\": 2, \"57\": 9, \"1\": 1}, \"53\": {\"53\": 12}, \"43\": {\"43\": 11, \"27\": 1}, \"37\": {\"37\": 12}, \"2\": {\"2\": 8}, \"6\": {\"6\": 9, \"46\": 1, \"48\": 2}, \"18\": {\"18\": 12}, \"38\": {\"38\": 12}, \"15\": {\"15\": 12}, \"36\": {\"36\": 12}, \"39\": {\"39\": 8}, \"44\": {\"44\": 12}, \"8\": {\"8\": 12}, \"17\": {\"17\": 10}, \"5\": {\"5\": 12}, \"13\": {\"13\": 10}, \"40\": {\"17\": 1, \"40\": 3, \"4\": 2, \"19\": 1, \"44\": 1, \"47\": 1, \"3\": 1}, \"29\": {\"29\": 8, \"51\": 1, \"44\": 1, \"24\": 1, \"56\": 1}, \"48\": {\"48\": 12}, \"32\": {\"32\": 12}, \"30\": {\"30\": 12}, \"35\": {\"35\": 11, \"47\": 1}, \"25\": {\"8\": 1, \"25\": 11}, \"14\": {\"8\": 3, \"14\": 4, \"51\": 1, \"57\": 1, \"13\": 1, \"7\": 1, \"42\": 1}, \"54\": {\"54\": 10}, \"20\": {\"20\": 8}, \"21\": {\"21\": 10}, \"45\": {\"45\": 8}, \"24\": {\"24\": 8}, \"34\": {\"34\": 8}}, \"W_A_2\": {\"91\": {\"101\": 2, \"91\": 4, \"41\": 1, \"29\": 2, \"79\": 1, \"53\": 1, \"115\": 1}, \"12\": {\"12\": 1, \"91\": 1, \"30\": 1, \"110\": 2, \"68\": 1, \"99\": 1, \"41\": 1, \"54\": 1, \"7\": 2, \"101\": 1}, \"101\": {\"97\": 1, \"101\": 4, \"90\": 1, \"111\": 1, \"0\": 1, \"79\": 1, \"12\": 1}, \"121\": {\"17\": 2, \"120\": 1, \"64\": 3, \"23\": 1, \"121\": 2, \"76\": 1, \"84\": 1, \"71\": 1}, \"118\": {\"88\": 1, \"118\": 4, \"13\": 1, \"65\": 2, \"85\": 1, \"113\": 1, \"21\": 1, \"31\": 1}, \"10\": {\"126\": 1, \"88\": 1, \"10\": 5, \"115\": 1, \"85\": 1, \"60\": 1, \"3\": 2}, \"117\": {\"117\": 10, \"2\": 1, \"121\": 1}, \"110\": {\"110\": 7, \"106\": 1, \"12\": 1, \"34\": 1, \"22\": 1, \"103\": 1}, \"97\": {\"91\": 1, \"88\": 1, \"103\": 1, \"98\": 1, \"54\": 1, \"9\": 1, \"94\": 1, \"122\": 1, \"43\": 1, \"97\": 2, \"29\": 1}, \"28\": {\"88\": 1, \"110\": 2, \"34\": 1, \"40\": 1, \"8\": 2, \"28\": 2, \"120\": 1, \"22\": 1, \"25\": 1}, \"88\": {\"88\": 5, \"66\": 4, \"20\": 1, \"73\": 1, \"46\": 1}, \"17\": {\"110\": 1, \"33\": 1, \"105\": 2, \"85\": 1, \"1\": 1, \"74\": 2, \"8\": 4}, \"126\": {\"126\": 9, \"1\": 1, \"46\": 1, \"112\": 1}, \"33\": {\"86\": 1, \"33\": 3, \"88\": 1, \"56\": 1, \"43\": 1, \"63\": 1, \"119\": 1, \"116\": 1, \"60\": 1, \"87\": 1}, \"86\": {\"86\": 3, \"66\": 2, \"19\": 1, \"70\": 1, \"37\": 1, \"124\": 1, \"74\": 1, \"105\": 2}, \"106\": {\"106\": 3, \"4\": 1, \"54\": 1, \"25\": 1, \"24\": 1, \"91\": 1, \"97\": 2, \"58\": 1, \"15\": 1}, \"54\": {\"103\": 2, \"54\": 9, \"122\": 1}, \"125\": {\"125\": 4, \"15\": 1, \"4\": 2, \"51\": 1, \"127\": 1, \"36\": 1, \"34\": 1, \"129\": 1}, \"83\": {\"83\": 8, \"61\": 1, \"60\": 2, \"42\": 1}, \"98\": {\"98\": 7, \"90\": 2, \"11\": 1, \"54\": 2}, \"11\": {\"11\": 6, \"42\": 1, \"44\": 1, \"41\": 1, \"112\": 1, \"49\": 1, \"1\": 1}, \"32\": {\"32\": 8, \"34\": 1, \"74\": 1, \"56\": 2}, \"42\": {\"11\": 1, \"42\": 7, \"108\": 1, \"44\": 1, \"112\": 1, \"126\": 1}, \"103\": {\"103\": 10, \"127\": 2}, \"87\": {\"61\": 1, \"32\": 1, \"46\": 2, \"88\": 1, \"66\": 2, \"23\": 2, \"70\": 1, \"35\": 1, \"126\": 1}, \"61\": {\"61\": 9, \"42\": 1, \"99\": 1, \"44\": 1}, \"13\": {\"13\": 5, \"18\": 1, \"16\": 1, \"99\": 1, \"23\": 1, \"44\": 1, \"72\": 2}, \"4\": {\"103\": 2, \"68\": 1, \"0\": 2, \"108\": 1, \"4\": 3, \"74\": 1, \"7\": 1, \"22\": 1}, \"15\": {\"15\": 4, \"4\": 1, \"127\": 2, \"54\": 1, \"35\": 1, \"60\": 1}, \"120\": {\"120\": 12}, \"80\": {\"80\": 6, \"72\": 1, \"46\": 1, \"14\": 1, \"57\": 1, \"48\": 2}, \"72\": {\"81\": 2, \"72\": 6, \"69\": 1, \"70\": 1}, \"64\": {\"129\": 1, \"35\": 1, \"64\": 3, \"17\": 1, \"43\": 1, \"45\": 1, \"47\": 1, \"81\": 1, \"19\": 1, \"66\": 1}, \"81\": {\"72\": 1, \"81\": 6, \"109\": 1, \"2\": 1, \"102\": 1, \"82\": 2}, \"102\": {\"102\": 9, \"67\": 2, \"50\": 1}, \"76\": {\"129\": 1, \"64\": 1, \"65\": 1, \"66\": 1, \"2\": 1, \"70\": 1, \"17\": 1, \"96\": 1, \"45\": 1, \"37\": 1, \"107\": 2}, \"49\": {\"98\": 1, \"49\": 4, \"47\": 1, \"114\": 1, \"53\": 2, \"21\": 1}, \"129\": {\"110\": 4, \"79\": 1, \"129\": 7}, \"89\": {\"121\": 1, \"64\": 1, \"13\": 2, \"27\": 1, \"72\": 1, \"50\": 1, \"89\": 3, \"55\": 2}, \"52\": {\"52\": 9, \"79\": 1, \"34\": 2}, \"35\": {\"35\": 6, \"127\": 1, \"79\": 2, \"47\": 1, \"101\": 1, \"58\": 1}, \"53\": {\"53\": 7, \"116\": 1, \"29\": 2, \"108\": 1, \"111\": 1}, \"112\": {\"112\": 7, \"54\": 2, \"43\": 1, \"129\": 1, \"3\": 1}, \"105\": {\"105\": 8, \"122\": 2, \"1\": 2}, \"100\": {\"100\": 4, \"105\": 1, \"23\": 3, \"22\": 1, \"78\": 1, \"56\": 1, \"60\": 1}, \"9\": {\"9\": 5, \"58\": 1, \"94\": 2, \"12\": 1, \"111\": 1, \"0\": 2}, \"82\": {\"82\": 11, \"69\": 1}, \"51\": {\"125\": 2, \"51\": 6, \"30\": 1, \"127\": 1, \"24\": 1, \"41\": 1}, \"21\": {\"21\": 12}, \"92\": {\"92\": 5, \"105\": 1, \"32\": 1, \"66\": 1, \"76\": 1, \"84\": 1, \"72\": 2}, \"69\": {\"69\": 7, \"99\": 1, \"81\": 1, \"102\": 1, \"18\": 1, \"72\": 1}, \"77\": {\"77\": 11, \"91\": 1}, \"50\": {\"15\": 1, \"88\": 1, \"35\": 2, \"50\": 3, \"39\": 1, \"31\": 1, \"17\": 1, \"112\": 1, \"14\": 1}, \"36\": {\"127\": 1, \"103\": 1, \"36\": 7, \"71\": 1, \"0\": 1, \"101\": 1}, \"16\": {\"50\": 1, \"88\": 1, \"67\": 1, \"20\": 1, \"16\": 5, \"120\": 1, \"55\": 1, \"102\": 1}, \"8\": {\"88\": 1, \"123\": 1, \"8\": 9, \"120\": 1}, \"127\": {\"103\": 1, \"127\": 4, \"5\": 2, \"7\": 3, \"79\": 2}, \"46\": {\"46\": 5, \"90\": 2, \"126\": 2, \"103\": 1}, \"84\": {\"8\": 2, \"122\": 2, \"44\": 1, \"84\": 1, \"80\": 1, \"105\": 1, \"95\": 1, \"60\": 1, \"37\": 1, \"107\": 1}, \"18\": {\"18\": 11, \"69\": 1}, \"123\": {\"123\": 8, \"59\": 1, \"19\": 1}, \"56\": {\"66\": 1, \"71\": 1, \"108\": 1, \"46\": 1, \"79\": 1, \"60\": 1, \"56\": 3, \"103\": 1, \"122\": 1, \"73\": 1}, \"26\": {\"26\": 8, \"80\": 1, \"18\": 2, \"81\": 1}, \"14\": {\"66\": 1, \"14\": 4, \"57\": 1, \"62\": 1, \"104\": 1, \"50\": 1, \"22\": 1, \"43\": 1, \"1\": 1}, \"109\": {\"14\": 1, \"66\": 1, \"99\": 1, \"109\": 2, \"63\": 1, \"46\": 1, \"70\": 1, \"43\": 1, \"96\": 1, \"100\": 2}, \"66\": {\"66\": 7, \"32\": 2, \"22\": 2, \"110\": 1}, \"24\": {\"71\": 2, \"75\": 1, \"10\": 1, \"42\": 1, \"20\": 1, \"94\": 1, \"7\": 1, \"34\": 2, \"44\": 2}, \"71\": {\"66\": 1, \"71\": 2, \"54\": 1, \"112\": 1, \"105\": 1, \"115\": 2, \"11\": 1, \"53\": 1, \"5\": 2}, \"65\": {\"80\": 1, \"65\": 4, \"75\": 1, \"26\": 1, \"69\": 2, \"102\": 1, \"51\": 1, \"88\": 1}, \"75\": {\"75\": 7, \"77\": 1, \"114\": 1, \"41\": 1, \"21\": 1, \"25\": 1}, \"111\": {\"71\": 1, \"111\": 5, \"0\": 1, \"114\": 1, \"127\": 2, \"128\": 1, \"103\": 1}, \"30\": {\"30\": 5, \"5\": 1, \"71\": 3, \"127\": 1, \"111\": 1, \"91\": 1}, \"85\": {\"110\": 2, \"85\": 6, \"4\": 1, \"1\": 2, \"60\": 1}, \"113\": {\"113\": 4, \"65\": 1, \"31\": 2, \"21\": 1, \"72\": 2}, \"45\": {\"113\": 1, \"45\": 1, \"64\": 1, \"13\": 1, \"2\": 4, \"17\": 1, \"76\": 1, \"31\": 1, \"117\": 1}, \"29\": {\"29\": 6, \"59\": 4, \"114\": 1, \"25\": 1}, \"20\": {\"20\": 11, \"21\": 1}, \"25\": {\"25\": 7, \"75\": 2, \"106\": 2, \"112\": 1}, \"0\": {\"12\": 2, \"4\": 1, \"91\": 1, \"111\": 1, \"112\": 2, \"0\": 2, \"79\": 2, \"22\": 1}, \"68\": {\"68\": 9, \"101\": 1, \"12\": 1, \"58\": 1}, \"119\": {\"119\": 11, \"90\": 1}, \"90\": {\"90\": 9, \"46\": 1, \"43\": 1, \"56\": 1}, \"38\": {\"38\": 12}, \"99\": {\"109\": 1, \"99\": 4, \"120\": 2, \"63\": 1, \"28\": 1, \"70\": 1, \"57\": 1, \"53\": 1}, \"1\": {\"1\": 12}, \"67\": {\"67\": 7, \"109\": 1, \"125\": 1, \"16\": 1, \"93\": 1, \"75\": 1}, \"63\": {\"80\": 1, \"28\": 1, \"32\": 1, \"63\": 6, \"19\": 1, \"100\": 1, \"73\": 1}, \"34\": {\"34\": 6, \"5\": 1, \"73\": 1, \"110\": 1, \"77\": 1, \"129\": 1, \"19\": 1}, \"108\": {\"90\": 1, \"108\": 10, \"115\": 1}, \"40\": {\"28\": 1, \"108\": 1, \"40\": 6, \"5\": 1, \"1\": 1, \"105\": 2}, \"47\": {\"90\": 2, \"34\": 2, \"47\": 4, \"22\": 1, \"19\": 1, \"110\": 1, \"66\": 1}, \"37\": {\"33\": 2, \"43\": 1, \"37\": 4, \"70\": 1, \"40\": 1, \"22\": 1, \"28\": 1, \"99\": 1}, \"78\": {\"21\": 1, \"43\": 1, \"3\": 1, \"78\": 6, \"74\": 2, \"120\": 1}, \"96\": {\"96\": 4, \"90\": 1, \"39\": 1, \"23\": 1, \"83\": 1, \"76\": 1, \"47\": 1, \"28\": 1, \"55\": 1}, \"43\": {\"90\": 1, \"21\": 1, \"43\": 6, \"123\": 2, \"22\": 1, \"103\": 1}, \"5\": {\"5\": 5, \"19\": 1, \"122\": 3, \"107\": 1}, \"124\": {\"124\": 3, \"106\": 1, \"95\": 2, \"22\": 2, \"43\": 1, \"34\": 1, \"77\": 1, \"47\": 1}, \"44\": {\"44\": 10, \"38\": 2}, \"41\": {\"44\": 2, \"41\": 7, \"108\": 1, \"11\": 1, \"99\": 1}, \"116\": {\"43\": 1, \"99\": 2, \"60\": 2, \"22\": 1, \"100\": 1, \"28\": 1, \"109\": 1, \"73\": 1, \"103\": 1, \"33\": 1}, \"19\": {\"19\": 5, \"75\": 1, \"105\": 2, \"43\": 1, \"47\": 1, \"85\": 2}, \"115\": {\"112\": 1, \"115\": 6, \"3\": 2, \"127\": 2, \"71\": 1}, \"95\": {\"124\": 2, \"95\": 1, \"126\": 1, \"68\": 3, \"122\": 1, \"1\": 3, \"19\": 1}, \"3\": {\"112\": 2, \"22\": 1, \"3\": 6, \"60\": 1}, \"59\": {\"34\": 1, \"5\": 1, \"59\": 7, \"41\": 1, \"115\": 1, \"53\": 1}, \"55\": {\"86\": 1, \"63\": 1, \"37\": 1, \"55\": 5, \"22\": 1, \"102\": 2, \"33\": 1}, \"70\": {\"70\": 5, \"1\": 3, \"53\": 1, \"123\": 1, \"87\": 1, \"108\": 1}, \"6\": {\"30\": 1, \"6\": 5, \"127\": 1, \"114\": 2, \"51\": 1, \"24\": 1, \"12\": 1}, \"2\": {\"70\": 1, \"2\": 5, \"16\": 3, \"18\": 1, \"63\": 1, \"105\": 1}, \"48\": {\"48\": 9, \"55\": 1, \"66\": 1, \"113\": 1}, \"23\": {\"63\": 1, \"44\": 1, \"61\": 1, \"23\": 4, \"115\": 1, \"65\": 1, \"42\": 1, \"48\": 1, \"10\": 1}, \"7\": {\"122\": 1, \"7\": 4, \"34\": 1, \"3\": 2, \"114\": 2, \"59\": 2}, \"122\": {\"122\": 8, \"5\": 1, \"128\": 1, \"78\": 1, \"107\": 1}, \"57\": {\"63\": 1, \"42\": 1, \"60\": 1, \"57\": 1, \"72\": 1, \"8\": 1, \"88\": 1, \"65\": 1, \"48\": 1, \"71\": 1, \"70\": 1, \"13\": 1}, \"39\": {\"50\": 1, \"39\": 2, \"22\": 2, \"83\": 1, \"87\": 1, \"53\": 1, \"118\": 1, \"21\": 1}, \"79\": {\"79\": 4, \"114\": 2, \"34\": 3, \"56\": 1, \"115\": 1, \"10\": 1}, \"27\": {\"27\": 8, \"128\": 1, \"107\": 1}, \"74\": {\"23\": 2, \"56\": 1, \"85\": 1, \"74\": 5, \"22\": 1, \"120\": 1, \"129\": 1}, \"73\": {\"79\": 1, \"100\": 1, \"73\": 2, \"40\": 1, \"114\": 1, \"22\": 2, \"107\": 1, \"103\": 1, \"60\": 2}, \"62\": {\"62\": 7, \"37\": 1, \"16\": 1, \"74\": 1, \"43\": 1, \"124\": 1}, \"107\": {\"107\": 5, \"40\": 3, \"114\": 1, \"85\": 1, \"103\": 1, \"111\": 1}, \"128\": {\"122\": 2, \"128\": 3, \"59\": 1, \"123\": 1, \"1\": 1, \"71\": 1, \"42\": 1, \"87\": 2}, \"60\": {\"128\": 1, \"73\": 1, \"60\": 7, \"85\": 1, \"1\": 1, \"122\": 1}, \"114\": {\"34\": 1, \"7\": 1, \"114\": 7, \"108\": 1, \"79\": 2}, \"22\": {\"22\": 9, \"47\": 1, \"114\": 1, \"74\": 1}, \"93\": {\"60\": 1, \"93\": 5, \"104\": 2, \"119\": 1, \"70\": 2, \"28\": 1}, \"94\": {\"111\": 3, \"58\": 2, \"94\": 4, \"128\": 1, \"20\": 1, \"12\": 1}, \"31\": {\"60\": 1, \"94\": 1, \"48\": 1, \"31\": 5, \"92\": 2}, \"104\": {\"57\": 3, \"107\": 1, \"62\": 3, \"50\": 1, \"104\": 2, \"55\": 1, \"66\": 1}, \"58\": {\"58\": 10, \"35\": 1, \"106\": 1}}, \"C_A_2\": {\"14\": {\"4\": 2, \"38\": 1, \"24\": 1, \"14\": 5, \"19\": 1, \"17\": 1, \"11\": 1}, \"22\": {\"56\": 1, \"22\": 11}, \"9\": {\"9\": 11, \"3\": 1}, \"47\": {\"47\": 11, \"5\": 1}, \"13\": {\"13\": 12}, \"8\": {\"8\": 9, \"20\": 1, \"50\": 1, \"3\": 1}, \"7\": {\"7\": 11, \"1\": 1}, \"49\": {\"49\": 12}, \"20\": {\"20\": 12}, \"16\": {\"16\": 12}, \"34\": {\"34\": 10, \"39\": 1, \"3\": 1}, \"56\": {\"22\": 4, \"56\": 7, \"37\": 1}, \"38\": {\"38\": 10}, \"4\": {\"4\": 10, \"53\": 2}, \"43\": {\"43\": 9, \"24\": 1}, \"26\": {\"26\": 10}, \"35\": {\"35\": 8, \"40\": 3, \"32\": 1}, \"31\": {\"31\": 9, \"5\": 2, \"47\": 1}, \"1\": {\"1\": 11, \"41\": 1}, \"39\": {\"39\": 10, \"46\": 1, \"7\": 1}, \"5\": {\"5\": 9, \"31\": 2, \"57\": 1}, \"24\": {\"24\": 12}, \"54\": {\"54\": 10}, \"23\": {\"23\": 12}, \"51\": {\"51\": 12}, \"27\": {\"27\": 10}, \"15\": {\"15\": 12}, \"0\": {\"0\": 12}, \"19\": {\"19\": 8, \"33\": 2}, \"18\": {\"18\": 8}, \"30\": {\"18\": 3, \"30\": 9}, \"55\": {\"55\": 8, \"2\": 1, \"42\": 1}, \"57\": {\"57\": 12}, \"2\": {\"2\": 12}, \"12\": {\"12\": 7, \"27\": 1}, \"41\": {\"41\": 12}, \"42\": {\"42\": 11, \"7\": 1}, \"48\": {\"48\": 12}, \"37\": {\"37\": 10, \"7\": 1, \"2\": 1}, \"6\": {\"6\": 6, \"48\": 1, \"3\": 1, \"42\": 1, \"46\": 1}, \"11\": {\"11\": 10}, \"45\": {\"45\": 4, \"4\": 2, \"32\": 2}, \"21\": {\"21\": 12}, \"46\": {\"46\": 7, \"6\": 2, \"48\": 1}, \"25\": {\"25\": 9, \"8\": 3}, \"36\": {\"36\": 10}, \"53\": {\"53\": 12}, \"28\": {\"28\": 12}, \"40\": {\"33\": 3, \"44\": 1, \"19\": 2, \"4\": 2, \"40\": 1, \"9\": 1}, \"33\": {\"33\": 10}, \"44\": {\"44\": 9, \"14\": 1}, \"3\": {\"33\": 1, \"3\": 6, \"6\": 1, \"9\": 1, \"17\": 1, \"27\": 2}, \"17\": {\"17\": 12}, \"32\": {\"32\": 10}, \"10\": {\"10\": 10}, \"52\": {\"52\": 9, \"23\": 1}, \"50\": {\"50\": 6, \"8\": 1, \"25\": 1}, \"29\": {\"29\": 6}}}, \"per_domain_accuracy\": {\"ORACLE.run1_14\": {\"accuracy\": 0.8104166666666667, \"source?\": true}, \"ORACLE.run1_20\": {\"accuracy\": 0.6669270833333333, \"source?\": true}, \"ORACLE.run1_38\": {\"accuracy\": 0.7809895833333333, \"source?\": true}, \"ORACLE.run1_8\": {\"accuracy\": 0.7473958333333334, \"source?\": true}, \"ORACLE.run1_50\": {\"accuracy\": 0.7755208333333333, \"source?\": true}, \"ORACLE.run1_32\": {\"accuracy\": 0.7567708333333333, \"source?\": true}, \"ORACLE.run1_26\": {\"accuracy\": 0.5630208333333333, \"source?\": true}, \"ORACLE.run1_44\": {\"accuracy\": 0.6791666666666667, \"source?\": true}, \"W_A_3\": {\"accuracy\": 0.48828125, \"source?\": false}, \"W_A_4\": {\"accuracy\": 0.4420572916666667, \"source?\": false}, \"C_A_3\": {\"accuracy\": 0.871875, \"source?\": false}, \"C_A_4\": {\"accuracy\": 0.8828125, \"source?\": false}, \"W_A_1\": {\"accuracy\": 0.5221354166666666, \"source?\": false}, \"C_A_5\": {\"accuracy\": 0.890625, \"source?\": false}, \"C_A_1\": {\"accuracy\": 0.8828125, \"source?\": false}, \"W_A_2\": {\"accuracy\": 0.4765625, \"source?\": false}, \"C_A_2\": {\"accuracy\": 0.8734375, \"source?\": false}}}, \"history\": {\"epoch_indices\": [1, 2, 3, 4, 5, 6, 7, 8], \"train_label_loss\": [1.1061617150636656, 1.0166698511778598, 0.8650321309632134, 0.7909993497011739, 0.6621254875629564, 0.5659277986108681, 0.5198506096632973, 0.4899682531488084], \"source_val_label_loss\": [18.314537048339844, 0.956996738910675, 0.9086716175079346, 0.7584519982337952, 0.6455454230308533, 0.5407330393791199, 0.6790496110916138, 0.4916388988494873], \"target_val_label_loss\": [3496.23193359375, 758.69970703125, 927.2599487304688, 329.2342834472656, 394.6773986816406, 526.93115234375, 663.4759521484375, 838.0137329101562], \"source_val_acc_label\": [0.5562174479166667, 0.64580078125, 0.6638671875, 0.7225260416666667, 0.7638346354166666, 0.8042643229166667, 0.7531575520833333, 0.8174479166666667], \"target_val_acc_label\": [0.3897688356164384, 0.5171232876712328, 0.5587542808219178, 0.6185787671232876, 0.6013484589041096, 0.5826198630136986, 0.564105308219178, 0.5195847602739726]}, \"dataset_metrics\": {\"source\": {\"train\": {\"n_unique_x\": 179200, \"n_unique_y\": 16, \"n_batch/episode\": 6720}, \"val\": {\"n_unique_x\": 38400, \"n_unique_y\": 16, \"n_batch/episode\": 960}, \"test\": {\"n_unique_x\": 38400, \"n_unique_y\": 16, \"n_batch/episode\": 960}}, \"target\": {\"train\": {\"n_unique_x\": 56700, \"n_unique_y\": 130, \"n_batch/episode\": 2080}, \"val\": {\"n_unique_x\": 12132, \"n_unique_y\": 130, \"n_batch/episode\": 292}, \"test\": {\"n_unique_x\": 12132, \"n_unique_y\": 130, \"n_batch/episode\": 292}}}}'"
      ]
     },
     "execution_count": 29,
     "metadata": {},
     "output_type": "execute_result"
    }
   ],
   "source": [
    "json.dumps(experiment)"
   ]
  }
 ],
 "metadata": {
  "celltoolbar": "Tags",
  "kernelspec": {
   "display_name": "Python 3 (ipykernel)",
   "language": "python",
   "name": "python3"
  },
  "language_info": {
   "codemirror_mode": {
    "name": "ipython",
    "version": 3
   },
   "file_extension": ".py",
   "mimetype": "text/x-python",
   "name": "python",
   "nbconvert_exporter": "python",
   "pygments_lexer": "ipython3",
   "version": "3.8.10"
  },
  "papermill": {
   "default_parameters": {},
   "duration": 1565.631946,
   "end_time": "2022-03-18T10:31:51.293529",
   "environment_variables": {},
   "exception": null,
   "input_path": "/mnt/wd500GB/CSC500/csc500-main/csc500-notebooks/templates/tl_ptn_template.ipynb",
   "output_path": "trial.ipynb",
   "parameters": {
    "parameters": {
     "BEST_MODEL_PATH": "./best_model.pth",
     "NUM_LOGS_PER_EPOCH": 10,
     "criteria_for_best": "target_loss",
     "dataset_seed": 1337,
     "datasets": [
      {
       "domain_prefix": "C_A_",
       "domains": [
        1,
        2,
        3,
        4,
        5
       ],
       "episode_transforms": [],
       "labels": [
        "1-10.",
        "1-11.",
        "1-15.",
        "1-16.",
        "1-17.",
        "1-18.",
        "1-19.",
        "10-4.",
        "10-7.",
        "11-1.",
        "11-14.",
        "11-17.",
        "11-20.",
        "11-7.",
        "13-20.",
        "13-8.",
        "14-10.",
        "14-11.",
        "14-14.",
        "14-7.",
        "15-1.",
        "15-20.",
        "16-1.",
        "16-16.",
        "17-10.",
        "17-11.",
        "17-2.",
        "19-1.",
        "19-16.",
        "19-19.",
        "19-20.",
        "19-3.",
        "2-10.",
        "2-11.",
        "2-17.",
        "2-18.",
        "2-20.",
        "2-3.",
        "2-4.",
        "2-5.",
        "2-6.",
        "2-7.",
        "2-8.",
        "3-13.",
        "3-18.",
        "3-3.",
        "4-1.",
        "4-10.",
        "4-11.",
        "4-19.",
        "5-5.",
        "6-15.",
        "7-10.",
        "7-14.",
        "8-18.",
        "8-20.",
        "8-3.",
        "8-8."
       ],
       "num_examples_per_domain_per_label": 100,
       "pickle_path": "/mnt/wd500GB/CSC500/csc500-main/datasets/cores.stratified_ds.2022A.pkl",
       "source_or_target_dataset": "target",
       "x_transforms": [
        "unit_mag",
        "jitter_256_1",
        "take_200"
       ]
      },
      {
       "domain_prefix": "W_A_",
       "domains": [
        1,
        2,
        3,
        4
       ],
       "episode_transforms": [],
       "labels": [
        "1-10",
        "1-12",
        "1-14",
        "1-16",
        "1-18",
        "1-19",
        "1-8",
        "10-11",
        "10-17",
        "10-4",
        "10-7",
        "11-1",
        "11-10",
        "11-19",
        "11-20",
        "11-4",
        "11-7",
        "12-19",
        "12-20",
        "12-7",
        "13-14",
        "13-18",
        "13-19",
        "13-20",
        "13-3",
        "13-7",
        "14-10",
        "14-11",
        "14-12",
        "14-13",
        "14-14",
        "14-19",
        "14-20",
        "14-7",
        "14-8",
        "14-9",
        "15-1",
        "15-19",
        "15-6",
        "16-1",
        "16-16",
        "16-19",
        "16-20",
        "17-10",
        "17-11",
        "18-1",
        "18-10",
        "18-11",
        "18-12",
        "18-13",
        "18-14",
        "18-15",
        "18-16",
        "18-17",
        "18-19",
        "18-2",
        "18-20",
        "18-4",
        "18-5",
        "18-7",
        "18-8",
        "18-9",
        "19-1",
        "19-10",
        "19-11",
        "19-12",
        "19-13",
        "19-14",
        "19-15",
        "19-19",
        "19-2",
        "19-20",
        "19-3",
        "19-4",
        "19-6",
        "19-7",
        "19-8",
        "19-9",
        "2-1",
        "2-13",
        "2-15",
        "2-3",
        "2-4",
        "2-5",
        "2-6",
        "2-7",
        "2-8",
        "20-1",
        "20-12",
        "20-14",
        "20-15",
        "20-16",
        "20-18",
        "20-19",
        "20-20",
        "20-3",
        "20-4",
        "20-5",
        "20-7",
        "20-8",
        "3-1",
        "3-13",
        "3-18",
        "3-2",
        "3-8",
        "4-1",
        "4-10",
        "4-11",
        "5-1",
        "5-5",
        "6-1",
        "6-15",
        "6-6",
        "7-10",
        "7-11",
        "7-12",
        "7-13",
        "7-14",
        "7-7",
        "7-8",
        "7-9",
        "8-1",
        "8-13",
        "8-14",
        "8-18",
        "8-20",
        "8-3",
        "8-8",
        "9-1",
        "9-7"
       ],
       "num_examples_per_domain_per_label": 100,
       "pickle_path": "/mnt/wd500GB/CSC500/csc500-main/datasets/wisig.node3-19.stratified_ds.2022A.pkl",
       "source_or_target_dataset": "target",
       "x_transforms": [
        "unit_mag",
        "jitter_256_1",
        "take_200"
       ]
      },
      {
       "domain_prefix": "ORACLE.run1_",
       "domains": [
        32,
        38,
        8,
        44,
        14,
        50,
        20,
        26
       ],
       "episode_transforms": [],
       "labels": [
        "3123D52",
        "3123D65",
        "3123D79",
        "3123D80",
        "3123D54",
        "3123D70",
        "3123D7B",
        "3123D89",
        "3123D58",
        "3123D76",
        "3123D7D",
        "3123EFE",
        "3123D64",
        "3123D78",
        "3123D7E",
        "3124E4A"
       ],
       "num_examples_per_domain_per_label": 2000,
       "pickle_path": "/mnt/wd500GB/CSC500/csc500-main/datasets/oracle.Run1_framed_2000Examples_stratified_ds.2022A.pkl",
       "source_or_target_dataset": "source",
       "x_transforms": [
        "unit_mag",
        "jitter_256_1",
        "take_200",
        "resample_20Msps_to_25Msps"
       ]
      }
     ],
     "device": "cuda",
     "experiment_name": "tl_3-jitter1:oracle.run1.framed -> cores+wisig",
     "lr": 0.001,
     "n_epoch": 50,
     "n_query": 2,
     "n_shot": 3,
     "n_way": 16,
     "patience": 3,
     "seed": 1337,
     "test_k_factor": 2,
     "torch_default_dtype": "torch.float32",
     "train_k_factor": 3,
     "val_k_factor": 2,
     "x_net": [
      {
       "class": "nnReshape",
       "kargs": {
        "shape": [
         -1,
         1,
         2,
         256
        ]
       }
      },
      {
       "class": "Conv2d",
       "kargs": {
        "bias": false,
        "in_channels": 1,
        "kernel_size": [
         1,
         7
        ],
        "out_channels": 256,
        "padding": [
         0,
         3
        ]
       }
      },
      {
       "class": "ReLU",
       "kargs": {
        "inplace": true
       }
      },
      {
       "class": "BatchNorm2d",
       "kargs": {
        "num_features": 256
       }
      },
      {
       "class": "Conv2d",
       "kargs": {
        "bias": true,
        "in_channels": 256,
        "kernel_size": [
         2,
         7
        ],
        "out_channels": 80,
        "padding": [
         0,
         3
        ]
       }
      },
      {
       "class": "ReLU",
       "kargs": {
        "inplace": true
       }
      },
      {
       "class": "BatchNorm2d",
       "kargs": {
        "num_features": 80
       }
      },
      {
       "class": "Flatten",
       "kargs": {}
      },
      {
       "class": "Linear",
       "kargs": {
        "in_features": 20480,
        "out_features": 256
       }
      },
      {
       "class": "ReLU",
       "kargs": {
        "inplace": true
       }
      },
      {
       "class": "BatchNorm1d",
       "kargs": {
        "num_features": 256
       }
      },
      {
       "class": "Linear",
       "kargs": {
        "in_features": 256,
        "out_features": 256
       }
      }
     ]
    }
   },
   "start_time": "2022-03-18T10:05:45.661583",
   "version": "2.3.4"
  }
 },
 "nbformat": 4,
 "nbformat_minor": 5
}