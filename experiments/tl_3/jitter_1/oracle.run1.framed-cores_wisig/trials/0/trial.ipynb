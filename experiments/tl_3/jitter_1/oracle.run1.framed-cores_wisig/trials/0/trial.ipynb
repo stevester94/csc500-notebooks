{
 "cells": [
  {
   "cell_type": "markdown",
   "id": "9fea5f46",
   "metadata": {
    "papermill": {
     "duration": 0.020565,
     "end_time": "2022-03-18T09:45:46.676302",
     "exception": false,
     "start_time": "2022-03-18T09:45:46.655737",
     "status": "completed"
    },
    "tags": []
   },
   "source": [
    "# Transfer Learning Template"
   ]
  },
  {
   "cell_type": "code",
   "execution_count": 1,
   "id": "0902182a",
   "metadata": {
    "execution": {
     "iopub.execute_input": "2022-03-18T09:45:46.715454Z",
     "iopub.status.busy": "2022-03-18T09:45:46.715021Z",
     "iopub.status.idle": "2022-03-18T09:45:47.647989Z",
     "shell.execute_reply": "2022-03-18T09:45:47.647682Z"
    },
    "papermill": {
     "duration": 0.959,
     "end_time": "2022-03-18T09:45:47.648058",
     "exception": false,
     "start_time": "2022-03-18T09:45:46.689058",
     "status": "completed"
    },
    "tags": []
   },
   "outputs": [],
   "source": [
    "%load_ext autoreload\n",
    "%autoreload 2\n",
    "%matplotlib inline\n",
    "\n",
    "    \n",
    "import os, json, sys, time, random\n",
    "import numpy as np\n",
    "import torch\n",
    "from torch.optim import Adam\n",
    "from  easydict import EasyDict\n",
    "import matplotlib.pyplot as plt\n",
    "\n",
    "from steves_models.steves_ptn import Steves_Prototypical_Network\n",
    "\n",
    "from steves_utils.lazy_iterable_wrapper import Lazy_Iterable_Wrapper\n",
    "from steves_utils.iterable_aggregator import Iterable_Aggregator\n",
    "from steves_utils.ptn_train_eval_test_jig import  PTN_Train_Eval_Test_Jig\n",
    "from steves_utils.torch_sequential_builder import build_sequential\n",
    "from steves_utils.torch_utils import get_dataset_metrics, ptn_confusion_by_domain_over_dataloader\n",
    "from steves_utils.utils_v2 import (per_domain_accuracy_from_confusion, get_datasets_base_path)\n",
    "from steves_utils.PTN.utils import independent_accuracy_assesment\n",
    "\n",
    "from torch.utils.data import DataLoader\n",
    "\n",
    "from steves_utils.stratified_dataset.episodic_accessor import Episodic_Accessor_Factory\n",
    "\n",
    "from steves_utils.ptn_do_report import (\n",
    "    get_loss_curve,\n",
    "    get_results_table,\n",
    "    get_parameters_table,\n",
    "    get_domain_accuracies,\n",
    ")\n",
    "\n",
    "from steves_utils.transforms import get_chained_transform"
   ]
  },
  {
   "cell_type": "markdown",
   "id": "41c840b4",
   "metadata": {
    "papermill": {
     "duration": 0.012876,
     "end_time": "2022-03-18T09:45:47.674247",
     "exception": false,
     "start_time": "2022-03-18T09:45:47.661371",
     "status": "completed"
    },
    "tags": []
   },
   "source": [
    "# Allowed Parameters\n",
    "These are allowed parameters, not defaults\n",
    "Each of these values need to be present in the injected parameters (the notebook will raise an exception if they are not present)\n",
    "\n",
    "Papermill uses the cell tag \"parameters\" to inject the real parameters below this cell.\n",
    "Enable tags to see what I mean"
   ]
  },
  {
   "cell_type": "code",
   "execution_count": 2,
   "id": "fd44eb83",
   "metadata": {
    "execution": {
     "iopub.execute_input": "2022-03-18T09:45:47.702309Z",
     "iopub.status.busy": "2022-03-18T09:45:47.702045Z",
     "iopub.status.idle": "2022-03-18T09:45:47.712623Z",
     "shell.execute_reply": "2022-03-18T09:45:47.712919Z"
    },
    "papermill": {
     "duration": 0.025765,
     "end_time": "2022-03-18T09:45:47.713001",
     "exception": false,
     "start_time": "2022-03-18T09:45:47.687236",
     "status": "completed"
    },
    "tags": []
   },
   "outputs": [],
   "source": [
    "required_parameters = {\n",
    "    \"experiment_name\",\n",
    "    \"lr\",\n",
    "    \"device\",\n",
    "    \"seed\",\n",
    "    \"dataset_seed\",\n",
    "    \"n_shot\",\n",
    "    \"n_query\",\n",
    "    \"n_way\",\n",
    "    \"train_k_factor\",\n",
    "    \"val_k_factor\",\n",
    "    \"test_k_factor\",\n",
    "    \"n_epoch\",\n",
    "    \"patience\",\n",
    "    \"criteria_for_best\",\n",
    "    \"x_net\",\n",
    "    \"datasets\",\n",
    "    \"torch_default_dtype\",\n",
    "    \"NUM_LOGS_PER_EPOCH\",\n",
    "    \"BEST_MODEL_PATH\",\n",
    "    \"x_shape\",\n",
    "}"
   ]
  },
  {
   "cell_type": "code",
   "execution_count": 3,
   "id": "fa3f0049",
   "metadata": {
    "execution": {
     "iopub.execute_input": "2022-03-18T09:45:47.749089Z",
     "iopub.status.busy": "2022-03-18T09:45:47.748804Z",
     "iopub.status.idle": "2022-03-18T09:45:47.760815Z",
     "shell.execute_reply": "2022-03-18T09:45:47.760594Z"
    },
    "papermill": {
     "duration": 0.030458,
     "end_time": "2022-03-18T09:45:47.760865",
     "exception": false,
     "start_time": "2022-03-18T09:45:47.730407",
     "status": "completed"
    },
    "tags": [
     "parameters"
    ]
   },
   "outputs": [],
   "source": [
    "from steves_utils.CORES.utils import (\n",
    "    ALL_NODES,\n",
    "    ALL_NODES_MINIMUM_1000_EXAMPLES,\n",
    "    ALL_DAYS\n",
    ")\n",
    "\n",
    "from steves_utils.ORACLE.utils_v2 import (\n",
    "    ALL_DISTANCES_FEET_NARROWED,\n",
    "    ALL_RUNS,\n",
    "    ALL_SERIAL_NUMBERS,\n",
    ")\n",
    "\n",
    "standalone_parameters = {}\n",
    "standalone_parameters[\"experiment_name\"] = \"STANDALONE PTN\"\n",
    "standalone_parameters[\"lr\"] = 0.001\n",
    "standalone_parameters[\"device\"] = \"cuda\"\n",
    "\n",
    "standalone_parameters[\"seed\"] = 1337\n",
    "standalone_parameters[\"dataset_seed\"] = 1337\n",
    "\n",
    "standalone_parameters[\"n_way\"] = 8\n",
    "standalone_parameters[\"n_shot\"] = 3\n",
    "standalone_parameters[\"n_query\"]  = 2\n",
    "standalone_parameters[\"train_k_factor\"] = 1\n",
    "standalone_parameters[\"val_k_factor\"] = 2\n",
    "standalone_parameters[\"test_k_factor\"] = 2\n",
    "\n",
    "\n",
    "standalone_parameters[\"n_epoch\"] = 50\n",
    "\n",
    "standalone_parameters[\"patience\"] = 10\n",
    "standalone_parameters[\"criteria_for_best\"] = \"source_loss\"\n",
    "\n",
    "standalone_parameters[\"datasets\"] = [\n",
    "    {\n",
    "        \"labels\": ALL_SERIAL_NUMBERS,\n",
    "        \"domains\": ALL_DISTANCES_FEET_NARROWED,\n",
    "        \"num_examples_per_domain_per_label\": 100,\n",
    "        \"pickle_path\": os.path.join(get_datasets_base_path(), \"oracle.Run1_framed_2000Examples_stratified_ds.2022A.pkl\"),\n",
    "        \"source_or_target_dataset\": \"source\",\n",
    "        \"x_transforms\": [\"unit_mag\", \"minus_two\"],\n",
    "        \"episode_transforms\": [],\n",
    "        \"domain_prefix\": \"ORACLE_\"\n",
    "    },\n",
    "    {\n",
    "        \"labels\": ALL_NODES,\n",
    "        \"domains\": ALL_DAYS,\n",
    "        \"num_examples_per_domain_per_label\": 100,\n",
    "        \"pickle_path\": os.path.join(get_datasets_base_path(), \"cores.stratified_ds.2022A.pkl\"),\n",
    "        \"source_or_target_dataset\": \"target\",\n",
    "        \"x_transforms\": [\"unit_power\", \"times_zero\"],\n",
    "        \"episode_transforms\": [],\n",
    "        \"domain_prefix\": \"CORES_\"\n",
    "    }   \n",
    "]\n",
    "\n",
    "standalone_parameters[\"torch_default_dtype\"] = \"torch.float32\" \n",
    "\n",
    "\n",
    "\n",
    "standalone_parameters[\"x_net\"] =     [\n",
    "    {\"class\": \"nnReshape\", \"kargs\": {\"shape\":[-1, 1, 2, 256]}},\n",
    "    {\"class\": \"Conv2d\", \"kargs\": { \"in_channels\":1, \"out_channels\":256, \"kernel_size\":(1,7), \"bias\":False, \"padding\":(0,3), },},\n",
    "    {\"class\": \"ReLU\", \"kargs\": {\"inplace\": True}},\n",
    "    {\"class\": \"BatchNorm2d\", \"kargs\": {\"num_features\":256}},\n",
    "\n",
    "    {\"class\": \"Conv2d\", \"kargs\": { \"in_channels\":256, \"out_channels\":80, \"kernel_size\":(2,7), \"bias\":True, \"padding\":(0,3), },},\n",
    "    {\"class\": \"ReLU\", \"kargs\": {\"inplace\": True}},\n",
    "    {\"class\": \"BatchNorm2d\", \"kargs\": {\"num_features\":80}},\n",
    "    {\"class\": \"Flatten\", \"kargs\": {}},\n",
    "\n",
    "    {\"class\": \"Linear\", \"kargs\": {\"in_features\": 80*256, \"out_features\": 256}}, # 80 units per IQ pair\n",
    "    {\"class\": \"ReLU\", \"kargs\": {\"inplace\": True}},\n",
    "    {\"class\": \"BatchNorm1d\", \"kargs\": {\"num_features\":256}},\n",
    "\n",
    "    {\"class\": \"Linear\", \"kargs\": {\"in_features\": 256, \"out_features\": 256}},\n",
    "]\n",
    "\n",
    "# Parameters relevant to results\n",
    "# These parameters will basically never need to change\n",
    "standalone_parameters[\"NUM_LOGS_PER_EPOCH\"] = 10\n",
    "standalone_parameters[\"BEST_MODEL_PATH\"] = \"./best_model.pth\"\n",
    "\n",
    "\n",
    "\n",
    "\n"
   ]
  },
  {
   "cell_type": "code",
   "execution_count": 4,
   "id": "cf48d74c",
   "metadata": {
    "execution": {
     "iopub.execute_input": "2022-03-18T09:45:47.800288Z",
     "iopub.status.busy": "2022-03-18T09:45:47.799926Z",
     "iopub.status.idle": "2022-03-18T09:45:47.812690Z",
     "shell.execute_reply": "2022-03-18T09:45:47.813051Z"
    },
    "papermill": {
     "duration": 0.034724,
     "end_time": "2022-03-18T09:45:47.813157",
     "exception": false,
     "start_time": "2022-03-18T09:45:47.778433",
     "status": "completed"
    },
    "tags": [
     "injected-parameters"
    ]
   },
   "outputs": [],
   "source": [
    "# Parameters\n",
    "parameters = {\n",
    "    \"experiment_name\": \"tl_3-jitter1:oracle.run1.framed -> cores+wisig\",\n",
    "    \"device\": \"cuda\",\n",
    "    \"lr\": 0.001,\n",
    "    \"seed\": 1337,\n",
    "    \"dataset_seed\": 1337,\n",
    "    \"n_shot\": 3,\n",
    "    \"n_query\": 2,\n",
    "    \"train_k_factor\": 3,\n",
    "    \"val_k_factor\": 2,\n",
    "    \"test_k_factor\": 2,\n",
    "    \"torch_default_dtype\": \"torch.float32\",\n",
    "    \"n_epoch\": 50,\n",
    "    \"patience\": 3,\n",
    "    \"criteria_for_best\": \"target_loss\",\n",
    "    \"x_net\": [\n",
    "        {\"class\": \"nnReshape\", \"kargs\": {\"shape\": [-1, 1, 2, 256]}},\n",
    "        {\n",
    "            \"class\": \"Conv2d\",\n",
    "            \"kargs\": {\n",
    "                \"in_channels\": 1,\n",
    "                \"out_channels\": 256,\n",
    "                \"kernel_size\": [1, 7],\n",
    "                \"bias\": False,\n",
    "                \"padding\": [0, 3],\n",
    "            },\n",
    "        },\n",
    "        {\"class\": \"ReLU\", \"kargs\": {\"inplace\": True}},\n",
    "        {\"class\": \"BatchNorm2d\", \"kargs\": {\"num_features\": 256}},\n",
    "        {\n",
    "            \"class\": \"Conv2d\",\n",
    "            \"kargs\": {\n",
    "                \"in_channels\": 256,\n",
    "                \"out_channels\": 80,\n",
    "                \"kernel_size\": [2, 7],\n",
    "                \"bias\": True,\n",
    "                \"padding\": [0, 3],\n",
    "            },\n",
    "        },\n",
    "        {\"class\": \"ReLU\", \"kargs\": {\"inplace\": True}},\n",
    "        {\"class\": \"BatchNorm2d\", \"kargs\": {\"num_features\": 80}},\n",
    "        {\"class\": \"Flatten\", \"kargs\": {}},\n",
    "        {\"class\": \"Linear\", \"kargs\": {\"in_features\": 20480, \"out_features\": 256}},\n",
    "        {\"class\": \"ReLU\", \"kargs\": {\"inplace\": True}},\n",
    "        {\"class\": \"BatchNorm1d\", \"kargs\": {\"num_features\": 256}},\n",
    "        {\"class\": \"Linear\", \"kargs\": {\"in_features\": 256, \"out_features\": 256}},\n",
    "    ],\n",
    "    \"NUM_LOGS_PER_EPOCH\": 10,\n",
    "    \"BEST_MODEL_PATH\": \"./best_model.pth\",\n",
    "    \"n_way\": 16,\n",
    "    \"datasets\": [\n",
    "        {\n",
    "            \"labels\": [\n",
    "                \"1-10.\",\n",
    "                \"1-11.\",\n",
    "                \"1-15.\",\n",
    "                \"1-16.\",\n",
    "                \"1-17.\",\n",
    "                \"1-18.\",\n",
    "                \"1-19.\",\n",
    "                \"10-4.\",\n",
    "                \"10-7.\",\n",
    "                \"11-1.\",\n",
    "                \"11-14.\",\n",
    "                \"11-17.\",\n",
    "                \"11-20.\",\n",
    "                \"11-7.\",\n",
    "                \"13-20.\",\n",
    "                \"13-8.\",\n",
    "                \"14-10.\",\n",
    "                \"14-11.\",\n",
    "                \"14-14.\",\n",
    "                \"14-7.\",\n",
    "                \"15-1.\",\n",
    "                \"15-20.\",\n",
    "                \"16-1.\",\n",
    "                \"16-16.\",\n",
    "                \"17-10.\",\n",
    "                \"17-11.\",\n",
    "                \"17-2.\",\n",
    "                \"19-1.\",\n",
    "                \"19-16.\",\n",
    "                \"19-19.\",\n",
    "                \"19-20.\",\n",
    "                \"19-3.\",\n",
    "                \"2-10.\",\n",
    "                \"2-11.\",\n",
    "                \"2-17.\",\n",
    "                \"2-18.\",\n",
    "                \"2-20.\",\n",
    "                \"2-3.\",\n",
    "                \"2-4.\",\n",
    "                \"2-5.\",\n",
    "                \"2-6.\",\n",
    "                \"2-7.\",\n",
    "                \"2-8.\",\n",
    "                \"3-13.\",\n",
    "                \"3-18.\",\n",
    "                \"3-3.\",\n",
    "                \"4-1.\",\n",
    "                \"4-10.\",\n",
    "                \"4-11.\",\n",
    "                \"4-19.\",\n",
    "                \"5-5.\",\n",
    "                \"6-15.\",\n",
    "                \"7-10.\",\n",
    "                \"7-14.\",\n",
    "                \"8-18.\",\n",
    "                \"8-20.\",\n",
    "                \"8-3.\",\n",
    "                \"8-8.\",\n",
    "            ],\n",
    "            \"domains\": [1, 2, 3, 4, 5],\n",
    "            \"num_examples_per_domain_per_label\": 100,\n",
    "            \"pickle_path\": \"/mnt/wd500GB/CSC500/csc500-main/datasets/cores.stratified_ds.2022A.pkl\",\n",
    "            \"source_or_target_dataset\": \"target\",\n",
    "            \"x_transforms\": [\"unit_power\", \"jitter_256_1\", \"take_200\"],\n",
    "            \"episode_transforms\": [],\n",
    "            \"domain_prefix\": \"C_A_\",\n",
    "        },\n",
    "        {\n",
    "            \"labels\": [\n",
    "                \"1-10\",\n",
    "                \"1-12\",\n",
    "                \"1-14\",\n",
    "                \"1-16\",\n",
    "                \"1-18\",\n",
    "                \"1-19\",\n",
    "                \"1-8\",\n",
    "                \"10-11\",\n",
    "                \"10-17\",\n",
    "                \"10-4\",\n",
    "                \"10-7\",\n",
    "                \"11-1\",\n",
    "                \"11-10\",\n",
    "                \"11-19\",\n",
    "                \"11-20\",\n",
    "                \"11-4\",\n",
    "                \"11-7\",\n",
    "                \"12-19\",\n",
    "                \"12-20\",\n",
    "                \"12-7\",\n",
    "                \"13-14\",\n",
    "                \"13-18\",\n",
    "                \"13-19\",\n",
    "                \"13-20\",\n",
    "                \"13-3\",\n",
    "                \"13-7\",\n",
    "                \"14-10\",\n",
    "                \"14-11\",\n",
    "                \"14-12\",\n",
    "                \"14-13\",\n",
    "                \"14-14\",\n",
    "                \"14-19\",\n",
    "                \"14-20\",\n",
    "                \"14-7\",\n",
    "                \"14-8\",\n",
    "                \"14-9\",\n",
    "                \"15-1\",\n",
    "                \"15-19\",\n",
    "                \"15-6\",\n",
    "                \"16-1\",\n",
    "                \"16-16\",\n",
    "                \"16-19\",\n",
    "                \"16-20\",\n",
    "                \"17-10\",\n",
    "                \"17-11\",\n",
    "                \"18-1\",\n",
    "                \"18-10\",\n",
    "                \"18-11\",\n",
    "                \"18-12\",\n",
    "                \"18-13\",\n",
    "                \"18-14\",\n",
    "                \"18-15\",\n",
    "                \"18-16\",\n",
    "                \"18-17\",\n",
    "                \"18-19\",\n",
    "                \"18-2\",\n",
    "                \"18-20\",\n",
    "                \"18-4\",\n",
    "                \"18-5\",\n",
    "                \"18-7\",\n",
    "                \"18-8\",\n",
    "                \"18-9\",\n",
    "                \"19-1\",\n",
    "                \"19-10\",\n",
    "                \"19-11\",\n",
    "                \"19-12\",\n",
    "                \"19-13\",\n",
    "                \"19-14\",\n",
    "                \"19-15\",\n",
    "                \"19-19\",\n",
    "                \"19-2\",\n",
    "                \"19-20\",\n",
    "                \"19-3\",\n",
    "                \"19-4\",\n",
    "                \"19-6\",\n",
    "                \"19-7\",\n",
    "                \"19-8\",\n",
    "                \"19-9\",\n",
    "                \"2-1\",\n",
    "                \"2-13\",\n",
    "                \"2-15\",\n",
    "                \"2-3\",\n",
    "                \"2-4\",\n",
    "                \"2-5\",\n",
    "                \"2-6\",\n",
    "                \"2-7\",\n",
    "                \"2-8\",\n",
    "                \"20-1\",\n",
    "                \"20-12\",\n",
    "                \"20-14\",\n",
    "                \"20-15\",\n",
    "                \"20-16\",\n",
    "                \"20-18\",\n",
    "                \"20-19\",\n",
    "                \"20-20\",\n",
    "                \"20-3\",\n",
    "                \"20-4\",\n",
    "                \"20-5\",\n",
    "                \"20-7\",\n",
    "                \"20-8\",\n",
    "                \"3-1\",\n",
    "                \"3-13\",\n",
    "                \"3-18\",\n",
    "                \"3-2\",\n",
    "                \"3-8\",\n",
    "                \"4-1\",\n",
    "                \"4-10\",\n",
    "                \"4-11\",\n",
    "                \"5-1\",\n",
    "                \"5-5\",\n",
    "                \"6-1\",\n",
    "                \"6-15\",\n",
    "                \"6-6\",\n",
    "                \"7-10\",\n",
    "                \"7-11\",\n",
    "                \"7-12\",\n",
    "                \"7-13\",\n",
    "                \"7-14\",\n",
    "                \"7-7\",\n",
    "                \"7-8\",\n",
    "                \"7-9\",\n",
    "                \"8-1\",\n",
    "                \"8-13\",\n",
    "                \"8-14\",\n",
    "                \"8-18\",\n",
    "                \"8-20\",\n",
    "                \"8-3\",\n",
    "                \"8-8\",\n",
    "                \"9-1\",\n",
    "                \"9-7\",\n",
    "            ],\n",
    "            \"domains\": [1, 2, 3, 4],\n",
    "            \"num_examples_per_domain_per_label\": 100,\n",
    "            \"pickle_path\": \"/mnt/wd500GB/CSC500/csc500-main/datasets/wisig.node3-19.stratified_ds.2022A.pkl\",\n",
    "            \"source_or_target_dataset\": \"target\",\n",
    "            \"x_transforms\": [\"unit_power\", \"jitter_256_1\", \"take_200\"],\n",
    "            \"episode_transforms\": [],\n",
    "            \"domain_prefix\": \"W_A_\",\n",
    "        },\n",
    "        {\n",
    "            \"labels\": [\n",
    "                \"3123D52\",\n",
    "                \"3123D65\",\n",
    "                \"3123D79\",\n",
    "                \"3123D80\",\n",
    "                \"3123D54\",\n",
    "                \"3123D70\",\n",
    "                \"3123D7B\",\n",
    "                \"3123D89\",\n",
    "                \"3123D58\",\n",
    "                \"3123D76\",\n",
    "                \"3123D7D\",\n",
    "                \"3123EFE\",\n",
    "                \"3123D64\",\n",
    "                \"3123D78\",\n",
    "                \"3123D7E\",\n",
    "                \"3124E4A\",\n",
    "            ],\n",
    "            \"domains\": [32, 38, 8, 44, 14, 50, 20, 26],\n",
    "            \"num_examples_per_domain_per_label\": 2000,\n",
    "            \"pickle_path\": \"/mnt/wd500GB/CSC500/csc500-main/datasets/oracle.Run1_framed_2000Examples_stratified_ds.2022A.pkl\",\n",
    "            \"source_or_target_dataset\": \"source\",\n",
    "            \"x_transforms\": [\n",
    "                \"unit_power\",\n",
    "                \"jitter_256_1\",\n",
    "                \"take_200\",\n",
    "                \"resample_20Msps_to_25Msps\",\n",
    "            ],\n",
    "            \"episode_transforms\": [],\n",
    "            \"domain_prefix\": \"ORACLE.run1_\",\n",
    "        },\n",
    "    ],\n",
    "}\n"
   ]
  },
  {
   "cell_type": "code",
   "execution_count": 5,
   "id": "8fa1cc33",
   "metadata": {
    "execution": {
     "iopub.execute_input": "2022-03-18T09:45:47.847104Z",
     "iopub.status.busy": "2022-03-18T09:45:47.846841Z",
     "iopub.status.idle": "2022-03-18T09:45:47.857246Z",
     "shell.execute_reply": "2022-03-18T09:45:47.856889Z"
    },
    "papermill": {
     "duration": 0.026421,
     "end_time": "2022-03-18T09:45:47.857316",
     "exception": false,
     "start_time": "2022-03-18T09:45:47.830895",
     "status": "completed"
    },
    "tags": []
   },
   "outputs": [],
   "source": [
    "# Set this to True if you want to run this template directly\n",
    "STANDALONE = False\n",
    "if STANDALONE:\n",
    "    print(\"parameters not injected, running with standalone_parameters\")\n",
    "    parameters = standalone_parameters\n",
    "\n",
    "if not 'parameters' in locals() and not 'parameters' in globals():\n",
    "    raise Exception(\"Parameter injection failed\")\n",
    "\n",
    "#Use an easy dict for all the parameters\n",
    "p = EasyDict(parameters)\n",
    "\n",
    "if \"x_shape\" not in p:\n",
    "    p.x_shape = [2,256] # Default to this if we dont supply x_shape\n",
    "\n",
    "\n",
    "supplied_keys = set(p.keys())\n",
    "\n",
    "if  supplied_keys != required_parameters:\n",
    "    print(\"Parameters are incorrect\")\n",
    "    if len(supplied_keys - required_parameters)>0: print(\"Shouldn't have:\", str(supplied_keys - required_parameters))\n",
    "    if len(required_parameters - supplied_keys)>0: print(\"Need to have:\", str(required_parameters - supplied_keys))\n",
    "    raise RuntimeError(\"Parameters are incorrect\")"
   ]
  },
  {
   "cell_type": "code",
   "execution_count": 6,
   "id": "3a028d58",
   "metadata": {
    "execution": {
     "iopub.execute_input": "2022-03-18T09:45:47.889799Z",
     "iopub.status.busy": "2022-03-18T09:45:47.889535Z",
     "iopub.status.idle": "2022-03-18T09:45:47.900036Z",
     "shell.execute_reply": "2022-03-18T09:45:47.899673Z"
    },
    "papermill": {
     "duration": 0.025466,
     "end_time": "2022-03-18T09:45:47.900106",
     "exception": false,
     "start_time": "2022-03-18T09:45:47.874640",
     "status": "completed"
    },
    "tags": []
   },
   "outputs": [],
   "source": [
    "###################################\n",
    "# Set the RNGs and make it all deterministic\n",
    "###################################\n",
    "np.random.seed(p.seed)\n",
    "random.seed(p.seed)\n",
    "torch.manual_seed(p.seed)\n",
    "\n",
    "torch.use_deterministic_algorithms(True) "
   ]
  },
  {
   "cell_type": "code",
   "execution_count": 7,
   "id": "b691acf6",
   "metadata": {
    "execution": {
     "iopub.execute_input": "2022-03-18T09:45:47.932681Z",
     "iopub.status.busy": "2022-03-18T09:45:47.932426Z",
     "iopub.status.idle": "2022-03-18T09:45:47.942527Z",
     "shell.execute_reply": "2022-03-18T09:45:47.942277Z"
    },
    "papermill": {
     "duration": 0.024573,
     "end_time": "2022-03-18T09:45:47.942576",
     "exception": false,
     "start_time": "2022-03-18T09:45:47.918003",
     "status": "completed"
    },
    "tags": []
   },
   "outputs": [],
   "source": [
    "###########################################\n",
    "# The stratified datasets honor this\n",
    "###########################################\n",
    "torch.set_default_dtype(eval(p.torch_default_dtype))"
   ]
  },
  {
   "cell_type": "code",
   "execution_count": 8,
   "id": "b5fba671",
   "metadata": {
    "execution": {
     "iopub.execute_input": "2022-03-18T09:45:47.972972Z",
     "iopub.status.busy": "2022-03-18T09:45:47.972715Z",
     "iopub.status.idle": "2022-03-18T09:45:48.009052Z",
     "shell.execute_reply": "2022-03-18T09:45:48.008602Z"
    },
    "papermill": {
     "duration": 0.051044,
     "end_time": "2022-03-18T09:45:48.009141",
     "exception": false,
     "start_time": "2022-03-18T09:45:47.958097",
     "status": "completed"
    },
    "tags": []
   },
   "outputs": [],
   "source": [
    "###################################\n",
    "# Build the network(s)\n",
    "# Note: It's critical to do this AFTER setting the RNG\n",
    "###################################\n",
    "x_net = build_sequential(p.x_net)"
   ]
  },
  {
   "cell_type": "code",
   "execution_count": 9,
   "id": "5d7e61cc",
   "metadata": {
    "execution": {
     "iopub.execute_input": "2022-03-18T09:45:48.043177Z",
     "iopub.status.busy": "2022-03-18T09:45:48.042917Z",
     "iopub.status.idle": "2022-03-18T09:45:48.057532Z",
     "shell.execute_reply": "2022-03-18T09:45:48.057909Z"
    },
    "papermill": {
     "duration": 0.03049,
     "end_time": "2022-03-18T09:45:48.058011",
     "exception": false,
     "start_time": "2022-03-18T09:45:48.027521",
     "status": "completed"
    },
    "tags": []
   },
   "outputs": [],
   "source": [
    "start_time_secs = time.time()"
   ]
  },
  {
   "cell_type": "code",
   "execution_count": 10,
   "id": "c6b67dfd",
   "metadata": {
    "execution": {
     "iopub.execute_input": "2022-03-18T09:45:48.091486Z",
     "iopub.status.busy": "2022-03-18T09:45:48.091174Z",
     "iopub.status.idle": "2022-03-18T09:45:48.105649Z",
     "shell.execute_reply": "2022-03-18T09:45:48.105193Z"
    },
    "papermill": {
     "duration": 0.029984,
     "end_time": "2022-03-18T09:45:48.105738",
     "exception": false,
     "start_time": "2022-03-18T09:45:48.075754",
     "status": "completed"
    },
    "tags": []
   },
   "outputs": [],
   "source": [
    "p.domains_source = []\n",
    "p.domains_target = []\n",
    "\n",
    "\n",
    "train_original_source = []\n",
    "val_original_source   = []\n",
    "test_original_source  = []\n",
    "\n",
    "train_original_target = []\n",
    "val_original_target   = []\n",
    "test_original_target  = []"
   ]
  },
  {
   "cell_type": "code",
   "execution_count": 11,
   "id": "e3d9c3d3",
   "metadata": {
    "execution": {
     "iopub.execute_input": "2022-03-18T09:45:48.137146Z",
     "iopub.status.busy": "2022-03-18T09:45:48.136793Z",
     "iopub.status.idle": "2022-03-18T09:45:48.152086Z",
     "shell.execute_reply": "2022-03-18T09:45:48.151628Z"
    },
    "papermill": {
     "duration": 0.030278,
     "end_time": "2022-03-18T09:45:48.152174",
     "exception": false,
     "start_time": "2022-03-18T09:45:48.121896",
     "status": "completed"
    },
    "tags": []
   },
   "outputs": [],
   "source": [
    "# global_x_transform_func = lambda x: normalize(x.to(torch.get_default_dtype()), \"unit_power\") # unit_power, unit_mag\n",
    "# global_x_transform_func = lambda x: normalize(x, \"unit_power\") # unit_power, unit_mag"
   ]
  },
  {
   "cell_type": "code",
   "execution_count": 12,
   "id": "acb78fd2",
   "metadata": {
    "execution": {
     "iopub.execute_input": "2022-03-18T09:45:48.186576Z",
     "iopub.status.busy": "2022-03-18T09:45:48.186306Z",
     "iopub.status.idle": "2022-03-18T09:45:48.200425Z",
     "shell.execute_reply": "2022-03-18T09:45:48.199971Z"
    },
    "papermill": {
     "duration": 0.033019,
     "end_time": "2022-03-18T09:45:48.200514",
     "exception": false,
     "start_time": "2022-03-18T09:45:48.167495",
     "status": "completed"
    },
    "tags": []
   },
   "outputs": [],
   "source": [
    "def add_dataset(\n",
    "    labels,\n",
    "    domains,\n",
    "    pickle_path,\n",
    "    x_transforms,\n",
    "    episode_transforms,\n",
    "    domain_prefix,\n",
    "    num_examples_per_domain_per_label,\n",
    "    source_or_target_dataset:str,\n",
    "    iterator_seed=p.seed,\n",
    "    dataset_seed=p.dataset_seed,\n",
    "    n_shot=p.n_shot,\n",
    "    n_way=p.n_way,\n",
    "    n_query=p.n_query,\n",
    "    train_val_test_k_factors=(p.train_k_factor,p.val_k_factor,p.test_k_factor),\n",
    "):\n",
    "   \n",
    "    if x_transforms == []: x_transform = None\n",
    "    else: x_transform = get_chained_transform(x_transforms)\n",
    "    \n",
    "    if episode_transforms == []: episode_transform = None\n",
    "    else: raise Exception(\"episode_transforms not implemented\")\n",
    "    \n",
    "    episode_transform = lambda tup, _prefix=domain_prefix: (_prefix + str(tup[0]), tup[1])\n",
    "\n",
    "\n",
    "    eaf = Episodic_Accessor_Factory(\n",
    "        labels=labels,\n",
    "        domains=domains,\n",
    "        num_examples_per_domain_per_label=num_examples_per_domain_per_label,\n",
    "        iterator_seed=iterator_seed,\n",
    "        dataset_seed=dataset_seed,\n",
    "        n_shot=n_shot,\n",
    "        n_way=n_way,\n",
    "        n_query=n_query,\n",
    "        train_val_test_k_factors=train_val_test_k_factors,\n",
    "        pickle_path=pickle_path,\n",
    "        x_transform_func=x_transform,\n",
    "    )\n",
    "\n",
    "    train, val, test = eaf.get_train(), eaf.get_val(), eaf.get_test()\n",
    "    train = Lazy_Iterable_Wrapper(train, episode_transform)\n",
    "    val = Lazy_Iterable_Wrapper(val, episode_transform)\n",
    "    test = Lazy_Iterable_Wrapper(test, episode_transform)\n",
    "\n",
    "    if source_or_target_dataset==\"source\":\n",
    "        train_original_source.append(train)\n",
    "        val_original_source.append(val)\n",
    "        test_original_source.append(test)\n",
    "\n",
    "        p.domains_source.extend(\n",
    "            [domain_prefix + str(u) for u in domains]\n",
    "        )\n",
    "    elif source_or_target_dataset==\"target\":\n",
    "        train_original_target.append(train)\n",
    "        val_original_target.append(val)\n",
    "        test_original_target.append(test)\n",
    "        p.domains_target.extend(\n",
    "            [domain_prefix + str(u) for u in domains]\n",
    "        )\n",
    "    else:\n",
    "        raise Exception(f\"invalid source_or_target_dataset: {source_or_target_dataset}\")\n",
    "    "
   ]
  },
  {
   "cell_type": "code",
   "execution_count": 13,
   "id": "fe266617",
   "metadata": {
    "execution": {
     "iopub.execute_input": "2022-03-18T09:45:48.234725Z",
     "iopub.status.busy": "2022-03-18T09:45:48.234472Z",
     "iopub.status.idle": "2022-03-18T09:46:45.977714Z",
     "shell.execute_reply": "2022-03-18T09:46:45.978097Z"
    },
    "papermill": {
     "duration": 57.759112,
     "end_time": "2022-03-18T09:46:45.978223",
     "exception": false,
     "start_time": "2022-03-18T09:45:48.219111",
     "status": "completed"
    },
    "tags": []
   },
   "outputs": [],
   "source": [
    "for ds in p.datasets:\n",
    "    add_dataset(**ds)"
   ]
  },
  {
   "cell_type": "code",
   "execution_count": 14,
   "id": "b90d65ac",
   "metadata": {
    "execution": {
     "iopub.execute_input": "2022-03-18T09:46:46.012338Z",
     "iopub.status.busy": "2022-03-18T09:46:46.012074Z",
     "iopub.status.idle": "2022-03-18T09:46:46.028419Z",
     "shell.execute_reply": "2022-03-18T09:46:46.027959Z"
    },
    "papermill": {
     "duration": 0.031846,
     "end_time": "2022-03-18T09:46:46.028509",
     "exception": false,
     "start_time": "2022-03-18T09:46:45.996663",
     "status": "completed"
    },
    "tags": []
   },
   "outputs": [],
   "source": [
    "# from steves_utils.CORES.utils import (\n",
    "#     ALL_NODES,\n",
    "#     ALL_NODES_MINIMUM_1000_EXAMPLES,\n",
    "#     ALL_DAYS\n",
    "# )\n",
    "\n",
    "# add_dataset(\n",
    "#     labels=ALL_NODES,\n",
    "#     domains = ALL_DAYS,\n",
    "#     num_examples_per_domain_per_label=100,\n",
    "#     pickle_path=os.path.join(get_datasets_base_path(), \"cores.stratified_ds.2022A.pkl\"),\n",
    "#     source_or_target_dataset=\"target\",\n",
    "#     x_transform_func=global_x_transform_func,\n",
    "#     domain_modifier=lambda u: f\"cores_{u}\"\n",
    "# )"
   ]
  },
  {
   "cell_type": "code",
   "execution_count": 15,
   "id": "76db484d",
   "metadata": {
    "execution": {
     "iopub.execute_input": "2022-03-18T09:46:46.063188Z",
     "iopub.status.busy": "2022-03-18T09:46:46.062931Z",
     "iopub.status.idle": "2022-03-18T09:46:46.075773Z",
     "shell.execute_reply": "2022-03-18T09:46:46.075413Z"
    },
    "papermill": {
     "duration": 0.028329,
     "end_time": "2022-03-18T09:46:46.075843",
     "exception": false,
     "start_time": "2022-03-18T09:46:46.047514",
     "status": "completed"
    },
    "tags": []
   },
   "outputs": [],
   "source": [
    "# from steves_utils.ORACLE.utils_v2 import (\n",
    "#     ALL_DISTANCES_FEET,\n",
    "#     ALL_RUNS,\n",
    "#     ALL_SERIAL_NUMBERS,\n",
    "# )\n",
    "\n",
    "\n",
    "# add_dataset(\n",
    "#     labels=ALL_SERIAL_NUMBERS,\n",
    "#     domains = list(set(ALL_DISTANCES_FEET) - {2,62}),\n",
    "#     num_examples_per_domain_per_label=100,\n",
    "#     pickle_path=os.path.join(get_datasets_base_path(), \"oracle.Run2_framed_2000Examples_stratified_ds.2022A.pkl\"),\n",
    "#     source_or_target_dataset=\"source\",\n",
    "#     x_transform_func=global_x_transform_func,\n",
    "#     domain_modifier=lambda u: f\"oracle1_{u}\"\n",
    "# )\n"
   ]
  },
  {
   "cell_type": "code",
   "execution_count": 16,
   "id": "97dea9d2",
   "metadata": {
    "execution": {
     "iopub.execute_input": "2022-03-18T09:46:46.110459Z",
     "iopub.status.busy": "2022-03-18T09:46:46.109702Z",
     "iopub.status.idle": "2022-03-18T09:46:46.123195Z",
     "shell.execute_reply": "2022-03-18T09:46:46.122838Z"
    },
    "papermill": {
     "duration": 0.028355,
     "end_time": "2022-03-18T09:46:46.123283",
     "exception": false,
     "start_time": "2022-03-18T09:46:46.094928",
     "status": "completed"
    },
    "tags": []
   },
   "outputs": [],
   "source": [
    "# from steves_utils.ORACLE.utils_v2 import (\n",
    "#     ALL_DISTANCES_FEET,\n",
    "#     ALL_RUNS,\n",
    "#     ALL_SERIAL_NUMBERS,\n",
    "# )\n",
    "\n",
    "\n",
    "# add_dataset(\n",
    "#     labels=ALL_SERIAL_NUMBERS,\n",
    "#     domains = list(set(ALL_DISTANCES_FEET) - {2,62,56}),\n",
    "#     num_examples_per_domain_per_label=100,\n",
    "#     pickle_path=os.path.join(get_datasets_base_path(), \"oracle.Run2_framed_2000Examples_stratified_ds.2022A.pkl\"),\n",
    "#     source_or_target_dataset=\"source\",\n",
    "#     x_transform_func=global_x_transform_func,\n",
    "#     domain_modifier=lambda u: f\"oracle2_{u}\"\n",
    "# )"
   ]
  },
  {
   "cell_type": "code",
   "execution_count": 17,
   "id": "6f289866",
   "metadata": {
    "execution": {
     "iopub.execute_input": "2022-03-18T09:46:46.158786Z",
     "iopub.status.busy": "2022-03-18T09:46:46.158531Z",
     "iopub.status.idle": "2022-03-18T09:46:46.170975Z",
     "shell.execute_reply": "2022-03-18T09:46:46.170616Z"
    },
    "papermill": {
     "duration": 0.028316,
     "end_time": "2022-03-18T09:46:46.171045",
     "exception": false,
     "start_time": "2022-03-18T09:46:46.142729",
     "status": "completed"
    },
    "tags": []
   },
   "outputs": [],
   "source": [
    "# add_dataset(\n",
    "#     labels=list(range(19)),\n",
    "#     domains = [0,1,2],\n",
    "#     num_examples_per_domain_per_label=100,\n",
    "#     pickle_path=os.path.join(get_datasets_base_path(), \"metehan.stratified_ds.2022A.pkl\"),\n",
    "#     source_or_target_dataset=\"target\",\n",
    "#     x_transform_func=global_x_transform_func,\n",
    "#     domain_modifier=lambda u: f\"met_{u}\"\n",
    "# )"
   ]
  },
  {
   "cell_type": "code",
   "execution_count": 18,
   "id": "86a863c3",
   "metadata": {
    "execution": {
     "iopub.execute_input": "2022-03-18T09:46:46.206163Z",
     "iopub.status.busy": "2022-03-18T09:46:46.205905Z",
     "iopub.status.idle": "2022-03-18T09:46:46.220698Z",
     "shell.execute_reply": "2022-03-18T09:46:46.220289Z"
    },
    "papermill": {
     "duration": 0.030093,
     "end_time": "2022-03-18T09:46:46.220787",
     "exception": false,
     "start_time": "2022-03-18T09:46:46.190694",
     "status": "completed"
    },
    "tags": []
   },
   "outputs": [],
   "source": [
    "# # from steves_utils.wisig.utils import (\n",
    "# #     ALL_NODES_MINIMUM_100_EXAMPLES,\n",
    "# #     ALL_NODES_MINIMUM_500_EXAMPLES,\n",
    "# #     ALL_NODES_MINIMUM_1000_EXAMPLES,\n",
    "# #     ALL_DAYS\n",
    "# # )\n",
    "\n",
    "# import steves_utils.wisig.utils as wisig\n",
    "\n",
    "\n",
    "# add_dataset(\n",
    "#     labels=wisig.ALL_NODES_MINIMUM_100_EXAMPLES,\n",
    "#     domains = wisig.ALL_DAYS,\n",
    "#     num_examples_per_domain_per_label=100,\n",
    "#     pickle_path=os.path.join(get_datasets_base_path(), \"wisig.node3-19.stratified_ds.2022A.pkl\"),\n",
    "#     source_or_target_dataset=\"target\",\n",
    "#     x_transform_func=global_x_transform_func,\n",
    "#     domain_modifier=lambda u: f\"wisig_{u}\"\n",
    "# )"
   ]
  },
  {
   "cell_type": "code",
   "execution_count": 19,
   "id": "fd5442bc",
   "metadata": {
    "execution": {
     "iopub.execute_input": "2022-03-18T09:46:46.258113Z",
     "iopub.status.busy": "2022-03-18T09:46:46.257853Z",
     "iopub.status.idle": "2022-03-18T09:46:46.271637Z",
     "shell.execute_reply": "2022-03-18T09:46:46.271177Z"
    },
    "papermill": {
     "duration": 0.031949,
     "end_time": "2022-03-18T09:46:46.271726",
     "exception": false,
     "start_time": "2022-03-18T09:46:46.239777",
     "status": "completed"
    },
    "tags": []
   },
   "outputs": [],
   "source": [
    "###################################\n",
    "# Build the dataset\n",
    "###################################\n",
    "train_original_source = Iterable_Aggregator(train_original_source, p.seed)\n",
    "val_original_source = Iterable_Aggregator(val_original_source, p.seed)\n",
    "test_original_source = Iterable_Aggregator(test_original_source, p.seed)\n",
    "\n",
    "\n",
    "train_original_target = Iterable_Aggregator(train_original_target, p.seed)\n",
    "val_original_target = Iterable_Aggregator(val_original_target, p.seed)\n",
    "test_original_target = Iterable_Aggregator(test_original_target, p.seed)\n",
    "\n",
    "# For CNN We only use X and Y. And we only train on the source.\n",
    "# Properly form the data using a transform lambda and Lazy_Iterable_Wrapper. Finally wrap them in a dataloader\n",
    "\n",
    "transform_lambda = lambda ex: ex[1] # Original is (<domain>, <episode>) so we strip down to episode only\n",
    "\n",
    "train_processed_source = Lazy_Iterable_Wrapper(train_original_source, transform_lambda)\n",
    "val_processed_source   = Lazy_Iterable_Wrapper(val_original_source, transform_lambda)\n",
    "test_processed_source  = Lazy_Iterable_Wrapper(test_original_source, transform_lambda)\n",
    "\n",
    "train_processed_target = Lazy_Iterable_Wrapper(train_original_target, transform_lambda)\n",
    "val_processed_target   = Lazy_Iterable_Wrapper(val_original_target, transform_lambda)\n",
    "test_processed_target  = Lazy_Iterable_Wrapper(test_original_target, transform_lambda)\n",
    "\n",
    "datasets = EasyDict({\n",
    "    \"source\": {\n",
    "        \"original\": {\"train\":train_original_source, \"val\":val_original_source, \"test\":test_original_source},\n",
    "        \"processed\": {\"train\":train_processed_source, \"val\":val_processed_source, \"test\":test_processed_source}\n",
    "    },\n",
    "    \"target\": {\n",
    "        \"original\": {\"train\":train_original_target, \"val\":val_original_target, \"test\":test_original_target},\n",
    "        \"processed\": {\"train\":train_processed_target, \"val\":val_processed_target, \"test\":test_processed_target}\n",
    "    },\n",
    "})"
   ]
  },
  {
   "cell_type": "code",
   "execution_count": 20,
   "id": "5b3c01fc",
   "metadata": {
    "execution": {
     "iopub.execute_input": "2022-03-18T09:46:46.303946Z",
     "iopub.status.busy": "2022-03-18T09:46:46.302555Z",
     "iopub.status.idle": "2022-03-18T09:46:51.122363Z",
     "shell.execute_reply": "2022-03-18T09:46:51.121911Z"
    },
    "papermill": {
     "duration": 4.835219,
     "end_time": "2022-03-18T09:46:51.122471",
     "exception": false,
     "start_time": "2022-03-18T09:46:46.287252",
     "status": "completed"
    },
    "tags": []
   },
   "outputs": [
    {
     "name": "stdout",
     "output_type": "stream",
     "text": [
      "{'ORACLE.run1_14', 'ORACLE.run1_20', 'ORACLE.run1_26', 'ORACLE.run1_38', 'ORACLE.run1_44', 'ORACLE.run1_50', 'ORACLE.run1_32', 'ORACLE.run1_8'}\n"
     ]
    },
    {
     "name": "stdout",
     "output_type": "stream",
     "text": [
      "{'C_A_1', 'C_A_5', 'C_A_2', 'W_A_1', 'W_A_4', 'C_A_4', 'W_A_2', 'C_A_3', 'W_A_3'}\n"
     ]
    },
    {
     "name": "stdout",
     "output_type": "stream",
     "text": [
      "tensor([[[0., 0., 0.,  ..., 0., 0., 0.],\n",
      "         [0., 0., 0.,  ..., 0., 0., 0.]],\n",
      "\n",
      "        [[0., 0., 0.,  ..., 0., 0., 0.],\n",
      "         [0., 0., 0.,  ..., 0., 0., 0.]],\n",
      "\n",
      "        [[0., 0., 0.,  ..., 0., 0., 0.],\n",
      "         [0., 0., 0.,  ..., 0., 0., 0.]],\n",
      "\n",
      "        ...,\n",
      "\n",
      "        [[0., 0., 0.,  ..., 0., 0., 0.],\n",
      "         [0., 0., 0.,  ..., 0., 0., 0.]],\n",
      "\n",
      "        [[0., 0., 0.,  ..., 0., 0., 0.],\n",
      "         [0., 0., 0.,  ..., 0., 0., 0.]],\n",
      "\n",
      "        [[0., 0., 0.,  ..., 0., 0., 0.],\n",
      "         [0., 0., 0.,  ..., 0., 0., 0.]]])\n"
     ]
    }
   ],
   "source": [
    "from steves_utils.transforms import get_average_magnitude, get_average_power\n",
    "\n",
    "print(set([u for u,_ in val_original_source]))\n",
    "print(set([u for u,_ in val_original_target]))\n",
    "\n",
    "s_x, s_y, q_x, q_y, _ = next(iter(train_processed_source))\n",
    "print(s_x)\n",
    "\n",
    "# for ds in [\n",
    "#     train_processed_source,\n",
    "#     val_processed_source,\n",
    "#     test_processed_source,\n",
    "#     train_processed_target,\n",
    "#     val_processed_target,\n",
    "#     test_processed_target\n",
    "# ]:\n",
    "#     for s_x, s_y, q_x, q_y, _ in ds:\n",
    "#         for X in (s_x, q_x):\n",
    "#             for x in X:\n",
    "#                 assert np.isclose(get_average_magnitude(x.numpy()), 1.0)\n",
    "#                 assert np.isclose(get_average_power(x.numpy()), 1.0)\n",
    "                "
   ]
  },
  {
   "cell_type": "code",
   "execution_count": 21,
   "id": "bbdacba1",
   "metadata": {
    "execution": {
     "iopub.execute_input": "2022-03-18T09:46:51.164908Z",
     "iopub.status.busy": "2022-03-18T09:46:51.164632Z",
     "iopub.status.idle": "2022-03-18T09:46:51.225786Z",
     "shell.execute_reply": "2022-03-18T09:46:51.225358Z"
    },
    "papermill": {
     "duration": 0.0793,
     "end_time": "2022-03-18T09:46:51.225884",
     "exception": false,
     "start_time": "2022-03-18T09:46:51.146584",
     "status": "completed"
    },
    "tags": []
   },
   "outputs": [
    {
     "name": "stdout",
     "output_type": "stream",
     "text": [
      "(2, 256)\n"
     ]
    }
   ],
   "source": [
    "###################################\n",
    "# Build the model\n",
    "###################################\n",
    "# easfsl only wants a tuple for the shape\n",
    "model = Steves_Prototypical_Network(x_net, device=p.device, x_shape=tuple(p.x_shape))\n",
    "optimizer = Adam(params=model.parameters(), lr=p.lr)"
   ]
  },
  {
   "cell_type": "code",
   "execution_count": 22,
   "id": "22b39ac5",
   "metadata": {
    "execution": {
     "iopub.execute_input": "2022-03-18T09:46:51.263262Z",
     "iopub.status.busy": "2022-03-18T09:46:51.262993Z",
     "iopub.status.idle": "2022-03-18T10:04:38.751702Z",
     "shell.execute_reply": "2022-03-18T10:04:38.751463Z"
    },
    "papermill": {
     "duration": 1067.506223,
     "end_time": "2022-03-18T10:04:38.751760",
     "exception": false,
     "start_time": "2022-03-18T09:46:51.245537",
     "status": "completed"
    },
    "tags": []
   },
   "outputs": [
    {
     "name": "stdout",
     "output_type": "stream",
     "text": [
      "epoch: 1, [batch: 1 / 6720], examples_per_second: 50.6474, train_label_loss: 2.9971, \n"
     ]
    },
    {
     "name": "stdout",
     "output_type": "stream",
     "text": [
      "epoch: 1, [batch: 672 / 6720], examples_per_second: 3226.0800, train_label_loss: 0.8351, \n"
     ]
    },
    {
     "name": "stdout",
     "output_type": "stream",
     "text": [
      "epoch: 1, [batch: 1344 / 6720], examples_per_second: 3240.0819, train_label_loss: 0.8741, \n"
     ]
    },
    {
     "name": "stdout",
     "output_type": "stream",
     "text": [
      "epoch: 1, [batch: 2016 / 6720], examples_per_second: 3232.0497, train_label_loss: 0.7745, \n"
     ]
    },
    {
     "name": "stdout",
     "output_type": "stream",
     "text": [
      "epoch: 1, [batch: 2688 / 6720], examples_per_second: 3211.1600, train_label_loss: 0.9817, \n"
     ]
    },
    {
     "name": "stdout",
     "output_type": "stream",
     "text": [
      "epoch: 1, [batch: 3360 / 6720], examples_per_second: 3200.6640, train_label_loss: 1.1528, \n"
     ]
    },
    {
     "name": "stdout",
     "output_type": "stream",
     "text": [
      "epoch: 1, [batch: 4032 / 6720], examples_per_second: 3201.5743, train_label_loss: 1.0659, \n"
     ]
    },
    {
     "name": "stdout",
     "output_type": "stream",
     "text": [
      "epoch: 1, [batch: 4704 / 6720], examples_per_second: 3192.1855, train_label_loss: 0.6488, \n"
     ]
    },
    {
     "name": "stdout",
     "output_type": "stream",
     "text": [
      "epoch: 1, [batch: 5376 / 6720], examples_per_second: 3208.3732, train_label_loss: 0.9280, \n"
     ]
    },
    {
     "name": "stdout",
     "output_type": "stream",
     "text": [
      "epoch: 1, [batch: 6048 / 6720], examples_per_second: 3223.0653, train_label_loss: 0.8418, \n"
     ]
    },
    {
     "name": "stdout",
     "output_type": "stream",
     "text": [
      "=============================================================\n",
      "epoch: 1, source_val_acc_label: 0.5927, target_val_acc_label: 0.4632, source_val_label_loss: 265.7237, target_val_label_loss: 11005.1455, \n",
      "=============================================================\n"
     ]
    },
    {
     "name": "stdout",
     "output_type": "stream",
     "text": [
      "New best\n"
     ]
    },
    {
     "name": "stdout",
     "output_type": "stream",
     "text": [
      "epoch: 2, [batch: 1 / 6720], examples_per_second: 5.5846, train_label_loss: 1469.6390, \n"
     ]
    },
    {
     "name": "stdout",
     "output_type": "stream",
     "text": [
      "epoch: 2, [batch: 672 / 6720], examples_per_second: 3243.2349, train_label_loss: 0.9594, \n"
     ]
    },
    {
     "name": "stdout",
     "output_type": "stream",
     "text": [
      "epoch: 2, [batch: 1344 / 6720], examples_per_second: 3253.4995, train_label_loss: 0.7688, \n"
     ]
    },
    {
     "name": "stdout",
     "output_type": "stream",
     "text": [
      "epoch: 2, [batch: 2016 / 6720], examples_per_second: 3263.6787, train_label_loss: 1.3537, \n"
     ]
    },
    {
     "name": "stdout",
     "output_type": "stream",
     "text": [
      "epoch: 2, [batch: 2688 / 6720], examples_per_second: 3236.2941, train_label_loss: 1.1929, \n"
     ]
    },
    {
     "name": "stdout",
     "output_type": "stream",
     "text": [
      "epoch: 2, [batch: 3360 / 6720], examples_per_second: 3251.7880, train_label_loss: 1.8595, \n"
     ]
    },
    {
     "name": "stdout",
     "output_type": "stream",
     "text": [
      "epoch: 2, [batch: 4032 / 6720], examples_per_second: 3253.9740, train_label_loss: 1.1090, \n"
     ]
    },
    {
     "name": "stdout",
     "output_type": "stream",
     "text": [
      "epoch: 2, [batch: 4704 / 6720], examples_per_second: 3250.8977, train_label_loss: 1.1162, \n"
     ]
    },
    {
     "name": "stdout",
     "output_type": "stream",
     "text": [
      "epoch: 2, [batch: 5376 / 6720], examples_per_second: 3255.7545, train_label_loss: 1.4263, \n"
     ]
    },
    {
     "name": "stdout",
     "output_type": "stream",
     "text": [
      "epoch: 2, [batch: 6048 / 6720], examples_per_second: 3253.5257, train_label_loss: 0.6220, \n"
     ]
    },
    {
     "name": "stdout",
     "output_type": "stream",
     "text": [
      "=============================================================\n",
      "epoch: 2, source_val_acc_label: 0.6609, target_val_acc_label: 0.5229, source_val_label_loss: 0.9382, target_val_label_loss: 3170.4607, \n",
      "=============================================================\n"
     ]
    },
    {
     "name": "stdout",
     "output_type": "stream",
     "text": [
      "New best\n"
     ]
    },
    {
     "name": "stdout",
     "output_type": "stream",
     "text": [
      "epoch: 3, [batch: 1 / 6720], examples_per_second: 5.6017, train_label_loss: 1.1122, \n"
     ]
    },
    {
     "name": "stdout",
     "output_type": "stream",
     "text": [
      "epoch: 3, [batch: 672 / 6720], examples_per_second: 3212.1168, train_label_loss: 0.6414, \n"
     ]
    },
    {
     "name": "stdout",
     "output_type": "stream",
     "text": [
      "epoch: 3, [batch: 1344 / 6720], examples_per_second: 3205.8041, train_label_loss: 0.7110, \n"
     ]
    },
    {
     "name": "stdout",
     "output_type": "stream",
     "text": [
      "epoch: 3, [batch: 2016 / 6720], examples_per_second: 3207.5870, train_label_loss: 0.6685, \n"
     ]
    },
    {
     "name": "stdout",
     "output_type": "stream",
     "text": [
      "epoch: 3, [batch: 2688 / 6720], examples_per_second: 3247.2072, train_label_loss: 0.6746, \n"
     ]
    },
    {
     "name": "stdout",
     "output_type": "stream",
     "text": [
      "epoch: 3, [batch: 3360 / 6720], examples_per_second: 3243.5227, train_label_loss: 1.3287, \n"
     ]
    },
    {
     "name": "stdout",
     "output_type": "stream",
     "text": [
      "epoch: 3, [batch: 4032 / 6720], examples_per_second: 3226.3881, train_label_loss: 1.1431, \n"
     ]
    },
    {
     "name": "stdout",
     "output_type": "stream",
     "text": [
      "epoch: 3, [batch: 4704 / 6720], examples_per_second: 3250.7812, train_label_loss: 0.4100, \n"
     ]
    },
    {
     "name": "stdout",
     "output_type": "stream",
     "text": [
      "epoch: 3, [batch: 5376 / 6720], examples_per_second: 3248.2225, train_label_loss: 0.7511, \n"
     ]
    },
    {
     "name": "stdout",
     "output_type": "stream",
     "text": [
      "epoch: 3, [batch: 6048 / 6720], examples_per_second: 3243.7911, train_label_loss: 0.6211, \n"
     ]
    },
    {
     "name": "stdout",
     "output_type": "stream",
     "text": [
      "=============================================================\n",
      "epoch: 3, source_val_acc_label: 0.6938, target_val_acc_label: 0.5729, source_val_label_loss: 0.8394, target_val_label_loss: 4484.8462, \n",
      "=============================================================\n"
     ]
    },
    {
     "name": "stdout",
     "output_type": "stream",
     "text": [
      "epoch: 4, [batch: 1 / 6720], examples_per_second: 5.6274, train_label_loss: 0.6710, \n"
     ]
    },
    {
     "name": "stdout",
     "output_type": "stream",
     "text": [
      "epoch: 4, [batch: 672 / 6720], examples_per_second: 3250.0657, train_label_loss: 0.5588, \n"
     ]
    },
    {
     "name": "stdout",
     "output_type": "stream",
     "text": [
      "epoch: 4, [batch: 1344 / 6720], examples_per_second: 3240.3748, train_label_loss: 1.2195, \n"
     ]
    },
    {
     "name": "stdout",
     "output_type": "stream",
     "text": [
      "epoch: 4, [batch: 2016 / 6720], examples_per_second: 3251.0610, train_label_loss: 1.0622, \n"
     ]
    },
    {
     "name": "stdout",
     "output_type": "stream",
     "text": [
      "epoch: 4, [batch: 2688 / 6720], examples_per_second: 3242.1050, train_label_loss: 0.6313, \n"
     ]
    },
    {
     "name": "stdout",
     "output_type": "stream",
     "text": [
      "epoch: 4, [batch: 3360 / 6720], examples_per_second: 3248.1050, train_label_loss: 0.4615, \n"
     ]
    },
    {
     "name": "stdout",
     "output_type": "stream",
     "text": [
      "epoch: 4, [batch: 4032 / 6720], examples_per_second: 3258.7659, train_label_loss: 1.1852, \n"
     ]
    },
    {
     "name": "stdout",
     "output_type": "stream",
     "text": [
      "epoch: 4, [batch: 4704 / 6720], examples_per_second: 3238.0541, train_label_loss: 0.6944, \n"
     ]
    },
    {
     "name": "stdout",
     "output_type": "stream",
     "text": [
      "epoch: 4, [batch: 5376 / 6720], examples_per_second: 3244.9413, train_label_loss: 0.8114, \n"
     ]
    },
    {
     "name": "stdout",
     "output_type": "stream",
     "text": [
      "epoch: 4, [batch: 6048 / 6720], examples_per_second: 3236.9907, train_label_loss: 0.5730, \n"
     ]
    },
    {
     "name": "stdout",
     "output_type": "stream",
     "text": [
      "=============================================================\n",
      "epoch: 4, source_val_acc_label: 0.7445, target_val_acc_label: 0.5734, source_val_label_loss: 0.7233, target_val_label_loss: 4078.8733, \n",
      "=============================================================\n"
     ]
    },
    {
     "name": "stdout",
     "output_type": "stream",
     "text": [
      "epoch: 5, [batch: 1 / 6720], examples_per_second: 5.6005, train_label_loss: 0.2960, \n"
     ]
    },
    {
     "name": "stdout",
     "output_type": "stream",
     "text": [
      "epoch: 5, [batch: 672 / 6720], examples_per_second: 3229.8735, train_label_loss: 0.5491, \n"
     ]
    },
    {
     "name": "stdout",
     "output_type": "stream",
     "text": [
      "epoch: 5, [batch: 1344 / 6720], examples_per_second: 3244.2069, train_label_loss: 0.7259, \n"
     ]
    },
    {
     "name": "stdout",
     "output_type": "stream",
     "text": [
      "epoch: 5, [batch: 2016 / 6720], examples_per_second: 3247.1862, train_label_loss: 1.1801, \n"
     ]
    },
    {
     "name": "stdout",
     "output_type": "stream",
     "text": [
      "epoch: 5, [batch: 2688 / 6720], examples_per_second: 3241.4285, train_label_loss: 0.5467, \n"
     ]
    },
    {
     "name": "stdout",
     "output_type": "stream",
     "text": [
      "epoch: 5, [batch: 3360 / 6720], examples_per_second: 3250.9948, train_label_loss: 0.4446, \n"
     ]
    },
    {
     "name": "stdout",
     "output_type": "stream",
     "text": [
      "epoch: 5, [batch: 4032 / 6720], examples_per_second: 3246.8304, train_label_loss: 0.5688, \n"
     ]
    },
    {
     "name": "stdout",
     "output_type": "stream",
     "text": [
      "epoch: 5, [batch: 4704 / 6720], examples_per_second: 3262.8183, train_label_loss: 0.3091, \n"
     ]
    },
    {
     "name": "stdout",
     "output_type": "stream",
     "text": [
      "epoch: 5, [batch: 5376 / 6720], examples_per_second: 3255.3585, train_label_loss: 0.9463, \n"
     ]
    },
    {
     "name": "stdout",
     "output_type": "stream",
     "text": [
      "epoch: 5, [batch: 6048 / 6720], examples_per_second: 3251.7721, train_label_loss: 0.6111, \n"
     ]
    },
    {
     "name": "stdout",
     "output_type": "stream",
     "text": [
      "=============================================================\n",
      "epoch: 5, source_val_acc_label: 0.7719, target_val_acc_label: 0.5735, source_val_label_loss: 0.6266, target_val_label_loss: 3653.1887, \n",
      "=============================================================\n"
     ]
    },
    {
     "name": "stdout",
     "output_type": "stream",
     "text": [
      "epoch: 6, [batch: 1 / 6720], examples_per_second: 5.6075, train_label_loss: 0.4493, \n"
     ]
    },
    {
     "name": "stdout",
     "output_type": "stream",
     "text": [
      "epoch: 6, [batch: 672 / 6720], examples_per_second: 3223.2020, train_label_loss: 0.7438, \n"
     ]
    },
    {
     "name": "stdout",
     "output_type": "stream",
     "text": [
      "epoch: 6, [batch: 1344 / 6720], examples_per_second: 3243.9768, train_label_loss: 1.0063, \n"
     ]
    },
    {
     "name": "stdout",
     "output_type": "stream",
     "text": [
      "epoch: 6, [batch: 2016 / 6720], examples_per_second: 3248.5721, train_label_loss: 0.7076, \n"
     ]
    },
    {
     "name": "stdout",
     "output_type": "stream",
     "text": [
      "epoch: 6, [batch: 2688 / 6720], examples_per_second: 3241.6981, train_label_loss: 0.2468, \n"
     ]
    },
    {
     "name": "stdout",
     "output_type": "stream",
     "text": [
      "epoch: 6, [batch: 3360 / 6720], examples_per_second: 3256.6187, train_label_loss: 0.4906, \n"
     ]
    },
    {
     "name": "stdout",
     "output_type": "stream",
     "text": [
      "epoch: 6, [batch: 4032 / 6720], examples_per_second: 3243.2827, train_label_loss: 0.6567, \n"
     ]
    },
    {
     "name": "stdout",
     "output_type": "stream",
     "text": [
      "epoch: 6, [batch: 4704 / 6720], examples_per_second: 3235.5473, train_label_loss: 0.5118, \n"
     ]
    },
    {
     "name": "stdout",
     "output_type": "stream",
     "text": [
      "epoch: 6, [batch: 5376 / 6720], examples_per_second: 3243.7313, train_label_loss: 0.3882, \n"
     ]
    },
    {
     "name": "stdout",
     "output_type": "stream",
     "text": [
      "epoch: 6, [batch: 6048 / 6720], examples_per_second: 3252.4018, train_label_loss: 0.4463, \n"
     ]
    },
    {
     "name": "stdout",
     "output_type": "stream",
     "text": [
      "=============================================================\n",
      "epoch: 6, source_val_acc_label: 0.7930, target_val_acc_label: 0.5538, source_val_label_loss: 0.5711, target_val_label_loss: 3801.1343, \n",
      "=============================================================\n"
     ]
    },
    {
     "name": "stdout",
     "output_type": "stream",
     "text": [
      "Patience (3) exhausted\n"
     ]
    }
   ],
   "source": [
    "###################################\n",
    "# train\n",
    "###################################\n",
    "jig = PTN_Train_Eval_Test_Jig(model, p.BEST_MODEL_PATH, p.device)\n",
    "\n",
    "jig.train(\n",
    "    train_iterable=datasets.source.processed.train,\n",
    "    source_val_iterable=datasets.source.processed.val,\n",
    "    target_val_iterable=datasets.target.processed.val,\n",
    "    num_epochs=p.n_epoch,\n",
    "    num_logs_per_epoch=p.NUM_LOGS_PER_EPOCH,\n",
    "    patience=p.patience,\n",
    "    optimizer=optimizer,\n",
    "    criteria_for_best=p.criteria_for_best,\n",
    ")"
   ]
  },
  {
   "cell_type": "code",
   "execution_count": 23,
   "id": "31e8fabf",
   "metadata": {
    "execution": {
     "iopub.execute_input": "2022-03-18T10:04:38.807818Z",
     "iopub.status.busy": "2022-03-18T10:04:38.807418Z",
     "iopub.status.idle": "2022-03-18T10:04:38.823363Z",
     "shell.execute_reply": "2022-03-18T10:04:38.822939Z"
    },
    "papermill": {
     "duration": 0.044762,
     "end_time": "2022-03-18T10:04:38.823453",
     "exception": false,
     "start_time": "2022-03-18T10:04:38.778691",
     "status": "completed"
    },
    "tags": []
   },
   "outputs": [],
   "source": [
    "total_experiment_time_secs = time.time() - start_time_secs"
   ]
  },
  {
   "cell_type": "code",
   "execution_count": 24,
   "id": "87b9595b",
   "metadata": {
    "execution": {
     "iopub.execute_input": "2022-03-18T10:04:38.888716Z",
     "iopub.status.busy": "2022-03-18T10:04:38.888444Z",
     "iopub.status.idle": "2022-03-18T10:05:43.727743Z",
     "shell.execute_reply": "2022-03-18T10:05:43.728207Z"
    },
    "papermill": {
     "duration": 64.872532,
     "end_time": "2022-03-18T10:05:43.728351",
     "exception": false,
     "start_time": "2022-03-18T10:04:38.855819",
     "status": "completed"
    },
    "tags": []
   },
   "outputs": [],
   "source": [
    "###################################\n",
    "# Evaluate the model\n",
    "###################################\n",
    "source_test_label_accuracy, source_test_label_loss = jig.test(datasets.source.processed.test)\n",
    "target_test_label_accuracy, target_test_label_loss = jig.test(datasets.target.processed.test)\n",
    "\n",
    "source_val_label_accuracy, source_val_label_loss = jig.test(datasets.source.processed.val)\n",
    "target_val_label_accuracy, target_val_label_loss = jig.test(datasets.target.processed.val)\n",
    "\n",
    "history = jig.get_history()\n",
    "\n",
    "total_epochs_trained = len(history[\"epoch_indices\"])\n",
    "\n",
    "val_dl = Iterable_Aggregator((datasets.source.original.val,datasets.target.original.val))\n",
    "\n",
    "confusion = ptn_confusion_by_domain_over_dataloader(model, p.device, val_dl)\n",
    "per_domain_accuracy = per_domain_accuracy_from_confusion(confusion)\n",
    "\n",
    "# Add a key to per_domain_accuracy for if it was a source domain\n",
    "for domain, accuracy in per_domain_accuracy.items():\n",
    "    per_domain_accuracy[domain] = {\n",
    "        \"accuracy\": accuracy,\n",
    "        \"source?\": domain in p.domains_source\n",
    "    }\n",
    "\n",
    "# Do an independent accuracy assesment JUST TO BE SURE!\n",
    "# _source_test_label_accuracy = independent_accuracy_assesment(model, datasets.source.processed.test, p.device)\n",
    "# _target_test_label_accuracy = independent_accuracy_assesment(model, datasets.target.processed.test, p.device)\n",
    "# _source_val_label_accuracy = independent_accuracy_assesment(model, datasets.source.processed.val, p.device)\n",
    "# _target_val_label_accuracy = independent_accuracy_assesment(model, datasets.target.processed.val, p.device)\n",
    "\n",
    "# assert(_source_test_label_accuracy == source_test_label_accuracy)\n",
    "# assert(_target_test_label_accuracy == target_test_label_accuracy)\n",
    "# assert(_source_val_label_accuracy == source_val_label_accuracy)\n",
    "# assert(_target_val_label_accuracy == target_val_label_accuracy)\n",
    "\n",
    "experiment = {\n",
    "    \"experiment_name\": p.experiment_name,\n",
    "    \"parameters\": dict(p),\n",
    "    \"results\": {\n",
    "        \"source_test_label_accuracy\": source_test_label_accuracy,\n",
    "        \"source_test_label_loss\": source_test_label_loss,\n",
    "        \"target_test_label_accuracy\": target_test_label_accuracy,\n",
    "        \"target_test_label_loss\": target_test_label_loss,\n",
    "        \"source_val_label_accuracy\": source_val_label_accuracy,\n",
    "        \"source_val_label_loss\": source_val_label_loss,\n",
    "        \"target_val_label_accuracy\": target_val_label_accuracy,\n",
    "        \"target_val_label_loss\": target_val_label_loss,\n",
    "        \"total_epochs_trained\": total_epochs_trained,\n",
    "        \"total_experiment_time_secs\": total_experiment_time_secs,\n",
    "        \"confusion\": confusion,\n",
    "        \"per_domain_accuracy\": per_domain_accuracy,\n",
    "    },\n",
    "    \"history\": history,\n",
    "    \"dataset_metrics\": get_dataset_metrics(datasets, \"ptn\"),\n",
    "}"
   ]
  },
  {
   "cell_type": "code",
   "execution_count": 25,
   "id": "54a21829",
   "metadata": {
    "execution": {
     "iopub.execute_input": "2022-03-18T10:05:43.788577Z",
     "iopub.status.busy": "2022-03-18T10:05:43.788316Z",
     "iopub.status.idle": "2022-03-18T10:05:43.909346Z",
     "shell.execute_reply": "2022-03-18T10:05:43.909736Z"
    },
    "papermill": {
     "duration": 0.15049,
     "end_time": "2022-03-18T10:05:43.909845",
     "exception": false,
     "start_time": "2022-03-18T10:05:43.759355",
     "status": "completed"
    },
    "tags": []
   },
   "outputs": [
    {
     "data": {
      "image/png": "[encoded data removed]",
      "text/plain": [
       "<Figure size 1080x504 with 1 Axes>"
      ]
     },
     "metadata": {
      "needs_background": "light"
     },
     "output_type": "display_data"
    }
   ],
   "source": [
    "ax = get_loss_curve(experiment)\n",
    "plt.show()"
   ]
  },
  {
   "cell_type": "code",
   "execution_count": 26,
   "id": "fd8a0f60",
   "metadata": {
    "execution": {
     "iopub.execute_input": "2022-03-18T10:05:43.974679Z",
     "iopub.status.busy": "2022-03-18T10:05:43.974412Z",
     "iopub.status.idle": "2022-03-18T10:05:44.117479Z",
     "shell.execute_reply": "2022-03-18T10:05:44.117260Z"
    },
    "papermill": {
     "duration": 0.174218,
     "end_time": "2022-03-18T10:05:44.117534",
     "exception": false,
     "start_time": "2022-03-18T10:05:43.943316",
     "status": "completed"
    },
    "tags": []
   },
   "outputs": [
    {
     "data": {
      "text/plain": [
       "<AxesSubplot:title={'center':'Results'}>"
      ]
     },
     "execution_count": 26,
     "metadata": {},
     "output_type": "execute_result"
    },
    {
     "data": {
      "image/png": "[encoded data removed]",
      "text/plain": [
       "<Figure size 1080x504 with 1 Axes>"
      ]
     },
     "metadata": {
      "needs_background": "light"
     },
     "output_type": "display_data"
    }
   ],
   "source": [
    "get_results_table(experiment)"
   ]
  },
  {
   "cell_type": "code",
   "execution_count": 27,
   "id": "cf8dc689",
   "metadata": {
    "execution": {
     "iopub.execute_input": "2022-03-18T10:05:44.179023Z",
     "iopub.status.busy": "2022-03-18T10:05:44.178768Z",
     "iopub.status.idle": "2022-03-18T10:05:44.335169Z",
     "shell.execute_reply": "2022-03-18T10:05:44.334750Z"
    },
    "papermill": {
     "duration": 0.187338,
     "end_time": "2022-03-18T10:05:44.335270",
     "exception": false,
     "start_time": "2022-03-18T10:05:44.147932",
     "status": "completed"
    },
    "tags": []
   },
   "outputs": [
    {
     "data": {
      "text/plain": [
       "<AxesSubplot:title={'center':'Per Domain Validation Accuracy'}, xlabel='domain'>"
      ]
     },
     "execution_count": 27,
     "metadata": {},
     "output_type": "execute_result"
    },
    {
     "data": {
      "image/png": "[encoded data removed]",
      "text/plain": [
       "<Figure size 1080x504 with 1 Axes>"
      ]
     },
     "metadata": {
      "needs_background": "light"
     },
     "output_type": "display_data"
    }
   ],
   "source": [
    "get_domain_accuracies(experiment)"
   ]
  },
  {
   "cell_type": "code",
   "execution_count": 28,
   "id": "a74ae082",
   "metadata": {
    "execution": {
     "iopub.execute_input": "2022-03-18T10:05:44.401389Z",
     "iopub.status.busy": "2022-03-18T10:05:44.401131Z",
     "iopub.status.idle": "2022-03-18T10:05:44.416457Z",
     "shell.execute_reply": "2022-03-18T10:05:44.416000Z"
    },
    "papermill": {
     "duration": 0.047706,
     "end_time": "2022-03-18T10:05:44.416546",
     "exception": false,
     "start_time": "2022-03-18T10:05:44.368840",
     "status": "completed"
    },
    "tags": []
   },
   "outputs": [
    {
     "name": "stdout",
     "output_type": "stream",
     "text": [
      "Source Test Label Accuracy: 0.6697265625 Target Test Label Accuracy: 0.5258989726027398\n",
      "Source Val Label Accuracy: 0.6608723958333333 Target Val Label Accuracy: 0.522902397260274\n"
     ]
    }
   ],
   "source": [
    "print(\"Source Test Label Accuracy:\", experiment[\"results\"][\"source_test_label_accuracy\"], \"Target Test Label Accuracy:\", experiment[\"results\"][\"target_test_label_accuracy\"])\n",
    "print(\"Source Val Label Accuracy:\", experiment[\"results\"][\"source_val_label_accuracy\"], \"Target Val Label Accuracy:\", experiment[\"results\"][\"target_val_label_accuracy\"])"
   ]
  },
  {
   "cell_type": "code",
   "execution_count": 29,
   "id": "dacca602",
   "metadata": {
    "execution": {
     "iopub.execute_input": "2022-03-18T10:05:44.483894Z",
     "iopub.status.busy": "2022-03-18T10:05:44.483641Z",
     "iopub.status.idle": "2022-03-18T10:05:44.501960Z",
     "shell.execute_reply": "2022-03-18T10:05:44.502347Z"
    },
    "papermill": {
     "duration": 0.050751,
     "end_time": "2022-03-18T10:05:44.502453",
     "exception": false,
     "start_time": "2022-03-18T10:05:44.451702",
     "status": "completed"
    },
    "tags": [
     "experiment_json"
    ]
   },
   "outputs": [
    {
     "data": {
      "text/plain": [
       "'{\"experiment_name\": \"tl_3-jitter1:oracle.run1.framed -> cores+wisig\", \"parameters\": {\"experiment_name\": \"tl_3-jitter1:oracle.run1.framed -> cores+wisig\", \"device\": \"cuda\", \"lr\": 0.001, \"seed\": 1337, \"dataset_seed\": 1337, \"n_shot\": 3, \"n_query\": 2, \"train_k_factor\": 3, \"val_k_factor\": 2, \"test_k_factor\": 2, \"torch_default_dtype\": \"torch.float32\", \"n_epoch\": 50, \"patience\": 3, \"criteria_for_best\": \"target_loss\", \"x_net\": [{\"class\": \"nnReshape\", \"kargs\": {\"shape\": [-1, 1, 2, 256]}}, {\"class\": \"Conv2d\", \"kargs\": {\"in_channels\": 1, \"out_channels\": 256, \"kernel_size\": [1, 7], \"bias\": false, \"padding\": [0, 3]}}, {\"class\": \"ReLU\", \"kargs\": {\"inplace\": true}}, {\"class\": \"BatchNorm2d\", \"kargs\": {\"num_features\": 256}}, {\"class\": \"Conv2d\", \"kargs\": {\"in_channels\": 256, \"out_channels\": 80, \"kernel_size\": [2, 7], \"bias\": true, \"padding\": [0, 3]}}, {\"class\": \"ReLU\", \"kargs\": {\"inplace\": true}}, {\"class\": \"BatchNorm2d\", \"kargs\": {\"num_features\": 80}}, {\"class\": \"Flatten\", \"kargs\": {}}, {\"class\": \"Linear\", \"kargs\": {\"in_features\": 20480, \"out_features\": 256}}, {\"class\": \"ReLU\", \"kargs\": {\"inplace\": true}}, {\"class\": \"BatchNorm1d\", \"kargs\": {\"num_features\": 256}}, {\"class\": \"Linear\", \"kargs\": {\"in_features\": 256, \"out_features\": 256}}], \"NUM_LOGS_PER_EPOCH\": 10, \"BEST_MODEL_PATH\": \"./best_model.pth\", \"n_way\": 16, \"datasets\": [{\"labels\": [\"1-10.\", \"1-11.\", \"1-15.\", \"1-16.\", \"1-17.\", \"1-18.\", \"1-19.\", \"10-4.\", \"10-7.\", \"11-1.\", \"11-14.\", \"11-17.\", \"11-20.\", \"11-7.\", \"13-20.\", \"13-8.\", \"14-10.\", \"14-11.\", \"14-14.\", \"14-7.\", \"15-1.\", \"15-20.\", \"16-1.\", \"16-16.\", \"17-10.\", \"17-11.\", \"17-2.\", \"19-1.\", \"19-16.\", \"19-19.\", \"19-20.\", \"19-3.\", \"2-10.\", \"2-11.\", \"2-17.\", \"2-18.\", \"2-20.\", \"2-3.\", \"2-4.\", \"2-5.\", \"2-6.\", \"2-7.\", \"2-8.\", \"3-13.\", \"3-18.\", \"3-3.\", \"4-1.\", \"4-10.\", \"4-11.\", \"4-19.\", \"5-5.\", \"6-15.\", \"7-10.\", \"7-14.\", \"8-18.\", \"8-20.\", \"8-3.\", \"8-8.\"], \"domains\": [1, 2, 3, 4, 5], \"num_examples_per_domain_per_label\": 100, \"pickle_path\": \"/mnt/wd500GB/CSC500/csc500-main/datasets/cores.stratified_ds.2022A.pkl\", \"source_or_target_dataset\": \"target\", \"x_transforms\": [\"unit_power\", \"jitter_256_1\", \"take_200\"], \"episode_transforms\": [], \"domain_prefix\": \"C_A_\"}, {\"labels\": [\"1-10\", \"1-12\", \"1-14\", \"1-16\", \"1-18\", \"1-19\", \"1-8\", \"10-11\", \"10-17\", \"10-4\", \"10-7\", \"11-1\", \"11-10\", \"11-19\", \"11-20\", \"11-4\", \"11-7\", \"12-19\", \"12-20\", \"12-7\", \"13-14\", \"13-18\", \"13-19\", \"13-20\", \"13-3\", \"13-7\", \"14-10\", \"14-11\", \"14-12\", \"14-13\", \"14-14\", \"14-19\", \"14-20\", \"14-7\", \"14-8\", \"14-9\", \"15-1\", \"15-19\", \"15-6\", \"16-1\", \"16-16\", \"16-19\", \"16-20\", \"17-10\", \"17-11\", \"18-1\", \"18-10\", \"18-11\", \"18-12\", \"18-13\", \"18-14\", \"18-15\", \"18-16\", \"18-17\", \"18-19\", \"18-2\", \"18-20\", \"18-4\", \"18-5\", \"18-7\", \"18-8\", \"18-9\", \"19-1\", \"19-10\", \"19-11\", \"19-12\", \"19-13\", \"19-14\", \"19-15\", \"19-19\", \"19-2\", \"19-20\", \"19-3\", \"19-4\", \"19-6\", \"19-7\", \"19-8\", \"19-9\", \"2-1\", \"2-13\", \"2-15\", \"2-3\", \"2-4\", \"2-5\", \"2-6\", \"2-7\", \"2-8\", \"20-1\", \"20-12\", \"20-14\", \"20-15\", \"20-16\", \"20-18\", \"20-19\", \"20-20\", \"20-3\", \"20-4\", \"20-5\", \"20-7\", \"20-8\", \"3-1\", \"3-13\", \"3-18\", \"3-2\", \"3-8\", \"4-1\", \"4-10\", \"4-11\", \"5-1\", \"5-5\", \"6-1\", \"6-15\", \"6-6\", \"7-10\", \"7-11\", \"7-12\", \"7-13\", \"7-14\", \"7-7\", \"7-8\", \"7-9\", \"8-1\", \"8-13\", \"8-14\", \"8-18\", \"8-20\", \"8-3\", \"8-8\", \"9-1\", \"9-7\"], \"domains\": [1, 2, 3, 4], \"num_examples_per_domain_per_label\": 100, \"pickle_path\": \"/mnt/wd500GB/CSC500/csc500-main/datasets/wisig.node3-19.stratified_ds.2022A.pkl\", \"source_or_target_dataset\": \"target\", \"x_transforms\": [\"unit_power\", \"jitter_256_1\", \"take_200\"], \"episode_transforms\": [], \"domain_prefix\": \"W_A_\"}, {\"labels\": [\"3123D52\", \"3123D65\", \"3123D79\", \"3123D80\", \"3123D54\", \"3123D70\", \"3123D7B\", \"3123D89\", \"3123D58\", \"3123D76\", \"3123D7D\", \"3123EFE\", \"3123D64\", \"3123D78\", \"3123D7E\", \"3124E4A\"], \"domains\": [32, 38, 8, 44, 14, 50, 20, 26], \"num_examples_per_domain_per_label\": 2000, \"pickle_path\": \"/mnt/wd500GB/CSC500/csc500-main/datasets/oracle.Run1_framed_2000Examples_stratified_ds.2022A.pkl\", \"source_or_target_dataset\": \"source\", \"x_transforms\": [\"unit_power\", \"jitter_256_1\", \"take_200\", \"resample_20Msps_to_25Msps\"], \"episode_transforms\": [], \"domain_prefix\": \"ORACLE.run1_\"}], \"x_shape\": [2, 256], \"domains_source\": [\"ORACLE.run1_32\", \"ORACLE.run1_38\", \"ORACLE.run1_8\", \"ORACLE.run1_44\", \"ORACLE.run1_14\", \"ORACLE.run1_50\", \"ORACLE.run1_20\", \"ORACLE.run1_26\"], \"domains_target\": [\"C_A_1\", \"C_A_2\", \"C_A_3\", \"C_A_4\", \"C_A_5\", \"W_A_1\", \"W_A_2\", \"W_A_3\", \"W_A_4\"]}, \"results\": {\"source_test_label_accuracy\": 0.6697265625, \"source_test_label_loss\": 0.9161146283149719, \"target_test_label_accuracy\": 0.5258989726027398, \"target_test_label_loss\": 3279.75439453125, \"source_val_label_accuracy\": 0.6608723958333333, \"source_val_label_loss\": 0.9381909370422363, \"target_val_label_accuracy\": 0.522902397260274, \"target_val_label_loss\": 3170.4609375, \"total_epochs_trained\": 6, \"total_experiment_time_secs\": 1130.7650396823883, \"confusion\": {\"ORACLE.run1_14\": {\"15\": {\"15\": 215, \"7\": 25}, \"3\": {\"3\": 218, \"4\": 18, \"0\": 3, \"13\": 1}, \"6\": {\"13\": 76, \"6\": 118, \"2\": 10, \"14\": 36}, \"1\": {\"1\": 211, \"5\": 26, \"3\": 1, \"4\": 2}, \"8\": {\"8\": 240}, \"10\": {\"10\": 212, \"0\": 28}, \"9\": {\"9\": 240}, \"13\": {\"14\": 69, \"6\": 82, \"2\": 16, \"13\": 67, \"5\": 5, \"15\": 1}, \"12\": {\"12\": 239, \"9\": 1}, \"5\": {\"5\": 141, \"4\": 53, \"1\": 32, \"2\": 9, \"3\": 3, \"6\": 1, \"7\": 1}, \"0\": {\"0\": 171, \"10\": 60, \"11\": 5, \"3\": 4}, \"2\": {\"6\": 29, \"3\": 8, \"2\": 100, \"4\": 14, \"13\": 14, \"5\": 35, \"14\": 39, \"15\": 1}, \"11\": {\"11\": 209, \"10\": 15, \"9\": 14, \"0\": 2}, \"14\": {\"14\": 158, \"13\": 39, \"2\": 19, \"6\": 23, \"3\": 1}, \"7\": {\"15\": 24, \"7\": 216}, \"4\": {\"4\": 174, \"3\": 13, \"5\": 35, \"14\": 1, \"1\": 7, \"2\": 10}}, \"ORACLE.run1_20\": {\"3\": {\"12\": 44, \"9\": 51, \"4\": 6, \"3\": 93, \"2\": 16, \"1\": 3, \"5\": 10, \"0\": 4, \"7\": 8, \"15\": 1, \"8\": 3, \"13\": 1}, \"15\": {\"15\": 134, \"5\": 8, \"1\": 59, \"12\": 6, \"0\": 25, \"9\": 2, \"13\": 6}, \"8\": {\"8\": 170, \"7\": 17, \"4\": 26, \"10\": 18, \"3\": 5, \"6\": 2, \"9\": 1, \"14\": 1}, \"4\": {\"4\": 193, \"3\": 14, \"8\": 21, \"10\": 7, \"14\": 1, \"12\": 3, \"5\": 1}, \"14\": {\"6\": 32, \"14\": 184, \"10\": 21, \"8\": 2, \"4\": 1}, \"0\": {\"12\": 33, \"0\": 56, \"3\": 9, \"15\": 35, \"1\": 48, \"5\": 46, \"2\": 4, \"9\": 7, \"13\": 2}, \"7\": {\"7\": 166, \"2\": 31, \"9\": 26, \"8\": 12, \"3\": 5}, \"6\": {\"6\": 218, \"14\": 20, \"8\": 1, \"7\": 1}, \"10\": {\"14\": 23, \"10\": 200, \"4\": 3, \"8\": 14}, \"5\": {\"5\": 99, \"0\": 58, \"12\": 32, \"9\": 2, \"1\": 33, \"3\": 6, \"15\": 8, \"4\": 1, \"2\": 1}, \"2\": {\"2\": 95, \"9\": 80, \"13\": 18, \"7\": 22, \"12\": 12, \"8\": 1, \"3\": 10, \"0\": 1, \"15\": 1}, \"12\": {\"12\": 95, \"3\": 43, \"1\": 30, \"5\": 28, \"0\": 25, \"2\": 6, \"9\": 8, \"4\": 2, \"7\": 1, \"15\": 2}, \"9\": {\"9\": 88, \"13\": 4, \"2\": 89, \"7\": 15, \"3\": 31, \"12\": 10, \"0\": 3}, \"1\": {\"1\": 67, \"5\": 50, \"12\": 27, \"15\": 46, \"0\": 44, \"3\": 2, \"13\": 1, \"2\": 2, \"9\": 1}, \"11\": {\"11\": 240}, \"13\": {\"13\": 208, \"15\": 5, \"2\": 22, \"9\": 4, \"12\": 1}}, \"ORACLE.run1_38\": {\"5\": {\"0\": 38, \"8\": 50, \"9\": 4, \"5\": 76, \"15\": 11, \"1\": 11, \"3\": 5, \"7\": 20, \"6\": 24, \"10\": 1}, \"8\": {\"8\": 124, \"7\": 20, \"0\": 34, \"15\": 9, \"1\": 2, \"5\": 37, \"13\": 1, \"10\": 12, \"12\": 1}, \"11\": {\"11\": 139, \"14\": 83, \"10\": 3, \"2\": 5, \"4\": 2, \"3\": 3, \"12\": 4, \"7\": 1}, \"1\": {\"1\": 219, \"15\": 19, \"13\": 2}, \"10\": {\"10\": 141, \"12\": 20, \"0\": 2, \"8\": 19, \"15\": 7, \"13\": 28, \"2\": 10, \"5\": 3, \"7\": 4, \"14\": 3, \"4\": 3}, \"15\": {\"15\": 152, \"8\": 7, \"10\": 6, \"1\": 19, \"13\": 49, \"5\": 6, \"0\": 1}, \"3\": {\"3\": 198, \"9\": 30, \"7\": 4, \"0\": 3, \"6\": 3, \"5\": 2}, \"7\": {\"7\": 156, \"0\": 57, \"5\": 16, \"3\": 2, \"8\": 8, \"10\": 1}, \"4\": {\"4\": 199, \"12\": 41}, \"14\": {\"11\": 36, \"14\": 179, \"10\": 2, \"2\": 21, \"12\": 2}, \"9\": {\"9\": 141, \"6\": 73, \"3\": 25, \"0\": 1}, \"12\": {\"12\": 215, \"4\": 18, \"10\": 5, \"11\": 1, \"14\": 1}, \"6\": {\"6\": 189, \"9\": 44, \"5\": 4, \"3\": 2, \"1\": 1}, \"2\": {\"2\": 202, \"14\": 25, \"13\": 8, \"15\": 1, \"10\": 2, \"11\": 2}, \"0\": {\"0\": 55, \"7\": 63, \"8\": 52, \"5\": 37, \"9\": 2, \"3\": 13, \"10\": 9, \"15\": 6, \"13\": 1, \"6\": 2}, \"13\": {\"13\": 151, \"2\": 11, \"15\": 55, \"10\": 15, \"1\": 6, \"8\": 1, \"5\": 1}}, \"ORACLE.run1_8\": {\"9\": {\"9\": 240}, \"10\": {\"10\": 169, \"13\": 12, \"14\": 49, \"5\": 6, \"4\": 4}, \"13\": {\"13\": 86, \"4\": 39, \"0\": 63, \"10\": 17, \"14\": 28, \"6\": 6, \"7\": 1}, \"0\": {\"13\": 50, \"0\": 161, \"7\": 13, \"4\": 6, \"10\": 2, \"6\": 8}, \"1\": {\"1\": 165, \"11\": 63, \"5\": 6, \"10\": 1, \"14\": 5}, \"15\": {\"15\": 197, \"12\": 33, \"8\": 10}, \"5\": {\"5\": 215, \"10\": 10, \"1\": 9, \"14\": 5, \"11\": 1}, \"3\": {\"2\": 30, \"3\": 197, \"12\": 13}, \"6\": {\"6\": 158, \"7\": 51, \"0\": 3, \"4\": 24, \"13\": 2, \"14\": 2}, \"11\": {\"11\": 131, \"1\": 95, \"5\": 11, \"14\": 3}, \"8\": {\"8\": 235, \"15\": 5}, \"4\": {\"13\": 51, \"0\": 5, \"4\": 134, \"6\": 19, \"14\": 29, \"7\": 1, \"10\": 1}, \"12\": {\"12\": 123, \"15\": 71, \"3\": 41, \"8\": 4, \"2\": 1}, \"14\": {\"13\": 23, \"10\": 46, \"14\": 127, \"4\": 26, \"1\": 15, \"11\": 2, \"5\": 1}, \"2\": {\"15\": 5, \"2\": 191, \"3\": 35, \"12\": 2, \"7\": 6, \"8\": 1}, \"7\": {\"7\": 191, \"6\": 43, \"0\": 5, \"13\": 1}}, \"ORACLE.run1_50\": {\"7\": {\"5\": 25, \"7\": 125, \"13\": 57, \"10\": 31, \"6\": 2}, \"3\": {\"3\": 239, \"8\": 1}, \"8\": {\"8\": 225, \"10\": 13, \"3\": 2}, \"2\": {\"2\": 215, \"0\": 24, \"6\": 1}, \"14\": {\"14\": 237, \"12\": 2, \"11\": 1}, \"4\": {\"15\": 48, \"4\": 77, \"1\": 51, \"7\": 7, \"5\": 14, \"6\": 32, \"13\": 8, \"0\": 1, \"11\": 2}, \"6\": {\"4\": 24, \"2\": 3, \"6\": 137, \"13\": 24, \"1\": 25, \"5\": 22, \"0\": 2, \"15\": 2, \"7\": 1}, \"15\": {\"15\": 151, \"11\": 22, \"1\": 41, \"4\": 23, \"14\": 1, \"5\": 1, \"6\": 1}, \"10\": {\"10\": 205, \"0\": 10, \"8\": 10, \"13\": 6, \"7\": 9}, \"11\": {\"11\": 191, \"9\": 24, \"1\": 2, \"14\": 11, \"15\": 10, \"12\": 2}, \"13\": {\"13\": 118, \"5\": 45, \"6\": 21, \"7\": 52, \"10\": 3, \"0\": 1}, \"9\": {\"11\": 27, \"9\": 179, \"12\": 34}, \"0\": {\"0\": 185, \"10\": 18, \"2\": 32, \"6\": 3, \"5\": 1, \"13\": 1}, \"1\": {\"4\": 35, \"1\": 116, \"15\": 47, \"6\": 36, \"13\": 1, \"11\": 2, \"5\": 2, \"2\": 1}, \"12\": {\"12\": 216, \"9\": 14, \"14\": 6, \"11\": 4}, \"5\": {\"5\": 62, \"4\": 26, \"7\": 56, \"13\": 44, \"6\": 37, \"1\": 12, \"15\": 1, \"10\": 2}}, \"ORACLE.run1_32\": {\"8\": {\"5\": 26, \"13\": 25, \"8\": 171, \"0\": 11, \"7\": 2, \"4\": 4, \"3\": 1}, \"14\": {\"11\": 74, \"14\": 73, \"0\": 7, \"7\": 52, \"13\": 5, \"5\": 18, \"3\": 6, \"4\": 5}, \"2\": {\"2\": 182, \"4\": 44, \"0\": 10, \"7\": 4}, \"0\": {\"4\": 30, \"2\": 20, \"0\": 119, \"7\": 21, \"5\": 11, \"13\": 10, \"8\": 23, \"14\": 6}, \"1\": {\"1\": 237, \"10\": 3}, \"10\": {\"10\": 239, \"1\": 1}, \"11\": {\"11\": 153, \"14\": 54, \"5\": 9, \"7\": 20, \"13\": 2, \"3\": 2}, \"5\": {\"0\": 14, \"11\": 15, \"13\": 39, \"3\": 31, \"5\": 52, \"14\": 12, \"7\": 30, \"8\": 32, \"4\": 14, \"2\": 1}, \"15\": {\"15\": 238, \"3\": 1, \"8\": 1}, \"3\": {\"3\": 221, \"8\": 1, \"11\": 2, \"5\": 11, \"13\": 4, \"14\": 1}, \"12\": {\"12\": 240}, \"7\": {\"4\": 27, \"14\": 29, \"7\": 115, \"13\": 11, \"11\": 22, \"5\": 18, \"0\": 10, \"8\": 2, \"2\": 6}, \"13\": {\"8\": 27, \"13\": 105, \"5\": 42, \"4\": 24, \"3\": 10, \"0\": 11, \"7\": 14, \"14\": 4, \"11\": 3}, \"6\": {\"6\": 240}, \"4\": {\"4\": 127, \"0\": 27, \"2\": 51, \"7\": 24, \"13\": 6, \"14\": 2, \"5\": 3}, \"9\": {\"9\": 240}}, \"ORACLE.run1_26\": {\"4\": {\"4\": 71, \"14\": 54, \"1\": 36, \"7\": 8, \"8\": 30, \"0\": 33, \"10\": 8}, \"12\": {\"12\": 240}, \"10\": {\"14\": 27, \"0\": 46, \"8\": 32, \"10\": 87, \"6\": 24, \"4\": 8, \"9\": 5, \"1\": 7, \"7\": 1, \"15\": 3}, \"0\": {\"8\": 31, \"0\": 51, \"4\": 35, \"14\": 35, \"10\": 53, \"1\": 16, \"7\": 9, \"6\": 9, \"9\": 1}, \"13\": {\"13\": 151, \"5\": 41, \"15\": 19, \"2\": 7, \"6\": 9, \"9\": 13}, \"9\": {\"5\": 18, \"8\": 18, \"9\": 81, \"6\": 29, \"4\": 1, \"15\": 71, \"13\": 13, \"10\": 6, \"0\": 1, \"2\": 2}, \"3\": {\"3\": 139, \"2\": 71, \"7\": 28, \"4\": 1, \"5\": 1}, \"2\": {\"2\": 89, \"7\": 31, \"5\": 16, \"3\": 73, \"9\": 12, \"15\": 14, \"6\": 2, \"8\": 2, \"0\": 1}, \"5\": {\"2\": 16, \"13\": 20, \"15\": 43, \"5\": 137, \"9\": 20, \"8\": 1, \"7\": 2, \"3\": 1}, \"14\": {\"4\": 45, \"1\": 47, \"7\": 4, \"14\": 81, \"0\": 36, \"10\": 17, \"8\": 9, \"6\": 1}, \"8\": {\"8\": 94, \"7\": 25, \"14\": 11, \"15\": 10, \"0\": 22, \"10\": 32, \"4\": 12, \"9\": 16, \"6\": 13, \"1\": 3, \"2\": 1, \"3\": 1}, \"7\": {\"7\": 129, \"3\": 29, \"2\": 20, \"8\": 27, \"1\": 3, \"4\": 17, \"14\": 5, \"15\": 5, \"0\": 2, \"9\": 3}, \"6\": {\"6\": 172, \"9\": 20, \"10\": 24, \"15\": 7, \"8\": 8, \"4\": 1, \"13\": 5, \"0\": 3}, \"11\": {\"11\": 235, \"12\": 5}, \"15\": {\"15\": 78, \"9\": 65, \"0\": 1, \"13\": 36, \"8\": 19, \"5\": 22, \"7\": 5, \"2\": 3, \"14\": 1, \"6\": 10}, \"1\": {\"4\": 31, \"14\": 58, \"0\": 14, \"1\": 115, \"7\": 9, \"10\": 6, \"3\": 2, \"8\": 5}}, \"ORACLE.run1_44\": {\"12\": {\"12\": 157, \"1\": 52, \"10\": 29, \"2\": 2}, \"7\": {\"7\": 136, \"2\": 38, \"6\": 9, \"9\": 50, \"10\": 1, \"3\": 4, \"1\": 1, \"13\": 1}, \"5\": {\"5\": 170, \"15\": 15, \"0\": 28, \"4\": 3, \"8\": 12, \"14\": 12}, \"15\": {\"15\": 176, \"14\": 23, \"5\": 10, \"0\": 23, \"8\": 6, \"4\": 2}, \"8\": {\"8\": 142, \"0\": 81, \"15\": 13, \"5\": 4}, \"2\": {\"2\": 170, \"1\": 15, \"7\": 39, \"10\": 11, \"3\": 1, \"12\": 3, \"6\": 1}, \"13\": {\"13\": 137, \"6\": 40, \"11\": 25, \"9\": 35, \"4\": 1, \"7\": 2}, \"4\": {\"4\": 169, \"14\": 66, \"13\": 2, \"15\": 1, \"5\": 2}, \"0\": {\"8\": 80, \"0\": 127, \"5\": 24, \"15\": 9}, \"6\": {\"9\": 32, \"6\": 146, \"13\": 31, \"7\": 16, \"11\": 13, \"2\": 2}, \"9\": {\"13\": 41, \"7\": 44, \"9\": 122, \"6\": 27, \"2\": 5, \"1\": 1}, \"11\": {\"11\": 183, \"13\": 45, \"6\": 12}, \"10\": {\"1\": 28, \"10\": 158, \"12\": 39, \"2\": 14, \"3\": 1}, \"14\": {\"4\": 79, \"14\": 128, \"15\": 21, \"5\": 12}, \"1\": {\"3\": 33, \"1\": 103, \"2\": 15, \"12\": 75, \"10\": 14}, \"3\": {\"3\": 207, \"7\": 2, \"1\": 21, \"12\": 7, \"2\": 2, \"10\": 1}}, \"C_A_3\": {\"43\": {\"43\": 12}, \"9\": {\"6\": 2, \"32\": 2, \"9\": 6, \"29\": 1, \"44\": 1}, \"6\": {\"6\": 6, \"33\": 4}, \"3\": {\"6\": 2, \"3\": 4, \"52\": 1, \"20\": 1, \"18\": 1, \"30\": 2, \"35\": 1}, \"16\": {\"16\": 11, \"15\": 1}, \"51\": {\"51\": 8, \"53\": 2, \"52\": 2}, \"31\": {\"31\": 12}, \"46\": {\"46\": 4, \"33\": 2, \"57\": 1, \"37\": 1, \"3\": 2}, \"19\": {\"14\": 1, \"6\": 1, \"9\": 3, \"19\": 2, \"44\": 1}, \"8\": {\"8\": 12}, \"18\": {\"18\": 12}, \"37\": {\"37\": 12}, \"24\": {\"24\": 5, \"43\": 2, \"23\": 1, \"15\": 1, \"14\": 2, \"16\": 1}, \"10\": {\"10\": 5, \"14\": 1, \"15\": 1, \"43\": 2, \"11\": 1, \"0\": 1, \"56\": 1}, \"44\": {\"9\": 2, \"44\": 6, \"40\": 1, \"28\": 1}, \"14\": {\"43\": 1, \"10\": 2, \"14\": 2, \"35\": 1, \"5\": 2, \"28\": 2, \"37\": 1, \"24\": 1}, \"38\": {\"38\": 10}, \"53\": {\"53\": 12}, \"20\": {\"20\": 12}, \"32\": {\"32\": 12}, \"36\": {\"36\": 9, \"3\": 1}, \"33\": {\"33\": 9, \"6\": 2, \"48\": 1}, \"56\": {\"56\": 12}, \"23\": {\"23\": 12}, \"54\": {\"54\": 10}, \"34\": {\"34\": 12}, \"13\": {\"13\": 10, \"5\": 1, \"31\": 1}, \"2\": {\"2\": 12}, \"55\": {\"55\": 8, \"42\": 1, \"6\": 1}, \"21\": {\"21\": 8, \"17\": 1, \"54\": 1}, \"49\": {\"49\": 10}, \"25\": {\"25\": 5, \"18\": 1, \"33\": 1, \"20\": 1, \"30\": 2, \"6\": 2}, \"5\": {\"57\": 1, \"5\": 10, \"42\": 1}, \"50\": {\"46\": 1, \"50\": 3, \"3\": 3, \"25\": 1}, \"40\": {\"13\": 3, \"40\": 7, \"29\": 1, \"45\": 1}, \"57\": {\"57\": 8}, \"22\": {\"55\": 3, \"35\": 3, \"22\": 3, \"9\": 1}, \"1\": {\"1\": 10}, \"17\": {\"17\": 12}, \"41\": {\"41\": 12}, \"4\": {\"14\": 1, \"56\": 1, \"17\": 2, \"35\": 1, \"4\": 1, \"24\": 1, \"19\": 1, \"9\": 1, \"40\": 1}, \"7\": {\"7\": 10}, \"26\": {\"26\": 10}, \"29\": {\"24\": 2, \"28\": 1, \"29\": 5, \"35\": 2, \"5\": 1, \"9\": 1}, \"52\": {\"52\": 10, \"48\": 1, \"3\": 1}, \"15\": {\"15\": 12}, \"35\": {\"35\": 12}, \"42\": {\"42\": 12}, \"30\": {\"30\": 10}, \"27\": {\"27\": 8}, \"45\": {\"44\": 1, \"51\": 1, \"4\": 1, \"29\": 1, \"28\": 1, \"9\": 1, \"22\": 3, \"19\": 1}, \"0\": {\"0\": 12}, \"28\": {\"28\": 9, \"5\": 2, \"23\": 1}, \"47\": {\"47\": 12}, \"11\": {\"11\": 10}, \"39\": {\"26\": 2, \"39\": 8}, \"48\": {\"41\": 2, \"48\": 9, \"33\": 1}, \"12\": {\"12\": 6, \"38\": 2}}, \"C_A_4\": {\"35\": {\"35\": 10}, \"25\": {\"25\": 7, \"20\": 2, \"3\": 1, \"26\": 1, \"53\": 1}, \"24\": {\"24\": 9, \"43\": 1}, \"48\": {\"48\": 11, \"26\": 1}, \"51\": {\"51\": 12}, \"13\": {\"13\": 10, \"37\": 1, \"45\": 1}, \"14\": {\"35\": 1, \"13\": 1, \"14\": 1, \"49\": 1, \"38\": 2, \"10\": 2}, \"32\": {\"32\": 12}, \"30\": {\"30\": 11, \"21\": 1}, \"34\": {\"34\": 10}, \"9\": {\"48\": 3, \"4\": 3, \"9\": 5, \"26\": 1}, \"1\": {\"1\": 12}, \"0\": {\"0\": 11, \"24\": 1}, \"38\": {\"38\": 12}, \"22\": {\"9\": 1, \"22\": 5, \"38\": 2}, \"40\": {\"40\": 6, \"13\": 1, \"38\": 1, \"4\": 1, \"9\": 1, \"29\": 1, \"33\": 1}, \"39\": {\"39\": 12}, \"46\": {\"32\": 1, \"46\": 9, \"39\": 1, \"31\": 1}, \"36\": {\"36\": 8, \"28\": 2, \"3\": 1, \"54\": 1}, \"50\": {\"50\": 3, \"30\": 1, \"25\": 1, \"4\": 1, \"36\": 1, \"48\": 1, \"20\": 1, \"3\": 1, \"21\": 1, \"29\": 1}, \"49\": {\"49\": 11, \"7\": 1}, \"17\": {\"17\": 8, \"50\": 2, \"29\": 1, \"12\": 1}, \"45\": {\"45\": 7, \"19\": 1, \"17\": 1, \"4\": 2, \"33\": 1}, \"6\": {\"6\": 7, \"50\": 1, \"48\": 1, \"31\": 1, \"26\": 1, \"25\": 1}, \"8\": {\"8\": 12}, \"5\": {\"49\": 1, \"35\": 1, \"52\": 1, \"57\": 1, \"47\": 1, \"5\": 3, \"28\": 1, \"16\": 1}, \"33\": {\"17\": 2, \"35\": 1, \"19\": 5, \"33\": 2, \"45\": 1, \"28\": 1}, \"31\": {\"31\": 12}, \"37\": {\"37\": 8, \"10\": 2}, \"47\": {\"47\": 8}, \"15\": {\"15\": 8, \"0\": 2}, \"7\": {\"7\": 8, \"1\": 3, \"49\": 1}, \"20\": {\"20\": 11, \"8\": 1}, \"4\": {\"27\": 3, \"4\": 5, \"40\": 1, \"50\": 2, \"26\": 1}, \"54\": {\"54\": 8, \"25\": 1, \"3\": 1, \"36\": 2}, \"44\": {\"19\": 2, \"56\": 1, \"55\": 1, \"29\": 1, \"44\": 2, \"12\": 1, \"22\": 1, \"9\": 2, \"38\": 1}, \"3\": {\"54\": 1, \"25\": 1, \"26\": 1, \"3\": 6, \"18\": 1, \"52\": 1, \"53\": 1}, \"11\": {\"11\": 8, \"43\": 2}, \"27\": {\"27\": 10}, \"19\": {\"55\": 1, \"33\": 1, \"19\": 5, \"40\": 2, \"17\": 2, \"45\": 1}, \"55\": {\"55\": 10, \"6\": 1, \"54\": 1}, \"16\": {\"16\": 12}, \"2\": {\"9\": 1, \"55\": 1, \"43\": 3, \"29\": 1, \"2\": 1, \"10\": 1, \"49\": 2}, \"52\": {\"52\": 10}, \"42\": {\"42\": 8, \"41\": 1, \"25\": 1}, \"26\": {\"26\": 12}, \"10\": {\"16\": 2, \"10\": 6, \"55\": 1, \"17\": 1, \"29\": 1, \"33\": 1}, \"53\": {\"53\": 6, \"8\": 2, \"20\": 1, \"50\": 1}, \"28\": {\"28\": 10, \"36\": 1, \"50\": 1}, \"21\": {\"21\": 10}, \"57\": {\"49\": 1, \"57\": 9}, \"23\": {\"23\": 8}, \"43\": {\"43\": 9, \"24\": 1}, \"12\": {\"12\": 12}, \"41\": {\"41\": 11, \"52\": 1}, \"56\": {\"56\": 2, \"55\": 1, \"44\": 2, \"2\": 1, \"9\": 1, \"49\": 1}, \"18\": {\"18\": 10}, \"29\": {\"29\": 6, \"26\": 1, \"17\": 1}}, \"C_A_5\": {\"47\": {\"47\": 9, \"52\": 1}, \"53\": {\"53\": 10, \"25\": 1, \"18\": 1}, \"29\": {\"4\": 1, \"33\": 1, \"29\": 4, \"56\": 2, \"54\": 1, \"44\": 1, \"57\": 2}, \"52\": {\"52\": 12}, \"55\": {\"55\": 11, \"45\": 1}, \"17\": {\"17\": 9, \"30\": 2, \"38\": 1}, \"42\": {\"42\": 12}, \"33\": {\"33\": 4, \"32\": 4, \"9\": 2}, \"11\": {\"11\": 12}, \"19\": {\"19\": 1, \"29\": 1, \"50\": 1, \"35\": 1, \"40\": 1, \"32\": 1, \"44\": 1, \"55\": 1}, \"1\": {\"1\": 11, \"32\": 1}, \"44\": {\"19\": 2, \"55\": 1, \"44\": 4, \"5\": 2, \"22\": 2, \"29\": 1}, \"49\": {\"49\": 12}, \"4\": {\"29\": 2, \"4\": 4, \"5\": 1, \"33\": 1, \"22\": 1, \"27\": 1, \"40\": 1, \"44\": 1}, \"6\": {\"17\": 1, \"6\": 7, \"7\": 1, \"9\": 1, \"30\": 1, \"45\": 1}, \"39\": {\"39\": 11, \"42\": 1}, \"13\": {\"13\": 10, \"10\": 1, \"9\": 1}, \"5\": {\"5\": 5, \"40\": 1, \"4\": 1, \"28\": 3}, \"16\": {\"16\": 10}, \"25\": {\"25\": 5, \"8\": 3, \"18\": 2, \"41\": 1, \"54\": 1}, \"45\": {\"45\": 11, \"17\": 1}, \"7\": {\"7\": 10}, \"22\": {\"35\": 1, \"22\": 6, \"29\": 1, \"34\": 1, \"44\": 1, \"4\": 1, \"49\": 1}, \"40\": {\"40\": 6, \"28\": 1, \"55\": 1, \"31\": 1, \"56\": 1, \"33\": 1, \"19\": 1}, \"38\": {\"38\": 12}, \"35\": {\"35\": 8}, \"56\": {\"56\": 12}, \"50\": {\"50\": 1, \"53\": 1, \"6\": 1, \"28\": 2, \"48\": 1, \"8\": 1, \"18\": 1, \"20\": 1, \"25\": 1}, \"0\": {\"0\": 12}, \"10\": {\"56\": 1, \"10\": 8, \"22\": 3}, \"27\": {\"27\": 12}, \"20\": {\"20\": 9, \"6\": 1}, \"36\": {\"34\": 2, \"36\": 3, \"14\": 2, \"35\": 1}, \"34\": {\"34\": 12}, \"30\": {\"30\": 12}, \"2\": {\"2\": 10}, \"15\": {\"15\": 10, \"11\": 1, \"43\": 1}, \"18\": {\"18\": 12}, \"32\": {\"32\": 12}, \"31\": {\"31\": 12}, \"57\": {\"57\": 11, \"39\": 1}, \"48\": {\"48\": 7, \"30\": 1}, \"28\": {\"28\": 10}, \"14\": {\"11\": 2, \"28\": 2, \"49\": 1, \"3\": 1, \"37\": 1, \"39\": 2, \"43\": 2, \"14\": 1}, \"3\": {\"14\": 2, \"3\": 10}, \"8\": {\"8\": 12}, \"9\": {\"9\": 8, \"33\": 1, \"32\": 3}, \"21\": {\"21\": 10}, \"41\": {\"41\": 12}, \"24\": {\"24\": 12}, \"46\": {\"46\": 10}, \"43\": {\"43\": 10}, \"54\": {\"23\": 1, \"54\": 9}, \"23\": {\"23\": 10}, \"37\": {\"37\": 9, \"34\": 1}, \"12\": {\"12\": 4, \"26\": 2, \"38\": 1, \"55\": 1, \"7\": 1, \"48\": 1}, \"26\": {\"26\": 10}, \"51\": {\"51\": 6}}, \"W_A_3\": {\"109\": {\"44\": 1, \"100\": 1, \"81\": 3, \"109\": 3, \"96\": 1, \"28\": 1, \"66\": 1, \"64\": 1}, \"127\": {\"100\": 2, \"10\": 1, \"5\": 1, \"127\": 2, \"35\": 1, \"8\": 1, \"129\": 1, \"70\": 1, \"9\": 2}, \"14\": {\"129\": 1, \"21\": 1, \"115\": 2, \"84\": 1, \"14\": 6, \"110\": 1}, \"7\": {\"46\": 1, \"57\": 1, \"86\": 1, \"68\": 1, \"32\": 1, \"91\": 1, \"101\": 1, \"71\": 1, \"114\": 1, \"83\": 1, \"52\": 1, \"98\": 1}, \"129\": {\"100\": 1, \"114\": 1, \"20\": 1, \"101\": 1, \"49\": 1, \"87\": 1, \"8\": 1, \"19\": 1, \"129\": 1, \"41\": 1, \"29\": 1, \"92\": 1}, \"57\": {\"57\": 12}, \"84\": {\"21\": 2, \"78\": 1, \"43\": 1, \"32\": 1, \"29\": 1, \"49\": 1, \"30\": 1, \"84\": 2, \"11\": 1, \"65\": 1}, \"114\": {\"44\": 2, \"7\": 2, \"31\": 1, \"4\": 2, \"85\": 1, \"0\": 1, \"120\": 1, \"114\": 1, \"8\": 1}, \"44\": {\"44\": 8, \"116\": 2, \"29\": 1, \"96\": 1}, \"21\": {\"21\": 10, \"70\": 2}, \"46\": {\"44\": 1, \"100\": 1, \"95\": 2, \"8\": 1, \"5\": 1, \"86\": 2, \"0\": 1, \"46\": 1, \"32\": 1, \"10\": 1}, \"100\": {\"7\": 1, \"21\": 1, \"33\": 1, \"62\": 1, \"53\": 2, \"48\": 1, \"76\": 1, \"100\": 1, \"120\": 1, \"20\": 1, \"32\": 1}, \"63\": {\"46\": 1, \"24\": 1, \"63\": 5, \"27\": 1, \"65\": 1, \"103\": 1, \"2\": 1, \"75\": 1}, \"24\": {\"7\": 1, \"21\": 1, \"94\": 1, \"66\": 1, \"106\": 2, \"43\": 1, \"15\": 1, \"70\": 1, \"27\": 1, \"84\": 1, \"3\": 1}, \"107\": {\"14\": 1, \"35\": 1, \"107\": 4, \"62\": 1, \"118\": 1, \"104\": 1, \"23\": 1, \"84\": 1, \"66\": 1}, \"35\": {\"24\": 1, \"100\": 1, \"10\": 1, \"3\": 1, \"33\": 2, \"68\": 2, \"27\": 1, \"35\": 1}, \"81\": {\"2\": 1, \"81\": 8, \"26\": 1, \"123\": 1, \"66\": 1}, \"64\": {\"64\": 11, \"92\": 1}, \"59\": {\"34\": 1, \"59\": 11}, \"33\": {\"79\": 1, \"64\": 4, \"90\": 1, \"28\": 1, \"91\": 1, \"115\": 1, \"70\": 1, \"10\": 1, \"33\": 1}, \"34\": {\"34\": 4, \"15\": 1, \"16\": 2, \"0\": 1, \"97\": 1, \"62\": 1, \"36\": 2}, \"36\": {\"36\": 6, \"106\": 2, \"52\": 1, \"25\": 1, \"24\": 1, \"95\": 1}, \"79\": {\"22\": 1, \"105\": 1, \"79\": 5, \"62\": 1, \"16\": 1, \"32\": 2, \"110\": 1}, \"80\": {\"80\": 11, \"31\": 1}, \"77\": {\"77\": 12}, \"22\": {\"79\": 1, \"34\": 1, \"20\": 1, \"95\": 1, \"86\": 1, \"5\": 1, \"105\": 1, \"118\": 1, \"22\": 1, \"40\": 1, \"104\": 1, \"71\": 1}, \"124\": {\"36\": 3, \"105\": 1, \"124\": 3, \"38\": 1, \"85\": 1, \"111\": 1, \"9\": 1, \"17\": 1}, \"2\": {\"87\": 1, \"81\": 1, \"21\": 2, \"96\": 2, \"2\": 1, \"80\": 1, \"120\": 2, \"82\": 1, \"103\": 1}, \"87\": {\"87\": 2, \"80\": 3, \"122\": 1, \"96\": 1, \"128\": 1, \"49\": 1, \"72\": 1, \"103\": 2}, \"105\": {\"87\": 1, \"105\": 4, \"12\": 1, \"122\": 1, \"19\": 1, \"86\": 2, \"40\": 1, \"114\": 1}, \"95\": {\"85\": 1, \"95\": 5, \"70\": 1, \"58\": 1, \"35\": 2, \"47\": 1, \"3\": 1}, \"43\": {\"43\": 3, \"78\": 2, \"28\": 1, \"21\": 1, \"32\": 1, \"96\": 2, \"103\": 2}, \"56\": {\"8\": 1, \"43\": 1, \"73\": 1, \"112\": 1, \"72\": 2, \"47\": 2, \"12\": 1, \"56\": 1}, \"18\": {\"113\": 1, \"18\": 6, \"102\": 3, \"93\": 1, \"63\": 1}, \"85\": {\"8\": 1, \"85\": 4, \"7\": 1, \"47\": 1, \"5\": 2, \"120\": 1, \"114\": 1, \"88\": 1}, \"113\": {\"43\": 2, \"113\": 2, \"120\": 1, \"13\": 3, \"63\": 1, \"23\": 1, \"78\": 1, \"48\": 1}, \"97\": {\"95\": 1, \"59\": 1, \"101\": 2, \"97\": 5, \"8\": 1, \"52\": 2}, \"86\": {\"128\": 2, \"68\": 1, \"51\": 1, \"103\": 1, \"30\": 1, \"12\": 1, \"108\": 1, \"99\": 1, \"1\": 1, \"70\": 2}, \"128\": {\"128\": 6, \"105\": 1, \"99\": 1, \"103\": 1, \"32\": 1, \"20\": 1, \"29\": 1}, \"123\": {\"113\": 1, \"43\": 1, \"123\": 4, \"29\": 1, \"19\": 1, \"17\": 1, \"93\": 1, \"21\": 1, \"7\": 1}, \"8\": {\"43\": 2, \"70\": 1, \"4\": 2, \"32\": 1, \"7\": 1, \"127\": 1, \"103\": 1, \"114\": 1, \"77\": 1, \"44\": 1}, \"110\": {\"128\": 1, \"43\": 1, \"90\": 2, \"70\": 2, \"55\": 1, \"120\": 1, \"62\": 1, \"110\": 1, \"80\": 1, \"41\": 1}, \"126\": {\"123\": 1, \"56\": 1, \"64\": 2, \"52\": 2, \"57\": 1, \"49\": 1, \"80\": 2, \"21\": 1, \"71\": 1}, \"101\": {\"42\": 2, \"101\": 2, \"72\": 2, \"66\": 1, \"11\": 1, \"97\": 1, \"7\": 1, \"73\": 1, \"47\": 1}, \"115\": {\"78\": 1, \"84\": 1, \"45\": 1, \"107\": 1, \"103\": 1, \"115\": 2, \"87\": 1, \"55\": 1, \"92\": 1, \"110\": 1, \"14\": 1}, \"49\": {\"44\": 2, \"108\": 1, \"49\": 3, \"98\": 1, \"3\": 1, \"12\": 2, \"70\": 1, \"68\": 1}, \"45\": {\"14\": 1, \"45\": 8, \"115\": 1, \"66\": 1, \"82\": 1}, \"78\": {\"78\": 4, \"29\": 2, \"19\": 1, \"9\": 1, \"70\": 1, \"127\": 1, \"31\": 1, \"53\": 1}, \"65\": {\"65\": 5, \"88\": 2, \"120\": 2, \"81\": 1}, \"54\": {\"54\": 12}, \"31\": {\"31\": 9, \"80\": 1}, \"42\": {\"65\": 1, \"42\": 1, \"73\": 2, \"95\": 1, \"49\": 1, \"30\": 1, \"77\": 1, \"85\": 1, \"103\": 1, \"92\": 1, \"9\": 1}, \"68\": {\"42\": 2, \"19\": 1, \"58\": 1, \"46\": 2, \"68\": 3, \"91\": 1, \"4\": 1, \"60\": 1}, \"15\": {\"15\": 10, \"106\": 1, \"59\": 1}, \"69\": {\"102\": 2, \"107\": 1, \"69\": 3, \"26\": 1, \"121\": 1, \"14\": 2, \"89\": 2}, \"17\": {\"31\": 1, \"73\": 1, \"19\": 1, \"101\": 1, \"42\": 1, \"1\": 1, \"51\": 1, \"108\": 1, \"116\": 1, \"12\": 1}, \"73\": {\"34\": 2, \"73\": 9, \"6\": 1}, \"121\": {\"31\": 2, \"121\": 6, \"57\": 2, \"16\": 1, \"68\": 1}, \"102\": {\"102\": 6, \"44\": 2, \"48\": 1, \"50\": 1, \"118\": 1, \"32\": 1}, \"48\": {\"48\": 3, \"23\": 1, \"16\": 1, \"28\": 1, \"77\": 2, \"65\": 1, \"109\": 1, \"14\": 1, \"70\": 1}, \"23\": {\"108\": 2, \"28\": 1, \"33\": 1, \"99\": 1, \"96\": 1, \"128\": 2, \"126\": 1, \"80\": 1, \"71\": 1, \"44\": 1}, \"108\": {\"108\": 4, \"17\": 1, \"49\": 1, \"129\": 1, \"120\": 1, \"19\": 1, \"3\": 1, \"5\": 1, \"31\": 1}, \"53\": {\"53\": 7, \"57\": 1, \"12\": 1, \"105\": 1, \"10\": 1, \"31\": 1}, \"94\": {\"94\": 8, \"34\": 1, \"25\": 1}, \"41\": {\"73\": 1, \"34\": 1, \"10\": 1, \"5\": 1, \"41\": 2, \"8\": 1, \"19\": 1, \"97\": 2, \"112\": 1, \"116\": 1}, \"58\": {\"58\": 5, \"101\": 1, \"40\": 1, \"95\": 2, \"71\": 2, \"98\": 1}, \"29\": {\"29\": 12}, \"116\": {\"29\": 1, \"66\": 1, \"100\": 1, \"116\": 2, \"65\": 1, \"92\": 1, \"112\": 1, \"70\": 1, \"31\": 1, \"88\": 1, \"39\": 1}, \"60\": {\"66\": 2, \"49\": 2, \"96\": 2, \"60\": 2, \"28\": 1, \"123\": 1, \"21\": 1, \"108\": 1}, \"104\": {\"104\": 7, \"19\": 1, \"48\": 1, \"56\": 1, \"16\": 1, \"128\": 1}, \"106\": {\"15\": 2, \"106\": 9, \"101\": 1}, \"66\": {\"78\": 1, \"66\": 9, \"46\": 1, \"35\": 1}, \"47\": {\"104\": 1, \"58\": 1, \"47\": 4, \"116\": 1, \"35\": 1, \"52\": 1, \"83\": 3}, \"40\": {\"116\": 1, \"78\": 1, \"104\": 2, \"74\": 1, \"66\": 1, \"93\": 2, \"65\": 1, \"40\": 1, \"7\": 1, \"4\": 1}, \"82\": {\"82\": 2, \"116\": 1, \"45\": 1, \"68\": 1, \"128\": 1, \"71\": 1, \"115\": 2, \"109\": 1, \"2\": 1, \"62\": 1}, \"13\": {\"19\": 2, \"113\": 3, \"50\": 1, \"90\": 2, \"109\": 1, \"123\": 1, \"120\": 2}, \"19\": {\"72\": 1, \"19\": 1, \"128\": 2, \"64\": 2, \"29\": 2, \"108\": 1, \"12\": 1, \"103\": 1, \"127\": 1}, \"72\": {\"58\": 2, \"72\": 6, \"35\": 3, \"95\": 1}, \"9\": {\"9\": 4, \"12\": 1, \"4\": 1, \"72\": 2, \"51\": 1, \"8\": 1, \"1\": 1, \"111\": 1}, \"67\": {\"19\": 1, \"78\": 1, \"67\": 4, \"49\": 1, \"80\": 2, \"64\": 1, \"109\": 1, \"39\": 1}, \"11\": {\"19\": 1, \"68\": 1, \"24\": 2, \"80\": 2, \"13\": 1, \"114\": 1, \"10\": 1, \"103\": 1, \"88\": 1, \"124\": 1}, \"125\": {\"125\": 11, \"75\": 1}, \"76\": {\"68\": 1, \"67\": 1, \"48\": 1, \"70\": 1, \"53\": 1, \"88\": 1, \"76\": 2}, \"83\": {\"83\": 3, \"74\": 1, \"71\": 1, \"91\": 2, \"98\": 2, \"7\": 1, \"39\": 1, \"3\": 1}, \"74\": {\"129\": 1, \"54\": 1, \"120\": 1, \"28\": 1, \"99\": 1, \"128\": 1, \"57\": 2, \"86\": 1, \"74\": 1, \"31\": 1, \"76\": 1}, \"20\": {\"129\": 1, \"20\": 2, \"49\": 2, \"99\": 1, \"90\": 1, \"29\": 1, \"28\": 1, \"128\": 1, \"88\": 2}, \"119\": {\"119\": 6, \"24\": 1, \"92\": 1, \"74\": 1, \"82\": 2, \"48\": 1}, \"1\": {\"49\": 4, \"116\": 1, \"100\": 1, \"32\": 1, \"35\": 1, \"128\": 1, \"51\": 1, \"8\": 1, \"29\": 1}, \"16\": {\"11\": 2, \"126\": 1, \"74\": 1, \"16\": 2, \"39\": 1, \"79\": 1, \"5\": 1, \"30\": 1, \"65\": 1, \"100\": 1}, \"25\": {\"25\": 11, \"64\": 1}, \"90\": {\"28\": 2, \"31\": 3, \"80\": 1, \"90\": 2}, \"39\": {\"21\": 2, \"39\": 2, \"82\": 1, \"86\": 1, \"71\": 1, \"53\": 1, \"88\": 1, \"11\": 1, \"116\": 2}, \"28\": {\"28\": 12}, \"55\": {\"115\": 2, \"55\": 5, \"5\": 1, \"9\": 1, \"98\": 1, \"88\": 1, \"53\": 1}, \"117\": {\"117\": 8, \"27\": 1, \"75\": 1, \"2\": 1, \"61\": 1}, \"112\": {\"112\": 3, \"12\": 2, \"19\": 2, \"8\": 1, \"127\": 1, \"85\": 1, \"86\": 1, \"70\": 1}, \"38\": {\"38\": 6, \"104\": 1, \"98\": 1, \"107\": 2, \"26\": 1, \"41\": 1}, \"37\": {\"37\": 9, \"52\": 2, \"91\": 1}, \"120\": {\"64\": 2, \"120\": 10}, \"122\": {\"122\": 2, \"90\": 1, \"99\": 2, \"96\": 2, \"110\": 1, \"80\": 1, \"5\": 1, \"31\": 2}, \"50\": {\"13\": 1, \"87\": 1, \"63\": 1, \"50\": 3, \"69\": 1, \"48\": 2, \"2\": 2, \"53\": 1}, \"10\": {\"5\": 2, \"3\": 2, \"48\": 1, \"88\": 2, \"1\": 1, \"10\": 1, \"103\": 1, \"83\": 1, \"46\": 1}, \"5\": {\"127\": 1, \"10\": 1, \"12\": 2, \"8\": 1, \"46\": 1, \"86\": 1, \"85\": 2, \"42\": 2, \"5\": 1}, \"51\": {\"51\": 8, \"52\": 2, \"72\": 1, \"4\": 1}, \"3\": {\"49\": 2, \"12\": 1, \"3\": 1, \"127\": 1, \"35\": 1, \"83\": 1, \"80\": 1, \"65\": 1, \"95\": 1, \"64\": 1, \"108\": 1}, \"98\": {\"3\": 2, \"98\": 7, \"83\": 1, \"51\": 1, \"21\": 1}, \"70\": {\"49\": 2, \"3\": 1, \"96\": 1, \"70\": 3, \"99\": 1, \"88\": 1, \"128\": 1, \"9\": 1, \"41\": 1}, \"96\": {\"96\": 7, \"92\": 2, \"87\": 1, \"80\": 2}, \"12\": {\"98\": 2, \"70\": 1, \"9\": 1, \"12\": 2, \"30\": 1, \"72\": 1, \"86\": 1, \"3\": 1, \"17\": 1, \"0\": 1}, \"99\": {\"99\": 10, \"103\": 1, \"77\": 1}, \"52\": {\"9\": 1, \"0\": 1, \"51\": 2, \"72\": 1, \"52\": 4, \"122\": 1, \"7\": 1, \"5\": 1}, \"71\": {\"12\": 1, \"9\": 1, \"128\": 1, \"58\": 1, \"52\": 1, \"2\": 1, \"72\": 1, \"71\": 1, \"7\": 1, \"73\": 1, \"3\": 1, \"39\": 1}, \"89\": {\"89\": 6, \"26\": 1, \"2\": 1, \"61\": 2, \"69\": 2}, \"0\": {\"4\": 1, \"71\": 1, \"0\": 7, \"68\": 1, \"111\": 2}, \"4\": {\"9\": 1, \"4\": 2, \"85\": 2, \"92\": 1, \"88\": 1, \"43\": 1, \"20\": 1, \"120\": 1, \"7\": 1, \"83\": 1}, \"93\": {\"13\": 2, \"93\": 4, \"84\": 1, \"32\": 1, \"103\": 1, \"74\": 2, \"123\": 1}, \"6\": {\"6\": 9, \"34\": 1}, \"75\": {\"75\": 12}, \"62\": {\"62\": 3, \"41\": 1, \"85\": 1, \"26\": 1, \"118\": 1, \"40\": 2, \"47\": 1, \"63\": 1, \"34\": 1}, \"103\": {\"103\": 12}, \"30\": {\"103\": 2, \"6\": 1, \"95\": 1, \"3\": 2, \"49\": 1, \"85\": 1, \"99\": 1, \"97\": 1, \"120\": 2}, \"91\": {\"99\": 3, \"103\": 1, \"8\": 1, \"91\": 4, \"64\": 1, \"9\": 1, \"70\": 1}, \"27\": {\"6\": 2, \"97\": 1, \"22\": 1, \"85\": 1, \"27\": 5, \"41\": 1, \"114\": 1}, \"26\": {\"26\": 9, \"39\": 1, \"109\": 1, \"81\": 1}, \"61\": {\"61\": 11, \"69\": 1}, \"118\": {\"96\": 1, \"120\": 1, \"118\": 1, \"26\": 1, \"92\": 1, \"32\": 1, \"29\": 1, \"28\": 1, \"86\": 1, \"19\": 1, \"128\": 1, \"121\": 1}, \"92\": {\"92\": 10, \"88\": 1, \"64\": 1}, \"111\": {\"111\": 8, \"47\": 3, \"9\": 1}, \"32\": {\"32\": 2, \"62\": 1, \"28\": 1, \"1\": 1, \"3\": 2, \"105\": 1, \"49\": 1, \"20\": 2, \"29\": 1}, \"88\": {\"99\": 1, \"88\": 8, \"92\": 1}}, \"C_A_1\": {\"46\": {\"46\": 8, \"50\": 3, \"8\": 1}, \"16\": {\"16\": 9, \"54\": 3}, \"26\": {\"26\": 12}, \"10\": {\"10\": 6, \"22\": 2, \"23\": 2, \"28\": 2}, \"9\": {\"9\": 10}, \"28\": {\"52\": 2, \"28\": 7, \"15\": 2, \"44\": 1}, \"51\": {\"51\": 12}, \"1\": {\"42\": 2, \"1\": 2, \"39\": 1, \"32\": 1, \"19\": 2, \"56\": 2, \"57\": 2}, \"55\": {\"55\": 10, \"54\": 1, \"36\": 1}, \"27\": {\"27\": 6, \"28\": 2, \"44\": 1, \"4\": 1}, \"22\": {\"10\": 1, \"22\": 10, \"0\": 1}, \"52\": {\"52\": 6, \"0\": 2, \"38\": 1, \"23\": 1, \"22\": 1, \"3\": 1}, \"3\": {\"3\": 6, \"51\": 1, \"35\": 1, \"27\": 1, \"4\": 1, \"47\": 1, \"24\": 1}, \"33\": {\"33\": 8}, \"47\": {\"47\": 10, \"35\": 2}, \"42\": {\"42\": 12}, \"12\": {\"12\": 4}, \"23\": {\"23\": 11, \"38\": 1}, \"49\": {\"49\": 10}, \"7\": {\"7\": 12}, \"4\": {\"19\": 1, \"4\": 6, \"44\": 1, \"10\": 1, \"50\": 1, \"40\": 1, \"46\": 1}, \"50\": {\"50\": 12}, \"19\": {\"9\": 2, \"19\": 7, \"43\": 2, \"29\": 1}, \"11\": {\"11\": 9, \"44\": 1, \"47\": 1, \"24\": 1}, \"31\": {\"31\": 8, \"23\": 1, \"35\": 1}, \"41\": {\"41\": 10, \"53\": 2}, \"56\": {\"9\": 2, \"56\": 5, \"39\": 1, \"45\": 2}, \"0\": {\"0\": 11, \"38\": 1}, \"57\": {\"57\": 11, \"56\": 1}, \"53\": {\"53\": 12}, \"43\": {\"43\": 12}, \"37\": {\"37\": 12}, \"2\": {\"2\": 8}, \"6\": {\"6\": 8, \"46\": 1, \"17\": 2, \"48\": 1}, \"18\": {\"18\": 12}, \"38\": {\"38\": 12}, \"15\": {\"15\": 10, \"22\": 1, \"11\": 1}, \"36\": {\"36\": 11, \"55\": 1}, \"39\": {\"52\": 1, \"39\": 4, \"28\": 1, \"42\": 1, \"10\": 1}, \"44\": {\"44\": 7, \"35\": 5}, \"8\": {\"8\": 12}, \"17\": {\"17\": 10}, \"5\": {\"5\": 12}, \"13\": {\"13\": 10}, \"40\": {\"39\": 1, \"40\": 8, \"4\": 1}, \"29\": {\"43\": 1, \"1\": 1, \"29\": 5, \"44\": 1, \"57\": 2, \"42\": 1, \"10\": 1}, \"48\": {\"48\": 12}, \"32\": {\"32\": 11, \"23\": 1}, \"30\": {\"30\": 12}, \"35\": {\"35\": 12}, \"25\": {\"25\": 7, \"53\": 1, \"18\": 3, \"30\": 1}, \"14\": {\"25\": 1, \"51\": 3, \"13\": 3, \"26\": 1, \"30\": 1, \"8\": 1, \"41\": 2}, \"54\": {\"54\": 10}, \"20\": {\"20\": 2, \"18\": 1, \"51\": 1, \"55\": 2, \"53\": 2}, \"21\": {\"21\": 10}, \"45\": {\"45\": 8}, \"24\": {\"24\": 4, \"57\": 1, \"29\": 1, \"44\": 2}, \"34\": {\"34\": 8}}, \"W_A_4\": {\"28\": {\"28\": 5, \"43\": 1, \"57\": 1, \"124\": 1, \"62\": 1, \"33\": 1, \"40\": 1, \"42\": 1}, \"4\": {\"4\": 2, \"111\": 1, \"91\": 1, \"82\": 1, \"95\": 1, \"68\": 1, \"106\": 1, \"52\": 1, \"55\": 1, \"86\": 1, \"0\": 1}, \"72\": {\"72\": 8, \"49\": 2, \"37\": 1, \"23\": 1}, \"111\": {\"111\": 5, \"114\": 2, \"30\": 1, \"12\": 2, \"4\": 1, \"58\": 1}, \"108\": {\"90\": 1, \"89\": 1, \"72\": 1, \"108\": 2, \"123\": 1, \"12\": 1, \"83\": 1, \"80\": 1, \"56\": 1, \"93\": 2}, \"43\": {\"72\": 1, \"114\": 1, \"53\": 1, \"8\": 1, \"80\": 1, \"107\": 1, \"79\": 1, \"1\": 1, \"11\": 2}, \"96\": {\"45\": 1, \"14\": 1, \"35\": 1, \"61\": 1, \"118\": 2, \"62\": 1, \"114\": 1, \"28\": 1, \"96\": 2, \"100\": 1}, \"89\": {\"45\": 1, \"11\": 1, \"89\": 4, \"69\": 1, \"124\": 1, \"13\": 1, \"79\": 1, \"60\": 1, \"17\": 1}, \"31\": {\"31\": 7, \"104\": 1, \"26\": 1, \"3\": 1, \"56\": 1, \"125\": 1}, \"45\": {\"45\": 5, \"104\": 1, \"31\": 1, \"40\": 1, \"69\": 2, \"17\": 2}, \"2\": {\"2\": 3, \"96\": 1, \"118\": 1, \"8\": 1, \"102\": 1, \"115\": 1, \"39\": 2, \"63\": 1, \"53\": 1}, \"114\": {\"72\": 1, \"111\": 1, \"83\": 1, \"114\": 2, \"17\": 1, \"129\": 1, \"112\": 2, \"52\": 1, \"66\": 1, \"77\": 1}, \"11\": {\"11\": 8, \"4\": 1, \"99\": 1, \"93\": 2}, \"12\": {\"111\": 2, \"12\": 3, \"4\": 2, \"27\": 1, \"108\": 1, \"9\": 2, \"55\": 1}, \"14\": {\"114\": 1, \"45\": 1, \"65\": 1, \"124\": 2, \"29\": 1, \"14\": 1, \"7\": 1, \"63\": 1, \"121\": 1, \"104\": 1, \"93\": 1}, \"90\": {\"90\": 9, \"93\": 1, \"99\": 1, \"66\": 1}, \"10\": {\"11\": 1, \"10\": 2, \"128\": 2, \"36\": 1, \"59\": 2, \"94\": 1, \"6\": 1, \"119\": 2}, \"63\": {\"11\": 1, \"63\": 6, \"91\": 1, \"74\": 1, \"7\": 2, \"70\": 1}, \"85\": {\"11\": 2, \"46\": 2, \"85\": 3, \"119\": 2, \"66\": 1, \"29\": 1, \"99\": 1}, \"64\": {\"64\": 10, \"13\": 1, \"80\": 1}, \"82\": {\"11\": 1, \"64\": 2, \"82\": 3, \"16\": 1, \"2\": 1, \"80\": 1, \"86\": 1, \"17\": 1, \"62\": 1}, \"58\": {\"12\": 2, \"58\": 7, \"111\": 1, \"76\": 2}, \"3\": {\"11\": 2, \"86\": 1, \"88\": 1, \"50\": 1, \"129\": 1, \"19\": 2, \"3\": 1, \"49\": 1, \"5\": 1, \"79\": 1}, \"54\": {\"54\": 10, \"97\": 2}, \"121\": {\"121\": 3, \"11\": 1, \"60\": 1, \"108\": 2, \"2\": 1, \"126\": 2, \"64\": 1, \"38\": 1}, \"42\": {\"4\": 2, \"68\": 1, \"42\": 4, \"95\": 1, \"106\": 1, \"72\": 1, \"41\": 2}, \"98\": {\"82\": 2, \"70\": 1, \"50\": 1, \"98\": 3, \"71\": 1, \"29\": 1, \"12\": 1, \"0\": 1, \"4\": 1}, \"123\": {\"63\": 1, \"121\": 1, \"122\": 1, \"123\": 1, \"93\": 2, \"90\": 1, \"16\": 1, \"116\": 1, \"129\": 1, \"78\": 1, \"33\": 1}, \"91\": {\"42\": 1, \"54\": 1, \"55\": 1, \"37\": 3, \"83\": 2, \"128\": 2, \"99\": 2}, \"66\": {\"72\": 2, \"66\": 5, \"90\": 3, \"78\": 2}, \"102\": {\"122\": 1, \"102\": 6, \"109\": 1, \"39\": 2, \"107\": 1, \"118\": 1}, \"122\": {\"122\": 5, \"88\": 1, \"110\": 1, \"44\": 1, \"13\": 1, \"72\": 1, \"11\": 1, \"7\": 1}, \"1\": {\"108\": 1, \"122\": 1, \"1\": 1, \"11\": 1, \"114\": 1, \"83\": 1, \"0\": 1, \"43\": 1, \"78\": 1, \"66\": 1, \"99\": 2}, \"15\": {\"68\": 1, \"125\": 1, \"127\": 1, \"0\": 1, \"59\": 2, \"15\": 4, \"55\": 1, \"58\": 1}, \"97\": {\"72\": 2, \"108\": 1, \"54\": 1, \"127\": 1, \"59\": 2, \"83\": 1, \"97\": 3, \"5\": 1}, \"75\": {\"75\": 12}, \"95\": {\"68\": 2, \"95\": 4, \"52\": 1, \"127\": 1, \"55\": 1, \"71\": 1, \"46\": 1, \"106\": 1}, \"57\": {\"57\": 7, \"8\": 1, \"88\": 1, \"11\": 1, \"33\": 1, \"119\": 1}, \"68\": {\"95\": 3, \"127\": 1, \"68\": 3, \"71\": 1, \"120\": 1, \"86\": 1, \"77\": 1, \"51\": 1}, \"125\": {\"75\": 4, \"125\": 8}, \"62\": {\"102\": 2, \"62\": 5, \"65\": 1, \"117\": 1, \"114\": 1}, \"27\": {\"83\": 3, \"55\": 1, \"21\": 1, \"111\": 1, \"41\": 1, \"12\": 1, \"7\": 2, \"5\": 1, \"127\": 1}, \"120\": {\"99\": 1, \"37\": 1, \"46\": 1, \"115\": 1, \"103\": 1, \"85\": 1, \"7\": 3, \"105\": 1, \"120\": 1, \"41\": 1}, \"26\": {\"26\": 9, \"35\": 1, \"40\": 1, \"129\": 1}, \"55\": {\"46\": 1, \"37\": 1, \"55\": 5, \"9\": 1, \"83\": 1, \"0\": 1, \"79\": 1, \"86\": 1}, \"71\": {\"27\": 1, \"83\": 1, \"98\": 1, \"7\": 2, \"88\": 2, \"106\": 1, \"19\": 1, \"14\": 1, \"70\": 1, \"37\": 1}, \"22\": {\"99\": 1, \"37\": 1, \"123\": 1, \"110\": 1, \"116\": 1, \"20\": 1, \"22\": 2, \"33\": 1, \"105\": 1, \"89\": 1, \"79\": 1}, \"99\": {\"99\": 8, \"128\": 1, \"66\": 1, \"21\": 1, \"43\": 1}, \"84\": {\"120\": 1, \"22\": 1, \"103\": 1, \"13\": 2, \"67\": 1, \"81\": 1, \"19\": 1, \"39\": 2, \"79\": 1, \"33\": 1}, \"37\": {\"37\": 10, \"42\": 2}, \"83\": {\"83\": 9, \"88\": 2, \"60\": 1}, \"46\": {\"12\": 1, \"99\": 1, \"115\": 1, \"95\": 1, \"72\": 2, \"86\": 1, \"28\": 1, \"55\": 1, \"46\": 1, \"89\": 1, \"119\": 1}, \"35\": {\"26\": 1, \"22\": 1, \"117\": 2, \"35\": 5, \"92\": 1, \"77\": 1, \"16\": 1}, \"13\": {\"63\": 1, \"120\": 1, \"27\": 1, \"118\": 1, \"13\": 3, \"40\": 1, \"65\": 1, \"122\": 1, \"46\": 1, \"1\": 1}, \"53\": {\"53\": 9, \"11\": 1, \"78\": 1, \"37\": 1}, \"127\": {\"127\": 5, \"9\": 1, \"52\": 1, \"95\": 1, \"101\": 1, \"58\": 1, \"51\": 2}, \"69\": {\"53\": 1, \"69\": 6, \"61\": 1, \"81\": 1, \"78\": 1, \"45\": 2}, \"48\": {\"48\": 2, \"53\": 1, \"73\": 2, \"41\": 1, \"108\": 1, \"19\": 1, \"66\": 1, \"29\": 1, \"46\": 1, \"85\": 1}, \"16\": {\"16\": 12}, \"0\": {\"127\": 1, \"53\": 1, \"42\": 2, \"86\": 1, \"49\": 1, \"30\": 1, \"55\": 1, \"41\": 2, \"37\": 1, \"0\": 1}, \"8\": {\"53\": 2, \"8\": 3, \"29\": 1, \"41\": 2, \"101\": 2, \"72\": 2}, \"9\": {\"9\": 8, \"0\": 1, \"34\": 1, \"68\": 1, \"106\": 1}, \"115\": {\"8\": 1, \"69\": 1, \"70\": 1, \"115\": 3, \"119\": 1, \"2\": 1, \"27\": 1, \"7\": 1, \"72\": 1, \"64\": 1}, \"70\": {\"115\": 1, \"70\": 2, \"78\": 2, \"87\": 2, \"53\": 1, \"7\": 1, \"11\": 1, \"119\": 1, \"88\": 1}, \"119\": {\"119\": 12}, \"59\": {\"59\": 8, \"45\": 2, \"47\": 2}, \"52\": {\"53\": 2, \"52\": 1, \"101\": 1, \"114\": 1, \"83\": 1, \"3\": 1, \"19\": 1, \"55\": 2, \"66\": 1, \"110\": 1}, \"60\": {\"127\": 1, \"70\": 1, \"128\": 1, \"99\": 1, \"90\": 2, \"60\": 1, \"83\": 1, \"89\": 2, \"11\": 1, \"113\": 1}, \"44\": {\"44\": 12}, \"51\": {\"52\": 1, \"44\": 1, \"111\": 2, \"51\": 4, \"47\": 1, \"9\": 1, \"56\": 2}, \"6\": {\"15\": 1, \"51\": 1, \"6\": 3, \"95\": 1, \"34\": 1, \"91\": 1, \"59\": 1, \"94\": 2, \"10\": 1}, \"73\": {\"78\": 1, \"98\": 1, \"33\": 1, \"91\": 1, \"129\": 1, \"3\": 1, \"55\": 2, \"52\": 1, \"116\": 1, \"87\": 1, \"102\": 1}, \"78\": {\"20\": 1, \"78\": 1, \"128\": 2, \"119\": 3, \"66\": 2, \"0\": 2, \"11\": 1}, \"92\": {\"104\": 2, \"92\": 5, \"16\": 1, \"46\": 1, \"35\": 1, \"69\": 2}, \"20\": {\"50\": 1, \"78\": 1, \"80\": 3, \"38\": 1, \"66\": 2, \"3\": 1, \"20\": 1, \"128\": 1, \"91\": 1}, \"17\": {\"19\": 1, \"17\": 7, \"67\": 2, \"129\": 1, \"49\": 1}, \"74\": {\"20\": 1, \"74\": 3, \"44\": 2, \"50\": 2, \"83\": 2, \"70\": 2}, \"19\": {\"50\": 1, \"74\": 1, \"93\": 2, \"118\": 1, \"29\": 1, \"19\": 2, \"60\": 1, \"79\": 1, \"41\": 1, \"90\": 1}, \"50\": {\"78\": 1, \"73\": 1, \"50\": 1, \"114\": 1, \"87\": 2, \"19\": 2, \"53\": 2, \"11\": 2}, \"34\": {\"74\": 1, \"17\": 1, \"34\": 6, \"15\": 1, \"55\": 1, \"10\": 2}, \"104\": {\"45\": 2, \"104\": 3, \"17\": 1, \"14\": 1, \"109\": 1}, \"33\": {\"71\": 1, \"7\": 1, \"128\": 2, \"8\": 1, \"42\": 1, \"83\": 1, \"60\": 1, \"96\": 1, \"11\": 1, \"66\": 1, \"45\": 1}, \"5\": {\"5\": 6, \"80\": 1, \"23\": 1, \"83\": 4}, \"7\": {\"42\": 1, \"98\": 1, \"49\": 2, \"7\": 2, \"112\": 1, \"88\": 1, \"99\": 1, \"70\": 1, \"41\": 2}, \"29\": {\"98\": 1, \"91\": 1, \"8\": 1, \"29\": 6, \"44\": 1, \"27\": 1, \"112\": 1}, \"25\": {\"25\": 11, \"36\": 1}, \"124\": {\"98\": 1, \"71\": 1, \"69\": 2, \"28\": 1, \"124\": 4, \"31\": 1, \"27\": 1, \"52\": 1}, \"117\": {\"35\": 2, \"61\": 1, \"93\": 1, \"26\": 1, \"117\": 4, \"80\": 1, \"102\": 1, \"31\": 1}, \"88\": {\"11\": 2, \"83\": 1, \"90\": 1, \"88\": 2, \"7\": 2, \"119\": 2, \"78\": 2}, \"61\": {\"61\": 10, \"11\": 1, \"13\": 1}, \"86\": {\"3\": 1, \"1\": 1, \"72\": 2, \"41\": 2, \"86\": 4, \"37\": 1, \"73\": 1}, \"116\": {\"57\": 2, \"28\": 1, \"80\": 1, \"38\": 1, \"126\": 1, \"105\": 1, \"99\": 1, \"108\": 1, \"55\": 1, \"129\": 1, \"81\": 1}, \"24\": {\"24\": 4, \"48\": 1, \"73\": 1, \"54\": 2, \"128\": 1, \"25\": 1, \"36\": 2}, \"128\": {\"52\": 1, \"128\": 4, \"21\": 1, \"80\": 1, \"7\": 1, \"83\": 2, \"23\": 1, \"40\": 1}, \"101\": {\"127\": 3, \"52\": 1, \"101\": 2, \"41\": 1, \"27\": 1, \"12\": 2, \"82\": 2}, \"65\": {\"65\": 3, \"80\": 1, \"62\": 1, \"50\": 1, \"0\": 1, \"21\": 1, \"35\": 2}, \"36\": {\"24\": 1, \"127\": 2, \"36\": 8, \"95\": 1}, \"21\": {\"21\": 10, \"78\": 2}, \"106\": {\"21\": 1, \"55\": 1, \"77\": 1, \"106\": 5, \"107\": 1, \"52\": 2, \"95\": 1}, \"118\": {\"96\": 1, \"13\": 2, \"88\": 3, \"122\": 1, \"113\": 1, \"79\": 1, \"118\": 1, \"110\": 1, \"102\": 1}, \"113\": {\"90\": 4, \"113\": 3, \"44\": 1, \"112\": 1, \"5\": 2, \"78\": 1}, \"40\": {\"40\": 3, \"114\": 1, \"13\": 1, \"86\": 1, \"28\": 1, \"52\": 1, \"122\": 2, \"1\": 2}, \"93\": {\"19\": 1, \"93\": 3, \"119\": 2, \"49\": 1, \"108\": 1}, \"94\": {\"94\": 6, \"103\": 1, \"34\": 1, \"36\": 1, \"6\": 2, \"10\": 1}, \"103\": {\"103\": 4, \"86\": 2, \"80\": 1, \"108\": 1, \"12\": 1, \"19\": 1, \"29\": 1, \"24\": 1}, \"110\": {\"88\": 1, \"118\": 1, \"110\": 1, \"78\": 1, \"49\": 2, \"64\": 1, \"72\": 1, \"48\": 1, \"38\": 1, \"119\": 1, \"60\": 1}, \"56\": {\"56\": 6, \"104\": 1, \"44\": 1, \"101\": 1, \"76\": 1, \"124\": 1, \"111\": 1}, \"39\": {\"66\": 2, \"78\": 1, \"32\": 1, \"7\": 1, \"18\": 1, \"21\": 2, \"11\": 2, \"39\": 1, \"94\": 1}, \"109\": {\"66\": 1, \"104\": 1, \"108\": 1, \"109\": 3, \"38\": 1, \"88\": 2, \"102\": 2, \"26\": 1}, \"67\": {\"92\": 2, \"67\": 3, \"90\": 1, \"115\": 1, \"21\": 1, \"7\": 2, \"28\": 1, \"81\": 1}, \"129\": {\"50\": 1, \"114\": 1, \"129\": 1, \"112\": 1, \"80\": 1, \"32\": 1, \"3\": 1, \"123\": 1, \"4\": 1, \"64\": 1, \"11\": 1, \"93\": 1}, \"30\": {\"30\": 6, \"50\": 1, \"23\": 1, \"9\": 1, \"83\": 1, \"15\": 2}, \"126\": {\"44\": 2, \"18\": 1, \"80\": 2, \"65\": 1, \"5\": 2, \"53\": 1, \"49\": 1, \"126\": 1, \"108\": 1}, \"87\": {\"21\": 1, \"56\": 1, \"78\": 1, \"119\": 1, \"80\": 1, \"105\": 1, \"19\": 2, \"0\": 1, \"31\": 1, \"99\": 1, \"44\": 1}, \"112\": {\"87\": 1, \"70\": 1, \"100\": 2, \"5\": 1, \"112\": 2, \"30\": 1, \"83\": 1, \"8\": 1, \"52\": 1, \"44\": 1}, \"100\": {\"70\": 3, \"101\": 1, \"86\": 1, \"99\": 1, \"49\": 1, \"80\": 1, \"5\": 1, \"100\": 1, \"72\": 2}, \"79\": {\"87\": 1, \"112\": 1, \"105\": 1, \"38\": 1, \"60\": 1, \"83\": 1, \"5\": 1, \"20\": 1, \"79\": 1, \"22\": 1}, \"81\": {\"81\": 7, \"118\": 1, \"39\": 1, \"80\": 1, \"61\": 1, \"64\": 1}, \"76\": {\"50\": 2, \"76\": 1, \"87\": 2, \"38\": 1, \"23\": 1, \"99\": 1, \"45\": 1, \"129\": 1}, \"47\": {\"47\": 11, \"100\": 1}, \"77\": {\"77\": 8, \"46\": 1, \"23\": 2, \"32\": 1}, \"23\": {\"103\": 1, \"49\": 1, \"23\": 1, \"93\": 1, \"41\": 4, \"38\": 1, \"68\": 1, \"78\": 1, \"53\": 1}, \"18\": {\"18\": 7, \"13\": 1, \"109\": 1, \"67\": 1, \"16\": 1, \"39\": 1}, \"49\": {\"49\": 4, \"40\": 1, \"93\": 1, \"80\": 2, \"0\": 1, \"37\": 1, \"53\": 1, \"50\": 1}, \"41\": {\"41\": 10, \"125\": 1, \"111\": 1}, \"32\": {\"119\": 2, \"115\": 1, \"32\": 2, \"38\": 2, \"5\": 1, \"8\": 1, \"72\": 1, \"78\": 1, \"50\": 1}, \"107\": {\"129\": 1, \"102\": 1, \"62\": 1, \"107\": 2, \"67\": 1, \"96\": 1, \"122\": 1, \"17\": 1, \"50\": 1}, \"80\": {\"80\": 9, \"18\": 1, \"5\": 2}, \"105\": {\"129\": 1, \"128\": 1, \"5\": 1, \"105\": 2, \"27\": 1, \"91\": 1, \"28\": 1, \"90\": 1, \"49\": 1}, \"38\": {\"38\": 10}}, \"W_A_1\": {\"108\": {\"70\": 2, \"108\": 3, \"21\": 1, \"44\": 3, \"91\": 1}, \"40\": {\"70\": 2, \"5\": 2, \"40\": 2, \"104\": 1, \"42\": 1, \"34\": 2, \"44\": 1, \"108\": 1}, \"68\": {\"68\": 7, \"79\": 1, \"58\": 1, \"17\": 1, \"91\": 1, \"0\": 1}, \"23\": {\"68\": 1, \"64\": 1, \"7\": 2, \"127\": 1, \"86\": 1, \"104\": 1, \"58\": 1, \"108\": 2, \"12\": 2}, \"26\": {\"70\": 1, \"26\": 9, \"95\": 1, \"113\": 1}, \"64\": {\"70\": 1, \"64\": 11}, \"22\": {\"40\": 1, \"9\": 1, \"22\": 4, \"86\": 1, \"3\": 1, \"19\": 1, \"42\": 1, \"57\": 2}, \"3\": {\"57\": 1, \"64\": 2, \"3\": 7, \"61\": 1, \"96\": 1}, \"4\": {\"40\": 1, \"110\": 1, \"20\": 2, \"30\": 1, \"29\": 1, \"56\": 2, \"1\": 1, \"4\": 1, \"11\": 2}, \"70\": {\"70\": 4, \"40\": 1, \"49\": 1, \"23\": 2, \"90\": 1, \"11\": 1, \"32\": 1, \"115\": 1}, \"57\": {\"57\": 12}, \"79\": {\"64\": 1, \"23\": 1, \"98\": 2, \"79\": 2, \"52\": 1, \"93\": 1, \"40\": 1, \"5\": 1, \"43\": 1, \"108\": 1}, \"9\": {\"89\": 1, \"68\": 1, \"17\": 1, \"67\": 1, \"8\": 1, \"0\": 2, \"93\": 1, \"72\": 1, \"12\": 1, \"52\": 1, \"86\": 1}, \"89\": {\"9\": 1, \"70\": 1, \"1\": 1, \"23\": 1, \"89\": 3, \"93\": 1, \"90\": 1, \"127\": 1, \"115\": 1, \"112\": 1}, \"110\": {\"110\": 6, \"37\": 1, \"29\": 1, \"55\": 1, \"79\": 1, \"40\": 1, \"90\": 1}, \"102\": {\"110\": 1, \"79\": 1, \"33\": 1, \"62\": 1, \"14\": 1, \"102\": 3, \"118\": 2, \"39\": 1, \"95\": 1}, \"31\": {\"11\": 1, \"31\": 4, \"73\": 1, \"55\": 1, \"61\": 1, \"126\": 2, \"41\": 1, \"1\": 1}, \"58\": {\"58\": 7, \"85\": 1, \"103\": 2, \"5\": 1, \"79\": 1}, \"47\": {\"58\": 1, \"11\": 1, \"47\": 5, \"106\": 1, \"49\": 1, \"12\": 1, \"65\": 1, \"54\": 1}, \"24\": {\"68\": 1, \"31\": 2, \"109\": 1, \"73\": 1, \"44\": 1, \"30\": 1, \"97\": 1, \"64\": 1, \"41\": 1, \"52\": 1, \"86\": 1}, \"19\": {\"11\": 1, \"57\": 1, \"3\": 1, \"73\": 1, \"19\": 1, \"25\": 1, \"63\": 1, \"28\": 1, \"126\": 2, \"100\": 1, \"8\": 1}, \"11\": {\"109\": 1, \"25\": 1, \"66\": 2, \"75\": 1, \"91\": 1, \"11\": 2, \"108\": 2, \"126\": 2}, \"52\": {\"58\": 1, \"52\": 9, \"98\": 1, \"24\": 1}, \"17\": {\"58\": 2, \"47\": 1, \"17\": 5, \"98\": 1, \"85\": 1, \"12\": 1, \"31\": 1}, \"25\": {\"11\": 1, \"19\": 1, \"114\": 1, \"8\": 2, \"87\": 1, \"25\": 2, \"66\": 1, \"82\": 1, \"48\": 1, \"10\": 1}, \"69\": {\"69\": 3, \"118\": 1, \"103\": 1, \"13\": 1, \"55\": 1, \"102\": 2, \"121\": 1, \"113\": 1, \"63\": 1}, \"96\": {\"115\": 1, \"109\": 1, \"96\": 3, \"39\": 1, \"91\": 1, \"28\": 1, \"90\": 1, \"66\": 1, \"44\": 1, \"61\": 1}, \"109\": {\"109\": 9, \"104\": 3}, \"115\": {\"115\": 11, \"44\": 1}, \"83\": {\"47\": 1, \"17\": 1, \"124\": 2, \"81\": 2, \"14\": 1, \"20\": 1, \"82\": 1, \"46\": 1, \"24\": 1, \"86\": 1}, \"84\": {\"7\": 2, \"96\": 1, \"11\": 1, \"116\": 1, \"61\": 1, \"8\": 1, \"107\": 1, \"19\": 2, \"23\": 1, \"74\": 1}, \"119\": {\"122\": 1, \"119\": 3, \"18\": 2, \"79\": 1, \"78\": 1, \"99\": 1, \"31\": 1}, \"122\": {\"23\": 1, \"122\": 2, \"93\": 1, \"63\": 1, \"126\": 1, \"25\": 1, \"42\": 1, \"14\": 1, \"99\": 1}, \"99\": {\"99\": 12}, \"1\": {\"23\": 1, \"85\": 1, \"25\": 1, \"87\": 1, \"101\": 1, \"1\": 2, \"107\": 1, \"8\": 1, \"7\": 1, \"104\": 1, \"83\": 1}, \"74\": {\"7\": 1, \"23\": 1, \"74\": 5, \"108\": 2, \"20\": 1, \"44\": 1, \"100\": 1}, \"85\": {\"111\": 1, \"119\": 1, \"58\": 2, \"85\": 3, \"107\": 1, \"72\": 1, \"9\": 1, \"29\": 1, \"70\": 1}, \"127\": {\"111\": 5, \"127\": 4, \"110\": 1, \"71\": 1, \"89\": 1}, \"111\": {\"53\": 1, \"111\": 7, \"106\": 1, \"112\": 1, \"127\": 2}, \"53\": {\"53\": 10, \"127\": 1, \"92\": 1}, \"88\": {\"84\": 2, \"36\": 3, \"88\": 3, \"3\": 1, \"105\": 2, \"10\": 1}, \"65\": {\"23\": 1, \"122\": 1, \"63\": 1, \"100\": 1, \"64\": 1, \"30\": 1, \"102\": 1, \"90\": 1, \"31\": 1, \"99\": 1}, \"7\": {\"7\": 12}, \"16\": {\"16\": 8, \"65\": 1, \"126\": 1, \"95\": 1, \"19\": 1}, \"128\": {\"68\": 1, \"104\": 1, \"128\": 1, \"5\": 1, \"48\": 2, \"8\": 2, \"126\": 2, \"57\": 1, \"61\": 1}, \"34\": {\"68\": 1, \"129\": 1, \"98\": 1, \"73\": 1, \"34\": 4, \"0\": 1, \"29\": 1, \"15\": 1, \"92\": 1}, \"129\": {\"43\": 2, \"14\": 1, \"22\": 1, \"30\": 2, \"74\": 2, \"19\": 1, \"126\": 1, \"129\": 1, \"38\": 1}, \"43\": {\"73\": 1, \"128\": 1, \"91\": 1, \"20\": 1, \"74\": 2, \"79\": 1, \"61\": 1, \"57\": 1, \"43\": 2, \"64\": 1}, \"92\": {\"17\": 1, \"53\": 2, \"5\": 1, \"92\": 8}, \"28\": {\"28\": 10, \"90\": 1, \"61\": 1}, \"27\": {\"92\": 1, \"27\": 5, \"32\": 1, \"59\": 2, \"71\": 1, \"52\": 2}, \"114\": {\"104\": 1, \"128\": 1, \"103\": 1, \"64\": 1, \"42\": 1, \"114\": 1, \"79\": 1, \"3\": 1, \"105\": 1, \"28\": 1, \"91\": 1, \"108\": 1}, \"73\": {\"104\": 2, \"128\": 1, \"61\": 2, \"55\": 1, \"56\": 1, \"73\": 2, \"23\": 1, \"78\": 1, \"77\": 1}, \"0\": {\"68\": 2, \"128\": 1, \"0\": 3, \"9\": 1, \"107\": 1, \"71\": 1, \"47\": 1, \"103\": 2}, \"104\": {\"104\": 9, \"7\": 2, \"41\": 1}, \"118\": {\"118\": 7, \"69\": 1, \"2\": 1, \"67\": 1, \"95\": 1, \"16\": 1}, \"41\": {\"41\": 10, \"86\": 1, \"44\": 1}, \"49\": {\"104\": 1, \"129\": 1, \"54\": 2, \"91\": 1, \"72\": 1, \"56\": 1, \"9\": 1, \"8\": 1, \"127\": 1, \"52\": 1, \"32\": 1}, \"14\": {\"46\": 1, \"33\": 1, \"14\": 4, \"120\": 1, \"32\": 1, \"47\": 1, \"99\": 1, \"31\": 1, \"103\": 1}, \"46\": {\"125\": 2, \"104\": 1, \"31\": 2, \"46\": 1, \"28\": 1, \"51\": 1, \"67\": 1, \"105\": 1, \"73\": 1, \"62\": 1}, \"33\": {\"40\": 1, \"22\": 1, \"33\": 5, \"75\": 1, \"114\": 1, \"122\": 1, \"19\": 2}, \"76\": {\"76\": 7, \"66\": 1, \"109\": 1, \"61\": 1, \"3\": 1, \"115\": 1}, \"125\": {\"125\": 10, \"51\": 2}, \"86\": {\"104\": 1, \"23\": 1, \"86\": 5, \"70\": 2, \"31\": 1}, \"66\": {\"66\": 4, \"99\": 2, \"20\": 2, \"64\": 1, \"90\": 1, \"76\": 1, \"51\": 1}, \"5\": {\"5\": 3, \"86\": 1, \"44\": 1, \"45\": 2, \"76\": 1, \"79\": 1, \"10\": 1, \"31\": 1, \"17\": 1}, \"117\": {\"117\": 8, \"118\": 2, \"95\": 1, \"70\": 1}, \"75\": {\"73\": 1, \"75\": 5, \"72\": 1, \"43\": 1, \"105\": 1, \"108\": 1, \"41\": 1, \"128\": 1}, \"61\": {\"61\": 11, \"3\": 1}, \"50\": {\"50\": 3, \"120\": 2, \"31\": 1, \"124\": 1, \"5\": 1, \"74\": 1, \"99\": 1, \"54\": 1, \"43\": 1}, \"67\": {\"117\": 1, \"50\": 1, \"13\": 2, \"67\": 4, \"46\": 2}, \"18\": {\"18\": 5, \"11\": 1, \"99\": 1, \"33\": 1, \"78\": 1, \"126\": 1, \"21\": 1, \"100\": 1}, \"98\": {\"98\": 3, \"73\": 1, \"79\": 2, \"29\": 1, \"108\": 1, \"75\": 1, \"37\": 1, \"103\": 2}, \"55\": {\"85\": 1, \"73\": 1, \"55\": 3, \"42\": 1, \"10\": 1, \"5\": 1, \"75\": 1, \"11\": 1}, \"32\": {\"32\": 5, \"58\": 1, \"105\": 1, \"5\": 2, \"52\": 1, \"49\": 1, \"53\": 1}, \"120\": {\"45\": 2, \"120\": 4, \"79\": 2, \"116\": 1, \"38\": 1, \"74\": 1, \"23\": 1}, \"97\": {\"73\": 1, \"58\": 1, \"97\": 4, \"112\": 1, \"49\": 2, \"101\": 1, \"85\": 1, \"91\": 1}, \"126\": {\"126\": 8, \"115\": 2, \"61\": 1, \"64\": 1}, \"45\": {\"104\": 1, \"55\": 1, \"122\": 1, \"126\": 1, \"38\": 1, \"45\": 1, \"69\": 2, \"70\": 1, \"90\": 1, \"108\": 2}, \"78\": {\"100\": 1, \"63\": 1, \"67\": 1, \"55\": 1, \"23\": 1, \"18\": 1, \"108\": 2, \"78\": 2}, \"100\": {\"77\": 1, \"100\": 2, \"19\": 2, \"20\": 1, \"44\": 1, \"115\": 1, \"21\": 1, \"18\": 1, \"84\": 2}, \"107\": {\"107\": 6, \"29\": 2, \"0\": 1, \"17\": 1, \"85\": 1, \"111\": 1}, \"93\": {\"112\": 1, \"107\": 1, \"54\": 1, \"29\": 1, \"52\": 1, \"48\": 1, \"64\": 1, \"90\": 1, \"72\": 2, \"73\": 1, \"75\": 1}, \"77\": {\"115\": 2, \"77\": 1, \"126\": 1, \"48\": 2, \"76\": 2, \"57\": 2, \"86\": 2}, \"63\": {\"77\": 1, \"78\": 1, \"119\": 2, \"8\": 1, \"87\": 2, \"69\": 1, \"84\": 1, \"25\": 1, \"115\": 2}, \"112\": {\"112\": 9, \"97\": 1, \"71\": 2}, \"113\": {\"63\": 1, \"113\": 7, \"13\": 2, \"116\": 2}, \"103\": {\"71\": 1, \"92\": 1, \"77\": 1, \"127\": 1, \"98\": 1, \"103\": 2, \"0\": 1, \"52\": 1, \"83\": 1}, \"71\": {\"92\": 1, \"37\": 1, \"71\": 9, \"30\": 1}, \"30\": {\"103\": 1, \"15\": 1, \"31\": 1, \"71\": 1, \"27\": 2, \"24\": 1, \"37\": 1, \"94\": 1, \"30\": 1, \"86\": 1, \"4\": 1}, \"90\": {\"90\": 8, \"64\": 1, \"21\": 2, \"99\": 1}, \"37\": {\"15\": 1, \"37\": 5, \"11\": 1, \"30\": 1, \"34\": 1, \"40\": 1, \"74\": 1, \"12\": 1}, \"60\": {\"90\": 2, \"30\": 2, \"39\": 1, \"54\": 1, \"60\": 3, \"11\": 1, \"74\": 1, \"106\": 1}, \"15\": {\"15\": 2, \"92\": 1, \"6\": 2, \"53\": 1, \"112\": 1, \"37\": 2, \"27\": 1, \"56\": 1, \"51\": 1}, \"39\": {\"39\": 5, \"63\": 1, \"22\": 1, \"87\": 1, \"105\": 1, \"73\": 1, \"16\": 1, \"33\": 1}, \"72\": {\"54\": 1, \"49\": 2, \"32\": 2, \"72\": 4, \"56\": 1, \"70\": 1, \"45\": 1}, \"54\": {\"54\": 5, \"63\": 1, \"93\": 1, \"107\": 1, \"47\": 3, \"98\": 1}, \"35\": {\"54\": 2, \"25\": 1, \"80\": 1, \"96\": 1, \"47\": 1, \"35\": 2, \"48\": 1, \"17\": 1, \"56\": 1, \"15\": 1}, \"2\": {\"7\": 1, \"2\": 6, \"60\": 1, \"30\": 1, \"44\": 1, \"128\": 1, \"91\": 1}, \"94\": {\"15\": 1, \"6\": 1, \"94\": 7, \"71\": 1, \"109\": 1, \"60\": 1}, \"42\": {\"74\": 1, \"0\": 1, \"80\": 1, \"25\": 1, \"42\": 1, \"20\": 1, \"28\": 1, \"22\": 1, \"72\": 1, \"66\": 1, \"107\": 1, \"8\": 1}, \"81\": {\"81\": 9, \"5\": 1, \"74\": 1, \"13\": 1}, \"8\": {\"8\": 6, \"74\": 1, \"21\": 2, \"28\": 1, \"76\": 1, \"126\": 1}, \"87\": {\"87\": 3, \"114\": 1, \"35\": 1, \"110\": 2, \"21\": 1, \"122\": 1, \"58\": 1, \"115\": 1, \"129\": 1}, \"6\": {\"6\": 5, \"53\": 3, \"112\": 1, \"55\": 1, \"30\": 1, \"27\": 1}, \"36\": {\"6\": 2, \"36\": 9, \"94\": 1}, \"91\": {\"32\": 1, \"91\": 6, \"72\": 1, \"28\": 1, \"4\": 1, \"48\": 1, \"128\": 1}, \"56\": {\"72\": 2, \"58\": 1, \"10\": 1, \"106\": 1, \"91\": 1, \"56\": 3, \"70\": 1, \"73\": 1, \"9\": 1}, \"80\": {\"35\": 1, \"80\": 4, \"38\": 1, \"45\": 1, \"47\": 1, \"62\": 1, \"78\": 1, \"112\": 1, \"70\": 1}, \"124\": {\"124\": 3, \"11\": 1, \"81\": 1, \"105\": 1, \"80\": 1, \"5\": 1, \"31\": 1, \"99\": 1}, \"44\": {\"44\": 12}, \"13\": {\"13\": 5, \"116\": 1, \"102\": 2, \"123\": 1, \"99\": 1, \"82\": 1, \"67\": 1}, \"10\": {\"105\": 1, \"77\": 1, \"48\": 1, \"98\": 1, \"21\": 3, \"23\": 1, \"8\": 2, \"96\": 1, \"79\": 1}, \"59\": {\"59\": 9, \"62\": 1, \"123\": 1, \"51\": 1}, \"95\": {\"16\": 2, \"62\": 1, \"95\": 3, \"18\": 1, \"118\": 2, \"120\": 1, \"106\": 1, \"13\": 1}, \"105\": {\"127\": 1, \"77\": 1, \"101\": 1, \"5\": 1, \"45\": 1, \"66\": 1, \"44\": 1, \"35\": 1, \"9\": 1, \"56\": 1, \"33\": 1, \"32\": 1}, \"101\": {\"101\": 6, \"103\": 1, \"29\": 2, \"110\": 1, \"9\": 1, \"68\": 1}, \"20\": {\"100\": 1, \"20\": 10, \"76\": 1}, \"48\": {\"28\": 2, \"48\": 9, \"26\": 1}, \"106\": {\"75\": 1, \"106\": 5, \"77\": 1, \"103\": 1, \"101\": 2, \"4\": 1, \"60\": 1}, \"51\": {\"51\": 10, \"125\": 1, \"15\": 1}, \"21\": {\"96\": 1, \"28\": 1, \"90\": 1, \"21\": 4, \"108\": 1, \"112\": 1, \"23\": 1, \"7\": 1, \"106\": 1}, \"123\": {\"123\": 6, \"21\": 1, \"108\": 1, \"58\": 1, \"70\": 1, \"63\": 1, \"26\": 1}, \"121\": {\"61\": 3, \"43\": 1, \"83\": 1, \"121\": 1, \"21\": 2, \"98\": 1, \"35\": 1, \"90\": 1, \"99\": 1}, \"38\": {\"121\": 1, \"45\": 1, \"90\": 2, \"33\": 1, \"46\": 1, \"101\": 2, \"14\": 1, \"89\": 1, \"120\": 1, \"17\": 1}, \"62\": {\"98\": 1, \"62\": 5, \"102\": 1, \"14\": 1, \"120\": 1, \"81\": 1, \"60\": 1, \"113\": 1}, \"29\": {\"29\": 6, \"110\": 1, \"107\": 1, \"8\": 1, \"31\": 1, \"32\": 2}, \"82\": {\"82\": 3, \"33\": 1, \"93\": 1, \"99\": 1, \"44\": 2, \"115\": 2, \"46\": 1, \"104\": 1}, \"116\": {\"83\": 1, \"33\": 1, \"116\": 5, \"123\": 1, \"2\": 1, \"75\": 1, \"114\": 1, \"78\": 1}, \"12\": {\"107\": 1, \"12\": 3, \"127\": 1, \"111\": 1, \"0\": 1, \"47\": 1}}, \"W_A_2\": {\"91\": {\"126\": 1, \"33\": 1, \"91\": 3, \"41\": 1, \"112\": 1, \"74\": 1, \"29\": 1, \"77\": 1, \"53\": 2}, \"12\": {\"17\": 1, \"10\": 1, \"12\": 2, \"29\": 2, \"0\": 1, \"99\": 1, \"41\": 1, \"54\": 1, \"101\": 1, \"53\": 1}, \"101\": {\"101\": 9, \"0\": 1}, \"121\": {\"126\": 1, \"88\": 1, \"53\": 1, \"89\": 1, \"23\": 1, \"121\": 2, \"51\": 1, \"76\": 1, \"112\": 1, \"72\": 1, \"123\": 1}, \"118\": {\"88\": 2, \"118\": 4, \"32\": 1, \"87\": 1, \"18\": 1, \"85\": 1, \"38\": 1, \"100\": 1}, \"10\": {\"10\": 7, \"88\": 1, \"115\": 1, \"38\": 1, \"44\": 2}, \"117\": {\"117\": 10, \"63\": 1, \"92\": 1}, \"110\": {\"17\": 1, \"106\": 1, \"49\": 1, \"53\": 1, \"110\": 3, \"118\": 1, \"34\": 1, \"101\": 1, \"103\": 1, \"119\": 1}, \"97\": {\"33\": 1, \"88\": 1, \"4\": 1, \"97\": 3, \"54\": 1, \"105\": 1, \"30\": 1, \"78\": 1, \"119\": 1, \"22\": 1}, \"28\": {\"88\": 1, \"110\": 2, \"28\": 4, \"43\": 1, \"76\": 1, \"41\": 1, \"14\": 1, \"25\": 1}, \"88\": {\"88\": 12}, \"17\": {\"33\": 1, \"101\": 1, \"10\": 1, \"105\": 1, \"129\": 2, \"29\": 1, \"114\": 1, \"120\": 1, \"0\": 1, \"51\": 1, \"47\": 1}, \"126\": {\"88\": 2, \"99\": 1, \"90\": 3, \"126\": 4, \"46\": 1, \"49\": 1}, \"33\": {\"91\": 1, \"10\": 1, \"109\": 2, \"96\": 1, \"33\": 1, \"119\": 2, \"38\": 2, \"57\": 1, \"108\": 1}, \"86\": {\"110\": 1, \"28\": 1, \"86\": 6, \"34\": 1, \"124\": 1, \"78\": 1, \"71\": 1}, \"106\": {\"106\": 8, \"97\": 2, \"75\": 1, \"58\": 1}, \"54\": {\"42\": 1, \"103\": 1, \"54\": 8, \"107\": 1, \"52\": 1}, \"125\": {\"125\": 8, \"51\": 2, \"9\": 2}, \"83\": {\"83\": 10, \"61\": 1, \"38\": 1}, \"98\": {\"4\": 1, \"98\": 6, \"49\": 1, \"0\": 3, \"54\": 1}, \"11\": {\"83\": 1, \"42\": 2, \"8\": 1, \"95\": 1, \"41\": 2, \"11\": 2, \"105\": 1, \"71\": 1, \"4\": 1}, \"32\": {\"61\": 1, \"83\": 1, \"95\": 1, \"112\": 1, \"59\": 1, \"34\": 1, \"29\": 1, \"17\": 1, \"123\": 1, \"32\": 1, \"71\": 1, \"122\": 1}, \"42\": {\"83\": 1, \"42\": 5, \"44\": 3, \"38\": 1, \"115\": 2}, \"103\": {\"103\": 7, \"54\": 2, \"127\": 1, \"97\": 2}, \"87\": {\"61\": 2, \"123\": 2, \"88\": 2, \"23\": 2, \"70\": 1, \"57\": 1, \"90\": 1, \"126\": 1}, \"61\": {\"83\": 1, \"61\": 10, \"99\": 1}, \"13\": {\"13\": 4, \"16\": 1, \"44\": 2, \"23\": 1, \"48\": 1, \"80\": 1, \"39\": 1, \"72\": 1}, \"4\": {\"4\": 3, \"68\": 2, \"28\": 2, \"17\": 1, \"29\": 1, \"12\": 2, \"44\": 1}, \"15\": {\"125\": 1, \"15\": 8, \"75\": 1}, \"120\": {\"53\": 2, \"99\": 1, \"120\": 4, \"83\": 2, \"41\": 1, \"43\": 1, \"63\": 1}, \"80\": {\"64\": 1, \"129\": 1, \"80\": 4, \"14\": 1, \"63\": 1, \"45\": 1, \"13\": 1, \"84\": 1, \"105\": 1}, \"72\": {\"121\": 2, \"72\": 4, \"57\": 1, \"104\": 1, \"13\": 1, \"108\": 1}, \"64\": {\"52\": 1, \"64\": 6, \"17\": 1, \"112\": 1, \"63\": 1, \"31\": 1, \"37\": 1}, \"81\": {\"81\": 8, \"2\": 1, \"26\": 2, \"102\": 1}, \"102\": {\"72\": 1, \"81\": 2, \"67\": 1, \"102\": 5, \"62\": 1, \"129\": 1, \"55\": 1}, \"76\": {\"53\": 1, \"110\": 1, \"80\": 1, \"88\": 1, \"129\": 1, \"76\": 1, \"96\": 1, \"45\": 1, \"31\": 2, \"92\": 1, \"56\": 1}, \"49\": {\"53\": 3, \"119\": 1, \"47\": 1, \"114\": 1, \"41\": 1, \"101\": 1, \"29\": 1, \"20\": 1}, \"129\": {\"52\": 2, \"73\": 1, \"23\": 1, \"45\": 1, \"108\": 1, \"110\": 1, \"91\": 1, \"34\": 1, \"112\": 1, \"64\": 1, \"59\": 1}, \"89\": {\"121\": 1, \"89\": 4, \"45\": 2, \"27\": 1, \"72\": 1, \"125\": 1, \"64\": 1, \"55\": 1}, \"52\": {\"49\": 1, \"53\": 1, \"129\": 1, \"61\": 1, \"107\": 1, \"40\": 1, \"44\": 1, \"42\": 1, \"90\": 1, \"103\": 1, \"46\": 1, \"21\": 1}, \"35\": {\"35\": 2, \"127\": 1, \"8\": 1, \"79\": 2, \"34\": 1, \"95\": 1, \"111\": 2, \"56\": 2}, \"53\": {\"53\": 7, \"34\": 1, \"29\": 2, \"87\": 1, \"58\": 1}, \"112\": {\"97\": 1, \"77\": 1, \"44\": 4, \"112\": 1, \"115\": 1, \"38\": 2, \"90\": 1, \"85\": 1}, \"105\": {\"100\": 2, \"95\": 1, \"37\": 1, \"127\": 1, \"44\": 1, \"1\": 1, \"86\": 1, \"11\": 1, \"88\": 1, \"84\": 1, \"80\": 1}, \"100\": {\"21\": 2, \"10\": 1, \"100\": 2, \"61\": 1, \"23\": 1, \"119\": 1, \"7\": 2, \"122\": 1, \"123\": 1}, \"9\": {\"9\": 8, \"36\": 3, \"51\": 1}, \"82\": {\"69\": 1, \"82\": 4, \"18\": 1, \"13\": 1, \"62\": 1, \"50\": 1, \"104\": 1, \"117\": 1, \"81\": 1}, \"51\": {\"51\": 8, \"9\": 2, \"125\": 1, \"127\": 1}, \"21\": {\"21\": 12}, \"92\": {\"82\": 1, \"51\": 1, \"45\": 1, \"113\": 1, \"47\": 2, \"50\": 2, \"92\": 1, \"90\": 1, \"72\": 1, \"69\": 1}, \"69\": {\"69\": 7, \"82\": 1, \"0\": 1, \"56\": 1, \"2\": 1, \"18\": 1}, \"77\": {\"77\": 4, \"21\": 1, \"112\": 1, \"38\": 1, \"70\": 1, \"10\": 1, \"91\": 1, \"29\": 1, \"23\": 1}, \"50\": {\"84\": 1, \"88\": 1, \"82\": 1, \"50\": 6, \"22\": 1, \"4\": 1, \"112\": 1}, \"36\": {\"36\": 6, \"15\": 1, \"56\": 1, \"0\": 1, \"9\": 3}, \"16\": {\"87\": 1, \"88\": 1, \"20\": 2, \"16\": 5, \"120\": 1, \"102\": 1, \"40\": 1}, \"8\": {\"88\": 1, \"8\": 3, \"44\": 1, \"11\": 3, \"83\": 1, \"41\": 3}, \"127\": {\"103\": 1, \"127\": 7, \"30\": 1, \"111\": 1, \"79\": 2}, \"46\": {\"123\": 2, \"90\": 2, \"46\": 4, \"126\": 2}, \"84\": {\"16\": 2, \"57\": 1, \"42\": 1, \"100\": 1, \"84\": 2, \"80\": 1, \"59\": 1, \"48\": 1, \"10\": 1, \"37\": 1}, \"18\": {\"18\": 7, \"13\": 1, \"113\": 1, \"65\": 3}, \"123\": {\"123\": 9, \"42\": 1}, \"56\": {\"88\": 1, \"111\": 1, \"28\": 2, \"76\": 1, \"56\": 3, \"123\": 1, \"103\": 2, \"15\": 1}, \"26\": {\"26\": 4, \"66\": 1, \"65\": 2, \"55\": 2, \"81\": 1, \"5\": 1, \"48\": 1}, \"14\": {\"88\": 1, \"14\": 2, \"72\": 1, \"104\": 1, \"62\": 2, \"65\": 1, \"69\": 1, \"43\": 2, \"71\": 1}, \"109\": {\"33\": 1, \"88\": 1, \"99\": 1, \"1\": 1, \"46\": 1, \"90\": 1, \"123\": 2, \"8\": 1, \"109\": 1, \"63\": 1, \"7\": 1}, \"66\": {\"87\": 1, \"109\": 1, \"59\": 1, \"66\": 1, \"107\": 2, \"120\": 1, \"5\": 1, \"110\": 1, \"53\": 1, \"52\": 1, \"85\": 1}, \"24\": {\"88\": 2, \"75\": 1, \"10\": 1, \"42\": 1, \"20\": 1, \"6\": 1, \"7\": 1, \"1\": 2, \"44\": 2}, \"71\": {\"88\": 1, \"71\": 2, \"54\": 1, \"44\": 1, \"38\": 1, \"70\": 1, \"128\": 3, \"105\": 1, \"123\": 1}, \"65\": {\"80\": 3, \"113\": 1, \"75\": 1, \"112\": 1, \"32\": 1, \"69\": 1, \"65\": 1, \"102\": 1, \"51\": 1, \"13\": 1}, \"75\": {\"75\": 8, \"25\": 2, \"15\": 1, \"21\": 1}, \"111\": {\"111\": 9, \"0\": 1, \"103\": 2}, \"30\": {\"30\": 6, \"127\": 1, \"95\": 1, \"37\": 1, \"111\": 1, \"83\": 1, \"128\": 1}, \"85\": {\"10\": 1, \"110\": 1, \"0\": 1, \"38\": 1, \"115\": 1, \"85\": 2, \"12\": 2, \"68\": 1, \"84\": 1, \"90\": 1}, \"113\": {\"113\": 7, \"21\": 1, \"72\": 2}, \"45\": {\"118\": 1, \"92\": 1, \"45\": 2, \"13\": 1, \"70\": 1, \"2\": 1, \"76\": 2, \"14\": 2, \"121\": 1}, \"29\": {\"29\": 9, \"83\": 2, \"49\": 1}, \"20\": {\"20\": 11, \"21\": 1}, \"25\": {\"25\": 5, \"75\": 3, \"106\": 1, \"28\": 1, \"6\": 2}, \"0\": {\"0\": 7, \"99\": 1, \"111\": 1, \"8\": 1, \"54\": 1, \"88\": 1}, \"68\": {\"68\": 10, \"114\": 1, \"12\": 1}, \"119\": {\"119\": 12}, \"90\": {\"90\": 11, \"126\": 1}, \"38\": {\"38\": 12}, \"99\": {\"99\": 12}, \"1\": {\"109\": 1, \"119\": 1, \"115\": 3, \"61\": 2, \"114\": 1, \"1\": 1, \"63\": 1, \"20\": 1, \"80\": 1}, \"67\": {\"67\": 7, \"85\": 1, \"125\": 1, \"93\": 1, \"95\": 1, \"75\": 1}, \"63\": {\"90\": 2, \"63\": 6, \"42\": 1, \"105\": 1, \"43\": 1, \"120\": 1}, \"34\": {\"34\": 2, \"4\": 1, \"66\": 1, \"86\": 1, \"79\": 1, \"124\": 1, \"91\": 1, \"42\": 2, \"101\": 1, \"19\": 1}, \"108\": {\"108\": 2, \"34\": 1, \"122\": 1, \"85\": 1, \"115\": 1, \"41\": 2, \"42\": 1, \"43\": 1, \"87\": 2}, \"40\": {\"28\": 1, \"80\": 1, \"128\": 1, \"34\": 1, \"49\": 2, \"40\": 1, \"1\": 1, \"105\": 1, \"71\": 1, \"32\": 2}, \"47\": {\"111\": 1, \"0\": 1, \"30\": 1, \"86\": 1, \"73\": 1, \"22\": 1, \"64\": 1, \"121\": 1, \"47\": 1, \"101\": 1, \"110\": 1, \"55\": 1}, \"37\": {\"90\": 3, \"46\": 2, \"40\": 1, \"37\": 1, \"22\": 1, \"119\": 1, \"44\": 2, \"52\": 1}, \"78\": {\"20\": 2, \"115\": 2, \"78\": 3, \"29\": 2, \"7\": 2, \"120\": 1}, \"96\": {\"43\": 1, \"47\": 1, \"96\": 2, \"35\": 1, \"57\": 1, \"109\": 1, \"8\": 1, \"64\": 2, \"70\": 1, \"116\": 1}, \"43\": {\"43\": 2, \"21\": 1, \"41\": 1, \"44\": 3, \"126\": 2, \"123\": 2, \"97\": 1}, \"5\": {\"8\": 1, \"42\": 1, \"5\": 2, \"34\": 1, \"122\": 1, \"114\": 1, \"66\": 1, \"123\": 2}, \"124\": {\"5\": 1, \"124\": 5, \"26\": 1, \"22\": 1, \"6\": 1, \"34\": 1, \"101\": 2}, \"44\": {\"44\": 9, \"126\": 1, \"61\": 1, \"10\": 1}, \"41\": {\"42\": 2, \"41\": 7, \"108\": 2, \"99\": 1}, \"116\": {\"44\": 1, \"112\": 1, \"73\": 1, \"53\": 1, \"100\": 1, \"119\": 2, \"8\": 1, \"120\": 1, \"2\": 1, \"116\": 2}, \"19\": {\"44\": 1, \"15\": 1, \"59\": 1, \"19\": 2, \"127\": 1, \"122\": 1, \"77\": 1, \"123\": 1, \"1\": 1, \"85\": 1, \"38\": 1}, \"115\": {\"115\": 8, \"41\": 1, \"10\": 2, \"71\": 1}, \"95\": {\"95\": 6, \"124\": 1, \"126\": 1, \"7\": 1, \"55\": 1, \"68\": 1, \"54\": 1}, \"3\": {\"115\": 2, \"122\": 1, \"68\": 1, \"83\": 1, \"3\": 2, \"112\": 1, \"44\": 1, \"35\": 1}, \"59\": {\"32\": 2, \"83\": 1, \"128\": 2, \"59\": 2, \"41\": 2, \"7\": 1, \"91\": 1, \"53\": 1}, \"55\": {\"26\": 2, \"55\": 5, \"22\": 1, \"104\": 1, \"102\": 2, \"96\": 1}, \"70\": {\"126\": 2, \"83\": 1, \"115\": 1, \"53\": 1, \"70\": 2, \"123\": 2, \"10\": 1, \"37\": 1, \"108\": 1}, \"6\": {\"6\": 6, \"25\": 1, \"75\": 2, \"24\": 1, \"51\": 1, \"94\": 1}, \"2\": {\"48\": 1, \"2\": 6, \"74\": 1, \"16\": 1, \"120\": 1, \"117\": 1, \"105\": 1}, \"48\": {\"105\": 1, \"126\": 1, \"48\": 4, \"123\": 1, \"14\": 1, \"23\": 1, \"57\": 1, \"59\": 1, \"118\": 1}, \"23\": {\"63\": 1, \"41\": 1, \"61\": 2, \"23\": 3, \"68\": 1, \"52\": 1, \"38\": 1, \"3\": 1, \"44\": 1}, \"7\": {\"108\": 1, \"41\": 1, \"7\": 2, \"115\": 1, \"122\": 2, \"114\": 1, \"4\": 1, \"78\": 1, \"77\": 1, \"12\": 1}, \"122\": {\"7\": 3, \"37\": 1, \"53\": 1, \"84\": 1, \"68\": 1, \"122\": 1, \"46\": 2, \"5\": 1, \"123\": 1}, \"57\": {\"105\": 1, \"42\": 1, \"53\": 1, \"60\": 1, \"14\": 1, \"83\": 2, \"88\": 1, \"57\": 2, \"99\": 1, \"13\": 1}, \"39\": {\"39\": 3, \"123\": 2, \"83\": 1, \"53\": 2, \"21\": 2}, \"79\": {\"79\": 2, \"107\": 1, \"7\": 2, \"115\": 1, \"17\": 1, \"127\": 1, \"10\": 1, \"78\": 1, \"19\": 1, \"95\": 1}, \"27\": {\"27\": 8, \"58\": 1, \"15\": 1}, \"74\": {\"52\": 1, \"74\": 2, \"79\": 1, \"129\": 1, \"59\": 2, \"114\": 1, \"29\": 1, \"120\": 1, \"51\": 1, \"64\": 1}, \"73\": {\"73\": 2, \"23\": 1, \"62\": 2, \"49\": 1, \"93\": 1, \"28\": 1, \"116\": 1, \"122\": 1, \"31\": 1, \"5\": 1}, \"62\": {\"100\": 1, \"107\": 1, \"62\": 3, \"73\": 1, \"123\": 1, \"50\": 1, \"43\": 1, \"117\": 1, \"80\": 2}, \"107\": {\"74\": 1, \"107\": 2, \"114\": 1, \"47\": 1, \"8\": 1, \"3\": 1, \"85\": 1, \"31\": 1, \"52\": 1, \"5\": 1, \"40\": 1}, \"128\": {\"122\": 1, \"37\": 1, \"128\": 4, \"74\": 1, \"123\": 1, \"71\": 1, \"115\": 1, \"87\": 2}, \"60\": {\"37\": 1, \"60\": 3, \"83\": 1, \"115\": 1, \"61\": 2, \"38\": 2, \"10\": 1, \"123\": 1}, \"114\": {\"79\": 2, \"128\": 1, \"60\": 2, \"114\": 4, \"68\": 1, \"17\": 1, \"32\": 1}, \"22\": {\"116\": 1, \"95\": 1, \"73\": 1, \"40\": 1, \"22\": 4, \"59\": 1, \"97\": 1, \"11\": 1, \"4\": 1}, \"93\": {\"83\": 1, \"93\": 2, \"70\": 1, \"78\": 1, \"119\": 1, \"123\": 2, \"99\": 1, \"74\": 1, \"116\": 2}, \"94\": {\"111\": 1, \"94\": 3, \"58\": 2, \"51\": 2, \"6\": 2, \"20\": 1, \"101\": 1}, \"31\": {\"31\": 2, \"70\": 1, \"50\": 3, \"103\": 1, \"92\": 1, \"73\": 1, \"113\": 1}, \"104\": {\"104\": 9, \"107\": 1, \"124\": 1, \"67\": 1}, \"58\": {\"58\": 12}}, \"C_A_2\": {\"14\": {\"7\": 1, \"14\": 6, \"31\": 2, \"1\": 2, \"10\": 1}, \"22\": {\"7\": 1, \"22\": 8, \"14\": 1, \"32\": 2}, \"9\": {\"49\": 1, \"9\": 4, \"48\": 2, \"17\": 2, \"10\": 1, \"14\": 2}, \"47\": {\"47\": 12}, \"13\": {\"13\": 11, \"22\": 1}, \"8\": {\"49\": 1, \"8\": 10, \"27\": 1}, \"7\": {\"7\": 11, \"39\": 1}, \"49\": {\"49\": 12}, \"20\": {\"20\": 12}, \"16\": {\"16\": 12}, \"34\": {\"34\": 8, \"41\": 1, \"42\": 1, \"3\": 2}, \"56\": {\"56\": 5, \"22\": 2, \"24\": 1, \"33\": 1, \"37\": 1, \"13\": 1, \"32\": 1}, \"38\": {\"38\": 10}, \"4\": {\"49\": 2, \"4\": 5, \"19\": 1, \"14\": 1, \"13\": 1, \"48\": 1, \"33\": 1}, \"43\": {\"43\": 10}, \"26\": {\"26\": 10}, \"35\": {\"35\": 6, \"56\": 1, \"45\": 1, \"22\": 1, \"29\": 1, \"10\": 1, \"40\": 1}, \"31\": {\"31\": 12}, \"1\": {\"1\": 11, \"55\": 1}, \"39\": {\"23\": 1, \"39\": 8, \"0\": 1, \"47\": 1, \"5\": 1}, \"5\": {\"5\": 9, \"31\": 2, \"57\": 1}, \"24\": {\"24\": 4, \"22\": 1, \"55\": 1, \"43\": 1, \"2\": 2, \"7\": 1, \"38\": 1, \"31\": 1}, \"54\": {\"54\": 10}, \"23\": {\"23\": 12}, \"51\": {\"51\": 12}, \"27\": {\"27\": 10}, \"15\": {\"15\": 12}, \"0\": {\"0\": 12}, \"19\": {\"19\": 4, \"4\": 1, \"40\": 2, \"35\": 1, \"14\": 1, \"36\": 1}, \"18\": {\"18\": 8}, \"30\": {\"18\": 2, \"30\": 10}, \"55\": {\"55\": 10}, \"57\": {\"57\": 11, \"39\": 1}, \"2\": {\"2\": 5, \"34\": 1, \"42\": 1, \"47\": 2, \"1\": 1, \"48\": 2}, \"12\": {\"12\": 8}, \"41\": {\"41\": 12}, \"42\": {\"42\": 12}, \"48\": {\"48\": 12}, \"37\": {\"37\": 11, \"13\": 1}, \"6\": {\"6\": 8, \"48\": 1, \"3\": 1}, \"11\": {\"11\": 10}, \"45\": {\"9\": 2, \"40\": 1, \"45\": 2, \"22\": 1, \"29\": 1, \"13\": 1}, \"21\": {\"21\": 12}, \"46\": {\"46\": 7, \"48\": 1, \"55\": 1, \"3\": 1}, \"25\": {\"25\": 6, \"53\": 1, \"21\": 3, \"50\": 1, \"3\": 1}, \"36\": {\"36\": 9, \"53\": 1}, \"53\": {\"53\": 12}, \"28\": {\"28\": 12}, \"40\": {\"40\": 10}, \"33\": {\"48\": 1, \"19\": 1, \"32\": 5, \"4\": 2, \"29\": 1}, \"44\": {\"19\": 1, \"44\": 3, \"24\": 1, \"33\": 2, \"14\": 1, \"35\": 1, \"29\": 1}, \"3\": {\"48\": 1, \"3\": 8, \"6\": 2, \"9\": 1}, \"17\": {\"17\": 12}, \"32\": {\"32\": 10}, \"10\": {\"10\": 3, \"28\": 2, \"13\": 2, \"14\": 2, \"34\": 1}, \"52\": {\"52\": 8, \"23\": 2}, \"50\": {\"6\": 1, \"50\": 4, \"8\": 2, \"20\": 1}, \"29\": {\"29\": 4, \"36\": 1, \"32\": 1}}}, \"per_domain_accuracy\": {\"ORACLE.run1_14\": {\"accuracy\": 0.7627604166666667, \"source?\": true}, \"ORACLE.run1_20\": {\"accuracy\": 0.6005208333333333, \"source?\": true}, \"ORACLE.run1_38\": {\"accuracy\": 0.6604166666666667, \"source?\": true}, \"ORACLE.run1_8\": {\"accuracy\": 0.7083333333333334, \"source?\": true}, \"ORACLE.run1_50\": {\"accuracy\": 0.6973958333333333, \"source?\": true}, \"ORACLE.run1_32\": {\"accuracy\": 0.7166666666666667, \"source?\": true}, \"ORACLE.run1_26\": {\"accuracy\": 0.5078125, \"source?\": true}, \"ORACLE.run1_44\": {\"accuracy\": 0.6330729166666667, \"source?\": true}, \"C_A_3\": {\"accuracy\": 0.7859375, \"source?\": false}, \"C_A_4\": {\"accuracy\": 0.7453125, \"source?\": false}, \"C_A_5\": {\"accuracy\": 0.803125, \"source?\": false}, \"W_A_3\": {\"accuracy\": 0.3951822916666667, \"source?\": false}, \"C_A_1\": {\"accuracy\": 0.7984375, \"source?\": false}, \"W_A_4\": {\"accuracy\": 0.365234375, \"source?\": false}, \"W_A_1\": {\"accuracy\": 0.396484375, \"source?\": false}, \"W_A_2\": {\"accuracy\": 0.388671875, \"source?\": false}, \"C_A_2\": {\"accuracy\": 0.7921875, \"source?\": false}}}, \"history\": {\"epoch_indices\": [1, 2, 3, 4, 5, 6], \"train_label_loss\": [1.0421055035798676, 1.6463797036602739, 0.8413275206727641, 0.7310638118136142, 0.6359392416120196, 0.5757275236726161], \"source_val_label_loss\": [265.7237243652344, 0.9381909370422363, 0.8393853902816772, 0.7232701778411865, 0.6265725493431091, 0.5710925459861755], \"target_val_label_loss\": [11005.1455078125, 3170.460693359375, 4484.84619140625, 4078.873291015625, 3653.188720703125, 3801.13427734375], \"source_val_acc_label\": [0.5927083333333333, 0.6608723958333333, 0.6937825520833333, 0.7444661458333334, 0.7719401041666667, 0.7930338541666667], \"target_val_acc_label\": [0.4631849315068493, 0.522902397260274, 0.572880993150685, 0.573416095890411, 0.5735231164383562, 0.5538313356164384]}, \"dataset_metrics\": {\"source\": {\"train\": {\"n_unique_x\": 179200, \"n_unique_y\": 16, \"n_batch/episode\": 6720}, \"val\": {\"n_unique_x\": 38400, \"n_unique_y\": 16, \"n_batch/episode\": 960}, \"test\": {\"n_unique_x\": 38400, \"n_unique_y\": 16, \"n_batch/episode\": 960}}, \"target\": {\"train\": {\"n_unique_x\": 56700, \"n_unique_y\": 130, \"n_batch/episode\": 2080}, \"val\": {\"n_unique_x\": 12132, \"n_unique_y\": 130, \"n_batch/episode\": 292}, \"test\": {\"n_unique_x\": 12132, \"n_unique_y\": 130, \"n_batch/episode\": 292}}}}'"
      ]
     },
     "execution_count": 29,
     "metadata": {},
     "output_type": "execute_result"
    }
   ],
   "source": [
    "json.dumps(experiment)"
   ]
  }
 ],
 "metadata": {
  "celltoolbar": "Tags",
  "kernelspec": {
   "display_name": "Python 3 (ipykernel)",
   "language": "python",
   "name": "python3"
  },
  "language_info": {
   "codemirror_mode": {
    "name": "ipython",
    "version": 3
   },
   "file_extension": ".py",
   "mimetype": "text/x-python",
   "name": "python",
   "nbconvert_exporter": "python",
   "pygments_lexer": "ipython3",
   "version": "3.8.10"
  },
  "papermill": {
   "default_parameters": {},
   "duration": 1199.63067,
   "end_time": "2022-03-18T10:05:45.545175",
   "environment_variables": {},
   "exception": null,
   "input_path": "/mnt/wd500GB/CSC500/csc500-main/csc500-notebooks/templates/tl_ptn_template.ipynb",
   "output_path": "trial.ipynb",
   "parameters": {
    "parameters": {
     "BEST_MODEL_PATH": "./best_model.pth",
     "NUM_LOGS_PER_EPOCH": 10,
     "criteria_for_best": "target_loss",
     "dataset_seed": 1337,
     "datasets": [
      {
       "domain_prefix": "C_A_",
       "domains": [
        1,
        2,
        3,
        4,
        5
       ],
       "episode_transforms": [],
       "labels": [
        "1-10.",
        "1-11.",
        "1-15.",
        "1-16.",
        "1-17.",
        "1-18.",
        "1-19.",
        "10-4.",
        "10-7.",
        "11-1.",
        "11-14.",
        "11-17.",
        "11-20.",
        "11-7.",
        "13-20.",
        "13-8.",
        "14-10.",
        "14-11.",
        "14-14.",
        "14-7.",
        "15-1.",
        "15-20.",
        "16-1.",
        "16-16.",
        "17-10.",
        "17-11.",
        "17-2.",
        "19-1.",
        "19-16.",
        "19-19.",
        "19-20.",
        "19-3.",
        "2-10.",
        "2-11.",
        "2-17.",
        "2-18.",
        "2-20.",
        "2-3.",
        "2-4.",
        "2-5.",
        "2-6.",
        "2-7.",
        "2-8.",
        "3-13.",
        "3-18.",
        "3-3.",
        "4-1.",
        "4-10.",
        "4-11.",
        "4-19.",
        "5-5.",
        "6-15.",
        "7-10.",
        "7-14.",
        "8-18.",
        "8-20.",
        "8-3.",
        "8-8."
       ],
       "num_examples_per_domain_per_label": 100,
       "pickle_path": "/mnt/wd500GB/CSC500/csc500-main/datasets/cores.stratified_ds.2022A.pkl",
       "source_or_target_dataset": "target",
       "x_transforms": [
        "unit_power",
        "jitter_256_1",
        "take_200"
       ]
      },
      {
       "domain_prefix": "W_A_",
       "domains": [
        1,
        2,
        3,
        4
       ],
       "episode_transforms": [],
       "labels": [
        "1-10",
        "1-12",
        "1-14",
        "1-16",
        "1-18",
        "1-19",
        "1-8",
        "10-11",
        "10-17",
        "10-4",
        "10-7",
        "11-1",
        "11-10",
        "11-19",
        "11-20",
        "11-4",
        "11-7",
        "12-19",
        "12-20",
        "12-7",
        "13-14",
        "13-18",
        "13-19",
        "13-20",
        "13-3",
        "13-7",
        "14-10",
        "14-11",
        "14-12",
        "14-13",
        "14-14",
        "14-19",
        "14-20",
        "14-7",
        "14-8",
        "14-9",
        "15-1",
        "15-19",
        "15-6",
        "16-1",
        "16-16",
        "16-19",
        "16-20",
        "17-10",
        "17-11",
        "18-1",
        "18-10",
        "18-11",
        "18-12",
        "18-13",
        "18-14",
        "18-15",
        "18-16",
        "18-17",
        "18-19",
        "18-2",
        "18-20",
        "18-4",
        "18-5",
        "18-7",
        "18-8",
        "18-9",
        "19-1",
        "19-10",
        "19-11",
        "19-12",
        "19-13",
        "19-14",
        "19-15",
        "19-19",
        "19-2",
        "19-20",
        "19-3",
        "19-4",
        "19-6",
        "19-7",
        "19-8",
        "19-9",
        "2-1",
        "2-13",
        "2-15",
        "2-3",
        "2-4",
        "2-5",
        "2-6",
        "2-7",
        "2-8",
        "20-1",
        "20-12",
        "20-14",
        "20-15",
        "20-16",
        "20-18",
        "20-19",
        "20-20",
        "20-3",
        "20-4",
        "20-5",
        "20-7",
        "20-8",
        "3-1",
        "3-13",
        "3-18",
        "3-2",
        "3-8",
        "4-1",
        "4-10",
        "4-11",
        "5-1",
        "5-5",
        "6-1",
        "6-15",
        "6-6",
        "7-10",
        "7-11",
        "7-12",
        "7-13",
        "7-14",
        "7-7",
        "7-8",
        "7-9",
        "8-1",
        "8-13",
        "8-14",
        "8-18",
        "8-20",
        "8-3",
        "8-8",
        "9-1",
        "9-7"
       ],
       "num_examples_per_domain_per_label": 100,
       "pickle_path": "/mnt/wd500GB/CSC500/csc500-main/datasets/wisig.node3-19.stratified_ds.2022A.pkl",
       "source_or_target_dataset": "target",
       "x_transforms": [
        "unit_power",
        "jitter_256_1",
        "take_200"
       ]
      },
      {
       "domain_prefix": "ORACLE.run1_",
       "domains": [
        32,
        38,
        8,
        44,
        14,
        50,
        20,
        26
       ],
       "episode_transforms": [],
       "labels": [
        "3123D52",
        "3123D65",
        "3123D79",
        "3123D80",
        "3123D54",
        "3123D70",
        "3123D7B",
        "3123D89",
        "3123D58",
        "3123D76",
        "3123D7D",
        "3123EFE",
        "3123D64",
        "3123D78",
        "3123D7E",
        "3124E4A"
       ],
       "num_examples_per_domain_per_label": 2000,
       "pickle_path": "/mnt/wd500GB/CSC500/csc500-main/datasets/oracle.Run1_framed_2000Examples_stratified_ds.2022A.pkl",
       "source_or_target_dataset": "source",
       "x_transforms": [
        "unit_power",
        "jitter_256_1",
        "take_200",
        "resample_20Msps_to_25Msps"
       ]
      }
     ],
     "device": "cuda",
     "experiment_name": "tl_3-jitter1:oracle.run1.framed -> cores+wisig",
     "lr": 0.001,
     "n_epoch": 50,
     "n_query": 2,
     "n_shot": 3,
     "n_way": 16,
     "patience": 3,
     "seed": 1337,
     "test_k_factor": 2,
     "torch_default_dtype": "torch.float32",
     "train_k_factor": 3,
     "val_k_factor": 2,
     "x_net": [
      {
       "class": "nnReshape",
       "kargs": {
        "shape": [
         -1,
         1,
         2,
         256
        ]
       }
      },
      {
       "class": "Conv2d",
       "kargs": {
        "bias": false,
        "in_channels": 1,
        "kernel_size": [
         1,
         7
        ],
        "out_channels": 256,
        "padding": [
         0,
         3
        ]
       }
      },
      {
       "class": "ReLU",
       "kargs": {
        "inplace": true
       }
      },
      {
       "class": "BatchNorm2d",
       "kargs": {
        "num_features": 256
       }
      },
      {
       "class": "Conv2d",
       "kargs": {
        "bias": true,
        "in_channels": 256,
        "kernel_size": [
         2,
         7
        ],
        "out_channels": 80,
        "padding": [
         0,
         3
        ]
       }
      },
      {
       "class": "ReLU",
       "kargs": {
        "inplace": true
       }
      },
      {
       "class": "BatchNorm2d",
       "kargs": {
        "num_features": 80
       }
      },
      {
       "class": "Flatten",
       "kargs": {}
      },
      {
       "class": "Linear",
       "kargs": {
        "in_features": 20480,
        "out_features": 256
       }
      },
      {
       "class": "ReLU",
       "kargs": {
        "inplace": true
       }
      },
      {
       "class": "BatchNorm1d",
       "kargs": {
        "num_features": 256
       }
      },
      {
       "class": "Linear",
       "kargs": {
        "in_features": 256,
        "out_features": 256
       }
      }
     ]
    }
   },
   "start_time": "2022-03-18T09:45:45.914505",
   "version": "2.3.4"
  }
 },
 "nbformat": 4,
 "nbformat_minor": 5
}