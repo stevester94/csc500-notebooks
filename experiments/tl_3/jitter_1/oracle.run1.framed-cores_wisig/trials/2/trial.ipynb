{
 "cells": [
  {
   "cell_type": "markdown",
   "id": "9fea5f46",
   "metadata": {
    "papermill": {
     "duration": 0.018166,
     "end_time": "2022-03-18T10:31:52.207258",
     "exception": false,
     "start_time": "2022-03-18T10:31:52.189092",
     "status": "completed"
    },
    "tags": []
   },
   "source": [
    "# Transfer Learning Template"
   ]
  },
  {
   "cell_type": "code",
   "execution_count": 1,
   "id": "0902182a",
   "metadata": {
    "execution": {
     "iopub.execute_input": "2022-03-18T10:31:52.247580Z",
     "iopub.status.busy": "2022-03-18T10:31:52.247165Z",
     "iopub.status.idle": "2022-03-18T10:31:53.141339Z",
     "shell.execute_reply": "2022-03-18T10:31:53.141047Z"
    },
    "papermill": {
     "duration": 0.92124,
     "end_time": "2022-03-18T10:31:53.141407",
     "exception": false,
     "start_time": "2022-03-18T10:31:52.220167",
     "status": "completed"
    },
    "tags": []
   },
   "outputs": [],
   "source": [
    "%load_ext autoreload\n",
    "%autoreload 2\n",
    "%matplotlib inline\n",
    "\n",
    "    \n",
    "import os, json, sys, time, random\n",
    "import numpy as np\n",
    "import torch\n",
    "from torch.optim import Adam\n",
    "from  easydict import EasyDict\n",
    "import matplotlib.pyplot as plt\n",
    "\n",
    "from steves_models.steves_ptn import Steves_Prototypical_Network\n",
    "\n",
    "from steves_utils.lazy_iterable_wrapper import Lazy_Iterable_Wrapper\n",
    "from steves_utils.iterable_aggregator import Iterable_Aggregator\n",
    "from steves_utils.ptn_train_eval_test_jig import  PTN_Train_Eval_Test_Jig\n",
    "from steves_utils.torch_sequential_builder import build_sequential\n",
    "from steves_utils.torch_utils import get_dataset_metrics, ptn_confusion_by_domain_over_dataloader\n",
    "from steves_utils.utils_v2 import (per_domain_accuracy_from_confusion, get_datasets_base_path)\n",
    "from steves_utils.PTN.utils import independent_accuracy_assesment\n",
    "\n",
    "from torch.utils.data import DataLoader\n",
    "\n",
    "from steves_utils.stratified_dataset.episodic_accessor import Episodic_Accessor_Factory\n",
    "\n",
    "from steves_utils.ptn_do_report import (\n",
    "    get_loss_curve,\n",
    "    get_results_table,\n",
    "    get_parameters_table,\n",
    "    get_domain_accuracies,\n",
    ")\n",
    "\n",
    "from steves_utils.transforms import get_chained_transform"
   ]
  },
  {
   "cell_type": "markdown",
   "id": "41c840b4",
   "metadata": {
    "papermill": {
     "duration": 0.012776,
     "end_time": "2022-03-18T10:31:53.167534",
     "exception": false,
     "start_time": "2022-03-18T10:31:53.154758",
     "status": "completed"
    },
    "tags": []
   },
   "source": [
    "# Allowed Parameters\n",
    "These are allowed parameters, not defaults\n",
    "Each of these values need to be present in the injected parameters (the notebook will raise an exception if they are not present)\n",
    "\n",
    "Papermill uses the cell tag \"parameters\" to inject the real parameters below this cell.\n",
    "Enable tags to see what I mean"
   ]
  },
  {
   "cell_type": "code",
   "execution_count": 2,
   "id": "fd44eb83",
   "metadata": {
    "execution": {
     "iopub.execute_input": "2022-03-18T10:31:53.199222Z",
     "iopub.status.busy": "2022-03-18T10:31:53.196224Z",
     "iopub.status.idle": "2022-03-18T10:31:53.211663Z",
     "shell.execute_reply": "2022-03-18T10:31:53.211142Z"
    },
    "papermill": {
     "duration": 0.031336,
     "end_time": "2022-03-18T10:31:53.211763",
     "exception": false,
     "start_time": "2022-03-18T10:31:53.180427",
     "status": "completed"
    },
    "tags": []
   },
   "outputs": [],
   "source": [
    "required_parameters = {\n",
    "    \"experiment_name\",\n",
    "    \"lr\",\n",
    "    \"device\",\n",
    "    \"seed\",\n",
    "    \"dataset_seed\",\n",
    "    \"n_shot\",\n",
    "    \"n_query\",\n",
    "    \"n_way\",\n",
    "    \"train_k_factor\",\n",
    "    \"val_k_factor\",\n",
    "    \"test_k_factor\",\n",
    "    \"n_epoch\",\n",
    "    \"patience\",\n",
    "    \"criteria_for_best\",\n",
    "    \"x_net\",\n",
    "    \"datasets\",\n",
    "    \"torch_default_dtype\",\n",
    "    \"NUM_LOGS_PER_EPOCH\",\n",
    "    \"BEST_MODEL_PATH\",\n",
    "    \"x_shape\",\n",
    "}"
   ]
  },
  {
   "cell_type": "code",
   "execution_count": 3,
   "id": "fa3f0049",
   "metadata": {
    "execution": {
     "iopub.execute_input": "2022-03-18T10:31:53.252287Z",
     "iopub.status.busy": "2022-03-18T10:31:53.252005Z",
     "iopub.status.idle": "2022-03-18T10:31:53.266510Z",
     "shell.execute_reply": "2022-03-18T10:31:53.266074Z"
    },
    "papermill": {
     "duration": 0.035702,
     "end_time": "2022-03-18T10:31:53.266615",
     "exception": false,
     "start_time": "2022-03-18T10:31:53.230913",
     "status": "completed"
    },
    "tags": [
     "parameters"
    ]
   },
   "outputs": [],
   "source": [
    "from steves_utils.CORES.utils import (\n",
    "    ALL_NODES,\n",
    "    ALL_NODES_MINIMUM_1000_EXAMPLES,\n",
    "    ALL_DAYS\n",
    ")\n",
    "\n",
    "from steves_utils.ORACLE.utils_v2 import (\n",
    "    ALL_DISTANCES_FEET_NARROWED,\n",
    "    ALL_RUNS,\n",
    "    ALL_SERIAL_NUMBERS,\n",
    ")\n",
    "\n",
    "standalone_parameters = {}\n",
    "standalone_parameters[\"experiment_name\"] = \"STANDALONE PTN\"\n",
    "standalone_parameters[\"lr\"] = 0.001\n",
    "standalone_parameters[\"device\"] = \"cuda\"\n",
    "\n",
    "standalone_parameters[\"seed\"] = 1337\n",
    "standalone_parameters[\"dataset_seed\"] = 1337\n",
    "\n",
    "standalone_parameters[\"n_way\"] = 8\n",
    "standalone_parameters[\"n_shot\"] = 3\n",
    "standalone_parameters[\"n_query\"]  = 2\n",
    "standalone_parameters[\"train_k_factor\"] = 1\n",
    "standalone_parameters[\"val_k_factor\"] = 2\n",
    "standalone_parameters[\"test_k_factor\"] = 2\n",
    "\n",
    "\n",
    "standalone_parameters[\"n_epoch\"] = 50\n",
    "\n",
    "standalone_parameters[\"patience\"] = 10\n",
    "standalone_parameters[\"criteria_for_best\"] = \"source_loss\"\n",
    "\n",
    "standalone_parameters[\"datasets\"] = [\n",
    "    {\n",
    "        \"labels\": ALL_SERIAL_NUMBERS,\n",
    "        \"domains\": ALL_DISTANCES_FEET_NARROWED,\n",
    "        \"num_examples_per_domain_per_label\": 100,\n",
    "        \"pickle_path\": os.path.join(get_datasets_base_path(), \"oracle.Run1_framed_2000Examples_stratified_ds.2022A.pkl\"),\n",
    "        \"source_or_target_dataset\": \"source\",\n",
    "        \"x_transforms\": [\"unit_mag\", \"minus_two\"],\n",
    "        \"episode_transforms\": [],\n",
    "        \"domain_prefix\": \"ORACLE_\"\n",
    "    },\n",
    "    {\n",
    "        \"labels\": ALL_NODES,\n",
    "        \"domains\": ALL_DAYS,\n",
    "        \"num_examples_per_domain_per_label\": 100,\n",
    "        \"pickle_path\": os.path.join(get_datasets_base_path(), \"cores.stratified_ds.2022A.pkl\"),\n",
    "        \"source_or_target_dataset\": \"target\",\n",
    "        \"x_transforms\": [\"unit_power\", \"times_zero\"],\n",
    "        \"episode_transforms\": [],\n",
    "        \"domain_prefix\": \"CORES_\"\n",
    "    }   \n",
    "]\n",
    "\n",
    "standalone_parameters[\"torch_default_dtype\"] = \"torch.float32\" \n",
    "\n",
    "\n",
    "\n",
    "standalone_parameters[\"x_net\"] =     [\n",
    "    {\"class\": \"nnReshape\", \"kargs\": {\"shape\":[-1, 1, 2, 256]}},\n",
    "    {\"class\": \"Conv2d\", \"kargs\": { \"in_channels\":1, \"out_channels\":256, \"kernel_size\":(1,7), \"bias\":False, \"padding\":(0,3), },},\n",
    "    {\"class\": \"ReLU\", \"kargs\": {\"inplace\": True}},\n",
    "    {\"class\": \"BatchNorm2d\", \"kargs\": {\"num_features\":256}},\n",
    "\n",
    "    {\"class\": \"Conv2d\", \"kargs\": { \"in_channels\":256, \"out_channels\":80, \"kernel_size\":(2,7), \"bias\":True, \"padding\":(0,3), },},\n",
    "    {\"class\": \"ReLU\", \"kargs\": {\"inplace\": True}},\n",
    "    {\"class\": \"BatchNorm2d\", \"kargs\": {\"num_features\":80}},\n",
    "    {\"class\": \"Flatten\", \"kargs\": {}},\n",
    "\n",
    "    {\"class\": \"Linear\", \"kargs\": {\"in_features\": 80*256, \"out_features\": 256}}, # 80 units per IQ pair\n",
    "    {\"class\": \"ReLU\", \"kargs\": {\"inplace\": True}},\n",
    "    {\"class\": \"BatchNorm1d\", \"kargs\": {\"num_features\":256}},\n",
    "\n",
    "    {\"class\": \"Linear\", \"kargs\": {\"in_features\": 256, \"out_features\": 256}},\n",
    "]\n",
    "\n",
    "# Parameters relevant to results\n",
    "# These parameters will basically never need to change\n",
    "standalone_parameters[\"NUM_LOGS_PER_EPOCH\"] = 10\n",
    "standalone_parameters[\"BEST_MODEL_PATH\"] = \"./best_model.pth\"\n",
    "\n",
    "\n",
    "\n",
    "\n"
   ]
  },
  {
   "cell_type": "code",
   "execution_count": 4,
   "id": "b30c0ce9",
   "metadata": {
    "execution": {
     "iopub.execute_input": "2022-03-18T10:31:53.311552Z",
     "iopub.status.busy": "2022-03-18T10:31:53.306029Z",
     "iopub.status.idle": "2022-03-18T10:31:53.327860Z",
     "shell.execute_reply": "2022-03-18T10:31:53.327368Z"
    },
    "papermill": {
     "duration": 0.041814,
     "end_time": "2022-03-18T10:31:53.327964",
     "exception": false,
     "start_time": "2022-03-18T10:31:53.286150",
     "status": "completed"
    },
    "tags": [
     "injected-parameters"
    ]
   },
   "outputs": [],
   "source": [
    "# Parameters\n",
    "parameters = {\n",
    "    \"experiment_name\": \"tl_3-jitter1:oracle.run1.framed -> cores+wisig\",\n",
    "    \"device\": \"cuda\",\n",
    "    \"lr\": 0.001,\n",
    "    \"seed\": 1337,\n",
    "    \"dataset_seed\": 1337,\n",
    "    \"n_shot\": 3,\n",
    "    \"n_query\": 2,\n",
    "    \"train_k_factor\": 3,\n",
    "    \"val_k_factor\": 2,\n",
    "    \"test_k_factor\": 2,\n",
    "    \"torch_default_dtype\": \"torch.float32\",\n",
    "    \"n_epoch\": 50,\n",
    "    \"patience\": 3,\n",
    "    \"criteria_for_best\": \"target_loss\",\n",
    "    \"x_net\": [\n",
    "        {\"class\": \"nnReshape\", \"kargs\": {\"shape\": [-1, 1, 2, 256]}},\n",
    "        {\n",
    "            \"class\": \"Conv2d\",\n",
    "            \"kargs\": {\n",
    "                \"in_channels\": 1,\n",
    "                \"out_channels\": 256,\n",
    "                \"kernel_size\": [1, 7],\n",
    "                \"bias\": False,\n",
    "                \"padding\": [0, 3],\n",
    "            },\n",
    "        },\n",
    "        {\"class\": \"ReLU\", \"kargs\": {\"inplace\": True}},\n",
    "        {\"class\": \"BatchNorm2d\", \"kargs\": {\"num_features\": 256}},\n",
    "        {\n",
    "            \"class\": \"Conv2d\",\n",
    "            \"kargs\": {\n",
    "                \"in_channels\": 256,\n",
    "                \"out_channels\": 80,\n",
    "                \"kernel_size\": [2, 7],\n",
    "                \"bias\": True,\n",
    "                \"padding\": [0, 3],\n",
    "            },\n",
    "        },\n",
    "        {\"class\": \"ReLU\", \"kargs\": {\"inplace\": True}},\n",
    "        {\"class\": \"BatchNorm2d\", \"kargs\": {\"num_features\": 80}},\n",
    "        {\"class\": \"Flatten\", \"kargs\": {}},\n",
    "        {\"class\": \"Linear\", \"kargs\": {\"in_features\": 20480, \"out_features\": 256}},\n",
    "        {\"class\": \"ReLU\", \"kargs\": {\"inplace\": True}},\n",
    "        {\"class\": \"BatchNorm1d\", \"kargs\": {\"num_features\": 256}},\n",
    "        {\"class\": \"Linear\", \"kargs\": {\"in_features\": 256, \"out_features\": 256}},\n",
    "    ],\n",
    "    \"NUM_LOGS_PER_EPOCH\": 10,\n",
    "    \"BEST_MODEL_PATH\": \"./best_model.pth\",\n",
    "    \"n_way\": 16,\n",
    "    \"datasets\": [\n",
    "        {\n",
    "            \"labels\": [\n",
    "                \"1-10.\",\n",
    "                \"1-11.\",\n",
    "                \"1-15.\",\n",
    "                \"1-16.\",\n",
    "                \"1-17.\",\n",
    "                \"1-18.\",\n",
    "                \"1-19.\",\n",
    "                \"10-4.\",\n",
    "                \"10-7.\",\n",
    "                \"11-1.\",\n",
    "                \"11-14.\",\n",
    "                \"11-17.\",\n",
    "                \"11-20.\",\n",
    "                \"11-7.\",\n",
    "                \"13-20.\",\n",
    "                \"13-8.\",\n",
    "                \"14-10.\",\n",
    "                \"14-11.\",\n",
    "                \"14-14.\",\n",
    "                \"14-7.\",\n",
    "                \"15-1.\",\n",
    "                \"15-20.\",\n",
    "                \"16-1.\",\n",
    "                \"16-16.\",\n",
    "                \"17-10.\",\n",
    "                \"17-11.\",\n",
    "                \"17-2.\",\n",
    "                \"19-1.\",\n",
    "                \"19-16.\",\n",
    "                \"19-19.\",\n",
    "                \"19-20.\",\n",
    "                \"19-3.\",\n",
    "                \"2-10.\",\n",
    "                \"2-11.\",\n",
    "                \"2-17.\",\n",
    "                \"2-18.\",\n",
    "                \"2-20.\",\n",
    "                \"2-3.\",\n",
    "                \"2-4.\",\n",
    "                \"2-5.\",\n",
    "                \"2-6.\",\n",
    "                \"2-7.\",\n",
    "                \"2-8.\",\n",
    "                \"3-13.\",\n",
    "                \"3-18.\",\n",
    "                \"3-3.\",\n",
    "                \"4-1.\",\n",
    "                \"4-10.\",\n",
    "                \"4-11.\",\n",
    "                \"4-19.\",\n",
    "                \"5-5.\",\n",
    "                \"6-15.\",\n",
    "                \"7-10.\",\n",
    "                \"7-14.\",\n",
    "                \"8-18.\",\n",
    "                \"8-20.\",\n",
    "                \"8-3.\",\n",
    "                \"8-8.\",\n",
    "            ],\n",
    "            \"domains\": [1, 2, 3, 4, 5],\n",
    "            \"num_examples_per_domain_per_label\": 100,\n",
    "            \"pickle_path\": \"/mnt/wd500GB/CSC500/csc500-main/datasets/cores.stratified_ds.2022A.pkl\",\n",
    "            \"source_or_target_dataset\": \"target\",\n",
    "            \"x_transforms\": [\"jitter_256_1\", \"take_200\"],\n",
    "            \"episode_transforms\": [],\n",
    "            \"domain_prefix\": \"C_A_\",\n",
    "        },\n",
    "        {\n",
    "            \"labels\": [\n",
    "                \"1-10\",\n",
    "                \"1-12\",\n",
    "                \"1-14\",\n",
    "                \"1-16\",\n",
    "                \"1-18\",\n",
    "                \"1-19\",\n",
    "                \"1-8\",\n",
    "                \"10-11\",\n",
    "                \"10-17\",\n",
    "                \"10-4\",\n",
    "                \"10-7\",\n",
    "                \"11-1\",\n",
    "                \"11-10\",\n",
    "                \"11-19\",\n",
    "                \"11-20\",\n",
    "                \"11-4\",\n",
    "                \"11-7\",\n",
    "                \"12-19\",\n",
    "                \"12-20\",\n",
    "                \"12-7\",\n",
    "                \"13-14\",\n",
    "                \"13-18\",\n",
    "                \"13-19\",\n",
    "                \"13-20\",\n",
    "                \"13-3\",\n",
    "                \"13-7\",\n",
    "                \"14-10\",\n",
    "                \"14-11\",\n",
    "                \"14-12\",\n",
    "                \"14-13\",\n",
    "                \"14-14\",\n",
    "                \"14-19\",\n",
    "                \"14-20\",\n",
    "                \"14-7\",\n",
    "                \"14-8\",\n",
    "                \"14-9\",\n",
    "                \"15-1\",\n",
    "                \"15-19\",\n",
    "                \"15-6\",\n",
    "                \"16-1\",\n",
    "                \"16-16\",\n",
    "                \"16-19\",\n",
    "                \"16-20\",\n",
    "                \"17-10\",\n",
    "                \"17-11\",\n",
    "                \"18-1\",\n",
    "                \"18-10\",\n",
    "                \"18-11\",\n",
    "                \"18-12\",\n",
    "                \"18-13\",\n",
    "                \"18-14\",\n",
    "                \"18-15\",\n",
    "                \"18-16\",\n",
    "                \"18-17\",\n",
    "                \"18-19\",\n",
    "                \"18-2\",\n",
    "                \"18-20\",\n",
    "                \"18-4\",\n",
    "                \"18-5\",\n",
    "                \"18-7\",\n",
    "                \"18-8\",\n",
    "                \"18-9\",\n",
    "                \"19-1\",\n",
    "                \"19-10\",\n",
    "                \"19-11\",\n",
    "                \"19-12\",\n",
    "                \"19-13\",\n",
    "                \"19-14\",\n",
    "                \"19-15\",\n",
    "                \"19-19\",\n",
    "                \"19-2\",\n",
    "                \"19-20\",\n",
    "                \"19-3\",\n",
    "                \"19-4\",\n",
    "                \"19-6\",\n",
    "                \"19-7\",\n",
    "                \"19-8\",\n",
    "                \"19-9\",\n",
    "                \"2-1\",\n",
    "                \"2-13\",\n",
    "                \"2-15\",\n",
    "                \"2-3\",\n",
    "                \"2-4\",\n",
    "                \"2-5\",\n",
    "                \"2-6\",\n",
    "                \"2-7\",\n",
    "                \"2-8\",\n",
    "                \"20-1\",\n",
    "                \"20-12\",\n",
    "                \"20-14\",\n",
    "                \"20-15\",\n",
    "                \"20-16\",\n",
    "                \"20-18\",\n",
    "                \"20-19\",\n",
    "                \"20-20\",\n",
    "                \"20-3\",\n",
    "                \"20-4\",\n",
    "                \"20-5\",\n",
    "                \"20-7\",\n",
    "                \"20-8\",\n",
    "                \"3-1\",\n",
    "                \"3-13\",\n",
    "                \"3-18\",\n",
    "                \"3-2\",\n",
    "                \"3-8\",\n",
    "                \"4-1\",\n",
    "                \"4-10\",\n",
    "                \"4-11\",\n",
    "                \"5-1\",\n",
    "                \"5-5\",\n",
    "                \"6-1\",\n",
    "                \"6-15\",\n",
    "                \"6-6\",\n",
    "                \"7-10\",\n",
    "                \"7-11\",\n",
    "                \"7-12\",\n",
    "                \"7-13\",\n",
    "                \"7-14\",\n",
    "                \"7-7\",\n",
    "                \"7-8\",\n",
    "                \"7-9\",\n",
    "                \"8-1\",\n",
    "                \"8-13\",\n",
    "                \"8-14\",\n",
    "                \"8-18\",\n",
    "                \"8-20\",\n",
    "                \"8-3\",\n",
    "                \"8-8\",\n",
    "                \"9-1\",\n",
    "                \"9-7\",\n",
    "            ],\n",
    "            \"domains\": [1, 2, 3, 4],\n",
    "            \"num_examples_per_domain_per_label\": 100,\n",
    "            \"pickle_path\": \"/mnt/wd500GB/CSC500/csc500-main/datasets/wisig.node3-19.stratified_ds.2022A.pkl\",\n",
    "            \"source_or_target_dataset\": \"target\",\n",
    "            \"x_transforms\": [\"jitter_256_1\", \"take_200\"],\n",
    "            \"episode_transforms\": [],\n",
    "            \"domain_prefix\": \"W_A_\",\n",
    "        },\n",
    "        {\n",
    "            \"labels\": [\n",
    "                \"3123D52\",\n",
    "                \"3123D65\",\n",
    "                \"3123D79\",\n",
    "                \"3123D80\",\n",
    "                \"3123D54\",\n",
    "                \"3123D70\",\n",
    "                \"3123D7B\",\n",
    "                \"3123D89\",\n",
    "                \"3123D58\",\n",
    "                \"3123D76\",\n",
    "                \"3123D7D\",\n",
    "                \"3123EFE\",\n",
    "                \"3123D64\",\n",
    "                \"3123D78\",\n",
    "                \"3123D7E\",\n",
    "                \"3124E4A\",\n",
    "            ],\n",
    "            \"domains\": [32, 38, 8, 44, 14, 50, 20, 26],\n",
    "            \"num_examples_per_domain_per_label\": 2000,\n",
    "            \"pickle_path\": \"/mnt/wd500GB/CSC500/csc500-main/datasets/oracle.Run1_framed_2000Examples_stratified_ds.2022A.pkl\",\n",
    "            \"source_or_target_dataset\": \"source\",\n",
    "            \"x_transforms\": [\"jitter_256_1\", \"take_200\", \"resample_20Msps_to_25Msps\"],\n",
    "            \"episode_transforms\": [],\n",
    "            \"domain_prefix\": \"ORACLE.run1_\",\n",
    "        },\n",
    "    ],\n",
    "}\n"
   ]
  },
  {
   "cell_type": "code",
   "execution_count": 5,
   "id": "8fa1cc33",
   "metadata": {
    "execution": {
     "iopub.execute_input": "2022-03-18T10:31:53.362906Z",
     "iopub.status.busy": "2022-03-18T10:31:53.362647Z",
     "iopub.status.idle": "2022-03-18T10:31:53.374141Z",
     "shell.execute_reply": "2022-03-18T10:31:53.373760Z"
    },
    "papermill": {
     "duration": 0.027028,
     "end_time": "2022-03-18T10:31:53.374220",
     "exception": false,
     "start_time": "2022-03-18T10:31:53.347192",
     "status": "completed"
    },
    "tags": []
   },
   "outputs": [],
   "source": [
    "# Set this to True if you want to run this template directly\n",
    "STANDALONE = False\n",
    "if STANDALONE:\n",
    "    print(\"parameters not injected, running with standalone_parameters\")\n",
    "    parameters = standalone_parameters\n",
    "\n",
    "if not 'parameters' in locals() and not 'parameters' in globals():\n",
    "    raise Exception(\"Parameter injection failed\")\n",
    "\n",
    "#Use an easy dict for all the parameters\n",
    "p = EasyDict(parameters)\n",
    "\n",
    "if \"x_shape\" not in p:\n",
    "    p.x_shape = [2,256] # Default to this if we dont supply x_shape\n",
    "\n",
    "\n",
    "supplied_keys = set(p.keys())\n",
    "\n",
    "if  supplied_keys != required_parameters:\n",
    "    print(\"Parameters are incorrect\")\n",
    "    if len(supplied_keys - required_parameters)>0: print(\"Shouldn't have:\", str(supplied_keys - required_parameters))\n",
    "    if len(required_parameters - supplied_keys)>0: print(\"Need to have:\", str(required_parameters - supplied_keys))\n",
    "    raise RuntimeError(\"Parameters are incorrect\")"
   ]
  },
  {
   "cell_type": "code",
   "execution_count": 6,
   "id": "3a028d58",
   "metadata": {
    "execution": {
     "iopub.execute_input": "2022-03-18T10:31:53.416591Z",
     "iopub.status.busy": "2022-03-18T10:31:53.410282Z",
     "iopub.status.idle": "2022-03-18T10:31:53.423309Z",
     "shell.execute_reply": "2022-03-18T10:31:53.423721Z"
    },
    "papermill": {
     "duration": 0.031476,
     "end_time": "2022-03-18T10:31:53.423842",
     "exception": false,
     "start_time": "2022-03-18T10:31:53.392366",
     "status": "completed"
    },
    "tags": []
   },
   "outputs": [],
   "source": [
    "###################################\n",
    "# Set the RNGs and make it all deterministic\n",
    "###################################\n",
    "np.random.seed(p.seed)\n",
    "random.seed(p.seed)\n",
    "torch.manual_seed(p.seed)\n",
    "\n",
    "torch.use_deterministic_algorithms(True) "
   ]
  },
  {
   "cell_type": "code",
   "execution_count": 7,
   "id": "b691acf6",
   "metadata": {
    "execution": {
     "iopub.execute_input": "2022-03-18T10:31:53.456399Z",
     "iopub.status.busy": "2022-03-18T10:31:53.456144Z",
     "iopub.status.idle": "2022-03-18T10:31:53.471081Z",
     "shell.execute_reply": "2022-03-18T10:31:53.470595Z"
    },
    "papermill": {
     "duration": 0.030016,
     "end_time": "2022-03-18T10:31:53.471181",
     "exception": false,
     "start_time": "2022-03-18T10:31:53.441165",
     "status": "completed"
    },
    "tags": []
   },
   "outputs": [],
   "source": [
    "###########################################\n",
    "# The stratified datasets honor this\n",
    "###########################################\n",
    "torch.set_default_dtype(eval(p.torch_default_dtype))"
   ]
  },
  {
   "cell_type": "code",
   "execution_count": 8,
   "id": "b5fba671",
   "metadata": {
    "execution": {
     "iopub.execute_input": "2022-03-18T10:31:53.507550Z",
     "iopub.status.busy": "2022-03-18T10:31:53.502719Z",
     "iopub.status.idle": "2022-03-18T10:31:53.543756Z",
     "shell.execute_reply": "2022-03-18T10:31:53.543273Z"
    },
    "papermill": {
     "duration": 0.056997,
     "end_time": "2022-03-18T10:31:53.543866",
     "exception": false,
     "start_time": "2022-03-18T10:31:53.486869",
     "status": "completed"
    },
    "tags": []
   },
   "outputs": [],
   "source": [
    "###################################\n",
    "# Build the network(s)\n",
    "# Note: It's critical to do this AFTER setting the RNG\n",
    "###################################\n",
    "x_net = build_sequential(p.x_net)"
   ]
  },
  {
   "cell_type": "code",
   "execution_count": 9,
   "id": "5d7e61cc",
   "metadata": {
    "execution": {
     "iopub.execute_input": "2022-03-18T10:31:53.578357Z",
     "iopub.status.busy": "2022-03-18T10:31:53.578109Z",
     "iopub.status.idle": "2022-03-18T10:31:53.594147Z",
     "shell.execute_reply": "2022-03-18T10:31:53.593716Z"
    },
    "papermill": {
     "duration": 0.031956,
     "end_time": "2022-03-18T10:31:53.594249",
     "exception": false,
     "start_time": "2022-03-18T10:31:53.562293",
     "status": "completed"
    },
    "tags": []
   },
   "outputs": [],
   "source": [
    "start_time_secs = time.time()"
   ]
  },
  {
   "cell_type": "code",
   "execution_count": 10,
   "id": "c6b67dfd",
   "metadata": {
    "execution": {
     "iopub.execute_input": "2022-03-18T10:31:53.633768Z",
     "iopub.status.busy": "2022-03-18T10:31:53.628778Z",
     "iopub.status.idle": "2022-03-18T10:31:53.642710Z",
     "shell.execute_reply": "2022-03-18T10:31:53.643091Z"
    },
    "papermill": {
     "duration": 0.030428,
     "end_time": "2022-03-18T10:31:53.643210",
     "exception": false,
     "start_time": "2022-03-18T10:31:53.612782",
     "status": "completed"
    },
    "tags": []
   },
   "outputs": [],
   "source": [
    "p.domains_source = []\n",
    "p.domains_target = []\n",
    "\n",
    "\n",
    "train_original_source = []\n",
    "val_original_source   = []\n",
    "test_original_source  = []\n",
    "\n",
    "train_original_target = []\n",
    "val_original_target   = []\n",
    "test_original_target  = []"
   ]
  },
  {
   "cell_type": "code",
   "execution_count": 11,
   "id": "e3d9c3d3",
   "metadata": {
    "execution": {
     "iopub.execute_input": "2022-03-18T10:31:53.679890Z",
     "iopub.status.busy": "2022-03-18T10:31:53.679635Z",
     "iopub.status.idle": "2022-03-18T10:31:53.690674Z",
     "shell.execute_reply": "2022-03-18T10:31:53.690231Z"
    },
    "papermill": {
     "duration": 0.025783,
     "end_time": "2022-03-18T10:31:53.690772",
     "exception": false,
     "start_time": "2022-03-18T10:31:53.664989",
     "status": "completed"
    },
    "tags": []
   },
   "outputs": [],
   "source": [
    "# global_x_transform_func = lambda x: normalize(x.to(torch.get_default_dtype()), \"unit_power\") # unit_power, unit_mag\n",
    "# global_x_transform_func = lambda x: normalize(x, \"unit_power\") # unit_power, unit_mag"
   ]
  },
  {
   "cell_type": "code",
   "execution_count": 12,
   "id": "acb78fd2",
   "metadata": {
    "execution": {
     "iopub.execute_input": "2022-03-18T10:31:53.730177Z",
     "iopub.status.busy": "2022-03-18T10:31:53.727355Z",
     "iopub.status.idle": "2022-03-18T10:31:53.741115Z",
     "shell.execute_reply": "2022-03-18T10:31:53.740666Z"
    },
    "papermill": {
     "duration": 0.034301,
     "end_time": "2022-03-18T10:31:53.741215",
     "exception": false,
     "start_time": "2022-03-18T10:31:53.706914",
     "status": "completed"
    },
    "tags": []
   },
   "outputs": [],
   "source": [
    "def add_dataset(\n",
    "    labels,\n",
    "    domains,\n",
    "    pickle_path,\n",
    "    x_transforms,\n",
    "    episode_transforms,\n",
    "    domain_prefix,\n",
    "    num_examples_per_domain_per_label,\n",
    "    source_or_target_dataset:str,\n",
    "    iterator_seed=p.seed,\n",
    "    dataset_seed=p.dataset_seed,\n",
    "    n_shot=p.n_shot,\n",
    "    n_way=p.n_way,\n",
    "    n_query=p.n_query,\n",
    "    train_val_test_k_factors=(p.train_k_factor,p.val_k_factor,p.test_k_factor),\n",
    "):\n",
    "   \n",
    "    if x_transforms == []: x_transform = None\n",
    "    else: x_transform = get_chained_transform(x_transforms)\n",
    "    \n",
    "    if episode_transforms == []: episode_transform = None\n",
    "    else: raise Exception(\"episode_transforms not implemented\")\n",
    "    \n",
    "    episode_transform = lambda tup, _prefix=domain_prefix: (_prefix + str(tup[0]), tup[1])\n",
    "\n",
    "\n",
    "    eaf = Episodic_Accessor_Factory(\n",
    "        labels=labels,\n",
    "        domains=domains,\n",
    "        num_examples_per_domain_per_label=num_examples_per_domain_per_label,\n",
    "        iterator_seed=iterator_seed,\n",
    "        dataset_seed=dataset_seed,\n",
    "        n_shot=n_shot,\n",
    "        n_way=n_way,\n",
    "        n_query=n_query,\n",
    "        train_val_test_k_factors=train_val_test_k_factors,\n",
    "        pickle_path=pickle_path,\n",
    "        x_transform_func=x_transform,\n",
    "    )\n",
    "\n",
    "    train, val, test = eaf.get_train(), eaf.get_val(), eaf.get_test()\n",
    "    train = Lazy_Iterable_Wrapper(train, episode_transform)\n",
    "    val = Lazy_Iterable_Wrapper(val, episode_transform)\n",
    "    test = Lazy_Iterable_Wrapper(test, episode_transform)\n",
    "\n",
    "    if source_or_target_dataset==\"source\":\n",
    "        train_original_source.append(train)\n",
    "        val_original_source.append(val)\n",
    "        test_original_source.append(test)\n",
    "\n",
    "        p.domains_source.extend(\n",
    "            [domain_prefix + str(u) for u in domains]\n",
    "        )\n",
    "    elif source_or_target_dataset==\"target\":\n",
    "        train_original_target.append(train)\n",
    "        val_original_target.append(val)\n",
    "        test_original_target.append(test)\n",
    "        p.domains_target.extend(\n",
    "            [domain_prefix + str(u) for u in domains]\n",
    "        )\n",
    "    else:\n",
    "        raise Exception(f\"invalid source_or_target_dataset: {source_or_target_dataset}\")\n",
    "    "
   ]
  },
  {
   "cell_type": "code",
   "execution_count": 13,
   "id": "fe266617",
   "metadata": {
    "execution": {
     "iopub.execute_input": "2022-03-18T10:31:53.776554Z",
     "iopub.status.busy": "2022-03-18T10:31:53.773479Z",
     "iopub.status.idle": "2022-03-18T10:32:28.319088Z",
     "shell.execute_reply": "2022-03-18T10:32:28.318639Z"
    },
    "papermill": {
     "duration": 34.561295,
     "end_time": "2022-03-18T10:32:28.319195",
     "exception": false,
     "start_time": "2022-03-18T10:31:53.757900",
     "status": "completed"
    },
    "tags": []
   },
   "outputs": [],
   "source": [
    "for ds in p.datasets:\n",
    "    add_dataset(**ds)"
   ]
  },
  {
   "cell_type": "code",
   "execution_count": 14,
   "id": "b90d65ac",
   "metadata": {
    "execution": {
     "iopub.execute_input": "2022-03-18T10:32:28.352820Z",
     "iopub.status.busy": "2022-03-18T10:32:28.352550Z",
     "iopub.status.idle": "2022-03-18T10:32:28.363840Z",
     "shell.execute_reply": "2022-03-18T10:32:28.363579Z"
    },
    "papermill": {
     "duration": 0.02645,
     "end_time": "2022-03-18T10:32:28.363900",
     "exception": false,
     "start_time": "2022-03-18T10:32:28.337450",
     "status": "completed"
    },
    "tags": []
   },
   "outputs": [],
   "source": [
    "# from steves_utils.CORES.utils import (\n",
    "#     ALL_NODES,\n",
    "#     ALL_NODES_MINIMUM_1000_EXAMPLES,\n",
    "#     ALL_DAYS\n",
    "# )\n",
    "\n",
    "# add_dataset(\n",
    "#     labels=ALL_NODES,\n",
    "#     domains = ALL_DAYS,\n",
    "#     num_examples_per_domain_per_label=100,\n",
    "#     pickle_path=os.path.join(get_datasets_base_path(), \"cores.stratified_ds.2022A.pkl\"),\n",
    "#     source_or_target_dataset=\"target\",\n",
    "#     x_transform_func=global_x_transform_func,\n",
    "#     domain_modifier=lambda u: f\"cores_{u}\"\n",
    "# )"
   ]
  },
  {
   "cell_type": "code",
   "execution_count": 15,
   "id": "76db484d",
   "metadata": {
    "execution": {
     "iopub.execute_input": "2022-03-18T10:32:28.398618Z",
     "iopub.status.busy": "2022-03-18T10:32:28.397605Z",
     "iopub.status.idle": "2022-03-18T10:32:28.411021Z",
     "shell.execute_reply": "2022-03-18T10:32:28.410540Z"
    },
    "papermill": {
     "duration": 0.03084,
     "end_time": "2022-03-18T10:32:28.411120",
     "exception": false,
     "start_time": "2022-03-18T10:32:28.380280",
     "status": "completed"
    },
    "tags": []
   },
   "outputs": [],
   "source": [
    "# from steves_utils.ORACLE.utils_v2 import (\n",
    "#     ALL_DISTANCES_FEET,\n",
    "#     ALL_RUNS,\n",
    "#     ALL_SERIAL_NUMBERS,\n",
    "# )\n",
    "\n",
    "\n",
    "# add_dataset(\n",
    "#     labels=ALL_SERIAL_NUMBERS,\n",
    "#     domains = list(set(ALL_DISTANCES_FEET) - {2,62}),\n",
    "#     num_examples_per_domain_per_label=100,\n",
    "#     pickle_path=os.path.join(get_datasets_base_path(), \"oracle.Run2_framed_2000Examples_stratified_ds.2022A.pkl\"),\n",
    "#     source_or_target_dataset=\"source\",\n",
    "#     x_transform_func=global_x_transform_func,\n",
    "#     domain_modifier=lambda u: f\"oracle1_{u}\"\n",
    "# )\n"
   ]
  },
  {
   "cell_type": "code",
   "execution_count": 16,
   "id": "97dea9d2",
   "metadata": {
    "execution": {
     "iopub.execute_input": "2022-03-18T10:32:28.444863Z",
     "iopub.status.busy": "2022-03-18T10:32:28.444605Z",
     "iopub.status.idle": "2022-03-18T10:32:28.455204Z",
     "shell.execute_reply": "2022-03-18T10:32:28.454945Z"
    },
    "papermill": {
     "duration": 0.026021,
     "end_time": "2022-03-18T10:32:28.455267",
     "exception": false,
     "start_time": "2022-03-18T10:32:28.429246",
     "status": "completed"
    },
    "tags": []
   },
   "outputs": [],
   "source": [
    "# from steves_utils.ORACLE.utils_v2 import (\n",
    "#     ALL_DISTANCES_FEET,\n",
    "#     ALL_RUNS,\n",
    "#     ALL_SERIAL_NUMBERS,\n",
    "# )\n",
    "\n",
    "\n",
    "# add_dataset(\n",
    "#     labels=ALL_SERIAL_NUMBERS,\n",
    "#     domains = list(set(ALL_DISTANCES_FEET) - {2,62,56}),\n",
    "#     num_examples_per_domain_per_label=100,\n",
    "#     pickle_path=os.path.join(get_datasets_base_path(), \"oracle.Run2_framed_2000Examples_stratified_ds.2022A.pkl\"),\n",
    "#     source_or_target_dataset=\"source\",\n",
    "#     x_transform_func=global_x_transform_func,\n",
    "#     domain_modifier=lambda u: f\"oracle2_{u}\"\n",
    "# )"
   ]
  },
  {
   "cell_type": "code",
   "execution_count": 17,
   "id": "6f289866",
   "metadata": {
    "execution": {
     "iopub.execute_input": "2022-03-18T10:32:28.488018Z",
     "iopub.status.busy": "2022-03-18T10:32:28.487751Z",
     "iopub.status.idle": "2022-03-18T10:32:28.498688Z",
     "shell.execute_reply": "2022-03-18T10:32:28.498211Z"
    },
    "papermill": {
     "duration": 0.026409,
     "end_time": "2022-03-18T10:32:28.498786",
     "exception": false,
     "start_time": "2022-03-18T10:32:28.472377",
     "status": "completed"
    },
    "tags": []
   },
   "outputs": [],
   "source": [
    "# add_dataset(\n",
    "#     labels=list(range(19)),\n",
    "#     domains = [0,1,2],\n",
    "#     num_examples_per_domain_per_label=100,\n",
    "#     pickle_path=os.path.join(get_datasets_base_path(), \"metehan.stratified_ds.2022A.pkl\"),\n",
    "#     source_or_target_dataset=\"target\",\n",
    "#     x_transform_func=global_x_transform_func,\n",
    "#     domain_modifier=lambda u: f\"met_{u}\"\n",
    "# )"
   ]
  },
  {
   "cell_type": "code",
   "execution_count": 18,
   "id": "86a863c3",
   "metadata": {
    "execution": {
     "iopub.execute_input": "2022-03-18T10:32:28.532871Z",
     "iopub.status.busy": "2022-03-18T10:32:28.532609Z",
     "iopub.status.idle": "2022-03-18T10:32:28.543862Z",
     "shell.execute_reply": "2022-03-18T10:32:28.543376Z"
    },
    "papermill": {
     "duration": 0.026743,
     "end_time": "2022-03-18T10:32:28.543960",
     "exception": false,
     "start_time": "2022-03-18T10:32:28.517217",
     "status": "completed"
    },
    "tags": []
   },
   "outputs": [],
   "source": [
    "# # from steves_utils.wisig.utils import (\n",
    "# #     ALL_NODES_MINIMUM_100_EXAMPLES,\n",
    "# #     ALL_NODES_MINIMUM_500_EXAMPLES,\n",
    "# #     ALL_NODES_MINIMUM_1000_EXAMPLES,\n",
    "# #     ALL_DAYS\n",
    "# # )\n",
    "\n",
    "# import steves_utils.wisig.utils as wisig\n",
    "\n",
    "\n",
    "# add_dataset(\n",
    "#     labels=wisig.ALL_NODES_MINIMUM_100_EXAMPLES,\n",
    "#     domains = wisig.ALL_DAYS,\n",
    "#     num_examples_per_domain_per_label=100,\n",
    "#     pickle_path=os.path.join(get_datasets_base_path(), \"wisig.node3-19.stratified_ds.2022A.pkl\"),\n",
    "#     source_or_target_dataset=\"target\",\n",
    "#     x_transform_func=global_x_transform_func,\n",
    "#     domain_modifier=lambda u: f\"wisig_{u}\"\n",
    "# )"
   ]
  },
  {
   "cell_type": "code",
   "execution_count": 19,
   "id": "fd5442bc",
   "metadata": {
    "execution": {
     "iopub.execute_input": "2022-03-18T10:32:28.579621Z",
     "iopub.status.busy": "2022-03-18T10:32:28.579353Z",
     "iopub.status.idle": "2022-03-18T10:32:28.590932Z",
     "shell.execute_reply": "2022-03-18T10:32:28.590708Z"
    },
    "papermill": {
     "duration": 0.028878,
     "end_time": "2022-03-18T10:32:28.590988",
     "exception": false,
     "start_time": "2022-03-18T10:32:28.562110",
     "status": "completed"
    },
    "tags": []
   },
   "outputs": [],
   "source": [
    "###################################\n",
    "# Build the dataset\n",
    "###################################\n",
    "train_original_source = Iterable_Aggregator(train_original_source, p.seed)\n",
    "val_original_source = Iterable_Aggregator(val_original_source, p.seed)\n",
    "test_original_source = Iterable_Aggregator(test_original_source, p.seed)\n",
    "\n",
    "\n",
    "train_original_target = Iterable_Aggregator(train_original_target, p.seed)\n",
    "val_original_target = Iterable_Aggregator(val_original_target, p.seed)\n",
    "test_original_target = Iterable_Aggregator(test_original_target, p.seed)\n",
    "\n",
    "# For CNN We only use X and Y. And we only train on the source.\n",
    "# Properly form the data using a transform lambda and Lazy_Iterable_Wrapper. Finally wrap them in a dataloader\n",
    "\n",
    "transform_lambda = lambda ex: ex[1] # Original is (<domain>, <episode>) so we strip down to episode only\n",
    "\n",
    "train_processed_source = Lazy_Iterable_Wrapper(train_original_source, transform_lambda)\n",
    "val_processed_source   = Lazy_Iterable_Wrapper(val_original_source, transform_lambda)\n",
    "test_processed_source  = Lazy_Iterable_Wrapper(test_original_source, transform_lambda)\n",
    "\n",
    "train_processed_target = Lazy_Iterable_Wrapper(train_original_target, transform_lambda)\n",
    "val_processed_target   = Lazy_Iterable_Wrapper(val_original_target, transform_lambda)\n",
    "test_processed_target  = Lazy_Iterable_Wrapper(test_original_target, transform_lambda)\n",
    "\n",
    "datasets = EasyDict({\n",
    "    \"source\": {\n",
    "        \"original\": {\"train\":train_original_source, \"val\":val_original_source, \"test\":test_original_source},\n",
    "        \"processed\": {\"train\":train_processed_source, \"val\":val_processed_source, \"test\":test_processed_source}\n",
    "    },\n",
    "    \"target\": {\n",
    "        \"original\": {\"train\":train_original_target, \"val\":val_original_target, \"test\":test_original_target},\n",
    "        \"processed\": {\"train\":train_processed_target, \"val\":val_processed_target, \"test\":test_processed_target}\n",
    "    },\n",
    "})"
   ]
  },
  {
   "cell_type": "code",
   "execution_count": 20,
   "id": "5b3c01fc",
   "metadata": {
    "execution": {
     "iopub.execute_input": "2022-03-18T10:32:28.621945Z",
     "iopub.status.busy": "2022-03-18T10:32:28.621686Z",
     "iopub.status.idle": "2022-03-18T10:32:33.530513Z",
     "shell.execute_reply": "2022-03-18T10:32:33.530016Z"
    },
    "papermill": {
     "duration": 4.9253,
     "end_time": "2022-03-18T10:32:33.530620",
     "exception": false,
     "start_time": "2022-03-18T10:32:28.605320",
     "status": "completed"
    },
    "tags": []
   },
   "outputs": [
    {
     "name": "stdout",
     "output_type": "stream",
     "text": [
      "{'ORACLE.run1_26', 'ORACLE.run1_8', 'ORACLE.run1_32', 'ORACLE.run1_50', 'ORACLE.run1_38', 'ORACLE.run1_14', 'ORACLE.run1_20', 'ORACLE.run1_44'}\n"
     ]
    },
    {
     "name": "stdout",
     "output_type": "stream",
     "text": [
      "{'C_A_5', 'C_A_2', 'W_A_1', 'C_A_4', 'C_A_3', 'W_A_3', 'W_A_2', 'C_A_1', 'W_A_4'}\n"
     ]
    },
    {
     "name": "stdout",
     "output_type": "stream",
     "text": [
      "tensor([[[0., 0., 0.,  ..., 0., 0., 0.],\n",
      "         [0., 0., 0.,  ..., 0., 0., 0.]],\n",
      "\n",
      "        [[0., 0., 0.,  ..., 0., 0., 0.],\n",
      "         [0., 0., 0.,  ..., 0., 0., 0.]],\n",
      "\n",
      "        [[0., 0., 0.,  ..., 0., 0., 0.],\n",
      "         [0., 0., 0.,  ..., 0., 0., 0.]],\n",
      "\n",
      "        ...,\n",
      "\n",
      "        [[0., 0., 0.,  ..., 0., 0., 0.],\n",
      "         [0., 0., 0.,  ..., 0., 0., 0.]],\n",
      "\n",
      "        [[0., 0., 0.,  ..., 0., 0., 0.],\n",
      "         [0., 0., 0.,  ..., 0., 0., 0.]],\n",
      "\n",
      "        [[0., 0., 0.,  ..., 0., 0., 0.],\n",
      "         [0., 0., 0.,  ..., 0., 0., 0.]]])\n"
     ]
    }
   ],
   "source": [
    "from steves_utils.transforms import get_average_magnitude, get_average_power\n",
    "\n",
    "print(set([u for u,_ in val_original_source]))\n",
    "print(set([u for u,_ in val_original_target]))\n",
    "\n",
    "s_x, s_y, q_x, q_y, _ = next(iter(train_processed_source))\n",
    "print(s_x)\n",
    "\n",
    "# for ds in [\n",
    "#     train_processed_source,\n",
    "#     val_processed_source,\n",
    "#     test_processed_source,\n",
    "#     train_processed_target,\n",
    "#     val_processed_target,\n",
    "#     test_processed_target\n",
    "# ]:\n",
    "#     for s_x, s_y, q_x, q_y, _ in ds:\n",
    "#         for X in (s_x, q_x):\n",
    "#             for x in X:\n",
    "#                 assert np.isclose(get_average_magnitude(x.numpy()), 1.0)\n",
    "#                 assert np.isclose(get_average_power(x.numpy()), 1.0)\n",
    "                "
   ]
  },
  {
   "cell_type": "code",
   "execution_count": 21,
   "id": "bbdacba1",
   "metadata": {
    "execution": {
     "iopub.execute_input": "2022-03-18T10:32:33.575756Z",
     "iopub.status.busy": "2022-03-18T10:32:33.575494Z",
     "iopub.status.idle": "2022-03-18T10:32:33.652567Z",
     "shell.execute_reply": "2022-03-18T10:32:33.652273Z"
    },
    "papermill": {
     "duration": 0.097818,
     "end_time": "2022-03-18T10:32:33.652634",
     "exception": false,
     "start_time": "2022-03-18T10:32:33.554816",
     "status": "completed"
    },
    "tags": []
   },
   "outputs": [
    {
     "name": "stdout",
     "output_type": "stream",
     "text": [
      "(2, 256)\n"
     ]
    }
   ],
   "source": [
    "###################################\n",
    "# Build the model\n",
    "###################################\n",
    "# easfsl only wants a tuple for the shape\n",
    "model = Steves_Prototypical_Network(x_net, device=p.device, x_shape=tuple(p.x_shape))\n",
    "optimizer = Adam(params=model.parameters(), lr=p.lr)"
   ]
  },
  {
   "cell_type": "code",
   "execution_count": 22,
   "id": "22b39ac5",
   "metadata": {
    "execution": {
     "iopub.execute_input": "2022-03-18T10:32:33.689045Z",
     "iopub.status.busy": "2022-03-18T10:32:33.688785Z",
     "iopub.status.idle": "2022-03-18T10:50:25.022084Z",
     "shell.execute_reply": "2022-03-18T10:50:25.021855Z"
    },
    "papermill": {
     "duration": 1071.351612,
     "end_time": "2022-03-18T10:50:25.022140",
     "exception": false,
     "start_time": "2022-03-18T10:32:33.670528",
     "status": "completed"
    },
    "tags": []
   },
   "outputs": [
    {
     "name": "stdout",
     "output_type": "stream",
     "text": [
      "epoch: 1, [batch: 1 / 6720], examples_per_second: 49.9724, train_label_loss: 2.7147, \n"
     ]
    },
    {
     "name": "stdout",
     "output_type": "stream",
     "text": [
      "epoch: 1, [batch: 672 / 6720], examples_per_second: 3202.4629, train_label_loss: 0.7151, \n"
     ]
    },
    {
     "name": "stdout",
     "output_type": "stream",
     "text": [
      "epoch: 1, [batch: 1344 / 6720], examples_per_second: 3226.9355, train_label_loss: 0.3585, \n"
     ]
    },
    {
     "name": "stdout",
     "output_type": "stream",
     "text": [
      "epoch: 1, [batch: 2016 / 6720], examples_per_second: 3211.1182, train_label_loss: 0.3643, \n"
     ]
    },
    {
     "name": "stdout",
     "output_type": "stream",
     "text": [
      "epoch: 1, [batch: 2688 / 6720], examples_per_second: 3195.4241, train_label_loss: 0.4199, \n"
     ]
    },
    {
     "name": "stdout",
     "output_type": "stream",
     "text": [
      "epoch: 1, [batch: 3360 / 6720], examples_per_second: 3218.1660, train_label_loss: 0.5623, \n"
     ]
    },
    {
     "name": "stdout",
     "output_type": "stream",
     "text": [
      "epoch: 1, [batch: 4032 / 6720], examples_per_second: 3199.5543, train_label_loss: 0.4674, \n"
     ]
    },
    {
     "name": "stdout",
     "output_type": "stream",
     "text": [
      "epoch: 1, [batch: 4704 / 6720], examples_per_second: 3184.2617, train_label_loss: 0.5301, \n"
     ]
    },
    {
     "name": "stdout",
     "output_type": "stream",
     "text": [
      "epoch: 1, [batch: 5376 / 6720], examples_per_second: 3198.4373, train_label_loss: 0.3206, \n"
     ]
    },
    {
     "name": "stdout",
     "output_type": "stream",
     "text": [
      "epoch: 1, [batch: 6048 / 6720], examples_per_second: 3208.4011, train_label_loss: 0.1199, \n"
     ]
    },
    {
     "name": "stdout",
     "output_type": "stream",
     "text": [
      "=============================================================\n",
      "epoch: 1, source_val_acc_label: 0.6904, target_val_acc_label: 0.6417, source_val_label_loss: 888.6058, target_val_label_loss: 675057.3750, \n",
      "=============================================================\n"
     ]
    },
    {
     "name": "stdout",
     "output_type": "stream",
     "text": [
      "New best\n"
     ]
    },
    {
     "name": "stdout",
     "output_type": "stream",
     "text": [
      "epoch: 2, [batch: 1 / 6720], examples_per_second: 5.5510, train_label_loss: 1437.2222, \n"
     ]
    },
    {
     "name": "stdout",
     "output_type": "stream",
     "text": [
      "epoch: 2, [batch: 672 / 6720], examples_per_second: 3214.1657, train_label_loss: 5.0686, \n"
     ]
    },
    {
     "name": "stdout",
     "output_type": "stream",
     "text": [
      "epoch: 2, [batch: 1344 / 6720], examples_per_second: 3243.1860, train_label_loss: 1.7132, \n"
     ]
    },
    {
     "name": "stdout",
     "output_type": "stream",
     "text": [
      "epoch: 2, [batch: 2016 / 6720], examples_per_second: 3244.2709, train_label_loss: 1.1005, \n"
     ]
    },
    {
     "name": "stdout",
     "output_type": "stream",
     "text": [
      "epoch: 2, [batch: 2688 / 6720], examples_per_second: 3237.6361, train_label_loss: 0.5465, \n"
     ]
    },
    {
     "name": "stdout",
     "output_type": "stream",
     "text": [
      "epoch: 2, [batch: 3360 / 6720], examples_per_second: 3238.2815, train_label_loss: 0.2578, \n"
     ]
    },
    {
     "name": "stdout",
     "output_type": "stream",
     "text": [
      "epoch: 2, [batch: 4032 / 6720], examples_per_second: 3240.4066, train_label_loss: 0.4049, \n"
     ]
    },
    {
     "name": "stdout",
     "output_type": "stream",
     "text": [
      "epoch: 2, [batch: 4704 / 6720], examples_per_second: 3236.5983, train_label_loss: 1.4113, \n"
     ]
    },
    {
     "name": "stdout",
     "output_type": "stream",
     "text": [
      "epoch: 2, [batch: 5376 / 6720], examples_per_second: 3236.8294, train_label_loss: 1.1315, \n"
     ]
    },
    {
     "name": "stdout",
     "output_type": "stream",
     "text": [
      "epoch: 2, [batch: 6048 / 6720], examples_per_second: 3234.5691, train_label_loss: 1.2790, \n"
     ]
    },
    {
     "name": "stdout",
     "output_type": "stream",
     "text": [
      "=============================================================\n",
      "epoch: 2, source_val_acc_label: 0.7753, target_val_acc_label: 0.6774, source_val_label_loss: 0.9233, target_val_label_loss: 91273.0000, \n",
      "=============================================================\n"
     ]
    },
    {
     "name": "stdout",
     "output_type": "stream",
     "text": [
      "New best\n"
     ]
    },
    {
     "name": "stdout",
     "output_type": "stream",
     "text": [
      "epoch: 3, [batch: 1 / 6720], examples_per_second: 5.5550, train_label_loss: 0.8595, \n"
     ]
    },
    {
     "name": "stdout",
     "output_type": "stream",
     "text": [
      "epoch: 3, [batch: 672 / 6720], examples_per_second: 3236.8574, train_label_loss: 0.7167, \n"
     ]
    },
    {
     "name": "stdout",
     "output_type": "stream",
     "text": [
      "epoch: 3, [batch: 1344 / 6720], examples_per_second: 3237.6853, train_label_loss: 0.5061, \n"
     ]
    },
    {
     "name": "stdout",
     "output_type": "stream",
     "text": [
      "epoch: 3, [batch: 2016 / 6720], examples_per_second: 3239.5735, train_label_loss: 0.6588, \n"
     ]
    },
    {
     "name": "stdout",
     "output_type": "stream",
     "text": [
      "epoch: 3, [batch: 2688 / 6720], examples_per_second: 3221.9834, train_label_loss: 0.3652, \n"
     ]
    },
    {
     "name": "stdout",
     "output_type": "stream",
     "text": [
      "epoch: 3, [batch: 3360 / 6720], examples_per_second: 3239.7763, train_label_loss: 0.6137, \n"
     ]
    },
    {
     "name": "stdout",
     "output_type": "stream",
     "text": [
      "epoch: 3, [batch: 4032 / 6720], examples_per_second: 3230.4215, train_label_loss: 0.2570, \n"
     ]
    },
    {
     "name": "stdout",
     "output_type": "stream",
     "text": [
      "epoch: 3, [batch: 4704 / 6720], examples_per_second: 3226.4901, train_label_loss: 0.3432, \n"
     ]
    },
    {
     "name": "stdout",
     "output_type": "stream",
     "text": [
      "epoch: 3, [batch: 5376 / 6720], examples_per_second: 3235.4986, train_label_loss: 0.2900, \n"
     ]
    },
    {
     "name": "stdout",
     "output_type": "stream",
     "text": [
      "epoch: 3, [batch: 6048 / 6720], examples_per_second: 3236.4016, train_label_loss: 0.5147, \n"
     ]
    },
    {
     "name": "stdout",
     "output_type": "stream",
     "text": [
      "=============================================================\n",
      "epoch: 3, source_val_acc_label: 0.8446, target_val_acc_label: 0.6268, source_val_label_loss: 0.4362, target_val_label_loss: 117897.4062, \n",
      "=============================================================\n"
     ]
    },
    {
     "name": "stdout",
     "output_type": "stream",
     "text": [
      "epoch: 4, [batch: 1 / 6720], examples_per_second: 5.5754, train_label_loss: 0.1848, \n"
     ]
    },
    {
     "name": "stdout",
     "output_type": "stream",
     "text": [
      "epoch: 4, [batch: 672 / 6720], examples_per_second: 3224.1161, train_label_loss: 0.1866, \n"
     ]
    },
    {
     "name": "stdout",
     "output_type": "stream",
     "text": [
      "epoch: 4, [batch: 1344 / 6720], examples_per_second: 3247.7578, train_label_loss: 0.4989, \n"
     ]
    },
    {
     "name": "stdout",
     "output_type": "stream",
     "text": [
      "epoch: 4, [batch: 2016 / 6720], examples_per_second: 3252.9956, train_label_loss: 0.4600, \n"
     ]
    },
    {
     "name": "stdout",
     "output_type": "stream",
     "text": [
      "epoch: 4, [batch: 2688 / 6720], examples_per_second: 3226.3789, train_label_loss: 0.4062, \n"
     ]
    },
    {
     "name": "stdout",
     "output_type": "stream",
     "text": [
      "epoch: 4, [batch: 3360 / 6720], examples_per_second: 3237.8978, train_label_loss: 0.2469, \n"
     ]
    },
    {
     "name": "stdout",
     "output_type": "stream",
     "text": [
      "epoch: 4, [batch: 4032 / 6720], examples_per_second: 3247.8475, train_label_loss: 0.4616, \n"
     ]
    },
    {
     "name": "stdout",
     "output_type": "stream",
     "text": [
      "epoch: 4, [batch: 4704 / 6720], examples_per_second: 3212.7464, train_label_loss: 0.2711, \n"
     ]
    },
    {
     "name": "stdout",
     "output_type": "stream",
     "text": [
      "epoch: 4, [batch: 5376 / 6720], examples_per_second: 3234.5278, train_label_loss: 0.2643, \n"
     ]
    },
    {
     "name": "stdout",
     "output_type": "stream",
     "text": [
      "epoch: 4, [batch: 6048 / 6720], examples_per_second: 3237.5315, train_label_loss: 0.3232, \n"
     ]
    },
    {
     "name": "stdout",
     "output_type": "stream",
     "text": [
      "=============================================================\n",
      "epoch: 4, source_val_acc_label: 0.8504, target_val_acc_label: 0.5990, source_val_label_loss: 0.4192, target_val_label_loss: 171336.6094, \n",
      "=============================================================\n"
     ]
    },
    {
     "name": "stdout",
     "output_type": "stream",
     "text": [
      "epoch: 5, [batch: 1 / 6720], examples_per_second: 5.5794, train_label_loss: 0.3172, \n"
     ]
    },
    {
     "name": "stdout",
     "output_type": "stream",
     "text": [
      "epoch: 5, [batch: 672 / 6720], examples_per_second: 3221.2000, train_label_loss: 0.2821, \n"
     ]
    },
    {
     "name": "stdout",
     "output_type": "stream",
     "text": [
      "epoch: 5, [batch: 1344 / 6720], examples_per_second: 3234.7186, train_label_loss: 0.7780, \n"
     ]
    },
    {
     "name": "stdout",
     "output_type": "stream",
     "text": [
      "epoch: 5, [batch: 2016 / 6720], examples_per_second: 3243.6463, train_label_loss: 0.6354, \n"
     ]
    },
    {
     "name": "stdout",
     "output_type": "stream",
     "text": [
      "epoch: 5, [batch: 2688 / 6720], examples_per_second: 3232.2465, train_label_loss: 0.3621, \n"
     ]
    },
    {
     "name": "stdout",
     "output_type": "stream",
     "text": [
      "epoch: 5, [batch: 3360 / 6720], examples_per_second: 3242.0385, train_label_loss: 0.5128, \n"
     ]
    },
    {
     "name": "stdout",
     "output_type": "stream",
     "text": [
      "epoch: 5, [batch: 4032 / 6720], examples_per_second: 3248.8419, train_label_loss: 0.5045, \n"
     ]
    },
    {
     "name": "stdout",
     "output_type": "stream",
     "text": [
      "epoch: 5, [batch: 4704 / 6720], examples_per_second: 3213.6677, train_label_loss: 0.1961, \n"
     ]
    },
    {
     "name": "stdout",
     "output_type": "stream",
     "text": [
      "epoch: 5, [batch: 5376 / 6720], examples_per_second: 3243.7324, train_label_loss: 0.5047, \n"
     ]
    },
    {
     "name": "stdout",
     "output_type": "stream",
     "text": [
      "epoch: 5, [batch: 6048 / 6720], examples_per_second: 3245.3366, train_label_loss: 0.4486, \n"
     ]
    },
    {
     "name": "stdout",
     "output_type": "stream",
     "text": [
      "=============================================================\n",
      "epoch: 5, source_val_acc_label: 0.8611, target_val_acc_label: 0.5748, source_val_label_loss: 0.3819, target_val_label_loss: 270192.9688, \n",
      "=============================================================\n"
     ]
    },
    {
     "name": "stdout",
     "output_type": "stream",
     "text": [
      "epoch: 6, [batch: 1 / 6720], examples_per_second: 5.5714, train_label_loss: 0.2711, \n"
     ]
    },
    {
     "name": "stdout",
     "output_type": "stream",
     "text": [
      "epoch: 6, [batch: 672 / 6720], examples_per_second: 3227.5502, train_label_loss: 0.3619, \n"
     ]
    },
    {
     "name": "stdout",
     "output_type": "stream",
     "text": [
      "epoch: 6, [batch: 1344 / 6720], examples_per_second: 3234.4738, train_label_loss: 0.3601, \n"
     ]
    },
    {
     "name": "stdout",
     "output_type": "stream",
     "text": [
      "epoch: 6, [batch: 2016 / 6720], examples_per_second: 3222.1135, train_label_loss: 0.3693, \n"
     ]
    },
    {
     "name": "stdout",
     "output_type": "stream",
     "text": [
      "epoch: 6, [batch: 2688 / 6720], examples_per_second: 3219.0656, train_label_loss: 0.2737, \n"
     ]
    },
    {
     "name": "stdout",
     "output_type": "stream",
     "text": [
      "epoch: 6, [batch: 3360 / 6720], examples_per_second: 3233.2082, train_label_loss: 0.3647, \n"
     ]
    },
    {
     "name": "stdout",
     "output_type": "stream",
     "text": [
      "epoch: 6, [batch: 4032 / 6720], examples_per_second: 3241.0673, train_label_loss: 0.3779, \n"
     ]
    },
    {
     "name": "stdout",
     "output_type": "stream",
     "text": [
      "epoch: 6, [batch: 4704 / 6720], examples_per_second: 3232.0651, train_label_loss: 0.5745, \n"
     ]
    },
    {
     "name": "stdout",
     "output_type": "stream",
     "text": [
      "epoch: 6, [batch: 5376 / 6720], examples_per_second: 3225.0172, train_label_loss: 0.3519, \n"
     ]
    },
    {
     "name": "stdout",
     "output_type": "stream",
     "text": [
      "epoch: 6, [batch: 6048 / 6720], examples_per_second: 3227.1042, train_label_loss: 0.1460, \n"
     ]
    },
    {
     "name": "stdout",
     "output_type": "stream",
     "text": [
      "=============================================================\n",
      "epoch: 6, source_val_acc_label: 0.8749, target_val_acc_label: 0.5591, source_val_label_loss: 0.3675, target_val_label_loss: 318677.1875, \n",
      "=============================================================\n"
     ]
    },
    {
     "name": "stdout",
     "output_type": "stream",
     "text": [
      "Patience (3) exhausted\n"
     ]
    }
   ],
   "source": [
    "###################################\n",
    "# train\n",
    "###################################\n",
    "jig = PTN_Train_Eval_Test_Jig(model, p.BEST_MODEL_PATH, p.device)\n",
    "\n",
    "jig.train(\n",
    "    train_iterable=datasets.source.processed.train,\n",
    "    source_val_iterable=datasets.source.processed.val,\n",
    "    target_val_iterable=datasets.target.processed.val,\n",
    "    num_epochs=p.n_epoch,\n",
    "    num_logs_per_epoch=p.NUM_LOGS_PER_EPOCH,\n",
    "    patience=p.patience,\n",
    "    optimizer=optimizer,\n",
    "    criteria_for_best=p.criteria_for_best,\n",
    ")"
   ]
  },
  {
   "cell_type": "code",
   "execution_count": 23,
   "id": "31e8fabf",
   "metadata": {
    "execution": {
     "iopub.execute_input": "2022-03-18T10:50:25.080554Z",
     "iopub.status.busy": "2022-03-18T10:50:25.078239Z",
     "iopub.status.idle": "2022-03-18T10:50:25.096691Z",
     "shell.execute_reply": "2022-03-18T10:50:25.096241Z"
    },
    "papermill": {
     "duration": 0.047901,
     "end_time": "2022-03-18T10:50:25.096780",
     "exception": false,
     "start_time": "2022-03-18T10:50:25.048879",
     "status": "completed"
    },
    "tags": []
   },
   "outputs": [],
   "source": [
    "total_experiment_time_secs = time.time() - start_time_secs"
   ]
  },
  {
   "cell_type": "code",
   "execution_count": 24,
   "id": "87b9595b",
   "metadata": {
    "execution": {
     "iopub.execute_input": "2022-03-18T10:50:25.165830Z",
     "iopub.status.busy": "2022-03-18T10:50:25.160891Z",
     "iopub.status.idle": "2022-03-18T10:51:29.786232Z",
     "shell.execute_reply": "2022-03-18T10:51:29.786630Z"
    },
    "papermill": {
     "duration": 64.658458,
     "end_time": "2022-03-18T10:51:29.786759",
     "exception": false,
     "start_time": "2022-03-18T10:50:25.128301",
     "status": "completed"
    },
    "tags": []
   },
   "outputs": [],
   "source": [
    "###################################\n",
    "# Evaluate the model\n",
    "###################################\n",
    "source_test_label_accuracy, source_test_label_loss = jig.test(datasets.source.processed.test)\n",
    "target_test_label_accuracy, target_test_label_loss = jig.test(datasets.target.processed.test)\n",
    "\n",
    "source_val_label_accuracy, source_val_label_loss = jig.test(datasets.source.processed.val)\n",
    "target_val_label_accuracy, target_val_label_loss = jig.test(datasets.target.processed.val)\n",
    "\n",
    "history = jig.get_history()\n",
    "\n",
    "total_epochs_trained = len(history[\"epoch_indices\"])\n",
    "\n",
    "val_dl = Iterable_Aggregator((datasets.source.original.val,datasets.target.original.val))\n",
    "\n",
    "confusion = ptn_confusion_by_domain_over_dataloader(model, p.device, val_dl)\n",
    "per_domain_accuracy = per_domain_accuracy_from_confusion(confusion)\n",
    "\n",
    "# Add a key to per_domain_accuracy for if it was a source domain\n",
    "for domain, accuracy in per_domain_accuracy.items():\n",
    "    per_domain_accuracy[domain] = {\n",
    "        \"accuracy\": accuracy,\n",
    "        \"source?\": domain in p.domains_source\n",
    "    }\n",
    "\n",
    "# Do an independent accuracy assesment JUST TO BE SURE!\n",
    "# _source_test_label_accuracy = independent_accuracy_assesment(model, datasets.source.processed.test, p.device)\n",
    "# _target_test_label_accuracy = independent_accuracy_assesment(model, datasets.target.processed.test, p.device)\n",
    "# _source_val_label_accuracy = independent_accuracy_assesment(model, datasets.source.processed.val, p.device)\n",
    "# _target_val_label_accuracy = independent_accuracy_assesment(model, datasets.target.processed.val, p.device)\n",
    "\n",
    "# assert(_source_test_label_accuracy == source_test_label_accuracy)\n",
    "# assert(_target_test_label_accuracy == target_test_label_accuracy)\n",
    "# assert(_source_val_label_accuracy == source_val_label_accuracy)\n",
    "# assert(_target_val_label_accuracy == target_val_label_accuracy)\n",
    "\n",
    "experiment = {\n",
    "    \"experiment_name\": p.experiment_name,\n",
    "    \"parameters\": dict(p),\n",
    "    \"results\": {\n",
    "        \"source_test_label_accuracy\": source_test_label_accuracy,\n",
    "        \"source_test_label_loss\": source_test_label_loss,\n",
    "        \"target_test_label_accuracy\": target_test_label_accuracy,\n",
    "        \"target_test_label_loss\": target_test_label_loss,\n",
    "        \"source_val_label_accuracy\": source_val_label_accuracy,\n",
    "        \"source_val_label_loss\": source_val_label_loss,\n",
    "        \"target_val_label_accuracy\": target_val_label_accuracy,\n",
    "        \"target_val_label_loss\": target_val_label_loss,\n",
    "        \"total_epochs_trained\": total_epochs_trained,\n",
    "        \"total_experiment_time_secs\": total_experiment_time_secs,\n",
    "        \"confusion\": confusion,\n",
    "        \"per_domain_accuracy\": per_domain_accuracy,\n",
    "    },\n",
    "    \"history\": history,\n",
    "    \"dataset_metrics\": get_dataset_metrics(datasets, \"ptn\"),\n",
    "}"
   ]
  },
  {
   "cell_type": "code",
   "execution_count": 25,
   "id": "54a21829",
   "metadata": {
    "execution": {
     "iopub.execute_input": "2022-03-18T10:51:29.849533Z",
     "iopub.status.busy": "2022-03-18T10:51:29.849127Z",
     "iopub.status.idle": "2022-03-18T10:51:29.970720Z",
     "shell.execute_reply": "2022-03-18T10:51:29.970479Z"
    },
    "papermill": {
     "duration": 0.150623,
     "end_time": "2022-03-18T10:51:29.970781",
     "exception": false,
     "start_time": "2022-03-18T10:51:29.820158",
     "status": "completed"
    },
    "tags": []
   },
   "outputs": [
    {
     "data": {
      "image/png": "[encoded data removed]",
      "text/plain": [
       "<Figure size 1080x504 with 1 Axes>"
      ]
     },
     "metadata": {
      "needs_background": "light"
     },
     "output_type": "display_data"
    }
   ],
   "source": [
    "ax = get_loss_curve(experiment)\n",
    "plt.show()"
   ]
  },
  {
   "cell_type": "code",
   "execution_count": 26,
   "id": "fd8a0f60",
   "metadata": {
    "execution": {
     "iopub.execute_input": "2022-03-18T10:51:30.029170Z",
     "iopub.status.busy": "2022-03-18T10:51:30.028912Z",
     "iopub.status.idle": "2022-03-18T10:51:30.170943Z",
     "shell.execute_reply": "2022-03-18T10:51:30.171165Z"
    },
    "papermill": {
     "duration": 0.172339,
     "end_time": "2022-03-18T10:51:30.171257",
     "exception": false,
     "start_time": "2022-03-18T10:51:29.998918",
     "status": "completed"
    },
    "tags": []
   },
   "outputs": [
    {
     "data": {
      "text/plain": [
       "<AxesSubplot:title={'center':'Results'}>"
      ]
     },
     "execution_count": 26,
     "metadata": {},
     "output_type": "execute_result"
    },
    {
     "data": {
      "image/png": "[encoded data removed]",
      "text/plain": [
       "<Figure size 1080x504 with 1 Axes>"
      ]
     },
     "metadata": {
      "needs_background": "light"
     },
     "output_type": "display_data"
    }
   ],
   "source": [
    "get_results_table(experiment)"
   ]
  },
  {
   "cell_type": "code",
   "execution_count": 27,
   "id": "cf8dc689",
   "metadata": {
    "execution": {
     "iopub.execute_input": "2022-03-18T10:51:30.232573Z",
     "iopub.status.busy": "2022-03-18T10:51:30.231968Z",
     "iopub.status.idle": "2022-03-18T10:51:30.391435Z",
     "shell.execute_reply": "2022-03-18T10:51:30.391844Z"
    },
    "papermill": {
     "duration": 0.190799,
     "end_time": "2022-03-18T10:51:30.391972",
     "exception": false,
     "start_time": "2022-03-18T10:51:30.201173",
     "status": "completed"
    },
    "tags": []
   },
   "outputs": [
    {
     "data": {
      "text/plain": [
       "<AxesSubplot:title={'center':'Per Domain Validation Accuracy'}, xlabel='domain'>"
      ]
     },
     "execution_count": 27,
     "metadata": {},
     "output_type": "execute_result"
    },
    {
     "data": {
      "image/png": "[encoded data removed]",
      "text/plain": [
       "<Figure size 1080x504 with 1 Axes>"
      ]
     },
     "metadata": {
      "needs_background": "light"
     },
     "output_type": "display_data"
    }
   ],
   "source": [
    "get_domain_accuracies(experiment)"
   ]
  },
  {
   "cell_type": "code",
   "execution_count": 28,
   "id": "a74ae082",
   "metadata": {
    "execution": {
     "iopub.execute_input": "2022-03-18T10:51:30.459247Z",
     "iopub.status.busy": "2022-03-18T10:51:30.458961Z",
     "iopub.status.idle": "2022-03-18T10:51:30.475480Z",
     "shell.execute_reply": "2022-03-18T10:51:30.475792Z"
    },
    "papermill": {
     "duration": 0.049775,
     "end_time": "2022-03-18T10:51:30.475888",
     "exception": false,
     "start_time": "2022-03-18T10:51:30.426113",
     "status": "completed"
    },
    "tags": []
   },
   "outputs": [
    {
     "name": "stdout",
     "output_type": "stream",
     "text": [
      "Source Test Label Accuracy: 0.7804361979166666 Target Test Label Accuracy: 0.6711258561643836\n",
      "Source Val Label Accuracy: 0.7753255208333333 Target Val Label Accuracy: 0.6774400684931506\n"
     ]
    }
   ],
   "source": [
    "print(\"Source Test Label Accuracy:\", experiment[\"results\"][\"source_test_label_accuracy\"], \"Target Test Label Accuracy:\", experiment[\"results\"][\"target_test_label_accuracy\"])\n",
    "print(\"Source Val Label Accuracy:\", experiment[\"results\"][\"source_val_label_accuracy\"], \"Target Val Label Accuracy:\", experiment[\"results\"][\"target_val_label_accuracy\"])"
   ]
  },
  {
   "cell_type": "code",
   "execution_count": 29,
   "id": "dacca602",
   "metadata": {
    "execution": {
     "iopub.execute_input": "2022-03-18T10:51:30.542339Z",
     "iopub.status.busy": "2022-03-18T10:51:30.542071Z",
     "iopub.status.idle": "2022-03-18T10:51:30.561402Z",
     "shell.execute_reply": "2022-03-18T10:51:30.561804Z"
    },
    "papermill": {
     "duration": 0.0518,
     "end_time": "2022-03-18T10:51:30.561927",
     "exception": false,
     "start_time": "2022-03-18T10:51:30.510127",
     "status": "completed"
    },
    "tags": [
     "experiment_json"
    ]
   },
   "outputs": [
    {
     "data": {
      "text/plain": [
       "'{\"experiment_name\": \"tl_3-jitter1:oracle.run1.framed -> cores+wisig\", \"parameters\": {\"experiment_name\": \"tl_3-jitter1:oracle.run1.framed -> cores+wisig\", \"device\": \"cuda\", \"lr\": 0.001, \"seed\": 1337, \"dataset_seed\": 1337, \"n_shot\": 3, \"n_query\": 2, \"train_k_factor\": 3, \"val_k_factor\": 2, \"test_k_factor\": 2, \"torch_default_dtype\": \"torch.float32\", \"n_epoch\": 50, \"patience\": 3, \"criteria_for_best\": \"target_loss\", \"x_net\": [{\"class\": \"nnReshape\", \"kargs\": {\"shape\": [-1, 1, 2, 256]}}, {\"class\": \"Conv2d\", \"kargs\": {\"in_channels\": 1, \"out_channels\": 256, \"kernel_size\": [1, 7], \"bias\": false, \"padding\": [0, 3]}}, {\"class\": \"ReLU\", \"kargs\": {\"inplace\": true}}, {\"class\": \"BatchNorm2d\", \"kargs\": {\"num_features\": 256}}, {\"class\": \"Conv2d\", \"kargs\": {\"in_channels\": 256, \"out_channels\": 80, \"kernel_size\": [2, 7], \"bias\": true, \"padding\": [0, 3]}}, {\"class\": \"ReLU\", \"kargs\": {\"inplace\": true}}, {\"class\": \"BatchNorm2d\", \"kargs\": {\"num_features\": 80}}, {\"class\": \"Flatten\", \"kargs\": {}}, {\"class\": \"Linear\", \"kargs\": {\"in_features\": 20480, \"out_features\": 256}}, {\"class\": \"ReLU\", \"kargs\": {\"inplace\": true}}, {\"class\": \"BatchNorm1d\", \"kargs\": {\"num_features\": 256}}, {\"class\": \"Linear\", \"kargs\": {\"in_features\": 256, \"out_features\": 256}}], \"NUM_LOGS_PER_EPOCH\": 10, \"BEST_MODEL_PATH\": \"./best_model.pth\", \"n_way\": 16, \"datasets\": [{\"labels\": [\"1-10.\", \"1-11.\", \"1-15.\", \"1-16.\", \"1-17.\", \"1-18.\", \"1-19.\", \"10-4.\", \"10-7.\", \"11-1.\", \"11-14.\", \"11-17.\", \"11-20.\", \"11-7.\", \"13-20.\", \"13-8.\", \"14-10.\", \"14-11.\", \"14-14.\", \"14-7.\", \"15-1.\", \"15-20.\", \"16-1.\", \"16-16.\", \"17-10.\", \"17-11.\", \"17-2.\", \"19-1.\", \"19-16.\", \"19-19.\", \"19-20.\", \"19-3.\", \"2-10.\", \"2-11.\", \"2-17.\", \"2-18.\", \"2-20.\", \"2-3.\", \"2-4.\", \"2-5.\", \"2-6.\", \"2-7.\", \"2-8.\", \"3-13.\", \"3-18.\", \"3-3.\", \"4-1.\", \"4-10.\", \"4-11.\", \"4-19.\", \"5-5.\", \"6-15.\", \"7-10.\", \"7-14.\", \"8-18.\", \"8-20.\", \"8-3.\", \"8-8.\"], \"domains\": [1, 2, 3, 4, 5], \"num_examples_per_domain_per_label\": 100, \"pickle_path\": \"/mnt/wd500GB/CSC500/csc500-main/datasets/cores.stratified_ds.2022A.pkl\", \"source_or_target_dataset\": \"target\", \"x_transforms\": [\"jitter_256_1\", \"take_200\"], \"episode_transforms\": [], \"domain_prefix\": \"C_A_\"}, {\"labels\": [\"1-10\", \"1-12\", \"1-14\", \"1-16\", \"1-18\", \"1-19\", \"1-8\", \"10-11\", \"10-17\", \"10-4\", \"10-7\", \"11-1\", \"11-10\", \"11-19\", \"11-20\", \"11-4\", \"11-7\", \"12-19\", \"12-20\", \"12-7\", \"13-14\", \"13-18\", \"13-19\", \"13-20\", \"13-3\", \"13-7\", \"14-10\", \"14-11\", \"14-12\", \"14-13\", \"14-14\", \"14-19\", \"14-20\", \"14-7\", \"14-8\", \"14-9\", \"15-1\", \"15-19\", \"15-6\", \"16-1\", \"16-16\", \"16-19\", \"16-20\", \"17-10\", \"17-11\", \"18-1\", \"18-10\", \"18-11\", \"18-12\", \"18-13\", \"18-14\", \"18-15\", \"18-16\", \"18-17\", \"18-19\", \"18-2\", \"18-20\", \"18-4\", \"18-5\", \"18-7\", \"18-8\", \"18-9\", \"19-1\", \"19-10\", \"19-11\", \"19-12\", \"19-13\", \"19-14\", \"19-15\", \"19-19\", \"19-2\", \"19-20\", \"19-3\", \"19-4\", \"19-6\", \"19-7\", \"19-8\", \"19-9\", \"2-1\", \"2-13\", \"2-15\", \"2-3\", \"2-4\", \"2-5\", \"2-6\", \"2-7\", \"2-8\", \"20-1\", \"20-12\", \"20-14\", \"20-15\", \"20-16\", \"20-18\", \"20-19\", \"20-20\", \"20-3\", \"20-4\", \"20-5\", \"20-7\", \"20-8\", \"3-1\", \"3-13\", \"3-18\", \"3-2\", \"3-8\", \"4-1\", \"4-10\", \"4-11\", \"5-1\", \"5-5\", \"6-1\", \"6-15\", \"6-6\", \"7-10\", \"7-11\", \"7-12\", \"7-13\", \"7-14\", \"7-7\", \"7-8\", \"7-9\", \"8-1\", \"8-13\", \"8-14\", \"8-18\", \"8-20\", \"8-3\", \"8-8\", \"9-1\", \"9-7\"], \"domains\": [1, 2, 3, 4], \"num_examples_per_domain_per_label\": 100, \"pickle_path\": \"/mnt/wd500GB/CSC500/csc500-main/datasets/wisig.node3-19.stratified_ds.2022A.pkl\", \"source_or_target_dataset\": \"target\", \"x_transforms\": [\"jitter_256_1\", \"take_200\"], \"episode_transforms\": [], \"domain_prefix\": \"W_A_\"}, {\"labels\": [\"3123D52\", \"3123D65\", \"3123D79\", \"3123D80\", \"3123D54\", \"3123D70\", \"3123D7B\", \"3123D89\", \"3123D58\", \"3123D76\", \"3123D7D\", \"3123EFE\", \"3123D64\", \"3123D78\", \"3123D7E\", \"3124E4A\"], \"domains\": [32, 38, 8, 44, 14, 50, 20, 26], \"num_examples_per_domain_per_label\": 2000, \"pickle_path\": \"/mnt/wd500GB/CSC500/csc500-main/datasets/oracle.Run1_framed_2000Examples_stratified_ds.2022A.pkl\", \"source_or_target_dataset\": \"source\", \"x_transforms\": [\"jitter_256_1\", \"take_200\", \"resample_20Msps_to_25Msps\"], \"episode_transforms\": [], \"domain_prefix\": \"ORACLE.run1_\"}], \"x_shape\": [2, 256], \"domains_source\": [\"ORACLE.run1_32\", \"ORACLE.run1_38\", \"ORACLE.run1_8\", \"ORACLE.run1_44\", \"ORACLE.run1_14\", \"ORACLE.run1_50\", \"ORACLE.run1_20\", \"ORACLE.run1_26\"], \"domains_target\": [\"C_A_1\", \"C_A_2\", \"C_A_3\", \"C_A_4\", \"C_A_5\", \"W_A_1\", \"W_A_2\", \"W_A_3\", \"W_A_4\"]}, \"results\": {\"source_test_label_accuracy\": 0.7804361979166666, \"source_test_label_loss\": 0.9149520993232727, \"target_test_label_accuracy\": 0.6711258561643836, \"target_test_label_loss\": 97384.6796875, \"source_val_label_accuracy\": 0.7753255208333333, \"source_val_label_loss\": 0.9233450889587402, \"target_val_label_accuracy\": 0.6774400684931506, \"target_val_label_loss\": 91273.0, \"total_epochs_trained\": 6, \"total_experiment_time_secs\": 1111.5026633739471, \"confusion\": {\"ORACLE.run1_14\": {\"15\": {\"15\": 240}, \"3\": {\"3\": 223, \"2\": 1, \"0\": 12, \"6\": 1, \"14\": 2, \"13\": 1}, \"6\": {\"6\": 155, \"2\": 13, \"13\": 43, \"14\": 24, \"3\": 5}, \"1\": {\"1\": 240}, \"8\": {\"8\": 240}, \"10\": {\"10\": 240}, \"9\": {\"9\": 240}, \"13\": {\"13\": 52, \"14\": 57, \"6\": 86, \"15\": 14, \"2\": 28, \"3\": 2, \"0\": 1}, \"12\": {\"12\": 240}, \"5\": {\"5\": 196, \"2\": 18, \"4\": 21, \"3\": 4, \"7\": 1}, \"0\": {\"0\": 208, \"3\": 22, \"10\": 5, \"14\": 3, \"4\": 1, \"2\": 1}, \"2\": {\"4\": 14, \"13\": 8, \"2\": 133, \"14\": 28, \"6\": 23, \"5\": 24, \"3\": 10}, \"11\": {\"11\": 240}, \"14\": {\"13\": 47, \"14\": 134, \"6\": 23, \"2\": 32, \"3\": 2, \"0\": 2}, \"7\": {\"7\": 238, \"8\": 1, \"5\": 1}, \"4\": {\"4\": 229, \"2\": 5, \"5\": 6}}, \"ORACLE.run1_20\": {\"3\": {\"3\": 147, \"9\": 30, \"7\": 1, \"1\": 17, \"5\": 21, \"8\": 23, \"0\": 1}, \"15\": {\"15\": 132, \"12\": 35, \"13\": 6, \"1\": 49, \"5\": 2, \"9\": 7, \"2\": 8, \"7\": 1}, \"8\": {\"8\": 184, \"3\": 42, \"14\": 11, \"5\": 2, \"9\": 1}, \"4\": {\"4\": 228, \"10\": 6, \"7\": 1, \"2\": 1, \"12\": 3, \"6\": 1}, \"14\": {\"14\": 209, \"8\": 25, \"6\": 4, \"3\": 2}, \"0\": {\"0\": 229, \"1\": 3, \"8\": 2, \"5\": 2, \"3\": 4}, \"7\": {\"2\": 76, \"4\": 1, \"6\": 11, \"7\": 131, \"3\": 7, \"9\": 13, \"12\": 1}, \"6\": {\"6\": 228, \"7\": 7, \"2\": 4, \"14\": 1}, \"10\": {\"10\": 238, \"4\": 2}, \"5\": {\"1\": 78, \"3\": 50, \"5\": 102, \"9\": 7, \"15\": 2, \"8\": 1}, \"2\": {\"2\": 146, \"7\": 35, \"12\": 26, \"15\": 10, \"9\": 12, \"4\": 1, \"6\": 1, \"1\": 6, \"13\": 2, \"5\": 1}, \"12\": {\"12\": 117, \"2\": 51, \"1\": 19, \"4\": 7, \"7\": 14, \"15\": 27, \"13\": 1, \"5\": 3, \"9\": 1}, \"9\": {\"9\": 105, \"2\": 26, \"3\": 32, \"1\": 40, \"7\": 30, \"15\": 3, \"8\": 1, \"5\": 3}, \"1\": {\"1\": 144, \"12\": 2, \"5\": 45, \"15\": 12, \"3\": 16, \"9\": 19, \"7\": 1, \"2\": 1}, \"11\": {\"11\": 240}, \"13\": {\"13\": 196, \"2\": 29, \"15\": 6, \"7\": 1, \"12\": 8}}, \"ORACLE.run1_38\": {\"5\": {\"8\": 76, \"5\": 118, \"13\": 2, \"9\": 10, \"7\": 18, \"15\": 14, \"0\": 2}, \"8\": {\"7\": 35, \"8\": 102, \"5\": 82, \"0\": 3, \"15\": 16, \"13\": 1, \"2\": 1}, \"11\": {\"11\": 236, \"3\": 4}, \"1\": {\"1\": 235, \"6\": 5}, \"10\": {\"0\": 33, \"10\": 197, \"13\": 6, \"4\": 4}, \"15\": {\"15\": 209, \"8\": 9, \"1\": 5, \"5\": 17}, \"3\": {\"3\": 240}, \"7\": {\"7\": 210, \"8\": 10, \"0\": 11, \"5\": 9}, \"4\": {\"4\": 240}, \"14\": {\"2\": 54, \"14\": 184, \"13\": 1, \"4\": 1}, \"9\": {\"9\": 225, \"5\": 7, \"7\": 7, \"0\": 1}, \"12\": {\"12\": 240}, \"6\": {\"6\": 237, \"1\": 3}, \"2\": {\"2\": 208, \"14\": 24, \"0\": 3, \"8\": 3, \"13\": 2}, \"0\": {\"7\": 24, \"0\": 165, \"13\": 8, \"10\": 34, \"3\": 6, \"5\": 2, \"8\": 1}, \"13\": {\"10\": 27, \"13\": 192, \"0\": 12, \"2\": 8, \"8\": 1}}, \"ORACLE.run1_8\": {\"9\": {\"9\": 240}, \"10\": {\"5\": 31, \"10\": 142, \"13\": 45, \"4\": 2, \"7\": 2, \"6\": 16, \"1\": 2}, \"13\": {\"13\": 142, \"7\": 25, \"10\": 60, \"6\": 10, \"5\": 3}, \"0\": {\"0\": 240}, \"1\": {\"11\": 43, \"1\": 186, \"5\": 5, \"6\": 1, \"4\": 3, \"8\": 2}, \"15\": {\"15\": 191, \"2\": 1, \"12\": 48}, \"5\": {\"5\": 178, \"10\": 27, \"1\": 25, \"11\": 4, \"6\": 1, \"13\": 2, \"4\": 2, \"14\": 1}, \"3\": {\"2\": 4, \"3\": 236}, \"6\": {\"6\": 184, \"7\": 42, \"13\": 4, \"4\": 8, \"10\": 2}, \"11\": {\"1\": 97, \"11\": 114, \"8\": 5, \"14\": 15, \"4\": 2, \"5\": 7}, \"8\": {\"8\": 236, \"14\": 1, \"11\": 3}, \"4\": {\"4\": 218, \"6\": 6, \"1\": 10, \"14\": 5, \"8\": 1}, \"12\": {\"12\": 179, \"15\": 60, \"2\": 1}, \"14\": {\"14\": 209, \"4\": 26, \"11\": 4, \"1\": 1}, \"2\": {\"2\": 202, \"3\": 32, \"12\": 3, \"15\": 3}, \"7\": {\"7\": 162, \"6\": 71, \"13\": 7}}, \"ORACLE.run1_50\": {\"7\": {\"7\": 178, \"5\": 39, \"4\": 23}, \"3\": {\"3\": 237, \"6\": 1, \"5\": 2}, \"8\": {\"8\": 235, \"13\": 2, \"10\": 3}, \"2\": {\"2\": 180, \"0\": 60}, \"14\": {\"14\": 238, \"2\": 2}, \"4\": {\"4\": 197, \"7\": 21, \"5\": 17, \"6\": 4, \"15\": 1}, \"6\": {\"15\": 20, \"5\": 62, \"6\": 155, \"4\": 2, \"11\": 1}, \"15\": {\"15\": 143, \"6\": 67, \"11\": 15, \"4\": 2, \"5\": 11, \"9\": 2}, \"10\": {\"10\": 208, \"8\": 11, \"0\": 19, \"1\": 2}, \"11\": {\"12\": 7, \"11\": 196, \"9\": 32, \"6\": 1, \"15\": 4}, \"13\": {\"13\": 229, \"5\": 1, \"1\": 9, \"6\": 1}, \"9\": {\"9\": 197, \"11\": 19, \"12\": 23, \"15\": 1}, \"0\": {\"0\": 211, \"14\": 1, \"2\": 20, \"10\": 8}, \"1\": {\"1\": 231, \"11\": 1, \"13\": 6, \"0\": 1, \"10\": 1}, \"12\": {\"9\": 41, \"12\": 193, \"11\": 6}, \"5\": {\"5\": 97, \"6\": 44, \"7\": 53, \"13\": 12, \"4\": 30, \"15\": 4}}, \"ORACLE.run1_32\": {\"8\": {\"8\": 136, \"0\": 68, \"14\": 4, \"5\": 16, \"3\": 1, \"2\": 6, \"4\": 5, \"7\": 3, \"15\": 1}, \"14\": {\"14\": 106, \"5\": 17, \"7\": 69, \"2\": 15, \"0\": 25, \"4\": 3, \"8\": 5}, \"2\": {\"2\": 196, \"4\": 42, \"14\": 2}, \"0\": {\"5\": 27, \"0\": 158, \"7\": 35, \"8\": 18, \"14\": 2}, \"1\": {\"1\": 240}, \"10\": {\"10\": 236, \"12\": 2, \"6\": 2}, \"11\": {\"11\": 231, \"3\": 2, \"13\": 6, \"4\": 1}, \"5\": {\"0\": 59, \"7\": 41, \"5\": 118, \"8\": 17, \"14\": 5}, \"15\": {\"15\": 234, \"8\": 4, \"5\": 2}, \"3\": {\"13\": 33, \"3\": 206, \"4\": 1}, \"12\": {\"12\": 239, \"9\": 1}, \"7\": {\"0\": 69, \"7\": 97, \"5\": 47, \"14\": 25, \"8\": 2}, \"13\": {\"13\": 139, \"3\": 60, \"4\": 37, \"2\": 3, \"11\": 1}, \"6\": {\"6\": 240}, \"4\": {\"4\": 147, \"2\": 83, \"13\": 8, \"3\": 2}, \"9\": {\"9\": 237, \"2\": 1, \"12\": 2}}, \"ORACLE.run1_26\": {\"4\": {\"4\": 240}, \"12\": {\"12\": 237, \"9\": 2, \"8\": 1}, \"10\": {\"14\": 29, \"10\": 119, \"1\": 2, \"0\": 62, \"15\": 6, \"2\": 1, \"6\": 21}, \"0\": {\"0\": 175, \"10\": 37, \"14\": 22, \"1\": 1, \"8\": 4, \"6\": 1}, \"13\": {\"2\": 12, \"13\": 195, \"3\": 7, \"9\": 25, \"7\": 1}, \"9\": {\"2\": 38, \"3\": 4, \"9\": 133, \"13\": 21, \"8\": 24, \"7\": 20}, \"3\": {\"3\": 184, \"7\": 34, \"2\": 18, \"13\": 1, \"9\": 2, \"8\": 1}, \"2\": {\"2\": 158, \"7\": 22, \"8\": 10, \"3\": 19, \"9\": 16, \"0\": 8, \"10\": 4, \"15\": 2, \"14\": 1}, \"5\": {\"5\": 198, \"15\": 33, \"6\": 9}, \"14\": {\"14\": 93, \"1\": 17, \"10\": 76, \"0\": 48, \"6\": 5, \"15\": 1}, \"8\": {\"7\": 76, \"8\": 130, \"2\": 7, \"0\": 9, \"3\": 5, \"9\": 12, \"10\": 1}, \"7\": {\"7\": 120, \"8\": 37, \"3\": 46, \"2\": 36, \"13\": 1}, \"6\": {\"15\": 25, \"6\": 192, \"10\": 9, \"14\": 1, \"1\": 6, \"5\": 7}, \"11\": {\"11\": 239, \"6\": 1}, \"15\": {\"15\": 96, \"5\": 71, \"6\": 55, \"14\": 3, \"0\": 2, \"1\": 8, \"10\": 5}, \"1\": {\"1\": 183, \"6\": 9, \"10\": 20, \"14\": 25, \"0\": 1, \"5\": 2}}, \"ORACLE.run1_44\": {\"12\": {\"12\": 189, \"3\": 51}, \"7\": {\"7\": 191, \"10\": 6, \"9\": 38, \"6\": 4, \"2\": 1}, \"5\": {\"5\": 181, \"4\": 24, \"8\": 3, \"15\": 12, \"14\": 19, \"0\": 1}, \"15\": {\"15\": 123, \"14\": 35, \"8\": 33, \"4\": 10, \"0\": 15, \"5\": 24}, \"8\": {\"0\": 73, \"8\": 133, \"5\": 10, \"14\": 1, \"15\": 23}, \"2\": {\"1\": 29, \"2\": 207, \"10\": 3, \"7\": 1}, \"13\": {\"13\": 147, \"6\": 79, \"9\": 10, \"11\": 4}, \"4\": {\"14\": 70, \"4\": 155, \"5\": 8, \"15\": 4, \"9\": 3}, \"0\": {\"8\": 40, \"0\": 198, \"15\": 2}, \"6\": {\"13\": 39, \"6\": 184, \"9\": 15, \"7\": 1, \"10\": 1}, \"9\": {\"7\": 99, \"9\": 53, \"6\": 49, \"13\": 22, \"4\": 9, \"2\": 6, \"10\": 1, \"14\": 1}, \"11\": {\"11\": 240}, \"10\": {\"10\": 187, \"1\": 11, \"7\": 24, \"2\": 17, \"9\": 1}, \"14\": {\"14\": 94, \"4\": 114, \"15\": 6, \"5\": 26}, \"1\": {\"1\": 223, \"2\": 17}, \"3\": {\"3\": 215, \"12\": 25}}, \"C_A_3\": {\"43\": {\"51\": 1, \"43\": 11}, \"9\": {\"9\": 12}, \"6\": {\"6\": 10}, \"3\": {\"6\": 2, \"3\": 8, \"5\": 1, \"45\": 1}, \"16\": {\"16\": 12}, \"51\": {\"51\": 12}, \"31\": {\"31\": 11, \"17\": 1}, \"46\": {\"46\": 7, \"5\": 2, \"50\": 1}, \"19\": {\"19\": 8}, \"8\": {\"8\": 11, \"33\": 1}, \"18\": {\"18\": 12}, \"37\": {\"37\": 11, \"43\": 1}, \"24\": {\"24\": 11, \"43\": 1}, \"10\": {\"10\": 12}, \"44\": {\"44\": 9, \"46\": 1}, \"14\": {\"9\": 1, \"8\": 2, \"4\": 1, \"41\": 1, \"57\": 1, \"14\": 3, \"33\": 1, \"29\": 1, \"27\": 1}, \"38\": {\"32\": 1, \"38\": 9}, \"53\": {\"53\": 12}, \"20\": {\"20\": 12}, \"32\": {\"32\": 11, \"8\": 1}, \"36\": {\"36\": 10}, \"33\": {\"33\": 12}, \"56\": {\"56\": 12}, \"23\": {\"23\": 12}, \"54\": {\"54\": 10}, \"34\": {\"34\": 10, \"55\": 1, \"42\": 1}, \"13\": {\"13\": 8, \"7\": 2, \"8\": 1, \"14\": 1}, \"2\": {\"2\": 8, \"13\": 2, \"26\": 1, \"51\": 1}, \"55\": {\"55\": 8, \"34\": 1, \"2\": 1}, \"21\": {\"21\": 9, \"50\": 1}, \"49\": {\"49\": 5, \"57\": 1, \"13\": 1, \"7\": 2, \"42\": 1}, \"25\": {\"25\": 12}, \"5\": {\"5\": 12}, \"50\": {\"21\": 1, \"50\": 6, \"3\": 1}, \"40\": {\"40\": 10, \"52\": 1, \"41\": 1}, \"57\": {\"57\": 6, \"29\": 2}, \"22\": {\"22\": 9, \"56\": 1}, \"1\": {\"1\": 10}, \"17\": {\"17\": 12}, \"41\": {\"40\": 2, \"41\": 7, \"47\": 1, \"52\": 1, \"1\": 1}, \"4\": {\"4\": 6, \"29\": 2, \"9\": 1, \"1\": 1}, \"7\": {\"7\": 5, \"13\": 2, \"8\": 1, \"47\": 2}, \"26\": {\"26\": 10}, \"29\": {\"29\": 10, \"9\": 2}, \"52\": {\"52\": 10, \"47\": 2}, \"15\": {\"15\": 12}, \"35\": {\"31\": 1, \"35\": 5, \"2\": 1, \"4\": 1, \"55\": 1, \"34\": 1, \"17\": 2}, \"42\": {\"42\": 5, \"49\": 3, \"34\": 4}, \"30\": {\"30\": 10}, \"27\": {\"27\": 8}, \"45\": {\"45\": 9, \"6\": 1}, \"0\": {\"0\": 12}, \"28\": {\"28\": 10, \"15\": 1, \"53\": 1}, \"47\": {\"47\": 11, \"48\": 1}, \"11\": {\"11\": 10}, \"39\": {\"39\": 9, \"29\": 1}, \"48\": {\"41\": 2, \"48\": 7, \"1\": 2, \"47\": 1}, \"12\": {\"12\": 8}}, \"C_A_4\": {\"35\": {\"14\": 1, \"35\": 3, \"17\": 3, \"2\": 2, \"38\": 1}, \"25\": {\"25\": 12}, \"24\": {\"32\": 1, \"24\": 7, \"43\": 2}, \"48\": {\"48\": 12}, \"51\": {\"51\": 12}, \"13\": {\"13\": 12}, \"14\": {\"9\": 1, \"13\": 1, \"14\": 2, \"8\": 1, \"47\": 1, \"2\": 1, \"56\": 1}, \"32\": {\"32\": 4, \"17\": 2, \"38\": 3, \"41\": 2, \"54\": 1}, \"30\": {\"30\": 12}, \"34\": {\"34\": 4, \"32\": 2, \"19\": 2, \"42\": 1, \"26\": 1}, \"9\": {\"9\": 8, \"4\": 4}, \"1\": {\"1\": 10, \"47\": 2}, \"0\": {\"0\": 12}, \"38\": {\"14\": 3, \"38\": 5, \"39\": 2, \"29\": 1, \"8\": 1}, \"22\": {\"22\": 8}, \"40\": {\"1\": 1, \"40\": 11}, \"39\": {\"8\": 1, \"39\": 8, \"9\": 2, \"29\": 1}, \"46\": {\"46\": 12}, \"36\": {\"36\": 10, \"32\": 2}, \"50\": {\"50\": 10, \"6\": 1, \"45\": 1}, \"49\": {\"39\": 2, \"57\": 1, \"49\": 4, \"7\": 1, \"4\": 1, \"17\": 1, \"29\": 1, \"2\": 1}, \"17\": {\"17\": 11, \"33\": 1}, \"45\": {\"45\": 11, \"30\": 1}, \"6\": {\"6\": 12}, \"8\": {\"8\": 12}, \"5\": {\"5\": 9, \"6\": 1}, \"33\": {\"33\": 9, \"55\": 2, \"38\": 1}, \"31\": {\"31\": 10, \"43\": 1, \"54\": 1}, \"37\": {\"37\": 6, \"31\": 1, \"51\": 2, \"57\": 1}, \"47\": {\"47\": 7, \"48\": 1}, \"15\": {\"15\": 9, \"11\": 1}, \"7\": {\"14\": 1, \"7\": 2, \"55\": 4, \"57\": 2, \"39\": 1, \"2\": 1, \"29\": 1}, \"20\": {\"20\": 12}, \"4\": {\"4\": 10, \"9\": 1, \"8\": 1}, \"54\": {\"54\": 11, \"41\": 1}, \"44\": {\"44\": 11, \"56\": 1}, \"3\": {\"3\": 12}, \"11\": {\"11\": 4, \"10\": 2, \"15\": 4}, \"27\": {\"39\": 1, \"27\": 6, \"29\": 1, \"9\": 2}, \"19\": {\"19\": 10, \"23\": 2}, \"55\": {\"55\": 8, \"37\": 1, \"43\": 2, \"35\": 1}, \"16\": {\"16\": 12}, \"2\": {\"4\": 2, \"8\": 2, \"29\": 4, \"2\": 1, \"57\": 1}, \"52\": {\"52\": 10}, \"42\": {\"42\": 8, \"26\": 2}, \"26\": {\"26\": 10, \"28\": 1, \"41\": 1}, \"10\": {\"10\": 12}, \"53\": {\"53\": 10}, \"28\": {\"28\": 11, \"16\": 1}, \"21\": {\"21\": 10}, \"57\": {\"57\": 8, \"4\": 1, \"48\": 1}, \"23\": {\"23\": 7, \"41\": 1}, \"43\": {\"43\": 10}, \"12\": {\"12\": 11, \"45\": 1}, \"41\": {\"41\": 11, \"33\": 1}, \"56\": {\"56\": 8}, \"18\": {\"18\": 10}, \"29\": {\"29\": 6, \"57\": 2}}, \"C_A_5\": {\"47\": {\"47\": 9, \"1\": 1}, \"53\": {\"53\": 11, \"42\": 1}, \"29\": {\"29\": 10, \"48\": 2}, \"52\": {\"52\": 12}, \"55\": {\"17\": 4, \"55\": 5, \"33\": 1, \"38\": 2}, \"17\": {\"17\": 11, \"38\": 1}, \"42\": {\"42\": 12}, \"33\": {\"33\": 10}, \"11\": {\"11\": 12}, \"19\": {\"19\": 8}, \"1\": {\"1\": 10, \"47\": 1, \"57\": 1}, \"44\": {\"44\": 8, \"6\": 1, \"5\": 3}, \"49\": {\"49\": 10, \"7\": 1, \"37\": 1}, \"4\": {\"4\": 11, \"40\": 1}, \"6\": {\"6\": 11, \"45\": 1}, \"39\": {\"39\": 7, \"27\": 1, \"14\": 2, \"8\": 2}, \"13\": {\"13\": 11, \"47\": 1}, \"5\": {\"5\": 8, \"50\": 1, \"44\": 1}, \"16\": {\"16\": 10}, \"25\": {\"25\": 12}, \"45\": {\"45\": 12}, \"7\": {\"7\": 10}, \"22\": {\"22\": 6, \"44\": 2, \"56\": 1, \"4\": 1, \"3\": 1, \"40\": 1}, \"40\": {\"5\": 2, \"40\": 9, \"56\": 1}, \"38\": {\"38\": 4, \"55\": 2, \"48\": 1, \"31\": 1, \"27\": 2, \"54\": 1, \"32\": 1}, \"35\": {\"35\": 2, \"7\": 1, \"36\": 3, \"48\": 1, \"41\": 1}, \"56\": {\"56\": 12}, \"50\": {\"50\": 7, \"6\": 3}, \"0\": {\"0\": 12}, \"10\": {\"10\": 12}, \"27\": {\"27\": 11, \"20\": 1}, \"20\": {\"20\": 10}, \"36\": {\"27\": 2, \"36\": 5, \"47\": 1}, \"34\": {\"34\": 12}, \"30\": {\"30\": 12}, \"2\": {\"48\": 2, \"2\": 3, \"27\": 1, \"20\": 1, \"39\": 1, \"35\": 1, \"36\": 1}, \"15\": {\"15\": 12}, \"18\": {\"18\": 12}, \"32\": {\"32\": 11, \"41\": 1}, \"31\": {\"38\": 1, \"31\": 8, \"26\": 1, \"42\": 1, \"17\": 1}, \"57\": {\"57\": 10, \"1\": 1, \"29\": 1}, \"48\": {\"48\": 6, \"29\": 1, \"57\": 1}, \"28\": {\"28\": 10}, \"14\": {\"57\": 1, \"14\": 4, \"48\": 2, \"35\": 1, \"36\": 2, \"29\": 1, \"8\": 1}, \"3\": {\"3\": 12}, \"8\": {\"8\": 12}, \"9\": {\"9\": 12}, \"21\": {\"21\": 9, \"52\": 1}, \"41\": {\"41\": 8, \"14\": 1, \"39\": 1, \"8\": 1, \"34\": 1}, \"24\": {\"24\": 12}, \"46\": {\"46\": 10}, \"43\": {\"43\": 10}, \"54\": {\"54\": 10}, \"23\": {\"23\": 10}, \"37\": {\"37\": 5, \"36\": 1, \"43\": 2, \"51\": 1, \"8\": 1}, \"12\": {\"12\": 9, \"44\": 1}, \"26\": {\"26\": 6, \"11\": 3, \"10\": 1}, \"51\": {\"51\": 6}}, \"W_A_3\": {\"109\": {\"109\": 9, \"0\": 1, \"126\": 1, \"10\": 1}, \"127\": {\"127\": 11, \"54\": 1}, \"14\": {\"14\": 6, \"127\": 1, \"114\": 2, \"75\": 2, \"44\": 1}, \"7\": {\"7\": 10, \"93\": 1, \"101\": 1}, \"129\": {\"129\": 8, \"42\": 2, \"41\": 1, \"45\": 1}, \"57\": {\"57\": 8, \"48\": 1, \"86\": 1, \"61\": 1, \"91\": 1}, \"84\": {\"127\": 1, \"84\": 5, \"114\": 1, \"0\": 1, \"30\": 1, \"62\": 1, \"3\": 2}, \"114\": {\"35\": 1, \"114\": 7, \"31\": 1, \"16\": 1, \"1\": 1, \"72\": 1}, \"44\": {\"44\": 7, \"100\": 1, \"1\": 2, \"128\": 1, \"28\": 1}, \"21\": {\"21\": 12}, \"46\": {\"100\": 1, \"46\": 6, \"52\": 1, \"85\": 1, \"44\": 2, \"65\": 1}, \"100\": {\"46\": 1, \"57\": 1, \"91\": 2, \"32\": 3, \"28\": 2, \"85\": 2, \"100\": 1}, \"63\": {\"63\": 8, \"84\": 1, \"6\": 1, \"2\": 1, \"75\": 1}, \"24\": {\"24\": 8, \"21\": 1, \"27\": 1, \"10\": 2}, \"107\": {\"107\": 6, \"44\": 1, \"33\": 1, \"100\": 1, \"1\": 1, \"95\": 2}, \"35\": {\"35\": 4, \"84\": 1, \"118\": 1, \"109\": 1, \"75\": 1, \"83\": 2}, \"81\": {\"33\": 1, \"81\": 7, \"92\": 1, \"38\": 1, \"53\": 1, \"95\": 1}, \"64\": {\"64\": 7, \"77\": 1, \"28\": 1, \"125\": 1, \"102\": 1, \"92\": 1}, \"59\": {\"87\": 1, \"59\": 6, \"86\": 1, \"124\": 1, \"120\": 1, \"111\": 1, \"90\": 1}, \"33\": {\"33\": 12}, \"34\": {\"34\": 4, \"105\": 1, \"23\": 1, \"95\": 1, \"99\": 1, \"54\": 2, \"58\": 1, \"3\": 1}, \"36\": {\"36\": 10, \"24\": 2}, \"79\": {\"79\": 8, \"115\": 2, \"102\": 2}, \"80\": {\"79\": 1, \"80\": 8, \"10\": 1, \"67\": 2}, \"77\": {\"77\": 7, \"41\": 1, \"37\": 1, \"42\": 2, \"91\": 1}, \"22\": {\"2\": 1, \"22\": 4, \"42\": 1, \"48\": 2, \"86\": 2, \"13\": 1, \"104\": 1}, \"124\": {\"64\": 1, \"124\": 7, \"59\": 1, \"42\": 1, \"111\": 1, \"90\": 1}, \"2\": {\"64\": 1, \"2\": 6, \"90\": 1, \"67\": 1, \"80\": 1, \"120\": 1, \"59\": 1}, \"87\": {\"87\": 8, \"108\": 1, \"11\": 1, \"122\": 1, \"8\": 1}, \"105\": {\"105\": 9, \"23\": 1, \"26\": 1, \"114\": 1}, \"95\": {\"110\": 1, \"18\": 1, \"98\": 1, \"3\": 1, \"95\": 6, \"33\": 2}, \"43\": {\"43\": 9, \"39\": 1, \"15\": 1, \"11\": 1}, \"56\": {\"56\": 4, \"128\": 1, \"38\": 2, \"99\": 1, \"9\": 1, \"31\": 1}, \"18\": {\"18\": 9, \"83\": 1, \"34\": 2}, \"85\": {\"46\": 1, \"85\": 5, \"91\": 1, \"111\": 1, \"50\": 1, \"92\": 1, \"20\": 1, \"73\": 1}, \"113\": {\"43\": 2, \"110\": 1, \"122\": 2, \"113\": 4, \"12\": 1, \"11\": 1, \"106\": 1}, \"97\": {\"8\": 2, \"97\": 5, \"43\": 2, \"39\": 1, \"30\": 1, \"21\": 1}, \"86\": {\"86\": 4, \"59\": 1, \"45\": 2, \"115\": 2, \"121\": 1, \"116\": 1, \"41\": 1}, \"128\": {\"56\": 1, \"95\": 1, \"74\": 1, \"38\": 1, \"128\": 3, \"19\": 1, \"9\": 1, \"32\": 3}, \"123\": {\"123\": 11, \"116\": 1}, \"8\": {\"8\": 8, \"109\": 1, \"0\": 2, \"94\": 1}, \"110\": {\"8\": 1, \"43\": 1, \"122\": 2, \"96\": 1, \"110\": 4, \"0\": 1, \"126\": 1, \"27\": 1}, \"126\": {\"8\": 1, \"43\": 1, \"108\": 4, \"109\": 2, \"126\": 2, \"39\": 2}, \"101\": {\"101\": 8, \"11\": 1, \"8\": 1, \"106\": 1, \"7\": 1}, \"115\": {\"42\": 1, \"115\": 5, \"2\": 1, \"124\": 1, \"119\": 1, \"29\": 1, \"79\": 1, \"86\": 1}, \"49\": {\"101\": 2, \"87\": 1, \"49\": 4, \"15\": 2, \"118\": 1, \"113\": 1, \"0\": 1}, \"45\": {\"45\": 9, \"117\": 1, \"115\": 1, \"67\": 1}, \"78\": {\"78\": 11, \"70\": 1}, \"65\": {\"42\": 1, \"65\": 4, \"32\": 1, \"92\": 1, \"85\": 2, \"104\": 1}, \"54\": {\"54\": 11, \"75\": 1}, \"31\": {\"44\": 1, \"31\": 6, \"51\": 1, \"127\": 1, \"61\": 1}, \"42\": {\"68\": 1, \"65\": 1, \"73\": 3, \"42\": 2, \"48\": 1, \"91\": 1, \"129\": 1, \"78\": 1, \"92\": 1}, \"68\": {\"42\": 1, \"68\": 5, \"13\": 1, \"5\": 3, \"91\": 1, \"37\": 1}, \"15\": {\"15\": 8, \"10\": 1, \"70\": 1, \"87\": 1, \"122\": 1}, \"69\": {\"69\": 12}, \"17\": {\"17\": 6, \"102\": 1, \"123\": 2, \"24\": 1}, \"73\": {\"73\": 8, \"53\": 1, \"38\": 2, \"112\": 1}, \"121\": {\"41\": 2, \"82\": 2, \"121\": 3, \"129\": 1, \"57\": 2, \"68\": 1, \"92\": 1}, \"102\": {\"102\": 11, \"80\": 1}, \"48\": {\"102\": 1, \"48\": 4, \"104\": 1, \"117\": 1, \"50\": 2, \"22\": 1, \"115\": 1, \"116\": 1}, \"23\": {\"23\": 3, \"43\": 2, \"122\": 1, \"105\": 1, \"87\": 2, \"14\": 1, \"8\": 2}, \"108\": {\"108\": 10, \"36\": 1, \"39\": 1}, \"53\": {\"77\": 1, \"53\": 4, \"32\": 1, \"33\": 2, \"9\": 2, \"95\": 2}, \"94\": {\"94\": 10}, \"41\": {\"121\": 1, \"77\": 2, \"41\": 4, \"5\": 1, \"29\": 1, \"55\": 1, \"103\": 1, \"129\": 1}, \"58\": {\"40\": 1, \"77\": 1, \"9\": 1, \"76\": 1, \"112\": 1, \"19\": 1, \"65\": 2, \"58\": 2, \"55\": 1, \"53\": 1}, \"29\": {\"66\": 1, \"29\": 10, \"61\": 1}, \"116\": {\"116\": 9, \"92\": 1, \"115\": 1, \"76\": 1}, \"60\": {\"60\": 4, \"15\": 2, \"49\": 1, \"122\": 1, \"43\": 1, \"96\": 1, \"21\": 1, \"51\": 1}, \"104\": {\"123\": 1, \"104\": 4, \"68\": 1, \"125\": 1, \"48\": 1, \"91\": 2, \"22\": 1, \"82\": 1}, \"106\": {\"106\": 4, \"87\": 1, \"30\": 1, \"12\": 2, \"96\": 1, \"7\": 1, \"101\": 1, \"122\": 1}, \"66\": {\"47\": 1, \"66\": 7, \"68\": 1, \"20\": 2, \"64\": 1}, \"47\": {\"14\": 2, \"47\": 5, \"114\": 1, \"35\": 1, \"83\": 2, \"84\": 1}, \"40\": {\"40\": 4, \"14\": 1, \"72\": 2, \"101\": 1, \"100\": 1, \"105\": 1, \"44\": 2}, \"82\": {\"29\": 1, \"82\": 6, \"5\": 2, \"30\": 1, \"129\": 1, \"89\": 1}, \"13\": {\"67\": 1, \"123\": 2, \"10\": 1, \"13\": 2, \"79\": 2, \"109\": 1, \"16\": 1, \"4\": 2}, \"19\": {\"58\": 1, \"9\": 1, \"128\": 1, \"19\": 5, \"20\": 1, \"57\": 1, \"103\": 1, \"38\": 1}, \"72\": {\"72\": 8, \"26\": 1, \"95\": 2, \"47\": 1}, \"9\": {\"9\": 8, \"107\": 1, \"42\": 1, \"53\": 2}, \"67\": {\"17\": 1, \"123\": 1, \"67\": 8, \"82\": 1, \"116\": 1}, \"11\": {\"11\": 6, \"78\": 1, \"108\": 2, \"27\": 1, \"43\": 1, \"39\": 1}, \"125\": {\"68\": 1, \"125\": 11}, \"76\": {\"19\": 1, \"76\": 3, \"100\": 1, \"28\": 1, \"61\": 1, \"37\": 1}, \"83\": {\"83\": 9, \"25\": 1, \"35\": 1, \"43\": 1}, \"74\": {\"74\": 8, \"66\": 1, \"38\": 1, \"53\": 2}, \"20\": {\"74\": 1, \"18\": 1, \"95\": 1, \"98\": 1, \"99\": 1, \"56\": 1, \"105\": 1, \"26\": 1, \"32\": 1, \"128\": 1, \"20\": 1, \"75\": 1}, \"119\": {\"102\": 1, \"119\": 6, \"82\": 3, \"22\": 1, \"45\": 1}, \"1\": {\"1\": 8, \"75\": 1, \"26\": 1, \"34\": 1, \"101\": 1}, \"16\": {\"16\": 8, \"108\": 1, \"84\": 1, \"0\": 1, \"62\": 1}, \"25\": {\"54\": 1, \"107\": 1, \"25\": 5, \"117\": 1, \"62\": 2, \"40\": 1, \"71\": 1}, \"90\": {\"90\": 6, \"120\": 1, \"59\": 1}, \"39\": {\"39\": 11, \"10\": 1}, \"28\": {\"28\": 2, \"120\": 1, \"56\": 1, \"103\": 2, \"20\": 2, \"77\": 1, \"76\": 1, \"29\": 1, \"32\": 1}, \"55\": {\"55\": 6, \"50\": 1, \"90\": 1, \"89\": 1, \"9\": 1, \"129\": 2}, \"117\": {\"45\": 2, \"104\": 2, \"92\": 1, \"117\": 4, \"20\": 1, \"2\": 1, \"67\": 1}, \"112\": {\"37\": 1, \"112\": 2, \"38\": 3, \"128\": 1, \"19\": 1, \"103\": 1, \"73\": 1, \"20\": 1, \"41\": 1}, \"38\": {\"74\": 2, \"38\": 7, \"128\": 1, \"20\": 1, \"103\": 1}, \"37\": {\"28\": 4, \"52\": 2, \"37\": 5, \"64\": 1}, \"120\": {\"48\": 1, \"120\": 4, \"80\": 1, \"29\": 2, \"13\": 1, \"65\": 1, \"92\": 1, \"64\": 1}, \"122\": {\"122\": 6, \"10\": 1, \"94\": 2, \"126\": 1, \"15\": 2}, \"50\": {\"50\": 8, \"5\": 1, \"85\": 1, \"120\": 1, \"53\": 1}, \"10\": {\"10\": 11, \"36\": 1}, \"5\": {\"5\": 10, \"42\": 1, \"89\": 1}, \"51\": {\"51\": 5, \"7\": 2, \"72\": 1, \"106\": 4}, \"3\": {\"3\": 9, \"70\": 1, \"75\": 1, \"108\": 1}, \"98\": {\"98\": 9, \"112\": 1, \"56\": 1, \"18\": 1}, \"70\": {\"70\": 11, \"78\": 1}, \"96\": {\"122\": 3, \"113\": 2, \"109\": 1, \"96\": 3, \"15\": 1, \"30\": 1, \"43\": 1}, \"12\": {\"12\": 8, \"96\": 1, \"51\": 2, \"122\": 1}, \"99\": {\"105\": 1, \"23\": 1, \"99\": 6, \"47\": 2, \"40\": 1, \"74\": 1}, \"52\": {\"55\": 1, \"52\": 8, \"25\": 1, \"44\": 1, \"37\": 1}, \"71\": {\"71\": 6, \"36\": 1, \"120\": 1, \"72\": 2, \"3\": 2}, \"89\": {\"55\": 1, \"89\": 7, \"92\": 1, \"82\": 1, \"76\": 2}, \"0\": {\"8\": 1, \"0\": 10, \"94\": 1}, \"4\": {\"4\": 6, \"63\": 2, \"10\": 1, \"24\": 1, \"8\": 1, \"13\": 1}, \"93\": {\"93\": 12}, \"6\": {\"6\": 7, \"91\": 1, \"92\": 1, \"100\": 1}, \"75\": {\"62\": 1, \"75\": 9, \"93\": 1, \"7\": 1}, \"62\": {\"93\": 1, \"62\": 9, \"75\": 1, \"43\": 1}, \"103\": {\"103\": 7, \"19\": 1, \"58\": 1, \"32\": 2, \"14\": 1}, \"30\": {\"30\": 11, \"36\": 1}, \"91\": {\"6\": 1, \"103\": 1, \"85\": 1, \"29\": 1, \"91\": 6, \"77\": 2}, \"27\": {\"27\": 11, \"24\": 1}, \"26\": {\"26\": 6, \"84\": 2, \"105\": 3, \"51\": 1}, \"61\": {\"82\": 2, \"61\": 7, \"45\": 1, \"89\": 1, \"111\": 1}, \"118\": {\"118\": 7, \"109\": 2, \"87\": 1, \"49\": 1, \"15\": 1}, \"92\": {\"92\": 9, \"99\": 1, \"32\": 2}, \"111\": {\"41\": 1, \"111\": 6, \"85\": 2, \"50\": 1, \"124\": 1, \"59\": 1}, \"32\": {\"98\": 1, \"85\": 1, \"28\": 2, \"44\": 1, \"32\": 6, \"57\": 1}, \"88\": {\"88\": 9, \"78\": 1}}, \"C_A_1\": {\"46\": {\"46\": 10, \"56\": 1, \"50\": 1}, \"16\": {\"16\": 12}, \"26\": {\"26\": 6, \"53\": 2, \"15\": 3, \"11\": 1}, \"10\": {\"10\": 12}, \"9\": {\"9\": 9, \"7\": 1}, \"28\": {\"28\": 12}, \"51\": {\"51\": 11, \"49\": 1}, \"1\": {\"1\": 12}, \"55\": {\"55\": 9, \"7\": 1, \"51\": 1, \"38\": 1}, \"27\": {\"27\": 10}, \"22\": {\"22\": 11, \"52\": 1}, \"52\": {\"52\": 12}, \"3\": {\"3\": 11, \"0\": 1}, \"33\": {\"33\": 8}, \"47\": {\"47\": 12}, \"42\": {\"42\": 12}, \"12\": {\"12\": 4}, \"23\": {\"23\": 11, \"34\": 1}, \"49\": {\"49\": 9, \"43\": 1}, \"7\": {\"49\": 1, \"7\": 6, \"36\": 1, \"43\": 1, \"32\": 2, \"48\": 1}, \"4\": {\"4\": 12}, \"50\": {\"50\": 12}, \"19\": {\"19\": 11, \"26\": 1}, \"11\": {\"11\": 12}, \"31\": {\"49\": 2, \"31\": 7, \"32\": 1}, \"41\": {\"41\": 10, \"36\": 1, \"32\": 1}, \"56\": {\"56\": 10}, \"0\": {\"0\": 12}, \"57\": {\"57\": 12}, \"53\": {\"53\": 12}, \"43\": {\"43\": 9, \"2\": 1, \"7\": 1, \"48\": 1}, \"37\": {\"37\": 11, \"49\": 1}, \"2\": {\"2\": 8}, \"6\": {\"6\": 11, \"46\": 1}, \"18\": {\"18\": 12}, \"38\": {\"38\": 8, \"36\": 1, \"7\": 2, \"2\": 1}, \"15\": {\"15\": 9, \"53\": 1, \"26\": 2}, \"36\": {\"36\": 10, \"8\": 2}, \"39\": {\"47\": 1, \"39\": 2, \"13\": 1, \"38\": 2, \"55\": 1, \"29\": 1}, \"44\": {\"44\": 11, \"45\": 1}, \"8\": {\"8\": 12}, \"17\": {\"17\": 10}, \"5\": {\"5\": 12}, \"13\": {\"13\": 10}, \"40\": {\"27\": 1, \"40\": 8, \"4\": 1}, \"29\": {\"29\": 8, \"8\": 1, \"57\": 2, \"2\": 1}, \"48\": {\"48\": 12}, \"32\": {\"48\": 2, \"32\": 5, \"2\": 1, \"8\": 1, \"7\": 1, \"36\": 2}, \"30\": {\"30\": 12}, \"35\": {\"35\": 10, \"23\": 1, \"19\": 1}, \"25\": {\"25\": 12}, \"14\": {\"14\": 10, \"13\": 2}, \"54\": {\"54\": 9, \"23\": 1}, \"20\": {\"20\": 8}, \"21\": {\"21\": 10}, \"45\": {\"45\": 8}, \"24\": {\"24\": 8}, \"34\": {\"34\": 7, \"10\": 1}}, \"W_A_4\": {\"28\": {\"28\": 8, \"31\": 1, \"66\": 1, \"61\": 1, \"42\": 1}, \"4\": {\"4\": 10, \"63\": 1, \"116\": 1}, \"72\": {\"12\": 2, \"72\": 4, \"49\": 1, \"101\": 1, \"53\": 1, \"106\": 2, \"100\": 1}, \"111\": {\"111\": 7, \"73\": 2, \"51\": 1, \"57\": 1, \"59\": 1}, \"108\": {\"108\": 11, \"97\": 1}, \"43\": {\"43\": 10}, \"96\": {\"14\": 1, \"12\": 1, \"88\": 1, \"96\": 3, \"9\": 2, \"105\": 1, \"30\": 1, \"54\": 1, \"43\": 1}, \"89\": {\"89\": 8, \"84\": 1, \"35\": 1, \"85\": 1, \"107\": 1}, \"31\": {\"31\": 6, \"45\": 1, \"19\": 1, \"119\": 1, \"29\": 1, \"59\": 1, \"125\": 1}, \"45\": {\"45\": 6, \"117\": 1, \"31\": 1, \"57\": 2, \"50\": 2}, \"2\": {\"45\": 2, \"64\": 1, \"2\": 4, \"66\": 1, \"115\": 2, \"67\": 1, \"42\": 1}, \"114\": {\"114\": 10, \"69\": 1, \"1\": 1}, \"11\": {\"43\": 2, \"11\": 4, \"96\": 1, \"7\": 1, \"118\": 2, \"126\": 1, \"93\": 1}, \"12\": {\"12\": 7, \"11\": 3, \"27\": 1, \"108\": 1}, \"14\": {\"72\": 1, \"14\": 6, \"71\": 2, \"3\": 2, \"93\": 1}, \"90\": {\"90\": 11, \"66\": 1}, \"10\": {\"10\": 10, \"24\": 2}, \"63\": {\"64\": 1, \"63\": 9, \"70\": 1, \"116\": 1}, \"85\": {\"85\": 9, \"10\": 1, \"99\": 2}, \"64\": {\"63\": 2, \"64\": 5, \"2\": 1, \"19\": 1, \"81\": 1, \"73\": 1, \"116\": 1}, \"82\": {\"121\": 1, \"42\": 1, \"82\": 7, \"48\": 1, \"63\": 1, \"68\": 1}, \"58\": {\"98\": 2, \"58\": 8, \"41\": 1, \"6\": 1}, \"3\": {\"3\": 6, \"54\": 1, \"96\": 1, \"71\": 1, \"105\": 2, \"14\": 1}, \"54\": {\"54\": 9, \"127\": 1, \"128\": 1, \"100\": 1}, \"121\": {\"121\": 6, \"98\": 1, \"90\": 1, \"41\": 2, \"20\": 1, \"68\": 1}, \"42\": {\"121\": 1, \"42\": 3, \"73\": 1, \"92\": 2, \"31\": 2, \"74\": 1, \"129\": 1, \"120\": 1}, \"98\": {\"85\": 1, \"98\": 7, \"20\": 1, \"29\": 1, \"41\": 2}, \"123\": {\"123\": 7, \"4\": 3, \"67\": 1, \"17\": 1}, \"91\": {\"91\": 9, \"98\": 1, \"121\": 2}, \"66\": {\"66\": 5, \"57\": 1, \"28\": 1, \"2\": 1, \"31\": 1, \"90\": 3}, \"102\": {\"102\": 7, \"129\": 2, \"86\": 1, \"45\": 1, \"17\": 1}, \"122\": {\"122\": 5, \"15\": 1, \"8\": 3, \"94\": 1, \"70\": 1, \"43\": 1}, \"1\": {\"1\": 9, \"114\": 1, \"40\": 1, \"16\": 1}, \"15\": {\"15\": 10, \"43\": 1, \"30\": 1}, \"97\": {\"108\": 2, \"97\": 9, \"2\": 1}, \"75\": {\"75\": 7, \"5\": 2, \"25\": 2, \"98\": 1}, \"95\": {\"75\": 2, \"1\": 1, \"46\": 1, \"52\": 1, \"85\": 1, \"95\": 5, \"100\": 1}, \"57\": {\"125\": 2, \"57\": 7, \"111\": 1, \"119\": 2}, \"68\": {\"57\": 1, \"68\": 4, \"6\": 1, \"91\": 1, \"77\": 1, \"82\": 1, \"128\": 1, \"100\": 1, \"56\": 1}, \"125\": {\"66\": 1, \"125\": 9, \"22\": 1, \"42\": 1}, \"62\": {\"62\": 10}, \"27\": {\"27\": 11, \"21\": 1}, \"120\": {\"120\": 8, \"91\": 1, \"24\": 1, \"64\": 1, \"42\": 1}, \"26\": {\"84\": 2, \"26\": 5, \"113\": 1, \"118\": 1, \"106\": 1, \"71\": 1, \"126\": 1}, \"55\": {\"35\": 2, \"91\": 1, \"128\": 1, \"33\": 1, \"55\": 3, \"6\": 1, \"28\": 1, \"56\": 1, \"73\": 1}, \"71\": {\"84\": 1, \"26\": 1, \"71\": 5, \"110\": 1, \"88\": 1, \"14\": 2, \"72\": 1}, \"22\": {\"22\": 11, \"121\": 1}, \"99\": {\"83\": 2, \"14\": 2, \"84\": 2, \"21\": 1, \"99\": 3, \"44\": 1, \"85\": 1}, \"84\": {\"84\": 6, \"26\": 1, \"103\": 1, \"99\": 2, \"1\": 1, \"30\": 1}, \"37\": {\"37\": 6, \"124\": 1, \"64\": 1, \"79\": 2, \"63\": 1, \"86\": 1}, \"83\": {\"83\": 2, \"26\": 1, \"1\": 2, \"103\": 2, \"5\": 3, \"105\": 1, \"40\": 1}, \"46\": {\"55\": 2, \"35\": 1, \"46\": 3, \"120\": 1, \"86\": 1, \"73\": 1, \"42\": 1, \"48\": 1, \"85\": 1}, \"35\": {\"91\": 1, \"99\": 1, \"89\": 3, \"35\": 2, \"55\": 2, \"98\": 1, \"33\": 1, \"46\": 1}, \"13\": {\"13\": 8, \"63\": 1, \"65\": 2, \"92\": 1}, \"53\": {\"54\": 2, \"51\": 2, \"88\": 1, \"96\": 1, \"53\": 2, \"72\": 1, \"21\": 1, \"49\": 2}, \"127\": {\"54\": 2, \"127\": 8, \"51\": 2}, \"69\": {\"97\": 1, \"69\": 8, \"75\": 1, \"78\": 1, \"40\": 1}, \"48\": {\"48\": 3, \"17\": 3, \"123\": 2, \"67\": 2, \"124\": 1, \"35\": 1}, \"16\": {\"127\": 1, \"16\": 8, \"71\": 2, \"1\": 1}, \"0\": {\"0\": 8, \"8\": 2, \"103\": 1, \"87\": 1}, \"8\": {\"8\": 10, \"97\": 2}, \"9\": {\"9\": 2, \"54\": 2, \"20\": 1, \"34\": 1, \"96\": 2, \"72\": 1, \"95\": 1, \"40\": 2}, \"115\": {\"57\": 1, \"115\": 9, \"119\": 1, \"128\": 1}, \"70\": {\"70\": 9, \"17\": 1, \"36\": 2}, \"119\": {\"119\": 9, \"120\": 1, \"59\": 1, \"129\": 1}, \"59\": {\"59\": 5, \"45\": 1, \"19\": 1, \"29\": 1, \"31\": 2, \"111\": 1, \"6\": 1}, \"52\": {\"51\": 2, \"52\": 7, \"83\": 1, \"5\": 1, \"85\": 1}, \"60\": {\"60\": 4, \"15\": 1, \"101\": 2, \"94\": 1, \"118\": 1, \"110\": 1, \"109\": 2}, \"44\": {\"44\": 7, \"53\": 1, \"74\": 1, \"95\": 2, \"38\": 1}, \"51\": {\"60\": 1, \"70\": 1, \"3\": 1, \"114\": 1, \"51\": 1, \"100\": 2, \"25\": 1, \"12\": 1, \"99\": 1, \"126\": 1, \"53\": 1}, \"6\": {\"46\": 1, \"68\": 1, \"6\": 9, \"74\": 1}, \"73\": {\"92\": 1, \"73\": 6, \"33\": 1, \"55\": 1, \"61\": 1, \"23\": 1, \"31\": 1}, \"78\": {\"78\": 10, \"88\": 2}, \"92\": {\"50\": 2, \"124\": 2, \"92\": 5, \"42\": 1, \"57\": 2}, \"20\": {\"20\": 6, \"18\": 1, \"109\": 1, \"84\": 2, \"5\": 1, \"99\": 1}, \"17\": {\"63\": 2, \"104\": 1, \"67\": 1, \"17\": 6, \"48\": 1, \"4\": 1}, \"74\": {\"9\": 1, \"74\": 4, \"51\": 2, \"103\": 1, \"44\": 2, \"89\": 2}, \"19\": {\"19\": 8, \"35\": 1, \"33\": 2, \"41\": 1}, \"50\": {\"92\": 1, \"63\": 1, \"48\": 1, \"50\": 5, \"56\": 2, \"61\": 1, \"119\": 1}, \"34\": {\"34\": 7, \"6\": 1, \"62\": 2, \"1\": 1, \"89\": 1}, \"104\": {\"104\": 5, \"50\": 2, \"2\": 1}, \"33\": {\"33\": 7, \"98\": 1, \"56\": 2, \"9\": 1, \"70\": 1}, \"5\": {\"5\": 5, \"16\": 1, \"18\": 2, \"107\": 1, \"98\": 1, \"83\": 1, \"128\": 1}, \"7\": {\"7\": 9, \"43\": 1, \"0\": 2}, \"29\": {\"29\": 9, \"56\": 1, \"19\": 1, \"112\": 1}, \"25\": {\"25\": 9, \"34\": 2, \"49\": 1}, \"124\": {\"42\": 1, \"124\": 7, \"116\": 1, \"57\": 1, \"121\": 1, \"90\": 1}, \"117\": {\"124\": 1, \"117\": 7, \"88\": 1, \"79\": 1, \"64\": 1, \"108\": 1}, \"88\": {\"88\": 12}, \"61\": {\"28\": 3, \"88\": 1, \"66\": 1, \"61\": 3, \"50\": 1, \"32\": 1, \"64\": 1, \"73\": 1}, \"86\": {\"117\": 1, \"124\": 1, \"120\": 2, \"86\": 4, \"115\": 2, \"116\": 1, \"102\": 1}, \"116\": {\"86\": 1, \"117\": 1, \"22\": 2, \"61\": 1, \"79\": 1, \"63\": 1, \"116\": 2, \"17\": 1, \"81\": 1, \"129\": 1}, \"24\": {\"24\": 12}, \"128\": {\"128\": 5, \"52\": 1, \"21\": 1, \"100\": 1, \"38\": 2, \"9\": 1, \"91\": 1}, \"101\": {\"101\": 9, \"94\": 1, \"12\": 2}, \"65\": {\"65\": 9, \"86\": 1}, \"36\": {\"36\": 12}, \"21\": {\"21\": 11, \"24\": 1}, \"106\": {\"27\": 1, \"106\": 8, \"126\": 1, \"87\": 1, \"110\": 1}, \"118\": {\"118\": 5, \"88\": 2, \"87\": 1, \"101\": 1, \"0\": 1, \"110\": 1, \"11\": 1}, \"113\": {\"97\": 2, \"113\": 2, \"24\": 2, \"87\": 1, \"30\": 1, \"126\": 2, \"109\": 1, \"11\": 1}, \"40\": {\"52\": 1, \"1\": 1, \"40\": 8, \"5\": 1, \"9\": 1}, \"93\": {\"93\": 6, \"109\": 1, \"11\": 1}, \"94\": {\"94\": 11, \"36\": 1}, \"103\": {\"35\": 2, \"77\": 1, \"46\": 1, \"103\": 4, \"97\": 1, \"87\": 1, \"52\": 1, \"54\": 1}, \"110\": {\"8\": 1, \"118\": 1, \"110\": 6, \"87\": 1, \"93\": 1, \"109\": 2}, \"56\": {\"31\": 1, \"56\": 3, \"92\": 1, \"44\": 1, \"81\": 1, \"76\": 1, \"59\": 1, \"100\": 1, \"33\": 1, \"41\": 1}, \"39\": {\"39\": 10, \"43\": 1, \"94\": 1}, \"109\": {\"0\": 1, \"109\": 10, \"126\": 1}, \"67\": {\"67\": 6, \"86\": 2, \"115\": 1, \"48\": 2, \"88\": 1}, \"129\": {\"73\": 1, \"51\": 1, \"103\": 1, \"129\": 1, \"22\": 2, \"68\": 1, \"123\": 1, \"42\": 1, \"64\": 1, \"50\": 2}, \"30\": {\"30\": 12}, \"126\": {\"126\": 8, \"109\": 3, \"10\": 1}, \"87\": {\"21\": 1, \"87\": 5, \"39\": 2, \"126\": 1, \"0\": 1, \"15\": 2}, \"112\": {\"112\": 5, \"47\": 1, \"100\": 1, \"33\": 2, \"107\": 1, \"19\": 1, \"82\": 1}, \"100\": {\"81\": 1, \"76\": 1, \"100\": 4, \"84\": 1, \"105\": 1, \"20\": 1, \"14\": 1, \"95\": 1, \"18\": 1}, \"79\": {\"79\": 8, \"50\": 1, \"65\": 1}, \"81\": {\"81\": 5, \"121\": 1, \"55\": 1, \"28\": 1, \"108\": 1, \"61\": 1, \"120\": 2}, \"76\": {\"112\": 2, \"76\": 3, \"32\": 1, \"38\": 1, \"58\": 3}, \"47\": {\"47\": 7, \"21\": 1, \"5\": 1, \"52\": 1, \"18\": 2}, \"77\": {\"77\": 9, \"112\": 1, \"41\": 1, \"38\": 1}, \"23\": {\"103\": 1, \"0\": 2, \"110\": 3, \"108\": 1, \"106\": 1, \"126\": 1, \"7\": 1, \"21\": 1, \"87\": 1}, \"18\": {\"18\": 12}, \"49\": {\"49\": 3, \"85\": 1, \"7\": 2, \"105\": 2, \"53\": 1, \"87\": 1, \"127\": 2}, \"41\": {\"41\": 5, \"123\": 1, \"116\": 1, \"77\": 1, \"112\": 2, \"4\": 1, \"120\": 1}, \"32\": {\"76\": 3, \"32\": 1, \"77\": 3, \"38\": 2, \"46\": 2, \"98\": 1}, \"107\": {\"100\": 2, \"107\": 5, \"112\": 1, \"84\": 1, \"33\": 1}, \"80\": {\"80\": 11, \"22\": 1}, \"105\": {\"105\": 6, \"5\": 2, \"24\": 1, \"16\": 1}, \"38\": {\"38\": 7, \"20\": 1, \"32\": 1, \"128\": 1}}, \"W_A_1\": {\"108\": {\"108\": 10}, \"40\": {\"40\": 7, \"14\": 2, \"32\": 1, \"34\": 1, \"105\": 1}, \"68\": {\"89\": 1, \"64\": 1, \"83\": 1, \"68\": 5, \"28\": 1, \"20\": 1, \"91\": 1, \"77\": 1}, \"23\": {\"108\": 1, \"110\": 1, \"127\": 1, \"122\": 1, \"23\": 4, \"78\": 1, \"7\": 1, \"27\": 2}, \"26\": {\"70\": 1, \"26\": 8, \"62\": 3}, \"64\": {\"22\": 1, \"64\": 6, \"90\": 1, \"103\": 1, \"41\": 1, \"129\": 1, \"66\": 1}, \"22\": {\"22\": 5, \"86\": 1, \"17\": 1, \"67\": 1, \"45\": 2, \"57\": 1, \"46\": 1}, \"3\": {\"40\": 3, \"34\": 3, \"3\": 4, \"26\": 1, \"101\": 1}, \"4\": {\"102\": 2, \"13\": 2, \"4\": 6, \"78\": 1, \"116\": 1}, \"70\": {\"70\": 12}, \"57\": {\"22\": 2, \"57\": 10}, \"79\": {\"79\": 7, \"57\": 2, \"2\": 1, \"124\": 1, \"119\": 1}, \"9\": {\"3\": 1, \"89\": 1, \"75\": 1, \"34\": 1, \"53\": 1, \"9\": 4, \"49\": 1, \"128\": 1, \"31\": 1}, \"89\": {\"9\": 1, \"89\": 6, \"16\": 1, \"107\": 2, \"29\": 1, \"32\": 1}, \"110\": {\"110\": 10, \"71\": 1, \"93\": 1}, \"102\": {\"102\": 8, \"79\": 1, \"129\": 1, \"13\": 2}, \"31\": {\"31\": 6, \"96\": 1, \"40\": 1, \"71\": 1, \"0\": 1, \"1\": 1, \"9\": 1}, \"58\": {\"58\": 8, \"83\": 1, \"104\": 1, \"59\": 1, \"41\": 1}, \"47\": {\"47\": 3, \"52\": 1, \"72\": 2, \"98\": 1, \"33\": 1, \"112\": 1, \"9\": 1, \"74\": 2}, \"24\": {\"24\": 10, \"30\": 1, \"88\": 1}, \"19\": {\"52\": 1, \"19\": 7, \"50\": 2, \"47\": 1, \"128\": 1}, \"11\": {\"11\": 11, \"94\": 1}, \"52\": {\"52\": 10, \"29\": 1, \"32\": 1}, \"17\": {\"68\": 2, \"17\": 6, \"67\": 2, \"120\": 1, \"5\": 1}, \"25\": {\"83\": 1, \"68\": 1, \"6\": 1, \"42\": 1, \"25\": 5, \"59\": 1, \"82\": 1, \"20\": 1}, \"69\": {\"31\": 2, \"69\": 8, \"60\": 1, \"18\": 1}, \"96\": {\"11\": 2, \"96\": 3, \"39\": 1, \"106\": 1, \"93\": 1, \"101\": 1, \"15\": 2, \"43\": 1}, \"109\": {\"109\": 12}, \"115\": {\"115\": 10, \"57\": 1, \"123\": 1}, \"83\": {\"58\": 1, \"47\": 1, \"42\": 1, \"32\": 1, \"91\": 1, \"4\": 1, \"82\": 2, \"1\": 1, \"41\": 1, \"52\": 1, \"98\": 1}, \"84\": {\"84\": 4, \"127\": 2, \"96\": 1, \"106\": 1, \"71\": 1, \"18\": 2, \"27\": 1}, \"119\": {\"119\": 6, \"2\": 2, \"65\": 2}, \"122\": {\"122\": 5, \"126\": 2, \"87\": 2, \"24\": 1}, \"99\": {\"16\": 1, \"99\": 9, \"51\": 1, \"9\": 1}, \"1\": {\"53\": 1, \"1\": 10, \"81\": 1}, \"74\": {\"74\": 9, \"65\": 1, \"81\": 1, \"48\": 1}, \"85\": {\"85\": 8, \"89\": 1, \"73\": 1, \"29\": 2}, \"127\": {\"84\": 3, \"127\": 5, \"105\": 1, \"69\": 3}, \"111\": {\"85\": 1, \"111\": 7, \"5\": 1, \"77\": 1, \"58\": 1, \"6\": 1}, \"53\": {\"53\": 11, \"49\": 1}, \"88\": {\"88\": 12}, \"65\": {\"65\": 5, \"115\": 1, \"86\": 2, \"13\": 1, \"119\": 1}, \"7\": {\"7\": 11, \"23\": 1}, \"16\": {\"16\": 3, \"1\": 1, \"127\": 1, \"10\": 1, \"51\": 1, \"105\": 1, \"118\": 1, \"49\": 1, \"31\": 2}, \"128\": {\"128\": 6, \"20\": 1, \"98\": 1, \"92\": 1, \"19\": 1, \"32\": 1, \"47\": 1}, \"34\": {\"34\": 7, \"114\": 1, \"75\": 1, \"3\": 2, \"76\": 1}, \"129\": {\"17\": 1, \"129\": 7, \"22\": 1, \"46\": 1, \"61\": 1, \"117\": 1}, \"43\": {\"43\": 11, \"11\": 1}, \"92\": {\"34\": 1, \"92\": 9, \"89\": 1, \"32\": 1}, \"28\": {\"28\": 6, \"17\": 1, \"90\": 1, \"38\": 1, \"42\": 1, \"116\": 1, \"61\": 1}, \"27\": {\"27\": 10, \"30\": 2}, \"114\": {\"114\": 11, \"92\": 1}, \"73\": {\"73\": 3, \"68\": 1, \"50\": 5, \"98\": 1, \"95\": 1, \"85\": 1}, \"0\": {\"0\": 8, \"43\": 1, \"8\": 1, \"12\": 1, \"36\": 1}, \"104\": {\"41\": 2, \"129\": 1, \"104\": 6, \"5\": 1, \"58\": 1, \"46\": 1}, \"118\": {\"118\": 10, \"0\": 1, \"87\": 1}, \"41\": {\"28\": 2, \"41\": 9, \"120\": 1}, \"49\": {\"49\": 3, \"14\": 1, \"56\": 1, \"72\": 1, \"9\": 1, \"118\": 1, \"34\": 2, \"16\": 2}, \"14\": {\"14\": 10, \"62\": 1, \"9\": 1}, \"46\": {\"66\": 1, \"5\": 1, \"46\": 2, \"109\": 1, \"54\": 1, \"67\": 1, \"82\": 1, \"57\": 2, \"104\": 2}, \"33\": {\"33\": 11, \"20\": 1}, \"76\": {\"76\": 10, \"34\": 1, \"3\": 1}, \"125\": {\"125\": 12}, \"86\": {\"104\": 2, \"86\": 7, \"41\": 1}, \"66\": {\"86\": 1, \"66\": 5, \"64\": 2, \"61\": 1, \"38\": 1, \"59\": 1, \"44\": 1}, \"5\": {\"5\": 5, \"104\": 1, \"42\": 1, \"111\": 3, \"61\": 1, \"17\": 1}, \"117\": {\"22\": 1, \"67\": 3, \"117\": 4, \"119\": 1, \"102\": 1, \"38\": 1, \"123\": 1}, \"75\": {\"9\": 1, \"34\": 1, \"75\": 6, \"72\": 1, \"14\": 1, \"20\": 1, \"31\": 1}, \"61\": {\"61\": 10, \"121\": 2}, \"50\": {\"50\": 6, \"73\": 1, \"100\": 1, \"27\": 1, \"54\": 1, \"74\": 1, \"86\": 1}, \"67\": {\"17\": 1, \"67\": 4, \"55\": 2, \"46\": 1, \"48\": 1, \"13\": 1}, \"18\": {\"18\": 10, \"113\": 2}, \"98\": {\"98\": 11, \"52\": 1}, \"55\": {\"55\": 6, \"58\": 1, \"125\": 1, \"5\": 1, \"59\": 1}, \"32\": {\"32\": 8, \"40\": 1, \"56\": 1, \"128\": 1, \"75\": 1}, \"120\": {\"120\": 6, \"45\": 1, \"59\": 2, \"61\": 2, \"37\": 1}, \"97\": {\"97\": 11, \"78\": 1}, \"126\": {\"97\": 2, \"10\": 1, \"126\": 7, \"30\": 2}, \"45\": {\"120\": 1, \"46\": 1, \"115\": 1, \"45\": 5, \"80\": 1, \"124\": 1, \"22\": 2}, \"78\": {\"78\": 8, \"21\": 1, \"108\": 1}, \"100\": {\"77\": 2, \"19\": 1, \"25\": 1, \"50\": 2, \"100\": 2, \"56\": 1, \"128\": 1, \"68\": 1, \"81\": 1}, \"107\": {\"107\": 11, \"3\": 1}, \"93\": {\"93\": 9, \"97\": 2, \"27\": 1}, \"77\": {\"77\": 11, \"28\": 1}, \"63\": {\"115\": 1, \"63\": 9, \"119\": 1, \"102\": 1}, \"112\": {\"77\": 2, \"112\": 4, \"111\": 1, \"128\": 1, \"59\": 2, \"5\": 1, \"58\": 1}, \"113\": {\"113\": 7, \"69\": 3, \"11\": 1, \"71\": 1}, \"103\": {\"85\": 2, \"56\": 1, \"103\": 3, \"77\": 1, \"41\": 1, \"98\": 2}, \"71\": {\"71\": 9, \"15\": 1, \"60\": 1, \"127\": 1}, \"30\": {\"30\": 10, \"24\": 1, \"27\": 1}, \"90\": {\"90\": 12}, \"37\": {\"60\": 1, \"37\": 10, \"77\": 1}, \"60\": {\"69\": 1, \"60\": 3, \"49\": 1, \"39\": 1, \"11\": 1, \"75\": 1, \"12\": 1, \"84\": 1, \"106\": 1, \"7\": 1}, \"15\": {\"15\": 12}, \"39\": {\"39\": 12}, \"72\": {\"49\": 2, \"72\": 5, \"56\": 2, \"75\": 3}, \"54\": {\"54\": 8, \"82\": 1, \"98\": 2, \"99\": 1}, \"35\": {\"35\": 7, \"106\": 1, \"12\": 2, \"44\": 1, \"51\": 1}, \"2\": {\"86\": 1, \"119\": 2, \"116\": 3, \"2\": 4, \"57\": 2}, \"94\": {\"15\": 1, \"94\": 9, \"108\": 1, \"109\": 1}, \"42\": {\"42\": 6, \"25\": 4, \"22\": 1, \"28\": 1}, \"81\": {\"81\": 7, \"1\": 1, \"107\": 2, \"73\": 1, \"82\": 1}, \"8\": {\"8\": 8, \"87\": 2, \"27\": 2}, \"87\": {\"8\": 3, \"87\": 6, \"39\": 1, \"97\": 2}, \"6\": {\"6\": 8, \"25\": 1, \"112\": 1, \"59\": 1, \"111\": 1}, \"36\": {\"36\": 12}, \"91\": {\"6\": 1, \"25\": 1, \"91\": 9, \"28\": 1}, \"56\": {\"72\": 1, \"56\": 9, \"14\": 1, \"53\": 1}, \"80\": {\"80\": 8, \"48\": 2, \"18\": 1, \"117\": 1}, \"124\": {\"124\": 6, \"66\": 1, \"5\": 2, \"86\": 1}, \"44\": {\"44\": 11, \"35\": 1}, \"13\": {\"13\": 7, \"102\": 1, \"123\": 2, \"61\": 1, \"65\": 1}, \"10\": {\"10\": 10, \"88\": 1, \"21\": 1}, \"59\": {\"58\": 2, \"37\": 1, \"59\": 7, \"120\": 1, \"82\": 1}, \"95\": {\"95\": 6, \"82\": 1, \"52\": 1, \"120\": 1, \"38\": 1, \"99\": 1, \"54\": 1}, \"105\": {\"16\": 4, \"122\": 1, \"105\": 4, \"1\": 1, \"111\": 1, \"49\": 1}, \"101\": {\"101\": 9, \"71\": 2, \"12\": 1}, \"20\": {\"20\": 10, \"128\": 1, \"98\": 1}, \"48\": {\"48\": 11, \"115\": 1}, \"106\": {\"96\": 2, \"106\": 9, \"36\": 1}, \"51\": {\"51\": 10, \"35\": 1, \"72\": 1}, \"21\": {\"21\": 11, \"70\": 1}, \"123\": {\"123\": 8, \"48\": 1, \"13\": 1, \"4\": 1, \"115\": 1}, \"121\": {\"38\": 1, \"61\": 1, \"91\": 1, \"116\": 3, \"121\": 5, \"90\": 1}, \"38\": {\"38\": 4, \"61\": 1, \"90\": 3, \"82\": 1, \"28\": 1, \"66\": 1, \"58\": 1}, \"62\": {\"62\": 9, \"14\": 2, \"60\": 1}, \"29\": {\"29\": 7, \"99\": 1, \"114\": 1, \"33\": 1, \"32\": 1, \"89\": 1}, \"82\": {\"90\": 1, \"82\": 9, \"42\": 1, \"25\": 1}, \"116\": {\"116\": 7, \"2\": 2, \"125\": 1, \"124\": 1, \"119\": 1}, \"12\": {\"12\": 4, \"8\": 1, \"23\": 1, \"43\": 1, \"101\": 1}}, \"W_A_2\": {\"91\": {\"91\": 7, \"41\": 1, \"92\": 1, \"17\": 1, \"42\": 1, \"59\": 1}, \"12\": {\"12\": 5, \"118\": 2, \"110\": 2, \"109\": 1, \"7\": 1, \"94\": 1}, \"101\": {\"101\": 10}, \"121\": {\"91\": 2, \"110\": 1, \"120\": 1, \"68\": 1, \"124\": 1, \"64\": 2, \"92\": 1, \"90\": 1, \"5\": 1, \"121\": 1}, \"118\": {\"126\": 1, \"118\": 6, \"106\": 1, \"10\": 1, \"113\": 2, \"122\": 1}, \"10\": {\"126\": 2, \"10\": 8, \"70\": 2}, \"117\": {\"86\": 4, \"37\": 1, \"117\": 4, \"2\": 1, \"66\": 1, \"121\": 1}, \"110\": {\"110\": 6, \"126\": 1, \"12\": 1, \"16\": 2, \"93\": 2}, \"97\": {\"126\": 1, \"121\": 1, \"15\": 1, \"118\": 1, \"97\": 4, \"10\": 1, \"94\": 1, \"119\": 1, \"43\": 1}, \"28\": {\"88\": 1, \"17\": 1, \"90\": 1, \"46\": 1, \"5\": 1, \"28\": 2, \"50\": 1, \"33\": 1, \"73\": 1, \"55\": 1, \"25\": 1}, \"88\": {\"10\": 1, \"88\": 9, \"24\": 1, \"21\": 1}, \"17\": {\"86\": 1, \"17\": 2, \"125\": 1, \"64\": 1, \"115\": 2, \"78\": 1, \"102\": 2, \"116\": 1, \"65\": 1}, \"126\": {\"126\": 11, \"108\": 1}, \"33\": {\"33\": 8, \"56\": 2, \"14\": 1, \"44\": 1}, \"86\": {\"86\": 9, \"66\": 1, \"5\": 1, \"2\": 1}, \"106\": {\"12\": 1, \"106\": 9, \"118\": 2}, \"54\": {\"54\": 12}, \"125\": {\"42\": 2, \"125\": 8, \"66\": 2}, \"83\": {\"83\": 7, \"32\": 1, \"29\": 1, \"44\": 1, \"53\": 1, \"98\": 1}, \"98\": {\"98\": 10, \"54\": 1, \"25\": 1}, \"11\": {\"11\": 10, \"43\": 1, \"27\": 1}, \"32\": {\"32\": 4, \"34\": 1, \"47\": 1, \"74\": 2, \"100\": 2, \"107\": 1, \"56\": 1}, \"42\": {\"61\": 1, \"103\": 1, \"42\": 4, \"41\": 1, \"63\": 1, \"50\": 2, \"115\": 1, \"57\": 1}, \"103\": {\"103\": 7, \"50\": 1, \"82\": 1, \"124\": 1, \"45\": 1, \"111\": 1}, \"87\": {\"87\": 10, \"94\": 1, \"15\": 1}, \"61\": {\"11\": 1, \"103\": 1, \"107\": 2, \"61\": 5, \"53\": 1, \"74\": 1, \"65\": 1}, \"13\": {\"4\": 2, \"13\": 7, \"116\": 1, \"48\": 1, \"22\": 1}, \"4\": {\"4\": 10, \"102\": 1, \"22\": 1}, \"15\": {\"15\": 10}, \"120\": {\"89\": 1, \"64\": 1, \"45\": 1, \"120\": 7, \"29\": 1, \"66\": 1}, \"80\": {\"80\": 9, \"102\": 2, \"48\": 1}, \"72\": {\"98\": 2, \"31\": 2, \"107\": 2, \"72\": 1, \"69\": 1, \"53\": 1, \"40\": 1}, \"64\": {\"76\": 1, \"121\": 2, \"82\": 1, \"17\": 1, \"120\": 1, \"45\": 2, \"81\": 2, \"47\": 1, \"90\": 1}, \"81\": {\"89\": 1, \"76\": 1, \"69\": 1, \"81\": 3, \"46\": 2, \"19\": 1, \"99\": 1, \"121\": 1, \"82\": 1}, \"102\": {\"102\": 11, \"117\": 1}, \"76\": {\"53\": 1, \"76\": 3, \"111\": 1, \"45\": 2, \"41\": 1, \"54\": 1, \"64\": 1, \"90\": 1, \"46\": 1}, \"49\": {\"49\": 6, \"40\": 1, \"62\": 1, \"47\": 1, \"21\": 1}, \"129\": {\"121\": 2, \"50\": 1, \"129\": 6, \"124\": 1, \"17\": 2}, \"89\": {\"81\": 2, \"64\": 2, \"45\": 1, \"61\": 1, \"57\": 1, \"38\": 1, \"89\": 2, \"90\": 1, \"55\": 1}, \"52\": {\"52\": 4, \"53\": 1, \"61\": 1, \"47\": 2, \"38\": 2, \"112\": 1, \"76\": 1}, \"35\": {\"35\": 6, \"127\": 1, \"96\": 4, \"3\": 1}, \"53\": {\"53\": 8, \"122\": 1, \"83\": 1, \"128\": 1, \"70\": 1}, \"112\": {\"100\": 1, \"17\": 1, \"112\": 8, \"19\": 1, \"52\": 1}, \"105\": {\"105\": 10, \"127\": 2}, \"100\": {\"64\": 1, \"100\": 7, \"109\": 1, \"58\": 1, \"107\": 2}, \"9\": {\"51\": 1, \"105\": 1, \"9\": 9, \"114\": 1}, \"82\": {\"64\": 2, \"82\": 7, \"50\": 1, \"89\": 2}, \"51\": {\"51\": 8, \"40\": 1, \"32\": 1, \"9\": 2}, \"21\": {\"21\": 12}, \"92\": {\"82\": 1, \"77\": 1, \"85\": 1, \"29\": 1, \"47\": 1, \"99\": 1, \"50\": 1, \"31\": 1, \"92\": 1, \"84\": 1, \"57\": 2}, \"69\": {\"69\": 8, \"126\": 1, \"1\": 1, \"18\": 2}, \"77\": {\"112\": 2, \"77\": 5, \"38\": 2, \"19\": 1, \"29\": 2}, \"50\": {\"46\": 1, \"103\": 1, \"82\": 2, \"50\": 5, \"123\": 1, \"89\": 1, \"129\": 1}, \"36\": {\"36\": 12}, \"16\": {\"16\": 6, \"8\": 1, \"24\": 1, \"7\": 2, \"110\": 1, \"78\": 1}, \"8\": {\"18\": 1, \"8\": 8, \"43\": 1, \"36\": 1, \"54\": 1}, \"127\": {\"127\": 12}, \"46\": {\"123\": 1, \"46\": 8, \"28\": 1}, \"84\": {\"84\": 9, \"105\": 1, \"95\": 1, \"107\": 1}, \"18\": {\"18\": 10, \"95\": 1, \"69\": 1}, \"123\": {\"123\": 8, \"81\": 1, \"42\": 1}, \"56\": {\"75\": 1, \"56\": 2, \"69\": 1, \"109\": 1, \"83\": 1, \"74\": 1, \"58\": 1, \"32\": 1, \"31\": 1, \"54\": 1, \"71\": 1}, \"26\": {\"26\": 11, \"71\": 1}, \"14\": {\"88\": 1, \"14\": 5, \"72\": 1, \"3\": 1, \"34\": 1, \"43\": 1, \"1\": 1, \"27\": 1}, \"109\": {\"109\": 7, \"88\": 1, \"108\": 2, \"78\": 2}, \"66\": {\"111\": 2, \"59\": 1, \"99\": 1, \"119\": 1, \"66\": 3, \"120\": 1, \"5\": 1, \"92\": 1, \"85\": 1}, \"24\": {\"24\": 12}, \"71\": {\"66\": 1, \"71\": 8, \"105\": 1, \"62\": 2}, \"65\": {\"65\": 7, \"80\": 1, \"25\": 1, \"115\": 1, \"59\": 1, \"47\": 1}, \"75\": {\"71\": 2, \"75\": 4, \"25\": 1, \"44\": 1, \"49\": 1, \"127\": 1, \"16\": 1, \"21\": 1}, \"111\": {\"111\": 12}, \"30\": {\"30\": 12}, \"85\": {\"29\": 1, \"45\": 2, \"68\": 1, \"90\": 2, \"129\": 1, \"6\": 1, \"59\": 1, \"85\": 2, \"103\": 1}, \"113\": {\"113\": 8, \"106\": 1, \"21\": 1}, \"45\": {\"45\": 6, \"116\": 1, \"129\": 2, \"68\": 1, \"121\": 2}, \"29\": {\"29\": 8, \"58\": 1, \"77\": 2, \"25\": 1}, \"20\": {\"20\": 8, \"44\": 3, \"53\": 1}, \"25\": {\"25\": 6, \"44\": 3, \"19\": 1, \"29\": 1, \"61\": 1}, \"0\": {\"126\": 1, \"36\": 2, \"43\": 1, \"0\": 7, \"11\": 1}, \"68\": {\"69\": 1, \"68\": 7, \"55\": 1, \"47\": 1, \"53\": 1, \"128\": 1}, \"119\": {\"90\": 2, \"116\": 1, \"121\": 1, \"119\": 3, \"59\": 2, \"66\": 1, \"120\": 2}, \"90\": {\"90\": 9, \"66\": 1, \"92\": 1, \"123\": 1}, \"38\": {\"99\": 3, \"38\": 8, \"112\": 1}, \"99\": {\"90\": 2, \"77\": 1, \"99\": 5, \"59\": 1, \"121\": 1, \"55\": 1, \"44\": 1}, \"1\": {\"1\": 10, \"14\": 2}, \"67\": {\"4\": 1, \"90\": 1, \"102\": 1, \"109\": 1, \"42\": 1, \"67\": 4, \"123\": 1, \"104\": 1, \"29\": 1}, \"63\": {\"63\": 12}, \"34\": {\"56\": 1, \"34\": 6, \"32\": 1, \"128\": 1, \"44\": 2, \"19\": 1}, \"108\": {\"108\": 11, \"11\": 1}, \"40\": {\"69\": 1, \"40\": 4, \"62\": 1, \"49\": 2, \"95\": 1, \"14\": 1, \"1\": 1, \"71\": 1}, \"47\": {\"33\": 2, \"59\": 1, \"47\": 3, \"58\": 1, \"119\": 1, \"74\": 2, \"34\": 2}, \"37\": {\"37\": 7, \"2\": 3, \"5\": 1, \"116\": 1}, \"78\": {\"78\": 12}, \"96\": {\"101\": 1, \"96\": 4, \"39\": 1, \"72\": 2, \"12\": 1, \"35\": 1, \"23\": 1, \"3\": 1}, \"43\": {\"43\": 10, \"21\": 1, \"11\": 1}, \"5\": {\"67\": 1, \"124\": 1, \"5\": 6, \"37\": 1, \"73\": 1}, \"124\": {\"67\": 1, \"5\": 1, \"124\": 5, \"91\": 1, \"68\": 1, \"104\": 1, \"41\": 1, \"79\": 1}, \"44\": {\"44\": 11, \"34\": 1}, \"41\": {\"67\": 1, \"42\": 2, \"91\": 1, \"41\": 5, \"6\": 1, \"8\": 1, \"65\": 1}, \"116\": {\"45\": 2, \"116\": 4, \"22\": 1, \"124\": 1, \"17\": 1, \"2\": 1, \"120\": 1, \"37\": 1}, \"19\": {\"112\": 2, \"55\": 2, \"6\": 2, \"19\": 4, \"34\": 1, \"68\": 1}, \"115\": {\"65\": 2, \"22\": 1, \"115\": 5, \"2\": 2, \"86\": 1, \"48\": 1}, \"95\": {\"26\": 2, \"95\": 4, \"70\": 1, \"84\": 1, \"34\": 1, \"1\": 2, \"54\": 1}, \"3\": {\"3\": 9, \"60\": 1}, \"59\": {\"66\": 1, \"63\": 1, \"59\": 8, \"57\": 2}, \"55\": {\"19\": 1, \"55\": 8, \"46\": 1, \"68\": 1, \"112\": 1}, \"70\": {\"70\": 11, \"109\": 1}, \"6\": {\"6\": 6, \"19\": 1, \"68\": 2, \"41\": 1, \"109\": 1, \"77\": 1}, \"2\": {\"81\": 1, \"86\": 1, \"79\": 3, \"2\": 3, \"129\": 1, \"124\": 1, \"116\": 1, \"119\": 1}, \"48\": {\"48\": 8, \"2\": 1, \"59\": 1, \"115\": 2}, \"23\": {\"84\": 1, \"122\": 2, \"39\": 2, \"23\": 3, \"14\": 1, \"126\": 1, \"26\": 1, \"87\": 1}, \"7\": {\"122\": 2, \"7\": 5, \"16\": 1, \"106\": 2, \"12\": 2}, \"122\": {\"122\": 8, \"94\": 1, \"30\": 1, \"15\": 2}, \"57\": {\"63\": 1, \"108\": 1, \"57\": 7, \"120\": 1, \"30\": 1, \"99\": 1}, \"39\": {\"39\": 8, \"10\": 1, \"70\": 1}, \"79\": {\"79\": 6, \"116\": 1, \"129\": 1, \"115\": 2, \"125\": 1, \"22\": 1}, \"27\": {\"27\": 10}, \"74\": {\"100\": 1, \"107\": 1, \"70\": 1, \"83\": 1, \"31\": 2, \"114\": 1, \"74\": 2, \"78\": 1, \"8\": 1, \"61\": 1}, \"73\": {\"82\": 2, \"73\": 7, \"34\": 1, \"52\": 2}, \"62\": {\"62\": 12}, \"107\": {\"100\": 2, \"107\": 7, \"128\": 1, \"31\": 1, \"52\": 1}, \"128\": {\"34\": 2, \"128\": 5, \"58\": 1, \"68\": 1, \"71\": 1, \"53\": 1, \"72\": 1}, \"60\": {\"7\": 1, \"122\": 2, \"60\": 5, \"118\": 1, \"23\": 2, \"113\": 1}, \"114\": {\"40\": 2, \"114\": 9, \"74\": 1}, \"22\": {\"121\": 2, \"66\": 3, \"22\": 4, \"116\": 1, \"120\": 1, \"65\": 1}, \"93\": {\"93\": 10, \"43\": 2}, \"94\": {\"94\": 11, \"88\": 1}, \"31\": {\"53\": 2, \"31\": 6, \"29\": 1, \"107\": 1}, \"104\": {\"104\": 6, \"111\": 1, \"59\": 3, \"124\": 1, \"67\": 1}, \"58\": {\"58\": 7, \"114\": 1, \"128\": 2, \"68\": 1, \"40\": 1}}, \"C_A_2\": {\"14\": {\"14\": 9, \"47\": 1, \"41\": 1, \"1\": 1}, \"22\": {\"22\": 11, \"56\": 1}, \"9\": {\"4\": 2, \"9\": 9, \"8\": 1}, \"47\": {\"47\": 11, \"48\": 1}, \"13\": {\"13\": 9, \"38\": 1, \"2\": 1, \"51\": 1}, \"8\": {\"8\": 11, \"41\": 1}, \"7\": {\"7\": 6, \"43\": 1, \"54\": 1, \"39\": 2, \"36\": 2}, \"49\": {\"49\": 8, \"34\": 1, \"42\": 2, \"7\": 1}, \"20\": {\"20\": 12}, \"16\": {\"16\": 12}, \"34\": {\"26\": 2, \"34\": 7, \"16\": 1, \"53\": 1, \"19\": 1}, \"56\": {\"56\": 7, \"22\": 2, \"0\": 2, \"21\": 1}, \"38\": {\"20\": 1, \"8\": 1, \"38\": 4, \"57\": 4}, \"4\": {\"9\": 1, \"4\": 4, \"57\": 4, \"41\": 1, \"48\": 1, \"14\": 1}, \"43\": {\"43\": 10}, \"26\": {\"49\": 1, \"26\": 5, \"11\": 1, \"15\": 1, \"53\": 2}, \"35\": {\"35\": 5, \"31\": 1, \"23\": 2, \"7\": 2, \"33\": 2}, \"31\": {\"31\": 11, \"7\": 1}, \"1\": {\"1\": 7, \"47\": 1, \"48\": 3, \"22\": 1}, \"39\": {\"39\": 10, \"7\": 2}, \"5\": {\"5\": 12}, \"24\": {\"24\": 10, \"43\": 2}, \"54\": {\"54\": 10}, \"23\": {\"54\": 3, \"23\": 8, \"28\": 1}, \"51\": {\"51\": 11, \"43\": 1}, \"27\": {\"27\": 7, \"14\": 2, \"29\": 1}, \"15\": {\"15\": 8, \"11\": 2, \"53\": 2}, \"0\": {\"0\": 12}, \"19\": {\"19\": 10}, \"18\": {\"18\": 8}, \"30\": {\"30\": 11, \"40\": 1}, \"55\": {\"55\": 6, \"2\": 1, \"36\": 3}, \"57\": {\"57\": 12}, \"2\": {\"2\": 6, \"14\": 2, \"41\": 3, \"8\": 1}, \"12\": {\"12\": 8}, \"41\": {\"41\": 8, \"47\": 1, \"57\": 1, \"8\": 2}, \"42\": {\"42\": 10, \"34\": 1, \"54\": 1}, \"48\": {\"48\": 10, \"47\": 1, \"1\": 1}, \"37\": {\"37\": 9, \"51\": 2, \"13\": 1}, \"6\": {\"6\": 10}, \"11\": {\"11\": 9, \"15\": 1}, \"45\": {\"45\": 8}, \"21\": {\"21\": 12}, \"46\": {\"46\": 10}, \"25\": {\"25\": 11, \"16\": 1}, \"36\": {\"36\": 10}, \"53\": {\"26\": 2, \"53\": 9, \"34\": 1}, \"28\": {\"28\": 12}, \"40\": {\"1\": 2, \"40\": 8}, \"33\": {\"41\": 3, \"33\": 5, \"36\": 1, \"38\": 1}, \"44\": {\"44\": 10}, \"3\": {\"3\": 10, \"6\": 2}, \"17\": {\"17\": 11, \"35\": 1}, \"32\": {\"32\": 8, \"36\": 1, \"33\": 1}, \"10\": {\"10\": 9, \"23\": 1}, \"52\": {\"52\": 9, \"30\": 1}, \"50\": {\"50\": 8}, \"29\": {\"29\": 6}}}, \"per_domain_accuracy\": {\"ORACLE.run1_14\": {\"accuracy\": 0.8458333333333333, \"source?\": true}, \"ORACLE.run1_20\": {\"accuracy\": 0.7229166666666667, \"source?\": true}, \"ORACLE.run1_38\": {\"accuracy\": 0.8432291666666667, \"source?\": true}, \"ORACLE.run1_8\": {\"accuracy\": 0.7966145833333333, \"source?\": true}, \"ORACLE.run1_50\": {\"accuracy\": 0.8138020833333334, \"source?\": true}, \"ORACLE.run1_32\": {\"accuracy\": 0.7708333333333334, \"source?\": true}, \"ORACLE.run1_26\": {\"accuracy\": 0.7010416666666667, \"source?\": true}, \"ORACLE.run1_44\": {\"accuracy\": 0.7083333333333334, \"source?\": true}, \"C_A_3\": {\"accuracy\": 0.8578125, \"source?\": false}, \"C_A_4\": {\"accuracy\": 0.8046875, \"source?\": false}, \"C_A_5\": {\"accuracy\": 0.8453125, \"source?\": false}, \"W_A_3\": {\"accuracy\": 0.5755208333333334, \"source?\": false}, \"C_A_1\": {\"accuracy\": 0.8921875, \"source?\": false}, \"W_A_4\": {\"accuracy\": 0.5657552083333334, \"source?\": false}, \"W_A_1\": {\"accuracy\": 0.6380208333333334, \"source?\": false}, \"W_A_2\": {\"accuracy\": 0.5872395833333334, \"source?\": false}, \"C_A_2\": {\"accuracy\": 0.8109375, \"source?\": false}}}, \"history\": {\"epoch_indices\": [1, 2, 3, 4, 5, 6], \"train_label_loss\": [0.546043739149103, 6.174349280091147, 0.6334021403675988, 0.40492166217050646, 0.38365993941579724, 0.3713565334816286], \"source_val_label_loss\": [888.6057739257812, 0.9233450889587402, 0.4362216293811798, 0.4192085862159729, 0.3818763196468353, 0.3674922287464142], \"target_val_label_loss\": [675057.375, 91273.0, 117897.40625, 171336.609375, 270192.96875, 318677.1875], \"source_val_acc_label\": [0.6903645833333333, 0.7753255208333333, 0.84462890625, 0.850390625, 0.8611002604166667, 0.87490234375], \"target_val_acc_label\": [0.641695205479452, 0.6774400684931506, 0.6268193493150684, 0.598994006849315, 0.5748073630136986, 0.5590753424657534]}, \"dataset_metrics\": {\"source\": {\"train\": {\"n_unique_x\": 179200, \"n_unique_y\": 16, \"n_batch/episode\": 6720}, \"val\": {\"n_unique_x\": 38400, \"n_unique_y\": 16, \"n_batch/episode\": 960}, \"test\": {\"n_unique_x\": 38400, \"n_unique_y\": 16, \"n_batch/episode\": 960}}, \"target\": {\"train\": {\"n_unique_x\": 56700, \"n_unique_y\": 130, \"n_batch/episode\": 2080}, \"val\": {\"n_unique_x\": 12132, \"n_unique_y\": 130, \"n_batch/episode\": 292}, \"test\": {\"n_unique_x\": 12132, \"n_unique_y\": 130, \"n_batch/episode\": 292}}}}'"
      ]
     },
     "execution_count": 29,
     "metadata": {},
     "output_type": "execute_result"
    }
   ],
   "source": [
    "json.dumps(experiment)"
   ]
  }
 ],
 "metadata": {
  "celltoolbar": "Tags",
  "kernelspec": {
   "display_name": "Python 3 (ipykernel)",
   "language": "python",
   "name": "python3"
  },
  "language_info": {
   "codemirror_mode": {
    "name": "ipython",
    "version": 3
   },
   "file_extension": ".py",
   "mimetype": "text/x-python",
   "name": "python",
   "nbconvert_exporter": "python",
   "pygments_lexer": "ipython3",
   "version": "3.8.10"
  },
  "papermill": {
   "default_parameters": {},
   "duration": 1180.187271,
   "end_time": "2022-03-18T10:51:31.607548",
   "environment_variables": {},
   "exception": null,
   "input_path": "/mnt/wd500GB/CSC500/csc500-main/csc500-notebooks/templates/tl_ptn_template.ipynb",
   "output_path": "trial.ipynb",
   "parameters": {
    "parameters": {
     "BEST_MODEL_PATH": "./best_model.pth",
     "NUM_LOGS_PER_EPOCH": 10,
     "criteria_for_best": "target_loss",
     "dataset_seed": 1337,
     "datasets": [
      {
       "domain_prefix": "C_A_",
       "domains": [
        1,
        2,
        3,
        4,
        5
       ],
       "episode_transforms": [],
       "labels": [
        "1-10.",
        "1-11.",
        "1-15.",
        "1-16.",
        "1-17.",
        "1-18.",
        "1-19.",
        "10-4.",
        "10-7.",
        "11-1.",
        "11-14.",
        "11-17.",
        "11-20.",
        "11-7.",
        "13-20.",
        "13-8.",
        "14-10.",
        "14-11.",
        "14-14.",
        "14-7.",
        "15-1.",
        "15-20.",
        "16-1.",
        "16-16.",
        "17-10.",
        "17-11.",
        "17-2.",
        "19-1.",
        "19-16.",
        "19-19.",
        "19-20.",
        "19-3.",
        "2-10.",
        "2-11.",
        "2-17.",
        "2-18.",
        "2-20.",
        "2-3.",
        "2-4.",
        "2-5.",
        "2-6.",
        "2-7.",
        "2-8.",
        "3-13.",
        "3-18.",
        "3-3.",
        "4-1.",
        "4-10.",
        "4-11.",
        "4-19.",
        "5-5.",
        "6-15.",
        "7-10.",
        "7-14.",
        "8-18.",
        "8-20.",
        "8-3.",
        "8-8."
       ],
       "num_examples_per_domain_per_label": 100,
       "pickle_path": "/mnt/wd500GB/CSC500/csc500-main/datasets/cores.stratified_ds.2022A.pkl",
       "source_or_target_dataset": "target",
       "x_transforms": [
        "jitter_256_1",
        "take_200"
       ]
      },
      {
       "domain_prefix": "W_A_",
       "domains": [
        1,
        2,
        3,
        4
       ],
       "episode_transforms": [],
       "labels": [
        "1-10",
        "1-12",
        "1-14",
        "1-16",
        "1-18",
        "1-19",
        "1-8",
        "10-11",
        "10-17",
        "10-4",
        "10-7",
        "11-1",
        "11-10",
        "11-19",
        "11-20",
        "11-4",
        "11-7",
        "12-19",
        "12-20",
        "12-7",
        "13-14",
        "13-18",
        "13-19",
        "13-20",
        "13-3",
        "13-7",
        "14-10",
        "14-11",
        "14-12",
        "14-13",
        "14-14",
        "14-19",
        "14-20",
        "14-7",
        "14-8",
        "14-9",
        "15-1",
        "15-19",
        "15-6",
        "16-1",
        "16-16",
        "16-19",
        "16-20",
        "17-10",
        "17-11",
        "18-1",
        "18-10",
        "18-11",
        "18-12",
        "18-13",
        "18-14",
        "18-15",
        "18-16",
        "18-17",
        "18-19",
        "18-2",
        "18-20",
        "18-4",
        "18-5",
        "18-7",
        "18-8",
        "18-9",
        "19-1",
        "19-10",
        "19-11",
        "19-12",
        "19-13",
        "19-14",
        "19-15",
        "19-19",
        "19-2",
        "19-20",
        "19-3",
        "19-4",
        "19-6",
        "19-7",
        "19-8",
        "19-9",
        "2-1",
        "2-13",
        "2-15",
        "2-3",
        "2-4",
        "2-5",
        "2-6",
        "2-7",
        "2-8",
        "20-1",
        "20-12",
        "20-14",
        "20-15",
        "20-16",
        "20-18",
        "20-19",
        "20-20",
        "20-3",
        "20-4",
        "20-5",
        "20-7",
        "20-8",
        "3-1",
        "3-13",
        "3-18",
        "3-2",
        "3-8",
        "4-1",
        "4-10",
        "4-11",
        "5-1",
        "5-5",
        "6-1",
        "6-15",
        "6-6",
        "7-10",
        "7-11",
        "7-12",
        "7-13",
        "7-14",
        "7-7",
        "7-8",
        "7-9",
        "8-1",
        "8-13",
        "8-14",
        "8-18",
        "8-20",
        "8-3",
        "8-8",
        "9-1",
        "9-7"
       ],
       "num_examples_per_domain_per_label": 100,
       "pickle_path": "/mnt/wd500GB/CSC500/csc500-main/datasets/wisig.node3-19.stratified_ds.2022A.pkl",
       "source_or_target_dataset": "target",
       "x_transforms": [
        "jitter_256_1",
        "take_200"
       ]
      },
      {
       "domain_prefix": "ORACLE.run1_",
       "domains": [
        32,
        38,
        8,
        44,
        14,
        50,
        20,
        26
       ],
       "episode_transforms": [],
       "labels": [
        "3123D52",
        "3123D65",
        "3123D79",
        "3123D80",
        "3123D54",
        "3123D70",
        "3123D7B",
        "3123D89",
        "3123D58",
        "3123D76",
        "3123D7D",
        "3123EFE",
        "3123D64",
        "3123D78",
        "3123D7E",
        "3124E4A"
       ],
       "num_examples_per_domain_per_label": 2000,
       "pickle_path": "/mnt/wd500GB/CSC500/csc500-main/datasets/oracle.Run1_framed_2000Examples_stratified_ds.2022A.pkl",
       "source_or_target_dataset": "source",
       "x_transforms": [
        "jitter_256_1",
        "take_200",
        "resample_20Msps_to_25Msps"
       ]
      }
     ],
     "device": "cuda",
     "experiment_name": "tl_3-jitter1:oracle.run1.framed -> cores+wisig",
     "lr": 0.001,
     "n_epoch": 50,
     "n_query": 2,
     "n_shot": 3,
     "n_way": 16,
     "patience": 3,
     "seed": 1337,
     "test_k_factor": 2,
     "torch_default_dtype": "torch.float32",
     "train_k_factor": 3,
     "val_k_factor": 2,
     "x_net": [
      {
       "class": "nnReshape",
       "kargs": {
        "shape": [
         -1,
         1,
         2,
         256
        ]
       }
      },
      {
       "class": "Conv2d",
       "kargs": {
        "bias": false,
        "in_channels": 1,
        "kernel_size": [
         1,
         7
        ],
        "out_channels": 256,
        "padding": [
         0,
         3
        ]
       }
      },
      {
       "class": "ReLU",
       "kargs": {
        "inplace": true
       }
      },
      {
       "class": "BatchNorm2d",
       "kargs": {
        "num_features": 256
       }
      },
      {
       "class": "Conv2d",
       "kargs": {
        "bias": true,
        "in_channels": 256,
        "kernel_size": [
         2,
         7
        ],
        "out_channels": 80,
        "padding": [
         0,
         3
        ]
       }
      },
      {
       "class": "ReLU",
       "kargs": {
        "inplace": true
       }
      },
      {
       "class": "BatchNorm2d",
       "kargs": {
        "num_features": 80
       }
      },
      {
       "class": "Flatten",
       "kargs": {}
      },
      {
       "class": "Linear",
       "kargs": {
        "in_features": 20480,
        "out_features": 256
       }
      },
      {
       "class": "ReLU",
       "kargs": {
        "inplace": true
       }
      },
      {
       "class": "BatchNorm1d",
       "kargs": {
        "num_features": 256
       }
      },
      {
       "class": "Linear",
       "kargs": {
        "in_features": 256,
        "out_features": 256
       }
      }
     ]
    }
   },
   "start_time": "2022-03-18T10:31:51.420277",
   "version": "2.3.4"
  }
 },
 "nbformat": 4,
 "nbformat_minor": 5
}