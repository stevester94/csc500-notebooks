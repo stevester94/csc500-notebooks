{
 "cells": [
  {
   "cell_type": "markdown",
   "id": "9fea5f46",
   "metadata": {
    "papermill": {
     "duration": 0.01874,
     "end_time": "2022-03-18T05:55:12.408354",
     "exception": false,
     "start_time": "2022-03-18T05:55:12.389614",
     "status": "completed"
    },
    "tags": []
   },
   "source": [
    "# Transfer Learning Template"
   ]
  },
  {
   "cell_type": "code",
   "execution_count": 1,
   "id": "0902182a",
   "metadata": {
    "execution": {
     "iopub.execute_input": "2022-03-18T05:55:12.447688Z",
     "iopub.status.busy": "2022-03-18T05:55:12.441332Z",
     "iopub.status.idle": "2022-03-18T05:55:13.372778Z",
     "shell.execute_reply": "2022-03-18T05:55:13.373201Z"
    },
    "papermill": {
     "duration": 0.952379,
     "end_time": "2022-03-18T05:55:13.373382",
     "exception": false,
     "start_time": "2022-03-18T05:55:12.421003",
     "status": "completed"
    },
    "tags": []
   },
   "outputs": [],
   "source": [
    "%load_ext autoreload\n",
    "%autoreload 2\n",
    "%matplotlib inline\n",
    "\n",
    "    \n",
    "import os, json, sys, time, random\n",
    "import numpy as np\n",
    "import torch\n",
    "from torch.optim import Adam\n",
    "from  easydict import EasyDict\n",
    "import matplotlib.pyplot as plt\n",
    "\n",
    "from steves_models.steves_ptn import Steves_Prototypical_Network\n",
    "\n",
    "from steves_utils.lazy_iterable_wrapper import Lazy_Iterable_Wrapper\n",
    "from steves_utils.iterable_aggregator import Iterable_Aggregator\n",
    "from steves_utils.ptn_train_eval_test_jig import  PTN_Train_Eval_Test_Jig\n",
    "from steves_utils.torch_sequential_builder import build_sequential\n",
    "from steves_utils.torch_utils import get_dataset_metrics, ptn_confusion_by_domain_over_dataloader\n",
    "from steves_utils.utils_v2 import (per_domain_accuracy_from_confusion, get_datasets_base_path)\n",
    "from steves_utils.PTN.utils import independent_accuracy_assesment\n",
    "\n",
    "from torch.utils.data import DataLoader\n",
    "\n",
    "from steves_utils.stratified_dataset.episodic_accessor import Episodic_Accessor_Factory\n",
    "\n",
    "from steves_utils.ptn_do_report import (\n",
    "    get_loss_curve,\n",
    "    get_results_table,\n",
    "    get_parameters_table,\n",
    "    get_domain_accuracies,\n",
    ")\n",
    "\n",
    "from steves_utils.transforms import get_chained_transform"
   ]
  },
  {
   "cell_type": "markdown",
   "id": "41c840b4",
   "metadata": {
    "papermill": {
     "duration": 0.012607,
     "end_time": "2022-03-18T05:55:13.404543",
     "exception": false,
     "start_time": "2022-03-18T05:55:13.391936",
     "status": "completed"
    },
    "tags": []
   },
   "source": [
    "# Allowed Parameters\n",
    "These are allowed parameters, not defaults\n",
    "Each of these values need to be present in the injected parameters (the notebook will raise an exception if they are not present)\n",
    "\n",
    "Papermill uses the cell tag \"parameters\" to inject the real parameters below this cell.\n",
    "Enable tags to see what I mean"
   ]
  },
  {
   "cell_type": "code",
   "execution_count": 2,
   "id": "fd44eb83",
   "metadata": {
    "execution": {
     "iopub.execute_input": "2022-03-18T05:55:13.432796Z",
     "iopub.status.busy": "2022-03-18T05:55:13.432449Z",
     "iopub.status.idle": "2022-03-18T05:55:13.448398Z",
     "shell.execute_reply": "2022-03-18T05:55:13.447946Z"
    },
    "papermill": {
     "duration": 0.031146,
     "end_time": "2022-03-18T05:55:13.448487",
     "exception": false,
     "start_time": "2022-03-18T05:55:13.417341",
     "status": "completed"
    },
    "tags": []
   },
   "outputs": [],
   "source": [
    "required_parameters = {\n",
    "    \"experiment_name\",\n",
    "    \"lr\",\n",
    "    \"device\",\n",
    "    \"seed\",\n",
    "    \"dataset_seed\",\n",
    "    \"n_shot\",\n",
    "    \"n_query\",\n",
    "    \"n_way\",\n",
    "    \"train_k_factor\",\n",
    "    \"val_k_factor\",\n",
    "    \"test_k_factor\",\n",
    "    \"n_epoch\",\n",
    "    \"patience\",\n",
    "    \"criteria_for_best\",\n",
    "    \"x_net\",\n",
    "    \"datasets\",\n",
    "    \"torch_default_dtype\",\n",
    "    \"NUM_LOGS_PER_EPOCH\",\n",
    "    \"BEST_MODEL_PATH\",\n",
    "    \"x_shape\",\n",
    "}"
   ]
  },
  {
   "cell_type": "code",
   "execution_count": 3,
   "id": "fa3f0049",
   "metadata": {
    "execution": {
     "iopub.execute_input": "2022-03-18T05:55:13.488473Z",
     "iopub.status.busy": "2022-03-18T05:55:13.487965Z",
     "iopub.status.idle": "2022-03-18T05:55:13.502812Z",
     "shell.execute_reply": "2022-03-18T05:55:13.502433Z"
    },
    "papermill": {
     "duration": 0.036603,
     "end_time": "2022-03-18T05:55:13.502903",
     "exception": false,
     "start_time": "2022-03-18T05:55:13.466300",
     "status": "completed"
    },
    "tags": [
     "parameters"
    ]
   },
   "outputs": [],
   "source": [
    "from steves_utils.CORES.utils import (\n",
    "    ALL_NODES,\n",
    "    ALL_NODES_MINIMUM_1000_EXAMPLES,\n",
    "    ALL_DAYS\n",
    ")\n",
    "\n",
    "from steves_utils.ORACLE.utils_v2 import (\n",
    "    ALL_DISTANCES_FEET_NARROWED,\n",
    "    ALL_RUNS,\n",
    "    ALL_SERIAL_NUMBERS,\n",
    ")\n",
    "\n",
    "standalone_parameters = {}\n",
    "standalone_parameters[\"experiment_name\"] = \"STANDALONE PTN\"\n",
    "standalone_parameters[\"lr\"] = 0.001\n",
    "standalone_parameters[\"device\"] = \"cuda\"\n",
    "\n",
    "standalone_parameters[\"seed\"] = 1337\n",
    "standalone_parameters[\"dataset_seed\"] = 1337\n",
    "\n",
    "standalone_parameters[\"n_way\"] = 8\n",
    "standalone_parameters[\"n_shot\"] = 3\n",
    "standalone_parameters[\"n_query\"]  = 2\n",
    "standalone_parameters[\"train_k_factor\"] = 1\n",
    "standalone_parameters[\"val_k_factor\"] = 2\n",
    "standalone_parameters[\"test_k_factor\"] = 2\n",
    "\n",
    "\n",
    "standalone_parameters[\"n_epoch\"] = 50\n",
    "\n",
    "standalone_parameters[\"patience\"] = 10\n",
    "standalone_parameters[\"criteria_for_best\"] = \"source_loss\"\n",
    "\n",
    "standalone_parameters[\"datasets\"] = [\n",
    "    {\n",
    "        \"labels\": ALL_SERIAL_NUMBERS,\n",
    "        \"domains\": ALL_DISTANCES_FEET_NARROWED,\n",
    "        \"num_examples_per_domain_per_label\": 100,\n",
    "        \"pickle_path\": os.path.join(get_datasets_base_path(), \"oracle.Run1_framed_2000Examples_stratified_ds.2022A.pkl\"),\n",
    "        \"source_or_target_dataset\": \"source\",\n",
    "        \"x_transforms\": [\"unit_mag\", \"minus_two\"],\n",
    "        \"episode_transforms\": [],\n",
    "        \"domain_prefix\": \"ORACLE_\"\n",
    "    },\n",
    "    {\n",
    "        \"labels\": ALL_NODES,\n",
    "        \"domains\": ALL_DAYS,\n",
    "        \"num_examples_per_domain_per_label\": 100,\n",
    "        \"pickle_path\": os.path.join(get_datasets_base_path(), \"cores.stratified_ds.2022A.pkl\"),\n",
    "        \"source_or_target_dataset\": \"target\",\n",
    "        \"x_transforms\": [\"unit_power\", \"times_zero\"],\n",
    "        \"episode_transforms\": [],\n",
    "        \"domain_prefix\": \"CORES_\"\n",
    "    }   \n",
    "]\n",
    "\n",
    "standalone_parameters[\"torch_default_dtype\"] = \"torch.float32\" \n",
    "\n",
    "\n",
    "\n",
    "standalone_parameters[\"x_net\"] =     [\n",
    "    {\"class\": \"nnReshape\", \"kargs\": {\"shape\":[-1, 1, 2, 256]}},\n",
    "    {\"class\": \"Conv2d\", \"kargs\": { \"in_channels\":1, \"out_channels\":256, \"kernel_size\":(1,7), \"bias\":False, \"padding\":(0,3), },},\n",
    "    {\"class\": \"ReLU\", \"kargs\": {\"inplace\": True}},\n",
    "    {\"class\": \"BatchNorm2d\", \"kargs\": {\"num_features\":256}},\n",
    "\n",
    "    {\"class\": \"Conv2d\", \"kargs\": { \"in_channels\":256, \"out_channels\":80, \"kernel_size\":(2,7), \"bias\":True, \"padding\":(0,3), },},\n",
    "    {\"class\": \"ReLU\", \"kargs\": {\"inplace\": True}},\n",
    "    {\"class\": \"BatchNorm2d\", \"kargs\": {\"num_features\":80}},\n",
    "    {\"class\": \"Flatten\", \"kargs\": {}},\n",
    "\n",
    "    {\"class\": \"Linear\", \"kargs\": {\"in_features\": 80*256, \"out_features\": 256}}, # 80 units per IQ pair\n",
    "    {\"class\": \"ReLU\", \"kargs\": {\"inplace\": True}},\n",
    "    {\"class\": \"BatchNorm1d\", \"kargs\": {\"num_features\":256}},\n",
    "\n",
    "    {\"class\": \"Linear\", \"kargs\": {\"in_features\": 256, \"out_features\": 256}},\n",
    "]\n",
    "\n",
    "# Parameters relevant to results\n",
    "# These parameters will basically never need to change\n",
    "standalone_parameters[\"NUM_LOGS_PER_EPOCH\"] = 10\n",
    "standalone_parameters[\"BEST_MODEL_PATH\"] = \"./best_model.pth\"\n",
    "\n",
    "\n",
    "\n",
    "\n"
   ]
  },
  {
   "cell_type": "code",
   "execution_count": 4,
   "id": "e0640001",
   "metadata": {
    "execution": {
     "iopub.execute_input": "2022-03-18T05:55:13.541321Z",
     "iopub.status.busy": "2022-03-18T05:55:13.535920Z",
     "iopub.status.idle": "2022-03-18T05:55:13.560248Z",
     "shell.execute_reply": "2022-03-18T05:55:13.559941Z"
    },
    "papermill": {
     "duration": 0.03877,
     "end_time": "2022-03-18T05:55:13.560317",
     "exception": false,
     "start_time": "2022-03-18T05:55:13.521547",
     "status": "completed"
    },
    "tags": [
     "injected-parameters"
    ]
   },
   "outputs": [],
   "source": [
    "# Parameters\n",
    "parameters = {\n",
    "    \"experiment_name\": \"tl_3-filter:cores+wisig -> oracle.run1.framed\",\n",
    "    \"device\": \"cuda\",\n",
    "    \"lr\": 0.001,\n",
    "    \"seed\": 1337,\n",
    "    \"dataset_seed\": 1337,\n",
    "    \"x_shape\": [2, 200],\n",
    "    \"n_shot\": 3,\n",
    "    \"n_query\": 2,\n",
    "    \"train_k_factor\": 3,\n",
    "    \"val_k_factor\": 2,\n",
    "    \"test_k_factor\": 2,\n",
    "    \"torch_default_dtype\": \"torch.float32\",\n",
    "    \"n_epoch\": 50,\n",
    "    \"patience\": 3,\n",
    "    \"criteria_for_best\": \"target_loss\",\n",
    "    \"x_net\": [\n",
    "        {\"class\": \"nnReshape\", \"kargs\": {\"shape\": [-1, 1, 2, 200]}},\n",
    "        {\n",
    "            \"class\": \"Conv2d\",\n",
    "            \"kargs\": {\n",
    "                \"in_channels\": 1,\n",
    "                \"out_channels\": 256,\n",
    "                \"kernel_size\": [1, 7],\n",
    "                \"bias\": False,\n",
    "                \"padding\": [0, 3],\n",
    "            },\n",
    "        },\n",
    "        {\"class\": \"ReLU\", \"kargs\": {\"inplace\": True}},\n",
    "        {\"class\": \"BatchNorm2d\", \"kargs\": {\"num_features\": 256}},\n",
    "        {\n",
    "            \"class\": \"Conv2d\",\n",
    "            \"kargs\": {\n",
    "                \"in_channels\": 256,\n",
    "                \"out_channels\": 80,\n",
    "                \"kernel_size\": [2, 7],\n",
    "                \"bias\": True,\n",
    "                \"padding\": [0, 3],\n",
    "            },\n",
    "        },\n",
    "        {\"class\": \"ReLU\", \"kargs\": {\"inplace\": True}},\n",
    "        {\"class\": \"BatchNorm2d\", \"kargs\": {\"num_features\": 80}},\n",
    "        {\"class\": \"Flatten\", \"kargs\": {}},\n",
    "        {\"class\": \"Linear\", \"kargs\": {\"in_features\": 16000, \"out_features\": 256}},\n",
    "        {\"class\": \"ReLU\", \"kargs\": {\"inplace\": True}},\n",
    "        {\"class\": \"BatchNorm1d\", \"kargs\": {\"num_features\": 256}},\n",
    "        {\"class\": \"Linear\", \"kargs\": {\"in_features\": 256, \"out_features\": 256}},\n",
    "    ],\n",
    "    \"NUM_LOGS_PER_EPOCH\": 10,\n",
    "    \"BEST_MODEL_PATH\": \"./best_model.pth\",\n",
    "    \"n_way\": 16,\n",
    "    \"datasets\": [\n",
    "        {\n",
    "            \"labels\": [\n",
    "                \"1-10.\",\n",
    "                \"1-11.\",\n",
    "                \"1-15.\",\n",
    "                \"1-16.\",\n",
    "                \"1-17.\",\n",
    "                \"1-18.\",\n",
    "                \"1-19.\",\n",
    "                \"10-4.\",\n",
    "                \"10-7.\",\n",
    "                \"11-1.\",\n",
    "                \"11-14.\",\n",
    "                \"11-17.\",\n",
    "                \"11-20.\",\n",
    "                \"11-7.\",\n",
    "                \"13-20.\",\n",
    "                \"13-8.\",\n",
    "                \"14-10.\",\n",
    "                \"14-11.\",\n",
    "                \"14-14.\",\n",
    "                \"14-7.\",\n",
    "                \"15-1.\",\n",
    "                \"15-20.\",\n",
    "                \"16-1.\",\n",
    "                \"16-16.\",\n",
    "                \"17-10.\",\n",
    "                \"17-11.\",\n",
    "                \"17-2.\",\n",
    "                \"19-1.\",\n",
    "                \"19-16.\",\n",
    "                \"19-19.\",\n",
    "                \"19-20.\",\n",
    "                \"19-3.\",\n",
    "                \"2-10.\",\n",
    "                \"2-11.\",\n",
    "                \"2-17.\",\n",
    "                \"2-18.\",\n",
    "                \"2-20.\",\n",
    "                \"2-3.\",\n",
    "                \"2-4.\",\n",
    "                \"2-5.\",\n",
    "                \"2-6.\",\n",
    "                \"2-7.\",\n",
    "                \"2-8.\",\n",
    "                \"3-13.\",\n",
    "                \"3-18.\",\n",
    "                \"3-3.\",\n",
    "                \"4-1.\",\n",
    "                \"4-10.\",\n",
    "                \"4-11.\",\n",
    "                \"4-19.\",\n",
    "                \"5-5.\",\n",
    "                \"6-15.\",\n",
    "                \"7-10.\",\n",
    "                \"7-14.\",\n",
    "                \"8-18.\",\n",
    "                \"8-20.\",\n",
    "                \"8-3.\",\n",
    "                \"8-8.\",\n",
    "            ],\n",
    "            \"domains\": [1, 2, 3, 4, 5],\n",
    "            \"num_examples_per_domain_per_label\": 100,\n",
    "            \"pickle_path\": \"/mnt/wd500GB/CSC500/csc500-main/datasets/cores.stratified_ds.2022A.pkl\",\n",
    "            \"source_or_target_dataset\": \"source\",\n",
    "            \"x_transforms\": [\"unit_power\", \"lowpass_+/-10MHz\", \"take_200\"],\n",
    "            \"episode_transforms\": [],\n",
    "            \"domain_prefix\": \"C_A_\",\n",
    "        },\n",
    "        {\n",
    "            \"labels\": [\n",
    "                \"1-10\",\n",
    "                \"1-12\",\n",
    "                \"1-14\",\n",
    "                \"1-16\",\n",
    "                \"1-18\",\n",
    "                \"1-19\",\n",
    "                \"1-8\",\n",
    "                \"10-11\",\n",
    "                \"10-17\",\n",
    "                \"10-4\",\n",
    "                \"10-7\",\n",
    "                \"11-1\",\n",
    "                \"11-10\",\n",
    "                \"11-19\",\n",
    "                \"11-20\",\n",
    "                \"11-4\",\n",
    "                \"11-7\",\n",
    "                \"12-19\",\n",
    "                \"12-20\",\n",
    "                \"12-7\",\n",
    "                \"13-14\",\n",
    "                \"13-18\",\n",
    "                \"13-19\",\n",
    "                \"13-20\",\n",
    "                \"13-3\",\n",
    "                \"13-7\",\n",
    "                \"14-10\",\n",
    "                \"14-11\",\n",
    "                \"14-12\",\n",
    "                \"14-13\",\n",
    "                \"14-14\",\n",
    "                \"14-19\",\n",
    "                \"14-20\",\n",
    "                \"14-7\",\n",
    "                \"14-8\",\n",
    "                \"14-9\",\n",
    "                \"15-1\",\n",
    "                \"15-19\",\n",
    "                \"15-6\",\n",
    "                \"16-1\",\n",
    "                \"16-16\",\n",
    "                \"16-19\",\n",
    "                \"16-20\",\n",
    "                \"17-10\",\n",
    "                \"17-11\",\n",
    "                \"18-1\",\n",
    "                \"18-10\",\n",
    "                \"18-11\",\n",
    "                \"18-12\",\n",
    "                \"18-13\",\n",
    "                \"18-14\",\n",
    "                \"18-15\",\n",
    "                \"18-16\",\n",
    "                \"18-17\",\n",
    "                \"18-19\",\n",
    "                \"18-2\",\n",
    "                \"18-20\",\n",
    "                \"18-4\",\n",
    "                \"18-5\",\n",
    "                \"18-7\",\n",
    "                \"18-8\",\n",
    "                \"18-9\",\n",
    "                \"19-1\",\n",
    "                \"19-10\",\n",
    "                \"19-11\",\n",
    "                \"19-12\",\n",
    "                \"19-13\",\n",
    "                \"19-14\",\n",
    "                \"19-15\",\n",
    "                \"19-19\",\n",
    "                \"19-2\",\n",
    "                \"19-20\",\n",
    "                \"19-3\",\n",
    "                \"19-4\",\n",
    "                \"19-6\",\n",
    "                \"19-7\",\n",
    "                \"19-8\",\n",
    "                \"19-9\",\n",
    "                \"2-1\",\n",
    "                \"2-13\",\n",
    "                \"2-15\",\n",
    "                \"2-3\",\n",
    "                \"2-4\",\n",
    "                \"2-5\",\n",
    "                \"2-6\",\n",
    "                \"2-7\",\n",
    "                \"2-8\",\n",
    "                \"20-1\",\n",
    "                \"20-12\",\n",
    "                \"20-14\",\n",
    "                \"20-15\",\n",
    "                \"20-16\",\n",
    "                \"20-18\",\n",
    "                \"20-19\",\n",
    "                \"20-20\",\n",
    "                \"20-3\",\n",
    "                \"20-4\",\n",
    "                \"20-5\",\n",
    "                \"20-7\",\n",
    "                \"20-8\",\n",
    "                \"3-1\",\n",
    "                \"3-13\",\n",
    "                \"3-18\",\n",
    "                \"3-2\",\n",
    "                \"3-8\",\n",
    "                \"4-1\",\n",
    "                \"4-10\",\n",
    "                \"4-11\",\n",
    "                \"5-1\",\n",
    "                \"5-5\",\n",
    "                \"6-1\",\n",
    "                \"6-15\",\n",
    "                \"6-6\",\n",
    "                \"7-10\",\n",
    "                \"7-11\",\n",
    "                \"7-12\",\n",
    "                \"7-13\",\n",
    "                \"7-14\",\n",
    "                \"7-7\",\n",
    "                \"7-8\",\n",
    "                \"7-9\",\n",
    "                \"8-1\",\n",
    "                \"8-13\",\n",
    "                \"8-14\",\n",
    "                \"8-18\",\n",
    "                \"8-20\",\n",
    "                \"8-3\",\n",
    "                \"8-8\",\n",
    "                \"9-1\",\n",
    "                \"9-7\",\n",
    "            ],\n",
    "            \"domains\": [1, 2, 3, 4],\n",
    "            \"num_examples_per_domain_per_label\": 100,\n",
    "            \"pickle_path\": \"/mnt/wd500GB/CSC500/csc500-main/datasets/wisig.node3-19.stratified_ds.2022A.pkl\",\n",
    "            \"source_or_target_dataset\": \"source\",\n",
    "            \"x_transforms\": [\"unit_power\", \"lowpass_+/-10MHz\", \"take_200\"],\n",
    "            \"episode_transforms\": [],\n",
    "            \"domain_prefix\": \"W_A_\",\n",
    "        },\n",
    "        {\n",
    "            \"labels\": [\n",
    "                \"3123D52\",\n",
    "                \"3123D65\",\n",
    "                \"3123D79\",\n",
    "                \"3123D80\",\n",
    "                \"3123D54\",\n",
    "                \"3123D70\",\n",
    "                \"3123D7B\",\n",
    "                \"3123D89\",\n",
    "                \"3123D58\",\n",
    "                \"3123D76\",\n",
    "                \"3123D7D\",\n",
    "                \"3123EFE\",\n",
    "                \"3123D64\",\n",
    "                \"3123D78\",\n",
    "                \"3123D7E\",\n",
    "                \"3124E4A\",\n",
    "            ],\n",
    "            \"domains\": [32, 38, 8, 44, 14, 50, 20, 26],\n",
    "            \"num_examples_per_domain_per_label\": 2000,\n",
    "            \"pickle_path\": \"/mnt/wd500GB/CSC500/csc500-main/datasets/oracle.Run1_framed_2000Examples_stratified_ds.2022A.pkl\",\n",
    "            \"source_or_target_dataset\": \"target\",\n",
    "            \"x_transforms\": [\"unit_power\", \"take_200\", \"resample_20Msps_to_25Msps\"],\n",
    "            \"episode_transforms\": [],\n",
    "            \"domain_prefix\": \"ORACLE.run1_\",\n",
    "        },\n",
    "    ],\n",
    "}\n"
   ]
  },
  {
   "cell_type": "code",
   "execution_count": 5,
   "id": "8fa1cc33",
   "metadata": {
    "execution": {
     "iopub.execute_input": "2022-03-18T05:55:13.593870Z",
     "iopub.status.busy": "2022-03-18T05:55:13.593616Z",
     "iopub.status.idle": "2022-03-18T05:55:13.606665Z",
     "shell.execute_reply": "2022-03-18T05:55:13.606277Z"
    },
    "papermill": {
     "duration": 0.028986,
     "end_time": "2022-03-18T05:55:13.606752",
     "exception": false,
     "start_time": "2022-03-18T05:55:13.577766",
     "status": "completed"
    },
    "tags": []
   },
   "outputs": [],
   "source": [
    "# Set this to True if you want to run this template directly\n",
    "STANDALONE = False\n",
    "if STANDALONE:\n",
    "    print(\"parameters not injected, running with standalone_parameters\")\n",
    "    parameters = standalone_parameters\n",
    "\n",
    "if not 'parameters' in locals() and not 'parameters' in globals():\n",
    "    raise Exception(\"Parameter injection failed\")\n",
    "\n",
    "#Use an easy dict for all the parameters\n",
    "p = EasyDict(parameters)\n",
    "\n",
    "if \"x_shape\" not in p:\n",
    "    p.x_shape = [2,256] # Default to this if we dont supply x_shape\n",
    "\n",
    "\n",
    "supplied_keys = set(p.keys())\n",
    "\n",
    "if  supplied_keys != required_parameters:\n",
    "    print(\"Parameters are incorrect\")\n",
    "    if len(supplied_keys - required_parameters)>0: print(\"Shouldn't have:\", str(supplied_keys - required_parameters))\n",
    "    if len(required_parameters - supplied_keys)>0: print(\"Need to have:\", str(required_parameters - supplied_keys))\n",
    "    raise RuntimeError(\"Parameters are incorrect\")"
   ]
  },
  {
   "cell_type": "code",
   "execution_count": 6,
   "id": "3a028d58",
   "metadata": {
    "execution": {
     "iopub.execute_input": "2022-03-18T05:55:13.647952Z",
     "iopub.status.busy": "2022-03-18T05:55:13.637890Z",
     "iopub.status.idle": "2022-03-18T05:55:13.654856Z",
     "shell.execute_reply": "2022-03-18T05:55:13.654440Z"
    },
    "papermill": {
     "duration": 0.031186,
     "end_time": "2022-03-18T05:55:13.654950",
     "exception": false,
     "start_time": "2022-03-18T05:55:13.623764",
     "status": "completed"
    },
    "tags": []
   },
   "outputs": [],
   "source": [
    "###################################\n",
    "# Set the RNGs and make it all deterministic\n",
    "###################################\n",
    "np.random.seed(p.seed)\n",
    "random.seed(p.seed)\n",
    "torch.manual_seed(p.seed)\n",
    "\n",
    "torch.use_deterministic_algorithms(True) "
   ]
  },
  {
   "cell_type": "code",
   "execution_count": 7,
   "id": "b691acf6",
   "metadata": {
    "execution": {
     "iopub.execute_input": "2022-03-18T05:55:13.695568Z",
     "iopub.status.busy": "2022-03-18T05:55:13.686166Z",
     "iopub.status.idle": "2022-03-18T05:55:13.701808Z",
     "shell.execute_reply": "2022-03-18T05:55:13.701392Z"
    },
    "papermill": {
     "duration": 0.029927,
     "end_time": "2022-03-18T05:55:13.701902",
     "exception": false,
     "start_time": "2022-03-18T05:55:13.671975",
     "status": "completed"
    },
    "tags": []
   },
   "outputs": [],
   "source": [
    "###########################################\n",
    "# The stratified datasets honor this\n",
    "###########################################\n",
    "torch.set_default_dtype(eval(p.torch_default_dtype))"
   ]
  },
  {
   "cell_type": "code",
   "execution_count": 8,
   "id": "b5fba671",
   "metadata": {
    "execution": {
     "iopub.execute_input": "2022-03-18T05:55:13.735571Z",
     "iopub.status.busy": "2022-03-18T05:55:13.734444Z",
     "iopub.status.idle": "2022-03-18T05:55:13.769430Z",
     "shell.execute_reply": "2022-03-18T05:55:13.769013Z"
    },
    "papermill": {
     "duration": 0.050078,
     "end_time": "2022-03-18T05:55:13.769518",
     "exception": false,
     "start_time": "2022-03-18T05:55:13.719440",
     "status": "completed"
    },
    "tags": []
   },
   "outputs": [],
   "source": [
    "###################################\n",
    "# Build the network(s)\n",
    "# Note: It's critical to do this AFTER setting the RNG\n",
    "###################################\n",
    "x_net = build_sequential(p.x_net)"
   ]
  },
  {
   "cell_type": "code",
   "execution_count": 9,
   "id": "5d7e61cc",
   "metadata": {
    "execution": {
     "iopub.execute_input": "2022-03-18T05:55:13.804815Z",
     "iopub.status.busy": "2022-03-18T05:55:13.803744Z",
     "iopub.status.idle": "2022-03-18T05:55:13.819201Z",
     "shell.execute_reply": "2022-03-18T05:55:13.818792Z"
    },
    "papermill": {
     "duration": 0.029904,
     "end_time": "2022-03-18T05:55:13.819307",
     "exception": false,
     "start_time": "2022-03-18T05:55:13.789403",
     "status": "completed"
    },
    "tags": []
   },
   "outputs": [],
   "source": [
    "start_time_secs = time.time()"
   ]
  },
  {
   "cell_type": "code",
   "execution_count": 10,
   "id": "c6b67dfd",
   "metadata": {
    "execution": {
     "iopub.execute_input": "2022-03-18T05:55:13.857397Z",
     "iopub.status.busy": "2022-03-18T05:55:13.855656Z",
     "iopub.status.idle": "2022-03-18T05:55:13.867763Z",
     "shell.execute_reply": "2022-03-18T05:55:13.867551Z"
    },
    "papermill": {
     "duration": 0.029664,
     "end_time": "2022-03-18T05:55:13.867811",
     "exception": false,
     "start_time": "2022-03-18T05:55:13.838147",
     "status": "completed"
    },
    "tags": []
   },
   "outputs": [],
   "source": [
    "p.domains_source = []\n",
    "p.domains_target = []\n",
    "\n",
    "\n",
    "train_original_source = []\n",
    "val_original_source   = []\n",
    "test_original_source  = []\n",
    "\n",
    "train_original_target = []\n",
    "val_original_target   = []\n",
    "test_original_target  = []"
   ]
  },
  {
   "cell_type": "code",
   "execution_count": 11,
   "id": "e3d9c3d3",
   "metadata": {
    "execution": {
     "iopub.execute_input": "2022-03-18T05:55:13.898886Z",
     "iopub.status.busy": "2022-03-18T05:55:13.898291Z",
     "iopub.status.idle": "2022-03-18T05:55:13.912749Z",
     "shell.execute_reply": "2022-03-18T05:55:13.912304Z"
    },
    "papermill": {
     "duration": 0.02945,
     "end_time": "2022-03-18T05:55:13.912836",
     "exception": false,
     "start_time": "2022-03-18T05:55:13.883386",
     "status": "completed"
    },
    "tags": []
   },
   "outputs": [],
   "source": [
    "# global_x_transform_func = lambda x: normalize(x.to(torch.get_default_dtype()), \"unit_power\") # unit_power, unit_mag\n",
    "# global_x_transform_func = lambda x: normalize(x, \"unit_power\") # unit_power, unit_mag"
   ]
  },
  {
   "cell_type": "code",
   "execution_count": 12,
   "id": "acb78fd2",
   "metadata": {
    "execution": {
     "iopub.execute_input": "2022-03-18T05:55:13.950763Z",
     "iopub.status.busy": "2022-03-18T05:55:13.950476Z",
     "iopub.status.idle": "2022-03-18T05:55:13.964262Z",
     "shell.execute_reply": "2022-03-18T05:55:13.963812Z"
    },
    "papermill": {
     "duration": 0.03344,
     "end_time": "2022-03-18T05:55:13.964349",
     "exception": false,
     "start_time": "2022-03-18T05:55:13.930909",
     "status": "completed"
    },
    "tags": []
   },
   "outputs": [],
   "source": [
    "def add_dataset(\n",
    "    labels,\n",
    "    domains,\n",
    "    pickle_path,\n",
    "    x_transforms,\n",
    "    episode_transforms,\n",
    "    domain_prefix,\n",
    "    num_examples_per_domain_per_label,\n",
    "    source_or_target_dataset:str,\n",
    "    iterator_seed=p.seed,\n",
    "    dataset_seed=p.dataset_seed,\n",
    "    n_shot=p.n_shot,\n",
    "    n_way=p.n_way,\n",
    "    n_query=p.n_query,\n",
    "    train_val_test_k_factors=(p.train_k_factor,p.val_k_factor,p.test_k_factor),\n",
    "):\n",
    "   \n",
    "    if x_transforms == []: x_transform = None\n",
    "    else: x_transform = get_chained_transform(x_transforms)\n",
    "    \n",
    "    if episode_transforms == []: episode_transform = None\n",
    "    else: raise Exception(\"episode_transforms not implemented\")\n",
    "    \n",
    "    episode_transform = lambda tup, _prefix=domain_prefix: (_prefix + str(tup[0]), tup[1])\n",
    "\n",
    "\n",
    "    eaf = Episodic_Accessor_Factory(\n",
    "        labels=labels,\n",
    "        domains=domains,\n",
    "        num_examples_per_domain_per_label=num_examples_per_domain_per_label,\n",
    "        iterator_seed=iterator_seed,\n",
    "        dataset_seed=dataset_seed,\n",
    "        n_shot=n_shot,\n",
    "        n_way=n_way,\n",
    "        n_query=n_query,\n",
    "        train_val_test_k_factors=train_val_test_k_factors,\n",
    "        pickle_path=pickle_path,\n",
    "        x_transform_func=x_transform,\n",
    "    )\n",
    "\n",
    "    train, val, test = eaf.get_train(), eaf.get_val(), eaf.get_test()\n",
    "    train = Lazy_Iterable_Wrapper(train, episode_transform)\n",
    "    val = Lazy_Iterable_Wrapper(val, episode_transform)\n",
    "    test = Lazy_Iterable_Wrapper(test, episode_transform)\n",
    "\n",
    "    if source_or_target_dataset==\"source\":\n",
    "        train_original_source.append(train)\n",
    "        val_original_source.append(val)\n",
    "        test_original_source.append(test)\n",
    "\n",
    "        p.domains_source.extend(\n",
    "            [domain_prefix + str(u) for u in domains]\n",
    "        )\n",
    "    elif source_or_target_dataset==\"target\":\n",
    "        train_original_target.append(train)\n",
    "        val_original_target.append(val)\n",
    "        test_original_target.append(test)\n",
    "        p.domains_target.extend(\n",
    "            [domain_prefix + str(u) for u in domains]\n",
    "        )\n",
    "    else:\n",
    "        raise Exception(f\"invalid source_or_target_dataset: {source_or_target_dataset}\")\n",
    "    "
   ]
  },
  {
   "cell_type": "code",
   "execution_count": 13,
   "id": "fe266617",
   "metadata": {
    "execution": {
     "iopub.execute_input": "2022-03-18T05:55:14.004483Z",
     "iopub.status.busy": "2022-03-18T05:55:13.999559Z",
     "iopub.status.idle": "2022-03-18T05:55:53.101182Z",
     "shell.execute_reply": "2022-03-18T05:55:53.100734Z"
    },
    "papermill": {
     "duration": 39.118668,
     "end_time": "2022-03-18T05:55:53.101281",
     "exception": false,
     "start_time": "2022-03-18T05:55:13.982613",
     "status": "completed"
    },
    "tags": []
   },
   "outputs": [],
   "source": [
    "for ds in p.datasets:\n",
    "    add_dataset(**ds)"
   ]
  },
  {
   "cell_type": "code",
   "execution_count": 14,
   "id": "b90d65ac",
   "metadata": {
    "execution": {
     "iopub.execute_input": "2022-03-18T05:55:53.136335Z",
     "iopub.status.busy": "2022-03-18T05:55:53.136075Z",
     "iopub.status.idle": "2022-03-18T05:55:53.151397Z",
     "shell.execute_reply": "2022-03-18T05:55:53.151023Z"
    },
    "papermill": {
     "duration": 0.031539,
     "end_time": "2022-03-18T05:55:53.151468",
     "exception": false,
     "start_time": "2022-03-18T05:55:53.119929",
     "status": "completed"
    },
    "tags": []
   },
   "outputs": [],
   "source": [
    "# from steves_utils.CORES.utils import (\n",
    "#     ALL_NODES,\n",
    "#     ALL_NODES_MINIMUM_1000_EXAMPLES,\n",
    "#     ALL_DAYS\n",
    "# )\n",
    "\n",
    "# add_dataset(\n",
    "#     labels=ALL_NODES,\n",
    "#     domains = ALL_DAYS,\n",
    "#     num_examples_per_domain_per_label=100,\n",
    "#     pickle_path=os.path.join(get_datasets_base_path(), \"cores.stratified_ds.2022A.pkl\"),\n",
    "#     source_or_target_dataset=\"target\",\n",
    "#     x_transform_func=global_x_transform_func,\n",
    "#     domain_modifier=lambda u: f\"cores_{u}\"\n",
    "# )"
   ]
  },
  {
   "cell_type": "code",
   "execution_count": 15,
   "id": "76db484d",
   "metadata": {
    "execution": {
     "iopub.execute_input": "2022-03-18T05:55:53.190630Z",
     "iopub.status.busy": "2022-03-18T05:55:53.185930Z",
     "iopub.status.idle": "2022-03-18T05:55:53.200949Z",
     "shell.execute_reply": "2022-03-18T05:55:53.201343Z"
    },
    "papermill": {
     "duration": 0.030304,
     "end_time": "2022-03-18T05:55:53.201451",
     "exception": false,
     "start_time": "2022-03-18T05:55:53.171147",
     "status": "completed"
    },
    "tags": []
   },
   "outputs": [],
   "source": [
    "# from steves_utils.ORACLE.utils_v2 import (\n",
    "#     ALL_DISTANCES_FEET,\n",
    "#     ALL_RUNS,\n",
    "#     ALL_SERIAL_NUMBERS,\n",
    "# )\n",
    "\n",
    "\n",
    "# add_dataset(\n",
    "#     labels=ALL_SERIAL_NUMBERS,\n",
    "#     domains = list(set(ALL_DISTANCES_FEET) - {2,62}),\n",
    "#     num_examples_per_domain_per_label=100,\n",
    "#     pickle_path=os.path.join(get_datasets_base_path(), \"oracle.Run2_framed_2000Examples_stratified_ds.2022A.pkl\"),\n",
    "#     source_or_target_dataset=\"source\",\n",
    "#     x_transform_func=global_x_transform_func,\n",
    "#     domain_modifier=lambda u: f\"oracle1_{u}\"\n",
    "# )\n"
   ]
  },
  {
   "cell_type": "code",
   "execution_count": 16,
   "id": "97dea9d2",
   "metadata": {
    "execution": {
     "iopub.execute_input": "2022-03-18T05:55:53.236572Z",
     "iopub.status.busy": "2022-03-18T05:55:53.233485Z",
     "iopub.status.idle": "2022-03-18T05:55:53.249287Z",
     "shell.execute_reply": "2022-03-18T05:55:53.248884Z"
    },
    "papermill": {
     "duration": 0.030529,
     "end_time": "2022-03-18T05:55:53.249376",
     "exception": false,
     "start_time": "2022-03-18T05:55:53.218847",
     "status": "completed"
    },
    "tags": []
   },
   "outputs": [],
   "source": [
    "# from steves_utils.ORACLE.utils_v2 import (\n",
    "#     ALL_DISTANCES_FEET,\n",
    "#     ALL_RUNS,\n",
    "#     ALL_SERIAL_NUMBERS,\n",
    "# )\n",
    "\n",
    "\n",
    "# add_dataset(\n",
    "#     labels=ALL_SERIAL_NUMBERS,\n",
    "#     domains = list(set(ALL_DISTANCES_FEET) - {2,62,56}),\n",
    "#     num_examples_per_domain_per_label=100,\n",
    "#     pickle_path=os.path.join(get_datasets_base_path(), \"oracle.Run2_framed_2000Examples_stratified_ds.2022A.pkl\"),\n",
    "#     source_or_target_dataset=\"source\",\n",
    "#     x_transform_func=global_x_transform_func,\n",
    "#     domain_modifier=lambda u: f\"oracle2_{u}\"\n",
    "# )"
   ]
  },
  {
   "cell_type": "code",
   "execution_count": 17,
   "id": "6f289866",
   "metadata": {
    "execution": {
     "iopub.execute_input": "2022-03-18T05:55:53.293052Z",
     "iopub.status.busy": "2022-03-18T05:55:53.292517Z",
     "iopub.status.idle": "2022-03-18T05:55:53.298032Z",
     "shell.execute_reply": "2022-03-18T05:55:53.298434Z"
    },
    "papermill": {
     "duration": 0.030828,
     "end_time": "2022-03-18T05:55:53.298556",
     "exception": false,
     "start_time": "2022-03-18T05:55:53.267728",
     "status": "completed"
    },
    "tags": []
   },
   "outputs": [],
   "source": [
    "# add_dataset(\n",
    "#     labels=list(range(19)),\n",
    "#     domains = [0,1,2],\n",
    "#     num_examples_per_domain_per_label=100,\n",
    "#     pickle_path=os.path.join(get_datasets_base_path(), \"metehan.stratified_ds.2022A.pkl\"),\n",
    "#     source_or_target_dataset=\"target\",\n",
    "#     x_transform_func=global_x_transform_func,\n",
    "#     domain_modifier=lambda u: f\"met_{u}\"\n",
    "# )"
   ]
  },
  {
   "cell_type": "code",
   "execution_count": 18,
   "id": "86a863c3",
   "metadata": {
    "execution": {
     "iopub.execute_input": "2022-03-18T05:55:53.339475Z",
     "iopub.status.busy": "2022-03-18T05:55:53.331523Z",
     "iopub.status.idle": "2022-03-18T05:55:53.345916Z",
     "shell.execute_reply": "2022-03-18T05:55:53.346289Z"
    },
    "papermill": {
     "duration": 0.030058,
     "end_time": "2022-03-18T05:55:53.346399",
     "exception": false,
     "start_time": "2022-03-18T05:55:53.316341",
     "status": "completed"
    },
    "tags": []
   },
   "outputs": [],
   "source": [
    "# # from steves_utils.wisig.utils import (\n",
    "# #     ALL_NODES_MINIMUM_100_EXAMPLES,\n",
    "# #     ALL_NODES_MINIMUM_500_EXAMPLES,\n",
    "# #     ALL_NODES_MINIMUM_1000_EXAMPLES,\n",
    "# #     ALL_DAYS\n",
    "# # )\n",
    "\n",
    "# import steves_utils.wisig.utils as wisig\n",
    "\n",
    "\n",
    "# add_dataset(\n",
    "#     labels=wisig.ALL_NODES_MINIMUM_100_EXAMPLES,\n",
    "#     domains = wisig.ALL_DAYS,\n",
    "#     num_examples_per_domain_per_label=100,\n",
    "#     pickle_path=os.path.join(get_datasets_base_path(), \"wisig.node3-19.stratified_ds.2022A.pkl\"),\n",
    "#     source_or_target_dataset=\"target\",\n",
    "#     x_transform_func=global_x_transform_func,\n",
    "#     domain_modifier=lambda u: f\"wisig_{u}\"\n",
    "# )"
   ]
  },
  {
   "cell_type": "code",
   "execution_count": 19,
   "id": "fd5442bc",
   "metadata": {
    "execution": {
     "iopub.execute_input": "2022-03-18T05:55:53.384509Z",
     "iopub.status.busy": "2022-03-18T05:55:53.384253Z",
     "iopub.status.idle": "2022-03-18T05:55:53.395028Z",
     "shell.execute_reply": "2022-03-18T05:55:53.394657Z"
    },
    "papermill": {
     "duration": 0.030751,
     "end_time": "2022-03-18T05:55:53.395117",
     "exception": false,
     "start_time": "2022-03-18T05:55:53.364366",
     "status": "completed"
    },
    "tags": []
   },
   "outputs": [],
   "source": [
    "###################################\n",
    "# Build the dataset\n",
    "###################################\n",
    "train_original_source = Iterable_Aggregator(train_original_source, p.seed)\n",
    "val_original_source = Iterable_Aggregator(val_original_source, p.seed)\n",
    "test_original_source = Iterable_Aggregator(test_original_source, p.seed)\n",
    "\n",
    "\n",
    "train_original_target = Iterable_Aggregator(train_original_target, p.seed)\n",
    "val_original_target = Iterable_Aggregator(val_original_target, p.seed)\n",
    "test_original_target = Iterable_Aggregator(test_original_target, p.seed)\n",
    "\n",
    "# For CNN We only use X and Y. And we only train on the source.\n",
    "# Properly form the data using a transform lambda and Lazy_Iterable_Wrapper. Finally wrap them in a dataloader\n",
    "\n",
    "transform_lambda = lambda ex: ex[1] # Original is (<domain>, <episode>) so we strip down to episode only\n",
    "\n",
    "train_processed_source = Lazy_Iterable_Wrapper(train_original_source, transform_lambda)\n",
    "val_processed_source   = Lazy_Iterable_Wrapper(val_original_source, transform_lambda)\n",
    "test_processed_source  = Lazy_Iterable_Wrapper(test_original_source, transform_lambda)\n",
    "\n",
    "train_processed_target = Lazy_Iterable_Wrapper(train_original_target, transform_lambda)\n",
    "val_processed_target   = Lazy_Iterable_Wrapper(val_original_target, transform_lambda)\n",
    "test_processed_target  = Lazy_Iterable_Wrapper(test_original_target, transform_lambda)\n",
    "\n",
    "datasets = EasyDict({\n",
    "    \"source\": {\n",
    "        \"original\": {\"train\":train_original_source, \"val\":val_original_source, \"test\":test_original_source},\n",
    "        \"processed\": {\"train\":train_processed_source, \"val\":val_processed_source, \"test\":test_processed_source}\n",
    "    },\n",
    "    \"target\": {\n",
    "        \"original\": {\"train\":train_original_target, \"val\":val_original_target, \"test\":test_original_target},\n",
    "        \"processed\": {\"train\":train_processed_target, \"val\":val_processed_target, \"test\":test_processed_target}\n",
    "    },\n",
    "})"
   ]
  },
  {
   "cell_type": "code",
   "execution_count": 20,
   "id": "5b3c01fc",
   "metadata": {
    "execution": {
     "iopub.execute_input": "2022-03-18T05:55:53.432490Z",
     "iopub.status.busy": "2022-03-18T05:55:53.429306Z",
     "iopub.status.idle": "2022-03-18T05:55:58.060520Z",
     "shell.execute_reply": "2022-03-18T05:55:58.060111Z"
    },
    "papermill": {
     "duration": 4.647938,
     "end_time": "2022-03-18T05:55:58.060627",
     "exception": false,
     "start_time": "2022-03-18T05:55:53.412689",
     "status": "completed"
    },
    "tags": []
   },
   "outputs": [
    {
     "name": "stdout",
     "output_type": "stream",
     "text": [
      "{'C_A_2', 'W_A_1', 'C_A_3', 'C_A_1', 'W_A_3', 'C_A_4', 'W_A_2', 'W_A_4', 'C_A_5'}\n"
     ]
    },
    {
     "name": "stdout",
     "output_type": "stream",
     "text": [
      "{'ORACLE.run1_38', 'ORACLE.run1_8', 'ORACLE.run1_20', 'ORACLE.run1_26', 'ORACLE.run1_14', 'ORACLE.run1_44', 'ORACLE.run1_32', 'ORACLE.run1_50'}\n"
     ]
    },
    {
     "name": "stdout",
     "output_type": "stream",
     "text": [
      "tensor([[[-0.0528, -0.3409, -0.7991,  ..., -0.3120,  1.0307,  0.3722],\n",
      "         [ 0.0209,  0.1260,  0.2559,  ..., -0.1845, -0.1243,  0.6399]],\n",
      "\n",
      "        [[-0.0302, -0.1195,  0.0211,  ..., -1.0108,  0.2835, -0.2878],\n",
      "         [-0.0687, -0.4081, -0.7639,  ..., -0.7289,  0.0182, -0.1694]],\n",
      "\n",
      "        [[-0.0383, -0.2156, -0.3667,  ..., -1.0857, -0.7417,  0.8022],\n",
      "         [-0.0198, -0.1404, -0.4094,  ..., -0.1452, -0.2038, -0.3375]],\n",
      "\n",
      "        ...,\n",
      "\n",
      "        [[ 0.0249,  0.1192,  0.1161,  ...,  0.9522, -0.5294, -0.8637],\n",
      "         [ 0.0240,  0.1586,  0.3666,  ...,  0.3006,  0.1952, -0.8440]],\n",
      "\n",
      "        [[-0.0089, -0.0429, -0.0667,  ...,  0.5776, -0.1051, -1.0431],\n",
      "         [-0.0066, -0.0443, -0.1179,  ...,  0.1101,  0.4903,  0.3360]],\n",
      "\n",
      "        [[ 0.0059,  0.0637,  0.2028,  ..., -0.1182,  0.5499, -0.4163],\n",
      "         [-0.0359, -0.2032, -0.3493,  ..., -1.1884, -0.1492,  0.7649]]])\n"
     ]
    }
   ],
   "source": [
    "from steves_utils.transforms import get_average_magnitude, get_average_power\n",
    "\n",
    "print(set([u for u,_ in val_original_source]))\n",
    "print(set([u for u,_ in val_original_target]))\n",
    "\n",
    "s_x, s_y, q_x, q_y, _ = next(iter(train_processed_source))\n",
    "print(s_x)\n",
    "\n",
    "# for ds in [\n",
    "#     train_processed_source,\n",
    "#     val_processed_source,\n",
    "#     test_processed_source,\n",
    "#     train_processed_target,\n",
    "#     val_processed_target,\n",
    "#     test_processed_target\n",
    "# ]:\n",
    "#     for s_x, s_y, q_x, q_y, _ in ds:\n",
    "#         for X in (s_x, q_x):\n",
    "#             for x in X:\n",
    "#                 assert np.isclose(get_average_magnitude(x.numpy()), 1.0)\n",
    "#                 assert np.isclose(get_average_power(x.numpy()), 1.0)\n",
    "                "
   ]
  },
  {
   "cell_type": "code",
   "execution_count": 21,
   "id": "bbdacba1",
   "metadata": {
    "execution": {
     "iopub.execute_input": "2022-03-18T05:55:58.100095Z",
     "iopub.status.busy": "2022-03-18T05:55:58.095954Z",
     "iopub.status.idle": "2022-03-18T05:55:58.144561Z",
     "shell.execute_reply": "2022-03-18T05:55:58.144104Z"
    },
    "papermill": {
     "duration": 0.066829,
     "end_time": "2022-03-18T05:55:58.144652",
     "exception": false,
     "start_time": "2022-03-18T05:55:58.077823",
     "status": "completed"
    },
    "tags": []
   },
   "outputs": [
    {
     "name": "stdout",
     "output_type": "stream",
     "text": [
      "(2, 200)\n"
     ]
    }
   ],
   "source": [
    "###################################\n",
    "# Build the model\n",
    "###################################\n",
    "# easfsl only wants a tuple for the shape\n",
    "model = Steves_Prototypical_Network(x_net, device=p.device, x_shape=tuple(p.x_shape))\n",
    "optimizer = Adam(params=model.parameters(), lr=p.lr)"
   ]
  },
  {
   "cell_type": "code",
   "execution_count": 22,
   "id": "22b39ac5",
   "metadata": {
    "execution": {
     "iopub.execute_input": "2022-03-18T05:55:58.181596Z",
     "iopub.status.busy": "2022-03-18T05:55:58.181342Z",
     "iopub.status.idle": "2022-03-18T06:02:17.953104Z",
     "shell.execute_reply": "2022-03-18T06:02:17.952630Z"
    },
    "papermill": {
     "duration": 379.788834,
     "end_time": "2022-03-18T06:02:17.953200",
     "exception": false,
     "start_time": "2022-03-18T05:55:58.164366",
     "status": "completed"
    },
    "tags": []
   },
   "outputs": [
    {
     "name": "stdout",
     "output_type": "stream",
     "text": [
      "epoch: 1, [batch: 1 / 2081], examples_per_second: 129.9953, train_label_loss: 2.9003, \n"
     ]
    },
    {
     "name": "stdout",
     "output_type": "stream",
     "text": [
      "epoch: 1, [batch: 209 / 2081], examples_per_second: 3727.7933, train_label_loss: 0.1574, \n"
     ]
    },
    {
     "name": "stdout",
     "output_type": "stream",
     "text": [
      "epoch: 1, [batch: 417 / 2081], examples_per_second: 3738.1834, train_label_loss: 0.9859, \n"
     ]
    },
    {
     "name": "stdout",
     "output_type": "stream",
     "text": [
      "epoch: 1, [batch: 625 / 2081], examples_per_second: 3725.9769, train_label_loss: 0.0077, \n"
     ]
    },
    {
     "name": "stdout",
     "output_type": "stream",
     "text": [
      "epoch: 1, [batch: 833 / 2081], examples_per_second: 3735.8293, train_label_loss: 1.0432, \n"
     ]
    },
    {
     "name": "stdout",
     "output_type": "stream",
     "text": [
      "epoch: 1, [batch: 1041 / 2081], examples_per_second: 3759.9350, train_label_loss: 0.0827, \n"
     ]
    },
    {
     "name": "stdout",
     "output_type": "stream",
     "text": [
      "epoch: 1, [batch: 1249 / 2081], examples_per_second: 3758.3031, train_label_loss: 0.4616, \n"
     ]
    },
    {
     "name": "stdout",
     "output_type": "stream",
     "text": [
      "epoch: 1, [batch: 1457 / 2081], examples_per_second: 3734.3985, train_label_loss: 0.3775, \n"
     ]
    },
    {
     "name": "stdout",
     "output_type": "stream",
     "text": [
      "epoch: 1, [batch: 1665 / 2081], examples_per_second: 3751.4547, train_label_loss: 0.0472, \n"
     ]
    },
    {
     "name": "stdout",
     "output_type": "stream",
     "text": [
      "epoch: 1, [batch: 1873 / 2081], examples_per_second: 3749.2744, train_label_loss: 0.2662, \n"
     ]
    },
    {
     "name": "stdout",
     "output_type": "stream",
     "text": [
      "=============================================================\n",
      "epoch: 1, source_val_acc_label: 0.9449, target_val_acc_label: 0.1618, source_val_label_loss: 0.2448, target_val_label_loss: 2.5544, \n",
      "=============================================================\n"
     ]
    },
    {
     "name": "stdout",
     "output_type": "stream",
     "text": [
      "New best\n"
     ]
    },
    {
     "name": "stdout",
     "output_type": "stream",
     "text": [
      "epoch: 2, [batch: 1 / 2079], examples_per_second: 11.4616, train_label_loss: 0.1839, \n"
     ]
    },
    {
     "name": "stdout",
     "output_type": "stream",
     "text": [
      "epoch: 2, [batch: 208 / 2079], examples_per_second: 3698.5626, train_label_loss: 0.4195, \n"
     ]
    },
    {
     "name": "stdout",
     "output_type": "stream",
     "text": [
      "epoch: 2, [batch: 416 / 2079], examples_per_second: 3712.2425, train_label_loss: 0.0099, \n"
     ]
    },
    {
     "name": "stdout",
     "output_type": "stream",
     "text": [
      "epoch: 2, [batch: 624 / 2079], examples_per_second: 3735.1141, train_label_loss: 0.1168, \n"
     ]
    },
    {
     "name": "stdout",
     "output_type": "stream",
     "text": [
      "epoch: 2, [batch: 832 / 2079], examples_per_second: 3719.8634, train_label_loss: 0.1578, \n"
     ]
    },
    {
     "name": "stdout",
     "output_type": "stream",
     "text": [
      "epoch: 2, [batch: 1040 / 2079], examples_per_second: 3680.4268, train_label_loss: 0.4620, \n"
     ]
    },
    {
     "name": "stdout",
     "output_type": "stream",
     "text": [
      "epoch: 2, [batch: 1247 / 2079], examples_per_second: 3691.8790, train_label_loss: 0.0026, \n"
     ]
    },
    {
     "name": "stdout",
     "output_type": "stream",
     "text": [
      "epoch: 2, [batch: 1455 / 2079], examples_per_second: 3684.0103, train_label_loss: 0.1608, \n"
     ]
    },
    {
     "name": "stdout",
     "output_type": "stream",
     "text": [
      "epoch: 2, [batch: 1663 / 2079], examples_per_second: 3715.3497, train_label_loss: 0.0318, \n"
     ]
    },
    {
     "name": "stdout",
     "output_type": "stream",
     "text": [
      "epoch: 2, [batch: 1871 / 2079], examples_per_second: 3749.4472, train_label_loss: 0.0571, \n"
     ]
    },
    {
     "name": "stdout",
     "output_type": "stream",
     "text": [
      "=============================================================\n",
      "epoch: 2, source_val_acc_label: 0.9654, target_val_acc_label: 0.1689, source_val_label_loss: 0.1626, target_val_label_loss: 2.5632, \n",
      "=============================================================\n"
     ]
    },
    {
     "name": "stdout",
     "output_type": "stream",
     "text": [
      "epoch: 3, [batch: 1 / 2082], examples_per_second: 11.4663, train_label_loss: 0.2694, \n"
     ]
    },
    {
     "name": "stdout",
     "output_type": "stream",
     "text": [
      "epoch: 3, [batch: 209 / 2082], examples_per_second: 3691.6925, train_label_loss: 0.6249, \n"
     ]
    },
    {
     "name": "stdout",
     "output_type": "stream",
     "text": [
      "epoch: 3, [batch: 417 / 2082], examples_per_second: 3720.7355, train_label_loss: 0.6170, \n"
     ]
    },
    {
     "name": "stdout",
     "output_type": "stream",
     "text": [
      "epoch: 3, [batch: 625 / 2082], examples_per_second: 3731.9032, train_label_loss: 0.6150, \n"
     ]
    },
    {
     "name": "stdout",
     "output_type": "stream",
     "text": [
      "epoch: 3, [batch: 833 / 2082], examples_per_second: 3736.2663, train_label_loss: 0.2695, \n"
     ]
    },
    {
     "name": "stdout",
     "output_type": "stream",
     "text": [
      "epoch: 3, [batch: 1041 / 2082], examples_per_second: 3721.9705, train_label_loss: 0.0117, \n"
     ]
    },
    {
     "name": "stdout",
     "output_type": "stream",
     "text": [
      "epoch: 3, [batch: 1249 / 2082], examples_per_second: 3738.7669, train_label_loss: 0.0090, \n"
     ]
    },
    {
     "name": "stdout",
     "output_type": "stream",
     "text": [
      "epoch: 3, [batch: 1457 / 2082], examples_per_second: 3707.2116, train_label_loss: 0.0118, \n"
     ]
    },
    {
     "name": "stdout",
     "output_type": "stream",
     "text": [
      "epoch: 3, [batch: 1665 / 2082], examples_per_second: 3729.9054, train_label_loss: 0.0285, \n"
     ]
    },
    {
     "name": "stdout",
     "output_type": "stream",
     "text": [
      "epoch: 3, [batch: 1873 / 2082], examples_per_second: 3734.7490, train_label_loss: 0.1962, \n"
     ]
    },
    {
     "name": "stdout",
     "output_type": "stream",
     "text": [
      "=============================================================\n",
      "epoch: 3, source_val_acc_label: 0.9686, target_val_acc_label: 0.1877, source_val_label_loss: 0.1431, target_val_label_loss: 2.4828, \n",
      "=============================================================\n"
     ]
    },
    {
     "name": "stdout",
     "output_type": "stream",
     "text": [
      "New best\n"
     ]
    },
    {
     "name": "stdout",
     "output_type": "stream",
     "text": [
      "epoch: 4, [batch: 1 / 2080], examples_per_second: 11.4039, train_label_loss: 0.1559, \n"
     ]
    },
    {
     "name": "stdout",
     "output_type": "stream",
     "text": [
      "epoch: 4, [batch: 208 / 2080], examples_per_second: 3708.3215, train_label_loss: 0.0527, \n"
     ]
    },
    {
     "name": "stdout",
     "output_type": "stream",
     "text": [
      "epoch: 4, [batch: 416 / 2080], examples_per_second: 3724.1796, train_label_loss: 0.0161, \n"
     ]
    },
    {
     "name": "stdout",
     "output_type": "stream",
     "text": [
      "epoch: 4, [batch: 624 / 2080], examples_per_second: 3703.3173, train_label_loss: 0.0016, \n"
     ]
    },
    {
     "name": "stdout",
     "output_type": "stream",
     "text": [
      "epoch: 4, [batch: 832 / 2080], examples_per_second: 3727.7427, train_label_loss: 0.1043, \n"
     ]
    },
    {
     "name": "stdout",
     "output_type": "stream",
     "text": [
      "epoch: 4, [batch: 1040 / 2080], examples_per_second: 3708.0834, train_label_loss: 0.0854, \n"
     ]
    },
    {
     "name": "stdout",
     "output_type": "stream",
     "text": [
      "epoch: 4, [batch: 1248 / 2080], examples_per_second: 3709.7003, train_label_loss: 0.0100, \n"
     ]
    },
    {
     "name": "stdout",
     "output_type": "stream",
     "text": [
      "epoch: 4, [batch: 1456 / 2080], examples_per_second: 3687.3633, train_label_loss: 0.0384, \n"
     ]
    },
    {
     "name": "stdout",
     "output_type": "stream",
     "text": [
      "epoch: 4, [batch: 1664 / 2080], examples_per_second: 3705.6316, train_label_loss: 0.0197, \n"
     ]
    },
    {
     "name": "stdout",
     "output_type": "stream",
     "text": [
      "epoch: 4, [batch: 1872 / 2080], examples_per_second: 3706.2151, train_label_loss: 0.3341, \n"
     ]
    },
    {
     "name": "stdout",
     "output_type": "stream",
     "text": [
      "=============================================================\n",
      "epoch: 4, source_val_acc_label: 0.9708, target_val_acc_label: 0.1482, source_val_label_loss: 0.1349, target_val_label_loss: 2.9133, \n",
      "=============================================================\n"
     ]
    },
    {
     "name": "stdout",
     "output_type": "stream",
     "text": [
      "epoch: 5, [batch: 1 / 2079], examples_per_second: 11.4040, train_label_loss: 0.0114, \n"
     ]
    },
    {
     "name": "stdout",
     "output_type": "stream",
     "text": [
      "epoch: 5, [batch: 208 / 2079], examples_per_second: 3687.1301, train_label_loss: 0.2094, \n"
     ]
    },
    {
     "name": "stdout",
     "output_type": "stream",
     "text": [
      "epoch: 5, [batch: 416 / 2079], examples_per_second: 3722.4642, train_label_loss: 0.0510, \n"
     ]
    },
    {
     "name": "stdout",
     "output_type": "stream",
     "text": [
      "epoch: 5, [batch: 624 / 2079], examples_per_second: 3761.1927, train_label_loss: 0.0140, \n"
     ]
    },
    {
     "name": "stdout",
     "output_type": "stream",
     "text": [
      "epoch: 5, [batch: 832 / 2079], examples_per_second: 3714.2177, train_label_loss: 0.0012, \n"
     ]
    },
    {
     "name": "stdout",
     "output_type": "stream",
     "text": [
      "epoch: 5, [batch: 1040 / 2079], examples_per_second: 3695.3297, train_label_loss: 0.4736, \n"
     ]
    },
    {
     "name": "stdout",
     "output_type": "stream",
     "text": [
      "epoch: 5, [batch: 1247 / 2079], examples_per_second: 3694.7993, train_label_loss: 0.0766, \n"
     ]
    },
    {
     "name": "stdout",
     "output_type": "stream",
     "text": [
      "epoch: 5, [batch: 1455 / 2079], examples_per_second: 3700.1063, train_label_loss: 0.1572, \n"
     ]
    },
    {
     "name": "stdout",
     "output_type": "stream",
     "text": [
      "epoch: 5, [batch: 1663 / 2079], examples_per_second: 3705.0409, train_label_loss: 0.0169, \n"
     ]
    },
    {
     "name": "stdout",
     "output_type": "stream",
     "text": [
      "epoch: 5, [batch: 1871 / 2079], examples_per_second: 3725.9986, train_label_loss: 0.3140, \n"
     ]
    },
    {
     "name": "stdout",
     "output_type": "stream",
     "text": [
      "=============================================================\n",
      "epoch: 5, source_val_acc_label: 0.9704, target_val_acc_label: 0.1554, source_val_label_loss: 0.1348, target_val_label_loss: 2.8482, \n",
      "=============================================================\n"
     ]
    },
    {
     "name": "stdout",
     "output_type": "stream",
     "text": [
      "epoch: 6, [batch: 1 / 2081], examples_per_second: 11.4333, train_label_loss: 0.0889, \n"
     ]
    },
    {
     "name": "stdout",
     "output_type": "stream",
     "text": [
      "epoch: 6, [batch: 209 / 2081], examples_per_second: 3685.8224, train_label_loss: 0.0009, \n"
     ]
    },
    {
     "name": "stdout",
     "output_type": "stream",
     "text": [
      "epoch: 6, [batch: 417 / 2081], examples_per_second: 3720.8482, train_label_loss: 0.0155, \n"
     ]
    },
    {
     "name": "stdout",
     "output_type": "stream",
     "text": [
      "epoch: 6, [batch: 625 / 2081], examples_per_second: 3744.0301, train_label_loss: 0.0059, \n"
     ]
    },
    {
     "name": "stdout",
     "output_type": "stream",
     "text": [
      "epoch: 6, [batch: 833 / 2081], examples_per_second: 3747.2261, train_label_loss: 0.0005, \n"
     ]
    },
    {
     "name": "stdout",
     "output_type": "stream",
     "text": [
      "epoch: 6, [batch: 1041 / 2081], examples_per_second: 3717.0290, train_label_loss: 0.1126, \n"
     ]
    },
    {
     "name": "stdout",
     "output_type": "stream",
     "text": [
      "epoch: 6, [batch: 1249 / 2081], examples_per_second: 3742.0601, train_label_loss: 0.0112, \n"
     ]
    },
    {
     "name": "stdout",
     "output_type": "stream",
     "text": [
      "epoch: 6, [batch: 1457 / 2081], examples_per_second: 3740.8111, train_label_loss: 0.0000, \n"
     ]
    },
    {
     "name": "stdout",
     "output_type": "stream",
     "text": [
      "epoch: 6, [batch: 1665 / 2081], examples_per_second: 3693.9944, train_label_loss: 0.0140, \n"
     ]
    },
    {
     "name": "stdout",
     "output_type": "stream",
     "text": [
      "epoch: 6, [batch: 1873 / 2081], examples_per_second: 3729.7488, train_label_loss: 0.0071, \n"
     ]
    },
    {
     "name": "stdout",
     "output_type": "stream",
     "text": [
      "=============================================================\n",
      "epoch: 6, source_val_acc_label: 0.9758, target_val_acc_label: 0.1490, source_val_label_loss: 0.1263, target_val_label_loss: 3.3213, \n",
      "=============================================================\n"
     ]
    },
    {
     "name": "stdout",
     "output_type": "stream",
     "text": [
      "epoch: 7, [batch: 1 / 2075], examples_per_second: 11.4440, train_label_loss: 0.0149, \n"
     ]
    },
    {
     "name": "stdout",
     "output_type": "stream",
     "text": [
      "epoch: 7, [batch: 208 / 2075], examples_per_second: 3724.6769, train_label_loss: 0.0053, \n"
     ]
    },
    {
     "name": "stdout",
     "output_type": "stream",
     "text": [
      "epoch: 7, [batch: 415 / 2075], examples_per_second: 3736.9293, train_label_loss: 0.0016, \n"
     ]
    },
    {
     "name": "stdout",
     "output_type": "stream",
     "text": [
      "epoch: 7, [batch: 623 / 2075], examples_per_second: 3705.7078, train_label_loss: 0.2480, \n"
     ]
    },
    {
     "name": "stdout",
     "output_type": "stream",
     "text": [
      "epoch: 7, [batch: 830 / 2075], examples_per_second: 3712.1615, train_label_loss: 0.0316, \n"
     ]
    },
    {
     "name": "stdout",
     "output_type": "stream",
     "text": [
      "epoch: 7, [batch: 1038 / 2075], examples_per_second: 3699.9398, train_label_loss: 0.0006, \n"
     ]
    },
    {
     "name": "stdout",
     "output_type": "stream",
     "text": [
      "epoch: 7, [batch: 1245 / 2075], examples_per_second: 3735.3626, train_label_loss: 0.0009, \n"
     ]
    },
    {
     "name": "stdout",
     "output_type": "stream",
     "text": [
      "epoch: 7, [batch: 1452 / 2075], examples_per_second: 3706.7771, train_label_loss: 0.0525, \n"
     ]
    },
    {
     "name": "stdout",
     "output_type": "stream",
     "text": [
      "epoch: 7, [batch: 1660 / 2075], examples_per_second: 3646.2314, train_label_loss: 0.1843, \n"
     ]
    },
    {
     "name": "stdout",
     "output_type": "stream",
     "text": [
      "epoch: 7, [batch: 1867 / 2075], examples_per_second: 3730.8237, train_label_loss: 0.0109, \n"
     ]
    },
    {
     "name": "stdout",
     "output_type": "stream",
     "text": [
      "=============================================================\n",
      "epoch: 7, source_val_acc_label: 0.9726, target_val_acc_label: 0.1469, source_val_label_loss: 0.1350, target_val_label_loss: 3.0328, \n",
      "=============================================================\n"
     ]
    },
    {
     "name": "stdout",
     "output_type": "stream",
     "text": [
      "Patience (3) exhausted\n"
     ]
    }
   ],
   "source": [
    "###################################\n",
    "# train\n",
    "###################################\n",
    "jig = PTN_Train_Eval_Test_Jig(model, p.BEST_MODEL_PATH, p.device)\n",
    "\n",
    "jig.train(\n",
    "    train_iterable=datasets.source.processed.train,\n",
    "    source_val_iterable=datasets.source.processed.val,\n",
    "    target_val_iterable=datasets.target.processed.val,\n",
    "    num_epochs=p.n_epoch,\n",
    "    num_logs_per_epoch=p.NUM_LOGS_PER_EPOCH,\n",
    "    patience=p.patience,\n",
    "    optimizer=optimizer,\n",
    "    criteria_for_best=p.criteria_for_best,\n",
    ")"
   ]
  },
  {
   "cell_type": "code",
   "execution_count": 23,
   "id": "31e8fabf",
   "metadata": {
    "execution": {
     "iopub.execute_input": "2022-03-18T06:02:18.018176Z",
     "iopub.status.busy": "2022-03-18T06:02:18.017864Z",
     "iopub.status.idle": "2022-03-18T06:02:18.035960Z",
     "shell.execute_reply": "2022-03-18T06:02:18.035501Z"
    },
    "papermill": {
     "duration": 0.049217,
     "end_time": "2022-03-18T06:02:18.036049",
     "exception": false,
     "start_time": "2022-03-18T06:02:17.986832",
     "status": "completed"
    },
    "tags": []
   },
   "outputs": [],
   "source": [
    "total_experiment_time_secs = time.time() - start_time_secs"
   ]
  },
  {
   "cell_type": "code",
   "execution_count": 24,
   "id": "87b9595b",
   "metadata": {
    "execution": {
     "iopub.execute_input": "2022-03-18T06:02:18.103901Z",
     "iopub.status.busy": "2022-03-18T06:02:18.099799Z",
     "iopub.status.idle": "2022-03-18T06:03:20.360822Z",
     "shell.execute_reply": "2022-03-18T06:03:20.360385Z"
    },
    "papermill": {
     "duration": 62.291106,
     "end_time": "2022-03-18T06:03:20.360924",
     "exception": false,
     "start_time": "2022-03-18T06:02:18.069818",
     "status": "completed"
    },
    "tags": []
   },
   "outputs": [],
   "source": [
    "###################################\n",
    "# Evaluate the model\n",
    "###################################\n",
    "source_test_label_accuracy, source_test_label_loss = jig.test(datasets.source.processed.test)\n",
    "target_test_label_accuracy, target_test_label_loss = jig.test(datasets.target.processed.test)\n",
    "\n",
    "source_val_label_accuracy, source_val_label_loss = jig.test(datasets.source.processed.val)\n",
    "target_val_label_accuracy, target_val_label_loss = jig.test(datasets.target.processed.val)\n",
    "\n",
    "history = jig.get_history()\n",
    "\n",
    "total_epochs_trained = len(history[\"epoch_indices\"])\n",
    "\n",
    "val_dl = Iterable_Aggregator((datasets.source.original.val,datasets.target.original.val))\n",
    "\n",
    "confusion = ptn_confusion_by_domain_over_dataloader(model, p.device, val_dl)\n",
    "per_domain_accuracy = per_domain_accuracy_from_confusion(confusion)\n",
    "\n",
    "# Add a key to per_domain_accuracy for if it was a source domain\n",
    "for domain, accuracy in per_domain_accuracy.items():\n",
    "    per_domain_accuracy[domain] = {\n",
    "        \"accuracy\": accuracy,\n",
    "        \"source?\": domain in p.domains_source\n",
    "    }\n",
    "\n",
    "# Do an independent accuracy assesment JUST TO BE SURE!\n",
    "# _source_test_label_accuracy = independent_accuracy_assesment(model, datasets.source.processed.test, p.device)\n",
    "# _target_test_label_accuracy = independent_accuracy_assesment(model, datasets.target.processed.test, p.device)\n",
    "# _source_val_label_accuracy = independent_accuracy_assesment(model, datasets.source.processed.val, p.device)\n",
    "# _target_val_label_accuracy = independent_accuracy_assesment(model, datasets.target.processed.val, p.device)\n",
    "\n",
    "# assert(_source_test_label_accuracy == source_test_label_accuracy)\n",
    "# assert(_target_test_label_accuracy == target_test_label_accuracy)\n",
    "# assert(_source_val_label_accuracy == source_val_label_accuracy)\n",
    "# assert(_target_val_label_accuracy == target_val_label_accuracy)\n",
    "\n",
    "experiment = {\n",
    "    \"experiment_name\": p.experiment_name,\n",
    "    \"parameters\": dict(p),\n",
    "    \"results\": {\n",
    "        \"source_test_label_accuracy\": source_test_label_accuracy,\n",
    "        \"source_test_label_loss\": source_test_label_loss,\n",
    "        \"target_test_label_accuracy\": target_test_label_accuracy,\n",
    "        \"target_test_label_loss\": target_test_label_loss,\n",
    "        \"source_val_label_accuracy\": source_val_label_accuracy,\n",
    "        \"source_val_label_loss\": source_val_label_loss,\n",
    "        \"target_val_label_accuracy\": target_val_label_accuracy,\n",
    "        \"target_val_label_loss\": target_val_label_loss,\n",
    "        \"total_epochs_trained\": total_epochs_trained,\n",
    "        \"total_experiment_time_secs\": total_experiment_time_secs,\n",
    "        \"confusion\": confusion,\n",
    "        \"per_domain_accuracy\": per_domain_accuracy,\n",
    "    },\n",
    "    \"history\": history,\n",
    "    \"dataset_metrics\": get_dataset_metrics(datasets, \"ptn\"),\n",
    "}"
   ]
  },
  {
   "cell_type": "code",
   "execution_count": 25,
   "id": "54a21829",
   "metadata": {
    "execution": {
     "iopub.execute_input": "2022-03-18T06:03:20.424428Z",
     "iopub.status.busy": "2022-03-18T06:03:20.424155Z",
     "iopub.status.idle": "2022-03-18T06:03:20.548938Z",
     "shell.execute_reply": "2022-03-18T06:03:20.549320Z"
    },
    "papermill": {
     "duration": 0.156464,
     "end_time": "2022-03-18T06:03:20.549432",
     "exception": false,
     "start_time": "2022-03-18T06:03:20.392968",
     "status": "completed"
    },
    "tags": []
   },
   "outputs": [
    {
     "data": {
      "image/png": "[encoded data removed]",
      "text/plain": [
       "<Figure size 1080x504 with 1 Axes>"
      ]
     },
     "metadata": {
      "needs_background": "light"
     },
     "output_type": "display_data"
    }
   ],
   "source": [
    "ax = get_loss_curve(experiment)\n",
    "plt.show()"
   ]
  },
  {
   "cell_type": "code",
   "execution_count": 26,
   "id": "fd8a0f60",
   "metadata": {
    "execution": {
     "iopub.execute_input": "2022-03-18T06:03:20.623320Z",
     "iopub.status.busy": "2022-03-18T06:03:20.614279Z",
     "iopub.status.idle": "2022-03-18T06:03:20.757175Z",
     "shell.execute_reply": "2022-03-18T06:03:20.757388Z"
    },
    "papermill": {
     "duration": 0.174949,
     "end_time": "2022-03-18T06:03:20.757449",
     "exception": false,
     "start_time": "2022-03-18T06:03:20.582500",
     "status": "completed"
    },
    "tags": []
   },
   "outputs": [
    {
     "data": {
      "text/plain": [
       "<AxesSubplot:title={'center':'Results'}>"
      ]
     },
     "execution_count": 26,
     "metadata": {},
     "output_type": "execute_result"
    },
    {
     "data": {
      "image/png": "[encoded data removed]",
      "text/plain": [
       "<Figure size 1080x504 with 1 Axes>"
      ]
     },
     "metadata": {
      "needs_background": "light"
     },
     "output_type": "display_data"
    }
   ],
   "source": [
    "get_results_table(experiment)"
   ]
  },
  {
   "cell_type": "code",
   "execution_count": 27,
   "id": "cf8dc689",
   "metadata": {
    "execution": {
     "iopub.execute_input": "2022-03-18T06:03:20.823442Z",
     "iopub.status.busy": "2022-03-18T06:03:20.823079Z",
     "iopub.status.idle": "2022-03-18T06:03:20.982430Z",
     "shell.execute_reply": "2022-03-18T06:03:20.982779Z"
    },
    "papermill": {
     "duration": 0.192664,
     "end_time": "2022-03-18T06:03:20.982886",
     "exception": false,
     "start_time": "2022-03-18T06:03:20.790222",
     "status": "completed"
    },
    "tags": []
   },
   "outputs": [
    {
     "data": {
      "text/plain": [
       "<AxesSubplot:title={'center':'Per Domain Validation Accuracy'}, xlabel='domain'>"
      ]
     },
     "execution_count": 27,
     "metadata": {},
     "output_type": "execute_result"
    },
    {
     "data": {
      "image/png": "[encoded data removed]",
      "text/plain": [
       "<Figure size 1080x504 with 1 Axes>"
      ]
     },
     "metadata": {
      "needs_background": "light"
     },
     "output_type": "display_data"
    }
   ],
   "source": [
    "get_domain_accuracies(experiment)"
   ]
  },
  {
   "cell_type": "code",
   "execution_count": 28,
   "id": "a74ae082",
   "metadata": {
    "execution": {
     "iopub.execute_input": "2022-03-18T06:03:21.054203Z",
     "iopub.status.busy": "2022-03-18T06:03:21.053955Z",
     "iopub.status.idle": "2022-03-18T06:03:21.069289Z",
     "shell.execute_reply": "2022-03-18T06:03:21.068834Z"
    },
    "papermill": {
     "duration": 0.049722,
     "end_time": "2022-03-18T06:03:21.069385",
     "exception": false,
     "start_time": "2022-03-18T06:03:21.019663",
     "status": "completed"
    },
    "tags": []
   },
   "outputs": [
    {
     "name": "stdout",
     "output_type": "stream",
     "text": [
      "Source Test Label Accuracy: 0.961472602739726 Target Test Label Accuracy: 0.18509114583333333\n",
      "Source Val Label Accuracy: 0.9686429794520548 Target Val Label Accuracy: 0.18766276041666666\n"
     ]
    }
   ],
   "source": [
    "print(\"Source Test Label Accuracy:\", experiment[\"results\"][\"source_test_label_accuracy\"], \"Target Test Label Accuracy:\", experiment[\"results\"][\"target_test_label_accuracy\"])\n",
    "print(\"Source Val Label Accuracy:\", experiment[\"results\"][\"source_val_label_accuracy\"], \"Target Val Label Accuracy:\", experiment[\"results\"][\"target_val_label_accuracy\"])"
   ]
  },
  {
   "cell_type": "code",
   "execution_count": 29,
   "id": "dacca602",
   "metadata": {
    "execution": {
     "iopub.execute_input": "2022-03-18T06:03:21.147814Z",
     "iopub.status.busy": "2022-03-18T06:03:21.139720Z",
     "iopub.status.idle": "2022-03-18T06:03:21.156816Z",
     "shell.execute_reply": "2022-03-18T06:03:21.157244Z"
    },
    "papermill": {
     "duration": 0.051478,
     "end_time": "2022-03-18T06:03:21.157363",
     "exception": false,
     "start_time": "2022-03-18T06:03:21.105885",
     "status": "completed"
    },
    "tags": [
     "experiment_json"
    ]
   },
   "outputs": [
    {
     "data": {
      "text/plain": [
       "'{\"experiment_name\": \"tl_3-filter:cores+wisig -> oracle.run1.framed\", \"parameters\": {\"experiment_name\": \"tl_3-filter:cores+wisig -> oracle.run1.framed\", \"device\": \"cuda\", \"lr\": 0.001, \"seed\": 1337, \"dataset_seed\": 1337, \"x_shape\": [2, 200], \"n_shot\": 3, \"n_query\": 2, \"train_k_factor\": 3, \"val_k_factor\": 2, \"test_k_factor\": 2, \"torch_default_dtype\": \"torch.float32\", \"n_epoch\": 50, \"patience\": 3, \"criteria_for_best\": \"target_loss\", \"x_net\": [{\"class\": \"nnReshape\", \"kargs\": {\"shape\": [-1, 1, 2, 200]}}, {\"class\": \"Conv2d\", \"kargs\": {\"in_channels\": 1, \"out_channels\": 256, \"kernel_size\": [1, 7], \"bias\": false, \"padding\": [0, 3]}}, {\"class\": \"ReLU\", \"kargs\": {\"inplace\": true}}, {\"class\": \"BatchNorm2d\", \"kargs\": {\"num_features\": 256}}, {\"class\": \"Conv2d\", \"kargs\": {\"in_channels\": 256, \"out_channels\": 80, \"kernel_size\": [2, 7], \"bias\": true, \"padding\": [0, 3]}}, {\"class\": \"ReLU\", \"kargs\": {\"inplace\": true}}, {\"class\": \"BatchNorm2d\", \"kargs\": {\"num_features\": 80}}, {\"class\": \"Flatten\", \"kargs\": {}}, {\"class\": \"Linear\", \"kargs\": {\"in_features\": 16000, \"out_features\": 256}}, {\"class\": \"ReLU\", \"kargs\": {\"inplace\": true}}, {\"class\": \"BatchNorm1d\", \"kargs\": {\"num_features\": 256}}, {\"class\": \"Linear\", \"kargs\": {\"in_features\": 256, \"out_features\": 256}}], \"NUM_LOGS_PER_EPOCH\": 10, \"BEST_MODEL_PATH\": \"./best_model.pth\", \"n_way\": 16, \"datasets\": [{\"labels\": [\"1-10.\", \"1-11.\", \"1-15.\", \"1-16.\", \"1-17.\", \"1-18.\", \"1-19.\", \"10-4.\", \"10-7.\", \"11-1.\", \"11-14.\", \"11-17.\", \"11-20.\", \"11-7.\", \"13-20.\", \"13-8.\", \"14-10.\", \"14-11.\", \"14-14.\", \"14-7.\", \"15-1.\", \"15-20.\", \"16-1.\", \"16-16.\", \"17-10.\", \"17-11.\", \"17-2.\", \"19-1.\", \"19-16.\", \"19-19.\", \"19-20.\", \"19-3.\", \"2-10.\", \"2-11.\", \"2-17.\", \"2-18.\", \"2-20.\", \"2-3.\", \"2-4.\", \"2-5.\", \"2-6.\", \"2-7.\", \"2-8.\", \"3-13.\", \"3-18.\", \"3-3.\", \"4-1.\", \"4-10.\", \"4-11.\", \"4-19.\", \"5-5.\", \"6-15.\", \"7-10.\", \"7-14.\", \"8-18.\", \"8-20.\", \"8-3.\", \"8-8.\"], \"domains\": [1, 2, 3, 4, 5], \"num_examples_per_domain_per_label\": 100, \"pickle_path\": \"/mnt/wd500GB/CSC500/csc500-main/datasets/cores.stratified_ds.2022A.pkl\", \"source_or_target_dataset\": \"source\", \"x_transforms\": [\"unit_power\", \"lowpass_+/-10MHz\", \"take_200\"], \"episode_transforms\": [], \"domain_prefix\": \"C_A_\"}, {\"labels\": [\"1-10\", \"1-12\", \"1-14\", \"1-16\", \"1-18\", \"1-19\", \"1-8\", \"10-11\", \"10-17\", \"10-4\", \"10-7\", \"11-1\", \"11-10\", \"11-19\", \"11-20\", \"11-4\", \"11-7\", \"12-19\", \"12-20\", \"12-7\", \"13-14\", \"13-18\", \"13-19\", \"13-20\", \"13-3\", \"13-7\", \"14-10\", \"14-11\", \"14-12\", \"14-13\", \"14-14\", \"14-19\", \"14-20\", \"14-7\", \"14-8\", \"14-9\", \"15-1\", \"15-19\", \"15-6\", \"16-1\", \"16-16\", \"16-19\", \"16-20\", \"17-10\", \"17-11\", \"18-1\", \"18-10\", \"18-11\", \"18-12\", \"18-13\", \"18-14\", \"18-15\", \"18-16\", \"18-17\", \"18-19\", \"18-2\", \"18-20\", \"18-4\", \"18-5\", \"18-7\", \"18-8\", \"18-9\", \"19-1\", \"19-10\", \"19-11\", \"19-12\", \"19-13\", \"19-14\", \"19-15\", \"19-19\", \"19-2\", \"19-20\", \"19-3\", \"19-4\", \"19-6\", \"19-7\", \"19-8\", \"19-9\", \"2-1\", \"2-13\", \"2-15\", \"2-3\", \"2-4\", \"2-5\", \"2-6\", \"2-7\", \"2-8\", \"20-1\", \"20-12\", \"20-14\", \"20-15\", \"20-16\", \"20-18\", \"20-19\", \"20-20\", \"20-3\", \"20-4\", \"20-5\", \"20-7\", \"20-8\", \"3-1\", \"3-13\", \"3-18\", \"3-2\", \"3-8\", \"4-1\", \"4-10\", \"4-11\", \"5-1\", \"5-5\", \"6-1\", \"6-15\", \"6-6\", \"7-10\", \"7-11\", \"7-12\", \"7-13\", \"7-14\", \"7-7\", \"7-8\", \"7-9\", \"8-1\", \"8-13\", \"8-14\", \"8-18\", \"8-20\", \"8-3\", \"8-8\", \"9-1\", \"9-7\"], \"domains\": [1, 2, 3, 4], \"num_examples_per_domain_per_label\": 100, \"pickle_path\": \"/mnt/wd500GB/CSC500/csc500-main/datasets/wisig.node3-19.stratified_ds.2022A.pkl\", \"source_or_target_dataset\": \"source\", \"x_transforms\": [\"unit_power\", \"lowpass_+/-10MHz\", \"take_200\"], \"episode_transforms\": [], \"domain_prefix\": \"W_A_\"}, {\"labels\": [\"3123D52\", \"3123D65\", \"3123D79\", \"3123D80\", \"3123D54\", \"3123D70\", \"3123D7B\", \"3123D89\", \"3123D58\", \"3123D76\", \"3123D7D\", \"3123EFE\", \"3123D64\", \"3123D78\", \"3123D7E\", \"3124E4A\"], \"domains\": [32, 38, 8, 44, 14, 50, 20, 26], \"num_examples_per_domain_per_label\": 2000, \"pickle_path\": \"/mnt/wd500GB/CSC500/csc500-main/datasets/oracle.Run1_framed_2000Examples_stratified_ds.2022A.pkl\", \"source_or_target_dataset\": \"target\", \"x_transforms\": [\"unit_power\", \"take_200\", \"resample_20Msps_to_25Msps\"], \"episode_transforms\": [], \"domain_prefix\": \"ORACLE.run1_\"}], \"domains_source\": [\"C_A_1\", \"C_A_2\", \"C_A_3\", \"C_A_4\", \"C_A_5\", \"W_A_1\", \"W_A_2\", \"W_A_3\", \"W_A_4\"], \"domains_target\": [\"ORACLE.run1_32\", \"ORACLE.run1_38\", \"ORACLE.run1_8\", \"ORACLE.run1_44\", \"ORACLE.run1_14\", \"ORACLE.run1_50\", \"ORACLE.run1_20\", \"ORACLE.run1_26\"]}, \"results\": {\"source_test_label_accuracy\": 0.961472602739726, \"source_test_label_loss\": 0.16762550175189972, \"target_test_label_accuracy\": 0.18509114583333333, \"target_test_label_loss\": 2.478008985519409, \"source_val_label_accuracy\": 0.9686429794520548, \"source_val_label_loss\": 0.1431199312210083, \"target_val_label_accuracy\": 0.18766276041666666, \"target_val_label_loss\": 2.4827520847320557, \"total_epochs_trained\": 7, \"total_experiment_time_secs\": 424.2164821624756, \"confusion\": {\"C_A_3\": {\"43\": {\"43\": 12}, \"9\": {\"9\": 12}, \"6\": {\"6\": 10}, \"3\": {\"3\": 12}, \"16\": {\"16\": 12}, \"51\": {\"51\": 12}, \"31\": {\"31\": 12}, \"46\": {\"46\": 10}, \"19\": {\"19\": 8}, \"8\": {\"8\": 12}, \"18\": {\"18\": 12}, \"37\": {\"37\": 12}, \"24\": {\"24\": 12}, \"10\": {\"10\": 12}, \"44\": {\"44\": 10}, \"14\": {\"14\": 12}, \"38\": {\"38\": 10}, \"53\": {\"53\": 12}, \"20\": {\"20\": 12}, \"32\": {\"32\": 12}, \"36\": {\"36\": 10}, \"33\": {\"33\": 12}, \"56\": {\"56\": 12}, \"23\": {\"23\": 12}, \"54\": {\"54\": 10}, \"34\": {\"34\": 12}, \"13\": {\"13\": 12}, \"2\": {\"2\": 12}, \"55\": {\"55\": 10}, \"21\": {\"21\": 10}, \"49\": {\"49\": 10}, \"25\": {\"25\": 12}, \"5\": {\"5\": 12}, \"50\": {\"2\": 1, \"50\": 7}, \"40\": {\"40\": 12}, \"57\": {\"57\": 8}, \"22\": {\"22\": 10}, \"1\": {\"1\": 10}, \"17\": {\"17\": 12}, \"41\": {\"41\": 12}, \"4\": {\"4\": 10}, \"7\": {\"7\": 10}, \"26\": {\"26\": 10}, \"29\": {\"57\": 2, \"29\": 10}, \"52\": {\"52\": 12}, \"15\": {\"15\": 12}, \"35\": {\"35\": 12}, \"42\": {\"42\": 12}, \"30\": {\"30\": 10}, \"27\": {\"27\": 8}, \"45\": {\"45\": 10}, \"0\": {\"0\": 12}, \"28\": {\"28\": 12}, \"47\": {\"47\": 12}, \"11\": {\"11\": 10}, \"39\": {\"39\": 10}, \"48\": {\"48\": 12}, \"12\": {\"12\": 8}}, \"C_A_4\": {\"35\": {\"35\": 10}, \"25\": {\"25\": 12}, \"24\": {\"24\": 10}, \"48\": {\"48\": 12}, \"51\": {\"51\": 12}, \"13\": {\"13\": 12}, \"14\": {\"14\": 8}, \"32\": {\"32\": 12}, \"30\": {\"30\": 11, \"8\": 1}, \"34\": {\"34\": 10}, \"9\": {\"9\": 12}, \"1\": {\"1\": 12}, \"0\": {\"0\": 12}, \"38\": {\"38\": 12}, \"22\": {\"22\": 8}, \"40\": {\"40\": 12}, \"39\": {\"39\": 12}, \"46\": {\"46\": 11, \"31\": 1}, \"36\": {\"36\": 12}, \"50\": {\"50\": 12}, \"49\": {\"49\": 12}, \"17\": {\"17\": 12}, \"45\": {\"45\": 12}, \"6\": {\"6\": 12}, \"8\": {\"8\": 12}, \"5\": {\"5\": 10}, \"33\": {\"33\": 12}, \"31\": {\"31\": 12}, \"37\": {\"37\": 10}, \"47\": {\"47\": 8}, \"15\": {\"15\": 10}, \"7\": {\"7\": 12}, \"20\": {\"20\": 12}, \"4\": {\"4\": 11, \"44\": 1}, \"54\": {\"54\": 12}, \"44\": {\"44\": 12}, \"3\": {\"3\": 12}, \"11\": {\"11\": 9, \"15\": 1}, \"27\": {\"27\": 10}, \"19\": {\"19\": 12}, \"55\": {\"55\": 11, \"16\": 1}, \"16\": {\"16\": 12}, \"2\": {\"2\": 10}, \"52\": {\"52\": 10}, \"42\": {\"42\": 10}, \"26\": {\"26\": 12}, \"10\": {\"10\": 12}, \"53\": {\"53\": 10}, \"28\": {\"28\": 12}, \"21\": {\"21\": 10}, \"57\": {\"57\": 10}, \"23\": {\"23\": 8}, \"43\": {\"43\": 10}, \"12\": {\"12\": 12}, \"41\": {\"41\": 12}, \"56\": {\"56\": 8}, \"18\": {\"18\": 10}, \"29\": {\"29\": 8}}, \"W_A_3\": {\"109\": {\"109\": 11, \"55\": 1}, \"127\": {\"127\": 12}, \"14\": {\"14\": 12}, \"7\": {\"7\": 12}, \"129\": {\"129\": 12}, \"57\": {\"57\": 12}, \"84\": {\"84\": 12}, \"114\": {\"114\": 12}, \"44\": {\"44\": 11, \"29\": 1}, \"21\": {\"21\": 12}, \"46\": {\"46\": 12}, \"100\": {\"100\": 12}, \"63\": {\"63\": 9, \"24\": 1, \"92\": 1, \"97\": 1}, \"24\": {\"24\": 10, \"21\": 1, \"120\": 1}, \"107\": {\"107\": 12}, \"35\": {\"21\": 1, \"35\": 8, \"13\": 1}, \"81\": {\"81\": 12}, \"64\": {\"64\": 12}, \"59\": {\"36\": 1, \"59\": 11}, \"33\": {\"33\": 12}, \"34\": {\"34\": 12}, \"36\": {\"36\": 12}, \"79\": {\"79\": 12}, \"80\": {\"80\": 11, \"87\": 1}, \"77\": {\"77\": 12}, \"22\": {\"22\": 12}, \"124\": {\"124\": 12}, \"2\": {\"2\": 12}, \"87\": {\"87\": 12}, \"105\": {\"105\": 12}, \"95\": {\"95\": 12}, \"43\": {\"43\": 12}, \"56\": {\"56\": 10}, \"18\": {\"18\": 12}, \"85\": {\"85\": 12}, \"113\": {\"113\": 12}, \"97\": {\"97\": 11, \"94\": 1}, \"86\": {\"86\": 12}, \"128\": {\"86\": 2, \"128\": 10}, \"123\": {\"123\": 12}, \"8\": {\"85\": 1, \"8\": 11}, \"110\": {\"110\": 12}, \"126\": {\"18\": 1, \"126\": 11}, \"101\": {\"101\": 12}, \"115\": {\"115\": 12}, \"49\": {\"49\": 12}, \"45\": {\"45\": 12}, \"78\": {\"78\": 11, \"40\": 1}, \"65\": {\"65\": 10}, \"54\": {\"54\": 12}, \"31\": {\"31\": 10}, \"42\": {\"42\": 11, \"82\": 1}, \"68\": {\"68\": 12}, \"15\": {\"15\": 12}, \"69\": {\"69\": 12}, \"17\": {\"17\": 9, \"104\": 1}, \"73\": {\"73\": 12}, \"121\": {\"121\": 12}, \"102\": {\"102\": 12}, \"48\": {\"48\": 12}, \"23\": {\"23\": 10, \"122\": 1, \"59\": 1}, \"108\": {\"108\": 12}, \"53\": {\"53\": 12}, \"94\": {\"94\": 10}, \"41\": {\"41\": 12}, \"58\": {\"58\": 12}, \"29\": {\"29\": 12}, \"116\": {\"116\": 12}, \"60\": {\"60\": 11, \"5\": 1}, \"104\": {\"104\": 12}, \"106\": {\"106\": 11, \"30\": 1}, \"66\": {\"66\": 12}, \"47\": {\"47\": 12}, \"40\": {\"40\": 12}, \"82\": {\"82\": 12}, \"13\": {\"13\": 8, \"87\": 1, \"105\": 2, \"113\": 1}, \"19\": {\"19\": 11, \"128\": 1}, \"72\": {\"72\": 12}, \"9\": {\"9\": 12}, \"67\": {\"67\": 12}, \"11\": {\"11\": 12}, \"125\": {\"125\": 12}, \"76\": {\"76\": 8}, \"83\": {\"83\": 12}, \"74\": {\"74\": 11, \"24\": 1}, \"20\": {\"20\": 12}, \"119\": {\"119\": 12}, \"1\": {\"1\": 12}, \"16\": {\"16\": 12}, \"25\": {\"25\": 11, \"74\": 1}, \"90\": {\"90\": 8}, \"39\": {\"39\": 12}, \"28\": {\"28\": 12}, \"55\": {\"55\": 12}, \"117\": {\"117\": 12}, \"112\": {\"112\": 12}, \"38\": {\"38\": 12}, \"37\": {\"37\": 12}, \"120\": {\"120\": 12}, \"122\": {\"122\": 12}, \"50\": {\"50\": 12}, \"10\": {\"10\": 11, \"55\": 1}, \"5\": {\"5\": 12}, \"51\": {\"51\": 12}, \"3\": {\"3\": 10, \"42\": 1, \"17\": 1}, \"98\": {\"98\": 11, \"60\": 1}, \"70\": {\"70\": 11, \"85\": 1}, \"96\": {\"96\": 12}, \"12\": {\"12\": 12}, \"99\": {\"99\": 12}, \"52\": {\"52\": 12}, \"71\": {\"71\": 10, \"86\": 1, \"61\": 1}, \"89\": {\"89\": 12}, \"0\": {\"0\": 12}, \"4\": {\"4\": 9, \"92\": 1, \"43\": 1, \"23\": 1}, \"93\": {\"93\": 12}, \"6\": {\"6\": 8, \"58\": 1, \"34\": 1}, \"75\": {\"75\": 12}, \"62\": {\"62\": 12}, \"103\": {\"103\": 12}, \"30\": {\"30\": 12}, \"91\": {\"91\": 10, \"103\": 1, \"29\": 1}, \"27\": {\"27\": 12}, \"26\": {\"26\": 12}, \"61\": {\"61\": 12}, \"118\": {\"118\": 12}, \"92\": {\"92\": 12}, \"111\": {\"111\": 12}, \"32\": {\"32\": 12}, \"88\": {\"88\": 10}}, \"C_A_5\": {\"47\": {\"47\": 9, \"1\": 1}, \"53\": {\"53\": 12}, \"29\": {\"29\": 12}, \"52\": {\"52\": 12}, \"55\": {\"55\": 12}, \"17\": {\"17\": 12}, \"42\": {\"42\": 12}, \"33\": {\"33\": 10}, \"11\": {\"11\": 12}, \"19\": {\"19\": 8}, \"1\": {\"1\": 12}, \"44\": {\"44\": 11, \"29\": 1}, \"49\": {\"49\": 12}, \"4\": {\"4\": 12}, \"6\": {\"6\": 12}, \"39\": {\"39\": 12}, \"13\": {\"13\": 12}, \"5\": {\"5\": 10}, \"16\": {\"16\": 10}, \"25\": {\"25\": 12}, \"45\": {\"45\": 12}, \"7\": {\"7\": 10}, \"22\": {\"22\": 12}, \"40\": {\"40\": 11, \"5\": 1}, \"38\": {\"38\": 12}, \"35\": {\"35\": 8}, \"56\": {\"56\": 12}, \"50\": {\"50\": 10}, \"0\": {\"0\": 12}, \"10\": {\"10\": 12}, \"27\": {\"27\": 12}, \"20\": {\"20\": 10}, \"36\": {\"36\": 8}, \"34\": {\"34\": 12}, \"30\": {\"30\": 12}, \"2\": {\"2\": 10}, \"15\": {\"15\": 11, \"11\": 1}, \"18\": {\"18\": 12}, \"32\": {\"32\": 12}, \"31\": {\"31\": 12}, \"57\": {\"57\": 12}, \"48\": {\"48\": 8}, \"28\": {\"28\": 10}, \"14\": {\"14\": 12}, \"3\": {\"3\": 12}, \"8\": {\"8\": 12}, \"9\": {\"9\": 12}, \"21\": {\"21\": 10}, \"41\": {\"41\": 12}, \"24\": {\"24\": 12}, \"46\": {\"46\": 10}, \"43\": {\"43\": 10}, \"54\": {\"54\": 10}, \"23\": {\"23\": 10}, \"37\": {\"37\": 10}, \"12\": {\"12\": 10}, \"26\": {\"26\": 10}, \"51\": {\"51\": 6}}, \"C_A_1\": {\"46\": {\"46\": 12}, \"16\": {\"16\": 12}, \"26\": {\"26\": 12}, \"10\": {\"10\": 12}, \"9\": {\"9\": 10}, \"28\": {\"28\": 12}, \"51\": {\"51\": 12}, \"1\": {\"1\": 11, \"57\": 1}, \"55\": {\"55\": 12}, \"27\": {\"27\": 10}, \"22\": {\"22\": 11, \"24\": 1}, \"52\": {\"52\": 12}, \"3\": {\"3\": 12}, \"33\": {\"33\": 8}, \"47\": {\"47\": 12}, \"42\": {\"42\": 12}, \"12\": {\"12\": 4}, \"23\": {\"23\": 12}, \"49\": {\"49\": 10}, \"7\": {\"7\": 12}, \"4\": {\"4\": 12}, \"50\": {\"50\": 12}, \"19\": {\"19\": 11, \"57\": 1}, \"11\": {\"11\": 12}, \"31\": {\"31\": 10}, \"41\": {\"41\": 12}, \"56\": {\"56\": 10}, \"0\": {\"0\": 12}, \"57\": {\"57\": 12}, \"53\": {\"53\": 12}, \"43\": {\"43\": 12}, \"37\": {\"37\": 12}, \"2\": {\"2\": 8}, \"6\": {\"6\": 11, \"2\": 1}, \"18\": {\"18\": 12}, \"38\": {\"38\": 12}, \"15\": {\"15\": 12}, \"36\": {\"36\": 12}, \"39\": {\"39\": 8}, \"44\": {\"44\": 12}, \"8\": {\"8\": 12}, \"17\": {\"17\": 10}, \"5\": {\"5\": 12}, \"13\": {\"13\": 10}, \"40\": {\"40\": 10}, \"29\": {\"29\": 11, \"56\": 1}, \"48\": {\"48\": 12}, \"32\": {\"32\": 12}, \"30\": {\"30\": 11, \"8\": 1}, \"35\": {\"35\": 12}, \"25\": {\"25\": 12}, \"14\": {\"14\": 12}, \"54\": {\"54\": 10}, \"20\": {\"20\": 8}, \"21\": {\"21\": 10}, \"45\": {\"45\": 8}, \"24\": {\"24\": 6, \"22\": 2}, \"34\": {\"34\": 8}}, \"W_A_4\": {\"28\": {\"28\": 12}, \"4\": {\"4\": 11, \"56\": 1}, \"72\": {\"72\": 12}, \"111\": {\"111\": 12}, \"108\": {\"108\": 12}, \"43\": {\"43\": 10}, \"96\": {\"96\": 12}, \"89\": {\"89\": 11, \"22\": 1}, \"31\": {\"31\": 12}, \"45\": {\"45\": 12}, \"2\": {\"2\": 12}, \"114\": {\"114\": 12}, \"11\": {\"11\": 12}, \"12\": {\"12\": 12}, \"14\": {\"14\": 11, \"96\": 1}, \"90\": {\"90\": 12}, \"10\": {\"10\": 9, \"24\": 1, \"36\": 1, \"27\": 1}, \"63\": {\"4\": 1, \"63\": 10, \"71\": 1}, \"85\": {\"85\": 11, \"91\": 1}, \"64\": {\"64\": 12}, \"82\": {\"82\": 10, \"57\": 1, \"8\": 1}, \"58\": {\"58\": 12}, \"3\": {\"3\": 12}, \"54\": {\"54\": 12}, \"121\": {\"121\": 8, \"123\": 1, \"48\": 1, \"7\": 1, \"108\": 1}, \"42\": {\"42\": 12}, \"98\": {\"98\": 12}, \"123\": {\"123\": 12}, \"91\": {\"91\": 11, \"85\": 1}, \"66\": {\"66\": 10, \"90\": 2}, \"102\": {\"102\": 12}, \"122\": {\"122\": 11, \"84\": 1}, \"1\": {\"1\": 12}, \"15\": {\"15\": 12}, \"97\": {\"15\": 2, \"97\": 9, \"115\": 1}, \"75\": {\"75\": 12}, \"95\": {\"95\": 12}, \"57\": {\"57\": 12}, \"68\": {\"68\": 12}, \"125\": {\"125\": 12}, \"62\": {\"62\": 10}, \"27\": {\"27\": 10, \"21\": 1, \"80\": 1}, \"120\": {\"120\": 11, \"103\": 1}, \"26\": {\"26\": 11, \"35\": 1}, \"55\": {\"55\": 12}, \"71\": {\"71\": 11, \"26\": 1}, \"22\": {\"22\": 12}, \"99\": {\"99\": 11, \"51\": 1}, \"84\": {\"84\": 10, \"103\": 1, \"43\": 1}, \"37\": {\"37\": 12}, \"83\": {\"83\": 11, \"88\": 1}, \"46\": {\"46\": 12}, \"35\": {\"35\": 12}, \"13\": {\"13\": 12}, \"53\": {\"53\": 10, \"69\": 1, \"78\": 1}, \"127\": {\"127\": 12}, \"69\": {\"115\": 1, \"69\": 11}, \"48\": {\"48\": 11, \"88\": 1}, \"16\": {\"16\": 12}, \"0\": {\"0\": 12}, \"8\": {\"8\": 10, \"115\": 1, \"72\": 1}, \"9\": {\"9\": 12}, \"115\": {\"115\": 11, \"87\": 1}, \"70\": {\"70\": 10, \"92\": 1, \"53\": 1}, \"119\": {\"119\": 12}, \"59\": {\"59\": 12}, \"52\": {\"52\": 12}, \"60\": {\"60\": 11, \"110\": 1}, \"44\": {\"44\": 11, \"90\": 1}, \"51\": {\"51\": 9, \"115\": 1, \"48\": 1, \"12\": 1}, \"6\": {\"6\": 11, \"58\": 1}, \"73\": {\"73\": 12}, \"78\": {\"78\": 9, \"21\": 1, \"87\": 1, \"123\": 1}, \"92\": {\"92\": 12}, \"20\": {\"20\": 10, \"73\": 1, \"23\": 1}, \"17\": {\"17\": 12}, \"74\": {\"74\": 12}, \"19\": {\"19\": 12}, \"50\": {\"50\": 12}, \"34\": {\"34\": 10, \"85\": 2}, \"104\": {\"104\": 7, \"17\": 1}, \"33\": {\"33\": 11, \"51\": 1}, \"5\": {\"5\": 12}, \"7\": {\"7\": 11, \"23\": 1}, \"29\": {\"29\": 12}, \"25\": {\"25\": 12}, \"124\": {\"124\": 12}, \"117\": {\"117\": 10, \"90\": 1, \"80\": 1}, \"88\": {\"88\": 10, \"122\": 1, \"71\": 1}, \"61\": {\"61\": 11, \"69\": 1}, \"86\": {\"86\": 12}, \"116\": {\"116\": 12}, \"24\": {\"24\": 12}, \"128\": {\"128\": 7, \"28\": 1, \"21\": 1, \"20\": 1, \"9\": 1, \"106\": 1}, \"101\": {\"101\": 12}, \"65\": {\"65\": 9, \"23\": 1}, \"36\": {\"36\": 11, \"24\": 1}, \"21\": {\"21\": 10, \"78\": 2}, \"106\": {\"106\": 12}, \"118\": {\"118\": 10, \"71\": 1, \"57\": 1}, \"113\": {\"113\": 12}, \"40\": {\"40\": 12}, \"93\": {\"93\": 8}, \"94\": {\"94\": 10, \"36\": 2}, \"103\": {\"103\": 8, \"77\": 2, \"115\": 1, \"22\": 1}, \"110\": {\"110\": 12}, \"56\": {\"56\": 12}, \"39\": {\"39\": 12}, \"109\": {\"31\": 1, \"109\": 10, \"118\": 1}, \"67\": {\"67\": 11, \"71\": 1}, \"129\": {\"129\": 12}, \"30\": {\"30\": 11, \"111\": 1}, \"126\": {\"126\": 10, \"23\": 1, \"108\": 1}, \"87\": {\"51\": 1, \"87\": 10, \"50\": 1}, \"112\": {\"112\": 12}, \"100\": {\"100\": 12}, \"79\": {\"79\": 10}, \"81\": {\"81\": 11, \"61\": 1}, \"76\": {\"76\": 10}, \"47\": {\"47\": 11, \"70\": 1}, \"77\": {\"77\": 11, \"103\": 1}, \"23\": {\"103\": 1, \"77\": 2, \"23\": 4, \"48\": 1, \"41\": 1, \"9\": 1, \"78\": 2}, \"18\": {\"18\": 12}, \"49\": {\"49\": 12}, \"41\": {\"41\": 10, \"47\": 1, \"86\": 1}, \"32\": {\"32\": 12}, \"107\": {\"107\": 10}, \"80\": {\"80\": 11, \"77\": 1}, \"105\": {\"105\": 10}, \"38\": {\"38\": 10}}, \"W_A_1\": {\"108\": {\"108\": 10}, \"40\": {\"40\": 12}, \"68\": {\"68\": 12}, \"23\": {\"23\": 10, \"6\": 1, \"127\": 1}, \"26\": {\"70\": 1, \"26\": 11}, \"64\": {\"64\": 12}, \"22\": {\"22\": 12}, \"3\": {\"3\": 12}, \"4\": {\"4\": 11, \"78\": 1}, \"70\": {\"70\": 11, \"72\": 1}, \"57\": {\"57\": 12}, \"79\": {\"79\": 12}, \"9\": {\"9\": 11, \"103\": 1}, \"89\": {\"89\": 12}, \"110\": {\"110\": 12}, \"102\": {\"102\": 12}, \"31\": {\"31\": 12}, \"58\": {\"58\": 12}, \"47\": {\"47\": 12}, \"24\": {\"24\": 12}, \"19\": {\"19\": 12}, \"11\": {\"11\": 12}, \"52\": {\"52\": 12}, \"17\": {\"17\": 12}, \"25\": {\"25\": 12}, \"69\": {\"69\": 12}, \"96\": {\"96\": 12}, \"109\": {\"109\": 12}, \"115\": {\"115\": 12}, \"83\": {\"83\": 12}, \"84\": {\"84\": 12}, \"119\": {\"119\": 10}, \"122\": {\"122\": 10}, \"99\": {\"99\": 12}, \"1\": {\"1\": 12}, \"74\": {\"74\": 10, \"23\": 1, \"34\": 1}, \"85\": {\"85\": 12}, \"127\": {\"127\": 12}, \"111\": {\"111\": 10, \"127\": 1, \"15\": 1}, \"53\": {\"53\": 12}, \"88\": {\"88\": 9, \"36\": 3}, \"65\": {\"65\": 8, \"60\": 1, \"83\": 1}, \"7\": {\"7\": 12}, \"16\": {\"16\": 11, \"122\": 1}, \"128\": {\"128\": 11, \"104\": 1}, \"34\": {\"34\": 12}, \"129\": {\"129\": 12}, \"43\": {\"43\": 12}, \"92\": {\"92\": 12}, \"28\": {\"28\": 12}, \"27\": {\"27\": 12}, \"114\": {\"114\": 12}, \"73\": {\"73\": 12}, \"0\": {\"0\": 12}, \"104\": {\"104\": 12}, \"118\": {\"118\": 12}, \"41\": {\"41\": 12}, \"49\": {\"49\": 12}, \"14\": {\"14\": 12}, \"46\": {\"129\": 1, \"46\": 8, \"97\": 1, \"125\": 1, \"104\": 1}, \"33\": {\"33\": 12}, \"76\": {\"76\": 12}, \"125\": {\"125\": 12}, \"86\": {\"86\": 10}, \"66\": {\"66\": 11, \"115\": 1}, \"5\": {\"5\": 12}, \"117\": {\"117\": 12}, \"75\": {\"75\": 12}, \"61\": {\"61\": 12}, \"50\": {\"50\": 11, \"27\": 1}, \"67\": {\"67\": 10}, \"18\": {\"18\": 12}, \"98\": {\"98\": 12}, \"55\": {\"55\": 10}, \"32\": {\"32\": 12}, \"120\": {\"120\": 12}, \"97\": {\"97\": 11, \"24\": 1}, \"126\": {\"126\": 12}, \"45\": {\"104\": 1, \"45\": 9, \"20\": 2}, \"78\": {\"78\": 9, \"43\": 1}, \"100\": {\"100\": 12}, \"107\": {\"107\": 12}, \"93\": {\"93\": 11, \"105\": 1}, \"77\": {\"77\": 12}, \"63\": {\"63\": 12}, \"112\": {\"112\": 12}, \"113\": {\"113\": 12}, \"103\": {\"103\": 10}, \"71\": {\"71\": 12}, \"30\": {\"30\": 12}, \"90\": {\"90\": 12}, \"37\": {\"103\": 1, \"37\": 11}, \"60\": {\"60\": 10, \"49\": 1, \"81\": 1}, \"15\": {\"15\": 10, \"111\": 1, \"27\": 1}, \"39\": {\"39\": 12}, \"72\": {\"72\": 12}, \"54\": {\"54\": 12}, \"35\": {\"35\": 12}, \"2\": {\"2\": 12}, \"94\": {\"94\": 11, \"36\": 1}, \"42\": {\"42\": 10, \"100\": 1, \"109\": 1}, \"81\": {\"81\": 12}, \"8\": {\"8\": 11, \"29\": 1}, \"87\": {\"87\": 12}, \"6\": {\"6\": 12}, \"36\": {\"36\": 11, \"88\": 1}, \"91\": {\"91\": 12}, \"56\": {\"56\": 12}, \"80\": {\"80\": 11, \"23\": 1}, \"124\": {\"124\": 10}, \"44\": {\"44\": 12}, \"13\": {\"13\": 12}, \"10\": {\"10\": 10, \"78\": 1, \"43\": 1}, \"59\": {\"59\": 11, \"123\": 1}, \"95\": {\"95\": 12}, \"105\": {\"105\": 11, \"66\": 1}, \"101\": {\"101\": 12}, \"20\": {\"20\": 12}, \"48\": {\"28\": 2, \"48\": 9, \"123\": 1}, \"106\": {\"106\": 12}, \"51\": {\"51\": 12}, \"21\": {\"21\": 8, \"84\": 1, \"78\": 1, \"23\": 1, \"70\": 1}, \"123\": {\"123\": 12}, \"121\": {\"121\": 12}, \"38\": {\"38\": 12}, \"62\": {\"62\": 12}, \"29\": {\"29\": 12}, \"82\": {\"82\": 12}, \"116\": {\"116\": 12}, \"12\": {\"12\": 8}}, \"W_A_2\": {\"91\": {\"91\": 12}, \"12\": {\"12\": 10, \"110\": 1, \"36\": 1}, \"101\": {\"101\": 9, \"0\": 1}, \"121\": {\"121\": 11, \"120\": 1}, \"118\": {\"118\": 12}, \"10\": {\"10\": 12}, \"117\": {\"117\": 12}, \"110\": {\"110\": 10, \"10\": 1, \"14\": 1}, \"97\": {\"97\": 10, \"17\": 1, \"28\": 1}, \"28\": {\"17\": 1, \"28\": 8, \"124\": 1, \"22\": 1, \"23\": 1}, \"88\": {\"110\": 1, \"88\": 11}, \"17\": {\"17\": 12}, \"126\": {\"126\": 12}, \"33\": {\"33\": 12}, \"86\": {\"86\": 12}, \"106\": {\"106\": 12}, \"54\": {\"54\": 12}, \"125\": {\"125\": 12}, \"83\": {\"83\": 12}, \"98\": {\"98\": 12}, \"11\": {\"11\": 10, \"49\": 1, \"27\": 1}, \"32\": {\"32\": 11, \"123\": 1}, \"42\": {\"42\": 12}, \"103\": {\"103\": 12}, \"87\": {\"87\": 12}, \"61\": {\"61\": 11, \"102\": 1}, \"13\": {\"13\": 12}, \"4\": {\"4\": 12}, \"15\": {\"15\": 10}, \"120\": {\"120\": 12}, \"80\": {\"80\": 12}, \"72\": {\"72\": 10}, \"64\": {\"64\": 12}, \"81\": {\"81\": 12}, \"102\": {\"102\": 12}, \"76\": {\"76\": 12}, \"49\": {\"49\": 8, \"11\": 1, \"67\": 1}, \"129\": {\"129\": 12}, \"89\": {\"89\": 12}, \"52\": {\"52\": 12}, \"35\": {\"35\": 12}, \"53\": {\"53\": 10, \"40\": 1, \"70\": 1}, \"112\": {\"112\": 12}, \"105\": {\"105\": 12}, \"100\": {\"100\": 12}, \"9\": {\"9\": 12}, \"82\": {\"82\": 12}, \"51\": {\"51\": 12}, \"21\": {\"21\": 12}, \"92\": {\"92\": 11, \"84\": 1}, \"69\": {\"69\": 12}, \"77\": {\"77\": 10, \"51\": 2}, \"50\": {\"50\": 11, \"123\": 1}, \"36\": {\"36\": 11, \"24\": 1}, \"16\": {\"16\": 10, \"28\": 1, \"36\": 1}, \"8\": {\"18\": 1, \"8\": 10, \"120\": 1}, \"127\": {\"127\": 12}, \"46\": {\"46\": 10}, \"84\": {\"84\": 12}, \"18\": {\"18\": 12}, \"123\": {\"123\": 10}, \"56\": {\"56\": 11, \"15\": 1}, \"26\": {\"26\": 12}, \"14\": {\"87\": 1, \"14\": 7, \"107\": 2, \"43\": 1, \"40\": 1}, \"109\": {\"14\": 1, \"109\": 10, \"102\": 1}, \"66\": {\"66\": 12}, \"24\": {\"24\": 10, \"43\": 1, \"94\": 1}, \"71\": {\"36\": 1, \"71\": 11}, \"65\": {\"65\": 10, \"92\": 1, \"51\": 1}, \"75\": {\"75\": 11, \"21\": 1}, \"111\": {\"111\": 12}, \"30\": {\"30\": 10, \"127\": 1, \"71\": 1}, \"85\": {\"85\": 12}, \"113\": {\"113\": 9, \"21\": 1}, \"45\": {\"45\": 12}, \"29\": {\"29\": 11, \"67\": 1}, \"20\": {\"20\": 12}, \"25\": {\"25\": 12}, \"0\": {\"0\": 12}, \"68\": {\"68\": 12}, \"119\": {\"119\": 12}, \"90\": {\"90\": 12}, \"38\": {\"38\": 12}, \"99\": {\"99\": 12}, \"1\": {\"1\": 12}, \"67\": {\"67\": 10, \"109\": 1, \"75\": 1}, \"63\": {\"63\": 12}, \"34\": {\"34\": 10, \"86\": 1, \"115\": 1}, \"108\": {\"108\": 12}, \"40\": {\"40\": 12}, \"47\": {\"47\": 9, \"5\": 1, \"129\": 2}, \"37\": {\"37\": 12}, \"78\": {\"78\": 11, \"21\": 1}, \"96\": {\"96\": 12}, \"43\": {\"43\": 10, \"21\": 1, \"70\": 1}, \"5\": {\"5\": 9, \"114\": 1}, \"124\": {\"124\": 12}, \"44\": {\"44\": 12}, \"41\": {\"41\": 11, \"51\": 1}, \"116\": {\"120\": 2, \"116\": 10}, \"19\": {\"19\": 12}, \"115\": {\"115\": 12}, \"95\": {\"95\": 11, \"71\": 1}, \"3\": {\"3\": 10}, \"59\": {\"59\": 12}, \"55\": {\"55\": 12}, \"70\": {\"70\": 12}, \"6\": {\"6\": 12}, \"2\": {\"2\": 12}, \"48\": {\"48\": 12}, \"23\": {\"23\": 9, \"122\": 1, \"107\": 1, \"70\": 1}, \"7\": {\"7\": 12}, \"122\": {\"122\": 12}, \"57\": {\"57\": 10, \"42\": 1, \"71\": 1}, \"39\": {\"39\": 9, \"13\": 1}, \"79\": {\"79\": 12}, \"27\": {\"27\": 10}, \"74\": {\"74\": 9, \"17\": 1, \"120\": 1, \"51\": 1}, \"73\": {\"73\": 12}, \"62\": {\"62\": 12}, \"107\": {\"107\": 12}, \"128\": {\"114\": 1, \"128\": 10, \"11\": 1}, \"60\": {\"60\": 11, \"85\": 1}, \"114\": {\"114\": 12}, \"22\": {\"22\": 12}, \"93\": {\"93\": 12}, \"94\": {\"94\": 11, \"68\": 1}, \"31\": {\"31\": 10}, \"104\": {\"104\": 12}, \"58\": {\"58\": 12}}, \"C_A_2\": {\"14\": {\"14\": 12}, \"22\": {\"22\": 12}, \"9\": {\"9\": 12}, \"47\": {\"47\": 12}, \"13\": {\"13\": 12}, \"8\": {\"8\": 12}, \"7\": {\"7\": 12}, \"49\": {\"49\": 12}, \"20\": {\"20\": 12}, \"16\": {\"16\": 12}, \"34\": {\"34\": 12}, \"56\": {\"56\": 12}, \"38\": {\"38\": 10}, \"4\": {\"4\": 12}, \"43\": {\"43\": 10}, \"26\": {\"26\": 10}, \"35\": {\"35\": 12}, \"31\": {\"31\": 12}, \"1\": {\"1\": 12}, \"39\": {\"39\": 12}, \"5\": {\"5\": 12}, \"24\": {\"24\": 12}, \"54\": {\"54\": 10}, \"23\": {\"23\": 12}, \"51\": {\"51\": 12}, \"27\": {\"27\": 10}, \"15\": {\"15\": 12}, \"0\": {\"0\": 12}, \"19\": {\"19\": 10}, \"18\": {\"18\": 8}, \"30\": {\"18\": 1, \"30\": 11}, \"55\": {\"55\": 10}, \"57\": {\"57\": 12}, \"2\": {\"2\": 12}, \"12\": {\"12\": 8}, \"41\": {\"41\": 12}, \"42\": {\"42\": 12}, \"48\": {\"48\": 12}, \"37\": {\"37\": 12}, \"6\": {\"6\": 10}, \"11\": {\"11\": 10}, \"45\": {\"45\": 8}, \"21\": {\"21\": 12}, \"46\": {\"46\": 10}, \"25\": {\"25\": 12}, \"36\": {\"36\": 10}, \"53\": {\"53\": 12}, \"28\": {\"28\": 12}, \"40\": {\"40\": 9, \"33\": 1}, \"33\": {\"33\": 10}, \"44\": {\"44\": 10}, \"3\": {\"3\": 12}, \"17\": {\"17\": 12}, \"32\": {\"32\": 10}, \"10\": {\"10\": 10}, \"52\": {\"52\": 10}, \"50\": {\"50\": 8}, \"29\": {\"29\": 6}}, \"ORACLE.run1_14\": {\"15\": {\"2\": 20, \"15\": 55, \"6\": 24, \"1\": 21, \"13\": 16, \"4\": 18, \"5\": 24, \"7\": 39, \"3\": 7, \"14\": 12, \"11\": 1, \"10\": 3}, \"3\": {\"3\": 34, \"4\": 28, \"1\": 23, \"13\": 14, \"5\": 16, \"14\": 11, \"11\": 11, \"10\": 19, \"9\": 5, \"2\": 22, \"0\": 19, \"8\": 9, \"7\": 4, \"6\": 19, \"12\": 2, \"15\": 4}, \"6\": {\"5\": 14, \"13\": 44, \"14\": 38, \"2\": 20, \"6\": 36, \"15\": 16, \"10\": 17, \"11\": 2, \"3\": 16, \"4\": 14, \"7\": 5, \"0\": 9, \"1\": 9}, \"1\": {\"9\": 2, \"15\": 8, \"7\": 18, \"14\": 15, \"10\": 12, \"5\": 20, \"3\": 25, \"13\": 9, \"2\": 28, \"1\": 46, \"8\": 16, \"6\": 3, \"11\": 3, \"4\": 25, \"0\": 10}, \"8\": {\"8\": 71, \"9\": 28, \"12\": 14, \"4\": 24, \"3\": 19, \"1\": 19, \"2\": 10, \"10\": 9, \"5\": 8, \"7\": 6, \"0\": 21, \"11\": 8, \"15\": 2, \"14\": 1}, \"10\": {\"11\": 26, \"13\": 10, \"14\": 25, \"1\": 7, \"10\": 38, \"3\": 25, \"0\": 22, \"8\": 6, \"5\": 12, \"6\": 17, \"2\": 16, \"4\": 19, \"15\": 4, \"9\": 8, \"7\": 3, \"12\": 2}, \"9\": {\"9\": 56, \"0\": 33, \"8\": 30, \"11\": 32, \"4\": 3, \"12\": 51, \"14\": 4, \"10\": 13, \"5\": 3, \"6\": 1, \"3\": 9, \"1\": 5}, \"13\": {\"13\": 41, \"10\": 14, \"15\": 18, \"1\": 6, \"3\": 18, \"0\": 8, \"6\": 34, \"11\": 4, \"2\": 32, \"14\": 23, \"7\": 12, \"4\": 11, \"5\": 19}, \"12\": {\"12\": 91, \"8\": 26, \"11\": 17, \"9\": 71, \"10\": 9, \"0\": 15, \"3\": 5, \"1\": 2, \"4\": 1, \"5\": 2, \"14\": 1}, \"5\": {\"0\": 9, \"2\": 26, \"13\": 12, \"10\": 20, \"5\": 27, \"4\": 24, \"1\": 32, \"8\": 8, \"14\": 16, \"7\": 18, \"11\": 2, \"3\": 23, \"15\": 16, \"6\": 6, \"9\": 1}, \"0\": {\"5\": 9, \"14\": 15, \"0\": 42, \"9\": 17, \"1\": 17, \"3\": 13, \"4\": 18, \"11\": 29, \"13\": 7, \"10\": 34, \"12\": 11, \"2\": 9, \"15\": 4, \"8\": 4, \"6\": 8, \"7\": 3}, \"2\": {\"14\": 27, \"2\": 27, \"15\": 12, \"4\": 20, \"11\": 6, \"3\": 17, \"6\": 24, \"13\": 28, \"5\": 24, \"7\": 13, \"8\": 2, \"1\": 10, \"0\": 14, \"10\": 16}, \"11\": {\"11\": 47, \"12\": 17, \"3\": 20, \"9\": 39, \"10\": 25, \"5\": 6, \"14\": 7, \"0\": 32, \"2\": 6, \"8\": 12, \"4\": 10, \"6\": 7, \"1\": 7, \"13\": 5}, \"14\": {\"13\": 26, \"5\": 11, \"10\": 30, \"3\": 23, \"4\": 16, \"7\": 6, \"14\": 34, \"1\": 9, \"15\": 7, \"0\": 16, \"2\": 18, \"8\": 2, \"11\": 8, \"6\": 33, \"9\": 1}, \"7\": {\"4\": 27, \"3\": 12, \"15\": 42, \"1\": 35, \"7\": 51, \"0\": 3, \"5\": 27, \"8\": 6, \"10\": 4, \"2\": 15, \"13\": 7, \"6\": 6, \"14\": 5}, \"4\": {\"10\": 16, \"5\": 27, \"15\": 5, \"1\": 22, \"7\": 20, \"13\": 17, \"4\": 35, \"3\": 31, \"6\": 8, \"0\": 15, \"14\": 11, \"9\": 3, \"2\": 22, \"8\": 3, \"11\": 5}}, \"ORACLE.run1_20\": {\"3\": {\"13\": 17, \"6\": 13, \"9\": 32, \"12\": 16, \"2\": 22, \"10\": 9, \"3\": 17, \"1\": 16, \"5\": 19, \"15\": 17, \"14\": 9, \"7\": 12, \"8\": 6, \"0\": 16, \"11\": 6, \"4\": 13}, \"15\": {\"15\": 31, \"4\": 14, \"11\": 9, \"12\": 17, \"0\": 22, \"13\": 16, \"7\": 13, \"3\": 21, \"9\": 15, \"8\": 9, \"2\": 20, \"14\": 6, \"6\": 7, \"1\": 25, \"5\": 10, \"10\": 5}, \"8\": {\"7\": 20, \"6\": 23, \"11\": 7, \"12\": 15, \"15\": 10, \"4\": 13, \"2\": 14, \"8\": 24, \"10\": 19, \"3\": 18, \"14\": 19, \"1\": 10, \"0\": 13, \"13\": 12, \"5\": 17, \"9\": 6}, \"4\": {\"2\": 14, \"6\": 16, \"3\": 13, \"10\": 19, \"7\": 16, \"11\": 3, \"9\": 25, \"0\": 12, \"12\": 16, \"8\": 18, \"14\": 21, \"4\": 23, \"13\": 11, \"5\": 11, \"1\": 8, \"15\": 14}, \"14\": {\"1\": 8, \"4\": 23, \"3\": 10, \"12\": 15, \"8\": 15, \"10\": 39, \"13\": 5, \"6\": 30, \"14\": 33, \"5\": 10, \"0\": 5, \"9\": 11, \"2\": 6, \"7\": 16, \"15\": 8, \"11\": 6}, \"0\": {\"4\": 18, \"5\": 27, \"12\": 19, \"2\": 10, \"3\": 22, \"1\": 18, \"13\": 18, \"15\": 28, \"10\": 4, \"9\": 11, \"0\": 24, \"8\": 13, \"7\": 11, \"14\": 4, \"6\": 6, \"11\": 7}, \"7\": {\"5\": 20, \"2\": 19, \"15\": 14, \"6\": 21, \"10\": 11, \"13\": 14, \"7\": 12, \"1\": 10, \"11\": 15, \"12\": 14, \"3\": 21, \"8\": 17, \"14\": 11, \"9\": 9, \"0\": 14, \"4\": 18}, \"6\": {\"14\": 31, \"1\": 7, \"3\": 11, \"5\": 15, \"2\": 15, \"0\": 10, \"8\": 23, \"6\": 26, \"10\": 17, \"9\": 20, \"12\": 7, \"7\": 17, \"4\": 16, \"11\": 16, \"15\": 5, \"13\": 4}, \"10\": {\"14\": 31, \"10\": 30, \"2\": 15, \"5\": 14, \"1\": 8, \"9\": 12, \"6\": 20, \"8\": 15, \"4\": 25, \"15\": 14, \"0\": 10, \"7\": 8, \"3\": 13, \"12\": 18, \"13\": 5, \"11\": 2}, \"5\": {\"2\": 18, \"9\": 24, \"11\": 7, \"4\": 18, \"1\": 19, \"13\": 13, \"12\": 13, \"5\": 19, \"10\": 11, \"15\": 15, \"6\": 11, \"7\": 15, \"3\": 14, \"8\": 19, \"0\": 15, \"14\": 9}, \"2\": {\"1\": 17, \"11\": 18, \"2\": 24, \"7\": 14, \"10\": 10, \"5\": 14, \"8\": 17, \"14\": 6, \"12\": 21, \"9\": 17, \"4\": 13, \"6\": 11, \"13\": 17, \"0\": 13, \"15\": 15, \"3\": 13}, \"12\": {\"12\": 21, \"11\": 8, \"15\": 13, \"10\": 10, \"1\": 20, \"8\": 16, \"7\": 21, \"2\": 17, \"3\": 17, \"5\": 14, \"6\": 11, \"0\": 17, \"9\": 20, \"14\": 9, \"4\": 12, \"13\": 14}, \"9\": {\"4\": 17, \"9\": 18, \"0\": 12, \"15\": 24, \"7\": 11, \"1\": 23, \"14\": 7, \"3\": 24, \"11\": 7, \"5\": 20, \"10\": 12, \"12\": 18, \"13\": 17, \"2\": 13, \"8\": 12, \"6\": 5}, \"1\": {\"2\": 17, \"5\": 13, \"13\": 17, \"15\": 16, \"12\": 14, \"1\": 25, \"3\": 18, \"4\": 15, \"10\": 7, \"11\": 14, \"14\": 6, \"0\": 20, \"6\": 7, \"9\": 25, \"8\": 18, \"7\": 8}, \"11\": {\"11\": 45, \"0\": 12, \"13\": 23, \"1\": 12, \"15\": 6, \"8\": 14, \"12\": 14, \"6\": 14, \"5\": 10, \"10\": 5, \"3\": 13, \"4\": 10, \"9\": 14, \"7\": 25, \"14\": 7, \"2\": 16}, \"13\": {\"13\": 31, \"6\": 6, \"15\": 17, \"14\": 3, \"3\": 21, \"9\": 19, \"2\": 21, \"1\": 27, \"11\": 11, \"7\": 19, \"0\": 13, \"5\": 14, \"8\": 10, \"10\": 1, \"12\": 19, \"4\": 8}}, \"ORACLE.run1_38\": {\"5\": {\"10\": 20, \"1\": 14, \"5\": 27, \"4\": 3, \"14\": 3, \"8\": 34, \"6\": 26, \"3\": 11, \"7\": 24, \"9\": 21, \"13\": 12, \"0\": 18, \"15\": 16, \"12\": 3, \"2\": 6, \"11\": 2}, \"8\": {\"5\": 36, \"10\": 14, \"9\": 12, \"8\": 35, \"0\": 17, \"2\": 5, \"15\": 14, \"7\": 33, \"6\": 29, \"12\": 6, \"1\": 13, \"13\": 12, \"3\": 6, \"4\": 5, \"14\": 2, \"11\": 1}, \"11\": {\"11\": 82, \"0\": 5, \"2\": 23, \"14\": 60, \"13\": 13, \"12\": 9, \"10\": 28, \"15\": 6, \"7\": 6, \"4\": 3, \"1\": 1, \"8\": 3, \"5\": 1}, \"1\": {\"13\": 25, \"1\": 59, \"15\": 42, \"6\": 25, \"3\": 2, \"9\": 20, \"0\": 6, \"10\": 13, \"8\": 15, \"5\": 13, \"2\": 17, \"14\": 1, \"7\": 2}, \"10\": {\"10\": 37, \"0\": 17, \"5\": 13, \"8\": 20, \"15\": 19, \"2\": 17, \"7\": 17, \"13\": 26, \"14\": 25, \"1\": 10, \"11\": 11, \"6\": 5, \"12\": 12, \"4\": 8, \"3\": 1, \"9\": 2}, \"15\": {\"5\": 28, \"2\": 22, \"13\": 28, \"6\": 7, \"12\": 8, \"3\": 3, \"15\": 34, \"10\": 18, \"0\": 12, \"8\": 15, \"1\": 32, \"11\": 5, \"9\": 9, \"14\": 10, \"7\": 9}, \"3\": {\"9\": 34, \"3\": 83, \"8\": 12, \"7\": 36, \"4\": 4, \"0\": 23, \"5\": 21, \"6\": 16, \"10\": 3, \"1\": 3, \"13\": 3, \"12\": 1, \"15\": 1}, \"7\": {\"6\": 6, \"12\": 15, \"13\": 4, \"0\": 37, \"7\": 48, \"4\": 20, \"5\": 25, \"9\": 10, \"15\": 4, \"3\": 22, \"10\": 18, \"8\": 26, \"1\": 2, \"2\": 1, \"14\": 2}, \"4\": {\"12\": 68, \"4\": 102, \"7\": 19, \"0\": 14, \"10\": 10, \"14\": 6, \"11\": 8, \"8\": 7, \"5\": 1, \"3\": 2, \"13\": 1, \"6\": 1, \"9\": 1}, \"14\": {\"2\": 44, \"15\": 16, \"10\": 37, \"14\": 69, \"11\": 24, \"4\": 4, \"12\": 12, \"8\": 8, \"13\": 19, \"0\": 1, \"1\": 6}, \"9\": {\"9\": 45, \"8\": 19, \"6\": 32, \"5\": 33, \"0\": 18, \"3\": 43, \"10\": 4, \"1\": 14, \"13\": 6, \"7\": 11, \"15\": 12, \"11\": 1, \"12\": 1, \"2\": 1}, \"12\": {\"4\": 49, \"12\": 96, \"5\": 5, \"13\": 3, \"10\": 19, \"14\": 16, \"7\": 17, \"0\": 9, \"8\": 18, \"15\": 3, \"6\": 1, \"11\": 1, \"2\": 2, \"1\": 1}, \"6\": {\"6\": 51, \"0\": 10, \"13\": 14, \"5\": 36, \"9\": 38, \"1\": 21, \"10\": 4, \"8\": 16, \"3\": 21, \"7\": 9, \"15\": 19, \"2\": 1}, \"2\": {\"14\": 36, \"13\": 40, \"5\": 12, \"2\": 58, \"10\": 22, \"0\": 3, \"15\": 28, \"8\": 8, \"11\": 13, \"7\": 5, \"12\": 5, \"1\": 10}, \"0\": {\"13\": 8, \"8\": 22, \"7\": 42, \"6\": 15, \"3\": 22, \"5\": 21, \"0\": 28, \"15\": 13, \"2\": 5, \"12\": 15, \"4\": 13, \"10\": 16, \"14\": 2, \"1\": 5, \"9\": 12, \"11\": 1}, \"13\": {\"2\": 32, \"11\": 6, \"6\": 22, \"8\": 15, \"14\": 13, \"9\": 6, \"15\": 30, \"1\": 27, \"10\": 26, \"13\": 31, \"5\": 13, \"7\": 4, \"0\": 12, \"3\": 2, \"12\": 1}}, \"ORACLE.run1_8\": {\"9\": {\"9\": 114, \"7\": 7, \"0\": 13, \"5\": 25, \"14\": 14, \"4\": 11, \"10\": 23, \"13\": 16, \"6\": 10, \"11\": 3, \"2\": 1, \"1\": 3}, \"10\": {\"1\": 25, \"10\": 28, \"0\": 17, \"5\": 21, \"7\": 16, \"11\": 21, \"8\": 8, \"14\": 20, \"4\": 19, \"6\": 21, \"2\": 4, \"15\": 5, \"12\": 4, \"13\": 26, \"3\": 5}, \"13\": {\"6\": 19, \"13\": 16, \"8\": 16, \"4\": 25, \"15\": 9, \"14\": 23, \"10\": 22, \"11\": 12, \"0\": 19, \"5\": 17, \"2\": 8, \"7\": 23, \"12\": 8, \"3\": 5, \"1\": 14, \"9\": 4}, \"0\": {\"14\": 21, \"7\": 21, \"11\": 12, \"13\": 32, \"12\": 9, \"6\": 26, \"10\": 15, \"4\": 15, \"8\": 9, \"1\": 10, \"9\": 2, \"3\": 11, \"5\": 17, \"15\": 5, \"0\": 25, \"2\": 10}, \"1\": {\"14\": 34, \"6\": 12, \"4\": 16, \"0\": 10, \"7\": 9, \"5\": 25, \"8\": 24, \"15\": 13, \"1\": 32, \"2\": 3, \"10\": 14, \"13\": 19, \"11\": 19, \"3\": 3, \"12\": 7}, \"15\": {\"15\": 29, \"12\": 25, \"11\": 16, \"10\": 7, \"7\": 17, \"5\": 7, \"3\": 20, \"8\": 30, \"0\": 10, \"4\": 13, \"6\": 9, \"14\": 15, \"13\": 13, \"1\": 12, \"2\": 17}, \"5\": {\"6\": 24, \"5\": 28, \"1\": 23, \"4\": 17, \"10\": 24, \"11\": 18, \"8\": 15, \"13\": 19, \"14\": 24, \"0\": 21, \"9\": 7, \"7\": 15, \"12\": 2, \"15\": 3}, \"3\": {\"2\": 32, \"6\": 11, \"3\": 37, \"12\": 36, \"10\": 7, \"11\": 2, \"7\": 22, \"4\": 14, \"0\": 9, \"8\": 17, \"15\": 32, \"13\": 9, \"14\": 3, \"1\": 7, \"5\": 2}, \"6\": {\"4\": 14, \"7\": 16, \"13\": 21, \"11\": 15, \"10\": 13, \"6\": 28, \"3\": 8, \"8\": 20, \"15\": 14, \"0\": 15, \"14\": 15, \"1\": 18, \"5\": 23, \"12\": 8, \"2\": 10, \"9\": 2}, \"11\": {\"10\": 24, \"1\": 24, \"8\": 28, \"0\": 14, \"12\": 11, \"5\": 17, \"2\": 6, \"11\": 30, \"6\": 13, \"13\": 16, \"7\": 12, \"14\": 17, \"4\": 18, \"15\": 9, \"3\": 1}, \"8\": {\"12\": 19, \"14\": 11, \"10\": 6, \"1\": 23, \"8\": 28, \"15\": 18, \"11\": 25, \"13\": 23, \"0\": 3, \"7\": 17, \"6\": 18, \"3\": 16, \"4\": 13, \"5\": 8, \"2\": 12}, \"4\": {\"1\": 22, \"5\": 18, \"0\": 20, \"7\": 16, \"13\": 20, \"2\": 16, \"10\": 15, \"6\": 21, \"14\": 25, \"4\": 24, \"11\": 12, \"15\": 10, \"8\": 12, \"12\": 3, \"3\": 4, \"9\": 2}, \"12\": {\"6\": 15, \"12\": 42, \"15\": 27, \"8\": 37, \"13\": 7, \"11\": 8, \"7\": 17, \"2\": 20, \"10\": 5, \"3\": 29, \"0\": 8, \"14\": 9, \"4\": 5, \"1\": 7, \"5\": 4}, \"14\": {\"14\": 22, \"13\": 17, \"7\": 17, \"0\": 18, \"1\": 25, \"5\": 17, \"10\": 26, \"6\": 19, \"11\": 15, \"2\": 7, \"4\": 25, \"15\": 6, \"8\": 16, \"12\": 7, \"3\": 2, \"9\": 1}, \"2\": {\"3\": 34, \"10\": 10, \"11\": 6, \"12\": 24, \"15\": 23, \"2\": 33, \"6\": 22, \"8\": 14, \"13\": 10, \"7\": 21, \"0\": 12, \"4\": 15, \"14\": 11, \"5\": 2, \"1\": 3}, \"7\": {\"12\": 7, \"10\": 14, \"13\": 30, \"6\": 19, \"0\": 24, \"2\": 18, \"8\": 22, \"14\": 18, \"11\": 8, \"7\": 16, \"5\": 8, \"4\": 23, \"15\": 14, \"3\": 9, \"1\": 10}}, \"ORACLE.run1_50\": {\"7\": {\"3\": 12, \"5\": 27, \"10\": 32, \"7\": 40, \"1\": 17, \"13\": 28, \"4\": 18, \"0\": 12, \"15\": 10, \"2\": 5, \"6\": 29, \"8\": 8, \"11\": 1, \"14\": 1}, \"3\": {\"3\": 89, \"7\": 21, \"8\": 44, \"5\": 20, \"10\": 21, \"2\": 2, \"0\": 21, \"13\": 13, \"6\": 5, \"1\": 1, \"4\": 3}, \"8\": {\"8\": 66, \"3\": 49, \"0\": 30, \"10\": 37, \"2\": 17, \"4\": 2, \"6\": 6, \"13\": 14, \"14\": 2, \"1\": 2, \"7\": 12, \"5\": 3}, \"2\": {\"2\": 50, \"8\": 13, \"10\": 26, \"14\": 26, \"1\": 14, \"6\": 15, \"11\": 7, \"13\": 9, \"0\": 40, \"12\": 12, \"7\": 10, \"5\": 8, \"15\": 3, \"4\": 5, \"9\": 1, \"3\": 1}, \"14\": {\"0\": 8, \"12\": 32, \"9\": 26, \"5\": 2, \"13\": 2, \"14\": 73, \"15\": 7, \"11\": 27, \"2\": 29, \"7\": 3, \"1\": 15, \"4\": 6, \"10\": 3, \"6\": 7}, \"4\": {\"1\": 34, \"15\": 24, \"12\": 6, \"5\": 26, \"13\": 21, \"11\": 12, \"7\": 21, \"4\": 34, \"0\": 8, \"6\": 23, \"10\": 9, \"2\": 7, \"14\": 6, \"9\": 7, \"3\": 2}, \"6\": {\"0\": 9, \"1\": 31, \"6\": 33, \"15\": 23, \"5\": 19, \"13\": 31, \"11\": 10, \"7\": 26, \"4\": 24, \"10\": 17, \"8\": 1, \"14\": 7, \"2\": 6, \"9\": 1, \"12\": 1, \"3\": 1}, \"15\": {\"15\": 46, \"12\": 6, \"7\": 8, \"14\": 11, \"11\": 25, \"5\": 15, \"4\": 32, \"1\": 32, \"13\": 14, \"9\": 24, \"6\": 21, \"10\": 2, \"0\": 3, \"2\": 1}, \"10\": {\"13\": 27, \"8\": 26, \"0\": 36, \"6\": 15, \"10\": 33, \"3\": 14, \"2\": 13, \"14\": 3, \"5\": 27, \"7\": 26, \"4\": 8, \"15\": 4, \"11\": 1, \"1\": 5, \"12\": 1, \"9\": 1}, \"11\": {\"9\": 47, \"1\": 21, \"11\": 41, \"15\": 31, \"14\": 23, \"12\": 33, \"4\": 16, \"5\": 4, \"6\": 12, \"2\": 5, \"0\": 1, \"13\": 4, \"7\": 2}, \"13\": {\"6\": 28, \"13\": 28, \"4\": 19, \"5\": 43, \"10\": 20, \"7\": 26, \"1\": 22, \"14\": 2, \"15\": 10, \"2\": 12, \"0\": 18, \"3\": 4, \"11\": 2, \"8\": 6}, \"9\": {\"13\": 2, \"11\": 58, \"9\": 60, \"14\": 17, \"12\": 28, \"6\": 7, \"0\": 4, \"15\": 21, \"7\": 4, \"1\": 11, \"4\": 24, \"2\": 3, \"5\": 1}, \"0\": {\"4\": 12, \"0\": 41, \"6\": 13, \"10\": 30, \"8\": 17, \"5\": 8, \"14\": 14, \"7\": 19, \"2\": 35, \"11\": 2, \"1\": 14, \"13\": 23, \"15\": 5, \"12\": 2, \"3\": 4, \"9\": 1}, \"1\": {\"15\": 33, \"1\": 28, \"14\": 18, \"6\": 28, \"13\": 23, \"0\": 6, \"10\": 12, \"11\": 14, \"5\": 21, \"9\": 6, \"2\": 11, \"4\": 21, \"12\": 6, \"7\": 10, \"8\": 3}, \"12\": {\"12\": 71, \"9\": 37, \"11\": 31, \"14\": 43, \"2\": 16, \"1\": 12, \"0\": 1, \"5\": 5, \"4\": 7, \"15\": 9, \"13\": 4, \"10\": 1, \"6\": 3}, \"5\": {\"13\": 29, \"14\": 4, \"5\": 42, \"7\": 28, \"6\": 27, \"8\": 5, \"15\": 15, \"0\": 11, \"10\": 17, \"9\": 1, \"11\": 4, \"2\": 8, \"1\": 21, \"4\": 21, \"3\": 7}}, \"ORACLE.run1_32\": {\"8\": {\"2\": 13, \"4\": 14, \"3\": 27, \"13\": 30, \"8\": 41, \"5\": 24, \"0\": 31, \"7\": 21, \"14\": 14, \"15\": 16, \"11\": 8, \"9\": 1}, \"14\": {\"11\": 25, \"5\": 23, \"14\": 39, \"0\": 28, \"13\": 24, \"7\": 19, \"9\": 3, \"3\": 15, \"8\": 20, \"4\": 24, \"2\": 19, \"15\": 1}, \"2\": {\"5\": 21, \"4\": 38, \"7\": 41, \"2\": 50, \"0\": 22, \"14\": 20, \"8\": 4, \"11\": 17, \"13\": 11, \"3\": 5, \"9\": 8, \"12\": 3}, \"0\": {\"2\": 24, \"3\": 7, \"0\": 42, \"4\": 16, \"13\": 28, \"5\": 18, \"11\": 13, \"8\": 32, \"7\": 31, \"9\": 10, \"14\": 16, \"15\": 2, \"12\": 1}, \"1\": {\"10\": 78, \"1\": 121, \"6\": 36, \"12\": 5}, \"10\": {\"10\": 94, \"1\": 79, \"6\": 37, \"12\": 26, \"9\": 4}, \"11\": {\"14\": 35, \"3\": 22, \"7\": 33, \"4\": 15, \"8\": 17, \"13\": 26, \"11\": 42, \"0\": 17, \"2\": 16, \"5\": 16, \"9\": 1}, \"5\": {\"0\": 20, \"4\": 23, \"8\": 23, \"5\": 32, \"3\": 22, \"7\": 32, \"11\": 23, \"2\": 15, \"15\": 3, \"14\": 21, \"13\": 25, \"9\": 1}, \"15\": {\"8\": 26, \"3\": 33, \"15\": 161, \"13\": 8, \"4\": 1, \"5\": 5, \"7\": 1, \"0\": 4, \"11\": 1}, \"3\": {\"7\": 12, \"8\": 27, \"15\": 19, \"11\": 17, \"14\": 19, \"5\": 36, \"0\": 16, \"13\": 22, \"3\": 61, \"4\": 10, \"2\": 1}, \"12\": {\"12\": 103, \"6\": 34, \"9\": 65, \"10\": 28, \"5\": 1, \"1\": 5, \"2\": 4}, \"7\": {\"4\": 29, \"0\": 25, \"5\": 27, \"2\": 23, \"3\": 13, \"14\": 18, \"7\": 47, \"9\": 4, \"11\": 18, \"13\": 16, \"8\": 18, \"12\": 2}, \"13\": {\"8\": 42, \"4\": 15, \"5\": 35, \"7\": 28, \"14\": 14, \"2\": 9, \"11\": 25, \"13\": 26, \"3\": 21, \"0\": 18, \"9\": 2, \"15\": 5}, \"6\": {\"12\": 27, \"6\": 142, \"9\": 14, \"10\": 37, \"1\": 20}, \"4\": {\"0\": 25, \"8\": 23, \"4\": 45, \"5\": 27, \"7\": 25, \"14\": 21, \"2\": 32, \"13\": 20, \"11\": 14, \"9\": 3, \"3\": 4, \"12\": 1}, \"9\": {\"9\": 94, \"12\": 58, \"2\": 35, \"4\": 13, \"7\": 8, \"0\": 7, \"6\": 17, \"13\": 1, \"8\": 3, \"5\": 2, \"11\": 1, \"10\": 1}}, \"ORACLE.run1_26\": {\"4\": {\"1\": 26, \"10\": 23, \"4\": 21, \"5\": 14, \"2\": 14, \"8\": 28, \"7\": 23, \"15\": 11, \"0\": 15, \"6\": 9, \"14\": 22, \"9\": 15, \"3\": 13, \"13\": 6}, \"12\": {\"6\": 23, \"11\": 29, \"12\": 61, \"10\": 5, \"1\": 3, \"15\": 11, \"4\": 4, \"0\": 15, \"13\": 19, \"5\": 16, \"8\": 21, \"14\": 7, \"7\": 5, \"9\": 13, \"3\": 6, \"2\": 2}, \"10\": {\"3\": 13, \"4\": 16, \"13\": 14, \"15\": 18, \"14\": 25, \"10\": 16, \"2\": 12, \"1\": 24, \"9\": 13, \"7\": 23, \"8\": 22, \"5\": 11, \"6\": 12, \"11\": 3, \"0\": 15, \"12\": 3}, \"0\": {\"4\": 22, \"5\": 10, \"10\": 20, \"8\": 17, \"9\": 12, \"2\": 20, \"12\": 5, \"14\": 30, \"7\": 15, \"1\": 19, \"6\": 22, \"0\": 18, \"13\": 9, \"3\": 11, \"15\": 10}, \"13\": {\"13\": 40, \"10\": 10, \"15\": 19, \"8\": 23, \"1\": 9, \"3\": 19, \"0\": 15, \"6\": 13, \"7\": 6, \"9\": 19, \"11\": 7, \"5\": 30, \"12\": 5, \"2\": 15, \"4\": 7, \"14\": 3}, \"9\": {\"13\": 22, \"12\": 15, \"3\": 10, \"15\": 22, \"6\": 20, \"1\": 15, \"7\": 11, \"14\": 16, \"8\": 14, \"10\": 10, \"4\": 10, \"0\": 12, \"2\": 17, \"11\": 5, \"9\": 23, \"5\": 18}, \"3\": {\"1\": 18, \"5\": 22, \"15\": 13, \"4\": 19, \"10\": 20, \"7\": 23, \"6\": 10, \"8\": 18, \"2\": 22, \"13\": 11, \"14\": 25, \"3\": 17, \"9\": 10, \"0\": 11, \"11\": 1}, \"2\": {\"4\": 12, \"3\": 20, \"12\": 2, \"15\": 16, \"14\": 17, \"8\": 30, \"13\": 13, \"10\": 14, \"9\": 15, \"5\": 19, \"6\": 13, \"0\": 14, \"7\": 20, \"2\": 23, \"1\": 11, \"11\": 1}, \"5\": {\"13\": 29, \"2\": 21, \"15\": 28, \"3\": 9, \"9\": 21, \"5\": 24, \"0\": 14, \"6\": 16, \"8\": 15, \"14\": 11, \"10\": 16, \"12\": 3, \"4\": 11, \"1\": 4, \"7\": 15, \"11\": 3}, \"14\": {\"1\": 29, \"13\": 5, \"5\": 9, \"8\": 24, \"15\": 13, \"0\": 28, \"9\": 18, \"10\": 18, \"6\": 15, \"7\": 19, \"4\": 21, \"3\": 10, \"14\": 23, \"2\": 5, \"11\": 1, \"12\": 2}, \"8\": {\"2\": 15, \"5\": 11, \"10\": 18, \"15\": 20, \"8\": 23, \"9\": 22, \"0\": 15, \"6\": 16, \"4\": 13, \"13\": 18, \"3\": 14, \"7\": 17, \"12\": 5, \"1\": 16, \"14\": 16, \"11\": 1}, \"7\": {\"4\": 20, \"2\": 25, \"12\": 3, \"1\": 23, \"5\": 13, \"0\": 14, \"13\": 14, \"15\": 13, \"7\": 17, \"3\": 22, \"9\": 20, \"8\": 13, \"10\": 14, \"6\": 10, \"14\": 19}, \"6\": {\"2\": 15, \"6\": 27, \"12\": 12, \"4\": 13, \"9\": 23, \"13\": 21, \"15\": 22, \"14\": 10, \"8\": 20, \"0\": 23, \"10\": 13, \"1\": 5, \"7\": 12, \"5\": 9, \"3\": 9, \"11\": 6}, \"11\": {\"12\": 47, \"11\": 78, \"13\": 36, \"15\": 17, \"0\": 4, \"5\": 16, \"1\": 1, \"6\": 16, \"10\": 7, \"8\": 6, \"9\": 7, \"2\": 2, \"4\": 1, \"14\": 2}, \"15\": {\"8\": 21, \"13\": 37, \"11\": 2, \"10\": 22, \"7\": 14, \"15\": 28, \"0\": 11, \"14\": 7, \"2\": 19, \"6\": 10, \"1\": 5, \"5\": 24, \"4\": 15, \"9\": 17, \"3\": 7, \"12\": 1}, \"1\": {\"1\": 30, \"0\": 27, \"8\": 19, \"13\": 7, \"2\": 16, \"5\": 10, \"10\": 22, \"14\": 26, \"6\": 6, \"3\": 13, \"15\": 8, \"4\": 23, \"7\": 16, \"9\": 15, \"12\": 2}}, \"ORACLE.run1_44\": {\"12\": {\"12\": 43, \"9\": 9, \"10\": 45, \"3\": 44, \"2\": 20, \"1\": 51, \"7\": 13, \"13\": 7, \"11\": 3, \"6\": 5}, \"7\": {\"14\": 1, \"3\": 22, \"12\": 18, \"6\": 21, \"9\": 23, \"1\": 23, \"2\": 46, \"7\": 30, \"15\": 1, \"13\": 20, \"10\": 20, \"11\": 13, \"4\": 2}, \"5\": {\"4\": 30, \"5\": 55, \"15\": 29, \"8\": 33, \"14\": 49, \"13\": 1, \"0\": 40, \"9\": 1, \"3\": 1, \"6\": 1}, \"15\": {\"5\": 41, \"0\": 37, \"15\": 47, \"8\": 45, \"4\": 34, \"3\": 1, \"14\": 31, \"13\": 2, \"9\": 2}, \"8\": {\"0\": 68, \"15\": 42, \"8\": 79, \"5\": 29, \"14\": 12, \"4\": 10}, \"2\": {\"2\": 42, \"10\": 36, \"12\": 22, \"3\": 14, \"6\": 14, \"1\": 30, \"13\": 19, \"7\": 33, \"9\": 25, \"11\": 5}, \"13\": {\"9\": 44, \"11\": 37, \"7\": 21, \"13\": 51, \"4\": 6, \"6\": 37, \"10\": 6, \"2\": 16, \"12\": 5, \"3\": 3, \"1\": 5, \"14\": 9}, \"4\": {\"13\": 12, \"7\": 5, \"9\": 11, \"14\": 51, \"4\": 58, \"0\": 23, \"15\": 27, \"8\": 14, \"11\": 2, \"5\": 24, \"6\": 1, \"3\": 7, \"2\": 1, \"1\": 3, \"12\": 1}, \"0\": {\"0\": 52, \"14\": 29, \"5\": 51, \"15\": 40, \"8\": 56, \"4\": 12}, \"6\": {\"11\": 40, \"6\": 56, \"9\": 37, \"2\": 12, \"13\": 45, \"7\": 28, \"3\": 4, \"1\": 8, \"10\": 4, \"4\": 2, \"12\": 4}, \"9\": {\"1\": 16, \"3\": 17, \"13\": 28, \"9\": 35, \"6\": 34, \"4\": 9, \"7\": 27, \"11\": 23, \"2\": 30, \"12\": 9, \"10\": 7, \"14\": 5}, \"11\": {\"6\": 36, \"13\": 41, \"9\": 30, \"2\": 12, \"11\": 79, \"3\": 3, \"14\": 2, \"12\": 2, \"7\": 24, \"1\": 3, \"4\": 4, \"15\": 1, \"10\": 3}, \"10\": {\"12\": 33, \"10\": 53, \"1\": 38, \"13\": 8, \"3\": 17, \"2\": 48, \"9\": 13, \"7\": 20, \"6\": 8, \"11\": 2}, \"14\": {\"4\": 45, \"15\": 33, \"14\": 52, \"8\": 19, \"3\": 8, \"5\": 34, \"7\": 3, \"0\": 27, \"2\": 1, \"9\": 6, \"12\": 1, \"13\": 8, \"11\": 2, \"6\": 1}, \"1\": {\"12\": 34, \"3\": 37, \"13\": 6, \"2\": 42, \"6\": 3, \"7\": 29, \"1\": 40, \"11\": 2, \"10\": 31, \"9\": 13, \"14\": 2, \"4\": 1}, \"3\": {\"1\": 66, \"9\": 14, \"3\": 58, \"14\": 4, \"4\": 10, \"12\": 26, \"7\": 13, \"11\": 1, \"2\": 27, \"10\": 13, \"15\": 2, \"13\": 3, \"6\": 3}}}, \"per_domain_accuracy\": {\"C_A_3\": {\"accuracy\": 0.9953125, \"source?\": true}, \"C_A_4\": {\"accuracy\": 0.9921875, \"source?\": true}, \"W_A_3\": {\"accuracy\": 0.9713541666666666, \"source?\": true}, \"C_A_5\": {\"accuracy\": 0.99375, \"source?\": true}, \"C_A_1\": {\"accuracy\": 0.9875, \"source?\": true}, \"W_A_4\": {\"accuracy\": 0.9348958333333334, \"source?\": true}, \"W_A_1\": {\"accuracy\": 0.966796875, \"source?\": true}, \"W_A_2\": {\"accuracy\": 0.9505208333333334, \"source?\": true}, \"C_A_2\": {\"accuracy\": 0.996875, \"source?\": true}, \"ORACLE.run1_14\": {\"accuracy\": 0.19036458333333334, \"source?\": false}, \"ORACLE.run1_20\": {\"accuracy\": 0.10494791666666667, \"source?\": false}, \"ORACLE.run1_38\": {\"accuracy\": 0.23046875, \"source?\": false}, \"ORACLE.run1_8\": {\"accuracy\": 0.13854166666666667, \"source?\": false}, \"ORACLE.run1_50\": {\"accuracy\": 0.20182291666666666, \"source?\": false}, \"ORACLE.run1_32\": {\"accuracy\": 0.296875, \"source?\": false}, \"ORACLE.run1_26\": {\"accuracy\": 0.12213541666666666, \"source?\": false}, \"ORACLE.run1_44\": {\"accuracy\": 0.21614583333333334, \"source?\": false}}}, \"history\": {\"epoch_indices\": [1, 2, 3, 4, 5, 6, 7], \"train_label_loss\": [0.3229616662615327, 0.17468330805828708, 0.13169158907909922, 0.10130751455452146, 0.08726036967457942, 0.07114712400884045, 0.05813999298384885], \"source_val_label_loss\": [0.24476777017116547, 0.16258417069911957, 0.1431199312210083, 0.1348966509103775, 0.1348458230495453, 0.1263095885515213, 0.13501763343811035], \"target_val_label_loss\": [2.5543739795684814, 2.563206672668457, 2.4827520847320557, 2.913285732269287, 2.8481738567352295, 3.321258068084717, 3.0327539443969727], \"source_val_acc_label\": [0.9448844178082192, 0.9654323630136986, 0.9686429794520548, 0.970783390410959, 0.970355308219178, 0.9758133561643836, 0.9726027397260274], \"target_val_acc_label\": [0.16181640625, 0.16888020833333334, 0.18766276041666666, 0.1482421875, 0.15537109375, 0.1490234375, 0.14694010416666667]}, \"dataset_metrics\": {\"source\": {\"train\": {\"n_unique_x\": 56700, \"n_unique_y\": 130, \"n_batch/episode\": 2082}, \"val\": {\"n_unique_x\": 12132, \"n_unique_y\": 130, \"n_batch/episode\": 292}, \"test\": {\"n_unique_x\": 12132, \"n_unique_y\": 130, \"n_batch/episode\": 292}}, \"target\": {\"train\": {\"n_unique_x\": 179200, \"n_unique_y\": 16, \"n_batch/episode\": 6720}, \"val\": {\"n_unique_x\": 38400, \"n_unique_y\": 16, \"n_batch/episode\": 960}, \"test\": {\"n_unique_x\": 38400, \"n_unique_y\": 16, \"n_batch/episode\": 960}}}}'"
      ]
     },
     "execution_count": 29,
     "metadata": {},
     "output_type": "execute_result"
    }
   ],
   "source": [
    "json.dumps(experiment)"
   ]
  }
 ],
 "metadata": {
  "celltoolbar": "Tags",
  "kernelspec": {
   "display_name": "Python 3 (ipykernel)",
   "language": "python",
   "name": "python3"
  },
  "language_info": {
   "codemirror_mode": {
    "name": "ipython",
    "version": 3
   },
   "file_extension": ".py",
   "mimetype": "text/x-python",
   "name": "python",
   "nbconvert_exporter": "python",
   "pygments_lexer": "ipython3",
   "version": "3.8.10"
  },
  "papermill": {
   "default_parameters": {},
   "duration": 490.553946,
   "end_time": "2022-03-18T06:03:22.200754",
   "environment_variables": {},
   "exception": null,
   "input_path": "/mnt/wd500GB/CSC500/csc500-main/csc500-notebooks/templates/tl_ptn_template.ipynb",
   "output_path": "trial.ipynb",
   "parameters": {
    "parameters": {
     "BEST_MODEL_PATH": "./best_model.pth",
     "NUM_LOGS_PER_EPOCH": 10,
     "criteria_for_best": "target_loss",
     "dataset_seed": 1337,
     "datasets": [
      {
       "domain_prefix": "C_A_",
       "domains": [
        1,
        2,
        3,
        4,
        5
       ],
       "episode_transforms": [],
       "labels": [
        "1-10.",
        "1-11.",
        "1-15.",
        "1-16.",
        "1-17.",
        "1-18.",
        "1-19.",
        "10-4.",
        "10-7.",
        "11-1.",
        "11-14.",
        "11-17.",
        "11-20.",
        "11-7.",
        "13-20.",
        "13-8.",
        "14-10.",
        "14-11.",
        "14-14.",
        "14-7.",
        "15-1.",
        "15-20.",
        "16-1.",
        "16-16.",
        "17-10.",
        "17-11.",
        "17-2.",
        "19-1.",
        "19-16.",
        "19-19.",
        "19-20.",
        "19-3.",
        "2-10.",
        "2-11.",
        "2-17.",
        "2-18.",
        "2-20.",
        "2-3.",
        "2-4.",
        "2-5.",
        "2-6.",
        "2-7.",
        "2-8.",
        "3-13.",
        "3-18.",
        "3-3.",
        "4-1.",
        "4-10.",
        "4-11.",
        "4-19.",
        "5-5.",
        "6-15.",
        "7-10.",
        "7-14.",
        "8-18.",
        "8-20.",
        "8-3.",
        "8-8."
       ],
       "num_examples_per_domain_per_label": 100,
       "pickle_path": "/mnt/wd500GB/CSC500/csc500-main/datasets/cores.stratified_ds.2022A.pkl",
       "source_or_target_dataset": "source",
       "x_transforms": [
        "unit_power",
        "lowpass_+/-10MHz",
        "take_200"
       ]
      },
      {
       "domain_prefix": "W_A_",
       "domains": [
        1,
        2,
        3,
        4
       ],
       "episode_transforms": [],
       "labels": [
        "1-10",
        "1-12",
        "1-14",
        "1-16",
        "1-18",
        "1-19",
        "1-8",
        "10-11",
        "10-17",
        "10-4",
        "10-7",
        "11-1",
        "11-10",
        "11-19",
        "11-20",
        "11-4",
        "11-7",
        "12-19",
        "12-20",
        "12-7",
        "13-14",
        "13-18",
        "13-19",
        "13-20",
        "13-3",
        "13-7",
        "14-10",
        "14-11",
        "14-12",
        "14-13",
        "14-14",
        "14-19",
        "14-20",
        "14-7",
        "14-8",
        "14-9",
        "15-1",
        "15-19",
        "15-6",
        "16-1",
        "16-16",
        "16-19",
        "16-20",
        "17-10",
        "17-11",
        "18-1",
        "18-10",
        "18-11",
        "18-12",
        "18-13",
        "18-14",
        "18-15",
        "18-16",
        "18-17",
        "18-19",
        "18-2",
        "18-20",
        "18-4",
        "18-5",
        "18-7",
        "18-8",
        "18-9",
        "19-1",
        "19-10",
        "19-11",
        "19-12",
        "19-13",
        "19-14",
        "19-15",
        "19-19",
        "19-2",
        "19-20",
        "19-3",
        "19-4",
        "19-6",
        "19-7",
        "19-8",
        "19-9",
        "2-1",
        "2-13",
        "2-15",
        "2-3",
        "2-4",
        "2-5",
        "2-6",
        "2-7",
        "2-8",
        "20-1",
        "20-12",
        "20-14",
        "20-15",
        "20-16",
        "20-18",
        "20-19",
        "20-20",
        "20-3",
        "20-4",
        "20-5",
        "20-7",
        "20-8",
        "3-1",
        "3-13",
        "3-18",
        "3-2",
        "3-8",
        "4-1",
        "4-10",
        "4-11",
        "5-1",
        "5-5",
        "6-1",
        "6-15",
        "6-6",
        "7-10",
        "7-11",
        "7-12",
        "7-13",
        "7-14",
        "7-7",
        "7-8",
        "7-9",
        "8-1",
        "8-13",
        "8-14",
        "8-18",
        "8-20",
        "8-3",
        "8-8",
        "9-1",
        "9-7"
       ],
       "num_examples_per_domain_per_label": 100,
       "pickle_path": "/mnt/wd500GB/CSC500/csc500-main/datasets/wisig.node3-19.stratified_ds.2022A.pkl",
       "source_or_target_dataset": "source",
       "x_transforms": [
        "unit_power",
        "lowpass_+/-10MHz",
        "take_200"
       ]
      },
      {
       "domain_prefix": "ORACLE.run1_",
       "domains": [
        32,
        38,
        8,
        44,
        14,
        50,
        20,
        26
       ],
       "episode_transforms": [],
       "labels": [
        "3123D52",
        "3123D65",
        "3123D79",
        "3123D80",
        "3123D54",
        "3123D70",
        "3123D7B",
        "3123D89",
        "3123D58",
        "3123D76",
        "3123D7D",
        "3123EFE",
        "3123D64",
        "3123D78",
        "3123D7E",
        "3124E4A"
       ],
       "num_examples_per_domain_per_label": 2000,
       "pickle_path": "/mnt/wd500GB/CSC500/csc500-main/datasets/oracle.Run1_framed_2000Examples_stratified_ds.2022A.pkl",
       "source_or_target_dataset": "target",
       "x_transforms": [
        "unit_power",
        "take_200",
        "resample_20Msps_to_25Msps"
       ]
      }
     ],
     "device": "cuda",
     "experiment_name": "tl_3-filter:cores+wisig -> oracle.run1.framed",
     "lr": 0.001,
     "n_epoch": 50,
     "n_query": 2,
     "n_shot": 3,
     "n_way": 16,
     "patience": 3,
     "seed": 1337,
     "test_k_factor": 2,
     "torch_default_dtype": "torch.float32",
     "train_k_factor": 3,
     "val_k_factor": 2,
     "x_net": [
      {
       "class": "nnReshape",
       "kargs": {
        "shape": [
         -1,
         1,
         2,
         200
        ]
       }
      },
      {
       "class": "Conv2d",
       "kargs": {
        "bias": false,
        "in_channels": 1,
        "kernel_size": [
         1,
         7
        ],
        "out_channels": 256,
        "padding": [
         0,
         3
        ]
       }
      },
      {
       "class": "ReLU",
       "kargs": {
        "inplace": true
       }
      },
      {
       "class": "BatchNorm2d",
       "kargs": {
        "num_features": 256
       }
      },
      {
       "class": "Conv2d",
       "kargs": {
        "bias": true,
        "in_channels": 256,
        "kernel_size": [
         2,
         7
        ],
        "out_channels": 80,
        "padding": [
         0,
         3
        ]
       }
      },
      {
       "class": "ReLU",
       "kargs": {
        "inplace": true
       }
      },
      {
       "class": "BatchNorm2d",
       "kargs": {
        "num_features": 80
       }
      },
      {
       "class": "Flatten",
       "kargs": {}
      },
      {
       "class": "Linear",
       "kargs": {
        "in_features": 16000,
        "out_features": 256
       }
      },
      {
       "class": "ReLU",
       "kargs": {
        "inplace": true
       }
      },
      {
       "class": "BatchNorm1d",
       "kargs": {
        "num_features": 256
       }
      },
      {
       "class": "Linear",
       "kargs": {
        "in_features": 256,
        "out_features": 256
       }
      }
     ],
     "x_shape": [
      2,
      200
     ]
    }
   },
   "start_time": "2022-03-18T05:55:11.646808",
   "version": "2.3.4"
  }
 },
 "nbformat": 4,
 "nbformat_minor": 5
}