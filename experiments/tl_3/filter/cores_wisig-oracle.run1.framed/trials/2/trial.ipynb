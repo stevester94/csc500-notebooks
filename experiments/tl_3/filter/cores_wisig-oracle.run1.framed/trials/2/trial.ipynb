{
 "cells": [
  {
   "cell_type": "markdown",
   "id": "9fea5f46",
   "metadata": {
    "papermill": {
     "duration": 0.018994,
     "end_time": "2022-03-18T06:12:29.097534",
     "exception": false,
     "start_time": "2022-03-18T06:12:29.078540",
     "status": "completed"
    },
    "tags": []
   },
   "source": [
    "# Transfer Learning Template"
   ]
  },
  {
   "cell_type": "code",
   "execution_count": 1,
   "id": "0902182a",
   "metadata": {
    "execution": {
     "iopub.execute_input": "2022-03-18T06:12:29.137032Z",
     "iopub.status.busy": "2022-03-18T06:12:29.136549Z",
     "iopub.status.idle": "2022-03-18T06:12:30.052815Z",
     "shell.execute_reply": "2022-03-18T06:12:30.052312Z"
    },
    "papermill": {
     "duration": 0.94266,
     "end_time": "2022-03-18T06:12:30.052919",
     "exception": false,
     "start_time": "2022-03-18T06:12:29.110259",
     "status": "completed"
    },
    "tags": []
   },
   "outputs": [],
   "source": [
    "%load_ext autoreload\n",
    "%autoreload 2\n",
    "%matplotlib inline\n",
    "\n",
    "    \n",
    "import os, json, sys, time, random\n",
    "import numpy as np\n",
    "import torch\n",
    "from torch.optim import Adam\n",
    "from  easydict import EasyDict\n",
    "import matplotlib.pyplot as plt\n",
    "\n",
    "from steves_models.steves_ptn import Steves_Prototypical_Network\n",
    "\n",
    "from steves_utils.lazy_iterable_wrapper import Lazy_Iterable_Wrapper\n",
    "from steves_utils.iterable_aggregator import Iterable_Aggregator\n",
    "from steves_utils.ptn_train_eval_test_jig import  PTN_Train_Eval_Test_Jig\n",
    "from steves_utils.torch_sequential_builder import build_sequential\n",
    "from steves_utils.torch_utils import get_dataset_metrics, ptn_confusion_by_domain_over_dataloader\n",
    "from steves_utils.utils_v2 import (per_domain_accuracy_from_confusion, get_datasets_base_path)\n",
    "from steves_utils.PTN.utils import independent_accuracy_assesment\n",
    "\n",
    "from torch.utils.data import DataLoader\n",
    "\n",
    "from steves_utils.stratified_dataset.episodic_accessor import Episodic_Accessor_Factory\n",
    "\n",
    "from steves_utils.ptn_do_report import (\n",
    "    get_loss_curve,\n",
    "    get_results_table,\n",
    "    get_parameters_table,\n",
    "    get_domain_accuracies,\n",
    ")\n",
    "\n",
    "from steves_utils.transforms import get_chained_transform"
   ]
  },
  {
   "cell_type": "markdown",
   "id": "41c840b4",
   "metadata": {
    "papermill": {
     "duration": 0.012824,
     "end_time": "2022-03-18T06:12:30.084545",
     "exception": false,
     "start_time": "2022-03-18T06:12:30.071721",
     "status": "completed"
    },
    "tags": []
   },
   "source": [
    "# Allowed Parameters\n",
    "These are allowed parameters, not defaults\n",
    "Each of these values need to be present in the injected parameters (the notebook will raise an exception if they are not present)\n",
    "\n",
    "Papermill uses the cell tag \"parameters\" to inject the real parameters below this cell.\n",
    "Enable tags to see what I mean"
   ]
  },
  {
   "cell_type": "code",
   "execution_count": 2,
   "id": "fd44eb83",
   "metadata": {
    "execution": {
     "iopub.execute_input": "2022-03-18T06:12:30.112206Z",
     "iopub.status.busy": "2022-03-18T06:12:30.111950Z",
     "iopub.status.idle": "2022-03-18T06:12:30.126161Z",
     "shell.execute_reply": "2022-03-18T06:12:30.125766Z"
    },
    "papermill": {
     "duration": 0.028916,
     "end_time": "2022-03-18T06:12:30.126250",
     "exception": false,
     "start_time": "2022-03-18T06:12:30.097334",
     "status": "completed"
    },
    "tags": []
   },
   "outputs": [],
   "source": [
    "required_parameters = {\n",
    "    \"experiment_name\",\n",
    "    \"lr\",\n",
    "    \"device\",\n",
    "    \"seed\",\n",
    "    \"dataset_seed\",\n",
    "    \"n_shot\",\n",
    "    \"n_query\",\n",
    "    \"n_way\",\n",
    "    \"train_k_factor\",\n",
    "    \"val_k_factor\",\n",
    "    \"test_k_factor\",\n",
    "    \"n_epoch\",\n",
    "    \"patience\",\n",
    "    \"criteria_for_best\",\n",
    "    \"x_net\",\n",
    "    \"datasets\",\n",
    "    \"torch_default_dtype\",\n",
    "    \"NUM_LOGS_PER_EPOCH\",\n",
    "    \"BEST_MODEL_PATH\",\n",
    "    \"x_shape\",\n",
    "}"
   ]
  },
  {
   "cell_type": "code",
   "execution_count": 3,
   "id": "fa3f0049",
   "metadata": {
    "execution": {
     "iopub.execute_input": "2022-03-18T06:12:30.166137Z",
     "iopub.status.busy": "2022-03-18T06:12:30.165858Z",
     "iopub.status.idle": "2022-03-18T06:12:30.178951Z",
     "shell.execute_reply": "2022-03-18T06:12:30.178560Z"
    },
    "papermill": {
     "duration": 0.035757,
     "end_time": "2022-03-18T06:12:30.179037",
     "exception": false,
     "start_time": "2022-03-18T06:12:30.143280",
     "status": "completed"
    },
    "tags": [
     "parameters"
    ]
   },
   "outputs": [],
   "source": [
    "from steves_utils.CORES.utils import (\n",
    "    ALL_NODES,\n",
    "    ALL_NODES_MINIMUM_1000_EXAMPLES,\n",
    "    ALL_DAYS\n",
    ")\n",
    "\n",
    "from steves_utils.ORACLE.utils_v2 import (\n",
    "    ALL_DISTANCES_FEET_NARROWED,\n",
    "    ALL_RUNS,\n",
    "    ALL_SERIAL_NUMBERS,\n",
    ")\n",
    "\n",
    "standalone_parameters = {}\n",
    "standalone_parameters[\"experiment_name\"] = \"STANDALONE PTN\"\n",
    "standalone_parameters[\"lr\"] = 0.001\n",
    "standalone_parameters[\"device\"] = \"cuda\"\n",
    "\n",
    "standalone_parameters[\"seed\"] = 1337\n",
    "standalone_parameters[\"dataset_seed\"] = 1337\n",
    "\n",
    "standalone_parameters[\"n_way\"] = 8\n",
    "standalone_parameters[\"n_shot\"] = 3\n",
    "standalone_parameters[\"n_query\"]  = 2\n",
    "standalone_parameters[\"train_k_factor\"] = 1\n",
    "standalone_parameters[\"val_k_factor\"] = 2\n",
    "standalone_parameters[\"test_k_factor\"] = 2\n",
    "\n",
    "\n",
    "standalone_parameters[\"n_epoch\"] = 50\n",
    "\n",
    "standalone_parameters[\"patience\"] = 10\n",
    "standalone_parameters[\"criteria_for_best\"] = \"source_loss\"\n",
    "\n",
    "standalone_parameters[\"datasets\"] = [\n",
    "    {\n",
    "        \"labels\": ALL_SERIAL_NUMBERS,\n",
    "        \"domains\": ALL_DISTANCES_FEET_NARROWED,\n",
    "        \"num_examples_per_domain_per_label\": 100,\n",
    "        \"pickle_path\": os.path.join(get_datasets_base_path(), \"oracle.Run1_framed_2000Examples_stratified_ds.2022A.pkl\"),\n",
    "        \"source_or_target_dataset\": \"source\",\n",
    "        \"x_transforms\": [\"unit_mag\", \"minus_two\"],\n",
    "        \"episode_transforms\": [],\n",
    "        \"domain_prefix\": \"ORACLE_\"\n",
    "    },\n",
    "    {\n",
    "        \"labels\": ALL_NODES,\n",
    "        \"domains\": ALL_DAYS,\n",
    "        \"num_examples_per_domain_per_label\": 100,\n",
    "        \"pickle_path\": os.path.join(get_datasets_base_path(), \"cores.stratified_ds.2022A.pkl\"),\n",
    "        \"source_or_target_dataset\": \"target\",\n",
    "        \"x_transforms\": [\"unit_power\", \"times_zero\"],\n",
    "        \"episode_transforms\": [],\n",
    "        \"domain_prefix\": \"CORES_\"\n",
    "    }   \n",
    "]\n",
    "\n",
    "standalone_parameters[\"torch_default_dtype\"] = \"torch.float32\" \n",
    "\n",
    "\n",
    "\n",
    "standalone_parameters[\"x_net\"] =     [\n",
    "    {\"class\": \"nnReshape\", \"kargs\": {\"shape\":[-1, 1, 2, 256]}},\n",
    "    {\"class\": \"Conv2d\", \"kargs\": { \"in_channels\":1, \"out_channels\":256, \"kernel_size\":(1,7), \"bias\":False, \"padding\":(0,3), },},\n",
    "    {\"class\": \"ReLU\", \"kargs\": {\"inplace\": True}},\n",
    "    {\"class\": \"BatchNorm2d\", \"kargs\": {\"num_features\":256}},\n",
    "\n",
    "    {\"class\": \"Conv2d\", \"kargs\": { \"in_channels\":256, \"out_channels\":80, \"kernel_size\":(2,7), \"bias\":True, \"padding\":(0,3), },},\n",
    "    {\"class\": \"ReLU\", \"kargs\": {\"inplace\": True}},\n",
    "    {\"class\": \"BatchNorm2d\", \"kargs\": {\"num_features\":80}},\n",
    "    {\"class\": \"Flatten\", \"kargs\": {}},\n",
    "\n",
    "    {\"class\": \"Linear\", \"kargs\": {\"in_features\": 80*256, \"out_features\": 256}}, # 80 units per IQ pair\n",
    "    {\"class\": \"ReLU\", \"kargs\": {\"inplace\": True}},\n",
    "    {\"class\": \"BatchNorm1d\", \"kargs\": {\"num_features\":256}},\n",
    "\n",
    "    {\"class\": \"Linear\", \"kargs\": {\"in_features\": 256, \"out_features\": 256}},\n",
    "]\n",
    "\n",
    "# Parameters relevant to results\n",
    "# These parameters will basically never need to change\n",
    "standalone_parameters[\"NUM_LOGS_PER_EPOCH\"] = 10\n",
    "standalone_parameters[\"BEST_MODEL_PATH\"] = \"./best_model.pth\"\n",
    "\n",
    "\n",
    "\n",
    "\n"
   ]
  },
  {
   "cell_type": "code",
   "execution_count": 4,
   "id": "f80b2363",
   "metadata": {
    "execution": {
     "iopub.execute_input": "2022-03-18T06:12:30.223043Z",
     "iopub.status.busy": "2022-03-18T06:12:30.222467Z",
     "iopub.status.idle": "2022-03-18T06:12:30.234547Z",
     "shell.execute_reply": "2022-03-18T06:12:30.234911Z"
    },
    "papermill": {
     "duration": 0.038999,
     "end_time": "2022-03-18T06:12:30.235013",
     "exception": false,
     "start_time": "2022-03-18T06:12:30.196014",
     "status": "completed"
    },
    "tags": [
     "injected-parameters"
    ]
   },
   "outputs": [],
   "source": [
    "# Parameters\n",
    "parameters = {\n",
    "    \"experiment_name\": \"tl_3-filter:cores+wisig -> oracle.run1.framed\",\n",
    "    \"device\": \"cuda\",\n",
    "    \"lr\": 0.001,\n",
    "    \"seed\": 1337,\n",
    "    \"dataset_seed\": 1337,\n",
    "    \"x_shape\": [2, 200],\n",
    "    \"n_shot\": 3,\n",
    "    \"n_query\": 2,\n",
    "    \"train_k_factor\": 3,\n",
    "    \"val_k_factor\": 2,\n",
    "    \"test_k_factor\": 2,\n",
    "    \"torch_default_dtype\": \"torch.float32\",\n",
    "    \"n_epoch\": 50,\n",
    "    \"patience\": 3,\n",
    "    \"criteria_for_best\": \"target_loss\",\n",
    "    \"x_net\": [\n",
    "        {\"class\": \"nnReshape\", \"kargs\": {\"shape\": [-1, 1, 2, 200]}},\n",
    "        {\n",
    "            \"class\": \"Conv2d\",\n",
    "            \"kargs\": {\n",
    "                \"in_channels\": 1,\n",
    "                \"out_channels\": 256,\n",
    "                \"kernel_size\": [1, 7],\n",
    "                \"bias\": False,\n",
    "                \"padding\": [0, 3],\n",
    "            },\n",
    "        },\n",
    "        {\"class\": \"ReLU\", \"kargs\": {\"inplace\": True}},\n",
    "        {\"class\": \"BatchNorm2d\", \"kargs\": {\"num_features\": 256}},\n",
    "        {\n",
    "            \"class\": \"Conv2d\",\n",
    "            \"kargs\": {\n",
    "                \"in_channels\": 256,\n",
    "                \"out_channels\": 80,\n",
    "                \"kernel_size\": [2, 7],\n",
    "                \"bias\": True,\n",
    "                \"padding\": [0, 3],\n",
    "            },\n",
    "        },\n",
    "        {\"class\": \"ReLU\", \"kargs\": {\"inplace\": True}},\n",
    "        {\"class\": \"BatchNorm2d\", \"kargs\": {\"num_features\": 80}},\n",
    "        {\"class\": \"Flatten\", \"kargs\": {}},\n",
    "        {\"class\": \"Linear\", \"kargs\": {\"in_features\": 16000, \"out_features\": 256}},\n",
    "        {\"class\": \"ReLU\", \"kargs\": {\"inplace\": True}},\n",
    "        {\"class\": \"BatchNorm1d\", \"kargs\": {\"num_features\": 256}},\n",
    "        {\"class\": \"Linear\", \"kargs\": {\"in_features\": 256, \"out_features\": 256}},\n",
    "    ],\n",
    "    \"NUM_LOGS_PER_EPOCH\": 10,\n",
    "    \"BEST_MODEL_PATH\": \"./best_model.pth\",\n",
    "    \"n_way\": 16,\n",
    "    \"datasets\": [\n",
    "        {\n",
    "            \"labels\": [\n",
    "                \"1-10.\",\n",
    "                \"1-11.\",\n",
    "                \"1-15.\",\n",
    "                \"1-16.\",\n",
    "                \"1-17.\",\n",
    "                \"1-18.\",\n",
    "                \"1-19.\",\n",
    "                \"10-4.\",\n",
    "                \"10-7.\",\n",
    "                \"11-1.\",\n",
    "                \"11-14.\",\n",
    "                \"11-17.\",\n",
    "                \"11-20.\",\n",
    "                \"11-7.\",\n",
    "                \"13-20.\",\n",
    "                \"13-8.\",\n",
    "                \"14-10.\",\n",
    "                \"14-11.\",\n",
    "                \"14-14.\",\n",
    "                \"14-7.\",\n",
    "                \"15-1.\",\n",
    "                \"15-20.\",\n",
    "                \"16-1.\",\n",
    "                \"16-16.\",\n",
    "                \"17-10.\",\n",
    "                \"17-11.\",\n",
    "                \"17-2.\",\n",
    "                \"19-1.\",\n",
    "                \"19-16.\",\n",
    "                \"19-19.\",\n",
    "                \"19-20.\",\n",
    "                \"19-3.\",\n",
    "                \"2-10.\",\n",
    "                \"2-11.\",\n",
    "                \"2-17.\",\n",
    "                \"2-18.\",\n",
    "                \"2-20.\",\n",
    "                \"2-3.\",\n",
    "                \"2-4.\",\n",
    "                \"2-5.\",\n",
    "                \"2-6.\",\n",
    "                \"2-7.\",\n",
    "                \"2-8.\",\n",
    "                \"3-13.\",\n",
    "                \"3-18.\",\n",
    "                \"3-3.\",\n",
    "                \"4-1.\",\n",
    "                \"4-10.\",\n",
    "                \"4-11.\",\n",
    "                \"4-19.\",\n",
    "                \"5-5.\",\n",
    "                \"6-15.\",\n",
    "                \"7-10.\",\n",
    "                \"7-14.\",\n",
    "                \"8-18.\",\n",
    "                \"8-20.\",\n",
    "                \"8-3.\",\n",
    "                \"8-8.\",\n",
    "            ],\n",
    "            \"domains\": [1, 2, 3, 4, 5],\n",
    "            \"num_examples_per_domain_per_label\": 100,\n",
    "            \"pickle_path\": \"/mnt/wd500GB/CSC500/csc500-main/datasets/cores.stratified_ds.2022A.pkl\",\n",
    "            \"source_or_target_dataset\": \"source\",\n",
    "            \"x_transforms\": [\"lowpass_+/-10MHz\", \"take_200\"],\n",
    "            \"episode_transforms\": [],\n",
    "            \"domain_prefix\": \"C_A_\",\n",
    "        },\n",
    "        {\n",
    "            \"labels\": [\n",
    "                \"1-10\",\n",
    "                \"1-12\",\n",
    "                \"1-14\",\n",
    "                \"1-16\",\n",
    "                \"1-18\",\n",
    "                \"1-19\",\n",
    "                \"1-8\",\n",
    "                \"10-11\",\n",
    "                \"10-17\",\n",
    "                \"10-4\",\n",
    "                \"10-7\",\n",
    "                \"11-1\",\n",
    "                \"11-10\",\n",
    "                \"11-19\",\n",
    "                \"11-20\",\n",
    "                \"11-4\",\n",
    "                \"11-7\",\n",
    "                \"12-19\",\n",
    "                \"12-20\",\n",
    "                \"12-7\",\n",
    "                \"13-14\",\n",
    "                \"13-18\",\n",
    "                \"13-19\",\n",
    "                \"13-20\",\n",
    "                \"13-3\",\n",
    "                \"13-7\",\n",
    "                \"14-10\",\n",
    "                \"14-11\",\n",
    "                \"14-12\",\n",
    "                \"14-13\",\n",
    "                \"14-14\",\n",
    "                \"14-19\",\n",
    "                \"14-20\",\n",
    "                \"14-7\",\n",
    "                \"14-8\",\n",
    "                \"14-9\",\n",
    "                \"15-1\",\n",
    "                \"15-19\",\n",
    "                \"15-6\",\n",
    "                \"16-1\",\n",
    "                \"16-16\",\n",
    "                \"16-19\",\n",
    "                \"16-20\",\n",
    "                \"17-10\",\n",
    "                \"17-11\",\n",
    "                \"18-1\",\n",
    "                \"18-10\",\n",
    "                \"18-11\",\n",
    "                \"18-12\",\n",
    "                \"18-13\",\n",
    "                \"18-14\",\n",
    "                \"18-15\",\n",
    "                \"18-16\",\n",
    "                \"18-17\",\n",
    "                \"18-19\",\n",
    "                \"18-2\",\n",
    "                \"18-20\",\n",
    "                \"18-4\",\n",
    "                \"18-5\",\n",
    "                \"18-7\",\n",
    "                \"18-8\",\n",
    "                \"18-9\",\n",
    "                \"19-1\",\n",
    "                \"19-10\",\n",
    "                \"19-11\",\n",
    "                \"19-12\",\n",
    "                \"19-13\",\n",
    "                \"19-14\",\n",
    "                \"19-15\",\n",
    "                \"19-19\",\n",
    "                \"19-2\",\n",
    "                \"19-20\",\n",
    "                \"19-3\",\n",
    "                \"19-4\",\n",
    "                \"19-6\",\n",
    "                \"19-7\",\n",
    "                \"19-8\",\n",
    "                \"19-9\",\n",
    "                \"2-1\",\n",
    "                \"2-13\",\n",
    "                \"2-15\",\n",
    "                \"2-3\",\n",
    "                \"2-4\",\n",
    "                \"2-5\",\n",
    "                \"2-6\",\n",
    "                \"2-7\",\n",
    "                \"2-8\",\n",
    "                \"20-1\",\n",
    "                \"20-12\",\n",
    "                \"20-14\",\n",
    "                \"20-15\",\n",
    "                \"20-16\",\n",
    "                \"20-18\",\n",
    "                \"20-19\",\n",
    "                \"20-20\",\n",
    "                \"20-3\",\n",
    "                \"20-4\",\n",
    "                \"20-5\",\n",
    "                \"20-7\",\n",
    "                \"20-8\",\n",
    "                \"3-1\",\n",
    "                \"3-13\",\n",
    "                \"3-18\",\n",
    "                \"3-2\",\n",
    "                \"3-8\",\n",
    "                \"4-1\",\n",
    "                \"4-10\",\n",
    "                \"4-11\",\n",
    "                \"5-1\",\n",
    "                \"5-5\",\n",
    "                \"6-1\",\n",
    "                \"6-15\",\n",
    "                \"6-6\",\n",
    "                \"7-10\",\n",
    "                \"7-11\",\n",
    "                \"7-12\",\n",
    "                \"7-13\",\n",
    "                \"7-14\",\n",
    "                \"7-7\",\n",
    "                \"7-8\",\n",
    "                \"7-9\",\n",
    "                \"8-1\",\n",
    "                \"8-13\",\n",
    "                \"8-14\",\n",
    "                \"8-18\",\n",
    "                \"8-20\",\n",
    "                \"8-3\",\n",
    "                \"8-8\",\n",
    "                \"9-1\",\n",
    "                \"9-7\",\n",
    "            ],\n",
    "            \"domains\": [1, 2, 3, 4],\n",
    "            \"num_examples_per_domain_per_label\": 100,\n",
    "            \"pickle_path\": \"/mnt/wd500GB/CSC500/csc500-main/datasets/wisig.node3-19.stratified_ds.2022A.pkl\",\n",
    "            \"source_or_target_dataset\": \"source\",\n",
    "            \"x_transforms\": [\"lowpass_+/-10MHz\", \"take_200\"],\n",
    "            \"episode_transforms\": [],\n",
    "            \"domain_prefix\": \"W_A_\",\n",
    "        },\n",
    "        {\n",
    "            \"labels\": [\n",
    "                \"3123D52\",\n",
    "                \"3123D65\",\n",
    "                \"3123D79\",\n",
    "                \"3123D80\",\n",
    "                \"3123D54\",\n",
    "                \"3123D70\",\n",
    "                \"3123D7B\",\n",
    "                \"3123D89\",\n",
    "                \"3123D58\",\n",
    "                \"3123D76\",\n",
    "                \"3123D7D\",\n",
    "                \"3123EFE\",\n",
    "                \"3123D64\",\n",
    "                \"3123D78\",\n",
    "                \"3123D7E\",\n",
    "                \"3124E4A\",\n",
    "            ],\n",
    "            \"domains\": [32, 38, 8, 44, 14, 50, 20, 26],\n",
    "            \"num_examples_per_domain_per_label\": 2000,\n",
    "            \"pickle_path\": \"/mnt/wd500GB/CSC500/csc500-main/datasets/oracle.Run1_framed_2000Examples_stratified_ds.2022A.pkl\",\n",
    "            \"source_or_target_dataset\": \"target\",\n",
    "            \"x_transforms\": [\"take_200\", \"resample_20Msps_to_25Msps\"],\n",
    "            \"episode_transforms\": [],\n",
    "            \"domain_prefix\": \"ORACLE.run1_\",\n",
    "        },\n",
    "    ],\n",
    "}\n"
   ]
  },
  {
   "cell_type": "code",
   "execution_count": 5,
   "id": "8fa1cc33",
   "metadata": {
    "execution": {
     "iopub.execute_input": "2022-03-18T06:12:30.270520Z",
     "iopub.status.busy": "2022-03-18T06:12:30.270268Z",
     "iopub.status.idle": "2022-03-18T06:12:30.284985Z",
     "shell.execute_reply": "2022-03-18T06:12:30.285352Z"
    },
    "papermill": {
     "duration": 0.031738,
     "end_time": "2022-03-18T06:12:30.285454",
     "exception": false,
     "start_time": "2022-03-18T06:12:30.253716",
     "status": "completed"
    },
    "tags": []
   },
   "outputs": [],
   "source": [
    "# Set this to True if you want to run this template directly\n",
    "STANDALONE = False\n",
    "if STANDALONE:\n",
    "    print(\"parameters not injected, running with standalone_parameters\")\n",
    "    parameters = standalone_parameters\n",
    "\n",
    "if not 'parameters' in locals() and not 'parameters' in globals():\n",
    "    raise Exception(\"Parameter injection failed\")\n",
    "\n",
    "#Use an easy dict for all the parameters\n",
    "p = EasyDict(parameters)\n",
    "\n",
    "if \"x_shape\" not in p:\n",
    "    p.x_shape = [2,256] # Default to this if we dont supply x_shape\n",
    "\n",
    "\n",
    "supplied_keys = set(p.keys())\n",
    "\n",
    "if  supplied_keys != required_parameters:\n",
    "    print(\"Parameters are incorrect\")\n",
    "    if len(supplied_keys - required_parameters)>0: print(\"Shouldn't have:\", str(supplied_keys - required_parameters))\n",
    "    if len(required_parameters - supplied_keys)>0: print(\"Need to have:\", str(required_parameters - supplied_keys))\n",
    "    raise RuntimeError(\"Parameters are incorrect\")"
   ]
  },
  {
   "cell_type": "code",
   "execution_count": 6,
   "id": "3a028d58",
   "metadata": {
    "execution": {
     "iopub.execute_input": "2022-03-18T06:12:30.318736Z",
     "iopub.status.busy": "2022-03-18T06:12:30.318490Z",
     "iopub.status.idle": "2022-03-18T06:12:30.331793Z",
     "shell.execute_reply": "2022-03-18T06:12:30.332188Z"
    },
    "papermill": {
     "duration": 0.028928,
     "end_time": "2022-03-18T06:12:30.332303",
     "exception": false,
     "start_time": "2022-03-18T06:12:30.303375",
     "status": "completed"
    },
    "tags": []
   },
   "outputs": [],
   "source": [
    "###################################\n",
    "# Set the RNGs and make it all deterministic\n",
    "###################################\n",
    "np.random.seed(p.seed)\n",
    "random.seed(p.seed)\n",
    "torch.manual_seed(p.seed)\n",
    "\n",
    "torch.use_deterministic_algorithms(True) "
   ]
  },
  {
   "cell_type": "code",
   "execution_count": 7,
   "id": "b691acf6",
   "metadata": {
    "execution": {
     "iopub.execute_input": "2022-03-18T06:12:30.366168Z",
     "iopub.status.busy": "2022-03-18T06:12:30.365923Z",
     "iopub.status.idle": "2022-03-18T06:12:30.380606Z",
     "shell.execute_reply": "2022-03-18T06:12:30.380216Z"
    },
    "papermill": {
     "duration": 0.029656,
     "end_time": "2022-03-18T06:12:30.380692",
     "exception": false,
     "start_time": "2022-03-18T06:12:30.351036",
     "status": "completed"
    },
    "tags": []
   },
   "outputs": [],
   "source": [
    "###########################################\n",
    "# The stratified datasets honor this\n",
    "###########################################\n",
    "torch.set_default_dtype(eval(p.torch_default_dtype))"
   ]
  },
  {
   "cell_type": "code",
   "execution_count": 8,
   "id": "b5fba671",
   "metadata": {
    "execution": {
     "iopub.execute_input": "2022-03-18T06:12:30.414074Z",
     "iopub.status.busy": "2022-03-18T06:12:30.413829Z",
     "iopub.status.idle": "2022-03-18T06:12:30.448474Z",
     "shell.execute_reply": "2022-03-18T06:12:30.448089Z"
    },
    "papermill": {
     "duration": 0.04965,
     "end_time": "2022-03-18T06:12:30.448561",
     "exception": false,
     "start_time": "2022-03-18T06:12:30.398911",
     "status": "completed"
    },
    "tags": []
   },
   "outputs": [],
   "source": [
    "###################################\n",
    "# Build the network(s)\n",
    "# Note: It's critical to do this AFTER setting the RNG\n",
    "###################################\n",
    "x_net = build_sequential(p.x_net)"
   ]
  },
  {
   "cell_type": "code",
   "execution_count": 9,
   "id": "5d7e61cc",
   "metadata": {
    "execution": {
     "iopub.execute_input": "2022-03-18T06:12:30.482644Z",
     "iopub.status.busy": "2022-03-18T06:12:30.482398Z",
     "iopub.status.idle": "2022-03-18T06:12:30.497411Z",
     "shell.execute_reply": "2022-03-18T06:12:30.497777Z"
    },
    "papermill": {
     "duration": 0.030732,
     "end_time": "2022-03-18T06:12:30.497880",
     "exception": false,
     "start_time": "2022-03-18T06:12:30.467148",
     "status": "completed"
    },
    "tags": []
   },
   "outputs": [],
   "source": [
    "start_time_secs = time.time()"
   ]
  },
  {
   "cell_type": "code",
   "execution_count": 10,
   "id": "c6b67dfd",
   "metadata": {
    "execution": {
     "iopub.execute_input": "2022-03-18T06:12:30.531057Z",
     "iopub.status.busy": "2022-03-18T06:12:30.530726Z",
     "iopub.status.idle": "2022-03-18T06:12:30.543765Z",
     "shell.execute_reply": "2022-03-18T06:12:30.543462Z"
    },
    "papermill": {
     "duration": 0.028533,
     "end_time": "2022-03-18T06:12:30.543833",
     "exception": false,
     "start_time": "2022-03-18T06:12:30.515300",
     "status": "completed"
    },
    "tags": []
   },
   "outputs": [],
   "source": [
    "p.domains_source = []\n",
    "p.domains_target = []\n",
    "\n",
    "\n",
    "train_original_source = []\n",
    "val_original_source   = []\n",
    "test_original_source  = []\n",
    "\n",
    "train_original_target = []\n",
    "val_original_target   = []\n",
    "test_original_target  = []"
   ]
  },
  {
   "cell_type": "code",
   "execution_count": 11,
   "id": "e3d9c3d3",
   "metadata": {
    "execution": {
     "iopub.execute_input": "2022-03-18T06:12:30.578412Z",
     "iopub.status.busy": "2022-03-18T06:12:30.578168Z",
     "iopub.status.idle": "2022-03-18T06:12:30.588047Z",
     "shell.execute_reply": "2022-03-18T06:12:30.587741Z"
    },
    "papermill": {
     "duration": 0.025438,
     "end_time": "2022-03-18T06:12:30.588115",
     "exception": false,
     "start_time": "2022-03-18T06:12:30.562677",
     "status": "completed"
    },
    "tags": []
   },
   "outputs": [],
   "source": [
    "# global_x_transform_func = lambda x: normalize(x.to(torch.get_default_dtype()), \"unit_power\") # unit_power, unit_mag\n",
    "# global_x_transform_func = lambda x: normalize(x, \"unit_power\") # unit_power, unit_mag"
   ]
  },
  {
   "cell_type": "code",
   "execution_count": 12,
   "id": "acb78fd2",
   "metadata": {
    "execution": {
     "iopub.execute_input": "2022-03-18T06:12:30.624244Z",
     "iopub.status.busy": "2022-03-18T06:12:30.623988Z",
     "iopub.status.idle": "2022-03-18T06:12:30.634499Z",
     "shell.execute_reply": "2022-03-18T06:12:30.634285Z"
    },
    "papermill": {
     "duration": 0.028341,
     "end_time": "2022-03-18T06:12:30.634546",
     "exception": false,
     "start_time": "2022-03-18T06:12:30.606205",
     "status": "completed"
    },
    "tags": []
   },
   "outputs": [],
   "source": [
    "def add_dataset(\n",
    "    labels,\n",
    "    domains,\n",
    "    pickle_path,\n",
    "    x_transforms,\n",
    "    episode_transforms,\n",
    "    domain_prefix,\n",
    "    num_examples_per_domain_per_label,\n",
    "    source_or_target_dataset:str,\n",
    "    iterator_seed=p.seed,\n",
    "    dataset_seed=p.dataset_seed,\n",
    "    n_shot=p.n_shot,\n",
    "    n_way=p.n_way,\n",
    "    n_query=p.n_query,\n",
    "    train_val_test_k_factors=(p.train_k_factor,p.val_k_factor,p.test_k_factor),\n",
    "):\n",
    "   \n",
    "    if x_transforms == []: x_transform = None\n",
    "    else: x_transform = get_chained_transform(x_transforms)\n",
    "    \n",
    "    if episode_transforms == []: episode_transform = None\n",
    "    else: raise Exception(\"episode_transforms not implemented\")\n",
    "    \n",
    "    episode_transform = lambda tup, _prefix=domain_prefix: (_prefix + str(tup[0]), tup[1])\n",
    "\n",
    "\n",
    "    eaf = Episodic_Accessor_Factory(\n",
    "        labels=labels,\n",
    "        domains=domains,\n",
    "        num_examples_per_domain_per_label=num_examples_per_domain_per_label,\n",
    "        iterator_seed=iterator_seed,\n",
    "        dataset_seed=dataset_seed,\n",
    "        n_shot=n_shot,\n",
    "        n_way=n_way,\n",
    "        n_query=n_query,\n",
    "        train_val_test_k_factors=train_val_test_k_factors,\n",
    "        pickle_path=pickle_path,\n",
    "        x_transform_func=x_transform,\n",
    "    )\n",
    "\n",
    "    train, val, test = eaf.get_train(), eaf.get_val(), eaf.get_test()\n",
    "    train = Lazy_Iterable_Wrapper(train, episode_transform)\n",
    "    val = Lazy_Iterable_Wrapper(val, episode_transform)\n",
    "    test = Lazy_Iterable_Wrapper(test, episode_transform)\n",
    "\n",
    "    if source_or_target_dataset==\"source\":\n",
    "        train_original_source.append(train)\n",
    "        val_original_source.append(val)\n",
    "        test_original_source.append(test)\n",
    "\n",
    "        p.domains_source.extend(\n",
    "            [domain_prefix + str(u) for u in domains]\n",
    "        )\n",
    "    elif source_or_target_dataset==\"target\":\n",
    "        train_original_target.append(train)\n",
    "        val_original_target.append(val)\n",
    "        test_original_target.append(test)\n",
    "        p.domains_target.extend(\n",
    "            [domain_prefix + str(u) for u in domains]\n",
    "        )\n",
    "    else:\n",
    "        raise Exception(f\"invalid source_or_target_dataset: {source_or_target_dataset}\")\n",
    "    "
   ]
  },
  {
   "cell_type": "code",
   "execution_count": 13,
   "id": "fe266617",
   "metadata": {
    "execution": {
     "iopub.execute_input": "2022-03-18T06:12:30.667798Z",
     "iopub.status.busy": "2022-03-18T06:12:30.667553Z",
     "iopub.status.idle": "2022-03-18T06:12:46.188549Z",
     "shell.execute_reply": "2022-03-18T06:12:46.188061Z"
    },
    "papermill": {
     "duration": 15.536596,
     "end_time": "2022-03-18T06:12:46.188648",
     "exception": false,
     "start_time": "2022-03-18T06:12:30.652052",
     "status": "completed"
    },
    "tags": []
   },
   "outputs": [],
   "source": [
    "for ds in p.datasets:\n",
    "    add_dataset(**ds)"
   ]
  },
  {
   "cell_type": "code",
   "execution_count": 14,
   "id": "b90d65ac",
   "metadata": {
    "execution": {
     "iopub.execute_input": "2022-03-18T06:12:46.224986Z",
     "iopub.status.busy": "2022-03-18T06:12:46.224728Z",
     "iopub.status.idle": "2022-03-18T06:12:46.241287Z",
     "shell.execute_reply": "2022-03-18T06:12:46.240897Z"
    },
    "papermill": {
     "duration": 0.032129,
     "end_time": "2022-03-18T06:12:46.241377",
     "exception": false,
     "start_time": "2022-03-18T06:12:46.209248",
     "status": "completed"
    },
    "tags": []
   },
   "outputs": [],
   "source": [
    "# from steves_utils.CORES.utils import (\n",
    "#     ALL_NODES,\n",
    "#     ALL_NODES_MINIMUM_1000_EXAMPLES,\n",
    "#     ALL_DAYS\n",
    "# )\n",
    "\n",
    "# add_dataset(\n",
    "#     labels=ALL_NODES,\n",
    "#     domains = ALL_DAYS,\n",
    "#     num_examples_per_domain_per_label=100,\n",
    "#     pickle_path=os.path.join(get_datasets_base_path(), \"cores.stratified_ds.2022A.pkl\"),\n",
    "#     source_or_target_dataset=\"target\",\n",
    "#     x_transform_func=global_x_transform_func,\n",
    "#     domain_modifier=lambda u: f\"cores_{u}\"\n",
    "# )"
   ]
  },
  {
   "cell_type": "code",
   "execution_count": 15,
   "id": "76db484d",
   "metadata": {
    "execution": {
     "iopub.execute_input": "2022-03-18T06:12:46.275029Z",
     "iopub.status.busy": "2022-03-18T06:12:46.274777Z",
     "iopub.status.idle": "2022-03-18T06:12:46.285041Z",
     "shell.execute_reply": "2022-03-18T06:12:46.284723Z"
    },
    "papermill": {
     "duration": 0.025455,
     "end_time": "2022-03-18T06:12:46.285109",
     "exception": false,
     "start_time": "2022-03-18T06:12:46.259654",
     "status": "completed"
    },
    "tags": []
   },
   "outputs": [],
   "source": [
    "# from steves_utils.ORACLE.utils_v2 import (\n",
    "#     ALL_DISTANCES_FEET,\n",
    "#     ALL_RUNS,\n",
    "#     ALL_SERIAL_NUMBERS,\n",
    "# )\n",
    "\n",
    "\n",
    "# add_dataset(\n",
    "#     labels=ALL_SERIAL_NUMBERS,\n",
    "#     domains = list(set(ALL_DISTANCES_FEET) - {2,62}),\n",
    "#     num_examples_per_domain_per_label=100,\n",
    "#     pickle_path=os.path.join(get_datasets_base_path(), \"oracle.Run2_framed_2000Examples_stratified_ds.2022A.pkl\"),\n",
    "#     source_or_target_dataset=\"source\",\n",
    "#     x_transform_func=global_x_transform_func,\n",
    "#     domain_modifier=lambda u: f\"oracle1_{u}\"\n",
    "# )\n"
   ]
  },
  {
   "cell_type": "code",
   "execution_count": 16,
   "id": "97dea9d2",
   "metadata": {
    "execution": {
     "iopub.execute_input": "2022-03-18T06:12:46.318766Z",
     "iopub.status.busy": "2022-03-18T06:12:46.318514Z",
     "iopub.status.idle": "2022-03-18T06:12:46.332970Z",
     "shell.execute_reply": "2022-03-18T06:12:46.332745Z"
    },
    "papermill": {
     "duration": 0.029587,
     "end_time": "2022-03-18T06:12:46.333018",
     "exception": false,
     "start_time": "2022-03-18T06:12:46.303431",
     "status": "completed"
    },
    "tags": []
   },
   "outputs": [],
   "source": [
    "# from steves_utils.ORACLE.utils_v2 import (\n",
    "#     ALL_DISTANCES_FEET,\n",
    "#     ALL_RUNS,\n",
    "#     ALL_SERIAL_NUMBERS,\n",
    "# )\n",
    "\n",
    "\n",
    "# add_dataset(\n",
    "#     labels=ALL_SERIAL_NUMBERS,\n",
    "#     domains = list(set(ALL_DISTANCES_FEET) - {2,62,56}),\n",
    "#     num_examples_per_domain_per_label=100,\n",
    "#     pickle_path=os.path.join(get_datasets_base_path(), \"oracle.Run2_framed_2000Examples_stratified_ds.2022A.pkl\"),\n",
    "#     source_or_target_dataset=\"source\",\n",
    "#     x_transform_func=global_x_transform_func,\n",
    "#     domain_modifier=lambda u: f\"oracle2_{u}\"\n",
    "# )"
   ]
  },
  {
   "cell_type": "code",
   "execution_count": 17,
   "id": "6f289866",
   "metadata": {
    "execution": {
     "iopub.execute_input": "2022-03-18T06:12:46.365480Z",
     "iopub.status.busy": "2022-03-18T06:12:46.364946Z",
     "iopub.status.idle": "2022-03-18T06:12:46.377323Z",
     "shell.execute_reply": "2022-03-18T06:12:46.376881Z"
    },
    "papermill": {
     "duration": 0.028153,
     "end_time": "2022-03-18T06:12:46.377411",
     "exception": false,
     "start_time": "2022-03-18T06:12:46.349258",
     "status": "completed"
    },
    "tags": []
   },
   "outputs": [],
   "source": [
    "# add_dataset(\n",
    "#     labels=list(range(19)),\n",
    "#     domains = [0,1,2],\n",
    "#     num_examples_per_domain_per_label=100,\n",
    "#     pickle_path=os.path.join(get_datasets_base_path(), \"metehan.stratified_ds.2022A.pkl\"),\n",
    "#     source_or_target_dataset=\"target\",\n",
    "#     x_transform_func=global_x_transform_func,\n",
    "#     domain_modifier=lambda u: f\"met_{u}\"\n",
    "# )"
   ]
  },
  {
   "cell_type": "code",
   "execution_count": 18,
   "id": "86a863c3",
   "metadata": {
    "execution": {
     "iopub.execute_input": "2022-03-18T06:12:46.411983Z",
     "iopub.status.busy": "2022-03-18T06:12:46.411730Z",
     "iopub.status.idle": "2022-03-18T06:12:46.425396Z",
     "shell.execute_reply": "2022-03-18T06:12:46.425049Z"
    },
    "papermill": {
     "duration": 0.029581,
     "end_time": "2022-03-18T06:12:46.425464",
     "exception": false,
     "start_time": "2022-03-18T06:12:46.395883",
     "status": "completed"
    },
    "tags": []
   },
   "outputs": [],
   "source": [
    "# # from steves_utils.wisig.utils import (\n",
    "# #     ALL_NODES_MINIMUM_100_EXAMPLES,\n",
    "# #     ALL_NODES_MINIMUM_500_EXAMPLES,\n",
    "# #     ALL_NODES_MINIMUM_1000_EXAMPLES,\n",
    "# #     ALL_DAYS\n",
    "# # )\n",
    "\n",
    "# import steves_utils.wisig.utils as wisig\n",
    "\n",
    "\n",
    "# add_dataset(\n",
    "#     labels=wisig.ALL_NODES_MINIMUM_100_EXAMPLES,\n",
    "#     domains = wisig.ALL_DAYS,\n",
    "#     num_examples_per_domain_per_label=100,\n",
    "#     pickle_path=os.path.join(get_datasets_base_path(), \"wisig.node3-19.stratified_ds.2022A.pkl\"),\n",
    "#     source_or_target_dataset=\"target\",\n",
    "#     x_transform_func=global_x_transform_func,\n",
    "#     domain_modifier=lambda u: f\"wisig_{u}\"\n",
    "# )"
   ]
  },
  {
   "cell_type": "code",
   "execution_count": 19,
   "id": "fd5442bc",
   "metadata": {
    "execution": {
     "iopub.execute_input": "2022-03-18T06:12:46.460772Z",
     "iopub.status.busy": "2022-03-18T06:12:46.460516Z",
     "iopub.status.idle": "2022-03-18T06:12:46.471355Z",
     "shell.execute_reply": "2022-03-18T06:12:46.471096Z"
    },
    "papermill": {
     "duration": 0.027649,
     "end_time": "2022-03-18T06:12:46.471408",
     "exception": false,
     "start_time": "2022-03-18T06:12:46.443759",
     "status": "completed"
    },
    "tags": []
   },
   "outputs": [],
   "source": [
    "###################################\n",
    "# Build the dataset\n",
    "###################################\n",
    "train_original_source = Iterable_Aggregator(train_original_source, p.seed)\n",
    "val_original_source = Iterable_Aggregator(val_original_source, p.seed)\n",
    "test_original_source = Iterable_Aggregator(test_original_source, p.seed)\n",
    "\n",
    "\n",
    "train_original_target = Iterable_Aggregator(train_original_target, p.seed)\n",
    "val_original_target = Iterable_Aggregator(val_original_target, p.seed)\n",
    "test_original_target = Iterable_Aggregator(test_original_target, p.seed)\n",
    "\n",
    "# For CNN We only use X and Y. And we only train on the source.\n",
    "# Properly form the data using a transform lambda and Lazy_Iterable_Wrapper. Finally wrap them in a dataloader\n",
    "\n",
    "transform_lambda = lambda ex: ex[1] # Original is (<domain>, <episode>) so we strip down to episode only\n",
    "\n",
    "train_processed_source = Lazy_Iterable_Wrapper(train_original_source, transform_lambda)\n",
    "val_processed_source   = Lazy_Iterable_Wrapper(val_original_source, transform_lambda)\n",
    "test_processed_source  = Lazy_Iterable_Wrapper(test_original_source, transform_lambda)\n",
    "\n",
    "train_processed_target = Lazy_Iterable_Wrapper(train_original_target, transform_lambda)\n",
    "val_processed_target   = Lazy_Iterable_Wrapper(val_original_target, transform_lambda)\n",
    "test_processed_target  = Lazy_Iterable_Wrapper(test_original_target, transform_lambda)\n",
    "\n",
    "datasets = EasyDict({\n",
    "    \"source\": {\n",
    "        \"original\": {\"train\":train_original_source, \"val\":val_original_source, \"test\":test_original_source},\n",
    "        \"processed\": {\"train\":train_processed_source, \"val\":val_processed_source, \"test\":test_processed_source}\n",
    "    },\n",
    "    \"target\": {\n",
    "        \"original\": {\"train\":train_original_target, \"val\":val_original_target, \"test\":test_original_target},\n",
    "        \"processed\": {\"train\":train_processed_target, \"val\":val_processed_target, \"test\":test_processed_target}\n",
    "    },\n",
    "})"
   ]
  },
  {
   "cell_type": "code",
   "execution_count": 20,
   "id": "5b3c01fc",
   "metadata": {
    "execution": {
     "iopub.execute_input": "2022-03-18T06:12:46.505020Z",
     "iopub.status.busy": "2022-03-18T06:12:46.504770Z",
     "iopub.status.idle": "2022-03-18T06:12:51.332517Z",
     "shell.execute_reply": "2022-03-18T06:12:51.332149Z"
    },
    "papermill": {
     "duration": 4.843659,
     "end_time": "2022-03-18T06:12:51.332597",
     "exception": false,
     "start_time": "2022-03-18T06:12:46.488938",
     "status": "completed"
    },
    "tags": []
   },
   "outputs": [
    {
     "name": "stdout",
     "output_type": "stream",
     "text": [
      "{'C_A_5', 'W_A_2', 'C_A_4', 'C_A_1', 'W_A_1', 'C_A_3', 'C_A_2', 'W_A_3', 'W_A_4'}\n"
     ]
    },
    {
     "name": "stdout",
     "output_type": "stream",
     "text": [
      "{'ORACLE.run1_8', 'ORACLE.run1_14', 'ORACLE.run1_26', 'ORACLE.run1_20', 'ORACLE.run1_32', 'ORACLE.run1_50', 'ORACLE.run1_38', 'ORACLE.run1_44'}\n"
     ]
    },
    {
     "name": "stdout",
     "output_type": "stream",
     "text": [
      "tensor([[[-0.0008, -0.0050, -0.0118,  ..., -0.0046,  0.0152,  0.0055],\n",
      "         [ 0.0003,  0.0019,  0.0038,  ..., -0.0027, -0.0018,  0.0094]],\n",
      "\n",
      "        [[-0.0005, -0.0018,  0.0003,  ..., -0.0152,  0.0043, -0.0043],\n",
      "         [-0.0010, -0.0062, -0.0115,  ..., -0.0110,  0.0003, -0.0026]],\n",
      "\n",
      "        [[-0.0006, -0.0032, -0.0055,  ..., -0.0163, -0.0111,  0.0120],\n",
      "         [-0.0003, -0.0021, -0.0061,  ..., -0.0022, -0.0031, -0.0051]],\n",
      "\n",
      "        ...,\n",
      "\n",
      "        [[ 0.0011,  0.0052,  0.0051,  ...,  0.0417, -0.0232, -0.0378],\n",
      "         [ 0.0010,  0.0069,  0.0160,  ...,  0.0132,  0.0085, -0.0369]],\n",
      "\n",
      "        [[-0.0004, -0.0019, -0.0029,  ...,  0.0253, -0.0046, -0.0456],\n",
      "         [-0.0003, -0.0019, -0.0052,  ...,  0.0048,  0.0214,  0.0147]],\n",
      "\n",
      "        [[ 0.0003,  0.0028,  0.0090,  ..., -0.0053,  0.0244, -0.0185],\n",
      "         [-0.0016, -0.0090, -0.0155,  ..., -0.0528, -0.0066,  0.0340]]])\n"
     ]
    }
   ],
   "source": [
    "from steves_utils.transforms import get_average_magnitude, get_average_power\n",
    "\n",
    "print(set([u for u,_ in val_original_source]))\n",
    "print(set([u for u,_ in val_original_target]))\n",
    "\n",
    "s_x, s_y, q_x, q_y, _ = next(iter(train_processed_source))\n",
    "print(s_x)\n",
    "\n",
    "# for ds in [\n",
    "#     train_processed_source,\n",
    "#     val_processed_source,\n",
    "#     test_processed_source,\n",
    "#     train_processed_target,\n",
    "#     val_processed_target,\n",
    "#     test_processed_target\n",
    "# ]:\n",
    "#     for s_x, s_y, q_x, q_y, _ in ds:\n",
    "#         for X in (s_x, q_x):\n",
    "#             for x in X:\n",
    "#                 assert np.isclose(get_average_magnitude(x.numpy()), 1.0)\n",
    "#                 assert np.isclose(get_average_power(x.numpy()), 1.0)\n",
    "                "
   ]
  },
  {
   "cell_type": "code",
   "execution_count": 21,
   "id": "bbdacba1",
   "metadata": {
    "execution": {
     "iopub.execute_input": "2022-03-18T06:12:51.375784Z",
     "iopub.status.busy": "2022-03-18T06:12:51.375531Z",
     "iopub.status.idle": "2022-03-18T06:12:51.428876Z",
     "shell.execute_reply": "2022-03-18T06:12:51.428432Z"
    },
    "papermill": {
     "duration": 0.074213,
     "end_time": "2022-03-18T06:12:51.428965",
     "exception": false,
     "start_time": "2022-03-18T06:12:51.354752",
     "status": "completed"
    },
    "tags": []
   },
   "outputs": [
    {
     "name": "stdout",
     "output_type": "stream",
     "text": [
      "(2, 200)\n"
     ]
    }
   ],
   "source": [
    "###################################\n",
    "# Build the model\n",
    "###################################\n",
    "# easfsl only wants a tuple for the shape\n",
    "model = Steves_Prototypical_Network(x_net, device=p.device, x_shape=tuple(p.x_shape))\n",
    "optimizer = Adam(params=model.parameters(), lr=p.lr)"
   ]
  },
  {
   "cell_type": "code",
   "execution_count": 22,
   "id": "22b39ac5",
   "metadata": {
    "execution": {
     "iopub.execute_input": "2022-03-18T06:12:51.467763Z",
     "iopub.status.busy": "2022-03-18T06:12:51.467485Z",
     "iopub.status.idle": "2022-03-18T06:24:37.892853Z",
     "shell.execute_reply": "2022-03-18T06:24:37.892617Z"
    },
    "papermill": {
     "duration": 706.4427,
     "end_time": "2022-03-18T06:24:37.892916",
     "exception": false,
     "start_time": "2022-03-18T06:12:51.450216",
     "status": "completed"
    },
    "tags": []
   },
   "outputs": [
    {
     "name": "stdout",
     "output_type": "stream",
     "text": [
      "epoch: 1, [batch: 1 / 2081], examples_per_second: 129.0090, train_label_loss: 1.7664, \n"
     ]
    },
    {
     "name": "stdout",
     "output_type": "stream",
     "text": [
      "epoch: 1, [batch: 209 / 2081], examples_per_second: 3668.1191, train_label_loss: 0.2245, \n"
     ]
    },
    {
     "name": "stdout",
     "output_type": "stream",
     "text": [
      "epoch: 1, [batch: 417 / 2081], examples_per_second: 3700.6916, train_label_loss: 0.7573, \n"
     ]
    },
    {
     "name": "stdout",
     "output_type": "stream",
     "text": [
      "epoch: 1, [batch: 625 / 2081], examples_per_second: 3725.2699, train_label_loss: 0.0157, \n"
     ]
    },
    {
     "name": "stdout",
     "output_type": "stream",
     "text": [
      "epoch: 1, [batch: 833 / 2081], examples_per_second: 3726.5783, train_label_loss: 0.7025, \n"
     ]
    },
    {
     "name": "stdout",
     "output_type": "stream",
     "text": [
      "epoch: 1, [batch: 1041 / 2081], examples_per_second: 3756.7719, train_label_loss: 0.1482, \n"
     ]
    },
    {
     "name": "stdout",
     "output_type": "stream",
     "text": [
      "epoch: 1, [batch: 1249 / 2081], examples_per_second: 3756.8399, train_label_loss: 0.4176, \n"
     ]
    },
    {
     "name": "stdout",
     "output_type": "stream",
     "text": [
      "epoch: 1, [batch: 1457 / 2081], examples_per_second: 3683.7099, train_label_loss: 0.5857, \n"
     ]
    },
    {
     "name": "stdout",
     "output_type": "stream",
     "text": [
      "epoch: 1, [batch: 1665 / 2081], examples_per_second: 3706.7708, train_label_loss: 0.1722, \n"
     ]
    },
    {
     "name": "stdout",
     "output_type": "stream",
     "text": [
      "epoch: 1, [batch: 1873 / 2081], examples_per_second: 3693.0144, train_label_loss: 0.3526, \n"
     ]
    },
    {
     "name": "stdout",
     "output_type": "stream",
     "text": [
      "=============================================================\n",
      "epoch: 1, source_val_acc_label: 0.9473, target_val_acc_label: 0.4768, source_val_label_loss: 0.2562, target_val_label_loss: 2.5693, \n",
      "=============================================================\n"
     ]
    },
    {
     "name": "stdout",
     "output_type": "stream",
     "text": [
      "New best\n"
     ]
    },
    {
     "name": "stdout",
     "output_type": "stream",
     "text": [
      "epoch: 2, [batch: 1 / 2079], examples_per_second: 11.3708, train_label_loss: 0.1184, \n"
     ]
    },
    {
     "name": "stdout",
     "output_type": "stream",
     "text": [
      "epoch: 2, [batch: 208 / 2079], examples_per_second: 3692.7620, train_label_loss: 0.2513, \n"
     ]
    },
    {
     "name": "stdout",
     "output_type": "stream",
     "text": [
      "epoch: 2, [batch: 416 / 2079], examples_per_second: 3720.2472, train_label_loss: 0.0317, \n"
     ]
    },
    {
     "name": "stdout",
     "output_type": "stream",
     "text": [
      "epoch: 2, [batch: 624 / 2079], examples_per_second: 3704.9244, train_label_loss: 0.2425, \n"
     ]
    },
    {
     "name": "stdout",
     "output_type": "stream",
     "text": [
      "epoch: 2, [batch: 832 / 2079], examples_per_second: 3737.1179, train_label_loss: 0.0743, \n"
     ]
    },
    {
     "name": "stdout",
     "output_type": "stream",
     "text": [
      "epoch: 2, [batch: 1040 / 2079], examples_per_second: 3717.7861, train_label_loss: 0.2975, \n"
     ]
    },
    {
     "name": "stdout",
     "output_type": "stream",
     "text": [
      "epoch: 2, [batch: 1247 / 2079], examples_per_second: 3740.6132, train_label_loss: 0.0053, \n"
     ]
    },
    {
     "name": "stdout",
     "output_type": "stream",
     "text": [
      "epoch: 2, [batch: 1455 / 2079], examples_per_second: 3671.3058, train_label_loss: 0.2200, \n"
     ]
    },
    {
     "name": "stdout",
     "output_type": "stream",
     "text": [
      "epoch: 2, [batch: 1663 / 2079], examples_per_second: 3758.2703, train_label_loss: 0.0417, \n"
     ]
    },
    {
     "name": "stdout",
     "output_type": "stream",
     "text": [
      "epoch: 2, [batch: 1871 / 2079], examples_per_second: 3709.0436, train_label_loss: 0.0458, \n"
     ]
    },
    {
     "name": "stdout",
     "output_type": "stream",
     "text": [
      "=============================================================\n",
      "epoch: 2, source_val_acc_label: 0.9667, target_val_acc_label: 0.4518, source_val_label_loss: 0.1645, target_val_label_loss: 2.3036, \n",
      "=============================================================\n"
     ]
    },
    {
     "name": "stdout",
     "output_type": "stream",
     "text": [
      "New best\n"
     ]
    },
    {
     "name": "stdout",
     "output_type": "stream",
     "text": [
      "epoch: 3, [batch: 1 / 2082], examples_per_second: 11.3016, train_label_loss: 0.3574, \n"
     ]
    },
    {
     "name": "stdout",
     "output_type": "stream",
     "text": [
      "epoch: 3, [batch: 209 / 2082], examples_per_second: 3698.3597, train_label_loss: 0.7067, \n"
     ]
    },
    {
     "name": "stdout",
     "output_type": "stream",
     "text": [
      "epoch: 3, [batch: 417 / 2082], examples_per_second: 3728.4911, train_label_loss: 0.4485, \n"
     ]
    },
    {
     "name": "stdout",
     "output_type": "stream",
     "text": [
      "epoch: 3, [batch: 625 / 2082], examples_per_second: 3740.1302, train_label_loss: 0.2545, \n"
     ]
    },
    {
     "name": "stdout",
     "output_type": "stream",
     "text": [
      "epoch: 3, [batch: 833 / 2082], examples_per_second: 3760.2893, train_label_loss: 0.4837, \n"
     ]
    },
    {
     "name": "stdout",
     "output_type": "stream",
     "text": [
      "epoch: 3, [batch: 1041 / 2082], examples_per_second: 3722.1450, train_label_loss: 0.0316, \n"
     ]
    },
    {
     "name": "stdout",
     "output_type": "stream",
     "text": [
      "epoch: 3, [batch: 1249 / 2082], examples_per_second: 3744.2593, train_label_loss: 0.0044, \n"
     ]
    },
    {
     "name": "stdout",
     "output_type": "stream",
     "text": [
      "epoch: 3, [batch: 1457 / 2082], examples_per_second: 3698.5885, train_label_loss: 0.0578, \n"
     ]
    },
    {
     "name": "stdout",
     "output_type": "stream",
     "text": [
      "epoch: 3, [batch: 1665 / 2082], examples_per_second: 3716.6541, train_label_loss: 0.0125, \n"
     ]
    },
    {
     "name": "stdout",
     "output_type": "stream",
     "text": [
      "epoch: 3, [batch: 1873 / 2082], examples_per_second: 3735.8241, train_label_loss: 0.1744, \n"
     ]
    },
    {
     "name": "stdout",
     "output_type": "stream",
     "text": [
      "=============================================================\n",
      "epoch: 3, source_val_acc_label: 0.9721, target_val_acc_label: 0.4160, source_val_label_loss: 0.1276, target_val_label_loss: 2.3258, \n",
      "=============================================================\n"
     ]
    },
    {
     "name": "stdout",
     "output_type": "stream",
     "text": [
      "epoch: 4, [batch: 1 / 2080], examples_per_second: 11.3805, train_label_loss: 0.1929, \n"
     ]
    },
    {
     "name": "stdout",
     "output_type": "stream",
     "text": [
      "epoch: 4, [batch: 208 / 2080], examples_per_second: 3718.6269, train_label_loss: 0.2108, \n"
     ]
    },
    {
     "name": "stdout",
     "output_type": "stream",
     "text": [
      "epoch: 4, [batch: 416 / 2080], examples_per_second: 3702.7637, train_label_loss: 0.0030, \n"
     ]
    },
    {
     "name": "stdout",
     "output_type": "stream",
     "text": [
      "epoch: 4, [batch: 624 / 2080], examples_per_second: 3725.3797, train_label_loss: 0.0050, \n"
     ]
    },
    {
     "name": "stdout",
     "output_type": "stream",
     "text": [
      "epoch: 4, [batch: 832 / 2080], examples_per_second: 3727.7849, train_label_loss: 0.0767, \n"
     ]
    },
    {
     "name": "stdout",
     "output_type": "stream",
     "text": [
      "epoch: 4, [batch: 1040 / 2080], examples_per_second: 3712.1258, train_label_loss: 0.0210, \n"
     ]
    },
    {
     "name": "stdout",
     "output_type": "stream",
     "text": [
      "epoch: 4, [batch: 1248 / 2080], examples_per_second: 3713.4164, train_label_loss: 0.0091, \n"
     ]
    },
    {
     "name": "stdout",
     "output_type": "stream",
     "text": [
      "epoch: 4, [batch: 1456 / 2080], examples_per_second: 3699.8617, train_label_loss: 0.0920, \n"
     ]
    },
    {
     "name": "stdout",
     "output_type": "stream",
     "text": [
      "epoch: 4, [batch: 1664 / 2080], examples_per_second: 3779.2495, train_label_loss: 0.0166, \n"
     ]
    },
    {
     "name": "stdout",
     "output_type": "stream",
     "text": [
      "epoch: 4, [batch: 1872 / 2080], examples_per_second: 3729.1461, train_label_loss: 0.2194, \n"
     ]
    },
    {
     "name": "stdout",
     "output_type": "stream",
     "text": [
      "=============================================================\n",
      "epoch: 4, source_val_acc_label: 0.9754, target_val_acc_label: 0.4095, source_val_label_loss: 0.1273, target_val_label_loss: 2.3769, \n",
      "=============================================================\n"
     ]
    },
    {
     "name": "stdout",
     "output_type": "stream",
     "text": [
      "epoch: 5, [batch: 1 / 2079], examples_per_second: 11.4416, train_label_loss: 0.0086, \n"
     ]
    },
    {
     "name": "stdout",
     "output_type": "stream",
     "text": [
      "epoch: 5, [batch: 208 / 2079], examples_per_second: 3701.7766, train_label_loss: 0.1251, \n"
     ]
    },
    {
     "name": "stdout",
     "output_type": "stream",
     "text": [
      "epoch: 5, [batch: 416 / 2079], examples_per_second: 3728.0900, train_label_loss: 0.1436, \n"
     ]
    },
    {
     "name": "stdout",
     "output_type": "stream",
     "text": [
      "epoch: 5, [batch: 624 / 2079], examples_per_second: 3699.6768, train_label_loss: 0.0057, \n"
     ]
    },
    {
     "name": "stdout",
     "output_type": "stream",
     "text": [
      "epoch: 5, [batch: 832 / 2079], examples_per_second: 3725.8962, train_label_loss: 0.0016, \n"
     ]
    },
    {
     "name": "stdout",
     "output_type": "stream",
     "text": [
      "epoch: 5, [batch: 1040 / 2079], examples_per_second: 3713.3132, train_label_loss: 0.3740, \n"
     ]
    },
    {
     "name": "stdout",
     "output_type": "stream",
     "text": [
      "epoch: 5, [batch: 1247 / 2079], examples_per_second: 3742.8238, train_label_loss: 0.2773, \n"
     ]
    },
    {
     "name": "stdout",
     "output_type": "stream",
     "text": [
      "epoch: 5, [batch: 1455 / 2079], examples_per_second: 3692.2731, train_label_loss: 0.2722, \n"
     ]
    },
    {
     "name": "stdout",
     "output_type": "stream",
     "text": [
      "epoch: 5, [batch: 1663 / 2079], examples_per_second: 3728.6712, train_label_loss: 0.0725, \n"
     ]
    },
    {
     "name": "stdout",
     "output_type": "stream",
     "text": [
      "epoch: 5, [batch: 1871 / 2079], examples_per_second: 3738.4761, train_label_loss: 0.3082, \n"
     ]
    },
    {
     "name": "stdout",
     "output_type": "stream",
     "text": [
      "=============================================================\n",
      "epoch: 5, source_val_acc_label: 0.9783, target_val_acc_label: 0.3464, source_val_label_loss: 0.1199, target_val_label_loss: 2.3486, \n",
      "=============================================================\n"
     ]
    },
    {
     "name": "stdout",
     "output_type": "stream",
     "text": [
      "epoch: 6, [batch: 1 / 2081], examples_per_second: 11.3554, train_label_loss: 0.3619, \n"
     ]
    },
    {
     "name": "stdout",
     "output_type": "stream",
     "text": [
      "epoch: 6, [batch: 209 / 2081], examples_per_second: 3722.0882, train_label_loss: 0.0041, \n"
     ]
    },
    {
     "name": "stdout",
     "output_type": "stream",
     "text": [
      "epoch: 6, [batch: 417 / 2081], examples_per_second: 3736.8972, train_label_loss: 0.0674, \n"
     ]
    },
    {
     "name": "stdout",
     "output_type": "stream",
     "text": [
      "epoch: 6, [batch: 625 / 2081], examples_per_second: 3750.9841, train_label_loss: 0.0092, \n"
     ]
    },
    {
     "name": "stdout",
     "output_type": "stream",
     "text": [
      "epoch: 6, [batch: 833 / 2081], examples_per_second: 3745.6467, train_label_loss: 0.0123, \n"
     ]
    },
    {
     "name": "stdout",
     "output_type": "stream",
     "text": [
      "epoch: 6, [batch: 1041 / 2081], examples_per_second: 3739.6414, train_label_loss: 0.2180, \n"
     ]
    },
    {
     "name": "stdout",
     "output_type": "stream",
     "text": [
      "epoch: 6, [batch: 1249 / 2081], examples_per_second: 3730.9790, train_label_loss: 0.0269, \n"
     ]
    },
    {
     "name": "stdout",
     "output_type": "stream",
     "text": [
      "epoch: 6, [batch: 1457 / 2081], examples_per_second: 3735.2831, train_label_loss: 0.0003, \n"
     ]
    },
    {
     "name": "stdout",
     "output_type": "stream",
     "text": [
      "epoch: 6, [batch: 1665 / 2081], examples_per_second: 3692.7850, train_label_loss: 0.0431, \n"
     ]
    },
    {
     "name": "stdout",
     "output_type": "stream",
     "text": [
      "epoch: 6, [batch: 1873 / 2081], examples_per_second: 3736.5399, train_label_loss: 0.0128, \n"
     ]
    },
    {
     "name": "stdout",
     "output_type": "stream",
     "text": [
      "=============================================================\n",
      "epoch: 6, source_val_acc_label: 0.9767, target_val_acc_label: 0.2703, source_val_label_loss: 0.1092, target_val_label_loss: 2.2589, \n",
      "=============================================================\n"
     ]
    },
    {
     "name": "stdout",
     "output_type": "stream",
     "text": [
      "New best\n"
     ]
    },
    {
     "name": "stdout",
     "output_type": "stream",
     "text": [
      "epoch: 7, [batch: 1 / 2075], examples_per_second: 11.2842, train_label_loss: 0.0130, \n"
     ]
    },
    {
     "name": "stdout",
     "output_type": "stream",
     "text": [
      "epoch: 7, [batch: 208 / 2075], examples_per_second: 3673.2082, train_label_loss: 0.0003, \n"
     ]
    },
    {
     "name": "stdout",
     "output_type": "stream",
     "text": [
      "epoch: 7, [batch: 415 / 2075], examples_per_second: 3706.3121, train_label_loss: 0.0007, \n"
     ]
    },
    {
     "name": "stdout",
     "output_type": "stream",
     "text": [
      "epoch: 7, [batch: 623 / 2075], examples_per_second: 3713.7013, train_label_loss: 0.1059, \n"
     ]
    },
    {
     "name": "stdout",
     "output_type": "stream",
     "text": [
      "epoch: 7, [batch: 830 / 2075], examples_per_second: 3732.2487, train_label_loss: 0.1154, \n"
     ]
    },
    {
     "name": "stdout",
     "output_type": "stream",
     "text": [
      "epoch: 7, [batch: 1038 / 2075], examples_per_second: 3704.2022, train_label_loss: 0.0119, \n"
     ]
    },
    {
     "name": "stdout",
     "output_type": "stream",
     "text": [
      "epoch: 7, [batch: 1245 / 2075], examples_per_second: 3724.5908, train_label_loss: 0.0011, \n"
     ]
    },
    {
     "name": "stdout",
     "output_type": "stream",
     "text": [
      "epoch: 7, [batch: 1452 / 2075], examples_per_second: 3643.2482, train_label_loss: 0.0568, \n"
     ]
    },
    {
     "name": "stdout",
     "output_type": "stream",
     "text": [
      "epoch: 7, [batch: 1660 / 2075], examples_per_second: 3734.7530, train_label_loss: 0.4111, \n"
     ]
    },
    {
     "name": "stdout",
     "output_type": "stream",
     "text": [
      "epoch: 7, [batch: 1867 / 2075], examples_per_second: 3743.4905, train_label_loss: 0.0193, \n"
     ]
    },
    {
     "name": "stdout",
     "output_type": "stream",
     "text": [
      "=============================================================\n",
      "epoch: 7, source_val_acc_label: 0.9790, target_val_acc_label: 0.2835, source_val_label_loss: 0.0997, target_val_label_loss: 2.3541, \n",
      "=============================================================\n"
     ]
    },
    {
     "name": "stdout",
     "output_type": "stream",
     "text": [
      "epoch: 8, [batch: 1 / 2082], examples_per_second: 11.3788, train_label_loss: 0.0330, \n"
     ]
    },
    {
     "name": "stdout",
     "output_type": "stream",
     "text": [
      "epoch: 8, [batch: 209 / 2082], examples_per_second: 3706.5438, train_label_loss: 0.0090, \n"
     ]
    },
    {
     "name": "stdout",
     "output_type": "stream",
     "text": [
      "epoch: 8, [batch: 417 / 2082], examples_per_second: 3715.1493, train_label_loss: 0.0357, \n"
     ]
    },
    {
     "name": "stdout",
     "output_type": "stream",
     "text": [
      "epoch: 8, [batch: 625 / 2082], examples_per_second: 3696.8177, train_label_loss: 0.4595, \n"
     ]
    },
    {
     "name": "stdout",
     "output_type": "stream",
     "text": [
      "epoch: 8, [batch: 833 / 2082], examples_per_second: 3757.3599, train_label_loss: 0.0001, \n"
     ]
    },
    {
     "name": "stdout",
     "output_type": "stream",
     "text": [
      "epoch: 8, [batch: 1041 / 2082], examples_per_second: 3705.8876, train_label_loss: 0.0008, \n"
     ]
    },
    {
     "name": "stdout",
     "output_type": "stream",
     "text": [
      "epoch: 8, [batch: 1249 / 2082], examples_per_second: 3741.9527, train_label_loss: 0.0042, \n"
     ]
    },
    {
     "name": "stdout",
     "output_type": "stream",
     "text": [
      "epoch: 8, [batch: 1457 / 2082], examples_per_second: 3740.7311, train_label_loss: 0.0015, \n"
     ]
    },
    {
     "name": "stdout",
     "output_type": "stream",
     "text": [
      "epoch: 8, [batch: 1665 / 2082], examples_per_second: 3682.0932, train_label_loss: 0.0146, \n"
     ]
    },
    {
     "name": "stdout",
     "output_type": "stream",
     "text": [
      "epoch: 8, [batch: 1873 / 2082], examples_per_second: 3737.6349, train_label_loss: 0.0574, \n"
     ]
    },
    {
     "name": "stdout",
     "output_type": "stream",
     "text": [
      "=============================================================\n",
      "epoch: 8, source_val_acc_label: 0.9762, target_val_acc_label: 0.2558, source_val_label_loss: 0.1116, target_val_label_loss: 2.3073, \n",
      "=============================================================\n"
     ]
    },
    {
     "name": "stdout",
     "output_type": "stream",
     "text": [
      "epoch: 9, [batch: 1 / 2079], examples_per_second: 11.3611, train_label_loss: 0.0148, \n"
     ]
    },
    {
     "name": "stdout",
     "output_type": "stream",
     "text": [
      "epoch: 9, [batch: 208 / 2079], examples_per_second: 3684.8016, train_label_loss: 0.0003, \n"
     ]
    },
    {
     "name": "stdout",
     "output_type": "stream",
     "text": [
      "epoch: 9, [batch: 416 / 2079], examples_per_second: 3707.1884, train_label_loss: 0.0010, \n"
     ]
    },
    {
     "name": "stdout",
     "output_type": "stream",
     "text": [
      "epoch: 9, [batch: 624 / 2079], examples_per_second: 3717.6483, train_label_loss: 0.0111, \n"
     ]
    },
    {
     "name": "stdout",
     "output_type": "stream",
     "text": [
      "epoch: 9, [batch: 832 / 2079], examples_per_second: 3728.2113, train_label_loss: 0.0422, \n"
     ]
    },
    {
     "name": "stdout",
     "output_type": "stream",
     "text": [
      "epoch: 9, [batch: 1040 / 2079], examples_per_second: 3716.2134, train_label_loss: 0.0261, \n"
     ]
    },
    {
     "name": "stdout",
     "output_type": "stream",
     "text": [
      "epoch: 9, [batch: 1247 / 2079], examples_per_second: 3723.9129, train_label_loss: 0.0011, \n"
     ]
    },
    {
     "name": "stdout",
     "output_type": "stream",
     "text": [
      "epoch: 9, [batch: 1455 / 2079], examples_per_second: 3721.3690, train_label_loss: 0.0114, \n"
     ]
    },
    {
     "name": "stdout",
     "output_type": "stream",
     "text": [
      "epoch: 9, [batch: 1663 / 2079], examples_per_second: 3690.2324, train_label_loss: 0.1284, \n"
     ]
    },
    {
     "name": "stdout",
     "output_type": "stream",
     "text": [
      "epoch: 9, [batch: 1871 / 2079], examples_per_second: 3743.9675, train_label_loss: 0.1527, \n"
     ]
    },
    {
     "name": "stdout",
     "output_type": "stream",
     "text": [
      "=============================================================\n",
      "epoch: 9, source_val_acc_label: 0.9784, target_val_acc_label: 0.2967, source_val_label_loss: 0.1079, target_val_label_loss: 2.2411, \n",
      "=============================================================\n"
     ]
    },
    {
     "name": "stdout",
     "output_type": "stream",
     "text": [
      "New best\n"
     ]
    },
    {
     "name": "stdout",
     "output_type": "stream",
     "text": [
      "epoch: 10, [batch: 1 / 2078], examples_per_second: 11.3432, train_label_loss: 0.0103, \n"
     ]
    },
    {
     "name": "stdout",
     "output_type": "stream",
     "text": [
      "epoch: 10, [batch: 208 / 2078], examples_per_second: 3695.6334, train_label_loss: 0.0008, \n"
     ]
    },
    {
     "name": "stdout",
     "output_type": "stream",
     "text": [
      "epoch: 10, [batch: 416 / 2078], examples_per_second: 3720.3793, train_label_loss: 0.0285, \n"
     ]
    },
    {
     "name": "stdout",
     "output_type": "stream",
     "text": [
      "epoch: 10, [batch: 624 / 2078], examples_per_second: 3708.3809, train_label_loss: 0.0593, \n"
     ]
    },
    {
     "name": "stdout",
     "output_type": "stream",
     "text": [
      "epoch: 10, [batch: 831 / 2078], examples_per_second: 3745.2974, train_label_loss: 0.2165, \n"
     ]
    },
    {
     "name": "stdout",
     "output_type": "stream",
     "text": [
      "epoch: 10, [batch: 1039 / 2078], examples_per_second: 3727.8182, train_label_loss: 0.0000, \n"
     ]
    },
    {
     "name": "stdout",
     "output_type": "stream",
     "text": [
      "epoch: 10, [batch: 1247 / 2078], examples_per_second: 3737.8773, train_label_loss: 0.1198, \n"
     ]
    },
    {
     "name": "stdout",
     "output_type": "stream",
     "text": [
      "epoch: 10, [batch: 1454 / 2078], examples_per_second: 3737.5742, train_label_loss: 0.2783, \n"
     ]
    },
    {
     "name": "stdout",
     "output_type": "stream",
     "text": [
      "epoch: 10, [batch: 1662 / 2078], examples_per_second: 3714.9122, train_label_loss: 0.1638, \n"
     ]
    },
    {
     "name": "stdout",
     "output_type": "stream",
     "text": [
      "epoch: 10, [batch: 1870 / 2078], examples_per_second: 3763.5487, train_label_loss: 0.2314, \n"
     ]
    },
    {
     "name": "stdout",
     "output_type": "stream",
     "text": [
      "=============================================================\n",
      "epoch: 10, source_val_acc_label: 0.9765, target_val_acc_label: 0.2615, source_val_label_loss: 0.1039, target_val_label_loss: 2.3264, \n",
      "=============================================================\n"
     ]
    },
    {
     "name": "stdout",
     "output_type": "stream",
     "text": [
      "epoch: 11, [batch: 1 / 2075], examples_per_second: 11.4819, train_label_loss: 0.0021, \n"
     ]
    },
    {
     "name": "stdout",
     "output_type": "stream",
     "text": [
      "epoch: 11, [batch: 208 / 2075], examples_per_second: 3662.4211, train_label_loss: 0.0072, \n"
     ]
    },
    {
     "name": "stdout",
     "output_type": "stream",
     "text": [
      "epoch: 11, [batch: 415 / 2075], examples_per_second: 3698.5027, train_label_loss: 0.1145, \n"
     ]
    },
    {
     "name": "stdout",
     "output_type": "stream",
     "text": [
      "epoch: 11, [batch: 623 / 2075], examples_per_second: 3701.3106, train_label_loss: 0.0047, \n"
     ]
    },
    {
     "name": "stdout",
     "output_type": "stream",
     "text": [
      "epoch: 11, [batch: 830 / 2075], examples_per_second: 3713.1033, train_label_loss: 0.1704, \n"
     ]
    },
    {
     "name": "stdout",
     "output_type": "stream",
     "text": [
      "epoch: 11, [batch: 1038 / 2075], examples_per_second: 3698.3756, train_label_loss: 0.0077, \n"
     ]
    },
    {
     "name": "stdout",
     "output_type": "stream",
     "text": [
      "epoch: 11, [batch: 1245 / 2075], examples_per_second: 3709.5657, train_label_loss: 0.0066, \n"
     ]
    },
    {
     "name": "stdout",
     "output_type": "stream",
     "text": [
      "epoch: 11, [batch: 1452 / 2075], examples_per_second: 3717.6624, train_label_loss: 0.0176, \n"
     ]
    },
    {
     "name": "stdout",
     "output_type": "stream",
     "text": [
      "epoch: 11, [batch: 1660 / 2075], examples_per_second: 3694.7849, train_label_loss: 0.0125, \n"
     ]
    },
    {
     "name": "stdout",
     "output_type": "stream",
     "text": [
      "epoch: 11, [batch: 1867 / 2075], examples_per_second: 3733.1921, train_label_loss: 0.0130, \n"
     ]
    },
    {
     "name": "stdout",
     "output_type": "stream",
     "text": [
      "=============================================================\n",
      "epoch: 11, source_val_acc_label: 0.9783, target_val_acc_label: 0.2371, source_val_label_loss: 0.1022, target_val_label_loss: 2.3763, \n",
      "=============================================================\n"
     ]
    },
    {
     "name": "stdout",
     "output_type": "stream",
     "text": [
      "epoch: 12, [batch: 1 / 2081], examples_per_second: 11.4902, train_label_loss: 0.0177, \n"
     ]
    },
    {
     "name": "stdout",
     "output_type": "stream",
     "text": [
      "epoch: 12, [batch: 209 / 2081], examples_per_second: 3684.7177, train_label_loss: 0.0002, \n"
     ]
    },
    {
     "name": "stdout",
     "output_type": "stream",
     "text": [
      "epoch: 12, [batch: 417 / 2081], examples_per_second: 3690.8298, train_label_loss: 0.0094, \n"
     ]
    },
    {
     "name": "stdout",
     "output_type": "stream",
     "text": [
      "epoch: 12, [batch: 625 / 2081], examples_per_second: 3712.9322, train_label_loss: 0.0030, \n"
     ]
    },
    {
     "name": "stdout",
     "output_type": "stream",
     "text": [
      "epoch: 12, [batch: 833 / 2081], examples_per_second: 3694.6878, train_label_loss: 0.0164, \n"
     ]
    },
    {
     "name": "stdout",
     "output_type": "stream",
     "text": [
      "epoch: 12, [batch: 1041 / 2081], examples_per_second: 3696.7289, train_label_loss: 0.0049, \n"
     ]
    },
    {
     "name": "stdout",
     "output_type": "stream",
     "text": [
      "epoch: 12, [batch: 1249 / 2081], examples_per_second: 3729.8722, train_label_loss: 0.0793, \n"
     ]
    },
    {
     "name": "stdout",
     "output_type": "stream",
     "text": [
      "epoch: 12, [batch: 1457 / 2081], examples_per_second: 3712.3377, train_label_loss: 0.2306, \n"
     ]
    },
    {
     "name": "stdout",
     "output_type": "stream",
     "text": [
      "epoch: 12, [batch: 1665 / 2081], examples_per_second: 3674.4345, train_label_loss: 0.0501, \n"
     ]
    },
    {
     "name": "stdout",
     "output_type": "stream",
     "text": [
      "epoch: 12, [batch: 1873 / 2081], examples_per_second: 3731.6897, train_label_loss: 0.0379, \n"
     ]
    },
    {
     "name": "stdout",
     "output_type": "stream",
     "text": [
      "=============================================================\n",
      "epoch: 12, source_val_acc_label: 0.9782, target_val_acc_label: 0.2205, source_val_label_loss: 0.0981, target_val_label_loss: 2.4421, \n",
      "=============================================================\n"
     ]
    },
    {
     "name": "stdout",
     "output_type": "stream",
     "text": [
      "epoch: 13, [batch: 1 / 2081], examples_per_second: 11.3056, train_label_loss: 0.0028, \n"
     ]
    },
    {
     "name": "stdout",
     "output_type": "stream",
     "text": [
      "epoch: 13, [batch: 209 / 2081], examples_per_second: 3677.6916, train_label_loss: 0.1519, \n"
     ]
    },
    {
     "name": "stdout",
     "output_type": "stream",
     "text": [
      "epoch: 13, [batch: 417 / 2081], examples_per_second: 3691.6238, train_label_loss: 0.2229, \n"
     ]
    },
    {
     "name": "stdout",
     "output_type": "stream",
     "text": [
      "epoch: 13, [batch: 625 / 2081], examples_per_second: 3714.1303, train_label_loss: 0.0065, \n"
     ]
    },
    {
     "name": "stdout",
     "output_type": "stream",
     "text": [
      "epoch: 13, [batch: 833 / 2081], examples_per_second: 3715.1163, train_label_loss: 0.0010, \n"
     ]
    },
    {
     "name": "stdout",
     "output_type": "stream",
     "text": [
      "epoch: 13, [batch: 1041 / 2081], examples_per_second: 3709.2589, train_label_loss: 0.0007, \n"
     ]
    },
    {
     "name": "stdout",
     "output_type": "stream",
     "text": [
      "epoch: 13, [batch: 1249 / 2081], examples_per_second: 3716.3596, train_label_loss: 0.1000, \n"
     ]
    },
    {
     "name": "stdout",
     "output_type": "stream",
     "text": [
      "epoch: 13, [batch: 1457 / 2081], examples_per_second: 3708.2959, train_label_loss: 0.0039, \n"
     ]
    },
    {
     "name": "stdout",
     "output_type": "stream",
     "text": [
      "epoch: 13, [batch: 1665 / 2081], examples_per_second: 3655.3051, train_label_loss: 0.0199, \n"
     ]
    },
    {
     "name": "stdout",
     "output_type": "stream",
     "text": [
      "epoch: 13, [batch: 1873 / 2081], examples_per_second: 3688.8309, train_label_loss: 0.0345, \n"
     ]
    },
    {
     "name": "stdout",
     "output_type": "stream",
     "text": [
      "=============================================================\n",
      "epoch: 13, source_val_acc_label: 0.9771, target_val_acc_label: 0.2417, source_val_label_loss: 0.1136, target_val_label_loss: 2.2852, \n",
      "=============================================================\n"
     ]
    },
    {
     "name": "stdout",
     "output_type": "stream",
     "text": [
      "Patience (3) exhausted\n"
     ]
    }
   ],
   "source": [
    "###################################\n",
    "# train\n",
    "###################################\n",
    "jig = PTN_Train_Eval_Test_Jig(model, p.BEST_MODEL_PATH, p.device)\n",
    "\n",
    "jig.train(\n",
    "    train_iterable=datasets.source.processed.train,\n",
    "    source_val_iterable=datasets.source.processed.val,\n",
    "    target_val_iterable=datasets.target.processed.val,\n",
    "    num_epochs=p.n_epoch,\n",
    "    num_logs_per_epoch=p.NUM_LOGS_PER_EPOCH,\n",
    "    patience=p.patience,\n",
    "    optimizer=optimizer,\n",
    "    criteria_for_best=p.criteria_for_best,\n",
    ")"
   ]
  },
  {
   "cell_type": "code",
   "execution_count": 23,
   "id": "31e8fabf",
   "metadata": {
    "execution": {
     "iopub.execute_input": "2022-03-18T06:24:37.977303Z",
     "iopub.status.busy": "2022-03-18T06:24:37.976945Z",
     "iopub.status.idle": "2022-03-18T06:24:37.992493Z",
     "shell.execute_reply": "2022-03-18T06:24:37.992249Z"
    },
    "papermill": {
     "duration": 0.058019,
     "end_time": "2022-03-18T06:24:37.992558",
     "exception": false,
     "start_time": "2022-03-18T06:24:37.934539",
     "status": "completed"
    },
    "tags": []
   },
   "outputs": [],
   "source": [
    "total_experiment_time_secs = time.time() - start_time_secs"
   ]
  },
  {
   "cell_type": "code",
   "execution_count": 24,
   "id": "87b9595b",
   "metadata": {
    "execution": {
     "iopub.execute_input": "2022-03-18T06:24:38.076869Z",
     "iopub.status.busy": "2022-03-18T06:24:38.076457Z",
     "iopub.status.idle": "2022-03-18T06:25:40.407517Z",
     "shell.execute_reply": "2022-03-18T06:25:40.407750Z"
    },
    "papermill": {
     "duration": 62.375074,
     "end_time": "2022-03-18T06:25:40.407833",
     "exception": false,
     "start_time": "2022-03-18T06:24:38.032759",
     "status": "completed"
    },
    "tags": []
   },
   "outputs": [],
   "source": [
    "###################################\n",
    "# Evaluate the model\n",
    "###################################\n",
    "source_test_label_accuracy, source_test_label_loss = jig.test(datasets.source.processed.test)\n",
    "target_test_label_accuracy, target_test_label_loss = jig.test(datasets.target.processed.test)\n",
    "\n",
    "source_val_label_accuracy, source_val_label_loss = jig.test(datasets.source.processed.val)\n",
    "target_val_label_accuracy, target_val_label_loss = jig.test(datasets.target.processed.val)\n",
    "\n",
    "history = jig.get_history()\n",
    "\n",
    "total_epochs_trained = len(history[\"epoch_indices\"])\n",
    "\n",
    "val_dl = Iterable_Aggregator((datasets.source.original.val,datasets.target.original.val))\n",
    "\n",
    "confusion = ptn_confusion_by_domain_over_dataloader(model, p.device, val_dl)\n",
    "per_domain_accuracy = per_domain_accuracy_from_confusion(confusion)\n",
    "\n",
    "# Add a key to per_domain_accuracy for if it was a source domain\n",
    "for domain, accuracy in per_domain_accuracy.items():\n",
    "    per_domain_accuracy[domain] = {\n",
    "        \"accuracy\": accuracy,\n",
    "        \"source?\": domain in p.domains_source\n",
    "    }\n",
    "\n",
    "# Do an independent accuracy assesment JUST TO BE SURE!\n",
    "# _source_test_label_accuracy = independent_accuracy_assesment(model, datasets.source.processed.test, p.device)\n",
    "# _target_test_label_accuracy = independent_accuracy_assesment(model, datasets.target.processed.test, p.device)\n",
    "# _source_val_label_accuracy = independent_accuracy_assesment(model, datasets.source.processed.val, p.device)\n",
    "# _target_val_label_accuracy = independent_accuracy_assesment(model, datasets.target.processed.val, p.device)\n",
    "\n",
    "# assert(_source_test_label_accuracy == source_test_label_accuracy)\n",
    "# assert(_target_test_label_accuracy == target_test_label_accuracy)\n",
    "# assert(_source_val_label_accuracy == source_val_label_accuracy)\n",
    "# assert(_target_val_label_accuracy == target_val_label_accuracy)\n",
    "\n",
    "experiment = {\n",
    "    \"experiment_name\": p.experiment_name,\n",
    "    \"parameters\": dict(p),\n",
    "    \"results\": {\n",
    "        \"source_test_label_accuracy\": source_test_label_accuracy,\n",
    "        \"source_test_label_loss\": source_test_label_loss,\n",
    "        \"target_test_label_accuracy\": target_test_label_accuracy,\n",
    "        \"target_test_label_loss\": target_test_label_loss,\n",
    "        \"source_val_label_accuracy\": source_val_label_accuracy,\n",
    "        \"source_val_label_loss\": source_val_label_loss,\n",
    "        \"target_val_label_accuracy\": target_val_label_accuracy,\n",
    "        \"target_val_label_loss\": target_val_label_loss,\n",
    "        \"total_epochs_trained\": total_epochs_trained,\n",
    "        \"total_experiment_time_secs\": total_experiment_time_secs,\n",
    "        \"confusion\": confusion,\n",
    "        \"per_domain_accuracy\": per_domain_accuracy,\n",
    "    },\n",
    "    \"history\": history,\n",
    "    \"dataset_metrics\": get_dataset_metrics(datasets, \"ptn\"),\n",
    "}"
   ]
  },
  {
   "cell_type": "code",
   "execution_count": 25,
   "id": "54a21829",
   "metadata": {
    "execution": {
     "iopub.execute_input": "2022-03-18T06:25:40.495913Z",
     "iopub.status.busy": "2022-03-18T06:25:40.495658Z",
     "iopub.status.idle": "2022-03-18T06:25:40.617264Z",
     "shell.execute_reply": "2022-03-18T06:25:40.617637Z"
    },
    "papermill": {
     "duration": 0.165009,
     "end_time": "2022-03-18T06:25:40.617743",
     "exception": false,
     "start_time": "2022-03-18T06:25:40.452734",
     "status": "completed"
    },
    "tags": []
   },
   "outputs": [
    {
     "data": {
      "image/png": "[encoded data removed]",
      "text/plain": [
       "<Figure size 1080x504 with 1 Axes>"
      ]
     },
     "metadata": {
      "needs_background": "light"
     },
     "output_type": "display_data"
    }
   ],
   "source": [
    "ax = get_loss_curve(experiment)\n",
    "plt.show()"
   ]
  },
  {
   "cell_type": "code",
   "execution_count": 26,
   "id": "fd8a0f60",
   "metadata": {
    "execution": {
     "iopub.execute_input": "2022-03-18T06:25:40.707570Z",
     "iopub.status.busy": "2022-03-18T06:25:40.707321Z",
     "iopub.status.idle": "2022-03-18T06:25:40.852084Z",
     "shell.execute_reply": "2022-03-18T06:25:40.851819Z"
    },
    "papermill": {
     "duration": 0.188299,
     "end_time": "2022-03-18T06:25:40.852146",
     "exception": false,
     "start_time": "2022-03-18T06:25:40.663847",
     "status": "completed"
    },
    "tags": []
   },
   "outputs": [
    {
     "data": {
      "text/plain": [
       "<AxesSubplot:title={'center':'Results'}>"
      ]
     },
     "execution_count": 26,
     "metadata": {},
     "output_type": "execute_result"
    },
    {
     "data": {
      "image/png": "[encoded data removed]",
      "text/plain": [
       "<Figure size 1080x504 with 1 Axes>"
      ]
     },
     "metadata": {
      "needs_background": "light"
     },
     "output_type": "display_data"
    }
   ],
   "source": [
    "get_results_table(experiment)"
   ]
  },
  {
   "cell_type": "code",
   "execution_count": 27,
   "id": "cf8dc689",
   "metadata": {
    "execution": {
     "iopub.execute_input": "2022-03-18T06:25:40.947742Z",
     "iopub.status.busy": "2022-03-18T06:25:40.947488Z",
     "iopub.status.idle": "2022-03-18T06:25:41.107499Z",
     "shell.execute_reply": "2022-03-18T06:25:41.107103Z"
    },
    "papermill": {
     "duration": 0.208106,
     "end_time": "2022-03-18T06:25:41.107588",
     "exception": false,
     "start_time": "2022-03-18T06:25:40.899482",
     "status": "completed"
    },
    "tags": []
   },
   "outputs": [
    {
     "data": {
      "text/plain": [
       "<AxesSubplot:title={'center':'Per Domain Validation Accuracy'}, xlabel='domain'>"
      ]
     },
     "execution_count": 27,
     "metadata": {},
     "output_type": "execute_result"
    },
    {
     "data": {
      "image/png": "[encoded data removed]",
      "text/plain": [
       "<Figure size 1080x504 with 1 Axes>"
      ]
     },
     "metadata": {
      "needs_background": "light"
     },
     "output_type": "display_data"
    }
   ],
   "source": [
    "get_domain_accuracies(experiment)"
   ]
  },
  {
   "cell_type": "code",
   "execution_count": 28,
   "id": "a74ae082",
   "metadata": {
    "execution": {
     "iopub.execute_input": "2022-03-18T06:25:41.201325Z",
     "iopub.status.busy": "2022-03-18T06:25:41.201070Z",
     "iopub.status.idle": "2022-03-18T06:25:41.217490Z",
     "shell.execute_reply": "2022-03-18T06:25:41.217168Z"
    },
    "papermill": {
     "duration": 0.062847,
     "end_time": "2022-03-18T06:25:41.217564",
     "exception": false,
     "start_time": "2022-03-18T06:25:41.154717",
     "status": "completed"
    },
    "tags": []
   },
   "outputs": [
    {
     "name": "stdout",
     "output_type": "stream",
     "text": [
      "Source Test Label Accuracy: 0.9752782534246576 Target Test Label Accuracy: 0.30315755208333334\n",
      "Source Val Label Accuracy: 0.9783818493150684 Target Val Label Accuracy: 0.2967122395833333\n"
     ]
    }
   ],
   "source": [
    "print(\"Source Test Label Accuracy:\", experiment[\"results\"][\"source_test_label_accuracy\"], \"Target Test Label Accuracy:\", experiment[\"results\"][\"target_test_label_accuracy\"])\n",
    "print(\"Source Val Label Accuracy:\", experiment[\"results\"][\"source_val_label_accuracy\"], \"Target Val Label Accuracy:\", experiment[\"results\"][\"target_val_label_accuracy\"])"
   ]
  },
  {
   "cell_type": "code",
   "execution_count": 29,
   "id": "dacca602",
   "metadata": {
    "execution": {
     "iopub.execute_input": "2022-03-18T06:25:41.312348Z",
     "iopub.status.busy": "2022-03-18T06:25:41.312086Z",
     "iopub.status.idle": "2022-03-18T06:25:41.329150Z",
     "shell.execute_reply": "2022-03-18T06:25:41.329526Z"
    },
    "papermill": {
     "duration": 0.063346,
     "end_time": "2022-03-18T06:25:41.329630",
     "exception": false,
     "start_time": "2022-03-18T06:25:41.266284",
     "status": "completed"
    },
    "tags": [
     "experiment_json"
    ]
   },
   "outputs": [
    {
     "data": {
      "text/plain": [
       "'{\"experiment_name\": \"tl_3-filter:cores+wisig -> oracle.run1.framed\", \"parameters\": {\"experiment_name\": \"tl_3-filter:cores+wisig -> oracle.run1.framed\", \"device\": \"cuda\", \"lr\": 0.001, \"seed\": 1337, \"dataset_seed\": 1337, \"x_shape\": [2, 200], \"n_shot\": 3, \"n_query\": 2, \"train_k_factor\": 3, \"val_k_factor\": 2, \"test_k_factor\": 2, \"torch_default_dtype\": \"torch.float32\", \"n_epoch\": 50, \"patience\": 3, \"criteria_for_best\": \"target_loss\", \"x_net\": [{\"class\": \"nnReshape\", \"kargs\": {\"shape\": [-1, 1, 2, 200]}}, {\"class\": \"Conv2d\", \"kargs\": {\"in_channels\": 1, \"out_channels\": 256, \"kernel_size\": [1, 7], \"bias\": false, \"padding\": [0, 3]}}, {\"class\": \"ReLU\", \"kargs\": {\"inplace\": true}}, {\"class\": \"BatchNorm2d\", \"kargs\": {\"num_features\": 256}}, {\"class\": \"Conv2d\", \"kargs\": {\"in_channels\": 256, \"out_channels\": 80, \"kernel_size\": [2, 7], \"bias\": true, \"padding\": [0, 3]}}, {\"class\": \"ReLU\", \"kargs\": {\"inplace\": true}}, {\"class\": \"BatchNorm2d\", \"kargs\": {\"num_features\": 80}}, {\"class\": \"Flatten\", \"kargs\": {}}, {\"class\": \"Linear\", \"kargs\": {\"in_features\": 16000, \"out_features\": 256}}, {\"class\": \"ReLU\", \"kargs\": {\"inplace\": true}}, {\"class\": \"BatchNorm1d\", \"kargs\": {\"num_features\": 256}}, {\"class\": \"Linear\", \"kargs\": {\"in_features\": 256, \"out_features\": 256}}], \"NUM_LOGS_PER_EPOCH\": 10, \"BEST_MODEL_PATH\": \"./best_model.pth\", \"n_way\": 16, \"datasets\": [{\"labels\": [\"1-10.\", \"1-11.\", \"1-15.\", \"1-16.\", \"1-17.\", \"1-18.\", \"1-19.\", \"10-4.\", \"10-7.\", \"11-1.\", \"11-14.\", \"11-17.\", \"11-20.\", \"11-7.\", \"13-20.\", \"13-8.\", \"14-10.\", \"14-11.\", \"14-14.\", \"14-7.\", \"15-1.\", \"15-20.\", \"16-1.\", \"16-16.\", \"17-10.\", \"17-11.\", \"17-2.\", \"19-1.\", \"19-16.\", \"19-19.\", \"19-20.\", \"19-3.\", \"2-10.\", \"2-11.\", \"2-17.\", \"2-18.\", \"2-20.\", \"2-3.\", \"2-4.\", \"2-5.\", \"2-6.\", \"2-7.\", \"2-8.\", \"3-13.\", \"3-18.\", \"3-3.\", \"4-1.\", \"4-10.\", \"4-11.\", \"4-19.\", \"5-5.\", \"6-15.\", \"7-10.\", \"7-14.\", \"8-18.\", \"8-20.\", \"8-3.\", \"8-8.\"], \"domains\": [1, 2, 3, 4, 5], \"num_examples_per_domain_per_label\": 100, \"pickle_path\": \"/mnt/wd500GB/CSC500/csc500-main/datasets/cores.stratified_ds.2022A.pkl\", \"source_or_target_dataset\": \"source\", \"x_transforms\": [\"lowpass_+/-10MHz\", \"take_200\"], \"episode_transforms\": [], \"domain_prefix\": \"C_A_\"}, {\"labels\": [\"1-10\", \"1-12\", \"1-14\", \"1-16\", \"1-18\", \"1-19\", \"1-8\", \"10-11\", \"10-17\", \"10-4\", \"10-7\", \"11-1\", \"11-10\", \"11-19\", \"11-20\", \"11-4\", \"11-7\", \"12-19\", \"12-20\", \"12-7\", \"13-14\", \"13-18\", \"13-19\", \"13-20\", \"13-3\", \"13-7\", \"14-10\", \"14-11\", \"14-12\", \"14-13\", \"14-14\", \"14-19\", \"14-20\", \"14-7\", \"14-8\", \"14-9\", \"15-1\", \"15-19\", \"15-6\", \"16-1\", \"16-16\", \"16-19\", \"16-20\", \"17-10\", \"17-11\", \"18-1\", \"18-10\", \"18-11\", \"18-12\", \"18-13\", \"18-14\", \"18-15\", \"18-16\", \"18-17\", \"18-19\", \"18-2\", \"18-20\", \"18-4\", \"18-5\", \"18-7\", \"18-8\", \"18-9\", \"19-1\", \"19-10\", \"19-11\", \"19-12\", \"19-13\", \"19-14\", \"19-15\", \"19-19\", \"19-2\", \"19-20\", \"19-3\", \"19-4\", \"19-6\", \"19-7\", \"19-8\", \"19-9\", \"2-1\", \"2-13\", \"2-15\", \"2-3\", \"2-4\", \"2-5\", \"2-6\", \"2-7\", \"2-8\", \"20-1\", \"20-12\", \"20-14\", \"20-15\", \"20-16\", \"20-18\", \"20-19\", \"20-20\", \"20-3\", \"20-4\", \"20-5\", \"20-7\", \"20-8\", \"3-1\", \"3-13\", \"3-18\", \"3-2\", \"3-8\", \"4-1\", \"4-10\", \"4-11\", \"5-1\", \"5-5\", \"6-1\", \"6-15\", \"6-6\", \"7-10\", \"7-11\", \"7-12\", \"7-13\", \"7-14\", \"7-7\", \"7-8\", \"7-9\", \"8-1\", \"8-13\", \"8-14\", \"8-18\", \"8-20\", \"8-3\", \"8-8\", \"9-1\", \"9-7\"], \"domains\": [1, 2, 3, 4], \"num_examples_per_domain_per_label\": 100, \"pickle_path\": \"/mnt/wd500GB/CSC500/csc500-main/datasets/wisig.node3-19.stratified_ds.2022A.pkl\", \"source_or_target_dataset\": \"source\", \"x_transforms\": [\"lowpass_+/-10MHz\", \"take_200\"], \"episode_transforms\": [], \"domain_prefix\": \"W_A_\"}, {\"labels\": [\"3123D52\", \"3123D65\", \"3123D79\", \"3123D80\", \"3123D54\", \"3123D70\", \"3123D7B\", \"3123D89\", \"3123D58\", \"3123D76\", \"3123D7D\", \"3123EFE\", \"3123D64\", \"3123D78\", \"3123D7E\", \"3124E4A\"], \"domains\": [32, 38, 8, 44, 14, 50, 20, 26], \"num_examples_per_domain_per_label\": 2000, \"pickle_path\": \"/mnt/wd500GB/CSC500/csc500-main/datasets/oracle.Run1_framed_2000Examples_stratified_ds.2022A.pkl\", \"source_or_target_dataset\": \"target\", \"x_transforms\": [\"take_200\", \"resample_20Msps_to_25Msps\"], \"episode_transforms\": [], \"domain_prefix\": \"ORACLE.run1_\"}], \"domains_source\": [\"C_A_1\", \"C_A_2\", \"C_A_3\", \"C_A_4\", \"C_A_5\", \"W_A_1\", \"W_A_2\", \"W_A_3\", \"W_A_4\"], \"domains_target\": [\"ORACLE.run1_32\", \"ORACLE.run1_38\", \"ORACLE.run1_8\", \"ORACLE.run1_44\", \"ORACLE.run1_14\", \"ORACLE.run1_50\", \"ORACLE.run1_20\", \"ORACLE.run1_26\"]}, \"results\": {\"source_test_label_accuracy\": 0.9752782534246576, \"source_test_label_loss\": 0.12251432985067368, \"target_test_label_accuracy\": 0.30315755208333334, \"target_test_label_loss\": 2.235316753387451, \"source_val_label_accuracy\": 0.9783818493150684, \"source_val_label_loss\": 0.10793133825063705, \"target_val_label_accuracy\": 0.2967122395833333, \"target_val_label_loss\": 2.2410964965820312, \"total_epochs_trained\": 13, \"total_experiment_time_secs\": 727.494512796402, \"confusion\": {\"C_A_3\": {\"43\": {\"43\": 12}, \"9\": {\"9\": 12}, \"6\": {\"6\": 10}, \"3\": {\"3\": 12}, \"16\": {\"16\": 12}, \"51\": {\"51\": 12}, \"31\": {\"31\": 12}, \"46\": {\"46\": 10}, \"19\": {\"19\": 8}, \"8\": {\"8\": 12}, \"18\": {\"18\": 12}, \"37\": {\"37\": 12}, \"24\": {\"24\": 12}, \"10\": {\"10\": 12}, \"44\": {\"44\": 10}, \"14\": {\"14\": 12}, \"38\": {\"38\": 10}, \"53\": {\"53\": 12}, \"20\": {\"20\": 12}, \"32\": {\"32\": 12}, \"36\": {\"36\": 10}, \"33\": {\"33\": 12}, \"56\": {\"56\": 12}, \"23\": {\"23\": 12}, \"54\": {\"54\": 10}, \"34\": {\"34\": 12}, \"13\": {\"13\": 12}, \"2\": {\"2\": 12}, \"55\": {\"55\": 10}, \"21\": {\"21\": 9, \"50\": 1}, \"49\": {\"49\": 10}, \"25\": {\"25\": 12}, \"5\": {\"5\": 12}, \"50\": {\"50\": 8}, \"40\": {\"40\": 12}, \"57\": {\"57\": 8}, \"22\": {\"22\": 10}, \"1\": {\"1\": 10}, \"17\": {\"17\": 12}, \"41\": {\"41\": 12}, \"4\": {\"4\": 10}, \"7\": {\"7\": 10}, \"26\": {\"26\": 10}, \"29\": {\"29\": 12}, \"52\": {\"52\": 12}, \"15\": {\"15\": 12}, \"35\": {\"35\": 12}, \"42\": {\"42\": 12}, \"30\": {\"30\": 10}, \"27\": {\"27\": 8}, \"45\": {\"45\": 10}, \"0\": {\"0\": 12}, \"28\": {\"28\": 12}, \"47\": {\"47\": 12}, \"11\": {\"11\": 10}, \"39\": {\"39\": 10}, \"48\": {\"48\": 12}, \"12\": {\"12\": 8}}, \"C_A_4\": {\"35\": {\"35\": 10}, \"25\": {\"25\": 12}, \"24\": {\"24\": 10}, \"48\": {\"48\": 12}, \"51\": {\"51\": 12}, \"13\": {\"13\": 12}, \"14\": {\"14\": 8}, \"32\": {\"32\": 12}, \"30\": {\"30\": 12}, \"34\": {\"34\": 10}, \"9\": {\"9\": 12}, \"1\": {\"1\": 12}, \"0\": {\"0\": 12}, \"38\": {\"38\": 12}, \"22\": {\"22\": 8}, \"40\": {\"40\": 12}, \"39\": {\"39\": 12}, \"46\": {\"46\": 12}, \"36\": {\"36\": 12}, \"50\": {\"50\": 11, \"3\": 1}, \"49\": {\"49\": 12}, \"17\": {\"17\": 12}, \"45\": {\"45\": 12}, \"6\": {\"6\": 12}, \"8\": {\"8\": 12}, \"5\": {\"5\": 10}, \"33\": {\"33\": 12}, \"31\": {\"31\": 12}, \"37\": {\"37\": 10}, \"47\": {\"47\": 8}, \"15\": {\"15\": 10}, \"7\": {\"7\": 12}, \"20\": {\"20\": 12}, \"4\": {\"4\": 11, \"9\": 1}, \"54\": {\"54\": 12}, \"44\": {\"44\": 12}, \"3\": {\"3\": 12}, \"11\": {\"11\": 10}, \"27\": {\"27\": 10}, \"19\": {\"19\": 12}, \"55\": {\"55\": 12}, \"16\": {\"16\": 12}, \"2\": {\"2\": 10}, \"52\": {\"52\": 10}, \"42\": {\"42\": 10}, \"26\": {\"26\": 12}, \"10\": {\"10\": 12}, \"53\": {\"53\": 10}, \"28\": {\"28\": 12}, \"21\": {\"21\": 10}, \"57\": {\"57\": 10}, \"23\": {\"23\": 8}, \"43\": {\"43\": 10}, \"12\": {\"12\": 12}, \"41\": {\"41\": 12}, \"56\": {\"56\": 8}, \"18\": {\"18\": 10}, \"29\": {\"29\": 8}}, \"C_A_5\": {\"47\": {\"47\": 10}, \"53\": {\"53\": 12}, \"29\": {\"29\": 12}, \"52\": {\"52\": 12}, \"55\": {\"55\": 12}, \"17\": {\"17\": 12}, \"42\": {\"42\": 12}, \"33\": {\"33\": 10}, \"11\": {\"11\": 12}, \"19\": {\"19\": 8}, \"1\": {\"1\": 12}, \"44\": {\"44\": 12}, \"49\": {\"49\": 12}, \"4\": {\"4\": 12}, \"6\": {\"6\": 12}, \"39\": {\"39\": 12}, \"13\": {\"13\": 12}, \"5\": {\"5\": 10}, \"16\": {\"16\": 10}, \"25\": {\"25\": 12}, \"45\": {\"45\": 12}, \"7\": {\"7\": 10}, \"22\": {\"22\": 11, \"56\": 1}, \"40\": {\"40\": 12}, \"38\": {\"38\": 12}, \"35\": {\"35\": 8}, \"56\": {\"56\": 12}, \"50\": {\"50\": 9, \"6\": 1}, \"0\": {\"0\": 12}, \"10\": {\"10\": 12}, \"27\": {\"27\": 12}, \"20\": {\"20\": 10}, \"36\": {\"36\": 8}, \"34\": {\"34\": 12}, \"30\": {\"30\": 12}, \"2\": {\"2\": 10}, \"15\": {\"15\": 12}, \"18\": {\"18\": 12}, \"32\": {\"32\": 12}, \"31\": {\"31\": 12}, \"57\": {\"57\": 12}, \"48\": {\"48\": 8}, \"28\": {\"28\": 10}, \"14\": {\"14\": 12}, \"3\": {\"3\": 12}, \"8\": {\"8\": 12}, \"9\": {\"9\": 12}, \"21\": {\"21\": 10}, \"41\": {\"41\": 12}, \"24\": {\"24\": 12}, \"46\": {\"46\": 10}, \"43\": {\"43\": 10}, \"54\": {\"54\": 10}, \"23\": {\"23\": 10}, \"37\": {\"37\": 10}, \"12\": {\"12\": 10}, \"26\": {\"26\": 10}, \"51\": {\"51\": 6}}, \"W_A_3\": {\"109\": {\"109\": 12}, \"127\": {\"127\": 12}, \"14\": {\"14\": 12}, \"7\": {\"7\": 12}, \"129\": {\"129\": 12}, \"57\": {\"57\": 12}, \"84\": {\"84\": 10, \"8\": 1, \"68\": 1}, \"114\": {\"114\": 12}, \"44\": {\"44\": 11, \"28\": 1}, \"21\": {\"21\": 12}, \"46\": {\"46\": 12}, \"100\": {\"100\": 12}, \"63\": {\"63\": 8, \"35\": 1, \"119\": 1, \"47\": 1, \"55\": 1}, \"24\": {\"24\": 10, \"21\": 1, \"27\": 1}, \"107\": {\"107\": 12}, \"35\": {\"7\": 1, \"35\": 8, \"95\": 1}, \"81\": {\"81\": 12}, \"64\": {\"64\": 12}, \"59\": {\"34\": 1, \"59\": 11}, \"33\": {\"33\": 12}, \"34\": {\"34\": 12}, \"36\": {\"36\": 12}, \"79\": {\"79\": 12}, \"80\": {\"80\": 11, \"5\": 1}, \"77\": {\"77\": 12}, \"22\": {\"22\": 12}, \"124\": {\"124\": 12}, \"2\": {\"2\": 12}, \"87\": {\"87\": 11, \"36\": 1}, \"105\": {\"105\": 12}, \"95\": {\"95\": 12}, \"43\": {\"43\": 12}, \"56\": {\"56\": 10}, \"18\": {\"18\": 12}, \"85\": {\"85\": 12}, \"113\": {\"113\": 12}, \"97\": {\"97\": 12}, \"86\": {\"86\": 12}, \"128\": {\"128\": 12}, \"123\": {\"123\": 12}, \"8\": {\"8\": 12}, \"110\": {\"110\": 12}, \"126\": {\"113\": 1, \"126\": 11}, \"101\": {\"101\": 12}, \"115\": {\"115\": 12}, \"49\": {\"49\": 12}, \"45\": {\"45\": 12}, \"78\": {\"78\": 11, \"13\": 1}, \"65\": {\"65\": 9, \"109\": 1}, \"54\": {\"54\": 12}, \"31\": {\"31\": 10}, \"42\": {\"42\": 11, \"94\": 1}, \"68\": {\"68\": 12}, \"15\": {\"15\": 12}, \"69\": {\"69\": 12}, \"17\": {\"17\": 8, \"104\": 1, \"36\": 1}, \"73\": {\"73\": 12}, \"121\": {\"121\": 12}, \"102\": {\"102\": 12}, \"48\": {\"48\": 12}, \"23\": {\"23\": 10, \"122\": 1, \"8\": 1}, \"108\": {\"108\": 12}, \"53\": {\"53\": 12}, \"94\": {\"94\": 10}, \"41\": {\"41\": 12}, \"58\": {\"58\": 12}, \"29\": {\"29\": 12}, \"116\": {\"116\": 12}, \"60\": {\"60\": 12}, \"104\": {\"104\": 12}, \"106\": {\"106\": 12}, \"66\": {\"66\": 12}, \"47\": {\"47\": 12}, \"40\": {\"40\": 12}, \"82\": {\"82\": 11, \"30\": 1}, \"13\": {\"13\": 10, \"87\": 1, \"120\": 1}, \"19\": {\"19\": 12}, \"72\": {\"72\": 12}, \"9\": {\"9\": 12}, \"67\": {\"67\": 12}, \"11\": {\"11\": 12}, \"125\": {\"125\": 12}, \"76\": {\"76\": 8}, \"83\": {\"83\": 12}, \"74\": {\"74\": 11, \"24\": 1}, \"20\": {\"20\": 12}, \"119\": {\"119\": 12}, \"1\": {\"1\": 12}, \"16\": {\"16\": 12}, \"25\": {\"25\": 11, \"37\": 1}, \"90\": {\"90\": 8}, \"39\": {\"39\": 12}, \"28\": {\"28\": 12}, \"55\": {\"55\": 12}, \"117\": {\"117\": 12}, \"112\": {\"112\": 11, \"53\": 1}, \"38\": {\"38\": 12}, \"37\": {\"37\": 12}, \"120\": {\"120\": 12}, \"122\": {\"122\": 12}, \"50\": {\"50\": 12}, \"10\": {\"10\": 12}, \"5\": {\"5\": 12}, \"51\": {\"51\": 12}, \"3\": {\"3\": 10, \"70\": 1, \"51\": 1}, \"98\": {\"98\": 12}, \"70\": {\"70\": 12}, \"96\": {\"96\": 12}, \"12\": {\"12\": 12}, \"99\": {\"99\": 12}, \"52\": {\"52\": 12}, \"71\": {\"71\": 8, \"36\": 1, \"61\": 1, \"3\": 2}, \"89\": {\"89\": 12}, \"0\": {\"0\": 12}, \"4\": {\"4\": 9, \"88\": 1, \"24\": 1, \"59\": 1}, \"93\": {\"93\": 12}, \"6\": {\"6\": 10}, \"75\": {\"75\": 12}, \"62\": {\"62\": 12}, \"103\": {\"103\": 12}, \"30\": {\"30\": 12}, \"91\": {\"91\": 12}, \"27\": {\"27\": 12}, \"26\": {\"26\": 12}, \"61\": {\"61\": 12}, \"118\": {\"118\": 12}, \"92\": {\"92\": 12}, \"111\": {\"111\": 12}, \"32\": {\"32\": 12}, \"88\": {\"88\": 10}}, \"C_A_1\": {\"46\": {\"46\": 12}, \"16\": {\"16\": 12}, \"26\": {\"26\": 12}, \"10\": {\"10\": 12}, \"9\": {\"9\": 10}, \"28\": {\"28\": 12}, \"51\": {\"51\": 12}, \"1\": {\"1\": 12}, \"55\": {\"55\": 12}, \"27\": {\"27\": 10}, \"22\": {\"22\": 12}, \"52\": {\"52\": 12}, \"3\": {\"3\": 12}, \"33\": {\"33\": 8}, \"47\": {\"47\": 12}, \"42\": {\"42\": 12}, \"12\": {\"12\": 4}, \"23\": {\"23\": 12}, \"49\": {\"49\": 10}, \"7\": {\"7\": 12}, \"4\": {\"4\": 12}, \"50\": {\"50\": 12}, \"19\": {\"19\": 12}, \"11\": {\"11\": 12}, \"31\": {\"31\": 10}, \"41\": {\"41\": 12}, \"56\": {\"56\": 10}, \"0\": {\"0\": 12}, \"57\": {\"57\": 12}, \"53\": {\"53\": 12}, \"43\": {\"43\": 12}, \"37\": {\"37\": 12}, \"2\": {\"2\": 8}, \"6\": {\"6\": 12}, \"18\": {\"18\": 12}, \"38\": {\"38\": 12}, \"15\": {\"15\": 12}, \"36\": {\"36\": 12}, \"39\": {\"39\": 8}, \"44\": {\"44\": 12}, \"8\": {\"8\": 12}, \"17\": {\"17\": 10}, \"5\": {\"5\": 12}, \"13\": {\"13\": 10}, \"40\": {\"40\": 10}, \"29\": {\"29\": 12}, \"48\": {\"48\": 12}, \"32\": {\"32\": 12}, \"30\": {\"30\": 12}, \"35\": {\"35\": 12}, \"25\": {\"25\": 12}, \"14\": {\"14\": 12}, \"54\": {\"54\": 10}, \"20\": {\"20\": 8}, \"21\": {\"21\": 10}, \"45\": {\"45\": 8}, \"24\": {\"24\": 8}, \"34\": {\"34\": 8}}, \"W_A_4\": {\"28\": {\"28\": 12}, \"4\": {\"4\": 12}, \"72\": {\"72\": 12}, \"111\": {\"111\": 12}, \"108\": {\"108\": 12}, \"43\": {\"43\": 10}, \"96\": {\"96\": 12}, \"89\": {\"89\": 12}, \"31\": {\"31\": 12}, \"45\": {\"45\": 12}, \"2\": {\"2\": 11, \"121\": 1}, \"114\": {\"114\": 12}, \"11\": {\"11\": 12}, \"12\": {\"12\": 12}, \"14\": {\"14\": 11, \"89\": 1}, \"90\": {\"90\": 12}, \"10\": {\"10\": 11, \"24\": 1}, \"63\": {\"98\": 1, \"63\": 10, \"53\": 1}, \"85\": {\"85\": 11, \"12\": 1}, \"64\": {\"64\": 12}, \"82\": {\"82\": 10, \"54\": 1, \"63\": 1}, \"58\": {\"58\": 12}, \"3\": {\"3\": 12}, \"54\": {\"54\": 12}, \"121\": {\"121\": 12}, \"42\": {\"42\": 12}, \"98\": {\"98\": 12}, \"123\": {\"123\": 11, \"90\": 1}, \"91\": {\"91\": 12}, \"66\": {\"66\": 12}, \"102\": {\"102\": 12}, \"122\": {\"122\": 9, \"16\": 2, \"51\": 1}, \"1\": {\"1\": 12}, \"15\": {\"15\": 12}, \"97\": {\"15\": 1, \"97\": 10, \"29\": 1}, \"75\": {\"75\": 12}, \"95\": {\"95\": 12}, \"57\": {\"57\": 12}, \"68\": {\"68\": 12}, \"125\": {\"125\": 12}, \"62\": {\"62\": 10}, \"27\": {\"27\": 11, \"21\": 1}, \"120\": {\"120\": 11, \"103\": 1}, \"26\": {\"26\": 12}, \"55\": {\"55\": 12}, \"71\": {\"71\": 11, \"122\": 1}, \"22\": {\"22\": 12}, \"99\": {\"99\": 11, \"51\": 1}, \"84\": {\"84\": 10, \"103\": 1, \"43\": 1}, \"37\": {\"37\": 12}, \"83\": {\"83\": 12}, \"46\": {\"46\": 12}, \"35\": {\"35\": 12}, \"13\": {\"13\": 12}, \"53\": {\"53\": 10, \"88\": 1, \"21\": 1}, \"127\": {\"127\": 12}, \"69\": {\"97\": 1, \"69\": 10, \"92\": 1}, \"48\": {\"48\": 11, \"110\": 1}, \"16\": {\"16\": 12}, \"0\": {\"0\": 12}, \"8\": {\"8\": 10, \"97\": 1, \"100\": 1}, \"9\": {\"9\": 12}, \"115\": {\"115\": 11, \"9\": 1}, \"70\": {\"70\": 12}, \"119\": {\"119\": 12}, \"59\": {\"59\": 12}, \"52\": {\"52\": 12}, \"60\": {\"60\": 11, \"101\": 1}, \"44\": {\"44\": 11, \"90\": 1}, \"51\": {\"51\": 8, \"70\": 1, \"48\": 1, \"100\": 1, \"127\": 1}, \"6\": {\"6\": 12}, \"73\": {\"73\": 12}, \"78\": {\"78\": 10, \"21\": 2}, \"92\": {\"92\": 12}, \"20\": {\"20\": 11, \"23\": 1}, \"17\": {\"17\": 12}, \"74\": {\"74\": 12}, \"19\": {\"19\": 12}, \"50\": {\"50\": 12}, \"34\": {\"34\": 10, \"93\": 1, \"110\": 1}, \"104\": {\"104\": 8}, \"33\": {\"33\": 11, \"70\": 1}, \"5\": {\"5\": 12}, \"7\": {\"7\": 11, \"23\": 1}, \"29\": {\"29\": 12}, \"25\": {\"25\": 12}, \"124\": {\"124\": 12}, \"117\": {\"117\": 10, \"88\": 1, \"61\": 1}, \"88\": {\"88\": 11, \"59\": 1}, \"61\": {\"61\": 11, \"88\": 1}, \"86\": {\"86\": 12}, \"116\": {\"116\": 12}, \"24\": {\"24\": 11, \"36\": 1}, \"128\": {\"28\": 2, \"128\": 7, \"78\": 1, \"20\": 1, \"77\": 1}, \"101\": {\"101\": 12}, \"65\": {\"65\": 9, \"86\": 1}, \"36\": {\"36\": 12}, \"21\": {\"21\": 9, \"78\": 1, \"70\": 1, \"51\": 1}, \"106\": {\"106\": 12}, \"118\": {\"118\": 10, \"88\": 2}, \"113\": {\"113\": 11, \"36\": 1}, \"40\": {\"40\": 12}, \"93\": {\"93\": 8}, \"94\": {\"94\": 10, \"36\": 2}, \"103\": {\"103\": 6, \"77\": 2, \"108\": 1, \"87\": 1, \"29\": 1, \"90\": 1}, \"110\": {\"110\": 12}, \"56\": {\"56\": 12}, \"39\": {\"39\": 11, \"78\": 1}, \"109\": {\"109\": 12}, \"67\": {\"67\": 11, \"88\": 1}, \"129\": {\"129\": 11, \"73\": 1}, \"30\": {\"30\": 12}, \"126\": {\"126\": 10, \"5\": 1, \"108\": 1}, \"87\": {\"51\": 1, \"87\": 11}, \"112\": {\"112\": 12}, \"100\": {\"100\": 12}, \"79\": {\"79\": 10}, \"81\": {\"81\": 11, \"61\": 1}, \"76\": {\"76\": 10}, \"47\": {\"47\": 11, \"51\": 1}, \"77\": {\"77\": 12}, \"23\": {\"103\": 1, \"23\": 6, \"49\": 1, \"106\": 2, \"0\": 2}, \"18\": {\"18\": 12}, \"49\": {\"49\": 12}, \"41\": {\"41\": 10, \"110\": 1, \"4\": 1}, \"32\": {\"32\": 11, \"45\": 1}, \"107\": {\"107\": 10}, \"80\": {\"80\": 11, \"38\": 1}, \"105\": {\"105\": 9, \"113\": 1}, \"38\": {\"38\": 10}}, \"W_A_1\": {\"108\": {\"108\": 10}, \"40\": {\"40\": 12}, \"68\": {\"68\": 12}, \"23\": {\"23\": 11, \"12\": 1}, \"26\": {\"70\": 1, \"26\": 11}, \"64\": {\"64\": 12}, \"22\": {\"22\": 12}, \"3\": {\"3\": 12}, \"4\": {\"4\": 11, \"78\": 1}, \"70\": {\"70\": 12}, \"57\": {\"57\": 12}, \"79\": {\"79\": 12}, \"9\": {\"9\": 12}, \"89\": {\"89\": 12}, \"110\": {\"110\": 12}, \"102\": {\"102\": 12}, \"31\": {\"31\": 12}, \"58\": {\"58\": 12}, \"47\": {\"47\": 12}, \"24\": {\"24\": 11, \"88\": 1}, \"19\": {\"19\": 12}, \"11\": {\"11\": 12}, \"52\": {\"52\": 12}, \"17\": {\"17\": 12}, \"25\": {\"25\": 12}, \"69\": {\"69\": 12}, \"96\": {\"96\": 12}, \"109\": {\"109\": 12}, \"115\": {\"115\": 12}, \"83\": {\"83\": 11, \"4\": 1}, \"84\": {\"84\": 12}, \"119\": {\"119\": 10}, \"122\": {\"122\": 10}, \"99\": {\"99\": 12}, \"1\": {\"1\": 12}, \"74\": {\"74\": 10, \"65\": 1, \"80\": 1}, \"85\": {\"85\": 12}, \"127\": {\"127\": 12}, \"111\": {\"111\": 12}, \"53\": {\"53\": 12}, \"88\": {\"88\": 12}, \"65\": {\"65\": 9, \"9\": 1}, \"7\": {\"7\": 12}, \"16\": {\"16\": 11, \"122\": 1}, \"128\": {\"128\": 12}, \"34\": {\"34\": 12}, \"129\": {\"129\": 12}, \"43\": {\"43\": 12}, \"92\": {\"92\": 12}, \"28\": {\"28\": 12}, \"27\": {\"27\": 12}, \"114\": {\"114\": 12}, \"73\": {\"73\": 12}, \"0\": {\"0\": 12}, \"104\": {\"104\": 12}, \"118\": {\"118\": 12}, \"41\": {\"41\": 12}, \"49\": {\"49\": 12}, \"14\": {\"14\": 12}, \"46\": {\"46\": 11, \"45\": 1}, \"33\": {\"33\": 12}, \"76\": {\"76\": 12}, \"125\": {\"125\": 12}, \"86\": {\"86\": 10}, \"66\": {\"66\": 11, \"100\": 1}, \"5\": {\"5\": 12}, \"117\": {\"117\": 12}, \"75\": {\"75\": 12}, \"61\": {\"61\": 12}, \"50\": {\"50\": 11, \"27\": 1}, \"67\": {\"67\": 10}, \"18\": {\"18\": 12}, \"98\": {\"98\": 12}, \"55\": {\"55\": 10}, \"32\": {\"32\": 12}, \"120\": {\"120\": 12}, \"97\": {\"97\": 12}, \"126\": {\"126\": 12}, \"45\": {\"45\": 12}, \"78\": {\"78\": 10}, \"100\": {\"100\": 12}, \"107\": {\"107\": 12}, \"93\": {\"93\": 12}, \"77\": {\"77\": 12}, \"63\": {\"63\": 12}, \"112\": {\"112\": 12}, \"113\": {\"113\": 12}, \"103\": {\"103\": 10}, \"71\": {\"71\": 12}, \"30\": {\"30\": 12}, \"90\": {\"90\": 12}, \"37\": {\"103\": 1, \"37\": 11}, \"60\": {\"60\": 10, \"70\": 1, \"81\": 1}, \"15\": {\"15\": 12}, \"39\": {\"39\": 12}, \"72\": {\"72\": 12}, \"54\": {\"54\": 12}, \"35\": {\"35\": 12}, \"2\": {\"2\": 12}, \"94\": {\"94\": 11, \"36\": 1}, \"42\": {\"42\": 12}, \"81\": {\"81\": 12}, \"8\": {\"8\": 12}, \"87\": {\"87\": 12}, \"6\": {\"6\": 12}, \"36\": {\"36\": 12}, \"91\": {\"91\": 12}, \"56\": {\"56\": 12}, \"80\": {\"80\": 11, \"56\": 1}, \"124\": {\"124\": 10}, \"44\": {\"44\": 12}, \"13\": {\"13\": 12}, \"10\": {\"10\": 10, \"21\": 1, \"43\": 1}, \"59\": {\"59\": 12}, \"95\": {\"95\": 12}, \"105\": {\"105\": 11, \"112\": 1}, \"101\": {\"101\": 12}, \"20\": {\"20\": 12}, \"48\": {\"48\": 11, \"123\": 1}, \"106\": {\"106\": 12}, \"51\": {\"51\": 12}, \"21\": {\"21\": 12}, \"123\": {\"123\": 12}, \"121\": {\"121\": 12}, \"38\": {\"38\": 12}, \"62\": {\"62\": 12}, \"29\": {\"29\": 12}, \"82\": {\"82\": 12}, \"116\": {\"116\": 12}, \"12\": {\"12\": 8}}, \"W_A_2\": {\"91\": {\"91\": 12}, \"12\": {\"12\": 10, \"97\": 1, \"67\": 1}, \"101\": {\"101\": 10}, \"121\": {\"121\": 11, \"72\": 1}, \"118\": {\"118\": 12}, \"10\": {\"10\": 12}, \"117\": {\"117\": 12}, \"110\": {\"110\": 10, \"10\": 1, \"97\": 1}, \"97\": {\"97\": 9, \"17\": 1, \"15\": 1, \"110\": 1}, \"28\": {\"17\": 1, \"28\": 8, \"103\": 1, \"110\": 1, \"55\": 1}, \"88\": {\"88\": 12}, \"17\": {\"17\": 12}, \"126\": {\"126\": 12}, \"33\": {\"33\": 12}, \"86\": {\"86\": 12}, \"106\": {\"106\": 12}, \"54\": {\"54\": 12}, \"125\": {\"125\": 12}, \"83\": {\"83\": 12}, \"98\": {\"98\": 12}, \"11\": {\"11\": 11, \"27\": 1}, \"32\": {\"32\": 12}, \"42\": {\"42\": 12}, \"103\": {\"103\": 12}, \"87\": {\"87\": 12}, \"61\": {\"118\": 1, \"61\": 10, \"121\": 1}, \"13\": {\"13\": 12}, \"4\": {\"4\": 12}, \"15\": {\"15\": 10}, \"120\": {\"120\": 12}, \"80\": {\"80\": 12}, \"72\": {\"72\": 10}, \"64\": {\"64\": 12}, \"81\": {\"81\": 12}, \"102\": {\"102\": 12}, \"76\": {\"76\": 12}, \"49\": {\"49\": 9, \"21\": 1}, \"129\": {\"129\": 12}, \"89\": {\"89\": 12}, \"52\": {\"52\": 12}, \"35\": {\"35\": 12}, \"53\": {\"53\": 11, \"37\": 1}, \"112\": {\"112\": 12}, \"105\": {\"105\": 12}, \"100\": {\"100\": 12}, \"9\": {\"9\": 12}, \"82\": {\"82\": 12}, \"51\": {\"51\": 12}, \"21\": {\"21\": 12}, \"92\": {\"92\": 11, \"84\": 1}, \"69\": {\"69\": 12}, \"77\": {\"77\": 12}, \"50\": {\"50\": 11, \"88\": 1}, \"36\": {\"36\": 12}, \"16\": {\"16\": 10, \"24\": 1, \"36\": 1}, \"8\": {\"18\": 1, \"8\": 10, \"120\": 1}, \"127\": {\"127\": 12}, \"46\": {\"46\": 10}, \"84\": {\"84\": 12}, \"18\": {\"18\": 12}, \"123\": {\"123\": 10}, \"56\": {\"56\": 11, \"121\": 1}, \"26\": {\"26\": 12}, \"14\": {\"24\": 1, \"14\": 7, \"107\": 1, \"72\": 1, \"43\": 1, \"27\": 1}, \"109\": {\"109\": 12}, \"66\": {\"66\": 12}, \"24\": {\"24\": 11, \"11\": 1}, \"71\": {\"65\": 1, \"71\": 11}, \"65\": {\"65\": 10, \"92\": 1, \"61\": 1}, \"75\": {\"75\": 11, \"67\": 1}, \"111\": {\"111\": 12}, \"30\": {\"30\": 11, \"59\": 1}, \"85\": {\"85\": 12}, \"113\": {\"113\": 9, \"21\": 1}, \"45\": {\"45\": 12}, \"29\": {\"29\": 11, \"67\": 1}, \"20\": {\"20\": 12}, \"25\": {\"25\": 12}, \"0\": {\"0\": 12}, \"68\": {\"68\": 12}, \"119\": {\"119\": 12}, \"90\": {\"90\": 12}, \"38\": {\"38\": 12}, \"99\": {\"99\": 12}, \"1\": {\"1\": 12}, \"67\": {\"67\": 10, \"51\": 1, \"75\": 1}, \"63\": {\"63\": 12}, \"34\": {\"34\": 12}, \"108\": {\"108\": 12}, \"40\": {\"40\": 12}, \"47\": {\"47\": 11, \"59\": 1}, \"37\": {\"37\": 12}, \"78\": {\"78\": 12}, \"96\": {\"96\": 12}, \"43\": {\"43\": 11, \"21\": 1}, \"5\": {\"5\": 10}, \"124\": {\"124\": 12}, \"44\": {\"44\": 12}, \"41\": {\"41\": 11, \"47\": 1}, \"116\": {\"116\": 12}, \"19\": {\"19\": 11, \"47\": 1}, \"115\": {\"115\": 11, \"116\": 1}, \"95\": {\"95\": 11, \"77\": 1}, \"3\": {\"3\": 10}, \"59\": {\"59\": 12}, \"55\": {\"55\": 12}, \"70\": {\"70\": 12}, \"6\": {\"6\": 12}, \"2\": {\"2\": 12}, \"48\": {\"48\": 12}, \"23\": {\"23\": 11, \"122\": 1}, \"7\": {\"7\": 12}, \"122\": {\"122\": 12}, \"57\": {\"57\": 10, \"42\": 1, \"59\": 1}, \"39\": {\"39\": 9, \"53\": 1}, \"79\": {\"79\": 12}, \"27\": {\"27\": 10}, \"74\": {\"74\": 9, \"17\": 1, \"36\": 1, \"51\": 1}, \"73\": {\"73\": 12}, \"62\": {\"62\": 12}, \"107\": {\"107\": 12}, \"128\": {\"128\": 12}, \"60\": {\"60\": 12}, \"114\": {\"114\": 12}, \"22\": {\"22\": 12}, \"93\": {\"93\": 12}, \"94\": {\"94\": 11, \"88\": 1}, \"31\": {\"31\": 10}, \"104\": {\"104\": 12}, \"58\": {\"58\": 12}}, \"C_A_2\": {\"14\": {\"14\": 12}, \"22\": {\"22\": 11, \"56\": 1}, \"9\": {\"9\": 12}, \"47\": {\"47\": 12}, \"13\": {\"13\": 12}, \"8\": {\"8\": 12}, \"7\": {\"7\": 12}, \"49\": {\"49\": 12}, \"20\": {\"20\": 12}, \"16\": {\"16\": 12}, \"34\": {\"34\": 12}, \"56\": {\"56\": 12}, \"38\": {\"38\": 10}, \"4\": {\"4\": 12}, \"43\": {\"43\": 10}, \"26\": {\"26\": 10}, \"35\": {\"35\": 12}, \"31\": {\"31\": 12}, \"1\": {\"1\": 12}, \"39\": {\"39\": 12}, \"5\": {\"5\": 12}, \"24\": {\"24\": 12}, \"54\": {\"54\": 10}, \"23\": {\"23\": 12}, \"51\": {\"51\": 12}, \"27\": {\"27\": 10}, \"15\": {\"15\": 12}, \"0\": {\"0\": 12}, \"19\": {\"19\": 10}, \"18\": {\"18\": 8}, \"30\": {\"30\": 12}, \"55\": {\"55\": 10}, \"57\": {\"57\": 12}, \"2\": {\"2\": 12}, \"12\": {\"12\": 8}, \"41\": {\"41\": 12}, \"42\": {\"42\": 12}, \"48\": {\"48\": 12}, \"37\": {\"37\": 12}, \"6\": {\"6\": 10}, \"11\": {\"11\": 10}, \"45\": {\"45\": 8}, \"21\": {\"21\": 12}, \"46\": {\"46\": 10}, \"25\": {\"25\": 12}, \"36\": {\"36\": 10}, \"53\": {\"53\": 12}, \"28\": {\"28\": 12}, \"40\": {\"40\": 10}, \"33\": {\"33\": 10}, \"44\": {\"44\": 10}, \"3\": {\"3\": 12}, \"17\": {\"17\": 12}, \"32\": {\"32\": 10}, \"10\": {\"10\": 10}, \"52\": {\"52\": 10}, \"50\": {\"50\": 8}, \"29\": {\"29\": 6}}, \"ORACLE.run1_14\": {\"15\": {\"15\": 239, \"6\": 1}, \"3\": {\"2\": 26, \"14\": 35, \"3\": 54, \"6\": 31, \"13\": 24, \"5\": 13, \"7\": 16, \"8\": 15, \"0\": 25, \"12\": 1}, \"6\": {\"3\": 43, \"13\": 59, \"0\": 10, \"2\": 11, \"6\": 61, \"7\": 18, \"14\": 30, \"5\": 6, \"8\": 1, \"4\": 1}, \"1\": {\"9\": 44, \"1\": 121, \"10\": 54, \"4\": 21}, \"8\": {\"5\": 24, \"8\": 68, \"3\": 12, \"4\": 23, \"12\": 21, \"0\": 39, \"14\": 11, \"2\": 28, \"13\": 5, \"10\": 1, \"7\": 8}, \"10\": {\"9\": 30, \"4\": 51, \"10\": 94, \"14\": 5, \"1\": 24, \"12\": 18, \"0\": 4, \"8\": 5, \"2\": 7, \"5\": 2}, \"9\": {\"10\": 41, \"9\": 136, \"1\": 48, \"4\": 6, \"12\": 8, \"8\": 1}, \"13\": {\"13\": 35, \"0\": 21, \"7\": 21, \"2\": 27, \"4\": 6, \"6\": 46, \"5\": 14, \"15\": 19, \"14\": 21, \"10\": 3, \"8\": 4, \"3\": 22, \"12\": 1}, \"12\": {\"0\": 24, \"8\": 38, \"12\": 110, \"3\": 2, \"2\": 15, \"4\": 10, \"9\": 5, \"10\": 26, \"14\": 2, \"5\": 8}, \"5\": {\"14\": 33, \"0\": 34, \"2\": 46, \"8\": 17, \"7\": 21, \"5\": 38, \"13\": 13, \"4\": 22, \"10\": 1, \"3\": 12, \"6\": 2, \"12\": 1}, \"0\": {\"5\": 19, \"2\": 31, \"8\": 27, \"14\": 40, \"13\": 12, \"7\": 10, \"4\": 10, \"3\": 25, \"0\": 40, \"12\": 7, \"6\": 14, \"10\": 5}, \"2\": {\"0\": 38, \"2\": 31, \"3\": 21, \"4\": 19, \"14\": 32, \"10\": 7, \"5\": 26, \"7\": 14, \"8\": 17, \"6\": 18, \"13\": 16, \"1\": 1}, \"11\": {\"11\": 232, \"1\": 3, \"9\": 5}, \"14\": {\"3\": 35, \"2\": 26, \"0\": 22, \"14\": 49, \"13\": 19, \"4\": 10, \"5\": 28, \"7\": 18, \"8\": 17, \"6\": 15, \"12\": 1}, \"7\": {\"13\": 31, \"7\": 61, \"6\": 28, \"3\": 25, \"8\": 8, \"14\": 25, \"0\": 11, \"5\": 24, \"2\": 24, \"4\": 3}, \"4\": {\"12\": 4, \"5\": 37, \"10\": 44, \"4\": 65, \"8\": 20, \"13\": 3, \"14\": 15, \"0\": 12, \"1\": 8, \"2\": 29, \"7\": 2, \"9\": 1}}, \"ORACLE.run1_20\": {\"3\": {\"1\": 25, \"5\": 24, \"9\": 36, \"12\": 7, \"6\": 17, \"3\": 32, \"14\": 23, \"8\": 18, \"0\": 7, \"15\": 10, \"7\": 12, \"2\": 12, \"4\": 10, \"13\": 7}, \"15\": {\"15\": 32, \"9\": 14, \"7\": 26, \"12\": 23, \"1\": 22, \"14\": 2, \"3\": 16, \"2\": 30, \"13\": 18, \"6\": 11, \"10\": 11, \"5\": 13, \"4\": 20, \"8\": 2}, \"8\": {\"11\": 10, \"6\": 16, \"0\": 25, \"8\": 33, \"12\": 3, \"9\": 19, \"5\": 18, \"2\": 5, \"3\": 33, \"14\": 45, \"1\": 13, \"7\": 13, \"15\": 3, \"4\": 4}, \"4\": {\"6\": 20, \"4\": 26, \"7\": 20, \"12\": 28, \"10\": 30, \"15\": 22, \"1\": 8, \"9\": 29, \"13\": 25, \"5\": 7, \"3\": 6, \"2\": 14, \"14\": 2, \"8\": 3}, \"14\": {\"8\": 42, \"9\": 31, \"14\": 30, \"12\": 6, \"3\": 38, \"0\": 17, \"6\": 25, \"5\": 10, \"1\": 12, \"7\": 16, \"4\": 5, \"15\": 2, \"2\": 4, \"11\": 2}, \"0\": {\"0\": 76, \"14\": 22, \"8\": 36, \"3\": 23, \"1\": 7, \"11\": 48, \"9\": 7, \"5\": 14, \"6\": 3, \"7\": 2, \"12\": 2}, \"7\": {\"4\": 17, \"9\": 27, \"15\": 13, \"7\": 26, \"13\": 11, \"5\": 17, \"2\": 19, \"12\": 22, \"6\": 17, \"3\": 27, \"14\": 11, \"1\": 21, \"10\": 5, \"8\": 7}, \"6\": {\"7\": 32, \"1\": 15, \"14\": 17, \"15\": 17, \"2\": 23, \"6\": 30, \"10\": 11, \"4\": 20, \"9\": 29, \"8\": 7, \"12\": 9, \"5\": 12, \"3\": 11, \"13\": 7}, \"10\": {\"12\": 27, \"15\": 16, \"10\": 59, \"6\": 14, \"2\": 28, \"13\": 39, \"4\": 30, \"7\": 13, \"9\": 5, \"1\": 6, \"3\": 2, \"5\": 1}, \"5\": {\"2\": 13, \"7\": 19, \"5\": 30, \"9\": 22, \"8\": 25, \"1\": 35, \"6\": 9, \"14\": 15, \"12\": 10, \"4\": 12, \"15\": 16, \"3\": 25, \"0\": 4, \"10\": 2, \"13\": 3}, \"2\": {\"1\": 20, \"14\": 7, \"15\": 29, \"6\": 15, \"10\": 11, \"12\": 29, \"3\": 10, \"7\": 20, \"9\": 16, \"2\": 29, \"4\": 22, \"13\": 15, \"8\": 3, \"5\": 14}, \"12\": {\"12\": 19, \"7\": 28, \"15\": 20, \"5\": 20, \"10\": 11, \"1\": 13, \"2\": 27, \"13\": 22, \"6\": 20, \"3\": 9, \"9\": 22, \"4\": 23, \"8\": 2, \"0\": 1, \"14\": 3}, \"9\": {\"6\": 20, \"5\": 20, \"15\": 17, \"0\": 2, \"1\": 23, \"3\": 28, \"14\": 19, \"7\": 22, \"12\": 16, \"9\": 19, \"2\": 17, \"4\": 11, \"8\": 22, \"13\": 4}, \"1\": {\"2\": 24, \"15\": 20, \"12\": 17, \"9\": 27, \"1\": 18, \"13\": 10, \"3\": 23, \"10\": 4, \"4\": 12, \"5\": 18, \"0\": 4, \"7\": 24, \"8\": 15, \"6\": 13, \"14\": 11}, \"11\": {\"11\": 140, \"8\": 18, \"0\": 63, \"9\": 1, \"14\": 15, \"3\": 3}, \"13\": {\"4\": 24, \"15\": 38, \"2\": 20, \"13\": 52, \"7\": 18, \"12\": 31, \"1\": 15, \"10\": 21, \"5\": 6, \"3\": 6, \"9\": 5, \"6\": 4}}, \"ORACLE.run1_38\": {\"5\": {\"12\": 42, \"7\": 21, \"8\": 52, \"5\": 46, \"14\": 13, \"15\": 19, \"2\": 18, \"9\": 23, \"1\": 1, \"4\": 1, \"6\": 1, \"13\": 2, \"0\": 1}, \"8\": {\"13\": 6, \"8\": 40, \"14\": 26, \"6\": 1, \"12\": 40, \"5\": 41, \"2\": 19, \"9\": 25, \"15\": 19, \"4\": 2, \"7\": 20, \"10\": 1}, \"11\": {\"3\": 79, \"11\": 158, \"0\": 1, \"10\": 2}, \"1\": {\"6\": 101, \"1\": 119, \"15\": 18, \"12\": 2}, \"10\": {\"10\": 78, \"13\": 61, \"3\": 6, \"0\": 48, \"4\": 40, \"7\": 5, \"11\": 1, \"2\": 1}, \"15\": {\"5\": 22, \"6\": 28, \"12\": 37, \"15\": 90, \"1\": 28, \"2\": 3, \"8\": 27, \"14\": 2, \"9\": 3}, \"3\": {\"3\": 161, \"11\": 72, \"0\": 3, \"10\": 3, \"13\": 1}, \"7\": {\"8\": 16, \"12\": 1, \"13\": 28, \"2\": 33, \"7\": 52, \"14\": 41, \"4\": 16, \"5\": 14, \"9\": 27, \"10\": 3, \"0\": 9}, \"4\": {\"10\": 37, \"13\": 33, \"4\": 73, \"0\": 43, \"7\": 25, \"14\": 18, \"9\": 6, \"2\": 4, \"8\": 1}, \"14\": {\"2\": 47, \"7\": 34, \"13\": 22, \"14\": 55, \"5\": 9, \"4\": 15, \"9\": 28, \"8\": 15, \"10\": 2, \"12\": 6, \"0\": 7}, \"9\": {\"7\": 31, \"8\": 45, \"14\": 21, \"2\": 42, \"5\": 26, \"9\": 54, \"13\": 7, \"4\": 5, \"12\": 5, \"0\": 3, \"10\": 1}, \"12\": {\"8\": 56, \"12\": 81, \"5\": 47, \"1\": 2, \"15\": 26, \"14\": 7, \"9\": 11, \"7\": 6, \"2\": 4}, \"6\": {\"6\": 117, \"1\": 90, \"15\": 31, \"12\": 1, \"5\": 1}, \"2\": {\"2\": 53, \"14\": 49, \"5\": 18, \"8\": 18, \"9\": 26, \"7\": 39, \"10\": 4, \"13\": 22, \"12\": 3, \"0\": 4, \"4\": 4}, \"0\": {\"13\": 48, \"8\": 2, \"10\": 52, \"0\": 42, \"2\": 10, \"4\": 32, \"11\": 4, \"3\": 14, \"7\": 19, \"14\": 8, \"9\": 8, \"5\": 1}, \"13\": {\"13\": 60, \"10\": 38, \"0\": 52, \"2\": 17, \"7\": 21, \"4\": 27, \"8\": 3, \"9\": 4, \"14\": 18}}, \"ORACLE.run1_8\": {\"9\": {\"9\": 204, \"3\": 29, \"2\": 7}, \"10\": {\"5\": 42, \"13\": 52, \"4\": 4, \"6\": 24, \"7\": 30, \"10\": 41, \"11\": 18, \"1\": 29}, \"13\": {\"6\": 23, \"7\": 38, \"13\": 57, \"5\": 40, \"10\": 53, \"11\": 11, \"1\": 14, \"8\": 3, \"15\": 1}, \"0\": {\"0\": 237, \"14\": 3}, \"1\": {\"1\": 42, \"4\": 28, \"6\": 44, \"11\": 32, \"5\": 25, \"14\": 3, \"8\": 13, \"13\": 10, \"7\": 22, \"10\": 21}, \"15\": {\"15\": 91, \"2\": 65, \"12\": 80, \"3\": 4}, \"5\": {\"6\": 22, \"5\": 54, \"10\": 46, \"13\": 49, \"7\": 32, \"11\": 12, \"1\": 21, \"8\": 2, \"4\": 2}, \"3\": {\"2\": 58, \"9\": 24, \"3\": 152, \"15\": 3, \"12\": 3}, \"6\": {\"6\": 53, \"10\": 15, \"1\": 42, \"13\": 29, \"11\": 24, \"7\": 31, \"5\": 25, \"4\": 9, \"8\": 11, \"14\": 1}, \"11\": {\"10\": 21, \"1\": 31, \"6\": 28, \"4\": 31, \"8\": 34, \"11\": 39, \"5\": 8, \"7\": 24, \"14\": 18, \"13\": 6}, \"8\": {\"4\": 58, \"8\": 68, \"11\": 47, \"6\": 19, \"10\": 3, \"14\": 25, \"1\": 13, \"7\": 5, \"5\": 2}, \"4\": {\"11\": 42, \"1\": 28, \"8\": 45, \"4\": 51, \"14\": 36, \"7\": 7, \"6\": 16, \"5\": 8, \"10\": 6, \"13\": 1}, \"12\": {\"15\": 84, \"12\": 118, \"2\": 36, \"3\": 1, \"5\": 1}, \"14\": {\"14\": 113, \"8\": 41, \"4\": 50, \"1\": 6, \"11\": 21, \"0\": 1, \"6\": 6, \"10\": 1, \"5\": 1}, \"2\": {\"3\": 68, \"12\": 42, \"15\": 33, \"2\": 90, \"9\": 7}, \"7\": {\"13\": 30, \"6\": 50, \"7\": 51, \"10\": 31, \"11\": 12, \"5\": 26, \"4\": 4, \"8\": 4, \"1\": 32}}, \"ORACLE.run1_50\": {\"7\": {\"5\": 33, \"4\": 78, \"7\": 78, \"15\": 22, \"9\": 9, \"6\": 13, \"12\": 6, \"11\": 1}, \"3\": {\"3\": 59, \"12\": 26, \"13\": 27, \"6\": 40, \"5\": 25, \"15\": 23, \"11\": 26, \"9\": 6, \"4\": 1, \"1\": 3, \"7\": 3, \"8\": 1}, \"8\": {\"8\": 77, \"14\": 6, \"0\": 19, \"1\": 35, \"10\": 59, \"13\": 26, \"2\": 11, \"11\": 1, \"3\": 6}, \"2\": {\"0\": 60, \"14\": 71, \"2\": 71, \"8\": 6, \"10\": 32}, \"14\": {\"0\": 59, \"14\": 81, \"2\": 73, \"10\": 24, \"8\": 3}, \"4\": {\"4\": 74, \"7\": 78, \"12\": 6, \"9\": 19, \"5\": 40, \"11\": 2, \"6\": 10, \"15\": 10, \"3\": 1}, \"6\": {\"9\": 29, \"13\": 5, \"15\": 33, \"6\": 50, \"5\": 33, \"12\": 25, \"11\": 34, \"3\": 17, \"4\": 8, \"7\": 6}, \"15\": {\"15\": 37, \"5\": 35, \"7\": 4, \"6\": 50, \"9\": 41, \"11\": 18, \"12\": 29, \"4\": 10, \"3\": 14, \"13\": 2}, \"10\": {\"8\": 55, \"2\": 29, \"0\": 48, \"14\": 23, \"10\": 63, \"1\": 16, \"13\": 6}, \"11\": {\"12\": 50, \"15\": 42, \"6\": 29, \"5\": 14, \"11\": 44, \"9\": 25, \"3\": 12, \"13\": 20, \"1\": 4}, \"13\": {\"11\": 24, \"13\": 71, \"6\": 14, \"8\": 21, \"1\": 53, \"3\": 28, \"15\": 10, \"10\": 6, \"5\": 3, \"12\": 8, \"9\": 2}, \"9\": {\"15\": 40, \"11\": 36, \"9\": 53, \"5\": 28, \"6\": 33, \"12\": 34, \"3\": 6, \"7\": 4, \"4\": 6}, \"0\": {\"2\": 59, \"0\": 62, \"14\": 63, \"10\": 39, \"8\": 16, \"13\": 1}, \"1\": {\"8\": 31, \"1\": 71, \"0\": 5, \"13\": 60, \"14\": 3, \"11\": 21, \"10\": 31, \"3\": 7, \"12\": 1, \"6\": 6, \"2\": 3, \"15\": 1}, \"12\": {\"11\": 39, \"15\": 34, \"7\": 3, \"9\": 56, \"12\": 44, \"6\": 31, \"3\": 12, \"5\": 17, \"13\": 4}, \"5\": {\"15\": 42, \"4\": 25, \"7\": 32, \"5\": 37, \"6\": 35, \"13\": 9, \"9\": 18, \"12\": 16, \"11\": 15, \"3\": 11}}, \"ORACLE.run1_32\": {\"8\": {\"13\": 1, \"7\": 25, \"8\": 52, \"4\": 9, \"14\": 45, \"5\": 29, \"15\": 15, \"0\": 44, \"2\": 12, \"3\": 8}, \"14\": {\"8\": 40, \"14\": 54, \"5\": 25, \"15\": 12, \"0\": 42, \"13\": 1, \"7\": 35, \"3\": 3, \"2\": 17, \"4\": 11}, \"2\": {\"8\": 12, \"4\": 66, \"2\": 74, \"13\": 22, \"0\": 11, \"7\": 8, \"9\": 4, \"15\": 1, \"14\": 15, \"3\": 18, \"1\": 6, \"11\": 2, \"5\": 1}, \"0\": {\"8\": 37, \"0\": 54, \"5\": 32, \"7\": 46, \"14\": 44, \"15\": 9, \"2\": 12, \"4\": 5, \"3\": 1}, \"1\": {\"1\": 141, \"2\": 23, \"9\": 41, \"7\": 1, \"8\": 1, \"4\": 20, \"13\": 6, \"12\": 2, \"3\": 2, \"0\": 1, \"11\": 2}, \"10\": {\"10\": 113, \"6\": 59, \"9\": 11, \"12\": 57}, \"11\": {\"11\": 114, \"3\": 23, \"13\": 55, \"4\": 12, \"2\": 7, \"9\": 26, \"12\": 3}, \"5\": {\"5\": 60, \"0\": 36, \"7\": 52, \"15\": 27, \"8\": 33, \"14\": 30, \"2\": 1, \"3\": 1}, \"15\": {\"15\": 89, \"0\": 15, \"8\": 32, \"7\": 30, \"14\": 18, \"5\": 55, \"2\": 1}, \"3\": {\"4\": 52, \"13\": 46, \"3\": 80, \"11\": 16, \"8\": 19, \"2\": 24, \"0\": 2, \"14\": 1}, \"12\": {\"9\": 56, \"10\": 47, \"11\": 8, \"12\": 118, \"6\": 6, \"1\": 3, \"13\": 2}, \"7\": {\"7\": 59, \"0\": 43, \"5\": 41, \"8\": 39, \"14\": 37, \"2\": 8, \"15\": 13}, \"13\": {\"3\": 43, \"4\": 49, \"13\": 69, \"11\": 42, \"9\": 9, \"2\": 26, \"0\": 1, \"14\": 1}, \"6\": {\"12\": 15, \"6\": 147, \"10\": 78}, \"4\": {\"8\": 9, \"4\": 61, \"3\": 38, \"7\": 3, \"2\": 52, \"13\": 56, \"0\": 4, \"11\": 7, \"14\": 5, \"9\": 4, \"1\": 1}, \"9\": {\"9\": 81, \"13\": 27, \"12\": 42, \"11\": 34, \"2\": 9, \"1\": 20, \"3\": 4, \"10\": 8, \"6\": 1, \"4\": 14}}, \"ORACLE.run1_26\": {\"4\": {\"3\": 37, \"4\": 92, \"12\": 19, \"7\": 16, \"13\": 52, \"9\": 10, \"8\": 9, \"2\": 5}, \"12\": {\"3\": 30, \"12\": 46, \"13\": 32, \"4\": 14, \"9\": 31, \"2\": 21, \"0\": 10, \"8\": 32, \"7\": 18, \"6\": 1, \"15\": 1, \"10\": 1, \"14\": 3}, \"10\": {\"6\": 31, \"1\": 23, \"15\": 26, \"14\": 46, \"10\": 26, \"12\": 3, \"0\": 39, \"5\": 16, \"9\": 3, \"2\": 14, \"11\": 5, \"8\": 4, \"3\": 1, \"7\": 3}, \"0\": {\"10\": 21, \"6\": 19, \"14\": 34, \"0\": 35, \"7\": 17, \"8\": 27, \"5\": 11, \"2\": 20, \"9\": 8, \"3\": 8, \"15\": 20, \"1\": 8, \"13\": 3, \"11\": 5, \"12\": 4}, \"13\": {\"7\": 22, \"3\": 41, \"4\": 31, \"9\": 26, \"13\": 41, \"12\": 29, \"8\": 25, \"14\": 2, \"2\": 18, \"0\": 2, \"15\": 1, \"10\": 2}, \"9\": {\"2\": 20, \"4\": 7, \"3\": 33, \"13\": 25, \"1\": 1, \"9\": 41, \"8\": 28, \"7\": 34, \"14\": 5, \"12\": 22, \"15\": 4, \"5\": 2, \"0\": 12, \"10\": 4, \"6\": 2}, \"3\": {\"13\": 37, \"3\": 34, \"4\": 14, \"2\": 22, \"12\": 30, \"8\": 26, \"7\": 41, \"9\": 29, \"14\": 3, \"0\": 4}, \"2\": {\"6\": 7, \"0\": 25, \"12\": 12, \"7\": 35, \"8\": 30, \"9\": 35, \"2\": 29, \"10\": 10, \"13\": 11, \"3\": 19, \"1\": 1, \"15\": 13, \"4\": 2, \"14\": 11}, \"5\": {\"6\": 36, \"15\": 31, \"1\": 29, \"10\": 36, \"14\": 34, \"5\": 42, \"11\": 17, \"0\": 14, \"8\": 1}, \"14\": {\"1\": 31, \"6\": 25, \"0\": 34, \"5\": 23, \"10\": 34, \"14\": 41, \"15\": 27, \"2\": 10, \"9\": 1, \"8\": 4, \"11\": 7, \"3\": 1, \"7\": 2}, \"8\": {\"7\": 39, \"8\": 40, \"12\": 22, \"3\": 25, \"0\": 22, \"9\": 31, \"4\": 7, \"6\": 2, \"13\": 16, \"14\": 5, \"2\": 18, \"10\": 7, \"15\": 5, \"5\": 1}, \"7\": {\"2\": 25, \"0\": 14, \"12\": 19, \"13\": 17, \"7\": 42, \"3\": 38, \"9\": 37, \"8\": 34, \"14\": 4, \"4\": 4, \"6\": 1, \"10\": 4, \"15\": 1}, \"6\": {\"6\": 41, \"11\": 21, \"10\": 33, \"1\": 23, \"15\": 47, \"5\": 32, \"14\": 22, \"0\": 17, \"8\": 1, \"2\": 3}, \"11\": {\"6\": 38, \"1\": 33, \"10\": 14, \"14\": 17, \"5\": 31, \"15\": 38, \"11\": 63, \"0\": 6}, \"15\": {\"6\": 29, \"11\": 14, \"10\": 42, \"5\": 38, \"15\": 39, \"1\": 18, \"14\": 29, \"0\": 21, \"8\": 3, \"9\": 2, \"2\": 4, \"7\": 1}, \"1\": {\"1\": 45, \"10\": 27, \"6\": 36, \"5\": 43, \"0\": 22, \"15\": 15, \"14\": 34, \"11\": 16, \"8\": 1, \"3\": 1}}, \"ORACLE.run1_44\": {\"12\": {\"12\": 119, \"3\": 109, \"0\": 2, \"8\": 2, \"1\": 8}, \"7\": {\"6\": 20, \"7\": 55, \"10\": 50, \"14\": 21, \"15\": 2, \"2\": 13, \"5\": 4, \"13\": 11, \"4\": 18, \"9\": 44, \"1\": 2}, \"5\": {\"14\": 53, \"7\": 13, \"5\": 48, \"9\": 8, \"8\": 19, \"4\": 31, \"2\": 11, \"10\": 4, \"15\": 34, \"13\": 3, \"1\": 8, \"0\": 6, \"6\": 2}, \"15\": {\"5\": 41, \"15\": 52, \"14\": 39, \"8\": 33, \"7\": 3, \"4\": 21, \"2\": 11, \"10\": 5, \"1\": 16, \"0\": 15, \"9\": 4}, \"8\": {\"0\": 60, \"15\": 44, \"5\": 28, \"3\": 3, \"8\": 67, \"14\": 17, \"4\": 5, \"1\": 9, \"2\": 4, \"12\": 2, \"9\": 1}, \"2\": {\"2\": 77, \"7\": 17, \"1\": 51, \"15\": 13, \"14\": 21, \"8\": 5, \"0\": 3, \"5\": 14, \"9\": 8, \"10\": 19, \"4\": 10, \"3\": 1, \"12\": 1}, \"13\": {\"13\": 99, \"6\": 61, \"10\": 10, \"7\": 12, \"9\": 43, \"11\": 12, \"4\": 3}, \"4\": {\"14\": 32, \"7\": 28, \"13\": 13, \"10\": 20, \"4\": 44, \"5\": 22, \"15\": 18, \"2\": 12, \"8\": 6, \"9\": 26, \"1\": 7, \"6\": 12}, \"0\": {\"0\": 88, \"8\": 78, \"5\": 6, \"3\": 17, \"15\": 30, \"14\": 3, \"1\": 10, \"12\": 5, \"2\": 2, \"4\": 1}, \"6\": {\"6\": 78, \"11\": 5, \"13\": 50, \"9\": 50, \"7\": 24, \"10\": 20, \"4\": 9, \"2\": 1, \"5\": 1, \"14\": 2}, \"9\": {\"2\": 16, \"7\": 34, \"4\": 26, \"6\": 39, \"13\": 24, \"14\": 16, \"10\": 35, \"9\": 29, \"5\": 8, \"11\": 3, \"15\": 5, \"1\": 5}, \"11\": {\"11\": 196, \"13\": 25, \"6\": 19}, \"10\": {\"9\": 45, \"1\": 14, \"13\": 7, \"6\": 18, \"7\": 65, \"10\": 50, \"2\": 14, \"14\": 10, \"4\": 11, \"5\": 4, \"15\": 2}, \"14\": {\"7\": 19, \"14\": 55, \"10\": 13, \"5\": 36, \"4\": 38, \"9\": 12, \"15\": 25, \"1\": 3, \"2\": 17, \"8\": 14, \"6\": 6, \"0\": 1, \"13\": 1}, \"1\": {\"1\": 87, \"2\": 75, \"15\": 16, \"5\": 4, \"14\": 11, \"8\": 7, \"0\": 8, \"3\": 1, \"12\": 3, \"4\": 7, \"10\": 11, \"7\": 8, \"9\": 2}, \"3\": {\"12\": 98, \"3\": 111, \"1\": 8, \"0\": 18, \"2\": 1, \"8\": 4}}}, \"per_domain_accuracy\": {\"C_A_3\": {\"accuracy\": 0.9984375, \"source?\": true}, \"C_A_4\": {\"accuracy\": 0.996875, \"source?\": true}, \"C_A_5\": {\"accuracy\": 0.996875, \"source?\": true}, \"W_A_3\": {\"accuracy\": 0.9759114583333334, \"source?\": true}, \"C_A_1\": {\"accuracy\": 1.0, \"source?\": true}, \"W_A_4\": {\"accuracy\": 0.9446614583333334, \"source?\": true}, \"W_A_1\": {\"accuracy\": 0.986328125, \"source?\": true}, \"W_A_2\": {\"accuracy\": 0.9654947916666666, \"source?\": true}, \"C_A_2\": {\"accuracy\": 0.9984375, \"source?\": true}, \"ORACLE.run1_14\": {\"accuracy\": 0.3734375, \"source?\": false}, \"ORACLE.run1_20\": {\"accuracy\": 0.16953125, \"source?\": false}, \"ORACLE.run1_38\": {\"accuracy\": 0.33307291666666666, \"source?\": false}, \"ORACLE.run1_8\": {\"accuracy\": 0.38046875, \"source?\": false}, \"ORACLE.run1_50\": {\"accuracy\": 0.253125, \"source?\": false}, \"ORACLE.run1_32\": {\"accuracy\": 0.35572916666666665, \"source?\": false}, \"ORACLE.run1_26\": {\"accuracy\": 0.18151041666666667, \"source?\": false}, \"ORACLE.run1_44\": {\"accuracy\": 0.3268229166666667, \"source?\": false}}}, \"history\": {\"epoch_indices\": [1, 2, 3, 4, 5, 6, 7, 8, 9, 10, 11, 12, 13], \"train_label_loss\": [0.30961521481725907, 0.1812214602448551, 0.1398539337053122, 0.11632654866997165, 0.10191065808567473, 0.09386851906467754, 0.08610252423987742, 0.07578148263364815, 0.07078600120518054, 0.068719963513186, 0.060256979178116725, 0.05500439798869829, 0.05049965360827223], \"source_val_label_loss\": [0.25620779395103455, 0.16452474892139435, 0.12758006155490875, 0.1272721290588379, 0.11988499015569687, 0.10920900851488113, 0.09974273294210434, 0.11157821863889694, 0.10793136805295944, 0.10387146472930908, 0.10223893821239471, 0.09808763861656189, 0.11356169730424881], \"target_val_label_loss\": [2.5692594051361084, 2.3035523891448975, 2.3258092403411865, 2.376873254776001, 2.348644733428955, 2.258852958679199, 2.354090452194214, 2.3073034286499023, 2.2410964965820312, 2.326421022415161, 2.3763065338134766, 2.442070722579956, 2.285245656967163], \"source_val_acc_label\": [0.947345890410959, 0.966716609589041, 0.9720676369863014, 0.9753852739726028, 0.9782748287671232, 0.9766695205479452, 0.9790239726027398, 0.9762414383561644, 0.9783818493150684, 0.9764554794520548, 0.9782748287671232, 0.978167808219178, 0.977097602739726], \"target_val_acc_label\": [0.4767578125, 0.4518229166666667, 0.41598307291666664, 0.4095377604166667, 0.3463541666666667, 0.27027994791666665, 0.2835286458333333, 0.25579427083333334, 0.2967122395833333, 0.26145833333333335, 0.23714192708333334, 0.22047526041666668, 0.24166666666666667]}, \"dataset_metrics\": {\"source\": {\"train\": {\"n_unique_x\": 56700, \"n_unique_y\": 130, \"n_batch/episode\": 2076}, \"val\": {\"n_unique_x\": 12132, \"n_unique_y\": 130, \"n_batch/episode\": 292}, \"test\": {\"n_unique_x\": 12132, \"n_unique_y\": 130, \"n_batch/episode\": 292}}, \"target\": {\"train\": {\"n_unique_x\": 179200, \"n_unique_y\": 16, \"n_batch/episode\": 6720}, \"val\": {\"n_unique_x\": 38400, \"n_unique_y\": 16, \"n_batch/episode\": 960}, \"test\": {\"n_unique_x\": 38400, \"n_unique_y\": 16, \"n_batch/episode\": 960}}}}'"
      ]
     },
     "execution_count": 29,
     "metadata": {},
     "output_type": "execute_result"
    }
   ],
   "source": [
    "json.dumps(experiment)"
   ]
  }
 ],
 "metadata": {
  "celltoolbar": "Tags",
  "kernelspec": {
   "display_name": "Python 3 (ipykernel)",
   "language": "python",
   "name": "python3"
  },
  "language_info": {
   "codemirror_mode": {
    "name": "ipython",
    "version": 3
   },
   "file_extension": ".py",
   "mimetype": "text/x-python",
   "name": "python",
   "nbconvert_exporter": "python",
   "pygments_lexer": "ipython3",
   "version": "3.8.10"
  },
  "papermill": {
   "default_parameters": {},
   "duration": 794.004543,
   "end_time": "2022-03-18T06:25:42.487695",
   "environment_variables": {},
   "exception": null,
   "input_path": "/mnt/wd500GB/CSC500/csc500-main/csc500-notebooks/templates/tl_ptn_template.ipynb",
   "output_path": "trial.ipynb",
   "parameters": {
    "parameters": {
     "BEST_MODEL_PATH": "./best_model.pth",
     "NUM_LOGS_PER_EPOCH": 10,
     "criteria_for_best": "target_loss",
     "dataset_seed": 1337,
     "datasets": [
      {
       "domain_prefix": "C_A_",
       "domains": [
        1,
        2,
        3,
        4,
        5
       ],
       "episode_transforms": [],
       "labels": [
        "1-10.",
        "1-11.",
        "1-15.",
        "1-16.",
        "1-17.",
        "1-18.",
        "1-19.",
        "10-4.",
        "10-7.",
        "11-1.",
        "11-14.",
        "11-17.",
        "11-20.",
        "11-7.",
        "13-20.",
        "13-8.",
        "14-10.",
        "14-11.",
        "14-14.",
        "14-7.",
        "15-1.",
        "15-20.",
        "16-1.",
        "16-16.",
        "17-10.",
        "17-11.",
        "17-2.",
        "19-1.",
        "19-16.",
        "19-19.",
        "19-20.",
        "19-3.",
        "2-10.",
        "2-11.",
        "2-17.",
        "2-18.",
        "2-20.",
        "2-3.",
        "2-4.",
        "2-5.",
        "2-6.",
        "2-7.",
        "2-8.",
        "3-13.",
        "3-18.",
        "3-3.",
        "4-1.",
        "4-10.",
        "4-11.",
        "4-19.",
        "5-5.",
        "6-15.",
        "7-10.",
        "7-14.",
        "8-18.",
        "8-20.",
        "8-3.",
        "8-8."
       ],
       "num_examples_per_domain_per_label": 100,
       "pickle_path": "/mnt/wd500GB/CSC500/csc500-main/datasets/cores.stratified_ds.2022A.pkl",
       "source_or_target_dataset": "source",
       "x_transforms": [
        "lowpass_+/-10MHz",
        "take_200"
       ]
      },
      {
       "domain_prefix": "W_A_",
       "domains": [
        1,
        2,
        3,
        4
       ],
       "episode_transforms": [],
       "labels": [
        "1-10",
        "1-12",
        "1-14",
        "1-16",
        "1-18",
        "1-19",
        "1-8",
        "10-11",
        "10-17",
        "10-4",
        "10-7",
        "11-1",
        "11-10",
        "11-19",
        "11-20",
        "11-4",
        "11-7",
        "12-19",
        "12-20",
        "12-7",
        "13-14",
        "13-18",
        "13-19",
        "13-20",
        "13-3",
        "13-7",
        "14-10",
        "14-11",
        "14-12",
        "14-13",
        "14-14",
        "14-19",
        "14-20",
        "14-7",
        "14-8",
        "14-9",
        "15-1",
        "15-19",
        "15-6",
        "16-1",
        "16-16",
        "16-19",
        "16-20",
        "17-10",
        "17-11",
        "18-1",
        "18-10",
        "18-11",
        "18-12",
        "18-13",
        "18-14",
        "18-15",
        "18-16",
        "18-17",
        "18-19",
        "18-2",
        "18-20",
        "18-4",
        "18-5",
        "18-7",
        "18-8",
        "18-9",
        "19-1",
        "19-10",
        "19-11",
        "19-12",
        "19-13",
        "19-14",
        "19-15",
        "19-19",
        "19-2",
        "19-20",
        "19-3",
        "19-4",
        "19-6",
        "19-7",
        "19-8",
        "19-9",
        "2-1",
        "2-13",
        "2-15",
        "2-3",
        "2-4",
        "2-5",
        "2-6",
        "2-7",
        "2-8",
        "20-1",
        "20-12",
        "20-14",
        "20-15",
        "20-16",
        "20-18",
        "20-19",
        "20-20",
        "20-3",
        "20-4",
        "20-5",
        "20-7",
        "20-8",
        "3-1",
        "3-13",
        "3-18",
        "3-2",
        "3-8",
        "4-1",
        "4-10",
        "4-11",
        "5-1",
        "5-5",
        "6-1",
        "6-15",
        "6-6",
        "7-10",
        "7-11",
        "7-12",
        "7-13",
        "7-14",
        "7-7",
        "7-8",
        "7-9",
        "8-1",
        "8-13",
        "8-14",
        "8-18",
        "8-20",
        "8-3",
        "8-8",
        "9-1",
        "9-7"
       ],
       "num_examples_per_domain_per_label": 100,
       "pickle_path": "/mnt/wd500GB/CSC500/csc500-main/datasets/wisig.node3-19.stratified_ds.2022A.pkl",
       "source_or_target_dataset": "source",
       "x_transforms": [
        "lowpass_+/-10MHz",
        "take_200"
       ]
      },
      {
       "domain_prefix": "ORACLE.run1_",
       "domains": [
        32,
        38,
        8,
        44,
        14,
        50,
        20,
        26
       ],
       "episode_transforms": [],
       "labels": [
        "3123D52",
        "3123D65",
        "3123D79",
        "3123D80",
        "3123D54",
        "3123D70",
        "3123D7B",
        "3123D89",
        "3123D58",
        "3123D76",
        "3123D7D",
        "3123EFE",
        "3123D64",
        "3123D78",
        "3123D7E",
        "3124E4A"
       ],
       "num_examples_per_domain_per_label": 2000,
       "pickle_path": "/mnt/wd500GB/CSC500/csc500-main/datasets/oracle.Run1_framed_2000Examples_stratified_ds.2022A.pkl",
       "source_or_target_dataset": "target",
       "x_transforms": [
        "take_200",
        "resample_20Msps_to_25Msps"
       ]
      }
     ],
     "device": "cuda",
     "experiment_name": "tl_3-filter:cores+wisig -> oracle.run1.framed",
     "lr": 0.001,
     "n_epoch": 50,
     "n_query": 2,
     "n_shot": 3,
     "n_way": 16,
     "patience": 3,
     "seed": 1337,
     "test_k_factor": 2,
     "torch_default_dtype": "torch.float32",
     "train_k_factor": 3,
     "val_k_factor": 2,
     "x_net": [
      {
       "class": "nnReshape",
       "kargs": {
        "shape": [
         -1,
         1,
         2,
         200
        ]
       }
      },
      {
       "class": "Conv2d",
       "kargs": {
        "bias": false,
        "in_channels": 1,
        "kernel_size": [
         1,
         7
        ],
        "out_channels": 256,
        "padding": [
         0,
         3
        ]
       }
      },
      {
       "class": "ReLU",
       "kargs": {
        "inplace": true
       }
      },
      {
       "class": "BatchNorm2d",
       "kargs": {
        "num_features": 256
       }
      },
      {
       "class": "Conv2d",
       "kargs": {
        "bias": true,
        "in_channels": 256,
        "kernel_size": [
         2,
         7
        ],
        "out_channels": 80,
        "padding": [
         0,
         3
        ]
       }
      },
      {
       "class": "ReLU",
       "kargs": {
        "inplace": true
       }
      },
      {
       "class": "BatchNorm2d",
       "kargs": {
        "num_features": 80
       }
      },
      {
       "class": "Flatten",
       "kargs": {}
      },
      {
       "class": "Linear",
       "kargs": {
        "in_features": 16000,
        "out_features": 256
       }
      },
      {
       "class": "ReLU",
       "kargs": {
        "inplace": true
       }
      },
      {
       "class": "BatchNorm1d",
       "kargs": {
        "num_features": 256
       }
      },
      {
       "class": "Linear",
       "kargs": {
        "in_features": 256,
        "out_features": 256
       }
      }
     ],
     "x_shape": [
      2,
      200
     ]
    }
   },
   "start_time": "2022-03-18T06:12:28.483152",
   "version": "2.3.4"
  }
 },
 "nbformat": 4,
 "nbformat_minor": 5
}