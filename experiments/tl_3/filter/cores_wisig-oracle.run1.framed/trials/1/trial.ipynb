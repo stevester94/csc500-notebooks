{
 "cells": [
  {
   "cell_type": "markdown",
   "id": "9fea5f46",
   "metadata": {
    "papermill": {
     "duration": 0.017758,
     "end_time": "2022-03-18T06:03:23.099176",
     "exception": false,
     "start_time": "2022-03-18T06:03:23.081418",
     "status": "completed"
    },
    "tags": []
   },
   "source": [
    "# Transfer Learning Template"
   ]
  },
  {
   "cell_type": "code",
   "execution_count": 1,
   "id": "0902182a",
   "metadata": {
    "execution": {
     "iopub.execute_input": "2022-03-18T06:03:23.138375Z",
     "iopub.status.busy": "2022-03-18T06:03:23.136268Z",
     "iopub.status.idle": "2022-03-18T06:03:24.033568Z",
     "shell.execute_reply": "2022-03-18T06:03:24.033276Z"
    },
    "papermill": {
     "duration": 0.921943,
     "end_time": "2022-03-18T06:03:24.033638",
     "exception": false,
     "start_time": "2022-03-18T06:03:23.111695",
     "status": "completed"
    },
    "tags": []
   },
   "outputs": [],
   "source": [
    "%load_ext autoreload\n",
    "%autoreload 2\n",
    "%matplotlib inline\n",
    "\n",
    "    \n",
    "import os, json, sys, time, random\n",
    "import numpy as np\n",
    "import torch\n",
    "from torch.optim import Adam\n",
    "from  easydict import EasyDict\n",
    "import matplotlib.pyplot as plt\n",
    "\n",
    "from steves_models.steves_ptn import Steves_Prototypical_Network\n",
    "\n",
    "from steves_utils.lazy_iterable_wrapper import Lazy_Iterable_Wrapper\n",
    "from steves_utils.iterable_aggregator import Iterable_Aggregator\n",
    "from steves_utils.ptn_train_eval_test_jig import  PTN_Train_Eval_Test_Jig\n",
    "from steves_utils.torch_sequential_builder import build_sequential\n",
    "from steves_utils.torch_utils import get_dataset_metrics, ptn_confusion_by_domain_over_dataloader\n",
    "from steves_utils.utils_v2 import (per_domain_accuracy_from_confusion, get_datasets_base_path)\n",
    "from steves_utils.PTN.utils import independent_accuracy_assesment\n",
    "\n",
    "from torch.utils.data import DataLoader\n",
    "\n",
    "from steves_utils.stratified_dataset.episodic_accessor import Episodic_Accessor_Factory\n",
    "\n",
    "from steves_utils.ptn_do_report import (\n",
    "    get_loss_curve,\n",
    "    get_results_table,\n",
    "    get_parameters_table,\n",
    "    get_domain_accuracies,\n",
    ")\n",
    "\n",
    "from steves_utils.transforms import get_chained_transform"
   ]
  },
  {
   "cell_type": "markdown",
   "id": "41c840b4",
   "metadata": {
    "papermill": {
     "duration": 0.012718,
     "end_time": "2022-03-18T06:03:24.059664",
     "exception": false,
     "start_time": "2022-03-18T06:03:24.046946",
     "status": "completed"
    },
    "tags": []
   },
   "source": [
    "# Allowed Parameters\n",
    "These are allowed parameters, not defaults\n",
    "Each of these values need to be present in the injected parameters (the notebook will raise an exception if they are not present)\n",
    "\n",
    "Papermill uses the cell tag \"parameters\" to inject the real parameters below this cell.\n",
    "Enable tags to see what I mean"
   ]
  },
  {
   "cell_type": "code",
   "execution_count": 2,
   "id": "fd44eb83",
   "metadata": {
    "execution": {
     "iopub.execute_input": "2022-03-18T06:03:24.087883Z",
     "iopub.status.busy": "2022-03-18T06:03:24.086331Z",
     "iopub.status.idle": "2022-03-18T06:03:24.102928Z",
     "shell.execute_reply": "2022-03-18T06:03:24.102488Z"
    },
    "papermill": {
     "duration": 0.030726,
     "end_time": "2022-03-18T06:03:24.103032",
     "exception": false,
     "start_time": "2022-03-18T06:03:24.072306",
     "status": "completed"
    },
    "tags": []
   },
   "outputs": [],
   "source": [
    "required_parameters = {\n",
    "    \"experiment_name\",\n",
    "    \"lr\",\n",
    "    \"device\",\n",
    "    \"seed\",\n",
    "    \"dataset_seed\",\n",
    "    \"n_shot\",\n",
    "    \"n_query\",\n",
    "    \"n_way\",\n",
    "    \"train_k_factor\",\n",
    "    \"val_k_factor\",\n",
    "    \"test_k_factor\",\n",
    "    \"n_epoch\",\n",
    "    \"patience\",\n",
    "    \"criteria_for_best\",\n",
    "    \"x_net\",\n",
    "    \"datasets\",\n",
    "    \"torch_default_dtype\",\n",
    "    \"NUM_LOGS_PER_EPOCH\",\n",
    "    \"BEST_MODEL_PATH\",\n",
    "    \"x_shape\",\n",
    "}"
   ]
  },
  {
   "cell_type": "code",
   "execution_count": 3,
   "id": "fa3f0049",
   "metadata": {
    "execution": {
     "iopub.execute_input": "2022-03-18T06:03:24.141322Z",
     "iopub.status.busy": "2022-03-18T06:03:24.141028Z",
     "iopub.status.idle": "2022-03-18T06:03:24.155099Z",
     "shell.execute_reply": "2022-03-18T06:03:24.154859Z"
    },
    "papermill": {
     "duration": 0.034829,
     "end_time": "2022-03-18T06:03:24.155161",
     "exception": false,
     "start_time": "2022-03-18T06:03:24.120332",
     "status": "completed"
    },
    "tags": [
     "parameters"
    ]
   },
   "outputs": [],
   "source": [
    "from steves_utils.CORES.utils import (\n",
    "    ALL_NODES,\n",
    "    ALL_NODES_MINIMUM_1000_EXAMPLES,\n",
    "    ALL_DAYS\n",
    ")\n",
    "\n",
    "from steves_utils.ORACLE.utils_v2 import (\n",
    "    ALL_DISTANCES_FEET_NARROWED,\n",
    "    ALL_RUNS,\n",
    "    ALL_SERIAL_NUMBERS,\n",
    ")\n",
    "\n",
    "standalone_parameters = {}\n",
    "standalone_parameters[\"experiment_name\"] = \"STANDALONE PTN\"\n",
    "standalone_parameters[\"lr\"] = 0.001\n",
    "standalone_parameters[\"device\"] = \"cuda\"\n",
    "\n",
    "standalone_parameters[\"seed\"] = 1337\n",
    "standalone_parameters[\"dataset_seed\"] = 1337\n",
    "\n",
    "standalone_parameters[\"n_way\"] = 8\n",
    "standalone_parameters[\"n_shot\"] = 3\n",
    "standalone_parameters[\"n_query\"]  = 2\n",
    "standalone_parameters[\"train_k_factor\"] = 1\n",
    "standalone_parameters[\"val_k_factor\"] = 2\n",
    "standalone_parameters[\"test_k_factor\"] = 2\n",
    "\n",
    "\n",
    "standalone_parameters[\"n_epoch\"] = 50\n",
    "\n",
    "standalone_parameters[\"patience\"] = 10\n",
    "standalone_parameters[\"criteria_for_best\"] = \"source_loss\"\n",
    "\n",
    "standalone_parameters[\"datasets\"] = [\n",
    "    {\n",
    "        \"labels\": ALL_SERIAL_NUMBERS,\n",
    "        \"domains\": ALL_DISTANCES_FEET_NARROWED,\n",
    "        \"num_examples_per_domain_per_label\": 100,\n",
    "        \"pickle_path\": os.path.join(get_datasets_base_path(), \"oracle.Run1_framed_2000Examples_stratified_ds.2022A.pkl\"),\n",
    "        \"source_or_target_dataset\": \"source\",\n",
    "        \"x_transforms\": [\"unit_mag\", \"minus_two\"],\n",
    "        \"episode_transforms\": [],\n",
    "        \"domain_prefix\": \"ORACLE_\"\n",
    "    },\n",
    "    {\n",
    "        \"labels\": ALL_NODES,\n",
    "        \"domains\": ALL_DAYS,\n",
    "        \"num_examples_per_domain_per_label\": 100,\n",
    "        \"pickle_path\": os.path.join(get_datasets_base_path(), \"cores.stratified_ds.2022A.pkl\"),\n",
    "        \"source_or_target_dataset\": \"target\",\n",
    "        \"x_transforms\": [\"unit_power\", \"times_zero\"],\n",
    "        \"episode_transforms\": [],\n",
    "        \"domain_prefix\": \"CORES_\"\n",
    "    }   \n",
    "]\n",
    "\n",
    "standalone_parameters[\"torch_default_dtype\"] = \"torch.float32\" \n",
    "\n",
    "\n",
    "\n",
    "standalone_parameters[\"x_net\"] =     [\n",
    "    {\"class\": \"nnReshape\", \"kargs\": {\"shape\":[-1, 1, 2, 256]}},\n",
    "    {\"class\": \"Conv2d\", \"kargs\": { \"in_channels\":1, \"out_channels\":256, \"kernel_size\":(1,7), \"bias\":False, \"padding\":(0,3), },},\n",
    "    {\"class\": \"ReLU\", \"kargs\": {\"inplace\": True}},\n",
    "    {\"class\": \"BatchNorm2d\", \"kargs\": {\"num_features\":256}},\n",
    "\n",
    "    {\"class\": \"Conv2d\", \"kargs\": { \"in_channels\":256, \"out_channels\":80, \"kernel_size\":(2,7), \"bias\":True, \"padding\":(0,3), },},\n",
    "    {\"class\": \"ReLU\", \"kargs\": {\"inplace\": True}},\n",
    "    {\"class\": \"BatchNorm2d\", \"kargs\": {\"num_features\":80}},\n",
    "    {\"class\": \"Flatten\", \"kargs\": {}},\n",
    "\n",
    "    {\"class\": \"Linear\", \"kargs\": {\"in_features\": 80*256, \"out_features\": 256}}, # 80 units per IQ pair\n",
    "    {\"class\": \"ReLU\", \"kargs\": {\"inplace\": True}},\n",
    "    {\"class\": \"BatchNorm1d\", \"kargs\": {\"num_features\":256}},\n",
    "\n",
    "    {\"class\": \"Linear\", \"kargs\": {\"in_features\": 256, \"out_features\": 256}},\n",
    "]\n",
    "\n",
    "# Parameters relevant to results\n",
    "# These parameters will basically never need to change\n",
    "standalone_parameters[\"NUM_LOGS_PER_EPOCH\"] = 10\n",
    "standalone_parameters[\"BEST_MODEL_PATH\"] = \"./best_model.pth\"\n",
    "\n",
    "\n",
    "\n",
    "\n"
   ]
  },
  {
   "cell_type": "code",
   "execution_count": 4,
   "id": "7527814c",
   "metadata": {
    "execution": {
     "iopub.execute_input": "2022-03-18T06:03:24.197453Z",
     "iopub.status.busy": "2022-03-18T06:03:24.186775Z",
     "iopub.status.idle": "2022-03-18T06:03:24.215044Z",
     "shell.execute_reply": "2022-03-18T06:03:24.215447Z"
    },
    "papermill": {
     "duration": 0.043267,
     "end_time": "2022-03-18T06:03:24.215576",
     "exception": false,
     "start_time": "2022-03-18T06:03:24.172309",
     "status": "completed"
    },
    "tags": [
     "injected-parameters"
    ]
   },
   "outputs": [],
   "source": [
    "# Parameters\n",
    "parameters = {\n",
    "    \"experiment_name\": \"tl_3-filter:cores+wisig -> oracle.run1.framed\",\n",
    "    \"device\": \"cuda\",\n",
    "    \"lr\": 0.001,\n",
    "    \"seed\": 1337,\n",
    "    \"dataset_seed\": 1337,\n",
    "    \"x_shape\": [2, 200],\n",
    "    \"n_shot\": 3,\n",
    "    \"n_query\": 2,\n",
    "    \"train_k_factor\": 3,\n",
    "    \"val_k_factor\": 2,\n",
    "    \"test_k_factor\": 2,\n",
    "    \"torch_default_dtype\": \"torch.float32\",\n",
    "    \"n_epoch\": 50,\n",
    "    \"patience\": 3,\n",
    "    \"criteria_for_best\": \"target_loss\",\n",
    "    \"x_net\": [\n",
    "        {\"class\": \"nnReshape\", \"kargs\": {\"shape\": [-1, 1, 2, 200]}},\n",
    "        {\n",
    "            \"class\": \"Conv2d\",\n",
    "            \"kargs\": {\n",
    "                \"in_channels\": 1,\n",
    "                \"out_channels\": 256,\n",
    "                \"kernel_size\": [1, 7],\n",
    "                \"bias\": False,\n",
    "                \"padding\": [0, 3],\n",
    "            },\n",
    "        },\n",
    "        {\"class\": \"ReLU\", \"kargs\": {\"inplace\": True}},\n",
    "        {\"class\": \"BatchNorm2d\", \"kargs\": {\"num_features\": 256}},\n",
    "        {\n",
    "            \"class\": \"Conv2d\",\n",
    "            \"kargs\": {\n",
    "                \"in_channels\": 256,\n",
    "                \"out_channels\": 80,\n",
    "                \"kernel_size\": [2, 7],\n",
    "                \"bias\": True,\n",
    "                \"padding\": [0, 3],\n",
    "            },\n",
    "        },\n",
    "        {\"class\": \"ReLU\", \"kargs\": {\"inplace\": True}},\n",
    "        {\"class\": \"BatchNorm2d\", \"kargs\": {\"num_features\": 80}},\n",
    "        {\"class\": \"Flatten\", \"kargs\": {}},\n",
    "        {\"class\": \"Linear\", \"kargs\": {\"in_features\": 16000, \"out_features\": 256}},\n",
    "        {\"class\": \"ReLU\", \"kargs\": {\"inplace\": True}},\n",
    "        {\"class\": \"BatchNorm1d\", \"kargs\": {\"num_features\": 256}},\n",
    "        {\"class\": \"Linear\", \"kargs\": {\"in_features\": 256, \"out_features\": 256}},\n",
    "    ],\n",
    "    \"NUM_LOGS_PER_EPOCH\": 10,\n",
    "    \"BEST_MODEL_PATH\": \"./best_model.pth\",\n",
    "    \"n_way\": 16,\n",
    "    \"datasets\": [\n",
    "        {\n",
    "            \"labels\": [\n",
    "                \"1-10.\",\n",
    "                \"1-11.\",\n",
    "                \"1-15.\",\n",
    "                \"1-16.\",\n",
    "                \"1-17.\",\n",
    "                \"1-18.\",\n",
    "                \"1-19.\",\n",
    "                \"10-4.\",\n",
    "                \"10-7.\",\n",
    "                \"11-1.\",\n",
    "                \"11-14.\",\n",
    "                \"11-17.\",\n",
    "                \"11-20.\",\n",
    "                \"11-7.\",\n",
    "                \"13-20.\",\n",
    "                \"13-8.\",\n",
    "                \"14-10.\",\n",
    "                \"14-11.\",\n",
    "                \"14-14.\",\n",
    "                \"14-7.\",\n",
    "                \"15-1.\",\n",
    "                \"15-20.\",\n",
    "                \"16-1.\",\n",
    "                \"16-16.\",\n",
    "                \"17-10.\",\n",
    "                \"17-11.\",\n",
    "                \"17-2.\",\n",
    "                \"19-1.\",\n",
    "                \"19-16.\",\n",
    "                \"19-19.\",\n",
    "                \"19-20.\",\n",
    "                \"19-3.\",\n",
    "                \"2-10.\",\n",
    "                \"2-11.\",\n",
    "                \"2-17.\",\n",
    "                \"2-18.\",\n",
    "                \"2-20.\",\n",
    "                \"2-3.\",\n",
    "                \"2-4.\",\n",
    "                \"2-5.\",\n",
    "                \"2-6.\",\n",
    "                \"2-7.\",\n",
    "                \"2-8.\",\n",
    "                \"3-13.\",\n",
    "                \"3-18.\",\n",
    "                \"3-3.\",\n",
    "                \"4-1.\",\n",
    "                \"4-10.\",\n",
    "                \"4-11.\",\n",
    "                \"4-19.\",\n",
    "                \"5-5.\",\n",
    "                \"6-15.\",\n",
    "                \"7-10.\",\n",
    "                \"7-14.\",\n",
    "                \"8-18.\",\n",
    "                \"8-20.\",\n",
    "                \"8-3.\",\n",
    "                \"8-8.\",\n",
    "            ],\n",
    "            \"domains\": [1, 2, 3, 4, 5],\n",
    "            \"num_examples_per_domain_per_label\": 100,\n",
    "            \"pickle_path\": \"/mnt/wd500GB/CSC500/csc500-main/datasets/cores.stratified_ds.2022A.pkl\",\n",
    "            \"source_or_target_dataset\": \"source\",\n",
    "            \"x_transforms\": [\"unit_mag\", \"lowpass_+/-10MHz\", \"take_200\"],\n",
    "            \"episode_transforms\": [],\n",
    "            \"domain_prefix\": \"C_A_\",\n",
    "        },\n",
    "        {\n",
    "            \"labels\": [\n",
    "                \"1-10\",\n",
    "                \"1-12\",\n",
    "                \"1-14\",\n",
    "                \"1-16\",\n",
    "                \"1-18\",\n",
    "                \"1-19\",\n",
    "                \"1-8\",\n",
    "                \"10-11\",\n",
    "                \"10-17\",\n",
    "                \"10-4\",\n",
    "                \"10-7\",\n",
    "                \"11-1\",\n",
    "                \"11-10\",\n",
    "                \"11-19\",\n",
    "                \"11-20\",\n",
    "                \"11-4\",\n",
    "                \"11-7\",\n",
    "                \"12-19\",\n",
    "                \"12-20\",\n",
    "                \"12-7\",\n",
    "                \"13-14\",\n",
    "                \"13-18\",\n",
    "                \"13-19\",\n",
    "                \"13-20\",\n",
    "                \"13-3\",\n",
    "                \"13-7\",\n",
    "                \"14-10\",\n",
    "                \"14-11\",\n",
    "                \"14-12\",\n",
    "                \"14-13\",\n",
    "                \"14-14\",\n",
    "                \"14-19\",\n",
    "                \"14-20\",\n",
    "                \"14-7\",\n",
    "                \"14-8\",\n",
    "                \"14-9\",\n",
    "                \"15-1\",\n",
    "                \"15-19\",\n",
    "                \"15-6\",\n",
    "                \"16-1\",\n",
    "                \"16-16\",\n",
    "                \"16-19\",\n",
    "                \"16-20\",\n",
    "                \"17-10\",\n",
    "                \"17-11\",\n",
    "                \"18-1\",\n",
    "                \"18-10\",\n",
    "                \"18-11\",\n",
    "                \"18-12\",\n",
    "                \"18-13\",\n",
    "                \"18-14\",\n",
    "                \"18-15\",\n",
    "                \"18-16\",\n",
    "                \"18-17\",\n",
    "                \"18-19\",\n",
    "                \"18-2\",\n",
    "                \"18-20\",\n",
    "                \"18-4\",\n",
    "                \"18-5\",\n",
    "                \"18-7\",\n",
    "                \"18-8\",\n",
    "                \"18-9\",\n",
    "                \"19-1\",\n",
    "                \"19-10\",\n",
    "                \"19-11\",\n",
    "                \"19-12\",\n",
    "                \"19-13\",\n",
    "                \"19-14\",\n",
    "                \"19-15\",\n",
    "                \"19-19\",\n",
    "                \"19-2\",\n",
    "                \"19-20\",\n",
    "                \"19-3\",\n",
    "                \"19-4\",\n",
    "                \"19-6\",\n",
    "                \"19-7\",\n",
    "                \"19-8\",\n",
    "                \"19-9\",\n",
    "                \"2-1\",\n",
    "                \"2-13\",\n",
    "                \"2-15\",\n",
    "                \"2-3\",\n",
    "                \"2-4\",\n",
    "                \"2-5\",\n",
    "                \"2-6\",\n",
    "                \"2-7\",\n",
    "                \"2-8\",\n",
    "                \"20-1\",\n",
    "                \"20-12\",\n",
    "                \"20-14\",\n",
    "                \"20-15\",\n",
    "                \"20-16\",\n",
    "                \"20-18\",\n",
    "                \"20-19\",\n",
    "                \"20-20\",\n",
    "                \"20-3\",\n",
    "                \"20-4\",\n",
    "                \"20-5\",\n",
    "                \"20-7\",\n",
    "                \"20-8\",\n",
    "                \"3-1\",\n",
    "                \"3-13\",\n",
    "                \"3-18\",\n",
    "                \"3-2\",\n",
    "                \"3-8\",\n",
    "                \"4-1\",\n",
    "                \"4-10\",\n",
    "                \"4-11\",\n",
    "                \"5-1\",\n",
    "                \"5-5\",\n",
    "                \"6-1\",\n",
    "                \"6-15\",\n",
    "                \"6-6\",\n",
    "                \"7-10\",\n",
    "                \"7-11\",\n",
    "                \"7-12\",\n",
    "                \"7-13\",\n",
    "                \"7-14\",\n",
    "                \"7-7\",\n",
    "                \"7-8\",\n",
    "                \"7-9\",\n",
    "                \"8-1\",\n",
    "                \"8-13\",\n",
    "                \"8-14\",\n",
    "                \"8-18\",\n",
    "                \"8-20\",\n",
    "                \"8-3\",\n",
    "                \"8-8\",\n",
    "                \"9-1\",\n",
    "                \"9-7\",\n",
    "            ],\n",
    "            \"domains\": [1, 2, 3, 4],\n",
    "            \"num_examples_per_domain_per_label\": 100,\n",
    "            \"pickle_path\": \"/mnt/wd500GB/CSC500/csc500-main/datasets/wisig.node3-19.stratified_ds.2022A.pkl\",\n",
    "            \"source_or_target_dataset\": \"source\",\n",
    "            \"x_transforms\": [\"unit_mag\", \"lowpass_+/-10MHz\", \"take_200\"],\n",
    "            \"episode_transforms\": [],\n",
    "            \"domain_prefix\": \"W_A_\",\n",
    "        },\n",
    "        {\n",
    "            \"labels\": [\n",
    "                \"3123D52\",\n",
    "                \"3123D65\",\n",
    "                \"3123D79\",\n",
    "                \"3123D80\",\n",
    "                \"3123D54\",\n",
    "                \"3123D70\",\n",
    "                \"3123D7B\",\n",
    "                \"3123D89\",\n",
    "                \"3123D58\",\n",
    "                \"3123D76\",\n",
    "                \"3123D7D\",\n",
    "                \"3123EFE\",\n",
    "                \"3123D64\",\n",
    "                \"3123D78\",\n",
    "                \"3123D7E\",\n",
    "                \"3124E4A\",\n",
    "            ],\n",
    "            \"domains\": [32, 38, 8, 44, 14, 50, 20, 26],\n",
    "            \"num_examples_per_domain_per_label\": 2000,\n",
    "            \"pickle_path\": \"/mnt/wd500GB/CSC500/csc500-main/datasets/oracle.Run1_framed_2000Examples_stratified_ds.2022A.pkl\",\n",
    "            \"source_or_target_dataset\": \"target\",\n",
    "            \"x_transforms\": [\"unit_mag\", \"take_200\", \"resample_20Msps_to_25Msps\"],\n",
    "            \"episode_transforms\": [],\n",
    "            \"domain_prefix\": \"ORACLE.run1_\",\n",
    "        },\n",
    "    ],\n",
    "}\n"
   ]
  },
  {
   "cell_type": "code",
   "execution_count": 5,
   "id": "8fa1cc33",
   "metadata": {
    "execution": {
     "iopub.execute_input": "2022-03-18T06:03:24.251036Z",
     "iopub.status.busy": "2022-03-18T06:03:24.250782Z",
     "iopub.status.idle": "2022-03-18T06:03:24.266876Z",
     "shell.execute_reply": "2022-03-18T06:03:24.266456Z"
    },
    "papermill": {
     "duration": 0.032294,
     "end_time": "2022-03-18T06:03:24.266975",
     "exception": false,
     "start_time": "2022-03-18T06:03:24.234681",
     "status": "completed"
    },
    "tags": []
   },
   "outputs": [],
   "source": [
    "# Set this to True if you want to run this template directly\n",
    "STANDALONE = False\n",
    "if STANDALONE:\n",
    "    print(\"parameters not injected, running with standalone_parameters\")\n",
    "    parameters = standalone_parameters\n",
    "\n",
    "if not 'parameters' in locals() and not 'parameters' in globals():\n",
    "    raise Exception(\"Parameter injection failed\")\n",
    "\n",
    "#Use an easy dict for all the parameters\n",
    "p = EasyDict(parameters)\n",
    "\n",
    "if \"x_shape\" not in p:\n",
    "    p.x_shape = [2,256] # Default to this if we dont supply x_shape\n",
    "\n",
    "\n",
    "supplied_keys = set(p.keys())\n",
    "\n",
    "if  supplied_keys != required_parameters:\n",
    "    print(\"Parameters are incorrect\")\n",
    "    if len(supplied_keys - required_parameters)>0: print(\"Shouldn't have:\", str(supplied_keys - required_parameters))\n",
    "    if len(required_parameters - supplied_keys)>0: print(\"Need to have:\", str(required_parameters - supplied_keys))\n",
    "    raise RuntimeError(\"Parameters are incorrect\")"
   ]
  },
  {
   "cell_type": "code",
   "execution_count": 6,
   "id": "3a028d58",
   "metadata": {
    "execution": {
     "iopub.execute_input": "2022-03-18T06:03:24.299527Z",
     "iopub.status.busy": "2022-03-18T06:03:24.299269Z",
     "iopub.status.idle": "2022-03-18T06:03:24.312834Z",
     "shell.execute_reply": "2022-03-18T06:03:24.313136Z"
    },
    "papermill": {
     "duration": 0.028515,
     "end_time": "2022-03-18T06:03:24.313231",
     "exception": false,
     "start_time": "2022-03-18T06:03:24.284716",
     "status": "completed"
    },
    "tags": []
   },
   "outputs": [],
   "source": [
    "###################################\n",
    "# Set the RNGs and make it all deterministic\n",
    "###################################\n",
    "np.random.seed(p.seed)\n",
    "random.seed(p.seed)\n",
    "torch.manual_seed(p.seed)\n",
    "\n",
    "torch.use_deterministic_algorithms(True) "
   ]
  },
  {
   "cell_type": "code",
   "execution_count": 7,
   "id": "b691acf6",
   "metadata": {
    "execution": {
     "iopub.execute_input": "2022-03-18T06:03:24.346760Z",
     "iopub.status.busy": "2022-03-18T06:03:24.346514Z",
     "iopub.status.idle": "2022-03-18T06:03:24.359270Z",
     "shell.execute_reply": "2022-03-18T06:03:24.359488Z"
    },
    "papermill": {
     "duration": 0.027788,
     "end_time": "2022-03-18T06:03:24.359557",
     "exception": false,
     "start_time": "2022-03-18T06:03:24.331769",
     "status": "completed"
    },
    "tags": []
   },
   "outputs": [],
   "source": [
    "###########################################\n",
    "# The stratified datasets honor this\n",
    "###########################################\n",
    "torch.set_default_dtype(eval(p.torch_default_dtype))"
   ]
  },
  {
   "cell_type": "code",
   "execution_count": 8,
   "id": "b5fba671",
   "metadata": {
    "execution": {
     "iopub.execute_input": "2022-03-18T06:03:24.391406Z",
     "iopub.status.busy": "2022-03-18T06:03:24.391145Z",
     "iopub.status.idle": "2022-03-18T06:03:24.427061Z",
     "shell.execute_reply": "2022-03-18T06:03:24.426617Z"
    },
    "papermill": {
     "duration": 0.050787,
     "end_time": "2022-03-18T06:03:24.427166",
     "exception": false,
     "start_time": "2022-03-18T06:03:24.376379",
     "status": "completed"
    },
    "tags": []
   },
   "outputs": [],
   "source": [
    "###################################\n",
    "# Build the network(s)\n",
    "# Note: It's critical to do this AFTER setting the RNG\n",
    "###################################\n",
    "x_net = build_sequential(p.x_net)"
   ]
  },
  {
   "cell_type": "code",
   "execution_count": 9,
   "id": "5d7e61cc",
   "metadata": {
    "execution": {
     "iopub.execute_input": "2022-03-18T06:03:24.461887Z",
     "iopub.status.busy": "2022-03-18T06:03:24.461630Z",
     "iopub.status.idle": "2022-03-18T06:03:24.477407Z",
     "shell.execute_reply": "2022-03-18T06:03:24.476925Z"
    },
    "papermill": {
     "duration": 0.030904,
     "end_time": "2022-03-18T06:03:24.477505",
     "exception": false,
     "start_time": "2022-03-18T06:03:24.446601",
     "status": "completed"
    },
    "tags": []
   },
   "outputs": [],
   "source": [
    "start_time_secs = time.time()"
   ]
  },
  {
   "cell_type": "code",
   "execution_count": 10,
   "id": "c6b67dfd",
   "metadata": {
    "execution": {
     "iopub.execute_input": "2022-03-18T06:03:24.510730Z",
     "iopub.status.busy": "2022-03-18T06:03:24.510481Z",
     "iopub.status.idle": "2022-03-18T06:03:24.521273Z",
     "shell.execute_reply": "2022-03-18T06:03:24.521667Z"
    },
    "papermill": {
     "duration": 0.026077,
     "end_time": "2022-03-18T06:03:24.521784",
     "exception": false,
     "start_time": "2022-03-18T06:03:24.495707",
     "status": "completed"
    },
    "tags": []
   },
   "outputs": [],
   "source": [
    "p.domains_source = []\n",
    "p.domains_target = []\n",
    "\n",
    "\n",
    "train_original_source = []\n",
    "val_original_source   = []\n",
    "test_original_source  = []\n",
    "\n",
    "train_original_target = []\n",
    "val_original_target   = []\n",
    "test_original_target  = []"
   ]
  },
  {
   "cell_type": "code",
   "execution_count": 11,
   "id": "e3d9c3d3",
   "metadata": {
    "execution": {
     "iopub.execute_input": "2022-03-18T06:03:24.554947Z",
     "iopub.status.busy": "2022-03-18T06:03:24.554692Z",
     "iopub.status.idle": "2022-03-18T06:03:24.569778Z",
     "shell.execute_reply": "2022-03-18T06:03:24.569414Z"
    },
    "papermill": {
     "duration": 0.029884,
     "end_time": "2022-03-18T06:03:24.569853",
     "exception": false,
     "start_time": "2022-03-18T06:03:24.539969",
     "status": "completed"
    },
    "tags": []
   },
   "outputs": [],
   "source": [
    "# global_x_transform_func = lambda x: normalize(x.to(torch.get_default_dtype()), \"unit_power\") # unit_power, unit_mag\n",
    "# global_x_transform_func = lambda x: normalize(x, \"unit_power\") # unit_power, unit_mag"
   ]
  },
  {
   "cell_type": "code",
   "execution_count": 12,
   "id": "acb78fd2",
   "metadata": {
    "execution": {
     "iopub.execute_input": "2022-03-18T06:03:24.606875Z",
     "iopub.status.busy": "2022-03-18T06:03:24.606587Z",
     "iopub.status.idle": "2022-03-18T06:03:24.621243Z",
     "shell.execute_reply": "2022-03-18T06:03:24.620761Z"
    },
    "papermill": {
     "duration": 0.034314,
     "end_time": "2022-03-18T06:03:24.621343",
     "exception": false,
     "start_time": "2022-03-18T06:03:24.587029",
     "status": "completed"
    },
    "tags": []
   },
   "outputs": [],
   "source": [
    "def add_dataset(\n",
    "    labels,\n",
    "    domains,\n",
    "    pickle_path,\n",
    "    x_transforms,\n",
    "    episode_transforms,\n",
    "    domain_prefix,\n",
    "    num_examples_per_domain_per_label,\n",
    "    source_or_target_dataset:str,\n",
    "    iterator_seed=p.seed,\n",
    "    dataset_seed=p.dataset_seed,\n",
    "    n_shot=p.n_shot,\n",
    "    n_way=p.n_way,\n",
    "    n_query=p.n_query,\n",
    "    train_val_test_k_factors=(p.train_k_factor,p.val_k_factor,p.test_k_factor),\n",
    "):\n",
    "   \n",
    "    if x_transforms == []: x_transform = None\n",
    "    else: x_transform = get_chained_transform(x_transforms)\n",
    "    \n",
    "    if episode_transforms == []: episode_transform = None\n",
    "    else: raise Exception(\"episode_transforms not implemented\")\n",
    "    \n",
    "    episode_transform = lambda tup, _prefix=domain_prefix: (_prefix + str(tup[0]), tup[1])\n",
    "\n",
    "\n",
    "    eaf = Episodic_Accessor_Factory(\n",
    "        labels=labels,\n",
    "        domains=domains,\n",
    "        num_examples_per_domain_per_label=num_examples_per_domain_per_label,\n",
    "        iterator_seed=iterator_seed,\n",
    "        dataset_seed=dataset_seed,\n",
    "        n_shot=n_shot,\n",
    "        n_way=n_way,\n",
    "        n_query=n_query,\n",
    "        train_val_test_k_factors=train_val_test_k_factors,\n",
    "        pickle_path=pickle_path,\n",
    "        x_transform_func=x_transform,\n",
    "    )\n",
    "\n",
    "    train, val, test = eaf.get_train(), eaf.get_val(), eaf.get_test()\n",
    "    train = Lazy_Iterable_Wrapper(train, episode_transform)\n",
    "    val = Lazy_Iterable_Wrapper(val, episode_transform)\n",
    "    test = Lazy_Iterable_Wrapper(test, episode_transform)\n",
    "\n",
    "    if source_or_target_dataset==\"source\":\n",
    "        train_original_source.append(train)\n",
    "        val_original_source.append(val)\n",
    "        test_original_source.append(test)\n",
    "\n",
    "        p.domains_source.extend(\n",
    "            [domain_prefix + str(u) for u in domains]\n",
    "        )\n",
    "    elif source_or_target_dataset==\"target\":\n",
    "        train_original_target.append(train)\n",
    "        val_original_target.append(val)\n",
    "        test_original_target.append(test)\n",
    "        p.domains_target.extend(\n",
    "            [domain_prefix + str(u) for u in domains]\n",
    "        )\n",
    "    else:\n",
    "        raise Exception(f\"invalid source_or_target_dataset: {source_or_target_dataset}\")\n",
    "    "
   ]
  },
  {
   "cell_type": "code",
   "execution_count": 13,
   "id": "fe266617",
   "metadata": {
    "execution": {
     "iopub.execute_input": "2022-03-18T06:03:24.653039Z",
     "iopub.status.busy": "2022-03-18T06:03:24.652786Z",
     "iopub.status.idle": "2022-03-18T06:04:03.996345Z",
     "shell.execute_reply": "2022-03-18T06:04:03.996750Z"
    },
    "papermill": {
     "duration": 39.35887,
     "end_time": "2022-03-18T06:04:03.996882",
     "exception": false,
     "start_time": "2022-03-18T06:03:24.638012",
     "status": "completed"
    },
    "tags": []
   },
   "outputs": [],
   "source": [
    "for ds in p.datasets:\n",
    "    add_dataset(**ds)"
   ]
  },
  {
   "cell_type": "code",
   "execution_count": 14,
   "id": "b90d65ac",
   "metadata": {
    "execution": {
     "iopub.execute_input": "2022-03-18T06:04:04.033460Z",
     "iopub.status.busy": "2022-03-18T06:04:04.033205Z",
     "iopub.status.idle": "2022-03-18T06:04:04.049390Z",
     "shell.execute_reply": "2022-03-18T06:04:04.049790Z"
    },
    "papermill": {
     "duration": 0.032041,
     "end_time": "2022-03-18T06:04:04.049911",
     "exception": false,
     "start_time": "2022-03-18T06:04:04.017870",
     "status": "completed"
    },
    "tags": []
   },
   "outputs": [],
   "source": [
    "# from steves_utils.CORES.utils import (\n",
    "#     ALL_NODES,\n",
    "#     ALL_NODES_MINIMUM_1000_EXAMPLES,\n",
    "#     ALL_DAYS\n",
    "# )\n",
    "\n",
    "# add_dataset(\n",
    "#     labels=ALL_NODES,\n",
    "#     domains = ALL_DAYS,\n",
    "#     num_examples_per_domain_per_label=100,\n",
    "#     pickle_path=os.path.join(get_datasets_base_path(), \"cores.stratified_ds.2022A.pkl\"),\n",
    "#     source_or_target_dataset=\"target\",\n",
    "#     x_transform_func=global_x_transform_func,\n",
    "#     domain_modifier=lambda u: f\"cores_{u}\"\n",
    "# )"
   ]
  },
  {
   "cell_type": "code",
   "execution_count": 15,
   "id": "76db484d",
   "metadata": {
    "execution": {
     "iopub.execute_input": "2022-03-18T06:04:04.084134Z",
     "iopub.status.busy": "2022-03-18T06:04:04.083881Z",
     "iopub.status.idle": "2022-03-18T06:04:04.094752Z",
     "shell.execute_reply": "2022-03-18T06:04:04.094960Z"
    },
    "papermill": {
     "duration": 0.025994,
     "end_time": "2022-03-18T06:04:04.095026",
     "exception": false,
     "start_time": "2022-03-18T06:04:04.069032",
     "status": "completed"
    },
    "tags": []
   },
   "outputs": [],
   "source": [
    "# from steves_utils.ORACLE.utils_v2 import (\n",
    "#     ALL_DISTANCES_FEET,\n",
    "#     ALL_RUNS,\n",
    "#     ALL_SERIAL_NUMBERS,\n",
    "# )\n",
    "\n",
    "\n",
    "# add_dataset(\n",
    "#     labels=ALL_SERIAL_NUMBERS,\n",
    "#     domains = list(set(ALL_DISTANCES_FEET) - {2,62}),\n",
    "#     num_examples_per_domain_per_label=100,\n",
    "#     pickle_path=os.path.join(get_datasets_base_path(), \"oracle.Run2_framed_2000Examples_stratified_ds.2022A.pkl\"),\n",
    "#     source_or_target_dataset=\"source\",\n",
    "#     x_transform_func=global_x_transform_func,\n",
    "#     domain_modifier=lambda u: f\"oracle1_{u}\"\n",
    "# )\n"
   ]
  },
  {
   "cell_type": "code",
   "execution_count": 16,
   "id": "97dea9d2",
   "metadata": {
    "execution": {
     "iopub.execute_input": "2022-03-18T06:04:04.128378Z",
     "iopub.status.busy": "2022-03-18T06:04:04.128128Z",
     "iopub.status.idle": "2022-03-18T06:04:04.141526Z",
     "shell.execute_reply": "2022-03-18T06:04:04.141101Z"
    },
    "papermill": {
     "duration": 0.028999,
     "end_time": "2022-03-18T06:04:04.141625",
     "exception": false,
     "start_time": "2022-03-18T06:04:04.112626",
     "status": "completed"
    },
    "tags": []
   },
   "outputs": [],
   "source": [
    "# from steves_utils.ORACLE.utils_v2 import (\n",
    "#     ALL_DISTANCES_FEET,\n",
    "#     ALL_RUNS,\n",
    "#     ALL_SERIAL_NUMBERS,\n",
    "# )\n",
    "\n",
    "\n",
    "# add_dataset(\n",
    "#     labels=ALL_SERIAL_NUMBERS,\n",
    "#     domains = list(set(ALL_DISTANCES_FEET) - {2,62,56}),\n",
    "#     num_examples_per_domain_per_label=100,\n",
    "#     pickle_path=os.path.join(get_datasets_base_path(), \"oracle.Run2_framed_2000Examples_stratified_ds.2022A.pkl\"),\n",
    "#     source_or_target_dataset=\"source\",\n",
    "#     x_transform_func=global_x_transform_func,\n",
    "#     domain_modifier=lambda u: f\"oracle2_{u}\"\n",
    "# )"
   ]
  },
  {
   "cell_type": "code",
   "execution_count": 17,
   "id": "6f289866",
   "metadata": {
    "execution": {
     "iopub.execute_input": "2022-03-18T06:04:04.176974Z",
     "iopub.status.busy": "2022-03-18T06:04:04.176722Z",
     "iopub.status.idle": "2022-03-18T06:04:04.192673Z",
     "shell.execute_reply": "2022-03-18T06:04:04.193097Z"
    },
    "papermill": {
     "duration": 0.032502,
     "end_time": "2022-03-18T06:04:04.193226",
     "exception": false,
     "start_time": "2022-03-18T06:04:04.160724",
     "status": "completed"
    },
    "tags": []
   },
   "outputs": [],
   "source": [
    "# add_dataset(\n",
    "#     labels=list(range(19)),\n",
    "#     domains = [0,1,2],\n",
    "#     num_examples_per_domain_per_label=100,\n",
    "#     pickle_path=os.path.join(get_datasets_base_path(), \"metehan.stratified_ds.2022A.pkl\"),\n",
    "#     source_or_target_dataset=\"target\",\n",
    "#     x_transform_func=global_x_transform_func,\n",
    "#     domain_modifier=lambda u: f\"met_{u}\"\n",
    "# )"
   ]
  },
  {
   "cell_type": "code",
   "execution_count": 18,
   "id": "86a863c3",
   "metadata": {
    "execution": {
     "iopub.execute_input": "2022-03-18T06:04:04.227765Z",
     "iopub.status.busy": "2022-03-18T06:04:04.227508Z",
     "iopub.status.idle": "2022-03-18T06:04:04.240996Z",
     "shell.execute_reply": "2022-03-18T06:04:04.241405Z"
    },
    "papermill": {
     "duration": 0.029403,
     "end_time": "2022-03-18T06:04:04.241524",
     "exception": false,
     "start_time": "2022-03-18T06:04:04.212121",
     "status": "completed"
    },
    "tags": []
   },
   "outputs": [],
   "source": [
    "# # from steves_utils.wisig.utils import (\n",
    "# #     ALL_NODES_MINIMUM_100_EXAMPLES,\n",
    "# #     ALL_NODES_MINIMUM_500_EXAMPLES,\n",
    "# #     ALL_NODES_MINIMUM_1000_EXAMPLES,\n",
    "# #     ALL_DAYS\n",
    "# # )\n",
    "\n",
    "# import steves_utils.wisig.utils as wisig\n",
    "\n",
    "\n",
    "# add_dataset(\n",
    "#     labels=wisig.ALL_NODES_MINIMUM_100_EXAMPLES,\n",
    "#     domains = wisig.ALL_DAYS,\n",
    "#     num_examples_per_domain_per_label=100,\n",
    "#     pickle_path=os.path.join(get_datasets_base_path(), \"wisig.node3-19.stratified_ds.2022A.pkl\"),\n",
    "#     source_or_target_dataset=\"target\",\n",
    "#     x_transform_func=global_x_transform_func,\n",
    "#     domain_modifier=lambda u: f\"wisig_{u}\"\n",
    "# )"
   ]
  },
  {
   "cell_type": "code",
   "execution_count": 19,
   "id": "fd5442bc",
   "metadata": {
    "execution": {
     "iopub.execute_input": "2022-03-18T06:04:04.276346Z",
     "iopub.status.busy": "2022-03-18T06:04:04.276074Z",
     "iopub.status.idle": "2022-03-18T06:04:04.290908Z",
     "shell.execute_reply": "2022-03-18T06:04:04.291337Z"
    },
    "papermill": {
     "duration": 0.033151,
     "end_time": "2022-03-18T06:04:04.291463",
     "exception": false,
     "start_time": "2022-03-18T06:04:04.258312",
     "status": "completed"
    },
    "tags": []
   },
   "outputs": [],
   "source": [
    "###################################\n",
    "# Build the dataset\n",
    "###################################\n",
    "train_original_source = Iterable_Aggregator(train_original_source, p.seed)\n",
    "val_original_source = Iterable_Aggregator(val_original_source, p.seed)\n",
    "test_original_source = Iterable_Aggregator(test_original_source, p.seed)\n",
    "\n",
    "\n",
    "train_original_target = Iterable_Aggregator(train_original_target, p.seed)\n",
    "val_original_target = Iterable_Aggregator(val_original_target, p.seed)\n",
    "test_original_target = Iterable_Aggregator(test_original_target, p.seed)\n",
    "\n",
    "# For CNN We only use X and Y. And we only train on the source.\n",
    "# Properly form the data using a transform lambda and Lazy_Iterable_Wrapper. Finally wrap them in a dataloader\n",
    "\n",
    "transform_lambda = lambda ex: ex[1] # Original is (<domain>, <episode>) so we strip down to episode only\n",
    "\n",
    "train_processed_source = Lazy_Iterable_Wrapper(train_original_source, transform_lambda)\n",
    "val_processed_source   = Lazy_Iterable_Wrapper(val_original_source, transform_lambda)\n",
    "test_processed_source  = Lazy_Iterable_Wrapper(test_original_source, transform_lambda)\n",
    "\n",
    "train_processed_target = Lazy_Iterable_Wrapper(train_original_target, transform_lambda)\n",
    "val_processed_target   = Lazy_Iterable_Wrapper(val_original_target, transform_lambda)\n",
    "test_processed_target  = Lazy_Iterable_Wrapper(test_original_target, transform_lambda)\n",
    "\n",
    "datasets = EasyDict({\n",
    "    \"source\": {\n",
    "        \"original\": {\"train\":train_original_source, \"val\":val_original_source, \"test\":test_original_source},\n",
    "        \"processed\": {\"train\":train_processed_source, \"val\":val_processed_source, \"test\":test_processed_source}\n",
    "    },\n",
    "    \"target\": {\n",
    "        \"original\": {\"train\":train_original_target, \"val\":val_original_target, \"test\":test_original_target},\n",
    "        \"processed\": {\"train\":train_processed_target, \"val\":val_processed_target, \"test\":test_processed_target}\n",
    "    },\n",
    "})"
   ]
  },
  {
   "cell_type": "code",
   "execution_count": 20,
   "id": "5b3c01fc",
   "metadata": {
    "execution": {
     "iopub.execute_input": "2022-03-18T06:04:04.326511Z",
     "iopub.status.busy": "2022-03-18T06:04:04.326241Z",
     "iopub.status.idle": "2022-03-18T06:04:09.099916Z",
     "shell.execute_reply": "2022-03-18T06:04:09.100309Z"
    },
    "papermill": {
     "duration": 4.79055,
     "end_time": "2022-03-18T06:04:09.100416",
     "exception": false,
     "start_time": "2022-03-18T06:04:04.309866",
     "status": "completed"
    },
    "tags": []
   },
   "outputs": [
    {
     "name": "stdout",
     "output_type": "stream",
     "text": [
      "{'C_A_5', 'W_A_4', 'W_A_2', 'C_A_4', 'W_A_1', 'C_A_3', 'C_A_1', 'W_A_3', 'C_A_2'}\n"
     ]
    },
    {
     "name": "stdout",
     "output_type": "stream",
     "text": [
      "{'ORACLE.run1_50', 'ORACLE.run1_8', 'ORACLE.run1_20', 'ORACLE.run1_32', 'ORACLE.run1_26', 'ORACLE.run1_38', 'ORACLE.run1_14', 'ORACLE.run1_44'}\n"
     ]
    },
    {
     "name": "stdout",
     "output_type": "stream",
     "text": [
      "tensor([[[-0.0593, -0.3824, -0.8965,  ..., -0.3500,  1.1563,  0.4175],\n",
      "         [ 0.0235,  0.1413,  0.2871,  ..., -0.2070, -0.1394,  0.7178]],\n",
      "\n",
      "        [[-0.0344, -0.1363,  0.0240,  ..., -1.1531,  0.3234, -0.3283],\n",
      "         [-0.0784, -0.4655, -0.8713,  ..., -0.8315,  0.0208, -0.1932]],\n",
      "\n",
      "        [[-0.0433, -0.2435, -0.4141,  ..., -1.2261, -0.8376,  0.9060],\n",
      "         [-0.0224, -0.1586, -0.4623,  ..., -0.1640, -0.2302, -0.3811]],\n",
      "\n",
      "        ...,\n",
      "\n",
      "        [[ 0.0270,  0.1296,  0.1262,  ...,  1.0350, -0.5755, -0.9388],\n",
      "         [ 0.0260,  0.1724,  0.3985,  ...,  0.3268,  0.2122, -0.9174]],\n",
      "\n",
      "        [[-0.0097, -0.0469, -0.0730,  ...,  0.6317, -0.1150, -1.1409],\n",
      "         [-0.0072, -0.0485, -0.1289,  ...,  0.1204,  0.5363,  0.3675]],\n",
      "\n",
      "        [[ 0.0064,  0.0693,  0.2205,  ..., -0.1285,  0.5979, -0.4526],\n",
      "         [-0.0390, -0.2209, -0.3798,  ..., -1.2921, -0.1622,  0.8317]]])\n"
     ]
    }
   ],
   "source": [
    "from steves_utils.transforms import get_average_magnitude, get_average_power\n",
    "\n",
    "print(set([u for u,_ in val_original_source]))\n",
    "print(set([u for u,_ in val_original_target]))\n",
    "\n",
    "s_x, s_y, q_x, q_y, _ = next(iter(train_processed_source))\n",
    "print(s_x)\n",
    "\n",
    "# for ds in [\n",
    "#     train_processed_source,\n",
    "#     val_processed_source,\n",
    "#     test_processed_source,\n",
    "#     train_processed_target,\n",
    "#     val_processed_target,\n",
    "#     test_processed_target\n",
    "# ]:\n",
    "#     for s_x, s_y, q_x, q_y, _ in ds:\n",
    "#         for X in (s_x, q_x):\n",
    "#             for x in X:\n",
    "#                 assert np.isclose(get_average_magnitude(x.numpy()), 1.0)\n",
    "#                 assert np.isclose(get_average_power(x.numpy()), 1.0)\n",
    "                "
   ]
  },
  {
   "cell_type": "code",
   "execution_count": 21,
   "id": "bbdacba1",
   "metadata": {
    "execution": {
     "iopub.execute_input": "2022-03-18T06:04:09.145434Z",
     "iopub.status.busy": "2022-03-18T06:04:09.145162Z",
     "iopub.status.idle": "2022-03-18T06:04:09.197032Z",
     "shell.execute_reply": "2022-03-18T06:04:09.197268Z"
    },
    "papermill": {
     "duration": 0.074641,
     "end_time": "2022-03-18T06:04:09.197352",
     "exception": false,
     "start_time": "2022-03-18T06:04:09.122711",
     "status": "completed"
    },
    "tags": []
   },
   "outputs": [
    {
     "name": "stdout",
     "output_type": "stream",
     "text": [
      "(2, 200)\n"
     ]
    }
   ],
   "source": [
    "###################################\n",
    "# Build the model\n",
    "###################################\n",
    "# easfsl only wants a tuple for the shape\n",
    "model = Steves_Prototypical_Network(x_net, device=p.device, x_shape=tuple(p.x_shape))\n",
    "optimizer = Adam(params=model.parameters(), lr=p.lr)"
   ]
  },
  {
   "cell_type": "code",
   "execution_count": 22,
   "id": "22b39ac5",
   "metadata": {
    "execution": {
     "iopub.execute_input": "2022-03-18T06:04:09.234001Z",
     "iopub.status.busy": "2022-03-18T06:04:09.233741Z",
     "iopub.status.idle": "2022-03-18T06:11:23.779899Z",
     "shell.execute_reply": "2022-03-18T06:11:23.780309Z"
    },
    "papermill": {
     "duration": 434.563653,
     "end_time": "2022-03-18T06:11:23.780435",
     "exception": false,
     "start_time": "2022-03-18T06:04:09.216782",
     "status": "completed"
    },
    "tags": []
   },
   "outputs": [
    {
     "name": "stdout",
     "output_type": "stream",
     "text": [
      "epoch: 1, [batch: 1 / 2081], examples_per_second: 128.3486, train_label_loss: 2.9028, \n"
     ]
    },
    {
     "name": "stdout",
     "output_type": "stream",
     "text": [
      "epoch: 1, [batch: 209 / 2081], examples_per_second: 3702.6156, train_label_loss: 0.1026, \n"
     ]
    },
    {
     "name": "stdout",
     "output_type": "stream",
     "text": [
      "epoch: 1, [batch: 417 / 2081], examples_per_second: 3738.3300, train_label_loss: 0.6093, \n"
     ]
    },
    {
     "name": "stdout",
     "output_type": "stream",
     "text": [
      "epoch: 1, [batch: 625 / 2081], examples_per_second: 3729.6519, train_label_loss: 0.0454, \n"
     ]
    },
    {
     "name": "stdout",
     "output_type": "stream",
     "text": [
      "epoch: 1, [batch: 833 / 2081], examples_per_second: 3764.4122, train_label_loss: 1.1616, \n"
     ]
    },
    {
     "name": "stdout",
     "output_type": "stream",
     "text": [
      "epoch: 1, [batch: 1041 / 2081], examples_per_second: 3741.8928, train_label_loss: 0.0645, \n"
     ]
    },
    {
     "name": "stdout",
     "output_type": "stream",
     "text": [
      "epoch: 1, [batch: 1249 / 2081], examples_per_second: 3740.2775, train_label_loss: 0.5450, \n"
     ]
    },
    {
     "name": "stdout",
     "output_type": "stream",
     "text": [
      "epoch: 1, [batch: 1457 / 2081], examples_per_second: 3686.8156, train_label_loss: 0.5399, \n"
     ]
    },
    {
     "name": "stdout",
     "output_type": "stream",
     "text": [
      "epoch: 1, [batch: 1665 / 2081], examples_per_second: 3741.0686, train_label_loss: 0.0595, \n"
     ]
    },
    {
     "name": "stdout",
     "output_type": "stream",
     "text": [
      "epoch: 1, [batch: 1873 / 2081], examples_per_second: 3744.0948, train_label_loss: 0.3102, \n"
     ]
    },
    {
     "name": "stdout",
     "output_type": "stream",
     "text": [
      "=============================================================\n",
      "epoch: 1, source_val_acc_label: 0.9481, target_val_acc_label: 0.1551, source_val_label_loss: 0.2274, target_val_label_loss: 2.5638, \n",
      "=============================================================\n"
     ]
    },
    {
     "name": "stdout",
     "output_type": "stream",
     "text": [
      "New best\n"
     ]
    },
    {
     "name": "stdout",
     "output_type": "stream",
     "text": [
      "epoch: 2, [batch: 1 / 2079], examples_per_second: 11.3654, train_label_loss: 0.0894, \n"
     ]
    },
    {
     "name": "stdout",
     "output_type": "stream",
     "text": [
      "epoch: 2, [batch: 208 / 2079], examples_per_second: 3699.0474, train_label_loss: 0.5319, \n"
     ]
    },
    {
     "name": "stdout",
     "output_type": "stream",
     "text": [
      "epoch: 2, [batch: 416 / 2079], examples_per_second: 3725.7834, train_label_loss: 0.0152, \n"
     ]
    },
    {
     "name": "stdout",
     "output_type": "stream",
     "text": [
      "epoch: 2, [batch: 624 / 2079], examples_per_second: 3717.3398, train_label_loss: 0.1093, \n"
     ]
    },
    {
     "name": "stdout",
     "output_type": "stream",
     "text": [
      "epoch: 2, [batch: 832 / 2079], examples_per_second: 3712.8603, train_label_loss: 0.2120, \n"
     ]
    },
    {
     "name": "stdout",
     "output_type": "stream",
     "text": [
      "epoch: 2, [batch: 1040 / 2079], examples_per_second: 3675.7032, train_label_loss: 0.2665, \n"
     ]
    },
    {
     "name": "stdout",
     "output_type": "stream",
     "text": [
      "epoch: 2, [batch: 1247 / 2079], examples_per_second: 3682.6436, train_label_loss: 0.0007, \n"
     ]
    },
    {
     "name": "stdout",
     "output_type": "stream",
     "text": [
      "epoch: 2, [batch: 1455 / 2079], examples_per_second: 3666.5086, train_label_loss: 0.3361, \n"
     ]
    },
    {
     "name": "stdout",
     "output_type": "stream",
     "text": [
      "epoch: 2, [batch: 1663 / 2079], examples_per_second: 3723.0812, train_label_loss: 0.0250, \n"
     ]
    },
    {
     "name": "stdout",
     "output_type": "stream",
     "text": [
      "epoch: 2, [batch: 1871 / 2079], examples_per_second: 3731.1523, train_label_loss: 0.0742, \n"
     ]
    },
    {
     "name": "stdout",
     "output_type": "stream",
     "text": [
      "=============================================================\n",
      "epoch: 2, source_val_acc_label: 0.9621, target_val_acc_label: 0.1579, source_val_label_loss: 0.1704, target_val_label_loss: 2.6150, \n",
      "=============================================================\n"
     ]
    },
    {
     "name": "stdout",
     "output_type": "stream",
     "text": [
      "epoch: 3, [batch: 1 / 2082], examples_per_second: 11.5178, train_label_loss: 0.4156, \n"
     ]
    },
    {
     "name": "stdout",
     "output_type": "stream",
     "text": [
      "epoch: 3, [batch: 209 / 2082], examples_per_second: 3704.6072, train_label_loss: 0.7497, \n"
     ]
    },
    {
     "name": "stdout",
     "output_type": "stream",
     "text": [
      "epoch: 3, [batch: 417 / 2082], examples_per_second: 3732.7567, train_label_loss: 0.4521, \n"
     ]
    },
    {
     "name": "stdout",
     "output_type": "stream",
     "text": [
      "epoch: 3, [batch: 625 / 2082], examples_per_second: 3713.8627, train_label_loss: 0.6231, \n"
     ]
    },
    {
     "name": "stdout",
     "output_type": "stream",
     "text": [
      "epoch: 3, [batch: 833 / 2082], examples_per_second: 3727.6697, train_label_loss: 0.2982, \n"
     ]
    },
    {
     "name": "stdout",
     "output_type": "stream",
     "text": [
      "epoch: 3, [batch: 1041 / 2082], examples_per_second: 3712.9896, train_label_loss: 0.0045, \n"
     ]
    },
    {
     "name": "stdout",
     "output_type": "stream",
     "text": [
      "epoch: 3, [batch: 1249 / 2082], examples_per_second: 3740.5136, train_label_loss: 0.0048, \n"
     ]
    },
    {
     "name": "stdout",
     "output_type": "stream",
     "text": [
      "epoch: 3, [batch: 1457 / 2082], examples_per_second: 3741.2695, train_label_loss: 0.0412, \n"
     ]
    },
    {
     "name": "stdout",
     "output_type": "stream",
     "text": [
      "epoch: 3, [batch: 1665 / 2082], examples_per_second: 3702.7173, train_label_loss: 0.0152, \n"
     ]
    },
    {
     "name": "stdout",
     "output_type": "stream",
     "text": [
      "epoch: 3, [batch: 1873 / 2082], examples_per_second: 3707.4556, train_label_loss: 0.2626, \n"
     ]
    },
    {
     "name": "stdout",
     "output_type": "stream",
     "text": [
      "=============================================================\n",
      "epoch: 3, source_val_acc_label: 0.9685, target_val_acc_label: 0.1698, source_val_label_loss: 0.1490, target_val_label_loss: 2.6323, \n",
      "=============================================================\n"
     ]
    },
    {
     "name": "stdout",
     "output_type": "stream",
     "text": [
      "epoch: 4, [batch: 1 / 2080], examples_per_second: 11.4355, train_label_loss: 0.2100, \n"
     ]
    },
    {
     "name": "stdout",
     "output_type": "stream",
     "text": [
      "epoch: 4, [batch: 208 / 2080], examples_per_second: 3677.7798, train_label_loss: 0.0573, \n"
     ]
    },
    {
     "name": "stdout",
     "output_type": "stream",
     "text": [
      "epoch: 4, [batch: 416 / 2080], examples_per_second: 3721.9979, train_label_loss: 0.0143, \n"
     ]
    },
    {
     "name": "stdout",
     "output_type": "stream",
     "text": [
      "epoch: 4, [batch: 624 / 2080], examples_per_second: 3695.1227, train_label_loss: 0.0039, \n"
     ]
    },
    {
     "name": "stdout",
     "output_type": "stream",
     "text": [
      "epoch: 4, [batch: 832 / 2080], examples_per_second: 3708.0678, train_label_loss: 0.0525, \n"
     ]
    },
    {
     "name": "stdout",
     "output_type": "stream",
     "text": [
      "epoch: 4, [batch: 1040 / 2080], examples_per_second: 3707.3494, train_label_loss: 0.0585, \n"
     ]
    },
    {
     "name": "stdout",
     "output_type": "stream",
     "text": [
      "epoch: 4, [batch: 1248 / 2080], examples_per_second: 3746.7830, train_label_loss: 0.0052, \n"
     ]
    },
    {
     "name": "stdout",
     "output_type": "stream",
     "text": [
      "epoch: 4, [batch: 1456 / 2080], examples_per_second: 3677.7045, train_label_loss: 0.0580, \n"
     ]
    },
    {
     "name": "stdout",
     "output_type": "stream",
     "text": [
      "epoch: 4, [batch: 1664 / 2080], examples_per_second: 3708.4628, train_label_loss: 0.0143, \n"
     ]
    },
    {
     "name": "stdout",
     "output_type": "stream",
     "text": [
      "epoch: 4, [batch: 1872 / 2080], examples_per_second: 3744.1949, train_label_loss: 0.2742, \n"
     ]
    },
    {
     "name": "stdout",
     "output_type": "stream",
     "text": [
      "=============================================================\n",
      "epoch: 4, source_val_acc_label: 0.9720, target_val_acc_label: 0.1802, source_val_label_loss: 0.1284, target_val_label_loss: 2.5616, \n",
      "=============================================================\n"
     ]
    },
    {
     "name": "stdout",
     "output_type": "stream",
     "text": [
      "New best\n"
     ]
    },
    {
     "name": "stdout",
     "output_type": "stream",
     "text": [
      "epoch: 5, [batch: 1 / 2079], examples_per_second: 11.4100, train_label_loss: 0.0028, \n"
     ]
    },
    {
     "name": "stdout",
     "output_type": "stream",
     "text": [
      "epoch: 5, [batch: 208 / 2079], examples_per_second: 3696.3290, train_label_loss: 0.1970, \n"
     ]
    },
    {
     "name": "stdout",
     "output_type": "stream",
     "text": [
      "epoch: 5, [batch: 416 / 2079], examples_per_second: 3710.1594, train_label_loss: 0.0703, \n"
     ]
    },
    {
     "name": "stdout",
     "output_type": "stream",
     "text": [
      "epoch: 5, [batch: 624 / 2079], examples_per_second: 3732.3545, train_label_loss: 0.0081, \n"
     ]
    },
    {
     "name": "stdout",
     "output_type": "stream",
     "text": [
      "epoch: 5, [batch: 832 / 2079], examples_per_second: 3730.3014, train_label_loss: 0.0034, \n"
     ]
    },
    {
     "name": "stdout",
     "output_type": "stream",
     "text": [
      "epoch: 5, [batch: 1040 / 2079], examples_per_second: 3717.3856, train_label_loss: 0.2508, \n"
     ]
    },
    {
     "name": "stdout",
     "output_type": "stream",
     "text": [
      "epoch: 5, [batch: 1247 / 2079], examples_per_second: 3723.9460, train_label_loss: 0.2123, \n"
     ]
    },
    {
     "name": "stdout",
     "output_type": "stream",
     "text": [
      "epoch: 5, [batch: 1455 / 2079], examples_per_second: 3686.9027, train_label_loss: 0.2549, \n"
     ]
    },
    {
     "name": "stdout",
     "output_type": "stream",
     "text": [
      "epoch: 5, [batch: 1663 / 2079], examples_per_second: 3726.3823, train_label_loss: 0.1624, \n"
     ]
    },
    {
     "name": "stdout",
     "output_type": "stream",
     "text": [
      "epoch: 5, [batch: 1871 / 2079], examples_per_second: 3750.5620, train_label_loss: 0.2728, \n"
     ]
    },
    {
     "name": "stdout",
     "output_type": "stream",
     "text": [
      "=============================================================\n",
      "epoch: 5, source_val_acc_label: 0.9722, target_val_acc_label: 0.1656, source_val_label_loss: 0.1334, target_val_label_loss: 2.7034, \n",
      "=============================================================\n"
     ]
    },
    {
     "name": "stdout",
     "output_type": "stream",
     "text": [
      "epoch: 6, [batch: 1 / 2081], examples_per_second: 11.4462, train_label_loss: 0.1499, \n"
     ]
    },
    {
     "name": "stdout",
     "output_type": "stream",
     "text": [
      "epoch: 6, [batch: 209 / 2081], examples_per_second: 3712.4455, train_label_loss: 0.0002, \n"
     ]
    },
    {
     "name": "stdout",
     "output_type": "stream",
     "text": [
      "epoch: 6, [batch: 417 / 2081], examples_per_second: 3750.3335, train_label_loss: 0.0074, \n"
     ]
    },
    {
     "name": "stdout",
     "output_type": "stream",
     "text": [
      "epoch: 6, [batch: 625 / 2081], examples_per_second: 3711.4525, train_label_loss: 0.0032, \n"
     ]
    },
    {
     "name": "stdout",
     "output_type": "stream",
     "text": [
      "epoch: 6, [batch: 833 / 2081], examples_per_second: 3730.1179, train_label_loss: 0.0049, \n"
     ]
    },
    {
     "name": "stdout",
     "output_type": "stream",
     "text": [
      "epoch: 6, [batch: 1041 / 2081], examples_per_second: 3702.4688, train_label_loss: 0.1157, \n"
     ]
    },
    {
     "name": "stdout",
     "output_type": "stream",
     "text": [
      "epoch: 6, [batch: 1249 / 2081], examples_per_second: 3710.8307, train_label_loss: 0.0105, \n"
     ]
    },
    {
     "name": "stdout",
     "output_type": "stream",
     "text": [
      "epoch: 6, [batch: 1457 / 2081], examples_per_second: 3719.4128, train_label_loss: 0.0002, \n"
     ]
    },
    {
     "name": "stdout",
     "output_type": "stream",
     "text": [
      "epoch: 6, [batch: 1665 / 2081], examples_per_second: 3688.0063, train_label_loss: 0.0223, \n"
     ]
    },
    {
     "name": "stdout",
     "output_type": "stream",
     "text": [
      "epoch: 6, [batch: 1873 / 2081], examples_per_second: 3724.8961, train_label_loss: 0.0113, \n"
     ]
    },
    {
     "name": "stdout",
     "output_type": "stream",
     "text": [
      "=============================================================\n",
      "epoch: 6, source_val_acc_label: 0.9731, target_val_acc_label: 0.1640, source_val_label_loss: 0.1297, target_val_label_loss: 2.9509, \n",
      "=============================================================\n"
     ]
    },
    {
     "name": "stdout",
     "output_type": "stream",
     "text": [
      "epoch: 7, [batch: 1 / 2075], examples_per_second: 11.4538, train_label_loss: 0.0035, \n"
     ]
    },
    {
     "name": "stdout",
     "output_type": "stream",
     "text": [
      "epoch: 7, [batch: 208 / 2075], examples_per_second: 3689.3316, train_label_loss: 0.0101, \n"
     ]
    },
    {
     "name": "stdout",
     "output_type": "stream",
     "text": [
      "epoch: 7, [batch: 415 / 2075], examples_per_second: 3673.2113, train_label_loss: 0.0036, \n"
     ]
    },
    {
     "name": "stdout",
     "output_type": "stream",
     "text": [
      "epoch: 7, [batch: 623 / 2075], examples_per_second: 3691.1003, train_label_loss: 0.2657, \n"
     ]
    },
    {
     "name": "stdout",
     "output_type": "stream",
     "text": [
      "epoch: 7, [batch: 830 / 2075], examples_per_second: 3728.0303, train_label_loss: 0.0324, \n"
     ]
    },
    {
     "name": "stdout",
     "output_type": "stream",
     "text": [
      "epoch: 7, [batch: 1038 / 2075], examples_per_second: 3698.5052, train_label_loss: 0.0050, \n"
     ]
    },
    {
     "name": "stdout",
     "output_type": "stream",
     "text": [
      "epoch: 7, [batch: 1245 / 2075], examples_per_second: 3704.0494, train_label_loss: 0.0008, \n"
     ]
    },
    {
     "name": "stdout",
     "output_type": "stream",
     "text": [
      "epoch: 7, [batch: 1452 / 2075], examples_per_second: 3684.4731, train_label_loss: 0.0487, \n"
     ]
    },
    {
     "name": "stdout",
     "output_type": "stream",
     "text": [
      "epoch: 7, [batch: 1660 / 2075], examples_per_second: 3706.9444, train_label_loss: 0.4288, \n"
     ]
    },
    {
     "name": "stdout",
     "output_type": "stream",
     "text": [
      "epoch: 7, [batch: 1867 / 2075], examples_per_second: 3715.2942, train_label_loss: 0.0153, \n"
     ]
    },
    {
     "name": "stdout",
     "output_type": "stream",
     "text": [
      "=============================================================\n",
      "epoch: 7, source_val_acc_label: 0.9739, target_val_acc_label: 0.1677, source_val_label_loss: 0.1385, target_val_label_loss: 2.7272, \n",
      "=============================================================\n"
     ]
    },
    {
     "name": "stdout",
     "output_type": "stream",
     "text": [
      "epoch: 8, [batch: 1 / 2082], examples_per_second: 11.3825, train_label_loss: 0.0471, \n"
     ]
    },
    {
     "name": "stdout",
     "output_type": "stream",
     "text": [
      "epoch: 8, [batch: 209 / 2082], examples_per_second: 3699.3585, train_label_loss: 0.0152, \n"
     ]
    },
    {
     "name": "stdout",
     "output_type": "stream",
     "text": [
      "epoch: 8, [batch: 417 / 2082], examples_per_second: 3688.9605, train_label_loss: 0.2215, \n"
     ]
    },
    {
     "name": "stdout",
     "output_type": "stream",
     "text": [
      "epoch: 8, [batch: 625 / 2082], examples_per_second: 3675.7756, train_label_loss: 0.2629, \n"
     ]
    },
    {
     "name": "stdout",
     "output_type": "stream",
     "text": [
      "epoch: 8, [batch: 833 / 2082], examples_per_second: 3715.4497, train_label_loss: 0.0012, \n"
     ]
    },
    {
     "name": "stdout",
     "output_type": "stream",
     "text": [
      "epoch: 8, [batch: 1041 / 2082], examples_per_second: 3684.8537, train_label_loss: 0.0004, \n"
     ]
    },
    {
     "name": "stdout",
     "output_type": "stream",
     "text": [
      "epoch: 8, [batch: 1249 / 2082], examples_per_second: 3697.7803, train_label_loss: 0.0027, \n"
     ]
    },
    {
     "name": "stdout",
     "output_type": "stream",
     "text": [
      "epoch: 8, [batch: 1457 / 2082], examples_per_second: 3714.8003, train_label_loss: 0.0156, \n"
     ]
    },
    {
     "name": "stdout",
     "output_type": "stream",
     "text": [
      "epoch: 8, [batch: 1665 / 2082], examples_per_second: 3682.0081, train_label_loss: 0.0109, \n"
     ]
    },
    {
     "name": "stdout",
     "output_type": "stream",
     "text": [
      "epoch: 8, [batch: 1873 / 2082], examples_per_second: 3742.6372, train_label_loss: 0.0248, \n"
     ]
    },
    {
     "name": "stdout",
     "output_type": "stream",
     "text": [
      "=============================================================\n",
      "epoch: 8, source_val_acc_label: 0.9753, target_val_acc_label: 0.1701, source_val_label_loss: 0.1340, target_val_label_loss: 2.8464, \n",
      "=============================================================\n"
     ]
    },
    {
     "name": "stdout",
     "output_type": "stream",
     "text": [
      "Patience (3) exhausted\n"
     ]
    }
   ],
   "source": [
    "###################################\n",
    "# train\n",
    "###################################\n",
    "jig = PTN_Train_Eval_Test_Jig(model, p.BEST_MODEL_PATH, p.device)\n",
    "\n",
    "jig.train(\n",
    "    train_iterable=datasets.source.processed.train,\n",
    "    source_val_iterable=datasets.source.processed.val,\n",
    "    target_val_iterable=datasets.target.processed.val,\n",
    "    num_epochs=p.n_epoch,\n",
    "    num_logs_per_epoch=p.NUM_LOGS_PER_EPOCH,\n",
    "    patience=p.patience,\n",
    "    optimizer=optimizer,\n",
    "    criteria_for_best=p.criteria_for_best,\n",
    ")"
   ]
  },
  {
   "cell_type": "code",
   "execution_count": 23,
   "id": "31e8fabf",
   "metadata": {
    "execution": {
     "iopub.execute_input": "2022-03-18T06:11:23.849376Z",
     "iopub.status.busy": "2022-03-18T06:11:23.849118Z",
     "iopub.status.idle": "2022-03-18T06:11:23.868314Z",
     "shell.execute_reply": "2022-03-18T06:11:23.867877Z"
    },
    "papermill": {
     "duration": 0.052049,
     "end_time": "2022-03-18T06:11:23.868419",
     "exception": false,
     "start_time": "2022-03-18T06:11:23.816370",
     "status": "completed"
    },
    "tags": []
   },
   "outputs": [],
   "source": [
    "total_experiment_time_secs = time.time() - start_time_secs"
   ]
  },
  {
   "cell_type": "code",
   "execution_count": 24,
   "id": "87b9595b",
   "metadata": {
    "execution": {
     "iopub.execute_input": "2022-03-18T06:11:23.940816Z",
     "iopub.status.busy": "2022-03-18T06:11:23.940438Z",
     "iopub.status.idle": "2022-03-18T06:12:26.462536Z",
     "shell.execute_reply": "2022-03-18T06:12:26.462107Z"
    },
    "papermill": {
     "duration": 62.55834,
     "end_time": "2022-03-18T06:12:26.462646",
     "exception": false,
     "start_time": "2022-03-18T06:11:23.904306",
     "status": "completed"
    },
    "tags": []
   },
   "outputs": [],
   "source": [
    "###################################\n",
    "# Evaluate the model\n",
    "###################################\n",
    "source_test_label_accuracy, source_test_label_loss = jig.test(datasets.source.processed.test)\n",
    "target_test_label_accuracy, target_test_label_loss = jig.test(datasets.target.processed.test)\n",
    "\n",
    "source_val_label_accuracy, source_val_label_loss = jig.test(datasets.source.processed.val)\n",
    "target_val_label_accuracy, target_val_label_loss = jig.test(datasets.target.processed.val)\n",
    "\n",
    "history = jig.get_history()\n",
    "\n",
    "total_epochs_trained = len(history[\"epoch_indices\"])\n",
    "\n",
    "val_dl = Iterable_Aggregator((datasets.source.original.val,datasets.target.original.val))\n",
    "\n",
    "confusion = ptn_confusion_by_domain_over_dataloader(model, p.device, val_dl)\n",
    "per_domain_accuracy = per_domain_accuracy_from_confusion(confusion)\n",
    "\n",
    "# Add a key to per_domain_accuracy for if it was a source domain\n",
    "for domain, accuracy in per_domain_accuracy.items():\n",
    "    per_domain_accuracy[domain] = {\n",
    "        \"accuracy\": accuracy,\n",
    "        \"source?\": domain in p.domains_source\n",
    "    }\n",
    "\n",
    "# Do an independent accuracy assesment JUST TO BE SURE!\n",
    "# _source_test_label_accuracy = independent_accuracy_assesment(model, datasets.source.processed.test, p.device)\n",
    "# _target_test_label_accuracy = independent_accuracy_assesment(model, datasets.target.processed.test, p.device)\n",
    "# _source_val_label_accuracy = independent_accuracy_assesment(model, datasets.source.processed.val, p.device)\n",
    "# _target_val_label_accuracy = independent_accuracy_assesment(model, datasets.target.processed.val, p.device)\n",
    "\n",
    "# assert(_source_test_label_accuracy == source_test_label_accuracy)\n",
    "# assert(_target_test_label_accuracy == target_test_label_accuracy)\n",
    "# assert(_source_val_label_accuracy == source_val_label_accuracy)\n",
    "# assert(_target_val_label_accuracy == target_val_label_accuracy)\n",
    "\n",
    "experiment = {\n",
    "    \"experiment_name\": p.experiment_name,\n",
    "    \"parameters\": dict(p),\n",
    "    \"results\": {\n",
    "        \"source_test_label_accuracy\": source_test_label_accuracy,\n",
    "        \"source_test_label_loss\": source_test_label_loss,\n",
    "        \"target_test_label_accuracy\": target_test_label_accuracy,\n",
    "        \"target_test_label_loss\": target_test_label_loss,\n",
    "        \"source_val_label_accuracy\": source_val_label_accuracy,\n",
    "        \"source_val_label_loss\": source_val_label_loss,\n",
    "        \"target_val_label_accuracy\": target_val_label_accuracy,\n",
    "        \"target_val_label_loss\": target_val_label_loss,\n",
    "        \"total_epochs_trained\": total_epochs_trained,\n",
    "        \"total_experiment_time_secs\": total_experiment_time_secs,\n",
    "        \"confusion\": confusion,\n",
    "        \"per_domain_accuracy\": per_domain_accuracy,\n",
    "    },\n",
    "    \"history\": history,\n",
    "    \"dataset_metrics\": get_dataset_metrics(datasets, \"ptn\"),\n",
    "}"
   ]
  },
  {
   "cell_type": "code",
   "execution_count": 25,
   "id": "54a21829",
   "metadata": {
    "execution": {
     "iopub.execute_input": "2022-03-18T06:12:26.531775Z",
     "iopub.status.busy": "2022-03-18T06:12:26.531520Z",
     "iopub.status.idle": "2022-03-18T06:12:26.658415Z",
     "shell.execute_reply": "2022-03-18T06:12:26.658820Z"
    },
    "papermill": {
     "duration": 0.160934,
     "end_time": "2022-03-18T06:12:26.658944",
     "exception": false,
     "start_time": "2022-03-18T06:12:26.498010",
     "status": "completed"
    },
    "tags": []
   },
   "outputs": [
    {
     "data": {
      "image/png": "[encoded data removed]",
      "text/plain": [
       "<Figure size 1080x504 with 1 Axes>"
      ]
     },
     "metadata": {
      "needs_background": "light"
     },
     "output_type": "display_data"
    }
   ],
   "source": [
    "ax = get_loss_curve(experiment)\n",
    "plt.show()"
   ]
  },
  {
   "cell_type": "code",
   "execution_count": 26,
   "id": "fd8a0f60",
   "metadata": {
    "execution": {
     "iopub.execute_input": "2022-03-18T06:12:26.730290Z",
     "iopub.status.busy": "2022-03-18T06:12:26.730040Z",
     "iopub.status.idle": "2022-03-18T06:12:26.874184Z",
     "shell.execute_reply": "2022-03-18T06:12:26.873950Z"
    },
    "papermill": {
     "duration": 0.17818,
     "end_time": "2022-03-18T06:12:26.874244",
     "exception": false,
     "start_time": "2022-03-18T06:12:26.696064",
     "status": "completed"
    },
    "tags": []
   },
   "outputs": [
    {
     "data": {
      "text/plain": [
       "<AxesSubplot:title={'center':'Results'}>"
      ]
     },
     "execution_count": 26,
     "metadata": {},
     "output_type": "execute_result"
    },
    {
     "data": {
      "image/png": "[encoded data removed]",
      "text/plain": [
       "<Figure size 1080x504 with 1 Axes>"
      ]
     },
     "metadata": {
      "needs_background": "light"
     },
     "output_type": "display_data"
    }
   ],
   "source": [
    "get_results_table(experiment)"
   ]
  },
  {
   "cell_type": "code",
   "execution_count": 27,
   "id": "cf8dc689",
   "metadata": {
    "execution": {
     "iopub.execute_input": "2022-03-18T06:12:26.944509Z",
     "iopub.status.busy": "2022-03-18T06:12:26.943786Z",
     "iopub.status.idle": "2022-03-18T06:12:27.110787Z",
     "shell.execute_reply": "2022-03-18T06:12:27.110376Z"
    },
    "papermill": {
     "duration": 0.201925,
     "end_time": "2022-03-18T06:12:27.110890",
     "exception": false,
     "start_time": "2022-03-18T06:12:26.908965",
     "status": "completed"
    },
    "tags": []
   },
   "outputs": [
    {
     "data": {
      "text/plain": [
       "<AxesSubplot:title={'center':'Per Domain Validation Accuracy'}, xlabel='domain'>"
      ]
     },
     "execution_count": 27,
     "metadata": {},
     "output_type": "execute_result"
    },
    {
     "data": {
      "image/png": "[encoded data removed]",
      "text/plain": [
       "<Figure size 1080x504 with 1 Axes>"
      ]
     },
     "metadata": {
      "needs_background": "light"
     },
     "output_type": "display_data"
    }
   ],
   "source": [
    "get_domain_accuracies(experiment)"
   ]
  },
  {
   "cell_type": "code",
   "execution_count": 28,
   "id": "a74ae082",
   "metadata": {
    "execution": {
     "iopub.execute_input": "2022-03-18T06:12:27.185239Z",
     "iopub.status.busy": "2022-03-18T06:12:27.184979Z",
     "iopub.status.idle": "2022-03-18T06:12:27.200400Z",
     "shell.execute_reply": "2022-03-18T06:12:27.199953Z"
    },
    "papermill": {
     "duration": 0.051607,
     "end_time": "2022-03-18T06:12:27.200489",
     "exception": false,
     "start_time": "2022-03-18T06:12:27.148882",
     "status": "completed"
    },
    "tags": []
   },
   "outputs": [
    {
     "name": "stdout",
     "output_type": "stream",
     "text": [
      "Source Test Label Accuracy: 0.9681078767123288 Target Test Label Accuracy: 0.18248697916666667\n",
      "Source Val Label Accuracy: 0.9719606164383562 Target Val Label Accuracy: 0.18017578125\n"
     ]
    }
   ],
   "source": [
    "print(\"Source Test Label Accuracy:\", experiment[\"results\"][\"source_test_label_accuracy\"], \"Target Test Label Accuracy:\", experiment[\"results\"][\"target_test_label_accuracy\"])\n",
    "print(\"Source Val Label Accuracy:\", experiment[\"results\"][\"source_val_label_accuracy\"], \"Target Val Label Accuracy:\", experiment[\"results\"][\"target_val_label_accuracy\"])"
   ]
  },
  {
   "cell_type": "code",
   "execution_count": 29,
   "id": "dacca602",
   "metadata": {
    "execution": {
     "iopub.execute_input": "2022-03-18T06:12:27.273395Z",
     "iopub.status.busy": "2022-03-18T06:12:27.273143Z",
     "iopub.status.idle": "2022-03-18T06:12:27.290830Z",
     "shell.execute_reply": "2022-03-18T06:12:27.291202Z"
    },
    "papermill": {
     "duration": 0.053726,
     "end_time": "2022-03-18T06:12:27.291318",
     "exception": false,
     "start_time": "2022-03-18T06:12:27.237592",
     "status": "completed"
    },
    "tags": [
     "experiment_json"
    ]
   },
   "outputs": [
    {
     "data": {
      "text/plain": [
       "'{\"experiment_name\": \"tl_3-filter:cores+wisig -> oracle.run1.framed\", \"parameters\": {\"experiment_name\": \"tl_3-filter:cores+wisig -> oracle.run1.framed\", \"device\": \"cuda\", \"lr\": 0.001, \"seed\": 1337, \"dataset_seed\": 1337, \"x_shape\": [2, 200], \"n_shot\": 3, \"n_query\": 2, \"train_k_factor\": 3, \"val_k_factor\": 2, \"test_k_factor\": 2, \"torch_default_dtype\": \"torch.float32\", \"n_epoch\": 50, \"patience\": 3, \"criteria_for_best\": \"target_loss\", \"x_net\": [{\"class\": \"nnReshape\", \"kargs\": {\"shape\": [-1, 1, 2, 200]}}, {\"class\": \"Conv2d\", \"kargs\": {\"in_channels\": 1, \"out_channels\": 256, \"kernel_size\": [1, 7], \"bias\": false, \"padding\": [0, 3]}}, {\"class\": \"ReLU\", \"kargs\": {\"inplace\": true}}, {\"class\": \"BatchNorm2d\", \"kargs\": {\"num_features\": 256}}, {\"class\": \"Conv2d\", \"kargs\": {\"in_channels\": 256, \"out_channels\": 80, \"kernel_size\": [2, 7], \"bias\": true, \"padding\": [0, 3]}}, {\"class\": \"ReLU\", \"kargs\": {\"inplace\": true}}, {\"class\": \"BatchNorm2d\", \"kargs\": {\"num_features\": 80}}, {\"class\": \"Flatten\", \"kargs\": {}}, {\"class\": \"Linear\", \"kargs\": {\"in_features\": 16000, \"out_features\": 256}}, {\"class\": \"ReLU\", \"kargs\": {\"inplace\": true}}, {\"class\": \"BatchNorm1d\", \"kargs\": {\"num_features\": 256}}, {\"class\": \"Linear\", \"kargs\": {\"in_features\": 256, \"out_features\": 256}}], \"NUM_LOGS_PER_EPOCH\": 10, \"BEST_MODEL_PATH\": \"./best_model.pth\", \"n_way\": 16, \"datasets\": [{\"labels\": [\"1-10.\", \"1-11.\", \"1-15.\", \"1-16.\", \"1-17.\", \"1-18.\", \"1-19.\", \"10-4.\", \"10-7.\", \"11-1.\", \"11-14.\", \"11-17.\", \"11-20.\", \"11-7.\", \"13-20.\", \"13-8.\", \"14-10.\", \"14-11.\", \"14-14.\", \"14-7.\", \"15-1.\", \"15-20.\", \"16-1.\", \"16-16.\", \"17-10.\", \"17-11.\", \"17-2.\", \"19-1.\", \"19-16.\", \"19-19.\", \"19-20.\", \"19-3.\", \"2-10.\", \"2-11.\", \"2-17.\", \"2-18.\", \"2-20.\", \"2-3.\", \"2-4.\", \"2-5.\", \"2-6.\", \"2-7.\", \"2-8.\", \"3-13.\", \"3-18.\", \"3-3.\", \"4-1.\", \"4-10.\", \"4-11.\", \"4-19.\", \"5-5.\", \"6-15.\", \"7-10.\", \"7-14.\", \"8-18.\", \"8-20.\", \"8-3.\", \"8-8.\"], \"domains\": [1, 2, 3, 4, 5], \"num_examples_per_domain_per_label\": 100, \"pickle_path\": \"/mnt/wd500GB/CSC500/csc500-main/datasets/cores.stratified_ds.2022A.pkl\", \"source_or_target_dataset\": \"source\", \"x_transforms\": [\"unit_mag\", \"lowpass_+/-10MHz\", \"take_200\"], \"episode_transforms\": [], \"domain_prefix\": \"C_A_\"}, {\"labels\": [\"1-10\", \"1-12\", \"1-14\", \"1-16\", \"1-18\", \"1-19\", \"1-8\", \"10-11\", \"10-17\", \"10-4\", \"10-7\", \"11-1\", \"11-10\", \"11-19\", \"11-20\", \"11-4\", \"11-7\", \"12-19\", \"12-20\", \"12-7\", \"13-14\", \"13-18\", \"13-19\", \"13-20\", \"13-3\", \"13-7\", \"14-10\", \"14-11\", \"14-12\", \"14-13\", \"14-14\", \"14-19\", \"14-20\", \"14-7\", \"14-8\", \"14-9\", \"15-1\", \"15-19\", \"15-6\", \"16-1\", \"16-16\", \"16-19\", \"16-20\", \"17-10\", \"17-11\", \"18-1\", \"18-10\", \"18-11\", \"18-12\", \"18-13\", \"18-14\", \"18-15\", \"18-16\", \"18-17\", \"18-19\", \"18-2\", \"18-20\", \"18-4\", \"18-5\", \"18-7\", \"18-8\", \"18-9\", \"19-1\", \"19-10\", \"19-11\", \"19-12\", \"19-13\", \"19-14\", \"19-15\", \"19-19\", \"19-2\", \"19-20\", \"19-3\", \"19-4\", \"19-6\", \"19-7\", \"19-8\", \"19-9\", \"2-1\", \"2-13\", \"2-15\", \"2-3\", \"2-4\", \"2-5\", \"2-6\", \"2-7\", \"2-8\", \"20-1\", \"20-12\", \"20-14\", \"20-15\", \"20-16\", \"20-18\", \"20-19\", \"20-20\", \"20-3\", \"20-4\", \"20-5\", \"20-7\", \"20-8\", \"3-1\", \"3-13\", \"3-18\", \"3-2\", \"3-8\", \"4-1\", \"4-10\", \"4-11\", \"5-1\", \"5-5\", \"6-1\", \"6-15\", \"6-6\", \"7-10\", \"7-11\", \"7-12\", \"7-13\", \"7-14\", \"7-7\", \"7-8\", \"7-9\", \"8-1\", \"8-13\", \"8-14\", \"8-18\", \"8-20\", \"8-3\", \"8-8\", \"9-1\", \"9-7\"], \"domains\": [1, 2, 3, 4], \"num_examples_per_domain_per_label\": 100, \"pickle_path\": \"/mnt/wd500GB/CSC500/csc500-main/datasets/wisig.node3-19.stratified_ds.2022A.pkl\", \"source_or_target_dataset\": \"source\", \"x_transforms\": [\"unit_mag\", \"lowpass_+/-10MHz\", \"take_200\"], \"episode_transforms\": [], \"domain_prefix\": \"W_A_\"}, {\"labels\": [\"3123D52\", \"3123D65\", \"3123D79\", \"3123D80\", \"3123D54\", \"3123D70\", \"3123D7B\", \"3123D89\", \"3123D58\", \"3123D76\", \"3123D7D\", \"3123EFE\", \"3123D64\", \"3123D78\", \"3123D7E\", \"3124E4A\"], \"domains\": [32, 38, 8, 44, 14, 50, 20, 26], \"num_examples_per_domain_per_label\": 2000, \"pickle_path\": \"/mnt/wd500GB/CSC500/csc500-main/datasets/oracle.Run1_framed_2000Examples_stratified_ds.2022A.pkl\", \"source_or_target_dataset\": \"target\", \"x_transforms\": [\"unit_mag\", \"take_200\", \"resample_20Msps_to_25Msps\"], \"episode_transforms\": [], \"domain_prefix\": \"ORACLE.run1_\"}], \"domains_source\": [\"C_A_1\", \"C_A_2\", \"C_A_3\", \"C_A_4\", \"C_A_5\", \"W_A_1\", \"W_A_2\", \"W_A_3\", \"W_A_4\"], \"domains_target\": [\"ORACLE.run1_32\", \"ORACLE.run1_38\", \"ORACLE.run1_8\", \"ORACLE.run1_44\", \"ORACLE.run1_14\", \"ORACLE.run1_50\", \"ORACLE.run1_20\", \"ORACLE.run1_26\"]}, \"results\": {\"source_test_label_accuracy\": 0.9681078767123288, \"source_test_label_loss\": 0.14048296213150024, \"target_test_label_accuracy\": 0.18248697916666667, \"target_test_label_loss\": 2.5565052032470703, \"source_val_label_accuracy\": 0.9719606164383562, \"source_val_label_loss\": 0.1284206658601761, \"target_val_label_accuracy\": 0.18017578125, \"target_val_label_loss\": 2.561647415161133, \"total_epochs_trained\": 8, \"total_experiment_time_secs\": 479.3907103538513, \"confusion\": {\"W_A_3\": {\"109\": {\"109\": 12}, \"127\": {\"127\": 12}, \"14\": {\"14\": 12}, \"7\": {\"7\": 12}, \"129\": {\"129\": 12}, \"57\": {\"57\": 12}, \"84\": {\"84\": 12}, \"114\": {\"114\": 12}, \"44\": {\"44\": 11, \"80\": 1}, \"21\": {\"21\": 12}, \"46\": {\"46\": 12}, \"100\": {\"100\": 11, \"16\": 1}, \"63\": {\"63\": 8, \"114\": 1, \"88\": 1, \"43\": 1, \"55\": 1}, \"24\": {\"24\": 7, \"21\": 1, \"94\": 1, \"36\": 1, \"112\": 1, \"88\": 1}, \"107\": {\"107\": 12}, \"35\": {\"84\": 1, \"35\": 8, \"13\": 1}, \"81\": {\"81\": 12}, \"64\": {\"64\": 12}, \"59\": {\"36\": 1, \"59\": 11}, \"33\": {\"33\": 12}, \"34\": {\"34\": 12}, \"36\": {\"36\": 12}, \"79\": {\"79\": 12}, \"80\": {\"80\": 11, \"87\": 1}, \"77\": {\"77\": 12}, \"22\": {\"22\": 11, \"57\": 1}, \"124\": {\"124\": 12}, \"2\": {\"2\": 11, \"93\": 1}, \"87\": {\"87\": 11, \"11\": 1}, \"105\": {\"105\": 12}, \"95\": {\"95\": 12}, \"43\": {\"43\": 11, \"33\": 1}, \"56\": {\"56\": 10}, \"18\": {\"18\": 12}, \"85\": {\"85\": 12}, \"113\": {\"113\": 12}, \"97\": {\"97\": 12}, \"86\": {\"86\": 12}, \"128\": {\"86\": 2, \"128\": 10}, \"123\": {\"123\": 12}, \"8\": {\"8\": 12}, \"110\": {\"110\": 12}, \"126\": {\"126\": 12}, \"101\": {\"101\": 12}, \"115\": {\"115\": 12}, \"49\": {\"49\": 12}, \"45\": {\"45\": 12}, \"78\": {\"78\": 10, \"40\": 1, \"13\": 1}, \"65\": {\"65\": 8, \"35\": 1, \"24\": 1}, \"54\": {\"54\": 12}, \"31\": {\"31\": 10}, \"42\": {\"42\": 11, \"101\": 1}, \"68\": {\"68\": 12}, \"15\": {\"15\": 12}, \"69\": {\"69\": 12}, \"17\": {\"17\": 8, \"68\": 1, \"11\": 1}, \"73\": {\"73\": 12}, \"121\": {\"121\": 12}, \"102\": {\"102\": 12}, \"48\": {\"48\": 12}, \"23\": {\"23\": 11, \"71\": 1}, \"108\": {\"108\": 12}, \"53\": {\"53\": 12}, \"94\": {\"94\": 10}, \"41\": {\"41\": 12}, \"58\": {\"58\": 12}, \"29\": {\"29\": 12}, \"116\": {\"116\": 12}, \"60\": {\"60\": 12}, \"104\": {\"104\": 12}, \"106\": {\"106\": 12}, \"66\": {\"66\": 12}, \"47\": {\"47\": 12}, \"40\": {\"40\": 12}, \"82\": {\"82\": 12}, \"13\": {\"13\": 9, \"55\": 1, \"22\": 1, \"85\": 1}, \"19\": {\"19\": 10, \"103\": 1, \"49\": 1}, \"72\": {\"72\": 12}, \"9\": {\"9\": 12}, \"67\": {\"67\": 12}, \"11\": {\"11\": 12}, \"125\": {\"125\": 12}, \"76\": {\"76\": 8}, \"83\": {\"83\": 12}, \"74\": {\"74\": 11, \"11\": 1}, \"20\": {\"20\": 12}, \"119\": {\"119\": 12}, \"1\": {\"1\": 12}, \"16\": {\"16\": 12}, \"25\": {\"25\": 11, \"48\": 1}, \"90\": {\"90\": 8}, \"39\": {\"39\": 12}, \"28\": {\"28\": 12}, \"55\": {\"55\": 12}, \"117\": {\"117\": 12}, \"112\": {\"112\": 11, \"53\": 1}, \"38\": {\"38\": 12}, \"37\": {\"37\": 12}, \"120\": {\"120\": 12}, \"122\": {\"122\": 12}, \"50\": {\"50\": 12}, \"10\": {\"10\": 12}, \"5\": {\"5\": 12}, \"51\": {\"51\": 12}, \"3\": {\"3\": 10, \"60\": 2}, \"98\": {\"98\": 12}, \"70\": {\"70\": 11, \"88\": 1}, \"96\": {\"96\": 12}, \"12\": {\"12\": 12}, \"99\": {\"99\": 12}, \"52\": {\"52\": 12}, \"71\": {\"71\": 11, \"61\": 1}, \"89\": {\"89\": 12}, \"0\": {\"0\": 12}, \"4\": {\"4\": 9, \"88\": 1, \"24\": 1, \"71\": 1}, \"93\": {\"93\": 12}, \"6\": {\"6\": 10}, \"75\": {\"75\": 12}, \"62\": {\"62\": 12}, \"103\": {\"103\": 12}, \"30\": {\"30\": 10, \"12\": 1, \"97\": 1}, \"91\": {\"91\": 11, \"103\": 1}, \"27\": {\"27\": 12}, \"26\": {\"26\": 12}, \"61\": {\"61\": 12}, \"118\": {\"118\": 12}, \"92\": {\"92\": 12}, \"111\": {\"111\": 12}, \"32\": {\"32\": 12}, \"88\": {\"88\": 9, \"11\": 1}}, \"W_A_4\": {\"28\": {\"28\": 12}, \"4\": {\"4\": 11, \"56\": 1}, \"72\": {\"72\": 12}, \"111\": {\"111\": 12}, \"108\": {\"108\": 12}, \"43\": {\"43\": 10}, \"96\": {\"96\": 12}, \"89\": {\"89\": 12}, \"31\": {\"31\": 12}, \"45\": {\"45\": 12}, \"2\": {\"2\": 12}, \"114\": {\"114\": 12}, \"11\": {\"11\": 12}, \"12\": {\"12\": 12}, \"14\": {\"14\": 11, \"31\": 1}, \"90\": {\"90\": 12}, \"10\": {\"10\": 9, \"24\": 2, \"94\": 1}, \"63\": {\"3\": 1, \"63\": 10, \"71\": 1}, \"85\": {\"85\": 11, \"64\": 1}, \"64\": {\"64\": 12}, \"82\": {\"82\": 10, \"0\": 1, \"70\": 1}, \"58\": {\"58\": 12}, \"3\": {\"3\": 12}, \"54\": {\"54\": 12}, \"121\": {\"121\": 11, \"108\": 1}, \"42\": {\"42\": 12}, \"98\": {\"98\": 12}, \"123\": {\"123\": 11, \"113\": 1}, \"91\": {\"91\": 11, \"82\": 1}, \"66\": {\"66\": 12}, \"102\": {\"102\": 12}, \"122\": {\"122\": 10, \"71\": 1, \"51\": 1}, \"1\": {\"1\": 12}, \"15\": {\"15\": 11, \"97\": 1}, \"97\": {\"97\": 9, \"15\": 2, \"5\": 1}, \"75\": {\"75\": 12}, \"95\": {\"95\": 12}, \"57\": {\"57\": 12}, \"68\": {\"68\": 12}, \"125\": {\"125\": 12}, \"62\": {\"62\": 10}, \"27\": {\"27\": 12}, \"120\": {\"120\": 11, \"103\": 1}, \"26\": {\"26\": 12}, \"55\": {\"55\": 12}, \"71\": {\"71\": 11, \"110\": 1}, \"22\": {\"22\": 12}, \"99\": {\"99\": 11, \"128\": 1}, \"84\": {\"84\": 10, \"23\": 1, \"55\": 1}, \"37\": {\"37\": 12}, \"83\": {\"83\": 12}, \"46\": {\"46\": 12}, \"35\": {\"35\": 12}, \"13\": {\"13\": 12}, \"53\": {\"53\": 10, \"88\": 1, \"78\": 1}, \"127\": {\"127\": 12}, \"69\": {\"97\": 1, \"69\": 10, \"45\": 1}, \"48\": {\"48\": 11, \"119\": 1}, \"16\": {\"16\": 12}, \"0\": {\"0\": 12}, \"8\": {\"8\": 10, \"97\": 1, \"92\": 1}, \"9\": {\"9\": 12}, \"115\": {\"115\": 12}, \"70\": {\"46\": 1, \"70\": 9, \"78\": 1, \"53\": 1}, \"119\": {\"119\": 12}, \"59\": {\"59\": 11, \"25\": 1}, \"52\": {\"52\": 12}, \"60\": {\"60\": 11, \"110\": 1}, \"44\": {\"44\": 11, \"90\": 1}, \"51\": {\"51\": 12}, \"6\": {\"6\": 11, \"34\": 1}, \"73\": {\"73\": 12}, \"78\": {\"78\": 12}, \"92\": {\"92\": 12}, \"20\": {\"20\": 10, \"73\": 1, \"23\": 1}, \"17\": {\"17\": 12}, \"74\": {\"74\": 12}, \"19\": {\"19\": 12}, \"50\": {\"50\": 12}, \"34\": {\"34\": 10, \"76\": 1, \"57\": 1}, \"104\": {\"104\": 7, \"17\": 1}, \"33\": {\"33\": 10, \"105\": 1, \"51\": 1}, \"5\": {\"5\": 12}, \"7\": {\"7\": 10, \"128\": 1, \"123\": 1}, \"29\": {\"29\": 12}, \"25\": {\"25\": 12}, \"124\": {\"124\": 12}, \"117\": {\"117\": 10, \"90\": 1, \"80\": 1}, \"88\": {\"88\": 10, \"103\": 1, \"115\": 1}, \"61\": {\"61\": 11, \"53\": 1}, \"86\": {\"86\": 12}, \"116\": {\"116\": 12}, \"24\": {\"24\": 12}, \"128\": {\"128\": 10, \"21\": 1, \"129\": 1}, \"101\": {\"101\": 12}, \"65\": {\"65\": 9, \"23\": 1}, \"36\": {\"36\": 12}, \"21\": {\"21\": 11, \"78\": 1}, \"106\": {\"106\": 12}, \"118\": {\"118\": 10, \"71\": 1, \"88\": 1}, \"113\": {\"113\": 8, \"93\": 1, \"48\": 1, \"24\": 1, \"39\": 1}, \"40\": {\"40\": 12}, \"93\": {\"93\": 8}, \"94\": {\"94\": 10, \"36\": 2}, \"103\": {\"103\": 8, \"6\": 1, \"23\": 1, \"5\": 1, \"120\": 1}, \"110\": {\"110\": 12}, \"56\": {\"56\": 12}, \"39\": {\"39\": 12}, \"109\": {\"31\": 1, \"109\": 11}, \"67\": {\"67\": 11, \"71\": 1}, \"129\": {\"73\": 1, \"129\": 11}, \"30\": {\"30\": 12}, \"126\": {\"126\": 10, \"76\": 2}, \"87\": {\"51\": 1, \"87\": 11}, \"112\": {\"112\": 12}, \"100\": {\"100\": 12}, \"79\": {\"79\": 10}, \"81\": {\"81\": 11, \"80\": 1}, \"76\": {\"76\": 10}, \"47\": {\"47\": 11, \"100\": 1}, \"77\": {\"77\": 12}, \"23\": {\"23\": 8, \"49\": 1, \"82\": 1, \"120\": 1, \"78\": 1}, \"18\": {\"18\": 12}, \"49\": {\"49\": 12}, \"41\": {\"41\": 10, \"22\": 1, \"116\": 1}, \"32\": {\"32\": 12}, \"107\": {\"107\": 10}, \"80\": {\"80\": 11, \"5\": 1}, \"105\": {\"105\": 7, \"87\": 2, \"113\": 1}, \"38\": {\"38\": 10}}, \"C_A_3\": {\"43\": {\"43\": 12}, \"9\": {\"9\": 12}, \"6\": {\"6\": 10}, \"3\": {\"3\": 12}, \"16\": {\"16\": 12}, \"51\": {\"51\": 12}, \"31\": {\"31\": 12}, \"46\": {\"46\": 10}, \"19\": {\"19\": 8}, \"8\": {\"8\": 12}, \"18\": {\"18\": 12}, \"37\": {\"37\": 12}, \"24\": {\"24\": 12}, \"10\": {\"10\": 12}, \"44\": {\"44\": 10}, \"14\": {\"14\": 12}, \"38\": {\"38\": 10}, \"53\": {\"53\": 12}, \"20\": {\"20\": 12}, \"32\": {\"32\": 12}, \"36\": {\"36\": 10}, \"33\": {\"33\": 12}, \"56\": {\"56\": 12}, \"23\": {\"23\": 12}, \"54\": {\"54\": 10}, \"34\": {\"34\": 12}, \"13\": {\"13\": 12}, \"2\": {\"2\": 12}, \"55\": {\"55\": 10}, \"21\": {\"21\": 10}, \"49\": {\"49\": 10}, \"25\": {\"25\": 12}, \"5\": {\"5\": 12}, \"50\": {\"50\": 8}, \"40\": {\"40\": 12}, \"57\": {\"57\": 8}, \"22\": {\"22\": 10}, \"1\": {\"1\": 10}, \"17\": {\"17\": 12}, \"41\": {\"41\": 12}, \"4\": {\"4\": 9, \"27\": 1}, \"7\": {\"7\": 10}, \"26\": {\"26\": 10}, \"29\": {\"29\": 12}, \"52\": {\"52\": 12}, \"15\": {\"15\": 12}, \"35\": {\"35\": 12}, \"42\": {\"42\": 12}, \"30\": {\"30\": 10}, \"27\": {\"27\": 8}, \"45\": {\"45\": 10}, \"0\": {\"0\": 12}, \"28\": {\"28\": 12}, \"47\": {\"47\": 12}, \"11\": {\"11\": 10}, \"39\": {\"39\": 10}, \"48\": {\"48\": 12}, \"12\": {\"12\": 8}}, \"C_A_4\": {\"35\": {\"35\": 10}, \"25\": {\"25\": 12}, \"24\": {\"24\": 10}, \"48\": {\"48\": 12}, \"51\": {\"51\": 12}, \"13\": {\"13\": 12}, \"14\": {\"14\": 7, \"35\": 1}, \"32\": {\"32\": 12}, \"30\": {\"30\": 12}, \"34\": {\"34\": 10}, \"9\": {\"9\": 12}, \"1\": {\"1\": 12}, \"0\": {\"0\": 12}, \"38\": {\"38\": 12}, \"22\": {\"22\": 8}, \"40\": {\"40\": 12}, \"39\": {\"39\": 12}, \"46\": {\"46\": 11, \"3\": 1}, \"36\": {\"36\": 12}, \"50\": {\"50\": 11, \"3\": 1}, \"49\": {\"49\": 12}, \"17\": {\"17\": 12}, \"45\": {\"45\": 12}, \"6\": {\"6\": 12}, \"8\": {\"8\": 12}, \"5\": {\"5\": 10}, \"33\": {\"33\": 12}, \"31\": {\"31\": 12}, \"37\": {\"37\": 10}, \"47\": {\"47\": 8}, \"15\": {\"15\": 10}, \"7\": {\"7\": 12}, \"20\": {\"20\": 12}, \"4\": {\"4\": 12}, \"54\": {\"54\": 12}, \"44\": {\"44\": 12}, \"3\": {\"3\": 12}, \"11\": {\"11\": 10}, \"27\": {\"27\": 10}, \"19\": {\"19\": 12}, \"55\": {\"55\": 12}, \"16\": {\"16\": 12}, \"2\": {\"2\": 10}, \"52\": {\"52\": 10}, \"42\": {\"42\": 10}, \"26\": {\"26\": 12}, \"10\": {\"10\": 12}, \"53\": {\"53\": 10}, \"28\": {\"28\": 12}, \"21\": {\"21\": 10}, \"57\": {\"57\": 10}, \"23\": {\"23\": 8}, \"43\": {\"43\": 10}, \"12\": {\"12\": 12}, \"41\": {\"41\": 12}, \"56\": {\"56\": 8}, \"18\": {\"18\": 10}, \"29\": {\"29\": 8}}, \"W_A_1\": {\"108\": {\"108\": 10}, \"40\": {\"40\": 12}, \"68\": {\"68\": 12}, \"23\": {\"23\": 11, \"127\": 1}, \"26\": {\"70\": 1, \"26\": 11}, \"64\": {\"64\": 12}, \"22\": {\"22\": 12}, \"3\": {\"3\": 12}, \"4\": {\"4\": 11, \"11\": 1}, \"70\": {\"70\": 12}, \"57\": {\"57\": 12}, \"79\": {\"79\": 12}, \"9\": {\"9\": 10, \"103\": 2}, \"89\": {\"89\": 12}, \"110\": {\"110\": 12}, \"102\": {\"102\": 12}, \"31\": {\"31\": 12}, \"58\": {\"58\": 12}, \"47\": {\"47\": 12}, \"24\": {\"24\": 12}, \"19\": {\"19\": 12}, \"11\": {\"11\": 12}, \"52\": {\"52\": 12}, \"17\": {\"17\": 12}, \"25\": {\"25\": 12}, \"69\": {\"69\": 11, \"118\": 1}, \"96\": {\"96\": 12}, \"109\": {\"109\": 12}, \"115\": {\"115\": 12}, \"83\": {\"83\": 12}, \"84\": {\"84\": 12}, \"119\": {\"119\": 10}, \"122\": {\"122\": 10}, \"99\": {\"99\": 12}, \"1\": {\"1\": 12}, \"74\": {\"74\": 10, \"23\": 1, \"34\": 1}, \"85\": {\"85\": 12}, \"127\": {\"127\": 12}, \"111\": {\"111\": 11, \"127\": 1}, \"53\": {\"53\": 12}, \"88\": {\"88\": 9, \"36\": 3}, \"65\": {\"65\": 8, \"85\": 1, \"119\": 1}, \"7\": {\"7\": 12}, \"16\": {\"16\": 11, \"122\": 1}, \"128\": {\"128\": 12}, \"34\": {\"34\": 12}, \"129\": {\"129\": 12}, \"43\": {\"43\": 12}, \"92\": {\"92\": 12}, \"28\": {\"28\": 12}, \"27\": {\"27\": 12}, \"114\": {\"114\": 12}, \"73\": {\"73\": 12}, \"0\": {\"0\": 12}, \"104\": {\"104\": 12}, \"118\": {\"118\": 12}, \"41\": {\"41\": 12}, \"49\": {\"49\": 11, \"53\": 1}, \"14\": {\"14\": 12}, \"46\": {\"76\": 1, \"46\": 9, \"97\": 1, \"83\": 1}, \"33\": {\"33\": 12}, \"76\": {\"76\": 12}, \"125\": {\"125\": 11, \"89\": 1}, \"86\": {\"86\": 10}, \"66\": {\"66\": 11, \"96\": 1}, \"5\": {\"5\": 12}, \"117\": {\"117\": 12}, \"75\": {\"75\": 12}, \"61\": {\"61\": 12}, \"50\": {\"50\": 11, \"12\": 1}, \"67\": {\"67\": 10}, \"18\": {\"18\": 12}, \"98\": {\"98\": 12}, \"55\": {\"55\": 10}, \"32\": {\"32\": 12}, \"120\": {\"120\": 12}, \"97\": {\"97\": 10, \"88\": 2}, \"126\": {\"126\": 12}, \"45\": {\"45\": 12}, \"78\": {\"78\": 9, \"43\": 1}, \"100\": {\"100\": 12}, \"107\": {\"107\": 12}, \"93\": {\"93\": 10, \"107\": 1, \"105\": 1}, \"77\": {\"77\": 12}, \"63\": {\"63\": 12}, \"112\": {\"112\": 12}, \"113\": {\"113\": 12}, \"103\": {\"103\": 10}, \"71\": {\"71\": 12}, \"30\": {\"30\": 12}, \"90\": {\"90\": 12}, \"37\": {\"103\": 1, \"37\": 11}, \"60\": {\"60\": 8, \"86\": 1, \"63\": 1, \"70\": 1, \"81\": 1}, \"15\": {\"15\": 10, \"94\": 1, \"111\": 1}, \"39\": {\"39\": 12}, \"72\": {\"72\": 12}, \"54\": {\"54\": 12}, \"35\": {\"35\": 12}, \"2\": {\"2\": 12}, \"94\": {\"94\": 11, \"30\": 1}, \"42\": {\"42\": 11, \"109\": 1}, \"81\": {\"81\": 12}, \"8\": {\"8\": 11, \"87\": 1}, \"87\": {\"87\": 12}, \"6\": {\"6\": 12}, \"36\": {\"36\": 11, \"94\": 1}, \"91\": {\"91\": 12}, \"56\": {\"56\": 12}, \"80\": {\"80\": 11, \"78\": 1}, \"124\": {\"124\": 10}, \"44\": {\"44\": 12}, \"13\": {\"13\": 12}, \"10\": {\"10\": 10, \"21\": 1, \"96\": 1}, \"59\": {\"59\": 12}, \"95\": {\"95\": 12}, \"105\": {\"105\": 11, \"66\": 1}, \"101\": {\"101\": 12}, \"20\": {\"20\": 12}, \"48\": {\"28\": 1, \"48\": 10, \"123\": 1}, \"106\": {\"106\": 12}, \"51\": {\"51\": 12}, \"21\": {\"21\": 10, \"23\": 1, \"78\": 1}, \"123\": {\"123\": 12}, \"121\": {\"121\": 12}, \"38\": {\"38\": 12}, \"62\": {\"62\": 12}, \"29\": {\"29\": 12}, \"82\": {\"21\": 1, \"82\": 11}, \"116\": {\"116\": 12}, \"12\": {\"12\": 8}}, \"C_A_5\": {\"47\": {\"47\": 9, \"11\": 1}, \"53\": {\"53\": 12}, \"29\": {\"29\": 12}, \"52\": {\"52\": 12}, \"55\": {\"55\": 12}, \"17\": {\"17\": 12}, \"42\": {\"42\": 12}, \"33\": {\"33\": 10}, \"11\": {\"11\": 12}, \"19\": {\"19\": 8}, \"1\": {\"1\": 12}, \"44\": {\"44\": 12}, \"49\": {\"49\": 12}, \"4\": {\"4\": 12}, \"6\": {\"6\": 12}, \"39\": {\"39\": 12}, \"13\": {\"13\": 12}, \"5\": {\"5\": 10}, \"16\": {\"16\": 10}, \"25\": {\"25\": 12}, \"45\": {\"45\": 12}, \"7\": {\"7\": 10}, \"22\": {\"22\": 12}, \"40\": {\"40\": 12}, \"38\": {\"38\": 12}, \"35\": {\"35\": 8}, \"56\": {\"56\": 12}, \"50\": {\"50\": 10}, \"0\": {\"0\": 12}, \"10\": {\"10\": 12}, \"27\": {\"27\": 12}, \"20\": {\"20\": 10}, \"36\": {\"36\": 8}, \"34\": {\"34\": 12}, \"30\": {\"30\": 12}, \"2\": {\"2\": 10}, \"15\": {\"15\": 11, \"11\": 1}, \"18\": {\"18\": 12}, \"32\": {\"32\": 12}, \"31\": {\"31\": 12}, \"57\": {\"57\": 12}, \"48\": {\"48\": 8}, \"28\": {\"28\": 10}, \"14\": {\"14\": 9, \"5\": 1, \"37\": 1, \"29\": 1}, \"3\": {\"3\": 12}, \"8\": {\"8\": 12}, \"9\": {\"9\": 12}, \"21\": {\"21\": 10}, \"41\": {\"41\": 12}, \"24\": {\"24\": 12}, \"46\": {\"46\": 10}, \"43\": {\"43\": 10}, \"54\": {\"54\": 10}, \"23\": {\"23\": 10}, \"37\": {\"37\": 10}, \"12\": {\"12\": 10}, \"26\": {\"26\": 10}, \"51\": {\"51\": 6}}, \"C_A_1\": {\"46\": {\"46\": 12}, \"16\": {\"16\": 12}, \"26\": {\"26\": 12}, \"10\": {\"10\": 12}, \"9\": {\"9\": 10}, \"28\": {\"28\": 12}, \"51\": {\"51\": 12}, \"1\": {\"1\": 12}, \"55\": {\"55\": 12}, \"27\": {\"27\": 10}, \"22\": {\"22\": 12}, \"52\": {\"52\": 12}, \"3\": {\"3\": 12}, \"33\": {\"33\": 8}, \"47\": {\"47\": 12}, \"42\": {\"42\": 12}, \"12\": {\"12\": 4}, \"23\": {\"23\": 12}, \"49\": {\"49\": 10}, \"7\": {\"7\": 12}, \"4\": {\"4\": 12}, \"50\": {\"50\": 12}, \"19\": {\"19\": 12}, \"11\": {\"11\": 12}, \"31\": {\"31\": 10}, \"41\": {\"41\": 12}, \"56\": {\"56\": 10}, \"0\": {\"0\": 12}, \"57\": {\"57\": 12}, \"53\": {\"53\": 12}, \"43\": {\"43\": 12}, \"37\": {\"37\": 12}, \"2\": {\"2\": 8}, \"6\": {\"6\": 12}, \"18\": {\"18\": 12}, \"38\": {\"38\": 12}, \"15\": {\"15\": 12}, \"36\": {\"36\": 12}, \"39\": {\"39\": 8}, \"44\": {\"44\": 12}, \"8\": {\"8\": 12}, \"17\": {\"17\": 10}, \"5\": {\"5\": 12}, \"13\": {\"13\": 10}, \"40\": {\"40\": 10}, \"29\": {\"29\": 12}, \"48\": {\"48\": 12}, \"32\": {\"32\": 12}, \"30\": {\"30\": 12}, \"35\": {\"35\": 12}, \"25\": {\"25\": 12}, \"14\": {\"14\": 11, \"30\": 1}, \"54\": {\"54\": 10}, \"20\": {\"20\": 8}, \"21\": {\"21\": 10}, \"45\": {\"45\": 8}, \"24\": {\"24\": 8}, \"34\": {\"34\": 8}}, \"W_A_2\": {\"91\": {\"91\": 11, \"59\": 1}, \"12\": {\"12\": 10, \"106\": 1, \"8\": 1}, \"101\": {\"101\": 10}, \"121\": {\"121\": 11, \"76\": 1}, \"118\": {\"118\": 12}, \"10\": {\"10\": 12}, \"117\": {\"117\": 12}, \"110\": {\"110\": 9, \"10\": 1, \"43\": 1, \"14\": 1}, \"97\": {\"97\": 8, \"126\": 1, \"15\": 1, \"28\": 1, \"106\": 1}, \"28\": {\"17\": 1, \"28\": 8, \"124\": 1, \"110\": 1, \"70\": 1}, \"88\": {\"88\": 11, \"73\": 1}, \"17\": {\"17\": 11, \"114\": 1}, \"126\": {\"126\": 11, \"46\": 1}, \"33\": {\"33\": 12}, \"86\": {\"86\": 12}, \"106\": {\"106\": 12}, \"54\": {\"54\": 12}, \"125\": {\"125\": 12}, \"83\": {\"83\": 12}, \"98\": {\"98\": 12}, \"11\": {\"11\": 11, \"71\": 1}, \"32\": {\"32\": 12}, \"42\": {\"42\": 12}, \"103\": {\"103\": 12}, \"87\": {\"87\": 11, \"88\": 1}, \"61\": {\"61\": 11, \"102\": 1}, \"13\": {\"13\": 12}, \"4\": {\"4\": 12}, \"15\": {\"15\": 10}, \"120\": {\"120\": 12}, \"80\": {\"80\": 12}, \"72\": {\"72\": 10}, \"64\": {\"64\": 12}, \"81\": {\"81\": 12}, \"102\": {\"102\": 12}, \"76\": {\"76\": 12}, \"49\": {\"49\": 8, \"114\": 1, \"67\": 1}, \"129\": {\"129\": 12}, \"89\": {\"89\": 12}, \"52\": {\"52\": 12}, \"35\": {\"35\": 12}, \"53\": {\"53\": 10, \"116\": 1, \"39\": 1}, \"112\": {\"112\": 12}, \"105\": {\"105\": 12}, \"100\": {\"100\": 12}, \"9\": {\"9\": 12}, \"82\": {\"82\": 12}, \"51\": {\"51\": 12}, \"21\": {\"21\": 12}, \"92\": {\"92\": 10, \"69\": 1, \"103\": 1}, \"69\": {\"69\": 12}, \"77\": {\"77\": 12}, \"50\": {\"50\": 11, \"88\": 1}, \"36\": {\"36\": 12}, \"16\": {\"16\": 10, \"28\": 1, \"5\": 1}, \"8\": {\"18\": 1, \"8\": 10, \"120\": 1}, \"127\": {\"127\": 12}, \"46\": {\"46\": 10}, \"84\": {\"84\": 12}, \"18\": {\"18\": 12}, \"123\": {\"123\": 10}, \"56\": {\"56\": 11, \"15\": 1}, \"26\": {\"26\": 12}, \"14\": {\"88\": 1, \"14\": 7, \"72\": 2, \"22\": 1, \"71\": 1}, \"109\": {\"109\": 11, \"102\": 1}, \"66\": {\"66\": 12}, \"24\": {\"24\": 10, \"43\": 1, \"94\": 1}, \"71\": {\"71\": 12}, \"65\": {\"65\": 10, \"85\": 1, \"74\": 1}, \"75\": {\"75\": 11, \"67\": 1}, \"111\": {\"111\": 12}, \"30\": {\"30\": 11, \"71\": 1}, \"85\": {\"85\": 12}, \"113\": {\"113\": 9, \"88\": 1}, \"45\": {\"45\": 12}, \"29\": {\"29\": 11, \"67\": 1}, \"20\": {\"20\": 12}, \"25\": {\"25\": 12}, \"0\": {\"0\": 12}, \"68\": {\"68\": 11, \"95\": 1}, \"119\": {\"119\": 12}, \"90\": {\"90\": 12}, \"38\": {\"38\": 12}, \"99\": {\"99\": 12}, \"1\": {\"1\": 12}, \"67\": {\"67\": 10, \"109\": 1, \"25\": 1}, \"63\": {\"63\": 12}, \"34\": {\"34\": 12}, \"108\": {\"108\": 12}, \"40\": {\"40\": 12}, \"47\": {\"47\": 12}, \"37\": {\"37\": 12}, \"78\": {\"78\": 12}, \"96\": {\"96\": 12}, \"43\": {\"43\": 11, \"21\": 1}, \"5\": {\"5\": 10}, \"124\": {\"124\": 12}, \"44\": {\"44\": 12}, \"41\": {\"41\": 11, \"51\": 1}, \"116\": {\"116\": 12}, \"19\": {\"19\": 11, \"71\": 1}, \"115\": {\"115\": 12}, \"95\": {\"95\": 9, \"37\": 1, \"68\": 2}, \"3\": {\"3\": 10}, \"59\": {\"59\": 12}, \"55\": {\"55\": 12}, \"70\": {\"70\": 9, \"53\": 1, \"87\": 2}, \"6\": {\"6\": 12}, \"2\": {\"2\": 12}, \"48\": {\"48\": 12}, \"23\": {\"23\": 9, \"122\": 1, \"107\": 1, \"70\": 1}, \"7\": {\"7\": 12}, \"122\": {\"122\": 12}, \"57\": {\"57\": 10, \"25\": 1, \"71\": 1}, \"39\": {\"39\": 9, \"92\": 1}, \"79\": {\"79\": 12}, \"27\": {\"27\": 10}, \"74\": {\"74\": 9, \"2\": 1, \"86\": 1, \"51\": 1}, \"73\": {\"73\": 12}, \"62\": {\"62\": 12}, \"107\": {\"107\": 12}, \"128\": {\"128\": 12}, \"60\": {\"60\": 12}, \"114\": {\"114\": 12}, \"22\": {\"22\": 12}, \"93\": {\"93\": 12}, \"94\": {\"94\": 11, \"12\": 1}, \"31\": {\"31\": 10}, \"104\": {\"104\": 12}, \"58\": {\"58\": 12}}, \"C_A_2\": {\"14\": {\"14\": 12}, \"22\": {\"22\": 11, \"56\": 1}, \"9\": {\"9\": 12}, \"47\": {\"47\": 12}, \"13\": {\"13\": 12}, \"8\": {\"8\": 12}, \"7\": {\"7\": 12}, \"49\": {\"49\": 12}, \"20\": {\"20\": 12}, \"16\": {\"16\": 12}, \"34\": {\"34\": 12}, \"56\": {\"56\": 12}, \"38\": {\"38\": 10}, \"4\": {\"4\": 12}, \"43\": {\"43\": 10}, \"26\": {\"26\": 10}, \"35\": {\"35\": 12}, \"31\": {\"31\": 12}, \"1\": {\"1\": 12}, \"39\": {\"39\": 12}, \"5\": {\"5\": 12}, \"24\": {\"24\": 12}, \"54\": {\"54\": 10}, \"23\": {\"23\": 12}, \"51\": {\"51\": 12}, \"27\": {\"27\": 10}, \"15\": {\"15\": 12}, \"0\": {\"0\": 12}, \"19\": {\"19\": 10}, \"18\": {\"18\": 8}, \"30\": {\"18\": 1, \"30\": 11}, \"55\": {\"55\": 10}, \"57\": {\"57\": 12}, \"2\": {\"2\": 12}, \"12\": {\"12\": 8}, \"41\": {\"41\": 12}, \"42\": {\"42\": 12}, \"48\": {\"48\": 12}, \"37\": {\"37\": 12}, \"6\": {\"6\": 10}, \"11\": {\"11\": 10}, \"45\": {\"45\": 8}, \"21\": {\"21\": 12}, \"46\": {\"46\": 10}, \"25\": {\"25\": 12}, \"36\": {\"36\": 10}, \"53\": {\"53\": 12}, \"28\": {\"28\": 12}, \"40\": {\"40\": 10}, \"33\": {\"33\": 10}, \"44\": {\"44\": 10}, \"3\": {\"3\": 12}, \"17\": {\"17\": 12}, \"32\": {\"32\": 10}, \"10\": {\"10\": 10}, \"52\": {\"52\": 10}, \"50\": {\"50\": 8}, \"29\": {\"29\": 6}}, \"ORACLE.run1_14\": {\"15\": {\"10\": 6, \"2\": 18, \"5\": 28, \"15\": 53, \"13\": 15, \"1\": 25, \"4\": 16, \"14\": 11, \"3\": 6, \"6\": 17, \"7\": 41, \"0\": 1, \"8\": 3}, \"3\": {\"13\": 20, \"14\": 17, \"4\": 31, \"6\": 15, \"3\": 24, \"5\": 13, \"1\": 27, \"9\": 1, \"7\": 13, \"0\": 18, \"12\": 1, \"2\": 14, \"11\": 12, \"10\": 25, \"15\": 5, \"8\": 4}, \"6\": {\"13\": 34, \"4\": 18, \"14\": 29, \"2\": 27, \"3\": 17, \"0\": 2, \"5\": 17, \"11\": 4, \"15\": 21, \"6\": 39, \"1\": 9, \"10\": 15, \"7\": 8}, \"1\": {\"2\": 20, \"10\": 18, \"7\": 13, \"4\": 30, \"5\": 31, \"8\": 4, \"3\": 41, \"13\": 10, \"1\": 28, \"0\": 10, \"15\": 8, \"6\": 9, \"14\": 12, \"11\": 4, \"9\": 2}, \"8\": {\"5\": 18, \"8\": 62, \"9\": 30, \"1\": 19, \"3\": 22, \"4\": 14, \"7\": 16, \"12\": 10, \"10\": 12, \"11\": 13, \"0\": 18, \"2\": 2, \"13\": 2, \"15\": 1, \"14\": 1}, \"10\": {\"15\": 1, \"4\": 22, \"1\": 11, \"14\": 16, \"3\": 27, \"11\": 28, \"13\": 15, \"10\": 39, \"5\": 18, \"2\": 19, \"0\": 22, \"6\": 10, \"9\": 6, \"8\": 6}, \"9\": {\"9\": 50, \"12\": 49, \"8\": 31, \"11\": 27, \"0\": 29, \"10\": 24, \"13\": 3, \"5\": 4, \"4\": 8, \"7\": 1, \"1\": 5, \"3\": 8, \"14\": 1}, \"13\": {\"4\": 20, \"15\": 17, \"6\": 33, \"3\": 25, \"1\": 11, \"14\": 22, \"5\": 15, \"2\": 39, \"7\": 10, \"13\": 25, \"0\": 7, \"11\": 4, \"10\": 12}, \"12\": {\"11\": 40, \"12\": 89, \"8\": 18, \"9\": 69, \"3\": 4, \"10\": 6, \"0\": 11, \"5\": 1, \"4\": 2}, \"5\": {\"0\": 13, \"2\": 21, \"5\": 24, \"10\": 23, \"8\": 2, \"13\": 16, \"14\": 21, \"15\": 16, \"1\": 18, \"6\": 13, \"4\": 19, \"3\": 26, \"11\": 5, \"7\": 23}, \"0\": {\"5\": 13, \"14\": 19, \"0\": 31, \"4\": 20, \"2\": 14, \"10\": 44, \"3\": 30, \"13\": 6, \"12\": 4, \"15\": 2, \"7\": 3, \"9\": 14, \"11\": 19, \"1\": 10, \"8\": 7, \"6\": 4}, \"2\": {\"14\": 32, \"2\": 30, \"6\": 22, \"0\": 18, \"13\": 30, \"5\": 21, \"11\": 7, \"1\": 18, \"15\": 7, \"3\": 18, \"4\": 13, \"10\": 15, \"7\": 5, \"9\": 2, \"8\": 2}, \"11\": {\"11\": 50, \"12\": 18, \"9\": 31, \"8\": 10, \"10\": 26, \"14\": 10, \"2\": 7, \"3\": 25, \"4\": 9, \"0\": 24, \"13\": 9, \"1\": 8, \"5\": 7, \"6\": 6}, \"14\": {\"4\": 20, \"13\": 24, \"1\": 11, \"6\": 23, \"5\": 23, \"2\": 25, \"14\": 35, \"10\": 20, \"3\": 23, \"15\": 5, \"11\": 11, \"0\": 11, \"7\": 5, \"8\": 3, \"9\": 1}, \"7\": {\"5\": 26, \"3\": 17, \"4\": 32, \"7\": 46, \"6\": 4, \"15\": 33, \"0\": 5, \"2\": 18, \"10\": 4, \"1\": 35, \"8\": 6, \"13\": 8, \"14\": 5, \"11\": 1}, \"4\": {\"10\": 17, \"5\": 26, \"6\": 9, \"4\": 18, \"7\": 22, \"11\": 9, \"13\": 19, \"14\": 14, \"8\": 9, \"3\": 22, \"0\": 18, \"9\": 2, \"15\": 13, \"2\": 22, \"1\": 20}}, \"ORACLE.run1_20\": {\"3\": {\"13\": 15, \"6\": 15, \"9\": 29, \"2\": 17, \"12\": 15, \"1\": 15, \"5\": 14, \"4\": 13, \"15\": 17, \"8\": 13, \"0\": 14, \"3\": 15, \"10\": 12, \"14\": 15, \"7\": 14, \"11\": 7}, \"15\": {\"5\": 14, \"15\": 27, \"9\": 28, \"8\": 19, \"11\": 7, \"2\": 14, \"0\": 22, \"13\": 19, \"12\": 20, \"3\": 12, \"1\": 18, \"7\": 14, \"6\": 11, \"10\": 5, \"14\": 2, \"4\": 8}, \"8\": {\"4\": 16, \"14\": 18, \"0\": 16, \"8\": 22, \"10\": 18, \"12\": 10, \"15\": 12, \"2\": 13, \"3\": 16, \"6\": 25, \"7\": 20, \"13\": 11, \"9\": 13, \"1\": 13, \"11\": 4, \"5\": 13}, \"4\": {\"2\": 9, \"9\": 23, \"1\": 11, \"11\": 3, \"3\": 21, \"5\": 23, \"0\": 17, \"12\": 19, \"8\": 15, \"4\": 22, \"10\": 16, \"15\": 8, \"14\": 16, \"7\": 15, \"13\": 12, \"6\": 10}, \"14\": {\"14\": 33, \"6\": 31, \"13\": 11, \"7\": 15, \"2\": 11, \"1\": 3, \"9\": 16, \"10\": 24, \"12\": 22, \"15\": 7, \"3\": 10, \"11\": 7, \"0\": 7, \"4\": 21, \"5\": 6, \"8\": 16}, \"0\": {\"15\": 30, \"5\": 27, \"2\": 14, \"8\": 15, \"12\": 23, \"3\": 16, \"13\": 20, \"9\": 19, \"14\": 5, \"4\": 10, \"7\": 10, \"0\": 20, \"10\": 8, \"1\": 9, \"6\": 8, \"11\": 6}, \"7\": {\"5\": 18, \"2\": 15, \"15\": 17, \"9\": 14, \"10\": 12, \"13\": 15, \"14\": 14, \"11\": 10, \"7\": 17, \"8\": 18, \"6\": 14, \"12\": 15, \"0\": 15, \"4\": 16, \"3\": 16, \"1\": 14}, \"6\": {\"7\": 24, \"1\": 6, \"14\": 31, \"10\": 21, \"2\": 14, \"3\": 7, \"8\": 23, \"13\": 11, \"0\": 9, \"15\": 10, \"9\": 16, \"11\": 8, \"5\": 13, \"12\": 8, \"6\": 21, \"4\": 18}, \"10\": {\"14\": 33, \"3\": 12, \"7\": 12, \"6\": 25, \"5\": 15, \"0\": 11, \"10\": 29, \"15\": 12, \"8\": 23, \"11\": 2, \"13\": 7, \"4\": 25, \"9\": 9, \"2\": 7, \"12\": 16, \"1\": 2}, \"5\": {\"15\": 21, \"11\": 8, \"8\": 17, \"9\": 22, \"0\": 20, \"7\": 18, \"4\": 17, \"2\": 20, \"13\": 11, \"12\": 13, \"6\": 8, \"1\": 15, \"14\": 5, \"5\": 16, \"3\": 13, \"10\": 16}, \"2\": {\"1\": 16, \"11\": 11, \"0\": 14, \"9\": 21, \"10\": 7, \"12\": 27, \"5\": 13, \"7\": 19, \"14\": 4, \"2\": 20, \"13\": 18, \"3\": 17, \"6\": 12, \"4\": 8, \"8\": 15, \"15\": 18}, \"12\": {\"8\": 21, \"13\": 15, \"15\": 15, \"10\": 10, \"12\": 21, \"1\": 28, \"2\": 19, \"9\": 17, \"6\": 8, \"7\": 20, \"14\": 8, \"3\": 22, \"0\": 10, \"5\": 16, \"4\": 8, \"11\": 2}, \"9\": {\"5\": 16, \"12\": 22, \"0\": 13, \"10\": 5, \"13\": 24, \"2\": 21, \"15\": 26, \"7\": 13, \"4\": 11, \"8\": 13, \"9\": 18, \"11\": 10, \"3\": 21, \"14\": 7, \"1\": 15, \"6\": 5}, \"1\": {\"2\": 16, \"9\": 24, \"12\": 25, \"0\": 26, \"11\": 9, \"1\": 21, \"14\": 4, \"3\": 19, \"10\": 6, \"5\": 15, \"13\": 16, \"8\": 17, \"7\": 17, \"15\": 15, \"6\": 2, \"4\": 8}, \"11\": {\"11\": 39, \"8\": 11, \"5\": 12, \"10\": 9, \"9\": 21, \"2\": 13, \"12\": 12, \"6\": 15, \"4\": 10, \"7\": 34, \"15\": 7, \"13\": 23, \"1\": 12, \"0\": 11, \"3\": 10, \"14\": 1}, \"13\": {\"1\": 26, \"3\": 20, \"8\": 13, \"9\": 19, \"15\": 21, \"13\": 27, \"14\": 9, \"0\": 12, \"5\": 20, \"7\": 10, \"2\": 17, \"11\": 8, \"10\": 5, \"4\": 9, \"6\": 6, \"12\": 18}}, \"ORACLE.run1_38\": {\"5\": {\"5\": 29, \"6\": 37, \"15\": 20, \"8\": 29, \"10\": 19, \"9\": 19, \"7\": 18, \"14\": 4, \"2\": 7, \"0\": 27, \"1\": 14, \"13\": 9, \"3\": 4, \"4\": 1, \"12\": 3}, \"8\": {\"5\": 34, \"0\": 15, \"15\": 20, \"9\": 11, \"10\": 18, \"8\": 41, \"3\": 12, \"7\": 24, \"1\": 16, \"13\": 12, \"12\": 9, \"6\": 20, \"2\": 4, \"4\": 2, \"14\": 2}, \"11\": {\"11\": 70, \"15\": 11, \"2\": 26, \"7\": 6, \"14\": 50, \"13\": 12, \"5\": 3, \"1\": 2, \"10\": 24, \"4\": 10, \"8\": 8, \"12\": 11, \"6\": 1, \"0\": 5, \"9\": 1}, \"1\": {\"13\": 45, \"1\": 41, \"15\": 31, \"6\": 14, \"10\": 15, \"9\": 14, \"0\": 9, \"2\": 16, \"8\": 19, \"5\": 27, \"7\": 4, \"14\": 3, \"11\": 1, \"3\": 1}, \"10\": {\"15\": 18, \"0\": 16, \"8\": 28, \"1\": 12, \"11\": 13, \"9\": 8, \"7\": 21, \"2\": 14, \"10\": 34, \"13\": 23, \"14\": 21, \"12\": 8, \"5\": 11, \"6\": 5, \"3\": 1, \"4\": 7}, \"15\": {\"5\": 27, \"7\": 8, \"13\": 28, \"15\": 33, \"1\": 27, \"2\": 27, \"8\": 17, \"0\": 11, \"9\": 7, \"14\": 13, \"10\": 16, \"12\": 4, \"3\": 4, \"6\": 14, \"11\": 4}, \"3\": {\"5\": 17, \"3\": 65, \"7\": 25, \"6\": 30, \"0\": 20, \"9\": 52, \"15\": 7, \"8\": 7, \"1\": 7, \"10\": 4, \"13\": 5, \"12\": 1}, \"7\": {\"6\": 13, \"5\": 28, \"13\": 6, \"4\": 26, \"2\": 1, \"3\": 20, \"7\": 49, \"15\": 4, \"12\": 10, \"1\": 4, \"10\": 12, \"0\": 21, \"9\": 18, \"8\": 27, \"14\": 1}, \"4\": {\"12\": 53, \"11\": 4, \"4\": 111, \"7\": 30, \"8\": 9, \"0\": 9, \"15\": 2, \"14\": 7, \"10\": 6, \"5\": 6, \"6\": 3}, \"14\": {\"11\": 26, \"2\": 40, \"14\": 70, \"5\": 7, \"10\": 23, \"13\": 16, \"12\": 21, \"15\": 13, \"1\": 8, \"4\": 3, \"8\": 9, \"6\": 1, \"0\": 3}, \"9\": {\"9\": 49, \"8\": 20, \"15\": 12, \"6\": 25, \"13\": 22, \"3\": 38, \"0\": 16, \"7\": 9, \"10\": 6, \"1\": 15, \"5\": 27, \"2\": 1}, \"12\": {\"4\": 56, \"10\": 26, \"8\": 11, \"3\": 1, \"12\": 100, \"11\": 2, \"6\": 1, \"1\": 1, \"7\": 14, \"14\": 13, \"0\": 8, \"13\": 1, \"5\": 3, \"15\": 3}, \"6\": {\"6\": 42, \"15\": 13, \"5\": 35, \"3\": 15, \"1\": 25, \"9\": 46, \"8\": 16, \"10\": 7, \"0\": 19, \"13\": 10, \"7\": 10, \"2\": 2}, \"2\": {\"2\": 55, \"13\": 33, \"5\": 15, \"1\": 22, \"10\": 22, \"15\": 28, \"14\": 34, \"8\": 8, \"11\": 11, \"6\": 1, \"0\": 1, \"9\": 3, \"12\": 6, \"3\": 1}, \"0\": {\"5\": 28, \"0\": 31, \"3\": 15, \"6\": 12, \"7\": 32, \"10\": 17, \"15\": 18, \"9\": 12, \"8\": 26, \"4\": 7, \"12\": 9, \"13\": 19, \"1\": 9, \"14\": 3, \"11\": 1, \"2\": 1}, \"13\": {\"5\": 20, \"15\": 28, \"2\": 31, \"13\": 48, \"9\": 12, \"1\": 32, \"10\": 14, \"6\": 13, \"11\": 3, \"0\": 12, \"14\": 8, \"8\": 11, \"3\": 4, \"7\": 3, \"12\": 1}}, \"ORACLE.run1_8\": {\"9\": {\"10\": 23, \"6\": 3, \"9\": 128, \"5\": 28, \"11\": 2, \"0\": 12, \"14\": 14, \"13\": 12, \"7\": 5, \"2\": 1, \"1\": 6, \"4\": 6}, \"10\": {\"1\": 19, \"14\": 27, \"4\": 28, \"5\": 24, \"7\": 17, \"3\": 3, \"8\": 9, \"10\": 28, \"0\": 17, \"11\": 16, \"6\": 22, \"2\": 5, \"12\": 3, \"13\": 21, \"9\": 1}, \"13\": {\"6\": 11, \"7\": 29, \"2\": 12, \"13\": 22, \"8\": 14, \"1\": 17, \"14\": 21, \"4\": 23, \"5\": 12, \"0\": 22, \"11\": 18, \"10\": 26, \"3\": 4, \"12\": 3, \"15\": 5, \"9\": 1}, \"0\": {\"3\": 7, \"7\": 22, \"13\": 32, \"10\": 29, \"8\": 4, \"6\": 24, \"14\": 20, \"2\": 9, \"4\": 21, \"15\": 5, \"0\": 30, \"1\": 9, \"5\": 19, \"11\": 5, \"12\": 4}, \"1\": {\"15\": 18, \"7\": 10, \"13\": 21, \"4\": 22, \"6\": 14, \"0\": 6, \"11\": 20, \"8\": 26, \"14\": 32, \"10\": 22, \"1\": 22, \"5\": 16, \"12\": 6, \"2\": 3, \"3\": 2}, \"15\": {\"15\": 34, \"12\": 28, \"3\": 26, \"4\": 21, \"7\": 17, \"8\": 26, \"11\": 15, \"14\": 6, \"6\": 13, \"10\": 8, \"0\": 9, \"1\": 5, \"2\": 21, \"13\": 10, \"5\": 1}, \"5\": {\"6\": 24, \"5\": 33, \"13\": 23, \"10\": 27, \"8\": 5, \"7\": 12, \"14\": 24, \"0\": 20, \"11\": 19, \"1\": 23, \"4\": 16, \"2\": 2, \"15\": 5, \"12\": 2, \"9\": 3, \"3\": 2}, \"3\": {\"8\": 21, \"4\": 17, \"11\": 5, \"12\": 27, \"3\": 35, \"13\": 8, \"6\": 18, \"10\": 5, \"15\": 29, \"7\": 23, \"2\": 28, \"14\": 7, \"0\": 14, \"1\": 2, \"5\": 1}, \"6\": {\"4\": 14, \"7\": 14, \"8\": 21, \"13\": 23, \"6\": 33, \"3\": 11, \"11\": 8, \"1\": 13, \"10\": 23, \"0\": 16, \"12\": 11, \"15\": 6, \"14\": 21, \"5\": 16, \"2\": 10}, \"11\": {\"14\": 18, \"1\": 24, \"5\": 21, \"0\": 14, \"7\": 13, \"15\": 8, \"10\": 10, \"2\": 5, \"13\": 21, \"8\": 25, \"11\": 33, \"12\": 11, \"6\": 16, \"4\": 20, \"3\": 1}, \"8\": {\"12\": 24, \"1\": 13, \"15\": 19, \"4\": 23, \"2\": 15, \"11\": 21, \"8\": 33, \"10\": 8, \"6\": 19, \"3\": 18, \"5\": 7, \"7\": 16, \"14\": 8, \"0\": 4, \"13\": 12}, \"4\": {\"10\": 16, \"5\": 21, \"0\": 15, \"7\": 18, \"13\": 23, \"8\": 6, \"4\": 21, \"1\": 25, \"14\": 22, \"2\": 16, \"6\": 23, \"11\": 12, \"12\": 9, \"3\": 3, \"15\": 10}, \"12\": {\"15\": 32, \"12\": 36, \"4\": 8, \"11\": 11, \"7\": 22, \"6\": 17, \"2\": 19, \"3\": 34, \"13\": 5, \"1\": 8, \"8\": 29, \"5\": 3, \"10\": 4, \"14\": 5, \"0\": 7}, \"14\": {\"15\": 11, \"6\": 20, \"0\": 24, \"1\": 19, \"5\": 18, \"10\": 24, \"7\": 9, \"14\": 22, \"11\": 20, \"13\": 29, \"2\": 5, \"4\": 21, \"12\": 3, \"3\": 3, \"8\": 12}, \"2\": {\"3\": 32, \"7\": 25, \"4\": 20, \"12\": 20, \"15\": 15, \"11\": 3, \"2\": 39, \"10\": 7, \"6\": 22, \"1\": 2, \"13\": 12, \"14\": 11, \"0\": 18, \"8\": 11, \"5\": 3}, \"7\": {\"3\": 13, \"7\": 26, \"13\": 23, \"14\": 16, \"10\": 21, \"0\": 19, \"8\": 23, \"12\": 11, \"1\": 12, \"4\": 20, \"2\": 11, \"15\": 12, \"6\": 18, \"11\": 8, \"5\": 7}}, \"ORACLE.run1_50\": {\"7\": {\"7\": 34, \"5\": 30, \"13\": 28, \"9\": 1, \"1\": 12, \"10\": 30, \"4\": 20, \"0\": 19, \"2\": 8, \"6\": 28, \"8\": 14, \"3\": 6, \"15\": 4, \"14\": 6}, \"3\": {\"3\": 72, \"8\": 68, \"10\": 38, \"0\": 19, \"13\": 15, \"2\": 6, \"7\": 12, \"5\": 7, \"15\": 1, \"6\": 2}, \"8\": {\"8\": 77, \"3\": 43, \"0\": 26, \"13\": 16, \"5\": 4, \"10\": 37, \"12\": 1, \"2\": 14, \"7\": 14, \"4\": 4, \"6\": 4}, \"2\": {\"10\": 28, \"14\": 18, \"0\": 40, \"2\": 49, \"1\": 11, \"6\": 13, \"5\": 19, \"8\": 12, \"13\": 10, \"9\": 2, \"12\": 10, \"15\": 7, \"7\": 13, \"3\": 2, \"11\": 2, \"4\": 4}, \"14\": {\"6\": 11, \"11\": 33, \"9\": 20, \"1\": 20, \"2\": 20, \"14\": 56, \"15\": 15, \"12\": 26, \"4\": 17, \"10\": 3, \"0\": 10, \"5\": 5, \"13\": 2, \"7\": 2}, \"4\": {\"11\": 20, \"5\": 23, \"15\": 28, \"1\": 33, \"12\": 13, \"9\": 9, \"13\": 21, \"14\": 11, \"4\": 26, \"7\": 18, \"6\": 21, \"0\": 10, \"10\": 4, \"8\": 1, \"2\": 2}, \"6\": {\"1\": 32, \"13\": 22, \"4\": 31, \"6\": 30, \"11\": 11, \"10\": 3, \"5\": 26, \"8\": 1, \"15\": 26, \"14\": 14, \"9\": 8, \"0\": 8, \"7\": 20, \"3\": 1, \"12\": 4, \"2\": 3}, \"15\": {\"15\": 37, \"4\": 28, \"5\": 20, \"11\": 26, \"14\": 16, \"1\": 37, \"9\": 18, \"6\": 25, \"12\": 9, \"13\": 16, \"0\": 2, \"7\": 4, \"2\": 2}, \"10\": {\"8\": 37, \"10\": 28, \"13\": 23, \"0\": 41, \"7\": 28, \"3\": 9, \"5\": 26, \"6\": 9, \"2\": 14, \"1\": 7, \"14\": 4, \"4\": 12, \"15\": 2}, \"11\": {\"1\": 24, \"13\": 3, \"9\": 34, \"11\": 49, \"15\": 35, \"14\": 18, \"5\": 12, \"4\": 16, \"7\": 2, \"12\": 30, \"6\": 12, \"0\": 2, \"2\": 2, \"10\": 1}, \"13\": {\"7\": 35, \"4\": 26, \"8\": 5, \"13\": 27, \"1\": 31, \"5\": 28, \"15\": 15, \"6\": 18, \"2\": 13, \"0\": 14, \"10\": 19, \"3\": 3, \"14\": 5, \"12\": 1}, \"9\": {\"13\": 3, \"11\": 58, \"14\": 23, \"12\": 23, \"1\": 16, \"6\": 5, \"9\": 54, \"15\": 24, \"5\": 9, \"4\": 17, \"7\": 2, \"2\": 2, \"0\": 4}, \"0\": {\"8\": 23, \"7\": 21, \"14\": 19, \"10\": 28, \"5\": 15, \"1\": 15, \"0\": 43, \"13\": 26, \"4\": 14, \"9\": 2, \"6\": 11, \"12\": 1, \"2\": 19, \"15\": 1, \"3\": 2}, \"1\": {\"15\": 30, \"2\": 7, \"7\": 17, \"6\": 39, \"0\": 8, \"13\": 25, \"5\": 20, \"1\": 33, \"14\": 11, \"9\": 6, \"4\": 24, \"11\": 10, \"12\": 3, \"10\": 6, \"8\": 1}, \"12\": {\"12\": 63, \"9\": 29, \"14\": 42, \"2\": 14, \"1\": 19, \"11\": 37, \"15\": 6, \"7\": 4, \"10\": 2, \"0\": 2, \"4\": 12, \"5\": 4, \"6\": 6}, \"5\": {\"13\": 25, \"6\": 33, \"7\": 28, \"0\": 11, \"10\": 21, \"11\": 7, \"15\": 15, \"1\": 21, \"5\": 35, \"9\": 4, \"4\": 24, \"2\": 4, \"12\": 2, \"8\": 5, \"14\": 4, \"3\": 1}}, \"ORACLE.run1_32\": {\"8\": {\"2\": 13, \"4\": 19, \"14\": 14, \"0\": 30, \"5\": 26, \"8\": 37, \"7\": 21, \"3\": 33, \"13\": 26, \"15\": 7, \"11\": 13, \"9\": 1}, \"14\": {\"13\": 25, \"0\": 16, \"7\": 20, \"4\": 24, \"11\": 32, \"8\": 21, \"14\": 46, \"3\": 16, \"5\": 19, \"2\": 18, \"9\": 3}, \"2\": {\"5\": 22, \"4\": 45, \"0\": 17, \"2\": 50, \"13\": 17, \"7\": 33, \"11\": 15, \"14\": 18, \"8\": 12, \"9\": 10, \"3\": 1}, \"0\": {\"13\": 23, \"4\": 19, \"0\": 40, \"14\": 23, \"9\": 4, \"2\": 26, \"11\": 18, \"8\": 16, \"5\": 26, \"3\": 12, \"7\": 30, \"15\": 3}, \"1\": {\"1\": 118, \"10\": 75, \"6\": 42, \"12\": 5}, \"10\": {\"12\": 33, \"1\": 61, \"6\": 30, \"9\": 1, \"10\": 115}, \"11\": {\"11\": 43, \"0\": 25, \"2\": 15, \"5\": 20, \"7\": 30, \"3\": 17, \"4\": 25, \"13\": 19, \"14\": 28, \"8\": 17, \"9\": 1}, \"5\": {\"0\": 26, \"14\": 12, \"8\": 27, \"13\": 27, \"5\": 32, \"3\": 21, \"11\": 20, \"7\": 26, \"4\": 25, \"2\": 20, \"9\": 3, \"15\": 1}, \"15\": {\"15\": 121, \"3\": 40, \"2\": 1, \"8\": 32, \"13\": 26, \"4\": 2, \"7\": 2, \"11\": 4, \"0\": 3, \"5\": 8, \"14\": 1}, \"3\": {\"4\": 14, \"8\": 33, \"0\": 19, \"2\": 4, \"14\": 15, \"5\": 28, \"3\": 51, \"15\": 14, \"13\": 36, \"11\": 15, \"7\": 11}, \"12\": {\"12\": 114, \"10\": 25, \"4\": 5, \"9\": 65, \"6\": 17, \"2\": 6, \"8\": 1, \"1\": 2, \"13\": 1, \"7\": 1, \"0\": 3}, \"7\": {\"14\": 22, \"0\": 24, \"7\": 34, \"2\": 31, \"11\": 39, \"5\": 22, \"4\": 22, \"13\": 16, \"3\": 5, \"8\": 20, \"9\": 5}, \"13\": {\"8\": 44, \"4\": 26, \"3\": 29, \"5\": 34, \"14\": 14, \"2\": 15, \"13\": 25, \"0\": 16, \"11\": 16, \"7\": 15, \"15\": 5, \"9\": 1}, \"6\": {\"6\": 131, \"1\": 31, \"12\": 22, \"9\": 12, \"10\": 44}, \"4\": {\"13\": 22, \"8\": 17, \"4\": 40, \"7\": 37, \"2\": 20, \"9\": 5, \"5\": 24, \"0\": 30, \"3\": 12, \"14\": 19, \"12\": 1, \"11\": 12, \"15\": 1}, \"9\": {\"9\": 85, \"4\": 18, \"12\": 72, \"13\": 3, \"2\": 26, \"0\": 14, \"11\": 1, \"7\": 7, \"6\": 4, \"5\": 2, \"10\": 2, \"14\": 3, \"8\": 3}}, \"ORACLE.run1_26\": {\"4\": {\"15\": 17, \"1\": 14, \"4\": 20, \"14\": 28, \"2\": 19, \"8\": 24, \"10\": 32, \"0\": 20, \"6\": 13, \"7\": 21, \"9\": 8, \"5\": 8, \"3\": 13, \"13\": 3}, \"12\": {\"5\": 17, \"15\": 17, \"12\": 58, \"8\": 16, \"11\": 26, \"4\": 6, \"0\": 13, \"9\": 18, \"13\": 19, \"6\": 21, \"10\": 13, \"2\": 5, \"7\": 4, \"3\": 4, \"1\": 2, \"14\": 1}, \"10\": {\"5\": 14, \"1\": 24, \"15\": 11, \"2\": 10, \"10\": 21, \"14\": 18, \"3\": 14, \"9\": 15, \"6\": 12, \"7\": 17, \"8\": 22, \"13\": 11, \"4\": 20, \"0\": 27, \"12\": 4}, \"0\": {\"1\": 23, \"4\": 28, \"3\": 13, \"14\": 29, \"0\": 30, \"8\": 20, \"10\": 25, \"2\": 12, \"9\": 11, \"6\": 15, \"5\": 8, \"7\": 11, \"12\": 1, \"15\": 12, \"13\": 2}, \"13\": {\"1\": 4, \"9\": 18, \"13\": 38, \"2\": 13, \"8\": 16, \"5\": 30, \"15\": 22, \"6\": 17, \"0\": 12, \"12\": 10, \"10\": 13, \"3\": 17, \"7\": 12, \"11\": 7, \"4\": 7, \"14\": 4}, \"9\": {\"12\": 12, \"6\": 21, \"15\": 18, \"10\": 12, \"13\": 27, \"14\": 14, \"0\": 14, \"7\": 16, \"2\": 13, \"5\": 16, \"8\": 11, \"11\": 3, \"9\": 23, \"3\": 18, \"4\": 10, \"1\": 12}, \"3\": {\"8\": 17, \"1\": 21, \"7\": 23, \"10\": 16, \"3\": 23, \"6\": 14, \"14\": 16, \"15\": 15, \"2\": 29, \"4\": 16, \"5\": 15, \"13\": 14, \"0\": 9, \"9\": 12}, \"2\": {\"13\": 10, \"3\": 23, \"10\": 21, \"7\": 21, \"14\": 16, \"4\": 12, \"8\": 21, \"5\": 8, \"6\": 18, \"0\": 11, \"9\": 18, \"2\": 24, \"1\": 17, \"15\": 17, \"12\": 3}, \"5\": {\"12\": 6, \"2\": 24, \"9\": 17, \"4\": 12, \"14\": 16, \"3\": 18, \"0\": 12, \"1\": 6, \"13\": 24, \"6\": 15, \"5\": 31, \"15\": 16, \"11\": 5, \"10\": 14, \"8\": 11, \"7\": 13}, \"14\": {\"9\": 15, \"13\": 7, \"7\": 17, \"2\": 12, \"3\": 11, \"4\": 30, \"6\": 14, \"15\": 13, \"14\": 22, \"1\": 26, \"0\": 23, \"10\": 19, \"8\": 20, \"5\": 10, \"12\": 1}, \"8\": {\"9\": 14, \"4\": 18, \"14\": 23, \"10\": 21, \"15\": 23, \"8\": 19, \"7\": 21, \"6\": 23, \"0\": 16, \"3\": 14, \"1\": 14, \"2\": 13, \"5\": 7, \"13\": 11, \"12\": 3}, \"7\": {\"13\": 5, \"2\": 18, \"12\": 3, \"6\": 12, \"1\": 22, \"3\": 33, \"15\": 18, \"0\": 18, \"9\": 14, \"8\": 22, \"10\": 16, \"5\": 9, \"4\": 19, \"7\": 22, \"14\": 8, \"11\": 1}, \"6\": {\"4\": 18, \"5\": 13, \"12\": 13, \"6\": 26, \"2\": 15, \"13\": 13, \"9\": 13, \"15\": 25, \"14\": 10, \"8\": 21, \"10\": 13, \"1\": 12, \"7\": 14, \"0\": 16, \"3\": 18}, \"11\": {\"12\": 41, \"9\": 11, \"11\": 90, \"7\": 1, \"13\": 30, \"15\": 18, \"6\": 10, \"5\": 14, \"8\": 7, \"10\": 5, \"4\": 1, \"1\": 3, \"3\": 3, \"2\": 2, \"0\": 3, \"14\": 1}, \"15\": {\"8\": 21, \"5\": 23, \"10\": 12, \"7\": 15, \"3\": 12, \"15\": 19, \"9\": 21, \"14\": 13, \"0\": 18, \"6\": 17, \"13\": 22, \"2\": 17, \"4\": 11, \"1\": 13, \"12\": 6}, \"1\": {\"1\": 25, \"10\": 28, \"2\": 20, \"13\": 11, \"4\": 26, \"6\": 10, \"9\": 6, \"14\": 17, \"15\": 9, \"3\": 15, \"0\": 25, \"8\": 17, \"12\": 3, \"7\": 20, \"5\": 8}}, \"ORACLE.run1_44\": {\"12\": {\"12\": 44, \"9\": 14, \"10\": 36, \"1\": 49, \"2\": 33, \"3\": 29, \"7\": 18, \"11\": 6, \"13\": 4, \"6\": 7}, \"7\": {\"1\": 13, \"3\": 16, \"2\": 30, \"6\": 26, \"12\": 17, \"9\": 36, \"10\": 25, \"7\": 32, \"4\": 4, \"15\": 1, \"13\": 23, \"11\": 14, \"14\": 3}, \"5\": {\"5\": 65, \"8\": 38, \"0\": 39, \"14\": 41, \"15\": 39, \"4\": 18}, \"15\": {\"5\": 35, \"0\": 41, \"4\": 26, \"14\": 38, \"8\": 47, \"15\": 46, \"1\": 2, \"3\": 2, \"2\": 1, \"7\": 1, \"11\": 1}, \"8\": {\"0\": 65, \"8\": 72, \"4\": 7, \"5\": 39, \"14\": 18, \"15\": 39}, \"2\": {\"2\": 47, \"12\": 22, \"10\": 24, \"1\": 22, \"9\": 29, \"7\": 36, \"6\": 21, \"3\": 18, \"13\": 10, \"11\": 9, \"5\": 1, \"14\": 1}, \"13\": {\"13\": 46, \"11\": 33, \"6\": 35, \"2\": 25, \"9\": 34, \"14\": 9, \"7\": 22, \"4\": 8, \"12\": 7, \"3\": 6, \"1\": 8, \"10\": 6, \"5\": 1}, \"4\": {\"13\": 10, \"2\": 2, \"9\": 23, \"14\": 39, \"4\": 61, \"0\": 20, \"5\": 29, \"6\": 2, \"11\": 7, \"8\": 8, \"7\": 4, \"15\": 18, \"1\": 6, \"3\": 9, \"12\": 2}, \"0\": {\"8\": 49, \"0\": 63, \"5\": 45, \"14\": 29, \"15\": 46, \"4\": 8}, \"6\": {\"7\": 37, \"11\": 29, \"9\": 37, \"2\": 21, \"4\": 4, \"6\": 49, \"13\": 38, \"10\": 12, \"3\": 5, \"12\": 3, \"1\": 5}, \"9\": {\"9\": 30, \"6\": 33, \"7\": 35, \"12\": 9, \"13\": 21, \"2\": 40, \"1\": 14, \"14\": 5, \"11\": 18, \"10\": 17, \"3\": 9, \"4\": 8, \"5\": 1}, \"11\": {\"11\": 56, \"13\": 51, \"6\": 36, \"9\": 24, \"3\": 3, \"2\": 22, \"14\": 4, \"10\": 11, \"7\": 22, \"12\": 4, \"1\": 4, \"4\": 2, \"15\": 1}, \"10\": {\"1\": 34, \"10\": 39, \"12\": 40, \"9\": 16, \"3\": 13, \"7\": 20, \"6\": 13, \"2\": 45, \"13\": 11, \"11\": 9}, \"14\": {\"5\": 32, \"15\": 40, \"14\": 57, \"8\": 15, \"0\": 22, \"4\": 45, \"3\": 9, \"6\": 5, \"11\": 3, \"9\": 2, \"13\": 5, \"2\": 2, \"7\": 3}, \"1\": {\"1\": 37, \"12\": 47, \"13\": 5, \"6\": 11, \"3\": 39, \"2\": 24, \"10\": 34, \"11\": 3, \"7\": 19, \"9\": 16, \"4\": 2, \"14\": 3}, \"3\": {\"1\": 51, \"11\": 3, \"9\": 17, \"3\": 51, \"13\": 6, \"2\": 28, \"7\": 16, \"10\": 24, \"12\": 27, \"4\": 5, \"14\": 6, \"6\": 4, \"15\": 2}}}, \"per_domain_accuracy\": {\"W_A_3\": {\"accuracy\": 0.96875, \"source?\": true}, \"W_A_4\": {\"accuracy\": 0.9440104166666666, \"source?\": true}, \"C_A_3\": {\"accuracy\": 0.9984375, \"source?\": true}, \"C_A_4\": {\"accuracy\": 0.9953125, \"source?\": true}, \"W_A_1\": {\"accuracy\": 0.9694010416666666, \"source?\": true}, \"C_A_5\": {\"accuracy\": 0.9921875, \"source?\": true}, \"C_A_1\": {\"accuracy\": 0.9984375, \"source?\": true}, \"W_A_2\": {\"accuracy\": 0.955078125, \"source?\": true}, \"C_A_2\": {\"accuracy\": 0.996875, \"source?\": true}, \"ORACLE.run1_14\": {\"accuracy\": 0.16744791666666667, \"source?\": false}, \"ORACLE.run1_20\": {\"accuracy\": 0.09583333333333334, \"source?\": false}, \"ORACLE.run1_38\": {\"accuracy\": 0.22604166666666667, \"source?\": false}, \"ORACLE.run1_8\": {\"accuracy\": 0.14973958333333334, \"source?\": false}, \"ORACLE.run1_50\": {\"accuracy\": 0.18567708333333333, \"source?\": false}, \"ORACLE.run1_32\": {\"accuracy\": 0.28177083333333336, \"source?\": false}, \"ORACLE.run1_26\": {\"accuracy\": 0.12786458333333334, \"source?\": false}, \"ORACLE.run1_44\": {\"accuracy\": 0.20703125, \"source?\": false}}}, \"history\": {\"epoch_indices\": [1, 2, 3, 4, 5, 6, 7, 8], \"train_label_loss\": [0.32485689359031444, 0.17225904406418266, 0.1291134170514799, 0.09988162180751925, 0.0847510999663479, 0.07000412779534805, 0.0562813990504162, 0.04759637091762721], \"source_val_label_loss\": [0.22741816937923431, 0.17039039731025696, 0.14901509881019592, 0.1284206658601761, 0.13338862359523773, 0.12974083423614502, 0.13845902681350708, 0.13395047187805176], \"target_val_label_loss\": [2.563826560974121, 2.615032911300659, 2.632263422012329, 2.561647415161133, 2.7033822536468506, 2.950860023498535, 2.7271926403045654, 2.8464343547821045], \"source_val_acc_label\": [0.9480950342465754, 0.9621147260273972, 0.9685359589041096, 0.9719606164383562, 0.9721746575342466, 0.9731378424657534, 0.9738869863013698, 0.9752782534246576], \"target_val_acc_label\": [0.155078125, 0.15787760416666666, 0.16982421875, 0.18017578125, 0.16559244791666666, 0.16399739583333334, 0.16767578125, 0.1701171875]}, \"dataset_metrics\": {\"source\": {\"train\": {\"n_unique_x\": 56700, \"n_unique_y\": 130, \"n_batch/episode\": 2079}, \"val\": {\"n_unique_x\": 12132, \"n_unique_y\": 130, \"n_batch/episode\": 292}, \"test\": {\"n_unique_x\": 12132, \"n_unique_y\": 130, \"n_batch/episode\": 292}}, \"target\": {\"train\": {\"n_unique_x\": 179200, \"n_unique_y\": 16, \"n_batch/episode\": 6720}, \"val\": {\"n_unique_x\": 38400, \"n_unique_y\": 16, \"n_batch/episode\": 960}, \"test\": {\"n_unique_x\": 38400, \"n_unique_y\": 16, \"n_batch/episode\": 960}}}}'"
      ]
     },
     "execution_count": 29,
     "metadata": {},
     "output_type": "execute_result"
    }
   ],
   "source": [
    "json.dumps(experiment)"
   ]
  }
 ],
 "metadata": {
  "celltoolbar": "Tags",
  "kernelspec": {
   "display_name": "Python 3 (ipykernel)",
   "language": "python",
   "name": "python3"
  },
  "language_info": {
   "codemirror_mode": {
    "name": "ipython",
    "version": 3
   },
   "file_extension": ".py",
   "mimetype": "text/x-python",
   "name": "python",
   "nbconvert_exporter": "python",
   "pygments_lexer": "ipython3",
   "version": "3.8.10"
  },
  "papermill": {
   "default_parameters": {},
   "duration": 546.014153,
   "end_time": "2022-03-18T06:12:28.335303",
   "environment_variables": {},
   "exception": null,
   "input_path": "/mnt/wd500GB/CSC500/csc500-main/csc500-notebooks/templates/tl_ptn_template.ipynb",
   "output_path": "trial.ipynb",
   "parameters": {
    "parameters": {
     "BEST_MODEL_PATH": "./best_model.pth",
     "NUM_LOGS_PER_EPOCH": 10,
     "criteria_for_best": "target_loss",
     "dataset_seed": 1337,
     "datasets": [
      {
       "domain_prefix": "C_A_",
       "domains": [
        1,
        2,
        3,
        4,
        5
       ],
       "episode_transforms": [],
       "labels": [
        "1-10.",
        "1-11.",
        "1-15.",
        "1-16.",
        "1-17.",
        "1-18.",
        "1-19.",
        "10-4.",
        "10-7.",
        "11-1.",
        "11-14.",
        "11-17.",
        "11-20.",
        "11-7.",
        "13-20.",
        "13-8.",
        "14-10.",
        "14-11.",
        "14-14.",
        "14-7.",
        "15-1.",
        "15-20.",
        "16-1.",
        "16-16.",
        "17-10.",
        "17-11.",
        "17-2.",
        "19-1.",
        "19-16.",
        "19-19.",
        "19-20.",
        "19-3.",
        "2-10.",
        "2-11.",
        "2-17.",
        "2-18.",
        "2-20.",
        "2-3.",
        "2-4.",
        "2-5.",
        "2-6.",
        "2-7.",
        "2-8.",
        "3-13.",
        "3-18.",
        "3-3.",
        "4-1.",
        "4-10.",
        "4-11.",
        "4-19.",
        "5-5.",
        "6-15.",
        "7-10.",
        "7-14.",
        "8-18.",
        "8-20.",
        "8-3.",
        "8-8."
       ],
       "num_examples_per_domain_per_label": 100,
       "pickle_path": "/mnt/wd500GB/CSC500/csc500-main/datasets/cores.stratified_ds.2022A.pkl",
       "source_or_target_dataset": "source",
       "x_transforms": [
        "unit_mag",
        "lowpass_+/-10MHz",
        "take_200"
       ]
      },
      {
       "domain_prefix": "W_A_",
       "domains": [
        1,
        2,
        3,
        4
       ],
       "episode_transforms": [],
       "labels": [
        "1-10",
        "1-12",
        "1-14",
        "1-16",
        "1-18",
        "1-19",
        "1-8",
        "10-11",
        "10-17",
        "10-4",
        "10-7",
        "11-1",
        "11-10",
        "11-19",
        "11-20",
        "11-4",
        "11-7",
        "12-19",
        "12-20",
        "12-7",
        "13-14",
        "13-18",
        "13-19",
        "13-20",
        "13-3",
        "13-7",
        "14-10",
        "14-11",
        "14-12",
        "14-13",
        "14-14",
        "14-19",
        "14-20",
        "14-7",
        "14-8",
        "14-9",
        "15-1",
        "15-19",
        "15-6",
        "16-1",
        "16-16",
        "16-19",
        "16-20",
        "17-10",
        "17-11",
        "18-1",
        "18-10",
        "18-11",
        "18-12",
        "18-13",
        "18-14",
        "18-15",
        "18-16",
        "18-17",
        "18-19",
        "18-2",
        "18-20",
        "18-4",
        "18-5",
        "18-7",
        "18-8",
        "18-9",
        "19-1",
        "19-10",
        "19-11",
        "19-12",
        "19-13",
        "19-14",
        "19-15",
        "19-19",
        "19-2",
        "19-20",
        "19-3",
        "19-4",
        "19-6",
        "19-7",
        "19-8",
        "19-9",
        "2-1",
        "2-13",
        "2-15",
        "2-3",
        "2-4",
        "2-5",
        "2-6",
        "2-7",
        "2-8",
        "20-1",
        "20-12",
        "20-14",
        "20-15",
        "20-16",
        "20-18",
        "20-19",
        "20-20",
        "20-3",
        "20-4",
        "20-5",
        "20-7",
        "20-8",
        "3-1",
        "3-13",
        "3-18",
        "3-2",
        "3-8",
        "4-1",
        "4-10",
        "4-11",
        "5-1",
        "5-5",
        "6-1",
        "6-15",
        "6-6",
        "7-10",
        "7-11",
        "7-12",
        "7-13",
        "7-14",
        "7-7",
        "7-8",
        "7-9",
        "8-1",
        "8-13",
        "8-14",
        "8-18",
        "8-20",
        "8-3",
        "8-8",
        "9-1",
        "9-7"
       ],
       "num_examples_per_domain_per_label": 100,
       "pickle_path": "/mnt/wd500GB/CSC500/csc500-main/datasets/wisig.node3-19.stratified_ds.2022A.pkl",
       "source_or_target_dataset": "source",
       "x_transforms": [
        "unit_mag",
        "lowpass_+/-10MHz",
        "take_200"
       ]
      },
      {
       "domain_prefix": "ORACLE.run1_",
       "domains": [
        32,
        38,
        8,
        44,
        14,
        50,
        20,
        26
       ],
       "episode_transforms": [],
       "labels": [
        "3123D52",
        "3123D65",
        "3123D79",
        "3123D80",
        "3123D54",
        "3123D70",
        "3123D7B",
        "3123D89",
        "3123D58",
        "3123D76",
        "3123D7D",
        "3123EFE",
        "3123D64",
        "3123D78",
        "3123D7E",
        "3124E4A"
       ],
       "num_examples_per_domain_per_label": 2000,
       "pickle_path": "/mnt/wd500GB/CSC500/csc500-main/datasets/oracle.Run1_framed_2000Examples_stratified_ds.2022A.pkl",
       "source_or_target_dataset": "target",
       "x_transforms": [
        "unit_mag",
        "take_200",
        "resample_20Msps_to_25Msps"
       ]
      }
     ],
     "device": "cuda",
     "experiment_name": "tl_3-filter:cores+wisig -> oracle.run1.framed",
     "lr": 0.001,
     "n_epoch": 50,
     "n_query": 2,
     "n_shot": 3,
     "n_way": 16,
     "patience": 3,
     "seed": 1337,
     "test_k_factor": 2,
     "torch_default_dtype": "torch.float32",
     "train_k_factor": 3,
     "val_k_factor": 2,
     "x_net": [
      {
       "class": "nnReshape",
       "kargs": {
        "shape": [
         -1,
         1,
         2,
         200
        ]
       }
      },
      {
       "class": "Conv2d",
       "kargs": {
        "bias": false,
        "in_channels": 1,
        "kernel_size": [
         1,
         7
        ],
        "out_channels": 256,
        "padding": [
         0,
         3
        ]
       }
      },
      {
       "class": "ReLU",
       "kargs": {
        "inplace": true
       }
      },
      {
       "class": "BatchNorm2d",
       "kargs": {
        "num_features": 256
       }
      },
      {
       "class": "Conv2d",
       "kargs": {
        "bias": true,
        "in_channels": 256,
        "kernel_size": [
         2,
         7
        ],
        "out_channels": 80,
        "padding": [
         0,
         3
        ]
       }
      },
      {
       "class": "ReLU",
       "kargs": {
        "inplace": true
       }
      },
      {
       "class": "BatchNorm2d",
       "kargs": {
        "num_features": 80
       }
      },
      {
       "class": "Flatten",
       "kargs": {}
      },
      {
       "class": "Linear",
       "kargs": {
        "in_features": 16000,
        "out_features": 256
       }
      },
      {
       "class": "ReLU",
       "kargs": {
        "inplace": true
       }
      },
      {
       "class": "BatchNorm1d",
       "kargs": {
        "num_features": 256
       }
      },
      {
       "class": "Linear",
       "kargs": {
        "in_features": 256,
        "out_features": 256
       }
      }
     ],
     "x_shape": [
      2,
      200
     ]
    }
   },
   "start_time": "2022-03-18T06:03:22.321150",
   "version": "2.3.4"
  }
 },
 "nbformat": 4,
 "nbformat_minor": 5
}