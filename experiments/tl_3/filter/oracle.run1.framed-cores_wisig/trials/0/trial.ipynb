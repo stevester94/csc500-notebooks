{
 "cells": [
  {
   "cell_type": "markdown",
   "id": "9fea5f46",
   "metadata": {
    "papermill": {
     "duration": 0.020753,
     "end_time": "2022-03-18T01:51:04.857300",
     "exception": false,
     "start_time": "2022-03-18T01:51:04.836547",
     "status": "completed"
    },
    "tags": []
   },
   "source": [
    "# Transfer Learning Template"
   ]
  },
  {
   "cell_type": "code",
   "execution_count": 1,
   "id": "0902182a",
   "metadata": {
    "execution": {
     "iopub.execute_input": "2022-03-18T01:51:04.900309Z",
     "iopub.status.busy": "2022-03-18T01:51:04.899888Z",
     "iopub.status.idle": "2022-03-18T01:51:05.870876Z",
     "shell.execute_reply": "2022-03-18T01:51:05.871268Z"
    },
    "papermill": {
     "duration": 0.999932,
     "end_time": "2022-03-18T01:51:05.871464",
     "exception": false,
     "start_time": "2022-03-18T01:51:04.871532",
     "status": "completed"
    },
    "tags": []
   },
   "outputs": [],
   "source": [
    "%load_ext autoreload\n",
    "%autoreload 2\n",
    "%matplotlib inline\n",
    "\n",
    "    \n",
    "import os, json, sys, time, random\n",
    "import numpy as np\n",
    "import torch\n",
    "from torch.optim import Adam\n",
    "from  easydict import EasyDict\n",
    "import matplotlib.pyplot as plt\n",
    "\n",
    "from steves_models.steves_ptn import Steves_Prototypical_Network\n",
    "\n",
    "from steves_utils.lazy_iterable_wrapper import Lazy_Iterable_Wrapper\n",
    "from steves_utils.iterable_aggregator import Iterable_Aggregator\n",
    "from steves_utils.ptn_train_eval_test_jig import  PTN_Train_Eval_Test_Jig\n",
    "from steves_utils.torch_sequential_builder import build_sequential\n",
    "from steves_utils.torch_utils import get_dataset_metrics, ptn_confusion_by_domain_over_dataloader\n",
    "from steves_utils.utils_v2 import (per_domain_accuracy_from_confusion, get_datasets_base_path)\n",
    "from steves_utils.PTN.utils import independent_accuracy_assesment\n",
    "\n",
    "from torch.utils.data import DataLoader\n",
    "\n",
    "from steves_utils.stratified_dataset.episodic_accessor import Episodic_Accessor_Factory\n",
    "\n",
    "from steves_utils.ptn_do_report import (\n",
    "    get_loss_curve,\n",
    "    get_results_table,\n",
    "    get_parameters_table,\n",
    "    get_domain_accuracies,\n",
    ")\n",
    "\n",
    "from steves_utils.transforms import get_chained_transform"
   ]
  },
  {
   "cell_type": "markdown",
   "id": "41c840b4",
   "metadata": {
    "papermill": {
     "duration": 0.012943,
     "end_time": "2022-03-18T01:51:05.901637",
     "exception": false,
     "start_time": "2022-03-18T01:51:05.888694",
     "status": "completed"
    },
    "tags": []
   },
   "source": [
    "# Allowed Parameters\n",
    "These are allowed parameters, not defaults\n",
    "Each of these values need to be present in the injected parameters (the notebook will raise an exception if they are not present)\n",
    "\n",
    "Papermill uses the cell tag \"parameters\" to inject the real parameters below this cell.\n",
    "Enable tags to see what I mean"
   ]
  },
  {
   "cell_type": "code",
   "execution_count": 2,
   "id": "fd44eb83",
   "metadata": {
    "execution": {
     "iopub.execute_input": "2022-03-18T01:51:05.931823Z",
     "iopub.status.busy": "2022-03-18T01:51:05.931377Z",
     "iopub.status.idle": "2022-03-18T01:51:05.946693Z",
     "shell.execute_reply": "2022-03-18T01:51:05.947104Z"
    },
    "papermill": {
     "duration": 0.032394,
     "end_time": "2022-03-18T01:51:05.947259",
     "exception": false,
     "start_time": "2022-03-18T01:51:05.914865",
     "status": "completed"
    },
    "tags": []
   },
   "outputs": [],
   "source": [
    "required_parameters = {\n",
    "    \"experiment_name\",\n",
    "    \"lr\",\n",
    "    \"device\",\n",
    "    \"seed\",\n",
    "    \"dataset_seed\",\n",
    "    \"n_shot\",\n",
    "    \"n_query\",\n",
    "    \"n_way\",\n",
    "    \"train_k_factor\",\n",
    "    \"val_k_factor\",\n",
    "    \"test_k_factor\",\n",
    "    \"n_epoch\",\n",
    "    \"patience\",\n",
    "    \"criteria_for_best\",\n",
    "    \"x_net\",\n",
    "    \"datasets\",\n",
    "    \"torch_default_dtype\",\n",
    "    \"NUM_LOGS_PER_EPOCH\",\n",
    "    \"BEST_MODEL_PATH\",\n",
    "    \"x_shape\",\n",
    "}"
   ]
  },
  {
   "cell_type": "code",
   "execution_count": 3,
   "id": "fa3f0049",
   "metadata": {
    "execution": {
     "iopub.execute_input": "2022-03-18T01:51:05.985042Z",
     "iopub.status.busy": "2022-03-18T01:51:05.980225Z",
     "iopub.status.idle": "2022-03-18T01:51:05.998434Z",
     "shell.execute_reply": "2022-03-18T01:51:05.998029Z"
    },
    "papermill": {
     "duration": 0.033278,
     "end_time": "2022-03-18T01:51:05.998527",
     "exception": false,
     "start_time": "2022-03-18T01:51:05.965249",
     "status": "completed"
    },
    "tags": [
     "parameters"
    ]
   },
   "outputs": [],
   "source": [
    "from steves_utils.CORES.utils import (\n",
    "    ALL_NODES,\n",
    "    ALL_NODES_MINIMUM_1000_EXAMPLES,\n",
    "    ALL_DAYS\n",
    ")\n",
    "\n",
    "from steves_utils.ORACLE.utils_v2 import (\n",
    "    ALL_DISTANCES_FEET_NARROWED,\n",
    "    ALL_RUNS,\n",
    "    ALL_SERIAL_NUMBERS,\n",
    ")\n",
    "\n",
    "standalone_parameters = {}\n",
    "standalone_parameters[\"experiment_name\"] = \"STANDALONE PTN\"\n",
    "standalone_parameters[\"lr\"] = 0.001\n",
    "standalone_parameters[\"device\"] = \"cuda\"\n",
    "\n",
    "standalone_parameters[\"seed\"] = 1337\n",
    "standalone_parameters[\"dataset_seed\"] = 1337\n",
    "\n",
    "standalone_parameters[\"n_way\"] = 8\n",
    "standalone_parameters[\"n_shot\"] = 3\n",
    "standalone_parameters[\"n_query\"]  = 2\n",
    "standalone_parameters[\"train_k_factor\"] = 1\n",
    "standalone_parameters[\"val_k_factor\"] = 2\n",
    "standalone_parameters[\"test_k_factor\"] = 2\n",
    "\n",
    "\n",
    "standalone_parameters[\"n_epoch\"] = 50\n",
    "\n",
    "standalone_parameters[\"patience\"] = 10\n",
    "standalone_parameters[\"criteria_for_best\"] = \"source_loss\"\n",
    "\n",
    "standalone_parameters[\"datasets\"] = [\n",
    "    {\n",
    "        \"labels\": ALL_SERIAL_NUMBERS,\n",
    "        \"domains\": ALL_DISTANCES_FEET_NARROWED,\n",
    "        \"num_examples_per_domain_per_label\": 100,\n",
    "        \"pickle_path\": os.path.join(get_datasets_base_path(), \"oracle.Run1_framed_2000Examples_stratified_ds.2022A.pkl\"),\n",
    "        \"source_or_target_dataset\": \"source\",\n",
    "        \"x_transforms\": [\"unit_mag\", \"minus_two\"],\n",
    "        \"episode_transforms\": [],\n",
    "        \"domain_prefix\": \"ORACLE_\"\n",
    "    },\n",
    "    {\n",
    "        \"labels\": ALL_NODES,\n",
    "        \"domains\": ALL_DAYS,\n",
    "        \"num_examples_per_domain_per_label\": 100,\n",
    "        \"pickle_path\": os.path.join(get_datasets_base_path(), \"cores.stratified_ds.2022A.pkl\"),\n",
    "        \"source_or_target_dataset\": \"target\",\n",
    "        \"x_transforms\": [\"unit_power\", \"times_zero\"],\n",
    "        \"episode_transforms\": [],\n",
    "        \"domain_prefix\": \"CORES_\"\n",
    "    }   \n",
    "]\n",
    "\n",
    "standalone_parameters[\"torch_default_dtype\"] = \"torch.float32\" \n",
    "\n",
    "\n",
    "\n",
    "standalone_parameters[\"x_net\"] =     [\n",
    "    {\"class\": \"nnReshape\", \"kargs\": {\"shape\":[-1, 1, 2, 256]}},\n",
    "    {\"class\": \"Conv2d\", \"kargs\": { \"in_channels\":1, \"out_channels\":256, \"kernel_size\":(1,7), \"bias\":False, \"padding\":(0,3), },},\n",
    "    {\"class\": \"ReLU\", \"kargs\": {\"inplace\": True}},\n",
    "    {\"class\": \"BatchNorm2d\", \"kargs\": {\"num_features\":256}},\n",
    "\n",
    "    {\"class\": \"Conv2d\", \"kargs\": { \"in_channels\":256, \"out_channels\":80, \"kernel_size\":(2,7), \"bias\":True, \"padding\":(0,3), },},\n",
    "    {\"class\": \"ReLU\", \"kargs\": {\"inplace\": True}},\n",
    "    {\"class\": \"BatchNorm2d\", \"kargs\": {\"num_features\":80}},\n",
    "    {\"class\": \"Flatten\", \"kargs\": {}},\n",
    "\n",
    "    {\"class\": \"Linear\", \"kargs\": {\"in_features\": 80*256, \"out_features\": 256}}, # 80 units per IQ pair\n",
    "    {\"class\": \"ReLU\", \"kargs\": {\"inplace\": True}},\n",
    "    {\"class\": \"BatchNorm1d\", \"kargs\": {\"num_features\":256}},\n",
    "\n",
    "    {\"class\": \"Linear\", \"kargs\": {\"in_features\": 256, \"out_features\": 256}},\n",
    "]\n",
    "\n",
    "# Parameters relevant to results\n",
    "# These parameters will basically never need to change\n",
    "standalone_parameters[\"NUM_LOGS_PER_EPOCH\"] = 10\n",
    "standalone_parameters[\"BEST_MODEL_PATH\"] = \"./best_model.pth\"\n",
    "\n",
    "\n",
    "\n",
    "\n"
   ]
  },
  {
   "cell_type": "code",
   "execution_count": 4,
   "id": "9ff5c533",
   "metadata": {
    "execution": {
     "iopub.execute_input": "2022-03-18T01:51:06.041854Z",
     "iopub.status.busy": "2022-03-18T01:51:06.041077Z",
     "iopub.status.idle": "2022-03-18T01:51:06.057804Z",
     "shell.execute_reply": "2022-03-18T01:51:06.057557Z"
    },
    "papermill": {
     "duration": 0.043704,
     "end_time": "2022-03-18T01:51:06.057868",
     "exception": false,
     "start_time": "2022-03-18T01:51:06.014164",
     "status": "completed"
    },
    "tags": [
     "injected-parameters"
    ]
   },
   "outputs": [],
   "source": [
    "# Parameters\n",
    "parameters = {\n",
    "    \"experiment_name\": \"tl_3-filter:oracle.run1.framed -> cores+wisig\",\n",
    "    \"device\": \"cuda\",\n",
    "    \"lr\": 0.001,\n",
    "    \"seed\": 1337,\n",
    "    \"dataset_seed\": 1337,\n",
    "    \"x_shape\": [2, 200],\n",
    "    \"n_shot\": 3,\n",
    "    \"n_query\": 2,\n",
    "    \"train_k_factor\": 3,\n",
    "    \"val_k_factor\": 2,\n",
    "    \"test_k_factor\": 2,\n",
    "    \"torch_default_dtype\": \"torch.float32\",\n",
    "    \"n_epoch\": 50,\n",
    "    \"patience\": 3,\n",
    "    \"criteria_for_best\": \"target_loss\",\n",
    "    \"x_net\": [\n",
    "        {\"class\": \"nnReshape\", \"kargs\": {\"shape\": [-1, 1, 2, 200]}},\n",
    "        {\n",
    "            \"class\": \"Conv2d\",\n",
    "            \"kargs\": {\n",
    "                \"in_channels\": 1,\n",
    "                \"out_channels\": 256,\n",
    "                \"kernel_size\": [1, 7],\n",
    "                \"bias\": False,\n",
    "                \"padding\": [0, 3],\n",
    "            },\n",
    "        },\n",
    "        {\"class\": \"ReLU\", \"kargs\": {\"inplace\": True}},\n",
    "        {\"class\": \"BatchNorm2d\", \"kargs\": {\"num_features\": 256}},\n",
    "        {\n",
    "            \"class\": \"Conv2d\",\n",
    "            \"kargs\": {\n",
    "                \"in_channels\": 256,\n",
    "                \"out_channels\": 80,\n",
    "                \"kernel_size\": [2, 7],\n",
    "                \"bias\": True,\n",
    "                \"padding\": [0, 3],\n",
    "            },\n",
    "        },\n",
    "        {\"class\": \"ReLU\", \"kargs\": {\"inplace\": True}},\n",
    "        {\"class\": \"BatchNorm2d\", \"kargs\": {\"num_features\": 80}},\n",
    "        {\"class\": \"Flatten\", \"kargs\": {}},\n",
    "        {\"class\": \"Linear\", \"kargs\": {\"in_features\": 16000, \"out_features\": 256}},\n",
    "        {\"class\": \"ReLU\", \"kargs\": {\"inplace\": True}},\n",
    "        {\"class\": \"BatchNorm1d\", \"kargs\": {\"num_features\": 256}},\n",
    "        {\"class\": \"Linear\", \"kargs\": {\"in_features\": 256, \"out_features\": 256}},\n",
    "    ],\n",
    "    \"NUM_LOGS_PER_EPOCH\": 10,\n",
    "    \"BEST_MODEL_PATH\": \"./best_model.pth\",\n",
    "    \"n_way\": 16,\n",
    "    \"datasets\": [\n",
    "        {\n",
    "            \"labels\": [\n",
    "                \"1-10.\",\n",
    "                \"1-11.\",\n",
    "                \"1-15.\",\n",
    "                \"1-16.\",\n",
    "                \"1-17.\",\n",
    "                \"1-18.\",\n",
    "                \"1-19.\",\n",
    "                \"10-4.\",\n",
    "                \"10-7.\",\n",
    "                \"11-1.\",\n",
    "                \"11-14.\",\n",
    "                \"11-17.\",\n",
    "                \"11-20.\",\n",
    "                \"11-7.\",\n",
    "                \"13-20.\",\n",
    "                \"13-8.\",\n",
    "                \"14-10.\",\n",
    "                \"14-11.\",\n",
    "                \"14-14.\",\n",
    "                \"14-7.\",\n",
    "                \"15-1.\",\n",
    "                \"15-20.\",\n",
    "                \"16-1.\",\n",
    "                \"16-16.\",\n",
    "                \"17-10.\",\n",
    "                \"17-11.\",\n",
    "                \"17-2.\",\n",
    "                \"19-1.\",\n",
    "                \"19-16.\",\n",
    "                \"19-19.\",\n",
    "                \"19-20.\",\n",
    "                \"19-3.\",\n",
    "                \"2-10.\",\n",
    "                \"2-11.\",\n",
    "                \"2-17.\",\n",
    "                \"2-18.\",\n",
    "                \"2-20.\",\n",
    "                \"2-3.\",\n",
    "                \"2-4.\",\n",
    "                \"2-5.\",\n",
    "                \"2-6.\",\n",
    "                \"2-7.\",\n",
    "                \"2-8.\",\n",
    "                \"3-13.\",\n",
    "                \"3-18.\",\n",
    "                \"3-3.\",\n",
    "                \"4-1.\",\n",
    "                \"4-10.\",\n",
    "                \"4-11.\",\n",
    "                \"4-19.\",\n",
    "                \"5-5.\",\n",
    "                \"6-15.\",\n",
    "                \"7-10.\",\n",
    "                \"7-14.\",\n",
    "                \"8-18.\",\n",
    "                \"8-20.\",\n",
    "                \"8-3.\",\n",
    "                \"8-8.\",\n",
    "            ],\n",
    "            \"domains\": [1, 2, 3, 4, 5],\n",
    "            \"num_examples_per_domain_per_label\": 100,\n",
    "            \"pickle_path\": \"/mnt/wd500GB/CSC500/csc500-main/datasets/cores.stratified_ds.2022A.pkl\",\n",
    "            \"source_or_target_dataset\": \"target\",\n",
    "            \"x_transforms\": [\"unit_power\", \"lowpass_+/-10MHz\", \"take_200\"],\n",
    "            \"episode_transforms\": [],\n",
    "            \"domain_prefix\": \"C_A_\",\n",
    "        },\n",
    "        {\n",
    "            \"labels\": [\n",
    "                \"1-10\",\n",
    "                \"1-12\",\n",
    "                \"1-14\",\n",
    "                \"1-16\",\n",
    "                \"1-18\",\n",
    "                \"1-19\",\n",
    "                \"1-8\",\n",
    "                \"10-11\",\n",
    "                \"10-17\",\n",
    "                \"10-4\",\n",
    "                \"10-7\",\n",
    "                \"11-1\",\n",
    "                \"11-10\",\n",
    "                \"11-19\",\n",
    "                \"11-20\",\n",
    "                \"11-4\",\n",
    "                \"11-7\",\n",
    "                \"12-19\",\n",
    "                \"12-20\",\n",
    "                \"12-7\",\n",
    "                \"13-14\",\n",
    "                \"13-18\",\n",
    "                \"13-19\",\n",
    "                \"13-20\",\n",
    "                \"13-3\",\n",
    "                \"13-7\",\n",
    "                \"14-10\",\n",
    "                \"14-11\",\n",
    "                \"14-12\",\n",
    "                \"14-13\",\n",
    "                \"14-14\",\n",
    "                \"14-19\",\n",
    "                \"14-20\",\n",
    "                \"14-7\",\n",
    "                \"14-8\",\n",
    "                \"14-9\",\n",
    "                \"15-1\",\n",
    "                \"15-19\",\n",
    "                \"15-6\",\n",
    "                \"16-1\",\n",
    "                \"16-16\",\n",
    "                \"16-19\",\n",
    "                \"16-20\",\n",
    "                \"17-10\",\n",
    "                \"17-11\",\n",
    "                \"18-1\",\n",
    "                \"18-10\",\n",
    "                \"18-11\",\n",
    "                \"18-12\",\n",
    "                \"18-13\",\n",
    "                \"18-14\",\n",
    "                \"18-15\",\n",
    "                \"18-16\",\n",
    "                \"18-17\",\n",
    "                \"18-19\",\n",
    "                \"18-2\",\n",
    "                \"18-20\",\n",
    "                \"18-4\",\n",
    "                \"18-5\",\n",
    "                \"18-7\",\n",
    "                \"18-8\",\n",
    "                \"18-9\",\n",
    "                \"19-1\",\n",
    "                \"19-10\",\n",
    "                \"19-11\",\n",
    "                \"19-12\",\n",
    "                \"19-13\",\n",
    "                \"19-14\",\n",
    "                \"19-15\",\n",
    "                \"19-19\",\n",
    "                \"19-2\",\n",
    "                \"19-20\",\n",
    "                \"19-3\",\n",
    "                \"19-4\",\n",
    "                \"19-6\",\n",
    "                \"19-7\",\n",
    "                \"19-8\",\n",
    "                \"19-9\",\n",
    "                \"2-1\",\n",
    "                \"2-13\",\n",
    "                \"2-15\",\n",
    "                \"2-3\",\n",
    "                \"2-4\",\n",
    "                \"2-5\",\n",
    "                \"2-6\",\n",
    "                \"2-7\",\n",
    "                \"2-8\",\n",
    "                \"20-1\",\n",
    "                \"20-12\",\n",
    "                \"20-14\",\n",
    "                \"20-15\",\n",
    "                \"20-16\",\n",
    "                \"20-18\",\n",
    "                \"20-19\",\n",
    "                \"20-20\",\n",
    "                \"20-3\",\n",
    "                \"20-4\",\n",
    "                \"20-5\",\n",
    "                \"20-7\",\n",
    "                \"20-8\",\n",
    "                \"3-1\",\n",
    "                \"3-13\",\n",
    "                \"3-18\",\n",
    "                \"3-2\",\n",
    "                \"3-8\",\n",
    "                \"4-1\",\n",
    "                \"4-10\",\n",
    "                \"4-11\",\n",
    "                \"5-1\",\n",
    "                \"5-5\",\n",
    "                \"6-1\",\n",
    "                \"6-15\",\n",
    "                \"6-6\",\n",
    "                \"7-10\",\n",
    "                \"7-11\",\n",
    "                \"7-12\",\n",
    "                \"7-13\",\n",
    "                \"7-14\",\n",
    "                \"7-7\",\n",
    "                \"7-8\",\n",
    "                \"7-9\",\n",
    "                \"8-1\",\n",
    "                \"8-13\",\n",
    "                \"8-14\",\n",
    "                \"8-18\",\n",
    "                \"8-20\",\n",
    "                \"8-3\",\n",
    "                \"8-8\",\n",
    "                \"9-1\",\n",
    "                \"9-7\",\n",
    "            ],\n",
    "            \"domains\": [1, 2, 3, 4],\n",
    "            \"num_examples_per_domain_per_label\": 100,\n",
    "            \"pickle_path\": \"/mnt/wd500GB/CSC500/csc500-main/datasets/wisig.node3-19.stratified_ds.2022A.pkl\",\n",
    "            \"source_or_target_dataset\": \"target\",\n",
    "            \"x_transforms\": [\"unit_power\", \"lowpass_+/-10MHz\", \"take_200\"],\n",
    "            \"episode_transforms\": [],\n",
    "            \"domain_prefix\": \"W_A_\",\n",
    "        },\n",
    "        {\n",
    "            \"labels\": [\n",
    "                \"3123D52\",\n",
    "                \"3123D65\",\n",
    "                \"3123D79\",\n",
    "                \"3123D80\",\n",
    "                \"3123D54\",\n",
    "                \"3123D70\",\n",
    "                \"3123D7B\",\n",
    "                \"3123D89\",\n",
    "                \"3123D58\",\n",
    "                \"3123D76\",\n",
    "                \"3123D7D\",\n",
    "                \"3123EFE\",\n",
    "                \"3123D64\",\n",
    "                \"3123D78\",\n",
    "                \"3123D7E\",\n",
    "                \"3124E4A\",\n",
    "            ],\n",
    "            \"domains\": [32, 38, 8, 44, 14, 50, 20, 26],\n",
    "            \"num_examples_per_domain_per_label\": 2000,\n",
    "            \"pickle_path\": \"/mnt/wd500GB/CSC500/csc500-main/datasets/oracle.Run1_framed_2000Examples_stratified_ds.2022A.pkl\",\n",
    "            \"source_or_target_dataset\": \"source\",\n",
    "            \"x_transforms\": [\"unit_power\", \"take_200\", \"resample_20Msps_to_25Msps\"],\n",
    "            \"episode_transforms\": [],\n",
    "            \"domain_prefix\": \"ORACLE.run1_\",\n",
    "        },\n",
    "    ],\n",
    "}\n"
   ]
  },
  {
   "cell_type": "code",
   "execution_count": 5,
   "id": "8fa1cc33",
   "metadata": {
    "execution": {
     "iopub.execute_input": "2022-03-18T01:51:06.089802Z",
     "iopub.status.busy": "2022-03-18T01:51:06.089388Z",
     "iopub.status.idle": "2022-03-18T01:51:06.101474Z",
     "shell.execute_reply": "2022-03-18T01:51:06.101232Z"
    },
    "papermill": {
     "duration": 0.027756,
     "end_time": "2022-03-18T01:51:06.101537",
     "exception": false,
     "start_time": "2022-03-18T01:51:06.073781",
     "status": "completed"
    },
    "tags": []
   },
   "outputs": [],
   "source": [
    "# Set this to True if you want to run this template directly\n",
    "STANDALONE = False\n",
    "if STANDALONE:\n",
    "    print(\"parameters not injected, running with standalone_parameters\")\n",
    "    parameters = standalone_parameters\n",
    "\n",
    "if not 'parameters' in locals() and not 'parameters' in globals():\n",
    "    raise Exception(\"Parameter injection failed\")\n",
    "\n",
    "#Use an easy dict for all the parameters\n",
    "p = EasyDict(parameters)\n",
    "\n",
    "if \"x_shape\" not in p:\n",
    "    p.x_shape = [2,256] # Default to this if we dont supply x_shape\n",
    "\n",
    "\n",
    "supplied_keys = set(p.keys())\n",
    "\n",
    "if  supplied_keys != required_parameters:\n",
    "    print(\"Parameters are incorrect\")\n",
    "    if len(supplied_keys - required_parameters)>0: print(\"Shouldn't have:\", str(supplied_keys - required_parameters))\n",
    "    if len(required_parameters - supplied_keys)>0: print(\"Need to have:\", str(required_parameters - supplied_keys))\n",
    "    raise RuntimeError(\"Parameters are incorrect\")"
   ]
  },
  {
   "cell_type": "code",
   "execution_count": 6,
   "id": "3a028d58",
   "metadata": {
    "execution": {
     "iopub.execute_input": "2022-03-18T01:51:06.132734Z",
     "iopub.status.busy": "2022-03-18T01:51:06.132460Z",
     "iopub.status.idle": "2022-03-18T01:51:06.147878Z",
     "shell.execute_reply": "2022-03-18T01:51:06.147495Z"
    },
    "papermill": {
     "duration": 0.031642,
     "end_time": "2022-03-18T01:51:06.147962",
     "exception": false,
     "start_time": "2022-03-18T01:51:06.116320",
     "status": "completed"
    },
    "tags": []
   },
   "outputs": [],
   "source": [
    "###################################\n",
    "# Set the RNGs and make it all deterministic\n",
    "###################################\n",
    "np.random.seed(p.seed)\n",
    "random.seed(p.seed)\n",
    "torch.manual_seed(p.seed)\n",
    "\n",
    "torch.use_deterministic_algorithms(True) "
   ]
  },
  {
   "cell_type": "code",
   "execution_count": 7,
   "id": "b691acf6",
   "metadata": {
    "execution": {
     "iopub.execute_input": "2022-03-18T01:51:06.177587Z",
     "iopub.status.busy": "2022-03-18T01:51:06.177325Z",
     "iopub.status.idle": "2022-03-18T01:51:06.188992Z",
     "shell.execute_reply": "2022-03-18T01:51:06.188603Z"
    },
    "papermill": {
     "duration": 0.026723,
     "end_time": "2022-03-18T01:51:06.189074",
     "exception": false,
     "start_time": "2022-03-18T01:51:06.162351",
     "status": "completed"
    },
    "tags": []
   },
   "outputs": [],
   "source": [
    "###########################################\n",
    "# The stratified datasets honor this\n",
    "###########################################\n",
    "torch.set_default_dtype(eval(p.torch_default_dtype))"
   ]
  },
  {
   "cell_type": "code",
   "execution_count": 8,
   "id": "b5fba671",
   "metadata": {
    "execution": {
     "iopub.execute_input": "2022-03-18T01:51:06.223186Z",
     "iopub.status.busy": "2022-03-18T01:51:06.222678Z",
     "iopub.status.idle": "2022-03-18T01:51:06.261039Z",
     "shell.execute_reply": "2022-03-18T01:51:06.260554Z"
    },
    "papermill": {
     "duration": 0.055023,
     "end_time": "2022-03-18T01:51:06.261162",
     "exception": false,
     "start_time": "2022-03-18T01:51:06.206139",
     "status": "completed"
    },
    "tags": []
   },
   "outputs": [],
   "source": [
    "###################################\n",
    "# Build the network(s)\n",
    "# Note: It's critical to do this AFTER setting the RNG\n",
    "###################################\n",
    "x_net = build_sequential(p.x_net)"
   ]
  },
  {
   "cell_type": "code",
   "execution_count": 9,
   "id": "5d7e61cc",
   "metadata": {
    "execution": {
     "iopub.execute_input": "2022-03-18T01:51:06.294744Z",
     "iopub.status.busy": "2022-03-18T01:51:06.294051Z",
     "iopub.status.idle": "2022-03-18T01:51:06.310115Z",
     "shell.execute_reply": "2022-03-18T01:51:06.310438Z"
    },
    "papermill": {
     "duration": 0.031796,
     "end_time": "2022-03-18T01:51:06.310547",
     "exception": false,
     "start_time": "2022-03-18T01:51:06.278751",
     "status": "completed"
    },
    "tags": []
   },
   "outputs": [],
   "source": [
    "start_time_secs = time.time()"
   ]
  },
  {
   "cell_type": "code",
   "execution_count": 10,
   "id": "c6b67dfd",
   "metadata": {
    "execution": {
     "iopub.execute_input": "2022-03-18T01:51:06.344412Z",
     "iopub.status.busy": "2022-03-18T01:51:06.344153Z",
     "iopub.status.idle": "2022-03-18T01:51:06.359435Z",
     "shell.execute_reply": "2022-03-18T01:51:06.358980Z"
    },
    "papermill": {
     "duration": 0.031074,
     "end_time": "2022-03-18T01:51:06.359539",
     "exception": false,
     "start_time": "2022-03-18T01:51:06.328465",
     "status": "completed"
    },
    "tags": []
   },
   "outputs": [],
   "source": [
    "p.domains_source = []\n",
    "p.domains_target = []\n",
    "\n",
    "\n",
    "train_original_source = []\n",
    "val_original_source   = []\n",
    "test_original_source  = []\n",
    "\n",
    "train_original_target = []\n",
    "val_original_target   = []\n",
    "test_original_target  = []"
   ]
  },
  {
   "cell_type": "code",
   "execution_count": 11,
   "id": "e3d9c3d3",
   "metadata": {
    "execution": {
     "iopub.execute_input": "2022-03-18T01:51:06.393086Z",
     "iopub.status.busy": "2022-03-18T01:51:06.392316Z",
     "iopub.status.idle": "2022-03-18T01:51:06.408961Z",
     "shell.execute_reply": "2022-03-18T01:51:06.408478Z"
    },
    "papermill": {
     "duration": 0.031579,
     "end_time": "2022-03-18T01:51:06.409064",
     "exception": false,
     "start_time": "2022-03-18T01:51:06.377485",
     "status": "completed"
    },
    "tags": []
   },
   "outputs": [],
   "source": [
    "# global_x_transform_func = lambda x: normalize(x.to(torch.get_default_dtype()), \"unit_power\") # unit_power, unit_mag\n",
    "# global_x_transform_func = lambda x: normalize(x, \"unit_power\") # unit_power, unit_mag"
   ]
  },
  {
   "cell_type": "code",
   "execution_count": 12,
   "id": "acb78fd2",
   "metadata": {
    "execution": {
     "iopub.execute_input": "2022-03-18T01:51:06.453651Z",
     "iopub.status.busy": "2022-03-18T01:51:06.453260Z",
     "iopub.status.idle": "2022-03-18T01:51:06.463675Z",
     "shell.execute_reply": "2022-03-18T01:51:06.463219Z"
    },
    "papermill": {
     "duration": 0.035787,
     "end_time": "2022-03-18T01:51:06.463781",
     "exception": false,
     "start_time": "2022-03-18T01:51:06.427994",
     "status": "completed"
    },
    "tags": []
   },
   "outputs": [],
   "source": [
    "def add_dataset(\n",
    "    labels,\n",
    "    domains,\n",
    "    pickle_path,\n",
    "    x_transforms,\n",
    "    episode_transforms,\n",
    "    domain_prefix,\n",
    "    num_examples_per_domain_per_label,\n",
    "    source_or_target_dataset:str,\n",
    "    iterator_seed=p.seed,\n",
    "    dataset_seed=p.dataset_seed,\n",
    "    n_shot=p.n_shot,\n",
    "    n_way=p.n_way,\n",
    "    n_query=p.n_query,\n",
    "    train_val_test_k_factors=(p.train_k_factor,p.val_k_factor,p.test_k_factor),\n",
    "):\n",
    "   \n",
    "    if x_transforms == []: x_transform = None\n",
    "    else: x_transform = get_chained_transform(x_transforms)\n",
    "    \n",
    "    if episode_transforms == []: episode_transform = None\n",
    "    else: raise Exception(\"episode_transforms not implemented\")\n",
    "    \n",
    "    episode_transform = lambda tup, _prefix=domain_prefix: (_prefix + str(tup[0]), tup[1])\n",
    "\n",
    "\n",
    "    eaf = Episodic_Accessor_Factory(\n",
    "        labels=labels,\n",
    "        domains=domains,\n",
    "        num_examples_per_domain_per_label=num_examples_per_domain_per_label,\n",
    "        iterator_seed=iterator_seed,\n",
    "        dataset_seed=dataset_seed,\n",
    "        n_shot=n_shot,\n",
    "        n_way=n_way,\n",
    "        n_query=n_query,\n",
    "        train_val_test_k_factors=train_val_test_k_factors,\n",
    "        pickle_path=pickle_path,\n",
    "        x_transform_func=x_transform,\n",
    "    )\n",
    "\n",
    "    train, val, test = eaf.get_train(), eaf.get_val(), eaf.get_test()\n",
    "    train = Lazy_Iterable_Wrapper(train, episode_transform)\n",
    "    val = Lazy_Iterable_Wrapper(val, episode_transform)\n",
    "    test = Lazy_Iterable_Wrapper(test, episode_transform)\n",
    "\n",
    "    if source_or_target_dataset==\"source\":\n",
    "        train_original_source.append(train)\n",
    "        val_original_source.append(val)\n",
    "        test_original_source.append(test)\n",
    "\n",
    "        p.domains_source.extend(\n",
    "            [domain_prefix + str(u) for u in domains]\n",
    "        )\n",
    "    elif source_or_target_dataset==\"target\":\n",
    "        train_original_target.append(train)\n",
    "        val_original_target.append(val)\n",
    "        test_original_target.append(test)\n",
    "        p.domains_target.extend(\n",
    "            [domain_prefix + str(u) for u in domains]\n",
    "        )\n",
    "    else:\n",
    "        raise Exception(f\"invalid source_or_target_dataset: {source_or_target_dataset}\")\n",
    "    "
   ]
  },
  {
   "cell_type": "code",
   "execution_count": 13,
   "id": "fe266617",
   "metadata": {
    "execution": {
     "iopub.execute_input": "2022-03-18T01:51:06.499403Z",
     "iopub.status.busy": "2022-03-18T01:51:06.499133Z",
     "iopub.status.idle": "2022-03-18T01:51:46.918658Z",
     "shell.execute_reply": "2022-03-18T01:51:46.918995Z"
    },
    "papermill": {
     "duration": 40.435739,
     "end_time": "2022-03-18T01:51:46.919109",
     "exception": false,
     "start_time": "2022-03-18T01:51:06.483370",
     "status": "completed"
    },
    "tags": []
   },
   "outputs": [],
   "source": [
    "for ds in p.datasets:\n",
    "    add_dataset(**ds)"
   ]
  },
  {
   "cell_type": "code",
   "execution_count": 14,
   "id": "b90d65ac",
   "metadata": {
    "execution": {
     "iopub.execute_input": "2022-03-18T01:51:46.957419Z",
     "iopub.status.busy": "2022-03-18T01:51:46.956981Z",
     "iopub.status.idle": "2022-03-18T01:51:46.971669Z",
     "shell.execute_reply": "2022-03-18T01:51:46.971320Z"
    },
    "papermill": {
     "duration": 0.032377,
     "end_time": "2022-03-18T01:51:46.971754",
     "exception": false,
     "start_time": "2022-03-18T01:51:46.939377",
     "status": "completed"
    },
    "tags": []
   },
   "outputs": [],
   "source": [
    "# from steves_utils.CORES.utils import (\n",
    "#     ALL_NODES,\n",
    "#     ALL_NODES_MINIMUM_1000_EXAMPLES,\n",
    "#     ALL_DAYS\n",
    "# )\n",
    "\n",
    "# add_dataset(\n",
    "#     labels=ALL_NODES,\n",
    "#     domains = ALL_DAYS,\n",
    "#     num_examples_per_domain_per_label=100,\n",
    "#     pickle_path=os.path.join(get_datasets_base_path(), \"cores.stratified_ds.2022A.pkl\"),\n",
    "#     source_or_target_dataset=\"target\",\n",
    "#     x_transform_func=global_x_transform_func,\n",
    "#     domain_modifier=lambda u: f\"cores_{u}\"\n",
    "# )"
   ]
  },
  {
   "cell_type": "code",
   "execution_count": 15,
   "id": "76db484d",
   "metadata": {
    "execution": {
     "iopub.execute_input": "2022-03-18T01:51:47.009655Z",
     "iopub.status.busy": "2022-03-18T01:51:47.009384Z",
     "iopub.status.idle": "2022-03-18T01:51:47.022957Z",
     "shell.execute_reply": "2022-03-18T01:51:47.022428Z"
    },
    "papermill": {
     "duration": 0.030873,
     "end_time": "2022-03-18T01:51:47.023068",
     "exception": false,
     "start_time": "2022-03-18T01:51:46.992195",
     "status": "completed"
    },
    "tags": []
   },
   "outputs": [],
   "source": [
    "# from steves_utils.ORACLE.utils_v2 import (\n",
    "#     ALL_DISTANCES_FEET,\n",
    "#     ALL_RUNS,\n",
    "#     ALL_SERIAL_NUMBERS,\n",
    "# )\n",
    "\n",
    "\n",
    "# add_dataset(\n",
    "#     labels=ALL_SERIAL_NUMBERS,\n",
    "#     domains = list(set(ALL_DISTANCES_FEET) - {2,62}),\n",
    "#     num_examples_per_domain_per_label=100,\n",
    "#     pickle_path=os.path.join(get_datasets_base_path(), \"oracle.Run2_framed_2000Examples_stratified_ds.2022A.pkl\"),\n",
    "#     source_or_target_dataset=\"source\",\n",
    "#     x_transform_func=global_x_transform_func,\n",
    "#     domain_modifier=lambda u: f\"oracle1_{u}\"\n",
    "# )\n"
   ]
  },
  {
   "cell_type": "code",
   "execution_count": 16,
   "id": "97dea9d2",
   "metadata": {
    "execution": {
     "iopub.execute_input": "2022-03-18T01:51:47.058922Z",
     "iopub.status.busy": "2022-03-18T01:51:47.058651Z",
     "iopub.status.idle": "2022-03-18T01:51:47.073017Z",
     "shell.execute_reply": "2022-03-18T01:51:47.072662Z"
    },
    "papermill": {
     "duration": 0.031346,
     "end_time": "2022-03-18T01:51:47.073104",
     "exception": false,
     "start_time": "2022-03-18T01:51:47.041758",
     "status": "completed"
    },
    "tags": []
   },
   "outputs": [],
   "source": [
    "# from steves_utils.ORACLE.utils_v2 import (\n",
    "#     ALL_DISTANCES_FEET,\n",
    "#     ALL_RUNS,\n",
    "#     ALL_SERIAL_NUMBERS,\n",
    "# )\n",
    "\n",
    "\n",
    "# add_dataset(\n",
    "#     labels=ALL_SERIAL_NUMBERS,\n",
    "#     domains = list(set(ALL_DISTANCES_FEET) - {2,62,56}),\n",
    "#     num_examples_per_domain_per_label=100,\n",
    "#     pickle_path=os.path.join(get_datasets_base_path(), \"oracle.Run2_framed_2000Examples_stratified_ds.2022A.pkl\"),\n",
    "#     source_or_target_dataset=\"source\",\n",
    "#     x_transform_func=global_x_transform_func,\n",
    "#     domain_modifier=lambda u: f\"oracle2_{u}\"\n",
    "# )"
   ]
  },
  {
   "cell_type": "code",
   "execution_count": 17,
   "id": "6f289866",
   "metadata": {
    "execution": {
     "iopub.execute_input": "2022-03-18T01:51:47.110318Z",
     "iopub.status.busy": "2022-03-18T01:51:47.110043Z",
     "iopub.status.idle": "2022-03-18T01:51:47.122224Z",
     "shell.execute_reply": "2022-03-18T01:51:47.121963Z"
    },
    "papermill": {
     "duration": 0.028668,
     "end_time": "2022-03-18T01:51:47.122281",
     "exception": false,
     "start_time": "2022-03-18T01:51:47.093613",
     "status": "completed"
    },
    "tags": []
   },
   "outputs": [],
   "source": [
    "# add_dataset(\n",
    "#     labels=list(range(19)),\n",
    "#     domains = [0,1,2],\n",
    "#     num_examples_per_domain_per_label=100,\n",
    "#     pickle_path=os.path.join(get_datasets_base_path(), \"metehan.stratified_ds.2022A.pkl\"),\n",
    "#     source_or_target_dataset=\"target\",\n",
    "#     x_transform_func=global_x_transform_func,\n",
    "#     domain_modifier=lambda u: f\"met_{u}\"\n",
    "# )"
   ]
  },
  {
   "cell_type": "code",
   "execution_count": 18,
   "id": "86a863c3",
   "metadata": {
    "execution": {
     "iopub.execute_input": "2022-03-18T01:51:47.157733Z",
     "iopub.status.busy": "2022-03-18T01:51:47.157460Z",
     "iopub.status.idle": "2022-03-18T01:51:47.172035Z",
     "shell.execute_reply": "2022-03-18T01:51:47.171560Z"
    },
    "papermill": {
     "duration": 0.031381,
     "end_time": "2022-03-18T01:51:47.172183",
     "exception": false,
     "start_time": "2022-03-18T01:51:47.140802",
     "status": "completed"
    },
    "tags": []
   },
   "outputs": [],
   "source": [
    "# # from steves_utils.wisig.utils import (\n",
    "# #     ALL_NODES_MINIMUM_100_EXAMPLES,\n",
    "# #     ALL_NODES_MINIMUM_500_EXAMPLES,\n",
    "# #     ALL_NODES_MINIMUM_1000_EXAMPLES,\n",
    "# #     ALL_DAYS\n",
    "# # )\n",
    "\n",
    "# import steves_utils.wisig.utils as wisig\n",
    "\n",
    "\n",
    "# add_dataset(\n",
    "#     labels=wisig.ALL_NODES_MINIMUM_100_EXAMPLES,\n",
    "#     domains = wisig.ALL_DAYS,\n",
    "#     num_examples_per_domain_per_label=100,\n",
    "#     pickle_path=os.path.join(get_datasets_base_path(), \"wisig.node3-19.stratified_ds.2022A.pkl\"),\n",
    "#     source_or_target_dataset=\"target\",\n",
    "#     x_transform_func=global_x_transform_func,\n",
    "#     domain_modifier=lambda u: f\"wisig_{u}\"\n",
    "# )"
   ]
  },
  {
   "cell_type": "code",
   "execution_count": 19,
   "id": "fd5442bc",
   "metadata": {
    "execution": {
     "iopub.execute_input": "2022-03-18T01:51:47.212702Z",
     "iopub.status.busy": "2022-03-18T01:51:47.212427Z",
     "iopub.status.idle": "2022-03-18T01:51:47.226041Z",
     "shell.execute_reply": "2022-03-18T01:51:47.225519Z"
    },
    "papermill": {
     "duration": 0.033664,
     "end_time": "2022-03-18T01:51:47.226149",
     "exception": false,
     "start_time": "2022-03-18T01:51:47.192485",
     "status": "completed"
    },
    "tags": []
   },
   "outputs": [],
   "source": [
    "###################################\n",
    "# Build the dataset\n",
    "###################################\n",
    "train_original_source = Iterable_Aggregator(train_original_source, p.seed)\n",
    "val_original_source = Iterable_Aggregator(val_original_source, p.seed)\n",
    "test_original_source = Iterable_Aggregator(test_original_source, p.seed)\n",
    "\n",
    "\n",
    "train_original_target = Iterable_Aggregator(train_original_target, p.seed)\n",
    "val_original_target = Iterable_Aggregator(val_original_target, p.seed)\n",
    "test_original_target = Iterable_Aggregator(test_original_target, p.seed)\n",
    "\n",
    "# For CNN We only use X and Y. And we only train on the source.\n",
    "# Properly form the data using a transform lambda and Lazy_Iterable_Wrapper. Finally wrap them in a dataloader\n",
    "\n",
    "transform_lambda = lambda ex: ex[1] # Original is (<domain>, <episode>) so we strip down to episode only\n",
    "\n",
    "train_processed_source = Lazy_Iterable_Wrapper(train_original_source, transform_lambda)\n",
    "val_processed_source   = Lazy_Iterable_Wrapper(val_original_source, transform_lambda)\n",
    "test_processed_source  = Lazy_Iterable_Wrapper(test_original_source, transform_lambda)\n",
    "\n",
    "train_processed_target = Lazy_Iterable_Wrapper(train_original_target, transform_lambda)\n",
    "val_processed_target   = Lazy_Iterable_Wrapper(val_original_target, transform_lambda)\n",
    "test_processed_target  = Lazy_Iterable_Wrapper(test_original_target, transform_lambda)\n",
    "\n",
    "datasets = EasyDict({\n",
    "    \"source\": {\n",
    "        \"original\": {\"train\":train_original_source, \"val\":val_original_source, \"test\":test_original_source},\n",
    "        \"processed\": {\"train\":train_processed_source, \"val\":val_processed_source, \"test\":test_processed_source}\n",
    "    },\n",
    "    \"target\": {\n",
    "        \"original\": {\"train\":train_original_target, \"val\":val_original_target, \"test\":test_original_target},\n",
    "        \"processed\": {\"train\":train_processed_target, \"val\":val_processed_target, \"test\":test_processed_target}\n",
    "    },\n",
    "})"
   ]
  },
  {
   "cell_type": "code",
   "execution_count": 20,
   "id": "5b3c01fc",
   "metadata": {
    "execution": {
     "iopub.execute_input": "2022-03-18T01:51:47.264015Z",
     "iopub.status.busy": "2022-03-18T01:51:47.263754Z",
     "iopub.status.idle": "2022-03-18T01:51:52.663610Z",
     "shell.execute_reply": "2022-03-18T01:51:52.664230Z"
    },
    "papermill": {
     "duration": 5.418326,
     "end_time": "2022-03-18T01:51:52.664402",
     "exception": false,
     "start_time": "2022-03-18T01:51:47.246076",
     "status": "completed"
    },
    "tags": []
   },
   "outputs": [
    {
     "name": "stdout",
     "output_type": "stream",
     "text": [
      "{'ORACLE.run1_50', 'ORACLE.run1_20', 'ORACLE.run1_8', 'ORACLE.run1_26', 'ORACLE.run1_32', 'ORACLE.run1_14', 'ORACLE.run1_38', 'ORACLE.run1_44'}\n"
     ]
    },
    {
     "name": "stdout",
     "output_type": "stream",
     "text": [
      "{'W_A_3', 'C_A_5', 'W_A_1', 'W_A_2', 'W_A_4', 'C_A_3', 'C_A_2', 'C_A_1', 'C_A_4'}\n"
     ]
    },
    {
     "name": "stdout",
     "output_type": "stream",
     "text": [
      "tensor([[[-0.0923,  1.0752,  0.6110,  ...,  0.6559,  0.5223,  0.7143],\n",
      "         [-0.6368, -0.5725,  0.6937,  ..., -0.1130,  1.1143,  0.1163]],\n",
      "\n",
      "        [[-0.4471,  0.4547,  0.8059,  ...,  1.1441,  0.5111,  0.0187],\n",
      "         [-1.1271, -0.7907,  0.8745,  ..., -0.4535, -0.6299, -1.3768]],\n",
      "\n",
      "        [[ 0.6516, -0.0535, -0.8938,  ..., -0.8408, -0.9332, -0.1014],\n",
      "         [ 0.8284,  1.0704, -0.5317,  ...,  0.4742,  0.2587,  1.1794]],\n",
      "\n",
      "        ...,\n",
      "\n",
      "        [[ 0.9795,  0.2346, -1.1961,  ..., -0.6991, -0.1533,  0.9162],\n",
      "         [ 0.5525,  0.9115, -0.0492,  ...,  0.9787,  0.7343,  0.9973]],\n",
      "\n",
      "        [[ 0.0252, -1.0168, -0.2853,  ..., -0.8572, -0.8433, -0.9555],\n",
      "         [ 0.7878,  0.7791, -0.7462,  ..., -0.1243, -0.6905,  0.6571]],\n",
      "\n",
      "        [[ 0.4825,  0.4645, -0.3477,  ...,  0.4871, -1.1842, -0.6537],\n",
      "         [-0.4126,  0.9377,  0.7358,  ...,  0.6690,  0.2844,  0.4617]]])\n"
     ]
    }
   ],
   "source": [
    "from steves_utils.transforms import get_average_magnitude, get_average_power\n",
    "\n",
    "print(set([u for u,_ in val_original_source]))\n",
    "print(set([u for u,_ in val_original_target]))\n",
    "\n",
    "s_x, s_y, q_x, q_y, _ = next(iter(train_processed_source))\n",
    "print(s_x)\n",
    "\n",
    "# for ds in [\n",
    "#     train_processed_source,\n",
    "#     val_processed_source,\n",
    "#     test_processed_source,\n",
    "#     train_processed_target,\n",
    "#     val_processed_target,\n",
    "#     test_processed_target\n",
    "# ]:\n",
    "#     for s_x, s_y, q_x, q_y, _ in ds:\n",
    "#         for X in (s_x, q_x):\n",
    "#             for x in X:\n",
    "#                 assert np.isclose(get_average_magnitude(x.numpy()), 1.0)\n",
    "#                 assert np.isclose(get_average_power(x.numpy()), 1.0)\n",
    "                "
   ]
  },
  {
   "cell_type": "code",
   "execution_count": 21,
   "id": "bbdacba1",
   "metadata": {
    "execution": {
     "iopub.execute_input": "2022-03-18T01:51:52.704690Z",
     "iopub.status.busy": "2022-03-18T01:51:52.704413Z",
     "iopub.status.idle": "2022-03-18T01:51:52.756164Z",
     "shell.execute_reply": "2022-03-18T01:51:52.755786Z"
    },
    "papermill": {
     "duration": 0.073246,
     "end_time": "2022-03-18T01:51:52.756258",
     "exception": false,
     "start_time": "2022-03-18T01:51:52.683012",
     "status": "completed"
    },
    "tags": []
   },
   "outputs": [
    {
     "name": "stdout",
     "output_type": "stream",
     "text": [
      "(2, 200)\n"
     ]
    }
   ],
   "source": [
    "###################################\n",
    "# Build the model\n",
    "###################################\n",
    "# easfsl only wants a tuple for the shape\n",
    "model = Steves_Prototypical_Network(x_net, device=p.device, x_shape=tuple(p.x_shape))\n",
    "optimizer = Adam(params=model.parameters(), lr=p.lr)"
   ]
  },
  {
   "cell_type": "code",
   "execution_count": 22,
   "id": "22b39ac5",
   "metadata": {
    "execution": {
     "iopub.execute_input": "2022-03-18T01:51:52.796265Z",
     "iopub.status.busy": "2022-03-18T01:51:52.794508Z",
     "iopub.status.idle": "2022-03-18T02:19:37.504581Z",
     "shell.execute_reply": "2022-03-18T02:19:37.504347Z"
    },
    "papermill": {
     "duration": 1664.729042,
     "end_time": "2022-03-18T02:19:37.504641",
     "exception": false,
     "start_time": "2022-03-18T01:51:52.775599",
     "status": "completed"
    },
    "tags": []
   },
   "outputs": [
    {
     "name": "stdout",
     "output_type": "stream",
     "text": [
      "epoch: 1, [batch: 1 / 6720], examples_per_second: 46.8657, train_label_loss: 3.1619, \n"
     ]
    },
    {
     "name": "stdout",
     "output_type": "stream",
     "text": [
      "epoch: 1, [batch: 672 / 6720], examples_per_second: 1930.5926, train_label_loss: 1.1130, \n"
     ]
    },
    {
     "name": "stdout",
     "output_type": "stream",
     "text": [
      "epoch: 1, [batch: 1344 / 6720], examples_per_second: 1930.1071, train_label_loss: 0.8327, \n"
     ]
    },
    {
     "name": "stdout",
     "output_type": "stream",
     "text": [
      "epoch: 1, [batch: 2016 / 6720], examples_per_second: 2050.1127, train_label_loss: 0.8653, \n"
     ]
    },
    {
     "name": "stdout",
     "output_type": "stream",
     "text": [
      "epoch: 1, [batch: 2688 / 6720], examples_per_second: 2422.7475, train_label_loss: 0.9650, \n"
     ]
    },
    {
     "name": "stdout",
     "output_type": "stream",
     "text": [
      "epoch: 1, [batch: 3360 / 6720], examples_per_second: 1928.6979, train_label_loss: 1.0756, \n"
     ]
    },
    {
     "name": "stdout",
     "output_type": "stream",
     "text": [
      "epoch: 1, [batch: 4032 / 6720], examples_per_second: 1930.3138, train_label_loss: 1.0284, \n"
     ]
    },
    {
     "name": "stdout",
     "output_type": "stream",
     "text": [
      "epoch: 1, [batch: 4704 / 6720], examples_per_second: 1926.3846, train_label_loss: 0.6256, \n"
     ]
    },
    {
     "name": "stdout",
     "output_type": "stream",
     "text": [
      "epoch: 1, [batch: 5376 / 6720], examples_per_second: 1933.4546, train_label_loss: 0.9311, \n"
     ]
    },
    {
     "name": "stdout",
     "output_type": "stream",
     "text": [
      "epoch: 1, [batch: 6048 / 6720], examples_per_second: 1930.0194, train_label_loss: 0.7996, \n"
     ]
    },
    {
     "name": "stdout",
     "output_type": "stream",
     "text": [
      "=============================================================\n",
      "epoch: 1, source_val_acc_label: 0.5951, target_val_acc_label: 0.5366, source_val_label_loss: 67.0414, target_val_label_loss: 4170.4849, \n",
      "=============================================================\n"
     ]
    },
    {
     "name": "stdout",
     "output_type": "stream",
     "text": [
      "New best\n"
     ]
    },
    {
     "name": "stdout",
     "output_type": "stream",
     "text": [
      "epoch: 2, [batch: 1 / 6720], examples_per_second: 3.2795, train_label_loss: 151.6351, \n"
     ]
    },
    {
     "name": "stdout",
     "output_type": "stream",
     "text": [
      "epoch: 2, [batch: 672 / 6720], examples_per_second: 1953.1684, train_label_loss: 0.7517, \n"
     ]
    },
    {
     "name": "stdout",
     "output_type": "stream",
     "text": [
      "epoch: 2, [batch: 1344 / 6720], examples_per_second: 1950.8865, train_label_loss: 0.6874, \n"
     ]
    },
    {
     "name": "stdout",
     "output_type": "stream",
     "text": [
      "epoch: 2, [batch: 2016 / 6720], examples_per_second: 2070.1938, train_label_loss: 1.3441, \n"
     ]
    },
    {
     "name": "stdout",
     "output_type": "stream",
     "text": [
      "epoch: 2, [batch: 2688 / 6720], examples_per_second: 2464.9709, train_label_loss: 1.0247, \n"
     ]
    },
    {
     "name": "stdout",
     "output_type": "stream",
     "text": [
      "epoch: 2, [batch: 3360 / 6720], examples_per_second: 1951.0501, train_label_loss: 0.9534, \n"
     ]
    },
    {
     "name": "stdout",
     "output_type": "stream",
     "text": [
      "epoch: 2, [batch: 4032 / 6720], examples_per_second: 1951.8505, train_label_loss: 1.1192, \n"
     ]
    },
    {
     "name": "stdout",
     "output_type": "stream",
     "text": [
      "epoch: 2, [batch: 4704 / 6720], examples_per_second: 1946.5793, train_label_loss: 0.9522, \n"
     ]
    },
    {
     "name": "stdout",
     "output_type": "stream",
     "text": [
      "epoch: 2, [batch: 5376 / 6720], examples_per_second: 1952.9225, train_label_loss: 1.1427, \n"
     ]
    },
    {
     "name": "stdout",
     "output_type": "stream",
     "text": [
      "epoch: 2, [batch: 6048 / 6720], examples_per_second: 1952.7129, train_label_loss: 0.6530, \n"
     ]
    },
    {
     "name": "stdout",
     "output_type": "stream",
     "text": [
      "=============================================================\n",
      "epoch: 2, source_val_acc_label: 0.7040, target_val_acc_label: 0.5447, source_val_label_loss: 0.8329, target_val_label_loss: 989.5706, \n",
      "=============================================================\n"
     ]
    },
    {
     "name": "stdout",
     "output_type": "stream",
     "text": [
      "New best\n"
     ]
    },
    {
     "name": "stdout",
     "output_type": "stream",
     "text": [
      "epoch: 3, [batch: 1 / 6720], examples_per_second: 3.3334, train_label_loss: 1.0519, \n"
     ]
    },
    {
     "name": "stdout",
     "output_type": "stream",
     "text": [
      "epoch: 3, [batch: 672 / 6720], examples_per_second: 1947.0061, train_label_loss: 0.4486, \n"
     ]
    },
    {
     "name": "stdout",
     "output_type": "stream",
     "text": [
      "epoch: 3, [batch: 1344 / 6720], examples_per_second: 1950.2686, train_label_loss: 0.6556, \n"
     ]
    },
    {
     "name": "stdout",
     "output_type": "stream",
     "text": [
      "epoch: 3, [batch: 2016 / 6720], examples_per_second: 2066.4077, train_label_loss: 0.4657, \n"
     ]
    },
    {
     "name": "stdout",
     "output_type": "stream",
     "text": [
      "epoch: 3, [batch: 2688 / 6720], examples_per_second: 2413.5790, train_label_loss: 0.7355, \n"
     ]
    },
    {
     "name": "stdout",
     "output_type": "stream",
     "text": [
      "epoch: 3, [batch: 3360 / 6720], examples_per_second: 2428.0980, train_label_loss: 1.2464, \n"
     ]
    },
    {
     "name": "stdout",
     "output_type": "stream",
     "text": [
      "epoch: 3, [batch: 4032 / 6720], examples_per_second: 2365.3036, train_label_loss: 1.1065, \n"
     ]
    },
    {
     "name": "stdout",
     "output_type": "stream",
     "text": [
      "epoch: 3, [batch: 4704 / 6720], examples_per_second: 2846.0500, train_label_loss: 0.4698, \n"
     ]
    },
    {
     "name": "stdout",
     "output_type": "stream",
     "text": [
      "epoch: 3, [batch: 5376 / 6720], examples_per_second: 3639.1709, train_label_loss: 0.6199, \n"
     ]
    },
    {
     "name": "stdout",
     "output_type": "stream",
     "text": [
      "epoch: 3, [batch: 6048 / 6720], examples_per_second: 3645.0564, train_label_loss: 0.4643, \n"
     ]
    },
    {
     "name": "stdout",
     "output_type": "stream",
     "text": [
      "=============================================================\n",
      "epoch: 3, source_val_acc_label: 0.7014, target_val_acc_label: 0.5377, source_val_label_loss: 0.8207, target_val_label_loss: 1172.1130, \n",
      "=============================================================\n"
     ]
    },
    {
     "name": "stdout",
     "output_type": "stream",
     "text": [
      "epoch: 4, [batch: 1 / 6720], examples_per_second: 6.0544, train_label_loss: 0.4823, \n"
     ]
    },
    {
     "name": "stdout",
     "output_type": "stream",
     "text": [
      "epoch: 4, [batch: 672 / 6720], examples_per_second: 3677.8231, train_label_loss: 0.4075, \n"
     ]
    },
    {
     "name": "stdout",
     "output_type": "stream",
     "text": [
      "epoch: 4, [batch: 1344 / 6720], examples_per_second: 2538.6167, train_label_loss: 1.0564, \n"
     ]
    },
    {
     "name": "stdout",
     "output_type": "stream",
     "text": [
      "epoch: 4, [batch: 2016 / 6720], examples_per_second: 1922.0021, train_label_loss: 1.0639, \n"
     ]
    },
    {
     "name": "stdout",
     "output_type": "stream",
     "text": [
      "epoch: 4, [batch: 2688 / 6720], examples_per_second: 1918.3554, train_label_loss: 0.5802, \n"
     ]
    },
    {
     "name": "stdout",
     "output_type": "stream",
     "text": [
      "epoch: 4, [batch: 3360 / 6720], examples_per_second: 1925.0663, train_label_loss: 0.3970, \n"
     ]
    },
    {
     "name": "stdout",
     "output_type": "stream",
     "text": [
      "epoch: 4, [batch: 4032 / 6720], examples_per_second: 1921.8093, train_label_loss: 0.9780, \n"
     ]
    },
    {
     "name": "stdout",
     "output_type": "stream",
     "text": [
      "epoch: 4, [batch: 4704 / 6720], examples_per_second: 1917.3451, train_label_loss: 0.5590, \n"
     ]
    },
    {
     "name": "stdout",
     "output_type": "stream",
     "text": [
      "epoch: 4, [batch: 5376 / 6720], examples_per_second: 1921.5130, train_label_loss: 0.8821, \n"
     ]
    },
    {
     "name": "stdout",
     "output_type": "stream",
     "text": [
      "epoch: 4, [batch: 6048 / 6720], examples_per_second: 1926.4038, train_label_loss: 0.5680, \n"
     ]
    },
    {
     "name": "stdout",
     "output_type": "stream",
     "text": [
      "=============================================================\n",
      "epoch: 4, source_val_acc_label: 0.7748, target_val_acc_label: 0.5365, source_val_label_loss: 0.6337, target_val_label_loss: 1251.3993, \n",
      "=============================================================\n"
     ]
    },
    {
     "name": "stdout",
     "output_type": "stream",
     "text": [
      "epoch: 5, [batch: 1 / 6720], examples_per_second: 3.2571, train_label_loss: 0.2150, \n"
     ]
    },
    {
     "name": "stdout",
     "output_type": "stream",
     "text": [
      "epoch: 5, [batch: 672 / 6720], examples_per_second: 2121.8876, train_label_loss: 0.5016, \n"
     ]
    },
    {
     "name": "stdout",
     "output_type": "stream",
     "text": [
      "epoch: 5, [batch: 1344 / 6720], examples_per_second: 2352.2833, train_label_loss: 0.7583, \n"
     ]
    },
    {
     "name": "stdout",
     "output_type": "stream",
     "text": [
      "epoch: 5, [batch: 2016 / 6720], examples_per_second: 1943.2514, train_label_loss: 0.9769, \n"
     ]
    },
    {
     "name": "stdout",
     "output_type": "stream",
     "text": [
      "epoch: 5, [batch: 2688 / 6720], examples_per_second: 1939.0802, train_label_loss: 0.7009, \n"
     ]
    },
    {
     "name": "stdout",
     "output_type": "stream",
     "text": [
      "epoch: 5, [batch: 3360 / 6720], examples_per_second: 1949.4984, train_label_loss: 0.2937, \n"
     ]
    },
    {
     "name": "stdout",
     "output_type": "stream",
     "text": [
      "epoch: 5, [batch: 4032 / 6720], examples_per_second: 1940.0631, train_label_loss: 0.3990, \n"
     ]
    },
    {
     "name": "stdout",
     "output_type": "stream",
     "text": [
      "epoch: 5, [batch: 4704 / 6720], examples_per_second: 1941.0584, train_label_loss: 0.4017, \n"
     ]
    },
    {
     "name": "stdout",
     "output_type": "stream",
     "text": [
      "epoch: 5, [batch: 5376 / 6720], examples_per_second: 1945.4193, train_label_loss: 0.7733, \n"
     ]
    },
    {
     "name": "stdout",
     "output_type": "stream",
     "text": [
      "epoch: 5, [batch: 6048 / 6720], examples_per_second: 1948.7302, train_label_loss: 0.6812, \n"
     ]
    },
    {
     "name": "stdout",
     "output_type": "stream",
     "text": [
      "=============================================================\n",
      "epoch: 5, source_val_acc_label: 0.7981, target_val_acc_label: 0.5263, source_val_label_loss: 0.5530, target_val_label_loss: 1075.9279, \n",
      "=============================================================\n"
     ]
    },
    {
     "name": "stdout",
     "output_type": "stream",
     "text": [
      "epoch: 6, [batch: 1 / 6720], examples_per_second: 3.2996, train_label_loss: 0.4076, \n"
     ]
    },
    {
     "name": "stdout",
     "output_type": "stream",
     "text": [
      "epoch: 6, [batch: 672 / 6720], examples_per_second: 2151.6665, train_label_loss: 0.7573, \n"
     ]
    },
    {
     "name": "stdout",
     "output_type": "stream",
     "text": [
      "epoch: 6, [batch: 1344 / 6720], examples_per_second: 2360.0908, train_label_loss: 0.7372, \n"
     ]
    },
    {
     "name": "stdout",
     "output_type": "stream",
     "text": [
      "epoch: 6, [batch: 2016 / 6720], examples_per_second: 1944.6074, train_label_loss: 0.3788, \n"
     ]
    },
    {
     "name": "stdout",
     "output_type": "stream",
     "text": [
      "epoch: 6, [batch: 2688 / 6720], examples_per_second: 1939.1844, train_label_loss: 0.2242, \n"
     ]
    },
    {
     "name": "stdout",
     "output_type": "stream",
     "text": [
      "epoch: 6, [batch: 3360 / 6720], examples_per_second: 1946.3621, train_label_loss: 0.1996, \n"
     ]
    },
    {
     "name": "stdout",
     "output_type": "stream",
     "text": [
      "epoch: 6, [batch: 4032 / 6720], examples_per_second: 1941.3243, train_label_loss: 0.6168, \n"
     ]
    },
    {
     "name": "stdout",
     "output_type": "stream",
     "text": [
      "epoch: 6, [batch: 4704 / 6720], examples_per_second: 1939.2172, train_label_loss: 0.6479, \n"
     ]
    },
    {
     "name": "stdout",
     "output_type": "stream",
     "text": [
      "epoch: 6, [batch: 5376 / 6720], examples_per_second: 1942.9305, train_label_loss: 0.3637, \n"
     ]
    },
    {
     "name": "stdout",
     "output_type": "stream",
     "text": [
      "epoch: 6, [batch: 6048 / 6720], examples_per_second: 1944.5031, train_label_loss: 0.2619, \n"
     ]
    },
    {
     "name": "stdout",
     "output_type": "stream",
     "text": [
      "=============================================================\n",
      "epoch: 6, source_val_acc_label: 0.8217, target_val_acc_label: 0.4980, source_val_label_loss: 0.5023, target_val_label_loss: 1470.1693, \n",
      "=============================================================\n"
     ]
    },
    {
     "name": "stdout",
     "output_type": "stream",
     "text": [
      "Patience (3) exhausted\n"
     ]
    }
   ],
   "source": [
    "###################################\n",
    "# train\n",
    "###################################\n",
    "jig = PTN_Train_Eval_Test_Jig(model, p.BEST_MODEL_PATH, p.device)\n",
    "\n",
    "jig.train(\n",
    "    train_iterable=datasets.source.processed.train,\n",
    "    source_val_iterable=datasets.source.processed.val,\n",
    "    target_val_iterable=datasets.target.processed.val,\n",
    "    num_epochs=p.n_epoch,\n",
    "    num_logs_per_epoch=p.NUM_LOGS_PER_EPOCH,\n",
    "    patience=p.patience,\n",
    "    optimizer=optimizer,\n",
    "    criteria_for_best=p.criteria_for_best,\n",
    ")"
   ]
  },
  {
   "cell_type": "code",
   "execution_count": 23,
   "id": "31e8fabf",
   "metadata": {
    "execution": {
     "iopub.execute_input": "2022-03-18T02:19:37.568282Z",
     "iopub.status.busy": "2022-03-18T02:19:37.562418Z",
     "iopub.status.idle": "2022-03-18T02:19:37.581009Z",
     "shell.execute_reply": "2022-03-18T02:19:37.580536Z"
    },
    "papermill": {
     "duration": 0.049474,
     "end_time": "2022-03-18T02:19:37.581118",
     "exception": false,
     "start_time": "2022-03-18T02:19:37.531644",
     "status": "completed"
    },
    "tags": []
   },
   "outputs": [],
   "source": [
    "total_experiment_time_secs = time.time() - start_time_secs"
   ]
  },
  {
   "cell_type": "code",
   "execution_count": 24,
   "id": "87b9595b",
   "metadata": {
    "execution": {
     "iopub.execute_input": "2022-03-18T02:19:37.646836Z",
     "iopub.status.busy": "2022-03-18T02:19:37.646562Z",
     "iopub.status.idle": "2022-03-18T02:21:10.624009Z",
     "shell.execute_reply": "2022-03-18T02:21:10.623531Z"
    },
    "papermill": {
     "duration": 93.010961,
     "end_time": "2022-03-18T02:21:10.624120",
     "exception": false,
     "start_time": "2022-03-18T02:19:37.613159",
     "status": "completed"
    },
    "tags": []
   },
   "outputs": [],
   "source": [
    "###################################\n",
    "# Evaluate the model\n",
    "###################################\n",
    "source_test_label_accuracy, source_test_label_loss = jig.test(datasets.source.processed.test)\n",
    "target_test_label_accuracy, target_test_label_loss = jig.test(datasets.target.processed.test)\n",
    "\n",
    "source_val_label_accuracy, source_val_label_loss = jig.test(datasets.source.processed.val)\n",
    "target_val_label_accuracy, target_val_label_loss = jig.test(datasets.target.processed.val)\n",
    "\n",
    "history = jig.get_history()\n",
    "\n",
    "total_epochs_trained = len(history[\"epoch_indices\"])\n",
    "\n",
    "val_dl = Iterable_Aggregator((datasets.source.original.val,datasets.target.original.val))\n",
    "\n",
    "confusion = ptn_confusion_by_domain_over_dataloader(model, p.device, val_dl)\n",
    "per_domain_accuracy = per_domain_accuracy_from_confusion(confusion)\n",
    "\n",
    "# Add a key to per_domain_accuracy for if it was a source domain\n",
    "for domain, accuracy in per_domain_accuracy.items():\n",
    "    per_domain_accuracy[domain] = {\n",
    "        \"accuracy\": accuracy,\n",
    "        \"source?\": domain in p.domains_source\n",
    "    }\n",
    "\n",
    "# Do an independent accuracy assesment JUST TO BE SURE!\n",
    "# _source_test_label_accuracy = independent_accuracy_assesment(model, datasets.source.processed.test, p.device)\n",
    "# _target_test_label_accuracy = independent_accuracy_assesment(model, datasets.target.processed.test, p.device)\n",
    "# _source_val_label_accuracy = independent_accuracy_assesment(model, datasets.source.processed.val, p.device)\n",
    "# _target_val_label_accuracy = independent_accuracy_assesment(model, datasets.target.processed.val, p.device)\n",
    "\n",
    "# assert(_source_test_label_accuracy == source_test_label_accuracy)\n",
    "# assert(_target_test_label_accuracy == target_test_label_accuracy)\n",
    "# assert(_source_val_label_accuracy == source_val_label_accuracy)\n",
    "# assert(_target_val_label_accuracy == target_val_label_accuracy)\n",
    "\n",
    "experiment = {\n",
    "    \"experiment_name\": p.experiment_name,\n",
    "    \"parameters\": dict(p),\n",
    "    \"results\": {\n",
    "        \"source_test_label_accuracy\": source_test_label_accuracy,\n",
    "        \"source_test_label_loss\": source_test_label_loss,\n",
    "        \"target_test_label_accuracy\": target_test_label_accuracy,\n",
    "        \"target_test_label_loss\": target_test_label_loss,\n",
    "        \"source_val_label_accuracy\": source_val_label_accuracy,\n",
    "        \"source_val_label_loss\": source_val_label_loss,\n",
    "        \"target_val_label_accuracy\": target_val_label_accuracy,\n",
    "        \"target_val_label_loss\": target_val_label_loss,\n",
    "        \"total_epochs_trained\": total_epochs_trained,\n",
    "        \"total_experiment_time_secs\": total_experiment_time_secs,\n",
    "        \"confusion\": confusion,\n",
    "        \"per_domain_accuracy\": per_domain_accuracy,\n",
    "    },\n",
    "    \"history\": history,\n",
    "    \"dataset_metrics\": get_dataset_metrics(datasets, \"ptn\"),\n",
    "}"
   ]
  },
  {
   "cell_type": "code",
   "execution_count": 25,
   "id": "54a21829",
   "metadata": {
    "execution": {
     "iopub.execute_input": "2022-03-18T02:21:10.685420Z",
     "iopub.status.busy": "2022-03-18T02:21:10.684965Z",
     "iopub.status.idle": "2022-03-18T02:21:10.812256Z",
     "shell.execute_reply": "2022-03-18T02:21:10.811854Z"
    },
    "papermill": {
     "duration": 0.157517,
     "end_time": "2022-03-18T02:21:10.812348",
     "exception": false,
     "start_time": "2022-03-18T02:21:10.654831",
     "status": "completed"
    },
    "tags": []
   },
   "outputs": [
    {
     "data": {
      "image/png": "[encoded data removed]",
      "text/plain": [
       "<Figure size 1080x504 with 1 Axes>"
      ]
     },
     "metadata": {
      "needs_background": "light"
     },
     "output_type": "display_data"
    }
   ],
   "source": [
    "ax = get_loss_curve(experiment)\n",
    "plt.show()"
   ]
  },
  {
   "cell_type": "code",
   "execution_count": 26,
   "id": "fd8a0f60",
   "metadata": {
    "execution": {
     "iopub.execute_input": "2022-03-18T02:21:10.879938Z",
     "iopub.status.busy": "2022-03-18T02:21:10.875266Z",
     "iopub.status.idle": "2022-03-18T02:21:11.044541Z",
     "shell.execute_reply": "2022-03-18T02:21:11.044292Z"
    },
    "papermill": {
     "duration": 0.200633,
     "end_time": "2022-03-18T02:21:11.044605",
     "exception": false,
     "start_time": "2022-03-18T02:21:10.843972",
     "status": "completed"
    },
    "tags": []
   },
   "outputs": [
    {
     "data": {
      "text/plain": [
       "<AxesSubplot:title={'center':'Results'}>"
      ]
     },
     "execution_count": 26,
     "metadata": {},
     "output_type": "execute_result"
    },
    {
     "data": {
      "image/png": "[encoded data removed]",
      "text/plain": [
       "<Figure size 1080x504 with 1 Axes>"
      ]
     },
     "metadata": {
      "needs_background": "light"
     },
     "output_type": "display_data"
    }
   ],
   "source": [
    "get_results_table(experiment)"
   ]
  },
  {
   "cell_type": "code",
   "execution_count": 27,
   "id": "cf8dc689",
   "metadata": {
    "execution": {
     "iopub.execute_input": "2022-03-18T02:21:11.107473Z",
     "iopub.status.busy": "2022-03-18T02:21:11.106767Z",
     "iopub.status.idle": "2022-03-18T02:21:11.266029Z",
     "shell.execute_reply": "2022-03-18T02:21:11.266409Z"
    },
    "papermill": {
     "duration": 0.191732,
     "end_time": "2022-03-18T02:21:11.266540",
     "exception": false,
     "start_time": "2022-03-18T02:21:11.074808",
     "status": "completed"
    },
    "tags": []
   },
   "outputs": [
    {
     "data": {
      "text/plain": [
       "<AxesSubplot:title={'center':'Per Domain Validation Accuracy'}, xlabel='domain'>"
      ]
     },
     "execution_count": 27,
     "metadata": {},
     "output_type": "execute_result"
    },
    {
     "data": {
      "image/png": "[encoded data removed]",
      "text/plain": [
       "<Figure size 1080x504 with 1 Axes>"
      ]
     },
     "metadata": {
      "needs_background": "light"
     },
     "output_type": "display_data"
    }
   ],
   "source": [
    "get_domain_accuracies(experiment)"
   ]
  },
  {
   "cell_type": "code",
   "execution_count": 28,
   "id": "a74ae082",
   "metadata": {
    "execution": {
     "iopub.execute_input": "2022-03-18T02:21:11.335004Z",
     "iopub.status.busy": "2022-03-18T02:21:11.334739Z",
     "iopub.status.idle": "2022-03-18T02:21:11.351328Z",
     "shell.execute_reply": "2022-03-18T02:21:11.351743Z"
    },
    "papermill": {
     "duration": 0.049925,
     "end_time": "2022-03-18T02:21:11.351870",
     "exception": false,
     "start_time": "2022-03-18T02:21:11.301945",
     "status": "completed"
    },
    "tags": []
   },
   "outputs": [
    {
     "name": "stdout",
     "output_type": "stream",
     "text": [
      "Source Test Label Accuracy: 0.7159505208333333 Target Test Label Accuracy: 0.5462328767123288\n",
      "Source Val Label Accuracy: 0.7040364583333333 Target Val Label Accuracy: 0.5447345890410958\n"
     ]
    }
   ],
   "source": [
    "print(\"Source Test Label Accuracy:\", experiment[\"results\"][\"source_test_label_accuracy\"], \"Target Test Label Accuracy:\", experiment[\"results\"][\"target_test_label_accuracy\"])\n",
    "print(\"Source Val Label Accuracy:\", experiment[\"results\"][\"source_val_label_accuracy\"], \"Target Val Label Accuracy:\", experiment[\"results\"][\"target_val_label_accuracy\"])"
   ]
  },
  {
   "cell_type": "code",
   "execution_count": 29,
   "id": "dacca602",
   "metadata": {
    "execution": {
     "iopub.execute_input": "2022-03-18T02:21:11.419297Z",
     "iopub.status.busy": "2022-03-18T02:21:11.419009Z",
     "iopub.status.idle": "2022-03-18T02:21:11.437043Z",
     "shell.execute_reply": "2022-03-18T02:21:11.437357Z"
    },
    "papermill": {
     "duration": 0.050919,
     "end_time": "2022-03-18T02:21:11.437458",
     "exception": false,
     "start_time": "2022-03-18T02:21:11.386539",
     "status": "completed"
    },
    "tags": [
     "experiment_json"
    ]
   },
   "outputs": [
    {
     "data": {
      "text/plain": [
       "'{\"experiment_name\": \"tl_3-filter:oracle.run1.framed -> cores+wisig\", \"parameters\": {\"experiment_name\": \"tl_3-filter:oracle.run1.framed -> cores+wisig\", \"device\": \"cuda\", \"lr\": 0.001, \"seed\": 1337, \"dataset_seed\": 1337, \"x_shape\": [2, 200], \"n_shot\": 3, \"n_query\": 2, \"train_k_factor\": 3, \"val_k_factor\": 2, \"test_k_factor\": 2, \"torch_default_dtype\": \"torch.float32\", \"n_epoch\": 50, \"patience\": 3, \"criteria_for_best\": \"target_loss\", \"x_net\": [{\"class\": \"nnReshape\", \"kargs\": {\"shape\": [-1, 1, 2, 200]}}, {\"class\": \"Conv2d\", \"kargs\": {\"in_channels\": 1, \"out_channels\": 256, \"kernel_size\": [1, 7], \"bias\": false, \"padding\": [0, 3]}}, {\"class\": \"ReLU\", \"kargs\": {\"inplace\": true}}, {\"class\": \"BatchNorm2d\", \"kargs\": {\"num_features\": 256}}, {\"class\": \"Conv2d\", \"kargs\": {\"in_channels\": 256, \"out_channels\": 80, \"kernel_size\": [2, 7], \"bias\": true, \"padding\": [0, 3]}}, {\"class\": \"ReLU\", \"kargs\": {\"inplace\": true}}, {\"class\": \"BatchNorm2d\", \"kargs\": {\"num_features\": 80}}, {\"class\": \"Flatten\", \"kargs\": {}}, {\"class\": \"Linear\", \"kargs\": {\"in_features\": 16000, \"out_features\": 256}}, {\"class\": \"ReLU\", \"kargs\": {\"inplace\": true}}, {\"class\": \"BatchNorm1d\", \"kargs\": {\"num_features\": 256}}, {\"class\": \"Linear\", \"kargs\": {\"in_features\": 256, \"out_features\": 256}}], \"NUM_LOGS_PER_EPOCH\": 10, \"BEST_MODEL_PATH\": \"./best_model.pth\", \"n_way\": 16, \"datasets\": [{\"labels\": [\"1-10.\", \"1-11.\", \"1-15.\", \"1-16.\", \"1-17.\", \"1-18.\", \"1-19.\", \"10-4.\", \"10-7.\", \"11-1.\", \"11-14.\", \"11-17.\", \"11-20.\", \"11-7.\", \"13-20.\", \"13-8.\", \"14-10.\", \"14-11.\", \"14-14.\", \"14-7.\", \"15-1.\", \"15-20.\", \"16-1.\", \"16-16.\", \"17-10.\", \"17-11.\", \"17-2.\", \"19-1.\", \"19-16.\", \"19-19.\", \"19-20.\", \"19-3.\", \"2-10.\", \"2-11.\", \"2-17.\", \"2-18.\", \"2-20.\", \"2-3.\", \"2-4.\", \"2-5.\", \"2-6.\", \"2-7.\", \"2-8.\", \"3-13.\", \"3-18.\", \"3-3.\", \"4-1.\", \"4-10.\", \"4-11.\", \"4-19.\", \"5-5.\", \"6-15.\", \"7-10.\", \"7-14.\", \"8-18.\", \"8-20.\", \"8-3.\", \"8-8.\"], \"domains\": [1, 2, 3, 4, 5], \"num_examples_per_domain_per_label\": 100, \"pickle_path\": \"/mnt/wd500GB/CSC500/csc500-main/datasets/cores.stratified_ds.2022A.pkl\", \"source_or_target_dataset\": \"target\", \"x_transforms\": [\"unit_power\", \"lowpass_+/-10MHz\", \"take_200\"], \"episode_transforms\": [], \"domain_prefix\": \"C_A_\"}, {\"labels\": [\"1-10\", \"1-12\", \"1-14\", \"1-16\", \"1-18\", \"1-19\", \"1-8\", \"10-11\", \"10-17\", \"10-4\", \"10-7\", \"11-1\", \"11-10\", \"11-19\", \"11-20\", \"11-4\", \"11-7\", \"12-19\", \"12-20\", \"12-7\", \"13-14\", \"13-18\", \"13-19\", \"13-20\", \"13-3\", \"13-7\", \"14-10\", \"14-11\", \"14-12\", \"14-13\", \"14-14\", \"14-19\", \"14-20\", \"14-7\", \"14-8\", \"14-9\", \"15-1\", \"15-19\", \"15-6\", \"16-1\", \"16-16\", \"16-19\", \"16-20\", \"17-10\", \"17-11\", \"18-1\", \"18-10\", \"18-11\", \"18-12\", \"18-13\", \"18-14\", \"18-15\", \"18-16\", \"18-17\", \"18-19\", \"18-2\", \"18-20\", \"18-4\", \"18-5\", \"18-7\", \"18-8\", \"18-9\", \"19-1\", \"19-10\", \"19-11\", \"19-12\", \"19-13\", \"19-14\", \"19-15\", \"19-19\", \"19-2\", \"19-20\", \"19-3\", \"19-4\", \"19-6\", \"19-7\", \"19-8\", \"19-9\", \"2-1\", \"2-13\", \"2-15\", \"2-3\", \"2-4\", \"2-5\", \"2-6\", \"2-7\", \"2-8\", \"20-1\", \"20-12\", \"20-14\", \"20-15\", \"20-16\", \"20-18\", \"20-19\", \"20-20\", \"20-3\", \"20-4\", \"20-5\", \"20-7\", \"20-8\", \"3-1\", \"3-13\", \"3-18\", \"3-2\", \"3-8\", \"4-1\", \"4-10\", \"4-11\", \"5-1\", \"5-5\", \"6-1\", \"6-15\", \"6-6\", \"7-10\", \"7-11\", \"7-12\", \"7-13\", \"7-14\", \"7-7\", \"7-8\", \"7-9\", \"8-1\", \"8-13\", \"8-14\", \"8-18\", \"8-20\", \"8-3\", \"8-8\", \"9-1\", \"9-7\"], \"domains\": [1, 2, 3, 4], \"num_examples_per_domain_per_label\": 100, \"pickle_path\": \"/mnt/wd500GB/CSC500/csc500-main/datasets/wisig.node3-19.stratified_ds.2022A.pkl\", \"source_or_target_dataset\": \"target\", \"x_transforms\": [\"unit_power\", \"lowpass_+/-10MHz\", \"take_200\"], \"episode_transforms\": [], \"domain_prefix\": \"W_A_\"}, {\"labels\": [\"3123D52\", \"3123D65\", \"3123D79\", \"3123D80\", \"3123D54\", \"3123D70\", \"3123D7B\", \"3123D89\", \"3123D58\", \"3123D76\", \"3123D7D\", \"3123EFE\", \"3123D64\", \"3123D78\", \"3123D7E\", \"3124E4A\"], \"domains\": [32, 38, 8, 44, 14, 50, 20, 26], \"num_examples_per_domain_per_label\": 2000, \"pickle_path\": \"/mnt/wd500GB/CSC500/csc500-main/datasets/oracle.Run1_framed_2000Examples_stratified_ds.2022A.pkl\", \"source_or_target_dataset\": \"source\", \"x_transforms\": [\"unit_power\", \"take_200\", \"resample_20Msps_to_25Msps\"], \"episode_transforms\": [], \"domain_prefix\": \"ORACLE.run1_\"}], \"domains_source\": [\"ORACLE.run1_32\", \"ORACLE.run1_38\", \"ORACLE.run1_8\", \"ORACLE.run1_44\", \"ORACLE.run1_14\", \"ORACLE.run1_50\", \"ORACLE.run1_20\", \"ORACLE.run1_26\"], \"domains_target\": [\"C_A_1\", \"C_A_2\", \"C_A_3\", \"C_A_4\", \"C_A_5\", \"W_A_1\", \"W_A_2\", \"W_A_3\", \"W_A_4\"]}, \"results\": {\"source_test_label_accuracy\": 0.7159505208333333, \"source_test_label_loss\": 0.8133068680763245, \"target_test_label_accuracy\": 0.5462328767123288, \"target_test_label_loss\": 1095.9569091796875, \"source_val_label_accuracy\": 0.7040364583333333, \"source_val_label_loss\": 0.8329043984413147, \"target_val_label_accuracy\": 0.5447345890410958, \"target_val_label_loss\": 989.5704956054688, \"total_epochs_trained\": 6, \"total_experiment_time_secs\": 1711.2701206207275, \"confusion\": {\"ORACLE.run1_14\": {\"15\": {\"15\": 231, \"7\": 9}, \"3\": {\"3\": 234, \"4\": 6}, \"6\": {\"13\": 63, \"6\": 144, \"2\": 11, \"14\": 22}, \"1\": {\"1\": 208, \"5\": 29, \"4\": 3}, \"8\": {\"8\": 240}, \"10\": {\"10\": 226, \"0\": 14}, \"9\": {\"9\": 240}, \"13\": {\"14\": 69, \"13\": 64, \"5\": 9, \"6\": 84, \"2\": 13, \"4\": 1}, \"12\": {\"12\": 240}, \"5\": {\"5\": 136, \"4\": 49, \"1\": 40, \"2\": 10, \"3\": 3, \"6\": 1, \"7\": 1}, \"0\": {\"0\": 196, \"10\": 39, \"11\": 3, \"3\": 2}, \"2\": {\"6\": 31, \"3\": 10, \"2\": 103, \"4\": 12, \"5\": 30, \"14\": 41, \"13\": 11, \"7\": 1, \"15\": 1}, \"11\": {\"11\": 225, \"0\": 2, \"9\": 12, \"10\": 1}, \"14\": {\"14\": 180, \"2\": 18, \"13\": 30, \"6\": 7, \"3\": 5}, \"7\": {\"7\": 236, \"15\": 4}, \"4\": {\"4\": 191, \"5\": 41, \"2\": 3, \"3\": 2, \"1\": 3}}, \"ORACLE.run1_20\": {\"3\": {\"12\": 38, \"3\": 123, \"2\": 15, \"9\": 45, \"1\": 1, \"5\": 5, \"4\": 2, \"7\": 8, \"8\": 2, \"0\": 1}, \"15\": {\"15\": 139, \"1\": 35, \"5\": 17, \"12\": 6, \"0\": 37, \"13\": 5, \"2\": 1}, \"8\": {\"8\": 187, \"7\": 13, \"4\": 30, \"10\": 2, \"14\": 3, \"3\": 4, \"2\": 1}, \"4\": {\"4\": 188, \"8\": 27, \"3\": 15, \"10\": 4, \"12\": 2, \"5\": 4}, \"14\": {\"6\": 28, \"14\": 194, \"10\": 15, \"8\": 3}, \"0\": {\"12\": 20, \"3\": 6, \"0\": 87, \"5\": 63, \"1\": 18, \"15\": 43, \"2\": 2, \"4\": 1}, \"7\": {\"7\": 175, \"8\": 13, \"2\": 34, \"9\": 14, \"3\": 4}, \"6\": {\"6\": 218, \"10\": 2, \"14\": 20}, \"10\": {\"14\": 23, \"10\": 215, \"4\": 1, \"8\": 1}, \"5\": {\"5\": 102, \"12\": 23, \"0\": 78, \"1\": 24, \"15\": 9, \"4\": 1, \"3\": 3}, \"2\": {\"2\": 100, \"3\": 15, \"7\": 17, \"9\": 79, \"13\": 18, \"12\": 10, \"15\": 1}, \"12\": {\"12\": 116, \"3\": 38, \"9\": 15, \"1\": 41, \"5\": 13, \"2\": 7, \"0\": 6, \"15\": 2, \"7\": 1, \"13\": 1}, \"9\": {\"9\": 122, \"2\": 67, \"3\": 30, \"12\": 13, \"4\": 1, \"7\": 6, \"13\": 1}, \"1\": {\"1\": 113, \"5\": 32, \"12\": 43, \"15\": 22, \"0\": 26, \"3\": 2, \"9\": 2}, \"11\": {\"11\": 240}, \"13\": {\"13\": 218, \"1\": 1, \"2\": 19, \"12\": 1, \"0\": 1}}, \"ORACLE.run1_38\": {\"5\": {\"8\": 58, \"5\": 93, \"7\": 27, \"0\": 10, \"9\": 9, \"13\": 1, \"1\": 6, \"15\": 10, \"3\": 2, \"6\": 23, \"10\": 1}, \"8\": {\"0\": 28, \"7\": 19, \"8\": 133, \"15\": 15, \"10\": 10, \"1\": 2, \"5\": 32, \"13\": 1}, \"11\": {\"11\": 158, \"14\": 71, \"4\": 2, \"3\": 2, \"12\": 2, \"10\": 3, \"2\": 2}, \"1\": {\"1\": 226, \"8\": 1, \"15\": 13}, \"10\": {\"10\": 163, \"11\": 2, \"0\": 8, \"8\": 20, \"15\": 4, \"13\": 24, \"2\": 4, \"5\": 3, \"7\": 2, \"12\": 5, \"14\": 2, \"4\": 3}, \"15\": {\"15\": 161, \"8\": 12, \"1\": 23, \"13\": 38, \"2\": 1, \"5\": 3, \"0\": 1, \"10\": 1}, \"3\": {\"3\": 208, \"9\": 20, \"7\": 5, \"0\": 2, \"6\": 2, \"5\": 3}, \"7\": {\"7\": 172, \"0\": 41, \"5\": 16, \"8\": 9, \"10\": 1, \"9\": 1}, \"4\": {\"4\": 194, \"12\": 46}, \"14\": {\"14\": 192, \"11\": 23, \"2\": 20, \"10\": 5}, \"9\": {\"9\": 163, \"6\": 59, \"3\": 18}, \"12\": {\"12\": 221, \"4\": 17, \"10\": 1, \"14\": 1}, \"6\": {\"5\": 4, \"6\": 199, \"9\": 37}, \"2\": {\"2\": 212, \"14\": 20, \"11\": 1, \"10\": 1, \"13\": 6}, \"0\": {\"0\": 81, \"8\": 58, \"5\": 21, \"7\": 48, \"9\": 3, \"3\": 9, \"11\": 2, \"10\": 10, \"15\": 5, \"13\": 1, \"6\": 2}, \"13\": {\"13\": 156, \"14\": 1, \"15\": 54, \"10\": 15, \"0\": 1, \"2\": 7, \"1\": 5, \"8\": 1}}, \"ORACLE.run1_8\": {\"9\": {\"9\": 240}, \"10\": {\"10\": 178, \"14\": 47, \"13\": 9, \"5\": 4, \"4\": 2}, \"13\": {\"4\": 47, \"0\": 59, \"10\": 20, \"13\": 88, \"6\": 7, \"14\": 19}, \"0\": {\"13\": 49, \"0\": 163, \"7\": 16, \"4\": 6, \"6\": 5, \"10\": 1}, \"1\": {\"1\": 202, \"11\": 32, \"5\": 2, \"14\": 3, \"10\": 1}, \"15\": {\"15\": 195, \"12\": 38, \"8\": 7}, \"5\": {\"5\": 215, \"11\": 1, \"10\": 8, \"1\": 11, \"14\": 5}, \"3\": {\"2\": 14, \"3\": 219, \"12\": 6, \"15\": 1}, \"6\": {\"4\": 29, \"7\": 56, \"6\": 148, \"13\": 3, \"0\": 3, \"14\": 1}, \"11\": {\"11\": 191, \"1\": 41, \"5\": 7, \"14\": 1}, \"8\": {\"8\": 231, \"15\": 9}, \"4\": {\"4\": 146, \"0\": 3, \"13\": 45, \"14\": 24, \"6\": 20, \"10\": 2}, \"12\": {\"12\": 119, \"15\": 75, \"3\": 41, \"8\": 4, \"2\": 1}, \"14\": {\"10\": 61, \"14\": 137, \"1\": 11, \"4\": 20, \"13\": 11}, \"2\": {\"2\": 201, \"3\": 27, \"12\": 2, \"7\": 7, \"15\": 3}, \"7\": {\"7\": 200, \"6\": 37, \"13\": 1, \"0\": 2}}, \"ORACLE.run1_50\": {\"7\": {\"7\": 147, \"10\": 24, \"13\": 48, \"5\": 19, \"6\": 2}, \"3\": {\"3\": 237, \"8\": 3}, \"8\": {\"8\": 227, \"10\": 11, \"3\": 2}, \"2\": {\"2\": 215, \"0\": 25}, \"14\": {\"14\": 239, \"12\": 1}, \"4\": {\"15\": 47, \"4\": 91, \"1\": 50, \"5\": 21, \"6\": 21, \"13\": 7, \"7\": 2, \"14\": 1}, \"6\": {\"6\": 165, \"15\": 1, \"4\": 16, \"2\": 2, \"13\": 30, \"1\": 13, \"5\": 9, \"0\": 2, \"7\": 2}, \"15\": {\"15\": 137, \"11\": 21, \"1\": 51, \"4\": 27, \"6\": 2, \"5\": 2}, \"10\": {\"10\": 213, \"13\": 6, \"8\": 8, \"0\": 7, \"7\": 6}, \"11\": {\"11\": 202, \"15\": 14, \"9\": 11, \"14\": 6, \"12\": 6, \"1\": 1}, \"13\": {\"13\": 128, \"5\": 42, \"7\": 43, \"6\": 19, \"10\": 5, \"0\": 3}, \"9\": {\"9\": 195, \"12\": 26, \"11\": 19}, \"0\": {\"0\": 192, \"10\": 15, \"2\": 31, \"13\": 1, \"6\": 1}, \"1\": {\"15\": 47, \"1\": 140, \"4\": 24, \"6\": 27, \"2\": 1, \"11\": 1}, \"12\": {\"14\": 9, \"12\": 217, \"9\": 11, \"11\": 3}, \"5\": {\"13\": 48, \"4\": 37, \"7\": 38, \"5\": 80, \"1\": 20, \"6\": 16, \"10\": 1}}, \"ORACLE.run1_32\": {\"8\": {\"13\": 26, \"0\": 24, \"8\": 162, \"5\": 21, \"14\": 2, \"7\": 2, \"3\": 3}, \"14\": {\"11\": 69, \"0\": 12, \"3\": 8, \"14\": 89, \"7\": 42, \"5\": 13, \"8\": 5, \"13\": 1, \"4\": 1}, \"2\": {\"2\": 195, \"4\": 42, \"0\": 1, \"7\": 2}, \"0\": {\"4\": 8, \"0\": 155, \"7\": 20, \"5\": 11, \"13\": 5, \"8\": 28, \"2\": 8, \"14\": 5}, \"1\": {\"1\": 239, \"10\": 1}, \"10\": {\"10\": 240}, \"11\": {\"11\": 174, \"14\": 38, \"5\": 6, \"7\": 19, \"3\": 3}, \"5\": {\"5\": 60, \"11\": 8, \"3\": 29, \"14\": 11, \"13\": 31, \"8\": 31, \"7\": 40, \"4\": 10, \"0\": 19, \"2\": 1}, \"15\": {\"15\": 237, \"8\": 2, \"3\": 1}, \"3\": {\"3\": 217, \"14\": 3, \"5\": 15, \"13\": 3, \"11\": 1, \"8\": 1}, \"12\": {\"12\": 240}, \"7\": {\"4\": 28, \"14\": 22, \"7\": 118, \"5\": 23, \"11\": 15, \"13\": 16, \"0\": 10, \"2\": 5, \"8\": 2, \"3\": 1}, \"13\": {\"13\": 134, \"8\": 19, \"4\": 26, \"0\": 7, \"5\": 31, \"7\": 11, \"11\": 4, \"3\": 8}, \"6\": {\"6\": 240}, \"4\": {\"4\": 151, \"7\": 15, \"2\": 54, \"0\": 8, \"13\": 8, \"5\": 3, \"8\": 1}, \"9\": {\"9\": 239, \"12\": 1}}, \"ORACLE.run1_26\": {\"4\": {\"4\": 94, \"14\": 50, \"1\": 19, \"7\": 8, \"8\": 33, \"0\": 31, \"10\": 5}, \"12\": {\"12\": 237, \"11\": 3}, \"10\": {\"1\": 3, \"0\": 54, \"10\": 93, \"8\": 36, \"14\": 27, \"4\": 4, \"6\": 19, \"9\": 3, \"15\": 1}, \"0\": {\"8\": 31, \"0\": 65, \"14\": 38, \"4\": 30, \"9\": 2, \"6\": 8, \"10\": 57, \"15\": 1, \"1\": 6, \"7\": 2}, \"13\": {\"13\": 154, \"5\": 45, \"15\": 19, \"6\": 5, \"9\": 13, \"2\": 4}, \"9\": {\"5\": 17, \"15\": 81, \"9\": 89, \"6\": 29, \"8\": 8, \"0\": 1, \"13\": 9, \"10\": 4, \"2\": 2}, \"3\": {\"3\": 153, \"2\": 59, \"7\": 25, \"4\": 1, \"5\": 1, \"8\": 1}, \"2\": {\"2\": 90, \"7\": 33, \"5\": 19, \"3\": 74, \"9\": 6, \"15\": 13, \"8\": 3, \"13\": 1, \"4\": 1}, \"5\": {\"2\": 13, \"5\": 169, \"15\": 26, \"9\": 13, \"13\": 16, \"3\": 1, \"7\": 2}, \"14\": {\"4\": 50, \"1\": 32, \"7\": 3, \"14\": 86, \"0\": 34, \"10\": 25, \"8\": 9, \"5\": 1}, \"8\": {\"8\": 105, \"7\": 26, \"4\": 17, \"14\": 11, \"6\": 7, \"10\": 33, \"0\": 20, \"15\": 8, \"3\": 1, \"9\": 8, \"2\": 1, \"5\": 1, \"1\": 2}, \"7\": {\"8\": 20, \"7\": 141, \"1\": 1, \"9\": 2, \"3\": 24, \"5\": 2, \"2\": 22, \"4\": 22, \"0\": 3, \"15\": 3}, \"6\": {\"6\": 194, \"8\": 3, \"4\": 1, \"10\": 18, \"15\": 9, \"9\": 13, \"0\": 1, \"13\": 1}, \"11\": {\"11\": 240}, \"15\": {\"15\": 89, \"6\": 7, \"9\": 76, \"8\": 16, \"13\": 21, \"0\": 1, \"5\": 17, \"7\": 2, \"2\": 5, \"10\": 6}, \"1\": {\"1\": 154, \"14\": 46, \"10\": 4, \"4\": 19, \"7\": 8, \"8\": 5, \"0\": 4}}, \"ORACLE.run1_44\": {\"12\": {\"12\": 181, \"1\": 44, \"10\": 15}, \"7\": {\"7\": 145, \"2\": 36, \"6\": 9, \"9\": 44, \"13\": 1, \"10\": 1, \"3\": 4}, \"5\": {\"5\": 174, \"15\": 15, \"0\": 29, \"14\": 12, \"4\": 2, \"8\": 8}, \"15\": {\"15\": 182, \"14\": 18, \"5\": 11, \"0\": 20, \"8\": 6, \"4\": 3}, \"8\": {\"0\": 76, \"8\": 148, \"15\": 11, \"5\": 5}, \"2\": {\"1\": 14, \"2\": 165, \"7\": 46, \"10\": 11, \"3\": 1, \"12\": 3}, \"13\": {\"13\": 151, \"6\": 38, \"9\": 35, \"11\": 14, \"4\": 1, \"7\": 1}, \"4\": {\"14\": 74, \"4\": 164, \"15\": 1, \"5\": 1}, \"0\": {\"8\": 77, \"5\": 24, \"0\": 131, \"15\": 8}, \"6\": {\"9\": 32, \"6\": 148, \"13\": 42, \"7\": 10, \"11\": 7, \"2\": 1}, \"9\": {\"13\": 30, \"7\": 44, \"9\": 134, \"6\": 26, \"2\": 4, \"1\": 1, \"3\": 1}, \"11\": {\"11\": 191, \"6\": 13, \"9\": 3, \"13\": 33}, \"10\": {\"1\": 32, \"10\": 160, \"12\": 35, \"2\": 12, \"3\": 1}, \"14\": {\"4\": 79, \"14\": 129, \"15\": 27, \"5\": 5}, \"1\": {\"3\": 26, \"1\": 114, \"12\": 69, \"10\": 18, \"2\": 13}, \"3\": {\"3\": 207, \"2\": 6, \"1\": 19, \"7\": 1, \"12\": 7}}, \"C_A_3\": {\"43\": {\"14\": 1, \"43\": 6, \"15\": 3, \"39\": 1, \"26\": 1}, \"9\": {\"9\": 6, \"32\": 2, \"29\": 3, \"34\": 1}, \"6\": {\"6\": 7, \"9\": 1, \"3\": 1, \"33\": 1}, \"3\": {\"9\": 2, \"3\": 4, \"46\": 1, \"20\": 1, \"18\": 1, \"30\": 2, \"35\": 1}, \"16\": {\"16\": 12}, \"51\": {\"51\": 12}, \"31\": {\"31\": 12}, \"46\": {\"46\": 5, \"57\": 1, \"52\": 2, \"50\": 1, \"3\": 1}, \"19\": {\"19\": 6, \"45\": 1, \"29\": 1}, \"8\": {\"8\": 12}, \"18\": {\"18\": 11, \"30\": 1}, \"37\": {\"37\": 12}, \"24\": {\"14\": 4, \"24\": 8}, \"10\": {\"10\": 10, \"24\": 1, \"14\": 1}, \"44\": {\"44\": 4, \"8\": 1, \"36\": 3, \"45\": 1, \"19\": 1}, \"14\": {\"24\": 1, \"37\": 2, \"55\": 1, \"14\": 2, \"35\": 2, \"10\": 1, \"5\": 2, \"28\": 1}, \"38\": {\"38\": 7, \"21\": 1, \"54\": 1, \"25\": 1}, \"53\": {\"53\": 10, \"51\": 1, \"2\": 1}, \"20\": {\"46\": 1, \"20\": 10, \"18\": 1}, \"32\": {\"32\": 12}, \"36\": {\"36\": 10}, \"33\": {\"33\": 11, \"6\": 1}, \"56\": {\"56\": 12}, \"23\": {\"23\": 12}, \"54\": {\"54\": 9, \"17\": 1}, \"34\": {\"34\": 10, \"41\": 2}, \"13\": {\"13\": 11, \"21\": 1}, \"2\": {\"53\": 2, \"2\": 10}, \"55\": {\"55\": 8, \"42\": 1, \"11\": 1}, \"21\": {\"21\": 8, \"8\": 1, \"20\": 1}, \"49\": {\"49\": 10}, \"25\": {\"25\": 11, \"20\": 1}, \"5\": {\"5\": 9, \"57\": 1, \"47\": 1, \"15\": 1}, \"50\": {\"18\": 1, \"50\": 6, \"3\": 1}, \"40\": {\"40\": 9, \"36\": 1, \"29\": 1, \"4\": 1}, \"57\": {\"57\": 8}, \"22\": {\"22\": 6, \"13\": 1, \"11\": 1, \"30\": 1, \"4\": 1}, \"1\": {\"1\": 7, \"40\": 1, \"4\": 1, \"35\": 1}, \"17\": {\"17\": 12}, \"41\": {\"41\": 12}, \"4\": {\"17\": 1, \"40\": 2, \"48\": 1, \"8\": 1, \"32\": 1, \"4\": 2, \"51\": 1, \"1\": 1}, \"7\": {\"7\": 10}, \"26\": {\"26\": 7, \"39\": 3}, \"29\": {\"36\": 2, \"29\": 7, \"48\": 1, \"9\": 2}, \"52\": {\"52\": 8, \"47\": 1, \"41\": 1, \"46\": 2}, \"15\": {\"15\": 12}, \"35\": {\"29\": 1, \"35\": 11}, \"42\": {\"42\": 9, \"48\": 1, \"15\": 1, \"41\": 1}, \"30\": {\"30\": 10}, \"27\": {\"27\": 8}, \"45\": {\"44\": 3, \"8\": 1, \"29\": 2, \"19\": 2, \"35\": 1, \"45\": 1}, \"0\": {\"0\": 12}, \"28\": {\"28\": 6, \"39\": 3, \"5\": 2, \"31\": 1}, \"47\": {\"47\": 9, \"0\": 1, \"5\": 2}, \"11\": {\"0\": 1, \"11\": 8, \"16\": 1}, \"39\": {\"26\": 1, \"39\": 9}, \"48\": {\"33\": 1, \"41\": 5, \"27\": 1, \"17\": 3, \"6\": 1, \"48\": 1}, \"12\": {\"12\": 8}}, \"C_A_4\": {\"35\": {\"35\": 9, \"33\": 1}, \"25\": {\"25\": 10, \"27\": 1, \"9\": 1}, \"24\": {\"38\": 1, \"14\": 1, \"32\": 1, \"24\": 4, \"43\": 3}, \"48\": {\"48\": 3, \"6\": 2, \"9\": 3, \"26\": 1, \"27\": 2, \"17\": 1}, \"51\": {\"51\": 10, \"21\": 1, \"53\": 1}, \"13\": {\"13\": 12}, \"14\": {\"35\": 2, \"34\": 1, \"39\": 1, \"14\": 2, \"10\": 1, \"2\": 1}, \"32\": {\"32\": 10, \"46\": 2}, \"30\": {\"30\": 11, \"21\": 1}, \"34\": {\"34\": 10}, \"9\": {\"48\": 2, \"9\": 6, \"4\": 1, \"27\": 1, \"30\": 1, \"28\": 1}, \"1\": {\"1\": 4, \"47\": 4, \"23\": 1, \"41\": 1, \"7\": 2}, \"0\": {\"0\": 12}, \"38\": {\"38\": 3, \"0\": 2, \"32\": 3, \"22\": 1, \"11\": 1, \"46\": 2}, \"22\": {\"24\": 1, \"14\": 1, \"11\": 1, \"22\": 2, \"49\": 1, \"46\": 1, \"38\": 1}, \"40\": {\"40\": 9, \"35\": 1, \"36\": 1, \"19\": 1}, \"39\": {\"39\": 11, \"41\": 1}, \"46\": {\"46\": 11, \"39\": 1}, \"36\": {\"36\": 12}, \"50\": {\"50\": 5, \"30\": 1, \"47\": 1, \"4\": 1, \"20\": 1, \"5\": 1, \"36\": 1, \"42\": 1}, \"49\": {\"49\": 11, \"7\": 1}, \"17\": {\"17\": 5, \"6\": 3, \"30\": 1, \"36\": 2, \"27\": 1}, \"45\": {\"45\": 6, \"50\": 3, \"36\": 1, \"17\": 1, \"48\": 1}, \"6\": {\"6\": 6, \"17\": 1, \"28\": 2, \"48\": 1, \"16\": 1, \"52\": 1}, \"8\": {\"8\": 10, \"30\": 2}, \"5\": {\"39\": 2, \"41\": 1, \"57\": 1, \"5\": 4, \"15\": 1, \"52\": 1}, \"33\": {\"33\": 9, \"31\": 1, \"5\": 2}, \"31\": {\"31\": 12}, \"37\": {\"37\": 10}, \"47\": {\"47\": 8}, \"15\": {\"15\": 8, \"0\": 2}, \"7\": {\"7\": 11, \"55\": 1}, \"20\": {\"20\": 12}, \"4\": {\"27\": 1, \"33\": 1, \"4\": 2, \"45\": 3, \"50\": 1, \"8\": 1, \"35\": 3}, \"54\": {\"54\": 12}, \"44\": {\"19\": 2, \"44\": 4, \"26\": 1, \"29\": 1, \"40\": 2, \"35\": 1, \"9\": 1}, \"3\": {\"34\": 1, \"54\": 2, \"26\": 1, \"3\": 4, \"18\": 1, \"36\": 1, \"52\": 1, \"51\": 1}, \"11\": {\"11\": 8, \"15\": 1, \"0\": 1}, \"27\": {\"27\": 10}, \"19\": {\"44\": 1, \"19\": 11}, \"55\": {\"55\": 9, \"16\": 1, \"15\": 2}, \"16\": {\"16\": 12}, \"2\": {\"2\": 7, \"24\": 2, \"49\": 1}, \"52\": {\"52\": 8, \"23\": 1, \"5\": 1}, \"42\": {\"42\": 8, \"41\": 1, \"25\": 1}, \"26\": {\"26\": 12}, \"10\": {\"10\": 10, \"2\": 2}, \"53\": {\"36\": 1, \"53\": 5, \"20\": 1, \"50\": 1, \"8\": 2}, \"28\": {\"57\": 1, \"36\": 1, \"28\": 8, \"16\": 1, \"5\": 1}, \"21\": {\"21\": 10}, \"57\": {\"57\": 10}, \"23\": {\"23\": 8}, \"43\": {\"0\": 4, \"43\": 6}, \"12\": {\"12\": 12}, \"41\": {\"41\": 10, \"39\": 2}, \"56\": {\"56\": 6, \"31\": 1, \"16\": 1}, \"18\": {\"18\": 10}, \"29\": {\"12\": 1, \"29\": 2, \"28\": 1, \"47\": 2, \"26\": 1, \"57\": 1}}, \"C_A_5\": {\"47\": {\"47\": 9, \"52\": 1}, \"53\": {\"53\": 12}, \"29\": {\"29\": 5, \"33\": 1, \"55\": 1, \"23\": 1, \"49\": 1, \"32\": 1, \"9\": 1, \"57\": 1}, \"52\": {\"52\": 10, \"16\": 1, \"46\": 1}, \"55\": {\"17\": 2, \"1\": 3, \"55\": 3, \"38\": 1, \"48\": 1, \"32\": 2}, \"17\": {\"17\": 9, \"30\": 2, \"38\": 1}, \"42\": {\"42\": 12}, \"33\": {\"33\": 10}, \"11\": {\"11\": 10, \"31\": 2}, \"19\": {\"4\": 1, \"19\": 6, \"9\": 1}, \"1\": {\"1\": 10, \"48\": 1, \"32\": 1}, \"44\": {\"44\": 8, \"42\": 1, \"5\": 1, \"40\": 1, \"31\": 1}, \"49\": {\"49\": 12}, \"4\": {\"29\": 1, \"4\": 7, \"8\": 1, \"1\": 2, \"40\": 1}, \"6\": {\"1\": 1, \"6\": 8, \"27\": 1, \"45\": 2}, \"39\": {\"39\": 12}, \"13\": {\"13\": 10, \"10\": 1, \"56\": 1}, \"5\": {\"5\": 5, \"4\": 1, \"42\": 1, \"40\": 1, \"3\": 1, \"25\": 1}, \"16\": {\"16\": 10}, \"25\": {\"25\": 12}, \"45\": {\"45\": 9, \"17\": 2, \"30\": 1}, \"7\": {\"7\": 9, \"53\": 1}, \"22\": {\"44\": 3, \"22\": 9}, \"40\": {\"40\": 8, \"42\": 1, \"9\": 1, \"32\": 1, \"34\": 1}, \"38\": {\"38\": 12}, \"35\": {\"35\": 8}, \"56\": {\"56\": 11, \"9\": 1}, \"50\": {\"17\": 1, \"50\": 3, \"42\": 1, \"28\": 1, \"3\": 1, \"18\": 2, \"53\": 1}, \"0\": {\"0\": 12}, \"10\": {\"10\": 12}, \"27\": {\"1\": 3, \"27\": 9}, \"20\": {\"53\": 3, \"21\": 1, \"20\": 6}, \"36\": {\"36\": 7, \"3\": 1}, \"34\": {\"34\": 12}, \"30\": {\"30\": 12}, \"2\": {\"2\": 10}, \"15\": {\"15\": 10, \"11\": 2}, \"18\": {\"18\": 12}, \"32\": {\"32\": 11, \"1\": 1}, \"31\": {\"31\": 12}, \"57\": {\"57\": 11, \"39\": 1}, \"48\": {\"45\": 2, \"30\": 2, \"32\": 1, \"9\": 1, \"48\": 2}, \"28\": {\"28\": 10}, \"14\": {\"11\": 1, \"39\": 2, \"35\": 1, \"25\": 2, \"41\": 1, \"37\": 2, \"0\": 2, \"43\": 1}, \"3\": {\"34\": 1, \"11\": 1, \"3\": 8, \"16\": 1, \"52\": 1}, \"8\": {\"8\": 12}, \"9\": {\"27\": 2, \"19\": 1, \"48\": 1, \"32\": 2, \"9\": 4, \"33\": 1, \"45\": 1}, \"21\": {\"21\": 10}, \"41\": {\"41\": 12}, \"24\": {\"24\": 10, \"0\": 1, \"31\": 1}, \"46\": {\"46\": 10}, \"43\": {\"43\": 9, \"11\": 1}, \"54\": {\"54\": 10}, \"23\": {\"23\": 10}, \"37\": {\"37\": 10}, \"12\": {\"12\": 9, \"32\": 1}, \"26\": {\"26\": 10}, \"51\": {\"51\": 6}}, \"W_A_3\": {\"109\": {\"21\": 2, \"105\": 3, \"55\": 2, \"126\": 1, \"13\": 1, \"82\": 1, \"109\": 2}, \"127\": {\"114\": 1, \"14\": 1, \"127\": 6, \"3\": 1, \"129\": 1, \"9\": 1, \"89\": 1}, \"14\": {\"14\": 4, \"84\": 2, \"114\": 1, \"40\": 1, \"93\": 2, \"117\": 1, \"86\": 1}, \"7\": {\"7\": 5, \"52\": 2, \"91\": 1, \"8\": 2, \"13\": 2}, \"129\": {\"14\": 2, \"129\": 6, \"80\": 1, \"93\": 2, \"114\": 1}, \"57\": {\"57\": 12}, \"84\": {\"114\": 2, \"84\": 4, \"32\": 2, \"99\": 2, \"82\": 1, \"107\": 1}, \"114\": {\"46\": 1, \"107\": 1, \"114\": 3, \"78\": 1, \"4\": 1, \"89\": 1, \"16\": 1, \"29\": 2, \"11\": 1}, \"44\": {\"84\": 1, \"46\": 2, \"78\": 2, \"103\": 1, \"28\": 1, \"2\": 1, \"99\": 1, \"44\": 1, \"40\": 1, \"29\": 1}, \"21\": {\"21\": 12}, \"46\": {\"44\": 1, \"107\": 2, \"123\": 1, \"46\": 3, \"39\": 2, \"16\": 1, \"102\": 1, \"84\": 1}, \"100\": {\"84\": 1, \"100\": 4, \"118\": 1, \"28\": 1, \"76\": 1, \"70\": 1, \"40\": 1, \"120\": 1, \"121\": 1}, \"63\": {\"109\": 1, \"24\": 1, \"105\": 3, \"89\": 1, \"27\": 1, \"63\": 1, \"10\": 1, \"62\": 1, \"75\": 1, \"81\": 1}, \"24\": {\"7\": 1, \"21\": 1, \"94\": 1, \"83\": 1, \"106\": 2, \"120\": 1, \"15\": 1, \"112\": 1, \"24\": 1, \"3\": 2}, \"107\": {\"129\": 1, \"21\": 1, \"55\": 2, \"107\": 2, \"100\": 1, \"69\": 1, \"26\": 1, \"84\": 1, \"122\": 1, \"64\": 1}, \"35\": {\"35\": 1, \"127\": 1, \"4\": 2, \"66\": 1, \"95\": 2, \"44\": 1, \"68\": 1, \"27\": 1}, \"81\": {\"57\": 1, \"105\": 2, \"18\": 1, \"81\": 2, \"93\": 1, \"118\": 1, \"21\": 1, \"62\": 1, \"84\": 1, \"65\": 1}, \"64\": {\"57\": 2, \"120\": 2, \"64\": 2, \"100\": 2, \"118\": 1, \"109\": 1, \"104\": 1, \"17\": 1}, \"59\": {\"34\": 1, \"59\": 11}, \"33\": {\"105\": 2, \"117\": 2, \"33\": 4, \"62\": 1, \"67\": 1, \"14\": 1, \"80\": 1}, \"34\": {\"34\": 7, \"15\": 1, \"67\": 1, \"39\": 1, \"98\": 1, \"63\": 1}, \"36\": {\"59\": 1, \"36\": 6, \"106\": 2, \"52\": 1, \"25\": 1, \"24\": 1}, \"79\": {\"79\": 3, \"33\": 1, \"45\": 1, \"9\": 2, \"107\": 1, \"104\": 1, \"20\": 2, \"14\": 1}, \"80\": {\"2\": 1, \"80\": 4, \"50\": 1, \"90\": 1, \"45\": 1, \"44\": 1, \"113\": 1, \"32\": 1, \"39\": 1}, \"77\": {\"57\": 1, \"77\": 5, \"23\": 1, \"121\": 1, \"28\": 1, \"99\": 1, \"119\": 1, \"115\": 1}, \"22\": {\"64\": 1, \"124\": 1, \"60\": 1, \"20\": 2, \"39\": 1, \"45\": 3, \"22\": 1, \"71\": 2}, \"124\": {\"124\": 10, \"96\": 1, \"85\": 1}, \"2\": {\"87\": 1, \"2\": 3, \"21\": 1, \"43\": 1, \"120\": 1, \"29\": 1, \"117\": 1, \"99\": 1, \"23\": 1, \"84\": 1}, \"87\": {\"105\": 2, \"79\": 1, \"80\": 2, \"55\": 1, \"5\": 1, \"23\": 1, \"87\": 3, \"129\": 1}, \"105\": {\"105\": 5, \"122\": 1, \"96\": 1, \"109\": 1, \"26\": 1, \"86\": 1, \"114\": 2}, \"95\": {\"85\": 1, \"95\": 7, \"60\": 1, \"66\": 2, \"71\": 1}, \"43\": {\"21\": 3, \"31\": 1, \"44\": 1, \"2\": 1, \"120\": 1, \"118\": 1, \"32\": 2, \"10\": 1, \"11\": 1}, \"56\": {\"110\": 1, \"86\": 1, \"56\": 5, \"48\": 1, \"9\": 1, \"108\": 1}, \"18\": {\"18\": 6, \"119\": 1, \"17\": 1, \"102\": 2, \"81\": 2}, \"85\": {\"8\": 1, \"85\": 4, \"29\": 1, \"41\": 1, \"89\": 1, \"68\": 1, \"5\": 2, \"114\": 1}, \"113\": {\"21\": 1, \"113\": 4, \"90\": 1, \"99\": 1, \"23\": 1, \"49\": 1, \"43\": 1, \"13\": 2}, \"97\": {\"97\": 9, \"101\": 1, \"98\": 1, \"7\": 1}, \"86\": {\"128\": 1, \"46\": 1, \"26\": 1, \"82\": 1, \"119\": 1, \"103\": 1, \"105\": 1, \"108\": 1, \"99\": 1, \"84\": 1, \"41\": 2}, \"128\": {\"21\": 2, \"23\": 3, \"99\": 1, \"128\": 3, \"100\": 1, \"120\": 1, \"32\": 1}, \"123\": {\"123\": 5, \"56\": 1, \"29\": 1, \"104\": 1, \"67\": 1, \"117\": 1, \"21\": 1, \"63\": 1}, \"8\": {\"85\": 1, \"128\": 1, \"8\": 4, \"12\": 1, \"91\": 1, \"7\": 1, \"41\": 1, \"42\": 1, \"120\": 1}, \"110\": {\"18\": 1, \"86\": 1, \"90\": 1, \"10\": 1, \"89\": 2, \"85\": 1, \"105\": 1, \"110\": 1, \"45\": 1, \"117\": 1, \"116\": 1}, \"126\": {\"21\": 2, \"43\": 1, \"120\": 2, \"109\": 2, \"57\": 2, \"99\": 2, \"50\": 1}, \"101\": {\"101\": 6, \"72\": 3, \"83\": 2, \"8\": 1}, \"115\": {\"115\": 4, \"44\": 1, \"90\": 2, \"128\": 1, \"119\": 1, \"45\": 1, \"77\": 1, \"74\": 1}, \"49\": {\"44\": 1, \"114\": 1, \"80\": 2, \"3\": 2, \"49\": 1, \"72\": 1, \"70\": 1, \"100\": 1, \"99\": 1, \"30\": 1}, \"45\": {\"78\": 1, \"115\": 3, \"23\": 1, \"45\": 5, \"39\": 1, \"2\": 1}, \"78\": {\"31\": 1, \"115\": 1, \"121\": 2, \"76\": 1, \"9\": 1, \"78\": 1, \"49\": 1, \"119\": 2, \"11\": 1, \"53\": 1}, \"65\": {\"65\": 8, \"118\": 1, \"95\": 1}, \"54\": {\"54\": 12}, \"31\": {\"31\": 4, \"48\": 1, \"57\": 1, \"90\": 2, \"76\": 2}, \"42\": {\"45\": 1, \"42\": 3, \"24\": 1, \"98\": 1, \"70\": 1, \"30\": 1, \"41\": 1, \"20\": 1, \"119\": 1, \"101\": 1}, \"68\": {\"68\": 6, \"43\": 1, \"52\": 2, \"86\": 1, \"4\": 2}, \"15\": {\"15\": 5, \"73\": 1, \"106\": 4, \"59\": 1, \"111\": 1}, \"69\": {\"69\": 10, \"93\": 2}, \"17\": {\"57\": 1, \"23\": 1, \"9\": 1, \"19\": 1, \"11\": 1, \"80\": 1, \"64\": 1, \"108\": 1, \"90\": 1, \"122\": 1}, \"73\": {\"73\": 10, \"15\": 1, \"37\": 1}, \"121\": {\"57\": 2, \"31\": 1, \"121\": 4, \"20\": 3, \"99\": 1, \"120\": 1}, \"102\": {\"69\": 1, \"102\": 6, \"18\": 2, \"1\": 1, \"118\": 1, \"29\": 1}, \"48\": {\"17\": 2, \"126\": 1, \"108\": 1, \"48\": 3, \"28\": 2, \"109\": 1, \"116\": 1, \"70\": 1}, \"23\": {\"57\": 2, \"90\": 1, \"28\": 1, \"99\": 2, \"105\": 1, \"23\": 2, \"61\": 1, \"120\": 2}, \"108\": {\"57\": 2, \"17\": 1, \"80\": 1, \"108\": 1, \"16\": 1, \"112\": 1, \"49\": 1, \"5\": 1, \"64\": 1, \"90\": 1, \"122\": 1}, \"53\": {\"53\": 8, \"96\": 1, \"89\": 2, \"104\": 1}, \"94\": {\"94\": 8, \"25\": 2}, \"41\": {\"53\": 1, \"23\": 1, \"41\": 6, \"90\": 1, \"85\": 1, \"103\": 1, \"45\": 1}, \"58\": {\"78\": 2, \"17\": 1, \"58\": 6, \"35\": 1, \"52\": 1, \"83\": 1}, \"29\": {\"121\": 1, \"116\": 1, \"81\": 2, \"84\": 1, \"29\": 1, \"123\": 1, \"118\": 1, \"119\": 2, \"102\": 2}, \"116\": {\"104\": 1, \"77\": 1, \"103\": 1, \"44\": 1, \"116\": 1, \"4\": 1, \"79\": 1, \"33\": 1, \"53\": 1, \"88\": 1, \"108\": 1, \"17\": 1}, \"60\": {\"47\": 2, \"48\": 1, \"60\": 2, \"124\": 1, \"128\": 1, \"35\": 1, \"32\": 1, \"34\": 1, \"108\": 1, \"64\": 1}, \"104\": {\"116\": 2, \"104\": 4, \"40\": 1, \"38\": 1, \"23\": 1, \"87\": 1, \"66\": 2}, \"106\": {\"106\": 9, \"98\": 1, \"27\": 1, \"51\": 1}, \"66\": {\"60\": 1, \"66\": 7, \"46\": 1, \"45\": 1, \"88\": 2}, \"47\": {\"123\": 1, \"47\": 6, \"4\": 3, \"56\": 2}, \"40\": {\"14\": 1, \"116\": 1, \"123\": 2, \"121\": 1, \"102\": 1, \"93\": 1, \"129\": 1, \"63\": 1, \"114\": 1, \"4\": 1, \"50\": 1}, \"82\": {\"123\": 1, \"40\": 1, \"82\": 5, \"128\": 1, \"1\": 2, \"62\": 2}, \"13\": {\"78\": 1, \"76\": 1, \"31\": 1, \"13\": 6, \"118\": 1, \"16\": 2}, \"19\": {\"9\": 1, \"19\": 3, \"128\": 1, \"103\": 1, \"100\": 1, \"28\": 1, \"118\": 1, \"108\": 2, \"45\": 1}, \"72\": {\"72\": 12}, \"9\": {\"67\": 1, \"19\": 1, \"109\": 1, \"89\": 3, \"79\": 1, \"9\": 1, \"23\": 2, \"114\": 2}, \"67\": {\"67\": 8, \"18\": 2, \"117\": 1, \"33\": 1}, \"11\": {\"76\": 2, \"13\": 3, \"119\": 2, \"80\": 2, \"84\": 1, \"2\": 1, \"88\": 1}, \"125\": {\"125\": 12}, \"76\": {\"19\": 1, \"76\": 4, \"28\": 1, \"78\": 1, \"31\": 1}, \"83\": {\"83\": 9, \"52\": 1, \"7\": 1, \"98\": 1}, \"74\": {\"119\": 1, \"54\": 1, \"74\": 6, \"99\": 1, \"57\": 1, \"76\": 2}, \"20\": {\"20\": 6, \"66\": 1, \"99\": 1, \"79\": 1, \"38\": 1, \"13\": 1, \"88\": 1}, \"119\": {\"119\": 8, \"128\": 1, \"92\": 1, \"109\": 2}, \"1\": {\"129\": 1, \"18\": 1, \"103\": 1, \"1\": 1, \"50\": 2, \"16\": 1, \"107\": 1, \"84\": 2, \"8\": 1, \"114\": 1}, \"16\": {\"18\": 2, \"48\": 2, \"126\": 1, \"67\": 1, \"26\": 2, \"84\": 1, \"99\": 1, \"16\": 1, \"63\": 1}, \"25\": {\"25\": 11, \"120\": 1}, \"90\": {\"45\": 1, \"115\": 1, \"31\": 3, \"90\": 2, \"20\": 1}, \"39\": {\"21\": 2, \"48\": 2, \"82\": 1, \"45\": 1, \"50\": 1, \"53\": 1, \"76\": 1, \"9\": 1, \"90\": 2}, \"28\": {\"28\": 11, \"108\": 1}, \"55\": {\"55\": 6, \"117\": 1, \"96\": 1, \"81\": 2, \"65\": 1, \"84\": 1}, \"117\": {\"117\": 8, \"70\": 1, \"93\": 1, \"85\": 1, \"2\": 1}, \"112\": {\"112\": 5, \"117\": 1, \"53\": 1, \"96\": 1, \"129\": 2, \"110\": 2}, \"38\": {\"104\": 1, \"74\": 1, \"38\": 4, \"60\": 1, \"64\": 1, \"33\": 1, \"123\": 1, \"103\": 1, \"87\": 1}, \"37\": {\"37\": 7, \"73\": 1, \"83\": 1, \"0\": 1, \"51\": 2}, \"120\": {\"120\": 9, \"31\": 2, \"40\": 1}, \"122\": {\"122\": 1, \"90\": 3, \"99\": 2, \"120\": 2, \"14\": 1, \"126\": 1, \"69\": 2}, \"50\": {\"5\": 2, \"114\": 1, \"50\": 3, \"1\": 2, \"92\": 2, \"53\": 2}, \"10\": {\"10\": 6, \"48\": 1, \"118\": 1, \"4\": 1, \"47\": 1, \"2\": 1, \"65\": 1}, \"5\": {\"5\": 3, \"122\": 1, \"9\": 1, \"55\": 1, \"82\": 1, \"84\": 1, \"117\": 1, \"66\": 1, \"107\": 1, \"69\": 1}, \"51\": {\"51\": 11, \"37\": 1}, \"3\": {\"48\": 2, \"28\": 2, \"3\": 1, \"116\": 1, \"58\": 1, \"39\": 1, \"65\": 2, \"108\": 1, \"52\": 1}, \"98\": {\"34\": 2, \"98\": 5, \"111\": 1, \"51\": 1, \"63\": 1, \"7\": 1, \"21\": 1}, \"70\": {\"48\": 1, \"39\": 1, \"126\": 2, \"4\": 1, \"88\": 1, \"23\": 1, \"1\": 1, \"28\": 1, \"78\": 1, \"112\": 1, \"70\": 1}, \"96\": {\"96\": 1, \"23\": 1, \"126\": 1, \"52\": 1, \"81\": 2, \"128\": 1, \"16\": 1, \"41\": 1, \"93\": 1, \"102\": 2}, \"12\": {\"12\": 7, \"5\": 2, \"30\": 1, \"0\": 2}, \"99\": {\"99\": 12}, \"52\": {\"8\": 2, \"7\": 2, \"52\": 5, \"47\": 1, \"21\": 1, \"76\": 1}, \"71\": {\"96\": 1, \"71\": 3, \"128\": 1, \"61\": 2, \"104\": 2, \"40\": 1, \"92\": 1, \"80\": 1}, \"89\": {\"89\": 8, \"26\": 1, \"62\": 1, \"9\": 1, \"69\": 1}, \"0\": {\"8\": 1, \"12\": 1, \"0\": 7, \"30\": 1, \"111\": 2}, \"4\": {\"109\": 1, \"4\": 3, \"114\": 2, \"118\": 1, \"10\": 1, \"32\": 1, \"121\": 1, \"120\": 1, \"50\": 1}, \"93\": {\"93\": 6, \"92\": 1, \"26\": 2, \"115\": 1, \"14\": 1, \"69\": 1}, \"6\": {\"6\": 7, \"73\": 1, \"36\": 1, \"34\": 1}, \"75\": {\"75\": 12}, \"62\": {\"62\": 5, \"93\": 1, \"26\": 1, \"64\": 1, \"69\": 1, \"114\": 1, \"10\": 1, \"63\": 1}, \"103\": {\"103\": 5, \"71\": 1, \"119\": 1, \"44\": 1, \"87\": 1, \"88\": 1, \"2\": 1, \"11\": 1}, \"30\": {\"91\": 2, \"6\": 1, \"36\": 1, \"19\": 1, \"3\": 2, \"86\": 1, \"30\": 3, \"65\": 1}, \"91\": {\"99\": 2, \"91\": 4, \"7\": 2, \"100\": 1, \"23\": 2, \"77\": 1}, \"27\": {\"72\": 2, \"97\": 1, \"27\": 6, \"111\": 1, \"24\": 1, \"13\": 1}, \"26\": {\"26\": 3, \"32\": 1, \"84\": 1, \"100\": 1, \"118\": 1, \"105\": 1, \"13\": 1, \"87\": 1, \"69\": 2}, \"61\": {\"71\": 1, \"61\": 6, \"92\": 1, \"81\": 1, \"26\": 1, \"44\": 1, \"116\": 1}, \"118\": {\"92\": 1, \"81\": 1, \"33\": 1, \"118\": 4, \"50\": 1, \"13\": 2, \"57\": 1, \"26\": 1}, \"92\": {\"120\": 4, \"92\": 2, \"88\": 1, \"50\": 1, \"118\": 2, \"119\": 2}, \"111\": {\"111\": 11, \"0\": 1}, \"32\": {\"32\": 5, \"44\": 1, \"118\": 2, \"121\": 1, \"57\": 1, \"120\": 1, \"100\": 1}, \"88\": {\"4\": 1, \"88\": 3, \"10\": 1, \"118\": 1, \"76\": 2, \"65\": 2}}, \"C_A_1\": {\"46\": {\"9\": 2, \"46\": 7, \"8\": 1, \"48\": 1, \"6\": 1}, \"16\": {\"16\": 12}, \"26\": {\"26\": 11, \"37\": 1}, \"10\": {\"10\": 10, \"28\": 1, \"24\": 1}, \"9\": {\"9\": 10}, \"28\": {\"10\": 3, \"52\": 1, \"28\": 7, \"24\": 1}, \"51\": {\"33\": 1, \"51\": 8, \"53\": 1, \"30\": 1, \"7\": 1}, \"1\": {\"42\": 1, \"1\": 4, \"8\": 1, \"7\": 2, \"5\": 2, \"57\": 2}, \"55\": {\"55\": 12}, \"27\": {\"27\": 6, \"28\": 1, \"39\": 1, \"24\": 2}, \"22\": {\"22\": 6, \"55\": 1, \"10\": 1, \"15\": 1, \"11\": 2, \"21\": 1}, \"52\": {\"52\": 7, \"28\": 1, \"11\": 3, \"22\": 1}, \"3\": {\"3\": 8, \"57\": 1, \"36\": 1, \"13\": 2}, \"33\": {\"33\": 8}, \"47\": {\"47\": 10, \"1\": 1, \"35\": 1}, \"42\": {\"42\": 12}, \"12\": {\"12\": 4}, \"23\": {\"23\": 12}, \"49\": {\"23\": 2, \"49\": 5, \"21\": 1, \"44\": 1, \"0\": 1}, \"7\": {\"7\": 12}, \"4\": {\"4\": 9, \"50\": 1, \"40\": 1, \"53\": 1}, \"50\": {\"50\": 12}, \"19\": {\"9\": 2, \"56\": 1, \"19\": 6, \"5\": 1, \"1\": 1, \"6\": 1}, \"11\": {\"11\": 10, \"15\": 2}, \"31\": {\"23\": 2, \"31\": 8}, \"41\": {\"41\": 12}, \"56\": {\"9\": 1, \"33\": 1, \"19\": 2, \"56\": 2, \"8\": 1, \"7\": 1, \"45\": 2}, \"0\": {\"0\": 9, \"23\": 1, \"32\": 1, \"21\": 1}, \"57\": {\"19\": 3, \"57\": 4, \"1\": 3, \"42\": 2}, \"53\": {\"53\": 12}, \"43\": {\"43\": 12}, \"37\": {\"37\": 12}, \"2\": {\"2\": 8}, \"6\": {\"6\": 11, \"48\": 1}, \"18\": {\"18\": 12}, \"38\": {\"38\": 11, \"23\": 1}, \"15\": {\"23\": 4, \"15\": 4, \"38\": 2, \"0\": 1, \"32\": 1}, \"36\": {\"36\": 10, \"16\": 2}, \"39\": {\"39\": 6, \"28\": 1, \"10\": 1}, \"44\": {\"53\": 1, \"56\": 1, \"44\": 4, \"19\": 1, \"35\": 1, \"1\": 2, \"7\": 1, \"16\": 1}, \"8\": {\"8\": 12}, \"17\": {\"17\": 10}, \"5\": {\"5\": 6, \"6\": 1, \"2\": 2, \"30\": 3}, \"13\": {\"13\": 10}, \"40\": {\"7\": 1, \"40\": 7, \"4\": 1, \"1\": 1}, \"29\": {\"3\": 1, \"57\": 2, \"8\": 2, \"49\": 1, \"29\": 3, \"34\": 1, \"45\": 1, \"53\": 1}, \"48\": {\"48\": 12}, \"32\": {\"32\": 12}, \"30\": {\"30\": 12}, \"35\": {\"1\": 2, \"35\": 7, \"44\": 1, \"5\": 2}, \"25\": {\"25\": 11, \"14\": 1}, \"14\": {\"8\": 2, \"51\": 3, \"41\": 3, \"13\": 2, \"14\": 1, \"30\": 1}, \"54\": {\"54\": 10}, \"20\": {\"20\": 8}, \"21\": {\"21\": 10}, \"45\": {\"45\": 5, \"57\": 1, \"34\": 1, \"42\": 1}, \"24\": {\"24\": 8}, \"34\": {\"34\": 8}}, \"W_A_4\": {\"28\": {\"28\": 5, \"14\": 1, \"61\": 2, \"60\": 1, \"33\": 1, \"18\": 1, \"72\": 1}, \"4\": {\"114\": 1, \"4\": 3, \"63\": 1, \"122\": 1, \"1\": 1, \"50\": 2, \"86\": 1, \"123\": 1, \"69\": 1}, \"72\": {\"108\": 1, \"43\": 1, \"57\": 2, \"84\": 1, \"46\": 2, \"2\": 1, \"70\": 1, \"72\": 1, \"115\": 1, \"100\": 1}, \"111\": {\"111\": 8, \"12\": 2, \"30\": 1, \"51\": 1}, \"108\": {\"90\": 1, \"11\": 1, \"57\": 1, \"102\": 1, \"108\": 2, \"7\": 1, \"121\": 1, \"74\": 1, \"64\": 1, \"119\": 2}, \"43\": {\"90\": 1, \"114\": 1, \"57\": 1, \"115\": 1, \"100\": 1, \"105\": 1, \"84\": 1, \"79\": 1, \"99\": 1, \"43\": 1}, \"96\": {\"28\": 3, \"31\": 1, \"124\": 1, \"89\": 1, \"33\": 1, \"96\": 2, \"83\": 1, \"60\": 1, \"43\": 1}, \"89\": {\"28\": 1, \"11\": 1, \"57\": 1, \"89\": 3, \"96\": 1, \"22\": 1, \"35\": 1, \"48\": 1, \"60\": 1, \"107\": 1}, \"31\": {\"31\": 5, \"28\": 1, \"90\": 1, \"104\": 1, \"56\": 1, \"50\": 1, \"4\": 1, \"65\": 1}, \"45\": {\"45\": 8, \"74\": 3, \"90\": 1}, \"2\": {\"14\": 1, \"108\": 1, \"55\": 1, \"2\": 3, \"119\": 2, \"74\": 1, \"21\": 1, \"44\": 1, \"42\": 1}, \"114\": {\"14\": 1, \"114\": 4, \"40\": 1, \"44\": 2, \"96\": 1, \"33\": 2, \"1\": 1}, \"11\": {\"90\": 1, \"4\": 1, \"63\": 1, \"11\": 1, \"28\": 1, \"57\": 1, \"122\": 1, \"39\": 1, \"118\": 1, \"102\": 1, \"119\": 1, \"26\": 1}, \"12\": {\"111\": 2, \"10\": 1, \"12\": 6, \"29\": 1, \"51\": 2}, \"14\": {\"2\": 1, \"28\": 1, \"14\": 1, \"61\": 1, \"8\": 1, \"19\": 1, \"7\": 2, \"79\": 1, \"5\": 1, \"93\": 1, \"108\": 1}, \"90\": {\"90\": 3, \"45\": 2, \"60\": 1, \"100\": 1, \"66\": 2, \"22\": 2, \"48\": 1}, \"10\": {\"64\": 1, \"10\": 2, \"128\": 2, \"24\": 1, \"34\": 1, \"59\": 1, \"94\": 1, \"6\": 1, \"119\": 2}, \"63\": {\"64\": 1, \"63\": 9, \"70\": 1, \"122\": 1}, \"85\": {\"85\": 11, \"64\": 1}, \"64\": {\"64\": 8, \"37\": 1, \"13\": 1, \"128\": 1, \"120\": 1}, \"82\": {\"82\": 3, \"122\": 1, \"62\": 1, \"16\": 2, \"63\": 1, \"74\": 1, \"115\": 2, \"114\": 1}, \"58\": {\"58\": 12}, \"3\": {\"63\": 1, \"82\": 1, \"116\": 1, \"11\": 1, \"44\": 1, \"17\": 1, \"71\": 1, \"87\": 1, \"49\": 2, \"5\": 1, \"80\": 1}, \"54\": {\"54\": 12}, \"121\": {\"64\": 3, \"99\": 2, \"108\": 1, \"110\": 1, \"74\": 2, \"37\": 1, \"121\": 1, \"38\": 1}, \"42\": {\"121\": 2, \"42\": 4, \"5\": 1, \"2\": 1, \"72\": 1, \"61\": 1, \"120\": 1, \"23\": 1}, \"98\": {\"98\": 6, \"58\": 1, \"34\": 2, \"12\": 1, \"29\": 1, \"77\": 1}, \"123\": {\"123\": 2, \"3\": 1, \"92\": 1, \"16\": 1, \"109\": 1, \"108\": 1, \"120\": 1, \"49\": 1, \"116\": 1, \"81\": 1, \"1\": 1}, \"91\": {\"58\": 1, \"54\": 1, \"12\": 1, \"91\": 1, \"37\": 2, \"74\": 1, \"108\": 1, \"99\": 4}, \"66\": {\"57\": 4, \"65\": 1, \"66\": 2, \"119\": 2, \"20\": 1, \"90\": 1, \"48\": 1}, \"102\": {\"102\": 3, \"72\": 1, \"109\": 2, \"128\": 1, \"39\": 1, \"73\": 1, \"74\": 1, \"17\": 1, \"118\": 1}, \"122\": {\"102\": 1, \"1\": 1, \"88\": 2, \"104\": 1, \"74\": 1, \"18\": 1, \"100\": 1, \"63\": 2, \"43\": 1, \"99\": 1}, \"1\": {\"1\": 6, \"82\": 1, \"117\": 1, \"114\": 1, \"93\": 1, \"118\": 1, \"35\": 1}, \"15\": {\"68\": 1, \"125\": 1, \"9\": 1, \"53\": 1, \"15\": 5, \"52\": 1, \"111\": 1, \"6\": 1}, \"97\": {\"57\": 1, \"68\": 1, \"54\": 1, \"9\": 1, \"59\": 2, \"74\": 1, \"97\": 2, \"52\": 1, \"47\": 1, \"100\": 1}, \"75\": {\"75\": 12}, \"95\": {\"95\": 6, \"122\": 1, \"32\": 1, \"87\": 1, \"80\": 1, \"86\": 1, \"110\": 1}, \"57\": {\"57\": 9, \"88\": 1, \"99\": 1, \"66\": 1}, \"68\": {\"68\": 8, \"127\": 1, \"92\": 1, \"103\": 1, \"95\": 1}, \"125\": {\"125\": 11, \"98\": 1}, \"62\": {\"102\": 2, \"87\": 1, \"79\": 1, \"114\": 1, \"105\": 1, \"107\": 2, \"62\": 2}, \"27\": {\"99\": 3, \"27\": 3, \"21\": 1, \"74\": 1, \"101\": 1, \"7\": 2, \"100\": 1}, \"120\": {\"120\": 12}, \"26\": {\"63\": 2, \"26\": 5, \"113\": 1, \"88\": 1, \"13\": 1, \"118\": 1, \"76\": 1}, \"55\": {\"46\": 1, \"91\": 1, \"13\": 1, \"55\": 4, \"110\": 1, \"40\": 1, \"118\": 1, \"84\": 1, \"81\": 1}, \"71\": {\"84\": 1, \"26\": 1, \"71\": 3, \"5\": 1, \"19\": 1, \"88\": 1, \"67\": 1, \"14\": 1, \"42\": 1, \"63\": 1}, \"22\": {\"13\": 1, \"22\": 9, \"38\": 1, \"84\": 1}, \"99\": {\"99\": 9, \"128\": 1, \"21\": 1, \"43\": 1}, \"84\": {\"63\": 1, \"71\": 1, \"120\": 1, \"40\": 1, \"81\": 1, \"67\": 1, \"107\": 1, \"39\": 1, \"118\": 1, \"84\": 1, \"122\": 1, \"18\": 1}, \"37\": {\"37\": 7, \"120\": 1, \"128\": 1, \"100\": 2, \"8\": 1}, \"83\": {\"55\": 1, \"83\": 4, \"40\": 1, \"1\": 1, \"118\": 1, \"19\": 1, \"105\": 1, \"22\": 1, \"5\": 1}, \"46\": {\"55\": 1, \"71\": 1, \"46\": 3, \"60\": 1, \"13\": 1, \"67\": 2, \"72\": 1, \"109\": 1, \"57\": 1}, \"35\": {\"71\": 1, \"91\": 1, \"117\": 1, \"28\": 1, \"35\": 1, \"26\": 1, \"13\": 1, \"92\": 1, \"78\": 1, \"33\": 1, \"89\": 1, \"110\": 1}, \"13\": {\"13\": 7, \"99\": 1, \"2\": 1, \"120\": 1, \"19\": 1, \"32\": 1}, \"53\": {\"53\": 8, \"127\": 2, \"57\": 1, \"21\": 1}, \"127\": {\"53\": 3, \"127\": 8, \"101\": 1}, \"69\": {\"57\": 1, \"69\": 9, \"50\": 1, \"78\": 1}, \"48\": {\"57\": 1, \"48\": 2, \"17\": 1, \"126\": 1, \"22\": 1, \"108\": 1, \"21\": 1, \"20\": 1, \"66\": 1, \"38\": 1, \"85\": 1}, \"16\": {\"16\": 6, \"5\": 1, \"7\": 1, \"104\": 1, \"14\": 1, \"1\": 2}, \"0\": {\"53\": 1, \"57\": 1, \"119\": 2, \"85\": 1, \"120\": 2, \"0\": 3, \"7\": 1, \"23\": 1}, \"8\": {\"57\": 2, \"88\": 1, \"8\": 2, \"119\": 1, \"42\": 1, \"21\": 2, \"82\": 1, \"92\": 1, \"100\": 1}, \"9\": {\"9\": 7, \"98\": 1, \"106\": 2, \"30\": 1, \"95\": 1}, \"115\": {\"57\": 1, \"115\": 3, \"70\": 1, \"67\": 1, \"78\": 1, \"74\": 1, \"105\": 1, \"14\": 2, \"128\": 1}, \"70\": {\"115\": 1, \"70\": 2, \"78\": 3, \"100\": 2, \"8\": 1, \"68\": 1, \"43\": 1, \"118\": 1}, \"119\": {\"70\": 1, \"119\": 9, \"115\": 1, \"57\": 1}, \"59\": {\"59\": 7, \"97\": 2, \"34\": 1, \"47\": 2}, \"52\": {\"95\": 1, \"68\": 1, \"52\": 4, \"28\": 1, \"113\": 1, \"13\": 1, \"128\": 1, \"110\": 1, \"48\": 1}, \"60\": {\"60\": 3, \"70\": 1, \"128\": 1, \"99\": 2, \"100\": 1, \"33\": 1, \"89\": 2, \"113\": 1}, \"44\": {\"115\": 1, \"44\": 8, \"74\": 1, \"2\": 1, \"66\": 1}, \"51\": {\"51\": 8, \"70\": 1, \"24\": 1, \"47\": 1, \"6\": 1}, \"6\": {\"15\": 1, \"59\": 2, \"6\": 7, \"34\": 1, \"94\": 1}, \"73\": {\"63\": 2, \"73\": 3, \"129\": 1, \"126\": 1, \"5\": 1, \"4\": 2, \"31\": 2}, \"78\": {\"63\": 1, \"78\": 2, \"128\": 2, \"55\": 1, \"66\": 2, \"0\": 2, \"102\": 2}, \"92\": {\"104\": 3, \"5\": 2, \"92\": 3, \"13\": 1, \"61\": 1, \"123\": 1, \"1\": 1}, \"20\": {\"19\": 1, \"78\": 1, \"128\": 2, \"39\": 1, \"80\": 2, \"32\": 1, \"20\": 3, \"126\": 1}, \"17\": {\"17\": 5, \"73\": 1, \"44\": 5, \"81\": 1}, \"74\": {\"45\": 2, \"74\": 7, \"17\": 1, \"70\": 2}, \"19\": {\"63\": 1, \"73\": 1, \"19\": 2, \"45\": 1, \"118\": 1, \"71\": 1, \"87\": 2, \"62\": 2, \"67\": 1}, \"50\": {\"69\": 1, \"50\": 3, \"129\": 1, \"118\": 1, \"71\": 1, \"26\": 1, \"102\": 2, \"93\": 2}, \"34\": {\"63\": 1, \"104\": 1, \"59\": 2, \"34\": 4, \"6\": 2, \"15\": 1, \"92\": 1}, \"104\": {\"104\": 4, \"63\": 1, \"102\": 1, \"14\": 2}, \"33\": {\"5\": 2, \"33\": 3, \"104\": 1, \"114\": 1, \"19\": 1, \"84\": 1, \"43\": 1, \"35\": 1, \"1\": 1}, \"5\": {\"5\": 6, \"16\": 1, \"109\": 2, \"107\": 1, \"105\": 1, \"55\": 1}, \"7\": {\"7\": 4, \"41\": 1, \"108\": 1, \"100\": 4, \"42\": 1, \"120\": 1}, \"29\": {\"29\": 8, \"98\": 3, \"85\": 1}, \"25\": {\"75\": 1, \"25\": 10, \"36\": 1}, \"124\": {\"92\": 1, \"124\": 10, \"89\": 1}, \"117\": {\"57\": 1, \"117\": 2, \"45\": 1, \"40\": 1, \"26\": 2, \"114\": 2, \"64\": 2, \"31\": 1}, \"88\": {\"57\": 2, \"45\": 2, \"88\": 2, \"7\": 2, \"119\": 2, \"78\": 1, \"113\": 1}, \"61\": {\"116\": 2, \"57\": 1, \"61\": 7, \"71\": 1, \"13\": 1}, \"86\": {\"1\": 1, \"124\": 1, \"86\": 5, \"60\": 1, \"27\": 1, \"82\": 1, \"4\": 1, \"31\": 1}, \"116\": {\"61\": 5, \"18\": 1, \"32\": 1, \"99\": 1, \"20\": 1, \"4\": 1, \"69\": 1, \"123\": 1}, \"24\": {\"24\": 5, \"111\": 1, \"54\": 2, \"99\": 1, \"25\": 1, \"36\": 2}, \"128\": {\"14\": 1, \"60\": 1, \"128\": 4, \"21\": 1, \"107\": 1, \"20\": 2, \"115\": 1, \"99\": 1}, \"101\": {\"101\": 8, \"86\": 1, \"12\": 1, \"91\": 1, \"127\": 1}, \"65\": {\"66\": 2, \"38\": 2, \"65\": 5, \"0\": 1}, \"36\": {\"24\": 1, \"10\": 1, \"36\": 8, \"101\": 1, \"51\": 1}, \"21\": {\"21\": 12}, \"106\": {\"9\": 3, \"106\": 5, \"41\": 1, \"29\": 2, \"95\": 1}, \"118\": {\"2\": 1, \"118\": 1, \"88\": 1, \"71\": 1, \"100\": 1, \"113\": 2, \"1\": 2, \"110\": 1, \"65\": 1, \"109\": 1}, \"113\": {\"45\": 2, \"44\": 1, \"74\": 1, \"21\": 1, \"100\": 3, \"120\": 1, \"90\": 1, \"78\": 1, \"102\": 1}, \"40\": {\"19\": 1, \"40\": 4, \"84\": 1, \"18\": 1, \"109\": 1, \"73\": 1, \"55\": 1, \"69\": 1, \"44\": 1}, \"93\": {\"31\": 1, \"40\": 1, \"87\": 2, \"109\": 1, \"108\": 1, \"93\": 1, \"104\": 1}, \"94\": {\"94\": 7, \"34\": 1, \"36\": 1, \"6\": 2, \"10\": 1}, \"103\": {\"35\": 2, \"86\": 2, \"103\": 3, \"74\": 1, \"13\": 1, \"4\": 1, \"24\": 1, \"129\": 1}, \"110\": {\"8\": 1, \"35\": 1, \"87\": 1, \"78\": 1, \"40\": 1, \"108\": 1, \"110\": 2, \"128\": 1, \"62\": 1, \"66\": 1, \"119\": 1}, \"56\": {\"56\": 3, \"92\": 1, \"50\": 1, \"87\": 1, \"31\": 2, \"96\": 2, \"4\": 1, \"61\": 1}, \"39\": {\"119\": 1, \"39\": 1, \"78\": 1, \"110\": 1, \"100\": 1, \"107\": 1, \"66\": 1, \"21\": 1, \"11\": 1, \"43\": 1, \"113\": 1, \"88\": 1}, \"109\": {\"119\": 3, \"104\": 1, \"108\": 1, \"40\": 1, \"32\": 1, \"18\": 1, \"109\": 2, \"93\": 1, \"14\": 1}, \"67\": {\"74\": 2, \"67\": 2, \"76\": 1, \"39\": 2, \"21\": 1, \"7\": 1, \"16\": 1, \"128\": 1, \"40\": 1}, \"129\": {\"126\": 1, \"3\": 2, \"129\": 3, \"18\": 2, \"69\": 2, \"14\": 1, \"93\": 1}, \"30\": {\"30\": 6, \"111\": 1, \"47\": 1, \"9\": 1, \"28\": 1, \"15\": 2}, \"126\": {\"17\": 1, \"113\": 1, \"18\": 1, \"32\": 2, \"62\": 1, \"126\": 1, \"80\": 1, \"74\": 2, \"26\": 1, \"119\": 1}, \"87\": {\"21\": 1, \"81\": 1, \"78\": 2, \"32\": 1, \"87\": 1, \"31\": 2, \"13\": 1, \"0\": 1, \"1\": 1, \"76\": 1}, \"112\": {\"118\": 1, \"79\": 3, \"129\": 1, \"112\": 3, \"105\": 1, \"62\": 1, \"114\": 1, \"44\": 1}, \"100\": {\"100\": 11, \"99\": 1}, \"79\": {\"79\": 7, \"56\": 1, \"92\": 2}, \"81\": {\"118\": 1, \"81\": 3, \"99\": 1, \"67\": 1, \"73\": 2, \"40\": 1, \"64\": 1, \"129\": 1, \"69\": 1}, \"76\": {\"100\": 1, \"76\": 3, \"32\": 2, \"99\": 1, \"45\": 1, \"119\": 2}, \"47\": {\"47\": 11, \"100\": 1}, \"77\": {\"77\": 12}, \"23\": {\"120\": 2, \"0\": 1, \"23\": 1, \"108\": 1, \"41\": 1, \"32\": 1, \"128\": 1, \"82\": 1, \"64\": 1, \"21\": 1, \"49\": 1}, \"18\": {\"18\": 12}, \"49\": {\"49\": 4, \"46\": 1, \"48\": 2, \"80\": 1, \"100\": 1, \"3\": 1, \"73\": 1, \"0\": 1}, \"41\": {\"99\": 1, \"27\": 1, \"7\": 1, \"125\": 1, \"41\": 2, \"32\": 1, \"21\": 2, \"111\": 1, \"64\": 1, \"120\": 1}, \"32\": {\"67\": 1, \"78\": 3, \"32\": 5, \"72\": 1, \"119\": 2}, \"107\": {\"18\": 2, \"102\": 1, \"87\": 2, \"39\": 1, \"2\": 1, \"122\": 1, \"107\": 1, \"74\": 1}, \"80\": {\"43\": 1, \"80\": 6, \"126\": 1, \"62\": 2, \"2\": 1, \"64\": 1}, \"105\": {\"105\": 3, \"107\": 1, \"87\": 1, \"62\": 1, \"112\": 1, \"114\": 1, \"120\": 1, \"113\": 1}, \"38\": {\"32\": 2, \"105\": 1, \"61\": 1, \"38\": 2, \"128\": 1, \"110\": 1, \"66\": 2}}, \"W_A_1\": {\"108\": {\"57\": 2, \"108\": 1, \"107\": 1, \"20\": 1, \"35\": 1, \"48\": 2, \"11\": 2}, \"40\": {\"26\": 1, \"64\": 1, \"46\": 1, \"14\": 1, \"40\": 2, \"55\": 1, \"69\": 1, \"33\": 1, \"5\": 1, \"105\": 2}, \"68\": {\"68\": 10, \"32\": 1, \"0\": 1}, \"23\": {\"23\": 3, \"64\": 1, \"16\": 1, \"7\": 1, \"76\": 1, \"56\": 1, \"80\": 1, \"2\": 1, \"120\": 2}, \"26\": {\"57\": 1, \"64\": 1, \"62\": 2, \"103\": 1, \"102\": 2, \"26\": 4, \"115\": 1}, \"64\": {\"57\": 1, \"64\": 3, \"65\": 1, \"13\": 1, \"41\": 1, \"48\": 1, \"80\": 1, \"2\": 1, \"50\": 2}, \"22\": {\"22\": 7, \"19\": 1, \"61\": 1, \"57\": 1, \"16\": 1, \"45\": 1}, \"3\": {\"102\": 2, \"18\": 1, \"19\": 1, \"3\": 6, \"2\": 2}, \"4\": {\"40\": 2, \"4\": 6, \"84\": 1, \"96\": 1, \"1\": 1, \"86\": 1}, \"70\": {\"57\": 1, \"22\": 1, \"76\": 1, \"70\": 2, \"35\": 1, \"118\": 1, \"21\": 1, \"7\": 1, \"11\": 1, \"63\": 1, \"38\": 1}, \"57\": {\"57\": 12}, \"79\": {\"79\": 6, \"22\": 1, \"95\": 1, \"116\": 1, \"124\": 1, \"29\": 1, \"38\": 1}, \"9\": {\"89\": 2, \"73\": 2, \"25\": 1, \"9\": 4, \"47\": 1, \"124\": 2}, \"89\": {\"9\": 2, \"89\": 9, \"25\": 1}, \"110\": {\"89\": 3, \"99\": 1, \"124\": 1, \"33\": 1, \"110\": 4, \"40\": 1, \"114\": 1}, \"102\": {\"26\": 2, \"33\": 1, \"62\": 1, \"14\": 1, \"102\": 4, \"39\": 1, \"69\": 1, \"19\": 1}, \"31\": {\"57\": 2, \"45\": 1, \"76\": 1, \"2\": 1, \"61\": 1, \"31\": 2, \"41\": 2, \"65\": 2}, \"58\": {\"58\": 10, \"38\": 1, \"96\": 1}, \"47\": {\"47\": 12}, \"24\": {\"52\": 2, \"58\": 1, \"22\": 1, \"34\": 1, \"48\": 1, \"30\": 1, \"97\": 1, \"24\": 1, \"0\": 1, \"103\": 1, \"83\": 1}, \"19\": {\"19\": 2, \"115\": 1, \"50\": 1, \"3\": 1, \"100\": 1, \"80\": 1, \"87\": 2, \"16\": 2, \"128\": 1}, \"11\": {\"57\": 2, \"41\": 1, \"11\": 4, \"21\": 2, \"90\": 1, \"86\": 2}, \"52\": {\"52\": 12}, \"17\": {\"115\": 1, \"25\": 2, \"17\": 6, \"19\": 1, \"3\": 1, \"18\": 1}, \"25\": {\"25\": 4, \"69\": 1, \"87\": 1, \"39\": 1, \"72\": 1, \"109\": 1, \"123\": 1, \"107\": 1, \"1\": 1}, \"69\": {\"69\": 3, \"118\": 3, \"86\": 1, \"43\": 2, \"78\": 2, \"1\": 1}, \"96\": {\"47\": 1, \"57\": 1, \"96\": 2, \"7\": 1, \"16\": 1, \"123\": 2, \"64\": 1, \"48\": 1, \"79\": 1, \"95\": 1}, \"109\": {\"25\": 1, \"57\": 1, \"61\": 1, \"109\": 2, \"73\": 2, \"76\": 1, \"104\": 1, \"1\": 1, \"41\": 2}, \"115\": {\"17\": 1, \"57\": 1, \"122\": 2, \"3\": 1, \"115\": 3, \"109\": 1, \"38\": 1, \"114\": 1, \"48\": 1}, \"83\": {\"17\": 1, \"25\": 1, \"42\": 2, \"116\": 1, \"91\": 1, \"1\": 1, \"106\": 1, \"83\": 1, \"104\": 1, \"103\": 1, \"65\": 1}, \"84\": {\"16\": 2, \"1\": 1, \"11\": 1, \"84\": 3, \"63\": 1, \"69\": 1, \"100\": 2, \"23\": 1}, \"119\": {\"7\": 2, \"23\": 1, \"39\": 1, \"119\": 3, \"11\": 1, \"2\": 1, \"65\": 1}, \"122\": {\"16\": 1, \"84\": 1, \"100\": 1, \"65\": 2, \"105\": 1, \"120\": 1, \"76\": 1, \"122\": 1, \"14\": 1}, \"99\": {\"99\": 6, \"16\": 1, \"64\": 1, \"119\": 1, \"28\": 1, \"122\": 2}, \"1\": {\"16\": 1, \"1\": 5, \"19\": 1, \"100\": 1, \"39\": 1, \"25\": 1, \"99\": 1, \"62\": 1}, \"74\": {\"119\": 1, \"7\": 1, \"74\": 5, \"61\": 1, \"48\": 1, \"120\": 2, \"21\": 1}, \"85\": {\"85\": 8, \"89\": 1, \"46\": 1, \"38\": 1, \"70\": 1}, \"127\": {\"111\": 2, \"127\": 10}, \"111\": {\"127\": 1, \"111\": 11}, \"53\": {\"53\": 12}, \"88\": {\"85\": 2, \"36\": 4, \"88\": 2, \"3\": 1, \"75\": 2, \"92\": 1}, \"65\": {\"23\": 1, \"119\": 1, \"65\": 4, \"86\": 2, \"13\": 1, \"50\": 1}, \"7\": {\"7\": 6, \"122\": 1, \"41\": 2, \"21\": 2, \"67\": 1}, \"16\": {\"1\": 2, \"115\": 1, \"120\": 1, \"16\": 3, \"48\": 1, \"33\": 1, \"102\": 1, \"100\": 2}, \"128\": {\"17\": 1, \"28\": 2, \"45\": 1, \"105\": 1, \"48\": 2, \"8\": 2, \"63\": 1, \"21\": 1, \"61\": 1}, \"34\": {\"92\": 2, \"17\": 1, \"98\": 1, \"75\": 1, \"70\": 1, \"93\": 1, \"64\": 1, \"68\": 1, \"34\": 1, \"5\": 1, \"84\": 1}, \"129\": {\"43\": 2, \"33\": 2, \"129\": 5, \"61\": 1, \"102\": 2}, \"43\": {\"114\": 2, \"26\": 1, \"102\": 1, \"55\": 1, \"74\": 1, \"43\": 3, \"61\": 2, \"78\": 1}, \"92\": {\"92\": 12}, \"28\": {\"28\": 8, \"21\": 2, \"90\": 1, \"20\": 1}, \"27\": {\"53\": 1, \"27\": 5, \"32\": 1, \"59\": 2, \"71\": 1, \"52\": 2}, \"114\": {\"114\": 5, \"43\": 1, \"129\": 1, \"87\": 1, \"33\": 1, \"3\": 1, \"26\": 2}, \"73\": {\"73\": 5, \"3\": 1, \"109\": 1, \"16\": 1, \"72\": 1, \"84\": 1, \"78\": 1, \"26\": 1}, \"0\": {\"0\": 7, \"28\": 1, \"54\": 1, \"34\": 1, \"128\": 1, \"83\": 1}, \"104\": {\"104\": 4, \"28\": 1, \"129\": 1, \"45\": 1, \"13\": 1, \"99\": 1, \"41\": 1, \"103\": 1, \"65\": 1}, \"118\": {\"118\": 8, \"28\": 2, \"2\": 1, \"87\": 1}, \"41\": {\"28\": 2, \"41\": 9, \"61\": 1}, \"49\": {\"5\": 1, \"46\": 2, \"49\": 3, \"72\": 1, \"91\": 1, \"93\": 1, \"34\": 2, \"54\": 1}, \"14\": {\"14\": 4, \"43\": 1, \"2\": 1, \"82\": 1, \"70\": 1, \"115\": 1, \"102\": 1, \"122\": 1, \"99\": 1}, \"46\": {\"76\": 1, \"40\": 2, \"97\": 1, \"82\": 1, \"51\": 1, \"25\": 1, \"12\": 1, \"93\": 1, \"16\": 1, \"62\": 1, \"99\": 1}, \"33\": {\"40\": 1, \"33\": 11}, \"76\": {\"76\": 12}, \"125\": {\"125\": 11, \"88\": 1}, \"86\": {\"23\": 1, \"49\": 1, \"86\": 3, \"41\": 2, \"4\": 1, \"65\": 2}, \"66\": {\"66\": 3, \"41\": 2, \"45\": 1, \"20\": 1, \"120\": 2, \"76\": 1, \"48\": 1, \"51\": 1}, \"5\": {\"46\": 1, \"5\": 5, \"124\": 1, \"101\": 1, \"105\": 2, \"78\": 2}, \"117\": {\"3\": 2, \"118\": 4, \"82\": 1, \"8\": 1, \"117\": 2, \"11\": 1, \"38\": 1}, \"75\": {\"98\": 1, \"75\": 10, \"93\": 1}, \"61\": {\"61\": 5, \"45\": 2, \"121\": 1, \"20\": 2, \"57\": 2}, \"50\": {\"19\": 1, \"61\": 1, \"45\": 1, \"76\": 1, \"100\": 1, \"50\": 2, \"120\": 1, \"21\": 1, \"99\": 1, \"11\": 1, \"113\": 1}, \"67\": {\"67\": 6, \"61\": 1, \"20\": 1, \"7\": 2}, \"18\": {\"18\": 7, \"3\": 1, \"117\": 1, \"80\": 1, \"113\": 1, \"16\": 1}, \"98\": {\"98\": 11, \"52\": 1}, \"55\": {\"73\": 1, \"55\": 8, \"78\": 1}, \"32\": {\"32\": 4, \"87\": 1, \"97\": 2, \"101\": 2, \"49\": 1, \"75\": 1, \"126\": 1}, \"120\": {\"76\": 2, \"57\": 1, \"120\": 8, \"74\": 1}, \"97\": {\"32\": 1, \"97\": 6, \"6\": 1, \"91\": 1, \"12\": 1, \"85\": 1, \"92\": 1}, \"126\": {\"109\": 2, \"105\": 1, \"77\": 1, \"116\": 1, \"84\": 1, \"33\": 1, \"19\": 1, \"126\": 1, \"21\": 1, \"50\": 1, \"11\": 1}, \"45\": {\"45\": 3, \"76\": 1, \"57\": 1, \"80\": 1, \"20\": 1, \"28\": 2, \"11\": 2, \"2\": 1}, \"78\": {\"100\": 2, \"43\": 2, \"55\": 1, \"23\": 2, \"11\": 1, \"116\": 1, \"78\": 1}, \"100\": {\"100\": 4, \"1\": 2, \"50\": 1, \"81\": 1, \"26\": 1, \"128\": 1, \"84\": 2}, \"107\": {\"107\": 11, \"79\": 1}, \"93\": {\"107\": 2, \"93\": 3, \"46\": 1, \"62\": 1, \"2\": 1, \"120\": 1, \"66\": 1, \"105\": 1, \"39\": 1}, \"77\": {\"77\": 7, \"10\": 2, \"48\": 1, \"86\": 2}, \"63\": {\"3\": 1, \"115\": 1, \"39\": 2, \"119\": 1, \"114\": 1, \"74\": 1, \"87\": 1, \"8\": 2, \"38\": 2}, \"112\": {\"112\": 10, \"6\": 1, \"37\": 1}, \"113\": {\"65\": 1, \"78\": 2, \"114\": 1, \"113\": 1, \"55\": 2, \"80\": 1, \"77\": 1, \"86\": 1, \"62\": 1, \"41\": 1}, \"103\": {\"86\": 1, \"64\": 1, \"95\": 1, \"103\": 3, \"104\": 2, \"83\": 1, \"65\": 1}, \"71\": {\"15\": 2, \"71\": 8, \"94\": 1, \"112\": 1}, \"30\": {\"92\": 1, \"15\": 1, \"30\": 3, \"59\": 2, \"24\": 1, \"6\": 1, \"94\": 1, \"77\": 1, \"71\": 1}, \"90\": {\"90\": 2, \"86\": 1, \"21\": 3, \"28\": 1, \"38\": 1, \"66\": 2, \"41\": 1, \"7\": 1}, \"37\": {\"15\": 2, \"71\": 3, \"112\": 1, \"30\": 2, \"34\": 1, \"92\": 1, \"53\": 1, \"37\": 1}, \"60\": {\"64\": 1, \"65\": 1, \"63\": 1, \"49\": 1, \"60\": 3, \"11\": 1, \"72\": 1, \"50\": 1, \"13\": 1, \"109\": 1}, \"15\": {\"15\": 5, \"71\": 1, \"6\": 2, \"111\": 1, \"37\": 2, \"27\": 1}, \"39\": {\"39\": 5, \"81\": 1, \"8\": 1, \"100\": 1, \"40\": 1, \"28\": 1, \"118\": 1, \"102\": 1}, \"72\": {\"72\": 4, \"70\": 1, \"19\": 1, \"35\": 1, \"122\": 1, \"73\": 1, \"16\": 1, \"90\": 1, \"55\": 1}, \"54\": {\"54\": 6, \"117\": 1, \"82\": 1, \"123\": 1, \"78\": 1, \"50\": 2}, \"35\": {\"54\": 1, \"60\": 1, \"80\": 1, \"25\": 2, \"84\": 1, \"123\": 2, \"35\": 2, \"117\": 1, \"96\": 1}, \"2\": {\"39\": 1, \"72\": 1, \"84\": 2, \"120\": 1, \"14\": 1, \"2\": 2, \"78\": 1, \"45\": 1, \"43\": 2}, \"94\": {\"15\": 2, \"37\": 1, \"94\": 7, \"6\": 1, \"7\": 1}, \"42\": {\"63\": 1, \"42\": 5, \"80\": 1, \"44\": 1, \"87\": 1, \"22\": 1, \"29\": 1, \"66\": 1}, \"81\": {\"81\": 3, \"114\": 1, \"20\": 1, \"82\": 2, \"129\": 2, \"73\": 1, \"62\": 1, \"67\": 1}, \"8\": {\"8\": 10, \"21\": 1, \"76\": 1}, \"87\": {\"87\": 1, \"81\": 1, \"72\": 1, \"1\": 1, \"82\": 3, \"33\": 1, \"102\": 1, \"55\": 1, \"63\": 1, \"123\": 1}, \"6\": {\"6\": 4, \"53\": 2, \"112\": 2, \"94\": 1, \"75\": 1, \"37\": 1, \"27\": 1}, \"36\": {\"6\": 2, \"36\": 9, \"94\": 1}, \"91\": {\"91\": 2, \"80\": 1, \"75\": 2, \"96\": 1, \"20\": 1, \"48\": 2, \"56\": 2, \"77\": 1}, \"56\": {\"91\": 1, \"56\": 6, \"127\": 1, \"126\": 1, \"106\": 1, \"46\": 1, \"85\": 1}, \"80\": {\"80\": 7, \"128\": 2, \"74\": 1, \"112\": 1, \"11\": 1}, \"124\": {\"124\": 3, \"110\": 1, \"100\": 1, \"5\": 2, \"79\": 1, \"14\": 1, \"122\": 1}, \"44\": {\"44\": 5, \"7\": 1, \"48\": 5, \"64\": 1}, \"13\": {\"13\": 5, \"11\": 1, \"20\": 1, \"67\": 1, \"61\": 1, \"21\": 1, \"7\": 1, \"81\": 1}, \"10\": {\"77\": 1, \"10\": 2, \"101\": 1, \"21\": 3, \"7\": 1, \"8\": 1, \"63\": 1, \"61\": 1, \"41\": 1}, \"59\": {\"59\": 9, \"120\": 1, \"76\": 1, \"51\": 1}, \"95\": {\"16\": 1, \"122\": 1, \"62\": 2, \"95\": 3, \"8\": 1, \"79\": 2, \"21\": 1, \"102\": 1}, \"105\": {\"16\": 2, \"10\": 1, \"124\": 1, \"5\": 1, \"105\": 1, \"66\": 1, \"40\": 1, \"114\": 1, \"73\": 1, \"102\": 2}, \"101\": {\"101\": 10, \"128\": 2}, \"20\": {\"7\": 1, \"20\": 8, \"45\": 2, \"61\": 1}, \"48\": {\"21\": 2, \"48\": 9, \"123\": 1}, \"106\": {\"84\": 1, \"106\": 6, \"101\": 1, \"56\": 1, \"58\": 2, \"60\": 1}, \"51\": {\"51\": 11, \"125\": 1}, \"21\": {\"21\": 8, \"67\": 1, \"112\": 1, \"7\": 1, \"106\": 1}, \"123\": {\"123\": 8, \"93\": 1, \"108\": 1, \"55\": 1, \"114\": 1}, \"121\": {\"45\": 1, \"61\": 2, \"20\": 1, \"116\": 3, \"121\": 1, \"21\": 2, \"23\": 1, \"13\": 1}, \"38\": {\"121\": 2, \"21\": 1, \"38\": 4, \"8\": 1, \"29\": 2, \"90\": 1, \"63\": 1}, \"62\": {\"62\": 8, \"82\": 2, \"123\": 1, \"4\": 1}, \"29\": {\"29\": 11, \"63\": 1}, \"82\": {\"10\": 1, \"33\": 1, \"82\": 5, \"14\": 1, \"93\": 1, \"118\": 2, \"81\": 1}, \"116\": {\"116\": 8, \"84\": 2, \"123\": 1, \"50\": 1}, \"12\": {\"98\": 2, \"12\": 3, \"111\": 1, \"30\": 1, \"91\": 1}}, \"W_A_2\": {\"91\": {\"12\": 2, \"98\": 1, \"20\": 1, \"38\": 1, \"41\": 1, \"32\": 2, \"91\": 1, \"10\": 1, \"83\": 1, \"80\": 1}, \"12\": {\"12\": 2, \"10\": 1, \"92\": 1, \"68\": 2, \"119\": 1, \"8\": 1, \"41\": 1, \"77\": 1, \"4\": 1, \"89\": 1}, \"101\": {\"101\": 9, \"91\": 1}, \"121\": {\"10\": 2, \"120\": 1, \"121\": 4, \"23\": 1, \"90\": 2, \"71\": 1, \"123\": 1}, \"118\": {\"10\": 2, \"118\": 1, \"4\": 2, \"18\": 2, \"85\": 1, \"46\": 3, \"21\": 1}, \"10\": {\"10\": 9, \"38\": 2, \"23\": 1}, \"117\": {\"118\": 2, \"43\": 1, \"117\": 2, \"122\": 2, \"62\": 1, \"82\": 1, \"105\": 1, \"84\": 1, \"103\": 1}, \"110\": {\"110\": 5, \"106\": 1, \"81\": 1, \"85\": 2, \"104\": 1, \"103\": 1, \"14\": 1}, \"97\": {\"101\": 1, \"10\": 1, \"98\": 1, \"97\": 7, \"30\": 1, \"63\": 1}, \"28\": {\"10\": 1, \"28\": 2, \"102\": 1, \"42\": 1, \"106\": 1, \"45\": 1, \"109\": 1, \"110\": 1, \"73\": 1, \"116\": 1, \"25\": 1}, \"88\": {\"10\": 1, \"88\": 4, \"80\": 2, \"20\": 1, \"61\": 1, \"24\": 1, \"76\": 1, \"21\": 1}, \"17\": {\"117\": 1, \"110\": 1, \"100\": 1, \"92\": 1, \"70\": 1, \"17\": 3, \"32\": 1, \"74\": 1, \"109\": 2}, \"126\": {\"10\": 2, \"90\": 1, \"81\": 1, \"2\": 1, \"46\": 1, \"86\": 1, \"8\": 1, \"38\": 1, \"82\": 1, \"123\": 2}, \"33\": {\"33\": 8, \"26\": 1, \"55\": 2, \"72\": 1}, \"86\": {\"33\": 1, \"118\": 1, \"86\": 4, \"55\": 1, \"46\": 1, \"117\": 1, \"5\": 1, \"16\": 1, \"71\": 1}, \"106\": {\"106\": 11, \"97\": 1}, \"54\": {\"54\": 6, \"103\": 1, \"92\": 1, \"77\": 1, \"28\": 1, \"48\": 1, \"111\": 1}, \"125\": {\"125\": 10, \"36\": 2}, \"83\": {\"83\": 3, \"87\": 1, \"17\": 1, \"45\": 1, \"72\": 1, \"22\": 2, \"80\": 1, \"39\": 1, \"48\": 1}, \"98\": {\"98\": 10, \"101\": 2}, \"11\": {\"61\": 1, \"11\": 2, \"24\": 1, \"16\": 1, \"41\": 2, \"108\": 1, \"8\": 1, \"80\": 2, \"0\": 1}, \"32\": {\"32\": 8, \"78\": 1, \"63\": 1, \"123\": 2}, \"42\": {\"83\": 1, \"87\": 1, \"16\": 2, \"42\": 2, \"84\": 1, \"109\": 1, \"65\": 1, \"23\": 1, \"80\": 1, \"53\": 1}, \"103\": {\"103\": 10, \"46\": 1, \"54\": 1}, \"87\": {\"13\": 2, \"87\": 3, \"18\": 1, \"88\": 1, \"80\": 1, \"65\": 1, \"23\": 1, \"70\": 1, \"123\": 1}, \"61\": {\"61\": 12}, \"13\": {\"13\": 4, \"61\": 1, \"123\": 1, \"64\": 2, \"48\": 1, \"57\": 1, \"99\": 2}, \"4\": {\"4\": 6, \"85\": 2, \"46\": 1, \"78\": 1, \"26\": 1, \"88\": 1}, \"15\": {\"125\": 1, \"106\": 2, \"15\": 5, \"75\": 1, \"27\": 1}, \"120\": {\"120\": 5, \"64\": 2, \"83\": 1, \"45\": 1, \"8\": 1, \"63\": 2}, \"80\": {\"80\": 10, \"61\": 1, \"13\": 1}, \"72\": {\"102\": 1, \"81\": 1, \"72\": 3, \"96\": 1, \"107\": 1, \"92\": 1, \"39\": 1, \"73\": 1}, \"64\": {\"64\": 7, \"61\": 2, \"63\": 1, \"90\": 1, \"76\": 1}, \"81\": {\"120\": 1, \"81\": 5, \"69\": 1, \"1\": 1, \"55\": 1, \"86\": 1, \"61\": 1, \"82\": 1}, \"102\": {\"81\": 3, \"102\": 6, \"43\": 1, \"74\": 1, \"55\": 1}, \"76\": {\"120\": 1, \"121\": 1, \"80\": 2, \"45\": 1, \"83\": 1, \"8\": 1, \"96\": 1, \"66\": 1, \"90\": 1, \"39\": 1, \"76\": 1}, \"49\": {\"129\": 1, \"89\": 1, \"52\": 2, \"41\": 1, \"126\": 1, \"55\": 1, \"104\": 1, \"49\": 1, \"21\": 1}, \"129\": {\"81\": 2, \"110\": 3, \"62\": 1, \"107\": 1, \"129\": 2, \"82\": 1, \"69\": 1, \"102\": 1}, \"89\": {\"121\": 1, \"129\": 1, \"89\": 5, \"93\": 1, \"31\": 1, \"112\": 1, \"47\": 1, \"110\": 1}, \"52\": {\"49\": 1, \"76\": 2, \"35\": 1, \"79\": 1, \"52\": 4, \"112\": 1, \"38\": 1, \"90\": 1}, \"35\": {\"35\": 8, \"127\": 1, \"34\": 2, \"128\": 1}, \"53\": {\"53\": 10, \"34\": 1, \"58\": 1}, \"112\": {\"17\": 1, \"92\": 1, \"64\": 1, \"112\": 1, \"32\": 1, \"95\": 1, \"38\": 1, \"69\": 1, \"55\": 2, \"107\": 1, \"90\": 1}, \"105\": {\"69\": 1, \"105\": 2, \"86\": 3, \"95\": 1, \"122\": 2, \"4\": 1, \"18\": 1, \"62\": 1}, \"100\": {\"64\": 1, \"100\": 4, \"74\": 2, \"119\": 1, \"63\": 1, \"32\": 2, \"123\": 1}, \"9\": {\"9\": 10, \"51\": 2}, \"82\": {\"82\": 6, \"69\": 1, \"50\": 2, \"62\": 2, \"95\": 1}, \"51\": {\"51\": 7, \"9\": 2, \"125\": 1, \"127\": 1, \"94\": 1}, \"21\": {\"10\": 2, \"21\": 8, \"123\": 2}, \"92\": {\"92\": 4, \"17\": 1, \"45\": 1, \"20\": 1, \"19\": 1, \"32\": 1, \"90\": 1, \"69\": 1, \"72\": 1}, \"69\": {\"69\": 7, \"67\": 1, \"80\": 1, \"18\": 1, \"110\": 1, \"82\": 1}, \"77\": {\"54\": 1, \"10\": 1, \"77\": 6, \"127\": 1, \"67\": 1, \"12\": 2}, \"50\": {\"8\": 1, \"88\": 1, \"73\": 1, \"107\": 1, \"62\": 2, \"39\": 1, \"50\": 3, \"65\": 1, \"126\": 1}, \"36\": {\"36\": 9, \"15\": 1, \"24\": 1, \"9\": 1}, \"16\": {\"84\": 1, \"88\": 1, \"43\": 1, \"20\": 1, \"40\": 1, \"53\": 1, \"2\": 1, \"10\": 1, \"120\": 2, \"16\": 1, \"1\": 1}, \"8\": {\"88\": 1, \"123\": 1, \"8\": 7, \"43\": 1, \"61\": 2}, \"127\": {\"127\": 12}, \"46\": {\"84\": 1, \"46\": 5, \"102\": 1, \"40\": 1, \"87\": 1, \"118\": 1}, \"84\": {\"50\": 1, \"84\": 5, \"55\": 1, \"105\": 1, \"80\": 1, \"39\": 1, \"31\": 1, \"117\": 1}, \"18\": {\"18\": 9, \"46\": 1, \"2\": 1, \"62\": 1}, \"123\": {\"123\": 7, \"39\": 1, \"67\": 2}, \"56\": {\"71\": 1, \"14\": 1, \"46\": 1, \"56\": 2, \"76\": 2, \"126\": 1, \"103\": 1, \"73\": 1, \"15\": 1, \"60\": 1}, \"26\": {\"65\": 2, \"18\": 2, \"26\": 5, \"81\": 1, \"43\": 1, \"86\": 1}, \"14\": {\"80\": 2, \"14\": 2, \"107\": 2, \"62\": 2, \"69\": 2, \"37\": 1, \"2\": 1}, \"109\": {\"26\": 1, \"80\": 1, \"90\": 2, \"1\": 1, \"40\": 1, \"67\": 2, \"8\": 1, \"109\": 1, \"78\": 2}, \"66\": {\"80\": 2, \"66\": 3, \"99\": 1, \"78\": 1, \"120\": 1, \"90\": 2, \"64\": 1, \"76\": 1}, \"24\": {\"71\": 1, \"80\": 1, \"25\": 1, \"10\": 1, \"8\": 1, \"20\": 1, \"94\": 1, \"63\": 3, \"24\": 1, \"61\": 1}, \"71\": {\"80\": 2, \"65\": 1, \"43\": 1, \"19\": 1, \"70\": 1, \"126\": 1, \"105\": 1, \"71\": 2, \"42\": 1, \"72\": 1}, \"65\": {\"80\": 2, \"20\": 1, \"25\": 1, \"32\": 1, \"3\": 1, \"38\": 1, \"65\": 1, \"61\": 1, \"51\": 1, \"57\": 1, \"22\": 1}, \"75\": {\"75\": 10, \"15\": 1, \"21\": 1}, \"111\": {\"111\": 10, \"127\": 1, \"30\": 1}, \"30\": {\"30\": 5, \"127\": 1, \"77\": 1, \"106\": 1, \"97\": 1, \"109\": 1, \"53\": 1, \"91\": 1}, \"85\": {\"65\": 1, \"18\": 1, \"85\": 2, \"119\": 1, \"70\": 1, \"1\": 1, \"26\": 2, \"84\": 1, \"112\": 1, \"107\": 1}, \"113\": {\"18\": 1, \"118\": 3, \"74\": 1, \"113\": 1, \"107\": 1, \"21\": 1, \"72\": 2}, \"45\": {\"118\": 1, \"45\": 3, \"99\": 1, \"43\": 1, \"83\": 1, \"17\": 1, \"80\": 1, \"115\": 1, \"37\": 1, \"76\": 1}, \"29\": {\"12\": 2, \"114\": 1, \"61\": 1, \"128\": 1, \"29\": 2, \"91\": 1, \"32\": 1, \"77\": 1, \"13\": 1, \"21\": 1}, \"20\": {\"118\": 1, \"20\": 5, \"21\": 3, \"44\": 1, \"119\": 1, \"88\": 1}, \"25\": {\"25\": 8, \"106\": 2, \"75\": 2}, \"0\": {\"0\": 6, \"4\": 1, \"111\": 2, \"41\": 1, \"12\": 1, \"11\": 1}, \"68\": {\"68\": 10, \"49\": 1, \"128\": 1}, \"119\": {\"119\": 6, \"100\": 2, \"48\": 1, \"13\": 1, \"87\": 1, \"37\": 1}, \"90\": {\"99\": 1, \"90\": 7, \"20\": 1, \"76\": 1, \"45\": 1, \"123\": 1}, \"38\": {\"38\": 7, \"90\": 1, \"2\": 2, \"10\": 2}, \"99\": {\"90\": 2, \"120\": 2, \"99\": 2, \"63\": 1, \"64\": 1, \"61\": 1, \"44\": 1, \"10\": 1, \"57\": 1}, \"1\": {\"85\": 2, \"1\": 2, \"70\": 1, \"72\": 1, \"81\": 1, \"82\": 1, \"55\": 2, \"86\": 1, \"14\": 1}, \"67\": {\"67\": 8, \"4\": 1, \"125\": 1, \"70\": 1, \"75\": 1}, \"63\": {\"63\": 12}, \"34\": {\"34\": 5, \"30\": 1, \"92\": 1, \"7\": 1, \"73\": 1, \"91\": 1, \"112\": 1, \"89\": 1}, \"108\": {\"90\": 1, \"34\": 1, \"127\": 2, \"108\": 3, \"43\": 1, \"8\": 1, \"67\": 1, \"99\": 1, \"39\": 1}, \"40\": {\"46\": 1, \"102\": 2, \"16\": 1, \"73\": 1, \"40\": 1, \"107\": 1, \"1\": 1, \"71\": 1, \"105\": 1, \"72\": 2}, \"47\": {\"47\": 10, \"22\": 1, \"89\": 1}, \"37\": {\"20\": 1, \"43\": 1, \"37\": 6, \"53\": 1, \"28\": 1, \"119\": 1, \"96\": 1}, \"78\": {\"0\": 1, \"21\": 2, \"26\": 1, \"78\": 2, \"102\": 1, \"32\": 1, \"63\": 2, \"114\": 1, \"120\": 1}, \"96\": {\"47\": 3, \"100\": 1, \"96\": 2, \"104\": 1, \"28\": 1, \"8\": 1, \"89\": 1, \"23\": 1, \"112\": 1}, \"43\": {\"43\": 1, \"20\": 2, \"8\": 3, \"64\": 1, \"19\": 1, \"67\": 2, \"2\": 1, \"73\": 1}, \"5\": {\"5\": 4, \"43\": 1, \"55\": 1, \"73\": 2, \"40\": 2}, \"124\": {\"103\": 2, \"124\": 9, \"89\": 1}, \"44\": {\"8\": 2, \"99\": 2, \"44\": 2, \"65\": 1, \"38\": 1, \"22\": 1, \"83\": 1, \"10\": 1, \"112\": 1}, \"41\": {\"41\": 5, \"91\": 1, \"7\": 1, \"108\": 1, \"114\": 1, \"12\": 1, \"8\": 1, \"61\": 1}, \"116\": {\"64\": 1, \"116\": 5, \"2\": 1, \"84\": 1, \"8\": 1, \"50\": 1, \"73\": 1, \"22\": 1}, \"19\": {\"64\": 1, \"112\": 1, \"5\": 1, \"55\": 1, \"122\": 1, \"105\": 1, \"19\": 1, \"43\": 1, \"124\": 1, \"63\": 1, \"118\": 1, \"83\": 1}, \"115\": {\"112\": 1, \"3\": 1, \"95\": 1, \"100\": 1, \"17\": 2, \"2\": 2, \"115\": 2, \"80\": 1, \"57\": 1}, \"95\": {\"95\": 6, \"2\": 1, \"84\": 1, \"1\": 1, \"102\": 2, \"118\": 1}, \"3\": {\"112\": 2, \"22\": 2, \"3\": 3, \"107\": 1, \"37\": 1, \"55\": 1}, \"59\": {\"34\": 1, \"59\": 5, \"8\": 1, \"57\": 1, \"39\": 1, \"13\": 1, \"115\": 1, \"91\": 1}, \"55\": {\"99\": 1, \"19\": 1, \"81\": 1, \"46\": 1, \"55\": 3, \"22\": 1, \"104\": 1, \"1\": 2, \"96\": 1}, \"70\": {\"48\": 1, \"2\": 1, \"74\": 1, \"1\": 2, \"53\": 1, \"67\": 2, \"10\": 1, \"55\": 1, \"99\": 1, \"69\": 1}, \"6\": {\"6\": 9, \"25\": 1, \"94\": 2}, \"2\": {\"2\": 5, \"16\": 1, \"62\": 1, \"74\": 2, \"10\": 2, \"80\": 1}, \"48\": {\"37\": 1, \"2\": 1, \"22\": 2, \"48\": 3, \"13\": 2, \"80\": 1, \"83\": 2}, \"23\": {\"23\": 2, \"63\": 1, \"61\": 2, \"100\": 2, \"126\": 1, \"38\": 1, \"87\": 1, \"13\": 1, \"10\": 1}, \"7\": {\"42\": 1, \"23\": 2, \"7\": 6, \"128\": 1, \"127\": 1, \"77\": 1}, \"122\": {\"122\": 4, \"117\": 1, \"40\": 1, \"53\": 1, \"95\": 1, \"67\": 1, \"21\": 1, \"113\": 1, \"72\": 1}, \"57\": {\"63\": 2, \"57\": 4, \"8\": 1, \"80\": 3, \"53\": 1, \"70\": 1}, \"39\": {\"100\": 1, \"74\": 1, \"39\": 3, \"38\": 1, \"53\": 2, \"21\": 2}, \"79\": {\"52\": 1, \"23\": 1, \"53\": 2, \"60\": 1, \"83\": 1, \"16\": 1, \"115\": 1, \"66\": 1, \"114\": 1, \"63\": 1, \"64\": 1}, \"27\": {\"27\": 8, \"58\": 1, \"15\": 1}, \"74\": {\"74\": 5, \"79\": 1, \"45\": 1, \"39\": 1, \"48\": 1, \"32\": 1, \"120\": 1, \"51\": 1}, \"73\": {\"73\": 8, \"107\": 2, \"14\": 1, \"46\": 1}, \"62\": {\"62\": 7, \"50\": 1, \"117\": 1, \"102\": 2, \"18\": 1}, \"107\": {\"107\": 6, \"62\": 1, \"40\": 1, \"73\": 1, \"83\": 1, \"46\": 1, \"72\": 1}, \"128\": {\"37\": 1, \"40\": 1, \"128\": 3, \"58\": 1, \"39\": 1, \"80\": 1, \"45\": 1, \"53\": 2, \"70\": 1}, \"60\": {\"16\": 1, \"2\": 1, \"76\": 1, \"45\": 1, \"60\": 3, \"19\": 1, \"48\": 1, \"28\": 1, \"113\": 1, \"121\": 1}, \"114\": {\"5\": 2, \"122\": 1, \"114\": 4, \"73\": 1, \"49\": 1, \"86\": 1, \"102\": 1, \"79\": 1}, \"22\": {\"23\": 2, \"22\": 7, \"74\": 2, \"66\": 1}, \"93\": {\"1\": 2, \"70\": 1, \"72\": 1, \"40\": 2, \"123\": 2, \"93\": 3, \"17\": 1}, \"94\": {\"94\": 4, \"9\": 2, \"58\": 1, \"6\": 3, \"51\": 1, \"20\": 1}, \"31\": {\"93\": 2, \"31\": 3, \"92\": 2, \"103\": 1, \"73\": 1, \"46\": 1}, \"104\": {\"104\": 6, \"89\": 1, \"96\": 1, \"14\": 1, \"31\": 1, \"43\": 1, \"47\": 1}, \"58\": {\"58\": 12}}, \"C_A_2\": {\"14\": {\"7\": 3, \"14\": 5, \"24\": 2, \"39\": 1, \"10\": 1}, \"22\": {\"22\": 12}, \"9\": {\"4\": 2, \"1\": 2, \"9\": 6, \"40\": 1, \"8\": 1}, \"47\": {\"47\": 11, \"42\": 1}, \"13\": {\"13\": 10, \"43\": 1, \"48\": 1}, \"8\": {\"8\": 12}, \"7\": {\"7\": 12}, \"49\": {\"49\": 12}, \"20\": {\"20\": 11, \"51\": 1}, \"16\": {\"16\": 12}, \"34\": {\"34\": 8, \"41\": 2, \"18\": 2}, \"56\": {\"56\": 11, \"10\": 1}, \"38\": {\"38\": 9, \"31\": 1}, \"4\": {\"7\": 1, \"9\": 1, \"2\": 2, \"4\": 1, \"53\": 1, \"36\": 1, \"45\": 1, \"40\": 1, \"33\": 1, \"1\": 1, \"6\": 1}, \"43\": {\"14\": 2, \"43\": 5, \"24\": 1, \"37\": 1, \"28\": 1}, \"26\": {\"26\": 10}, \"35\": {\"1\": 1, \"35\": 10, \"36\": 1}, \"31\": {\"31\": 12}, \"1\": {\"39\": 4, \"1\": 4, \"42\": 1, \"3\": 1, \"30\": 1, \"9\": 1}, \"39\": {\"39\": 12}, \"5\": {\"39\": 2, \"31\": 2, \"5\": 5, \"47\": 1, \"57\": 2}, \"24\": {\"24\": 9, \"14\": 3}, \"54\": {\"54\": 10}, \"23\": {\"23\": 12}, \"51\": {\"20\": 1, \"51\": 9, \"53\": 2}, \"27\": {\"27\": 10}, \"15\": {\"15\": 12}, \"0\": {\"0\": 12}, \"19\": {\"19\": 9, \"4\": 1}, \"18\": {\"18\": 7, \"30\": 1}, \"30\": {\"18\": 2, \"30\": 8, \"23\": 2}, \"55\": {\"16\": 2, \"40\": 1, \"55\": 4, \"17\": 1, \"5\": 2}, \"57\": {\"57\": 12}, \"2\": {\"2\": 10, \"47\": 1, \"14\": 1}, \"12\": {\"12\": 7, \"49\": 1}, \"41\": {\"41\": 12}, \"42\": {\"42\": 12}, \"48\": {\"48\": 5, \"42\": 1, \"1\": 4, \"47\": 1, \"6\": 1}, \"37\": {\"37\": 8, \"26\": 1, \"51\": 1, \"11\": 1, \"15\": 1}, \"6\": {\"6\": 7, \"49\": 1, \"48\": 1, \"57\": 1}, \"11\": {\"11\": 10}, \"45\": {\"8\": 2, \"45\": 4, \"32\": 1, \"4\": 1}, \"21\": {\"21\": 12}, \"46\": {\"16\": 2, \"46\": 5, \"50\": 1, \"47\": 1, \"15\": 1}, \"25\": {\"25\": 12}, \"36\": {\"36\": 10}, \"53\": {\"53\": 10, \"51\": 1, \"8\": 1}, \"28\": {\"28\": 12}, \"40\": {\"19\": 2, \"40\": 6, \"4\": 1, \"9\": 1}, \"33\": {\"33\": 10}, \"44\": {\"44\": 6, \"19\": 1, \"2\": 1, \"36\": 1, \"22\": 1}, \"3\": {\"3\": 5, \"30\": 1, \"48\": 1, \"23\": 1, \"6\": 2, \"18\": 1, \"7\": 1}, \"17\": {\"32\": 5, \"57\": 1, \"17\": 6}, \"32\": {\"32\": 10}, \"10\": {\"10\": 10}, \"52\": {\"52\": 7, \"23\": 2, \"34\": 1}, \"50\": {\"52\": 1, \"50\": 5, \"8\": 1, \"18\": 1}, \"29\": {\"29\": 6}}}, \"per_domain_accuracy\": {\"ORACLE.run1_14\": {\"accuracy\": 0.8057291666666667, \"source?\": true}, \"ORACLE.run1_20\": {\"accuracy\": 0.6606770833333333, \"source?\": true}, \"ORACLE.run1_38\": {\"accuracy\": 0.7114583333333333, \"source?\": true}, \"ORACLE.run1_8\": {\"accuracy\": 0.7481770833333333, \"source?\": true}, \"ORACLE.run1_50\": {\"accuracy\": 0.7356770833333334, \"source?\": true}, \"ORACLE.run1_32\": {\"accuracy\": 0.7526041666666666, \"source?\": true}, \"ORACLE.run1_26\": {\"accuracy\": 0.5606770833333333, \"source?\": true}, \"ORACLE.run1_44\": {\"accuracy\": 0.6572916666666667, \"source?\": true}, \"C_A_3\": {\"accuracy\": 0.7765625, \"source?\": false}, \"C_A_4\": {\"accuracy\": 0.7375, \"source?\": false}, \"C_A_5\": {\"accuracy\": 0.8234375, \"source?\": false}, \"W_A_3\": {\"accuracy\": 0.4127604166666667, \"source?\": false}, \"C_A_1\": {\"accuracy\": 0.7765625, \"source?\": false}, \"W_A_4\": {\"accuracy\": 0.4036458333333333, \"source?\": false}, \"W_A_1\": {\"accuracy\": 0.4466145833333333, \"source?\": false}, \"W_A_2\": {\"accuracy\": 0.4205729166666667, \"source?\": false}, \"C_A_2\": {\"accuracy\": 0.7984375, \"source?\": false}}}, \"history\": {\"epoch_indices\": [1, 2, 3, 4, 5, 6], \"train_label_loss\": [0.9897826760874263, 1.2091040074514845, 0.7498234405991666, 0.6332791892689698, 0.5686061455546656, 0.5114574517084596], \"source_val_label_loss\": [67.0413589477539, 0.8329043984413147, 0.8207178711891174, 0.6336978673934937, 0.5529677867889404, 0.5022773742675781], \"target_val_label_loss\": [4170.48486328125, 989.5706176757812, 1172.113037109375, 1251.3992919921875, 1075.9278564453125, 1470.1693115234375], \"source_val_acc_label\": [0.5951171875, 0.7040364583333333, 0.7013997395833333, 0.7748372395833333, 0.79814453125, 0.8217122395833333], \"target_val_acc_label\": [0.5366010273972602, 0.5447345890410958, 0.5376712328767124, 0.536494006849315, 0.5263270547945206, 0.4979666095890411]}, \"dataset_metrics\": {\"source\": {\"train\": {\"n_unique_x\": 179200, \"n_unique_y\": 16, \"n_batch/episode\": 6720}, \"val\": {\"n_unique_x\": 38400, \"n_unique_y\": 16, \"n_batch/episode\": 960}, \"test\": {\"n_unique_x\": 38400, \"n_unique_y\": 16, \"n_batch/episode\": 960}}, \"target\": {\"train\": {\"n_unique_x\": 56700, \"n_unique_y\": 130, \"n_batch/episode\": 2080}, \"val\": {\"n_unique_x\": 12132, \"n_unique_y\": 130, \"n_batch/episode\": 292}, \"test\": {\"n_unique_x\": 12132, \"n_unique_y\": 130, \"n_batch/episode\": 292}}}}'"
      ]
     },
     "execution_count": 29,
     "metadata": {},
     "output_type": "execute_result"
    }
   ],
   "source": [
    "json.dumps(experiment)"
   ]
  }
 ],
 "metadata": {
  "celltoolbar": "Tags",
  "kernelspec": {
   "display_name": "Python 3 (ipykernel)",
   "language": "python",
   "name": "python3"
  },
  "language_info": {
   "codemirror_mode": {
    "name": "ipython",
    "version": 3
   },
   "file_extension": ".py",
   "mimetype": "text/x-python",
   "name": "python",
   "nbconvert_exporter": "python",
   "pygments_lexer": "ipython3",
   "version": "3.8.10"
  },
  "papermill": {
   "default_parameters": {},
   "duration": 1808.608792,
   "end_time": "2022-03-18T02:21:12.481102",
   "environment_variables": {},
   "exception": null,
   "input_path": "/mnt/wd500GB/CSC500/csc500-main/csc500-notebooks/templates/tl_ptn_template.ipynb",
   "output_path": "trial.ipynb",
   "parameters": {
    "parameters": {
     "BEST_MODEL_PATH": "./best_model.pth",
     "NUM_LOGS_PER_EPOCH": 10,
     "criteria_for_best": "target_loss",
     "dataset_seed": 1337,
     "datasets": [
      {
       "domain_prefix": "C_A_",
       "domains": [
        1,
        2,
        3,
        4,
        5
       ],
       "episode_transforms": [],
       "labels": [
        "1-10.",
        "1-11.",
        "1-15.",
        "1-16.",
        "1-17.",
        "1-18.",
        "1-19.",
        "10-4.",
        "10-7.",
        "11-1.",
        "11-14.",
        "11-17.",
        "11-20.",
        "11-7.",
        "13-20.",
        "13-8.",
        "14-10.",
        "14-11.",
        "14-14.",
        "14-7.",
        "15-1.",
        "15-20.",
        "16-1.",
        "16-16.",
        "17-10.",
        "17-11.",
        "17-2.",
        "19-1.",
        "19-16.",
        "19-19.",
        "19-20.",
        "19-3.",
        "2-10.",
        "2-11.",
        "2-17.",
        "2-18.",
        "2-20.",
        "2-3.",
        "2-4.",
        "2-5.",
        "2-6.",
        "2-7.",
        "2-8.",
        "3-13.",
        "3-18.",
        "3-3.",
        "4-1.",
        "4-10.",
        "4-11.",
        "4-19.",
        "5-5.",
        "6-15.",
        "7-10.",
        "7-14.",
        "8-18.",
        "8-20.",
        "8-3.",
        "8-8."
       ],
       "num_examples_per_domain_per_label": 100,
       "pickle_path": "/mnt/wd500GB/CSC500/csc500-main/datasets/cores.stratified_ds.2022A.pkl",
       "source_or_target_dataset": "target",
       "x_transforms": [
        "unit_power",
        "lowpass_+/-10MHz",
        "take_200"
       ]
      },
      {
       "domain_prefix": "W_A_",
       "domains": [
        1,
        2,
        3,
        4
       ],
       "episode_transforms": [],
       "labels": [
        "1-10",
        "1-12",
        "1-14",
        "1-16",
        "1-18",
        "1-19",
        "1-8",
        "10-11",
        "10-17",
        "10-4",
        "10-7",
        "11-1",
        "11-10",
        "11-19",
        "11-20",
        "11-4",
        "11-7",
        "12-19",
        "12-20",
        "12-7",
        "13-14",
        "13-18",
        "13-19",
        "13-20",
        "13-3",
        "13-7",
        "14-10",
        "14-11",
        "14-12",
        "14-13",
        "14-14",
        "14-19",
        "14-20",
        "14-7",
        "14-8",
        "14-9",
        "15-1",
        "15-19",
        "15-6",
        "16-1",
        "16-16",
        "16-19",
        "16-20",
        "17-10",
        "17-11",
        "18-1",
        "18-10",
        "18-11",
        "18-12",
        "18-13",
        "18-14",
        "18-15",
        "18-16",
        "18-17",
        "18-19",
        "18-2",
        "18-20",
        "18-4",
        "18-5",
        "18-7",
        "18-8",
        "18-9",
        "19-1",
        "19-10",
        "19-11",
        "19-12",
        "19-13",
        "19-14",
        "19-15",
        "19-19",
        "19-2",
        "19-20",
        "19-3",
        "19-4",
        "19-6",
        "19-7",
        "19-8",
        "19-9",
        "2-1",
        "2-13",
        "2-15",
        "2-3",
        "2-4",
        "2-5",
        "2-6",
        "2-7",
        "2-8",
        "20-1",
        "20-12",
        "20-14",
        "20-15",
        "20-16",
        "20-18",
        "20-19",
        "20-20",
        "20-3",
        "20-4",
        "20-5",
        "20-7",
        "20-8",
        "3-1",
        "3-13",
        "3-18",
        "3-2",
        "3-8",
        "4-1",
        "4-10",
        "4-11",
        "5-1",
        "5-5",
        "6-1",
        "6-15",
        "6-6",
        "7-10",
        "7-11",
        "7-12",
        "7-13",
        "7-14",
        "7-7",
        "7-8",
        "7-9",
        "8-1",
        "8-13",
        "8-14",
        "8-18",
        "8-20",
        "8-3",
        "8-8",
        "9-1",
        "9-7"
       ],
       "num_examples_per_domain_per_label": 100,
       "pickle_path": "/mnt/wd500GB/CSC500/csc500-main/datasets/wisig.node3-19.stratified_ds.2022A.pkl",
       "source_or_target_dataset": "target",
       "x_transforms": [
        "unit_power",
        "lowpass_+/-10MHz",
        "take_200"
       ]
      },
      {
       "domain_prefix": "ORACLE.run1_",
       "domains": [
        32,
        38,
        8,
        44,
        14,
        50,
        20,
        26
       ],
       "episode_transforms": [],
       "labels": [
        "3123D52",
        "3123D65",
        "3123D79",
        "3123D80",
        "3123D54",
        "3123D70",
        "3123D7B",
        "3123D89",
        "3123D58",
        "3123D76",
        "3123D7D",
        "3123EFE",
        "3123D64",
        "3123D78",
        "3123D7E",
        "3124E4A"
       ],
       "num_examples_per_domain_per_label": 2000,
       "pickle_path": "/mnt/wd500GB/CSC500/csc500-main/datasets/oracle.Run1_framed_2000Examples_stratified_ds.2022A.pkl",
       "source_or_target_dataset": "source",
       "x_transforms": [
        "unit_power",
        "take_200",
        "resample_20Msps_to_25Msps"
       ]
      }
     ],
     "device": "cuda",
     "experiment_name": "tl_3-filter:oracle.run1.framed -> cores+wisig",
     "lr": 0.001,
     "n_epoch": 50,
     "n_query": 2,
     "n_shot": 3,
     "n_way": 16,
     "patience": 3,
     "seed": 1337,
     "test_k_factor": 2,
     "torch_default_dtype": "torch.float32",
     "train_k_factor": 3,
     "val_k_factor": 2,
     "x_net": [
      {
       "class": "nnReshape",
       "kargs": {
        "shape": [
         -1,
         1,
         2,
         200
        ]
       }
      },
      {
       "class": "Conv2d",
       "kargs": {
        "bias": false,
        "in_channels": 1,
        "kernel_size": [
         1,
         7
        ],
        "out_channels": 256,
        "padding": [
         0,
         3
        ]
       }
      },
      {
       "class": "ReLU",
       "kargs": {
        "inplace": true
       }
      },
      {
       "class": "BatchNorm2d",
       "kargs": {
        "num_features": 256
       }
      },
      {
       "class": "Conv2d",
       "kargs": {
        "bias": true,
        "in_channels": 256,
        "kernel_size": [
         2,
         7
        ],
        "out_channels": 80,
        "padding": [
         0,
         3
        ]
       }
      },
      {
       "class": "ReLU",
       "kargs": {
        "inplace": true
       }
      },
      {
       "class": "BatchNorm2d",
       "kargs": {
        "num_features": 80
       }
      },
      {
       "class": "Flatten",
       "kargs": {}
      },
      {
       "class": "Linear",
       "kargs": {
        "in_features": 16000,
        "out_features": 256
       }
      },
      {
       "class": "ReLU",
       "kargs": {
        "inplace": true
       }
      },
      {
       "class": "BatchNorm1d",
       "kargs": {
        "num_features": 256
       }
      },
      {
       "class": "Linear",
       "kargs": {
        "in_features": 256,
        "out_features": 256
       }
      }
     ],
     "x_shape": [
      2,
      200
     ]
    }
   },
   "start_time": "2022-03-18T01:51:03.872310",
   "version": "2.3.4"
  }
 },
 "nbformat": 4,
 "nbformat_minor": 5
}