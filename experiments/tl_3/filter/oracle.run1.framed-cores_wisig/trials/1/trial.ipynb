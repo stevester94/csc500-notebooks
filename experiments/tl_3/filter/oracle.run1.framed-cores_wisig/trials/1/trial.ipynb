{
 "cells": [
  {
   "cell_type": "markdown",
   "id": "9fea5f46",
   "metadata": {
    "papermill": {
     "duration": 0.019018,
     "end_time": "2022-03-18T02:21:13.431951",
     "exception": false,
     "start_time": "2022-03-18T02:21:13.412933",
     "status": "completed"
    },
    "tags": []
   },
   "source": [
    "# Transfer Learning Template"
   ]
  },
  {
   "cell_type": "code",
   "execution_count": 1,
   "id": "0902182a",
   "metadata": {
    "execution": {
     "iopub.execute_input": "2022-03-18T02:21:13.473560Z",
     "iopub.status.busy": "2022-03-18T02:21:13.473214Z",
     "iopub.status.idle": "2022-03-18T02:21:14.501064Z",
     "shell.execute_reply": "2022-03-18T02:21:14.501480Z"
    },
    "papermill": {
     "duration": 1.055862,
     "end_time": "2022-03-18T02:21:14.501672",
     "exception": false,
     "start_time": "2022-03-18T02:21:13.445810",
     "status": "completed"
    },
    "tags": []
   },
   "outputs": [],
   "source": [
    "%load_ext autoreload\n",
    "%autoreload 2\n",
    "%matplotlib inline\n",
    "\n",
    "    \n",
    "import os, json, sys, time, random\n",
    "import numpy as np\n",
    "import torch\n",
    "from torch.optim import Adam\n",
    "from  easydict import EasyDict\n",
    "import matplotlib.pyplot as plt\n",
    "\n",
    "from steves_models.steves_ptn import Steves_Prototypical_Network\n",
    "\n",
    "from steves_utils.lazy_iterable_wrapper import Lazy_Iterable_Wrapper\n",
    "from steves_utils.iterable_aggregator import Iterable_Aggregator\n",
    "from steves_utils.ptn_train_eval_test_jig import  PTN_Train_Eval_Test_Jig\n",
    "from steves_utils.torch_sequential_builder import build_sequential\n",
    "from steves_utils.torch_utils import get_dataset_metrics, ptn_confusion_by_domain_over_dataloader\n",
    "from steves_utils.utils_v2 import (per_domain_accuracy_from_confusion, get_datasets_base_path)\n",
    "from steves_utils.PTN.utils import independent_accuracy_assesment\n",
    "\n",
    "from torch.utils.data import DataLoader\n",
    "\n",
    "from steves_utils.stratified_dataset.episodic_accessor import Episodic_Accessor_Factory\n",
    "\n",
    "from steves_utils.ptn_do_report import (\n",
    "    get_loss_curve,\n",
    "    get_results_table,\n",
    "    get_parameters_table,\n",
    "    get_domain_accuracies,\n",
    ")\n",
    "\n",
    "from steves_utils.transforms import get_chained_transform"
   ]
  },
  {
   "cell_type": "markdown",
   "id": "41c840b4",
   "metadata": {
    "papermill": {
     "duration": 0.013877,
     "end_time": "2022-03-18T02:21:14.535113",
     "exception": false,
     "start_time": "2022-03-18T02:21:14.521236",
     "status": "completed"
    },
    "tags": []
   },
   "source": [
    "# Allowed Parameters\n",
    "These are allowed parameters, not defaults\n",
    "Each of these values need to be present in the injected parameters (the notebook will raise an exception if they are not present)\n",
    "\n",
    "Papermill uses the cell tag \"parameters\" to inject the real parameters below this cell.\n",
    "Enable tags to see what I mean"
   ]
  },
  {
   "cell_type": "code",
   "execution_count": 2,
   "id": "fd44eb83",
   "metadata": {
    "execution": {
     "iopub.execute_input": "2022-03-18T02:21:14.567528Z",
     "iopub.status.busy": "2022-03-18T02:21:14.567245Z",
     "iopub.status.idle": "2022-03-18T02:21:14.582569Z",
     "shell.execute_reply": "2022-03-18T02:21:14.582974Z"
    },
    "papermill": {
     "duration": 0.032096,
     "end_time": "2022-03-18T02:21:14.583110",
     "exception": false,
     "start_time": "2022-03-18T02:21:14.551014",
     "status": "completed"
    },
    "tags": []
   },
   "outputs": [],
   "source": [
    "required_parameters = {\n",
    "    \"experiment_name\",\n",
    "    \"lr\",\n",
    "    \"device\",\n",
    "    \"seed\",\n",
    "    \"dataset_seed\",\n",
    "    \"n_shot\",\n",
    "    \"n_query\",\n",
    "    \"n_way\",\n",
    "    \"train_k_factor\",\n",
    "    \"val_k_factor\",\n",
    "    \"test_k_factor\",\n",
    "    \"n_epoch\",\n",
    "    \"patience\",\n",
    "    \"criteria_for_best\",\n",
    "    \"x_net\",\n",
    "    \"datasets\",\n",
    "    \"torch_default_dtype\",\n",
    "    \"NUM_LOGS_PER_EPOCH\",\n",
    "    \"BEST_MODEL_PATH\",\n",
    "    \"x_shape\",\n",
    "}"
   ]
  },
  {
   "cell_type": "code",
   "execution_count": 3,
   "id": "fa3f0049",
   "metadata": {
    "execution": {
     "iopub.execute_input": "2022-03-18T02:21:14.620611Z",
     "iopub.status.busy": "2022-03-18T02:21:14.620308Z",
     "iopub.status.idle": "2022-03-18T02:21:14.635113Z",
     "shell.execute_reply": "2022-03-18T02:21:14.634663Z"
    },
    "papermill": {
     "duration": 0.034917,
     "end_time": "2022-03-18T02:21:14.635220",
     "exception": false,
     "start_time": "2022-03-18T02:21:14.600303",
     "status": "completed"
    },
    "tags": [
     "parameters"
    ]
   },
   "outputs": [],
   "source": [
    "from steves_utils.CORES.utils import (\n",
    "    ALL_NODES,\n",
    "    ALL_NODES_MINIMUM_1000_EXAMPLES,\n",
    "    ALL_DAYS\n",
    ")\n",
    "\n",
    "from steves_utils.ORACLE.utils_v2 import (\n",
    "    ALL_DISTANCES_FEET_NARROWED,\n",
    "    ALL_RUNS,\n",
    "    ALL_SERIAL_NUMBERS,\n",
    ")\n",
    "\n",
    "standalone_parameters = {}\n",
    "standalone_parameters[\"experiment_name\"] = \"STANDALONE PTN\"\n",
    "standalone_parameters[\"lr\"] = 0.001\n",
    "standalone_parameters[\"device\"] = \"cuda\"\n",
    "\n",
    "standalone_parameters[\"seed\"] = 1337\n",
    "standalone_parameters[\"dataset_seed\"] = 1337\n",
    "\n",
    "standalone_parameters[\"n_way\"] = 8\n",
    "standalone_parameters[\"n_shot\"] = 3\n",
    "standalone_parameters[\"n_query\"]  = 2\n",
    "standalone_parameters[\"train_k_factor\"] = 1\n",
    "standalone_parameters[\"val_k_factor\"] = 2\n",
    "standalone_parameters[\"test_k_factor\"] = 2\n",
    "\n",
    "\n",
    "standalone_parameters[\"n_epoch\"] = 50\n",
    "\n",
    "standalone_parameters[\"patience\"] = 10\n",
    "standalone_parameters[\"criteria_for_best\"] = \"source_loss\"\n",
    "\n",
    "standalone_parameters[\"datasets\"] = [\n",
    "    {\n",
    "        \"labels\": ALL_SERIAL_NUMBERS,\n",
    "        \"domains\": ALL_DISTANCES_FEET_NARROWED,\n",
    "        \"num_examples_per_domain_per_label\": 100,\n",
    "        \"pickle_path\": os.path.join(get_datasets_base_path(), \"oracle.Run1_framed_2000Examples_stratified_ds.2022A.pkl\"),\n",
    "        \"source_or_target_dataset\": \"source\",\n",
    "        \"x_transforms\": [\"unit_mag\", \"minus_two\"],\n",
    "        \"episode_transforms\": [],\n",
    "        \"domain_prefix\": \"ORACLE_\"\n",
    "    },\n",
    "    {\n",
    "        \"labels\": ALL_NODES,\n",
    "        \"domains\": ALL_DAYS,\n",
    "        \"num_examples_per_domain_per_label\": 100,\n",
    "        \"pickle_path\": os.path.join(get_datasets_base_path(), \"cores.stratified_ds.2022A.pkl\"),\n",
    "        \"source_or_target_dataset\": \"target\",\n",
    "        \"x_transforms\": [\"unit_power\", \"times_zero\"],\n",
    "        \"episode_transforms\": [],\n",
    "        \"domain_prefix\": \"CORES_\"\n",
    "    }   \n",
    "]\n",
    "\n",
    "standalone_parameters[\"torch_default_dtype\"] = \"torch.float32\" \n",
    "\n",
    "\n",
    "\n",
    "standalone_parameters[\"x_net\"] =     [\n",
    "    {\"class\": \"nnReshape\", \"kargs\": {\"shape\":[-1, 1, 2, 256]}},\n",
    "    {\"class\": \"Conv2d\", \"kargs\": { \"in_channels\":1, \"out_channels\":256, \"kernel_size\":(1,7), \"bias\":False, \"padding\":(0,3), },},\n",
    "    {\"class\": \"ReLU\", \"kargs\": {\"inplace\": True}},\n",
    "    {\"class\": \"BatchNorm2d\", \"kargs\": {\"num_features\":256}},\n",
    "\n",
    "    {\"class\": \"Conv2d\", \"kargs\": { \"in_channels\":256, \"out_channels\":80, \"kernel_size\":(2,7), \"bias\":True, \"padding\":(0,3), },},\n",
    "    {\"class\": \"ReLU\", \"kargs\": {\"inplace\": True}},\n",
    "    {\"class\": \"BatchNorm2d\", \"kargs\": {\"num_features\":80}},\n",
    "    {\"class\": \"Flatten\", \"kargs\": {}},\n",
    "\n",
    "    {\"class\": \"Linear\", \"kargs\": {\"in_features\": 80*256, \"out_features\": 256}}, # 80 units per IQ pair\n",
    "    {\"class\": \"ReLU\", \"kargs\": {\"inplace\": True}},\n",
    "    {\"class\": \"BatchNorm1d\", \"kargs\": {\"num_features\":256}},\n",
    "\n",
    "    {\"class\": \"Linear\", \"kargs\": {\"in_features\": 256, \"out_features\": 256}},\n",
    "]\n",
    "\n",
    "# Parameters relevant to results\n",
    "# These parameters will basically never need to change\n",
    "standalone_parameters[\"NUM_LOGS_PER_EPOCH\"] = 10\n",
    "standalone_parameters[\"BEST_MODEL_PATH\"] = \"./best_model.pth\"\n",
    "\n",
    "\n",
    "\n",
    "\n"
   ]
  },
  {
   "cell_type": "code",
   "execution_count": 4,
   "id": "2d7a4bc4",
   "metadata": {
    "execution": {
     "iopub.execute_input": "2022-03-18T02:21:14.679076Z",
     "iopub.status.busy": "2022-03-18T02:21:14.673736Z",
     "iopub.status.idle": "2022-03-18T02:21:14.694455Z",
     "shell.execute_reply": "2022-03-18T02:21:14.694677Z"
    },
    "papermill": {
     "duration": 0.041897,
     "end_time": "2022-03-18T02:21:14.694758",
     "exception": false,
     "start_time": "2022-03-18T02:21:14.652861",
     "status": "completed"
    },
    "tags": [
     "injected-parameters"
    ]
   },
   "outputs": [],
   "source": [
    "# Parameters\n",
    "parameters = {\n",
    "    \"experiment_name\": \"tl_3-filter:oracle.run1.framed -> cores+wisig\",\n",
    "    \"device\": \"cuda\",\n",
    "    \"lr\": 0.001,\n",
    "    \"seed\": 1337,\n",
    "    \"dataset_seed\": 1337,\n",
    "    \"x_shape\": [2, 200],\n",
    "    \"n_shot\": 3,\n",
    "    \"n_query\": 2,\n",
    "    \"train_k_factor\": 3,\n",
    "    \"val_k_factor\": 2,\n",
    "    \"test_k_factor\": 2,\n",
    "    \"torch_default_dtype\": \"torch.float32\",\n",
    "    \"n_epoch\": 50,\n",
    "    \"patience\": 3,\n",
    "    \"criteria_for_best\": \"target_loss\",\n",
    "    \"x_net\": [\n",
    "        {\"class\": \"nnReshape\", \"kargs\": {\"shape\": [-1, 1, 2, 200]}},\n",
    "        {\n",
    "            \"class\": \"Conv2d\",\n",
    "            \"kargs\": {\n",
    "                \"in_channels\": 1,\n",
    "                \"out_channels\": 256,\n",
    "                \"kernel_size\": [1, 7],\n",
    "                \"bias\": False,\n",
    "                \"padding\": [0, 3],\n",
    "            },\n",
    "        },\n",
    "        {\"class\": \"ReLU\", \"kargs\": {\"inplace\": True}},\n",
    "        {\"class\": \"BatchNorm2d\", \"kargs\": {\"num_features\": 256}},\n",
    "        {\n",
    "            \"class\": \"Conv2d\",\n",
    "            \"kargs\": {\n",
    "                \"in_channels\": 256,\n",
    "                \"out_channels\": 80,\n",
    "                \"kernel_size\": [2, 7],\n",
    "                \"bias\": True,\n",
    "                \"padding\": [0, 3],\n",
    "            },\n",
    "        },\n",
    "        {\"class\": \"ReLU\", \"kargs\": {\"inplace\": True}},\n",
    "        {\"class\": \"BatchNorm2d\", \"kargs\": {\"num_features\": 80}},\n",
    "        {\"class\": \"Flatten\", \"kargs\": {}},\n",
    "        {\"class\": \"Linear\", \"kargs\": {\"in_features\": 16000, \"out_features\": 256}},\n",
    "        {\"class\": \"ReLU\", \"kargs\": {\"inplace\": True}},\n",
    "        {\"class\": \"BatchNorm1d\", \"kargs\": {\"num_features\": 256}},\n",
    "        {\"class\": \"Linear\", \"kargs\": {\"in_features\": 256, \"out_features\": 256}},\n",
    "    ],\n",
    "    \"NUM_LOGS_PER_EPOCH\": 10,\n",
    "    \"BEST_MODEL_PATH\": \"./best_model.pth\",\n",
    "    \"n_way\": 16,\n",
    "    \"datasets\": [\n",
    "        {\n",
    "            \"labels\": [\n",
    "                \"1-10.\",\n",
    "                \"1-11.\",\n",
    "                \"1-15.\",\n",
    "                \"1-16.\",\n",
    "                \"1-17.\",\n",
    "                \"1-18.\",\n",
    "                \"1-19.\",\n",
    "                \"10-4.\",\n",
    "                \"10-7.\",\n",
    "                \"11-1.\",\n",
    "                \"11-14.\",\n",
    "                \"11-17.\",\n",
    "                \"11-20.\",\n",
    "                \"11-7.\",\n",
    "                \"13-20.\",\n",
    "                \"13-8.\",\n",
    "                \"14-10.\",\n",
    "                \"14-11.\",\n",
    "                \"14-14.\",\n",
    "                \"14-7.\",\n",
    "                \"15-1.\",\n",
    "                \"15-20.\",\n",
    "                \"16-1.\",\n",
    "                \"16-16.\",\n",
    "                \"17-10.\",\n",
    "                \"17-11.\",\n",
    "                \"17-2.\",\n",
    "                \"19-1.\",\n",
    "                \"19-16.\",\n",
    "                \"19-19.\",\n",
    "                \"19-20.\",\n",
    "                \"19-3.\",\n",
    "                \"2-10.\",\n",
    "                \"2-11.\",\n",
    "                \"2-17.\",\n",
    "                \"2-18.\",\n",
    "                \"2-20.\",\n",
    "                \"2-3.\",\n",
    "                \"2-4.\",\n",
    "                \"2-5.\",\n",
    "                \"2-6.\",\n",
    "                \"2-7.\",\n",
    "                \"2-8.\",\n",
    "                \"3-13.\",\n",
    "                \"3-18.\",\n",
    "                \"3-3.\",\n",
    "                \"4-1.\",\n",
    "                \"4-10.\",\n",
    "                \"4-11.\",\n",
    "                \"4-19.\",\n",
    "                \"5-5.\",\n",
    "                \"6-15.\",\n",
    "                \"7-10.\",\n",
    "                \"7-14.\",\n",
    "                \"8-18.\",\n",
    "                \"8-20.\",\n",
    "                \"8-3.\",\n",
    "                \"8-8.\",\n",
    "            ],\n",
    "            \"domains\": [1, 2, 3, 4, 5],\n",
    "            \"num_examples_per_domain_per_label\": 100,\n",
    "            \"pickle_path\": \"/mnt/wd500GB/CSC500/csc500-main/datasets/cores.stratified_ds.2022A.pkl\",\n",
    "            \"source_or_target_dataset\": \"target\",\n",
    "            \"x_transforms\": [\"unit_mag\", \"lowpass_+/-10MHz\", \"take_200\"],\n",
    "            \"episode_transforms\": [],\n",
    "            \"domain_prefix\": \"C_A_\",\n",
    "        },\n",
    "        {\n",
    "            \"labels\": [\n",
    "                \"1-10\",\n",
    "                \"1-12\",\n",
    "                \"1-14\",\n",
    "                \"1-16\",\n",
    "                \"1-18\",\n",
    "                \"1-19\",\n",
    "                \"1-8\",\n",
    "                \"10-11\",\n",
    "                \"10-17\",\n",
    "                \"10-4\",\n",
    "                \"10-7\",\n",
    "                \"11-1\",\n",
    "                \"11-10\",\n",
    "                \"11-19\",\n",
    "                \"11-20\",\n",
    "                \"11-4\",\n",
    "                \"11-7\",\n",
    "                \"12-19\",\n",
    "                \"12-20\",\n",
    "                \"12-7\",\n",
    "                \"13-14\",\n",
    "                \"13-18\",\n",
    "                \"13-19\",\n",
    "                \"13-20\",\n",
    "                \"13-3\",\n",
    "                \"13-7\",\n",
    "                \"14-10\",\n",
    "                \"14-11\",\n",
    "                \"14-12\",\n",
    "                \"14-13\",\n",
    "                \"14-14\",\n",
    "                \"14-19\",\n",
    "                \"14-20\",\n",
    "                \"14-7\",\n",
    "                \"14-8\",\n",
    "                \"14-9\",\n",
    "                \"15-1\",\n",
    "                \"15-19\",\n",
    "                \"15-6\",\n",
    "                \"16-1\",\n",
    "                \"16-16\",\n",
    "                \"16-19\",\n",
    "                \"16-20\",\n",
    "                \"17-10\",\n",
    "                \"17-11\",\n",
    "                \"18-1\",\n",
    "                \"18-10\",\n",
    "                \"18-11\",\n",
    "                \"18-12\",\n",
    "                \"18-13\",\n",
    "                \"18-14\",\n",
    "                \"18-15\",\n",
    "                \"18-16\",\n",
    "                \"18-17\",\n",
    "                \"18-19\",\n",
    "                \"18-2\",\n",
    "                \"18-20\",\n",
    "                \"18-4\",\n",
    "                \"18-5\",\n",
    "                \"18-7\",\n",
    "                \"18-8\",\n",
    "                \"18-9\",\n",
    "                \"19-1\",\n",
    "                \"19-10\",\n",
    "                \"19-11\",\n",
    "                \"19-12\",\n",
    "                \"19-13\",\n",
    "                \"19-14\",\n",
    "                \"19-15\",\n",
    "                \"19-19\",\n",
    "                \"19-2\",\n",
    "                \"19-20\",\n",
    "                \"19-3\",\n",
    "                \"19-4\",\n",
    "                \"19-6\",\n",
    "                \"19-7\",\n",
    "                \"19-8\",\n",
    "                \"19-9\",\n",
    "                \"2-1\",\n",
    "                \"2-13\",\n",
    "                \"2-15\",\n",
    "                \"2-3\",\n",
    "                \"2-4\",\n",
    "                \"2-5\",\n",
    "                \"2-6\",\n",
    "                \"2-7\",\n",
    "                \"2-8\",\n",
    "                \"20-1\",\n",
    "                \"20-12\",\n",
    "                \"20-14\",\n",
    "                \"20-15\",\n",
    "                \"20-16\",\n",
    "                \"20-18\",\n",
    "                \"20-19\",\n",
    "                \"20-20\",\n",
    "                \"20-3\",\n",
    "                \"20-4\",\n",
    "                \"20-5\",\n",
    "                \"20-7\",\n",
    "                \"20-8\",\n",
    "                \"3-1\",\n",
    "                \"3-13\",\n",
    "                \"3-18\",\n",
    "                \"3-2\",\n",
    "                \"3-8\",\n",
    "                \"4-1\",\n",
    "                \"4-10\",\n",
    "                \"4-11\",\n",
    "                \"5-1\",\n",
    "                \"5-5\",\n",
    "                \"6-1\",\n",
    "                \"6-15\",\n",
    "                \"6-6\",\n",
    "                \"7-10\",\n",
    "                \"7-11\",\n",
    "                \"7-12\",\n",
    "                \"7-13\",\n",
    "                \"7-14\",\n",
    "                \"7-7\",\n",
    "                \"7-8\",\n",
    "                \"7-9\",\n",
    "                \"8-1\",\n",
    "                \"8-13\",\n",
    "                \"8-14\",\n",
    "                \"8-18\",\n",
    "                \"8-20\",\n",
    "                \"8-3\",\n",
    "                \"8-8\",\n",
    "                \"9-1\",\n",
    "                \"9-7\",\n",
    "            ],\n",
    "            \"domains\": [1, 2, 3, 4],\n",
    "            \"num_examples_per_domain_per_label\": 100,\n",
    "            \"pickle_path\": \"/mnt/wd500GB/CSC500/csc500-main/datasets/wisig.node3-19.stratified_ds.2022A.pkl\",\n",
    "            \"source_or_target_dataset\": \"target\",\n",
    "            \"x_transforms\": [\"unit_mag\", \"lowpass_+/-10MHz\", \"take_200\"],\n",
    "            \"episode_transforms\": [],\n",
    "            \"domain_prefix\": \"W_A_\",\n",
    "        },\n",
    "        {\n",
    "            \"labels\": [\n",
    "                \"3123D52\",\n",
    "                \"3123D65\",\n",
    "                \"3123D79\",\n",
    "                \"3123D80\",\n",
    "                \"3123D54\",\n",
    "                \"3123D70\",\n",
    "                \"3123D7B\",\n",
    "                \"3123D89\",\n",
    "                \"3123D58\",\n",
    "                \"3123D76\",\n",
    "                \"3123D7D\",\n",
    "                \"3123EFE\",\n",
    "                \"3123D64\",\n",
    "                \"3123D78\",\n",
    "                \"3123D7E\",\n",
    "                \"3124E4A\",\n",
    "            ],\n",
    "            \"domains\": [32, 38, 8, 44, 14, 50, 20, 26],\n",
    "            \"num_examples_per_domain_per_label\": 2000,\n",
    "            \"pickle_path\": \"/mnt/wd500GB/CSC500/csc500-main/datasets/oracle.Run1_framed_2000Examples_stratified_ds.2022A.pkl\",\n",
    "            \"source_or_target_dataset\": \"source\",\n",
    "            \"x_transforms\": [\"unit_mag\", \"take_200\", \"resample_20Msps_to_25Msps\"],\n",
    "            \"episode_transforms\": [],\n",
    "            \"domain_prefix\": \"ORACLE.run1_\",\n",
    "        },\n",
    "    ],\n",
    "}\n"
   ]
  },
  {
   "cell_type": "code",
   "execution_count": 5,
   "id": "8fa1cc33",
   "metadata": {
    "execution": {
     "iopub.execute_input": "2022-03-18T02:21:14.727863Z",
     "iopub.status.busy": "2022-03-18T02:21:14.727445Z",
     "iopub.status.idle": "2022-03-18T02:21:14.739117Z",
     "shell.execute_reply": "2022-03-18T02:21:14.739361Z"
    },
    "papermill": {
     "duration": 0.027734,
     "end_time": "2022-03-18T02:21:14.739439",
     "exception": false,
     "start_time": "2022-03-18T02:21:14.711705",
     "status": "completed"
    },
    "tags": []
   },
   "outputs": [],
   "source": [
    "# Set this to True if you want to run this template directly\n",
    "STANDALONE = False\n",
    "if STANDALONE:\n",
    "    print(\"parameters not injected, running with standalone_parameters\")\n",
    "    parameters = standalone_parameters\n",
    "\n",
    "if not 'parameters' in locals() and not 'parameters' in globals():\n",
    "    raise Exception(\"Parameter injection failed\")\n",
    "\n",
    "#Use an easy dict for all the parameters\n",
    "p = EasyDict(parameters)\n",
    "\n",
    "if \"x_shape\" not in p:\n",
    "    p.x_shape = [2,256] # Default to this if we dont supply x_shape\n",
    "\n",
    "\n",
    "supplied_keys = set(p.keys())\n",
    "\n",
    "if  supplied_keys != required_parameters:\n",
    "    print(\"Parameters are incorrect\")\n",
    "    if len(supplied_keys - required_parameters)>0: print(\"Shouldn't have:\", str(supplied_keys - required_parameters))\n",
    "    if len(required_parameters - supplied_keys)>0: print(\"Need to have:\", str(required_parameters - supplied_keys))\n",
    "    raise RuntimeError(\"Parameters are incorrect\")"
   ]
  },
  {
   "cell_type": "code",
   "execution_count": 6,
   "id": "3a028d58",
   "metadata": {
    "execution": {
     "iopub.execute_input": "2022-03-18T02:21:14.767997Z",
     "iopub.status.busy": "2022-03-18T02:21:14.767584Z",
     "iopub.status.idle": "2022-03-18T02:21:14.779000Z",
     "shell.execute_reply": "2022-03-18T02:21:14.779225Z"
    },
    "papermill": {
     "duration": 0.026735,
     "end_time": "2022-03-18T02:21:14.779317",
     "exception": false,
     "start_time": "2022-03-18T02:21:14.752582",
     "status": "completed"
    },
    "tags": []
   },
   "outputs": [],
   "source": [
    "###################################\n",
    "# Set the RNGs and make it all deterministic\n",
    "###################################\n",
    "np.random.seed(p.seed)\n",
    "random.seed(p.seed)\n",
    "torch.manual_seed(p.seed)\n",
    "\n",
    "torch.use_deterministic_algorithms(True) "
   ]
  },
  {
   "cell_type": "code",
   "execution_count": 7,
   "id": "b691acf6",
   "metadata": {
    "execution": {
     "iopub.execute_input": "2022-03-18T02:21:14.809541Z",
     "iopub.status.busy": "2022-03-18T02:21:14.809139Z",
     "iopub.status.idle": "2022-03-18T02:21:14.820059Z",
     "shell.execute_reply": "2022-03-18T02:21:14.820281Z"
    },
    "papermill": {
     "duration": 0.026375,
     "end_time": "2022-03-18T02:21:14.820358",
     "exception": false,
     "start_time": "2022-03-18T02:21:14.793983",
     "status": "completed"
    },
    "tags": []
   },
   "outputs": [],
   "source": [
    "###########################################\n",
    "# The stratified datasets honor this\n",
    "###########################################\n",
    "torch.set_default_dtype(eval(p.torch_default_dtype))"
   ]
  },
  {
   "cell_type": "code",
   "execution_count": 8,
   "id": "b5fba671",
   "metadata": {
    "execution": {
     "iopub.execute_input": "2022-03-18T02:21:14.850958Z",
     "iopub.status.busy": "2022-03-18T02:21:14.850446Z",
     "iopub.status.idle": "2022-03-18T02:21:14.887529Z",
     "shell.execute_reply": "2022-03-18T02:21:14.887937Z"
    },
    "papermill": {
     "duration": 0.053125,
     "end_time": "2022-03-18T02:21:14.888077",
     "exception": false,
     "start_time": "2022-03-18T02:21:14.834952",
     "status": "completed"
    },
    "tags": []
   },
   "outputs": [],
   "source": [
    "###################################\n",
    "# Build the network(s)\n",
    "# Note: It's critical to do this AFTER setting the RNG\n",
    "###################################\n",
    "x_net = build_sequential(p.x_net)"
   ]
  },
  {
   "cell_type": "code",
   "execution_count": 9,
   "id": "5d7e61cc",
   "metadata": {
    "execution": {
     "iopub.execute_input": "2022-03-18T02:21:14.923785Z",
     "iopub.status.busy": "2022-03-18T02:21:14.923517Z",
     "iopub.status.idle": "2022-03-18T02:21:14.938990Z",
     "shell.execute_reply": "2022-03-18T02:21:14.938493Z"
    },
    "papermill": {
     "duration": 0.031314,
     "end_time": "2022-03-18T02:21:14.939092",
     "exception": false,
     "start_time": "2022-03-18T02:21:14.907778",
     "status": "completed"
    },
    "tags": []
   },
   "outputs": [],
   "source": [
    "start_time_secs = time.time()"
   ]
  },
  {
   "cell_type": "code",
   "execution_count": 10,
   "id": "c6b67dfd",
   "metadata": {
    "execution": {
     "iopub.execute_input": "2022-03-18T02:21:14.972651Z",
     "iopub.status.busy": "2022-03-18T02:21:14.972384Z",
     "iopub.status.idle": "2022-03-18T02:21:14.983660Z",
     "shell.execute_reply": "2022-03-18T02:21:14.984087Z"
    },
    "papermill": {
     "duration": 0.026859,
     "end_time": "2022-03-18T02:21:14.984212",
     "exception": false,
     "start_time": "2022-03-18T02:21:14.957353",
     "status": "completed"
    },
    "tags": []
   },
   "outputs": [],
   "source": [
    "p.domains_source = []\n",
    "p.domains_target = []\n",
    "\n",
    "\n",
    "train_original_source = []\n",
    "val_original_source   = []\n",
    "test_original_source  = []\n",
    "\n",
    "train_original_target = []\n",
    "val_original_target   = []\n",
    "test_original_target  = []"
   ]
  },
  {
   "cell_type": "code",
   "execution_count": 11,
   "id": "e3d9c3d3",
   "metadata": {
    "execution": {
     "iopub.execute_input": "2022-03-18T02:21:15.017347Z",
     "iopub.status.busy": "2022-03-18T02:21:15.017083Z",
     "iopub.status.idle": "2022-03-18T02:21:15.027875Z",
     "shell.execute_reply": "2022-03-18T02:21:15.028195Z"
    },
    "papermill": {
     "duration": 0.02627,
     "end_time": "2022-03-18T02:21:15.028292",
     "exception": false,
     "start_time": "2022-03-18T02:21:15.002022",
     "status": "completed"
    },
    "tags": []
   },
   "outputs": [],
   "source": [
    "# global_x_transform_func = lambda x: normalize(x.to(torch.get_default_dtype()), \"unit_power\") # unit_power, unit_mag\n",
    "# global_x_transform_func = lambda x: normalize(x, \"unit_power\") # unit_power, unit_mag"
   ]
  },
  {
   "cell_type": "code",
   "execution_count": 12,
   "id": "acb78fd2",
   "metadata": {
    "execution": {
     "iopub.execute_input": "2022-03-18T02:21:15.068880Z",
     "iopub.status.busy": "2022-03-18T02:21:15.068602Z",
     "iopub.status.idle": "2022-03-18T02:21:15.082703Z",
     "shell.execute_reply": "2022-03-18T02:21:15.082931Z"
    },
    "papermill": {
     "duration": 0.035379,
     "end_time": "2022-03-18T02:21:15.083015",
     "exception": false,
     "start_time": "2022-03-18T02:21:15.047636",
     "status": "completed"
    },
    "tags": []
   },
   "outputs": [],
   "source": [
    "def add_dataset(\n",
    "    labels,\n",
    "    domains,\n",
    "    pickle_path,\n",
    "    x_transforms,\n",
    "    episode_transforms,\n",
    "    domain_prefix,\n",
    "    num_examples_per_domain_per_label,\n",
    "    source_or_target_dataset:str,\n",
    "    iterator_seed=p.seed,\n",
    "    dataset_seed=p.dataset_seed,\n",
    "    n_shot=p.n_shot,\n",
    "    n_way=p.n_way,\n",
    "    n_query=p.n_query,\n",
    "    train_val_test_k_factors=(p.train_k_factor,p.val_k_factor,p.test_k_factor),\n",
    "):\n",
    "   \n",
    "    if x_transforms == []: x_transform = None\n",
    "    else: x_transform = get_chained_transform(x_transforms)\n",
    "    \n",
    "    if episode_transforms == []: episode_transform = None\n",
    "    else: raise Exception(\"episode_transforms not implemented\")\n",
    "    \n",
    "    episode_transform = lambda tup, _prefix=domain_prefix: (_prefix + str(tup[0]), tup[1])\n",
    "\n",
    "\n",
    "    eaf = Episodic_Accessor_Factory(\n",
    "        labels=labels,\n",
    "        domains=domains,\n",
    "        num_examples_per_domain_per_label=num_examples_per_domain_per_label,\n",
    "        iterator_seed=iterator_seed,\n",
    "        dataset_seed=dataset_seed,\n",
    "        n_shot=n_shot,\n",
    "        n_way=n_way,\n",
    "        n_query=n_query,\n",
    "        train_val_test_k_factors=train_val_test_k_factors,\n",
    "        pickle_path=pickle_path,\n",
    "        x_transform_func=x_transform,\n",
    "    )\n",
    "\n",
    "    train, val, test = eaf.get_train(), eaf.get_val(), eaf.get_test()\n",
    "    train = Lazy_Iterable_Wrapper(train, episode_transform)\n",
    "    val = Lazy_Iterable_Wrapper(val, episode_transform)\n",
    "    test = Lazy_Iterable_Wrapper(test, episode_transform)\n",
    "\n",
    "    if source_or_target_dataset==\"source\":\n",
    "        train_original_source.append(train)\n",
    "        val_original_source.append(val)\n",
    "        test_original_source.append(test)\n",
    "\n",
    "        p.domains_source.extend(\n",
    "            [domain_prefix + str(u) for u in domains]\n",
    "        )\n",
    "    elif source_or_target_dataset==\"target\":\n",
    "        train_original_target.append(train)\n",
    "        val_original_target.append(val)\n",
    "        test_original_target.append(test)\n",
    "        p.domains_target.extend(\n",
    "            [domain_prefix + str(u) for u in domains]\n",
    "        )\n",
    "    else:\n",
    "        raise Exception(f\"invalid source_or_target_dataset: {source_or_target_dataset}\")\n",
    "    "
   ]
  },
  {
   "cell_type": "code",
   "execution_count": 13,
   "id": "fe266617",
   "metadata": {
    "execution": {
     "iopub.execute_input": "2022-03-18T02:21:15.113362Z",
     "iopub.status.busy": "2022-03-18T02:21:15.112955Z",
     "iopub.status.idle": "2022-03-18T02:21:55.564542Z",
     "shell.execute_reply": "2022-03-18T02:21:55.564974Z"
    },
    "papermill": {
     "duration": 40.468195,
     "end_time": "2022-03-18T02:21:55.565110",
     "exception": false,
     "start_time": "2022-03-18T02:21:15.096915",
     "status": "completed"
    },
    "tags": []
   },
   "outputs": [],
   "source": [
    "for ds in p.datasets:\n",
    "    add_dataset(**ds)"
   ]
  },
  {
   "cell_type": "code",
   "execution_count": 14,
   "id": "b90d65ac",
   "metadata": {
    "execution": {
     "iopub.execute_input": "2022-03-18T02:21:55.600623Z",
     "iopub.status.busy": "2022-03-18T02:21:55.600361Z",
     "iopub.status.idle": "2022-03-18T02:21:55.617259Z",
     "shell.execute_reply": "2022-03-18T02:21:55.616809Z"
    },
    "papermill": {
     "duration": 0.032767,
     "end_time": "2022-03-18T02:21:55.617366",
     "exception": false,
     "start_time": "2022-03-18T02:21:55.584599",
     "status": "completed"
    },
    "tags": []
   },
   "outputs": [],
   "source": [
    "# from steves_utils.CORES.utils import (\n",
    "#     ALL_NODES,\n",
    "#     ALL_NODES_MINIMUM_1000_EXAMPLES,\n",
    "#     ALL_DAYS\n",
    "# )\n",
    "\n",
    "# add_dataset(\n",
    "#     labels=ALL_NODES,\n",
    "#     domains = ALL_DAYS,\n",
    "#     num_examples_per_domain_per_label=100,\n",
    "#     pickle_path=os.path.join(get_datasets_base_path(), \"cores.stratified_ds.2022A.pkl\"),\n",
    "#     source_or_target_dataset=\"target\",\n",
    "#     x_transform_func=global_x_transform_func,\n",
    "#     domain_modifier=lambda u: f\"cores_{u}\"\n",
    "# )"
   ]
  },
  {
   "cell_type": "code",
   "execution_count": 15,
   "id": "76db484d",
   "metadata": {
    "execution": {
     "iopub.execute_input": "2022-03-18T02:21:55.652046Z",
     "iopub.status.busy": "2022-03-18T02:21:55.651529Z",
     "iopub.status.idle": "2022-03-18T02:21:55.662001Z",
     "shell.execute_reply": "2022-03-18T02:21:55.662380Z"
    },
    "papermill": {
     "duration": 0.026366,
     "end_time": "2022-03-18T02:21:55.662505",
     "exception": false,
     "start_time": "2022-03-18T02:21:55.636139",
     "status": "completed"
    },
    "tags": []
   },
   "outputs": [],
   "source": [
    "# from steves_utils.ORACLE.utils_v2 import (\n",
    "#     ALL_DISTANCES_FEET,\n",
    "#     ALL_RUNS,\n",
    "#     ALL_SERIAL_NUMBERS,\n",
    "# )\n",
    "\n",
    "\n",
    "# add_dataset(\n",
    "#     labels=ALL_SERIAL_NUMBERS,\n",
    "#     domains = list(set(ALL_DISTANCES_FEET) - {2,62}),\n",
    "#     num_examples_per_domain_per_label=100,\n",
    "#     pickle_path=os.path.join(get_datasets_base_path(), \"oracle.Run2_framed_2000Examples_stratified_ds.2022A.pkl\"),\n",
    "#     source_or_target_dataset=\"source\",\n",
    "#     x_transform_func=global_x_transform_func,\n",
    "#     domain_modifier=lambda u: f\"oracle1_{u}\"\n",
    "# )\n"
   ]
  },
  {
   "cell_type": "code",
   "execution_count": 16,
   "id": "97dea9d2",
   "metadata": {
    "execution": {
     "iopub.execute_input": "2022-03-18T02:21:55.696735Z",
     "iopub.status.busy": "2022-03-18T02:21:55.696479Z",
     "iopub.status.idle": "2022-03-18T02:21:55.710725Z",
     "shell.execute_reply": "2022-03-18T02:21:55.710499Z"
    },
    "papermill": {
     "duration": 0.029971,
     "end_time": "2022-03-18T02:21:55.710783",
     "exception": false,
     "start_time": "2022-03-18T02:21:55.680812",
     "status": "completed"
    },
    "tags": []
   },
   "outputs": [],
   "source": [
    "# from steves_utils.ORACLE.utils_v2 import (\n",
    "#     ALL_DISTANCES_FEET,\n",
    "#     ALL_RUNS,\n",
    "#     ALL_SERIAL_NUMBERS,\n",
    "# )\n",
    "\n",
    "\n",
    "# add_dataset(\n",
    "#     labels=ALL_SERIAL_NUMBERS,\n",
    "#     domains = list(set(ALL_DISTANCES_FEET) - {2,62,56}),\n",
    "#     num_examples_per_domain_per_label=100,\n",
    "#     pickle_path=os.path.join(get_datasets_base_path(), \"oracle.Run2_framed_2000Examples_stratified_ds.2022A.pkl\"),\n",
    "#     source_or_target_dataset=\"source\",\n",
    "#     x_transform_func=global_x_transform_func,\n",
    "#     domain_modifier=lambda u: f\"oracle2_{u}\"\n",
    "# )"
   ]
  },
  {
   "cell_type": "code",
   "execution_count": 17,
   "id": "6f289866",
   "metadata": {
    "execution": {
     "iopub.execute_input": "2022-03-18T02:21:55.744602Z",
     "iopub.status.busy": "2022-03-18T02:21:55.744345Z",
     "iopub.status.idle": "2022-03-18T02:21:55.755279Z",
     "shell.execute_reply": "2022-03-18T02:21:55.755682Z"
    },
    "papermill": {
     "duration": 0.026597,
     "end_time": "2022-03-18T02:21:55.755803",
     "exception": false,
     "start_time": "2022-03-18T02:21:55.729206",
     "status": "completed"
    },
    "tags": []
   },
   "outputs": [],
   "source": [
    "# add_dataset(\n",
    "#     labels=list(range(19)),\n",
    "#     domains = [0,1,2],\n",
    "#     num_examples_per_domain_per_label=100,\n",
    "#     pickle_path=os.path.join(get_datasets_base_path(), \"metehan.stratified_ds.2022A.pkl\"),\n",
    "#     source_or_target_dataset=\"target\",\n",
    "#     x_transform_func=global_x_transform_func,\n",
    "#     domain_modifier=lambda u: f\"met_{u}\"\n",
    "# )"
   ]
  },
  {
   "cell_type": "code",
   "execution_count": 18,
   "id": "86a863c3",
   "metadata": {
    "execution": {
     "iopub.execute_input": "2022-03-18T02:21:55.787864Z",
     "iopub.status.busy": "2022-03-18T02:21:55.787155Z",
     "iopub.status.idle": "2022-03-18T02:21:55.800820Z",
     "shell.execute_reply": "2022-03-18T02:21:55.801225Z"
    },
    "papermill": {
     "duration": 0.029425,
     "end_time": "2022-03-18T02:21:55.801347",
     "exception": false,
     "start_time": "2022-03-18T02:21:55.771922",
     "status": "completed"
    },
    "tags": []
   },
   "outputs": [],
   "source": [
    "# # from steves_utils.wisig.utils import (\n",
    "# #     ALL_NODES_MINIMUM_100_EXAMPLES,\n",
    "# #     ALL_NODES_MINIMUM_500_EXAMPLES,\n",
    "# #     ALL_NODES_MINIMUM_1000_EXAMPLES,\n",
    "# #     ALL_DAYS\n",
    "# # )\n",
    "\n",
    "# import steves_utils.wisig.utils as wisig\n",
    "\n",
    "\n",
    "# add_dataset(\n",
    "#     labels=wisig.ALL_NODES_MINIMUM_100_EXAMPLES,\n",
    "#     domains = wisig.ALL_DAYS,\n",
    "#     num_examples_per_domain_per_label=100,\n",
    "#     pickle_path=os.path.join(get_datasets_base_path(), \"wisig.node3-19.stratified_ds.2022A.pkl\"),\n",
    "#     source_or_target_dataset=\"target\",\n",
    "#     x_transform_func=global_x_transform_func,\n",
    "#     domain_modifier=lambda u: f\"wisig_{u}\"\n",
    "# )"
   ]
  },
  {
   "cell_type": "code",
   "execution_count": 19,
   "id": "fd5442bc",
   "metadata": {
    "execution": {
     "iopub.execute_input": "2022-03-18T02:21:55.836635Z",
     "iopub.status.busy": "2022-03-18T02:21:55.836110Z",
     "iopub.status.idle": "2022-03-18T02:21:55.847403Z",
     "shell.execute_reply": "2022-03-18T02:21:55.847714Z"
    },
    "papermill": {
     "duration": 0.029054,
     "end_time": "2022-03-18T02:21:55.847810",
     "exception": false,
     "start_time": "2022-03-18T02:21:55.818756",
     "status": "completed"
    },
    "tags": []
   },
   "outputs": [],
   "source": [
    "###################################\n",
    "# Build the dataset\n",
    "###################################\n",
    "train_original_source = Iterable_Aggregator(train_original_source, p.seed)\n",
    "val_original_source = Iterable_Aggregator(val_original_source, p.seed)\n",
    "test_original_source = Iterable_Aggregator(test_original_source, p.seed)\n",
    "\n",
    "\n",
    "train_original_target = Iterable_Aggregator(train_original_target, p.seed)\n",
    "val_original_target = Iterable_Aggregator(val_original_target, p.seed)\n",
    "test_original_target = Iterable_Aggregator(test_original_target, p.seed)\n",
    "\n",
    "# For CNN We only use X and Y. And we only train on the source.\n",
    "# Properly form the data using a transform lambda and Lazy_Iterable_Wrapper. Finally wrap them in a dataloader\n",
    "\n",
    "transform_lambda = lambda ex: ex[1] # Original is (<domain>, <episode>) so we strip down to episode only\n",
    "\n",
    "train_processed_source = Lazy_Iterable_Wrapper(train_original_source, transform_lambda)\n",
    "val_processed_source   = Lazy_Iterable_Wrapper(val_original_source, transform_lambda)\n",
    "test_processed_source  = Lazy_Iterable_Wrapper(test_original_source, transform_lambda)\n",
    "\n",
    "train_processed_target = Lazy_Iterable_Wrapper(train_original_target, transform_lambda)\n",
    "val_processed_target   = Lazy_Iterable_Wrapper(val_original_target, transform_lambda)\n",
    "test_processed_target  = Lazy_Iterable_Wrapper(test_original_target, transform_lambda)\n",
    "\n",
    "datasets = EasyDict({\n",
    "    \"source\": {\n",
    "        \"original\": {\"train\":train_original_source, \"val\":val_original_source, \"test\":test_original_source},\n",
    "        \"processed\": {\"train\":train_processed_source, \"val\":val_processed_source, \"test\":test_processed_source}\n",
    "    },\n",
    "    \"target\": {\n",
    "        \"original\": {\"train\":train_original_target, \"val\":val_original_target, \"test\":test_original_target},\n",
    "        \"processed\": {\"train\":train_processed_target, \"val\":val_processed_target, \"test\":test_processed_target}\n",
    "    },\n",
    "})"
   ]
  },
  {
   "cell_type": "code",
   "execution_count": 20,
   "id": "5b3c01fc",
   "metadata": {
    "execution": {
     "iopub.execute_input": "2022-03-18T02:21:55.883633Z",
     "iopub.status.busy": "2022-03-18T02:21:55.883113Z",
     "iopub.status.idle": "2022-03-18T02:22:01.303590Z",
     "shell.execute_reply": "2022-03-18T02:22:01.303060Z"
    },
    "papermill": {
     "duration": 5.437469,
     "end_time": "2022-03-18T02:22:01.303682",
     "exception": false,
     "start_time": "2022-03-18T02:21:55.866213",
     "status": "completed"
    },
    "tags": []
   },
   "outputs": [
    {
     "name": "stdout",
     "output_type": "stream",
     "text": [
      "{'ORACLE.run1_26', 'ORACLE.run1_20', 'ORACLE.run1_50', 'ORACLE.run1_8', 'ORACLE.run1_44', 'ORACLE.run1_32', 'ORACLE.run1_14', 'ORACLE.run1_38'}\n"
     ]
    },
    {
     "name": "stdout",
     "output_type": "stream",
     "text": [
      "{'C_A_1', 'W_A_2', 'C_A_2', 'W_A_3', 'W_A_4', 'C_A_3', 'W_A_1', 'C_A_4', 'C_A_5'}\n"
     ]
    },
    {
     "name": "stdout",
     "output_type": "stream",
     "text": [
      "tensor([[[-0.0971,  1.1311,  0.6428,  ...,  0.6900,  0.5495,  0.7515],\n",
      "         [-0.6699, -0.6023,  0.7298,  ..., -0.1188,  1.1722,  0.1223]],\n",
      "\n",
      "        [[-0.4650,  0.4729,  0.8381,  ...,  1.1898,  0.5315,  0.0195],\n",
      "         [-1.1721, -0.8223,  0.9095,  ..., -0.4716, -0.6551, -1.4318]],\n",
      "\n",
      "        [[ 0.6704, -0.0551, -0.9197,  ..., -0.8651, -0.9602, -0.1043],\n",
      "         [ 0.8524,  1.1014, -0.5470,  ...,  0.4879,  0.2662,  1.2135]],\n",
      "\n",
      "        ...,\n",
      "\n",
      "        [[ 1.0094,  0.2418, -1.2327,  ..., -0.7204, -0.1579,  0.9442],\n",
      "         [ 0.5694,  0.9394, -0.0507,  ...,  1.0085,  0.7567,  1.0278]],\n",
      "\n",
      "        [[ 0.0259, -1.0459, -0.2935,  ..., -0.8818, -0.8675, -0.9829],\n",
      "         [ 0.8104,  0.8015, -0.7676,  ..., -0.1278, -0.7103,  0.6759]],\n",
      "\n",
      "        [[ 0.4981,  0.4795, -0.3590,  ...,  0.5028, -1.2225, -0.6749],\n",
      "         [-0.4260,  0.9681,  0.7596,  ...,  0.6907,  0.2936,  0.4766]]])\n"
     ]
    }
   ],
   "source": [
    "from steves_utils.transforms import get_average_magnitude, get_average_power\n",
    "\n",
    "print(set([u for u,_ in val_original_source]))\n",
    "print(set([u for u,_ in val_original_target]))\n",
    "\n",
    "s_x, s_y, q_x, q_y, _ = next(iter(train_processed_source))\n",
    "print(s_x)\n",
    "\n",
    "# for ds in [\n",
    "#     train_processed_source,\n",
    "#     val_processed_source,\n",
    "#     test_processed_source,\n",
    "#     train_processed_target,\n",
    "#     val_processed_target,\n",
    "#     test_processed_target\n",
    "# ]:\n",
    "#     for s_x, s_y, q_x, q_y, _ in ds:\n",
    "#         for X in (s_x, q_x):\n",
    "#             for x in X:\n",
    "#                 assert np.isclose(get_average_magnitude(x.numpy()), 1.0)\n",
    "#                 assert np.isclose(get_average_power(x.numpy()), 1.0)\n",
    "                "
   ]
  },
  {
   "cell_type": "code",
   "execution_count": 21,
   "id": "bbdacba1",
   "metadata": {
    "execution": {
     "iopub.execute_input": "2022-03-18T02:22:01.339370Z",
     "iopub.status.busy": "2022-03-18T02:22:01.339094Z",
     "iopub.status.idle": "2022-03-18T02:22:01.390079Z",
     "shell.execute_reply": "2022-03-18T02:22:01.390502Z"
    },
    "papermill": {
     "duration": 0.070002,
     "end_time": "2022-03-18T02:22:01.390635",
     "exception": false,
     "start_time": "2022-03-18T02:22:01.320633",
     "status": "completed"
    },
    "tags": []
   },
   "outputs": [
    {
     "name": "stdout",
     "output_type": "stream",
     "text": [
      "(2, 200)\n"
     ]
    }
   ],
   "source": [
    "###################################\n",
    "# Build the model\n",
    "###################################\n",
    "# easfsl only wants a tuple for the shape\n",
    "model = Steves_Prototypical_Network(x_net, device=p.device, x_shape=tuple(p.x_shape))\n",
    "optimizer = Adam(params=model.parameters(), lr=p.lr)"
   ]
  },
  {
   "cell_type": "code",
   "execution_count": 22,
   "id": "22b39ac5",
   "metadata": {
    "execution": {
     "iopub.execute_input": "2022-03-18T02:22:01.430739Z",
     "iopub.status.busy": "2022-03-18T02:22:01.430473Z",
     "iopub.status.idle": "2022-03-18T02:50:37.590187Z",
     "shell.execute_reply": "2022-03-18T02:50:37.589947Z"
    },
    "papermill": {
     "duration": 1716.179791,
     "end_time": "2022-03-18T02:50:37.590248",
     "exception": false,
     "start_time": "2022-03-18T02:22:01.410457",
     "status": "completed"
    },
    "tags": []
   },
   "outputs": [
    {
     "name": "stdout",
     "output_type": "stream",
     "text": [
      "epoch: 1, [batch: 1 / 6720], examples_per_second: 47.3911, train_label_loss: 3.1626, \n"
     ]
    },
    {
     "name": "stdout",
     "output_type": "stream",
     "text": [
      "epoch: 1, [batch: 672 / 6720], examples_per_second: 1917.3191, train_label_loss: 1.1548, \n"
     ]
    },
    {
     "name": "stdout",
     "output_type": "stream",
     "text": [
      "epoch: 1, [batch: 1344 / 6720], examples_per_second: 1914.0385, train_label_loss: 0.8464, \n"
     ]
    },
    {
     "name": "stdout",
     "output_type": "stream",
     "text": [
      "epoch: 1, [batch: 2016 / 6720], examples_per_second: 1976.4959, train_label_loss: 0.7378, \n"
     ]
    },
    {
     "name": "stdout",
     "output_type": "stream",
     "text": [
      "epoch: 1, [batch: 2688 / 6720], examples_per_second: 2489.7632, train_label_loss: 0.9128, \n"
     ]
    },
    {
     "name": "stdout",
     "output_type": "stream",
     "text": [
      "epoch: 1, [batch: 3360 / 6720], examples_per_second: 1916.6220, train_label_loss: 1.1848, \n"
     ]
    },
    {
     "name": "stdout",
     "output_type": "stream",
     "text": [
      "epoch: 1, [batch: 4032 / 6720], examples_per_second: 1913.1150, train_label_loss: 0.9505, \n"
     ]
    },
    {
     "name": "stdout",
     "output_type": "stream",
     "text": [
      "epoch: 1, [batch: 4704 / 6720], examples_per_second: 1910.4362, train_label_loss: 0.6665, \n"
     ]
    },
    {
     "name": "stdout",
     "output_type": "stream",
     "text": [
      "epoch: 1, [batch: 5376 / 6720], examples_per_second: 1917.8028, train_label_loss: 0.8874, \n"
     ]
    },
    {
     "name": "stdout",
     "output_type": "stream",
     "text": [
      "epoch: 1, [batch: 6048 / 6720], examples_per_second: 1917.5761, train_label_loss: 0.6665, \n"
     ]
    },
    {
     "name": "stdout",
     "output_type": "stream",
     "text": [
      "=============================================================\n",
      "epoch: 1, source_val_acc_label: 0.5831, target_val_acc_label: 0.5032, source_val_label_loss: 48.9705, target_val_label_loss: 9200.9131, \n",
      "=============================================================\n"
     ]
    },
    {
     "name": "stdout",
     "output_type": "stream",
     "text": [
      "New best\n"
     ]
    },
    {
     "name": "stdout",
     "output_type": "stream",
     "text": [
      "epoch: 2, [batch: 1 / 6720], examples_per_second: 3.2630, train_label_loss: 52.8091, \n"
     ]
    },
    {
     "name": "stdout",
     "output_type": "stream",
     "text": [
      "epoch: 2, [batch: 672 / 6720], examples_per_second: 1921.5238, train_label_loss: 0.9612, \n"
     ]
    },
    {
     "name": "stdout",
     "output_type": "stream",
     "text": [
      "epoch: 2, [batch: 1344 / 6720], examples_per_second: 1923.7137, train_label_loss: 0.8770, \n"
     ]
    },
    {
     "name": "stdout",
     "output_type": "stream",
     "text": [
      "epoch: 2, [batch: 2016 / 6720], examples_per_second: 1988.9499, train_label_loss: 1.2093, \n"
     ]
    },
    {
     "name": "stdout",
     "output_type": "stream",
     "text": [
      "epoch: 2, [batch: 2688 / 6720], examples_per_second: 2490.7729, train_label_loss: 1.0552, \n"
     ]
    },
    {
     "name": "stdout",
     "output_type": "stream",
     "text": [
      "epoch: 2, [batch: 3360 / 6720], examples_per_second: 1919.8538, train_label_loss: 1.0605, \n"
     ]
    },
    {
     "name": "stdout",
     "output_type": "stream",
     "text": [
      "epoch: 2, [batch: 4032 / 6720], examples_per_second: 1921.6561, train_label_loss: 1.1225, \n"
     ]
    },
    {
     "name": "stdout",
     "output_type": "stream",
     "text": [
      "epoch: 2, [batch: 4704 / 6720], examples_per_second: 1918.2035, train_label_loss: 1.0005, \n"
     ]
    },
    {
     "name": "stdout",
     "output_type": "stream",
     "text": [
      "epoch: 2, [batch: 5376 / 6720], examples_per_second: 1925.1351, train_label_loss: 1.1615, \n"
     ]
    },
    {
     "name": "stdout",
     "output_type": "stream",
     "text": [
      "epoch: 2, [batch: 6048 / 6720], examples_per_second: 1921.6027, train_label_loss: 0.6262, \n"
     ]
    },
    {
     "name": "stdout",
     "output_type": "stream",
     "text": [
      "=============================================================\n",
      "epoch: 2, source_val_acc_label: 0.6915, target_val_acc_label: 0.5027, source_val_label_loss: 0.8598, target_val_label_loss: 563.9418, \n",
      "=============================================================\n"
     ]
    },
    {
     "name": "stdout",
     "output_type": "stream",
     "text": [
      "New best\n"
     ]
    },
    {
     "name": "stdout",
     "output_type": "stream",
     "text": [
      "epoch: 3, [batch: 1 / 6720], examples_per_second: 3.2568, train_label_loss: 1.0868, \n"
     ]
    },
    {
     "name": "stdout",
     "output_type": "stream",
     "text": [
      "epoch: 3, [batch: 672 / 6720], examples_per_second: 1920.9150, train_label_loss: 0.5117, \n"
     ]
    },
    {
     "name": "stdout",
     "output_type": "stream",
     "text": [
      "epoch: 3, [batch: 1344 / 6720], examples_per_second: 1921.9224, train_label_loss: 0.6457, \n"
     ]
    },
    {
     "name": "stdout",
     "output_type": "stream",
     "text": [
      "epoch: 3, [batch: 2016 / 6720], examples_per_second: 1996.7791, train_label_loss: 0.6106, \n"
     ]
    },
    {
     "name": "stdout",
     "output_type": "stream",
     "text": [
      "epoch: 3, [batch: 2688 / 6720], examples_per_second: 2401.9293, train_label_loss: 0.7386, \n"
     ]
    },
    {
     "name": "stdout",
     "output_type": "stream",
     "text": [
      "epoch: 3, [batch: 3360 / 6720], examples_per_second: 2407.5374, train_label_loss: 1.3068, \n"
     ]
    },
    {
     "name": "stdout",
     "output_type": "stream",
     "text": [
      "epoch: 3, [batch: 4032 / 6720], examples_per_second: 2356.5176, train_label_loss: 1.0918, \n"
     ]
    },
    {
     "name": "stdout",
     "output_type": "stream",
     "text": [
      "epoch: 3, [batch: 4704 / 6720], examples_per_second: 2678.0394, train_label_loss: 0.4621, \n"
     ]
    },
    {
     "name": "stdout",
     "output_type": "stream",
     "text": [
      "epoch: 3, [batch: 5376 / 6720], examples_per_second: 3674.4608, train_label_loss: 0.5677, \n"
     ]
    },
    {
     "name": "stdout",
     "output_type": "stream",
     "text": [
      "epoch: 3, [batch: 6048 / 6720], examples_per_second: 3667.7229, train_label_loss: 0.5467, \n"
     ]
    },
    {
     "name": "stdout",
     "output_type": "stream",
     "text": [
      "=============================================================\n",
      "epoch: 3, source_val_acc_label: 0.6927, target_val_acc_label: 0.5123, source_val_label_loss: 0.8487, target_val_label_loss: 1077.5056, \n",
      "=============================================================\n"
     ]
    },
    {
     "name": "stdout",
     "output_type": "stream",
     "text": [
      "epoch: 4, [batch: 1 / 6720], examples_per_second: 6.0156, train_label_loss: 0.7075, \n"
     ]
    },
    {
     "name": "stdout",
     "output_type": "stream",
     "text": [
      "epoch: 4, [batch: 672 / 6720], examples_per_second: 1916.9816, train_label_loss: 0.4408, \n"
     ]
    },
    {
     "name": "stdout",
     "output_type": "stream",
     "text": [
      "epoch: 4, [batch: 1344 / 6720], examples_per_second: 1918.9514, train_label_loss: 1.0185, \n"
     ]
    },
    {
     "name": "stdout",
     "output_type": "stream",
     "text": [
      "epoch: 4, [batch: 2016 / 6720], examples_per_second: 1917.9007, train_label_loss: 1.0395, \n"
     ]
    },
    {
     "name": "stdout",
     "output_type": "stream",
     "text": [
      "epoch: 4, [batch: 2688 / 6720], examples_per_second: 1917.5953, train_label_loss: 0.6945, \n"
     ]
    },
    {
     "name": "stdout",
     "output_type": "stream",
     "text": [
      "epoch: 4, [batch: 3360 / 6720], examples_per_second: 1918.3657, train_label_loss: 0.3737, \n"
     ]
    },
    {
     "name": "stdout",
     "output_type": "stream",
     "text": [
      "epoch: 4, [batch: 4032 / 6720], examples_per_second: 1918.4081, train_label_loss: 1.0671, \n"
     ]
    },
    {
     "name": "stdout",
     "output_type": "stream",
     "text": [
      "epoch: 4, [batch: 4704 / 6720], examples_per_second: 1916.0372, train_label_loss: 0.6117, \n"
     ]
    },
    {
     "name": "stdout",
     "output_type": "stream",
     "text": [
      "epoch: 4, [batch: 5376 / 6720], examples_per_second: 1905.3161, train_label_loss: 0.8462, \n"
     ]
    },
    {
     "name": "stdout",
     "output_type": "stream",
     "text": [
      "epoch: 4, [batch: 6048 / 6720], examples_per_second: 1880.4159, train_label_loss: 0.5687, \n"
     ]
    },
    {
     "name": "stdout",
     "output_type": "stream",
     "text": [
      "=============================================================\n",
      "epoch: 4, source_val_acc_label: 0.7564, target_val_acc_label: 0.5204, source_val_label_loss: 0.6756, target_val_label_loss: 2769.0649, \n",
      "=============================================================\n"
     ]
    },
    {
     "name": "stdout",
     "output_type": "stream",
     "text": [
      "epoch: 5, [batch: 1 / 6720], examples_per_second: 3.4948, train_label_loss: 0.3089, \n"
     ]
    },
    {
     "name": "stdout",
     "output_type": "stream",
     "text": [
      "epoch: 5, [batch: 672 / 6720], examples_per_second: 1901.0366, train_label_loss: 0.5286, \n"
     ]
    },
    {
     "name": "stdout",
     "output_type": "stream",
     "text": [
      "epoch: 5, [batch: 1344 / 6720], examples_per_second: 1901.3663, train_label_loss: 0.5917, \n"
     ]
    },
    {
     "name": "stdout",
     "output_type": "stream",
     "text": [
      "epoch: 5, [batch: 2016 / 6720], examples_per_second: 1900.3110, train_label_loss: 1.0762, \n"
     ]
    },
    {
     "name": "stdout",
     "output_type": "stream",
     "text": [
      "epoch: 5, [batch: 2688 / 6720], examples_per_second: 1902.8354, train_label_loss: 0.6581, \n"
     ]
    },
    {
     "name": "stdout",
     "output_type": "stream",
     "text": [
      "epoch: 5, [batch: 3360 / 6720], examples_per_second: 1893.8347, train_label_loss: 0.4070, \n"
     ]
    },
    {
     "name": "stdout",
     "output_type": "stream",
     "text": [
      "epoch: 5, [batch: 4032 / 6720], examples_per_second: 1856.9527, train_label_loss: 0.4551, \n"
     ]
    },
    {
     "name": "stdout",
     "output_type": "stream",
     "text": [
      "epoch: 5, [batch: 4704 / 6720], examples_per_second: 1852.7728, train_label_loss: 0.3303, \n"
     ]
    },
    {
     "name": "stdout",
     "output_type": "stream",
     "text": [
      "epoch: 5, [batch: 5376 / 6720], examples_per_second: 1830.3572, train_label_loss: 0.7227, \n"
     ]
    },
    {
     "name": "stdout",
     "output_type": "stream",
     "text": [
      "epoch: 5, [batch: 6048 / 6720], examples_per_second: 1862.8335, train_label_loss: 0.5205, \n"
     ]
    },
    {
     "name": "stdout",
     "output_type": "stream",
     "text": [
      "=============================================================\n",
      "epoch: 5, source_val_acc_label: 0.7961, target_val_acc_label: 0.5162, source_val_label_loss: 0.5644, target_val_label_loss: 2770.0042, \n",
      "=============================================================\n"
     ]
    },
    {
     "name": "stdout",
     "output_type": "stream",
     "text": [
      "epoch: 6, [batch: 1 / 6720], examples_per_second: 3.4936, train_label_loss: 0.4483, \n"
     ]
    },
    {
     "name": "stdout",
     "output_type": "stream",
     "text": [
      "epoch: 6, [batch: 672 / 6720], examples_per_second: 1906.1892, train_label_loss: 0.6953, \n"
     ]
    },
    {
     "name": "stdout",
     "output_type": "stream",
     "text": [
      "epoch: 6, [batch: 1344 / 6720], examples_per_second: 1906.8140, train_label_loss: 0.7272, \n"
     ]
    },
    {
     "name": "stdout",
     "output_type": "stream",
     "text": [
      "epoch: 6, [batch: 2016 / 6720], examples_per_second: 1906.8688, train_label_loss: 0.4081, \n"
     ]
    },
    {
     "name": "stdout",
     "output_type": "stream",
     "text": [
      "epoch: 6, [batch: 2688 / 6720], examples_per_second: 1906.9805, train_label_loss: 0.1915, \n"
     ]
    },
    {
     "name": "stdout",
     "output_type": "stream",
     "text": [
      "epoch: 6, [batch: 3360 / 6720], examples_per_second: 1906.4274, train_label_loss: 0.3238, \n"
     ]
    },
    {
     "name": "stdout",
     "output_type": "stream",
     "text": [
      "epoch: 6, [batch: 4032 / 6720], examples_per_second: 1906.9574, train_label_loss: 0.5562, \n"
     ]
    },
    {
     "name": "stdout",
     "output_type": "stream",
     "text": [
      "epoch: 6, [batch: 4704 / 6720], examples_per_second: 1904.8703, train_label_loss: 0.7643, \n"
     ]
    },
    {
     "name": "stdout",
     "output_type": "stream",
     "text": [
      "epoch: 6, [batch: 5376 / 6720], examples_per_second: 1906.3623, train_label_loss: 0.3633, \n"
     ]
    },
    {
     "name": "stdout",
     "output_type": "stream",
     "text": [
      "epoch: 6, [batch: 6048 / 6720], examples_per_second: 1905.8009, train_label_loss: 0.3937, \n"
     ]
    },
    {
     "name": "stdout",
     "output_type": "stream",
     "text": [
      "=============================================================\n",
      "epoch: 6, source_val_acc_label: 0.8162, target_val_acc_label: 0.5240, source_val_label_loss: 0.5057, target_val_label_loss: 2830.4019, \n",
      "=============================================================\n"
     ]
    },
    {
     "name": "stdout",
     "output_type": "stream",
     "text": [
      "Patience (3) exhausted\n"
     ]
    }
   ],
   "source": [
    "###################################\n",
    "# train\n",
    "###################################\n",
    "jig = PTN_Train_Eval_Test_Jig(model, p.BEST_MODEL_PATH, p.device)\n",
    "\n",
    "jig.train(\n",
    "    train_iterable=datasets.source.processed.train,\n",
    "    source_val_iterable=datasets.source.processed.val,\n",
    "    target_val_iterable=datasets.target.processed.val,\n",
    "    num_epochs=p.n_epoch,\n",
    "    num_logs_per_epoch=p.NUM_LOGS_PER_EPOCH,\n",
    "    patience=p.patience,\n",
    "    optimizer=optimizer,\n",
    "    criteria_for_best=p.criteria_for_best,\n",
    ")"
   ]
  },
  {
   "cell_type": "code",
   "execution_count": 23,
   "id": "31e8fabf",
   "metadata": {
    "execution": {
     "iopub.execute_input": "2022-03-18T02:50:37.660430Z",
     "iopub.status.busy": "2022-03-18T02:50:37.660012Z",
     "iopub.status.idle": "2022-03-18T02:50:37.678732Z",
     "shell.execute_reply": "2022-03-18T02:50:37.679118Z"
    },
    "papermill": {
     "duration": 0.061347,
     "end_time": "2022-03-18T02:50:37.679261",
     "exception": false,
     "start_time": "2022-03-18T02:50:37.617914",
     "status": "completed"
    },
    "tags": []
   },
   "outputs": [],
   "source": [
    "total_experiment_time_secs = time.time() - start_time_secs"
   ]
  },
  {
   "cell_type": "code",
   "execution_count": 24,
   "id": "87b9595b",
   "metadata": {
    "execution": {
     "iopub.execute_input": "2022-03-18T02:50:37.746289Z",
     "iopub.status.busy": "2022-03-18T02:50:37.746009Z",
     "iopub.status.idle": "2022-03-18T02:52:14.850869Z",
     "shell.execute_reply": "2022-03-18T02:52:14.850507Z"
    },
    "papermill": {
     "duration": 97.138116,
     "end_time": "2022-03-18T02:52:14.850956",
     "exception": false,
     "start_time": "2022-03-18T02:50:37.712840",
     "status": "completed"
    },
    "tags": []
   },
   "outputs": [],
   "source": [
    "###################################\n",
    "# Evaluate the model\n",
    "###################################\n",
    "source_test_label_accuracy, source_test_label_loss = jig.test(datasets.source.processed.test)\n",
    "target_test_label_accuracy, target_test_label_loss = jig.test(datasets.target.processed.test)\n",
    "\n",
    "source_val_label_accuracy, source_val_label_loss = jig.test(datasets.source.processed.val)\n",
    "target_val_label_accuracy, target_val_label_loss = jig.test(datasets.target.processed.val)\n",
    "\n",
    "history = jig.get_history()\n",
    "\n",
    "total_epochs_trained = len(history[\"epoch_indices\"])\n",
    "\n",
    "val_dl = Iterable_Aggregator((datasets.source.original.val,datasets.target.original.val))\n",
    "\n",
    "confusion = ptn_confusion_by_domain_over_dataloader(model, p.device, val_dl)\n",
    "per_domain_accuracy = per_domain_accuracy_from_confusion(confusion)\n",
    "\n",
    "# Add a key to per_domain_accuracy for if it was a source domain\n",
    "for domain, accuracy in per_domain_accuracy.items():\n",
    "    per_domain_accuracy[domain] = {\n",
    "        \"accuracy\": accuracy,\n",
    "        \"source?\": domain in p.domains_source\n",
    "    }\n",
    "\n",
    "# Do an independent accuracy assesment JUST TO BE SURE!\n",
    "# _source_test_label_accuracy = independent_accuracy_assesment(model, datasets.source.processed.test, p.device)\n",
    "# _target_test_label_accuracy = independent_accuracy_assesment(model, datasets.target.processed.test, p.device)\n",
    "# _source_val_label_accuracy = independent_accuracy_assesment(model, datasets.source.processed.val, p.device)\n",
    "# _target_val_label_accuracy = independent_accuracy_assesment(model, datasets.target.processed.val, p.device)\n",
    "\n",
    "# assert(_source_test_label_accuracy == source_test_label_accuracy)\n",
    "# assert(_target_test_label_accuracy == target_test_label_accuracy)\n",
    "# assert(_source_val_label_accuracy == source_val_label_accuracy)\n",
    "# assert(_target_val_label_accuracy == target_val_label_accuracy)\n",
    "\n",
    "experiment = {\n",
    "    \"experiment_name\": p.experiment_name,\n",
    "    \"parameters\": dict(p),\n",
    "    \"results\": {\n",
    "        \"source_test_label_accuracy\": source_test_label_accuracy,\n",
    "        \"source_test_label_loss\": source_test_label_loss,\n",
    "        \"target_test_label_accuracy\": target_test_label_accuracy,\n",
    "        \"target_test_label_loss\": target_test_label_loss,\n",
    "        \"source_val_label_accuracy\": source_val_label_accuracy,\n",
    "        \"source_val_label_loss\": source_val_label_loss,\n",
    "        \"target_val_label_accuracy\": target_val_label_accuracy,\n",
    "        \"target_val_label_loss\": target_val_label_loss,\n",
    "        \"total_epochs_trained\": total_epochs_trained,\n",
    "        \"total_experiment_time_secs\": total_experiment_time_secs,\n",
    "        \"confusion\": confusion,\n",
    "        \"per_domain_accuracy\": per_domain_accuracy,\n",
    "    },\n",
    "    \"history\": history,\n",
    "    \"dataset_metrics\": get_dataset_metrics(datasets, \"ptn\"),\n",
    "}"
   ]
  },
  {
   "cell_type": "code",
   "execution_count": 25,
   "id": "54a21829",
   "metadata": {
    "execution": {
     "iopub.execute_input": "2022-03-18T02:52:14.914270Z",
     "iopub.status.busy": "2022-03-18T02:52:14.913998Z",
     "iopub.status.idle": "2022-03-18T02:52:15.049016Z",
     "shell.execute_reply": "2022-03-18T02:52:15.049437Z"
    },
    "papermill": {
     "duration": 0.165924,
     "end_time": "2022-03-18T02:52:15.049571",
     "exception": false,
     "start_time": "2022-03-18T02:52:14.883647",
     "status": "completed"
    },
    "tags": []
   },
   "outputs": [
    {
     "data": {
      "image/png": "[encoded data removed]",
      "text/plain": [
       "<Figure size 1080x504 with 1 Axes>"
      ]
     },
     "metadata": {
      "needs_background": "light"
     },
     "output_type": "display_data"
    }
   ],
   "source": [
    "ax = get_loss_curve(experiment)\n",
    "plt.show()"
   ]
  },
  {
   "cell_type": "code",
   "execution_count": 26,
   "id": "fd8a0f60",
   "metadata": {
    "execution": {
     "iopub.execute_input": "2022-03-18T02:52:15.116637Z",
     "iopub.status.busy": "2022-03-18T02:52:15.115584Z",
     "iopub.status.idle": "2022-03-18T02:52:15.272346Z",
     "shell.execute_reply": "2022-03-18T02:52:15.272720Z"
    },
    "papermill": {
     "duration": 0.191563,
     "end_time": "2022-03-18T02:52:15.272841",
     "exception": false,
     "start_time": "2022-03-18T02:52:15.081278",
     "status": "completed"
    },
    "tags": []
   },
   "outputs": [
    {
     "data": {
      "text/plain": [
       "<AxesSubplot:title={'center':'Results'}>"
      ]
     },
     "execution_count": 26,
     "metadata": {},
     "output_type": "execute_result"
    },
    {
     "data": {
      "image/png": "[encoded data removed]",
      "text/plain": [
       "<Figure size 1080x504 with 1 Axes>"
      ]
     },
     "metadata": {
      "needs_background": "light"
     },
     "output_type": "display_data"
    }
   ],
   "source": [
    "get_results_table(experiment)"
   ]
  },
  {
   "cell_type": "code",
   "execution_count": 27,
   "id": "cf8dc689",
   "metadata": {
    "execution": {
     "iopub.execute_input": "2022-03-18T02:52:15.339832Z",
     "iopub.status.busy": "2022-03-18T02:52:15.339569Z",
     "iopub.status.idle": "2022-03-18T02:52:15.504805Z",
     "shell.execute_reply": "2022-03-18T02:52:15.505028Z"
    },
    "papermill": {
     "duration": 0.197053,
     "end_time": "2022-03-18T02:52:15.505110",
     "exception": false,
     "start_time": "2022-03-18T02:52:15.308057",
     "status": "completed"
    },
    "tags": []
   },
   "outputs": [
    {
     "data": {
      "text/plain": [
       "<AxesSubplot:title={'center':'Per Domain Validation Accuracy'}, xlabel='domain'>"
      ]
     },
     "execution_count": 27,
     "metadata": {},
     "output_type": "execute_result"
    },
    {
     "data": {
      "image/png": "[encoded data removed]",
      "text/plain": [
       "<Figure size 1080x504 with 1 Axes>"
      ]
     },
     "metadata": {
      "needs_background": "light"
     },
     "output_type": "display_data"
    }
   ],
   "source": [
    "get_domain_accuracies(experiment)"
   ]
  },
  {
   "cell_type": "code",
   "execution_count": 28,
   "id": "a74ae082",
   "metadata": {
    "execution": {
     "iopub.execute_input": "2022-03-18T02:52:15.571622Z",
     "iopub.status.busy": "2022-03-18T02:52:15.571352Z",
     "iopub.status.idle": "2022-03-18T02:52:15.586043Z",
     "shell.execute_reply": "2022-03-18T02:52:15.586271Z"
    },
    "papermill": {
     "duration": 0.047923,
     "end_time": "2022-03-18T02:52:15.586351",
     "exception": false,
     "start_time": "2022-03-18T02:52:15.538428",
     "status": "completed"
    },
    "tags": []
   },
   "outputs": [
    {
     "name": "stdout",
     "output_type": "stream",
     "text": [
      "Source Test Label Accuracy: 0.6996419270833333 Target Test Label Accuracy: 0.5003210616438356\n",
      "Source Val Label Accuracy: 0.69150390625 Target Val Label Accuracy: 0.5026755136986302\n"
     ]
    }
   ],
   "source": [
    "print(\"Source Test Label Accuracy:\", experiment[\"results\"][\"source_test_label_accuracy\"], \"Target Test Label Accuracy:\", experiment[\"results\"][\"target_test_label_accuracy\"])\n",
    "print(\"Source Val Label Accuracy:\", experiment[\"results\"][\"source_val_label_accuracy\"], \"Target Val Label Accuracy:\", experiment[\"results\"][\"target_val_label_accuracy\"])"
   ]
  },
  {
   "cell_type": "code",
   "execution_count": 29,
   "id": "dacca602",
   "metadata": {
    "execution": {
     "iopub.execute_input": "2022-03-18T02:52:15.651407Z",
     "iopub.status.busy": "2022-03-18T02:52:15.650701Z",
     "iopub.status.idle": "2022-03-18T02:52:15.664855Z",
     "shell.execute_reply": "2022-03-18T02:52:15.665074Z"
    },
    "papermill": {
     "duration": 0.047831,
     "end_time": "2022-03-18T02:52:15.665152",
     "exception": false,
     "start_time": "2022-03-18T02:52:15.617321",
     "status": "completed"
    },
    "tags": [
     "experiment_json"
    ]
   },
   "outputs": [
    {
     "data": {
      "text/plain": [
       "'{\"experiment_name\": \"tl_3-filter:oracle.run1.framed -> cores+wisig\", \"parameters\": {\"experiment_name\": \"tl_3-filter:oracle.run1.framed -> cores+wisig\", \"device\": \"cuda\", \"lr\": 0.001, \"seed\": 1337, \"dataset_seed\": 1337, \"x_shape\": [2, 200], \"n_shot\": 3, \"n_query\": 2, \"train_k_factor\": 3, \"val_k_factor\": 2, \"test_k_factor\": 2, \"torch_default_dtype\": \"torch.float32\", \"n_epoch\": 50, \"patience\": 3, \"criteria_for_best\": \"target_loss\", \"x_net\": [{\"class\": \"nnReshape\", \"kargs\": {\"shape\": [-1, 1, 2, 200]}}, {\"class\": \"Conv2d\", \"kargs\": {\"in_channels\": 1, \"out_channels\": 256, \"kernel_size\": [1, 7], \"bias\": false, \"padding\": [0, 3]}}, {\"class\": \"ReLU\", \"kargs\": {\"inplace\": true}}, {\"class\": \"BatchNorm2d\", \"kargs\": {\"num_features\": 256}}, {\"class\": \"Conv2d\", \"kargs\": {\"in_channels\": 256, \"out_channels\": 80, \"kernel_size\": [2, 7], \"bias\": true, \"padding\": [0, 3]}}, {\"class\": \"ReLU\", \"kargs\": {\"inplace\": true}}, {\"class\": \"BatchNorm2d\", \"kargs\": {\"num_features\": 80}}, {\"class\": \"Flatten\", \"kargs\": {}}, {\"class\": \"Linear\", \"kargs\": {\"in_features\": 16000, \"out_features\": 256}}, {\"class\": \"ReLU\", \"kargs\": {\"inplace\": true}}, {\"class\": \"BatchNorm1d\", \"kargs\": {\"num_features\": 256}}, {\"class\": \"Linear\", \"kargs\": {\"in_features\": 256, \"out_features\": 256}}], \"NUM_LOGS_PER_EPOCH\": 10, \"BEST_MODEL_PATH\": \"./best_model.pth\", \"n_way\": 16, \"datasets\": [{\"labels\": [\"1-10.\", \"1-11.\", \"1-15.\", \"1-16.\", \"1-17.\", \"1-18.\", \"1-19.\", \"10-4.\", \"10-7.\", \"11-1.\", \"11-14.\", \"11-17.\", \"11-20.\", \"11-7.\", \"13-20.\", \"13-8.\", \"14-10.\", \"14-11.\", \"14-14.\", \"14-7.\", \"15-1.\", \"15-20.\", \"16-1.\", \"16-16.\", \"17-10.\", \"17-11.\", \"17-2.\", \"19-1.\", \"19-16.\", \"19-19.\", \"19-20.\", \"19-3.\", \"2-10.\", \"2-11.\", \"2-17.\", \"2-18.\", \"2-20.\", \"2-3.\", \"2-4.\", \"2-5.\", \"2-6.\", \"2-7.\", \"2-8.\", \"3-13.\", \"3-18.\", \"3-3.\", \"4-1.\", \"4-10.\", \"4-11.\", \"4-19.\", \"5-5.\", \"6-15.\", \"7-10.\", \"7-14.\", \"8-18.\", \"8-20.\", \"8-3.\", \"8-8.\"], \"domains\": [1, 2, 3, 4, 5], \"num_examples_per_domain_per_label\": 100, \"pickle_path\": \"/mnt/wd500GB/CSC500/csc500-main/datasets/cores.stratified_ds.2022A.pkl\", \"source_or_target_dataset\": \"target\", \"x_transforms\": [\"unit_mag\", \"lowpass_+/-10MHz\", \"take_200\"], \"episode_transforms\": [], \"domain_prefix\": \"C_A_\"}, {\"labels\": [\"1-10\", \"1-12\", \"1-14\", \"1-16\", \"1-18\", \"1-19\", \"1-8\", \"10-11\", \"10-17\", \"10-4\", \"10-7\", \"11-1\", \"11-10\", \"11-19\", \"11-20\", \"11-4\", \"11-7\", \"12-19\", \"12-20\", \"12-7\", \"13-14\", \"13-18\", \"13-19\", \"13-20\", \"13-3\", \"13-7\", \"14-10\", \"14-11\", \"14-12\", \"14-13\", \"14-14\", \"14-19\", \"14-20\", \"14-7\", \"14-8\", \"14-9\", \"15-1\", \"15-19\", \"15-6\", \"16-1\", \"16-16\", \"16-19\", \"16-20\", \"17-10\", \"17-11\", \"18-1\", \"18-10\", \"18-11\", \"18-12\", \"18-13\", \"18-14\", \"18-15\", \"18-16\", \"18-17\", \"18-19\", \"18-2\", \"18-20\", \"18-4\", \"18-5\", \"18-7\", \"18-8\", \"18-9\", \"19-1\", \"19-10\", \"19-11\", \"19-12\", \"19-13\", \"19-14\", \"19-15\", \"19-19\", \"19-2\", \"19-20\", \"19-3\", \"19-4\", \"19-6\", \"19-7\", \"19-8\", \"19-9\", \"2-1\", \"2-13\", \"2-15\", \"2-3\", \"2-4\", \"2-5\", \"2-6\", \"2-7\", \"2-8\", \"20-1\", \"20-12\", \"20-14\", \"20-15\", \"20-16\", \"20-18\", \"20-19\", \"20-20\", \"20-3\", \"20-4\", \"20-5\", \"20-7\", \"20-8\", \"3-1\", \"3-13\", \"3-18\", \"3-2\", \"3-8\", \"4-1\", \"4-10\", \"4-11\", \"5-1\", \"5-5\", \"6-1\", \"6-15\", \"6-6\", \"7-10\", \"7-11\", \"7-12\", \"7-13\", \"7-14\", \"7-7\", \"7-8\", \"7-9\", \"8-1\", \"8-13\", \"8-14\", \"8-18\", \"8-20\", \"8-3\", \"8-8\", \"9-1\", \"9-7\"], \"domains\": [1, 2, 3, 4], \"num_examples_per_domain_per_label\": 100, \"pickle_path\": \"/mnt/wd500GB/CSC500/csc500-main/datasets/wisig.node3-19.stratified_ds.2022A.pkl\", \"source_or_target_dataset\": \"target\", \"x_transforms\": [\"unit_mag\", \"lowpass_+/-10MHz\", \"take_200\"], \"episode_transforms\": [], \"domain_prefix\": \"W_A_\"}, {\"labels\": [\"3123D52\", \"3123D65\", \"3123D79\", \"3123D80\", \"3123D54\", \"3123D70\", \"3123D7B\", \"3123D89\", \"3123D58\", \"3123D76\", \"3123D7D\", \"3123EFE\", \"3123D64\", \"3123D78\", \"3123D7E\", \"3124E4A\"], \"domains\": [32, 38, 8, 44, 14, 50, 20, 26], \"num_examples_per_domain_per_label\": 2000, \"pickle_path\": \"/mnt/wd500GB/CSC500/csc500-main/datasets/oracle.Run1_framed_2000Examples_stratified_ds.2022A.pkl\", \"source_or_target_dataset\": \"source\", \"x_transforms\": [\"unit_mag\", \"take_200\", \"resample_20Msps_to_25Msps\"], \"episode_transforms\": [], \"domain_prefix\": \"ORACLE.run1_\"}], \"domains_source\": [\"ORACLE.run1_32\", \"ORACLE.run1_38\", \"ORACLE.run1_8\", \"ORACLE.run1_44\", \"ORACLE.run1_14\", \"ORACLE.run1_50\", \"ORACLE.run1_20\", \"ORACLE.run1_26\"], \"domains_target\": [\"C_A_1\", \"C_A_2\", \"C_A_3\", \"C_A_4\", \"C_A_5\", \"W_A_1\", \"W_A_2\", \"W_A_3\", \"W_A_4\"]}, \"results\": {\"source_test_label_accuracy\": 0.6996419270833333, \"source_test_label_loss\": 0.8448700308799744, \"target_test_label_accuracy\": 0.5003210616438356, \"target_test_label_loss\": 618.0875244140625, \"source_val_label_accuracy\": 0.69150390625, \"source_val_label_loss\": 0.8597903251647949, \"target_val_label_accuracy\": 0.5026755136986302, \"target_val_label_loss\": 563.9418334960938, \"total_epochs_trained\": 6, \"total_experiment_time_secs\": 1762.739995956421, \"confusion\": {\"ORACLE.run1_14\": {\"15\": {\"15\": 224, \"7\": 16}, \"3\": {\"3\": 228, \"4\": 9, \"0\": 1, \"2\": 1, \"14\": 1}, \"6\": {\"13\": 65, \"6\": 145, \"2\": 7, \"14\": 23}, \"1\": {\"1\": 211, \"5\": 26, \"4\": 3}, \"8\": {\"8\": 240}, \"10\": {\"10\": 223, \"0\": 17}, \"9\": {\"9\": 240}, \"13\": {\"14\": 66, \"13\": 65, \"2\": 18, \"6\": 84, \"5\": 7}, \"12\": {\"12\": 240}, \"5\": {\"5\": 143, \"4\": 47, \"1\": 38, \"2\": 8, \"3\": 3, \"6\": 1}, \"0\": {\"0\": 180, \"10\": 50, \"11\": 4, \"3\": 6}, \"2\": {\"2\": 110, \"6\": 24, \"3\": 13, \"4\": 11, \"14\": 38, \"13\": 12, \"15\": 2, \"5\": 30}, \"11\": {\"11\": 228, \"9\": 11, \"10\": 1}, \"14\": {\"14\": 178, \"13\": 34, \"2\": 16, \"6\": 9, \"3\": 3}, \"7\": {\"7\": 235, \"15\": 5}, \"4\": {\"4\": 194, \"3\": 5, \"5\": 36, \"2\": 3, \"1\": 2}}, \"ORACLE.run1_20\": {\"3\": {\"3\": 123, \"9\": 47, \"12\": 40, \"1\": 2, \"5\": 7, \"4\": 4, \"2\": 13, \"7\": 2, \"0\": 1, \"8\": 1}, \"15\": {\"15\": 130, \"1\": 51, \"5\": 15, \"12\": 5, \"0\": 33, \"13\": 6}, \"8\": {\"8\": 197, \"7\": 12, \"4\": 22, \"10\": 4, \"14\": 2, \"3\": 2, \"2\": 1}, \"4\": {\"4\": 192, \"3\": 12, \"8\": 23, \"12\": 2, \"10\": 7, \"5\": 4}, \"14\": {\"6\": 25, \"14\": 197, \"10\": 14, \"8\": 4}, \"0\": {\"5\": 71, \"3\": 6, \"0\": 85, \"1\": 19, \"15\": 35, \"12\": 18, \"2\": 2, \"4\": 1, \"13\": 2, \"9\": 1}, \"7\": {\"2\": 31, \"8\": 11, \"7\": 172, \"3\": 5, \"9\": 19, \"10\": 1, \"13\": 1}, \"6\": {\"6\": 213, \"10\": 1, \"14\": 25, \"7\": 1}, \"10\": {\"14\": 20, \"10\": 212, \"4\": 4, \"8\": 4}, \"5\": {\"0\": 81, \"1\": 23, \"5\": 98, \"12\": 24, \"3\": 6, \"15\": 7, \"4\": 1}, \"2\": {\"2\": 111, \"7\": 17, \"15\": 2, \"9\": 78, \"3\": 10, \"13\": 16, \"12\": 5, \"0\": 1}, \"12\": {\"12\": 104, \"3\": 52, \"1\": 33, \"5\": 20, \"0\": 8, \"2\": 4, \"9\": 13, \"4\": 1, \"15\": 4, \"13\": 1}, \"9\": {\"9\": 124, \"2\": 65, \"3\": 34, \"12\": 8, \"4\": 1, \"7\": 5, \"13\": 2, \"8\": 1}, \"1\": {\"1\": 99, \"12\": 37, \"5\": 34, \"0\": 31, \"15\": 37, \"3\": 2}, \"11\": {\"11\": 240}, \"13\": {\"13\": 220, \"2\": 17, \"5\": 1, \"1\": 1, \"9\": 1}}, \"ORACLE.run1_38\": {\"5\": {\"8\": 62, \"0\": 13, \"9\": 6, \"5\": 94, \"1\": 7, \"15\": 8, \"3\": 6, \"7\": 25, \"6\": 18, \"13\": 1}, \"8\": {\"8\": 141, \"7\": 19, \"15\": 8, \"10\": 5, \"1\": 2, \"5\": 30, \"0\": 33, \"13\": 2}, \"11\": {\"11\": 165, \"14\": 67, \"4\": 1, \"3\": 1, \"12\": 4, \"10\": 1, \"0\": 1}, \"1\": {\"1\": 226, \"8\": 1, \"15\": 13}, \"10\": {\"10\": 149, \"13\": 30, \"0\": 7, \"12\": 10, \"8\": 21, \"7\": 5, \"2\": 3, \"5\": 4, \"15\": 3, \"4\": 4, \"14\": 3, \"11\": 1}, \"15\": {\"13\": 53, \"8\": 10, \"15\": 152, \"1\": 20, \"2\": 1, \"5\": 2, \"0\": 1, \"10\": 1}, \"3\": {\"3\": 208, \"5\": 3, \"7\": 7, \"9\": 17, \"0\": 3, \"6\": 2}, \"7\": {\"7\": 155, \"0\": 53, \"5\": 16, \"8\": 12, \"3\": 4}, \"4\": {\"4\": 202, \"12\": 38}, \"14\": {\"14\": 194, \"11\": 19, \"2\": 22, \"10\": 5}, \"9\": {\"9\": 151, \"6\": 72, \"3\": 17}, \"12\": {\"12\": 219, \"4\": 19, \"10\": 2}, \"6\": {\"6\": 189, \"9\": 48, \"5\": 2, \"3\": 1}, \"2\": {\"2\": 207, \"14\": 19, \"11\": 1, \"13\": 12, \"10\": 1}, \"0\": {\"8\": 63, \"7\": 57, \"0\": 71, \"5\": 21, \"10\": 9, \"6\": 3, \"3\": 6, \"9\": 3, \"13\": 2, \"15\": 4, \"14\": 1}, \"13\": {\"13\": 143, \"2\": 15, \"15\": 61, \"10\": 16, \"1\": 3, \"5\": 1, \"8\": 1}}, \"ORACLE.run1_8\": {\"9\": {\"9\": 240}, \"10\": {\"10\": 175, \"14\": 46, \"4\": 5, \"13\": 13, \"5\": 1}, \"13\": {\"13\": 80, \"4\": 45, \"0\": 63, \"10\": 18, \"14\": 27, \"6\": 6, \"7\": 1}, \"0\": {\"13\": 51, \"0\": 162, \"7\": 15, \"4\": 4, \"6\": 8}, \"1\": {\"1\": 185, \"11\": 46, \"5\": 3, \"14\": 5, \"10\": 1}, \"15\": {\"15\": 187, \"12\": 44, \"8\": 9}, \"5\": {\"5\": 215, \"11\": 1, \"1\": 14, \"10\": 6, \"14\": 4}, \"3\": {\"2\": 16, \"3\": 212, \"12\": 12}, \"6\": {\"6\": 145, \"0\": 5, \"7\": 55, \"4\": 26, \"13\": 7, \"14\": 2}, \"11\": {\"11\": 177, \"1\": 54, \"14\": 3, \"5\": 6}, \"8\": {\"8\": 231, \"15\": 9}, \"4\": {\"13\": 43, \"4\": 143, \"6\": 21, \"14\": 26, \"10\": 3, \"0\": 4}, \"12\": {\"12\": 119, \"15\": 74, \"3\": 42, \"8\": 5}, \"14\": {\"4\": 23, \"14\": 129, \"10\": 55, \"6\": 1, \"1\": 17, \"13\": 13, \"11\": 2}, \"2\": {\"15\": 7, \"2\": 188, \"3\": 36, \"12\": 2, \"7\": 7}, \"7\": {\"7\": 193, \"6\": 44, \"0\": 2, \"13\": 1}}, \"ORACLE.run1_50\": {\"7\": {\"7\": 145, \"13\": 51, \"10\": 24, \"5\": 20}, \"3\": {\"3\": 238, \"8\": 2}, \"8\": {\"8\": 226, \"10\": 13, \"3\": 1}, \"2\": {\"2\": 210, \"0\": 30}, \"14\": {\"14\": 237, \"12\": 1, \"11\": 2}, \"4\": {\"15\": 39, \"4\": 102, \"1\": 52, \"5\": 22, \"6\": 16, \"13\": 6, \"7\": 2, \"11\": 1}, \"6\": {\"4\": 14, \"15\": 4, \"2\": 2, \"6\": 162, \"1\": 15, \"13\": 30, \"5\": 11, \"7\": 2}, \"15\": {\"15\": 142, \"11\": 21, \"4\": 28, \"1\": 47, \"5\": 1, \"6\": 1}, \"10\": {\"10\": 210, \"8\": 6, \"13\": 8, \"0\": 6, \"7\": 9, \"5\": 1}, \"11\": {\"11\": 200, \"15\": 14, \"9\": 14, \"14\": 6, \"12\": 4, \"1\": 2}, \"13\": {\"13\": 131, \"5\": 38, \"7\": 42, \"6\": 24, \"10\": 4, \"0\": 1}, \"9\": {\"9\": 193, \"12\": 31, \"11\": 16}, \"0\": {\"0\": 199, \"10\": 14, \"2\": 25, \"13\": 1, \"6\": 1}, \"1\": {\"4\": 26, \"1\": 138, \"15\": 43, \"6\": 31, \"5\": 2}, \"12\": {\"12\": 215, \"9\": 16, \"14\": 7, \"11\": 2}, \"5\": {\"5\": 72, \"4\": 39, \"7\": 45, \"13\": 45, \"1\": 16, \"6\": 20, \"10\": 2, \"15\": 1}}, \"ORACLE.run1_32\": {\"8\": {\"5\": 26, \"8\": 171, \"13\": 20, \"14\": 3, \"0\": 15, \"7\": 2, \"3\": 1, \"4\": 2}, \"14\": {\"11\": 72, \"0\": 14, \"14\": 86, \"13\": 4, \"5\": 10, \"7\": 43, \"8\": 4, \"3\": 6, \"4\": 1}, \"2\": {\"2\": 191, \"4\": 42, \"0\": 3, \"7\": 4}, \"0\": {\"2\": 9, \"0\": 156, \"4\": 11, \"7\": 16, \"5\": 8, \"8\": 27, \"14\": 8, \"13\": 5}, \"1\": {\"1\": 237, \"10\": 3}, \"10\": {\"10\": 240}, \"11\": {\"11\": 163, \"14\": 53, \"5\": 4, \"7\": 18, \"13\": 2}, \"5\": {\"5\": 54, \"11\": 11, \"3\": 28, \"13\": 51, \"14\": 11, \"8\": 26, \"7\": 34, \"4\": 13, \"0\": 12}, \"15\": {\"15\": 239, \"8\": 1}, \"3\": {\"3\": 216, \"14\": 2, \"5\": 16, \"11\": 3, \"13\": 2, \"8\": 1}, \"12\": {\"12\": 240}, \"7\": {\"4\": 29, \"14\": 23, \"7\": 111, \"5\": 23, \"11\": 14, \"0\": 12, \"13\": 21, \"8\": 2, \"3\": 2, \"2\": 3}, \"13\": {\"8\": 22, \"13\": 93, \"5\": 49, \"0\": 7, \"3\": 12, \"4\": 26, \"14\": 4, \"7\": 24, \"11\": 3}, \"6\": {\"6\": 240}, \"4\": {\"4\": 139, \"7\": 27, \"2\": 55, \"0\": 8, \"13\": 4, \"5\": 4, \"8\": 2, \"14\": 1}, \"9\": {\"9\": 239, \"12\": 1}}, \"ORACLE.run1_26\": {\"4\": {\"14\": 49, \"4\": 93, \"7\": 8, \"1\": 18, \"8\": 33, \"0\": 33, \"10\": 6}, \"12\": {\"12\": 239, \"11\": 1}, \"10\": {\"1\": 4, \"0\": 63, \"10\": 85, \"6\": 23, \"8\": 29, \"14\": 25, \"4\": 8, \"9\": 3}, \"0\": {\"8\": 26, \"0\": 64, \"1\": 7, \"14\": 34, \"9\": 3, \"6\": 9, \"4\": 28, \"10\": 66, \"7\": 3}, \"13\": {\"13\": 156, \"5\": 41, \"15\": 20, \"2\": 6, \"6\": 5, \"9\": 12}, \"9\": {\"5\": 17, \"15\": 81, \"9\": 84, \"6\": 23, \"8\": 13, \"4\": 1, \"13\": 9, \"10\": 7, \"0\": 1, \"2\": 2, \"7\": 2}, \"3\": {\"3\": 155, \"2\": 56, \"8\": 3, \"7\": 24, \"1\": 1, \"5\": 1}, \"2\": {\"2\": 92, \"7\": 28, \"15\": 9, \"3\": 72, \"5\": 21, \"9\": 9, \"8\": 8, \"13\": 1}, \"5\": {\"2\": 17, \"13\": 18, \"15\": 29, \"5\": 147, \"9\": 17, \"8\": 3, \"7\": 6, \"3\": 3}, \"14\": {\"4\": 51, \"1\": 37, \"14\": 84, \"0\": 37, \"8\": 8, \"10\": 21, \"7\": 2}, \"8\": {\"8\": 90, \"7\": 20, \"4\": 23, \"14\": 14, \"0\": 22, \"10\": 29, \"6\": 11, \"9\": 15, \"15\": 10, \"2\": 3, \"3\": 2, \"1\": 1}, \"7\": {\"7\": 155, \"2\": 22, \"1\": 2, \"15\": 4, \"3\": 17, \"4\": 18, \"9\": 2, \"8\": 16, \"0\": 2, \"14\": 2}, \"6\": {\"6\": 179, \"9\": 15, \"8\": 8, \"4\": 1, \"10\": 22, \"13\": 2, \"15\": 9, \"0\": 4}, \"11\": {\"11\": 239, \"12\": 1}, \"15\": {\"15\": 88, \"9\": 72, \"8\": 22, \"13\": 20, \"0\": 3, \"5\": 21, \"7\": 3, \"2\": 4, \"6\": 6, \"10\": 1}, \"1\": {\"1\": 146, \"14\": 48, \"10\": 4, \"4\": 25, \"0\": 4, \"7\": 7, \"8\": 5, \"2\": 1}}, \"ORACLE.run1_44\": {\"12\": {\"12\": 161, \"1\": 57, \"10\": 20, \"3\": 1, \"2\": 1}, \"7\": {\"7\": 138, \"2\": 38, \"6\": 9, \"9\": 51, \"10\": 1, \"3\": 3}, \"5\": {\"5\": 174, \"15\": 15, \"0\": 24, \"8\": 12, \"4\": 3, \"14\": 12}, \"15\": {\"15\": 175, \"14\": 23, \"5\": 8, \"0\": 24, \"8\": 8, \"4\": 2}, \"8\": {\"0\": 90, \"8\": 137, \"15\": 10, \"5\": 3}, \"2\": {\"2\": 171, \"7\": 42, \"10\": 15, \"1\": 10, \"3\": 1, \"12\": 1}, \"13\": {\"6\": 37, \"13\": 146, \"9\": 40, \"7\": 2, \"11\": 14, \"4\": 1}, \"4\": {\"4\": 168, \"14\": 70, \"13\": 1, \"15\": 1}, \"0\": {\"8\": 77, \"5\": 31, \"0\": 120, \"15\": 12}, \"6\": {\"9\": 36, \"6\": 139, \"13\": 42, \"7\": 12, \"11\": 11}, \"9\": {\"13\": 36, \"7\": 47, \"9\": 128, \"6\": 24, \"2\": 4, \"1\": 1}, \"11\": {\"11\": 200, \"6\": 10, \"9\": 3, \"13\": 27}, \"10\": {\"1\": 25, \"10\": 169, \"12\": 30, \"2\": 15, \"3\": 1}, \"14\": {\"4\": 86, \"14\": 122, \"15\": 22, \"5\": 10}, \"1\": {\"3\": 24, \"12\": 73, \"1\": 110, \"10\": 20, \"2\": 13}, \"3\": {\"3\": 206, \"1\": 19, \"7\": 1, \"12\": 9, \"2\": 5}}, \"C_A_3\": {\"43\": {\"43\": 12}, \"9\": {\"9\": 10, \"29\": 2}, \"6\": {\"6\": 8, \"23\": 1, \"3\": 1}, \"3\": {\"6\": 3, \"3\": 1, \"46\": 1, \"52\": 2, \"42\": 1, \"53\": 1, \"41\": 1, \"35\": 1, \"26\": 1}, \"16\": {\"16\": 12}, \"51\": {\"51\": 11, \"8\": 1}, \"31\": {\"31\": 10, \"28\": 1, \"5\": 1}, \"46\": {\"46\": 4, \"3\": 4, \"57\": 1, \"18\": 1}, \"19\": {\"9\": 3, \"44\": 1, \"19\": 3, \"45\": 1}, \"8\": {\"8\": 12}, \"18\": {\"18\": 12}, \"37\": {\"37\": 6, \"18\": 2, \"33\": 1, \"30\": 1, \"52\": 2}, \"24\": {\"43\": 2, \"24\": 9, \"49\": 1}, \"10\": {\"10\": 12}, \"44\": {\"9\": 1, \"8\": 1, \"36\": 3, \"45\": 1, \"44\": 2, \"40\": 1, \"19\": 1}, \"14\": {\"10\": 1, \"37\": 2, \"55\": 1, \"14\": 3, \"35\": 2, \"32\": 2, \"28\": 1}, \"38\": {\"38\": 9, \"33\": 1}, \"53\": {\"53\": 12}, \"20\": {\"46\": 1, \"20\": 10, \"18\": 1}, \"32\": {\"32\": 12}, \"36\": {\"36\": 10}, \"33\": {\"33\": 10, \"57\": 1, \"20\": 1}, \"56\": {\"56\": 11, \"22\": 1}, \"23\": {\"23\": 12}, \"54\": {\"54\": 10}, \"34\": {\"34\": 12}, \"13\": {\"21\": 5, \"15\": 1, \"0\": 1, \"13\": 2, \"37\": 1, \"16\": 2}, \"2\": {\"2\": 12}, \"55\": {\"34\": 2, \"55\": 5, \"43\": 1, \"6\": 1, \"42\": 1}, \"21\": {\"21\": 8, \"48\": 1, \"20\": 1}, \"49\": {\"5\": 1, \"43\": 1, \"31\": 1, \"24\": 1, \"0\": 2, \"49\": 4}, \"25\": {\"25\": 10, \"27\": 2}, \"5\": {\"5\": 9, \"57\": 1, \"47\": 1, \"42\": 1}, \"50\": {\"18\": 1, \"50\": 5, \"42\": 1, \"3\": 1}, \"40\": {\"40\": 8, \"29\": 2, \"36\": 1, \"4\": 1}, \"57\": {\"57\": 6, \"5\": 1, \"1\": 1}, \"22\": {\"56\": 2, \"0\": 2, \"11\": 2, \"34\": 1, \"22\": 2, \"7\": 1}, \"1\": {\"5\": 1, \"1\": 5, \"28\": 2, \"55\": 1, \"34\": 1}, \"17\": {\"41\": 1, \"17\": 10, \"3\": 1}, \"41\": {\"41\": 10, \"42\": 1, \"48\": 1}, \"4\": {\"25\": 1, \"40\": 2, \"29\": 1, \"48\": 1, \"4\": 4, \"42\": 1}, \"7\": {\"7\": 10}, \"26\": {\"26\": 6, \"18\": 1, \"39\": 3}, \"29\": {\"29\": 12}, \"52\": {\"52\": 9, \"47\": 2, \"16\": 1}, \"15\": {\"15\": 12}, \"35\": {\"35\": 12}, \"42\": {\"42\": 12}, \"30\": {\"30\": 10}, \"27\": {\"27\": 7, \"41\": 1}, \"45\": {\"44\": 2, \"8\": 1, \"48\": 1, \"36\": 2, \"45\": 3, \"17\": 1}, \"0\": {\"0\": 12}, \"28\": {\"28\": 6, \"0\": 1, \"39\": 1, \"5\": 2, \"31\": 1, \"23\": 1}, \"47\": {\"47\": 12}, \"11\": {\"15\": 1, \"11\": 9}, \"39\": {\"26\": 1, \"39\": 9}, \"48\": {\"26\": 1, \"48\": 9, \"41\": 1, \"6\": 1}, \"12\": {\"12\": 8}}, \"C_A_4\": {\"35\": {\"35\": 9, \"7\": 1}, \"25\": {\"30\": 3, \"25\": 6, \"27\": 1, \"48\": 1, \"21\": 1}, \"24\": {\"1\": 2, \"24\": 4, \"32\": 2, \"0\": 2}, \"48\": {\"48\": 9, \"4\": 1, \"26\": 2}, \"51\": {\"51\": 8, \"53\": 2, \"20\": 1, \"21\": 1}, \"13\": {\"22\": 1, \"13\": 8, \"0\": 1, \"38\": 2}, \"14\": {\"35\": 2, \"34\": 2, \"14\": 4}, \"32\": {\"32\": 6, \"31\": 2, \"7\": 1, \"46\": 1, \"52\": 2}, \"30\": {\"30\": 12}, \"34\": {\"34\": 10}, \"9\": {\"25\": 1, \"9\": 9, \"4\": 2}, \"1\": {\"1\": 12}, \"0\": {\"1\": 2, \"0\": 10}, \"38\": {\"38\": 7, \"22\": 3, \"32\": 1, \"13\": 1}, \"22\": {\"22\": 5, \"14\": 1, \"46\": 1, \"38\": 1}, \"40\": {\"40\": 9, \"35\": 1, \"48\": 1, \"19\": 1}, \"39\": {\"5\": 1, \"39\": 10, \"41\": 1}, \"46\": {\"46\": 11, \"24\": 1}, \"36\": {\"36\": 12}, \"50\": {\"50\": 5, \"20\": 3, \"4\": 1, \"36\": 1, \"53\": 1, \"6\": 1}, \"49\": {\"49\": 12}, \"17\": {\"17\": 10, \"45\": 1, \"33\": 1}, \"45\": {\"45\": 7, \"50\": 3, \"30\": 1, \"40\": 1}, \"6\": {\"34\": 2, \"36\": 1, \"6\": 3, \"42\": 1, \"48\": 1, \"16\": 1, \"54\": 2, \"26\": 1}, \"8\": {\"8\": 12}, \"5\": {\"49\": 2, \"52\": 2, \"57\": 1, \"5\": 3, \"39\": 1, \"16\": 1}, \"33\": {\"33\": 6, \"25\": 1, \"31\": 1, \"7\": 1, \"4\": 1, \"28\": 2}, \"31\": {\"37\": 1, \"31\": 9, \"11\": 1, \"32\": 1}, \"37\": {\"37\": 9, \"51\": 1}, \"47\": {\"47\": 8}, \"15\": {\"15\": 10}, \"7\": {\"7\": 12}, \"20\": {\"20\": 11, \"54\": 1}, \"4\": {\"27\": 2, \"4\": 2, \"42\": 1, \"9\": 1, \"45\": 2, \"50\": 1, \"8\": 1, \"28\": 1, \"26\": 1}, \"54\": {\"54\": 12}, \"44\": {\"19\": 2, \"44\": 3, \"26\": 1, \"43\": 1, \"33\": 2, \"35\": 2, \"4\": 1}, \"3\": {\"34\": 1, \"54\": 3, \"26\": 1, \"18\": 1, \"3\": 3, \"36\": 1, \"52\": 1, \"51\": 1}, \"11\": {\"11\": 7, \"15\": 2, \"0\": 1}, \"27\": {\"27\": 10}, \"19\": {\"33\": 1, \"19\": 9, \"40\": 2}, \"55\": {\"55\": 7, \"16\": 1, \"26\": 2, \"15\": 1, \"49\": 1}, \"16\": {\"16\": 12}, \"2\": {\"10\": 2, \"52\": 1, \"43\": 2, \"2\": 2, \"31\": 1, \"16\": 1, \"49\": 1}, \"52\": {\"52\": 10}, \"42\": {\"42\": 9, \"41\": 1}, \"26\": {\"26\": 12}, \"10\": {\"10\": 11, \"38\": 1}, \"53\": {\"53\": 8, \"8\": 2}, \"28\": {\"57\": 1, \"36\": 1, \"28\": 10}, \"21\": {\"21\": 8, \"50\": 2}, \"57\": {\"49\": 1, \"57\": 8, \"7\": 1}, \"23\": {\"23\": 8}, \"43\": {\"43\": 9, \"24\": 1}, \"12\": {\"12\": 12}, \"41\": {\"41\": 11, \"52\": 1}, \"56\": {\"56\": 4, \"16\": 1, \"27\": 1, \"34\": 1, \"2\": 1}, \"18\": {\"18\": 10}, \"29\": {\"2\": 1, \"29\": 2, \"28\": 1, \"47\": 2, \"26\": 1, \"33\": 1}}, \"C_A_5\": {\"47\": {\"47\": 8, \"52\": 2}, \"53\": {\"53\": 12}, \"29\": {\"29\": 5, \"44\": 2, \"24\": 1, \"54\": 1, \"4\": 1, \"46\": 1, \"57\": 1}, \"52\": {\"52\": 10, \"16\": 1, \"46\": 1}, \"55\": {\"1\": 4, \"55\": 7, \"5\": 1}, \"17\": {\"17\": 10, \"38\": 1, \"25\": 1}, \"42\": {\"42\": 12}, \"33\": {\"33\": 6, \"44\": 1, \"41\": 2, \"32\": 1}, \"11\": {\"11\": 12}, \"19\": {\"4\": 1, \"19\": 6, \"9\": 1}, \"1\": {\"1\": 10, \"48\": 1, \"32\": 1}, \"44\": {\"1\": 1, \"47\": 1, \"5\": 3, \"44\": 3, \"22\": 2, \"23\": 1, \"33\": 1}, \"49\": {\"49\": 12}, \"4\": {\"44\": 4, \"4\": 3, \"5\": 1, \"1\": 3, \"40\": 1}, \"6\": {\"6\": 6, \"7\": 1, \"27\": 2, \"30\": 1, \"45\": 1, \"18\": 1}, \"39\": {\"39\": 12}, \"13\": {\"16\": 2, \"15\": 3, \"13\": 5, \"24\": 1, \"43\": 1}, \"5\": {\"5\": 4, \"44\": 3, \"7\": 1, \"40\": 1, \"15\": 1}, \"16\": {\"16\": 7, \"52\": 2, \"46\": 1}, \"25\": {\"25\": 11, \"41\": 1}, \"45\": {\"45\": 12}, \"7\": {\"53\": 2, \"7\": 7, \"20\": 1}, \"22\": {\"35\": 2, \"22\": 2, \"10\": 1, \"24\": 1, \"0\": 1, \"34\": 1, \"4\": 2, \"49\": 2}, \"40\": {\"40\": 5, \"7\": 1, \"55\": 1, \"19\": 3, \"44\": 1, \"30\": 1}, \"38\": {\"38\": 12}, \"35\": {\"35\": 8}, \"56\": {\"56\": 8, \"10\": 1, \"0\": 1, \"24\": 2}, \"50\": {\"0\": 1, \"20\": 1, \"6\": 2, \"28\": 1, \"50\": 2, \"8\": 1, \"18\": 1, \"53\": 1}, \"0\": {\"56\": 2, \"0\": 7, \"43\": 1, \"11\": 1, \"15\": 1}, \"10\": {\"10\": 12}, \"27\": {\"27\": 7, \"6\": 1, \"17\": 2, \"1\": 2}, \"20\": {\"20\": 10}, \"36\": {\"36\": 8}, \"34\": {\"34\": 12}, \"30\": {\"30\": 12}, \"2\": {\"2\": 4, \"24\": 1, \"56\": 1, \"23\": 1, \"11\": 1, \"0\": 1, \"43\": 1}, \"15\": {\"15\": 10, \"11\": 1, \"43\": 1}, \"18\": {\"18\": 12}, \"32\": {\"32\": 11, \"1\": 1}, \"31\": {\"31\": 12}, \"57\": {\"57\": 11, \"39\": 1}, \"48\": {\"32\": 2, \"50\": 2, \"48\": 4}, \"28\": {\"28\": 10}, \"14\": {\"11\": 4, \"28\": 1, \"49\": 1, \"25\": 1, \"41\": 2, \"39\": 1, \"31\": 1, \"14\": 1}, \"3\": {\"34\": 1, \"11\": 1, \"49\": 2, \"15\": 1, \"3\": 4, \"57\": 1, \"13\": 1, \"52\": 1}, \"8\": {\"8\": 12}, \"9\": {\"9\": 7, \"27\": 1, \"29\": 2, \"31\": 1, \"33\": 1}, \"21\": {\"21\": 10}, \"41\": {\"41\": 12}, \"24\": {\"24\": 6, \"3\": 1, \"43\": 2, \"11\": 1, \"13\": 1, \"15\": 1}, \"46\": {\"46\": 10}, \"43\": {\"43\": 9, \"11\": 1}, \"54\": {\"54\": 9, \"23\": 1}, \"23\": {\"23\": 10}, \"37\": {\"37\": 10}, \"12\": {\"12\": 8, \"32\": 1, \"38\": 1}, \"26\": {\"26\": 10}, \"51\": {\"51\": 6}}, \"W_A_3\": {\"109\": {\"44\": 1, \"109\": 3, \"105\": 1, \"9\": 1, \"126\": 1, \"13\": 1, \"81\": 1, \"82\": 1, \"71\": 1, \"10\": 1}, \"127\": {\"57\": 1, \"84\": 1, \"50\": 1, \"90\": 1, \"92\": 1, \"116\": 2, \"55\": 1, \"103\": 1, \"127\": 1, \"49\": 1, \"76\": 1}, \"14\": {\"14\": 9, \"43\": 1, \"116\": 1, \"117\": 1}, \"7\": {\"7\": 6, \"39\": 1, \"32\": 2, \"44\": 1, \"13\": 2}, \"129\": {\"63\": 1, \"14\": 1, \"129\": 4, \"81\": 1, \"16\": 1, \"17\": 1, \"55\": 1, \"93\": 1, \"8\": 1}, \"57\": {\"57\": 5, \"124\": 1, \"31\": 2, \"32\": 2, \"74\": 1, \"90\": 1}, \"84\": {\"44\": 1, \"14\": 1, \"68\": 1, \"115\": 1, \"32\": 2, \"86\": 2, \"84\": 1, \"82\": 1, \"81\": 1, \"10\": 1}, \"114\": {\"44\": 2, \"46\": 1, \"114\": 2, \"92\": 2, \"99\": 1, \"100\": 2, \"29\": 1, \"13\": 1}, \"44\": {\"44\": 7, \"21\": 1, \"32\": 2, \"29\": 1, \"80\": 1}, \"21\": {\"44\": 1, \"21\": 7, \"113\": 1, \"43\": 2, \"39\": 1}, \"46\": {\"44\": 1, \"57\": 1, \"86\": 2, \"68\": 2, \"91\": 1, \"1\": 1, \"80\": 1, \"102\": 1, \"55\": 1, \"46\": 1}, \"100\": {\"44\": 1, \"46\": 1, \"100\": 3, \"28\": 2, \"53\": 1, \"77\": 1, \"120\": 1, \"32\": 1, \"128\": 1}, \"63\": {\"63\": 5, \"24\": 1, \"96\": 2, \"27\": 1, \"43\": 1, \"84\": 1, \"75\": 1}, \"24\": {\"7\": 1, \"21\": 1, \"94\": 1, \"83\": 1, \"36\": 2, \"92\": 1, \"24\": 2, \"41\": 1, \"3\": 1, \"65\": 1}, \"107\": {\"46\": 1, \"44\": 1, \"107\": 2, \"19\": 2, \"26\": 1, \"9\": 1, \"84\": 2, \"5\": 2}, \"35\": {\"109\": 1, \"7\": 1, \"3\": 1, \"10\": 1, \"58\": 2, \"35\": 1, \"28\": 1, \"113\": 1, \"47\": 1}, \"81\": {\"87\": 1, \"81\": 5, \"129\": 1, \"92\": 1, \"13\": 1, \"21\": 1, \"88\": 2}, \"64\": {\"57\": 1, \"87\": 1, \"120\": 1, \"64\": 4, \"100\": 2, \"32\": 1, \"71\": 2}, \"59\": {\"59\": 11, \"83\": 1}, \"33\": {\"80\": 2, \"105\": 1, \"39\": 1, \"2\": 1, \"100\": 1, \"26\": 1, \"67\": 1, \"109\": 1, \"14\": 1, \"110\": 1, \"10\": 1}, \"34\": {\"34\": 6, \"94\": 1, \"10\": 1, \"39\": 1, \"98\": 1, \"123\": 1, \"58\": 1}, \"36\": {\"34\": 1, \"36\": 7, \"52\": 1, \"25\": 1, \"126\": 1, \"24\": 1}, \"79\": {\"79\": 6, \"45\": 2, \"104\": 1, \"20\": 2, \"48\": 1}, \"80\": {\"87\": 1, \"80\": 5, \"16\": 2, \"31\": 1, \"44\": 1, \"32\": 1, \"39\": 1}, \"77\": {\"87\": 1, \"77\": 5, \"108\": 2, \"29\": 1, \"70\": 1, \"99\": 1, \"115\": 1}, \"22\": {\"79\": 1, \"109\": 1, \"22\": 2, \"95\": 1, \"7\": 1, \"66\": 1, \"20\": 1, \"77\": 1, \"57\": 1, \"104\": 1, \"35\": 1}, \"124\": {\"87\": 1, \"109\": 1, \"124\": 3, \"38\": 1, \"95\": 1, \"61\": 1, \"88\": 1, \"127\": 1, \"116\": 1, \"108\": 1}, \"2\": {\"87\": 1, \"57\": 1, \"43\": 2, \"2\": 4, \"81\": 1, \"117\": 1, \"44\": 1, \"103\": 1}, \"87\": {\"33\": 1, \"79\": 1, \"16\": 2, \"5\": 1, \"113\": 1, \"128\": 2, \"69\": 1, \"87\": 1, \"18\": 1, \"45\": 1}, \"105\": {\"33\": 2, \"122\": 1, \"53\": 1, \"19\": 1, \"105\": 2, \"28\": 1, \"86\": 2, \"63\": 1, \"16\": 1}, \"95\": {\"8\": 1, \"95\": 5, \"10\": 1, \"20\": 1, \"35\": 2, \"47\": 1, \"84\": 1}, \"43\": {\"113\": 2, \"31\": 1, \"78\": 1, \"90\": 1, \"43\": 4, \"92\": 1, \"64\": 1, \"32\": 1}, \"56\": {\"18\": 1, \"86\": 1, \"28\": 1, \"56\": 2, \"30\": 1, \"20\": 1, \"103\": 2, \"17\": 1}, \"18\": {\"18\": 4, \"81\": 1, \"119\": 1, \"16\": 1, \"17\": 1, \"115\": 1, \"129\": 1, \"63\": 1, \"123\": 1}, \"85\": {\"8\": 1, \"85\": 2, \"32\": 2, \"4\": 2, \"5\": 2, \"110\": 1, \"14\": 1, \"103\": 1}, \"113\": {\"113\": 5, \"123\": 1, \"31\": 1, \"13\": 2, \"18\": 1, \"29\": 1, \"43\": 1}, \"97\": {\"56\": 1, \"97\": 5, \"101\": 2, \"51\": 1, \"91\": 1, \"58\": 2}, \"86\": {\"113\": 1, \"8\": 1, \"5\": 3, \"86\": 1, \"19\": 1, \"57\": 1, \"32\": 1, \"1\": 1, \"70\": 2}, \"128\": {\"113\": 2, \"128\": 5, \"99\": 1, \"32\": 3, \"68\": 1}, \"123\": {\"113\": 1, \"123\": 6, \"104\": 1, \"29\": 1, \"67\": 1, \"81\": 1, \"21\": 1}, \"8\": {\"86\": 1, \"128\": 1, \"4\": 1, \"12\": 1, \"7\": 1, \"93\": 1, \"8\": 3, \"115\": 1, \"42\": 1, \"101\": 1}, \"110\": {\"18\": 1, \"85\": 1, \"31\": 1, \"10\": 1, \"109\": 1, \"96\": 1, \"110\": 2, \"62\": 1, \"117\": 1, \"44\": 1, \"70\": 1}, \"126\": {\"123\": 1, \"18\": 1, \"120\": 2, \"109\": 1, \"96\": 1, \"32\": 2, \"44\": 2, \"21\": 1, \"33\": 1}, \"101\": {\"42\": 2, \"65\": 1, \"68\": 1, \"58\": 1, \"24\": 1, \"101\": 2, \"59\": 1, \"7\": 2, \"72\": 1}, \"115\": {\"44\": 1, \"115\": 5, \"90\": 1, \"128\": 1, \"119\": 2, \"41\": 1, \"48\": 1}, \"49\": {\"43\": 1, \"114\": 1, \"49\": 1, \"16\": 1, \"48\": 2, \"72\": 2, \"77\": 1, \"70\": 1, \"86\": 1, \"30\": 1}, \"45\": {\"45\": 9, \"90\": 1, \"46\": 1, \"41\": 1}, \"78\": {\"31\": 1, \"44\": 1, \"29\": 2, \"19\": 2, \"78\": 1, \"127\": 2, \"119\": 2, \"39\": 1}, \"65\": {\"65\": 7, \"42\": 1, \"32\": 1, \"104\": 1}, \"54\": {\"54\": 12}, \"31\": {\"31\": 5, \"44\": 1, \"17\": 1, \"88\": 2, \"90\": 1}, \"42\": {\"42\": 4, \"49\": 2, \"48\": 1, \"91\": 1, \"66\": 1, \"88\": 1, \"78\": 1, \"97\": 1}, \"68\": {\"43\": 1, \"44\": 1, \"40\": 1, \"67\": 1, \"5\": 2, \"1\": 1, \"99\": 1, \"32\": 2, \"68\": 2}, \"15\": {\"15\": 7, \"73\": 1, \"98\": 2, \"51\": 1, \"0\": 1}, \"69\": {\"69\": 3, \"102\": 1, \"62\": 1, \"26\": 1, \"1\": 1, \"86\": 1, \"61\": 1, \"117\": 1, \"89\": 2}, \"17\": {\"17\": 1, \"41\": 1, \"67\": 1, \"19\": 1, \"16\": 2, \"76\": 1, \"64\": 1, \"31\": 2}, \"73\": {\"73\": 10, \"15\": 1, \"112\": 1}, \"121\": {\"17\": 2, \"104\": 1, \"121\": 3, \"119\": 1, \"18\": 1, \"32\": 2, \"43\": 2}, \"102\": {\"53\": 1, \"102\": 2, \"101\": 2, \"116\": 2, \"18\": 1, \"127\": 1, \"4\": 1, \"113\": 1, \"43\": 1}, \"48\": {\"121\": 1, \"31\": 1, \"120\": 1, \"112\": 1, \"16\": 1, \"48\": 1, \"77\": 1, \"70\": 1, \"58\": 1, \"71\": 1, \"110\": 1, \"14\": 1}, \"23\": {\"17\": 1, \"121\": 1, \"23\": 2, \"28\": 1, \"60\": 1, \"128\": 1, \"91\": 1, \"61\": 1, \"44\": 2, \"101\": 1}, \"108\": {\"31\": 1, \"102\": 1, \"49\": 1, \"16\": 2, \"56\": 1, \"32\": 1, \"86\": 1, \"5\": 1, \"64\": 1, \"90\": 1, \"12\": 1}, \"53\": {\"53\": 3, \"121\": 1, \"23\": 2, \"44\": 1, \"50\": 2, \"76\": 1, \"61\": 1, \"104\": 1}, \"94\": {\"94\": 6, \"34\": 1, \"83\": 1, \"25\": 2}, \"41\": {\"41\": 4, \"31\": 1, \"90\": 1, \"91\": 1, \"85\": 1, \"115\": 1, \"57\": 2, \"70\": 1}, \"58\": {\"116\": 1, \"77\": 1, \"72\": 1, \"19\": 1, \"58\": 4, \"65\": 1, \"71\": 1, \"55\": 1, \"10\": 1}, \"29\": {\"29\": 5, \"116\": 1, \"92\": 2, \"32\": 1, \"119\": 2, \"80\": 1}, \"116\": {\"104\": 1, \"116\": 3, \"1\": 1, \"69\": 1, \"110\": 2, \"67\": 1, \"61\": 1, \"57\": 1, \"39\": 1}, \"60\": {\"60\": 4, \"47\": 1, \"16\": 1, \"63\": 1, \"113\": 1, \"32\": 1, \"18\": 1, \"64\": 1, \"3\": 1}, \"104\": {\"29\": 2, \"104\": 5, \"78\": 1, \"38\": 1, \"128\": 1, \"9\": 1, \"35\": 1}, \"106\": {\"15\": 1, \"106\": 8, \"51\": 1, \"101\": 1, \"98\": 1}, \"66\": {\"121\": 1, \"66\": 5, \"20\": 1, \"46\": 1, \"35\": 2, \"95\": 1, \"3\": 1}, \"47\": {\"116\": 2, \"47\": 4, \"85\": 1, \"35\": 2, \"45\": 1, \"51\": 1, \"103\": 1}, \"40\": {\"14\": 1, \"40\": 1, \"19\": 1, \"104\": 1, \"119\": 1, \"81\": 1, \"93\": 1, \"129\": 1, \"63\": 1, \"62\": 1, \"4\": 1, \"92\": 1}, \"82\": {\"123\": 1, \"14\": 1, \"26\": 1, \"5\": 1, \"128\": 1, \"19\": 1, \"129\": 2, \"72\": 1, \"67\": 1, \"84\": 1, \"89\": 1}, \"13\": {\"19\": 2, \"31\": 1, \"13\": 5, \"90\": 2, \"120\": 1, \"100\": 1}, \"19\": {\"40\": 1, \"19\": 1, \"71\": 1, \"128\": 1, \"100\": 2, \"13\": 2, \"57\": 1, \"86\": 1, \"115\": 1, \"8\": 1}, \"72\": {\"72\": 5, \"58\": 1, \"91\": 1, \"49\": 2, \"65\": 1, \"7\": 2}, \"9\": {\"67\": 1, \"104\": 1, \"96\": 1, \"71\": 1, \"20\": 2, \"23\": 2, \"8\": 2, \"76\": 2}, \"67\": {\"67\": 6, \"17\": 2, \"39\": 1, \"2\": 1, \"45\": 1, \"33\": 1}, \"11\": {\"19\": 1, \"76\": 1, \"119\": 2, \"16\": 2, \"13\": 1, \"113\": 1, \"43\": 2, \"88\": 1, \"89\": 1}, \"125\": {\"101\": 1, \"125\": 8, \"75\": 2, \"25\": 1}, \"76\": {\"104\": 1, \"76\": 3, \"28\": 1, \"78\": 1, \"116\": 1, \"61\": 1}, \"83\": {\"83\": 10, \"27\": 1, \"63\": 1}, \"74\": {\"20\": 1, \"54\": 1, \"74\": 4, \"38\": 1, \"113\": 1, \"57\": 2, \"116\": 1, \"76\": 1}, \"20\": {\"20\": 7, \"90\": 1, \"79\": 1, \"13\": 1, \"120\": 1, \"88\": 1}, \"119\": {\"119\": 7, \"115\": 3, \"45\": 1, \"109\": 1}, \"1\": {\"129\": 2, \"32\": 1, \"3\": 1, \"92\": 1, \"116\": 1, \"9\": 1, \"26\": 1, \"1\": 1, \"46\": 1, \"119\": 1, \"8\": 1}, \"16\": {\"17\": 1, \"16\": 3, \"38\": 1, \"120\": 2, \"67\": 1, \"26\": 1, \"99\": 1, \"86\": 1, \"100\": 1}, \"25\": {\"25\": 11, \"120\": 1}, \"90\": {\"28\": 2, \"31\": 3, \"90\": 1, \"20\": 1, \"57\": 1}, \"39\": {\"43\": 1, \"21\": 1, \"16\": 2, \"45\": 1, \"39\": 1, \"33\": 1, \"50\": 1, \"88\": 1, \"67\": 1, \"31\": 2}, \"28\": {\"28\": 10, \"120\": 1, \"38\": 1}, \"55\": {\"107\": 3, \"127\": 1, \"50\": 1, \"55\": 3, \"71\": 1, \"103\": 1, \"93\": 1, \"88\": 1}, \"117\": {\"117\": 8, \"89\": 1, \"69\": 2, \"44\": 1}, \"112\": {\"112\": 4, \"74\": 2, \"12\": 1, \"38\": 1, \"58\": 1, \"8\": 1, \"19\": 1, \"42\": 1}, \"38\": {\"104\": 1, \"38\": 3, \"60\": 2, \"91\": 1, \"62\": 1, \"20\": 1, \"123\": 1, \"41\": 1, \"45\": 1}, \"37\": {\"37\": 7, \"71\": 1, \"91\": 1, \"77\": 2, \"51\": 1}, \"120\": {\"28\": 1, \"120\": 5, \"31\": 2, \"29\": 1, \"100\": 1, \"32\": 2}, \"122\": {\"50\": 1, \"31\": 3, \"128\": 1, \"99\": 1, \"29\": 2, \"122\": 1, \"44\": 1, \"5\": 2}, \"50\": {\"113\": 1, \"13\": 1, \"117\": 1, \"50\": 3, \"116\": 2, \"18\": 2, \"4\": 1, \"8\": 1}, \"10\": {\"122\": 1, \"120\": 1, \"3\": 1, \"16\": 1, \"118\": 1, \"10\": 4, \"43\": 1, \"84\": 1, \"88\": 1}, \"5\": {\"80\": 1, \"5\": 4, \"96\": 1, \"4\": 1, \"68\": 1, \"103\": 1, \"93\": 1, \"17\": 1, \"107\": 1}, \"51\": {\"51\": 10, \"52\": 1, \"37\": 1}, \"3\": {\"20\": 1, \"16\": 1, \"28\": 1, \"32\": 1, \"3\": 1, \"65\": 1, \"58\": 1, \"71\": 1, \"46\": 2, \"64\": 1, \"12\": 1}, \"98\": {\"98\": 8, \"34\": 1, \"0\": 1, \"59\": 1, \"21\": 1}, \"70\": {\"16\": 1, \"20\": 1, \"126\": 2, \"99\": 2, \"128\": 1, \"9\": 1, \"70\": 3, \"74\": 1}, \"96\": {\"113\": 3, \"126\": 1, \"110\": 1, \"29\": 3, \"96\": 1, \"128\": 1, \"119\": 1, \"45\": 1}, \"12\": {\"12\": 4, \"105\": 1, \"71\": 1, \"5\": 1, \"3\": 2, \"49\": 1, \"64\": 1, \"108\": 1}, \"99\": {\"99\": 9, \"90\": 2, \"46\": 1}, \"52\": {\"70\": 1, \"52\": 7, \"7\": 1, \"72\": 1, \"47\": 1, \"58\": 1}, \"71\": {\"71\": 7, \"128\": 1, \"29\": 1, \"2\": 1, \"44\": 2}, \"89\": {\"89\": 9, \"62\": 1, \"50\": 1, \"61\": 1}, \"0\": {\"52\": 2, \"111\": 3, \"0\": 5, \"30\": 1, \"15\": 1}, \"4\": {\"109\": 1, \"5\": 1, \"85\": 1, \"111\": 1, \"118\": 1, \"4\": 2, \"92\": 1, \"32\": 1, \"2\": 1, \"50\": 1, \"13\": 1}, \"93\": {\"72\": 1, \"9\": 1, \"93\": 1, \"92\": 1, \"29\": 2, \"55\": 1, \"8\": 1, \"57\": 1, \"45\": 1, \"117\": 2}, \"6\": {\"6\": 6, \"111\": 1, \"73\": 1, \"58\": 1, \"34\": 1}, \"75\": {\"75\": 12}, \"62\": {\"62\": 5, \"93\": 1, \"91\": 1, \"19\": 1, \"47\": 1, \"84\": 1, \"123\": 1, \"18\": 1}, \"103\": {\"99\": 2, \"71\": 1, \"128\": 1, \"28\": 1, \"1\": 1, \"115\": 1, \"41\": 1, \"14\": 1, \"20\": 1, \"43\": 1, \"82\": 1}, \"30\": {\"91\": 2, \"30\": 3, \"112\": 1, \"128\": 1, \"51\": 1, \"3\": 1, \"99\": 1, \"97\": 1, \"65\": 1}, \"91\": {\"20\": 1, \"90\": 1, \"0\": 2, \"91\": 2, \"23\": 2, \"85\": 1, \"99\": 1, \"57\": 2}, \"27\": {\"30\": 1, \"6\": 1, \"51\": 1, \"27\": 5, \"47\": 1, \"24\": 1, \"112\": 1, \"7\": 1}, \"26\": {\"26\": 4, \"32\": 2, \"100\": 2, \"81\": 1, \"123\": 1, \"9\": 1, \"128\": 1}, \"61\": {\"61\": 12}, \"118\": {\"120\": 2, \"26\": 2, \"33\": 1, \"118\": 1, \"116\": 1, \"13\": 2, \"121\": 1, \"100\": 2}, \"92\": {\"29\": 2, \"92\": 4, \"88\": 1, \"118\": 1, \"64\": 1, \"119\": 2, \"44\": 1}, \"111\": {\"0\": 1, \"111\": 8, \"47\": 1, \"56\": 1, \"12\": 1}, \"32\": {\"32\": 8, \"28\": 1, \"118\": 1, \"57\": 1, \"100\": 1}, \"88\": {\"99\": 1, \"88\": 7, \"118\": 2}}, \"C_A_1\": {\"46\": {\"46\": 5, \"9\": 1, \"6\": 3, \"8\": 2, \"18\": 1}, \"16\": {\"16\": 12}, \"26\": {\"26\": 11, \"51\": 1}, \"10\": {\"10\": 11, \"28\": 1}, \"9\": {\"9\": 10}, \"28\": {\"28\": 8, \"52\": 1, \"23\": 1, \"11\": 2}, \"51\": {\"16\": 1, \"51\": 7, \"53\": 2, \"30\": 1, \"7\": 1}, \"1\": {\"1\": 7, \"7\": 1, \"19\": 2, \"57\": 2}, \"55\": {\"55\": 12}, \"27\": {\"27\": 5, \"10\": 1, \"15\": 2, \"35\": 1, \"52\": 1}, \"22\": {\"22\": 12}, \"52\": {\"52\": 5, \"28\": 1, \"0\": 1, \"39\": 1, \"27\": 1, \"11\": 1, \"24\": 1, \"22\": 1}, \"3\": {\"51\": 5, \"7\": 1, \"30\": 1, \"26\": 2, \"41\": 1, \"13\": 2}, \"33\": {\"33\": 8}, \"47\": {\"47\": 6, \"33\": 1, \"42\": 2, \"44\": 1, \"16\": 1, \"35\": 1}, \"42\": {\"42\": 12}, \"12\": {\"12\": 4}, \"23\": {\"49\": 3, \"38\": 1, \"23\": 5, \"55\": 1, \"52\": 1, \"11\": 1}, \"49\": {\"49\": 10}, \"7\": {\"7\": 12}, \"4\": {\"4\": 7, \"5\": 1, \"3\": 1, \"40\": 1, \"1\": 1, \"53\": 1}, \"50\": {\"50\": 12}, \"19\": {\"9\": 1, \"19\": 5, \"37\": 1, \"5\": 2, \"26\": 1, \"24\": 1, \"25\": 1}, \"11\": {\"28\": 1, \"23\": 1, \"38\": 2, \"11\": 3, \"15\": 2, \"26\": 1, \"22\": 1, \"24\": 1}, \"31\": {\"31\": 10}, \"41\": {\"41\": 12}, \"56\": {\"9\": 2, \"19\": 1, \"42\": 2, \"56\": 1, \"44\": 1, \"7\": 1, \"1\": 1, \"33\": 1}, \"0\": {\"33\": 2, \"0\": 9, \"28\": 1}, \"57\": {\"42\": 3, \"46\": 1, \"29\": 1, \"1\": 1, \"25\": 3, \"57\": 1, \"7\": 1, \"19\": 1}, \"53\": {\"53\": 12}, \"43\": {\"43\": 8, \"27\": 1, \"24\": 1, \"10\": 2}, \"37\": {\"37\": 12}, \"2\": {\"2\": 7, \"5\": 1}, \"6\": {\"6\": 10, \"2\": 1, \"5\": 1}, \"18\": {\"18\": 12}, \"38\": {\"38\": 12}, \"15\": {\"38\": 3, \"11\": 1, \"22\": 2, \"15\": 2, \"18\": 1, \"0\": 2, \"52\": 1}, \"36\": {\"36\": 12}, \"39\": {\"39\": 7, \"28\": 1}, \"44\": {\"44\": 2, \"25\": 1, \"35\": 2, \"54\": 1, \"18\": 1, \"7\": 4, \"16\": 1}, \"8\": {\"8\": 11, \"30\": 1}, \"17\": {\"17\": 8, \"6\": 1, \"53\": 1}, \"5\": {\"6\": 3, \"5\": 9}, \"13\": {\"13\": 8, \"6\": 1, \"30\": 1}, \"40\": {\"5\": 2, \"40\": 7, \"4\": 1}, \"29\": {\"3\": 1, \"29\": 3, \"14\": 1, \"48\": 4, \"19\": 2, \"53\": 1}, \"48\": {\"48\": 11, \"50\": 1}, \"32\": {\"32\": 10, \"55\": 1, \"36\": 1}, \"30\": {\"30\": 11, \"8\": 1}, \"35\": {\"27\": 1, \"35\": 3, \"44\": 3, \"47\": 3, \"1\": 1, \"31\": 1}, \"25\": {\"25\": 12}, \"14\": {\"14\": 4, \"51\": 3, \"13\": 1, \"30\": 1, \"18\": 1, \"41\": 2}, \"54\": {\"54\": 10}, \"20\": {\"20\": 7, \"51\": 1}, \"21\": {\"21\": 6, \"0\": 1, \"22\": 1, \"24\": 1, \"38\": 1}, \"45\": {\"45\": 3, \"34\": 1, \"7\": 1, \"37\": 1, \"42\": 2}, \"24\": {\"24\": 5, \"21\": 1, \"0\": 1, \"28\": 1}, \"34\": {\"34\": 7, \"16\": 1}}, \"W_A_4\": {\"28\": {\"45\": 1, \"2\": 1, \"3\": 1, \"28\": 4, \"65\": 1, \"60\": 1, \"128\": 1, \"13\": 2}, \"4\": {\"114\": 1, \"45\": 1, \"64\": 1, \"4\": 1, \"122\": 1, \"95\": 1, \"103\": 1, \"71\": 1, \"80\": 1, \"61\": 1, \"116\": 2}, \"72\": {\"2\": 1, \"108\": 1, \"57\": 2, \"49\": 2, \"44\": 1, \"70\": 1, \"23\": 2, \"46\": 1, \"32\": 1}, \"111\": {\"12\": 2, \"114\": 1, \"111\": 6, \"50\": 1, \"101\": 1, \"127\": 1}, \"108\": {\"2\": 1, \"31\": 1, \"57\": 1, \"1\": 1, \"7\": 1, \"109\": 1, \"121\": 1, \"74\": 1, \"81\": 1, \"56\": 1, \"129\": 2}, \"43\": {\"2\": 1, \"43\": 3, \"57\": 1, \"7\": 1, \"107\": 1, \"84\": 1, \"118\": 1, \"99\": 1}, \"96\": {\"31\": 2, \"35\": 1, \"61\": 1, \"13\": 2, \"117\": 1, \"60\": 1, \"28\": 1, \"81\": 1, \"43\": 1, \"96\": 1}, \"89\": {\"45\": 1, \"2\": 1, \"53\": 1, \"89\": 5, \"22\": 1, \"84\": 1, \"60\": 1, \"17\": 1}, \"31\": {\"31\": 5, \"28\": 1, \"90\": 1, \"26\": 1, \"13\": 1, \"120\": 1, \"65\": 1, \"37\": 1}, \"45\": {\"45\": 7, \"20\": 1, \"90\": 1, \"113\": 1, \"126\": 1, \"17\": 1}, \"2\": {\"14\": 1, \"72\": 1, \"27\": 1, \"13\": 1, \"2\": 3, \"74\": 2, \"21\": 1, \"70\": 2}, \"114\": {\"72\": 2, \"1\": 2, \"17\": 1, \"44\": 2, \"60\": 1, \"33\": 3, \"114\": 1}, \"11\": {\"2\": 1, \"96\": 1, \"64\": 2, \"57\": 1, \"124\": 1, \"70\": 1, \"43\": 1, \"39\": 1, \"113\": 1, \"129\": 1, \"109\": 1}, \"12\": {\"12\": 4, \"111\": 3, \"37\": 2, \"91\": 1, \"29\": 1, \"116\": 1}, \"14\": {\"114\": 1, \"45\": 1, \"14\": 4, \"65\": 1, \"7\": 1, \"124\": 1, \"79\": 1, \"5\": 1, \"26\": 1}, \"90\": {\"2\": 1, \"45\": 1, \"90\": 3, \"113\": 1, \"60\": 1, \"100\": 1, \"66\": 2, \"22\": 1, \"112\": 1}, \"10\": {\"64\": 1, \"10\": 5, \"99\": 1, \"24\": 1, \"37\": 1, \"94\": 1, \"129\": 1, \"119\": 1}, \"63\": {\"64\": 1, \"63\": 8, \"18\": 1, \"70\": 1, \"71\": 1}, \"85\": {\"64\": 2, \"72\": 1, \"85\": 7, \"52\": 1, \"119\": 1}, \"64\": {\"64\": 9, \"21\": 1, \"81\": 1, \"120\": 1}, \"82\": {\"82\": 4, \"57\": 2, \"1\": 1, \"43\": 1, \"74\": 1, \"106\": 1, \"68\": 1, \"44\": 1}, \"58\": {\"58\": 9, \"41\": 1, \"119\": 2}, \"3\": {\"11\": 1, \"82\": 1, \"3\": 1, \"53\": 1, \"50\": 1, \"17\": 1, \"71\": 1, \"103\": 1, \"120\": 2, \"5\": 1, \"100\": 1}, \"54\": {\"54\": 10, \"97\": 2}, \"121\": {\"123\": 1, \"64\": 1, \"99\": 1, \"121\": 3, \"7\": 1, \"49\": 1, \"74\": 1, \"103\": 1, \"110\": 1, \"23\": 1}, \"42\": {\"64\": 2, \"7\": 2, \"37\": 2, \"2\": 1, \"56\": 1, \"95\": 1, \"42\": 2, \"116\": 1}, \"98\": {\"98\": 12}, \"123\": {\"123\": 3, \"63\": 1, \"92\": 4, \"121\": 1, \"7\": 1, \"113\": 1, \"120\": 1}, \"91\": {\"85\": 1, \"54\": 1, \"12\": 1, \"91\": 3, \"37\": 1, \"42\": 1, \"29\": 1, \"128\": 1, \"127\": 1, \"45\": 1}, \"66\": {\"57\": 2, \"60\": 1, \"99\": 1, \"2\": 2, \"90\": 3, \"112\": 1, \"45\": 1, \"1\": 1}, \"102\": {\"95\": 2, \"109\": 1, \"102\": 2, \"7\": 1, \"103\": 1, \"87\": 2, \"74\": 1, \"107\": 1, \"118\": 1}, \"122\": {\"122\": 3, \"95\": 1, \"88\": 2, \"67\": 1, \"8\": 1, \"32\": 1, \"63\": 1, \"43\": 2}, \"1\": {\"95\": 1, \"57\": 1, \"124\": 1, \"3\": 1, \"93\": 1, \"113\": 1, \"118\": 1, \"1\": 2, \"16\": 1, \"33\": 1, \"44\": 1}, \"15\": {\"68\": 1, \"15\": 4, \"53\": 1, \"127\": 1, \"6\": 1, \"55\": 1, \"30\": 1, \"34\": 1, \"85\": 1}, \"97\": {\"57\": 1, \"15\": 1, \"54\": 1, \"9\": 1, \"59\": 2, \"74\": 1, \"97\": 3, \"128\": 1, \"42\": 1}, \"75\": {\"75\": 12}, \"95\": {\"95\": 2, \"57\": 1, \"44\": 2, \"85\": 1, \"81\": 1, \"37\": 1, \"82\": 1, \"38\": 1, \"8\": 2}, \"57\": {\"57\": 9, \"43\": 1, \"28\": 1, \"88\": 1}, \"68\": {\"95\": 4, \"68\": 2, \"7\": 1, \"120\": 1, \"3\": 1, \"23\": 1, \"56\": 1, \"107\": 1}, \"125\": {\"75\": 2, \"125\": 9, \"25\": 1}, \"62\": {\"122\": 2, \"116\": 1, \"61\": 1, \"117\": 1, \"60\": 1, \"112\": 1, \"39\": 1, \"62\": 1, \"114\": 1}, \"27\": {\"99\": 2, \"46\": 1, \"27\": 3, \"21\": 1, \"74\": 1, \"12\": 1, \"7\": 2, \"100\": 1}, \"120\": {\"37\": 2, \"70\": 2, \"23\": 1, \"120\": 5, \"90\": 1, \"116\": 1}, \"26\": {\"63\": 1, \"35\": 1, \"26\": 2, \"45\": 1, \"88\": 1, \"110\": 1, \"13\": 1, \"87\": 1, \"39\": 1, \"129\": 1, \"32\": 1}, \"55\": {\"99\": 2, \"78\": 1, \"27\": 1, \"119\": 1, \"55\": 1, \"83\": 1, \"81\": 2, \"79\": 1, \"84\": 1, \"80\": 1}, \"71\": {\"99\": 1, \"26\": 1, \"37\": 1, \"7\": 1, \"88\": 2, \"13\": 1, \"19\": 1, \"71\": 2, \"70\": 1, \"80\": 1}, \"22\": {\"99\": 1, \"83\": 1, \"22\": 6, \"23\": 1, \"38\": 1, \"89\": 1, \"84\": 1}, \"99\": {\"99\": 11, \"43\": 1}, \"84\": {\"26\": 1, \"99\": 1, \"23\": 1, \"46\": 1, \"84\": 2, \"81\": 1, \"39\": 1, \"67\": 1, \"118\": 1, \"7\": 1, \"18\": 1}, \"37\": {\"37\": 8, \"46\": 1, \"64\": 1, \"78\": 1, \"70\": 1}, \"83\": {\"55\": 1, \"37\": 1, \"117\": 1, \"1\": 1, \"88\": 1, \"8\": 1, \"103\": 1, \"27\": 1, \"79\": 1, \"114\": 1, \"83\": 2}, \"46\": {\"46\": 4, \"70\": 1, \"120\": 2, \"0\": 1, \"81\": 1, \"8\": 1, \"119\": 1, \"88\": 1}, \"35\": {\"71\": 1, \"35\": 4, \"117\": 1, \"69\": 1, \"43\": 1, \"92\": 1, \"78\": 1, \"123\": 1, \"65\": 1}, \"13\": {\"99\": 2, \"13\": 9, \"32\": 1}, \"53\": {\"53\": 10, \"11\": 1, \"21\": 1}, \"127\": {\"127\": 5, \"8\": 1, \"95\": 1, \"60\": 1, \"27\": 1, \"45\": 1, \"111\": 1, \"49\": 1}, \"69\": {\"43\": 1, \"57\": 1, \"63\": 2, \"117\": 2, \"4\": 1, \"69\": 1, \"78\": 1, \"114\": 1, \"111\": 1, \"1\": 1}, \"48\": {\"43\": 2, \"74\": 1, \"17\": 2, \"110\": 2, \"67\": 1, \"20\": 1, \"66\": 1, \"85\": 1, \"48\": 1}, \"16\": {\"43\": 1, \"16\": 3, \"7\": 1, \"92\": 1, \"44\": 1, \"31\": 1, \"124\": 1, \"103\": 1, \"3\": 1, \"33\": 1}, \"0\": {\"115\": 1, \"53\": 1, \"2\": 2, \"40\": 1, \"0\": 3, \"1\": 2, \"120\": 1, \"7\": 1}, \"8\": {\"43\": 2, \"8\": 1, \"71\": 1, \"0\": 2, \"21\": 2, \"82\": 1, \"37\": 1, \"100\": 1, \"72\": 1}, \"9\": {\"53\": 1, \"97\": 1, \"98\": 1, \"20\": 1, \"9\": 3, \"30\": 2, \"106\": 1, \"77\": 1, \"51\": 1}, \"115\": {\"43\": 1, \"57\": 1, \"70\": 1, \"44\": 1, \"95\": 1, \"78\": 1, \"74\": 1, \"105\": 1, \"16\": 1, \"71\": 1, \"23\": 2}, \"70\": {\"95\": 1, \"70\": 3, \"78\": 3, \"100\": 2, \"51\": 1, \"43\": 1, \"102\": 1}, \"119\": {\"70\": 2, \"2\": 1, \"119\": 2, \"78\": 4, \"89\": 1, \"129\": 2}, \"59\": {\"59\": 8, \"97\": 2, \"47\": 2}, \"52\": {\"51\": 2, \"52\": 7, \"13\": 1, \"85\": 2}, \"60\": {\"52\": 1, \"70\": 1, \"99\": 3, \"100\": 1, \"60\": 2, \"33\": 1, \"85\": 1, \"89\": 1, \"78\": 1}, \"44\": {\"44\": 6, \"67\": 1, \"126\": 1, \"70\": 1, \"63\": 1, \"66\": 1, \"99\": 1}, \"51\": {\"51\": 8, \"70\": 1, \"30\": 2, \"47\": 1}, \"6\": {\"59\": 3, \"6\": 6, \"34\": 1, \"94\": 1, \"10\": 1}, \"73\": {\"73\": 2, \"63\": 1, \"16\": 2, \"44\": 1, \"81\": 1, \"83\": 1, \"17\": 1, \"80\": 1, \"65\": 2}, \"78\": {\"19\": 1, \"78\": 4, \"55\": 1, \"66\": 2, \"0\": 2, \"11\": 2}, \"92\": {\"92\": 6, \"7\": 1, \"124\": 1, \"32\": 1, \"61\": 1, \"35\": 1, \"123\": 1}, \"20\": {\"20\": 2, \"78\": 1, \"128\": 2, \"7\": 1, \"38\": 1, \"129\": 1, \"90\": 2, \"126\": 1, \"37\": 1}, \"17\": {\"78\": 2, \"67\": 2, \"17\": 4, \"66\": 2, \"74\": 2}, \"74\": {\"74\": 4, \"20\": 1, \"67\": 2, \"126\": 1, \"17\": 1, \"101\": 1, \"70\": 1, \"127\": 1}, \"19\": {\"73\": 1, \"74\": 1, \"113\": 2, \"19\": 1, \"14\": 1, \"13\": 2, \"60\": 2, \"112\": 1, \"2\": 1}, \"50\": {\"69\": 1, \"63\": 1, \"73\": 1, \"44\": 1, \"81\": 1, \"70\": 1, \"71\": 2, \"107\": 2, \"126\": 1, \"104\": 1}, \"34\": {\"73\": 1, \"92\": 1, \"59\": 1, \"34\": 8, \"13\": 1}, \"104\": {\"104\": 1, \"92\": 2, \"119\": 1, \"33\": 1, \"123\": 1, \"109\": 1, \"14\": 1}, \"33\": {\"16\": 1, \"7\": 1, \"2\": 2, \"27\": 1, \"0\": 1, \"105\": 1, \"62\": 1, \"33\": 1, \"43\": 1, \"92\": 1, \"114\": 1}, \"5\": {\"16\": 1, \"68\": 1, \"5\": 4, \"112\": 1, \"105\": 1, \"83\": 1, \"108\": 1, \"80\": 1, \"55\": 1}, \"7\": {\"7\": 10, \"100\": 1, \"120\": 1}, \"29\": {\"29\": 7, \"8\": 1, \"74\": 1, \"52\": 1, \"38\": 1, \"85\": 1}, \"25\": {\"25\": 12}, \"124\": {\"7\": 1, \"16\": 1, \"117\": 1, \"61\": 2, \"124\": 2, \"31\": 2, \"121\": 1, \"100\": 1, \"66\": 1}, \"117\": {\"11\": 1, \"1\": 1, \"113\": 1, \"117\": 2, \"26\": 2, \"83\": 1, \"114\": 1, \"81\": 2, \"102\": 1}, \"88\": {\"11\": 2, \"113\": 3, \"88\": 2, \"7\": 2, \"119\": 2, \"78\": 1}, \"61\": {\"61\": 8, \"11\": 1, \"31\": 2, \"32\": 1}, \"86\": {\"124\": 1, \"11\": 1, \"0\": 2, \"99\": 1, \"27\": 1, \"86\": 1, \"68\": 1, \"17\": 1, \"73\": 1, \"102\": 1, \"87\": 1}, \"116\": {\"89\": 2, \"106\": 1, \"129\": 1, \"79\": 2, \"99\": 1, \"20\": 1, \"61\": 1, \"64\": 1, \"69\": 1, \"116\": 1}, \"24\": {\"24\": 4, \"36\": 3, \"3\": 1, \"54\": 2, \"99\": 1, \"25\": 1}, \"128\": {\"99\": 2, \"28\": 1, \"78\": 1, \"21\": 1, \"100\": 1, \"20\": 2, \"46\": 2, \"23\": 2}, \"101\": {\"101\": 1, \"14\": 1, \"76\": 1, \"79\": 2, \"58\": 1, \"100\": 1, \"12\": 1, \"103\": 1, \"27\": 1, \"8\": 1, \"37\": 1}, \"65\": {\"65\": 5, \"13\": 1, \"0\": 1, \"23\": 1, \"57\": 1, \"88\": 1}, \"36\": {\"24\": 1, \"10\": 1, \"25\": 2, \"36\": 6, \"53\": 1, \"51\": 1}, \"21\": {\"99\": 3, \"21\": 7, \"100\": 2}, \"106\": {\"27\": 1, \"37\": 1, \"129\": 1, \"38\": 1, \"79\": 1, \"112\": 1, \"103\": 2, \"106\": 3, \"42\": 1}, \"118\": {\"78\": 2, \"27\": 1, \"88\": 2, \"14\": 1, \"100\": 1, \"113\": 1, \"1\": 1, \"118\": 1, \"109\": 1, \"26\": 1}, \"113\": {\"113\": 4, \"74\": 1, \"126\": 1, \"100\": 4, \"78\": 1, \"39\": 1}, \"40\": {\"19\": 1, \"40\": 2, \"18\": 2, \"110\": 2, \"28\": 1, \"83\": 1, \"122\": 1, \"69\": 1, \"1\": 1}, \"93\": {\"93\": 2, \"1\": 1, \"87\": 1, \"95\": 1, \"49\": 1, \"7\": 1, \"129\": 1}, \"94\": {\"94\": 7, \"59\": 1, \"25\": 1, \"6\": 2, \"10\": 1}, \"103\": {\"64\": 2, \"49\": 2, \"103\": 1, \"128\": 1, \"74\": 1, \"105\": 1, \"87\": 1, \"13\": 1, \"54\": 1, \"90\": 1}, \"110\": {\"35\": 1, \"118\": 1, \"39\": 1, \"78\": 1, \"109\": 1, \"7\": 1, \"110\": 2, \"23\": 1, \"62\": 1, \"66\": 1, \"60\": 1}, \"56\": {\"31\": 1, \"56\": 4, \"104\": 1, \"74\": 1, \"79\": 1, \"47\": 1, \"120\": 1, \"17\": 1, \"41\": 1}, \"39\": {\"2\": 1, \"39\": 4, \"78\": 1, \"32\": 1, \"66\": 1, \"21\": 1, \"43\": 1, \"113\": 1, \"88\": 1}, \"109\": {\"2\": 1, \"33\": 1, \"7\": 1, \"109\": 1, \"129\": 1, \"106\": 1, \"88\": 2, \"26\": 3, \"14\": 1}, \"67\": {\"67\": 6, \"76\": 1, \"39\": 1, \"20\": 1, \"7\": 1, \"63\": 1, \"46\": 1}, \"129\": {\"126\": 3, \"105\": 2, \"18\": 1, \"106\": 1, \"103\": 2, \"69\": 2, \"14\": 1}, \"30\": {\"30\": 9, \"3\": 1, \"41\": 1, \"96\": 1}, \"126\": {\"126\": 3, \"18\": 1, \"129\": 2, \"32\": 1, \"116\": 1, \"100\": 2, \"74\": 2}, \"87\": {\"100\": 1, \"81\": 1, \"78\": 2, \"32\": 1, \"87\": 2, \"13\": 1, \"0\": 1, \"117\": 1, \"1\": 1, \"99\": 1}, \"112\": {\"70\": 1, \"79\": 2, \"112\": 2, \"128\": 1, \"83\": 1, \"33\": 1, \"90\": 2, \"114\": 2}, \"100\": {\"79\": 1, \"100\": 6, \"99\": 1, \"7\": 1, \"128\": 1, \"42\": 1, \"32\": 1}, \"79\": {\"79\": 6, \"76\": 1, \"62\": 1, \"28\": 1, \"22\": 1}, \"81\": {\"21\": 1, \"81\": 6, \"99\": 1, \"78\": 2, \"80\": 1, \"69\": 1}, \"76\": {\"79\": 1, \"76\": 1, \"67\": 2, \"129\": 1, \"38\": 1, \"99\": 1, \"127\": 1, \"119\": 2}, \"47\": {\"47\": 10, \"100\": 1, \"52\": 1}, \"77\": {\"77\": 9, \"49\": 1, \"41\": 2}, \"23\": {\"23\": 3, \"0\": 2, \"7\": 2, \"32\": 1, \"129\": 1, \"77\": 1, \"120\": 1, \"21\": 1}, \"18\": {\"18\": 12}, \"49\": {\"120\": 1, \"49\": 3, \"48\": 2, \"112\": 1, \"100\": 1, \"105\": 2, \"86\": 1, \"0\": 1}, \"41\": {\"101\": 1, \"41\": 6, \"125\": 1, \"129\": 1, \"21\": 1, \"17\": 1, \"42\": 1}, \"32\": {\"67\": 1, \"78\": 3, \"129\": 4, \"32\": 3, \"46\": 1}, \"107\": {\"112\": 2, \"103\": 1, \"62\": 1, \"39\": 1, \"8\": 1, \"18\": 1, \"122\": 1, \"50\": 1, \"74\": 1}, \"80\": {\"112\": 1, \"43\": 1, \"126\": 1, \"129\": 1, \"105\": 1, \"80\": 4, \"44\": 1, \"81\": 2}, \"105\": {\"43\": 2, \"80\": 1, \"105\": 1, \"2\": 1, \"27\": 1, \"83\": 2, \"113\": 1, \"103\": 1}, \"38\": {\"129\": 2, \"79\": 1, \"38\": 3, \"46\": 2, \"66\": 2}}, \"W_A_1\": {\"108\": {\"23\": 4, \"67\": 1, \"107\": 1, \"44\": 2, \"75\": 1, \"48\": 1}, \"40\": {\"68\": 1, \"40\": 6, \"76\": 1, \"14\": 1, \"39\": 1, \"114\": 1, \"5\": 1}, \"68\": {\"68\": 8, \"31\": 1, \"84\": 1, \"101\": 1, \"12\": 1}, \"23\": {\"22\": 1, \"57\": 1, \"23\": 5, \"85\": 1, \"86\": 1, \"21\": 1, \"120\": 1, \"127\": 1}, \"26\": {\"23\": 1, \"57\": 1, \"26\": 4, \"128\": 1, \"33\": 2, \"48\": 1, \"73\": 1, \"78\": 1}, \"64\": {\"57\": 1, \"22\": 1, \"64\": 7, \"103\": 1, \"11\": 1, \"76\": 1}, \"22\": {\"89\": 2, \"76\": 1, \"22\": 3, \"19\": 1, \"67\": 1, \"28\": 1, \"57\": 2, \"23\": 1}, \"3\": {\"4\": 2, \"3\": 3, \"61\": 1, \"100\": 2, \"76\": 2, \"110\": 1, \"93\": 1}, \"4\": {\"68\": 2, \"20\": 2, \"101\": 1, \"84\": 1, \"26\": 1, \"4\": 1, \"82\": 1, \"104\": 1, \"11\": 2}, \"70\": {\"57\": 1, \"23\": 1, \"76\": 2, \"70\": 3, \"96\": 1, \"7\": 2, \"45\": 1, \"63\": 1}, \"57\": {\"57\": 11, \"28\": 1}, \"79\": {\"22\": 1, \"89\": 1, \"103\": 1, \"47\": 1, \"120\": 2, \"76\": 2, \"79\": 2, \"38\": 1, \"119\": 1}, \"9\": {\"79\": 2, \"50\": 1, \"117\": 1, \"8\": 1, \"113\": 1, \"118\": 1, \"105\": 1, \"47\": 1, \"68\": 1, \"52\": 1, \"104\": 1}, \"89\": {\"9\": 1, \"57\": 1, \"84\": 1, \"23\": 1, \"22\": 1, \"89\": 1, \"101\": 1, \"2\": 1, \"42\": 1, \"25\": 1, \"63\": 1, \"29\": 1}, \"110\": {\"79\": 2, \"110\": 4, \"124\": 1, \"38\": 1, \"39\": 1, \"76\": 2, \"2\": 1}, \"102\": {\"40\": 2, \"4\": 1, \"117\": 1, \"62\": 1, \"33\": 2, \"87\": 1, \"18\": 1, \"102\": 1, \"106\": 2}, \"31\": {\"31\": 7, \"109\": 1, \"61\": 1, \"128\": 1, \"103\": 2}, \"58\": {\"31\": 2, \"58\": 4, \"109\": 1, \"77\": 1, \"7\": 1, \"70\": 1, \"10\": 2}, \"47\": {\"69\": 1, \"47\": 9, \"123\": 1, \"33\": 1}, \"24\": {\"24\": 3, \"52\": 1, \"17\": 2, \"44\": 1, \"30\": 1, \"97\": 1, \"41\": 2, \"86\": 1}, \"19\": {\"115\": 1, \"57\": 1, \"61\": 1, \"17\": 1, \"80\": 2, \"87\": 2, \"18\": 2, \"21\": 2}, \"11\": {\"11\": 9, \"64\": 1, \"45\": 2}, \"52\": {\"52\": 12}, \"17\": {\"17\": 8, \"25\": 1, \"19\": 1, \"109\": 1, \"100\": 1}, \"25\": {\"47\": 1, \"57\": 1, \"63\": 2, \"25\": 5, \"80\": 1, \"76\": 1, \"35\": 1}, \"69\": {\"69\": 3, \"17\": 1, \"118\": 1, \"86\": 1, \"43\": 1, \"78\": 2, \"39\": 2, \"5\": 1}, \"96\": {\"17\": 1, \"109\": 1, \"96\": 1, \"39\": 1, \"72\": 1, \"123\": 1, \"2\": 1, \"120\": 1, \"66\": 1, \"48\": 1, \"79\": 1, \"106\": 1}, \"109\": {\"109\": 3, \"61\": 2, \"104\": 1, \"55\": 1, \"76\": 2, \"62\": 1, \"103\": 2}, \"115\": {\"17\": 1, \"115\": 5, \"3\": 1, \"45\": 1, \"72\": 1, \"33\": 1, \"26\": 1, \"4\": 1}, \"83\": {\"57\": 1, \"25\": 1, \"44\": 1, \"20\": 1, \"106\": 2, \"43\": 1, \"13\": 1, \"113\": 1, \"103\": 2, \"104\": 1}, \"84\": {\"84\": 2, \"1\": 1, \"11\": 1, \"16\": 1, \"101\": 1, \"107\": 1, \"69\": 1, \"17\": 2, \"23\": 1, \"100\": 1}, \"119\": {\"119\": 9, \"18\": 1}, \"122\": {\"84\": 1, \"1\": 1, \"122\": 2, \"63\": 1, \"115\": 1, \"57\": 1, \"123\": 1, \"76\": 1, \"104\": 1}, \"99\": {\"99\": 2, \"23\": 1, \"64\": 1, \"11\": 1, \"28\": 1, \"74\": 2, \"103\": 4}, \"1\": {\"84\": 2, \"72\": 1, \"1\": 2, \"20\": 1, \"100\": 1, \"8\": 1, \"63\": 1, \"62\": 1, \"81\": 1, \"0\": 1}, \"74\": {\"23\": 1, \"7\": 2, \"74\": 5, \"67\": 1, \"20\": 1, \"44\": 1, \"120\": 1}, \"85\": {\"85\": 7, \"7\": 1, \"58\": 1, \"49\": 1, \"70\": 2}, \"127\": {\"85\": 1, \"111\": 1, \"58\": 2, \"127\": 6, \"22\": 1, \"49\": 1}, \"111\": {\"127\": 3, \"111\": 6, \"72\": 1, \"15\": 1, \"43\": 1}, \"53\": {\"53\": 9, \"27\": 1, \"6\": 1, \"75\": 1}, \"88\": {\"127\": 2, \"36\": 3, \"88\": 4, \"75\": 2, \"92\": 1}, \"65\": {\"89\": 1, \"119\": 1, \"76\": 1, \"78\": 1, \"86\": 2, \"50\": 1, \"47\": 1, \"99\": 1, \"104\": 1}, \"7\": {\"7\": 11, \"23\": 1}, \"16\": {\"1\": 1, \"119\": 1, \"57\": 3, \"11\": 2, \"39\": 2, \"16\": 1, \"18\": 2}, \"128\": {\"17\": 1, \"104\": 1, \"45\": 1, \"128\": 1, \"48\": 2, \"8\": 3, \"21\": 1, \"61\": 1, \"2\": 1}, \"34\": {\"41\": 1, \"17\": 1, \"98\": 1, \"75\": 1, \"34\": 1, \"77\": 1, \"64\": 1, \"68\": 1, \"15\": 1, \"124\": 1, \"127\": 1, \"89\": 1}, \"129\": {\"118\": 2, \"129\": 3, \"14\": 1, \"46\": 1, \"69\": 1, \"80\": 1, \"61\": 1, \"39\": 1, \"102\": 1}, \"43\": {\"43\": 3, \"68\": 1, \"14\": 1, \"26\": 1, \"78\": 2, \"74\": 1, \"10\": 1, \"57\": 1, \"47\": 1}, \"92\": {\"92\": 9, \"41\": 1, \"30\": 1, \"98\": 1}, \"28\": {\"17\": 1, \"128\": 1, \"11\": 1, \"28\": 4, \"29\": 2, \"87\": 1, \"20\": 1, \"57\": 1}, \"27\": {\"53\": 2, \"27\": 4, \"44\": 1, \"59\": 2, \"71\": 1, \"52\": 1, \"32\": 1}, \"114\": {\"114\": 3, \"73\": 1, \"129\": 1, \"87\": 2, \"76\": 1, \"3\": 1, \"40\": 1, \"100\": 1, \"115\": 1}, \"73\": {\"68\": 2, \"34\": 1, \"17\": 1, \"73\": 1, \"104\": 1, \"72\": 2, \"23\": 1, \"100\": 1, \"78\": 1, \"126\": 1}, \"0\": {\"68\": 1, \"104\": 1, \"114\": 2, \"67\": 1, \"0\": 2, \"129\": 1, \"77\": 1, \"57\": 1, \"52\": 2}, \"104\": {\"104\": 5, \"23\": 1, \"109\": 1, \"120\": 1, \"67\": 2, \"103\": 2}, \"118\": {\"118\": 3, \"104\": 1, \"114\": 1, \"117\": 1, \"39\": 1, \"87\": 2, \"17\": 1, \"67\": 1, \"95\": 1}, \"41\": {\"41\": 5, \"70\": 1, \"44\": 2, \"75\": 1, \"58\": 1, \"10\": 1, \"103\": 1}, \"49\": {\"22\": 1, \"89\": 1, \"41\": 1, \"72\": 1, \"49\": 5, \"85\": 1, \"95\": 1, \"52\": 1}, \"14\": {\"46\": 1, \"5\": 1, \"14\": 2, \"33\": 1, \"82\": 2, \"32\": 2, \"102\": 1, \"122\": 2}, \"46\": {\"23\": 1, \"14\": 1, \"55\": 1, \"97\": 2, \"46\": 1, \"98\": 1, \"17\": 1, \"22\": 1, \"118\": 1, \"109\": 1, \"62\": 1}, \"33\": {\"14\": 1, \"129\": 1, \"33\": 5, \"116\": 1, \"76\": 1, \"124\": 1, \"39\": 2}, \"76\": {\"104\": 1, \"23\": 1, \"76\": 7, \"109\": 1, \"93\": 1, \"64\": 1}, \"125\": {\"92\": 1, \"125\": 9, \"51\": 2}, \"86\": {\"23\": 1, \"86\": 5, \"70\": 2, \"104\": 2}, \"66\": {\"86\": 1, \"66\": 3, \"11\": 2, \"61\": 1, \"20\": 1, \"2\": 1, \"120\": 1, \"76\": 1, \"51\": 1}, \"5\": {\"129\": 1, \"14\": 1, \"5\": 7, \"101\": 1, \"78\": 1, \"84\": 1}, \"117\": {\"17\": 3, \"117\": 2, \"118\": 1, \"33\": 1, \"18\": 1, \"55\": 1, \"67\": 1, \"63\": 1, \"129\": 1}, \"75\": {\"75\": 11, \"41\": 1}, \"61\": {\"61\": 10, \"45\": 1, \"8\": 1}, \"50\": {\"50\": 6, \"45\": 1, \"109\": 1, \"20\": 1, \"23\": 1, \"7\": 1, \"11\": 1}, \"67\": {\"61\": 1, \"67\": 7, \"20\": 1, \"109\": 1}, \"18\": {\"61\": 1, \"50\": 1, \"11\": 1, \"13\": 1, \"18\": 5, \"21\": 3}, \"98\": {\"98\": 10, \"75\": 1, \"52\": 1}, \"55\": {\"104\": 1, \"73\": 1, \"78\": 1, \"74\": 1, \"19\": 1, \"110\": 1, \"5\": 2, \"55\": 1, \"41\": 1}, \"32\": {\"40\": 1, \"32\": 3, \"35\": 1, \"100\": 1, \"20\": 1, \"102\": 2, \"14\": 1, \"17\": 1, \"8\": 1}, \"120\": {\"76\": 1, \"104\": 1, \"57\": 2, \"120\": 2, \"79\": 1, \"48\": 1, \"38\": 2, \"64\": 1, \"23\": 1}, \"97\": {\"97\": 4, \"58\": 1, \"107\": 1, \"112\": 1, \"91\": 2, \"24\": 1, \"12\": 1, \"92\": 1}, \"126\": {\"109\": 2, \"115\": 1, \"57\": 1, \"61\": 1, \"101\": 1, \"102\": 2, \"126\": 1, \"8\": 1, \"73\": 1, \"86\": 1}, \"45\": {\"76\": 1, \"109\": 1, \"122\": 1, \"57\": 1, \"61\": 1, \"45\": 3, \"87\": 2, \"78\": 1, \"23\": 1}, \"78\": {\"3\": 1, \"122\": 1, \"78\": 3, \"5\": 1, \"21\": 1, \"11\": 1, \"23\": 1, \"50\": 1}, \"100\": {\"100\": 4, \"3\": 1, \"72\": 2, \"20\": 1, \"124\": 1, \"115\": 1, \"26\": 1, \"21\": 1}, \"107\": {\"115\": 1, \"107\": 7, \"43\": 2, \"10\": 1, \"79\": 1}, \"93\": {\"3\": 1, \"93\": 1, \"54\": 1, \"107\": 1, \"14\": 1, \"48\": 1, \"2\": 2, \"72\": 2, \"57\": 1, \"55\": 1}, \"77\": {\"77\": 6, \"58\": 1, \"48\": 1, \"76\": 2, \"57\": 1, \"86\": 1}, \"63\": {\"63\": 7, \"39\": 1, \"119\": 1, \"113\": 1, \"8\": 2}, \"112\": {\"112\": 12}, \"113\": {\"76\": 2, \"74\": 1, \"113\": 2, \"78\": 2, \"21\": 1, \"116\": 1, \"11\": 1, \"62\": 1, \"103\": 1}, \"103\": {\"64\": 1, \"85\": 1, \"57\": 2, \"48\": 2, \"104\": 3, \"103\": 1}, \"71\": {\"71\": 8, \"15\": 1, \"37\": 1, \"30\": 2}, \"30\": {\"30\": 4, \"15\": 1, \"59\": 2, \"52\": 1, \"27\": 1, \"94\": 1, \"77\": 2}, \"90\": {\"90\": 3, \"86\": 1, \"38\": 1, \"21\": 1, \"28\": 1, \"29\": 1, \"120\": 1, \"11\": 1, \"47\": 1, \"7\": 1}, \"37\": {\"15\": 2, \"37\": 4, \"64\": 2, \"30\": 1, \"34\": 1, \"98\": 1, \"12\": 1}, \"60\": {\"65\": 1, \"114\": 1, \"119\": 1, \"49\": 1, \"60\": 3, \"45\": 1, \"80\": 1, \"50\": 1, \"82\": 1, \"106\": 1}, \"15\": {\"15\": 8, \"30\": 1, \"52\": 1, \"27\": 1, \"91\": 1}, \"39\": {\"39\": 5, \"113\": 1, \"8\": 1, \"7\": 1, \"81\": 1, \"87\": 1, \"118\": 1, \"16\": 1}, \"72\": {\"72\": 6, \"32\": 1, \"106\": 1, \"73\": 1, \"93\": 1, \"41\": 2}, \"54\": {\"63\": 2, \"8\": 1, \"54\": 3, \"74\": 1, \"47\": 4, \"2\": 1}, \"35\": {\"35\": 2, \"60\": 1, \"80\": 1, \"72\": 1, \"96\": 1, \"28\": 2, \"46\": 1, \"17\": 1, \"44\": 1, \"66\": 1}, \"2\": {\"39\": 1, \"119\": 1, \"61\": 1, \"2\": 5, \"116\": 1, \"11\": 1, \"57\": 2}, \"94\": {\"53\": 1, \"15\": 1, \"94\": 6, \"88\": 1, \"56\": 1, \"109\": 1, \"60\": 1}, \"42\": {\"8\": 1, \"42\": 6, \"25\": 1, \"80\": 1, \"20\": 1, \"45\": 1, \"22\": 1}, \"81\": {\"81\": 3, \"114\": 1, \"20\": 1, \"90\": 1, \"8\": 1, \"80\": 1, \"84\": 1, \"50\": 1, \"1\": 1, \"109\": 1}, \"8\": {\"8\": 7, \"21\": 1, \"28\": 2, \"76\": 1, \"63\": 1}, \"87\": {\"63\": 3, \"113\": 1, \"80\": 1, \"32\": 1, \"117\": 1, \"10\": 1, \"55\": 1, \"40\": 1, \"33\": 1, \"82\": 1}, \"6\": {\"6\": 4, \"53\": 2, \"91\": 1, \"56\": 1, \"59\": 1, \"94\": 1, \"27\": 1, \"37\": 1}, \"36\": {\"6\": 2, \"36\": 9, \"94\": 1}, \"91\": {\"91\": 4, \"80\": 1, \"75\": 2, \"35\": 1, \"20\": 1, \"48\": 1, \"28\": 1, \"77\": 1}, \"56\": {\"97\": 1, \"91\": 1, \"56\": 5, \"10\": 1, \"58\": 1, \"9\": 1, \"49\": 1, \"35\": 1}, \"80\": {\"80\": 4, \"45\": 2, \"48\": 2, \"74\": 2, \"78\": 1, \"112\": 1}, \"124\": {\"119\": 1, \"11\": 1, \"50\": 1, \"20\": 1, \"124\": 2, \"29\": 1, \"5\": 1, \"122\": 1, \"104\": 1}, \"44\": {\"64\": 2, \"44\": 5, \"7\": 1, \"48\": 3, \"108\": 1}, \"13\": {\"119\": 1, \"11\": 1, \"13\": 5, \"67\": 1, \"57\": 1, \"7\": 1, \"74\": 1, \"109\": 1}, \"10\": {\"77\": 1, \"115\": 1, \"106\": 1, \"10\": 2, \"21\": 3, \"7\": 1, \"8\": 1, \"13\": 1, \"107\": 1}, \"59\": {\"59\": 10, \"123\": 1, \"76\": 1}, \"95\": {\"122\": 2, \"95\": 6, \"62\": 1, \"18\": 1, \"61\": 1, \"10\": 1}, \"105\": {\"122\": 1, \"115\": 1, \"1\": 1, \"101\": 1, \"105\": 2, \"66\": 1, \"40\": 1, \"3\": 1, \"72\": 1, \"102\": 2}, \"101\": {\"81\": 1, \"101\": 10, \"4\": 1}, \"20\": {\"20\": 7, \"61\": 2, \"44\": 2, \"17\": 1}, \"48\": {\"11\": 2, \"48\": 9, \"123\": 1}, \"106\": {\"84\": 1, \"72\": 1, \"106\": 1, \"79\": 1, \"14\": 1, \"102\": 1, \"17\": 1, \"96\": 1, \"101\": 1, \"47\": 1, \"4\": 1, \"62\": 1}, \"51\": {\"51\": 10, \"125\": 1, \"88\": 1}, \"21\": {\"11\": 2, \"18\": 1, \"21\": 4, \"67\": 1, \"112\": 1, \"7\": 2, \"106\": 1}, \"123\": {\"48\": 2, \"123\": 7, \"116\": 1, \"67\": 1, \"26\": 1}, \"121\": {\"121\": 5, \"61\": 2, \"13\": 1, \"116\": 1, \"28\": 1, \"74\": 1, \"21\": 1}, \"38\": {\"124\": 2, \"18\": 1, \"29\": 1, \"28\": 1, \"54\": 1, \"120\": 1, \"90\": 1, \"38\": 3, \"123\": 1}, \"62\": {\"62\": 4, \"26\": 1, \"10\": 1, \"93\": 1, \"123\": 1, \"1\": 1, \"106\": 1, \"113\": 1, \"116\": 1}, \"29\": {\"29\": 10, \"38\": 2}, \"82\": {\"18\": 1, \"82\": 8, \"107\": 2, \"14\": 1}, \"116\": {\"106\": 1, \"121\": 1, \"2\": 2, \"79\": 1, \"123\": 1, \"28\": 1, \"20\": 1, \"64\": 2, \"116\": 2}, \"12\": {\"98\": 1, \"12\": 4, \"111\": 2, \"77\": 1}}, \"W_A_2\": {\"91\": {\"91\": 6, \"20\": 1, \"41\": 1, \"74\": 1, \"114\": 1, \"16\": 1, \"42\": 1}, \"12\": {\"28\": 2, \"91\": 1, \"12\": 1, \"10\": 1, \"38\": 1, \"119\": 3, \"54\": 1, \"23\": 1, \"90\": 1}, \"101\": {\"101\": 7, \"91\": 2, \"35\": 1}, \"121\": {\"17\": 2, \"120\": 1, \"64\": 2, \"119\": 1, \"121\": 2, \"90\": 2, \"72\": 1, \"71\": 1}, \"118\": {\"17\": 1, \"28\": 1, \"87\": 2, \"12\": 2, \"83\": 1, \"18\": 1, \"3\": 1, \"113\": 1, \"39\": 1, \"107\": 1}, \"10\": {\"17\": 2, \"10\": 8, \"16\": 2}, \"117\": {\"126\": 1, \"117\": 5, \"20\": 1, \"84\": 2, \"82\": 1, \"71\": 1, \"90\": 1}, \"110\": {\"117\": 1, \"106\": 1, \"64\": 1, \"110\": 1, \"12\": 1, \"85\": 1, \"34\": 2, \"104\": 1, \"55\": 1, \"33\": 1, \"28\": 1}, \"97\": {\"97\": 4, \"17\": 1, \"54\": 1, \"11\": 1, \"77\": 2, \"30\": 1, \"43\": 1, \"103\": 1}, \"28\": {\"17\": 2, \"28\": 3, \"67\": 1, \"124\": 1, \"12\": 1, \"110\": 1, \"63\": 1, \"44\": 1, \"25\": 1}, \"88\": {\"17\": 1, \"88\": 5, \"87\": 2, \"20\": 1, \"24\": 1, \"31\": 1, \"39\": 1}, \"17\": {\"17\": 4, \"86\": 1, \"10\": 1, \"64\": 1, \"45\": 1, \"7\": 1, \"74\": 1, \"120\": 2}, \"126\": {\"17\": 2, \"119\": 1, \"126\": 1, \"37\": 1, \"105\": 1, \"117\": 1, \"8\": 1, \"38\": 1, \"69\": 1, \"32\": 2}, \"33\": {\"126\": 1, \"33\": 6, \"109\": 2, \"73\": 1, \"55\": 1, \"96\": 1}, \"86\": {\"28\": 1, \"121\": 1, \"92\": 1, \"19\": 1, \"48\": 1, \"86\": 2, \"62\": 1, \"126\": 1, \"5\": 1, \"68\": 1, \"2\": 1}, \"106\": {\"106\": 6, \"97\": 2, \"25\": 1, \"91\": 1, \"35\": 1, \"15\": 1}, \"54\": {\"42\": 2, \"54\": 3, \"77\": 1, \"44\": 1, \"64\": 1, \"45\": 1, \"38\": 1, \"52\": 1, \"122\": 1}, \"125\": {\"125\": 8, \"9\": 1, \"51\": 1, \"36\": 2}, \"83\": {\"83\": 6, \"32\": 1, \"70\": 1, \"104\": 1, \"61\": 1, \"42\": 1, \"38\": 1}, \"98\": {\"98\": 12}, \"11\": {\"83\": 1, \"97\": 1, \"106\": 1, \"8\": 2, \"91\": 1, \"0\": 1, \"49\": 1, \"71\": 2, \"44\": 1, \"11\": 1}, \"32\": {\"32\": 5, \"38\": 1, \"21\": 1, \"63\": 1, \"55\": 1, \"7\": 2, \"100\": 1}, \"42\": {\"83\": 1, \"61\": 1, \"5\": 2, \"63\": 1, \"84\": 1, \"109\": 1, \"19\": 1, \"129\": 1, \"38\": 1, \"71\": 1, \"105\": 1}, \"103\": {\"103\": 11, \"73\": 1}, \"87\": {\"32\": 2, \"4\": 1, \"87\": 4, \"88\": 1, \"119\": 1, \"70\": 1, \"92\": 1, \"3\": 1}, \"61\": {\"61\": 8, \"57\": 1, \"99\": 1, \"24\": 1, \"80\": 1}, \"13\": {\"61\": 1, \"87\": 1, \"16\": 1, \"88\": 1, \"120\": 2, \"13\": 2, \"48\": 1, \"20\": 1, \"57\": 1, \"99\": 1}, \"4\": {\"83\": 1, \"54\": 1, \"126\": 1, \"1\": 1, \"46\": 1, \"40\": 1, \"114\": 1, \"32\": 1, \"12\": 1, \"26\": 1, \"0\": 1, \"24\": 1}, \"15\": {\"106\": 1, \"11\": 1, \"35\": 2, \"15\": 4, \"77\": 1, \"58\": 1}, \"120\": {\"120\": 9, \"99\": 1, \"8\": 1, \"43\": 1}, \"80\": {\"129\": 1, \"80\": 5, \"67\": 1, \"46\": 1, \"71\": 1, \"57\": 2, \"42\": 1}, \"72\": {\"121\": 2, \"72\": 5, \"96\": 2, \"92\": 1}, \"64\": {\"64\": 7, \"120\": 1, \"61\": 1, \"63\": 1, \"90\": 1, \"76\": 1}, \"81\": {\"120\": 1, \"81\": 6, \"69\": 1, \"109\": 1, \"105\": 1, \"99\": 1, \"129\": 1}, \"102\": {\"102\": 7, \"81\": 2, \"40\": 1, \"129\": 1, \"95\": 1}, \"76\": {\"120\": 1, \"64\": 1, \"80\": 1, \"87\": 1, \"45\": 2, \"116\": 2, \"66\": 1, \"76\": 2, \"103\": 1}, \"49\": {\"49\": 4, \"110\": 1, \"66\": 1, \"108\": 1, \"53\": 1, \"101\": 1, \"21\": 1}, \"129\": {\"110\": 1, \"102\": 2, \"62\": 1, \"129\": 3, \"93\": 2, \"18\": 1, \"14\": 2}, \"89\": {\"64\": 2, \"89\": 7, \"82\": 1, \"47\": 1, \"104\": 1}, \"52\": {\"49\": 1, \"35\": 1, \"61\": 2, \"52\": 2, \"66\": 1, \"42\": 1, \"85\": 1, \"64\": 1, \"54\": 1, \"39\": 1}, \"35\": {\"35\": 9, \"79\": 1, \"108\": 2}, \"53\": {\"53\": 2, \"80\": 1, \"16\": 1, \"34\": 1, \"29\": 2, \"119\": 2, \"42\": 1, \"108\": 1, \"58\": 1}, \"112\": {\"10\": 1, \"105\": 1, \"54\": 1, \"71\": 1, \"38\": 1, \"124\": 1, \"52\": 1, \"14\": 1, \"70\": 2, \"85\": 1, \"90\": 1}, \"105\": {\"112\": 1, \"105\": 4, \"95\": 1, \"63\": 1, \"122\": 1, \"80\": 1, \"71\": 1, \"0\": 1, \"62\": 1}, \"100\": {\"64\": 1, \"10\": 1, \"61\": 1, \"100\": 5, \"119\": 1, \"63\": 2, \"32\": 1}, \"9\": {\"9\": 7, \"94\": 3, \"125\": 2}, \"82\": {\"112\": 1, \"69\": 1, \"82\": 8, \"117\": 1, \"1\": 1}, \"51\": {\"51\": 10, \"125\": 1, \"77\": 1}, \"21\": {\"10\": 2, \"20\": 2, \"21\": 4, \"32\": 2, \"39\": 2}, \"92\": {\"92\": 6, \"110\": 1, \"20\": 1, \"32\": 1, \"90\": 1, \"72\": 2}, \"69\": {\"69\": 7, \"82\": 1, \"90\": 1, \"63\": 1, \"18\": 2}, \"77\": {\"97\": 1, \"10\": 1, \"77\": 9, \"42\": 1}, \"50\": {\"88\": 2, \"50\": 1, \"62\": 2, \"14\": 1, \"39\": 1, \"92\": 1, \"17\": 1, \"109\": 1, \"38\": 1, \"129\": 1}, \"36\": {\"36\": 10, \"75\": 1, \"0\": 1}, \"16\": {\"87\": 1, \"88\": 1, \"20\": 3, \"5\": 1, \"16\": 3, \"120\": 2, \"55\": 1}, \"8\": {\"88\": 2, \"5\": 1, \"8\": 5, \"120\": 1, \"109\": 1, \"61\": 2}, \"127\": {\"127\": 5, \"103\": 1, \"59\": 1, \"55\": 1, \"44\": 1, \"108\": 1, \"78\": 1, \"111\": 1}, \"46\": {\"84\": 1, \"18\": 1, \"46\": 2, \"40\": 1, \"105\": 2, \"3\": 1, \"126\": 1, \"39\": 1}, \"84\": {\"84\": 5, \"23\": 1, \"48\": 1, \"42\": 1, \"68\": 1, \"18\": 1, \"90\": 1, \"117\": 1}, \"18\": {\"87\": 1, \"13\": 1, \"113\": 1, \"18\": 5, \"2\": 2, \"62\": 1, \"48\": 1}, \"123\": {\"103\": 1, \"88\": 1, \"39\": 1, \"123\": 3, \"67\": 1, \"104\": 1, \"56\": 1, \"71\": 1}, \"56\": {\"87\": 1, \"65\": 1, \"80\": 1, \"28\": 1, \"60\": 2, \"123\": 1, \"32\": 1, \"52\": 1, \"73\": 1, \"27\": 1, \"56\": 1}, \"26\": {\"87\": 2, \"18\": 2, \"55\": 2, \"19\": 1, \"109\": 1, \"114\": 2, \"13\": 1, \"26\": 1}, \"14\": {\"88\": 1, \"14\": 6, \"129\": 1, \"119\": 1, \"2\": 2, \"40\": 1}, \"109\": {\"109\": 2, \"87\": 1, \"119\": 1, \"126\": 1, \"46\": 1, \"90\": 1, \"67\": 2, \"120\": 1, \"78\": 1, \"100\": 1}, \"66\": {\"80\": 2, \"66\": 5, \"52\": 2, \"90\": 2, \"76\": 1}, \"24\": {\"80\": 1, \"87\": 1, \"75\": 1, \"10\": 1, \"8\": 1, \"20\": 1, \"9\": 1, \"100\": 1, \"63\": 2, \"24\": 2}, \"71\": {\"87\": 1, \"80\": 2, \"43\": 1, \"19\": 1, \"37\": 2, \"71\": 3, \"42\": 1, \"122\": 1}, \"65\": {\"65\": 4, \"20\": 1, \"25\": 1, \"21\": 1, \"23\": 1, \"99\": 1, \"51\": 1, \"57\": 1, \"83\": 1}, \"75\": {\"75\": 10, \"11\": 1, \"21\": 1}, \"111\": {\"111\": 4, \"109\": 1, \"91\": 1, \"70\": 1, \"127\": 1, \"30\": 1, \"128\": 1, \"108\": 1, \"54\": 1}, \"30\": {\"30\": 5, \"47\": 1, \"66\": 1, \"38\": 2, \"127\": 1, \"42\": 1, \"91\": 1}, \"85\": {\"12\": 1, \"113\": 1, \"85\": 2, \"1\": 1, \"115\": 1, \"93\": 1, \"4\": 1, \"26\": 1, \"18\": 1, \"10\": 1, \"84\": 1}, \"113\": {\"113\": 1, \"20\": 1, \"39\": 3, \"32\": 2, \"73\": 1, \"72\": 1, \"100\": 1}, \"45\": {\"65\": 1, \"45\": 2, \"99\": 1, \"83\": 2, \"28\": 2, \"71\": 1, \"2\": 1, \"90\": 1, \"64\": 1}, \"29\": {\"29\": 7, \"61\": 2, \"7\": 1, \"119\": 1, \"21\": 1}, \"20\": {\"20\": 7, \"16\": 1, \"88\": 2, \"21\": 2}, \"25\": {\"25\": 11, \"6\": 1}, \"0\": {\"38\": 1, \"68\": 1, \"101\": 1, \"111\": 1, \"0\": 4, \"91\": 1, \"12\": 1, \"79\": 1, \"44\": 1}, \"68\": {\"85\": 1, \"12\": 1, \"68\": 3, \"95\": 1, \"107\": 1, \"90\": 1, \"119\": 1, \"105\": 1, \"86\": 1, \"10\": 1}, \"119\": {\"119\": 11, \"37\": 1}, \"90\": {\"38\": 1, \"90\": 4, \"63\": 1, \"20\": 1, \"47\": 1, \"64\": 1, \"66\": 1, \"123\": 1, \"100\": 1}, \"38\": {\"38\": 9, \"119\": 1, \"37\": 2}, \"99\": {\"67\": 1, \"90\": 1, \"99\": 5, \"47\": 1, \"32\": 1, \"37\": 1, \"96\": 1, \"70\": 1}, \"1\": {\"1\": 3, \"93\": 2, \"70\": 1, \"114\": 1, \"81\": 1, \"95\": 1, \"40\": 1, \"2\": 1, \"105\": 1}, \"67\": {\"67\": 8, \"68\": 1, \"125\": 1, \"70\": 1, \"25\": 1}, \"63\": {\"67\": 1, \"63\": 8, \"32\": 1, \"64\": 1, \"37\": 1}, \"34\": {\"34\": 5, \"92\": 2, \"73\": 1, \"124\": 2, \"91\": 1, \"112\": 1}, \"108\": {\"90\": 1, \"34\": 1, \"23\": 1, \"7\": 1, \"108\": 1, \"115\": 1, \"8\": 2, \"67\": 1, \"77\": 1, \"70\": 1, \"53\": 1}, \"40\": {\"80\": 1, \"46\": 1, \"114\": 1, \"62\": 1, \"40\": 5, \"55\": 1, \"95\": 1, \"122\": 1}, \"47\": {\"47\": 3, \"37\": 1, \"34\": 1, \"59\": 1, \"22\": 1, \"66\": 1, \"74\": 1, \"124\": 1, \"104\": 2}, \"37\": {\"20\": 2, \"37\": 5, \"16\": 1, \"103\": 1, \"63\": 1, \"90\": 2}, \"78\": {\"20\": 2, \"21\": 1, \"38\": 1, \"78\": 1, \"119\": 1, \"32\": 1, \"7\": 1, \"100\": 1, \"63\": 1, \"16\": 1, \"120\": 1}, \"96\": {\"90\": 1, \"47\": 1, \"100\": 1, \"96\": 2, \"104\": 1, \"28\": 1, \"120\": 1, \"89\": 1, \"124\": 1, \"10\": 1, \"116\": 1}, \"43\": {\"37\": 1, \"20\": 2, \"8\": 3, \"71\": 1, \"19\": 1, \"67\": 2, \"43\": 1, \"33\": 1}, \"5\": {\"5\": 2, \"19\": 1, \"127\": 1, \"73\": 1, \"62\": 1, \"114\": 1, \"74\": 1, \"122\": 2}, \"124\": {\"124\": 2, \"103\": 1, \"65\": 1, \"38\": 1, \"119\": 1, \"126\": 1, \"8\": 1, \"69\": 2, \"47\": 2}, \"44\": {\"8\": 2, \"64\": 2, \"44\": 3, \"38\": 2, \"61\": 1, \"83\": 1, \"10\": 1}, \"41\": {\"41\": 7, \"7\": 1, \"108\": 2, \"120\": 1, \"99\": 1}, \"116\": {\"71\": 1, \"19\": 1, \"7\": 1, \"79\": 1, \"121\": 1, \"55\": 1, \"120\": 1, \"12\": 1, \"33\": 1, \"22\": 1, \"44\": 1, \"116\": 1}, \"19\": {\"71\": 1, \"89\": 2, \"19\": 2, \"105\": 2, \"70\": 2, \"63\": 1, \"68\": 1, \"83\": 1}, \"115\": {\"38\": 1, \"115\": 2, \"95\": 2, \"45\": 1, \"17\": 1, \"10\": 1, \"80\": 1, \"40\": 1, \"105\": 2}, \"95\": {\"124\": 1, \"18\": 1, \"95\": 2, \"37\": 1, \"122\": 1, \"84\": 1, \"82\": 1, \"55\": 2, \"68\": 2}, \"3\": {\"124\": 1, \"95\": 1, \"100\": 2, \"8\": 1, \"107\": 1, \"44\": 1, \"3\": 1, \"90\": 2}, \"59\": {\"34\": 1, \"66\": 1, \"29\": 1, \"8\": 1, \"39\": 2, \"59\": 1, \"47\": 1, \"119\": 1, \"23\": 1, \"42\": 1, \"91\": 1}, \"55\": {\"55\": 3, \"95\": 1, \"48\": 1, \"84\": 1, \"23\": 1, \"110\": 1, \"104\": 1, \"102\": 1, \"1\": 1, \"116\": 1}, \"70\": {\"37\": 1, \"2\": 2, \"115\": 1, \"57\": 1, \"1\": 1, \"67\": 2, \"10\": 1, \"70\": 2, \"33\": 1}, \"6\": {\"30\": 1, \"6\": 5, \"41\": 1, \"11\": 2, \"51\": 2, \"98\": 1}, \"2\": {\"48\": 1, \"2\": 7, \"62\": 1, \"16\": 2, \"71\": 1}, \"48\": {\"48\": 7, \"2\": 1, \"66\": 1, \"39\": 2, \"119\": 1}, \"23\": {\"63\": 1, \"7\": 1, \"61\": 1, \"100\": 2, \"119\": 1, \"23\": 1, \"42\": 1, \"48\": 1, \"13\": 1, \"44\": 1, \"10\": 1}, \"7\": {\"7\": 5, \"119\": 1, \"68\": 1, \"74\": 2, \"100\": 1, \"23\": 2}, \"122\": {\"105\": 1, \"84\": 1, \"7\": 1, \"16\": 1, \"115\": 1, \"95\": 1, \"100\": 1, \"78\": 1, \"39\": 1, \"88\": 1, \"122\": 2}, \"57\": {\"63\": 2, \"57\": 4, \"120\": 1, \"80\": 1, \"48\": 1, \"42\": 1, \"72\": 1, \"99\": 1}, \"39\": {\"107\": 2, \"39\": 5, \"83\": 1, \"70\": 2}, \"79\": {\"79\": 4, \"7\": 1, \"53\": 1, \"74\": 1, \"70\": 1, \"10\": 1, \"78\": 1, \"63\": 1, \"47\": 1}, \"27\": {\"27\": 9, \"58\": 1}, \"74\": {\"74\": 5, \"79\": 1, \"45\": 1, \"39\": 1, \"7\": 1, \"120\": 1, \"51\": 1, \"64\": 1}, \"73\": {\"100\": 2, \"73\": 4, \"114\": 1, \"40\": 1, \"14\": 1, \"46\": 1, \"113\": 1, \"72\": 1}, \"62\": {\"62\": 5, \"73\": 2, \"113\": 1, \"117\": 2, \"74\": 1, \"84\": 1}, \"107\": {\"107\": 3, \"62\": 1, \"40\": 1, \"73\": 2, \"8\": 1, \"85\": 1, \"122\": 3}, \"128\": {\"37\": 2, \"128\": 4, \"39\": 1, \"71\": 1, \"80\": 1, \"42\": 1, \"70\": 2}, \"60\": {\"7\": 1, \"60\": 5, \"76\": 2, \"61\": 1, \"38\": 1, \"32\": 1, \"56\": 1}, \"114\": {\"114\": 5, \"5\": 1, \"52\": 2, \"124\": 1, \"102\": 1, \"74\": 2}, \"22\": {\"116\": 1, \"68\": 1, \"52\": 2, \"74\": 1, \"123\": 1, \"22\": 3, \"66\": 1, \"103\": 1, \"61\": 1}, \"93\": {\"93\": 2, \"57\": 1, \"1\": 1, \"119\": 1, \"114\": 1, \"67\": 1, \"109\": 1, \"61\": 1, \"65\": 1, \"33\": 2}, \"94\": {\"94\": 6, \"9\": 2, \"58\": 1, \"6\": 2, \"20\": 1}, \"31\": {\"89\": 2, \"31\": 2, \"92\": 2, \"121\": 1, \"76\": 1, \"73\": 1, \"46\": 1}, \"104\": {\"104\": 6, \"60\": 1, \"128\": 1, \"113\": 1, \"8\": 2, \"67\": 1}, \"58\": {\"58\": 10, \"59\": 1, \"11\": 1}}, \"C_A_2\": {\"14\": {\"7\": 1, \"14\": 7, \"48\": 2, \"42\": 1, \"22\": 1}, \"22\": {\"14\": 1, \"56\": 4, \"22\": 6, \"11\": 1}, \"9\": {\"4\": 2, \"45\": 2, \"9\": 6, \"8\": 1, \"44\": 1}, \"47\": {\"47\": 10, \"1\": 1, \"57\": 1}, \"13\": {\"13\": 5, \"15\": 1, \"16\": 1, \"11\": 1, \"43\": 1, \"21\": 1, \"55\": 2}, \"8\": {\"8\": 12}, \"7\": {\"7\": 12}, \"49\": {\"49\": 12}, \"20\": {\"20\": 12}, \"16\": {\"16\": 10, \"15\": 2}, \"34\": {\"34\": 11, \"41\": 1}, \"56\": {\"56\": 8, \"22\": 1, \"37\": 1, \"55\": 1, \"38\": 1}, \"38\": {\"38\": 10}, \"4\": {\"7\": 1, \"4\": 4, \"2\": 1, \"53\": 1, \"36\": 1, \"54\": 1, \"45\": 1, \"33\": 1, \"48\": 1}, \"43\": {\"43\": 8, \"0\": 2}, \"26\": {\"26\": 10}, \"35\": {\"35\": 9, \"57\": 1, \"14\": 1, \"44\": 1}, \"31\": {\"31\": 12}, \"1\": {\"1\": 11, \"28\": 1}, \"39\": {\"39\": 10, \"57\": 2}, \"5\": {\"39\": 1, \"5\": 7, \"31\": 2, \"57\": 1, \"47\": 1}, \"24\": {\"24\": 10, \"15\": 1, \"43\": 1}, \"54\": {\"54\": 10}, \"23\": {\"23\": 12}, \"51\": {\"51\": 9, \"53\": 2, \"26\": 1}, \"27\": {\"27\": 10}, \"15\": {\"15\": 12}, \"0\": {\"0\": 12}, \"19\": {\"19\": 9, \"55\": 1}, \"18\": {\"18\": 7, \"30\": 1}, \"30\": {\"30\": 8, \"18\": 3, \"52\": 1}, \"55\": {\"55\": 4, \"13\": 1, \"43\": 1, \"1\": 1, \"47\": 1, \"57\": 1, \"3\": 1}, \"57\": {\"57\": 12}, \"2\": {\"34\": 1, \"2\": 9, \"36\": 1, \"48\": 1}, \"12\": {\"12\": 8}, \"41\": {\"41\": 12}, \"42\": {\"42\": 12}, \"48\": {\"48\": 12}, \"37\": {\"37\": 7, \"11\": 2, \"55\": 1, \"51\": 1, \"2\": 1}, \"6\": {\"6\": 7, \"49\": 1, \"48\": 1, \"42\": 1}, \"11\": {\"11\": 10}, \"45\": {\"48\": 1, \"12\": 1, \"45\": 3, \"35\": 1, \"32\": 1, \"4\": 1}, \"21\": {\"21\": 12}, \"46\": {\"41\": 2, \"46\": 4, \"48\": 1, \"18\": 2, \"3\": 1}, \"25\": {\"25\": 10, \"20\": 1, \"6\": 1}, \"36\": {\"36\": 10}, \"53\": {\"53\": 12}, \"28\": {\"28\": 12}, \"40\": {\"44\": 2, \"40\": 6, \"4\": 1, \"9\": 1}, \"33\": {\"33\": 7, \"55\": 1, \"5\": 1, \"32\": 1}, \"44\": {\"44\": 3, \"33\": 2, \"32\": 1, \"25\": 1, \"36\": 1, \"9\": 1, \"29\": 1}, \"3\": {\"33\": 1, \"30\": 1, \"3\": 4, \"6\": 3, \"46\": 1, \"47\": 1, \"42\": 1}, \"17\": {\"17\": 12}, \"32\": {\"32\": 10}, \"10\": {\"10\": 10}, \"52\": {\"52\": 6, \"23\": 2, \"28\": 1, \"16\": 1}, \"50\": {\"6\": 1, \"50\": 4, \"8\": 2, \"20\": 1}, \"29\": {\"29\": 4, \"19\": 1, \"17\": 1}}}, \"per_domain_accuracy\": {\"ORACLE.run1_14\": {\"accuracy\": 0.803125, \"source?\": true}, \"ORACLE.run1_20\": {\"accuracy\": 0.65546875, \"source?\": true}, \"ORACLE.run1_38\": {\"accuracy\": 0.6942708333333333, \"source?\": true}, \"ORACLE.run1_8\": {\"accuracy\": 0.72421875, \"source?\": true}, \"ORACLE.run1_50\": {\"accuracy\": 0.734375, \"source?\": true}, \"ORACLE.run1_32\": {\"accuracy\": 0.7330729166666666, \"source?\": true}, \"ORACLE.run1_26\": {\"accuracy\": 0.5458333333333333, \"source?\": true}, \"ORACLE.run1_44\": {\"accuracy\": 0.6416666666666667, \"source?\": true}, \"C_A_3\": {\"accuracy\": 0.7703125, \"source?\": false}, \"C_A_4\": {\"accuracy\": 0.7453125, \"source?\": false}, \"C_A_5\": {\"accuracy\": 0.7546875, \"source?\": false}, \"W_A_3\": {\"accuracy\": 0.3658854166666667, \"source?\": false}, \"C_A_1\": {\"accuracy\": 0.7078125, \"source?\": false}, \"W_A_4\": {\"accuracy\": 0.345703125, \"source?\": false}, \"W_A_1\": {\"accuracy\": 0.3938802083333333, \"source?\": false}, \"W_A_2\": {\"accuracy\": 0.3776041666666667, \"source?\": false}, \"C_A_2\": {\"accuracy\": 0.8015625, \"source?\": false}}}, \"history\": {\"epoch_indices\": [1, 2, 3, 4, 5, 6], \"train_label_loss\": [0.9723367938860541, 1.8083100833486587, 0.7945910763682886, 0.6697905680918622, 0.5865200463211209, 0.5315019216161176], \"source_val_label_loss\": [48.97054672241211, 0.8597903251647949, 0.8487143516540527, 0.6755939722061157, 0.5643911361694336, 0.5057269930839539], \"target_val_label_loss\": [9200.9130859375, 563.9418334960938, 1077.505615234375, 2769.06494140625, 2770.004150390625, 2830.40185546875], \"source_val_acc_label\": [0.5830729166666667, 0.69150390625, 0.6927408854166667, 0.7564127604166667, 0.7961263020833333, 0.8162434895833334], \"target_val_acc_label\": [0.5032106164383562, 0.5026755136986302, 0.5123073630136986, 0.5204409246575342, 0.516160102739726, 0.523972602739726]}, \"dataset_metrics\": {\"source\": {\"train\": {\"n_unique_x\": 179200, \"n_unique_y\": 16, \"n_batch/episode\": 6720}, \"val\": {\"n_unique_x\": 38400, \"n_unique_y\": 16, \"n_batch/episode\": 960}, \"test\": {\"n_unique_x\": 38400, \"n_unique_y\": 16, \"n_batch/episode\": 960}}, \"target\": {\"train\": {\"n_unique_x\": 56700, \"n_unique_y\": 130, \"n_batch/episode\": 2080}, \"val\": {\"n_unique_x\": 12132, \"n_unique_y\": 130, \"n_batch/episode\": 292}, \"test\": {\"n_unique_x\": 12132, \"n_unique_y\": 130, \"n_batch/episode\": 292}}}}'"
      ]
     },
     "execution_count": 29,
     "metadata": {},
     "output_type": "execute_result"
    }
   ],
   "source": [
    "json.dumps(experiment)"
   ]
  }
 ],
 "metadata": {
  "celltoolbar": "Tags",
  "kernelspec": {
   "display_name": "Python 3 (ipykernel)",
   "language": "python",
   "name": "python3"
  },
  "language_info": {
   "codemirror_mode": {
    "name": "ipython",
    "version": 3
   },
   "file_extension": ".py",
   "mimetype": "text/x-python",
   "name": "python",
   "nbconvert_exporter": "python",
   "pygments_lexer": "ipython3",
   "version": "3.8.10"
  },
  "papermill": {
   "default_parameters": {},
   "duration": 1864.112991,
   "end_time": "2022-03-18T02:52:16.713922",
   "environment_variables": {},
   "exception": null,
   "input_path": "/mnt/wd500GB/CSC500/csc500-main/csc500-notebooks/templates/tl_ptn_template.ipynb",
   "output_path": "trial.ipynb",
   "parameters": {
    "parameters": {
     "BEST_MODEL_PATH": "./best_model.pth",
     "NUM_LOGS_PER_EPOCH": 10,
     "criteria_for_best": "target_loss",
     "dataset_seed": 1337,
     "datasets": [
      {
       "domain_prefix": "C_A_",
       "domains": [
        1,
        2,
        3,
        4,
        5
       ],
       "episode_transforms": [],
       "labels": [
        "1-10.",
        "1-11.",
        "1-15.",
        "1-16.",
        "1-17.",
        "1-18.",
        "1-19.",
        "10-4.",
        "10-7.",
        "11-1.",
        "11-14.",
        "11-17.",
        "11-20.",
        "11-7.",
        "13-20.",
        "13-8.",
        "14-10.",
        "14-11.",
        "14-14.",
        "14-7.",
        "15-1.",
        "15-20.",
        "16-1.",
        "16-16.",
        "17-10.",
        "17-11.",
        "17-2.",
        "19-1.",
        "19-16.",
        "19-19.",
        "19-20.",
        "19-3.",
        "2-10.",
        "2-11.",
        "2-17.",
        "2-18.",
        "2-20.",
        "2-3.",
        "2-4.",
        "2-5.",
        "2-6.",
        "2-7.",
        "2-8.",
        "3-13.",
        "3-18.",
        "3-3.",
        "4-1.",
        "4-10.",
        "4-11.",
        "4-19.",
        "5-5.",
        "6-15.",
        "7-10.",
        "7-14.",
        "8-18.",
        "8-20.",
        "8-3.",
        "8-8."
       ],
       "num_examples_per_domain_per_label": 100,
       "pickle_path": "/mnt/wd500GB/CSC500/csc500-main/datasets/cores.stratified_ds.2022A.pkl",
       "source_or_target_dataset": "target",
       "x_transforms": [
        "unit_mag",
        "lowpass_+/-10MHz",
        "take_200"
       ]
      },
      {
       "domain_prefix": "W_A_",
       "domains": [
        1,
        2,
        3,
        4
       ],
       "episode_transforms": [],
       "labels": [
        "1-10",
        "1-12",
        "1-14",
        "1-16",
        "1-18",
        "1-19",
        "1-8",
        "10-11",
        "10-17",
        "10-4",
        "10-7",
        "11-1",
        "11-10",
        "11-19",
        "11-20",
        "11-4",
        "11-7",
        "12-19",
        "12-20",
        "12-7",
        "13-14",
        "13-18",
        "13-19",
        "13-20",
        "13-3",
        "13-7",
        "14-10",
        "14-11",
        "14-12",
        "14-13",
        "14-14",
        "14-19",
        "14-20",
        "14-7",
        "14-8",
        "14-9",
        "15-1",
        "15-19",
        "15-6",
        "16-1",
        "16-16",
        "16-19",
        "16-20",
        "17-10",
        "17-11",
        "18-1",
        "18-10",
        "18-11",
        "18-12",
        "18-13",
        "18-14",
        "18-15",
        "18-16",
        "18-17",
        "18-19",
        "18-2",
        "18-20",
        "18-4",
        "18-5",
        "18-7",
        "18-8",
        "18-9",
        "19-1",
        "19-10",
        "19-11",
        "19-12",
        "19-13",
        "19-14",
        "19-15",
        "19-19",
        "19-2",
        "19-20",
        "19-3",
        "19-4",
        "19-6",
        "19-7",
        "19-8",
        "19-9",
        "2-1",
        "2-13",
        "2-15",
        "2-3",
        "2-4",
        "2-5",
        "2-6",
        "2-7",
        "2-8",
        "20-1",
        "20-12",
        "20-14",
        "20-15",
        "20-16",
        "20-18",
        "20-19",
        "20-20",
        "20-3",
        "20-4",
        "20-5",
        "20-7",
        "20-8",
        "3-1",
        "3-13",
        "3-18",
        "3-2",
        "3-8",
        "4-1",
        "4-10",
        "4-11",
        "5-1",
        "5-5",
        "6-1",
        "6-15",
        "6-6",
        "7-10",
        "7-11",
        "7-12",
        "7-13",
        "7-14",
        "7-7",
        "7-8",
        "7-9",
        "8-1",
        "8-13",
        "8-14",
        "8-18",
        "8-20",
        "8-3",
        "8-8",
        "9-1",
        "9-7"
       ],
       "num_examples_per_domain_per_label": 100,
       "pickle_path": "/mnt/wd500GB/CSC500/csc500-main/datasets/wisig.node3-19.stratified_ds.2022A.pkl",
       "source_or_target_dataset": "target",
       "x_transforms": [
        "unit_mag",
        "lowpass_+/-10MHz",
        "take_200"
       ]
      },
      {
       "domain_prefix": "ORACLE.run1_",
       "domains": [
        32,
        38,
        8,
        44,
        14,
        50,
        20,
        26
       ],
       "episode_transforms": [],
       "labels": [
        "3123D52",
        "3123D65",
        "3123D79",
        "3123D80",
        "3123D54",
        "3123D70",
        "3123D7B",
        "3123D89",
        "3123D58",
        "3123D76",
        "3123D7D",
        "3123EFE",
        "3123D64",
        "3123D78",
        "3123D7E",
        "3124E4A"
       ],
       "num_examples_per_domain_per_label": 2000,
       "pickle_path": "/mnt/wd500GB/CSC500/csc500-main/datasets/oracle.Run1_framed_2000Examples_stratified_ds.2022A.pkl",
       "source_or_target_dataset": "source",
       "x_transforms": [
        "unit_mag",
        "take_200",
        "resample_20Msps_to_25Msps"
       ]
      }
     ],
     "device": "cuda",
     "experiment_name": "tl_3-filter:oracle.run1.framed -> cores+wisig",
     "lr": 0.001,
     "n_epoch": 50,
     "n_query": 2,
     "n_shot": 3,
     "n_way": 16,
     "patience": 3,
     "seed": 1337,
     "test_k_factor": 2,
     "torch_default_dtype": "torch.float32",
     "train_k_factor": 3,
     "val_k_factor": 2,
     "x_net": [
      {
       "class": "nnReshape",
       "kargs": {
        "shape": [
         -1,
         1,
         2,
         200
        ]
       }
      },
      {
       "class": "Conv2d",
       "kargs": {
        "bias": false,
        "in_channels": 1,
        "kernel_size": [
         1,
         7
        ],
        "out_channels": 256,
        "padding": [
         0,
         3
        ]
       }
      },
      {
       "class": "ReLU",
       "kargs": {
        "inplace": true
       }
      },
      {
       "class": "BatchNorm2d",
       "kargs": {
        "num_features": 256
       }
      },
      {
       "class": "Conv2d",
       "kargs": {
        "bias": true,
        "in_channels": 256,
        "kernel_size": [
         2,
         7
        ],
        "out_channels": 80,
        "padding": [
         0,
         3
        ]
       }
      },
      {
       "class": "ReLU",
       "kargs": {
        "inplace": true
       }
      },
      {
       "class": "BatchNorm2d",
       "kargs": {
        "num_features": 80
       }
      },
      {
       "class": "Flatten",
       "kargs": {}
      },
      {
       "class": "Linear",
       "kargs": {
        "in_features": 16000,
        "out_features": 256
       }
      },
      {
       "class": "ReLU",
       "kargs": {
        "inplace": true
       }
      },
      {
       "class": "BatchNorm1d",
       "kargs": {
        "num_features": 256
       }
      },
      {
       "class": "Linear",
       "kargs": {
        "in_features": 256,
        "out_features": 256
       }
      }
     ],
     "x_shape": [
      2,
      200
     ]
    }
   },
   "start_time": "2022-03-18T02:21:12.600931",
   "version": "2.3.4"
  }
 },
 "nbformat": 4,
 "nbformat_minor": 5
}