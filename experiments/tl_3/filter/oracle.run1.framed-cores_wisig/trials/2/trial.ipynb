{
 "cells": [
  {
   "cell_type": "markdown",
   "id": "9fea5f46",
   "metadata": {
    "papermill": {
     "duration": 0.019784,
     "end_time": "2022-03-18T02:52:17.654627",
     "exception": false,
     "start_time": "2022-03-18T02:52:17.634843",
     "status": "completed"
    },
    "tags": []
   },
   "source": [
    "# Transfer Learning Template"
   ]
  },
  {
   "cell_type": "code",
   "execution_count": 1,
   "id": "0902182a",
   "metadata": {
    "execution": {
     "iopub.execute_input": "2022-03-18T02:52:17.695889Z",
     "iopub.status.busy": "2022-03-18T02:52:17.691421Z",
     "iopub.status.idle": "2022-03-18T02:52:18.677191Z",
     "shell.execute_reply": "2022-03-18T02:52:18.677420Z"
    },
    "papermill": {
     "duration": 1.006674,
     "end_time": "2022-03-18T02:52:18.677541",
     "exception": false,
     "start_time": "2022-03-18T02:52:17.670867",
     "status": "completed"
    },
    "tags": []
   },
   "outputs": [],
   "source": [
    "%load_ext autoreload\n",
    "%autoreload 2\n",
    "%matplotlib inline\n",
    "\n",
    "    \n",
    "import os, json, sys, time, random\n",
    "import numpy as np\n",
    "import torch\n",
    "from torch.optim import Adam\n",
    "from  easydict import EasyDict\n",
    "import matplotlib.pyplot as plt\n",
    "\n",
    "from steves_models.steves_ptn import Steves_Prototypical_Network\n",
    "\n",
    "from steves_utils.lazy_iterable_wrapper import Lazy_Iterable_Wrapper\n",
    "from steves_utils.iterable_aggregator import Iterable_Aggregator\n",
    "from steves_utils.ptn_train_eval_test_jig import  PTN_Train_Eval_Test_Jig\n",
    "from steves_utils.torch_sequential_builder import build_sequential\n",
    "from steves_utils.torch_utils import get_dataset_metrics, ptn_confusion_by_domain_over_dataloader\n",
    "from steves_utils.utils_v2 import (per_domain_accuracy_from_confusion, get_datasets_base_path)\n",
    "from steves_utils.PTN.utils import independent_accuracy_assesment\n",
    "\n",
    "from torch.utils.data import DataLoader\n",
    "\n",
    "from steves_utils.stratified_dataset.episodic_accessor import Episodic_Accessor_Factory\n",
    "\n",
    "from steves_utils.ptn_do_report import (\n",
    "    get_loss_curve,\n",
    "    get_results_table,\n",
    "    get_parameters_table,\n",
    "    get_domain_accuracies,\n",
    ")\n",
    "\n",
    "from steves_utils.transforms import get_chained_transform"
   ]
  },
  {
   "cell_type": "markdown",
   "id": "41c840b4",
   "metadata": {
    "papermill": {
     "duration": 0.013622,
     "end_time": "2022-03-18T02:52:18.709179",
     "exception": false,
     "start_time": "2022-03-18T02:52:18.695557",
     "status": "completed"
    },
    "tags": []
   },
   "source": [
    "# Allowed Parameters\n",
    "These are allowed parameters, not defaults\n",
    "Each of these values need to be present in the injected parameters (the notebook will raise an exception if they are not present)\n",
    "\n",
    "Papermill uses the cell tag \"parameters\" to inject the real parameters below this cell.\n",
    "Enable tags to see what I mean"
   ]
  },
  {
   "cell_type": "code",
   "execution_count": 2,
   "id": "fd44eb83",
   "metadata": {
    "execution": {
     "iopub.execute_input": "2022-03-18T02:52:18.738812Z",
     "iopub.status.busy": "2022-03-18T02:52:18.738540Z",
     "iopub.status.idle": "2022-03-18T02:52:18.753844Z",
     "shell.execute_reply": "2022-03-18T02:52:18.754268Z"
    },
    "papermill": {
     "duration": 0.031464,
     "end_time": "2022-03-18T02:52:18.754397",
     "exception": false,
     "start_time": "2022-03-18T02:52:18.722933",
     "status": "completed"
    },
    "tags": []
   },
   "outputs": [],
   "source": [
    "required_parameters = {\n",
    "    \"experiment_name\",\n",
    "    \"lr\",\n",
    "    \"device\",\n",
    "    \"seed\",\n",
    "    \"dataset_seed\",\n",
    "    \"n_shot\",\n",
    "    \"n_query\",\n",
    "    \"n_way\",\n",
    "    \"train_k_factor\",\n",
    "    \"val_k_factor\",\n",
    "    \"test_k_factor\",\n",
    "    \"n_epoch\",\n",
    "    \"patience\",\n",
    "    \"criteria_for_best\",\n",
    "    \"x_net\",\n",
    "    \"datasets\",\n",
    "    \"torch_default_dtype\",\n",
    "    \"NUM_LOGS_PER_EPOCH\",\n",
    "    \"BEST_MODEL_PATH\",\n",
    "    \"x_shape\",\n",
    "}"
   ]
  },
  {
   "cell_type": "code",
   "execution_count": 3,
   "id": "fa3f0049",
   "metadata": {
    "execution": {
     "iopub.execute_input": "2022-03-18T02:52:18.796753Z",
     "iopub.status.busy": "2022-03-18T02:52:18.796343Z",
     "iopub.status.idle": "2022-03-18T02:52:18.810359Z",
     "shell.execute_reply": "2022-03-18T02:52:18.810762Z"
    },
    "papermill": {
     "duration": 0.038465,
     "end_time": "2022-03-18T02:52:18.810889",
     "exception": false,
     "start_time": "2022-03-18T02:52:18.772424",
     "status": "completed"
    },
    "tags": [
     "parameters"
    ]
   },
   "outputs": [],
   "source": [
    "from steves_utils.CORES.utils import (\n",
    "    ALL_NODES,\n",
    "    ALL_NODES_MINIMUM_1000_EXAMPLES,\n",
    "    ALL_DAYS\n",
    ")\n",
    "\n",
    "from steves_utils.ORACLE.utils_v2 import (\n",
    "    ALL_DISTANCES_FEET_NARROWED,\n",
    "    ALL_RUNS,\n",
    "    ALL_SERIAL_NUMBERS,\n",
    ")\n",
    "\n",
    "standalone_parameters = {}\n",
    "standalone_parameters[\"experiment_name\"] = \"STANDALONE PTN\"\n",
    "standalone_parameters[\"lr\"] = 0.001\n",
    "standalone_parameters[\"device\"] = \"cuda\"\n",
    "\n",
    "standalone_parameters[\"seed\"] = 1337\n",
    "standalone_parameters[\"dataset_seed\"] = 1337\n",
    "\n",
    "standalone_parameters[\"n_way\"] = 8\n",
    "standalone_parameters[\"n_shot\"] = 3\n",
    "standalone_parameters[\"n_query\"]  = 2\n",
    "standalone_parameters[\"train_k_factor\"] = 1\n",
    "standalone_parameters[\"val_k_factor\"] = 2\n",
    "standalone_parameters[\"test_k_factor\"] = 2\n",
    "\n",
    "\n",
    "standalone_parameters[\"n_epoch\"] = 50\n",
    "\n",
    "standalone_parameters[\"patience\"] = 10\n",
    "standalone_parameters[\"criteria_for_best\"] = \"source_loss\"\n",
    "\n",
    "standalone_parameters[\"datasets\"] = [\n",
    "    {\n",
    "        \"labels\": ALL_SERIAL_NUMBERS,\n",
    "        \"domains\": ALL_DISTANCES_FEET_NARROWED,\n",
    "        \"num_examples_per_domain_per_label\": 100,\n",
    "        \"pickle_path\": os.path.join(get_datasets_base_path(), \"oracle.Run1_framed_2000Examples_stratified_ds.2022A.pkl\"),\n",
    "        \"source_or_target_dataset\": \"source\",\n",
    "        \"x_transforms\": [\"unit_mag\", \"minus_two\"],\n",
    "        \"episode_transforms\": [],\n",
    "        \"domain_prefix\": \"ORACLE_\"\n",
    "    },\n",
    "    {\n",
    "        \"labels\": ALL_NODES,\n",
    "        \"domains\": ALL_DAYS,\n",
    "        \"num_examples_per_domain_per_label\": 100,\n",
    "        \"pickle_path\": os.path.join(get_datasets_base_path(), \"cores.stratified_ds.2022A.pkl\"),\n",
    "        \"source_or_target_dataset\": \"target\",\n",
    "        \"x_transforms\": [\"unit_power\", \"times_zero\"],\n",
    "        \"episode_transforms\": [],\n",
    "        \"domain_prefix\": \"CORES_\"\n",
    "    }   \n",
    "]\n",
    "\n",
    "standalone_parameters[\"torch_default_dtype\"] = \"torch.float32\" \n",
    "\n",
    "\n",
    "\n",
    "standalone_parameters[\"x_net\"] =     [\n",
    "    {\"class\": \"nnReshape\", \"kargs\": {\"shape\":[-1, 1, 2, 256]}},\n",
    "    {\"class\": \"Conv2d\", \"kargs\": { \"in_channels\":1, \"out_channels\":256, \"kernel_size\":(1,7), \"bias\":False, \"padding\":(0,3), },},\n",
    "    {\"class\": \"ReLU\", \"kargs\": {\"inplace\": True}},\n",
    "    {\"class\": \"BatchNorm2d\", \"kargs\": {\"num_features\":256}},\n",
    "\n",
    "    {\"class\": \"Conv2d\", \"kargs\": { \"in_channels\":256, \"out_channels\":80, \"kernel_size\":(2,7), \"bias\":True, \"padding\":(0,3), },},\n",
    "    {\"class\": \"ReLU\", \"kargs\": {\"inplace\": True}},\n",
    "    {\"class\": \"BatchNorm2d\", \"kargs\": {\"num_features\":80}},\n",
    "    {\"class\": \"Flatten\", \"kargs\": {}},\n",
    "\n",
    "    {\"class\": \"Linear\", \"kargs\": {\"in_features\": 80*256, \"out_features\": 256}}, # 80 units per IQ pair\n",
    "    {\"class\": \"ReLU\", \"kargs\": {\"inplace\": True}},\n",
    "    {\"class\": \"BatchNorm1d\", \"kargs\": {\"num_features\":256}},\n",
    "\n",
    "    {\"class\": \"Linear\", \"kargs\": {\"in_features\": 256, \"out_features\": 256}},\n",
    "]\n",
    "\n",
    "# Parameters relevant to results\n",
    "# These parameters will basically never need to change\n",
    "standalone_parameters[\"NUM_LOGS_PER_EPOCH\"] = 10\n",
    "standalone_parameters[\"BEST_MODEL_PATH\"] = \"./best_model.pth\"\n",
    "\n",
    "\n",
    "\n",
    "\n"
   ]
  },
  {
   "cell_type": "code",
   "execution_count": 4,
   "id": "8028bea3",
   "metadata": {
    "execution": {
     "iopub.execute_input": "2022-03-18T02:52:18.856193Z",
     "iopub.status.busy": "2022-03-18T02:52:18.844178Z",
     "iopub.status.idle": "2022-03-18T02:52:18.869534Z",
     "shell.execute_reply": "2022-03-18T02:52:18.869936Z"
    },
    "papermill": {
     "duration": 0.040723,
     "end_time": "2022-03-18T02:52:18.870074",
     "exception": false,
     "start_time": "2022-03-18T02:52:18.829351",
     "status": "completed"
    },
    "tags": [
     "injected-parameters"
    ]
   },
   "outputs": [],
   "source": [
    "# Parameters\n",
    "parameters = {\n",
    "    \"experiment_name\": \"tl_3-filter:oracle.run1.framed -> cores+wisig\",\n",
    "    \"device\": \"cuda\",\n",
    "    \"lr\": 0.001,\n",
    "    \"seed\": 1337,\n",
    "    \"dataset_seed\": 1337,\n",
    "    \"x_shape\": [2, 200],\n",
    "    \"n_shot\": 3,\n",
    "    \"n_query\": 2,\n",
    "    \"train_k_factor\": 3,\n",
    "    \"val_k_factor\": 2,\n",
    "    \"test_k_factor\": 2,\n",
    "    \"torch_default_dtype\": \"torch.float32\",\n",
    "    \"n_epoch\": 50,\n",
    "    \"patience\": 3,\n",
    "    \"criteria_for_best\": \"target_loss\",\n",
    "    \"x_net\": [\n",
    "        {\"class\": \"nnReshape\", \"kargs\": {\"shape\": [-1, 1, 2, 200]}},\n",
    "        {\n",
    "            \"class\": \"Conv2d\",\n",
    "            \"kargs\": {\n",
    "                \"in_channels\": 1,\n",
    "                \"out_channels\": 256,\n",
    "                \"kernel_size\": [1, 7],\n",
    "                \"bias\": False,\n",
    "                \"padding\": [0, 3],\n",
    "            },\n",
    "        },\n",
    "        {\"class\": \"ReLU\", \"kargs\": {\"inplace\": True}},\n",
    "        {\"class\": \"BatchNorm2d\", \"kargs\": {\"num_features\": 256}},\n",
    "        {\n",
    "            \"class\": \"Conv2d\",\n",
    "            \"kargs\": {\n",
    "                \"in_channels\": 256,\n",
    "                \"out_channels\": 80,\n",
    "                \"kernel_size\": [2, 7],\n",
    "                \"bias\": True,\n",
    "                \"padding\": [0, 3],\n",
    "            },\n",
    "        },\n",
    "        {\"class\": \"ReLU\", \"kargs\": {\"inplace\": True}},\n",
    "        {\"class\": \"BatchNorm2d\", \"kargs\": {\"num_features\": 80}},\n",
    "        {\"class\": \"Flatten\", \"kargs\": {}},\n",
    "        {\"class\": \"Linear\", \"kargs\": {\"in_features\": 16000, \"out_features\": 256}},\n",
    "        {\"class\": \"ReLU\", \"kargs\": {\"inplace\": True}},\n",
    "        {\"class\": \"BatchNorm1d\", \"kargs\": {\"num_features\": 256}},\n",
    "        {\"class\": \"Linear\", \"kargs\": {\"in_features\": 256, \"out_features\": 256}},\n",
    "    ],\n",
    "    \"NUM_LOGS_PER_EPOCH\": 10,\n",
    "    \"BEST_MODEL_PATH\": \"./best_model.pth\",\n",
    "    \"n_way\": 16,\n",
    "    \"datasets\": [\n",
    "        {\n",
    "            \"labels\": [\n",
    "                \"1-10.\",\n",
    "                \"1-11.\",\n",
    "                \"1-15.\",\n",
    "                \"1-16.\",\n",
    "                \"1-17.\",\n",
    "                \"1-18.\",\n",
    "                \"1-19.\",\n",
    "                \"10-4.\",\n",
    "                \"10-7.\",\n",
    "                \"11-1.\",\n",
    "                \"11-14.\",\n",
    "                \"11-17.\",\n",
    "                \"11-20.\",\n",
    "                \"11-7.\",\n",
    "                \"13-20.\",\n",
    "                \"13-8.\",\n",
    "                \"14-10.\",\n",
    "                \"14-11.\",\n",
    "                \"14-14.\",\n",
    "                \"14-7.\",\n",
    "                \"15-1.\",\n",
    "                \"15-20.\",\n",
    "                \"16-1.\",\n",
    "                \"16-16.\",\n",
    "                \"17-10.\",\n",
    "                \"17-11.\",\n",
    "                \"17-2.\",\n",
    "                \"19-1.\",\n",
    "                \"19-16.\",\n",
    "                \"19-19.\",\n",
    "                \"19-20.\",\n",
    "                \"19-3.\",\n",
    "                \"2-10.\",\n",
    "                \"2-11.\",\n",
    "                \"2-17.\",\n",
    "                \"2-18.\",\n",
    "                \"2-20.\",\n",
    "                \"2-3.\",\n",
    "                \"2-4.\",\n",
    "                \"2-5.\",\n",
    "                \"2-6.\",\n",
    "                \"2-7.\",\n",
    "                \"2-8.\",\n",
    "                \"3-13.\",\n",
    "                \"3-18.\",\n",
    "                \"3-3.\",\n",
    "                \"4-1.\",\n",
    "                \"4-10.\",\n",
    "                \"4-11.\",\n",
    "                \"4-19.\",\n",
    "                \"5-5.\",\n",
    "                \"6-15.\",\n",
    "                \"7-10.\",\n",
    "                \"7-14.\",\n",
    "                \"8-18.\",\n",
    "                \"8-20.\",\n",
    "                \"8-3.\",\n",
    "                \"8-8.\",\n",
    "            ],\n",
    "            \"domains\": [1, 2, 3, 4, 5],\n",
    "            \"num_examples_per_domain_per_label\": 100,\n",
    "            \"pickle_path\": \"/mnt/wd500GB/CSC500/csc500-main/datasets/cores.stratified_ds.2022A.pkl\",\n",
    "            \"source_or_target_dataset\": \"target\",\n",
    "            \"x_transforms\": [\"lowpass_+/-10MHz\", \"take_200\"],\n",
    "            \"episode_transforms\": [],\n",
    "            \"domain_prefix\": \"C_A_\",\n",
    "        },\n",
    "        {\n",
    "            \"labels\": [\n",
    "                \"1-10\",\n",
    "                \"1-12\",\n",
    "                \"1-14\",\n",
    "                \"1-16\",\n",
    "                \"1-18\",\n",
    "                \"1-19\",\n",
    "                \"1-8\",\n",
    "                \"10-11\",\n",
    "                \"10-17\",\n",
    "                \"10-4\",\n",
    "                \"10-7\",\n",
    "                \"11-1\",\n",
    "                \"11-10\",\n",
    "                \"11-19\",\n",
    "                \"11-20\",\n",
    "                \"11-4\",\n",
    "                \"11-7\",\n",
    "                \"12-19\",\n",
    "                \"12-20\",\n",
    "                \"12-7\",\n",
    "                \"13-14\",\n",
    "                \"13-18\",\n",
    "                \"13-19\",\n",
    "                \"13-20\",\n",
    "                \"13-3\",\n",
    "                \"13-7\",\n",
    "                \"14-10\",\n",
    "                \"14-11\",\n",
    "                \"14-12\",\n",
    "                \"14-13\",\n",
    "                \"14-14\",\n",
    "                \"14-19\",\n",
    "                \"14-20\",\n",
    "                \"14-7\",\n",
    "                \"14-8\",\n",
    "                \"14-9\",\n",
    "                \"15-1\",\n",
    "                \"15-19\",\n",
    "                \"15-6\",\n",
    "                \"16-1\",\n",
    "                \"16-16\",\n",
    "                \"16-19\",\n",
    "                \"16-20\",\n",
    "                \"17-10\",\n",
    "                \"17-11\",\n",
    "                \"18-1\",\n",
    "                \"18-10\",\n",
    "                \"18-11\",\n",
    "                \"18-12\",\n",
    "                \"18-13\",\n",
    "                \"18-14\",\n",
    "                \"18-15\",\n",
    "                \"18-16\",\n",
    "                \"18-17\",\n",
    "                \"18-19\",\n",
    "                \"18-2\",\n",
    "                \"18-20\",\n",
    "                \"18-4\",\n",
    "                \"18-5\",\n",
    "                \"18-7\",\n",
    "                \"18-8\",\n",
    "                \"18-9\",\n",
    "                \"19-1\",\n",
    "                \"19-10\",\n",
    "                \"19-11\",\n",
    "                \"19-12\",\n",
    "                \"19-13\",\n",
    "                \"19-14\",\n",
    "                \"19-15\",\n",
    "                \"19-19\",\n",
    "                \"19-2\",\n",
    "                \"19-20\",\n",
    "                \"19-3\",\n",
    "                \"19-4\",\n",
    "                \"19-6\",\n",
    "                \"19-7\",\n",
    "                \"19-8\",\n",
    "                \"19-9\",\n",
    "                \"2-1\",\n",
    "                \"2-13\",\n",
    "                \"2-15\",\n",
    "                \"2-3\",\n",
    "                \"2-4\",\n",
    "                \"2-5\",\n",
    "                \"2-6\",\n",
    "                \"2-7\",\n",
    "                \"2-8\",\n",
    "                \"20-1\",\n",
    "                \"20-12\",\n",
    "                \"20-14\",\n",
    "                \"20-15\",\n",
    "                \"20-16\",\n",
    "                \"20-18\",\n",
    "                \"20-19\",\n",
    "                \"20-20\",\n",
    "                \"20-3\",\n",
    "                \"20-4\",\n",
    "                \"20-5\",\n",
    "                \"20-7\",\n",
    "                \"20-8\",\n",
    "                \"3-1\",\n",
    "                \"3-13\",\n",
    "                \"3-18\",\n",
    "                \"3-2\",\n",
    "                \"3-8\",\n",
    "                \"4-1\",\n",
    "                \"4-10\",\n",
    "                \"4-11\",\n",
    "                \"5-1\",\n",
    "                \"5-5\",\n",
    "                \"6-1\",\n",
    "                \"6-15\",\n",
    "                \"6-6\",\n",
    "                \"7-10\",\n",
    "                \"7-11\",\n",
    "                \"7-12\",\n",
    "                \"7-13\",\n",
    "                \"7-14\",\n",
    "                \"7-7\",\n",
    "                \"7-8\",\n",
    "                \"7-9\",\n",
    "                \"8-1\",\n",
    "                \"8-13\",\n",
    "                \"8-14\",\n",
    "                \"8-18\",\n",
    "                \"8-20\",\n",
    "                \"8-3\",\n",
    "                \"8-8\",\n",
    "                \"9-1\",\n",
    "                \"9-7\",\n",
    "            ],\n",
    "            \"domains\": [1, 2, 3, 4],\n",
    "            \"num_examples_per_domain_per_label\": 100,\n",
    "            \"pickle_path\": \"/mnt/wd500GB/CSC500/csc500-main/datasets/wisig.node3-19.stratified_ds.2022A.pkl\",\n",
    "            \"source_or_target_dataset\": \"target\",\n",
    "            \"x_transforms\": [\"lowpass_+/-10MHz\", \"take_200\"],\n",
    "            \"episode_transforms\": [],\n",
    "            \"domain_prefix\": \"W_A_\",\n",
    "        },\n",
    "        {\n",
    "            \"labels\": [\n",
    "                \"3123D52\",\n",
    "                \"3123D65\",\n",
    "                \"3123D79\",\n",
    "                \"3123D80\",\n",
    "                \"3123D54\",\n",
    "                \"3123D70\",\n",
    "                \"3123D7B\",\n",
    "                \"3123D89\",\n",
    "                \"3123D58\",\n",
    "                \"3123D76\",\n",
    "                \"3123D7D\",\n",
    "                \"3123EFE\",\n",
    "                \"3123D64\",\n",
    "                \"3123D78\",\n",
    "                \"3123D7E\",\n",
    "                \"3124E4A\",\n",
    "            ],\n",
    "            \"domains\": [32, 38, 8, 44, 14, 50, 20, 26],\n",
    "            \"num_examples_per_domain_per_label\": 2000,\n",
    "            \"pickle_path\": \"/mnt/wd500GB/CSC500/csc500-main/datasets/oracle.Run1_framed_2000Examples_stratified_ds.2022A.pkl\",\n",
    "            \"source_or_target_dataset\": \"source\",\n",
    "            \"x_transforms\": [\"take_200\", \"resample_20Msps_to_25Msps\"],\n",
    "            \"episode_transforms\": [],\n",
    "            \"domain_prefix\": \"ORACLE.run1_\",\n",
    "        },\n",
    "    ],\n",
    "}\n"
   ]
  },
  {
   "cell_type": "code",
   "execution_count": 5,
   "id": "8fa1cc33",
   "metadata": {
    "execution": {
     "iopub.execute_input": "2022-03-18T02:52:18.904453Z",
     "iopub.status.busy": "2022-03-18T02:52:18.901560Z",
     "iopub.status.idle": "2022-03-18T02:52:18.921605Z",
     "shell.execute_reply": "2022-03-18T02:52:18.921159Z"
    },
    "papermill": {
     "duration": 0.034822,
     "end_time": "2022-03-18T02:52:18.921705",
     "exception": false,
     "start_time": "2022-03-18T02:52:18.886883",
     "status": "completed"
    },
    "tags": []
   },
   "outputs": [],
   "source": [
    "# Set this to True if you want to run this template directly\n",
    "STANDALONE = False\n",
    "if STANDALONE:\n",
    "    print(\"parameters not injected, running with standalone_parameters\")\n",
    "    parameters = standalone_parameters\n",
    "\n",
    "if not 'parameters' in locals() and not 'parameters' in globals():\n",
    "    raise Exception(\"Parameter injection failed\")\n",
    "\n",
    "#Use an easy dict for all the parameters\n",
    "p = EasyDict(parameters)\n",
    "\n",
    "if \"x_shape\" not in p:\n",
    "    p.x_shape = [2,256] # Default to this if we dont supply x_shape\n",
    "\n",
    "\n",
    "supplied_keys = set(p.keys())\n",
    "\n",
    "if  supplied_keys != required_parameters:\n",
    "    print(\"Parameters are incorrect\")\n",
    "    if len(supplied_keys - required_parameters)>0: print(\"Shouldn't have:\", str(supplied_keys - required_parameters))\n",
    "    if len(required_parameters - supplied_keys)>0: print(\"Need to have:\", str(required_parameters - supplied_keys))\n",
    "    raise RuntimeError(\"Parameters are incorrect\")"
   ]
  },
  {
   "cell_type": "code",
   "execution_count": 6,
   "id": "3a028d58",
   "metadata": {
    "execution": {
     "iopub.execute_input": "2022-03-18T02:52:18.954131Z",
     "iopub.status.busy": "2022-03-18T02:52:18.953878Z",
     "iopub.status.idle": "2022-03-18T02:52:18.965820Z",
     "shell.execute_reply": "2022-03-18T02:52:18.965466Z"
    },
    "papermill": {
     "duration": 0.027323,
     "end_time": "2022-03-18T02:52:18.965898",
     "exception": false,
     "start_time": "2022-03-18T02:52:18.938575",
     "status": "completed"
    },
    "tags": []
   },
   "outputs": [],
   "source": [
    "###################################\n",
    "# Set the RNGs and make it all deterministic\n",
    "###################################\n",
    "np.random.seed(p.seed)\n",
    "random.seed(p.seed)\n",
    "torch.manual_seed(p.seed)\n",
    "\n",
    "torch.use_deterministic_algorithms(True) "
   ]
  },
  {
   "cell_type": "code",
   "execution_count": 7,
   "id": "b691acf6",
   "metadata": {
    "execution": {
     "iopub.execute_input": "2022-03-18T02:52:18.999544Z",
     "iopub.status.busy": "2022-03-18T02:52:18.999295Z",
     "iopub.status.idle": "2022-03-18T02:52:19.015317Z",
     "shell.execute_reply": "2022-03-18T02:52:19.014799Z"
    },
    "papermill": {
     "duration": 0.031362,
     "end_time": "2022-03-18T02:52:19.015420",
     "exception": false,
     "start_time": "2022-03-18T02:52:18.984058",
     "status": "completed"
    },
    "tags": []
   },
   "outputs": [],
   "source": [
    "###########################################\n",
    "# The stratified datasets honor this\n",
    "###########################################\n",
    "torch.set_default_dtype(eval(p.torch_default_dtype))"
   ]
  },
  {
   "cell_type": "code",
   "execution_count": 8,
   "id": "b5fba671",
   "metadata": {
    "execution": {
     "iopub.execute_input": "2022-03-18T02:52:19.051465Z",
     "iopub.status.busy": "2022-03-18T02:52:19.051195Z",
     "iopub.status.idle": "2022-03-18T02:52:19.092107Z",
     "shell.execute_reply": "2022-03-18T02:52:19.092320Z"
    },
    "papermill": {
     "duration": 0.057524,
     "end_time": "2022-03-18T02:52:19.092394",
     "exception": false,
     "start_time": "2022-03-18T02:52:19.034870",
     "status": "completed"
    },
    "tags": []
   },
   "outputs": [],
   "source": [
    "###################################\n",
    "# Build the network(s)\n",
    "# Note: It's critical to do this AFTER setting the RNG\n",
    "###################################\n",
    "x_net = build_sequential(p.x_net)"
   ]
  },
  {
   "cell_type": "code",
   "execution_count": 9,
   "id": "5d7e61cc",
   "metadata": {
    "execution": {
     "iopub.execute_input": "2022-03-18T02:52:19.121959Z",
     "iopub.status.busy": "2022-03-18T02:52:19.121712Z",
     "iopub.status.idle": "2022-03-18T02:52:19.135756Z",
     "shell.execute_reply": "2022-03-18T02:52:19.136057Z"
    },
    "papermill": {
     "duration": 0.02974,
     "end_time": "2022-03-18T02:52:19.136150",
     "exception": false,
     "start_time": "2022-03-18T02:52:19.106410",
     "status": "completed"
    },
    "tags": []
   },
   "outputs": [],
   "source": [
    "start_time_secs = time.time()"
   ]
  },
  {
   "cell_type": "code",
   "execution_count": 10,
   "id": "c6b67dfd",
   "metadata": {
    "execution": {
     "iopub.execute_input": "2022-03-18T02:52:19.170854Z",
     "iopub.status.busy": "2022-03-18T02:52:19.170605Z",
     "iopub.status.idle": "2022-03-18T02:52:19.185395Z",
     "shell.execute_reply": "2022-03-18T02:52:19.185764Z"
    },
    "papermill": {
     "duration": 0.030995,
     "end_time": "2022-03-18T02:52:19.185875",
     "exception": false,
     "start_time": "2022-03-18T02:52:19.154880",
     "status": "completed"
    },
    "tags": []
   },
   "outputs": [],
   "source": [
    "p.domains_source = []\n",
    "p.domains_target = []\n",
    "\n",
    "\n",
    "train_original_source = []\n",
    "val_original_source   = []\n",
    "test_original_source  = []\n",
    "\n",
    "train_original_target = []\n",
    "val_original_target   = []\n",
    "test_original_target  = []"
   ]
  },
  {
   "cell_type": "code",
   "execution_count": 11,
   "id": "e3d9c3d3",
   "metadata": {
    "execution": {
     "iopub.execute_input": "2022-03-18T02:52:19.220031Z",
     "iopub.status.busy": "2022-03-18T02:52:19.219779Z",
     "iopub.status.idle": "2022-03-18T02:52:19.234425Z",
     "shell.execute_reply": "2022-03-18T02:52:19.234031Z"
    },
    "papermill": {
     "duration": 0.030129,
     "end_time": "2022-03-18T02:52:19.234519",
     "exception": false,
     "start_time": "2022-03-18T02:52:19.204390",
     "status": "completed"
    },
    "tags": []
   },
   "outputs": [],
   "source": [
    "# global_x_transform_func = lambda x: normalize(x.to(torch.get_default_dtype()), \"unit_power\") # unit_power, unit_mag\n",
    "# global_x_transform_func = lambda x: normalize(x, \"unit_power\") # unit_power, unit_mag"
   ]
  },
  {
   "cell_type": "code",
   "execution_count": 12,
   "id": "acb78fd2",
   "metadata": {
    "execution": {
     "iopub.execute_input": "2022-03-18T02:52:19.274565Z",
     "iopub.status.busy": "2022-03-18T02:52:19.274289Z",
     "iopub.status.idle": "2022-03-18T02:52:19.286940Z",
     "shell.execute_reply": "2022-03-18T02:52:19.287400Z"
    },
    "papermill": {
     "duration": 0.034548,
     "end_time": "2022-03-18T02:52:19.287534",
     "exception": false,
     "start_time": "2022-03-18T02:52:19.252986",
     "status": "completed"
    },
    "tags": []
   },
   "outputs": [],
   "source": [
    "def add_dataset(\n",
    "    labels,\n",
    "    domains,\n",
    "    pickle_path,\n",
    "    x_transforms,\n",
    "    episode_transforms,\n",
    "    domain_prefix,\n",
    "    num_examples_per_domain_per_label,\n",
    "    source_or_target_dataset:str,\n",
    "    iterator_seed=p.seed,\n",
    "    dataset_seed=p.dataset_seed,\n",
    "    n_shot=p.n_shot,\n",
    "    n_way=p.n_way,\n",
    "    n_query=p.n_query,\n",
    "    train_val_test_k_factors=(p.train_k_factor,p.val_k_factor,p.test_k_factor),\n",
    "):\n",
    "   \n",
    "    if x_transforms == []: x_transform = None\n",
    "    else: x_transform = get_chained_transform(x_transforms)\n",
    "    \n",
    "    if episode_transforms == []: episode_transform = None\n",
    "    else: raise Exception(\"episode_transforms not implemented\")\n",
    "    \n",
    "    episode_transform = lambda tup, _prefix=domain_prefix: (_prefix + str(tup[0]), tup[1])\n",
    "\n",
    "\n",
    "    eaf = Episodic_Accessor_Factory(\n",
    "        labels=labels,\n",
    "        domains=domains,\n",
    "        num_examples_per_domain_per_label=num_examples_per_domain_per_label,\n",
    "        iterator_seed=iterator_seed,\n",
    "        dataset_seed=dataset_seed,\n",
    "        n_shot=n_shot,\n",
    "        n_way=n_way,\n",
    "        n_query=n_query,\n",
    "        train_val_test_k_factors=train_val_test_k_factors,\n",
    "        pickle_path=pickle_path,\n",
    "        x_transform_func=x_transform,\n",
    "    )\n",
    "\n",
    "    train, val, test = eaf.get_train(), eaf.get_val(), eaf.get_test()\n",
    "    train = Lazy_Iterable_Wrapper(train, episode_transform)\n",
    "    val = Lazy_Iterable_Wrapper(val, episode_transform)\n",
    "    test = Lazy_Iterable_Wrapper(test, episode_transform)\n",
    "\n",
    "    if source_or_target_dataset==\"source\":\n",
    "        train_original_source.append(train)\n",
    "        val_original_source.append(val)\n",
    "        test_original_source.append(test)\n",
    "\n",
    "        p.domains_source.extend(\n",
    "            [domain_prefix + str(u) for u in domains]\n",
    "        )\n",
    "    elif source_or_target_dataset==\"target\":\n",
    "        train_original_target.append(train)\n",
    "        val_original_target.append(val)\n",
    "        test_original_target.append(test)\n",
    "        p.domains_target.extend(\n",
    "            [domain_prefix + str(u) for u in domains]\n",
    "        )\n",
    "    else:\n",
    "        raise Exception(f\"invalid source_or_target_dataset: {source_or_target_dataset}\")\n",
    "    "
   ]
  },
  {
   "cell_type": "code",
   "execution_count": 13,
   "id": "fe266617",
   "metadata": {
    "execution": {
     "iopub.execute_input": "2022-03-18T02:52:19.323518Z",
     "iopub.status.busy": "2022-03-18T02:52:19.323228Z",
     "iopub.status.idle": "2022-03-18T02:52:35.184352Z",
     "shell.execute_reply": "2022-03-18T02:52:35.184054Z"
    },
    "papermill": {
     "duration": 15.876942,
     "end_time": "2022-03-18T02:52:35.184421",
     "exception": false,
     "start_time": "2022-03-18T02:52:19.307479",
     "status": "completed"
    },
    "tags": []
   },
   "outputs": [],
   "source": [
    "for ds in p.datasets:\n",
    "    add_dataset(**ds)"
   ]
  },
  {
   "cell_type": "code",
   "execution_count": 14,
   "id": "b90d65ac",
   "metadata": {
    "execution": {
     "iopub.execute_input": "2022-03-18T02:52:35.221827Z",
     "iopub.status.busy": "2022-03-18T02:52:35.221474Z",
     "iopub.status.idle": "2022-03-18T02:52:35.237341Z",
     "shell.execute_reply": "2022-03-18T02:52:35.236882Z"
    },
    "papermill": {
     "duration": 0.033662,
     "end_time": "2022-03-18T02:52:35.237425",
     "exception": false,
     "start_time": "2022-03-18T02:52:35.203763",
     "status": "completed"
    },
    "tags": []
   },
   "outputs": [],
   "source": [
    "# from steves_utils.CORES.utils import (\n",
    "#     ALL_NODES,\n",
    "#     ALL_NODES_MINIMUM_1000_EXAMPLES,\n",
    "#     ALL_DAYS\n",
    "# )\n",
    "\n",
    "# add_dataset(\n",
    "#     labels=ALL_NODES,\n",
    "#     domains = ALL_DAYS,\n",
    "#     num_examples_per_domain_per_label=100,\n",
    "#     pickle_path=os.path.join(get_datasets_base_path(), \"cores.stratified_ds.2022A.pkl\"),\n",
    "#     source_or_target_dataset=\"target\",\n",
    "#     x_transform_func=global_x_transform_func,\n",
    "#     domain_modifier=lambda u: f\"cores_{u}\"\n",
    "# )"
   ]
  },
  {
   "cell_type": "code",
   "execution_count": 15,
   "id": "76db484d",
   "metadata": {
    "execution": {
     "iopub.execute_input": "2022-03-18T02:52:35.274292Z",
     "iopub.status.busy": "2022-03-18T02:52:35.274024Z",
     "iopub.status.idle": "2022-03-18T02:52:35.288597Z",
     "shell.execute_reply": "2022-03-18T02:52:35.288908Z"
    },
    "papermill": {
     "duration": 0.032072,
     "end_time": "2022-03-18T02:52:35.289002",
     "exception": false,
     "start_time": "2022-03-18T02:52:35.256930",
     "status": "completed"
    },
    "tags": []
   },
   "outputs": [],
   "source": [
    "# from steves_utils.ORACLE.utils_v2 import (\n",
    "#     ALL_DISTANCES_FEET,\n",
    "#     ALL_RUNS,\n",
    "#     ALL_SERIAL_NUMBERS,\n",
    "# )\n",
    "\n",
    "\n",
    "# add_dataset(\n",
    "#     labels=ALL_SERIAL_NUMBERS,\n",
    "#     domains = list(set(ALL_DISTANCES_FEET) - {2,62}),\n",
    "#     num_examples_per_domain_per_label=100,\n",
    "#     pickle_path=os.path.join(get_datasets_base_path(), \"oracle.Run2_framed_2000Examples_stratified_ds.2022A.pkl\"),\n",
    "#     source_or_target_dataset=\"source\",\n",
    "#     x_transform_func=global_x_transform_func,\n",
    "#     domain_modifier=lambda u: f\"oracle1_{u}\"\n",
    "# )\n"
   ]
  },
  {
   "cell_type": "code",
   "execution_count": 16,
   "id": "97dea9d2",
   "metadata": {
    "execution": {
     "iopub.execute_input": "2022-03-18T02:52:35.327324Z",
     "iopub.status.busy": "2022-03-18T02:52:35.327030Z",
     "iopub.status.idle": "2022-03-18T02:52:35.338577Z",
     "shell.execute_reply": "2022-03-18T02:52:35.338889Z"
    },
    "papermill": {
     "duration": 0.030258,
     "end_time": "2022-03-18T02:52:35.338993",
     "exception": false,
     "start_time": "2022-03-18T02:52:35.308735",
     "status": "completed"
    },
    "tags": []
   },
   "outputs": [],
   "source": [
    "# from steves_utils.ORACLE.utils_v2 import (\n",
    "#     ALL_DISTANCES_FEET,\n",
    "#     ALL_RUNS,\n",
    "#     ALL_SERIAL_NUMBERS,\n",
    "# )\n",
    "\n",
    "\n",
    "# add_dataset(\n",
    "#     labels=ALL_SERIAL_NUMBERS,\n",
    "#     domains = list(set(ALL_DISTANCES_FEET) - {2,62,56}),\n",
    "#     num_examples_per_domain_per_label=100,\n",
    "#     pickle_path=os.path.join(get_datasets_base_path(), \"oracle.Run2_framed_2000Examples_stratified_ds.2022A.pkl\"),\n",
    "#     source_or_target_dataset=\"source\",\n",
    "#     x_transform_func=global_x_transform_func,\n",
    "#     domain_modifier=lambda u: f\"oracle2_{u}\"\n",
    "# )"
   ]
  },
  {
   "cell_type": "code",
   "execution_count": 17,
   "id": "6f289866",
   "metadata": {
    "execution": {
     "iopub.execute_input": "2022-03-18T02:52:35.374998Z",
     "iopub.status.busy": "2022-03-18T02:52:35.374732Z",
     "iopub.status.idle": "2022-03-18T02:52:35.389338Z",
     "shell.execute_reply": "2022-03-18T02:52:35.389640Z"
    },
    "papermill": {
     "duration": 0.030526,
     "end_time": "2022-03-18T02:52:35.389753",
     "exception": false,
     "start_time": "2022-03-18T02:52:35.359227",
     "status": "completed"
    },
    "tags": []
   },
   "outputs": [],
   "source": [
    "# add_dataset(\n",
    "#     labels=list(range(19)),\n",
    "#     domains = [0,1,2],\n",
    "#     num_examples_per_domain_per_label=100,\n",
    "#     pickle_path=os.path.join(get_datasets_base_path(), \"metehan.stratified_ds.2022A.pkl\"),\n",
    "#     source_or_target_dataset=\"target\",\n",
    "#     x_transform_func=global_x_transform_func,\n",
    "#     domain_modifier=lambda u: f\"met_{u}\"\n",
    "# )"
   ]
  },
  {
   "cell_type": "code",
   "execution_count": 18,
   "id": "86a863c3",
   "metadata": {
    "execution": {
     "iopub.execute_input": "2022-03-18T02:52:35.430330Z",
     "iopub.status.busy": "2022-03-18T02:52:35.430059Z",
     "iopub.status.idle": "2022-03-18T02:52:35.445412Z",
     "shell.execute_reply": "2022-03-18T02:52:35.445633Z"
    },
    "papermill": {
     "duration": 0.035707,
     "end_time": "2022-03-18T02:52:35.445706",
     "exception": false,
     "start_time": "2022-03-18T02:52:35.409999",
     "status": "completed"
    },
    "tags": []
   },
   "outputs": [],
   "source": [
    "# # from steves_utils.wisig.utils import (\n",
    "# #     ALL_NODES_MINIMUM_100_EXAMPLES,\n",
    "# #     ALL_NODES_MINIMUM_500_EXAMPLES,\n",
    "# #     ALL_NODES_MINIMUM_1000_EXAMPLES,\n",
    "# #     ALL_DAYS\n",
    "# # )\n",
    "\n",
    "# import steves_utils.wisig.utils as wisig\n",
    "\n",
    "\n",
    "# add_dataset(\n",
    "#     labels=wisig.ALL_NODES_MINIMUM_100_EXAMPLES,\n",
    "#     domains = wisig.ALL_DAYS,\n",
    "#     num_examples_per_domain_per_label=100,\n",
    "#     pickle_path=os.path.join(get_datasets_base_path(), \"wisig.node3-19.stratified_ds.2022A.pkl\"),\n",
    "#     source_or_target_dataset=\"target\",\n",
    "#     x_transform_func=global_x_transform_func,\n",
    "#     domain_modifier=lambda u: f\"wisig_{u}\"\n",
    "# )"
   ]
  },
  {
   "cell_type": "code",
   "execution_count": 19,
   "id": "fd5442bc",
   "metadata": {
    "execution": {
     "iopub.execute_input": "2022-03-18T02:52:35.483667Z",
     "iopub.status.busy": "2022-03-18T02:52:35.483301Z",
     "iopub.status.idle": "2022-03-18T02:52:35.499588Z",
     "shell.execute_reply": "2022-03-18T02:52:35.499297Z"
    },
    "papermill": {
     "duration": 0.037941,
     "end_time": "2022-03-18T02:52:35.499649",
     "exception": false,
     "start_time": "2022-03-18T02:52:35.461708",
     "status": "completed"
    },
    "tags": []
   },
   "outputs": [],
   "source": [
    "###################################\n",
    "# Build the dataset\n",
    "###################################\n",
    "train_original_source = Iterable_Aggregator(train_original_source, p.seed)\n",
    "val_original_source = Iterable_Aggregator(val_original_source, p.seed)\n",
    "test_original_source = Iterable_Aggregator(test_original_source, p.seed)\n",
    "\n",
    "\n",
    "train_original_target = Iterable_Aggregator(train_original_target, p.seed)\n",
    "val_original_target = Iterable_Aggregator(val_original_target, p.seed)\n",
    "test_original_target = Iterable_Aggregator(test_original_target, p.seed)\n",
    "\n",
    "# For CNN We only use X and Y. And we only train on the source.\n",
    "# Properly form the data using a transform lambda and Lazy_Iterable_Wrapper. Finally wrap them in a dataloader\n",
    "\n",
    "transform_lambda = lambda ex: ex[1] # Original is (<domain>, <episode>) so we strip down to episode only\n",
    "\n",
    "train_processed_source = Lazy_Iterable_Wrapper(train_original_source, transform_lambda)\n",
    "val_processed_source   = Lazy_Iterable_Wrapper(val_original_source, transform_lambda)\n",
    "test_processed_source  = Lazy_Iterable_Wrapper(test_original_source, transform_lambda)\n",
    "\n",
    "train_processed_target = Lazy_Iterable_Wrapper(train_original_target, transform_lambda)\n",
    "val_processed_target   = Lazy_Iterable_Wrapper(val_original_target, transform_lambda)\n",
    "test_processed_target  = Lazy_Iterable_Wrapper(test_original_target, transform_lambda)\n",
    "\n",
    "datasets = EasyDict({\n",
    "    \"source\": {\n",
    "        \"original\": {\"train\":train_original_source, \"val\":val_original_source, \"test\":test_original_source},\n",
    "        \"processed\": {\"train\":train_processed_source, \"val\":val_processed_source, \"test\":test_processed_source}\n",
    "    },\n",
    "    \"target\": {\n",
    "        \"original\": {\"train\":train_original_target, \"val\":val_original_target, \"test\":test_original_target},\n",
    "        \"processed\": {\"train\":train_processed_target, \"val\":val_processed_target, \"test\":test_processed_target}\n",
    "    },\n",
    "})"
   ]
  },
  {
   "cell_type": "code",
   "execution_count": 20,
   "id": "5b3c01fc",
   "metadata": {
    "execution": {
     "iopub.execute_input": "2022-03-18T02:52:35.541590Z",
     "iopub.status.busy": "2022-03-18T02:52:35.541317Z",
     "iopub.status.idle": "2022-03-18T02:52:41.039153Z",
     "shell.execute_reply": "2022-03-18T02:52:41.039431Z"
    },
    "papermill": {
     "duration": 5.519861,
     "end_time": "2022-03-18T02:52:41.039526",
     "exception": false,
     "start_time": "2022-03-18T02:52:35.519665",
     "status": "completed"
    },
    "tags": []
   },
   "outputs": [
    {
     "name": "stdout",
     "output_type": "stream",
     "text": [
      "{'ORACLE.run1_38', 'ORACLE.run1_8', 'ORACLE.run1_32', 'ORACLE.run1_50', 'ORACLE.run1_44', 'ORACLE.run1_20', 'ORACLE.run1_14', 'ORACLE.run1_26'}\n"
     ]
    },
    {
     "name": "stdout",
     "output_type": "stream",
     "text": [
      "{'W_A_1', 'C_A_5', 'C_A_2', 'C_A_1', 'C_A_3', 'W_A_3', 'W_A_2', 'W_A_4', 'C_A_4'}\n"
     ]
    },
    {
     "name": "stdout",
     "output_type": "stream",
     "text": [
      "tensor([[[-3.0519e-04,  3.5556e-03,  2.0206e-03,  ...,  2.1691e-03,\n",
      "           1.7273e-03,  2.3624e-03],\n",
      "         [-2.1058e-03, -1.8932e-03,  2.2942e-03,  ..., -3.7358e-04,\n",
      "           3.6849e-03,  3.8457e-04]],\n",
      "\n",
      "        [[-1.4649e-03,  1.4898e-03,  2.6404e-03,  ...,  3.7484e-03,\n",
      "           1.6746e-03,  6.1315e-05],\n",
      "         [-3.6927e-03, -2.5907e-03,  2.8652e-03,  ..., -1.4858e-03,\n",
      "          -2.0637e-03, -4.5108e-03]],\n",
      "\n",
      "        [[ 2.1363e-03, -1.7548e-04, -2.9306e-03,  ..., -2.7567e-03,\n",
      "          -3.0599e-03, -3.3251e-04],\n",
      "         [ 2.7161e-03,  3.5096e-03, -1.7432e-03,  ...,  1.5548e-03,\n",
      "           8.4818e-04,  3.8669e-03]],\n",
      "\n",
      "        ...,\n",
      "\n",
      "        [[ 4.7609e-03,  1.1404e-03, -5.8138e-03,  ..., -3.3979e-03,\n",
      "          -7.4494e-04,  4.4531e-03],\n",
      "         [ 2.6856e-03,  4.4305e-03, -2.3923e-04,  ...,  4.7568e-03,\n",
      "           3.5689e-03,  4.8476e-03]],\n",
      "\n",
      "        [[ 1.2207e-04, -4.9236e-03, -1.3816e-03,  ..., -4.1507e-03,\n",
      "          -4.0835e-03, -4.6269e-03],\n",
      "         [ 3.8148e-03,  3.7729e-03, -3.6135e-03,  ..., -6.0177e-04,\n",
      "          -3.3435e-03,  3.1819e-03]],\n",
      "\n",
      "        [[ 2.3194e-03,  2.2329e-03, -1.6715e-03,  ...,  2.3415e-03,\n",
      "          -5.6927e-03, -3.1427e-03],\n",
      "         [-1.9837e-03,  4.5080e-03,  3.5371e-03,  ...,  3.2161e-03,\n",
      "           1.3673e-03,  2.2193e-03]]])\n"
     ]
    }
   ],
   "source": [
    "from steves_utils.transforms import get_average_magnitude, get_average_power\n",
    "\n",
    "print(set([u for u,_ in val_original_source]))\n",
    "print(set([u for u,_ in val_original_target]))\n",
    "\n",
    "s_x, s_y, q_x, q_y, _ = next(iter(train_processed_source))\n",
    "print(s_x)\n",
    "\n",
    "# for ds in [\n",
    "#     train_processed_source,\n",
    "#     val_processed_source,\n",
    "#     test_processed_source,\n",
    "#     train_processed_target,\n",
    "#     val_processed_target,\n",
    "#     test_processed_target\n",
    "# ]:\n",
    "#     for s_x, s_y, q_x, q_y, _ in ds:\n",
    "#         for X in (s_x, q_x):\n",
    "#             for x in X:\n",
    "#                 assert np.isclose(get_average_magnitude(x.numpy()), 1.0)\n",
    "#                 assert np.isclose(get_average_power(x.numpy()), 1.0)\n",
    "                "
   ]
  },
  {
   "cell_type": "code",
   "execution_count": 21,
   "id": "bbdacba1",
   "metadata": {
    "execution": {
     "iopub.execute_input": "2022-03-18T02:52:41.084967Z",
     "iopub.status.busy": "2022-03-18T02:52:41.084578Z",
     "iopub.status.idle": "2022-03-18T02:52:41.137026Z",
     "shell.execute_reply": "2022-03-18T02:52:41.136485Z"
    },
    "papermill": {
     "duration": 0.074286,
     "end_time": "2022-03-18T02:52:41.137142",
     "exception": false,
     "start_time": "2022-03-18T02:52:41.062856",
     "status": "completed"
    },
    "tags": []
   },
   "outputs": [
    {
     "name": "stdout",
     "output_type": "stream",
     "text": [
      "(2, 200)\n"
     ]
    }
   ],
   "source": [
    "###################################\n",
    "# Build the model\n",
    "###################################\n",
    "# easfsl only wants a tuple for the shape\n",
    "model = Steves_Prototypical_Network(x_net, device=p.device, x_shape=tuple(p.x_shape))\n",
    "optimizer = Adam(params=model.parameters(), lr=p.lr)"
   ]
  },
  {
   "cell_type": "code",
   "execution_count": 22,
   "id": "22b39ac5",
   "metadata": {
    "execution": {
     "iopub.execute_input": "2022-03-18T02:52:41.180409Z",
     "iopub.status.busy": "2022-03-18T02:52:41.177264Z",
     "iopub.status.idle": "2022-03-18T03:25:24.300922Z",
     "shell.execute_reply": "2022-03-18T03:25:24.300686Z"
    },
    "papermill": {
     "duration": 1963.142603,
     "end_time": "2022-03-18T03:25:24.300982",
     "exception": false,
     "start_time": "2022-03-18T02:52:41.158379",
     "status": "completed"
    },
    "tags": []
   },
   "outputs": [
    {
     "name": "stdout",
     "output_type": "stream",
     "text": [
      "epoch: 1, [batch: 1 / 6720], examples_per_second: 47.9380, train_label_loss: 2.7520, \n"
     ]
    },
    {
     "name": "stdout",
     "output_type": "stream",
     "text": [
      "epoch: 1, [batch: 672 / 6720], examples_per_second: 1924.4696, train_label_loss: 0.7943, \n"
     ]
    },
    {
     "name": "stdout",
     "output_type": "stream",
     "text": [
      "epoch: 1, [batch: 1344 / 6720], examples_per_second: 1924.3496, train_label_loss: 0.2878, \n"
     ]
    },
    {
     "name": "stdout",
     "output_type": "stream",
     "text": [
      "epoch: 1, [batch: 2016 / 6720], examples_per_second: 1924.3699, train_label_loss: 0.3502, \n"
     ]
    },
    {
     "name": "stdout",
     "output_type": "stream",
     "text": [
      "epoch: 1, [batch: 2688 / 6720], examples_per_second: 2480.3198, train_label_loss: 0.4003, \n"
     ]
    },
    {
     "name": "stdout",
     "output_type": "stream",
     "text": [
      "epoch: 1, [batch: 3360 / 6720], examples_per_second: 1999.9899, train_label_loss: 0.1220, \n"
     ]
    },
    {
     "name": "stdout",
     "output_type": "stream",
     "text": [
      "epoch: 1, [batch: 4032 / 6720], examples_per_second: 1923.1102, train_label_loss: 0.2833, \n"
     ]
    },
    {
     "name": "stdout",
     "output_type": "stream",
     "text": [
      "epoch: 1, [batch: 4704 / 6720], examples_per_second: 1919.4143, train_label_loss: 0.3576, \n"
     ]
    },
    {
     "name": "stdout",
     "output_type": "stream",
     "text": [
      "epoch: 1, [batch: 5376 / 6720], examples_per_second: 1929.4475, train_label_loss: 0.2058, \n"
     ]
    },
    {
     "name": "stdout",
     "output_type": "stream",
     "text": [
      "epoch: 1, [batch: 6048 / 6720], examples_per_second: 1925.2486, train_label_loss: 0.0380, \n"
     ]
    },
    {
     "name": "stdout",
     "output_type": "stream",
     "text": [
      "=============================================================\n",
      "epoch: 1, source_val_acc_label: 0.6887, target_val_acc_label: 0.5574, source_val_label_loss: 3088.1008, target_val_label_loss: 997607.0000, \n",
      "=============================================================\n"
     ]
    },
    {
     "name": "stdout",
     "output_type": "stream",
     "text": [
      "New best\n"
     ]
    },
    {
     "name": "stdout",
     "output_type": "stream",
     "text": [
      "epoch: 2, [batch: 1 / 6720], examples_per_second: 3.2872, train_label_loss: 4708.9727, \n"
     ]
    },
    {
     "name": "stdout",
     "output_type": "stream",
     "text": [
      "epoch: 2, [batch: 672 / 6720], examples_per_second: 1930.7637, train_label_loss: 4.7374, \n"
     ]
    },
    {
     "name": "stdout",
     "output_type": "stream",
     "text": [
      "epoch: 2, [batch: 1344 / 6720], examples_per_second: 1929.6518, train_label_loss: 11.8197, \n"
     ]
    },
    {
     "name": "stdout",
     "output_type": "stream",
     "text": [
      "epoch: 2, [batch: 2016 / 6720], examples_per_second: 1929.7513, train_label_loss: 1.3530, \n"
     ]
    },
    {
     "name": "stdout",
     "output_type": "stream",
     "text": [
      "epoch: 2, [batch: 2688 / 6720], examples_per_second: 2477.2710, train_label_loss: 0.8987, \n"
     ]
    },
    {
     "name": "stdout",
     "output_type": "stream",
     "text": [
      "epoch: 2, [batch: 3360 / 6720], examples_per_second: 2016.4054, train_label_loss: 0.6778, \n"
     ]
    },
    {
     "name": "stdout",
     "output_type": "stream",
     "text": [
      "epoch: 2, [batch: 4032 / 6720], examples_per_second: 1930.6288, train_label_loss: 0.3318, \n"
     ]
    },
    {
     "name": "stdout",
     "output_type": "stream",
     "text": [
      "epoch: 2, [batch: 4704 / 6720], examples_per_second: 1927.4812, train_label_loss: 0.4037, \n"
     ]
    },
    {
     "name": "stdout",
     "output_type": "stream",
     "text": [
      "epoch: 2, [batch: 5376 / 6720], examples_per_second: 1932.6223, train_label_loss: 0.6302, \n"
     ]
    },
    {
     "name": "stdout",
     "output_type": "stream",
     "text": [
      "epoch: 2, [batch: 6048 / 6720], examples_per_second: 1933.3063, train_label_loss: 0.2315, \n"
     ]
    },
    {
     "name": "stdout",
     "output_type": "stream",
     "text": [
      "=============================================================\n",
      "epoch: 2, source_val_acc_label: 0.8757, target_val_acc_label: 0.6239, source_val_label_loss: 0.3517, target_val_label_loss: 294696.5000, \n",
      "=============================================================\n"
     ]
    },
    {
     "name": "stdout",
     "output_type": "stream",
     "text": [
      "New best\n"
     ]
    },
    {
     "name": "stdout",
     "output_type": "stream",
     "text": [
      "epoch: 3, [batch: 1 / 6720], examples_per_second: 3.2789, train_label_loss: 0.2745, \n"
     ]
    },
    {
     "name": "stdout",
     "output_type": "stream",
     "text": [
      "epoch: 3, [batch: 672 / 6720], examples_per_second: 1930.0794, train_label_loss: 0.3081, \n"
     ]
    },
    {
     "name": "stdout",
     "output_type": "stream",
     "text": [
      "epoch: 3, [batch: 1344 / 6720], examples_per_second: 1929.3280, train_label_loss: 0.2665, \n"
     ]
    },
    {
     "name": "stdout",
     "output_type": "stream",
     "text": [
      "epoch: 3, [batch: 2016 / 6720], examples_per_second: 1928.4984, train_label_loss: 0.2718, \n"
     ]
    },
    {
     "name": "stdout",
     "output_type": "stream",
     "text": [
      "epoch: 3, [batch: 2688 / 6720], examples_per_second: 2479.6509, train_label_loss: 0.1114, \n"
     ]
    },
    {
     "name": "stdout",
     "output_type": "stream",
     "text": [
      "epoch: 3, [batch: 3360 / 6720], examples_per_second: 2013.3896, train_label_loss: 0.3601, \n"
     ]
    },
    {
     "name": "stdout",
     "output_type": "stream",
     "text": [
      "epoch: 3, [batch: 4032 / 6720], examples_per_second: 1929.9474, train_label_loss: 0.5975, \n"
     ]
    },
    {
     "name": "stdout",
     "output_type": "stream",
     "text": [
      "epoch: 3, [batch: 4704 / 6720], examples_per_second: 1926.7994, train_label_loss: 0.3591, \n"
     ]
    },
    {
     "name": "stdout",
     "output_type": "stream",
     "text": [
      "epoch: 3, [batch: 5376 / 6720], examples_per_second: 1932.9951, train_label_loss: 0.3063, \n"
     ]
    },
    {
     "name": "stdout",
     "output_type": "stream",
     "text": [
      "epoch: 3, [batch: 6048 / 6720], examples_per_second: 1929.1551, train_label_loss: 0.2360, \n"
     ]
    },
    {
     "name": "stdout",
     "output_type": "stream",
     "text": [
      "=============================================================\n",
      "epoch: 3, source_val_acc_label: 0.8577, target_val_acc_label: 0.6110, source_val_label_loss: 0.4106, target_val_label_loss: 242474.3594, \n",
      "=============================================================\n"
     ]
    },
    {
     "name": "stdout",
     "output_type": "stream",
     "text": [
      "New best\n"
     ]
    },
    {
     "name": "stdout",
     "output_type": "stream",
     "text": [
      "epoch: 4, [batch: 1 / 6720], examples_per_second: 3.2718, train_label_loss: 0.2032, \n"
     ]
    },
    {
     "name": "stdout",
     "output_type": "stream",
     "text": [
      "epoch: 4, [batch: 672 / 6720], examples_per_second: 1930.5258, train_label_loss: 0.2460, \n"
     ]
    },
    {
     "name": "stdout",
     "output_type": "stream",
     "text": [
      "epoch: 4, [batch: 1344 / 6720], examples_per_second: 1930.6563, train_label_loss: 0.5768, \n"
     ]
    },
    {
     "name": "stdout",
     "output_type": "stream",
     "text": [
      "epoch: 4, [batch: 2016 / 6720], examples_per_second: 1928.5728, train_label_loss: 0.4905, \n"
     ]
    },
    {
     "name": "stdout",
     "output_type": "stream",
     "text": [
      "epoch: 4, [batch: 2688 / 6720], examples_per_second: 2377.0119, train_label_loss: 0.4098, \n"
     ]
    },
    {
     "name": "stdout",
     "output_type": "stream",
     "text": [
      "epoch: 4, [batch: 3360 / 6720], examples_per_second: 2408.4314, train_label_loss: 0.2069, \n"
     ]
    },
    {
     "name": "stdout",
     "output_type": "stream",
     "text": [
      "epoch: 4, [batch: 4032 / 6720], examples_per_second: 2380.2209, train_label_loss: 0.5697, \n"
     ]
    },
    {
     "name": "stdout",
     "output_type": "stream",
     "text": [
      "epoch: 4, [batch: 4704 / 6720], examples_per_second: 2445.1352, train_label_loss: 0.2511, \n"
     ]
    },
    {
     "name": "stdout",
     "output_type": "stream",
     "text": [
      "epoch: 4, [batch: 5376 / 6720], examples_per_second: 3669.6536, train_label_loss: 0.1931, \n"
     ]
    },
    {
     "name": "stdout",
     "output_type": "stream",
     "text": [
      "epoch: 4, [batch: 6048 / 6720], examples_per_second: 3620.1427, train_label_loss: 0.3529, \n"
     ]
    },
    {
     "name": "stdout",
     "output_type": "stream",
     "text": [
      "=============================================================\n",
      "epoch: 4, source_val_acc_label: 0.8713, target_val_acc_label: 0.5725, source_val_label_loss: 0.3586, target_val_label_loss: 396695.9375, \n",
      "=============================================================\n"
     ]
    },
    {
     "name": "stdout",
     "output_type": "stream",
     "text": [
      "epoch: 5, [batch: 1 / 6720], examples_per_second: 6.0912, train_label_loss: 0.2369, \n"
     ]
    },
    {
     "name": "stdout",
     "output_type": "stream",
     "text": [
      "epoch: 5, [batch: 672 / 6720], examples_per_second: 3656.3903, train_label_loss: 0.2036, \n"
     ]
    },
    {
     "name": "stdout",
     "output_type": "stream",
     "text": [
      "epoch: 5, [batch: 1344 / 6720], examples_per_second: 3613.0379, train_label_loss: 0.7945, \n"
     ]
    },
    {
     "name": "stdout",
     "output_type": "stream",
     "text": [
      "epoch: 5, [batch: 2016 / 6720], examples_per_second: 1925.7443, train_label_loss: 0.4912, \n"
     ]
    },
    {
     "name": "stdout",
     "output_type": "stream",
     "text": [
      "epoch: 5, [batch: 2688 / 6720], examples_per_second: 1922.3463, train_label_loss: 0.1881, \n"
     ]
    },
    {
     "name": "stdout",
     "output_type": "stream",
     "text": [
      "epoch: 5, [batch: 3360 / 6720], examples_per_second: 1924.5367, train_label_loss: 0.5561, \n"
     ]
    },
    {
     "name": "stdout",
     "output_type": "stream",
     "text": [
      "epoch: 5, [batch: 4032 / 6720], examples_per_second: 1930.6751, train_label_loss: 0.2866, \n"
     ]
    },
    {
     "name": "stdout",
     "output_type": "stream",
     "text": [
      "epoch: 5, [batch: 4704 / 6720], examples_per_second: 1919.0624, train_label_loss: 0.2387, \n"
     ]
    },
    {
     "name": "stdout",
     "output_type": "stream",
     "text": [
      "epoch: 5, [batch: 5376 / 6720], examples_per_second: 1922.9728, train_label_loss: 0.3760, \n"
     ]
    },
    {
     "name": "stdout",
     "output_type": "stream",
     "text": [
      "epoch: 5, [batch: 6048 / 6720], examples_per_second: 1929.6756, train_label_loss: 0.3791, \n"
     ]
    },
    {
     "name": "stdout",
     "output_type": "stream",
     "text": [
      "=============================================================\n",
      "epoch: 5, source_val_acc_label: 0.8790, target_val_acc_label: 0.4966, source_val_label_loss: 0.3385, target_val_label_loss: 544445.0000, \n",
      "=============================================================\n"
     ]
    },
    {
     "name": "stdout",
     "output_type": "stream",
     "text": [
      "epoch: 6, [batch: 1 / 6720], examples_per_second: 3.2846, train_label_loss: 0.1974, \n"
     ]
    },
    {
     "name": "stdout",
     "output_type": "stream",
     "text": [
      "epoch: 6, [batch: 672 / 6720], examples_per_second: 1932.6996, train_label_loss: 0.3195, \n"
     ]
    },
    {
     "name": "stdout",
     "output_type": "stream",
     "text": [
      "epoch: 6, [batch: 1344 / 6720], examples_per_second: 2622.3691, train_label_loss: 0.2842, \n"
     ]
    },
    {
     "name": "stdout",
     "output_type": "stream",
     "text": [
      "epoch: 6, [batch: 2016 / 6720], examples_per_second: 1937.3990, train_label_loss: 0.2405, \n"
     ]
    },
    {
     "name": "stdout",
     "output_type": "stream",
     "text": [
      "epoch: 6, [batch: 2688 / 6720], examples_per_second: 1924.5847, train_label_loss: 0.1947, \n"
     ]
    },
    {
     "name": "stdout",
     "output_type": "stream",
     "text": [
      "epoch: 6, [batch: 3360 / 6720], examples_per_second: 1930.9824, train_label_loss: 0.2998, \n"
     ]
    },
    {
     "name": "stdout",
     "output_type": "stream",
     "text": [
      "epoch: 6, [batch: 4032 / 6720], examples_per_second: 1933.7273, train_label_loss: 0.2612, \n"
     ]
    },
    {
     "name": "stdout",
     "output_type": "stream",
     "text": [
      "epoch: 6, [batch: 4704 / 6720], examples_per_second: 1926.4915, train_label_loss: 0.5081, \n"
     ]
    },
    {
     "name": "stdout",
     "output_type": "stream",
     "text": [
      "epoch: 6, [batch: 5376 / 6720], examples_per_second: 1928.4439, train_label_loss: 0.2980, \n"
     ]
    },
    {
     "name": "stdout",
     "output_type": "stream",
     "text": [
      "epoch: 6, [batch: 6048 / 6720], examples_per_second: 1934.4193, train_label_loss: 0.0783, \n"
     ]
    },
    {
     "name": "stdout",
     "output_type": "stream",
     "text": [
      "=============================================================\n",
      "epoch: 6, source_val_acc_label: 0.8927, target_val_acc_label: 0.5170, source_val_label_loss: 0.3137, target_val_label_loss: 606404.6875, \n",
      "=============================================================\n"
     ]
    },
    {
     "name": "stdout",
     "output_type": "stream",
     "text": [
      "epoch: 7, [batch: 1 / 6720], examples_per_second: 3.2919, train_label_loss: 0.1629, \n"
     ]
    },
    {
     "name": "stdout",
     "output_type": "stream",
     "text": [
      "epoch: 7, [batch: 672 / 6720], examples_per_second: 1932.2211, train_label_loss: 0.5585, \n"
     ]
    },
    {
     "name": "stdout",
     "output_type": "stream",
     "text": [
      "epoch: 7, [batch: 1344 / 6720], examples_per_second: 2603.3707, train_label_loss: 0.2054, \n"
     ]
    },
    {
     "name": "stdout",
     "output_type": "stream",
     "text": [
      "epoch: 7, [batch: 2016 / 6720], examples_per_second: 1971.0155, train_label_loss: 0.2313, \n"
     ]
    },
    {
     "name": "stdout",
     "output_type": "stream",
     "text": [
      "epoch: 7, [batch: 2688 / 6720], examples_per_second: 1927.5001, train_label_loss: 0.7270, \n"
     ]
    },
    {
     "name": "stdout",
     "output_type": "stream",
     "text": [
      "epoch: 7, [batch: 3360 / 6720], examples_per_second: 1931.3599, train_label_loss: 0.7292, \n"
     ]
    },
    {
     "name": "stdout",
     "output_type": "stream",
     "text": [
      "epoch: 7, [batch: 4032 / 6720], examples_per_second: 1934.1478, train_label_loss: 0.1314, \n"
     ]
    },
    {
     "name": "stdout",
     "output_type": "stream",
     "text": [
      "epoch: 7, [batch: 4704 / 6720], examples_per_second: 1926.5535, train_label_loss: 0.4038, \n"
     ]
    },
    {
     "name": "stdout",
     "output_type": "stream",
     "text": [
      "epoch: 7, [batch: 5376 / 6720], examples_per_second: 1929.0693, train_label_loss: 0.2206, \n"
     ]
    },
    {
     "name": "stdout",
     "output_type": "stream",
     "text": [
      "epoch: 7, [batch: 6048 / 6720], examples_per_second: 1934.1363, train_label_loss: 0.3037, \n"
     ]
    },
    {
     "name": "stdout",
     "output_type": "stream",
     "text": [
      "=============================================================\n",
      "epoch: 7, source_val_acc_label: 0.8903, target_val_acc_label: 0.5332, source_val_label_loss: 0.3078, target_val_label_loss: 636053.6250, \n",
      "=============================================================\n"
     ]
    },
    {
     "name": "stdout",
     "output_type": "stream",
     "text": [
      "Patience (3) exhausted\n"
     ]
    }
   ],
   "source": [
    "###################################\n",
    "# train\n",
    "###################################\n",
    "jig = PTN_Train_Eval_Test_Jig(model, p.BEST_MODEL_PATH, p.device)\n",
    "\n",
    "jig.train(\n",
    "    train_iterable=datasets.source.processed.train,\n",
    "    source_val_iterable=datasets.source.processed.val,\n",
    "    target_val_iterable=datasets.target.processed.val,\n",
    "    num_epochs=p.n_epoch,\n",
    "    num_logs_per_epoch=p.NUM_LOGS_PER_EPOCH,\n",
    "    patience=p.patience,\n",
    "    optimizer=optimizer,\n",
    "    criteria_for_best=p.criteria_for_best,\n",
    ")"
   ]
  },
  {
   "cell_type": "code",
   "execution_count": 23,
   "id": "31e8fabf",
   "metadata": {
    "execution": {
     "iopub.execute_input": "2022-03-18T03:25:24.367971Z",
     "iopub.status.busy": "2022-03-18T03:25:24.363673Z",
     "iopub.status.idle": "2022-03-18T03:25:24.381688Z",
     "shell.execute_reply": "2022-03-18T03:25:24.381193Z"
    },
    "papermill": {
     "duration": 0.050752,
     "end_time": "2022-03-18T03:25:24.381806",
     "exception": false,
     "start_time": "2022-03-18T03:25:24.331054",
     "status": "completed"
    },
    "tags": []
   },
   "outputs": [],
   "source": [
    "total_experiment_time_secs = time.time() - start_time_secs"
   ]
  },
  {
   "cell_type": "code",
   "execution_count": 24,
   "id": "87b9595b",
   "metadata": {
    "execution": {
     "iopub.execute_input": "2022-03-18T03:25:24.456721Z",
     "iopub.status.busy": "2022-03-18T03:25:24.456314Z",
     "iopub.status.idle": "2022-03-18T03:26:56.982705Z",
     "shell.execute_reply": "2022-03-18T03:26:56.982938Z"
    },
    "papermill": {
     "duration": 92.566436,
     "end_time": "2022-03-18T03:26:56.983023",
     "exception": false,
     "start_time": "2022-03-18T03:25:24.416587",
     "status": "completed"
    },
    "tags": []
   },
   "outputs": [],
   "source": [
    "###################################\n",
    "# Evaluate the model\n",
    "###################################\n",
    "source_test_label_accuracy, source_test_label_loss = jig.test(datasets.source.processed.test)\n",
    "target_test_label_accuracy, target_test_label_loss = jig.test(datasets.target.processed.test)\n",
    "\n",
    "source_val_label_accuracy, source_val_label_loss = jig.test(datasets.source.processed.val)\n",
    "target_val_label_accuracy, target_val_label_loss = jig.test(datasets.target.processed.val)\n",
    "\n",
    "history = jig.get_history()\n",
    "\n",
    "total_epochs_trained = len(history[\"epoch_indices\"])\n",
    "\n",
    "val_dl = Iterable_Aggregator((datasets.source.original.val,datasets.target.original.val))\n",
    "\n",
    "confusion = ptn_confusion_by_domain_over_dataloader(model, p.device, val_dl)\n",
    "per_domain_accuracy = per_domain_accuracy_from_confusion(confusion)\n",
    "\n",
    "# Add a key to per_domain_accuracy for if it was a source domain\n",
    "for domain, accuracy in per_domain_accuracy.items():\n",
    "    per_domain_accuracy[domain] = {\n",
    "        \"accuracy\": accuracy,\n",
    "        \"source?\": domain in p.domains_source\n",
    "    }\n",
    "\n",
    "# Do an independent accuracy assesment JUST TO BE SURE!\n",
    "# _source_test_label_accuracy = independent_accuracy_assesment(model, datasets.source.processed.test, p.device)\n",
    "# _target_test_label_accuracy = independent_accuracy_assesment(model, datasets.target.processed.test, p.device)\n",
    "# _source_val_label_accuracy = independent_accuracy_assesment(model, datasets.source.processed.val, p.device)\n",
    "# _target_val_label_accuracy = independent_accuracy_assesment(model, datasets.target.processed.val, p.device)\n",
    "\n",
    "# assert(_source_test_label_accuracy == source_test_label_accuracy)\n",
    "# assert(_target_test_label_accuracy == target_test_label_accuracy)\n",
    "# assert(_source_val_label_accuracy == source_val_label_accuracy)\n",
    "# assert(_target_val_label_accuracy == target_val_label_accuracy)\n",
    "\n",
    "experiment = {\n",
    "    \"experiment_name\": p.experiment_name,\n",
    "    \"parameters\": dict(p),\n",
    "    \"results\": {\n",
    "        \"source_test_label_accuracy\": source_test_label_accuracy,\n",
    "        \"source_test_label_loss\": source_test_label_loss,\n",
    "        \"target_test_label_accuracy\": target_test_label_accuracy,\n",
    "        \"target_test_label_loss\": target_test_label_loss,\n",
    "        \"source_val_label_accuracy\": source_val_label_accuracy,\n",
    "        \"source_val_label_loss\": source_val_label_loss,\n",
    "        \"target_val_label_accuracy\": target_val_label_accuracy,\n",
    "        \"target_val_label_loss\": target_val_label_loss,\n",
    "        \"total_epochs_trained\": total_epochs_trained,\n",
    "        \"total_experiment_time_secs\": total_experiment_time_secs,\n",
    "        \"confusion\": confusion,\n",
    "        \"per_domain_accuracy\": per_domain_accuracy,\n",
    "    },\n",
    "    \"history\": history,\n",
    "    \"dataset_metrics\": get_dataset_metrics(datasets, \"ptn\"),\n",
    "}"
   ]
  },
  {
   "cell_type": "code",
   "execution_count": 25,
   "id": "54a21829",
   "metadata": {
    "execution": {
     "iopub.execute_input": "2022-03-18T03:26:57.050511Z",
     "iopub.status.busy": "2022-03-18T03:26:57.050053Z",
     "iopub.status.idle": "2022-03-18T03:26:57.170941Z",
     "shell.execute_reply": "2022-03-18T03:26:57.171377Z"
    },
    "papermill": {
     "duration": 0.156017,
     "end_time": "2022-03-18T03:26:57.171512",
     "exception": false,
     "start_time": "2022-03-18T03:26:57.015495",
     "status": "completed"
    },
    "tags": []
   },
   "outputs": [
    {
     "data": {
      "image/png": "[encoded data removed]",
      "text/plain": [
       "<Figure size 1080x504 with 1 Axes>"
      ]
     },
     "metadata": {
      "needs_background": "light"
     },
     "output_type": "display_data"
    }
   ],
   "source": [
    "ax = get_loss_curve(experiment)\n",
    "plt.show()"
   ]
  },
  {
   "cell_type": "code",
   "execution_count": 26,
   "id": "fd8a0f60",
   "metadata": {
    "execution": {
     "iopub.execute_input": "2022-03-18T03:26:57.244984Z",
     "iopub.status.busy": "2022-03-18T03:26:57.239673Z",
     "iopub.status.idle": "2022-03-18T03:26:57.412441Z",
     "shell.execute_reply": "2022-03-18T03:26:57.412822Z"
    },
    "papermill": {
     "duration": 0.206463,
     "end_time": "2022-03-18T03:26:57.412949",
     "exception": false,
     "start_time": "2022-03-18T03:26:57.206486",
     "status": "completed"
    },
    "tags": []
   },
   "outputs": [
    {
     "data": {
      "text/plain": [
       "<AxesSubplot:title={'center':'Results'}>"
      ]
     },
     "execution_count": 26,
     "metadata": {},
     "output_type": "execute_result"
    },
    {
     "data": {
      "image/png": "[encoded data removed]",
      "text/plain": [
       "<Figure size 1080x504 with 1 Axes>"
      ]
     },
     "metadata": {
      "needs_background": "light"
     },
     "output_type": "display_data"
    }
   ],
   "source": [
    "get_results_table(experiment)"
   ]
  },
  {
   "cell_type": "code",
   "execution_count": 27,
   "id": "cf8dc689",
   "metadata": {
    "execution": {
     "iopub.execute_input": "2022-03-18T03:26:57.485630Z",
     "iopub.status.busy": "2022-03-18T03:26:57.485323Z",
     "iopub.status.idle": "2022-03-18T03:26:57.655402Z",
     "shell.execute_reply": "2022-03-18T03:26:57.654900Z"
    },
    "papermill": {
     "duration": 0.205887,
     "end_time": "2022-03-18T03:26:57.655517",
     "exception": false,
     "start_time": "2022-03-18T03:26:57.449630",
     "status": "completed"
    },
    "tags": []
   },
   "outputs": [
    {
     "data": {
      "text/plain": [
       "<AxesSubplot:title={'center':'Per Domain Validation Accuracy'}, xlabel='domain'>"
      ]
     },
     "execution_count": 27,
     "metadata": {},
     "output_type": "execute_result"
    },
    {
     "data": {
      "image/png": "[encoded data removed]",
      "text/plain": [
       "<Figure size 1080x504 with 1 Axes>"
      ]
     },
     "metadata": {
      "needs_background": "light"
     },
     "output_type": "display_data"
    }
   ],
   "source": [
    "get_domain_accuracies(experiment)"
   ]
  },
  {
   "cell_type": "code",
   "execution_count": 28,
   "id": "a74ae082",
   "metadata": {
    "execution": {
     "iopub.execute_input": "2022-03-18T03:26:57.728123Z",
     "iopub.status.busy": "2022-03-18T03:26:57.727779Z",
     "iopub.status.idle": "2022-03-18T03:26:57.743788Z",
     "shell.execute_reply": "2022-03-18T03:26:57.743303Z"
    },
    "papermill": {
     "duration": 0.052726,
     "end_time": "2022-03-18T03:26:57.743900",
     "exception": false,
     "start_time": "2022-03-18T03:26:57.691174",
     "status": "completed"
    },
    "tags": []
   },
   "outputs": [
    {
     "name": "stdout",
     "output_type": "stream",
     "text": [
      "Source Test Label Accuracy: 0.8604166666666667 Target Test Label Accuracy: 0.6129066780821918\n",
      "Source Val Label Accuracy: 0.8577473958333334 Target Val Label Accuracy: 0.610980308219178\n"
     ]
    }
   ],
   "source": [
    "print(\"Source Test Label Accuracy:\", experiment[\"results\"][\"source_test_label_accuracy\"], \"Target Test Label Accuracy:\", experiment[\"results\"][\"target_test_label_accuracy\"])\n",
    "print(\"Source Val Label Accuracy:\", experiment[\"results\"][\"source_val_label_accuracy\"], \"Target Val Label Accuracy:\", experiment[\"results\"][\"target_val_label_accuracy\"])"
   ]
  },
  {
   "cell_type": "code",
   "execution_count": 29,
   "id": "dacca602",
   "metadata": {
    "execution": {
     "iopub.execute_input": "2022-03-18T03:26:57.819593Z",
     "iopub.status.busy": "2022-03-18T03:26:57.818882Z",
     "iopub.status.idle": "2022-03-18T03:26:57.839675Z",
     "shell.execute_reply": "2022-03-18T03:26:57.839982Z"
    },
    "papermill": {
     "duration": 0.057521,
     "end_time": "2022-03-18T03:26:57.840086",
     "exception": false,
     "start_time": "2022-03-18T03:26:57.782565",
     "status": "completed"
    },
    "tags": [
     "experiment_json"
    ]
   },
   "outputs": [
    {
     "data": {
      "text/plain": [
       "'{\"experiment_name\": \"tl_3-filter:oracle.run1.framed -> cores+wisig\", \"parameters\": {\"experiment_name\": \"tl_3-filter:oracle.run1.framed -> cores+wisig\", \"device\": \"cuda\", \"lr\": 0.001, \"seed\": 1337, \"dataset_seed\": 1337, \"x_shape\": [2, 200], \"n_shot\": 3, \"n_query\": 2, \"train_k_factor\": 3, \"val_k_factor\": 2, \"test_k_factor\": 2, \"torch_default_dtype\": \"torch.float32\", \"n_epoch\": 50, \"patience\": 3, \"criteria_for_best\": \"target_loss\", \"x_net\": [{\"class\": \"nnReshape\", \"kargs\": {\"shape\": [-1, 1, 2, 200]}}, {\"class\": \"Conv2d\", \"kargs\": {\"in_channels\": 1, \"out_channels\": 256, \"kernel_size\": [1, 7], \"bias\": false, \"padding\": [0, 3]}}, {\"class\": \"ReLU\", \"kargs\": {\"inplace\": true}}, {\"class\": \"BatchNorm2d\", \"kargs\": {\"num_features\": 256}}, {\"class\": \"Conv2d\", \"kargs\": {\"in_channels\": 256, \"out_channels\": 80, \"kernel_size\": [2, 7], \"bias\": true, \"padding\": [0, 3]}}, {\"class\": \"ReLU\", \"kargs\": {\"inplace\": true}}, {\"class\": \"BatchNorm2d\", \"kargs\": {\"num_features\": 80}}, {\"class\": \"Flatten\", \"kargs\": {}}, {\"class\": \"Linear\", \"kargs\": {\"in_features\": 16000, \"out_features\": 256}}, {\"class\": \"ReLU\", \"kargs\": {\"inplace\": true}}, {\"class\": \"BatchNorm1d\", \"kargs\": {\"num_features\": 256}}, {\"class\": \"Linear\", \"kargs\": {\"in_features\": 256, \"out_features\": 256}}], \"NUM_LOGS_PER_EPOCH\": 10, \"BEST_MODEL_PATH\": \"./best_model.pth\", \"n_way\": 16, \"datasets\": [{\"labels\": [\"1-10.\", \"1-11.\", \"1-15.\", \"1-16.\", \"1-17.\", \"1-18.\", \"1-19.\", \"10-4.\", \"10-7.\", \"11-1.\", \"11-14.\", \"11-17.\", \"11-20.\", \"11-7.\", \"13-20.\", \"13-8.\", \"14-10.\", \"14-11.\", \"14-14.\", \"14-7.\", \"15-1.\", \"15-20.\", \"16-1.\", \"16-16.\", \"17-10.\", \"17-11.\", \"17-2.\", \"19-1.\", \"19-16.\", \"19-19.\", \"19-20.\", \"19-3.\", \"2-10.\", \"2-11.\", \"2-17.\", \"2-18.\", \"2-20.\", \"2-3.\", \"2-4.\", \"2-5.\", \"2-6.\", \"2-7.\", \"2-8.\", \"3-13.\", \"3-18.\", \"3-3.\", \"4-1.\", \"4-10.\", \"4-11.\", \"4-19.\", \"5-5.\", \"6-15.\", \"7-10.\", \"7-14.\", \"8-18.\", \"8-20.\", \"8-3.\", \"8-8.\"], \"domains\": [1, 2, 3, 4, 5], \"num_examples_per_domain_per_label\": 100, \"pickle_path\": \"/mnt/wd500GB/CSC500/csc500-main/datasets/cores.stratified_ds.2022A.pkl\", \"source_or_target_dataset\": \"target\", \"x_transforms\": [\"lowpass_+/-10MHz\", \"take_200\"], \"episode_transforms\": [], \"domain_prefix\": \"C_A_\"}, {\"labels\": [\"1-10\", \"1-12\", \"1-14\", \"1-16\", \"1-18\", \"1-19\", \"1-8\", \"10-11\", \"10-17\", \"10-4\", \"10-7\", \"11-1\", \"11-10\", \"11-19\", \"11-20\", \"11-4\", \"11-7\", \"12-19\", \"12-20\", \"12-7\", \"13-14\", \"13-18\", \"13-19\", \"13-20\", \"13-3\", \"13-7\", \"14-10\", \"14-11\", \"14-12\", \"14-13\", \"14-14\", \"14-19\", \"14-20\", \"14-7\", \"14-8\", \"14-9\", \"15-1\", \"15-19\", \"15-6\", \"16-1\", \"16-16\", \"16-19\", \"16-20\", \"17-10\", \"17-11\", \"18-1\", \"18-10\", \"18-11\", \"18-12\", \"18-13\", \"18-14\", \"18-15\", \"18-16\", \"18-17\", \"18-19\", \"18-2\", \"18-20\", \"18-4\", \"18-5\", \"18-7\", \"18-8\", \"18-9\", \"19-1\", \"19-10\", \"19-11\", \"19-12\", \"19-13\", \"19-14\", \"19-15\", \"19-19\", \"19-2\", \"19-20\", \"19-3\", \"19-4\", \"19-6\", \"19-7\", \"19-8\", \"19-9\", \"2-1\", \"2-13\", \"2-15\", \"2-3\", \"2-4\", \"2-5\", \"2-6\", \"2-7\", \"2-8\", \"20-1\", \"20-12\", \"20-14\", \"20-15\", \"20-16\", \"20-18\", \"20-19\", \"20-20\", \"20-3\", \"20-4\", \"20-5\", \"20-7\", \"20-8\", \"3-1\", \"3-13\", \"3-18\", \"3-2\", \"3-8\", \"4-1\", \"4-10\", \"4-11\", \"5-1\", \"5-5\", \"6-1\", \"6-15\", \"6-6\", \"7-10\", \"7-11\", \"7-12\", \"7-13\", \"7-14\", \"7-7\", \"7-8\", \"7-9\", \"8-1\", \"8-13\", \"8-14\", \"8-18\", \"8-20\", \"8-3\", \"8-8\", \"9-1\", \"9-7\"], \"domains\": [1, 2, 3, 4], \"num_examples_per_domain_per_label\": 100, \"pickle_path\": \"/mnt/wd500GB/CSC500/csc500-main/datasets/wisig.node3-19.stratified_ds.2022A.pkl\", \"source_or_target_dataset\": \"target\", \"x_transforms\": [\"lowpass_+/-10MHz\", \"take_200\"], \"episode_transforms\": [], \"domain_prefix\": \"W_A_\"}, {\"labels\": [\"3123D52\", \"3123D65\", \"3123D79\", \"3123D80\", \"3123D54\", \"3123D70\", \"3123D7B\", \"3123D89\", \"3123D58\", \"3123D76\", \"3123D7D\", \"3123EFE\", \"3123D64\", \"3123D78\", \"3123D7E\", \"3124E4A\"], \"domains\": [32, 38, 8, 44, 14, 50, 20, 26], \"num_examples_per_domain_per_label\": 2000, \"pickle_path\": \"/mnt/wd500GB/CSC500/csc500-main/datasets/oracle.Run1_framed_2000Examples_stratified_ds.2022A.pkl\", \"source_or_target_dataset\": \"source\", \"x_transforms\": [\"take_200\", \"resample_20Msps_to_25Msps\"], \"episode_transforms\": [], \"domain_prefix\": \"ORACLE.run1_\"}], \"domains_source\": [\"ORACLE.run1_32\", \"ORACLE.run1_38\", \"ORACLE.run1_8\", \"ORACLE.run1_44\", \"ORACLE.run1_14\", \"ORACLE.run1_50\", \"ORACLE.run1_20\", \"ORACLE.run1_26\"], \"domains_target\": [\"C_A_1\", \"C_A_2\", \"C_A_3\", \"C_A_4\", \"C_A_5\", \"W_A_1\", \"W_A_2\", \"W_A_3\", \"W_A_4\"]}, \"results\": {\"source_test_label_accuracy\": 0.8604166666666667, \"source_test_label_loss\": 0.41160523891448975, \"target_test_label_accuracy\": 0.6129066780821918, \"target_test_label_loss\": 247678.625, \"source_val_label_accuracy\": 0.8577473958333334, \"source_val_label_loss\": 0.4105944037437439, \"target_val_label_accuracy\": 0.610980308219178, \"target_val_label_loss\": 242474.359375, \"total_epochs_trained\": 7, \"total_experiment_time_secs\": 1985.2450728416443, \"confusion\": {\"ORACLE.run1_14\": {\"15\": {\"15\": 240}, \"3\": {\"3\": 238, \"13\": 1, \"14\": 1}, \"6\": {\"6\": 152, \"13\": 58, \"2\": 5, \"14\": 24, \"3\": 1}, \"1\": {\"1\": 240}, \"8\": {\"8\": 240}, \"10\": {\"10\": 240}, \"9\": {\"9\": 240}, \"13\": {\"14\": 65, \"13\": 41, \"2\": 29, \"6\": 82, \"15\": 22, \"5\": 1}, \"12\": {\"12\": 240}, \"5\": {\"5\": 222, \"2\": 13, \"4\": 4, \"7\": 1}, \"0\": {\"0\": 212, \"3\": 20, \"10\": 7, \"14\": 1}, \"2\": {\"4\": 10, \"13\": 12, \"2\": 137, \"5\": 37, \"14\": 26, \"6\": 15, \"3\": 3}, \"11\": {\"11\": 240}, \"14\": {\"14\": 201, \"13\": 29, \"2\": 6, \"6\": 4}, \"7\": {\"7\": 238, \"5\": 2}, \"4\": {\"4\": 229, \"5\": 10, \"2\": 1}}, \"ORACLE.run1_20\": {\"3\": {\"9\": 27, \"3\": 175, \"5\": 25, \"8\": 9, \"1\": 4}, \"15\": {\"15\": 198, \"1\": 26, \"12\": 14, \"13\": 1, \"2\": 1}, \"8\": {\"8\": 229, \"14\": 6, \"3\": 4, \"0\": 1}, \"4\": {\"4\": 227, \"12\": 9, \"10\": 3, \"2\": 1}, \"14\": {\"14\": 235, \"8\": 5}, \"0\": {\"0\": 232, \"3\": 3, \"5\": 5}, \"7\": {\"9\": 24, \"7\": 200, \"2\": 12, \"4\": 2, \"3\": 2}, \"6\": {\"6\": 237, \"10\": 2, \"7\": 1}, \"10\": {\"10\": 238, \"4\": 2}, \"5\": {\"5\": 163, \"1\": 50, \"3\": 22, \"8\": 1, \"9\": 4}, \"2\": {\"2\": 170, \"7\": 25, \"12\": 30, \"9\": 8, \"13\": 5, \"4\": 1, \"1\": 1}, \"12\": {\"12\": 196, \"4\": 3, \"2\": 23, \"15\": 12, \"1\": 3, \"7\": 1, \"13\": 2}, \"9\": {\"9\": 192, \"1\": 4, \"7\": 20, \"5\": 1, \"3\": 22, \"2\": 1}, \"1\": {\"1\": 179, \"5\": 53, \"15\": 3, \"12\": 4, \"9\": 1}, \"11\": {\"11\": 240}, \"13\": {\"13\": 227, \"12\": 6, \"2\": 7}}, \"ORACLE.run1_38\": {\"5\": {\"8\": 90, \"7\": 16, \"5\": 111, \"15\": 5, \"9\": 17, \"13\": 1}, \"8\": {\"8\": 147, \"7\": 16, \"5\": 66, \"0\": 3, \"13\": 1, \"15\": 7}, \"11\": {\"11\": 234, \"3\": 6}, \"1\": {\"1\": 240}, \"10\": {\"10\": 213, \"0\": 16, \"13\": 10, \"4\": 1}, \"15\": {\"15\": 229, \"8\": 5, \"1\": 3, \"5\": 3}, \"3\": {\"3\": 240}, \"7\": {\"7\": 228, \"5\": 4, \"8\": 3, \"4\": 1, \"0\": 4}, \"4\": {\"4\": 239, \"10\": 1}, \"14\": {\"14\": 221, \"2\": 17, \"13\": 2}, \"9\": {\"9\": 234, \"5\": 5, \"7\": 1}, \"12\": {\"12\": 240}, \"6\": {\"6\": 240}, \"2\": {\"2\": 223, \"14\": 17}, \"0\": {\"7\": 29, \"0\": 162, \"13\": 14, \"3\": 13, \"10\": 20, \"5\": 2}, \"13\": {\"13\": 231, \"0\": 3, \"10\": 5, \"2\": 1}}, \"ORACLE.run1_8\": {\"9\": {\"9\": 240}, \"10\": {\"5\": 6, \"10\": 210, \"13\": 22, \"1\": 2}, \"13\": {\"13\": 190, \"7\": 2, \"6\": 18, \"10\": 30}, \"0\": {\"0\": 240}, \"1\": {\"1\": 155, \"5\": 11, \"11\": 71, \"10\": 3}, \"15\": {\"15\": 227, \"12\": 13}, \"5\": {\"5\": 203, \"11\": 4, \"1\": 22, \"10\": 11}, \"3\": {\"3\": 238, \"2\": 2}, \"6\": {\"6\": 185, \"7\": 42, \"4\": 2, \"13\": 10, \"8\": 1}, \"11\": {\"11\": 136, \"1\": 91, \"5\": 11, \"4\": 1, \"10\": 1}, \"8\": {\"8\": 239, \"7\": 1}, \"4\": {\"4\": 228, \"14\": 4, \"6\": 5, \"10\": 1, \"11\": 1, \"13\": 1}, \"12\": {\"12\": 177, \"15\": 63}, \"14\": {\"14\": 219, \"11\": 11, \"4\": 10}, \"2\": {\"2\": 192, \"3\": 42, \"12\": 5, \"15\": 1}, \"7\": {\"7\": 202, \"6\": 37, \"13\": 1}}, \"ORACLE.run1_50\": {\"7\": {\"7\": 231, \"5\": 8, \"4\": 1}, \"3\": {\"3\": 240}, \"8\": {\"8\": 237, \"10\": 3}, \"2\": {\"2\": 213, \"0\": 27}, \"14\": {\"14\": 240}, \"4\": {\"4\": 205, \"7\": 15, \"5\": 11, \"15\": 7, \"6\": 2}, \"6\": {\"6\": 199, \"15\": 7, \"5\": 34}, \"15\": {\"15\": 220, \"11\": 9, \"6\": 9, \"5\": 2}, \"10\": {\"10\": 237, \"8\": 2, \"0\": 1}, \"11\": {\"11\": 220, \"9\": 11, \"15\": 4, \"12\": 5}, \"13\": {\"13\": 240}, \"9\": {\"9\": 203, \"12\": 18, \"11\": 19}, \"0\": {\"0\": 211, \"10\": 9, \"2\": 20}, \"1\": {\"1\": 233, \"10\": 5, \"13\": 2}, \"12\": {\"12\": 224, \"9\": 14, \"11\": 2}, \"5\": {\"5\": 105, \"15\": 3, \"7\": 57, \"6\": 56, \"13\": 6, \"4\": 12, \"1\": 1}}, \"ORACLE.run1_32\": {\"8\": {\"8\": 201, \"0\": 23, \"14\": 7, \"5\": 9}, \"14\": {\"14\": 164, \"4\": 9, \"7\": 44, \"8\": 5, \"5\": 6, \"0\": 7, \"3\": 2, \"2\": 3}, \"2\": {\"2\": 203, \"4\": 36, \"14\": 1}, \"0\": {\"5\": 14, \"8\": 25, \"0\": 171, \"7\": 24, \"14\": 6}, \"1\": {\"1\": 240}, \"10\": {\"10\": 240}, \"11\": {\"11\": 240}, \"5\": {\"7\": 46, \"5\": 131, \"0\": 33, \"8\": 27, \"14\": 3}, \"15\": {\"15\": 239, \"8\": 1}, \"3\": {\"3\": 232, \"13\": 8}, \"12\": {\"12\": 240}, \"7\": {\"5\": 36, \"7\": 155, \"14\": 23, \"0\": 25, \"8\": 1}, \"13\": {\"13\": 184, \"3\": 26, \"4\": 30}, \"6\": {\"6\": 240}, \"4\": {\"4\": 185, \"2\": 45, \"13\": 9, \"8\": 1}, \"9\": {\"9\": 237, \"12\": 3}}, \"ORACLE.run1_26\": {\"4\": {\"4\": 240}, \"12\": {\"12\": 240}, \"10\": {\"14\": 48, \"10\": 143, \"6\": 14, \"15\": 6, \"0\": 29}, \"0\": {\"0\": 170, \"14\": 29, \"10\": 36, \"6\": 1, \"7\": 1, \"8\": 2, \"15\": 1}, \"13\": {\"2\": 9, \"13\": 209, \"3\": 4, \"9\": 18}, \"9\": {\"2\": 14, \"13\": 9, \"9\": 185, \"8\": 28, \"7\": 4}, \"3\": {\"3\": 216, \"2\": 8, \"7\": 15, \"9\": 1}, \"2\": {\"2\": 144, \"7\": 38, \"3\": 25, \"8\": 8, \"9\": 21, \"15\": 3, \"0\": 1}, \"5\": {\"15\": 53, \"5\": 186, \"6\": 1}, \"14\": {\"1\": 12, \"14\": 151, \"10\": 49, \"0\": 26, \"15\": 1, \"5\": 1}, \"8\": {\"8\": 190, \"7\": 29, \"2\": 3, \"0\": 3, \"9\": 15}, \"7\": {\"7\": 167, \"8\": 34, \"2\": 30, \"9\": 4, \"3\": 5}, \"6\": {\"6\": 209, \"10\": 11, \"14\": 2, \"15\": 16, \"5\": 2}, \"11\": {\"11\": 240}, \"15\": {\"10\": 10, \"6\": 21, \"5\": 67, \"15\": 139, \"0\": 2, \"1\": 1}, \"1\": {\"1\": 189, \"14\": 43, \"10\": 4, \"0\": 2, \"6\": 1, \"15\": 1}}, \"ORACLE.run1_44\": {\"12\": {\"12\": 238, \"3\": 2}, \"7\": {\"7\": 209, \"9\": 29, \"10\": 2}, \"5\": {\"5\": 207, \"15\": 18, \"8\": 3, \"4\": 1, \"14\": 11}, \"15\": {\"15\": 211, \"14\": 6, \"5\": 11, \"8\": 11, \"4\": 1}, \"8\": {\"0\": 64, \"8\": 163, \"15\": 8, \"5\": 5}, \"2\": {\"2\": 226, \"1\": 12, \"10\": 2}, \"13\": {\"13\": 189, \"6\": 44, \"9\": 7}, \"4\": {\"4\": 156, \"14\": 80, \"5\": 2, \"15\": 2}, \"0\": {\"8\": 34, \"0\": 206}, \"6\": {\"9\": 20, \"6\": 181, \"13\": 38, \"7\": 1}, \"9\": {\"9\": 108, \"7\": 82, \"6\": 29, \"13\": 16, \"4\": 3, \"2\": 2}, \"11\": {\"11\": 239, \"13\": 1}, \"10\": {\"10\": 217, \"1\": 10, \"7\": 6, \"2\": 7}, \"14\": {\"4\": 59, \"14\": 161, \"5\": 8, \"15\": 12}, \"1\": {\"2\": 12, \"1\": 228}, \"3\": {\"3\": 232, \"12\": 8}}, \"C_A_3\": {\"43\": {\"43\": 7, \"49\": 2, \"42\": 2, \"13\": 1}, \"9\": {\"9\": 10, \"29\": 2}, \"6\": {\"6\": 10}, \"3\": {\"3\": 6, \"44\": 1, \"56\": 1, \"6\": 1, \"12\": 2, \"45\": 1}, \"16\": {\"16\": 9, \"53\": 1, \"11\": 1, \"15\": 1}, \"51\": {\"51\": 12}, \"31\": {\"31\": 11, \"49\": 1}, \"46\": {\"46\": 6, \"3\": 2, \"45\": 1, \"50\": 1}, \"19\": {\"19\": 7, \"34\": 1}, \"8\": {\"8\": 11, \"4\": 1}, \"18\": {\"18\": 12}, \"37\": {\"37\": 12}, \"24\": {\"24\": 9, \"31\": 1, \"54\": 1, \"51\": 1}, \"10\": {\"10\": 12}, \"44\": {\"6\": 2, \"3\": 2, \"44\": 3, \"30\": 1, \"40\": 1, \"50\": 1}, \"14\": {\"14\": 4, \"41\": 1, \"1\": 2, \"52\": 1, \"4\": 2, \"48\": 1, \"13\": 1}, \"38\": {\"38\": 10}, \"53\": {\"53\": 11, \"23\": 1}, \"20\": {\"46\": 1, \"20\": 7, \"9\": 1, \"40\": 1, \"33\": 2}, \"32\": {\"32\": 7, \"36\": 3, \"2\": 1, \"7\": 1}, \"36\": {\"36\": 9, \"35\": 1}, \"33\": {\"33\": 9, \"57\": 2, \"20\": 1}, \"56\": {\"44\": 1, \"56\": 6, \"22\": 3, \"5\": 2}, \"23\": {\"23\": 12}, \"54\": {\"54\": 8, \"55\": 1, \"26\": 1}, \"34\": {\"49\": 3, \"34\": 4, \"26\": 1, \"43\": 2, \"42\": 1, \"32\": 1}, \"13\": {\"13\": 11, \"7\": 1}, \"2\": {\"2\": 12}, \"55\": {\"2\": 2, \"55\": 6, \"20\": 1, \"35\": 1}, \"21\": {\"21\": 8, \"6\": 2}, \"49\": {\"49\": 6, \"2\": 1, \"13\": 1, \"55\": 1, \"7\": 1}, \"25\": {\"25\": 12}, \"5\": {\"5\": 7, \"50\": 1, \"44\": 2, \"45\": 2}, \"50\": {\"5\": 2, \"50\": 4, \"3\": 1, \"45\": 1}, \"40\": {\"57\": 1, \"40\": 5, \"1\": 2, \"52\": 1, \"45\": 1, \"56\": 1, \"14\": 1}, \"57\": {\"57\": 6, \"14\": 1, \"1\": 1}, \"22\": {\"22\": 3, \"6\": 3, \"3\": 1, \"45\": 1, \"5\": 1, \"46\": 1}, \"1\": {\"1\": 8, \"0\": 1, \"41\": 1}, \"17\": {\"17\": 12}, \"41\": {\"41\": 8, \"48\": 1, \"47\": 2, \"1\": 1}, \"4\": {\"41\": 1, \"1\": 1, \"48\": 1, \"22\": 2, \"29\": 1, \"4\": 1, \"9\": 1, \"40\": 2}, \"7\": {\"55\": 1, \"14\": 1, \"13\": 1, \"7\": 5, \"47\": 2}, \"26\": {\"54\": 2, \"17\": 2, \"2\": 2, \"26\": 4}, \"29\": {\"57\": 2, \"29\": 7, \"27\": 1, \"9\": 2}, \"52\": {\"40\": 1, \"52\": 7, \"7\": 1, \"48\": 1, \"39\": 1, \"47\": 1}, \"15\": {\"10\": 2, \"15\": 7, \"28\": 2, \"16\": 1}, \"35\": {\"49\": 3, \"35\": 9}, \"42\": {\"42\": 10, \"34\": 1, \"24\": 1}, \"30\": {\"30\": 5, \"48\": 2, \"0\": 2, \"41\": 1}, \"27\": {\"57\": 2, \"8\": 1, \"29\": 1, \"27\": 2, \"33\": 1, \"1\": 1}, \"45\": {\"44\": 3, \"45\": 4, \"6\": 2, \"50\": 1}, \"0\": {\"0\": 3, \"21\": 1, \"47\": 2, \"52\": 1, \"22\": 4, \"40\": 1}, \"28\": {\"28\": 7, \"26\": 2, \"10\": 3}, \"47\": {\"47\": 4, \"21\": 1, \"0\": 1, \"30\": 1, \"52\": 2, \"3\": 1, \"46\": 1, \"50\": 1}, \"11\": {\"11\": 7, \"15\": 1, \"16\": 1, \"25\": 1}, \"39\": {\"33\": 1, \"39\": 7, \"47\": 2}, \"48\": {\"41\": 2, \"48\": 4, \"56\": 1, \"47\": 1, \"4\": 1, \"1\": 1, \"44\": 2}, \"12\": {\"12\": 7, \"3\": 1}}, \"C_A_4\": {\"35\": {\"35\": 8, \"33\": 1, \"4\": 1}, \"25\": {\"25\": 10, \"34\": 1, \"16\": 1}, \"24\": {\"24\": 7, \"32\": 2, \"49\": 1}, \"48\": {\"48\": 7, \"1\": 1, \"57\": 1, \"47\": 2, \"9\": 1}, \"51\": {\"51\": 12}, \"13\": {\"13\": 11, \"14\": 1}, \"14\": {\"30\": 1, \"1\": 1, \"14\": 2, \"39\": 1, \"20\": 1, \"57\": 1, \"56\": 1}, \"32\": {\"32\": 7, \"24\": 3, \"33\": 1, \"8\": 1}, \"30\": {\"40\": 1, \"22\": 1, \"30\": 6, \"46\": 1, \"44\": 2, \"6\": 1}, \"34\": {\"34\": 6, \"35\": 1, \"33\": 1, \"26\": 2}, \"9\": {\"48\": 1, \"9\": 7, \"4\": 2, \"57\": 2}, \"1\": {\"30\": 1, \"48\": 1, \"46\": 2, \"22\": 1, \"2\": 1, \"29\": 1, \"1\": 2, \"47\": 1, \"45\": 2}, \"0\": {\"40\": 2, \"50\": 1, \"0\": 8, \"46\": 1}, \"38\": {\"13\": 1, \"30\": 1, \"38\": 9, \"39\": 1}, \"22\": {\"22\": 7, \"3\": 1}, \"40\": {\"40\": 7, \"1\": 2, \"50\": 2, \"21\": 1}, \"39\": {\"39\": 10, \"2\": 2}, \"46\": {\"46\": 10, \"6\": 1, \"22\": 1}, \"36\": {\"36\": 11, \"7\": 1}, \"50\": {\"5\": 1, \"50\": 8, \"6\": 3}, \"49\": {\"49\": 8, \"36\": 3, \"43\": 1}, \"17\": {\"17\": 10, \"19\": 2}, \"45\": {\"50\": 2, \"5\": 1, \"45\": 3, \"22\": 1, \"40\": 3, \"6\": 1, \"0\": 1}, \"6\": {\"5\": 1, \"50\": 1, \"6\": 10}, \"8\": {\"8\": 10, \"9\": 1, \"27\": 1}, \"5\": {\"46\": 2, \"0\": 1, \"5\": 4, \"50\": 1, \"3\": 2}, \"33\": {\"33\": 8, \"54\": 2, \"36\": 2}, \"31\": {\"31\": 12}, \"37\": {\"31\": 2, \"37\": 8}, \"47\": {\"14\": 2, \"1\": 3, \"47\": 1, \"29\": 2}, \"15\": {\"15\": 9, \"16\": 1}, \"7\": {\"7\": 9, \"33\": 1, \"2\": 2}, \"20\": {\"13\": 2, \"20\": 7, \"52\": 2, \"39\": 1}, \"4\": {\"39\": 1, \"4\": 6, \"9\": 1, \"57\": 2, \"52\": 1, \"30\": 1}, \"54\": {\"54\": 9, \"41\": 1, \"43\": 1, \"33\": 1}, \"44\": {\"44\": 6, \"3\": 1, \"29\": 1, \"46\": 2, \"6\": 1, \"52\": 1}, \"3\": {\"3\": 8, \"46\": 2, \"50\": 2}, \"11\": {\"11\": 7, \"10\": 1, \"16\": 1, \"24\": 1}, \"27\": {\"4\": 1, \"27\": 8, \"29\": 1}, \"19\": {\"33\": 1, \"19\": 8, \"42\": 1, \"23\": 2}, \"55\": {\"55\": 8, \"38\": 1, \"37\": 1, \"54\": 2}, \"16\": {\"16\": 12}, \"2\": {\"52\": 1, \"2\": 9}, \"52\": {\"52\": 4, \"6\": 1, \"0\": 3, \"13\": 1, \"46\": 1}, \"42\": {\"42\": 5, \"19\": 1, \"37\": 1, \"41\": 1, \"34\": 1, \"55\": 1}, \"26\": {\"26\": 11, \"55\": 1}, \"10\": {\"10\": 10, \"41\": 1, \"42\": 1}, \"53\": {\"53\": 9, \"11\": 1}, \"28\": {\"19\": 1, \"49\": 2, \"28\": 7, \"16\": 1, \"25\": 1}, \"21\": {\"21\": 10}, \"57\": {\"57\": 5, \"47\": 1, \"7\": 1, \"1\": 1, \"29\": 1, \"14\": 1}, \"23\": {\"49\": 1, \"23\": 5, \"41\": 1, \"19\": 1}, \"43\": {\"54\": 2, \"43\": 5, \"41\": 1, \"36\": 1, \"38\": 1}, \"12\": {\"12\": 9, \"44\": 1, \"45\": 1, \"3\": 1}, \"41\": {\"41\": 9, \"32\": 2, \"38\": 1}, \"56\": {\"56\": 7, \"44\": 1}, \"18\": {\"18\": 10}, \"29\": {\"29\": 7, \"57\": 1}}, \"W_A_3\": {\"109\": {\"24\": 1, \"109\": 8, \"8\": 1, \"126\": 1, \"118\": 1}, \"127\": {\"7\": 1, \"127\": 10, \"35\": 1}, \"14\": {\"14\": 7, \"84\": 1, \"114\": 1, \"44\": 1, \"69\": 2}, \"7\": {\"7\": 10, \"101\": 2}, \"129\": {\"129\": 9, \"1\": 1, \"77\": 2}, \"57\": {\"57\": 5, \"77\": 2, \"121\": 2, \"32\": 1, \"74\": 1, \"90\": 1}, \"84\": {\"44\": 1, \"127\": 1, \"84\": 3, \"114\": 1, \"93\": 1, \"0\": 1, \"30\": 1, \"62\": 2, \"3\": 1}, \"114\": {\"7\": 1, \"44\": 1, \"114\": 2, \"49\": 1, \"47\": 2, \"100\": 1, \"16\": 1, \"1\": 2, \"98\": 1}, \"44\": {\"127\": 1, \"107\": 1, \"31\": 2, \"3\": 2, \"99\": 2, \"44\": 1, \"25\": 1, \"128\": 1, \"29\": 1}, \"21\": {\"21\": 12}, \"46\": {\"44\": 2, \"57\": 1, \"46\": 4, \"52\": 2, \"85\": 1, \"91\": 1, \"66\": 1}, \"100\": {\"57\": 2, \"38\": 2, \"44\": 2, \"28\": 2, \"120\": 1, \"25\": 1, \"92\": 1, \"32\": 1}, \"63\": {\"63\": 8, \"35\": 1, \"99\": 1, \"98\": 1, \"7\": 1}, \"24\": {\"24\": 9, \"21\": 2, \"27\": 1}, \"107\": {\"107\": 10, \"35\": 1, \"19\": 1}, \"35\": {\"35\": 2, \"7\": 1, \"3\": 1, \"118\": 1, \"72\": 2, \"75\": 1, \"113\": 1, \"83\": 1}, \"81\": {\"33\": 1, \"77\": 1, \"81\": 7, \"92\": 1, \"18\": 1, \"84\": 1}, \"64\": {\"77\": 1, \"57\": 1, \"74\": 1, \"64\": 3, \"38\": 1, \"125\": 1, \"121\": 1, \"66\": 1, \"5\": 2}, \"59\": {\"87\": 1, \"59\": 7, \"19\": 1, \"25\": 1, \"120\": 1, \"111\": 1}, \"33\": {\"33\": 11, \"105\": 1}, \"34\": {\"34\": 6, \"98\": 1, \"95\": 1, \"54\": 1, \"60\": 1, \"81\": 1, \"25\": 1}, \"36\": {\"36\": 8, \"24\": 2, \"21\": 1, \"88\": 1}, \"79\": {\"79\": 12}, \"80\": {\"80\": 7, \"13\": 1, \"10\": 1, \"67\": 2, \"102\": 1}, \"77\": {\"57\": 1, \"64\": 1, \"77\": 6, \"58\": 1, \"28\": 1, \"99\": 1, \"42\": 1}, \"22\": {\"124\": 1, \"59\": 1, \"48\": 2, \"82\": 1, \"45\": 3, \"123\": 1, \"22\": 1, \"104\": 2}, \"124\": {\"59\": 1, \"124\": 6, \"53\": 1, \"75\": 1, \"111\": 1, \"76\": 1, \"31\": 1}, \"2\": {\"59\": 2, \"22\": 1, \"107\": 2, \"2\": 4, \"67\": 1, \"44\": 1, \"82\": 1}, \"87\": {\"109\": 1, \"87\": 5, \"24\": 1, \"106\": 1, \"122\": 1, \"70\": 1, \"96\": 1, \"118\": 1}, \"105\": {\"33\": 1, \"105\": 8, \"53\": 1, \"26\": 1, \"40\": 1}, \"95\": {\"43\": 1, \"95\": 8, \"98\": 1, \"34\": 1, \"3\": 1}, \"43\": {\"43\": 8, \"21\": 1, \"97\": 1, \"118\": 1, \"11\": 1}, \"56\": {\"56\": 7, \"126\": 1, \"9\": 2}, \"18\": {\"18\": 9, \"83\": 1, \"34\": 2}, \"85\": {\"46\": 1, \"85\": 4, \"91\": 2, \"41\": 1, \"68\": 1, \"125\": 1, \"66\": 1, \"112\": 1}, \"113\": {\"43\": 2, \"110\": 2, \"113\": 3, \"96\": 1, \"49\": 2, \"106\": 1, \"101\": 1}, \"97\": {\"97\": 9, \"51\": 1, \"96\": 1, \"94\": 1}, \"86\": {\"85\": 1, \"59\": 2, \"82\": 2, \"86\": 2, \"57\": 1, \"68\": 1, \"121\": 1, \"112\": 1, \"33\": 1}, \"128\": {\"85\": 2, \"38\": 1, \"128\": 5, \"30\": 1, \"32\": 2, \"60\": 1}, \"123\": {\"123\": 8, \"29\": 1, \"104\": 1, \"67\": 1, \"55\": 1}, \"8\": {\"43\": 1, \"97\": 1, \"126\": 1, \"110\": 1, \"0\": 1, \"8\": 5, \"94\": 2}, \"110\": {\"110\": 6, \"113\": 1, \"51\": 1, \"96\": 2, \"0\": 1, \"126\": 1}, \"126\": {\"8\": 1, \"113\": 1, \"108\": 4, \"109\": 2, \"126\": 2, \"39\": 2}, \"101\": {\"101\": 7, \"54\": 1, \"40\": 1, \"7\": 2, \"51\": 1}, \"115\": {\"65\": 1, \"115\": 5, \"19\": 1, \"45\": 1, \"92\": 1, \"119\": 1, \"79\": 1, \"117\": 1}, \"49\": {\"101\": 2, \"49\": 8, \"113\": 1, \"0\": 1}, \"45\": {\"45\": 12}, \"78\": {\"78\": 10, \"70\": 1, \"39\": 1}, \"65\": {\"65\": 4, \"92\": 1, \"32\": 1, \"120\": 2, \"55\": 1, \"104\": 1}, \"54\": {\"54\": 8, \"101\": 1, \"49\": 2, \"75\": 1}, \"31\": {\"31\": 2, \"54\": 1, \"69\": 1, \"34\": 1, \"51\": 1, \"61\": 1, \"127\": 1, \"56\": 1, \"12\": 1}, \"42\": {\"42\": 6, \"73\": 3, \"48\": 1, \"78\": 1, \"77\": 1}, \"68\": {\"68\": 7, \"19\": 1, \"5\": 2, \"86\": 1, \"37\": 1}, \"15\": {\"15\": 8, \"94\": 1, \"87\": 2, \"0\": 1}, \"69\": {\"69\": 10, \"33\": 1, \"1\": 1}, \"17\": {\"41\": 1, \"48\": 1, \"17\": 5, \"104\": 1, \"24\": 1, \"59\": 1}, \"73\": {\"73\": 8, \"112\": 2, \"20\": 1, \"44\": 1}, \"121\": {\"77\": 2, \"82\": 1, \"104\": 1, \"129\": 2, \"19\": 2, \"121\": 3, \"32\": 1}, \"102\": {\"102\": 10, \"48\": 1, \"68\": 1}, \"48\": {\"48\": 3, \"104\": 1, \"117\": 1, \"42\": 1, \"22\": 2, \"77\": 1, \"6\": 1, \"115\": 1, \"86\": 1}, \"23\": {\"15\": 2, \"23\": 2, \"39\": 1, \"122\": 1, \"106\": 2, \"99\": 1, \"126\": 1, \"8\": 2}, \"108\": {\"108\": 12}, \"53\": {\"57\": 1, \"53\": 6, \"28\": 1, \"33\": 2, \"9\": 2}, \"94\": {\"108\": 1, \"15\": 1, \"11\": 1, \"94\": 7}, \"41\": {\"121\": 1, \"57\": 1, \"41\": 5, \"90\": 1, \"85\": 1, \"112\": 1, \"42\": 1, \"33\": 1}, \"58\": {\"47\": 1, \"58\": 4, \"9\": 1, \"76\": 1, \"95\": 1, \"66\": 2, \"52\": 1, \"50\": 1}, \"29\": {\"58\": 1, \"77\": 1, \"120\": 2, \"29\": 6, \"92\": 1, \"42\": 1}, \"116\": {\"82\": 1, \"121\": 1, \"116\": 3, \"61\": 1, \"4\": 1, \"48\": 1, \"117\": 1, \"89\": 1, \"74\": 1, \"124\": 1}, \"60\": {\"60\": 6, \"49\": 1, \"12\": 2, \"113\": 1, \"35\": 1, \"54\": 1}, \"104\": {\"123\": 1, \"104\": 7, \"68\": 1, \"48\": 1, \"128\": 1, \"91\": 1}, \"106\": {\"106\": 8, \"30\": 1, \"15\": 2, \"7\": 1}, \"66\": {\"47\": 1, \"58\": 1, \"66\": 5, \"46\": 3, \"112\": 2}, \"47\": {\"47\": 8, \"35\": 1, \"72\": 2, \"84\": 1}, \"40\": {\"40\": 5, \"14\": 1, \"9\": 1, \"72\": 1, \"83\": 1, \"114\": 1, \"25\": 1, \"71\": 1}, \"82\": {\"82\": 6, \"77\": 1, \"30\": 1, \"129\": 1, \"64\": 1, \"48\": 1, \"89\": 1}, \"13\": {\"67\": 1, \"17\": 1, \"10\": 1, \"13\": 4, \"123\": 1, \"118\": 1, \"110\": 1, \"4\": 2}, \"19\": {\"9\": 1, \"19\": 1, \"103\": 3, \"75\": 1, \"107\": 1, \"73\": 1, \"81\": 1, \"49\": 1, \"72\": 1, \"112\": 1}, \"72\": {\"72\": 8, \"20\": 1, \"49\": 1, \"95\": 1, \"98\": 1}, \"9\": {\"9\": 8, \"58\": 1, \"1\": 1, \"29\": 1, \"114\": 1}, \"67\": {\"67\": 7, \"17\": 1, \"2\": 1, \"82\": 1, \"116\": 2}, \"11\": {\"11\": 8, \"36\": 1, \"27\": 1, \"43\": 1, \"39\": 1}, \"125\": {\"68\": 1, \"125\": 9, \"28\": 1, \"65\": 1}, \"76\": {\"9\": 1, \"76\": 5, \"100\": 1, \"53\": 1}, \"83\": {\"83\": 11, \"25\": 1}, \"74\": {\"74\": 9, \"20\": 1, \"61\": 2}, \"20\": {\"66\": 1, \"20\": 3, \"95\": 2, \"75\": 2, \"9\": 1, \"38\": 1, \"26\": 1, \"100\": 1}, \"119\": {\"119\": 9, \"22\": 1, \"104\": 2}, \"1\": {\"18\": 2, \"51\": 1, \"1\": 5, \"128\": 1, \"16\": 1, \"101\": 1, \"114\": 1}, \"16\": {\"49\": 2, \"16\": 9, \"3\": 1}, \"25\": {\"23\": 1, \"25\": 3, \"112\": 1, \"117\": 1, \"83\": 1, \"16\": 2, \"101\": 1, \"40\": 1, \"34\": 1}, \"90\": {\"28\": 1, \"55\": 1, \"90\": 2, \"120\": 1, \"91\": 1, \"57\": 1, \"111\": 1}, \"39\": {\"39\": 6, \"43\": 1, \"10\": 1, \"70\": 1, \"27\": 2, \"108\": 1}, \"28\": {\"28\": 3, \"33\": 1, \"74\": 2, \"103\": 2, \"73\": 1, \"50\": 1, \"37\": 1, \"68\": 1}, \"55\": {\"55\": 7, \"50\": 1, \"90\": 1, \"9\": 1, \"129\": 1, \"66\": 1}, \"117\": {\"117\": 8, \"64\": 1, \"92\": 1, \"66\": 1, \"2\": 1}, \"112\": {\"112\": 3, \"38\": 4, \"58\": 2, \"73\": 1, \"20\": 1, \"41\": 1}, \"38\": {\"38\": 9, \"53\": 1, \"20\": 2}, \"37\": {\"25\": 1, \"37\": 7, \"83\": 1, \"26\": 1, \"49\": 1, \"76\": 1}, \"120\": {\"64\": 1, \"120\": 2, \"55\": 1, \"80\": 1, \"29\": 1, \"13\": 1, \"25\": 1, \"100\": 2, \"73\": 1, \"92\": 1}, \"122\": {\"122\": 4, \"10\": 1, \"113\": 2, \"126\": 1, \"106\": 2, \"15\": 2}, \"50\": {\"5\": 2, \"50\": 4, \"89\": 1, \"116\": 2, \"92\": 1, \"120\": 1, \"53\": 1}, \"10\": {\"10\": 10, \"70\": 1, \"36\": 1}, \"5\": {\"50\": 2, \"89\": 1, \"55\": 1, \"5\": 6, \"66\": 1, \"76\": 1}, \"51\": {\"51\": 11, \"72\": 1}, \"3\": {\"3\": 8, \"70\": 1, \"30\": 1, \"35\": 1, \"108\": 1}, \"98\": {\"98\": 9, \"34\": 1, \"52\": 1, \"54\": 1}, \"70\": {\"10\": 1, \"70\": 5, \"88\": 1, \"27\": 4, \"21\": 1}, \"96\": {\"60\": 1, \"113\": 2, \"126\": 1, \"12\": 1, \"118\": 2, \"51\": 1, \"96\": 2, \"97\": 2}, \"12\": {\"12\": 9, \"126\": 1, \"51\": 1, \"122\": 1}, \"99\": {\"99\": 3, \"128\": 1, \"56\": 2, \"47\": 2, \"1\": 1, \"91\": 1, \"23\": 1, \"44\": 1}, \"52\": {\"52\": 7, \"9\": 1, \"25\": 1, \"99\": 1, \"98\": 1, \"107\": 1}, \"71\": {\"71\": 6, \"36\": 1, \"2\": 1, \"95\": 2, \"3\": 2}, \"89\": {\"89\": 9, \"29\": 1, \"76\": 2}, \"0\": {\"70\": 1, \"126\": 1, \"0\": 8, \"15\": 2}, \"4\": {\"4\": 5, \"63\": 2, \"88\": 1, \"24\": 1, \"68\": 1, \"8\": 1, \"98\": 1}, \"93\": {\"93\": 9, \"84\": 2, \"8\": 1}, \"6\": {\"6\": 8, \"73\": 1, \"76\": 1}, \"75\": {\"75\": 8, \"106\": 1, \"88\": 1, \"54\": 1, \"60\": 1}, \"62\": {\"62\": 9, \"26\": 2, \"47\": 1}, \"103\": {\"103\": 9, \"112\": 1, \"38\": 1, \"73\": 1}, \"30\": {\"30\": 10, \"36\": 1, \"0\": 1}, \"91\": {\"91\": 3, \"99\": 3, \"111\": 1, \"85\": 1, \"100\": 1, \"37\": 1, \"57\": 2}, \"27\": {\"27\": 7, \"70\": 3, \"88\": 1, \"21\": 1}, \"26\": {\"26\": 7, \"93\": 2, \"105\": 3}, \"61\": {\"61\": 9, \"45\": 1, \"89\": 2}, \"118\": {\"93\": 2, \"118\": 8, \"126\": 1, \"12\": 1}, \"92\": {\"29\": 2, \"92\": 5, \"99\": 1, \"32\": 1, \"64\": 1, \"128\": 1, \"25\": 1}, \"111\": {\"41\": 1, \"111\": 9, \"85\": 1, \"124\": 1}, \"32\": {\"98\": 1, \"91\": 1, \"32\": 3, \"53\": 1, \"69\": 1, \"92\": 1, \"57\": 1, \"64\": 1, \"60\": 1, \"128\": 1}, \"88\": {\"88\": 9, \"24\": 1}}, \"C_A_5\": {\"47\": {\"4\": 1, \"52\": 3, \"47\": 5, \"36\": 1}, \"53\": {\"53\": 12}, \"29\": {\"29\": 6, \"48\": 3, \"9\": 1, \"44\": 1, \"57\": 1}, \"52\": {\"52\": 8, \"40\": 1, \"47\": 1, \"56\": 1, \"46\": 1}, \"55\": {\"49\": 2, \"55\": 9, \"38\": 1}, \"17\": {\"17\": 11, \"38\": 1}, \"42\": {\"42\": 9, \"31\": 1, \"11\": 1, \"15\": 1}, \"33\": {\"33\": 8, \"34\": 2}, \"11\": {\"11\": 8, \"53\": 1, \"42\": 1, \"26\": 2}, \"19\": {\"33\": 2, \"19\": 6}, \"1\": {\"1\": 7, \"4\": 1, \"30\": 2, \"44\": 1, \"29\": 1}, \"44\": {\"44\": 6, \"5\": 2, \"22\": 3, \"4\": 1}, \"49\": {\"49\": 10, \"39\": 2}, \"4\": {\"4\": 7, \"9\": 1, \"44\": 1, \"22\": 2, \"30\": 1}, \"6\": {\"44\": 2, \"6\": 3, \"5\": 1, \"3\": 2, \"22\": 1, \"45\": 1, \"50\": 2}, \"39\": {\"39\": 12}, \"13\": {\"13\": 11, \"3\": 1}, \"5\": {\"45\": 1, \"4\": 1, \"3\": 1, \"56\": 1, \"44\": 2, \"46\": 1, \"5\": 2, \"12\": 1}, \"16\": {\"16\": 8, \"25\": 2}, \"25\": {\"25\": 12}, \"45\": {\"45\": 10, \"50\": 2}, \"7\": {\"7\": 10}, \"22\": {\"5\": 2, \"22\": 6, \"56\": 1, \"4\": 1, \"3\": 1, \"44\": 1}, \"40\": {\"40\": 6, \"3\": 1, \"29\": 1, \"45\": 2, \"9\": 2}, \"38\": {\"38\": 8, \"2\": 1, \"7\": 1, \"20\": 1, \"54\": 1}, \"35\": {\"35\": 7, \"41\": 1}, \"56\": {\"0\": 2, \"56\": 10}, \"50\": {\"50\": 8, \"5\": 2}, \"0\": {\"0\": 11, \"22\": 1}, \"10\": {\"10\": 11, \"54\": 1}, \"27\": {\"34\": 1, \"27\": 10, \"2\": 1}, \"20\": {\"20\": 7, \"21\": 2, \"27\": 1}, \"36\": {\"39\": 2, \"36\": 5, \"49\": 1}, \"34\": {\"34\": 8, \"32\": 2, \"33\": 2}, \"30\": {\"1\": 4, \"30\": 6, \"36\": 1, \"4\": 1}, \"2\": {\"2\": 8, \"14\": 1, \"35\": 1}, \"15\": {\"10\": 1, \"42\": 2, \"16\": 2, \"11\": 3, \"15\": 4}, \"18\": {\"18\": 12}, \"32\": {\"32\": 10, \"55\": 1, \"41\": 1}, \"31\": {\"31\": 12}, \"57\": {\"48\": 2, \"1\": 2, \"30\": 1, \"57\": 5, \"9\": 1, \"52\": 1}, \"48\": {\"22\": 2, \"48\": 5, \"57\": 1}, \"28\": {\"28\": 10}, \"14\": {\"14\": 3, \"57\": 1, \"36\": 1, \"21\": 1, \"13\": 1, \"8\": 1, \"37\": 1, \"20\": 2, \"43\": 1}, \"3\": {\"5\": 2, \"3\": 5, \"50\": 1, \"45\": 1, \"22\": 1, \"40\": 2}, \"8\": {\"8\": 10, \"27\": 2}, \"9\": {\"9\": 7, \"4\": 1, \"48\": 1, \"29\": 2, \"52\": 1}, \"21\": {\"21\": 10}, \"41\": {\"41\": 6, \"33\": 2, \"36\": 1, \"49\": 1, \"55\": 2}, \"24\": {\"24\": 10, \"10\": 1, \"31\": 1}, \"46\": {\"40\": 1, \"46\": 4, \"12\": 1, \"45\": 1, \"52\": 2, \"0\": 1}, \"43\": {\"43\": 6, \"54\": 1, \"8\": 2, \"7\": 1}, \"54\": {\"43\": 2, \"54\": 7, \"38\": 1}, \"23\": {\"10\": 1, \"23\": 9}, \"37\": {\"37\": 6, \"13\": 2, \"54\": 2}, \"12\": {\"12\": 7, \"9\": 1, \"44\": 1, \"46\": 1}, \"26\": {\"26\": 9, \"10\": 1}, \"51\": {\"51\": 6}}, \"C_A_1\": {\"46\": {\"46\": 9, \"56\": 2, \"44\": 1}, \"16\": {\"10\": 1, \"16\": 9, \"11\": 1, \"15\": 1}, \"26\": {\"26\": 11, \"11\": 1}, \"10\": {\"10\": 12}, \"9\": {\"9\": 8, \"48\": 2}, \"28\": {\"28\": 12}, \"51\": {\"9\": 1, \"51\": 9, \"36\": 1, \"48\": 1}, \"1\": {\"1\": 8, \"38\": 1, \"8\": 1, \"57\": 2}, \"55\": {\"55\": 9, \"49\": 3}, \"27\": {\"46\": 1, \"47\": 1, \"27\": 4, \"3\": 2, \"52\": 1, \"44\": 1}, \"22\": {\"22\": 10, \"52\": 1, \"6\": 1}, \"52\": {\"52\": 12}, \"3\": {\"3\": 12}, \"33\": {\"33\": 8}, \"47\": {\"47\": 7, \"27\": 1, \"39\": 1, \"40\": 1, \"4\": 1, \"22\": 1}, \"42\": {\"42\": 10, \"33\": 1, \"23\": 1}, \"12\": {\"12\": 4}, \"23\": {\"23\": 7, \"33\": 1, \"15\": 1, \"17\": 2, \"10\": 1}, \"49\": {\"49\": 9, \"43\": 1}, \"7\": {\"7\": 12}, \"4\": {\"4\": 6, \"5\": 2, \"40\": 1, \"14\": 1, \"44\": 1, \"47\": 1}, \"50\": {\"50\": 8, \"5\": 1, \"44\": 1, \"45\": 2}, \"19\": {\"23\": 1, \"19\": 7, \"26\": 1, \"15\": 1, \"35\": 1, \"16\": 1}, \"11\": {\"11\": 9, \"16\": 3}, \"31\": {\"31\": 10}, \"41\": {\"41\": 10, \"36\": 1, \"32\": 1}, \"56\": {\"56\": 5, \"46\": 2, \"44\": 1, \"50\": 1, \"45\": 1}, \"0\": {\"52\": 1, \"0\": 8, \"46\": 2, \"22\": 1}, \"57\": {\"47\": 1, \"52\": 1, \"29\": 1, \"30\": 1, \"21\": 1, \"43\": 2, \"46\": 1, \"1\": 1, \"57\": 3}, \"53\": {\"53\": 11, \"26\": 1}, \"43\": {\"43\": 7, \"7\": 1, \"38\": 1, \"14\": 1, \"49\": 2}, \"37\": {\"37\": 12}, \"2\": {\"2\": 8}, \"6\": {\"6\": 6, \"46\": 2, \"27\": 1, \"5\": 2, \"44\": 1}, \"18\": {\"18\": 12}, \"38\": {\"38\": 8, \"39\": 2, \"7\": 2}, \"15\": {\"41\": 2, \"15\": 6, \"28\": 1, \"32\": 2, \"11\": 1}, \"36\": {\"36\": 9, \"13\": 1, \"32\": 2}, \"39\": {\"52\": 1, \"39\": 2, \"27\": 1, \"7\": 1, \"49\": 1, \"38\": 1, \"29\": 1}, \"44\": {\"44\": 6, \"5\": 2, \"46\": 4}, \"8\": {\"8\": 6, \"1\": 1, \"48\": 1, \"14\": 2, \"36\": 1, \"30\": 1}, \"17\": {\"17\": 8, \"23\": 1, \"24\": 1}, \"5\": {\"5\": 12}, \"13\": {\"13\": 9, \"7\": 1}, \"40\": {\"5\": 2, \"40\": 7, \"4\": 1}, \"29\": {\"1\": 1, \"3\": 1, \"0\": 2, \"14\": 1, \"43\": 1, \"36\": 1, \"30\": 1, \"6\": 1, \"48\": 1, \"29\": 1, \"2\": 1}, \"48\": {\"48\": 10, \"9\": 2}, \"32\": {\"32\": 10, \"43\": 1, \"31\": 1}, \"30\": {\"30\": 7, \"1\": 1, \"2\": 1, \"29\": 2, \"36\": 1}, \"35\": {\"35\": 11, \"19\": 1}, \"25\": {\"25\": 12}, \"14\": {\"14\": 7, \"13\": 3, \"4\": 1, \"1\": 1}, \"54\": {\"54\": 8, \"37\": 1, \"38\": 1}, \"20\": {\"20\": 7, \"22\": 1}, \"21\": {\"21\": 5, \"0\": 3, \"22\": 1, \"57\": 1}, \"45\": {\"45\": 6, \"46\": 1, \"50\": 1}, \"24\": {\"24\": 8}, \"34\": {\"34\": 7, \"28\": 1}}, \"W_A_4\": {\"28\": {\"28\": 10, \"61\": 1, \"42\": 1}, \"4\": {\"4\": 10, \"58\": 1, \"86\": 1}, \"72\": {\"72\": 7, \"96\": 1, \"97\": 1, \"84\": 1, \"75\": 1, \"106\": 1}, \"111\": {\"111\": 7, \"89\": 1, \"74\": 1, \"91\": 1, \"57\": 1, \"73\": 1}, \"108\": {\"108\": 7, \"30\": 1, \"27\": 2, \"10\": 1, \"94\": 1}, \"43\": {\"43\": 7, \"0\": 1, \"30\": 1, \"11\": 1}, \"96\": {\"89\": 1, \"96\": 4, \"11\": 1, \"118\": 2, \"30\": 1, \"128\": 1, \"83\": 1, \"43\": 1}, \"89\": {\"89\": 7, \"72\": 1, \"9\": 1, \"84\": 1, \"60\": 1, \"74\": 1}, \"31\": {\"28\": 2, \"31\": 8, \"61\": 1, \"106\": 1}, \"45\": {\"28\": 2, \"45\": 6, \"123\": 2, \"50\": 1, \"17\": 1}, \"2\": {\"2\": 5, \"45\": 1, \"64\": 1, \"119\": 1, \"66\": 1, \"103\": 1, \"63\": 1, \"53\": 1}, \"114\": {\"114\": 7, \"1\": 3, \"96\": 1, \"105\": 1}, \"11\": {\"11\": 6, \"12\": 1, \"96\": 1, \"7\": 1, \"60\": 2, \"126\": 1}, \"12\": {\"12\": 10, \"11\": 1, \"51\": 1}, \"14\": {\"72\": 1, \"89\": 1, \"127\": 3, \"14\": 2, \"7\": 1, \"71\": 1, \"5\": 1, \"76\": 1, \"26\": 1}, \"90\": {\"28\": 1, \"90\": 7, \"83\": 1, \"121\": 1, \"66\": 1, \"38\": 1}, \"10\": {\"10\": 11, \"24\": 1}, \"63\": {\"42\": 1, \"63\": 10, \"70\": 1}, \"85\": {\"54\": 1, \"10\": 1, \"49\": 1, \"85\": 5, \"34\": 1, \"127\": 1, \"44\": 1, \"110\": 1}, \"64\": {\"64\": 9, \"81\": 1, \"111\": 1, \"116\": 1}, \"82\": {\"82\": 5, \"57\": 3, \"63\": 1, \"68\": 2, \"38\": 1}, \"58\": {\"58\": 6, \"82\": 1, \"125\": 1, \"99\": 1, \"91\": 1, \"26\": 2}, \"3\": {\"85\": 2, \"3\": 6, \"53\": 1, \"71\": 1, \"49\": 2}, \"54\": {\"54\": 8, \"106\": 1, \"128\": 2, \"20\": 1}, \"121\": {\"121\": 2, \"82\": 1, \"41\": 3, \"125\": 1, \"103\": 1, \"14\": 1, \"124\": 1, \"64\": 1, \"38\": 1}, \"42\": {\"42\": 6, \"91\": 1, \"92\": 2, \"31\": 1, \"70\": 1, \"74\": 1}, \"98\": {\"98\": 5, \"34\": 2, \"29\": 3, \"75\": 1, \"41\": 1}, \"123\": {\"123\": 7, \"104\": 1, \"67\": 1, \"121\": 1, \"4\": 1, \"57\": 1}, \"91\": {\"98\": 1, \"85\": 1, \"55\": 1, \"91\": 5, \"68\": 1, \"2\": 1, \"29\": 1, \"111\": 1}, \"66\": {\"57\": 4, \"124\": 1, \"66\": 2, \"2\": 1, \"31\": 1, \"90\": 3}, \"102\": {\"102\": 10, \"77\": 1, \"6\": 1}, \"122\": {\"122\": 6, \"8\": 3, \"94\": 1, \"70\": 1, \"11\": 1}, \"1\": {\"1\": 6, \"82\": 1, \"3\": 1, \"114\": 3, \"16\": 1}, \"15\": {\"108\": 1, \"15\": 9, \"97\": 1, \"30\": 1}, \"97\": {\"108\": 2, \"97\": 7, \"88\": 2, \"2\": 1}, \"75\": {\"75\": 10, \"98\": 1, \"23\": 1}, \"95\": {\"97\": 1, \"62\": 1, \"95\": 7, \"46\": 1, \"85\": 1, \"72\": 1}, \"57\": {\"66\": 2, \"57\": 8, \"116\": 1, \"48\": 1}, \"68\": {\"125\": 1, \"66\": 1, \"59\": 1, \"120\": 1, \"42\": 1, \"98\": 1, \"54\": 1, \"68\": 2, \"128\": 1, \"72\": 1, \"51\": 1}, \"125\": {\"125\": 7, \"121\": 1, \"129\": 1, \"92\": 1, \"86\": 2}, \"62\": {\"62\": 8, \"96\": 2}, \"27\": {\"27\": 11, \"78\": 1}, \"120\": {\"22\": 2, \"37\": 1, \"120\": 6, \"24\": 1, \"64\": 2}, \"26\": {\"84\": 1, \"83\": 1, \"26\": 5, \"113\": 1, \"118\": 1, \"106\": 1, \"14\": 1, \"109\": 1}, \"55\": {\"46\": 1, \"99\": 1, \"128\": 1, \"33\": 1, \"55\": 5, \"73\": 1, \"25\": 1, \"41\": 1}, \"71\": {\"84\": 2, \"71\": 5, \"8\": 2, \"88\": 1, \"14\": 2}, \"22\": {\"37\": 1, \"22\": 10, \"55\": 1}, \"99\": {\"84\": 3, \"46\": 1, \"99\": 5, \"14\": 1, \"24\": 1, \"76\": 1}, \"84\": {\"84\": 5, \"24\": 1, \"40\": 1, \"81\": 2, \"1\": 1, \"30\": 1, \"107\": 1}, \"37\": {\"37\": 5, \"120\": 1, \"124\": 2, \"33\": 1, \"79\": 1, \"70\": 1, \"63\": 1}, \"83\": {\"99\": 1, \"84\": 1, \"1\": 2, \"103\": 2, \"98\": 1, \"5\": 2, \"114\": 1, \"9\": 1, \"83\": 1}, \"46\": {\"35\": 1, \"83\": 1, \"46\": 2, \"6\": 1, \"120\": 1, \"73\": 2, \"42\": 1, \"32\": 1, \"48\": 1, \"34\": 1}, \"35\": {\"91\": 1, \"99\": 1, \"69\": 2, \"35\": 2, \"55\": 1, \"22\": 1, \"16\": 1, \"33\": 1, \"89\": 1, \"57\": 1}, \"13\": {\"63\": 1, \"37\": 3, \"13\": 6, \"65\": 2}, \"53\": {\"54\": 2, \"53\": 3, \"51\": 1, \"88\": 1, \"11\": 1, \"101\": 1, \"72\": 1, \"78\": 1, \"49\": 1}, \"127\": {\"9\": 1, \"16\": 1, \"127\": 9, \"85\": 1}, \"69\": {\"97\": 1, \"69\": 8, \"20\": 1, \"78\": 1, \"1\": 1}, \"48\": {\"57\": 1, \"48\": 3, \"17\": 2, \"123\": 1, \"67\": 1, \"124\": 2, \"85\": 1, \"65\": 1}, \"16\": {\"16\": 10, \"71\": 1, \"14\": 1}, \"0\": {\"127\": 1, \"15\": 1, \"8\": 1, \"39\": 1, \"0\": 5, \"23\": 1, \"7\": 1, \"87\": 1}, \"8\": {\"8\": 9, \"97\": 3}, \"9\": {\"9\": 6, \"54\": 1, \"98\": 1, \"34\": 1, \"72\": 1, \"95\": 1, \"128\": 1}, \"115\": {\"53\": 1, \"48\": 1, \"119\": 1, \"115\": 4, \"67\": 1, \"2\": 1, \"63\": 2, \"77\": 1}, \"70\": {\"70\": 7, \"17\": 1, \"21\": 1, \"36\": 2, \"94\": 1}, \"119\": {\"119\": 9, \"115\": 2, \"129\": 1}, \"59\": {\"59\": 6, \"6\": 2, \"83\": 1, \"29\": 1, \"56\": 2}, \"52\": {\"44\": 1, \"53\": 1, \"52\": 4, \"59\": 2, \"106\": 1, \"40\": 1, \"85\": 1, \"29\": 1}, \"60\": {\"60\": 3, \"70\": 1, \"99\": 1, \"36\": 1, \"101\": 1, \"27\": 1, \"62\": 1, \"110\": 2, \"94\": 1}, \"44\": {\"44\": 5, \"16\": 1, \"74\": 1, \"114\": 2, \"82\": 1, \"112\": 1, \"40\": 1}, \"51\": {\"51\": 2, \"70\": 1, \"3\": 2, \"47\": 1, \"100\": 1, \"12\": 1, \"99\": 2, \"49\": 2}, \"6\": {\"6\": 11, \"68\": 1}, \"73\": {\"92\": 2, \"73\": 3, \"48\": 1, \"51\": 1, \"55\": 1, \"61\": 1, \"111\": 1, \"31\": 2}, \"78\": {\"70\": 1, \"78\": 11}, \"92\": {\"45\": 4, \"124\": 2, \"67\": 1, \"92\": 3, \"32\": 1, \"46\": 1}, \"20\": {\"34\": 1, \"98\": 1, \"20\": 5, \"107\": 1, \"126\": 1, \"14\": 1, \"100\": 1, \"40\": 1}, \"17\": {\"50\": 1, \"17\": 9, \"104\": 1, \"4\": 1}, \"74\": {\"74\": 6, \"92\": 2, \"114\": 1, \"73\": 1, \"53\": 2}, \"19\": {\"73\": 1, \"9\": 1, \"90\": 1, \"83\": 1, \"35\": 1, \"19\": 1, \"61\": 2, \"33\": 2, \"75\": 1, \"66\": 1}, \"50\": {\"50\": 10, \"129\": 1, \"104\": 1}, \"34\": {\"34\": 6, \"20\": 1, \"6\": 1, \"25\": 1, \"89\": 1, \"85\": 1, \"110\": 1}, \"104\": {\"104\": 3, \"45\": 1, \"2\": 1, \"17\": 1, \"119\": 1, \"50\": 1}, \"33\": {\"33\": 5, \"25\": 1, \"42\": 1, \"56\": 1, \"60\": 1, \"70\": 1, \"66\": 1, \"35\": 1}, \"5\": {\"5\": 6, \"16\": 1, \"20\": 1, \"23\": 1, \"105\": 2, \"100\": 1}, \"7\": {\"7\": 5, \"23\": 1, \"110\": 1, \"43\": 3, \"0\": 2}, \"29\": {\"68\": 2, \"103\": 1, \"29\": 3, \"25\": 1, \"59\": 1, \"2\": 1, \"52\": 2, \"38\": 1}, \"25\": {\"25\": 6, \"75\": 1, \"8\": 1, \"34\": 2, \"87\": 1, \"53\": 1}, \"124\": {\"98\": 1, \"124\": 6, \"116\": 2, \"79\": 1, \"14\": 1, \"29\": 1}, \"117\": {\"124\": 1, \"117\": 7, \"88\": 1, \"81\": 1, \"108\": 1, \"102\": 1}, \"88\": {\"88\": 7, \"97\": 1, \"10\": 3, \"78\": 1}, \"61\": {\"28\": 1, \"88\": 1, \"61\": 5, \"31\": 2, \"32\": 1, \"64\": 2}, \"86\": {\"86\": 4, \"35\": 1, \"6\": 2, \"90\": 1, \"115\": 2, \"81\": 1, \"37\": 1}, \"116\": {\"86\": 1, \"116\": 5, \"80\": 1, \"61\": 2, \"57\": 1, \"4\": 1, \"64\": 1}, \"24\": {\"10\": 2, \"24\": 9, \"36\": 1}, \"128\": {\"66\": 1, \"52\": 1, \"106\": 1, \"78\": 1, \"20\": 1, \"77\": 2, \"128\": 1, \"38\": 1, \"9\": 1, \"91\": 1, \"40\": 1}, \"101\": {\"60\": 1, \"101\": 8, \"113\": 1, \"12\": 2}, \"65\": {\"65\": 8, \"86\": 1, \"48\": 1}, \"36\": {\"36\": 9, \"24\": 2, \"94\": 1}, \"21\": {\"21\": 9, \"10\": 1, \"24\": 1, \"78\": 1}, \"106\": {\"54\": 1, \"106\": 9, \"105\": 1, \"23\": 1}, \"118\": {\"96\": 1, \"118\": 7, \"88\": 1, \"110\": 1, \"10\": 1, \"60\": 1}, \"113\": {\"113\": 2, \"97\": 1, \"126\": 1, \"24\": 2, \"87\": 2, \"27\": 2, \"11\": 1, \"118\": 1}, \"40\": {\"1\": 1, \"40\": 6, \"18\": 1, \"84\": 1, \"5\": 2, \"44\": 1}, \"93\": {\"93\": 6, \"110\": 1, \"7\": 1}, \"94\": {\"94\": 9, \"36\": 2, \"108\": 1}, \"103\": {\"35\": 2, \"46\": 2, \"77\": 1, \"129\": 1, \"97\": 1, \"74\": 1, \"87\": 1, \"19\": 1, \"54\": 1, \"22\": 1}, \"110\": {\"118\": 1, \"110\": 4, \"93\": 1, \"78\": 1, \"7\": 1, \"23\": 2, \"62\": 1, \"60\": 1}, \"56\": {\"56\": 8, \"92\": 1, \"25\": 1, \"112\": 1, \"61\": 1}, \"39\": {\"39\": 8, \"78\": 1, \"21\": 1, \"70\": 1, \"109\": 1}, \"109\": {\"39\": 1, \"8\": 1, \"30\": 1, \"109\": 8, \"126\": 1}, \"67\": {\"67\": 7, \"90\": 2, \"48\": 1, \"66\": 1, \"88\": 1}, \"129\": {\"51\": 1, \"74\": 1, \"129\": 3, \"116\": 3, \"123\": 1, \"64\": 1, \"119\": 1, \"104\": 1}, \"30\": {\"30\": 10, \"108\": 1, \"24\": 1}, \"126\": {\"113\": 1, \"36\": 1, \"109\": 2, \"126\": 4, \"87\": 1, \"27\": 1, \"94\": 1, \"10\": 1}, \"87\": {\"21\": 1, \"113\": 1, \"78\": 1, \"39\": 1, \"126\": 1, \"87\": 4, \"106\": 1, \"0\": 1, \"15\": 1}, \"112\": {\"112\": 10, \"103\": 1, \"29\": 1}, \"100\": {\"76\": 2, \"100\": 7, \"84\": 1, \"49\": 1, \"14\": 1}, \"79\": {\"79\": 10}, \"81\": {\"81\": 6, \"99\": 1, \"55\": 1, \"108\": 1, \"56\": 1, \"69\": 2}, \"76\": {\"76\": 6, \"23\": 1, \"20\": 1, \"40\": 2}, \"47\": {\"47\": 7, \"21\": 1, \"52\": 2, \"59\": 2}, \"77\": {\"6\": 1, \"77\": 7, \"23\": 2, \"103\": 1, \"128\": 1}, \"23\": {\"103\": 1, \"0\": 3, \"110\": 1, \"108\": 1, \"106\": 3, \"23\": 1, \"78\": 1, \"87\": 1}, \"18\": {\"18\": 12}, \"49\": {\"49\": 6, \"84\": 1, \"20\": 1, \"43\": 1, \"23\": 1, \"0\": 1, \"127\": 1}, \"41\": {\"99\": 1, \"58\": 1, \"47\": 1, \"125\": 1, \"116\": 1, \"23\": 1, \"75\": 1, \"19\": 1, \"86\": 1, \"12\": 1, \"98\": 1, \"41\": 1}, \"32\": {\"55\": 1, \"6\": 1, \"20\": 2, \"105\": 1, \"32\": 4, \"92\": 1, \"77\": 1, \"78\": 1}, \"107\": {\"107\": 7, \"38\": 2, \"51\": 1}, \"80\": {\"80\": 10, \"38\": 1, \"73\": 1}, \"105\": {\"105\": 4, \"5\": 2, \"114\": 2, \"24\": 1, \"16\": 1}, \"38\": {\"18\": 1, \"20\": 1, \"38\": 5, \"40\": 1, \"112\": 1, \"82\": 1}}, \"W_A_1\": {\"108\": {\"108\": 9, \"21\": 1}, \"40\": {\"40\": 6, \"23\": 1, \"89\": 1, \"14\": 1, \"3\": 2, \"105\": 1}, \"68\": {\"3\": 2, \"68\": 8, \"81\": 1, \"112\": 1}, \"23\": {\"108\": 1, \"23\": 5, \"84\": 1, \"7\": 2, \"113\": 1, \"12\": 2}, \"26\": {\"70\": 1, \"26\": 6, \"62\": 2, \"14\": 2, \"114\": 1}, \"64\": {\"3\": 1, \"64\": 6, \"41\": 1, \"20\": 1, \"61\": 1, \"66\": 2}, \"22\": {\"22\": 9, \"17\": 1, \"67\": 1, \"45\": 1}, \"3\": {\"40\": 2, \"3\": 4, \"34\": 3, \"107\": 1, \"26\": 2}, \"4\": {\"102\": 1, \"57\": 1, \"20\": 2, \"4\": 4, \"48\": 2, \"126\": 1, \"86\": 1}, \"70\": {\"70\": 12}, \"57\": {\"57\": 10, \"68\": 1, \"115\": 1}, \"79\": {\"79\": 11, \"119\": 1}, \"9\": {\"89\": 2, \"34\": 2, \"8\": 1, \"9\": 2, \"49\": 2, \"47\": 1, \"52\": 1, \"31\": 1}, \"89\": {\"9\": 1, \"23\": 2, \"53\": 1, \"89\": 5, \"3\": 1, \"101\": 1, \"32\": 1}, \"110\": {\"110\": 11, \"97\": 1}, \"102\": {\"102\": 8, \"57\": 1, \"116\": 1, \"55\": 1, \"105\": 1}, \"31\": {\"31\": 9, \"96\": 1, \"60\": 1, \"122\": 1}, \"58\": {\"68\": 2, \"58\": 3, \"85\": 1, \"103\": 1, \"112\": 1, \"25\": 1, \"42\": 1, \"41\": 1, \"95\": 1}, \"47\": {\"47\": 12}, \"24\": {\"109\": 2, \"24\": 8, \"30\": 2}, \"19\": {\"52\": 1, \"83\": 1, \"19\": 7, \"32\": 1, \"33\": 1, \"128\": 1}, \"11\": {\"109\": 1, \"11\": 7, \"110\": 1, \"94\": 1, \"126\": 1, \"43\": 1}, \"52\": {\"52\": 11, \"32\": 1}, \"17\": {\"68\": 1, \"17\": 9, \"67\": 1, \"5\": 1}, \"25\": {\"25\": 8, \"42\": 1, \"81\": 1, \"58\": 1, \"20\": 1}, \"69\": {\"69\": 11, \"71\": 1}, \"96\": {\"11\": 2, \"96\": 5, \"39\": 1, \"106\": 1, \"97\": 1, \"15\": 1, \"43\": 1}, \"109\": {\"24\": 4, \"109\": 8}, \"115\": {\"115\": 9, \"25\": 1, \"38\": 1, \"4\": 1}, \"83\": {\"47\": 2, \"50\": 1, \"1\": 2, \"33\": 1, \"4\": 1, \"82\": 1, \"99\": 1, \"103\": 1, \"9\": 1, \"52\": 1}, \"84\": {\"84\": 5, \"11\": 1, \"16\": 3, \"101\": 1, \"127\": 1, \"12\": 1}, \"119\": {\"119\": 8, \"124\": 1, \"79\": 1}, \"122\": {\"23\": 2, \"122\": 3, \"113\": 1, \"10\": 1, \"87\": 2, \"24\": 1}, \"99\": {\"74\": 2, \"99\": 7, \"41\": 1, \"81\": 1, \"14\": 1}, \"1\": {\"16\": 1, \"1\": 10, \"62\": 1}, \"74\": {\"99\": 1, \"111\": 1, \"74\": 6, \"64\": 1, \"48\": 1, \"81\": 1, \"14\": 1}, \"85\": {\"85\": 7, \"23\": 1, \"73\": 2, \"87\": 2}, \"127\": {\"84\": 1, \"127\": 10, \"40\": 1}, \"111\": {\"53\": 1, \"111\": 9, \"37\": 1, \"58\": 1}, \"53\": {\"53\": 9, \"34\": 1, \"9\": 1, \"31\": 1}, \"88\": {\"88\": 12}, \"65\": {\"119\": 2, \"65\": 3, \"86\": 1, \"129\": 1, \"102\": 2, \"83\": 1}, \"7\": {\"7\": 7, \"127\": 1, \"35\": 2, \"23\": 1, \"21\": 1}, \"16\": {\"84\": 2, \"105\": 1, \"10\": 1, \"16\": 7, \"49\": 1}, \"128\": {\"73\": 1, \"128\": 3, \"20\": 1, \"112\": 1, \"98\": 1, \"8\": 2, \"107\": 1, \"61\": 1, \"9\": 1}, \"34\": {\"92\": 2, \"9\": 1, \"34\": 4, \"3\": 1, \"76\": 2, \"44\": 1, \"127\": 1}, \"129\": {\"17\": 1, \"41\": 1, \"5\": 1, \"46\": 1, \"129\": 6, \"80\": 1, \"81\": 1}, \"43\": {\"43\": 10, \"0\": 1, \"10\": 1}, \"92\": {\"92\": 12}, \"28\": {\"41\": 1, \"17\": 1, \"47\": 1, \"28\": 4, \"82\": 2, \"19\": 1, \"55\": 1, \"61\": 1}, \"27\": {\"27\": 9, \"30\": 3}, \"114\": {\"114\": 10, \"9\": 1, \"40\": 1}, \"73\": {\"128\": 2, \"73\": 6, \"50\": 1, \"46\": 1, \"77\": 2}, \"0\": {\"43\": 3, \"0\": 4, \"8\": 2, \"71\": 1, \"12\": 1, \"36\": 1}, \"104\": {\"68\": 1, \"104\": 6, \"5\": 2, \"45\": 1, \"41\": 1, \"86\": 1}, \"118\": {\"118\": 10, \"43\": 1, \"71\": 1}, \"41\": {\"41\": 5, \"49\": 1, \"90\": 1, \"45\": 1, \"61\": 1, \"96\": 1, \"52\": 1, \"83\": 1}, \"49\": {\"49\": 5, \"72\": 3, \"56\": 1, \"1\": 1, \"89\": 1, \"52\": 1}, \"14\": {\"14\": 6, \"26\": 1, \"62\": 1, \"32\": 2, \"31\": 2}, \"46\": {\"86\": 1, \"66\": 1, \"55\": 1, \"109\": 1, \"46\": 1, \"28\": 1, \"17\": 1, \"85\": 1, \"22\": 1, \"57\": 1, \"104\": 2}, \"33\": {\"76\": 1, \"33\": 11}, \"76\": {\"76\": 5, \"23\": 1, \"97\": 1, \"122\": 1, \"34\": 1, \"74\": 1, \"15\": 1, \"72\": 1}, \"125\": {\"129\": 2, \"125\": 9, \"38\": 1}, \"86\": {\"5\": 1, \"129\": 1, \"64\": 1, \"86\": 2, \"72\": 2, \"77\": 1, \"103\": 2}, \"66\": {\"66\": 5, \"64\": 2, \"41\": 1, \"38\": 1, \"61\": 1, \"82\": 1, \"35\": 1}, \"5\": {\"5\": 9, \"61\": 2, \"68\": 1}, \"117\": {\"61\": 1, \"67\": 3, \"117\": 5, \"102\": 1, \"45\": 1, \"38\": 1}, \"75\": {\"75\": 8, \"91\": 1, \"114\": 1, \"11\": 1, \"53\": 1}, \"61\": {\"61\": 8, \"98\": 1, \"20\": 2, \"128\": 1}, \"50\": {\"50\": 7, \"31\": 1, \"27\": 1, \"90\": 1, \"73\": 1, \"116\": 1}, \"67\": {\"117\": 1, \"67\": 6, \"46\": 1, \"104\": 1, \"13\": 1}, \"18\": {\"18\": 9, \"44\": 1, \"113\": 1, \"16\": 1}, \"98\": {\"98\": 10, \"75\": 1, \"52\": 1}, \"55\": {\"55\": 8, \"5\": 1, \"45\": 1}, \"32\": {\"32\": 5, \"31\": 1, \"49\": 1, \"44\": 1, \"105\": 2, \"85\": 1, \"128\": 1}, \"120\": {\"120\": 8, \"57\": 1, \"79\": 1, \"111\": 1, \"100\": 1}, \"97\": {\"97\": 8, \"70\": 3, \"36\": 1}, \"126\": {\"97\": 2, \"126\": 8, \"27\": 1, \"30\": 1}, \"45\": {\"55\": 3, \"57\": 1, \"120\": 1, \"121\": 1, \"45\": 3, \"63\": 1, \"117\": 1, \"2\": 1}, \"78\": {\"93\": 1, \"122\": 1, \"78\": 5, \"10\": 1, \"108\": 2}, \"100\": {\"100\": 6, \"72\": 1, \"19\": 2, \"114\": 1, \"32\": 1, \"73\": 1}, \"107\": {\"107\": 11, \"34\": 1}, \"93\": {\"93\": 7, \"12\": 1, \"97\": 2, \"39\": 2}, \"77\": {\"77\": 10, \"103\": 2}, \"63\": {\"65\": 1, \"115\": 3, \"2\": 1, \"63\": 4, \"102\": 2, \"25\": 1}, \"112\": {\"112\": 12}, \"113\": {\"113\": 9, \"69\": 2, \"11\": 1}, \"103\": {\"85\": 2, \"56\": 1, \"103\": 4, \"77\": 1, \"83\": 1, \"98\": 1}, \"71\": {\"71\": 12}, \"30\": {\"30\": 7, \"24\": 1, \"27\": 1, \"109\": 1, \"126\": 2}, \"90\": {\"90\": 5, \"85\": 1, \"29\": 1, \"95\": 2, \"54\": 1, \"82\": 1, \"99\": 1}, \"37\": {\"71\": 1, \"37\": 5, \"44\": 2, \"112\": 1, \"34\": 1, \"53\": 1, \"23\": 1}, \"60\": {\"60\": 4, \"118\": 1, \"96\": 1, \"39\": 1, \"71\": 1, \"101\": 1, \"11\": 1, \"23\": 1, \"106\": 1}, \"15\": {\"15\": 8, \"0\": 1, \"36\": 1, \"27\": 1, \"108\": 1}, \"39\": {\"39\": 8, \"70\": 1, \"87\": 2, \"93\": 1}, \"72\": {\"49\": 2, \"35\": 1, \"72\": 4, \"1\": 1, \"51\": 2, \"60\": 1, \"75\": 1}, \"54\": {\"54\": 11, \"95\": 1}, \"35\": {\"96\": 4, \"87\": 1, \"35\": 5, \"84\": 1, \"12\": 1}, \"2\": {\"117\": 1, \"2\": 7, \"59\": 1, \"79\": 1, \"57\": 2}, \"94\": {\"94\": 7, \"15\": 1, \"88\": 1, \"36\": 1, \"70\": 1, \"109\": 1}, \"42\": {\"25\": 4, \"42\": 6, \"124\": 1, \"82\": 1}, \"81\": {\"81\": 4, \"114\": 1, \"105\": 1, \"107\": 1, \"74\": 2, \"100\": 1, \"82\": 1, \"83\": 1}, \"8\": {\"8\": 12}, \"87\": {\"87\": 7, \"35\": 1, \"110\": 2, \"8\": 1, \"71\": 1}, \"6\": {\"6\": 5, \"53\": 1, \"42\": 1, \"112\": 1, \"41\": 1, \"98\": 2, \"111\": 1}, \"36\": {\"97\": 1, \"36\": 9, \"94\": 1, \"10\": 1}, \"91\": {\"91\": 7, \"72\": 1, \"33\": 1, \"20\": 1, \"47\": 1, \"101\": 1}, \"56\": {\"49\": 2, \"56\": 5, \"127\": 1, \"126\": 1, \"75\": 1, \"51\": 2}, \"80\": {\"80\": 8, \"79\": 2, \"23\": 1, \"45\": 1}, \"124\": {\"124\": 4, \"41\": 1, \"100\": 1, \"79\": 1, \"5\": 1, \"65\": 1, \"103\": 1}, \"44\": {\"44\": 10, \"101\": 1, \"71\": 1}, \"13\": {\"13\": 7, \"102\": 1, \"123\": 1, \"41\": 1, \"17\": 1, \"99\": 1}, \"10\": {\"10\": 7, \"36\": 1, \"21\": 2, \"70\": 1, \"88\": 1}, \"59\": {\"59\": 10, \"120\": 1, \"58\": 1}, \"95\": {\"95\": 7, \"52\": 1, \"120\": 1, \"38\": 1, \"101\": 1, \"54\": 1}, \"105\": {\"105\": 6, \"126\": 1, \"1\": 1, \"45\": 1, \"16\": 2, \"49\": 1}, \"101\": {\"1\": 1, \"105\": 1, \"101\": 10}, \"20\": {\"20\": 8, \"50\": 1, \"114\": 1, \"40\": 1, \"85\": 1}, \"48\": {\"91\": 1, \"48\": 7, \"79\": 1, \"2\": 1, \"125\": 1, \"123\": 1}, \"106\": {\"51\": 1, \"106\": 10, \"101\": 1}, \"51\": {\"51\": 9, \"35\": 1, \"44\": 1, \"72\": 1}, \"21\": {\"21\": 12}, \"123\": {\"123\": 11, \"125\": 1}, \"121\": {\"128\": 1, \"38\": 1, \"91\": 1, \"116\": 3, \"121\": 2, \"5\": 2, \"90\": 1, \"65\": 1}, \"38\": {\"38\": 7, \"52\": 1, \"81\": 1, \"54\": 1, \"66\": 1, \"29\": 1}, \"62\": {\"62\": 11, \"106\": 1}, \"29\": {\"29\": 12}, \"82\": {\"90\": 1, \"82\": 11}, \"116\": {\"116\": 9, \"120\": 1, \"79\": 1, \"124\": 1}, \"12\": {\"51\": 1, \"12\": 4, \"23\": 2, \"0\": 1}}, \"W_A_2\": {\"91\": {\"33\": 3, \"91\": 5, \"115\": 1, \"41\": 1, \"29\": 1, \"59\": 1}, \"12\": {\"12\": 8, \"106\": 1, \"36\": 1, \"110\": 1, \"94\": 1}, \"101\": {\"101\": 9, \"0\": 1}, \"121\": {\"28\": 1, \"91\": 1, \"35\": 1, \"64\": 2, \"119\": 1, \"124\": 1, \"65\": 1, \"92\": 1, \"45\": 1, \"73\": 1, \"123\": 1}, \"118\": {\"106\": 1, \"118\": 3, \"97\": 2, \"113\": 4, \"10\": 1, \"39\": 1}, \"10\": {\"88\": 2, \"10\": 5, \"21\": 1, \"24\": 1, \"36\": 1, \"70\": 2}, \"117\": {\"117\": 5, \"17\": 1, \"37\": 1, \"63\": 2, \"86\": 1, \"2\": 1, \"121\": 1}, \"110\": {\"110\": 8, \"88\": 1, \"113\": 1, \"93\": 2}, \"97\": {\"97\": 5, \"86\": 1, \"11\": 1, \"15\": 1, \"122\": 1, \"37\": 1, \"43\": 1, \"106\": 1}, \"28\": {\"88\": 1, \"28\": 4, \"124\": 1, \"41\": 1, \"76\": 1, \"120\": 1, \"14\": 1, \"73\": 1, \"25\": 1}, \"88\": {\"88\": 8, \"36\": 1, \"24\": 1, \"39\": 1, \"21\": 1}, \"17\": {\"86\": 1, \"17\": 3, \"64\": 2, \"115\": 2, \"78\": 1, \"102\": 1, \"65\": 2}, \"126\": {\"126\": 9, \"88\": 1, \"36\": 1, \"43\": 1}, \"33\": {\"33\": 10, \"14\": 1, \"112\": 1}, \"86\": {\"86\": 8, \"17\": 1, \"66\": 1, \"125\": 1, \"2\": 1}, \"106\": {\"101\": 2, \"106\": 7, \"97\": 1, \"35\": 1, \"15\": 1}, \"54\": {\"54\": 11, \"107\": 1}, \"125\": {\"125\": 7, \"123\": 2, \"22\": 1, \"42\": 2}, \"83\": {\"83\": 6, \"54\": 1, \"107\": 1, \"59\": 1, \"62\": 1, \"38\": 1, \"84\": 1}, \"98\": {\"98\": 8, \"20\": 2, \"19\": 1, \"25\": 1}, \"11\": {\"11\": 9, \"108\": 1, \"126\": 1, \"27\": 1}, \"32\": {\"32\": 7, \"95\": 1, \"47\": 1, \"59\": 1, \"56\": 1, \"100\": 1}, \"42\": {\"125\": 1, \"83\": 1, \"25\": 1, \"42\": 4, \"117\": 1, \"129\": 2, \"91\": 1, \"59\": 1}, \"103\": {\"103\": 7, \"123\": 1, \"124\": 1, \"76\": 1, \"73\": 1, \"111\": 1}, \"87\": {\"97\": 1, \"118\": 2, \"87\": 5, \"94\": 2, \"108\": 1, \"126\": 1}, \"61\": {\"11\": 1, \"61\": 6, \"74\": 1, \"1\": 1, \"47\": 1, \"81\": 1, \"83\": 1}, \"13\": {\"13\": 8, \"120\": 1, \"119\": 1, \"48\": 1, \"57\": 1}, \"4\": {\"4\": 6, \"119\": 2, \"80\": 1, \"17\": 1, \"13\": 1, \"98\": 1}, \"15\": {\"15\": 8, \"11\": 1, \"126\": 1}, \"120\": {\"49\": 1, \"52\": 1, \"120\": 3, \"99\": 1, \"72\": 1, \"50\": 1, \"5\": 2, \"103\": 1, \"28\": 1}, \"80\": {\"80\": 9, \"13\": 1, \"48\": 2}, \"72\": {\"52\": 2, \"72\": 3, \"107\": 2, \"53\": 1, \"100\": 1, \"56\": 1}, \"64\": {\"120\": 1, \"64\": 8, \"112\": 1, \"45\": 1, \"19\": 1}, \"81\": {\"129\": 1, \"81\": 3, \"69\": 1, \"38\": 1, \"37\": 1, \"19\": 1, \"99\": 1, \"61\": 1, \"82\": 2}, \"102\": {\"102\": 11, \"65\": 1}, \"76\": {\"49\": 1, \"76\": 2, \"65\": 1, \"75\": 1, \"45\": 2, \"120\": 2, \"85\": 1, \"73\": 1, \"103\": 1}, \"49\": {\"49\": 4, \"114\": 3, \"110\": 1, \"20\": 1, \"21\": 1}, \"129\": {\"81\": 1, \"64\": 3, \"50\": 3, \"82\": 1, \"129\": 2, \"115\": 2}, \"89\": {\"64\": 2, \"89\": 5, \"61\": 1, \"57\": 1, \"38\": 1, \"55\": 1, \"66\": 1}, \"52\": {\"52\": 5, \"47\": 1, \"114\": 1, \"44\": 1, \"112\": 2, \"76\": 2}, \"35\": {\"35\": 7, \"96\": 1, \"23\": 1, \"101\": 2, \"106\": 1}, \"53\": {\"53\": 3, \"98\": 1, \"128\": 3, \"122\": 1, \"29\": 1, \"20\": 2, \"70\": 1}, \"112\": {\"54\": 1, \"112\": 5, \"44\": 3, \"41\": 1, \"76\": 1, \"90\": 1}, \"105\": {\"105\": 7, \"127\": 2, \"71\": 2, \"62\": 1}, \"100\": {\"92\": 1, \"100\": 8, \"95\": 1, \"109\": 1, \"56\": 1}, \"9\": {\"51\": 2, \"9\": 7, \"12\": 1, \"101\": 2}, \"82\": {\"82\": 9, \"64\": 1, \"50\": 1, \"117\": 1}, \"51\": {\"51\": 7, \"9\": 2, \"32\": 1, \"127\": 1, \"109\": 1}, \"21\": {\"21\": 12}, \"92\": {\"64\": 1, \"77\": 1, \"85\": 1, \"25\": 1, \"32\": 1, \"99\": 1, \"92\": 2, \"112\": 1, \"84\": 1, \"57\": 2}, \"69\": {\"69\": 8, \"12\": 1, \"40\": 1, \"18\": 2}, \"77\": {\"77\": 7, \"51\": 2, \"6\": 1, \"119\": 2}, \"50\": {\"16\": 1, \"123\": 1, \"50\": 6, \"82\": 1, \"128\": 1, \"45\": 1, \"52\": 1}, \"36\": {\"36\": 12}, \"16\": {\"127\": 1, \"8\": 1, \"16\": 7, \"24\": 1, \"110\": 1, \"78\": 1}, \"8\": {\"16\": 1, \"87\": 1, \"8\": 8, \"106\": 1, \"96\": 1}, \"127\": {\"127\": 12}, \"46\": {\"123\": 1, \"46\": 6, \"63\": 1, \"90\": 1, \"73\": 1}, \"84\": {\"18\": 1, \"84\": 8, \"62\": 1, \"105\": 1, \"107\": 1}, \"18\": {\"18\": 12}, \"123\": {\"123\": 6, \"42\": 2, \"46\": 1, \"121\": 1}, \"56\": {\"87\": 1, \"56\": 5, \"83\": 1, \"1\": 1, \"35\": 1, \"54\": 1, \"52\": 1, \"32\": 1}, \"26\": {\"26\": 10, \"18\": 2}, \"14\": {\"24\": 1, \"14\": 2, \"83\": 1, \"72\": 1, \"62\": 1, \"74\": 1, \"69\": 2, \"97\": 1, \"43\": 1, \"27\": 1}, \"109\": {\"109\": 3, \"24\": 1, \"36\": 2, \"126\": 1, \"108\": 3, \"94\": 1, \"30\": 1}, \"66\": {\"66\": 4, \"92\": 1, \"63\": 1, \"73\": 1, \"5\": 1, \"55\": 2, \"85\": 1, \"103\": 1}, \"24\": {\"24\": 12}, \"71\": {\"76\": 1, \"71\": 7, \"30\": 1, \"62\": 2, \"60\": 1}, \"65\": {\"65\": 4, \"80\": 2, \"29\": 1, \"112\": 1, \"50\": 1, \"129\": 1, \"41\": 1, \"22\": 1}, \"75\": {\"87\": 1, \"75\": 7, \"29\": 1, \"44\": 1, \"16\": 1, \"21\": 1}, \"111\": {\"66\": 2, \"37\": 1, \"111\": 8, \"63\": 1}, \"30\": {\"10\": 1, \"30\": 8, \"126\": 1, \"94\": 1, \"24\": 1}, \"85\": {\"29\": 1, \"85\": 4, \"68\": 1, \"90\": 1, \"2\": 1, \"76\": 1, \"77\": 1, \"119\": 1, \"92\": 1}, \"113\": {\"113\": 7, \"32\": 1, \"21\": 1, \"71\": 1}, \"45\": {\"45\": 4, \"116\": 3, \"17\": 2, \"68\": 1, \"121\": 2}, \"29\": {\"25\": 3, \"114\": 1, \"53\": 1, \"59\": 1, \"58\": 1, \"29\": 1, \"32\": 1, \"77\": 1, \"23\": 1, \"61\": 1}, \"20\": {\"29\": 1, \"75\": 1, \"20\": 5, \"33\": 1, \"44\": 1, \"53\": 1, \"40\": 1, \"16\": 1}, \"25\": {\"25\": 7, \"16\": 1, \"41\": 1, \"19\": 1, \"29\": 1, \"68\": 1}, \"0\": {\"0\": 9, \"36\": 1, \"12\": 1, \"88\": 1}, \"68\": {\"68\": 10, \"53\": 1, \"128\": 1}, \"119\": {\"81\": 1, \"38\": 1, \"119\": 7, \"4\": 1, \"120\": 2}, \"90\": {\"81\": 1, \"99\": 1, \"90\": 3, \"28\": 1, \"20\": 1, \"55\": 1, \"85\": 2, \"46\": 1, \"100\": 1}, \"38\": {\"38\": 9, \"68\": 1, \"81\": 2}, \"99\": {\"90\": 2, \"99\": 5, \"47\": 1, \"59\": 1, \"121\": 1, \"55\": 1, \"3\": 1}, \"1\": {\"1\": 7, \"53\": 1, \"114\": 1, \"95\": 2, \"40\": 1}, \"67\": {\"4\": 1, \"1\": 1, \"67\": 7, \"109\": 1, \"42\": 1, \"29\": 1}, \"63\": {\"63\": 7, \"55\": 1, \"117\": 2, \"111\": 1, \"37\": 1}, \"34\": {\"40\": 1, \"34\": 5, \"32\": 1, \"47\": 2, \"53\": 1, \"44\": 2}, \"108\": {\"108\": 10, \"126\": 2}, \"40\": {\"69\": 2, \"128\": 2, \"114\": 1, \"40\": 2, \"1\": 2, \"71\": 1, \"32\": 2}, \"47\": {\"33\": 2, \"47\": 9, \"22\": 1}, \"37\": {\"37\": 8, \"102\": 1, \"5\": 1, \"63\": 1, \"119\": 1}, \"78\": {\"21\": 2, \"78\": 8, \"24\": 2}, \"96\": {\"47\": 2, \"96\": 4, \"3\": 2, \"54\": 1, \"8\": 1, \"23\": 1, \"60\": 1}, \"43\": {\"43\": 4, \"21\": 1, \"11\": 1, \"15\": 1, \"126\": 2, \"108\": 2, \"110\": 1}, \"5\": {\"5\": 7, \"73\": 2, \"121\": 1}, \"124\": {\"67\": 1, \"5\": 1, \"124\": 6, \"95\": 1, \"49\": 1, \"64\": 2}, \"44\": {\"20\": 1, \"44\": 8, \"19\": 1, \"52\": 1, \"25\": 1}, \"41\": {\"5\": 1, \"42\": 1, \"112\": 1, \"41\": 4, \"25\": 1, \"114\": 1, \"120\": 1, \"8\": 1, \"129\": 1}, \"116\": {\"120\": 2, \"116\": 6, \"124\": 1, \"22\": 1, \"50\": 1, \"17\": 1}, \"19\": {\"19\": 7, \"55\": 1, \"57\": 1, \"42\": 1, \"26\": 1, \"38\": 1}, \"115\": {\"65\": 1, \"115\": 7, \"119\": 1, \"2\": 2, \"79\": 1}, \"95\": {\"26\": 1, \"18\": 1, \"95\": 3, \"70\": 1, \"84\": 3, \"19\": 1, \"49\": 2}, \"3\": {\"26\": 2, \"23\": 2, \"3\": 5, \"60\": 1}, \"59\": {\"5\": 1, \"55\": 1, \"59\": 3, \"107\": 1, \"31\": 1, \"128\": 2, \"129\": 2, \"115\": 1}, \"55\": {\"19\": 2, \"55\": 6, \"46\": 1, \"89\": 2, \"33\": 1}, \"70\": {\"70\": 8, \"108\": 3, \"10\": 1}, \"6\": {\"6\": 5, \"25\": 1, \"100\": 1, \"68\": 1, \"41\": 2, \"98\": 1, \"59\": 1}, \"2\": {\"6\": 1, \"37\": 2, \"2\": 6, \"85\": 1, \"129\": 1, \"119\": 1}, \"48\": {\"48\": 9, \"2\": 1, \"119\": 1, \"57\": 1}, \"23\": {\"84\": 1, \"122\": 2, \"23\": 4, \"39\": 1, \"7\": 1, \"14\": 1, \"126\": 1, \"94\": 1}, \"7\": {\"108\": 2, \"7\": 4, \"122\": 2, \"106\": 2, \"12\": 2}, \"122\": {\"122\": 8, \"7\": 1, \"94\": 1, \"39\": 1, \"118\": 1}, \"57\": {\"117\": 1, \"108\": 1, \"57\": 6, \"29\": 1, \"22\": 1, \"30\": 1, \"92\": 1}, \"39\": {\"39\": 7, \"10\": 1, \"70\": 1, \"21\": 1}, \"79\": {\"79\": 6, \"116\": 1, \"2\": 1, \"129\": 1, \"125\": 1, \"124\": 1, \"64\": 1}, \"27\": {\"27\": 9, \"78\": 1}, \"74\": {\"74\": 5, \"107\": 1, \"70\": 1, \"45\": 1, \"31\": 1, \"78\": 1, \"8\": 1, \"61\": 1}, \"73\": {\"73\": 8, \"34\": 1, \"37\": 1, \"31\": 1, \"103\": 1}, \"62\": {\"62\": 11, \"84\": 1}, \"107\": {\"107\": 9, \"128\": 1, \"31\": 2}, \"128\": {\"34\": 1, \"40\": 2, \"128\": 4, \"58\": 1, \"9\": 1, \"105\": 1, \"53\": 2}, \"60\": {\"60\": 6, \"7\": 1, \"93\": 2, \"98\": 1, \"3\": 1, \"23\": 1}, \"114\": {\"40\": 1, \"114\": 9, \"47\": 1, \"74\": 1}, \"22\": {\"121\": 2, \"73\": 2, \"31\": 1, \"104\": 1, \"22\": 3, \"66\": 1, \"116\": 1, \"103\": 1}, \"93\": {\"93\": 9, \"49\": 1, \"43\": 1, \"51\": 1}, \"94\": {\"94\": 8, \"39\": 2, \"88\": 2}, \"31\": {\"53\": 2, \"31\": 3, \"92\": 2, \"45\": 1, \"107\": 2}, \"104\": {\"104\": 10, \"59\": 1, \"67\": 1}, \"58\": {\"58\": 7, \"128\": 2, \"9\": 1, \"68\": 1, \"71\": 1}}, \"C_A_2\": {\"14\": {\"14\": 7, \"47\": 1, \"41\": 2, \"36\": 1, \"1\": 1}, \"22\": {\"22\": 7, \"56\": 2, \"0\": 2, \"46\": 1}, \"9\": {\"4\": 1, \"9\": 10, \"57\": 1}, \"47\": {\"56\": 1, \"47\": 6, \"1\": 1, \"45\": 1, \"48\": 1, \"57\": 2}, \"13\": {\"13\": 10, \"38\": 1, \"41\": 1}, \"8\": {\"8\": 11, \"27\": 1}, \"7\": {\"7\": 10, \"43\": 1, \"39\": 1}, \"49\": {\"34\": 1, \"49\": 9, \"31\": 1, \"7\": 1}, \"20\": {\"20\": 11, \"14\": 1}, \"16\": {\"26\": 1, \"16\": 9, \"11\": 1, \"15\": 1}, \"34\": {\"34\": 11, \"10\": 1}, \"56\": {\"56\": 8, \"22\": 3, \"5\": 1}, \"38\": {\"38\": 10}, \"4\": {\"14\": 1, \"4\": 4, \"2\": 1, \"57\": 1, \"45\": 1, \"1\": 2, \"48\": 2}, \"43\": {\"43\": 5, \"24\": 1, \"33\": 1, \"55\": 1, \"54\": 2}, \"26\": {\"26\": 10}, \"35\": {\"35\": 11, \"36\": 1}, \"31\": {\"31\": 11, \"7\": 1}, \"1\": {\"22\": 2, \"1\": 9, \"50\": 1}, \"39\": {\"31\": 2, \"39\": 7, \"36\": 1, \"7\": 1, \"55\": 1}, \"5\": {\"5\": 4, \"44\": 2, \"3\": 3, \"50\": 2, \"46\": 1}, \"24\": {\"24\": 12}, \"54\": {\"24\": 1, \"31\": 2, \"54\": 7}, \"23\": {\"23\": 9, \"54\": 1, \"17\": 2}, \"51\": {\"51\": 12}, \"27\": {\"27\": 8, \"8\": 2}, \"15\": {\"15\": 5, \"23\": 1, \"11\": 2, \"28\": 1, \"53\": 2, \"10\": 1}, \"0\": {\"56\": 1, \"0\": 4, \"44\": 1, \"30\": 2, \"1\": 1, \"47\": 1, \"52\": 1, \"22\": 1}, \"19\": {\"19\": 6, \"34\": 2, \"11\": 1, \"53\": 1}, \"18\": {\"18\": 8}, \"30\": {\"0\": 4, \"30\": 4, \"1\": 2, \"48\": 1, \"40\": 1}, \"55\": {\"13\": 2, \"33\": 1, \"55\": 5, \"36\": 1, \"39\": 1}, \"57\": {\"4\": 1, \"57\": 5, \"9\": 5, \"38\": 1}, \"2\": {\"2\": 8, \"14\": 2, \"41\": 2}, \"12\": {\"12\": 7, \"44\": 1}, \"41\": {\"41\": 10, \"12\": 1, \"39\": 1}, \"42\": {\"42\": 11, \"34\": 1}, \"48\": {\"48\": 7, \"52\": 1, \"30\": 1, \"4\": 2, \"47\": 1}, \"37\": {\"37\": 12}, \"6\": {\"6\": 7, \"3\": 3}, \"11\": {\"15\": 1, \"11\": 4, \"16\": 1, \"26\": 1, \"28\": 1, \"25\": 1, \"10\": 1}, \"45\": {\"6\": 2, \"45\": 5, \"3\": 1}, \"21\": {\"21\": 12}, \"46\": {\"46\": 6, \"3\": 3, \"5\": 1}, \"25\": {\"11\": 2, \"25\": 10}, \"36\": {\"36\": 10}, \"53\": {\"53\": 12}, \"28\": {\"28\": 12}, \"40\": {\"48\": 2, \"40\": 7, \"47\": 1}, \"33\": {\"33\": 8, \"32\": 1, \"29\": 1}, \"44\": {\"44\": 6, \"3\": 2, \"1\": 1, \"0\": 1}, \"3\": {\"3\": 9, \"46\": 1, \"5\": 1, \"6\": 1}, \"17\": {\"42\": 1, \"17\": 8, \"35\": 1, \"23\": 2}, \"32\": {\"32\": 6, \"36\": 2, \"31\": 1, \"29\": 1}, \"10\": {\"10\": 10}, \"52\": {\"52\": 6, \"0\": 1, \"22\": 2, \"40\": 1}, \"50\": {\"3\": 1, \"50\": 2, \"5\": 2, \"40\": 1, \"21\": 2}, \"29\": {\"29\": 4, \"57\": 1, \"52\": 1}}}, \"per_domain_accuracy\": {\"ORACLE.run1_14\": {\"accuracy\": 0.8723958333333334, \"source?\": true}, \"ORACLE.run1_20\": {\"accuracy\": 0.8692708333333333, \"source?\": true}, \"ORACLE.run1_38\": {\"accuracy\": 0.89375, \"source?\": true}, \"ORACLE.run1_8\": {\"accuracy\": 0.8544270833333333, \"source?\": true}, \"ORACLE.run1_50\": {\"accuracy\": 0.9005208333333333, \"source?\": true}, \"ORACLE.run1_32\": {\"accuracy\": 0.8598958333333333, \"source?\": true}, \"ORACLE.run1_26\": {\"accuracy\": 0.7859375, \"source?\": true}, \"ORACLE.run1_44\": {\"accuracy\": 0.82578125, \"source?\": true}, \"C_A_3\": {\"accuracy\": 0.675, \"source?\": false}, \"C_A_4\": {\"accuracy\": 0.7, \"source?\": false}, \"W_A_3\": {\"accuracy\": 0.5455729166666666, \"source?\": false}, \"C_A_5\": {\"accuracy\": 0.709375, \"source?\": false}, \"C_A_1\": {\"accuracy\": 0.74375, \"source?\": false}, \"W_A_4\": {\"accuracy\": 0.525390625, \"source?\": false}, \"W_A_1\": {\"accuracy\": 0.6178385416666666, \"source?\": false}, \"W_A_2\": {\"accuracy\": 0.5475260416666666, \"source?\": false}, \"C_A_2\": {\"accuracy\": 0.725, \"source?\": false}}}, \"history\": {\"epoch_indices\": [1, 2, 3, 4, 5, 6, 7], \"train_label_loss\": [0.45830286416069915, 13.322914348177184, 0.7852963719109539, 0.3612073896752138, 0.3521262048790786, 0.32163290531441036, 0.3018868126099863], \"source_val_label_loss\": [3088.100830078125, 0.35166189074516296, 0.4105944037437439, 0.35857611894607544, 0.3385360538959503, 0.3137369751930237, 0.3078392744064331], \"target_val_label_loss\": [997607.0, 294696.5, 242474.359375, 396695.9375, 544445.0, 606404.6875, 636053.625], \"source_val_acc_label\": [0.688671875, 0.8757161458333333, 0.8577473958333334, 0.8712890625, 0.8789713541666667, 0.8927408854166666, 0.8902669270833333], \"target_val_acc_label\": [0.5573630136986302, 0.623929794520548, 0.610980308219178, 0.5724529109589042, 0.4965753424657534, 0.5170162671232876, 0.5331763698630136]}, \"dataset_metrics\": {\"source\": {\"train\": {\"n_unique_x\": 179200, \"n_unique_y\": 16, \"n_batch/episode\": 6720}, \"val\": {\"n_unique_x\": 38400, \"n_unique_y\": 16, \"n_batch/episode\": 960}, \"test\": {\"n_unique_x\": 38400, \"n_unique_y\": 16, \"n_batch/episode\": 960}}, \"target\": {\"train\": {\"n_unique_x\": 56700, \"n_unique_y\": 130, \"n_batch/episode\": 2080}, \"val\": {\"n_unique_x\": 12132, \"n_unique_y\": 130, \"n_batch/episode\": 292}, \"test\": {\"n_unique_x\": 12132, \"n_unique_y\": 130, \"n_batch/episode\": 292}}}}'"
      ]
     },
     "execution_count": 29,
     "metadata": {},
     "output_type": "execute_result"
    }
   ],
   "source": [
    "json.dumps(experiment)"
   ]
  }
 ],
 "metadata": {
  "celltoolbar": "Tags",
  "kernelspec": {
   "display_name": "Python 3 (ipykernel)",
   "language": "python",
   "name": "python3"
  },
  "language_info": {
   "codemirror_mode": {
    "name": "ipython",
    "version": 3
   },
   "file_extension": ".py",
   "mimetype": "text/x-python",
   "name": "python",
   "nbconvert_exporter": "python",
   "pygments_lexer": "ipython3",
   "version": "3.8.10"
  },
  "papermill": {
   "default_parameters": {},
   "duration": 2082.142633,
   "end_time": "2022-03-18T03:26:58.990615",
   "environment_variables": {},
   "exception": null,
   "input_path": "/mnt/wd500GB/CSC500/csc500-main/csc500-notebooks/templates/tl_ptn_template.ipynb",
   "output_path": "trial.ipynb",
   "parameters": {
    "parameters": {
     "BEST_MODEL_PATH": "./best_model.pth",
     "NUM_LOGS_PER_EPOCH": 10,
     "criteria_for_best": "target_loss",
     "dataset_seed": 1337,
     "datasets": [
      {
       "domain_prefix": "C_A_",
       "domains": [
        1,
        2,
        3,
        4,
        5
       ],
       "episode_transforms": [],
       "labels": [
        "1-10.",
        "1-11.",
        "1-15.",
        "1-16.",
        "1-17.",
        "1-18.",
        "1-19.",
        "10-4.",
        "10-7.",
        "11-1.",
        "11-14.",
        "11-17.",
        "11-20.",
        "11-7.",
        "13-20.",
        "13-8.",
        "14-10.",
        "14-11.",
        "14-14.",
        "14-7.",
        "15-1.",
        "15-20.",
        "16-1.",
        "16-16.",
        "17-10.",
        "17-11.",
        "17-2.",
        "19-1.",
        "19-16.",
        "19-19.",
        "19-20.",
        "19-3.",
        "2-10.",
        "2-11.",
        "2-17.",
        "2-18.",
        "2-20.",
        "2-3.",
        "2-4.",
        "2-5.",
        "2-6.",
        "2-7.",
        "2-8.",
        "3-13.",
        "3-18.",
        "3-3.",
        "4-1.",
        "4-10.",
        "4-11.",
        "4-19.",
        "5-5.",
        "6-15.",
        "7-10.",
        "7-14.",
        "8-18.",
        "8-20.",
        "8-3.",
        "8-8."
       ],
       "num_examples_per_domain_per_label": 100,
       "pickle_path": "/mnt/wd500GB/CSC500/csc500-main/datasets/cores.stratified_ds.2022A.pkl",
       "source_or_target_dataset": "target",
       "x_transforms": [
        "lowpass_+/-10MHz",
        "take_200"
       ]
      },
      {
       "domain_prefix": "W_A_",
       "domains": [
        1,
        2,
        3,
        4
       ],
       "episode_transforms": [],
       "labels": [
        "1-10",
        "1-12",
        "1-14",
        "1-16",
        "1-18",
        "1-19",
        "1-8",
        "10-11",
        "10-17",
        "10-4",
        "10-7",
        "11-1",
        "11-10",
        "11-19",
        "11-20",
        "11-4",
        "11-7",
        "12-19",
        "12-20",
        "12-7",
        "13-14",
        "13-18",
        "13-19",
        "13-20",
        "13-3",
        "13-7",
        "14-10",
        "14-11",
        "14-12",
        "14-13",
        "14-14",
        "14-19",
        "14-20",
        "14-7",
        "14-8",
        "14-9",
        "15-1",
        "15-19",
        "15-6",
        "16-1",
        "16-16",
        "16-19",
        "16-20",
        "17-10",
        "17-11",
        "18-1",
        "18-10",
        "18-11",
        "18-12",
        "18-13",
        "18-14",
        "18-15",
        "18-16",
        "18-17",
        "18-19",
        "18-2",
        "18-20",
        "18-4",
        "18-5",
        "18-7",
        "18-8",
        "18-9",
        "19-1",
        "19-10",
        "19-11",
        "19-12",
        "19-13",
        "19-14",
        "19-15",
        "19-19",
        "19-2",
        "19-20",
        "19-3",
        "19-4",
        "19-6",
        "19-7",
        "19-8",
        "19-9",
        "2-1",
        "2-13",
        "2-15",
        "2-3",
        "2-4",
        "2-5",
        "2-6",
        "2-7",
        "2-8",
        "20-1",
        "20-12",
        "20-14",
        "20-15",
        "20-16",
        "20-18",
        "20-19",
        "20-20",
        "20-3",
        "20-4",
        "20-5",
        "20-7",
        "20-8",
        "3-1",
        "3-13",
        "3-18",
        "3-2",
        "3-8",
        "4-1",
        "4-10",
        "4-11",
        "5-1",
        "5-5",
        "6-1",
        "6-15",
        "6-6",
        "7-10",
        "7-11",
        "7-12",
        "7-13",
        "7-14",
        "7-7",
        "7-8",
        "7-9",
        "8-1",
        "8-13",
        "8-14",
        "8-18",
        "8-20",
        "8-3",
        "8-8",
        "9-1",
        "9-7"
       ],
       "num_examples_per_domain_per_label": 100,
       "pickle_path": "/mnt/wd500GB/CSC500/csc500-main/datasets/wisig.node3-19.stratified_ds.2022A.pkl",
       "source_or_target_dataset": "target",
       "x_transforms": [
        "lowpass_+/-10MHz",
        "take_200"
       ]
      },
      {
       "domain_prefix": "ORACLE.run1_",
       "domains": [
        32,
        38,
        8,
        44,
        14,
        50,
        20,
        26
       ],
       "episode_transforms": [],
       "labels": [
        "3123D52",
        "3123D65",
        "3123D79",
        "3123D80",
        "3123D54",
        "3123D70",
        "3123D7B",
        "3123D89",
        "3123D58",
        "3123D76",
        "3123D7D",
        "3123EFE",
        "3123D64",
        "3123D78",
        "3123D7E",
        "3124E4A"
       ],
       "num_examples_per_domain_per_label": 2000,
       "pickle_path": "/mnt/wd500GB/CSC500/csc500-main/datasets/oracle.Run1_framed_2000Examples_stratified_ds.2022A.pkl",
       "source_or_target_dataset": "source",
       "x_transforms": [
        "take_200",
        "resample_20Msps_to_25Msps"
       ]
      }
     ],
     "device": "cuda",
     "experiment_name": "tl_3-filter:oracle.run1.framed -> cores+wisig",
     "lr": 0.001,
     "n_epoch": 50,
     "n_query": 2,
     "n_shot": 3,
     "n_way": 16,
     "patience": 3,
     "seed": 1337,
     "test_k_factor": 2,
     "torch_default_dtype": "torch.float32",
     "train_k_factor": 3,
     "val_k_factor": 2,
     "x_net": [
      {
       "class": "nnReshape",
       "kargs": {
        "shape": [
         -1,
         1,
         2,
         200
        ]
       }
      },
      {
       "class": "Conv2d",
       "kargs": {
        "bias": false,
        "in_channels": 1,
        "kernel_size": [
         1,
         7
        ],
        "out_channels": 256,
        "padding": [
         0,
         3
        ]
       }
      },
      {
       "class": "ReLU",
       "kargs": {
        "inplace": true
       }
      },
      {
       "class": "BatchNorm2d",
       "kargs": {
        "num_features": 256
       }
      },
      {
       "class": "Conv2d",
       "kargs": {
        "bias": true,
        "in_channels": 256,
        "kernel_size": [
         2,
         7
        ],
        "out_channels": 80,
        "padding": [
         0,
         3
        ]
       }
      },
      {
       "class": "ReLU",
       "kargs": {
        "inplace": true
       }
      },
      {
       "class": "BatchNorm2d",
       "kargs": {
        "num_features": 80
       }
      },
      {
       "class": "Flatten",
       "kargs": {}
      },
      {
       "class": "Linear",
       "kargs": {
        "in_features": 16000,
        "out_features": 256
       }
      },
      {
       "class": "ReLU",
       "kargs": {
        "inplace": true
       }
      },
      {
       "class": "BatchNorm1d",
       "kargs": {
        "num_features": 256
       }
      },
      {
       "class": "Linear",
       "kargs": {
        "in_features": 256,
        "out_features": 256
       }
      }
     ],
     "x_shape": [
      2,
      200
     ]
    }
   },
   "start_time": "2022-03-18T02:52:16.847982",
   "version": "2.3.4"
  }
 },
 "nbformat": 4,
 "nbformat_minor": 5
}