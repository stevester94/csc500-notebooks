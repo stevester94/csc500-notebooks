{
 "cells": [
  {
   "cell_type": "markdown",
   "id": "9fea5f46",
   "metadata": {
    "papermill": {
     "duration": 0.017545,
     "end_time": "2022-03-18T21:02:06.499369",
     "exception": false,
     "start_time": "2022-03-18T21:02:06.481824",
     "status": "completed"
    },
    "tags": []
   },
   "source": [
    "# Transfer Learning Template"
   ]
  },
  {
   "cell_type": "code",
   "execution_count": 1,
   "id": "0902182a",
   "metadata": {
    "execution": {
     "iopub.execute_input": "2022-03-18T21:02:06.538341Z",
     "iopub.status.busy": "2022-03-18T21:02:06.537990Z",
     "iopub.status.idle": "2022-03-18T21:02:07.443036Z",
     "shell.execute_reply": "2022-03-18T21:02:07.442518Z"
    },
    "papermill": {
     "duration": 0.931186,
     "end_time": "2022-03-18T21:02:07.443155",
     "exception": false,
     "start_time": "2022-03-18T21:02:06.511969",
     "status": "completed"
    },
    "tags": []
   },
   "outputs": [],
   "source": [
    "%load_ext autoreload\n",
    "%autoreload 2\n",
    "%matplotlib inline\n",
    "\n",
    "    \n",
    "import os, json, sys, time, random\n",
    "import numpy as np\n",
    "import torch\n",
    "from torch.optim import Adam\n",
    "from  easydict import EasyDict\n",
    "import matplotlib.pyplot as plt\n",
    "\n",
    "from steves_models.steves_ptn import Steves_Prototypical_Network\n",
    "\n",
    "from steves_utils.lazy_iterable_wrapper import Lazy_Iterable_Wrapper\n",
    "from steves_utils.iterable_aggregator import Iterable_Aggregator\n",
    "from steves_utils.ptn_train_eval_test_jig import  PTN_Train_Eval_Test_Jig\n",
    "from steves_utils.torch_sequential_builder import build_sequential\n",
    "from steves_utils.torch_utils import get_dataset_metrics, ptn_confusion_by_domain_over_dataloader\n",
    "from steves_utils.utils_v2 import (per_domain_accuracy_from_confusion, get_datasets_base_path)\n",
    "from steves_utils.PTN.utils import independent_accuracy_assesment\n",
    "\n",
    "from torch.utils.data import DataLoader\n",
    "\n",
    "from steves_utils.stratified_dataset.episodic_accessor import Episodic_Accessor_Factory\n",
    "\n",
    "from steves_utils.ptn_do_report import (\n",
    "    get_loss_curve,\n",
    "    get_results_table,\n",
    "    get_parameters_table,\n",
    "    get_domain_accuracies,\n",
    ")\n",
    "\n",
    "from steves_utils.transforms import get_chained_transform"
   ]
  },
  {
   "cell_type": "markdown",
   "id": "41c840b4",
   "metadata": {
    "papermill": {
     "duration": 0.01255,
     "end_time": "2022-03-18T21:02:07.476205",
     "exception": false,
     "start_time": "2022-03-18T21:02:07.463655",
     "status": "completed"
    },
    "tags": []
   },
   "source": [
    "# Allowed Parameters\n",
    "These are allowed parameters, not defaults\n",
    "Each of these values need to be present in the injected parameters (the notebook will raise an exception if they are not present)\n",
    "\n",
    "Papermill uses the cell tag \"parameters\" to inject the real parameters below this cell.\n",
    "Enable tags to see what I mean"
   ]
  },
  {
   "cell_type": "code",
   "execution_count": 2,
   "id": "fd44eb83",
   "metadata": {
    "execution": {
     "iopub.execute_input": "2022-03-18T21:02:07.503679Z",
     "iopub.status.busy": "2022-03-18T21:02:07.503417Z",
     "iopub.status.idle": "2022-03-18T21:02:07.518443Z",
     "shell.execute_reply": "2022-03-18T21:02:07.518072Z"
    },
    "papermill": {
     "duration": 0.029716,
     "end_time": "2022-03-18T21:02:07.518524",
     "exception": false,
     "start_time": "2022-03-18T21:02:07.488808",
     "status": "completed"
    },
    "tags": []
   },
   "outputs": [],
   "source": [
    "required_parameters = {\n",
    "    \"experiment_name\",\n",
    "    \"lr\",\n",
    "    \"device\",\n",
    "    \"seed\",\n",
    "    \"dataset_seed\",\n",
    "    \"n_shot\",\n",
    "    \"n_query\",\n",
    "    \"n_way\",\n",
    "    \"train_k_factor\",\n",
    "    \"val_k_factor\",\n",
    "    \"test_k_factor\",\n",
    "    \"n_epoch\",\n",
    "    \"patience\",\n",
    "    \"criteria_for_best\",\n",
    "    \"x_net\",\n",
    "    \"datasets\",\n",
    "    \"torch_default_dtype\",\n",
    "    \"NUM_LOGS_PER_EPOCH\",\n",
    "    \"BEST_MODEL_PATH\",\n",
    "    \"x_shape\",\n",
    "}"
   ]
  },
  {
   "cell_type": "code",
   "execution_count": 3,
   "id": "fa3f0049",
   "metadata": {
    "execution": {
     "iopub.execute_input": "2022-03-18T21:02:07.560714Z",
     "iopub.status.busy": "2022-03-18T21:02:07.551845Z",
     "iopub.status.idle": "2022-03-18T21:02:07.573896Z",
     "shell.execute_reply": "2022-03-18T21:02:07.573400Z"
    },
    "papermill": {
     "duration": 0.036633,
     "end_time": "2022-03-18T21:02:07.574002",
     "exception": false,
     "start_time": "2022-03-18T21:02:07.537369",
     "status": "completed"
    },
    "tags": [
     "parameters"
    ]
   },
   "outputs": [],
   "source": [
    "from steves_utils.CORES.utils import (\n",
    "    ALL_NODES,\n",
    "    ALL_NODES_MINIMUM_1000_EXAMPLES,\n",
    "    ALL_DAYS\n",
    ")\n",
    "\n",
    "from steves_utils.ORACLE.utils_v2 import (\n",
    "    ALL_DISTANCES_FEET_NARROWED,\n",
    "    ALL_RUNS,\n",
    "    ALL_SERIAL_NUMBERS,\n",
    ")\n",
    "\n",
    "standalone_parameters = {}\n",
    "standalone_parameters[\"experiment_name\"] = \"STANDALONE PTN\"\n",
    "standalone_parameters[\"lr\"] = 0.001\n",
    "standalone_parameters[\"device\"] = \"cuda\"\n",
    "\n",
    "standalone_parameters[\"seed\"] = 1337\n",
    "standalone_parameters[\"dataset_seed\"] = 1337\n",
    "\n",
    "standalone_parameters[\"n_way\"] = 8\n",
    "standalone_parameters[\"n_shot\"] = 3\n",
    "standalone_parameters[\"n_query\"]  = 2\n",
    "standalone_parameters[\"train_k_factor\"] = 1\n",
    "standalone_parameters[\"val_k_factor\"] = 2\n",
    "standalone_parameters[\"test_k_factor\"] = 2\n",
    "\n",
    "\n",
    "standalone_parameters[\"n_epoch\"] = 50\n",
    "\n",
    "standalone_parameters[\"patience\"] = 10\n",
    "standalone_parameters[\"criteria_for_best\"] = \"source_loss\"\n",
    "\n",
    "standalone_parameters[\"datasets\"] = [\n",
    "    {\n",
    "        \"labels\": ALL_SERIAL_NUMBERS,\n",
    "        \"domains\": ALL_DISTANCES_FEET_NARROWED,\n",
    "        \"num_examples_per_domain_per_label\": 100,\n",
    "        \"pickle_path\": os.path.join(get_datasets_base_path(), \"oracle.Run1_framed_2000Examples_stratified_ds.2022A.pkl\"),\n",
    "        \"source_or_target_dataset\": \"source\",\n",
    "        \"x_transforms\": [\"unit_mag\", \"minus_two\"],\n",
    "        \"episode_transforms\": [],\n",
    "        \"domain_prefix\": \"ORACLE_\"\n",
    "    },\n",
    "    {\n",
    "        \"labels\": ALL_NODES,\n",
    "        \"domains\": ALL_DAYS,\n",
    "        \"num_examples_per_domain_per_label\": 100,\n",
    "        \"pickle_path\": os.path.join(get_datasets_base_path(), \"cores.stratified_ds.2022A.pkl\"),\n",
    "        \"source_or_target_dataset\": \"target\",\n",
    "        \"x_transforms\": [\"unit_power\", \"times_zero\"],\n",
    "        \"episode_transforms\": [],\n",
    "        \"domain_prefix\": \"CORES_\"\n",
    "    }   \n",
    "]\n",
    "\n",
    "standalone_parameters[\"torch_default_dtype\"] = \"torch.float32\" \n",
    "\n",
    "\n",
    "\n",
    "standalone_parameters[\"x_net\"] =     [\n",
    "    {\"class\": \"nnReshape\", \"kargs\": {\"shape\":[-1, 1, 2, 256]}},\n",
    "    {\"class\": \"Conv2d\", \"kargs\": { \"in_channels\":1, \"out_channels\":256, \"kernel_size\":(1,7), \"bias\":False, \"padding\":(0,3), },},\n",
    "    {\"class\": \"ReLU\", \"kargs\": {\"inplace\": True}},\n",
    "    {\"class\": \"BatchNorm2d\", \"kargs\": {\"num_features\":256}},\n",
    "\n",
    "    {\"class\": \"Conv2d\", \"kargs\": { \"in_channels\":256, \"out_channels\":80, \"kernel_size\":(2,7), \"bias\":True, \"padding\":(0,3), },},\n",
    "    {\"class\": \"ReLU\", \"kargs\": {\"inplace\": True}},\n",
    "    {\"class\": \"BatchNorm2d\", \"kargs\": {\"num_features\":80}},\n",
    "    {\"class\": \"Flatten\", \"kargs\": {}},\n",
    "\n",
    "    {\"class\": \"Linear\", \"kargs\": {\"in_features\": 80*256, \"out_features\": 256}}, # 80 units per IQ pair\n",
    "    {\"class\": \"ReLU\", \"kargs\": {\"inplace\": True}},\n",
    "    {\"class\": \"BatchNorm1d\", \"kargs\": {\"num_features\":256}},\n",
    "\n",
    "    {\"class\": \"Linear\", \"kargs\": {\"in_features\": 256, \"out_features\": 256}},\n",
    "]\n",
    "\n",
    "# Parameters relevant to results\n",
    "# These parameters will basically never need to change\n",
    "standalone_parameters[\"NUM_LOGS_PER_EPOCH\"] = 10\n",
    "standalone_parameters[\"BEST_MODEL_PATH\"] = \"./best_model.pth\"\n",
    "\n",
    "\n",
    "\n",
    "\n"
   ]
  },
  {
   "cell_type": "code",
   "execution_count": 4,
   "id": "ac6ea05e",
   "metadata": {
    "execution": {
     "iopub.execute_input": "2022-03-18T21:02:07.619343Z",
     "iopub.status.busy": "2022-03-18T21:02:07.616824Z",
     "iopub.status.idle": "2022-03-18T21:02:07.633134Z",
     "shell.execute_reply": "2022-03-18T21:02:07.632709Z"
    },
    "papermill": {
     "duration": 0.041249,
     "end_time": "2022-03-18T21:02:07.633238",
     "exception": false,
     "start_time": "2022-03-18T21:02:07.591989",
     "status": "completed"
    },
    "tags": [
     "injected-parameters"
    ]
   },
   "outputs": [],
   "source": [
    "# Parameters\n",
    "parameters = {\n",
    "    \"experiment_name\": \"tl_3A:oracle.run1.framed -> cores+wisig\",\n",
    "    \"device\": \"cuda\",\n",
    "    \"lr\": 0.001,\n",
    "    \"seed\": 500,\n",
    "    \"dataset_seed\": 500,\n",
    "    \"x_shape\": [2, 200],\n",
    "    \"n_shot\": 3,\n",
    "    \"n_query\": 2,\n",
    "    \"train_k_factor\": 3,\n",
    "    \"val_k_factor\": 2,\n",
    "    \"test_k_factor\": 2,\n",
    "    \"torch_default_dtype\": \"torch.float32\",\n",
    "    \"n_epoch\": 50,\n",
    "    \"patience\": 3,\n",
    "    \"criteria_for_best\": \"target_loss\",\n",
    "    \"x_net\": [\n",
    "        {\"class\": \"nnReshape\", \"kargs\": {\"shape\": [-1, 1, 2, 200]}},\n",
    "        {\n",
    "            \"class\": \"Conv2d\",\n",
    "            \"kargs\": {\n",
    "                \"in_channels\": 1,\n",
    "                \"out_channels\": 256,\n",
    "                \"kernel_size\": [1, 7],\n",
    "                \"bias\": False,\n",
    "                \"padding\": [0, 3],\n",
    "            },\n",
    "        },\n",
    "        {\"class\": \"ReLU\", \"kargs\": {\"inplace\": True}},\n",
    "        {\"class\": \"BatchNorm2d\", \"kargs\": {\"num_features\": 256}},\n",
    "        {\n",
    "            \"class\": \"Conv2d\",\n",
    "            \"kargs\": {\n",
    "                \"in_channels\": 256,\n",
    "                \"out_channels\": 80,\n",
    "                \"kernel_size\": [2, 7],\n",
    "                \"bias\": True,\n",
    "                \"padding\": [0, 3],\n",
    "            },\n",
    "        },\n",
    "        {\"class\": \"ReLU\", \"kargs\": {\"inplace\": True}},\n",
    "        {\"class\": \"BatchNorm2d\", \"kargs\": {\"num_features\": 80}},\n",
    "        {\"class\": \"Flatten\", \"kargs\": {}},\n",
    "        {\"class\": \"Linear\", \"kargs\": {\"in_features\": 16000, \"out_features\": 256}},\n",
    "        {\"class\": \"ReLU\", \"kargs\": {\"inplace\": True}},\n",
    "        {\"class\": \"BatchNorm1d\", \"kargs\": {\"num_features\": 256}},\n",
    "        {\"class\": \"Linear\", \"kargs\": {\"in_features\": 256, \"out_features\": 256}},\n",
    "    ],\n",
    "    \"NUM_LOGS_PER_EPOCH\": 10,\n",
    "    \"BEST_MODEL_PATH\": \"./best_model.pth\",\n",
    "    \"n_way\": 16,\n",
    "    \"datasets\": [\n",
    "        {\n",
    "            \"labels\": [\n",
    "                \"1-10.\",\n",
    "                \"1-11.\",\n",
    "                \"1-15.\",\n",
    "                \"1-16.\",\n",
    "                \"1-17.\",\n",
    "                \"1-18.\",\n",
    "                \"1-19.\",\n",
    "                \"10-4.\",\n",
    "                \"10-7.\",\n",
    "                \"11-1.\",\n",
    "                \"11-14.\",\n",
    "                \"11-17.\",\n",
    "                \"11-20.\",\n",
    "                \"11-7.\",\n",
    "                \"13-20.\",\n",
    "                \"13-8.\",\n",
    "                \"14-10.\",\n",
    "                \"14-11.\",\n",
    "                \"14-14.\",\n",
    "                \"14-7.\",\n",
    "                \"15-1.\",\n",
    "                \"15-20.\",\n",
    "                \"16-1.\",\n",
    "                \"16-16.\",\n",
    "                \"17-10.\",\n",
    "                \"17-11.\",\n",
    "                \"17-2.\",\n",
    "                \"19-1.\",\n",
    "                \"19-16.\",\n",
    "                \"19-19.\",\n",
    "                \"19-20.\",\n",
    "                \"19-3.\",\n",
    "                \"2-10.\",\n",
    "                \"2-11.\",\n",
    "                \"2-17.\",\n",
    "                \"2-18.\",\n",
    "                \"2-20.\",\n",
    "                \"2-3.\",\n",
    "                \"2-4.\",\n",
    "                \"2-5.\",\n",
    "                \"2-6.\",\n",
    "                \"2-7.\",\n",
    "                \"2-8.\",\n",
    "                \"3-13.\",\n",
    "                \"3-18.\",\n",
    "                \"3-3.\",\n",
    "                \"4-1.\",\n",
    "                \"4-10.\",\n",
    "                \"4-11.\",\n",
    "                \"4-19.\",\n",
    "                \"5-5.\",\n",
    "                \"6-15.\",\n",
    "                \"7-10.\",\n",
    "                \"7-14.\",\n",
    "                \"8-18.\",\n",
    "                \"8-20.\",\n",
    "                \"8-3.\",\n",
    "                \"8-8.\",\n",
    "            ],\n",
    "            \"domains\": [1, 2, 3, 4, 5],\n",
    "            \"num_examples_per_domain_per_label\": 100,\n",
    "            \"pickle_path\": \"/mnt/wd500GB/CSC500/csc500-main/datasets/cores.stratified_ds.2022A.pkl\",\n",
    "            \"source_or_target_dataset\": \"target\",\n",
    "            \"x_transforms\": [\"take_200\"],\n",
    "            \"episode_transforms\": [],\n",
    "            \"domain_prefix\": \"C_A_\",\n",
    "        },\n",
    "        {\n",
    "            \"labels\": [\n",
    "                \"1-10\",\n",
    "                \"1-12\",\n",
    "                \"1-14\",\n",
    "                \"1-16\",\n",
    "                \"1-18\",\n",
    "                \"1-19\",\n",
    "                \"1-8\",\n",
    "                \"10-11\",\n",
    "                \"10-17\",\n",
    "                \"10-4\",\n",
    "                \"10-7\",\n",
    "                \"11-1\",\n",
    "                \"11-10\",\n",
    "                \"11-19\",\n",
    "                \"11-20\",\n",
    "                \"11-4\",\n",
    "                \"11-7\",\n",
    "                \"12-19\",\n",
    "                \"12-20\",\n",
    "                \"12-7\",\n",
    "                \"13-14\",\n",
    "                \"13-18\",\n",
    "                \"13-19\",\n",
    "                \"13-20\",\n",
    "                \"13-3\",\n",
    "                \"13-7\",\n",
    "                \"14-10\",\n",
    "                \"14-11\",\n",
    "                \"14-12\",\n",
    "                \"14-13\",\n",
    "                \"14-14\",\n",
    "                \"14-19\",\n",
    "                \"14-20\",\n",
    "                \"14-7\",\n",
    "                \"14-8\",\n",
    "                \"14-9\",\n",
    "                \"15-1\",\n",
    "                \"15-19\",\n",
    "                \"15-6\",\n",
    "                \"16-1\",\n",
    "                \"16-16\",\n",
    "                \"16-19\",\n",
    "                \"16-20\",\n",
    "                \"17-10\",\n",
    "                \"17-11\",\n",
    "                \"18-1\",\n",
    "                \"18-10\",\n",
    "                \"18-11\",\n",
    "                \"18-12\",\n",
    "                \"18-13\",\n",
    "                \"18-14\",\n",
    "                \"18-15\",\n",
    "                \"18-16\",\n",
    "                \"18-17\",\n",
    "                \"18-19\",\n",
    "                \"18-2\",\n",
    "                \"18-20\",\n",
    "                \"18-4\",\n",
    "                \"18-5\",\n",
    "                \"18-7\",\n",
    "                \"18-8\",\n",
    "                \"18-9\",\n",
    "                \"19-1\",\n",
    "                \"19-10\",\n",
    "                \"19-11\",\n",
    "                \"19-12\",\n",
    "                \"19-13\",\n",
    "                \"19-14\",\n",
    "                \"19-15\",\n",
    "                \"19-19\",\n",
    "                \"19-2\",\n",
    "                \"19-20\",\n",
    "                \"19-3\",\n",
    "                \"19-4\",\n",
    "                \"19-6\",\n",
    "                \"19-7\",\n",
    "                \"19-8\",\n",
    "                \"19-9\",\n",
    "                \"2-1\",\n",
    "                \"2-13\",\n",
    "                \"2-15\",\n",
    "                \"2-3\",\n",
    "                \"2-4\",\n",
    "                \"2-5\",\n",
    "                \"2-6\",\n",
    "                \"2-7\",\n",
    "                \"2-8\",\n",
    "                \"20-1\",\n",
    "                \"20-12\",\n",
    "                \"20-14\",\n",
    "                \"20-15\",\n",
    "                \"20-16\",\n",
    "                \"20-18\",\n",
    "                \"20-19\",\n",
    "                \"20-20\",\n",
    "                \"20-3\",\n",
    "                \"20-4\",\n",
    "                \"20-5\",\n",
    "                \"20-7\",\n",
    "                \"20-8\",\n",
    "                \"3-1\",\n",
    "                \"3-13\",\n",
    "                \"3-18\",\n",
    "                \"3-2\",\n",
    "                \"3-8\",\n",
    "                \"4-1\",\n",
    "                \"4-10\",\n",
    "                \"4-11\",\n",
    "                \"5-1\",\n",
    "                \"5-5\",\n",
    "                \"6-1\",\n",
    "                \"6-15\",\n",
    "                \"6-6\",\n",
    "                \"7-10\",\n",
    "                \"7-11\",\n",
    "                \"7-12\",\n",
    "                \"7-13\",\n",
    "                \"7-14\",\n",
    "                \"7-7\",\n",
    "                \"7-8\",\n",
    "                \"7-9\",\n",
    "                \"8-1\",\n",
    "                \"8-13\",\n",
    "                \"8-14\",\n",
    "                \"8-18\",\n",
    "                \"8-20\",\n",
    "                \"8-3\",\n",
    "                \"8-8\",\n",
    "                \"9-1\",\n",
    "                \"9-7\",\n",
    "            ],\n",
    "            \"domains\": [1, 2, 3, 4],\n",
    "            \"num_examples_per_domain_per_label\": 100,\n",
    "            \"pickle_path\": \"/mnt/wd500GB/CSC500/csc500-main/datasets/wisig.node3-19.stratified_ds.2022A.pkl\",\n",
    "            \"source_or_target_dataset\": \"target\",\n",
    "            \"x_transforms\": [\"take_200\"],\n",
    "            \"episode_transforms\": [],\n",
    "            \"domain_prefix\": \"W_A_\",\n",
    "        },\n",
    "        {\n",
    "            \"labels\": [\n",
    "                \"3123D52\",\n",
    "                \"3123D65\",\n",
    "                \"3123D79\",\n",
    "                \"3123D80\",\n",
    "                \"3123D54\",\n",
    "                \"3123D70\",\n",
    "                \"3123D7B\",\n",
    "                \"3123D89\",\n",
    "                \"3123D58\",\n",
    "                \"3123D76\",\n",
    "                \"3123D7D\",\n",
    "                \"3123EFE\",\n",
    "                \"3123D64\",\n",
    "                \"3123D78\",\n",
    "                \"3123D7E\",\n",
    "                \"3124E4A\",\n",
    "            ],\n",
    "            \"domains\": [32, 38, 8, 44, 14, 50, 20, 26],\n",
    "            \"num_examples_per_domain_per_label\": 2000,\n",
    "            \"pickle_path\": \"/mnt/wd500GB/CSC500/csc500-main/datasets/oracle.Run1_framed_2000Examples_stratified_ds.2022A.pkl\",\n",
    "            \"source_or_target_dataset\": \"source\",\n",
    "            \"x_transforms\": [\"take_200\", \"resample_20Msps_to_25Msps\"],\n",
    "            \"episode_transforms\": [],\n",
    "            \"domain_prefix\": \"ORACLE.run1_\",\n",
    "        },\n",
    "    ],\n",
    "}\n"
   ]
  },
  {
   "cell_type": "code",
   "execution_count": 5,
   "id": "8fa1cc33",
   "metadata": {
    "execution": {
     "iopub.execute_input": "2022-03-18T21:02:07.667966Z",
     "iopub.status.busy": "2022-03-18T21:02:07.665161Z",
     "iopub.status.idle": "2022-03-18T21:02:07.683608Z",
     "shell.execute_reply": "2022-03-18T21:02:07.683097Z"
    },
    "papermill": {
     "duration": 0.032637,
     "end_time": "2022-03-18T21:02:07.683711",
     "exception": false,
     "start_time": "2022-03-18T21:02:07.651074",
     "status": "completed"
    },
    "tags": []
   },
   "outputs": [],
   "source": [
    "# Set this to True if you want to run this template directly\n",
    "STANDALONE = False\n",
    "if STANDALONE:\n",
    "    print(\"parameters not injected, running with standalone_parameters\")\n",
    "    parameters = standalone_parameters\n",
    "\n",
    "if not 'parameters' in locals() and not 'parameters' in globals():\n",
    "    raise Exception(\"Parameter injection failed\")\n",
    "\n",
    "#Use an easy dict for all the parameters\n",
    "p = EasyDict(parameters)\n",
    "\n",
    "if \"x_shape\" not in p:\n",
    "    p.x_shape = [2,256] # Default to this if we dont supply x_shape\n",
    "\n",
    "\n",
    "supplied_keys = set(p.keys())\n",
    "\n",
    "if  supplied_keys != required_parameters:\n",
    "    print(\"Parameters are incorrect\")\n",
    "    if len(supplied_keys - required_parameters)>0: print(\"Shouldn't have:\", str(supplied_keys - required_parameters))\n",
    "    if len(required_parameters - supplied_keys)>0: print(\"Need to have:\", str(required_parameters - supplied_keys))\n",
    "    raise RuntimeError(\"Parameters are incorrect\")"
   ]
  },
  {
   "cell_type": "code",
   "execution_count": 6,
   "id": "3a028d58",
   "metadata": {
    "execution": {
     "iopub.execute_input": "2022-03-18T21:02:07.716346Z",
     "iopub.status.busy": "2022-03-18T21:02:07.716089Z",
     "iopub.status.idle": "2022-03-18T21:02:07.731691Z",
     "shell.execute_reply": "2022-03-18T21:02:07.731262Z"
    },
    "papermill": {
     "duration": 0.030955,
     "end_time": "2022-03-18T21:02:07.731792",
     "exception": false,
     "start_time": "2022-03-18T21:02:07.700837",
     "status": "completed"
    },
    "tags": []
   },
   "outputs": [],
   "source": [
    "###################################\n",
    "# Set the RNGs and make it all deterministic\n",
    "###################################\n",
    "np.random.seed(p.seed)\n",
    "random.seed(p.seed)\n",
    "torch.manual_seed(p.seed)\n",
    "\n",
    "torch.use_deterministic_algorithms(True) "
   ]
  },
  {
   "cell_type": "code",
   "execution_count": 7,
   "id": "b691acf6",
   "metadata": {
    "execution": {
     "iopub.execute_input": "2022-03-18T21:02:07.767779Z",
     "iopub.status.busy": "2022-03-18T21:02:07.766581Z",
     "iopub.status.idle": "2022-03-18T21:02:07.782344Z",
     "shell.execute_reply": "2022-03-18T21:02:07.781925Z"
    },
    "papermill": {
     "duration": 0.031725,
     "end_time": "2022-03-18T21:02:07.782443",
     "exception": false,
     "start_time": "2022-03-18T21:02:07.750718",
     "status": "completed"
    },
    "tags": []
   },
   "outputs": [],
   "source": [
    "###########################################\n",
    "# The stratified datasets honor this\n",
    "###########################################\n",
    "torch.set_default_dtype(eval(p.torch_default_dtype))"
   ]
  },
  {
   "cell_type": "code",
   "execution_count": 8,
   "id": "b5fba671",
   "metadata": {
    "execution": {
     "iopub.execute_input": "2022-03-18T21:02:07.815456Z",
     "iopub.status.busy": "2022-03-18T21:02:07.815194Z",
     "iopub.status.idle": "2022-03-18T21:02:07.852319Z",
     "shell.execute_reply": "2022-03-18T21:02:07.851878Z"
    },
    "papermill": {
     "duration": 0.052183,
     "end_time": "2022-03-18T21:02:07.852428",
     "exception": false,
     "start_time": "2022-03-18T21:02:07.800245",
     "status": "completed"
    },
    "tags": []
   },
   "outputs": [],
   "source": [
    "###################################\n",
    "# Build the network(s)\n",
    "# Note: It's critical to do this AFTER setting the RNG\n",
    "###################################\n",
    "x_net = build_sequential(p.x_net)"
   ]
  },
  {
   "cell_type": "code",
   "execution_count": 9,
   "id": "5d7e61cc",
   "metadata": {
    "execution": {
     "iopub.execute_input": "2022-03-18T21:02:07.886798Z",
     "iopub.status.busy": "2022-03-18T21:02:07.886554Z",
     "iopub.status.idle": "2022-03-18T21:02:07.898298Z",
     "shell.execute_reply": "2022-03-18T21:02:07.897881Z"
    },
    "papermill": {
     "duration": 0.026561,
     "end_time": "2022-03-18T21:02:07.898399",
     "exception": false,
     "start_time": "2022-03-18T21:02:07.871838",
     "status": "completed"
    },
    "tags": []
   },
   "outputs": [],
   "source": [
    "start_time_secs = time.time()"
   ]
  },
  {
   "cell_type": "code",
   "execution_count": 10,
   "id": "c6b67dfd",
   "metadata": {
    "execution": {
     "iopub.execute_input": "2022-03-18T21:02:07.929811Z",
     "iopub.status.busy": "2022-03-18T21:02:07.929558Z",
     "iopub.status.idle": "2022-03-18T21:02:07.941328Z",
     "shell.execute_reply": "2022-03-18T21:02:07.940846Z"
    },
    "papermill": {
     "duration": 0.026849,
     "end_time": "2022-03-18T21:02:07.941428",
     "exception": false,
     "start_time": "2022-03-18T21:02:07.914579",
     "status": "completed"
    },
    "tags": []
   },
   "outputs": [],
   "source": [
    "p.domains_source = []\n",
    "p.domains_target = []\n",
    "\n",
    "\n",
    "train_original_source = []\n",
    "val_original_source   = []\n",
    "test_original_source  = []\n",
    "\n",
    "train_original_target = []\n",
    "val_original_target   = []\n",
    "test_original_target  = []"
   ]
  },
  {
   "cell_type": "code",
   "execution_count": 11,
   "id": "e3d9c3d3",
   "metadata": {
    "execution": {
     "iopub.execute_input": "2022-03-18T21:02:07.976727Z",
     "iopub.status.busy": "2022-03-18T21:02:07.975943Z",
     "iopub.status.idle": "2022-03-18T21:02:07.990405Z",
     "shell.execute_reply": "2022-03-18T21:02:07.990046Z"
    },
    "papermill": {
     "duration": 0.03104,
     "end_time": "2022-03-18T21:02:07.990480",
     "exception": false,
     "start_time": "2022-03-18T21:02:07.959440",
     "status": "completed"
    },
    "tags": []
   },
   "outputs": [],
   "source": [
    "# global_x_transform_func = lambda x: normalize(x.to(torch.get_default_dtype()), \"unit_power\") # unit_power, unit_mag\n",
    "# global_x_transform_func = lambda x: normalize(x, \"unit_power\") # unit_power, unit_mag"
   ]
  },
  {
   "cell_type": "code",
   "execution_count": 12,
   "id": "acb78fd2",
   "metadata": {
    "execution": {
     "iopub.execute_input": "2022-03-18T21:02:08.025794Z",
     "iopub.status.busy": "2022-03-18T21:02:08.025536Z",
     "iopub.status.idle": "2022-03-18T21:02:08.038064Z",
     "shell.execute_reply": "2022-03-18T21:02:08.037643Z"
    },
    "papermill": {
     "duration": 0.029874,
     "end_time": "2022-03-18T21:02:08.038164",
     "exception": false,
     "start_time": "2022-03-18T21:02:08.008290",
     "status": "completed"
    },
    "tags": []
   },
   "outputs": [],
   "source": [
    "def add_dataset(\n",
    "    labels,\n",
    "    domains,\n",
    "    pickle_path,\n",
    "    x_transforms,\n",
    "    episode_transforms,\n",
    "    domain_prefix,\n",
    "    num_examples_per_domain_per_label,\n",
    "    source_or_target_dataset:str,\n",
    "    iterator_seed=p.seed,\n",
    "    dataset_seed=p.dataset_seed,\n",
    "    n_shot=p.n_shot,\n",
    "    n_way=p.n_way,\n",
    "    n_query=p.n_query,\n",
    "    train_val_test_k_factors=(p.train_k_factor,p.val_k_factor,p.test_k_factor),\n",
    "):\n",
    "   \n",
    "    if x_transforms == []: x_transform = None\n",
    "    else: x_transform = get_chained_transform(x_transforms)\n",
    "    \n",
    "    if episode_transforms == []: episode_transform = None\n",
    "    else: raise Exception(\"episode_transforms not implemented\")\n",
    "    \n",
    "    episode_transform = lambda tup, _prefix=domain_prefix: (_prefix + str(tup[0]), tup[1])\n",
    "\n",
    "\n",
    "    eaf = Episodic_Accessor_Factory(\n",
    "        labels=labels,\n",
    "        domains=domains,\n",
    "        num_examples_per_domain_per_label=num_examples_per_domain_per_label,\n",
    "        iterator_seed=iterator_seed,\n",
    "        dataset_seed=dataset_seed,\n",
    "        n_shot=n_shot,\n",
    "        n_way=n_way,\n",
    "        n_query=n_query,\n",
    "        train_val_test_k_factors=train_val_test_k_factors,\n",
    "        pickle_path=pickle_path,\n",
    "        x_transform_func=x_transform,\n",
    "    )\n",
    "\n",
    "    train, val, test = eaf.get_train(), eaf.get_val(), eaf.get_test()\n",
    "    train = Lazy_Iterable_Wrapper(train, episode_transform)\n",
    "    val = Lazy_Iterable_Wrapper(val, episode_transform)\n",
    "    test = Lazy_Iterable_Wrapper(test, episode_transform)\n",
    "\n",
    "    if source_or_target_dataset==\"source\":\n",
    "        train_original_source.append(train)\n",
    "        val_original_source.append(val)\n",
    "        test_original_source.append(test)\n",
    "\n",
    "        p.domains_source.extend(\n",
    "            [domain_prefix + str(u) for u in domains]\n",
    "        )\n",
    "    elif source_or_target_dataset==\"target\":\n",
    "        train_original_target.append(train)\n",
    "        val_original_target.append(val)\n",
    "        test_original_target.append(test)\n",
    "        p.domains_target.extend(\n",
    "            [domain_prefix + str(u) for u in domains]\n",
    "        )\n",
    "    else:\n",
    "        raise Exception(f\"invalid source_or_target_dataset: {source_or_target_dataset}\")\n",
    "    "
   ]
  },
  {
   "cell_type": "code",
   "execution_count": 13,
   "id": "fe266617",
   "metadata": {
    "execution": {
     "iopub.execute_input": "2022-03-18T21:02:08.079492Z",
     "iopub.status.busy": "2022-03-18T21:02:08.071809Z",
     "iopub.status.idle": "2022-03-18T21:02:22.856479Z",
     "shell.execute_reply": "2022-03-18T21:02:22.856047Z"
    },
    "papermill": {
     "duration": 14.800428,
     "end_time": "2022-03-18T21:02:22.856592",
     "exception": false,
     "start_time": "2022-03-18T21:02:08.056164",
     "status": "completed"
    },
    "tags": []
   },
   "outputs": [],
   "source": [
    "for ds in p.datasets:\n",
    "    add_dataset(**ds)"
   ]
  },
  {
   "cell_type": "code",
   "execution_count": 14,
   "id": "b90d65ac",
   "metadata": {
    "execution": {
     "iopub.execute_input": "2022-03-18T21:02:22.892032Z",
     "iopub.status.busy": "2022-03-18T21:02:22.891780Z",
     "iopub.status.idle": "2022-03-18T21:02:22.906940Z",
     "shell.execute_reply": "2022-03-18T21:02:22.906605Z"
    },
    "papermill": {
     "duration": 0.030968,
     "end_time": "2022-03-18T21:02:22.907044",
     "exception": false,
     "start_time": "2022-03-18T21:02:22.876076",
     "status": "completed"
    },
    "tags": []
   },
   "outputs": [],
   "source": [
    "# from steves_utils.CORES.utils import (\n",
    "#     ALL_NODES,\n",
    "#     ALL_NODES_MINIMUM_1000_EXAMPLES,\n",
    "#     ALL_DAYS\n",
    "# )\n",
    "\n",
    "# add_dataset(\n",
    "#     labels=ALL_NODES,\n",
    "#     domains = ALL_DAYS,\n",
    "#     num_examples_per_domain_per_label=100,\n",
    "#     pickle_path=os.path.join(get_datasets_base_path(), \"cores.stratified_ds.2022A.pkl\"),\n",
    "#     source_or_target_dataset=\"target\",\n",
    "#     x_transform_func=global_x_transform_func,\n",
    "#     domain_modifier=lambda u: f\"cores_{u}\"\n",
    "# )"
   ]
  },
  {
   "cell_type": "code",
   "execution_count": 15,
   "id": "76db484d",
   "metadata": {
    "execution": {
     "iopub.execute_input": "2022-03-18T21:02:22.940673Z",
     "iopub.status.busy": "2022-03-18T21:02:22.940425Z",
     "iopub.status.idle": "2022-03-18T21:02:22.957512Z",
     "shell.execute_reply": "2022-03-18T21:02:22.957093Z"
    },
    "papermill": {
     "duration": 0.032856,
     "end_time": "2022-03-18T21:02:22.957611",
     "exception": false,
     "start_time": "2022-03-18T21:02:22.924755",
     "status": "completed"
    },
    "tags": []
   },
   "outputs": [],
   "source": [
    "# from steves_utils.ORACLE.utils_v2 import (\n",
    "#     ALL_DISTANCES_FEET,\n",
    "#     ALL_RUNS,\n",
    "#     ALL_SERIAL_NUMBERS,\n",
    "# )\n",
    "\n",
    "\n",
    "# add_dataset(\n",
    "#     labels=ALL_SERIAL_NUMBERS,\n",
    "#     domains = list(set(ALL_DISTANCES_FEET) - {2,62}),\n",
    "#     num_examples_per_domain_per_label=100,\n",
    "#     pickle_path=os.path.join(get_datasets_base_path(), \"oracle.Run2_framed_2000Examples_stratified_ds.2022A.pkl\"),\n",
    "#     source_or_target_dataset=\"source\",\n",
    "#     x_transform_func=global_x_transform_func,\n",
    "#     domain_modifier=lambda u: f\"oracle1_{u}\"\n",
    "# )\n"
   ]
  },
  {
   "cell_type": "code",
   "execution_count": 16,
   "id": "97dea9d2",
   "metadata": {
    "execution": {
     "iopub.execute_input": "2022-03-18T21:02:22.992348Z",
     "iopub.status.busy": "2022-03-18T21:02:22.992102Z",
     "iopub.status.idle": "2022-03-18T21:02:23.009164Z",
     "shell.execute_reply": "2022-03-18T21:02:23.008751Z"
    },
    "papermill": {
     "duration": 0.032709,
     "end_time": "2022-03-18T21:02:23.009262",
     "exception": false,
     "start_time": "2022-03-18T21:02:22.976553",
     "status": "completed"
    },
    "tags": []
   },
   "outputs": [],
   "source": [
    "# from steves_utils.ORACLE.utils_v2 import (\n",
    "#     ALL_DISTANCES_FEET,\n",
    "#     ALL_RUNS,\n",
    "#     ALL_SERIAL_NUMBERS,\n",
    "# )\n",
    "\n",
    "\n",
    "# add_dataset(\n",
    "#     labels=ALL_SERIAL_NUMBERS,\n",
    "#     domains = list(set(ALL_DISTANCES_FEET) - {2,62,56}),\n",
    "#     num_examples_per_domain_per_label=100,\n",
    "#     pickle_path=os.path.join(get_datasets_base_path(), \"oracle.Run2_framed_2000Examples_stratified_ds.2022A.pkl\"),\n",
    "#     source_or_target_dataset=\"source\",\n",
    "#     x_transform_func=global_x_transform_func,\n",
    "#     domain_modifier=lambda u: f\"oracle2_{u}\"\n",
    "# )"
   ]
  },
  {
   "cell_type": "code",
   "execution_count": 17,
   "id": "6f289866",
   "metadata": {
    "execution": {
     "iopub.execute_input": "2022-03-18T21:02:23.046961Z",
     "iopub.status.busy": "2022-03-18T21:02:23.044143Z",
     "iopub.status.idle": "2022-03-18T21:02:23.057331Z",
     "shell.execute_reply": "2022-03-18T21:02:23.056934Z"
    },
    "papermill": {
     "duration": 0.029035,
     "end_time": "2022-03-18T21:02:23.057433",
     "exception": false,
     "start_time": "2022-03-18T21:02:23.028398",
     "status": "completed"
    },
    "tags": []
   },
   "outputs": [],
   "source": [
    "# add_dataset(\n",
    "#     labels=list(range(19)),\n",
    "#     domains = [0,1,2],\n",
    "#     num_examples_per_domain_per_label=100,\n",
    "#     pickle_path=os.path.join(get_datasets_base_path(), \"metehan.stratified_ds.2022A.pkl\"),\n",
    "#     source_or_target_dataset=\"target\",\n",
    "#     x_transform_func=global_x_transform_func,\n",
    "#     domain_modifier=lambda u: f\"met_{u}\"\n",
    "# )"
   ]
  },
  {
   "cell_type": "code",
   "execution_count": 18,
   "id": "86a863c3",
   "metadata": {
    "execution": {
     "iopub.execute_input": "2022-03-18T21:02:23.091948Z",
     "iopub.status.busy": "2022-03-18T21:02:23.091700Z",
     "iopub.status.idle": "2022-03-18T21:02:23.102544Z",
     "shell.execute_reply": "2022-03-18T21:02:23.102176Z"
    },
    "papermill": {
     "duration": 0.026237,
     "end_time": "2022-03-18T21:02:23.102621",
     "exception": false,
     "start_time": "2022-03-18T21:02:23.076384",
     "status": "completed"
    },
    "tags": []
   },
   "outputs": [],
   "source": [
    "# # from steves_utils.wisig.utils import (\n",
    "# #     ALL_NODES_MINIMUM_100_EXAMPLES,\n",
    "# #     ALL_NODES_MINIMUM_500_EXAMPLES,\n",
    "# #     ALL_NODES_MINIMUM_1000_EXAMPLES,\n",
    "# #     ALL_DAYS\n",
    "# # )\n",
    "\n",
    "# import steves_utils.wisig.utils as wisig\n",
    "\n",
    "\n",
    "# add_dataset(\n",
    "#     labels=wisig.ALL_NODES_MINIMUM_100_EXAMPLES,\n",
    "#     domains = wisig.ALL_DAYS,\n",
    "#     num_examples_per_domain_per_label=100,\n",
    "#     pickle_path=os.path.join(get_datasets_base_path(), \"wisig.node3-19.stratified_ds.2022A.pkl\"),\n",
    "#     source_or_target_dataset=\"target\",\n",
    "#     x_transform_func=global_x_transform_func,\n",
    "#     domain_modifier=lambda u: f\"wisig_{u}\"\n",
    "# )"
   ]
  },
  {
   "cell_type": "code",
   "execution_count": 19,
   "id": "fd5442bc",
   "metadata": {
    "execution": {
     "iopub.execute_input": "2022-03-18T21:02:23.140490Z",
     "iopub.status.busy": "2022-03-18T21:02:23.139970Z",
     "iopub.status.idle": "2022-03-18T21:02:23.152479Z",
     "shell.execute_reply": "2022-03-18T21:02:23.151996Z"
    },
    "papermill": {
     "duration": 0.031258,
     "end_time": "2022-03-18T21:02:23.152580",
     "exception": false,
     "start_time": "2022-03-18T21:02:23.121322",
     "status": "completed"
    },
    "tags": []
   },
   "outputs": [],
   "source": [
    "###################################\n",
    "# Build the dataset\n",
    "###################################\n",
    "train_original_source = Iterable_Aggregator(train_original_source, p.seed)\n",
    "val_original_source = Iterable_Aggregator(val_original_source, p.seed)\n",
    "test_original_source = Iterable_Aggregator(test_original_source, p.seed)\n",
    "\n",
    "\n",
    "train_original_target = Iterable_Aggregator(train_original_target, p.seed)\n",
    "val_original_target = Iterable_Aggregator(val_original_target, p.seed)\n",
    "test_original_target = Iterable_Aggregator(test_original_target, p.seed)\n",
    "\n",
    "# For CNN We only use X and Y. And we only train on the source.\n",
    "# Properly form the data using a transform lambda and Lazy_Iterable_Wrapper. Finally wrap them in a dataloader\n",
    "\n",
    "transform_lambda = lambda ex: ex[1] # Original is (<domain>, <episode>) so we strip down to episode only\n",
    "\n",
    "train_processed_source = Lazy_Iterable_Wrapper(train_original_source, transform_lambda)\n",
    "val_processed_source   = Lazy_Iterable_Wrapper(val_original_source, transform_lambda)\n",
    "test_processed_source  = Lazy_Iterable_Wrapper(test_original_source, transform_lambda)\n",
    "\n",
    "train_processed_target = Lazy_Iterable_Wrapper(train_original_target, transform_lambda)\n",
    "val_processed_target   = Lazy_Iterable_Wrapper(val_original_target, transform_lambda)\n",
    "test_processed_target  = Lazy_Iterable_Wrapper(test_original_target, transform_lambda)\n",
    "\n",
    "datasets = EasyDict({\n",
    "    \"source\": {\n",
    "        \"original\": {\"train\":train_original_source, \"val\":val_original_source, \"test\":test_original_source},\n",
    "        \"processed\": {\"train\":train_processed_source, \"val\":val_processed_source, \"test\":test_processed_source}\n",
    "    },\n",
    "    \"target\": {\n",
    "        \"original\": {\"train\":train_original_target, \"val\":val_original_target, \"test\":test_original_target},\n",
    "        \"processed\": {\"train\":train_processed_target, \"val\":val_processed_target, \"test\":test_processed_target}\n",
    "    },\n",
    "})"
   ]
  },
  {
   "cell_type": "code",
   "execution_count": 20,
   "id": "5b3c01fc",
   "metadata": {
    "execution": {
     "iopub.execute_input": "2022-03-18T21:02:23.189148Z",
     "iopub.status.busy": "2022-03-18T21:02:23.188899Z",
     "iopub.status.idle": "2022-03-18T21:02:28.219017Z",
     "shell.execute_reply": "2022-03-18T21:02:28.218686Z"
    },
    "papermill": {
     "duration": 5.047061,
     "end_time": "2022-03-18T21:02:28.219102",
     "exception": false,
     "start_time": "2022-03-18T21:02:23.172041",
     "status": "completed"
    },
    "tags": []
   },
   "outputs": [
    {
     "name": "stdout",
     "output_type": "stream",
     "text": [
      "{'ORACLE.run1_50', 'ORACLE.run1_38', 'ORACLE.run1_26', 'ORACLE.run1_14', 'ORACLE.run1_32', 'ORACLE.run1_20', 'ORACLE.run1_44', 'ORACLE.run1_8'}\n"
     ]
    },
    {
     "name": "stdout",
     "output_type": "stream",
     "text": [
      "{'W_A_2', 'W_A_3', 'C_A_3', 'C_A_4', 'C_A_5', 'C_A_2', 'W_A_4', 'W_A_1', 'C_A_1'}\n"
     ]
    },
    {
     "name": "stdout",
     "output_type": "stream",
     "text": [
      "tensor([[[ 9.4607e-04,  2.0838e-03, -4.8982e-04,  ...,  7.0501e-04,\n",
      "          -1.3730e-04,  1.8651e-03],\n",
      "         [-7.3244e-04,  5.1373e-04,  5.5381e-04,  ...,  1.1186e-03,\n",
      "           1.9094e-03,  2.9535e-04]],\n",
      "\n",
      "        [[ 1.8311e-04,  2.2850e-03,  4.1729e-04,  ...,  6.2979e-04,\n",
      "           7.4248e-05,  1.9375e-03],\n",
      "         [-1.1597e-03, -2.1021e-04,  8.9464e-04,  ...,  7.2088e-04,\n",
      "           2.1401e-03,  3.2306e-04]],\n",
      "\n",
      "        [[-1.7396e-03, -1.6951e-04,  2.5856e-03,  ...,  3.9022e-04,\n",
      "          -1.6906e-03, -2.1310e-03],\n",
      "         [-5.1881e-04, -5.7247e-04,  2.8093e-05,  ..., -1.7346e-03,\n",
      "          -1.3323e-03, -1.3298e-03]],\n",
      "\n",
      "        ...,\n",
      "\n",
      "        [[-6.7141e-04,  3.3706e-04,  9.0093e-04,  ...,  1.2609e-03,\n",
      "           2.5123e-03,  1.2147e-03],\n",
      "         [-5.4933e-04, -2.4524e-03, -1.9597e-04,  ..., -1.7514e-03,\n",
      "           2.8705e-04, -1.0419e-03]],\n",
      "\n",
      "        [[ 1.1292e-03, -5.5049e-04, -1.4775e-03,  ..., -1.6268e-03,\n",
      "          -2.0009e-03, -9.0898e-05],\n",
      "         [ 1.8006e-03,  2.5817e-03, -9.4251e-04,  ...,  3.9293e-04,\n",
      "          -1.8269e-04,  2.1178e-03]],\n",
      "\n",
      "        [[ 8.8504e-04, -1.0138e-03, -1.7318e-03,  ..., -2.1742e-03,\n",
      "          -1.8588e-03, -5.6852e-04],\n",
      "         [ 2.0753e-03,  2.4920e-03, -1.4041e-03,  ...,  3.1050e-04,\n",
      "           4.1499e-04,  2.8304e-03]]])\n"
     ]
    }
   ],
   "source": [
    "from steves_utils.transforms import get_average_magnitude, get_average_power\n",
    "\n",
    "print(set([u for u,_ in val_original_source]))\n",
    "print(set([u for u,_ in val_original_target]))\n",
    "\n",
    "s_x, s_y, q_x, q_y, _ = next(iter(train_processed_source))\n",
    "print(s_x)\n",
    "\n",
    "# for ds in [\n",
    "#     train_processed_source,\n",
    "#     val_processed_source,\n",
    "#     test_processed_source,\n",
    "#     train_processed_target,\n",
    "#     val_processed_target,\n",
    "#     test_processed_target\n",
    "# ]:\n",
    "#     for s_x, s_y, q_x, q_y, _ in ds:\n",
    "#         for X in (s_x, q_x):\n",
    "#             for x in X:\n",
    "#                 assert np.isclose(get_average_magnitude(x.numpy()), 1.0)\n",
    "#                 assert np.isclose(get_average_power(x.numpy()), 1.0)\n",
    "                "
   ]
  },
  {
   "cell_type": "code",
   "execution_count": 21,
   "id": "bbdacba1",
   "metadata": {
    "execution": {
     "iopub.execute_input": "2022-03-18T21:02:28.260888Z",
     "iopub.status.busy": "2022-03-18T21:02:28.260623Z",
     "iopub.status.idle": "2022-03-18T21:02:28.311163Z",
     "shell.execute_reply": "2022-03-18T21:02:28.310709Z"
    },
    "papermill": {
     "duration": 0.069423,
     "end_time": "2022-03-18T21:02:28.311266",
     "exception": false,
     "start_time": "2022-03-18T21:02:28.241843",
     "status": "completed"
    },
    "tags": []
   },
   "outputs": [
    {
     "name": "stdout",
     "output_type": "stream",
     "text": [
      "(2, 200)\n"
     ]
    }
   ],
   "source": [
    "###################################\n",
    "# Build the model\n",
    "###################################\n",
    "# easfsl only wants a tuple for the shape\n",
    "model = Steves_Prototypical_Network(x_net, device=p.device, x_shape=tuple(p.x_shape))\n",
    "optimizer = Adam(params=model.parameters(), lr=p.lr)"
   ]
  },
  {
   "cell_type": "code",
   "execution_count": 22,
   "id": "22b39ac5",
   "metadata": {
    "execution": {
     "iopub.execute_input": "2022-03-18T21:02:28.346216Z",
     "iopub.status.busy": "2022-03-18T21:02:28.345968Z",
     "iopub.status.idle": "2022-03-18T21:21:07.625101Z",
     "shell.execute_reply": "2022-03-18T21:21:07.624873Z"
    },
    "papermill": {
     "duration": 1119.296939,
     "end_time": "2022-03-18T21:21:07.625161",
     "exception": false,
     "start_time": "2022-03-18T21:02:28.328222",
     "status": "completed"
    },
    "tags": []
   },
   "outputs": [
    {
     "name": "stdout",
     "output_type": "stream",
     "text": [
      "epoch: 1, [batch: 1 / 6720], examples_per_second: 49.1008, train_label_loss: 2.9390, \n"
     ]
    },
    {
     "name": "stdout",
     "output_type": "stream",
     "text": [
      "epoch: 1, [batch: 672 / 6720], examples_per_second: 3618.1448, train_label_loss: 0.6872, \n"
     ]
    },
    {
     "name": "stdout",
     "output_type": "stream",
     "text": [
      "epoch: 1, [batch: 1344 / 6720], examples_per_second: 3659.7015, train_label_loss: 0.5017, \n"
     ]
    },
    {
     "name": "stdout",
     "output_type": "stream",
     "text": [
      "epoch: 1, [batch: 2016 / 6720], examples_per_second: 3651.9254, train_label_loss: 0.5006, \n"
     ]
    },
    {
     "name": "stdout",
     "output_type": "stream",
     "text": [
      "epoch: 1, [batch: 2688 / 6720], examples_per_second: 3626.3993, train_label_loss: 0.5247, \n"
     ]
    },
    {
     "name": "stdout",
     "output_type": "stream",
     "text": [
      "epoch: 1, [batch: 3360 / 6720], examples_per_second: 3630.4013, train_label_loss: 0.2975, \n"
     ]
    },
    {
     "name": "stdout",
     "output_type": "stream",
     "text": [
      "epoch: 1, [batch: 4032 / 6720], examples_per_second: 3632.3749, train_label_loss: 0.1915, \n"
     ]
    },
    {
     "name": "stdout",
     "output_type": "stream",
     "text": [
      "epoch: 1, [batch: 4704 / 6720], examples_per_second: 3636.0976, train_label_loss: 0.4716, \n"
     ]
    },
    {
     "name": "stdout",
     "output_type": "stream",
     "text": [
      "epoch: 1, [batch: 5376 / 6720], examples_per_second: 3618.2957, train_label_loss: 0.2220, \n"
     ]
    },
    {
     "name": "stdout",
     "output_type": "stream",
     "text": [
      "epoch: 1, [batch: 6048 / 6720], examples_per_second: 3611.2797, train_label_loss: 0.4231, \n"
     ]
    },
    {
     "name": "stdout",
     "output_type": "stream",
     "text": [
      "=============================================================\n",
      "epoch: 1, source_val_acc_label: 0.5368, target_val_acc_label: 0.6296, source_val_label_loss: 1978.1871, target_val_label_loss: 421530.0312, \n",
      "=============================================================\n"
     ]
    },
    {
     "name": "stdout",
     "output_type": "stream",
     "text": [
      "New best\n"
     ]
    },
    {
     "name": "stdout",
     "output_type": "stream",
     "text": [
      "epoch: 2, [batch: 1 / 6720], examples_per_second: 6.0314, train_label_loss: 64.3990, \n"
     ]
    },
    {
     "name": "stdout",
     "output_type": "stream",
     "text": [
      "epoch: 2, [batch: 672 / 6720], examples_per_second: 3601.7318, train_label_loss: 15.0395, \n"
     ]
    },
    {
     "name": "stdout",
     "output_type": "stream",
     "text": [
      "epoch: 2, [batch: 1344 / 6720], examples_per_second: 3609.2849, train_label_loss: 7.1876, \n"
     ]
    },
    {
     "name": "stdout",
     "output_type": "stream",
     "text": [
      "epoch: 2, [batch: 2016 / 6720], examples_per_second: 3608.7188, train_label_loss: 2.3160, \n"
     ]
    },
    {
     "name": "stdout",
     "output_type": "stream",
     "text": [
      "epoch: 2, [batch: 2688 / 6720], examples_per_second: 3590.7216, train_label_loss: 0.2830, \n"
     ]
    },
    {
     "name": "stdout",
     "output_type": "stream",
     "text": [
      "epoch: 2, [batch: 3360 / 6720], examples_per_second: 3643.8153, train_label_loss: 0.5354, \n"
     ]
    },
    {
     "name": "stdout",
     "output_type": "stream",
     "text": [
      "epoch: 2, [batch: 4032 / 6720], examples_per_second: 3639.0872, train_label_loss: 0.7197, \n"
     ]
    },
    {
     "name": "stdout",
     "output_type": "stream",
     "text": [
      "epoch: 2, [batch: 4704 / 6720], examples_per_second: 3629.4204, train_label_loss: 1.0845, \n"
     ]
    },
    {
     "name": "stdout",
     "output_type": "stream",
     "text": [
      "epoch: 2, [batch: 5376 / 6720], examples_per_second: 3633.0563, train_label_loss: 0.4311, \n"
     ]
    },
    {
     "name": "stdout",
     "output_type": "stream",
     "text": [
      "epoch: 2, [batch: 6048 / 6720], examples_per_second: 3638.4195, train_label_loss: 0.1340, \n"
     ]
    },
    {
     "name": "stdout",
     "output_type": "stream",
     "text": [
      "=============================================================\n",
      "epoch: 2, source_val_acc_label: 0.7138, target_val_acc_label: 0.3971, source_val_label_loss: 3.5857, target_val_label_loss: 39899.0625, \n",
      "=============================================================\n"
     ]
    },
    {
     "name": "stdout",
     "output_type": "stream",
     "text": [
      "New best\n"
     ]
    },
    {
     "name": "stdout",
     "output_type": "stream",
     "text": [
      "epoch: 3, [batch: 1 / 6720], examples_per_second: 6.0351, train_label_loss: 4.2226, \n"
     ]
    },
    {
     "name": "stdout",
     "output_type": "stream",
     "text": [
      "epoch: 3, [batch: 672 / 6720], examples_per_second: 3610.1975, train_label_loss: 0.5900, \n"
     ]
    },
    {
     "name": "stdout",
     "output_type": "stream",
     "text": [
      "epoch: 3, [batch: 1344 / 6720], examples_per_second: 3614.4720, train_label_loss: 0.4960, \n"
     ]
    },
    {
     "name": "stdout",
     "output_type": "stream",
     "text": [
      "epoch: 3, [batch: 2016 / 6720], examples_per_second: 3630.0035, train_label_loss: 0.3108, \n"
     ]
    },
    {
     "name": "stdout",
     "output_type": "stream",
     "text": [
      "epoch: 3, [batch: 2688 / 6720], examples_per_second: 3613.3797, train_label_loss: 0.4653, \n"
     ]
    },
    {
     "name": "stdout",
     "output_type": "stream",
     "text": [
      "epoch: 3, [batch: 3360 / 6720], examples_per_second: 3608.2663, train_label_loss: 0.8269, \n"
     ]
    },
    {
     "name": "stdout",
     "output_type": "stream",
     "text": [
      "epoch: 3, [batch: 4032 / 6720], examples_per_second: 3619.4959, train_label_loss: 0.5082, \n"
     ]
    },
    {
     "name": "stdout",
     "output_type": "stream",
     "text": [
      "epoch: 3, [batch: 4704 / 6720], examples_per_second: 3629.1563, train_label_loss: 0.5808, \n"
     ]
    },
    {
     "name": "stdout",
     "output_type": "stream",
     "text": [
      "epoch: 3, [batch: 5376 / 6720], examples_per_second: 3625.3367, train_label_loss: 0.5058, \n"
     ]
    },
    {
     "name": "stdout",
     "output_type": "stream",
     "text": [
      "epoch: 3, [batch: 6048 / 6720], examples_per_second: 3627.0349, train_label_loss: 0.4092, \n"
     ]
    },
    {
     "name": "stdout",
     "output_type": "stream",
     "text": [
      "=============================================================\n",
      "epoch: 3, source_val_acc_label: 0.8730, target_val_acc_label: 0.4428, source_val_label_loss: 0.3849, target_val_label_loss: 20693.1055, \n",
      "=============================================================\n"
     ]
    },
    {
     "name": "stdout",
     "output_type": "stream",
     "text": [
      "New best\n"
     ]
    },
    {
     "name": "stdout",
     "output_type": "stream",
     "text": [
      "epoch: 4, [batch: 1 / 6720], examples_per_second: 6.0002, train_label_loss: 0.6277, \n"
     ]
    },
    {
     "name": "stdout",
     "output_type": "stream",
     "text": [
      "epoch: 4, [batch: 672 / 6720], examples_per_second: 3610.5918, train_label_loss: 0.1804, \n"
     ]
    },
    {
     "name": "stdout",
     "output_type": "stream",
     "text": [
      "epoch: 4, [batch: 1344 / 6720], examples_per_second: 3638.4303, train_label_loss: 0.4287, \n"
     ]
    },
    {
     "name": "stdout",
     "output_type": "stream",
     "text": [
      "epoch: 4, [batch: 2016 / 6720], examples_per_second: 3614.6481, train_label_loss: 0.2974, \n"
     ]
    },
    {
     "name": "stdout",
     "output_type": "stream",
     "text": [
      "epoch: 4, [batch: 2688 / 6720], examples_per_second: 3624.8703, train_label_loss: 0.2262, \n"
     ]
    },
    {
     "name": "stdout",
     "output_type": "stream",
     "text": [
      "epoch: 4, [batch: 3360 / 6720], examples_per_second: 3634.4471, train_label_loss: 0.3474, \n"
     ]
    },
    {
     "name": "stdout",
     "output_type": "stream",
     "text": [
      "epoch: 4, [batch: 4032 / 6720], examples_per_second: 3647.5307, train_label_loss: 0.5398, \n"
     ]
    },
    {
     "name": "stdout",
     "output_type": "stream",
     "text": [
      "epoch: 4, [batch: 4704 / 6720], examples_per_second: 3624.5101, train_label_loss: 0.5392, \n"
     ]
    },
    {
     "name": "stdout",
     "output_type": "stream",
     "text": [
      "epoch: 4, [batch: 5376 / 6720], examples_per_second: 3626.1406, train_label_loss: 0.3234, \n"
     ]
    },
    {
     "name": "stdout",
     "output_type": "stream",
     "text": [
      "epoch: 4, [batch: 6048 / 6720], examples_per_second: 3624.3639, train_label_loss: 0.4741, \n"
     ]
    },
    {
     "name": "stdout",
     "output_type": "stream",
     "text": [
      "=============================================================\n",
      "epoch: 4, source_val_acc_label: 0.8656, target_val_acc_label: 0.4176, source_val_label_loss: 0.3817, target_val_label_loss: 44106.0469, \n",
      "=============================================================\n"
     ]
    },
    {
     "name": "stdout",
     "output_type": "stream",
     "text": [
      "epoch: 5, [batch: 1 / 6720], examples_per_second: 6.0237, train_label_loss: 0.3659, \n"
     ]
    },
    {
     "name": "stdout",
     "output_type": "stream",
     "text": [
      "epoch: 5, [batch: 672 / 6720], examples_per_second: 3615.9353, train_label_loss: 0.6576, \n"
     ]
    },
    {
     "name": "stdout",
     "output_type": "stream",
     "text": [
      "epoch: 5, [batch: 1344 / 6720], examples_per_second: 3629.0733, train_label_loss: 0.1818, \n"
     ]
    },
    {
     "name": "stdout",
     "output_type": "stream",
     "text": [
      "epoch: 5, [batch: 2016 / 6720], examples_per_second: 3643.4240, train_label_loss: 0.4307, \n"
     ]
    },
    {
     "name": "stdout",
     "output_type": "stream",
     "text": [
      "epoch: 5, [batch: 2688 / 6720], examples_per_second: 3627.2515, train_label_loss: 0.3483, \n"
     ]
    },
    {
     "name": "stdout",
     "output_type": "stream",
     "text": [
      "epoch: 5, [batch: 3360 / 6720], examples_per_second: 3640.0911, train_label_loss: 0.3827, \n"
     ]
    },
    {
     "name": "stdout",
     "output_type": "stream",
     "text": [
      "epoch: 5, [batch: 4032 / 6720], examples_per_second: 3657.9247, train_label_loss: 0.1519, \n"
     ]
    },
    {
     "name": "stdout",
     "output_type": "stream",
     "text": [
      "epoch: 5, [batch: 4704 / 6720], examples_per_second: 3621.6654, train_label_loss: 0.2126, \n"
     ]
    },
    {
     "name": "stdout",
     "output_type": "stream",
     "text": [
      "epoch: 5, [batch: 5376 / 6720], examples_per_second: 3642.8225, train_label_loss: 0.2452, \n"
     ]
    },
    {
     "name": "stdout",
     "output_type": "stream",
     "text": [
      "epoch: 5, [batch: 6048 / 6720], examples_per_second: 3639.8250, train_label_loss: 0.7385, \n"
     ]
    },
    {
     "name": "stdout",
     "output_type": "stream",
     "text": [
      "=============================================================\n",
      "epoch: 5, source_val_acc_label: 0.8863, target_val_acc_label: 0.4081, source_val_label_loss: 0.3282, target_val_label_loss: 104492.4688, \n",
      "=============================================================\n"
     ]
    },
    {
     "name": "stdout",
     "output_type": "stream",
     "text": [
      "epoch: 6, [batch: 1 / 6720], examples_per_second: 6.0139, train_label_loss: 0.5450, \n"
     ]
    },
    {
     "name": "stdout",
     "output_type": "stream",
     "text": [
      "epoch: 6, [batch: 672 / 6720], examples_per_second: 3617.4120, train_label_loss: 0.3505, \n"
     ]
    },
    {
     "name": "stdout",
     "output_type": "stream",
     "text": [
      "epoch: 6, [batch: 1344 / 6720], examples_per_second: 3634.4658, train_label_loss: 0.1767, \n"
     ]
    },
    {
     "name": "stdout",
     "output_type": "stream",
     "text": [
      "epoch: 6, [batch: 2016 / 6720], examples_per_second: 3636.7913, train_label_loss: 0.2961, \n"
     ]
    },
    {
     "name": "stdout",
     "output_type": "stream",
     "text": [
      "epoch: 6, [batch: 2688 / 6720], examples_per_second: 3616.8534, train_label_loss: 0.3698, \n"
     ]
    },
    {
     "name": "stdout",
     "output_type": "stream",
     "text": [
      "epoch: 6, [batch: 3360 / 6720], examples_per_second: 3639.8077, train_label_loss: 0.3859, \n"
     ]
    },
    {
     "name": "stdout",
     "output_type": "stream",
     "text": [
      "epoch: 6, [batch: 4032 / 6720], examples_per_second: 3646.3685, train_label_loss: 0.2214, \n"
     ]
    },
    {
     "name": "stdout",
     "output_type": "stream",
     "text": [
      "epoch: 6, [batch: 4704 / 6720], examples_per_second: 3624.5789, train_label_loss: 0.2672, \n"
     ]
    },
    {
     "name": "stdout",
     "output_type": "stream",
     "text": [
      "epoch: 6, [batch: 5376 / 6720], examples_per_second: 3639.1610, train_label_loss: 0.0855, \n"
     ]
    },
    {
     "name": "stdout",
     "output_type": "stream",
     "text": [
      "epoch: 6, [batch: 6048 / 6720], examples_per_second: 3647.2792, train_label_loss: 0.4938, \n"
     ]
    },
    {
     "name": "stdout",
     "output_type": "stream",
     "text": [
      "=============================================================\n",
      "epoch: 6, source_val_acc_label: 0.8954, target_val_acc_label: 0.4149, source_val_label_loss: 0.3035, target_val_label_loss: 106460.3828, \n",
      "=============================================================\n"
     ]
    },
    {
     "name": "stdout",
     "output_type": "stream",
     "text": [
      "epoch: 7, [batch: 1 / 6720], examples_per_second: 6.0339, train_label_loss: 0.2583, \n"
     ]
    },
    {
     "name": "stdout",
     "output_type": "stream",
     "text": [
      "epoch: 7, [batch: 672 / 6720], examples_per_second: 3613.9449, train_label_loss: 0.3042, \n"
     ]
    },
    {
     "name": "stdout",
     "output_type": "stream",
     "text": [
      "epoch: 7, [batch: 1344 / 6720], examples_per_second: 3626.1233, train_label_loss: 0.6109, \n"
     ]
    },
    {
     "name": "stdout",
     "output_type": "stream",
     "text": [
      "epoch: 7, [batch: 2016 / 6720], examples_per_second: 3624.0215, train_label_loss: 0.3722, \n"
     ]
    },
    {
     "name": "stdout",
     "output_type": "stream",
     "text": [
      "epoch: 7, [batch: 2688 / 6720], examples_per_second: 3617.6185, train_label_loss: 0.1152, \n"
     ]
    },
    {
     "name": "stdout",
     "output_type": "stream",
     "text": [
      "epoch: 7, [batch: 3360 / 6720], examples_per_second: 3634.5880, train_label_loss: 0.2985, \n"
     ]
    },
    {
     "name": "stdout",
     "output_type": "stream",
     "text": [
      "epoch: 7, [batch: 4032 / 6720], examples_per_second: 3656.9383, train_label_loss: 0.3986, \n"
     ]
    },
    {
     "name": "stdout",
     "output_type": "stream",
     "text": [
      "epoch: 7, [batch: 4704 / 6720], examples_per_second: 3624.2764, train_label_loss: 0.3444, \n"
     ]
    },
    {
     "name": "stdout",
     "output_type": "stream",
     "text": [
      "epoch: 7, [batch: 5376 / 6720], examples_per_second: 3647.7734, train_label_loss: 0.5100, \n"
     ]
    },
    {
     "name": "stdout",
     "output_type": "stream",
     "text": [
      "epoch: 7, [batch: 6048 / 6720], examples_per_second: 3639.2062, train_label_loss: 0.2753, \n"
     ]
    },
    {
     "name": "stdout",
     "output_type": "stream",
     "text": [
      "=============================================================\n",
      "epoch: 7, source_val_acc_label: 0.8518, target_val_acc_label: 0.4286, source_val_label_loss: 0.4140, target_val_label_loss: 129053.1641, \n",
      "=============================================================\n"
     ]
    },
    {
     "name": "stdout",
     "output_type": "stream",
     "text": [
      "Patience (3) exhausted\n"
     ]
    }
   ],
   "source": [
    "###################################\n",
    "# train\n",
    "###################################\n",
    "jig = PTN_Train_Eval_Test_Jig(model, p.BEST_MODEL_PATH, p.device)\n",
    "\n",
    "jig.train(\n",
    "    train_iterable=datasets.source.processed.train,\n",
    "    source_val_iterable=datasets.source.processed.val,\n",
    "    target_val_iterable=datasets.target.processed.val,\n",
    "    num_epochs=p.n_epoch,\n",
    "    num_logs_per_epoch=p.NUM_LOGS_PER_EPOCH,\n",
    "    patience=p.patience,\n",
    "    optimizer=optimizer,\n",
    "    criteria_for_best=p.criteria_for_best,\n",
    ")"
   ]
  },
  {
   "cell_type": "code",
   "execution_count": 23,
   "id": "31e8fabf",
   "metadata": {
    "execution": {
     "iopub.execute_input": "2022-03-18T21:21:07.686691Z",
     "iopub.status.busy": "2022-03-18T21:21:07.686270Z",
     "iopub.status.idle": "2022-03-18T21:21:07.706335Z",
     "shell.execute_reply": "2022-03-18T21:21:07.705899Z"
    },
    "papermill": {
     "duration": 0.052443,
     "end_time": "2022-03-18T21:21:07.706442",
     "exception": false,
     "start_time": "2022-03-18T21:21:07.653999",
     "status": "completed"
    },
    "tags": []
   },
   "outputs": [],
   "source": [
    "total_experiment_time_secs = time.time() - start_time_secs"
   ]
  },
  {
   "cell_type": "code",
   "execution_count": 24,
   "id": "87b9595b",
   "metadata": {
    "execution": {
     "iopub.execute_input": "2022-03-18T21:21:07.775643Z",
     "iopub.status.busy": "2022-03-18T21:21:07.775372Z",
     "iopub.status.idle": "2022-03-18T21:22:10.607291Z",
     "shell.execute_reply": "2022-03-18T21:22:10.607037Z"
    },
    "papermill": {
     "duration": 62.866974,
     "end_time": "2022-03-18T21:22:10.607357",
     "exception": false,
     "start_time": "2022-03-18T21:21:07.740383",
     "status": "completed"
    },
    "tags": []
   },
   "outputs": [],
   "source": [
    "###################################\n",
    "# Evaluate the model\n",
    "###################################\n",
    "source_test_label_accuracy, source_test_label_loss = jig.test(datasets.source.processed.test)\n",
    "target_test_label_accuracy, target_test_label_loss = jig.test(datasets.target.processed.test)\n",
    "\n",
    "source_val_label_accuracy, source_val_label_loss = jig.test(datasets.source.processed.val)\n",
    "target_val_label_accuracy, target_val_label_loss = jig.test(datasets.target.processed.val)\n",
    "\n",
    "history = jig.get_history()\n",
    "\n",
    "total_epochs_trained = len(history[\"epoch_indices\"])\n",
    "\n",
    "val_dl = Iterable_Aggregator((datasets.source.original.val,datasets.target.original.val))\n",
    "\n",
    "confusion = ptn_confusion_by_domain_over_dataloader(model, p.device, val_dl)\n",
    "per_domain_accuracy = per_domain_accuracy_from_confusion(confusion)\n",
    "\n",
    "# Add a key to per_domain_accuracy for if it was a source domain\n",
    "for domain, accuracy in per_domain_accuracy.items():\n",
    "    per_domain_accuracy[domain] = {\n",
    "        \"accuracy\": accuracy,\n",
    "        \"source?\": domain in p.domains_source\n",
    "    }\n",
    "\n",
    "# Do an independent accuracy assesment JUST TO BE SURE!\n",
    "# _source_test_label_accuracy = independent_accuracy_assesment(model, datasets.source.processed.test, p.device)\n",
    "# _target_test_label_accuracy = independent_accuracy_assesment(model, datasets.target.processed.test, p.device)\n",
    "# _source_val_label_accuracy = independent_accuracy_assesment(model, datasets.source.processed.val, p.device)\n",
    "# _target_val_label_accuracy = independent_accuracy_assesment(model, datasets.target.processed.val, p.device)\n",
    "\n",
    "# assert(_source_test_label_accuracy == source_test_label_accuracy)\n",
    "# assert(_target_test_label_accuracy == target_test_label_accuracy)\n",
    "# assert(_source_val_label_accuracy == source_val_label_accuracy)\n",
    "# assert(_target_val_label_accuracy == target_val_label_accuracy)\n",
    "\n",
    "experiment = {\n",
    "    \"experiment_name\": p.experiment_name,\n",
    "    \"parameters\": dict(p),\n",
    "    \"results\": {\n",
    "        \"source_test_label_accuracy\": source_test_label_accuracy,\n",
    "        \"source_test_label_loss\": source_test_label_loss,\n",
    "        \"target_test_label_accuracy\": target_test_label_accuracy,\n",
    "        \"target_test_label_loss\": target_test_label_loss,\n",
    "        \"source_val_label_accuracy\": source_val_label_accuracy,\n",
    "        \"source_val_label_loss\": source_val_label_loss,\n",
    "        \"target_val_label_accuracy\": target_val_label_accuracy,\n",
    "        \"target_val_label_loss\": target_val_label_loss,\n",
    "        \"total_epochs_trained\": total_epochs_trained,\n",
    "        \"total_experiment_time_secs\": total_experiment_time_secs,\n",
    "        \"confusion\": confusion,\n",
    "        \"per_domain_accuracy\": per_domain_accuracy,\n",
    "    },\n",
    "    \"history\": history,\n",
    "    \"dataset_metrics\": get_dataset_metrics(datasets, \"ptn\"),\n",
    "}"
   ]
  },
  {
   "cell_type": "code",
   "execution_count": 25,
   "id": "54a21829",
   "metadata": {
    "execution": {
     "iopub.execute_input": "2022-03-18T21:22:10.668239Z",
     "iopub.status.busy": "2022-03-18T21:22:10.667786Z",
     "iopub.status.idle": "2022-03-18T21:22:10.786744Z",
     "shell.execute_reply": "2022-03-18T21:22:10.786292Z"
    },
    "papermill": {
     "duration": 0.150178,
     "end_time": "2022-03-18T21:22:10.786837",
     "exception": false,
     "start_time": "2022-03-18T21:22:10.636659",
     "status": "completed"
    },
    "tags": []
   },
   "outputs": [
    {
     "data": {
      "image/png": "[encoded data removed]",
      "text/plain": [
       "<Figure size 1080x504 with 1 Axes>"
      ]
     },
     "metadata": {
      "needs_background": "light"
     },
     "output_type": "display_data"
    }
   ],
   "source": [
    "ax = get_loss_curve(experiment)\n",
    "plt.show()"
   ]
  },
  {
   "cell_type": "code",
   "execution_count": 26,
   "id": "fd8a0f60",
   "metadata": {
    "execution": {
     "iopub.execute_input": "2022-03-18T21:22:10.853816Z",
     "iopub.status.busy": "2022-03-18T21:22:10.853550Z",
     "iopub.status.idle": "2022-03-18T21:22:10.996528Z",
     "shell.execute_reply": "2022-03-18T21:22:10.996269Z"
    },
    "papermill": {
     "duration": 0.175969,
     "end_time": "2022-03-18T21:22:10.996581",
     "exception": false,
     "start_time": "2022-03-18T21:22:10.820612",
     "status": "completed"
    },
    "tags": []
   },
   "outputs": [
    {
     "data": {
      "text/plain": [
       "<AxesSubplot:title={'center':'Results'}>"
      ]
     },
     "execution_count": 26,
     "metadata": {},
     "output_type": "execute_result"
    },
    {
     "data": {
      "image/png": "[encoded data removed]",
      "text/plain": [
       "<Figure size 1080x504 with 1 Axes>"
      ]
     },
     "metadata": {
      "needs_background": "light"
     },
     "output_type": "display_data"
    }
   ],
   "source": [
    "get_results_table(experiment)"
   ]
  },
  {
   "cell_type": "code",
   "execution_count": 27,
   "id": "cf8dc689",
   "metadata": {
    "execution": {
     "iopub.execute_input": "2022-03-18T21:22:11.063068Z",
     "iopub.status.busy": "2022-03-18T21:22:11.062373Z",
     "iopub.status.idle": "2022-03-18T21:22:11.220617Z",
     "shell.execute_reply": "2022-03-18T21:22:11.220226Z"
    },
    "papermill": {
     "duration": 0.192137,
     "end_time": "2022-03-18T21:22:11.220709",
     "exception": false,
     "start_time": "2022-03-18T21:22:11.028572",
     "status": "completed"
    },
    "tags": []
   },
   "outputs": [
    {
     "data": {
      "text/plain": [
       "<AxesSubplot:title={'center':'Per Domain Validation Accuracy'}, xlabel='domain'>"
      ]
     },
     "execution_count": 27,
     "metadata": {},
     "output_type": "execute_result"
    },
    {
     "data": {
      "image/png": "[encoded data removed]",
      "text/plain": [
       "<Figure size 1080x504 with 1 Axes>"
      ]
     },
     "metadata": {
      "needs_background": "light"
     },
     "output_type": "display_data"
    }
   ],
   "source": [
    "get_domain_accuracies(experiment)"
   ]
  },
  {
   "cell_type": "code",
   "execution_count": 28,
   "id": "a74ae082",
   "metadata": {
    "execution": {
     "iopub.execute_input": "2022-03-18T21:22:11.294749Z",
     "iopub.status.busy": "2022-03-18T21:22:11.291173Z",
     "iopub.status.idle": "2022-03-18T21:22:11.307416Z",
     "shell.execute_reply": "2022-03-18T21:22:11.306980Z"
    },
    "papermill": {
     "duration": 0.051786,
     "end_time": "2022-03-18T21:22:11.307508",
     "exception": false,
     "start_time": "2022-03-18T21:22:11.255722",
     "status": "completed"
    },
    "tags": []
   },
   "outputs": [
    {
     "name": "stdout",
     "output_type": "stream",
     "text": [
      "Source Test Label Accuracy: 0.87529296875 Target Test Label Accuracy: 0.44863754325259514\n",
      "Source Val Label Accuracy: 0.8730143229166667 Target Val Label Accuracy: 0.4427984429065744\n"
     ]
    }
   ],
   "source": [
    "print(\"Source Test Label Accuracy:\", experiment[\"results\"][\"source_test_label_accuracy\"], \"Target Test Label Accuracy:\", experiment[\"results\"][\"target_test_label_accuracy\"])\n",
    "print(\"Source Val Label Accuracy:\", experiment[\"results\"][\"source_val_label_accuracy\"], \"Target Val Label Accuracy:\", experiment[\"results\"][\"target_val_label_accuracy\"])"
   ]
  },
  {
   "cell_type": "code",
   "execution_count": 29,
   "id": "dacca602",
   "metadata": {
    "execution": {
     "iopub.execute_input": "2022-03-18T21:22:11.382500Z",
     "iopub.status.busy": "2022-03-18T21:22:11.379544Z",
     "iopub.status.idle": "2022-03-18T21:22:11.397702Z",
     "shell.execute_reply": "2022-03-18T21:22:11.398132Z"
    },
    "papermill": {
     "duration": 0.054832,
     "end_time": "2022-03-18T21:22:11.398255",
     "exception": false,
     "start_time": "2022-03-18T21:22:11.343423",
     "status": "completed"
    },
    "tags": [
     "experiment_json"
    ]
   },
   "outputs": [
    {
     "data": {
      "text/plain": [
       "'{\"experiment_name\": \"tl_3A:oracle.run1.framed -> cores+wisig\", \"parameters\": {\"experiment_name\": \"tl_3A:oracle.run1.framed -> cores+wisig\", \"device\": \"cuda\", \"lr\": 0.001, \"seed\": 500, \"dataset_seed\": 500, \"x_shape\": [2, 200], \"n_shot\": 3, \"n_query\": 2, \"train_k_factor\": 3, \"val_k_factor\": 2, \"test_k_factor\": 2, \"torch_default_dtype\": \"torch.float32\", \"n_epoch\": 50, \"patience\": 3, \"criteria_for_best\": \"target_loss\", \"x_net\": [{\"class\": \"nnReshape\", \"kargs\": {\"shape\": [-1, 1, 2, 200]}}, {\"class\": \"Conv2d\", \"kargs\": {\"in_channels\": 1, \"out_channels\": 256, \"kernel_size\": [1, 7], \"bias\": false, \"padding\": [0, 3]}}, {\"class\": \"ReLU\", \"kargs\": {\"inplace\": true}}, {\"class\": \"BatchNorm2d\", \"kargs\": {\"num_features\": 256}}, {\"class\": \"Conv2d\", \"kargs\": {\"in_channels\": 256, \"out_channels\": 80, \"kernel_size\": [2, 7], \"bias\": true, \"padding\": [0, 3]}}, {\"class\": \"ReLU\", \"kargs\": {\"inplace\": true}}, {\"class\": \"BatchNorm2d\", \"kargs\": {\"num_features\": 80}}, {\"class\": \"Flatten\", \"kargs\": {}}, {\"class\": \"Linear\", \"kargs\": {\"in_features\": 16000, \"out_features\": 256}}, {\"class\": \"ReLU\", \"kargs\": {\"inplace\": true}}, {\"class\": \"BatchNorm1d\", \"kargs\": {\"num_features\": 256}}, {\"class\": \"Linear\", \"kargs\": {\"in_features\": 256, \"out_features\": 256}}], \"NUM_LOGS_PER_EPOCH\": 10, \"BEST_MODEL_PATH\": \"./best_model.pth\", \"n_way\": 16, \"datasets\": [{\"labels\": [\"1-10.\", \"1-11.\", \"1-15.\", \"1-16.\", \"1-17.\", \"1-18.\", \"1-19.\", \"10-4.\", \"10-7.\", \"11-1.\", \"11-14.\", \"11-17.\", \"11-20.\", \"11-7.\", \"13-20.\", \"13-8.\", \"14-10.\", \"14-11.\", \"14-14.\", \"14-7.\", \"15-1.\", \"15-20.\", \"16-1.\", \"16-16.\", \"17-10.\", \"17-11.\", \"17-2.\", \"19-1.\", \"19-16.\", \"19-19.\", \"19-20.\", \"19-3.\", \"2-10.\", \"2-11.\", \"2-17.\", \"2-18.\", \"2-20.\", \"2-3.\", \"2-4.\", \"2-5.\", \"2-6.\", \"2-7.\", \"2-8.\", \"3-13.\", \"3-18.\", \"3-3.\", \"4-1.\", \"4-10.\", \"4-11.\", \"4-19.\", \"5-5.\", \"6-15.\", \"7-10.\", \"7-14.\", \"8-18.\", \"8-20.\", \"8-3.\", \"8-8.\"], \"domains\": [1, 2, 3, 4, 5], \"num_examples_per_domain_per_label\": 100, \"pickle_path\": \"/mnt/wd500GB/CSC500/csc500-main/datasets/cores.stratified_ds.2022A.pkl\", \"source_or_target_dataset\": \"target\", \"x_transforms\": [\"take_200\"], \"episode_transforms\": [], \"domain_prefix\": \"C_A_\"}, {\"labels\": [\"1-10\", \"1-12\", \"1-14\", \"1-16\", \"1-18\", \"1-19\", \"1-8\", \"10-11\", \"10-17\", \"10-4\", \"10-7\", \"11-1\", \"11-10\", \"11-19\", \"11-20\", \"11-4\", \"11-7\", \"12-19\", \"12-20\", \"12-7\", \"13-14\", \"13-18\", \"13-19\", \"13-20\", \"13-3\", \"13-7\", \"14-10\", \"14-11\", \"14-12\", \"14-13\", \"14-14\", \"14-19\", \"14-20\", \"14-7\", \"14-8\", \"14-9\", \"15-1\", \"15-19\", \"15-6\", \"16-1\", \"16-16\", \"16-19\", \"16-20\", \"17-10\", \"17-11\", \"18-1\", \"18-10\", \"18-11\", \"18-12\", \"18-13\", \"18-14\", \"18-15\", \"18-16\", \"18-17\", \"18-19\", \"18-2\", \"18-20\", \"18-4\", \"18-5\", \"18-7\", \"18-8\", \"18-9\", \"19-1\", \"19-10\", \"19-11\", \"19-12\", \"19-13\", \"19-14\", \"19-15\", \"19-19\", \"19-2\", \"19-20\", \"19-3\", \"19-4\", \"19-6\", \"19-7\", \"19-8\", \"19-9\", \"2-1\", \"2-13\", \"2-15\", \"2-3\", \"2-4\", \"2-5\", \"2-6\", \"2-7\", \"2-8\", \"20-1\", \"20-12\", \"20-14\", \"20-15\", \"20-16\", \"20-18\", \"20-19\", \"20-20\", \"20-3\", \"20-4\", \"20-5\", \"20-7\", \"20-8\", \"3-1\", \"3-13\", \"3-18\", \"3-2\", \"3-8\", \"4-1\", \"4-10\", \"4-11\", \"5-1\", \"5-5\", \"6-1\", \"6-15\", \"6-6\", \"7-10\", \"7-11\", \"7-12\", \"7-13\", \"7-14\", \"7-7\", \"7-8\", \"7-9\", \"8-1\", \"8-13\", \"8-14\", \"8-18\", \"8-20\", \"8-3\", \"8-8\", \"9-1\", \"9-7\"], \"domains\": [1, 2, 3, 4], \"num_examples_per_domain_per_label\": 100, \"pickle_path\": \"/mnt/wd500GB/CSC500/csc500-main/datasets/wisig.node3-19.stratified_ds.2022A.pkl\", \"source_or_target_dataset\": \"target\", \"x_transforms\": [\"take_200\"], \"episode_transforms\": [], \"domain_prefix\": \"W_A_\"}, {\"labels\": [\"3123D52\", \"3123D65\", \"3123D79\", \"3123D80\", \"3123D54\", \"3123D70\", \"3123D7B\", \"3123D89\", \"3123D58\", \"3123D76\", \"3123D7D\", \"3123EFE\", \"3123D64\", \"3123D78\", \"3123D7E\", \"3124E4A\"], \"domains\": [32, 38, 8, 44, 14, 50, 20, 26], \"num_examples_per_domain_per_label\": 2000, \"pickle_path\": \"/mnt/wd500GB/CSC500/csc500-main/datasets/oracle.Run1_framed_2000Examples_stratified_ds.2022A.pkl\", \"source_or_target_dataset\": \"source\", \"x_transforms\": [\"take_200\", \"resample_20Msps_to_25Msps\"], \"episode_transforms\": [], \"domain_prefix\": \"ORACLE.run1_\"}], \"domains_source\": [\"ORACLE.run1_32\", \"ORACLE.run1_38\", \"ORACLE.run1_8\", \"ORACLE.run1_44\", \"ORACLE.run1_14\", \"ORACLE.run1_50\", \"ORACLE.run1_20\", \"ORACLE.run1_26\"], \"domains_target\": [\"C_A_1\", \"C_A_2\", \"C_A_3\", \"C_A_4\", \"C_A_5\", \"W_A_1\", \"W_A_2\", \"W_A_3\", \"W_A_4\"]}, \"results\": {\"source_test_label_accuracy\": 0.87529296875, \"source_test_label_loss\": 0.37818780541419983, \"target_test_label_accuracy\": 0.44863754325259514, \"target_test_label_loss\": 18644.029296875, \"source_val_label_accuracy\": 0.8730143229166667, \"source_val_label_loss\": 0.38492798805236816, \"target_val_label_accuracy\": 0.4427984429065744, \"target_val_label_loss\": 20693.10546875, \"total_epochs_trained\": 7, \"total_experiment_time_secs\": 1139.807926416397, \"confusion\": {\"ORACLE.run1_50\": {\"7\": {\"7\": 227, \"4\": 4, \"5\": 9}, \"10\": {\"10\": 238, \"8\": 2}, \"0\": {\"0\": 231, \"2\": 7, \"10\": 2}, \"11\": {\"11\": 228, \"12\": 4, \"15\": 3, \"9\": 5}, \"2\": {\"2\": 234, \"0\": 6}, \"14\": {\"14\": 240}, \"9\": {\"11\": 12, \"9\": 204, \"12\": 24}, \"13\": {\"13\": 240}, \"8\": {\"8\": 240}, \"15\": {\"15\": 228, \"6\": 8, \"4\": 1, \"11\": 3}, \"4\": {\"4\": 199, \"7\": 19, \"5\": 12, \"6\": 2, \"15\": 8}, \"5\": {\"4\": 11, \"7\": 65, \"6\": 43, \"5\": 112, \"13\": 6, \"1\": 2, \"15\": 1}, \"3\": {\"3\": 240}, \"1\": {\"1\": 237, \"13\": 3}, \"6\": {\"6\": 198, \"5\": 34, \"15\": 8}, \"12\": {\"12\": 213, \"11\": 5, \"9\": 22}}, \"ORACLE.run1_14\": {\"14\": {\"14\": 194, \"13\": 31, \"2\": 9, \"3\": 6}, \"6\": {\"6\": 151, \"13\": 66, \"14\": 19, \"3\": 1, \"2\": 3}, \"5\": {\"5\": 227, \"2\": 11, \"4\": 2}, \"15\": {\"15\": 240}, \"11\": {\"11\": 240}, \"8\": {\"8\": 240}, \"12\": {\"12\": 240}, \"1\": {\"1\": 240}, \"2\": {\"14\": 48, \"2\": 102, \"13\": 15, \"4\": 16, \"5\": 31, \"6\": 16, \"3\": 11, \"7\": 1}, \"13\": {\"14\": 81, \"13\": 47, \"6\": 76, \"2\": 23, \"15\": 12, \"0\": 1}, \"3\": {\"3\": 236, \"0\": 2, \"14\": 2}, \"0\": {\"0\": 213, \"10\": 8, \"3\": 18, \"14\": 1}, \"9\": {\"9\": 240}, \"4\": {\"4\": 238, \"5\": 2}, \"7\": {\"7\": 240}, \"10\": {\"10\": 240}}, \"ORACLE.run1_32\": {\"4\": {\"4\": 203, \"2\": 35, \"13\": 2}, \"14\": {\"14\": 157, \"5\": 20, \"0\": 7, \"7\": 41, \"8\": 3, \"2\": 6, \"3\": 1, \"4\": 4, \"13\": 1}, \"5\": {\"5\": 120, \"7\": 55, \"8\": 26, \"0\": 29, \"14\": 10}, \"10\": {\"10\": 240}, \"13\": {\"4\": 21, \"13\": 202, \"3\": 15, \"11\": 2}, \"9\": {\"9\": 236, \"2\": 2, \"12\": 2}, \"6\": {\"6\": 240}, \"3\": {\"3\": 232, \"13\": 8}, \"15\": {\"15\": 238, \"8\": 2}, \"7\": {\"7\": 167, \"5\": 31, \"0\": 22, \"8\": 1, \"14\": 19}, \"12\": {\"12\": 240}, \"8\": {\"8\": 178, \"14\": 4, \"4\": 2, \"5\": 26, \"0\": 25, \"7\": 5}, \"11\": {\"11\": 240}, \"2\": {\"2\": 215, \"4\": 25}, \"1\": {\"1\": 240}, \"0\": {\"0\": 176, \"7\": 27, \"5\": 14, \"8\": 20, \"14\": 3}}, \"ORACLE.run1_44\": {\"8\": {\"0\": 63, \"8\": 158, \"15\": 7, \"5\": 12}, \"11\": {\"11\": 240}, \"14\": {\"14\": 174, \"4\": 50, \"5\": 10, \"15\": 6}, \"10\": {\"10\": 225, \"7\": 8, \"1\": 4, \"2\": 3}, \"3\": {\"3\": 233, \"12\": 7}, \"15\": {\"15\": 196, \"14\": 23, \"5\": 12, \"8\": 7, \"0\": 1, \"4\": 1}, \"2\": {\"2\": 228, \"1\": 10, \"10\": 2}, \"12\": {\"12\": 231, \"3\": 9}, \"4\": {\"14\": 80, \"4\": 151, \"15\": 7, \"9\": 2}, \"1\": {\"1\": 225, \"2\": 14, \"10\": 1}, \"0\": {\"0\": 204, \"8\": 35, \"15\": 1}, \"9\": {\"6\": 41, \"7\": 87, \"9\": 98, \"4\": 1, \"13\": 13}, \"5\": {\"5\": 202, \"14\": 21, \"15\": 16, \"4\": 1}, \"6\": {\"6\": 200, \"9\": 13, \"13\": 27}, \"7\": {\"7\": 204, \"9\": 36}, \"13\": {\"13\": 200, \"6\": 34, \"9\": 6}}, \"ORACLE.run1_8\": {\"13\": {\"13\": 204, \"10\": 22, \"6\": 1, \"7\": 11, \"5\": 2}, \"3\": {\"3\": 240}, \"15\": {\"15\": 223, \"12\": 17}, \"4\": {\"4\": 239, \"6\": 1}, \"7\": {\"7\": 230, \"6\": 10}, \"2\": {\"2\": 187, \"3\": 37, \"12\": 12, \"15\": 4}, \"1\": {\"1\": 189, \"11\": 46, \"10\": 1, \"5\": 4}, \"0\": {\"0\": 240}, \"12\": {\"15\": 51, \"12\": 189}, \"6\": {\"6\": 229, \"7\": 11}, \"11\": {\"11\": 136, \"1\": 101, \"5\": 1, \"14\": 2}, \"9\": {\"9\": 240}, \"5\": {\"5\": 190, \"11\": 8, \"14\": 3, \"1\": 13, \"10\": 26}, \"10\": {\"10\": 194, \"13\": 40, \"4\": 2, \"5\": 4}, \"14\": {\"14\": 224, \"4\": 16}, \"8\": {\"8\": 240}}, \"ORACLE.run1_20\": {\"6\": {\"6\": 237, \"7\": 3}, \"11\": {\"11\": 240}, \"5\": {\"5\": 165, \"1\": 44, \"3\": 27, \"9\": 4}, \"14\": {\"14\": 236, \"8\": 4}, \"2\": {\"2\": 196, \"12\": 20, \"7\": 18, \"13\": 4, \"9\": 2}, \"7\": {\"2\": 11, \"7\": 220, \"9\": 8, \"6\": 1}, \"3\": {\"3\": 184, \"5\": 21, \"9\": 19, \"8\": 11, \"0\": 2, \"1\": 3}, \"4\": {\"4\": 238, \"12\": 2}, \"9\": {\"9\": 202, \"7\": 19, \"1\": 4, \"3\": 12, \"5\": 1, \"12\": 1, \"2\": 1}, \"12\": {\"12\": 189, \"2\": 30, \"15\": 18, \"7\": 1, \"4\": 2}, \"0\": {\"0\": 233, \"3\": 5, \"5\": 2}, \"10\": {\"10\": 240}, \"8\": {\"8\": 226, \"14\": 8, \"3\": 6}, \"13\": {\"13\": 235, \"2\": 5}, \"1\": {\"5\": 37, \"1\": 191, \"9\": 7, \"15\": 4, \"3\": 1}, \"15\": {\"15\": 201, \"1\": 12, \"12\": 22, \"13\": 2, \"2\": 1, \"9\": 2}}, \"ORACLE.run1_38\": {\"3\": {\"3\": 240}, \"8\": {\"8\": 137, \"5\": 74, \"7\": 19, \"15\": 8, \"0\": 1, \"13\": 1}, \"0\": {\"0\": 168, \"7\": 32, \"10\": 27, \"8\": 3, \"13\": 10}, \"2\": {\"14\": 20, \"2\": 220}, \"4\": {\"4\": 239, \"10\": 1}, \"7\": {\"7\": 238, \"8\": 1, \"5\": 1}, \"12\": {\"12\": 240}, \"6\": {\"6\": 240}, \"15\": {\"15\": 226, \"8\": 3, \"5\": 7, \"1\": 4}, \"11\": {\"11\": 234, \"3\": 6}, \"9\": {\"9\": 237, \"5\": 3}, \"14\": {\"14\": 223, \"2\": 17}, \"10\": {\"10\": 216, \"0\": 16, \"13\": 6, \"4\": 2}, \"5\": {\"5\": 132, \"8\": 71, \"7\": 17, \"9\": 12, \"15\": 8}, \"1\": {\"1\": 240}, \"13\": {\"10\": 11, \"13\": 225, \"2\": 1, \"0\": 3}}, \"ORACLE.run1_26\": {\"5\": {\"5\": 218, \"15\": 21, \"6\": 1}, \"8\": {\"8\": 190, \"9\": 26, \"7\": 22, \"2\": 2}, \"4\": {\"4\": 240}, \"12\": {\"12\": 240}, \"6\": {\"6\": 216, \"10\": 4, \"15\": 15, \"5\": 2, \"1\": 2, \"14\": 1}, \"7\": {\"7\": 204, \"8\": 15, \"3\": 9, \"2\": 12}, \"10\": {\"0\": 25, \"10\": 167, \"14\": 36, \"6\": 7, \"15\": 5}, \"0\": {\"0\": 184, \"10\": 35, \"14\": 21}, \"15\": {\"15\": 163, \"6\": 32, \"5\": 38, \"10\": 4, \"1\": 1, \"0\": 1, \"14\": 1}, \"9\": {\"9\": 162, \"8\": 47, \"13\": 13, \"2\": 15, \"7\": 3}, \"11\": {\"11\": 240}, \"14\": {\"14\": 175, \"10\": 43, \"1\": 9, \"0\": 12, \"15\": 1}, \"2\": {\"2\": 159, \"7\": 30, \"9\": 22, \"3\": 16, \"8\": 11, \"0\": 2}, \"13\": {\"13\": 223, \"2\": 6, \"9\": 8, \"3\": 3}, \"3\": {\"3\": 226, \"7\": 10, \"2\": 4}, \"1\": {\"1\": 200, \"14\": 31, \"6\": 3, \"10\": 3, \"15\": 2, \"5\": 1}}, \"W_A_3\": {\"99\": {\"39\": 3, \"93\": 3, \"108\": 1, \"20\": 1, \"31\": 2, \"99\": 2}, \"8\": {\"39\": 2, \"64\": 3, \"109\": 2, \"16\": 2, \"110\": 1, \"1\": 1, \"31\": 1}, \"65\": {\"57\": 1, \"49\": 1, \"20\": 1, \"128\": 1, \"29\": 1, \"76\": 1, \"123\": 1, \"70\": 1, \"65\": 1, \"64\": 1, \"80\": 1, \"120\": 1}, \"117\": {\"117\": 2, \"39\": 1, \"109\": 1, \"11\": 1, \"115\": 1, \"9\": 1, \"93\": 1, \"88\": 1, \"69\": 1}, \"18\": {\"39\": 1, \"18\": 7, \"14\": 1, \"87\": 2, \"26\": 1}, \"39\": {\"39\": 8, \"109\": 1, \"88\": 2, \"7\": 1}, \"102\": {\"102\": 7, \"119\": 1, \"122\": 2, \"5\": 1, \"13\": 1}, \"76\": {\"86\": 1, \"57\": 1, \"48\": 1, \"55\": 1, \"76\": 4, \"87\": 1, \"22\": 1, \"81\": 1, \"103\": 1}, \"101\": {\"39\": 2, \"98\": 1, \"76\": 1, \"0\": 1, \"101\": 3, \"94\": 1, \"56\": 1, \"103\": 2}, \"57\": {\"57\": 6, \"32\": 1, \"14\": 1, \"43\": 2, \"7\": 2}, \"86\": {\"86\": 1, \"117\": 1, \"93\": 1, \"36\": 1, \"90\": 1, \"1\": 2, \"49\": 1, \"3\": 2, \"80\": 1, \"77\": 1}, \"11\": {\"39\": 1, \"99\": 1, \"109\": 2, \"11\": 4, \"92\": 1, \"7\": 2, \"2\": 1}, \"98\": {\"98\": 4, \"65\": 2, \"31\": 1, \"94\": 1, \"36\": 1, \"42\": 1, \"44\": 1, \"91\": 1}, \"42\": {\"39\": 1, \"42\": 2, \"98\": 1, \"7\": 1, \"6\": 2, \"35\": 2, \"15\": 1, \"52\": 1, \"55\": 1}, \"47\": {\"47\": 5, \"42\": 1, \"51\": 1, \"75\": 3, \"98\": 1, \"52\": 1}, \"49\": {\"39\": 1, \"49\": 2, \"0\": 1, \"24\": 1, \"1\": 1, \"113\": 1, \"16\": 1, \"8\": 1, \"7\": 2, \"10\": 1}, \"111\": {\"73\": 1, \"111\": 8, \"68\": 1, \"98\": 1, \"96\": 1}, \"36\": {\"26\": 1, \"51\": 1, \"64\": 1, \"108\": 1, \"21\": 2, \"33\": 1, \"118\": 1, \"15\": 2, \"8\": 1, \"36\": 1}, \"124\": {\"111\": 1, \"36\": 1, \"34\": 1, \"124\": 6, \"7\": 1, \"73\": 1, \"127\": 1}, \"122\": {\"93\": 2, \"122\": 5, \"87\": 1, \"118\": 1, \"39\": 2, \"108\": 1}, \"93\": {\"93\": 7, \"39\": 1, \"70\": 2, \"11\": 1, \"60\": 1}, \"89\": {\"89\": 6, \"53\": 1, \"5\": 2, \"49\": 1, \"84\": 1, \"120\": 1}, \"51\": {\"51\": 6, \"41\": 1, \"47\": 3, \"83\": 1, \"94\": 1}, \"73\": {\"45\": 1, \"51\": 2, \"73\": 5, \"91\": 1, \"66\": 1, \"101\": 1, \"24\": 1}, \"45\": {\"89\": 3, \"13\": 1, \"45\": 5, \"17\": 1, \"79\": 1, \"82\": 1}, \"5\": {\"5\": 7, \"45\": 1, \"107\": 2, \"68\": 1, \"32\": 1}, \"69\": {\"5\": 2, \"121\": 3, \"69\": 3, \"67\": 1, \"40\": 1, \"123\": 1, \"16\": 1}, \"26\": {\"86\": 1, \"69\": 1, \"26\": 2, \"70\": 1, \"113\": 1, \"107\": 1, \"18\": 1, \"1\": 2, \"43\": 1, \"105\": 1}, \"1\": {\"1\": 2, \"93\": 1, \"114\": 1, \"96\": 1, \"44\": 1, \"69\": 1, \"7\": 1, \"113\": 1, \"3\": 1, \"92\": 1, \"127\": 1}, \"92\": {\"93\": 1, \"99\": 1, \"2\": 1, \"113\": 1, \"16\": 2, \"48\": 1, \"92\": 1}, \"96\": {\"96\": 2, \"31\": 1, \"10\": 1, \"14\": 1, \"43\": 3, \"113\": 2, \"11\": 1, \"70\": 1}, \"85\": {\"1\": 1, \"50\": 1, \"82\": 1, \"128\": 1, \"68\": 2, \"102\": 2, \"87\": 1, \"75\": 1, \"85\": 2}, \"114\": {\"1\": 1, \"114\": 5, \"39\": 1, \"53\": 1, \"14\": 1, \"105\": 1, \"40\": 1, \"110\": 1}, \"50\": {\"50\": 5, \"40\": 1, \"119\": 1, \"128\": 1, \"16\": 1, \"115\": 1, \"45\": 1, \"82\": 1}, \"81\": {\"33\": 1, \"96\": 1, \"87\": 1, \"74\": 1, \"44\": 2, \"7\": 2, \"70\": 1, \"95\": 1, \"84\": 1, \"81\": 1}, \"2\": {\"90\": 2, \"96\": 1, \"80\": 1, \"39\": 1, \"2\": 2, \"118\": 1, \"113\": 1, \"11\": 1, \"45\": 1, \"17\": 1}, \"33\": {\"33\": 3, \"81\": 2, \"84\": 1, \"105\": 4, \"70\": 1, \"40\": 1}, \"31\": {\"31\": 7, \"57\": 1, \"88\": 1, \"99\": 1, \"93\": 1, \"92\": 1}, \"90\": {\"90\": 3, \"70\": 1, \"28\": 2, \"20\": 1, \"8\": 1}, \"17\": {\"33\": 2, \"17\": 1, \"129\": 2, \"7\": 1, \"115\": 1, \"40\": 1, \"89\": 2, \"124\": 1, \"21\": 1}, \"116\": {\"33\": 1, \"86\": 1, \"19\": 1, \"116\": 2, \"62\": 1, \"14\": 1, \"5\": 1, \"103\": 1, \"109\": 1}, \"91\": {\"116\": 1, \"47\": 1, \"91\": 4, \"34\": 2, \"52\": 2, \"66\": 1, \"46\": 1}, \"41\": {\"19\": 1, \"63\": 2, \"61\": 1, \"5\": 4, \"41\": 1, \"74\": 1, \"105\": 2}, \"78\": {\"21\": 3, \"78\": 2, \"75\": 1}, \"21\": {\"21\": 12}, \"23\": {\"23\": 3, \"70\": 1, \"7\": 2, \"110\": 1, \"16\": 1, \"30\": 1, \"43\": 1, \"108\": 1, \"44\": 1}, \"63\": {\"32\": 1, \"63\": 6, \"45\": 1, \"67\": 2, \"65\": 1, \"7\": 1}, \"103\": {\"55\": 1, \"32\": 1, \"26\": 1, \"70\": 1, \"103\": 4, \"7\": 1, \"84\": 1, \"57\": 1, \"80\": 1}, \"54\": {\"54\": 12}, \"87\": {\"70\": 1, \"87\": 4, \"10\": 1, \"23\": 1, \"16\": 1, \"60\": 1, \"43\": 1, \"113\": 2}, \"123\": {\"55\": 1, \"123\": 2, \"23\": 1, \"61\": 1, \"74\": 2, \"28\": 1, \"129\": 2, \"39\": 1, \"40\": 1}, \"32\": {\"32\": 1, \"103\": 1, \"109\": 1, \"126\": 1, \"62\": 1, \"14\": 1, \"7\": 1, \"18\": 1, \"3\": 1, \"10\": 1, \"30\": 1, \"5\": 1}, \"70\": {\"78\": 2, \"70\": 10}, \"19\": {\"32\": 2, \"10\": 1, \"66\": 2, \"24\": 1, \"39\": 2, \"35\": 1, \"40\": 1, \"9\": 1, \"87\": 1}, \"55\": {\"55\": 4, \"70\": 1, \"45\": 1, \"7\": 1, \"69\": 1, \"2\": 1, \"100\": 1, \"43\": 1, \"23\": 1}, \"34\": {\"9\": 2, \"24\": 1, \"34\": 7, \"22\": 1, \"93\": 1}, \"28\": {\"28\": 10, \"52\": 1, \"86\": 1}, \"109\": {\"39\": 2, \"109\": 7, \"126\": 1}, \"72\": {\"112\": 1, \"17\": 1, \"36\": 2, \"117\": 1, \"105\": 1, \"72\": 1, \"49\": 2, \"53\": 1, \"24\": 1, \"74\": 1}, \"9\": {\"80\": 1, \"17\": 1, \"9\": 4, \"40\": 1, \"129\": 1, \"39\": 1, \"85\": 1, \"93\": 1, \"11\": 1}, \"80\": {\"80\": 8, \"110\": 1, \"92\": 1, \"109\": 2}, \"125\": {\"125\": 11, \"124\": 1}, \"24\": {\"24\": 6, \"93\": 1, \"0\": 1, \"94\": 1, \"10\": 2, \"70\": 1}, \"129\": {\"129\": 5, \"17\": 1, \"107\": 1, \"5\": 1, \"7\": 1, \"23\": 1, \"39\": 1, \"42\": 1}, \"112\": {\"112\": 2, \"34\": 1, \"35\": 2, \"42\": 1, \"88\": 1, \"52\": 1, \"74\": 1, \"7\": 1, \"91\": 1, \"27\": 1}, \"110\": {\"14\": 1, \"110\": 2, \"24\": 2, \"23\": 1, \"99\": 2, \"7\": 1, \"57\": 1, \"64\": 2}, \"53\": {\"95\": 2, \"53\": 4, \"26\": 1, \"118\": 1, \"9\": 2, \"129\": 1, \"19\": 1}, \"12\": {\"14\": 2, \"40\": 2, \"3\": 2, \"100\": 1, \"12\": 1, \"99\": 2, \"7\": 1, \"84\": 1}, \"22\": {\"89\": 1, \"22\": 2, \"28\": 1, \"116\": 1, \"24\": 1, \"87\": 1, \"85\": 1, \"44\": 2, \"41\": 2}, \"46\": {\"119\": 1, \"14\": 1, \"9\": 3, \"109\": 1, \"71\": 1, \"10\": 1, \"46\": 2, \"44\": 1, \"118\": 1}, \"119\": {\"119\": 6, \"102\": 1, \"74\": 1, \"50\": 1, \"105\": 1, \"63\": 1, \"100\": 1}, \"75\": {\"75\": 7, \"73\": 1, \"6\": 2, \"51\": 2}, \"14\": {\"14\": 4, \"71\": 2, \"62\": 1, \"28\": 1, \"43\": 1, \"108\": 1, \"113\": 1, \"49\": 1}, \"71\": {\"71\": 7, \"84\": 1, \"119\": 1, \"43\": 2, \"14\": 1}, \"95\": {\"119\": 2, \"95\": 5, \"13\": 1, \"9\": 1, \"127\": 1, \"82\": 1, \"100\": 1}, \"13\": {\"104\": 1, \"31\": 1, \"23\": 1, \"108\": 1, \"113\": 1, \"44\": 1, \"79\": 1, \"21\": 1, \"109\": 1, \"116\": 1}, \"126\": {\"70\": 2, \"109\": 4, \"126\": 2, \"118\": 2}, \"104\": {\"45\": 1, \"70\": 1, \"79\": 1, \"74\": 1, \"2\": 1, \"104\": 5}, \"30\": {\"70\": 2, \"97\": 1, \"30\": 3, \"108\": 1, \"84\": 2, \"43\": 1, \"109\": 1, \"126\": 1}, \"97\": {\"26\": 2, \"97\": 5, \"110\": 1, \"60\": 2, \"24\": 2}, \"56\": {\"56\": 6, \"72\": 1, \"69\": 1, \"83\": 1, \"74\": 1, \"116\": 1, \"5\": 1}, \"115\": {\"115\": 4, \"7\": 1, \"5\": 1, \"4\": 1, \"38\": 1, \"57\": 1, \"50\": 1, \"16\": 1, \"44\": 1}, \"48\": {\"7\": 1, \"17\": 1, \"87\": 1, \"120\": 1, \"62\": 1, \"116\": 1, \"86\": 2, \"94\": 1, \"70\": 1}, \"7\": {\"8\": 1, \"7\": 6, \"88\": 2, \"108\": 1, \"12\": 2}, \"94\": {\"98\": 2, \"8\": 1, \"94\": 5, \"23\": 1, \"42\": 1, \"83\": 1, \"21\": 1}, \"38\": {\"17\": 1, \"45\": 1, \"116\": 2, \"40\": 1, \"38\": 3, \"63\": 2, \"22\": 1, \"85\": 1}, \"64\": {\"64\": 5, \"122\": 1, \"28\": 1, \"121\": 3, \"113\": 1, \"90\": 1}, \"43\": {\"43\": 5, \"126\": 1, \"83\": 1, \"21\": 1, \"52\": 1, \"2\": 1, \"96\": 1, \"87\": 1}, \"15\": {\"15\": 3, \"14\": 1, \"36\": 1, \"35\": 3, \"122\": 1, \"88\": 1, \"42\": 1, \"12\": 1}, \"82\": {\"82\": 10, \"68\": 1, \"79\": 1}, \"84\": {\"40\": 2, \"20\": 1, \"84\": 6, \"7\": 3}, \"29\": {\"29\": 3, \"22\": 1, \"10\": 2, \"109\": 1, \"2\": 1, \"113\": 1, \"57\": 1, \"44\": 1, \"94\": 1}, \"121\": {\"55\": 1, \"22\": 1, \"121\": 4, \"9\": 1, \"13\": 1, \"72\": 1, \"85\": 1, \"76\": 1, \"116\": 1}, \"127\": {\"127\": 9, \"9\": 1, \"70\": 1, \"107\": 1}, \"40\": {\"40\": 5, \"9\": 1, \"7\": 2, \"87\": 2, \"16\": 1, \"119\": 1}, \"106\": {\"106\": 5, \"12\": 1, \"107\": 1, \"127\": 1, \"30\": 1, \"88\": 1, \"40\": 1, \"58\": 1}, \"3\": {\"3\": 10, \"20\": 1, \"14\": 1}, \"120\": {\"121\": 2, \"120\": 8, \"29\": 1, \"48\": 1}, \"6\": {\"109\": 1, \"6\": 5, \"25\": 2, \"59\": 1, \"68\": 1, \"43\": 1, \"72\": 1}, \"0\": {\"24\": 1, \"0\": 1, \"10\": 2, \"118\": 2, \"29\": 1, \"7\": 1, \"11\": 2, \"27\": 1, \"21\": 1}, \"4\": {\"24\": 1, \"34\": 1, \"71\": 1, \"4\": 6, \"2\": 1, \"108\": 1, \"91\": 1}, \"27\": {\"24\": 2, \"27\": 4, \"10\": 1, \"19\": 1, \"122\": 2, \"108\": 1, \"97\": 1}, \"107\": {\"115\": 1, \"107\": 6, \"74\": 3, \"85\": 1, \"26\": 1}, \"61\": {\"120\": 2, \"61\": 2, \"40\": 1, \"28\": 1, \"115\": 1, \"117\": 1, \"43\": 1, \"55\": 1, \"91\": 1, \"104\": 1}, \"10\": {\"10\": 8, \"118\": 1, \"113\": 2, \"70\": 1}, \"67\": {\"67\": 5, \"33\": 2, \"2\": 1, \"16\": 2, \"57\": 2}, \"58\": {\"111\": 1, \"58\": 7, \"37\": 1, \"54\": 1}, \"66\": {\"66\": 4, \"58\": 2, \"38\": 1, \"6\": 1, \"53\": 1, \"98\": 1, \"129\": 1, \"104\": 1}, \"108\": {\"108\": 8, \"64\": 2, \"113\": 2}, \"20\": {\"71\": 1, \"128\": 2, \"76\": 1, \"109\": 1, \"62\": 1, \"3\": 2, \"26\": 1, \"20\": 1, \"64\": 1, \"103\": 1}, \"60\": {\"71\": 2, \"109\": 1, \"76\": 1, \"1\": 2, \"64\": 2, \"118\": 2, \"60\": 2}, \"128\": {\"3\": 4, \"109\": 1, \"29\": 1, \"44\": 2, \"70\": 2, \"128\": 2}, \"118\": {\"118\": 7, \"88\": 1, \"0\": 1, \"70\": 1, \"93\": 1, \"44\": 1}, \"25\": {\"25\": 11, \"59\": 1}, \"83\": {\"83\": 8, \"42\": 1, \"112\": 1, \"35\": 1, \"51\": 1}, \"68\": {\"68\": 6, \"10\": 1, \"112\": 1, \"115\": 2, \"0\": 1, \"82\": 1}, \"77\": {\"85\": 1, \"43\": 1, \"77\": 5, \"44\": 1, \"1\": 2, \"100\": 1, \"65\": 1}, \"88\": {\"24\": 1, \"88\": 7, \"108\": 1, \"21\": 1, \"7\": 2}, \"105\": {\"105\": 4, \"117\": 2, \"128\": 1, \"114\": 2, \"127\": 1, \"33\": 1, \"43\": 1}, \"35\": {\"66\": 2, \"33\": 1, \"112\": 1, \"35\": 2, \"128\": 1, \"20\": 1, \"42\": 1, \"83\": 2, \"113\": 1}, \"52\": {\"66\": 1, \"118\": 1, \"31\": 1, \"52\": 4, \"47\": 1}, \"59\": {\"59\": 4, \"25\": 1, \"75\": 1, \"58\": 1, \"6\": 1}, \"74\": {\"74\": 5, \"87\": 1, \"16\": 1, \"13\": 1, \"33\": 1, \"129\": 1, \"18\": 1, \"26\": 1}, \"16\": {\"16\": 5, \"23\": 1, \"62\": 1, \"31\": 1, \"7\": 2}, \"62\": {\"14\": 1, \"62\": 3, \"113\": 1, \"26\": 1, \"30\": 1, \"100\": 1, \"81\": 2}, \"79\": {\"79\": 7, \"104\": 2, \"69\": 1, \"45\": 1, \"68\": 1}, \"44\": {\"44\": 9, \"110\": 1}, \"113\": {\"113\": 7, \"11\": 1, \"108\": 1, \"93\": 1}, \"37\": {\"37\": 5, \"83\": 1, \"57\": 1, \"86\": 1}, \"100\": {\"95\": 1, \"55\": 1, \"40\": 1, \"69\": 1, \"119\": 1, \"100\": 1}}, \"C_A_4\": {\"38\": {\"18\": 1, \"3\": 1, \"17\": 2, \"54\": 3, \"14\": 1, \"35\": 1, \"38\": 1, \"46\": 1, \"29\": 1}, \"3\": {\"3\": 7, \"5\": 1, \"6\": 2, \"45\": 1, \"22\": 1}, \"24\": {\"43\": 2, \"51\": 2, \"10\": 1, \"36\": 1, \"22\": 1, \"24\": 2, \"9\": 1, \"11\": 1, \"15\": 1}, \"49\": {\"7\": 1, \"17\": 1, \"35\": 4, \"54\": 1, \"29\": 1, \"18\": 1, \"39\": 1}, \"7\": {\"7\": 6, \"49\": 1, \"26\": 2, \"17\": 1, \"38\": 2}, \"17\": {\"7\": 2, \"38\": 1, \"54\": 2, \"17\": 7}, \"43\": {\"43\": 10}, \"30\": {\"30\": 12}, \"44\": {\"44\": 8, \"27\": 1, \"47\": 2, \"57\": 1}, \"23\": {\"18\": 1, \"7\": 3, \"21\": 1, \"35\": 1, \"54\": 1, \"36\": 1, \"56\": 1, \"49\": 1}, \"37\": {\"37\": 8, \"10\": 1, \"51\": 1, \"24\": 1, \"38\": 1}, \"4\": {\"44\": 2, \"43\": 1, \"42\": 2, \"14\": 1, \"32\": 2, \"27\": 1, \"29\": 1, \"4\": 1, \"48\": 1}, \"57\": {\"44\": 3, \"57\": 4, \"55\": 1, \"36\": 1, \"9\": 2, \"47\": 1}, \"16\": {\"16\": 6, \"53\": 1, \"57\": 1}, \"18\": {\"23\": 1, \"43\": 2, \"7\": 1, \"11\": 1, \"51\": 1, \"47\": 2, \"29\": 1, \"41\": 1, \"38\": 2}, \"20\": {\"20\": 10}, \"45\": {\"45\": 4, \"3\": 1, \"8\": 1, \"27\": 1, \"1\": 1}, \"15\": {\"15\": 10}, \"52\": {\"52\": 12}, \"19\": {\"19\": 11, \"15\": 1}, \"54\": {\"54\": 5, \"43\": 1, \"18\": 2, \"23\": 1, \"53\": 1, \"38\": 1, \"29\": 1}, \"56\": {\"40\": 1, \"56\": 6, \"9\": 2, \"55\": 1}, \"40\": {\"20\": 1, \"40\": 6, \"39\": 2, \"42\": 1, \"46\": 1, \"57\": 1}, \"28\": {\"28\": 6, \"19\": 1, \"26\": 3, \"35\": 1, \"33\": 1}, \"2\": {\"36\": 2, \"40\": 1, \"2\": 1, \"29\": 1, \"42\": 1, \"55\": 1, \"34\": 1}, \"9\": {\"56\": 2, \"9\": 3, \"27\": 1, \"57\": 3, \"36\": 1, \"44\": 1, \"46\": 1}, \"0\": {\"0\": 12}, \"36\": {\"36\": 4, \"29\": 1, \"39\": 1, \"40\": 3, \"43\": 1, \"4\": 1, \"21\": 1}, \"55\": {\"57\": 1, \"38\": 1, \"54\": 2, \"29\": 1, \"55\": 4, \"39\": 1}, \"35\": {\"35\": 4, \"7\": 2, \"42\": 1, \"47\": 1, \"33\": 2}, \"39\": {\"57\": 2, \"55\": 1, \"18\": 1, \"47\": 2, \"39\": 3, \"36\": 1, \"4\": 1, \"40\": 1}, \"31\": {\"31\": 1, \"14\": 1, \"9\": 1, \"11\": 2, \"57\": 1, \"18\": 1, \"7\": 1, \"36\": 2, \"54\": 1, \"10\": 1}, \"14\": {\"43\": 3, \"54\": 1, \"40\": 1, \"42\": 1, \"14\": 2, \"29\": 1, \"38\": 2, \"39\": 1}, \"12\": {\"12\": 12}, \"6\": {\"6\": 7, \"3\": 3}, \"48\": {\"27\": 1, \"44\": 1, \"47\": 2, \"48\": 6, \"1\": 1, \"2\": 1}, \"51\": {\"51\": 10}, \"5\": {\"5\": 11, \"50\": 1}, \"22\": {\"22\": 10, \"0\": 2}, \"25\": {\"51\": 2, \"23\": 1, \"25\": 3, \"35\": 1, \"10\": 1, \"39\": 1, \"26\": 1, \"16\": 1, \"54\": 1}, \"26\": {\"17\": 2, \"28\": 2, \"33\": 1, \"29\": 1, \"31\": 2, \"26\": 2, \"38\": 2}, \"47\": {\"44\": 1, \"9\": 1, \"22\": 2, \"56\": 1, \"45\": 1, \"0\": 2, \"24\": 1, \"52\": 1, \"4\": 2}, \"1\": {\"27\": 1, \"1\": 5, \"22\": 1, \"50\": 1, \"48\": 1, \"47\": 1}, \"41\": {\"41\": 11, \"8\": 1}, \"27\": {\"30\": 1, \"44\": 1, \"4\": 1, \"42\": 1, \"21\": 2, \"8\": 2, \"39\": 1, \"27\": 1, \"29\": 1, \"36\": 1}, \"8\": {\"21\": 2, \"8\": 8, \"12\": 2}, \"29\": {\"23\": 1, \"55\": 2, \"29\": 6, \"14\": 1, \"39\": 1, \"32\": 1}, \"11\": {\"11\": 8, \"16\": 1, \"15\": 1}, \"34\": {\"49\": 1, \"34\": 1, \"39\": 1, \"22\": 1, \"27\": 1, \"41\": 2, \"42\": 1, \"47\": 1, \"15\": 1, \"48\": 1, \"2\": 1}, \"21\": {\"21\": 11, \"12\": 1}, \"53\": {\"53\": 9, \"25\": 1}, \"10\": {\"51\": 1, \"10\": 10, \"11\": 1}, \"33\": {\"33\": 11, \"35\": 1}, \"42\": {\"29\": 4, \"45\": 2, \"42\": 3, \"17\": 1, \"43\": 1, \"34\": 1}, \"50\": {\"50\": 3, \"21\": 1, \"0\": 1, \"6\": 1, \"3\": 1, \"46\": 1, \"30\": 1, \"5\": 1}, \"13\": {\"13\": 4}, \"46\": {\"46\": 8}, \"32\": {\"40\": 1, \"36\": 2, \"42\": 1, \"9\": 1, \"32\": 2, \"47\": 1}}, \"W_A_2\": {\"73\": {\"73\": 8, \"85\": 1, \"5\": 2, \"82\": 1}, \"40\": {\"40\": 3, \"57\": 1, \"118\": 2, \"107\": 1, \"28\": 1, \"84\": 2, \"114\": 2}, \"99\": {\"57\": 1, \"78\": 1, \"99\": 5, \"93\": 3, \"118\": 2}, \"5\": {\"5\": 7, \"73\": 3, \"104\": 1, \"17\": 1}, \"108\": {\"108\": 5, \"24\": 2, \"11\": 1, \"122\": 1, \"88\": 2, \"43\": 1}, \"128\": {\"128\": 1, \"57\": 1, \"26\": 2, \"71\": 1, \"122\": 1, \"118\": 1, \"127\": 1, \"106\": 1, \"103\": 1}, \"89\": {\"5\": 1, \"89\": 3, \"107\": 1, \"48\": 2, \"102\": 1, \"92\": 1, \"47\": 1, \"13\": 2}, \"107\": {\"89\": 1, \"57\": 1, \"117\": 1, \"16\": 1, \"74\": 1, \"107\": 3, \"69\": 1, \"93\": 1, \"56\": 1, \"81\": 1}, \"2\": {\"2\": 3, \"89\": 1, \"83\": 1, \"31\": 1, \"12\": 1, \"84\": 1, \"50\": 1, \"96\": 1, \"28\": 1, \"87\": 1}, \"78\": {\"108\": 2, \"78\": 8, \"109\": 2}, \"85\": {\"89\": 2, \"43\": 1, \"119\": 2, \"64\": 1, \"71\": 1, \"118\": 1, \"21\": 1, \"86\": 1, \"85\": 1, \"8\": 1}, \"44\": {\"53\": 2, \"122\": 1, \"76\": 1, \"44\": 4, \"113\": 1, \"61\": 1, \"105\": 1, \"123\": 1}, \"58\": {\"58\": 5, \"11\": 1, \"98\": 1, \"39\": 1, \"51\": 3, \"41\": 1}, \"57\": {\"40\": 3, \"57\": 3, \"46\": 1, \"63\": 2, \"10\": 1, \"114\": 2}, \"41\": {\"99\": 1, \"53\": 3, \"44\": 2, \"20\": 1, \"98\": 1, \"121\": 1, \"88\": 1, \"123\": 1, \"41\": 1}, \"53\": {\"53\": 8, \"108\": 1, \"120\": 1, \"20\": 1, \"109\": 1}, \"14\": {\"93\": 1, \"69\": 1, \"97\": 1, \"110\": 1, \"14\": 1, \"126\": 1, \"18\": 1, \"11\": 1, \"87\": 2, \"28\": 2}, \"83\": {\"83\": 5, \"118\": 1, \"112\": 1, \"16\": 1, \"22\": 1, \"121\": 1, \"3\": 1, \"92\": 1}, \"119\": {\"119\": 8, \"118\": 2, \"23\": 2}, \"95\": {\"69\": 2, \"95\": 5, \"74\": 1, \"31\": 1, \"93\": 1, \"68\": 2}, \"28\": {\"5\": 2, \"45\": 2, \"24\": 1, \"56\": 1, \"66\": 1, \"96\": 1, \"104\": 1, \"59\": 1, \"49\": 1, \"13\": 1}, \"19\": {\"95\": 1, \"93\": 1, \"118\": 1, \"20\": 1, \"8\": 2, \"19\": 2, \"120\": 1, \"60\": 1, \"83\": 1, \"74\": 1}, \"69\": {\"95\": 2, \"118\": 1, \"69\": 3, \"16\": 2, \"127\": 1, \"93\": 1, \"19\": 1, \"44\": 1}, \"93\": {\"93\": 10, \"90\": 1, \"53\": 1}, \"9\": {\"9\": 10, \"58\": 1, \"59\": 1}, \"118\": {\"93\": 2, \"118\": 5, \"20\": 1, \"16\": 1, \"113\": 1, \"87\": 2}, \"43\": {\"43\": 7, \"118\": 1, \"16\": 2, \"39\": 2}, \"47\": {\"29\": 2, \"55\": 1, \"96\": 1, \"41\": 1, \"72\": 1, \"47\": 2, \"129\": 1, \"90\": 1, \"13\": 1, \"37\": 1}, \"125\": {\"125\": 10, \"6\": 1, \"55\": 1}, \"29\": {\"83\": 1, \"28\": 1, \"29\": 9, \"47\": 1}, \"4\": {\"105\": 1, \"50\": 1, \"4\": 6, \"16\": 1, \"44\": 1, \"84\": 1, \"48\": 1}, \"55\": {\"50\": 2, \"55\": 3, \"37\": 3, \"33\": 1, \"81\": 1, \"62\": 1, \"28\": 1}, \"105\": {\"105\": 6, \"122\": 1, \"118\": 2, \"53\": 1, \"78\": 1, \"93\": 1}, \"50\": {\"50\": 3, \"33\": 1, \"86\": 2, \"72\": 1, \"81\": 1, \"85\": 1, \"67\": 1, \"129\": 2}, \"62\": {\"105\": 2, \"62\": 2, \"55\": 1, \"40\": 1, \"23\": 2, \"26\": 2, \"7\": 1, \"41\": 1}, \"24\": {\"24\": 6, \"122\": 1, \"36\": 1, \"21\": 2, \"109\": 2}, \"60\": {\"44\": 1, \"122\": 1, \"60\": 4, \"109\": 2, \"113\": 1, \"19\": 1, \"96\": 1, \"87\": 1}, \"106\": {\"106\": 7, \"105\": 1, \"32\": 1, \"51\": 1, \"128\": 1, \"75\": 1}, \"59\": {\"55\": 2, \"59\": 5, \"51\": 1, \"16\": 1, \"65\": 1, \"12\": 1, \"83\": 1}, \"49\": {\"105\": 1, \"15\": 1, \"37\": 1, \"16\": 1, \"27\": 1, \"49\": 1, \"28\": 1, \"6\": 1, \"32\": 2, \"23\": 1, \"126\": 1}, \"76\": {\"76\": 5, \"123\": 1, \"23\": 1, \"66\": 2, \"31\": 1, \"121\": 1, \"83\": 1}, \"122\": {\"24\": 2, \"21\": 1, \"113\": 1, \"11\": 1, \"108\": 1, \"78\": 1, \"76\": 1, \"19\": 1, \"39\": 1, \"8\": 1, \"122\": 1}, \"114\": {\"114\": 7, \"127\": 2, \"109\": 1}, \"15\": {\"15\": 6, \"106\": 1, \"98\": 1, \"26\": 1, \"51\": 1, \"71\": 1, \"49\": 1}, \"98\": {\"91\": 1, \"98\": 5, \"15\": 2, \"20\": 1, \"94\": 1, \"35\": 1, \"61\": 1}, \"91\": {\"98\": 2, \"38\": 1, \"47\": 1, \"91\": 3, \"123\": 1, \"27\": 1, \"9\": 1, \"65\": 1, \"106\": 1}, \"80\": {\"80\": 7, \"119\": 1, \"93\": 1, \"118\": 1, \"103\": 1, \"65\": 1}, \"113\": {\"113\": 8, \"118\": 2, \"78\": 1, \"99\": 1}, \"38\": {\"38\": 4, \"120\": 1, \"123\": 1, \"87\": 2, \"121\": 1, \"20\": 1, \"53\": 1, \"24\": 1}, \"86\": {\"119\": 1, \"86\": 6, \"45\": 1, \"100\": 1, \"4\": 1, \"48\": 1, \"21\": 1}, \"0\": {\"21\": 1, \"33\": 1, \"118\": 2, \"69\": 1, \"0\": 1, \"7\": 1, \"52\": 1, \"28\": 2}, \"90\": {\"31\": 1, \"38\": 1, \"121\": 1, \"99\": 1, \"112\": 1, \"109\": 1, \"16\": 1, \"90\": 1, \"87\": 2, \"8\": 1, \"100\": 1}, \"21\": {\"21\": 12}, \"31\": {\"64\": 2, \"110\": 1, \"97\": 1, \"46\": 1, \"117\": 1, \"31\": 2, \"73\": 1, \"116\": 1, \"19\": 1, \"76\": 1}, \"33\": {\"33\": 9, \"113\": 1, \"93\": 1, \"18\": 1}, \"64\": {\"64\": 5, \"85\": 1, \"67\": 1, \"86\": 1, \"111\": 1, \"102\": 1, \"13\": 1, \"33\": 1}, \"81\": {\"81\": 6, \"11\": 1, \"93\": 2, \"89\": 1, \"105\": 2}, \"17\": {\"11\": 1, \"17\": 1, \"5\": 1, \"48\": 1, \"126\": 1, \"95\": 1, \"4\": 1, \"21\": 1, \"63\": 1, \"104\": 1, \"109\": 1, \"67\": 1}, \"102\": {\"74\": 1, \"17\": 1, \"102\": 4, \"67\": 2, \"89\": 2, \"111\": 1, \"95\": 1}, \"74\": {\"34\": 1, \"74\": 4, \"6\": 1, \"46\": 1, \"26\": 2, \"48\": 1, \"95\": 2}, \"34\": {\"98\": 1, \"45\": 1, \"53\": 1, \"34\": 3, \"107\": 1, \"69\": 1, \"27\": 1, \"22\": 1, \"56\": 1, \"66\": 1}, \"45\": {\"45\": 4, \"17\": 1, \"80\": 1, \"73\": 1, \"102\": 1, \"89\": 1, \"50\": 1, \"114\": 1, \"67\": 1}, \"75\": {\"58\": 1, \"98\": 1, \"75\": 7, \"59\": 1, \"74\": 1, \"117\": 1}, \"11\": {\"11\": 7, \"10\": 2, \"108\": 1, \"88\": 1, \"43\": 1}, \"79\": {\"122\": 1, \"15\": 1, \"47\": 1, \"79\": 6, \"124\": 1, \"17\": 1, \"68\": 1}, \"109\": {\"21\": 1, \"109\": 8, \"88\": 1, \"87\": 1, \"39\": 1}, \"6\": {\"6\": 12}, \"94\": {\"94\": 7, \"21\": 2, \"98\": 1, \"7\": 1, \"1\": 1}, \"100\": {\"100\": 8, \"1\": 1, \"57\": 2, \"112\": 1}, \"67\": {\"67\": 8, \"64\": 1, \"12\": 1, \"50\": 1, \"45\": 1}, \"97\": {\"97\": 2, \"94\": 2, \"127\": 3, \"43\": 1, \"34\": 1, \"107\": 1, \"14\": 1, \"87\": 1}, \"112\": {\"97\": 1, \"112\": 4, \"75\": 1, \"101\": 1, \"93\": 1, \"27\": 1, \"71\": 1, \"107\": 1, \"7\": 1}, \"96\": {\"96\": 6, \"34\": 1, \"87\": 1, \"23\": 1, \"113\": 1, \"122\": 1, \"11\": 1}, \"35\": {\"35\": 5, \"91\": 2, \"98\": 3, \"118\": 1, \"96\": 1}, \"54\": {\"112\": 2, \"19\": 1, \"118\": 1, \"95\": 1, \"54\": 2, \"113\": 1, \"76\": 1, \"110\": 1, \"101\": 1, \"114\": 1}, \"111\": {\"111\": 4, \"110\": 1, \"11\": 1, \"59\": 1, \"101\": 2, \"103\": 1, \"94\": 1, \"74\": 1}, \"61\": {\"110\": 2, \"30\": 2, \"61\": 4, \"21\": 1, \"8\": 1, \"96\": 2}, \"82\": {\"82\": 7, \"117\": 1, \"55\": 1, \"28\": 1, \"13\": 1, \"127\": 1}, \"110\": {\"97\": 2, \"14\": 2, \"12\": 1, \"18\": 2, \"105\": 2, \"71\": 1, \"43\": 1, \"110\": 1}, \"116\": {\"83\": 1, \"31\": 1, \"41\": 1, \"116\": 3, \"93\": 1, \"33\": 1, \"19\": 2, \"121\": 1, \"37\": 1}, \"115\": {\"99\": 3, \"44\": 1, \"16\": 1, \"115\": 3, \"46\": 2, \"7\": 1, \"96\": 1}, \"84\": {\"99\": 1, \"113\": 1, \"21\": 1, \"12\": 1, \"33\": 1, \"11\": 1, \"26\": 2, \"110\": 1, \"43\": 1, \"10\": 1, \"40\": 1}, \"25\": {\"25\": 10, \"20\": 1, \"96\": 1}, \"66\": {\"123\": 1, \"72\": 1, \"28\": 1, \"22\": 1, \"46\": 1, \"126\": 1, \"73\": 1, \"66\": 1, \"129\": 2, \"114\": 2}, \"20\": {\"20\": 3, \"99\": 1, \"118\": 1, \"32\": 2, \"78\": 1, \"83\": 1, \"71\": 1, \"96\": 2}, \"72\": {\"72\": 4, \"123\": 1, \"93\": 1, \"81\": 2, \"51\": 1, \"47\": 1, \"28\": 2}, \"123\": {\"41\": 1, \"123\": 9, \"21\": 1, \"61\": 1}, \"3\": {\"3\": 9, \"7\": 1, \"84\": 2}, \"124\": {\"4\": 3, \"91\": 2, \"86\": 1, \"124\": 6}, \"36\": {\"35\": 1, \"23\": 1, \"36\": 5, \"27\": 1}, \"12\": {\"21\": 3, \"12\": 3, \"1\": 1, \"18\": 1, \"71\": 1, \"19\": 1, \"3\": 1, \"26\": 1}, \"10\": {\"21\": 2, \"11\": 1, \"10\": 5, \"109\": 2, \"32\": 2}, \"23\": {\"21\": 2, \"30\": 2, \"23\": 3, \"7\": 1, \"109\": 1, \"126\": 1}, \"120\": {\"38\": 1, \"2\": 1, \"19\": 1, \"120\": 2, \"30\": 2, \"61\": 1, \"99\": 1, \"44\": 2, \"84\": 1}, \"121\": {\"19\": 1, \"117\": 1, \"121\": 3, \"31\": 1, \"53\": 1, \"78\": 1, \"22\": 1, \"81\": 1, \"38\": 1, \"68\": 1}, \"68\": {\"82\": 1, \"68\": 2, \"34\": 2, \"95\": 1, \"106\": 1, \"128\": 1, \"98\": 1, \"35\": 1, \"94\": 1, \"33\": 1}, \"117\": {\"118\": 1, \"117\": 2, \"4\": 1, \"16\": 1, \"46\": 1, \"124\": 1, \"69\": 1, \"93\": 1, \"19\": 1, \"65\": 1, \"17\": 1}, \"92\": {\"117\": 1, \"82\": 1, \"4\": 1, \"37\": 1, \"22\": 2, \"102\": 2, \"83\": 1, \"48\": 1, \"67\": 2}, \"129\": {\"80\": 1, \"28\": 1, \"40\": 1, \"89\": 1, \"101\": 1, \"67\": 3, \"66\": 2, \"47\": 1, \"8\": 1}, \"7\": {\"7\": 9, \"23\": 2, \"3\": 1}, \"37\": {\"123\": 1, \"71\": 1, \"16\": 1, \"4\": 1, \"100\": 1, \"37\": 3, \"2\": 1, \"50\": 1, \"13\": 1, \"40\": 1}, \"71\": {\"71\": 11, \"118\": 1}, \"30\": {\"119\": 1, \"118\": 1, \"32\": 1, \"30\": 7, \"23\": 1, \"12\": 1}, \"127\": {\"127\": 5, \"117\": 1, \"114\": 1, \"107\": 2, \"95\": 1}, \"52\": {\"16\": 1, \"78\": 1, \"100\": 1, \"10\": 1, \"103\": 1, \"56\": 1, \"42\": 1, \"35\": 1, \"98\": 1, \"112\": 1, \"7\": 1, \"36\": 1}, \"22\": {\"22\": 3, \"100\": 1, \"52\": 1, \"18\": 1, \"49\": 1, \"1\": 1, \"3\": 1, \"90\": 1, \"123\": 2}, \"16\": {\"16\": 7, \"97\": 1, \"93\": 1, \"78\": 1, \"8\": 1, \"122\": 1}, \"126\": {\"126\": 2, \"109\": 2, \"39\": 3, \"88\": 1}, \"48\": {\"109\": 1, \"73\": 1, \"48\": 3, \"104\": 1, \"6\": 1, \"84\": 1, \"35\": 1, \"64\": 1, \"2\": 1, \"28\": 1}, \"101\": {\"127\": 1, \"101\": 8, \"51\": 2, \"111\": 1}, \"42\": {\"112\": 2, \"30\": 1, \"77\": 1, \"61\": 1, \"48\": 1, \"42\": 2, \"64\": 1, \"108\": 1, \"91\": 1, \"100\": 1}, \"1\": {\"10\": 1, \"1\": 1, \"16\": 1, \"46\": 1, \"8\": 2, \"97\": 2, \"113\": 2, \"7\": 1, \"100\": 1}, \"63\": {\"33\": 1, \"100\": 1, \"63\": 2, \"26\": 1, \"48\": 1, \"104\": 1, \"72\": 1, \"65\": 3, \"57\": 1}, \"56\": {\"111\": 1, \"56\": 3, \"34\": 3, \"19\": 1, \"41\": 1, \"105\": 1, \"98\": 1, \"69\": 1}, \"18\": {\"127\": 1, \"18\": 3, \"49\": 1, \"22\": 1, \"26\": 2, \"93\": 1, \"105\": 1, \"42\": 1, \"43\": 1}, \"46\": {\"127\": 2, \"110\": 1, \"57\": 2, \"40\": 1, \"86\": 2, \"65\": 1, \"81\": 1, \"119\": 1, \"46\": 1}, \"103\": {\"31\": 1, \"103\": 4, \"48\": 2, \"124\": 1, \"102\": 1, \"93\": 1, \"111\": 1, \"80\": 1}, \"13\": {\"31\": 1, \"103\": 1, \"93\": 1, \"13\": 2, \"82\": 2, \"122\": 1, \"104\": 1, \"87\": 1, \"30\": 1, \"40\": 1}, \"8\": {\"53\": 1, \"8\": 3, \"32\": 1, \"20\": 1, \"87\": 1, \"16\": 1, \"96\": 1, \"7\": 1, \"61\": 1, \"60\": 1}, \"39\": {\"126\": 3, \"39\": 7, \"87\": 2}, \"51\": {\"58\": 1, \"129\": 1, \"51\": 2, \"32\": 1, \"103\": 1, \"41\": 1, \"88\": 1, \"101\": 2, \"49\": 1, \"47\": 1}, \"87\": {\"39\": 3, \"87\": 5, \"88\": 1, \"16\": 1, \"8\": 1, \"109\": 1}, \"27\": {\"27\": 9, \"70\": 1, \"112\": 1, \"21\": 1}, \"70\": {\"70\": 7, \"87\": 1, \"88\": 2, \"11\": 1, \"39\": 1}, \"32\": {\"70\": 1, \"16\": 1, \"23\": 1, \"30\": 2, \"71\": 1, \"11\": 1, \"7\": 1, \"62\": 1, \"90\": 1, \"60\": 1, \"32\": 1}, \"77\": {\"53\": 2, \"77\": 5, \"101\": 1, \"61\": 1, \"79\": 1, \"96\": 1, \"39\": 1}, \"26\": {\"95\": 1, \"1\": 1, \"26\": 5, \"23\": 1, \"18\": 1, \"105\": 1, \"81\": 1, \"12\": 1}, \"88\": {\"39\": 2, \"88\": 3, \"126\": 1, \"21\": 2, \"108\": 1, \"30\": 1}, \"65\": {\"65\": 12}, \"104\": {\"23\": 2, \"104\": 3, \"8\": 1, \"65\": 1, \"11\": 1}}, \"C_A_2\": {\"32\": {\"49\": 1, \"32\": 6, \"56\": 3, \"9\": 1, \"22\": 1}, \"17\": {\"17\": 4, \"25\": 1, \"36\": 1, \"14\": 1, \"23\": 3, \"18\": 1, \"33\": 1}, \"38\": {\"38\": 12}, \"2\": {\"43\": 1, \"21\": 1, \"2\": 5, \"44\": 2, \"57\": 1}, \"43\": {\"43\": 8}, \"56\": {\"56\": 7, \"49\": 1, \"45\": 1, \"32\": 1, \"48\": 1, \"23\": 1}, \"37\": {\"37\": 10, \"38\": 1, \"13\": 1}, \"49\": {\"49\": 1, \"15\": 2, \"32\": 1, \"20\": 1, \"56\": 2, \"31\": 1, \"2\": 1, \"41\": 1, \"4\": 1, \"39\": 1}, \"0\": {\"0\": 8, \"46\": 1, \"5\": 1}, \"29\": {\"17\": 1, \"25\": 1, \"29\": 5, \"36\": 1, \"18\": 1, \"57\": 1}, \"35\": {\"35\": 10}, \"18\": {\"18\": 1, \"15\": 1, \"29\": 2, \"8\": 1, \"33\": 1, \"56\": 2, \"39\": 1, \"44\": 1, \"6\": 1, \"31\": 1}, \"25\": {\"15\": 2, \"20\": 2, \"39\": 2, \"25\": 4, \"55\": 1, \"16\": 1}, \"23\": {\"17\": 4, \"14\": 1, \"47\": 1, \"32\": 1, \"39\": 1, \"23\": 3, \"52\": 1}, \"15\": {\"15\": 10, \"16\": 2}, \"21\": {\"21\": 8, \"3\": 2, \"52\": 2}, \"48\": {\"0\": 1, \"30\": 1, \"48\": 4, \"52\": 2, \"46\": 2, \"8\": 2}, \"12\": {\"12\": 10}, \"41\": {\"41\": 5, \"30\": 3, \"6\": 1, \"52\": 1}, \"14\": {\"0\": 2, \"17\": 3, \"40\": 1, \"39\": 2, \"14\": 3, \"46\": 1}, \"7\": {\"7\": 8, \"31\": 1, \"35\": 1}, \"9\": {\"9\": 6, \"40\": 3, \"56\": 2, \"36\": 1}, \"55\": {\"55\": 1, \"22\": 1, \"4\": 2, \"29\": 2, \"2\": 2, \"41\": 1, \"3\": 1, \"14\": 1, \"34\": 1}, \"36\": {\"36\": 6, \"40\": 1, \"14\": 1, \"55\": 1, \"9\": 2, \"34\": 1}, \"22\": {\"23\": 2, \"55\": 1, \"22\": 3, \"9\": 1, \"32\": 2, \"4\": 2, \"31\": 1}, \"13\": {\"13\": 10}, \"30\": {\"30\": 12}, \"51\": {\"51\": 12}, \"34\": {\"29\": 1, \"47\": 1, \"33\": 1, \"36\": 2, \"2\": 1, \"9\": 1, \"21\": 1, \"55\": 1, \"39\": 1, \"56\": 1, \"34\": 1}, \"57\": {\"48\": 4, \"8\": 1, \"38\": 1, \"27\": 1, \"2\": 1, \"0\": 1, \"36\": 1, \"3\": 1, \"57\": 1}, \"47\": {\"48\": 2, \"55\": 1, \"30\": 1, \"4\": 1, \"52\": 1, \"47\": 1, \"56\": 1, \"22\": 1, \"6\": 1, \"8\": 2}, \"1\": {\"47\": 5, \"1\": 4, \"22\": 1}, \"44\": {\"1\": 2, \"44\": 4, \"47\": 2, \"21\": 2, \"45\": 2}, \"31\": {\"31\": 3, \"29\": 1, \"33\": 2, \"17\": 1, \"54\": 1, \"7\": 2}, \"4\": {\"18\": 1, \"4\": 4, \"14\": 1, \"40\": 1, \"9\": 1, \"44\": 1, \"36\": 1, \"1\": 1, \"23\": 1}, \"10\": {\"51\": 2, \"10\": 6, \"13\": 2, \"24\": 1, \"15\": 1}, \"33\": {\"33\": 7, \"54\": 1, \"14\": 1, \"17\": 1, \"31\": 2}, \"52\": {\"52\": 12}, \"24\": {\"10\": 4, \"52\": 1, \"13\": 2, \"20\": 1, \"38\": 2, \"11\": 1, \"32\": 1}, \"8\": {\"52\": 2, \"20\": 2, \"8\": 5, \"21\": 1}, \"26\": {\"26\": 5, \"53\": 1, \"16\": 2, \"24\": 2}, \"42\": {\"42\": 6, \"7\": 2, \"19\": 1, \"54\": 1, \"31\": 2}, \"53\": {\"53\": 12}, \"54\": {\"54\": 8, \"33\": 1, \"31\": 1, \"14\": 1, \"17\": 1}, \"46\": {\"46\": 8, \"6\": 2}, \"39\": {\"39\": 9, \"40\": 1, \"31\": 1, \"14\": 1}, \"16\": {\"16\": 5, \"11\": 2, \"51\": 2, \"28\": 1}, \"11\": {\"11\": 9, \"16\": 2, \"15\": 1}, \"40\": {\"40\": 3, \"9\": 3, \"22\": 1, \"32\": 1, \"56\": 1, \"14\": 1, \"55\": 1, \"4\": 1}, \"28\": {\"22\": 1, \"20\": 3, \"56\": 1, \"38\": 1, \"28\": 1, \"4\": 1}, \"19\": {\"19\": 12}, \"50\": {\"20\": 1, \"50\": 2, \"30\": 1, \"6\": 2}, \"45\": {\"20\": 2, \"21\": 1, \"41\": 1, \"6\": 1, \"5\": 2, \"8\": 1, \"45\": 1, \"2\": 1}, \"20\": {\"20\": 12}, \"27\": {\"27\": 1, \"2\": 1, \"41\": 5, \"30\": 1, \"6\": 2}, \"6\": {\"6\": 10}, \"3\": {\"21\": 1, \"6\": 2, \"3\": 3, \"46\": 3, \"48\": 1}, \"5\": {\"5\": 6}}, \"C_A_3\": {\"5\": {\"5\": 7, \"6\": 2, \"50\": 1}, \"32\": {\"32\": 4, \"14\": 1, \"36\": 4, \"34\": 1, \"4\": 1, \"56\": 1}, \"33\": {\"33\": 5, \"2\": 1, \"41\": 1, \"39\": 4, \"8\": 1}, \"49\": {\"49\": 9, \"40\": 1, \"42\": 1, \"4\": 1}, \"39\": {\"47\": 1, \"39\": 3, \"33\": 1, \"8\": 1, \"56\": 2, \"44\": 2, \"3\": 2}, \"11\": {\"11\": 11, \"37\": 1}, \"8\": {\"8\": 12}, \"26\": {\"26\": 10}, \"51\": {\"51\": 12}, \"4\": {\"39\": 1, \"17\": 1, \"57\": 1, \"32\": 2, \"4\": 3, \"22\": 3, \"34\": 1}, \"52\": {\"52\": 10}, \"47\": {\"52\": 1, \"39\": 1, \"30\": 1, \"22\": 1, \"46\": 1, \"47\": 3, \"3\": 1, \"9\": 1, \"21\": 1, \"27\": 1}, \"17\": {\"49\": 2, \"40\": 1, \"17\": 3, \"34\": 1, \"31\": 1, \"18\": 1, \"29\": 1}, \"53\": {\"53\": 11, \"51\": 1}, \"2\": {\"8\": 4, \"2\": 8}, \"12\": {\"12\": 10}, \"28\": {\"28\": 10, \"18\": 2}, \"6\": {\"6\": 12}, \"50\": {\"50\": 6}, \"57\": {\"33\": 1, \"32\": 1, \"48\": 2, \"57\": 1, \"41\": 4, \"36\": 1, \"22\": 1, \"27\": 1}, \"38\": {\"38\": 11, \"46\": 1}, \"18\": {\"28\": 4, \"40\": 1, \"15\": 1, \"34\": 1, \"36\": 1, \"38\": 1, \"29\": 1, \"31\": 1, \"17\": 1}, \"29\": {\"32\": 2, \"29\": 4, \"42\": 1, \"9\": 1, \"49\": 1, \"17\": 1}, \"10\": {\"11\": 2, \"10\": 3, \"43\": 3, \"53\": 2, \"15\": 1, \"45\": 1}, \"13\": {\"13\": 7, \"37\": 2, \"43\": 2, \"51\": 1}, \"14\": {\"49\": 2, \"13\": 1, \"31\": 1, \"35\": 1, \"14\": 2, \"17\": 1, \"18\": 1, \"7\": 1, \"24\": 1, \"32\": 1}, \"16\": {\"39\": 1, \"16\": 1, \"51\": 2, \"43\": 1, \"37\": 1, \"11\": 2, \"53\": 2}, \"46\": {\"46\": 9, \"52\": 1, \"6\": 2}, \"44\": {\"44\": 6, \"1\": 2, \"2\": 2, \"22\": 1, \"9\": 1}, \"20\": {\"20\": 12}, \"0\": {\"0\": 7, \"3\": 3, \"21\": 2}, \"55\": {\"55\": 4, \"14\": 1, \"34\": 1, \"39\": 3, \"29\": 1, \"32\": 1, \"57\": 1}, \"56\": {\"56\": 3, \"55\": 1, \"7\": 1, \"44\": 1}, \"19\": {\"19\": 11, \"31\": 1}, \"36\": {\"36\": 4, \"4\": 1, \"40\": 1, \"34\": 1, \"25\": 1, \"9\": 2, \"32\": 2}, \"48\": {\"30\": 2, \"5\": 2, \"48\": 2, \"47\": 1, \"0\": 3, \"1\": 1, \"21\": 1}, \"37\": {\"37\": 11, \"51\": 1}, \"35\": {\"35\": 10}, \"31\": {\"31\": 4, \"18\": 2, \"25\": 1, \"42\": 2, \"14\": 1}, \"30\": {\"30\": 8}, \"41\": {\"22\": 1, \"1\": 1, \"52\": 1, \"41\": 3, \"30\": 1, \"57\": 1, \"27\": 2, \"55\": 1, \"33\": 1}, \"15\": {\"15\": 8, \"43\": 2, \"9\": 1, \"39\": 1}, \"1\": {\"4\": 1, \"1\": 8, \"22\": 1, \"55\": 1, \"27\": 1}, \"22\": {\"1\": 2, \"22\": 5, \"57\": 1, \"40\": 1, \"55\": 1, \"27\": 1, \"34\": 1}, \"21\": {\"21\": 10, \"6\": 1, \"46\": 1}, \"45\": {\"48\": 2, \"46\": 3, \"50\": 2, \"6\": 1, \"45\": 1, \"30\": 1}, \"42\": {\"18\": 3, \"42\": 5, \"54\": 1, \"49\": 1, \"31\": 2}, \"24\": {\"20\": 1, \"37\": 1, \"48\": 1, \"21\": 2, \"24\": 4, \"43\": 1, \"51\": 1, \"4\": 1}, \"40\": {\"17\": 3, \"40\": 5, \"34\": 2, \"29\": 2}, \"43\": {\"43\": 12}, \"3\": {\"3\": 5, \"0\": 2, \"50\": 2, \"21\": 1, \"46\": 1, \"47\": 1}, \"23\": {\"23\": 2, \"17\": 2, \"54\": 2, \"14\": 2}, \"27\": {\"47\": 1, \"40\": 1, \"50\": 1, \"44\": 1, \"21\": 3, \"48\": 1, \"0\": 1, \"22\": 1}, \"34\": {\"34\": 3, \"27\": 1, \"29\": 1, \"23\": 1, \"36\": 2, \"40\": 1, \"22\": 2, \"4\": 1}, \"9\": {\"9\": 5, \"55\": 1, \"44\": 2, \"57\": 2}, \"25\": {\"25\": 5, \"42\": 1, \"11\": 1, \"35\": 1}, \"54\": {\"54\": 6, \"42\": 1, \"49\": 1}, \"7\": {\"7\": 8}}, \"C_A_1\": {\"55\": {\"55\": 6, \"54\": 1, \"22\": 2, \"33\": 1, \"20\": 2}, \"38\": {\"22\": 1, \"38\": 2, \"32\": 2, \"45\": 1, \"9\": 1, \"12\": 2, \"57\": 2, \"56\": 1}, \"49\": {\"22\": 2, \"49\": 4, \"52\": 2, \"21\": 1, \"57\": 1}, \"10\": {\"10\": 5, \"11\": 4, \"54\": 1, \"26\": 1, \"18\": 1}, \"28\": {\"28\": 5, \"19\": 1, \"1\": 2, \"47\": 1, \"32\": 1}, \"14\": {\"55\": 2, \"3\": 4, \"14\": 2, \"30\": 1, \"13\": 2, \"6\": 1}, \"19\": {\"19\": 11, \"18\": 1}, \"25\": {\"38\": 1, \"19\": 1, \"42\": 1, \"15\": 2, \"25\": 1, \"27\": 1, \"34\": 2, \"28\": 1, \"13\": 1, \"1\": 1}, \"22\": {\"22\": 11, \"52\": 1}, \"47\": {\"25\": 1, \"47\": 4, \"17\": 1, \"1\": 1, \"57\": 4, \"7\": 1}, \"53\": {\"53\": 11, \"51\": 1}, \"54\": {\"54\": 9, \"55\": 2, \"26\": 1}, \"8\": {\"38\": 1, \"14\": 1, \"44\": 2, \"8\": 3, \"30\": 2, \"48\": 1, \"50\": 2}, \"4\": {\"8\": 2, \"32\": 1, \"56\": 1, \"4\": 6, \"57\": 1, \"25\": 1}, \"31\": {\"31\": 8, \"47\": 1, \"43\": 1, \"17\": 1, \"49\": 1}, \"6\": {\"6\": 12}, \"20\": {\"20\": 10, \"12\": 2}, \"21\": {\"21\": 10}, \"15\": {\"15\": 11, \"24\": 1}, \"40\": {\"40\": 8, \"56\": 1, \"29\": 1, \"25\": 1, \"47\": 1}, \"48\": {\"48\": 6, \"23\": 1, \"30\": 1, \"38\": 1, \"45\": 2, \"56\": 1}, \"7\": {\"7\": 6, \"32\": 1, \"49\": 1, \"57\": 2, \"47\": 1, \"46\": 1}, \"50\": {\"50\": 12}, \"32\": {\"40\": 2, \"32\": 4, \"4\": 1, \"8\": 1}, \"56\": {\"6\": 1, \"56\": 6, \"49\": 1, \"5\": 1, \"37\": 1, \"30\": 1, \"44\": 1}, \"26\": {\"26\": 10}, \"34\": {\"34\": 7, \"40\": 1, \"4\": 1, \"42\": 1, \"7\": 1, \"47\": 1}, \"42\": {\"42\": 6, \"40\": 1, \"17\": 1, \"39\": 2}, \"29\": {\"42\": 1, \"7\": 1, \"17\": 1, \"18\": 1, \"40\": 1, \"29\": 4, \"56\": 1, \"47\": 2}, \"46\": {\"45\": 2, \"48\": 1, \"14\": 1, \"46\": 3, \"38\": 1, \"3\": 1, \"0\": 1}, \"24\": {\"24\": 8, \"55\": 1, \"3\": 1}, \"18\": {\"54\": 2, \"18\": 5, \"51\": 1, \"35\": 1, \"28\": 1, \"39\": 1, \"53\": 1}, \"16\": {\"16\": 6}, \"45\": {\"45\": 12}, \"3\": {\"3\": 7, \"52\": 1, \"13\": 3, \"6\": 1}, \"17\": {\"47\": 4, \"32\": 1, \"17\": 4, \"42\": 1, \"27\": 1, \"29\": 1}, \"35\": {\"35\": 9, \"19\": 3}, \"30\": {\"30\": 10}, \"1\": {\"47\": 2, \"1\": 5, \"32\": 1, \"33\": 3, \"39\": 1}, \"23\": {\"48\": 1, \"46\": 1, \"4\": 2, \"23\": 2, \"49\": 1, \"39\": 1, \"21\": 1, \"55\": 2, \"8\": 1}, \"0\": {\"0\": 10}, \"52\": {\"52\": 8, \"22\": 3, \"45\": 1}, \"43\": {\"31\": 1, \"43\": 7, \"42\": 1, \"33\": 1, \"40\": 1, \"7\": 1}, \"44\": {\"50\": 2, \"3\": 1, \"44\": 4, \"5\": 3, \"49\": 1, \"45\": 1}, \"27\": {\"57\": 3, \"32\": 1, \"27\": 7, \"33\": 1}, \"9\": {\"9\": 9, \"46\": 1, \"45\": 1, \"56\": 1}, \"57\": {\"32\": 2, \"4\": 1, \"57\": 2, \"27\": 1, \"7\": 2}, \"2\": {\"2\": 12}, \"36\": {\"36\": 8}, \"12\": {\"12\": 12}, \"33\": {\"42\": 2, \"1\": 3, \"29\": 1, \"39\": 2, \"33\": 2}, \"13\": {\"13\": 10}, \"51\": {\"51\": 10}, \"11\": {\"24\": 1, \"11\": 9, \"10\": 2}, \"5\": {\"5\": 12}, \"37\": {\"51\": 2, \"12\": 1, \"49\": 1, \"20\": 1, \"37\": 2, \"27\": 1, \"38\": 1, \"55\": 1, \"41\": 1, \"26\": 1}, \"39\": {\"39\": 1, \"29\": 1, \"1\": 2}, \"41\": {\"41\": 5, \"51\": 1}}, \"W_A_1\": {\"57\": {\"57\": 6, \"24\": 1, \"63\": 1, \"3\": 2, \"16\": 1, \"44\": 1}, \"113\": {\"109\": 1, \"57\": 1, \"113\": 5, \"38\": 1, \"126\": 2, \"43\": 1, \"61\": 1}, \"114\": {\"114\": 8, \"109\": 3, \"14\": 1}, \"88\": {\"88\": 2, \"109\": 2, \"10\": 1, \"70\": 2, \"30\": 2, \"7\": 1, \"87\": 1, \"24\": 1}, \"4\": {\"67\": 1, \"57\": 2, \"4\": 4, \"2\": 1, \"17\": 1, \"63\": 1, \"89\": 1, \"20\": 1}, \"129\": {\"113\": 1, \"4\": 1, \"57\": 1, \"67\": 2, \"20\": 1, \"129\": 1, \"55\": 1, \"32\": 1, \"104\": 1, \"14\": 2}, \"67\": {\"67\": 12}, \"84\": {\"57\": 1, \"84\": 1, \"24\": 2, \"61\": 1, \"113\": 1, \"99\": 2}, \"13\": {\"67\": 1, \"57\": 2, \"17\": 1, \"100\": 1, \"3\": 1, \"54\": 1, \"91\": 1, \"73\": 2, \"63\": 1, \"45\": 1}, \"71\": {\"71\": 8, \"36\": 2, \"114\": 1, \"91\": 1}, \"10\": {\"109\": 3, \"10\": 4, \"108\": 2, \"97\": 1, \"7\": 2}, \"56\": {\"71\": 2, \"56\": 6, \"96\": 1, \"52\": 1, \"13\": 1, \"41\": 1}, \"109\": {\"109\": 10, \"30\": 1, \"78\": 1}, \"117\": {\"67\": 1, \"57\": 1, \"117\": 4, \"20\": 1, \"13\": 1, \"11\": 1, \"62\": 1, \"63\": 1, \"0\": 1}, \"9\": {\"4\": 1, \"9\": 3, \"24\": 1, \"98\": 1, \"26\": 1, \"102\": 1, \"13\": 1, \"50\": 1, \"28\": 1, \"40\": 1}, \"118\": {\"109\": 1, \"118\": 2, \"3\": 1, \"7\": 4, \"26\": 2, \"69\": 2}, \"85\": {\"85\": 5, \"14\": 1, \"82\": 1, \"103\": 1, \"55\": 1, \"75\": 1, \"129\": 1, \"67\": 1}, \"44\": {\"44\": 5, \"122\": 1, \"76\": 1, \"66\": 1, \"61\": 1, \"96\": 1}, \"17\": {\"125\": 1, \"17\": 5, \"2\": 1, \"102\": 1, \"37\": 1, \"5\": 1}, \"24\": {\"109\": 3, \"24\": 7, \"108\": 1, \"30\": 1}, \"98\": {\"36\": 2, \"109\": 1, \"24\": 1, \"15\": 2, \"71\": 1, \"122\": 1, \"98\": 2, \"31\": 1, \"78\": 1}, \"12\": {\"109\": 1, \"106\": 1, \"12\": 3, \"19\": 1, \"105\": 1, \"100\": 1, \"39\": 1, \"0\": 1, \"27\": 1, \"40\": 1}, \"106\": {\"14\": 2, \"2\": 1, \"122\": 1, \"106\": 4, \"129\": 1, \"62\": 1, \"40\": 1, \"1\": 1}, \"42\": {\"24\": 1, \"109\": 1, \"97\": 1, \"3\": 1, \"73\": 2, \"60\": 1, \"89\": 1, \"0\": 2, \"7\": 2}, \"63\": {\"63\": 10, \"123\": 1, \"113\": 1}, \"14\": {\"14\": 8, \"109\": 1, \"114\": 1, \"72\": 1, \"129\": 1}, \"122\": {\"109\": 2, \"122\": 4, \"108\": 1, \"3\": 1, \"0\": 2}, \"36\": {\"98\": 3, \"36\": 8, \"11\": 1}, \"125\": {\"125\": 9, \"6\": 1, \"59\": 2}, \"62\": {\"62\": 8, \"21\": 1, \"40\": 1, \"26\": 1, \"18\": 1}, \"38\": {\"84\": 1, \"9\": 1, \"46\": 1, \"77\": 1, \"38\": 3, \"114\": 1, \"121\": 1, \"117\": 1, \"105\": 1, \"119\": 1}, \"40\": {\"9\": 1, \"62\": 1, \"129\": 1, \"57\": 1, \"25\": 1, \"19\": 1, \"3\": 1, \"40\": 2, \"114\": 1, \"16\": 1, \"7\": 1}, \"116\": {\"10\": 1, \"84\": 1, \"42\": 1, \"20\": 1, \"55\": 1, \"116\": 3, \"85\": 1, \"66\": 1, \"129\": 1, \"24\": 1}, \"2\": {\"108\": 1, \"84\": 1, \"98\": 1, \"2\": 2, \"61\": 1, \"115\": 1, \"29\": 1, \"1\": 1, \"44\": 1, \"31\": 2}, \"54\": {\"92\": 2, \"55\": 1, \"54\": 4, \"29\": 1, \"82\": 1, \"80\": 1, \"9\": 1, \"86\": 1}, \"26\": {\"62\": 3, \"9\": 1, \"30\": 1, \"26\": 4, \"82\": 1, \"0\": 1, \"117\": 1}, \"92\": {\"92\": 7, \"36\": 1}, \"120\": {\"120\": 3, \"10\": 1, \"81\": 1, \"21\": 1, \"99\": 1, \"28\": 1, \"12\": 2, \"103\": 2}, \"108\": {\"10\": 1, \"108\": 3, \"7\": 2, \"122\": 2, \"11\": 2}, \"77\": {\"84\": 1, \"113\": 1, \"3\": 2, \"77\": 2, \"97\": 1, \"16\": 1, \"103\": 1, \"7\": 2, \"104\": 1}, \"58\": {\"58\": 3, \"32\": 1, \"104\": 1, \"93\": 1, \"29\": 1, \"109\": 1, \"98\": 1, \"92\": 2, \"35\": 1}, \"73\": {\"100\": 2, \"105\": 1, \"24\": 1, \"73\": 3, \"99\": 2, \"115\": 1, \"14\": 2}, \"61\": {\"61\": 3, \"113\": 1, \"99\": 1, \"41\": 2, \"66\": 1, \"32\": 1, \"126\": 1, \"118\": 1, \"19\": 1}, \"126\": {\"126\": 9, \"113\": 1, \"7\": 2}, \"103\": {\"100\": 2, \"73\": 1, \"105\": 1, \"55\": 2, \"96\": 1, \"103\": 2, \"9\": 1, \"114\": 1, \"95\": 1}, \"100\": {\"113\": 1, \"100\": 4, \"13\": 1, \"106\": 1, \"99\": 1, \"87\": 2, \"101\": 2}, \"46\": {\"58\": 1, \"46\": 3, \"67\": 1, \"20\": 1, \"107\": 1, \"106\": 1, \"102\": 1, \"50\": 1, \"91\": 2}, \"93\": {\"84\": 1, \"113\": 1, \"65\": 1, \"93\": 3, \"39\": 1, \"16\": 1, \"126\": 1, \"87\": 2, \"122\": 1}, \"101\": {\"84\": 2, \"122\": 1, \"18\": 1, \"53\": 2, \"85\": 1, \"99\": 1, \"43\": 1, \"74\": 1, \"101\": 2}, \"32\": {\"101\": 1, \"100\": 1, \"58\": 1, \"32\": 2, \"52\": 1, \"3\": 1, \"94\": 2, \"34\": 1, \"62\": 1, \"68\": 1}, \"16\": {\"113\": 1, \"100\": 1, \"16\": 3, \"0\": 2, \"62\": 1, \"7\": 1, \"19\": 1, \"69\": 1, \"105\": 1}, \"8\": {\"61\": 1, \"8\": 4, \"70\": 1, \"23\": 1, \"41\": 1, \"44\": 1, \"66\": 1, \"21\": 2}, \"104\": {\"97\": 1, \"1\": 1, \"64\": 1, \"7\": 1, \"19\": 1, \"68\": 1, \"71\": 1, \"3\": 1, \"44\": 1, \"91\": 1, \"104\": 1, \"99\": 1}, \"47\": {\"1\": 1, \"42\": 1, \"47\": 3, \"112\": 1, \"12\": 1, \"80\": 1, \"72\": 1, \"54\": 1, \"85\": 1, \"123\": 1}, \"3\": {\"3\": 10, \"20\": 2}, \"1\": {\"42\": 2, \"70\": 1, \"72\": 1, \"99\": 1, \"82\": 1, \"106\": 1, \"32\": 1, \"78\": 2, \"90\": 1, \"40\": 1}, \"18\": {\"1\": 1, \"18\": 2, \"76\": 1, \"27\": 1, \"41\": 1, \"122\": 1, \"87\": 1, \"66\": 1, \"7\": 2, \"60\": 1}, \"97\": {\"97\": 2, \"10\": 1, \"108\": 1, \"96\": 2, \"78\": 1, \"44\": 1, \"15\": 1, \"126\": 1}, \"107\": {\"13\": 1, \"107\": 6, \"55\": 1, \"9\": 2, \"33\": 2}, \"15\": {\"88\": 1, \"58\": 1, \"109\": 1, \"15\": 4, \"124\": 1, \"12\": 1, \"70\": 1, \"106\": 1, \"54\": 1}, \"6\": {\"37\": 4, \"125\": 1, \"6\": 6, \"22\": 1}, \"86\": {\"37\": 1, \"98\": 1, \"86\": 6, \"120\": 1, \"2\": 1, \"77\": 1, \"104\": 1}, \"30\": {\"109\": 6, \"96\": 1, \"30\": 2, \"39\": 1, \"27\": 1, \"126\": 1}, \"111\": {\"111\": 9, \"124\": 1}, \"37\": {\"37\": 11, \"89\": 1}, \"81\": {\"81\": 1, \"98\": 1, \"21\": 1, \"95\": 1, \"55\": 1, \"73\": 1, \"32\": 1, \"129\": 1, \"118\": 1, \"117\": 1, \"11\": 1, \"113\": 1}, \"7\": {\"7\": 12}, \"70\": {\"109\": 1, \"30\": 1, \"70\": 7, \"39\": 2, \"96\": 1}, \"124\": {\"67\": 1, \"124\": 2, \"68\": 2, \"103\": 2, \"20\": 1, \"14\": 2}, \"76\": {\"27\": 1, \"121\": 1, \"29\": 1, \"64\": 1, \"19\": 1, \"76\": 1, \"66\": 2, \"118\": 1, \"60\": 1, \"93\": 1, \"122\": 1}, \"95\": {\"121\": 1, \"129\": 1, \"95\": 6, \"81\": 1, \"117\": 1, \"102\": 1, \"42\": 1}, \"27\": {\"27\": 4, \"39\": 2, \"24\": 1, \"21\": 2, \"126\": 1}, \"75\": {\"76\": 1, \"40\": 1, \"75\": 4, \"69\": 1, \"0\": 1, \"31\": 2, \"22\": 1, \"113\": 1}, \"50\": {\"57\": 1, \"50\": 3, \"7\": 2, \"81\": 1, \"20\": 1, \"40\": 2, \"26\": 1, \"115\": 1}, \"52\": {\"46\": 1, \"124\": 1, \"56\": 3, \"32\": 1, \"101\": 1, \"52\": 3, \"15\": 1, \"99\": 1}, \"83\": {\"121\": 1, \"52\": 2, \"60\": 1, \"72\": 1, \"112\": 1, \"22\": 1, \"34\": 1, \"120\": 1, \"100\": 1, \"86\": 1, \"83\": 1}, \"65\": {\"57\": 1, \"46\": 1, \"81\": 1, \"120\": 1, \"76\": 1, \"19\": 1, \"16\": 1, \"65\": 1, \"64\": 2, \"18\": 1, \"60\": 1}, \"121\": {\"57\": 1, \"121\": 4, \"119\": 1, \"60\": 2, \"5\": 1, \"3\": 2, \"89\": 1}, \"123\": {\"120\": 1, \"3\": 3, \"123\": 5, \"117\": 2, \"113\": 1}, \"110\": {\"3\": 1, \"114\": 1, \"60\": 1, \"69\": 1, \"110\": 2}, \"31\": {\"3\": 3, \"87\": 4, \"70\": 1, \"96\": 1, \"31\": 2, \"21\": 1}, \"68\": {\"120\": 1, \"68\": 4, \"102\": 1, \"12\": 2, \"117\": 2, \"95\": 1, \"101\": 1}, \"0\": {\"3\": 2, \"39\": 1, \"61\": 1, \"87\": 2, \"2\": 1, \"21\": 1, \"118\": 2, \"0\": 2}, \"72\": {\"70\": 1, \"1\": 1, \"103\": 1, \"74\": 1, \"45\": 1, \"0\": 1, \"120\": 1, \"100\": 1, \"81\": 1, \"72\": 1, \"23\": 1, \"19\": 1}, \"102\": {\"102\": 6, \"95\": 1, \"7\": 1, \"20\": 1, \"63\": 1}, \"48\": {\"70\": 1, \"48\": 2, \"43\": 1, \"93\": 1, \"44\": 1, \"19\": 1, \"87\": 1, \"66\": 1, \"38\": 1, \"22\": 2}, \"33\": {\"33\": 3, \"81\": 2, \"74\": 2, \"40\": 2, \"117\": 2, \"18\": 1}, \"51\": {\"56\": 2, \"51\": 4, \"125\": 1, \"88\": 1, \"94\": 2, \"92\": 1, \"58\": 1}, \"99\": {\"99\": 6, \"118\": 1, \"73\": 1}, \"82\": {\"99\": 1, \"82\": 4, \"81\": 1, \"19\": 2, \"25\": 1, \"50\": 1, \"7\": 1, \"95\": 1}, \"94\": {\"39\": 3, \"94\": 4, \"96\": 1, \"27\": 2, \"75\": 1, \"30\": 1}, \"25\": {\"25\": 3, \"108\": 1, \"69\": 1, \"28\": 1, \"129\": 1, \"29\": 1, \"107\": 2, \"73\": 2}, \"39\": {\"39\": 4, \"7\": 1, \"93\": 1, \"23\": 1, \"43\": 1, \"70\": 2, \"87\": 2}, \"59\": {\"59\": 12}, \"20\": {\"20\": 10, \"3\": 1, \"24\": 1}, \"53\": {\"35\": 1, \"111\": 1, \"124\": 1, \"53\": 6, \"16\": 1, \"79\": 1, \"101\": 1}, \"115\": {\"115\": 8, \"7\": 1, \"57\": 1}, \"41\": {\"41\": 4, \"16\": 1, \"28\": 1, \"23\": 1, \"64\": 1, \"31\": 2, \"122\": 1, \"101\": 1}, \"35\": {\"35\": 2, \"122\": 1, \"103\": 1, \"61\": 1, \"45\": 1}, \"64\": {\"64\": 3, \"97\": 1, \"39\": 1, \"28\": 1, \"110\": 1, \"109\": 1}, \"78\": {\"7\": 2, \"93\": 2, \"43\": 1, \"11\": 1, \"24\": 1, \"96\": 1, \"109\": 3, \"87\": 1}, \"45\": {\"92\": 1, \"102\": 1, \"81\": 1, \"21\": 1, \"16\": 1, \"31\": 1, \"51\": 1, \"7\": 1, \"45\": 2, \"20\": 1, \"14\": 1}, \"80\": {\"102\": 1, \"7\": 1, \"80\": 7, \"72\": 1, \"54\": 1, \"16\": 1}, \"128\": {\"19\": 2, \"11\": 1, \"54\": 1, \"64\": 1, \"71\": 1, \"99\": 1, \"73\": 1, \"128\": 2, \"20\": 1, \"53\": 1}, \"96\": {\"21\": 1, \"96\": 4, \"113\": 1, \"122\": 2, \"70\": 2, \"16\": 1, \"50\": 1}, \"69\": {\"21\": 1, \"69\": 5, \"33\": 2, \"122\": 1, \"114\": 1, \"82\": 1, \"61\": 1}, \"19\": {\"121\": 1, \"19\": 5, \"79\": 1, \"96\": 1, \"50\": 1, \"120\": 1, \"113\": 1, \"20\": 1}, \"119\": {\"82\": 1, \"95\": 1, \"119\": 6, \"5\": 1, \"100\": 2, \"55\": 1}, \"21\": {\"21\": 8, \"126\": 2, \"70\": 2}, \"91\": {\"73\": 1, \"91\": 7, \"28\": 1, \"47\": 1, \"112\": 1, \"104\": 1}, \"105\": {\"66\": 1, \"73\": 1, \"105\": 6, \"33\": 2, \"16\": 1, \"74\": 1}, \"60\": {\"121\": 1, \"24\": 1, \"96\": 1, \"19\": 1, \"31\": 2, \"118\": 2, \"60\": 2, \"113\": 1, \"61\": 1}, \"66\": {\"27\": 2, \"110\": 1, \"64\": 1, \"90\": 1, \"66\": 3, \"61\": 1, \"116\": 1}, \"55\": {\"81\": 1, \"20\": 1, \"129\": 2, \"55\": 7, \"3\": 1}, \"29\": {\"29\": 4, \"87\": 1, \"25\": 1, \"106\": 3, \"44\": 2, \"66\": 1}, \"34\": {\"34\": 1, \"72\": 1, \"71\": 1, \"106\": 2, \"76\": 1, \"12\": 1, \"87\": 1}, \"74\": {\"74\": 2, \"72\": 1, \"114\": 1, \"12\": 1, \"40\": 1, \"26\": 1, \"62\": 1}, \"49\": {\"69\": 1, \"82\": 1, \"7\": 1, \"5\": 1, \"19\": 1, \"105\": 1}, \"22\": {\"22\": 2, \"110\": 1, \"119\": 1, \"19\": 1, \"105\": 1, \"51\": 2, \"113\": 1, \"45\": 1, \"115\": 1, \"57\": 1}, \"5\": {\"5\": 5, \"7\": 1, \"89\": 1, \"110\": 1, \"55\": 2, \"95\": 2}, \"89\": {\"127\": 3, \"41\": 2, \"117\": 1, \"89\": 1, \"35\": 1}, \"127\": {\"82\": 1, \"25\": 1, \"127\": 2, \"45\": 1, \"8\": 1, \"43\": 1, \"101\": 1, \"103\": 1, \"95\": 1, \"72\": 1, \"14\": 1}, \"87\": {\"87\": 6, \"23\": 1, \"8\": 1, \"11\": 2, \"61\": 1, \"7\": 1}, \"23\": {\"23\": 2, \"75\": 1, \"43\": 1, \"7\": 1, \"39\": 2, \"105\": 1, \"87\": 1, \"24\": 1}, \"28\": {\"28\": 6, \"91\": 2, \"29\": 1, \"103\": 1, \"1\": 1, \"90\": 1}, \"43\": {\"7\": 2, \"23\": 1, \"43\": 6, \"11\": 1}, \"11\": {\"11\": 3, \"78\": 2, \"7\": 1, \"43\": 2}, \"112\": {\"91\": 1, \"112\": 4, \"59\": 1, \"47\": 2, \"83\": 2}, \"79\": {\"48\": 1, \"79\": 4, \"47\": 1, \"80\": 1, \"127\": 1}, \"90\": {\"90\": 5, \"21\": 1}}, \"W_A_4\": {\"119\": {\"22\": 1, \"126\": 1, \"97\": 2, \"74\": 2, \"119\": 2, \"72\": 1, \"122\": 1, \"66\": 1, \"32\": 1}, \"101\": {\"126\": 2, \"71\": 2, \"122\": 3, \"87\": 2, \"101\": 1, \"88\": 1, \"20\": 1}, \"15\": {\"101\": 1, \"78\": 1, \"89\": 1, \"15\": 4, \"8\": 1, \"53\": 1, \"122\": 1, \"11\": 1, \"10\": 1}, \"22\": {\"41\": 2, \"22\": 4, \"32\": 1, \"121\": 1, \"60\": 1, \"123\": 1}, \"127\": {\"90\": 1, \"127\": 6, \"95\": 2, \"28\": 1, \"40\": 1, \"12\": 1}, \"6\": {\"6\": 7, \"91\": 2, \"25\": 2, \"10\": 1}, \"69\": {\"26\": 1, \"71\": 1, \"44\": 1, \"114\": 1, \"1\": 1, \"23\": 1, \"122\": 1, \"82\": 1, \"101\": 2}, \"41\": {\"22\": 3, \"6\": 1, \"41\": 1, \"96\": 1, \"35\": 2, \"85\": 1, \"119\": 1, \"10\": 1, \"29\": 1}, \"68\": {\"68\": 5, \"9\": 1, \"111\": 2, \"10\": 1, \"124\": 1}, \"126\": {\"126\": 7, \"78\": 1, \"108\": 1, \"88\": 1, \"109\": 1, \"128\": 1}, \"62\": {\"126\": 1, \"62\": 3, \"88\": 1, \"108\": 1, \"110\": 1, \"84\": 1, \"119\": 1, \"26\": 1, \"122\": 1, \"12\": 1}, \"26\": {\"26\": 3, \"127\": 1, \"42\": 2, \"72\": 1, \"93\": 1, \"44\": 1, \"114\": 1, \"62\": 1, \"95\": 1}, \"71\": {\"127\": 1, \"78\": 2, \"101\": 1, \"87\": 1, \"71\": 3, \"106\": 1, \"7\": 1, \"66\": 1, \"88\": 1}, \"78\": {\"78\": 12}, \"90\": {\"90\": 7, \"22\": 1, \"66\": 1, \"16\": 1, \"70\": 1, \"20\": 1}, \"24\": {\"78\": 2, \"70\": 2, \"24\": 1, \"9\": 1, \"7\": 1, \"21\": 1, \"126\": 2, \"119\": 1, \"94\": 1}, \"11\": {\"27\": 1, \"100\": 1, \"110\": 3, \"11\": 3, \"70\": 1, \"118\": 2, \"99\": 1}, \"35\": {\"120\": 1, \"67\": 1, \"44\": 1, \"35\": 1, \"107\": 1, \"66\": 1, \"17\": 1, \"114\": 1, \"112\": 2, \"61\": 1, \"49\": 1}, \"86\": {\"35\": 2, \"129\": 1, \"67\": 1, \"37\": 1, \"22\": 1, \"46\": 1, \"45\": 1, \"90\": 1, \"107\": 1, \"116\": 1, \"80\": 1}, \"3\": {\"83\": 2, \"99\": 1, \"14\": 1, \"7\": 1, \"3\": 1, \"122\": 1, \"46\": 1, \"0\": 2, \"118\": 1, \"87\": 1}, \"75\": {\"75\": 5, \"59\": 3, \"47\": 1, \"77\": 1, \"58\": 2}, \"100\": {\"83\": 2, \"15\": 1, \"100\": 3, \"5\": 2, \"35\": 1, \"72\": 1, \"0\": 1, \"76\": 1}, \"117\": {\"86\": 2, \"61\": 1, \"117\": 2, \"104\": 2, \"63\": 1, \"17\": 1, \"11\": 1, \"50\": 2}, \"120\": {\"120\": 3, \"11\": 1, \"65\": 1, \"35\": 1, \"44\": 1, \"122\": 2, \"16\": 1, \"0\": 1, \"60\": 1}, \"8\": {\"11\": 3, \"7\": 1, \"118\": 1, \"8\": 5, \"49\": 1, \"96\": 1}, \"27\": {\"8\": 2, \"126\": 2, \"43\": 1, \"27\": 4, \"70\": 1, \"108\": 1, \"87\": 1}, \"83\": {\"11\": 1, \"83\": 1, \"48\": 2, \"122\": 2, \"37\": 1, \"18\": 1, \"93\": 2, \"72\": 2}, \"129\": {\"86\": 2, \"129\": 5, \"87\": 2, \"126\": 1, \"92\": 1, \"95\": 1}, \"36\": {\"36\": 7, \"53\": 1, \"9\": 2, \"51\": 1, \"0\": 1}, \"67\": {\"86\": 2, \"49\": 2, \"129\": 1, \"74\": 1, \"123\": 2, \"80\": 2, \"102\": 2}, \"54\": {\"54\": 12}, \"92\": {\"86\": 1, \"92\": 2, \"17\": 1, \"42\": 1, \"52\": 1, \"45\": 1, \"79\": 1, \"95\": 1, \"129\": 2, \"121\": 1}, \"56\": {\"56\": 6, \"28\": 1, \"17\": 1, \"34\": 1, \"103\": 1, \"116\": 2}, \"29\": {\"41\": 1, \"29\": 8, \"15\": 1, \"94\": 1, \"34\": 1}, \"80\": {\"123\": 1, \"80\": 9, \"44\": 1, \"119\": 1}, \"123\": {\"123\": 5, \"5\": 1, \"2\": 1, \"52\": 1, \"86\": 1, \"77\": 1, \"65\": 1, \"95\": 1}, \"28\": {\"42\": 2, \"28\": 1, \"1\": 1, \"73\": 1, \"121\": 1, \"40\": 1, \"31\": 1, \"79\": 1, \"5\": 1, \"128\": 2}, \"42\": {\"113\": 2, \"2\": 1, \"17\": 1, \"38\": 1, \"42\": 2, \"45\": 1, \"28\": 1, \"19\": 1, \"51\": 2}, \"113\": {\"53\": 1, \"113\": 7, \"52\": 1, \"108\": 2, \"72\": 1}, \"53\": {\"113\": 1, \"53\": 3, \"8\": 1, \"99\": 1, \"21\": 2, \"122\": 1, \"46\": 1, \"93\": 1, \"55\": 1}, \"61\": {\"26\": 1, \"42\": 1, \"13\": 1, \"61\": 4, \"45\": 1, \"117\": 1, \"55\": 1, \"102\": 1, \"66\": 1}, \"39\": {\"39\": 4, \"109\": 1, \"24\": 1, \"23\": 1, \"30\": 1, \"122\": 2, \"10\": 2}, \"96\": {\"42\": 1, \"41\": 1, \"108\": 1, \"95\": 1, \"78\": 1, \"18\": 1, \"110\": 1, \"60\": 1, \"121\": 1, \"6\": 1}, \"109\": {\"113\": 1, \"53\": 1, \"116\": 1, \"39\": 1, \"8\": 2, \"109\": 4, \"122\": 2}, \"18\": {\"18\": 5, \"42\": 1, \"21\": 1, \"40\": 1, \"63\": 1, \"72\": 1, \"114\": 1, \"16\": 1}, \"10\": {\"7\": 2, \"10\": 5, \"109\": 1, \"21\": 1, \"62\": 1, \"8\": 1, \"16\": 1}, \"34\": {\"34\": 5, \"50\": 1, \"33\": 1, \"72\": 1, \"75\": 1, \"104\": 1, \"117\": 1, \"77\": 1}, \"103\": {\"17\": 5, \"50\": 2, \"103\": 4, \"70\": 1}, \"82\": {\"50\": 3, \"82\": 3, \"104\": 1, \"18\": 1, \"69\": 1, \"60\": 1, \"45\": 1, \"53\": 1}, \"65\": {\"65\": 12}, \"50\": {\"103\": 2, \"31\": 1, \"44\": 1, \"50\": 3, \"67\": 1, \"7\": 2, \"102\": 2}, \"99\": {\"82\": 1, \"99\": 3, \"93\": 1, \"35\": 1, \"8\": 4}, \"97\": {\"7\": 1, \"118\": 1, \"97\": 5, \"10\": 1, \"78\": 1, \"70\": 1, \"126\": 1, \"12\": 1}, \"124\": {\"34\": 2, \"17\": 1, \"33\": 1, \"121\": 1, \"111\": 1, \"54\": 2, \"23\": 1, \"124\": 1, \"68\": 2}, \"17\": {\"103\": 1, \"99\": 1, \"17\": 6, \"2\": 1, \"83\": 1, \"31\": 2}, \"0\": {\"0\": 2, \"7\": 1, \"93\": 2, \"20\": 1, \"44\": 1, \"38\": 1, \"126\": 1, \"12\": 2, \"110\": 1}, \"7\": {\"7\": 7, \"93\": 2, \"21\": 1, \"113\": 2}, \"112\": {\"34\": 2, \"7\": 1, \"114\": 1, \"56\": 1, \"98\": 1, \"9\": 1, \"51\": 1, \"23\": 1, \"35\": 1, \"84\": 1, \"10\": 1}, \"118\": {\"82\": 1, \"99\": 1, \"108\": 3, \"118\": 2, \"106\": 1, \"72\": 1, \"14\": 1, \"87\": 1, \"10\": 1}, \"5\": {\"5\": 7, \"122\": 1, \"100\": 1, \"87\": 1, \"93\": 1, \"74\": 1}, \"38\": {\"38\": 6, \"122\": 1, \"108\": 1, \"76\": 1, \"70\": 1, \"109\": 1, \"3\": 1}, \"2\": {\"60\": 1, \"5\": 1, \"116\": 2, \"84\": 2, \"7\": 1, \"2\": 1, \"72\": 1, \"74\": 1, \"19\": 1, \"48\": 1}, \"122\": {\"122\": 7, \"73\": 1, \"21\": 1, \"97\": 1, \"62\": 1, \"126\": 1}, \"125\": {\"125\": 11, \"54\": 1}, \"49\": {\"122\": 2, \"49\": 3, \"113\": 2, \"5\": 1, \"93\": 1, \"8\": 1, \"87\": 1, \"44\": 1}, \"60\": {\"122\": 2, \"60\": 5, \"66\": 1, \"7\": 2, \"108\": 1, \"85\": 1}, \"70\": {\"122\": 1, \"70\": 7, \"24\": 1, \"39\": 1, \"78\": 2}, \"85\": {\"85\": 4, \"60\": 1, \"51\": 1, \"49\": 1, \"126\": 1, \"108\": 1, \"66\": 1, \"41\": 1, \"119\": 1}, \"98\": {\"51\": 1, \"36\": 1, \"98\": 2, \"77\": 1, \"78\": 1, \"9\": 2, \"87\": 1, \"72\": 2, \"122\": 1}, \"116\": {\"85\": 1, \"17\": 1, \"32\": 1, \"33\": 3, \"108\": 1, \"19\": 2, \"29\": 1, \"80\": 1, \"116\": 1}, \"30\": {\"30\": 2, \"24\": 2, \"105\": 1, \"39\": 1, \"27\": 2, \"78\": 2, \"87\": 2}, \"9\": {\"109\": 1, \"98\": 2, \"9\": 2, \"29\": 1, \"18\": 1, \"87\": 2, \"89\": 1, \"47\": 1, \"82\": 1}, \"4\": {\"17\": 2, \"82\": 1, \"41\": 1, \"58\": 1, \"65\": 1, \"28\": 1, \"23\": 1, \"104\": 1, \"117\": 1, \"52\": 1, \"5\": 1}, \"51\": {\"9\": 1, \"39\": 1, \"51\": 3, \"21\": 1, \"124\": 1, \"95\": 1, \"0\": 2, \"29\": 1, \"123\": 1}, \"93\": {\"93\": 7, \"108\": 2, \"110\": 2, \"53\": 1}, \"55\": {\"50\": 1, \"120\": 1, \"67\": 1, \"37\": 1, \"110\": 1, \"46\": 1, \"69\": 2, \"55\": 2, \"92\": 1, \"95\": 1}, \"44\": {\"44\": 9, \"93\": 1, \"118\": 1, \"109\": 1}, \"114\": {\"44\": 1, \"114\": 8, \"64\": 1, \"71\": 1, \"7\": 1}, \"31\": {\"31\": 6, \"127\": 2, \"66\": 1, \"117\": 1, \"37\": 2}, \"94\": {\"56\": 1, \"94\": 4, \"113\": 1, \"6\": 1, \"53\": 1, \"100\": 1, \"119\": 1, \"79\": 1, \"15\": 1}, \"91\": {\"41\": 1, \"46\": 1, \"21\": 1, \"112\": 1, \"58\": 1, \"78\": 1, \"2\": 1, \"24\": 1, \"91\": 2, \"90\": 1, \"93\": 1}, \"46\": {\"113\": 1, \"37\": 1, \"21\": 1, \"18\": 1, \"46\": 3, \"86\": 1, \"72\": 1, \"82\": 2, \"128\": 1}, \"32\": {\"82\": 1, \"113\": 2, \"80\": 1, \"43\": 1, \"11\": 1, \"33\": 1, \"5\": 1, \"93\": 1, \"14\": 1, \"32\": 2}, \"37\": {\"22\": 1, \"37\": 4, \"72\": 1, \"44\": 1, \"50\": 1, \"91\": 1, \"83\": 1, \"115\": 1, \"104\": 1}, \"52\": {\"19\": 2, \"3\": 1, \"52\": 4, \"89\": 3, \"20\": 1, \"90\": 1}, \"19\": {\"74\": 1, \"105\": 1, \"40\": 1, \"3\": 1, \"122\": 1, \"73\": 1, \"72\": 1, \"86\": 1, \"19\": 2, \"49\": 1, \"8\": 1}, \"105\": {\"67\": 2, \"40\": 2, \"100\": 1, \"78\": 1, \"105\": 2, \"35\": 1, \"21\": 1, \"5\": 1, \"127\": 1}, \"23\": {\"30\": 1, \"113\": 1, \"87\": 1, \"27\": 1, \"88\": 1, \"110\": 1, \"54\": 1, \"108\": 3, \"53\": 1, \"21\": 1}, \"74\": {\"74\": 4, \"72\": 2, \"108\": 2, \"35\": 1, \"8\": 2, \"5\": 1}, \"88\": {\"39\": 1, \"30\": 1, \"88\": 8, \"70\": 1, \"109\": 1}, \"45\": {\"129\": 1, \"45\": 9, \"79\": 1, \"37\": 1}, \"89\": {\"19\": 1, \"52\": 1, \"89\": 4, \"83\": 1, \"73\": 1, \"37\": 1, \"99\": 1, \"84\": 1, \"50\": 1}, \"48\": {\"48\": 3, \"89\": 1, \"40\": 1, \"26\": 2, \"60\": 1, \"64\": 1, \"19\": 1, \"65\": 1, \"120\": 1}, \"25\": {\"59\": 2, \"25\": 9, \"75\": 1}, \"13\": {\"13\": 1, \"61\": 1, \"21\": 1, \"26\": 1, \"104\": 1, \"5\": 1, \"69\": 2, \"103\": 2, \"92\": 2}, \"87\": {\"87\": 6, \"27\": 1, \"108\": 2, \"23\": 1, \"122\": 1, \"3\": 1}, \"121\": {\"71\": 1, \"89\": 1, \"121\": 4, \"114\": 1, \"90\": 1, \"116\": 2, \"128\": 1, \"0\": 1}, \"59\": {\"25\": 3, \"59\": 7, \"119\": 1, \"109\": 1}, \"58\": {\"23\": 1, \"58\": 6, \"91\": 1, \"75\": 1, \"42\": 1, \"62\": 1, \"51\": 1}, \"12\": {\"12\": 3, \"8\": 2, \"84\": 2, \"120\": 1, \"71\": 1, \"107\": 1, \"76\": 2}, \"107\": {\"107\": 6, \"33\": 1, \"102\": 1, \"37\": 2, \"46\": 2}, \"1\": {\"12\": 1, \"126\": 1, \"18\": 1, \"128\": 1, \"73\": 1, \"40\": 1, \"1\": 2, \"23\": 1, \"87\": 1, \"14\": 1, \"118\": 1}, \"57\": {\"57\": 7, \"1\": 1, \"128\": 1, \"84\": 1, \"63\": 1, \"114\": 1}, \"111\": {\"111\": 8, \"107\": 1, \"104\": 1, \"17\": 1, \"119\": 1}, \"33\": {\"107\": 1, \"33\": 6, \"46\": 2, \"95\": 1, \"69\": 1, \"57\": 1}, \"14\": {\"12\": 1, \"127\": 1, \"14\": 3, \"110\": 1, \"84\": 2, \"78\": 1, \"7\": 2, \"52\": 1}, \"84\": {\"46\": 1, \"18\": 1, \"84\": 4, \"95\": 1, \"44\": 1, \"73\": 1, \"7\": 1, \"40\": 1, \"41\": 1}, \"21\": {\"21\": 12}, \"104\": {\"104\": 8, \"21\": 1, \"17\": 2, \"70\": 1}, \"128\": {\"46\": 1, \"82\": 1, \"66\": 1, \"7\": 1, \"52\": 1, \"38\": 1, \"76\": 1, \"0\": 1, \"128\": 2, \"107\": 1, \"12\": 1}, \"72\": {\"72\": 5, \"43\": 1, \"7\": 2, \"108\": 1, \"93\": 2, \"106\": 1}, \"40\": {\"27\": 1, \"107\": 1, \"26\": 2, \"19\": 1, \"40\": 2, \"87\": 1, \"23\": 1, \"50\": 1, \"113\": 2}, \"102\": {\"80\": 1, \"78\": 1, \"122\": 1, \"73\": 1, \"31\": 1, \"90\": 1, \"20\": 1, \"113\": 1, \"7\": 1, \"103\": 1, \"118\": 2}, \"47\": {\"75\": 1, \"47\": 6, \"11\": 1, \"84\": 1, \"112\": 1, \"9\": 2}, \"43\": {\"72\": 1, \"78\": 3, \"110\": 1, \"43\": 1, \"84\": 1, \"21\": 1, \"113\": 1, \"108\": 1, \"8\": 2}, \"77\": {\"48\": 1, \"77\": 4, \"91\": 1, \"34\": 1, \"116\": 1, \"94\": 1, \"85\": 1, \"29\": 1, \"51\": 1}, \"110\": {\"72\": 1, \"43\": 2, \"110\": 3, \"11\": 2, \"96\": 1, \"7\": 1, \"128\": 1, \"126\": 1}, \"16\": {\"7\": 1, \"72\": 1, \"16\": 1, \"107\": 1, \"84\": 2, \"70\": 2, \"0\": 2, \"118\": 1, \"1\": 1}, \"106\": {\"26\": 1, \"21\": 1, \"122\": 1, \"40\": 1, \"37\": 1, \"86\": 1, \"72\": 1, \"78\": 1, \"128\": 1, \"0\": 1, \"14\": 1, \"52\": 1}, \"66\": {\"90\": 2, \"66\": 8, \"113\": 2}, \"73\": {\"73\": 1, \"42\": 1, \"32\": 1, \"46\": 1, \"104\": 1, \"44\": 1, \"61\": 2, \"40\": 1, \"78\": 1, \"105\": 1, \"117\": 1}, \"76\": {\"110\": 2, \"84\": 1, \"116\": 1, \"81\": 2, \"0\": 3, \"121\": 1}, \"79\": {\"46\": 1, \"116\": 1, \"74\": 1, \"64\": 1, \"110\": 1, \"61\": 1, \"103\": 1, \"5\": 1, \"121\": 1, \"1\": 1, \"95\": 1, \"126\": 1}, \"108\": {\"70\": 2, \"108\": 7, \"84\": 2, \"21\": 1}, \"64\": {\"64\": 3, \"78\": 1, \"45\": 1, \"61\": 3, \"102\": 1, \"87\": 1}, \"115\": {\"43\": 1, \"95\": 1, \"11\": 1, \"115\": 2, \"114\": 1, \"53\": 1, \"104\": 1}, \"81\": {\"95\": 1, \"78\": 1, \"73\": 1, \"44\": 5, \"8\": 1, \"81\": 1, \"62\": 1, \"84\": 1}, \"95\": {\"64\": 1, \"5\": 1, \"84\": 1, \"95\": 3, \"104\": 2, \"119\": 1, \"29\": 1, \"27\": 1, \"110\": 1}, \"63\": {\"44\": 1, \"63\": 3, \"40\": 1, \"83\": 2, \"73\": 1}, \"20\": {\"44\": 5, \"113\": 2, \"20\": 2, \"94\": 1}}, \"C_A_5\": {\"2\": {\"3\": 2, \"20\": 2, \"9\": 1, \"2\": 5, \"47\": 1, \"40\": 1}, \"35\": {\"35\": 10, \"31\": 2}, \"3\": {\"3\": 9, \"2\": 1, \"57\": 1, \"0\": 1}, \"18\": {\"18\": 1, \"24\": 1, \"1\": 1, \"38\": 1, \"15\": 2, \"31\": 2, \"14\": 1, \"49\": 1, \"48\": 1, \"41\": 1}, \"29\": {\"29\": 8, \"55\": 1, \"17\": 1, \"39\": 1, \"54\": 1}, \"24\": {\"24\": 7, \"9\": 1, \"43\": 1, \"51\": 1, \"27\": 1, \"53\": 1}, \"25\": {\"24\": 2, \"4\": 1, \"53\": 2, \"19\": 1, \"25\": 1, \"49\": 1, \"37\": 1, \"40\": 1, \"15\": 1, \"17\": 1}, \"17\": {\"55\": 2, \"17\": 5, \"22\": 1, \"48\": 1, \"49\": 1, \"34\": 1, \"36\": 1}, \"54\": {\"55\": 2, \"54\": 5, \"36\": 2, \"29\": 2, \"39\": 1}, \"28\": {\"28\": 12}, \"33\": {\"19\": 1, \"33\": 7, \"35\": 3, \"31\": 1}, \"55\": {\"25\": 1, \"35\": 1, \"38\": 1, \"5\": 1, \"1\": 1, \"14\": 1, \"56\": 1, \"39\": 1, \"47\": 1, \"48\": 1}, \"19\": {\"28\": 2, \"19\": 6, \"35\": 1, \"15\": 1}, \"20\": {\"20\": 12}, \"41\": {\"20\": 2, \"42\": 2, \"1\": 1, \"0\": 2, \"41\": 3, \"8\": 1, \"25\": 1}, \"48\": {\"25\": 2, \"44\": 1, \"47\": 2, \"32\": 1, \"57\": 1, \"48\": 1}, \"6\": {\"6\": 8, \"45\": 2, \"50\": 2}, \"49\": {\"49\": 8, \"18\": 1, \"35\": 1, \"29\": 1, \"31\": 1}, \"9\": {\"47\": 3, \"45\": 1, \"27\": 2, \"30\": 1, \"50\": 1, \"32\": 1, \"9\": 1}, \"42\": {\"42\": 7, \"14\": 1, \"20\": 1, \"41\": 3}, \"22\": {\"22\": 4, \"4\": 2, \"5\": 2, \"48\": 1, \"23\": 1, \"32\": 1, \"56\": 1}, \"38\": {\"38\": 12}, \"44\": {\"22\": 2, \"48\": 1, \"3\": 1, \"44\": 6, \"4\": 1, \"20\": 1}, \"47\": {\"6\": 2, \"3\": 2, \"0\": 4, \"52\": 2, \"47\": 1, \"34\": 1}, \"7\": {\"20\": 1, \"7\": 9}, \"8\": {\"8\": 12}, \"10\": {\"10\": 10, \"37\": 1, \"11\": 1}, \"0\": {\"0\": 12}, \"57\": {\"57\": 5, \"4\": 1, \"46\": 3, \"9\": 1, \"32\": 1, \"0\": 1}, \"16\": {\"16\": 7, \"11\": 3}, \"21\": {\"21\": 12}, \"27\": {\"4\": 1, \"32\": 1, \"1\": 2, \"39\": 1, \"45\": 1, \"14\": 1, \"54\": 2, \"27\": 1, \"44\": 2}, \"53\": {\"53\": 8}, \"32\": {\"27\": 1, \"17\": 1, \"9\": 2, \"36\": 1, \"57\": 1, \"48\": 1, \"2\": 1, \"32\": 1, \"23\": 1, \"56\": 2}, \"4\": {\"27\": 4, \"4\": 5, \"1\": 1, \"47\": 1, \"40\": 1}, \"37\": {\"37\": 10}, \"1\": {\"3\": 3, \"5\": 1, \"1\": 3, \"48\": 1, \"4\": 2, \"52\": 1, \"45\": 1}, \"39\": {\"39\": 3, \"5\": 1, \"14\": 2, \"36\": 1, \"47\": 1, \"55\": 1, \"17\": 1}, \"36\": {\"39\": 4, \"36\": 3, \"14\": 1, \"25\": 1, \"48\": 1}, \"12\": {\"12\": 9, \"3\": 1, \"30\": 1, \"0\": 1}, \"5\": {\"5\": 8, \"22\": 3, \"32\": 1}, \"26\": {\"51\": 1, \"26\": 7, \"2\": 1, \"37\": 1, \"11\": 2}, \"51\": {\"51\": 11, \"7\": 1}, \"14\": {\"47\": 1, \"3\": 1, \"45\": 1, \"43\": 1, \"21\": 1, \"1\": 1, \"37\": 1, \"14\": 1, \"36\": 1, \"39\": 1}, \"43\": {\"43\": 11, \"2\": 1}, \"31\": {\"31\": 7, \"35\": 4, \"28\": 1}, \"45\": {\"45\": 10, \"6\": 2}, \"15\": {\"15\": 10}, \"23\": {\"36\": 1, \"2\": 1, \"23\": 3, \"52\": 1, \"54\": 1, \"44\": 1, \"22\": 1, \"42\": 1}, \"30\": {\"30\": 12}, \"46\": {\"46\": 12}, \"52\": {\"52\": 12}, \"34\": {\"34\": 5, \"44\": 1, \"23\": 1, \"17\": 1, \"56\": 1, \"39\": 1}, \"11\": {\"11\": 6, \"16\": 4}, \"13\": {\"24\": 3, \"21\": 1, \"13\": 6}, \"50\": {\"6\": 3, \"46\": 1, \"50\": 2}, \"56\": {\"56\": 3, \"23\": 1, \"22\": 1, \"48\": 1}, \"40\": {\"54\": 2, \"29\": 2}}}, \"per_domain_accuracy\": {\"ORACLE.run1_50\": {\"accuracy\": 0.9138020833333333, \"source?\": true}, \"ORACLE.run1_14\": {\"accuracy\": 0.8666666666666667, \"source?\": true}, \"ORACLE.run1_32\": {\"accuracy\": 0.865625, \"source?\": true}, \"ORACLE.run1_44\": {\"accuracy\": 0.8252604166666667, \"source?\": true}, \"ORACLE.run1_8\": {\"accuracy\": 0.8838541666666667, \"source?\": true}, \"ORACLE.run1_20\": {\"accuracy\": 0.8940104166666667, \"source?\": true}, \"ORACLE.run1_38\": {\"accuracy\": 0.8997395833333334, \"source?\": true}, \"ORACLE.run1_26\": {\"accuracy\": 0.83515625, \"source?\": true}, \"W_A_3\": {\"accuracy\": 0.3949468085106383, \"source?\": false}, \"C_A_4\": {\"accuracy\": 0.528125, \"source?\": false}, \"W_A_2\": {\"accuracy\": 0.3912760416666667, \"source?\": false}, \"C_A_2\": {\"accuracy\": 0.5359375, \"source?\": false}, \"C_A_3\": {\"accuracy\": 0.56875, \"source?\": false}, \"C_A_1\": {\"accuracy\": 0.6265625, \"source?\": false}, \"W_A_1\": {\"accuracy\": 0.375679347826087, \"source?\": false}, \"W_A_4\": {\"accuracy\": 0.3424479166666667, \"source?\": false}, \"C_A_5\": {\"accuracy\": 0.5859375, \"source?\": false}}}, \"history\": {\"epoch_indices\": [1, 2, 3, 4, 5, 6, 7], \"train_label_loss\": [0.4342086223322743, 27.232123474283426, 0.4839741448047183, 0.36772661384006605, 0.34854349035498067, 0.3156524823701364, 0.30373953998149816], \"source_val_label_loss\": [1978.1871337890625, 3.585695743560791, 0.38492798805236816, 0.3817404508590698, 0.3281651437282562, 0.30345603823661804, 0.4139910042285919], \"target_val_label_loss\": [421530.03125, 39899.0625, 20693.10546875, 44106.046875, 104492.46875, 106460.3828125, 129053.1640625], \"source_val_acc_label\": [0.5368489583333333, 0.7138346354166667, 0.8730143229166667, 0.8655924479166667, 0.886328125, 0.89541015625, 0.8517578125], \"target_val_acc_label\": [0.6296496539792388, 0.39705882352941174, 0.4427984429065744, 0.4176038062283737, 0.40808823529411764, 0.4149005190311419, 0.4286332179930796]}, \"dataset_metrics\": {\"source\": {\"train\": {\"n_unique_x\": 179200, \"n_unique_y\": 16, \"n_batch/episode\": 6720}, \"val\": {\"n_unique_x\": 38400, \"n_unique_y\": 16, \"n_batch/episode\": 960}, \"test\": {\"n_unique_x\": 38400, \"n_unique_y\": 16, \"n_batch/episode\": 960}}, \"target\": {\"train\": {\"n_unique_x\": 56700, \"n_unique_y\": 130, \"n_batch/episode\": 2081}, \"val\": {\"n_unique_x\": 12097, \"n_unique_y\": 130, \"n_batch/episode\": 289}, \"test\": {\"n_unique_x\": 12097, \"n_unique_y\": 130, \"n_batch/episode\": 289}}}}'"
      ]
     },
     "execution_count": 29,
     "metadata": {},
     "output_type": "execute_result"
    }
   ],
   "source": [
    "json.dumps(experiment)"
   ]
  }
 ],
 "metadata": {
  "celltoolbar": "Tags",
  "kernelspec": {
   "display_name": "Python 3 (ipykernel)",
   "language": "python",
   "name": "python3"
  },
  "language_info": {
   "codemirror_mode": {
    "name": "ipython",
    "version": 3
   },
   "file_extension": ".py",
   "mimetype": "text/x-python",
   "name": "python",
   "nbconvert_exporter": "python",
   "pygments_lexer": "ipython3",
   "version": "3.8.10"
  },
  "papermill": {
   "default_parameters": {},
   "duration": 1206.636794,
   "end_time": "2022-03-18T21:22:12.541430",
   "environment_variables": {},
   "exception": null,
   "input_path": "/mnt/wd500GB/CSC500/csc500-main/csc500-notebooks/templates/tl_ptn_template.ipynb",
   "output_path": "trial.ipynb",
   "parameters": {
    "parameters": {
     "BEST_MODEL_PATH": "./best_model.pth",
     "NUM_LOGS_PER_EPOCH": 10,
     "criteria_for_best": "target_loss",
     "dataset_seed": 500,
     "datasets": [
      {
       "domain_prefix": "C_A_",
       "domains": [
        1,
        2,
        3,
        4,
        5
       ],
       "episode_transforms": [],
       "labels": [
        "1-10.",
        "1-11.",
        "1-15.",
        "1-16.",
        "1-17.",
        "1-18.",
        "1-19.",
        "10-4.",
        "10-7.",
        "11-1.",
        "11-14.",
        "11-17.",
        "11-20.",
        "11-7.",
        "13-20.",
        "13-8.",
        "14-10.",
        "14-11.",
        "14-14.",
        "14-7.",
        "15-1.",
        "15-20.",
        "16-1.",
        "16-16.",
        "17-10.",
        "17-11.",
        "17-2.",
        "19-1.",
        "19-16.",
        "19-19.",
        "19-20.",
        "19-3.",
        "2-10.",
        "2-11.",
        "2-17.",
        "2-18.",
        "2-20.",
        "2-3.",
        "2-4.",
        "2-5.",
        "2-6.",
        "2-7.",
        "2-8.",
        "3-13.",
        "3-18.",
        "3-3.",
        "4-1.",
        "4-10.",
        "4-11.",
        "4-19.",
        "5-5.",
        "6-15.",
        "7-10.",
        "7-14.",
        "8-18.",
        "8-20.",
        "8-3.",
        "8-8."
       ],
       "num_examples_per_domain_per_label": 100,
       "pickle_path": "/mnt/wd500GB/CSC500/csc500-main/datasets/cores.stratified_ds.2022A.pkl",
       "source_or_target_dataset": "target",
       "x_transforms": [
        "take_200"
       ]
      },
      {
       "domain_prefix": "W_A_",
       "domains": [
        1,
        2,
        3,
        4
       ],
       "episode_transforms": [],
       "labels": [
        "1-10",
        "1-12",
        "1-14",
        "1-16",
        "1-18",
        "1-19",
        "1-8",
        "10-11",
        "10-17",
        "10-4",
        "10-7",
        "11-1",
        "11-10",
        "11-19",
        "11-20",
        "11-4",
        "11-7",
        "12-19",
        "12-20",
        "12-7",
        "13-14",
        "13-18",
        "13-19",
        "13-20",
        "13-3",
        "13-7",
        "14-10",
        "14-11",
        "14-12",
        "14-13",
        "14-14",
        "14-19",
        "14-20",
        "14-7",
        "14-8",
        "14-9",
        "15-1",
        "15-19",
        "15-6",
        "16-1",
        "16-16",
        "16-19",
        "16-20",
        "17-10",
        "17-11",
        "18-1",
        "18-10",
        "18-11",
        "18-12",
        "18-13",
        "18-14",
        "18-15",
        "18-16",
        "18-17",
        "18-19",
        "18-2",
        "18-20",
        "18-4",
        "18-5",
        "18-7",
        "18-8",
        "18-9",
        "19-1",
        "19-10",
        "19-11",
        "19-12",
        "19-13",
        "19-14",
        "19-15",
        "19-19",
        "19-2",
        "19-20",
        "19-3",
        "19-4",
        "19-6",
        "19-7",
        "19-8",
        "19-9",
        "2-1",
        "2-13",
        "2-15",
        "2-3",
        "2-4",
        "2-5",
        "2-6",
        "2-7",
        "2-8",
        "20-1",
        "20-12",
        "20-14",
        "20-15",
        "20-16",
        "20-18",
        "20-19",
        "20-20",
        "20-3",
        "20-4",
        "20-5",
        "20-7",
        "20-8",
        "3-1",
        "3-13",
        "3-18",
        "3-2",
        "3-8",
        "4-1",
        "4-10",
        "4-11",
        "5-1",
        "5-5",
        "6-1",
        "6-15",
        "6-6",
        "7-10",
        "7-11",
        "7-12",
        "7-13",
        "7-14",
        "7-7",
        "7-8",
        "7-9",
        "8-1",
        "8-13",
        "8-14",
        "8-18",
        "8-20",
        "8-3",
        "8-8",
        "9-1",
        "9-7"
       ],
       "num_examples_per_domain_per_label": 100,
       "pickle_path": "/mnt/wd500GB/CSC500/csc500-main/datasets/wisig.node3-19.stratified_ds.2022A.pkl",
       "source_or_target_dataset": "target",
       "x_transforms": [
        "take_200"
       ]
      },
      {
       "domain_prefix": "ORACLE.run1_",
       "domains": [
        32,
        38,
        8,
        44,
        14,
        50,
        20,
        26
       ],
       "episode_transforms": [],
       "labels": [
        "3123D52",
        "3123D65",
        "3123D79",
        "3123D80",
        "3123D54",
        "3123D70",
        "3123D7B",
        "3123D89",
        "3123D58",
        "3123D76",
        "3123D7D",
        "3123EFE",
        "3123D64",
        "3123D78",
        "3123D7E",
        "3124E4A"
       ],
       "num_examples_per_domain_per_label": 2000,
       "pickle_path": "/mnt/wd500GB/CSC500/csc500-main/datasets/oracle.Run1_framed_2000Examples_stratified_ds.2022A.pkl",
       "source_or_target_dataset": "source",
       "x_transforms": [
        "take_200",
        "resample_20Msps_to_25Msps"
       ]
      }
     ],
     "device": "cuda",
     "experiment_name": "tl_3A:oracle.run1.framed -> cores+wisig",
     "lr": 0.001,
     "n_epoch": 50,
     "n_query": 2,
     "n_shot": 3,
     "n_way": 16,
     "patience": 3,
     "seed": 500,
     "test_k_factor": 2,
     "torch_default_dtype": "torch.float32",
     "train_k_factor": 3,
     "val_k_factor": 2,
     "x_net": [
      {
       "class": "nnReshape",
       "kargs": {
        "shape": [
         -1,
         1,
         2,
         200
        ]
       }
      },
      {
       "class": "Conv2d",
       "kargs": {
        "bias": false,
        "in_channels": 1,
        "kernel_size": [
         1,
         7
        ],
        "out_channels": 256,
        "padding": [
         0,
         3
        ]
       }
      },
      {
       "class": "ReLU",
       "kargs": {
        "inplace": true
       }
      },
      {
       "class": "BatchNorm2d",
       "kargs": {
        "num_features": 256
       }
      },
      {
       "class": "Conv2d",
       "kargs": {
        "bias": true,
        "in_channels": 256,
        "kernel_size": [
         2,
         7
        ],
        "out_channels": 80,
        "padding": [
         0,
         3
        ]
       }
      },
      {
       "class": "ReLU",
       "kargs": {
        "inplace": true
       }
      },
      {
       "class": "BatchNorm2d",
       "kargs": {
        "num_features": 80
       }
      },
      {
       "class": "Flatten",
       "kargs": {}
      },
      {
       "class": "Linear",
       "kargs": {
        "in_features": 16000,
        "out_features": 256
       }
      },
      {
       "class": "ReLU",
       "kargs": {
        "inplace": true
       }
      },
      {
       "class": "BatchNorm1d",
       "kargs": {
        "num_features": 256
       }
      },
      {
       "class": "Linear",
       "kargs": {
        "in_features": 256,
        "out_features": 256
       }
      }
     ],
     "x_shape": [
      2,
      200
     ]
    }
   },
   "start_time": "2022-03-18T21:02:05.904636",
   "version": "2.3.4"
  }
 },
 "nbformat": 4,
 "nbformat_minor": 5
}