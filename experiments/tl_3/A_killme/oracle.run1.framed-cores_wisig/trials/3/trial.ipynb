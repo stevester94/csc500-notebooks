{
 "cells": [
  {
   "cell_type": "markdown",
   "id": "9fea5f46",
   "metadata": {
    "papermill": {
     "duration": 0.017183,
     "end_time": "2022-03-18T16:28:04.759889",
     "exception": false,
     "start_time": "2022-03-18T16:28:04.742706",
     "status": "completed"
    },
    "tags": []
   },
   "source": [
    "# Transfer Learning Template"
   ]
  },
  {
   "cell_type": "code",
   "execution_count": 1,
   "id": "0902182a",
   "metadata": {
    "execution": {
     "iopub.execute_input": "2022-03-18T16:28:04.799956Z",
     "iopub.status.busy": "2022-03-18T16:28:04.799408Z",
     "iopub.status.idle": "2022-03-18T16:28:05.716800Z",
     "shell.execute_reply": "2022-03-18T16:28:05.716510Z"
    },
    "papermill": {
     "duration": 0.944304,
     "end_time": "2022-03-18T16:28:05.716868",
     "exception": false,
     "start_time": "2022-03-18T16:28:04.772564",
     "status": "completed"
    },
    "tags": []
   },
   "outputs": [],
   "source": [
    "%load_ext autoreload\n",
    "%autoreload 2\n",
    "%matplotlib inline\n",
    "\n",
    "    \n",
    "import os, json, sys, time, random\n",
    "import numpy as np\n",
    "import torch\n",
    "from torch.optim import Adam\n",
    "from  easydict import EasyDict\n",
    "import matplotlib.pyplot as plt\n",
    "\n",
    "from steves_models.steves_ptn import Steves_Prototypical_Network\n",
    "\n",
    "from steves_utils.lazy_iterable_wrapper import Lazy_Iterable_Wrapper\n",
    "from steves_utils.iterable_aggregator import Iterable_Aggregator\n",
    "from steves_utils.ptn_train_eval_test_jig import  PTN_Train_Eval_Test_Jig\n",
    "from steves_utils.torch_sequential_builder import build_sequential\n",
    "from steves_utils.torch_utils import get_dataset_metrics, ptn_confusion_by_domain_over_dataloader\n",
    "from steves_utils.utils_v2 import (per_domain_accuracy_from_confusion, get_datasets_base_path)\n",
    "from steves_utils.PTN.utils import independent_accuracy_assesment\n",
    "\n",
    "from torch.utils.data import DataLoader\n",
    "\n",
    "from steves_utils.stratified_dataset.episodic_accessor import Episodic_Accessor_Factory\n",
    "\n",
    "from steves_utils.ptn_do_report import (\n",
    "    get_loss_curve,\n",
    "    get_results_table,\n",
    "    get_parameters_table,\n",
    "    get_domain_accuracies,\n",
    ")\n",
    "\n",
    "from steves_utils.transforms import get_chained_transform"
   ]
  },
  {
   "cell_type": "markdown",
   "id": "41c840b4",
   "metadata": {
    "papermill": {
     "duration": 0.012838,
     "end_time": "2022-03-18T16:28:05.743156",
     "exception": false,
     "start_time": "2022-03-18T16:28:05.730318",
     "status": "completed"
    },
    "tags": []
   },
   "source": [
    "# Allowed Parameters\n",
    "These are allowed parameters, not defaults\n",
    "Each of these values need to be present in the injected parameters (the notebook will raise an exception if they are not present)\n",
    "\n",
    "Papermill uses the cell tag \"parameters\" to inject the real parameters below this cell.\n",
    "Enable tags to see what I mean"
   ]
  },
  {
   "cell_type": "code",
   "execution_count": 2,
   "id": "fd44eb83",
   "metadata": {
    "execution": {
     "iopub.execute_input": "2022-03-18T16:28:05.771266Z",
     "iopub.status.busy": "2022-03-18T16:28:05.770985Z",
     "iopub.status.idle": "2022-03-18T16:28:05.782762Z",
     "shell.execute_reply": "2022-03-18T16:28:05.782331Z"
    },
    "papermill": {
     "duration": 0.02673,
     "end_time": "2022-03-18T16:28:05.782865",
     "exception": false,
     "start_time": "2022-03-18T16:28:05.756135",
     "status": "completed"
    },
    "tags": []
   },
   "outputs": [],
   "source": [
    "required_parameters = {\n",
    "    \"experiment_name\",\n",
    "    \"lr\",\n",
    "    \"device\",\n",
    "    \"seed\",\n",
    "    \"dataset_seed\",\n",
    "    \"n_shot\",\n",
    "    \"n_query\",\n",
    "    \"n_way\",\n",
    "    \"train_k_factor\",\n",
    "    \"val_k_factor\",\n",
    "    \"test_k_factor\",\n",
    "    \"n_epoch\",\n",
    "    \"patience\",\n",
    "    \"criteria_for_best\",\n",
    "    \"x_net\",\n",
    "    \"datasets\",\n",
    "    \"torch_default_dtype\",\n",
    "    \"NUM_LOGS_PER_EPOCH\",\n",
    "    \"BEST_MODEL_PATH\",\n",
    "    \"x_shape\",\n",
    "}"
   ]
  },
  {
   "cell_type": "code",
   "execution_count": 3,
   "id": "fa3f0049",
   "metadata": {
    "execution": {
     "iopub.execute_input": "2022-03-18T16:28:05.817186Z",
     "iopub.status.busy": "2022-03-18T16:28:05.816902Z",
     "iopub.status.idle": "2022-03-18T16:28:05.830144Z",
     "shell.execute_reply": "2022-03-18T16:28:05.829652Z"
    },
    "papermill": {
     "duration": 0.032138,
     "end_time": "2022-03-18T16:28:05.830249",
     "exception": false,
     "start_time": "2022-03-18T16:28:05.798111",
     "status": "completed"
    },
    "tags": [
     "parameters"
    ]
   },
   "outputs": [],
   "source": [
    "from steves_utils.CORES.utils import (\n",
    "    ALL_NODES,\n",
    "    ALL_NODES_MINIMUM_1000_EXAMPLES,\n",
    "    ALL_DAYS\n",
    ")\n",
    "\n",
    "from steves_utils.ORACLE.utils_v2 import (\n",
    "    ALL_DISTANCES_FEET_NARROWED,\n",
    "    ALL_RUNS,\n",
    "    ALL_SERIAL_NUMBERS,\n",
    ")\n",
    "\n",
    "standalone_parameters = {}\n",
    "standalone_parameters[\"experiment_name\"] = \"STANDALONE PTN\"\n",
    "standalone_parameters[\"lr\"] = 0.001\n",
    "standalone_parameters[\"device\"] = \"cuda\"\n",
    "\n",
    "standalone_parameters[\"seed\"] = 1337\n",
    "standalone_parameters[\"dataset_seed\"] = 1337\n",
    "\n",
    "standalone_parameters[\"n_way\"] = 8\n",
    "standalone_parameters[\"n_shot\"] = 3\n",
    "standalone_parameters[\"n_query\"]  = 2\n",
    "standalone_parameters[\"train_k_factor\"] = 1\n",
    "standalone_parameters[\"val_k_factor\"] = 2\n",
    "standalone_parameters[\"test_k_factor\"] = 2\n",
    "\n",
    "\n",
    "standalone_parameters[\"n_epoch\"] = 50\n",
    "\n",
    "standalone_parameters[\"patience\"] = 10\n",
    "standalone_parameters[\"criteria_for_best\"] = \"source_loss\"\n",
    "\n",
    "standalone_parameters[\"datasets\"] = [\n",
    "    {\n",
    "        \"labels\": ALL_SERIAL_NUMBERS,\n",
    "        \"domains\": ALL_DISTANCES_FEET_NARROWED,\n",
    "        \"num_examples_per_domain_per_label\": 100,\n",
    "        \"pickle_path\": os.path.join(get_datasets_base_path(), \"oracle.Run1_framed_2000Examples_stratified_ds.2022A.pkl\"),\n",
    "        \"source_or_target_dataset\": \"source\",\n",
    "        \"x_transforms\": [\"unit_mag\", \"minus_two\"],\n",
    "        \"episode_transforms\": [],\n",
    "        \"domain_prefix\": \"ORACLE_\"\n",
    "    },\n",
    "    {\n",
    "        \"labels\": ALL_NODES,\n",
    "        \"domains\": ALL_DAYS,\n",
    "        \"num_examples_per_domain_per_label\": 100,\n",
    "        \"pickle_path\": os.path.join(get_datasets_base_path(), \"cores.stratified_ds.2022A.pkl\"),\n",
    "        \"source_or_target_dataset\": \"target\",\n",
    "        \"x_transforms\": [\"unit_power\", \"times_zero\"],\n",
    "        \"episode_transforms\": [],\n",
    "        \"domain_prefix\": \"CORES_\"\n",
    "    }   \n",
    "]\n",
    "\n",
    "standalone_parameters[\"torch_default_dtype\"] = \"torch.float32\" \n",
    "\n",
    "\n",
    "\n",
    "standalone_parameters[\"x_net\"] =     [\n",
    "    {\"class\": \"nnReshape\", \"kargs\": {\"shape\":[-1, 1, 2, 256]}},\n",
    "    {\"class\": \"Conv2d\", \"kargs\": { \"in_channels\":1, \"out_channels\":256, \"kernel_size\":(1,7), \"bias\":False, \"padding\":(0,3), },},\n",
    "    {\"class\": \"ReLU\", \"kargs\": {\"inplace\": True}},\n",
    "    {\"class\": \"BatchNorm2d\", \"kargs\": {\"num_features\":256}},\n",
    "\n",
    "    {\"class\": \"Conv2d\", \"kargs\": { \"in_channels\":256, \"out_channels\":80, \"kernel_size\":(2,7), \"bias\":True, \"padding\":(0,3), },},\n",
    "    {\"class\": \"ReLU\", \"kargs\": {\"inplace\": True}},\n",
    "    {\"class\": \"BatchNorm2d\", \"kargs\": {\"num_features\":80}},\n",
    "    {\"class\": \"Flatten\", \"kargs\": {}},\n",
    "\n",
    "    {\"class\": \"Linear\", \"kargs\": {\"in_features\": 80*256, \"out_features\": 256}}, # 80 units per IQ pair\n",
    "    {\"class\": \"ReLU\", \"kargs\": {\"inplace\": True}},\n",
    "    {\"class\": \"BatchNorm1d\", \"kargs\": {\"num_features\":256}},\n",
    "\n",
    "    {\"class\": \"Linear\", \"kargs\": {\"in_features\": 256, \"out_features\": 256}},\n",
    "]\n",
    "\n",
    "# Parameters relevant to results\n",
    "# These parameters will basically never need to change\n",
    "standalone_parameters[\"NUM_LOGS_PER_EPOCH\"] = 10\n",
    "standalone_parameters[\"BEST_MODEL_PATH\"] = \"./best_model.pth\"\n",
    "\n",
    "\n",
    "\n",
    "\n"
   ]
  },
  {
   "cell_type": "code",
   "execution_count": 4,
   "id": "39c3ca65",
   "metadata": {
    "execution": {
     "iopub.execute_input": "2022-03-18T16:28:05.869516Z",
     "iopub.status.busy": "2022-03-18T16:28:05.869044Z",
     "iopub.status.idle": "2022-03-18T16:28:05.882550Z",
     "shell.execute_reply": "2022-03-18T16:28:05.882852Z"
    },
    "papermill": {
     "duration": 0.035985,
     "end_time": "2022-03-18T16:28:05.882950",
     "exception": false,
     "start_time": "2022-03-18T16:28:05.846965",
     "status": "completed"
    },
    "tags": [
     "injected-parameters"
    ]
   },
   "outputs": [],
   "source": [
    "# Parameters\n",
    "parameters = {\n",
    "    \"experiment_name\": \"tl_3A:oracle.run1.framed -> cores+wisig\",\n",
    "    \"device\": \"cuda\",\n",
    "    \"lr\": 0.001,\n",
    "    \"seed\": 420,\n",
    "    \"dataset_seed\": 420,\n",
    "    \"x_shape\": [2, 200],\n",
    "    \"n_shot\": 3,\n",
    "    \"n_query\": 2,\n",
    "    \"train_k_factor\": 3,\n",
    "    \"val_k_factor\": 2,\n",
    "    \"test_k_factor\": 2,\n",
    "    \"torch_default_dtype\": \"torch.float32\",\n",
    "    \"n_epoch\": 50,\n",
    "    \"patience\": 3,\n",
    "    \"criteria_for_best\": \"target_loss\",\n",
    "    \"x_net\": [\n",
    "        {\"class\": \"nnReshape\", \"kargs\": {\"shape\": [-1, 1, 2, 200]}},\n",
    "        {\n",
    "            \"class\": \"Conv2d\",\n",
    "            \"kargs\": {\n",
    "                \"in_channels\": 1,\n",
    "                \"out_channels\": 256,\n",
    "                \"kernel_size\": [1, 7],\n",
    "                \"bias\": False,\n",
    "                \"padding\": [0, 3],\n",
    "            },\n",
    "        },\n",
    "        {\"class\": \"ReLU\", \"kargs\": {\"inplace\": True}},\n",
    "        {\"class\": \"BatchNorm2d\", \"kargs\": {\"num_features\": 256}},\n",
    "        {\n",
    "            \"class\": \"Conv2d\",\n",
    "            \"kargs\": {\n",
    "                \"in_channels\": 256,\n",
    "                \"out_channels\": 80,\n",
    "                \"kernel_size\": [2, 7],\n",
    "                \"bias\": True,\n",
    "                \"padding\": [0, 3],\n",
    "            },\n",
    "        },\n",
    "        {\"class\": \"ReLU\", \"kargs\": {\"inplace\": True}},\n",
    "        {\"class\": \"BatchNorm2d\", \"kargs\": {\"num_features\": 80}},\n",
    "        {\"class\": \"Flatten\", \"kargs\": {}},\n",
    "        {\"class\": \"Linear\", \"kargs\": {\"in_features\": 16000, \"out_features\": 256}},\n",
    "        {\"class\": \"ReLU\", \"kargs\": {\"inplace\": True}},\n",
    "        {\"class\": \"BatchNorm1d\", \"kargs\": {\"num_features\": 256}},\n",
    "        {\"class\": \"Linear\", \"kargs\": {\"in_features\": 256, \"out_features\": 256}},\n",
    "    ],\n",
    "    \"NUM_LOGS_PER_EPOCH\": 10,\n",
    "    \"BEST_MODEL_PATH\": \"./best_model.pth\",\n",
    "    \"n_way\": 16,\n",
    "    \"datasets\": [\n",
    "        {\n",
    "            \"labels\": [\n",
    "                \"1-10.\",\n",
    "                \"1-11.\",\n",
    "                \"1-15.\",\n",
    "                \"1-16.\",\n",
    "                \"1-17.\",\n",
    "                \"1-18.\",\n",
    "                \"1-19.\",\n",
    "                \"10-4.\",\n",
    "                \"10-7.\",\n",
    "                \"11-1.\",\n",
    "                \"11-14.\",\n",
    "                \"11-17.\",\n",
    "                \"11-20.\",\n",
    "                \"11-7.\",\n",
    "                \"13-20.\",\n",
    "                \"13-8.\",\n",
    "                \"14-10.\",\n",
    "                \"14-11.\",\n",
    "                \"14-14.\",\n",
    "                \"14-7.\",\n",
    "                \"15-1.\",\n",
    "                \"15-20.\",\n",
    "                \"16-1.\",\n",
    "                \"16-16.\",\n",
    "                \"17-10.\",\n",
    "                \"17-11.\",\n",
    "                \"17-2.\",\n",
    "                \"19-1.\",\n",
    "                \"19-16.\",\n",
    "                \"19-19.\",\n",
    "                \"19-20.\",\n",
    "                \"19-3.\",\n",
    "                \"2-10.\",\n",
    "                \"2-11.\",\n",
    "                \"2-17.\",\n",
    "                \"2-18.\",\n",
    "                \"2-20.\",\n",
    "                \"2-3.\",\n",
    "                \"2-4.\",\n",
    "                \"2-5.\",\n",
    "                \"2-6.\",\n",
    "                \"2-7.\",\n",
    "                \"2-8.\",\n",
    "                \"3-13.\",\n",
    "                \"3-18.\",\n",
    "                \"3-3.\",\n",
    "                \"4-1.\",\n",
    "                \"4-10.\",\n",
    "                \"4-11.\",\n",
    "                \"4-19.\",\n",
    "                \"5-5.\",\n",
    "                \"6-15.\",\n",
    "                \"7-10.\",\n",
    "                \"7-14.\",\n",
    "                \"8-18.\",\n",
    "                \"8-20.\",\n",
    "                \"8-3.\",\n",
    "                \"8-8.\",\n",
    "            ],\n",
    "            \"domains\": [1, 2, 3, 4, 5],\n",
    "            \"num_examples_per_domain_per_label\": 100,\n",
    "            \"pickle_path\": \"/mnt/wd500GB/CSC500/csc500-main/datasets/cores.stratified_ds.2022A.pkl\",\n",
    "            \"source_or_target_dataset\": \"target\",\n",
    "            \"x_transforms\": [\"unit_power\", \"take_200\"],\n",
    "            \"episode_transforms\": [],\n",
    "            \"domain_prefix\": \"C_A_\",\n",
    "        },\n",
    "        {\n",
    "            \"labels\": [\n",
    "                \"1-10\",\n",
    "                \"1-12\",\n",
    "                \"1-14\",\n",
    "                \"1-16\",\n",
    "                \"1-18\",\n",
    "                \"1-19\",\n",
    "                \"1-8\",\n",
    "                \"10-11\",\n",
    "                \"10-17\",\n",
    "                \"10-4\",\n",
    "                \"10-7\",\n",
    "                \"11-1\",\n",
    "                \"11-10\",\n",
    "                \"11-19\",\n",
    "                \"11-20\",\n",
    "                \"11-4\",\n",
    "                \"11-7\",\n",
    "                \"12-19\",\n",
    "                \"12-20\",\n",
    "                \"12-7\",\n",
    "                \"13-14\",\n",
    "                \"13-18\",\n",
    "                \"13-19\",\n",
    "                \"13-20\",\n",
    "                \"13-3\",\n",
    "                \"13-7\",\n",
    "                \"14-10\",\n",
    "                \"14-11\",\n",
    "                \"14-12\",\n",
    "                \"14-13\",\n",
    "                \"14-14\",\n",
    "                \"14-19\",\n",
    "                \"14-20\",\n",
    "                \"14-7\",\n",
    "                \"14-8\",\n",
    "                \"14-9\",\n",
    "                \"15-1\",\n",
    "                \"15-19\",\n",
    "                \"15-6\",\n",
    "                \"16-1\",\n",
    "                \"16-16\",\n",
    "                \"16-19\",\n",
    "                \"16-20\",\n",
    "                \"17-10\",\n",
    "                \"17-11\",\n",
    "                \"18-1\",\n",
    "                \"18-10\",\n",
    "                \"18-11\",\n",
    "                \"18-12\",\n",
    "                \"18-13\",\n",
    "                \"18-14\",\n",
    "                \"18-15\",\n",
    "                \"18-16\",\n",
    "                \"18-17\",\n",
    "                \"18-19\",\n",
    "                \"18-2\",\n",
    "                \"18-20\",\n",
    "                \"18-4\",\n",
    "                \"18-5\",\n",
    "                \"18-7\",\n",
    "                \"18-8\",\n",
    "                \"18-9\",\n",
    "                \"19-1\",\n",
    "                \"19-10\",\n",
    "                \"19-11\",\n",
    "                \"19-12\",\n",
    "                \"19-13\",\n",
    "                \"19-14\",\n",
    "                \"19-15\",\n",
    "                \"19-19\",\n",
    "                \"19-2\",\n",
    "                \"19-20\",\n",
    "                \"19-3\",\n",
    "                \"19-4\",\n",
    "                \"19-6\",\n",
    "                \"19-7\",\n",
    "                \"19-8\",\n",
    "                \"19-9\",\n",
    "                \"2-1\",\n",
    "                \"2-13\",\n",
    "                \"2-15\",\n",
    "                \"2-3\",\n",
    "                \"2-4\",\n",
    "                \"2-5\",\n",
    "                \"2-6\",\n",
    "                \"2-7\",\n",
    "                \"2-8\",\n",
    "                \"20-1\",\n",
    "                \"20-12\",\n",
    "                \"20-14\",\n",
    "                \"20-15\",\n",
    "                \"20-16\",\n",
    "                \"20-18\",\n",
    "                \"20-19\",\n",
    "                \"20-20\",\n",
    "                \"20-3\",\n",
    "                \"20-4\",\n",
    "                \"20-5\",\n",
    "                \"20-7\",\n",
    "                \"20-8\",\n",
    "                \"3-1\",\n",
    "                \"3-13\",\n",
    "                \"3-18\",\n",
    "                \"3-2\",\n",
    "                \"3-8\",\n",
    "                \"4-1\",\n",
    "                \"4-10\",\n",
    "                \"4-11\",\n",
    "                \"5-1\",\n",
    "                \"5-5\",\n",
    "                \"6-1\",\n",
    "                \"6-15\",\n",
    "                \"6-6\",\n",
    "                \"7-10\",\n",
    "                \"7-11\",\n",
    "                \"7-12\",\n",
    "                \"7-13\",\n",
    "                \"7-14\",\n",
    "                \"7-7\",\n",
    "                \"7-8\",\n",
    "                \"7-9\",\n",
    "                \"8-1\",\n",
    "                \"8-13\",\n",
    "                \"8-14\",\n",
    "                \"8-18\",\n",
    "                \"8-20\",\n",
    "                \"8-3\",\n",
    "                \"8-8\",\n",
    "                \"9-1\",\n",
    "                \"9-7\",\n",
    "            ],\n",
    "            \"domains\": [1, 2, 3, 4],\n",
    "            \"num_examples_per_domain_per_label\": 100,\n",
    "            \"pickle_path\": \"/mnt/wd500GB/CSC500/csc500-main/datasets/wisig.node3-19.stratified_ds.2022A.pkl\",\n",
    "            \"source_or_target_dataset\": \"target\",\n",
    "            \"x_transforms\": [\"unit_power\", \"take_200\"],\n",
    "            \"episode_transforms\": [],\n",
    "            \"domain_prefix\": \"W_A_\",\n",
    "        },\n",
    "        {\n",
    "            \"labels\": [\n",
    "                \"3123D52\",\n",
    "                \"3123D65\",\n",
    "                \"3123D79\",\n",
    "                \"3123D80\",\n",
    "                \"3123D54\",\n",
    "                \"3123D70\",\n",
    "                \"3123D7B\",\n",
    "                \"3123D89\",\n",
    "                \"3123D58\",\n",
    "                \"3123D76\",\n",
    "                \"3123D7D\",\n",
    "                \"3123EFE\",\n",
    "                \"3123D64\",\n",
    "                \"3123D78\",\n",
    "                \"3123D7E\",\n",
    "                \"3124E4A\",\n",
    "            ],\n",
    "            \"domains\": [32, 38, 8, 44, 14, 50, 20, 26],\n",
    "            \"num_examples_per_domain_per_label\": 2000,\n",
    "            \"pickle_path\": \"/mnt/wd500GB/CSC500/csc500-main/datasets/oracle.Run1_framed_2000Examples_stratified_ds.2022A.pkl\",\n",
    "            \"source_or_target_dataset\": \"source\",\n",
    "            \"x_transforms\": [\"unit_power\", \"take_200\", \"resample_20Msps_to_25Msps\"],\n",
    "            \"episode_transforms\": [],\n",
    "            \"domain_prefix\": \"ORACLE.run1_\",\n",
    "        },\n",
    "    ],\n",
    "}\n"
   ]
  },
  {
   "cell_type": "code",
   "execution_count": 5,
   "id": "8fa1cc33",
   "metadata": {
    "execution": {
     "iopub.execute_input": "2022-03-18T16:28:05.916974Z",
     "iopub.status.busy": "2022-03-18T16:28:05.916717Z",
     "iopub.status.idle": "2022-03-18T16:28:05.927837Z",
     "shell.execute_reply": "2022-03-18T16:28:05.927587Z"
    },
    "papermill": {
     "duration": 0.027152,
     "end_time": "2022-03-18T16:28:05.927892",
     "exception": false,
     "start_time": "2022-03-18T16:28:05.900740",
     "status": "completed"
    },
    "tags": []
   },
   "outputs": [],
   "source": [
    "# Set this to True if you want to run this template directly\n",
    "STANDALONE = False\n",
    "if STANDALONE:\n",
    "    print(\"parameters not injected, running with standalone_parameters\")\n",
    "    parameters = standalone_parameters\n",
    "\n",
    "if not 'parameters' in locals() and not 'parameters' in globals():\n",
    "    raise Exception(\"Parameter injection failed\")\n",
    "\n",
    "#Use an easy dict for all the parameters\n",
    "p = EasyDict(parameters)\n",
    "\n",
    "if \"x_shape\" not in p:\n",
    "    p.x_shape = [2,256] # Default to this if we dont supply x_shape\n",
    "\n",
    "\n",
    "supplied_keys = set(p.keys())\n",
    "\n",
    "if  supplied_keys != required_parameters:\n",
    "    print(\"Parameters are incorrect\")\n",
    "    if len(supplied_keys - required_parameters)>0: print(\"Shouldn't have:\", str(supplied_keys - required_parameters))\n",
    "    if len(required_parameters - supplied_keys)>0: print(\"Need to have:\", str(required_parameters - supplied_keys))\n",
    "    raise RuntimeError(\"Parameters are incorrect\")"
   ]
  },
  {
   "cell_type": "code",
   "execution_count": 6,
   "id": "3a028d58",
   "metadata": {
    "execution": {
     "iopub.execute_input": "2022-03-18T16:28:05.960595Z",
     "iopub.status.busy": "2022-03-18T16:28:05.960343Z",
     "iopub.status.idle": "2022-03-18T16:28:05.972113Z",
     "shell.execute_reply": "2022-03-18T16:28:05.971889Z"
    },
    "papermill": {
     "duration": 0.026766,
     "end_time": "2022-03-18T16:28:05.972177",
     "exception": false,
     "start_time": "2022-03-18T16:28:05.945411",
     "status": "completed"
    },
    "tags": []
   },
   "outputs": [],
   "source": [
    "###################################\n",
    "# Set the RNGs and make it all deterministic\n",
    "###################################\n",
    "np.random.seed(p.seed)\n",
    "random.seed(p.seed)\n",
    "torch.manual_seed(p.seed)\n",
    "\n",
    "torch.use_deterministic_algorithms(True) "
   ]
  },
  {
   "cell_type": "code",
   "execution_count": 7,
   "id": "b691acf6",
   "metadata": {
    "execution": {
     "iopub.execute_input": "2022-03-18T16:28:06.005377Z",
     "iopub.status.busy": "2022-03-18T16:28:06.005113Z",
     "iopub.status.idle": "2022-03-18T16:28:06.020331Z",
     "shell.execute_reply": "2022-03-18T16:28:06.019970Z"
    },
    "papermill": {
     "duration": 0.03037,
     "end_time": "2022-03-18T16:28:06.020408",
     "exception": false,
     "start_time": "2022-03-18T16:28:05.990038",
     "status": "completed"
    },
    "tags": []
   },
   "outputs": [],
   "source": [
    "###########################################\n",
    "# The stratified datasets honor this\n",
    "###########################################\n",
    "torch.set_default_dtype(eval(p.torch_default_dtype))"
   ]
  },
  {
   "cell_type": "code",
   "execution_count": 8,
   "id": "b5fba671",
   "metadata": {
    "execution": {
     "iopub.execute_input": "2022-03-18T16:28:06.052767Z",
     "iopub.status.busy": "2022-03-18T16:28:06.052516Z",
     "iopub.status.idle": "2022-03-18T16:28:06.088123Z",
     "shell.execute_reply": "2022-03-18T16:28:06.087781Z"
    },
    "papermill": {
     "duration": 0.050791,
     "end_time": "2022-03-18T16:28:06.088209",
     "exception": false,
     "start_time": "2022-03-18T16:28:06.037418",
     "status": "completed"
    },
    "tags": []
   },
   "outputs": [],
   "source": [
    "###################################\n",
    "# Build the network(s)\n",
    "# Note: It's critical to do this AFTER setting the RNG\n",
    "###################################\n",
    "x_net = build_sequential(p.x_net)"
   ]
  },
  {
   "cell_type": "code",
   "execution_count": 9,
   "id": "5d7e61cc",
   "metadata": {
    "execution": {
     "iopub.execute_input": "2022-03-18T16:28:06.122062Z",
     "iopub.status.busy": "2022-03-18T16:28:06.121813Z",
     "iopub.status.idle": "2022-03-18T16:28:06.138047Z",
     "shell.execute_reply": "2022-03-18T16:28:06.137674Z"
    },
    "papermill": {
     "duration": 0.0319,
     "end_time": "2022-03-18T16:28:06.138127",
     "exception": false,
     "start_time": "2022-03-18T16:28:06.106227",
     "status": "completed"
    },
    "tags": []
   },
   "outputs": [],
   "source": [
    "start_time_secs = time.time()"
   ]
  },
  {
   "cell_type": "code",
   "execution_count": 10,
   "id": "c6b67dfd",
   "metadata": {
    "execution": {
     "iopub.execute_input": "2022-03-18T16:28:06.171660Z",
     "iopub.status.busy": "2022-03-18T16:28:06.171403Z",
     "iopub.status.idle": "2022-03-18T16:28:06.186560Z",
     "shell.execute_reply": "2022-03-18T16:28:06.186196Z"
    },
    "papermill": {
     "duration": 0.031307,
     "end_time": "2022-03-18T16:28:06.186638",
     "exception": false,
     "start_time": "2022-03-18T16:28:06.155331",
     "status": "completed"
    },
    "tags": []
   },
   "outputs": [],
   "source": [
    "p.domains_source = []\n",
    "p.domains_target = []\n",
    "\n",
    "\n",
    "train_original_source = []\n",
    "val_original_source   = []\n",
    "test_original_source  = []\n",
    "\n",
    "train_original_target = []\n",
    "val_original_target   = []\n",
    "test_original_target  = []"
   ]
  },
  {
   "cell_type": "code",
   "execution_count": 11,
   "id": "e3d9c3d3",
   "metadata": {
    "execution": {
     "iopub.execute_input": "2022-03-18T16:28:06.218951Z",
     "iopub.status.busy": "2022-03-18T16:28:06.218701Z",
     "iopub.status.idle": "2022-03-18T16:28:06.233815Z",
     "shell.execute_reply": "2022-03-18T16:28:06.233499Z"
    },
    "papermill": {
     "duration": 0.030474,
     "end_time": "2022-03-18T16:28:06.233893",
     "exception": false,
     "start_time": "2022-03-18T16:28:06.203419",
     "status": "completed"
    },
    "tags": []
   },
   "outputs": [],
   "source": [
    "# global_x_transform_func = lambda x: normalize(x.to(torch.get_default_dtype()), \"unit_power\") # unit_power, unit_mag\n",
    "# global_x_transform_func = lambda x: normalize(x, \"unit_power\") # unit_power, unit_mag"
   ]
  },
  {
   "cell_type": "code",
   "execution_count": 12,
   "id": "acb78fd2",
   "metadata": {
    "execution": {
     "iopub.execute_input": "2022-03-18T16:28:06.272060Z",
     "iopub.status.busy": "2022-03-18T16:28:06.265951Z",
     "iopub.status.idle": "2022-03-18T16:28:06.285915Z",
     "shell.execute_reply": "2022-03-18T16:28:06.285589Z"
    },
    "papermill": {
     "duration": 0.034982,
     "end_time": "2022-03-18T16:28:06.285993",
     "exception": false,
     "start_time": "2022-03-18T16:28:06.251011",
     "status": "completed"
    },
    "tags": []
   },
   "outputs": [],
   "source": [
    "def add_dataset(\n",
    "    labels,\n",
    "    domains,\n",
    "    pickle_path,\n",
    "    x_transforms,\n",
    "    episode_transforms,\n",
    "    domain_prefix,\n",
    "    num_examples_per_domain_per_label,\n",
    "    source_or_target_dataset:str,\n",
    "    iterator_seed=p.seed,\n",
    "    dataset_seed=p.dataset_seed,\n",
    "    n_shot=p.n_shot,\n",
    "    n_way=p.n_way,\n",
    "    n_query=p.n_query,\n",
    "    train_val_test_k_factors=(p.train_k_factor,p.val_k_factor,p.test_k_factor),\n",
    "):\n",
    "   \n",
    "    if x_transforms == []: x_transform = None\n",
    "    else: x_transform = get_chained_transform(x_transforms)\n",
    "    \n",
    "    if episode_transforms == []: episode_transform = None\n",
    "    else: raise Exception(\"episode_transforms not implemented\")\n",
    "    \n",
    "    episode_transform = lambda tup, _prefix=domain_prefix: (_prefix + str(tup[0]), tup[1])\n",
    "\n",
    "\n",
    "    eaf = Episodic_Accessor_Factory(\n",
    "        labels=labels,\n",
    "        domains=domains,\n",
    "        num_examples_per_domain_per_label=num_examples_per_domain_per_label,\n",
    "        iterator_seed=iterator_seed,\n",
    "        dataset_seed=dataset_seed,\n",
    "        n_shot=n_shot,\n",
    "        n_way=n_way,\n",
    "        n_query=n_query,\n",
    "        train_val_test_k_factors=train_val_test_k_factors,\n",
    "        pickle_path=pickle_path,\n",
    "        x_transform_func=x_transform,\n",
    "    )\n",
    "\n",
    "    train, val, test = eaf.get_train(), eaf.get_val(), eaf.get_test()\n",
    "    train = Lazy_Iterable_Wrapper(train, episode_transform)\n",
    "    val = Lazy_Iterable_Wrapper(val, episode_transform)\n",
    "    test = Lazy_Iterable_Wrapper(test, episode_transform)\n",
    "\n",
    "    if source_or_target_dataset==\"source\":\n",
    "        train_original_source.append(train)\n",
    "        val_original_source.append(val)\n",
    "        test_original_source.append(test)\n",
    "\n",
    "        p.domains_source.extend(\n",
    "            [domain_prefix + str(u) for u in domains]\n",
    "        )\n",
    "    elif source_or_target_dataset==\"target\":\n",
    "        train_original_target.append(train)\n",
    "        val_original_target.append(val)\n",
    "        test_original_target.append(test)\n",
    "        p.domains_target.extend(\n",
    "            [domain_prefix + str(u) for u in domains]\n",
    "        )\n",
    "    else:\n",
    "        raise Exception(f\"invalid source_or_target_dataset: {source_or_target_dataset}\")\n",
    "    "
   ]
  },
  {
   "cell_type": "code",
   "execution_count": 13,
   "id": "fe266617",
   "metadata": {
    "execution": {
     "iopub.execute_input": "2022-03-18T16:28:06.317886Z",
     "iopub.status.busy": "2022-03-18T16:28:06.317635Z",
     "iopub.status.idle": "2022-03-18T16:28:43.892626Z",
     "shell.execute_reply": "2022-03-18T16:28:43.892112Z"
    },
    "papermill": {
     "duration": 37.591106,
     "end_time": "2022-03-18T16:28:43.892732",
     "exception": false,
     "start_time": "2022-03-18T16:28:06.301626",
     "status": "completed"
    },
    "tags": []
   },
   "outputs": [],
   "source": [
    "for ds in p.datasets:\n",
    "    add_dataset(**ds)"
   ]
  },
  {
   "cell_type": "code",
   "execution_count": 14,
   "id": "b90d65ac",
   "metadata": {
    "execution": {
     "iopub.execute_input": "2022-03-18T16:28:43.935380Z",
     "iopub.status.busy": "2022-03-18T16:28:43.929831Z",
     "iopub.status.idle": "2022-03-18T16:28:43.946049Z",
     "shell.execute_reply": "2022-03-18T16:28:43.945632Z"
    },
    "papermill": {
     "duration": 0.032568,
     "end_time": "2022-03-18T16:28:43.946149",
     "exception": false,
     "start_time": "2022-03-18T16:28:43.913581",
     "status": "completed"
    },
    "tags": []
   },
   "outputs": [],
   "source": [
    "# from steves_utils.CORES.utils import (\n",
    "#     ALL_NODES,\n",
    "#     ALL_NODES_MINIMUM_1000_EXAMPLES,\n",
    "#     ALL_DAYS\n",
    "# )\n",
    "\n",
    "# add_dataset(\n",
    "#     labels=ALL_NODES,\n",
    "#     domains = ALL_DAYS,\n",
    "#     num_examples_per_domain_per_label=100,\n",
    "#     pickle_path=os.path.join(get_datasets_base_path(), \"cores.stratified_ds.2022A.pkl\"),\n",
    "#     source_or_target_dataset=\"target\",\n",
    "#     x_transform_func=global_x_transform_func,\n",
    "#     domain_modifier=lambda u: f\"cores_{u}\"\n",
    "# )"
   ]
  },
  {
   "cell_type": "code",
   "execution_count": 15,
   "id": "76db484d",
   "metadata": {
    "execution": {
     "iopub.execute_input": "2022-03-18T16:28:43.979906Z",
     "iopub.status.busy": "2022-03-18T16:28:43.979648Z",
     "iopub.status.idle": "2022-03-18T16:28:43.990997Z",
     "shell.execute_reply": "2022-03-18T16:28:43.990519Z"
    },
    "papermill": {
     "duration": 0.026721,
     "end_time": "2022-03-18T16:28:43.991097",
     "exception": false,
     "start_time": "2022-03-18T16:28:43.964376",
     "status": "completed"
    },
    "tags": []
   },
   "outputs": [],
   "source": [
    "# from steves_utils.ORACLE.utils_v2 import (\n",
    "#     ALL_DISTANCES_FEET,\n",
    "#     ALL_RUNS,\n",
    "#     ALL_SERIAL_NUMBERS,\n",
    "# )\n",
    "\n",
    "\n",
    "# add_dataset(\n",
    "#     labels=ALL_SERIAL_NUMBERS,\n",
    "#     domains = list(set(ALL_DISTANCES_FEET) - {2,62}),\n",
    "#     num_examples_per_domain_per_label=100,\n",
    "#     pickle_path=os.path.join(get_datasets_base_path(), \"oracle.Run2_framed_2000Examples_stratified_ds.2022A.pkl\"),\n",
    "#     source_or_target_dataset=\"source\",\n",
    "#     x_transform_func=global_x_transform_func,\n",
    "#     domain_modifier=lambda u: f\"oracle1_{u}\"\n",
    "# )\n"
   ]
  },
  {
   "cell_type": "code",
   "execution_count": 16,
   "id": "97dea9d2",
   "metadata": {
    "execution": {
     "iopub.execute_input": "2022-03-18T16:28:44.024686Z",
     "iopub.status.busy": "2022-03-18T16:28:44.024196Z",
     "iopub.status.idle": "2022-03-18T16:28:44.039349Z",
     "shell.execute_reply": "2022-03-18T16:28:44.038920Z"
    },
    "papermill": {
     "duration": 0.031104,
     "end_time": "2022-03-18T16:28:44.039449",
     "exception": false,
     "start_time": "2022-03-18T16:28:44.008345",
     "status": "completed"
    },
    "tags": []
   },
   "outputs": [],
   "source": [
    "# from steves_utils.ORACLE.utils_v2 import (\n",
    "#     ALL_DISTANCES_FEET,\n",
    "#     ALL_RUNS,\n",
    "#     ALL_SERIAL_NUMBERS,\n",
    "# )\n",
    "\n",
    "\n",
    "# add_dataset(\n",
    "#     labels=ALL_SERIAL_NUMBERS,\n",
    "#     domains = list(set(ALL_DISTANCES_FEET) - {2,62,56}),\n",
    "#     num_examples_per_domain_per_label=100,\n",
    "#     pickle_path=os.path.join(get_datasets_base_path(), \"oracle.Run2_framed_2000Examples_stratified_ds.2022A.pkl\"),\n",
    "#     source_or_target_dataset=\"source\",\n",
    "#     x_transform_func=global_x_transform_func,\n",
    "#     domain_modifier=lambda u: f\"oracle2_{u}\"\n",
    "# )"
   ]
  },
  {
   "cell_type": "code",
   "execution_count": 17,
   "id": "6f289866",
   "metadata": {
    "execution": {
     "iopub.execute_input": "2022-03-18T16:28:44.077069Z",
     "iopub.status.busy": "2022-03-18T16:28:44.073171Z",
     "iopub.status.idle": "2022-03-18T16:28:44.087153Z",
     "shell.execute_reply": "2022-03-18T16:28:44.087567Z"
    },
    "papermill": {
     "duration": 0.02998,
     "end_time": "2022-03-18T16:28:44.087682",
     "exception": false,
     "start_time": "2022-03-18T16:28:44.057702",
     "status": "completed"
    },
    "tags": []
   },
   "outputs": [],
   "source": [
    "# add_dataset(\n",
    "#     labels=list(range(19)),\n",
    "#     domains = [0,1,2],\n",
    "#     num_examples_per_domain_per_label=100,\n",
    "#     pickle_path=os.path.join(get_datasets_base_path(), \"metehan.stratified_ds.2022A.pkl\"),\n",
    "#     source_or_target_dataset=\"target\",\n",
    "#     x_transform_func=global_x_transform_func,\n",
    "#     domain_modifier=lambda u: f\"met_{u}\"\n",
    "# )"
   ]
  },
  {
   "cell_type": "code",
   "execution_count": 18,
   "id": "86a863c3",
   "metadata": {
    "execution": {
     "iopub.execute_input": "2022-03-18T16:28:44.120095Z",
     "iopub.status.busy": "2022-03-18T16:28:44.119781Z",
     "iopub.status.idle": "2022-03-18T16:28:44.134837Z",
     "shell.execute_reply": "2022-03-18T16:28:44.134364Z"
    },
    "papermill": {
     "duration": 0.031113,
     "end_time": "2022-03-18T16:28:44.134935",
     "exception": false,
     "start_time": "2022-03-18T16:28:44.103822",
     "status": "completed"
    },
    "tags": []
   },
   "outputs": [],
   "source": [
    "# # from steves_utils.wisig.utils import (\n",
    "# #     ALL_NODES_MINIMUM_100_EXAMPLES,\n",
    "# #     ALL_NODES_MINIMUM_500_EXAMPLES,\n",
    "# #     ALL_NODES_MINIMUM_1000_EXAMPLES,\n",
    "# #     ALL_DAYS\n",
    "# # )\n",
    "\n",
    "# import steves_utils.wisig.utils as wisig\n",
    "\n",
    "\n",
    "# add_dataset(\n",
    "#     labels=wisig.ALL_NODES_MINIMUM_100_EXAMPLES,\n",
    "#     domains = wisig.ALL_DAYS,\n",
    "#     num_examples_per_domain_per_label=100,\n",
    "#     pickle_path=os.path.join(get_datasets_base_path(), \"wisig.node3-19.stratified_ds.2022A.pkl\"),\n",
    "#     source_or_target_dataset=\"target\",\n",
    "#     x_transform_func=global_x_transform_func,\n",
    "#     domain_modifier=lambda u: f\"wisig_{u}\"\n",
    "# )"
   ]
  },
  {
   "cell_type": "code",
   "execution_count": 19,
   "id": "fd5442bc",
   "metadata": {
    "execution": {
     "iopub.execute_input": "2022-03-18T16:28:44.168899Z",
     "iopub.status.busy": "2022-03-18T16:28:44.168636Z",
     "iopub.status.idle": "2022-03-18T16:28:44.184463Z",
     "shell.execute_reply": "2022-03-18T16:28:44.184047Z"
    },
    "papermill": {
     "duration": 0.033146,
     "end_time": "2022-03-18T16:28:44.184563",
     "exception": false,
     "start_time": "2022-03-18T16:28:44.151417",
     "status": "completed"
    },
    "tags": []
   },
   "outputs": [],
   "source": [
    "###################################\n",
    "# Build the dataset\n",
    "###################################\n",
    "train_original_source = Iterable_Aggregator(train_original_source, p.seed)\n",
    "val_original_source = Iterable_Aggregator(val_original_source, p.seed)\n",
    "test_original_source = Iterable_Aggregator(test_original_source, p.seed)\n",
    "\n",
    "\n",
    "train_original_target = Iterable_Aggregator(train_original_target, p.seed)\n",
    "val_original_target = Iterable_Aggregator(val_original_target, p.seed)\n",
    "test_original_target = Iterable_Aggregator(test_original_target, p.seed)\n",
    "\n",
    "# For CNN We only use X and Y. And we only train on the source.\n",
    "# Properly form the data using a transform lambda and Lazy_Iterable_Wrapper. Finally wrap them in a dataloader\n",
    "\n",
    "transform_lambda = lambda ex: ex[1] # Original is (<domain>, <episode>) so we strip down to episode only\n",
    "\n",
    "train_processed_source = Lazy_Iterable_Wrapper(train_original_source, transform_lambda)\n",
    "val_processed_source   = Lazy_Iterable_Wrapper(val_original_source, transform_lambda)\n",
    "test_processed_source  = Lazy_Iterable_Wrapper(test_original_source, transform_lambda)\n",
    "\n",
    "train_processed_target = Lazy_Iterable_Wrapper(train_original_target, transform_lambda)\n",
    "val_processed_target   = Lazy_Iterable_Wrapper(val_original_target, transform_lambda)\n",
    "test_processed_target  = Lazy_Iterable_Wrapper(test_original_target, transform_lambda)\n",
    "\n",
    "datasets = EasyDict({\n",
    "    \"source\": {\n",
    "        \"original\": {\"train\":train_original_source, \"val\":val_original_source, \"test\":test_original_source},\n",
    "        \"processed\": {\"train\":train_processed_source, \"val\":val_processed_source, \"test\":test_processed_source}\n",
    "    },\n",
    "    \"target\": {\n",
    "        \"original\": {\"train\":train_original_target, \"val\":val_original_target, \"test\":test_original_target},\n",
    "        \"processed\": {\"train\":train_processed_target, \"val\":val_processed_target, \"test\":test_processed_target}\n",
    "    },\n",
    "})"
   ]
  },
  {
   "cell_type": "code",
   "execution_count": 20,
   "id": "5b3c01fc",
   "metadata": {
    "execution": {
     "iopub.execute_input": "2022-03-18T16:28:44.227756Z",
     "iopub.status.busy": "2022-03-18T16:28:44.220508Z",
     "iopub.status.idle": "2022-03-18T16:28:49.157467Z",
     "shell.execute_reply": "2022-03-18T16:28:49.157782Z"
    },
    "papermill": {
     "duration": 4.953943,
     "end_time": "2022-03-18T16:28:49.157896",
     "exception": false,
     "start_time": "2022-03-18T16:28:44.203953",
     "status": "completed"
    },
    "tags": []
   },
   "outputs": [
    {
     "name": "stdout",
     "output_type": "stream",
     "text": [
      "{'ORACLE.run1_20', 'ORACLE.run1_8', 'ORACLE.run1_32', 'ORACLE.run1_26', 'ORACLE.run1_14', 'ORACLE.run1_44', 'ORACLE.run1_38', 'ORACLE.run1_50'}\n"
     ]
    },
    {
     "name": "stdout",
     "output_type": "stream",
     "text": [
      "{'C_A_3', 'W_A_3', 'W_A_4', 'W_A_1', 'C_A_4', 'C_A_2', 'W_A_2', 'C_A_1', 'C_A_5'}\n"
     ]
    },
    {
     "name": "stdout",
     "output_type": "stream",
     "text": [
      "tensor([[[ 0.6470,  0.5780, -0.6104,  ...,  0.1196, -1.0641,  0.0498],\n",
      "         [ 0.1549,  1.2563,  0.3941,  ...,  0.8166,  0.6102,  0.8082]],\n",
      "\n",
      "        [[-0.6667,  0.2748,  0.8156,  ...,  0.4889,  1.1788,  0.6502],\n",
      "         [-0.5000, -1.2580,  0.2088,  ..., -0.5176,  0.3522, -0.6378]],\n",
      "\n",
      "        [[-0.0371,  1.1261,  0.4751,  ...,  0.7801,  0.4409,  0.7636],\n",
      "         [-0.5844, -0.4009,  0.6742,  ...,  0.0045,  1.1223,  0.0137]],\n",
      "\n",
      "        ...,\n",
      "\n",
      "        [[ 0.7062,  0.4473, -0.7024,  ..., -0.0110, -1.2104, -0.1140],\n",
      "         [ 0.1657,  1.1509,  0.2787,  ...,  0.8103,  0.5784,  0.9839]],\n",
      "\n",
      "        [[ 0.9780,  0.7687, -1.0005,  ..., -0.1678, -0.3604,  1.0122],\n",
      "         [ 0.0998,  0.8762,  0.2805,  ...,  0.9712,  0.7959,  0.6791]],\n",
      "\n",
      "        [[ 0.8678,  0.9529, -0.6981,  ...,  0.5441,  0.5057,  1.1785],\n",
      "         [-0.6983,  0.1518,  1.1143,  ...,  1.0081,  0.5522, -0.4006]]])\n"
     ]
    }
   ],
   "source": [
    "from steves_utils.transforms import get_average_magnitude, get_average_power\n",
    "\n",
    "print(set([u for u,_ in val_original_source]))\n",
    "print(set([u for u,_ in val_original_target]))\n",
    "\n",
    "s_x, s_y, q_x, q_y, _ = next(iter(train_processed_source))\n",
    "print(s_x)\n",
    "\n",
    "# for ds in [\n",
    "#     train_processed_source,\n",
    "#     val_processed_source,\n",
    "#     test_processed_source,\n",
    "#     train_processed_target,\n",
    "#     val_processed_target,\n",
    "#     test_processed_target\n",
    "# ]:\n",
    "#     for s_x, s_y, q_x, q_y, _ in ds:\n",
    "#         for X in (s_x, q_x):\n",
    "#             for x in X:\n",
    "#                 assert np.isclose(get_average_magnitude(x.numpy()), 1.0)\n",
    "#                 assert np.isclose(get_average_power(x.numpy()), 1.0)\n",
    "                "
   ]
  },
  {
   "cell_type": "code",
   "execution_count": 21,
   "id": "bbdacba1",
   "metadata": {
    "execution": {
     "iopub.execute_input": "2022-03-18T16:28:49.196753Z",
     "iopub.status.busy": "2022-03-18T16:28:49.196492Z",
     "iopub.status.idle": "2022-03-18T16:28:49.254112Z",
     "shell.execute_reply": "2022-03-18T16:28:49.253873Z"
    },
    "papermill": {
     "duration": 0.07601,
     "end_time": "2022-03-18T16:28:49.254176",
     "exception": false,
     "start_time": "2022-03-18T16:28:49.178166",
     "status": "completed"
    },
    "tags": []
   },
   "outputs": [
    {
     "name": "stdout",
     "output_type": "stream",
     "text": [
      "(2, 200)\n"
     ]
    }
   ],
   "source": [
    "###################################\n",
    "# Build the model\n",
    "###################################\n",
    "# easfsl only wants a tuple for the shape\n",
    "model = Steves_Prototypical_Network(x_net, device=p.device, x_shape=tuple(p.x_shape))\n",
    "optimizer = Adam(params=model.parameters(), lr=p.lr)"
   ]
  },
  {
   "cell_type": "code",
   "execution_count": 22,
   "id": "22b39ac5",
   "metadata": {
    "execution": {
     "iopub.execute_input": "2022-03-18T16:28:49.294743Z",
     "iopub.status.busy": "2022-03-18T16:28:49.294130Z",
     "iopub.status.idle": "2022-03-18T16:57:56.931929Z",
     "shell.execute_reply": "2022-03-18T16:57:56.931696Z"
    },
    "papermill": {
     "duration": 1747.65639,
     "end_time": "2022-03-18T16:57:56.931989",
     "exception": false,
     "start_time": "2022-03-18T16:28:49.275599",
     "status": "completed"
    },
    "tags": []
   },
   "outputs": [
    {
     "name": "stdout",
     "output_type": "stream",
     "text": [
      "epoch: 1, [batch: 1 / 6720], examples_per_second: 50.2476, train_label_loss: 3.2365, \n"
     ]
    },
    {
     "name": "stdout",
     "output_type": "stream",
     "text": [
      "epoch: 1, [batch: 672 / 6720], examples_per_second: 3655.1898, train_label_loss: 1.1046, \n"
     ]
    },
    {
     "name": "stdout",
     "output_type": "stream",
     "text": [
      "epoch: 1, [batch: 1344 / 6720], examples_per_second: 3684.5139, train_label_loss: 1.0196, \n"
     ]
    },
    {
     "name": "stdout",
     "output_type": "stream",
     "text": [
      "epoch: 1, [batch: 2016 / 6720], examples_per_second: 3674.2286, train_label_loss: 1.1274, \n"
     ]
    },
    {
     "name": "stdout",
     "output_type": "stream",
     "text": [
      "epoch: 1, [batch: 2688 / 6720], examples_per_second: 3639.4266, train_label_loss: 0.8010, \n"
     ]
    },
    {
     "name": "stdout",
     "output_type": "stream",
     "text": [
      "epoch: 1, [batch: 3360 / 6720], examples_per_second: 3660.2455, train_label_loss: 1.0300, \n"
     ]
    },
    {
     "name": "stdout",
     "output_type": "stream",
     "text": [
      "epoch: 1, [batch: 4032 / 6720], examples_per_second: 3656.6833, train_label_loss: 0.9427, \n"
     ]
    },
    {
     "name": "stdout",
     "output_type": "stream",
     "text": [
      "epoch: 1, [batch: 4704 / 6720], examples_per_second: 3639.6040, train_label_loss: 0.8692, \n"
     ]
    },
    {
     "name": "stdout",
     "output_type": "stream",
     "text": [
      "epoch: 1, [batch: 5376 / 6720], examples_per_second: 3645.2768, train_label_loss: 1.5762, \n"
     ]
    },
    {
     "name": "stdout",
     "output_type": "stream",
     "text": [
      "epoch: 1, [batch: 6048 / 6720], examples_per_second: 3650.4491, train_label_loss: 0.7034, \n"
     ]
    },
    {
     "name": "stdout",
     "output_type": "stream",
     "text": [
      "=============================================================\n",
      "epoch: 1, source_val_acc_label: 0.6608, target_val_acc_label: 0.4287, source_val_label_loss: 62.1861, target_val_label_loss: 20276.6348, \n",
      "=============================================================\n"
     ]
    },
    {
     "name": "stdout",
     "output_type": "stream",
     "text": [
      "New best\n"
     ]
    },
    {
     "name": "stdout",
     "output_type": "stream",
     "text": [
      "epoch: 2, [batch: 1 / 6720], examples_per_second: 6.0147, train_label_loss: 1.2184, \n"
     ]
    },
    {
     "name": "stdout",
     "output_type": "stream",
     "text": [
      "epoch: 2, [batch: 672 / 6720], examples_per_second: 3631.0368, train_label_loss: 1.1589, \n"
     ]
    },
    {
     "name": "stdout",
     "output_type": "stream",
     "text": [
      "epoch: 2, [batch: 1344 / 6720], examples_per_second: 3670.0173, train_label_loss: 0.8358, \n"
     ]
    },
    {
     "name": "stdout",
     "output_type": "stream",
     "text": [
      "epoch: 2, [batch: 2016 / 6720], examples_per_second: 3661.6210, train_label_loss: 0.7521, \n"
     ]
    },
    {
     "name": "stdout",
     "output_type": "stream",
     "text": [
      "epoch: 2, [batch: 2688 / 6720], examples_per_second: 3637.2954, train_label_loss: 1.2973, \n"
     ]
    },
    {
     "name": "stdout",
     "output_type": "stream",
     "text": [
      "epoch: 2, [batch: 3360 / 6720], examples_per_second: 3611.6925, train_label_loss: 0.7244, \n"
     ]
    },
    {
     "name": "stdout",
     "output_type": "stream",
     "text": [
      "epoch: 2, [batch: 4032 / 6720], examples_per_second: 3634.9855, train_label_loss: 0.6452, \n"
     ]
    },
    {
     "name": "stdout",
     "output_type": "stream",
     "text": [
      "epoch: 2, [batch: 4704 / 6720], examples_per_second: 3625.7298, train_label_loss: 0.9563, \n"
     ]
    },
    {
     "name": "stdout",
     "output_type": "stream",
     "text": [
      "epoch: 2, [batch: 5376 / 6720], examples_per_second: 3671.4437, train_label_loss: 1.6575, \n"
     ]
    },
    {
     "name": "stdout",
     "output_type": "stream",
     "text": [
      "epoch: 2, [batch: 6048 / 6720], examples_per_second: 3666.2924, train_label_loss: 0.8456, \n"
     ]
    },
    {
     "name": "stdout",
     "output_type": "stream",
     "text": [
      "=============================================================\n",
      "epoch: 2, source_val_acc_label: 0.6691, target_val_acc_label: 0.5312, source_val_label_loss: 0.9139, target_val_label_loss: 1920.8551, \n",
      "=============================================================\n"
     ]
    },
    {
     "name": "stdout",
     "output_type": "stream",
     "text": [
      "New best\n"
     ]
    },
    {
     "name": "stdout",
     "output_type": "stream",
     "text": [
      "epoch: 3, [batch: 1 / 6720], examples_per_second: 6.0218, train_label_loss: 0.6280, \n"
     ]
    },
    {
     "name": "stdout",
     "output_type": "stream",
     "text": [
      "epoch: 3, [batch: 672 / 6720], examples_per_second: 3651.9252, train_label_loss: 1.1419, \n"
     ]
    },
    {
     "name": "stdout",
     "output_type": "stream",
     "text": [
      "epoch: 3, [batch: 1344 / 6720], examples_per_second: 3680.8788, train_label_loss: 1.2370, \n"
     ]
    },
    {
     "name": "stdout",
     "output_type": "stream",
     "text": [
      "epoch: 3, [batch: 2016 / 6720], examples_per_second: 3648.2921, train_label_loss: 0.9330, \n"
     ]
    },
    {
     "name": "stdout",
     "output_type": "stream",
     "text": [
      "epoch: 3, [batch: 2688 / 6720], examples_per_second: 3637.8327, train_label_loss: 0.7468, \n"
     ]
    },
    {
     "name": "stdout",
     "output_type": "stream",
     "text": [
      "epoch: 3, [batch: 3360 / 6720], examples_per_second: 3653.3925, train_label_loss: 0.8973, \n"
     ]
    },
    {
     "name": "stdout",
     "output_type": "stream",
     "text": [
      "epoch: 3, [batch: 4032 / 6720], examples_per_second: 3672.0691, train_label_loss: 0.5989, \n"
     ]
    },
    {
     "name": "stdout",
     "output_type": "stream",
     "text": [
      "epoch: 3, [batch: 4704 / 6720], examples_per_second: 3659.2291, train_label_loss: 0.5548, \n"
     ]
    },
    {
     "name": "stdout",
     "output_type": "stream",
     "text": [
      "epoch: 3, [batch: 5376 / 6720], examples_per_second: 3670.6548, train_label_loss: 0.6408, \n"
     ]
    },
    {
     "name": "stdout",
     "output_type": "stream",
     "text": [
      "epoch: 3, [batch: 6048 / 6720], examples_per_second: 3647.1436, train_label_loss: 0.6239, \n"
     ]
    },
    {
     "name": "stdout",
     "output_type": "stream",
     "text": [
      "=============================================================\n",
      "epoch: 3, source_val_acc_label: 0.6673, target_val_acc_label: 0.5551, source_val_label_loss: 0.9059, target_val_label_loss: 700.7368, \n",
      "=============================================================\n"
     ]
    },
    {
     "name": "stdout",
     "output_type": "stream",
     "text": [
      "New best\n"
     ]
    },
    {
     "name": "stdout",
     "output_type": "stream",
     "text": [
      "epoch: 4, [batch: 1 / 6720], examples_per_second: 6.0362, train_label_loss: 0.8627, \n"
     ]
    },
    {
     "name": "stdout",
     "output_type": "stream",
     "text": [
      "epoch: 4, [batch: 672 / 6720], examples_per_second: 3660.8222, train_label_loss: 0.9356, \n"
     ]
    },
    {
     "name": "stdout",
     "output_type": "stream",
     "text": [
      "epoch: 4, [batch: 1344 / 6720], examples_per_second: 3673.4262, train_label_loss: 0.3375, \n"
     ]
    },
    {
     "name": "stdout",
     "output_type": "stream",
     "text": [
      "epoch: 4, [batch: 2016 / 6720], examples_per_second: 3678.3407, train_label_loss: 0.5759, \n"
     ]
    },
    {
     "name": "stdout",
     "output_type": "stream",
     "text": [
      "epoch: 4, [batch: 2688 / 6720], examples_per_second: 3665.6569, train_label_loss: 1.0971, \n"
     ]
    },
    {
     "name": "stdout",
     "output_type": "stream",
     "text": [
      "epoch: 4, [batch: 3360 / 6720], examples_per_second: 3698.2279, train_label_loss: 1.0602, \n"
     ]
    },
    {
     "name": "stdout",
     "output_type": "stream",
     "text": [
      "epoch: 4, [batch: 4032 / 6720], examples_per_second: 3670.1425, train_label_loss: 0.4368, \n"
     ]
    },
    {
     "name": "stdout",
     "output_type": "stream",
     "text": [
      "epoch: 4, [batch: 4704 / 6720], examples_per_second: 3623.4364, train_label_loss: 0.7937, \n"
     ]
    },
    {
     "name": "stdout",
     "output_type": "stream",
     "text": [
      "epoch: 4, [batch: 5376 / 6720], examples_per_second: 3720.3425, train_label_loss: 0.5298, \n"
     ]
    },
    {
     "name": "stdout",
     "output_type": "stream",
     "text": [
      "epoch: 4, [batch: 6048 / 6720], examples_per_second: 3674.7642, train_label_loss: 0.5109, \n"
     ]
    },
    {
     "name": "stdout",
     "output_type": "stream",
     "text": [
      "=============================================================\n",
      "epoch: 4, source_val_acc_label: 0.7612, target_val_acc_label: 0.5146, source_val_label_loss: 0.6625, target_val_label_loss: 1082.6696, \n",
      "=============================================================\n"
     ]
    },
    {
     "name": "stdout",
     "output_type": "stream",
     "text": [
      "epoch: 5, [batch: 1 / 6720], examples_per_second: 6.0273, train_label_loss: 0.5120, \n"
     ]
    },
    {
     "name": "stdout",
     "output_type": "stream",
     "text": [
      "epoch: 5, [batch: 672 / 6720], examples_per_second: 3604.1789, train_label_loss: 1.6138, \n"
     ]
    },
    {
     "name": "stdout",
     "output_type": "stream",
     "text": [
      "epoch: 5, [batch: 1344 / 6720], examples_per_second: 3651.4136, train_label_loss: 0.5896, \n"
     ]
    },
    {
     "name": "stdout",
     "output_type": "stream",
     "text": [
      "epoch: 5, [batch: 2016 / 6720], examples_per_second: 3655.4355, train_label_loss: 0.4100, \n"
     ]
    },
    {
     "name": "stdout",
     "output_type": "stream",
     "text": [
      "epoch: 5, [batch: 2688 / 6720], examples_per_second: 3662.0006, train_label_loss: 1.0043, \n"
     ]
    },
    {
     "name": "stdout",
     "output_type": "stream",
     "text": [
      "epoch: 5, [batch: 3360 / 6720], examples_per_second: 3667.2435, train_label_loss: 0.4242, \n"
     ]
    },
    {
     "name": "stdout",
     "output_type": "stream",
     "text": [
      "epoch: 5, [batch: 4032 / 6720], examples_per_second: 3677.8210, train_label_loss: 0.4719, \n"
     ]
    },
    {
     "name": "stdout",
     "output_type": "stream",
     "text": [
      "epoch: 5, [batch: 4704 / 6720], examples_per_second: 3632.4978, train_label_loss: 0.5969, \n"
     ]
    },
    {
     "name": "stdout",
     "output_type": "stream",
     "text": [
      "epoch: 5, [batch: 5376 / 6720], examples_per_second: 3667.9164, train_label_loss: 0.5797, \n"
     ]
    },
    {
     "name": "stdout",
     "output_type": "stream",
     "text": [
      "epoch: 5, [batch: 6048 / 6720], examples_per_second: 3664.2358, train_label_loss: 0.2514, \n"
     ]
    },
    {
     "name": "stdout",
     "output_type": "stream",
     "text": [
      "=============================================================\n",
      "epoch: 5, source_val_acc_label: 0.7779, target_val_acc_label: 0.5067, source_val_label_loss: 0.6208, target_val_label_loss: 951.8110, \n",
      "=============================================================\n"
     ]
    },
    {
     "name": "stdout",
     "output_type": "stream",
     "text": [
      "epoch: 6, [batch: 1 / 6720], examples_per_second: 6.0424, train_label_loss: 0.3272, \n"
     ]
    },
    {
     "name": "stdout",
     "output_type": "stream",
     "text": [
      "epoch: 6, [batch: 672 / 6720], examples_per_second: 3619.5687, train_label_loss: 0.4897, \n"
     ]
    },
    {
     "name": "stdout",
     "output_type": "stream",
     "text": [
      "epoch: 6, [batch: 1344 / 6720], examples_per_second: 3620.8137, train_label_loss: 1.1117, \n"
     ]
    },
    {
     "name": "stdout",
     "output_type": "stream",
     "text": [
      "epoch: 6, [batch: 2016 / 6720], examples_per_second: 3650.9410, train_label_loss: 1.1980, \n"
     ]
    },
    {
     "name": "stdout",
     "output_type": "stream",
     "text": [
      "epoch: 6, [batch: 2688 / 6720], examples_per_second: 3639.9006, train_label_loss: 0.3350, \n"
     ]
    },
    {
     "name": "stdout",
     "output_type": "stream",
     "text": [
      "epoch: 6, [batch: 3360 / 6720], examples_per_second: 3658.3403, train_label_loss: 0.3806, \n"
     ]
    },
    {
     "name": "stdout",
     "output_type": "stream",
     "text": [
      "epoch: 6, [batch: 4032 / 6720], examples_per_second: 3659.3412, train_label_loss: 1.0155, \n"
     ]
    },
    {
     "name": "stdout",
     "output_type": "stream",
     "text": [
      "epoch: 6, [batch: 4704 / 6720], examples_per_second: 3643.4020, train_label_loss: 0.4961, \n"
     ]
    },
    {
     "name": "stdout",
     "output_type": "stream",
     "text": [
      "epoch: 6, [batch: 5376 / 6720], examples_per_second: 3660.1494, train_label_loss: 1.2004, \n"
     ]
    },
    {
     "name": "stdout",
     "output_type": "stream",
     "text": [
      "epoch: 6, [batch: 6048 / 6720], examples_per_second: 3655.9506, train_label_loss: 0.9552, \n"
     ]
    },
    {
     "name": "stdout",
     "output_type": "stream",
     "text": [
      "=============================================================\n",
      "epoch: 6, source_val_acc_label: 0.8139, target_val_acc_label: 0.5654, source_val_label_loss: 0.5270, target_val_label_loss: 452.2501, \n",
      "=============================================================\n"
     ]
    },
    {
     "name": "stdout",
     "output_type": "stream",
     "text": [
      "New best\n"
     ]
    },
    {
     "name": "stdout",
     "output_type": "stream",
     "text": [
      "epoch: 7, [batch: 1 / 6720], examples_per_second: 6.0385, train_label_loss: 0.5375, \n"
     ]
    },
    {
     "name": "stdout",
     "output_type": "stream",
     "text": [
      "epoch: 7, [batch: 672 / 6720], examples_per_second: 3655.0308, train_label_loss: 0.8063, \n"
     ]
    },
    {
     "name": "stdout",
     "output_type": "stream",
     "text": [
      "epoch: 7, [batch: 1344 / 6720], examples_per_second: 3675.5002, train_label_loss: 0.3079, \n"
     ]
    },
    {
     "name": "stdout",
     "output_type": "stream",
     "text": [
      "epoch: 7, [batch: 2016 / 6720], examples_per_second: 3617.3400, train_label_loss: 0.4318, \n"
     ]
    },
    {
     "name": "stdout",
     "output_type": "stream",
     "text": [
      "epoch: 7, [batch: 2688 / 6720], examples_per_second: 3638.8334, train_label_loss: 0.3263, \n"
     ]
    },
    {
     "name": "stdout",
     "output_type": "stream",
     "text": [
      "epoch: 7, [batch: 3360 / 6720], examples_per_second: 3674.5382, train_label_loss: 0.3444, \n"
     ]
    },
    {
     "name": "stdout",
     "output_type": "stream",
     "text": [
      "epoch: 7, [batch: 4032 / 6720], examples_per_second: 3667.4345, train_label_loss: 0.4533, \n"
     ]
    },
    {
     "name": "stdout",
     "output_type": "stream",
     "text": [
      "epoch: 7, [batch: 4704 / 6720], examples_per_second: 3643.6344, train_label_loss: 1.0875, \n"
     ]
    },
    {
     "name": "stdout",
     "output_type": "stream",
     "text": [
      "epoch: 7, [batch: 5376 / 6720], examples_per_second: 3648.1264, train_label_loss: 0.6508, \n"
     ]
    },
    {
     "name": "stdout",
     "output_type": "stream",
     "text": [
      "epoch: 7, [batch: 6048 / 6720], examples_per_second: 3651.3936, train_label_loss: 0.5414, \n"
     ]
    },
    {
     "name": "stdout",
     "output_type": "stream",
     "text": [
      "=============================================================\n",
      "epoch: 7, source_val_acc_label: 0.8113, target_val_acc_label: 0.5858, source_val_label_loss: 0.5303, target_val_label_loss: 247.5087, \n",
      "=============================================================\n"
     ]
    },
    {
     "name": "stdout",
     "output_type": "stream",
     "text": [
      "New best\n"
     ]
    },
    {
     "name": "stdout",
     "output_type": "stream",
     "text": [
      "epoch: 8, [batch: 1 / 6720], examples_per_second: 6.0453, train_label_loss: 0.3873, \n"
     ]
    },
    {
     "name": "stdout",
     "output_type": "stream",
     "text": [
      "epoch: 8, [batch: 672 / 6720], examples_per_second: 3632.0865, train_label_loss: 0.4613, \n"
     ]
    },
    {
     "name": "stdout",
     "output_type": "stream",
     "text": [
      "epoch: 8, [batch: 1344 / 6720], examples_per_second: 3663.2192, train_label_loss: 0.2054, \n"
     ]
    },
    {
     "name": "stdout",
     "output_type": "stream",
     "text": [
      "epoch: 8, [batch: 2016 / 6720], examples_per_second: 3658.7404, train_label_loss: 0.4374, \n"
     ]
    },
    {
     "name": "stdout",
     "output_type": "stream",
     "text": [
      "epoch: 8, [batch: 2688 / 6720], examples_per_second: 3646.7384, train_label_loss: 0.2714, \n"
     ]
    },
    {
     "name": "stdout",
     "output_type": "stream",
     "text": [
      "epoch: 8, [batch: 3360 / 6720], examples_per_second: 3657.5252, train_label_loss: 0.4467, \n"
     ]
    },
    {
     "name": "stdout",
     "output_type": "stream",
     "text": [
      "epoch: 8, [batch: 4032 / 6720], examples_per_second: 3659.9477, train_label_loss: 0.2075, \n"
     ]
    },
    {
     "name": "stdout",
     "output_type": "stream",
     "text": [
      "epoch: 8, [batch: 4704 / 6720], examples_per_second: 3637.4446, train_label_loss: 0.5635, \n"
     ]
    },
    {
     "name": "stdout",
     "output_type": "stream",
     "text": [
      "epoch: 8, [batch: 5376 / 6720], examples_per_second: 3654.3696, train_label_loss: 0.1661, \n"
     ]
    },
    {
     "name": "stdout",
     "output_type": "stream",
     "text": [
      "epoch: 8, [batch: 6048 / 6720], examples_per_second: 3659.9814, train_label_loss: 0.3368, \n"
     ]
    },
    {
     "name": "stdout",
     "output_type": "stream",
     "text": [
      "=============================================================\n",
      "epoch: 8, source_val_acc_label: 0.8136, target_val_acc_label: 0.5739, source_val_label_loss: 0.5235, target_val_label_loss: 495.7704, \n",
      "=============================================================\n"
     ]
    },
    {
     "name": "stdout",
     "output_type": "stream",
     "text": [
      "epoch: 9, [batch: 1 / 6720], examples_per_second: 6.0311, train_label_loss: 0.8716, \n"
     ]
    },
    {
     "name": "stdout",
     "output_type": "stream",
     "text": [
      "epoch: 9, [batch: 672 / 6720], examples_per_second: 3622.1004, train_label_loss: 0.6311, \n"
     ]
    },
    {
     "name": "stdout",
     "output_type": "stream",
     "text": [
      "epoch: 9, [batch: 1344 / 6720], examples_per_second: 3662.6754, train_label_loss: 0.4756, \n"
     ]
    },
    {
     "name": "stdout",
     "output_type": "stream",
     "text": [
      "epoch: 9, [batch: 2016 / 6720], examples_per_second: 3635.7136, train_label_loss: 0.7663, \n"
     ]
    },
    {
     "name": "stdout",
     "output_type": "stream",
     "text": [
      "epoch: 9, [batch: 2688 / 6720], examples_per_second: 3627.1794, train_label_loss: 0.5913, \n"
     ]
    },
    {
     "name": "stdout",
     "output_type": "stream",
     "text": [
      "epoch: 9, [batch: 3360 / 6720], examples_per_second: 3653.6485, train_label_loss: 0.7983, \n"
     ]
    },
    {
     "name": "stdout",
     "output_type": "stream",
     "text": [
      "epoch: 9, [batch: 4032 / 6720], examples_per_second: 3648.6075, train_label_loss: 0.6775, \n"
     ]
    },
    {
     "name": "stdout",
     "output_type": "stream",
     "text": [
      "epoch: 9, [batch: 4704 / 6720], examples_per_second: 3661.8809, train_label_loss: 0.5223, \n"
     ]
    },
    {
     "name": "stdout",
     "output_type": "stream",
     "text": [
      "epoch: 9, [batch: 5376 / 6720], examples_per_second: 3653.6349, train_label_loss: 0.0823, \n"
     ]
    },
    {
     "name": "stdout",
     "output_type": "stream",
     "text": [
      "epoch: 9, [batch: 6048 / 6720], examples_per_second: 3673.5686, train_label_loss: 0.7727, \n"
     ]
    },
    {
     "name": "stdout",
     "output_type": "stream",
     "text": [
      "=============================================================\n",
      "epoch: 9, source_val_acc_label: 0.8350, target_val_acc_label: 0.5413, source_val_label_loss: 0.4794, target_val_label_loss: 780.2416, \n",
      "=============================================================\n"
     ]
    },
    {
     "name": "stdout",
     "output_type": "stream",
     "text": [
      "epoch: 10, [batch: 1 / 6720], examples_per_second: 6.0696, train_label_loss: 0.2041, \n"
     ]
    },
    {
     "name": "stdout",
     "output_type": "stream",
     "text": [
      "epoch: 10, [batch: 672 / 6720], examples_per_second: 3651.8612, train_label_loss: 0.4476, \n"
     ]
    },
    {
     "name": "stdout",
     "output_type": "stream",
     "text": [
      "epoch: 10, [batch: 1344 / 6720], examples_per_second: 3665.2847, train_label_loss: 0.4173, \n"
     ]
    },
    {
     "name": "stdout",
     "output_type": "stream",
     "text": [
      "epoch: 10, [batch: 2016 / 6720], examples_per_second: 3655.6597, train_label_loss: 0.7603, \n"
     ]
    },
    {
     "name": "stdout",
     "output_type": "stream",
     "text": [
      "epoch: 10, [batch: 2688 / 6720], examples_per_second: 3644.2934, train_label_loss: 0.3478, \n"
     ]
    },
    {
     "name": "stdout",
     "output_type": "stream",
     "text": [
      "epoch: 10, [batch: 3360 / 6720], examples_per_second: 3652.4588, train_label_loss: 0.9275, \n"
     ]
    },
    {
     "name": "stdout",
     "output_type": "stream",
     "text": [
      "epoch: 10, [batch: 4032 / 6720], examples_per_second: 3650.5169, train_label_loss: 0.2161, \n"
     ]
    },
    {
     "name": "stdout",
     "output_type": "stream",
     "text": [
      "epoch: 10, [batch: 4704 / 6720], examples_per_second: 3646.3843, train_label_loss: 0.5603, \n"
     ]
    },
    {
     "name": "stdout",
     "output_type": "stream",
     "text": [
      "epoch: 10, [batch: 5376 / 6720], examples_per_second: 3658.0058, train_label_loss: 0.2910, \n"
     ]
    },
    {
     "name": "stdout",
     "output_type": "stream",
     "text": [
      "epoch: 10, [batch: 6048 / 6720], examples_per_second: 3662.3992, train_label_loss: 0.2010, \n"
     ]
    },
    {
     "name": "stdout",
     "output_type": "stream",
     "text": [
      "=============================================================\n",
      "epoch: 10, source_val_acc_label: 0.8316, target_val_acc_label: 0.5423, source_val_label_loss: 0.4673, target_val_label_loss: 915.0615, \n",
      "=============================================================\n"
     ]
    },
    {
     "name": "stdout",
     "output_type": "stream",
     "text": [
      "epoch: 11, [batch: 1 / 6720], examples_per_second: 6.0347, train_label_loss: 0.3823, \n"
     ]
    },
    {
     "name": "stdout",
     "output_type": "stream",
     "text": [
      "epoch: 11, [batch: 672 / 6720], examples_per_second: 3637.0596, train_label_loss: 0.3380, \n"
     ]
    },
    {
     "name": "stdout",
     "output_type": "stream",
     "text": [
      "epoch: 11, [batch: 1344 / 6720], examples_per_second: 3676.0517, train_label_loss: 0.3260, \n"
     ]
    },
    {
     "name": "stdout",
     "output_type": "stream",
     "text": [
      "epoch: 11, [batch: 2016 / 6720], examples_per_second: 3673.0317, train_label_loss: 0.6086, \n"
     ]
    },
    {
     "name": "stdout",
     "output_type": "stream",
     "text": [
      "epoch: 11, [batch: 2688 / 6720], examples_per_second: 3648.9941, train_label_loss: 0.1121, \n"
     ]
    },
    {
     "name": "stdout",
     "output_type": "stream",
     "text": [
      "epoch: 11, [batch: 3360 / 6720], examples_per_second: 3674.4081, train_label_loss: 0.9932, \n"
     ]
    },
    {
     "name": "stdout",
     "output_type": "stream",
     "text": [
      "epoch: 11, [batch: 4032 / 6720], examples_per_second: 3657.9931, train_label_loss: 0.4157, \n"
     ]
    },
    {
     "name": "stdout",
     "output_type": "stream",
     "text": [
      "epoch: 11, [batch: 4704 / 6720], examples_per_second: 3646.8409, train_label_loss: 0.6860, \n"
     ]
    },
    {
     "name": "stdout",
     "output_type": "stream",
     "text": [
      "epoch: 11, [batch: 5376 / 6720], examples_per_second: 3668.5958, train_label_loss: 0.0573, \n"
     ]
    },
    {
     "name": "stdout",
     "output_type": "stream",
     "text": [
      "epoch: 11, [batch: 6048 / 6720], examples_per_second: 3659.1770, train_label_loss: 0.0570, \n"
     ]
    },
    {
     "name": "stdout",
     "output_type": "stream",
     "text": [
      "=============================================================\n",
      "epoch: 11, source_val_acc_label: 0.8396, target_val_acc_label: 0.5468, source_val_label_loss: 0.4517, target_val_label_loss: 1006.3798, \n",
      "=============================================================\n"
     ]
    },
    {
     "name": "stdout",
     "output_type": "stream",
     "text": [
      "Patience (3) exhausted\n"
     ]
    }
   ],
   "source": [
    "###################################\n",
    "# train\n",
    "###################################\n",
    "jig = PTN_Train_Eval_Test_Jig(model, p.BEST_MODEL_PATH, p.device)\n",
    "\n",
    "jig.train(\n",
    "    train_iterable=datasets.source.processed.train,\n",
    "    source_val_iterable=datasets.source.processed.val,\n",
    "    target_val_iterable=datasets.target.processed.val,\n",
    "    num_epochs=p.n_epoch,\n",
    "    num_logs_per_epoch=p.NUM_LOGS_PER_EPOCH,\n",
    "    patience=p.patience,\n",
    "    optimizer=optimizer,\n",
    "    criteria_for_best=p.criteria_for_best,\n",
    ")"
   ]
  },
  {
   "cell_type": "code",
   "execution_count": 23,
   "id": "31e8fabf",
   "metadata": {
    "execution": {
     "iopub.execute_input": "2022-03-18T16:57:57.008835Z",
     "iopub.status.busy": "2022-03-18T16:57:57.008572Z",
     "iopub.status.idle": "2022-03-18T16:57:57.026016Z",
     "shell.execute_reply": "2022-03-18T16:57:57.026413Z"
    },
    "papermill": {
     "duration": 0.057383,
     "end_time": "2022-03-18T16:57:57.026551",
     "exception": false,
     "start_time": "2022-03-18T16:57:56.969168",
     "status": "completed"
    },
    "tags": []
   },
   "outputs": [],
   "source": [
    "total_experiment_time_secs = time.time() - start_time_secs"
   ]
  },
  {
   "cell_type": "code",
   "execution_count": 24,
   "id": "87b9595b",
   "metadata": {
    "execution": {
     "iopub.execute_input": "2022-03-18T16:57:57.111686Z",
     "iopub.status.busy": "2022-03-18T16:57:57.107407Z",
     "iopub.status.idle": "2022-03-18T16:58:59.662954Z",
     "shell.execute_reply": "2022-03-18T16:58:59.663336Z"
    },
    "papermill": {
     "duration": 62.594907,
     "end_time": "2022-03-18T16:58:59.663467",
     "exception": false,
     "start_time": "2022-03-18T16:57:57.068560",
     "status": "completed"
    },
    "tags": []
   },
   "outputs": [],
   "source": [
    "###################################\n",
    "# Evaluate the model\n",
    "###################################\n",
    "source_test_label_accuracy, source_test_label_loss = jig.test(datasets.source.processed.test)\n",
    "target_test_label_accuracy, target_test_label_loss = jig.test(datasets.target.processed.test)\n",
    "\n",
    "source_val_label_accuracy, source_val_label_loss = jig.test(datasets.source.processed.val)\n",
    "target_val_label_accuracy, target_val_label_loss = jig.test(datasets.target.processed.val)\n",
    "\n",
    "history = jig.get_history()\n",
    "\n",
    "total_epochs_trained = len(history[\"epoch_indices\"])\n",
    "\n",
    "val_dl = Iterable_Aggregator((datasets.source.original.val,datasets.target.original.val))\n",
    "\n",
    "confusion = ptn_confusion_by_domain_over_dataloader(model, p.device, val_dl)\n",
    "per_domain_accuracy = per_domain_accuracy_from_confusion(confusion)\n",
    "\n",
    "# Add a key to per_domain_accuracy for if it was a source domain\n",
    "for domain, accuracy in per_domain_accuracy.items():\n",
    "    per_domain_accuracy[domain] = {\n",
    "        \"accuracy\": accuracy,\n",
    "        \"source?\": domain in p.domains_source\n",
    "    }\n",
    "\n",
    "# Do an independent accuracy assesment JUST TO BE SURE!\n",
    "# _source_test_label_accuracy = independent_accuracy_assesment(model, datasets.source.processed.test, p.device)\n",
    "# _target_test_label_accuracy = independent_accuracy_assesment(model, datasets.target.processed.test, p.device)\n",
    "# _source_val_label_accuracy = independent_accuracy_assesment(model, datasets.source.processed.val, p.device)\n",
    "# _target_val_label_accuracy = independent_accuracy_assesment(model, datasets.target.processed.val, p.device)\n",
    "\n",
    "# assert(_source_test_label_accuracy == source_test_label_accuracy)\n",
    "# assert(_target_test_label_accuracy == target_test_label_accuracy)\n",
    "# assert(_source_val_label_accuracy == source_val_label_accuracy)\n",
    "# assert(_target_val_label_accuracy == target_val_label_accuracy)\n",
    "\n",
    "experiment = {\n",
    "    \"experiment_name\": p.experiment_name,\n",
    "    \"parameters\": dict(p),\n",
    "    \"results\": {\n",
    "        \"source_test_label_accuracy\": source_test_label_accuracy,\n",
    "        \"source_test_label_loss\": source_test_label_loss,\n",
    "        \"target_test_label_accuracy\": target_test_label_accuracy,\n",
    "        \"target_test_label_loss\": target_test_label_loss,\n",
    "        \"source_val_label_accuracy\": source_val_label_accuracy,\n",
    "        \"source_val_label_loss\": source_val_label_loss,\n",
    "        \"target_val_label_accuracy\": target_val_label_accuracy,\n",
    "        \"target_val_label_loss\": target_val_label_loss,\n",
    "        \"total_epochs_trained\": total_epochs_trained,\n",
    "        \"total_experiment_time_secs\": total_experiment_time_secs,\n",
    "        \"confusion\": confusion,\n",
    "        \"per_domain_accuracy\": per_domain_accuracy,\n",
    "    },\n",
    "    \"history\": history,\n",
    "    \"dataset_metrics\": get_dataset_metrics(datasets, \"ptn\"),\n",
    "}"
   ]
  },
  {
   "cell_type": "code",
   "execution_count": 25,
   "id": "54a21829",
   "metadata": {
    "execution": {
     "iopub.execute_input": "2022-03-18T16:58:59.744367Z",
     "iopub.status.busy": "2022-03-18T16:58:59.744114Z",
     "iopub.status.idle": "2022-03-18T16:58:59.869404Z",
     "shell.execute_reply": "2022-03-18T16:58:59.869824Z"
    },
    "papermill": {
     "duration": 0.165333,
     "end_time": "2022-03-18T16:58:59.869955",
     "exception": false,
     "start_time": "2022-03-18T16:58:59.704622",
     "status": "completed"
    },
    "tags": []
   },
   "outputs": [
    {
     "data": {
      "image/png": "[encoded data removed]",
      "text/plain": [
       "<Figure size 1080x504 with 1 Axes>"
      ]
     },
     "metadata": {
      "needs_background": "light"
     },
     "output_type": "display_data"
    }
   ],
   "source": [
    "ax = get_loss_curve(experiment)\n",
    "plt.show()"
   ]
  },
  {
   "cell_type": "code",
   "execution_count": 26,
   "id": "fd8a0f60",
   "metadata": {
    "execution": {
     "iopub.execute_input": "2022-03-18T16:58:59.953650Z",
     "iopub.status.busy": "2022-03-18T16:58:59.953406Z",
     "iopub.status.idle": "2022-03-18T16:59:00.098787Z",
     "shell.execute_reply": "2022-03-18T16:59:00.099018Z"
    },
    "papermill": {
     "duration": 0.185949,
     "end_time": "2022-03-18T16:59:00.099103",
     "exception": false,
     "start_time": "2022-03-18T16:58:59.913154",
     "status": "completed"
    },
    "tags": []
   },
   "outputs": [
    {
     "data": {
      "text/plain": [
       "<AxesSubplot:title={'center':'Results'}>"
      ]
     },
     "execution_count": 26,
     "metadata": {},
     "output_type": "execute_result"
    },
    {
     "data": {
      "image/png": "[encoded data removed]",
      "text/plain": [
       "<Figure size 1080x504 with 1 Axes>"
      ]
     },
     "metadata": {
      "needs_background": "light"
     },
     "output_type": "display_data"
    }
   ],
   "source": [
    "get_results_table(experiment)"
   ]
  },
  {
   "cell_type": "code",
   "execution_count": 27,
   "id": "cf8dc689",
   "metadata": {
    "execution": {
     "iopub.execute_input": "2022-03-18T16:59:00.183137Z",
     "iopub.status.busy": "2022-03-18T16:59:00.182498Z",
     "iopub.status.idle": "2022-03-18T16:59:00.345456Z",
     "shell.execute_reply": "2022-03-18T16:59:00.345869Z"
    },
    "papermill": {
     "duration": 0.20483,
     "end_time": "2022-03-18T16:59:00.345999",
     "exception": false,
     "start_time": "2022-03-18T16:59:00.141169",
     "status": "completed"
    },
    "tags": []
   },
   "outputs": [
    {
     "data": {
      "text/plain": [
       "<AxesSubplot:title={'center':'Per Domain Validation Accuracy'}, xlabel='domain'>"
      ]
     },
     "execution_count": 27,
     "metadata": {},
     "output_type": "execute_result"
    },
    {
     "data": {
      "image/png": "[encoded data removed]",
      "text/plain": [
       "<Figure size 1080x504 with 1 Axes>"
      ]
     },
     "metadata": {
      "needs_background": "light"
     },
     "output_type": "display_data"
    }
   ],
   "source": [
    "get_domain_accuracies(experiment)"
   ]
  },
  {
   "cell_type": "code",
   "execution_count": 28,
   "id": "a74ae082",
   "metadata": {
    "execution": {
     "iopub.execute_input": "2022-03-18T16:59:00.432284Z",
     "iopub.status.busy": "2022-03-18T16:59:00.432020Z",
     "iopub.status.idle": "2022-03-18T16:59:00.450132Z",
     "shell.execute_reply": "2022-03-18T16:59:00.449719Z"
    },
    "papermill": {
     "duration": 0.060677,
     "end_time": "2022-03-18T16:59:00.450239",
     "exception": false,
     "start_time": "2022-03-18T16:59:00.389562",
     "status": "completed"
    },
    "tags": []
   },
   "outputs": [
    {
     "name": "stdout",
     "output_type": "stream",
     "text": [
      "Source Test Label Accuracy: 0.8135091145833333 Target Test Label Accuracy: 0.5925687285223368\n",
      "Source Val Label Accuracy: 0.8112955729166667 Target Val Label Accuracy: 0.585803264604811\n"
     ]
    }
   ],
   "source": [
    "print(\"Source Test Label Accuracy:\", experiment[\"results\"][\"source_test_label_accuracy\"], \"Target Test Label Accuracy:\", experiment[\"results\"][\"target_test_label_accuracy\"])\n",
    "print(\"Source Val Label Accuracy:\", experiment[\"results\"][\"source_val_label_accuracy\"], \"Target Val Label Accuracy:\", experiment[\"results\"][\"target_val_label_accuracy\"])"
   ]
  },
  {
   "cell_type": "code",
   "execution_count": 29,
   "id": "dacca602",
   "metadata": {
    "execution": {
     "iopub.execute_input": "2022-03-18T16:59:00.538002Z",
     "iopub.status.busy": "2022-03-18T16:59:00.537745Z",
     "iopub.status.idle": "2022-03-18T16:59:00.558682Z",
     "shell.execute_reply": "2022-03-18T16:59:00.559084Z"
    },
    "papermill": {
     "duration": 0.063527,
     "end_time": "2022-03-18T16:59:00.559210",
     "exception": false,
     "start_time": "2022-03-18T16:59:00.495683",
     "status": "completed"
    },
    "tags": [
     "experiment_json"
    ]
   },
   "outputs": [
    {
     "data": {
      "text/plain": [
       "'{\"experiment_name\": \"tl_3A:oracle.run1.framed -> cores+wisig\", \"parameters\": {\"experiment_name\": \"tl_3A:oracle.run1.framed -> cores+wisig\", \"device\": \"cuda\", \"lr\": 0.001, \"seed\": 420, \"dataset_seed\": 420, \"x_shape\": [2, 200], \"n_shot\": 3, \"n_query\": 2, \"train_k_factor\": 3, \"val_k_factor\": 2, \"test_k_factor\": 2, \"torch_default_dtype\": \"torch.float32\", \"n_epoch\": 50, \"patience\": 3, \"criteria_for_best\": \"target_loss\", \"x_net\": [{\"class\": \"nnReshape\", \"kargs\": {\"shape\": [-1, 1, 2, 200]}}, {\"class\": \"Conv2d\", \"kargs\": {\"in_channels\": 1, \"out_channels\": 256, \"kernel_size\": [1, 7], \"bias\": false, \"padding\": [0, 3]}}, {\"class\": \"ReLU\", \"kargs\": {\"inplace\": true}}, {\"class\": \"BatchNorm2d\", \"kargs\": {\"num_features\": 256}}, {\"class\": \"Conv2d\", \"kargs\": {\"in_channels\": 256, \"out_channels\": 80, \"kernel_size\": [2, 7], \"bias\": true, \"padding\": [0, 3]}}, {\"class\": \"ReLU\", \"kargs\": {\"inplace\": true}}, {\"class\": \"BatchNorm2d\", \"kargs\": {\"num_features\": 80}}, {\"class\": \"Flatten\", \"kargs\": {}}, {\"class\": \"Linear\", \"kargs\": {\"in_features\": 16000, \"out_features\": 256}}, {\"class\": \"ReLU\", \"kargs\": {\"inplace\": true}}, {\"class\": \"BatchNorm1d\", \"kargs\": {\"num_features\": 256}}, {\"class\": \"Linear\", \"kargs\": {\"in_features\": 256, \"out_features\": 256}}], \"NUM_LOGS_PER_EPOCH\": 10, \"BEST_MODEL_PATH\": \"./best_model.pth\", \"n_way\": 16, \"datasets\": [{\"labels\": [\"1-10.\", \"1-11.\", \"1-15.\", \"1-16.\", \"1-17.\", \"1-18.\", \"1-19.\", \"10-4.\", \"10-7.\", \"11-1.\", \"11-14.\", \"11-17.\", \"11-20.\", \"11-7.\", \"13-20.\", \"13-8.\", \"14-10.\", \"14-11.\", \"14-14.\", \"14-7.\", \"15-1.\", \"15-20.\", \"16-1.\", \"16-16.\", \"17-10.\", \"17-11.\", \"17-2.\", \"19-1.\", \"19-16.\", \"19-19.\", \"19-20.\", \"19-3.\", \"2-10.\", \"2-11.\", \"2-17.\", \"2-18.\", \"2-20.\", \"2-3.\", \"2-4.\", \"2-5.\", \"2-6.\", \"2-7.\", \"2-8.\", \"3-13.\", \"3-18.\", \"3-3.\", \"4-1.\", \"4-10.\", \"4-11.\", \"4-19.\", \"5-5.\", \"6-15.\", \"7-10.\", \"7-14.\", \"8-18.\", \"8-20.\", \"8-3.\", \"8-8.\"], \"domains\": [1, 2, 3, 4, 5], \"num_examples_per_domain_per_label\": 100, \"pickle_path\": \"/mnt/wd500GB/CSC500/csc500-main/datasets/cores.stratified_ds.2022A.pkl\", \"source_or_target_dataset\": \"target\", \"x_transforms\": [\"unit_power\", \"take_200\"], \"episode_transforms\": [], \"domain_prefix\": \"C_A_\"}, {\"labels\": [\"1-10\", \"1-12\", \"1-14\", \"1-16\", \"1-18\", \"1-19\", \"1-8\", \"10-11\", \"10-17\", \"10-4\", \"10-7\", \"11-1\", \"11-10\", \"11-19\", \"11-20\", \"11-4\", \"11-7\", \"12-19\", \"12-20\", \"12-7\", \"13-14\", \"13-18\", \"13-19\", \"13-20\", \"13-3\", \"13-7\", \"14-10\", \"14-11\", \"14-12\", \"14-13\", \"14-14\", \"14-19\", \"14-20\", \"14-7\", \"14-8\", \"14-9\", \"15-1\", \"15-19\", \"15-6\", \"16-1\", \"16-16\", \"16-19\", \"16-20\", \"17-10\", \"17-11\", \"18-1\", \"18-10\", \"18-11\", \"18-12\", \"18-13\", \"18-14\", \"18-15\", \"18-16\", \"18-17\", \"18-19\", \"18-2\", \"18-20\", \"18-4\", \"18-5\", \"18-7\", \"18-8\", \"18-9\", \"19-1\", \"19-10\", \"19-11\", \"19-12\", \"19-13\", \"19-14\", \"19-15\", \"19-19\", \"19-2\", \"19-20\", \"19-3\", \"19-4\", \"19-6\", \"19-7\", \"19-8\", \"19-9\", \"2-1\", \"2-13\", \"2-15\", \"2-3\", \"2-4\", \"2-5\", \"2-6\", \"2-7\", \"2-8\", \"20-1\", \"20-12\", \"20-14\", \"20-15\", \"20-16\", \"20-18\", \"20-19\", \"20-20\", \"20-3\", \"20-4\", \"20-5\", \"20-7\", \"20-8\", \"3-1\", \"3-13\", \"3-18\", \"3-2\", \"3-8\", \"4-1\", \"4-10\", \"4-11\", \"5-1\", \"5-5\", \"6-1\", \"6-15\", \"6-6\", \"7-10\", \"7-11\", \"7-12\", \"7-13\", \"7-14\", \"7-7\", \"7-8\", \"7-9\", \"8-1\", \"8-13\", \"8-14\", \"8-18\", \"8-20\", \"8-3\", \"8-8\", \"9-1\", \"9-7\"], \"domains\": [1, 2, 3, 4], \"num_examples_per_domain_per_label\": 100, \"pickle_path\": \"/mnt/wd500GB/CSC500/csc500-main/datasets/wisig.node3-19.stratified_ds.2022A.pkl\", \"source_or_target_dataset\": \"target\", \"x_transforms\": [\"unit_power\", \"take_200\"], \"episode_transforms\": [], \"domain_prefix\": \"W_A_\"}, {\"labels\": [\"3123D52\", \"3123D65\", \"3123D79\", \"3123D80\", \"3123D54\", \"3123D70\", \"3123D7B\", \"3123D89\", \"3123D58\", \"3123D76\", \"3123D7D\", \"3123EFE\", \"3123D64\", \"3123D78\", \"3123D7E\", \"3124E4A\"], \"domains\": [32, 38, 8, 44, 14, 50, 20, 26], \"num_examples_per_domain_per_label\": 2000, \"pickle_path\": \"/mnt/wd500GB/CSC500/csc500-main/datasets/oracle.Run1_framed_2000Examples_stratified_ds.2022A.pkl\", \"source_or_target_dataset\": \"source\", \"x_transforms\": [\"unit_power\", \"take_200\", \"resample_20Msps_to_25Msps\"], \"episode_transforms\": [], \"domain_prefix\": \"ORACLE.run1_\"}], \"domains_source\": [\"ORACLE.run1_32\", \"ORACLE.run1_38\", \"ORACLE.run1_8\", \"ORACLE.run1_44\", \"ORACLE.run1_14\", \"ORACLE.run1_50\", \"ORACLE.run1_20\", \"ORACLE.run1_26\"], \"domains_target\": [\"C_A_1\", \"C_A_2\", \"C_A_3\", \"C_A_4\", \"C_A_5\", \"W_A_1\", \"W_A_2\", \"W_A_3\", \"W_A_4\"]}, \"results\": {\"source_test_label_accuracy\": 0.8135091145833333, \"source_test_label_loss\": 0.5304514765739441, \"target_test_label_accuracy\": 0.5925687285223368, \"target_test_label_loss\": 254.7874298095703, \"source_val_label_accuracy\": 0.8112955729166667, \"source_val_label_loss\": 0.5302674770355225, \"target_val_label_accuracy\": 0.585803264604811, \"target_val_label_loss\": 247.50875854492188, \"total_epochs_trained\": 11, \"total_experiment_time_secs\": 1790.888041973114, \"confusion\": {\"ORACLE.run1_14\": {\"15\": {\"15\": 240}, \"5\": {\"5\": 186, \"4\": 30, \"1\": 12, \"2\": 5, \"3\": 7}, \"7\": {\"7\": 240}, \"4\": {\"4\": 221, \"5\": 12, \"1\": 7}, \"10\": {\"10\": 240}, \"11\": {\"11\": 228, \"9\": 5, \"0\": 7}, \"12\": {\"12\": 240}, \"0\": {\"0\": 228, \"3\": 5, \"10\": 5, \"8\": 2}, \"14\": {\"14\": 209, \"13\": 8, \"2\": 19, \"6\": 2, \"3\": 2}, \"8\": {\"8\": 240}, \"13\": {\"6\": 87, \"13\": 94, \"14\": 28, \"2\": 25, \"3\": 2, \"5\": 3, \"4\": 1}, \"6\": {\"13\": 67, \"6\": 164, \"2\": 8, \"14\": 1}, \"1\": {\"1\": 223, \"5\": 15, \"4\": 2}, \"3\": {\"3\": 234, \"2\": 2, \"14\": 2, \"5\": 2}, \"9\": {\"9\": 240}, \"2\": {\"2\": 126, \"13\": 16, \"4\": 2, \"5\": 26, \"14\": 30, \"6\": 11, \"15\": 1, \"3\": 27, \"1\": 1}}, \"ORACLE.run1_20\": {\"4\": {\"4\": 218, \"8\": 13, \"3\": 4, \"12\": 2, \"7\": 1, \"10\": 1, \"14\": 1}, \"10\": {\"10\": 233, \"14\": 7}, \"15\": {\"15\": 182, \"0\": 24, \"12\": 1, \"5\": 7, \"1\": 21, \"13\": 5}, \"0\": {\"0\": 155, \"5\": 51, \"15\": 33, \"8\": 1}, \"6\": {\"6\": 226, \"14\": 13, \"7\": 1}, \"3\": {\"3\": 141, \"9\": 39, \"2\": 8, \"12\": 39, \"4\": 6, \"1\": 1, \"7\": 5, \"5\": 1}, \"7\": {\"7\": 209, \"8\": 3, \"2\": 19, \"3\": 6, \"9\": 3}, \"2\": {\"2\": 145, \"7\": 19, \"9\": 52, \"3\": 9, \"12\": 8, \"1\": 2, \"13\": 5}, \"8\": {\"8\": 215, \"4\": 17, \"14\": 1, \"7\": 7}, \"11\": {\"11\": 240}, \"14\": {\"14\": 218, \"8\": 3, \"6\": 13, \"10\": 6}, \"12\": {\"12\": 135, \"3\": 39, \"9\": 15, \"1\": 37, \"2\": 10, \"5\": 3, \"7\": 1}, \"13\": {\"13\": 230, \"2\": 9, \"15\": 1}, \"9\": {\"9\": 149, \"2\": 52, \"12\": 12, \"3\": 27}, \"5\": {\"0\": 41, \"5\": 179, \"1\": 7, \"3\": 1, \"12\": 4, \"15\": 8}, \"1\": {\"1\": 156, \"12\": 53, \"5\": 14, \"15\": 12, \"3\": 3, \"13\": 1, \"9\": 1}}, \"ORACLE.run1_50\": {\"5\": {\"5\": 140, \"7\": 35, \"13\": 18, \"4\": 35, \"10\": 1, \"1\": 8, \"6\": 1, \"15\": 2}, \"12\": {\"12\": 218, \"9\": 7, \"11\": 13, \"14\": 2}, \"14\": {\"14\": 239, \"11\": 1}, \"4\": {\"4\": 154, \"7\": 5, \"15\": 38, \"1\": 7, \"5\": 29, \"6\": 3, \"13\": 3, \"11\": 1}, \"13\": {\"10\": 12, \"13\": 195, \"5\": 10, \"7\": 11, \"6\": 11, \"1\": 1}, \"10\": {\"10\": 221, \"13\": 3, \"0\": 11, \"8\": 5}, \"9\": {\"9\": 224, \"11\": 6, \"12\": 10}, \"15\": {\"15\": 195, \"1\": 31, \"6\": 1, \"4\": 6, \"11\": 7}, \"6\": {\"6\": 210, \"13\": 14, \"7\": 4, \"1\": 2, \"15\": 6, \"4\": 3, \"5\": 1}, \"2\": {\"2\": 221, \"0\": 19}, \"0\": {\"0\": 201, \"10\": 18, \"2\": 21}, \"11\": {\"11\": 222, \"12\": 10, \"14\": 2, \"9\": 3, \"15\": 3}, \"3\": {\"3\": 234, \"8\": 6}, \"8\": {\"8\": 238, \"3\": 2}, \"7\": {\"7\": 204, \"13\": 11, \"5\": 14, \"8\": 2, \"4\": 1, \"6\": 8}, \"1\": {\"1\": 207, \"11\": 2, \"5\": 2, \"15\": 24, \"13\": 1, \"4\": 3, \"6\": 1}}, \"ORACLE.run1_26\": {\"7\": {\"7\": 165, \"15\": 2, \"4\": 15, \"2\": 23, \"8\": 10, \"3\": 17, \"0\": 6, \"14\": 2}, \"6\": {\"6\": 204, \"9\": 18, \"10\": 4, \"8\": 3, \"15\": 10, \"0\": 1}, \"14\": {\"14\": 129, \"0\": 44, \"4\": 28, \"1\": 15, \"8\": 8, \"10\": 15, \"7\": 1}, \"15\": {\"5\": 11, \"9\": 57, \"15\": 133, \"8\": 10, \"0\": 4, \"13\": 10, \"10\": 6, \"6\": 5, \"7\": 2, \"2\": 2}, \"5\": {\"5\": 195, \"15\": 7, \"9\": 4, \"13\": 14, \"2\": 14, \"8\": 4, \"3\": 1, \"7\": 1}, \"10\": {\"10\": 117, \"0\": 66, \"8\": 25, \"14\": 16, \"6\": 6, \"4\": 5, \"15\": 2, \"1\": 2, \"9\": 1}, \"4\": {\"4\": 159, \"0\": 16, \"8\": 15, \"14\": 26, \"10\": 5, \"7\": 10, \"1\": 9}, \"11\": {\"11\": 240}, \"13\": {\"13\": 197, \"15\": 4, \"9\": 6, \"5\": 26, \"2\": 6, \"3\": 1}, \"2\": {\"5\": 21, \"2\": 113, \"3\": 63, \"7\": 28, \"0\": 1, \"8\": 3, \"9\": 3, \"15\": 6, \"1\": 1, \"13\": 1}, \"0\": {\"10\": 72, \"8\": 14, \"14\": 28, \"4\": 23, \"6\": 2, \"0\": 93, \"7\": 5, \"1\": 2, \"15\": 1}, \"12\": {\"12\": 240}, \"3\": {\"2\": 47, \"3\": 180, \"7\": 13}, \"9\": {\"9\": 147, \"6\": 11, \"15\": 68, \"10\": 3, \"8\": 5, \"0\": 1, \"2\": 1, \"5\": 2, \"13\": 2}, \"8\": {\"7\": 17, \"4\": 31, \"8\": 110, \"0\": 28, \"5\": 1, \"10\": 34, \"9\": 3, \"14\": 4, \"6\": 2, \"1\": 1, \"2\": 4, \"15\": 5}, \"1\": {\"1\": 200, \"14\": 30, \"3\": 2, \"4\": 8}}, \"ORACLE.run1_32\": {\"7\": {\"7\": 162, \"13\": 7, \"5\": 39, \"0\": 4, \"11\": 1, \"4\": 14, \"14\": 12, \"2\": 1}, \"2\": {\"2\": 188, \"4\": 48, \"7\": 2, \"13\": 2}, \"5\": {\"7\": 57, \"5\": 132, \"13\": 20, \"8\": 9, \"4\": 10, \"14\": 5, \"2\": 1, \"0\": 1, \"3\": 4, \"11\": 1}, \"6\": {\"6\": 240}, \"13\": {\"13\": 185, \"3\": 20, \"8\": 5, \"0\": 2, \"4\": 10, \"7\": 8, \"5\": 8, \"14\": 1, \"11\": 1}, \"4\": {\"2\": 46, \"4\": 172, \"7\": 10, \"13\": 9, \"5\": 2, \"0\": 1}, \"3\": {\"3\": 231, \"13\": 6, \"11\": 2, \"5\": 1}, \"0\": {\"0\": 193, \"8\": 23, \"13\": 3, \"14\": 14, \"5\": 3, \"7\": 3, \"2\": 1}, \"9\": {\"9\": 240}, \"12\": {\"12\": 240}, \"8\": {\"8\": 182, \"0\": 34, \"14\": 4, \"13\": 10, \"5\": 6, \"3\": 3, \"7\": 1}, \"14\": {\"8\": 2, \"14\": 183, \"0\": 22, \"5\": 4, \"11\": 23, \"3\": 3, \"13\": 1, \"7\": 2}, \"15\": {\"15\": 239, \"8\": 1}, \"11\": {\"11\": 232, \"3\": 2, \"14\": 5, \"13\": 1}, \"10\": {\"10\": 238, \"1\": 2}, \"1\": {\"1\": 238, \"10\": 2}}, \"ORACLE.run1_44\": {\"11\": {\"11\": 231, \"13\": 5, \"6\": 4}, \"7\": {\"9\": 47, \"7\": 164, \"10\": 1, \"2\": 22, \"6\": 4, \"13\": 1, \"1\": 1}, \"6\": {\"6\": 164, \"13\": 39, \"9\": 29, \"7\": 8}, \"12\": {\"12\": 213, \"1\": 24, \"10\": 1, \"3\": 2}, \"4\": {\"14\": 84, \"4\": 152, \"15\": 4}, \"13\": {\"9\": 32, \"6\": 57, \"13\": 146, \"11\": 3, \"4\": 1, \"7\": 1}, \"8\": {\"8\": 162, \"0\": 63, \"15\": 8, \"5\": 7}, \"5\": {\"5\": 210, \"0\": 18, \"14\": 5, \"15\": 3, \"8\": 4}, \"14\": {\"15\": 23, \"14\": 133, \"4\": 83, \"5\": 1}, \"3\": {\"3\": 217, \"12\": 4, \"1\": 19}, \"10\": {\"10\": 189, \"1\": 24, \"2\": 18, \"12\": 8, \"7\": 1}, \"1\": {\"1\": 159, \"3\": 18, \"12\": 38, \"10\": 15, \"2\": 10}, \"2\": {\"2\": 202, \"10\": 5, \"3\": 2, \"1\": 9, \"7\": 20, \"9\": 1, \"12\": 1}, \"15\": {\"15\": 186, \"14\": 21, \"0\": 12, \"8\": 7, \"4\": 8, \"5\": 6}, \"9\": {\"7\": 57, \"2\": 3, \"9\": 122, \"13\": 26, \"6\": 32}, \"0\": {\"8\": 62, \"5\": 11, \"0\": 156, \"15\": 11}}, \"ORACLE.run1_8\": {\"10\": {\"10\": 193, \"14\": 36, \"4\": 1, \"13\": 9, \"5\": 1}, \"6\": {\"7\": 45, \"6\": 167, \"4\": 22, \"13\": 5, \"0\": 1}, \"13\": {\"6\": 7, \"13\": 100, \"10\": 38, \"4\": 41, \"0\": 43, \"14\": 10, \"7\": 1}, \"3\": {\"3\": 231, \"12\": 1, \"2\": 8}, \"9\": {\"9\": 240}, \"1\": {\"1\": 233, \"11\": 5, \"5\": 2}, \"5\": {\"5\": 230, \"1\": 3, \"14\": 1, \"10\": 6}, \"11\": {\"11\": 216, \"1\": 22, \"14\": 2}, \"4\": {\"4\": 178, \"13\": 39, \"6\": 11, \"14\": 10, \"10\": 2}, \"14\": {\"10\": 34, \"14\": 171, \"4\": 16, \"1\": 7, \"13\": 12}, \"12\": {\"12\": 158, \"15\": 58, \"8\": 5, \"3\": 18, \"2\": 1}, \"7\": {\"7\": 194, \"6\": 42, \"0\": 3, \"3\": 1}, \"0\": {\"0\": 187, \"7\": 10, \"13\": 30, \"6\": 9, \"4\": 3, \"10\": 1}, \"15\": {\"15\": 204, \"12\": 33, \"8\": 3}, \"2\": {\"3\": 11, \"2\": 219, \"15\": 4, \"7\": 4, \"12\": 2}, \"8\": {\"8\": 240}}, \"ORACLE.run1_38\": {\"4\": {\"4\": 237, \"10\": 2, \"12\": 1}, \"7\": {\"7\": 188, \"8\": 9, \"5\": 35, \"9\": 1, \"0\": 4, \"6\": 1, \"10\": 2}, \"12\": {\"12\": 239, \"4\": 1}, \"10\": {\"7\": 5, \"10\": 200, \"0\": 8, \"15\": 1, \"13\": 22, \"4\": 1, \"8\": 2, \"11\": 1}, \"0\": {\"0\": 179, \"8\": 24, \"7\": 13, \"5\": 10, \"13\": 2, \"3\": 6, \"10\": 4, \"4\": 2}, \"1\": {\"1\": 232, \"15\": 8}, \"5\": {\"7\": 46, \"5\": 111, \"13\": 2, \"8\": 58, \"9\": 9, \"6\": 9, \"0\": 2, \"15\": 2, \"3\": 1}, \"15\": {\"15\": 193, \"5\": 5, \"1\": 20, \"8\": 19, \"13\": 3}, \"9\": {\"9\": 231, \"6\": 6, \"5\": 3}, \"11\": {\"11\": 238, \"14\": 2}, \"14\": {\"14\": 224, \"2\": 15, \"12\": 1}, \"6\": {\"6\": 237, \"5\": 1, \"9\": 2}, \"8\": {\"8\": 165, \"0\": 5, \"5\": 42, \"7\": 15, \"15\": 8, \"10\": 2, \"1\": 1, \"13\": 2}, \"3\": {\"9\": 2, \"3\": 231, \"0\": 4, \"11\": 2, \"10\": 1}, \"2\": {\"2\": 223, \"13\": 4, \"14\": 13}, \"13\": {\"13\": 204, \"10\": 24, \"2\": 7, \"0\": 2, \"5\": 1, \"8\": 1, \"15\": 1}}, \"C_A_4\": {\"42\": {\"42\": 12}, \"0\": {\"0\": 7, \"46\": 1, \"47\": 1, \"22\": 1}, \"1\": {\"1\": 8, \"14\": 2, \"39\": 1, \"52\": 1}, \"39\": {\"39\": 12}, \"28\": {\"28\": 6, \"9\": 1, \"40\": 2, \"34\": 1}, \"53\": {\"53\": 9, \"51\": 2, \"21\": 1}, \"19\": {\"19\": 8, \"40\": 1, \"44\": 2, \"33\": 1}, \"34\": {\"28\": 1, \"34\": 10, \"54\": 1}, \"33\": {\"33\": 11, \"40\": 1}, \"32\": {\"32\": 7, \"39\": 1, \"46\": 2, \"55\": 1, \"41\": 1}, \"10\": {\"10\": 7, \"16\": 1, \"43\": 4}, \"46\": {\"46\": 2, \"39\": 1, \"56\": 1, \"32\": 1, \"0\": 2, \"11\": 1, \"43\": 1, \"57\": 1, \"55\": 2}, \"20\": {\"53\": 1, \"20\": 7}, \"5\": {\"39\": 2, \"47\": 2, \"5\": 6}, \"40\": {\"19\": 2, \"29\": 2, \"40\": 7, \"44\": 1}, \"51\": {\"51\": 9, \"53\": 2, \"20\": 1}, \"37\": {\"37\": 9, \"46\": 2, \"49\": 1}, \"17\": {\"17\": 11, \"27\": 1}, \"45\": {\"45\": 10, \"9\": 2}, \"13\": {\"24\": 1, \"13\": 7, \"43\": 2, \"2\": 2}, \"27\": {\"27\": 11, \"17\": 1}, \"24\": {\"24\": 8}, \"30\": {\"30\": 11, \"8\": 1}, \"31\": {\"31\": 9, \"55\": 1}, \"41\": {\"41\": 7, \"1\": 1, \"23\": 1, \"37\": 1}, \"36\": {\"36\": 11, \"50\": 1}, \"16\": {\"16\": 9, \"46\": 1}, \"22\": {\"24\": 1, \"22\": 11}, \"44\": {\"9\": 2, \"44\": 7, \"50\": 1, \"29\": 1, \"26\": 1}, \"9\": {\"17\": 1, \"44\": 1, \"9\": 8, \"45\": 1, \"19\": 1}, \"57\": {\"57\": 7, \"14\": 2, \"47\": 2, \"29\": 1}, \"8\": {\"8\": 8, \"21\": 1, \"30\": 1}, \"23\": {\"23\": 10}, \"47\": {\"47\": 9, \"23\": 2, \"5\": 1}, \"43\": {\"43\": 11, \"10\": 1}, \"49\": {\"47\": 1, \"49\": 9, \"5\": 1, \"2\": 1}, \"3\": {\"3\": 7, \"25\": 2, \"6\": 3}, \"12\": {\"12\": 12}, \"38\": {\"38\": 12}, \"7\": {\"7\": 12}, \"26\": {\"26\": 8, \"55\": 1, \"50\": 2, \"48\": 1}, \"29\": {\"57\": 1, \"29\": 7, \"40\": 2, \"52\": 1, \"19\": 1}, \"48\": {\"48\": 9, \"54\": 1}, \"56\": {\"56\": 7, \"14\": 1, \"7\": 1, \"1\": 1, \"38\": 1, \"0\": 1}, \"15\": {\"15\": 8, \"11\": 4}, \"50\": {\"26\": 1, \"53\": 1, \"50\": 5, \"8\": 1, \"17\": 1, \"51\": 1, \"9\": 1, \"36\": 1}, \"2\": {\"2\": 10}, \"55\": {\"55\": 3, \"5\": 1, \"1\": 1, \"34\": 1, \"54\": 2, \"26\": 2}, \"21\": {\"21\": 11, \"53\": 1}, \"52\": {\"52\": 12}, \"18\": {\"18\": 12}, \"14\": {\"38\": 2, \"14\": 3, \"0\": 2, \"1\": 2, \"22\": 2, \"46\": 1}, \"35\": {\"14\": 1, \"35\": 6, \"47\": 1}, \"4\": {\"4\": 9, \"9\": 1}, \"25\": {\"25\": 6, \"34\": 1, \"54\": 1}, \"11\": {\"11\": 3, \"15\": 3}, \"54\": {\"54\": 6}, \"6\": {\"6\": 4, \"3\": 3, \"19\": 1}}, \"C_A_5\": {\"43\": {\"43\": 6}, \"35\": {\"35\": 12}, \"54\": {\"54\": 12}, \"22\": {\"22\": 9, \"49\": 1, \"44\": 1, \"40\": 1}, \"16\": {\"16\": 8}, \"5\": {\"5\": 7, \"40\": 1, \"34\": 1, \"33\": 1, \"44\": 2}, \"28\": {\"28\": 8, \"5\": 1, \"34\": 1, \"40\": 2}, \"14\": {\"28\": 2, \"14\": 4, \"39\": 1, \"46\": 1, \"57\": 2, \"41\": 1, \"29\": 1}, \"51\": {\"51\": 6, \"17\": 1, \"27\": 1}, \"19\": {\"19\": 11, \"5\": 1}, \"31\": {\"31\": 12}, \"10\": {\"10\": 11, \"24\": 1}, \"21\": {\"21\": 12}, \"3\": {\"3\": 2, \"57\": 2, \"0\": 1, \"46\": 3, \"2\": 1, \"54\": 1, \"47\": 1, \"10\": 1}, \"57\": {\"57\": 12}, \"9\": {\"9\": 10, \"1\": 1, \"27\": 1}, \"8\": {\"8\": 12}, \"46\": {\"46\": 5, \"52\": 1, \"16\": 1, \"47\": 1, \"43\": 1, \"14\": 1}, \"23\": {\"23\": 9, \"53\": 1, \"42\": 2}, \"37\": {\"37\": 12}, \"34\": {\"34\": 10, \"29\": 1, \"40\": 1}, \"4\": {\"4\": 10, \"20\": 1, \"19\": 1}, \"6\": {\"6\": 7, \"45\": 2, \"50\": 1, \"55\": 2}, \"48\": {\"48\": 11, \"9\": 1}, \"44\": {\"5\": 3, \"44\": 7, \"2\": 1, \"29\": 1}, \"40\": {\"40\": 8, \"42\": 1, \"34\": 2, \"33\": 1}, \"12\": {\"12\": 10, \"26\": 1, \"7\": 1}, \"30\": {\"30\": 12}, \"39\": {\"39\": 10}, \"45\": {\"45\": 9, \"17\": 1, \"6\": 1, \"7\": 1}, \"36\": {\"36\": 11, \"3\": 1}, \"27\": {\"27\": 9, \"1\": 1, \"4\": 1, \"48\": 1}, \"32\": {\"32\": 7, \"34\": 2, \"55\": 1}, \"52\": {\"52\": 12}, \"0\": {\"46\": 2, \"37\": 2, \"0\": 7, \"47\": 1}, \"26\": {\"26\": 6, \"48\": 1, \"6\": 1}, \"47\": {\"47\": 9, \"42\": 1, \"23\": 1, \"57\": 1}, \"17\": {\"17\": 9, \"7\": 1}, \"2\": {\"2\": 8, \"3\": 1, \"14\": 1}, \"56\": {\"56\": 6, \"31\": 1, \"22\": 1}, \"38\": {\"38\": 12}, \"50\": {\"50\": 5, \"21\": 1, \"53\": 1, \"25\": 2, \"54\": 1}, \"20\": {\"21\": 2, \"20\": 9, \"51\": 1}, \"1\": {\"21\": 1, \"1\": 7, \"41\": 1, \"55\": 1, \"50\": 1, \"32\": 1}, \"24\": {\"24\": 11, \"10\": 1}, \"33\": {\"33\": 7, \"40\": 1}, \"13\": {\"13\": 10, \"10\": 2}, \"41\": {\"41\": 10, \"36\": 1, \"25\": 1}, \"49\": {\"49\": 12}, \"11\": {\"46\": 2, \"11\": 5, \"15\": 1, \"37\": 2}, \"42\": {\"42\": 9, \"41\": 1, \"25\": 2}, \"7\": {\"7\": 10, \"30\": 1, \"17\": 1}, \"29\": {\"34\": 1, \"29\": 9, \"23\": 1, \"28\": 1}, \"18\": {\"18\": 8}, \"55\": {\"55\": 6, \"45\": 2}, \"53\": {\"53\": 10}, \"25\": {\"25\": 8, \"54\": 1, \"42\": 1}, \"15\": {\"15\": 7, \"37\": 1}}, \"W_A_3\": {\"110\": {\"1\": 2, \"110\": 6, \"46\": 1, \"3\": 1, \"28\": 1, \"29\": 1}, \"1\": {\"1\": 7, \"74\": 2, \"114\": 1}, \"2\": {\"89\": 1, \"2\": 7, \"67\": 1, \"109\": 1, \"23\": 1, \"78\": 1}, \"94\": {\"94\": 4, \"22\": 1, \"34\": 1, \"15\": 2, \"35\": 1, \"8\": 1, \"25\": 1, \"108\": 1}, \"64\": {\"64\": 11, \"23\": 1}, \"78\": {\"2\": 2, \"21\": 1, \"56\": 1, \"87\": 1, \"19\": 1, \"78\": 2, \"118\": 1, \"42\": 1, \"33\": 1, \"101\": 1}, \"47\": {\"47\": 5, \"49\": 1, \"7\": 1, \"4\": 2, \"83\": 1, \"127\": 1, \"0\": 1}, \"127\": {\"127\": 7, \"103\": 1, \"49\": 1, \"95\": 1, \"4\": 2}, \"89\": {\"64\": 2, \"67\": 2, \"89\": 2, \"92\": 2, \"119\": 1, \"11\": 1, \"78\": 1, \"93\": 1}, \"79\": {\"79\": 11, \"57\": 1}, \"22\": {\"78\": 1, \"22\": 3, \"29\": 2, \"28\": 1, \"48\": 2, \"71\": 2, \"13\": 1}, \"117\": {\"117\": 11, \"118\": 1}, \"49\": {\"49\": 2, \"79\": 1, \"28\": 1, \"90\": 1, \"1\": 1, \"116\": 1, \"83\": 1, \"122\": 1, \"23\": 1, \"124\": 1, \"7\": 1}, \"14\": {\"79\": 1, \"14\": 7, \"93\": 1, \"50\": 2, \"29\": 1}, \"103\": {\"103\": 12}, \"123\": {\"123\": 8, \"92\": 1, \"96\": 1, \"13\": 2}, \"80\": {\"31\": 1, \"80\": 8, \"44\": 1, \"16\": 1, \"45\": 1}, \"63\": {\"118\": 1, \"63\": 7, \"67\": 2, \"61\": 1, \"21\": 1}, \"27\": {\"27\": 4, \"98\": 2, \"112\": 1, \"8\": 3, \"35\": 1, \"54\": 1}, \"17\": {\"80\": 1, \"17\": 4, \"67\": 1, \"116\": 1, \"99\": 1, \"14\": 1, \"2\": 1, \"103\": 1, \"43\": 1}, \"105\": {\"87\": 1, \"40\": 1, \"114\": 2, \"71\": 2, \"105\": 5, \"46\": 1}, \"40\": {\"40\": 10, \"84\": 1, \"4\": 1}, \"93\": {\"14\": 1, \"80\": 1, \"93\": 3, \"102\": 1, \"100\": 3, \"16\": 1, \"39\": 1, \"89\": 1}, \"98\": {\"98\": 10, \"7\": 2}, \"10\": {\"10\": 6, \"7\": 1, \"68\": 2, \"78\": 1, \"85\": 1, \"77\": 1}, \"3\": {\"40\": 1, \"19\": 1, \"3\": 4, \"53\": 1, \"85\": 1, \"42\": 1, \"110\": 1, \"57\": 1, \"86\": 1}, \"19\": {\"14\": 1, \"19\": 8, \"29\": 1, \"22\": 1, \"8\": 1}, \"31\": {\"31\": 8, \"80\": 1, \"29\": 1, \"119\": 1, \"116\": 1}, \"0\": {\"0\": 4, \"108\": 1, \"91\": 1, \"111\": 1, \"4\": 1, \"30\": 2, \"8\": 2}, \"118\": {\"118\": 8, \"90\": 1, \"2\": 1, \"121\": 1, \"67\": 1}, \"87\": {\"93\": 3, \"62\": 2, \"87\": 2, \"32\": 1, \"4\": 1, \"53\": 1, \"100\": 2}, \"58\": {\"72\": 2, \"58\": 4, \"97\": 1, \"51\": 2, \"70\": 1, \"52\": 1, \"124\": 1}, \"72\": {\"72\": 3, \"9\": 1, \"47\": 1, \"12\": 1, \"35\": 1, \"68\": 2, \"7\": 2, \"42\": 1}, \"129\": {\"129\": 5, \"40\": 1, \"50\": 1, \"104\": 1, \"45\": 1, \"38\": 1, \"87\": 2}, \"92\": {\"92\": 5, \"29\": 1, \"116\": 2, \"119\": 1, \"110\": 1, \"43\": 2}, \"39\": {\"39\": 6, \"21\": 1, \"81\": 1, \"13\": 2}, \"28\": {\"28\": 8, \"31\": 2, \"60\": 2}, \"29\": {\"129\": 1, \"28\": 3, \"29\": 5, \"110\": 2, \"78\": 1}, \"84\": {\"92\": 1, \"40\": 1, \"84\": 4, \"74\": 2, \"32\": 1, \"22\": 1, \"50\": 2}, \"102\": {\"102\": 5, \"92\": 1, \"62\": 1, \"82\": 2, \"119\": 2, \"23\": 1}, \"71\": {\"71\": 9, \"5\": 1, \"95\": 2}, \"100\": {\"40\": 2, \"100\": 5, \"93\": 2, \"50\": 1, \"90\": 1, \"62\": 1}, \"73\": {\"101\": 1, \"73\": 4, \"37\": 1, \"59\": 2, \"68\": 2, \"129\": 1, \"83\": 1}, \"16\": {\"84\": 1, \"16\": 8, \"45\": 1, \"33\": 1, \"93\": 1}, \"125\": {\"125\": 3, \"101\": 1, \"35\": 1, \"59\": 1, \"39\": 1, \"21\": 1, \"41\": 1, \"86\": 1, \"68\": 1, \"2\": 1}, \"21\": {\"21\": 8, \"61\": 1, \"126\": 1, \"121\": 1, \"48\": 1}, \"96\": {\"16\": 1, \"96\": 8, \"48\": 1, \"43\": 1, \"23\": 1}, \"4\": {\"4\": 3, \"122\": 1, \"9\": 1, \"38\": 1, \"114\": 1, \"35\": 1, \"124\": 1, \"85\": 1, \"105\": 2}, \"57\": {\"4\": 1, \"57\": 10, \"55\": 1}, \"126\": {\"21\": 2, \"126\": 6, \"61\": 1, \"92\": 2, \"13\": 1}, \"101\": {\"98\": 3, \"101\": 4, \"7\": 1, \"95\": 1, \"111\": 1, \"91\": 1, \"85\": 1}, \"122\": {\"122\": 7, \"32\": 1, \"74\": 1, \"55\": 1, \"5\": 2}, \"77\": {\"127\": 1, \"77\": 3, \"7\": 2, \"128\": 2, \"65\": 2, \"8\": 2}, \"56\": {\"42\": 1, \"85\": 1, \"55\": 1, \"95\": 1, \"99\": 1, \"52\": 2, \"56\": 1, \"124\": 1, \"20\": 1, \"128\": 1, \"7\": 1}, \"85\": {\"127\": 3, \"85\": 6, \"91\": 1, \"77\": 1, \"65\": 1}, \"70\": {\"49\": 1, \"56\": 2, \"70\": 3, \"118\": 1, \"34\": 1, \"28\": 1, \"99\": 1, \"85\": 1, \"64\": 1}, \"69\": {\"69\": 7, \"2\": 2, \"62\": 1, \"16\": 1, \"121\": 1}, \"106\": {\"77\": 2, \"106\": 4, \"34\": 1, \"72\": 1, \"52\": 1, \"30\": 1, \"58\": 2}, \"42\": {\"28\": 1, \"49\": 1, \"91\": 1, \"110\": 1, \"99\": 2, \"83\": 1, \"3\": 1, \"59\": 1, \"42\": 1, \"112\": 1, \"77\": 1}, \"24\": {\"91\": 1, \"24\": 3, \"12\": 2, \"75\": 1, \"59\": 1, \"35\": 1, \"41\": 1, \"99\": 1, \"65\": 1}, \"120\": {\"100\": 1, \"120\": 8, \"64\": 1}, \"108\": {\"108\": 6, \"86\": 1, \"53\": 1, \"88\": 2}, \"61\": {\"126\": 1, \"61\": 9, \"117\": 2}, \"91\": {\"91\": 4, \"19\": 2, \"57\": 1, \"85\": 2, \"95\": 1, \"101\": 1, \"98\": 1}, \"30\": {\"0\": 2, \"75\": 2, \"30\": 2, \"37\": 1, \"76\": 1, \"47\": 1, \"3\": 1, \"8\": 1, \"94\": 1}, \"114\": {\"46\": 2, \"100\": 1, \"114\": 5, \"5\": 1, \"122\": 1, \"4\": 1, \"40\": 1}, \"46\": {\"127\": 1, \"46\": 4, \"74\": 1, \"128\": 1, \"7\": 1, \"91\": 1, \"105\": 1}, \"124\": {\"51\": 1, \"88\": 1, \"5\": 2, \"8\": 1, \"124\": 3, \"96\": 1, \"85\": 1}, \"38\": {\"38\": 5, \"105\": 1, \"45\": 1, \"86\": 1, \"15\": 1, \"68\": 1, \"114\": 1, \"47\": 1}, \"51\": {\"51\": 5, \"37\": 2, \"4\": 1, \"59\": 1, \"97\": 1, \"0\": 1, \"95\": 1}, \"88\": {\"88\": 7, \"45\": 1, \"107\": 1, \"74\": 1, \"87\": 1, \"108\": 1}, \"112\": {\"110\": 1, \"112\": 6, \"35\": 1, \"81\": 1, \"3\": 2, \"42\": 1}, \"37\": {\"37\": 12}, \"36\": {\"51\": 1, \"36\": 2, \"12\": 1, \"35\": 1, \"59\": 1, \"6\": 1, \"8\": 2, \"7\": 1, \"72\": 1, \"91\": 1}, \"26\": {\"26\": 9, \"113\": 1, \"96\": 1, \"93\": 1}, \"45\": {\"45\": 3, \"16\": 3, \"116\": 1, \"92\": 1, \"107\": 1, \"80\": 1, \"2\": 1, \"48\": 1}, \"23\": {\"88\": 1, \"26\": 1, \"4\": 1, \"18\": 3, \"23\": 1, \"91\": 1, \"49\": 1, \"2\": 1, \"122\": 1, \"96\": 1}, \"43\": {\"21\": 1, \"43\": 2, \"113\": 1, \"62\": 1, \"96\": 1, \"121\": 1, \"92\": 1, \"16\": 2}, \"119\": {\"102\": 1, \"119\": 10, \"109\": 1}, \"95\": {\"95\": 10, \"127\": 1, \"105\": 1}, \"62\": {\"87\": 1, \"62\": 6, \"82\": 1, \"67\": 1, \"17\": 1, \"33\": 1, \"40\": 1}, \"7\": {\"7\": 10, \"10\": 1, \"124\": 1}, \"41\": {\"41\": 2, \"77\": 1, \"98\": 1, \"4\": 4, \"68\": 1, \"57\": 1, \"122\": 1, \"43\": 1}, \"67\": {\"89\": 1, \"67\": 8, \"120\": 1, \"78\": 1, \"113\": 1}, \"50\": {\"50\": 7, \"129\": 1, \"107\": 1, \"55\": 1, \"100\": 1, \"40\": 1}, \"9\": {\"98\": 1, \"9\": 3, \"104\": 1, \"79\": 2, \"28\": 1, \"4\": 1, \"124\": 1, \"105\": 2}, \"82\": {\"82\": 7, \"102\": 2, \"63\": 1, \"69\": 2}, \"81\": {\"17\": 2, \"113\": 1, \"18\": 2, \"81\": 3, \"28\": 1, \"21\": 1, \"117\": 1, \"67\": 1}, \"97\": {\"98\": 1, \"72\": 1, \"4\": 2, \"15\": 1, \"108\": 1, \"68\": 1, \"10\": 1, \"8\": 1, \"97\": 1, \"99\": 1, \"51\": 1}, \"13\": {\"62\": 2, \"118\": 1, \"2\": 1, \"82\": 2, \"92\": 1, \"78\": 1, \"93\": 1, \"43\": 1, \"26\": 2}, \"55\": {\"55\": 10, \"1\": 1, \"79\": 1}, \"75\": {\"69\": 1, \"75\": 6, \"52\": 1, \"31\": 1, \"24\": 1, \"58\": 1, \"106\": 1}, \"53\": {\"103\": 1, \"53\": 6, \"20\": 2, \"78\": 1, \"34\": 1, \"46\": 1}, \"111\": {\"91\": 1, \"69\": 1, \"38\": 1, \"18\": 1, \"12\": 2, \"111\": 3, \"59\": 1, \"19\": 1, \"34\": 1}, \"44\": {\"44\": 10, \"107\": 1, \"79\": 1}, \"35\": {\"70\": 1, \"35\": 4, \"12\": 2, \"56\": 1, \"86\": 2, \"65\": 1, \"122\": 1}, \"5\": {\"105\": 1, \"112\": 1, \"5\": 6, \"103\": 1, \"71\": 1, \"86\": 2}, \"90\": {\"90\": 7, \"48\": 1, \"129\": 1, \"50\": 1}, \"33\": {\"33\": 11, \"62\": 1}, \"83\": {\"35\": 1, \"83\": 11}, \"65\": {\"73\": 1, \"65\": 7, \"70\": 1, \"19\": 1, \"77\": 2}, \"8\": {\"37\": 2, \"68\": 1, \"8\": 4, \"0\": 1, \"77\": 1, \"83\": 1}, \"60\": {\"60\": 5, \"107\": 1, \"34\": 1, \"86\": 1, \"28\": 2, \"55\": 1, \"22\": 1}, \"34\": {\"68\": 1, \"34\": 4, \"29\": 1, \"50\": 1, \"12\": 1, \"20\": 1, \"87\": 2, \"83\": 1}, \"109\": {\"109\": 7, \"96\": 1, \"107\": 1, \"33\": 2, \"23\": 1}, \"76\": {\"34\": 1, \"76\": 2, \"48\": 1, \"22\": 1, \"28\": 1, \"116\": 1, \"82\": 1, \"124\": 1, \"69\": 1, \"43\": 1, \"118\": 1}, \"32\": {\"87\": 1, \"32\": 4, \"79\": 1, \"115\": 3, \"60\": 1, \"82\": 1, \"128\": 1}, \"68\": {\"19\": 1, \"114\": 1, \"68\": 8, \"88\": 2}, \"18\": {\"18\": 12}, \"116\": {\"128\": 1, \"92\": 1, \"116\": 7, \"107\": 1, \"119\": 1, \"31\": 1}, \"128\": {\"4\": 2, \"128\": 4, \"77\": 1, \"20\": 1, \"84\": 1, \"107\": 1, \"127\": 2}, \"115\": {\"115\": 6, \"74\": 1, \"78\": 1, \"107\": 1, \"105\": 1}, \"113\": {\"18\": 2, \"92\": 1, \"109\": 1, \"113\": 1, \"26\": 1, \"67\": 1, \"81\": 1}, \"48\": {\"8\": 2, \"43\": 1, \"119\": 1, \"48\": 2, \"85\": 2, \"69\": 1, \"128\": 1, \"22\": 1, \"112\": 1}, \"104\": {\"60\": 1, \"9\": 1, \"25\": 2, \"68\": 1, \"5\": 1, \"95\": 1, \"104\": 2, \"127\": 2, \"56\": 1}, \"121\": {\"121\": 10, \"21\": 1, \"81\": 1}, \"107\": {\"60\": 2, \"45\": 2, \"107\": 3, \"82\": 2, \"115\": 2, \"33\": 1}, \"25\": {\"24\": 1, \"6\": 1, \"88\": 2, \"25\": 3, \"83\": 1, \"89\": 1, \"52\": 1, \"94\": 2}, \"12\": {\"12\": 5, \"85\": 1, \"99\": 2, \"95\": 1, \"49\": 2, \"65\": 1}, \"6\": {\"12\": 2, \"6\": 7, \"65\": 1, \"37\": 1, \"72\": 1}, \"54\": {\"54\": 11, \"121\": 1}, \"11\": {\"76\": 2, \"28\": 1, \"11\": 4, \"74\": 1, \"115\": 2, \"89\": 1, \"122\": 1}, \"59\": {\"59\": 10, \"12\": 1, \"49\": 1}, \"86\": {\"17\": 2, \"86\": 1, \"1\": 1, \"65\": 2, \"114\": 2, \"3\": 1, \"38\": 1, \"71\": 2}, \"66\": {\"66\": 3, \"77\": 1, \"99\": 2, \"86\": 1, \"32\": 1, \"30\": 1, \"52\": 1, \"88\": 2}, \"99\": {\"34\": 1, \"99\": 6, \"86\": 2, \"42\": 1, \"100\": 1, \"85\": 1}, \"15\": {\"15\": 6, \"83\": 1, \"6\": 2, \"97\": 2, \"58\": 1}, \"74\": {\"74\": 7, \"3\": 1, \"32\": 1, \"57\": 1, \"115\": 2}, \"20\": {\"20\": 5, \"53\": 1, \"79\": 1, \"5\": 1, \"122\": 1, \"103\": 1, \"34\": 1, \"1\": 1}, \"52\": {\"99\": 3, \"66\": 2, \"104\": 1, \"95\": 1, \"52\": 2, \"65\": 1, \"98\": 1, \"91\": 1}}, \"W_A_4\": {\"113\": {\"21\": 1, \"113\": 6, \"89\": 1, \"63\": 1, \"62\": 2, \"121\": 1}, \"85\": {\"85\": 9, \"83\": 1, \"41\": 1, \"112\": 1}, \"34\": {\"83\": 3, \"71\": 1, \"124\": 2, \"56\": 2, \"85\": 1, \"68\": 1, \"104\": 1, \"1\": 1}, \"55\": {\"55\": 5, \"4\": 2, \"29\": 2, \"8\": 2, \"17\": 1}, \"42\": {\"42\": 2, \"53\": 1, \"7\": 1, \"24\": 1, \"98\": 1, \"77\": 1, \"3\": 1, \"28\": 1, \"86\": 1, \"87\": 1, \"119\": 1}, \"13\": {\"13\": 7, \"11\": 1, \"97\": 1, \"92\": 1, \"110\": 1, \"99\": 1}, \"69\": {\"13\": 1, \"69\": 9, \"74\": 1, \"84\": 1}, \"35\": {\"35\": 11, \"39\": 1}, \"83\": {\"42\": 1, \"83\": 4, \"32\": 1, \"56\": 1, \"121\": 1, \"0\": 1, \"28\": 1, \"124\": 1, \"18\": 1}, \"51\": {\"53\": 1, \"51\": 2, \"29\": 1, \"26\": 1, \"48\": 1, \"87\": 1, \"111\": 2, \"103\": 1, \"9\": 1, \"115\": 1}, \"72\": {\"72\": 5, \"49\": 1, \"79\": 1, \"38\": 1, \"3\": 2, \"5\": 2}, \"24\": {\"53\": 1, \"24\": 4, \"88\": 1, \"97\": 2, \"19\": 1, \"37\": 1, \"129\": 2}, \"53\": {\"53\": 11, \"95\": 1}, \"8\": {\"8\": 10, \"53\": 1, \"55\": 1}, \"49\": {\"49\": 3, \"85\": 2, \"80\": 1, \"74\": 2, \"12\": 1, \"72\": 1, \"53\": 1, \"104\": 1}, \"21\": {\"21\": 11, \"39\": 1}, \"18\": {\"18\": 11, \"81\": 1}, \"114\": {\"114\": 4, \"127\": 2, \"64\": 2, \"55\": 1, \"28\": 1, \"71\": 2}, \"58\": {\"68\": 1, \"111\": 1, \"8\": 2, \"58\": 6, \"52\": 1, \"125\": 1}, \"56\": {\"56\": 6, \"71\": 2, \"103\": 1, \"3\": 1, \"53\": 1, \"1\": 1}, \"80\": {\"80\": 10, \"44\": 2}, \"11\": {\"108\": 1, \"73\": 2, \"46\": 1, \"116\": 1, \"11\": 3, \"45\": 1, \"74\": 1, \"87\": 1, \"66\": 1}, \"15\": {\"68\": 2, \"15\": 4, \"47\": 1, \"8\": 1, \"29\": 2, \"91\": 1, \"125\": 1}, \"50\": {\"104\": 1, \"114\": 1, \"39\": 1, \"73\": 1, \"50\": 2, \"44\": 1, \"43\": 1, \"122\": 1, \"96\": 1, \"7\": 1, \"124\": 1}, \"111\": {\"68\": 3, \"111\": 3, \"128\": 2, \"98\": 1, \"55\": 2, \"12\": 1}, \"108\": {\"11\": 1, \"108\": 3, \"31\": 1, \"60\": 1, \"129\": 1, \"88\": 1, \"95\": 2, \"32\": 2}, \"104\": {\"73\": 1, \"108\": 1, \"87\": 2, \"99\": 1, \"17\": 2, \"104\": 1, \"60\": 1, \"20\": 1, \"33\": 2}, \"32\": {\"56\": 1, \"18\": 1, \"32\": 5, \"129\": 1}, \"68\": {\"111\": 1, \"68\": 7, \"86\": 2, \"30\": 1, \"91\": 1}, \"73\": {\"73\": 2, \"50\": 1, \"83\": 1, \"40\": 1, \"76\": 1, \"11\": 1, \"82\": 1, \"20\": 1, \"33\": 1}, \"92\": {\"121\": 1, \"21\": 1, \"92\": 5, \"48\": 2, \"14\": 1, \"96\": 1, \"33\": 1}, \"57\": {\"34\": 1, \"92\": 1, \"60\": 1, \"57\": 6, \"116\": 1, \"48\": 2}, \"40\": {\"40\": 3, \"71\": 1, \"32\": 1, \"1\": 1, \"28\": 1, \"44\": 2, \"20\": 1, \"43\": 2}, \"71\": {\"71\": 10, \"107\": 1, \"50\": 1}, \"121\": {\"92\": 1, \"57\": 1, \"44\": 1, \"121\": 3, \"88\": 1, \"35\": 1, \"84\": 1, \"67\": 1, \"63\": 1, \"113\": 1}, \"62\": {\"62\": 5, \"33\": 2, \"69\": 1, \"22\": 1, \"40\": 1, \"113\": 1, \"110\": 1}, \"39\": {\"21\": 3, \"18\": 1, \"39\": 6, \"16\": 2}, \"107\": {\"107\": 7, \"40\": 1, \"1\": 1, \"33\": 1}, \"109\": {\"60\": 1, \"109\": 5, \"102\": 2, \"110\": 1, \"116\": 1, \"45\": 1, \"38\": 1}, \"103\": {\"109\": 1, \"103\": 5, \"127\": 1, \"60\": 1, \"86\": 1, \"0\": 1, \"78\": 1, \"52\": 1}, \"101\": {\"103\": 2, \"1\": 1, \"53\": 1, \"101\": 2, \"27\": 1, \"4\": 1, \"9\": 1, \"76\": 1, \"112\": 1, \"86\": 1}, \"23\": {\"123\": 1, \"81\": 1, \"68\": 1, \"94\": 1, \"66\": 1, \"88\": 1, \"65\": 2, \"101\": 1, \"96\": 1, \"7\": 1, \"63\": 1}, \"60\": {\"109\": 1, \"60\": 3, \"82\": 1, \"19\": 1, \"105\": 1, \"11\": 1, \"42\": 1, \"66\": 1, \"87\": 1, \"90\": 1}, \"123\": {\"81\": 2, \"123\": 4, \"60\": 1, \"126\": 1, \"63\": 1, \"117\": 1, \"93\": 1, \"26\": 1}, \"19\": {\"0\": 1, \"19\": 3, \"73\": 1, \"11\": 1, \"4\": 1, \"50\": 1, \"70\": 1, \"55\": 1, \"22\": 1, \"83\": 1}, \"0\": {\"86\": 2, \"103\": 2, \"52\": 1, \"55\": 1, \"95\": 2, \"0\": 2, \"127\": 1, \"8\": 1}, \"31\": {\"109\": 1, \"19\": 1, \"92\": 1, \"122\": 2, \"31\": 3, \"14\": 1, \"21\": 1, \"95\": 1, \"93\": 1}, \"81\": {\"18\": 2, \"81\": 8, \"63\": 1, \"117\": 1}, \"61\": {\"18\": 1, \"31\": 1, \"61\": 5, \"121\": 1, \"123\": 1, \"37\": 1, \"63\": 1, \"113\": 1}, \"86\": {\"108\": 1, \"86\": 5, \"37\": 1, \"1\": 1, \"83\": 1, \"128\": 1, \"52\": 1, \"60\": 1}, \"94\": {\"68\": 2, \"53\": 1, \"94\": 3, \"101\": 1, \"59\": 1, \"30\": 1, \"54\": 1, \"126\": 1, \"75\": 1}, \"99\": {\"87\": 2, \"99\": 6, \"100\": 1, \"82\": 2, \"28\": 1}, \"47\": {\"47\": 9, \"53\": 1, \"101\": 1, \"83\": 1}, \"112\": {\"112\": 7, \"129\": 1, \"1\": 1, \"126\": 1, \"7\": 1, \"109\": 1}, \"87\": {\"87\": 5, \"99\": 1, \"127\": 1, \"114\": 1, \"11\": 1, \"100\": 2, \"20\": 1}, \"76\": {\"87\": 1, \"76\": 6, \"23\": 1, \"60\": 1, \"3\": 1, \"73\": 1, \"69\": 1}, \"36\": {\"36\": 7, \"27\": 2, \"83\": 1, \"1\": 1, \"88\": 1}, \"102\": {\"102\": 9, \"67\": 1, \"48\": 1, \"118\": 1}, \"44\": {\"109\": 1, \"104\": 1, \"87\": 2, \"44\": 4, \"116\": 1, \"80\": 1, \"5\": 2}, \"16\": {\"16\": 4, \"44\": 1, \"96\": 1, \"122\": 2, \"102\": 2, \"67\": 2}, \"33\": {\"33\": 8, \"73\": 2, \"48\": 2}, \"9\": {\"9\": 5, \"53\": 1, \"29\": 2, \"12\": 2, \"103\": 1, \"101\": 1}, \"30\": {\"53\": 1, \"30\": 1, \"19\": 2, \"67\": 1, \"52\": 1, \"10\": 1, \"21\": 1, \"77\": 1, \"112\": 1, \"31\": 1, \"34\": 1}, \"4\": {\"1\": 2, \"17\": 1, \"19\": 1, \"4\": 6, \"55\": 1, \"52\": 1}, \"88\": {\"23\": 2, \"88\": 1, \"100\": 1, \"129\": 2, \"113\": 3, \"43\": 1, \"56\": 1, \"53\": 1}, \"20\": {\"23\": 1, \"88\": 1, \"20\": 4, \"40\": 1, \"28\": 2, \"99\": 1, \"87\": 1, \"108\": 1}, \"3\": {\"3\": 5, \"100\": 1, \"71\": 1, \"88\": 1, \"96\": 1, \"39\": 1, \"49\": 2}, \"66\": {\"23\": 2, \"66\": 6, \"93\": 1, \"19\": 1, \"38\": 1, \"39\": 1}, \"1\": {\"3\": 1, \"1\": 6, \"97\": 1, \"46\": 2, \"17\": 1, \"108\": 1}, \"25\": {\"25\": 12}, \"77\": {\"53\": 1, \"77\": 10, \"111\": 1}, \"79\": {\"7\": 2, \"79\": 7, \"3\": 2, \"114\": 1}, \"7\": {\"7\": 9, \"4\": 1, \"119\": 2}, \"100\": {\"53\": 1, \"100\": 3, \"71\": 1, \"95\": 1, \"55\": 1, \"23\": 1, \"128\": 1, \"37\": 1, \"83\": 2}, \"126\": {\"126\": 9, \"21\": 1, \"18\": 1, \"121\": 1}, \"54\": {\"54\": 7, \"36\": 1, \"27\": 1, \"10\": 1, \"94\": 1, \"30\": 1}, \"82\": {\"71\": 1, \"73\": 1, \"107\": 1, \"22\": 2, \"17\": 1, \"94\": 1, \"50\": 1, \"115\": 1, \"120\": 1, \"60\": 2}, \"97\": {\"60\": 1, \"97\": 4, \"12\": 1, \"77\": 1, \"8\": 2, \"127\": 1, \"36\": 1, \"88\": 1}, \"105\": {\"127\": 1, \"50\": 1, \"105\": 4, \"17\": 1, \"46\": 1, \"115\": 1, \"4\": 1, \"11\": 1, \"2\": 1}, \"127\": {\"127\": 7, \"98\": 1, \"77\": 1, \"0\": 2, \"86\": 1}, \"89\": {\"89\": 3, \"105\": 1, \"4\": 1, \"100\": 2, \"126\": 1, \"5\": 1, \"128\": 1, \"114\": 1, \"88\": 1}, \"98\": {\"98\": 4, \"24\": 1, \"70\": 2, \"41\": 1, \"85\": 1, \"27\": 1}, \"46\": {\"11\": 1, \"17\": 1, \"28\": 2, \"114\": 2, \"22\": 1, \"23\": 1, \"64\": 1, \"45\": 1, \"89\": 2}, \"116\": {\"46\": 1, \"116\": 5, \"45\": 4, \"57\": 1, \"118\": 1}, \"37\": {\"52\": 1, \"19\": 1, \"37\": 6, \"128\": 2, \"46\": 1, \"88\": 1}, \"17\": {\"4\": 2, \"19\": 1, \"17\": 7, \"55\": 1, \"53\": 1}, \"90\": {\"90\": 10, \"38\": 1, \"22\": 1}, \"52\": {\"7\": 1, \"52\": 7, \"49\": 1, \"85\": 1, \"103\": 1, \"127\": 1}, \"6\": {\"111\": 2, \"52\": 1, \"22\": 1, \"51\": 1, \"29\": 1, \"8\": 1, \"97\": 1, \"77\": 1, \"6\": 1, \"124\": 1, \"25\": 1}, \"67\": {\"67\": 4, \"84\": 1, \"90\": 1, \"102\": 1, \"121\": 1, \"16\": 1, \"5\": 1, \"123\": 1, \"73\": 1}, \"5\": {\"3\": 1, \"32\": 1, \"5\": 4, \"43\": 1, \"74\": 2, \"89\": 1, \"46\": 1, \"107\": 1}, \"125\": {\"125\": 6, \"52\": 2, \"75\": 1, \"1\": 1, \"14\": 1, \"8\": 1}, \"128\": {\"128\": 3, \"129\": 1, \"74\": 1, \"55\": 1, \"49\": 2, \"110\": 1, \"28\": 1, \"64\": 1, \"37\": 1}, \"129\": {\"88\": 1, \"6\": 1, \"74\": 1, \"129\": 2, \"14\": 1, \"5\": 1, \"86\": 1, \"110\": 1, \"4\": 2, \"17\": 1}, \"75\": {\"125\": 2, \"75\": 3, \"103\": 2, \"77\": 1, \"34\": 1, \"101\": 1, \"106\": 2}, \"84\": {\"67\": 1, \"84\": 6, \"118\": 1, \"2\": 1, \"63\": 1, \"109\": 1, \"65\": 1}, \"74\": {\"74\": 6, \"105\": 1, \"45\": 1, \"129\": 2, \"88\": 1, \"14\": 1}, \"22\": {\"22\": 4, \"74\": 1, \"80\": 1, \"32\": 1, \"72\": 1, \"19\": 1, \"119\": 1, \"3\": 1, \"110\": 1}, \"10\": {\"0\": 1, \"55\": 1, \"124\": 1, \"87\": 1, \"36\": 1, \"27\": 1, \"29\": 2, \"47\": 1, \"72\": 1, \"8\": 2}, \"96\": {\"96\": 6, \"116\": 2, \"38\": 1, \"70\": 1, \"92\": 2}, \"29\": {\"29\": 12}, \"28\": {\"45\": 1, \"28\": 3, \"105\": 1, \"43\": 2, \"128\": 2, \"82\": 1, \"41\": 1, \"120\": 1}, \"45\": {\"45\": 9, \"57\": 1, \"31\": 1, \"122\": 1}, \"117\": {\"113\": 2, \"117\": 7, \"39\": 1, \"81\": 1, \"67\": 1}, \"63\": {\"113\": 1, \"63\": 9, \"123\": 2}, \"41\": {\"100\": 2, \"41\": 9, \"8\": 1}, \"12\": {\"12\": 10, \"95\": 1, \"111\": 1}, \"95\": {\"95\": 6, \"12\": 1, \"127\": 2, \"91\": 2, \"17\": 1}, \"119\": {\"119\": 8, \"100\": 1, \"98\": 2, \"87\": 1}, \"27\": {\"12\": 1, \"27\": 5, \"41\": 1, \"108\": 1}, \"2\": {\"2\": 8, \"67\": 1, \"48\": 1, \"84\": 1, \"126\": 1}, \"122\": {\"107\": 2, \"45\": 2, \"67\": 1, \"122\": 2, \"93\": 1, \"51\": 1, \"115\": 1, \"57\": 2}, \"26\": {\"2\": 1, \"26\": 7, \"63\": 2, \"18\": 1, \"123\": 1}, \"78\": {\"93\": 1, \"78\": 1, \"84\": 1, \"27\": 1, \"39\": 2, \"51\": 1, \"96\": 1, \"62\": 2, \"122\": 2}, \"93\": {\"93\": 4, \"122\": 1, \"78\": 1, \"5\": 1, \"110\": 1, \"95\": 2, \"73\": 2}, \"118\": {\"118\": 5, \"13\": 2, \"78\": 1, \"45\": 1, \"43\": 1, \"102\": 1, \"5\": 1}, \"124\": {\"124\": 7, \"120\": 1, \"98\": 1, \"128\": 2, \"99\": 1}, \"14\": {\"14\": 8, \"93\": 1, \"16\": 1, \"79\": 1, \"46\": 1}, \"48\": {\"48\": 10, \"38\": 2}, \"65\": {\"65\": 9, \"117\": 3}, \"120\": {\"120\": 8, \"1\": 1, \"64\": 1, \"20\": 1, \"17\": 1}, \"43\": {\"43\": 6, \"45\": 1, \"64\": 1, \"50\": 1, \"87\": 1, \"33\": 1, \"88\": 1}, \"106\": {\"78\": 1, \"41\": 1, \"59\": 1, \"55\": 1, \"70\": 2, \"51\": 1, \"12\": 1, \"106\": 2, \"68\": 1, \"113\": 1}, \"110\": {\"43\": 2, \"78\": 1, \"110\": 4, \"109\": 1, \"93\": 1, \"99\": 1, \"57\": 2}, \"64\": {\"64\": 10, \"96\": 1, \"115\": 1}, \"38\": {\"38\": 8, \"66\": 2}, \"115\": {\"110\": 1, \"64\": 4, \"115\": 1, \"62\": 2, \"46\": 1, \"72\": 1}, \"70\": {\"64\": 1, \"27\": 1, \"124\": 1, \"119\": 1, \"70\": 4, \"23\": 1, \"8\": 1}, \"59\": {\"91\": 1, \"29\": 1, \"59\": 5, \"12\": 1, \"41\": 2}, \"91\": {\"112\": 1, \"91\": 3, \"98\": 1, \"70\": 1, \"128\": 2, \"18\": 1, \"8\": 1}}, \"C_A_2\": {\"49\": {\"33\": 2, \"49\": 6, \"46\": 1, \"2\": 1}, \"13\": {\"13\": 9, \"37\": 1}, \"37\": {\"37\": 12}, \"41\": {\"41\": 9, \"54\": 1}, \"15\": {\"15\": 10, \"23\": 1, \"16\": 1}, \"56\": {\"56\": 11, \"14\": 1}, \"14\": {\"14\": 5, \"5\": 1, \"47\": 1, \"43\": 1, \"0\": 1, \"10\": 2, \"38\": 1}, \"3\": {\"49\": 1, \"3\": 7, \"46\": 1, \"2\": 1, \"50\": 1, \"34\": 1}, \"38\": {\"38\": 11, \"14\": 1}, \"43\": {\"43\": 10, \"10\": 2}, \"33\": {\"33\": 12}, \"47\": {\"47\": 6, \"23\": 1, \"1\": 1, \"5\": 1, \"0\": 2, \"42\": 1}, \"30\": {\"30\": 12}, \"39\": {\"39\": 12}, \"12\": {\"12\": 10, \"20\": 1, \"45\": 1}, \"6\": {\"3\": 2, \"6\": 4, \"27\": 1, \"30\": 1, \"17\": 2, \"42\": 2}, \"51\": {\"51\": 8, \"20\": 2}, \"5\": {\"1\": 1, \"5\": 8, \"34\": 1, \"37\": 1, \"31\": 1}, \"34\": {\"51\": 1, \"34\": 9, \"6\": 1, \"26\": 1}, \"35\": {\"35\": 11, \"44\": 1}, \"0\": {\"0\": 8, \"7\": 1, \"1\": 1, \"57\": 1, \"42\": 1}, \"7\": {\"7\": 8}, \"24\": {\"24\": 12}, \"8\": {\"8\": 10}, \"20\": {\"20\": 10}, \"36\": {\"36\": 11, \"33\": 1}, \"42\": {\"42\": 5, \"34\": 1, \"55\": 2, \"25\": 1, \"47\": 1, \"0\": 2}, \"1\": {\"1\": 6, \"34\": 1, \"48\": 1, \"5\": 2, \"47\": 1, \"33\": 1}, \"4\": {\"4\": 6, \"35\": 1, \"40\": 1}, \"28\": {\"28\": 12}, \"50\": {\"8\": 1, \"50\": 5, \"25\": 1, \"49\": 1, \"36\": 1, \"26\": 1}, \"45\": {\"45\": 8, \"17\": 1, \"12\": 1}, \"18\": {\"18\": 12}, \"57\": {\"57\": 8, \"0\": 1, \"23\": 1}, \"46\": {\"28\": 1, \"42\": 1, \"3\": 2, \"55\": 1, \"16\": 1, \"52\": 1, \"15\": 1, \"48\": 1, \"39\": 1}, \"48\": {\"48\": 7, \"47\": 1}, \"22\": {\"22\": 11, \"14\": 1}, \"31\": {\"31\": 9, \"14\": 2, \"5\": 1}, \"44\": {\"44\": 5, \"40\": 2, \"9\": 1, \"35\": 1, \"19\": 3}, \"2\": {\"2\": 9, \"41\": 1, \"25\": 1, \"50\": 1}, \"55\": {\"2\": 1, \"55\": 9, \"33\": 1, \"34\": 1}, \"32\": {\"32\": 8, \"48\": 1, \"40\": 1}, \"9\": {\"9\": 12}, \"27\": {\"27\": 11, \"53\": 1}, \"52\": {\"52\": 9, \"21\": 2, \"11\": 1}, \"40\": {\"9\": 4, \"27\": 1, \"40\": 4, \"35\": 1}, \"23\": {\"23\": 11, \"18\": 1}, \"17\": {\"17\": 10, \"27\": 1, \"6\": 1}, \"10\": {\"43\": 4, \"10\": 8}, \"26\": {\"26\": 12}, \"11\": {\"11\": 8, \"16\": 1, \"37\": 1}, \"53\": {\"53\": 6, \"26\": 2, \"50\": 2}, \"16\": {\"16\": 11, \"11\": 1}, \"25\": {\"25\": 8, \"46\": 1, \"6\": 1}, \"21\": {\"21\": 8}, \"54\": {\"54\": 8, \"26\": 1, \"36\": 1}, \"19\": {\"19\": 7, \"44\": 1}, \"29\": {\"29\": 7, \"36\": 1}}, \"W_A_2\": {\"115\": {\"129\": 1, \"114\": 1, \"56\": 1, \"115\": 5, \"5\": 2, \"43\": 1, \"47\": 1}, \"34\": {\"7\": 1, \"92\": 1, \"66\": 1, \"42\": 1, \"34\": 1, \"37\": 1, \"54\": 1, \"60\": 1, \"59\": 2}, \"97\": {\"7\": 1, \"97\": 4, \"108\": 1, \"52\": 2, \"103\": 1, \"51\": 1, \"122\": 1, \"11\": 1}, \"100\": {\"80\": 2, \"100\": 6, \"64\": 1, \"90\": 1, \"14\": 1, \"57\": 1}, \"129\": {\"115\": 1, \"129\": 3, \"8\": 1, \"74\": 1, \"37\": 1, \"43\": 2, \"1\": 1}, \"90\": {\"90\": 9, \"93\": 1, \"43\": 1, \"61\": 1}, \"125\": {\"125\": 7, \"36\": 1, \"8\": 1, \"42\": 1, \"28\": 1, \"51\": 1}, \"7\": {\"7\": 10, \"104\": 2}, \"92\": {\"92\": 2, \"100\": 3, \"26\": 2, \"45\": 1, \"102\": 1, \"72\": 1, \"14\": 1, \"56\": 1}, \"114\": {\"114\": 4, \"16\": 1, \"39\": 1, \"32\": 1, \"117\": 1, \"71\": 2, \"7\": 2}, \"80\": {\"80\": 8, \"60\": 1, \"13\": 1, \"100\": 2}, \"16\": {\"16\": 6, \"13\": 2, \"84\": 1, \"53\": 1, \"119\": 1, \"99\": 1}, \"69\": {\"102\": 1, \"90\": 1, \"31\": 2, \"69\": 5, \"13\": 1, \"14\": 1, \"33\": 1}, \"102\": {\"102\": 4, \"16\": 1, \"31\": 1, \"33\": 1, \"118\": 1, \"69\": 4}, \"33\": {\"33\": 10, \"84\": 1, \"116\": 1}, \"17\": {\"7\": 1, \"129\": 1, \"127\": 1, \"21\": 1, \"110\": 2, \"43\": 1, \"17\": 2, \"124\": 1, \"5\": 1, \"60\": 1}, \"61\": {\"61\": 10, \"62\": 1, \"60\": 1}, \"48\": {\"48\": 9, \"93\": 1, \"57\": 2}, \"91\": {\"86\": 1, \"56\": 1, \"91\": 2, \"8\": 1, \"11\": 1, \"127\": 1, \"128\": 1, \"10\": 1, \"66\": 1, \"59\": 1, \"4\": 1}, \"84\": {\"50\": 2, \"46\": 1, \"84\": 6, \"63\": 1, \"62\": 1, \"102\": 1}, \"50\": {\"50\": 8, \"18\": 1, \"118\": 1, \"105\": 1, \"121\": 1}, \"2\": {\"2\": 5, \"57\": 1, \"81\": 1, \"121\": 1, \"113\": 1, \"48\": 1, \"25\": 1, \"63\": 1}, \"46\": {\"46\": 12}, \"56\": {\"22\": 2, \"56\": 3, \"123\": 1, \"41\": 1, \"128\": 1, \"17\": 1, \"104\": 1, \"47\": 2}, \"86\": {\"115\": 1, \"56\": 1, \"107\": 1, \"86\": 7, \"73\": 1, \"32\": 1}, \"11\": {\"56\": 2, \"11\": 3, \"127\": 1, \"5\": 1, \"98\": 1, \"28\": 1, \"52\": 1, \"39\": 1, \"94\": 1}, \"118\": {\"84\": 1, \"46\": 1, \"16\": 1, \"13\": 1, \"120\": 1, \"82\": 1, \"118\": 1, \"93\": 1, \"102\": 1, \"50\": 1, \"64\": 1, \"60\": 1}, \"79\": {\"79\": 10, \"29\": 1, \"111\": 1}, \"22\": {\"46\": 1, \"22\": 4, \"70\": 1, \"73\": 1, \"104\": 1, \"100\": 1, \"47\": 1, \"52\": 2}, \"109\": {\"11\": 1, \"62\": 1, \"109\": 3, \"92\": 1, \"118\": 2, \"48\": 1, \"93\": 1, \"78\": 1, \"91\": 1}, \"62\": {\"50\": 2, \"46\": 1, \"62\": 5, \"21\": 1, \"70\": 1, \"55\": 2}, \"8\": {\"91\": 2, \"8\": 6, \"68\": 1, \"37\": 1, \"4\": 1, \"17\": 1}, \"24\": {\"36\": 2, \"27\": 1, \"24\": 3, \"79\": 1, \"9\": 1, \"75\": 2, \"53\": 2}, \"10\": {\"28\": 2, \"10\": 6, \"128\": 2, \"17\": 1, \"108\": 1}, \"87\": {\"100\": 1, \"20\": 1, \"87\": 3, \"93\": 1, \"107\": 1, \"33\": 1, \"90\": 1, \"48\": 1, \"39\": 1, \"43\": 1}, \"4\": {\"28\": 1, \"8\": 1, \"128\": 2, \"122\": 1, \"4\": 7}, \"105\": {\"28\": 1, \"8\": 1, \"40\": 2, \"73\": 2, \"105\": 2, \"33\": 1, \"84\": 1, \"64\": 2}, \"20\": {\"20\": 9, \"87\": 1, \"69\": 1, \"99\": 1}, \"28\": {\"28\": 8, \"4\": 1, \"107\": 1, \"54\": 2}, \"27\": {\"20\": 1, \"27\": 4, \"30\": 1, \"103\": 1, \"79\": 1, \"7\": 1, \"58\": 1, \"59\": 2}, \"89\": {\"31\": 1, \"20\": 2, \"90\": 1, \"110\": 1, \"3\": 1, \"93\": 1, \"26\": 2, \"43\": 1, \"14\": 1, \"72\": 1}, \"36\": {\"91\": 1, \"36\": 4, \"42\": 1, \"59\": 1, \"27\": 1, \"15\": 1, \"44\": 1, \"89\": 1, \"49\": 1}, \"45\": {\"20\": 1, \"31\": 1, \"45\": 6, \"48\": 1, \"92\": 1, \"13\": 1, \"126\": 1}, \"31\": {\"31\": 8, \"102\": 1, \"100\": 1, \"69\": 2}, \"110\": {\"107\": 2, \"1\": 1, \"10\": 1, \"110\": 4, \"26\": 1, \"32\": 1, \"66\": 1, \"71\": 1}, \"3\": {\"3\": 4, \"70\": 1, \"38\": 1, \"7\": 1, \"4\": 1}, \"107\": {\"107\": 5, \"66\": 1, \"73\": 1, \"105\": 1, \"40\": 1, \"111\": 2, \"61\": 1}, \"117\": {\"117\": 10, \"113\": 1, \"93\": 1}, \"21\": {\"21\": 10, \"99\": 1, \"14\": 1}, \"66\": {\"3\": 1, \"107\": 1, \"8\": 1, \"66\": 3, \"18\": 1, \"73\": 1, \"55\": 1, \"108\": 2, \"19\": 1}, \"82\": {\"90\": 2, \"118\": 1, \"116\": 1, \"82\": 2, \"57\": 2}, \"99\": {\"99\": 9, \"21\": 1, \"69\": 2}, \"81\": {\"81\": 8, \"57\": 1, \"113\": 1, \"26\": 2}, \"42\": {\"3\": 1, \"66\": 1, \"1\": 2, \"103\": 1, \"112\": 1, \"42\": 2, \"53\": 2, \"71\": 1, \"20\": 1}, \"26\": {\"26\": 5, \"18\": 1, \"13\": 2, \"121\": 1, \"81\": 1, \"65\": 1, \"102\": 1}, \"64\": {\"107\": 1, \"64\": 6, \"1\": 2, \"50\": 1, \"80\": 1, \"128\": 1}, \"74\": {\"129\": 1, \"74\": 10, \"114\": 1}, \"119\": {\"119\": 7, \"64\": 1, \"17\": 1, \"123\": 1, \"116\": 1, \"88\": 1}, \"71\": {\"107\": 1, \"71\": 4, \"112\": 2, \"23\": 1, \"44\": 1, \"85\": 1, \"42\": 1, \"114\": 1}, \"93\": {\"93\": 9, \"78\": 1, \"48\": 2}, \"18\": {\"18\": 6, \"57\": 2, \"2\": 1, \"99\": 2, \"88\": 1}, \"30\": {\"103\": 2, \"30\": 1, \"5\": 1, \"54\": 1, \"59\": 1, \"66\": 1, \"49\": 1, \"94\": 1, \"51\": 1, \"35\": 2}, \"96\": {\"116\": 1, \"96\": 7, \"39\": 1, \"43\": 1, \"60\": 2}, \"25\": {\"25\": 6, \"103\": 2, \"79\": 2, \"0\": 1, \"77\": 1}, \"88\": {\"88\": 5, \"64\": 1, \"121\": 1, \"13\": 1, \"40\": 1, \"16\": 1}, \"103\": {\"103\": 6, \"128\": 2, \"111\": 2, \"86\": 1, \"0\": 1}, \"116\": {\"64\": 1, \"116\": 3, \"16\": 1, \"19\": 1, \"87\": 2, \"62\": 1, \"119\": 1, \"60\": 1, \"107\": 1}, \"67\": {\"64\": 1, \"50\": 1, \"67\": 5, \"63\": 1, \"45\": 1, \"109\": 1, \"69\": 1, \"105\": 1}, \"1\": {\"1\": 7, \"64\": 1, \"128\": 2, \"129\": 2}, \"101\": {\"103\": 1, \"101\": 4, \"98\": 2, \"30\": 1, \"29\": 1, \"60\": 1, \"59\": 1, \"41\": 1}, \"23\": {\"108\": 1, \"127\": 1, \"65\": 2, \"54\": 1, \"29\": 1, \"23\": 2, \"84\": 1, \"21\": 1, \"109\": 1, \"66\": 1}, \"57\": {\"57\": 10, \"31\": 1, \"48\": 1}, \"83\": {\"83\": 7, \"47\": 1, \"126\": 1, \"109\": 1, \"90\": 2}, \"122\": {\"112\": 1, \"74\": 1, \"4\": 2, \"40\": 1, \"122\": 3, \"28\": 2, \"115\": 1, \"10\": 1}, \"127\": {\"127\": 9, \"114\": 1, \"28\": 2}, \"108\": {\"108\": 6, \"122\": 1, \"91\": 1, \"59\": 3, \"10\": 1}, \"124\": {\"122\": 2, \"12\": 2, \"123\": 1, \"124\": 4, \"56\": 1, \"86\": 1, \"76\": 1}, \"112\": {\"22\": 1, \"112\": 4, \"28\": 2, \"32\": 1, \"124\": 1, \"122\": 1, \"10\": 1, \"47\": 1}, \"70\": {\"70\": 2, \"83\": 1, \"108\": 1, \"43\": 1, \"60\": 1, \"62\": 1, \"123\": 1, \"26\": 1, \"33\": 1, \"21\": 1, \"53\": 1}, \"14\": {\"40\": 1, \"80\": 1, \"45\": 2, \"14\": 6, \"28\": 1, \"99\": 1}, \"53\": {\"34\": 1, \"53\": 7, \"35\": 1, \"112\": 2, \"28\": 1}, \"121\": {\"57\": 1, \"18\": 2, \"72\": 2, \"121\": 5, \"39\": 1, \"58\": 1}, \"40\": {\"37\": 4, \"105\": 1, \"40\": 4, \"88\": 1, \"117\": 1, \"62\": 1}, \"15\": {\"121\": 2, \"77\": 1, \"15\": 5, \"55\": 2, \"36\": 1, \"79\": 1}, \"37\": {\"10\": 1, \"37\": 6, \"17\": 1, \"8\": 1, \"64\": 2, \"105\": 1}, \"73\": {\"73\": 4, \"45\": 1, \"47\": 1, \"105\": 2, \"33\": 1, \"28\": 1, \"40\": 1, \"37\": 1}, \"52\": {\"52\": 7, \"18\": 1, \"54\": 1, \"100\": 1, \"12\": 2}, \"123\": {\"123\": 8, \"11\": 1, \"114\": 1, \"34\": 2}, \"44\": {\"44\": 11, \"43\": 1}, \"111\": {\"111\": 4, \"127\": 3, \"0\": 2, \"75\": 1, \"49\": 1, \"54\": 1}, \"43\": {\"43\": 1, \"70\": 1, \"63\": 1, \"95\": 3, \"88\": 1, \"122\": 2, \"129\": 1, \"115\": 1, \"10\": 1}, \"19\": {\"19\": 8, \"1\": 2, \"43\": 1, \"31\": 1}, \"38\": {\"38\": 10, \"20\": 1, \"66\": 1}, \"39\": {\"3\": 2, \"39\": 3, \"26\": 1, \"13\": 2, \"96\": 1, \"87\": 1, \"88\": 1, \"63\": 1}, \"59\": {\"44\": 1, \"59\": 8, \"54\": 1, \"91\": 2}, \"6\": {\"0\": 1, \"73\": 1, \"106\": 1, \"6\": 3, \"79\": 2, \"94\": 1, \"49\": 1, \"27\": 1, \"92\": 1}, \"47\": {\"73\": 1, \"47\": 6, \"30\": 1, \"123\": 1, \"72\": 1, \"44\": 1, \"0\": 1}, \"58\": {\"51\": 2, \"79\": 1, \"27\": 2, \"58\": 3, \"12\": 1, \"111\": 1, \"76\": 1, \"127\": 1}, \"51\": {\"98\": 1, \"51\": 3, \"74\": 1, \"22\": 1, \"87\": 1, \"103\": 1, \"97\": 1, \"101\": 2, \"125\": 1}, \"60\": {\"60\": 8, \"44\": 1, \"37\": 2, \"85\": 1}, \"12\": {\"98\": 2, \"47\": 1, \"10\": 1, \"44\": 1, \"12\": 2, \"122\": 1, \"0\": 1, \"23\": 1, \"17\": 2}, \"98\": {\"98\": 9, \"54\": 2, \"91\": 1}, \"0\": {\"0\": 7, \"79\": 1, \"49\": 1, \"103\": 1, \"98\": 1, \"29\": 1}, \"128\": {\"114\": 1, \"128\": 2, \"5\": 1, \"103\": 2, \"40\": 1, \"10\": 1, \"47\": 1, \"4\": 1, \"59\": 2}, \"29\": {\"59\": 2, \"29\": 9, \"122\": 1}, \"13\": {\"72\": 1, \"26\": 1, \"13\": 7, \"39\": 2, \"14\": 1}, \"72\": {\"26\": 1, \"39\": 1, \"72\": 3, \"13\": 1, \"121\": 1, \"2\": 1, \"92\": 1, \"45\": 1, \"99\": 1, \"109\": 1}, \"104\": {\"104\": 4, \"5\": 2, \"71\": 1, \"114\": 2, \"12\": 1, \"17\": 1, \"78\": 1}, \"5\": {\"5\": 6, \"4\": 1, \"32\": 1, \"40\": 1, \"86\": 1, \"104\": 2}, \"49\": {\"49\": 6, \"42\": 1, \"122\": 1, \"128\": 1, \"115\": 2, \"34\": 1}, \"77\": {\"49\": 1, \"77\": 5, \"127\": 2, \"17\": 1, \"68\": 2, \"8\": 1}, \"106\": {\"52\": 2, \"110\": 2, \"35\": 2, \"30\": 1, \"106\": 2, \"101\": 1, \"79\": 1, \"15\": 1}, \"120\": {\"120\": 8, \"20\": 2, \"81\": 1, \"2\": 1}, \"41\": {\"41\": 11, \"29\": 1}, \"55\": {\"55\": 4, \"40\": 1, \"43\": 2, \"67\": 2, \"46\": 1, \"115\": 1, \"62\": 1}, \"113\": {\"113\": 10, \"117\": 1, \"2\": 1}, \"68\": {\"95\": 1, \"68\": 8, \"54\": 1, \"122\": 2}, \"9\": {\"9\": 10, \"47\": 1, \"36\": 1}, \"95\": {\"1\": 1, \"113\": 1, \"95\": 2, \"23\": 1, \"17\": 2, \"115\": 2, \"64\": 2, \"114\": 1}, \"63\": {\"63\": 7, \"102\": 2, \"67\": 1, \"37\": 1, \"88\": 1}, \"85\": {\"85\": 5, \"95\": 1, \"114\": 1, \"5\": 1, \"124\": 1, \"86\": 1, \"42\": 1, \"17\": 1}, \"65\": {\"65\": 7, \"113\": 1, \"33\": 1, \"26\": 1, \"69\": 1, \"72\": 1}, \"126\": {\"41\": 1, \"43\": 1, \"126\": 8, \"37\": 1, \"87\": 1}, \"78\": {\"78\": 4, \"32\": 1, \"47\": 1, \"64\": 1, \"120\": 1, \"17\": 1, \"109\": 1, \"61\": 1, \"123\": 1}, \"32\": {\"28\": 2, \"32\": 9, \"37\": 1}, \"35\": {\"35\": 11, \"30\": 1}, \"54\": {\"53\": 1, \"98\": 3, \"54\": 4, \"52\": 2, \"111\": 1, \"49\": 1}, \"76\": {\"78\": 1, \"47\": 1, \"83\": 1, \"67\": 1, \"118\": 1, \"96\": 1, \"76\": 2, \"53\": 1, \"124\": 1}, \"94\": {\"29\": 4, \"94\": 1, \"54\": 1, \"34\": 1, \"63\": 1, \"127\": 2}, \"75\": {\"75\": 3, \"49\": 1, \"0\": 1, \"125\": 1}}, \"W_A_1\": {\"0\": {\"70\": 1, \"111\": 1, \"0\": 6, \"74\": 1, \"127\": 1, \"101\": 2}, \"93\": {\"60\": 1, \"7\": 1, \"55\": 1, \"114\": 1, \"122\": 1, \"41\": 1, \"31\": 2, \"107\": 1, \"126\": 1, \"46\": 2}, \"18\": {\"18\": 9, \"118\": 2, \"119\": 1}, \"111\": {\"85\": 1, \"32\": 1, \"111\": 5, \"78\": 1, \"72\": 2, \"125\": 1, \"53\": 1}, \"108\": {\"108\": 10, \"85\": 1, \"8\": 1}, \"8\": {\"93\": 1, \"108\": 1, \"8\": 6, \"124\": 1, \"76\": 1, \"97\": 1, \"11\": 1}, \"64\": {\"64\": 12}, \"83\": {\"83\": 5, \"73\": 3, \"21\": 1, \"2\": 1, \"28\": 1, \"96\": 1}, \"32\": {\"85\": 2, \"12\": 2, \"32\": 3, \"94\": 1, \"72\": 1, \"108\": 3}, \"69\": {\"69\": 6, \"18\": 1, \"39\": 1, \"62\": 2}, \"7\": {\"7\": 9, \"93\": 1}, \"70\": {\"18\": 1, \"60\": 1, \"70\": 6, \"23\": 1, \"76\": 1, \"9\": 1, \"126\": 1}, \"88\": {\"85\": 2, \"27\": 2, \"108\": 1, \"97\": 1, \"59\": 1, \"6\": 1, \"88\": 2, \"98\": 1, \"91\": 1}, \"107\": {\"107\": 8, \"72\": 1, \"4\": 1}, \"60\": {\"18\": 2, \"65\": 1, \"64\": 1, \"93\": 1, \"95\": 1, \"60\": 2, \"63\": 1, \"76\": 1, \"129\": 2}, \"85\": {\"85\": 10, \"68\": 1, \"75\": 1}, \"91\": {\"91\": 4, \"9\": 1, \"24\": 1, \"68\": 1, \"77\": 2, \"53\": 1, \"0\": 2}, \"109\": {\"109\": 9, \"28\": 1, \"108\": 1, \"79\": 1}, \"105\": {\"84\": 1, \"105\": 4, \"40\": 1, \"4\": 2, \"106\": 1, \"1\": 1, \"115\": 1, \"77\": 1}, \"129\": {\"105\": 1, \"129\": 3, \"20\": 1, \"45\": 1, \"74\": 2, \"62\": 1, \"46\": 1, \"116\": 1, \"13\": 1}, \"92\": {\"92\": 9, \"37\": 1, \"12\": 1, \"31\": 1}, \"9\": {\"9\": 7, \"73\": 1, \"77\": 1, \"47\": 1, \"17\": 1, \"70\": 1}, \"103\": {\"103\": 6, \"47\": 1, \"34\": 1, \"101\": 2, \"29\": 1, \"98\": 1}, \"14\": {\"14\": 8, \"119\": 1, \"39\": 1, \"20\": 2}, \"115\": {\"87\": 1, \"18\": 1, \"115\": 7, \"3\": 1, \"5\": 1, \"123\": 1}, \"5\": {\"87\": 1, \"49\": 1, \"19\": 1, \"15\": 1, \"0\": 1, \"5\": 4, \"35\": 1, \"110\": 1, \"115\": 1}, \"84\": {\"84\": 7, \"5\": 1, \"74\": 1, \"4\": 1, \"43\": 2}, \"49\": {\"49\": 3, \"5\": 1, \"101\": 1, \"71\": 1, \"103\": 1, \"4\": 1, \"54\": 1, \"55\": 1, \"9\": 2}, \"87\": {\"84\": 1, \"5\": 1, \"70\": 2, \"114\": 1, \"19\": 1, \"8\": 1, \"123\": 1, \"79\": 1, \"96\": 2, \"124\": 1}, \"42\": {\"42\": 4, \"91\": 1, \"22\": 1, \"75\": 1, \"60\": 1, \"8\": 1, \"86\": 1, \"0\": 1, \"115\": 1}, \"2\": {\"2\": 5, \"66\": 1, \"119\": 1, \"11\": 1, \"18\": 1, \"113\": 2, \"121\": 1}, \"20\": {\"20\": 7, \"78\": 1, \"122\": 1, \"46\": 1, \"14\": 1, \"25\": 1}, \"75\": {\"75\": 5, \"111\": 1, \"31\": 2, \"108\": 1, \"85\": 1, \"54\": 2}, \"59\": {\"2\": 1, \"59\": 5, \"88\": 1, \"52\": 1, \"68\": 1, \"117\": 1}, \"22\": {\"15\": 1, \"78\": 1, \"35\": 1, \"70\": 1, \"22\": 3, \"100\": 1, \"72\": 1, \"83\": 1, \"64\": 1, \"66\": 1}, \"38\": {\"38\": 7, \"78\": 3, \"34\": 1, \"49\": 1}, \"63\": {\"63\": 9, \"87\": 1, \"117\": 1, \"62\": 1}, \"101\": {\"101\": 7, \"85\": 1, \"49\": 2, \"0\": 2}, \"15\": {\"59\": 1, \"38\": 1, \"15\": 7, \"58\": 1, \"32\": 1, \"21\": 1}, \"53\": {\"53\": 10, \"85\": 1, \"103\": 1}, \"110\": {\"110\": 11, \"17\": 1}, \"78\": {\"42\": 2, \"49\": 1, \"40\": 1, \"3\": 1, \"78\": 4, \"84\": 1, \"105\": 1, \"66\": 1}, \"10\": {\"10\": 6, \"101\": 1, \"72\": 2, \"68\": 1, \"75\": 1, \"41\": 1}, \"55\": {\"93\": 1, \"55\": 5, \"107\": 1, \"87\": 1, \"46\": 1, \"108\": 1, \"40\": 2}, \"94\": {\"30\": 2, \"94\": 2, \"24\": 1, \"27\": 1, \"91\": 1, \"15\": 1, \"56\": 1, \"32\": 1, \"92\": 2}, \"39\": {\"39\": 6, \"102\": 1, \"119\": 1, \"95\": 2, \"69\": 1, \"121\": 1}, \"58\": {\"30\": 2, \"72\": 1, \"58\": 3, \"110\": 1, \"108\": 1, \"68\": 2, \"125\": 1, \"77\": 1}, \"40\": {\"93\": 1, \"57\": 1, \"40\": 7, \"5\": 1, \"55\": 2}, \"46\": {\"30\": 1, \"43\": 1, \"54\": 1, \"24\": 1, \"78\": 1, \"105\": 1, \"104\": 1, \"40\": 1, \"84\": 1, \"8\": 1, \"27\": 1, \"0\": 1}, \"35\": {\"55\": 1, \"43\": 1, \"35\": 4, \"70\": 1, \"116\": 1, \"46\": 1, \"98\": 2, \"91\": 1}, \"68\": {\"55\": 2, \"68\": 4, \"127\": 1, \"110\": 1, \"98\": 1, \"85\": 1, \"77\": 1, \"72\": 1}, \"114\": {\"114\": 4, \"57\": 1, \"35\": 1, \"4\": 1, \"79\": 1, \"25\": 2, \"1\": 2}, \"56\": {\"30\": 2, \"108\": 1, \"56\": 2, \"9\": 1, \"36\": 1, \"94\": 1, \"98\": 2, \"24\": 2}, \"37\": {\"30\": 2, \"37\": 8, \"9\": 2}, \"57\": {\"57\": 11, \"5\": 1}, \"43\": {\"82\": 2, \"81\": 1, \"43\": 2, \"126\": 1, \"70\": 2}, \"82\": {\"82\": 10, \"20\": 1, \"25\": 1}, \"30\": {\"30\": 3, \"29\": 1, \"27\": 1, \"56\": 1, \"65\": 1, \"112\": 1, \"111\": 1, \"46\": 1, \"9\": 2}, \"31\": {\"31\": 10, \"124\": 1, \"42\": 1}, \"12\": {\"32\": 1, \"12\": 5, \"24\": 1, \"29\": 1, \"68\": 2, \"53\": 2}, \"89\": {\"12\": 1, \"89\": 4, \"22\": 2, \"37\": 1, \"5\": 1, \"106\": 1, \"71\": 1, \"34\": 1}, \"21\": {\"21\": 3, \"12\": 1, \"70\": 1, \"67\": 2, \"11\": 2, \"39\": 1, \"65\": 1, \"35\": 1}, \"116\": {\"116\": 7, \"33\": 1, \"76\": 2, \"67\": 1, \"95\": 1}, \"34\": {\"72\": 1, \"12\": 1, \"34\": 3, \"105\": 1, \"53\": 2, \"98\": 2, \"31\": 1, \"84\": 1}, \"73\": {\"73\": 4, \"72\": 1, \"129\": 1, \"104\": 2, \"1\": 1, \"17\": 1}, \"102\": {\"102\": 8, \"81\": 1, \"119\": 1, \"11\": 1, \"121\": 1}, \"26\": {\"102\": 1, \"26\": 7, \"118\": 1, \"16\": 2, \"117\": 1}, \"121\": {\"121\": 9, \"21\": 1, \"123\": 2}, \"72\": {\"72\": 7, \"73\": 1, \"40\": 1, \"110\": 1, \"79\": 1, \"86\": 1}, \"61\": {\"61\": 9, \"104\": 1, \"78\": 2}, \"90\": {\"66\": 2, \"64\": 2, \"90\": 4, \"100\": 1, \"28\": 2, \"119\": 1}, \"86\": {\"86\": 11, \"48\": 1}, \"23\": {\"86\": 1, \"47\": 1, \"61\": 2, \"103\": 2, \"108\": 1, \"8\": 1, \"55\": 1, \"129\": 1, \"97\": 1, \"70\": 1}, \"28\": {\"28\": 10, \"109\": 1, \"90\": 1}, \"54\": {\"54\": 9, \"35\": 1, \"124\": 1, \"31\": 1}, \"29\": {\"29\": 8, \"47\": 1, \"103\": 2, \"5\": 1}, \"66\": {\"66\": 10}, \"127\": {\"127\": 8, \"12\": 2, \"111\": 1, \"55\": 1}, \"24\": {\"24\": 6, \"98\": 4, \"101\": 1, \"97\": 1}, \"47\": {\"83\": 1, \"47\": 1, \"106\": 2, \"126\": 1, \"34\": 1, \"35\": 2, \"0\": 2, \"19\": 1, \"4\": 1}, \"19\": {\"19\": 7, \"107\": 1, \"104\": 1, \"122\": 1, \"93\": 1, \"126\": 1}, \"106\": {\"106\": 1, \"19\": 1, \"85\": 2, \"8\": 1, \"97\": 1, \"47\": 2, \"17\": 2, \"110\": 2}, \"45\": {\"116\": 1, \"81\": 1, \"61\": 1, \"105\": 1, \"45\": 2, \"20\": 1, \"35\": 1, \"25\": 1, \"2\": 1, \"129\": 2}, \"117\": {\"117\": 6, \"100\": 2, \"118\": 1, \"26\": 1, \"16\": 2}, \"25\": {\"82\": 1, \"25\": 5, \"87\": 1, \"109\": 1, \"114\": 2, \"2\": 2}, \"118\": {\"118\": 8, \"117\": 2, \"26\": 2}, \"6\": {\"47\": 2, \"6\": 5, \"108\": 1, \"37\": 1, \"75\": 1, \"112\": 1, \"30\": 1}, \"3\": {\"3\": 9, \"79\": 1, \"50\": 1, \"2\": 1}, \"11\": {\"11\": 8, \"105\": 2, \"108\": 1, \"65\": 1}, \"33\": {\"82\": 1, \"102\": 2, \"11\": 1, \"33\": 7, \"60\": 1}, \"81\": {\"45\": 2, \"81\": 6, \"11\": 1, \"67\": 1, \"42\": 1, \"20\": 1}, \"125\": {\"106\": 1, \"47\": 1, \"92\": 2, \"6\": 1, \"125\": 3, \"58\": 2, \"112\": 2}, \"98\": {\"98\": 7, \"75\": 1, \"58\": 1, \"85\": 1, \"110\": 1, \"52\": 1}, \"65\": {\"90\": 1, \"39\": 1, \"76\": 1, \"121\": 2, \"48\": 2, \"65\": 1, \"35\": 1, \"57\": 2, \"2\": 1}, \"119\": {\"119\": 12}, \"128\": {\"98\": 1, \"90\": 1, \"31\": 1, \"115\": 1, \"96\": 1, \"7\": 1, \"128\": 2, \"73\": 1, \"81\": 1, \"37\": 1, \"110\": 1}, \"71\": {\"53\": 2, \"71\": 5, \"117\": 1}, \"123\": {\"123\": 8}, \"4\": {\"40\": 2, \"35\": 1, \"19\": 1, \"4\": 3, \"77\": 1, \"108\": 1, \"70\": 1, \"46\": 1, \"107\": 1}, \"41\": {\"41\": 12}, \"67\": {\"67\": 8, \"81\": 1, \"50\": 1, \"116\": 1, \"100\": 1}, \"95\": {\"39\": 3, \"95\": 8, \"63\": 1}, \"100\": {\"100\": 7, \"69\": 2, \"45\": 1, \"61\": 1, \"96\": 1}, \"17\": {\"35\": 1, \"17\": 6, \"72\": 2, \"68\": 1, \"127\": 2}, \"113\": {\"26\": 1, \"113\": 10, \"63\": 1}, \"122\": {\"122\": 6, \"114\": 1, \"8\": 1, \"67\": 1, \"87\": 1, \"11\": 1, \"45\": 1}, \"27\": {\"27\": 5, \"108\": 1, \"91\": 2, \"0\": 1, \"98\": 1, \"52\": 2}, \"79\": {\"25\": 3, \"17\": 1, \"29\": 1, \"73\": 1, \"79\": 3, \"57\": 1, \"48\": 1, \"109\": 1}, \"16\": {\"16\": 12}, \"112\": {\"37\": 1, \"12\": 1, \"127\": 1, \"112\": 3, \"97\": 1, \"52\": 1, \"92\": 1, \"103\": 1, \"111\": 1, \"53\": 1}, \"1\": {\"90\": 1, \"115\": 1, \"20\": 1, \"74\": 1, \"1\": 4, \"35\": 2, \"43\": 1, \"114\": 1}, \"124\": {\"1\": 1, \"124\": 4, \"8\": 3, \"9\": 1, \"0\": 1, \"14\": 1, \"87\": 1}, \"36\": {\"98\": 1, \"90\": 1, \"36\": 4, \"30\": 1, \"59\": 1}, \"76\": {\"76\": 11, \"74\": 1}, \"96\": {\"96\": 5, \"48\": 2, \"1\": 1, \"83\": 1, \"99\": 1, \"79\": 1, \"54\": 1}, \"80\": {\"115\": 3, \"45\": 1, \"100\": 1, \"67\": 2, \"80\": 3, \"122\": 1, \"22\": 1}, \"74\": {\"80\": 1, \"57\": 1, \"74\": 8, \"96\": 1, \"9\": 1}, \"99\": {\"99\": 10, \"73\": 1, \"104\": 1}, \"51\": {\"35\": 1, \"0\": 1, \"97\": 1, \"52\": 3, \"127\": 1, \"17\": 1, \"37\": 1, \"23\": 1, \"107\": 1, \"47\": 1}, \"126\": {\"126\": 6, \"79\": 1, \"48\": 1, \"44\": 1, \"7\": 1}, \"104\": {\"34\": 1, \"47\": 1, \"64\": 1, \"104\": 5, \"118\": 1, \"90\": 1}, \"97\": {\"8\": 1, \"97\": 4, \"21\": 1, \"52\": 1, \"101\": 2, \"93\": 1, \"0\": 1, \"37\": 1}, \"50\": {\"20\": 1, \"122\": 1, \"50\": 5, \"67\": 1, \"33\": 2, \"129\": 2}, \"52\": {\"52\": 11, \"37\": 1}, \"48\": {\"48\": 12}, \"77\": {\"0\": 1, \"75\": 1, \"77\": 3, \"108\": 1, \"71\": 1, \"91\": 1}, \"120\": {\"20\": 1, \"120\": 5, \"60\": 1, \"49\": 1}, \"44\": {\"48\": 2, \"44\": 6}, \"13\": {\"13\": 3, \"95\": 3}, \"62\": {\"109\": 1, \"62\": 5}}, \"C_A_1\": {\"57\": {\"57\": 8, \"29\": 1, \"56\": 2, \"40\": 1}, \"24\": {\"22\": 3, \"24\": 9}, \"22\": {\"22\": 10, \"24\": 2}, \"17\": {\"17\": 10, \"6\": 1, \"48\": 1}, \"39\": {\"39\": 10, \"49\": 1, \"24\": 1}, \"12\": {\"12\": 8, \"20\": 2, \"51\": 2}, \"14\": {\"14\": 6, \"30\": 3, \"8\": 1, \"13\": 2}, \"35\": {\"35\": 12}, \"46\": {\"46\": 10, \"14\": 1, \"4\": 1}, \"27\": {\"24\": 1, \"27\": 11}, \"19\": {\"19\": 11, \"29\": 1}, \"10\": {\"10\": 7, \"11\": 3, \"22\": 1, \"15\": 1}, \"11\": {\"11\": 9, \"10\": 2, \"15\": 1}, \"18\": {\"18\": 8}, \"6\": {\"17\": 1, \"30\": 1, \"6\": 8, \"8\": 1, \"46\": 1}, \"30\": {\"30\": 12}, \"45\": {\"33\": 1, \"45\": 11}, \"8\": {\"8\": 11, \"9\": 1}, \"9\": {\"9\": 12}, \"33\": {\"45\": 1, \"33\": 8, \"25\": 1}, \"56\": {\"56\": 9, \"29\": 2, \"1\": 1}, \"52\": {\"52\": 10, \"31\": 2}, \"53\": {\"53\": 8, \"9\": 1, \"8\": 1, \"13\": 2}, \"41\": {\"41\": 12}, \"32\": {\"32\": 10, \"31\": 1, \"38\": 1}, \"7\": {\"7\": 4, \"33\": 1, \"25\": 1, \"37\": 2}, \"3\": {\"3\": 6, \"44\": 1, \"34\": 1, \"16\": 1, \"36\": 1}, \"49\": {\"49\": 9, \"27\": 1}, \"54\": {\"54\": 11, \"0\": 1}, \"44\": {\"47\": 2, \"35\": 1, \"29\": 2, \"44\": 5}, \"28\": {\"28\": 9, \"22\": 1}, \"51\": {\"45\": 2, \"51\": 7, \"29\": 1, \"20\": 1, \"41\": 1}, \"21\": {\"21\": 10}, \"4\": {\"4\": 6}, \"43\": {\"39\": 1, \"43\": 11}, \"47\": {\"44\": 2, \"47\": 6, \"29\": 1, \"35\": 1}, \"23\": {\"23\": 9, \"15\": 2, \"11\": 1}, \"36\": {\"10\": 1, \"36\": 9, \"16\": 2}, \"48\": {\"48\": 9, \"50\": 1, \"17\": 1, \"5\": 1}, \"29\": {\"29\": 6, \"56\": 1, \"57\": 1, \"35\": 1, \"19\": 1}, \"31\": {\"24\": 1, \"31\": 11}, \"20\": {\"29\": 1, \"20\": 7, \"16\": 1, \"51\": 1, \"45\": 1, \"14\": 1}, \"5\": {\"48\": 2, \"5\": 8}, \"50\": {\"50\": 7, \"2\": 1}, \"38\": {\"38\": 9, \"55\": 1}, \"1\": {\"45\": 1, \"1\": 4, \"35\": 1, \"42\": 3, \"57\": 1}, \"37\": {\"37\": 10, \"33\": 1, \"7\": 1}, \"25\": {\"26\": 3, \"25\": 8, \"45\": 1}, \"26\": {\"26\": 12}, \"34\": {\"34\": 12}, \"55\": {\"34\": 1, \"55\": 6, \"3\": 2, \"33\": 1}, \"16\": {\"16\": 12}, \"42\": {\"42\": 9, \"25\": 1}, \"40\": {\"40\": 9, \"1\": 1}, \"15\": {\"15\": 4, \"31\": 1, \"11\": 2, \"10\": 1}, \"2\": {\"2\": 9, \"17\": 1}, \"0\": {\"0\": 10}, \"13\": {\"13\": 10}}, \"C_A_3\": {\"20\": {\"20\": 8, \"6\": 1, \"2\": 1}, \"24\": {\"24\": 10, \"10\": 2}, \"6\": {\"6\": 9, \"3\": 1, \"50\": 2}, \"10\": {\"10\": 9, \"43\": 1}, \"52\": {\"52\": 11, \"25\": 1}, \"46\": {\"1\": 1, \"3\": 1, \"46\": 3, \"11\": 1, \"42\": 1, \"18\": 1, \"48\": 1, \"34\": 1, \"26\": 2}, \"35\": {\"3\": 1, \"35\": 11}, \"15\": {\"15\": 12}, \"5\": {\"5\": 7, \"35\": 1, \"47\": 2, \"55\": 1, \"34\": 1}, \"53\": {\"6\": 1, \"53\": 9}, \"37\": {\"37\": 12}, \"1\": {\"3\": 1, \"1\": 6, \"42\": 1, \"5\": 2, \"48\": 1, \"35\": 1}, \"3\": {\"35\": 1, \"3\": 3, \"36\": 1, \"29\": 1, \"18\": 1, \"48\": 1, \"47\": 1, \"2\": 1, \"52\": 1, \"1\": 1}, \"33\": {\"33\": 9, \"21\": 2, \"47\": 1}, \"0\": {\"0\": 11, \"39\": 1}, \"56\": {\"24\": 1, \"56\": 11}, \"45\": {\"45\": 9, \"4\": 1, \"12\": 1, \"9\": 1}, \"9\": {\"9\": 10, \"48\": 1, \"40\": 1}, \"43\": {\"43\": 10, \"10\": 2}, \"57\": {\"57\": 11, \"34\": 1}, \"54\": {\"48\": 1, \"54\": 11}, \"48\": {\"48\": 9, \"57\": 1}, \"38\": {\"38\": 12}, \"29\": {\"48\": 1, \"29\": 5, \"57\": 2, \"34\": 2}, \"47\": {\"47\": 10, \"34\": 1, \"5\": 1}, \"19\": {\"29\": 3, \"19\": 4, \"27\": 1, \"9\": 1, \"44\": 1, \"40\": 2}, \"17\": {\"17\": 11, \"12\": 1}, \"27\": {\"27\": 8, \"9\": 1, \"36\": 1}, \"42\": {\"42\": 10}, \"44\": {\"9\": 1, \"44\": 5, \"29\": 1, \"48\": 1, \"19\": 2}, \"49\": {\"49\": 11, \"22\": 1}, \"4\": {\"4\": 9, \"40\": 2, \"32\": 1}, \"41\": {\"41\": 9, \"46\": 1, \"25\": 1, \"39\": 1}, \"8\": {\"8\": 10}, \"13\": {\"13\": 12}, \"55\": {\"55\": 8, \"28\": 1, \"1\": 1}, \"7\": {\"7\": 10}, \"14\": {\"14\": 1, \"26\": 1, \"1\": 2, \"34\": 1, \"22\": 3, \"56\": 2, \"28\": 1, \"35\": 1}, \"26\": {\"26\": 6, \"0\": 2, \"42\": 1, \"18\": 1, \"34\": 1, \"55\": 1}, \"30\": {\"30\": 10, \"18\": 1, \"25\": 1}, \"34\": {\"34\": 7, \"28\": 2, \"23\": 1}, \"11\": {\"11\": 6, \"52\": 1, \"13\": 1}, \"40\": {\"40\": 8, \"19\": 1, \"29\": 1}, \"2\": {\"2\": 10}, \"51\": {\"51\": 11, \"8\": 1}, \"16\": {\"16\": 8, \"15\": 1, \"26\": 1}, \"36\": {\"12\": 1, \"36\": 7, \"2\": 2}, \"31\": {\"31\": 7, \"49\": 1}, \"21\": {\"21\": 11, \"25\": 1}, \"12\": {\"12\": 10, \"2\": 2}, \"22\": {\"14\": 2, \"22\": 8, \"56\": 1, \"7\": 1}, \"18\": {\"18\": 11, \"30\": 1}, \"32\": {\"9\": 2, \"32\": 9, \"27\": 1}, \"50\": {\"46\": 3, \"8\": 2, \"50\": 1, \"6\": 1, \"3\": 1, \"37\": 1, \"0\": 1}, \"25\": {\"25\": 7, \"2\": 1}, \"39\": {\"39\": 10}, \"28\": {\"47\": 2, \"28\": 8}, \"23\": {\"23\": 6}}}, \"per_domain_accuracy\": {\"ORACLE.run1_14\": {\"accuracy\": 0.8731770833333333, \"source?\": true}, \"ORACLE.run1_20\": {\"accuracy\": 0.7893229166666667, \"source?\": true}, \"ORACLE.run1_50\": {\"accuracy\": 0.8653645833333333, \"source?\": true}, \"ORACLE.run1_26\": {\"accuracy\": 0.6828125, \"source?\": true}, \"ORACLE.run1_32\": {\"accuracy\": 0.8580729166666666, \"source?\": true}, \"ORACLE.run1_44\": {\"accuracy\": 0.7307291666666667, \"source?\": true}, \"ORACLE.run1_8\": {\"accuracy\": 0.8231770833333333, \"source?\": true}, \"ORACLE.run1_38\": {\"accuracy\": 0.8677083333333333, \"source?\": true}, \"C_A_4\": {\"accuracy\": 0.7546875, \"source?\": false}, \"C_A_5\": {\"accuracy\": 0.8015625, \"source?\": false}, \"W_A_3\": {\"accuracy\": 0.4791666666666667, \"source?\": false}, \"W_A_4\": {\"accuracy\": 0.4602864583333333, \"source?\": false}, \"C_A_2\": {\"accuracy\": 0.7828125, \"source?\": false}, \"W_A_2\": {\"accuracy\": 0.4759114583333333, \"source?\": false}, \"W_A_1\": {\"accuracy\": 0.5139627659574468, \"source?\": false}, \"C_A_1\": {\"accuracy\": 0.803125, \"source?\": false}, \"C_A_3\": {\"accuracy\": 0.7765625, \"source?\": false}}}, \"history\": {\"epoch_indices\": [1, 2, 3, 4, 5, 6, 7, 8, 9, 10, 11], \"train_label_loss\": [1.0156715724173755, 4.310493649129889, 0.8502391858292477, 0.7148331697342829, 0.6213839631483313, 0.5771384540917573, 0.5466478661054723, 0.5137128814151288, 0.48436079472386545, 0.452510647481263, 0.41686900348161415], \"source_val_label_loss\": [62.18610382080078, 0.9139349460601807, 0.9059212803840637, 0.6625179052352905, 0.620783269405365, 0.5269631743431091, 0.5302674770355225, 0.5235152840614319, 0.47943708300590515, 0.46727246046066284, 0.4516528248786926], \"target_val_label_loss\": [20276.634765625, 1920.8551025390625, 700.7367553710938, 1082.6695556640625, 951.81103515625, 452.25006103515625, 247.50872802734375, 495.7704162597656, 780.2415771484375, 915.0615234375, 1006.3797607421875], \"source_val_acc_label\": [0.6608072916666666, 0.6691080729166666, 0.6673177083333334, 0.7611653645833333, 0.7778645833333333, 0.8138997395833333, 0.8112955729166667, 0.81357421875, 0.8349609375, 0.8316080729166667, 0.8396484375], \"target_val_acc_label\": [0.42869415807560135, 0.53125, 0.555090206185567, 0.5146048109965635, 0.5066580756013745, 0.5653994845360825, 0.585803264604811, 0.5738831615120275, 0.541344501718213, 0.5423109965635738, 0.5468213058419243]}, \"dataset_metrics\": {\"source\": {\"train\": {\"n_unique_x\": 179200, \"n_unique_y\": 16, \"n_batch/episode\": 6720}, \"val\": {\"n_unique_x\": 38400, \"n_unique_y\": 16, \"n_batch/episode\": 960}, \"test\": {\"n_unique_x\": 38400, \"n_unique_y\": 16, \"n_batch/episode\": 960}}, \"target\": {\"train\": {\"n_unique_x\": 56697, \"n_unique_y\": 130, \"n_batch/episode\": 2082}, \"val\": {\"n_unique_x\": 12121, \"n_unique_y\": 130, \"n_batch/episode\": 291}, \"test\": {\"n_unique_x\": 12121, \"n_unique_y\": 130, \"n_batch/episode\": 291}}}}'"
      ]
     },
     "execution_count": 29,
     "metadata": {},
     "output_type": "execute_result"
    }
   ],
   "source": [
    "json.dumps(experiment)"
   ]
  }
 ],
 "metadata": {
  "celltoolbar": "Tags",
  "kernelspec": {
   "display_name": "Python 3 (ipykernel)",
   "language": "python",
   "name": "python3"
  },
  "language_info": {
   "codemirror_mode": {
    "name": "ipython",
    "version": 3
   },
   "file_extension": ".py",
   "mimetype": "text/x-python",
   "name": "python",
   "nbconvert_exporter": "python",
   "pygments_lexer": "ipython3",
   "version": "3.8.10"
  },
  "papermill": {
   "default_parameters": {},
   "duration": 1857.599242,
   "end_time": "2022-03-18T16:59:01.609796",
   "environment_variables": {},
   "exception": null,
   "input_path": "/mnt/wd500GB/CSC500/csc500-main/csc500-notebooks/templates/tl_ptn_template.ipynb",
   "output_path": "trial.ipynb",
   "parameters": {
    "parameters": {
     "BEST_MODEL_PATH": "./best_model.pth",
     "NUM_LOGS_PER_EPOCH": 10,
     "criteria_for_best": "target_loss",
     "dataset_seed": 420,
     "datasets": [
      {
       "domain_prefix": "C_A_",
       "domains": [
        1,
        2,
        3,
        4,
        5
       ],
       "episode_transforms": [],
       "labels": [
        "1-10.",
        "1-11.",
        "1-15.",
        "1-16.",
        "1-17.",
        "1-18.",
        "1-19.",
        "10-4.",
        "10-7.",
        "11-1.",
        "11-14.",
        "11-17.",
        "11-20.",
        "11-7.",
        "13-20.",
        "13-8.",
        "14-10.",
        "14-11.",
        "14-14.",
        "14-7.",
        "15-1.",
        "15-20.",
        "16-1.",
        "16-16.",
        "17-10.",
        "17-11.",
        "17-2.",
        "19-1.",
        "19-16.",
        "19-19.",
        "19-20.",
        "19-3.",
        "2-10.",
        "2-11.",
        "2-17.",
        "2-18.",
        "2-20.",
        "2-3.",
        "2-4.",
        "2-5.",
        "2-6.",
        "2-7.",
        "2-8.",
        "3-13.",
        "3-18.",
        "3-3.",
        "4-1.",
        "4-10.",
        "4-11.",
        "4-19.",
        "5-5.",
        "6-15.",
        "7-10.",
        "7-14.",
        "8-18.",
        "8-20.",
        "8-3.",
        "8-8."
       ],
       "num_examples_per_domain_per_label": 100,
       "pickle_path": "/mnt/wd500GB/CSC500/csc500-main/datasets/cores.stratified_ds.2022A.pkl",
       "source_or_target_dataset": "target",
       "x_transforms": [
        "unit_power",
        "take_200"
       ]
      },
      {
       "domain_prefix": "W_A_",
       "domains": [
        1,
        2,
        3,
        4
       ],
       "episode_transforms": [],
       "labels": [
        "1-10",
        "1-12",
        "1-14",
        "1-16",
        "1-18",
        "1-19",
        "1-8",
        "10-11",
        "10-17",
        "10-4",
        "10-7",
        "11-1",
        "11-10",
        "11-19",
        "11-20",
        "11-4",
        "11-7",
        "12-19",
        "12-20",
        "12-7",
        "13-14",
        "13-18",
        "13-19",
        "13-20",
        "13-3",
        "13-7",
        "14-10",
        "14-11",
        "14-12",
        "14-13",
        "14-14",
        "14-19",
        "14-20",
        "14-7",
        "14-8",
        "14-9",
        "15-1",
        "15-19",
        "15-6",
        "16-1",
        "16-16",
        "16-19",
        "16-20",
        "17-10",
        "17-11",
        "18-1",
        "18-10",
        "18-11",
        "18-12",
        "18-13",
        "18-14",
        "18-15",
        "18-16",
        "18-17",
        "18-19",
        "18-2",
        "18-20",
        "18-4",
        "18-5",
        "18-7",
        "18-8",
        "18-9",
        "19-1",
        "19-10",
        "19-11",
        "19-12",
        "19-13",
        "19-14",
        "19-15",
        "19-19",
        "19-2",
        "19-20",
        "19-3",
        "19-4",
        "19-6",
        "19-7",
        "19-8",
        "19-9",
        "2-1",
        "2-13",
        "2-15",
        "2-3",
        "2-4",
        "2-5",
        "2-6",
        "2-7",
        "2-8",
        "20-1",
        "20-12",
        "20-14",
        "20-15",
        "20-16",
        "20-18",
        "20-19",
        "20-20",
        "20-3",
        "20-4",
        "20-5",
        "20-7",
        "20-8",
        "3-1",
        "3-13",
        "3-18",
        "3-2",
        "3-8",
        "4-1",
        "4-10",
        "4-11",
        "5-1",
        "5-5",
        "6-1",
        "6-15",
        "6-6",
        "7-10",
        "7-11",
        "7-12",
        "7-13",
        "7-14",
        "7-7",
        "7-8",
        "7-9",
        "8-1",
        "8-13",
        "8-14",
        "8-18",
        "8-20",
        "8-3",
        "8-8",
        "9-1",
        "9-7"
       ],
       "num_examples_per_domain_per_label": 100,
       "pickle_path": "/mnt/wd500GB/CSC500/csc500-main/datasets/wisig.node3-19.stratified_ds.2022A.pkl",
       "source_or_target_dataset": "target",
       "x_transforms": [
        "unit_power",
        "take_200"
       ]
      },
      {
       "domain_prefix": "ORACLE.run1_",
       "domains": [
        32,
        38,
        8,
        44,
        14,
        50,
        20,
        26
       ],
       "episode_transforms": [],
       "labels": [
        "3123D52",
        "3123D65",
        "3123D79",
        "3123D80",
        "3123D54",
        "3123D70",
        "3123D7B",
        "3123D89",
        "3123D58",
        "3123D76",
        "3123D7D",
        "3123EFE",
        "3123D64",
        "3123D78",
        "3123D7E",
        "3124E4A"
       ],
       "num_examples_per_domain_per_label": 2000,
       "pickle_path": "/mnt/wd500GB/CSC500/csc500-main/datasets/oracle.Run1_framed_2000Examples_stratified_ds.2022A.pkl",
       "source_or_target_dataset": "source",
       "x_transforms": [
        "unit_power",
        "take_200",
        "resample_20Msps_to_25Msps"
       ]
      }
     ],
     "device": "cuda",
     "experiment_name": "tl_3A:oracle.run1.framed -> cores+wisig",
     "lr": 0.001,
     "n_epoch": 50,
     "n_query": 2,
     "n_shot": 3,
     "n_way": 16,
     "patience": 3,
     "seed": 420,
     "test_k_factor": 2,
     "torch_default_dtype": "torch.float32",
     "train_k_factor": 3,
     "val_k_factor": 2,
     "x_net": [
      {
       "class": "nnReshape",
       "kargs": {
        "shape": [
         -1,
         1,
         2,
         200
        ]
       }
      },
      {
       "class": "Conv2d",
       "kargs": {
        "bias": false,
        "in_channels": 1,
        "kernel_size": [
         1,
         7
        ],
        "out_channels": 256,
        "padding": [
         0,
         3
        ]
       }
      },
      {
       "class": "ReLU",
       "kargs": {
        "inplace": true
       }
      },
      {
       "class": "BatchNorm2d",
       "kargs": {
        "num_features": 256
       }
      },
      {
       "class": "Conv2d",
       "kargs": {
        "bias": true,
        "in_channels": 256,
        "kernel_size": [
         2,
         7
        ],
        "out_channels": 80,
        "padding": [
         0,
         3
        ]
       }
      },
      {
       "class": "ReLU",
       "kargs": {
        "inplace": true
       }
      },
      {
       "class": "BatchNorm2d",
       "kargs": {
        "num_features": 80
       }
      },
      {
       "class": "Flatten",
       "kargs": {}
      },
      {
       "class": "Linear",
       "kargs": {
        "in_features": 16000,
        "out_features": 256
       }
      },
      {
       "class": "ReLU",
       "kargs": {
        "inplace": true
       }
      },
      {
       "class": "BatchNorm1d",
       "kargs": {
        "num_features": 256
       }
      },
      {
       "class": "Linear",
       "kargs": {
        "in_features": 256,
        "out_features": 256
       }
      }
     ],
     "x_shape": [
      2,
      200
     ]
    }
   },
   "start_time": "2022-03-18T16:28:04.010554",
   "version": "2.3.4"
  }
 },
 "nbformat": 4,
 "nbformat_minor": 5
}