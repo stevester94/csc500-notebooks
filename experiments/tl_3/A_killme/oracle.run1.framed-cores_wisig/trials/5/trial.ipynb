{
 "cells": [
  {
   "cell_type": "markdown",
   "id": "9fea5f46",
   "metadata": {
    "papermill": {
     "duration": 0.018109,
     "end_time": "2022-03-18T17:22:06.086203",
     "exception": false,
     "start_time": "2022-03-18T17:22:06.068094",
     "status": "completed"
    },
    "tags": []
   },
   "source": [
    "# Transfer Learning Template"
   ]
  },
  {
   "cell_type": "code",
   "execution_count": 1,
   "id": "0902182a",
   "metadata": {
    "execution": {
     "iopub.execute_input": "2022-03-18T17:22:06.126207Z",
     "iopub.status.busy": "2022-03-18T17:22:06.125737Z",
     "iopub.status.idle": "2022-03-18T17:22:07.023350Z",
     "shell.execute_reply": "2022-03-18T17:22:07.023572Z"
    },
    "papermill": {
     "duration": 0.925008,
     "end_time": "2022-03-18T17:22:07.023671",
     "exception": false,
     "start_time": "2022-03-18T17:22:06.098663",
     "status": "completed"
    },
    "tags": []
   },
   "outputs": [],
   "source": [
    "%load_ext autoreload\n",
    "%autoreload 2\n",
    "%matplotlib inline\n",
    "\n",
    "    \n",
    "import os, json, sys, time, random\n",
    "import numpy as np\n",
    "import torch\n",
    "from torch.optim import Adam\n",
    "from  easydict import EasyDict\n",
    "import matplotlib.pyplot as plt\n",
    "\n",
    "from steves_models.steves_ptn import Steves_Prototypical_Network\n",
    "\n",
    "from steves_utils.lazy_iterable_wrapper import Lazy_Iterable_Wrapper\n",
    "from steves_utils.iterable_aggregator import Iterable_Aggregator\n",
    "from steves_utils.ptn_train_eval_test_jig import  PTN_Train_Eval_Test_Jig\n",
    "from steves_utils.torch_sequential_builder import build_sequential\n",
    "from steves_utils.torch_utils import get_dataset_metrics, ptn_confusion_by_domain_over_dataloader\n",
    "from steves_utils.utils_v2 import (per_domain_accuracy_from_confusion, get_datasets_base_path)\n",
    "from steves_utils.PTN.utils import independent_accuracy_assesment\n",
    "\n",
    "from torch.utils.data import DataLoader\n",
    "\n",
    "from steves_utils.stratified_dataset.episodic_accessor import Episodic_Accessor_Factory\n",
    "\n",
    "from steves_utils.ptn_do_report import (\n",
    "    get_loss_curve,\n",
    "    get_results_table,\n",
    "    get_parameters_table,\n",
    "    get_domain_accuracies,\n",
    ")\n",
    "\n",
    "from steves_utils.transforms import get_chained_transform"
   ]
  },
  {
   "cell_type": "markdown",
   "id": "41c840b4",
   "metadata": {
    "papermill": {
     "duration": 0.013142,
     "end_time": "2022-03-18T17:22:07.050631",
     "exception": false,
     "start_time": "2022-03-18T17:22:07.037489",
     "status": "completed"
    },
    "tags": []
   },
   "source": [
    "# Allowed Parameters\n",
    "These are allowed parameters, not defaults\n",
    "Each of these values need to be present in the injected parameters (the notebook will raise an exception if they are not present)\n",
    "\n",
    "Papermill uses the cell tag \"parameters\" to inject the real parameters below this cell.\n",
    "Enable tags to see what I mean"
   ]
  },
  {
   "cell_type": "code",
   "execution_count": 2,
   "id": "fd44eb83",
   "metadata": {
    "execution": {
     "iopub.execute_input": "2022-03-18T17:22:07.078939Z",
     "iopub.status.busy": "2022-03-18T17:22:07.078682Z",
     "iopub.status.idle": "2022-03-18T17:22:07.095074Z",
     "shell.execute_reply": "2022-03-18T17:22:07.095454Z"
    },
    "papermill": {
     "duration": 0.03178,
     "end_time": "2022-03-18T17:22:07.095557",
     "exception": false,
     "start_time": "2022-03-18T17:22:07.063777",
     "status": "completed"
    },
    "tags": []
   },
   "outputs": [],
   "source": [
    "required_parameters = {\n",
    "    \"experiment_name\",\n",
    "    \"lr\",\n",
    "    \"device\",\n",
    "    \"seed\",\n",
    "    \"dataset_seed\",\n",
    "    \"n_shot\",\n",
    "    \"n_query\",\n",
    "    \"n_way\",\n",
    "    \"train_k_factor\",\n",
    "    \"val_k_factor\",\n",
    "    \"test_k_factor\",\n",
    "    \"n_epoch\",\n",
    "    \"patience\",\n",
    "    \"criteria_for_best\",\n",
    "    \"x_net\",\n",
    "    \"datasets\",\n",
    "    \"torch_default_dtype\",\n",
    "    \"NUM_LOGS_PER_EPOCH\",\n",
    "    \"BEST_MODEL_PATH\",\n",
    "    \"x_shape\",\n",
    "}"
   ]
  },
  {
   "cell_type": "code",
   "execution_count": 3,
   "id": "fa3f0049",
   "metadata": {
    "execution": {
     "iopub.execute_input": "2022-03-18T17:22:07.130092Z",
     "iopub.status.busy": "2022-03-18T17:22:07.129815Z",
     "iopub.status.idle": "2022-03-18T17:22:07.141475Z",
     "shell.execute_reply": "2022-03-18T17:22:07.141846Z"
    },
    "papermill": {
     "duration": 0.031019,
     "end_time": "2022-03-18T17:22:07.141949",
     "exception": false,
     "start_time": "2022-03-18T17:22:07.110930",
     "status": "completed"
    },
    "tags": [
     "parameters"
    ]
   },
   "outputs": [],
   "source": [
    "from steves_utils.CORES.utils import (\n",
    "    ALL_NODES,\n",
    "    ALL_NODES_MINIMUM_1000_EXAMPLES,\n",
    "    ALL_DAYS\n",
    ")\n",
    "\n",
    "from steves_utils.ORACLE.utils_v2 import (\n",
    "    ALL_DISTANCES_FEET_NARROWED,\n",
    "    ALL_RUNS,\n",
    "    ALL_SERIAL_NUMBERS,\n",
    ")\n",
    "\n",
    "standalone_parameters = {}\n",
    "standalone_parameters[\"experiment_name\"] = \"STANDALONE PTN\"\n",
    "standalone_parameters[\"lr\"] = 0.001\n",
    "standalone_parameters[\"device\"] = \"cuda\"\n",
    "\n",
    "standalone_parameters[\"seed\"] = 1337\n",
    "standalone_parameters[\"dataset_seed\"] = 1337\n",
    "\n",
    "standalone_parameters[\"n_way\"] = 8\n",
    "standalone_parameters[\"n_shot\"] = 3\n",
    "standalone_parameters[\"n_query\"]  = 2\n",
    "standalone_parameters[\"train_k_factor\"] = 1\n",
    "standalone_parameters[\"val_k_factor\"] = 2\n",
    "standalone_parameters[\"test_k_factor\"] = 2\n",
    "\n",
    "\n",
    "standalone_parameters[\"n_epoch\"] = 50\n",
    "\n",
    "standalone_parameters[\"patience\"] = 10\n",
    "standalone_parameters[\"criteria_for_best\"] = \"source_loss\"\n",
    "\n",
    "standalone_parameters[\"datasets\"] = [\n",
    "    {\n",
    "        \"labels\": ALL_SERIAL_NUMBERS,\n",
    "        \"domains\": ALL_DISTANCES_FEET_NARROWED,\n",
    "        \"num_examples_per_domain_per_label\": 100,\n",
    "        \"pickle_path\": os.path.join(get_datasets_base_path(), \"oracle.Run1_framed_2000Examples_stratified_ds.2022A.pkl\"),\n",
    "        \"source_or_target_dataset\": \"source\",\n",
    "        \"x_transforms\": [\"unit_mag\", \"minus_two\"],\n",
    "        \"episode_transforms\": [],\n",
    "        \"domain_prefix\": \"ORACLE_\"\n",
    "    },\n",
    "    {\n",
    "        \"labels\": ALL_NODES,\n",
    "        \"domains\": ALL_DAYS,\n",
    "        \"num_examples_per_domain_per_label\": 100,\n",
    "        \"pickle_path\": os.path.join(get_datasets_base_path(), \"cores.stratified_ds.2022A.pkl\"),\n",
    "        \"source_or_target_dataset\": \"target\",\n",
    "        \"x_transforms\": [\"unit_power\", \"times_zero\"],\n",
    "        \"episode_transforms\": [],\n",
    "        \"domain_prefix\": \"CORES_\"\n",
    "    }   \n",
    "]\n",
    "\n",
    "standalone_parameters[\"torch_default_dtype\"] = \"torch.float32\" \n",
    "\n",
    "\n",
    "\n",
    "standalone_parameters[\"x_net\"] =     [\n",
    "    {\"class\": \"nnReshape\", \"kargs\": {\"shape\":[-1, 1, 2, 256]}},\n",
    "    {\"class\": \"Conv2d\", \"kargs\": { \"in_channels\":1, \"out_channels\":256, \"kernel_size\":(1,7), \"bias\":False, \"padding\":(0,3), },},\n",
    "    {\"class\": \"ReLU\", \"kargs\": {\"inplace\": True}},\n",
    "    {\"class\": \"BatchNorm2d\", \"kargs\": {\"num_features\":256}},\n",
    "\n",
    "    {\"class\": \"Conv2d\", \"kargs\": { \"in_channels\":256, \"out_channels\":80, \"kernel_size\":(2,7), \"bias\":True, \"padding\":(0,3), },},\n",
    "    {\"class\": \"ReLU\", \"kargs\": {\"inplace\": True}},\n",
    "    {\"class\": \"BatchNorm2d\", \"kargs\": {\"num_features\":80}},\n",
    "    {\"class\": \"Flatten\", \"kargs\": {}},\n",
    "\n",
    "    {\"class\": \"Linear\", \"kargs\": {\"in_features\": 80*256, \"out_features\": 256}}, # 80 units per IQ pair\n",
    "    {\"class\": \"ReLU\", \"kargs\": {\"inplace\": True}},\n",
    "    {\"class\": \"BatchNorm1d\", \"kargs\": {\"num_features\":256}},\n",
    "\n",
    "    {\"class\": \"Linear\", \"kargs\": {\"in_features\": 256, \"out_features\": 256}},\n",
    "]\n",
    "\n",
    "# Parameters relevant to results\n",
    "# These parameters will basically never need to change\n",
    "standalone_parameters[\"NUM_LOGS_PER_EPOCH\"] = 10\n",
    "standalone_parameters[\"BEST_MODEL_PATH\"] = \"./best_model.pth\"\n",
    "\n",
    "\n",
    "\n",
    "\n"
   ]
  },
  {
   "cell_type": "code",
   "execution_count": 4,
   "id": "ee40b8a4",
   "metadata": {
    "execution": {
     "iopub.execute_input": "2022-03-18T17:22:07.186716Z",
     "iopub.status.busy": "2022-03-18T17:22:07.186146Z",
     "iopub.status.idle": "2022-03-18T17:22:07.198952Z",
     "shell.execute_reply": "2022-03-18T17:22:07.198556Z"
    },
    "papermill": {
     "duration": 0.039282,
     "end_time": "2022-03-18T17:22:07.199040",
     "exception": false,
     "start_time": "2022-03-18T17:22:07.159758",
     "status": "completed"
    },
    "tags": [
     "injected-parameters"
    ]
   },
   "outputs": [],
   "source": [
    "# Parameters\n",
    "parameters = {\n",
    "    \"experiment_name\": \"tl_3A:oracle.run1.framed -> cores+wisig\",\n",
    "    \"device\": \"cuda\",\n",
    "    \"lr\": 0.001,\n",
    "    \"seed\": 420,\n",
    "    \"dataset_seed\": 420,\n",
    "    \"x_shape\": [2, 200],\n",
    "    \"n_shot\": 3,\n",
    "    \"n_query\": 2,\n",
    "    \"train_k_factor\": 3,\n",
    "    \"val_k_factor\": 2,\n",
    "    \"test_k_factor\": 2,\n",
    "    \"torch_default_dtype\": \"torch.float32\",\n",
    "    \"n_epoch\": 50,\n",
    "    \"patience\": 3,\n",
    "    \"criteria_for_best\": \"target_loss\",\n",
    "    \"x_net\": [\n",
    "        {\"class\": \"nnReshape\", \"kargs\": {\"shape\": [-1, 1, 2, 200]}},\n",
    "        {\n",
    "            \"class\": \"Conv2d\",\n",
    "            \"kargs\": {\n",
    "                \"in_channels\": 1,\n",
    "                \"out_channels\": 256,\n",
    "                \"kernel_size\": [1, 7],\n",
    "                \"bias\": False,\n",
    "                \"padding\": [0, 3],\n",
    "            },\n",
    "        },\n",
    "        {\"class\": \"ReLU\", \"kargs\": {\"inplace\": True}},\n",
    "        {\"class\": \"BatchNorm2d\", \"kargs\": {\"num_features\": 256}},\n",
    "        {\n",
    "            \"class\": \"Conv2d\",\n",
    "            \"kargs\": {\n",
    "                \"in_channels\": 256,\n",
    "                \"out_channels\": 80,\n",
    "                \"kernel_size\": [2, 7],\n",
    "                \"bias\": True,\n",
    "                \"padding\": [0, 3],\n",
    "            },\n",
    "        },\n",
    "        {\"class\": \"ReLU\", \"kargs\": {\"inplace\": True}},\n",
    "        {\"class\": \"BatchNorm2d\", \"kargs\": {\"num_features\": 80}},\n",
    "        {\"class\": \"Flatten\", \"kargs\": {}},\n",
    "        {\"class\": \"Linear\", \"kargs\": {\"in_features\": 16000, \"out_features\": 256}},\n",
    "        {\"class\": \"ReLU\", \"kargs\": {\"inplace\": True}},\n",
    "        {\"class\": \"BatchNorm1d\", \"kargs\": {\"num_features\": 256}},\n",
    "        {\"class\": \"Linear\", \"kargs\": {\"in_features\": 256, \"out_features\": 256}},\n",
    "    ],\n",
    "    \"NUM_LOGS_PER_EPOCH\": 10,\n",
    "    \"BEST_MODEL_PATH\": \"./best_model.pth\",\n",
    "    \"n_way\": 16,\n",
    "    \"datasets\": [\n",
    "        {\n",
    "            \"labels\": [\n",
    "                \"1-10.\",\n",
    "                \"1-11.\",\n",
    "                \"1-15.\",\n",
    "                \"1-16.\",\n",
    "                \"1-17.\",\n",
    "                \"1-18.\",\n",
    "                \"1-19.\",\n",
    "                \"10-4.\",\n",
    "                \"10-7.\",\n",
    "                \"11-1.\",\n",
    "                \"11-14.\",\n",
    "                \"11-17.\",\n",
    "                \"11-20.\",\n",
    "                \"11-7.\",\n",
    "                \"13-20.\",\n",
    "                \"13-8.\",\n",
    "                \"14-10.\",\n",
    "                \"14-11.\",\n",
    "                \"14-14.\",\n",
    "                \"14-7.\",\n",
    "                \"15-1.\",\n",
    "                \"15-20.\",\n",
    "                \"16-1.\",\n",
    "                \"16-16.\",\n",
    "                \"17-10.\",\n",
    "                \"17-11.\",\n",
    "                \"17-2.\",\n",
    "                \"19-1.\",\n",
    "                \"19-16.\",\n",
    "                \"19-19.\",\n",
    "                \"19-20.\",\n",
    "                \"19-3.\",\n",
    "                \"2-10.\",\n",
    "                \"2-11.\",\n",
    "                \"2-17.\",\n",
    "                \"2-18.\",\n",
    "                \"2-20.\",\n",
    "                \"2-3.\",\n",
    "                \"2-4.\",\n",
    "                \"2-5.\",\n",
    "                \"2-6.\",\n",
    "                \"2-7.\",\n",
    "                \"2-8.\",\n",
    "                \"3-13.\",\n",
    "                \"3-18.\",\n",
    "                \"3-3.\",\n",
    "                \"4-1.\",\n",
    "                \"4-10.\",\n",
    "                \"4-11.\",\n",
    "                \"4-19.\",\n",
    "                \"5-5.\",\n",
    "                \"6-15.\",\n",
    "                \"7-10.\",\n",
    "                \"7-14.\",\n",
    "                \"8-18.\",\n",
    "                \"8-20.\",\n",
    "                \"8-3.\",\n",
    "                \"8-8.\",\n",
    "            ],\n",
    "            \"domains\": [1, 2, 3, 4, 5],\n",
    "            \"num_examples_per_domain_per_label\": 100,\n",
    "            \"pickle_path\": \"/mnt/wd500GB/CSC500/csc500-main/datasets/cores.stratified_ds.2022A.pkl\",\n",
    "            \"source_or_target_dataset\": \"target\",\n",
    "            \"x_transforms\": [\"take_200\"],\n",
    "            \"episode_transforms\": [],\n",
    "            \"domain_prefix\": \"C_A_\",\n",
    "        },\n",
    "        {\n",
    "            \"labels\": [\n",
    "                \"1-10\",\n",
    "                \"1-12\",\n",
    "                \"1-14\",\n",
    "                \"1-16\",\n",
    "                \"1-18\",\n",
    "                \"1-19\",\n",
    "                \"1-8\",\n",
    "                \"10-11\",\n",
    "                \"10-17\",\n",
    "                \"10-4\",\n",
    "                \"10-7\",\n",
    "                \"11-1\",\n",
    "                \"11-10\",\n",
    "                \"11-19\",\n",
    "                \"11-20\",\n",
    "                \"11-4\",\n",
    "                \"11-7\",\n",
    "                \"12-19\",\n",
    "                \"12-20\",\n",
    "                \"12-7\",\n",
    "                \"13-14\",\n",
    "                \"13-18\",\n",
    "                \"13-19\",\n",
    "                \"13-20\",\n",
    "                \"13-3\",\n",
    "                \"13-7\",\n",
    "                \"14-10\",\n",
    "                \"14-11\",\n",
    "                \"14-12\",\n",
    "                \"14-13\",\n",
    "                \"14-14\",\n",
    "                \"14-19\",\n",
    "                \"14-20\",\n",
    "                \"14-7\",\n",
    "                \"14-8\",\n",
    "                \"14-9\",\n",
    "                \"15-1\",\n",
    "                \"15-19\",\n",
    "                \"15-6\",\n",
    "                \"16-1\",\n",
    "                \"16-16\",\n",
    "                \"16-19\",\n",
    "                \"16-20\",\n",
    "                \"17-10\",\n",
    "                \"17-11\",\n",
    "                \"18-1\",\n",
    "                \"18-10\",\n",
    "                \"18-11\",\n",
    "                \"18-12\",\n",
    "                \"18-13\",\n",
    "                \"18-14\",\n",
    "                \"18-15\",\n",
    "                \"18-16\",\n",
    "                \"18-17\",\n",
    "                \"18-19\",\n",
    "                \"18-2\",\n",
    "                \"18-20\",\n",
    "                \"18-4\",\n",
    "                \"18-5\",\n",
    "                \"18-7\",\n",
    "                \"18-8\",\n",
    "                \"18-9\",\n",
    "                \"19-1\",\n",
    "                \"19-10\",\n",
    "                \"19-11\",\n",
    "                \"19-12\",\n",
    "                \"19-13\",\n",
    "                \"19-14\",\n",
    "                \"19-15\",\n",
    "                \"19-19\",\n",
    "                \"19-2\",\n",
    "                \"19-20\",\n",
    "                \"19-3\",\n",
    "                \"19-4\",\n",
    "                \"19-6\",\n",
    "                \"19-7\",\n",
    "                \"19-8\",\n",
    "                \"19-9\",\n",
    "                \"2-1\",\n",
    "                \"2-13\",\n",
    "                \"2-15\",\n",
    "                \"2-3\",\n",
    "                \"2-4\",\n",
    "                \"2-5\",\n",
    "                \"2-6\",\n",
    "                \"2-7\",\n",
    "                \"2-8\",\n",
    "                \"20-1\",\n",
    "                \"20-12\",\n",
    "                \"20-14\",\n",
    "                \"20-15\",\n",
    "                \"20-16\",\n",
    "                \"20-18\",\n",
    "                \"20-19\",\n",
    "                \"20-20\",\n",
    "                \"20-3\",\n",
    "                \"20-4\",\n",
    "                \"20-5\",\n",
    "                \"20-7\",\n",
    "                \"20-8\",\n",
    "                \"3-1\",\n",
    "                \"3-13\",\n",
    "                \"3-18\",\n",
    "                \"3-2\",\n",
    "                \"3-8\",\n",
    "                \"4-1\",\n",
    "                \"4-10\",\n",
    "                \"4-11\",\n",
    "                \"5-1\",\n",
    "                \"5-5\",\n",
    "                \"6-1\",\n",
    "                \"6-15\",\n",
    "                \"6-6\",\n",
    "                \"7-10\",\n",
    "                \"7-11\",\n",
    "                \"7-12\",\n",
    "                \"7-13\",\n",
    "                \"7-14\",\n",
    "                \"7-7\",\n",
    "                \"7-8\",\n",
    "                \"7-9\",\n",
    "                \"8-1\",\n",
    "                \"8-13\",\n",
    "                \"8-14\",\n",
    "                \"8-18\",\n",
    "                \"8-20\",\n",
    "                \"8-3\",\n",
    "                \"8-8\",\n",
    "                \"9-1\",\n",
    "                \"9-7\",\n",
    "            ],\n",
    "            \"domains\": [1, 2, 3, 4],\n",
    "            \"num_examples_per_domain_per_label\": 100,\n",
    "            \"pickle_path\": \"/mnt/wd500GB/CSC500/csc500-main/datasets/wisig.node3-19.stratified_ds.2022A.pkl\",\n",
    "            \"source_or_target_dataset\": \"target\",\n",
    "            \"x_transforms\": [\"take_200\"],\n",
    "            \"episode_transforms\": [],\n",
    "            \"domain_prefix\": \"W_A_\",\n",
    "        },\n",
    "        {\n",
    "            \"labels\": [\n",
    "                \"3123D52\",\n",
    "                \"3123D65\",\n",
    "                \"3123D79\",\n",
    "                \"3123D80\",\n",
    "                \"3123D54\",\n",
    "                \"3123D70\",\n",
    "                \"3123D7B\",\n",
    "                \"3123D89\",\n",
    "                \"3123D58\",\n",
    "                \"3123D76\",\n",
    "                \"3123D7D\",\n",
    "                \"3123EFE\",\n",
    "                \"3123D64\",\n",
    "                \"3123D78\",\n",
    "                \"3123D7E\",\n",
    "                \"3124E4A\",\n",
    "            ],\n",
    "            \"domains\": [32, 38, 8, 44, 14, 50, 20, 26],\n",
    "            \"num_examples_per_domain_per_label\": 2000,\n",
    "            \"pickle_path\": \"/mnt/wd500GB/CSC500/csc500-main/datasets/oracle.Run1_framed_2000Examples_stratified_ds.2022A.pkl\",\n",
    "            \"source_or_target_dataset\": \"source\",\n",
    "            \"x_transforms\": [\"take_200\", \"resample_20Msps_to_25Msps\"],\n",
    "            \"episode_transforms\": [],\n",
    "            \"domain_prefix\": \"ORACLE.run1_\",\n",
    "        },\n",
    "    ],\n",
    "}\n"
   ]
  },
  {
   "cell_type": "code",
   "execution_count": 5,
   "id": "8fa1cc33",
   "metadata": {
    "execution": {
     "iopub.execute_input": "2022-03-18T17:22:07.235701Z",
     "iopub.status.busy": "2022-03-18T17:22:07.235419Z",
     "iopub.status.idle": "2022-03-18T17:22:07.249954Z",
     "shell.execute_reply": "2022-03-18T17:22:07.249505Z"
    },
    "papermill": {
     "duration": 0.031856,
     "end_time": "2022-03-18T17:22:07.250043",
     "exception": false,
     "start_time": "2022-03-18T17:22:07.218187",
     "status": "completed"
    },
    "tags": []
   },
   "outputs": [],
   "source": [
    "# Set this to True if you want to run this template directly\n",
    "STANDALONE = False\n",
    "if STANDALONE:\n",
    "    print(\"parameters not injected, running with standalone_parameters\")\n",
    "    parameters = standalone_parameters\n",
    "\n",
    "if not 'parameters' in locals() and not 'parameters' in globals():\n",
    "    raise Exception(\"Parameter injection failed\")\n",
    "\n",
    "#Use an easy dict for all the parameters\n",
    "p = EasyDict(parameters)\n",
    "\n",
    "if \"x_shape\" not in p:\n",
    "    p.x_shape = [2,256] # Default to this if we dont supply x_shape\n",
    "\n",
    "\n",
    "supplied_keys = set(p.keys())\n",
    "\n",
    "if  supplied_keys != required_parameters:\n",
    "    print(\"Parameters are incorrect\")\n",
    "    if len(supplied_keys - required_parameters)>0: print(\"Shouldn't have:\", str(supplied_keys - required_parameters))\n",
    "    if len(required_parameters - supplied_keys)>0: print(\"Need to have:\", str(required_parameters - supplied_keys))\n",
    "    raise RuntimeError(\"Parameters are incorrect\")"
   ]
  },
  {
   "cell_type": "code",
   "execution_count": 6,
   "id": "3a028d58",
   "metadata": {
    "execution": {
     "iopub.execute_input": "2022-03-18T17:22:07.283363Z",
     "iopub.status.busy": "2022-03-18T17:22:07.283100Z",
     "iopub.status.idle": "2022-03-18T17:22:07.296381Z",
     "shell.execute_reply": "2022-03-18T17:22:07.295938Z"
    },
    "papermill": {
     "duration": 0.028552,
     "end_time": "2022-03-18T17:22:07.296469",
     "exception": false,
     "start_time": "2022-03-18T17:22:07.267917",
     "status": "completed"
    },
    "tags": []
   },
   "outputs": [],
   "source": [
    "###################################\n",
    "# Set the RNGs and make it all deterministic\n",
    "###################################\n",
    "np.random.seed(p.seed)\n",
    "random.seed(p.seed)\n",
    "torch.manual_seed(p.seed)\n",
    "\n",
    "torch.use_deterministic_algorithms(True) "
   ]
  },
  {
   "cell_type": "code",
   "execution_count": 7,
   "id": "b691acf6",
   "metadata": {
    "execution": {
     "iopub.execute_input": "2022-03-18T17:22:07.330589Z",
     "iopub.status.busy": "2022-03-18T17:22:07.330347Z",
     "iopub.status.idle": "2022-03-18T17:22:07.343513Z",
     "shell.execute_reply": "2022-03-18T17:22:07.343112Z"
    },
    "papermill": {
     "duration": 0.028474,
     "end_time": "2022-03-18T17:22:07.343602",
     "exception": false,
     "start_time": "2022-03-18T17:22:07.315128",
     "status": "completed"
    },
    "tags": []
   },
   "outputs": [],
   "source": [
    "###########################################\n",
    "# The stratified datasets honor this\n",
    "###########################################\n",
    "torch.set_default_dtype(eval(p.torch_default_dtype))"
   ]
  },
  {
   "cell_type": "code",
   "execution_count": 8,
   "id": "b5fba671",
   "metadata": {
    "execution": {
     "iopub.execute_input": "2022-03-18T17:22:07.376355Z",
     "iopub.status.busy": "2022-03-18T17:22:07.376112Z",
     "iopub.status.idle": "2022-03-18T17:22:07.410664Z",
     "shell.execute_reply": "2022-03-18T17:22:07.410232Z"
    },
    "papermill": {
     "duration": 0.049832,
     "end_time": "2022-03-18T17:22:07.410752",
     "exception": false,
     "start_time": "2022-03-18T17:22:07.360920",
     "status": "completed"
    },
    "tags": []
   },
   "outputs": [],
   "source": [
    "###################################\n",
    "# Build the network(s)\n",
    "# Note: It's critical to do this AFTER setting the RNG\n",
    "###################################\n",
    "x_net = build_sequential(p.x_net)"
   ]
  },
  {
   "cell_type": "code",
   "execution_count": 9,
   "id": "5d7e61cc",
   "metadata": {
    "execution": {
     "iopub.execute_input": "2022-03-18T17:22:07.444636Z",
     "iopub.status.busy": "2022-03-18T17:22:07.444310Z",
     "iopub.status.idle": "2022-03-18T17:22:07.456472Z",
     "shell.execute_reply": "2022-03-18T17:22:07.456080Z"
    },
    "papermill": {
     "duration": 0.027412,
     "end_time": "2022-03-18T17:22:07.456561",
     "exception": false,
     "start_time": "2022-03-18T17:22:07.429149",
     "status": "completed"
    },
    "tags": []
   },
   "outputs": [],
   "source": [
    "start_time_secs = time.time()"
   ]
  },
  {
   "cell_type": "code",
   "execution_count": 10,
   "id": "c6b67dfd",
   "metadata": {
    "execution": {
     "iopub.execute_input": "2022-03-18T17:22:07.492128Z",
     "iopub.status.busy": "2022-03-18T17:22:07.491886Z",
     "iopub.status.idle": "2022-03-18T17:22:07.505700Z",
     "shell.execute_reply": "2022-03-18T17:22:07.505255Z"
    },
    "papermill": {
     "duration": 0.030126,
     "end_time": "2022-03-18T17:22:07.505789",
     "exception": false,
     "start_time": "2022-03-18T17:22:07.475663",
     "status": "completed"
    },
    "tags": []
   },
   "outputs": [],
   "source": [
    "p.domains_source = []\n",
    "p.domains_target = []\n",
    "\n",
    "\n",
    "train_original_source = []\n",
    "val_original_source   = []\n",
    "test_original_source  = []\n",
    "\n",
    "train_original_target = []\n",
    "val_original_target   = []\n",
    "test_original_target  = []"
   ]
  },
  {
   "cell_type": "code",
   "execution_count": 11,
   "id": "e3d9c3d3",
   "metadata": {
    "execution": {
     "iopub.execute_input": "2022-03-18T17:22:07.539360Z",
     "iopub.status.busy": "2022-03-18T17:22:07.539104Z",
     "iopub.status.idle": "2022-03-18T17:22:07.553376Z",
     "shell.execute_reply": "2022-03-18T17:22:07.552968Z"
    },
    "papermill": {
     "duration": 0.029184,
     "end_time": "2022-03-18T17:22:07.553465",
     "exception": false,
     "start_time": "2022-03-18T17:22:07.524281",
     "status": "completed"
    },
    "tags": []
   },
   "outputs": [],
   "source": [
    "# global_x_transform_func = lambda x: normalize(x.to(torch.get_default_dtype()), \"unit_power\") # unit_power, unit_mag\n",
    "# global_x_transform_func = lambda x: normalize(x, \"unit_power\") # unit_power, unit_mag"
   ]
  },
  {
   "cell_type": "code",
   "execution_count": 12,
   "id": "acb78fd2",
   "metadata": {
    "execution": {
     "iopub.execute_input": "2022-03-18T17:22:07.589097Z",
     "iopub.status.busy": "2022-03-18T17:22:07.588728Z",
     "iopub.status.idle": "2022-03-18T17:22:07.599745Z",
     "shell.execute_reply": "2022-03-18T17:22:07.599319Z"
    },
    "papermill": {
     "duration": 0.028179,
     "end_time": "2022-03-18T17:22:07.599834",
     "exception": false,
     "start_time": "2022-03-18T17:22:07.571655",
     "status": "completed"
    },
    "tags": []
   },
   "outputs": [],
   "source": [
    "def add_dataset(\n",
    "    labels,\n",
    "    domains,\n",
    "    pickle_path,\n",
    "    x_transforms,\n",
    "    episode_transforms,\n",
    "    domain_prefix,\n",
    "    num_examples_per_domain_per_label,\n",
    "    source_or_target_dataset:str,\n",
    "    iterator_seed=p.seed,\n",
    "    dataset_seed=p.dataset_seed,\n",
    "    n_shot=p.n_shot,\n",
    "    n_way=p.n_way,\n",
    "    n_query=p.n_query,\n",
    "    train_val_test_k_factors=(p.train_k_factor,p.val_k_factor,p.test_k_factor),\n",
    "):\n",
    "   \n",
    "    if x_transforms == []: x_transform = None\n",
    "    else: x_transform = get_chained_transform(x_transforms)\n",
    "    \n",
    "    if episode_transforms == []: episode_transform = None\n",
    "    else: raise Exception(\"episode_transforms not implemented\")\n",
    "    \n",
    "    episode_transform = lambda tup, _prefix=domain_prefix: (_prefix + str(tup[0]), tup[1])\n",
    "\n",
    "\n",
    "    eaf = Episodic_Accessor_Factory(\n",
    "        labels=labels,\n",
    "        domains=domains,\n",
    "        num_examples_per_domain_per_label=num_examples_per_domain_per_label,\n",
    "        iterator_seed=iterator_seed,\n",
    "        dataset_seed=dataset_seed,\n",
    "        n_shot=n_shot,\n",
    "        n_way=n_way,\n",
    "        n_query=n_query,\n",
    "        train_val_test_k_factors=train_val_test_k_factors,\n",
    "        pickle_path=pickle_path,\n",
    "        x_transform_func=x_transform,\n",
    "    )\n",
    "\n",
    "    train, val, test = eaf.get_train(), eaf.get_val(), eaf.get_test()\n",
    "    train = Lazy_Iterable_Wrapper(train, episode_transform)\n",
    "    val = Lazy_Iterable_Wrapper(val, episode_transform)\n",
    "    test = Lazy_Iterable_Wrapper(test, episode_transform)\n",
    "\n",
    "    if source_or_target_dataset==\"source\":\n",
    "        train_original_source.append(train)\n",
    "        val_original_source.append(val)\n",
    "        test_original_source.append(test)\n",
    "\n",
    "        p.domains_source.extend(\n",
    "            [domain_prefix + str(u) for u in domains]\n",
    "        )\n",
    "    elif source_or_target_dataset==\"target\":\n",
    "        train_original_target.append(train)\n",
    "        val_original_target.append(val)\n",
    "        test_original_target.append(test)\n",
    "        p.domains_target.extend(\n",
    "            [domain_prefix + str(u) for u in domains]\n",
    "        )\n",
    "    else:\n",
    "        raise Exception(f\"invalid source_or_target_dataset: {source_or_target_dataset}\")\n",
    "    "
   ]
  },
  {
   "cell_type": "code",
   "execution_count": 13,
   "id": "fe266617",
   "metadata": {
    "execution": {
     "iopub.execute_input": "2022-03-18T17:22:07.631941Z",
     "iopub.status.busy": "2022-03-18T17:22:07.631699Z",
     "iopub.status.idle": "2022-03-18T17:22:22.486996Z",
     "shell.execute_reply": "2022-03-18T17:22:22.486548Z"
    },
    "papermill": {
     "duration": 14.870123,
     "end_time": "2022-03-18T17:22:22.487103",
     "exception": false,
     "start_time": "2022-03-18T17:22:07.616980",
     "status": "completed"
    },
    "tags": []
   },
   "outputs": [],
   "source": [
    "for ds in p.datasets:\n",
    "    add_dataset(**ds)"
   ]
  },
  {
   "cell_type": "code",
   "execution_count": 14,
   "id": "b90d65ac",
   "metadata": {
    "execution": {
     "iopub.execute_input": "2022-03-18T17:22:22.523099Z",
     "iopub.status.busy": "2022-03-18T17:22:22.521486Z",
     "iopub.status.idle": "2022-03-18T17:22:22.537853Z",
     "shell.execute_reply": "2022-03-18T17:22:22.537437Z"
    },
    "papermill": {
     "duration": 0.032288,
     "end_time": "2022-03-18T17:22:22.537954",
     "exception": false,
     "start_time": "2022-03-18T17:22:22.505666",
     "status": "completed"
    },
    "tags": []
   },
   "outputs": [],
   "source": [
    "# from steves_utils.CORES.utils import (\n",
    "#     ALL_NODES,\n",
    "#     ALL_NODES_MINIMUM_1000_EXAMPLES,\n",
    "#     ALL_DAYS\n",
    "# )\n",
    "\n",
    "# add_dataset(\n",
    "#     labels=ALL_NODES,\n",
    "#     domains = ALL_DAYS,\n",
    "#     num_examples_per_domain_per_label=100,\n",
    "#     pickle_path=os.path.join(get_datasets_base_path(), \"cores.stratified_ds.2022A.pkl\"),\n",
    "#     source_or_target_dataset=\"target\",\n",
    "#     x_transform_func=global_x_transform_func,\n",
    "#     domain_modifier=lambda u: f\"cores_{u}\"\n",
    "# )"
   ]
  },
  {
   "cell_type": "code",
   "execution_count": 15,
   "id": "76db484d",
   "metadata": {
    "execution": {
     "iopub.execute_input": "2022-03-18T17:22:22.570611Z",
     "iopub.status.busy": "2022-03-18T17:22:22.570359Z",
     "iopub.status.idle": "2022-03-18T17:22:22.585805Z",
     "shell.execute_reply": "2022-03-18T17:22:22.585333Z"
    },
    "papermill": {
     "duration": 0.031317,
     "end_time": "2022-03-18T17:22:22.585903",
     "exception": false,
     "start_time": "2022-03-18T17:22:22.554586",
     "status": "completed"
    },
    "tags": []
   },
   "outputs": [],
   "source": [
    "# from steves_utils.ORACLE.utils_v2 import (\n",
    "#     ALL_DISTANCES_FEET,\n",
    "#     ALL_RUNS,\n",
    "#     ALL_SERIAL_NUMBERS,\n",
    "# )\n",
    "\n",
    "\n",
    "# add_dataset(\n",
    "#     labels=ALL_SERIAL_NUMBERS,\n",
    "#     domains = list(set(ALL_DISTANCES_FEET) - {2,62}),\n",
    "#     num_examples_per_domain_per_label=100,\n",
    "#     pickle_path=os.path.join(get_datasets_base_path(), \"oracle.Run2_framed_2000Examples_stratified_ds.2022A.pkl\"),\n",
    "#     source_or_target_dataset=\"source\",\n",
    "#     x_transform_func=global_x_transform_func,\n",
    "#     domain_modifier=lambda u: f\"oracle1_{u}\"\n",
    "# )\n"
   ]
  },
  {
   "cell_type": "code",
   "execution_count": 16,
   "id": "97dea9d2",
   "metadata": {
    "execution": {
     "iopub.execute_input": "2022-03-18T17:22:22.620198Z",
     "iopub.status.busy": "2022-03-18T17:22:22.619793Z",
     "iopub.status.idle": "2022-03-18T17:22:22.635035Z",
     "shell.execute_reply": "2022-03-18T17:22:22.634620Z"
    },
    "papermill": {
     "duration": 0.030828,
     "end_time": "2022-03-18T17:22:22.635133",
     "exception": false,
     "start_time": "2022-03-18T17:22:22.604305",
     "status": "completed"
    },
    "tags": []
   },
   "outputs": [],
   "source": [
    "# from steves_utils.ORACLE.utils_v2 import (\n",
    "#     ALL_DISTANCES_FEET,\n",
    "#     ALL_RUNS,\n",
    "#     ALL_SERIAL_NUMBERS,\n",
    "# )\n",
    "\n",
    "\n",
    "# add_dataset(\n",
    "#     labels=ALL_SERIAL_NUMBERS,\n",
    "#     domains = list(set(ALL_DISTANCES_FEET) - {2,62,56}),\n",
    "#     num_examples_per_domain_per_label=100,\n",
    "#     pickle_path=os.path.join(get_datasets_base_path(), \"oracle.Run2_framed_2000Examples_stratified_ds.2022A.pkl\"),\n",
    "#     source_or_target_dataset=\"source\",\n",
    "#     x_transform_func=global_x_transform_func,\n",
    "#     domain_modifier=lambda u: f\"oracle2_{u}\"\n",
    "# )"
   ]
  },
  {
   "cell_type": "code",
   "execution_count": 17,
   "id": "6f289866",
   "metadata": {
    "execution": {
     "iopub.execute_input": "2022-03-18T17:22:22.670723Z",
     "iopub.status.busy": "2022-03-18T17:22:22.669885Z",
     "iopub.status.idle": "2022-03-18T17:22:22.684197Z",
     "shell.execute_reply": "2022-03-18T17:22:22.683804Z"
    },
    "papermill": {
     "duration": 0.029257,
     "end_time": "2022-03-18T17:22:22.684296",
     "exception": false,
     "start_time": "2022-03-18T17:22:22.655039",
     "status": "completed"
    },
    "tags": []
   },
   "outputs": [],
   "source": [
    "# add_dataset(\n",
    "#     labels=list(range(19)),\n",
    "#     domains = [0,1,2],\n",
    "#     num_examples_per_domain_per_label=100,\n",
    "#     pickle_path=os.path.join(get_datasets_base_path(), \"metehan.stratified_ds.2022A.pkl\"),\n",
    "#     source_or_target_dataset=\"target\",\n",
    "#     x_transform_func=global_x_transform_func,\n",
    "#     domain_modifier=lambda u: f\"met_{u}\"\n",
    "# )"
   ]
  },
  {
   "cell_type": "code",
   "execution_count": 18,
   "id": "86a863c3",
   "metadata": {
    "execution": {
     "iopub.execute_input": "2022-03-18T17:22:22.719678Z",
     "iopub.status.busy": "2022-03-18T17:22:22.719427Z",
     "iopub.status.idle": "2022-03-18T17:22:22.732670Z",
     "shell.execute_reply": "2022-03-18T17:22:22.732201Z"
    },
    "papermill": {
     "duration": 0.028534,
     "end_time": "2022-03-18T17:22:22.732768",
     "exception": false,
     "start_time": "2022-03-18T17:22:22.704234",
     "status": "completed"
    },
    "tags": []
   },
   "outputs": [],
   "source": [
    "# # from steves_utils.wisig.utils import (\n",
    "# #     ALL_NODES_MINIMUM_100_EXAMPLES,\n",
    "# #     ALL_NODES_MINIMUM_500_EXAMPLES,\n",
    "# #     ALL_NODES_MINIMUM_1000_EXAMPLES,\n",
    "# #     ALL_DAYS\n",
    "# # )\n",
    "\n",
    "# import steves_utils.wisig.utils as wisig\n",
    "\n",
    "\n",
    "# add_dataset(\n",
    "#     labels=wisig.ALL_NODES_MINIMUM_100_EXAMPLES,\n",
    "#     domains = wisig.ALL_DAYS,\n",
    "#     num_examples_per_domain_per_label=100,\n",
    "#     pickle_path=os.path.join(get_datasets_base_path(), \"wisig.node3-19.stratified_ds.2022A.pkl\"),\n",
    "#     source_or_target_dataset=\"target\",\n",
    "#     x_transform_func=global_x_transform_func,\n",
    "#     domain_modifier=lambda u: f\"wisig_{u}\"\n",
    "# )"
   ]
  },
  {
   "cell_type": "code",
   "execution_count": 19,
   "id": "fd5442bc",
   "metadata": {
    "execution": {
     "iopub.execute_input": "2022-03-18T17:22:22.769046Z",
     "iopub.status.busy": "2022-03-18T17:22:22.768724Z",
     "iopub.status.idle": "2022-03-18T17:22:22.784345Z",
     "shell.execute_reply": "2022-03-18T17:22:22.783929Z"
    },
    "papermill": {
     "duration": 0.034435,
     "end_time": "2022-03-18T17:22:22.784444",
     "exception": false,
     "start_time": "2022-03-18T17:22:22.750009",
     "status": "completed"
    },
    "tags": []
   },
   "outputs": [],
   "source": [
    "###################################\n",
    "# Build the dataset\n",
    "###################################\n",
    "train_original_source = Iterable_Aggregator(train_original_source, p.seed)\n",
    "val_original_source = Iterable_Aggregator(val_original_source, p.seed)\n",
    "test_original_source = Iterable_Aggregator(test_original_source, p.seed)\n",
    "\n",
    "\n",
    "train_original_target = Iterable_Aggregator(train_original_target, p.seed)\n",
    "val_original_target = Iterable_Aggregator(val_original_target, p.seed)\n",
    "test_original_target = Iterable_Aggregator(test_original_target, p.seed)\n",
    "\n",
    "# For CNN We only use X and Y. And we only train on the source.\n",
    "# Properly form the data using a transform lambda and Lazy_Iterable_Wrapper. Finally wrap them in a dataloader\n",
    "\n",
    "transform_lambda = lambda ex: ex[1] # Original is (<domain>, <episode>) so we strip down to episode only\n",
    "\n",
    "train_processed_source = Lazy_Iterable_Wrapper(train_original_source, transform_lambda)\n",
    "val_processed_source   = Lazy_Iterable_Wrapper(val_original_source, transform_lambda)\n",
    "test_processed_source  = Lazy_Iterable_Wrapper(test_original_source, transform_lambda)\n",
    "\n",
    "train_processed_target = Lazy_Iterable_Wrapper(train_original_target, transform_lambda)\n",
    "val_processed_target   = Lazy_Iterable_Wrapper(val_original_target, transform_lambda)\n",
    "test_processed_target  = Lazy_Iterable_Wrapper(test_original_target, transform_lambda)\n",
    "\n",
    "datasets = EasyDict({\n",
    "    \"source\": {\n",
    "        \"original\": {\"train\":train_original_source, \"val\":val_original_source, \"test\":test_original_source},\n",
    "        \"processed\": {\"train\":train_processed_source, \"val\":val_processed_source, \"test\":test_processed_source}\n",
    "    },\n",
    "    \"target\": {\n",
    "        \"original\": {\"train\":train_original_target, \"val\":val_original_target, \"test\":test_original_target},\n",
    "        \"processed\": {\"train\":train_processed_target, \"val\":val_processed_target, \"test\":test_processed_target}\n",
    "    },\n",
    "})"
   ]
  },
  {
   "cell_type": "code",
   "execution_count": 20,
   "id": "5b3c01fc",
   "metadata": {
    "execution": {
     "iopub.execute_input": "2022-03-18T17:22:22.824342Z",
     "iopub.status.busy": "2022-03-18T17:22:22.822901Z",
     "iopub.status.idle": "2022-03-18T17:22:27.788807Z",
     "shell.execute_reply": "2022-03-18T17:22:27.788546Z"
    },
    "papermill": {
     "duration": 4.984954,
     "end_time": "2022-03-18T17:22:27.788869",
     "exception": false,
     "start_time": "2022-03-18T17:22:22.803915",
     "status": "completed"
    },
    "tags": []
   },
   "outputs": [
    {
     "name": "stdout",
     "output_type": "stream",
     "text": [
      "{'ORACLE.run1_20', 'ORACLE.run1_50', 'ORACLE.run1_26', 'ORACLE.run1_44', 'ORACLE.run1_14', 'ORACLE.run1_32', 'ORACLE.run1_8', 'ORACLE.run1_38'}\n"
     ]
    },
    {
     "name": "stdout",
     "output_type": "stream",
     "text": [
      "{'W_A_2', 'W_A_1', 'W_A_4', 'W_A_3', 'C_A_5', 'C_A_2', 'C_A_4', 'C_A_3', 'C_A_1'}\n"
     ]
    },
    {
     "name": "stdout",
     "output_type": "stream",
     "text": [
      "tensor([[[ 2.1668e-03,  1.9356e-03, -2.0440e-03,  ...,  4.0062e-04,\n",
      "          -3.5633e-03,  1.6687e-04],\n",
      "         [ 5.1881e-04,  4.2070e-03,  1.3198e-03,  ...,  2.7346e-03,\n",
      "           2.0436e-03,  2.7066e-03]],\n",
      "\n",
      "        [[-2.1973e-03,  9.0551e-04,  2.6879e-03,  ...,  1.6112e-03,\n",
      "           3.8851e-03,  2.1429e-03],\n",
      "         [-1.6480e-03, -4.1460e-03,  6.8800e-04,  ..., -1.7057e-03,\n",
      "           1.1608e-03, -2.1020e-03]],\n",
      "\n",
      "        [[-1.2207e-04,  3.7047e-03,  1.5631e-03,  ...,  2.5664e-03,\n",
      "           1.4505e-03,  2.5121e-03],\n",
      "         [-1.9227e-03, -1.3189e-03,  2.2181e-03,  ...,  1.4671e-05,\n",
      "           3.6921e-03,  4.5015e-05]],\n",
      "\n",
      "        ...,\n",
      "\n",
      "        [[ 2.9908e-03,  1.8943e-03, -2.9748e-03,  ..., -4.6612e-05,\n",
      "          -5.1257e-03, -4.8283e-04],\n",
      "         [ 7.0193e-04,  4.8741e-03,  1.1802e-03,  ...,  3.4314e-03,\n",
      "           2.4493e-03,  4.1666e-03]],\n",
      "\n",
      "        [[ 4.4862e-03,  3.5262e-03, -4.5896e-03,  ..., -7.6992e-04,\n",
      "          -1.6533e-03,  4.6432e-03],\n",
      "         [ 4.5778e-04,  4.0197e-03,  1.2869e-03,  ...,  4.4552e-03,\n",
      "           3.6509e-03,  3.1152e-03]],\n",
      "\n",
      "        [[ 3.9064e-03,  4.2895e-03, -3.1423e-03,  ...,  2.4494e-03,\n",
      "           2.2762e-03,  5.3046e-03],\n",
      "         [-3.1434e-03,  6.8323e-04,  5.0160e-03,  ...,  4.5379e-03,\n",
      "           2.4855e-03, -1.8031e-03]]])\n"
     ]
    }
   ],
   "source": [
    "from steves_utils.transforms import get_average_magnitude, get_average_power\n",
    "\n",
    "print(set([u for u,_ in val_original_source]))\n",
    "print(set([u for u,_ in val_original_target]))\n",
    "\n",
    "s_x, s_y, q_x, q_y, _ = next(iter(train_processed_source))\n",
    "print(s_x)\n",
    "\n",
    "# for ds in [\n",
    "#     train_processed_source,\n",
    "#     val_processed_source,\n",
    "#     test_processed_source,\n",
    "#     train_processed_target,\n",
    "#     val_processed_target,\n",
    "#     test_processed_target\n",
    "# ]:\n",
    "#     for s_x, s_y, q_x, q_y, _ in ds:\n",
    "#         for X in (s_x, q_x):\n",
    "#             for x in X:\n",
    "#                 assert np.isclose(get_average_magnitude(x.numpy()), 1.0)\n",
    "#                 assert np.isclose(get_average_power(x.numpy()), 1.0)\n",
    "                "
   ]
  },
  {
   "cell_type": "code",
   "execution_count": 21,
   "id": "bbdacba1",
   "metadata": {
    "execution": {
     "iopub.execute_input": "2022-03-18T17:22:27.826128Z",
     "iopub.status.busy": "2022-03-18T17:22:27.825850Z",
     "iopub.status.idle": "2022-03-18T17:22:27.876300Z",
     "shell.execute_reply": "2022-03-18T17:22:27.875826Z"
    },
    "papermill": {
     "duration": 0.068036,
     "end_time": "2022-03-18T17:22:27.876412",
     "exception": false,
     "start_time": "2022-03-18T17:22:27.808376",
     "status": "completed"
    },
    "tags": []
   },
   "outputs": [
    {
     "name": "stdout",
     "output_type": "stream",
     "text": [
      "(2, 200)\n"
     ]
    }
   ],
   "source": [
    "###################################\n",
    "# Build the model\n",
    "###################################\n",
    "# easfsl only wants a tuple for the shape\n",
    "model = Steves_Prototypical_Network(x_net, device=p.device, x_shape=tuple(p.x_shape))\n",
    "optimizer = Adam(params=model.parameters(), lr=p.lr)"
   ]
  },
  {
   "cell_type": "code",
   "execution_count": 22,
   "id": "22b39ac5",
   "metadata": {
    "execution": {
     "iopub.execute_input": "2022-03-18T17:22:27.912824Z",
     "iopub.status.busy": "2022-03-18T17:22:27.912570Z",
     "iopub.status.idle": "2022-03-18T17:43:41.057537Z",
     "shell.execute_reply": "2022-03-18T17:43:41.057309Z"
    },
    "papermill": {
     "duration": 1273.161993,
     "end_time": "2022-03-18T17:43:41.057596",
     "exception": false,
     "start_time": "2022-03-18T17:22:27.895603",
     "status": "completed"
    },
    "tags": []
   },
   "outputs": [
    {
     "name": "stdout",
     "output_type": "stream",
     "text": [
      "epoch: 1, [batch: 1 / 6720], examples_per_second: 49.2102, train_label_loss: 3.0354, \n"
     ]
    },
    {
     "name": "stdout",
     "output_type": "stream",
     "text": [
      "epoch: 1, [batch: 672 / 6720], examples_per_second: 3635.4061, train_label_loss: 0.7357, \n"
     ]
    },
    {
     "name": "stdout",
     "output_type": "stream",
     "text": [
      "epoch: 1, [batch: 1344 / 6720], examples_per_second: 3638.6743, train_label_loss: 0.4903, \n"
     ]
    },
    {
     "name": "stdout",
     "output_type": "stream",
     "text": [
      "epoch: 1, [batch: 2016 / 6720], examples_per_second: 3660.3045, train_label_loss: 0.5027, \n"
     ]
    },
    {
     "name": "stdout",
     "output_type": "stream",
     "text": [
      "epoch: 1, [batch: 2688 / 6720], examples_per_second: 3634.3118, train_label_loss: 0.4513, \n"
     ]
    },
    {
     "name": "stdout",
     "output_type": "stream",
     "text": [
      "epoch: 1, [batch: 3360 / 6720], examples_per_second: 3643.7774, train_label_loss: 0.1919, \n"
     ]
    },
    {
     "name": "stdout",
     "output_type": "stream",
     "text": [
      "epoch: 1, [batch: 4032 / 6720], examples_per_second: 3642.3405, train_label_loss: 0.0534, \n"
     ]
    },
    {
     "name": "stdout",
     "output_type": "stream",
     "text": [
      "epoch: 1, [batch: 4704 / 6720], examples_per_second: 3638.9404, train_label_loss: 0.4148, \n"
     ]
    },
    {
     "name": "stdout",
     "output_type": "stream",
     "text": [
      "epoch: 1, [batch: 5376 / 6720], examples_per_second: 3650.4040, train_label_loss: 0.2221, \n"
     ]
    },
    {
     "name": "stdout",
     "output_type": "stream",
     "text": [
      "epoch: 1, [batch: 6048 / 6720], examples_per_second: 3650.7494, train_label_loss: 0.3054, \n"
     ]
    },
    {
     "name": "stdout",
     "output_type": "stream",
     "text": [
      "=============================================================\n",
      "epoch: 1, source_val_acc_label: 0.6976, target_val_acc_label: 0.4656, source_val_label_loss: 473.4817, target_val_label_loss: 314099.8125, \n",
      "=============================================================\n"
     ]
    },
    {
     "name": "stdout",
     "output_type": "stream",
     "text": [
      "New best\n"
     ]
    },
    {
     "name": "stdout",
     "output_type": "stream",
     "text": [
      "epoch: 2, [batch: 1 / 6720], examples_per_second: 6.0417, train_label_loss: 0.5313, \n"
     ]
    },
    {
     "name": "stdout",
     "output_type": "stream",
     "text": [
      "epoch: 2, [batch: 672 / 6720], examples_per_second: 3635.0775, train_label_loss: 0.5831, \n"
     ]
    },
    {
     "name": "stdout",
     "output_type": "stream",
     "text": [
      "epoch: 2, [batch: 1344 / 6720], examples_per_second: 3652.2512, train_label_loss: 2.1818, \n"
     ]
    },
    {
     "name": "stdout",
     "output_type": "stream",
     "text": [
      "epoch: 2, [batch: 2016 / 6720], examples_per_second: 3661.5639, train_label_loss: 0.3744, \n"
     ]
    },
    {
     "name": "stdout",
     "output_type": "stream",
     "text": [
      "epoch: 2, [batch: 2688 / 6720], examples_per_second: 3643.2260, train_label_loss: 0.4285, \n"
     ]
    },
    {
     "name": "stdout",
     "output_type": "stream",
     "text": [
      "epoch: 2, [batch: 3360 / 6720], examples_per_second: 3644.4457, train_label_loss: 0.4737, \n"
     ]
    },
    {
     "name": "stdout",
     "output_type": "stream",
     "text": [
      "epoch: 2, [batch: 4032 / 6720], examples_per_second: 3650.5819, train_label_loss: 0.7663, \n"
     ]
    },
    {
     "name": "stdout",
     "output_type": "stream",
     "text": [
      "epoch: 2, [batch: 4704 / 6720], examples_per_second: 3630.8317, train_label_loss: 0.5450, \n"
     ]
    },
    {
     "name": "stdout",
     "output_type": "stream",
     "text": [
      "epoch: 2, [batch: 5376 / 6720], examples_per_second: 3626.9232, train_label_loss: 0.5104, \n"
     ]
    },
    {
     "name": "stdout",
     "output_type": "stream",
     "text": [
      "epoch: 2, [batch: 6048 / 6720], examples_per_second: 3634.4707, train_label_loss: 0.2341, \n"
     ]
    },
    {
     "name": "stdout",
     "output_type": "stream",
     "text": [
      "=============================================================\n",
      "epoch: 2, source_val_acc_label: 0.8588, target_val_acc_label: 0.5706, source_val_label_loss: 0.4083, target_val_label_loss: 75846.8047, \n",
      "=============================================================\n"
     ]
    },
    {
     "name": "stdout",
     "output_type": "stream",
     "text": [
      "New best\n"
     ]
    },
    {
     "name": "stdout",
     "output_type": "stream",
     "text": [
      "epoch: 3, [batch: 1 / 6720], examples_per_second: 6.0362, train_label_loss: 0.4025, \n"
     ]
    },
    {
     "name": "stdout",
     "output_type": "stream",
     "text": [
      "epoch: 3, [batch: 672 / 6720], examples_per_second: 3627.0301, train_label_loss: 0.3038, \n"
     ]
    },
    {
     "name": "stdout",
     "output_type": "stream",
     "text": [
      "epoch: 3, [batch: 1344 / 6720], examples_per_second: 3656.3522, train_label_loss: 0.5212, \n"
     ]
    },
    {
     "name": "stdout",
     "output_type": "stream",
     "text": [
      "epoch: 3, [batch: 2016 / 6720], examples_per_second: 3655.7029, train_label_loss: 0.2672, \n"
     ]
    },
    {
     "name": "stdout",
     "output_type": "stream",
     "text": [
      "epoch: 3, [batch: 2688 / 6720], examples_per_second: 3629.3871, train_label_loss: 0.3427, \n"
     ]
    },
    {
     "name": "stdout",
     "output_type": "stream",
     "text": [
      "epoch: 3, [batch: 3360 / 6720], examples_per_second: 3652.4850, train_label_loss: 0.4694, \n"
     ]
    },
    {
     "name": "stdout",
     "output_type": "stream",
     "text": [
      "epoch: 3, [batch: 4032 / 6720], examples_per_second: 3664.5572, train_label_loss: 0.4613, \n"
     ]
    },
    {
     "name": "stdout",
     "output_type": "stream",
     "text": [
      "epoch: 3, [batch: 4704 / 6720], examples_per_second: 3646.2641, train_label_loss: 0.4828, \n"
     ]
    },
    {
     "name": "stdout",
     "output_type": "stream",
     "text": [
      "epoch: 3, [batch: 5376 / 6720], examples_per_second: 3653.7957, train_label_loss: 0.3306, \n"
     ]
    },
    {
     "name": "stdout",
     "output_type": "stream",
     "text": [
      "epoch: 3, [batch: 6048 / 6720], examples_per_second: 3661.8815, train_label_loss: 0.3972, \n"
     ]
    },
    {
     "name": "stdout",
     "output_type": "stream",
     "text": [
      "=============================================================\n",
      "epoch: 3, source_val_acc_label: 0.8678, target_val_acc_label: 0.6080, source_val_label_loss: 0.3953, target_val_label_loss: 76255.7969, \n",
      "=============================================================\n"
     ]
    },
    {
     "name": "stdout",
     "output_type": "stream",
     "text": [
      "epoch: 4, [batch: 1 / 6720], examples_per_second: 6.0105, train_label_loss: 0.3146, \n"
     ]
    },
    {
     "name": "stdout",
     "output_type": "stream",
     "text": [
      "epoch: 4, [batch: 672 / 6720], examples_per_second: 3645.8151, train_label_loss: 0.3332, \n"
     ]
    },
    {
     "name": "stdout",
     "output_type": "stream",
     "text": [
      "epoch: 4, [batch: 1344 / 6720], examples_per_second: 3663.1738, train_label_loss: 0.1810, \n"
     ]
    },
    {
     "name": "stdout",
     "output_type": "stream",
     "text": [
      "epoch: 4, [batch: 2016 / 6720], examples_per_second: 3615.5849, train_label_loss: 0.2679, \n"
     ]
    },
    {
     "name": "stdout",
     "output_type": "stream",
     "text": [
      "epoch: 4, [batch: 2688 / 6720], examples_per_second: 3635.1282, train_label_loss: 0.4202, \n"
     ]
    },
    {
     "name": "stdout",
     "output_type": "stream",
     "text": [
      "epoch: 4, [batch: 3360 / 6720], examples_per_second: 3663.3443, train_label_loss: 0.4202, \n"
     ]
    },
    {
     "name": "stdout",
     "output_type": "stream",
     "text": [
      "epoch: 4, [batch: 4032 / 6720], examples_per_second: 3672.4673, train_label_loss: 0.2686, \n"
     ]
    },
    {
     "name": "stdout",
     "output_type": "stream",
     "text": [
      "epoch: 4, [batch: 4704 / 6720], examples_per_second: 3644.9468, train_label_loss: 0.4621, \n"
     ]
    },
    {
     "name": "stdout",
     "output_type": "stream",
     "text": [
      "epoch: 4, [batch: 5376 / 6720], examples_per_second: 3678.2964, train_label_loss: 0.4273, \n"
     ]
    },
    {
     "name": "stdout",
     "output_type": "stream",
     "text": [
      "epoch: 4, [batch: 6048 / 6720], examples_per_second: 3658.4213, train_label_loss: 0.1332, \n"
     ]
    },
    {
     "name": "stdout",
     "output_type": "stream",
     "text": [
      "=============================================================\n",
      "epoch: 4, source_val_acc_label: 0.8814, target_val_acc_label: 0.6261, source_val_label_loss: 0.3365, target_val_label_loss: 66270.4609, \n",
      "=============================================================\n"
     ]
    },
    {
     "name": "stdout",
     "output_type": "stream",
     "text": [
      "New best\n"
     ]
    },
    {
     "name": "stdout",
     "output_type": "stream",
     "text": [
      "epoch: 5, [batch: 1 / 6720], examples_per_second: 6.0252, train_label_loss: 0.5161, \n"
     ]
    },
    {
     "name": "stdout",
     "output_type": "stream",
     "text": [
      "epoch: 5, [batch: 672 / 6720], examples_per_second: 3626.4164, train_label_loss: 0.4676, \n"
     ]
    },
    {
     "name": "stdout",
     "output_type": "stream",
     "text": [
      "epoch: 5, [batch: 1344 / 6720], examples_per_second: 3655.4935, train_label_loss: 0.2447, \n"
     ]
    },
    {
     "name": "stdout",
     "output_type": "stream",
     "text": [
      "epoch: 5, [batch: 2016 / 6720], examples_per_second: 3667.6461, train_label_loss: 0.2625, \n"
     ]
    },
    {
     "name": "stdout",
     "output_type": "stream",
     "text": [
      "epoch: 5, [batch: 2688 / 6720], examples_per_second: 3644.6368, train_label_loss: 0.2991, \n"
     ]
    },
    {
     "name": "stdout",
     "output_type": "stream",
     "text": [
      "epoch: 5, [batch: 3360 / 6720], examples_per_second: 3656.0531, train_label_loss: 0.2667, \n"
     ]
    },
    {
     "name": "stdout",
     "output_type": "stream",
     "text": [
      "epoch: 5, [batch: 4032 / 6720], examples_per_second: 3651.1906, train_label_loss: 0.4966, \n"
     ]
    },
    {
     "name": "stdout",
     "output_type": "stream",
     "text": [
      "epoch: 5, [batch: 4704 / 6720], examples_per_second: 3655.4767, train_label_loss: 0.2326, \n"
     ]
    },
    {
     "name": "stdout",
     "output_type": "stream",
     "text": [
      "epoch: 5, [batch: 5376 / 6720], examples_per_second: 3671.5177, train_label_loss: 0.2394, \n"
     ]
    },
    {
     "name": "stdout",
     "output_type": "stream",
     "text": [
      "epoch: 5, [batch: 6048 / 6720], examples_per_second: 3634.1125, train_label_loss: 0.4070, \n"
     ]
    },
    {
     "name": "stdout",
     "output_type": "stream",
     "text": [
      "=============================================================\n",
      "epoch: 5, source_val_acc_label: 0.8913, target_val_acc_label: 0.6121, source_val_label_loss: 0.3126, target_val_label_loss: 92005.0703, \n",
      "=============================================================\n"
     ]
    },
    {
     "name": "stdout",
     "output_type": "stream",
     "text": [
      "epoch: 6, [batch: 1 / 6720], examples_per_second: 6.0241, train_label_loss: 0.3095, \n"
     ]
    },
    {
     "name": "stdout",
     "output_type": "stream",
     "text": [
      "epoch: 6, [batch: 672 / 6720], examples_per_second: 3627.5655, train_label_loss: 0.7558, \n"
     ]
    },
    {
     "name": "stdout",
     "output_type": "stream",
     "text": [
      "epoch: 6, [batch: 1344 / 6720], examples_per_second: 3652.5298, train_label_loss: 0.9908, \n"
     ]
    },
    {
     "name": "stdout",
     "output_type": "stream",
     "text": [
      "epoch: 6, [batch: 2016 / 6720], examples_per_second: 3663.0574, train_label_loss: 0.7500, \n"
     ]
    },
    {
     "name": "stdout",
     "output_type": "stream",
     "text": [
      "epoch: 6, [batch: 2688 / 6720], examples_per_second: 3651.9141, train_label_loss: 0.3063, \n"
     ]
    },
    {
     "name": "stdout",
     "output_type": "stream",
     "text": [
      "epoch: 6, [batch: 3360 / 6720], examples_per_second: 3632.6871, train_label_loss: 0.2019, \n"
     ]
    },
    {
     "name": "stdout",
     "output_type": "stream",
     "text": [
      "epoch: 6, [batch: 4032 / 6720], examples_per_second: 3627.4990, train_label_loss: 0.2696, \n"
     ]
    },
    {
     "name": "stdout",
     "output_type": "stream",
     "text": [
      "epoch: 6, [batch: 4704 / 6720], examples_per_second: 3639.7885, train_label_loss: 0.4737, \n"
     ]
    },
    {
     "name": "stdout",
     "output_type": "stream",
     "text": [
      "epoch: 6, [batch: 5376 / 6720], examples_per_second: 3658.9769, train_label_loss: 0.6474, \n"
     ]
    },
    {
     "name": "stdout",
     "output_type": "stream",
     "text": [
      "epoch: 6, [batch: 6048 / 6720], examples_per_second: 3655.9466, train_label_loss: 0.5180, \n"
     ]
    },
    {
     "name": "stdout",
     "output_type": "stream",
     "text": [
      "=============================================================\n",
      "epoch: 6, source_val_acc_label: 0.8956, target_val_acc_label: 0.6146, source_val_label_loss: 0.3022, target_val_label_loss: 95711.9609, \n",
      "=============================================================\n"
     ]
    },
    {
     "name": "stdout",
     "output_type": "stream",
     "text": [
      "epoch: 7, [batch: 1 / 6720], examples_per_second: 6.0487, train_label_loss: 0.0670, \n"
     ]
    },
    {
     "name": "stdout",
     "output_type": "stream",
     "text": [
      "epoch: 7, [batch: 672 / 6720], examples_per_second: 3632.0920, train_label_loss: 0.3355, \n"
     ]
    },
    {
     "name": "stdout",
     "output_type": "stream",
     "text": [
      "epoch: 7, [batch: 1344 / 6720], examples_per_second: 3659.4492, train_label_loss: 0.3839, \n"
     ]
    },
    {
     "name": "stdout",
     "output_type": "stream",
     "text": [
      "epoch: 7, [batch: 2016 / 6720], examples_per_second: 3668.7406, train_label_loss: 0.2248, \n"
     ]
    },
    {
     "name": "stdout",
     "output_type": "stream",
     "text": [
      "epoch: 7, [batch: 2688 / 6720], examples_per_second: 3633.9282, train_label_loss: 0.2065, \n"
     ]
    },
    {
     "name": "stdout",
     "output_type": "stream",
     "text": [
      "epoch: 7, [batch: 3360 / 6720], examples_per_second: 3666.1460, train_label_loss: 0.4558, \n"
     ]
    },
    {
     "name": "stdout",
     "output_type": "stream",
     "text": [
      "epoch: 7, [batch: 4032 / 6720], examples_per_second: 3654.8393, train_label_loss: 0.2992, \n"
     ]
    },
    {
     "name": "stdout",
     "output_type": "stream",
     "text": [
      "epoch: 7, [batch: 4704 / 6720], examples_per_second: 3659.8888, train_label_loss: 0.6605, \n"
     ]
    },
    {
     "name": "stdout",
     "output_type": "stream",
     "text": [
      "epoch: 7, [batch: 5376 / 6720], examples_per_second: 3659.1898, train_label_loss: 0.3081, \n"
     ]
    },
    {
     "name": "stdout",
     "output_type": "stream",
     "text": [
      "epoch: 7, [batch: 6048 / 6720], examples_per_second: 3656.7789, train_label_loss: 0.1920, \n"
     ]
    },
    {
     "name": "stdout",
     "output_type": "stream",
     "text": [
      "=============================================================\n",
      "epoch: 7, source_val_acc_label: 0.8960, target_val_acc_label: 0.6226, source_val_label_loss: 0.3058, target_val_label_loss: 87200.9609, \n",
      "=============================================================\n"
     ]
    },
    {
     "name": "stdout",
     "output_type": "stream",
     "text": [
      "epoch: 8, [batch: 1 / 6720], examples_per_second: 6.0131, train_label_loss: 0.1807, \n"
     ]
    },
    {
     "name": "stdout",
     "output_type": "stream",
     "text": [
      "epoch: 8, [batch: 672 / 6720], examples_per_second: 3607.4328, train_label_loss: 0.2277, \n"
     ]
    },
    {
     "name": "stdout",
     "output_type": "stream",
     "text": [
      "epoch: 8, [batch: 1344 / 6720], examples_per_second: 3620.8460, train_label_loss: 0.1503, \n"
     ]
    },
    {
     "name": "stdout",
     "output_type": "stream",
     "text": [
      "epoch: 8, [batch: 2016 / 6720], examples_per_second: 3684.7930, train_label_loss: 0.2948, \n"
     ]
    },
    {
     "name": "stdout",
     "output_type": "stream",
     "text": [
      "epoch: 8, [batch: 2688 / 6720], examples_per_second: 3669.5142, train_label_loss: 0.3101, \n"
     ]
    },
    {
     "name": "stdout",
     "output_type": "stream",
     "text": [
      "epoch: 8, [batch: 3360 / 6720], examples_per_second: 3660.1812, train_label_loss: 0.5223, \n"
     ]
    },
    {
     "name": "stdout",
     "output_type": "stream",
     "text": [
      "epoch: 8, [batch: 4032 / 6720], examples_per_second: 3617.7841, train_label_loss: 0.3345, \n"
     ]
    },
    {
     "name": "stdout",
     "output_type": "stream",
     "text": [
      "epoch: 8, [batch: 4704 / 6720], examples_per_second: 3647.8017, train_label_loss: 0.3394, \n"
     ]
    },
    {
     "name": "stdout",
     "output_type": "stream",
     "text": [
      "epoch: 8, [batch: 5376 / 6720], examples_per_second: 3656.9791, train_label_loss: 0.1514, \n"
     ]
    },
    {
     "name": "stdout",
     "output_type": "stream",
     "text": [
      "epoch: 8, [batch: 6048 / 6720], examples_per_second: 3661.4389, train_label_loss: 0.3320, \n"
     ]
    },
    {
     "name": "stdout",
     "output_type": "stream",
     "text": [
      "=============================================================\n",
      "epoch: 8, source_val_acc_label: 0.8869, target_val_acc_label: 0.6205, source_val_label_loss: 0.3161, target_val_label_loss: 114434.3438, \n",
      "=============================================================\n"
     ]
    },
    {
     "name": "stdout",
     "output_type": "stream",
     "text": [
      "Patience (3) exhausted\n"
     ]
    }
   ],
   "source": [
    "###################################\n",
    "# train\n",
    "###################################\n",
    "jig = PTN_Train_Eval_Test_Jig(model, p.BEST_MODEL_PATH, p.device)\n",
    "\n",
    "jig.train(\n",
    "    train_iterable=datasets.source.processed.train,\n",
    "    source_val_iterable=datasets.source.processed.val,\n",
    "    target_val_iterable=datasets.target.processed.val,\n",
    "    num_epochs=p.n_epoch,\n",
    "    num_logs_per_epoch=p.NUM_LOGS_PER_EPOCH,\n",
    "    patience=p.patience,\n",
    "    optimizer=optimizer,\n",
    "    criteria_for_best=p.criteria_for_best,\n",
    ")"
   ]
  },
  {
   "cell_type": "code",
   "execution_count": 23,
   "id": "31e8fabf",
   "metadata": {
    "execution": {
     "iopub.execute_input": "2022-03-18T17:43:41.122945Z",
     "iopub.status.busy": "2022-03-18T17:43:41.122698Z",
     "iopub.status.idle": "2022-03-18T17:43:41.140103Z",
     "shell.execute_reply": "2022-03-18T17:43:41.139665Z"
    },
    "papermill": {
     "duration": 0.052132,
     "end_time": "2022-03-18T17:43:41.140210",
     "exception": false,
     "start_time": "2022-03-18T17:43:41.088078",
     "status": "completed"
    },
    "tags": []
   },
   "outputs": [],
   "source": [
    "total_experiment_time_secs = time.time() - start_time_secs"
   ]
  },
  {
   "cell_type": "code",
   "execution_count": 24,
   "id": "87b9595b",
   "metadata": {
    "execution": {
     "iopub.execute_input": "2022-03-18T17:43:41.213130Z",
     "iopub.status.busy": "2022-03-18T17:43:41.212758Z",
     "iopub.status.idle": "2022-03-18T17:44:43.685246Z",
     "shell.execute_reply": "2022-03-18T17:44:43.684951Z"
    },
    "papermill": {
     "duration": 62.508865,
     "end_time": "2022-03-18T17:44:43.685316",
     "exception": false,
     "start_time": "2022-03-18T17:43:41.176451",
     "status": "completed"
    },
    "tags": []
   },
   "outputs": [],
   "source": [
    "###################################\n",
    "# Evaluate the model\n",
    "###################################\n",
    "source_test_label_accuracy, source_test_label_loss = jig.test(datasets.source.processed.test)\n",
    "target_test_label_accuracy, target_test_label_loss = jig.test(datasets.target.processed.test)\n",
    "\n",
    "source_val_label_accuracy, source_val_label_loss = jig.test(datasets.source.processed.val)\n",
    "target_val_label_accuracy, target_val_label_loss = jig.test(datasets.target.processed.val)\n",
    "\n",
    "history = jig.get_history()\n",
    "\n",
    "total_epochs_trained = len(history[\"epoch_indices\"])\n",
    "\n",
    "val_dl = Iterable_Aggregator((datasets.source.original.val,datasets.target.original.val))\n",
    "\n",
    "confusion = ptn_confusion_by_domain_over_dataloader(model, p.device, val_dl)\n",
    "per_domain_accuracy = per_domain_accuracy_from_confusion(confusion)\n",
    "\n",
    "# Add a key to per_domain_accuracy for if it was a source domain\n",
    "for domain, accuracy in per_domain_accuracy.items():\n",
    "    per_domain_accuracy[domain] = {\n",
    "        \"accuracy\": accuracy,\n",
    "        \"source?\": domain in p.domains_source\n",
    "    }\n",
    "\n",
    "# Do an independent accuracy assesment JUST TO BE SURE!\n",
    "# _source_test_label_accuracy = independent_accuracy_assesment(model, datasets.source.processed.test, p.device)\n",
    "# _target_test_label_accuracy = independent_accuracy_assesment(model, datasets.target.processed.test, p.device)\n",
    "# _source_val_label_accuracy = independent_accuracy_assesment(model, datasets.source.processed.val, p.device)\n",
    "# _target_val_label_accuracy = independent_accuracy_assesment(model, datasets.target.processed.val, p.device)\n",
    "\n",
    "# assert(_source_test_label_accuracy == source_test_label_accuracy)\n",
    "# assert(_target_test_label_accuracy == target_test_label_accuracy)\n",
    "# assert(_source_val_label_accuracy == source_val_label_accuracy)\n",
    "# assert(_target_val_label_accuracy == target_val_label_accuracy)\n",
    "\n",
    "experiment = {\n",
    "    \"experiment_name\": p.experiment_name,\n",
    "    \"parameters\": dict(p),\n",
    "    \"results\": {\n",
    "        \"source_test_label_accuracy\": source_test_label_accuracy,\n",
    "        \"source_test_label_loss\": source_test_label_loss,\n",
    "        \"target_test_label_accuracy\": target_test_label_accuracy,\n",
    "        \"target_test_label_loss\": target_test_label_loss,\n",
    "        \"source_val_label_accuracy\": source_val_label_accuracy,\n",
    "        \"source_val_label_loss\": source_val_label_loss,\n",
    "        \"target_val_label_accuracy\": target_val_label_accuracy,\n",
    "        \"target_val_label_loss\": target_val_label_loss,\n",
    "        \"total_epochs_trained\": total_epochs_trained,\n",
    "        \"total_experiment_time_secs\": total_experiment_time_secs,\n",
    "        \"confusion\": confusion,\n",
    "        \"per_domain_accuracy\": per_domain_accuracy,\n",
    "    },\n",
    "    \"history\": history,\n",
    "    \"dataset_metrics\": get_dataset_metrics(datasets, \"ptn\"),\n",
    "}"
   ]
  },
  {
   "cell_type": "code",
   "execution_count": 25,
   "id": "54a21829",
   "metadata": {
    "execution": {
     "iopub.execute_input": "2022-03-18T17:44:43.754482Z",
     "iopub.status.busy": "2022-03-18T17:44:43.754227Z",
     "iopub.status.idle": "2022-03-18T17:44:43.881332Z",
     "shell.execute_reply": "2022-03-18T17:44:43.881049Z"
    },
    "papermill": {
     "duration": 0.163794,
     "end_time": "2022-03-18T17:44:43.881397",
     "exception": false,
     "start_time": "2022-03-18T17:44:43.717603",
     "status": "completed"
    },
    "tags": []
   },
   "outputs": [
    {
     "data": {
      "image/png": "[encoded data removed]",
      "text/plain": [
       "<Figure size 1080x504 with 1 Axes>"
      ]
     },
     "metadata": {
      "needs_background": "light"
     },
     "output_type": "display_data"
    }
   ],
   "source": [
    "ax = get_loss_curve(experiment)\n",
    "plt.show()"
   ]
  },
  {
   "cell_type": "code",
   "execution_count": 26,
   "id": "fd8a0f60",
   "metadata": {
    "execution": {
     "iopub.execute_input": "2022-03-18T17:44:43.946804Z",
     "iopub.status.busy": "2022-03-18T17:44:43.946553Z",
     "iopub.status.idle": "2022-03-18T17:44:44.088035Z",
     "shell.execute_reply": "2022-03-18T17:44:44.088249Z"
    },
    "papermill": {
     "duration": 0.174803,
     "end_time": "2022-03-18T17:44:44.088330",
     "exception": false,
     "start_time": "2022-03-18T17:44:43.913527",
     "status": "completed"
    },
    "tags": []
   },
   "outputs": [
    {
     "data": {
      "text/plain": [
       "<AxesSubplot:title={'center':'Results'}>"
      ]
     },
     "execution_count": 26,
     "metadata": {},
     "output_type": "execute_result"
    },
    {
     "data": {
      "image/png": "[encoded data removed]",
      "text/plain": [
       "<Figure size 1080x504 with 1 Axes>"
      ]
     },
     "metadata": {
      "needs_background": "light"
     },
     "output_type": "display_data"
    }
   ],
   "source": [
    "get_results_table(experiment)"
   ]
  },
  {
   "cell_type": "code",
   "execution_count": 27,
   "id": "cf8dc689",
   "metadata": {
    "execution": {
     "iopub.execute_input": "2022-03-18T17:44:44.157292Z",
     "iopub.status.busy": "2022-03-18T17:44:44.156974Z",
     "iopub.status.idle": "2022-03-18T17:44:44.320627Z",
     "shell.execute_reply": "2022-03-18T17:44:44.320212Z"
    },
    "papermill": {
     "duration": 0.198731,
     "end_time": "2022-03-18T17:44:44.320741",
     "exception": false,
     "start_time": "2022-03-18T17:44:44.122010",
     "status": "completed"
    },
    "tags": []
   },
   "outputs": [
    {
     "data": {
      "text/plain": [
       "<AxesSubplot:title={'center':'Per Domain Validation Accuracy'}, xlabel='domain'>"
      ]
     },
     "execution_count": 27,
     "metadata": {},
     "output_type": "execute_result"
    },
    {
     "data": {
      "image/png": "[encoded data removed]",
      "text/plain": [
       "<Figure size 1080x504 with 1 Axes>"
      ]
     },
     "metadata": {
      "needs_background": "light"
     },
     "output_type": "display_data"
    }
   ],
   "source": [
    "get_domain_accuracies(experiment)"
   ]
  },
  {
   "cell_type": "code",
   "execution_count": 28,
   "id": "a74ae082",
   "metadata": {
    "execution": {
     "iopub.execute_input": "2022-03-18T17:44:44.396321Z",
     "iopub.status.busy": "2022-03-18T17:44:44.396061Z",
     "iopub.status.idle": "2022-03-18T17:44:44.412671Z",
     "shell.execute_reply": "2022-03-18T17:44:44.412246Z"
    },
    "papermill": {
     "duration": 0.053354,
     "end_time": "2022-03-18T17:44:44.412775",
     "exception": false,
     "start_time": "2022-03-18T17:44:44.359421",
     "status": "completed"
    },
    "tags": []
   },
   "outputs": [
    {
     "name": "stdout",
     "output_type": "stream",
     "text": [
      "Source Test Label Accuracy: 0.8833984375 Target Test Label Accuracy: 0.6326245704467354\n",
      "Source Val Label Accuracy: 0.8814127604166667 Target Val Label Accuracy: 0.626073883161512\n"
     ]
    }
   ],
   "source": [
    "print(\"Source Test Label Accuracy:\", experiment[\"results\"][\"source_test_label_accuracy\"], \"Target Test Label Accuracy:\", experiment[\"results\"][\"target_test_label_accuracy\"])\n",
    "print(\"Source Val Label Accuracy:\", experiment[\"results\"][\"source_val_label_accuracy\"], \"Target Val Label Accuracy:\", experiment[\"results\"][\"target_val_label_accuracy\"])"
   ]
  },
  {
   "cell_type": "code",
   "execution_count": 29,
   "id": "dacca602",
   "metadata": {
    "execution": {
     "iopub.execute_input": "2022-03-18T17:44:44.488831Z",
     "iopub.status.busy": "2022-03-18T17:44:44.488584Z",
     "iopub.status.idle": "2022-03-18T17:44:44.506959Z",
     "shell.execute_reply": "2022-03-18T17:44:44.507377Z"
    },
    "papermill": {
     "duration": 0.055101,
     "end_time": "2022-03-18T17:44:44.507504",
     "exception": false,
     "start_time": "2022-03-18T17:44:44.452403",
     "status": "completed"
    },
    "tags": [
     "experiment_json"
    ]
   },
   "outputs": [
    {
     "data": {
      "text/plain": [
       "'{\"experiment_name\": \"tl_3A:oracle.run1.framed -> cores+wisig\", \"parameters\": {\"experiment_name\": \"tl_3A:oracle.run1.framed -> cores+wisig\", \"device\": \"cuda\", \"lr\": 0.001, \"seed\": 420, \"dataset_seed\": 420, \"x_shape\": [2, 200], \"n_shot\": 3, \"n_query\": 2, \"train_k_factor\": 3, \"val_k_factor\": 2, \"test_k_factor\": 2, \"torch_default_dtype\": \"torch.float32\", \"n_epoch\": 50, \"patience\": 3, \"criteria_for_best\": \"target_loss\", \"x_net\": [{\"class\": \"nnReshape\", \"kargs\": {\"shape\": [-1, 1, 2, 200]}}, {\"class\": \"Conv2d\", \"kargs\": {\"in_channels\": 1, \"out_channels\": 256, \"kernel_size\": [1, 7], \"bias\": false, \"padding\": [0, 3]}}, {\"class\": \"ReLU\", \"kargs\": {\"inplace\": true}}, {\"class\": \"BatchNorm2d\", \"kargs\": {\"num_features\": 256}}, {\"class\": \"Conv2d\", \"kargs\": {\"in_channels\": 256, \"out_channels\": 80, \"kernel_size\": [2, 7], \"bias\": true, \"padding\": [0, 3]}}, {\"class\": \"ReLU\", \"kargs\": {\"inplace\": true}}, {\"class\": \"BatchNorm2d\", \"kargs\": {\"num_features\": 80}}, {\"class\": \"Flatten\", \"kargs\": {}}, {\"class\": \"Linear\", \"kargs\": {\"in_features\": 16000, \"out_features\": 256}}, {\"class\": \"ReLU\", \"kargs\": {\"inplace\": true}}, {\"class\": \"BatchNorm1d\", \"kargs\": {\"num_features\": 256}}, {\"class\": \"Linear\", \"kargs\": {\"in_features\": 256, \"out_features\": 256}}], \"NUM_LOGS_PER_EPOCH\": 10, \"BEST_MODEL_PATH\": \"./best_model.pth\", \"n_way\": 16, \"datasets\": [{\"labels\": [\"1-10.\", \"1-11.\", \"1-15.\", \"1-16.\", \"1-17.\", \"1-18.\", \"1-19.\", \"10-4.\", \"10-7.\", \"11-1.\", \"11-14.\", \"11-17.\", \"11-20.\", \"11-7.\", \"13-20.\", \"13-8.\", \"14-10.\", \"14-11.\", \"14-14.\", \"14-7.\", \"15-1.\", \"15-20.\", \"16-1.\", \"16-16.\", \"17-10.\", \"17-11.\", \"17-2.\", \"19-1.\", \"19-16.\", \"19-19.\", \"19-20.\", \"19-3.\", \"2-10.\", \"2-11.\", \"2-17.\", \"2-18.\", \"2-20.\", \"2-3.\", \"2-4.\", \"2-5.\", \"2-6.\", \"2-7.\", \"2-8.\", \"3-13.\", \"3-18.\", \"3-3.\", \"4-1.\", \"4-10.\", \"4-11.\", \"4-19.\", \"5-5.\", \"6-15.\", \"7-10.\", \"7-14.\", \"8-18.\", \"8-20.\", \"8-3.\", \"8-8.\"], \"domains\": [1, 2, 3, 4, 5], \"num_examples_per_domain_per_label\": 100, \"pickle_path\": \"/mnt/wd500GB/CSC500/csc500-main/datasets/cores.stratified_ds.2022A.pkl\", \"source_or_target_dataset\": \"target\", \"x_transforms\": [\"take_200\"], \"episode_transforms\": [], \"domain_prefix\": \"C_A_\"}, {\"labels\": [\"1-10\", \"1-12\", \"1-14\", \"1-16\", \"1-18\", \"1-19\", \"1-8\", \"10-11\", \"10-17\", \"10-4\", \"10-7\", \"11-1\", \"11-10\", \"11-19\", \"11-20\", \"11-4\", \"11-7\", \"12-19\", \"12-20\", \"12-7\", \"13-14\", \"13-18\", \"13-19\", \"13-20\", \"13-3\", \"13-7\", \"14-10\", \"14-11\", \"14-12\", \"14-13\", \"14-14\", \"14-19\", \"14-20\", \"14-7\", \"14-8\", \"14-9\", \"15-1\", \"15-19\", \"15-6\", \"16-1\", \"16-16\", \"16-19\", \"16-20\", \"17-10\", \"17-11\", \"18-1\", \"18-10\", \"18-11\", \"18-12\", \"18-13\", \"18-14\", \"18-15\", \"18-16\", \"18-17\", \"18-19\", \"18-2\", \"18-20\", \"18-4\", \"18-5\", \"18-7\", \"18-8\", \"18-9\", \"19-1\", \"19-10\", \"19-11\", \"19-12\", \"19-13\", \"19-14\", \"19-15\", \"19-19\", \"19-2\", \"19-20\", \"19-3\", \"19-4\", \"19-6\", \"19-7\", \"19-8\", \"19-9\", \"2-1\", \"2-13\", \"2-15\", \"2-3\", \"2-4\", \"2-5\", \"2-6\", \"2-7\", \"2-8\", \"20-1\", \"20-12\", \"20-14\", \"20-15\", \"20-16\", \"20-18\", \"20-19\", \"20-20\", \"20-3\", \"20-4\", \"20-5\", \"20-7\", \"20-8\", \"3-1\", \"3-13\", \"3-18\", \"3-2\", \"3-8\", \"4-1\", \"4-10\", \"4-11\", \"5-1\", \"5-5\", \"6-1\", \"6-15\", \"6-6\", \"7-10\", \"7-11\", \"7-12\", \"7-13\", \"7-14\", \"7-7\", \"7-8\", \"7-9\", \"8-1\", \"8-13\", \"8-14\", \"8-18\", \"8-20\", \"8-3\", \"8-8\", \"9-1\", \"9-7\"], \"domains\": [1, 2, 3, 4], \"num_examples_per_domain_per_label\": 100, \"pickle_path\": \"/mnt/wd500GB/CSC500/csc500-main/datasets/wisig.node3-19.stratified_ds.2022A.pkl\", \"source_or_target_dataset\": \"target\", \"x_transforms\": [\"take_200\"], \"episode_transforms\": [], \"domain_prefix\": \"W_A_\"}, {\"labels\": [\"3123D52\", \"3123D65\", \"3123D79\", \"3123D80\", \"3123D54\", \"3123D70\", \"3123D7B\", \"3123D89\", \"3123D58\", \"3123D76\", \"3123D7D\", \"3123EFE\", \"3123D64\", \"3123D78\", \"3123D7E\", \"3124E4A\"], \"domains\": [32, 38, 8, 44, 14, 50, 20, 26], \"num_examples_per_domain_per_label\": 2000, \"pickle_path\": \"/mnt/wd500GB/CSC500/csc500-main/datasets/oracle.Run1_framed_2000Examples_stratified_ds.2022A.pkl\", \"source_or_target_dataset\": \"source\", \"x_transforms\": [\"take_200\", \"resample_20Msps_to_25Msps\"], \"episode_transforms\": [], \"domain_prefix\": \"ORACLE.run1_\"}], \"domains_source\": [\"ORACLE.run1_32\", \"ORACLE.run1_38\", \"ORACLE.run1_8\", \"ORACLE.run1_44\", \"ORACLE.run1_14\", \"ORACLE.run1_50\", \"ORACLE.run1_20\", \"ORACLE.run1_26\"], \"domains_target\": [\"C_A_1\", \"C_A_2\", \"C_A_3\", \"C_A_4\", \"C_A_5\", \"W_A_1\", \"W_A_2\", \"W_A_3\", \"W_A_4\"]}, \"results\": {\"source_test_label_accuracy\": 0.8833984375, \"source_test_label_loss\": 0.33748945593833923, \"target_test_label_accuracy\": 0.6326245704467354, \"target_test_label_loss\": 63504.90234375, \"source_val_label_accuracy\": 0.8814127604166667, \"source_val_label_loss\": 0.3365398049354553, \"target_val_label_accuracy\": 0.626073883161512, \"target_val_label_loss\": 66270.453125, \"total_epochs_trained\": 8, \"total_experiment_time_secs\": 1293.6835215091705, \"confusion\": {\"ORACLE.run1_14\": {\"15\": {\"15\": 240}, \"5\": {\"5\": 229, \"3\": 4, \"2\": 4, \"4\": 2, \"7\": 1}, \"7\": {\"7\": 239, \"5\": 1}, \"4\": {\"4\": 236, \"5\": 4}, \"10\": {\"10\": 240}, \"11\": {\"11\": 240}, \"12\": {\"12\": 240}, \"0\": {\"0\": 229, \"3\": 9, \"10\": 2}, \"14\": {\"6\": 17, \"14\": 189, \"13\": 26, \"3\": 1, \"2\": 7}, \"8\": {\"8\": 240}, \"13\": {\"6\": 90, \"14\": 59, \"13\": 74, \"2\": 13, \"15\": 4}, \"6\": {\"6\": 141, \"14\": 36, \"13\": 55, \"2\": 7, \"3\": 1}, \"1\": {\"1\": 240}, \"3\": {\"3\": 236, \"14\": 1, \"13\": 1, \"2\": 1, \"6\": 1}, \"9\": {\"9\": 240}, \"2\": {\"2\": 146, \"3\": 7, \"5\": 23, \"4\": 12, \"14\": 32, \"13\": 9, \"6\": 11}}, \"ORACLE.run1_20\": {\"4\": {\"4\": 235, \"12\": 4, \"10\": 1}, \"10\": {\"10\": 240}, \"15\": {\"15\": 199, \"1\": 28, \"12\": 12, \"9\": 1}, \"0\": {\"0\": 237, \"3\": 1, \"5\": 1, \"8\": 1}, \"6\": {\"6\": 240}, \"3\": {\"3\": 189, \"1\": 4, \"5\": 22, \"9\": 20, \"8\": 4, \"0\": 1}, \"7\": {\"7\": 218, \"2\": 12, \"9\": 9, \"4\": 1}, \"2\": {\"7\": 26, \"2\": 181, \"12\": 23, \"9\": 5, \"4\": 2, \"15\": 1, \"13\": 2}, \"8\": {\"8\": 230, \"14\": 7, \"3\": 2, \"7\": 1}, \"11\": {\"11\": 240}, \"14\": {\"14\": 233, \"8\": 7}, \"12\": {\"12\": 214, \"2\": 20, \"15\": 6}, \"13\": {\"13\": 239, \"2\": 1}, \"9\": {\"9\": 213, \"7\": 5, \"2\": 1, \"3\": 15, \"15\": 2, \"5\": 1, \"1\": 3}, \"5\": {\"1\": 38, \"5\": 189, \"3\": 12, \"9\": 1}, \"1\": {\"1\": 187, \"5\": 36, \"15\": 8, \"3\": 5, \"9\": 4}}, \"ORACLE.run1_50\": {\"5\": {\"7\": 65, \"5\": 106, \"6\": 43, \"13\": 13, \"1\": 2, \"15\": 2, \"4\": 9}, \"12\": {\"12\": 229, \"9\": 8, \"11\": 3}, \"14\": {\"14\": 240}, \"4\": {\"4\": 198, \"7\": 19, \"15\": 11, \"6\": 4, \"5\": 8}, \"13\": {\"13\": 240}, \"10\": {\"10\": 240}, \"9\": {\"11\": 11, \"9\": 209, \"12\": 20}, \"15\": {\"15\": 224, \"6\": 10, \"11\": 5, \"5\": 1}, \"6\": {\"6\": 203, \"5\": 23, \"15\": 13, \"4\": 1}, \"2\": {\"2\": 233, \"0\": 7}, \"0\": {\"0\": 225, \"2\": 15}, \"11\": {\"11\": 233, \"12\": 3, \"9\": 2, \"15\": 2}, \"3\": {\"3\": 240}, \"8\": {\"8\": 240}, \"7\": {\"7\": 229, \"4\": 4, \"5\": 7}, \"1\": {\"1\": 235, \"11\": 1, \"13\": 4}}, \"ORACLE.run1_26\": {\"7\": {\"8\": 37, \"3\": 21, \"7\": 169, \"2\": 6, \"9\": 7}, \"6\": {\"6\": 210, \"15\": 26, \"10\": 3, \"5\": 1}, \"14\": {\"14\": 168, \"10\": 56, \"0\": 13, \"1\": 3}, \"15\": {\"15\": 180, \"6\": 17, \"5\": 33, \"10\": 9, \"1\": 1}, \"5\": {\"5\": 221, \"15\": 18, \"6\": 1}, \"10\": {\"10\": 178, \"0\": 14, \"14\": 42, \"6\": 2, \"15\": 4}, \"4\": {\"4\": 240}, \"11\": {\"11\": 240}, \"13\": {\"13\": 214, \"9\": 12, \"2\": 11, \"3\": 3}, \"2\": {\"9\": 21, \"2\": 141, \"3\": 30, \"7\": 38, \"0\": 5, \"8\": 4, \"13\": 1}, \"0\": {\"10\": 34, \"0\": 183, \"14\": 18, \"2\": 1, \"8\": 4}, \"12\": {\"12\": 240}, \"3\": {\"3\": 207, \"7\": 26, \"2\": 7}, \"9\": {\"9\": 175, \"13\": 15, \"8\": 24, \"2\": 20, \"7\": 4, \"3\": 2}, \"8\": {\"9\": 19, \"8\": 180, \"2\": 2, \"7\": 37, \"0\": 2}, \"1\": {\"1\": 194, \"14\": 39, \"6\": 3, \"10\": 1, \"15\": 1, \"5\": 2}}, \"ORACLE.run1_32\": {\"7\": {\"7\": 204, \"5\": 19, \"0\": 10, \"14\": 6, \"8\": 1}, \"2\": {\"2\": 214, \"4\": 26}, \"5\": {\"5\": 120, \"7\": 67, \"8\": 27, \"14\": 10, \"0\": 16}, \"6\": {\"6\": 240}, \"13\": {\"4\": 22, \"3\": 23, \"13\": 191, \"11\": 4}, \"4\": {\"4\": 214, \"2\": 25, \"13\": 1}, \"3\": {\"3\": 232, \"13\": 8}, \"0\": {\"0\": 181, \"8\": 19, \"5\": 14, \"14\": 4, \"7\": 22}, \"9\": {\"9\": 234, \"12\": 6}, \"12\": {\"12\": 240}, \"8\": {\"8\": 188, \"0\": 28, \"14\": 4, \"5\": 15, \"7\": 3, \"4\": 2}, \"14\": {\"7\": 30, \"14\": 184, \"0\": 9, \"5\": 11, \"2\": 3, \"8\": 3}, \"15\": {\"15\": 236, \"8\": 3, \"0\": 1}, \"11\": {\"11\": 239, \"13\": 1}, \"10\": {\"10\": 240}, \"1\": {\"1\": 240}}, \"ORACLE.run1_44\": {\"11\": {\"11\": 240}, \"7\": {\"9\": 31, \"7\": 208, \"10\": 1}, \"6\": {\"6\": 193, \"9\": 14, \"13\": 33}, \"12\": {\"12\": 232, \"3\": 8}, \"4\": {\"4\": 139, \"14\": 95, \"15\": 6}, \"13\": {\"13\": 197, \"6\": 37, \"9\": 5, \"11\": 1}, \"8\": {\"8\": 191, \"0\": 31, \"15\": 6, \"5\": 11, \"14\": 1}, \"5\": {\"5\": 223, \"8\": 4, \"14\": 4, \"15\": 9}, \"14\": {\"14\": 180, \"4\": 49, \"5\": 5, \"15\": 6}, \"3\": {\"3\": 233, \"12\": 7}, \"10\": {\"10\": 225, \"1\": 10, \"2\": 3, \"7\": 2}, \"1\": {\"1\": 225, \"2\": 14, \"10\": 1}, \"2\": {\"2\": 235, \"1\": 5}, \"15\": {\"15\": 192, \"14\": 19, \"0\": 3, \"8\": 11, \"4\": 4, \"5\": 11}, \"9\": {\"7\": 66, \"6\": 33, \"9\": 116, \"13\": 25}, \"0\": {\"8\": 16, \"0\": 224}}, \"ORACLE.run1_8\": {\"10\": {\"10\": 214, \"4\": 3, \"13\": 20, \"5\": 2, \"1\": 1}, \"6\": {\"6\": 202, \"7\": 29, \"13\": 7, \"4\": 2}, \"13\": {\"13\": 195, \"10\": 35, \"7\": 6, \"6\": 4}, \"3\": {\"3\": 240}, \"9\": {\"9\": 240}, \"1\": {\"1\": 208, \"11\": 30, \"10\": 1, \"5\": 1}, \"5\": {\"5\": 202, \"10\": 20, \"1\": 13, \"14\": 2, \"11\": 3}, \"11\": {\"1\": 80, \"11\": 157, \"14\": 3}, \"4\": {\"4\": 236, \"1\": 1, \"14\": 2, \"10\": 1}, \"14\": {\"14\": 231, \"4\": 7, \"11\": 2}, \"12\": {\"12\": 192, \"15\": 48}, \"7\": {\"7\": 218, \"6\": 22}, \"0\": {\"0\": 240}, \"15\": {\"15\": 220, \"12\": 20}, \"2\": {\"3\": 20, \"2\": 202, \"15\": 3, \"12\": 15}, \"8\": {\"8\": 240}}, \"ORACLE.run1_38\": {\"4\": {\"4\": 240}, \"7\": {\"7\": 238, \"9\": 1, \"5\": 1}, \"12\": {\"12\": 240}, \"10\": {\"0\": 11, \"10\": 215, \"13\": 11, \"4\": 3}, \"0\": {\"0\": 177, \"8\": 2, \"7\": 14, \"13\": 10, \"10\": 27, \"3\": 9, \"5\": 1}, \"1\": {\"1\": 239, \"6\": 1}, \"5\": {\"7\": 25, \"5\": 119, \"8\": 81, \"9\": 10, \"15\": 4, \"13\": 1}, \"15\": {\"15\": 214, \"5\": 7, \"8\": 16, \"1\": 3}, \"9\": {\"9\": 238, \"5\": 1, \"7\": 1}, \"11\": {\"11\": 235, \"3\": 5}, \"14\": {\"14\": 219, \"2\": 21}, \"6\": {\"6\": 240}, \"8\": {\"8\": 132, \"7\": 36, \"5\": 62, \"15\": 9, \"0\": 1}, \"3\": {\"3\": 240}, \"2\": {\"2\": 228, \"13\": 1, \"14\": 11}, \"13\": {\"13\": 229, \"10\": 7, \"0\": 2, \"2\": 1, \"14\": 1}}, \"C_A_4\": {\"42\": {\"33\": 3, \"42\": 9}, \"0\": {\"46\": 1, \"0\": 3, \"3\": 1, \"50\": 2, \"22\": 1, \"5\": 2}, \"1\": {\"1\": 10, \"52\": 2}, \"39\": {\"39\": 12}, \"28\": {\"28\": 6, \"16\": 1, \"17\": 2, \"15\": 1}, \"53\": {\"53\": 10, \"15\": 2}, \"19\": {\"19\": 9, \"33\": 2, \"26\": 1}, \"34\": {\"34\": 7, \"23\": 2, \"42\": 1, \"26\": 2}, \"33\": {\"33\": 11, \"32\": 1}, \"32\": {\"33\": 1, \"32\": 5, \"49\": 2, \"17\": 2, \"41\": 1, \"55\": 1}, \"10\": {\"10\": 12}, \"46\": {\"46\": 5, \"0\": 1, \"44\": 4, \"50\": 2}, \"20\": {\"1\": 2, \"20\": 6}, \"5\": {\"46\": 2, \"5\": 8}, \"40\": {\"5\": 1, \"1\": 1, \"40\": 7, \"9\": 1, \"52\": 1, \"0\": 1}, \"51\": {\"51\": 8, \"27\": 2, \"39\": 1, \"37\": 1}, \"37\": {\"37\": 9, \"13\": 1, \"27\": 1, \"51\": 1}, \"17\": {\"17\": 7, \"41\": 1, \"49\": 1, \"7\": 1, \"33\": 2}, \"45\": {\"30\": 2, \"45\": 6, \"22\": 2, \"56\": 1, \"6\": 1}, \"13\": {\"13\": 12}, \"27\": {\"27\": 9, \"8\": 3}, \"24\": {\"24\": 7, \"23\": 1}, \"30\": {\"30\": 12}, \"31\": {\"31\": 9, \"49\": 1}, \"41\": {\"17\": 1, \"41\": 6, \"14\": 1, \"32\": 2}, \"36\": {\"36\": 9, \"32\": 2, \"19\": 1}, \"16\": {\"16\": 8, \"26\": 1, \"23\": 1}, \"22\": {\"22\": 5, \"30\": 1, \"44\": 2, \"46\": 2, \"6\": 2}, \"44\": {\"45\": 3, \"44\": 6, \"56\": 1, \"22\": 2}, \"9\": {\"9\": 4, \"13\": 1, \"57\": 4, \"29\": 1, \"14\": 1, \"47\": 1}, \"57\": {\"9\": 2, \"47\": 1, \"22\": 1, \"57\": 1, \"1\": 2, \"29\": 3, \"4\": 1, \"20\": 1}, \"8\": {\"57\": 5, \"9\": 1, \"47\": 2, \"27\": 1, \"8\": 1}, \"23\": {\"23\": 6, \"34\": 1, \"19\": 2, \"16\": 1}, \"47\": {\"9\": 2, \"47\": 9, \"48\": 1}, \"43\": {\"43\": 11, \"32\": 1}, \"49\": {\"36\": 4, \"39\": 1, \"49\": 1, \"55\": 1, \"33\": 1, \"38\": 1, \"7\": 1, \"19\": 2}, \"3\": {\"3\": 8, \"6\": 4}, \"12\": {\"3\": 1, \"12\": 4, \"22\": 2, \"30\": 2, \"46\": 2, \"44\": 1}, \"38\": {\"38\": 7, \"36\": 2, \"43\": 1, \"32\": 1, \"29\": 1}, \"7\": {\"7\": 7, \"33\": 1, \"38\": 2, \"17\": 1, \"43\": 1}, \"26\": {\"26\": 10, \"15\": 2}, \"29\": {\"27\": 1, \"57\": 4, \"29\": 6, \"9\": 1}, \"48\": {\"47\": 2, \"2\": 1, \"4\": 2, \"29\": 1, \"48\": 3, \"1\": 1}, \"56\": {\"44\": 2, \"56\": 4, \"5\": 2, \"21\": 1, \"3\": 1, \"45\": 1, \"50\": 1}, \"15\": {\"15\": 9, \"11\": 3}, \"50\": {\"5\": 4, \"44\": 3, \"50\": 2, \"46\": 3}, \"2\": {\"2\": 10}, \"55\": {\"55\": 7, \"41\": 1, \"32\": 2}, \"21\": {\"21\": 8, \"3\": 2, \"46\": 1, \"30\": 1}, \"52\": {\"1\": 1, \"52\": 10, \"12\": 1}, \"18\": {\"18\": 10, \"25\": 2}, \"14\": {\"1\": 3, \"14\": 3, \"52\": 1, \"29\": 1, \"38\": 1, \"47\": 1, \"8\": 1, \"27\": 1}, \"35\": {\"19\": 1, \"35\": 4, \"32\": 2, \"49\": 1}, \"4\": {\"4\": 6, \"52\": 1, \"48\": 1, \"29\": 1, \"57\": 1}, \"25\": {\"25\": 8}, \"11\": {\"11\": 3, \"15\": 3}, \"54\": {\"54\": 5, \"31\": 1}, \"6\": {\"6\": 6, \"56\": 1, \"3\": 1}}, \"W_A_3\": {\"110\": {\"94\": 2, \"110\": 7, \"0\": 1, \"60\": 1, \"109\": 1}, \"1\": {\"1\": 9, \"114\": 1}, \"2\": {\"117\": 1, \"2\": 7, \"13\": 1, \"67\": 1, \"5\": 1, \"59\": 1}, \"94\": {\"94\": 9, \"108\": 1, \"110\": 1, \"0\": 1}, \"64\": {\"89\": 1, \"64\": 3, \"57\": 4, \"82\": 2, \"120\": 2}, \"78\": {\"78\": 6, \"21\": 2, \"10\": 2, \"62\": 2}, \"47\": {\"47\": 8, \"62\": 1, \"51\": 1, \"31\": 1, \"105\": 1}, \"127\": {\"127\": 12}, \"89\": {\"89\": 4, \"67\": 3, \"92\": 1, \"41\": 1, \"45\": 1, \"6\": 1, \"37\": 1}, \"79\": {\"79\": 10, \"48\": 1, \"63\": 1}, \"22\": {\"79\": 3, \"22\": 5, \"48\": 2, \"76\": 1, \"121\": 1}, \"117\": {\"117\": 11, \"37\": 1}, \"49\": {\"49\": 4, \"1\": 1, \"106\": 1, \"3\": 1, \"110\": 1, \"51\": 2, \"7\": 2}, \"14\": {\"127\": 1, \"14\": 6, \"40\": 1, \"69\": 1, \"71\": 1, \"18\": 1, \"35\": 1}, \"103\": {\"103\": 9, \"57\": 1, \"28\": 1, \"46\": 1}, \"123\": {\"123\": 9, \"64\": 1, \"116\": 1, \"48\": 1}, \"80\": {\"80\": 11, \"123\": 1}, \"63\": {\"63\": 8, \"123\": 1, \"119\": 1, \"80\": 1, \"115\": 1}, \"27\": {\"10\": 1, \"27\": 8, \"21\": 2, \"24\": 1}, \"17\": {\"63\": 1, \"118\": 1, \"27\": 1, \"4\": 2, \"17\": 3, \"35\": 1, \"11\": 1, \"119\": 1, \"24\": 1}, \"105\": {\"105\": 9, \"14\": 1, \"114\": 1, \"71\": 1}, \"40\": {\"14\": 1, \"40\": 8, \"84\": 1, \"105\": 1, \"81\": 1}, \"93\": {\"3\": 1, \"93\": 9, \"7\": 1, \"16\": 1}, \"98\": {\"98\": 10, \"73\": 1, \"56\": 1}, \"10\": {\"27\": 1, \"10\": 8, \"21\": 1, \"78\": 1, \"24\": 1}, \"3\": {\"31\": 1, \"3\": 8, \"26\": 1, \"49\": 1, \"16\": 1}, \"19\": {\"19\": 9, \"85\": 1, \"73\": 2}, \"31\": {\"31\": 10, \"19\": 1, \"81\": 1}, \"0\": {\"0\": 6, \"126\": 1, \"108\": 1, \"97\": 2, \"43\": 1, \"8\": 1}, \"118\": {\"118\": 7, \"51\": 1, \"87\": 1, \"0\": 2, \"60\": 1}, \"87\": {\"118\": 4, \"43\": 2, \"126\": 2, \"87\": 1, \"93\": 1, \"108\": 2}, \"58\": {\"72\": 1, \"58\": 5, \"46\": 2, \"41\": 1, \"111\": 1, \"55\": 1, \"44\": 1}, \"72\": {\"92\": 1, \"72\": 6, \"75\": 1, \"33\": 1, \"84\": 1, \"107\": 2}, \"129\": {\"129\": 7, \"29\": 1, \"50\": 1, \"89\": 1, \"77\": 1, \"13\": 1}, \"92\": {\"100\": 2, \"58\": 2, \"55\": 1, \"38\": 1, \"65\": 2, \"78\": 1, \"92\": 2, \"99\": 1}, \"39\": {\"39\": 8, \"11\": 1, \"21\": 1}, \"28\": {\"28\": 9, \"77\": 1, \"29\": 1, \"42\": 1}, \"29\": {\"100\": 1, \"64\": 1, \"29\": 2, \"65\": 3, \"28\": 1, \"76\": 1, \"55\": 1, \"67\": 1, \"5\": 1}, \"84\": {\"93\": 1, \"40\": 1, \"84\": 8, \"26\": 1, \"49\": 1}, \"102\": {\"102\": 9, \"67\": 2, \"116\": 1}, \"71\": {\"71\": 12}, \"100\": {\"100\": 6, \"31\": 1, \"114\": 2, \"67\": 1, \"53\": 1, \"95\": 1}, \"73\": {\"98\": 2, \"50\": 2, \"73\": 5, \"19\": 1, \"77\": 1, \"38\": 1}, \"16\": {\"84\": 2, \"51\": 1, \"16\": 6, \"62\": 2, \"93\": 1}, \"125\": {\"125\": 9, \"59\": 1, \"123\": 1, \"86\": 1}, \"21\": {\"21\": 12}, \"96\": {\"96\": 6, \"122\": 2, \"113\": 1, \"60\": 1, \"7\": 1, \"8\": 1}, \"4\": {\"4\": 11, \"86\": 1}, \"57\": {\"57\": 6, \"112\": 1, \"38\": 1, \"103\": 1, \"6\": 1, \"76\": 1, \"79\": 1}, \"126\": {\"126\": 6, \"108\": 1, \"43\": 1, \"109\": 2, \"87\": 1, \"8\": 1}, \"101\": {\"101\": 10, \"122\": 1, \"7\": 1}, \"122\": {\"96\": 1, \"122\": 6, \"118\": 1, \"97\": 1, \"15\": 1, \"43\": 2}, \"77\": {\"77\": 7, \"61\": 2, \"42\": 2, \"65\": 1}, \"56\": {\"28\": 2, \"44\": 1, \"95\": 1, \"52\": 1, \"66\": 1, \"72\": 1, \"56\": 1, \"20\": 2, \"25\": 1, \"91\": 1}, \"85\": {\"85\": 9, \"42\": 1, \"5\": 1, \"58\": 1}, \"70\": {\"70\": 8, \"78\": 2, \"10\": 2}, \"69\": {\"69\": 10, \"1\": 1, \"36\": 1}, \"106\": {\"106\": 12}, \"42\": {\"42\": 8, \"59\": 1, \"83\": 1, \"112\": 1, \"52\": 1}, \"24\": {\"24\": 11, \"10\": 1}, \"120\": {\"42\": 1, \"120\": 7, \"80\": 1, \"4\": 1}, \"108\": {\"126\": 1, \"108\": 6, \"36\": 1, \"94\": 1, \"88\": 1}, \"61\": {\"42\": 1, \"61\": 10, \"92\": 1}, \"91\": {\"42\": 1, \"120\": 2, \"91\": 2, \"53\": 1, \"85\": 2, \"65\": 1, \"121\": 2, \"58\": 1}, \"30\": {\"30\": 7, \"8\": 1, \"24\": 2, \"39\": 1, \"10\": 1}, \"114\": {\"114\": 11, \"40\": 1}, \"46\": {\"91\": 1, \"46\": 7, \"32\": 1, \"111\": 1}, \"124\": {\"103\": 1, \"124\": 4, \"57\": 1, \"22\": 1, \"117\": 1, \"120\": 1, \"85\": 1}, \"38\": {\"57\": 1, \"103\": 1, \"38\": 6, \"92\": 1, \"73\": 2, \"31\": 1}, \"51\": {\"23\": 3, \"51\": 8, \"49\": 1}, \"88\": {\"88\": 12}, \"112\": {\"112\": 3, \"90\": 2, \"27\": 1, \"103\": 2, \"74\": 1, \"57\": 1, \"61\": 1, \"92\": 1}, \"37\": {\"37\": 7, \"120\": 3, \"65\": 1, \"67\": 1}, \"36\": {\"36\": 10, \"108\": 1, \"27\": 1}, \"26\": {\"26\": 12}, \"45\": {\"57\": 2, \"116\": 2, \"59\": 1, \"88\": 1, \"125\": 1, \"2\": 3, \"45\": 1, \"48\": 1}, \"23\": {\"16\": 1, \"105\": 1, \"23\": 4, \"18\": 3, \"14\": 1, \"44\": 1, \"96\": 1}, \"43\": {\"21\": 1, \"126\": 1, \"122\": 1, \"27\": 1, \"43\": 4, \"24\": 1, \"30\": 1}, \"119\": {\"117\": 1, \"102\": 2, \"119\": 5, \"77\": 1, \"80\": 1, \"45\": 1, \"2\": 1}, \"95\": {\"95\": 9, \"56\": 1, \"34\": 1, \"114\": 1}, \"62\": {\"7\": 2, \"62\": 6, \"69\": 1, \"30\": 1, \"16\": 2}, \"7\": {\"101\": 2, \"7\": 8, \"96\": 1, \"93\": 1}, \"41\": {\"41\": 6, \"61\": 2, \"67\": 1, \"89\": 1, \"129\": 1, \"6\": 1}, \"67\": {\"41\": 1, \"67\": 8, \"88\": 1, \"78\": 1, \"89\": 1}, \"50\": {\"81\": 1, \"89\": 1, \"129\": 2, \"50\": 5, \"82\": 1, \"46\": 1, \"111\": 1}, \"9\": {\"47\": 1, \"9\": 8, \"31\": 1, \"98\": 1, \"95\": 1}, \"82\": {\"82\": 5, \"104\": 1, \"50\": 1, \"116\": 1, \"129\": 1, \"81\": 1, \"91\": 2}, \"81\": {\"81\": 7, \"90\": 1, \"65\": 1, \"80\": 1, \"103\": 1, \"82\": 1}, \"97\": {\"97\": 3, \"27\": 1, \"23\": 1, \"108\": 1, \"94\": 1, \"10\": 1, \"11\": 1, \"122\": 1, \"0\": 1, \"43\": 1}, \"13\": {\"67\": 2, \"13\": 4, \"2\": 1, \"86\": 1, \"17\": 1, \"80\": 1, \"62\": 1, \"129\": 1}, \"55\": {\"55\": 10, \"128\": 1, \"9\": 1}, \"75\": {\"62\": 1, \"75\": 4, \"12\": 2, \"83\": 1, \"122\": 1, \"96\": 1, \"127\": 1, \"106\": 1}, \"53\": {\"19\": 2, \"36\": 1, \"95\": 1, \"52\": 1, \"53\": 2, \"99\": 1, \"25\": 1, \"9\": 1, \"46\": 2}, \"111\": {\"111\": 8, \"103\": 1, \"0\": 1, \"77\": 2}, \"44\": {\"44\": 11, \"72\": 1}, \"35\": {\"83\": 3, \"35\": 6, \"95\": 1, \"23\": 1, \"75\": 1}, \"5\": {\"5\": 11, \"90\": 1}, \"90\": {\"90\": 6, \"48\": 1, \"85\": 2, \"67\": 1}, \"33\": {\"33\": 12}, \"83\": {\"35\": 2, \"44\": 1, \"25\": 1, \"99\": 1, \"83\": 3, \"49\": 1, \"107\": 1, \"114\": 1, \"34\": 1}, \"65\": {\"120\": 1, \"65\": 5, \"76\": 1, \"28\": 1, \"32\": 1, \"91\": 1, \"20\": 1, \"19\": 1}, \"8\": {\"8\": 5, \"43\": 1, \"97\": 1, \"94\": 1, \"87\": 2}, \"60\": {\"60\": 8, \"8\": 1, \"75\": 1, \"84\": 1, \"51\": 1}, \"34\": {\"114\": 1, \"34\": 5, \"9\": 1, \"35\": 1, \"99\": 1, \"1\": 1, \"95\": 1, \"53\": 1}, \"109\": {\"118\": 1, \"109\": 8, \"24\": 1, \"108\": 2}, \"76\": {\"76\": 4, \"90\": 1, \"22\": 3, \"6\": 1, \"57\": 2, \"55\": 1}, \"32\": {\"32\": 5, \"46\": 1, \"85\": 1, \"9\": 1, \"82\": 1, \"128\": 1, \"74\": 2}, \"68\": {\"68\": 7, \"5\": 1, \"104\": 1, \"59\": 1, \"6\": 2}, \"18\": {\"18\": 10, \"9\": 1, \"23\": 1}, \"116\": {\"116\": 9, \"123\": 2, \"66\": 1}, \"128\": {\"128\": 4, \"92\": 1, \"99\": 1, \"32\": 2, \"74\": 2, \"95\": 2}, \"115\": {\"76\": 1, \"115\": 6, \"104\": 1, \"125\": 1, \"17\": 1}, \"113\": {\"113\": 5, \"96\": 1, \"97\": 2}, \"48\": {\"48\": 5, \"68\": 1, \"119\": 1, \"121\": 1, \"124\": 2, \"45\": 1, \"123\": 1}, \"104\": {\"111\": 1, \"104\": 6, \"88\": 1, \"102\": 1, \"48\": 1, \"70\": 1, \"64\": 1}, \"121\": {\"24\": 1, \"121\": 9, \"28\": 2}, \"107\": {\"107\": 11, \"33\": 1}, \"25\": {\"25\": 10, \"83\": 1, \"1\": 1}, \"12\": {\"12\": 8, \"15\": 1, \"49\": 2, \"7\": 1}, \"6\": {\"6\": 4, \"90\": 1, \"121\": 1, \"32\": 2, \"37\": 1, \"103\": 1, \"68\": 1, \"31\": 1}, \"54\": {\"54\": 10, \"3\": 1, \"75\": 1}, \"11\": {\"94\": 2, \"11\": 7, \"97\": 2, \"27\": 1}, \"59\": {\"125\": 2, \"59\": 6, \"42\": 1, \"65\": 1, \"64\": 2}, \"86\": {\"86\": 6, \"119\": 1, \"55\": 1, \"6\": 1, \"4\": 1, \"68\": 1, \"66\": 1}, \"66\": {\"116\": 2, \"119\": 1, \"128\": 1, \"6\": 1, \"65\": 1, \"66\": 4, \"90\": 1, \"85\": 1}, \"99\": {\"99\": 8, \"38\": 2, \"100\": 1, \"20\": 1}, \"15\": {\"15\": 7, \"108\": 1, \"39\": 1, \"97\": 2, \"122\": 1}, \"74\": {\"74\": 7, \"20\": 1, \"5\": 1, \"32\": 2, \"112\": 1}, \"20\": {\"20\": 5, \"56\": 2, \"53\": 1, \"95\": 1, \"34\": 1, \"99\": 2}, \"52\": {\"52\": 8, \"85\": 1, \"20\": 1, \"46\": 2}}, \"C_A_5\": {\"43\": {\"43\": 6}, \"35\": {\"35\": 9, \"36\": 1, \"32\": 1, \"34\": 1}, \"54\": {\"54\": 12}, \"22\": {\"22\": 7, \"3\": 1, \"44\": 1, \"40\": 1, \"21\": 1, \"56\": 1}, \"16\": {\"28\": 1, \"16\": 5, \"11\": 2}, \"5\": {\"22\": 5, \"6\": 1, \"4\": 1, \"50\": 1, \"5\": 2, \"45\": 2}, \"28\": {\"28\": 12}, \"14\": {\"43\": 4, \"35\": 1, \"36\": 1, \"14\": 2, \"27\": 2, \"32\": 1, \"20\": 1}, \"51\": {\"51\": 5, \"37\": 1, \"49\": 1, \"8\": 1}, \"19\": {\"19\": 11, \"23\": 1}, \"31\": {\"31\": 10, \"10\": 1, \"33\": 1}, \"10\": {\"10\": 12}, \"21\": {\"21\": 8, \"52\": 3, \"5\": 1}, \"3\": {\"22\": 2, \"3\": 7, \"6\": 2, \"12\": 1}, \"57\": {\"57\": 9, \"30\": 2, \"9\": 1}, \"9\": {\"9\": 3, \"22\": 3, \"1\": 1, \"30\": 2, \"6\": 1, \"56\": 2}, \"8\": {\"8\": 9, \"2\": 1, \"32\": 1, \"29\": 1}, \"46\": {\"6\": 2, \"46\": 3, \"40\": 1, \"56\": 2, \"3\": 2}, \"23\": {\"23\": 7, \"55\": 1, \"17\": 1, \"42\": 2, \"41\": 1}, \"37\": {\"37\": 9, \"39\": 1, \"27\": 1, \"14\": 1}, \"34\": {\"34\": 7, \"23\": 1, \"39\": 1, \"41\": 1, \"35\": 2}, \"4\": {\"4\": 5, \"50\": 1, \"47\": 1, \"45\": 1, \"6\": 2, \"44\": 1, \"56\": 1}, \"6\": {\"6\": 9, \"44\": 1, \"3\": 2}, \"48\": {\"48\": 9, \"29\": 1, \"20\": 2}, \"44\": {\"5\": 1, \"44\": 4, \"45\": 3, \"6\": 1, \"56\": 1, \"22\": 2}, \"40\": {\"6\": 1, \"40\": 4, \"45\": 1, \"46\": 1, \"50\": 1, \"30\": 1, \"52\": 1, \"56\": 2}, \"12\": {\"12\": 6, \"0\": 1, \"50\": 1, \"45\": 2, \"22\": 2}, \"30\": {\"30\": 6, \"52\": 6}, \"39\": {\"39\": 9, \"54\": 1}, \"45\": {\"45\": 8, \"6\": 2, \"3\": 2}, \"36\": {\"36\": 11, \"32\": 1}, \"27\": {\"27\": 10, \"2\": 1, \"35\": 1}, \"32\": {\"32\": 4, \"2\": 3, \"35\": 1, \"8\": 2}, \"52\": {\"52\": 11, \"30\": 1}, \"0\": {\"45\": 4, \"0\": 1, \"12\": 2, \"5\": 1, \"46\": 1, \"56\": 2, \"22\": 1}, \"26\": {\"26\": 4, \"11\": 2, \"53\": 2}, \"47\": {\"47\": 5, \"1\": 3, \"57\": 3, \"52\": 1}, \"17\": {\"17\": 5, \"38\": 4, \"55\": 1}, \"2\": {\"8\": 1, \"2\": 8, \"27\": 1}, \"56\": {\"44\": 2, \"4\": 2, \"56\": 3, \"46\": 1}, \"38\": {\"17\": 2, \"38\": 3, \"2\": 1, \"33\": 1, \"34\": 1, \"23\": 1, \"32\": 3}, \"50\": {\"5\": 1, \"50\": 6, \"3\": 2, \"6\": 1}, \"20\": {\"20\": 9, \"1\": 1, \"47\": 1, \"29\": 1}, \"1\": {\"1\": 9, \"20\": 1, \"47\": 2}, \"24\": {\"24\": 12}, \"33\": {\"33\": 6, \"41\": 1, \"38\": 1}, \"13\": {\"13\": 11, \"47\": 1}, \"41\": {\"41\": 10, \"2\": 1, \"32\": 1}, \"49\": {\"51\": 1, \"49\": 8, \"32\": 1, \"39\": 1, \"31\": 1}, \"11\": {\"11\": 8, \"15\": 1, \"16\": 1}, \"42\": {\"42\": 11, \"23\": 1}, \"7\": {\"8\": 4, \"7\": 7, \"41\": 1}, \"29\": {\"8\": 2, \"29\": 5, \"20\": 2, \"1\": 1, \"48\": 1, \"13\": 1}, \"18\": {\"18\": 7, \"25\": 1}, \"55\": {\"55\": 4, \"35\": 1, \"34\": 1, \"23\": 1, \"10\": 1}, \"53\": {\"53\": 10}, \"25\": {\"25\": 9, \"18\": 1}, \"15\": {\"15\": 6, \"11\": 1, \"26\": 1}}, \"C_A_2\": {\"49\": {\"49\": 8, \"35\": 1, \"17\": 1}, \"13\": {\"13\": 10}, \"37\": {\"37\": 12}, \"41\": {\"41\": 8, \"47\": 1, \"48\": 1}, \"15\": {\"15\": 10, \"34\": 1, \"16\": 1}, \"56\": {\"6\": 4, \"3\": 3, \"5\": 2, \"44\": 1, \"22\": 1, \"45\": 1}, \"14\": {\"47\": 2, \"38\": 2, \"27\": 2, \"52\": 1, \"14\": 2, \"2\": 1, \"0\": 2}, \"3\": {\"6\": 2, \"5\": 4, \"46\": 2, \"3\": 2, \"12\": 2}, \"38\": {\"38\": 11, \"14\": 1}, \"43\": {\"43\": 11, \"36\": 1}, \"33\": {\"33\": 7, \"36\": 2, \"8\": 1, \"27\": 1, \"55\": 1}, \"47\": {\"47\": 8, \"38\": 1, \"1\": 2, \"4\": 1}, \"30\": {\"6\": 2, \"52\": 2, \"30\": 5, \"1\": 1, \"22\": 1, \"0\": 1}, \"39\": {\"39\": 10, \"7\": 1, \"42\": 1}, \"12\": {\"12\": 6, \"6\": 3, \"5\": 3}, \"6\": {\"6\": 10, \"22\": 2}, \"51\": {\"51\": 6, \"8\": 1, \"32\": 1, \"27\": 1, \"41\": 1}, \"5\": {\"5\": 11, \"56\": 1}, \"34\": {\"35\": 1, \"42\": 1, \"34\": 6, \"49\": 1, \"28\": 1, \"19\": 1, \"31\": 1}, \"35\": {\"42\": 1, \"35\": 6, \"39\": 1, \"34\": 1, \"17\": 1, \"43\": 1, \"19\": 1}, \"0\": {\"5\": 1, \"1\": 1, \"56\": 1, \"6\": 4, \"30\": 2, \"3\": 1, \"0\": 1, \"12\": 1}, \"7\": {\"7\": 7, \"39\": 1}, \"24\": {\"24\": 12}, \"8\": {\"20\": 1, \"8\": 4, \"48\": 2, \"9\": 3}, \"20\": {\"20\": 7, \"47\": 1, \"57\": 2}, \"36\": {\"36\": 12}, \"42\": {\"42\": 8, \"35\": 2, \"39\": 1, \"49\": 1}, \"1\": {\"1\": 9, \"4\": 1, \"52\": 2}, \"4\": {\"20\": 1, \"4\": 4, \"47\": 1, \"29\": 1, \"40\": 1}, \"28\": {\"28\": 10, \"34\": 1, \"53\": 1}, \"50\": {\"45\": 2, \"50\": 3, \"46\": 1, \"22\": 2, \"5\": 2}, \"45\": {\"45\": 4, \"46\": 2, \"6\": 2, \"44\": 1, \"12\": 1}, \"18\": {\"18\": 12}, \"57\": {\"57\": 6, \"9\": 3, \"14\": 1}, \"46\": {\"45\": 2, \"46\": 4, \"22\": 1, \"50\": 2, \"44\": 1}, \"48\": {\"48\": 7, \"1\": 1}, \"22\": {\"44\": 4, \"46\": 2, \"5\": 1, \"22\": 5}, \"31\": {\"31\": 11, \"17\": 1}, \"44\": {\"44\": 6, \"3\": 2, \"46\": 1, \"5\": 2, \"6\": 1}, \"2\": {\"2\": 11, \"51\": 1}, \"55\": {\"32\": 5, \"55\": 6, \"2\": 1}, \"32\": {\"32\": 8, \"2\": 2}, \"9\": {\"9\": 11, \"20\": 1}, \"27\": {\"27\": 7, \"9\": 1, \"33\": 1, \"29\": 2, \"32\": 1}, \"52\": {\"52\": 8, \"30\": 4}, \"40\": {\"52\": 3, \"47\": 1, \"22\": 1, \"0\": 1, \"56\": 1, \"4\": 2, \"40\": 1}, \"23\": {\"23\": 8, \"34\": 1, \"10\": 1, \"54\": 1, \"53\": 1}, \"17\": {\"17\": 9, \"31\": 1, \"42\": 1, \"54\": 1}, \"10\": {\"10\": 12}, \"26\": {\"26\": 10, \"11\": 2}, \"11\": {\"11\": 6, \"26\": 2, \"34\": 1, \"49\": 1}, \"53\": {\"34\": 1, \"53\": 6, \"49\": 2, \"28\": 1}, \"16\": {\"16\": 11, \"11\": 1}, \"25\": {\"25\": 9, \"18\": 1}, \"21\": {\"21\": 8}, \"54\": {\"54\": 9, \"53\": 1}, \"19\": {\"19\": 7, \"53\": 1}, \"29\": {\"29\": 4, \"48\": 1, \"4\": 1, \"20\": 1, \"57\": 1}}, \"W_A_4\": {\"113\": {\"8\": 1, \"113\": 9, \"7\": 1, \"62\": 1}, \"85\": {\"35\": 2, \"25\": 1, \"85\": 3, \"114\": 1, \"5\": 1, \"52\": 1, \"99\": 1, \"54\": 1, \"47\": 1}, \"34\": {\"35\": 1, \"51\": 1, \"34\": 7, \"71\": 2, \"18\": 1}, \"55\": {\"55\": 7, \"112\": 1, \"91\": 1, \"111\": 1, \"6\": 1, \"120\": 1}, \"42\": {\"42\": 3, \"61\": 2, \"50\": 1, \"57\": 1, \"29\": 1, \"77\": 1, \"2\": 1, \"119\": 1, \"120\": 1}, \"13\": {\"13\": 8, \"50\": 1, \"112\": 1, \"79\": 1, \"67\": 1}, \"69\": {\"72\": 1, \"69\": 11}, \"35\": {\"35\": 9, \"89\": 2, \"112\": 1}, \"83\": {\"34\": 2, \"53\": 1, \"18\": 2, \"83\": 4, \"21\": 1, \"103\": 1, \"30\": 1}, \"51\": {\"51\": 6, \"78\": 1, \"10\": 2, \"96\": 1, \"109\": 1, \"49\": 1}, \"72\": {\"72\": 5, \"8\": 1, \"16\": 1, \"127\": 1, \"69\": 1, \"54\": 1, \"1\": 2}, \"24\": {\"21\": 1, \"24\": 8, \"88\": 1, \"97\": 2}, \"53\": {\"34\": 1, \"51\": 1, \"53\": 4, \"100\": 1, \"3\": 2, \"75\": 1, \"25\": 1, \"72\": 1}, \"8\": {\"8\": 8, \"0\": 2, \"101\": 1, \"15\": 1}, \"49\": {\"49\": 4, \"51\": 1, \"1\": 2, \"96\": 1, \"72\": 3, \"23\": 1}, \"21\": {\"21\": 12}, \"18\": {\"18\": 12}, \"114\": {\"114\": 10, \"95\": 1, \"69\": 1}, \"58\": {\"83\": 1, \"56\": 1, \"81\": 1, \"58\": 4, \"35\": 1, \"55\": 1, \"20\": 1, \"68\": 1, \"91\": 1}, \"56\": {\"56\": 7, \"20\": 2, \"103\": 1, \"52\": 1, \"92\": 1}, \"80\": {\"80\": 12}, \"11\": {\"11\": 5, \"15\": 2, \"7\": 1, \"12\": 1, \"60\": 1, \"118\": 1, \"101\": 1}, \"15\": {\"15\": 10, \"30\": 1, \"87\": 1}, \"50\": {\"111\": 1, \"68\": 1, \"62\": 1, \"57\": 1, \"50\": 3, \"31\": 1, \"82\": 1, \"116\": 1, \"51\": 1, \"77\": 1}, \"111\": {\"111\": 8, \"50\": 1, \"68\": 1, \"82\": 1, \"55\": 1}, \"108\": {\"108\": 4, \"18\": 1, \"109\": 1, \"88\": 4, \"30\": 2}, \"104\": {\"104\": 2, \"68\": 2, \"44\": 1, \"17\": 2, \"86\": 1, \"48\": 2, \"67\": 2}, \"32\": {\"56\": 1, \"108\": 1, \"32\": 5, \"82\": 1}, \"68\": {\"111\": 2, \"68\": 5, \"50\": 1, \"112\": 1, \"73\": 2, \"29\": 1}, \"73\": {\"73\": 3, \"83\": 1, \"111\": 1, \"68\": 2, \"100\": 1, \"82\": 1, \"33\": 1}, \"92\": {\"21\": 1, \"92\": 5, \"31\": 2, \"91\": 1, \"29\": 1, \"61\": 1, \"107\": 1}, \"57\": {\"21\": 1, \"57\": 8, \"28\": 1, \"61\": 2}, \"40\": {\"40\": 7, \"71\": 1, \"1\": 1, \"105\": 1, \"75\": 2}, \"71\": {\"71\": 12}, \"121\": {\"111\": 1, \"121\": 7, \"61\": 1, \"76\": 1, \"67\": 1, \"88\": 1}, \"62\": {\"62\": 4, \"7\": 2, \"105\": 3, \"24\": 1, \"114\": 1, \"78\": 1}, \"39\": {\"21\": 3, \"39\": 3, \"43\": 1, \"36\": 2, \"10\": 1, \"94\": 1, \"30\": 1}, \"107\": {\"107\": 7, \"9\": 1, \"40\": 1, \"33\": 1}, \"109\": {\"0\": 1, \"109\": 6, \"36\": 1, \"94\": 1, \"126\": 1, \"78\": 2}, \"103\": {\"109\": 2, \"103\": 2, \"89\": 1, \"99\": 1, \"29\": 1, \"50\": 1, \"128\": 2, \"56\": 1, \"82\": 1}, \"101\": {\"101\": 6, \"23\": 1, \"16\": 1, \"118\": 1, \"72\": 1, \"7\": 2}, \"23\": {\"108\": 1, \"19\": 1, \"87\": 1, \"112\": 1, \"23\": 1, \"101\": 1, \"51\": 2, \"118\": 1, \"96\": 1, \"7\": 1, \"97\": 1}, \"60\": {\"23\": 1, \"60\": 9, \"127\": 2}, \"123\": {\"86\": 3, \"79\": 1, \"123\": 7, \"117\": 1}, \"19\": {\"19\": 6, \"103\": 1, \"73\": 1, \"46\": 1, \"31\": 1, \"38\": 1, \"83\": 1}, \"0\": {\"8\": 3, \"0\": 5, \"30\": 1, \"122\": 1, \"109\": 1, \"93\": 1}, \"31\": {\"19\": 1, \"61\": 1, \"31\": 4, \"29\": 1, \"64\": 1, \"35\": 1, \"46\": 2, \"68\": 1}, \"81\": {\"18\": 1, \"81\": 9, \"33\": 1, \"41\": 1}, \"61\": {\"31\": 2, \"61\": 4, \"44\": 1, \"56\": 1, \"121\": 1, \"46\": 1, \"57\": 2}, \"86\": {\"31\": 1, \"123\": 1, \"86\": 6, \"2\": 2, \"52\": 1, \"66\": 1}, \"94\": {\"94\": 9, \"27\": 1, \"109\": 1, \"30\": 1}, \"99\": {\"99\": 7, \"47\": 1, \"85\": 2, \"114\": 1, \"83\": 1}, \"47\": {\"112\": 1, \"47\": 9, \"20\": 1, \"99\": 1}, \"112\": {\"112\": 6, \"77\": 1, \"109\": 1, \"55\": 1, \"128\": 2, \"10\": 1}, \"87\": {\"87\": 8, \"43\": 2, \"15\": 1, \"8\": 1}, \"76\": {\"76\": 9, \"100\": 1, \"81\": 1, \"114\": 1}, \"36\": {\"94\": 2, \"36\": 7, \"10\": 1, \"78\": 1, \"97\": 1}, \"102\": {\"102\": 10, \"67\": 1, \"63\": 1}, \"44\": {\"16\": 2, \"99\": 2, \"105\": 2, \"44\": 2, \"75\": 1, \"61\": 1, \"53\": 2}, \"16\": {\"16\": 5, \"99\": 1, \"107\": 1, \"83\": 1, \"106\": 2, \"72\": 1, \"53\": 1}, \"33\": {\"33\": 8, \"99\": 2, \"58\": 2}, \"9\": {\"47\": 1, \"9\": 5, \"1\": 1, \"26\": 1, \"35\": 1, \"103\": 1, \"5\": 1, \"75\": 1}, \"30\": {\"88\": 1, \"30\": 4, \"126\": 2, \"10\": 1, \"94\": 1, \"21\": 1, \"39\": 1, \"15\": 1}, \"4\": {\"4\": 10, \"37\": 1, \"115\": 1}, \"88\": {\"88\": 12}, \"20\": {\"20\": 7, \"25\": 2, \"9\": 1, \"34\": 1, \"98\": 1}, \"3\": {\"3\": 6, \"53\": 1, \"71\": 1, \"5\": 1, \"21\": 1, \"49\": 2}, \"66\": {\"88\": 1, \"66\": 7, \"55\": 1, \"124\": 1, \"38\": 1, \"24\": 1}, \"1\": {\"1\": 7, \"49\": 1, \"118\": 1, \"14\": 2, \"108\": 1}, \"25\": {\"25\": 10, \"20\": 1, \"74\": 1}, \"77\": {\"77\": 12}, \"79\": {\"123\": 2, \"79\": 9, \"65\": 1}, \"7\": {\"7\": 10, \"11\": 2}, \"100\": {\"77\": 1, \"20\": 1, \"76\": 1, \"99\": 1, \"89\": 1, \"95\": 1, \"46\": 1, \"66\": 1, \"44\": 1, \"100\": 1, \"83\": 1, \"47\": 1}, \"126\": {\"126\": 10, \"109\": 1, \"21\": 1}, \"54\": {\"54\": 9, \"84\": 1, \"3\": 2}, \"82\": {\"76\": 1, \"19\": 2, \"32\": 1, \"96\": 1, \"82\": 2, \"116\": 1, \"98\": 1, \"126\": 1, \"29\": 1, \"68\": 1}, \"97\": {\"24\": 1, \"97\": 11}, \"105\": {\"127\": 1, \"69\": 1, \"105\": 8, \"81\": 1, \"15\": 1}, \"127\": {\"127\": 11, \"26\": 1}, \"89\": {\"89\": 2, \"35\": 2, \"58\": 1, \"41\": 1, \"100\": 1, \"94\": 1, \"74\": 2, \"44\": 1, \"46\": 1}, \"98\": {\"98\": 9, \"47\": 1}, \"46\": {\"58\": 1, \"44\": 1, \"95\": 2, \"114\": 1, \"129\": 1, \"38\": 1, \"66\": 1, \"49\": 2, \"89\": 2}, \"116\": {\"90\": 1, \"37\": 1, \"45\": 2, \"119\": 1, \"17\": 2, \"116\": 3, \"124\": 1, \"42\": 1}, \"37\": {\"37\": 11, \"17\": 1}, \"17\": {\"17\": 6, \"4\": 2, \"65\": 1, \"48\": 1, \"123\": 2}, \"90\": {\"58\": 1, \"90\": 8, \"120\": 1, \"6\": 1, \"41\": 1}, \"52\": {\"46\": 1, \"52\": 4, \"128\": 1, \"25\": 1, \"22\": 1, \"9\": 1, \"85\": 1, \"98\": 1, \"11\": 1}, \"6\": {\"6\": 10, \"77\": 1, \"100\": 1}, \"67\": {\"67\": 7, \"90\": 1, \"6\": 1, \"117\": 2, \"73\": 1}, \"5\": {\"5\": 11, \"96\": 1}, \"125\": {\"125\": 9, \"102\": 1, \"119\": 2}, \"128\": {\"128\": 4, \"52\": 2, \"9\": 1, \"6\": 1, \"83\": 1, \"77\": 1, \"100\": 1, \"58\": 1}, \"129\": {\"121\": 1, \"35\": 1, \"120\": 1, \"129\": 7, \"63\": 1, \"74\": 1}, \"75\": {\"3\": 1, \"75\": 5, \"25\": 1, \"51\": 1, \"9\": 2, \"23\": 1, \"5\": 1}, \"84\": {\"3\": 1, \"84\": 8, \"18\": 2, \"10\": 1}, \"74\": {\"128\": 1, \"74\": 10, \"46\": 1}, \"22\": {\"90\": 1, \"22\": 4, \"37\": 1, \"120\": 3, \"66\": 2, \"117\": 1}, \"10\": {\"10\": 10, \"70\": 1, \"21\": 1}, \"96\": {\"49\": 1, \"96\": 1, \"107\": 1, \"16\": 1, \"110\": 1, \"38\": 1, \"71\": 1, \"127\": 1, \"30\": 1, \"92\": 1, \"23\": 1, \"5\": 1}, \"29\": {\"29\": 10, \"112\": 1, \"31\": 1}, \"28\": {\"117\": 1, \"28\": 5, \"45\": 2, \"73\": 1, \"42\": 1, \"6\": 1, \"58\": 1}, \"45\": {\"117\": 1, \"57\": 1, \"67\": 2, \"45\": 4, \"116\": 1, \"46\": 1, \"124\": 2}, \"117\": {\"116\": 1, \"63\": 1, \"117\": 7, \"17\": 1, \"129\": 1, \"22\": 1}, \"63\": {\"63\": 6, \"92\": 2, \"65\": 1, \"66\": 1, \"125\": 1, \"121\": 1}, \"41\": {\"41\": 9, \"22\": 1, \"55\": 1, \"28\": 1}, \"12\": {\"12\": 11, \"106\": 1}, \"95\": {\"95\": 7, \"40\": 1, \"114\": 2, \"83\": 2}, \"119\": {\"119\": 10, \"59\": 1, \"17\": 1}, \"27\": {\"94\": 1, \"27\": 4, \"39\": 1, \"70\": 1, \"36\": 1}, \"2\": {\"2\": 7, \"45\": 1, \"67\": 1, \"92\": 1, \"120\": 1, \"17\": 1}, \"122\": {\"101\": 1, \"122\": 8, \"51\": 2, \"0\": 1}, \"26\": {\"26\": 5, \"105\": 1, \"14\": 1, \"51\": 1, \"49\": 1, \"84\": 1, \"1\": 2}, \"78\": {\"78\": 12}, \"93\": {\"93\": 11, \"113\": 1}, \"118\": {\"118\": 9, \"87\": 2, \"110\": 1}, \"124\": {\"102\": 1, \"48\": 1, \"120\": 1, \"124\": 6, \"92\": 1, \"64\": 1, \"116\": 1}, \"14\": {\"14\": 10, \"85\": 1, \"106\": 1}, \"48\": {\"48\": 11, \"67\": 1}, \"65\": {\"65\": 10, \"64\": 2}, \"120\": {\"120\": 10, \"28\": 1, \"52\": 1}, \"43\": {\"43\": 6, \"27\": 1, \"126\": 1, \"109\": 1, \"39\": 1, \"36\": 2}, \"106\": {\"78\": 1, \"106\": 9, \"12\": 1, \"88\": 1}, \"110\": {\"118\": 1, \"110\": 4, \"43\": 1, \"5\": 1, \"93\": 1, \"0\": 3, \"8\": 1}, \"64\": {\"48\": 2, \"117\": 1, \"66\": 1, \"92\": 2, \"64\": 3, \"115\": 1, \"37\": 2}, \"38\": {\"38\": 5, \"91\": 2, \"19\": 1, \"128\": 2}, \"115\": {\"115\": 7, \"64\": 1, \"102\": 2}, \"70\": {\"10\": 1, \"70\": 7, \"21\": 2}, \"59\": {\"124\": 1, \"59\": 6, \"45\": 1, \"129\": 1, \"117\": 1}, \"91\": {\"112\": 1, \"66\": 1, \"120\": 1, \"90\": 1, \"45\": 1, \"128\": 1, \"30\": 1, \"91\": 3}}, \"W_A_2\": {\"115\": {\"115\": 7, \"125\": 1, \"48\": 1, \"102\": 2, \"24\": 1}, \"34\": {\"33\": 2, \"34\": 3, \"82\": 3, \"99\": 1, \"54\": 1}, \"97\": {\"7\": 1, \"97\": 6, \"122\": 3, \"15\": 1, \"8\": 1}, \"100\": {\"100\": 5, \"31\": 1, \"87\": 1, \"52\": 1, \"29\": 1, \"98\": 1, \"92\": 1, \"1\": 1}, \"129\": {\"92\": 1, \"129\": 4, \"119\": 2, \"111\": 2, \"91\": 1}, \"90\": {\"90\": 7, \"66\": 1, \"56\": 1, \"121\": 1, \"19\": 1, \"20\": 1}, \"125\": {\"125\": 8, \"86\": 3, \"2\": 1}, \"7\": {\"7\": 12}, \"92\": {\"92\": 5, \"99\": 2, \"103\": 1, \"89\": 1, \"29\": 1, \"124\": 1, \"19\": 1}, \"114\": {\"114\": 7, \"97\": 1, \"24\": 1, \"126\": 1, \"1\": 2}, \"80\": {\"80\": 10, \"37\": 1, \"2\": 1}, \"16\": {\"16\": 6, \"71\": 1, \"94\": 1, \"101\": 1, \"93\": 1, \"35\": 1, \"3\": 1}, \"69\": {\"114\": 1, \"97\": 1, \"51\": 2, \"69\": 5, \"33\": 2, \"26\": 1}, \"102\": {\"102\": 6, \"17\": 3, \"65\": 2, \"37\": 1}, \"33\": {\"33\": 12}, \"17\": {\"80\": 1, \"102\": 1, \"37\": 1, \"21\": 1, \"17\": 3, \"10\": 1, \"115\": 1, \"22\": 1, \"117\": 1, \"8\": 1}, \"61\": {\"22\": 1, \"109\": 1, \"58\": 1, \"61\": 5, \"17\": 1, \"8\": 1, \"90\": 1, \"104\": 1}, \"48\": {\"22\": 1, \"86\": 1, \"48\": 8, \"117\": 2}, \"91\": {\"61\": 2, \"91\": 5, \"28\": 1, \"17\": 1, \"57\": 1, \"66\": 2}, \"84\": {\"84\": 7, \"26\": 4, \"62\": 1}, \"50\": {\"50\": 9, \"88\": 1, \"67\": 1, \"24\": 1}, \"2\": {\"2\": 9, \"48\": 1, \"112\": 1, \"99\": 1}, \"46\": {\"2\": 1, \"46\": 10, \"61\": 1}, \"56\": {\"91\": 2, \"56\": 5, \"53\": 2, \"100\": 1, \"47\": 2}, \"86\": {\"86\": 9, \"2\": 1, \"125\": 1, \"37\": 1}, \"11\": {\"11\": 7, \"108\": 1, \"109\": 2, \"126\": 1, \"94\": 1}, \"118\": {\"118\": 6, \"7\": 2, \"87\": 1, \"122\": 2, \"105\": 1}, \"79\": {\"86\": 1, \"79\": 10, \"80\": 1}, \"22\": {\"56\": 1, \"22\": 3, \"70\": 1, \"6\": 1, \"92\": 1, \"124\": 1, \"80\": 2, \"116\": 2}, \"109\": {\"109\": 9, \"11\": 1, \"78\": 2}, \"62\": {\"84\": 2, \"62\": 6, \"26\": 1, \"21\": 1, \"40\": 2}, \"8\": {\"8\": 12}, \"24\": {\"24\": 8, \"27\": 1, \"6\": 1, \"70\": 2}, \"10\": {\"24\": 2, \"10\": 8, \"78\": 1, \"27\": 1}, \"87\": {\"87\": 9, \"10\": 1, \"126\": 1, \"43\": 1}, \"4\": {\"4\": 10, \"79\": 1, \"80\": 1}, \"105\": {\"105\": 8, \"106\": 2, \"101\": 2}, \"20\": {\"20\": 6, \"49\": 1, \"32\": 1, \"38\": 1, \"58\": 1, \"33\": 1, \"74\": 1}, \"28\": {\"28\": 8, \"77\": 1, \"29\": 1, \"121\": 1, \"41\": 1}, \"27\": {\"24\": 2, \"27\": 6, \"88\": 2, \"36\": 1, \"108\": 1}, \"89\": {\"31\": 1, \"28\": 1, \"89\": 5, \"90\": 1, \"19\": 1, \"112\": 1, \"32\": 1, \"129\": 1}, \"36\": {\"36\": 10, \"24\": 1, \"94\": 1}, \"45\": {\"91\": 1, \"45\": 6, \"6\": 1, \"104\": 1, \"103\": 1, \"13\": 1, \"77\": 1}, \"31\": {\"31\": 8, \"92\": 1, \"98\": 1, \"67\": 1, \"46\": 1}, \"110\": {\"110\": 6, \"106\": 3, \"113\": 1, \"126\": 1, \"26\": 1}, \"3\": {\"3\": 4, \"93\": 2, \"114\": 1, \"1\": 1}, \"107\": {\"82\": 2, \"107\": 6, \"51\": 1, \"40\": 1, \"14\": 2}, \"117\": {\"117\": 12}, \"21\": {\"21\": 12}, \"66\": {\"66\": 7, \"28\": 1, \"10\": 1, \"121\": 1, \"124\": 1, \"46\": 1}, \"82\": {\"81\": 2, \"82\": 5, \"52\": 1}, \"99\": {\"90\": 2, \"99\": 4, \"44\": 1, \"20\": 1, \"47\": 1, \"10\": 1, \"76\": 2}, \"81\": {\"81\": 8, \"82\": 1, \"19\": 2, \"44\": 1}, \"42\": {\"42\": 4, \"117\": 1, \"119\": 1, \"25\": 1, \"116\": 1, \"125\": 1, \"53\": 1, \"37\": 1, \"27\": 1}, \"26\": {\"26\": 6, \"84\": 3, \"14\": 2, \"71\": 1}, \"64\": {\"28\": 4, \"103\": 1, \"50\": 1, \"120\": 1, \"64\": 5}, \"74\": {\"107\": 1, \"74\": 10, \"114\": 1}, \"119\": {\"119\": 8, \"116\": 2, \"91\": 1, \"124\": 1}, \"71\": {\"26\": 2, \"71\": 9, \"49\": 1}, \"93\": {\"93\": 8, \"7\": 1, \"101\": 3}, \"18\": {\"18\": 7, \"1\": 1, \"33\": 2, \"93\": 1, \"78\": 1}, \"30\": {\"30\": 6, \"94\": 1, \"126\": 2, \"39\": 1, \"11\": 1, \"88\": 1}, \"96\": {\"18\": 1, \"96\": 9, \"60\": 2}, \"25\": {\"42\": 1, \"18\": 1, \"38\": 1, \"25\": 5, \"55\": 1, \"29\": 1, \"112\": 1, \"52\": 1}, \"88\": {\"88\": 8, \"78\": 2}, \"103\": {\"103\": 4, \"67\": 1, \"38\": 1, \"5\": 1, \"92\": 2, \"73\": 1, \"42\": 1, \"91\": 1}, \"116\": {\"119\": 2, \"42\": 1, \"116\": 5, \"117\": 1, \"86\": 1, \"65\": 1, \"111\": 1}, \"67\": {\"50\": 1, \"86\": 1, \"67\": 3, \"43\": 1, \"5\": 1, \"66\": 1, \"109\": 1, \"37\": 3}, \"1\": {\"1\": 12}, \"101\": {\"101\": 11, \"106\": 1}, \"23\": {\"127\": 1, \"97\": 2, \"96\": 2, \"93\": 2, \"84\": 1, \"12\": 2, \"23\": 1, \"15\": 1}, \"57\": {\"124\": 1, \"57\": 7, \"37\": 1, \"2\": 1, \"28\": 1, \"120\": 1}, \"83\": {\"83\": 6, \"123\": 1, \"32\": 1, \"112\": 1, \"72\": 1, \"61\": 1, \"90\": 1}, \"122\": {\"122\": 6, \"97\": 1, \"0\": 2, \"43\": 2, \"69\": 1}, \"127\": {\"127\": 12}, \"108\": {\"108\": 7, \"21\": 2, \"70\": 1, \"109\": 1, \"27\": 1}, \"124\": {\"124\": 7, \"121\": 1, \"123\": 1, \"22\": 1, \"117\": 1, \"86\": 1}, \"112\": {\"83\": 2, \"72\": 2, \"53\": 3, \"112\": 3, \"99\": 2}, \"70\": {\"70\": 7, \"21\": 5}, \"14\": {\"34\": 1, \"33\": 2, \"62\": 2, \"14\": 5, \"11\": 1, \"100\": 1}, \"53\": {\"34\": 2, \"53\": 8, \"76\": 1, \"42\": 1}, \"121\": {\"66\": 1, \"57\": 1, \"121\": 8, \"98\": 1, \"28\": 1}, \"40\": {\"40\": 9, \"88\": 1, \"16\": 1, \"35\": 1}, \"15\": {\"97\": 1, \"15\": 10, \"122\": 1}, \"37\": {\"37\": 9, \"57\": 1, \"6\": 1, \"42\": 1}, \"73\": {\"73\": 5, \"58\": 2, \"82\": 2, \"103\": 1, \"28\": 2}, \"52\": {\"52\": 8, \"10\": 1, \"32\": 1, \"78\": 1, \"46\": 1}, \"123\": {\"123\": 8, \"17\": 1, \"63\": 2, \"61\": 1}, \"44\": {\"44\": 11, \"51\": 1}, \"111\": {\"111\": 12}, \"43\": {\"43\": 3, \"39\": 1, \"23\": 1, \"88\": 1, \"126\": 1, \"36\": 1, \"10\": 2, \"94\": 2}, \"19\": {\"19\": 5, \"38\": 3, \"9\": 1, \"74\": 2, \"100\": 1}, \"38\": {\"44\": 2, \"78\": 1, \"38\": 1, \"20\": 2, \"83\": 1, \"112\": 1, \"56\": 1, \"47\": 1, \"91\": 1, \"31\": 1}, \"39\": {\"108\": 1, \"70\": 1, \"39\": 4, \"36\": 1, \"43\": 1, \"88\": 1, \"30\": 1, \"78\": 2}, \"59\": {\"89\": 1, \"59\": 7, \"85\": 1, \"121\": 2, \"129\": 1}, \"6\": {\"6\": 6, \"52\": 1, \"73\": 1, \"25\": 1, \"112\": 1, \"67\": 1, \"100\": 1}, \"47\": {\"6\": 1, \"47\": 6, \"123\": 1, \"83\": 1, \"36\": 1, \"99\": 1, \"56\": 1}, \"58\": {\"47\": 2, \"58\": 6, \"128\": 1, \"54\": 1, \"1\": 1, \"120\": 1}, \"51\": {\"51\": 1, \"62\": 1, \"98\": 1, \"69\": 1, \"87\": 1, \"116\": 1, \"9\": 2, \"54\": 1, \"49\": 1, \"114\": 1, \"127\": 1}, \"60\": {\"60\": 7, \"110\": 2, \"84\": 1, \"51\": 1, \"105\": 1}, \"12\": {\"12\": 8, \"106\": 1, \"60\": 1, \"7\": 2}, \"98\": {\"98\": 11, \"112\": 1}, \"0\": {\"12\": 1, \"0\": 10, \"122\": 1}, \"128\": {\"128\": 5, \"51\": 1, \"74\": 1, \"55\": 1, \"40\": 1, \"95\": 2, \"64\": 1}, \"29\": {\"128\": 1, \"36\": 1, \"77\": 3, \"29\": 3, \"46\": 1, \"109\": 1, \"104\": 1, \"75\": 1}, \"13\": {\"13\": 9, \"79\": 2, \"80\": 1}, \"72\": {\"114\": 1, \"24\": 1, \"72\": 2, \"49\": 1, \"9\": 1, \"44\": 1, \"107\": 2, \"10\": 1, \"18\": 1, \"78\": 1}, \"104\": {\"104\": 9, \"45\": 2, \"5\": 1}, \"5\": {\"5\": 11, \"119\": 1}, \"49\": {\"49\": 6, \"72\": 1, \"40\": 1, \"35\": 1, \"75\": 2, \"95\": 1}, \"77\": {\"77\": 4, \"29\": 3, \"120\": 2, \"50\": 1, \"25\": 2}, \"106\": {\"106\": 8, \"110\": 1, \"60\": 1, \"113\": 1, \"105\": 1}, \"120\": {\"120\": 7, \"77\": 2, \"76\": 1, \"41\": 1, \"91\": 1}, \"41\": {\"41\": 4, \"120\": 1, \"63\": 1, \"85\": 1, \"121\": 2, \"56\": 2, \"59\": 1}, \"55\": {\"55\": 11, \"68\": 1}, \"113\": {\"113\": 10, \"110\": 2}, \"68\": {\"68\": 5, \"25\": 1, \"33\": 1, \"55\": 1, \"29\": 2, \"50\": 1, \"81\": 1}, \"9\": {\"113\": 1, \"9\": 9, \"14\": 2}, \"95\": {\"1\": 1, \"68\": 1, \"12\": 1, \"96\": 1, \"95\": 3, \"18\": 2, \"51\": 1, \"114\": 2}, \"63\": {\"65\": 3, \"67\": 1, \"104\": 2, \"63\": 2, \"124\": 1, \"37\": 2, \"48\": 1}, \"85\": {\"111\": 2, \"46\": 3, \"68\": 2, \"85\": 2, \"99\": 1, \"52\": 1, \"73\": 1}, \"65\": {\"123\": 1, \"43\": 1, \"124\": 1, \"63\": 2, \"65\": 4, \"67\": 1, \"78\": 1, \"116\": 1}, \"126\": {\"88\": 1, \"39\": 1, \"126\": 7, \"108\": 2, \"21\": 1}, \"78\": {\"78\": 8, \"126\": 2, \"88\": 2}, \"32\": {\"54\": 1, \"112\": 1, \"32\": 7, \"55\": 1, \"74\": 1, \"53\": 1}, \"35\": {\"35\": 8, \"114\": 2, \"62\": 1, \"23\": 1}, \"54\": {\"112\": 1, \"54\": 7, \"55\": 1, \"58\": 1, \"72\": 1, \"34\": 1}, \"76\": {\"120\": 1, \"81\": 1, \"76\": 6, \"42\": 1, \"124\": 1}, \"94\": {\"94\": 6, \"30\": 3, \"78\": 1}, \"75\": {\"75\": 3, \"62\": 2, \"100\": 1}}, \"W_A_1\": {\"0\": {\"8\": 2, \"0\": 9, \"96\": 1}, \"93\": {\"70\": 1, \"93\": 6, \"39\": 1, \"94\": 2, \"15\": 1, \"43\": 1}, \"18\": {\"60\": 1, \"18\": 11}, \"111\": {\"111\": 9, \"54\": 1, \"5\": 1, \"46\": 1}, \"108\": {\"88\": 3, \"108\": 5, \"109\": 2, \"78\": 1, \"30\": 1}, \"8\": {\"8\": 7, \"122\": 2, \"78\": 1, \"7\": 1, \"12\": 1}, \"64\": {\"64\": 8, \"59\": 1, \"61\": 1, \"41\": 1, \"66\": 1}, \"83\": {\"85\": 1, \"64\": 2, \"38\": 1, \"83\": 4, \"90\": 2, \"41\": 2}, \"32\": {\"32\": 10, \"85\": 1, \"33\": 1}, \"69\": {\"18\": 1, \"69\": 6, \"84\": 1, \"105\": 1, \"71\": 1}, \"7\": {\"8\": 2, \"7\": 6, \"96\": 2}, \"70\": {\"70\": 9, \"109\": 1, \"21\": 2}, \"88\": {\"108\": 2, \"70\": 1, \"27\": 1, \"88\": 5, \"97\": 1, \"10\": 1, \"78\": 1}, \"107\": {\"107\": 8, \"40\": 2}, \"60\": {\"60\": 7, \"84\": 2, \"31\": 2, \"9\": 1}, \"85\": {\"85\": 7, \"32\": 2, \"128\": 2, \"75\": 1}, \"91\": {\"91\": 8, \"103\": 1, \"76\": 1, \"105\": 1, \"111\": 1}, \"109\": {\"109\": 11, \"78\": 1}, \"105\": {\"105\": 4, \"40\": 1, \"101\": 1, \"16\": 2, \"106\": 1, \"14\": 1, \"62\": 2}, \"129\": {\"5\": 1, \"129\": 4, \"45\": 2, \"119\": 1, \"91\": 1, \"120\": 2, \"13\": 1}, \"92\": {\"92\": 12}, \"9\": {\"49\": 1, \"9\": 4, \"26\": 2, \"62\": 1, \"40\": 2, \"44\": 1, \"23\": 1}, \"103\": {\"103\": 6, \"92\": 4, \"82\": 1, \"52\": 1}, \"14\": {\"14\": 9, \"88\": 1, \"10\": 1, \"1\": 1}, \"115\": {\"115\": 5, \"5\": 1, \"124\": 2, \"65\": 2, \"125\": 1, \"91\": 1}, \"5\": {\"5\": 10, \"15\": 1, \"24\": 1}, \"84\": {\"84\": 12}, \"49\": {\"49\": 5, \"34\": 1, \"33\": 1, \"100\": 1, \"40\": 1, \"9\": 3}, \"87\": {\"87\": 8, \"122\": 1, \"21\": 1, \"39\": 1, \"96\": 1}, \"42\": {\"42\": 9, \"38\": 1, \"56\": 1, \"120\": 1}, \"2\": {\"2\": 7, \"86\": 1, \"46\": 1, \"65\": 1, \"67\": 1, \"102\": 1}, \"20\": {\"20\": 8, \"85\": 1, \"73\": 1, \"74\": 1, \"81\": 1}, \"75\": {\"75\": 7, \"53\": 1, \"1\": 1, \"9\": 2, \"40\": 1}, \"59\": {\"42\": 1, \"59\": 5, \"104\": 2, \"83\": 1, \"54\": 1}, \"22\": {\"10\": 1, \"22\": 9, \"90\": 1, \"121\": 1}, \"38\": {\"42\": 1, \"38\": 5, \"65\": 1, \"121\": 1, \"90\": 2, \"37\": 2}, \"63\": {\"63\": 10, \"57\": 1, \"116\": 1}, \"101\": {\"101\": 11, \"105\": 1}, \"15\": {\"78\": 1, \"15\": 10, \"93\": 1}, \"53\": {\"53\": 10, \"85\": 1, \"75\": 1}, \"110\": {\"110\": 12}, \"78\": {\"10\": 2, \"78\": 9, \"88\": 1}, \"10\": {\"78\": 1, \"10\": 10, \"88\": 1}, \"55\": {\"55\": 12}, \"94\": {\"39\": 2, \"94\": 6, \"27\": 2, \"123\": 1, \"11\": 1}, \"39\": {\"30\": 1, \"93\": 2, \"39\": 5, \"24\": 1, \"87\": 2, \"88\": 1}, \"58\": {\"68\": 1, \"37\": 1, \"19\": 1, \"54\": 1, \"58\": 2, \"25\": 1, \"59\": 1, \"104\": 1, \"98\": 1, \"42\": 2}, \"40\": {\"114\": 1, \"40\": 10, \"72\": 1}, \"46\": {\"58\": 1, \"57\": 1, \"86\": 1, \"54\": 1, \"46\": 5, \"124\": 1, \"19\": 2}, \"35\": {\"35\": 9, \"114\": 1, \"40\": 1, \"113\": 1}, \"68\": {\"68\": 11, \"6\": 1}, \"114\": {\"114\": 8, \"89\": 1, \"35\": 1, \"81\": 1, \"33\": 1}, \"56\": {\"56\": 10, \"9\": 1, \"92\": 1}, \"37\": {\"58\": 1, \"46\": 1, \"37\": 8, \"38\": 1, \"55\": 1}, \"57\": {\"57\": 9, \"119\": 1, \"65\": 2}, \"43\": {\"43\": 6, \"93\": 1, \"97\": 1}, \"82\": {\"114\": 2, \"82\": 8, \"25\": 1, \"98\": 1}, \"30\": {\"30\": 5, \"10\": 1, \"27\": 1, \"108\": 2, \"93\": 1, \"23\": 2}, \"31\": {\"31\": 9, \"75\": 1, \"1\": 2}, \"12\": {\"12\": 11, \"122\": 1}, \"89\": {\"31\": 1, \"89\": 9, \"19\": 1, \"29\": 1}, \"21\": {\"21\": 8, \"126\": 2, \"10\": 2}, \"116\": {\"116\": 9, \"102\": 1, \"25\": 1, \"59\": 1}, \"34\": {\"72\": 2, \"34\": 3, \"53\": 1, \"49\": 1, \"47\": 1, \"56\": 2, \"89\": 1, \"44\": 1}, \"73\": {\"73\": 7, \"26\": 1, \"20\": 1, \"33\": 1}, \"102\": {\"102\": 9, \"65\": 2, \"122\": 1}, \"26\": {\"26\": 10, \"113\": 1, \"127\": 1}, \"121\": {\"38\": 1, \"121\": 10, \"17\": 1}, \"72\": {\"31\": 1, \"26\": 1, \"3\": 1, \"72\": 6, \"113\": 1, \"32\": 1, \"75\": 1}, \"61\": {\"86\": 1, \"61\": 8, \"103\": 1, \"77\": 2}, \"90\": {\"28\": 2, \"83\": 1, \"98\": 1, \"90\": 6, \"95\": 1, \"112\": 1}, \"86\": {\"86\": 7, \"2\": 1, \"125\": 1, \"112\": 1, \"67\": 1, \"25\": 1}, \"23\": {\"23\": 7, \"94\": 1, \"8\": 2, \"43\": 1, \"113\": 1}, \"28\": {\"28\": 7, \"86\": 1, \"58\": 1, \"42\": 1, \"37\": 1, \"124\": 1}, \"54\": {\"83\": 2, \"54\": 3, \"76\": 1, \"116\": 1, \"99\": 1, \"79\": 1, \"74\": 1, \"29\": 1, \"89\": 1}, \"29\": {\"29\": 11, \"53\": 1}, \"66\": {\"90\": 1, \"83\": 1, \"77\": 2, \"66\": 3, \"61\": 1, \"5\": 1, \"2\": 1}, \"127\": {\"127\": 12}, \"24\": {\"24\": 12}, \"47\": {\"47\": 6, \"33\": 2, \"100\": 1, \"92\": 1, \"19\": 1, \"107\": 1}, \"19\": {\"81\": 2, \"107\": 1, \"19\": 5, \"100\": 1, \"73\": 1, \"68\": 1, \"47\": 1}, \"106\": {\"106\": 6, \"118\": 3, \"113\": 2, \"110\": 1}, \"45\": {\"116\": 1, \"45\": 3, \"126\": 1, \"103\": 1, \"79\": 1, \"65\": 1, \"2\": 1, \"122\": 1, \"17\": 2}, \"117\": {\"117\": 11, \"67\": 1}, \"25\": {\"6\": 2, \"19\": 1, \"25\": 6, \"56\": 2, \"2\": 1}, \"118\": {\"118\": 10, \"11\": 1, \"26\": 1}, \"6\": {\"25\": 3, \"6\": 4, \"37\": 1, \"28\": 2, \"67\": 1, \"112\": 1}, \"3\": {\"3\": 12}, \"11\": {\"11\": 9, \"39\": 1, \"15\": 1, \"122\": 1}, \"33\": {\"33\": 11, \"50\": 1}, \"81\": {\"81\": 6, \"3\": 1, \"53\": 1, \"33\": 1, \"128\": 1, \"60\": 2}, \"125\": {\"125\": 8, \"45\": 1, \"37\": 2, \"64\": 1}, \"98\": {\"98\": 10, \"34\": 1, \"52\": 1}, \"65\": {\"65\": 6, \"24\": 1, \"79\": 1, \"45\": 1, \"98\": 1, \"122\": 1, \"33\": 1}, \"119\": {\"119\": 5, \"65\": 1, \"115\": 1, \"117\": 1, \"42\": 2, \"79\": 1, \"46\": 1}, \"128\": {\"128\": 6, \"90\": 1, \"50\": 1, \"100\": 1, \"73\": 1, \"81\": 1, \"52\": 1}, \"71\": {\"71\": 7, \"36\": 1}, \"123\": {\"123\": 7, \"115\": 1}, \"4\": {\"57\": 2, \"4\": 9, \"46\": 1}, \"41\": {\"25\": 1, \"41\": 5, \"117\": 1, \"74\": 1, \"6\": 1, \"77\": 1, \"64\": 2}, \"67\": {\"67\": 11, \"104\": 1}, \"95\": {\"25\": 2, \"89\": 2, \"95\": 4, \"47\": 2, \"50\": 2}, \"100\": {\"89\": 1, \"100\": 2, \"98\": 1, \"128\": 1, \"16\": 2, \"105\": 1, \"72\": 2, \"75\": 1, \"73\": 1}, \"17\": {\"22\": 1, \"17\": 9, \"79\": 1, \"45\": 1}, \"113\": {\"113\": 10, \"106\": 2}, \"122\": {\"122\": 8, \"8\": 2, \"15\": 2}, \"27\": {\"27\": 9, \"10\": 1, \"88\": 1, \"93\": 1}, \"79\": {\"79\": 5, \"17\": 2, \"45\": 1, \"61\": 1, \"48\": 1, \"117\": 2}, \"16\": {\"16\": 9, \"101\": 2, \"53\": 1}, \"112\": {\"112\": 6, \"28\": 1, \"94\": 1, \"24\": 1, \"82\": 1, \"53\": 1, \"103\": 1}, \"1\": {\"75\": 1, \"1\": 8, \"14\": 1, \"101\": 1, \"114\": 1}, \"124\": {\"22\": 1, \"115\": 1, \"45\": 2, \"124\": 4, \"5\": 2, \"68\": 1, \"6\": 1}, \"36\": {\"36\": 7, \"70\": 1}, \"76\": {\"91\": 1, \"29\": 1, \"76\": 5, \"52\": 1, \"72\": 1, \"128\": 1, \"89\": 1, \"1\": 1}, \"96\": {\"96\": 7, \"16\": 1, \"7\": 1, \"118\": 1, \"12\": 1, \"0\": 1}, \"80\": {\"80\": 8, \"86\": 1, \"123\": 2, \"57\": 1}, \"74\": {\"76\": 1, \"35\": 1, \"74\": 4, \"6\": 1, \"50\": 1, \"29\": 1, \"49\": 1, \"9\": 1, \"45\": 1}, \"99\": {\"99\": 7, \"75\": 1, \"1\": 1, \"74\": 2, \"68\": 1}, \"51\": {\"51\": 12}, \"126\": {\"126\": 5, \"97\": 2, \"30\": 1, \"70\": 2}, \"104\": {\"104\": 9, \"55\": 1}, \"97\": {\"97\": 3, \"126\": 2, \"88\": 2, \"24\": 2, \"70\": 2, \"27\": 1}, \"50\": {\"20\": 2, \"73\": 1, \"50\": 7, \"89\": 1, \"64\": 1}, \"52\": {\"52\": 7, \"21\": 2, \"98\": 1, \"49\": 2}, \"48\": {\"48\": 10, \"63\": 1, \"79\": 1}, \"77\": {\"77\": 7, \"6\": 1}, \"120\": {\"6\": 1, \"120\": 5, \"41\": 1, \"38\": 1}, \"44\": {\"44\": 8}, \"13\": {\"13\": 5, \"63\": 1}, \"62\": {\"31\": 1, \"62\": 5}}, \"C_A_1\": {\"57\": {\"57\": 6, \"21\": 4, \"4\": 2}, \"24\": {\"24\": 12}, \"22\": {\"22\": 12}, \"17\": {\"39\": 1, \"35\": 3, \"42\": 2, \"17\": 5, \"7\": 1}, \"39\": {\"14\": 1, \"39\": 7, \"47\": 1, \"9\": 1, \"7\": 2}, \"12\": {\"12\": 11, \"22\": 1}, \"14\": {\"14\": 5, \"30\": 2, \"29\": 2, \"57\": 1, \"43\": 1, \"13\": 1}, \"35\": {\"35\": 8, \"17\": 2, \"42\": 2}, \"46\": {\"46\": 6, \"45\": 3, \"0\": 1, \"50\": 2}, \"27\": {\"46\": 2, \"45\": 3, \"5\": 2, \"27\": 5}, \"19\": {\"19\": 10, \"17\": 1, \"15\": 1}, \"10\": {\"10\": 10, \"53\": 1, \"26\": 1}, \"11\": {\"11\": 12}, \"18\": {\"18\": 8}, \"6\": {\"46\": 2, \"45\": 2, \"50\": 2, \"0\": 2, \"6\": 3, \"27\": 1}, \"30\": {\"30\": 9, \"57\": 1, \"8\": 1, \"47\": 1}, \"45\": {\"45\": 11, \"46\": 1}, \"8\": {\"8\": 6, \"9\": 2, \"2\": 1, \"48\": 1, \"36\": 1, \"49\": 1}, \"9\": {\"32\": 1, \"9\": 9, \"8\": 1, \"7\": 1}, \"33\": {\"33\": 8, \"42\": 2}, \"56\": {\"45\": 3, \"46\": 2, \"56\": 2, \"5\": 1, \"50\": 2, \"44\": 2}, \"52\": {\"52\": 8, \"5\": 1, \"22\": 2, \"3\": 1}, \"53\": {\"53\": 8, \"15\": 3, \"26\": 1}, \"41\": {\"41\": 12}, \"32\": {\"32\": 12}, \"7\": {\"7\": 6, \"9\": 1, \"32\": 1}, \"3\": {\"3\": 4, \"52\": 1, \"45\": 1, \"5\": 1, \"22\": 1, \"46\": 1, \"0\": 1}, \"49\": {\"49\": 7, \"38\": 1, \"9\": 2}, \"54\": {\"54\": 11, \"53\": 1}, \"44\": {\"45\": 4, \"44\": 4, \"50\": 2}, \"28\": {\"28\": 8, \"17\": 1, \"54\": 1}, \"51\": {\"51\": 9, \"2\": 1, \"48\": 1, \"32\": 1}, \"21\": {\"21\": 9, \"5\": 1}, \"4\": {\"4\": 2, \"21\": 1, \"0\": 3}, \"43\": {\"39\": 1, \"43\": 10, \"2\": 1}, \"47\": {\"21\": 2, \"47\": 3, \"50\": 1, \"57\": 2, \"30\": 2}, \"23\": {\"23\": 7, \"53\": 1, \"33\": 2, \"35\": 2}, \"36\": {\"36\": 11, \"1\": 1}, \"48\": {\"48\": 10, \"9\": 2}, \"29\": {\"29\": 6, \"57\": 1, \"36\": 2, \"30\": 1}, \"31\": {\"31\": 12}, \"20\": {\"20\": 6, \"12\": 5, \"45\": 1}, \"5\": {\"50\": 2, \"5\": 8}, \"50\": {\"50\": 8}, \"38\": {\"30\": 1, \"38\": 4, \"55\": 2, \"36\": 1, \"43\": 1, \"47\": 1}, \"1\": {\"48\": 1, \"1\": 3, \"36\": 2, \"2\": 1, \"9\": 2, \"57\": 1}, \"37\": {\"37\": 12}, \"25\": {\"25\": 12}, \"26\": {\"26\": 12}, \"34\": {\"34\": 12}, \"55\": {\"39\": 1, \"55\": 8, \"32\": 1}, \"16\": {\"16\": 12}, \"42\": {\"42\": 9, \"33\": 1}, \"40\": {\"5\": 3, \"40\": 4, \"0\": 1, \"45\": 1, \"56\": 1}, \"15\": {\"15\": 4, \"53\": 3, \"10\": 1}, \"2\": {\"2\": 9, \"8\": 1}, \"0\": {\"0\": 8, \"45\": 2}, \"13\": {\"13\": 9, \"52\": 1}}, \"C_A_3\": {\"20\": {\"20\": 8, \"7\": 1, \"47\": 1}, \"24\": {\"24\": 12}, \"6\": {\"5\": 2, \"6\": 9, \"50\": 1}, \"10\": {\"10\": 10}, \"52\": {\"1\": 2, \"52\": 9, \"48\": 1}, \"46\": {\"3\": 2, \"5\": 1, \"46\": 6, \"50\": 2, \"12\": 1}, \"35\": {\"35\": 9, \"17\": 1, \"31\": 1, \"43\": 1}, \"15\": {\"15\": 12}, \"5\": {\"5\": 12}, \"53\": {\"53\": 8, \"23\": 2}, \"37\": {\"37\": 12}, \"1\": {\"20\": 1, \"52\": 4, \"13\": 2, \"1\": 5}, \"3\": {\"3\": 6, \"5\": 1, \"12\": 2, \"45\": 2, \"44\": 1}, \"33\": {\"33\": 9, \"27\": 1, \"57\": 1, \"8\": 1}, \"0\": {\"5\": 2, \"0\": 9, \"3\": 1}, \"56\": {\"46\": 1, \"1\": 1, \"56\": 5, \"21\": 2, \"47\": 1, \"50\": 1, \"0\": 1}, \"45\": {\"5\": 3, \"45\": 5, \"44\": 1, \"12\": 1, \"3\": 2}, \"9\": {\"57\": 3, \"41\": 1, \"48\": 1, \"13\": 1, \"33\": 1, \"9\": 2, \"7\": 2, \"40\": 1}, \"43\": {\"43\": 11, \"49\": 1}, \"57\": {\"57\": 5, \"29\": 1, \"9\": 1, \"7\": 1, \"41\": 1, \"4\": 3}, \"54\": {\"37\": 1, \"54\": 11}, \"48\": {\"48\": 5, \"57\": 1, \"1\": 4}, \"38\": {\"38\": 11, \"55\": 1}, \"29\": {\"29\": 6, \"57\": 2, \"7\": 1, \"32\": 1}, \"47\": {\"47\": 6, \"4\": 1, \"1\": 1, \"40\": 1, \"20\": 2, \"41\": 1}, \"19\": {\"19\": 11, \"53\": 1}, \"17\": {\"17\": 10, \"36\": 1, \"31\": 1}, \"27\": {\"27\": 6, \"8\": 2, \"40\": 1, \"57\": 1}, \"42\": {\"42\": 5, \"36\": 1, \"26\": 2, \"43\": 1, \"34\": 1}, \"44\": {\"45\": 2, \"44\": 5, \"30\": 1, \"12\": 2}, \"49\": {\"49\": 7, \"42\": 2, \"38\": 1, \"31\": 2}, \"4\": {\"48\": 1, \"4\": 6, \"41\": 2, \"57\": 1, \"20\": 1, \"29\": 1}, \"41\": {\"4\": 2, \"41\": 6, \"22\": 1, \"29\": 1, \"39\": 1, \"52\": 1}, \"8\": {\"4\": 1, \"7\": 1, \"8\": 5, \"29\": 1, \"14\": 1, \"57\": 1}, \"13\": {\"13\": 12}, \"55\": {\"38\": 3, \"55\": 3, \"35\": 1, \"51\": 1, \"32\": 2}, \"7\": {\"8\": 1, \"38\": 1, \"57\": 1, \"32\": 1, \"20\": 2, \"34\": 1, \"7\": 1, \"4\": 2}, \"14\": {\"14\": 4, \"51\": 1, \"33\": 3, \"32\": 2, \"13\": 1, \"8\": 1}, \"26\": {\"26\": 11, \"31\": 1}, \"30\": {\"52\": 1, \"0\": 1, \"30\": 8, \"50\": 1, \"12\": 1}, \"34\": {\"34\": 7, \"32\": 2, \"36\": 1}, \"11\": {\"11\": 8}, \"40\": {\"52\": 1, \"4\": 1, \"40\": 4, \"1\": 1, \"47\": 2, \"0\": 1}, \"2\": {\"2\": 8, \"39\": 2}, \"51\": {\"2\": 2, \"51\": 9, \"39\": 1}, \"16\": {\"16\": 6, \"15\": 1, \"28\": 3}, \"36\": {\"36\": 9, \"34\": 1}, \"31\": {\"31\": 8}, \"21\": {\"21\": 9, \"12\": 2, \"46\": 1}, \"12\": {\"12\": 7, \"45\": 2, \"0\": 2, \"3\": 1}, \"22\": {\"5\": 2, \"3\": 3, \"56\": 2, \"46\": 3, \"30\": 1, \"21\": 1}, \"18\": {\"18\": 10, \"25\": 2}, \"32\": {\"32\": 9, \"34\": 2, \"36\": 1}, \"50\": {\"50\": 4, \"46\": 2, \"44\": 1, \"56\": 1, \"3\": 1, \"6\": 1}, \"25\": {\"25\": 8}, \"39\": {\"39\": 6, \"7\": 1, \"32\": 1, \"51\": 2}, \"28\": {\"15\": 6, \"19\": 1, \"28\": 3}, \"23\": {\"23\": 5, \"17\": 1}}}, \"per_domain_accuracy\": {\"ORACLE.run1_14\": {\"accuracy\": 0.88515625, \"source?\": true}, \"ORACLE.run1_20\": {\"accuracy\": 0.9072916666666667, \"source?\": true}, \"ORACLE.run1_50\": {\"accuracy\": 0.9177083333333333, \"source?\": true}, \"ORACLE.run1_26\": {\"accuracy\": 0.8177083333333334, \"source?\": true}, \"ORACLE.run1_32\": {\"accuracy\": 0.8846354166666667, \"source?\": true}, \"ORACLE.run1_44\": {\"accuracy\": 0.8471354166666667, \"source?\": true}, \"ORACLE.run1_8\": {\"accuracy\": 0.8950520833333333, \"source?\": true}, \"ORACLE.run1_38\": {\"accuracy\": 0.8966145833333333, \"source?\": true}, \"C_A_4\": {\"accuracy\": 0.634375, \"source?\": false}, \"W_A_3\": {\"accuracy\": 0.599609375, \"source?\": false}, \"C_A_5\": {\"accuracy\": 0.653125, \"source?\": false}, \"C_A_2\": {\"accuracy\": 0.675, \"source?\": false}, \"W_A_4\": {\"accuracy\": 0.5846354166666666, \"source?\": false}, \"W_A_2\": {\"accuracy\": 0.5807291666666666, \"source?\": false}, \"W_A_1\": {\"accuracy\": 0.648936170212766, \"source?\": false}, \"C_A_1\": {\"accuracy\": 0.725, \"source?\": false}, \"C_A_3\": {\"accuracy\": 0.6609375, \"source?\": false}}}, \"history\": {\"epoch_indices\": [1, 2, 3, 4, 5, 6, 7, 8], \"train_label_loss\": [0.42242201133852914, 3.7751225346762416, 0.3668287463685764, 0.33493685640361426, 0.3106749741424296, 1.7943240345904736, 0.3206486418860593, 0.29644998805999334], \"source_val_label_loss\": [473.4816589355469, 0.4083411693572998, 0.39534521102905273, 0.3365398049354553, 0.31255248188972473, 0.3022214472293854, 0.30582594871520996, 0.3160560727119446], \"target_val_label_loss\": [314099.8125, 75846.8046875, 76255.796875, 66270.4609375, 92005.0703125, 95711.9609375, 87200.9609375, 114434.34375], \"source_val_acc_label\": [0.6975911458333334, 0.8587890625, 0.8678059895833333, 0.8814127604166667, 0.89130859375, 0.8955729166666667, 0.8960286458333333, 0.8868815104166666], \"target_val_acc_label\": [0.46563573883161513, 0.5705541237113402, 0.6080326460481099, 0.626073883161512, 0.6121134020618557, 0.6145833333333334, 0.6226374570446735, 0.6204896907216495]}, \"dataset_metrics\": {\"source\": {\"train\": {\"n_unique_x\": 179200, \"n_unique_y\": 16, \"n_batch/episode\": 6720}, \"val\": {\"n_unique_x\": 38400, \"n_unique_y\": 16, \"n_batch/episode\": 960}, \"test\": {\"n_unique_x\": 38400, \"n_unique_y\": 16, \"n_batch/episode\": 960}}, \"target\": {\"train\": {\"n_unique_x\": 56697, \"n_unique_y\": 130, \"n_batch/episode\": 2082}, \"val\": {\"n_unique_x\": 12121, \"n_unique_y\": 130, \"n_batch/episode\": 291}, \"test\": {\"n_unique_x\": 12121, \"n_unique_y\": 130, \"n_batch/episode\": 291}}}}'"
      ]
     },
     "execution_count": 29,
     "metadata": {},
     "output_type": "execute_result"
    }
   ],
   "source": [
    "json.dumps(experiment)"
   ]
  }
 ],
 "metadata": {
  "celltoolbar": "Tags",
  "kernelspec": {
   "display_name": "Python 3 (ipykernel)",
   "language": "python",
   "name": "python3"
  },
  "language_info": {
   "codemirror_mode": {
    "name": "ipython",
    "version": 3
   },
   "file_extension": ".py",
   "mimetype": "text/x-python",
   "name": "python",
   "nbconvert_exporter": "python",
   "pygments_lexer": "ipython3",
   "version": "3.8.10"
  },
  "papermill": {
   "default_parameters": {},
   "duration": 1360.184903,
   "end_time": "2022-03-18T17:44:45.656092",
   "environment_variables": {},
   "exception": null,
   "input_path": "/mnt/wd500GB/CSC500/csc500-main/csc500-notebooks/templates/tl_ptn_template.ipynb",
   "output_path": "trial.ipynb",
   "parameters": {
    "parameters": {
     "BEST_MODEL_PATH": "./best_model.pth",
     "NUM_LOGS_PER_EPOCH": 10,
     "criteria_for_best": "target_loss",
     "dataset_seed": 420,
     "datasets": [
      {
       "domain_prefix": "C_A_",
       "domains": [
        1,
        2,
        3,
        4,
        5
       ],
       "episode_transforms": [],
       "labels": [
        "1-10.",
        "1-11.",
        "1-15.",
        "1-16.",
        "1-17.",
        "1-18.",
        "1-19.",
        "10-4.",
        "10-7.",
        "11-1.",
        "11-14.",
        "11-17.",
        "11-20.",
        "11-7.",
        "13-20.",
        "13-8.",
        "14-10.",
        "14-11.",
        "14-14.",
        "14-7.",
        "15-1.",
        "15-20.",
        "16-1.",
        "16-16.",
        "17-10.",
        "17-11.",
        "17-2.",
        "19-1.",
        "19-16.",
        "19-19.",
        "19-20.",
        "19-3.",
        "2-10.",
        "2-11.",
        "2-17.",
        "2-18.",
        "2-20.",
        "2-3.",
        "2-4.",
        "2-5.",
        "2-6.",
        "2-7.",
        "2-8.",
        "3-13.",
        "3-18.",
        "3-3.",
        "4-1.",
        "4-10.",
        "4-11.",
        "4-19.",
        "5-5.",
        "6-15.",
        "7-10.",
        "7-14.",
        "8-18.",
        "8-20.",
        "8-3.",
        "8-8."
       ],
       "num_examples_per_domain_per_label": 100,
       "pickle_path": "/mnt/wd500GB/CSC500/csc500-main/datasets/cores.stratified_ds.2022A.pkl",
       "source_or_target_dataset": "target",
       "x_transforms": [
        "take_200"
       ]
      },
      {
       "domain_prefix": "W_A_",
       "domains": [
        1,
        2,
        3,
        4
       ],
       "episode_transforms": [],
       "labels": [
        "1-10",
        "1-12",
        "1-14",
        "1-16",
        "1-18",
        "1-19",
        "1-8",
        "10-11",
        "10-17",
        "10-4",
        "10-7",
        "11-1",
        "11-10",
        "11-19",
        "11-20",
        "11-4",
        "11-7",
        "12-19",
        "12-20",
        "12-7",
        "13-14",
        "13-18",
        "13-19",
        "13-20",
        "13-3",
        "13-7",
        "14-10",
        "14-11",
        "14-12",
        "14-13",
        "14-14",
        "14-19",
        "14-20",
        "14-7",
        "14-8",
        "14-9",
        "15-1",
        "15-19",
        "15-6",
        "16-1",
        "16-16",
        "16-19",
        "16-20",
        "17-10",
        "17-11",
        "18-1",
        "18-10",
        "18-11",
        "18-12",
        "18-13",
        "18-14",
        "18-15",
        "18-16",
        "18-17",
        "18-19",
        "18-2",
        "18-20",
        "18-4",
        "18-5",
        "18-7",
        "18-8",
        "18-9",
        "19-1",
        "19-10",
        "19-11",
        "19-12",
        "19-13",
        "19-14",
        "19-15",
        "19-19",
        "19-2",
        "19-20",
        "19-3",
        "19-4",
        "19-6",
        "19-7",
        "19-8",
        "19-9",
        "2-1",
        "2-13",
        "2-15",
        "2-3",
        "2-4",
        "2-5",
        "2-6",
        "2-7",
        "2-8",
        "20-1",
        "20-12",
        "20-14",
        "20-15",
        "20-16",
        "20-18",
        "20-19",
        "20-20",
        "20-3",
        "20-4",
        "20-5",
        "20-7",
        "20-8",
        "3-1",
        "3-13",
        "3-18",
        "3-2",
        "3-8",
        "4-1",
        "4-10",
        "4-11",
        "5-1",
        "5-5",
        "6-1",
        "6-15",
        "6-6",
        "7-10",
        "7-11",
        "7-12",
        "7-13",
        "7-14",
        "7-7",
        "7-8",
        "7-9",
        "8-1",
        "8-13",
        "8-14",
        "8-18",
        "8-20",
        "8-3",
        "8-8",
        "9-1",
        "9-7"
       ],
       "num_examples_per_domain_per_label": 100,
       "pickle_path": "/mnt/wd500GB/CSC500/csc500-main/datasets/wisig.node3-19.stratified_ds.2022A.pkl",
       "source_or_target_dataset": "target",
       "x_transforms": [
        "take_200"
       ]
      },
      {
       "domain_prefix": "ORACLE.run1_",
       "domains": [
        32,
        38,
        8,
        44,
        14,
        50,
        20,
        26
       ],
       "episode_transforms": [],
       "labels": [
        "3123D52",
        "3123D65",
        "3123D79",
        "3123D80",
        "3123D54",
        "3123D70",
        "3123D7B",
        "3123D89",
        "3123D58",
        "3123D76",
        "3123D7D",
        "3123EFE",
        "3123D64",
        "3123D78",
        "3123D7E",
        "3124E4A"
       ],
       "num_examples_per_domain_per_label": 2000,
       "pickle_path": "/mnt/wd500GB/CSC500/csc500-main/datasets/oracle.Run1_framed_2000Examples_stratified_ds.2022A.pkl",
       "source_or_target_dataset": "source",
       "x_transforms": [
        "take_200",
        "resample_20Msps_to_25Msps"
       ]
      }
     ],
     "device": "cuda",
     "experiment_name": "tl_3A:oracle.run1.framed -> cores+wisig",
     "lr": 0.001,
     "n_epoch": 50,
     "n_query": 2,
     "n_shot": 3,
     "n_way": 16,
     "patience": 3,
     "seed": 420,
     "test_k_factor": 2,
     "torch_default_dtype": "torch.float32",
     "train_k_factor": 3,
     "val_k_factor": 2,
     "x_net": [
      {
       "class": "nnReshape",
       "kargs": {
        "shape": [
         -1,
         1,
         2,
         200
        ]
       }
      },
      {
       "class": "Conv2d",
       "kargs": {
        "bias": false,
        "in_channels": 1,
        "kernel_size": [
         1,
         7
        ],
        "out_channels": 256,
        "padding": [
         0,
         3
        ]
       }
      },
      {
       "class": "ReLU",
       "kargs": {
        "inplace": true
       }
      },
      {
       "class": "BatchNorm2d",
       "kargs": {
        "num_features": 256
       }
      },
      {
       "class": "Conv2d",
       "kargs": {
        "bias": true,
        "in_channels": 256,
        "kernel_size": [
         2,
         7
        ],
        "out_channels": 80,
        "padding": [
         0,
         3
        ]
       }
      },
      {
       "class": "ReLU",
       "kargs": {
        "inplace": true
       }
      },
      {
       "class": "BatchNorm2d",
       "kargs": {
        "num_features": 80
       }
      },
      {
       "class": "Flatten",
       "kargs": {}
      },
      {
       "class": "Linear",
       "kargs": {
        "in_features": 16000,
        "out_features": 256
       }
      },
      {
       "class": "ReLU",
       "kargs": {
        "inplace": true
       }
      },
      {
       "class": "BatchNorm1d",
       "kargs": {
        "num_features": 256
       }
      },
      {
       "class": "Linear",
       "kargs": {
        "in_features": 256,
        "out_features": 256
       }
      }
     ],
     "x_shape": [
      2,
      200
     ]
    }
   },
   "start_time": "2022-03-18T17:22:05.471189",
   "version": "2.3.4"
  }
 },
 "nbformat": 4,
 "nbformat_minor": 5
}