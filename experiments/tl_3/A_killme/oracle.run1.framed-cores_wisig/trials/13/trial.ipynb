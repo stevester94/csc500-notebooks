{
 "cells": [
  {
   "cell_type": "markdown",
   "id": "9fea5f46",
   "metadata": {
    "papermill": {
     "duration": 0.016633,
     "end_time": "2022-03-18T20:36:19.421317",
     "exception": false,
     "start_time": "2022-03-18T20:36:19.404684",
     "status": "completed"
    },
    "tags": []
   },
   "source": [
    "# Transfer Learning Template"
   ]
  },
  {
   "cell_type": "code",
   "execution_count": 1,
   "id": "0902182a",
   "metadata": {
    "execution": {
     "iopub.execute_input": "2022-03-18T20:36:19.460515Z",
     "iopub.status.busy": "2022-03-18T20:36:19.460041Z",
     "iopub.status.idle": "2022-03-18T20:36:20.360639Z",
     "shell.execute_reply": "2022-03-18T20:36:20.360333Z"
    },
    "papermill": {
     "duration": 0.926552,
     "end_time": "2022-03-18T20:36:20.360708",
     "exception": false,
     "start_time": "2022-03-18T20:36:19.434156",
     "status": "completed"
    },
    "tags": []
   },
   "outputs": [],
   "source": [
    "%load_ext autoreload\n",
    "%autoreload 2\n",
    "%matplotlib inline\n",
    "\n",
    "    \n",
    "import os, json, sys, time, random\n",
    "import numpy as np\n",
    "import torch\n",
    "from torch.optim import Adam\n",
    "from  easydict import EasyDict\n",
    "import matplotlib.pyplot as plt\n",
    "\n",
    "from steves_models.steves_ptn import Steves_Prototypical_Network\n",
    "\n",
    "from steves_utils.lazy_iterable_wrapper import Lazy_Iterable_Wrapper\n",
    "from steves_utils.iterable_aggregator import Iterable_Aggregator\n",
    "from steves_utils.ptn_train_eval_test_jig import  PTN_Train_Eval_Test_Jig\n",
    "from steves_utils.torch_sequential_builder import build_sequential\n",
    "from steves_utils.torch_utils import get_dataset_metrics, ptn_confusion_by_domain_over_dataloader\n",
    "from steves_utils.utils_v2 import (per_domain_accuracy_from_confusion, get_datasets_base_path)\n",
    "from steves_utils.PTN.utils import independent_accuracy_assesment\n",
    "\n",
    "from torch.utils.data import DataLoader\n",
    "\n",
    "from steves_utils.stratified_dataset.episodic_accessor import Episodic_Accessor_Factory\n",
    "\n",
    "from steves_utils.ptn_do_report import (\n",
    "    get_loss_curve,\n",
    "    get_results_table,\n",
    "    get_parameters_table,\n",
    "    get_domain_accuracies,\n",
    ")\n",
    "\n",
    "from steves_utils.transforms import get_chained_transform"
   ]
  },
  {
   "cell_type": "markdown",
   "id": "41c840b4",
   "metadata": {
    "papermill": {
     "duration": 0.012643,
     "end_time": "2022-03-18T20:36:20.386650",
     "exception": false,
     "start_time": "2022-03-18T20:36:20.374007",
     "status": "completed"
    },
    "tags": []
   },
   "source": [
    "# Allowed Parameters\n",
    "These are allowed parameters, not defaults\n",
    "Each of these values need to be present in the injected parameters (the notebook will raise an exception if they are not present)\n",
    "\n",
    "Papermill uses the cell tag \"parameters\" to inject the real parameters below this cell.\n",
    "Enable tags to see what I mean"
   ]
  },
  {
   "cell_type": "code",
   "execution_count": 2,
   "id": "fd44eb83",
   "metadata": {
    "execution": {
     "iopub.execute_input": "2022-03-18T20:36:20.415411Z",
     "iopub.status.busy": "2022-03-18T20:36:20.415023Z",
     "iopub.status.idle": "2022-03-18T20:36:20.430766Z",
     "shell.execute_reply": "2022-03-18T20:36:20.430330Z"
    },
    "papermill": {
     "duration": 0.031277,
     "end_time": "2022-03-18T20:36:20.430870",
     "exception": false,
     "start_time": "2022-03-18T20:36:20.399593",
     "status": "completed"
    },
    "tags": []
   },
   "outputs": [],
   "source": [
    "required_parameters = {\n",
    "    \"experiment_name\",\n",
    "    \"lr\",\n",
    "    \"device\",\n",
    "    \"seed\",\n",
    "    \"dataset_seed\",\n",
    "    \"n_shot\",\n",
    "    \"n_query\",\n",
    "    \"n_way\",\n",
    "    \"train_k_factor\",\n",
    "    \"val_k_factor\",\n",
    "    \"test_k_factor\",\n",
    "    \"n_epoch\",\n",
    "    \"patience\",\n",
    "    \"criteria_for_best\",\n",
    "    \"x_net\",\n",
    "    \"datasets\",\n",
    "    \"torch_default_dtype\",\n",
    "    \"NUM_LOGS_PER_EPOCH\",\n",
    "    \"BEST_MODEL_PATH\",\n",
    "    \"x_shape\",\n",
    "}"
   ]
  },
  {
   "cell_type": "code",
   "execution_count": 3,
   "id": "fa3f0049",
   "metadata": {
    "execution": {
     "iopub.execute_input": "2022-03-18T20:36:20.464993Z",
     "iopub.status.busy": "2022-03-18T20:36:20.464702Z",
     "iopub.status.idle": "2022-03-18T20:36:20.477917Z",
     "shell.execute_reply": "2022-03-18T20:36:20.477468Z"
    },
    "papermill": {
     "duration": 0.031676,
     "end_time": "2022-03-18T20:36:20.478021",
     "exception": false,
     "start_time": "2022-03-18T20:36:20.446345",
     "status": "completed"
    },
    "tags": [
     "parameters"
    ]
   },
   "outputs": [],
   "source": [
    "from steves_utils.CORES.utils import (\n",
    "    ALL_NODES,\n",
    "    ALL_NODES_MINIMUM_1000_EXAMPLES,\n",
    "    ALL_DAYS\n",
    ")\n",
    "\n",
    "from steves_utils.ORACLE.utils_v2 import (\n",
    "    ALL_DISTANCES_FEET_NARROWED,\n",
    "    ALL_RUNS,\n",
    "    ALL_SERIAL_NUMBERS,\n",
    ")\n",
    "\n",
    "standalone_parameters = {}\n",
    "standalone_parameters[\"experiment_name\"] = \"STANDALONE PTN\"\n",
    "standalone_parameters[\"lr\"] = 0.001\n",
    "standalone_parameters[\"device\"] = \"cuda\"\n",
    "\n",
    "standalone_parameters[\"seed\"] = 1337\n",
    "standalone_parameters[\"dataset_seed\"] = 1337\n",
    "\n",
    "standalone_parameters[\"n_way\"] = 8\n",
    "standalone_parameters[\"n_shot\"] = 3\n",
    "standalone_parameters[\"n_query\"]  = 2\n",
    "standalone_parameters[\"train_k_factor\"] = 1\n",
    "standalone_parameters[\"val_k_factor\"] = 2\n",
    "standalone_parameters[\"test_k_factor\"] = 2\n",
    "\n",
    "\n",
    "standalone_parameters[\"n_epoch\"] = 50\n",
    "\n",
    "standalone_parameters[\"patience\"] = 10\n",
    "standalone_parameters[\"criteria_for_best\"] = \"source_loss\"\n",
    "\n",
    "standalone_parameters[\"datasets\"] = [\n",
    "    {\n",
    "        \"labels\": ALL_SERIAL_NUMBERS,\n",
    "        \"domains\": ALL_DISTANCES_FEET_NARROWED,\n",
    "        \"num_examples_per_domain_per_label\": 100,\n",
    "        \"pickle_path\": os.path.join(get_datasets_base_path(), \"oracle.Run1_framed_2000Examples_stratified_ds.2022A.pkl\"),\n",
    "        \"source_or_target_dataset\": \"source\",\n",
    "        \"x_transforms\": [\"unit_mag\", \"minus_two\"],\n",
    "        \"episode_transforms\": [],\n",
    "        \"domain_prefix\": \"ORACLE_\"\n",
    "    },\n",
    "    {\n",
    "        \"labels\": ALL_NODES,\n",
    "        \"domains\": ALL_DAYS,\n",
    "        \"num_examples_per_domain_per_label\": 100,\n",
    "        \"pickle_path\": os.path.join(get_datasets_base_path(), \"cores.stratified_ds.2022A.pkl\"),\n",
    "        \"source_or_target_dataset\": \"target\",\n",
    "        \"x_transforms\": [\"unit_power\", \"times_zero\"],\n",
    "        \"episode_transforms\": [],\n",
    "        \"domain_prefix\": \"CORES_\"\n",
    "    }   \n",
    "]\n",
    "\n",
    "standalone_parameters[\"torch_default_dtype\"] = \"torch.float32\" \n",
    "\n",
    "\n",
    "\n",
    "standalone_parameters[\"x_net\"] =     [\n",
    "    {\"class\": \"nnReshape\", \"kargs\": {\"shape\":[-1, 1, 2, 256]}},\n",
    "    {\"class\": \"Conv2d\", \"kargs\": { \"in_channels\":1, \"out_channels\":256, \"kernel_size\":(1,7), \"bias\":False, \"padding\":(0,3), },},\n",
    "    {\"class\": \"ReLU\", \"kargs\": {\"inplace\": True}},\n",
    "    {\"class\": \"BatchNorm2d\", \"kargs\": {\"num_features\":256}},\n",
    "\n",
    "    {\"class\": \"Conv2d\", \"kargs\": { \"in_channels\":256, \"out_channels\":80, \"kernel_size\":(2,7), \"bias\":True, \"padding\":(0,3), },},\n",
    "    {\"class\": \"ReLU\", \"kargs\": {\"inplace\": True}},\n",
    "    {\"class\": \"BatchNorm2d\", \"kargs\": {\"num_features\":80}},\n",
    "    {\"class\": \"Flatten\", \"kargs\": {}},\n",
    "\n",
    "    {\"class\": \"Linear\", \"kargs\": {\"in_features\": 80*256, \"out_features\": 256}}, # 80 units per IQ pair\n",
    "    {\"class\": \"ReLU\", \"kargs\": {\"inplace\": True}},\n",
    "    {\"class\": \"BatchNorm1d\", \"kargs\": {\"num_features\":256}},\n",
    "\n",
    "    {\"class\": \"Linear\", \"kargs\": {\"in_features\": 256, \"out_features\": 256}},\n",
    "]\n",
    "\n",
    "# Parameters relevant to results\n",
    "# These parameters will basically never need to change\n",
    "standalone_parameters[\"NUM_LOGS_PER_EPOCH\"] = 10\n",
    "standalone_parameters[\"BEST_MODEL_PATH\"] = \"./best_model.pth\"\n",
    "\n",
    "\n",
    "\n",
    "\n"
   ]
  },
  {
   "cell_type": "code",
   "execution_count": 4,
   "id": "01ab5d9e",
   "metadata": {
    "execution": {
     "iopub.execute_input": "2022-03-18T20:36:20.518099Z",
     "iopub.status.busy": "2022-03-18T20:36:20.517621Z",
     "iopub.status.idle": "2022-03-18T20:36:20.531184Z",
     "shell.execute_reply": "2022-03-18T20:36:20.530739Z"
    },
    "papermill": {
     "duration": 0.034981,
     "end_time": "2022-03-18T20:36:20.531308",
     "exception": false,
     "start_time": "2022-03-18T20:36:20.496327",
     "status": "completed"
    },
    "tags": [
     "injected-parameters"
    ]
   },
   "outputs": [],
   "source": [
    "# Parameters\n",
    "parameters = {\n",
    "    \"experiment_name\": \"tl_3A:oracle.run1.framed -> cores+wisig\",\n",
    "    \"device\": \"cuda\",\n",
    "    \"lr\": 0.001,\n",
    "    \"seed\": 500,\n",
    "    \"dataset_seed\": 500,\n",
    "    \"x_shape\": [2, 200],\n",
    "    \"n_shot\": 3,\n",
    "    \"n_query\": 2,\n",
    "    \"train_k_factor\": 3,\n",
    "    \"val_k_factor\": 2,\n",
    "    \"test_k_factor\": 2,\n",
    "    \"torch_default_dtype\": \"torch.float32\",\n",
    "    \"n_epoch\": 50,\n",
    "    \"patience\": 3,\n",
    "    \"criteria_for_best\": \"target_loss\",\n",
    "    \"x_net\": [\n",
    "        {\"class\": \"nnReshape\", \"kargs\": {\"shape\": [-1, 1, 2, 200]}},\n",
    "        {\n",
    "            \"class\": \"Conv2d\",\n",
    "            \"kargs\": {\n",
    "                \"in_channels\": 1,\n",
    "                \"out_channels\": 256,\n",
    "                \"kernel_size\": [1, 7],\n",
    "                \"bias\": False,\n",
    "                \"padding\": [0, 3],\n",
    "            },\n",
    "        },\n",
    "        {\"class\": \"ReLU\", \"kargs\": {\"inplace\": True}},\n",
    "        {\"class\": \"BatchNorm2d\", \"kargs\": {\"num_features\": 256}},\n",
    "        {\n",
    "            \"class\": \"Conv2d\",\n",
    "            \"kargs\": {\n",
    "                \"in_channels\": 256,\n",
    "                \"out_channels\": 80,\n",
    "                \"kernel_size\": [2, 7],\n",
    "                \"bias\": True,\n",
    "                \"padding\": [0, 3],\n",
    "            },\n",
    "        },\n",
    "        {\"class\": \"ReLU\", \"kargs\": {\"inplace\": True}},\n",
    "        {\"class\": \"BatchNorm2d\", \"kargs\": {\"num_features\": 80}},\n",
    "        {\"class\": \"Flatten\", \"kargs\": {}},\n",
    "        {\"class\": \"Linear\", \"kargs\": {\"in_features\": 16000, \"out_features\": 256}},\n",
    "        {\"class\": \"ReLU\", \"kargs\": {\"inplace\": True}},\n",
    "        {\"class\": \"BatchNorm1d\", \"kargs\": {\"num_features\": 256}},\n",
    "        {\"class\": \"Linear\", \"kargs\": {\"in_features\": 256, \"out_features\": 256}},\n",
    "    ],\n",
    "    \"NUM_LOGS_PER_EPOCH\": 10,\n",
    "    \"BEST_MODEL_PATH\": \"./best_model.pth\",\n",
    "    \"n_way\": 16,\n",
    "    \"datasets\": [\n",
    "        {\n",
    "            \"labels\": [\n",
    "                \"1-10.\",\n",
    "                \"1-11.\",\n",
    "                \"1-15.\",\n",
    "                \"1-16.\",\n",
    "                \"1-17.\",\n",
    "                \"1-18.\",\n",
    "                \"1-19.\",\n",
    "                \"10-4.\",\n",
    "                \"10-7.\",\n",
    "                \"11-1.\",\n",
    "                \"11-14.\",\n",
    "                \"11-17.\",\n",
    "                \"11-20.\",\n",
    "                \"11-7.\",\n",
    "                \"13-20.\",\n",
    "                \"13-8.\",\n",
    "                \"14-10.\",\n",
    "                \"14-11.\",\n",
    "                \"14-14.\",\n",
    "                \"14-7.\",\n",
    "                \"15-1.\",\n",
    "                \"15-20.\",\n",
    "                \"16-1.\",\n",
    "                \"16-16.\",\n",
    "                \"17-10.\",\n",
    "                \"17-11.\",\n",
    "                \"17-2.\",\n",
    "                \"19-1.\",\n",
    "                \"19-16.\",\n",
    "                \"19-19.\",\n",
    "                \"19-20.\",\n",
    "                \"19-3.\",\n",
    "                \"2-10.\",\n",
    "                \"2-11.\",\n",
    "                \"2-17.\",\n",
    "                \"2-18.\",\n",
    "                \"2-20.\",\n",
    "                \"2-3.\",\n",
    "                \"2-4.\",\n",
    "                \"2-5.\",\n",
    "                \"2-6.\",\n",
    "                \"2-7.\",\n",
    "                \"2-8.\",\n",
    "                \"3-13.\",\n",
    "                \"3-18.\",\n",
    "                \"3-3.\",\n",
    "                \"4-1.\",\n",
    "                \"4-10.\",\n",
    "                \"4-11.\",\n",
    "                \"4-19.\",\n",
    "                \"5-5.\",\n",
    "                \"6-15.\",\n",
    "                \"7-10.\",\n",
    "                \"7-14.\",\n",
    "                \"8-18.\",\n",
    "                \"8-20.\",\n",
    "                \"8-3.\",\n",
    "                \"8-8.\",\n",
    "            ],\n",
    "            \"domains\": [1, 2, 3, 4, 5],\n",
    "            \"num_examples_per_domain_per_label\": 100,\n",
    "            \"pickle_path\": \"/mnt/wd500GB/CSC500/csc500-main/datasets/cores.stratified_ds.2022A.pkl\",\n",
    "            \"source_or_target_dataset\": \"target\",\n",
    "            \"x_transforms\": [\"unit_mag\", \"take_200\"],\n",
    "            \"episode_transforms\": [],\n",
    "            \"domain_prefix\": \"C_A_\",\n",
    "        },\n",
    "        {\n",
    "            \"labels\": [\n",
    "                \"1-10\",\n",
    "                \"1-12\",\n",
    "                \"1-14\",\n",
    "                \"1-16\",\n",
    "                \"1-18\",\n",
    "                \"1-19\",\n",
    "                \"1-8\",\n",
    "                \"10-11\",\n",
    "                \"10-17\",\n",
    "                \"10-4\",\n",
    "                \"10-7\",\n",
    "                \"11-1\",\n",
    "                \"11-10\",\n",
    "                \"11-19\",\n",
    "                \"11-20\",\n",
    "                \"11-4\",\n",
    "                \"11-7\",\n",
    "                \"12-19\",\n",
    "                \"12-20\",\n",
    "                \"12-7\",\n",
    "                \"13-14\",\n",
    "                \"13-18\",\n",
    "                \"13-19\",\n",
    "                \"13-20\",\n",
    "                \"13-3\",\n",
    "                \"13-7\",\n",
    "                \"14-10\",\n",
    "                \"14-11\",\n",
    "                \"14-12\",\n",
    "                \"14-13\",\n",
    "                \"14-14\",\n",
    "                \"14-19\",\n",
    "                \"14-20\",\n",
    "                \"14-7\",\n",
    "                \"14-8\",\n",
    "                \"14-9\",\n",
    "                \"15-1\",\n",
    "                \"15-19\",\n",
    "                \"15-6\",\n",
    "                \"16-1\",\n",
    "                \"16-16\",\n",
    "                \"16-19\",\n",
    "                \"16-20\",\n",
    "                \"17-10\",\n",
    "                \"17-11\",\n",
    "                \"18-1\",\n",
    "                \"18-10\",\n",
    "                \"18-11\",\n",
    "                \"18-12\",\n",
    "                \"18-13\",\n",
    "                \"18-14\",\n",
    "                \"18-15\",\n",
    "                \"18-16\",\n",
    "                \"18-17\",\n",
    "                \"18-19\",\n",
    "                \"18-2\",\n",
    "                \"18-20\",\n",
    "                \"18-4\",\n",
    "                \"18-5\",\n",
    "                \"18-7\",\n",
    "                \"18-8\",\n",
    "                \"18-9\",\n",
    "                \"19-1\",\n",
    "                \"19-10\",\n",
    "                \"19-11\",\n",
    "                \"19-12\",\n",
    "                \"19-13\",\n",
    "                \"19-14\",\n",
    "                \"19-15\",\n",
    "                \"19-19\",\n",
    "                \"19-2\",\n",
    "                \"19-20\",\n",
    "                \"19-3\",\n",
    "                \"19-4\",\n",
    "                \"19-6\",\n",
    "                \"19-7\",\n",
    "                \"19-8\",\n",
    "                \"19-9\",\n",
    "                \"2-1\",\n",
    "                \"2-13\",\n",
    "                \"2-15\",\n",
    "                \"2-3\",\n",
    "                \"2-4\",\n",
    "                \"2-5\",\n",
    "                \"2-6\",\n",
    "                \"2-7\",\n",
    "                \"2-8\",\n",
    "                \"20-1\",\n",
    "                \"20-12\",\n",
    "                \"20-14\",\n",
    "                \"20-15\",\n",
    "                \"20-16\",\n",
    "                \"20-18\",\n",
    "                \"20-19\",\n",
    "                \"20-20\",\n",
    "                \"20-3\",\n",
    "                \"20-4\",\n",
    "                \"20-5\",\n",
    "                \"20-7\",\n",
    "                \"20-8\",\n",
    "                \"3-1\",\n",
    "                \"3-13\",\n",
    "                \"3-18\",\n",
    "                \"3-2\",\n",
    "                \"3-8\",\n",
    "                \"4-1\",\n",
    "                \"4-10\",\n",
    "                \"4-11\",\n",
    "                \"5-1\",\n",
    "                \"5-5\",\n",
    "                \"6-1\",\n",
    "                \"6-15\",\n",
    "                \"6-6\",\n",
    "                \"7-10\",\n",
    "                \"7-11\",\n",
    "                \"7-12\",\n",
    "                \"7-13\",\n",
    "                \"7-14\",\n",
    "                \"7-7\",\n",
    "                \"7-8\",\n",
    "                \"7-9\",\n",
    "                \"8-1\",\n",
    "                \"8-13\",\n",
    "                \"8-14\",\n",
    "                \"8-18\",\n",
    "                \"8-20\",\n",
    "                \"8-3\",\n",
    "                \"8-8\",\n",
    "                \"9-1\",\n",
    "                \"9-7\",\n",
    "            ],\n",
    "            \"domains\": [1, 2, 3, 4],\n",
    "            \"num_examples_per_domain_per_label\": 100,\n",
    "            \"pickle_path\": \"/mnt/wd500GB/CSC500/csc500-main/datasets/wisig.node3-19.stratified_ds.2022A.pkl\",\n",
    "            \"source_or_target_dataset\": \"target\",\n",
    "            \"x_transforms\": [\"unit_mag\", \"take_200\"],\n",
    "            \"episode_transforms\": [],\n",
    "            \"domain_prefix\": \"W_A_\",\n",
    "        },\n",
    "        {\n",
    "            \"labels\": [\n",
    "                \"3123D52\",\n",
    "                \"3123D65\",\n",
    "                \"3123D79\",\n",
    "                \"3123D80\",\n",
    "                \"3123D54\",\n",
    "                \"3123D70\",\n",
    "                \"3123D7B\",\n",
    "                \"3123D89\",\n",
    "                \"3123D58\",\n",
    "                \"3123D76\",\n",
    "                \"3123D7D\",\n",
    "                \"3123EFE\",\n",
    "                \"3123D64\",\n",
    "                \"3123D78\",\n",
    "                \"3123D7E\",\n",
    "                \"3124E4A\",\n",
    "            ],\n",
    "            \"domains\": [32, 38, 8, 44, 14, 50, 20, 26],\n",
    "            \"num_examples_per_domain_per_label\": 2000,\n",
    "            \"pickle_path\": \"/mnt/wd500GB/CSC500/csc500-main/datasets/oracle.Run1_framed_2000Examples_stratified_ds.2022A.pkl\",\n",
    "            \"source_or_target_dataset\": \"source\",\n",
    "            \"x_transforms\": [\"unit_mag\", \"take_200\", \"resample_20Msps_to_25Msps\"],\n",
    "            \"episode_transforms\": [],\n",
    "            \"domain_prefix\": \"ORACLE.run1_\",\n",
    "        },\n",
    "    ],\n",
    "}\n"
   ]
  },
  {
   "cell_type": "code",
   "execution_count": 5,
   "id": "8fa1cc33",
   "metadata": {
    "execution": {
     "iopub.execute_input": "2022-03-18T20:36:20.568131Z",
     "iopub.status.busy": "2022-03-18T20:36:20.567877Z",
     "iopub.status.idle": "2022-03-18T20:36:20.583053Z",
     "shell.execute_reply": "2022-03-18T20:36:20.582615Z"
    },
    "papermill": {
     "duration": 0.032155,
     "end_time": "2022-03-18T20:36:20.583153",
     "exception": false,
     "start_time": "2022-03-18T20:36:20.550998",
     "status": "completed"
    },
    "tags": []
   },
   "outputs": [],
   "source": [
    "# Set this to True if you want to run this template directly\n",
    "STANDALONE = False\n",
    "if STANDALONE:\n",
    "    print(\"parameters not injected, running with standalone_parameters\")\n",
    "    parameters = standalone_parameters\n",
    "\n",
    "if not 'parameters' in locals() and not 'parameters' in globals():\n",
    "    raise Exception(\"Parameter injection failed\")\n",
    "\n",
    "#Use an easy dict for all the parameters\n",
    "p = EasyDict(parameters)\n",
    "\n",
    "if \"x_shape\" not in p:\n",
    "    p.x_shape = [2,256] # Default to this if we dont supply x_shape\n",
    "\n",
    "\n",
    "supplied_keys = set(p.keys())\n",
    "\n",
    "if  supplied_keys != required_parameters:\n",
    "    print(\"Parameters are incorrect\")\n",
    "    if len(supplied_keys - required_parameters)>0: print(\"Shouldn't have:\", str(supplied_keys - required_parameters))\n",
    "    if len(required_parameters - supplied_keys)>0: print(\"Need to have:\", str(required_parameters - supplied_keys))\n",
    "    raise RuntimeError(\"Parameters are incorrect\")"
   ]
  },
  {
   "cell_type": "code",
   "execution_count": 6,
   "id": "3a028d58",
   "metadata": {
    "execution": {
     "iopub.execute_input": "2022-03-18T20:36:20.616953Z",
     "iopub.status.busy": "2022-03-18T20:36:20.616704Z",
     "iopub.status.idle": "2022-03-18T20:36:20.627834Z",
     "shell.execute_reply": "2022-03-18T20:36:20.627582Z"
    },
    "papermill": {
     "duration": 0.025647,
     "end_time": "2022-03-18T20:36:20.627905",
     "exception": false,
     "start_time": "2022-03-18T20:36:20.602258",
     "status": "completed"
    },
    "tags": []
   },
   "outputs": [],
   "source": [
    "###################################\n",
    "# Set the RNGs and make it all deterministic\n",
    "###################################\n",
    "np.random.seed(p.seed)\n",
    "random.seed(p.seed)\n",
    "torch.manual_seed(p.seed)\n",
    "\n",
    "torch.use_deterministic_algorithms(True) "
   ]
  },
  {
   "cell_type": "code",
   "execution_count": 7,
   "id": "b691acf6",
   "metadata": {
    "execution": {
     "iopub.execute_input": "2022-03-18T20:36:20.661639Z",
     "iopub.status.busy": "2022-03-18T20:36:20.661376Z",
     "iopub.status.idle": "2022-03-18T20:36:20.677035Z",
     "shell.execute_reply": "2022-03-18T20:36:20.676568Z"
    },
    "papermill": {
     "duration": 0.03069,
     "end_time": "2022-03-18T20:36:20.677134",
     "exception": false,
     "start_time": "2022-03-18T20:36:20.646444",
     "status": "completed"
    },
    "tags": []
   },
   "outputs": [],
   "source": [
    "###########################################\n",
    "# The stratified datasets honor this\n",
    "###########################################\n",
    "torch.set_default_dtype(eval(p.torch_default_dtype))"
   ]
  },
  {
   "cell_type": "code",
   "execution_count": 8,
   "id": "b5fba671",
   "metadata": {
    "execution": {
     "iopub.execute_input": "2022-03-18T20:36:20.710971Z",
     "iopub.status.busy": "2022-03-18T20:36:20.710728Z",
     "iopub.status.idle": "2022-03-18T20:36:20.746913Z",
     "shell.execute_reply": "2022-03-18T20:36:20.746474Z"
    },
    "papermill": {
     "duration": 0.051384,
     "end_time": "2022-03-18T20:36:20.747022",
     "exception": false,
     "start_time": "2022-03-18T20:36:20.695638",
     "status": "completed"
    },
    "tags": []
   },
   "outputs": [],
   "source": [
    "###################################\n",
    "# Build the network(s)\n",
    "# Note: It's critical to do this AFTER setting the RNG\n",
    "###################################\n",
    "x_net = build_sequential(p.x_net)"
   ]
  },
  {
   "cell_type": "code",
   "execution_count": 9,
   "id": "5d7e61cc",
   "metadata": {
    "execution": {
     "iopub.execute_input": "2022-03-18T20:36:20.782135Z",
     "iopub.status.busy": "2022-03-18T20:36:20.781889Z",
     "iopub.status.idle": "2022-03-18T20:36:20.793204Z",
     "shell.execute_reply": "2022-03-18T20:36:20.792838Z"
    },
    "papermill": {
     "duration": 0.026243,
     "end_time": "2022-03-18T20:36:20.793281",
     "exception": false,
     "start_time": "2022-03-18T20:36:20.767038",
     "status": "completed"
    },
    "tags": []
   },
   "outputs": [],
   "source": [
    "start_time_secs = time.time()"
   ]
  },
  {
   "cell_type": "code",
   "execution_count": 10,
   "id": "c6b67dfd",
   "metadata": {
    "execution": {
     "iopub.execute_input": "2022-03-18T20:36:20.832212Z",
     "iopub.status.busy": "2022-03-18T20:36:20.827567Z",
     "iopub.status.idle": "2022-03-18T20:36:20.843282Z",
     "shell.execute_reply": "2022-03-18T20:36:20.842838Z"
    },
    "papermill": {
     "duration": 0.03155,
     "end_time": "2022-03-18T20:36:20.843381",
     "exception": false,
     "start_time": "2022-03-18T20:36:20.811831",
     "status": "completed"
    },
    "tags": []
   },
   "outputs": [],
   "source": [
    "p.domains_source = []\n",
    "p.domains_target = []\n",
    "\n",
    "\n",
    "train_original_source = []\n",
    "val_original_source   = []\n",
    "test_original_source  = []\n",
    "\n",
    "train_original_target = []\n",
    "val_original_target   = []\n",
    "test_original_target  = []"
   ]
  },
  {
   "cell_type": "code",
   "execution_count": 11,
   "id": "e3d9c3d3",
   "metadata": {
    "execution": {
     "iopub.execute_input": "2022-03-18T20:36:20.875804Z",
     "iopub.status.busy": "2022-03-18T20:36:20.874284Z",
     "iopub.status.idle": "2022-03-18T20:36:20.889828Z",
     "shell.execute_reply": "2022-03-18T20:36:20.889352Z"
    },
    "papermill": {
     "duration": 0.03083,
     "end_time": "2022-03-18T20:36:20.889929",
     "exception": false,
     "start_time": "2022-03-18T20:36:20.859099",
     "status": "completed"
    },
    "tags": []
   },
   "outputs": [],
   "source": [
    "# global_x_transform_func = lambda x: normalize(x.to(torch.get_default_dtype()), \"unit_power\") # unit_power, unit_mag\n",
    "# global_x_transform_func = lambda x: normalize(x, \"unit_power\") # unit_power, unit_mag"
   ]
  },
  {
   "cell_type": "code",
   "execution_count": 12,
   "id": "acb78fd2",
   "metadata": {
    "execution": {
     "iopub.execute_input": "2022-03-18T20:36:20.930356Z",
     "iopub.status.busy": "2022-03-18T20:36:20.928887Z",
     "iopub.status.idle": "2022-03-18T20:36:20.942554Z",
     "shell.execute_reply": "2022-03-18T20:36:20.942086Z"
    },
    "papermill": {
     "duration": 0.033974,
     "end_time": "2022-03-18T20:36:20.942654",
     "exception": false,
     "start_time": "2022-03-18T20:36:20.908680",
     "status": "completed"
    },
    "tags": []
   },
   "outputs": [],
   "source": [
    "def add_dataset(\n",
    "    labels,\n",
    "    domains,\n",
    "    pickle_path,\n",
    "    x_transforms,\n",
    "    episode_transforms,\n",
    "    domain_prefix,\n",
    "    num_examples_per_domain_per_label,\n",
    "    source_or_target_dataset:str,\n",
    "    iterator_seed=p.seed,\n",
    "    dataset_seed=p.dataset_seed,\n",
    "    n_shot=p.n_shot,\n",
    "    n_way=p.n_way,\n",
    "    n_query=p.n_query,\n",
    "    train_val_test_k_factors=(p.train_k_factor,p.val_k_factor,p.test_k_factor),\n",
    "):\n",
    "   \n",
    "    if x_transforms == []: x_transform = None\n",
    "    else: x_transform = get_chained_transform(x_transforms)\n",
    "    \n",
    "    if episode_transforms == []: episode_transform = None\n",
    "    else: raise Exception(\"episode_transforms not implemented\")\n",
    "    \n",
    "    episode_transform = lambda tup, _prefix=domain_prefix: (_prefix + str(tup[0]), tup[1])\n",
    "\n",
    "\n",
    "    eaf = Episodic_Accessor_Factory(\n",
    "        labels=labels,\n",
    "        domains=domains,\n",
    "        num_examples_per_domain_per_label=num_examples_per_domain_per_label,\n",
    "        iterator_seed=iterator_seed,\n",
    "        dataset_seed=dataset_seed,\n",
    "        n_shot=n_shot,\n",
    "        n_way=n_way,\n",
    "        n_query=n_query,\n",
    "        train_val_test_k_factors=train_val_test_k_factors,\n",
    "        pickle_path=pickle_path,\n",
    "        x_transform_func=x_transform,\n",
    "    )\n",
    "\n",
    "    train, val, test = eaf.get_train(), eaf.get_val(), eaf.get_test()\n",
    "    train = Lazy_Iterable_Wrapper(train, episode_transform)\n",
    "    val = Lazy_Iterable_Wrapper(val, episode_transform)\n",
    "    test = Lazy_Iterable_Wrapper(test, episode_transform)\n",
    "\n",
    "    if source_or_target_dataset==\"source\":\n",
    "        train_original_source.append(train)\n",
    "        val_original_source.append(val)\n",
    "        test_original_source.append(test)\n",
    "\n",
    "        p.domains_source.extend(\n",
    "            [domain_prefix + str(u) for u in domains]\n",
    "        )\n",
    "    elif source_or_target_dataset==\"target\":\n",
    "        train_original_target.append(train)\n",
    "        val_original_target.append(val)\n",
    "        test_original_target.append(test)\n",
    "        p.domains_target.extend(\n",
    "            [domain_prefix + str(u) for u in domains]\n",
    "        )\n",
    "    else:\n",
    "        raise Exception(f\"invalid source_or_target_dataset: {source_or_target_dataset}\")\n",
    "    "
   ]
  },
  {
   "cell_type": "code",
   "execution_count": 13,
   "id": "fe266617",
   "metadata": {
    "execution": {
     "iopub.execute_input": "2022-03-18T20:36:20.978333Z",
     "iopub.status.busy": "2022-03-18T20:36:20.977557Z",
     "iopub.status.idle": "2022-03-18T20:37:00.021815Z",
     "shell.execute_reply": "2022-03-18T20:37:00.021384Z"
    },
    "papermill": {
     "duration": 39.059642,
     "end_time": "2022-03-18T20:37:00.021932",
     "exception": false,
     "start_time": "2022-03-18T20:36:20.962290",
     "status": "completed"
    },
    "tags": []
   },
   "outputs": [],
   "source": [
    "for ds in p.datasets:\n",
    "    add_dataset(**ds)"
   ]
  },
  {
   "cell_type": "code",
   "execution_count": 14,
   "id": "b90d65ac",
   "metadata": {
    "execution": {
     "iopub.execute_input": "2022-03-18T20:37:00.058346Z",
     "iopub.status.busy": "2022-03-18T20:37:00.058094Z",
     "iopub.status.idle": "2022-03-18T20:37:00.073920Z",
     "shell.execute_reply": "2022-03-18T20:37:00.073555Z"
    },
    "papermill": {
     "duration": 0.031522,
     "end_time": "2022-03-18T20:37:00.073999",
     "exception": false,
     "start_time": "2022-03-18T20:37:00.042477",
     "status": "completed"
    },
    "tags": []
   },
   "outputs": [],
   "source": [
    "# from steves_utils.CORES.utils import (\n",
    "#     ALL_NODES,\n",
    "#     ALL_NODES_MINIMUM_1000_EXAMPLES,\n",
    "#     ALL_DAYS\n",
    "# )\n",
    "\n",
    "# add_dataset(\n",
    "#     labels=ALL_NODES,\n",
    "#     domains = ALL_DAYS,\n",
    "#     num_examples_per_domain_per_label=100,\n",
    "#     pickle_path=os.path.join(get_datasets_base_path(), \"cores.stratified_ds.2022A.pkl\"),\n",
    "#     source_or_target_dataset=\"target\",\n",
    "#     x_transform_func=global_x_transform_func,\n",
    "#     domain_modifier=lambda u: f\"cores_{u}\"\n",
    "# )"
   ]
  },
  {
   "cell_type": "code",
   "execution_count": 15,
   "id": "76db484d",
   "metadata": {
    "execution": {
     "iopub.execute_input": "2022-03-18T20:37:00.107775Z",
     "iopub.status.busy": "2022-03-18T20:37:00.107527Z",
     "iopub.status.idle": "2022-03-18T20:37:00.120211Z",
     "shell.execute_reply": "2022-03-18T20:37:00.119848Z"
    },
    "papermill": {
     "duration": 0.028943,
     "end_time": "2022-03-18T20:37:00.120289",
     "exception": false,
     "start_time": "2022-03-18T20:37:00.091346",
     "status": "completed"
    },
    "tags": []
   },
   "outputs": [],
   "source": [
    "# from steves_utils.ORACLE.utils_v2 import (\n",
    "#     ALL_DISTANCES_FEET,\n",
    "#     ALL_RUNS,\n",
    "#     ALL_SERIAL_NUMBERS,\n",
    "# )\n",
    "\n",
    "\n",
    "# add_dataset(\n",
    "#     labels=ALL_SERIAL_NUMBERS,\n",
    "#     domains = list(set(ALL_DISTANCES_FEET) - {2,62}),\n",
    "#     num_examples_per_domain_per_label=100,\n",
    "#     pickle_path=os.path.join(get_datasets_base_path(), \"oracle.Run2_framed_2000Examples_stratified_ds.2022A.pkl\"),\n",
    "#     source_or_target_dataset=\"source\",\n",
    "#     x_transform_func=global_x_transform_func,\n",
    "#     domain_modifier=lambda u: f\"oracle1_{u}\"\n",
    "# )\n"
   ]
  },
  {
   "cell_type": "code",
   "execution_count": 16,
   "id": "97dea9d2",
   "metadata": {
    "execution": {
     "iopub.execute_input": "2022-03-18T20:37:00.156631Z",
     "iopub.status.busy": "2022-03-18T20:37:00.156374Z",
     "iopub.status.idle": "2022-03-18T20:37:00.171106Z",
     "shell.execute_reply": "2022-03-18T20:37:00.170673Z"
    },
    "papermill": {
     "duration": 0.029861,
     "end_time": "2022-03-18T20:37:00.171211",
     "exception": false,
     "start_time": "2022-03-18T20:37:00.141350",
     "status": "completed"
    },
    "tags": []
   },
   "outputs": [],
   "source": [
    "# from steves_utils.ORACLE.utils_v2 import (\n",
    "#     ALL_DISTANCES_FEET,\n",
    "#     ALL_RUNS,\n",
    "#     ALL_SERIAL_NUMBERS,\n",
    "# )\n",
    "\n",
    "\n",
    "# add_dataset(\n",
    "#     labels=ALL_SERIAL_NUMBERS,\n",
    "#     domains = list(set(ALL_DISTANCES_FEET) - {2,62,56}),\n",
    "#     num_examples_per_domain_per_label=100,\n",
    "#     pickle_path=os.path.join(get_datasets_base_path(), \"oracle.Run2_framed_2000Examples_stratified_ds.2022A.pkl\"),\n",
    "#     source_or_target_dataset=\"source\",\n",
    "#     x_transform_func=global_x_transform_func,\n",
    "#     domain_modifier=lambda u: f\"oracle2_{u}\"\n",
    "# )"
   ]
  },
  {
   "cell_type": "code",
   "execution_count": 17,
   "id": "6f289866",
   "metadata": {
    "execution": {
     "iopub.execute_input": "2022-03-18T20:37:00.205263Z",
     "iopub.status.busy": "2022-03-18T20:37:00.205014Z",
     "iopub.status.idle": "2022-03-18T20:37:00.216009Z",
     "shell.execute_reply": "2022-03-18T20:37:00.215568Z"
    },
    "papermill": {
     "duration": 0.026275,
     "end_time": "2022-03-18T20:37:00.216109",
     "exception": false,
     "start_time": "2022-03-18T20:37:00.189834",
     "status": "completed"
    },
    "tags": []
   },
   "outputs": [],
   "source": [
    "# add_dataset(\n",
    "#     labels=list(range(19)),\n",
    "#     domains = [0,1,2],\n",
    "#     num_examples_per_domain_per_label=100,\n",
    "#     pickle_path=os.path.join(get_datasets_base_path(), \"metehan.stratified_ds.2022A.pkl\"),\n",
    "#     source_or_target_dataset=\"target\",\n",
    "#     x_transform_func=global_x_transform_func,\n",
    "#     domain_modifier=lambda u: f\"met_{u}\"\n",
    "# )"
   ]
  },
  {
   "cell_type": "code",
   "execution_count": 18,
   "id": "86a863c3",
   "metadata": {
    "execution": {
     "iopub.execute_input": "2022-03-18T20:37:00.251559Z",
     "iopub.status.busy": "2022-03-18T20:37:00.247935Z",
     "iopub.status.idle": "2022-03-18T20:37:00.262785Z",
     "shell.execute_reply": "2022-03-18T20:37:00.262312Z"
    },
    "papermill": {
     "duration": 0.03098,
     "end_time": "2022-03-18T20:37:00.262883",
     "exception": false,
     "start_time": "2022-03-18T20:37:00.231903",
     "status": "completed"
    },
    "tags": []
   },
   "outputs": [],
   "source": [
    "# # from steves_utils.wisig.utils import (\n",
    "# #     ALL_NODES_MINIMUM_100_EXAMPLES,\n",
    "# #     ALL_NODES_MINIMUM_500_EXAMPLES,\n",
    "# #     ALL_NODES_MINIMUM_1000_EXAMPLES,\n",
    "# #     ALL_DAYS\n",
    "# # )\n",
    "\n",
    "# import steves_utils.wisig.utils as wisig\n",
    "\n",
    "\n",
    "# add_dataset(\n",
    "#     labels=wisig.ALL_NODES_MINIMUM_100_EXAMPLES,\n",
    "#     domains = wisig.ALL_DAYS,\n",
    "#     num_examples_per_domain_per_label=100,\n",
    "#     pickle_path=os.path.join(get_datasets_base_path(), \"wisig.node3-19.stratified_ds.2022A.pkl\"),\n",
    "#     source_or_target_dataset=\"target\",\n",
    "#     x_transform_func=global_x_transform_func,\n",
    "#     domain_modifier=lambda u: f\"wisig_{u}\"\n",
    "# )"
   ]
  },
  {
   "cell_type": "code",
   "execution_count": 19,
   "id": "fd5442bc",
   "metadata": {
    "execution": {
     "iopub.execute_input": "2022-03-18T20:37:00.298677Z",
     "iopub.status.busy": "2022-03-18T20:37:00.298411Z",
     "iopub.status.idle": "2022-03-18T20:37:00.314920Z",
     "shell.execute_reply": "2022-03-18T20:37:00.314473Z"
    },
    "papermill": {
     "duration": 0.033541,
     "end_time": "2022-03-18T20:37:00.315020",
     "exception": false,
     "start_time": "2022-03-18T20:37:00.281479",
     "status": "completed"
    },
    "tags": []
   },
   "outputs": [],
   "source": [
    "###################################\n",
    "# Build the dataset\n",
    "###################################\n",
    "train_original_source = Iterable_Aggregator(train_original_source, p.seed)\n",
    "val_original_source = Iterable_Aggregator(val_original_source, p.seed)\n",
    "test_original_source = Iterable_Aggregator(test_original_source, p.seed)\n",
    "\n",
    "\n",
    "train_original_target = Iterable_Aggregator(train_original_target, p.seed)\n",
    "val_original_target = Iterable_Aggregator(val_original_target, p.seed)\n",
    "test_original_target = Iterable_Aggregator(test_original_target, p.seed)\n",
    "\n",
    "# For CNN We only use X and Y. And we only train on the source.\n",
    "# Properly form the data using a transform lambda and Lazy_Iterable_Wrapper. Finally wrap them in a dataloader\n",
    "\n",
    "transform_lambda = lambda ex: ex[1] # Original is (<domain>, <episode>) so we strip down to episode only\n",
    "\n",
    "train_processed_source = Lazy_Iterable_Wrapper(train_original_source, transform_lambda)\n",
    "val_processed_source   = Lazy_Iterable_Wrapper(val_original_source, transform_lambda)\n",
    "test_processed_source  = Lazy_Iterable_Wrapper(test_original_source, transform_lambda)\n",
    "\n",
    "train_processed_target = Lazy_Iterable_Wrapper(train_original_target, transform_lambda)\n",
    "val_processed_target   = Lazy_Iterable_Wrapper(val_original_target, transform_lambda)\n",
    "test_processed_target  = Lazy_Iterable_Wrapper(test_original_target, transform_lambda)\n",
    "\n",
    "datasets = EasyDict({\n",
    "    \"source\": {\n",
    "        \"original\": {\"train\":train_original_source, \"val\":val_original_source, \"test\":test_original_source},\n",
    "        \"processed\": {\"train\":train_processed_source, \"val\":val_processed_source, \"test\":test_processed_source}\n",
    "    },\n",
    "    \"target\": {\n",
    "        \"original\": {\"train\":train_original_target, \"val\":val_original_target, \"test\":test_original_target},\n",
    "        \"processed\": {\"train\":train_processed_target, \"val\":val_processed_target, \"test\":test_processed_target}\n",
    "    },\n",
    "})"
   ]
  },
  {
   "cell_type": "code",
   "execution_count": 20,
   "id": "5b3c01fc",
   "metadata": {
    "execution": {
     "iopub.execute_input": "2022-03-18T20:37:00.349778Z",
     "iopub.status.busy": "2022-03-18T20:37:00.349521Z",
     "iopub.status.idle": "2022-03-18T20:37:05.279992Z",
     "shell.execute_reply": "2022-03-18T20:37:05.280403Z"
    },
    "papermill": {
     "duration": 4.946841,
     "end_time": "2022-03-18T20:37:05.280535",
     "exception": false,
     "start_time": "2022-03-18T20:37:00.333694",
     "status": "completed"
    },
    "tags": []
   },
   "outputs": [
    {
     "name": "stdout",
     "output_type": "stream",
     "text": [
      "{'ORACLE.run1_8', 'ORACLE.run1_32', 'ORACLE.run1_14', 'ORACLE.run1_44', 'ORACLE.run1_38', 'ORACLE.run1_20', 'ORACLE.run1_26', 'ORACLE.run1_50'}\n"
     ]
    },
    {
     "name": "stdout",
     "output_type": "stream",
     "text": [
      "{'W_A_3', 'C_A_4', 'C_A_1', 'W_A_2', 'C_A_5', 'W_A_1', 'W_A_4', 'C_A_2', 'C_A_3'}\n"
     ]
    },
    {
     "name": "stdout",
     "output_type": "stream",
     "text": [
      "tensor([[[ 0.5423,  1.1944, -0.2807,  ...,  0.4041, -0.0787,  1.0690],\n",
      "         [-0.4198,  0.2945,  0.3174,  ...,  0.6411,  1.0944,  0.1693]],\n",
      "\n",
      "        [[ 0.1078,  1.3450,  0.2456,  ...,  0.3707,  0.0437,  1.1405],\n",
      "         [-0.6826, -0.1237,  0.5266,  ...,  0.4243,  1.2597,  0.1902]],\n",
      "\n",
      "        [[-1.0305, -0.1004,  1.5317,  ...,  0.2312, -1.0015, -1.2624],\n",
      "         [-0.3073, -0.3391,  0.0166,  ..., -1.0276, -0.7892, -0.7877]],\n",
      "\n",
      "        ...,\n",
      "\n",
      "        [[-0.3504,  0.1759,  0.4702,  ...,  0.6580,  1.3111,  0.6339],\n",
      "         [-0.2867, -1.2798, -0.1023,  ..., -0.9140,  0.1498, -0.5437]],\n",
      "\n",
      "        [[ 0.5686, -0.2772, -0.7440,  ..., -0.8192, -1.0076, -0.0458],\n",
      "         [ 0.9067,  1.3000, -0.4746,  ...,  0.1979, -0.0920,  1.0664]],\n",
      "\n",
      "        [[ 0.4492, -0.5145, -0.8789,  ..., -1.1034, -0.9434, -0.2885],\n",
      "         [ 1.0532,  1.2647, -0.7126,  ...,  0.1576,  0.2106,  1.4365]]])\n"
     ]
    }
   ],
   "source": [
    "from steves_utils.transforms import get_average_magnitude, get_average_power\n",
    "\n",
    "print(set([u for u,_ in val_original_source]))\n",
    "print(set([u for u,_ in val_original_target]))\n",
    "\n",
    "s_x, s_y, q_x, q_y, _ = next(iter(train_processed_source))\n",
    "print(s_x)\n",
    "\n",
    "# for ds in [\n",
    "#     train_processed_source,\n",
    "#     val_processed_source,\n",
    "#     test_processed_source,\n",
    "#     train_processed_target,\n",
    "#     val_processed_target,\n",
    "#     test_processed_target\n",
    "# ]:\n",
    "#     for s_x, s_y, q_x, q_y, _ in ds:\n",
    "#         for X in (s_x, q_x):\n",
    "#             for x in X:\n",
    "#                 assert np.isclose(get_average_magnitude(x.numpy()), 1.0)\n",
    "#                 assert np.isclose(get_average_power(x.numpy()), 1.0)\n",
    "                "
   ]
  },
  {
   "cell_type": "code",
   "execution_count": 21,
   "id": "bbdacba1",
   "metadata": {
    "execution": {
     "iopub.execute_input": "2022-03-18T20:37:05.314280Z",
     "iopub.status.busy": "2022-03-18T20:37:05.314025Z",
     "iopub.status.idle": "2022-03-18T20:37:05.362893Z",
     "shell.execute_reply": "2022-03-18T20:37:05.362384Z"
    },
    "papermill": {
     "duration": 0.066016,
     "end_time": "2022-03-18T20:37:05.363002",
     "exception": false,
     "start_time": "2022-03-18T20:37:05.296986",
     "status": "completed"
    },
    "tags": []
   },
   "outputs": [
    {
     "name": "stdout",
     "output_type": "stream",
     "text": [
      "(2, 200)\n"
     ]
    }
   ],
   "source": [
    "###################################\n",
    "# Build the model\n",
    "###################################\n",
    "# easfsl only wants a tuple for the shape\n",
    "model = Steves_Prototypical_Network(x_net, device=p.device, x_shape=tuple(p.x_shape))\n",
    "optimizer = Adam(params=model.parameters(), lr=p.lr)"
   ]
  },
  {
   "cell_type": "code",
   "execution_count": 22,
   "id": "22b39ac5",
   "metadata": {
    "execution": {
     "iopub.execute_input": "2022-03-18T20:37:05.400251Z",
     "iopub.status.busy": "2022-03-18T20:37:05.399999Z",
     "iopub.status.idle": "2022-03-18T21:01:00.903003Z",
     "shell.execute_reply": "2022-03-18T21:01:00.902772Z"
    },
    "papermill": {
     "duration": 1435.520116,
     "end_time": "2022-03-18T21:01:00.903062",
     "exception": false,
     "start_time": "2022-03-18T20:37:05.382946",
     "status": "completed"
    },
    "tags": []
   },
   "outputs": [
    {
     "name": "stdout",
     "output_type": "stream",
     "text": [
      "epoch: 1, [batch: 1 / 6720], examples_per_second: 48.4016, train_label_loss: 3.0289, \n"
     ]
    },
    {
     "name": "stdout",
     "output_type": "stream",
     "text": [
      "epoch: 1, [batch: 672 / 6720], examples_per_second: 3626.1543, train_label_loss: 1.8119, \n"
     ]
    },
    {
     "name": "stdout",
     "output_type": "stream",
     "text": [
      "epoch: 1, [batch: 1344 / 6720], examples_per_second: 3665.7086, train_label_loss: 0.8496, \n"
     ]
    },
    {
     "name": "stdout",
     "output_type": "stream",
     "text": [
      "epoch: 1, [batch: 2016 / 6720], examples_per_second: 3658.0176, train_label_loss: 0.7234, \n"
     ]
    },
    {
     "name": "stdout",
     "output_type": "stream",
     "text": [
      "epoch: 1, [batch: 2688 / 6720], examples_per_second: 3637.6408, train_label_loss: 0.7313, \n"
     ]
    },
    {
     "name": "stdout",
     "output_type": "stream",
     "text": [
      "epoch: 1, [batch: 3360 / 6720], examples_per_second: 3647.2879, train_label_loss: 0.7866, \n"
     ]
    },
    {
     "name": "stdout",
     "output_type": "stream",
     "text": [
      "epoch: 1, [batch: 4032 / 6720], examples_per_second: 3642.2001, train_label_loss: 0.8933, \n"
     ]
    },
    {
     "name": "stdout",
     "output_type": "stream",
     "text": [
      "epoch: 1, [batch: 4704 / 6720], examples_per_second: 3622.4595, train_label_loss: 0.6685, \n"
     ]
    },
    {
     "name": "stdout",
     "output_type": "stream",
     "text": [
      "epoch: 1, [batch: 5376 / 6720], examples_per_second: 3635.2328, train_label_loss: 0.9646, \n"
     ]
    },
    {
     "name": "stdout",
     "output_type": "stream",
     "text": [
      "epoch: 1, [batch: 6048 / 6720], examples_per_second: 3641.7683, train_label_loss: 0.9995, \n"
     ]
    },
    {
     "name": "stdout",
     "output_type": "stream",
     "text": [
      "=============================================================\n",
      "epoch: 1, source_val_acc_label: 0.6046, target_val_acc_label: 0.4873, source_val_label_loss: 1.2202, target_val_label_loss: 50.4123, \n",
      "=============================================================\n"
     ]
    },
    {
     "name": "stdout",
     "output_type": "stream",
     "text": [
      "New best\n"
     ]
    },
    {
     "name": "stdout",
     "output_type": "stream",
     "text": [
      "epoch: 2, [batch: 1 / 6720], examples_per_second: 6.0393, train_label_loss: 0.8812, \n"
     ]
    },
    {
     "name": "stdout",
     "output_type": "stream",
     "text": [
      "epoch: 2, [batch: 672 / 6720], examples_per_second: 3638.5321, train_label_loss: 1.3476, \n"
     ]
    },
    {
     "name": "stdout",
     "output_type": "stream",
     "text": [
      "epoch: 2, [batch: 1344 / 6720], examples_per_second: 3666.6615, train_label_loss: 1.0445, \n"
     ]
    },
    {
     "name": "stdout",
     "output_type": "stream",
     "text": [
      "epoch: 2, [batch: 2016 / 6720], examples_per_second: 3642.3337, train_label_loss: 1.0842, \n"
     ]
    },
    {
     "name": "stdout",
     "output_type": "stream",
     "text": [
      "epoch: 2, [batch: 2688 / 6720], examples_per_second: 3633.7724, train_label_loss: 0.6048, \n"
     ]
    },
    {
     "name": "stdout",
     "output_type": "stream",
     "text": [
      "epoch: 2, [batch: 3360 / 6720], examples_per_second: 3650.6224, train_label_loss: 0.8265, \n"
     ]
    },
    {
     "name": "stdout",
     "output_type": "stream",
     "text": [
      "epoch: 2, [batch: 4032 / 6720], examples_per_second: 3650.7298, train_label_loss: 1.1265, \n"
     ]
    },
    {
     "name": "stdout",
     "output_type": "stream",
     "text": [
      "epoch: 2, [batch: 4704 / 6720], examples_per_second: 3630.0640, train_label_loss: 0.6497, \n"
     ]
    },
    {
     "name": "stdout",
     "output_type": "stream",
     "text": [
      "epoch: 2, [batch: 5376 / 6720], examples_per_second: 3660.2172, train_label_loss: 1.2586, \n"
     ]
    },
    {
     "name": "stdout",
     "output_type": "stream",
     "text": [
      "epoch: 2, [batch: 6048 / 6720], examples_per_second: 3621.6787, train_label_loss: 0.8478, \n"
     ]
    },
    {
     "name": "stdout",
     "output_type": "stream",
     "text": [
      "=============================================================\n",
      "epoch: 2, source_val_acc_label: 0.7104, target_val_acc_label: 0.6473, source_val_label_loss: 0.8174, target_val_label_loss: 20.8114, \n",
      "=============================================================\n"
     ]
    },
    {
     "name": "stdout",
     "output_type": "stream",
     "text": [
      "New best\n"
     ]
    },
    {
     "name": "stdout",
     "output_type": "stream",
     "text": [
      "epoch: 3, [batch: 1 / 6720], examples_per_second: 5.9895, train_label_loss: 1.2841, \n"
     ]
    },
    {
     "name": "stdout",
     "output_type": "stream",
     "text": [
      "epoch: 3, [batch: 672 / 6720], examples_per_second: 3623.5173, train_label_loss: 0.4580, \n"
     ]
    },
    {
     "name": "stdout",
     "output_type": "stream",
     "text": [
      "epoch: 3, [batch: 1344 / 6720], examples_per_second: 3646.4962, train_label_loss: 0.3875, \n"
     ]
    },
    {
     "name": "stdout",
     "output_type": "stream",
     "text": [
      "epoch: 3, [batch: 2016 / 6720], examples_per_second: 3643.5449, train_label_loss: 0.5570, \n"
     ]
    },
    {
     "name": "stdout",
     "output_type": "stream",
     "text": [
      "epoch: 3, [batch: 2688 / 6720], examples_per_second: 3626.4191, train_label_loss: 0.5390, \n"
     ]
    },
    {
     "name": "stdout",
     "output_type": "stream",
     "text": [
      "epoch: 3, [batch: 3360 / 6720], examples_per_second: 3640.9047, train_label_loss: 0.4609, \n"
     ]
    },
    {
     "name": "stdout",
     "output_type": "stream",
     "text": [
      "epoch: 3, [batch: 4032 / 6720], examples_per_second: 3636.0440, train_label_loss: 0.6343, \n"
     ]
    },
    {
     "name": "stdout",
     "output_type": "stream",
     "text": [
      "epoch: 3, [batch: 4704 / 6720], examples_per_second: 3651.7201, train_label_loss: 0.9561, \n"
     ]
    },
    {
     "name": "stdout",
     "output_type": "stream",
     "text": [
      "epoch: 3, [batch: 5376 / 6720], examples_per_second: 3629.3569, train_label_loss: 0.9508, \n"
     ]
    },
    {
     "name": "stdout",
     "output_type": "stream",
     "text": [
      "epoch: 3, [batch: 6048 / 6720], examples_per_second: 3637.1341, train_label_loss: 0.7766, \n"
     ]
    },
    {
     "name": "stdout",
     "output_type": "stream",
     "text": [
      "=============================================================\n",
      "epoch: 3, source_val_acc_label: 0.7499, target_val_acc_label: 0.6426, source_val_label_loss: 0.6895, target_val_label_loss: 14.6284, \n",
      "=============================================================\n"
     ]
    },
    {
     "name": "stdout",
     "output_type": "stream",
     "text": [
      "New best\n"
     ]
    },
    {
     "name": "stdout",
     "output_type": "stream",
     "text": [
      "epoch: 4, [batch: 1 / 6720], examples_per_second: 6.0289, train_label_loss: 0.6455, \n"
     ]
    },
    {
     "name": "stdout",
     "output_type": "stream",
     "text": [
      "epoch: 4, [batch: 672 / 6720], examples_per_second: 3637.5067, train_label_loss: 0.4947, \n"
     ]
    },
    {
     "name": "stdout",
     "output_type": "stream",
     "text": [
      "epoch: 4, [batch: 1344 / 6720], examples_per_second: 3652.1515, train_label_loss: 0.6870, \n"
     ]
    },
    {
     "name": "stdout",
     "output_type": "stream",
     "text": [
      "epoch: 4, [batch: 2016 / 6720], examples_per_second: 3643.3915, train_label_loss: 0.2964, \n"
     ]
    },
    {
     "name": "stdout",
     "output_type": "stream",
     "text": [
      "epoch: 4, [batch: 2688 / 6720], examples_per_second: 3652.3294, train_label_loss: 0.7831, \n"
     ]
    },
    {
     "name": "stdout",
     "output_type": "stream",
     "text": [
      "epoch: 4, [batch: 3360 / 6720], examples_per_second: 3645.1286, train_label_loss: 0.9390, \n"
     ]
    },
    {
     "name": "stdout",
     "output_type": "stream",
     "text": [
      "epoch: 4, [batch: 4032 / 6720], examples_per_second: 3645.5736, train_label_loss: 0.7881, \n"
     ]
    },
    {
     "name": "stdout",
     "output_type": "stream",
     "text": [
      "epoch: 4, [batch: 4704 / 6720], examples_per_second: 3625.7033, train_label_loss: 1.3779, \n"
     ]
    },
    {
     "name": "stdout",
     "output_type": "stream",
     "text": [
      "epoch: 4, [batch: 5376 / 6720], examples_per_second: 3652.3648, train_label_loss: 0.7547, \n"
     ]
    },
    {
     "name": "stdout",
     "output_type": "stream",
     "text": [
      "epoch: 4, [batch: 6048 / 6720], examples_per_second: 3640.2992, train_label_loss: 0.6706, \n"
     ]
    },
    {
     "name": "stdout",
     "output_type": "stream",
     "text": [
      "=============================================================\n",
      "epoch: 4, source_val_acc_label: 0.8132, target_val_acc_label: 0.6064, source_val_label_loss: 0.5236, target_val_label_loss: 13.2834, \n",
      "=============================================================\n"
     ]
    },
    {
     "name": "stdout",
     "output_type": "stream",
     "text": [
      "New best\n"
     ]
    },
    {
     "name": "stdout",
     "output_type": "stream",
     "text": [
      "epoch: 5, [batch: 1 / 6720], examples_per_second: 6.0302, train_label_loss: 0.4940, \n"
     ]
    },
    {
     "name": "stdout",
     "output_type": "stream",
     "text": [
      "epoch: 5, [batch: 672 / 6720], examples_per_second: 3627.7578, train_label_loss: 0.6370, \n"
     ]
    },
    {
     "name": "stdout",
     "output_type": "stream",
     "text": [
      "epoch: 5, [batch: 1344 / 6720], examples_per_second: 3639.7236, train_label_loss: 0.3274, \n"
     ]
    },
    {
     "name": "stdout",
     "output_type": "stream",
     "text": [
      "epoch: 5, [batch: 2016 / 6720], examples_per_second: 3667.0163, train_label_loss: 0.1996, \n"
     ]
    },
    {
     "name": "stdout",
     "output_type": "stream",
     "text": [
      "epoch: 5, [batch: 2688 / 6720], examples_per_second: 3597.3973, train_label_loss: 0.3820, \n"
     ]
    },
    {
     "name": "stdout",
     "output_type": "stream",
     "text": [
      "epoch: 5, [batch: 3360 / 6720], examples_per_second: 3627.0993, train_label_loss: 0.5947, \n"
     ]
    },
    {
     "name": "stdout",
     "output_type": "stream",
     "text": [
      "epoch: 5, [batch: 4032 / 6720], examples_per_second: 3636.8851, train_label_loss: 0.2489, \n"
     ]
    },
    {
     "name": "stdout",
     "output_type": "stream",
     "text": [
      "epoch: 5, [batch: 4704 / 6720], examples_per_second: 3622.5286, train_label_loss: 0.3788, \n"
     ]
    },
    {
     "name": "stdout",
     "output_type": "stream",
     "text": [
      "epoch: 5, [batch: 5376 / 6720], examples_per_second: 3640.1197, train_label_loss: 0.2808, \n"
     ]
    },
    {
     "name": "stdout",
     "output_type": "stream",
     "text": [
      "epoch: 5, [batch: 6048 / 6720], examples_per_second: 3640.3102, train_label_loss: 0.7757, \n"
     ]
    },
    {
     "name": "stdout",
     "output_type": "stream",
     "text": [
      "=============================================================\n",
      "epoch: 5, source_val_acc_label: 0.8179, target_val_acc_label: 0.6255, source_val_label_loss: 0.5040, target_val_label_loss: 10.4328, \n",
      "=============================================================\n"
     ]
    },
    {
     "name": "stdout",
     "output_type": "stream",
     "text": [
      "New best\n"
     ]
    },
    {
     "name": "stdout",
     "output_type": "stream",
     "text": [
      "epoch: 6, [batch: 1 / 6720], examples_per_second: 6.0360, train_label_loss: 0.9493, \n"
     ]
    },
    {
     "name": "stdout",
     "output_type": "stream",
     "text": [
      "epoch: 6, [batch: 672 / 6720], examples_per_second: 3630.8263, train_label_loss: 0.2223, \n"
     ]
    },
    {
     "name": "stdout",
     "output_type": "stream",
     "text": [
      "epoch: 6, [batch: 1344 / 6720], examples_per_second: 3654.3475, train_label_loss: 0.4434, \n"
     ]
    },
    {
     "name": "stdout",
     "output_type": "stream",
     "text": [
      "epoch: 6, [batch: 2016 / 6720], examples_per_second: 3665.9062, train_label_loss: 0.5815, \n"
     ]
    },
    {
     "name": "stdout",
     "output_type": "stream",
     "text": [
      "epoch: 6, [batch: 2688 / 6720], examples_per_second: 3635.6170, train_label_loss: 0.4460, \n"
     ]
    },
    {
     "name": "stdout",
     "output_type": "stream",
     "text": [
      "epoch: 6, [batch: 3360 / 6720], examples_per_second: 3655.8371, train_label_loss: 0.6318, \n"
     ]
    },
    {
     "name": "stdout",
     "output_type": "stream",
     "text": [
      "epoch: 6, [batch: 4032 / 6720], examples_per_second: 3649.7825, train_label_loss: 0.4661, \n"
     ]
    },
    {
     "name": "stdout",
     "output_type": "stream",
     "text": [
      "epoch: 6, [batch: 4704 / 6720], examples_per_second: 3649.4132, train_label_loss: 0.4798, \n"
     ]
    },
    {
     "name": "stdout",
     "output_type": "stream",
     "text": [
      "epoch: 6, [batch: 5376 / 6720], examples_per_second: 3650.1398, train_label_loss: 0.2089, \n"
     ]
    },
    {
     "name": "stdout",
     "output_type": "stream",
     "text": [
      "epoch: 6, [batch: 6048 / 6720], examples_per_second: 3660.7913, train_label_loss: 0.6838, \n"
     ]
    },
    {
     "name": "stdout",
     "output_type": "stream",
     "text": [
      "=============================================================\n",
      "epoch: 6, source_val_acc_label: 0.8308, target_val_acc_label: 0.6292, source_val_label_loss: 0.4761, target_val_label_loss: 10.7946, \n",
      "=============================================================\n"
     ]
    },
    {
     "name": "stdout",
     "output_type": "stream",
     "text": [
      "epoch: 7, [batch: 1 / 6720], examples_per_second: 6.0085, train_label_loss: 0.2935, \n"
     ]
    },
    {
     "name": "stdout",
     "output_type": "stream",
     "text": [
      "epoch: 7, [batch: 672 / 6720], examples_per_second: 3622.1234, train_label_loss: 0.3542, \n"
     ]
    },
    {
     "name": "stdout",
     "output_type": "stream",
     "text": [
      "epoch: 7, [batch: 1344 / 6720], examples_per_second: 3617.8489, train_label_loss: 0.7586, \n"
     ]
    },
    {
     "name": "stdout",
     "output_type": "stream",
     "text": [
      "epoch: 7, [batch: 2016 / 6720], examples_per_second: 3598.6999, train_label_loss: 0.2801, \n"
     ]
    },
    {
     "name": "stdout",
     "output_type": "stream",
     "text": [
      "epoch: 7, [batch: 2688 / 6720], examples_per_second: 3600.7925, train_label_loss: 0.3804, \n"
     ]
    },
    {
     "name": "stdout",
     "output_type": "stream",
     "text": [
      "epoch: 7, [batch: 3360 / 6720], examples_per_second: 3639.8329, train_label_loss: 0.4469, \n"
     ]
    },
    {
     "name": "stdout",
     "output_type": "stream",
     "text": [
      "epoch: 7, [batch: 4032 / 6720], examples_per_second: 3647.9510, train_label_loss: 0.7724, \n"
     ]
    },
    {
     "name": "stdout",
     "output_type": "stream",
     "text": [
      "epoch: 7, [batch: 4704 / 6720], examples_per_second: 3623.2557, train_label_loss: 0.4648, \n"
     ]
    },
    {
     "name": "stdout",
     "output_type": "stream",
     "text": [
      "epoch: 7, [batch: 5376 / 6720], examples_per_second: 3632.0983, train_label_loss: 0.2783, \n"
     ]
    },
    {
     "name": "stdout",
     "output_type": "stream",
     "text": [
      "epoch: 7, [batch: 6048 / 6720], examples_per_second: 3643.1491, train_label_loss: 0.2327, \n"
     ]
    },
    {
     "name": "stdout",
     "output_type": "stream",
     "text": [
      "=============================================================\n",
      "epoch: 7, source_val_acc_label: 0.8250, target_val_acc_label: 0.6404, source_val_label_loss: 0.4805, target_val_label_loss: 10.7421, \n",
      "=============================================================\n"
     ]
    },
    {
     "name": "stdout",
     "output_type": "stream",
     "text": [
      "epoch: 8, [batch: 1 / 6720], examples_per_second: 6.0040, train_label_loss: 0.5541, \n"
     ]
    },
    {
     "name": "stdout",
     "output_type": "stream",
     "text": [
      "epoch: 8, [batch: 672 / 6720], examples_per_second: 3620.6801, train_label_loss: 0.5209, \n"
     ]
    },
    {
     "name": "stdout",
     "output_type": "stream",
     "text": [
      "epoch: 8, [batch: 1344 / 6720], examples_per_second: 3636.9097, train_label_loss: 0.2275, \n"
     ]
    },
    {
     "name": "stdout",
     "output_type": "stream",
     "text": [
      "epoch: 8, [batch: 2016 / 6720], examples_per_second: 3642.6594, train_label_loss: 0.8592, \n"
     ]
    },
    {
     "name": "stdout",
     "output_type": "stream",
     "text": [
      "epoch: 8, [batch: 2688 / 6720], examples_per_second: 3626.9446, train_label_loss: 0.2826, \n"
     ]
    },
    {
     "name": "stdout",
     "output_type": "stream",
     "text": [
      "epoch: 8, [batch: 3360 / 6720], examples_per_second: 3646.7304, train_label_loss: 0.2431, \n"
     ]
    },
    {
     "name": "stdout",
     "output_type": "stream",
     "text": [
      "epoch: 8, [batch: 4032 / 6720], examples_per_second: 3657.5505, train_label_loss: 0.7632, \n"
     ]
    },
    {
     "name": "stdout",
     "output_type": "stream",
     "text": [
      "epoch: 8, [batch: 4704 / 6720], examples_per_second: 3630.4376, train_label_loss: 0.1925, \n"
     ]
    },
    {
     "name": "stdout",
     "output_type": "stream",
     "text": [
      "epoch: 8, [batch: 5376 / 6720], examples_per_second: 3665.7538, train_label_loss: 0.3038, \n"
     ]
    },
    {
     "name": "stdout",
     "output_type": "stream",
     "text": [
      "epoch: 8, [batch: 6048 / 6720], examples_per_second: 3675.1751, train_label_loss: 0.3606, \n"
     ]
    },
    {
     "name": "stdout",
     "output_type": "stream",
     "text": [
      "=============================================================\n",
      "epoch: 8, source_val_acc_label: 0.8391, target_val_acc_label: 0.6345, source_val_label_loss: 0.4482, target_val_label_loss: 14.9040, \n",
      "=============================================================\n"
     ]
    },
    {
     "name": "stdout",
     "output_type": "stream",
     "text": [
      "epoch: 9, [batch: 1 / 6720], examples_per_second: 6.0456, train_label_loss: 0.1569, \n"
     ]
    },
    {
     "name": "stdout",
     "output_type": "stream",
     "text": [
      "epoch: 9, [batch: 672 / 6720], examples_per_second: 3619.1462, train_label_loss: 0.3039, \n"
     ]
    },
    {
     "name": "stdout",
     "output_type": "stream",
     "text": [
      "epoch: 9, [batch: 1344 / 6720], examples_per_second: 3650.7493, train_label_loss: 0.1884, \n"
     ]
    },
    {
     "name": "stdout",
     "output_type": "stream",
     "text": [
      "epoch: 9, [batch: 2016 / 6720], examples_per_second: 3650.3077, train_label_loss: 0.5430, \n"
     ]
    },
    {
     "name": "stdout",
     "output_type": "stream",
     "text": [
      "epoch: 9, [batch: 2688 / 6720], examples_per_second: 3625.3431, train_label_loss: 0.1924, \n"
     ]
    },
    {
     "name": "stdout",
     "output_type": "stream",
     "text": [
      "epoch: 9, [batch: 3360 / 6720], examples_per_second: 3641.9956, train_label_loss: 0.2428, \n"
     ]
    },
    {
     "name": "stdout",
     "output_type": "stream",
     "text": [
      "epoch: 9, [batch: 4032 / 6720], examples_per_second: 3634.5187, train_label_loss: 0.2253, \n"
     ]
    },
    {
     "name": "stdout",
     "output_type": "stream",
     "text": [
      "epoch: 9, [batch: 4704 / 6720], examples_per_second: 3617.2795, train_label_loss: 0.2664, \n"
     ]
    },
    {
     "name": "stdout",
     "output_type": "stream",
     "text": [
      "epoch: 9, [batch: 5376 / 6720], examples_per_second: 3627.3132, train_label_loss: 0.1874, \n"
     ]
    },
    {
     "name": "stdout",
     "output_type": "stream",
     "text": [
      "epoch: 9, [batch: 6048 / 6720], examples_per_second: 3642.3528, train_label_loss: 0.3725, \n"
     ]
    },
    {
     "name": "stdout",
     "output_type": "stream",
     "text": [
      "=============================================================\n",
      "epoch: 9, source_val_acc_label: 0.8738, target_val_acc_label: 0.6212, source_val_label_loss: 0.3504, target_val_label_loss: 14.6326, \n",
      "=============================================================\n"
     ]
    },
    {
     "name": "stdout",
     "output_type": "stream",
     "text": [
      "Patience (3) exhausted\n"
     ]
    }
   ],
   "source": [
    "###################################\n",
    "# train\n",
    "###################################\n",
    "jig = PTN_Train_Eval_Test_Jig(model, p.BEST_MODEL_PATH, p.device)\n",
    "\n",
    "jig.train(\n",
    "    train_iterable=datasets.source.processed.train,\n",
    "    source_val_iterable=datasets.source.processed.val,\n",
    "    target_val_iterable=datasets.target.processed.val,\n",
    "    num_epochs=p.n_epoch,\n",
    "    num_logs_per_epoch=p.NUM_LOGS_PER_EPOCH,\n",
    "    patience=p.patience,\n",
    "    optimizer=optimizer,\n",
    "    criteria_for_best=p.criteria_for_best,\n",
    ")"
   ]
  },
  {
   "cell_type": "code",
   "execution_count": 23,
   "id": "31e8fabf",
   "metadata": {
    "execution": {
     "iopub.execute_input": "2022-03-18T21:01:00.971867Z",
     "iopub.status.busy": "2022-03-18T21:01:00.971610Z",
     "iopub.status.idle": "2022-03-18T21:01:00.990079Z",
     "shell.execute_reply": "2022-03-18T21:01:00.989631Z"
    },
    "papermill": {
     "duration": 0.054007,
     "end_time": "2022-03-18T21:01:00.990169",
     "exception": false,
     "start_time": "2022-03-18T21:01:00.936162",
     "status": "completed"
    },
    "tags": []
   },
   "outputs": [],
   "source": [
    "total_experiment_time_secs = time.time() - start_time_secs"
   ]
  },
  {
   "cell_type": "code",
   "execution_count": 24,
   "id": "87b9595b",
   "metadata": {
    "execution": {
     "iopub.execute_input": "2022-03-18T21:01:01.064391Z",
     "iopub.status.busy": "2022-03-18T21:01:01.064122Z",
     "iopub.status.idle": "2022-03-18T21:02:03.888161Z",
     "shell.execute_reply": "2022-03-18T21:02:03.888535Z"
    },
    "papermill": {
     "duration": 62.863132,
     "end_time": "2022-03-18T21:02:03.888668",
     "exception": false,
     "start_time": "2022-03-18T21:01:01.025536",
     "status": "completed"
    },
    "tags": []
   },
   "outputs": [],
   "source": [
    "###################################\n",
    "# Evaluate the model\n",
    "###################################\n",
    "source_test_label_accuracy, source_test_label_loss = jig.test(datasets.source.processed.test)\n",
    "target_test_label_accuracy, target_test_label_loss = jig.test(datasets.target.processed.test)\n",
    "\n",
    "source_val_label_accuracy, source_val_label_loss = jig.test(datasets.source.processed.val)\n",
    "target_val_label_accuracy, target_val_label_loss = jig.test(datasets.target.processed.val)\n",
    "\n",
    "history = jig.get_history()\n",
    "\n",
    "total_epochs_trained = len(history[\"epoch_indices\"])\n",
    "\n",
    "val_dl = Iterable_Aggregator((datasets.source.original.val,datasets.target.original.val))\n",
    "\n",
    "confusion = ptn_confusion_by_domain_over_dataloader(model, p.device, val_dl)\n",
    "per_domain_accuracy = per_domain_accuracy_from_confusion(confusion)\n",
    "\n",
    "# Add a key to per_domain_accuracy for if it was a source domain\n",
    "for domain, accuracy in per_domain_accuracy.items():\n",
    "    per_domain_accuracy[domain] = {\n",
    "        \"accuracy\": accuracy,\n",
    "        \"source?\": domain in p.domains_source\n",
    "    }\n",
    "\n",
    "# Do an independent accuracy assesment JUST TO BE SURE!\n",
    "# _source_test_label_accuracy = independent_accuracy_assesment(model, datasets.source.processed.test, p.device)\n",
    "# _target_test_label_accuracy = independent_accuracy_assesment(model, datasets.target.processed.test, p.device)\n",
    "# _source_val_label_accuracy = independent_accuracy_assesment(model, datasets.source.processed.val, p.device)\n",
    "# _target_val_label_accuracy = independent_accuracy_assesment(model, datasets.target.processed.val, p.device)\n",
    "\n",
    "# assert(_source_test_label_accuracy == source_test_label_accuracy)\n",
    "# assert(_target_test_label_accuracy == target_test_label_accuracy)\n",
    "# assert(_source_val_label_accuracy == source_val_label_accuracy)\n",
    "# assert(_target_val_label_accuracy == target_val_label_accuracy)\n",
    "\n",
    "experiment = {\n",
    "    \"experiment_name\": p.experiment_name,\n",
    "    \"parameters\": dict(p),\n",
    "    \"results\": {\n",
    "        \"source_test_label_accuracy\": source_test_label_accuracy,\n",
    "        \"source_test_label_loss\": source_test_label_loss,\n",
    "        \"target_test_label_accuracy\": target_test_label_accuracy,\n",
    "        \"target_test_label_loss\": target_test_label_loss,\n",
    "        \"source_val_label_accuracy\": source_val_label_accuracy,\n",
    "        \"source_val_label_loss\": source_val_label_loss,\n",
    "        \"target_val_label_accuracy\": target_val_label_accuracy,\n",
    "        \"target_val_label_loss\": target_val_label_loss,\n",
    "        \"total_epochs_trained\": total_epochs_trained,\n",
    "        \"total_experiment_time_secs\": total_experiment_time_secs,\n",
    "        \"confusion\": confusion,\n",
    "        \"per_domain_accuracy\": per_domain_accuracy,\n",
    "    },\n",
    "    \"history\": history,\n",
    "    \"dataset_metrics\": get_dataset_metrics(datasets, \"ptn\"),\n",
    "}"
   ]
  },
  {
   "cell_type": "code",
   "execution_count": 25,
   "id": "54a21829",
   "metadata": {
    "execution": {
     "iopub.execute_input": "2022-03-18T21:02:03.963416Z",
     "iopub.status.busy": "2022-03-18T21:02:03.963144Z",
     "iopub.status.idle": "2022-03-18T21:02:04.087278Z",
     "shell.execute_reply": "2022-03-18T21:02:04.086875Z"
    },
    "papermill": {
     "duration": 0.159912,
     "end_time": "2022-03-18T21:02:04.087376",
     "exception": false,
     "start_time": "2022-03-18T21:02:03.927464",
     "status": "completed"
    },
    "tags": []
   },
   "outputs": [
    {
     "data": {
      "image/png": "[encoded data removed]",
      "text/plain": [
       "<Figure size 1080x504 with 1 Axes>"
      ]
     },
     "metadata": {
      "needs_background": "light"
     },
     "output_type": "display_data"
    }
   ],
   "source": [
    "ax = get_loss_curve(experiment)\n",
    "plt.show()"
   ]
  },
  {
   "cell_type": "code",
   "execution_count": 26,
   "id": "fd8a0f60",
   "metadata": {
    "execution": {
     "iopub.execute_input": "2022-03-18T21:02:04.161926Z",
     "iopub.status.busy": "2022-03-18T21:02:04.161664Z",
     "iopub.status.idle": "2022-03-18T21:02:04.304739Z",
     "shell.execute_reply": "2022-03-18T21:02:04.304951Z"
    },
    "papermill": {
     "duration": 0.179442,
     "end_time": "2022-03-18T21:02:04.305013",
     "exception": false,
     "start_time": "2022-03-18T21:02:04.125571",
     "status": "completed"
    },
    "tags": []
   },
   "outputs": [
    {
     "data": {
      "text/plain": [
       "<AxesSubplot:title={'center':'Results'}>"
      ]
     },
     "execution_count": 26,
     "metadata": {},
     "output_type": "execute_result"
    },
    {
     "data": {
      "image/png": "[encoded data removed]",
      "text/plain": [
       "<Figure size 1080x504 with 1 Axes>"
      ]
     },
     "metadata": {
      "needs_background": "light"
     },
     "output_type": "display_data"
    }
   ],
   "source": [
    "get_results_table(experiment)"
   ]
  },
  {
   "cell_type": "code",
   "execution_count": 27,
   "id": "cf8dc689",
   "metadata": {
    "execution": {
     "iopub.execute_input": "2022-03-18T21:02:04.379699Z",
     "iopub.status.busy": "2022-03-18T21:02:04.379446Z",
     "iopub.status.idle": "2022-03-18T21:02:04.536608Z",
     "shell.execute_reply": "2022-03-18T21:02:04.536977Z"
    },
    "papermill": {
     "duration": 0.195859,
     "end_time": "2022-03-18T21:02:04.537084",
     "exception": false,
     "start_time": "2022-03-18T21:02:04.341225",
     "status": "completed"
    },
    "tags": []
   },
   "outputs": [
    {
     "data": {
      "text/plain": [
       "<AxesSubplot:title={'center':'Per Domain Validation Accuracy'}, xlabel='domain'>"
      ]
     },
     "execution_count": 27,
     "metadata": {},
     "output_type": "execute_result"
    },
    {
     "data": {
      "image/png": "[encoded data removed]",
      "text/plain": [
       "<Figure size 1080x504 with 1 Axes>"
      ]
     },
     "metadata": {
      "needs_background": "light"
     },
     "output_type": "display_data"
    }
   ],
   "source": [
    "get_domain_accuracies(experiment)"
   ]
  },
  {
   "cell_type": "code",
   "execution_count": 28,
   "id": "a74ae082",
   "metadata": {
    "execution": {
     "iopub.execute_input": "2022-03-18T21:02:04.614454Z",
     "iopub.status.busy": "2022-03-18T21:02:04.614196Z",
     "iopub.status.idle": "2022-03-18T21:02:04.626813Z",
     "shell.execute_reply": "2022-03-18T21:02:04.626509Z"
    },
    "papermill": {
     "duration": 0.05064,
     "end_time": "2022-03-18T21:02:04.626884",
     "exception": false,
     "start_time": "2022-03-18T21:02:04.576244",
     "status": "completed"
    },
    "tags": []
   },
   "outputs": [
    {
     "name": "stdout",
     "output_type": "stream",
     "text": [
      "Source Test Label Accuracy: 0.8180013020833333 Target Test Label Accuracy: 0.637651384083045\n",
      "Source Val Label Accuracy: 0.81787109375 Target Val Label Accuracy: 0.6255406574394463\n"
     ]
    }
   ],
   "source": [
    "print(\"Source Test Label Accuracy:\", experiment[\"results\"][\"source_test_label_accuracy\"], \"Target Test Label Accuracy:\", experiment[\"results\"][\"target_test_label_accuracy\"])\n",
    "print(\"Source Val Label Accuracy:\", experiment[\"results\"][\"source_val_label_accuracy\"], \"Target Val Label Accuracy:\", experiment[\"results\"][\"target_val_label_accuracy\"])"
   ]
  },
  {
   "cell_type": "code",
   "execution_count": 29,
   "id": "dacca602",
   "metadata": {
    "execution": {
     "iopub.execute_input": "2022-03-18T21:02:04.706267Z",
     "iopub.status.busy": "2022-03-18T21:02:04.706018Z",
     "iopub.status.idle": "2022-03-18T21:02:04.725106Z",
     "shell.execute_reply": "2022-03-18T21:02:04.725477Z"
    },
    "papermill": {
     "duration": 0.057876,
     "end_time": "2022-03-18T21:02:04.725584",
     "exception": false,
     "start_time": "2022-03-18T21:02:04.667708",
     "status": "completed"
    },
    "tags": [
     "experiment_json"
    ]
   },
   "outputs": [
    {
     "data": {
      "text/plain": [
       "'{\"experiment_name\": \"tl_3A:oracle.run1.framed -> cores+wisig\", \"parameters\": {\"experiment_name\": \"tl_3A:oracle.run1.framed -> cores+wisig\", \"device\": \"cuda\", \"lr\": 0.001, \"seed\": 500, \"dataset_seed\": 500, \"x_shape\": [2, 200], \"n_shot\": 3, \"n_query\": 2, \"train_k_factor\": 3, \"val_k_factor\": 2, \"test_k_factor\": 2, \"torch_default_dtype\": \"torch.float32\", \"n_epoch\": 50, \"patience\": 3, \"criteria_for_best\": \"target_loss\", \"x_net\": [{\"class\": \"nnReshape\", \"kargs\": {\"shape\": [-1, 1, 2, 200]}}, {\"class\": \"Conv2d\", \"kargs\": {\"in_channels\": 1, \"out_channels\": 256, \"kernel_size\": [1, 7], \"bias\": false, \"padding\": [0, 3]}}, {\"class\": \"ReLU\", \"kargs\": {\"inplace\": true}}, {\"class\": \"BatchNorm2d\", \"kargs\": {\"num_features\": 256}}, {\"class\": \"Conv2d\", \"kargs\": {\"in_channels\": 256, \"out_channels\": 80, \"kernel_size\": [2, 7], \"bias\": true, \"padding\": [0, 3]}}, {\"class\": \"ReLU\", \"kargs\": {\"inplace\": true}}, {\"class\": \"BatchNorm2d\", \"kargs\": {\"num_features\": 80}}, {\"class\": \"Flatten\", \"kargs\": {}}, {\"class\": \"Linear\", \"kargs\": {\"in_features\": 16000, \"out_features\": 256}}, {\"class\": \"ReLU\", \"kargs\": {\"inplace\": true}}, {\"class\": \"BatchNorm1d\", \"kargs\": {\"num_features\": 256}}, {\"class\": \"Linear\", \"kargs\": {\"in_features\": 256, \"out_features\": 256}}], \"NUM_LOGS_PER_EPOCH\": 10, \"BEST_MODEL_PATH\": \"./best_model.pth\", \"n_way\": 16, \"datasets\": [{\"labels\": [\"1-10.\", \"1-11.\", \"1-15.\", \"1-16.\", \"1-17.\", \"1-18.\", \"1-19.\", \"10-4.\", \"10-7.\", \"11-1.\", \"11-14.\", \"11-17.\", \"11-20.\", \"11-7.\", \"13-20.\", \"13-8.\", \"14-10.\", \"14-11.\", \"14-14.\", \"14-7.\", \"15-1.\", \"15-20.\", \"16-1.\", \"16-16.\", \"17-10.\", \"17-11.\", \"17-2.\", \"19-1.\", \"19-16.\", \"19-19.\", \"19-20.\", \"19-3.\", \"2-10.\", \"2-11.\", \"2-17.\", \"2-18.\", \"2-20.\", \"2-3.\", \"2-4.\", \"2-5.\", \"2-6.\", \"2-7.\", \"2-8.\", \"3-13.\", \"3-18.\", \"3-3.\", \"4-1.\", \"4-10.\", \"4-11.\", \"4-19.\", \"5-5.\", \"6-15.\", \"7-10.\", \"7-14.\", \"8-18.\", \"8-20.\", \"8-3.\", \"8-8.\"], \"domains\": [1, 2, 3, 4, 5], \"num_examples_per_domain_per_label\": 100, \"pickle_path\": \"/mnt/wd500GB/CSC500/csc500-main/datasets/cores.stratified_ds.2022A.pkl\", \"source_or_target_dataset\": \"target\", \"x_transforms\": [\"unit_mag\", \"take_200\"], \"episode_transforms\": [], \"domain_prefix\": \"C_A_\"}, {\"labels\": [\"1-10\", \"1-12\", \"1-14\", \"1-16\", \"1-18\", \"1-19\", \"1-8\", \"10-11\", \"10-17\", \"10-4\", \"10-7\", \"11-1\", \"11-10\", \"11-19\", \"11-20\", \"11-4\", \"11-7\", \"12-19\", \"12-20\", \"12-7\", \"13-14\", \"13-18\", \"13-19\", \"13-20\", \"13-3\", \"13-7\", \"14-10\", \"14-11\", \"14-12\", \"14-13\", \"14-14\", \"14-19\", \"14-20\", \"14-7\", \"14-8\", \"14-9\", \"15-1\", \"15-19\", \"15-6\", \"16-1\", \"16-16\", \"16-19\", \"16-20\", \"17-10\", \"17-11\", \"18-1\", \"18-10\", \"18-11\", \"18-12\", \"18-13\", \"18-14\", \"18-15\", \"18-16\", \"18-17\", \"18-19\", \"18-2\", \"18-20\", \"18-4\", \"18-5\", \"18-7\", \"18-8\", \"18-9\", \"19-1\", \"19-10\", \"19-11\", \"19-12\", \"19-13\", \"19-14\", \"19-15\", \"19-19\", \"19-2\", \"19-20\", \"19-3\", \"19-4\", \"19-6\", \"19-7\", \"19-8\", \"19-9\", \"2-1\", \"2-13\", \"2-15\", \"2-3\", \"2-4\", \"2-5\", \"2-6\", \"2-7\", \"2-8\", \"20-1\", \"20-12\", \"20-14\", \"20-15\", \"20-16\", \"20-18\", \"20-19\", \"20-20\", \"20-3\", \"20-4\", \"20-5\", \"20-7\", \"20-8\", \"3-1\", \"3-13\", \"3-18\", \"3-2\", \"3-8\", \"4-1\", \"4-10\", \"4-11\", \"5-1\", \"5-5\", \"6-1\", \"6-15\", \"6-6\", \"7-10\", \"7-11\", \"7-12\", \"7-13\", \"7-14\", \"7-7\", \"7-8\", \"7-9\", \"8-1\", \"8-13\", \"8-14\", \"8-18\", \"8-20\", \"8-3\", \"8-8\", \"9-1\", \"9-7\"], \"domains\": [1, 2, 3, 4], \"num_examples_per_domain_per_label\": 100, \"pickle_path\": \"/mnt/wd500GB/CSC500/csc500-main/datasets/wisig.node3-19.stratified_ds.2022A.pkl\", \"source_or_target_dataset\": \"target\", \"x_transforms\": [\"unit_mag\", \"take_200\"], \"episode_transforms\": [], \"domain_prefix\": \"W_A_\"}, {\"labels\": [\"3123D52\", \"3123D65\", \"3123D79\", \"3123D80\", \"3123D54\", \"3123D70\", \"3123D7B\", \"3123D89\", \"3123D58\", \"3123D76\", \"3123D7D\", \"3123EFE\", \"3123D64\", \"3123D78\", \"3123D7E\", \"3124E4A\"], \"domains\": [32, 38, 8, 44, 14, 50, 20, 26], \"num_examples_per_domain_per_label\": 2000, \"pickle_path\": \"/mnt/wd500GB/CSC500/csc500-main/datasets/oracle.Run1_framed_2000Examples_stratified_ds.2022A.pkl\", \"source_or_target_dataset\": \"source\", \"x_transforms\": [\"unit_mag\", \"take_200\", \"resample_20Msps_to_25Msps\"], \"episode_transforms\": [], \"domain_prefix\": \"ORACLE.run1_\"}], \"domains_source\": [\"ORACLE.run1_32\", \"ORACLE.run1_38\", \"ORACLE.run1_8\", \"ORACLE.run1_44\", \"ORACLE.run1_14\", \"ORACLE.run1_50\", \"ORACLE.run1_20\", \"ORACLE.run1_26\"], \"domains_target\": [\"C_A_1\", \"C_A_2\", \"C_A_3\", \"C_A_4\", \"C_A_5\", \"W_A_1\", \"W_A_2\", \"W_A_3\", \"W_A_4\"]}, \"results\": {\"source_test_label_accuracy\": 0.8180013020833333, \"source_test_label_loss\": 0.510476291179657, \"target_test_label_accuracy\": 0.637651384083045, \"target_test_label_loss\": 9.729909896850586, \"source_val_label_accuracy\": 0.81787109375, \"source_val_label_loss\": 0.5040265321731567, \"target_val_label_accuracy\": 0.6255406574394463, \"target_val_label_loss\": 10.432761192321777, \"total_epochs_trained\": 9, \"total_experiment_time_secs\": 1480.1966757774353, \"confusion\": {\"ORACLE.run1_50\": {\"7\": {\"7\": 196, \"5\": 17, \"13\": 16, \"6\": 9, \"4\": 1, \"10\": 1}, \"10\": {\"10\": 224, \"7\": 2, \"8\": 6, \"0\": 4, \"13\": 4}, \"0\": {\"0\": 210, \"2\": 22, \"13\": 1, \"10\": 6, \"1\": 1}, \"11\": {\"11\": 220, \"15\": 14, \"9\": 3, \"12\": 2, \"14\": 1}, \"2\": {\"2\": 212, \"0\": 26, \"1\": 2}, \"14\": {\"14\": 239, \"15\": 1}, \"9\": {\"11\": 7, \"9\": 223, \"12\": 10}, \"13\": {\"13\": 213, \"10\": 4, \"7\": 11, \"0\": 1, \"6\": 3, \"5\": 7, \"1\": 1}, \"8\": {\"8\": 234, \"10\": 5, \"3\": 1}, \"15\": {\"15\": 201, \"1\": 18, \"6\": 3, \"4\": 15, \"11\": 3}, \"4\": {\"4\": 138, \"5\": 38, \"15\": 38, \"13\": 4, \"1\": 6, \"6\": 9, \"7\": 7}, \"5\": {\"5\": 156, \"7\": 23, \"6\": 4, \"4\": 21, \"13\": 23, \"15\": 3, \"1\": 10}, \"3\": {\"3\": 237, \"8\": 3}, \"1\": {\"1\": 196, \"15\": 25, \"6\": 8, \"5\": 5, \"13\": 2, \"4\": 2, \"11\": 2}, \"6\": {\"6\": 211, \"7\": 5, \"4\": 6, \"13\": 5, \"5\": 6, \"1\": 4, \"15\": 3}, \"12\": {\"12\": 216, \"11\": 7, \"9\": 14, \"14\": 3}}, \"ORACLE.run1_14\": {\"14\": {\"14\": 203, \"2\": 24, \"13\": 5, \"3\": 6, \"6\": 2}, \"6\": {\"6\": 182, \"13\": 52, \"14\": 4, \"2\": 2}, \"5\": {\"5\": 168, \"4\": 40, \"1\": 18, \"2\": 13, \"3\": 1}, \"15\": {\"15\": 239, \"7\": 1}, \"11\": {\"11\": 228, \"9\": 9, \"0\": 3}, \"8\": {\"8\": 240}, \"12\": {\"12\": 239, \"9\": 1}, \"1\": {\"1\": 225, \"5\": 13, \"4\": 1, \"3\": 1}, \"2\": {\"2\": 124, \"6\": 22, \"14\": 46, \"3\": 9, \"4\": 7, \"13\": 10, \"5\": 22}, \"13\": {\"13\": 113, \"6\": 81, \"14\": 31, \"2\": 12, \"4\": 2, \"5\": 1}, \"3\": {\"3\": 233, \"14\": 3, \"4\": 3, \"2\": 1}, \"0\": {\"0\": 234, \"3\": 3, \"14\": 1, \"11\": 1, \"10\": 1}, \"9\": {\"9\": 240}, \"4\": {\"4\": 219, \"5\": 16, \"1\": 3, \"2\": 2}, \"7\": {\"7\": 240}, \"10\": {\"10\": 239, \"0\": 1}}, \"ORACLE.run1_32\": {\"4\": {\"2\": 51, \"13\": 13, \"4\": 163, \"7\": 10, \"5\": 2, \"0\": 1}, \"14\": {\"14\": 170, \"0\": 18, \"11\": 27, \"8\": 6, \"3\": 4, \"7\": 11, \"4\": 1, \"5\": 3}, \"5\": {\"5\": 127, \"7\": 63, \"3\": 11, \"2\": 3, \"0\": 1, \"14\": 2, \"13\": 22, \"8\": 7, \"4\": 4}, \"10\": {\"10\": 239, \"1\": 1}, \"13\": {\"4\": 12, \"13\": 190, \"5\": 12, \"11\": 3, \"8\": 3, \"3\": 9, \"7\": 8, \"0\": 2, \"14\": 1}, \"9\": {\"9\": 235, \"12\": 4, \"2\": 1}, \"6\": {\"6\": 240}, \"3\": {\"3\": 229, \"5\": 1, \"13\": 6, \"11\": 1, \"8\": 2, \"14\": 1}, \"15\": {\"15\": 240}, \"7\": {\"5\": 42, \"7\": 163, \"13\": 4, \"2\": 7, \"4\": 15, \"14\": 4, \"0\": 1, \"11\": 3, \"8\": 1}, \"12\": {\"12\": 240}, \"8\": {\"8\": 188, \"0\": 27, \"13\": 6, \"14\": 6, \"3\": 5, \"5\": 7, \"11\": 1}, \"11\": {\"11\": 227, \"14\": 7, \"13\": 1, \"3\": 5}, \"2\": {\"2\": 186, \"7\": 2, \"4\": 52}, \"1\": {\"1\": 239, \"10\": 1}, \"0\": {\"0\": 195, \"8\": 28, \"14\": 12, \"7\": 3, \"5\": 2}}, \"ORACLE.run1_44\": {\"8\": {\"0\": 80, \"8\": 139, \"15\": 10, \"5\": 11}, \"11\": {\"11\": 232, \"13\": 6, \"6\": 2}, \"14\": {\"14\": 167, \"4\": 54, \"15\": 15, \"5\": 4}, \"10\": {\"10\": 201, \"7\": 3, \"1\": 21, \"2\": 13, \"12\": 2}, \"3\": {\"3\": 227, \"1\": 6, \"12\": 7}, \"15\": {\"15\": 186, \"8\": 7, \"0\": 13, \"14\": 20, \"5\": 12, \"4\": 2}, \"2\": {\"7\": 26, \"2\": 193, \"6\": 1, \"1\": 9, \"3\": 1, \"9\": 1, \"10\": 9}, \"12\": {\"12\": 210, \"1\": 28, \"10\": 1, \"3\": 1}, \"4\": {\"4\": 158, \"14\": 78, \"13\": 1, \"15\": 3}, \"1\": {\"1\": 170, \"12\": 39, \"10\": 19, \"3\": 6, \"2\": 6}, \"0\": {\"0\": 158, \"15\": 12, \"8\": 61, \"5\": 9}, \"9\": {\"13\": 22, \"9\": 108, \"7\": 74, \"6\": 34, \"2\": 2}, \"5\": {\"5\": 198, \"0\": 14, \"14\": 12, \"15\": 12, \"8\": 4}, \"6\": {\"13\": 37, \"6\": 168, \"9\": 27, \"7\": 7, \"11\": 1}, \"7\": {\"7\": 142, \"9\": 50, \"2\": 40, \"6\": 7, \"1\": 1}, \"13\": {\"13\": 157, \"9\": 28, \"6\": 50, \"7\": 2, \"11\": 3}}, \"ORACLE.run1_8\": {\"13\": {\"13\": 110, \"0\": 38, \"10\": 35, \"6\": 9, \"14\": 11, \"4\": 36, \"7\": 1}, \"3\": {\"3\": 235, \"2\": 3, \"15\": 1, \"12\": 1}, \"15\": {\"15\": 215, \"12\": 23, \"8\": 2}, \"4\": {\"4\": 169, \"6\": 18, \"13\": 39, \"14\": 11, \"10\": 2, \"0\": 1}, \"7\": {\"7\": 190, \"0\": 3, \"6\": 47}, \"2\": {\"2\": 224, \"3\": 10, \"7\": 5, \"15\": 1}, \"1\": {\"1\": 233, \"14\": 2, \"11\": 5}, \"0\": {\"0\": 210, \"13\": 19, \"14\": 2, \"7\": 3, \"4\": 3, \"6\": 3}, \"12\": {\"12\": 152, \"3\": 19, \"15\": 62, \"8\": 5, \"2\": 2}, \"6\": {\"4\": 21, \"6\": 169, \"7\": 42, \"13\": 4, \"0\": 4}, \"11\": {\"11\": 219, \"1\": 21}, \"9\": {\"9\": 240}, \"5\": {\"5\": 223, \"1\": 7, \"10\": 9, \"14\": 1}, \"10\": {\"10\": 196, \"14\": 27, \"4\": 6, \"13\": 11}, \"14\": {\"14\": 184, \"4\": 25, \"10\": 25, \"1\": 5, \"13\": 1}, \"8\": {\"8\": 239, \"15\": 1}}, \"ORACLE.run1_20\": {\"6\": {\"6\": 225, \"14\": 14, \"7\": 1}, \"11\": {\"11\": 240}, \"5\": {\"5\": 177, \"0\": 27, \"1\": 8, \"15\": 13, \"4\": 2, \"12\": 12, \"3\": 1}, \"14\": {\"14\": 230, \"6\": 8, \"10\": 1, \"8\": 1}, \"2\": {\"2\": 160, \"7\": 14, \"13\": 11, \"9\": 36, \"12\": 7, \"3\": 10, \"1\": 2}, \"7\": {\"2\": 14, \"7\": 218, \"3\": 1, \"6\": 1, \"13\": 1, \"8\": 4, \"9\": 1}, \"3\": {\"3\": 131, \"4\": 11, \"12\": 46, \"9\": 30, \"2\": 17, \"7\": 1, \"1\": 3, \"5\": 1}, \"4\": {\"12\": 2, \"4\": 216, \"3\": 11, \"8\": 8, \"7\": 1, \"10\": 1, \"5\": 1}, \"9\": {\"2\": 45, \"9\": 154, \"3\": 28, \"12\": 8, \"1\": 3, \"13\": 2}, \"12\": {\"3\": 41, \"12\": 120, \"1\": 43, \"5\": 8, \"9\": 15, \"13\": 3, \"2\": 7, \"4\": 1, \"0\": 1, \"15\": 1}, \"0\": {\"5\": 43, \"0\": 166, \"15\": 26, \"13\": 3, \"12\": 1, \"4\": 1}, \"10\": {\"10\": 234, \"14\": 5, \"4\": 1}, \"8\": {\"8\": 225, \"3\": 1, \"7\": 8, \"4\": 5, \"14\": 1}, \"13\": {\"13\": 231, \"2\": 5, \"7\": 2, \"1\": 1, \"15\": 1}, \"1\": {\"1\": 166, \"12\": 44, \"5\": 13, \"15\": 14, \"0\": 1, \"3\": 2}, \"15\": {\"15\": 186, \"0\": 22, \"5\": 10, \"1\": 19, \"13\": 3}}, \"ORACLE.run1_38\": {\"3\": {\"3\": 231, \"0\": 6, \"9\": 2, \"10\": 1}, \"8\": {\"8\": 172, \"15\": 7, \"5\": 32, \"0\": 10, \"7\": 13, \"13\": 3, \"10\": 3}, \"0\": {\"0\": 163, \"7\": 21, \"8\": 34, \"4\": 1, \"3\": 8, \"10\": 9, \"13\": 3, \"5\": 1}, \"2\": {\"2\": 219, \"14\": 19, \"13\": 2}, \"4\": {\"4\": 239, \"10\": 1}, \"7\": {\"7\": 207, \"5\": 16, \"0\": 6, \"8\": 11}, \"12\": {\"12\": 238, \"4\": 1, \"14\": 1}, \"6\": {\"6\": 238, \"1\": 1, \"5\": 1}, \"15\": {\"15\": 203, \"8\": 11, \"10\": 1, \"1\": 21, \"13\": 4}, \"11\": {\"11\": 232, \"3\": 3, \"10\": 2, \"14\": 2, \"0\": 1}, \"9\": {\"9\": 227, \"6\": 9, \"5\": 4}, \"14\": {\"14\": 227, \"2\": 11, \"12\": 1, \"13\": 1}, \"10\": {\"10\": 214, \"0\": 7, \"13\": 12, \"4\": 4, \"7\": 1, \"8\": 2}, \"5\": {\"5\": 133, \"8\": 47, \"6\": 4, \"7\": 29, \"15\": 10, \"0\": 4, \"9\": 9, \"13\": 2, \"10\": 2}, \"1\": {\"1\": 236, \"15\": 4}, \"13\": {\"10\": 10, \"13\": 219, \"8\": 3, \"2\": 3, \"0\": 1, \"15\": 4}}, \"ORACLE.run1_26\": {\"5\": {\"5\": 187, \"13\": 18, \"2\": 20, \"15\": 6, \"7\": 2, \"3\": 2, \"8\": 2, \"9\": 2, \"1\": 1}, \"8\": {\"8\": 134, \"14\": 8, \"10\": 27, \"0\": 13, \"4\": 28, \"15\": 7, \"7\": 14, \"2\": 3, \"6\": 5, \"9\": 1}, \"4\": {\"4\": 161, \"10\": 8, \"7\": 9, \"8\": 21, \"0\": 14, \"14\": 26, \"1\": 1}, \"12\": {\"12\": 240}, \"6\": {\"6\": 205, \"0\": 2, \"15\": 9, \"10\": 14, \"9\": 9, \"8\": 1}, \"7\": {\"2\": 21, \"7\": 163, \"3\": 30, \"8\": 10, \"14\": 3, \"4\": 12, \"0\": 1}, \"10\": {\"10\": 111, \"14\": 12, \"8\": 32, \"9\": 1, \"15\": 1, \"0\": 67, \"6\": 9, \"4\": 4, \"1\": 3}, \"0\": {\"4\": 22, \"0\": 80, \"8\": 22, \"10\": 71, \"14\": 35, \"7\": 7, \"1\": 1, \"6\": 2}, \"15\": {\"15\": 146, \"9\": 46, \"6\": 14, \"2\": 6, \"8\": 12, \"13\": 5, \"5\": 6, \"7\": 2, \"10\": 2, \"0\": 1}, \"9\": {\"9\": 181, \"15\": 32, \"6\": 12, \"8\": 2, \"13\": 10, \"2\": 1, \"10\": 1, \"5\": 1}, \"11\": {\"11\": 240}, \"14\": {\"14\": 135, \"0\": 46, \"4\": 28, \"1\": 17, \"10\": 10, \"7\": 3, \"8\": 1}, \"2\": {\"2\": 118, \"3\": 73, \"8\": 5, \"9\": 1, \"5\": 21, \"7\": 14, \"13\": 2, \"15\": 5, \"4\": 1}, \"13\": {\"5\": 33, \"13\": 174, \"2\": 9, \"15\": 8, \"9\": 16}, \"3\": {\"3\": 186, \"7\": 18, \"2\": 35, \"5\": 1}, \"1\": {\"14\": 27, \"1\": 202, \"4\": 9, \"8\": 1, \"10\": 1}}, \"C_A_4\": {\"38\": {\"38\": 10, \"49\": 1, \"7\": 1}, \"3\": {\"7\": 1, \"3\": 6, \"26\": 2, \"39\": 1, \"6\": 1, \"54\": 1}, \"24\": {\"24\": 12}, \"49\": {\"49\": 10}, \"7\": {\"7\": 11, \"28\": 1}, \"17\": {\"17\": 12}, \"43\": {\"43\": 10}, \"30\": {\"30\": 12}, \"44\": {\"44\": 9, \"25\": 1, \"55\": 1, \"4\": 1}, \"23\": {\"23\": 10}, \"37\": {\"37\": 9, \"31\": 2, \"55\": 1}, \"4\": {\"4\": 8, \"28\": 1, \"40\": 2, \"19\": 1}, \"57\": {\"57\": 10, \"39\": 1, \"47\": 1}, \"16\": {\"16\": 3, \"24\": 1, \"46\": 1, \"38\": 1, \"15\": 2}, \"18\": {\"18\": 12}, \"20\": {\"20\": 9, \"3\": 1}, \"45\": {\"45\": 7, \"8\": 1}, \"15\": {\"52\": 2, \"15\": 5, \"11\": 2, \"16\": 1}, \"52\": {\"52\": 8, \"39\": 1, \"23\": 3}, \"19\": {\"19\": 11, \"54\": 1}, \"54\": {\"54\": 10, \"39\": 1, \"5\": 1}, \"56\": {\"56\": 9, \"24\": 1}, \"40\": {\"54\": 1, \"19\": 1, \"33\": 2, \"40\": 2, \"28\": 2, \"25\": 1, \"44\": 1, \"9\": 2}, \"28\": {\"28\": 8, \"34\": 1, \"48\": 1, \"33\": 2}, \"2\": {\"2\": 6, \"13\": 2}, \"9\": {\"9\": 11, \"25\": 1}, \"0\": {\"0\": 8, \"46\": 4}, \"36\": {\"36\": 10, \"3\": 2}, \"55\": {\"55\": 9, \"6\": 1}, \"35\": {\"35\": 9, \"5\": 1}, \"39\": {\"39\": 10, \"54\": 1, \"18\": 1}, \"31\": {\"31\": 11, \"39\": 1}, \"14\": {\"31\": 1, \"43\": 1, \"10\": 3, \"33\": 2, \"2\": 1, \"28\": 1, \"3\": 2, \"40\": 1}, \"12\": {\"12\": 11, \"8\": 1}, \"6\": {\"6\": 8, \"48\": 1, \"36\": 1}, \"48\": {\"17\": 1, \"48\": 9, \"28\": 2}, \"51\": {\"51\": 5, \"48\": 1, \"37\": 3, \"34\": 1}, \"5\": {\"1\": 1, \"47\": 3, \"7\": 1, \"5\": 4, \"34\": 2, \"42\": 1}, \"22\": {\"22\": 11, \"24\": 1}, \"25\": {\"25\": 10, \"3\": 1, \"8\": 1}, \"26\": {\"26\": 11, \"3\": 1}, \"47\": {\"48\": 1, \"1\": 1, \"18\": 2, \"5\": 3, \"47\": 5}, \"1\": {\"1\": 8, \"47\": 2}, \"41\": {\"41\": 12}, \"27\": {\"27\": 7, \"17\": 1, \"8\": 2, \"50\": 2}, \"8\": {\"21\": 2, \"8\": 9, \"25\": 1}, \"29\": {\"29\": 11, \"40\": 1}, \"11\": {\"11\": 6, \"46\": 1, \"0\": 1, \"15\": 1, \"24\": 1}, \"34\": {\"34\": 9, \"53\": 1, \"54\": 2}, \"21\": {\"21\": 12}, \"53\": {\"51\": 2, \"53\": 5, \"20\": 1, \"54\": 1, \"25\": 1}, \"10\": {\"10\": 11, \"43\": 1}, \"33\": {\"33\": 11, \"40\": 1}, \"42\": {\"42\": 12}, \"50\": {\"50\": 3, \"8\": 2, \"53\": 1, \"27\": 1, \"3\": 1, \"36\": 2}, \"13\": {\"13\": 4}, \"46\": {\"32\": 3, \"46\": 3, \"0\": 1, \"16\": 1}, \"32\": {\"32\": 7, \"46\": 1}}, \"W_A_3\": {\"99\": {\"99\": 10, \"8\": 1, \"128\": 1}, \"8\": {\"8\": 8, \"7\": 2, \"105\": 1, \"48\": 1}, \"65\": {\"18\": 1, \"65\": 5, \"108\": 1, \"8\": 1, \"128\": 1, \"124\": 2, \"39\": 1}, \"117\": {\"18\": 2, \"117\": 6, \"109\": 1, \"115\": 1}, \"18\": {\"117\": 1, \"18\": 7, \"81\": 2, \"26\": 2}, \"39\": {\"39\": 9, \"117\": 1, \"109\": 1, \"121\": 1}, \"102\": {\"102\": 8, \"69\": 1, \"17\": 1, \"2\": 1, \"121\": 1}, \"76\": {\"76\": 6, \"64\": 1, \"11\": 2, \"22\": 2, \"116\": 1}, \"101\": {\"101\": 8, \"8\": 1, \"111\": 1, \"83\": 1, \"103\": 1}, \"57\": {\"57\": 7, \"32\": 2, \"31\": 1, \"107\": 2}, \"86\": {\"86\": 4, \"101\": 1, \"111\": 1, \"114\": 1, \"68\": 1, \"3\": 2, \"127\": 2}, \"11\": {\"11\": 3, \"39\": 1, \"65\": 2, \"79\": 1, \"16\": 2, \"119\": 1, \"102\": 1, \"14\": 1}, \"98\": {\"98\": 6, \"91\": 1, \"48\": 1, \"90\": 1, \"51\": 1, \"52\": 1, \"108\": 1}, \"42\": {\"39\": 1, \"42\": 7, \"97\": 1, \"72\": 1, \"8\": 1, \"52\": 1}, \"47\": {\"47\": 11, \"90\": 1}, \"49\": {\"65\": 1, \"8\": 2, \"49\": 3, \"79\": 1, \"77\": 1, \"72\": 2, \"110\": 1, \"10\": 1}, \"111\": {\"111\": 8, \"5\": 2, \"30\": 2}, \"36\": {\"36\": 5, \"91\": 1, \"72\": 1, \"15\": 1, \"48\": 1, \"94\": 1, \"73\": 1, \"54\": 1}, \"124\": {\"99\": 1, \"5\": 1, \"28\": 2, \"129\": 2, \"124\": 4, \"72\": 1, \"77\": 1}, \"122\": {\"122\": 4, \"32\": 1, \"41\": 1, \"127\": 1, \"19\": 1, \"85\": 2, \"100\": 1, \"14\": 1}, \"93\": {\"93\": 5, \"92\": 1, \"17\": 1, \"53\": 1, \"31\": 1, \"16\": 1, \"76\": 1, \"113\": 1}, \"89\": {\"89\": 11, \"121\": 1}, \"51\": {\"36\": 2, \"51\": 8, \"3\": 1, \"98\": 1}, \"73\": {\"73\": 5, \"86\": 1, \"95\": 4, \"98\": 1, \"128\": 1}, \"45\": {\"45\": 8, \"69\": 1, \"76\": 1, \"82\": 1, \"79\": 1}, \"5\": {\"111\": 2, \"4\": 2, \"71\": 2, \"7\": 1, \"5\": 3, \"77\": 2}, \"69\": {\"26\": 2, \"33\": 1, \"82\": 1, \"69\": 6, \"102\": 1, \"67\": 1}, \"26\": {\"89\": 1, \"26\": 4, \"13\": 1, \"16\": 1, \"18\": 4, \"38\": 1}, \"1\": {\"1\": 4, \"5\": 1, \"50\": 1, \"77\": 1, \"44\": 1, \"74\": 1, \"14\": 1, \"53\": 1, \"80\": 1}, \"92\": {\"92\": 6, \"122\": 1, \"31\": 1}, \"96\": {\"96\": 7, \"67\": 1, \"113\": 2, \"43\": 1, \"70\": 1}, \"85\": {\"85\": 9, \"65\": 1, \"19\": 2}, \"114\": {\"114\": 8, \"90\": 1, \"129\": 1, \"14\": 1, \"105\": 1}, \"50\": {\"33\": 1, \"50\": 5, \"40\": 1, \"65\": 1, \"115\": 1, \"16\": 1, \"45\": 1, \"82\": 1}, \"81\": {\"81\": 7, \"2\": 1, \"18\": 1, \"11\": 2, \"76\": 1}, \"2\": {\"2\": 4, \"17\": 1, \"118\": 2, \"104\": 1, \"102\": 1, \"14\": 1, \"89\": 1, \"45\": 1}, \"33\": {\"33\": 9, \"50\": 1, \"129\": 1, \"93\": 1}, \"31\": {\"31\": 10, \"92\": 2}, \"90\": {\"90\": 7, \"129\": 1}, \"17\": {\"17\": 2, \"1\": 1, \"9\": 1, \"93\": 1, \"76\": 1, \"115\": 1, \"40\": 2, \"5\": 2, \"78\": 1}, \"116\": {\"96\": 1, \"116\": 5, \"31\": 1, \"115\": 1, \"45\": 1, \"102\": 1}, \"91\": {\"114\": 1, \"98\": 1, \"91\": 7, \"112\": 1, \"59\": 1, \"46\": 1}, \"41\": {\"19\": 3, \"41\": 6, \"129\": 1, \"29\": 1, \"57\": 1}, \"78\": {\"21\": 1, \"19\": 1, \"75\": 1, \"29\": 1, \"17\": 1, \"13\": 1}, \"21\": {\"21\": 11, \"88\": 1}, \"23\": {\"63\": 1, \"103\": 1, \"123\": 2, \"42\": 2, \"119\": 1, \"61\": 1, \"23\": 1, \"112\": 1, \"81\": 1, \"128\": 1}, \"63\": {\"123\": 1, \"63\": 8, \"81\": 1, \"26\": 1, \"18\": 1}, \"103\": {\"103\": 11, \"101\": 1}, \"54\": {\"54\": 12}, \"87\": {\"57\": 1, \"87\": 4, \"88\": 1, \"23\": 1, \"74\": 1, \"9\": 1, \"41\": 1, \"1\": 2}, \"123\": {\"123\": 8, \"23\": 1, \"81\": 2, \"63\": 1}, \"32\": {\"32\": 7, \"41\": 1, \"43\": 1, \"57\": 1, \"77\": 1, \"45\": 1}, \"70\": {\"41\": 2, \"103\": 2, \"70\": 3, \"129\": 1, \"128\": 2, \"5\": 1, \"109\": 1}, \"19\": {\"41\": 1, \"55\": 1, \"111\": 1, \"5\": 1, \"66\": 2, \"15\": 1, \"19\": 1, \"40\": 1, \"99\": 1, \"9\": 1, \"85\": 1}, \"55\": {\"55\": 10, \"32\": 1, \"40\": 1}, \"34\": {\"93\": 1, \"124\": 1, \"27\": 2, \"34\": 4, \"31\": 1, \"37\": 1, \"22\": 1, \"19\": 1}, \"28\": {\"80\": 1, \"28\": 11}, \"109\": {\"93\": 1, \"109\": 2, \"32\": 2, \"12\": 1, \"117\": 2, \"45\": 1, \"21\": 1}, \"72\": {\"72\": 8, \"105\": 2, \"86\": 1, \"10\": 1}, \"9\": {\"9\": 5, \"129\": 1, \"55\": 1, \"40\": 1, \"122\": 2, \"19\": 1, \"71\": 1}, \"80\": {\"80\": 11, \"110\": 1}, \"125\": {\"125\": 8, \"24\": 1, \"30\": 1, \"27\": 1, \"101\": 1}, \"24\": {\"125\": 4, \"27\": 2, \"94\": 2, \"6\": 1, \"121\": 1, \"128\": 1, \"73\": 1}, \"129\": {\"129\": 6, \"107\": 1, \"5\": 1, \"124\": 2, \"31\": 1, \"40\": 1}, \"112\": {\"112\": 4, \"35\": 2, \"42\": 1, \"119\": 1, \"52\": 1, \"49\": 1, \"18\": 1, \"91\": 1}, \"110\": {\"114\": 1, \"110\": 1, \"129\": 1, \"61\": 1, \"87\": 1, \"88\": 2, \"123\": 1, \"53\": 1, \"1\": 1, \"20\": 2}, \"53\": {\"53\": 9, \"4\": 1, \"79\": 1, \"80\": 1}, \"12\": {\"12\": 5, \"3\": 2, \"95\": 1, \"111\": 1, \"52\": 1, \"15\": 1, \"103\": 1}, \"22\": {\"22\": 8, \"66\": 1, \"118\": 1, \"87\": 1, \"41\": 1}, \"46\": {\"110\": 1, \"14\": 1, \"46\": 3, \"32\": 1, \"71\": 2, \"10\": 1, \"90\": 1, \"4\": 2}, \"119\": {\"119\": 10, \"81\": 1, \"118\": 1}, \"75\": {\"75\": 11, \"25\": 1}, \"14\": {\"14\": 7, \"89\": 1, \"32\": 1, \"43\": 2, \"11\": 1}, \"71\": {\"71\": 5, \"95\": 1, \"3\": 2, \"4\": 1, \"52\": 1, \"111\": 1, \"114\": 1}, \"95\": {\"95\": 10, \"13\": 1, \"82\": 1}, \"13\": {\"13\": 4, \"108\": 1, \"113\": 1, \"16\": 1, \"81\": 1, \"109\": 2}, \"126\": {\"13\": 1, \"126\": 4, \"121\": 1, \"118\": 2, \"89\": 1, \"109\": 1}, \"104\": {\"104\": 3, \"53\": 1, \"79\": 1, \"74\": 1, \"55\": 1, \"16\": 1, \"107\": 1, \"93\": 1}, \"30\": {\"91\": 1, \"73\": 1, \"108\": 2, \"106\": 3, \"111\": 1, \"12\": 2, \"77\": 1, \"24\": 1}, \"97\": {\"73\": 2, \"97\": 6, \"6\": 1, \"83\": 1, \"58\": 1, \"27\": 1}, \"56\": {\"31\": 1, \"103\": 1, \"29\": 1, \"56\": 3, \"60\": 1, \"1\": 1, \"46\": 1, \"49\": 1, \"64\": 1, \"5\": 1}, \"115\": {\"115\": 6, \"55\": 1, \"120\": 1, \"107\": 1, \"14\": 1, \"82\": 1, \"50\": 1}, \"48\": {\"7\": 1, \"45\": 1, \"10\": 1, \"112\": 1, \"96\": 1, \"48\": 3, \"128\": 1, \"83\": 1}, \"7\": {\"42\": 1, \"7\": 10, \"15\": 1}, \"94\": {\"98\": 1, \"94\": 8, \"6\": 1, \"88\": 1, \"13\": 1}, \"38\": {\"38\": 11, \"14\": 1}, \"64\": {\"64\": 11, \"23\": 1}, \"43\": {\"43\": 5, \"64\": 1, \"96\": 1, \"47\": 1, \"45\": 1, \"11\": 1, \"38\": 2}, \"15\": {\"12\": 1, \"15\": 8, \"48\": 1, \"106\": 1, \"0\": 1}, \"82\": {\"82\": 11, \"33\": 1}, \"84\": {\"55\": 2, \"84\": 6, \"50\": 1, \"40\": 1, \"22\": 1, \"107\": 1}, \"29\": {\"29\": 8, \"28\": 1, \"57\": 1, \"44\": 1, \"128\": 1}, \"121\": {\"121\": 9, \"123\": 2, \"89\": 1}, \"127\": {\"9\": 1, \"127\": 6, \"3\": 1, \"111\": 1, \"68\": 1, \"35\": 1, \"105\": 1}, \"40\": {\"40\": 10, \"84\": 1, \"104\": 1}, \"106\": {\"3\": 1, \"106\": 3, \"49\": 2, \"30\": 2, \"15\": 1, \"7\": 1, \"42\": 2}, \"3\": {\"127\": 2, \"128\": 1, \"3\": 8, \"86\": 1}, \"120\": {\"120\": 11, \"88\": 1}, \"6\": {\"120\": 1, \"3\": 1, \"24\": 2, \"75\": 2, \"91\": 1, \"6\": 3, \"60\": 1, \"97\": 1}, \"0\": {\"0\": 5, \"111\": 2, \"101\": 1, \"10\": 2, \"15\": 1, \"7\": 1}, \"4\": {\"61\": 1, \"4\": 3, \"60\": 1, \"84\": 1, \"105\": 1, \"10\": 1, \"12\": 1, \"50\": 1, \"111\": 1, \"23\": 1}, \"27\": {\"49\": 1, \"106\": 1, \"27\": 5, \"111\": 1, \"25\": 1, \"85\": 1, \"6\": 2}, \"107\": {\"115\": 1, \"120\": 1, \"107\": 6, \"16\": 1, \"79\": 1, \"93\": 1, \"104\": 1}, \"61\": {\"61\": 11, \"13\": 1}, \"10\": {\"10\": 8, \"111\": 1, \"108\": 1, \"49\": 1, \"128\": 1}, \"67\": {\"67\": 8, \"113\": 2, \"49\": 1, \"18\": 1}, \"58\": {\"111\": 1, \"58\": 9}, \"66\": {\"66\": 11, \"22\": 1}, \"108\": {\"108\": 6, \"65\": 2, \"7\": 2, \"61\": 1, \"4\": 1}, \"20\": {\"99\": 1, \"20\": 3, \"29\": 1, \"104\": 1, \"13\": 1, \"92\": 1, \"41\": 1, \"88\": 2, \"90\": 1}, \"60\": {\"20\": 1, \"60\": 2, \"56\": 1, \"29\": 1, \"1\": 2, \"47\": 1, \"104\": 1, \"66\": 1, \"87\": 1, \"41\": 1}, \"128\": {\"108\": 1, \"85\": 1, \"105\": 3, \"128\": 5, \"10\": 1, \"114\": 1}, \"118\": {\"118\": 5, \"102\": 1, \"38\": 1, \"88\": 1, \"67\": 1, \"33\": 1, \"60\": 1, \"119\": 1}, \"25\": {\"25\": 11, \"75\": 1}, \"83\": {\"30\": 1, \"83\": 8, \"97\": 1, \"8\": 2}, \"68\": {\"68\": 6, \"30\": 1, \"108\": 1, \"10\": 1, \"5\": 1, \"105\": 1, \"49\": 1}, \"77\": {\"85\": 2, \"77\": 7, \"30\": 1, \"12\": 1, \"86\": 1}, \"88\": {\"22\": 2, \"108\": 1, \"21\": 1, \"88\": 5, \"99\": 1, \"49\": 1, \"26\": 1}, \"105\": {\"105\": 9, \"56\": 2, \"68\": 1}, \"35\": {\"35\": 8, \"52\": 1, \"128\": 1, \"15\": 1, \"46\": 1}, \"52\": {\"52\": 5, \"118\": 1, \"61\": 1, \"111\": 1}, \"59\": {\"59\": 6, \"6\": 2}, \"74\": {\"74\": 7, \"40\": 1, \"107\": 3, \"57\": 1}, \"16\": {\"74\": 1, \"87\": 1, \"20\": 1, \"79\": 1, \"93\": 1, \"16\": 3, \"40\": 2}, \"62\": {\"115\": 1, \"62\": 6, \"26\": 1, \"79\": 1, \"82\": 1}, \"79\": {\"65\": 2, \"79\": 10}, \"44\": {\"44\": 10}, \"113\": {\"26\": 1, \"113\": 4, \"79\": 1, \"11\": 1, \"67\": 1, \"61\": 1, \"93\": 1}, \"37\": {\"37\": 7, \"88\": 1}, \"100\": {\"100\": 5, \"40\": 1}}, \"W_A_2\": {\"73\": {\"73\": 7, \"40\": 1, \"5\": 2, \"22\": 2}, \"40\": {\"40\": 4, \"55\": 2, \"73\": 1, \"67\": 1, \"32\": 2, \"114\": 2}, \"99\": {\"89\": 1, \"99\": 10, \"120\": 1}, \"5\": {\"5\": 7, \"95\": 1, \"73\": 2, \"71\": 2}, \"108\": {\"108\": 12}, \"128\": {\"108\": 1, \"40\": 1, \"42\": 1, \"32\": 1, \"128\": 2, \"71\": 1, \"79\": 1, \"103\": 1, \"74\": 1}, \"89\": {\"89\": 5, \"96\": 2, \"72\": 1, \"92\": 2, \"65\": 1, \"64\": 1}, \"107\": {\"5\": 2, \"40\": 2, \"115\": 1, \"4\": 1, \"73\": 1, \"107\": 1, \"22\": 1, \"6\": 1, \"128\": 1, \"71\": 1}, \"2\": {\"2\": 7, \"68\": 1, \"48\": 1, \"13\": 1, \"72\": 1, \"47\": 1}, \"78\": {\"53\": 2, \"57\": 1, \"43\": 1, \"115\": 1, \"109\": 1, \"78\": 3, \"20\": 1, \"34\": 2}, \"85\": {\"85\": 5, \"93\": 1, \"86\": 2, \"56\": 1, \"128\": 1, \"52\": 1, \"104\": 1}, \"44\": {\"44\": 12}, \"58\": {\"58\": 6, \"45\": 1, \"9\": 1, \"39\": 1, \"51\": 3}, \"57\": {\"2\": 1, \"99\": 1, \"57\": 8, \"96\": 1, \"58\": 1}, \"41\": {\"108\": 3, \"79\": 2, \"0\": 1, \"41\": 5, \"88\": 1}, \"53\": {\"53\": 9, \"57\": 1, \"109\": 1, \"41\": 1}, \"14\": {\"85\": 1, \"43\": 2, \"110\": 1, \"14\": 5, \"39\": 1, \"121\": 1, \"67\": 1}, \"83\": {\"119\": 1, \"83\": 9, \"78\": 1, \"120\": 1}, \"119\": {\"119\": 12}, \"95\": {\"85\": 2, \"110\": 3, \"95\": 5, \"1\": 1, \"108\": 1}, \"28\": {\"118\": 2, \"28\": 3, \"121\": 1, \"12\": 1, \"85\": 1, \"67\": 1, \"45\": 1, \"57\": 1, \"84\": 1}, \"19\": {\"85\": 1, \"5\": 1, \"105\": 1, \"19\": 8, \"124\": 1}, \"69\": {\"69\": 7, \"118\": 2, \"16\": 2, \"12\": 1}, \"93\": {\"93\": 10, \"64\": 1, \"78\": 1}, \"9\": {\"9\": 10, \"15\": 1, \"30\": 1}, \"118\": {\"118\": 3, \"82\": 1, \"92\": 1, \"37\": 2, \"16\": 1, \"69\": 1, \"78\": 1, \"14\": 2}, \"43\": {\"119\": 1, \"43\": 2, \"96\": 1, \"115\": 2, \"84\": 1, \"108\": 1, \"14\": 1, \"110\": 1, \"67\": 1, \"0\": 1}, \"47\": {\"28\": 3, \"100\": 2, \"47\": 4, \"87\": 1, \"45\": 1, \"119\": 1}, \"125\": {\"125\": 8, \"9\": 1, \"6\": 1, \"51\": 2}, \"29\": {\"29\": 11, \"8\": 1}, \"4\": {\"4\": 3, \"114\": 1, \"12\": 3, \"127\": 1, \"19\": 1, \"124\": 1, \"79\": 1, \"108\": 1}, \"55\": {\"50\": 2, \"67\": 2, \"62\": 1, \"55\": 3, \"16\": 1, \"105\": 1, \"84\": 2}, \"105\": {\"105\": 5, \"4\": 1, \"74\": 1, \"19\": 2, \"108\": 1, \"110\": 1, \"73\": 1}, \"50\": {\"62\": 2, \"105\": 1, \"86\": 1, \"50\": 5, \"32\": 1, \"124\": 1, \"37\": 1}, \"62\": {\"50\": 1, \"62\": 7, \"80\": 1, \"61\": 1, \"55\": 1, \"23\": 1}, \"24\": {\"15\": 2, \"44\": 1, \"24\": 2, \"7\": 1, \"27\": 2, \"98\": 1, \"94\": 1, \"53\": 1, \"10\": 1}, \"60\": {\"59\": 2, \"60\": 4, \"116\": 1, \"90\": 1, \"109\": 1, \"100\": 1, \"123\": 1, \"37\": 1}, \"106\": {\"106\": 8, \"51\": 2, \"97\": 1, \"91\": 1}, \"59\": {\"4\": 2, \"59\": 7, \"8\": 1, \"108\": 1, \"92\": 1}, \"49\": {\"106\": 2, \"52\": 1, \"127\": 1, \"10\": 1, \"114\": 1, \"49\": 3, \"6\": 1, \"57\": 1, \"29\": 1}, \"76\": {\"60\": 2, \"76\": 2, \"23\": 1, \"14\": 1, \"39\": 1, \"118\": 2, \"96\": 1, \"31\": 1, \"107\": 1}, \"122\": {\"122\": 6, \"114\": 1, \"108\": 1, \"128\": 2, \"10\": 1, \"85\": 1}, \"114\": {\"114\": 6, \"5\": 1, \"127\": 1, \"54\": 1, \"57\": 1}, \"15\": {\"15\": 9, \"9\": 1, \"101\": 1, \"125\": 1}, \"98\": {\"98\": 11, \"11\": 1}, \"91\": {\"38\": 2, \"112\": 1, \"6\": 1, \"12\": 1, \"91\": 3, \"79\": 1, \"0\": 1, \"94\": 1, \"61\": 1}, \"80\": {\"80\": 6, \"86\": 2, \"129\": 1, \"37\": 1, \"67\": 1, \"19\": 1}, \"113\": {\"113\": 7, \"72\": 2, \"118\": 1, \"85\": 1, \"99\": 1}, \"38\": {\"38\": 12}, \"86\": {\"0\": 1, \"86\": 9, \"129\": 1, \"50\": 1}, \"0\": {\"21\": 1, \"38\": 1, \"35\": 2, \"71\": 1, \"30\": 1, \"0\": 1, \"112\": 1, \"49\": 2}, \"90\": {\"90\": 9, \"73\": 1, \"33\": 1, \"87\": 1}, \"21\": {\"21\": 9, \"2\": 1, \"23\": 1, \"68\": 1}, \"31\": {\"31\": 7, \"83\": 1, \"82\": 1, \"8\": 1, \"124\": 1, \"96\": 1}, \"33\": {\"33\": 8, \"86\": 1, \"28\": 1, \"84\": 1, \"110\": 1}, \"64\": {\"80\": 2, \"64\": 6, \"13\": 2, \"39\": 1, \"48\": 1}, \"81\": {\"81\": 7, \"102\": 1, \"13\": 1, \"16\": 1, \"18\": 1, \"26\": 1}, \"17\": {\"81\": 1, \"105\": 1, \"17\": 1, \"78\": 1, \"57\": 1, \"95\": 1, \"4\": 1, \"21\": 1, \"104\": 1, \"5\": 1, \"23\": 1, \"62\": 1}, \"102\": {\"102\": 8, \"67\": 1, \"87\": 1, \"63\": 1, \"116\": 1}, \"74\": {\"108\": 1, \"74\": 7, \"6\": 1, \"12\": 1, \"68\": 1, \"43\": 1}, \"34\": {\"11\": 1, \"17\": 1, \"53\": 1, \"124\": 1, \"46\": 1, \"58\": 1, \"1\": 1, \"34\": 2, \"98\": 1, \"71\": 1, \"107\": 1}, \"45\": {\"45\": 7, \"15\": 1, \"48\": 1, \"102\": 1, \"93\": 1, \"50\": 1}, \"75\": {\"75\": 12}, \"11\": {\"11\": 5, \"52\": 1, \"103\": 1, \"51\": 1, \"108\": 1, \"38\": 1, \"106\": 1, \"91\": 1}, \"79\": {\"108\": 2, \"123\": 1, \"79\": 2, \"111\": 2, \"53\": 1, \"115\": 2, \"38\": 1, \"112\": 1}, \"109\": {\"109\": 7, \"70\": 1, \"88\": 1, \"118\": 1, \"67\": 1, \"116\": 1}, \"6\": {\"125\": 2, \"68\": 1, \"6\": 5, \"30\": 1, \"128\": 2, \"29\": 1}, \"94\": {\"125\": 3, \"21\": 2, \"101\": 1, \"94\": 5, \"82\": 1}, \"100\": {\"100\": 8, \"99\": 1, \"84\": 1, \"1\": 1, \"47\": 1}, \"67\": {\"109\": 1, \"100\": 1, \"50\": 1, \"67\": 6, \"92\": 1, \"62\": 1, \"40\": 1}, \"97\": {\"97\": 4, \"91\": 1, \"111\": 1, \"49\": 1, \"112\": 1, \"15\": 1, \"106\": 1, \"10\": 1, \"29\": 1}, \"112\": {\"112\": 7, \"42\": 2, \"38\": 2, \"0\": 1}, \"96\": {\"96\": 7, \"89\": 1, \"31\": 1, \"21\": 1, \"13\": 1, \"82\": 1}, \"35\": {\"35\": 7, \"12\": 1, \"98\": 1, \"0\": 1, \"42\": 1, \"114\": 1}, \"54\": {\"43\": 2, \"54\": 2, \"19\": 1, \"68\": 2, \"77\": 2, \"47\": 1, \"49\": 1, \"114\": 1}, \"111\": {\"111\": 6, \"83\": 1, \"10\": 2, \"122\": 1, \"38\": 2}, \"61\": {\"2\": 1, \"61\": 7, \"119\": 1, \"123\": 1, \"19\": 1, \"21\": 1}, \"82\": {\"82\": 9, \"118\": 1, \"81\": 1, \"100\": 1}, \"110\": {\"110\": 11, \"59\": 1}, \"116\": {\"83\": 1, \"31\": 1, \"20\": 1, \"116\": 4, \"28\": 1, \"93\": 1, \"120\": 1, \"102\": 1, \"66\": 1}, \"115\": {\"115\": 4, \"79\": 1, \"127\": 2, \"8\": 1, \"34\": 2, \"54\": 1, \"17\": 1}, \"84\": {\"86\": 3, \"124\": 1, \"84\": 2, \"1\": 1, \"62\": 2, \"43\": 1, \"58\": 1, \"28\": 1}, \"25\": {\"25\": 8, \"68\": 1, \"15\": 2, \"17\": 1}, \"66\": {\"66\": 6, \"22\": 1, \"39\": 1, \"78\": 1, \"124\": 1, \"126\": 2}, \"20\": {\"20\": 9, \"67\": 2, \"121\": 1}, \"72\": {\"72\": 8, \"20\": 1, \"81\": 1, \"89\": 2}, \"123\": {\"123\": 12}, \"3\": {\"3\": 10, \"115\": 1, \"12\": 1}, \"124\": {\"123\": 2, \"124\": 5, \"56\": 1, \"78\": 1, \"44\": 2, \"109\": 1}, \"36\": {\"36\": 7, \"27\": 1}, \"12\": {\"38\": 1, \"21\": 1, \"111\": 2, \"71\": 1, \"103\": 2, \"4\": 2, \"41\": 1, \"108\": 1, \"12\": 1}, \"10\": {\"12\": 3, \"10\": 5, \"29\": 2, \"30\": 2}, \"23\": {\"12\": 1, \"120\": 1, \"42\": 1, \"23\": 2, \"77\": 2, \"17\": 1, \"29\": 1, \"57\": 1}, \"120\": {\"120\": 12}, \"121\": {\"121\": 9, \"117\": 1, \"118\": 1, \"81\": 1}, \"68\": {\"54\": 2, \"8\": 2, \"68\": 4, \"127\": 2, \"86\": 2}, \"117\": {\"121\": 1, \"117\": 7, \"16\": 1, \"34\": 1, \"81\": 2}, \"92\": {\"20\": 1, \"92\": 6, \"88\": 3, \"65\": 2}, \"129\": {\"90\": 2, \"40\": 1, \"129\": 2, \"87\": 1, \"103\": 2, \"124\": 1, \"32\": 3}, \"7\": {\"7\": 9, \"26\": 1, \"129\": 1, \"41\": 1}, \"37\": {\"61\": 1, \"37\": 5, \"16\": 2, \"63\": 1, \"84\": 1, \"40\": 1, \"109\": 1}, \"71\": {\"71\": 8, \"0\": 1, \"12\": 1, \"128\": 1, \"38\": 1}, \"30\": {\"123\": 1, \"0\": 1, \"30\": 4, \"42\": 1, \"106\": 1, \"103\": 2, \"11\": 1, \"111\": 1}, \"127\": {\"127\": 7, \"115\": 1, \"71\": 1, \"95\": 1}, \"52\": {\"52\": 8, \"28\": 1, \"42\": 2, \"112\": 1}, \"22\": {\"22\": 8, \"66\": 1, \"87\": 2, \"1\": 1}, \"16\": {\"16\": 5, \"83\": 1, \"14\": 2, \"13\": 2, \"118\": 1, \"80\": 1}, \"126\": {\"60\": 2, \"39\": 1, \"126\": 2, \"70\": 1, \"23\": 1, \"119\": 1}, \"48\": {\"48\": 7, \"65\": 1, \"6\": 1, \"94\": 1, \"72\": 1, \"82\": 1}, \"101\": {\"101\": 10, \"30\": 1, \"71\": 1}, \"42\": {\"42\": 7, \"128\": 1, \"77\": 1, \"52\": 1, \"59\": 1, \"91\": 1}, \"1\": {\"10\": 1, \"33\": 1, \"14\": 1, \"46\": 1, \"19\": 1, \"95\": 1, \"1\": 2, \"111\": 2, \"8\": 2}, \"63\": {\"63\": 7, \"37\": 1, \"104\": 3, \"84\": 1}, \"56\": {\"11\": 1, \"84\": 1, \"56\": 5, \"51\": 1, \"22\": 1, \"33\": 1, \"66\": 2}, \"18\": {\"18\": 10, \"92\": 1, \"89\": 1}, \"46\": {\"46\": 8, \"66\": 1, \"73\": 1, \"87\": 1, \"119\": 1}, \"103\": {\"8\": 1, \"56\": 1, \"103\": 4, \"71\": 1, \"79\": 2, \"108\": 1, \"111\": 1, \"12\": 1}, \"13\": {\"18\": 2, \"16\": 2, \"72\": 1, \"82\": 2, \"2\": 1, \"14\": 1, \"118\": 1, \"58\": 1, \"13\": 1}, \"8\": {\"124\": 1, \"53\": 1, \"8\": 4, \"70\": 1, \"19\": 1, \"122\": 2, \"61\": 1, \"87\": 1}, \"39\": {\"39\": 5, \"26\": 2, \"63\": 1, \"72\": 1, \"28\": 1, \"109\": 1, \"57\": 1}, \"51\": {\"51\": 4, \"58\": 1, \"70\": 1, \"9\": 2, \"88\": 1, \"15\": 2, \"125\": 1}, \"87\": {\"46\": 1, \"40\": 1, \"88\": 1, \"19\": 1, \"126\": 1, \"87\": 3, \"122\": 1, \"85\": 1, \"109\": 1, \"100\": 1}, \"27\": {\"27\": 7, \"20\": 1, \"94\": 2, \"124\": 1, \"21\": 1}, \"70\": {\"70\": 4, \"50\": 1, \"1\": 2, \"88\": 2, \"126\": 2, \"62\": 1}, \"32\": {\"32\": 11, \"62\": 1}, \"77\": {\"77\": 9, \"42\": 1, \"30\": 1, \"28\": 1}, \"26\": {\"26\": 8, \"82\": 1, \"13\": 1, \"81\": 2}, \"88\": {\"88\": 5, \"87\": 1, \"126\": 2, \"61\": 1, \"70\": 1}, \"65\": {\"65\": 11, \"120\": 1}, \"104\": {\"61\": 1, \"104\": 2, \"22\": 1, \"73\": 1, \"20\": 1, \"28\": 1, \"60\": 1}}, \"C_A_2\": {\"32\": {\"32\": 11, \"17\": 1}, \"17\": {\"17\": 12}, \"38\": {\"38\": 11, \"24\": 1}, \"2\": {\"37\": 2, \"2\": 6, \"55\": 2}, \"43\": {\"43\": 7, \"24\": 1}, \"56\": {\"38\": 2, \"56\": 8, \"13\": 1, \"28\": 1}, \"37\": {\"37\": 12}, \"49\": {\"49\": 11, \"6\": 1}, \"0\": {\"0\": 9, \"23\": 1}, \"29\": {\"29\": 9, \"48\": 1}, \"35\": {\"35\": 10}, \"18\": {\"18\": 11, \"4\": 1}, \"25\": {\"25\": 11, \"36\": 1}, \"23\": {\"23\": 10, \"43\": 1, \"30\": 1}, \"15\": {\"15\": 10, \"16\": 2}, \"21\": {\"21\": 12}, \"48\": {\"48\": 11, \"46\": 1}, \"12\": {\"12\": 9, \"36\": 1}, \"41\": {\"41\": 9, \"39\": 1}, \"14\": {\"22\": 1, \"14\": 3, \"40\": 3, \"32\": 1, \"24\": 1, \"19\": 1, \"11\": 1, \"33\": 1}, \"7\": {\"55\": 2, \"7\": 8}, \"9\": {\"9\": 10, \"40\": 2}, \"55\": {\"23\": 1, \"55\": 6, \"7\": 1, \"42\": 1, \"2\": 1, \"46\": 1, \"39\": 1}, \"36\": {\"36\": 11, \"27\": 1}, \"22\": {\"13\": 2, \"22\": 8, \"56\": 1, \"1\": 1}, \"13\": {\"13\": 9, \"52\": 1}, \"30\": {\"30\": 12}, \"51\": {\"51\": 8, \"46\": 1, \"53\": 1, \"37\": 2}, \"34\": {\"34\": 12}, \"57\": {\"57\": 11, \"46\": 1}, \"47\": {\"57\": 1, \"47\": 7, \"23\": 3, \"31\": 1}, \"1\": {\"1\": 5, \"47\": 3, \"41\": 1, \"31\": 1}, \"44\": {\"44\": 9, \"2\": 1, \"45\": 1, \"41\": 1}, \"31\": {\"31\": 6, \"47\": 1, \"1\": 1, \"7\": 2}, \"4\": {\"4\": 9, \"40\": 1, \"9\": 2}, \"10\": {\"10\": 12}, \"33\": {\"33\": 11, \"19\": 1}, \"52\": {\"52\": 10, \"46\": 1, \"16\": 1}, \"24\": {\"24\": 9, \"28\": 1, \"38\": 1, \"0\": 1}, \"8\": {\"8\": 9, \"20\": 1}, \"26\": {\"26\": 10}, \"42\": {\"48\": 1, \"42\": 7, \"9\": 1, \"3\": 1, \"31\": 1, \"17\": 1}, \"53\": {\"53\": 8, \"54\": 1, \"41\": 2, \"6\": 1}, \"54\": {\"54\": 12}, \"46\": {\"46\": 7, \"3\": 2, \"2\": 1}, \"39\": {\"39\": 12}, \"16\": {\"16\": 7, \"11\": 1, \"30\": 1, \"52\": 1}, \"11\": {\"11\": 9, \"24\": 1, \"16\": 2}, \"40\": {\"40\": 8, \"33\": 1, \"4\": 1, \"9\": 2}, \"28\": {\"28\": 8}, \"19\": {\"19\": 12}, \"50\": {\"26\": 1, \"54\": 1, \"50\": 1, \"8\": 1, \"27\": 2}, \"45\": {\"45\": 4, \"40\": 1, \"54\": 3, \"8\": 1, \"35\": 1}, \"20\": {\"20\": 12}, \"27\": {\"27\": 6, \"36\": 3, \"54\": 1}, \"6\": {\"3\": 1, \"36\": 1, \"6\": 8}, \"3\": {\"42\": 1, \"36\": 1, \"6\": 2, \"53\": 1, \"54\": 1, \"3\": 1, \"25\": 1, \"46\": 1, \"17\": 1}, \"5\": {\"5\": 5, \"39\": 1}}, \"C_A_3\": {\"5\": {\"5\": 6, \"28\": 1, \"34\": 1, \"48\": 2}, \"32\": {\"32\": 12}, \"33\": {\"33\": 9, \"39\": 1, \"41\": 1, \"38\": 1}, \"49\": {\"49\": 12}, \"39\": {\"39\": 10, \"52\": 1, \"47\": 1}, \"11\": {\"11\": 9, \"39\": 2, \"13\": 1}, \"8\": {\"12\": 2, \"8\": 9, \"36\": 1}, \"26\": {\"26\": 8, \"55\": 1, \"48\": 1}, \"51\": {\"51\": 9, \"53\": 1, \"39\": 1, \"37\": 1}, \"4\": {\"4\": 12}, \"52\": {\"52\": 10}, \"47\": {\"47\": 7, \"23\": 1, \"48\": 1, \"34\": 2, \"1\": 1}, \"17\": {\"17\": 9, \"48\": 1}, \"53\": {\"53\": 6, \"2\": 4, \"38\": 1, \"21\": 1}, \"2\": {\"2\": 12}, \"12\": {\"12\": 6, \"38\": 3, \"36\": 1}, \"28\": {\"29\": 1, \"28\": 8, \"5\": 1, \"31\": 1, \"49\": 1}, \"6\": {\"6\": 4, \"18\": 1, \"55\": 1, \"3\": 2, \"9\": 1, \"36\": 2, \"54\": 1}, \"50\": {\"50\": 5, \"6\": 1}, \"57\": {\"57\": 12}, \"38\": {\"38\": 12}, \"18\": {\"39\": 1, \"18\": 11}, \"29\": {\"29\": 8, \"9\": 2}, \"10\": {\"10\": 12}, \"13\": {\"13\": 8, \"37\": 3, \"24\": 1}, \"14\": {\"44\": 1, \"56\": 1, \"51\": 1, \"35\": 2, \"19\": 1, \"14\": 1, \"10\": 3, \"53\": 1, \"2\": 1}, \"16\": {\"0\": 1, \"16\": 4, \"15\": 2, \"41\": 1, \"52\": 2}, \"46\": {\"46\": 5, \"48\": 1, \"42\": 1, \"47\": 2, \"9\": 1, \"6\": 1, \"39\": 1}, \"44\": {\"44\": 10, \"2\": 2}, \"20\": {\"20\": 12}, \"0\": {\"0\": 11, \"16\": 1}, \"55\": {\"39\": 1, \"28\": 1, \"55\": 8, \"48\": 1, \"42\": 1}, \"56\": {\"56\": 5, \"10\": 1}, \"19\": {\"19\": 9, \"40\": 2, \"53\": 1}, \"36\": {\"36\": 12}, \"48\": {\"48\": 8, \"17\": 1, \"52\": 2, \"47\": 1}, \"37\": {\"37\": 9, \"13\": 1, \"34\": 1, \"5\": 1}, \"35\": {\"35\": 9, \"1\": 1}, \"31\": {\"31\": 8, \"0\": 1, \"1\": 1}, \"30\": {\"30\": 8}, \"41\": {\"41\": 10, \"46\": 1, \"23\": 1}, \"15\": {\"15\": 10, \"18\": 1, \"23\": 1}, \"1\": {\"1\": 12}, \"22\": {\"22\": 10, \"37\": 1, \"23\": 1}, \"21\": {\"21\": 10, \"6\": 1, \"55\": 1}, \"45\": {\"45\": 7, \"42\": 1, \"54\": 1, \"53\": 1}, \"42\": {\"42\": 4, \"17\": 3, \"3\": 3, \"27\": 1, \"36\": 1}, \"24\": {\"24\": 11, \"43\": 1}, \"40\": {\"40\": 11, \"4\": 1}, \"43\": {\"43\": 11, \"24\": 1}, \"3\": {\"3\": 4, \"55\": 1, \"9\": 1, \"27\": 1, \"46\": 1, \"42\": 2, \"6\": 2}, \"23\": {\"23\": 7, \"7\": 1}, \"27\": {\"27\": 10}, \"34\": {\"34\": 11, \"23\": 1}, \"9\": {\"9\": 10}, \"25\": {\"25\": 8}, \"54\": {\"54\": 8}, \"7\": {\"7\": 8}}, \"C_A_1\": {\"55\": {\"55\": 9, \"54\": 1, \"34\": 1, \"0\": 1}, \"38\": {\"38\": 12}, \"49\": {\"49\": 10}, \"10\": {\"10\": 9, \"31\": 1, \"11\": 1, \"21\": 1}, \"28\": {\"28\": 10}, \"14\": {\"55\": 1, \"53\": 2, \"54\": 3, \"7\": 1, \"14\": 2, \"30\": 1, \"13\": 1, \"25\": 1}, \"19\": {\"19\": 10, \"56\": 1, \"7\": 1}, \"25\": {\"25\": 12}, \"22\": {\"22\": 10, \"52\": 2}, \"47\": {\"47\": 8, \"35\": 1, \"32\": 1, \"49\": 1, \"28\": 1}, \"53\": {\"53\": 11, \"26\": 1}, \"54\": {\"54\": 12}, \"8\": {\"8\": 9, \"14\": 1, \"25\": 1, \"6\": 1}, \"4\": {\"4\": 10, \"40\": 2}, \"31\": {\"31\": 10, \"22\": 1, \"23\": 1}, \"6\": {\"6\": 6, \"50\": 2, \"48\": 1, \"46\": 2, \"2\": 1}, \"20\": {\"20\": 12}, \"21\": {\"21\": 8, \"23\": 2}, \"15\": {\"21\": 1, \"22\": 1, \"23\": 1, \"15\": 9}, \"40\": {\"40\": 12}, \"48\": {\"48\": 10, \"8\": 1, \"6\": 1}, \"7\": {\"7\": 10, \"9\": 1, \"1\": 1}, \"50\": {\"50\": 12}, \"32\": {\"32\": 7, \"34\": 1}, \"56\": {\"56\": 7, \"29\": 2, \"37\": 1, \"19\": 1, \"1\": 1}, \"26\": {\"26\": 10}, \"34\": {\"34\": 12}, \"42\": {\"42\": 10}, \"29\": {\"40\": 1, \"7\": 2, \"29\": 6, \"35\": 1, \"3\": 1, \"56\": 1}, \"46\": {\"46\": 8, \"48\": 1, \"25\": 1}, \"24\": {\"24\": 7, \"11\": 1, \"55\": 1, \"22\": 1}, \"18\": {\"18\": 12}, \"16\": {\"16\": 4, \"18\": 2}, \"45\": {\"45\": 10, \"38\": 1, \"3\": 1}, \"3\": {\"45\": 1, \"3\": 4, \"7\": 1, \"13\": 3, \"54\": 1, \"38\": 1, \"20\": 1}, \"17\": {\"17\": 9, \"48\": 2, \"5\": 1}, \"35\": {\"35\": 11, \"1\": 1}, \"30\": {\"30\": 9, \"8\": 1}, \"1\": {\"1\": 11, \"57\": 1}, \"23\": {\"23\": 10, \"31\": 1, \"22\": 1}, \"0\": {\"0\": 8, \"52\": 1, \"55\": 1}, \"52\": {\"52\": 9, \"22\": 1, \"23\": 1, \"11\": 1}, \"43\": {\"43\": 11, \"27\": 1}, \"44\": {\"44\": 7, \"42\": 1, \"35\": 2, \"55\": 1, \"37\": 1}, \"27\": {\"27\": 12}, \"9\": {\"9\": 12}, \"57\": {\"1\": 2, \"57\": 6}, \"2\": {\"50\": 1, \"2\": 9, \"48\": 2}, \"36\": {\"36\": 8}, \"12\": {\"12\": 12}, \"33\": {\"34\": 2, \"33\": 8}, \"13\": {\"13\": 10}, \"51\": {\"51\": 9, \"37\": 1}, \"11\": {\"11\": 8, \"31\": 1, \"10\": 1, \"15\": 1, \"36\": 1}, \"5\": {\"5\": 9, \"48\": 2, \"46\": 1}, \"37\": {\"37\": 12}, \"39\": {\"39\": 4}, \"41\": {\"41\": 6}}, \"W_A_1\": {\"57\": {\"57\": 9, \"84\": 1, \"76\": 1, \"9\": 1}, \"113\": {\"117\": 1, \"118\": 1, \"113\": 4, \"46\": 1, \"16\": 2, \"123\": 1, \"13\": 1, \"120\": 1}, \"114\": {\"114\": 5, \"113\": 1, \"17\": 1, \"122\": 1, \"3\": 2, \"55\": 1, \"20\": 1}, \"88\": {\"10\": 1, \"71\": 1, \"88\": 4, \"15\": 1, \"125\": 3, \"36\": 2}, \"4\": {\"114\": 2, \"4\": 4, \"86\": 2, \"17\": 1, \"0\": 1, \"10\": 1, \"19\": 1}, \"129\": {\"129\": 1, \"84\": 1, \"57\": 1, \"18\": 1, \"74\": 1, \"20\": 3, \"107\": 1, \"2\": 1, \"100\": 1, \"116\": 1}, \"67\": {\"67\": 11, \"100\": 1}, \"84\": {\"4\": 1, \"114\": 1, \"40\": 2, \"84\": 1, \"101\": 1, \"129\": 2}, \"13\": {\"118\": 1, \"117\": 1, \"13\": 6, \"11\": 1, \"123\": 1, \"91\": 1, \"63\": 1}, \"71\": {\"71\": 11, \"36\": 1}, \"10\": {\"113\": 1, \"10\": 6, \"108\": 1, \"104\": 1, \"32\": 1, \"86\": 1, \"120\": 1}, \"56\": {\"56\": 8, \"77\": 1, \"85\": 1, \"70\": 1, \"73\": 1}, \"109\": {\"109\": 8, \"122\": 1, \"70\": 1, \"39\": 1, \"78\": 1}, \"117\": {\"118\": 3, \"117\": 6, \"113\": 1, \"16\": 2}, \"9\": {\"9\": 6, \"40\": 1, \"54\": 2, \"56\": 1, \"57\": 1, \"77\": 1}, \"118\": {\"117\": 1, \"118\": 7, \"95\": 1, \"61\": 1, \"69\": 1, \"13\": 1}, \"85\": {\"85\": 11, \"55\": 1}, \"44\": {\"44\": 10}, \"17\": {\"36\": 1, \"114\": 1, \"107\": 1, \"1\": 1, \"86\": 1, \"7\": 1, \"17\": 2, \"37\": 1, \"20\": 1}, \"24\": {\"125\": 2, \"24\": 4, \"27\": 1, \"91\": 1, \"97\": 2, \"88\": 1, \"23\": 1}, \"98\": {\"98\": 9, \"86\": 3}, \"12\": {\"63\": 1, \"12\": 8, \"68\": 1, \"75\": 2}, \"106\": {\"85\": 2, \"115\": 1, \"111\": 1, \"106\": 5, \"107\": 1, \"79\": 2}, \"42\": {\"42\": 3, \"63\": 1, \"3\": 2, \"20\": 1, \"76\": 3, \"95\": 1, \"22\": 1}, \"63\": {\"63\": 12}, \"14\": {\"14\": 8, \"122\": 1, \"126\": 1, \"99\": 1, \"114\": 1}, \"122\": {\"122\": 3, \"14\": 1, \"41\": 1, \"19\": 1, \"82\": 1, \"57\": 1, \"4\": 1, \"105\": 1}, \"36\": {\"36\": 9, \"125\": 1, \"30\": 1, \"51\": 1}, \"125\": {\"125\": 7, \"88\": 1, \"92\": 1, \"51\": 2, \"53\": 1}, \"62\": {\"62\": 8, \"95\": 1, \"50\": 2, \"74\": 1}, \"38\": {\"38\": 9, \"120\": 1, \"25\": 1, \"116\": 1}, \"40\": {\"84\": 2, \"83\": 1, \"57\": 1, \"40\": 4, \"110\": 1, \"102\": 1, \"114\": 1, \"74\": 1}, \"116\": {\"2\": 1, \"38\": 1, \"116\": 5, \"81\": 1, \"33\": 1, \"69\": 1, \"80\": 1, \"99\": 1}, \"2\": {\"2\": 7, \"81\": 1, \"61\": 1, \"18\": 1, \"120\": 1, \"80\": 1}, \"54\": {\"54\": 8, \"45\": 1, \"78\": 1, \"96\": 1, \"47\": 1}, \"26\": {\"26\": 9, \"37\": 1, \"112\": 1, \"118\": 1}, \"92\": {\"92\": 7, \"71\": 1}, \"120\": {\"120\": 6, \"116\": 2, \"65\": 1, \"8\": 1, \"61\": 2}, \"108\": {\"9\": 1, \"10\": 1, \"97\": 1, \"77\": 1, \"85\": 1, \"110\": 1, \"5\": 1, \"21\": 1, \"41\": 1, \"108\": 1}, \"77\": {\"126\": 3, \"77\": 6, \"7\": 3}, \"58\": {\"58\": 7, \"101\": 1, \"32\": 1, \"86\": 1, \"72\": 2}, \"73\": {\"77\": 1, \"126\": 3, \"73\": 3, \"57\": 1, \"79\": 2, \"115\": 2}, \"61\": {\"61\": 6, \"99\": 2, \"120\": 1, \"12\": 1, \"45\": 2}, \"126\": {\"101\": 2, \"32\": 2, \"54\": 1, \"21\": 1, \"126\": 6}, \"103\": {\"77\": 3, \"126\": 1, \"101\": 1, \"103\": 6, \"34\": 1}, \"100\": {\"100\": 11, \"61\": 1}, \"46\": {\"58\": 1, \"100\": 1, \"46\": 1, \"124\": 1, \"61\": 1, \"122\": 1, \"94\": 1, \"81\": 1, \"102\": 2, \"91\": 2}, \"93\": {\"84\": 1, \"32\": 1, \"93\": 5, \"50\": 1, \"48\": 1, \"43\": 1, \"103\": 1, \"105\": 1}, \"101\": {\"101\": 10, \"86\": 1, \"41\": 1}, \"32\": {\"32\": 9, \"93\": 1, \"68\": 1, \"0\": 1}, \"16\": {\"16\": 8, \"113\": 1, \"63\": 1, \"50\": 1, \"95\": 1}, \"8\": {\"8\": 7, \"14\": 1, \"70\": 1, \"28\": 1, \"87\": 1, \"86\": 1}, \"104\": {\"104\": 7, \"95\": 1, \"48\": 1, \"3\": 1, \"20\": 1, \"119\": 1}, \"47\": {\"17\": 1, \"104\": 2, \"47\": 5, \"66\": 1, \"22\": 1, \"73\": 2}, \"3\": {\"3\": 9, \"78\": 1, \"104\": 1, \"87\": 1}, \"1\": {\"42\": 1, \"1\": 6, \"72\": 1, \"99\": 1, \"55\": 1, \"87\": 1, \"90\": 1}, \"18\": {\"18\": 9, \"121\": 1, \"100\": 1, \"60\": 1}, \"97\": {\"97\": 6, \"108\": 1, \"52\": 1, \"44\": 1, \"15\": 1}, \"107\": {\"107\": 9, \"86\": 2, \"40\": 1}, \"15\": {\"15\": 9, \"86\": 1, \"31\": 1, \"24\": 1}, \"6\": {\"37\": 4, \"88\": 1, \"15\": 1, \"111\": 1, \"6\": 3, \"52\": 1, \"127\": 1}, \"86\": {\"86\": 12}, \"30\": {\"37\": 1, \"30\": 5, \"75\": 1, \"86\": 1, \"41\": 1, \"104\": 1, \"88\": 1, \"27\": 1}, \"111\": {\"111\": 8, \"127\": 2}, \"37\": {\"37\": 12}, \"81\": {\"81\": 7, \"82\": 1, \"120\": 1, \"60\": 1, \"11\": 2}, \"7\": {\"7\": 10, \"77\": 2}, \"70\": {\"7\": 1, \"70\": 5, \"48\": 2, \"107\": 1, \"26\": 1, \"56\": 1, \"44\": 1}, \"124\": {\"124\": 4, \"83\": 1, \"66\": 2, \"17\": 1, \"45\": 2}, \"76\": {\"76\": 9, \"83\": 1, \"96\": 1, \"42\": 1}, \"95\": {\"121\": 2, \"95\": 10}, \"27\": {\"27\": 7, \"75\": 1, \"0\": 1, \"52\": 1}, \"75\": {\"75\": 7, \"127\": 1, \"31\": 1, \"68\": 1, \"58\": 1, \"92\": 1}, \"50\": {\"65\": 2, \"102\": 2, \"50\": 4, \"20\": 1, \"81\": 1, \"25\": 1, \"80\": 1}, \"52\": {\"27\": 2, \"52\": 9, \"97\": 1}, \"83\": {\"83\": 3, \"65\": 1, \"21\": 1, \"45\": 1, \"59\": 1, \"76\": 1, \"8\": 1, \"99\": 1, \"112\": 1, \"56\": 1}, \"65\": {\"65\": 3, \"46\": 1, \"116\": 1, \"29\": 1, \"83\": 1, \"69\": 2, \"64\": 1, \"109\": 1, \"128\": 1}, \"121\": {\"121\": 7, \"63\": 1, \"119\": 1, \"123\": 1, \"60\": 2}, \"123\": {\"123\": 10, \"118\": 1, \"121\": 1}, \"110\": {\"110\": 2, \"126\": 1, \"96\": 1, \"40\": 1, \"5\": 1}, \"31\": {\"31\": 11, \"48\": 1}, \"68\": {\"32\": 1, \"110\": 1, \"68\": 5, \"48\": 1, \"0\": 1, \"126\": 1, \"101\": 1, \"127\": 1}, \"0\": {\"110\": 1, \"32\": 2, \"0\": 3, \"1\": 1, \"72\": 2, \"86\": 2, \"4\": 1}, \"72\": {\"72\": 7, \"20\": 1, \"55\": 1, \"45\": 1, \"19\": 1, \"4\": 1}, \"102\": {\"33\": 2, \"102\": 4, \"80\": 1, \"50\": 1, \"25\": 1, \"42\": 1}, \"48\": {\"48\": 7, \"72\": 1, \"41\": 1, \"32\": 1, \"58\": 2}, \"33\": {\"33\": 7, \"69\": 2, \"129\": 1, \"67\": 1, \"74\": 1}, \"51\": {\"51\": 10, \"94\": 2}, \"99\": {\"99\": 8}, \"82\": {\"82\": 5, \"67\": 1, \"33\": 1, \"81\": 1, \"19\": 1, \"57\": 1, \"61\": 1, \"22\": 1}, \"94\": {\"27\": 1, \"94\": 8, \"91\": 1, \"30\": 1, \"59\": 1}, \"25\": {\"25\": 4, \"122\": 1, \"11\": 1, \"54\": 1, \"81\": 1, \"39\": 1, \"102\": 1, \"120\": 1, \"80\": 1}, \"39\": {\"38\": 2, \"16\": 1, \"39\": 6, \"2\": 1, \"50\": 1, \"102\": 1}, \"59\": {\"59\": 9, \"112\": 2, \"125\": 1}, \"20\": {\"20\": 8, \"29\": 1, \"74\": 1, \"128\": 1, \"89\": 1}, \"53\": {\"37\": 1, \"53\": 9, \"94\": 1, \"125\": 1}, \"115\": {\"115\": 6, \"48\": 1, \"9\": 1, \"31\": 1, \"103\": 1}, \"41\": {\"41\": 7, \"48\": 1, \"30\": 1, \"115\": 1, \"70\": 1, \"128\": 1}, \"35\": {\"35\": 3, \"115\": 1, \"111\": 1, \"89\": 1}, \"64\": {\"64\": 6, \"23\": 1, \"66\": 1}, \"78\": {\"78\": 3, \"80\": 1, \"50\": 1, \"128\": 1, \"96\": 1, \"66\": 1, \"10\": 1, \"33\": 1, \"109\": 1, \"55\": 1}, \"45\": {\"97\": 1, \"50\": 1, \"81\": 1, \"128\": 1, \"54\": 1, \"126\": 3, \"45\": 2, \"23\": 1, \"129\": 1}, \"80\": {\"102\": 1, \"118\": 1, \"80\": 5, \"62\": 1, \"100\": 1, \"82\": 2, \"66\": 1}, \"128\": {\"19\": 1, \"128\": 3, \"28\": 1, \"29\": 1, \"66\": 1, \"126\": 1, \"101\": 2, \"17\": 1, \"41\": 1}, \"96\": {\"96\": 5, \"21\": 1, \"129\": 1, \"19\": 2, \"25\": 1, \"50\": 1, \"54\": 1}, \"69\": {\"81\": 1, \"69\": 8, \"33\": 2, \"25\": 1}, \"19\": {\"19\": 6, \"45\": 1, \"76\": 1, \"48\": 1, \"57\": 1, \"80\": 1, \"20\": 1}, \"119\": {\"119\": 11, \"63\": 1}, \"21\": {\"21\": 5, \"65\": 1, \"120\": 1, \"126\": 1, \"60\": 1, \"25\": 1, \"38\": 1, \"8\": 1}, \"91\": {\"57\": 1, \"91\": 4, \"30\": 1, \"23\": 1, \"128\": 1, \"59\": 1, \"97\": 1, \"77\": 1, \"54\": 1}, \"105\": {\"124\": 1, \"57\": 1, \"87\": 2, \"19\": 1, \"105\": 3, \"3\": 1, \"4\": 1, \"17\": 1, \"74\": 1}, \"60\": {\"121\": 1, \"63\": 1, \"22\": 2, \"54\": 2, \"42\": 2, \"60\": 4}, \"66\": {\"66\": 7, \"76\": 1, \"90\": 2}, \"55\": {\"86\": 2, \"55\": 7, \"72\": 2, \"41\": 1}, \"29\": {\"29\": 8, \"54\": 1, \"128\": 1, \"34\": 2}, \"34\": {\"96\": 1, \"20\": 1, \"79\": 1, \"109\": 1, \"76\": 1, \"90\": 1, \"83\": 2}, \"74\": {\"74\": 7, \"122\": 1}, \"49\": {\"85\": 1, \"49\": 3, \"115\": 2}, \"22\": {\"22\": 8, \"47\": 1, \"42\": 2, \"45\": 1}, \"5\": {\"5\": 4, \"49\": 1, \"23\": 1, \"128\": 1, \"3\": 2, \"7\": 1, \"68\": 1, \"114\": 1}, \"89\": {\"89\": 5, \"43\": 2, \"42\": 1}, \"127\": {\"127\": 9, \"49\": 1, \"0\": 1, \"111\": 1}, \"87\": {\"87\": 3, \"28\": 1, \"64\": 1, \"123\": 1, \"43\": 1, \"8\": 1, \"67\": 1, \"10\": 1, \"105\": 2}, \"23\": {\"45\": 1, \"127\": 1, \"41\": 3, \"7\": 1, \"10\": 2, \"89\": 1, \"23\": 1}, \"28\": {\"28\": 10, \"126\": 1, \"90\": 1}, \"43\": {\"115\": 1, \"62\": 1, \"28\": 1, \"87\": 1, \"3\": 2, \"43\": 3, \"45\": 1}, \"11\": {\"43\": 1, \"11\": 5, \"82\": 1, \"14\": 1}, \"112\": {\"112\": 6, \"71\": 1, \"59\": 1, \"30\": 2}, \"79\": {\"79\": 7, \"65\": 1}, \"90\": {\"90\": 4, \"31\": 1, \"28\": 1}}, \"C_A_5\": {\"2\": {\"2\": 12}, \"35\": {\"35\": 12}, \"3\": {\"35\": 2, \"0\": 2, \"3\": 3, \"36\": 1, \"57\": 1, \"31\": 3}, \"18\": {\"18\": 12}, \"29\": {\"29\": 10, \"22\": 1, \"44\": 1}, \"24\": {\"24\": 11, \"2\": 1}, \"25\": {\"25\": 10, \"20\": 1, \"8\": 1}, \"17\": {\"17\": 8, \"20\": 2, \"6\": 2}, \"54\": {\"54\": 12}, \"28\": {\"28\": 11, \"31\": 1}, \"33\": {\"33\": 11, \"5\": 1}, \"55\": {\"55\": 9, \"26\": 1}, \"19\": {\"19\": 9, \"34\": 1}, \"20\": {\"20\": 10, \"8\": 2}, \"41\": {\"41\": 11, \"25\": 1}, \"48\": {\"48\": 6, \"17\": 2}, \"6\": {\"6\": 8, \"39\": 1, \"30\": 1, \"20\": 1, \"50\": 1}, \"49\": {\"49\": 12}, \"9\": {\"9\": 6, \"27\": 3, \"32\": 1}, \"42\": {\"42\": 10, \"9\": 1, \"41\": 1}, \"22\": {\"22\": 10, \"29\": 1, \"34\": 1}, \"38\": {\"38\": 12}, \"44\": {\"44\": 6, \"22\": 1, \"26\": 1, \"19\": 1, \"34\": 1, \"28\": 1, \"11\": 1}, \"47\": {\"47\": 9, \"39\": 2, \"34\": 1}, \"7\": {\"7\": 10}, \"8\": {\"8\": 9, \"30\": 1, \"20\": 2}, \"10\": {\"10\": 12}, \"0\": {\"0\": 5, \"16\": 2, \"3\": 3, \"47\": 1, \"57\": 1}, \"57\": {\"57\": 10, \"42\": 2}, \"16\": {\"16\": 6, \"23\": 2, \"11\": 2}, \"21\": {\"21\": 12}, \"27\": {\"27\": 8, \"1\": 1, \"26\": 1, \"9\": 2}, \"53\": {\"53\": 8}, \"32\": {\"32\": 10, \"9\": 2}, \"4\": {\"4\": 10, \"27\": 2}, \"37\": {\"37\": 10}, \"1\": {\"18\": 1, \"49\": 1, \"39\": 1, \"51\": 1, \"53\": 1, \"48\": 1, \"1\": 3, \"50\": 1, \"54\": 1, \"27\": 1}, \"39\": {\"49\": 1, \"39\": 9}, \"36\": {\"49\": 2, \"47\": 1, \"36\": 6, \"14\": 1}, \"12\": {\"12\": 9, \"55\": 2, \"32\": 1}, \"5\": {\"5\": 10, \"19\": 2}, \"26\": {\"25\": 1, \"26\": 10, \"20\": 1}, \"51\": {\"39\": 1, \"51\": 10, \"54\": 1}, \"14\": {\"51\": 1, \"3\": 1, \"2\": 3, \"54\": 1, \"13\": 1, \"25\": 1, \"14\": 1, \"48\": 1}, \"43\": {\"43\": 12}, \"31\": {\"31\": 12}, \"45\": {\"14\": 1, \"45\": 5, \"50\": 1, \"4\": 1, \"6\": 2, \"26\": 1, \"25\": 1}, \"15\": {\"15\": 7, \"43\": 2, \"11\": 1}, \"23\": {\"23\": 7, \"16\": 2, \"49\": 1}, \"30\": {\"30\": 11, \"32\": 1}, \"46\": {\"46\": 6, \"11\": 1, \"43\": 1, \"24\": 1, \"16\": 1, \"23\": 1, \"57\": 1}, \"52\": {\"52\": 12}, \"34\": {\"34\": 10}, \"11\": {\"31\": 1, \"11\": 5, \"16\": 4}, \"13\": {\"13\": 7, \"56\": 1, \"24\": 2}, \"50\": {\"50\": 5, \"9\": 1}, \"56\": {\"56\": 6}, \"40\": {\"9\": 2, \"29\": 2}}, \"W_A_4\": {\"119\": {\"119\": 9, \"88\": 1, \"83\": 2}, \"101\": {\"71\": 1, \"127\": 1, \"70\": 1, \"101\": 3, \"15\": 1, \"100\": 1, \"87\": 2, \"95\": 2}, \"15\": {\"119\": 1, \"41\": 1, \"59\": 1, \"15\": 2, \"10\": 1, \"9\": 3, \"68\": 1, \"8\": 1, \"94\": 1}, \"22\": {\"90\": 1, \"22\": 5, \"20\": 1, \"76\": 2, \"60\": 1}, \"127\": {\"119\": 1, \"127\": 4, \"12\": 2, \"105\": 1, \"95\": 1, \"9\": 1, \"103\": 2}, \"6\": {\"6\": 5, \"24\": 1, \"94\": 1, \"91\": 1, \"10\": 1, \"47\": 1, \"121\": 1, \"15\": 1}, \"69\": {\"22\": 1, \"69\": 4, \"13\": 1, \"72\": 1, \"45\": 1, \"84\": 2}, \"41\": {\"41\": 12}, \"68\": {\"71\": 1, \"41\": 1, \"68\": 4, \"106\": 2, \"39\": 1, \"0\": 1}, \"126\": {\"126\": 7, \"62\": 1, \"26\": 1, \"92\": 1, \"65\": 1, \"12\": 1}, \"62\": {\"22\": 1, \"69\": 1, \"126\": 1, \"62\": 3, \"14\": 1, \"110\": 1, \"84\": 1, \"67\": 1, \"122\": 2}, \"26\": {\"26\": 7, \"126\": 2, \"123\": 2, \"16\": 1}, \"71\": {\"127\": 1, \"62\": 2, \"71\": 4, \"61\": 2, \"7\": 1, \"66\": 1, \"46\": 1}, \"78\": {\"126\": 1, \"119\": 1, \"78\": 2, \"43\": 1, \"127\": 2, \"96\": 1, \"70\": 1, \"7\": 1, \"106\": 1, \"118\": 1}, \"90\": {\"90\": 8, \"66\": 2, \"72\": 1, \"19\": 1}, \"24\": {\"119\": 3, \"125\": 1, \"123\": 1, \"70\": 1, \"24\": 1, \"6\": 2, \"7\": 1, \"52\": 1, \"94\": 1}, \"11\": {\"92\": 1, \"120\": 1, \"11\": 4, \"32\": 1, \"79\": 1, \"19\": 1, \"96\": 1, \"99\": 1, \"124\": 1}, \"35\": {\"35\": 7, \"117\": 1, \"21\": 2, \"61\": 2}, \"86\": {\"86\": 6, \"8\": 1, \"19\": 1, \"4\": 2, \"111\": 2}, \"3\": {\"3\": 7, \"52\": 1, \"7\": 1, \"46\": 1, \"100\": 1, \"129\": 1}, \"75\": {\"54\": 2, \"25\": 1, \"75\": 9}, \"100\": {\"3\": 2, \"100\": 4, \"89\": 1, \"5\": 3, \"72\": 1, \"38\": 1}, \"117\": {\"117\": 8, \"63\": 3, \"16\": 1}, \"120\": {\"120\": 6, \"50\": 1, \"124\": 1, \"56\": 2, \"28\": 1, \"14\": 1}, \"8\": {\"8\": 10, \"82\": 1, \"10\": 1}, \"27\": {\"8\": 2, \"111\": 1, \"1\": 1, \"27\": 6, \"95\": 2}, \"83\": {\"83\": 9, \"11\": 1, \"49\": 1, \"8\": 1}, \"129\": {\"86\": 1, \"3\": 1, \"129\": 3, \"1\": 2, \"80\": 1, \"107\": 1, \"46\": 1, \"22\": 1, \"110\": 1}, \"36\": {\"54\": 1, \"36\": 7, \"53\": 1, \"24\": 2, \"18\": 1}, \"67\": {\"67\": 5, \"105\": 1, \"113\": 1, \"123\": 2, \"26\": 1, \"118\": 2}, \"54\": {\"75\": 1, \"36\": 1, \"54\": 10}, \"92\": {\"117\": 1, \"92\": 8, \"126\": 1, \"65\": 1, \"121\": 1}, \"56\": {\"28\": 2, \"49\": 1, \"56\": 7, \"86\": 1, \"11\": 1}, \"29\": {\"29\": 9, \"8\": 1, \"53\": 1, \"111\": 1}, \"80\": {\"80\": 10, \"38\": 1, \"116\": 1}, \"123\": {\"123\": 5, \"92\": 3, \"106\": 1, \"75\": 1, \"65\": 2}, \"28\": {\"109\": 1, \"28\": 6, \"20\": 1, \"23\": 2, \"128\": 2}, \"42\": {\"41\": 1, \"42\": 7, \"106\": 1, \"32\": 1, \"83\": 1, \"103\": 1}, \"113\": {\"109\": 1, \"96\": 1, \"67\": 2, \"113\": 4, \"92\": 1, \"63\": 2, \"31\": 1}, \"53\": {\"53\": 8, \"8\": 1, \"21\": 1, \"9\": 1, \"15\": 1}, \"61\": {\"61\": 12}, \"39\": {\"39\": 9, \"2\": 1, \"92\": 1, \"69\": 1}, \"96\": {\"96\": 4, \"109\": 1, \"16\": 1, \"57\": 1, \"120\": 1, \"110\": 1, \"6\": 1}, \"109\": {\"113\": 1, \"109\": 4, \"116\": 1, \"39\": 2, \"31\": 1, \"45\": 1, \"35\": 1, \"126\": 1}, \"18\": {\"26\": 2, \"18\": 9, \"63\": 1}, \"10\": {\"8\": 3, \"10\": 3, \"97\": 1, \"7\": 1, \"6\": 3, \"77\": 1}, \"34\": {\"97\": 1, \"50\": 1, \"54\": 2, \"124\": 1, \"34\": 3, \"72\": 1, \"115\": 1, \"89\": 1, \"75\": 1}, \"103\": {\"103\": 8, \"70\": 1, \"37\": 1, \"8\": 1, \"4\": 1}, \"82\": {\"0\": 2, \"4\": 1, \"32\": 1, \"82\": 4, \"33\": 1, \"1\": 1, \"46\": 2}, \"65\": {\"65\": 11, \"48\": 1}, \"50\": {\"17\": 1, \"103\": 1, \"50\": 5, \"120\": 1, \"37\": 2, \"73\": 1, \"71\": 1}, \"99\": {\"50\": 1, \"99\": 4, \"120\": 1, \"14\": 2, \"19\": 1, \"64\": 1}, \"97\": {\"8\": 1, \"97\": 5, \"119\": 1, \"54\": 2, \"111\": 1, \"70\": 1, \"94\": 1}, \"124\": {\"50\": 1, \"120\": 1, \"116\": 1, \"124\": 3, \"104\": 1, \"20\": 1, \"108\": 1, \"79\": 1, \"46\": 2}, \"17\": {\"17\": 7, \"82\": 1, \"4\": 1, \"37\": 1, \"114\": 1, \"104\": 1}, \"0\": {\"0\": 6, \"7\": 1, \"55\": 2, \"3\": 1, \"68\": 1, \"127\": 1}, \"7\": {\"7\": 10, \"8\": 1, \"112\": 1}, \"112\": {\"112\": 6, \"8\": 1, \"98\": 2, \"1\": 2, \"29\": 1}, \"118\": {\"118\": 4, \"64\": 2, \"37\": 1, \"121\": 1, \"67\": 1, \"14\": 1, \"11\": 1, \"39\": 1}, \"5\": {\"56\": 1, \"17\": 1, \"71\": 1, \"61\": 1, \"5\": 3, \"103\": 2, \"93\": 1, \"114\": 1, \"74\": 1}, \"38\": {\"38\": 11, \"19\": 1}, \"2\": {\"2\": 7, \"39\": 2, \"84\": 2, \"17\": 1}, \"122\": {\"5\": 1, \"60\": 1, \"105\": 1, \"18\": 1, \"102\": 1, \"74\": 1, \"122\": 4, \"45\": 1, \"107\": 1}, \"125\": {\"123\": 1, \"125\": 8, \"34\": 1, \"36\": 1, \"1\": 1}, \"49\": {\"70\": 1, \"38\": 1, \"4\": 1, \"98\": 1, \"50\": 2, \"8\": 2, \"5\": 1, \"49\": 1, \"41\": 1, \"44\": 1}, \"60\": {\"38\": 1, \"60\": 6, \"104\": 1, \"90\": 1, \"22\": 1, \"44\": 1, \"56\": 1}, \"70\": {\"49\": 2, \"70\": 8, \"108\": 1, \"103\": 1}, \"85\": {\"85\": 8, \"49\": 1, \"27\": 2, \"77\": 1}, \"98\": {\"9\": 1, \"70\": 1, \"98\": 8, \"30\": 2}, \"116\": {\"116\": 6, \"46\": 1, \"73\": 1, \"17\": 1, \"107\": 1, \"79\": 1, \"96\": 1}, \"30\": {\"30\": 4, \"49\": 1, \"86\": 2, \"52\": 1, \"27\": 2, \"1\": 1, \"64\": 1}, \"9\": {\"49\": 1, \"9\": 7, \"15\": 1, \"98\": 2, \"97\": 1}, \"4\": {\"17\": 1, \"103\": 2, \"55\": 1, \"32\": 1, \"4\": 5, \"124\": 2}, \"51\": {\"51\": 2, \"39\": 1, \"97\": 1, \"21\": 1, \"125\": 2, \"47\": 1, \"18\": 2, \"77\": 1, \"123\": 1}, \"93\": {\"93\": 3, \"108\": 1, \"74\": 1, \"110\": 2, \"72\": 1, \"43\": 1, \"5\": 1, \"115\": 1, \"37\": 1}, \"55\": {\"55\": 8, \"32\": 1, \"82\": 1, \"95\": 2}, \"44\": {\"44\": 8, \"99\": 1, \"37\": 1, \"122\": 1, \"4\": 1}, \"114\": {\"55\": 1, \"114\": 9, \"71\": 1, \"40\": 1}, \"31\": {\"31\": 7, \"109\": 1, \"16\": 1, \"40\": 1, \"57\": 1, \"113\": 1}, \"94\": {\"6\": 3, \"94\": 6, \"99\": 1, \"97\": 2}, \"91\": {\"55\": 2, \"37\": 2, \"53\": 1, \"1\": 1, \"77\": 1, \"95\": 1, \"7\": 1, \"91\": 1, \"83\": 1, \"8\": 1}, \"46\": {\"32\": 1, \"50\": 1, \"82\": 1, \"60\": 1, \"46\": 5, \"78\": 1, \"86\": 1, \"92\": 1}, \"32\": {\"113\": 1, \"32\": 7, \"102\": 2, \"110\": 1, \"14\": 1}, \"37\": {\"37\": 10, \"43\": 1, \"104\": 1}, \"52\": {\"89\": 1, \"52\": 8, \"9\": 1, \"49\": 2}, \"19\": {\"30\": 2, \"19\": 2, \"72\": 1, \"106\": 1, \"71\": 1, \"86\": 2, \"70\": 1, \"116\": 1, \"74\": 1}, \"105\": {\"129\": 2, \"71\": 2, \"105\": 3, \"127\": 1, \"104\": 1, \"17\": 1, \"21\": 1, \"103\": 1}, \"23\": {\"123\": 2, \"126\": 1, \"12\": 1, \"76\": 1, \"55\": 1, \"54\": 1, \"9\": 1, \"1\": 2, \"21\": 2}, \"74\": {\"74\": 10, \"79\": 2}, \"88\": {\"88\": 3, \"30\": 1, \"11\": 2, \"70\": 1, \"101\": 2, \"4\": 1, \"110\": 1, \"0\": 1}, \"45\": {\"67\": 2, \"45\": 7, \"64\": 1, \"13\": 1, \"118\": 1}, \"89\": {\"89\": 9, \"71\": 2, \"52\": 1}, \"48\": {\"48\": 9, \"121\": 1, \"81\": 2}, \"25\": {\"25\": 11, \"75\": 1}, \"13\": {\"13\": 4, \"60\": 1, \"16\": 1, \"81\": 1, \"115\": 1, \"48\": 2, \"92\": 2}, \"87\": {\"83\": 1, \"101\": 1, \"129\": 1, \"107\": 1, \"87\": 4, \"114\": 1, \"4\": 1, \"119\": 1, \"44\": 1}, \"121\": {\"121\": 9, \"45\": 1, \"113\": 1, \"22\": 1}, \"59\": {\"59\": 7, \"97\": 1, \"37\": 1, \"75\": 1, \"34\": 1, \"109\": 1}, \"58\": {\"85\": 1, \"27\": 1, \"77\": 2, \"58\": 5, \"8\": 1, \"81\": 1, \"29\": 1}, \"12\": {\"111\": 1, \"12\": 5, \"16\": 1, \"98\": 1, \"68\": 1, \"0\": 1, \"127\": 2}, \"107\": {\"107\": 6, \"1\": 1, \"110\": 1, \"122\": 2, \"80\": 1, \"71\": 1}, \"1\": {\"87\": 1, \"28\": 1, \"60\": 2, \"71\": 2, \"33\": 1, \"108\": 1, \"67\": 1, \"3\": 1, \"1\": 1, \"8\": 1}, \"57\": {\"57\": 9, \"34\": 1, \"93\": 1, \"115\": 1}, \"111\": {\"12\": 2, \"111\": 5, \"127\": 1, \"0\": 1, \"86\": 1, \"3\": 2}, \"33\": {\"33\": 9, \"95\": 1, \"57\": 1, \"73\": 1}, \"14\": {\"14\": 7, \"4\": 1, \"84\": 1, \"16\": 1, \"61\": 1, \"120\": 1}, \"84\": {\"84\": 7, \"57\": 2, \"104\": 1, \"2\": 1, \"62\": 1}, \"21\": {\"21\": 8, \"48\": 2, \"117\": 2}, \"104\": {\"57\": 1, \"104\": 2, \"64\": 2, \"28\": 1, \"84\": 1, \"17\": 1, \"31\": 1, \"4\": 1, \"115\": 2}, \"128\": {\"128\": 5, \"18\": 1, \"19\": 2, \"42\": 2, \"46\": 1, \"76\": 1}, \"72\": {\"43\": 1, \"72\": 8, \"108\": 2, \"78\": 1}, \"40\": {\"40\": 4, \"107\": 1, \"128\": 1, \"3\": 1, \"105\": 1, \"124\": 1, \"50\": 1, \"102\": 2}, \"102\": {\"40\": 2, \"78\": 1, \"105\": 1, \"102\": 5, \"31\": 1, \"48\": 1, \"96\": 1}, \"47\": {\"47\": 7, \"88\": 1, \"95\": 1, \"51\": 1, \"9\": 1, \"97\": 1}, \"43\": {\"78\": 1, \"72\": 1, \"5\": 1, \"105\": 1, \"115\": 1, \"43\": 3, \"108\": 1, \"33\": 1, \"8\": 1, \"32\": 1}, \"77\": {\"77\": 7, \"98\": 1, \"12\": 1, \"47\": 1, \"29\": 2}, \"110\": {\"72\": 1, \"110\": 2, \"46\": 1, \"76\": 1, \"11\": 2, \"60\": 1, \"74\": 1, \"88\": 1, \"71\": 1, \"22\": 1}, \"16\": {\"16\": 9, \"31\": 1, \"120\": 1, \"121\": 1}, \"106\": {\"7\": 1, \"48\": 1, \"18\": 1, \"42\": 1, \"86\": 2, \"106\": 3, \"45\": 1, \"68\": 1, \"52\": 1}, \"66\": {\"90\": 3, \"66\": 6, \"93\": 1, \"20\": 2}, \"73\": {\"73\": 1, \"52\": 1, \"32\": 1, \"11\": 1, \"44\": 1, \"95\": 1, \"57\": 1, \"33\": 1, \"50\": 1, \"61\": 1, \"19\": 1, \"90\": 1}, \"76\": {\"116\": 2, \"76\": 3, \"14\": 1, \"69\": 1, \"28\": 1, \"120\": 1, \"121\": 1}, \"79\": {\"79\": 8, \"74\": 1, \"45\": 1, \"124\": 1, \"92\": 1}, \"108\": {\"87\": 1, \"108\": 3, \"124\": 3, \"37\": 2, \"60\": 1, \"73\": 2}, \"64\": {\"64\": 9, \"2\": 1}, \"115\": {\"77\": 1, \"81\": 1, \"64\": 1, \"115\": 1, \"114\": 1, \"37\": 1, \"75\": 1, \"93\": 1}, \"81\": {\"81\": 5, \"13\": 1, \"63\": 1, \"117\": 1, \"2\": 2, \"69\": 1, \"84\": 1}, \"95\": {\"105\": 1, \"95\": 4, \"16\": 1, \"111\": 3, \"32\": 1, \"101\": 1, \"121\": 1}, \"63\": {\"63\": 6, \"18\": 2}, \"20\": {\"44\": 1, \"20\": 4, \"38\": 2, \"73\": 1, \"90\": 1, \"11\": 1}}}, \"per_domain_accuracy\": {\"ORACLE.run1_50\": {\"accuracy\": 0.8661458333333333, \"source?\": true}, \"ORACLE.run1_14\": {\"accuracy\": 0.8765625, \"source?\": true}, \"ORACLE.run1_32\": {\"accuracy\": 0.8518229166666667, \"source?\": true}, \"ORACLE.run1_44\": {\"accuracy\": 0.7328125, \"source?\": true}, \"ORACLE.run1_8\": {\"accuracy\": 0.8354166666666667, \"source?\": true}, \"ORACLE.run1_20\": {\"accuracy\": 0.8018229166666667, \"source?\": true}, \"ORACLE.run1_38\": {\"accuracy\": 0.8848958333333333, \"source?\": true}, \"ORACLE.run1_26\": {\"accuracy\": 0.6934895833333333, \"source?\": true}, \"C_A_4\": {\"accuracy\": 0.7671875, \"source?\": false}, \"W_A_3\": {\"accuracy\": 0.5585106382978723, \"source?\": false}, \"W_A_2\": {\"accuracy\": 0.529296875, \"source?\": false}, \"C_A_2\": {\"accuracy\": 0.7984375, \"source?\": false}, \"C_A_3\": {\"accuracy\": 0.7921875, \"source?\": false}, \"C_A_1\": {\"accuracy\": 0.828125, \"source?\": false}, \"W_A_1\": {\"accuracy\": 0.5591032608695652, \"source?\": false}, \"C_A_5\": {\"accuracy\": 0.7859375, \"source?\": false}, \"W_A_4\": {\"accuracy\": 0.4993489583333333, \"source?\": false}}}, \"history\": {\"epoch_indices\": [1, 2, 3, 4, 5, 6, 7, 8, 9], \"train_label_loss\": [1.016850740112187, 0.9029749233453047, 0.7350316676909903, 0.6139225483328725, 0.5343045818519645, 0.48392473944473924, 0.44832828534958286, 0.40408187685174024, 0.360904586143581], \"source_val_label_loss\": [1.2202292680740356, 0.8173811435699463, 0.6894501447677612, 0.5236324071884155, 0.5040265321731567, 0.47608742117881775, 0.48047834634780884, 0.4482441544532776, 0.3503583073616028], \"target_val_label_loss\": [50.4123420715332, 20.811431884765625, 14.62841510772705, 13.283413887023926, 10.432761192321777, 10.794588088989258, 10.742079734802246, 14.904047012329102, 14.632596969604492], \"source_val_acc_label\": [0.6046223958333333, 0.7104166666666667, 0.7499348958333333, 0.81318359375, 0.81787109375, 0.8308268229166667, 0.8250325520833334, 0.8390625, 0.873828125], \"target_val_acc_label\": [0.487348615916955, 0.6472750865051903, 0.6426254325259516, 0.606401384083045, 0.6255406574394463, 0.6292171280276817, 0.6403546712802768, 0.634515570934256, 0.6212153979238755]}, \"dataset_metrics\": {\"source\": {\"train\": {\"n_unique_x\": 179200, \"n_unique_y\": 16, \"n_batch/episode\": 6720}, \"val\": {\"n_unique_x\": 38400, \"n_unique_y\": 16, \"n_batch/episode\": 960}, \"test\": {\"n_unique_x\": 38400, \"n_unique_y\": 16, \"n_batch/episode\": 960}}, \"target\": {\"train\": {\"n_unique_x\": 56700, \"n_unique_y\": 130, \"n_batch/episode\": 2081}, \"val\": {\"n_unique_x\": 12097, \"n_unique_y\": 130, \"n_batch/episode\": 289}, \"test\": {\"n_unique_x\": 12097, \"n_unique_y\": 130, \"n_batch/episode\": 289}}}}'"
      ]
     },
     "execution_count": 29,
     "metadata": {},
     "output_type": "execute_result"
    }
   ],
   "source": [
    "json.dumps(experiment)"
   ]
  }
 ],
 "metadata": {
  "celltoolbar": "Tags",
  "kernelspec": {
   "display_name": "Python 3 (ipykernel)",
   "language": "python",
   "name": "python3"
  },
  "language_info": {
   "codemirror_mode": {
    "name": "ipython",
    "version": 3
   },
   "file_extension": ".py",
   "mimetype": "text/x-python",
   "name": "python",
   "nbconvert_exporter": "python",
   "pygments_lexer": "ipython3",
   "version": "3.8.10"
  },
  "papermill": {
   "default_parameters": {},
   "duration": 1547.105414,
   "end_time": "2022-03-18T21:02:05.775424",
   "environment_variables": {},
   "exception": null,
   "input_path": "/mnt/wd500GB/CSC500/csc500-main/csc500-notebooks/templates/tl_ptn_template.ipynb",
   "output_path": "trial.ipynb",
   "parameters": {
    "parameters": {
     "BEST_MODEL_PATH": "./best_model.pth",
     "NUM_LOGS_PER_EPOCH": 10,
     "criteria_for_best": "target_loss",
     "dataset_seed": 500,
     "datasets": [
      {
       "domain_prefix": "C_A_",
       "domains": [
        1,
        2,
        3,
        4,
        5
       ],
       "episode_transforms": [],
       "labels": [
        "1-10.",
        "1-11.",
        "1-15.",
        "1-16.",
        "1-17.",
        "1-18.",
        "1-19.",
        "10-4.",
        "10-7.",
        "11-1.",
        "11-14.",
        "11-17.",
        "11-20.",
        "11-7.",
        "13-20.",
        "13-8.",
        "14-10.",
        "14-11.",
        "14-14.",
        "14-7.",
        "15-1.",
        "15-20.",
        "16-1.",
        "16-16.",
        "17-10.",
        "17-11.",
        "17-2.",
        "19-1.",
        "19-16.",
        "19-19.",
        "19-20.",
        "19-3.",
        "2-10.",
        "2-11.",
        "2-17.",
        "2-18.",
        "2-20.",
        "2-3.",
        "2-4.",
        "2-5.",
        "2-6.",
        "2-7.",
        "2-8.",
        "3-13.",
        "3-18.",
        "3-3.",
        "4-1.",
        "4-10.",
        "4-11.",
        "4-19.",
        "5-5.",
        "6-15.",
        "7-10.",
        "7-14.",
        "8-18.",
        "8-20.",
        "8-3.",
        "8-8."
       ],
       "num_examples_per_domain_per_label": 100,
       "pickle_path": "/mnt/wd500GB/CSC500/csc500-main/datasets/cores.stratified_ds.2022A.pkl",
       "source_or_target_dataset": "target",
       "x_transforms": [
        "unit_mag",
        "take_200"
       ]
      },
      {
       "domain_prefix": "W_A_",
       "domains": [
        1,
        2,
        3,
        4
       ],
       "episode_transforms": [],
       "labels": [
        "1-10",
        "1-12",
        "1-14",
        "1-16",
        "1-18",
        "1-19",
        "1-8",
        "10-11",
        "10-17",
        "10-4",
        "10-7",
        "11-1",
        "11-10",
        "11-19",
        "11-20",
        "11-4",
        "11-7",
        "12-19",
        "12-20",
        "12-7",
        "13-14",
        "13-18",
        "13-19",
        "13-20",
        "13-3",
        "13-7",
        "14-10",
        "14-11",
        "14-12",
        "14-13",
        "14-14",
        "14-19",
        "14-20",
        "14-7",
        "14-8",
        "14-9",
        "15-1",
        "15-19",
        "15-6",
        "16-1",
        "16-16",
        "16-19",
        "16-20",
        "17-10",
        "17-11",
        "18-1",
        "18-10",
        "18-11",
        "18-12",
        "18-13",
        "18-14",
        "18-15",
        "18-16",
        "18-17",
        "18-19",
        "18-2",
        "18-20",
        "18-4",
        "18-5",
        "18-7",
        "18-8",
        "18-9",
        "19-1",
        "19-10",
        "19-11",
        "19-12",
        "19-13",
        "19-14",
        "19-15",
        "19-19",
        "19-2",
        "19-20",
        "19-3",
        "19-4",
        "19-6",
        "19-7",
        "19-8",
        "19-9",
        "2-1",
        "2-13",
        "2-15",
        "2-3",
        "2-4",
        "2-5",
        "2-6",
        "2-7",
        "2-8",
        "20-1",
        "20-12",
        "20-14",
        "20-15",
        "20-16",
        "20-18",
        "20-19",
        "20-20",
        "20-3",
        "20-4",
        "20-5",
        "20-7",
        "20-8",
        "3-1",
        "3-13",
        "3-18",
        "3-2",
        "3-8",
        "4-1",
        "4-10",
        "4-11",
        "5-1",
        "5-5",
        "6-1",
        "6-15",
        "6-6",
        "7-10",
        "7-11",
        "7-12",
        "7-13",
        "7-14",
        "7-7",
        "7-8",
        "7-9",
        "8-1",
        "8-13",
        "8-14",
        "8-18",
        "8-20",
        "8-3",
        "8-8",
        "9-1",
        "9-7"
       ],
       "num_examples_per_domain_per_label": 100,
       "pickle_path": "/mnt/wd500GB/CSC500/csc500-main/datasets/wisig.node3-19.stratified_ds.2022A.pkl",
       "source_or_target_dataset": "target",
       "x_transforms": [
        "unit_mag",
        "take_200"
       ]
      },
      {
       "domain_prefix": "ORACLE.run1_",
       "domains": [
        32,
        38,
        8,
        44,
        14,
        50,
        20,
        26
       ],
       "episode_transforms": [],
       "labels": [
        "3123D52",
        "3123D65",
        "3123D79",
        "3123D80",
        "3123D54",
        "3123D70",
        "3123D7B",
        "3123D89",
        "3123D58",
        "3123D76",
        "3123D7D",
        "3123EFE",
        "3123D64",
        "3123D78",
        "3123D7E",
        "3124E4A"
       ],
       "num_examples_per_domain_per_label": 2000,
       "pickle_path": "/mnt/wd500GB/CSC500/csc500-main/datasets/oracle.Run1_framed_2000Examples_stratified_ds.2022A.pkl",
       "source_or_target_dataset": "source",
       "x_transforms": [
        "unit_mag",
        "take_200",
        "resample_20Msps_to_25Msps"
       ]
      }
     ],
     "device": "cuda",
     "experiment_name": "tl_3A:oracle.run1.framed -> cores+wisig",
     "lr": 0.001,
     "n_epoch": 50,
     "n_query": 2,
     "n_shot": 3,
     "n_way": 16,
     "patience": 3,
     "seed": 500,
     "test_k_factor": 2,
     "torch_default_dtype": "torch.float32",
     "train_k_factor": 3,
     "val_k_factor": 2,
     "x_net": [
      {
       "class": "nnReshape",
       "kargs": {
        "shape": [
         -1,
         1,
         2,
         200
        ]
       }
      },
      {
       "class": "Conv2d",
       "kargs": {
        "bias": false,
        "in_channels": 1,
        "kernel_size": [
         1,
         7
        ],
        "out_channels": 256,
        "padding": [
         0,
         3
        ]
       }
      },
      {
       "class": "ReLU",
       "kargs": {
        "inplace": true
       }
      },
      {
       "class": "BatchNorm2d",
       "kargs": {
        "num_features": 256
       }
      },
      {
       "class": "Conv2d",
       "kargs": {
        "bias": true,
        "in_channels": 256,
        "kernel_size": [
         2,
         7
        ],
        "out_channels": 80,
        "padding": [
         0,
         3
        ]
       }
      },
      {
       "class": "ReLU",
       "kargs": {
        "inplace": true
       }
      },
      {
       "class": "BatchNorm2d",
       "kargs": {
        "num_features": 80
       }
      },
      {
       "class": "Flatten",
       "kargs": {}
      },
      {
       "class": "Linear",
       "kargs": {
        "in_features": 16000,
        "out_features": 256
       }
      },
      {
       "class": "ReLU",
       "kargs": {
        "inplace": true
       }
      },
      {
       "class": "BatchNorm1d",
       "kargs": {
        "num_features": 256
       }
      },
      {
       "class": "Linear",
       "kargs": {
        "in_features": 256,
        "out_features": 256
       }
      }
     ],
     "x_shape": [
      2,
      200
     ]
    }
   },
   "start_time": "2022-03-18T20:36:18.670010",
   "version": "2.3.4"
  }
 },
 "nbformat": 4,
 "nbformat_minor": 5
}