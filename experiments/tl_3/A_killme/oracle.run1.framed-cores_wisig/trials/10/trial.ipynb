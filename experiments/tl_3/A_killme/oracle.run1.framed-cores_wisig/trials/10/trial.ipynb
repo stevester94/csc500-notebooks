{
 "cells": [
  {
   "cell_type": "markdown",
   "id": "9fea5f46",
   "metadata": {
    "papermill": {
     "duration": 0.017175,
     "end_time": "2022-03-18T19:00:44.739487",
     "exception": false,
     "start_time": "2022-03-18T19:00:44.722312",
     "status": "completed"
    },
    "tags": []
   },
   "source": [
    "# Transfer Learning Template"
   ]
  },
  {
   "cell_type": "code",
   "execution_count": 1,
   "id": "0902182a",
   "metadata": {
    "execution": {
     "iopub.execute_input": "2022-03-18T19:00:44.778655Z",
     "iopub.status.busy": "2022-03-18T19:00:44.776509Z",
     "iopub.status.idle": "2022-03-18T19:00:45.679860Z",
     "shell.execute_reply": "2022-03-18T19:00:45.680068Z"
    },
    "papermill": {
     "duration": 0.928088,
     "end_time": "2022-03-18T19:00:45.680162",
     "exception": false,
     "start_time": "2022-03-18T19:00:44.752074",
     "status": "completed"
    },
    "tags": []
   },
   "outputs": [],
   "source": [
    "%load_ext autoreload\n",
    "%autoreload 2\n",
    "%matplotlib inline\n",
    "\n",
    "    \n",
    "import os, json, sys, time, random\n",
    "import numpy as np\n",
    "import torch\n",
    "from torch.optim import Adam\n",
    "from  easydict import EasyDict\n",
    "import matplotlib.pyplot as plt\n",
    "\n",
    "from steves_models.steves_ptn import Steves_Prototypical_Network\n",
    "\n",
    "from steves_utils.lazy_iterable_wrapper import Lazy_Iterable_Wrapper\n",
    "from steves_utils.iterable_aggregator import Iterable_Aggregator\n",
    "from steves_utils.ptn_train_eval_test_jig import  PTN_Train_Eval_Test_Jig\n",
    "from steves_utils.torch_sequential_builder import build_sequential\n",
    "from steves_utils.torch_utils import get_dataset_metrics, ptn_confusion_by_domain_over_dataloader\n",
    "from steves_utils.utils_v2 import (per_domain_accuracy_from_confusion, get_datasets_base_path)\n",
    "from steves_utils.PTN.utils import independent_accuracy_assesment\n",
    "\n",
    "from torch.utils.data import DataLoader\n",
    "\n",
    "from steves_utils.stratified_dataset.episodic_accessor import Episodic_Accessor_Factory\n",
    "\n",
    "from steves_utils.ptn_do_report import (\n",
    "    get_loss_curve,\n",
    "    get_results_table,\n",
    "    get_parameters_table,\n",
    "    get_domain_accuracies,\n",
    ")\n",
    "\n",
    "from steves_utils.transforms import get_chained_transform"
   ]
  },
  {
   "cell_type": "markdown",
   "id": "41c840b4",
   "metadata": {
    "papermill": {
     "duration": 0.013058,
     "end_time": "2022-03-18T19:00:45.706673",
     "exception": false,
     "start_time": "2022-03-18T19:00:45.693615",
     "status": "completed"
    },
    "tags": []
   },
   "source": [
    "# Allowed Parameters\n",
    "These are allowed parameters, not defaults\n",
    "Each of these values need to be present in the injected parameters (the notebook will raise an exception if they are not present)\n",
    "\n",
    "Papermill uses the cell tag \"parameters\" to inject the real parameters below this cell.\n",
    "Enable tags to see what I mean"
   ]
  },
  {
   "cell_type": "code",
   "execution_count": 2,
   "id": "fd44eb83",
   "metadata": {
    "execution": {
     "iopub.execute_input": "2022-03-18T19:00:45.735802Z",
     "iopub.status.busy": "2022-03-18T19:00:45.735543Z",
     "iopub.status.idle": "2022-03-18T19:00:45.749890Z",
     "shell.execute_reply": "2022-03-18T19:00:45.749446Z"
    },
    "papermill": {
     "duration": 0.030211,
     "end_time": "2022-03-18T19:00:45.749980",
     "exception": false,
     "start_time": "2022-03-18T19:00:45.719769",
     "status": "completed"
    },
    "tags": []
   },
   "outputs": [],
   "source": [
    "required_parameters = {\n",
    "    \"experiment_name\",\n",
    "    \"lr\",\n",
    "    \"device\",\n",
    "    \"seed\",\n",
    "    \"dataset_seed\",\n",
    "    \"n_shot\",\n",
    "    \"n_query\",\n",
    "    \"n_way\",\n",
    "    \"train_k_factor\",\n",
    "    \"val_k_factor\",\n",
    "    \"test_k_factor\",\n",
    "    \"n_epoch\",\n",
    "    \"patience\",\n",
    "    \"criteria_for_best\",\n",
    "    \"x_net\",\n",
    "    \"datasets\",\n",
    "    \"torch_default_dtype\",\n",
    "    \"NUM_LOGS_PER_EPOCH\",\n",
    "    \"BEST_MODEL_PATH\",\n",
    "    \"x_shape\",\n",
    "}"
   ]
  },
  {
   "cell_type": "code",
   "execution_count": 3,
   "id": "fa3f0049",
   "metadata": {
    "execution": {
     "iopub.execute_input": "2022-03-18T19:00:45.788960Z",
     "iopub.status.busy": "2022-03-18T19:00:45.788646Z",
     "iopub.status.idle": "2022-03-18T19:00:45.802085Z",
     "shell.execute_reply": "2022-03-18T19:00:45.801642Z"
    },
    "papermill": {
     "duration": 0.034473,
     "end_time": "2022-03-18T19:00:45.802174",
     "exception": false,
     "start_time": "2022-03-18T19:00:45.767701",
     "status": "completed"
    },
    "tags": [
     "parameters"
    ]
   },
   "outputs": [],
   "source": [
    "from steves_utils.CORES.utils import (\n",
    "    ALL_NODES,\n",
    "    ALL_NODES_MINIMUM_1000_EXAMPLES,\n",
    "    ALL_DAYS\n",
    ")\n",
    "\n",
    "from steves_utils.ORACLE.utils_v2 import (\n",
    "    ALL_DISTANCES_FEET_NARROWED,\n",
    "    ALL_RUNS,\n",
    "    ALL_SERIAL_NUMBERS,\n",
    ")\n",
    "\n",
    "standalone_parameters = {}\n",
    "standalone_parameters[\"experiment_name\"] = \"STANDALONE PTN\"\n",
    "standalone_parameters[\"lr\"] = 0.001\n",
    "standalone_parameters[\"device\"] = \"cuda\"\n",
    "\n",
    "standalone_parameters[\"seed\"] = 1337\n",
    "standalone_parameters[\"dataset_seed\"] = 1337\n",
    "\n",
    "standalone_parameters[\"n_way\"] = 8\n",
    "standalone_parameters[\"n_shot\"] = 3\n",
    "standalone_parameters[\"n_query\"]  = 2\n",
    "standalone_parameters[\"train_k_factor\"] = 1\n",
    "standalone_parameters[\"val_k_factor\"] = 2\n",
    "standalone_parameters[\"test_k_factor\"] = 2\n",
    "\n",
    "\n",
    "standalone_parameters[\"n_epoch\"] = 50\n",
    "\n",
    "standalone_parameters[\"patience\"] = 10\n",
    "standalone_parameters[\"criteria_for_best\"] = \"source_loss\"\n",
    "\n",
    "standalone_parameters[\"datasets\"] = [\n",
    "    {\n",
    "        \"labels\": ALL_SERIAL_NUMBERS,\n",
    "        \"domains\": ALL_DISTANCES_FEET_NARROWED,\n",
    "        \"num_examples_per_domain_per_label\": 100,\n",
    "        \"pickle_path\": os.path.join(get_datasets_base_path(), \"oracle.Run1_framed_2000Examples_stratified_ds.2022A.pkl\"),\n",
    "        \"source_or_target_dataset\": \"source\",\n",
    "        \"x_transforms\": [\"unit_mag\", \"minus_two\"],\n",
    "        \"episode_transforms\": [],\n",
    "        \"domain_prefix\": \"ORACLE_\"\n",
    "    },\n",
    "    {\n",
    "        \"labels\": ALL_NODES,\n",
    "        \"domains\": ALL_DAYS,\n",
    "        \"num_examples_per_domain_per_label\": 100,\n",
    "        \"pickle_path\": os.path.join(get_datasets_base_path(), \"cores.stratified_ds.2022A.pkl\"),\n",
    "        \"source_or_target_dataset\": \"target\",\n",
    "        \"x_transforms\": [\"unit_power\", \"times_zero\"],\n",
    "        \"episode_transforms\": [],\n",
    "        \"domain_prefix\": \"CORES_\"\n",
    "    }   \n",
    "]\n",
    "\n",
    "standalone_parameters[\"torch_default_dtype\"] = \"torch.float32\" \n",
    "\n",
    "\n",
    "\n",
    "standalone_parameters[\"x_net\"] =     [\n",
    "    {\"class\": \"nnReshape\", \"kargs\": {\"shape\":[-1, 1, 2, 256]}},\n",
    "    {\"class\": \"Conv2d\", \"kargs\": { \"in_channels\":1, \"out_channels\":256, \"kernel_size\":(1,7), \"bias\":False, \"padding\":(0,3), },},\n",
    "    {\"class\": \"ReLU\", \"kargs\": {\"inplace\": True}},\n",
    "    {\"class\": \"BatchNorm2d\", \"kargs\": {\"num_features\":256}},\n",
    "\n",
    "    {\"class\": \"Conv2d\", \"kargs\": { \"in_channels\":256, \"out_channels\":80, \"kernel_size\":(2,7), \"bias\":True, \"padding\":(0,3), },},\n",
    "    {\"class\": \"ReLU\", \"kargs\": {\"inplace\": True}},\n",
    "    {\"class\": \"BatchNorm2d\", \"kargs\": {\"num_features\":80}},\n",
    "    {\"class\": \"Flatten\", \"kargs\": {}},\n",
    "\n",
    "    {\"class\": \"Linear\", \"kargs\": {\"in_features\": 80*256, \"out_features\": 256}}, # 80 units per IQ pair\n",
    "    {\"class\": \"ReLU\", \"kargs\": {\"inplace\": True}},\n",
    "    {\"class\": \"BatchNorm1d\", \"kargs\": {\"num_features\":256}},\n",
    "\n",
    "    {\"class\": \"Linear\", \"kargs\": {\"in_features\": 256, \"out_features\": 256}},\n",
    "]\n",
    "\n",
    "# Parameters relevant to results\n",
    "# These parameters will basically never need to change\n",
    "standalone_parameters[\"NUM_LOGS_PER_EPOCH\"] = 10\n",
    "standalone_parameters[\"BEST_MODEL_PATH\"] = \"./best_model.pth\"\n",
    "\n",
    "\n",
    "\n",
    "\n"
   ]
  },
  {
   "cell_type": "code",
   "execution_count": 4,
   "id": "60265e4f",
   "metadata": {
    "execution": {
     "iopub.execute_input": "2022-03-18T19:00:45.846064Z",
     "iopub.status.busy": "2022-03-18T19:00:45.844155Z",
     "iopub.status.idle": "2022-03-18T19:00:45.858942Z",
     "shell.execute_reply": "2022-03-18T19:00:45.858497Z"
    },
    "papermill": {
     "duration": 0.03972,
     "end_time": "2022-03-18T19:00:45.859030",
     "exception": false,
     "start_time": "2022-03-18T19:00:45.819310",
     "status": "completed"
    },
    "tags": [
     "injected-parameters"
    ]
   },
   "outputs": [],
   "source": [
    "# Parameters\n",
    "parameters = {\n",
    "    \"experiment_name\": \"tl_3A:oracle.run1.framed -> cores+wisig\",\n",
    "    \"device\": \"cuda\",\n",
    "    \"lr\": 0.001,\n",
    "    \"seed\": 7,\n",
    "    \"dataset_seed\": 7,\n",
    "    \"x_shape\": [2, 200],\n",
    "    \"n_shot\": 3,\n",
    "    \"n_query\": 2,\n",
    "    \"train_k_factor\": 3,\n",
    "    \"val_k_factor\": 2,\n",
    "    \"test_k_factor\": 2,\n",
    "    \"torch_default_dtype\": \"torch.float32\",\n",
    "    \"n_epoch\": 50,\n",
    "    \"patience\": 3,\n",
    "    \"criteria_for_best\": \"target_loss\",\n",
    "    \"x_net\": [\n",
    "        {\"class\": \"nnReshape\", \"kargs\": {\"shape\": [-1, 1, 2, 200]}},\n",
    "        {\n",
    "            \"class\": \"Conv2d\",\n",
    "            \"kargs\": {\n",
    "                \"in_channels\": 1,\n",
    "                \"out_channels\": 256,\n",
    "                \"kernel_size\": [1, 7],\n",
    "                \"bias\": False,\n",
    "                \"padding\": [0, 3],\n",
    "            },\n",
    "        },\n",
    "        {\"class\": \"ReLU\", \"kargs\": {\"inplace\": True}},\n",
    "        {\"class\": \"BatchNorm2d\", \"kargs\": {\"num_features\": 256}},\n",
    "        {\n",
    "            \"class\": \"Conv2d\",\n",
    "            \"kargs\": {\n",
    "                \"in_channels\": 256,\n",
    "                \"out_channels\": 80,\n",
    "                \"kernel_size\": [2, 7],\n",
    "                \"bias\": True,\n",
    "                \"padding\": [0, 3],\n",
    "            },\n",
    "        },\n",
    "        {\"class\": \"ReLU\", \"kargs\": {\"inplace\": True}},\n",
    "        {\"class\": \"BatchNorm2d\", \"kargs\": {\"num_features\": 80}},\n",
    "        {\"class\": \"Flatten\", \"kargs\": {}},\n",
    "        {\"class\": \"Linear\", \"kargs\": {\"in_features\": 16000, \"out_features\": 256}},\n",
    "        {\"class\": \"ReLU\", \"kargs\": {\"inplace\": True}},\n",
    "        {\"class\": \"BatchNorm1d\", \"kargs\": {\"num_features\": 256}},\n",
    "        {\"class\": \"Linear\", \"kargs\": {\"in_features\": 256, \"out_features\": 256}},\n",
    "    ],\n",
    "    \"NUM_LOGS_PER_EPOCH\": 10,\n",
    "    \"BEST_MODEL_PATH\": \"./best_model.pth\",\n",
    "    \"n_way\": 16,\n",
    "    \"datasets\": [\n",
    "        {\n",
    "            \"labels\": [\n",
    "                \"1-10.\",\n",
    "                \"1-11.\",\n",
    "                \"1-15.\",\n",
    "                \"1-16.\",\n",
    "                \"1-17.\",\n",
    "                \"1-18.\",\n",
    "                \"1-19.\",\n",
    "                \"10-4.\",\n",
    "                \"10-7.\",\n",
    "                \"11-1.\",\n",
    "                \"11-14.\",\n",
    "                \"11-17.\",\n",
    "                \"11-20.\",\n",
    "                \"11-7.\",\n",
    "                \"13-20.\",\n",
    "                \"13-8.\",\n",
    "                \"14-10.\",\n",
    "                \"14-11.\",\n",
    "                \"14-14.\",\n",
    "                \"14-7.\",\n",
    "                \"15-1.\",\n",
    "                \"15-20.\",\n",
    "                \"16-1.\",\n",
    "                \"16-16.\",\n",
    "                \"17-10.\",\n",
    "                \"17-11.\",\n",
    "                \"17-2.\",\n",
    "                \"19-1.\",\n",
    "                \"19-16.\",\n",
    "                \"19-19.\",\n",
    "                \"19-20.\",\n",
    "                \"19-3.\",\n",
    "                \"2-10.\",\n",
    "                \"2-11.\",\n",
    "                \"2-17.\",\n",
    "                \"2-18.\",\n",
    "                \"2-20.\",\n",
    "                \"2-3.\",\n",
    "                \"2-4.\",\n",
    "                \"2-5.\",\n",
    "                \"2-6.\",\n",
    "                \"2-7.\",\n",
    "                \"2-8.\",\n",
    "                \"3-13.\",\n",
    "                \"3-18.\",\n",
    "                \"3-3.\",\n",
    "                \"4-1.\",\n",
    "                \"4-10.\",\n",
    "                \"4-11.\",\n",
    "                \"4-19.\",\n",
    "                \"5-5.\",\n",
    "                \"6-15.\",\n",
    "                \"7-10.\",\n",
    "                \"7-14.\",\n",
    "                \"8-18.\",\n",
    "                \"8-20.\",\n",
    "                \"8-3.\",\n",
    "                \"8-8.\",\n",
    "            ],\n",
    "            \"domains\": [1, 2, 3, 4, 5],\n",
    "            \"num_examples_per_domain_per_label\": 100,\n",
    "            \"pickle_path\": \"/mnt/wd500GB/CSC500/csc500-main/datasets/cores.stratified_ds.2022A.pkl\",\n",
    "            \"source_or_target_dataset\": \"target\",\n",
    "            \"x_transforms\": [\"unit_mag\", \"take_200\"],\n",
    "            \"episode_transforms\": [],\n",
    "            \"domain_prefix\": \"C_A_\",\n",
    "        },\n",
    "        {\n",
    "            \"labels\": [\n",
    "                \"1-10\",\n",
    "                \"1-12\",\n",
    "                \"1-14\",\n",
    "                \"1-16\",\n",
    "                \"1-18\",\n",
    "                \"1-19\",\n",
    "                \"1-8\",\n",
    "                \"10-11\",\n",
    "                \"10-17\",\n",
    "                \"10-4\",\n",
    "                \"10-7\",\n",
    "                \"11-1\",\n",
    "                \"11-10\",\n",
    "                \"11-19\",\n",
    "                \"11-20\",\n",
    "                \"11-4\",\n",
    "                \"11-7\",\n",
    "                \"12-19\",\n",
    "                \"12-20\",\n",
    "                \"12-7\",\n",
    "                \"13-14\",\n",
    "                \"13-18\",\n",
    "                \"13-19\",\n",
    "                \"13-20\",\n",
    "                \"13-3\",\n",
    "                \"13-7\",\n",
    "                \"14-10\",\n",
    "                \"14-11\",\n",
    "                \"14-12\",\n",
    "                \"14-13\",\n",
    "                \"14-14\",\n",
    "                \"14-19\",\n",
    "                \"14-20\",\n",
    "                \"14-7\",\n",
    "                \"14-8\",\n",
    "                \"14-9\",\n",
    "                \"15-1\",\n",
    "                \"15-19\",\n",
    "                \"15-6\",\n",
    "                \"16-1\",\n",
    "                \"16-16\",\n",
    "                \"16-19\",\n",
    "                \"16-20\",\n",
    "                \"17-10\",\n",
    "                \"17-11\",\n",
    "                \"18-1\",\n",
    "                \"18-10\",\n",
    "                \"18-11\",\n",
    "                \"18-12\",\n",
    "                \"18-13\",\n",
    "                \"18-14\",\n",
    "                \"18-15\",\n",
    "                \"18-16\",\n",
    "                \"18-17\",\n",
    "                \"18-19\",\n",
    "                \"18-2\",\n",
    "                \"18-20\",\n",
    "                \"18-4\",\n",
    "                \"18-5\",\n",
    "                \"18-7\",\n",
    "                \"18-8\",\n",
    "                \"18-9\",\n",
    "                \"19-1\",\n",
    "                \"19-10\",\n",
    "                \"19-11\",\n",
    "                \"19-12\",\n",
    "                \"19-13\",\n",
    "                \"19-14\",\n",
    "                \"19-15\",\n",
    "                \"19-19\",\n",
    "                \"19-2\",\n",
    "                \"19-20\",\n",
    "                \"19-3\",\n",
    "                \"19-4\",\n",
    "                \"19-6\",\n",
    "                \"19-7\",\n",
    "                \"19-8\",\n",
    "                \"19-9\",\n",
    "                \"2-1\",\n",
    "                \"2-13\",\n",
    "                \"2-15\",\n",
    "                \"2-3\",\n",
    "                \"2-4\",\n",
    "                \"2-5\",\n",
    "                \"2-6\",\n",
    "                \"2-7\",\n",
    "                \"2-8\",\n",
    "                \"20-1\",\n",
    "                \"20-12\",\n",
    "                \"20-14\",\n",
    "                \"20-15\",\n",
    "                \"20-16\",\n",
    "                \"20-18\",\n",
    "                \"20-19\",\n",
    "                \"20-20\",\n",
    "                \"20-3\",\n",
    "                \"20-4\",\n",
    "                \"20-5\",\n",
    "                \"20-7\",\n",
    "                \"20-8\",\n",
    "                \"3-1\",\n",
    "                \"3-13\",\n",
    "                \"3-18\",\n",
    "                \"3-2\",\n",
    "                \"3-8\",\n",
    "                \"4-1\",\n",
    "                \"4-10\",\n",
    "                \"4-11\",\n",
    "                \"5-1\",\n",
    "                \"5-5\",\n",
    "                \"6-1\",\n",
    "                \"6-15\",\n",
    "                \"6-6\",\n",
    "                \"7-10\",\n",
    "                \"7-11\",\n",
    "                \"7-12\",\n",
    "                \"7-13\",\n",
    "                \"7-14\",\n",
    "                \"7-7\",\n",
    "                \"7-8\",\n",
    "                \"7-9\",\n",
    "                \"8-1\",\n",
    "                \"8-13\",\n",
    "                \"8-14\",\n",
    "                \"8-18\",\n",
    "                \"8-20\",\n",
    "                \"8-3\",\n",
    "                \"8-8\",\n",
    "                \"9-1\",\n",
    "                \"9-7\",\n",
    "            ],\n",
    "            \"domains\": [1, 2, 3, 4],\n",
    "            \"num_examples_per_domain_per_label\": 100,\n",
    "            \"pickle_path\": \"/mnt/wd500GB/CSC500/csc500-main/datasets/wisig.node3-19.stratified_ds.2022A.pkl\",\n",
    "            \"source_or_target_dataset\": \"target\",\n",
    "            \"x_transforms\": [\"unit_mag\", \"take_200\"],\n",
    "            \"episode_transforms\": [],\n",
    "            \"domain_prefix\": \"W_A_\",\n",
    "        },\n",
    "        {\n",
    "            \"labels\": [\n",
    "                \"3123D52\",\n",
    "                \"3123D65\",\n",
    "                \"3123D79\",\n",
    "                \"3123D80\",\n",
    "                \"3123D54\",\n",
    "                \"3123D70\",\n",
    "                \"3123D7B\",\n",
    "                \"3123D89\",\n",
    "                \"3123D58\",\n",
    "                \"3123D76\",\n",
    "                \"3123D7D\",\n",
    "                \"3123EFE\",\n",
    "                \"3123D64\",\n",
    "                \"3123D78\",\n",
    "                \"3123D7E\",\n",
    "                \"3124E4A\",\n",
    "            ],\n",
    "            \"domains\": [32, 38, 8, 44, 14, 50, 20, 26],\n",
    "            \"num_examples_per_domain_per_label\": 2000,\n",
    "            \"pickle_path\": \"/mnt/wd500GB/CSC500/csc500-main/datasets/oracle.Run1_framed_2000Examples_stratified_ds.2022A.pkl\",\n",
    "            \"source_or_target_dataset\": \"source\",\n",
    "            \"x_transforms\": [\"unit_mag\", \"take_200\", \"resample_20Msps_to_25Msps\"],\n",
    "            \"episode_transforms\": [],\n",
    "            \"domain_prefix\": \"ORACLE.run1_\",\n",
    "        },\n",
    "    ],\n",
    "}\n"
   ]
  },
  {
   "cell_type": "code",
   "execution_count": 5,
   "id": "8fa1cc33",
   "metadata": {
    "execution": {
     "iopub.execute_input": "2022-03-18T19:00:45.906449Z",
     "iopub.status.busy": "2022-03-18T19:00:45.905579Z",
     "iopub.status.idle": "2022-03-18T19:00:45.907693Z",
     "shell.execute_reply": "2022-03-18T19:00:45.908114Z"
    },
    "papermill": {
     "duration": 0.032317,
     "end_time": "2022-03-18T19:00:45.908232",
     "exception": false,
     "start_time": "2022-03-18T19:00:45.875915",
     "status": "completed"
    },
    "tags": []
   },
   "outputs": [],
   "source": [
    "# Set this to True if you want to run this template directly\n",
    "STANDALONE = False\n",
    "if STANDALONE:\n",
    "    print(\"parameters not injected, running with standalone_parameters\")\n",
    "    parameters = standalone_parameters\n",
    "\n",
    "if not 'parameters' in locals() and not 'parameters' in globals():\n",
    "    raise Exception(\"Parameter injection failed\")\n",
    "\n",
    "#Use an easy dict for all the parameters\n",
    "p = EasyDict(parameters)\n",
    "\n",
    "if \"x_shape\" not in p:\n",
    "    p.x_shape = [2,256] # Default to this if we dont supply x_shape\n",
    "\n",
    "\n",
    "supplied_keys = set(p.keys())\n",
    "\n",
    "if  supplied_keys != required_parameters:\n",
    "    print(\"Parameters are incorrect\")\n",
    "    if len(supplied_keys - required_parameters)>0: print(\"Shouldn't have:\", str(supplied_keys - required_parameters))\n",
    "    if len(required_parameters - supplied_keys)>0: print(\"Need to have:\", str(required_parameters - supplied_keys))\n",
    "    raise RuntimeError(\"Parameters are incorrect\")"
   ]
  },
  {
   "cell_type": "code",
   "execution_count": 6,
   "id": "3a028d58",
   "metadata": {
    "execution": {
     "iopub.execute_input": "2022-03-18T19:00:45.949371Z",
     "iopub.status.busy": "2022-03-18T19:00:45.948924Z",
     "iopub.status.idle": "2022-03-18T19:00:45.955208Z",
     "shell.execute_reply": "2022-03-18T19:00:45.955641Z"
    },
    "papermill": {
     "duration": 0.029674,
     "end_time": "2022-03-18T19:00:45.955762",
     "exception": false,
     "start_time": "2022-03-18T19:00:45.926088",
     "status": "completed"
    },
    "tags": []
   },
   "outputs": [],
   "source": [
    "###################################\n",
    "# Set the RNGs and make it all deterministic\n",
    "###################################\n",
    "np.random.seed(p.seed)\n",
    "random.seed(p.seed)\n",
    "torch.manual_seed(p.seed)\n",
    "\n",
    "torch.use_deterministic_algorithms(True) "
   ]
  },
  {
   "cell_type": "code",
   "execution_count": 7,
   "id": "b691acf6",
   "metadata": {
    "execution": {
     "iopub.execute_input": "2022-03-18T19:00:45.987996Z",
     "iopub.status.busy": "2022-03-18T19:00:45.987749Z",
     "iopub.status.idle": "2022-03-18T19:00:46.001532Z",
     "shell.execute_reply": "2022-03-18T19:00:46.001094Z"
    },
    "papermill": {
     "duration": 0.029183,
     "end_time": "2022-03-18T19:00:46.001621",
     "exception": false,
     "start_time": "2022-03-18T19:00:45.972438",
     "status": "completed"
    },
    "tags": []
   },
   "outputs": [],
   "source": [
    "###########################################\n",
    "# The stratified datasets honor this\n",
    "###########################################\n",
    "torch.set_default_dtype(eval(p.torch_default_dtype))"
   ]
  },
  {
   "cell_type": "code",
   "execution_count": 8,
   "id": "b5fba671",
   "metadata": {
    "execution": {
     "iopub.execute_input": "2022-03-18T19:00:46.034778Z",
     "iopub.status.busy": "2022-03-18T19:00:46.034534Z",
     "iopub.status.idle": "2022-03-18T19:00:46.069940Z",
     "shell.execute_reply": "2022-03-18T19:00:46.069500Z"
    },
    "papermill": {
     "duration": 0.050466,
     "end_time": "2022-03-18T19:00:46.070029",
     "exception": false,
     "start_time": "2022-03-18T19:00:46.019563",
     "status": "completed"
    },
    "tags": []
   },
   "outputs": [],
   "source": [
    "###################################\n",
    "# Build the network(s)\n",
    "# Note: It's critical to do this AFTER setting the RNG\n",
    "###################################\n",
    "x_net = build_sequential(p.x_net)"
   ]
  },
  {
   "cell_type": "code",
   "execution_count": 9,
   "id": "5d7e61cc",
   "metadata": {
    "execution": {
     "iopub.execute_input": "2022-03-18T19:00:46.103040Z",
     "iopub.status.busy": "2022-03-18T19:00:46.102676Z",
     "iopub.status.idle": "2022-03-18T19:00:46.114493Z",
     "shell.execute_reply": "2022-03-18T19:00:46.114146Z"
    },
    "papermill": {
     "duration": 0.02653,
     "end_time": "2022-03-18T19:00:46.114565",
     "exception": false,
     "start_time": "2022-03-18T19:00:46.088035",
     "status": "completed"
    },
    "tags": []
   },
   "outputs": [],
   "source": [
    "start_time_secs = time.time()"
   ]
  },
  {
   "cell_type": "code",
   "execution_count": 10,
   "id": "c6b67dfd",
   "metadata": {
    "execution": {
     "iopub.execute_input": "2022-03-18T19:00:46.158229Z",
     "iopub.status.busy": "2022-03-18T19:00:46.155968Z",
     "iopub.status.idle": "2022-03-18T19:00:46.162736Z",
     "shell.execute_reply": "2022-03-18T19:00:46.162278Z"
    },
    "papermill": {
     "duration": 0.030928,
     "end_time": "2022-03-18T19:00:46.162838",
     "exception": false,
     "start_time": "2022-03-18T19:00:46.131910",
     "status": "completed"
    },
    "tags": []
   },
   "outputs": [],
   "source": [
    "p.domains_source = []\n",
    "p.domains_target = []\n",
    "\n",
    "\n",
    "train_original_source = []\n",
    "val_original_source   = []\n",
    "test_original_source  = []\n",
    "\n",
    "train_original_target = []\n",
    "val_original_target   = []\n",
    "test_original_target  = []"
   ]
  },
  {
   "cell_type": "code",
   "execution_count": 11,
   "id": "e3d9c3d3",
   "metadata": {
    "execution": {
     "iopub.execute_input": "2022-03-18T19:00:46.195591Z",
     "iopub.status.busy": "2022-03-18T19:00:46.195346Z",
     "iopub.status.idle": "2022-03-18T19:00:46.209238Z",
     "shell.execute_reply": "2022-03-18T19:00:46.208791Z"
    },
    "papermill": {
     "duration": 0.029781,
     "end_time": "2022-03-18T19:00:46.209341",
     "exception": false,
     "start_time": "2022-03-18T19:00:46.179560",
     "status": "completed"
    },
    "tags": []
   },
   "outputs": [],
   "source": [
    "# global_x_transform_func = lambda x: normalize(x.to(torch.get_default_dtype()), \"unit_power\") # unit_power, unit_mag\n",
    "# global_x_transform_func = lambda x: normalize(x, \"unit_power\") # unit_power, unit_mag"
   ]
  },
  {
   "cell_type": "code",
   "execution_count": 12,
   "id": "acb78fd2",
   "metadata": {
    "execution": {
     "iopub.execute_input": "2022-03-18T19:00:46.246960Z",
     "iopub.status.busy": "2022-03-18T19:00:46.243663Z",
     "iopub.status.idle": "2022-03-18T19:00:46.257822Z",
     "shell.execute_reply": "2022-03-18T19:00:46.257425Z"
    },
    "papermill": {
     "duration": 0.028286,
     "end_time": "2022-03-18T19:00:46.257916",
     "exception": false,
     "start_time": "2022-03-18T19:00:46.229630",
     "status": "completed"
    },
    "tags": []
   },
   "outputs": [],
   "source": [
    "def add_dataset(\n",
    "    labels,\n",
    "    domains,\n",
    "    pickle_path,\n",
    "    x_transforms,\n",
    "    episode_transforms,\n",
    "    domain_prefix,\n",
    "    num_examples_per_domain_per_label,\n",
    "    source_or_target_dataset:str,\n",
    "    iterator_seed=p.seed,\n",
    "    dataset_seed=p.dataset_seed,\n",
    "    n_shot=p.n_shot,\n",
    "    n_way=p.n_way,\n",
    "    n_query=p.n_query,\n",
    "    train_val_test_k_factors=(p.train_k_factor,p.val_k_factor,p.test_k_factor),\n",
    "):\n",
    "   \n",
    "    if x_transforms == []: x_transform = None\n",
    "    else: x_transform = get_chained_transform(x_transforms)\n",
    "    \n",
    "    if episode_transforms == []: episode_transform = None\n",
    "    else: raise Exception(\"episode_transforms not implemented\")\n",
    "    \n",
    "    episode_transform = lambda tup, _prefix=domain_prefix: (_prefix + str(tup[0]), tup[1])\n",
    "\n",
    "\n",
    "    eaf = Episodic_Accessor_Factory(\n",
    "        labels=labels,\n",
    "        domains=domains,\n",
    "        num_examples_per_domain_per_label=num_examples_per_domain_per_label,\n",
    "        iterator_seed=iterator_seed,\n",
    "        dataset_seed=dataset_seed,\n",
    "        n_shot=n_shot,\n",
    "        n_way=n_way,\n",
    "        n_query=n_query,\n",
    "        train_val_test_k_factors=train_val_test_k_factors,\n",
    "        pickle_path=pickle_path,\n",
    "        x_transform_func=x_transform,\n",
    "    )\n",
    "\n",
    "    train, val, test = eaf.get_train(), eaf.get_val(), eaf.get_test()\n",
    "    train = Lazy_Iterable_Wrapper(train, episode_transform)\n",
    "    val = Lazy_Iterable_Wrapper(val, episode_transform)\n",
    "    test = Lazy_Iterable_Wrapper(test, episode_transform)\n",
    "\n",
    "    if source_or_target_dataset==\"source\":\n",
    "        train_original_source.append(train)\n",
    "        val_original_source.append(val)\n",
    "        test_original_source.append(test)\n",
    "\n",
    "        p.domains_source.extend(\n",
    "            [domain_prefix + str(u) for u in domains]\n",
    "        )\n",
    "    elif source_or_target_dataset==\"target\":\n",
    "        train_original_target.append(train)\n",
    "        val_original_target.append(val)\n",
    "        test_original_target.append(test)\n",
    "        p.domains_target.extend(\n",
    "            [domain_prefix + str(u) for u in domains]\n",
    "        )\n",
    "    else:\n",
    "        raise Exception(f\"invalid source_or_target_dataset: {source_or_target_dataset}\")\n",
    "    "
   ]
  },
  {
   "cell_type": "code",
   "execution_count": 13,
   "id": "fe266617",
   "metadata": {
    "execution": {
     "iopub.execute_input": "2022-03-18T19:00:46.291154Z",
     "iopub.status.busy": "2022-03-18T19:00:46.290753Z",
     "iopub.status.idle": "2022-03-18T19:01:23.300163Z",
     "shell.execute_reply": "2022-03-18T19:01:23.299735Z"
    },
    "papermill": {
     "duration": 37.024531,
     "end_time": "2022-03-18T19:01:23.300266",
     "exception": false,
     "start_time": "2022-03-18T19:00:46.275735",
     "status": "completed"
    },
    "tags": []
   },
   "outputs": [],
   "source": [
    "for ds in p.datasets:\n",
    "    add_dataset(**ds)"
   ]
  },
  {
   "cell_type": "code",
   "execution_count": 14,
   "id": "b90d65ac",
   "metadata": {
    "execution": {
     "iopub.execute_input": "2022-03-18T19:01:23.334982Z",
     "iopub.status.busy": "2022-03-18T19:01:23.334447Z",
     "iopub.status.idle": "2022-03-18T19:01:23.348760Z",
     "shell.execute_reply": "2022-03-18T19:01:23.348317Z"
    },
    "papermill": {
     "duration": 0.029295,
     "end_time": "2022-03-18T19:01:23.348851",
     "exception": false,
     "start_time": "2022-03-18T19:01:23.319556",
     "status": "completed"
    },
    "tags": []
   },
   "outputs": [],
   "source": [
    "# from steves_utils.CORES.utils import (\n",
    "#     ALL_NODES,\n",
    "#     ALL_NODES_MINIMUM_1000_EXAMPLES,\n",
    "#     ALL_DAYS\n",
    "# )\n",
    "\n",
    "# add_dataset(\n",
    "#     labels=ALL_NODES,\n",
    "#     domains = ALL_DAYS,\n",
    "#     num_examples_per_domain_per_label=100,\n",
    "#     pickle_path=os.path.join(get_datasets_base_path(), \"cores.stratified_ds.2022A.pkl\"),\n",
    "#     source_or_target_dataset=\"target\",\n",
    "#     x_transform_func=global_x_transform_func,\n",
    "#     domain_modifier=lambda u: f\"cores_{u}\"\n",
    "# )"
   ]
  },
  {
   "cell_type": "code",
   "execution_count": 15,
   "id": "76db484d",
   "metadata": {
    "execution": {
     "iopub.execute_input": "2022-03-18T19:01:23.390039Z",
     "iopub.status.busy": "2022-03-18T19:01:23.382834Z",
     "iopub.status.idle": "2022-03-18T19:01:23.396057Z",
     "shell.execute_reply": "2022-03-18T19:01:23.396258Z"
    },
    "papermill": {
     "duration": 0.028867,
     "end_time": "2022-03-18T19:01:23.396315",
     "exception": false,
     "start_time": "2022-03-18T19:01:23.367448",
     "status": "completed"
    },
    "tags": []
   },
   "outputs": [],
   "source": [
    "# from steves_utils.ORACLE.utils_v2 import (\n",
    "#     ALL_DISTANCES_FEET,\n",
    "#     ALL_RUNS,\n",
    "#     ALL_SERIAL_NUMBERS,\n",
    "# )\n",
    "\n",
    "\n",
    "# add_dataset(\n",
    "#     labels=ALL_SERIAL_NUMBERS,\n",
    "#     domains = list(set(ALL_DISTANCES_FEET) - {2,62}),\n",
    "#     num_examples_per_domain_per_label=100,\n",
    "#     pickle_path=os.path.join(get_datasets_base_path(), \"oracle.Run2_framed_2000Examples_stratified_ds.2022A.pkl\"),\n",
    "#     source_or_target_dataset=\"source\",\n",
    "#     x_transform_func=global_x_transform_func,\n",
    "#     domain_modifier=lambda u: f\"oracle1_{u}\"\n",
    "# )\n"
   ]
  },
  {
   "cell_type": "code",
   "execution_count": 16,
   "id": "97dea9d2",
   "metadata": {
    "execution": {
     "iopub.execute_input": "2022-03-18T19:01:23.438415Z",
     "iopub.status.busy": "2022-03-18T19:01:23.438167Z",
     "iopub.status.idle": "2022-03-18T19:01:23.444973Z",
     "shell.execute_reply": "2022-03-18T19:01:23.445352Z"
    },
    "papermill": {
     "duration": 0.030194,
     "end_time": "2022-03-18T19:01:23.445460",
     "exception": false,
     "start_time": "2022-03-18T19:01:23.415266",
     "status": "completed"
    },
    "tags": []
   },
   "outputs": [],
   "source": [
    "# from steves_utils.ORACLE.utils_v2 import (\n",
    "#     ALL_DISTANCES_FEET,\n",
    "#     ALL_RUNS,\n",
    "#     ALL_SERIAL_NUMBERS,\n",
    "# )\n",
    "\n",
    "\n",
    "# add_dataset(\n",
    "#     labels=ALL_SERIAL_NUMBERS,\n",
    "#     domains = list(set(ALL_DISTANCES_FEET) - {2,62,56}),\n",
    "#     num_examples_per_domain_per_label=100,\n",
    "#     pickle_path=os.path.join(get_datasets_base_path(), \"oracle.Run2_framed_2000Examples_stratified_ds.2022A.pkl\"),\n",
    "#     source_or_target_dataset=\"source\",\n",
    "#     x_transform_func=global_x_transform_func,\n",
    "#     domain_modifier=lambda u: f\"oracle2_{u}\"\n",
    "# )"
   ]
  },
  {
   "cell_type": "code",
   "execution_count": 17,
   "id": "6f289866",
   "metadata": {
    "execution": {
     "iopub.execute_input": "2022-03-18T19:01:23.488926Z",
     "iopub.status.busy": "2022-03-18T19:01:23.488411Z",
     "iopub.status.idle": "2022-03-18T19:01:23.494115Z",
     "shell.execute_reply": "2022-03-18T19:01:23.493674Z"
    },
    "papermill": {
     "duration": 0.030052,
     "end_time": "2022-03-18T19:01:23.494217",
     "exception": false,
     "start_time": "2022-03-18T19:01:23.464165",
     "status": "completed"
    },
    "tags": []
   },
   "outputs": [],
   "source": [
    "# add_dataset(\n",
    "#     labels=list(range(19)),\n",
    "#     domains = [0,1,2],\n",
    "#     num_examples_per_domain_per_label=100,\n",
    "#     pickle_path=os.path.join(get_datasets_base_path(), \"metehan.stratified_ds.2022A.pkl\"),\n",
    "#     source_or_target_dataset=\"target\",\n",
    "#     x_transform_func=global_x_transform_func,\n",
    "#     domain_modifier=lambda u: f\"met_{u}\"\n",
    "# )"
   ]
  },
  {
   "cell_type": "code",
   "execution_count": 18,
   "id": "86a863c3",
   "metadata": {
    "execution": {
     "iopub.execute_input": "2022-03-18T19:01:23.528559Z",
     "iopub.status.busy": "2022-03-18T19:01:23.528312Z",
     "iopub.status.idle": "2022-03-18T19:01:23.540920Z",
     "shell.execute_reply": "2022-03-18T19:01:23.541300Z"
    },
    "papermill": {
     "duration": 0.029272,
     "end_time": "2022-03-18T19:01:23.541407",
     "exception": false,
     "start_time": "2022-03-18T19:01:23.512135",
     "status": "completed"
    },
    "tags": []
   },
   "outputs": [],
   "source": [
    "# # from steves_utils.wisig.utils import (\n",
    "# #     ALL_NODES_MINIMUM_100_EXAMPLES,\n",
    "# #     ALL_NODES_MINIMUM_500_EXAMPLES,\n",
    "# #     ALL_NODES_MINIMUM_1000_EXAMPLES,\n",
    "# #     ALL_DAYS\n",
    "# # )\n",
    "\n",
    "# import steves_utils.wisig.utils as wisig\n",
    "\n",
    "\n",
    "# add_dataset(\n",
    "#     labels=wisig.ALL_NODES_MINIMUM_100_EXAMPLES,\n",
    "#     domains = wisig.ALL_DAYS,\n",
    "#     num_examples_per_domain_per_label=100,\n",
    "#     pickle_path=os.path.join(get_datasets_base_path(), \"wisig.node3-19.stratified_ds.2022A.pkl\"),\n",
    "#     source_or_target_dataset=\"target\",\n",
    "#     x_transform_func=global_x_transform_func,\n",
    "#     domain_modifier=lambda u: f\"wisig_{u}\"\n",
    "# )"
   ]
  },
  {
   "cell_type": "code",
   "execution_count": 19,
   "id": "fd5442bc",
   "metadata": {
    "execution": {
     "iopub.execute_input": "2022-03-18T19:01:23.578121Z",
     "iopub.status.busy": "2022-03-18T19:01:23.577836Z",
     "iopub.status.idle": "2022-03-18T19:01:23.593188Z",
     "shell.execute_reply": "2022-03-18T19:01:23.592747Z"
    },
    "papermill": {
     "duration": 0.033519,
     "end_time": "2022-03-18T19:01:23.593278",
     "exception": false,
     "start_time": "2022-03-18T19:01:23.559759",
     "status": "completed"
    },
    "tags": []
   },
   "outputs": [],
   "source": [
    "###################################\n",
    "# Build the dataset\n",
    "###################################\n",
    "train_original_source = Iterable_Aggregator(train_original_source, p.seed)\n",
    "val_original_source = Iterable_Aggregator(val_original_source, p.seed)\n",
    "test_original_source = Iterable_Aggregator(test_original_source, p.seed)\n",
    "\n",
    "\n",
    "train_original_target = Iterable_Aggregator(train_original_target, p.seed)\n",
    "val_original_target = Iterable_Aggregator(val_original_target, p.seed)\n",
    "test_original_target = Iterable_Aggregator(test_original_target, p.seed)\n",
    "\n",
    "# For CNN We only use X and Y. And we only train on the source.\n",
    "# Properly form the data using a transform lambda and Lazy_Iterable_Wrapper. Finally wrap them in a dataloader\n",
    "\n",
    "transform_lambda = lambda ex: ex[1] # Original is (<domain>, <episode>) so we strip down to episode only\n",
    "\n",
    "train_processed_source = Lazy_Iterable_Wrapper(train_original_source, transform_lambda)\n",
    "val_processed_source   = Lazy_Iterable_Wrapper(val_original_source, transform_lambda)\n",
    "test_processed_source  = Lazy_Iterable_Wrapper(test_original_source, transform_lambda)\n",
    "\n",
    "train_processed_target = Lazy_Iterable_Wrapper(train_original_target, transform_lambda)\n",
    "val_processed_target   = Lazy_Iterable_Wrapper(val_original_target, transform_lambda)\n",
    "test_processed_target  = Lazy_Iterable_Wrapper(test_original_target, transform_lambda)\n",
    "\n",
    "datasets = EasyDict({\n",
    "    \"source\": {\n",
    "        \"original\": {\"train\":train_original_source, \"val\":val_original_source, \"test\":test_original_source},\n",
    "        \"processed\": {\"train\":train_processed_source, \"val\":val_processed_source, \"test\":test_processed_source}\n",
    "    },\n",
    "    \"target\": {\n",
    "        \"original\": {\"train\":train_original_target, \"val\":val_original_target, \"test\":test_original_target},\n",
    "        \"processed\": {\"train\":train_processed_target, \"val\":val_processed_target, \"test\":test_processed_target}\n",
    "    },\n",
    "})"
   ]
  },
  {
   "cell_type": "code",
   "execution_count": 20,
   "id": "5b3c01fc",
   "metadata": {
    "execution": {
     "iopub.execute_input": "2022-03-18T19:01:23.635744Z",
     "iopub.status.busy": "2022-03-18T19:01:23.628322Z",
     "iopub.status.idle": "2022-03-18T19:01:28.539874Z",
     "shell.execute_reply": "2022-03-18T19:01:28.539527Z"
    },
    "papermill": {
     "duration": 4.928109,
     "end_time": "2022-03-18T19:01:28.539961",
     "exception": false,
     "start_time": "2022-03-18T19:01:23.611852",
     "status": "completed"
    },
    "tags": []
   },
   "outputs": [
    {
     "name": "stdout",
     "output_type": "stream",
     "text": [
      "{'ORACLE.run1_32', 'ORACLE.run1_50', 'ORACLE.run1_26', 'ORACLE.run1_14', 'ORACLE.run1_44', 'ORACLE.run1_8', 'ORACLE.run1_38', 'ORACLE.run1_20'}\n"
     ]
    },
    {
     "name": "stdout",
     "output_type": "stream",
     "text": [
      "{'W_A_2', 'C_A_3', 'C_A_2', 'C_A_1', 'W_A_1', 'W_A_4', 'W_A_3', 'C_A_4', 'C_A_5'}\n"
     ]
    },
    {
     "name": "stdout",
     "output_type": "stream",
     "text": [
      "tensor([[[ 8.7811e-01,  1.0491e+00, -5.2810e-01,  ...,  6.3614e-01,\n",
      "           6.5089e-01,  1.1922e+00],\n",
      "         [-5.5415e-01,  1.2967e-01,  9.7587e-01,  ...,  9.3159e-01,\n",
      "           7.4736e-01, -3.6365e-01]],\n",
      "\n",
      "        [[ 4.5133e-01,  1.2198e+00,  4.4993e-02,  ...,  5.5299e-01,\n",
      "          -4.7954e-01,  6.0680e-01],\n",
      "         [-3.8053e-01,  5.2255e-01,  6.2250e-01,  ...,  4.0995e-01,\n",
      "           1.1655e+00,  6.3729e-01]],\n",
      "\n",
      "        [[-3.5217e-01, -8.1919e-01,  2.1608e-01,  ..., -5.3617e-01,\n",
      "           1.0090e+00,  3.5920e-02],\n",
      "         [ 2.6413e-01, -8.1648e-01, -7.2088e-01,  ..., -4.8177e-01,\n",
      "          -9.7086e-01, -8.0159e-01]],\n",
      "\n",
      "        ...,\n",
      "\n",
      "        [[-4.3317e-01, -1.1566e+00, -1.0410e-01,  ..., -9.3470e-01,\n",
      "          -9.2491e-01, -1.1399e+00],\n",
      "         [ 1.0277e+00,  5.0329e-01, -1.0004e+00,  ..., -5.2228e-01,\n",
      "          -5.3969e-01,  5.8592e-01]],\n",
      "\n",
      "        [[ 5.3353e-01,  2.1818e-01, -6.2163e-01,  ..., -4.8091e-02,\n",
      "          -1.2558e+00, -2.9783e-01],\n",
      "         [-4.8914e-16,  1.1586e+00,  3.5970e-01,  ...,  7.4092e-01,\n",
      "           1.8264e-01,  7.9458e-01]],\n",
      "\n",
      "        [[ 9.3520e-01,  9.0946e-01, -7.0035e-01,  ...,  4.2561e-01,\n",
      "           6.1819e-01,  1.3908e+00],\n",
      "         [-5.2755e-01,  2.1641e-01,  9.0133e-01,  ...,  9.1893e-01,\n",
      "           6.7785e-01, -2.5718e-01]]])\n"
     ]
    }
   ],
   "source": [
    "from steves_utils.transforms import get_average_magnitude, get_average_power\n",
    "\n",
    "print(set([u for u,_ in val_original_source]))\n",
    "print(set([u for u,_ in val_original_target]))\n",
    "\n",
    "s_x, s_y, q_x, q_y, _ = next(iter(train_processed_source))\n",
    "print(s_x)\n",
    "\n",
    "# for ds in [\n",
    "#     train_processed_source,\n",
    "#     val_processed_source,\n",
    "#     test_processed_source,\n",
    "#     train_processed_target,\n",
    "#     val_processed_target,\n",
    "#     test_processed_target\n",
    "# ]:\n",
    "#     for s_x, s_y, q_x, q_y, _ in ds:\n",
    "#         for X in (s_x, q_x):\n",
    "#             for x in X:\n",
    "#                 assert np.isclose(get_average_magnitude(x.numpy()), 1.0)\n",
    "#                 assert np.isclose(get_average_power(x.numpy()), 1.0)\n",
    "                "
   ]
  },
  {
   "cell_type": "code",
   "execution_count": 21,
   "id": "bbdacba1",
   "metadata": {
    "execution": {
     "iopub.execute_input": "2022-03-18T19:01:28.584123Z",
     "iopub.status.busy": "2022-03-18T19:01:28.583567Z",
     "iopub.status.idle": "2022-03-18T19:01:28.635497Z",
     "shell.execute_reply": "2022-03-18T19:01:28.635039Z"
    },
    "papermill": {
     "duration": 0.069931,
     "end_time": "2022-03-18T19:01:28.635593",
     "exception": false,
     "start_time": "2022-03-18T19:01:28.565662",
     "status": "completed"
    },
    "tags": []
   },
   "outputs": [
    {
     "name": "stdout",
     "output_type": "stream",
     "text": [
      "(2, 200)\n"
     ]
    }
   ],
   "source": [
    "###################################\n",
    "# Build the model\n",
    "###################################\n",
    "# easfsl only wants a tuple for the shape\n",
    "model = Steves_Prototypical_Network(x_net, device=p.device, x_shape=tuple(p.x_shape))\n",
    "optimizer = Adam(params=model.parameters(), lr=p.lr)"
   ]
  },
  {
   "cell_type": "code",
   "execution_count": 22,
   "id": "22b39ac5",
   "metadata": {
    "execution": {
     "iopub.execute_input": "2022-03-18T19:01:28.673277Z",
     "iopub.status.busy": "2022-03-18T19:01:28.672954Z",
     "iopub.status.idle": "2022-03-18T19:22:46.719658Z",
     "shell.execute_reply": "2022-03-18T19:22:46.719418Z"
    },
    "papermill": {
     "duration": 1278.065508,
     "end_time": "2022-03-18T19:22:46.719722",
     "exception": false,
     "start_time": "2022-03-18T19:01:28.654214",
     "status": "completed"
    },
    "tags": []
   },
   "outputs": [
    {
     "name": "stdout",
     "output_type": "stream",
     "text": [
      "epoch: 1, [batch: 1 / 6720], examples_per_second: 50.6432, train_label_loss: 3.2826, \n"
     ]
    },
    {
     "name": "stdout",
     "output_type": "stream",
     "text": [
      "epoch: 1, [batch: 672 / 6720], examples_per_second: 3635.1633, train_label_loss: 1.1627, \n"
     ]
    },
    {
     "name": "stdout",
     "output_type": "stream",
     "text": [
      "epoch: 1, [batch: 1344 / 6720], examples_per_second: 3633.1050, train_label_loss: 0.9417, \n"
     ]
    },
    {
     "name": "stdout",
     "output_type": "stream",
     "text": [
      "epoch: 1, [batch: 2016 / 6720], examples_per_second: 3657.6422, train_label_loss: 0.8463, \n"
     ]
    },
    {
     "name": "stdout",
     "output_type": "stream",
     "text": [
      "epoch: 1, [batch: 2688 / 6720], examples_per_second: 3609.1904, train_label_loss: 0.8726, \n"
     ]
    },
    {
     "name": "stdout",
     "output_type": "stream",
     "text": [
      "epoch: 1, [batch: 3360 / 6720], examples_per_second: 3620.0717, train_label_loss: 0.8950, \n"
     ]
    },
    {
     "name": "stdout",
     "output_type": "stream",
     "text": [
      "epoch: 1, [batch: 4032 / 6720], examples_per_second: 3622.5041, train_label_loss: 1.0309, \n"
     ]
    },
    {
     "name": "stdout",
     "output_type": "stream",
     "text": [
      "epoch: 1, [batch: 4704 / 6720], examples_per_second: 3615.6288, train_label_loss: 1.2476, \n"
     ]
    },
    {
     "name": "stdout",
     "output_type": "stream",
     "text": [
      "epoch: 1, [batch: 5376 / 6720], examples_per_second: 3622.2586, train_label_loss: 1.2556, \n"
     ]
    },
    {
     "name": "stdout",
     "output_type": "stream",
     "text": [
      "epoch: 1, [batch: 6048 / 6720], examples_per_second: 3631.9465, train_label_loss: 0.7618, \n"
     ]
    },
    {
     "name": "stdout",
     "output_type": "stream",
     "text": [
      "=============================================================\n",
      "epoch: 1, source_val_acc_label: 0.6406, target_val_acc_label: 0.4159, source_val_label_loss: 83.6601, target_val_label_loss: 25355.5762, \n",
      "=============================================================\n"
     ]
    },
    {
     "name": "stdout",
     "output_type": "stream",
     "text": [
      "New best\n"
     ]
    },
    {
     "name": "stdout",
     "output_type": "stream",
     "text": [
      "epoch: 2, [batch: 1 / 6720], examples_per_second: 6.0178, train_label_loss: 1.5250, \n"
     ]
    },
    {
     "name": "stdout",
     "output_type": "stream",
     "text": [
      "epoch: 2, [batch: 672 / 6720], examples_per_second: 3610.8196, train_label_loss: 1.5464, \n"
     ]
    },
    {
     "name": "stdout",
     "output_type": "stream",
     "text": [
      "epoch: 2, [batch: 1344 / 6720], examples_per_second: 3646.9421, train_label_loss: 1.1812, \n"
     ]
    },
    {
     "name": "stdout",
     "output_type": "stream",
     "text": [
      "epoch: 2, [batch: 2016 / 6720], examples_per_second: 3636.9519, train_label_loss: 0.8145, \n"
     ]
    },
    {
     "name": "stdout",
     "output_type": "stream",
     "text": [
      "epoch: 2, [batch: 2688 / 6720], examples_per_second: 3608.1833, train_label_loss: 1.1188, \n"
     ]
    },
    {
     "name": "stdout",
     "output_type": "stream",
     "text": [
      "epoch: 2, [batch: 3360 / 6720], examples_per_second: 3652.9974, train_label_loss: 0.9229, \n"
     ]
    },
    {
     "name": "stdout",
     "output_type": "stream",
     "text": [
      "epoch: 2, [batch: 4032 / 6720], examples_per_second: 3640.1266, train_label_loss: 0.7007, \n"
     ]
    },
    {
     "name": "stdout",
     "output_type": "stream",
     "text": [
      "epoch: 2, [batch: 4704 / 6720], examples_per_second: 3631.0405, train_label_loss: 1.3090, \n"
     ]
    },
    {
     "name": "stdout",
     "output_type": "stream",
     "text": [
      "epoch: 2, [batch: 5376 / 6720], examples_per_second: 3630.1962, train_label_loss: 0.3371, \n"
     ]
    },
    {
     "name": "stdout",
     "output_type": "stream",
     "text": [
      "epoch: 2, [batch: 6048 / 6720], examples_per_second: 3630.3225, train_label_loss: 0.5599, \n"
     ]
    },
    {
     "name": "stdout",
     "output_type": "stream",
     "text": [
      "=============================================================\n",
      "epoch: 2, source_val_acc_label: 0.6401, target_val_acc_label: 0.4715, source_val_label_loss: 0.9803, target_val_label_loss: 1271.8234, \n",
      "=============================================================\n"
     ]
    },
    {
     "name": "stdout",
     "output_type": "stream",
     "text": [
      "New best\n"
     ]
    },
    {
     "name": "stdout",
     "output_type": "stream",
     "text": [
      "epoch: 3, [batch: 1 / 6720], examples_per_second: 6.0208, train_label_loss: 0.7298, \n"
     ]
    },
    {
     "name": "stdout",
     "output_type": "stream",
     "text": [
      "epoch: 3, [batch: 672 / 6720], examples_per_second: 3619.2119, train_label_loss: 1.1654, \n"
     ]
    },
    {
     "name": "stdout",
     "output_type": "stream",
     "text": [
      "epoch: 3, [batch: 1344 / 6720], examples_per_second: 3641.9335, train_label_loss: 0.6847, \n"
     ]
    },
    {
     "name": "stdout",
     "output_type": "stream",
     "text": [
      "epoch: 3, [batch: 2016 / 6720], examples_per_second: 3637.2297, train_label_loss: 0.9341, \n"
     ]
    },
    {
     "name": "stdout",
     "output_type": "stream",
     "text": [
      "epoch: 3, [batch: 2688 / 6720], examples_per_second: 3624.8704, train_label_loss: 0.9942, \n"
     ]
    },
    {
     "name": "stdout",
     "output_type": "stream",
     "text": [
      "epoch: 3, [batch: 3360 / 6720], examples_per_second: 3666.0456, train_label_loss: 0.7696, \n"
     ]
    },
    {
     "name": "stdout",
     "output_type": "stream",
     "text": [
      "epoch: 3, [batch: 4032 / 6720], examples_per_second: 3621.7167, train_label_loss: 1.0309, \n"
     ]
    },
    {
     "name": "stdout",
     "output_type": "stream",
     "text": [
      "epoch: 3, [batch: 4704 / 6720], examples_per_second: 3616.9672, train_label_loss: 0.5708, \n"
     ]
    },
    {
     "name": "stdout",
     "output_type": "stream",
     "text": [
      "epoch: 3, [batch: 5376 / 6720], examples_per_second: 3635.5878, train_label_loss: 0.8908, \n"
     ]
    },
    {
     "name": "stdout",
     "output_type": "stream",
     "text": [
      "epoch: 3, [batch: 6048 / 6720], examples_per_second: 3647.3183, train_label_loss: 0.7868, \n"
     ]
    },
    {
     "name": "stdout",
     "output_type": "stream",
     "text": [
      "=============================================================\n",
      "epoch: 3, source_val_acc_label: 0.7131, target_val_acc_label: 0.5069, source_val_label_loss: 0.8056, target_val_label_loss: 1280.1932, \n",
      "=============================================================\n"
     ]
    },
    {
     "name": "stdout",
     "output_type": "stream",
     "text": [
      "epoch: 4, [batch: 1 / 6720], examples_per_second: 6.0602, train_label_loss: 0.7583, \n"
     ]
    },
    {
     "name": "stdout",
     "output_type": "stream",
     "text": [
      "epoch: 4, [batch: 672 / 6720], examples_per_second: 3614.1790, train_label_loss: 0.3911, \n"
     ]
    },
    {
     "name": "stdout",
     "output_type": "stream",
     "text": [
      "epoch: 4, [batch: 1344 / 6720], examples_per_second: 3625.9584, train_label_loss: 0.7981, \n"
     ]
    },
    {
     "name": "stdout",
     "output_type": "stream",
     "text": [
      "epoch: 4, [batch: 2016 / 6720], examples_per_second: 3634.1482, train_label_loss: 0.6641, \n"
     ]
    },
    {
     "name": "stdout",
     "output_type": "stream",
     "text": [
      "epoch: 4, [batch: 2688 / 6720], examples_per_second: 3638.7129, train_label_loss: 0.5217, \n"
     ]
    },
    {
     "name": "stdout",
     "output_type": "stream",
     "text": [
      "epoch: 4, [batch: 3360 / 6720], examples_per_second: 3637.8386, train_label_loss: 0.5764, \n"
     ]
    },
    {
     "name": "stdout",
     "output_type": "stream",
     "text": [
      "epoch: 4, [batch: 4032 / 6720], examples_per_second: 3646.6859, train_label_loss: 0.5369, \n"
     ]
    },
    {
     "name": "stdout",
     "output_type": "stream",
     "text": [
      "epoch: 4, [batch: 4704 / 6720], examples_per_second: 3602.6001, train_label_loss: 1.0574, \n"
     ]
    },
    {
     "name": "stdout",
     "output_type": "stream",
     "text": [
      "epoch: 4, [batch: 5376 / 6720], examples_per_second: 3632.3443, train_label_loss: 0.7147, \n"
     ]
    },
    {
     "name": "stdout",
     "output_type": "stream",
     "text": [
      "epoch: 4, [batch: 6048 / 6720], examples_per_second: 3643.1832, train_label_loss: 0.7898, \n"
     ]
    },
    {
     "name": "stdout",
     "output_type": "stream",
     "text": [
      "=============================================================\n",
      "epoch: 4, source_val_acc_label: 0.7346, target_val_acc_label: 0.5431, source_val_label_loss: 0.7490, target_val_label_loss: 206.0270, \n",
      "=============================================================\n"
     ]
    },
    {
     "name": "stdout",
     "output_type": "stream",
     "text": [
      "New best\n"
     ]
    },
    {
     "name": "stdout",
     "output_type": "stream",
     "text": [
      "epoch: 5, [batch: 1 / 6720], examples_per_second: 6.0407, train_label_loss: 1.0788, \n"
     ]
    },
    {
     "name": "stdout",
     "output_type": "stream",
     "text": [
      "epoch: 5, [batch: 672 / 6720], examples_per_second: 3623.1641, train_label_loss: 0.6817, \n"
     ]
    },
    {
     "name": "stdout",
     "output_type": "stream",
     "text": [
      "epoch: 5, [batch: 1344 / 6720], examples_per_second: 3634.9298, train_label_loss: 0.7364, \n"
     ]
    },
    {
     "name": "stdout",
     "output_type": "stream",
     "text": [
      "epoch: 5, [batch: 2016 / 6720], examples_per_second: 3634.2065, train_label_loss: 0.4442, \n"
     ]
    },
    {
     "name": "stdout",
     "output_type": "stream",
     "text": [
      "epoch: 5, [batch: 2688 / 6720], examples_per_second: 3639.5464, train_label_loss: 0.3900, \n"
     ]
    },
    {
     "name": "stdout",
     "output_type": "stream",
     "text": [
      "epoch: 5, [batch: 3360 / 6720], examples_per_second: 3637.2297, train_label_loss: 0.7650, \n"
     ]
    },
    {
     "name": "stdout",
     "output_type": "stream",
     "text": [
      "epoch: 5, [batch: 4032 / 6720], examples_per_second: 3636.7286, train_label_loss: 0.6526, \n"
     ]
    },
    {
     "name": "stdout",
     "output_type": "stream",
     "text": [
      "epoch: 5, [batch: 4704 / 6720], examples_per_second: 3623.0129, train_label_loss: 0.5759, \n"
     ]
    },
    {
     "name": "stdout",
     "output_type": "stream",
     "text": [
      "epoch: 5, [batch: 5376 / 6720], examples_per_second: 3643.4418, train_label_loss: 0.4452, \n"
     ]
    },
    {
     "name": "stdout",
     "output_type": "stream",
     "text": [
      "epoch: 5, [batch: 6048 / 6720], examples_per_second: 3629.4256, train_label_loss: 0.2568, \n"
     ]
    },
    {
     "name": "stdout",
     "output_type": "stream",
     "text": [
      "=============================================================\n",
      "epoch: 5, source_val_acc_label: 0.7935, target_val_acc_label: 0.5571, source_val_label_loss: 0.5880, target_val_label_loss: 1621.6635, \n",
      "=============================================================\n"
     ]
    },
    {
     "name": "stdout",
     "output_type": "stream",
     "text": [
      "epoch: 6, [batch: 1 / 6720], examples_per_second: 6.0372, train_label_loss: 0.3319, \n"
     ]
    },
    {
     "name": "stdout",
     "output_type": "stream",
     "text": [
      "epoch: 6, [batch: 672 / 6720], examples_per_second: 3630.5138, train_label_loss: 0.8611, \n"
     ]
    },
    {
     "name": "stdout",
     "output_type": "stream",
     "text": [
      "epoch: 6, [batch: 1344 / 6720], examples_per_second: 3638.3814, train_label_loss: 0.4811, \n"
     ]
    },
    {
     "name": "stdout",
     "output_type": "stream",
     "text": [
      "epoch: 6, [batch: 2016 / 6720], examples_per_second: 3640.4179, train_label_loss: 0.5073, \n"
     ]
    },
    {
     "name": "stdout",
     "output_type": "stream",
     "text": [
      "epoch: 6, [batch: 2688 / 6720], examples_per_second: 3641.6082, train_label_loss: 0.4888, \n"
     ]
    },
    {
     "name": "stdout",
     "output_type": "stream",
     "text": [
      "epoch: 6, [batch: 3360 / 6720], examples_per_second: 3639.9286, train_label_loss: 0.7694, \n"
     ]
    },
    {
     "name": "stdout",
     "output_type": "stream",
     "text": [
      "epoch: 6, [batch: 4032 / 6720], examples_per_second: 3640.6148, train_label_loss: 0.3093, \n"
     ]
    },
    {
     "name": "stdout",
     "output_type": "stream",
     "text": [
      "epoch: 6, [batch: 4704 / 6720], examples_per_second: 3625.6768, train_label_loss: 0.4177, \n"
     ]
    },
    {
     "name": "stdout",
     "output_type": "stream",
     "text": [
      "epoch: 6, [batch: 5376 / 6720], examples_per_second: 3646.2900, train_label_loss: 0.4885, \n"
     ]
    },
    {
     "name": "stdout",
     "output_type": "stream",
     "text": [
      "epoch: 6, [batch: 6048 / 6720], examples_per_second: 3627.6373, train_label_loss: 0.6037, \n"
     ]
    },
    {
     "name": "stdout",
     "output_type": "stream",
     "text": [
      "=============================================================\n",
      "epoch: 6, source_val_acc_label: 0.7890, target_val_acc_label: 0.5229, source_val_label_loss: 0.6152, target_val_label_loss: 3016.9980, \n",
      "=============================================================\n"
     ]
    },
    {
     "name": "stdout",
     "output_type": "stream",
     "text": [
      "epoch: 7, [batch: 1 / 6720], examples_per_second: 6.0313, train_label_loss: 0.4979, \n"
     ]
    },
    {
     "name": "stdout",
     "output_type": "stream",
     "text": [
      "epoch: 7, [batch: 672 / 6720], examples_per_second: 3606.6179, train_label_loss: 0.4142, \n"
     ]
    },
    {
     "name": "stdout",
     "output_type": "stream",
     "text": [
      "epoch: 7, [batch: 1344 / 6720], examples_per_second: 3618.5695, train_label_loss: 0.7677, \n"
     ]
    },
    {
     "name": "stdout",
     "output_type": "stream",
     "text": [
      "epoch: 7, [batch: 2016 / 6720], examples_per_second: 3611.8830, train_label_loss: 0.4725, \n"
     ]
    },
    {
     "name": "stdout",
     "output_type": "stream",
     "text": [
      "epoch: 7, [batch: 2688 / 6720], examples_per_second: 3620.0896, train_label_loss: 0.2465, \n"
     ]
    },
    {
     "name": "stdout",
     "output_type": "stream",
     "text": [
      "epoch: 7, [batch: 3360 / 6720], examples_per_second: 3638.9297, train_label_loss: 0.3634, \n"
     ]
    },
    {
     "name": "stdout",
     "output_type": "stream",
     "text": [
      "epoch: 7, [batch: 4032 / 6720], examples_per_second: 3631.0728, train_label_loss: 0.2574, \n"
     ]
    },
    {
     "name": "stdout",
     "output_type": "stream",
     "text": [
      "epoch: 7, [batch: 4704 / 6720], examples_per_second: 3619.9261, train_label_loss: 0.7017, \n"
     ]
    },
    {
     "name": "stdout",
     "output_type": "stream",
     "text": [
      "epoch: 7, [batch: 5376 / 6720], examples_per_second: 3625.1894, train_label_loss: 0.7987, \n"
     ]
    },
    {
     "name": "stdout",
     "output_type": "stream",
     "text": [
      "epoch: 7, [batch: 6048 / 6720], examples_per_second: 3631.6691, train_label_loss: 0.7245, \n"
     ]
    },
    {
     "name": "stdout",
     "output_type": "stream",
     "text": [
      "=============================================================\n",
      "epoch: 7, source_val_acc_label: 0.8060, target_val_acc_label: 0.5278, source_val_label_loss: 0.5422, target_val_label_loss: 2235.5906, \n",
      "=============================================================\n"
     ]
    },
    {
     "name": "stdout",
     "output_type": "stream",
     "text": [
      "epoch: 8, [batch: 1 / 6720], examples_per_second: 6.0252, train_label_loss: 0.5887, \n"
     ]
    },
    {
     "name": "stdout",
     "output_type": "stream",
     "text": [
      "epoch: 8, [batch: 672 / 6720], examples_per_second: 3624.2163, train_label_loss: 0.3855, \n"
     ]
    },
    {
     "name": "stdout",
     "output_type": "stream",
     "text": [
      "epoch: 8, [batch: 1344 / 6720], examples_per_second: 3634.8684, train_label_loss: 0.3950, \n"
     ]
    },
    {
     "name": "stdout",
     "output_type": "stream",
     "text": [
      "epoch: 8, [batch: 2016 / 6720], examples_per_second: 3645.2870, train_label_loss: 0.9439, \n"
     ]
    },
    {
     "name": "stdout",
     "output_type": "stream",
     "text": [
      "epoch: 8, [batch: 2688 / 6720], examples_per_second: 3620.8898, train_label_loss: 1.1669, \n"
     ]
    },
    {
     "name": "stdout",
     "output_type": "stream",
     "text": [
      "epoch: 8, [batch: 3360 / 6720], examples_per_second: 3641.6562, train_label_loss: 0.3318, \n"
     ]
    },
    {
     "name": "stdout",
     "output_type": "stream",
     "text": [
      "epoch: 8, [batch: 4032 / 6720], examples_per_second: 3641.3929, train_label_loss: 0.4236, \n"
     ]
    },
    {
     "name": "stdout",
     "output_type": "stream",
     "text": [
      "epoch: 8, [batch: 4704 / 6720], examples_per_second: 3622.0288, train_label_loss: 0.3044, \n"
     ]
    },
    {
     "name": "stdout",
     "output_type": "stream",
     "text": [
      "epoch: 8, [batch: 5376 / 6720], examples_per_second: 3599.0121, train_label_loss: 0.7031, \n"
     ]
    },
    {
     "name": "stdout",
     "output_type": "stream",
     "text": [
      "epoch: 8, [batch: 6048 / 6720], examples_per_second: 3626.3765, train_label_loss: 0.8818, \n"
     ]
    },
    {
     "name": "stdout",
     "output_type": "stream",
     "text": [
      "=============================================================\n",
      "epoch: 8, source_val_acc_label: 0.7989, target_val_acc_label: 0.5062, source_val_label_loss: 0.5895, target_val_label_loss: 4359.7310, \n",
      "=============================================================\n"
     ]
    },
    {
     "name": "stdout",
     "output_type": "stream",
     "text": [
      "Patience (3) exhausted\n"
     ]
    }
   ],
   "source": [
    "###################################\n",
    "# train\n",
    "###################################\n",
    "jig = PTN_Train_Eval_Test_Jig(model, p.BEST_MODEL_PATH, p.device)\n",
    "\n",
    "jig.train(\n",
    "    train_iterable=datasets.source.processed.train,\n",
    "    source_val_iterable=datasets.source.processed.val,\n",
    "    target_val_iterable=datasets.target.processed.val,\n",
    "    num_epochs=p.n_epoch,\n",
    "    num_logs_per_epoch=p.NUM_LOGS_PER_EPOCH,\n",
    "    patience=p.patience,\n",
    "    optimizer=optimizer,\n",
    "    criteria_for_best=p.criteria_for_best,\n",
    ")"
   ]
  },
  {
   "cell_type": "code",
   "execution_count": 23,
   "id": "31e8fabf",
   "metadata": {
    "execution": {
     "iopub.execute_input": "2022-03-18T19:22:46.784374Z",
     "iopub.status.busy": "2022-03-18T19:22:46.783988Z",
     "iopub.status.idle": "2022-03-18T19:22:46.799429Z",
     "shell.execute_reply": "2022-03-18T19:22:46.799129Z"
    },
    "papermill": {
     "duration": 0.048382,
     "end_time": "2022-03-18T19:22:46.799496",
     "exception": false,
     "start_time": "2022-03-18T19:22:46.751114",
     "status": "completed"
    },
    "tags": []
   },
   "outputs": [],
   "source": [
    "total_experiment_time_secs = time.time() - start_time_secs"
   ]
  },
  {
   "cell_type": "code",
   "execution_count": 24,
   "id": "87b9595b",
   "metadata": {
    "execution": {
     "iopub.execute_input": "2022-03-18T19:22:46.864496Z",
     "iopub.status.busy": "2022-03-18T19:22:46.864080Z",
     "iopub.status.idle": "2022-03-18T19:23:49.508830Z",
     "shell.execute_reply": "2022-03-18T19:23:49.508296Z"
    },
    "papermill": {
     "duration": 62.679001,
     "end_time": "2022-03-18T19:23:49.508941",
     "exception": false,
     "start_time": "2022-03-18T19:22:46.829940",
     "status": "completed"
    },
    "tags": []
   },
   "outputs": [],
   "source": [
    "###################################\n",
    "# Evaluate the model\n",
    "###################################\n",
    "source_test_label_accuracy, source_test_label_loss = jig.test(datasets.source.processed.test)\n",
    "target_test_label_accuracy, target_test_label_loss = jig.test(datasets.target.processed.test)\n",
    "\n",
    "source_val_label_accuracy, source_val_label_loss = jig.test(datasets.source.processed.val)\n",
    "target_val_label_accuracy, target_val_label_loss = jig.test(datasets.target.processed.val)\n",
    "\n",
    "history = jig.get_history()\n",
    "\n",
    "total_epochs_trained = len(history[\"epoch_indices\"])\n",
    "\n",
    "val_dl = Iterable_Aggregator((datasets.source.original.val,datasets.target.original.val))\n",
    "\n",
    "confusion = ptn_confusion_by_domain_over_dataloader(model, p.device, val_dl)\n",
    "per_domain_accuracy = per_domain_accuracy_from_confusion(confusion)\n",
    "\n",
    "# Add a key to per_domain_accuracy for if it was a source domain\n",
    "for domain, accuracy in per_domain_accuracy.items():\n",
    "    per_domain_accuracy[domain] = {\n",
    "        \"accuracy\": accuracy,\n",
    "        \"source?\": domain in p.domains_source\n",
    "    }\n",
    "\n",
    "# Do an independent accuracy assesment JUST TO BE SURE!\n",
    "# _source_test_label_accuracy = independent_accuracy_assesment(model, datasets.source.processed.test, p.device)\n",
    "# _target_test_label_accuracy = independent_accuracy_assesment(model, datasets.target.processed.test, p.device)\n",
    "# _source_val_label_accuracy = independent_accuracy_assesment(model, datasets.source.processed.val, p.device)\n",
    "# _target_val_label_accuracy = independent_accuracy_assesment(model, datasets.target.processed.val, p.device)\n",
    "\n",
    "# assert(_source_test_label_accuracy == source_test_label_accuracy)\n",
    "# assert(_target_test_label_accuracy == target_test_label_accuracy)\n",
    "# assert(_source_val_label_accuracy == source_val_label_accuracy)\n",
    "# assert(_target_val_label_accuracy == target_val_label_accuracy)\n",
    "\n",
    "experiment = {\n",
    "    \"experiment_name\": p.experiment_name,\n",
    "    \"parameters\": dict(p),\n",
    "    \"results\": {\n",
    "        \"source_test_label_accuracy\": source_test_label_accuracy,\n",
    "        \"source_test_label_loss\": source_test_label_loss,\n",
    "        \"target_test_label_accuracy\": target_test_label_accuracy,\n",
    "        \"target_test_label_loss\": target_test_label_loss,\n",
    "        \"source_val_label_accuracy\": source_val_label_accuracy,\n",
    "        \"source_val_label_loss\": source_val_label_loss,\n",
    "        \"target_val_label_accuracy\": target_val_label_accuracy,\n",
    "        \"target_val_label_loss\": target_val_label_loss,\n",
    "        \"total_epochs_trained\": total_epochs_trained,\n",
    "        \"total_experiment_time_secs\": total_experiment_time_secs,\n",
    "        \"confusion\": confusion,\n",
    "        \"per_domain_accuracy\": per_domain_accuracy,\n",
    "    },\n",
    "    \"history\": history,\n",
    "    \"dataset_metrics\": get_dataset_metrics(datasets, \"ptn\"),\n",
    "}"
   ]
  },
  {
   "cell_type": "code",
   "execution_count": 25,
   "id": "54a21829",
   "metadata": {
    "execution": {
     "iopub.execute_input": "2022-03-18T19:23:49.585970Z",
     "iopub.status.busy": "2022-03-18T19:23:49.580219Z",
     "iopub.status.idle": "2022-03-18T19:23:49.704539Z",
     "shell.execute_reply": "2022-03-18T19:23:49.704087Z"
    },
    "papermill": {
     "duration": 0.159443,
     "end_time": "2022-03-18T19:23:49.704631",
     "exception": false,
     "start_time": "2022-03-18T19:23:49.545188",
     "status": "completed"
    },
    "tags": []
   },
   "outputs": [
    {
     "data": {
      "image/png": "[encoded data removed]",
      "text/plain": [
       "<Figure size 1080x504 with 1 Axes>"
      ]
     },
     "metadata": {
      "needs_background": "light"
     },
     "output_type": "display_data"
    }
   ],
   "source": [
    "ax = get_loss_curve(experiment)\n",
    "plt.show()"
   ]
  },
  {
   "cell_type": "code",
   "execution_count": 26,
   "id": "fd8a0f60",
   "metadata": {
    "execution": {
     "iopub.execute_input": "2022-03-18T19:23:49.785358Z",
     "iopub.status.busy": "2022-03-18T19:23:49.777113Z",
     "iopub.status.idle": "2022-03-18T19:23:49.920135Z",
     "shell.execute_reply": "2022-03-18T19:23:49.919878Z"
    },
    "papermill": {
     "duration": 0.178899,
     "end_time": "2022-03-18T19:23:49.920189",
     "exception": false,
     "start_time": "2022-03-18T19:23:49.741290",
     "status": "completed"
    },
    "tags": []
   },
   "outputs": [
    {
     "data": {
      "text/plain": [
       "<AxesSubplot:title={'center':'Results'}>"
      ]
     },
     "execution_count": 26,
     "metadata": {},
     "output_type": "execute_result"
    },
    {
     "data": {
      "image/png": "[encoded data removed]",
      "text/plain": [
       "<Figure size 1080x504 with 1 Axes>"
      ]
     },
     "metadata": {
      "needs_background": "light"
     },
     "output_type": "display_data"
    }
   ],
   "source": [
    "get_results_table(experiment)"
   ]
  },
  {
   "cell_type": "code",
   "execution_count": 27,
   "id": "cf8dc689",
   "metadata": {
    "execution": {
     "iopub.execute_input": "2022-03-18T19:23:49.990234Z",
     "iopub.status.busy": "2022-03-18T19:23:49.988699Z",
     "iopub.status.idle": "2022-03-18T19:23:50.142709Z",
     "shell.execute_reply": "2022-03-18T19:23:50.142464Z"
    },
    "papermill": {
     "duration": 0.188881,
     "end_time": "2022-03-18T19:23:50.142760",
     "exception": false,
     "start_time": "2022-03-18T19:23:49.953879",
     "status": "completed"
    },
    "tags": []
   },
   "outputs": [
    {
     "data": {
      "text/plain": [
       "<AxesSubplot:title={'center':'Per Domain Validation Accuracy'}, xlabel='domain'>"
      ]
     },
     "execution_count": 27,
     "metadata": {},
     "output_type": "execute_result"
    },
    {
     "data": {
      "image/png": "[encoded data removed]",
      "text/plain": [
       "<Figure size 1080x504 with 1 Axes>"
      ]
     },
     "metadata": {
      "needs_background": "light"
     },
     "output_type": "display_data"
    }
   ],
   "source": [
    "get_domain_accuracies(experiment)"
   ]
  },
  {
   "cell_type": "code",
   "execution_count": 28,
   "id": "a74ae082",
   "metadata": {
    "execution": {
     "iopub.execute_input": "2022-03-18T19:23:50.212269Z",
     "iopub.status.busy": "2022-03-18T19:23:50.211837Z",
     "iopub.status.idle": "2022-03-18T19:23:50.226390Z",
     "shell.execute_reply": "2022-03-18T19:23:50.225940Z"
    },
    "papermill": {
     "duration": 0.05035,
     "end_time": "2022-03-18T19:23:50.226481",
     "exception": false,
     "start_time": "2022-03-18T19:23:50.176131",
     "status": "completed"
    },
    "tags": []
   },
   "outputs": [
    {
     "name": "stdout",
     "output_type": "stream",
     "text": [
      "Source Test Label Accuracy: 0.7338541666666667 Target Test Label Accuracy: 0.5453452797202797\n",
      "Source Val Label Accuracy: 0.7346354166666667 Target Val Label Accuracy: 0.5430506993006993\n"
     ]
    }
   ],
   "source": [
    "print(\"Source Test Label Accuracy:\", experiment[\"results\"][\"source_test_label_accuracy\"], \"Target Test Label Accuracy:\", experiment[\"results\"][\"target_test_label_accuracy\"])\n",
    "print(\"Source Val Label Accuracy:\", experiment[\"results\"][\"source_val_label_accuracy\"], \"Target Val Label Accuracy:\", experiment[\"results\"][\"target_val_label_accuracy\"])"
   ]
  },
  {
   "cell_type": "code",
   "execution_count": 29,
   "id": "dacca602",
   "metadata": {
    "execution": {
     "iopub.execute_input": "2022-03-18T19:23:50.301467Z",
     "iopub.status.busy": "2022-03-18T19:23:50.301218Z",
     "iopub.status.idle": "2022-03-18T19:23:50.320388Z",
     "shell.execute_reply": "2022-03-18T19:23:50.320756Z"
    },
    "papermill": {
     "duration": 0.055708,
     "end_time": "2022-03-18T19:23:50.320862",
     "exception": false,
     "start_time": "2022-03-18T19:23:50.265154",
     "status": "completed"
    },
    "tags": [
     "experiment_json"
    ]
   },
   "outputs": [
    {
     "data": {
      "text/plain": [
       "'{\"experiment_name\": \"tl_3A:oracle.run1.framed -> cores+wisig\", \"parameters\": {\"experiment_name\": \"tl_3A:oracle.run1.framed -> cores+wisig\", \"device\": \"cuda\", \"lr\": 0.001, \"seed\": 7, \"dataset_seed\": 7, \"x_shape\": [2, 200], \"n_shot\": 3, \"n_query\": 2, \"train_k_factor\": 3, \"val_k_factor\": 2, \"test_k_factor\": 2, \"torch_default_dtype\": \"torch.float32\", \"n_epoch\": 50, \"patience\": 3, \"criteria_for_best\": \"target_loss\", \"x_net\": [{\"class\": \"nnReshape\", \"kargs\": {\"shape\": [-1, 1, 2, 200]}}, {\"class\": \"Conv2d\", \"kargs\": {\"in_channels\": 1, \"out_channels\": 256, \"kernel_size\": [1, 7], \"bias\": false, \"padding\": [0, 3]}}, {\"class\": \"ReLU\", \"kargs\": {\"inplace\": true}}, {\"class\": \"BatchNorm2d\", \"kargs\": {\"num_features\": 256}}, {\"class\": \"Conv2d\", \"kargs\": {\"in_channels\": 256, \"out_channels\": 80, \"kernel_size\": [2, 7], \"bias\": true, \"padding\": [0, 3]}}, {\"class\": \"ReLU\", \"kargs\": {\"inplace\": true}}, {\"class\": \"BatchNorm2d\", \"kargs\": {\"num_features\": 80}}, {\"class\": \"Flatten\", \"kargs\": {}}, {\"class\": \"Linear\", \"kargs\": {\"in_features\": 16000, \"out_features\": 256}}, {\"class\": \"ReLU\", \"kargs\": {\"inplace\": true}}, {\"class\": \"BatchNorm1d\", \"kargs\": {\"num_features\": 256}}, {\"class\": \"Linear\", \"kargs\": {\"in_features\": 256, \"out_features\": 256}}], \"NUM_LOGS_PER_EPOCH\": 10, \"BEST_MODEL_PATH\": \"./best_model.pth\", \"n_way\": 16, \"datasets\": [{\"labels\": [\"1-10.\", \"1-11.\", \"1-15.\", \"1-16.\", \"1-17.\", \"1-18.\", \"1-19.\", \"10-4.\", \"10-7.\", \"11-1.\", \"11-14.\", \"11-17.\", \"11-20.\", \"11-7.\", \"13-20.\", \"13-8.\", \"14-10.\", \"14-11.\", \"14-14.\", \"14-7.\", \"15-1.\", \"15-20.\", \"16-1.\", \"16-16.\", \"17-10.\", \"17-11.\", \"17-2.\", \"19-1.\", \"19-16.\", \"19-19.\", \"19-20.\", \"19-3.\", \"2-10.\", \"2-11.\", \"2-17.\", \"2-18.\", \"2-20.\", \"2-3.\", \"2-4.\", \"2-5.\", \"2-6.\", \"2-7.\", \"2-8.\", \"3-13.\", \"3-18.\", \"3-3.\", \"4-1.\", \"4-10.\", \"4-11.\", \"4-19.\", \"5-5.\", \"6-15.\", \"7-10.\", \"7-14.\", \"8-18.\", \"8-20.\", \"8-3.\", \"8-8.\"], \"domains\": [1, 2, 3, 4, 5], \"num_examples_per_domain_per_label\": 100, \"pickle_path\": \"/mnt/wd500GB/CSC500/csc500-main/datasets/cores.stratified_ds.2022A.pkl\", \"source_or_target_dataset\": \"target\", \"x_transforms\": [\"unit_mag\", \"take_200\"], \"episode_transforms\": [], \"domain_prefix\": \"C_A_\"}, {\"labels\": [\"1-10\", \"1-12\", \"1-14\", \"1-16\", \"1-18\", \"1-19\", \"1-8\", \"10-11\", \"10-17\", \"10-4\", \"10-7\", \"11-1\", \"11-10\", \"11-19\", \"11-20\", \"11-4\", \"11-7\", \"12-19\", \"12-20\", \"12-7\", \"13-14\", \"13-18\", \"13-19\", \"13-20\", \"13-3\", \"13-7\", \"14-10\", \"14-11\", \"14-12\", \"14-13\", \"14-14\", \"14-19\", \"14-20\", \"14-7\", \"14-8\", \"14-9\", \"15-1\", \"15-19\", \"15-6\", \"16-1\", \"16-16\", \"16-19\", \"16-20\", \"17-10\", \"17-11\", \"18-1\", \"18-10\", \"18-11\", \"18-12\", \"18-13\", \"18-14\", \"18-15\", \"18-16\", \"18-17\", \"18-19\", \"18-2\", \"18-20\", \"18-4\", \"18-5\", \"18-7\", \"18-8\", \"18-9\", \"19-1\", \"19-10\", \"19-11\", \"19-12\", \"19-13\", \"19-14\", \"19-15\", \"19-19\", \"19-2\", \"19-20\", \"19-3\", \"19-4\", \"19-6\", \"19-7\", \"19-8\", \"19-9\", \"2-1\", \"2-13\", \"2-15\", \"2-3\", \"2-4\", \"2-5\", \"2-6\", \"2-7\", \"2-8\", \"20-1\", \"20-12\", \"20-14\", \"20-15\", \"20-16\", \"20-18\", \"20-19\", \"20-20\", \"20-3\", \"20-4\", \"20-5\", \"20-7\", \"20-8\", \"3-1\", \"3-13\", \"3-18\", \"3-2\", \"3-8\", \"4-1\", \"4-10\", \"4-11\", \"5-1\", \"5-5\", \"6-1\", \"6-15\", \"6-6\", \"7-10\", \"7-11\", \"7-12\", \"7-13\", \"7-14\", \"7-7\", \"7-8\", \"7-9\", \"8-1\", \"8-13\", \"8-14\", \"8-18\", \"8-20\", \"8-3\", \"8-8\", \"9-1\", \"9-7\"], \"domains\": [1, 2, 3, 4], \"num_examples_per_domain_per_label\": 100, \"pickle_path\": \"/mnt/wd500GB/CSC500/csc500-main/datasets/wisig.node3-19.stratified_ds.2022A.pkl\", \"source_or_target_dataset\": \"target\", \"x_transforms\": [\"unit_mag\", \"take_200\"], \"episode_transforms\": [], \"domain_prefix\": \"W_A_\"}, {\"labels\": [\"3123D52\", \"3123D65\", \"3123D79\", \"3123D80\", \"3123D54\", \"3123D70\", \"3123D7B\", \"3123D89\", \"3123D58\", \"3123D76\", \"3123D7D\", \"3123EFE\", \"3123D64\", \"3123D78\", \"3123D7E\", \"3124E4A\"], \"domains\": [32, 38, 8, 44, 14, 50, 20, 26], \"num_examples_per_domain_per_label\": 2000, \"pickle_path\": \"/mnt/wd500GB/CSC500/csc500-main/datasets/oracle.Run1_framed_2000Examples_stratified_ds.2022A.pkl\", \"source_or_target_dataset\": \"source\", \"x_transforms\": [\"unit_mag\", \"take_200\", \"resample_20Msps_to_25Msps\"], \"episode_transforms\": [], \"domain_prefix\": \"ORACLE.run1_\"}], \"domains_source\": [\"ORACLE.run1_32\", \"ORACLE.run1_38\", \"ORACLE.run1_8\", \"ORACLE.run1_44\", \"ORACLE.run1_14\", \"ORACLE.run1_50\", \"ORACLE.run1_20\", \"ORACLE.run1_26\"], \"domains_target\": [\"C_A_1\", \"C_A_2\", \"C_A_3\", \"C_A_4\", \"C_A_5\", \"W_A_1\", \"W_A_2\", \"W_A_3\", \"W_A_4\"]}, \"results\": {\"source_test_label_accuracy\": 0.7338541666666667, \"source_test_label_loss\": 0.7451881170272827, \"target_test_label_accuracy\": 0.5453452797202797, \"target_test_label_loss\": 211.69378662109375, \"source_val_label_accuracy\": 0.7346354166666667, \"source_val_label_loss\": 0.7490237951278687, \"target_val_label_accuracy\": 0.5430506993006993, \"target_val_label_loss\": 206.0270233154297, \"total_epochs_trained\": 8, \"total_experiment_time_secs\": 1320.6848139762878, \"confusion\": {\"ORACLE.run1_26\": {\"0\": {\"10\": 51, \"8\": 22, \"4\": 44, \"0\": 68, \"14\": 48, \"6\": 3, \"9\": 2, \"15\": 2}, \"4\": {\"4\": 96, \"1\": 20, \"14\": 65, \"7\": 6, \"0\": 19, \"8\": 23, \"10\": 11}, \"14\": {\"0\": 49, \"14\": 79, \"4\": 60, \"10\": 18, \"8\": 5, \"1\": 28, \"7\": 1}, \"12\": {\"12\": 240}, \"8\": {\"7\": 25, \"14\": 10, \"8\": 102, \"15\": 18, \"4\": 18, \"10\": 26, \"0\": 16, \"9\": 16, \"5\": 2, \"6\": 3, \"2\": 4}, \"7\": {\"7\": 157, \"2\": 17, \"4\": 13, \"3\": 29, \"1\": 5, \"5\": 1, \"8\": 9, \"14\": 6, \"15\": 1, \"0\": 2}, \"13\": {\"13\": 181, \"5\": 42, \"2\": 4, \"15\": 9, \"9\": 4}, \"5\": {\"15\": 25, \"13\": 18, \"5\": 176, \"8\": 4, \"2\": 14, \"9\": 3}, \"15\": {\"15\": 104, \"9\": 75, \"13\": 11, \"8\": 15, \"0\": 3, \"5\": 19, \"2\": 4, \"6\": 5, \"7\": 3, \"10\": 1}, \"10\": {\"14\": 16, \"8\": 40, \"4\": 10, \"0\": 52, \"10\": 102, \"9\": 5, \"6\": 9, \"15\": 2, \"7\": 2, \"1\": 2}, \"3\": {\"3\": 149, \"2\": 65, \"7\": 24, \"5\": 1, \"4\": 1}, \"9\": {\"9\": 111, \"15\": 88, \"5\": 4, \"6\": 14, \"0\": 2, \"8\": 12, \"10\": 3, \"7\": 2, \"14\": 1, \"13\": 2, \"2\": 1}, \"6\": {\"6\": 187, \"9\": 29, \"10\": 11, \"15\": 9, \"8\": 3, \"13\": 1}, \"1\": {\"14\": 23, \"1\": 166, \"4\": 34, \"7\": 6, \"0\": 3, \"10\": 5, \"3\": 1, \"8\": 2}, \"11\": {\"11\": 240}, \"2\": {\"15\": 15, \"13\": 2, \"3\": 65, \"7\": 29, \"2\": 89, \"5\": 30, \"8\": 8, \"9\": 2}}, \"ORACLE.run1_44\": {\"1\": {\"1\": 120, \"10\": 13, \"3\": 29, \"12\": 65, \"2\": 13}, \"11\": {\"11\": 218, \"13\": 11, \"6\": 11}, \"3\": {\"3\": 220, \"1\": 17, \"12\": 2, \"2\": 1}, \"6\": {\"6\": 165, \"13\": 41, \"7\": 5, \"9\": 23, \"11\": 6}, \"7\": {\"7\": 144, \"3\": 3, \"9\": 29, \"2\": 47, \"6\": 14, \"1\": 2, \"13\": 1}, \"5\": {\"5\": 201, \"8\": 5, \"0\": 17, \"15\": 9, \"14\": 8}, \"2\": {\"1\": 13, \"2\": 181, \"7\": 27, \"10\": 16, \"9\": 3}, \"15\": {\"15\": 167, \"14\": 34, \"4\": 3, \"0\": 15, \"8\": 9, \"5\": 12}, \"10\": {\"2\": 31, \"12\": 24, \"10\": 161, \"1\": 24}, \"13\": {\"13\": 168, \"6\": 41, \"9\": 21, \"11\": 6, \"4\": 3, \"7\": 1}, \"8\": {\"0\": 89, \"8\": 134, \"15\": 12, \"5\": 5}, \"4\": {\"4\": 171, \"13\": 1, \"14\": 63, \"15\": 5}, \"9\": {\"13\": 29, \"9\": 121, \"6\": 31, \"7\": 56, \"2\": 2, \"3\": 1}, \"14\": {\"4\": 72, \"14\": 141, \"15\": 22, \"5\": 5}, \"0\": {\"8\": 80, \"0\": 133, \"5\": 20, \"15\": 7}, \"12\": {\"1\": 54, \"12\": 172, \"10\": 13, \"3\": 1}}, \"ORACLE.run1_50\": {\"15\": {\"15\": 184, \"4\": 13, \"1\": 33, \"11\": 8, \"6\": 2}, \"4\": {\"4\": 108, \"1\": 40, \"15\": 48, \"5\": 30, \"2\": 1, \"6\": 4, \"13\": 5, \"7\": 4}, \"6\": {\"6\": 164, \"5\": 12, \"15\": 5, \"13\": 31, \"1\": 9, \"4\": 10, \"7\": 4, \"0\": 5}, \"2\": {\"2\": 215, \"0\": 24, \"14\": 1}, \"5\": {\"7\": 34, \"4\": 35, \"1\": 17, \"13\": 34, \"5\": 104, \"10\": 6, \"6\": 7, \"15\": 2, \"2\": 1}, \"9\": {\"9\": 211, \"11\": 20, \"12\": 9}, \"8\": {\"8\": 232, \"10\": 5, \"3\": 3}, \"12\": {\"12\": 221, \"9\": 13, \"11\": 4, \"14\": 2}, \"10\": {\"10\": 220, \"0\": 10, \"13\": 4, \"8\": 5, \"7\": 1}, \"1\": {\"4\": 35, \"13\": 1, \"1\": 153, \"15\": 43, \"6\": 2, \"11\": 2, \"2\": 2, \"0\": 1, \"5\": 1}, \"0\": {\"0\": 205, \"2\": 23, \"13\": 3, \"10\": 9}, \"3\": {\"3\": 228, \"8\": 11, \"7\": 1}, \"13\": {\"13\": 142, \"7\": 40, \"10\": 11, \"6\": 16, \"5\": 27, \"4\": 1, \"0\": 3}, \"11\": {\"11\": 215, \"15\": 11, \"1\": 1, \"9\": 8, \"12\": 4, \"14\": 1}, \"7\": {\"7\": 180, \"13\": 32, \"5\": 16, \"10\": 8, \"4\": 2, \"8\": 1, \"6\": 1}, \"14\": {\"14\": 238, \"12\": 2}}, \"ORACLE.run1_38\": {\"15\": {\"8\": 17, \"15\": 149, \"5\": 4, \"13\": 51, \"1\": 14, \"10\": 3, \"0\": 2}, \"11\": {\"14\": 67, \"11\": 157, \"4\": 9, \"3\": 3, \"12\": 1, \"2\": 1, \"10\": 2}, \"10\": {\"10\": 193, \"14\": 1, \"13\": 12, \"8\": 14, \"2\": 2, \"0\": 7, \"12\": 2, \"7\": 3, \"15\": 4, \"5\": 1, \"4\": 1}, \"14\": {\"14\": 190, \"11\": 30, \"2\": 17, \"12\": 1, \"10\": 2}, \"6\": {\"6\": 195, \"9\": 43, \"5\": 2}, \"4\": {\"4\": 231, \"12\": 9}, \"13\": {\"13\": 127, \"15\": 57, \"10\": 28, \"2\": 11, \"1\": 6, \"8\": 9, \"5\": 2}, \"3\": {\"9\": 27, \"3\": 181, \"5\": 5, \"7\": 20, \"0\": 3, \"11\": 1, \"6\": 2, \"13\": 1}, \"7\": {\"5\": 22, \"7\": 182, \"10\": 2, \"0\": 31, \"8\": 3}, \"8\": {\"8\": 155, \"5\": 32, \"7\": 10, \"0\": 29, \"15\": 7, \"10\": 5, \"1\": 1, \"13\": 1}, \"1\": {\"1\": 222, \"15\": 17, \"8\": 1}, \"5\": {\"5\": 108, \"8\": 50, \"1\": 4, \"7\": 36, \"15\": 11, \"13\": 2, \"0\": 12, \"3\": 2, \"6\": 9, \"9\": 4, \"10\": 2}, \"0\": {\"7\": 30, \"3\": 14, \"0\": 114, \"8\": 65, \"5\": 7, \"15\": 3, \"10\": 6, \"6\": 1}, \"2\": {\"2\": 215, \"14\": 20, \"10\": 2, \"13\": 3}, \"12\": {\"12\": 232, \"4\": 8}, \"9\": {\"6\": 80, \"9\": 149, \"7\": 3, \"3\": 5, \"5\": 3}}, \"ORACLE.run1_20\": {\"10\": {\"10\": 229, \"4\": 2, \"14\": 8, \"8\": 1}, \"7\": {\"7\": 200, \"3\": 4, \"2\": 23, \"4\": 1, \"12\": 1, \"8\": 7, \"9\": 2, \"5\": 1, \"13\": 1}, \"4\": {\"4\": 215, \"8\": 14, \"7\": 1, \"3\": 7, \"5\": 1, \"10\": 2}, \"13\": {\"13\": 233, \"2\": 7}, \"1\": {\"1\": 143, \"12\": 41, \"15\": 32, \"9\": 1, \"5\": 20, \"0\": 2, \"3\": 1}, \"0\": {\"15\": 42, \"0\": 116, \"5\": 73, \"7\": 2, \"12\": 2, \"3\": 1, \"1\": 2, \"8\": 2}, \"12\": {\"3\": 37, \"12\": 120, \"9\": 17, \"1\": 43, \"5\": 14, \"15\": 2, \"2\": 7}, \"5\": {\"0\": 41, \"12\": 13, \"5\": 155, \"15\": 14, \"1\": 15, \"4\": 1, \"3\": 1}, \"6\": {\"6\": 214, \"14\": 26}, \"2\": {\"12\": 8, \"7\": 26, \"9\": 53, \"2\": 132, \"13\": 8, \"1\": 3, \"3\": 10}, \"8\": {\"8\": 216, \"7\": 8, \"3\": 1, \"4\": 11, \"0\": 1, \"14\": 1, \"10\": 1, \"6\": 1}, \"11\": {\"11\": 240}, \"9\": {\"9\": 112, \"2\": 78, \"3\": 34, \"12\": 13, \"7\": 1, \"1\": 2}, \"14\": {\"14\": 208, \"6\": 19, \"10\": 10, \"8\": 3}, \"15\": {\"15\": 174, \"0\": 24, \"13\": 3, \"12\": 4, \"1\": 22, \"5\": 13}, \"3\": {\"3\": 132, \"9\": 38, \"4\": 10, \"1\": 5, \"12\": 37, \"8\": 1, \"5\": 3, \"2\": 11, \"7\": 3}}, \"ORACLE.run1_14\": {\"14\": {\"14\": 191, \"13\": 28, \"2\": 12, \"3\": 5, \"6\": 4}, \"0\": {\"10\": 18, \"0\": 218, \"3\": 3, \"11\": 1}, \"4\": {\"4\": 197, \"5\": 24, \"3\": 9, \"1\": 7, \"6\": 1, \"2\": 2}, \"11\": {\"11\": 225, \"9\": 10, \"0\": 5}, \"13\": {\"6\": 99, \"14\": 49, \"13\": 64, \"2\": 24, \"5\": 3, \"15\": 1}, \"9\": {\"9\": 240}, \"3\": {\"3\": 228, \"2\": 7, \"14\": 2, \"4\": 2, \"5\": 1}, \"6\": {\"6\": 157, \"13\": 67, \"14\": 10, \"2\": 6}, \"1\": {\"1\": 228, \"5\": 10, \"4\": 2}, \"5\": {\"4\": 48, \"1\": 24, \"5\": 162, \"2\": 6}, \"12\": {\"12\": 239, \"9\": 1}, \"10\": {\"10\": 231, \"0\": 8, \"3\": 1}, \"8\": {\"8\": 240}, \"7\": {\"7\": 239, \"15\": 1}, \"15\": {\"15\": 224, \"7\": 15, \"5\": 1}, \"2\": {\"2\": 122, \"6\": 25, \"13\": 18, \"5\": 23, \"14\": 33, \"4\": 6, \"15\": 5, \"3\": 8}}, \"ORACLE.run1_32\": {\"11\": {\"14\": 50, \"11\": 178, \"5\": 2, \"7\": 7, \"3\": 2, \"13\": 1}, \"1\": {\"1\": 235, \"10\": 5}, \"2\": {\"2\": 185, \"4\": 47, \"7\": 6, \"0\": 2}, \"0\": {\"0\": 165, \"8\": 32, \"5\": 7, \"7\": 10, \"14\": 11, \"4\": 4, \"2\": 7, \"13\": 4}, \"3\": {\"3\": 218, \"13\": 9, \"5\": 7, \"8\": 2, \"11\": 3, \"14\": 1}, \"8\": {\"5\": 18, \"8\": 170, \"0\": 24, \"13\": 16, \"14\": 4, \"3\": 5, \"7\": 3}, \"12\": {\"12\": 240}, \"5\": {\"7\": 40, \"5\": 84, \"4\": 16, \"3\": 10, \"13\": 67, \"8\": 13, \"0\": 7, \"11\": 3}, \"15\": {\"15\": 235, \"8\": 3, \"3\": 2}, \"7\": {\"7\": 99, \"5\": 41, \"2\": 4, \"13\": 31, \"11\": 11, \"14\": 14, \"4\": 39, \"3\": 1}, \"4\": {\"4\": 150, \"7\": 31, \"2\": 34, \"0\": 4, \"5\": 16, \"13\": 5}, \"14\": {\"14\": 111, \"0\": 20, \"11\": 77, \"8\": 5, \"5\": 2, \"2\": 1, \"7\": 12, \"13\": 7, \"3\": 5}, \"10\": {\"10\": 240}, \"6\": {\"6\": 240}, \"13\": {\"3\": 22, \"13\": 85, \"7\": 29, \"5\": 75, \"0\": 5, \"8\": 13, \"11\": 1, \"4\": 7, \"14\": 3}, \"9\": {\"9\": 240}}, \"ORACLE.run1_8\": {\"9\": {\"9\": 240}, \"11\": {\"11\": 194, \"1\": 41, \"5\": 5}, \"8\": {\"8\": 235, \"15\": 3, \"12\": 2}, \"4\": {\"4\": 169, \"14\": 17, \"13\": 43, \"6\": 7, \"0\": 4}, \"13\": {\"13\": 97, \"6\": 7, \"4\": 33, \"10\": 16, \"0\": 77, \"14\": 9, \"7\": 1}, \"14\": {\"14\": 158, \"10\": 37, \"1\": 8, \"13\": 18, \"4\": 19}, \"2\": {\"12\": 1, \"2\": 215, \"3\": 16, \"7\": 7, \"15\": 1}, \"3\": {\"3\": 221, \"2\": 12, \"12\": 7}, \"1\": {\"1\": 215, \"11\": 17, \"14\": 5, \"5\": 2, \"10\": 1}, \"0\": {\"0\": 169, \"13\": 51, \"7\": 8, \"10\": 2, \"6\": 7, \"4\": 3}, \"5\": {\"5\": 205, \"1\": 20, \"14\": 5, \"10\": 8, \"11\": 2}, \"15\": {\"15\": 187, \"12\": 49, \"8\": 4}, \"10\": {\"14\": 55, \"10\": 169, \"13\": 12, \"4\": 4}, \"12\": {\"12\": 153, \"15\": 68, \"3\": 17, \"8\": 2}, \"6\": {\"0\": 6, \"6\": 148, \"7\": 53, \"4\": 31, \"13\": 2}, \"7\": {\"7\": 190, \"6\": 48, \"8\": 1, \"0\": 1}}, \"W_A_4\": {\"71\": {\"17\": 2, \"50\": 2, \"3\": 2, \"71\": 3, \"73\": 1}, \"17\": {\"17\": 7, \"3\": 1, \"1\": 2, \"50\": 2}, \"105\": {\"71\": 1, \"17\": 1, \"105\": 3, \"119\": 1, \"107\": 2, \"5\": 1, \"88\": 1, \"43\": 1, \"66\": 1}, \"92\": {\"109\": 2, \"92\": 4, \"23\": 1, \"113\": 1, \"21\": 2, \"48\": 1, \"121\": 1}, \"100\": {\"100\": 3, \"109\": 1, \"23\": 1, \"90\": 1, \"89\": 1, \"103\": 1, \"7\": 1, \"22\": 1, \"112\": 2}, \"6\": {\"6\": 4, \"49\": 1, \"10\": 1, \"31\": 1, \"112\": 1, \"95\": 1, \"27\": 1, \"97\": 1, \"25\": 1}, \"36\": {\"27\": 1, \"36\": 2, \"41\": 1, \"31\": 1, \"87\": 1, \"30\": 1, \"47\": 2, \"15\": 1}, \"35\": {\"63\": 1, \"68\": 1, \"35\": 3, \"16\": 2, \"117\": 2, \"51\": 1, \"48\": 1, \"21\": 1}, \"63\": {\"63\": 11, \"81\": 1}, \"104\": {\"109\": 1, \"79\": 1, \"104\": 2, \"107\": 2, \"45\": 1, \"115\": 1, \"62\": 1, \"32\": 1, \"64\": 1, \"6\": 1}, \"114\": {\"27\": 1, \"17\": 1, \"105\": 1, \"95\": 2, \"114\": 2, \"42\": 1, \"1\": 1, \"37\": 1, \"5\": 1, \"44\": 1}, \"68\": {\"68\": 3, \"71\": 1, \"4\": 2, \"106\": 1, \"119\": 1, \"55\": 2, \"0\": 1, \"12\": 1}, \"109\": {\"63\": 1, \"104\": 1, \"102\": 1, \"107\": 1, \"67\": 1, \"88\": 1, \"109\": 2, \"110\": 1, \"126\": 1}, \"27\": {\"0\": 1, \"27\": 6, \"41\": 3, \"98\": 1, \"7\": 1}, \"79\": {\"104\": 1, \"79\": 5, \"74\": 2, \"73\": 2, \"28\": 1, \"63\": 1}, \"0\": {\"71\": 1, \"0\": 5, \"8\": 1, \"55\": 2, \"119\": 1, \"41\": 1, \"7\": 1}, \"28\": {\"28\": 4, \"14\": 2, \"11\": 1, \"100\": 1, \"110\": 1, \"79\": 1, \"44\": 1, \"99\": 1}, \"4\": {\"127\": 1, \"4\": 3, \"5\": 1, \"46\": 1, \"8\": 1, \"119\": 2, \"0\": 1, \"27\": 1, \"71\": 1}, \"106\": {\"127\": 1, \"96\": 1, \"119\": 2, \"106\": 3, \"98\": 2, \"27\": 1, \"91\": 2}, \"40\": {\"84\": 2, \"40\": 4, \"11\": 2, \"73\": 1, \"129\": 1, \"22\": 1, \"14\": 1}, \"127\": {\"106\": 1, \"68\": 1, \"127\": 2, \"113\": 1, \"80\": 1, \"21\": 1, \"0\": 1, \"95\": 2, \"94\": 1, \"9\": 1}, \"57\": {\"96\": 1, \"57\": 11}, \"60\": {\"68\": 1, \"60\": 3, \"53\": 1, \"11\": 1, \"27\": 2, \"70\": 2, \"23\": 1, \"88\": 1}, \"69\": {\"69\": 9, \"126\": 2, \"46\": 1}, \"84\": {\"40\": 1, \"84\": 3, \"21\": 1, \"99\": 1}, \"24\": {\"96\": 1, \"4\": 1, \"61\": 2, \"119\": 1, \"23\": 1, \"91\": 2, \"24\": 1, \"97\": 1}, \"94\": {\"24\": 2, \"59\": 2, \"31\": 1, \"36\": 1, \"94\": 1, \"85\": 1, \"125\": 2, \"119\": 1, \"40\": 1}, \"7\": {\"7\": 6, \"3\": 1, \"101\": 2, \"42\": 2, \"0\": 1}, \"96\": {\"116\": 1, \"96\": 2, \"63\": 1, \"110\": 1, \"113\": 1, \"66\": 1, \"126\": 1, \"64\": 2}, \"116\": {\"60\": 2, \"55\": 1, \"116\": 4, \"79\": 1, \"76\": 1, \"73\": 1, \"22\": 1, \"78\": 1}, \"47\": {\"68\": 1, \"96\": 1, \"85\": 1, \"9\": 1, \"75\": 2, \"53\": 2, \"36\": 1, \"47\": 2, \"29\": 1}, \"119\": {\"119\": 10, \"60\": 2}, \"74\": {\"74\": 6, \"120\": 2, \"76\": 1, \"20\": 1}, \"93\": {\"107\": 2, \"108\": 1, \"80\": 1, \"99\": 1, \"93\": 3, \"50\": 1, \"28\": 1, \"11\": 1, \"79\": 1}, \"2\": {\"78\": 1, \"102\": 1, \"14\": 2, \"2\": 2, \"118\": 1, \"115\": 1, \"122\": 2, \"64\": 1, \"121\": 1}, \"37\": {\"107\": 1, \"74\": 1, \"105\": 2, \"1\": 1, \"115\": 1, \"88\": 1, \"119\": 1, \"85\": 1, \"37\": 2, \"22\": 1}, \"15\": {\"61\": 1, \"9\": 1, \"53\": 1, \"98\": 1, \"15\": 3, \"42\": 1, \"31\": 1, \"29\": 1, \"73\": 2}, \"102\": {\"102\": 5, \"66\": 1, \"16\": 2, \"73\": 1, \"33\": 2, \"99\": 1}, \"87\": {\"102\": 1, \"32\": 1, \"66\": 1, \"45\": 1, \"70\": 1, \"82\": 1, \"46\": 1, \"24\": 1}, \"107\": {\"87\": 1, \"32\": 1, \"105\": 2, \"107\": 3, \"26\": 1, \"120\": 1, \"44\": 1, \"46\": 2}, \"61\": {\"2\": 2, \"61\": 2, \"44\": 1, \"81\": 2, \"35\": 1, \"26\": 1, \"40\": 1, \"64\": 1, \"39\": 1}, \"78\": {\"119\": 2, \"108\": 2, \"78\": 2, \"128\": 1, \"121\": 1, \"5\": 1, \"126\": 1, \"12\": 1, \"76\": 1}, \"9\": {\"9\": 5, \"86\": 1, \"53\": 3, \"85\": 1, \"112\": 2}, \"32\": {\"107\": 1, \"37\": 1, \"93\": 1, \"80\": 1, \"11\": 1, \"13\": 1, \"66\": 1, \"32\": 1, \"78\": 2, \"69\": 1, \"99\": 1}, \"14\": {\"14\": 4, \"1\": 1, \"37\": 1, \"88\": 1, \"11\": 1, \"50\": 1, \"13\": 1}, \"62\": {\"105\": 1, \"23\": 1, \"108\": 2, \"62\": 4, \"60\": 1, \"122\": 2, \"71\": 1}, \"1\": {\"24\": 1, \"105\": 1, \"115\": 2, \"1\": 5, \"129\": 2, \"125\": 1}, \"23\": {\"23\": 4, \"86\": 1, \"88\": 1, \"81\": 2, \"42\": 2}, \"95\": {\"106\": 1, \"105\": 1, \"95\": 6, \"114\": 1, \"42\": 1, \"88\": 1, \"55\": 1}, \"56\": {\"56\": 6, \"120\": 1, \"123\": 1, \"112\": 1, \"111\": 1, \"100\": 1, \"7\": 1}, \"91\": {\"95\": 1, \"91\": 3, \"106\": 2, \"53\": 1, \"101\": 2, \"29\": 2, \"128\": 1}, \"34\": {\"34\": 2, \"56\": 1, \"111\": 1, \"85\": 1, \"30\": 1, \"70\": 1, \"58\": 1, \"103\": 1, \"49\": 1, \"51\": 1, \"86\": 1}, \"25\": {\"25\": 3, \"106\": 1, \"6\": 2, \"31\": 1, \"58\": 2, \"105\": 1}, \"3\": {\"110\": 1, \"114\": 1, \"3\": 3, \"76\": 2, \"116\": 1, \"86\": 2, \"14\": 1, \"19\": 1}, \"72\": {\"72\": 5, \"110\": 1, \"99\": 2, \"32\": 2}, \"73\": {\"73\": 4, \"120\": 1, \"108\": 1, \"74\": 2, \"14\": 1, \"33\": 1, \"62\": 1, \"96\": 1}, \"41\": {\"72\": 1, \"41\": 8, \"128\": 2, \"126\": 1}, \"70\": {\"104\": 1, \"72\": 1, \"42\": 1, \"114\": 1, \"70\": 2, \"128\": 1, \"10\": 1, \"19\": 2, \"108\": 1, \"105\": 1}, \"110\": {\"107\": 1, \"72\": 1, \"110\": 4, \"22\": 1, \"33\": 2, \"60\": 1, \"28\": 2}, \"45\": {\"57\": 1, \"72\": 1, \"13\": 2, \"81\": 1, \"38\": 2, \"7\": 1, \"23\": 1, \"16\": 1, \"21\": 1, \"122\": 1}, \"59\": {\"59\": 10, \"10\": 1, \"53\": 1}, \"55\": {\"55\": 6, \"95\": 1, \"101\": 2, \"9\": 1, \"127\": 1, \"30\": 1}, \"97\": {\"106\": 1, \"94\": 1, \"49\": 1, \"58\": 1, \"103\": 1, \"54\": 1, \"6\": 2, \"97\": 2, \"27\": 1, \"91\": 1}, \"66\": {\"66\": 11, \"22\": 1}, \"26\": {\"66\": 1, \"13\": 1, \"84\": 1, \"26\": 3, \"39\": 4, \"110\": 1, \"117\": 1}, \"53\": {\"106\": 1, \"53\": 7, \"77\": 2, \"108\": 1, \"101\": 1}, \"13\": {\"13\": 8, \"67\": 2, \"33\": 1, \"65\": 1}, \"33\": {\"69\": 1, \"129\": 1, \"109\": 2, \"33\": 2, \"84\": 1, \"102\": 2, \"105\": 1, \"50\": 2}, \"124\": {\"129\": 2, \"124\": 1, \"19\": 1, \"90\": 2, \"83\": 1, \"79\": 1}, \"85\": {\"106\": 1, \"85\": 9, \"48\": 1, \"126\": 1}, \"129\": {\"129\": 1, \"66\": 3, \"8\": 1, \"3\": 1, \"86\": 1, \"120\": 1, \"108\": 1, \"1\": 1, \"127\": 1, \"37\": 1}, \"5\": {\"23\": 2, \"107\": 1, \"120\": 1, \"5\": 3, \"37\": 1, \"88\": 1, \"44\": 1, \"71\": 1, \"11\": 1}, \"67\": {\"67\": 7, \"43\": 1, \"113\": 1, \"129\": 2, \"46\": 1}, \"101\": {\"86\": 1, \"101\": 4, \"41\": 1, \"91\": 1, \"88\": 1, \"7\": 1, \"8\": 2, \"9\": 1}, \"88\": {\"88\": 9, \"110\": 1, \"10\": 2}, \"125\": {\"56\": 2, \"10\": 1, \"103\": 2, \"97\": 1, \"125\": 2, \"8\": 1, \"9\": 2, \"54\": 1}, \"49\": {\"120\": 1, \"101\": 1, \"100\": 1, \"90\": 1, \"128\": 1, \"49\": 1, \"112\": 1, \"108\": 1, \"29\": 1, \"10\": 1, \"60\": 1, \"0\": 1}, \"86\": {\"101\": 1, \"86\": 3, \"127\": 1, \"53\": 2, \"0\": 1, \"11\": 1, \"42\": 1, \"9\": 1, \"3\": 1}, \"10\": {\"86\": 1, \"5\": 1, \"101\": 1, \"10\": 1, \"87\": 1, \"70\": 2, \"85\": 1, \"42\": 2, \"75\": 1, \"68\": 1}, \"120\": {\"23\": 2, \"88\": 1, \"120\": 2, \"43\": 1, \"107\": 1, \"129\": 1, \"83\": 1, \"115\": 1, \"22\": 1, \"44\": 1}, \"115\": {\"115\": 3, \"37\": 1, \"80\": 1, \"39\": 1, \"16\": 1, \"7\": 1, \"23\": 1, \"102\": 1, \"88\": 1, \"122\": 1}, \"31\": {\"14\": 1, \"28\": 1, \"21\": 2, \"124\": 1, \"23\": 1, \"66\": 2, \"116\": 1, \"69\": 1, \"64\": 2}, \"22\": {\"88\": 3, \"22\": 3, \"66\": 1, \"129\": 1, \"37\": 1, \"78\": 1, \"93\": 1, \"72\": 1}, \"113\": {\"28\": 2, \"113\": 3, \"63\": 1, \"13\": 3, \"44\": 1, \"66\": 1, \"67\": 1}, \"58\": {\"10\": 1, \"58\": 5, \"25\": 1, \"59\": 1, \"100\": 1, \"53\": 1, \"51\": 1, \"15\": 1}, \"75\": {\"10\": 2, \"75\": 5, \"102\": 1, \"29\": 1, \"47\": 1, \"15\": 2}, \"12\": {\"21\": 1, \"91\": 1, \"9\": 2, \"124\": 1, \"49\": 1, \"114\": 1, \"12\": 1, \"95\": 1, \"127\": 1, \"0\": 1, \"42\": 1}, \"89\": {\"58\": 1, \"88\": 1, \"122\": 1, \"103\": 1, \"89\": 2, \"46\": 1, \"70\": 1, \"53\": 1, \"43\": 2, \"95\": 1}, \"21\": {\"21\": 10}, \"99\": {\"22\": 1, \"110\": 1, \"99\": 5, \"120\": 1, \"72\": 2, \"121\": 1, \"56\": 1}, \"51\": {\"51\": 4, \"0\": 1, \"29\": 1, \"118\": 1, \"125\": 1, \"58\": 1, \"12\": 1, \"98\": 1, \"34\": 1}, \"30\": {\"0\": 2, \"34\": 1, \"111\": 1, \"87\": 1, \"82\": 1, \"12\": 2, \"119\": 1, \"127\": 1, \"77\": 1, \"86\": 1}, \"8\": {\"0\": 2, \"8\": 6, \"101\": 2, \"126\": 1, \"27\": 1}, \"39\": {\"39\": 9, \"126\": 2, \"121\": 1}, \"98\": {\"53\": 1, \"15\": 1, \"98\": 7, \"27\": 1, \"9\": 1, \"52\": 1}, \"54\": {\"86\": 1, \"54\": 4, \"51\": 1, \"103\": 2, \"125\": 1, \"8\": 1, \"105\": 1, \"9\": 1}, \"77\": {\"77\": 9, \"53\": 1, \"10\": 1, \"9\": 1}, \"43\": {\"127\": 1, \"99\": 1, \"40\": 2, \"43\": 4, \"3\": 1, \"14\": 1, \"66\": 2}, \"80\": {\"43\": 1, \"99\": 1, \"80\": 4, \"44\": 2, \"74\": 1, \"25\": 1, \"20\": 2}, \"11\": {\"11\": 6, \"116\": 3, \"62\": 1, \"78\": 2}, \"52\": {\"86\": 1, \"60\": 1, \"52\": 2, \"85\": 1, \"106\": 1}, \"50\": {\"40\": 2, \"50\": 3, \"52\": 1, \"36\": 1, \"121\": 1, \"86\": 1, \"62\": 1}, \"64\": {\"64\": 5, \"80\": 1, \"62\": 1, \"115\": 1, \"22\": 1, \"14\": 2, \"107\": 1}, \"111\": {\"12\": 2, \"42\": 1, \"95\": 1, \"111\": 4, \"77\": 1, \"10\": 1, \"55\": 1, \"73\": 1}, \"108\": {\"11\": 1, \"108\": 3, \"73\": 1, \"62\": 1, \"70\": 1, \"99\": 1, \"38\": 1, \"88\": 1, \"115\": 2}, \"19\": {\"19\": 4, \"64\": 1, \"80\": 1, \"98\": 1, \"1\": 1, \"108\": 2, \"28\": 1, \"99\": 1}, \"18\": {\"18\": 7, \"126\": 1, \"13\": 1, \"81\": 2, \"12\": 1}, \"123\": {\"18\": 2, \"123\": 8, \"16\": 1, \"70\": 1}, \"121\": {\"67\": 1, \"81\": 3, \"121\": 2, \"117\": 1, \"48\": 1, \"64\": 1, \"126\": 1, \"18\": 1, \"107\": 1}, \"81\": {\"67\": 1, \"123\": 1, \"81\": 7, \"18\": 1, \"21\": 1, \"63\": 1}, \"38\": {\"38\": 5, \"43\": 1, \"83\": 2, \"11\": 2, \"108\": 1, \"129\": 1}, \"90\": {\"43\": 1, \"90\": 8, \"46\": 1, \"19\": 1, \"37\": 1}, \"83\": {\"83\": 2, \"42\": 1, \"72\": 2, \"108\": 1, \"18\": 1, \"70\": 1, \"28\": 1, \"100\": 1, \"79\": 1, \"5\": 1}, \"65\": {\"65\": 11, \"63\": 1}, \"42\": {\"70\": 1, \"95\": 1, \"128\": 2, \"42\": 5, \"66\": 1, \"74\": 1, \"68\": 1}, \"82\": {\"70\": 1, \"82\": 4, \"3\": 1}, \"44\": {\"64\": 1, \"115\": 1, \"44\": 6, \"50\": 1, \"5\": 1, \"19\": 1, \"99\": 1}, \"16\": {\"18\": 1, \"81\": 1, \"16\": 6, \"78\": 1, \"102\": 1, \"66\": 1, \"57\": 1}, \"122\": {\"122\": 3, \"72\": 1, \"1\": 1, \"28\": 1, \"69\": 2, \"60\": 1, \"2\": 1, \"108\": 2}, \"117\": {\"13\": 1, \"126\": 1, \"39\": 2, \"117\": 3, \"65\": 1, \"44\": 1, \"57\": 1, \"88\": 1, \"109\": 1}, \"126\": {\"18\": 1, \"122\": 1, \"78\": 1, \"65\": 2, \"126\": 5, \"109\": 1, \"63\": 1}, \"76\": {\"20\": 4, \"103\": 2, \"122\": 1, \"99\": 1, \"90\": 1, \"88\": 1, \"76\": 1, \"87\": 1}, \"20\": {\"20\": 8, \"90\": 1, \"116\": 1, \"72\": 1, \"14\": 1}, \"29\": {\"29\": 12}, \"128\": {\"128\": 8, \"17\": 1, \"74\": 1, \"41\": 1, \"72\": 1}, \"46\": {\"46\": 6, \"93\": 1, \"50\": 2, \"72\": 1, \"78\": 1, \"74\": 1}, \"103\": {\"42\": 2, \"103\": 1, \"46\": 1, \"29\": 1, \"5\": 1, \"101\": 2, \"88\": 1, \"95\": 1, \"3\": 1, \"108\": 1}, \"118\": {\"121\": 1, \"118\": 5, \"2\": 1, \"50\": 2, \"102\": 2, \"69\": 1}, \"112\": {\"29\": 1, \"112\": 4, \"85\": 2, \"49\": 1, \"73\": 1, \"40\": 1}, \"48\": {\"81\": 2, \"45\": 1, \"48\": 2, \"116\": 2, \"65\": 1}}, \"C_A_5\": {\"26\": {\"26\": 11, \"38\": 1}, \"7\": {\"7\": 12}, \"56\": {\"56\": 12}, \"36\": {\"36\": 11, \"49\": 1}, \"47\": {\"14\": 1, \"47\": 4, \"49\": 1, \"42\": 2}, \"2\": {\"2\": 10}, \"15\": {\"15\": 11, \"16\": 1}, \"14\": {\"40\": 1, \"11\": 4, \"37\": 1, \"2\": 2, \"54\": 1, \"14\": 2, \"33\": 1}, \"27\": {\"27\": 9, \"32\": 2, \"9\": 1}, \"40\": {\"40\": 4, \"19\": 3, \"33\": 1}, \"49\": {\"49\": 12}, \"45\": {\"45\": 3, \"27\": 2, \"26\": 2, \"4\": 1, \"6\": 1, \"38\": 2, \"32\": 1}, \"46\": {\"46\": 10, \"3\": 1, \"42\": 1}, \"11\": {\"11\": 7, \"37\": 3, \"24\": 1, \"15\": 1}, \"30\": {\"45\": 3, \"30\": 8, \"55\": 1}, \"0\": {\"0\": 10, \"24\": 1, \"35\": 1}, \"10\": {\"10\": 10, \"24\": 1, \"13\": 1}, \"1\": {\"1\": 8, \"48\": 3, \"41\": 1}, \"42\": {\"42\": 11, \"14\": 1}, \"54\": {\"54\": 11, \"50\": 1}, \"55\": {\"55\": 8, \"17\": 1, \"30\": 1}, \"23\": {\"23\": 7, \"54\": 1, \"52\": 2, \"31\": 1, \"14\": 1}, \"25\": {\"25\": 8}, \"28\": {\"28\": 12}, \"32\": {\"32\": 10, \"9\": 1, \"48\": 1}, \"9\": {\"9\": 10, \"27\": 1, \"32\": 1}, \"39\": {\"39\": 12}, \"3\": {\"3\": 7, \"39\": 1, \"42\": 1, \"57\": 1}, \"29\": {\"28\": 2, \"29\": 10}, \"17\": {\"17\": 12}, \"35\": {\"35\": 12}, \"44\": {\"44\": 4, \"54\": 1, \"19\": 1, \"22\": 2, \"29\": 2, \"49\": 1, \"33\": 1}, \"5\": {\"5\": 6, \"33\": 1, \"27\": 1, \"44\": 1, \"32\": 1}, \"33\": {\"33\": 9, \"19\": 1}, \"34\": {\"34\": 10, \"28\": 1, \"2\": 1}, \"13\": {\"10\": 6, \"35\": 1, \"13\": 5}, \"41\": {\"41\": 12}, \"6\": {\"6\": 9, \"50\": 1, \"9\": 1, \"38\": 1}, \"51\": {\"51\": 10}, \"50\": {\"50\": 5, \"48\": 1, \"5\": 1, \"54\": 1, \"39\": 1, \"19\": 1, \"32\": 1, \"51\": 1}, \"37\": {\"37\": 12}, \"18\": {\"18\": 12}, \"52\": {\"52\": 8, \"23\": 1, \"31\": 1}, \"19\": {\"19\": 8, \"9\": 1, \"5\": 2, \"33\": 1}, \"4\": {\"4\": 12}, \"48\": {\"1\": 2, \"48\": 9, \"30\": 1}, \"53\": {\"53\": 9, \"50\": 1}, \"24\": {\"24\": 8, \"10\": 2}, \"12\": {\"30\": 3, \"7\": 2, \"12\": 3}, \"8\": {\"8\": 10, \"17\": 2}, \"20\": {\"8\": 2, \"20\": 8, \"17\": 1, \"53\": 1}, \"38\": {\"12\": 1, \"38\": 9}, \"43\": {\"43\": 8}, \"31\": {\"31\": 10}, \"22\": {\"36\": 1, \"29\": 1, \"22\": 6, \"44\": 1, \"2\": 1}, \"21\": {\"21\": 8}, \"57\": {\"57\": 8}, \"16\": {\"16\": 8}}, \"W_A_1\": {\"105\": {\"105\": 5, \"87\": 1, \"17\": 2, \"27\": 1, \"109\": 1, \"124\": 2}, \"100\": {\"81\": 1, \"100\": 10, \"33\": 1}, \"112\": {\"112\": 3, \"111\": 2, \"75\": 2, \"31\": 1, \"88\": 1, \"53\": 1}, \"123\": {\"113\": 1, \"123\": 11}, \"13\": {\"13\": 3, \"61\": 1, \"39\": 1, \"118\": 1}, \"81\": {\"81\": 1, \"105\": 1, \"99\": 1, \"50\": 1, \"20\": 2, \"83\": 2, \"100\": 2}, \"124\": {\"81\": 2, \"42\": 2, \"11\": 1, \"124\": 1, \"109\": 1, \"3\": 1, \"54\": 1, \"46\": 1, \"2\": 2}, \"122\": {\"100\": 1, \"87\": 1, \"8\": 1, \"33\": 1, \"122\": 2, \"83\": 1, \"129\": 1, \"3\": 4}, \"111\": {\"111\": 9, \"4\": 1, \"75\": 1, \"31\": 1}, \"93\": {\"86\": 1, \"87\": 1, \"64\": 2, \"93\": 1, \"28\": 1, \"60\": 1, \"72\": 1, \"55\": 1, \"43\": 1, \"78\": 1, \"108\": 1}, \"106\": {\"105\": 1, \"111\": 1, \"106\": 7, \"72\": 1, \"77\": 1, \"127\": 1}, \"113\": {\"113\": 10, \"63\": 1, \"16\": 1}, \"95\": {\"113\": 1, \"95\": 4, \"129\": 1, \"13\": 2}, \"87\": {\"87\": 5, \"5\": 1, \"8\": 1, \"68\": 1, \"74\": 1, \"76\": 1, \"70\": 1, \"72\": 1}, \"86\": {\"93\": 1, \"86\": 6, \"32\": 1}, \"67\": {\"81\": 1, \"67\": 6, \"20\": 2, \"2\": 1, \"60\": 2}, \"98\": {\"52\": 1, \"91\": 1, \"98\": 9, \"101\": 1}, \"79\": {\"8\": 1, \"104\": 1, \"79\": 6, \"96\": 2, \"57\": 1, \"71\": 1}, \"36\": {\"79\": 2, \"94\": 1, \"32\": 1, \"36\": 4, \"6\": 1, \"97\": 1, \"17\": 1, \"88\": 1}, \"91\": {\"31\": 1, \"91\": 4, \"0\": 2, \"56\": 1, \"53\": 1, \"77\": 1, \"115\": 1, \"106\": 1}, \"49\": {\"49\": 2, \"101\": 1, \"77\": 2, \"110\": 1, \"41\": 1, \"103\": 1, \"97\": 1, \"0\": 1, \"19\": 1, \"112\": 1}, \"31\": {\"31\": 12}, \"27\": {\"79\": 1, \"98\": 1, \"89\": 2, \"47\": 1, \"27\": 2, \"52\": 2, \"97\": 1, \"53\": 1, \"75\": 1}, \"52\": {\"52\": 8, \"91\": 1, \"37\": 2, \"59\": 1}, \"48\": {\"48\": 12}, \"8\": {\"8\": 3, \"90\": 1, \"84\": 1, \"42\": 1}, \"104\": {\"104\": 10, \"128\": 1, \"115\": 1}, \"110\": {\"31\": 2, \"106\": 1, \"72\": 1, \"110\": 5, \"46\": 1, \"111\": 2}, \"40\": {\"40\": 5, \"88\": 1, \"14\": 1, \"106\": 1}, \"33\": {\"33\": 11, \"102\": 1}, \"101\": {\"48\": 2, \"5\": 1, \"101\": 4, \"126\": 1, \"91\": 1, \"78\": 1, \"32\": 1, \"86\": 1}, \"28\": {\"28\": 4, \"66\": 2, \"90\": 2}, \"97\": {\"97\": 7, \"98\": 1, \"32\": 2, \"24\": 1, \"10\": 1}, \"5\": {\"7\": 1, \"90\": 1, \"5\": 4, \"28\": 1, \"126\": 2, \"43\": 1, \"106\": 1, \"70\": 1}, \"125\": {\"125\": 6, \"9\": 1, \"89\": 1, \"53\": 1, \"24\": 1}, \"121\": {\"121\": 10, \"39\": 1, \"28\": 1}, \"96\": {\"90\": 1, \"109\": 1, \"96\": 5, \"71\": 1, \"44\": 2, \"43\": 2}, \"90\": {\"90\": 8, \"96\": 1, \"60\": 1, \"108\": 1, \"128\": 1}, \"129\": {\"33\": 1, \"109\": 1, \"68\": 1, \"17\": 1, \"4\": 1, \"14\": 1, \"105\": 1, \"129\": 1, \"76\": 1, \"46\": 1, \"7\": 1, \"100\": 1}, \"84\": {\"33\": 1, \"9\": 1, \"87\": 1, \"17\": 1, \"44\": 1, \"35\": 1, \"56\": 1, \"1\": 1, \"11\": 1, \"10\": 1, \"115\": 1, \"90\": 1}, \"9\": {\"90\": 1, \"9\": 3, \"51\": 2, \"126\": 1, \"54\": 1, \"60\": 1, \"48\": 2, \"104\": 1}, \"109\": {\"109\": 6, \"64\": 3, \"3\": 1, \"21\": 2}, \"7\": {\"7\": 11, \"57\": 1}, \"26\": {\"125\": 1, \"26\": 5, \"4\": 1, \"16\": 1, \"102\": 1, \"118\": 1}, \"16\": {\"26\": 4, \"109\": 1, \"16\": 5, \"21\": 1, \"118\": 1}, \"92\": {\"55\": 1, \"127\": 1, \"92\": 4, \"24\": 1, \"94\": 1, \"29\": 1, \"116\": 1, \"103\": 1, \"36\": 1}, \"22\": {\"70\": 2, \"90\": 1, \"54\": 1, \"22\": 1, \"109\": 1, \"96\": 2, \"83\": 2, \"57\": 1, \"14\": 1}, \"70\": {\"70\": 6, \"23\": 1, \"21\": 1, \"104\": 1, \"126\": 2, \"90\": 1}, \"127\": {\"55\": 2, \"92\": 1, \"31\": 2, \"6\": 1, \"29\": 1, \"103\": 1, \"127\": 3, \"106\": 1}, \"55\": {\"23\": 1, \"105\": 1, \"55\": 2, \"43\": 1, \"4\": 1, \"60\": 1, \"108\": 1, \"56\": 1, \"116\": 1}, \"75\": {\"127\": 1, \"75\": 1, \"89\": 1, \"112\": 1, \"40\": 1, \"29\": 1, \"111\": 1, \"98\": 2, \"53\": 1, \"27\": 1, \"34\": 1}, \"23\": {\"64\": 2, \"115\": 2, \"21\": 1, \"39\": 1, \"3\": 1, \"24\": 1, \"88\": 1, \"121\": 1, \"23\": 1, \"78\": 1}, \"51\": {\"55\": 1, \"75\": 1, \"51\": 6, \"32\": 1, \"27\": 2, \"84\": 1}, \"60\": {\"70\": 1, \"60\": 3, \"90\": 3, \"119\": 1, \"3\": 1, \"122\": 1, \"63\": 1, \"57\": 1}, \"20\": {\"20\": 12}, \"94\": {\"75\": 1, \"55\": 1, \"94\": 5, \"89\": 2, \"48\": 1, \"97\": 2}, \"78\": {\"105\": 1, \"60\": 1, \"62\": 1, \"25\": 1, \"90\": 1, \"40\": 1, \"5\": 1, \"50\": 1, \"20\": 1, \"23\": 1, \"78\": 1, \"17\": 1}, \"64\": {\"64\": 12}, \"15\": {\"114\": 1, \"113\": 1, \"53\": 2, \"52\": 1, \"78\": 2, \"15\": 1, \"35\": 1, \"94\": 1, \"68\": 2}, \"61\": {\"45\": 2, \"99\": 4, \"61\": 4, \"65\": 1, \"87\": 1}, \"80\": {\"114\": 1, \"87\": 1, \"82\": 1, \"1\": 2, \"62\": 1}, \"34\": {\"61\": 1, \"34\": 3, \"28\": 1, \"70\": 2, \"58\": 1, \"10\": 2, \"79\": 1, \"68\": 1}, \"63\": {\"63\": 12}, \"108\": {\"108\": 7, \"87\": 1, \"68\": 1, \"64\": 1, \"101\": 2}, \"45\": {\"87\": 2, \"104\": 1, \"120\": 1, \"45\": 2, \"117\": 1, \"33\": 2, \"50\": 1, \"76\": 1, \"69\": 1}, \"71\": {\"71\": 1, \"34\": 1, \"47\": 1, \"31\": 2, \"59\": 1, \"52\": 1, \"30\": 1, \"98\": 2, \"51\": 1, \"85\": 1}, \"114\": {\"5\": 3, \"114\": 4, \"84\": 1, \"3\": 1, \"82\": 2, \"7\": 1}, \"69\": {\"69\": 9, \"50\": 1}, \"120\": {\"120\": 6, \"90\": 1, \"14\": 1, \"38\": 2, \"25\": 2}, \"24\": {\"108\": 2, \"97\": 2, \"24\": 5, \"88\": 2, \"34\": 1}, \"117\": {\"117\": 2, \"118\": 3, \"129\": 1, \"81\": 2, \"76\": 1, \"67\": 1}, \"25\": {\"99\": 2, \"25\": 6, \"62\": 1, \"11\": 1, \"129\": 1, \"39\": 1}, \"116\": {\"24\": 1, \"120\": 1, \"102\": 2, \"116\": 2, \"119\": 1, \"1\": 1, \"76\": 1, \"45\": 1, \"20\": 1, \"47\": 1}, \"12\": {\"106\": 1, \"68\": 1, \"85\": 1, \"24\": 1, \"60\": 1, \"34\": 1, \"12\": 2, \"111\": 1, \"75\": 1, \"31\": 2}, \"68\": {\"68\": 3, \"108\": 1, \"77\": 1, \"117\": 1, \"102\": 1, \"110\": 1, \"55\": 2, \"32\": 1, \"86\": 1}, \"50\": {\"50\": 11, \"62\": 1}, \"99\": {\"99\": 12}, \"74\": {\"74\": 12}, \"118\": {\"118\": 6, \"117\": 1, \"102\": 1, \"2\": 1, \"26\": 2, \"28\": 1}, \"1\": {\"122\": 2, \"1\": 7, \"78\": 2, \"54\": 1}, \"66\": {\"66\": 8}, \"0\": {\"32\": 2, \"0\": 4, \"93\": 1, \"85\": 2, \"82\": 1, \"106\": 2}, \"83\": {\"21\": 1, \"83\": 3, \"74\": 2, \"19\": 1, \"25\": 1, \"46\": 1, \"42\": 1, \"129\": 1, \"22\": 1}, \"32\": {\"32\": 7, \"48\": 1, \"97\": 1, \"86\": 3}, \"115\": {\"115\": 9, \"126\": 1, \"7\": 1, \"104\": 1}, \"82\": {\"61\": 1, \"82\": 9, \"100\": 1, \"1\": 1}, \"21\": {\"66\": 3, \"39\": 1, \"21\": 2, \"30\": 1, \"48\": 1, \"98\": 1, \"126\": 1, \"76\": 2}, \"85\": {\"115\": 2, \"85\": 6, \"31\": 1, \"79\": 1, \"101\": 1, \"32\": 1}, \"77\": {\"77\": 7, \"106\": 2, \"90\": 1, \"72\": 2}, \"119\": {\"119\": 11, \"18\": 1}, \"10\": {\"97\": 2, \"10\": 3, \"90\": 1, \"70\": 2, \"64\": 1, \"48\": 1, \"24\": 1, \"85\": 1}, \"76\": {\"76\": 12}, \"54\": {\"54\": 8, \"19\": 2, \"1\": 1, \"64\": 1}, \"126\": {\"126\": 7, \"11\": 1, \"70\": 1, \"7\": 2, \"101\": 1}, \"6\": {\"6\": 1, \"75\": 1, \"53\": 1, \"71\": 1, \"29\": 2, \"35\": 1, \"68\": 1, \"97\": 2, \"0\": 2}, \"4\": {\"89\": 1, \"126\": 1, \"70\": 1, \"101\": 1, \"34\": 1, \"4\": 1, \"55\": 2, \"96\": 1, \"47\": 1, \"5\": 2}, \"89\": {\"126\": 2, \"125\": 2, \"43\": 1, \"21\": 1, \"89\": 2, \"92\": 1, \"70\": 1, \"34\": 2}, \"56\": {\"10\": 1, \"110\": 1, \"56\": 1, \"34\": 3, \"70\": 1, \"126\": 1, \"48\": 2, \"128\": 1, \"64\": 1}, \"37\": {\"37\": 6, \"17\": 1, \"0\": 3, \"51\": 2}, \"72\": {\"72\": 7, \"7\": 1, \"86\": 1, \"127\": 1, \"29\": 1, \"111\": 1}, \"30\": {\"10\": 1, \"30\": 2, \"97\": 2, \"0\": 2, \"46\": 1, \"59\": 3, \"58\": 1}, \"65\": {\"65\": 4, \"120\": 2, \"63\": 2, \"87\": 1, \"2\": 1, \"126\": 1, \"57\": 1}, \"57\": {\"57\": 9, \"65\": 1, \"43\": 1, \"41\": 1}, \"62\": {\"62\": 12}, \"41\": {\"41\": 10, \"49\": 1, \"24\": 1}, \"47\": {\"83\": 1, \"43\": 1, \"96\": 1, \"47\": 2, \"56\": 1, \"84\": 1, \"72\": 1, \"86\": 1, \"12\": 1, \"71\": 2}, \"39\": {\"39\": 6, \"113\": 1, \"63\": 1, \"61\": 2, \"123\": 1, \"119\": 1}, \"19\": {\"19\": 7, \"73\": 1, \"3\": 1, \"70\": 1, \"1\": 2}, \"17\": {\"41\": 1, \"105\": 1, \"17\": 3, \"110\": 1, \"78\": 1, \"126\": 1, \"96\": 1, \"74\": 2, \"79\": 1}, \"43\": {\"17\": 2, \"43\": 3, \"40\": 1, \"5\": 1, \"129\": 1, \"82\": 1, \"128\": 1}, \"102\": {\"117\": 1, \"102\": 4, \"129\": 1, \"82\": 1, \"33\": 1, \"109\": 1, \"62\": 1, \"67\": 2}, \"42\": {\"42\": 7, \"109\": 2, \"64\": 1, \"99\": 1, \"21\": 1}, \"53\": {\"53\": 7, \"52\": 1, \"47\": 1, \"112\": 1, \"91\": 1, \"58\": 1}, \"11\": {\"11\": 4, \"42\": 1, \"14\": 1, \"25\": 1, \"124\": 1, \"122\": 1, \"129\": 1, \"1\": 1, \"64\": 1}, \"73\": {\"104\": 2, \"77\": 1, \"105\": 1, \"73\": 4}, \"35\": {\"44\": 1, \"41\": 1, \"79\": 2, \"58\": 1, \"126\": 3, \"127\": 1, \"35\": 1, \"70\": 1, \"93\": 1}, \"58\": {\"41\": 1, \"72\": 1, \"31\": 2, \"6\": 1, \"29\": 1, \"58\": 2, \"0\": 1, \"30\": 2, \"127\": 1}, \"14\": {\"3\": 1, \"84\": 1, \"45\": 2, \"14\": 5, \"96\": 1, \"102\": 1, \"50\": 1}, \"44\": {\"44\": 7, \"101\": 1}, \"107\": {\"114\": 2, \"35\": 1, \"26\": 2, \"79\": 1, \"107\": 1, \"0\": 1, \"105\": 1, \"34\": 1, \"9\": 1, \"115\": 1}, \"38\": {\"38\": 4, \"120\": 1, \"42\": 2, \"19\": 1}, \"3\": {\"3\": 10, \"20\": 1, \"42\": 1}, \"103\": {\"3\": 1, \"103\": 1, \"29\": 2, \"72\": 1, \"77\": 1, \"48\": 2, \"23\": 1, \"0\": 1}, \"59\": {\"59\": 4, \"53\": 1, \"31\": 1, \"127\": 1, \"98\": 1, \"111\": 2, \"71\": 1, \"30\": 1}, \"2\": {\"63\": 2, \"11\": 1, \"2\": 1, \"121\": 2, \"65\": 1, \"57\": 1}, \"88\": {\"59\": 1, \"53\": 1, \"52\": 2, \"46\": 1, \"24\": 1, \"88\": 1, \"0\": 1}, \"128\": {\"88\": 2, \"93\": 1, \"56\": 2, \"43\": 2, \"55\": 1, \"128\": 1, \"34\": 1}, \"46\": {\"3\": 1, \"128\": 1, \"61\": 1, \"97\": 1, \"46\": 2, \"81\": 1, \"75\": 1}, \"18\": {\"18\": 8, \"62\": 1, \"78\": 1}, \"29\": {\"29\": 1, \"75\": 1, \"48\": 3, \"72\": 1, \"110\": 1, \"44\": 1}}, \"C_A_1\": {\"41\": {\"41\": 12}, \"40\": {\"40\": 10, \"4\": 2}, \"45\": {\"45\": 9, \"42\": 2, \"55\": 1}, \"51\": {\"51\": 11, \"14\": 1}, \"5\": {\"48\": 3, \"5\": 7, \"8\": 2}, \"30\": {\"30\": 11, \"14\": 1}, \"42\": {\"45\": 2, \"42\": 8, \"33\": 1, \"35\": 1}, \"46\": {\"46\": 8, \"48\": 3, \"8\": 1}, \"48\": {\"5\": 1, \"48\": 7, \"6\": 1, \"46\": 1}, \"53\": {\"51\": 1, \"53\": 8, \"26\": 1, \"14\": 2}, \"47\": {\"47\": 11, \"1\": 1}, \"49\": {\"49\": 11, \"23\": 1}, \"36\": {\"36\": 10, \"38\": 1, \"54\": 1}, \"32\": {\"32\": 10}, \"34\": {\"34\": 9, \"37\": 1}, \"29\": {\"29\": 7, \"40\": 1}, \"43\": {\"43\": 12}, \"9\": {\"9\": 11, \"30\": 1}, \"44\": {\"45\": 1, \"35\": 1, \"7\": 1, \"44\": 3, \"1\": 2, \"47\": 1, \"55\": 2, \"32\": 1}, \"15\": {\"24\": 1, \"15\": 9, \"11\": 2}, \"7\": {\"14\": 1, \"7\": 11}, \"14\": {\"14\": 2, \"9\": 2, \"17\": 1, \"20\": 1, \"30\": 1, \"41\": 1, \"7\": 1, \"53\": 1, \"51\": 1, \"45\": 1}, \"24\": {\"24\": 7, \"15\": 1, \"22\": 1, \"28\": 1}, \"16\": {\"16\": 11, \"34\": 1}, \"39\": {\"39\": 10}, \"35\": {\"35\": 12}, \"57\": {\"57\": 9, \"45\": 1, \"29\": 2}, \"55\": {\"55\": 6, \"25\": 1, \"44\": 1, \"34\": 2}, \"3\": {\"20\": 1, \"3\": 7, \"12\": 2, \"13\": 1, \"54\": 1}, \"20\": {\"20\": 10}, \"17\": {\"17\": 12}, \"52\": {\"52\": 11, \"24\": 1}, \"38\": {\"38\": 10, \"34\": 1, \"28\": 1}, \"8\": {\"8\": 10, \"17\": 1, \"9\": 1}, \"4\": {\"4\": 10, \"50\": 1, \"40\": 1}, \"19\": {\"19\": 6, \"9\": 1, \"56\": 1}, \"37\": {\"37\": 10}, \"27\": {\"27\": 10, \"52\": 1, \"43\": 1}, \"12\": {\"12\": 7, \"20\": 1, \"51\": 1, \"26\": 1, \"3\": 1, \"13\": 1}, \"28\": {\"28\": 11, \"52\": 1}, \"6\": {\"6\": 7, \"46\": 1, \"48\": 2, \"8\": 2}, \"56\": {\"56\": 8, \"1\": 1, \"19\": 2, \"57\": 1}, \"50\": {\"50\": 12}, \"2\": {\"2\": 10}, \"10\": {\"15\": 3, \"10\": 4, \"21\": 1}, \"33\": {\"33\": 10}, \"54\": {\"54\": 6, \"55\": 2}, \"18\": {\"18\": 12}, \"13\": {\"13\": 7, \"14\": 1, \"51\": 1, \"12\": 1}, \"1\": {\"19\": 2, \"1\": 8, \"56\": 2}, \"21\": {\"21\": 12}, \"11\": {\"11\": 8, \"24\": 1, \"15\": 1, \"22\": 2}, \"0\": {\"0\": 8}, \"31\": {\"31\": 11, \"22\": 1}, \"26\": {\"26\": 12}, \"25\": {\"25\": 12}, \"23\": {\"23\": 4}, \"22\": {\"22\": 4, \"36\": 1, \"11\": 1}}, \"W_A_2\": {\"3\": {\"127\": 1, \"3\": 7, \"104\": 1, \"115\": 1, \"45\": 1, \"7\": 1}, \"127\": {\"3\": 1, \"60\": 1, \"127\": 3, \"128\": 1, \"0\": 1, \"86\": 1, \"108\": 1, \"71\": 1, \"103\": 1, \"11\": 1}, \"58\": {\"3\": 1, \"75\": 1, \"103\": 2, \"58\": 2, \"10\": 1, \"24\": 1, \"54\": 1, \"128\": 1, \"15\": 2}, \"114\": {\"3\": 1, \"58\": 1, \"1\": 2, \"74\": 1, \"86\": 1, \"114\": 2, \"105\": 2, \"55\": 1, \"29\": 1}, \"111\": {\"3\": 1, \"111\": 4, \"34\": 1, \"19\": 1, \"54\": 2, \"71\": 2, \"4\": 1}, \"105\": {\"86\": 1, \"105\": 5, \"74\": 1, \"78\": 1, \"95\": 1, \"21\": 1, \"8\": 2}, \"118\": {\"118\": 6, \"37\": 3, \"88\": 1, \"93\": 1, \"121\": 1}, \"23\": {\"3\": 2, \"75\": 1, \"83\": 1, \"41\": 1, \"120\": 3, \"32\": 2, \"23\": 1, \"54\": 1}, \"21\": {\"21\": 9, \"121\": 1, \"39\": 1, \"70\": 1}, \"20\": {\"21\": 1, \"20\": 11}, \"75\": {\"21\": 1, \"3\": 1, \"35\": 1, \"75\": 1, \"8\": 2, \"47\": 1, \"9\": 1, \"97\": 2, \"98\": 2}, \"86\": {\"86\": 3, \"23\": 1, \"129\": 1, \"70\": 1, \"126\": 1, \"43\": 2, \"69\": 1, \"1\": 1, \"44\": 1}, \"60\": {\"60\": 7, \"6\": 1, \"90\": 2, \"118\": 1, \"28\": 1}, \"69\": {\"118\": 2, \"69\": 9, \"16\": 1}, \"99\": {\"99\": 6, \"75\": 1, \"120\": 1}, \"14\": {\"14\": 7, \"63\": 1, \"2\": 1, \"119\": 1, \"60\": 1, \"1\": 1}, \"110\": {\"124\": 1, \"111\": 1, \"110\": 3, \"74\": 1, \"113\": 1, \"122\": 1, \"126\": 1, \"107\": 1, \"118\": 2}, \"0\": {\"111\": 1, \"34\": 1, \"57\": 1, \"59\": 1, \"128\": 1, \"0\": 2, \"71\": 1, \"122\": 1, \"89\": 1, \"68\": 1, \"54\": 1}, \"28\": {\"116\": 2, \"28\": 3, \"76\": 1, \"14\": 1, \"80\": 1, \"18\": 2, \"45\": 1, \"118\": 1}, \"124\": {\"19\": 3, \"111\": 1, \"74\": 1, \"58\": 1, \"124\": 2, \"51\": 1, \"107\": 1, \"88\": 1, \"32\": 1}, \"47\": {\"124\": 1, \"5\": 1, \"101\": 2, \"76\": 1, \"47\": 2, \"60\": 1, \"43\": 1, \"83\": 1, \"66\": 1, \"97\": 1}, \"89\": {\"5\": 1, \"73\": 1, \"76\": 2, \"60\": 2, \"88\": 1, \"89\": 4, \"118\": 1}, \"5\": {\"111\": 2, \"32\": 1, \"5\": 7, \"1\": 1, \"12\": 1}, \"83\": {\"83\": 9, \"116\": 2, \"90\": 1}, \"34\": {\"5\": 1, \"8\": 1, \"75\": 1, \"114\": 1, \"105\": 1, \"103\": 1, \"34\": 1, \"29\": 1, \"122\": 1, \"1\": 1, \"28\": 1, \"79\": 1}, \"8\": {\"8\": 4, \"19\": 1, \"32\": 1, \"95\": 2, \"43\": 1, \"44\": 1, \"42\": 2}, \"64\": {\"116\": 1, \"83\": 1, \"64\": 9, \"100\": 1}, \"73\": {\"116\": 2, \"33\": 1, \"73\": 5, \"95\": 1, \"126\": 1}, \"116\": {\"73\": 1, \"83\": 1, \"55\": 1, \"45\": 2, \"68\": 1, \"100\": 1, \"95\": 1, \"126\": 1, \"31\": 1, \"80\": 1, \"70\": 1}, \"19\": {\"116\": 1, \"34\": 1, \"70\": 1, \"19\": 6, \"104\": 1, \"78\": 1, \"122\": 1}, \"25\": {\"124\": 1, \"25\": 4, \"98\": 1, \"103\": 1, \"106\": 1, \"77\": 1, \"51\": 1, \"71\": 1, \"54\": 1}, \"55\": {\"55\": 6, \"1\": 1, \"37\": 2, \"62\": 1, \"87\": 1, \"50\": 1}, \"66\": {\"129\": 1, \"55\": 1, \"66\": 2, \"61\": 1, \"19\": 2, \"100\": 1, \"42\": 1, \"70\": 1, \"78\": 1, \"14\": 1}, \"36\": {\"6\": 2, \"128\": 2, \"106\": 2, \"89\": 1, \"36\": 2, \"11\": 1, \"27\": 1, \"51\": 1}, \"35\": {\"35\": 3, \"23\": 1, \"114\": 1, \"125\": 1, \"42\": 1, \"6\": 1, \"91\": 1, \"29\": 2, \"11\": 1}, \"6\": {\"36\": 1, \"35\": 1, \"6\": 7, \"94\": 1, \"112\": 1, \"25\": 1}, \"117\": {\"45\": 1, \"55\": 1, \"105\": 1, \"117\": 1, \"80\": 2, \"113\": 2, \"82\": 1, \"40\": 1, \"11\": 1, \"20\": 1}, \"1\": {\"1\": 11, \"62\": 1}, \"129\": {\"129\": 3, \"1\": 1, \"78\": 1, \"85\": 2, \"62\": 1}, \"45\": {\"45\": 4, \"37\": 1, \"116\": 2, \"3\": 1, \"31\": 1, \"96\": 1, \"118\": 1, \"63\": 1}, \"15\": {\"15\": 2, \"103\": 1, \"0\": 2, \"98\": 1, \"20\": 1, \"107\": 1, \"97\": 2, \"54\": 1, \"68\": 1}, \"4\": {\"76\": 1, \"105\": 1, \"33\": 1, \"128\": 1, \"43\": 1, \"42\": 1, \"4\": 1, \"117\": 1, \"129\": 1, \"111\": 1, \"23\": 1, \"0\": 1}, \"76\": {\"76\": 8, \"100\": 1, \"46\": 1, \"83\": 1, \"48\": 1}, \"103\": {\"58\": 1, \"105\": 1, \"103\": 3, \"107\": 1, \"49\": 1, \"91\": 2, \"30\": 1, \"124\": 1, \"32\": 1}, \"125\": {\"58\": 1, \"103\": 1, \"35\": 2, \"125\": 6, \"67\": 1, \"0\": 1}, \"31\": {\"39\": 3, \"96\": 1, \"118\": 2, \"116\": 1, \"31\": 2, \"103\": 1, \"21\": 1, \"88\": 1}, \"39\": {\"33\": 1, \"39\": 3, \"118\": 1, \"16\": 1, \"69\": 1, \"20\": 2, \"70\": 1, \"23\": 1, \"43\": 1}, \"88\": {\"88\": 9, \"76\": 1, \"70\": 1, \"126\": 1}, \"30\": {\"88\": 1, \"103\": 2, \"8\": 1, \"17\": 1, \"6\": 1, \"30\": 1, \"106\": 1, \"2\": 1, \"91\": 1, \"67\": 1, \"79\": 1}, \"102\": {\"102\": 5, \"88\": 1, \"13\": 1, \"63\": 1, \"55\": 1, \"84\": 1, \"64\": 2}, \"33\": {\"102\": 2, \"67\": 1, \"33\": 6, \"55\": 1, \"73\": 2}, \"93\": {\"100\": 2, \"93\": 8, \"69\": 2}, \"82\": {\"69\": 1, \"117\": 1, \"16\": 1, \"48\": 1, \"84\": 1, \"82\": 3, \"57\": 1, \"64\": 1, \"55\": 1, \"72\": 1}, \"17\": {\"32\": 1, \"5\": 1, \"129\": 1, \"45\": 1, \"16\": 1, \"85\": 1, \"108\": 2, \"29\": 1, \"105\": 1}, \"101\": {\"5\": 1, \"17\": 1, \"7\": 1, \"25\": 1, \"115\": 4, \"24\": 2, \"86\": 2}, \"9\": {\"9\": 6, \"7\": 1, \"77\": 1, \"85\": 1, \"75\": 2, \"32\": 1}, \"100\": {\"100\": 9, \"73\": 1, \"96\": 1, \"63\": 1}, \"32\": {\"32\": 5, \"8\": 1, \"28\": 2, \"123\": 1, \"78\": 1, \"44\": 1, \"59\": 1}, \"80\": {\"100\": 2, \"73\": 1, \"90\": 1, \"87\": 1, \"67\": 1, \"80\": 3, \"84\": 1, \"69\": 1, \"121\": 1}, \"51\": {\"35\": 1, \"114\": 1, \"51\": 4, \"95\": 1, \"77\": 1, \"25\": 1, \"5\": 1, \"98\": 2}, \"70\": {\"37\": 1, \"1\": 1, \"123\": 2, \"14\": 1, \"88\": 2, \"70\": 3, \"23\": 1, \"5\": 1}, \"37\": {\"37\": 2, \"78\": 1, \"50\": 1, \"55\": 1, \"120\": 1, \"45\": 2}, \"126\": {\"70\": 1, \"126\": 5, \"128\": 1, \"85\": 1, \"87\": 1, \"73\": 1, \"38\": 1, \"107\": 1}, \"62\": {\"37\": 1, \"70\": 1, \"62\": 3, \"10\": 1, \"55\": 2, \"5\": 2, \"64\": 1, \"4\": 1}, \"96\": {\"96\": 5, \"39\": 1, \"16\": 1, \"61\": 1, \"78\": 1, \"81\": 1, \"121\": 2}, \"74\": {\"74\": 8}, \"68\": {\"54\": 1, \"32\": 1, \"17\": 1, \"112\": 1, \"74\": 1, \"110\": 1, \"86\": 1, \"127\": 1, \"68\": 2, \"40\": 1, \"0\": 1}, \"98\": {\"41\": 1, \"29\": 1, \"98\": 8, \"79\": 1, \"49\": 1}, \"43\": {\"43\": 5, \"61\": 1, \"113\": 1, \"76\": 1, \"8\": 1, \"88\": 1, \"105\": 1, \"19\": 1}, \"40\": {\"32\": 1, \"43\": 1, \"40\": 2, \"126\": 1, \"108\": 2, \"87\": 1, \"128\": 1, \"19\": 1, \"44\": 1, \"50\": 1}, \"41\": {\"29\": 2, \"41\": 10}, \"54\": {\"29\": 1, \"54\": 8, \"12\": 1, \"22\": 1, \"68\": 1}, \"81\": {\"81\": 8, \"18\": 1, \"120\": 1, \"117\": 1, \"2\": 1}, \"27\": {\"21\": 1, \"121\": 1, \"29\": 2, \"97\": 1, \"47\": 1, \"27\": 1, \"24\": 1, \"36\": 2, \"42\": 1, \"11\": 1}, \"29\": {\"29\": 11, \"68\": 1}, \"109\": {\"21\": 2, \"90\": 1, \"65\": 1, \"20\": 2, \"109\": 2, \"88\": 2, \"116\": 1, \"70\": 1}, \"121\": {\"121\": 4, \"81\": 1, \"103\": 1}, \"91\": {\"98\": 2, \"106\": 1, \"91\": 5, \"77\": 1, \"68\": 1, \"11\": 1, \"103\": 1}, \"16\": {\"48\": 3, \"63\": 1, \"69\": 1, \"16\": 2, \"72\": 1, \"87\": 1, \"93\": 1, \"39\": 1, \"20\": 1}, \"42\": {\"42\": 5, \"32\": 1, \"12\": 1, \"41\": 1, \"22\": 1, \"95\": 1, \"108\": 1, \"66\": 1}, \"18\": {\"48\": 1, \"82\": 1, \"18\": 5, \"81\": 2, \"21\": 1, \"12\": 1, \"26\": 1}, \"78\": {\"14\": 1, \"16\": 1, \"78\": 2, \"10\": 2, \"43\": 3, \"47\": 1, \"66\": 2}, \"48\": {\"48\": 9, \"119\": 1, \"113\": 2}, \"72\": {\"48\": 1, \"16\": 2, \"72\": 7, \"67\": 1, \"61\": 1}, \"123\": {\"123\": 4, \"22\": 1, \"129\": 1, \"53\": 1, \"128\": 1, \"10\": 1, \"44\": 1, \"122\": 1, \"108\": 1}, \"44\": {\"44\": 10, \"53\": 1, \"123\": 1}, \"63\": {\"63\": 10}, \"26\": {\"69\": 1, \"113\": 1, \"13\": 2, \"81\": 2, \"72\": 1, \"2\": 1, \"26\": 1, \"118\": 1, \"45\": 1, \"48\": 1}, \"50\": {\"33\": 1, \"39\": 1, \"50\": 6, \"55\": 1, \"118\": 1}, \"10\": {\"44\": 1, \"7\": 1, \"78\": 1, \"123\": 2, \"74\": 1, \"10\": 1, \"24\": 1, \"119\": 1, \"91\": 1, \"12\": 1, \"98\": 1}, \"61\": {\"61\": 7, \"120\": 1, \"43\": 1, \"87\": 1, \"32\": 2}, \"97\": {\"7\": 1, \"97\": 3, \"47\": 1, \"12\": 2, \"53\": 1, \"42\": 1, \"30\": 1}, \"67\": {\"67\": 4, \"84\": 2, \"1\": 2}, \"113\": {\"113\": 7, \"93\": 1, \"76\": 1, \"18\": 2, \"48\": 1}, \"7\": {\"7\": 4, \"44\": 1, \"71\": 2, \"19\": 1, \"24\": 1, \"21\": 1}, \"71\": {\"54\": 2, \"95\": 2, \"89\": 1, \"112\": 2, \"71\": 4, \"21\": 1}, \"2\": {\"113\": 1, \"93\": 1, \"2\": 2, \"96\": 1, \"76\": 1, \"16\": 1, \"48\": 1, \"89\": 1, \"26\": 2, \"20\": 1}, \"57\": {\"93\": 1, \"88\": 1, \"48\": 5, \"119\": 1, \"57\": 2, \"87\": 1, \"18\": 1}, \"59\": {\"59\": 3, \"88\": 1, \"78\": 1, \"10\": 1, \"24\": 1, \"97\": 2, \"121\": 1}, \"112\": {\"54\": 1, \"112\": 4, \"22\": 1, \"10\": 1, \"108\": 1}, \"79\": {\"0\": 2, \"79\": 6, \"112\": 1, \"108\": 1, \"111\": 1, \"52\": 1}, \"52\": {\"128\": 1, \"120\": 1, \"52\": 3, \"95\": 1, \"79\": 4, \"88\": 1, \"3\": 1}, \"13\": {\"81\": 2, \"13\": 4, \"51\": 1, \"46\": 1, \"18\": 1, \"63\": 1, \"10\": 1, \"121\": 1}, \"128\": {\"73\": 1, \"128\": 3, \"53\": 1, \"115\": 1, \"114\": 1, \"68\": 1, \"126\": 1, \"11\": 1}, \"120\": {\"120\": 10, \"99\": 2}, \"94\": {\"128\": 3, \"88\": 1, \"112\": 1, \"52\": 1, \"24\": 1, \"20\": 1, \"125\": 2, \"79\": 1, \"36\": 1}, \"85\": {\"73\": 1, \"0\": 1, \"46\": 1, \"17\": 1, \"85\": 1, \"95\": 1, \"90\": 2, \"35\": 1, \"93\": 1, \"107\": 1, \"126\": 1}, \"46\": {\"37\": 1, \"46\": 5, \"41\": 1, \"2\": 1, \"85\": 2, \"73\": 2}, \"22\": {\"78\": 1, \"22\": 5, \"59\": 1, \"90\": 1, \"123\": 1, \"122\": 1, \"57\": 1, \"19\": 1}, \"90\": {\"90\": 10, \"61\": 1, \"85\": 1}, \"77\": {\"10\": 1, \"120\": 1, \"29\": 2, \"77\": 3, \"128\": 2, \"68\": 2, \"20\": 1}, \"106\": {\"106\": 4, \"7\": 1, \"115\": 3, \"95\": 1, \"42\": 1, \"68\": 1, \"54\": 1}, \"104\": {\"95\": 1, \"63\": 1, \"103\": 1, \"90\": 1, \"84\": 1, \"104\": 1, \"43\": 1, \"55\": 1, \"80\": 1, \"10\": 1}, \"95\": {\"95\": 7, \"5\": 2, \"129\": 1, \"114\": 2}, \"12\": {\"41\": 1, \"42\": 1, \"12\": 5, \"95\": 1, \"122\": 1, \"79\": 1, \"32\": 1, \"110\": 1}, \"49\": {\"41\": 2, \"11\": 2, \"98\": 1, \"49\": 3, \"68\": 1, \"125\": 1, \"32\": 2}, \"87\": {\"120\": 1, \"55\": 1, \"126\": 2, \"87\": 2, \"95\": 1, \"16\": 1, \"76\": 1, \"64\": 1, \"14\": 2}, \"65\": {\"65\": 8}, \"84\": {\"13\": 1, \"84\": 3, \"104\": 1, \"107\": 1, \"64\": 2, \"93\": 1, \"16\": 1, \"50\": 1, \"80\": 1}, \"38\": {\"38\": 10, \"123\": 2}, \"53\": {\"53\": 6, \"20\": 1, \"56\": 1, \"123\": 2, \"108\": 2}, \"122\": {\"112\": 2, \"115\": 1, \"84\": 1, \"43\": 1, \"122\": 1, \"41\": 1, \"71\": 2, \"7\": 1, \"5\": 1, \"1\": 1}, \"119\": {\"119\": 10, \"61\": 2}, \"108\": {\"53\": 1, \"108\": 6, \"11\": 1, \"66\": 1, \"111\": 1}, \"107\": {\"59\": 1, \"104\": 1, \"101\": 1, \"67\": 1, \"107\": 4, \"25\": 1, \"114\": 1, \"1\": 2}, \"24\": {\"22\": 1, \"15\": 1, \"24\": 2, \"115\": 1, \"56\": 1, \"98\": 1, \"41\": 2, \"10\": 1, \"6\": 1, \"27\": 1}, \"115\": {\"115\": 9, \"20\": 1, \"49\": 1, \"88\": 1}, \"56\": {\"115\": 2, \"24\": 1, \"44\": 1, \"56\": 2, \"95\": 1, \"8\": 1, \"51\": 1, \"25\": 1, \"29\": 1, \"70\": 1}, \"11\": {\"49\": 1, \"11\": 4, \"108\": 2, \"75\": 1, \"98\": 1, \"91\": 1}, \"92\": {\"92\": 7, \"20\": 3, \"109\": 1, \"83\": 1}}, \"C_A_3\": {\"1\": {\"1\": 6, \"35\": 3, \"57\": 1, \"18\": 1, \"5\": 1}, \"9\": {\"9\": 12}, \"22\": {\"1\": 1, \"31\": 1, \"22\": 8, \"55\": 1, \"14\": 1}, \"43\": {\"43\": 12}, \"49\": {\"49\": 8, \"56\": 1, \"7\": 1}, \"50\": {\"48\": 1, \"38\": 1, \"42\": 1, \"50\": 6, \"36\": 2, \"33\": 1}, \"53\": {\"53\": 8, \"54\": 1, \"50\": 1}, \"10\": {\"10\": 9, \"43\": 2, \"7\": 1}, \"48\": {\"48\": 8, \"47\": 1, \"55\": 1}, \"8\": {\"38\": 2, \"8\": 10}, \"31\": {\"1\": 1, \"31\": 7, \"28\": 4}, \"56\": {\"56\": 7, \"22\": 1, \"55\": 1, \"31\": 2, \"15\": 1}, \"25\": {\"38\": 1, \"25\": 6, \"6\": 1, \"8\": 1, \"50\": 1}, \"28\": {\"1\": 1, \"28\": 8, \"34\": 1, \"31\": 2}, \"38\": {\"38\": 9, \"50\": 2, \"55\": 1}, \"5\": {\"5\": 7, \"1\": 1, \"31\": 1, \"41\": 1, \"28\": 1, \"52\": 1}, \"34\": {\"34\": 9, \"1\": 1}, \"21\": {\"21\": 6, \"20\": 1, \"52\": 2, \"19\": 1, \"33\": 1, \"51\": 1}, \"57\": {\"57\": 11, \"1\": 1}, \"55\": {\"55\": 10, \"41\": 1, \"6\": 1}, \"47\": {\"47\": 9, \"57\": 1}, \"6\": {\"6\": 10, \"33\": 2}, \"3\": {\"6\": 2, \"27\": 1, \"3\": 1, \"16\": 2}, \"26\": {\"26\": 8, \"42\": 1, \"18\": 1, \"30\": 2}, \"16\": {\"26\": 1, \"16\": 11}, \"18\": {\"18\": 11, \"42\": 1}, \"32\": {\"32\": 12}, \"40\": {\"40\": 12}, \"2\": {\"2\": 8}, \"36\": {\"36\": 8, \"17\": 4}, \"52\": {\"52\": 10, \"18\": 2}, \"13\": {\"13\": 7, \"11\": 1}, \"42\": {\"42\": 11, \"17\": 1}, \"19\": {\"19\": 10, \"44\": 1, \"40\": 1}, \"11\": {\"11\": 6, \"7\": 1, \"15\": 2, \"52\": 1}, \"20\": {\"25\": 1, \"20\": 11}, \"17\": {\"36\": 2, \"17\": 8}, \"51\": {\"51\": 11, \"50\": 1}, \"29\": {\"9\": 2, \"29\": 8}, \"44\": {\"42\": 1, \"9\": 1, \"44\": 7, \"19\": 1, \"40\": 1, \"54\": 1}, \"27\": {\"27\": 11, \"17\": 1}, \"33\": {\"42\": 1, \"33\": 8, \"6\": 2, \"50\": 1}, \"54\": {\"54\": 12}, \"7\": {\"7\": 12}, \"14\": {\"24\": 1, \"38\": 1, \"10\": 1, \"14\": 2, \"46\": 1, \"9\": 1, \"56\": 1, \"29\": 1, \"20\": 1}, \"12\": {\"38\": 2, \"2\": 1, \"12\": 7, \"45\": 1, \"54\": 1}, \"24\": {\"24\": 11, \"43\": 1}, \"15\": {\"15\": 12}, \"35\": {\"1\": 1, \"35\": 8, \"28\": 1}, \"41\": {\"41\": 10}, \"4\": {\"4\": 10, \"45\": 1, \"32\": 1}, \"0\": {\"0\": 7, \"22\": 1, \"23\": 2}, \"39\": {\"39\": 10}, \"45\": {\"4\": 2, \"54\": 1, \"40\": 3, \"45\": 5, \"17\": 1}, \"46\": {\"46\": 5, \"37\": 1, \"41\": 2, \"3\": 1, \"6\": 1}, \"37\": {\"37\": 10}, \"23\": {\"23\": 8, \"26\": 1, \"47\": 1}, \"30\": {\"30\": 4}}, \"C_A_4\": {\"52\": {\"52\": 11, \"46\": 1}, \"6\": {\"25\": 1, \"9\": 1, \"6\": 6, \"54\": 1, \"36\": 1, \"28\": 1, \"44\": 1}, \"14\": {\"40\": 1, \"38\": 1, \"39\": 1, \"19\": 1, \"22\": 1, \"35\": 1, \"29\": 1, \"24\": 1, \"0\": 1, \"14\": 2, \"56\": 1}, \"49\": {\"49\": 12}, \"0\": {\"0\": 12}, \"46\": {\"52\": 1, \"0\": 2, \"46\": 4, \"23\": 1, \"47\": 2, \"1\": 1, \"32\": 1}, \"41\": {\"41\": 11, \"52\": 1}, \"24\": {\"24\": 8, \"46\": 1, \"22\": 2, \"43\": 1}, \"25\": {\"25\": 11, \"20\": 1}, \"40\": {\"40\": 7, \"53\": 1, \"33\": 2, \"4\": 2}, \"38\": {\"38\": 12}, \"13\": {\"10\": 4, \"43\": 1, \"24\": 3, \"13\": 4}, \"9\": {\"9\": 11, \"27\": 1}, \"45\": {\"45\": 6}, \"43\": {\"43\": 12}, \"10\": {\"24\": 2, \"10\": 7, \"13\": 2, \"43\": 1}, \"3\": {\"3\": 8, \"34\": 1, \"26\": 1, \"20\": 1, \"36\": 1}, \"32\": {\"32\": 10, \"31\": 1, \"46\": 1}, \"37\": {\"37\": 10}, \"48\": {\"48\": 9, \"26\": 1, \"33\": 1, \"3\": 1}, \"26\": {\"26\": 9, \"28\": 3}, \"30\": {\"30\": 10}, \"27\": {\"27\": 10}, \"57\": {\"57\": 11, \"1\": 1}, \"33\": {\"33\": 10, \"4\": 1, \"19\": 1}, \"21\": {\"21\": 12}, \"55\": {\"26\": 1, \"55\": 9, \"28\": 1, \"48\": 1}, \"23\": {\"23\": 10, \"41\": 1, \"52\": 1}, \"20\": {\"50\": 3, \"20\": 4, \"8\": 1, \"21\": 2}, \"19\": {\"19\": 10, \"55\": 1, \"33\": 1}, \"39\": {\"39\": 10, \"18\": 1, \"36\": 1}, \"47\": {\"47\": 8, \"5\": 1, \"7\": 1}, \"50\": {\"8\": 1, \"50\": 9, \"6\": 1, \"17\": 1}, \"1\": {\"1\": 12}, \"42\": {\"42\": 10}, \"8\": {\"8\": 8}, \"53\": {\"20\": 2, \"53\": 8, \"25\": 2}, \"4\": {\"4\": 12}, \"54\": {\"6\": 1, \"54\": 9}, \"31\": {\"31\": 12}, \"11\": {\"11\": 5, \"24\": 1, \"16\": 1, \"31\": 1}, \"5\": {\"7\": 1, \"5\": 5, \"47\": 3, \"23\": 3}, \"18\": {\"39\": 2, \"18\": 5, \"30\": 1}, \"7\": {\"7\": 12}, \"15\": {\"15\": 8, \"16\": 2}, \"17\": {\"17\": 12}, \"2\": {\"2\": 8, \"7\": 1, \"16\": 1, \"24\": 2}, \"35\": {\"35\": 9, \"1\": 1}, \"22\": {\"22\": 9, \"38\": 1}, \"34\": {\"34\": 10}, \"56\": {\"56\": 11, \"22\": 1}, \"12\": {\"12\": 12}, \"16\": {\"16\": 11, \"15\": 1}, \"51\": {\"51\": 8}, \"28\": {\"6\": 1, \"28\": 8, \"26\": 1}, \"29\": {\"29\": 12}, \"44\": {\"44\": 1, \"53\": 1, \"28\": 2, \"19\": 2}, \"36\": {\"36\": 4, \"6\": 2, \"3\": 2}}, \"C_A_2\": {\"11\": {\"11\": 9, \"16\": 1, \"38\": 1, \"15\": 1}, \"21\": {\"21\": 8, \"37\": 2}, \"19\": {\"19\": 7, \"9\": 1}, \"20\": {\"20\": 12}, \"9\": {\"9\": 9, \"33\": 1}, \"10\": {\"10\": 6, \"43\": 1, \"38\": 3, \"14\": 1, \"24\": 1}, \"37\": {\"37\": 10}, \"32\": {\"32\": 12}, \"3\": {\"3\": 7, \"42\": 1, \"6\": 2, \"4\": 1, \"50\": 1}, \"39\": {\"39\": 12}, \"45\": {\"45\": 8, \"12\": 1, \"26\": 1, \"35\": 2}, \"50\": {\"50\": 8, \"54\": 1, \"53\": 1, \"41\": 1, \"26\": 1}, \"40\": {\"32\": 3, \"9\": 1, \"40\": 6, \"5\": 1, \"4\": 1}, \"46\": {\"46\": 3, \"37\": 1, \"49\": 1, \"16\": 1, \"30\": 2, \"7\": 1, \"6\": 1, \"41\": 2}, \"12\": {\"12\": 10, \"54\": 1, \"8\": 1}, \"13\": {\"13\": 9, \"52\": 2, \"43\": 1}, \"18\": {\"18\": 5, \"7\": 2, \"30\": 1}, \"28\": {\"28\": 12}, \"57\": {\"57\": 12}, \"7\": {\"7\": 12}, \"15\": {\"15\": 9, \"50\": 1, \"23\": 1, \"0\": 1}, \"0\": {\"0\": 10, \"31\": 1, \"5\": 1}, \"36\": {\"36\": 11, \"17\": 1}, \"53\": {\"53\": 10, \"54\": 1, \"51\": 1}, \"49\": {\"7\": 2, \"49\": 5, \"34\": 2, \"17\": 1, \"55\": 1, \"48\": 1}, \"25\": {\"25\": 11, \"50\": 1}, \"29\": {\"29\": 7, \"57\": 1, \"33\": 1, \"48\": 1}, \"56\": {\"56\": 10, \"28\": 1, \"14\": 1}, \"2\": {\"7\": 2, \"2\": 7, \"41\": 1}, \"31\": {\"31\": 9, \"23\": 1}, \"54\": {\"54\": 8}, \"8\": {\"12\": 2, \"27\": 1, \"8\": 6, \"20\": 1}, \"55\": {\"55\": 8, \"39\": 1, \"49\": 1, \"3\": 1, \"46\": 1}, \"26\": {\"26\": 11, \"20\": 1}, \"24\": {\"24\": 9, \"14\": 1}, \"42\": {\"42\": 4, \"46\": 1, \"34\": 1, \"50\": 1, \"7\": 1, \"3\": 2, \"29\": 1, \"48\": 1}, \"27\": {\"27\": 6}, \"41\": {\"41\": 12}, \"43\": {\"43\": 10}, \"47\": {\"47\": 6, \"1\": 4, \"28\": 1, \"39\": 1}, \"38\": {\"10\": 2, \"38\": 9, \"11\": 1}, \"16\": {\"16\": 11, \"11\": 1}, \"34\": {\"34\": 10, \"48\": 2}, \"35\": {\"35\": 10}, \"44\": {\"44\": 9, \"17\": 1, \"9\": 2}, \"23\": {\"23\": 10, \"39\": 2}, \"52\": {\"52\": 11, \"23\": 1}, \"48\": {\"41\": 1, \"48\": 7, \"1\": 1, \"47\": 1, \"34\": 1, \"29\": 1}, \"33\": {\"33\": 9, \"42\": 1, \"40\": 1, \"32\": 1}, \"1\": {\"1\": 3, \"14\": 5, \"57\": 2}, \"14\": {\"1\": 1, \"43\": 1, \"19\": 1, \"24\": 1, \"10\": 3, \"44\": 1, \"14\": 2, \"9\": 2}, \"22\": {\"22\": 6, \"31\": 2}, \"4\": {\"4\": 12}, \"5\": {\"5\": 7, \"1\": 2, \"30\": 1, \"39\": 1, \"0\": 1}, \"51\": {\"51\": 10}, \"30\": {\"30\": 9, \"18\": 1}, \"17\": {\"17\": 8}, \"6\": {\"6\": 7, \"3\": 1}}, \"W_A_3\": {\"106\": {\"77\": 2, \"106\": 5, \"73\": 2, \"38\": 1, \"60\": 1, \"111\": 1}, \"129\": {\"44\": 1, \"129\": 5, \"53\": 1, \"43\": 1, \"100\": 2, \"110\": 2}, \"77\": {\"108\": 1, \"128\": 1, \"29\": 1, \"77\": 4, \"10\": 1, \"83\": 1, \"99\": 1, \"71\": 2}, \"53\": {\"22\": 1, \"129\": 1, \"53\": 8, \"84\": 1, \"33\": 1}, \"3\": {\"3\": 9, \"42\": 1, \"112\": 2}, \"76\": {\"76\": 6, \"45\": 1, \"64\": 2, \"20\": 1, \"23\": 1, \"53\": 1}, \"22\": {\"28\": 1, \"3\": 1, \"97\": 1, \"29\": 1, \"76\": 1, \"57\": 1, \"60\": 2, \"100\": 1, \"104\": 1, \"20\": 1, \"53\": 1}, \"108\": {\"22\": 1, \"28\": 1, \"108\": 4, \"128\": 1, \"19\": 2, \"78\": 1, \"10\": 1, \"42\": 1}, \"39\": {\"113\": 1, \"39\": 6, \"126\": 1, \"21\": 2, \"63\": 1, \"26\": 1}, \"107\": {\"107\": 3, \"76\": 1, \"31\": 2, \"88\": 1, \"1\": 1, \"50\": 2, \"82\": 1, \"100\": 1}, \"112\": {\"108\": 1, \"3\": 2, \"128\": 1, \"35\": 1, \"29\": 1, \"125\": 1, \"104\": 2, \"112\": 1, \"77\": 1, \"99\": 1}, \"113\": {\"39\": 2, \"11\": 1, \"113\": 3, \"123\": 1, \"21\": 1, \"63\": 1, \"45\": 1, \"13\": 2}, \"11\": {\"113\": 1, \"112\": 1, \"70\": 2, \"100\": 2, \"102\": 2, \"33\": 1, \"53\": 1}, \"128\": {\"128\": 5, \"108\": 2, \"49\": 1, \"112\": 1, \"1\": 1, \"20\": 1, \"23\": 1}, \"44\": {\"44\": 10, \"1\": 1, \"87\": 1}, \"28\": {\"22\": 1, \"28\": 9}, \"43\": {\"21\": 1, \"102\": 1, \"14\": 1, \"43\": 4, \"16\": 1, \"116\": 1, \"78\": 1, \"100\": 1, \"39\": 1}, \"94\": {\"58\": 1, \"119\": 1, \"12\": 1, \"51\": 1, \"65\": 1, \"94\": 2, \"59\": 2, \"54\": 1, \"5\": 1, \"35\": 1}, \"102\": {\"117\": 1, \"102\": 5, \"78\": 1, \"107\": 1, \"69\": 1, \"33\": 1, \"115\": 1, \"100\": 1}, \"30\": {\"58\": 1, \"30\": 4, \"73\": 2, \"127\": 1, \"83\": 2, \"7\": 2}, \"35\": {\"119\": 1, \"58\": 1, \"36\": 1, \"35\": 4, \"103\": 2, \"94\": 1, \"52\": 1, \"37\": 1}, \"123\": {\"21\": 3, \"123\": 5, \"18\": 1, \"67\": 2, \"63\": 1}, \"58\": {\"30\": 2, \"58\": 4, \"83\": 2, \"59\": 1, \"10\": 1, \"73\": 1, \"35\": 1}, \"119\": {\"43\": 1, \"79\": 1, \"119\": 8, \"62\": 1, \"20\": 1}, \"21\": {\"21\": 10, \"24\": 1, \"35\": 1}, \"79\": {\"79\": 6, \"100\": 1, \"119\": 1, \"53\": 1, \"111\": 1, \"68\": 1, \"30\": 1}, \"117\": {\"113\": 3, \"123\": 1, \"39\": 3, \"70\": 1, \"107\": 1, \"117\": 2, \"88\": 1}, \"121\": {\"121\": 3, \"117\": 1, \"70\": 1, \"26\": 1, \"63\": 3, \"123\": 1, \"64\": 1, \"69\": 1}, \"63\": {\"21\": 1, \"123\": 1, \"63\": 8, \"117\": 2}, \"96\": {\"70\": 1, \"96\": 4, \"119\": 2, \"113\": 2, \"45\": 1, \"64\": 1, \"118\": 1}, \"31\": {\"31\": 10, \"92\": 2}, \"13\": {\"92\": 1, \"70\": 1, \"80\": 2, \"74\": 1, \"13\": 2, \"123\": 1, \"26\": 1, \"39\": 1, \"79\": 2}, \"51\": {\"87\": 1, \"25\": 1, \"12\": 1, \"51\": 1, \"94\": 2, \"104\": 1, \"59\": 3, \"83\": 2}, \"56\": {\"14\": 1, \"31\": 1, \"56\": 3, \"110\": 1}, \"87\": {\"87\": 3, \"92\": 1, \"56\": 1, \"9\": 2, \"1\": 1, \"88\": 1, \"31\": 1, \"78\": 1, \"122\": 1}, \"14\": {\"92\": 2, \"38\": 2, \"14\": 2, \"118\": 1, \"80\": 1}, \"48\": {\"96\": 1, \"87\": 1, \"65\": 1, \"7\": 1, \"98\": 2, \"48\": 1, \"81\": 2, \"101\": 1, \"121\": 1, \"79\": 1}, \"25\": {\"25\": 5, \"51\": 1, \"83\": 1, \"66\": 1, \"75\": 1, \"36\": 1, \"6\": 1, \"77\": 1}, \"17\": {\"96\": 1, \"11\": 1, \"114\": 3, \"17\": 1, \"45\": 3, \"120\": 1, \"113\": 1, \"123\": 1}, \"70\": {\"87\": 2, \"28\": 1, \"108\": 1, \"31\": 1, \"76\": 1, \"105\": 1, \"70\": 2, \"99\": 1, \"122\": 1, \"110\": 1}, \"26\": {\"13\": 3, \"81\": 1, \"118\": 1, \"102\": 1, \"78\": 1, \"69\": 1, \"45\": 2}, \"92\": {\"87\": 1, \"92\": 8, \"19\": 1, \"69\": 1, \"89\": 1}, \"45\": {\"92\": 2, \"16\": 1, \"118\": 2, \"45\": 3, \"117\": 1, \"93\": 1, \"58\": 1, \"32\": 1}, \"105\": {\"105\": 6, \"127\": 1, \"34\": 2, \"77\": 1, \"1\": 2}, \"61\": {\"61\": 5, \"0\": 1, \"82\": 1, \"128\": 1, \"96\": 1, \"63\": 2, \"39\": 1}, \"36\": {\"0\": 2, \"36\": 3, \"125\": 1, \"94\": 1, \"15\": 1, \"10\": 1, \"126\": 1, \"72\": 1, \"8\": 1}, \"0\": {\"27\": 1, \"12\": 1, \"73\": 1, \"42\": 1, \"7\": 1, \"15\": 1, \"83\": 2, \"51\": 1, \"30\": 1, \"8\": 1, \"0\": 1}, \"27\": {\"27\": 3, \"127\": 1, \"12\": 1, \"6\": 1}, \"67\": {\"67\": 10, \"18\": 1, \"123\": 1}, \"97\": {\"127\": 1, \"27\": 1, \"30\": 1, \"101\": 1, \"91\": 1, \"97\": 3, \"69\": 1, \"36\": 1, \"65\": 1, \"41\": 1}, \"46\": {\"46\": 3, \"127\": 1, \"57\": 1, \"15\": 1, \"103\": 1, \"60\": 1, \"122\": 1, \"44\": 1}, \"9\": {\"127\": 2, \"9\": 3, \"44\": 1, \"71\": 2, \"77\": 1, \"70\": 1, \"85\": 2}, \"12\": {\"127\": 3, \"12\": 3, \"83\": 1, \"99\": 1, \"71\": 2}, \"18\": {\"18\": 7, \"126\": 1}, \"127\": {\"127\": 3, \"9\": 2, \"35\": 1, \"95\": 1, \"34\": 1, \"65\": 1, \"105\": 1, \"46\": 2}, \"52\": {\"27\": 2, \"30\": 1, \"60\": 1, \"95\": 1, \"91\": 1, \"10\": 1, \"42\": 1, \"99\": 1, \"83\": 1, \"101\": 1, \"4\": 1}, \"54\": {\"54\": 8, \"52\": 1, \"38\": 1}, \"55\": {\"114\": 1, \"55\": 10, \"4\": 1}, \"57\": {\"57\": 9, \"46\": 1, \"124\": 1, \"20\": 1}, \"15\": {\"106\": 2, \"15\": 2, \"7\": 1, \"103\": 1, \"98\": 1, \"24\": 1, \"73\": 1, \"10\": 1, \"8\": 2}, \"74\": {\"74\": 8}, \"5\": {\"114\": 2, \"5\": 5, \"60\": 1, \"46\": 1, \"78\": 1, \"105\": 2}, \"114\": {\"57\": 1, \"108\": 2, \"114\": 5, \"105\": 1, \"60\": 1, \"84\": 2}, \"69\": {\"74\": 2, \"93\": 1, \"33\": 1, \"120\": 1, \"69\": 4, \"109\": 1, \"84\": 1, \"79\": 1}, \"16\": {\"12\": 1, \"38\": 1, \"16\": 4, \"33\": 1, \"118\": 1, \"119\": 1, \"43\": 1, \"96\": 1, \"113\": 1}, \"38\": {\"51\": 1, \"38\": 2, \"106\": 2, \"120\": 1, \"82\": 1, \"16\": 2, \"52\": 2, \"113\": 1}, \"124\": {\"31\": 1, \"80\": 1, \"124\": 2, \"29\": 1, \"111\": 1, \"68\": 1, \"57\": 1, \"4\": 1, \"48\": 1, \"50\": 1, \"99\": 1}, \"125\": {\"94\": 1, \"51\": 1, \"125\": 6, \"41\": 2, \"36\": 1, \"68\": 1}, \"41\": {\"41\": 2, \"80\": 1, \"57\": 1, \"19\": 1, \"48\": 1, \"44\": 1, \"65\": 1}, \"80\": {\"31\": 1, \"80\": 11}, \"82\": {\"82\": 6, \"53\": 2, \"69\": 2, \"16\": 1, \"102\": 1}, \"84\": {\"84\": 4, \"38\": 1, \"102\": 1, \"57\": 1, \"55\": 1, \"109\": 1, \"92\": 1, \"79\": 1, \"116\": 1}, \"93\": {\"120\": 2, \"45\": 2, \"70\": 1, \"32\": 1, \"93\": 1, \"21\": 1, \"53\": 1, \"11\": 1}, \"29\": {\"29\": 7, \"90\": 1, \"34\": 1, \"20\": 1}, \"33\": {\"33\": 6, \"109\": 1, \"115\": 1, \"122\": 2}, \"120\": {\"120\": 12}, \"66\": {\"101\": 1, \"29\": 1, \"66\": 3, \"95\": 1, \"86\": 1, \"35\": 1, \"127\": 1, \"30\": 1}, \"89\": {\"120\": 1, \"124\": 1, \"89\": 7, \"4\": 2, \"79\": 1}, \"101\": {\"77\": 2, \"101\": 3, \"73\": 1, \"111\": 2, \"7\": 2, \"12\": 2}, \"64\": {\"64\": 12}, \"100\": {\"100\": 8, \"1\": 2, \"129\": 1, \"115\": 1}, \"86\": {\"86\": 8, \"60\": 1, \"77\": 1, \"105\": 1, \"103\": 1}, \"60\": {\"60\": 4, \"89\": 1, \"28\": 1, \"32\": 1, \"116\": 1, \"128\": 2, \"76\": 1, \"20\": 1}, \"78\": {\"74\": 1, \"60\": 1, \"78\": 4, \"95\": 1, \"128\": 2, \"87\": 2, \"107\": 1}, \"73\": {\"101\": 1, \"73\": 4, \"104\": 1, \"103\": 1, \"98\": 1, \"10\": 1, \"111\": 1, \"42\": 1, \"38\": 1}, \"19\": {\"4\": 1, \"16\": 1, \"108\": 1, \"19\": 3, \"116\": 1, \"10\": 1, \"49\": 1, \"17\": 1}, \"122\": {\"122\": 2, \"21\": 1, \"110\": 1, \"31\": 1, \"20\": 1, \"32\": 1, \"19\": 2, \"88\": 1, \"28\": 2}, \"4\": {\"122\": 1, \"55\": 2, \"4\": 4, \"83\": 1, \"127\": 1, \"31\": 1, \"110\": 1, \"23\": 1}, \"104\": {\"122\": 1, \"45\": 1, \"104\": 2, \"66\": 1, \"31\": 1, \"1\": 1, \"129\": 1, \"79\": 2}, \"118\": {\"16\": 1, \"113\": 3, \"118\": 5, \"62\": 1, \"79\": 1, \"109\": 1}, \"42\": {\"0\": 1, \"36\": 1, \"91\": 1, \"83\": 1, \"3\": 1, \"42\": 4, \"65\": 1, \"57\": 1, \"72\": 1}, \"83\": {\"83\": 9, \"39\": 1, \"10\": 1, \"21\": 1}, \"91\": {\"42\": 1, \"91\": 4, \"101\": 1, \"57\": 2, \"83\": 1, \"30\": 1, \"98\": 1, \"99\": 1}, \"62\": {\"62\": 8, \"100\": 1, \"1\": 2, \"21\": 1}, \"2\": {\"43\": 4, \"2\": 3, \"33\": 1, \"96\": 1, \"102\": 2, \"79\": 1}, \"1\": {\"1\": 9, \"107\": 1, \"100\": 2}, \"90\": {\"90\": 9, \"19\": 1}, \"34\": {\"42\": 2, \"25\": 1, \"65\": 1, \"89\": 1, \"76\": 1, \"102\": 2, \"53\": 1, \"94\": 1, \"104\": 1, \"107\": 1}, \"75\": {\"75\": 6, \"42\": 1, \"71\": 1, \"105\": 1, \"98\": 1, \"6\": 1, \"69\": 1}, \"81\": {\"81\": 9, \"96\": 2, \"120\": 1}, \"109\": {\"109\": 6, \"118\": 3, \"2\": 1, \"13\": 1, \"38\": 1}, \"103\": {\"103\": 7, \"98\": 1, \"65\": 1, \"3\": 2, \"86\": 1}, \"110\": {\"56\": 1, \"44\": 2, \"84\": 1, \"110\": 3, \"74\": 1, \"20\": 1, \"87\": 1, \"122\": 1, \"23\": 1}, \"71\": {\"9\": 2, \"71\": 3, \"103\": 1, \"72\": 1, \"108\": 1, \"1\": 1, \"0\": 1, \"95\": 1, \"55\": 1}, \"65\": {\"15\": 1, \"65\": 8, \"103\": 1, \"32\": 1, \"7\": 1}, \"99\": {\"99\": 7, \"19\": 1, \"49\": 1, \"110\": 2, \"98\": 1}, \"7\": {\"7\": 6, \"101\": 1, \"5\": 1}, \"98\": {\"98\": 6, \"83\": 2, \"87\": 1, \"108\": 3}, \"68\": {\"103\": 1, \"71\": 1, \"127\": 1, \"83\": 1, \"105\": 1, \"10\": 2, \"73\": 1, \"86\": 1, \"72\": 1, \"30\": 2}, \"24\": {\"103\": 1, \"106\": 1, \"59\": 2, \"24\": 1, \"52\": 1, \"125\": 1, \"77\": 1, \"99\": 1, \"47\": 1, \"0\": 1, \"71\": 1}, \"6\": {\"15\": 1, \"73\": 1, \"101\": 1, \"6\": 4, \"72\": 1, \"25\": 1, \"98\": 1, \"106\": 2}, \"115\": {\"115\": 1, \"100\": 2, \"33\": 2, \"39\": 1, \"16\": 1, \"102\": 1, \"118\": 1, \"129\": 1}, \"40\": {\"40\": 1, \"114\": 1, \"50\": 1, \"1\": 1, \"84\": 2, \"122\": 2}, \"20\": {\"20\": 5, \"80\": 3, \"34\": 2, \"32\": 2}, \"95\": {\"30\": 1, \"127\": 1, \"95\": 3, \"10\": 1, \"91\": 1, \"36\": 1, \"73\": 1, \"117\": 2, \"71\": 1}, \"10\": {\"127\": 1, \"83\": 1, \"99\": 1, \"10\": 1, \"86\": 1, \"77\": 1, \"73\": 1, \"1\": 1, \"111\": 2, \"42\": 2}, \"126\": {\"39\": 2, \"126\": 5, \"88\": 1, \"93\": 1, \"116\": 1, \"109\": 1, \"63\": 1}, \"72\": {\"72\": 6, \"98\": 1, \"57\": 1, \"8\": 1, \"86\": 1}, \"49\": {\"128\": 1, \"72\": 1, \"20\": 3, \"8\": 1, \"65\": 3, \"90\": 2, \"44\": 1}, \"111\": {\"91\": 2, \"98\": 1, \"10\": 1, \"111\": 2, \"3\": 1, \"112\": 1, \"101\": 1, \"52\": 1}, \"37\": {\"37\": 3, \"88\": 1, \"65\": 1, \"98\": 2, \"21\": 1, \"30\": 2}, \"88\": {\"126\": 2, \"86\": 1, \"88\": 2, \"122\": 1, \"29\": 2, \"49\": 2}, \"32\": {\"88\": 2, \"32\": 1, \"93\": 1, \"57\": 1, \"23\": 1, \"13\": 1, \"87\": 1, \"50\": 1, \"45\": 1, \"74\": 1, \"86\": 1}, \"47\": {\"28\": 2, \"95\": 1, \"60\": 1, \"116\": 1, \"47\": 3, \"70\": 1, \"38\": 1, \"99\": 1, \"12\": 1}, \"59\": {\"59\": 10, \"8\": 1, \"30\": 1}, \"23\": {\"23\": 2, \"93\": 1, \"20\": 1, \"13\": 2, \"81\": 2, \"67\": 2}, \"116\": {\"93\": 1, \"32\": 1, \"96\": 2, \"23\": 2, \"68\": 2, \"36\": 1, \"31\": 2, \"88\": 1}, \"85\": {\"49\": 1, \"116\": 1, \"110\": 1, \"99\": 1, \"108\": 2, \"6\": 1, \"128\": 1}, \"8\": {\"8\": 6, \"31\": 1, \"72\": 1}, \"50\": {\"87\": 2, \"50\": 1, \"78\": 1, \"1\": 2}}}, \"per_domain_accuracy\": {\"ORACLE.run1_26\": {\"accuracy\": 0.58515625, \"source?\": true}, \"ORACLE.run1_44\": {\"accuracy\": 0.6815104166666667, \"source?\": true}, \"ORACLE.run1_50\": {\"accuracy\": 0.7864583333333334, \"source?\": true}, \"ORACLE.run1_38\": {\"accuracy\": 0.7291666666666666, \"source?\": true}, \"ORACLE.run1_20\": {\"accuracy\": 0.7393229166666667, \"source?\": true}, \"ORACLE.run1_14\": {\"accuracy\": 0.8346354166666666, \"source?\": true}, \"ORACLE.run1_32\": {\"accuracy\": 0.7486979166666666, \"source?\": true}, \"ORACLE.run1_8\": {\"accuracy\": 0.7721354166666666, \"source?\": true}, \"W_A_4\": {\"accuracy\": 0.37367021276595747, \"source?\": false}, \"C_A_5\": {\"accuracy\": 0.796875, \"source?\": false}, \"W_A_1\": {\"accuracy\": 0.45991847826086957, \"source?\": false}, \"C_A_1\": {\"accuracy\": 0.8140625, \"source?\": false}, \"W_A_2\": {\"accuracy\": 0.40226063829787234, \"source?\": false}, \"C_A_3\": {\"accuracy\": 0.778125, \"source?\": false}, \"C_A_4\": {\"accuracy\": 0.80625, \"source?\": false}, \"C_A_2\": {\"accuracy\": 0.775, \"source?\": false}, \"W_A_3\": {\"accuracy\": 0.39741847826086957, \"source?\": false}}}, \"history\": {\"epoch_indices\": [1, 2, 3, 4, 5, 6, 7, 8], \"train_label_loss\": [0.9912546192561942, 3.8599381053908948, 0.8764433196923208, 0.7352851662274805, 0.6462067821683983, 0.5748231357584397, 0.5518098467922149, 0.508501627762425], \"source_val_label_loss\": [83.66011810302734, 0.9802783131599426, 0.8055583834648132, 0.7490237951278687, 0.5879740715026855, 0.6152229905128479, 0.5421872735023499, 0.5894862413406372], \"target_val_label_loss\": [25355.576171875, 1271.8233642578125, 1280.1932373046875, 206.02700805664062, 1621.6634521484375, 3016.998046875, 2235.590576171875, 4359.73095703125], \"source_val_acc_label\": [0.640625, 0.64013671875, 0.7131184895833333, 0.7346354166666667, 0.79345703125, 0.78896484375, 0.8060221354166667, 0.79892578125], \"target_val_acc_label\": [0.41586538461538464, 0.47148164335664333, 0.5068837412587412, 0.5430506993006993, 0.5571459790209791, 0.5229458041958042, 0.5277534965034965, 0.5062281468531469]}, \"dataset_metrics\": {\"source\": {\"train\": {\"n_unique_x\": 179200, \"n_unique_y\": 16, \"n_batch/episode\": 6720}, \"val\": {\"n_unique_x\": 38400, \"n_unique_y\": 16, \"n_batch/episode\": 960}, \"test\": {\"n_unique_x\": 38400, \"n_unique_y\": 16, \"n_batch/episode\": 960}}, \"target\": {\"train\": {\"n_unique_x\": 56700, \"n_unique_y\": 130, \"n_batch/episode\": 2080}, \"val\": {\"n_unique_x\": 12104, \"n_unique_y\": 130, \"n_batch/episode\": 286}, \"test\": {\"n_unique_x\": 12104, \"n_unique_y\": 130, \"n_batch/episode\": 286}}}}'"
      ]
     },
     "execution_count": 29,
     "metadata": {},
     "output_type": "execute_result"
    }
   ],
   "source": [
    "json.dumps(experiment)"
   ]
  }
 ],
 "metadata": {
  "celltoolbar": "Tags",
  "kernelspec": {
   "display_name": "Python 3 (ipykernel)",
   "language": "python",
   "name": "python3"
  },
  "language_info": {
   "codemirror_mode": {
    "name": "ipython",
    "version": 3
   },
   "file_extension": ".py",
   "mimetype": "text/x-python",
   "name": "python",
   "nbconvert_exporter": "python",
   "pygments_lexer": "ipython3",
   "version": "3.8.10"
  },
  "papermill": {
   "default_parameters": {},
   "duration": 1387.385034,
   "end_time": "2022-03-18T19:23:51.365483",
   "environment_variables": {},
   "exception": null,
   "input_path": "/mnt/wd500GB/CSC500/csc500-main/csc500-notebooks/templates/tl_ptn_template.ipynb",
   "output_path": "trial.ipynb",
   "parameters": {
    "parameters": {
     "BEST_MODEL_PATH": "./best_model.pth",
     "NUM_LOGS_PER_EPOCH": 10,
     "criteria_for_best": "target_loss",
     "dataset_seed": 7,
     "datasets": [
      {
       "domain_prefix": "C_A_",
       "domains": [
        1,
        2,
        3,
        4,
        5
       ],
       "episode_transforms": [],
       "labels": [
        "1-10.",
        "1-11.",
        "1-15.",
        "1-16.",
        "1-17.",
        "1-18.",
        "1-19.",
        "10-4.",
        "10-7.",
        "11-1.",
        "11-14.",
        "11-17.",
        "11-20.",
        "11-7.",
        "13-20.",
        "13-8.",
        "14-10.",
        "14-11.",
        "14-14.",
        "14-7.",
        "15-1.",
        "15-20.",
        "16-1.",
        "16-16.",
        "17-10.",
        "17-11.",
        "17-2.",
        "19-1.",
        "19-16.",
        "19-19.",
        "19-20.",
        "19-3.",
        "2-10.",
        "2-11.",
        "2-17.",
        "2-18.",
        "2-20.",
        "2-3.",
        "2-4.",
        "2-5.",
        "2-6.",
        "2-7.",
        "2-8.",
        "3-13.",
        "3-18.",
        "3-3.",
        "4-1.",
        "4-10.",
        "4-11.",
        "4-19.",
        "5-5.",
        "6-15.",
        "7-10.",
        "7-14.",
        "8-18.",
        "8-20.",
        "8-3.",
        "8-8."
       ],
       "num_examples_per_domain_per_label": 100,
       "pickle_path": "/mnt/wd500GB/CSC500/csc500-main/datasets/cores.stratified_ds.2022A.pkl",
       "source_or_target_dataset": "target",
       "x_transforms": [
        "unit_mag",
        "take_200"
       ]
      },
      {
       "domain_prefix": "W_A_",
       "domains": [
        1,
        2,
        3,
        4
       ],
       "episode_transforms": [],
       "labels": [
        "1-10",
        "1-12",
        "1-14",
        "1-16",
        "1-18",
        "1-19",
        "1-8",
        "10-11",
        "10-17",
        "10-4",
        "10-7",
        "11-1",
        "11-10",
        "11-19",
        "11-20",
        "11-4",
        "11-7",
        "12-19",
        "12-20",
        "12-7",
        "13-14",
        "13-18",
        "13-19",
        "13-20",
        "13-3",
        "13-7",
        "14-10",
        "14-11",
        "14-12",
        "14-13",
        "14-14",
        "14-19",
        "14-20",
        "14-7",
        "14-8",
        "14-9",
        "15-1",
        "15-19",
        "15-6",
        "16-1",
        "16-16",
        "16-19",
        "16-20",
        "17-10",
        "17-11",
        "18-1",
        "18-10",
        "18-11",
        "18-12",
        "18-13",
        "18-14",
        "18-15",
        "18-16",
        "18-17",
        "18-19",
        "18-2",
        "18-20",
        "18-4",
        "18-5",
        "18-7",
        "18-8",
        "18-9",
        "19-1",
        "19-10",
        "19-11",
        "19-12",
        "19-13",
        "19-14",
        "19-15",
        "19-19",
        "19-2",
        "19-20",
        "19-3",
        "19-4",
        "19-6",
        "19-7",
        "19-8",
        "19-9",
        "2-1",
        "2-13",
        "2-15",
        "2-3",
        "2-4",
        "2-5",
        "2-6",
        "2-7",
        "2-8",
        "20-1",
        "20-12",
        "20-14",
        "20-15",
        "20-16",
        "20-18",
        "20-19",
        "20-20",
        "20-3",
        "20-4",
        "20-5",
        "20-7",
        "20-8",
        "3-1",
        "3-13",
        "3-18",
        "3-2",
        "3-8",
        "4-1",
        "4-10",
        "4-11",
        "5-1",
        "5-5",
        "6-1",
        "6-15",
        "6-6",
        "7-10",
        "7-11",
        "7-12",
        "7-13",
        "7-14",
        "7-7",
        "7-8",
        "7-9",
        "8-1",
        "8-13",
        "8-14",
        "8-18",
        "8-20",
        "8-3",
        "8-8",
        "9-1",
        "9-7"
       ],
       "num_examples_per_domain_per_label": 100,
       "pickle_path": "/mnt/wd500GB/CSC500/csc500-main/datasets/wisig.node3-19.stratified_ds.2022A.pkl",
       "source_or_target_dataset": "target",
       "x_transforms": [
        "unit_mag",
        "take_200"
       ]
      },
      {
       "domain_prefix": "ORACLE.run1_",
       "domains": [
        32,
        38,
        8,
        44,
        14,
        50,
        20,
        26
       ],
       "episode_transforms": [],
       "labels": [
        "3123D52",
        "3123D65",
        "3123D79",
        "3123D80",
        "3123D54",
        "3123D70",
        "3123D7B",
        "3123D89",
        "3123D58",
        "3123D76",
        "3123D7D",
        "3123EFE",
        "3123D64",
        "3123D78",
        "3123D7E",
        "3124E4A"
       ],
       "num_examples_per_domain_per_label": 2000,
       "pickle_path": "/mnt/wd500GB/CSC500/csc500-main/datasets/oracle.Run1_framed_2000Examples_stratified_ds.2022A.pkl",
       "source_or_target_dataset": "source",
       "x_transforms": [
        "unit_mag",
        "take_200",
        "resample_20Msps_to_25Msps"
       ]
      }
     ],
     "device": "cuda",
     "experiment_name": "tl_3A:oracle.run1.framed -> cores+wisig",
     "lr": 0.001,
     "n_epoch": 50,
     "n_query": 2,
     "n_shot": 3,
     "n_way": 16,
     "patience": 3,
     "seed": 7,
     "test_k_factor": 2,
     "torch_default_dtype": "torch.float32",
     "train_k_factor": 3,
     "val_k_factor": 2,
     "x_net": [
      {
       "class": "nnReshape",
       "kargs": {
        "shape": [
         -1,
         1,
         2,
         200
        ]
       }
      },
      {
       "class": "Conv2d",
       "kargs": {
        "bias": false,
        "in_channels": 1,
        "kernel_size": [
         1,
         7
        ],
        "out_channels": 256,
        "padding": [
         0,
         3
        ]
       }
      },
      {
       "class": "ReLU",
       "kargs": {
        "inplace": true
       }
      },
      {
       "class": "BatchNorm2d",
       "kargs": {
        "num_features": 256
       }
      },
      {
       "class": "Conv2d",
       "kargs": {
        "bias": true,
        "in_channels": 256,
        "kernel_size": [
         2,
         7
        ],
        "out_channels": 80,
        "padding": [
         0,
         3
        ]
       }
      },
      {
       "class": "ReLU",
       "kargs": {
        "inplace": true
       }
      },
      {
       "class": "BatchNorm2d",
       "kargs": {
        "num_features": 80
       }
      },
      {
       "class": "Flatten",
       "kargs": {}
      },
      {
       "class": "Linear",
       "kargs": {
        "in_features": 16000,
        "out_features": 256
       }
      },
      {
       "class": "ReLU",
       "kargs": {
        "inplace": true
       }
      },
      {
       "class": "BatchNorm1d",
       "kargs": {
        "num_features": 256
       }
      },
      {
       "class": "Linear",
       "kargs": {
        "in_features": 256,
        "out_features": 256
       }
      }
     ],
     "x_shape": [
      2,
      200
     ]
    }
   },
   "start_time": "2022-03-18T19:00:43.980449",
   "version": "2.3.4"
  }
 },
 "nbformat": 4,
 "nbformat_minor": 5
}