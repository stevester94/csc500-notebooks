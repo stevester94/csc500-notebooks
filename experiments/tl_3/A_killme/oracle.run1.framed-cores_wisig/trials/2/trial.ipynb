{
 "cells": [
  {
   "cell_type": "markdown",
   "id": "9fea5f46",
   "metadata": {
    "papermill": {
     "duration": 0.017096,
     "end_time": "2022-03-18T16:07:59.552266",
     "exception": false,
     "start_time": "2022-03-18T16:07:59.535170",
     "status": "completed"
    },
    "tags": []
   },
   "source": [
    "# Transfer Learning Template"
   ]
  },
  {
   "cell_type": "code",
   "execution_count": 1,
   "id": "0902182a",
   "metadata": {
    "execution": {
     "iopub.execute_input": "2022-03-18T16:07:59.591902Z",
     "iopub.status.busy": "2022-03-18T16:07:59.591423Z",
     "iopub.status.idle": "2022-03-18T16:08:00.481216Z",
     "shell.execute_reply": "2022-03-18T16:08:00.480915Z"
    },
    "papermill": {
     "duration": 0.916305,
     "end_time": "2022-03-18T16:08:00.481284",
     "exception": false,
     "start_time": "2022-03-18T16:07:59.564979",
     "status": "completed"
    },
    "tags": []
   },
   "outputs": [],
   "source": [
    "%load_ext autoreload\n",
    "%autoreload 2\n",
    "%matplotlib inline\n",
    "\n",
    "    \n",
    "import os, json, sys, time, random\n",
    "import numpy as np\n",
    "import torch\n",
    "from torch.optim import Adam\n",
    "from  easydict import EasyDict\n",
    "import matplotlib.pyplot as plt\n",
    "\n",
    "from steves_models.steves_ptn import Steves_Prototypical_Network\n",
    "\n",
    "from steves_utils.lazy_iterable_wrapper import Lazy_Iterable_Wrapper\n",
    "from steves_utils.iterable_aggregator import Iterable_Aggregator\n",
    "from steves_utils.ptn_train_eval_test_jig import  PTN_Train_Eval_Test_Jig\n",
    "from steves_utils.torch_sequential_builder import build_sequential\n",
    "from steves_utils.torch_utils import get_dataset_metrics, ptn_confusion_by_domain_over_dataloader\n",
    "from steves_utils.utils_v2 import (per_domain_accuracy_from_confusion, get_datasets_base_path)\n",
    "from steves_utils.PTN.utils import independent_accuracy_assesment\n",
    "\n",
    "from torch.utils.data import DataLoader\n",
    "\n",
    "from steves_utils.stratified_dataset.episodic_accessor import Episodic_Accessor_Factory\n",
    "\n",
    "from steves_utils.ptn_do_report import (\n",
    "    get_loss_curve,\n",
    "    get_results_table,\n",
    "    get_parameters_table,\n",
    "    get_domain_accuracies,\n",
    ")\n",
    "\n",
    "from steves_utils.transforms import get_chained_transform"
   ]
  },
  {
   "cell_type": "markdown",
   "id": "41c840b4",
   "metadata": {
    "papermill": {
     "duration": 0.012681,
     "end_time": "2022-03-18T16:08:00.507141",
     "exception": false,
     "start_time": "2022-03-18T16:08:00.494460",
     "status": "completed"
    },
    "tags": []
   },
   "source": [
    "# Allowed Parameters\n",
    "These are allowed parameters, not defaults\n",
    "Each of these values need to be present in the injected parameters (the notebook will raise an exception if they are not present)\n",
    "\n",
    "Papermill uses the cell tag \"parameters\" to inject the real parameters below this cell.\n",
    "Enable tags to see what I mean"
   ]
  },
  {
   "cell_type": "code",
   "execution_count": 2,
   "id": "fd44eb83",
   "metadata": {
    "execution": {
     "iopub.execute_input": "2022-03-18T16:08:00.534304Z",
     "iopub.status.busy": "2022-03-18T16:08:00.534037Z",
     "iopub.status.idle": "2022-03-18T16:08:00.545948Z",
     "shell.execute_reply": "2022-03-18T16:08:00.545686Z"
    },
    "papermill": {
     "duration": 0.026191,
     "end_time": "2022-03-18T16:08:00.546005",
     "exception": false,
     "start_time": "2022-03-18T16:08:00.519814",
     "status": "completed"
    },
    "tags": []
   },
   "outputs": [],
   "source": [
    "required_parameters = {\n",
    "    \"experiment_name\",\n",
    "    \"lr\",\n",
    "    \"device\",\n",
    "    \"seed\",\n",
    "    \"dataset_seed\",\n",
    "    \"n_shot\",\n",
    "    \"n_query\",\n",
    "    \"n_way\",\n",
    "    \"train_k_factor\",\n",
    "    \"val_k_factor\",\n",
    "    \"test_k_factor\",\n",
    "    \"n_epoch\",\n",
    "    \"patience\",\n",
    "    \"criteria_for_best\",\n",
    "    \"x_net\",\n",
    "    \"datasets\",\n",
    "    \"torch_default_dtype\",\n",
    "    \"NUM_LOGS_PER_EPOCH\",\n",
    "    \"BEST_MODEL_PATH\",\n",
    "    \"x_shape\",\n",
    "}"
   ]
  },
  {
   "cell_type": "code",
   "execution_count": 3,
   "id": "fa3f0049",
   "metadata": {
    "execution": {
     "iopub.execute_input": "2022-03-18T16:08:00.581305Z",
     "iopub.status.busy": "2022-03-18T16:08:00.581020Z",
     "iopub.status.idle": "2022-03-18T16:08:00.593695Z",
     "shell.execute_reply": "2022-03-18T16:08:00.593243Z"
    },
    "papermill": {
     "duration": 0.031899,
     "end_time": "2022-03-18T16:08:00.593800",
     "exception": false,
     "start_time": "2022-03-18T16:08:00.561901",
     "status": "completed"
    },
    "tags": [
     "parameters"
    ]
   },
   "outputs": [],
   "source": [
    "from steves_utils.CORES.utils import (\n",
    "    ALL_NODES,\n",
    "    ALL_NODES_MINIMUM_1000_EXAMPLES,\n",
    "    ALL_DAYS\n",
    ")\n",
    "\n",
    "from steves_utils.ORACLE.utils_v2 import (\n",
    "    ALL_DISTANCES_FEET_NARROWED,\n",
    "    ALL_RUNS,\n",
    "    ALL_SERIAL_NUMBERS,\n",
    ")\n",
    "\n",
    "standalone_parameters = {}\n",
    "standalone_parameters[\"experiment_name\"] = \"STANDALONE PTN\"\n",
    "standalone_parameters[\"lr\"] = 0.001\n",
    "standalone_parameters[\"device\"] = \"cuda\"\n",
    "\n",
    "standalone_parameters[\"seed\"] = 1337\n",
    "standalone_parameters[\"dataset_seed\"] = 1337\n",
    "\n",
    "standalone_parameters[\"n_way\"] = 8\n",
    "standalone_parameters[\"n_shot\"] = 3\n",
    "standalone_parameters[\"n_query\"]  = 2\n",
    "standalone_parameters[\"train_k_factor\"] = 1\n",
    "standalone_parameters[\"val_k_factor\"] = 2\n",
    "standalone_parameters[\"test_k_factor\"] = 2\n",
    "\n",
    "\n",
    "standalone_parameters[\"n_epoch\"] = 50\n",
    "\n",
    "standalone_parameters[\"patience\"] = 10\n",
    "standalone_parameters[\"criteria_for_best\"] = \"source_loss\"\n",
    "\n",
    "standalone_parameters[\"datasets\"] = [\n",
    "    {\n",
    "        \"labels\": ALL_SERIAL_NUMBERS,\n",
    "        \"domains\": ALL_DISTANCES_FEET_NARROWED,\n",
    "        \"num_examples_per_domain_per_label\": 100,\n",
    "        \"pickle_path\": os.path.join(get_datasets_base_path(), \"oracle.Run1_framed_2000Examples_stratified_ds.2022A.pkl\"),\n",
    "        \"source_or_target_dataset\": \"source\",\n",
    "        \"x_transforms\": [\"unit_mag\", \"minus_two\"],\n",
    "        \"episode_transforms\": [],\n",
    "        \"domain_prefix\": \"ORACLE_\"\n",
    "    },\n",
    "    {\n",
    "        \"labels\": ALL_NODES,\n",
    "        \"domains\": ALL_DAYS,\n",
    "        \"num_examples_per_domain_per_label\": 100,\n",
    "        \"pickle_path\": os.path.join(get_datasets_base_path(), \"cores.stratified_ds.2022A.pkl\"),\n",
    "        \"source_or_target_dataset\": \"target\",\n",
    "        \"x_transforms\": [\"unit_power\", \"times_zero\"],\n",
    "        \"episode_transforms\": [],\n",
    "        \"domain_prefix\": \"CORES_\"\n",
    "    }   \n",
    "]\n",
    "\n",
    "standalone_parameters[\"torch_default_dtype\"] = \"torch.float32\" \n",
    "\n",
    "\n",
    "\n",
    "standalone_parameters[\"x_net\"] =     [\n",
    "    {\"class\": \"nnReshape\", \"kargs\": {\"shape\":[-1, 1, 2, 256]}},\n",
    "    {\"class\": \"Conv2d\", \"kargs\": { \"in_channels\":1, \"out_channels\":256, \"kernel_size\":(1,7), \"bias\":False, \"padding\":(0,3), },},\n",
    "    {\"class\": \"ReLU\", \"kargs\": {\"inplace\": True}},\n",
    "    {\"class\": \"BatchNorm2d\", \"kargs\": {\"num_features\":256}},\n",
    "\n",
    "    {\"class\": \"Conv2d\", \"kargs\": { \"in_channels\":256, \"out_channels\":80, \"kernel_size\":(2,7), \"bias\":True, \"padding\":(0,3), },},\n",
    "    {\"class\": \"ReLU\", \"kargs\": {\"inplace\": True}},\n",
    "    {\"class\": \"BatchNorm2d\", \"kargs\": {\"num_features\":80}},\n",
    "    {\"class\": \"Flatten\", \"kargs\": {}},\n",
    "\n",
    "    {\"class\": \"Linear\", \"kargs\": {\"in_features\": 80*256, \"out_features\": 256}}, # 80 units per IQ pair\n",
    "    {\"class\": \"ReLU\", \"kargs\": {\"inplace\": True}},\n",
    "    {\"class\": \"BatchNorm1d\", \"kargs\": {\"num_features\":256}},\n",
    "\n",
    "    {\"class\": \"Linear\", \"kargs\": {\"in_features\": 256, \"out_features\": 256}},\n",
    "]\n",
    "\n",
    "# Parameters relevant to results\n",
    "# These parameters will basically never need to change\n",
    "standalone_parameters[\"NUM_LOGS_PER_EPOCH\"] = 10\n",
    "standalone_parameters[\"BEST_MODEL_PATH\"] = \"./best_model.pth\"\n",
    "\n",
    "\n",
    "\n",
    "\n"
   ]
  },
  {
   "cell_type": "code",
   "execution_count": 4,
   "id": "89e0fbb5",
   "metadata": {
    "execution": {
     "iopub.execute_input": "2022-03-18T16:08:00.634578Z",
     "iopub.status.busy": "2022-03-18T16:08:00.634202Z",
     "iopub.status.idle": "2022-03-18T16:08:00.648023Z",
     "shell.execute_reply": "2022-03-18T16:08:00.647612Z"
    },
    "papermill": {
     "duration": 0.036089,
     "end_time": "2022-03-18T16:08:00.648128",
     "exception": false,
     "start_time": "2022-03-18T16:08:00.612039",
     "status": "completed"
    },
    "tags": [
     "injected-parameters"
    ]
   },
   "outputs": [],
   "source": [
    "# Parameters\n",
    "parameters = {\n",
    "    \"experiment_name\": \"tl_3A:oracle.run1.framed -> cores+wisig\",\n",
    "    \"device\": \"cuda\",\n",
    "    \"lr\": 0.001,\n",
    "    \"seed\": 1337,\n",
    "    \"dataset_seed\": 1337,\n",
    "    \"x_shape\": [2, 200],\n",
    "    \"n_shot\": 3,\n",
    "    \"n_query\": 2,\n",
    "    \"train_k_factor\": 3,\n",
    "    \"val_k_factor\": 2,\n",
    "    \"test_k_factor\": 2,\n",
    "    \"torch_default_dtype\": \"torch.float32\",\n",
    "    \"n_epoch\": 50,\n",
    "    \"patience\": 3,\n",
    "    \"criteria_for_best\": \"target_loss\",\n",
    "    \"x_net\": [\n",
    "        {\"class\": \"nnReshape\", \"kargs\": {\"shape\": [-1, 1, 2, 200]}},\n",
    "        {\n",
    "            \"class\": \"Conv2d\",\n",
    "            \"kargs\": {\n",
    "                \"in_channels\": 1,\n",
    "                \"out_channels\": 256,\n",
    "                \"kernel_size\": [1, 7],\n",
    "                \"bias\": False,\n",
    "                \"padding\": [0, 3],\n",
    "            },\n",
    "        },\n",
    "        {\"class\": \"ReLU\", \"kargs\": {\"inplace\": True}},\n",
    "        {\"class\": \"BatchNorm2d\", \"kargs\": {\"num_features\": 256}},\n",
    "        {\n",
    "            \"class\": \"Conv2d\",\n",
    "            \"kargs\": {\n",
    "                \"in_channels\": 256,\n",
    "                \"out_channels\": 80,\n",
    "                \"kernel_size\": [2, 7],\n",
    "                \"bias\": True,\n",
    "                \"padding\": [0, 3],\n",
    "            },\n",
    "        },\n",
    "        {\"class\": \"ReLU\", \"kargs\": {\"inplace\": True}},\n",
    "        {\"class\": \"BatchNorm2d\", \"kargs\": {\"num_features\": 80}},\n",
    "        {\"class\": \"Flatten\", \"kargs\": {}},\n",
    "        {\"class\": \"Linear\", \"kargs\": {\"in_features\": 16000, \"out_features\": 256}},\n",
    "        {\"class\": \"ReLU\", \"kargs\": {\"inplace\": True}},\n",
    "        {\"class\": \"BatchNorm1d\", \"kargs\": {\"num_features\": 256}},\n",
    "        {\"class\": \"Linear\", \"kargs\": {\"in_features\": 256, \"out_features\": 256}},\n",
    "    ],\n",
    "    \"NUM_LOGS_PER_EPOCH\": 10,\n",
    "    \"BEST_MODEL_PATH\": \"./best_model.pth\",\n",
    "    \"n_way\": 16,\n",
    "    \"datasets\": [\n",
    "        {\n",
    "            \"labels\": [\n",
    "                \"1-10.\",\n",
    "                \"1-11.\",\n",
    "                \"1-15.\",\n",
    "                \"1-16.\",\n",
    "                \"1-17.\",\n",
    "                \"1-18.\",\n",
    "                \"1-19.\",\n",
    "                \"10-4.\",\n",
    "                \"10-7.\",\n",
    "                \"11-1.\",\n",
    "                \"11-14.\",\n",
    "                \"11-17.\",\n",
    "                \"11-20.\",\n",
    "                \"11-7.\",\n",
    "                \"13-20.\",\n",
    "                \"13-8.\",\n",
    "                \"14-10.\",\n",
    "                \"14-11.\",\n",
    "                \"14-14.\",\n",
    "                \"14-7.\",\n",
    "                \"15-1.\",\n",
    "                \"15-20.\",\n",
    "                \"16-1.\",\n",
    "                \"16-16.\",\n",
    "                \"17-10.\",\n",
    "                \"17-11.\",\n",
    "                \"17-2.\",\n",
    "                \"19-1.\",\n",
    "                \"19-16.\",\n",
    "                \"19-19.\",\n",
    "                \"19-20.\",\n",
    "                \"19-3.\",\n",
    "                \"2-10.\",\n",
    "                \"2-11.\",\n",
    "                \"2-17.\",\n",
    "                \"2-18.\",\n",
    "                \"2-20.\",\n",
    "                \"2-3.\",\n",
    "                \"2-4.\",\n",
    "                \"2-5.\",\n",
    "                \"2-6.\",\n",
    "                \"2-7.\",\n",
    "                \"2-8.\",\n",
    "                \"3-13.\",\n",
    "                \"3-18.\",\n",
    "                \"3-3.\",\n",
    "                \"4-1.\",\n",
    "                \"4-10.\",\n",
    "                \"4-11.\",\n",
    "                \"4-19.\",\n",
    "                \"5-5.\",\n",
    "                \"6-15.\",\n",
    "                \"7-10.\",\n",
    "                \"7-14.\",\n",
    "                \"8-18.\",\n",
    "                \"8-20.\",\n",
    "                \"8-3.\",\n",
    "                \"8-8.\",\n",
    "            ],\n",
    "            \"domains\": [1, 2, 3, 4, 5],\n",
    "            \"num_examples_per_domain_per_label\": 100,\n",
    "            \"pickle_path\": \"/mnt/wd500GB/CSC500/csc500-main/datasets/cores.stratified_ds.2022A.pkl\",\n",
    "            \"source_or_target_dataset\": \"target\",\n",
    "            \"x_transforms\": [\"take_200\"],\n",
    "            \"episode_transforms\": [],\n",
    "            \"domain_prefix\": \"C_A_\",\n",
    "        },\n",
    "        {\n",
    "            \"labels\": [\n",
    "                \"1-10\",\n",
    "                \"1-12\",\n",
    "                \"1-14\",\n",
    "                \"1-16\",\n",
    "                \"1-18\",\n",
    "                \"1-19\",\n",
    "                \"1-8\",\n",
    "                \"10-11\",\n",
    "                \"10-17\",\n",
    "                \"10-4\",\n",
    "                \"10-7\",\n",
    "                \"11-1\",\n",
    "                \"11-10\",\n",
    "                \"11-19\",\n",
    "                \"11-20\",\n",
    "                \"11-4\",\n",
    "                \"11-7\",\n",
    "                \"12-19\",\n",
    "                \"12-20\",\n",
    "                \"12-7\",\n",
    "                \"13-14\",\n",
    "                \"13-18\",\n",
    "                \"13-19\",\n",
    "                \"13-20\",\n",
    "                \"13-3\",\n",
    "                \"13-7\",\n",
    "                \"14-10\",\n",
    "                \"14-11\",\n",
    "                \"14-12\",\n",
    "                \"14-13\",\n",
    "                \"14-14\",\n",
    "                \"14-19\",\n",
    "                \"14-20\",\n",
    "                \"14-7\",\n",
    "                \"14-8\",\n",
    "                \"14-9\",\n",
    "                \"15-1\",\n",
    "                \"15-19\",\n",
    "                \"15-6\",\n",
    "                \"16-1\",\n",
    "                \"16-16\",\n",
    "                \"16-19\",\n",
    "                \"16-20\",\n",
    "                \"17-10\",\n",
    "                \"17-11\",\n",
    "                \"18-1\",\n",
    "                \"18-10\",\n",
    "                \"18-11\",\n",
    "                \"18-12\",\n",
    "                \"18-13\",\n",
    "                \"18-14\",\n",
    "                \"18-15\",\n",
    "                \"18-16\",\n",
    "                \"18-17\",\n",
    "                \"18-19\",\n",
    "                \"18-2\",\n",
    "                \"18-20\",\n",
    "                \"18-4\",\n",
    "                \"18-5\",\n",
    "                \"18-7\",\n",
    "                \"18-8\",\n",
    "                \"18-9\",\n",
    "                \"19-1\",\n",
    "                \"19-10\",\n",
    "                \"19-11\",\n",
    "                \"19-12\",\n",
    "                \"19-13\",\n",
    "                \"19-14\",\n",
    "                \"19-15\",\n",
    "                \"19-19\",\n",
    "                \"19-2\",\n",
    "                \"19-20\",\n",
    "                \"19-3\",\n",
    "                \"19-4\",\n",
    "                \"19-6\",\n",
    "                \"19-7\",\n",
    "                \"19-8\",\n",
    "                \"19-9\",\n",
    "                \"2-1\",\n",
    "                \"2-13\",\n",
    "                \"2-15\",\n",
    "                \"2-3\",\n",
    "                \"2-4\",\n",
    "                \"2-5\",\n",
    "                \"2-6\",\n",
    "                \"2-7\",\n",
    "                \"2-8\",\n",
    "                \"20-1\",\n",
    "                \"20-12\",\n",
    "                \"20-14\",\n",
    "                \"20-15\",\n",
    "                \"20-16\",\n",
    "                \"20-18\",\n",
    "                \"20-19\",\n",
    "                \"20-20\",\n",
    "                \"20-3\",\n",
    "                \"20-4\",\n",
    "                \"20-5\",\n",
    "                \"20-7\",\n",
    "                \"20-8\",\n",
    "                \"3-1\",\n",
    "                \"3-13\",\n",
    "                \"3-18\",\n",
    "                \"3-2\",\n",
    "                \"3-8\",\n",
    "                \"4-1\",\n",
    "                \"4-10\",\n",
    "                \"4-11\",\n",
    "                \"5-1\",\n",
    "                \"5-5\",\n",
    "                \"6-1\",\n",
    "                \"6-15\",\n",
    "                \"6-6\",\n",
    "                \"7-10\",\n",
    "                \"7-11\",\n",
    "                \"7-12\",\n",
    "                \"7-13\",\n",
    "                \"7-14\",\n",
    "                \"7-7\",\n",
    "                \"7-8\",\n",
    "                \"7-9\",\n",
    "                \"8-1\",\n",
    "                \"8-13\",\n",
    "                \"8-14\",\n",
    "                \"8-18\",\n",
    "                \"8-20\",\n",
    "                \"8-3\",\n",
    "                \"8-8\",\n",
    "                \"9-1\",\n",
    "                \"9-7\",\n",
    "            ],\n",
    "            \"domains\": [1, 2, 3, 4],\n",
    "            \"num_examples_per_domain_per_label\": 100,\n",
    "            \"pickle_path\": \"/mnt/wd500GB/CSC500/csc500-main/datasets/wisig.node3-19.stratified_ds.2022A.pkl\",\n",
    "            \"source_or_target_dataset\": \"target\",\n",
    "            \"x_transforms\": [\"take_200\"],\n",
    "            \"episode_transforms\": [],\n",
    "            \"domain_prefix\": \"W_A_\",\n",
    "        },\n",
    "        {\n",
    "            \"labels\": [\n",
    "                \"3123D52\",\n",
    "                \"3123D65\",\n",
    "                \"3123D79\",\n",
    "                \"3123D80\",\n",
    "                \"3123D54\",\n",
    "                \"3123D70\",\n",
    "                \"3123D7B\",\n",
    "                \"3123D89\",\n",
    "                \"3123D58\",\n",
    "                \"3123D76\",\n",
    "                \"3123D7D\",\n",
    "                \"3123EFE\",\n",
    "                \"3123D64\",\n",
    "                \"3123D78\",\n",
    "                \"3123D7E\",\n",
    "                \"3124E4A\",\n",
    "            ],\n",
    "            \"domains\": [32, 38, 8, 44, 14, 50, 20, 26],\n",
    "            \"num_examples_per_domain_per_label\": 2000,\n",
    "            \"pickle_path\": \"/mnt/wd500GB/CSC500/csc500-main/datasets/oracle.Run1_framed_2000Examples_stratified_ds.2022A.pkl\",\n",
    "            \"source_or_target_dataset\": \"source\",\n",
    "            \"x_transforms\": [\"take_200\", \"resample_20Msps_to_25Msps\"],\n",
    "            \"episode_transforms\": [],\n",
    "            \"domain_prefix\": \"ORACLE.run1_\",\n",
    "        },\n",
    "    ],\n",
    "}\n"
   ]
  },
  {
   "cell_type": "code",
   "execution_count": 5,
   "id": "8fa1cc33",
   "metadata": {
    "execution": {
     "iopub.execute_input": "2022-03-18T16:08:00.681950Z",
     "iopub.status.busy": "2022-03-18T16:08:00.681697Z",
     "iopub.status.idle": "2022-03-18T16:08:00.693051Z",
     "shell.execute_reply": "2022-03-18T16:08:00.693427Z"
    },
    "papermill": {
     "duration": 0.027515,
     "end_time": "2022-03-18T16:08:00.693551",
     "exception": false,
     "start_time": "2022-03-18T16:08:00.666036",
     "status": "completed"
    },
    "tags": []
   },
   "outputs": [],
   "source": [
    "# Set this to True if you want to run this template directly\n",
    "STANDALONE = False\n",
    "if STANDALONE:\n",
    "    print(\"parameters not injected, running with standalone_parameters\")\n",
    "    parameters = standalone_parameters\n",
    "\n",
    "if not 'parameters' in locals() and not 'parameters' in globals():\n",
    "    raise Exception(\"Parameter injection failed\")\n",
    "\n",
    "#Use an easy dict for all the parameters\n",
    "p = EasyDict(parameters)\n",
    "\n",
    "if \"x_shape\" not in p:\n",
    "    p.x_shape = [2,256] # Default to this if we dont supply x_shape\n",
    "\n",
    "\n",
    "supplied_keys = set(p.keys())\n",
    "\n",
    "if  supplied_keys != required_parameters:\n",
    "    print(\"Parameters are incorrect\")\n",
    "    if len(supplied_keys - required_parameters)>0: print(\"Shouldn't have:\", str(supplied_keys - required_parameters))\n",
    "    if len(required_parameters - supplied_keys)>0: print(\"Need to have:\", str(required_parameters - supplied_keys))\n",
    "    raise RuntimeError(\"Parameters are incorrect\")"
   ]
  },
  {
   "cell_type": "code",
   "execution_count": 6,
   "id": "3a028d58",
   "metadata": {
    "execution": {
     "iopub.execute_input": "2022-03-18T16:08:00.727524Z",
     "iopub.status.busy": "2022-03-18T16:08:00.727274Z",
     "iopub.status.idle": "2022-03-18T16:08:00.738478Z",
     "shell.execute_reply": "2022-03-18T16:08:00.738268Z"
    },
    "papermill": {
     "duration": 0.026358,
     "end_time": "2022-03-18T16:08:00.738534",
     "exception": false,
     "start_time": "2022-03-18T16:08:00.712176",
     "status": "completed"
    },
    "tags": []
   },
   "outputs": [],
   "source": [
    "###################################\n",
    "# Set the RNGs and make it all deterministic\n",
    "###################################\n",
    "np.random.seed(p.seed)\n",
    "random.seed(p.seed)\n",
    "torch.manual_seed(p.seed)\n",
    "\n",
    "torch.use_deterministic_algorithms(True) "
   ]
  },
  {
   "cell_type": "code",
   "execution_count": 7,
   "id": "b691acf6",
   "metadata": {
    "execution": {
     "iopub.execute_input": "2022-03-18T16:08:00.771011Z",
     "iopub.status.busy": "2022-03-18T16:08:00.770767Z",
     "iopub.status.idle": "2022-03-18T16:08:00.781606Z",
     "shell.execute_reply": "2022-03-18T16:08:00.781238Z"
    },
    "papermill": {
     "duration": 0.025667,
     "end_time": "2022-03-18T16:08:00.781682",
     "exception": false,
     "start_time": "2022-03-18T16:08:00.756015",
     "status": "completed"
    },
    "tags": []
   },
   "outputs": [],
   "source": [
    "###########################################\n",
    "# The stratified datasets honor this\n",
    "###########################################\n",
    "torch.set_default_dtype(eval(p.torch_default_dtype))"
   ]
  },
  {
   "cell_type": "code",
   "execution_count": 8,
   "id": "b5fba671",
   "metadata": {
    "execution": {
     "iopub.execute_input": "2022-03-18T16:08:00.822789Z",
     "iopub.status.busy": "2022-03-18T16:08:00.817072Z",
     "iopub.status.idle": "2022-03-18T16:08:00.855399Z",
     "shell.execute_reply": "2022-03-18T16:08:00.854881Z"
    },
    "papermill": {
     "duration": 0.053234,
     "end_time": "2022-03-18T16:08:00.855507",
     "exception": false,
     "start_time": "2022-03-18T16:08:00.802273",
     "status": "completed"
    },
    "tags": []
   },
   "outputs": [],
   "source": [
    "###################################\n",
    "# Build the network(s)\n",
    "# Note: It's critical to do this AFTER setting the RNG\n",
    "###################################\n",
    "x_net = build_sequential(p.x_net)"
   ]
  },
  {
   "cell_type": "code",
   "execution_count": 9,
   "id": "5d7e61cc",
   "metadata": {
    "execution": {
     "iopub.execute_input": "2022-03-18T16:08:00.889726Z",
     "iopub.status.busy": "2022-03-18T16:08:00.889114Z",
     "iopub.status.idle": "2022-03-18T16:08:00.903752Z",
     "shell.execute_reply": "2022-03-18T16:08:00.903426Z"
    },
    "papermill": {
     "duration": 0.03055,
     "end_time": "2022-03-18T16:08:00.903831",
     "exception": false,
     "start_time": "2022-03-18T16:08:00.873281",
     "status": "completed"
    },
    "tags": []
   },
   "outputs": [],
   "source": [
    "start_time_secs = time.time()"
   ]
  },
  {
   "cell_type": "code",
   "execution_count": 10,
   "id": "c6b67dfd",
   "metadata": {
    "execution": {
     "iopub.execute_input": "2022-03-18T16:08:00.936921Z",
     "iopub.status.busy": "2022-03-18T16:08:00.936672Z",
     "iopub.status.idle": "2022-03-18T16:08:00.947303Z",
     "shell.execute_reply": "2022-03-18T16:08:00.946954Z"
    },
    "papermill": {
     "duration": 0.026314,
     "end_time": "2022-03-18T16:08:00.947381",
     "exception": false,
     "start_time": "2022-03-18T16:08:00.921067",
     "status": "completed"
    },
    "tags": []
   },
   "outputs": [],
   "source": [
    "p.domains_source = []\n",
    "p.domains_target = []\n",
    "\n",
    "\n",
    "train_original_source = []\n",
    "val_original_source   = []\n",
    "test_original_source  = []\n",
    "\n",
    "train_original_target = []\n",
    "val_original_target   = []\n",
    "test_original_target  = []"
   ]
  },
  {
   "cell_type": "code",
   "execution_count": 11,
   "id": "e3d9c3d3",
   "metadata": {
    "execution": {
     "iopub.execute_input": "2022-03-18T16:08:00.983497Z",
     "iopub.status.busy": "2022-03-18T16:08:00.983246Z",
     "iopub.status.idle": "2022-03-18T16:08:00.992862Z",
     "shell.execute_reply": "2022-03-18T16:08:00.992493Z"
    },
    "papermill": {
     "duration": 0.026035,
     "end_time": "2022-03-18T16:08:00.992938",
     "exception": false,
     "start_time": "2022-03-18T16:08:00.966903",
     "status": "completed"
    },
    "tags": []
   },
   "outputs": [],
   "source": [
    "# global_x_transform_func = lambda x: normalize(x.to(torch.get_default_dtype()), \"unit_power\") # unit_power, unit_mag\n",
    "# global_x_transform_func = lambda x: normalize(x, \"unit_power\") # unit_power, unit_mag"
   ]
  },
  {
   "cell_type": "code",
   "execution_count": 12,
   "id": "acb78fd2",
   "metadata": {
    "execution": {
     "iopub.execute_input": "2022-03-18T16:08:01.030554Z",
     "iopub.status.busy": "2022-03-18T16:08:01.030292Z",
     "iopub.status.idle": "2022-03-18T16:08:01.041963Z",
     "shell.execute_reply": "2022-03-18T16:08:01.041559Z"
    },
    "papermill": {
     "duration": 0.029946,
     "end_time": "2022-03-18T16:08:01.042064",
     "exception": false,
     "start_time": "2022-03-18T16:08:01.012118",
     "status": "completed"
    },
    "tags": []
   },
   "outputs": [],
   "source": [
    "def add_dataset(\n",
    "    labels,\n",
    "    domains,\n",
    "    pickle_path,\n",
    "    x_transforms,\n",
    "    episode_transforms,\n",
    "    domain_prefix,\n",
    "    num_examples_per_domain_per_label,\n",
    "    source_or_target_dataset:str,\n",
    "    iterator_seed=p.seed,\n",
    "    dataset_seed=p.dataset_seed,\n",
    "    n_shot=p.n_shot,\n",
    "    n_way=p.n_way,\n",
    "    n_query=p.n_query,\n",
    "    train_val_test_k_factors=(p.train_k_factor,p.val_k_factor,p.test_k_factor),\n",
    "):\n",
    "   \n",
    "    if x_transforms == []: x_transform = None\n",
    "    else: x_transform = get_chained_transform(x_transforms)\n",
    "    \n",
    "    if episode_transforms == []: episode_transform = None\n",
    "    else: raise Exception(\"episode_transforms not implemented\")\n",
    "    \n",
    "    episode_transform = lambda tup, _prefix=domain_prefix: (_prefix + str(tup[0]), tup[1])\n",
    "\n",
    "\n",
    "    eaf = Episodic_Accessor_Factory(\n",
    "        labels=labels,\n",
    "        domains=domains,\n",
    "        num_examples_per_domain_per_label=num_examples_per_domain_per_label,\n",
    "        iterator_seed=iterator_seed,\n",
    "        dataset_seed=dataset_seed,\n",
    "        n_shot=n_shot,\n",
    "        n_way=n_way,\n",
    "        n_query=n_query,\n",
    "        train_val_test_k_factors=train_val_test_k_factors,\n",
    "        pickle_path=pickle_path,\n",
    "        x_transform_func=x_transform,\n",
    "    )\n",
    "\n",
    "    train, val, test = eaf.get_train(), eaf.get_val(), eaf.get_test()\n",
    "    train = Lazy_Iterable_Wrapper(train, episode_transform)\n",
    "    val = Lazy_Iterable_Wrapper(val, episode_transform)\n",
    "    test = Lazy_Iterable_Wrapper(test, episode_transform)\n",
    "\n",
    "    if source_or_target_dataset==\"source\":\n",
    "        train_original_source.append(train)\n",
    "        val_original_source.append(val)\n",
    "        test_original_source.append(test)\n",
    "\n",
    "        p.domains_source.extend(\n",
    "            [domain_prefix + str(u) for u in domains]\n",
    "        )\n",
    "    elif source_or_target_dataset==\"target\":\n",
    "        train_original_target.append(train)\n",
    "        val_original_target.append(val)\n",
    "        test_original_target.append(test)\n",
    "        p.domains_target.extend(\n",
    "            [domain_prefix + str(u) for u in domains]\n",
    "        )\n",
    "    else:\n",
    "        raise Exception(f\"invalid source_or_target_dataset: {source_or_target_dataset}\")\n",
    "    "
   ]
  },
  {
   "cell_type": "code",
   "execution_count": 13,
   "id": "fe266617",
   "metadata": {
    "execution": {
     "iopub.execute_input": "2022-03-18T16:08:01.074193Z",
     "iopub.status.busy": "2022-03-18T16:08:01.073946Z",
     "iopub.status.idle": "2022-03-18T16:08:16.092250Z",
     "shell.execute_reply": "2022-03-18T16:08:16.091775Z"
    },
    "papermill": {
     "duration": 15.033674,
     "end_time": "2022-03-18T16:08:16.092357",
     "exception": false,
     "start_time": "2022-03-18T16:08:01.058683",
     "status": "completed"
    },
    "tags": []
   },
   "outputs": [],
   "source": [
    "for ds in p.datasets:\n",
    "    add_dataset(**ds)"
   ]
  },
  {
   "cell_type": "code",
   "execution_count": 14,
   "id": "b90d65ac",
   "metadata": {
    "execution": {
     "iopub.execute_input": "2022-03-18T16:08:16.126328Z",
     "iopub.status.busy": "2022-03-18T16:08:16.126078Z",
     "iopub.status.idle": "2022-03-18T16:08:16.140254Z",
     "shell.execute_reply": "2022-03-18T16:08:16.139870Z"
    },
    "papermill": {
     "duration": 0.030251,
     "end_time": "2022-03-18T16:08:16.140343",
     "exception": false,
     "start_time": "2022-03-18T16:08:16.110092",
     "status": "completed"
    },
    "tags": []
   },
   "outputs": [],
   "source": [
    "# from steves_utils.CORES.utils import (\n",
    "#     ALL_NODES,\n",
    "#     ALL_NODES_MINIMUM_1000_EXAMPLES,\n",
    "#     ALL_DAYS\n",
    "# )\n",
    "\n",
    "# add_dataset(\n",
    "#     labels=ALL_NODES,\n",
    "#     domains = ALL_DAYS,\n",
    "#     num_examples_per_domain_per_label=100,\n",
    "#     pickle_path=os.path.join(get_datasets_base_path(), \"cores.stratified_ds.2022A.pkl\"),\n",
    "#     source_or_target_dataset=\"target\",\n",
    "#     x_transform_func=global_x_transform_func,\n",
    "#     domain_modifier=lambda u: f\"cores_{u}\"\n",
    "# )"
   ]
  },
  {
   "cell_type": "code",
   "execution_count": 15,
   "id": "76db484d",
   "metadata": {
    "execution": {
     "iopub.execute_input": "2022-03-18T16:08:16.174896Z",
     "iopub.status.busy": "2022-03-18T16:08:16.174640Z",
     "iopub.status.idle": "2022-03-18T16:08:16.189343Z",
     "shell.execute_reply": "2022-03-18T16:08:16.188896Z"
    },
    "papermill": {
     "duration": 0.030408,
     "end_time": "2022-03-18T16:08:16.189433",
     "exception": false,
     "start_time": "2022-03-18T16:08:16.159025",
     "status": "completed"
    },
    "tags": []
   },
   "outputs": [],
   "source": [
    "# from steves_utils.ORACLE.utils_v2 import (\n",
    "#     ALL_DISTANCES_FEET,\n",
    "#     ALL_RUNS,\n",
    "#     ALL_SERIAL_NUMBERS,\n",
    "# )\n",
    "\n",
    "\n",
    "# add_dataset(\n",
    "#     labels=ALL_SERIAL_NUMBERS,\n",
    "#     domains = list(set(ALL_DISTANCES_FEET) - {2,62}),\n",
    "#     num_examples_per_domain_per_label=100,\n",
    "#     pickle_path=os.path.join(get_datasets_base_path(), \"oracle.Run2_framed_2000Examples_stratified_ds.2022A.pkl\"),\n",
    "#     source_or_target_dataset=\"source\",\n",
    "#     x_transform_func=global_x_transform_func,\n",
    "#     domain_modifier=lambda u: f\"oracle1_{u}\"\n",
    "# )\n"
   ]
  },
  {
   "cell_type": "code",
   "execution_count": 16,
   "id": "97dea9d2",
   "metadata": {
    "execution": {
     "iopub.execute_input": "2022-03-18T16:08:16.222970Z",
     "iopub.status.busy": "2022-03-18T16:08:16.222721Z",
     "iopub.status.idle": "2022-03-18T16:08:16.236814Z",
     "shell.execute_reply": "2022-03-18T16:08:16.236369Z"
    },
    "papermill": {
     "duration": 0.029215,
     "end_time": "2022-03-18T16:08:16.236903",
     "exception": false,
     "start_time": "2022-03-18T16:08:16.207688",
     "status": "completed"
    },
    "tags": []
   },
   "outputs": [],
   "source": [
    "# from steves_utils.ORACLE.utils_v2 import (\n",
    "#     ALL_DISTANCES_FEET,\n",
    "#     ALL_RUNS,\n",
    "#     ALL_SERIAL_NUMBERS,\n",
    "# )\n",
    "\n",
    "\n",
    "# add_dataset(\n",
    "#     labels=ALL_SERIAL_NUMBERS,\n",
    "#     domains = list(set(ALL_DISTANCES_FEET) - {2,62,56}),\n",
    "#     num_examples_per_domain_per_label=100,\n",
    "#     pickle_path=os.path.join(get_datasets_base_path(), \"oracle.Run2_framed_2000Examples_stratified_ds.2022A.pkl\"),\n",
    "#     source_or_target_dataset=\"source\",\n",
    "#     x_transform_func=global_x_transform_func,\n",
    "#     domain_modifier=lambda u: f\"oracle2_{u}\"\n",
    "# )"
   ]
  },
  {
   "cell_type": "code",
   "execution_count": 17,
   "id": "6f289866",
   "metadata": {
    "execution": {
     "iopub.execute_input": "2022-03-18T16:08:16.271949Z",
     "iopub.status.busy": "2022-03-18T16:08:16.271697Z",
     "iopub.status.idle": "2022-03-18T16:08:16.285372Z",
     "shell.execute_reply": "2022-03-18T16:08:16.284929Z"
    },
    "papermill": {
     "duration": 0.029828,
     "end_time": "2022-03-18T16:08:16.285462",
     "exception": false,
     "start_time": "2022-03-18T16:08:16.255634",
     "status": "completed"
    },
    "tags": []
   },
   "outputs": [],
   "source": [
    "# add_dataset(\n",
    "#     labels=list(range(19)),\n",
    "#     domains = [0,1,2],\n",
    "#     num_examples_per_domain_per_label=100,\n",
    "#     pickle_path=os.path.join(get_datasets_base_path(), \"metehan.stratified_ds.2022A.pkl\"),\n",
    "#     source_or_target_dataset=\"target\",\n",
    "#     x_transform_func=global_x_transform_func,\n",
    "#     domain_modifier=lambda u: f\"met_{u}\"\n",
    "# )"
   ]
  },
  {
   "cell_type": "code",
   "execution_count": 18,
   "id": "86a863c3",
   "metadata": {
    "execution": {
     "iopub.execute_input": "2022-03-18T16:08:16.319604Z",
     "iopub.status.busy": "2022-03-18T16:08:16.319357Z",
     "iopub.status.idle": "2022-03-18T16:08:16.333205Z",
     "shell.execute_reply": "2022-03-18T16:08:16.332762Z"
    },
    "papermill": {
     "duration": 0.02943,
     "end_time": "2022-03-18T16:08:16.333292",
     "exception": false,
     "start_time": "2022-03-18T16:08:16.303862",
     "status": "completed"
    },
    "tags": []
   },
   "outputs": [],
   "source": [
    "# # from steves_utils.wisig.utils import (\n",
    "# #     ALL_NODES_MINIMUM_100_EXAMPLES,\n",
    "# #     ALL_NODES_MINIMUM_500_EXAMPLES,\n",
    "# #     ALL_NODES_MINIMUM_1000_EXAMPLES,\n",
    "# #     ALL_DAYS\n",
    "# # )\n",
    "\n",
    "# import steves_utils.wisig.utils as wisig\n",
    "\n",
    "\n",
    "# add_dataset(\n",
    "#     labels=wisig.ALL_NODES_MINIMUM_100_EXAMPLES,\n",
    "#     domains = wisig.ALL_DAYS,\n",
    "#     num_examples_per_domain_per_label=100,\n",
    "#     pickle_path=os.path.join(get_datasets_base_path(), \"wisig.node3-19.stratified_ds.2022A.pkl\"),\n",
    "#     source_or_target_dataset=\"target\",\n",
    "#     x_transform_func=global_x_transform_func,\n",
    "#     domain_modifier=lambda u: f\"wisig_{u}\"\n",
    "# )"
   ]
  },
  {
   "cell_type": "code",
   "execution_count": 19,
   "id": "fd5442bc",
   "metadata": {
    "execution": {
     "iopub.execute_input": "2022-03-18T16:08:16.370325Z",
     "iopub.status.busy": "2022-03-18T16:08:16.370073Z",
     "iopub.status.idle": "2022-03-18T16:08:16.385945Z",
     "shell.execute_reply": "2022-03-18T16:08:16.385503Z"
    },
    "papermill": {
     "duration": 0.034229,
     "end_time": "2022-03-18T16:08:16.386034",
     "exception": false,
     "start_time": "2022-03-18T16:08:16.351805",
     "status": "completed"
    },
    "tags": []
   },
   "outputs": [],
   "source": [
    "###################################\n",
    "# Build the dataset\n",
    "###################################\n",
    "train_original_source = Iterable_Aggregator(train_original_source, p.seed)\n",
    "val_original_source = Iterable_Aggregator(val_original_source, p.seed)\n",
    "test_original_source = Iterable_Aggregator(test_original_source, p.seed)\n",
    "\n",
    "\n",
    "train_original_target = Iterable_Aggregator(train_original_target, p.seed)\n",
    "val_original_target = Iterable_Aggregator(val_original_target, p.seed)\n",
    "test_original_target = Iterable_Aggregator(test_original_target, p.seed)\n",
    "\n",
    "# For CNN We only use X and Y. And we only train on the source.\n",
    "# Properly form the data using a transform lambda and Lazy_Iterable_Wrapper. Finally wrap them in a dataloader\n",
    "\n",
    "transform_lambda = lambda ex: ex[1] # Original is (<domain>, <episode>) so we strip down to episode only\n",
    "\n",
    "train_processed_source = Lazy_Iterable_Wrapper(train_original_source, transform_lambda)\n",
    "val_processed_source   = Lazy_Iterable_Wrapper(val_original_source, transform_lambda)\n",
    "test_processed_source  = Lazy_Iterable_Wrapper(test_original_source, transform_lambda)\n",
    "\n",
    "train_processed_target = Lazy_Iterable_Wrapper(train_original_target, transform_lambda)\n",
    "val_processed_target   = Lazy_Iterable_Wrapper(val_original_target, transform_lambda)\n",
    "test_processed_target  = Lazy_Iterable_Wrapper(test_original_target, transform_lambda)\n",
    "\n",
    "datasets = EasyDict({\n",
    "    \"source\": {\n",
    "        \"original\": {\"train\":train_original_source, \"val\":val_original_source, \"test\":test_original_source},\n",
    "        \"processed\": {\"train\":train_processed_source, \"val\":val_processed_source, \"test\":test_processed_source}\n",
    "    },\n",
    "    \"target\": {\n",
    "        \"original\": {\"train\":train_original_target, \"val\":val_original_target, \"test\":test_original_target},\n",
    "        \"processed\": {\"train\":train_processed_target, \"val\":val_processed_target, \"test\":test_processed_target}\n",
    "    },\n",
    "})"
   ]
  },
  {
   "cell_type": "code",
   "execution_count": 20,
   "id": "5b3c01fc",
   "metadata": {
    "execution": {
     "iopub.execute_input": "2022-03-18T16:08:16.421294Z",
     "iopub.status.busy": "2022-03-18T16:08:16.421050Z",
     "iopub.status.idle": "2022-03-18T16:08:21.381635Z",
     "shell.execute_reply": "2022-03-18T16:08:21.382105Z"
    },
    "papermill": {
     "duration": 4.977678,
     "end_time": "2022-03-18T16:08:21.382236",
     "exception": false,
     "start_time": "2022-03-18T16:08:16.404558",
     "status": "completed"
    },
    "tags": []
   },
   "outputs": [
    {
     "name": "stdout",
     "output_type": "stream",
     "text": [
      "{'ORACLE.run1_8', 'ORACLE.run1_26', 'ORACLE.run1_38', 'ORACLE.run1_50', 'ORACLE.run1_32', 'ORACLE.run1_20', 'ORACLE.run1_14', 'ORACLE.run1_44'}\n"
     ]
    },
    {
     "name": "stdout",
     "output_type": "stream",
     "text": [
      "{'C_A_2', 'W_A_2', 'W_A_3', 'C_A_1', 'C_A_3', 'W_A_1', 'C_A_5', 'W_A_4', 'C_A_4'}\n"
     ]
    },
    {
     "name": "stdout",
     "output_type": "stream",
     "text": [
      "tensor([[[-3.0519e-04,  3.5556e-03,  2.0206e-03,  ...,  2.1691e-03,\n",
      "           1.7273e-03,  2.3624e-03],\n",
      "         [-2.1058e-03, -1.8932e-03,  2.2942e-03,  ..., -3.7358e-04,\n",
      "           3.6849e-03,  3.8457e-04]],\n",
      "\n",
      "        [[-1.4649e-03,  1.4898e-03,  2.6404e-03,  ...,  3.7484e-03,\n",
      "           1.6746e-03,  6.1315e-05],\n",
      "         [-3.6927e-03, -2.5907e-03,  2.8652e-03,  ..., -1.4858e-03,\n",
      "          -2.0637e-03, -4.5108e-03]],\n",
      "\n",
      "        [[ 2.1363e-03, -1.7548e-04, -2.9306e-03,  ..., -2.7567e-03,\n",
      "          -3.0599e-03, -3.3251e-04],\n",
      "         [ 2.7161e-03,  3.5096e-03, -1.7432e-03,  ...,  1.5548e-03,\n",
      "           8.4818e-04,  3.8669e-03]],\n",
      "\n",
      "        ...,\n",
      "\n",
      "        [[ 4.7609e-03,  1.1404e-03, -5.8138e-03,  ..., -3.3979e-03,\n",
      "          -7.4494e-04,  4.4531e-03],\n",
      "         [ 2.6856e-03,  4.4305e-03, -2.3923e-04,  ...,  4.7568e-03,\n",
      "           3.5689e-03,  4.8476e-03]],\n",
      "\n",
      "        [[ 1.2207e-04, -4.9236e-03, -1.3816e-03,  ..., -4.1507e-03,\n",
      "          -4.0835e-03, -4.6269e-03],\n",
      "         [ 3.8148e-03,  3.7729e-03, -3.6135e-03,  ..., -6.0177e-04,\n",
      "          -3.3435e-03,  3.1819e-03]],\n",
      "\n",
      "        [[ 2.3194e-03,  2.2329e-03, -1.6715e-03,  ...,  2.3415e-03,\n",
      "          -5.6927e-03, -3.1427e-03],\n",
      "         [-1.9837e-03,  4.5080e-03,  3.5371e-03,  ...,  3.2161e-03,\n",
      "           1.3673e-03,  2.2193e-03]]])\n"
     ]
    }
   ],
   "source": [
    "from steves_utils.transforms import get_average_magnitude, get_average_power\n",
    "\n",
    "print(set([u for u,_ in val_original_source]))\n",
    "print(set([u for u,_ in val_original_target]))\n",
    "\n",
    "s_x, s_y, q_x, q_y, _ = next(iter(train_processed_source))\n",
    "print(s_x)\n",
    "\n",
    "# for ds in [\n",
    "#     train_processed_source,\n",
    "#     val_processed_source,\n",
    "#     test_processed_source,\n",
    "#     train_processed_target,\n",
    "#     val_processed_target,\n",
    "#     test_processed_target\n",
    "# ]:\n",
    "#     for s_x, s_y, q_x, q_y, _ in ds:\n",
    "#         for X in (s_x, q_x):\n",
    "#             for x in X:\n",
    "#                 assert np.isclose(get_average_magnitude(x.numpy()), 1.0)\n",
    "#                 assert np.isclose(get_average_power(x.numpy()), 1.0)\n",
    "                "
   ]
  },
  {
   "cell_type": "code",
   "execution_count": 21,
   "id": "bbdacba1",
   "metadata": {
    "execution": {
     "iopub.execute_input": "2022-03-18T16:08:21.431728Z",
     "iopub.status.busy": "2022-03-18T16:08:21.421245Z",
     "iopub.status.idle": "2022-03-18T16:08:21.473030Z",
     "shell.execute_reply": "2022-03-18T16:08:21.472555Z"
    },
    "papermill": {
     "duration": 0.070152,
     "end_time": "2022-03-18T16:08:21.473139",
     "exception": false,
     "start_time": "2022-03-18T16:08:21.402987",
     "status": "completed"
    },
    "tags": []
   },
   "outputs": [
    {
     "name": "stdout",
     "output_type": "stream",
     "text": [
      "(2, 200)\n"
     ]
    }
   ],
   "source": [
    "###################################\n",
    "# Build the model\n",
    "###################################\n",
    "# easfsl only wants a tuple for the shape\n",
    "model = Steves_Prototypical_Network(x_net, device=p.device, x_shape=tuple(p.x_shape))\n",
    "optimizer = Adam(params=model.parameters(), lr=p.lr)"
   ]
  },
  {
   "cell_type": "code",
   "execution_count": 22,
   "id": "22b39ac5",
   "metadata": {
    "execution": {
     "iopub.execute_input": "2022-03-18T16:08:21.509922Z",
     "iopub.status.busy": "2022-03-18T16:08:21.509673Z",
     "iopub.status.idle": "2022-03-18T16:26:59.089023Z",
     "shell.execute_reply": "2022-03-18T16:26:59.088793Z"
    },
    "papermill": {
     "duration": 1117.597631,
     "end_time": "2022-03-18T16:26:59.089081",
     "exception": false,
     "start_time": "2022-03-18T16:08:21.491450",
     "status": "completed"
    },
    "tags": []
   },
   "outputs": [
    {
     "name": "stdout",
     "output_type": "stream",
     "text": [
      "epoch: 1, [batch: 1 / 6720], examples_per_second: 48.5136, train_label_loss: 2.7520, \n"
     ]
    },
    {
     "name": "stdout",
     "output_type": "stream",
     "text": [
      "epoch: 1, [batch: 672 / 6720], examples_per_second: 3615.9713, train_label_loss: 0.7943, \n"
     ]
    },
    {
     "name": "stdout",
     "output_type": "stream",
     "text": [
      "epoch: 1, [batch: 1344 / 6720], examples_per_second: 3658.1635, train_label_loss: 0.2878, \n"
     ]
    },
    {
     "name": "stdout",
     "output_type": "stream",
     "text": [
      "epoch: 1, [batch: 2016 / 6720], examples_per_second: 3657.9788, train_label_loss: 0.3502, \n"
     ]
    },
    {
     "name": "stdout",
     "output_type": "stream",
     "text": [
      "epoch: 1, [batch: 2688 / 6720], examples_per_second: 3628.0149, train_label_loss: 0.4003, \n"
     ]
    },
    {
     "name": "stdout",
     "output_type": "stream",
     "text": [
      "epoch: 1, [batch: 3360 / 6720], examples_per_second: 3628.0683, train_label_loss: 0.1220, \n"
     ]
    },
    {
     "name": "stdout",
     "output_type": "stream",
     "text": [
      "epoch: 1, [batch: 4032 / 6720], examples_per_second: 3663.5795, train_label_loss: 0.2833, \n"
     ]
    },
    {
     "name": "stdout",
     "output_type": "stream",
     "text": [
      "epoch: 1, [batch: 4704 / 6720], examples_per_second: 3633.6469, train_label_loss: 0.3576, \n"
     ]
    },
    {
     "name": "stdout",
     "output_type": "stream",
     "text": [
      "epoch: 1, [batch: 5376 / 6720], examples_per_second: 3644.2190, train_label_loss: 0.2058, \n"
     ]
    },
    {
     "name": "stdout",
     "output_type": "stream",
     "text": [
      "epoch: 1, [batch: 6048 / 6720], examples_per_second: 3641.1568, train_label_loss: 0.0380, \n"
     ]
    },
    {
     "name": "stdout",
     "output_type": "stream",
     "text": [
      "=============================================================\n",
      "epoch: 1, source_val_acc_label: 0.6887, target_val_acc_label: 0.5794, source_val_label_loss: 3088.1008, target_val_label_loss: 800216.8125, \n",
      "=============================================================\n"
     ]
    },
    {
     "name": "stdout",
     "output_type": "stream",
     "text": [
      "New best\n"
     ]
    },
    {
     "name": "stdout",
     "output_type": "stream",
     "text": [
      "epoch: 2, [batch: 1 / 6720], examples_per_second: 6.0356, train_label_loss: 4708.9727, \n"
     ]
    },
    {
     "name": "stdout",
     "output_type": "stream",
     "text": [
      "epoch: 2, [batch: 672 / 6720], examples_per_second: 3612.5100, train_label_loss: 4.7374, \n"
     ]
    },
    {
     "name": "stdout",
     "output_type": "stream",
     "text": [
      "epoch: 2, [batch: 1344 / 6720], examples_per_second: 3612.2598, train_label_loss: 11.8197, \n"
     ]
    },
    {
     "name": "stdout",
     "output_type": "stream",
     "text": [
      "epoch: 2, [batch: 2016 / 6720], examples_per_second: 3639.3351, train_label_loss: 1.3530, \n"
     ]
    },
    {
     "name": "stdout",
     "output_type": "stream",
     "text": [
      "epoch: 2, [batch: 2688 / 6720], examples_per_second: 3636.9341, train_label_loss: 0.8987, \n"
     ]
    },
    {
     "name": "stdout",
     "output_type": "stream",
     "text": [
      "epoch: 2, [batch: 3360 / 6720], examples_per_second: 3647.2755, train_label_loss: 0.6778, \n"
     ]
    },
    {
     "name": "stdout",
     "output_type": "stream",
     "text": [
      "epoch: 2, [batch: 4032 / 6720], examples_per_second: 3644.9986, train_label_loss: 0.3318, \n"
     ]
    },
    {
     "name": "stdout",
     "output_type": "stream",
     "text": [
      "epoch: 2, [batch: 4704 / 6720], examples_per_second: 3630.8296, train_label_loss: 0.4037, \n"
     ]
    },
    {
     "name": "stdout",
     "output_type": "stream",
     "text": [
      "epoch: 2, [batch: 5376 / 6720], examples_per_second: 3655.6788, train_label_loss: 0.6302, \n"
     ]
    },
    {
     "name": "stdout",
     "output_type": "stream",
     "text": [
      "epoch: 2, [batch: 6048 / 6720], examples_per_second: 3646.1562, train_label_loss: 0.2315, \n"
     ]
    },
    {
     "name": "stdout",
     "output_type": "stream",
     "text": [
      "=============================================================\n",
      "epoch: 2, source_val_acc_label: 0.8757, target_val_acc_label: 0.6265, source_val_label_loss: 0.3517, target_val_label_loss: 260412.2500, \n",
      "=============================================================\n"
     ]
    },
    {
     "name": "stdout",
     "output_type": "stream",
     "text": [
      "New best\n"
     ]
    },
    {
     "name": "stdout",
     "output_type": "stream",
     "text": [
      "epoch: 3, [batch: 1 / 6720], examples_per_second: 5.9996, train_label_loss: 0.2745, \n"
     ]
    },
    {
     "name": "stdout",
     "output_type": "stream",
     "text": [
      "epoch: 3, [batch: 672 / 6720], examples_per_second: 3623.5263, train_label_loss: 0.3081, \n"
     ]
    },
    {
     "name": "stdout",
     "output_type": "stream",
     "text": [
      "epoch: 3, [batch: 1344 / 6720], examples_per_second: 3645.5567, train_label_loss: 0.2665, \n"
     ]
    },
    {
     "name": "stdout",
     "output_type": "stream",
     "text": [
      "epoch: 3, [batch: 2016 / 6720], examples_per_second: 3638.8202, train_label_loss: 0.2718, \n"
     ]
    },
    {
     "name": "stdout",
     "output_type": "stream",
     "text": [
      "epoch: 3, [batch: 2688 / 6720], examples_per_second: 3645.2915, train_label_loss: 0.1114, \n"
     ]
    },
    {
     "name": "stdout",
     "output_type": "stream",
     "text": [
      "epoch: 3, [batch: 3360 / 6720], examples_per_second: 3649.2255, train_label_loss: 0.3601, \n"
     ]
    },
    {
     "name": "stdout",
     "output_type": "stream",
     "text": [
      "epoch: 3, [batch: 4032 / 6720], examples_per_second: 3681.5263, train_label_loss: 0.5975, \n"
     ]
    },
    {
     "name": "stdout",
     "output_type": "stream",
     "text": [
      "epoch: 3, [batch: 4704 / 6720], examples_per_second: 3655.3460, train_label_loss: 0.3591, \n"
     ]
    },
    {
     "name": "stdout",
     "output_type": "stream",
     "text": [
      "epoch: 3, [batch: 5376 / 6720], examples_per_second: 3646.3648, train_label_loss: 0.3063, \n"
     ]
    },
    {
     "name": "stdout",
     "output_type": "stream",
     "text": [
      "epoch: 3, [batch: 6048 / 6720], examples_per_second: 3645.8786, train_label_loss: 0.2360, \n"
     ]
    },
    {
     "name": "stdout",
     "output_type": "stream",
     "text": [
      "=============================================================\n",
      "epoch: 3, source_val_acc_label: 0.8577, target_val_acc_label: 0.6100, source_val_label_loss: 0.4106, target_val_label_loss: 219664.9375, \n",
      "=============================================================\n"
     ]
    },
    {
     "name": "stdout",
     "output_type": "stream",
     "text": [
      "New best\n"
     ]
    },
    {
     "name": "stdout",
     "output_type": "stream",
     "text": [
      "epoch: 4, [batch: 1 / 6720], examples_per_second: 6.0051, train_label_loss: 0.2032, \n"
     ]
    },
    {
     "name": "stdout",
     "output_type": "stream",
     "text": [
      "epoch: 4, [batch: 672 / 6720], examples_per_second: 3620.7862, train_label_loss: 0.2460, \n"
     ]
    },
    {
     "name": "stdout",
     "output_type": "stream",
     "text": [
      "epoch: 4, [batch: 1344 / 6720], examples_per_second: 3634.0693, train_label_loss: 0.5768, \n"
     ]
    },
    {
     "name": "stdout",
     "output_type": "stream",
     "text": [
      "epoch: 4, [batch: 2016 / 6720], examples_per_second: 3624.5286, train_label_loss: 0.4905, \n"
     ]
    },
    {
     "name": "stdout",
     "output_type": "stream",
     "text": [
      "epoch: 4, [batch: 2688 / 6720], examples_per_second: 3621.5021, train_label_loss: 0.4098, \n"
     ]
    },
    {
     "name": "stdout",
     "output_type": "stream",
     "text": [
      "epoch: 4, [batch: 3360 / 6720], examples_per_second: 3634.5486, train_label_loss: 0.2069, \n"
     ]
    },
    {
     "name": "stdout",
     "output_type": "stream",
     "text": [
      "epoch: 4, [batch: 4032 / 6720], examples_per_second: 3602.9867, train_label_loss: 0.5697, \n"
     ]
    },
    {
     "name": "stdout",
     "output_type": "stream",
     "text": [
      "epoch: 4, [batch: 4704 / 6720], examples_per_second: 3603.1601, train_label_loss: 0.2511, \n"
     ]
    },
    {
     "name": "stdout",
     "output_type": "stream",
     "text": [
      "epoch: 4, [batch: 5376 / 6720], examples_per_second: 3639.4222, train_label_loss: 0.1931, \n"
     ]
    },
    {
     "name": "stdout",
     "output_type": "stream",
     "text": [
      "epoch: 4, [batch: 6048 / 6720], examples_per_second: 3653.9781, train_label_loss: 0.3529, \n"
     ]
    },
    {
     "name": "stdout",
     "output_type": "stream",
     "text": [
      "=============================================================\n",
      "epoch: 4, source_val_acc_label: 0.8713, target_val_acc_label: 0.6089, source_val_label_loss: 0.3586, target_val_label_loss: 366130.0000, \n",
      "=============================================================\n"
     ]
    },
    {
     "name": "stdout",
     "output_type": "stream",
     "text": [
      "epoch: 5, [batch: 1 / 6720], examples_per_second: 5.9860, train_label_loss: 0.2369, \n"
     ]
    },
    {
     "name": "stdout",
     "output_type": "stream",
     "text": [
      "epoch: 5, [batch: 672 / 6720], examples_per_second: 3631.4508, train_label_loss: 0.2036, \n"
     ]
    },
    {
     "name": "stdout",
     "output_type": "stream",
     "text": [
      "epoch: 5, [batch: 1344 / 6720], examples_per_second: 3645.3415, train_label_loss: 0.7945, \n"
     ]
    },
    {
     "name": "stdout",
     "output_type": "stream",
     "text": [
      "epoch: 5, [batch: 2016 / 6720], examples_per_second: 3653.1177, train_label_loss: 0.4912, \n"
     ]
    },
    {
     "name": "stdout",
     "output_type": "stream",
     "text": [
      "epoch: 5, [batch: 2688 / 6720], examples_per_second: 3644.2682, train_label_loss: 0.1881, \n"
     ]
    },
    {
     "name": "stdout",
     "output_type": "stream",
     "text": [
      "epoch: 5, [batch: 3360 / 6720], examples_per_second: 3663.6606, train_label_loss: 0.5561, \n"
     ]
    },
    {
     "name": "stdout",
     "output_type": "stream",
     "text": [
      "epoch: 5, [batch: 4032 / 6720], examples_per_second: 3679.2616, train_label_loss: 0.2866, \n"
     ]
    },
    {
     "name": "stdout",
     "output_type": "stream",
     "text": [
      "epoch: 5, [batch: 4704 / 6720], examples_per_second: 3630.3322, train_label_loss: 0.2387, \n"
     ]
    },
    {
     "name": "stdout",
     "output_type": "stream",
     "text": [
      "epoch: 5, [batch: 5376 / 6720], examples_per_second: 3649.5341, train_label_loss: 0.3760, \n"
     ]
    },
    {
     "name": "stdout",
     "output_type": "stream",
     "text": [
      "epoch: 5, [batch: 6048 / 6720], examples_per_second: 3664.9028, train_label_loss: 0.3791, \n"
     ]
    },
    {
     "name": "stdout",
     "output_type": "stream",
     "text": [
      "=============================================================\n",
      "epoch: 5, source_val_acc_label: 0.8790, target_val_acc_label: 0.5609, source_val_label_loss: 0.3385, target_val_label_loss: 499453.4688, \n",
      "=============================================================\n"
     ]
    },
    {
     "name": "stdout",
     "output_type": "stream",
     "text": [
      "epoch: 6, [batch: 1 / 6720], examples_per_second: 6.0270, train_label_loss: 0.1974, \n"
     ]
    },
    {
     "name": "stdout",
     "output_type": "stream",
     "text": [
      "epoch: 6, [batch: 672 / 6720], examples_per_second: 3614.7628, train_label_loss: 0.3195, \n"
     ]
    },
    {
     "name": "stdout",
     "output_type": "stream",
     "text": [
      "epoch: 6, [batch: 1344 / 6720], examples_per_second: 3635.6282, train_label_loss: 0.2842, \n"
     ]
    },
    {
     "name": "stdout",
     "output_type": "stream",
     "text": [
      "epoch: 6, [batch: 2016 / 6720], examples_per_second: 3638.5118, train_label_loss: 0.2405, \n"
     ]
    },
    {
     "name": "stdout",
     "output_type": "stream",
     "text": [
      "epoch: 6, [batch: 2688 / 6720], examples_per_second: 3629.9931, train_label_loss: 0.1947, \n"
     ]
    },
    {
     "name": "stdout",
     "output_type": "stream",
     "text": [
      "epoch: 6, [batch: 3360 / 6720], examples_per_second: 3657.8288, train_label_loss: 0.2998, \n"
     ]
    },
    {
     "name": "stdout",
     "output_type": "stream",
     "text": [
      "epoch: 6, [batch: 4032 / 6720], examples_per_second: 3618.6499, train_label_loss: 0.2612, \n"
     ]
    },
    {
     "name": "stdout",
     "output_type": "stream",
     "text": [
      "epoch: 6, [batch: 4704 / 6720], examples_per_second: 3617.2841, train_label_loss: 0.5081, \n"
     ]
    },
    {
     "name": "stdout",
     "output_type": "stream",
     "text": [
      "epoch: 6, [batch: 5376 / 6720], examples_per_second: 3627.1034, train_label_loss: 0.2980, \n"
     ]
    },
    {
     "name": "stdout",
     "output_type": "stream",
     "text": [
      "epoch: 6, [batch: 6048 / 6720], examples_per_second: 3646.4212, train_label_loss: 0.0783, \n"
     ]
    },
    {
     "name": "stdout",
     "output_type": "stream",
     "text": [
      "=============================================================\n",
      "epoch: 6, source_val_acc_label: 0.8927, target_val_acc_label: 0.5809, source_val_label_loss: 0.3137, target_val_label_loss: 566876.2500, \n",
      "=============================================================\n"
     ]
    },
    {
     "name": "stdout",
     "output_type": "stream",
     "text": [
      "epoch: 7, [batch: 1 / 6720], examples_per_second: 6.0334, train_label_loss: 0.1629, \n"
     ]
    },
    {
     "name": "stdout",
     "output_type": "stream",
     "text": [
      "epoch: 7, [batch: 672 / 6720], examples_per_second: 3610.8869, train_label_loss: 0.5585, \n"
     ]
    },
    {
     "name": "stdout",
     "output_type": "stream",
     "text": [
      "epoch: 7, [batch: 1344 / 6720], examples_per_second: 3624.8982, train_label_loss: 0.2054, \n"
     ]
    },
    {
     "name": "stdout",
     "output_type": "stream",
     "text": [
      "epoch: 7, [batch: 2016 / 6720], examples_per_second: 3631.9194, train_label_loss: 0.2313, \n"
     ]
    },
    {
     "name": "stdout",
     "output_type": "stream",
     "text": [
      "epoch: 7, [batch: 2688 / 6720], examples_per_second: 3610.2172, train_label_loss: 0.7270, \n"
     ]
    },
    {
     "name": "stdout",
     "output_type": "stream",
     "text": [
      "epoch: 7, [batch: 3360 / 6720], examples_per_second: 3624.1281, train_label_loss: 0.7292, \n"
     ]
    },
    {
     "name": "stdout",
     "output_type": "stream",
     "text": [
      "epoch: 7, [batch: 4032 / 6720], examples_per_second: 3624.0249, train_label_loss: 0.1314, \n"
     ]
    },
    {
     "name": "stdout",
     "output_type": "stream",
     "text": [
      "epoch: 7, [batch: 4704 / 6720], examples_per_second: 3616.4631, train_label_loss: 0.4038, \n"
     ]
    },
    {
     "name": "stdout",
     "output_type": "stream",
     "text": [
      "epoch: 7, [batch: 5376 / 6720], examples_per_second: 3611.8665, train_label_loss: 0.2206, \n"
     ]
    },
    {
     "name": "stdout",
     "output_type": "stream",
     "text": [
      "epoch: 7, [batch: 6048 / 6720], examples_per_second: 3630.8103, train_label_loss: 0.3037, \n"
     ]
    },
    {
     "name": "stdout",
     "output_type": "stream",
     "text": [
      "=============================================================\n",
      "epoch: 7, source_val_acc_label: 0.8903, target_val_acc_label: 0.5985, source_val_label_loss: 0.3078, target_val_label_loss: 604618.9375, \n",
      "=============================================================\n"
     ]
    },
    {
     "name": "stdout",
     "output_type": "stream",
     "text": [
      "Patience (3) exhausted\n"
     ]
    }
   ],
   "source": [
    "###################################\n",
    "# train\n",
    "###################################\n",
    "jig = PTN_Train_Eval_Test_Jig(model, p.BEST_MODEL_PATH, p.device)\n",
    "\n",
    "jig.train(\n",
    "    train_iterable=datasets.source.processed.train,\n",
    "    source_val_iterable=datasets.source.processed.val,\n",
    "    target_val_iterable=datasets.target.processed.val,\n",
    "    num_epochs=p.n_epoch,\n",
    "    num_logs_per_epoch=p.NUM_LOGS_PER_EPOCH,\n",
    "    patience=p.patience,\n",
    "    optimizer=optimizer,\n",
    "    criteria_for_best=p.criteria_for_best,\n",
    ")"
   ]
  },
  {
   "cell_type": "code",
   "execution_count": 23,
   "id": "31e8fabf",
   "metadata": {
    "execution": {
     "iopub.execute_input": "2022-03-18T16:26:59.151090Z",
     "iopub.status.busy": "2022-03-18T16:26:59.149455Z",
     "iopub.status.idle": "2022-03-18T16:26:59.169903Z",
     "shell.execute_reply": "2022-03-18T16:26:59.169473Z"
    },
    "papermill": {
     "duration": 0.052348,
     "end_time": "2022-03-18T16:26:59.170008",
     "exception": false,
     "start_time": "2022-03-18T16:26:59.117660",
     "status": "completed"
    },
    "tags": []
   },
   "outputs": [],
   "source": [
    "total_experiment_time_secs = time.time() - start_time_secs"
   ]
  },
  {
   "cell_type": "code",
   "execution_count": 24,
   "id": "87b9595b",
   "metadata": {
    "execution": {
     "iopub.execute_input": "2022-03-18T16:26:59.236675Z",
     "iopub.status.busy": "2022-03-18T16:26:59.236403Z",
     "iopub.status.idle": "2022-03-18T16:28:01.944167Z",
     "shell.execute_reply": "2022-03-18T16:28:01.944571Z"
    },
    "papermill": {
     "duration": 62.740309,
     "end_time": "2022-03-18T16:28:01.944713",
     "exception": false,
     "start_time": "2022-03-18T16:26:59.204404",
     "status": "completed"
    },
    "tags": []
   },
   "outputs": [],
   "source": [
    "###################################\n",
    "# Evaluate the model\n",
    "###################################\n",
    "source_test_label_accuracy, source_test_label_loss = jig.test(datasets.source.processed.test)\n",
    "target_test_label_accuracy, target_test_label_loss = jig.test(datasets.target.processed.test)\n",
    "\n",
    "source_val_label_accuracy, source_val_label_loss = jig.test(datasets.source.processed.val)\n",
    "target_val_label_accuracy, target_val_label_loss = jig.test(datasets.target.processed.val)\n",
    "\n",
    "history = jig.get_history()\n",
    "\n",
    "total_epochs_trained = len(history[\"epoch_indices\"])\n",
    "\n",
    "val_dl = Iterable_Aggregator((datasets.source.original.val,datasets.target.original.val))\n",
    "\n",
    "confusion = ptn_confusion_by_domain_over_dataloader(model, p.device, val_dl)\n",
    "per_domain_accuracy = per_domain_accuracy_from_confusion(confusion)\n",
    "\n",
    "# Add a key to per_domain_accuracy for if it was a source domain\n",
    "for domain, accuracy in per_domain_accuracy.items():\n",
    "    per_domain_accuracy[domain] = {\n",
    "        \"accuracy\": accuracy,\n",
    "        \"source?\": domain in p.domains_source\n",
    "    }\n",
    "\n",
    "# Do an independent accuracy assesment JUST TO BE SURE!\n",
    "# _source_test_label_accuracy = independent_accuracy_assesment(model, datasets.source.processed.test, p.device)\n",
    "# _target_test_label_accuracy = independent_accuracy_assesment(model, datasets.target.processed.test, p.device)\n",
    "# _source_val_label_accuracy = independent_accuracy_assesment(model, datasets.source.processed.val, p.device)\n",
    "# _target_val_label_accuracy = independent_accuracy_assesment(model, datasets.target.processed.val, p.device)\n",
    "\n",
    "# assert(_source_test_label_accuracy == source_test_label_accuracy)\n",
    "# assert(_target_test_label_accuracy == target_test_label_accuracy)\n",
    "# assert(_source_val_label_accuracy == source_val_label_accuracy)\n",
    "# assert(_target_val_label_accuracy == target_val_label_accuracy)\n",
    "\n",
    "experiment = {\n",
    "    \"experiment_name\": p.experiment_name,\n",
    "    \"parameters\": dict(p),\n",
    "    \"results\": {\n",
    "        \"source_test_label_accuracy\": source_test_label_accuracy,\n",
    "        \"source_test_label_loss\": source_test_label_loss,\n",
    "        \"target_test_label_accuracy\": target_test_label_accuracy,\n",
    "        \"target_test_label_loss\": target_test_label_loss,\n",
    "        \"source_val_label_accuracy\": source_val_label_accuracy,\n",
    "        \"source_val_label_loss\": source_val_label_loss,\n",
    "        \"target_val_label_accuracy\": target_val_label_accuracy,\n",
    "        \"target_val_label_loss\": target_val_label_loss,\n",
    "        \"total_epochs_trained\": total_epochs_trained,\n",
    "        \"total_experiment_time_secs\": total_experiment_time_secs,\n",
    "        \"confusion\": confusion,\n",
    "        \"per_domain_accuracy\": per_domain_accuracy,\n",
    "    },\n",
    "    \"history\": history,\n",
    "    \"dataset_metrics\": get_dataset_metrics(datasets, \"ptn\"),\n",
    "}"
   ]
  },
  {
   "cell_type": "code",
   "execution_count": 25,
   "id": "54a21829",
   "metadata": {
    "execution": {
     "iopub.execute_input": "2022-03-18T16:28:02.011277Z",
     "iopub.status.busy": "2022-03-18T16:28:02.010927Z",
     "iopub.status.idle": "2022-03-18T16:28:02.138005Z",
     "shell.execute_reply": "2022-03-18T16:28:02.137591Z"
    },
    "papermill": {
     "duration": 0.157592,
     "end_time": "2022-03-18T16:28:02.138102",
     "exception": false,
     "start_time": "2022-03-18T16:28:01.980510",
     "status": "completed"
    },
    "tags": []
   },
   "outputs": [
    {
     "data": {
      "image/png": "[encoded data removed]",
      "text/plain": [
       "<Figure size 1080x504 with 1 Axes>"
      ]
     },
     "metadata": {
      "needs_background": "light"
     },
     "output_type": "display_data"
    }
   ],
   "source": [
    "ax = get_loss_curve(experiment)\n",
    "plt.show()"
   ]
  },
  {
   "cell_type": "code",
   "execution_count": 26,
   "id": "fd8a0f60",
   "metadata": {
    "execution": {
     "iopub.execute_input": "2022-03-18T16:28:02.203104Z",
     "iopub.status.busy": "2022-03-18T16:28:02.202641Z",
     "iopub.status.idle": "2022-03-18T16:28:02.345261Z",
     "shell.execute_reply": "2022-03-18T16:28:02.345709Z"
    },
    "papermill": {
     "duration": 0.173949,
     "end_time": "2022-03-18T16:28:02.345833",
     "exception": false,
     "start_time": "2022-03-18T16:28:02.171884",
     "status": "completed"
    },
    "tags": []
   },
   "outputs": [
    {
     "data": {
      "text/plain": [
       "<AxesSubplot:title={'center':'Results'}>"
      ]
     },
     "execution_count": 26,
     "metadata": {},
     "output_type": "execute_result"
    },
    {
     "data": {
      "image/png": "[encoded data removed]",
      "text/plain": [
       "<Figure size 1080x504 with 1 Axes>"
      ]
     },
     "metadata": {
      "needs_background": "light"
     },
     "output_type": "display_data"
    }
   ],
   "source": [
    "get_results_table(experiment)"
   ]
  },
  {
   "cell_type": "code",
   "execution_count": 27,
   "id": "cf8dc689",
   "metadata": {
    "execution": {
     "iopub.execute_input": "2022-03-18T16:28:02.416798Z",
     "iopub.status.busy": "2022-03-18T16:28:02.416468Z",
     "iopub.status.idle": "2022-03-18T16:28:02.572270Z",
     "shell.execute_reply": "2022-03-18T16:28:02.571798Z"
    },
    "papermill": {
     "duration": 0.188731,
     "end_time": "2022-03-18T16:28:02.572380",
     "exception": false,
     "start_time": "2022-03-18T16:28:02.383649",
     "status": "completed"
    },
    "tags": []
   },
   "outputs": [
    {
     "data": {
      "text/plain": [
       "<AxesSubplot:title={'center':'Per Domain Validation Accuracy'}, xlabel='domain'>"
      ]
     },
     "execution_count": 27,
     "metadata": {},
     "output_type": "execute_result"
    },
    {
     "data": {
      "image/png": "[encoded data removed]",
      "text/plain": [
       "<Figure size 1080x504 with 1 Axes>"
      ]
     },
     "metadata": {
      "needs_background": "light"
     },
     "output_type": "display_data"
    }
   ],
   "source": [
    "get_domain_accuracies(experiment)"
   ]
  },
  {
   "cell_type": "code",
   "execution_count": 28,
   "id": "a74ae082",
   "metadata": {
    "execution": {
     "iopub.execute_input": "2022-03-18T16:28:02.643861Z",
     "iopub.status.busy": "2022-03-18T16:28:02.643593Z",
     "iopub.status.idle": "2022-03-18T16:28:02.655175Z",
     "shell.execute_reply": "2022-03-18T16:28:02.655406Z"
    },
    "papermill": {
     "duration": 0.045279,
     "end_time": "2022-03-18T16:28:02.655468",
     "exception": false,
     "start_time": "2022-03-18T16:28:02.610189",
     "status": "completed"
    },
    "tags": []
   },
   "outputs": [
    {
     "name": "stdout",
     "output_type": "stream",
     "text": [
      "Source Test Label Accuracy: 0.8604166666666667 Target Test Label Accuracy: 0.6069135273972602\n",
      "Source Val Label Accuracy: 0.8577473958333334 Target Val Label Accuracy: 0.6100171232876712\n"
     ]
    }
   ],
   "source": [
    "print(\"Source Test Label Accuracy:\", experiment[\"results\"][\"source_test_label_accuracy\"], \"Target Test Label Accuracy:\", experiment[\"results\"][\"target_test_label_accuracy\"])\n",
    "print(\"Source Val Label Accuracy:\", experiment[\"results\"][\"source_val_label_accuracy\"], \"Target Val Label Accuracy:\", experiment[\"results\"][\"target_val_label_accuracy\"])"
   ]
  },
  {
   "cell_type": "code",
   "execution_count": 29,
   "id": "dacca602",
   "metadata": {
    "execution": {
     "iopub.execute_input": "2022-03-18T16:28:02.731621Z",
     "iopub.status.busy": "2022-03-18T16:28:02.729692Z",
     "iopub.status.idle": "2022-03-18T16:28:02.740840Z",
     "shell.execute_reply": "2022-03-18T16:28:02.741149Z"
    },
    "papermill": {
     "duration": 0.047693,
     "end_time": "2022-03-18T16:28:02.741237",
     "exception": false,
     "start_time": "2022-03-18T16:28:02.693544",
     "status": "completed"
    },
    "tags": [
     "experiment_json"
    ]
   },
   "outputs": [
    {
     "data": {
      "text/plain": [
       "'{\"experiment_name\": \"tl_3A:oracle.run1.framed -> cores+wisig\", \"parameters\": {\"experiment_name\": \"tl_3A:oracle.run1.framed -> cores+wisig\", \"device\": \"cuda\", \"lr\": 0.001, \"seed\": 1337, \"dataset_seed\": 1337, \"x_shape\": [2, 200], \"n_shot\": 3, \"n_query\": 2, \"train_k_factor\": 3, \"val_k_factor\": 2, \"test_k_factor\": 2, \"torch_default_dtype\": \"torch.float32\", \"n_epoch\": 50, \"patience\": 3, \"criteria_for_best\": \"target_loss\", \"x_net\": [{\"class\": \"nnReshape\", \"kargs\": {\"shape\": [-1, 1, 2, 200]}}, {\"class\": \"Conv2d\", \"kargs\": {\"in_channels\": 1, \"out_channels\": 256, \"kernel_size\": [1, 7], \"bias\": false, \"padding\": [0, 3]}}, {\"class\": \"ReLU\", \"kargs\": {\"inplace\": true}}, {\"class\": \"BatchNorm2d\", \"kargs\": {\"num_features\": 256}}, {\"class\": \"Conv2d\", \"kargs\": {\"in_channels\": 256, \"out_channels\": 80, \"kernel_size\": [2, 7], \"bias\": true, \"padding\": [0, 3]}}, {\"class\": \"ReLU\", \"kargs\": {\"inplace\": true}}, {\"class\": \"BatchNorm2d\", \"kargs\": {\"num_features\": 80}}, {\"class\": \"Flatten\", \"kargs\": {}}, {\"class\": \"Linear\", \"kargs\": {\"in_features\": 16000, \"out_features\": 256}}, {\"class\": \"ReLU\", \"kargs\": {\"inplace\": true}}, {\"class\": \"BatchNorm1d\", \"kargs\": {\"num_features\": 256}}, {\"class\": \"Linear\", \"kargs\": {\"in_features\": 256, \"out_features\": 256}}], \"NUM_LOGS_PER_EPOCH\": 10, \"BEST_MODEL_PATH\": \"./best_model.pth\", \"n_way\": 16, \"datasets\": [{\"labels\": [\"1-10.\", \"1-11.\", \"1-15.\", \"1-16.\", \"1-17.\", \"1-18.\", \"1-19.\", \"10-4.\", \"10-7.\", \"11-1.\", \"11-14.\", \"11-17.\", \"11-20.\", \"11-7.\", \"13-20.\", \"13-8.\", \"14-10.\", \"14-11.\", \"14-14.\", \"14-7.\", \"15-1.\", \"15-20.\", \"16-1.\", \"16-16.\", \"17-10.\", \"17-11.\", \"17-2.\", \"19-1.\", \"19-16.\", \"19-19.\", \"19-20.\", \"19-3.\", \"2-10.\", \"2-11.\", \"2-17.\", \"2-18.\", \"2-20.\", \"2-3.\", \"2-4.\", \"2-5.\", \"2-6.\", \"2-7.\", \"2-8.\", \"3-13.\", \"3-18.\", \"3-3.\", \"4-1.\", \"4-10.\", \"4-11.\", \"4-19.\", \"5-5.\", \"6-15.\", \"7-10.\", \"7-14.\", \"8-18.\", \"8-20.\", \"8-3.\", \"8-8.\"], \"domains\": [1, 2, 3, 4, 5], \"num_examples_per_domain_per_label\": 100, \"pickle_path\": \"/mnt/wd500GB/CSC500/csc500-main/datasets/cores.stratified_ds.2022A.pkl\", \"source_or_target_dataset\": \"target\", \"x_transforms\": [\"take_200\"], \"episode_transforms\": [], \"domain_prefix\": \"C_A_\"}, {\"labels\": [\"1-10\", \"1-12\", \"1-14\", \"1-16\", \"1-18\", \"1-19\", \"1-8\", \"10-11\", \"10-17\", \"10-4\", \"10-7\", \"11-1\", \"11-10\", \"11-19\", \"11-20\", \"11-4\", \"11-7\", \"12-19\", \"12-20\", \"12-7\", \"13-14\", \"13-18\", \"13-19\", \"13-20\", \"13-3\", \"13-7\", \"14-10\", \"14-11\", \"14-12\", \"14-13\", \"14-14\", \"14-19\", \"14-20\", \"14-7\", \"14-8\", \"14-9\", \"15-1\", \"15-19\", \"15-6\", \"16-1\", \"16-16\", \"16-19\", \"16-20\", \"17-10\", \"17-11\", \"18-1\", \"18-10\", \"18-11\", \"18-12\", \"18-13\", \"18-14\", \"18-15\", \"18-16\", \"18-17\", \"18-19\", \"18-2\", \"18-20\", \"18-4\", \"18-5\", \"18-7\", \"18-8\", \"18-9\", \"19-1\", \"19-10\", \"19-11\", \"19-12\", \"19-13\", \"19-14\", \"19-15\", \"19-19\", \"19-2\", \"19-20\", \"19-3\", \"19-4\", \"19-6\", \"19-7\", \"19-8\", \"19-9\", \"2-1\", \"2-13\", \"2-15\", \"2-3\", \"2-4\", \"2-5\", \"2-6\", \"2-7\", \"2-8\", \"20-1\", \"20-12\", \"20-14\", \"20-15\", \"20-16\", \"20-18\", \"20-19\", \"20-20\", \"20-3\", \"20-4\", \"20-5\", \"20-7\", \"20-8\", \"3-1\", \"3-13\", \"3-18\", \"3-2\", \"3-8\", \"4-1\", \"4-10\", \"4-11\", \"5-1\", \"5-5\", \"6-1\", \"6-15\", \"6-6\", \"7-10\", \"7-11\", \"7-12\", \"7-13\", \"7-14\", \"7-7\", \"7-8\", \"7-9\", \"8-1\", \"8-13\", \"8-14\", \"8-18\", \"8-20\", \"8-3\", \"8-8\", \"9-1\", \"9-7\"], \"domains\": [1, 2, 3, 4], \"num_examples_per_domain_per_label\": 100, \"pickle_path\": \"/mnt/wd500GB/CSC500/csc500-main/datasets/wisig.node3-19.stratified_ds.2022A.pkl\", \"source_or_target_dataset\": \"target\", \"x_transforms\": [\"take_200\"], \"episode_transforms\": [], \"domain_prefix\": \"W_A_\"}, {\"labels\": [\"3123D52\", \"3123D65\", \"3123D79\", \"3123D80\", \"3123D54\", \"3123D70\", \"3123D7B\", \"3123D89\", \"3123D58\", \"3123D76\", \"3123D7D\", \"3123EFE\", \"3123D64\", \"3123D78\", \"3123D7E\", \"3124E4A\"], \"domains\": [32, 38, 8, 44, 14, 50, 20, 26], \"num_examples_per_domain_per_label\": 2000, \"pickle_path\": \"/mnt/wd500GB/CSC500/csc500-main/datasets/oracle.Run1_framed_2000Examples_stratified_ds.2022A.pkl\", \"source_or_target_dataset\": \"source\", \"x_transforms\": [\"take_200\", \"resample_20Msps_to_25Msps\"], \"episode_transforms\": [], \"domain_prefix\": \"ORACLE.run1_\"}], \"domains_source\": [\"ORACLE.run1_32\", \"ORACLE.run1_38\", \"ORACLE.run1_8\", \"ORACLE.run1_44\", \"ORACLE.run1_14\", \"ORACLE.run1_50\", \"ORACLE.run1_20\", \"ORACLE.run1_26\"], \"domains_target\": [\"C_A_1\", \"C_A_2\", \"C_A_3\", \"C_A_4\", \"C_A_5\", \"W_A_1\", \"W_A_2\", \"W_A_3\", \"W_A_4\"]}, \"results\": {\"source_test_label_accuracy\": 0.8604166666666667, \"source_test_label_loss\": 0.41160523891448975, \"target_test_label_accuracy\": 0.6069135273972602, \"target_test_label_loss\": 222636.59375, \"source_val_label_accuracy\": 0.8577473958333334, \"source_val_label_loss\": 0.4105944037437439, \"target_val_label_accuracy\": 0.6100171232876712, \"target_val_label_loss\": 219664.9375, \"total_epochs_trained\": 7, \"total_experiment_time_secs\": 1138.2655100822449, \"confusion\": {\"ORACLE.run1_14\": {\"15\": {\"15\": 240}, \"3\": {\"3\": 238, \"13\": 1, \"14\": 1}, \"6\": {\"6\": 152, \"13\": 58, \"2\": 5, \"14\": 24, \"3\": 1}, \"1\": {\"1\": 240}, \"8\": {\"8\": 240}, \"10\": {\"10\": 240}, \"9\": {\"9\": 240}, \"13\": {\"14\": 65, \"13\": 41, \"2\": 29, \"6\": 82, \"15\": 22, \"5\": 1}, \"12\": {\"12\": 240}, \"5\": {\"5\": 222, \"2\": 13, \"4\": 4, \"7\": 1}, \"0\": {\"0\": 212, \"3\": 20, \"10\": 7, \"14\": 1}, \"2\": {\"4\": 10, \"13\": 12, \"2\": 137, \"5\": 37, \"14\": 26, \"6\": 15, \"3\": 3}, \"11\": {\"11\": 240}, \"14\": {\"14\": 201, \"13\": 29, \"2\": 6, \"6\": 4}, \"7\": {\"7\": 238, \"5\": 2}, \"4\": {\"4\": 229, \"5\": 10, \"2\": 1}}, \"ORACLE.run1_20\": {\"3\": {\"9\": 27, \"3\": 175, \"5\": 25, \"8\": 9, \"1\": 4}, \"15\": {\"15\": 198, \"1\": 26, \"12\": 14, \"13\": 1, \"2\": 1}, \"8\": {\"8\": 229, \"14\": 6, \"3\": 4, \"0\": 1}, \"4\": {\"4\": 227, \"12\": 9, \"10\": 3, \"2\": 1}, \"14\": {\"14\": 235, \"8\": 5}, \"0\": {\"0\": 232, \"3\": 3, \"5\": 5}, \"7\": {\"9\": 24, \"7\": 200, \"2\": 12, \"4\": 2, \"3\": 2}, \"6\": {\"6\": 237, \"10\": 2, \"7\": 1}, \"10\": {\"10\": 238, \"4\": 2}, \"5\": {\"5\": 163, \"1\": 50, \"3\": 22, \"8\": 1, \"9\": 4}, \"2\": {\"2\": 170, \"7\": 25, \"12\": 30, \"9\": 8, \"13\": 5, \"4\": 1, \"1\": 1}, \"12\": {\"12\": 196, \"4\": 3, \"2\": 23, \"15\": 12, \"1\": 3, \"7\": 1, \"13\": 2}, \"9\": {\"9\": 192, \"1\": 4, \"7\": 20, \"5\": 1, \"3\": 22, \"2\": 1}, \"1\": {\"1\": 179, \"5\": 53, \"15\": 3, \"12\": 4, \"9\": 1}, \"11\": {\"11\": 240}, \"13\": {\"13\": 227, \"12\": 6, \"2\": 7}}, \"ORACLE.run1_38\": {\"5\": {\"8\": 90, \"7\": 16, \"5\": 111, \"15\": 5, \"9\": 17, \"13\": 1}, \"8\": {\"8\": 147, \"7\": 16, \"5\": 66, \"0\": 3, \"13\": 1, \"15\": 7}, \"11\": {\"11\": 234, \"3\": 6}, \"1\": {\"1\": 240}, \"10\": {\"10\": 213, \"0\": 16, \"13\": 10, \"4\": 1}, \"15\": {\"15\": 229, \"8\": 5, \"1\": 3, \"5\": 3}, \"3\": {\"3\": 240}, \"7\": {\"7\": 228, \"5\": 4, \"8\": 3, \"4\": 1, \"0\": 4}, \"4\": {\"4\": 239, \"10\": 1}, \"14\": {\"14\": 221, \"2\": 17, \"13\": 2}, \"9\": {\"9\": 234, \"5\": 5, \"7\": 1}, \"12\": {\"12\": 240}, \"6\": {\"6\": 240}, \"2\": {\"2\": 223, \"14\": 17}, \"0\": {\"7\": 29, \"0\": 162, \"13\": 14, \"3\": 13, \"10\": 20, \"5\": 2}, \"13\": {\"13\": 231, \"0\": 3, \"10\": 5, \"2\": 1}}, \"ORACLE.run1_8\": {\"9\": {\"9\": 240}, \"10\": {\"5\": 6, \"10\": 210, \"13\": 22, \"1\": 2}, \"13\": {\"13\": 190, \"7\": 2, \"6\": 18, \"10\": 30}, \"0\": {\"0\": 240}, \"1\": {\"1\": 155, \"5\": 11, \"11\": 71, \"10\": 3}, \"15\": {\"15\": 227, \"12\": 13}, \"5\": {\"5\": 203, \"11\": 4, \"1\": 22, \"10\": 11}, \"3\": {\"3\": 238, \"2\": 2}, \"6\": {\"6\": 185, \"7\": 42, \"4\": 2, \"13\": 10, \"8\": 1}, \"11\": {\"11\": 136, \"1\": 91, \"5\": 11, \"4\": 1, \"10\": 1}, \"8\": {\"8\": 239, \"7\": 1}, \"4\": {\"4\": 228, \"14\": 4, \"6\": 5, \"10\": 1, \"11\": 1, \"13\": 1}, \"12\": {\"12\": 177, \"15\": 63}, \"14\": {\"14\": 219, \"11\": 11, \"4\": 10}, \"2\": {\"2\": 192, \"3\": 42, \"12\": 5, \"15\": 1}, \"7\": {\"7\": 202, \"6\": 37, \"13\": 1}}, \"ORACLE.run1_50\": {\"7\": {\"7\": 231, \"5\": 8, \"4\": 1}, \"3\": {\"3\": 240}, \"8\": {\"8\": 237, \"10\": 3}, \"2\": {\"2\": 213, \"0\": 27}, \"14\": {\"14\": 240}, \"4\": {\"4\": 205, \"7\": 15, \"5\": 11, \"15\": 7, \"6\": 2}, \"6\": {\"6\": 199, \"15\": 7, \"5\": 34}, \"15\": {\"15\": 220, \"11\": 9, \"6\": 9, \"5\": 2}, \"10\": {\"10\": 237, \"8\": 2, \"0\": 1}, \"11\": {\"11\": 220, \"9\": 11, \"15\": 4, \"12\": 5}, \"13\": {\"13\": 240}, \"9\": {\"9\": 203, \"12\": 18, \"11\": 19}, \"0\": {\"0\": 211, \"10\": 9, \"2\": 20}, \"1\": {\"1\": 233, \"10\": 5, \"13\": 2}, \"12\": {\"12\": 224, \"9\": 14, \"11\": 2}, \"5\": {\"5\": 105, \"15\": 3, \"7\": 57, \"6\": 56, \"13\": 6, \"4\": 12, \"1\": 1}}, \"ORACLE.run1_32\": {\"8\": {\"8\": 201, \"0\": 23, \"14\": 7, \"5\": 9}, \"14\": {\"14\": 164, \"4\": 9, \"7\": 44, \"8\": 5, \"5\": 6, \"0\": 7, \"3\": 2, \"2\": 3}, \"2\": {\"2\": 203, \"4\": 36, \"14\": 1}, \"0\": {\"5\": 14, \"8\": 25, \"0\": 171, \"7\": 24, \"14\": 6}, \"1\": {\"1\": 240}, \"10\": {\"10\": 240}, \"11\": {\"11\": 240}, \"5\": {\"7\": 46, \"5\": 131, \"0\": 33, \"8\": 27, \"14\": 3}, \"15\": {\"15\": 239, \"8\": 1}, \"3\": {\"3\": 232, \"13\": 8}, \"12\": {\"12\": 240}, \"7\": {\"5\": 36, \"7\": 155, \"14\": 23, \"0\": 25, \"8\": 1}, \"13\": {\"13\": 184, \"3\": 26, \"4\": 30}, \"6\": {\"6\": 240}, \"4\": {\"4\": 185, \"2\": 45, \"13\": 9, \"8\": 1}, \"9\": {\"9\": 237, \"12\": 3}}, \"ORACLE.run1_26\": {\"4\": {\"4\": 240}, \"12\": {\"12\": 240}, \"10\": {\"14\": 48, \"10\": 143, \"6\": 14, \"15\": 6, \"0\": 29}, \"0\": {\"0\": 170, \"14\": 29, \"10\": 36, \"6\": 1, \"7\": 1, \"8\": 2, \"15\": 1}, \"13\": {\"2\": 9, \"13\": 209, \"3\": 4, \"9\": 18}, \"9\": {\"2\": 14, \"13\": 9, \"9\": 185, \"8\": 28, \"7\": 4}, \"3\": {\"3\": 216, \"2\": 8, \"7\": 15, \"9\": 1}, \"2\": {\"2\": 144, \"7\": 38, \"3\": 25, \"8\": 8, \"9\": 21, \"15\": 3, \"0\": 1}, \"5\": {\"15\": 53, \"5\": 186, \"6\": 1}, \"14\": {\"1\": 12, \"14\": 151, \"10\": 49, \"0\": 26, \"15\": 1, \"5\": 1}, \"8\": {\"8\": 190, \"7\": 29, \"2\": 3, \"0\": 3, \"9\": 15}, \"7\": {\"7\": 167, \"8\": 34, \"2\": 30, \"9\": 4, \"3\": 5}, \"6\": {\"6\": 209, \"10\": 11, \"14\": 2, \"15\": 16, \"5\": 2}, \"11\": {\"11\": 240}, \"15\": {\"10\": 10, \"6\": 21, \"5\": 67, \"15\": 139, \"0\": 2, \"1\": 1}, \"1\": {\"1\": 189, \"14\": 43, \"10\": 4, \"0\": 2, \"6\": 1, \"15\": 1}}, \"ORACLE.run1_44\": {\"12\": {\"12\": 238, \"3\": 2}, \"7\": {\"7\": 209, \"9\": 29, \"10\": 2}, \"5\": {\"5\": 207, \"15\": 18, \"8\": 3, \"4\": 1, \"14\": 11}, \"15\": {\"15\": 211, \"14\": 6, \"5\": 11, \"8\": 11, \"4\": 1}, \"8\": {\"0\": 64, \"8\": 163, \"15\": 8, \"5\": 5}, \"2\": {\"2\": 226, \"1\": 12, \"10\": 2}, \"13\": {\"13\": 189, \"6\": 44, \"9\": 7}, \"4\": {\"4\": 156, \"14\": 80, \"5\": 2, \"15\": 2}, \"0\": {\"8\": 34, \"0\": 206}, \"6\": {\"9\": 20, \"6\": 181, \"13\": 38, \"7\": 1}, \"9\": {\"9\": 108, \"7\": 82, \"6\": 29, \"13\": 16, \"4\": 3, \"2\": 2}, \"11\": {\"11\": 239, \"13\": 1}, \"10\": {\"10\": 217, \"1\": 10, \"7\": 6, \"2\": 7}, \"14\": {\"4\": 59, \"14\": 161, \"5\": 8, \"15\": 12}, \"1\": {\"2\": 12, \"1\": 228}, \"3\": {\"3\": 232, \"12\": 8}}, \"C_A_3\": {\"43\": {\"24\": 1, \"43\": 10, \"38\": 1}, \"9\": {\"9\": 6, \"32\": 1, \"29\": 2, \"4\": 1, \"1\": 1, \"47\": 1}, \"6\": {\"6\": 6, \"45\": 2, \"3\": 1, \"44\": 1}, \"3\": {\"6\": 1, \"44\": 2, \"46\": 1, \"3\": 4, \"12\": 2, \"5\": 2}, \"16\": {\"16\": 8, \"53\": 1, \"11\": 2, \"18\": 1}, \"51\": {\"51\": 12}, \"31\": {\"31\": 9, \"49\": 3}, \"46\": {\"46\": 3, \"3\": 1, \"44\": 2, \"5\": 3, \"45\": 1}, \"19\": {\"19\": 6, \"42\": 2}, \"8\": {\"8\": 8, \"9\": 1, \"52\": 2, \"33\": 1}, \"18\": {\"16\": 1, \"18\": 6, \"25\": 3, \"11\": 1, \"28\": 1}, \"37\": {\"37\": 11, \"43\": 1}, \"24\": {\"43\": 1, \"37\": 1, \"24\": 9, \"26\": 1}, \"10\": {\"10\": 12}, \"44\": {\"44\": 4, \"46\": 1, \"3\": 1, \"6\": 2, \"5\": 2}, \"14\": {\"14\": 5, \"8\": 1, \"41\": 1, \"57\": 1, \"32\": 1, \"29\": 1, \"39\": 1, \"27\": 1}, \"38\": {\"38\": 10}, \"53\": {\"53\": 11, \"37\": 1}, \"20\": {\"33\": 1, \"20\": 8, \"7\": 1, \"40\": 1, \"8\": 1}, \"32\": {\"32\": 12}, \"36\": {\"36\": 9, \"35\": 1}, \"33\": {\"33\": 7, \"57\": 1, \"32\": 1, \"14\": 1, \"27\": 1, \"8\": 1}, \"56\": {\"3\": 1, \"44\": 1, \"5\": 3, \"56\": 1, \"12\": 4, \"6\": 2}, \"23\": {\"36\": 1, \"23\": 8, \"31\": 3}, \"54\": {\"54\": 9, \"37\": 1}, \"34\": {\"55\": 1, \"34\": 7, \"32\": 2, \"27\": 2}, \"13\": {\"13\": 12}, \"2\": {\"2\": 12}, \"55\": {\"2\": 1, \"34\": 3, \"55\": 5, \"42\": 1}, \"21\": {\"21\": 6, \"50\": 1, \"0\": 1, \"52\": 1, \"45\": 1}, \"49\": {\"49\": 6, \"34\": 2, \"32\": 1, \"35\": 1}, \"25\": {\"18\": 1, \"25\": 11}, \"5\": {\"5\": 12}, \"50\": {\"50\": 3, \"3\": 1, \"40\": 1, \"47\": 1, \"21\": 1, \"12\": 1}, \"40\": {\"50\": 2, \"4\": 1, \"22\": 1, \"14\": 2, \"40\": 3, \"5\": 1, \"39\": 1, \"41\": 1}, \"57\": {\"57\": 4, \"52\": 1, \"29\": 1, \"27\": 1, \"1\": 1}, \"22\": {\"5\": 3, \"22\": 3, \"45\": 1, \"0\": 1, \"6\": 1, \"3\": 1}, \"1\": {\"1\": 7, \"4\": 1, \"52\": 1, \"30\": 1}, \"17\": {\"17\": 9, \"35\": 1, \"31\": 1, \"23\": 1}, \"41\": {\"41\": 12}, \"4\": {\"1\": 3, \"41\": 1, \"48\": 1, \"8\": 1, \"4\": 2, \"9\": 1, \"55\": 1}, \"7\": {\"7\": 8, \"32\": 1, \"47\": 1}, \"26\": {\"26\": 7, \"15\": 1, \"24\": 1, \"31\": 1}, \"29\": {\"57\": 2, \"29\": 7, \"4\": 1, \"27\": 1, \"32\": 1}, \"52\": {\"40\": 1, \"52\": 4, \"47\": 3, \"0\": 1, \"48\": 1, \"1\": 1, \"30\": 1}, \"15\": {\"15\": 12}, \"35\": {\"31\": 1, \"35\": 9, \"17\": 2}, \"42\": {\"35\": 1, \"42\": 4, \"49\": 2, \"55\": 1, \"34\": 2, \"43\": 1, \"36\": 1}, \"30\": {\"30\": 7, \"0\": 1, \"20\": 1, \"12\": 1}, \"27\": {\"57\": 3, \"27\": 3, \"4\": 1, \"33\": 1}, \"45\": {\"6\": 2, \"21\": 1, \"45\": 1, \"5\": 4, \"22\": 2}, \"0\": {\"0\": 5, \"30\": 1, \"45\": 1, \"6\": 2, \"22\": 2, \"1\": 1}, \"28\": {\"28\": 7, \"16\": 1, \"15\": 2, \"23\": 2}, \"47\": {\"0\": 1, \"47\": 3, \"41\": 1, \"30\": 2, \"48\": 2, \"4\": 1, \"9\": 1, \"50\": 1}, \"11\": {\"11\": 8, \"15\": 1, \"53\": 1}, \"39\": {\"38\": 1, \"39\": 9}, \"48\": {\"39\": 2, \"48\": 7, \"1\": 2, \"33\": 1}, \"12\": {\"12\": 8}}, \"C_A_4\": {\"35\": {\"38\": 1, \"35\": 6, \"17\": 2, \"33\": 1}, \"25\": {\"25\": 11, \"11\": 1}, \"24\": {\"24\": 7, \"43\": 1, \"36\": 2}, \"48\": {\"9\": 3, \"1\": 1, \"48\": 5, \"57\": 2, \"47\": 1}, \"51\": {\"51\": 10, \"37\": 2}, \"13\": {\"13\": 11, \"21\": 1}, \"14\": {\"48\": 1, \"13\": 1, \"36\": 1, \"8\": 1, \"14\": 3, \"57\": 1}, \"32\": {\"32\": 5, \"24\": 2, \"38\": 3, \"41\": 2}, \"30\": {\"30\": 3, \"6\": 2, \"47\": 1, \"46\": 1, \"56\": 2, \"5\": 1, \"44\": 1, \"8\": 1}, \"34\": {\"34\": 5, \"35\": 1, \"55\": 1, \"19\": 1, \"41\": 1, \"32\": 1}, \"9\": {\"1\": 1, \"9\": 7, \"4\": 2, \"57\": 2}, \"1\": {\"1\": 10, \"9\": 1, \"30\": 1}, \"0\": {\"0\": 3, \"1\": 1, \"6\": 2, \"45\": 1, \"5\": 2, \"3\": 2, \"46\": 1}, \"38\": {\"14\": 2, \"38\": 7, \"27\": 2, \"29\": 1}, \"22\": {\"22\": 3, \"46\": 1, \"3\": 1, \"45\": 1, \"5\": 2}, \"40\": {\"1\": 2, \"0\": 3, \"40\": 4, \"47\": 2, \"44\": 1}, \"39\": {\"39\": 8, \"14\": 1, \"36\": 1, \"2\": 2}, \"46\": {\"6\": 1, \"5\": 1, \"3\": 2, \"44\": 1, \"22\": 2, \"46\": 4, \"1\": 1}, \"36\": {\"36\": 12}, \"50\": {\"50\": 4, \"6\": 4, \"5\": 2, \"12\": 1, \"3\": 1}, \"49\": {\"32\": 2, \"17\": 2, \"49\": 4, \"55\": 2, \"38\": 1, \"35\": 1}, \"17\": {\"17\": 2, \"35\": 1, \"33\": 3, \"19\": 4, \"49\": 2}, \"45\": {\"6\": 3, \"45\": 6, \"46\": 2, \"0\": 1}, \"6\": {\"6\": 12}, \"8\": {\"8\": 11, \"52\": 1}, \"5\": {\"6\": 2, \"5\": 6, \"3\": 1, \"30\": 1}, \"33\": {\"33\": 8, \"39\": 1, \"19\": 2, \"41\": 1}, \"31\": {\"31\": 12}, \"37\": {\"37\": 8, \"51\": 1, \"43\": 1}, \"47\": {\"50\": 2, \"57\": 2, \"1\": 1, \"9\": 1, \"47\": 2}, \"15\": {\"15\": 7, \"16\": 1, \"11\": 1, \"10\": 1}, \"7\": {\"7\": 11, \"55\": 1}, \"20\": {\"20\": 10, \"8\": 1, \"1\": 1}, \"4\": {\"44\": 2, \"4\": 3, \"9\": 1, \"48\": 2, \"0\": 1, \"39\": 1, \"52\": 2}, \"54\": {\"54\": 12}, \"44\": {\"44\": 6, \"3\": 1, \"56\": 1, \"5\": 2, \"30\": 1, \"6\": 1}, \"3\": {\"22\": 2, \"3\": 7, \"5\": 2, \"46\": 1}, \"11\": {\"11\": 6, \"42\": 1, \"16\": 1, \"31\": 1, \"15\": 1}, \"27\": {\"27\": 9, \"29\": 1}, \"19\": {\"55\": 1, \"19\": 11}, \"55\": {\"55\": 4, \"39\": 1, \"37\": 1, \"8\": 1, \"41\": 2, \"24\": 1, \"7\": 1, \"35\": 1}, \"16\": {\"16\": 9, \"10\": 1, \"15\": 1, \"23\": 1}, \"2\": {\"2\": 9, \"14\": 1}, \"52\": {\"4\": 1, \"52\": 2, \"0\": 2, \"13\": 1, \"3\": 1, \"44\": 2, \"8\": 1}, \"42\": {\"19\": 2, \"42\": 5, \"54\": 1, \"41\": 1, \"34\": 1}, \"26\": {\"26\": 10, \"28\": 1, \"34\": 1}, \"10\": {\"10\": 12}, \"53\": {\"53\": 8, \"11\": 2}, \"28\": {\"19\": 2, \"28\": 7, \"31\": 1, \"33\": 1, \"49\": 1}, \"21\": {\"21\": 4, \"44\": 1, \"20\": 1, \"1\": 2, \"0\": 1, \"56\": 1}, \"57\": {\"47\": 1, \"57\": 4, \"4\": 1, \"48\": 1, \"1\": 1, \"9\": 2}, \"23\": {\"49\": 2, \"23\": 3, \"32\": 2, \"33\": 1}, \"43\": {\"43\": 10}, \"12\": {\"12\": 7, \"52\": 1, \"44\": 1, \"21\": 1, \"0\": 2}, \"41\": {\"41\": 12}, \"56\": {\"56\": 2, \"44\": 3, \"12\": 1, \"9\": 1, \"5\": 1}, \"18\": {\"18\": 8, \"16\": 1, \"25\": 1}, \"29\": {\"27\": 1, \"1\": 2, \"29\": 3, \"47\": 2}}, \"W_A_3\": {\"109\": {\"24\": 1, \"7\": 1, \"109\": 8, \"96\": 1, \"126\": 1}, \"127\": {\"84\": 1, \"127\": 9, \"3\": 1, \"49\": 1}, \"14\": {\"14\": 7, \"114\": 2, \"40\": 1, \"69\": 2}, \"7\": {\"109\": 2, \"7\": 7, \"101\": 3}, \"129\": {\"129\": 11, \"42\": 1}, \"57\": {\"57\": 8, \"48\": 1, \"86\": 1, \"121\": 1, \"56\": 1}, \"84\": {\"127\": 1, \"114\": 1, \"84\": 4, \"0\": 1, \"30\": 1, \"99\": 1, \"62\": 2, \"3\": 1}, \"114\": {\"35\": 1, \"114\": 7, \"31\": 1, \"25\": 1, \"1\": 1, \"72\": 1}, \"44\": {\"44\": 6, \"100\": 1, \"114\": 1, \"1\": 1, \"71\": 1, \"23\": 1, \"113\": 1}, \"21\": {\"21\": 12}, \"46\": {\"46\": 10, \"5\": 1, \"85\": 1}, \"100\": {\"46\": 2, \"19\": 2, \"44\": 2, \"100\": 3, \"76\": 1, \"85\": 1, \"92\": 1}, \"63\": {\"63\": 8, \"35\": 1, \"99\": 1, \"59\": 1, \"75\": 1}, \"24\": {\"24\": 8, \"21\": 1, \"27\": 1, \"36\": 2}, \"107\": {\"107\": 8, \"35\": 1, \"69\": 1, \"9\": 2}, \"35\": {\"7\": 1, \"35\": 4, \"118\": 2, \"109\": 1, \"51\": 1, \"47\": 1}, \"81\": {\"81\": 9, \"92\": 2, \"55\": 1}, \"64\": {\"77\": 2, \"120\": 2, \"64\": 6, \"92\": 1, \"22\": 1}, \"59\": {\"87\": 1, \"59\": 9, \"25\": 1, \"56\": 1}, \"33\": {\"33\": 11, \"14\": 1}, \"34\": {\"34\": 6, \"95\": 2, \"54\": 1, \"98\": 1, \"18\": 1, \"83\": 1}, \"36\": {\"36\": 8, \"24\": 2, \"21\": 1, \"10\": 1}, \"79\": {\"79\": 10, \"104\": 1, \"115\": 1}, \"80\": {\"80\": 9, \"10\": 1, \"67\": 2}, \"77\": {\"77\": 5, \"64\": 1, \"41\": 1, \"73\": 1, \"66\": 1, \"28\": 1, \"92\": 1, \"42\": 1}, \"22\": {\"2\": 1, \"80\": 1, \"98\": 1, \"22\": 6, \"45\": 1, \"28\": 1, \"125\": 1}, \"124\": {\"59\": 1, \"81\": 1, \"124\": 8, \"66\": 1, \"111\": 1}, \"2\": {\"77\": 1, \"2\": 6, \"90\": 1, \"25\": 2, \"80\": 1, \"59\": 1}, \"87\": {\"109\": 2, \"24\": 1, \"11\": 1, \"122\": 2, \"96\": 2, \"12\": 1, \"87\": 3}, \"105\": {\"105\": 9, \"100\": 1, \"26\": 1, \"114\": 1}, \"95\": {\"126\": 1, \"95\": 8, \"3\": 2, \"53\": 1}, \"43\": {\"8\": 1, \"43\": 6, \"101\": 1, \"39\": 1, \"118\": 1, \"10\": 1, \"11\": 1}, \"56\": {\"18\": 1, \"126\": 1, \"73\": 1, \"56\": 5, \"20\": 1, \"31\": 1}, \"18\": {\"18\": 11, \"40\": 1}, \"85\": {\"46\": 1, \"85\": 2, \"29\": 2, \"114\": 1, \"5\": 1, \"68\": 1, \"25\": 1, \"125\": 1, \"20\": 1, \"14\": 1}, \"113\": {\"126\": 1, \"113\": 6, \"110\": 1, \"96\": 3, \"51\": 1}, \"97\": {\"97\": 5, \"8\": 1, \"43\": 2, \"51\": 1, \"30\": 1, \"94\": 1, \"7\": 1}, \"86\": {\"123\": 2, \"45\": 1, \"82\": 1, \"119\": 2, \"32\": 1, \"121\": 1, \"86\": 2, \"41\": 2}, \"128\": {\"128\": 7, \"38\": 1, \"19\": 1, \"91\": 1, \"92\": 1, \"28\": 1}, \"123\": {\"123\": 9, \"116\": 1, \"67\": 2}, \"8\": {\"43\": 1, \"8\": 8, \"0\": 1, \"94\": 1, \"7\": 1}, \"110\": {\"110\": 7, \"43\": 1, \"10\": 1, \"30\": 1, \"126\": 1, \"70\": 1}, \"126\": {\"8\": 1, \"43\": 1, \"108\": 2, \"109\": 2, \"118\": 2, \"126\": 2, \"39\": 2}, \"101\": {\"101\": 8, \"11\": 1, \"8\": 2, \"7\": 1}, \"115\": {\"68\": 1, \"115\": 7, \"79\": 1, \"61\": 1, \"45\": 2}, \"49\": {\"49\": 7, \"106\": 1, \"15\": 2, \"12\": 1, \"113\": 1}, \"45\": {\"45\": 5, \"68\": 1, \"117\": 1, \"86\": 1, \"82\": 1, \"115\": 1, \"125\": 1, \"2\": 1}, \"78\": {\"78\": 10, \"70\": 1, \"88\": 1}, \"65\": {\"65\": 5, \"35\": 1, \"85\": 2, \"66\": 1, \"81\": 1}, \"54\": {\"54\": 10, \"23\": 1, \"75\": 1}, \"31\": {\"31\": 7, \"44\": 1, \"51\": 1, \"61\": 1}, \"42\": {\"42\": 7, \"48\": 1, \"41\": 1, \"112\": 1, \"78\": 1, \"77\": 1}, \"68\": {\"68\": 8, \"104\": 1, \"5\": 2, \"121\": 1}, \"15\": {\"15\": 7, \"106\": 1, \"10\": 1, \"87\": 1, \"12\": 1, \"0\": 1}, \"69\": {\"69\": 11, \"33\": 1}, \"17\": {\"17\": 5, \"48\": 1, \"67\": 1, \"104\": 1, \"24\": 1, \"89\": 1}, \"73\": {\"53\": 2, \"73\": 7, \"112\": 1, \"20\": 1, \"44\": 1}, \"121\": {\"77\": 2, \"116\": 2, \"121\": 6, \"5\": 1, \"20\": 1}, \"102\": {\"102\": 11, \"80\": 1}, \"48\": {\"102\": 2, \"117\": 1, \"28\": 1, \"22\": 2, \"48\": 1, \"37\": 1, \"77\": 1, \"104\": 1, \"116\": 1, \"41\": 1}, \"23\": {\"23\": 1, \"15\": 2, \"54\": 1, \"43\": 1, \"122\": 1, \"105\": 1, \"106\": 1, \"99\": 2, \"8\": 2}, \"108\": {\"94\": 2, \"36\": 1, \"108\": 8, \"39\": 1}, \"53\": {\"53\": 6, \"105\": 1, \"99\": 1, \"44\": 1, \"33\": 1, \"31\": 1, \"107\": 1}, \"94\": {\"108\": 1, \"94\": 7, \"122\": 1, \"78\": 1}, \"41\": {\"77\": 1, \"41\": 4, \"5\": 1, \"98\": 1, \"112\": 3, \"91\": 1, \"74\": 1}, \"58\": {\"58\": 6, \"76\": 2, \"95\": 1, \"66\": 2, \"53\": 1}, \"29\": {\"29\": 3, \"77\": 1, \"92\": 3, \"61\": 1, \"32\": 1, \"73\": 1, \"46\": 2}, \"116\": {\"82\": 1, \"66\": 1, \"28\": 2, \"116\": 3, \"35\": 1, \"74\": 1, \"111\": 1, \"76\": 1, \"90\": 1}, \"60\": {\"60\": 6, \"10\": 1, \"122\": 2, \"43\": 1, \"96\": 1, \"3\": 1}, \"104\": {\"123\": 1, \"104\": 7, \"17\": 1, \"48\": 2, \"22\": 1}, \"106\": {\"106\": 9, \"51\": 1, \"7\": 1, \"101\": 1}, \"66\": {\"60\": 1, \"66\": 7, \"74\": 1, \"68\": 1, \"22\": 1, \"58\": 1}, \"47\": {\"47\": 7, \"3\": 1, \"99\": 1, \"83\": 3}, \"40\": {\"14\": 1, \"40\": 4, \"72\": 2, \"54\": 1, \"100\": 1, \"62\": 1, \"44\": 1, \"71\": 1}, \"82\": {\"82\": 10, \"30\": 1, \"129\": 1}, \"13\": {\"17\": 1, \"123\": 2, \"10\": 1, \"13\": 2, \"79\": 2, \"109\": 1, \"110\": 1, \"4\": 2}, \"19\": {\"13\": 1, \"19\": 6, \"95\": 1, \"103\": 2, \"38\": 1, \"57\": 1}, \"72\": {\"72\": 10, \"95\": 1, \"98\": 1}, \"9\": {\"9\": 8, \"40\": 1, \"128\": 2, \"82\": 1}, \"67\": {\"67\": 10, \"117\": 1, \"82\": 1}, \"11\": {\"78\": 2, \"24\": 1, \"101\": 1, \"106\": 1, \"11\": 4, \"27\": 1, \"7\": 1, \"43\": 1}, \"125\": {\"58\": 1, \"125\": 9, \"37\": 1, \"22\": 1}, \"76\": {\"19\": 1, \"76\": 2, \"100\": 1, \"28\": 1, \"61\": 1, \"64\": 1, \"52\": 1}, \"83\": {\"54\": 1, \"83\": 7, \"25\": 1, \"98\": 2, \"126\": 1}, \"74\": {\"18\": 1, \"20\": 1, \"74\": 5, \"128\": 2, \"40\": 1, \"9\": 1, \"53\": 1}, \"20\": {\"20\": 5, \"42\": 2, \"75\": 2, \"9\": 1, \"118\": 1, \"92\": 1}, \"119\": {\"119\": 7, \"102\": 1, \"61\": 1, \"45\": 1, \"48\": 2}, \"1\": {\"16\": 1, \"18\": 1, \"75\": 1, \"1\": 7, \"107\": 1, \"8\": 1}, \"16\": {\"16\": 8, \"25\": 1, \"84\": 1, \"54\": 1, \"62\": 1}, \"25\": {\"25\": 5, \"37\": 1, \"64\": 1, \"16\": 1, \"40\": 1, \"23\": 1, \"83\": 1, \"126\": 1}, \"90\": {\"28\": 2, \"90\": 1, \"5\": 1, \"91\": 2, \"111\": 1, \"57\": 1}, \"39\": {\"43\": 1, \"21\": 1, \"39\": 3, \"27\": 1, \"10\": 2, \"78\": 1, \"11\": 1, \"108\": 2}, \"28\": {\"28\": 9, \"56\": 1, \"22\": 2}, \"55\": {\"55\": 9, \"5\": 1, \"9\": 1, \"81\": 1}, \"117\": {\"117\": 8, \"99\": 1, \"75\": 1, \"67\": 1, \"2\": 1}, \"112\": {\"73\": 3, \"112\": 2, \"128\": 1, \"38\": 2, \"59\": 1, \"95\": 1, \"19\": 1, \"41\": 1}, \"38\": {\"73\": 2, \"56\": 1, \"38\": 3, \"98\": 1, \"19\": 4, \"6\": 1}, \"37\": {\"37\": 6, \"52\": 2, \"25\": 1, \"38\": 1, \"77\": 1, \"6\": 1}, \"120\": {\"48\": 1, \"120\": 8, \"80\": 1, \"65\": 1, \"64\": 1}, \"122\": {\"122\": 5, \"110\": 2, \"96\": 1, \"36\": 1, \"106\": 2, \"15\": 1}, \"50\": {\"55\": 1, \"50\": 6, \"89\": 1, \"32\": 1, \"100\": 2, \"53\": 1}, \"10\": {\"10\": 10, \"70\": 1, \"36\": 1}, \"5\": {\"5\": 9, \"89\": 2, \"42\": 1}, \"51\": {\"51\": 9, \"106\": 3}, \"3\": {\"3\": 8, \"70\": 1, \"75\": 1, \"35\": 1, \"108\": 1}, \"98\": {\"98\": 11, \"75\": 1}, \"70\": {\"70\": 7, \"88\": 1, \"27\": 3, \"24\": 1}, \"96\": {\"113\": 3, \"96\": 2, \"126\": 1, \"118\": 2, \"51\": 1, \"23\": 1, \"97\": 2}, \"12\": {\"12\": 9, \"8\": 1, \"96\": 1, \"51\": 1}, \"99\": {\"23\": 1, \"113\": 1, \"20\": 1, \"99\": 4, \"114\": 1, \"54\": 2, \"57\": 1, \"44\": 1}, \"52\": {\"52\": 8, \"46\": 1, \"37\": 1, \"58\": 1, \"98\": 1}, \"71\": {\"71\": 8, \"36\": 1, \"37\": 1, \"3\": 2}, \"89\": {\"89\": 2, \"5\": 2, \"111\": 3, \"92\": 1, \"4\": 1, \"82\": 1, \"116\": 1, \"107\": 1}, \"0\": {\"0\": 11, \"30\": 1}, \"4\": {\"4\": 5, \"63\": 2, \"88\": 1, \"24\": 1, \"79\": 1, \"8\": 1, \"98\": 1}, \"93\": {\"93\": 10, \"62\": 1, \"127\": 1}, \"6\": {\"6\": 7, \"19\": 1, \"77\": 2}, \"75\": {\"75\": 11, \"97\": 1}, \"62\": {\"62\": 10, \"75\": 1, \"83\": 1}, \"103\": {\"9\": 1, \"103\": 3, \"95\": 1, \"19\": 2, \"44\": 2, \"18\": 1, \"66\": 1, \"20\": 1}, \"30\": {\"30\": 9, \"27\": 1, \"36\": 1, \"0\": 1}, \"91\": {\"6\": 1, \"103\": 1, \"91\": 6, \"37\": 1, \"46\": 1, \"77\": 2}, \"27\": {\"27\": 7, \"70\": 3, \"88\": 1, \"21\": 1}, \"26\": {\"26\": 5, \"84\": 1, \"100\": 1, \"33\": 1, \"105\": 4}, \"61\": {\"61\": 9, \"81\": 2, \"117\": 1}, \"118\": {\"118\": 7, \"127\": 1, \"109\": 2, \"12\": 2}, \"92\": {\"29\": 2, \"92\": 5, \"99\": 1, \"32\": 2, \"128\": 1, \"120\": 1}, \"111\": {\"85\": 2, \"111\": 8, \"59\": 1, \"124\": 1}, \"32\": {\"91\": 1, \"29\": 1, \"28\": 1, \"53\": 1, \"32\": 5, \"57\": 1, \"100\": 1, \"46\": 1}, \"88\": {\"88\": 9, \"24\": 1}}, \"C_A_5\": {\"47\": {\"47\": 4, \"29\": 1, \"52\": 3, \"1\": 1, \"0\": 1}, \"53\": {\"53\": 8, \"10\": 3, \"16\": 1}, \"29\": {\"1\": 4, \"57\": 1, \"29\": 5, \"43\": 1, \"8\": 1}, \"52\": {\"52\": 6, \"47\": 1, \"5\": 1, \"1\": 1, \"30\": 1, \"46\": 1, \"57\": 1}, \"55\": {\"17\": 1, \"55\": 5, \"33\": 3, \"37\": 1, \"23\": 1, \"38\": 1}, \"17\": {\"17\": 7, \"34\": 2, \"33\": 1, \"54\": 2}, \"42\": {\"42\": 9, \"18\": 1, \"15\": 1, \"31\": 1}, \"33\": {\"17\": 1, \"33\": 6, \"19\": 1, \"41\": 2}, \"11\": {\"11\": 9, \"42\": 1, \"24\": 2}, \"19\": {\"17\": 2, \"19\": 6}, \"1\": {\"1\": 8, \"57\": 2, \"29\": 1, \"56\": 1}, \"44\": {\"44\": 6, \"52\": 1, \"5\": 2, \"45\": 2, \"29\": 1}, \"49\": {\"39\": 1, \"49\": 11}, \"4\": {\"44\": 4, \"5\": 1, \"3\": 1, \"4\": 3, \"1\": 1, \"45\": 2}, \"6\": {\"6\": 5, \"44\": 1, \"5\": 2, \"22\": 2, \"45\": 2}, \"39\": {\"17\": 2, \"39\": 4, \"34\": 1, \"14\": 1, \"32\": 1, \"49\": 1, \"37\": 1, \"2\": 1}, \"13\": {\"13\": 9, \"14\": 1, \"21\": 1, \"52\": 1}, \"5\": {\"44\": 2, \"5\": 5, \"6\": 1, \"0\": 2}, \"16\": {\"53\": 3, \"25\": 3, \"16\": 1, \"11\": 1, \"15\": 2}, \"25\": {\"25\": 9, \"19\": 1, \"11\": 1, \"53\": 1}, \"45\": {\"45\": 12}, \"7\": {\"7\": 10}, \"22\": {\"22\": 6, \"44\": 1, \"45\": 3, \"4\": 1, \"40\": 1}, \"40\": {\"4\": 1, \"47\": 1, \"5\": 1, \"56\": 1, \"40\": 3, \"46\": 1, \"3\": 2, \"44\": 2}, \"38\": {\"38\": 6, \"2\": 1, \"42\": 1, \"8\": 2, \"32\": 1, \"55\": 1}, \"35\": {\"47\": 1, \"35\": 4, \"32\": 1, \"33\": 1, \"2\": 1}, \"56\": {\"56\": 8, \"52\": 1, \"22\": 1, \"4\": 2}, \"50\": {\"50\": 5, \"45\": 1, \"6\": 4}, \"0\": {\"0\": 6, \"3\": 1, \"22\": 1, \"6\": 1, \"46\": 1, \"50\": 2}, \"10\": {\"10\": 12}, \"27\": {\"47\": 1, \"1\": 3, \"27\": 5, \"57\": 1, \"32\": 2}, \"20\": {\"20\": 6, \"56\": 1, \"30\": 1, \"13\": 1, \"21\": 1}, \"36\": {\"36\": 8}, \"34\": {\"34\": 12}, \"30\": {\"30\": 11, \"1\": 1}, \"2\": {\"2\": 8, \"32\": 1, \"39\": 1}, \"15\": {\"15\": 10, \"42\": 1, \"24\": 1}, \"18\": {\"18\": 11, \"25\": 1}, \"32\": {\"32\": 12}, \"31\": {\"31\": 12}, \"57\": {\"48\": 1, \"57\": 6, \"30\": 2, \"9\": 1, \"29\": 1, \"52\": 1}, \"48\": {\"2\": 2, \"30\": 2, \"48\": 2, \"57\": 2}, \"28\": {\"28\": 10}, \"14\": {\"14\": 4, \"34\": 1, \"30\": 1, \"36\": 2, \"32\": 1, \"29\": 1, \"39\": 1, \"43\": 1}, \"3\": {\"40\": 2, \"3\": 3, \"9\": 2, \"4\": 2, \"50\": 1, \"44\": 1, \"45\": 1}, \"8\": {\"8\": 9, \"36\": 1, \"20\": 2}, \"9\": {\"9\": 5, \"4\": 1, \"48\": 1, \"46\": 2, \"56\": 2, \"44\": 1}, \"21\": {\"21\": 8, \"20\": 1, \"57\": 1}, \"41\": {\"41\": 8, \"32\": 3, \"17\": 1}, \"24\": {\"24\": 11, \"37\": 1}, \"46\": {\"46\": 4, \"9\": 2, \"45\": 1, \"6\": 2, \"0\": 1}, \"43\": {\"43\": 9, \"7\": 1}, \"54\": {\"54\": 9, \"23\": 1}, \"23\": {\"54\": 1, \"23\": 6, \"41\": 1, \"31\": 1, \"24\": 1}, \"37\": {\"36\": 1, \"37\": 9}, \"12\": {\"14\": 1, \"9\": 2, \"21\": 2, \"12\": 3, \"46\": 2}, \"26\": {\"26\": 9, \"10\": 1}, \"51\": {\"51\": 5, \"7\": 1}}, \"C_A_1\": {\"46\": {\"27\": 2, \"4\": 1, \"56\": 3, \"6\": 1, \"50\": 1, \"46\": 1, \"44\": 3}, \"16\": {\"16\": 8, \"26\": 1, \"25\": 1, \"11\": 2}, \"26\": {\"26\": 8, \"10\": 1, \"11\": 1, \"15\": 2}, \"10\": {\"10\": 10, \"16\": 1, \"28\": 1}, \"9\": {\"9\": 6, \"49\": 3, \"48\": 1}, \"28\": {\"28\": 11, \"53\": 1}, \"51\": {\"55\": 1, \"51\": 9, \"41\": 2}, \"1\": {\"1\": 6, \"9\": 1, \"7\": 1, \"8\": 2, \"57\": 2}, \"55\": {\"55\": 11, \"7\": 1}, \"27\": {\"27\": 8, \"5\": 2}, \"22\": {\"22\": 8, \"27\": 2, \"21\": 2}, \"52\": {\"22\": 2, \"52\": 8, \"47\": 1, \"30\": 1}, \"3\": {\"3\": 11, \"27\": 1}, \"33\": {\"33\": 8}, \"47\": {\"47\": 9, \"56\": 1, \"40\": 1, \"4\": 1}, \"42\": {\"42\": 12}, \"12\": {\"12\": 4}, \"23\": {\"33\": 1, \"9\": 1, \"23\": 8, \"34\": 1, \"26\": 1}, \"49\": {\"49\": 7, \"43\": 2, \"48\": 1}, \"7\": {\"7\": 10, \"55\": 1, \"38\": 1}, \"4\": {\"56\": 1, \"50\": 3, \"4\": 3, \"14\": 1, \"40\": 2, \"47\": 1, \"27\": 1}, \"50\": {\"50\": 4, \"21\": 2, \"4\": 1, \"45\": 1, \"57\": 2, \"5\": 2}, \"19\": {\"33\": 1, \"19\": 5, \"37\": 2, \"35\": 2, \"15\": 1, \"23\": 1}, \"11\": {\"11\": 10, \"26\": 2}, \"31\": {\"31\": 10}, \"41\": {\"41\": 10, \"36\": 1, \"51\": 1}, \"56\": {\"56\": 6, \"6\": 2, \"45\": 2}, \"0\": {\"6\": 2, \"52\": 1, \"44\": 2, \"0\": 2, \"5\": 1, \"56\": 1, \"40\": 2, \"21\": 1}, \"57\": {\"6\": 1, \"47\": 1, \"27\": 3, \"29\": 1, \"21\": 2, \"50\": 2, \"57\": 1, \"44\": 1}, \"53\": {\"53\": 9, \"26\": 1, \"10\": 2}, \"43\": {\"43\": 9, \"29\": 1, \"8\": 1, \"47\": 1}, \"37\": {\"37\": 12}, \"2\": {\"2\": 8}, \"6\": {\"6\": 5, \"0\": 2, \"5\": 2, \"44\": 2, \"21\": 1}, \"18\": {\"18\": 10, \"25\": 1, \"10\": 1}, \"38\": {\"38\": 8, \"7\": 1, \"36\": 1, \"39\": 1, \"48\": 1}, \"15\": {\"23\": 2, \"26\": 4, \"11\": 1, \"15\": 4, \"18\": 1}, \"36\": {\"36\": 9, \"40\": 1, \"29\": 1, \"30\": 1}, \"39\": {\"36\": 2, \"39\": 3, \"38\": 3}, \"44\": {\"56\": 2, \"44\": 7, \"5\": 1, \"45\": 1, \"6\": 1}, \"8\": {\"8\": 5, \"47\": 1, \"48\": 1, \"29\": 3, \"43\": 1, \"1\": 1}, \"17\": {\"17\": 7, \"37\": 2, \"48\": 1}, \"5\": {\"5\": 10, \"6\": 2}, \"13\": {\"13\": 10}, \"40\": {\"6\": 1, \"40\": 5, \"5\": 1, \"47\": 3}, \"29\": {\"29\": 4, \"1\": 1, \"31\": 1, \"57\": 2, \"8\": 1, \"49\": 2, \"39\": 1}, \"48\": {\"1\": 1, \"48\": 5, \"8\": 1, \"14\": 1, \"49\": 3, \"9\": 1}, \"32\": {\"32\": 7, \"48\": 1, \"8\": 3, \"7\": 1}, \"30\": {\"1\": 2, \"30\": 9, \"43\": 1}, \"35\": {\"35\": 7, \"19\": 2, \"31\": 1, \"38\": 2}, \"25\": {\"25\": 12}, \"14\": {\"29\": 1, \"14\": 2, \"2\": 2, \"13\": 3, \"1\": 2, \"36\": 2}, \"54\": {\"54\": 9, \"28\": 1}, \"20\": {\"0\": 1, \"20\": 7}, \"21\": {\"21\": 6, \"5\": 1, \"30\": 1, \"22\": 2}, \"45\": {\"45\": 3, \"50\": 1, \"44\": 1, \"5\": 2, \"56\": 1}, \"24\": {\"24\": 7, \"38\": 1}, \"34\": {\"34\": 8}}, \"W_A_4\": {\"28\": {\"28\": 5, \"31\": 1, \"61\": 2, \"33\": 1, \"55\": 1, \"92\": 2}, \"4\": {\"4\": 9, \"123\": 1, \"102\": 1, \"56\": 1}, \"72\": {\"96\": 1, \"72\": 6, \"49\": 2, \"71\": 1, \"110\": 1, \"23\": 1}, \"111\": {\"111\": 10, \"28\": 1, \"73\": 1}, \"108\": {\"108\": 8, \"30\": 1, \"97\": 1, \"27\": 1, \"94\": 1}, \"43\": {\"43\": 4, \"0\": 2, \"39\": 1, \"30\": 1, \"7\": 1, \"11\": 1}, \"96\": {\"14\": 1, \"12\": 1, \"88\": 1, \"11\": 1, \"9\": 2, \"105\": 1, \"60\": 1, \"96\": 2, \"52\": 1, \"51\": 1}, \"89\": {\"14\": 1, \"11\": 1, \"89\": 5, \"96\": 1, \"69\": 1, \"25\": 1, \"34\": 1, \"49\": 1}, \"31\": {\"31\": 5, \"111\": 1, \"90\": 1, \"42\": 1, \"50\": 1, \"47\": 1, \"120\": 1, \"86\": 1}, \"45\": {\"45\": 9, \"57\": 2, \"17\": 1}, \"2\": {\"2\": 9, \"104\": 1, \"63\": 1, \"70\": 1}, \"114\": {\"114\": 11, \"40\": 1}, \"11\": {\"72\": 1, \"12\": 1, \"11\": 4, \"3\": 1, \"96\": 1, \"43\": 1, \"118\": 2, \"93\": 1}, \"12\": {\"12\": 9, \"11\": 2, \"27\": 1}, \"14\": {\"14\": 6, \"72\": 1, \"83\": 1, \"56\": 1, \"20\": 1, \"5\": 1, \"26\": 1}, \"90\": {\"90\": 7, \"31\": 1, \"121\": 1, \"112\": 1, \"77\": 1, \"22\": 1}, \"10\": {\"10\": 7, \"24\": 1, \"21\": 1, \"78\": 1, \"88\": 2}, \"63\": {\"42\": 1, \"63\": 9, \"70\": 1, \"2\": 1}, \"85\": {\"85\": 8, \"10\": 1, \"77\": 1, \"52\": 1, \"76\": 1}, \"64\": {\"123\": 1, \"64\": 6, \"2\": 1, \"68\": 1, \"73\": 1, \"81\": 1, \"129\": 1}, \"82\": {\"82\": 5, \"95\": 2, \"57\": 1, \"69\": 1, \"2\": 1, \"68\": 2}, \"58\": {\"58\": 8, \"85\": 1, \"56\": 1, \"100\": 1, \"76\": 1}, \"3\": {\"3\": 7, \"53\": 1, \"114\": 1, \"71\": 2, \"127\": 1}, \"54\": {\"54\": 8, \"8\": 1, \"128\": 2, \"100\": 1}, \"121\": {\"64\": 2, \"91\": 2, \"121\": 5, \"60\": 1, \"41\": 1, \"20\": 1}, \"42\": {\"42\": 7, \"82\": 2, \"92\": 1, \"56\": 1, \"41\": 1}, \"98\": {\"98\": 9, \"20\": 2, \"75\": 1}, \"123\": {\"63\": 1, \"4\": 3, \"123\": 6, \"104\": 1, \"45\": 1}, \"91\": {\"42\": 2, \"98\": 2, \"91\": 4, \"83\": 1, \"25\": 1, \"58\": 2}, \"66\": {\"68\": 1, \"66\": 2, \"128\": 1, \"61\": 1, \"42\": 1, \"90\": 4, \"125\": 1, \"77\": 1}, \"102\": {\"102\": 9, \"80\": 1, \"65\": 1, \"17\": 1}, \"122\": {\"122\": 6, \"8\": 2, \"118\": 1, \"94\": 1, \"70\": 1, \"11\": 1}, \"1\": {\"1\": 9, \"3\": 1, \"114\": 2}, \"15\": {\"15\": 8, \"43\": 1, \"8\": 1, \"70\": 1, \"30\": 1}, \"97\": {\"108\": 2, \"97\": 7, \"88\": 2, \"91\": 1}, \"75\": {\"75\": 10, \"25\": 1, \"23\": 1}, \"95\": {\"95\": 9, \"62\": 1, \"85\": 1, \"71\": 1}, \"57\": {\"57\": 11, \"111\": 1}, \"68\": {\"68\": 6, \"120\": 1, \"46\": 1, \"92\": 1, \"77\": 1, \"121\": 1, \"51\": 1}, \"125\": {\"97\": 1, \"125\": 7, \"111\": 1, \"42\": 2, \"92\": 1}, \"62\": {\"62\": 10}, \"27\": {\"27\": 10, \"78\": 1, \"108\": 1}, \"120\": {\"120\": 8, \"91\": 1, \"24\": 1, \"64\": 1, \"125\": 1}, \"26\": {\"26\": 7, \"113\": 1, \"103\": 1, \"3\": 1, \"14\": 1, \"94\": 1}, \"55\": {\"35\": 1, \"120\": 1, \"128\": 1, \"55\": 6, \"81\": 1, \"61\": 1, \"111\": 1}, \"71\": {\"71\": 9, \"8\": 2, \"88\": 1}, \"22\": {\"120\": 1, \"22\": 9, \"116\": 1, \"92\": 1}, \"99\": {\"99\": 7, \"14\": 1, \"60\": 1, \"84\": 1, \"21\": 1, \"51\": 1}, \"84\": {\"26\": 1, \"84\": 5, \"24\": 1, \"40\": 1, \"81\": 2, \"1\": 1, \"30\": 1}, \"37\": {\"37\": 8, \"55\": 1, \"79\": 2, \"42\": 1}, \"83\": {\"46\": 3, \"71\": 1, \"1\": 2, \"103\": 1, \"83\": 3, \"98\": 1, \"96\": 1}, \"46\": {\"55\": 2, \"46\": 6, \"120\": 2, \"81\": 1, \"57\": 1}, \"35\": {\"35\": 3, \"12\": 1, \"28\": 2, \"55\": 2, \"98\": 1, \"33\": 1, \"57\": 1, \"46\": 1}, \"13\": {\"13\": 9, \"2\": 1, \"50\": 2}, \"53\": {\"9\": 1, \"54\": 1, \"51\": 2, \"88\": 1, \"53\": 4, \"78\": 1, \"49\": 2}, \"127\": {\"127\": 12}, \"69\": {\"97\": 1, \"69\": 10, \"78\": 1}, \"48\": {\"115\": 1, \"48\": 5, \"123\": 2, \"67\": 1, \"66\": 1, \"17\": 1, \"85\": 1}, \"16\": {\"16\": 12}, \"0\": {\"8\": 3, \"43\": 3, \"0\": 4, \"23\": 1, \"87\": 1}, \"8\": {\"8\": 4, \"97\": 3, \"110\": 1, \"109\": 2, \"101\": 2}, \"9\": {\"9\": 4, \"54\": 1, \"20\": 2, \"96\": 2, \"60\": 1, \"75\": 1, \"77\": 1}, \"115\": {\"57\": 1, \"115\": 8, \"63\": 2, \"121\": 1}, \"70\": {\"70\": 6, \"104\": 1, \"30\": 1, \"21\": 1, \"36\": 2, \"94\": 1}, \"119\": {\"120\": 1, \"68\": 1, \"119\": 3, \"42\": 1, \"6\": 3, \"57\": 2, \"32\": 1}, \"59\": {\"59\": 7, \"6\": 2, \"29\": 1, \"56\": 2}, \"52\": {\"51\": 2, \"52\": 7, \"3\": 1, \"38\": 1, \"85\": 1}, \"60\": {\"60\": 9, \"99\": 1, \"27\": 1, \"62\": 1}, \"44\": {\"44\": 6, \"16\": 1, \"92\": 1, \"95\": 2, \"38\": 1, \"1\": 1}, \"51\": {\"51\": 4, \"70\": 1, \"3\": 1, \"100\": 1, \"25\": 1, \"99\": 2, \"127\": 1, \"49\": 1}, \"6\": {\"59\": 1, \"6\": 9, \"76\": 1, \"51\": 1}, \"73\": {\"50\": 2, \"73\": 7, \"33\": 1, \"55\": 1, \"31\": 1}, \"78\": {\"78\": 9, \"10\": 2, \"88\": 1}, \"92\": {\"45\": 4, \"73\": 1, \"124\": 1, \"67\": 1, \"92\": 3, \"42\": 1, \"32\": 1}, \"20\": {\"98\": 1, \"20\": 6, \"100\": 1, \"38\": 1, \"109\": 1, \"5\": 1, \"25\": 1}, \"17\": {\"17\": 10, \"104\": 1, \"4\": 1}, \"74\": {\"9\": 1, \"20\": 1, \"74\": 6, \"111\": 1, \"51\": 2, \"53\": 1}, \"19\": {\"9\": 1, \"19\": 11}, \"50\": {\"50\": 6, \"73\": 2, \"81\": 1, \"65\": 1, \"129\": 2}, \"34\": {\"69\": 1, \"34\": 4, \"25\": 2, \"6\": 1, \"110\": 2, \"1\": 1, \"85\": 1}, \"104\": {\"104\": 5, \"50\": 2, \"2\": 1}, \"33\": {\"33\": 8, \"5\": 1, \"31\": 1, \"112\": 1, \"70\": 1}, \"5\": {\"5\": 8, \"18\": 2, \"105\": 2}, \"7\": {\"7\": 8, \"49\": 1, \"11\": 1, \"0\": 1, \"23\": 1}, \"29\": {\"42\": 1, \"98\": 1, \"29\": 7, \"56\": 1, \"83\": 2}, \"25\": {\"25\": 9, \"75\": 3}, \"124\": {\"92\": 1, \"73\": 1, \"57\": 1, \"28\": 1, \"61\": 1, \"124\": 5, \"37\": 1, \"85\": 1}, \"117\": {\"61\": 1, \"117\": 8, \"88\": 1, \"64\": 1, \"108\": 1}, \"88\": {\"88\": 8, \"10\": 3, \"78\": 1}, \"61\": {\"57\": 1, \"88\": 1, \"61\": 5, \"116\": 1, \"50\": 1, \"47\": 1, \"73\": 1, \"64\": 1}, \"86\": {\"117\": 1, \"124\": 1, \"6\": 1, \"120\": 1, \"86\": 3, \"115\": 1, \"56\": 1, \"17\": 1, \"37\": 1, \"73\": 1}, \"116\": {\"61\": 2, \"80\": 2, \"79\": 2, \"63\": 1, \"116\": 2, \"73\": 1, \"41\": 1, \"129\": 1}, \"24\": {\"21\": 3, \"24\": 9}, \"128\": {\"128\": 3, \"52\": 1, \"9\": 2, \"21\": 1, \"100\": 1, \"20\": 1, \"38\": 2, \"82\": 1}, \"101\": {\"101\": 9, \"27\": 1, \"12\": 1, \"113\": 1}, \"65\": {\"65\": 9, \"125\": 1}, \"36\": {\"10\": 1, \"36\": 9, \"94\": 1, \"24\": 1}, \"21\": {\"21\": 8, \"78\": 3, \"24\": 1}, \"106\": {\"27\": 1, \"106\": 11}, \"118\": {\"118\": 8, \"88\": 1, \"110\": 1, \"10\": 1, \"11\": 1}, \"113\": {\"93\": 1, \"113\": 3, \"24\": 2, \"51\": 1, \"118\": 2, \"101\": 2, \"94\": 1}, \"40\": {\"83\": 2, \"40\": 7, \"84\": 2, \"5\": 1}, \"93\": {\"93\": 7, \"23\": 1}, \"94\": {\"94\": 9, \"36\": 2, \"108\": 1}, \"103\": {\"19\": 2, \"6\": 1, \"46\": 1, \"103\": 3, \"97\": 1, \"87\": 1, \"3\": 1, \"54\": 1, \"68\": 1}, \"110\": {\"94\": 1, \"122\": 1, \"87\": 1, \"110\": 4, \"7\": 1, \"23\": 2, \"106\": 1, \"60\": 1}, \"56\": {\"31\": 1, \"56\": 3, \"74\": 1, \"25\": 1, \"112\": 1, \"47\": 1, \"100\": 2, \"55\": 1, \"41\": 1}, \"39\": {\"39\": 4, \"78\": 2, \"43\": 1, \"21\": 1, \"70\": 2, \"109\": 1, \"94\": 1}, \"109\": {\"8\": 1, \"109\": 9, \"108\": 1, \"126\": 1}, \"67\": {\"67\": 7, \"86\": 2, \"19\": 1, \"2\": 1, \"88\": 1}, \"129\": {\"48\": 1, \"51\": 1, \"129\": 4, \"80\": 1, \"103\": 1, \"120\": 2, \"50\": 2}, \"30\": {\"30\": 12}, \"126\": {\"126\": 4, \"24\": 1, \"109\": 3, \"27\": 1, \"101\": 1, \"94\": 1, \"10\": 1}, \"87\": {\"21\": 1, \"87\": 6, \"110\": 2, \"126\": 1, \"0\": 1, \"15\": 1}, \"112\": {\"112\": 8, \"47\": 1, \"107\": 1, \"128\": 1, \"19\": 1}, \"100\": {\"76\": 1, \"112\": 1, \"100\": 3, \"84\": 1, \"105\": 1, \"128\": 1, \"3\": 1, \"5\": 1, \"47\": 1, \"95\": 1}, \"79\": {\"79\": 9, \"22\": 1}, \"81\": {\"81\": 5, \"121\": 1, \"67\": 1, \"55\": 2, \"73\": 1, \"108\": 1, \"69\": 1}, \"76\": {\"112\": 1, \"76\": 3, \"32\": 2, \"6\": 2, \"20\": 1, \"44\": 1}, \"47\": {\"47\": 8, \"21\": 1, \"59\": 2, \"72\": 1}, \"77\": {\"77\": 7, \"6\": 1, \"112\": 2, \"23\": 1, \"38\": 1}, \"23\": {\"0\": 2, \"23\": 3, \"30\": 1, \"106\": 2, \"110\": 1, \"7\": 1, \"78\": 1, \"87\": 1}, \"18\": {\"18\": 12}, \"49\": {\"49\": 6, \"23\": 1, \"105\": 1, \"3\": 1, \"53\": 1, \"0\": 1, \"127\": 1}, \"41\": {\"60\": 1, \"41\": 4, \"125\": 1, \"116\": 1, \"32\": 1, \"112\": 1, \"66\": 1, \"80\": 1, \"98\": 1}, \"32\": {\"55\": 2, \"18\": 2, \"38\": 1, \"112\": 1, \"32\": 3, \"46\": 1, \"77\": 2}, \"107\": {\"18\": 1, \"107\": 7, \"5\": 1, \"33\": 1}, \"80\": {\"80\": 12}, \"105\": {\"105\": 6, \"62\": 2, \"24\": 1, \"16\": 1}, \"38\": {\"41\": 2, \"47\": 2, \"38\": 6}}, \"W_A_1\": {\"108\": {\"108\": 9, \"88\": 1}, \"40\": {\"40\": 5, \"14\": 2, \"32\": 1, \"69\": 1, \"3\": 2, \"105\": 1}, \"68\": {\"68\": 9, \"104\": 1, \"129\": 1, \"20\": 1}, \"23\": {\"110\": 1, \"23\": 5, \"127\": 1, \"78\": 1, \"7\": 1, \"53\": 1, \"12\": 1, \"60\": 1}, \"26\": {\"70\": 1, \"26\": 8, \"114\": 2, \"62\": 1}, \"64\": {\"4\": 1, \"64\": 8, \"41\": 1, \"61\": 1, \"38\": 1}, \"22\": {\"79\": 2, \"46\": 2, \"22\": 2, \"17\": 1, \"67\": 1, \"28\": 1, \"45\": 2, \"57\": 1}, \"3\": {\"40\": 2, \"3\": 7, \"34\": 1, \"26\": 2}, \"4\": {\"102\": 2, \"116\": 2, \"4\": 4, \"115\": 1, \"13\": 1, \"126\": 1, \"86\": 1}, \"70\": {\"70\": 11, \"10\": 1}, \"57\": {\"57\": 11, \"2\": 1}, \"79\": {\"79\": 10, \"48\": 1, \"22\": 1}, \"9\": {\"3\": 3, \"34\": 1, \"53\": 1, \"9\": 1, \"49\": 2, \"128\": 1, \"101\": 1, \"52\": 2}, \"89\": {\"9\": 2, \"74\": 1, \"89\": 6, \"92\": 2, \"3\": 1}, \"110\": {\"110\": 10, \"11\": 1, \"97\": 1}, \"102\": {\"102\": 9, \"63\": 1, \"13\": 2}, \"31\": {\"31\": 11, \"84\": 1}, \"58\": {\"58\": 5, \"104\": 2, \"56\": 1, \"55\": 2, \"66\": 1, \"41\": 1}, \"47\": {\"19\": 1, \"47\": 7, \"75\": 1, \"72\": 1, \"33\": 1, \"99\": 1}, \"24\": {\"24\": 9, \"30\": 2, \"36\": 1}, \"19\": {\"83\": 1, \"19\": 7, \"50\": 2, \"100\": 2}, \"11\": {\"109\": 1, \"11\": 7, \"36\": 1, \"110\": 1, \"126\": 1, \"43\": 1}, \"52\": {\"52\": 9, \"31\": 2, \"98\": 1}, \"17\": {\"17\": 9, \"67\": 1, \"48\": 1, \"120\": 1}, \"25\": {\"83\": 1, \"17\": 1, \"6\": 1, \"25\": 7, \"82\": 1, \"35\": 1}, \"69\": {\"69\": 7, \"60\": 1, \"118\": 2, \"113\": 2}, \"96\": {\"11\": 2, \"35\": 1, \"39\": 1, \"106\": 2, \"97\": 1, \"96\": 2, \"15\": 1, \"44\": 1, \"10\": 1}, \"109\": {\"109\": 9, \"24\": 3}, \"115\": {\"17\": 1, \"57\": 1, \"115\": 7, \"123\": 2, \"4\": 1}, \"83\": {\"19\": 1, \"47\": 1, \"42\": 1, \"32\": 1, \"91\": 1, \"116\": 1, \"81\": 1, \"60\": 1, \"31\": 1, \"41\": 1, \"98\": 1, \"99\": 1}, \"84\": {\"1\": 2, \"84\": 3, \"51\": 1, \"106\": 1, \"101\": 2, \"127\": 1, \"18\": 1, \"12\": 1}, \"119\": {\"119\": 7, \"2\": 1, \"65\": 2}, \"122\": {\"127\": 1, \"7\": 1, \"122\": 4, \"126\": 1, \"87\": 2, \"24\": 1}, \"99\": {\"53\": 1, \"99\": 4, \"29\": 1, \"95\": 2, \"103\": 1, \"83\": 1, \"52\": 1, \"98\": 1}, \"1\": {\"1\": 8, \"105\": 2, \"62\": 2}, \"74\": {\"74\": 3, \"111\": 1, \"114\": 2, \"107\": 1, \"69\": 1, \"20\": 1, \"61\": 1, \"84\": 1, \"95\": 1}, \"85\": {\"85\": 6, \"89\": 2, \"40\": 1, \"32\": 1, \"72\": 1, \"29\": 1}, \"127\": {\"127\": 12}, \"111\": {\"111\": 12}, \"53\": {\"53\": 11, \"75\": 1}, \"88\": {\"88\": 11, \"10\": 1}, \"65\": {\"65\": 2, \"119\": 2, \"115\": 2, \"64\": 1, \"129\": 1, \"13\": 1, \"83\": 1}, \"7\": {\"7\": 7, \"122\": 1, \"101\": 1, \"23\": 1, \"106\": 2}, \"16\": {\"16\": 11, \"10\": 1}, \"128\": {\"128\": 9, \"41\": 1, \"61\": 2}, \"34\": {\"34\": 9, \"53\": 1, \"76\": 1, \"15\": 1}, \"129\": {\"17\": 1, \"129\": 7, \"46\": 2, \"61\": 1, \"117\": 1}, \"43\": {\"43\": 10, \"0\": 1, \"10\": 1}, \"92\": {\"92\": 9, \"34\": 1, \"85\": 1, \"98\": 1}, \"28\": {\"28\": 8, \"98\": 2, \"38\": 1, \"116\": 1}, \"27\": {\"27\": 9, \"30\": 2, \"24\": 1}, \"114\": {\"114\": 12}, \"73\": {\"68\": 2, \"50\": 1, \"19\": 1, \"73\": 6, \"95\": 2}, \"0\": {\"0\": 9, \"43\": 2, \"8\": 1}, \"104\": {\"17\": 1, \"104\": 8, \"46\": 2, \"103\": 1}, \"118\": {\"118\": 10, \"69\": 2}, \"41\": {\"41\": 10, \"104\": 1, \"111\": 1}, \"49\": {\"49\": 6, \"72\": 2, \"53\": 1, \"56\": 1, \"1\": 2}, \"14\": {\"14\": 10, \"32\": 1, \"74\": 1}, \"46\": {\"66\": 1, \"5\": 1, \"46\": 5, \"109\": 1, \"29\": 1, \"48\": 1, \"20\": 1, \"57\": 1}, \"33\": {\"33\": 11, \"114\": 1}, \"76\": {\"49\": 1, \"66\": 1, \"76\": 6, \"34\": 2, \"44\": 1, \"42\": 1}, \"125\": {\"104\": 1, \"125\": 9, \"82\": 1, \"55\": 1}, \"86\": {\"104\": 1, \"89\": 1, \"86\": 5, \"64\": 1, \"83\": 1, \"124\": 1}, \"66\": {\"76\": 2, \"41\": 2, \"121\": 1, \"38\": 1, \"66\": 4, \"42\": 1, \"51\": 1}, \"5\": {\"5\": 12}, \"117\": {\"67\": 4, \"117\": 5, \"102\": 1, \"80\": 1, \"38\": 1}, \"75\": {\"34\": 2, \"75\": 8, \"84\": 1, \"31\": 1}, \"61\": {\"61\": 4, \"22\": 1, \"121\": 1, \"112\": 1, \"48\": 1, \"41\": 2, \"28\": 2}, \"50\": {\"19\": 2, \"50\": 6, \"81\": 1, \"27\": 1, \"54\": 1, \"74\": 1}, \"67\": {\"117\": 1, \"67\": 8, \"4\": 1}, \"18\": {\"18\": 12}, \"98\": {\"98\": 10, \"20\": 1, \"52\": 1}, \"55\": {\"55\": 8, \"5\": 1, \"67\": 1}, \"32\": {\"32\": 10, \"49\": 1, \"75\": 1}, \"120\": {\"120\": 7, \"45\": 1, \"82\": 1, \"38\": 1, \"37\": 1, \"6\": 1}, \"97\": {\"97\": 7, \"70\": 3, \"36\": 2}, \"126\": {\"97\": 2, \"126\": 6, \"30\": 1, \"27\": 2, \"21\": 1}, \"45\": {\"120\": 1, \"46\": 1, \"115\": 1, \"57\": 1, \"80\": 2, \"102\": 2, \"117\": 1, \"45\": 1, \"37\": 1, \"22\": 1}, \"78\": {\"78\": 7, \"70\": 1, \"94\": 1, \"108\": 1}, \"100\": {\"100\": 5, \"19\": 2, \"81\": 1, \"50\": 2, \"114\": 1, \"74\": 1}, \"107\": {\"107\": 12}, \"93\": {\"78\": 2, \"93\": 3, \"12\": 1, \"27\": 2, \"97\": 1, \"88\": 1, \"39\": 2}, \"77\": {\"112\": 1, \"77\": 6, \"58\": 1, \"103\": 1, \"47\": 1, \"111\": 1, \"64\": 1}, \"63\": {\"63\": 12}, \"112\": {\"112\": 8, \"77\": 2, \"105\": 1, \"59\": 1}, \"113\": {\"113\": 7, \"3\": 1, \"69\": 2, \"126\": 1, \"62\": 1}, \"103\": {\"103\": 6, \"56\": 1, \"77\": 1, \"104\": 1, \"98\": 1}, \"71\": {\"71\": 8, \"15\": 1, \"110\": 3}, \"30\": {\"30\": 7, \"24\": 1, \"27\": 2, \"109\": 1, \"36\": 1}, \"90\": {\"90\": 8, \"37\": 1, \"38\": 1, \"54\": 1, \"98\": 1}, \"37\": {\"60\": 1, \"37\": 11}, \"60\": {\"60\": 5, \"69\": 1, \"49\": 1, \"39\": 1, \"71\": 1, \"72\": 1, \"84\": 1, \"1\": 1}, \"15\": {\"15\": 12}, \"39\": {\"39\": 7, \"87\": 3, \"0\": 1, \"93\": 1}, \"72\": {\"72\": 12}, \"54\": {\"54\": 5, \"81\": 1, \"29\": 1, \"107\": 1, \"47\": 3, \"90\": 1}, \"35\": {\"35\": 4, \"60\": 1, \"96\": 2, \"106\": 1, \"75\": 1, \"85\": 1, \"12\": 1, \"51\": 1}, \"2\": {\"2\": 8, \"119\": 1, \"59\": 1, \"57\": 2}, \"94\": {\"94\": 9, \"15\": 1, \"108\": 1, \"109\": 1}, \"42\": {\"81\": 1, \"42\": 9, \"25\": 1, \"55\": 1}, \"81\": {\"81\": 7, \"32\": 1, \"107\": 2, \"50\": 1, \"82\": 1}, \"8\": {\"39\": 1, \"0\": 2, \"87\": 1, \"8\": 7, \"84\": 1}, \"87\": {\"87\": 8, \"110\": 4}, \"6\": {\"6\": 4, \"25\": 2, \"112\": 1, \"38\": 1, \"59\": 2, \"54\": 1, \"37\": 1}, \"36\": {\"87\": 1, \"36\": 9, \"94\": 1, \"88\": 1}, \"91\": {\"6\": 1, \"25\": 2, \"91\": 7, \"61\": 1, \"77\": 1}, \"56\": {\"56\": 11, \"39\": 1}, \"80\": {\"80\": 11, \"23\": 1}, \"124\": {\"124\": 5, \"5\": 1, \"45\": 1, \"79\": 1, \"119\": 1, \"116\": 1}, \"44\": {\"44\": 9, \"71\": 1, \"35\": 2}, \"13\": {\"13\": 7, \"102\": 2, \"57\": 1, \"17\": 1, \"65\": 1}, \"10\": {\"10\": 9, \"126\": 1, \"21\": 1, \"70\": 1}, \"59\": {\"58\": 2, \"77\": 1, \"59\": 6, \"52\": 1, \"120\": 1, \"82\": 1}, \"95\": {\"95\": 5, \"103\": 1, \"82\": 1, \"52\": 1, \"120\": 1, \"111\": 1, \"106\": 1, \"54\": 1}, \"105\": {\"105\": 5, \"101\": 1, \"38\": 1, \"3\": 1, \"118\": 1, \"16\": 1, \"18\": 1, \"49\": 1}, \"101\": {\"101\": 12}, \"20\": {\"50\": 1, \"32\": 1, \"128\": 2, \"20\": 8}, \"48\": {\"48\": 5, \"79\": 3, \"117\": 2, \"115\": 1, \"91\": 1}, \"106\": {\"96\": 3, \"106\": 8, \"36\": 1}, \"51\": {\"51\": 10, \"44\": 1, \"76\": 1}, \"21\": {\"21\": 11, \"70\": 1}, \"123\": {\"123\": 8, \"125\": 1, \"13\": 1, \"4\": 1, \"115\": 1}, \"121\": {\"121\": 8, \"91\": 1, \"116\": 3}, \"38\": {\"38\": 7, \"90\": 2, \"66\": 1, \"92\": 1, \"41\": 1}, \"62\": {\"62\": 10, \"14\": 1, \"60\": 1}, \"29\": {\"29\": 10, \"98\": 2}, \"82\": {\"38\": 1, \"82\": 9, \"81\": 1, \"120\": 1}, \"116\": {\"116\": 5, \"121\": 1, \"2\": 2, \"79\": 1, \"82\": 1, \"86\": 2}, \"12\": {\"12\": 7, \"8\": 1}}, \"W_A_2\": {\"91\": {\"28\": 2, \"91\": 6, \"90\": 1, \"29\": 1, \"53\": 2}, \"12\": {\"110\": 3, \"106\": 1, \"12\": 5, \"126\": 1, \"8\": 2}, \"101\": {\"101\": 9, \"12\": 1}, \"121\": {\"121\": 5, \"91\": 1, \"110\": 1, \"89\": 1, \"41\": 1, \"64\": 1, \"66\": 2}, \"118\": {\"106\": 3, \"118\": 3, \"110\": 2, \"10\": 1, \"113\": 2, \"122\": 1}, \"10\": {\"126\": 2, \"21\": 1, \"10\": 9}, \"117\": {\"117\": 7, \"86\": 1, \"63\": 2, \"104\": 1, \"66\": 1}, \"110\": {\"110\": 10, \"88\": 1, \"93\": 1}, \"97\": {\"97\": 6, \"28\": 1, \"15\": 2, \"30\": 1, \"119\": 1, \"106\": 1}, \"28\": {\"88\": 1, \"17\": 1, \"90\": 1, \"46\": 1, \"5\": 1, \"44\": 2, \"76\": 1, \"50\": 1, \"28\": 2, \"73\": 1}, \"88\": {\"126\": 1, \"88\": 6, \"24\": 3, \"21\": 2}, \"17\": {\"86\": 1, \"17\": 5, \"64\": 2, \"115\": 2, \"78\": 1, \"4\": 1}, \"126\": {\"126\": 10, \"0\": 1, \"70\": 1}, \"33\": {\"33\": 10, \"14\": 2}, \"86\": {\"86\": 11, \"115\": 1}, \"106\": {\"12\": 2, \"106\": 10}, \"54\": {\"54\": 10, \"77\": 1, \"31\": 1}, \"125\": {\"42\": 3, \"125\": 9}, \"83\": {\"83\": 5, \"54\": 1, \"1\": 1, \"58\": 1, \"29\": 1, \"59\": 1, \"18\": 1, \"25\": 1}, \"98\": {\"98\": 8, \"53\": 1, \"29\": 1, \"38\": 2}, \"11\": {\"97\": 1, \"11\": 8, \"43\": 2, \"27\": 1}, \"32\": {\"54\": 1, \"32\": 7, \"19\": 2, \"100\": 2}, \"42\": {\"42\": 3, \"103\": 1, \"124\": 2, \"63\": 2, \"50\": 1, \"129\": 1, \"115\": 1, \"57\": 1}, \"103\": {\"103\": 8, \"46\": 1, \"45\": 1, \"111\": 1, \"73\": 1}, \"87\": {\"118\": 1, \"87\": 6, \"15\": 1, \"94\": 2, \"108\": 1, \"126\": 1}, \"61\": {\"11\": 1, \"42\": 1, \"61\": 5, \"74\": 1, \"29\": 1, \"64\": 1, \"40\": 1, \"83\": 1}, \"13\": {\"4\": 1, \"13\": 8, \"116\": 1, \"48\": 1, \"65\": 1}, \"4\": {\"4\": 6, \"80\": 2, \"13\": 3, \"22\": 1}, \"15\": {\"15\": 7, \"11\": 1, \"36\": 1, \"126\": 1}, \"120\": {\"64\": 1, \"120\": 6, \"116\": 2, \"99\": 1, \"29\": 1, \"9\": 1}, \"80\": {\"102\": 1, \"80\": 9, \"4\": 1, \"115\": 1}, \"72\": {\"52\": 2, \"31\": 2, \"107\": 4, \"72\": 1, \"35\": 1}, \"64\": {\"76\": 1, \"64\": 5, \"17\": 1, \"45\": 1, \"121\": 1, \"81\": 1, \"79\": 1, \"92\": 1}, \"81\": {\"64\": 2, \"81\": 4, \"69\": 1, \"46\": 1, \"55\": 1, \"26\": 1, \"82\": 2}, \"102\": {\"102\": 12}, \"76\": {\"53\": 1, \"89\": 1, \"65\": 1, \"75\": 1, \"83\": 1, \"76\": 3, \"41\": 1, \"96\": 1, \"90\": 1, \"103\": 1}, \"49\": {\"49\": 7, \"114\": 2, \"21\": 1}, \"129\": {\"81\": 2, \"50\": 2, \"129\": 4, \"115\": 2, \"82\": 2}, \"89\": {\"89\": 4, \"19\": 2, \"53\": 1, \"111\": 1, \"44\": 1, \"81\": 1, \"90\": 1, \"55\": 1}, \"52\": {\"52\": 5, \"53\": 1, \"47\": 1, \"58\": 1, \"44\": 1, \"112\": 1, \"45\": 1, \"76\": 1}, \"35\": {\"35\": 6, \"127\": 1, \"23\": 2, \"96\": 1, \"101\": 1, \"106\": 1}, \"53\": {\"53\": 3, \"89\": 1, \"122\": 1, \"61\": 2, \"47\": 2, \"59\": 1, \"58\": 1, \"70\": 1}, \"112\": {\"54\": 1, \"77\": 1, \"19\": 1, \"112\": 3, \"38\": 1, \"52\": 2, \"33\": 1, \"31\": 1, \"107\": 1}, \"105\": {\"105\": 10, \"127\": 2}, \"100\": {\"82\": 1, \"69\": 1, \"107\": 1, \"74\": 1, \"100\": 8}, \"9\": {\"9\": 12}, \"82\": {\"17\": 2, \"82\": 8, \"50\": 1, \"81\": 1}, \"51\": {\"51\": 11, \"97\": 1}, \"21\": {\"21\": 12}, \"92\": {\"82\": 1, \"9\": 1, \"85\": 1, \"45\": 1, \"51\": 2, \"17\": 1, \"74\": 1, \"52\": 1, \"84\": 1, \"111\": 2}, \"69\": {\"69\": 7, \"12\": 1, \"40\": 1, \"18\": 2, \"33\": 1}, \"77\": {\"77\": 5, \"112\": 2, \"71\": 1, \"38\": 1, \"123\": 1, \"98\": 2}, \"50\": {\"46\": 1, \"123\": 1, \"82\": 1, \"50\": 7, \"128\": 1, \"65\": 1}, \"36\": {\"36\": 10, \"24\": 1, \"126\": 1}, \"16\": {\"84\": 1, \"15\": 1, \"16\": 6, \"24\": 1, \"62\": 2, \"78\": 1}, \"8\": {\"35\": 1, \"15\": 1, \"8\": 6, \"94\": 1, \"43\": 1, \"36\": 1, \"96\": 1}, \"127\": {\"127\": 11, \"51\": 1}, \"46\": {\"46\": 8, \"100\": 1, \"103\": 1}, \"84\": {\"16\": 2, \"84\": 8, \"62\": 1, \"71\": 1}, \"18\": {\"18\": 12}, \"123\": {\"123\": 7, \"31\": 1, \"19\": 1, \"100\": 1}, \"56\": {\"75\": 1, \"14\": 1, \"40\": 1, \"56\": 4, \"83\": 1, \"35\": 1, \"54\": 1, \"107\": 1, \"15\": 1}, \"26\": {\"26\": 10, \"18\": 2}, \"14\": {\"24\": 1, \"14\": 2, \"107\": 2, \"74\": 2, \"69\": 2, \"28\": 1, \"43\": 1, \"27\": 1}, \"109\": {\"109\": 5, \"24\": 3, \"126\": 1, \"108\": 2, \"70\": 1}, \"66\": {\"111\": 2, \"59\": 2, \"66\": 3, \"22\": 1, \"90\": 1, \"119\": 1, \"76\": 1, \"64\": 1}, \"24\": {\"24\": 12}, \"71\": {\"66\": 1, \"71\": 6, \"105\": 4, \"113\": 1}, \"65\": {\"65\": 8, \"25\": 1, \"115\": 1, \"47\": 1, \"22\": 1}, \"75\": {\"75\": 6, \"56\": 1, \"92\": 1, \"71\": 1, \"8\": 1, \"21\": 1, \"106\": 1}, \"111\": {\"111\": 11, \"6\": 1}, \"30\": {\"30\": 9, \"126\": 2, \"94\": 1}, \"85\": {\"45\": 1, \"85\": 5, \"68\": 1, \"67\": 1, \"79\": 1, \"17\": 1, \"119\": 1, \"64\": 1}, \"113\": {\"113\": 4, \"62\": 2, \"3\": 2, \"21\": 1, \"71\": 1}, \"45\": {\"65\": 1, \"45\": 4, \"116\": 1, \"129\": 2, \"68\": 1, \"117\": 1, \"121\": 1, \"66\": 1}, \"29\": {\"29\": 5, \"92\": 1, \"128\": 1, \"58\": 1, \"91\": 1, \"77\": 1, \"25\": 1, \"20\": 1}, \"20\": {\"20\": 7, \"98\": 1, \"106\": 1, \"101\": 1, \"90\": 1, \"49\": 1}, \"25\": {\"25\": 5, \"28\": 1, \"44\": 3, \"41\": 1, \"29\": 2}, \"0\": {\"0\": 6, \"126\": 1, \"43\": 2, \"8\": 1, \"12\": 1, \"88\": 1}, \"68\": {\"68\": 10, \"52\": 1, \"90\": 1}, \"119\": {\"68\": 3, \"119\": 7, \"28\": 1, \"73\": 1}, \"90\": {\"90\": 7, \"69\": 1, \"33\": 1, \"76\": 2, \"123\": 1}, \"38\": {\"38\": 7, \"99\": 1, \"6\": 2, \"98\": 1, \"44\": 1}, \"99\": {\"90\": 1, \"99\": 7, \"51\": 1, \"19\": 1, \"28\": 1, \"57\": 1}, \"1\": {\"1\": 10, \"95\": 2}, \"67\": {\"4\": 1, \"119\": 1, \"67\": 7, \"109\": 1, \"42\": 1, \"29\": 1}, \"63\": {\"63\": 8, \"117\": 2, \"82\": 1, \"37\": 1}, \"34\": {\"34\": 7, \"51\": 1, \"53\": 1, \"77\": 1, \"44\": 1, \"1\": 1}, \"108\": {\"108\": 8, \"70\": 1, \"126\": 2, \"39\": 1}, \"40\": {\"40\": 8, \"62\": 1, \"1\": 1, \"95\": 1, \"72\": 1}, \"47\": {\"20\": 1, \"91\": 1, \"59\": 1, \"47\": 5, \"58\": 1, \"66\": 1, \"34\": 1, \"68\": 1}, \"37\": {\"37\": 9, \"116\": 1, \"73\": 1, \"119\": 1}, \"78\": {\"21\": 1, \"78\": 8, \"27\": 1, \"24\": 2}, \"96\": {\"98\": 1, \"47\": 1, \"96\": 2, \"23\": 2, \"128\": 1, \"3\": 2, \"9\": 2, \"1\": 1}, \"43\": {\"43\": 5, \"21\": 1, \"11\": 1, \"15\": 1, \"126\": 1, \"108\": 2, \"97\": 1}, \"5\": {\"5\": 7, \"67\": 1, \"73\": 2}, \"124\": {\"124\": 5, \"42\": 1, \"41\": 2, \"6\": 2, \"115\": 2}, \"44\": {\"28\": 1, \"44\": 8, \"34\": 2, \"23\": 1}, \"41\": {\"42\": 3, \"41\": 6, \"57\": 1, \"51\": 1, \"59\": 1}, \"116\": {\"116\": 4, \"45\": 1, \"22\": 2, \"55\": 1, \"17\": 1, \"50\": 1, \"73\": 1, \"37\": 1}, \"19\": {\"89\": 1, \"44\": 1, \"55\": 2, \"42\": 2, \"19\": 2, \"96\": 1, \"34\": 1, \"85\": 1, \"68\": 1}, \"115\": {\"124\": 1, \"65\": 1, \"22\": 1, \"115\": 5, \"2\": 1, \"45\": 1, \"48\": 2}, \"95\": {\"26\": 2, \"95\": 4, \"70\": 1, \"3\": 1, \"1\": 2, \"84\": 1, \"18\": 1}, \"3\": {\"3\": 8, \"23\": 2}, \"59\": {\"99\": 1, \"66\": 1, \"59\": 7, \"104\": 1, \"57\": 1, \"91\": 1}, \"55\": {\"55\": 9, \"46\": 1, \"100\": 1, \"119\": 1}, \"70\": {\"70\": 6, \"108\": 1, \"94\": 1, \"109\": 2, \"10\": 1, \"39\": 1}, \"6\": {\"46\": 1, \"6\": 11}, \"2\": {\"77\": 1, \"2\": 5, \"79\": 1, \"37\": 1, \"115\": 2, \"124\": 1, \"45\": 1}, \"48\": {\"86\": 1, \"2\": 1, \"48\": 8, \"66\": 1, \"115\": 1}, \"23\": {\"84\": 1, \"108\": 1, \"23\": 7, \"7\": 1, \"14\": 1, \"26\": 1}, \"7\": {\"23\": 2, \"7\": 2, \"122\": 4, \"106\": 2, \"12\": 1, \"87\": 1}, \"122\": {\"122\": 9, \"7\": 1, \"94\": 1, \"118\": 1}, \"57\": {\"63\": 1, \"108\": 1, \"57\": 7, \"29\": 1, \"30\": 1, \"58\": 1}, \"39\": {\"39\": 6, \"94\": 2, \"70\": 1, \"21\": 1}, \"79\": {\"79\": 6, \"85\": 1, \"115\": 1, \"124\": 1, \"125\": 1, \"64\": 2}, \"27\": {\"27\": 9, \"78\": 1}, \"74\": {\"74\": 6, \"70\": 1, \"85\": 1, \"31\": 2, \"78\": 1, \"51\": 1}, \"73\": {\"73\": 9, \"40\": 1, \"107\": 2}, \"62\": {\"62\": 11, \"84\": 1}, \"107\": {\"107\": 10, \"83\": 1, \"31\": 1}, \"128\": {\"16\": 1, \"114\": 1, \"128\": 5, \"74\": 1, \"71\": 1, \"59\": 1, \"99\": 2}, \"60\": {\"16\": 1, \"60\": 9, \"10\": 1, \"71\": 1}, \"114\": {\"114\": 12}, \"22\": {\"116\": 1, \"121\": 1, \"66\": 2, \"59\": 2, \"125\": 1, \"22\": 4, \"120\": 1}, \"93\": {\"93\": 10, \"108\": 2}, \"94\": {\"94\": 9, \"30\": 2, \"88\": 1}, \"31\": {\"93\": 2, \"31\": 3, \"32\": 2, \"112\": 1, \"107\": 2}, \"104\": {\"104\": 7, \"57\": 1, \"50\": 1, \"124\": 2, \"67\": 1}, \"58\": {\"58\": 10, \"68\": 1, \"3\": 1}}, \"C_A_2\": {\"14\": {\"14\": 9, \"12\": 1, \"41\": 2}, \"22\": {\"22\": 3, \"56\": 1, \"1\": 1, \"0\": 1, \"5\": 2, \"44\": 4}, \"9\": {\"47\": 2, \"1\": 1, \"48\": 1, \"57\": 3, \"9\": 2, \"50\": 1, \"51\": 1, \"14\": 1}, \"47\": {\"14\": 1, \"9\": 2, \"1\": 2, \"47\": 6, \"22\": 1}, \"13\": {\"13\": 12}, \"8\": {\"8\": 6, \"41\": 4, \"27\": 1, \"20\": 1}, \"7\": {\"43\": 1, \"7\": 7, \"42\": 1, \"23\": 1, \"39\": 1, \"41\": 1}, \"49\": {\"49\": 9, \"42\": 2, \"7\": 1}, \"20\": {\"20\": 6, \"56\": 2, \"41\": 1, \"57\": 2, \"36\": 1}, \"16\": {\"34\": 1, \"16\": 6, \"26\": 2, \"25\": 1, \"18\": 1, \"15\": 1}, \"34\": {\"34\": 10, \"42\": 1, \"15\": 1}, \"56\": {\"56\": 3, \"22\": 2, \"1\": 2, \"0\": 2, \"47\": 1, \"30\": 1, \"52\": 1}, \"38\": {\"38\": 10}, \"4\": {\"47\": 1, \"4\": 4, \"57\": 1, \"2\": 2, \"55\": 1, \"48\": 2, \"22\": 1}, \"43\": {\"43\": 8, \"24\": 1, \"2\": 1}, \"26\": {\"26\": 10}, \"35\": {\"31\": 2, \"35\": 6, \"23\": 2, \"42\": 1, \"27\": 1}, \"31\": {\"31\": 11, \"7\": 1}, \"1\": {\"1\": 6, \"6\": 2, \"40\": 1, \"0\": 1, \"30\": 1, \"22\": 1}, \"39\": {\"39\": 12}, \"5\": {\"5\": 12}, \"24\": {\"24\": 12}, \"54\": {\"54\": 9, \"24\": 1}, \"23\": {\"31\": 1, \"27\": 1, \"23\": 3, \"54\": 2, \"28\": 1, \"37\": 2, \"34\": 1, \"17\": 1}, \"51\": {\"51\": 10, \"37\": 2}, \"27\": {\"27\": 5, \"48\": 1, \"32\": 1, \"14\": 2, \"57\": 1}, \"15\": {\"15\": 8, \"28\": 2, \"23\": 1, \"10\": 1}, \"0\": {\"0\": 5, \"44\": 3, \"48\": 1, \"3\": 2, \"52\": 1}, \"19\": {\"19\": 6, \"49\": 2, \"7\": 1, \"34\": 1}, \"18\": {\"18\": 5, \"16\": 1, \"25\": 2}, \"30\": {\"20\": 1, \"0\": 2, \"30\": 4, \"1\": 1, \"33\": 1, \"14\": 2, \"52\": 1}, \"55\": {\"39\": 2, \"41\": 1, \"33\": 1, \"55\": 3, \"14\": 1, \"8\": 2}, \"57\": {\"4\": 2, \"9\": 3, \"14\": 1, \"57\": 5, \"12\": 1}, \"2\": {\"20\": 1, \"2\": 3, \"32\": 1, \"38\": 1, \"14\": 1, \"41\": 1, \"33\": 2, \"8\": 2}, \"12\": {\"6\": 1, \"12\": 4, \"44\": 3}, \"41\": {\"41\": 9, \"48\": 1, \"9\": 1, \"2\": 1}, \"42\": {\"42\": 7, \"34\": 2, \"35\": 1, \"7\": 1, \"36\": 1}, \"48\": {\"48\": 10, \"52\": 1, \"4\": 1}, \"37\": {\"37\": 11, \"51\": 1}, \"6\": {\"6\": 6, \"5\": 2, \"3\": 1, \"44\": 1}, \"11\": {\"11\": 6, \"15\": 1, \"16\": 1, \"28\": 1, \"10\": 1}, \"45\": {\"6\": 2, \"45\": 4, \"3\": 1, \"5\": 1}, \"21\": {\"21\": 11, \"6\": 1}, \"46\": {\"46\": 4, \"22\": 2, \"21\": 1, \"5\": 1, \"3\": 2}, \"25\": {\"16\": 2, \"25\": 8, \"49\": 1, \"18\": 1}, \"36\": {\"36\": 9, \"31\": 1}, \"53\": {\"53\": 10, \"10\": 1, \"26\": 1}, \"28\": {\"28\": 12}, \"40\": {\"48\": 2, \"40\": 2, \"47\": 2, \"22\": 1, \"5\": 1, \"9\": 1, \"56\": 1}, \"33\": {\"33\": 5, \"41\": 1, \"17\": 1, \"35\": 1, \"32\": 2}, \"44\": {\"3\": 2, \"5\": 2, \"44\": 6}, \"3\": {\"3\": 6, \"44\": 3, \"46\": 2, \"5\": 1}, \"17\": {\"17\": 5, \"32\": 3, \"31\": 1, \"42\": 1, \"7\": 1, \"23\": 1}, \"32\": {\"32\": 9, \"33\": 1}, \"10\": {\"10\": 9, \"28\": 1}, \"52\": {\"52\": 4, \"0\": 4, \"56\": 1, \"12\": 1}, \"50\": {\"50\": 4, \"22\": 1, \"1\": 1, \"6\": 1, \"5\": 1}, \"29\": {\"29\": 2, \"32\": 1, \"57\": 1, \"27\": 1, \"43\": 1}}}, \"per_domain_accuracy\": {\"ORACLE.run1_14\": {\"accuracy\": 0.8723958333333334, \"source?\": true}, \"ORACLE.run1_20\": {\"accuracy\": 0.8692708333333333, \"source?\": true}, \"ORACLE.run1_38\": {\"accuracy\": 0.89375, \"source?\": true}, \"ORACLE.run1_8\": {\"accuracy\": 0.8544270833333333, \"source?\": true}, \"ORACLE.run1_50\": {\"accuracy\": 0.9005208333333333, \"source?\": true}, \"ORACLE.run1_32\": {\"accuracy\": 0.8598958333333333, \"source?\": true}, \"ORACLE.run1_26\": {\"accuracy\": 0.7859375, \"source?\": true}, \"ORACLE.run1_44\": {\"accuracy\": 0.82578125, \"source?\": true}, \"C_A_3\": {\"accuracy\": 0.6515625, \"source?\": false}, \"C_A_4\": {\"accuracy\": 0.625, \"source?\": false}, \"W_A_3\": {\"accuracy\": 0.57421875, \"source?\": false}, \"C_A_5\": {\"accuracy\": 0.6453125, \"source?\": false}, \"C_A_1\": {\"accuracy\": 0.6578125, \"source?\": false}, \"W_A_4\": {\"accuracy\": 0.5755208333333334, \"source?\": false}, \"W_A_1\": {\"accuracy\": 0.642578125, \"source?\": false}, \"W_A_2\": {\"accuracy\": 0.583984375, \"source?\": false}, \"C_A_2\": {\"accuracy\": 0.6234375, \"source?\": false}}}, \"history\": {\"epoch_indices\": [1, 2, 3, 4, 5, 6, 7], \"train_label_loss\": [0.45830286416069915, 13.322914348177184, 0.7852963719109539, 0.3612073896752138, 0.3521262048790786, 0.32163290531441036, 0.3018868126099863], \"source_val_label_loss\": [3088.100830078125, 0.35166189074516296, 0.4105944037437439, 0.35857611894607544, 0.3385360538959503, 0.3137369751930237, 0.3078392744064331], \"target_val_label_loss\": [800216.8125, 260412.25, 219664.9375, 366130.0, 499453.46875, 566876.25, 604618.9375], \"source_val_acc_label\": [0.688671875, 0.8757161458333333, 0.8577473958333334, 0.8712890625, 0.8789713541666667, 0.8927408854166666, 0.8902669270833333], \"target_val_acc_label\": [0.5794092465753424, 0.6264982876712328, 0.6100171232876712, 0.6089469178082192, 0.560894691780822, 0.5809075342465754, 0.598458904109589]}, \"dataset_metrics\": {\"source\": {\"train\": {\"n_unique_x\": 179200, \"n_unique_y\": 16, \"n_batch/episode\": 6720}, \"val\": {\"n_unique_x\": 38400, \"n_unique_y\": 16, \"n_batch/episode\": 960}, \"test\": {\"n_unique_x\": 38400, \"n_unique_y\": 16, \"n_batch/episode\": 960}}, \"target\": {\"train\": {\"n_unique_x\": 56700, \"n_unique_y\": 130, \"n_batch/episode\": 2080}, \"val\": {\"n_unique_x\": 12132, \"n_unique_y\": 130, \"n_batch/episode\": 292}, \"test\": {\"n_unique_x\": 12132, \"n_unique_y\": 130, \"n_batch/episode\": 292}}}}'"
      ]
     },
     "execution_count": 29,
     "metadata": {},
     "output_type": "execute_result"
    }
   ],
   "source": [
    "json.dumps(experiment)"
   ]
  }
 ],
 "metadata": {
  "celltoolbar": "Tags",
  "kernelspec": {
   "display_name": "Python 3 (ipykernel)",
   "language": "python",
   "name": "python3"
  },
  "language_info": {
   "codemirror_mode": {
    "name": "ipython",
    "version": 3
   },
   "file_extension": ".py",
   "mimetype": "text/x-python",
   "name": "python",
   "nbconvert_exporter": "python",
   "pygments_lexer": "ipython3",
   "version": "3.8.10"
  },
  "papermill": {
   "default_parameters": {},
   "duration": 1204.882209,
   "end_time": "2022-03-18T16:28:03.884760",
   "environment_variables": {},
   "exception": null,
   "input_path": "/mnt/wd500GB/CSC500/csc500-main/csc500-notebooks/templates/tl_ptn_template.ipynb",
   "output_path": "trial.ipynb",
   "parameters": {
    "parameters": {
     "BEST_MODEL_PATH": "./best_model.pth",
     "NUM_LOGS_PER_EPOCH": 10,
     "criteria_for_best": "target_loss",
     "dataset_seed": 1337,
     "datasets": [
      {
       "domain_prefix": "C_A_",
       "domains": [
        1,
        2,
        3,
        4,
        5
       ],
       "episode_transforms": [],
       "labels": [
        "1-10.",
        "1-11.",
        "1-15.",
        "1-16.",
        "1-17.",
        "1-18.",
        "1-19.",
        "10-4.",
        "10-7.",
        "11-1.",
        "11-14.",
        "11-17.",
        "11-20.",
        "11-7.",
        "13-20.",
        "13-8.",
        "14-10.",
        "14-11.",
        "14-14.",
        "14-7.",
        "15-1.",
        "15-20.",
        "16-1.",
        "16-16.",
        "17-10.",
        "17-11.",
        "17-2.",
        "19-1.",
        "19-16.",
        "19-19.",
        "19-20.",
        "19-3.",
        "2-10.",
        "2-11.",
        "2-17.",
        "2-18.",
        "2-20.",
        "2-3.",
        "2-4.",
        "2-5.",
        "2-6.",
        "2-7.",
        "2-8.",
        "3-13.",
        "3-18.",
        "3-3.",
        "4-1.",
        "4-10.",
        "4-11.",
        "4-19.",
        "5-5.",
        "6-15.",
        "7-10.",
        "7-14.",
        "8-18.",
        "8-20.",
        "8-3.",
        "8-8."
       ],
       "num_examples_per_domain_per_label": 100,
       "pickle_path": "/mnt/wd500GB/CSC500/csc500-main/datasets/cores.stratified_ds.2022A.pkl",
       "source_or_target_dataset": "target",
       "x_transforms": [
        "take_200"
       ]
      },
      {
       "domain_prefix": "W_A_",
       "domains": [
        1,
        2,
        3,
        4
       ],
       "episode_transforms": [],
       "labels": [
        "1-10",
        "1-12",
        "1-14",
        "1-16",
        "1-18",
        "1-19",
        "1-8",
        "10-11",
        "10-17",
        "10-4",
        "10-7",
        "11-1",
        "11-10",
        "11-19",
        "11-20",
        "11-4",
        "11-7",
        "12-19",
        "12-20",
        "12-7",
        "13-14",
        "13-18",
        "13-19",
        "13-20",
        "13-3",
        "13-7",
        "14-10",
        "14-11",
        "14-12",
        "14-13",
        "14-14",
        "14-19",
        "14-20",
        "14-7",
        "14-8",
        "14-9",
        "15-1",
        "15-19",
        "15-6",
        "16-1",
        "16-16",
        "16-19",
        "16-20",
        "17-10",
        "17-11",
        "18-1",
        "18-10",
        "18-11",
        "18-12",
        "18-13",
        "18-14",
        "18-15",
        "18-16",
        "18-17",
        "18-19",
        "18-2",
        "18-20",
        "18-4",
        "18-5",
        "18-7",
        "18-8",
        "18-9",
        "19-1",
        "19-10",
        "19-11",
        "19-12",
        "19-13",
        "19-14",
        "19-15",
        "19-19",
        "19-2",
        "19-20",
        "19-3",
        "19-4",
        "19-6",
        "19-7",
        "19-8",
        "19-9",
        "2-1",
        "2-13",
        "2-15",
        "2-3",
        "2-4",
        "2-5",
        "2-6",
        "2-7",
        "2-8",
        "20-1",
        "20-12",
        "20-14",
        "20-15",
        "20-16",
        "20-18",
        "20-19",
        "20-20",
        "20-3",
        "20-4",
        "20-5",
        "20-7",
        "20-8",
        "3-1",
        "3-13",
        "3-18",
        "3-2",
        "3-8",
        "4-1",
        "4-10",
        "4-11",
        "5-1",
        "5-5",
        "6-1",
        "6-15",
        "6-6",
        "7-10",
        "7-11",
        "7-12",
        "7-13",
        "7-14",
        "7-7",
        "7-8",
        "7-9",
        "8-1",
        "8-13",
        "8-14",
        "8-18",
        "8-20",
        "8-3",
        "8-8",
        "9-1",
        "9-7"
       ],
       "num_examples_per_domain_per_label": 100,
       "pickle_path": "/mnt/wd500GB/CSC500/csc500-main/datasets/wisig.node3-19.stratified_ds.2022A.pkl",
       "source_or_target_dataset": "target",
       "x_transforms": [
        "take_200"
       ]
      },
      {
       "domain_prefix": "ORACLE.run1_",
       "domains": [
        32,
        38,
        8,
        44,
        14,
        50,
        20,
        26
       ],
       "episode_transforms": [],
       "labels": [
        "3123D52",
        "3123D65",
        "3123D79",
        "3123D80",
        "3123D54",
        "3123D70",
        "3123D7B",
        "3123D89",
        "3123D58",
        "3123D76",
        "3123D7D",
        "3123EFE",
        "3123D64",
        "3123D78",
        "3123D7E",
        "3124E4A"
       ],
       "num_examples_per_domain_per_label": 2000,
       "pickle_path": "/mnt/wd500GB/CSC500/csc500-main/datasets/oracle.Run1_framed_2000Examples_stratified_ds.2022A.pkl",
       "source_or_target_dataset": "source",
       "x_transforms": [
        "take_200",
        "resample_20Msps_to_25Msps"
       ]
      }
     ],
     "device": "cuda",
     "experiment_name": "tl_3A:oracle.run1.framed -> cores+wisig",
     "lr": 0.001,
     "n_epoch": 50,
     "n_query": 2,
     "n_shot": 3,
     "n_way": 16,
     "patience": 3,
     "seed": 1337,
     "test_k_factor": 2,
     "torch_default_dtype": "torch.float32",
     "train_k_factor": 3,
     "val_k_factor": 2,
     "x_net": [
      {
       "class": "nnReshape",
       "kargs": {
        "shape": [
         -1,
         1,
         2,
         200
        ]
       }
      },
      {
       "class": "Conv2d",
       "kargs": {
        "bias": false,
        "in_channels": 1,
        "kernel_size": [
         1,
         7
        ],
        "out_channels": 256,
        "padding": [
         0,
         3
        ]
       }
      },
      {
       "class": "ReLU",
       "kargs": {
        "inplace": true
       }
      },
      {
       "class": "BatchNorm2d",
       "kargs": {
        "num_features": 256
       }
      },
      {
       "class": "Conv2d",
       "kargs": {
        "bias": true,
        "in_channels": 256,
        "kernel_size": [
         2,
         7
        ],
        "out_channels": 80,
        "padding": [
         0,
         3
        ]
       }
      },
      {
       "class": "ReLU",
       "kargs": {
        "inplace": true
       }
      },
      {
       "class": "BatchNorm2d",
       "kargs": {
        "num_features": 80
       }
      },
      {
       "class": "Flatten",
       "kargs": {}
      },
      {
       "class": "Linear",
       "kargs": {
        "in_features": 16000,
        "out_features": 256
       }
      },
      {
       "class": "ReLU",
       "kargs": {
        "inplace": true
       }
      },
      {
       "class": "BatchNorm1d",
       "kargs": {
        "num_features": 256
       }
      },
      {
       "class": "Linear",
       "kargs": {
        "in_features": 256,
        "out_features": 256
       }
      }
     ],
     "x_shape": [
      2,
      200
     ]
    }
   },
   "start_time": "2022-03-18T16:07:59.002551",
   "version": "2.3.4"
  }
 },
 "nbformat": 4,
 "nbformat_minor": 5
}