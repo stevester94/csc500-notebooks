{
 "cells": [
  {
   "cell_type": "markdown",
   "id": "9fea5f46",
   "metadata": {
    "papermill": {
     "duration": 0.017798,
     "end_time": "2022-03-18T15:32:35.931215",
     "exception": false,
     "start_time": "2022-03-18T15:32:35.913417",
     "status": "completed"
    },
    "tags": []
   },
   "source": [
    "# Transfer Learning Template"
   ]
  },
  {
   "cell_type": "code",
   "execution_count": 1,
   "id": "0902182a",
   "metadata": {
    "execution": {
     "iopub.execute_input": "2022-03-18T15:32:35.971314Z",
     "iopub.status.busy": "2022-03-18T15:32:35.970905Z",
     "iopub.status.idle": "2022-03-18T15:32:36.850184Z",
     "shell.execute_reply": "2022-03-18T15:32:36.850404Z"
    },
    "papermill": {
     "duration": 0.906822,
     "end_time": "2022-03-18T15:32:36.850535",
     "exception": false,
     "start_time": "2022-03-18T15:32:35.943713",
     "status": "completed"
    },
    "tags": []
   },
   "outputs": [],
   "source": [
    "%load_ext autoreload\n",
    "%autoreload 2\n",
    "%matplotlib inline\n",
    "\n",
    "    \n",
    "import os, json, sys, time, random\n",
    "import numpy as np\n",
    "import torch\n",
    "from torch.optim import Adam\n",
    "from  easydict import EasyDict\n",
    "import matplotlib.pyplot as plt\n",
    "\n",
    "from steves_models.steves_ptn import Steves_Prototypical_Network\n",
    "\n",
    "from steves_utils.lazy_iterable_wrapper import Lazy_Iterable_Wrapper\n",
    "from steves_utils.iterable_aggregator import Iterable_Aggregator\n",
    "from steves_utils.ptn_train_eval_test_jig import  PTN_Train_Eval_Test_Jig\n",
    "from steves_utils.torch_sequential_builder import build_sequential\n",
    "from steves_utils.torch_utils import get_dataset_metrics, ptn_confusion_by_domain_over_dataloader\n",
    "from steves_utils.utils_v2 import (per_domain_accuracy_from_confusion, get_datasets_base_path)\n",
    "from steves_utils.PTN.utils import independent_accuracy_assesment\n",
    "\n",
    "from torch.utils.data import DataLoader\n",
    "\n",
    "from steves_utils.stratified_dataset.episodic_accessor import Episodic_Accessor_Factory\n",
    "\n",
    "from steves_utils.ptn_do_report import (\n",
    "    get_loss_curve,\n",
    "    get_results_table,\n",
    "    get_parameters_table,\n",
    "    get_domain_accuracies,\n",
    ")\n",
    "\n",
    "from steves_utils.transforms import get_chained_transform"
   ]
  },
  {
   "cell_type": "markdown",
   "id": "41c840b4",
   "metadata": {
    "papermill": {
     "duration": 0.012988,
     "end_time": "2022-03-18T15:32:36.877058",
     "exception": false,
     "start_time": "2022-03-18T15:32:36.864070",
     "status": "completed"
    },
    "tags": []
   },
   "source": [
    "# Allowed Parameters\n",
    "These are allowed parameters, not defaults\n",
    "Each of these values need to be present in the injected parameters (the notebook will raise an exception if they are not present)\n",
    "\n",
    "Papermill uses the cell tag \"parameters\" to inject the real parameters below this cell.\n",
    "Enable tags to see what I mean"
   ]
  },
  {
   "cell_type": "code",
   "execution_count": 2,
   "id": "fd44eb83",
   "metadata": {
    "execution": {
     "iopub.execute_input": "2022-03-18T15:32:36.905219Z",
     "iopub.status.busy": "2022-03-18T15:32:36.904302Z",
     "iopub.status.idle": "2022-03-18T15:32:36.915902Z",
     "shell.execute_reply": "2022-03-18T15:32:36.916104Z"
    },
    "papermill": {
     "duration": 0.026018,
     "end_time": "2022-03-18T15:32:36.916171",
     "exception": false,
     "start_time": "2022-03-18T15:32:36.890153",
     "status": "completed"
    },
    "tags": []
   },
   "outputs": [],
   "source": [
    "required_parameters = {\n",
    "    \"experiment_name\",\n",
    "    \"lr\",\n",
    "    \"device\",\n",
    "    \"seed\",\n",
    "    \"dataset_seed\",\n",
    "    \"n_shot\",\n",
    "    \"n_query\",\n",
    "    \"n_way\",\n",
    "    \"train_k_factor\",\n",
    "    \"val_k_factor\",\n",
    "    \"test_k_factor\",\n",
    "    \"n_epoch\",\n",
    "    \"patience\",\n",
    "    \"criteria_for_best\",\n",
    "    \"x_net\",\n",
    "    \"datasets\",\n",
    "    \"torch_default_dtype\",\n",
    "    \"NUM_LOGS_PER_EPOCH\",\n",
    "    \"BEST_MODEL_PATH\",\n",
    "    \"x_shape\",\n",
    "}"
   ]
  },
  {
   "cell_type": "code",
   "execution_count": 3,
   "id": "fa3f0049",
   "metadata": {
    "execution": {
     "iopub.execute_input": "2022-03-18T15:32:36.950551Z",
     "iopub.status.busy": "2022-03-18T15:32:36.950277Z",
     "iopub.status.idle": "2022-03-18T15:32:36.962379Z",
     "shell.execute_reply": "2022-03-18T15:32:36.962582Z"
    },
    "papermill": {
     "duration": 0.033889,
     "end_time": "2022-03-18T15:32:36.962655",
     "exception": false,
     "start_time": "2022-03-18T15:32:36.928766",
     "status": "completed"
    },
    "tags": [
     "parameters"
    ]
   },
   "outputs": [],
   "source": [
    "from steves_utils.CORES.utils import (\n",
    "    ALL_NODES,\n",
    "    ALL_NODES_MINIMUM_1000_EXAMPLES,\n",
    "    ALL_DAYS\n",
    ")\n",
    "\n",
    "from steves_utils.ORACLE.utils_v2 import (\n",
    "    ALL_DISTANCES_FEET_NARROWED,\n",
    "    ALL_RUNS,\n",
    "    ALL_SERIAL_NUMBERS,\n",
    ")\n",
    "\n",
    "standalone_parameters = {}\n",
    "standalone_parameters[\"experiment_name\"] = \"STANDALONE PTN\"\n",
    "standalone_parameters[\"lr\"] = 0.001\n",
    "standalone_parameters[\"device\"] = \"cuda\"\n",
    "\n",
    "standalone_parameters[\"seed\"] = 1337\n",
    "standalone_parameters[\"dataset_seed\"] = 1337\n",
    "\n",
    "standalone_parameters[\"n_way\"] = 8\n",
    "standalone_parameters[\"n_shot\"] = 3\n",
    "standalone_parameters[\"n_query\"]  = 2\n",
    "standalone_parameters[\"train_k_factor\"] = 1\n",
    "standalone_parameters[\"val_k_factor\"] = 2\n",
    "standalone_parameters[\"test_k_factor\"] = 2\n",
    "\n",
    "\n",
    "standalone_parameters[\"n_epoch\"] = 50\n",
    "\n",
    "standalone_parameters[\"patience\"] = 10\n",
    "standalone_parameters[\"criteria_for_best\"] = \"source_loss\"\n",
    "\n",
    "standalone_parameters[\"datasets\"] = [\n",
    "    {\n",
    "        \"labels\": ALL_SERIAL_NUMBERS,\n",
    "        \"domains\": ALL_DISTANCES_FEET_NARROWED,\n",
    "        \"num_examples_per_domain_per_label\": 100,\n",
    "        \"pickle_path\": os.path.join(get_datasets_base_path(), \"oracle.Run1_framed_2000Examples_stratified_ds.2022A.pkl\"),\n",
    "        \"source_or_target_dataset\": \"source\",\n",
    "        \"x_transforms\": [\"unit_mag\", \"minus_two\"],\n",
    "        \"episode_transforms\": [],\n",
    "        \"domain_prefix\": \"ORACLE_\"\n",
    "    },\n",
    "    {\n",
    "        \"labels\": ALL_NODES,\n",
    "        \"domains\": ALL_DAYS,\n",
    "        \"num_examples_per_domain_per_label\": 100,\n",
    "        \"pickle_path\": os.path.join(get_datasets_base_path(), \"cores.stratified_ds.2022A.pkl\"),\n",
    "        \"source_or_target_dataset\": \"target\",\n",
    "        \"x_transforms\": [\"unit_power\", \"times_zero\"],\n",
    "        \"episode_transforms\": [],\n",
    "        \"domain_prefix\": \"CORES_\"\n",
    "    }   \n",
    "]\n",
    "\n",
    "standalone_parameters[\"torch_default_dtype\"] = \"torch.float32\" \n",
    "\n",
    "\n",
    "\n",
    "standalone_parameters[\"x_net\"] =     [\n",
    "    {\"class\": \"nnReshape\", \"kargs\": {\"shape\":[-1, 1, 2, 256]}},\n",
    "    {\"class\": \"Conv2d\", \"kargs\": { \"in_channels\":1, \"out_channels\":256, \"kernel_size\":(1,7), \"bias\":False, \"padding\":(0,3), },},\n",
    "    {\"class\": \"ReLU\", \"kargs\": {\"inplace\": True}},\n",
    "    {\"class\": \"BatchNorm2d\", \"kargs\": {\"num_features\":256}},\n",
    "\n",
    "    {\"class\": \"Conv2d\", \"kargs\": { \"in_channels\":256, \"out_channels\":80, \"kernel_size\":(2,7), \"bias\":True, \"padding\":(0,3), },},\n",
    "    {\"class\": \"ReLU\", \"kargs\": {\"inplace\": True}},\n",
    "    {\"class\": \"BatchNorm2d\", \"kargs\": {\"num_features\":80}},\n",
    "    {\"class\": \"Flatten\", \"kargs\": {}},\n",
    "\n",
    "    {\"class\": \"Linear\", \"kargs\": {\"in_features\": 80*256, \"out_features\": 256}}, # 80 units per IQ pair\n",
    "    {\"class\": \"ReLU\", \"kargs\": {\"inplace\": True}},\n",
    "    {\"class\": \"BatchNorm1d\", \"kargs\": {\"num_features\":256}},\n",
    "\n",
    "    {\"class\": \"Linear\", \"kargs\": {\"in_features\": 256, \"out_features\": 256}},\n",
    "]\n",
    "\n",
    "# Parameters relevant to results\n",
    "# These parameters will basically never need to change\n",
    "standalone_parameters[\"NUM_LOGS_PER_EPOCH\"] = 10\n",
    "standalone_parameters[\"BEST_MODEL_PATH\"] = \"./best_model.pth\"\n",
    "\n",
    "\n",
    "\n",
    "\n"
   ]
  },
  {
   "cell_type": "code",
   "execution_count": 4,
   "id": "94d76a33",
   "metadata": {
    "execution": {
     "iopub.execute_input": "2022-03-18T15:32:37.002292Z",
     "iopub.status.busy": "2022-03-18T15:32:36.994914Z",
     "iopub.status.idle": "2022-03-18T15:32:37.015040Z",
     "shell.execute_reply": "2022-03-18T15:32:37.015247Z"
    },
    "papermill": {
     "duration": 0.039814,
     "end_time": "2022-03-18T15:32:37.015316",
     "exception": false,
     "start_time": "2022-03-18T15:32:36.975502",
     "status": "completed"
    },
    "tags": [
     "injected-parameters"
    ]
   },
   "outputs": [],
   "source": [
    "# Parameters\n",
    "parameters = {\n",
    "    \"experiment_name\": \"tl_3A:oracle.run1.framed -> cores+wisig\",\n",
    "    \"device\": \"cuda\",\n",
    "    \"lr\": 0.001,\n",
    "    \"seed\": 1337,\n",
    "    \"dataset_seed\": 1337,\n",
    "    \"x_shape\": [2, 200],\n",
    "    \"n_shot\": 3,\n",
    "    \"n_query\": 2,\n",
    "    \"train_k_factor\": 3,\n",
    "    \"val_k_factor\": 2,\n",
    "    \"test_k_factor\": 2,\n",
    "    \"torch_default_dtype\": \"torch.float32\",\n",
    "    \"n_epoch\": 50,\n",
    "    \"patience\": 3,\n",
    "    \"criteria_for_best\": \"target_loss\",\n",
    "    \"x_net\": [\n",
    "        {\"class\": \"nnReshape\", \"kargs\": {\"shape\": [-1, 1, 2, 200]}},\n",
    "        {\n",
    "            \"class\": \"Conv2d\",\n",
    "            \"kargs\": {\n",
    "                \"in_channels\": 1,\n",
    "                \"out_channels\": 256,\n",
    "                \"kernel_size\": [1, 7],\n",
    "                \"bias\": False,\n",
    "                \"padding\": [0, 3],\n",
    "            },\n",
    "        },\n",
    "        {\"class\": \"ReLU\", \"kargs\": {\"inplace\": True}},\n",
    "        {\"class\": \"BatchNorm2d\", \"kargs\": {\"num_features\": 256}},\n",
    "        {\n",
    "            \"class\": \"Conv2d\",\n",
    "            \"kargs\": {\n",
    "                \"in_channels\": 256,\n",
    "                \"out_channels\": 80,\n",
    "                \"kernel_size\": [2, 7],\n",
    "                \"bias\": True,\n",
    "                \"padding\": [0, 3],\n",
    "            },\n",
    "        },\n",
    "        {\"class\": \"ReLU\", \"kargs\": {\"inplace\": True}},\n",
    "        {\"class\": \"BatchNorm2d\", \"kargs\": {\"num_features\": 80}},\n",
    "        {\"class\": \"Flatten\", \"kargs\": {}},\n",
    "        {\"class\": \"Linear\", \"kargs\": {\"in_features\": 16000, \"out_features\": 256}},\n",
    "        {\"class\": \"ReLU\", \"kargs\": {\"inplace\": True}},\n",
    "        {\"class\": \"BatchNorm1d\", \"kargs\": {\"num_features\": 256}},\n",
    "        {\"class\": \"Linear\", \"kargs\": {\"in_features\": 256, \"out_features\": 256}},\n",
    "    ],\n",
    "    \"NUM_LOGS_PER_EPOCH\": 10,\n",
    "    \"BEST_MODEL_PATH\": \"./best_model.pth\",\n",
    "    \"n_way\": 16,\n",
    "    \"datasets\": [\n",
    "        {\n",
    "            \"labels\": [\n",
    "                \"1-10.\",\n",
    "                \"1-11.\",\n",
    "                \"1-15.\",\n",
    "                \"1-16.\",\n",
    "                \"1-17.\",\n",
    "                \"1-18.\",\n",
    "                \"1-19.\",\n",
    "                \"10-4.\",\n",
    "                \"10-7.\",\n",
    "                \"11-1.\",\n",
    "                \"11-14.\",\n",
    "                \"11-17.\",\n",
    "                \"11-20.\",\n",
    "                \"11-7.\",\n",
    "                \"13-20.\",\n",
    "                \"13-8.\",\n",
    "                \"14-10.\",\n",
    "                \"14-11.\",\n",
    "                \"14-14.\",\n",
    "                \"14-7.\",\n",
    "                \"15-1.\",\n",
    "                \"15-20.\",\n",
    "                \"16-1.\",\n",
    "                \"16-16.\",\n",
    "                \"17-10.\",\n",
    "                \"17-11.\",\n",
    "                \"17-2.\",\n",
    "                \"19-1.\",\n",
    "                \"19-16.\",\n",
    "                \"19-19.\",\n",
    "                \"19-20.\",\n",
    "                \"19-3.\",\n",
    "                \"2-10.\",\n",
    "                \"2-11.\",\n",
    "                \"2-17.\",\n",
    "                \"2-18.\",\n",
    "                \"2-20.\",\n",
    "                \"2-3.\",\n",
    "                \"2-4.\",\n",
    "                \"2-5.\",\n",
    "                \"2-6.\",\n",
    "                \"2-7.\",\n",
    "                \"2-8.\",\n",
    "                \"3-13.\",\n",
    "                \"3-18.\",\n",
    "                \"3-3.\",\n",
    "                \"4-1.\",\n",
    "                \"4-10.\",\n",
    "                \"4-11.\",\n",
    "                \"4-19.\",\n",
    "                \"5-5.\",\n",
    "                \"6-15.\",\n",
    "                \"7-10.\",\n",
    "                \"7-14.\",\n",
    "                \"8-18.\",\n",
    "                \"8-20.\",\n",
    "                \"8-3.\",\n",
    "                \"8-8.\",\n",
    "            ],\n",
    "            \"domains\": [1, 2, 3, 4, 5],\n",
    "            \"num_examples_per_domain_per_label\": 100,\n",
    "            \"pickle_path\": \"/mnt/wd500GB/CSC500/csc500-main/datasets/cores.stratified_ds.2022A.pkl\",\n",
    "            \"source_or_target_dataset\": \"target\",\n",
    "            \"x_transforms\": [\"unit_power\", \"take_200\"],\n",
    "            \"episode_transforms\": [],\n",
    "            \"domain_prefix\": \"C_A_\",\n",
    "        },\n",
    "        {\n",
    "            \"labels\": [\n",
    "                \"1-10\",\n",
    "                \"1-12\",\n",
    "                \"1-14\",\n",
    "                \"1-16\",\n",
    "                \"1-18\",\n",
    "                \"1-19\",\n",
    "                \"1-8\",\n",
    "                \"10-11\",\n",
    "                \"10-17\",\n",
    "                \"10-4\",\n",
    "                \"10-7\",\n",
    "                \"11-1\",\n",
    "                \"11-10\",\n",
    "                \"11-19\",\n",
    "                \"11-20\",\n",
    "                \"11-4\",\n",
    "                \"11-7\",\n",
    "                \"12-19\",\n",
    "                \"12-20\",\n",
    "                \"12-7\",\n",
    "                \"13-14\",\n",
    "                \"13-18\",\n",
    "                \"13-19\",\n",
    "                \"13-20\",\n",
    "                \"13-3\",\n",
    "                \"13-7\",\n",
    "                \"14-10\",\n",
    "                \"14-11\",\n",
    "                \"14-12\",\n",
    "                \"14-13\",\n",
    "                \"14-14\",\n",
    "                \"14-19\",\n",
    "                \"14-20\",\n",
    "                \"14-7\",\n",
    "                \"14-8\",\n",
    "                \"14-9\",\n",
    "                \"15-1\",\n",
    "                \"15-19\",\n",
    "                \"15-6\",\n",
    "                \"16-1\",\n",
    "                \"16-16\",\n",
    "                \"16-19\",\n",
    "                \"16-20\",\n",
    "                \"17-10\",\n",
    "                \"17-11\",\n",
    "                \"18-1\",\n",
    "                \"18-10\",\n",
    "                \"18-11\",\n",
    "                \"18-12\",\n",
    "                \"18-13\",\n",
    "                \"18-14\",\n",
    "                \"18-15\",\n",
    "                \"18-16\",\n",
    "                \"18-17\",\n",
    "                \"18-19\",\n",
    "                \"18-2\",\n",
    "                \"18-20\",\n",
    "                \"18-4\",\n",
    "                \"18-5\",\n",
    "                \"18-7\",\n",
    "                \"18-8\",\n",
    "                \"18-9\",\n",
    "                \"19-1\",\n",
    "                \"19-10\",\n",
    "                \"19-11\",\n",
    "                \"19-12\",\n",
    "                \"19-13\",\n",
    "                \"19-14\",\n",
    "                \"19-15\",\n",
    "                \"19-19\",\n",
    "                \"19-2\",\n",
    "                \"19-20\",\n",
    "                \"19-3\",\n",
    "                \"19-4\",\n",
    "                \"19-6\",\n",
    "                \"19-7\",\n",
    "                \"19-8\",\n",
    "                \"19-9\",\n",
    "                \"2-1\",\n",
    "                \"2-13\",\n",
    "                \"2-15\",\n",
    "                \"2-3\",\n",
    "                \"2-4\",\n",
    "                \"2-5\",\n",
    "                \"2-6\",\n",
    "                \"2-7\",\n",
    "                \"2-8\",\n",
    "                \"20-1\",\n",
    "                \"20-12\",\n",
    "                \"20-14\",\n",
    "                \"20-15\",\n",
    "                \"20-16\",\n",
    "                \"20-18\",\n",
    "                \"20-19\",\n",
    "                \"20-20\",\n",
    "                \"20-3\",\n",
    "                \"20-4\",\n",
    "                \"20-5\",\n",
    "                \"20-7\",\n",
    "                \"20-8\",\n",
    "                \"3-1\",\n",
    "                \"3-13\",\n",
    "                \"3-18\",\n",
    "                \"3-2\",\n",
    "                \"3-8\",\n",
    "                \"4-1\",\n",
    "                \"4-10\",\n",
    "                \"4-11\",\n",
    "                \"5-1\",\n",
    "                \"5-5\",\n",
    "                \"6-1\",\n",
    "                \"6-15\",\n",
    "                \"6-6\",\n",
    "                \"7-10\",\n",
    "                \"7-11\",\n",
    "                \"7-12\",\n",
    "                \"7-13\",\n",
    "                \"7-14\",\n",
    "                \"7-7\",\n",
    "                \"7-8\",\n",
    "                \"7-9\",\n",
    "                \"8-1\",\n",
    "                \"8-13\",\n",
    "                \"8-14\",\n",
    "                \"8-18\",\n",
    "                \"8-20\",\n",
    "                \"8-3\",\n",
    "                \"8-8\",\n",
    "                \"9-1\",\n",
    "                \"9-7\",\n",
    "            ],\n",
    "            \"domains\": [1, 2, 3, 4],\n",
    "            \"num_examples_per_domain_per_label\": 100,\n",
    "            \"pickle_path\": \"/mnt/wd500GB/CSC500/csc500-main/datasets/wisig.node3-19.stratified_ds.2022A.pkl\",\n",
    "            \"source_or_target_dataset\": \"target\",\n",
    "            \"x_transforms\": [\"unit_power\", \"take_200\"],\n",
    "            \"episode_transforms\": [],\n",
    "            \"domain_prefix\": \"W_A_\",\n",
    "        },\n",
    "        {\n",
    "            \"labels\": [\n",
    "                \"3123D52\",\n",
    "                \"3123D65\",\n",
    "                \"3123D79\",\n",
    "                \"3123D80\",\n",
    "                \"3123D54\",\n",
    "                \"3123D70\",\n",
    "                \"3123D7B\",\n",
    "                \"3123D89\",\n",
    "                \"3123D58\",\n",
    "                \"3123D76\",\n",
    "                \"3123D7D\",\n",
    "                \"3123EFE\",\n",
    "                \"3123D64\",\n",
    "                \"3123D78\",\n",
    "                \"3123D7E\",\n",
    "                \"3124E4A\",\n",
    "            ],\n",
    "            \"domains\": [32, 38, 8, 44, 14, 50, 20, 26],\n",
    "            \"num_examples_per_domain_per_label\": 2000,\n",
    "            \"pickle_path\": \"/mnt/wd500GB/CSC500/csc500-main/datasets/oracle.Run1_framed_2000Examples_stratified_ds.2022A.pkl\",\n",
    "            \"source_or_target_dataset\": \"source\",\n",
    "            \"x_transforms\": [\"unit_power\", \"take_200\", \"resample_20Msps_to_25Msps\"],\n",
    "            \"episode_transforms\": [],\n",
    "            \"domain_prefix\": \"ORACLE.run1_\",\n",
    "        },\n",
    "    ],\n",
    "}\n"
   ]
  },
  {
   "cell_type": "code",
   "execution_count": 5,
   "id": "8fa1cc33",
   "metadata": {
    "execution": {
     "iopub.execute_input": "2022-03-18T15:32:37.044813Z",
     "iopub.status.busy": "2022-03-18T15:32:37.044560Z",
     "iopub.status.idle": "2022-03-18T15:32:37.056892Z",
     "shell.execute_reply": "2022-03-18T15:32:37.057094Z"
    },
    "papermill": {
     "duration": 0.029085,
     "end_time": "2022-03-18T15:32:37.057160",
     "exception": false,
     "start_time": "2022-03-18T15:32:37.028075",
     "status": "completed"
    },
    "tags": []
   },
   "outputs": [],
   "source": [
    "# Set this to True if you want to run this template directly\n",
    "STANDALONE = False\n",
    "if STANDALONE:\n",
    "    print(\"parameters not injected, running with standalone_parameters\")\n",
    "    parameters = standalone_parameters\n",
    "\n",
    "if not 'parameters' in locals() and not 'parameters' in globals():\n",
    "    raise Exception(\"Parameter injection failed\")\n",
    "\n",
    "#Use an easy dict for all the parameters\n",
    "p = EasyDict(parameters)\n",
    "\n",
    "if \"x_shape\" not in p:\n",
    "    p.x_shape = [2,256] # Default to this if we dont supply x_shape\n",
    "\n",
    "\n",
    "supplied_keys = set(p.keys())\n",
    "\n",
    "if  supplied_keys != required_parameters:\n",
    "    print(\"Parameters are incorrect\")\n",
    "    if len(supplied_keys - required_parameters)>0: print(\"Shouldn't have:\", str(supplied_keys - required_parameters))\n",
    "    if len(required_parameters - supplied_keys)>0: print(\"Need to have:\", str(required_parameters - supplied_keys))\n",
    "    raise RuntimeError(\"Parameters are incorrect\")"
   ]
  },
  {
   "cell_type": "code",
   "execution_count": 6,
   "id": "3a028d58",
   "metadata": {
    "execution": {
     "iopub.execute_input": "2022-03-18T15:32:37.085713Z",
     "iopub.status.busy": "2022-03-18T15:32:37.085469Z",
     "iopub.status.idle": "2022-03-18T15:32:37.099125Z",
     "shell.execute_reply": "2022-03-18T15:32:37.099333Z"
    },
    "papermill": {
     "duration": 0.02948,
     "end_time": "2022-03-18T15:32:37.099400",
     "exception": false,
     "start_time": "2022-03-18T15:32:37.069920",
     "status": "completed"
    },
    "tags": []
   },
   "outputs": [],
   "source": [
    "###################################\n",
    "# Set the RNGs and make it all deterministic\n",
    "###################################\n",
    "np.random.seed(p.seed)\n",
    "random.seed(p.seed)\n",
    "torch.manual_seed(p.seed)\n",
    "\n",
    "torch.use_deterministic_algorithms(True) "
   ]
  },
  {
   "cell_type": "code",
   "execution_count": 7,
   "id": "b691acf6",
   "metadata": {
    "execution": {
     "iopub.execute_input": "2022-03-18T15:32:37.127194Z",
     "iopub.status.busy": "2022-03-18T15:32:37.126947Z",
     "iopub.status.idle": "2022-03-18T15:32:37.142001Z",
     "shell.execute_reply": "2022-03-18T15:32:37.141752Z"
    },
    "papermill": {
     "duration": 0.029808,
     "end_time": "2022-03-18T15:32:37.142055",
     "exception": false,
     "start_time": "2022-03-18T15:32:37.112247",
     "status": "completed"
    },
    "tags": []
   },
   "outputs": [],
   "source": [
    "###########################################\n",
    "# The stratified datasets honor this\n",
    "###########################################\n",
    "torch.set_default_dtype(eval(p.torch_default_dtype))"
   ]
  },
  {
   "cell_type": "code",
   "execution_count": 8,
   "id": "b5fba671",
   "metadata": {
    "execution": {
     "iopub.execute_input": "2022-03-18T15:32:37.169992Z",
     "iopub.status.busy": "2022-03-18T15:32:37.169742Z",
     "iopub.status.idle": "2022-03-18T15:32:37.205531Z",
     "shell.execute_reply": "2022-03-18T15:32:37.205033Z"
    },
    "papermill": {
     "duration": 0.050584,
     "end_time": "2022-03-18T15:32:37.205638",
     "exception": false,
     "start_time": "2022-03-18T15:32:37.155054",
     "status": "completed"
    },
    "tags": []
   },
   "outputs": [],
   "source": [
    "###################################\n",
    "# Build the network(s)\n",
    "# Note: It's critical to do this AFTER setting the RNG\n",
    "###################################\n",
    "x_net = build_sequential(p.x_net)"
   ]
  },
  {
   "cell_type": "code",
   "execution_count": 9,
   "id": "5d7e61cc",
   "metadata": {
    "execution": {
     "iopub.execute_input": "2022-03-18T15:32:37.239247Z",
     "iopub.status.busy": "2022-03-18T15:32:37.238988Z",
     "iopub.status.idle": "2022-03-18T15:32:37.254697Z",
     "shell.execute_reply": "2022-03-18T15:32:37.254285Z"
    },
    "papermill": {
     "duration": 0.030813,
     "end_time": "2022-03-18T15:32:37.254791",
     "exception": false,
     "start_time": "2022-03-18T15:32:37.223978",
     "status": "completed"
    },
    "tags": []
   },
   "outputs": [],
   "source": [
    "start_time_secs = time.time()"
   ]
  },
  {
   "cell_type": "code",
   "execution_count": 10,
   "id": "c6b67dfd",
   "metadata": {
    "execution": {
     "iopub.execute_input": "2022-03-18T15:32:37.288201Z",
     "iopub.status.busy": "2022-03-18T15:32:37.287955Z",
     "iopub.status.idle": "2022-03-18T15:32:37.300997Z",
     "shell.execute_reply": "2022-03-18T15:32:37.300603Z"
    },
    "papermill": {
     "duration": 0.028818,
     "end_time": "2022-03-18T15:32:37.301097",
     "exception": false,
     "start_time": "2022-03-18T15:32:37.272279",
     "status": "completed"
    },
    "tags": []
   },
   "outputs": [],
   "source": [
    "p.domains_source = []\n",
    "p.domains_target = []\n",
    "\n",
    "\n",
    "train_original_source = []\n",
    "val_original_source   = []\n",
    "test_original_source  = []\n",
    "\n",
    "train_original_target = []\n",
    "val_original_target   = []\n",
    "test_original_target  = []"
   ]
  },
  {
   "cell_type": "code",
   "execution_count": 11,
   "id": "e3d9c3d3",
   "metadata": {
    "execution": {
     "iopub.execute_input": "2022-03-18T15:32:37.335170Z",
     "iopub.status.busy": "2022-03-18T15:32:37.334588Z",
     "iopub.status.idle": "2022-03-18T15:32:37.349819Z",
     "shell.execute_reply": "2022-03-18T15:32:37.350184Z"
    },
    "papermill": {
     "duration": 0.030317,
     "end_time": "2022-03-18T15:32:37.350299",
     "exception": false,
     "start_time": "2022-03-18T15:32:37.319982",
     "status": "completed"
    },
    "tags": []
   },
   "outputs": [],
   "source": [
    "# global_x_transform_func = lambda x: normalize(x.to(torch.get_default_dtype()), \"unit_power\") # unit_power, unit_mag\n",
    "# global_x_transform_func = lambda x: normalize(x, \"unit_power\") # unit_power, unit_mag"
   ]
  },
  {
   "cell_type": "code",
   "execution_count": 12,
   "id": "acb78fd2",
   "metadata": {
    "execution": {
     "iopub.execute_input": "2022-03-18T15:32:37.384251Z",
     "iopub.status.busy": "2022-03-18T15:32:37.383999Z",
     "iopub.status.idle": "2022-03-18T15:32:37.395826Z",
     "shell.execute_reply": "2022-03-18T15:32:37.395412Z"
    },
    "papermill": {
     "duration": 0.029429,
     "end_time": "2022-03-18T15:32:37.395925",
     "exception": false,
     "start_time": "2022-03-18T15:32:37.366496",
     "status": "completed"
    },
    "tags": []
   },
   "outputs": [],
   "source": [
    "def add_dataset(\n",
    "    labels,\n",
    "    domains,\n",
    "    pickle_path,\n",
    "    x_transforms,\n",
    "    episode_transforms,\n",
    "    domain_prefix,\n",
    "    num_examples_per_domain_per_label,\n",
    "    source_or_target_dataset:str,\n",
    "    iterator_seed=p.seed,\n",
    "    dataset_seed=p.dataset_seed,\n",
    "    n_shot=p.n_shot,\n",
    "    n_way=p.n_way,\n",
    "    n_query=p.n_query,\n",
    "    train_val_test_k_factors=(p.train_k_factor,p.val_k_factor,p.test_k_factor),\n",
    "):\n",
    "   \n",
    "    if x_transforms == []: x_transform = None\n",
    "    else: x_transform = get_chained_transform(x_transforms)\n",
    "    \n",
    "    if episode_transforms == []: episode_transform = None\n",
    "    else: raise Exception(\"episode_transforms not implemented\")\n",
    "    \n",
    "    episode_transform = lambda tup, _prefix=domain_prefix: (_prefix + str(tup[0]), tup[1])\n",
    "\n",
    "\n",
    "    eaf = Episodic_Accessor_Factory(\n",
    "        labels=labels,\n",
    "        domains=domains,\n",
    "        num_examples_per_domain_per_label=num_examples_per_domain_per_label,\n",
    "        iterator_seed=iterator_seed,\n",
    "        dataset_seed=dataset_seed,\n",
    "        n_shot=n_shot,\n",
    "        n_way=n_way,\n",
    "        n_query=n_query,\n",
    "        train_val_test_k_factors=train_val_test_k_factors,\n",
    "        pickle_path=pickle_path,\n",
    "        x_transform_func=x_transform,\n",
    "    )\n",
    "\n",
    "    train, val, test = eaf.get_train(), eaf.get_val(), eaf.get_test()\n",
    "    train = Lazy_Iterable_Wrapper(train, episode_transform)\n",
    "    val = Lazy_Iterable_Wrapper(val, episode_transform)\n",
    "    test = Lazy_Iterable_Wrapper(test, episode_transform)\n",
    "\n",
    "    if source_or_target_dataset==\"source\":\n",
    "        train_original_source.append(train)\n",
    "        val_original_source.append(val)\n",
    "        test_original_source.append(test)\n",
    "\n",
    "        p.domains_source.extend(\n",
    "            [domain_prefix + str(u) for u in domains]\n",
    "        )\n",
    "    elif source_or_target_dataset==\"target\":\n",
    "        train_original_target.append(train)\n",
    "        val_original_target.append(val)\n",
    "        test_original_target.append(test)\n",
    "        p.domains_target.extend(\n",
    "            [domain_prefix + str(u) for u in domains]\n",
    "        )\n",
    "    else:\n",
    "        raise Exception(f\"invalid source_or_target_dataset: {source_or_target_dataset}\")\n",
    "    "
   ]
  },
  {
   "cell_type": "code",
   "execution_count": 13,
   "id": "fe266617",
   "metadata": {
    "execution": {
     "iopub.execute_input": "2022-03-18T15:32:37.429519Z",
     "iopub.status.busy": "2022-03-18T15:32:37.429274Z",
     "iopub.status.idle": "2022-03-18T15:33:15.267439Z",
     "shell.execute_reply": "2022-03-18T15:33:15.266994Z"
    },
    "papermill": {
     "duration": 37.85267,
     "end_time": "2022-03-18T15:33:15.267554",
     "exception": false,
     "start_time": "2022-03-18T15:32:37.414884",
     "status": "completed"
    },
    "tags": []
   },
   "outputs": [],
   "source": [
    "for ds in p.datasets:\n",
    "    add_dataset(**ds)"
   ]
  },
  {
   "cell_type": "code",
   "execution_count": 14,
   "id": "b90d65ac",
   "metadata": {
    "execution": {
     "iopub.execute_input": "2022-03-18T15:33:15.301204Z",
     "iopub.status.busy": "2022-03-18T15:33:15.300951Z",
     "iopub.status.idle": "2022-03-18T15:33:15.315058Z",
     "shell.execute_reply": "2022-03-18T15:33:15.314806Z"
    },
    "papermill": {
     "duration": 0.029618,
     "end_time": "2022-03-18T15:33:15.315112",
     "exception": false,
     "start_time": "2022-03-18T15:33:15.285494",
     "status": "completed"
    },
    "tags": []
   },
   "outputs": [],
   "source": [
    "# from steves_utils.CORES.utils import (\n",
    "#     ALL_NODES,\n",
    "#     ALL_NODES_MINIMUM_1000_EXAMPLES,\n",
    "#     ALL_DAYS\n",
    "# )\n",
    "\n",
    "# add_dataset(\n",
    "#     labels=ALL_NODES,\n",
    "#     domains = ALL_DAYS,\n",
    "#     num_examples_per_domain_per_label=100,\n",
    "#     pickle_path=os.path.join(get_datasets_base_path(), \"cores.stratified_ds.2022A.pkl\"),\n",
    "#     source_or_target_dataset=\"target\",\n",
    "#     x_transform_func=global_x_transform_func,\n",
    "#     domain_modifier=lambda u: f\"cores_{u}\"\n",
    "# )"
   ]
  },
  {
   "cell_type": "code",
   "execution_count": 15,
   "id": "76db484d",
   "metadata": {
    "execution": {
     "iopub.execute_input": "2022-03-18T15:33:15.347649Z",
     "iopub.status.busy": "2022-03-18T15:33:15.347399Z",
     "iopub.status.idle": "2022-03-18T15:33:15.358195Z",
     "shell.execute_reply": "2022-03-18T15:33:15.357785Z"
    },
    "papermill": {
     "duration": 0.025869,
     "end_time": "2022-03-18T15:33:15.358296",
     "exception": false,
     "start_time": "2022-03-18T15:33:15.332427",
     "status": "completed"
    },
    "tags": []
   },
   "outputs": [],
   "source": [
    "# from steves_utils.ORACLE.utils_v2 import (\n",
    "#     ALL_DISTANCES_FEET,\n",
    "#     ALL_RUNS,\n",
    "#     ALL_SERIAL_NUMBERS,\n",
    "# )\n",
    "\n",
    "\n",
    "# add_dataset(\n",
    "#     labels=ALL_SERIAL_NUMBERS,\n",
    "#     domains = list(set(ALL_DISTANCES_FEET) - {2,62}),\n",
    "#     num_examples_per_domain_per_label=100,\n",
    "#     pickle_path=os.path.join(get_datasets_base_path(), \"oracle.Run2_framed_2000Examples_stratified_ds.2022A.pkl\"),\n",
    "#     source_or_target_dataset=\"source\",\n",
    "#     x_transform_func=global_x_transform_func,\n",
    "#     domain_modifier=lambda u: f\"oracle1_{u}\"\n",
    "# )\n"
   ]
  },
  {
   "cell_type": "code",
   "execution_count": 16,
   "id": "97dea9d2",
   "metadata": {
    "execution": {
     "iopub.execute_input": "2022-03-18T15:33:15.389967Z",
     "iopub.status.busy": "2022-03-18T15:33:15.389702Z",
     "iopub.status.idle": "2022-03-18T15:33:15.405027Z",
     "shell.execute_reply": "2022-03-18T15:33:15.404617Z"
    },
    "papermill": {
     "duration": 0.030756,
     "end_time": "2022-03-18T15:33:15.405137",
     "exception": false,
     "start_time": "2022-03-18T15:33:15.374381",
     "status": "completed"
    },
    "tags": []
   },
   "outputs": [],
   "source": [
    "# from steves_utils.ORACLE.utils_v2 import (\n",
    "#     ALL_DISTANCES_FEET,\n",
    "#     ALL_RUNS,\n",
    "#     ALL_SERIAL_NUMBERS,\n",
    "# )\n",
    "\n",
    "\n",
    "# add_dataset(\n",
    "#     labels=ALL_SERIAL_NUMBERS,\n",
    "#     domains = list(set(ALL_DISTANCES_FEET) - {2,62,56}),\n",
    "#     num_examples_per_domain_per_label=100,\n",
    "#     pickle_path=os.path.join(get_datasets_base_path(), \"oracle.Run2_framed_2000Examples_stratified_ds.2022A.pkl\"),\n",
    "#     source_or_target_dataset=\"source\",\n",
    "#     x_transform_func=global_x_transform_func,\n",
    "#     domain_modifier=lambda u: f\"oracle2_{u}\"\n",
    "# )"
   ]
  },
  {
   "cell_type": "code",
   "execution_count": 17,
   "id": "6f289866",
   "metadata": {
    "execution": {
     "iopub.execute_input": "2022-03-18T15:33:15.439418Z",
     "iopub.status.busy": "2022-03-18T15:33:15.438908Z",
     "iopub.status.idle": "2022-03-18T15:33:15.453701Z",
     "shell.execute_reply": "2022-03-18T15:33:15.454114Z"
    },
    "papermill": {
     "duration": 0.030043,
     "end_time": "2022-03-18T15:33:15.454245",
     "exception": false,
     "start_time": "2022-03-18T15:33:15.424202",
     "status": "completed"
    },
    "tags": []
   },
   "outputs": [],
   "source": [
    "# add_dataset(\n",
    "#     labels=list(range(19)),\n",
    "#     domains = [0,1,2],\n",
    "#     num_examples_per_domain_per_label=100,\n",
    "#     pickle_path=os.path.join(get_datasets_base_path(), \"metehan.stratified_ds.2022A.pkl\"),\n",
    "#     source_or_target_dataset=\"target\",\n",
    "#     x_transform_func=global_x_transform_func,\n",
    "#     domain_modifier=lambda u: f\"met_{u}\"\n",
    "# )"
   ]
  },
  {
   "cell_type": "code",
   "execution_count": 18,
   "id": "86a863c3",
   "metadata": {
    "execution": {
     "iopub.execute_input": "2022-03-18T15:33:15.488449Z",
     "iopub.status.busy": "2022-03-18T15:33:15.488180Z",
     "iopub.status.idle": "2022-03-18T15:33:15.502647Z",
     "shell.execute_reply": "2022-03-18T15:33:15.503037Z"
    },
    "papermill": {
     "duration": 0.03027,
     "end_time": "2022-03-18T15:33:15.503163",
     "exception": false,
     "start_time": "2022-03-18T15:33:15.472893",
     "status": "completed"
    },
    "tags": []
   },
   "outputs": [],
   "source": [
    "# # from steves_utils.wisig.utils import (\n",
    "# #     ALL_NODES_MINIMUM_100_EXAMPLES,\n",
    "# #     ALL_NODES_MINIMUM_500_EXAMPLES,\n",
    "# #     ALL_NODES_MINIMUM_1000_EXAMPLES,\n",
    "# #     ALL_DAYS\n",
    "# # )\n",
    "\n",
    "# import steves_utils.wisig.utils as wisig\n",
    "\n",
    "\n",
    "# add_dataset(\n",
    "#     labels=wisig.ALL_NODES_MINIMUM_100_EXAMPLES,\n",
    "#     domains = wisig.ALL_DAYS,\n",
    "#     num_examples_per_domain_per_label=100,\n",
    "#     pickle_path=os.path.join(get_datasets_base_path(), \"wisig.node3-19.stratified_ds.2022A.pkl\"),\n",
    "#     source_or_target_dataset=\"target\",\n",
    "#     x_transform_func=global_x_transform_func,\n",
    "#     domain_modifier=lambda u: f\"wisig_{u}\"\n",
    "# )"
   ]
  },
  {
   "cell_type": "code",
   "execution_count": 19,
   "id": "fd5442bc",
   "metadata": {
    "execution": {
     "iopub.execute_input": "2022-03-18T15:33:15.538513Z",
     "iopub.status.busy": "2022-03-18T15:33:15.538247Z",
     "iopub.status.idle": "2022-03-18T15:33:15.549976Z",
     "shell.execute_reply": "2022-03-18T15:33:15.550350Z"
    },
    "papermill": {
     "duration": 0.029601,
     "end_time": "2022-03-18T15:33:15.550481",
     "exception": false,
     "start_time": "2022-03-18T15:33:15.520880",
     "status": "completed"
    },
    "tags": []
   },
   "outputs": [],
   "source": [
    "###################################\n",
    "# Build the dataset\n",
    "###################################\n",
    "train_original_source = Iterable_Aggregator(train_original_source, p.seed)\n",
    "val_original_source = Iterable_Aggregator(val_original_source, p.seed)\n",
    "test_original_source = Iterable_Aggregator(test_original_source, p.seed)\n",
    "\n",
    "\n",
    "train_original_target = Iterable_Aggregator(train_original_target, p.seed)\n",
    "val_original_target = Iterable_Aggregator(val_original_target, p.seed)\n",
    "test_original_target = Iterable_Aggregator(test_original_target, p.seed)\n",
    "\n",
    "# For CNN We only use X and Y. And we only train on the source.\n",
    "# Properly form the data using a transform lambda and Lazy_Iterable_Wrapper. Finally wrap them in a dataloader\n",
    "\n",
    "transform_lambda = lambda ex: ex[1] # Original is (<domain>, <episode>) so we strip down to episode only\n",
    "\n",
    "train_processed_source = Lazy_Iterable_Wrapper(train_original_source, transform_lambda)\n",
    "val_processed_source   = Lazy_Iterable_Wrapper(val_original_source, transform_lambda)\n",
    "test_processed_source  = Lazy_Iterable_Wrapper(test_original_source, transform_lambda)\n",
    "\n",
    "train_processed_target = Lazy_Iterable_Wrapper(train_original_target, transform_lambda)\n",
    "val_processed_target   = Lazy_Iterable_Wrapper(val_original_target, transform_lambda)\n",
    "test_processed_target  = Lazy_Iterable_Wrapper(test_original_target, transform_lambda)\n",
    "\n",
    "datasets = EasyDict({\n",
    "    \"source\": {\n",
    "        \"original\": {\"train\":train_original_source, \"val\":val_original_source, \"test\":test_original_source},\n",
    "        \"processed\": {\"train\":train_processed_source, \"val\":val_processed_source, \"test\":test_processed_source}\n",
    "    },\n",
    "    \"target\": {\n",
    "        \"original\": {\"train\":train_original_target, \"val\":val_original_target, \"test\":test_original_target},\n",
    "        \"processed\": {\"train\":train_processed_target, \"val\":val_processed_target, \"test\":test_processed_target}\n",
    "    },\n",
    "})"
   ]
  },
  {
   "cell_type": "code",
   "execution_count": 20,
   "id": "5b3c01fc",
   "metadata": {
    "execution": {
     "iopub.execute_input": "2022-03-18T15:33:15.585282Z",
     "iopub.status.busy": "2022-03-18T15:33:15.585021Z",
     "iopub.status.idle": "2022-03-18T15:33:20.427571Z",
     "shell.execute_reply": "2022-03-18T15:33:20.427807Z"
    },
    "papermill": {
     "duration": 4.858709,
     "end_time": "2022-03-18T15:33:20.427889",
     "exception": false,
     "start_time": "2022-03-18T15:33:15.569180",
     "status": "completed"
    },
    "tags": []
   },
   "outputs": [
    {
     "name": "stdout",
     "output_type": "stream",
     "text": [
      "{'ORACLE.run1_20', 'ORACLE.run1_14', 'ORACLE.run1_32', 'ORACLE.run1_44', 'ORACLE.run1_8', 'ORACLE.run1_50', 'ORACLE.run1_38', 'ORACLE.run1_26'}\n"
     ]
    },
    {
     "name": "stdout",
     "output_type": "stream",
     "text": [
      "{'C_A_5', 'C_A_1', 'C_A_2', 'W_A_2', 'C_A_3', 'C_A_4', 'W_A_4', 'W_A_3', 'W_A_1'}\n"
     ]
    },
    {
     "name": "stdout",
     "output_type": "stream",
     "text": [
      "tensor([[[-0.0923,  1.0752,  0.6110,  ...,  0.6559,  0.5223,  0.7143],\n",
      "         [-0.6368, -0.5725,  0.6937,  ..., -0.1130,  1.1143,  0.1163]],\n",
      "\n",
      "        [[-0.4471,  0.4547,  0.8059,  ...,  1.1441,  0.5111,  0.0187],\n",
      "         [-1.1271, -0.7907,  0.8745,  ..., -0.4535, -0.6299, -1.3768]],\n",
      "\n",
      "        [[ 0.6516, -0.0535, -0.8938,  ..., -0.8408, -0.9332, -0.1014],\n",
      "         [ 0.8284,  1.0704, -0.5317,  ...,  0.4742,  0.2587,  1.1794]],\n",
      "\n",
      "        ...,\n",
      "\n",
      "        [[ 0.9795,  0.2346, -1.1961,  ..., -0.6991, -0.1533,  0.9162],\n",
      "         [ 0.5525,  0.9115, -0.0492,  ...,  0.9787,  0.7343,  0.9973]],\n",
      "\n",
      "        [[ 0.0252, -1.0168, -0.2853,  ..., -0.8572, -0.8433, -0.9555],\n",
      "         [ 0.7878,  0.7791, -0.7462,  ..., -0.1243, -0.6905,  0.6571]],\n",
      "\n",
      "        [[ 0.4825,  0.4645, -0.3477,  ...,  0.4871, -1.1842, -0.6537],\n",
      "         [-0.4126,  0.9377,  0.7358,  ...,  0.6690,  0.2844,  0.4617]]])\n"
     ]
    }
   ],
   "source": [
    "from steves_utils.transforms import get_average_magnitude, get_average_power\n",
    "\n",
    "print(set([u for u,_ in val_original_source]))\n",
    "print(set([u for u,_ in val_original_target]))\n",
    "\n",
    "s_x, s_y, q_x, q_y, _ = next(iter(train_processed_source))\n",
    "print(s_x)\n",
    "\n",
    "# for ds in [\n",
    "#     train_processed_source,\n",
    "#     val_processed_source,\n",
    "#     test_processed_source,\n",
    "#     train_processed_target,\n",
    "#     val_processed_target,\n",
    "#     test_processed_target\n",
    "# ]:\n",
    "#     for s_x, s_y, q_x, q_y, _ in ds:\n",
    "#         for X in (s_x, q_x):\n",
    "#             for x in X:\n",
    "#                 assert np.isclose(get_average_magnitude(x.numpy()), 1.0)\n",
    "#                 assert np.isclose(get_average_power(x.numpy()), 1.0)\n",
    "                "
   ]
  },
  {
   "cell_type": "code",
   "execution_count": 21,
   "id": "bbdacba1",
   "metadata": {
    "execution": {
     "iopub.execute_input": "2022-03-18T15:33:20.468601Z",
     "iopub.status.busy": "2022-03-18T15:33:20.468209Z",
     "iopub.status.idle": "2022-03-18T15:33:20.516929Z",
     "shell.execute_reply": "2022-03-18T15:33:20.517155Z"
    },
    "papermill": {
     "duration": 0.0697,
     "end_time": "2022-03-18T15:33:20.517240",
     "exception": false,
     "start_time": "2022-03-18T15:33:20.447540",
     "status": "completed"
    },
    "tags": []
   },
   "outputs": [
    {
     "name": "stdout",
     "output_type": "stream",
     "text": [
      "(2, 200)\n"
     ]
    }
   ],
   "source": [
    "###################################\n",
    "# Build the model\n",
    "###################################\n",
    "# easfsl only wants a tuple for the shape\n",
    "model = Steves_Prototypical_Network(x_net, device=p.device, x_shape=tuple(p.x_shape))\n",
    "optimizer = Adam(params=model.parameters(), lr=p.lr)"
   ]
  },
  {
   "cell_type": "code",
   "execution_count": 22,
   "id": "22b39ac5",
   "metadata": {
    "execution": {
     "iopub.execute_input": "2022-03-18T15:33:20.549412Z",
     "iopub.status.busy": "2022-03-18T15:33:20.549014Z",
     "iopub.status.idle": "2022-03-18T15:49:12.748708Z",
     "shell.execute_reply": "2022-03-18T15:49:12.748483Z"
    },
    "papermill": {
     "duration": 952.216575,
     "end_time": "2022-03-18T15:49:12.748765",
     "exception": false,
     "start_time": "2022-03-18T15:33:20.532190",
     "status": "completed"
    },
    "tags": []
   },
   "outputs": [
    {
     "name": "stdout",
     "output_type": "stream",
     "text": [
      "epoch: 1, [batch: 1 / 6720], examples_per_second: 50.0597, train_label_loss: 3.1619, \n"
     ]
    },
    {
     "name": "stdout",
     "output_type": "stream",
     "text": [
      "epoch: 1, [batch: 672 / 6720], examples_per_second: 3658.2982, train_label_loss: 1.1130, \n"
     ]
    },
    {
     "name": "stdout",
     "output_type": "stream",
     "text": [
      "epoch: 1, [batch: 1344 / 6720], examples_per_second: 3699.0303, train_label_loss: 0.8327, \n"
     ]
    },
    {
     "name": "stdout",
     "output_type": "stream",
     "text": [
      "epoch: 1, [batch: 2016 / 6720], examples_per_second: 3699.2246, train_label_loss: 0.8653, \n"
     ]
    },
    {
     "name": "stdout",
     "output_type": "stream",
     "text": [
      "epoch: 1, [batch: 2688 / 6720], examples_per_second: 3665.2631, train_label_loss: 0.9650, \n"
     ]
    },
    {
     "name": "stdout",
     "output_type": "stream",
     "text": [
      "epoch: 1, [batch: 3360 / 6720], examples_per_second: 3673.0381, train_label_loss: 1.0756, \n"
     ]
    },
    {
     "name": "stdout",
     "output_type": "stream",
     "text": [
      "epoch: 1, [batch: 4032 / 6720], examples_per_second: 3674.7911, train_label_loss: 1.0284, \n"
     ]
    },
    {
     "name": "stdout",
     "output_type": "stream",
     "text": [
      "epoch: 1, [batch: 4704 / 6720], examples_per_second: 3660.7063, train_label_loss: 0.6256, \n"
     ]
    },
    {
     "name": "stdout",
     "output_type": "stream",
     "text": [
      "epoch: 1, [batch: 5376 / 6720], examples_per_second: 3655.9078, train_label_loss: 0.9311, \n"
     ]
    },
    {
     "name": "stdout",
     "output_type": "stream",
     "text": [
      "epoch: 1, [batch: 6048 / 6720], examples_per_second: 3646.4272, train_label_loss: 0.7996, \n"
     ]
    },
    {
     "name": "stdout",
     "output_type": "stream",
     "text": [
      "=============================================================\n",
      "epoch: 1, source_val_acc_label: 0.5951, target_val_acc_label: 0.4833, source_val_label_loss: 67.0414, target_val_label_loss: 4162.2329, \n",
      "=============================================================\n"
     ]
    },
    {
     "name": "stdout",
     "output_type": "stream",
     "text": [
      "New best\n"
     ]
    },
    {
     "name": "stdout",
     "output_type": "stream",
     "text": [
      "epoch: 2, [batch: 1 / 6720], examples_per_second: 6.0551, train_label_loss: 151.6351, \n"
     ]
    },
    {
     "name": "stdout",
     "output_type": "stream",
     "text": [
      "epoch: 2, [batch: 672 / 6720], examples_per_second: 3633.9523, train_label_loss: 0.7517, \n"
     ]
    },
    {
     "name": "stdout",
     "output_type": "stream",
     "text": [
      "epoch: 2, [batch: 1344 / 6720], examples_per_second: 3655.2065, train_label_loss: 0.6874, \n"
     ]
    },
    {
     "name": "stdout",
     "output_type": "stream",
     "text": [
      "epoch: 2, [batch: 2016 / 6720], examples_per_second: 3661.3068, train_label_loss: 1.3441, \n"
     ]
    },
    {
     "name": "stdout",
     "output_type": "stream",
     "text": [
      "epoch: 2, [batch: 2688 / 6720], examples_per_second: 3672.5461, train_label_loss: 1.0247, \n"
     ]
    },
    {
     "name": "stdout",
     "output_type": "stream",
     "text": [
      "epoch: 2, [batch: 3360 / 6720], examples_per_second: 3668.5035, train_label_loss: 0.9534, \n"
     ]
    },
    {
     "name": "stdout",
     "output_type": "stream",
     "text": [
      "epoch: 2, [batch: 4032 / 6720], examples_per_second: 3661.1627, train_label_loss: 1.1192, \n"
     ]
    },
    {
     "name": "stdout",
     "output_type": "stream",
     "text": [
      "epoch: 2, [batch: 4704 / 6720], examples_per_second: 3651.2476, train_label_loss: 0.9522, \n"
     ]
    },
    {
     "name": "stdout",
     "output_type": "stream",
     "text": [
      "epoch: 2, [batch: 5376 / 6720], examples_per_second: 3655.2591, train_label_loss: 1.1427, \n"
     ]
    },
    {
     "name": "stdout",
     "output_type": "stream",
     "text": [
      "epoch: 2, [batch: 6048 / 6720], examples_per_second: 3661.2855, train_label_loss: 0.6530, \n"
     ]
    },
    {
     "name": "stdout",
     "output_type": "stream",
     "text": [
      "=============================================================\n",
      "epoch: 2, source_val_acc_label: 0.7040, target_val_acc_label: 0.5760, source_val_label_loss: 0.8329, target_val_label_loss: 1003.2811, \n",
      "=============================================================\n"
     ]
    },
    {
     "name": "stdout",
     "output_type": "stream",
     "text": [
      "New best\n"
     ]
    },
    {
     "name": "stdout",
     "output_type": "stream",
     "text": [
      "epoch: 3, [batch: 1 / 6720], examples_per_second: 6.0438, train_label_loss: 1.0519, \n"
     ]
    },
    {
     "name": "stdout",
     "output_type": "stream",
     "text": [
      "epoch: 3, [batch: 672 / 6720], examples_per_second: 3602.7516, train_label_loss: 0.4486, \n"
     ]
    },
    {
     "name": "stdout",
     "output_type": "stream",
     "text": [
      "epoch: 3, [batch: 1344 / 6720], examples_per_second: 3652.0609, train_label_loss: 0.6556, \n"
     ]
    },
    {
     "name": "stdout",
     "output_type": "stream",
     "text": [
      "epoch: 3, [batch: 2016 / 6720], examples_per_second: 3665.8732, train_label_loss: 0.4657, \n"
     ]
    },
    {
     "name": "stdout",
     "output_type": "stream",
     "text": [
      "epoch: 3, [batch: 2688 / 6720], examples_per_second: 3678.0220, train_label_loss: 0.7355, \n"
     ]
    },
    {
     "name": "stdout",
     "output_type": "stream",
     "text": [
      "epoch: 3, [batch: 3360 / 6720], examples_per_second: 3645.8849, train_label_loss: 1.2464, \n"
     ]
    },
    {
     "name": "stdout",
     "output_type": "stream",
     "text": [
      "epoch: 3, [batch: 4032 / 6720], examples_per_second: 3663.6218, train_label_loss: 1.1065, \n"
     ]
    },
    {
     "name": "stdout",
     "output_type": "stream",
     "text": [
      "epoch: 3, [batch: 4704 / 6720], examples_per_second: 3652.7848, train_label_loss: 0.4698, \n"
     ]
    },
    {
     "name": "stdout",
     "output_type": "stream",
     "text": [
      "epoch: 3, [batch: 5376 / 6720], examples_per_second: 3658.7110, train_label_loss: 0.6199, \n"
     ]
    },
    {
     "name": "stdout",
     "output_type": "stream",
     "text": [
      "epoch: 3, [batch: 6048 / 6720], examples_per_second: 3657.8136, train_label_loss: 0.4643, \n"
     ]
    },
    {
     "name": "stdout",
     "output_type": "stream",
     "text": [
      "=============================================================\n",
      "epoch: 3, source_val_acc_label: 0.7014, target_val_acc_label: 0.5417, source_val_label_loss: 0.8207, target_val_label_loss: 1270.4968, \n",
      "=============================================================\n"
     ]
    },
    {
     "name": "stdout",
     "output_type": "stream",
     "text": [
      "epoch: 4, [batch: 1 / 6720], examples_per_second: 6.0792, train_label_loss: 0.4823, \n"
     ]
    },
    {
     "name": "stdout",
     "output_type": "stream",
     "text": [
      "epoch: 4, [batch: 672 / 6720], examples_per_second: 3596.6182, train_label_loss: 0.4075, \n"
     ]
    },
    {
     "name": "stdout",
     "output_type": "stream",
     "text": [
      "epoch: 4, [batch: 1344 / 6720], examples_per_second: 3637.2338, train_label_loss: 1.0564, \n"
     ]
    },
    {
     "name": "stdout",
     "output_type": "stream",
     "text": [
      "epoch: 4, [batch: 2016 / 6720], examples_per_second: 3641.3860, train_label_loss: 1.0639, \n"
     ]
    },
    {
     "name": "stdout",
     "output_type": "stream",
     "text": [
      "epoch: 4, [batch: 2688 / 6720], examples_per_second: 3668.3032, train_label_loss: 0.5802, \n"
     ]
    },
    {
     "name": "stdout",
     "output_type": "stream",
     "text": [
      "epoch: 4, [batch: 3360 / 6720], examples_per_second: 3667.8714, train_label_loss: 0.3970, \n"
     ]
    },
    {
     "name": "stdout",
     "output_type": "stream",
     "text": [
      "epoch: 4, [batch: 4032 / 6720], examples_per_second: 3663.9054, train_label_loss: 0.9780, \n"
     ]
    },
    {
     "name": "stdout",
     "output_type": "stream",
     "text": [
      "epoch: 4, [batch: 4704 / 6720], examples_per_second: 3639.8610, train_label_loss: 0.5590, \n"
     ]
    },
    {
     "name": "stdout",
     "output_type": "stream",
     "text": [
      "epoch: 4, [batch: 5376 / 6720], examples_per_second: 3657.9527, train_label_loss: 0.8821, \n"
     ]
    },
    {
     "name": "stdout",
     "output_type": "stream",
     "text": [
      "epoch: 4, [batch: 6048 / 6720], examples_per_second: 3658.9519, train_label_loss: 0.5680, \n"
     ]
    },
    {
     "name": "stdout",
     "output_type": "stream",
     "text": [
      "=============================================================\n",
      "epoch: 4, source_val_acc_label: 0.7748, target_val_acc_label: 0.5507, source_val_label_loss: 0.6337, target_val_label_loss: 1348.9607, \n",
      "=============================================================\n"
     ]
    },
    {
     "name": "stdout",
     "output_type": "stream",
     "text": [
      "epoch: 5, [batch: 1 / 6720], examples_per_second: 6.0423, train_label_loss: 0.2150, \n"
     ]
    },
    {
     "name": "stdout",
     "output_type": "stream",
     "text": [
      "epoch: 5, [batch: 672 / 6720], examples_per_second: 3609.6258, train_label_loss: 0.5016, \n"
     ]
    },
    {
     "name": "stdout",
     "output_type": "stream",
     "text": [
      "epoch: 5, [batch: 1344 / 6720], examples_per_second: 3659.0007, train_label_loss: 0.7583, \n"
     ]
    },
    {
     "name": "stdout",
     "output_type": "stream",
     "text": [
      "epoch: 5, [batch: 2016 / 6720], examples_per_second: 3671.8162, train_label_loss: 0.9769, \n"
     ]
    },
    {
     "name": "stdout",
     "output_type": "stream",
     "text": [
      "epoch: 5, [batch: 2688 / 6720], examples_per_second: 3666.9665, train_label_loss: 0.7009, \n"
     ]
    },
    {
     "name": "stdout",
     "output_type": "stream",
     "text": [
      "epoch: 5, [batch: 3360 / 6720], examples_per_second: 3682.4617, train_label_loss: 0.2937, \n"
     ]
    },
    {
     "name": "stdout",
     "output_type": "stream",
     "text": [
      "epoch: 5, [batch: 4032 / 6720], examples_per_second: 3677.9614, train_label_loss: 0.3990, \n"
     ]
    },
    {
     "name": "stdout",
     "output_type": "stream",
     "text": [
      "epoch: 5, [batch: 4704 / 6720], examples_per_second: 3651.0993, train_label_loss: 0.4017, \n"
     ]
    },
    {
     "name": "stdout",
     "output_type": "stream",
     "text": [
      "epoch: 5, [batch: 5376 / 6720], examples_per_second: 3670.4255, train_label_loss: 0.7733, \n"
     ]
    },
    {
     "name": "stdout",
     "output_type": "stream",
     "text": [
      "epoch: 5, [batch: 6048 / 6720], examples_per_second: 3680.5282, train_label_loss: 0.6812, \n"
     ]
    },
    {
     "name": "stdout",
     "output_type": "stream",
     "text": [
      "=============================================================\n",
      "epoch: 5, source_val_acc_label: 0.7981, target_val_acc_label: 0.5332, source_val_label_loss: 0.5530, target_val_label_loss: 1137.8094, \n",
      "=============================================================\n"
     ]
    },
    {
     "name": "stdout",
     "output_type": "stream",
     "text": [
      "epoch: 6, [batch: 1 / 6720], examples_per_second: 6.0527, train_label_loss: 0.4076, \n"
     ]
    },
    {
     "name": "stdout",
     "output_type": "stream",
     "text": [
      "epoch: 6, [batch: 672 / 6720], examples_per_second: 3643.7961, train_label_loss: 0.7573, \n"
     ]
    },
    {
     "name": "stdout",
     "output_type": "stream",
     "text": [
      "epoch: 6, [batch: 1344 / 6720], examples_per_second: 3660.2974, train_label_loss: 0.7372, \n"
     ]
    },
    {
     "name": "stdout",
     "output_type": "stream",
     "text": [
      "epoch: 6, [batch: 2016 / 6720], examples_per_second: 3643.0497, train_label_loss: 0.3788, \n"
     ]
    },
    {
     "name": "stdout",
     "output_type": "stream",
     "text": [
      "epoch: 6, [batch: 2688 / 6720], examples_per_second: 3628.6095, train_label_loss: 0.2242, \n"
     ]
    },
    {
     "name": "stdout",
     "output_type": "stream",
     "text": [
      "epoch: 6, [batch: 3360 / 6720], examples_per_second: 3649.9310, train_label_loss: 0.1996, \n"
     ]
    },
    {
     "name": "stdout",
     "output_type": "stream",
     "text": [
      "epoch: 6, [batch: 4032 / 6720], examples_per_second: 3661.5635, train_label_loss: 0.6168, \n"
     ]
    },
    {
     "name": "stdout",
     "output_type": "stream",
     "text": [
      "epoch: 6, [batch: 4704 / 6720], examples_per_second: 3658.5675, train_label_loss: 0.6479, \n"
     ]
    },
    {
     "name": "stdout",
     "output_type": "stream",
     "text": [
      "epoch: 6, [batch: 5376 / 6720], examples_per_second: 3692.1486, train_label_loss: 0.3637, \n"
     ]
    },
    {
     "name": "stdout",
     "output_type": "stream",
     "text": [
      "epoch: 6, [batch: 6048 / 6720], examples_per_second: 3643.4674, train_label_loss: 0.2619, \n"
     ]
    },
    {
     "name": "stdout",
     "output_type": "stream",
     "text": [
      "=============================================================\n",
      "epoch: 6, source_val_acc_label: 0.8217, target_val_acc_label: 0.5007, source_val_label_loss: 0.5023, target_val_label_loss: 1505.7782, \n",
      "=============================================================\n"
     ]
    },
    {
     "name": "stdout",
     "output_type": "stream",
     "text": [
      "Patience (3) exhausted\n"
     ]
    }
   ],
   "source": [
    "###################################\n",
    "# train\n",
    "###################################\n",
    "jig = PTN_Train_Eval_Test_Jig(model, p.BEST_MODEL_PATH, p.device)\n",
    "\n",
    "jig.train(\n",
    "    train_iterable=datasets.source.processed.train,\n",
    "    source_val_iterable=datasets.source.processed.val,\n",
    "    target_val_iterable=datasets.target.processed.val,\n",
    "    num_epochs=p.n_epoch,\n",
    "    num_logs_per_epoch=p.NUM_LOGS_PER_EPOCH,\n",
    "    patience=p.patience,\n",
    "    optimizer=optimizer,\n",
    "    criteria_for_best=p.criteria_for_best,\n",
    ")"
   ]
  },
  {
   "cell_type": "code",
   "execution_count": 23,
   "id": "31e8fabf",
   "metadata": {
    "execution": {
     "iopub.execute_input": "2022-03-18T15:49:12.803766Z",
     "iopub.status.busy": "2022-03-18T15:49:12.803519Z",
     "iopub.status.idle": "2022-03-18T15:49:12.819582Z",
     "shell.execute_reply": "2022-03-18T15:49:12.819185Z"
    },
    "papermill": {
     "duration": 0.044512,
     "end_time": "2022-03-18T15:49:12.819672",
     "exception": false,
     "start_time": "2022-03-18T15:49:12.775160",
     "status": "completed"
    },
    "tags": []
   },
   "outputs": [],
   "source": [
    "total_experiment_time_secs = time.time() - start_time_secs"
   ]
  },
  {
   "cell_type": "code",
   "execution_count": 24,
   "id": "87b9595b",
   "metadata": {
    "execution": {
     "iopub.execute_input": "2022-03-18T15:49:12.879944Z",
     "iopub.status.busy": "2022-03-18T15:49:12.879681Z",
     "iopub.status.idle": "2022-03-18T15:50:15.818647Z",
     "shell.execute_reply": "2022-03-18T15:50:15.819088Z"
    },
    "papermill": {
     "duration": 62.971267,
     "end_time": "2022-03-18T15:50:15.819224",
     "exception": false,
     "start_time": "2022-03-18T15:49:12.847957",
     "status": "completed"
    },
    "tags": []
   },
   "outputs": [],
   "source": [
    "###################################\n",
    "# Evaluate the model\n",
    "###################################\n",
    "source_test_label_accuracy, source_test_label_loss = jig.test(datasets.source.processed.test)\n",
    "target_test_label_accuracy, target_test_label_loss = jig.test(datasets.target.processed.test)\n",
    "\n",
    "source_val_label_accuracy, source_val_label_loss = jig.test(datasets.source.processed.val)\n",
    "target_val_label_accuracy, target_val_label_loss = jig.test(datasets.target.processed.val)\n",
    "\n",
    "history = jig.get_history()\n",
    "\n",
    "total_epochs_trained = len(history[\"epoch_indices\"])\n",
    "\n",
    "val_dl = Iterable_Aggregator((datasets.source.original.val,datasets.target.original.val))\n",
    "\n",
    "confusion = ptn_confusion_by_domain_over_dataloader(model, p.device, val_dl)\n",
    "per_domain_accuracy = per_domain_accuracy_from_confusion(confusion)\n",
    "\n",
    "# Add a key to per_domain_accuracy for if it was a source domain\n",
    "for domain, accuracy in per_domain_accuracy.items():\n",
    "    per_domain_accuracy[domain] = {\n",
    "        \"accuracy\": accuracy,\n",
    "        \"source?\": domain in p.domains_source\n",
    "    }\n",
    "\n",
    "# Do an independent accuracy assesment JUST TO BE SURE!\n",
    "# _source_test_label_accuracy = independent_accuracy_assesment(model, datasets.source.processed.test, p.device)\n",
    "# _target_test_label_accuracy = independent_accuracy_assesment(model, datasets.target.processed.test, p.device)\n",
    "# _source_val_label_accuracy = independent_accuracy_assesment(model, datasets.source.processed.val, p.device)\n",
    "# _target_val_label_accuracy = independent_accuracy_assesment(model, datasets.target.processed.val, p.device)\n",
    "\n",
    "# assert(_source_test_label_accuracy == source_test_label_accuracy)\n",
    "# assert(_target_test_label_accuracy == target_test_label_accuracy)\n",
    "# assert(_source_val_label_accuracy == source_val_label_accuracy)\n",
    "# assert(_target_val_label_accuracy == target_val_label_accuracy)\n",
    "\n",
    "experiment = {\n",
    "    \"experiment_name\": p.experiment_name,\n",
    "    \"parameters\": dict(p),\n",
    "    \"results\": {\n",
    "        \"source_test_label_accuracy\": source_test_label_accuracy,\n",
    "        \"source_test_label_loss\": source_test_label_loss,\n",
    "        \"target_test_label_accuracy\": target_test_label_accuracy,\n",
    "        \"target_test_label_loss\": target_test_label_loss,\n",
    "        \"source_val_label_accuracy\": source_val_label_accuracy,\n",
    "        \"source_val_label_loss\": source_val_label_loss,\n",
    "        \"target_val_label_accuracy\": target_val_label_accuracy,\n",
    "        \"target_val_label_loss\": target_val_label_loss,\n",
    "        \"total_epochs_trained\": total_epochs_trained,\n",
    "        \"total_experiment_time_secs\": total_experiment_time_secs,\n",
    "        \"confusion\": confusion,\n",
    "        \"per_domain_accuracy\": per_domain_accuracy,\n",
    "    },\n",
    "    \"history\": history,\n",
    "    \"dataset_metrics\": get_dataset_metrics(datasets, \"ptn\"),\n",
    "}"
   ]
  },
  {
   "cell_type": "code",
   "execution_count": 25,
   "id": "54a21829",
   "metadata": {
    "execution": {
     "iopub.execute_input": "2022-03-18T15:50:15.880892Z",
     "iopub.status.busy": "2022-03-18T15:50:15.880490Z",
     "iopub.status.idle": "2022-03-18T15:50:15.999585Z",
     "shell.execute_reply": "2022-03-18T15:50:16.000008Z"
    },
    "papermill": {
     "duration": 0.14874,
     "end_time": "2022-03-18T15:50:16.000138",
     "exception": false,
     "start_time": "2022-03-18T15:50:15.851398",
     "status": "completed"
    },
    "tags": []
   },
   "outputs": [
    {
     "data": {
      "image/png": "[encoded data removed]",
      "text/plain": [
       "<Figure size 1080x504 with 1 Axes>"
      ]
     },
     "metadata": {
      "needs_background": "light"
     },
     "output_type": "display_data"
    }
   ],
   "source": [
    "ax = get_loss_curve(experiment)\n",
    "plt.show()"
   ]
  },
  {
   "cell_type": "code",
   "execution_count": 26,
   "id": "fd8a0f60",
   "metadata": {
    "execution": {
     "iopub.execute_input": "2022-03-18T15:50:16.061741Z",
     "iopub.status.busy": "2022-03-18T15:50:16.061486Z",
     "iopub.status.idle": "2022-03-18T15:50:16.203370Z",
     "shell.execute_reply": "2022-03-18T15:50:16.203599Z"
    },
    "papermill": {
     "duration": 0.171554,
     "end_time": "2022-03-18T15:50:16.203679",
     "exception": false,
     "start_time": "2022-03-18T15:50:16.032125",
     "status": "completed"
    },
    "tags": []
   },
   "outputs": [
    {
     "data": {
      "text/plain": [
       "<AxesSubplot:title={'center':'Results'}>"
      ]
     },
     "execution_count": 26,
     "metadata": {},
     "output_type": "execute_result"
    },
    {
     "data": {
      "image/png": "[encoded data removed]",
      "text/plain": [
       "<Figure size 1080x504 with 1 Axes>"
      ]
     },
     "metadata": {
      "needs_background": "light"
     },
     "output_type": "display_data"
    }
   ],
   "source": [
    "get_results_table(experiment)"
   ]
  },
  {
   "cell_type": "code",
   "execution_count": 27,
   "id": "cf8dc689",
   "metadata": {
    "execution": {
     "iopub.execute_input": "2022-03-18T15:50:16.266244Z",
     "iopub.status.busy": "2022-03-18T15:50:16.265993Z",
     "iopub.status.idle": "2022-03-18T15:50:16.426017Z",
     "shell.execute_reply": "2022-03-18T15:50:16.425599Z"
    },
    "papermill": {
     "duration": 0.193039,
     "end_time": "2022-03-18T15:50:16.426114",
     "exception": false,
     "start_time": "2022-03-18T15:50:16.233075",
     "status": "completed"
    },
    "tags": []
   },
   "outputs": [
    {
     "data": {
      "text/plain": [
       "<AxesSubplot:title={'center':'Per Domain Validation Accuracy'}, xlabel='domain'>"
      ]
     },
     "execution_count": 27,
     "metadata": {},
     "output_type": "execute_result"
    },
    {
     "data": {
      "image/png": "[encoded data removed]",
      "text/plain": [
       "<Figure size 1080x504 with 1 Axes>"
      ]
     },
     "metadata": {
      "needs_background": "light"
     },
     "output_type": "display_data"
    }
   ],
   "source": [
    "get_domain_accuracies(experiment)"
   ]
  },
  {
   "cell_type": "code",
   "execution_count": 28,
   "id": "a74ae082",
   "metadata": {
    "execution": {
     "iopub.execute_input": "2022-03-18T15:50:16.494259Z",
     "iopub.status.busy": "2022-03-18T15:50:16.493976Z",
     "iopub.status.idle": "2022-03-18T15:50:16.510641Z",
     "shell.execute_reply": "2022-03-18T15:50:16.510266Z"
    },
    "papermill": {
     "duration": 0.048216,
     "end_time": "2022-03-18T15:50:16.510733",
     "exception": false,
     "start_time": "2022-03-18T15:50:16.462517",
     "status": "completed"
    },
    "tags": []
   },
   "outputs": [
    {
     "name": "stdout",
     "output_type": "stream",
     "text": [
      "Source Test Label Accuracy: 0.7159505208333333 Target Test Label Accuracy: 0.5665667808219178\n",
      "Source Val Label Accuracy: 0.7040364583333333 Target Val Label Accuracy: 0.5759845890410958\n"
     ]
    }
   ],
   "source": [
    "print(\"Source Test Label Accuracy:\", experiment[\"results\"][\"source_test_label_accuracy\"], \"Target Test Label Accuracy:\", experiment[\"results\"][\"target_test_label_accuracy\"])\n",
    "print(\"Source Val Label Accuracy:\", experiment[\"results\"][\"source_val_label_accuracy\"], \"Target Val Label Accuracy:\", experiment[\"results\"][\"target_val_label_accuracy\"])"
   ]
  },
  {
   "cell_type": "code",
   "execution_count": 29,
   "id": "dacca602",
   "metadata": {
    "execution": {
     "iopub.execute_input": "2022-03-18T15:50:16.576501Z",
     "iopub.status.busy": "2022-03-18T15:50:16.576255Z",
     "iopub.status.idle": "2022-03-18T15:50:16.590211Z",
     "shell.execute_reply": "2022-03-18T15:50:16.590586Z"
    },
    "papermill": {
     "duration": 0.045851,
     "end_time": "2022-03-18T15:50:16.590692",
     "exception": false,
     "start_time": "2022-03-18T15:50:16.544841",
     "status": "completed"
    },
    "tags": [
     "experiment_json"
    ]
   },
   "outputs": [
    {
     "data": {
      "text/plain": [
       "'{\"experiment_name\": \"tl_3A:oracle.run1.framed -> cores+wisig\", \"parameters\": {\"experiment_name\": \"tl_3A:oracle.run1.framed -> cores+wisig\", \"device\": \"cuda\", \"lr\": 0.001, \"seed\": 1337, \"dataset_seed\": 1337, \"x_shape\": [2, 200], \"n_shot\": 3, \"n_query\": 2, \"train_k_factor\": 3, \"val_k_factor\": 2, \"test_k_factor\": 2, \"torch_default_dtype\": \"torch.float32\", \"n_epoch\": 50, \"patience\": 3, \"criteria_for_best\": \"target_loss\", \"x_net\": [{\"class\": \"nnReshape\", \"kargs\": {\"shape\": [-1, 1, 2, 200]}}, {\"class\": \"Conv2d\", \"kargs\": {\"in_channels\": 1, \"out_channels\": 256, \"kernel_size\": [1, 7], \"bias\": false, \"padding\": [0, 3]}}, {\"class\": \"ReLU\", \"kargs\": {\"inplace\": true}}, {\"class\": \"BatchNorm2d\", \"kargs\": {\"num_features\": 256}}, {\"class\": \"Conv2d\", \"kargs\": {\"in_channels\": 256, \"out_channels\": 80, \"kernel_size\": [2, 7], \"bias\": true, \"padding\": [0, 3]}}, {\"class\": \"ReLU\", \"kargs\": {\"inplace\": true}}, {\"class\": \"BatchNorm2d\", \"kargs\": {\"num_features\": 80}}, {\"class\": \"Flatten\", \"kargs\": {}}, {\"class\": \"Linear\", \"kargs\": {\"in_features\": 16000, \"out_features\": 256}}, {\"class\": \"ReLU\", \"kargs\": {\"inplace\": true}}, {\"class\": \"BatchNorm1d\", \"kargs\": {\"num_features\": 256}}, {\"class\": \"Linear\", \"kargs\": {\"in_features\": 256, \"out_features\": 256}}], \"NUM_LOGS_PER_EPOCH\": 10, \"BEST_MODEL_PATH\": \"./best_model.pth\", \"n_way\": 16, \"datasets\": [{\"labels\": [\"1-10.\", \"1-11.\", \"1-15.\", \"1-16.\", \"1-17.\", \"1-18.\", \"1-19.\", \"10-4.\", \"10-7.\", \"11-1.\", \"11-14.\", \"11-17.\", \"11-20.\", \"11-7.\", \"13-20.\", \"13-8.\", \"14-10.\", \"14-11.\", \"14-14.\", \"14-7.\", \"15-1.\", \"15-20.\", \"16-1.\", \"16-16.\", \"17-10.\", \"17-11.\", \"17-2.\", \"19-1.\", \"19-16.\", \"19-19.\", \"19-20.\", \"19-3.\", \"2-10.\", \"2-11.\", \"2-17.\", \"2-18.\", \"2-20.\", \"2-3.\", \"2-4.\", \"2-5.\", \"2-6.\", \"2-7.\", \"2-8.\", \"3-13.\", \"3-18.\", \"3-3.\", \"4-1.\", \"4-10.\", \"4-11.\", \"4-19.\", \"5-5.\", \"6-15.\", \"7-10.\", \"7-14.\", \"8-18.\", \"8-20.\", \"8-3.\", \"8-8.\"], \"domains\": [1, 2, 3, 4, 5], \"num_examples_per_domain_per_label\": 100, \"pickle_path\": \"/mnt/wd500GB/CSC500/csc500-main/datasets/cores.stratified_ds.2022A.pkl\", \"source_or_target_dataset\": \"target\", \"x_transforms\": [\"unit_power\", \"take_200\"], \"episode_transforms\": [], \"domain_prefix\": \"C_A_\"}, {\"labels\": [\"1-10\", \"1-12\", \"1-14\", \"1-16\", \"1-18\", \"1-19\", \"1-8\", \"10-11\", \"10-17\", \"10-4\", \"10-7\", \"11-1\", \"11-10\", \"11-19\", \"11-20\", \"11-4\", \"11-7\", \"12-19\", \"12-20\", \"12-7\", \"13-14\", \"13-18\", \"13-19\", \"13-20\", \"13-3\", \"13-7\", \"14-10\", \"14-11\", \"14-12\", \"14-13\", \"14-14\", \"14-19\", \"14-20\", \"14-7\", \"14-8\", \"14-9\", \"15-1\", \"15-19\", \"15-6\", \"16-1\", \"16-16\", \"16-19\", \"16-20\", \"17-10\", \"17-11\", \"18-1\", \"18-10\", \"18-11\", \"18-12\", \"18-13\", \"18-14\", \"18-15\", \"18-16\", \"18-17\", \"18-19\", \"18-2\", \"18-20\", \"18-4\", \"18-5\", \"18-7\", \"18-8\", \"18-9\", \"19-1\", \"19-10\", \"19-11\", \"19-12\", \"19-13\", \"19-14\", \"19-15\", \"19-19\", \"19-2\", \"19-20\", \"19-3\", \"19-4\", \"19-6\", \"19-7\", \"19-8\", \"19-9\", \"2-1\", \"2-13\", \"2-15\", \"2-3\", \"2-4\", \"2-5\", \"2-6\", \"2-7\", \"2-8\", \"20-1\", \"20-12\", \"20-14\", \"20-15\", \"20-16\", \"20-18\", \"20-19\", \"20-20\", \"20-3\", \"20-4\", \"20-5\", \"20-7\", \"20-8\", \"3-1\", \"3-13\", \"3-18\", \"3-2\", \"3-8\", \"4-1\", \"4-10\", \"4-11\", \"5-1\", \"5-5\", \"6-1\", \"6-15\", \"6-6\", \"7-10\", \"7-11\", \"7-12\", \"7-13\", \"7-14\", \"7-7\", \"7-8\", \"7-9\", \"8-1\", \"8-13\", \"8-14\", \"8-18\", \"8-20\", \"8-3\", \"8-8\", \"9-1\", \"9-7\"], \"domains\": [1, 2, 3, 4], \"num_examples_per_domain_per_label\": 100, \"pickle_path\": \"/mnt/wd500GB/CSC500/csc500-main/datasets/wisig.node3-19.stratified_ds.2022A.pkl\", \"source_or_target_dataset\": \"target\", \"x_transforms\": [\"unit_power\", \"take_200\"], \"episode_transforms\": [], \"domain_prefix\": \"W_A_\"}, {\"labels\": [\"3123D52\", \"3123D65\", \"3123D79\", \"3123D80\", \"3123D54\", \"3123D70\", \"3123D7B\", \"3123D89\", \"3123D58\", \"3123D76\", \"3123D7D\", \"3123EFE\", \"3123D64\", \"3123D78\", \"3123D7E\", \"3124E4A\"], \"domains\": [32, 38, 8, 44, 14, 50, 20, 26], \"num_examples_per_domain_per_label\": 2000, \"pickle_path\": \"/mnt/wd500GB/CSC500/csc500-main/datasets/oracle.Run1_framed_2000Examples_stratified_ds.2022A.pkl\", \"source_or_target_dataset\": \"source\", \"x_transforms\": [\"unit_power\", \"take_200\", \"resample_20Msps_to_25Msps\"], \"episode_transforms\": [], \"domain_prefix\": \"ORACLE.run1_\"}], \"domains_source\": [\"ORACLE.run1_32\", \"ORACLE.run1_38\", \"ORACLE.run1_8\", \"ORACLE.run1_44\", \"ORACLE.run1_14\", \"ORACLE.run1_50\", \"ORACLE.run1_20\", \"ORACLE.run1_26\"], \"domains_target\": [\"C_A_1\", \"C_A_2\", \"C_A_3\", \"C_A_4\", \"C_A_5\", \"W_A_1\", \"W_A_2\", \"W_A_3\", \"W_A_4\"]}, \"results\": {\"source_test_label_accuracy\": 0.7159505208333333, \"source_test_label_loss\": 0.8133068680763245, \"target_test_label_accuracy\": 0.5665667808219178, \"target_test_label_loss\": 1123.935546875, \"source_val_label_accuracy\": 0.7040364583333333, \"source_val_label_loss\": 0.8329043984413147, \"target_val_label_accuracy\": 0.5759845890410958, \"target_val_label_loss\": 1003.2811279296875, \"total_epochs_trained\": 6, \"total_experiment_time_secs\": 995.5650734901428, \"confusion\": {\"ORACLE.run1_14\": {\"15\": {\"15\": 231, \"7\": 9}, \"3\": {\"3\": 234, \"4\": 6}, \"6\": {\"13\": 63, \"6\": 144, \"2\": 11, \"14\": 22}, \"1\": {\"1\": 208, \"5\": 29, \"4\": 3}, \"8\": {\"8\": 240}, \"10\": {\"10\": 226, \"0\": 14}, \"9\": {\"9\": 240}, \"13\": {\"14\": 69, \"13\": 64, \"5\": 9, \"6\": 84, \"2\": 13, \"4\": 1}, \"12\": {\"12\": 240}, \"5\": {\"5\": 136, \"4\": 49, \"1\": 40, \"2\": 10, \"3\": 3, \"6\": 1, \"7\": 1}, \"0\": {\"0\": 196, \"10\": 39, \"11\": 3, \"3\": 2}, \"2\": {\"6\": 31, \"3\": 10, \"2\": 103, \"4\": 12, \"5\": 30, \"14\": 41, \"13\": 11, \"7\": 1, \"15\": 1}, \"11\": {\"11\": 225, \"0\": 2, \"9\": 12, \"10\": 1}, \"14\": {\"14\": 180, \"2\": 18, \"13\": 30, \"6\": 7, \"3\": 5}, \"7\": {\"7\": 236, \"15\": 4}, \"4\": {\"4\": 191, \"5\": 41, \"2\": 3, \"3\": 2, \"1\": 3}}, \"ORACLE.run1_20\": {\"3\": {\"12\": 38, \"3\": 123, \"2\": 15, \"9\": 45, \"1\": 1, \"5\": 5, \"4\": 2, \"7\": 8, \"8\": 2, \"0\": 1}, \"15\": {\"15\": 139, \"1\": 35, \"5\": 17, \"12\": 6, \"0\": 37, \"13\": 5, \"2\": 1}, \"8\": {\"8\": 187, \"7\": 13, \"4\": 30, \"10\": 2, \"14\": 3, \"3\": 4, \"2\": 1}, \"4\": {\"4\": 188, \"8\": 27, \"3\": 15, \"10\": 4, \"12\": 2, \"5\": 4}, \"14\": {\"6\": 28, \"14\": 194, \"10\": 15, \"8\": 3}, \"0\": {\"12\": 20, \"3\": 6, \"0\": 87, \"5\": 63, \"1\": 18, \"15\": 43, \"2\": 2, \"4\": 1}, \"7\": {\"7\": 175, \"8\": 13, \"2\": 34, \"9\": 14, \"3\": 4}, \"6\": {\"6\": 218, \"10\": 2, \"14\": 20}, \"10\": {\"14\": 23, \"10\": 215, \"4\": 1, \"8\": 1}, \"5\": {\"5\": 102, \"12\": 23, \"0\": 78, \"1\": 24, \"15\": 9, \"4\": 1, \"3\": 3}, \"2\": {\"2\": 100, \"3\": 15, \"7\": 17, \"9\": 79, \"13\": 18, \"12\": 10, \"15\": 1}, \"12\": {\"12\": 116, \"3\": 38, \"9\": 15, \"1\": 41, \"5\": 13, \"2\": 7, \"0\": 6, \"15\": 2, \"7\": 1, \"13\": 1}, \"9\": {\"9\": 122, \"2\": 67, \"3\": 30, \"12\": 13, \"4\": 1, \"7\": 6, \"13\": 1}, \"1\": {\"1\": 113, \"5\": 32, \"12\": 43, \"15\": 22, \"0\": 26, \"3\": 2, \"9\": 2}, \"11\": {\"11\": 240}, \"13\": {\"13\": 218, \"1\": 1, \"2\": 19, \"12\": 1, \"0\": 1}}, \"ORACLE.run1_38\": {\"5\": {\"8\": 58, \"5\": 93, \"7\": 27, \"0\": 10, \"9\": 9, \"13\": 1, \"1\": 6, \"15\": 10, \"3\": 2, \"6\": 23, \"10\": 1}, \"8\": {\"0\": 28, \"7\": 19, \"8\": 133, \"15\": 15, \"10\": 10, \"1\": 2, \"5\": 32, \"13\": 1}, \"11\": {\"11\": 158, \"14\": 71, \"4\": 2, \"3\": 2, \"12\": 2, \"10\": 3, \"2\": 2}, \"1\": {\"1\": 226, \"8\": 1, \"15\": 13}, \"10\": {\"10\": 163, \"11\": 2, \"0\": 8, \"8\": 20, \"15\": 4, \"13\": 24, \"2\": 4, \"5\": 3, \"7\": 2, \"12\": 5, \"14\": 2, \"4\": 3}, \"15\": {\"15\": 161, \"8\": 12, \"1\": 23, \"13\": 38, \"2\": 1, \"5\": 3, \"0\": 1, \"10\": 1}, \"3\": {\"3\": 208, \"9\": 20, \"7\": 5, \"0\": 2, \"6\": 2, \"5\": 3}, \"7\": {\"7\": 172, \"0\": 41, \"5\": 16, \"8\": 9, \"10\": 1, \"9\": 1}, \"4\": {\"4\": 194, \"12\": 46}, \"14\": {\"14\": 192, \"11\": 23, \"2\": 20, \"10\": 5}, \"9\": {\"9\": 163, \"6\": 59, \"3\": 18}, \"12\": {\"12\": 221, \"4\": 17, \"10\": 1, \"14\": 1}, \"6\": {\"5\": 4, \"6\": 199, \"9\": 37}, \"2\": {\"2\": 212, \"14\": 20, \"11\": 1, \"10\": 1, \"13\": 6}, \"0\": {\"0\": 81, \"8\": 58, \"5\": 21, \"7\": 48, \"9\": 3, \"3\": 9, \"11\": 2, \"10\": 10, \"15\": 5, \"13\": 1, \"6\": 2}, \"13\": {\"13\": 156, \"14\": 1, \"15\": 54, \"10\": 15, \"0\": 1, \"2\": 7, \"1\": 5, \"8\": 1}}, \"ORACLE.run1_8\": {\"9\": {\"9\": 240}, \"10\": {\"10\": 178, \"14\": 47, \"13\": 9, \"5\": 4, \"4\": 2}, \"13\": {\"4\": 47, \"0\": 59, \"10\": 20, \"13\": 88, \"6\": 7, \"14\": 19}, \"0\": {\"13\": 49, \"0\": 163, \"7\": 16, \"4\": 6, \"6\": 5, \"10\": 1}, \"1\": {\"1\": 202, \"11\": 32, \"5\": 2, \"14\": 3, \"10\": 1}, \"15\": {\"15\": 195, \"12\": 38, \"8\": 7}, \"5\": {\"5\": 215, \"11\": 1, \"10\": 8, \"1\": 11, \"14\": 5}, \"3\": {\"2\": 14, \"3\": 219, \"12\": 6, \"15\": 1}, \"6\": {\"4\": 29, \"7\": 56, \"6\": 148, \"13\": 3, \"0\": 3, \"14\": 1}, \"11\": {\"11\": 191, \"1\": 41, \"5\": 7, \"14\": 1}, \"8\": {\"8\": 231, \"15\": 9}, \"4\": {\"4\": 146, \"0\": 3, \"13\": 45, \"14\": 24, \"6\": 20, \"10\": 2}, \"12\": {\"12\": 119, \"15\": 75, \"3\": 41, \"8\": 4, \"2\": 1}, \"14\": {\"10\": 61, \"14\": 137, \"1\": 11, \"4\": 20, \"13\": 11}, \"2\": {\"2\": 201, \"3\": 27, \"12\": 2, \"7\": 7, \"15\": 3}, \"7\": {\"7\": 200, \"6\": 37, \"13\": 1, \"0\": 2}}, \"ORACLE.run1_50\": {\"7\": {\"7\": 147, \"10\": 24, \"13\": 48, \"5\": 19, \"6\": 2}, \"3\": {\"3\": 237, \"8\": 3}, \"8\": {\"8\": 227, \"10\": 11, \"3\": 2}, \"2\": {\"2\": 215, \"0\": 25}, \"14\": {\"14\": 239, \"12\": 1}, \"4\": {\"15\": 47, \"4\": 91, \"1\": 50, \"5\": 21, \"6\": 21, \"13\": 7, \"7\": 2, \"14\": 1}, \"6\": {\"6\": 165, \"15\": 1, \"4\": 16, \"2\": 2, \"13\": 30, \"1\": 13, \"5\": 9, \"0\": 2, \"7\": 2}, \"15\": {\"15\": 137, \"11\": 21, \"1\": 51, \"4\": 27, \"6\": 2, \"5\": 2}, \"10\": {\"10\": 213, \"13\": 6, \"8\": 8, \"0\": 7, \"7\": 6}, \"11\": {\"11\": 202, \"15\": 14, \"9\": 11, \"14\": 6, \"12\": 6, \"1\": 1}, \"13\": {\"13\": 128, \"5\": 42, \"7\": 43, \"6\": 19, \"10\": 5, \"0\": 3}, \"9\": {\"9\": 195, \"12\": 26, \"11\": 19}, \"0\": {\"0\": 192, \"10\": 15, \"2\": 31, \"13\": 1, \"6\": 1}, \"1\": {\"15\": 47, \"1\": 140, \"4\": 24, \"6\": 27, \"2\": 1, \"11\": 1}, \"12\": {\"14\": 9, \"12\": 217, \"9\": 11, \"11\": 3}, \"5\": {\"13\": 48, \"4\": 37, \"7\": 38, \"5\": 80, \"1\": 20, \"6\": 16, \"10\": 1}}, \"ORACLE.run1_32\": {\"8\": {\"13\": 26, \"0\": 24, \"8\": 162, \"5\": 21, \"14\": 2, \"7\": 2, \"3\": 3}, \"14\": {\"11\": 69, \"0\": 12, \"3\": 8, \"14\": 89, \"7\": 42, \"5\": 13, \"8\": 5, \"13\": 1, \"4\": 1}, \"2\": {\"2\": 195, \"4\": 42, \"0\": 1, \"7\": 2}, \"0\": {\"4\": 8, \"0\": 155, \"7\": 20, \"5\": 11, \"13\": 5, \"8\": 28, \"2\": 8, \"14\": 5}, \"1\": {\"1\": 239, \"10\": 1}, \"10\": {\"10\": 240}, \"11\": {\"11\": 174, \"14\": 38, \"5\": 6, \"7\": 19, \"3\": 3}, \"5\": {\"5\": 60, \"11\": 8, \"3\": 29, \"14\": 11, \"13\": 31, \"8\": 31, \"7\": 40, \"4\": 10, \"0\": 19, \"2\": 1}, \"15\": {\"15\": 237, \"8\": 2, \"3\": 1}, \"3\": {\"3\": 217, \"14\": 3, \"5\": 15, \"13\": 3, \"11\": 1, \"8\": 1}, \"12\": {\"12\": 240}, \"7\": {\"4\": 28, \"14\": 22, \"7\": 118, \"5\": 23, \"11\": 15, \"13\": 16, \"0\": 10, \"2\": 5, \"8\": 2, \"3\": 1}, \"13\": {\"13\": 134, \"8\": 19, \"4\": 26, \"0\": 7, \"5\": 31, \"7\": 11, \"11\": 4, \"3\": 8}, \"6\": {\"6\": 240}, \"4\": {\"4\": 151, \"7\": 15, \"2\": 54, \"0\": 8, \"13\": 8, \"5\": 3, \"8\": 1}, \"9\": {\"9\": 239, \"12\": 1}}, \"ORACLE.run1_26\": {\"4\": {\"4\": 94, \"14\": 50, \"1\": 19, \"7\": 8, \"8\": 33, \"0\": 31, \"10\": 5}, \"12\": {\"12\": 237, \"11\": 3}, \"10\": {\"1\": 3, \"0\": 54, \"10\": 93, \"8\": 36, \"14\": 27, \"4\": 4, \"6\": 19, \"9\": 3, \"15\": 1}, \"0\": {\"8\": 31, \"0\": 65, \"14\": 38, \"4\": 30, \"9\": 2, \"6\": 8, \"10\": 57, \"15\": 1, \"1\": 6, \"7\": 2}, \"13\": {\"13\": 154, \"5\": 45, \"15\": 19, \"6\": 5, \"9\": 13, \"2\": 4}, \"9\": {\"5\": 17, \"15\": 81, \"9\": 89, \"6\": 29, \"8\": 8, \"0\": 1, \"13\": 9, \"10\": 4, \"2\": 2}, \"3\": {\"3\": 153, \"2\": 59, \"7\": 25, \"4\": 1, \"5\": 1, \"8\": 1}, \"2\": {\"2\": 90, \"7\": 33, \"5\": 19, \"3\": 74, \"9\": 6, \"15\": 13, \"8\": 3, \"13\": 1, \"4\": 1}, \"5\": {\"2\": 13, \"5\": 169, \"15\": 26, \"9\": 13, \"13\": 16, \"3\": 1, \"7\": 2}, \"14\": {\"4\": 50, \"1\": 32, \"7\": 3, \"14\": 86, \"0\": 34, \"10\": 25, \"8\": 9, \"5\": 1}, \"8\": {\"8\": 105, \"7\": 26, \"4\": 17, \"14\": 11, \"6\": 7, \"10\": 33, \"0\": 20, \"15\": 8, \"3\": 1, \"9\": 8, \"2\": 1, \"5\": 1, \"1\": 2}, \"7\": {\"8\": 20, \"7\": 141, \"1\": 1, \"9\": 2, \"3\": 24, \"5\": 2, \"2\": 22, \"4\": 22, \"0\": 3, \"15\": 3}, \"6\": {\"6\": 194, \"8\": 3, \"4\": 1, \"10\": 18, \"15\": 9, \"9\": 13, \"0\": 1, \"13\": 1}, \"11\": {\"11\": 240}, \"15\": {\"15\": 89, \"6\": 7, \"9\": 76, \"8\": 16, \"13\": 21, \"0\": 1, \"5\": 17, \"7\": 2, \"2\": 5, \"10\": 6}, \"1\": {\"1\": 154, \"14\": 46, \"10\": 4, \"4\": 19, \"7\": 8, \"8\": 5, \"0\": 4}}, \"ORACLE.run1_44\": {\"12\": {\"12\": 181, \"1\": 44, \"10\": 15}, \"7\": {\"7\": 145, \"2\": 36, \"6\": 9, \"9\": 44, \"13\": 1, \"10\": 1, \"3\": 4}, \"5\": {\"5\": 174, \"15\": 15, \"0\": 29, \"14\": 12, \"4\": 2, \"8\": 8}, \"15\": {\"15\": 182, \"14\": 18, \"5\": 11, \"0\": 20, \"8\": 6, \"4\": 3}, \"8\": {\"0\": 76, \"8\": 148, \"15\": 11, \"5\": 5}, \"2\": {\"1\": 14, \"2\": 165, \"7\": 46, \"10\": 11, \"3\": 1, \"12\": 3}, \"13\": {\"13\": 151, \"6\": 38, \"9\": 35, \"11\": 14, \"4\": 1, \"7\": 1}, \"4\": {\"14\": 74, \"4\": 164, \"15\": 1, \"5\": 1}, \"0\": {\"8\": 77, \"5\": 24, \"0\": 131, \"15\": 8}, \"6\": {\"9\": 32, \"6\": 148, \"13\": 42, \"7\": 10, \"11\": 7, \"2\": 1}, \"9\": {\"13\": 30, \"7\": 44, \"9\": 134, \"6\": 26, \"2\": 4, \"1\": 1, \"3\": 1}, \"11\": {\"11\": 191, \"6\": 13, \"9\": 3, \"13\": 33}, \"10\": {\"1\": 32, \"10\": 160, \"12\": 35, \"2\": 12, \"3\": 1}, \"14\": {\"4\": 79, \"14\": 129, \"15\": 27, \"5\": 5}, \"1\": {\"3\": 26, \"1\": 114, \"12\": 69, \"10\": 18, \"2\": 13}, \"3\": {\"3\": 207, \"2\": 6, \"1\": 19, \"7\": 1, \"12\": 7}}, \"C_A_3\": {\"43\": {\"43\": 12}, \"9\": {\"9\": 12}, \"6\": {\"6\": 9, \"3\": 1}, \"3\": {\"9\": 2, \"33\": 2, \"3\": 3, \"23\": 2, \"20\": 1, \"41\": 1, \"35\": 1}, \"16\": {\"16\": 11, \"23\": 1}, \"51\": {\"51\": 12}, \"31\": {\"31\": 12}, \"46\": {\"46\": 5, \"3\": 4, \"34\": 1}, \"19\": {\"19\": 3, \"9\": 1, \"4\": 1, \"29\": 2, \"44\": 1}, \"8\": {\"8\": 12}, \"18\": {\"18\": 10, \"30\": 2}, \"37\": {\"37\": 11, \"52\": 1}, \"24\": {\"43\": 2, \"24\": 7, \"14\": 2, \"10\": 1}, \"10\": {\"24\": 2, \"14\": 1, \"10\": 9}, \"44\": {\"19\": 2, \"36\": 1, \"44\": 6, \"40\": 1}, \"14\": {\"24\": 1, \"8\": 1, \"4\": 1, \"14\": 3, \"35\": 2, \"29\": 2, \"28\": 1, \"12\": 1}, \"38\": {\"38\": 10}, \"53\": {\"53\": 12}, \"20\": {\"54\": 1, \"20\": 10, \"33\": 1}, \"32\": {\"32\": 12}, \"36\": {\"36\": 10}, \"33\": {\"33\": 11, \"6\": 1}, \"56\": {\"56\": 12}, \"23\": {\"23\": 11, \"47\": 1}, \"54\": {\"54\": 10}, \"34\": {\"34\": 12}, \"13\": {\"43\": 1, \"13\": 8, \"21\": 1, \"48\": 1, \"15\": 1}, \"2\": {\"2\": 12}, \"55\": {\"49\": 1, \"34\": 3, \"5\": 2, \"55\": 1, \"48\": 1, \"6\": 1, \"0\": 1}, \"21\": {\"21\": 4, \"20\": 2, \"6\": 1, \"51\": 2, \"54\": 1}, \"49\": {\"49\": 10}, \"25\": {\"25\": 12}, \"5\": {\"5\": 11, \"39\": 1}, \"50\": {\"34\": 1, \"50\": 4, \"36\": 1, \"3\": 2}, \"40\": {\"57\": 2, \"4\": 3, \"40\": 5, \"44\": 1, \"45\": 1}, \"57\": {\"57\": 8}, \"22\": {\"22\": 8, \"35\": 1, \"45\": 1}, \"1\": {\"1\": 10}, \"17\": {\"17\": 12}, \"41\": {\"41\": 11, \"48\": 1}, \"4\": {\"4\": 8, \"27\": 1, \"1\": 1}, \"7\": {\"7\": 10}, \"26\": {\"26\": 8, \"39\": 2}, \"29\": {\"29\": 12}, \"52\": {\"52\": 10, \"47\": 2}, \"15\": {\"15\": 12}, \"35\": {\"29\": 1, \"35\": 11}, \"42\": {\"42\": 12}, \"30\": {\"30\": 10}, \"27\": {\"27\": 8}, \"45\": {\"45\": 1, \"44\": 3, \"13\": 1, \"27\": 1, \"19\": 2, \"17\": 1, \"35\": 1}, \"0\": {\"0\": 11, \"23\": 1}, \"28\": {\"28\": 6, \"5\": 3, \"1\": 1, \"31\": 1, \"47\": 1}, \"47\": {\"47\": 11, \"34\": 1}, \"11\": {\"15\": 1, \"11\": 9}, \"39\": {\"26\": 1, \"39\": 9}, \"48\": {\"2\": 1, \"48\": 6, \"41\": 1, \"1\": 1, \"17\": 1, \"54\": 1, \"6\": 1}, \"12\": {\"12\": 6, \"17\": 1, \"38\": 1}}, \"C_A_4\": {\"35\": {\"35\": 8, \"33\": 1, \"4\": 1}, \"25\": {\"25\": 10, \"27\": 1, \"26\": 1}, \"24\": {\"14\": 2, \"24\": 3, \"32\": 3, \"43\": 2}, \"48\": {\"48\": 12}, \"51\": {\"51\": 7, \"8\": 2, \"3\": 1, \"21\": 1, \"53\": 1}, \"13\": {\"13\": 12}, \"14\": {\"35\": 1, \"34\": 1, \"5\": 1, \"49\": 1, \"14\": 2, \"2\": 2}, \"32\": {\"32\": 12}, \"30\": {\"30\": 10, \"28\": 1, \"27\": 1}, \"34\": {\"34\": 10}, \"9\": {\"9\": 12}, \"1\": {\"1\": 12}, \"0\": {\"0\": 12}, \"38\": {\"38\": 6, \"14\": 1, \"0\": 1, \"46\": 1, \"22\": 1, \"32\": 2}, \"22\": {\"14\": 1, \"22\": 3, \"38\": 1, \"19\": 1, \"46\": 2}, \"40\": {\"25\": 1, \"9\": 1, \"35\": 1, \"40\": 5, \"27\": 1, \"31\": 1, \"45\": 1, \"44\": 1}, \"39\": {\"39\": 12}, \"46\": {\"32\": 1, \"5\": 1, \"46\": 8, \"39\": 2}, \"36\": {\"34\": 1, \"36\": 10, \"50\": 1}, \"50\": {\"50\": 3, \"36\": 3, \"47\": 1, \"4\": 1, \"6\": 1, \"3\": 1, \"53\": 1, \"45\": 1}, \"49\": {\"49\": 12}, \"17\": {\"17\": 12}, \"45\": {\"45\": 11, \"17\": 1}, \"6\": {\"6\": 9, \"36\": 1, \"28\": 1, \"34\": 1}, \"8\": {\"8\": 12}, \"5\": {\"46\": 2, \"52\": 2, \"57\": 1, \"5\": 3, \"47\": 1, \"34\": 1}, \"33\": {\"33\": 9, \"31\": 1, \"44\": 2}, \"31\": {\"31\": 12}, \"37\": {\"37\": 7, \"6\": 1, \"11\": 1, \"21\": 1}, \"47\": {\"47\": 8}, \"15\": {\"15\": 8, \"0\": 2}, \"7\": {\"7\": 11, \"26\": 1}, \"20\": {\"20\": 12}, \"4\": {\"4\": 11, \"8\": 1}, \"54\": {\"54\": 12}, \"44\": {\"19\": 1, \"44\": 10, \"4\": 1}, \"3\": {\"54\": 1, \"25\": 1, \"42\": 1, \"3\": 7, \"36\": 1, \"53\": 1}, \"11\": {\"11\": 8, \"0\": 1, \"15\": 1}, \"27\": {\"27\": 10}, \"19\": {\"44\": 1, \"19\": 8, \"33\": 2, \"17\": 1}, \"55\": {\"55\": 5, \"19\": 1, \"7\": 1, \"28\": 2, \"12\": 2, \"49\": 1}, \"16\": {\"16\": 12}, \"2\": {\"2\": 10}, \"52\": {\"52\": 10}, \"42\": {\"42\": 7, \"26\": 1, \"3\": 1, \"25\": 1}, \"26\": {\"26\": 12}, \"10\": {\"2\": 2, \"16\": 3, \"43\": 2, \"10\": 3, \"38\": 1, \"0\": 1}, \"53\": {\"53\": 8, \"8\": 2}, \"28\": {\"28\": 9, \"36\": 1, \"6\": 2}, \"21\": {\"21\": 10}, \"57\": {\"57\": 10}, \"23\": {\"23\": 6, \"18\": 2}, \"43\": {\"43\": 10}, \"12\": {\"12\": 12}, \"41\": {\"41\": 11, \"52\": 1}, \"56\": {\"56\": 5, \"55\": 1, \"43\": 1, \"14\": 1}, \"18\": {\"18\": 9, \"23\": 1}, \"29\": {\"29\": 8}}, \"C_A_5\": {\"47\": {\"47\": 10}, \"53\": {\"53\": 12}, \"29\": {\"29\": 8, \"43\": 1, \"44\": 1, \"31\": 1, \"41\": 1}, \"52\": {\"52\": 12}, \"55\": {\"1\": 4, \"55\": 5, \"40\": 1, \"32\": 2}, \"17\": {\"17\": 10, \"45\": 2}, \"42\": {\"42\": 11, \"18\": 1}, \"33\": {\"33\": 10}, \"11\": {\"11\": 10, \"15\": 2}, \"19\": {\"19\": 8}, \"1\": {\"1\": 11, \"45\": 1}, \"44\": {\"44\": 5, \"49\": 2, \"5\": 2, \"29\": 2, \"19\": 1}, \"49\": {\"11\": 1, \"49\": 10, \"24\": 1}, \"4\": {\"4\": 10, \"27\": 1, \"33\": 1}, \"6\": {\"17\": 1, \"6\": 6, \"39\": 1, \"38\": 1, \"27\": 1, \"30\": 1, \"45\": 1}, \"39\": {\"39\": 12}, \"13\": {\"13\": 8, \"15\": 1, \"10\": 1, \"56\": 1, \"55\": 1}, \"5\": {\"5\": 8, \"44\": 1, \"50\": 1}, \"16\": {\"16\": 9, \"52\": 1}, \"25\": {\"25\": 12}, \"45\": {\"45\": 10, \"17\": 1, \"1\": 1}, \"7\": {\"7\": 10}, \"22\": {\"35\": 1, \"22\": 8, \"15\": 1, \"40\": 1, \"29\": 1}, \"40\": {\"4\": 1, \"40\": 3, \"50\": 1, \"5\": 1, \"41\": 2, \"9\": 3, \"27\": 1}, \"38\": {\"38\": 12}, \"35\": {\"35\": 8}, \"56\": {\"56\": 8, \"0\": 1, \"2\": 1, \"31\": 2}, \"50\": {\"17\": 1, \"39\": 4, \"28\": 1, \"50\": 2, \"48\": 1, \"53\": 1}, \"0\": {\"0\": 11, \"11\": 1}, \"10\": {\"10\": 11, \"13\": 1}, \"27\": {\"27\": 12}, \"20\": {\"20\": 10}, \"36\": {\"36\": 8}, \"34\": {\"34\": 12}, \"30\": {\"30\": 12}, \"2\": {\"2\": 10}, \"15\": {\"15\": 12}, \"18\": {\"18\": 12}, \"32\": {\"32\": 12}, \"31\": {\"31\": 12}, \"57\": {\"57\": 12}, \"48\": {\"45\": 2, \"48\": 6}, \"28\": {\"28\": 10}, \"14\": {\"14\": 1, \"39\": 2, \"36\": 1, \"25\": 1, \"28\": 1, \"46\": 2, \"37\": 1, \"43\": 2, \"11\": 1}, \"3\": {\"34\": 1, \"14\": 1, \"3\": 7, \"16\": 1, \"39\": 1, \"52\": 1}, \"8\": {\"8\": 11, \"32\": 1}, \"9\": {\"9\": 8, \"19\": 3, \"17\": 1}, \"21\": {\"21\": 10}, \"41\": {\"41\": 12}, \"24\": {\"0\": 2, \"24\": 8, \"43\": 1, \"13\": 1}, \"46\": {\"46\": 10}, \"43\": {\"43\": 10}, \"54\": {\"54\": 10}, \"23\": {\"23\": 9, \"18\": 1}, \"37\": {\"37\": 10}, \"12\": {\"26\": 1, \"32\": 1, \"12\": 7, \"55\": 1}, \"26\": {\"26\": 8, \"1\": 2}, \"51\": {\"51\": 6}}, \"W_A_3\": {\"109\": {\"57\": 2, \"105\": 1, \"2\": 1, \"55\": 1, \"126\": 1, \"109\": 3, \"26\": 1, \"82\": 1, \"84\": 1}, \"127\": {\"46\": 1, \"129\": 2, \"127\": 5, \"110\": 1, \"69\": 1, \"87\": 1, \"53\": 1}, \"14\": {\"129\": 1, \"14\": 7, \"114\": 1, \"93\": 1, \"117\": 2}, \"7\": {\"7\": 7, \"86\": 1, \"91\": 2, \"95\": 2}, \"129\": {\"129\": 11, \"11\": 1}, \"57\": {\"57\": 12}, \"84\": {\"109\": 2, \"14\": 1, \"84\": 3, \"45\": 1, \"93\": 1, \"49\": 1, \"86\": 1, \"103\": 1, \"82\": 1}, \"114\": {\"46\": 1, \"109\": 1, \"114\": 3, \"84\": 1, \"50\": 1, \"105\": 1, \"110\": 1, \"1\": 2, \"113\": 1}, \"44\": {\"44\": 6, \"21\": 1, \"116\": 2, \"126\": 1, \"2\": 1, \"128\": 1}, \"21\": {\"57\": 2, \"21\": 8, \"70\": 2}, \"46\": {\"84\": 1, \"114\": 1, \"110\": 2, \"39\": 2, \"85\": 1, \"1\": 1, \"46\": 2, \"55\": 1, \"104\": 1}, \"100\": {\"109\": 2, \"62\": 2, \"116\": 2, \"100\": 2, \"70\": 1, \"16\": 1, \"92\": 2}, \"63\": {\"63\": 2, \"24\": 1, \"105\": 2, \"50\": 1, \"27\": 1, \"13\": 2, \"89\": 1, \"62\": 1, \"54\": 1}, \"24\": {\"7\": 1, \"21\": 1, \"94\": 1, \"83\": 1, \"106\": 2, \"120\": 1, \"15\": 1, \"70\": 1, \"24\": 1, \"3\": 2}, \"107\": {\"63\": 1, \"44\": 1, \"117\": 1, \"107\": 4, \"69\": 1, \"1\": 1, \"26\": 1, \"81\": 2}, \"35\": {\"35\": 4, \"46\": 1, \"4\": 1, \"95\": 2, \"28\": 1, \"47\": 1}, \"81\": {\"81\": 8, \"105\": 1, \"93\": 1, \"26\": 1, \"55\": 1}, \"64\": {\"64\": 9, \"80\": 1, \"79\": 1, \"20\": 1}, \"59\": {\"59\": 12}, \"33\": {\"105\": 2, \"33\": 6, \"115\": 1, \"62\": 1, \"67\": 1, \"50\": 1}, \"34\": {\"34\": 5, \"94\": 2, \"10\": 1, \"3\": 1, \"97\": 1, \"123\": 1, \"36\": 1}, \"36\": {\"59\": 1, \"34\": 1, \"106\": 2, \"36\": 5, \"52\": 1, \"25\": 1, \"24\": 1}, \"79\": {\"79\": 6, \"90\": 1, \"23\": 1, \"9\": 1, \"20\": 2, \"74\": 1}, \"80\": {\"80\": 9, \"10\": 1, \"117\": 1, \"32\": 1}, \"77\": {\"109\": 1, \"77\": 4, \"53\": 1, \"57\": 1, \"104\": 1, \"127\": 1, \"49\": 1, \"99\": 1, \"114\": 1}, \"22\": {\"109\": 1, \"124\": 1, \"48\": 1, \"60\": 1, \"86\": 1, \"66\": 3, \"20\": 1, \"22\": 1, \"96\": 1, \"99\": 1}, \"124\": {\"124\": 11, \"85\": 1}, \"2\": {\"109\": 1, \"105\": 1, \"43\": 2, \"21\": 1, \"2\": 1, \"29\": 1, \"117\": 1, \"80\": 1, \"44\": 1, \"40\": 1, \"82\": 1}, \"87\": {\"2\": 1, \"105\": 2, \"80\": 1, \"11\": 1, \"13\": 2, \"128\": 1, \"87\": 2, \"45\": 2}, \"105\": {\"2\": 2, \"96\": 1, \"74\": 1, \"69\": 1, \"105\": 2, \"109\": 1, \"86\": 1, \"26\": 1, \"62\": 2}, \"95\": {\"56\": 1, \"95\": 6, \"3\": 2, \"71\": 1, \"65\": 2}, \"43\": {\"21\": 2, \"43\": 4, \"44\": 1, \"78\": 1, \"39\": 1, \"118\": 1, \"128\": 2}, \"56\": {\"123\": 1, \"43\": 1, \"38\": 1, \"56\": 4, \"90\": 1, \"84\": 1, \"17\": 1}, \"18\": {\"18\": 4, \"81\": 1, \"40\": 1, \"16\": 1, \"93\": 2, \"50\": 1, \"63\": 2}, \"85\": {\"46\": 1, \"85\": 4, \"29\": 1, \"26\": 1, \"114\": 2, \"84\": 1, \"5\": 2}, \"113\": {\"21\": 1, \"123\": 1, \"10\": 1, \"13\": 1, \"96\": 1, \"113\": 3, \"100\": 2, \"80\": 1, \"95\": 1}, \"97\": {\"8\": 1, \"97\": 9, \"30\": 1, \"98\": 1}, \"86\": {\"86\": 4, \"113\": 1, \"45\": 1, \"115\": 1, \"87\": 1, \"57\": 1, \"84\": 1, \"70\": 2}, \"128\": {\"21\": 1, \"128\": 11}, \"123\": {\"18\": 1, \"123\": 5, \"40\": 1, \"9\": 1, \"38\": 1, \"28\": 1, \"14\": 1, \"21\": 1}, \"8\": {\"8\": 6, \"12\": 1, \"7\": 3, \"101\": 1, \"44\": 1}, \"110\": {\"95\": 1, \"43\": 1, \"10\": 2, \"71\": 2, \"65\": 1, \"114\": 1, \"110\": 1, \"99\": 1, \"48\": 1, \"70\": 1}, \"126\": {\"86\": 1, \"56\": 1, \"108\": 2, \"55\": 2, \"57\": 1, \"118\": 1, \"99\": 1, \"126\": 1, \"21\": 1, \"50\": 1}, \"101\": {\"101\": 6, \"58\": 2, \"66\": 1, \"38\": 1, \"8\": 1, \"72\": 1}, \"115\": {\"43\": 1, \"114\": 1, \"115\": 2, \"33\": 1, \"128\": 1, \"103\": 1, \"45\": 1, \"87\": 1, \"78\": 1, \"119\": 1, \"74\": 1}, \"49\": {\"43\": 2, \"49\": 3, \"11\": 1, \"95\": 1, \"87\": 1, \"70\": 1, \"113\": 1, \"84\": 1, \"91\": 1}, \"45\": {\"45\": 7, \"115\": 2, \"103\": 1, \"119\": 1, \"67\": 1}, \"78\": {\"44\": 2, \"116\": 2, \"13\": 1, \"9\": 2, \"49\": 1, \"113\": 1, \"78\": 2, \"67\": 1}, \"65\": {\"65\": 2, \"114\": 2, \"88\": 2, \"110\": 1, \"71\": 1, \"46\": 1, \"66\": 1}, \"54\": {\"54\": 12}, \"31\": {\"43\": 1, \"44\": 1, \"31\": 2, \"57\": 2, \"10\": 1, \"11\": 2, \"90\": 1}, \"42\": {\"31\": 1, \"42\": 4, \"80\": 1, \"24\": 1, \"98\": 1, \"91\": 1, \"123\": 1, \"29\": 1, \"101\": 1}, \"68\": {\"14\": 1, \"68\": 8, \"58\": 1, \"30\": 2}, \"15\": {\"15\": 9, \"34\": 1, \"106\": 1, \"59\": 1}, \"69\": {\"102\": 2, \"33\": 1, \"107\": 1, \"50\": 1, \"1\": 1, \"69\": 3, \"105\": 1, \"14\": 2}, \"17\": {\"17\": 3, \"57\": 1, \"9\": 1, \"19\": 1, \"87\": 1, \"11\": 1, \"122\": 1, \"31\": 1}, \"73\": {\"73\": 11, \"15\": 1}, \"121\": {\"121\": 6, \"116\": 1, \"20\": 2, \"66\": 1, \"84\": 1, \"43\": 1}, \"102\": {\"69\": 1, \"102\": 8, \"1\": 1, \"50\": 1, \"118\": 1}, \"48\": {\"53\": 1, \"69\": 1, \"16\": 1, \"108\": 1, \"48\": 2, \"76\": 2, \"109\": 1, \"104\": 1, \"116\": 1, \"70\": 1}, \"23\": {\"57\": 2, \"90\": 1, \"21\": 1, \"99\": 2, \"113\": 1, \"128\": 2, \"23\": 1, \"44\": 2}, \"108\": {\"57\": 3, \"69\": 1, \"49\": 1, \"87\": 1, \"117\": 1, \"16\": 1, \"86\": 1, \"107\": 1, \"122\": 1, \"39\": 1}, \"53\": {\"53\": 5, \"23\": 1, \"74\": 1, \"28\": 1, \"33\": 1, \"116\": 1, \"61\": 1, \"95\": 1}, \"94\": {\"94\": 8, \"25\": 2}, \"41\": {\"41\": 8, \"31\": 1, \"85\": 1, \"22\": 1, \"45\": 1}, \"58\": {\"58\": 10, \"17\": 1, \"13\": 1}, \"29\": {\"29\": 2, \"104\": 1, \"92\": 3, \"93\": 1, \"84\": 1, \"118\": 1, \"105\": 1, \"113\": 2}, \"116\": {\"121\": 1, \"60\": 1, \"28\": 2, \"35\": 1, \"88\": 1, \"116\": 1, \"74\": 1, \"9\": 1, \"76\": 1, \"56\": 1, \"17\": 1}, \"60\": {\"47\": 2, \"39\": 1, \"48\": 1, \"74\": 1, \"99\": 1, \"44\": 1, \"128\": 1, \"60\": 2, \"21\": 1, \"17\": 1}, \"104\": {\"40\": 2, \"104\": 4, \"11\": 1, \"38\": 1, \"16\": 2, \"71\": 1, \"64\": 1}, \"106\": {\"106\": 8, \"15\": 2, \"98\": 1, \"51\": 1}, \"66\": {\"66\": 8, \"119\": 1, \"45\": 1, \"64\": 2}, \"47\": {\"60\": 1, \"47\": 6, \"127\": 1, \"80\": 1, \"35\": 2, \"56\": 1}, \"40\": {\"14\": 2, \"9\": 2, \"11\": 1, \"74\": 1, \"129\": 1, \"119\": 1, \"13\": 1, \"62\": 1, \"50\": 1, \"71\": 1}, \"82\": {\"121\": 1, \"14\": 1, \"82\": 3, \"26\": 1, \"128\": 1, \"114\": 1, \"1\": 1, \"33\": 1, \"62\": 2}, \"13\": {\"11\": 2, \"10\": 1, \"13\": 1, \"9\": 1, \"62\": 1, \"26\": 1, \"109\": 1, \"100\": 1, \"85\": 1, \"113\": 2}, \"19\": {\"17\": 1, \"19\": 1, \"128\": 1, \"103\": 2, \"64\": 1, \"100\": 1, \"109\": 2, \"108\": 1, \"72\": 1, \"8\": 1}, \"72\": {\"72\": 5, \"101\": 3, \"91\": 1, \"68\": 1, \"12\": 1, \"58\": 1}, \"9\": {\"19\": 1, \"76\": 1, \"109\": 1, \"9\": 4, \"23\": 2, \"92\": 1, \"115\": 1, \"11\": 1}, \"67\": {\"67\": 10, \"117\": 1, \"45\": 1}, \"11\": {\"19\": 1, \"13\": 1, \"20\": 1, \"11\": 1, \"49\": 2, \"95\": 2, \"62\": 1, \"43\": 1, \"76\": 1, \"88\": 1}, \"125\": {\"125\": 12}, \"76\": {\"76\": 5, \"19\": 1, \"49\": 1, \"116\": 1}, \"83\": {\"101\": 1, \"83\": 7, \"52\": 1, \"7\": 1, \"98\": 1, \"58\": 1}, \"74\": {\"74\": 9, \"54\": 1, \"11\": 1, \"9\": 1}, \"20\": {\"20\": 9, \"99\": 1, \"109\": 1, \"88\": 1}, \"119\": {\"119\": 7, \"74\": 1, \"61\": 1, \"50\": 2, \"45\": 1}, \"1\": {\"18\": 2, \"116\": 1, \"102\": 1, \"3\": 2, \"16\": 1, \"107\": 1, \"84\": 1, \"46\": 1, \"78\": 1, \"82\": 1}, \"16\": {\"18\": 1, \"87\": 1, \"56\": 1, \"16\": 5, \"67\": 1, \"84\": 1, \"99\": 1, \"63\": 1}, \"25\": {\"25\": 11, \"108\": 1}, \"90\": {\"28\": 2, \"90\": 1, \"10\": 1, \"20\": 1, \"56\": 2, \"57\": 1}, \"39\": {\"43\": 1, \"21\": 1, \"10\": 2, \"45\": 1, \"86\": 1, \"50\": 1, \"53\": 1, \"76\": 1, \"116\": 1, \"57\": 2}, \"28\": {\"28\": 10, \"38\": 1, \"64\": 1}, \"55\": {\"117\": 1, \"55\": 6, \"122\": 2, \"71\": 1, \"81\": 1, \"84\": 1}, \"117\": {\"117\": 6, \"2\": 1, \"85\": 1, \"93\": 1, \"124\": 1, \"14\": 2}, \"112\": {\"112\": 6, \"63\": 1, \"53\": 1, \"124\": 1, \"71\": 1, \"41\": 1, \"129\": 1}, \"38\": {\"104\": 1, \"28\": 1, \"53\": 2, \"100\": 1, \"62\": 1, \"22\": 1, \"26\": 1, \"41\": 1, \"45\": 1, \"38\": 1, \"23\": 1}, \"37\": {\"37\": 8, \"83\": 1, \"0\": 1, \"51\": 2}, \"120\": {\"104\": 1, \"120\": 7, \"31\": 1, \"118\": 1, \"100\": 1, \"23\": 1}, \"122\": {\"122\": 1, \"10\": 1, \"99\": 3, \"118\": 2, \"117\": 1, \"69\": 2, \"57\": 2}, \"50\": {\"13\": 2, \"117\": 1, \"50\": 2, \"69\": 2, \"100\": 2, \"40\": 1, \"71\": 1, \"33\": 1}, \"10\": {\"10\": 7, \"48\": 1, \"88\": 2, \"43\": 1, \"84\": 1}, \"5\": {\"5\": 5, \"127\": 1, \"71\": 1, \"4\": 1, \"84\": 1, \"69\": 1, \"117\": 1, \"3\": 1}, \"51\": {\"51\": 9, \"97\": 1, \"98\": 1, \"37\": 1}, \"3\": {\"48\": 2, \"32\": 1, \"61\": 1, \"3\": 1, \"116\": 1, \"39\": 2, \"88\": 2, \"108\": 1, \"122\": 1}, \"98\": {\"34\": 1, \"98\": 6, \"83\": 1, \"0\": 1, \"51\": 1, \"63\": 1, \"21\": 1}, \"70\": {\"48\": 1, \"42\": 1, \"126\": 2, \"88\": 1, \"99\": 1, \"128\": 1, \"104\": 1, \"76\": 2, \"112\": 1, \"70\": 1}, \"96\": {\"23\": 1, \"96\": 1, \"55\": 1, \"70\": 1, \"81\": 2, \"128\": 1, \"16\": 1, \"45\": 1, \"93\": 1, \"102\": 1, \"80\": 1}, \"12\": {\"12\": 7, \"52\": 2, \"51\": 1, \"0\": 2}, \"99\": {\"99\": 12}, \"52\": {\"8\": 1, \"52\": 4, \"7\": 2, \"68\": 1, \"83\": 2, \"47\": 1, \"60\": 1}, \"71\": {\"71\": 9, \"115\": 1, \"118\": 1, \"92\": 1}, \"89\": {\"71\": 1, \"89\": 3, \"26\": 1, \"41\": 1, \"85\": 2, \"62\": 1, \"53\": 1, \"3\": 1, \"69\": 1}, \"0\": {\"8\": 1, \"12\": 3, \"0\": 7, \"30\": 1}, \"4\": {\"4\": 4, \"114\": 1, \"117\": 1, \"116\": 1, \"121\": 1, \"118\": 1, \"120\": 1, \"71\": 1, \"13\": 1}, \"93\": {\"93\": 8, \"81\": 1, \"26\": 1, \"29\": 1, \"14\": 1}, \"6\": {\"6\": 8, \"36\": 2}, \"75\": {\"75\": 12}, \"62\": {\"62\": 8, \"93\": 1, \"64\": 1, \"26\": 1, \"56\": 1}, \"103\": {\"9\": 2, \"128\": 2, \"32\": 1, \"103\": 4, \"88\": 2, \"62\": 1}, \"30\": {\"91\": 2, \"72\": 1, \"58\": 1, \"30\": 5, \"28\": 1, \"44\": 1, \"65\": 1}, \"91\": {\"99\": 1, \"91\": 3, \"0\": 1, \"7\": 1, \"100\": 1, \"128\": 2, \"30\": 1, \"57\": 2}, \"27\": {\"6\": 2, \"97\": 1, \"27\": 6, \"111\": 1, \"24\": 1, \"7\": 1}, \"26\": {\"82\": 1, \"26\": 4, \"93\": 2, \"81\": 2, \"16\": 1, \"105\": 1, \"69\": 1}, \"61\": {\"119\": 2, \"92\": 2, \"61\": 2, \"116\": 2, \"86\": 1, \"67\": 3}, \"118\": {\"92\": 2, \"62\": 1, \"69\": 1, \"88\": 1, \"3\": 1, \"109\": 2, \"86\": 1, \"87\": 1, \"100\": 2}, \"92\": {\"29\": 2, \"92\": 5, \"99\": 1, \"3\": 1, \"100\": 1, \"128\": 1, \"2\": 1}, \"111\": {\"0\": 2, \"111\": 9, \"83\": 1}, \"32\": {\"32\": 4, \"91\": 1, \"44\": 1, \"88\": 2, \"57\": 1, \"100\": 1, \"128\": 2}, \"88\": {\"88\": 5, \"99\": 1, \"4\": 1, \"103\": 1, \"11\": 1, \"76\": 1}}, \"C_A_1\": {\"46\": {\"46\": 9, \"9\": 1, \"4\": 1, \"8\": 1}, \"16\": {\"16\": 9, \"37\": 1, \"36\": 2}, \"26\": {\"26\": 12}, \"10\": {\"22\": 1, \"10\": 7, \"23\": 1, \"49\": 1, \"21\": 1, \"28\": 1}, \"9\": {\"9\": 10}, \"28\": {\"28\": 11, \"24\": 1}, \"51\": {\"55\": 1, \"51\": 8, \"53\": 1, \"16\": 1, \"7\": 1}, \"1\": {\"1\": 11, \"30\": 1}, \"55\": {\"55\": 11, \"54\": 1}, \"27\": {\"27\": 6, \"28\": 2, \"24\": 2}, \"22\": {\"16\": 2, \"22\": 2, \"21\": 3, \"10\": 1, \"52\": 1, \"15\": 1, \"11\": 2}, \"52\": {\"55\": 1, \"10\": 1, \"0\": 1, \"52\": 4, \"47\": 1, \"27\": 1, \"22\": 1, \"11\": 1, \"38\": 1}, \"3\": {\"3\": 8, \"57\": 1, \"22\": 1, \"40\": 2}, \"33\": {\"33\": 8}, \"47\": {\"47\": 6, \"1\": 1, \"56\": 1, \"44\": 2, \"42\": 1, \"27\": 1}, \"42\": {\"42\": 12}, \"12\": {\"12\": 4}, \"23\": {\"23\": 11, \"49\": 1}, \"49\": {\"49\": 10}, \"7\": {\"7\": 12}, \"4\": {\"4\": 11, \"50\": 1}, \"50\": {\"50\": 12}, \"19\": {\"19\": 10, \"57\": 1, \"1\": 1}, \"11\": {\"11\": 7, \"15\": 3, \"52\": 1, \"22\": 1}, \"31\": {\"23\": 2, \"7\": 1, \"31\": 6, \"32\": 1}, \"41\": {\"41\": 12}, \"56\": {\"56\": 7, \"19\": 2, \"1\": 1}, \"0\": {\"0\": 10, \"15\": 1, \"38\": 1}, \"57\": {\"19\": 3, \"57\": 6, \"1\": 3}, \"53\": {\"53\": 12}, \"43\": {\"43\": 12}, \"37\": {\"37\": 12}, \"2\": {\"2\": 7, \"5\": 1}, \"6\": {\"6\": 7, \"46\": 2, \"17\": 1, \"48\": 2}, \"18\": {\"18\": 11, \"30\": 1}, \"38\": {\"38\": 12}, \"15\": {\"15\": 9, \"27\": 1, \"11\": 2}, \"36\": {\"36\": 12}, \"39\": {\"39\": 8}, \"44\": {\"44\": 8, \"18\": 1, \"35\": 1, \"23\": 2}, \"8\": {\"8\": 11, \"30\": 1}, \"17\": {\"17\": 10}, \"5\": {\"7\": 1, \"5\": 7, \"14\": 1, \"45\": 1, \"37\": 2}, \"13\": {\"13\": 10}, \"40\": {\"42\": 1, \"40\": 6, \"4\": 3}, \"29\": {\"29\": 6, \"44\": 1, \"57\": 2, \"5\": 1, \"42\": 1, \"20\": 1}, \"48\": {\"48\": 12}, \"32\": {\"32\": 12}, \"30\": {\"30\": 12}, \"35\": {\"57\": 1, \"35\": 6, \"44\": 3, \"19\": 1, \"31\": 1}, \"25\": {\"25\": 12}, \"14\": {\"8\": 2, \"53\": 1, \"51\": 2, \"13\": 3, \"14\": 4}, \"54\": {\"54\": 9, \"55\": 1}, \"20\": {\"20\": 8}, \"21\": {\"21\": 10}, \"45\": {\"45\": 6, \"57\": 2}, \"24\": {\"21\": 1, \"24\": 4, \"10\": 1, \"52\": 2}, \"34\": {\"34\": 8}}, \"W_A_4\": {\"28\": {\"45\": 1, \"43\": 1, \"61\": 1, \"57\": 1, \"128\": 1, \"28\": 2, \"60\": 1, \"62\": 1, \"67\": 1, \"46\": 1, \"8\": 1}, \"4\": {\"114\": 1, \"4\": 2, \"42\": 1, \"1\": 1, \"95\": 1, \"71\": 2, \"55\": 1, \"56\": 1, \"69\": 1, \"0\": 1}, \"72\": {\"43\": 1, \"96\": 1, \"108\": 2, \"13\": 2, \"74\": 1, \"72\": 2, \"23\": 1, \"110\": 1, \"32\": 1}, \"111\": {\"111\": 8, \"30\": 1, \"12\": 2, \"85\": 1}, \"108\": {\"72\": 1, \"89\": 1, \"57\": 1, \"1\": 1, \"108\": 2, \"22\": 1, \"121\": 1, \"101\": 1, \"64\": 1, \"56\": 1, \"76\": 1}, \"43\": {\"72\": 1, \"14\": 1, \"8\": 1, \"115\": 1, \"128\": 1, \"105\": 1, \"118\": 1, \"13\": 1, \"99\": 1, \"43\": 1}, \"96\": {\"90\": 1, \"31\": 1, \"89\": 1, \"116\": 1, \"96\": 2, \"62\": 2, \"38\": 1, \"52\": 1, \"43\": 1, \"56\": 1}, \"89\": {\"45\": 1, \"72\": 1, \"89\": 2, \"48\": 2, \"96\": 1, \"86\": 1, \"35\": 1, \"118\": 1, \"60\": 1, \"17\": 1}, \"31\": {\"31\": 3, \"45\": 1, \"90\": 1, \"104\": 1, \"50\": 1, \"87\": 1, \"56\": 1, \"67\": 1, \"65\": 2}, \"45\": {\"45\": 8, \"74\": 1, \"92\": 1, \"44\": 1, \"17\": 1}, \"2\": {\"14\": 1, \"31\": 1, \"2\": 3, \"118\": 1, \"109\": 2, \"105\": 1, \"84\": 1, \"63\": 1, \"70\": 1}, \"114\": {\"31\": 1, \"4\": 1, \"40\": 1, \"1\": 1, \"129\": 1, \"50\": 1, \"83\": 1, \"114\": 4, \"82\": 1}, \"11\": {\"11\": 2, \"114\": 1, \"3\": 1, \"86\": 1, \"88\": 1, \"84\": 1, \"43\": 1, \"109\": 1, \"118\": 1, \"76\": 1, \"50\": 1}, \"12\": {\"12\": 7, \"111\": 2, \"58\": 1, \"98\": 1, \"9\": 1}, \"14\": {\"14\": 5, \"90\": 1, \"101\": 1, \"115\": 1, \"16\": 1, \"79\": 1, \"5\": 1, \"126\": 1}, \"90\": {\"28\": 1, \"89\": 1, \"90\": 5, \"45\": 1, \"67\": 1, \"22\": 2, \"66\": 1}, \"10\": {\"64\": 2, \"10\": 3, \"128\": 1, \"24\": 1, \"34\": 1, \"94\": 1, \"6\": 1, \"76\": 2}, \"63\": {\"64\": 1, \"63\": 7, \"69\": 1, \"67\": 2, \"70\": 1}, \"85\": {\"85\": 11, \"64\": 1}, \"64\": {\"64\": 9, \"88\": 1, \"23\": 1, \"120\": 1}, \"82\": {\"82\": 4, \"62\": 1, \"1\": 1, \"115\": 4, \"63\": 1, \"114\": 1}, \"58\": {\"10\": 2, \"58\": 8, \"111\": 1, \"91\": 1}, \"3\": {\"63\": 1, \"82\": 1, \"3\": 1, \"96\": 1, \"50\": 1, \"114\": 1, \"19\": 1, \"65\": 1, \"105\": 1, \"123\": 1, \"5\": 2}, \"54\": {\"54\": 12}, \"121\": {\"64\": 1, \"42\": 1, \"99\": 2, \"22\": 1, \"123\": 1, \"101\": 1, \"74\": 1, \"37\": 1, \"121\": 2, \"38\": 1}, \"42\": {\"64\": 3, \"37\": 2, \"42\": 1, \"104\": 1, \"119\": 1, \"82\": 1, \"100\": 1, \"92\": 1, \"23\": 1}, \"98\": {\"98\": 11, \"12\": 1}, \"123\": {\"121\": 1, \"123\": 3, \"67\": 1, \"40\": 1, \"108\": 1, \"120\": 1, \"49\": 1, \"42\": 1, \"81\": 1, \"33\": 1}, \"91\": {\"58\": 1, \"54\": 1, \"12\": 1, \"37\": 2, \"7\": 1, \"101\": 2, \"99\": 4}, \"66\": {\"57\": 1, \"72\": 1, \"66\": 4, \"21\": 1, \"119\": 1, \"90\": 4}, \"102\": {\"102\": 7, \"107\": 3, \"117\": 1, \"73\": 1}, \"122\": {\"1\": 1, \"102\": 1, \"88\": 1, \"118\": 1, \"104\": 1, \"74\": 1, \"18\": 1, \"8\": 1, \"63\": 2, \"43\": 1, \"11\": 1}, \"1\": {\"95\": 1, \"62\": 1, \"1\": 4, \"86\": 1, \"114\": 1, \"45\": 1, \"13\": 1, \"16\": 1, \"69\": 1}, \"15\": {\"15\": 7, \"125\": 1, \"9\": 2, \"34\": 1, \"58\": 1}, \"97\": {\"57\": 1, \"68\": 1, \"54\": 1, \"9\": 1, \"59\": 2, \"101\": 1, \"97\": 2, \"40\": 1, \"47\": 1, \"8\": 1}, \"75\": {\"75\": 12}, \"95\": {\"95\": 5, \"62\": 1, \"46\": 1, \"127\": 1, \"32\": 1, \"71\": 1, \"115\": 1, \"86\": 1}, \"57\": {\"62\": 1, \"57\": 10, \"109\": 1}, \"68\": {\"68\": 9, \"53\": 1, \"30\": 1, \"106\": 1}, \"125\": {\"125\": 12}, \"62\": {\"122\": 2, \"62\": 3, \"87\": 1, \"105\": 1, \"2\": 1, \"67\": 1, \"82\": 1}, \"27\": {\"99\": 2, \"37\": 2, \"2\": 1, \"21\": 1, \"27\": 1, \"101\": 1, \"98\": 1, \"7\": 2, \"127\": 1}, \"120\": {\"120\": 12}, \"26\": {\"63\": 2, \"26\": 6, \"45\": 1, \"118\": 1, \"13\": 1, \"76\": 1}, \"55\": {\"46\": 2, \"13\": 1, \"2\": 1, \"55\": 3, \"81\": 2, \"40\": 1, \"43\": 1, \"84\": 1}, \"71\": {\"55\": 2, \"71\": 4, \"19\": 1, \"88\": 1, \"50\": 1, \"14\": 1, \"44\": 1, \"95\": 1}, \"22\": {\"99\": 1, \"22\": 7, \"116\": 1, \"20\": 1, \"89\": 1, \"118\": 1}, \"99\": {\"99\": 9, \"128\": 1, \"21\": 1, \"43\": 1}, \"84\": {\"84\": 3, \"26\": 1, \"103\": 1, \"40\": 1, \"81\": 1, \"39\": 2, \"13\": 1, \"43\": 1, \"18\": 1}, \"37\": {\"37\": 4, \"91\": 1, \"7\": 2, \"64\": 2, \"70\": 1, \"8\": 1, \"0\": 1}, \"83\": {\"26\": 1, \"27\": 1, \"83\": 5, \"19\": 1, \"14\": 1, \"121\": 1, \"103\": 1, \"117\": 1}, \"46\": {\"13\": 2, \"46\": 5, \"40\": 3, \"18\": 1, \"118\": 1}, \"35\": {\"26\": 1, \"120\": 1, \"117\": 2, \"35\": 2, \"110\": 1, \"1\": 1, \"92\": 1, \"78\": 1, \"16\": 1, \"46\": 1}, \"13\": {\"46\": 3, \"55\": 1, \"118\": 1, \"13\": 5, \"50\": 1, \"87\": 1}, \"53\": {\"53\": 8, \"8\": 1, \"11\": 1, \"21\": 1, \"37\": 1}, \"127\": {\"127\": 5, \"95\": 1, \"53\": 1, \"101\": 1, \"124\": 1, \"99\": 1, \"111\": 1, \"50\": 1}, \"69\": {\"8\": 1, \"69\": 3, \"50\": 1, \"86\": 2, \"81\": 1, \"78\": 1, \"33\": 1, \"1\": 1, \"40\": 1}, \"48\": {\"115\": 1, \"48\": 2, \"114\": 1, \"113\": 1, \"123\": 1, \"109\": 1, \"67\": 1, \"90\": 1, \"62\": 1, \"82\": 1, \"85\": 1}, \"16\": {\"16\": 9, \"33\": 1, \"67\": 1, \"18\": 1}, \"0\": {\"127\": 1, \"89\": 1, \"119\": 2, \"85\": 1, \"120\": 3, \"1\": 2, \"23\": 1, \"0\": 1}, \"8\": {\"8\": 8, \"119\": 2, \"74\": 1, \"28\": 1}, \"9\": {\"9\": 6, \"34\": 1, \"106\": 2, \"30\": 1, \"77\": 1, \"51\": 1}, \"115\": {\"82\": 1, \"69\": 1, \"44\": 2, \"67\": 1, \"81\": 1, \"2\": 1, \"105\": 1, \"71\": 2, \"23\": 1, \"115\": 1}, \"70\": {\"95\": 1, \"70\": 2, \"78\": 2, \"21\": 2, \"8\": 1, \"56\": 1, \"43\": 1, \"119\": 1, \"102\": 1}, \"119\": {\"119\": 6, \"42\": 1, \"78\": 2, \"60\": 1, \"57\": 1, \"76\": 1}, \"59\": {\"59\": 8, \"97\": 2, \"47\": 2}, \"52\": {\"52\": 11, \"87\": 1}, \"60\": {\"52\": 1, \"119\": 1, \"14\": 1, \"99\": 2, \"90\": 1, \"62\": 1, \"33\": 1, \"48\": 2, \"11\": 1, \"60\": 1}, \"44\": {\"44\": 7, \"17\": 1, \"126\": 1, \"82\": 1, \"74\": 1, \"99\": 1}, \"51\": {\"51\": 8, \"70\": 1, \"47\": 1, \"111\": 1, \"6\": 1}, \"6\": {\"6\": 8, \"59\": 2, \"34\": 1, \"94\": 1}, \"73\": {\"69\": 1, \"50\": 1, \"73\": 3, \"92\": 1, \"114\": 1, \"81\": 1, \"55\": 2, \"31\": 2}, \"78\": {\"63\": 1, \"78\": 4, \"64\": 2, \"81\": 1, \"0\": 2, \"109\": 1, \"39\": 1}, \"92\": {\"104\": 2, \"92\": 4, \"16\": 1, \"123\": 1, \"8\": 1, \"35\": 2, \"69\": 1}, \"20\": {\"78\": 2, \"20\": 5, \"43\": 1, \"38\": 1, \"66\": 1, \"121\": 1, \"21\": 1}, \"17\": {\"17\": 10, \"62\": 2}, \"74\": {\"45\": 1, \"74\": 8, \"126\": 1, \"70\": 2}, \"19\": {\"69\": 1, \"45\": 3, \"110\": 1, \"71\": 1, \"65\": 2, \"62\": 3, \"107\": 1}, \"50\": {\"69\": 1, \"50\": 2, \"73\": 1, \"17\": 1, \"81\": 1, \"87\": 1, \"19\": 1, \"107\": 1, \"102\": 1, \"126\": 1, \"104\": 1}, \"34\": {\"73\": 1, \"92\": 1, \"34\": 6, \"6\": 1, \"25\": 1, \"13\": 1, \"59\": 1}, \"104\": {\"104\": 3, \"63\": 1, \"109\": 1, \"67\": 1, \"14\": 1, \"26\": 1}, \"33\": {\"33\": 5, \"16\": 1, \"2\": 1, \"109\": 1, \"117\": 1, \"43\": 1, \"92\": 1, \"1\": 1}, \"5\": {\"5\": 3, \"16\": 1, \"18\": 1, \"126\": 1, \"107\": 1, \"87\": 1, \"115\": 1, \"2\": 1, \"81\": 2}, \"7\": {\"7\": 9, \"128\": 2, \"64\": 1}, \"29\": {\"29\": 10, \"98\": 1, \"12\": 1}, \"25\": {\"25\": 11, \"36\": 1}, \"124\": {\"5\": 1, \"73\": 1, \"124\": 8, \"127\": 1, \"112\": 1}, \"117\": {\"88\": 1, \"117\": 4, \"45\": 1, \"26\": 3, \"81\": 1, \"64\": 1, \"102\": 1}, \"88\": {\"11\": 2, \"45\": 2, \"19\": 1, \"88\": 1, \"31\": 1, \"120\": 1, \"60\": 2, \"119\": 2}, \"61\": {\"3\": 1, \"11\": 1, \"65\": 3, \"61\": 6, \"8\": 1}, \"86\": {\"86\": 4, \"116\": 1, \"72\": 2, \"84\": 1, \"82\": 1, \"81\": 1, \"49\": 1, \"87\": 1}, \"116\": {\"96\": 2, \"109\": 2, \"79\": 2, \"57\": 1, \"116\": 2, \"17\": 1, \"69\": 1, \"123\": 1}, \"24\": {\"24\": 5, \"111\": 1, \"54\": 2, \"99\": 1, \"25\": 1, \"36\": 2}, \"128\": {\"128\": 5, \"99\": 2, \"64\": 1, \"43\": 1, \"20\": 1, \"23\": 1, \"110\": 1}, \"101\": {\"65\": 1, \"101\": 1, \"112\": 1, \"87\": 1, \"90\": 1, \"100\": 1, \"12\": 1, \"103\": 1, \"113\": 1, \"27\": 1, \"95\": 2}, \"65\": {\"65\": 7, \"0\": 1, \"110\": 2}, \"36\": {\"24\": 1, \"10\": 1, \"36\": 8, \"53\": 1, \"51\": 1}, \"21\": {\"21\": 8, \"99\": 1, \"122\": 1, \"78\": 2}, \"106\": {\"96\": 1, \"106\": 8, \"41\": 1, \"68\": 1, \"95\": 1}, \"118\": {\"13\": 1, \"2\": 1, \"88\": 1, \"14\": 1, \"100\": 2, \"1\": 2, \"46\": 1, \"60\": 1, \"113\": 1, \"118\": 1}, \"113\": {\"45\": 2, \"50\": 1, \"113\": 1, \"100\": 1, \"118\": 1, \"120\": 1, \"90\": 1, \"37\": 2, \"119\": 1, \"109\": 1}, \"40\": {\"117\": 1, \"1\": 2, \"13\": 1, \"86\": 1, \"109\": 1, \"40\": 4, \"46\": 1, \"122\": 1}, \"93\": {\"40\": 2, \"26\": 1, \"95\": 1, \"39\": 1, \"7\": 1, \"93\": 1, \"50\": 1}, \"94\": {\"94\": 7, \"34\": 1, \"25\": 1, \"6\": 2, \"10\": 1}, \"103\": {\"71\": 2, \"18\": 1, \"84\": 1, \"129\": 2, \"112\": 1, \"101\": 1, \"103\": 1, \"87\": 1, \"4\": 1, \"24\": 1}, \"110\": {\"88\": 1, \"110\": 3, \"93\": 1, \"78\": 1, \"109\": 1, \"7\": 1, \"82\": 2, \"128\": 1, \"60\": 1}, \"56\": {\"33\": 1, \"56\": 4, \"92\": 1, \"74\": 1, \"87\": 1, \"124\": 1, \"31\": 1, \"122\": 1, \"55\": 1}, \"39\": {\"119\": 2, \"78\": 1, \"32\": 1, \"128\": 1, \"102\": 1, \"21\": 2, \"43\": 2, \"39\": 1, \"60\": 1}, \"109\": {\"119\": 1, \"33\": 1, \"7\": 1, \"40\": 1, \"38\": 1, \"109\": 1, \"60\": 2, \"118\": 2, \"126\": 1, \"50\": 1}, \"67\": {\"17\": 2, \"67\": 5, \"110\": 1, \"62\": 1, \"84\": 1, \"7\": 1, \"63\": 1}, \"129\": {\"113\": 1, \"3\": 1, \"129\": 4, \"18\": 1, \"126\": 1, \"0\": 1, \"69\": 1, \"93\": 2}, \"30\": {\"30\": 8, \"111\": 1, \"19\": 1, \"15\": 2}, \"126\": {\"74\": 4, \"18\": 1, \"38\": 1, \"32\": 1, \"5\": 1, \"37\": 2, \"26\": 1, \"76\": 1}, \"87\": {\"21\": 1, \"81\": 1, \"78\": 2, \"32\": 1, \"5\": 1, \"50\": 1, \"87\": 1, \"0\": 1, \"31\": 1, \"1\": 1, \"99\": 1}, \"112\": {\"112\": 12}, \"100\": {\"76\": 1, \"100\": 5, \"128\": 1, \"20\": 1, \"37\": 2, \"28\": 1, \"8\": 1}, \"79\": {\"79\": 8, \"35\": 2}, \"81\": {\"118\": 1, \"113\": 1, \"81\": 6, \"67\": 1, \"64\": 1, \"55\": 1, \"69\": 1}, \"76\": {\"21\": 1, \"76\": 3, \"78\": 2, \"38\": 1, \"20\": 1, \"99\": 1, \"45\": 1}, \"47\": {\"47\": 10, \"21\": 1, \"97\": 1}, \"77\": {\"77\": 12}, \"23\": {\"120\": 2, \"23\": 4, \"7\": 1, \"32\": 2, \"95\": 1, \"64\": 1, \"78\": 1}, \"18\": {\"84\": 2, \"18\": 9, \"16\": 1}, \"49\": {\"103\": 2, \"110\": 1, \"48\": 1, \"43\": 1, \"49\": 2, \"105\": 1, \"123\": 1, \"65\": 1, \"53\": 1, \"17\": 1}, \"41\": {\"99\": 1, \"41\": 4, \"48\": 1, \"125\": 1, \"38\": 1, \"8\": 1, \"12\": 1, \"56\": 1, \"7\": 1}, \"32\": {\"110\": 1, \"119\": 1, \"38\": 2, \"32\": 2, \"72\": 2, \"78\": 2, \"76\": 2}, \"107\": {\"18\": 1, \"102\": 1, \"87\": 1, \"112\": 1, \"67\": 1, \"84\": 1, \"33\": 1, \"107\": 2, \"17\": 1}, \"80\": {\"80\": 10, \"126\": 1, \"81\": 1}, \"105\": {\"105\": 1, \"43\": 1, \"87\": 2, \"115\": 2, \"114\": 1, \"62\": 1, \"113\": 2}, \"38\": {\"80\": 1, \"38\": 9}}, \"W_A_1\": {\"108\": {\"57\": 2, \"78\": 1, \"108\": 1, \"20\": 1, \"35\": 1, \"48\": 1, \"91\": 1, \"23\": 2}, \"40\": {\"110\": 1, \"102\": 1, \"33\": 1, \"5\": 2, \"126\": 2, \"40\": 2, \"19\": 1, \"114\": 1, \"105\": 1}, \"68\": {\"68\": 9, \"71\": 1, \"32\": 1, \"12\": 1}, \"23\": {\"23\": 8, \"65\": 1, \"76\": 1, \"50\": 1, \"120\": 1}, \"26\": {\"23\": 1, \"102\": 1, \"62\": 1, \"26\": 5, \"33\": 2, \"100\": 1, \"73\": 1}, \"64\": {\"57\": 1, \"64\": 8, \"99\": 1, \"126\": 1, \"4\": 1}, \"22\": {\"22\": 5, \"104\": 1, \"19\": 1, \"50\": 1, \"63\": 1, \"105\": 2, \"45\": 1}, \"3\": {\"23\": 1, \"4\": 1, \"3\": 6, \"19\": 1, \"122\": 1, \"2\": 2}, \"4\": {\"40\": 1, \"110\": 1, \"83\": 1, \"116\": 1, \"4\": 3, \"84\": 1, \"114\": 1, \"100\": 1, \"62\": 1, \"77\": 1}, \"70\": {\"57\": 1, \"23\": 1, \"77\": 1, \"70\": 4, \"35\": 1, \"72\": 1, \"11\": 1, \"63\": 1, \"38\": 1}, \"57\": {\"57\": 12}, \"79\": {\"79\": 8, \"47\": 1, \"116\": 1, \"124\": 1, \"119\": 1}, \"9\": {\"110\": 1, \"64\": 1, \"73\": 1, \"17\": 1, \"39\": 1, \"9\": 1, \"72\": 2, \"101\": 2, \"124\": 2}, \"89\": {\"9\": 1, \"89\": 6, \"16\": 1, \"49\": 1, \"101\": 1, \"107\": 1, \"70\": 1}, \"110\": {\"110\": 4, \"18\": 1, \"13\": 1, \"95\": 1, \"55\": 2, \"76\": 2, \"66\": 1}, \"102\": {\"40\": 4, \"82\": 1, \"33\": 3, \"19\": 1, \"102\": 2, \"14\": 1}, \"31\": {\"31\": 12}, \"58\": {\"68\": 2, \"58\": 7, \"32\": 1, \"122\": 1, \"29\": 1}, \"47\": {\"96\": 1, \"47\": 6, \"123\": 1, \"72\": 1, \"102\": 1, \"9\": 1, \"99\": 1}, \"24\": {\"24\": 3, \"58\": 1, \"34\": 2, \"44\": 1, \"30\": 1, \"97\": 1, \"41\": 2, \"83\": 1}, \"19\": {\"19\": 2, \"11\": 1, \"67\": 1, \"17\": 1, \"87\": 4, \"18\": 1, \"8\": 1, \"128\": 1}, \"11\": {\"57\": 1, \"11\": 6, \"44\": 2, \"23\": 1, \"77\": 2}, \"52\": {\"52\": 12}, \"17\": {\"115\": 2, \"17\": 8, \"67\": 2}, \"25\": {\"25\": 7, \"17\": 1, \"87\": 1, \"76\": 1, \"20\": 1, \"63\": 1}, \"69\": {\"69\": 3, \"118\": 2, \"114\": 1, \"13\": 1, \"43\": 1, \"19\": 1, \"113\": 2, \"63\": 1}, \"96\": {\"83\": 1, \"109\": 1, \"96\": 2, \"63\": 1, \"72\": 2, \"2\": 1, \"66\": 1, \"44\": 1, \"79\": 1, \"95\": 1}, \"109\": {\"109\": 2, \"57\": 1, \"19\": 1, \"73\": 1, \"40\": 1, \"45\": 1, \"76\": 1, \"115\": 1, \"67\": 1, \"31\": 2}, \"115\": {\"115\": 5, \"19\": 1, \"93\": 1, \"122\": 2, \"82\": 1, \"63\": 1, \"44\": 1}, \"83\": {\"11\": 1, \"25\": 1, \"42\": 1, \"50\": 1, \"116\": 1, \"91\": 1, \"62\": 1, \"106\": 1, \"83\": 1, \"104\": 3}, \"84\": {\"122\": 1, \"119\": 1, \"21\": 1, \"16\": 1, \"4\": 1, \"2\": 1, \"69\": 1, \"1\": 1, \"17\": 2, \"23\": 1, \"84\": 1}, \"119\": {\"119\": 5, \"63\": 2, \"99\": 1, \"45\": 1, \"78\": 1}, \"122\": {\"122\": 1, \"1\": 1, \"115\": 2, \"63\": 1, \"105\": 1, \"57\": 1, \"109\": 1, \"14\": 1, \"31\": 1}, \"99\": {\"99\": 11, \"11\": 1}, \"1\": {\"122\": 1, \"1\": 7, \"19\": 1, \"50\": 1, \"5\": 1, \"62\": 1}, \"74\": {\"74\": 8, \"7\": 1, \"78\": 1, \"48\": 1, \"50\": 1}, \"85\": {\"85\": 7, \"127\": 1, \"45\": 1, \"103\": 1, \"97\": 1, \"32\": 1}, \"127\": {\"127\": 11, \"58\": 1}, \"111\": {\"88\": 1, \"111\": 9, \"15\": 1, \"12\": 1}, \"53\": {\"53\": 11, \"37\": 1}, \"88\": {\"127\": 3, \"36\": 4, \"88\": 2, \"3\": 1, \"75\": 2}, \"65\": {\"23\": 1, \"74\": 1, \"65\": 5, \"54\": 1, \"21\": 1, \"31\": 1}, \"7\": {\"7\": 12}, \"16\": {\"84\": 1, \"1\": 1, \"16\": 5, \"10\": 1, \"118\": 1, \"33\": 2, \"100\": 1}, \"128\": {\"104\": 1, \"128\": 4, \"80\": 1, \"10\": 3, \"31\": 1, \"2\": 2}, \"34\": {\"92\": 2, \"104\": 1, \"98\": 1, \"9\": 1, \"70\": 2, \"64\": 1, \"71\": 1, \"15\": 1, \"77\": 1, \"89\": 1}, \"129\": {\"17\": 1, \"129\": 5, \"14\": 2, \"33\": 1, \"80\": 1, \"102\": 2}, \"43\": {\"43\": 4, \"114\": 1, \"33\": 1, \"14\": 1, \"69\": 1, \"78\": 2, \"57\": 1, \"61\": 1}, \"92\": {\"92\": 8, \"34\": 1, \"30\": 2, \"53\": 1}, \"28\": {\"28\": 5, \"41\": 1, \"48\": 1, \"8\": 1, \"93\": 1, \"45\": 1, \"121\": 1, \"20\": 1}, \"27\": {\"53\": 1, \"27\": 5, \"32\": 1, \"59\": 2, \"71\": 1, \"52\": 2}, \"114\": {\"114\": 4, \"73\": 1, \"118\": 1, \"129\": 1, \"87\": 1, \"5\": 1, \"3\": 1, \"40\": 1, \"100\": 1}, \"73\": {\"129\": 2, \"117\": 2, \"73\": 4, \"118\": 1, \"72\": 1, \"43\": 2}, \"0\": {\"68\": 1, \"128\": 2, \"81\": 1, \"0\": 2, \"78\": 1, \"129\": 1, \"74\": 1, \"101\": 1, \"46\": 2}, \"104\": {\"128\": 1, \"104\": 8, \"50\": 1, \"67\": 1, \"31\": 1}, \"118\": {\"114\": 1, \"118\": 3, \"129\": 1, \"119\": 1, \"117\": 1, \"40\": 1, \"69\": 1, \"67\": 1, \"95\": 2}, \"41\": {\"41\": 5, \"7\": 1, \"44\": 2, \"55\": 2, \"96\": 1, \"10\": 1}, \"49\": {\"33\": 1, \"46\": 2, \"86\": 1, \"49\": 2, \"72\": 1, \"73\": 1, \"1\": 1, \"107\": 1, \"32\": 1, \"129\": 1}, \"14\": {\"33\": 3, \"14\": 4, \"2\": 1, \"117\": 1, \"115\": 1, \"102\": 1, \"122\": 1}, \"46\": {\"76\": 1, \"40\": 1, \"73\": 1, \"97\": 1, \"81\": 1, \"51\": 1, \"46\": 1, \"125\": 1, \"22\": 1, \"95\": 1, \"1\": 1, \"62\": 1}, \"33\": {\"14\": 1, \"33\": 7, \"62\": 2, \"39\": 2}, \"76\": {\"76\": 4, \"23\": 1, \"109\": 2, \"77\": 4, \"20\": 1}, \"125\": {\"125\": 12}, \"86\": {\"86\": 6, \"76\": 1, \"7\": 2, \"77\": 1}, \"66\": {\"76\": 2, \"64\": 1, \"66\": 4, \"121\": 2, \"90\": 1, \"123\": 1, \"56\": 1}, \"5\": {\"5\": 10, \"124\": 1, \"101\": 1}, \"117\": {\"117\": 6, \"118\": 3, \"82\": 1, \"63\": 1, \"14\": 1}, \"75\": {\"98\": 3, \"75\": 9}, \"61\": {\"61\": 7, \"31\": 1, \"120\": 2, \"2\": 2}, \"50\": {\"109\": 2, \"50\": 7, \"120\": 1, \"7\": 1, \"74\": 1}, \"67\": {\"18\": 1, \"67\": 6, \"69\": 1, \"80\": 2}, \"18\": {\"18\": 6, \"3\": 1, \"13\": 1, \"95\": 1, \"69\": 1, \"39\": 1, \"16\": 1}, \"98\": {\"98\": 12}, \"55\": {\"45\": 1, \"73\": 1, \"0\": 1, \"55\": 4, \"5\": 2, \"117\": 1}, \"32\": {\"32\": 10, \"97\": 1, \"17\": 1}, \"120\": {\"50\": 1, \"109\": 1, \"57\": 2, \"120\": 8}, \"97\": {\"46\": 1, \"97\": 7, \"91\": 3, \"12\": 1}, \"126\": {\"50\": 1, \"120\": 1, \"16\": 1, \"95\": 1, \"61\": 1, \"4\": 2, \"102\": 1, \"126\": 2, \"31\": 1, \"116\": 1}, \"45\": {\"126\": 1, \"40\": 1, \"122\": 1, \"105\": 1, \"80\": 1, \"128\": 1, \"39\": 2, \"45\": 1, \"72\": 1, \"2\": 2}, \"78\": {\"3\": 1, \"115\": 1, \"69\": 1, \"43\": 1, \"55\": 1, \"21\": 1, \"2\": 1, \"23\": 1, \"78\": 2}, \"100\": {\"115\": 1, \"3\": 1, \"19\": 2, \"105\": 1, \"100\": 2, \"114\": 1, \"16\": 2, \"84\": 2}, \"107\": {\"107\": 12}, \"93\": {\"115\": 1, \"3\": 1, \"93\": 1, \"82\": 1, \"24\": 1, \"48\": 1, \"120\": 2, \"85\": 1, \"39\": 1, \"80\": 1, \"72\": 1}, \"77\": {\"77\": 11, \"10\": 1}, \"63\": {\"3\": 2, \"2\": 1, \"119\": 1, \"63\": 3, \"87\": 1, \"19\": 1, \"69\": 1, \"128\": 1, \"38\": 1}, \"112\": {\"112\": 11, \"71\": 1}, \"113\": {\"113\": 7, \"13\": 2, \"77\": 1, \"1\": 2}, \"103\": {\"64\": 2, \"10\": 1, \"122\": 1, \"103\": 6}, \"71\": {\"71\": 8, \"15\": 1, \"37\": 2, \"30\": 1}, \"30\": {\"30\": 4, \"37\": 2, \"59\": 2, \"24\": 1, \"94\": 1, \"86\": 1, \"71\": 1}, \"90\": {\"90\": 8, \"38\": 1, \"96\": 2, \"121\": 1}, \"37\": {\"15\": 3, \"37\": 5, \"71\": 2, \"53\": 1, \"30\": 1}, \"60\": {\"64\": 1, \"65\": 1, \"60\": 4, \"49\": 1, \"116\": 1, \"11\": 1, \"23\": 1, \"104\": 1, \"7\": 1}, \"15\": {\"15\": 3, \"92\": 1, \"6\": 1, \"53\": 1, \"112\": 2, \"37\": 2, \"27\": 1, \"56\": 1}, \"39\": {\"39\": 2, \"114\": 1, \"113\": 1, \"100\": 2, \"42\": 1, \"87\": 1, \"118\": 1, \"57\": 1, \"16\": 1, \"33\": 1}, \"72\": {\"117\": 3, \"72\": 4, \"1\": 1, \"16\": 1, \"73\": 1, \"95\": 1, \"45\": 1}, \"54\": {\"7\": 1, \"119\": 1, \"93\": 1, \"38\": 1, \"78\": 2, \"47\": 2, \"45\": 1, \"54\": 1, \"21\": 1, \"95\": 1}, \"35\": {\"35\": 1, \"96\": 2, \"87\": 2, \"47\": 1, \"48\": 1, \"121\": 2, \"17\": 1, \"67\": 1, \"123\": 1}, \"2\": {\"7\": 1, \"118\": 1, \"2\": 5, \"44\": 1, \"26\": 2, \"43\": 2}, \"94\": {\"15\": 1, \"6\": 1, \"94\": 8, \"37\": 1, \"104\": 1}, \"42\": {\"87\": 3, \"25\": 3, \"42\": 4, \"28\": 1, \"66\": 1}, \"81\": {\"81\": 7, \"100\": 2, \"107\": 2, \"4\": 1}, \"8\": {\"8\": 10, \"21\": 1, \"48\": 1}, \"87\": {\"87\": 2, \"114\": 1, \"72\": 2, \"1\": 1, \"110\": 1, \"33\": 1, \"55\": 1, \"19\": 1, \"63\": 1, \"70\": 1}, \"6\": {\"6\": 3, \"53\": 3, \"56\": 1, \"15\": 1, \"94\": 2, \"37\": 1, \"27\": 1}, \"36\": {\"6\": 2, \"36\": 9, \"94\": 1}, \"91\": {\"91\": 3, \"87\": 1, \"75\": 2, \"21\": 1, \"20\": 2, \"48\": 1, \"77\": 1, \"12\": 1}, \"56\": {\"91\": 1, \"56\": 9, \"58\": 1, \"49\": 1}, \"80\": {\"87\": 2, \"80\": 5, \"62\": 2, \"18\": 1, \"112\": 1, \"45\": 1}, \"124\": {\"64\": 1, \"11\": 1, \"124\": 2, \"81\": 1, \"5\": 2, \"79\": 1, \"14\": 1, \"122\": 1}, \"44\": {\"44\": 6, \"7\": 1, \"48\": 3, \"28\": 2}, \"13\": {\"119\": 1, \"11\": 1, \"13\": 6, \"33\": 1, \"69\": 1, \"43\": 1, \"62\": 1}, \"10\": {\"77\": 1, \"10\": 2, \"128\": 3, \"21\": 3, \"70\": 1, \"8\": 1, \"61\": 1}, \"59\": {\"59\": 9, \"62\": 1, \"109\": 1, \"51\": 1}, \"95\": {\"103\": 1, \"95\": 4, \"62\": 2, \"33\": 1, \"10\": 1, \"17\": 1, \"65\": 1, \"102\": 1}, \"105\": {\"122\": 1, \"45\": 1, \"50\": 1, \"81\": 1, \"5\": 1, \"66\": 1, \"40\": 1, \"3\": 1, \"105\": 1, \"73\": 1, \"102\": 2}, \"101\": {\"101\": 8, \"4\": 2, \"26\": 1, \"43\": 1}, \"20\": {\"20\": 8, \"61\": 3, \"48\": 1}, \"48\": {\"21\": 2, \"48\": 8, \"77\": 1, \"123\": 1}, \"106\": {\"47\": 2, \"106\": 4, \"101\": 2, \"75\": 1, \"17\": 1, \"58\": 1, \"4\": 1}, \"51\": {\"51\": 11, \"125\": 1}, \"21\": {\"21\": 7, \"78\": 1, \"112\": 1, \"70\": 1, \"7\": 1, \"106\": 1}, \"123\": {\"123\": 8, \"62\": 1, \"78\": 1, \"43\": 1, \"26\": 1}, \"121\": {\"121\": 7, \"124\": 1, \"116\": 2, \"90\": 2}, \"38\": {\"38\": 10, \"21\": 1, \"8\": 1}, \"62\": {\"62\": 5, \"102\": 1, \"95\": 1, \"2\": 1, \"1\": 1, \"104\": 1, \"78\": 2}, \"29\": {\"29\": 9, \"25\": 1, \"38\": 2}, \"82\": {\"117\": 1, \"33\": 1, \"82\": 6, \"14\": 2, \"46\": 1, \"118\": 1}, \"116\": {\"83\": 1, \"121\": 2, \"29\": 1, \"84\": 1, \"79\": 1, \"62\": 1, \"116\": 4, \"119\": 1}, \"12\": {\"98\": 2, \"12\": 5, \"111\": 1}}, \"W_A_2\": {\"91\": {\"101\": 2, \"98\": 1, \"21\": 1, \"38\": 1, \"0\": 1, \"7\": 2, \"91\": 1, \"10\": 1, \"53\": 2}, \"12\": {\"12\": 4, \"10\": 1, \"38\": 1, \"8\": 1, \"109\": 1, \"13\": 1, \"7\": 1, \"49\": 1, \"68\": 1}, \"101\": {\"101\": 9, \"91\": 1}, \"121\": {\"28\": 1, \"117\": 1, \"64\": 2, \"76\": 1, \"124\": 1, \"23\": 1, \"121\": 2, \"90\": 1, \"100\": 1, \"60\": 1}, \"118\": {\"88\": 1, \"117\": 1, \"13\": 1, \"87\": 2, \"113\": 3, \"10\": 1, \"18\": 1, \"21\": 1, \"107\": 1}, \"10\": {\"88\": 2, \"10\": 10}, \"117\": {\"117\": 6, \"118\": 1, \"102\": 1, \"84\": 2, \"82\": 1, \"90\": 1}, \"110\": {\"118\": 1, \"106\": 1, \"110\": 4, \"102\": 1, \"85\": 2, \"104\": 1, \"73\": 1, \"14\": 1}, \"97\": {\"97\": 7, \"88\": 1, \"98\": 2, \"30\": 1, \"63\": 1}, \"28\": {\"88\": 1, \"126\": 1, \"90\": 1, \"67\": 1, \"43\": 1, \"25\": 2, \"76\": 1, \"8\": 1, \"110\": 1, \"28\": 1, \"116\": 1}, \"88\": {\"88\": 5, \"8\": 1, \"109\": 2, \"61\": 2, \"21\": 2}, \"17\": {\"126\": 1, \"12\": 1, \"105\": 1, \"100\": 1, \"115\": 2, \"7\": 1, \"62\": 1, \"109\": 2, \"17\": 2}, \"126\": {\"88\": 2, \"119\": 1, \"126\": 1, \"38\": 1, \"95\": 1, \"114\": 1, \"8\": 1, \"42\": 1, \"112\": 1, \"123\": 2}, \"33\": {\"33\": 9, \"118\": 1, \"71\": 2}, \"86\": {\"118\": 2, \"86\": 6, \"55\": 1, \"16\": 1, \"105\": 1, \"14\": 1}, \"106\": {\"106\": 11, \"58\": 1}, \"54\": {\"54\": 7, \"77\": 1, \"64\": 2, \"109\": 1, \"52\": 1}, \"125\": {\"125\": 11, \"36\": 1}, \"83\": {\"83\": 6, \"118\": 1, \"17\": 1, \"60\": 2, \"48\": 1, \"38\": 1}, \"98\": {\"98\": 10, \"97\": 1, \"101\": 1}, \"11\": {\"118\": 1, \"11\": 1, \"24\": 1, \"43\": 2, \"0\": 3, \"91\": 1, \"108\": 1, \"2\": 2}, \"32\": {\"61\": 1, \"32\": 4, \"115\": 1, \"63\": 2, \"7\": 2, \"123\": 2}, \"42\": {\"83\": 1, \"118\": 1, \"16\": 2, \"42\": 2, \"122\": 1, \"19\": 1, \"14\": 1, \"38\": 1, \"80\": 1, \"57\": 1}, \"103\": {\"103\": 9, \"4\": 1, \"5\": 1, \"73\": 1}, \"87\": {\"42\": 1, \"13\": 1, \"46\": 2, \"88\": 1, \"109\": 1, \"71\": 1, \"23\": 2, \"70\": 1, \"57\": 1, \"123\": 1}, \"61\": {\"61\": 11, \"64\": 1}, \"13\": {\"87\": 2, \"13\": 4, \"43\": 1, \"19\": 1, \"119\": 1, \"65\": 1, \"33\": 2}, \"4\": {\"4\": 5, \"69\": 3, \"102\": 1, \"17\": 1, \"26\": 1, \"83\": 1}, \"15\": {\"125\": 1, \"15\": 8, \"75\": 1}, \"120\": {\"53\": 1, \"72\": 1, \"116\": 2, \"8\": 2, \"57\": 1, \"120\": 4, \"119\": 1}, \"80\": {\"80\": 7, \"67\": 1, \"105\": 1, \"13\": 1, \"62\": 2}, \"72\": {\"80\": 1, \"110\": 1, \"72\": 3, \"3\": 2, \"57\": 1, \"70\": 1, \"100\": 1}, \"64\": {\"76\": 1, \"64\": 6, \"10\": 1, \"61\": 1, \"74\": 1, \"63\": 1, \"66\": 1}, \"81\": {\"102\": 1, \"81\": 6, \"69\": 1, \"86\": 1, \"19\": 1, \"82\": 2}, \"102\": {\"102\": 8, \"81\": 3, \"117\": 1}, \"76\": {\"53\": 1, \"76\": 6, \"66\": 3, \"109\": 2}, \"49\": {\"49\": 2, \"52\": 1, \"107\": 1, \"73\": 1, \"108\": 1, \"126\": 1, \"90\": 1, \"104\": 1, \"61\": 1}, \"129\": {\"102\": 2, \"73\": 1, \"107\": 1, \"129\": 8}, \"89\": {\"89\": 5, \"13\": 2, \"60\": 1, \"114\": 1, \"1\": 1, \"47\": 1, \"110\": 1}, \"52\": {\"53\": 1, \"89\": 1, \"52\": 4, \"78\": 2, \"38\": 1, \"90\": 1, \"37\": 1, \"76\": 1}, \"35\": {\"35\": 7, \"52\": 1, \"34\": 1, \"128\": 1, \"111\": 1, \"56\": 1}, \"53\": {\"53\": 8, \"34\": 1, \"61\": 2, \"58\": 1}, \"112\": {\"17\": 2, \"54\": 1, \"19\": 1, \"3\": 1, \"112\": 3, \"52\": 1, \"129\": 1, \"107\": 1, \"37\": 1}, \"105\": {\"69\": 1, \"100\": 1, \"71\": 1, \"95\": 1, \"122\": 1, \"84\": 1, \"1\": 1, \"80\": 1, \"4\": 1, \"105\": 2, \"62\": 1}, \"100\": {\"100\": 7, \"62\": 1, \"119\": 1, \"67\": 1, \"118\": 1, \"71\": 1}, \"9\": {\"9\": 11, \"36\": 1}, \"82\": {\"82\": 6, \"92\": 1, \"50\": 2, \"117\": 1, \"1\": 2}, \"51\": {\"51\": 9, \"9\": 2, \"108\": 1}, \"21\": {\"10\": 2, \"21\": 5, \"38\": 2, \"61\": 2, \"123\": 1}, \"92\": {\"17\": 2, \"45\": 1, \"113\": 1, \"32\": 1, \"99\": 1, \"92\": 4, \"64\": 1, \"69\": 1}, \"69\": {\"69\": 5, \"92\": 1, \"109\": 1, \"40\": 1, \"18\": 2, \"82\": 2}, \"77\": {\"77\": 7, \"38\": 1, \"71\": 1, \"108\": 1, \"4\": 1, \"12\": 1}, \"50\": {\"84\": 1, \"88\": 1, \"50\": 5, \"39\": 1, \"14\": 1, \"109\": 1, \"126\": 1, \"69\": 1}, \"36\": {\"36\": 7, \"15\": 1, \"24\": 1, \"9\": 3}, \"16\": {\"13\": 1, \"88\": 1, \"16\": 2, \"42\": 1, \"40\": 2, \"2\": 1, \"120\": 1, \"26\": 1, \"55\": 2}, \"8\": {\"88\": 2, \"8\": 7, \"43\": 1, \"120\": 1, \"61\": 1}, \"127\": {\"127\": 7, \"86\": 1, \"5\": 1, \"122\": 2, \"104\": 1}, \"46\": {\"84\": 1, \"87\": 1, \"102\": 1, \"40\": 1, \"105\": 1, \"71\": 1, \"113\": 1, \"126\": 1, \"31\": 2}, \"84\": {\"50\": 2, \"122\": 2, \"100\": 1, \"84\": 1, \"80\": 1, \"105\": 1, \"39\": 1, \"18\": 1, \"31\": 2}, \"18\": {\"13\": 2, \"18\": 7, \"113\": 1, \"110\": 1, \"2\": 1}, \"123\": {\"123\": 8, \"88\": 1, \"109\": 1}, \"56\": {\"88\": 1, \"71\": 1, \"46\": 1, \"56\": 3, \"60\": 2, \"32\": 1, \"31\": 1, \"122\": 1, \"15\": 1}, \"26\": {\"26\": 9, \"18\": 2, \"86\": 1}, \"14\": {\"87\": 1, \"14\": 1, \"107\": 1, \"104\": 1, \"50\": 2, \"69\": 2, \"2\": 2, \"120\": 1, \"40\": 1}, \"109\": {\"80\": 1, \"109\": 6, \"63\": 3, \"8\": 1, \"78\": 1}, \"66\": {\"109\": 1, \"88\": 1, \"66\": 6, \"78\": 2, \"53\": 2}, \"24\": {\"87\": 1, \"109\": 1, \"25\": 1, \"10\": 1, \"8\": 2, \"94\": 1, \"63\": 3, \"61\": 2}, \"71\": {\"109\": 1, \"71\": 3, \"19\": 1, \"48\": 1, \"105\": 1, \"1\": 2, \"62\": 1, \"73\": 1, \"72\": 1}, \"65\": {\"80\": 1, \"65\": 4, \"118\": 1, \"25\": 1, \"38\": 1, \"64\": 1, \"51\": 1, \"105\": 1, \"22\": 1}, \"75\": {\"75\": 10, \"15\": 1, \"21\": 1}, \"111\": {\"111\": 10, \"0\": 2}, \"30\": {\"30\": 4, \"51\": 1, \"127\": 1, \"77\": 2, \"106\": 1, \"97\": 1, \"53\": 1, \"91\": 1}, \"85\": {\"118\": 1, \"85\": 4, \"1\": 1, \"2\": 1, \"115\": 1, \"26\": 1, \"13\": 1, \"95\": 1, \"112\": 1}, \"113\": {\"113\": 4, \"14\": 1, \"50\": 1, \"46\": 1, \"88\": 1, \"72\": 1, \"40\": 1}, \"45\": {\"110\": 1, \"45\": 2, \"116\": 1, \"13\": 1, \"1\": 2, \"115\": 1, \"28\": 2, \"80\": 1, \"31\": 1}, \"29\": {\"29\": 7, \"12\": 1, \"59\": 2, \"128\": 1, \"61\": 1}, \"20\": {\"20\": 4, \"10\": 1, \"21\": 3, \"102\": 1, \"8\": 1, \"88\": 1, \"55\": 1}, \"25\": {\"25\": 10, \"75\": 2}, \"0\": {\"0\": 7, \"4\": 1, \"112\": 1, \"41\": 2, \"83\": 1}, \"68\": {\"68\": 11, \"54\": 1}, \"119\": {\"109\": 1, \"67\": 1, \"119\": 7, \"87\": 1, \"55\": 1, \"63\": 1}, \"90\": {\"90\": 9, \"63\": 1, \"21\": 1, \"47\": 1}, \"38\": {\"109\": 1, \"38\": 9, \"10\": 2}, \"99\": {\"119\": 1, \"67\": 1, \"99\": 6, \"63\": 2, \"33\": 1, \"57\": 1}, \"1\": {\"69\": 1, \"81\": 1, \"1\": 2, \"115\": 1, \"70\": 1, \"72\": 1, \"64\": 1, \"19\": 1, \"55\": 1, \"102\": 1, \"117\": 1}, \"67\": {\"67\": 7, \"4\": 1, \"80\": 1, \"125\": 1, \"26\": 1, \"75\": 1}, \"63\": {\"63\": 11, \"64\": 1}, \"34\": {\"34\": 4, \"99\": 1, \"92\": 1, \"128\": 1, \"62\": 1, \"91\": 1, \"112\": 1, \"64\": 1, \"101\": 1}, \"108\": {\"63\": 2, \"108\": 3, \"127\": 1, \"60\": 1, \"17\": 1, \"8\": 1, \"43\": 1, \"109\": 1, \"53\": 1}, \"40\": {\"67\": 2, \"40\": 6, \"122\": 1, \"1\": 1, \"55\": 1, \"32\": 1}, \"47\": {\"90\": 3, \"47\": 5, \"22\": 1, \"99\": 1, \"89\": 2}, \"37\": {\"37\": 6, \"43\": 1, \"105\": 1, \"2\": 1, \"119\": 2, \"38\": 1}, \"78\": {\"21\": 2, \"38\": 1, \"18\": 1, \"78\": 1, \"66\": 3, \"50\": 1, \"7\": 1, \"63\": 2}, \"96\": {\"90\": 1, \"47\": 1, \"39\": 1, \"96\": 3, \"83\": 1, \"45\": 1, \"8\": 1, \"1\": 1, \"10\": 1, \"116\": 1}, \"43\": {\"43\": 1, \"37\": 1, \"8\": 4, \"64\": 1, \"71\": 1, \"109\": 2, \"63\": 1, \"33\": 1}, \"5\": {\"5\": 6, \"19\": 1, \"73\": 1, \"122\": 1, \"79\": 1}, \"124\": {\"124\": 6, \"41\": 1, \"112\": 1, \"11\": 1, \"129\": 2, \"47\": 1}, \"44\": {\"8\": 1, \"44\": 6, \"63\": 1, \"23\": 3, \"38\": 1}, \"41\": {\"24\": 2, \"41\": 6, \"108\": 1, \"127\": 1, \"0\": 1, \"61\": 1}, \"116\": {\"19\": 2, \"2\": 1, \"116\": 2, \"22\": 1, \"84\": 1, \"50\": 2, \"33\": 1, \"99\": 1, \"37\": 1}, \"19\": {\"71\": 1, \"89\": 1, \"19\": 2, \"105\": 2, \"26\": 2, \"124\": 1, \"64\": 1, \"95\": 1, \"38\": 1}, \"115\": {\"65\": 1, \"78\": 1, \"95\": 1, \"119\": 1, \"17\": 2, \"115\": 2, \"69\": 1, \"2\": 1, \"71\": 1, \"105\": 1}, \"95\": {\"95\": 6, \"38\": 1, \"84\": 1, \"1\": 1, \"55\": 1, \"102\": 1, \"39\": 1}, \"3\": {\"18\": 2, \"100\": 3, \"57\": 1, \"104\": 1, \"38\": 1, \"3\": 2}, \"59\": {\"59\": 8, \"8\": 1, \"128\": 2, \"23\": 1}, \"55\": {\"55\": 8, \"81\": 1, \"71\": 1, \"100\": 1, \"33\": 1}, \"70\": {\"38\": 2, \"74\": 1, \"1\": 2, \"53\": 1, \"109\": 2, \"10\": 1, \"55\": 1, \"39\": 1, \"72\": 1}, \"6\": {\"6\": 9, \"9\": 2, \"94\": 1}, \"2\": {\"38\": 1, \"81\": 1, \"40\": 2, \"2\": 4, \"16\": 1, \"69\": 1, \"14\": 1, \"105\": 1}, \"48\": {\"105\": 1, \"70\": 1, \"48\": 3, \"47\": 1, \"62\": 2, \"119\": 1, \"80\": 1, \"83\": 1, \"85\": 1}, \"23\": {\"122\": 1, \"63\": 1, \"61\": 2, \"7\": 2, \"50\": 1, \"38\": 1, \"13\": 1, \"23\": 1, \"10\": 2}, \"7\": {\"7\": 7, \"127\": 1, \"63\": 2, \"23\": 2}, \"122\": {\"105\": 1, \"84\": 1, \"7\": 1, \"53\": 1, \"3\": 1, \"122\": 2, \"63\": 1, \"21\": 1, \"88\": 1, \"107\": 1, \"72\": 1}, \"57\": {\"23\": 1, \"42\": 1, \"57\": 5, \"8\": 1, \"24\": 1, \"105\": 1, \"71\": 1, \"70\": 1}, \"39\": {\"39\": 3, \"123\": 2, \"10\": 1, \"53\": 2, \"107\": 1, \"21\": 1}, \"79\": {\"74\": 1, \"73\": 1, \"7\": 1, \"79\": 1, \"70\": 1, \"93\": 1, \"115\": 1, \"10\": 1, \"120\": 1, \"66\": 1, \"81\": 1, \"1\": 1}, \"27\": {\"27\": 8, \"58\": 1, \"15\": 1}, \"74\": {\"74\": 5, \"79\": 1, \"115\": 1, \"123\": 1, \"62\": 1, \"32\": 1, \"66\": 1, \"51\": 1}, \"73\": {\"73\": 8, \"107\": 3, \"103\": 1}, \"62\": {\"100\": 1, \"62\": 8, \"104\": 1, \"31\": 1, \"105\": 1}, \"107\": {\"107\": 6, \"50\": 1, \"73\": 1, \"72\": 1, \"122\": 1, \"5\": 1, \"40\": 1}, \"128\": {\"37\": 1, \"7\": 1, \"128\": 3, \"59\": 1, \"39\": 3, \"2\": 2, \"80\": 1}, \"60\": {\"53\": 2, \"60\": 9, \"123\": 1}, \"114\": {\"114\": 5, \"122\": 1, \"1\": 1, \"107\": 1, \"73\": 1, \"4\": 1, \"5\": 2}, \"22\": {\"22\": 6, \"23\": 1, \"66\": 2, \"116\": 1, \"28\": 1, \"24\": 1}, \"93\": {\"115\": 1, \"1\": 1, \"72\": 2, \"73\": 1, \"107\": 1, \"109\": 1, \"123\": 1, \"93\": 4}, \"94\": {\"94\": 9, \"9\": 1, \"6\": 1, \"119\": 1}, \"31\": {\"57\": 2, \"113\": 2, \"31\": 1, \"92\": 2, \"121\": 1, \"90\": 1, \"122\": 1}, \"104\": {\"114\": 2, \"104\": 6, \"72\": 1, \"50\": 1, \"126\": 1, \"19\": 1}, \"58\": {\"58\": 11, \"106\": 1}}, \"C_A_2\": {\"14\": {\"49\": 1, \"14\": 7, \"4\": 2, \"31\": 1, \"10\": 1}, \"22\": {\"38\": 1, \"22\": 9, \"15\": 1, \"43\": 1}, \"9\": {\"4\": 2, \"9\": 4, \"7\": 2, \"17\": 1, \"40\": 1, \"51\": 1, \"14\": 1}, \"47\": {\"47\": 10, \"39\": 1, \"42\": 1}, \"13\": {\"13\": 11, \"28\": 1}, \"8\": {\"8\": 12}, \"7\": {\"7\": 12}, \"49\": {\"49\": 12}, \"20\": {\"20\": 11, \"36\": 1}, \"16\": {\"16\": 9, \"46\": 1, \"0\": 1, \"15\": 1}, \"34\": {\"34\": 8, \"39\": 2, \"23\": 2}, \"56\": {\"56\": 9, \"22\": 2, \"10\": 1}, \"38\": {\"38\": 6, \"2\": 1, \"15\": 1, \"28\": 2}, \"4\": {\"4\": 9, \"53\": 1, \"36\": 1, \"1\": 1}, \"43\": {\"43\": 7, \"38\": 1, \"0\": 2}, \"26\": {\"26\": 10}, \"35\": {\"35\": 12}, \"31\": {\"31\": 12}, \"1\": {\"1\": 9, \"41\": 1, \"39\": 2}, \"39\": {\"39\": 10, \"42\": 2}, \"5\": {\"5\": 9, \"31\": 2, \"57\": 1}, \"24\": {\"24\": 11, \"14\": 1}, \"54\": {\"54\": 10}, \"23\": {\"23\": 11, \"47\": 1}, \"51\": {\"20\": 1, \"51\": 8, \"53\": 2, \"26\": 1}, \"27\": {\"27\": 10}, \"15\": {\"15\": 12}, \"0\": {\"0\": 11, \"46\": 1}, \"19\": {\"19\": 6, \"14\": 1, \"4\": 2, \"29\": 1}, \"18\": {\"18\": 6, \"30\": 2}, \"30\": {\"18\": 1, \"30\": 8, \"23\": 2, \"3\": 1}, \"55\": {\"55\": 5, \"1\": 2, \"31\": 1, \"5\": 2}, \"57\": {\"57\": 12}, \"2\": {\"34\": 1, \"2\": 8, \"47\": 2, \"39\": 1}, \"12\": {\"12\": 7, \"27\": 1}, \"41\": {\"41\": 12}, \"42\": {\"42\": 11, \"47\": 1}, \"48\": {\"48\": 12}, \"37\": {\"37\": 11, \"26\": 1}, \"6\": {\"48\": 3, \"32\": 1, \"6\": 3, \"42\": 1, \"3\": 2}, \"11\": {\"11\": 10}, \"45\": {\"9\": 1, \"27\": 1, \"45\": 2, \"35\": 2, \"32\": 1, \"25\": 1}, \"21\": {\"21\": 12}, \"46\": {\"16\": 2, \"46\": 4, \"23\": 1, \"21\": 1, \"42\": 1, \"3\": 1}, \"25\": {\"25\": 12}, \"36\": {\"36\": 10}, \"53\": {\"53\": 12}, \"28\": {\"28\": 12}, \"40\": {\"33\": 4, \"4\": 1, \"35\": 1, \"8\": 1, \"40\": 3}, \"33\": {\"33\": 9, \"29\": 1}, \"44\": {\"44\": 9, \"33\": 1}, \"3\": {\"3\": 9, \"6\": 2, \"17\": 1}, \"17\": {\"17\": 12}, \"32\": {\"32\": 10}, \"10\": {\"10\": 10}, \"52\": {\"52\": 8, \"3\": 1, \"23\": 1}, \"50\": {\"50\": 6, \"8\": 1, \"41\": 1}, \"29\": {\"29\": 5, \"22\": 1}}}, \"per_domain_accuracy\": {\"ORACLE.run1_14\": {\"accuracy\": 0.8057291666666667, \"source?\": true}, \"ORACLE.run1_20\": {\"accuracy\": 0.6606770833333333, \"source?\": true}, \"ORACLE.run1_38\": {\"accuracy\": 0.7114583333333333, \"source?\": true}, \"ORACLE.run1_8\": {\"accuracy\": 0.7481770833333333, \"source?\": true}, \"ORACLE.run1_50\": {\"accuracy\": 0.7356770833333334, \"source?\": true}, \"ORACLE.run1_32\": {\"accuracy\": 0.7526041666666666, \"source?\": true}, \"ORACLE.run1_26\": {\"accuracy\": 0.5606770833333333, \"source?\": true}, \"ORACLE.run1_44\": {\"accuracy\": 0.6572916666666667, \"source?\": true}, \"C_A_3\": {\"accuracy\": 0.8171875, \"source?\": false}, \"C_A_4\": {\"accuracy\": 0.809375, \"source?\": false}, \"C_A_5\": {\"accuracy\": 0.8390625, \"source?\": false}, \"W_A_3\": {\"accuracy\": 0.4381510416666667, \"source?\": false}, \"C_A_1\": {\"accuracy\": 0.8046875, \"source?\": false}, \"W_A_4\": {\"accuracy\": 0.4270833333333333, \"source?\": false}, \"W_A_1\": {\"accuracy\": 0.4798177083333333, \"source?\": false}, \"W_A_2\": {\"accuracy\": 0.453125, \"source?\": false}, \"C_A_2\": {\"accuracy\": 0.8234375, \"source?\": false}}}, \"history\": {\"epoch_indices\": [1, 2, 3, 4, 5, 6], \"train_label_loss\": [0.9897826760874263, 1.2091040074514845, 0.7498234405991666, 0.6332791892689698, 0.5686061455546656, 0.5114574517084596], \"source_val_label_loss\": [67.0413589477539, 0.8329043984413147, 0.8207178711891174, 0.6336978673934937, 0.5529677867889404, 0.5022773742675781], \"target_val_label_loss\": [4162.23291015625, 1003.2811279296875, 1270.496826171875, 1348.960693359375, 1137.8094482421875, 1505.7781982421875], \"source_val_acc_label\": [0.5951171875, 0.7040364583333333, 0.7013997395833333, 0.7748372395833333, 0.79814453125, 0.8217122395833333], \"target_val_acc_label\": [0.4833047945205479, 0.5759845890410958, 0.5417380136986302, 0.5507277397260274, 0.5331763698630136, 0.5007491438356164]}, \"dataset_metrics\": {\"source\": {\"train\": {\"n_unique_x\": 179200, \"n_unique_y\": 16, \"n_batch/episode\": 6720}, \"val\": {\"n_unique_x\": 38400, \"n_unique_y\": 16, \"n_batch/episode\": 960}, \"test\": {\"n_unique_x\": 38400, \"n_unique_y\": 16, \"n_batch/episode\": 960}}, \"target\": {\"train\": {\"n_unique_x\": 56700, \"n_unique_y\": 130, \"n_batch/episode\": 2080}, \"val\": {\"n_unique_x\": 12132, \"n_unique_y\": 130, \"n_batch/episode\": 292}, \"test\": {\"n_unique_x\": 12132, \"n_unique_y\": 130, \"n_batch/episode\": 292}}}}'"
      ]
     },
     "execution_count": 29,
     "metadata": {},
     "output_type": "execute_result"
    }
   ],
   "source": [
    "json.dumps(experiment)"
   ]
  }
 ],
 "metadata": {
  "celltoolbar": "Tags",
  "kernelspec": {
   "display_name": "Python 3 (ipykernel)",
   "language": "python",
   "name": "python3"
  },
  "language_info": {
   "codemirror_mode": {
    "name": "ipython",
    "version": 3
   },
   "file_extension": ".py",
   "mimetype": "text/x-python",
   "name": "python",
   "nbconvert_exporter": "python",
   "pygments_lexer": "ipython3",
   "version": "3.8.10"
  },
  "papermill": {
   "default_parameters": {},
   "duration": 1062.450923,
   "end_time": "2022-03-18T15:50:17.628819",
   "environment_variables": {},
   "exception": null,
   "input_path": "/mnt/wd500GB/CSC500/csc500-main/csc500-notebooks/templates/tl_ptn_template.ipynb",
   "output_path": "trial.ipynb",
   "parameters": {
    "parameters": {
     "BEST_MODEL_PATH": "./best_model.pth",
     "NUM_LOGS_PER_EPOCH": 10,
     "criteria_for_best": "target_loss",
     "dataset_seed": 1337,
     "datasets": [
      {
       "domain_prefix": "C_A_",
       "domains": [
        1,
        2,
        3,
        4,
        5
       ],
       "episode_transforms": [],
       "labels": [
        "1-10.",
        "1-11.",
        "1-15.",
        "1-16.",
        "1-17.",
        "1-18.",
        "1-19.",
        "10-4.",
        "10-7.",
        "11-1.",
        "11-14.",
        "11-17.",
        "11-20.",
        "11-7.",
        "13-20.",
        "13-8.",
        "14-10.",
        "14-11.",
        "14-14.",
        "14-7.",
        "15-1.",
        "15-20.",
        "16-1.",
        "16-16.",
        "17-10.",
        "17-11.",
        "17-2.",
        "19-1.",
        "19-16.",
        "19-19.",
        "19-20.",
        "19-3.",
        "2-10.",
        "2-11.",
        "2-17.",
        "2-18.",
        "2-20.",
        "2-3.",
        "2-4.",
        "2-5.",
        "2-6.",
        "2-7.",
        "2-8.",
        "3-13.",
        "3-18.",
        "3-3.",
        "4-1.",
        "4-10.",
        "4-11.",
        "4-19.",
        "5-5.",
        "6-15.",
        "7-10.",
        "7-14.",
        "8-18.",
        "8-20.",
        "8-3.",
        "8-8."
       ],
       "num_examples_per_domain_per_label": 100,
       "pickle_path": "/mnt/wd500GB/CSC500/csc500-main/datasets/cores.stratified_ds.2022A.pkl",
       "source_or_target_dataset": "target",
       "x_transforms": [
        "unit_power",
        "take_200"
       ]
      },
      {
       "domain_prefix": "W_A_",
       "domains": [
        1,
        2,
        3,
        4
       ],
       "episode_transforms": [],
       "labels": [
        "1-10",
        "1-12",
        "1-14",
        "1-16",
        "1-18",
        "1-19",
        "1-8",
        "10-11",
        "10-17",
        "10-4",
        "10-7",
        "11-1",
        "11-10",
        "11-19",
        "11-20",
        "11-4",
        "11-7",
        "12-19",
        "12-20",
        "12-7",
        "13-14",
        "13-18",
        "13-19",
        "13-20",
        "13-3",
        "13-7",
        "14-10",
        "14-11",
        "14-12",
        "14-13",
        "14-14",
        "14-19",
        "14-20",
        "14-7",
        "14-8",
        "14-9",
        "15-1",
        "15-19",
        "15-6",
        "16-1",
        "16-16",
        "16-19",
        "16-20",
        "17-10",
        "17-11",
        "18-1",
        "18-10",
        "18-11",
        "18-12",
        "18-13",
        "18-14",
        "18-15",
        "18-16",
        "18-17",
        "18-19",
        "18-2",
        "18-20",
        "18-4",
        "18-5",
        "18-7",
        "18-8",
        "18-9",
        "19-1",
        "19-10",
        "19-11",
        "19-12",
        "19-13",
        "19-14",
        "19-15",
        "19-19",
        "19-2",
        "19-20",
        "19-3",
        "19-4",
        "19-6",
        "19-7",
        "19-8",
        "19-9",
        "2-1",
        "2-13",
        "2-15",
        "2-3",
        "2-4",
        "2-5",
        "2-6",
        "2-7",
        "2-8",
        "20-1",
        "20-12",
        "20-14",
        "20-15",
        "20-16",
        "20-18",
        "20-19",
        "20-20",
        "20-3",
        "20-4",
        "20-5",
        "20-7",
        "20-8",
        "3-1",
        "3-13",
        "3-18",
        "3-2",
        "3-8",
        "4-1",
        "4-10",
        "4-11",
        "5-1",
        "5-5",
        "6-1",
        "6-15",
        "6-6",
        "7-10",
        "7-11",
        "7-12",
        "7-13",
        "7-14",
        "7-7",
        "7-8",
        "7-9",
        "8-1",
        "8-13",
        "8-14",
        "8-18",
        "8-20",
        "8-3",
        "8-8",
        "9-1",
        "9-7"
       ],
       "num_examples_per_domain_per_label": 100,
       "pickle_path": "/mnt/wd500GB/CSC500/csc500-main/datasets/wisig.node3-19.stratified_ds.2022A.pkl",
       "source_or_target_dataset": "target",
       "x_transforms": [
        "unit_power",
        "take_200"
       ]
      },
      {
       "domain_prefix": "ORACLE.run1_",
       "domains": [
        32,
        38,
        8,
        44,
        14,
        50,
        20,
        26
       ],
       "episode_transforms": [],
       "labels": [
        "3123D52",
        "3123D65",
        "3123D79",
        "3123D80",
        "3123D54",
        "3123D70",
        "3123D7B",
        "3123D89",
        "3123D58",
        "3123D76",
        "3123D7D",
        "3123EFE",
        "3123D64",
        "3123D78",
        "3123D7E",
        "3124E4A"
       ],
       "num_examples_per_domain_per_label": 2000,
       "pickle_path": "/mnt/wd500GB/CSC500/csc500-main/datasets/oracle.Run1_framed_2000Examples_stratified_ds.2022A.pkl",
       "source_or_target_dataset": "source",
       "x_transforms": [
        "unit_power",
        "take_200",
        "resample_20Msps_to_25Msps"
       ]
      }
     ],
     "device": "cuda",
     "experiment_name": "tl_3A:oracle.run1.framed -> cores+wisig",
     "lr": 0.001,
     "n_epoch": 50,
     "n_query": 2,
     "n_shot": 3,
     "n_way": 16,
     "patience": 3,
     "seed": 1337,
     "test_k_factor": 2,
     "torch_default_dtype": "torch.float32",
     "train_k_factor": 3,
     "val_k_factor": 2,
     "x_net": [
      {
       "class": "nnReshape",
       "kargs": {
        "shape": [
         -1,
         1,
         2,
         200
        ]
       }
      },
      {
       "class": "Conv2d",
       "kargs": {
        "bias": false,
        "in_channels": 1,
        "kernel_size": [
         1,
         7
        ],
        "out_channels": 256,
        "padding": [
         0,
         3
        ]
       }
      },
      {
       "class": "ReLU",
       "kargs": {
        "inplace": true
       }
      },
      {
       "class": "BatchNorm2d",
       "kargs": {
        "num_features": 256
       }
      },
      {
       "class": "Conv2d",
       "kargs": {
        "bias": true,
        "in_channels": 256,
        "kernel_size": [
         2,
         7
        ],
        "out_channels": 80,
        "padding": [
         0,
         3
        ]
       }
      },
      {
       "class": "ReLU",
       "kargs": {
        "inplace": true
       }
      },
      {
       "class": "BatchNorm2d",
       "kargs": {
        "num_features": 80
       }
      },
      {
       "class": "Flatten",
       "kargs": {}
      },
      {
       "class": "Linear",
       "kargs": {
        "in_features": 16000,
        "out_features": 256
       }
      },
      {
       "class": "ReLU",
       "kargs": {
        "inplace": true
       }
      },
      {
       "class": "BatchNorm1d",
       "kargs": {
        "num_features": 256
       }
      },
      {
       "class": "Linear",
       "kargs": {
        "in_features": 256,
        "out_features": 256
       }
      }
     ],
     "x_shape": [
      2,
      200
     ]
    }
   },
   "start_time": "2022-03-18T15:32:35.177896",
   "version": "2.3.4"
  }
 },
 "nbformat": 4,
 "nbformat_minor": 5
}