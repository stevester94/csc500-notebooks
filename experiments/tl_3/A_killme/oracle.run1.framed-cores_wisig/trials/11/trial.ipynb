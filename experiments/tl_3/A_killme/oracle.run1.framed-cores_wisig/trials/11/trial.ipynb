{
 "cells": [
  {
   "cell_type": "markdown",
   "id": "9fea5f46",
   "metadata": {
    "papermill": {
     "duration": 0.017802,
     "end_time": "2022-03-18T19:23:52.159032",
     "exception": false,
     "start_time": "2022-03-18T19:23:52.141230",
     "status": "completed"
    },
    "tags": []
   },
   "source": [
    "# Transfer Learning Template"
   ]
  },
  {
   "cell_type": "code",
   "execution_count": 1,
   "id": "0902182a",
   "metadata": {
    "execution": {
     "iopub.execute_input": "2022-03-18T19:23:52.198497Z",
     "iopub.status.busy": "2022-03-18T19:23:52.196394Z",
     "iopub.status.idle": "2022-03-18T19:23:53.103915Z",
     "shell.execute_reply": "2022-03-18T19:23:53.103515Z"
    },
    "papermill": {
     "duration": 0.932444,
     "end_time": "2022-03-18T19:23:53.104031",
     "exception": false,
     "start_time": "2022-03-18T19:23:52.171587",
     "status": "completed"
    },
    "tags": []
   },
   "outputs": [],
   "source": [
    "%load_ext autoreload\n",
    "%autoreload 2\n",
    "%matplotlib inline\n",
    "\n",
    "    \n",
    "import os, json, sys, time, random\n",
    "import numpy as np\n",
    "import torch\n",
    "from torch.optim import Adam\n",
    "from  easydict import EasyDict\n",
    "import matplotlib.pyplot as plt\n",
    "\n",
    "from steves_models.steves_ptn import Steves_Prototypical_Network\n",
    "\n",
    "from steves_utils.lazy_iterable_wrapper import Lazy_Iterable_Wrapper\n",
    "from steves_utils.iterable_aggregator import Iterable_Aggregator\n",
    "from steves_utils.ptn_train_eval_test_jig import  PTN_Train_Eval_Test_Jig\n",
    "from steves_utils.torch_sequential_builder import build_sequential\n",
    "from steves_utils.torch_utils import get_dataset_metrics, ptn_confusion_by_domain_over_dataloader\n",
    "from steves_utils.utils_v2 import (per_domain_accuracy_from_confusion, get_datasets_base_path)\n",
    "from steves_utils.PTN.utils import independent_accuracy_assesment\n",
    "\n",
    "from torch.utils.data import DataLoader\n",
    "\n",
    "from steves_utils.stratified_dataset.episodic_accessor import Episodic_Accessor_Factory\n",
    "\n",
    "from steves_utils.ptn_do_report import (\n",
    "    get_loss_curve,\n",
    "    get_results_table,\n",
    "    get_parameters_table,\n",
    "    get_domain_accuracies,\n",
    ")\n",
    "\n",
    "from steves_utils.transforms import get_chained_transform"
   ]
  },
  {
   "cell_type": "markdown",
   "id": "41c840b4",
   "metadata": {
    "papermill": {
     "duration": 0.012493,
     "end_time": "2022-03-18T19:23:53.133339",
     "exception": false,
     "start_time": "2022-03-18T19:23:53.120846",
     "status": "completed"
    },
    "tags": []
   },
   "source": [
    "# Allowed Parameters\n",
    "These are allowed parameters, not defaults\n",
    "Each of these values need to be present in the injected parameters (the notebook will raise an exception if they are not present)\n",
    "\n",
    "Papermill uses the cell tag \"parameters\" to inject the real parameters below this cell.\n",
    "Enable tags to see what I mean"
   ]
  },
  {
   "cell_type": "code",
   "execution_count": 2,
   "id": "fd44eb83",
   "metadata": {
    "execution": {
     "iopub.execute_input": "2022-03-18T19:23:53.161628Z",
     "iopub.status.busy": "2022-03-18T19:23:53.161369Z",
     "iopub.status.idle": "2022-03-18T19:23:53.178146Z",
     "shell.execute_reply": "2022-03-18T19:23:53.177670Z"
    },
    "papermill": {
     "duration": 0.03227,
     "end_time": "2022-03-18T19:23:53.178248",
     "exception": false,
     "start_time": "2022-03-18T19:23:53.145978",
     "status": "completed"
    },
    "tags": []
   },
   "outputs": [],
   "source": [
    "required_parameters = {\n",
    "    \"experiment_name\",\n",
    "    \"lr\",\n",
    "    \"device\",\n",
    "    \"seed\",\n",
    "    \"dataset_seed\",\n",
    "    \"n_shot\",\n",
    "    \"n_query\",\n",
    "    \"n_way\",\n",
    "    \"train_k_factor\",\n",
    "    \"val_k_factor\",\n",
    "    \"test_k_factor\",\n",
    "    \"n_epoch\",\n",
    "    \"patience\",\n",
    "    \"criteria_for_best\",\n",
    "    \"x_net\",\n",
    "    \"datasets\",\n",
    "    \"torch_default_dtype\",\n",
    "    \"NUM_LOGS_PER_EPOCH\",\n",
    "    \"BEST_MODEL_PATH\",\n",
    "    \"x_shape\",\n",
    "}"
   ]
  },
  {
   "cell_type": "code",
   "execution_count": 3,
   "id": "fa3f0049",
   "metadata": {
    "execution": {
     "iopub.execute_input": "2022-03-18T19:23:53.213792Z",
     "iopub.status.busy": "2022-03-18T19:23:53.212741Z",
     "iopub.status.idle": "2022-03-18T19:23:53.227123Z",
     "shell.execute_reply": "2022-03-18T19:23:53.226675Z"
    },
    "papermill": {
     "duration": 0.033579,
     "end_time": "2022-03-18T19:23:53.227227",
     "exception": false,
     "start_time": "2022-03-18T19:23:53.193648",
     "status": "completed"
    },
    "tags": [
     "parameters"
    ]
   },
   "outputs": [],
   "source": [
    "from steves_utils.CORES.utils import (\n",
    "    ALL_NODES,\n",
    "    ALL_NODES_MINIMUM_1000_EXAMPLES,\n",
    "    ALL_DAYS\n",
    ")\n",
    "\n",
    "from steves_utils.ORACLE.utils_v2 import (\n",
    "    ALL_DISTANCES_FEET_NARROWED,\n",
    "    ALL_RUNS,\n",
    "    ALL_SERIAL_NUMBERS,\n",
    ")\n",
    "\n",
    "standalone_parameters = {}\n",
    "standalone_parameters[\"experiment_name\"] = \"STANDALONE PTN\"\n",
    "standalone_parameters[\"lr\"] = 0.001\n",
    "standalone_parameters[\"device\"] = \"cuda\"\n",
    "\n",
    "standalone_parameters[\"seed\"] = 1337\n",
    "standalone_parameters[\"dataset_seed\"] = 1337\n",
    "\n",
    "standalone_parameters[\"n_way\"] = 8\n",
    "standalone_parameters[\"n_shot\"] = 3\n",
    "standalone_parameters[\"n_query\"]  = 2\n",
    "standalone_parameters[\"train_k_factor\"] = 1\n",
    "standalone_parameters[\"val_k_factor\"] = 2\n",
    "standalone_parameters[\"test_k_factor\"] = 2\n",
    "\n",
    "\n",
    "standalone_parameters[\"n_epoch\"] = 50\n",
    "\n",
    "standalone_parameters[\"patience\"] = 10\n",
    "standalone_parameters[\"criteria_for_best\"] = \"source_loss\"\n",
    "\n",
    "standalone_parameters[\"datasets\"] = [\n",
    "    {\n",
    "        \"labels\": ALL_SERIAL_NUMBERS,\n",
    "        \"domains\": ALL_DISTANCES_FEET_NARROWED,\n",
    "        \"num_examples_per_domain_per_label\": 100,\n",
    "        \"pickle_path\": os.path.join(get_datasets_base_path(), \"oracle.Run1_framed_2000Examples_stratified_ds.2022A.pkl\"),\n",
    "        \"source_or_target_dataset\": \"source\",\n",
    "        \"x_transforms\": [\"unit_mag\", \"minus_two\"],\n",
    "        \"episode_transforms\": [],\n",
    "        \"domain_prefix\": \"ORACLE_\"\n",
    "    },\n",
    "    {\n",
    "        \"labels\": ALL_NODES,\n",
    "        \"domains\": ALL_DAYS,\n",
    "        \"num_examples_per_domain_per_label\": 100,\n",
    "        \"pickle_path\": os.path.join(get_datasets_base_path(), \"cores.stratified_ds.2022A.pkl\"),\n",
    "        \"source_or_target_dataset\": \"target\",\n",
    "        \"x_transforms\": [\"unit_power\", \"times_zero\"],\n",
    "        \"episode_transforms\": [],\n",
    "        \"domain_prefix\": \"CORES_\"\n",
    "    }   \n",
    "]\n",
    "\n",
    "standalone_parameters[\"torch_default_dtype\"] = \"torch.float32\" \n",
    "\n",
    "\n",
    "\n",
    "standalone_parameters[\"x_net\"] =     [\n",
    "    {\"class\": \"nnReshape\", \"kargs\": {\"shape\":[-1, 1, 2, 256]}},\n",
    "    {\"class\": \"Conv2d\", \"kargs\": { \"in_channels\":1, \"out_channels\":256, \"kernel_size\":(1,7), \"bias\":False, \"padding\":(0,3), },},\n",
    "    {\"class\": \"ReLU\", \"kargs\": {\"inplace\": True}},\n",
    "    {\"class\": \"BatchNorm2d\", \"kargs\": {\"num_features\":256}},\n",
    "\n",
    "    {\"class\": \"Conv2d\", \"kargs\": { \"in_channels\":256, \"out_channels\":80, \"kernel_size\":(2,7), \"bias\":True, \"padding\":(0,3), },},\n",
    "    {\"class\": \"ReLU\", \"kargs\": {\"inplace\": True}},\n",
    "    {\"class\": \"BatchNorm2d\", \"kargs\": {\"num_features\":80}},\n",
    "    {\"class\": \"Flatten\", \"kargs\": {}},\n",
    "\n",
    "    {\"class\": \"Linear\", \"kargs\": {\"in_features\": 80*256, \"out_features\": 256}}, # 80 units per IQ pair\n",
    "    {\"class\": \"ReLU\", \"kargs\": {\"inplace\": True}},\n",
    "    {\"class\": \"BatchNorm1d\", \"kargs\": {\"num_features\":256}},\n",
    "\n",
    "    {\"class\": \"Linear\", \"kargs\": {\"in_features\": 256, \"out_features\": 256}},\n",
    "]\n",
    "\n",
    "# Parameters relevant to results\n",
    "# These parameters will basically never need to change\n",
    "standalone_parameters[\"NUM_LOGS_PER_EPOCH\"] = 10\n",
    "standalone_parameters[\"BEST_MODEL_PATH\"] = \"./best_model.pth\"\n",
    "\n",
    "\n",
    "\n",
    "\n"
   ]
  },
  {
   "cell_type": "code",
   "execution_count": 4,
   "id": "c505a09a",
   "metadata": {
    "execution": {
     "iopub.execute_input": "2022-03-18T19:23:53.269061Z",
     "iopub.status.busy": "2022-03-18T19:23:53.262214Z",
     "iopub.status.idle": "2022-03-18T19:23:53.282996Z",
     "shell.execute_reply": "2022-03-18T19:23:53.282571Z"
    },
    "papermill": {
     "duration": 0.040464,
     "end_time": "2022-03-18T19:23:53.283101",
     "exception": false,
     "start_time": "2022-03-18T19:23:53.242637",
     "status": "completed"
    },
    "tags": [
     "injected-parameters"
    ]
   },
   "outputs": [],
   "source": [
    "# Parameters\n",
    "parameters = {\n",
    "    \"experiment_name\": \"tl_3A:oracle.run1.framed -> cores+wisig\",\n",
    "    \"device\": \"cuda\",\n",
    "    \"lr\": 0.001,\n",
    "    \"seed\": 7,\n",
    "    \"dataset_seed\": 7,\n",
    "    \"x_shape\": [2, 200],\n",
    "    \"n_shot\": 3,\n",
    "    \"n_query\": 2,\n",
    "    \"train_k_factor\": 3,\n",
    "    \"val_k_factor\": 2,\n",
    "    \"test_k_factor\": 2,\n",
    "    \"torch_default_dtype\": \"torch.float32\",\n",
    "    \"n_epoch\": 50,\n",
    "    \"patience\": 3,\n",
    "    \"criteria_for_best\": \"target_loss\",\n",
    "    \"x_net\": [\n",
    "        {\"class\": \"nnReshape\", \"kargs\": {\"shape\": [-1, 1, 2, 200]}},\n",
    "        {\n",
    "            \"class\": \"Conv2d\",\n",
    "            \"kargs\": {\n",
    "                \"in_channels\": 1,\n",
    "                \"out_channels\": 256,\n",
    "                \"kernel_size\": [1, 7],\n",
    "                \"bias\": False,\n",
    "                \"padding\": [0, 3],\n",
    "            },\n",
    "        },\n",
    "        {\"class\": \"ReLU\", \"kargs\": {\"inplace\": True}},\n",
    "        {\"class\": \"BatchNorm2d\", \"kargs\": {\"num_features\": 256}},\n",
    "        {\n",
    "            \"class\": \"Conv2d\",\n",
    "            \"kargs\": {\n",
    "                \"in_channels\": 256,\n",
    "                \"out_channels\": 80,\n",
    "                \"kernel_size\": [2, 7],\n",
    "                \"bias\": True,\n",
    "                \"padding\": [0, 3],\n",
    "            },\n",
    "        },\n",
    "        {\"class\": \"ReLU\", \"kargs\": {\"inplace\": True}},\n",
    "        {\"class\": \"BatchNorm2d\", \"kargs\": {\"num_features\": 80}},\n",
    "        {\"class\": \"Flatten\", \"kargs\": {}},\n",
    "        {\"class\": \"Linear\", \"kargs\": {\"in_features\": 16000, \"out_features\": 256}},\n",
    "        {\"class\": \"ReLU\", \"kargs\": {\"inplace\": True}},\n",
    "        {\"class\": \"BatchNorm1d\", \"kargs\": {\"num_features\": 256}},\n",
    "        {\"class\": \"Linear\", \"kargs\": {\"in_features\": 256, \"out_features\": 256}},\n",
    "    ],\n",
    "    \"NUM_LOGS_PER_EPOCH\": 10,\n",
    "    \"BEST_MODEL_PATH\": \"./best_model.pth\",\n",
    "    \"n_way\": 16,\n",
    "    \"datasets\": [\n",
    "        {\n",
    "            \"labels\": [\n",
    "                \"1-10.\",\n",
    "                \"1-11.\",\n",
    "                \"1-15.\",\n",
    "                \"1-16.\",\n",
    "                \"1-17.\",\n",
    "                \"1-18.\",\n",
    "                \"1-19.\",\n",
    "                \"10-4.\",\n",
    "                \"10-7.\",\n",
    "                \"11-1.\",\n",
    "                \"11-14.\",\n",
    "                \"11-17.\",\n",
    "                \"11-20.\",\n",
    "                \"11-7.\",\n",
    "                \"13-20.\",\n",
    "                \"13-8.\",\n",
    "                \"14-10.\",\n",
    "                \"14-11.\",\n",
    "                \"14-14.\",\n",
    "                \"14-7.\",\n",
    "                \"15-1.\",\n",
    "                \"15-20.\",\n",
    "                \"16-1.\",\n",
    "                \"16-16.\",\n",
    "                \"17-10.\",\n",
    "                \"17-11.\",\n",
    "                \"17-2.\",\n",
    "                \"19-1.\",\n",
    "                \"19-16.\",\n",
    "                \"19-19.\",\n",
    "                \"19-20.\",\n",
    "                \"19-3.\",\n",
    "                \"2-10.\",\n",
    "                \"2-11.\",\n",
    "                \"2-17.\",\n",
    "                \"2-18.\",\n",
    "                \"2-20.\",\n",
    "                \"2-3.\",\n",
    "                \"2-4.\",\n",
    "                \"2-5.\",\n",
    "                \"2-6.\",\n",
    "                \"2-7.\",\n",
    "                \"2-8.\",\n",
    "                \"3-13.\",\n",
    "                \"3-18.\",\n",
    "                \"3-3.\",\n",
    "                \"4-1.\",\n",
    "                \"4-10.\",\n",
    "                \"4-11.\",\n",
    "                \"4-19.\",\n",
    "                \"5-5.\",\n",
    "                \"6-15.\",\n",
    "                \"7-10.\",\n",
    "                \"7-14.\",\n",
    "                \"8-18.\",\n",
    "                \"8-20.\",\n",
    "                \"8-3.\",\n",
    "                \"8-8.\",\n",
    "            ],\n",
    "            \"domains\": [1, 2, 3, 4, 5],\n",
    "            \"num_examples_per_domain_per_label\": 100,\n",
    "            \"pickle_path\": \"/mnt/wd500GB/CSC500/csc500-main/datasets/cores.stratified_ds.2022A.pkl\",\n",
    "            \"source_or_target_dataset\": \"target\",\n",
    "            \"x_transforms\": [\"take_200\"],\n",
    "            \"episode_transforms\": [],\n",
    "            \"domain_prefix\": \"C_A_\",\n",
    "        },\n",
    "        {\n",
    "            \"labels\": [\n",
    "                \"1-10\",\n",
    "                \"1-12\",\n",
    "                \"1-14\",\n",
    "                \"1-16\",\n",
    "                \"1-18\",\n",
    "                \"1-19\",\n",
    "                \"1-8\",\n",
    "                \"10-11\",\n",
    "                \"10-17\",\n",
    "                \"10-4\",\n",
    "                \"10-7\",\n",
    "                \"11-1\",\n",
    "                \"11-10\",\n",
    "                \"11-19\",\n",
    "                \"11-20\",\n",
    "                \"11-4\",\n",
    "                \"11-7\",\n",
    "                \"12-19\",\n",
    "                \"12-20\",\n",
    "                \"12-7\",\n",
    "                \"13-14\",\n",
    "                \"13-18\",\n",
    "                \"13-19\",\n",
    "                \"13-20\",\n",
    "                \"13-3\",\n",
    "                \"13-7\",\n",
    "                \"14-10\",\n",
    "                \"14-11\",\n",
    "                \"14-12\",\n",
    "                \"14-13\",\n",
    "                \"14-14\",\n",
    "                \"14-19\",\n",
    "                \"14-20\",\n",
    "                \"14-7\",\n",
    "                \"14-8\",\n",
    "                \"14-9\",\n",
    "                \"15-1\",\n",
    "                \"15-19\",\n",
    "                \"15-6\",\n",
    "                \"16-1\",\n",
    "                \"16-16\",\n",
    "                \"16-19\",\n",
    "                \"16-20\",\n",
    "                \"17-10\",\n",
    "                \"17-11\",\n",
    "                \"18-1\",\n",
    "                \"18-10\",\n",
    "                \"18-11\",\n",
    "                \"18-12\",\n",
    "                \"18-13\",\n",
    "                \"18-14\",\n",
    "                \"18-15\",\n",
    "                \"18-16\",\n",
    "                \"18-17\",\n",
    "                \"18-19\",\n",
    "                \"18-2\",\n",
    "                \"18-20\",\n",
    "                \"18-4\",\n",
    "                \"18-5\",\n",
    "                \"18-7\",\n",
    "                \"18-8\",\n",
    "                \"18-9\",\n",
    "                \"19-1\",\n",
    "                \"19-10\",\n",
    "                \"19-11\",\n",
    "                \"19-12\",\n",
    "                \"19-13\",\n",
    "                \"19-14\",\n",
    "                \"19-15\",\n",
    "                \"19-19\",\n",
    "                \"19-2\",\n",
    "                \"19-20\",\n",
    "                \"19-3\",\n",
    "                \"19-4\",\n",
    "                \"19-6\",\n",
    "                \"19-7\",\n",
    "                \"19-8\",\n",
    "                \"19-9\",\n",
    "                \"2-1\",\n",
    "                \"2-13\",\n",
    "                \"2-15\",\n",
    "                \"2-3\",\n",
    "                \"2-4\",\n",
    "                \"2-5\",\n",
    "                \"2-6\",\n",
    "                \"2-7\",\n",
    "                \"2-8\",\n",
    "                \"20-1\",\n",
    "                \"20-12\",\n",
    "                \"20-14\",\n",
    "                \"20-15\",\n",
    "                \"20-16\",\n",
    "                \"20-18\",\n",
    "                \"20-19\",\n",
    "                \"20-20\",\n",
    "                \"20-3\",\n",
    "                \"20-4\",\n",
    "                \"20-5\",\n",
    "                \"20-7\",\n",
    "                \"20-8\",\n",
    "                \"3-1\",\n",
    "                \"3-13\",\n",
    "                \"3-18\",\n",
    "                \"3-2\",\n",
    "                \"3-8\",\n",
    "                \"4-1\",\n",
    "                \"4-10\",\n",
    "                \"4-11\",\n",
    "                \"5-1\",\n",
    "                \"5-5\",\n",
    "                \"6-1\",\n",
    "                \"6-15\",\n",
    "                \"6-6\",\n",
    "                \"7-10\",\n",
    "                \"7-11\",\n",
    "                \"7-12\",\n",
    "                \"7-13\",\n",
    "                \"7-14\",\n",
    "                \"7-7\",\n",
    "                \"7-8\",\n",
    "                \"7-9\",\n",
    "                \"8-1\",\n",
    "                \"8-13\",\n",
    "                \"8-14\",\n",
    "                \"8-18\",\n",
    "                \"8-20\",\n",
    "                \"8-3\",\n",
    "                \"8-8\",\n",
    "                \"9-1\",\n",
    "                \"9-7\",\n",
    "            ],\n",
    "            \"domains\": [1, 2, 3, 4],\n",
    "            \"num_examples_per_domain_per_label\": 100,\n",
    "            \"pickle_path\": \"/mnt/wd500GB/CSC500/csc500-main/datasets/wisig.node3-19.stratified_ds.2022A.pkl\",\n",
    "            \"source_or_target_dataset\": \"target\",\n",
    "            \"x_transforms\": [\"take_200\"],\n",
    "            \"episode_transforms\": [],\n",
    "            \"domain_prefix\": \"W_A_\",\n",
    "        },\n",
    "        {\n",
    "            \"labels\": [\n",
    "                \"3123D52\",\n",
    "                \"3123D65\",\n",
    "                \"3123D79\",\n",
    "                \"3123D80\",\n",
    "                \"3123D54\",\n",
    "                \"3123D70\",\n",
    "                \"3123D7B\",\n",
    "                \"3123D89\",\n",
    "                \"3123D58\",\n",
    "                \"3123D76\",\n",
    "                \"3123D7D\",\n",
    "                \"3123EFE\",\n",
    "                \"3123D64\",\n",
    "                \"3123D78\",\n",
    "                \"3123D7E\",\n",
    "                \"3124E4A\",\n",
    "            ],\n",
    "            \"domains\": [32, 38, 8, 44, 14, 50, 20, 26],\n",
    "            \"num_examples_per_domain_per_label\": 2000,\n",
    "            \"pickle_path\": \"/mnt/wd500GB/CSC500/csc500-main/datasets/oracle.Run1_framed_2000Examples_stratified_ds.2022A.pkl\",\n",
    "            \"source_or_target_dataset\": \"source\",\n",
    "            \"x_transforms\": [\"take_200\", \"resample_20Msps_to_25Msps\"],\n",
    "            \"episode_transforms\": [],\n",
    "            \"domain_prefix\": \"ORACLE.run1_\",\n",
    "        },\n",
    "    ],\n",
    "}\n"
   ]
  },
  {
   "cell_type": "code",
   "execution_count": 5,
   "id": "8fa1cc33",
   "metadata": {
    "execution": {
     "iopub.execute_input": "2022-03-18T19:23:53.320790Z",
     "iopub.status.busy": "2022-03-18T19:23:53.320064Z",
     "iopub.status.idle": "2022-03-18T19:23:53.335818Z",
     "shell.execute_reply": "2022-03-18T19:23:53.335354Z"
    },
    "papermill": {
     "duration": 0.033002,
     "end_time": "2022-03-18T19:23:53.335918",
     "exception": false,
     "start_time": "2022-03-18T19:23:53.302916",
     "status": "completed"
    },
    "tags": []
   },
   "outputs": [],
   "source": [
    "# Set this to True if you want to run this template directly\n",
    "STANDALONE = False\n",
    "if STANDALONE:\n",
    "    print(\"parameters not injected, running with standalone_parameters\")\n",
    "    parameters = standalone_parameters\n",
    "\n",
    "if not 'parameters' in locals() and not 'parameters' in globals():\n",
    "    raise Exception(\"Parameter injection failed\")\n",
    "\n",
    "#Use an easy dict for all the parameters\n",
    "p = EasyDict(parameters)\n",
    "\n",
    "if \"x_shape\" not in p:\n",
    "    p.x_shape = [2,256] # Default to this if we dont supply x_shape\n",
    "\n",
    "\n",
    "supplied_keys = set(p.keys())\n",
    "\n",
    "if  supplied_keys != required_parameters:\n",
    "    print(\"Parameters are incorrect\")\n",
    "    if len(supplied_keys - required_parameters)>0: print(\"Shouldn't have:\", str(supplied_keys - required_parameters))\n",
    "    if len(required_parameters - supplied_keys)>0: print(\"Need to have:\", str(required_parameters - supplied_keys))\n",
    "    raise RuntimeError(\"Parameters are incorrect\")"
   ]
  },
  {
   "cell_type": "code",
   "execution_count": 6,
   "id": "3a028d58",
   "metadata": {
    "execution": {
     "iopub.execute_input": "2022-03-18T19:23:53.374648Z",
     "iopub.status.busy": "2022-03-18T19:23:53.370503Z",
     "iopub.status.idle": "2022-03-18T19:23:53.385606Z",
     "shell.execute_reply": "2022-03-18T19:23:53.385196Z"
    },
    "papermill": {
     "duration": 0.030697,
     "end_time": "2022-03-18T19:23:53.385705",
     "exception": false,
     "start_time": "2022-03-18T19:23:53.355008",
     "status": "completed"
    },
    "tags": []
   },
   "outputs": [],
   "source": [
    "###################################\n",
    "# Set the RNGs and make it all deterministic\n",
    "###################################\n",
    "np.random.seed(p.seed)\n",
    "random.seed(p.seed)\n",
    "torch.manual_seed(p.seed)\n",
    "\n",
    "torch.use_deterministic_algorithms(True) "
   ]
  },
  {
   "cell_type": "code",
   "execution_count": 7,
   "id": "b691acf6",
   "metadata": {
    "execution": {
     "iopub.execute_input": "2022-03-18T19:23:53.419685Z",
     "iopub.status.busy": "2022-03-18T19:23:53.419425Z",
     "iopub.status.idle": "2022-03-18T19:23:53.434884Z",
     "shell.execute_reply": "2022-03-18T19:23:53.434409Z"
    },
    "papermill": {
     "duration": 0.030548,
     "end_time": "2022-03-18T19:23:53.434982",
     "exception": false,
     "start_time": "2022-03-18T19:23:53.404434",
     "status": "completed"
    },
    "tags": []
   },
   "outputs": [],
   "source": [
    "###########################################\n",
    "# The stratified datasets honor this\n",
    "###########################################\n",
    "torch.set_default_dtype(eval(p.torch_default_dtype))"
   ]
  },
  {
   "cell_type": "code",
   "execution_count": 8,
   "id": "b5fba671",
   "metadata": {
    "execution": {
     "iopub.execute_input": "2022-03-18T19:23:53.468659Z",
     "iopub.status.busy": "2022-03-18T19:23:53.467730Z",
     "iopub.status.idle": "2022-03-18T19:23:53.503651Z",
     "shell.execute_reply": "2022-03-18T19:23:53.504078Z"
    },
    "papermill": {
     "duration": 0.05163,
     "end_time": "2022-03-18T19:23:53.504220",
     "exception": false,
     "start_time": "2022-03-18T19:23:53.452590",
     "status": "completed"
    },
    "tags": []
   },
   "outputs": [],
   "source": [
    "###################################\n",
    "# Build the network(s)\n",
    "# Note: It's critical to do this AFTER setting the RNG\n",
    "###################################\n",
    "x_net = build_sequential(p.x_net)"
   ]
  },
  {
   "cell_type": "code",
   "execution_count": 9,
   "id": "5d7e61cc",
   "metadata": {
    "execution": {
     "iopub.execute_input": "2022-03-18T19:23:53.539617Z",
     "iopub.status.busy": "2022-03-18T19:23:53.539350Z",
     "iopub.status.idle": "2022-03-18T19:23:53.554433Z",
     "shell.execute_reply": "2022-03-18T19:23:53.554067Z"
    },
    "papermill": {
     "duration": 0.031105,
     "end_time": "2022-03-18T19:23:53.554509",
     "exception": false,
     "start_time": "2022-03-18T19:23:53.523404",
     "status": "completed"
    },
    "tags": []
   },
   "outputs": [],
   "source": [
    "start_time_secs = time.time()"
   ]
  },
  {
   "cell_type": "code",
   "execution_count": 10,
   "id": "c6b67dfd",
   "metadata": {
    "execution": {
     "iopub.execute_input": "2022-03-18T19:23:53.588176Z",
     "iopub.status.busy": "2022-03-18T19:23:53.587933Z",
     "iopub.status.idle": "2022-03-18T19:23:53.602766Z",
     "shell.execute_reply": "2022-03-18T19:23:53.602461Z"
    },
    "papermill": {
     "duration": 0.030924,
     "end_time": "2022-03-18T19:23:53.602836",
     "exception": false,
     "start_time": "2022-03-18T19:23:53.571912",
     "status": "completed"
    },
    "tags": []
   },
   "outputs": [],
   "source": [
    "p.domains_source = []\n",
    "p.domains_target = []\n",
    "\n",
    "\n",
    "train_original_source = []\n",
    "val_original_source   = []\n",
    "test_original_source  = []\n",
    "\n",
    "train_original_target = []\n",
    "val_original_target   = []\n",
    "test_original_target  = []"
   ]
  },
  {
   "cell_type": "code",
   "execution_count": 11,
   "id": "e3d9c3d3",
   "metadata": {
    "execution": {
     "iopub.execute_input": "2022-03-18T19:23:53.634870Z",
     "iopub.status.busy": "2022-03-18T19:23:53.634629Z",
     "iopub.status.idle": "2022-03-18T19:23:53.644215Z",
     "shell.execute_reply": "2022-03-18T19:23:53.643812Z"
    },
    "papermill": {
     "duration": 0.024313,
     "end_time": "2022-03-18T19:23:53.644303",
     "exception": false,
     "start_time": "2022-03-18T19:23:53.619990",
     "status": "completed"
    },
    "tags": []
   },
   "outputs": [],
   "source": [
    "# global_x_transform_func = lambda x: normalize(x.to(torch.get_default_dtype()), \"unit_power\") # unit_power, unit_mag\n",
    "# global_x_transform_func = lambda x: normalize(x, \"unit_power\") # unit_power, unit_mag"
   ]
  },
  {
   "cell_type": "code",
   "execution_count": 12,
   "id": "acb78fd2",
   "metadata": {
    "execution": {
     "iopub.execute_input": "2022-03-18T19:23:53.682954Z",
     "iopub.status.busy": "2022-03-18T19:23:53.682680Z",
     "iopub.status.idle": "2022-03-18T19:23:53.693708Z",
     "shell.execute_reply": "2022-03-18T19:23:53.694073Z"
    },
    "papermill": {
     "duration": 0.031405,
     "end_time": "2022-03-18T19:23:53.694175",
     "exception": false,
     "start_time": "2022-03-18T19:23:53.662770",
     "status": "completed"
    },
    "tags": []
   },
   "outputs": [],
   "source": [
    "def add_dataset(\n",
    "    labels,\n",
    "    domains,\n",
    "    pickle_path,\n",
    "    x_transforms,\n",
    "    episode_transforms,\n",
    "    domain_prefix,\n",
    "    num_examples_per_domain_per_label,\n",
    "    source_or_target_dataset:str,\n",
    "    iterator_seed=p.seed,\n",
    "    dataset_seed=p.dataset_seed,\n",
    "    n_shot=p.n_shot,\n",
    "    n_way=p.n_way,\n",
    "    n_query=p.n_query,\n",
    "    train_val_test_k_factors=(p.train_k_factor,p.val_k_factor,p.test_k_factor),\n",
    "):\n",
    "   \n",
    "    if x_transforms == []: x_transform = None\n",
    "    else: x_transform = get_chained_transform(x_transforms)\n",
    "    \n",
    "    if episode_transforms == []: episode_transform = None\n",
    "    else: raise Exception(\"episode_transforms not implemented\")\n",
    "    \n",
    "    episode_transform = lambda tup, _prefix=domain_prefix: (_prefix + str(tup[0]), tup[1])\n",
    "\n",
    "\n",
    "    eaf = Episodic_Accessor_Factory(\n",
    "        labels=labels,\n",
    "        domains=domains,\n",
    "        num_examples_per_domain_per_label=num_examples_per_domain_per_label,\n",
    "        iterator_seed=iterator_seed,\n",
    "        dataset_seed=dataset_seed,\n",
    "        n_shot=n_shot,\n",
    "        n_way=n_way,\n",
    "        n_query=n_query,\n",
    "        train_val_test_k_factors=train_val_test_k_factors,\n",
    "        pickle_path=pickle_path,\n",
    "        x_transform_func=x_transform,\n",
    "    )\n",
    "\n",
    "    train, val, test = eaf.get_train(), eaf.get_val(), eaf.get_test()\n",
    "    train = Lazy_Iterable_Wrapper(train, episode_transform)\n",
    "    val = Lazy_Iterable_Wrapper(val, episode_transform)\n",
    "    test = Lazy_Iterable_Wrapper(test, episode_transform)\n",
    "\n",
    "    if source_or_target_dataset==\"source\":\n",
    "        train_original_source.append(train)\n",
    "        val_original_source.append(val)\n",
    "        test_original_source.append(test)\n",
    "\n",
    "        p.domains_source.extend(\n",
    "            [domain_prefix + str(u) for u in domains]\n",
    "        )\n",
    "    elif source_or_target_dataset==\"target\":\n",
    "        train_original_target.append(train)\n",
    "        val_original_target.append(val)\n",
    "        test_original_target.append(test)\n",
    "        p.domains_target.extend(\n",
    "            [domain_prefix + str(u) for u in domains]\n",
    "        )\n",
    "    else:\n",
    "        raise Exception(f\"invalid source_or_target_dataset: {source_or_target_dataset}\")\n",
    "    "
   ]
  },
  {
   "cell_type": "code",
   "execution_count": 13,
   "id": "fe266617",
   "metadata": {
    "execution": {
     "iopub.execute_input": "2022-03-18T19:23:53.727366Z",
     "iopub.status.busy": "2022-03-18T19:23:53.727094Z",
     "iopub.status.idle": "2022-03-18T19:24:08.421492Z",
     "shell.execute_reply": "2022-03-18T19:24:08.421075Z"
    },
    "papermill": {
     "duration": 14.709916,
     "end_time": "2022-03-18T19:24:08.421593",
     "exception": false,
     "start_time": "2022-03-18T19:23:53.711677",
     "status": "completed"
    },
    "tags": []
   },
   "outputs": [],
   "source": [
    "for ds in p.datasets:\n",
    "    add_dataset(**ds)"
   ]
  },
  {
   "cell_type": "code",
   "execution_count": 14,
   "id": "b90d65ac",
   "metadata": {
    "execution": {
     "iopub.execute_input": "2022-03-18T19:24:08.457306Z",
     "iopub.status.busy": "2022-03-18T19:24:08.457058Z",
     "iopub.status.idle": "2022-03-18T19:24:08.472473Z",
     "shell.execute_reply": "2022-03-18T19:24:08.472839Z"
    },
    "papermill": {
     "duration": 0.031181,
     "end_time": "2022-03-18T19:24:08.472943",
     "exception": false,
     "start_time": "2022-03-18T19:24:08.441762",
     "status": "completed"
    },
    "tags": []
   },
   "outputs": [],
   "source": [
    "# from steves_utils.CORES.utils import (\n",
    "#     ALL_NODES,\n",
    "#     ALL_NODES_MINIMUM_1000_EXAMPLES,\n",
    "#     ALL_DAYS\n",
    "# )\n",
    "\n",
    "# add_dataset(\n",
    "#     labels=ALL_NODES,\n",
    "#     domains = ALL_DAYS,\n",
    "#     num_examples_per_domain_per_label=100,\n",
    "#     pickle_path=os.path.join(get_datasets_base_path(), \"cores.stratified_ds.2022A.pkl\"),\n",
    "#     source_or_target_dataset=\"target\",\n",
    "#     x_transform_func=global_x_transform_func,\n",
    "#     domain_modifier=lambda u: f\"cores_{u}\"\n",
    "# )"
   ]
  },
  {
   "cell_type": "code",
   "execution_count": 15,
   "id": "76db484d",
   "metadata": {
    "execution": {
     "iopub.execute_input": "2022-03-18T19:24:08.506809Z",
     "iopub.status.busy": "2022-03-18T19:24:08.506562Z",
     "iopub.status.idle": "2022-03-18T19:24:08.520864Z",
     "shell.execute_reply": "2022-03-18T19:24:08.520481Z"
    },
    "papermill": {
     "duration": 0.029572,
     "end_time": "2022-03-18T19:24:08.520953",
     "exception": false,
     "start_time": "2022-03-18T19:24:08.491381",
     "status": "completed"
    },
    "tags": []
   },
   "outputs": [],
   "source": [
    "# from steves_utils.ORACLE.utils_v2 import (\n",
    "#     ALL_DISTANCES_FEET,\n",
    "#     ALL_RUNS,\n",
    "#     ALL_SERIAL_NUMBERS,\n",
    "# )\n",
    "\n",
    "\n",
    "# add_dataset(\n",
    "#     labels=ALL_SERIAL_NUMBERS,\n",
    "#     domains = list(set(ALL_DISTANCES_FEET) - {2,62}),\n",
    "#     num_examples_per_domain_per_label=100,\n",
    "#     pickle_path=os.path.join(get_datasets_base_path(), \"oracle.Run2_framed_2000Examples_stratified_ds.2022A.pkl\"),\n",
    "#     source_or_target_dataset=\"source\",\n",
    "#     x_transform_func=global_x_transform_func,\n",
    "#     domain_modifier=lambda u: f\"oracle1_{u}\"\n",
    "# )\n"
   ]
  },
  {
   "cell_type": "code",
   "execution_count": 16,
   "id": "97dea9d2",
   "metadata": {
    "execution": {
     "iopub.execute_input": "2022-03-18T19:24:08.554515Z",
     "iopub.status.busy": "2022-03-18T19:24:08.554266Z",
     "iopub.status.idle": "2022-03-18T19:24:08.563780Z",
     "shell.execute_reply": "2022-03-18T19:24:08.563539Z"
    },
    "papermill": {
     "duration": 0.024321,
     "end_time": "2022-03-18T19:24:08.563829",
     "exception": false,
     "start_time": "2022-03-18T19:24:08.539508",
     "status": "completed"
    },
    "tags": []
   },
   "outputs": [],
   "source": [
    "# from steves_utils.ORACLE.utils_v2 import (\n",
    "#     ALL_DISTANCES_FEET,\n",
    "#     ALL_RUNS,\n",
    "#     ALL_SERIAL_NUMBERS,\n",
    "# )\n",
    "\n",
    "\n",
    "# add_dataset(\n",
    "#     labels=ALL_SERIAL_NUMBERS,\n",
    "#     domains = list(set(ALL_DISTANCES_FEET) - {2,62,56}),\n",
    "#     num_examples_per_domain_per_label=100,\n",
    "#     pickle_path=os.path.join(get_datasets_base_path(), \"oracle.Run2_framed_2000Examples_stratified_ds.2022A.pkl\"),\n",
    "#     source_or_target_dataset=\"source\",\n",
    "#     x_transform_func=global_x_transform_func,\n",
    "#     domain_modifier=lambda u: f\"oracle2_{u}\"\n",
    "# )"
   ]
  },
  {
   "cell_type": "code",
   "execution_count": 17,
   "id": "6f289866",
   "metadata": {
    "execution": {
     "iopub.execute_input": "2022-03-18T19:24:08.595204Z",
     "iopub.status.busy": "2022-03-18T19:24:08.594959Z",
     "iopub.status.idle": "2022-03-18T19:24:08.609099Z",
     "shell.execute_reply": "2022-03-18T19:24:08.608713Z"
    },
    "papermill": {
     "duration": 0.029299,
     "end_time": "2022-03-18T19:24:08.609188",
     "exception": false,
     "start_time": "2022-03-18T19:24:08.579889",
     "status": "completed"
    },
    "tags": []
   },
   "outputs": [],
   "source": [
    "# add_dataset(\n",
    "#     labels=list(range(19)),\n",
    "#     domains = [0,1,2],\n",
    "#     num_examples_per_domain_per_label=100,\n",
    "#     pickle_path=os.path.join(get_datasets_base_path(), \"metehan.stratified_ds.2022A.pkl\"),\n",
    "#     source_or_target_dataset=\"target\",\n",
    "#     x_transform_func=global_x_transform_func,\n",
    "#     domain_modifier=lambda u: f\"met_{u}\"\n",
    "# )"
   ]
  },
  {
   "cell_type": "code",
   "execution_count": 18,
   "id": "86a863c3",
   "metadata": {
    "execution": {
     "iopub.execute_input": "2022-03-18T19:24:08.643208Z",
     "iopub.status.busy": "2022-03-18T19:24:08.642964Z",
     "iopub.status.idle": "2022-03-18T19:24:08.656894Z",
     "shell.execute_reply": "2022-03-18T19:24:08.656550Z"
    },
    "papermill": {
     "duration": 0.029334,
     "end_time": "2022-03-18T19:24:08.656964",
     "exception": false,
     "start_time": "2022-03-18T19:24:08.627630",
     "status": "completed"
    },
    "tags": []
   },
   "outputs": [],
   "source": [
    "# # from steves_utils.wisig.utils import (\n",
    "# #     ALL_NODES_MINIMUM_100_EXAMPLES,\n",
    "# #     ALL_NODES_MINIMUM_500_EXAMPLES,\n",
    "# #     ALL_NODES_MINIMUM_1000_EXAMPLES,\n",
    "# #     ALL_DAYS\n",
    "# # )\n",
    "\n",
    "# import steves_utils.wisig.utils as wisig\n",
    "\n",
    "\n",
    "# add_dataset(\n",
    "#     labels=wisig.ALL_NODES_MINIMUM_100_EXAMPLES,\n",
    "#     domains = wisig.ALL_DAYS,\n",
    "#     num_examples_per_domain_per_label=100,\n",
    "#     pickle_path=os.path.join(get_datasets_base_path(), \"wisig.node3-19.stratified_ds.2022A.pkl\"),\n",
    "#     source_or_target_dataset=\"target\",\n",
    "#     x_transform_func=global_x_transform_func,\n",
    "#     domain_modifier=lambda u: f\"wisig_{u}\"\n",
    "# )"
   ]
  },
  {
   "cell_type": "code",
   "execution_count": 19,
   "id": "fd5442bc",
   "metadata": {
    "execution": {
     "iopub.execute_input": "2022-03-18T19:24:08.693549Z",
     "iopub.status.busy": "2022-03-18T19:24:08.693296Z",
     "iopub.status.idle": "2022-03-18T19:24:08.707409Z",
     "shell.execute_reply": "2022-03-18T19:24:08.706997Z"
    },
    "papermill": {
     "duration": 0.032294,
     "end_time": "2022-03-18T19:24:08.707497",
     "exception": false,
     "start_time": "2022-03-18T19:24:08.675203",
     "status": "completed"
    },
    "tags": []
   },
   "outputs": [],
   "source": [
    "###################################\n",
    "# Build the dataset\n",
    "###################################\n",
    "train_original_source = Iterable_Aggregator(train_original_source, p.seed)\n",
    "val_original_source = Iterable_Aggregator(val_original_source, p.seed)\n",
    "test_original_source = Iterable_Aggregator(test_original_source, p.seed)\n",
    "\n",
    "\n",
    "train_original_target = Iterable_Aggregator(train_original_target, p.seed)\n",
    "val_original_target = Iterable_Aggregator(val_original_target, p.seed)\n",
    "test_original_target = Iterable_Aggregator(test_original_target, p.seed)\n",
    "\n",
    "# For CNN We only use X and Y. And we only train on the source.\n",
    "# Properly form the data using a transform lambda and Lazy_Iterable_Wrapper. Finally wrap them in a dataloader\n",
    "\n",
    "transform_lambda = lambda ex: ex[1] # Original is (<domain>, <episode>) so we strip down to episode only\n",
    "\n",
    "train_processed_source = Lazy_Iterable_Wrapper(train_original_source, transform_lambda)\n",
    "val_processed_source   = Lazy_Iterable_Wrapper(val_original_source, transform_lambda)\n",
    "test_processed_source  = Lazy_Iterable_Wrapper(test_original_source, transform_lambda)\n",
    "\n",
    "train_processed_target = Lazy_Iterable_Wrapper(train_original_target, transform_lambda)\n",
    "val_processed_target   = Lazy_Iterable_Wrapper(val_original_target, transform_lambda)\n",
    "test_processed_target  = Lazy_Iterable_Wrapper(test_original_target, transform_lambda)\n",
    "\n",
    "datasets = EasyDict({\n",
    "    \"source\": {\n",
    "        \"original\": {\"train\":train_original_source, \"val\":val_original_source, \"test\":test_original_source},\n",
    "        \"processed\": {\"train\":train_processed_source, \"val\":val_processed_source, \"test\":test_processed_source}\n",
    "    },\n",
    "    \"target\": {\n",
    "        \"original\": {\"train\":train_original_target, \"val\":val_original_target, \"test\":test_original_target},\n",
    "        \"processed\": {\"train\":train_processed_target, \"val\":val_processed_target, \"test\":test_processed_target}\n",
    "    },\n",
    "})"
   ]
  },
  {
   "cell_type": "code",
   "execution_count": 20,
   "id": "5b3c01fc",
   "metadata": {
    "execution": {
     "iopub.execute_input": "2022-03-18T19:24:08.739519Z",
     "iopub.status.busy": "2022-03-18T19:24:08.739228Z",
     "iopub.status.idle": "2022-03-18T19:24:13.692460Z",
     "shell.execute_reply": "2022-03-18T19:24:13.693126Z"
    },
    "papermill": {
     "duration": 4.969979,
     "end_time": "2022-03-18T19:24:13.693325",
     "exception": false,
     "start_time": "2022-03-18T19:24:08.723346",
     "status": "completed"
    },
    "tags": []
   },
   "outputs": [
    {
     "name": "stdout",
     "output_type": "stream",
     "text": [
      "{'ORACLE.run1_20', 'ORACLE.run1_14', 'ORACLE.run1_50', 'ORACLE.run1_38', 'ORACLE.run1_44', 'ORACLE.run1_26', 'ORACLE.run1_8', 'ORACLE.run1_32'}\n"
     ]
    },
    {
     "name": "stdout",
     "output_type": "stream",
     "text": [
      "{'W_A_4', 'C_A_2', 'W_A_3', 'C_A_4', 'C_A_1', 'C_A_5', 'W_A_1', 'W_A_2', 'C_A_3'}\n"
     ]
    },
    {
     "name": "stdout",
     "output_type": "stream",
     "text": [
      "tensor([[[ 3.1434e-03,  3.7554e-03, -1.8905e-03,  ...,  2.2772e-03,\n",
      "           2.3300e-03,  4.2678e-03],\n",
      "         [-1.9837e-03,  4.6420e-04,  3.4934e-03,  ...,  3.3349e-03,\n",
      "           2.6754e-03, -1.3018e-03]],\n",
      "\n",
      "        [[ 1.5564e-03,  4.2065e-03,  1.5516e-04,  ...,  1.9070e-03,\n",
      "          -1.6537e-03,  2.0926e-03],\n",
      "         [-1.3123e-03,  1.8021e-03,  2.1467e-03,  ...,  1.4137e-03,\n",
      "           4.0193e-03,  2.1977e-03]],\n",
      "\n",
      "        [[-1.2207e-03, -2.8396e-03,  7.4901e-04,  ..., -1.8585e-03,\n",
      "           3.4975e-03,  1.2451e-04],\n",
      "         [ 9.1556e-04, -2.8302e-03, -2.4988e-03,  ..., -1.6700e-03,\n",
      "          -3.3653e-03, -2.7786e-03]],\n",
      "\n",
      "        ...,\n",
      "\n",
      "        [[-1.5564e-03, -4.1560e-03, -3.7407e-04,  ..., -3.3586e-03,\n",
      "          -3.3234e-03, -4.0958e-03],\n",
      "         [ 3.6927e-03,  1.8084e-03, -3.5948e-03,  ..., -1.8767e-03,\n",
      "          -1.9392e-03,  2.1053e-03]],\n",
      "\n",
      "        [[ 1.8921e-03,  7.7376e-04, -2.2046e-03,  ..., -1.7055e-04,\n",
      "          -4.4538e-03, -1.0563e-03],\n",
      "         [-1.7347e-18,  4.1088e-03,  1.2757e-03,  ...,  2.6277e-03,\n",
      "           6.4771e-04,  2.8180e-03]],\n",
      "\n",
      "        [[ 3.5707e-03,  3.4724e-03, -2.6740e-03,  ...,  1.6250e-03,\n",
      "           2.3603e-03,  5.3100e-03],\n",
      "         [-2.0142e-03,  8.2626e-04,  3.4413e-03,  ...,  3.5086e-03,\n",
      "           2.5881e-03, -9.8195e-04]]])\n"
     ]
    }
   ],
   "source": [
    "from steves_utils.transforms import get_average_magnitude, get_average_power\n",
    "\n",
    "print(set([u for u,_ in val_original_source]))\n",
    "print(set([u for u,_ in val_original_target]))\n",
    "\n",
    "s_x, s_y, q_x, q_y, _ = next(iter(train_processed_source))\n",
    "print(s_x)\n",
    "\n",
    "# for ds in [\n",
    "#     train_processed_source,\n",
    "#     val_processed_source,\n",
    "#     test_processed_source,\n",
    "#     train_processed_target,\n",
    "#     val_processed_target,\n",
    "#     test_processed_target\n",
    "# ]:\n",
    "#     for s_x, s_y, q_x, q_y, _ in ds:\n",
    "#         for X in (s_x, q_x):\n",
    "#             for x in X:\n",
    "#                 assert np.isclose(get_average_magnitude(x.numpy()), 1.0)\n",
    "#                 assert np.isclose(get_average_power(x.numpy()), 1.0)\n",
    "                "
   ]
  },
  {
   "cell_type": "code",
   "execution_count": 21,
   "id": "bbdacba1",
   "metadata": {
    "execution": {
     "iopub.execute_input": "2022-03-18T19:24:13.739844Z",
     "iopub.status.busy": "2022-03-18T19:24:13.739590Z",
     "iopub.status.idle": "2022-03-18T19:24:13.786007Z",
     "shell.execute_reply": "2022-03-18T19:24:13.786358Z"
    },
    "papermill": {
     "duration": 0.06466,
     "end_time": "2022-03-18T19:24:13.786470",
     "exception": false,
     "start_time": "2022-03-18T19:24:13.721810",
     "status": "completed"
    },
    "tags": []
   },
   "outputs": [
    {
     "name": "stdout",
     "output_type": "stream",
     "text": [
      "(2, 200)\n"
     ]
    }
   ],
   "source": [
    "###################################\n",
    "# Build the model\n",
    "###################################\n",
    "# easfsl only wants a tuple for the shape\n",
    "model = Steves_Prototypical_Network(x_net, device=p.device, x_shape=tuple(p.x_shape))\n",
    "optimizer = Adam(params=model.parameters(), lr=p.lr)"
   ]
  },
  {
   "cell_type": "code",
   "execution_count": 22,
   "id": "22b39ac5",
   "metadata": {
    "execution": {
     "iopub.execute_input": "2022-03-18T19:24:13.822980Z",
     "iopub.status.busy": "2022-03-18T19:24:13.822729Z",
     "iopub.status.idle": "2022-03-18T20:06:52.085008Z",
     "shell.execute_reply": "2022-03-18T20:06:52.084771Z"
    },
    "papermill": {
     "duration": 2558.279444,
     "end_time": "2022-03-18T20:06:52.085069",
     "exception": false,
     "start_time": "2022-03-18T19:24:13.805625",
     "status": "completed"
    },
    "tags": []
   },
   "outputs": [
    {
     "name": "stdout",
     "output_type": "stream",
     "text": [
      "epoch: 1, [batch: 1 / 6720], examples_per_second: 50.3818, train_label_loss: 3.0101, \n"
     ]
    },
    {
     "name": "stdout",
     "output_type": "stream",
     "text": [
      "epoch: 1, [batch: 672 / 6720], examples_per_second: 3605.6665, train_label_loss: 0.5445, \n"
     ]
    },
    {
     "name": "stdout",
     "output_type": "stream",
     "text": [
      "epoch: 1, [batch: 1344 / 6720], examples_per_second: 3654.4493, train_label_loss: 0.6826, \n"
     ]
    },
    {
     "name": "stdout",
     "output_type": "stream",
     "text": [
      "epoch: 1, [batch: 2016 / 6720], examples_per_second: 3637.3440, train_label_loss: 0.6546, \n"
     ]
    },
    {
     "name": "stdout",
     "output_type": "stream",
     "text": [
      "epoch: 1, [batch: 2688 / 6720], examples_per_second: 3607.4693, train_label_loss: 0.2746, \n"
     ]
    },
    {
     "name": "stdout",
     "output_type": "stream",
     "text": [
      "epoch: 1, [batch: 3360 / 6720], examples_per_second: 3645.2632, train_label_loss: 0.1883, \n"
     ]
    },
    {
     "name": "stdout",
     "output_type": "stream",
     "text": [
      "epoch: 1, [batch: 4032 / 6720], examples_per_second: 3639.3767, train_label_loss: 0.3919, \n"
     ]
    },
    {
     "name": "stdout",
     "output_type": "stream",
     "text": [
      "epoch: 1, [batch: 4704 / 6720], examples_per_second: 3611.0889, train_label_loss: 3.0261, \n"
     ]
    },
    {
     "name": "stdout",
     "output_type": "stream",
     "text": [
      "epoch: 1, [batch: 5376 / 6720], examples_per_second: 3621.3185, train_label_loss: 0.5880, \n"
     ]
    },
    {
     "name": "stdout",
     "output_type": "stream",
     "text": [
      "epoch: 1, [batch: 6048 / 6720], examples_per_second: 3626.6608, train_label_loss: 0.2630, \n"
     ]
    },
    {
     "name": "stdout",
     "output_type": "stream",
     "text": [
      "=============================================================\n",
      "epoch: 1, source_val_acc_label: 0.5661, target_val_acc_label: 0.4502, source_val_label_loss: 2534.8904, target_val_label_loss: 358797.5938, \n",
      "=============================================================\n"
     ]
    },
    {
     "name": "stdout",
     "output_type": "stream",
     "text": [
      "New best\n"
     ]
    },
    {
     "name": "stdout",
     "output_type": "stream",
     "text": [
      "epoch: 2, [batch: 1 / 6720], examples_per_second: 6.0450, train_label_loss: 3461.1829, \n"
     ]
    },
    {
     "name": "stdout",
     "output_type": "stream",
     "text": [
      "epoch: 2, [batch: 672 / 6720], examples_per_second: 3619.5680, train_label_loss: 0.6349, \n"
     ]
    },
    {
     "name": "stdout",
     "output_type": "stream",
     "text": [
      "epoch: 2, [batch: 1344 / 6720], examples_per_second: 3620.0721, train_label_loss: 11.0210, \n"
     ]
    },
    {
     "name": "stdout",
     "output_type": "stream",
     "text": [
      "epoch: 2, [batch: 2016 / 6720], examples_per_second: 3630.1067, train_label_loss: 0.3028, \n"
     ]
    },
    {
     "name": "stdout",
     "output_type": "stream",
     "text": [
      "epoch: 2, [batch: 2688 / 6720], examples_per_second: 3602.9753, train_label_loss: 0.4188, \n"
     ]
    },
    {
     "name": "stdout",
     "output_type": "stream",
     "text": [
      "epoch: 2, [batch: 3360 / 6720], examples_per_second: 3615.5272, train_label_loss: 0.1264, \n"
     ]
    },
    {
     "name": "stdout",
     "output_type": "stream",
     "text": [
      "epoch: 2, [batch: 4032 / 6720], examples_per_second: 3646.2508, train_label_loss: 0.3604, \n"
     ]
    },
    {
     "name": "stdout",
     "output_type": "stream",
     "text": [
      "epoch: 2, [batch: 4704 / 6720], examples_per_second: 3601.5774, train_label_loss: 0.2436, \n"
     ]
    },
    {
     "name": "stdout",
     "output_type": "stream",
     "text": [
      "epoch: 2, [batch: 5376 / 6720], examples_per_second: 3635.6692, train_label_loss: 0.2379, \n"
     ]
    },
    {
     "name": "stdout",
     "output_type": "stream",
     "text": [
      "epoch: 2, [batch: 6048 / 6720], examples_per_second: 3633.3443, train_label_loss: 0.3051, \n"
     ]
    },
    {
     "name": "stdout",
     "output_type": "stream",
     "text": [
      "=============================================================\n",
      "epoch: 2, source_val_acc_label: 0.8563, target_val_acc_label: 0.3609, source_val_label_loss: 0.3976, target_val_label_loss: 113382.7109, \n",
      "=============================================================\n"
     ]
    },
    {
     "name": "stdout",
     "output_type": "stream",
     "text": [
      "New best\n"
     ]
    },
    {
     "name": "stdout",
     "output_type": "stream",
     "text": [
      "epoch: 3, [batch: 1 / 6720], examples_per_second: 6.0209, train_label_loss: 0.1811, \n"
     ]
    },
    {
     "name": "stdout",
     "output_type": "stream",
     "text": [
      "epoch: 3, [batch: 672 / 6720], examples_per_second: 3619.3414, train_label_loss: 0.2132, \n"
     ]
    },
    {
     "name": "stdout",
     "output_type": "stream",
     "text": [
      "epoch: 3, [batch: 1344 / 6720], examples_per_second: 3601.0214, train_label_loss: 0.3033, \n"
     ]
    },
    {
     "name": "stdout",
     "output_type": "stream",
     "text": [
      "epoch: 3, [batch: 2016 / 6720], examples_per_second: 3630.1451, train_label_loss: 0.3766, \n"
     ]
    },
    {
     "name": "stdout",
     "output_type": "stream",
     "text": [
      "epoch: 3, [batch: 2688 / 6720], examples_per_second: 3616.8460, train_label_loss: 0.2128, \n"
     ]
    },
    {
     "name": "stdout",
     "output_type": "stream",
     "text": [
      "epoch: 3, [batch: 3360 / 6720], examples_per_second: 3635.8937, train_label_loss: 0.3188, \n"
     ]
    },
    {
     "name": "stdout",
     "output_type": "stream",
     "text": [
      "epoch: 3, [batch: 4032 / 6720], examples_per_second: 3642.0659, train_label_loss: 0.3679, \n"
     ]
    },
    {
     "name": "stdout",
     "output_type": "stream",
     "text": [
      "epoch: 3, [batch: 4704 / 6720], examples_per_second: 3628.5498, train_label_loss: 0.2307, \n"
     ]
    },
    {
     "name": "stdout",
     "output_type": "stream",
     "text": [
      "epoch: 3, [batch: 5376 / 6720], examples_per_second: 3628.4763, train_label_loss: 0.4222, \n"
     ]
    },
    {
     "name": "stdout",
     "output_type": "stream",
     "text": [
      "epoch: 3, [batch: 6048 / 6720], examples_per_second: 3636.4237, train_label_loss: 0.2966, \n"
     ]
    },
    {
     "name": "stdout",
     "output_type": "stream",
     "text": [
      "=============================================================\n",
      "epoch: 3, source_val_acc_label: 0.8704, target_val_acc_label: 0.3557, source_val_label_loss: 0.3644, target_val_label_loss: 111755.7109, \n",
      "=============================================================\n"
     ]
    },
    {
     "name": "stdout",
     "output_type": "stream",
     "text": [
      "New best\n"
     ]
    },
    {
     "name": "stdout",
     "output_type": "stream",
     "text": [
      "epoch: 4, [batch: 1 / 6720], examples_per_second: 6.0269, train_label_loss: 0.4617, \n"
     ]
    },
    {
     "name": "stdout",
     "output_type": "stream",
     "text": [
      "epoch: 4, [batch: 672 / 6720], examples_per_second: 3619.6369, train_label_loss: 0.2306, \n"
     ]
    },
    {
     "name": "stdout",
     "output_type": "stream",
     "text": [
      "epoch: 4, [batch: 1344 / 6720], examples_per_second: 3635.3977, train_label_loss: 0.4024, \n"
     ]
    },
    {
     "name": "stdout",
     "output_type": "stream",
     "text": [
      "epoch: 4, [batch: 2016 / 6720], examples_per_second: 3657.3144, train_label_loss: 0.3983, \n"
     ]
    },
    {
     "name": "stdout",
     "output_type": "stream",
     "text": [
      "epoch: 4, [batch: 2688 / 6720], examples_per_second: 3625.4226, train_label_loss: 0.3655, \n"
     ]
    },
    {
     "name": "stdout",
     "output_type": "stream",
     "text": [
      "epoch: 4, [batch: 3360 / 6720], examples_per_second: 3644.3450, train_label_loss: 0.4162, \n"
     ]
    },
    {
     "name": "stdout",
     "output_type": "stream",
     "text": [
      "epoch: 4, [batch: 4032 / 6720], examples_per_second: 3645.9397, train_label_loss: 0.1066, \n"
     ]
    },
    {
     "name": "stdout",
     "output_type": "stream",
     "text": [
      "epoch: 4, [batch: 4704 / 6720], examples_per_second: 3625.6205, train_label_loss: 0.3920, \n"
     ]
    },
    {
     "name": "stdout",
     "output_type": "stream",
     "text": [
      "epoch: 4, [batch: 5376 / 6720], examples_per_second: 3633.1425, train_label_loss: 0.3606, \n"
     ]
    },
    {
     "name": "stdout",
     "output_type": "stream",
     "text": [
      "epoch: 4, [batch: 6048 / 6720], examples_per_second: 3625.0423, train_label_loss: 0.2094, \n"
     ]
    },
    {
     "name": "stdout",
     "output_type": "stream",
     "text": [
      "=============================================================\n",
      "epoch: 4, source_val_acc_label: 0.8660, target_val_acc_label: 0.3894, source_val_label_loss: 0.3742, target_val_label_loss: 90903.7891, \n",
      "=============================================================\n"
     ]
    },
    {
     "name": "stdout",
     "output_type": "stream",
     "text": [
      "New best\n"
     ]
    },
    {
     "name": "stdout",
     "output_type": "stream",
     "text": [
      "epoch: 5, [batch: 1 / 6720], examples_per_second: 6.0350, train_label_loss: 0.4468, \n"
     ]
    },
    {
     "name": "stdout",
     "output_type": "stream",
     "text": [
      "epoch: 5, [batch: 672 / 6720], examples_per_second: 3621.6924, train_label_loss: 0.4403, \n"
     ]
    },
    {
     "name": "stdout",
     "output_type": "stream",
     "text": [
      "epoch: 5, [batch: 1344 / 6720], examples_per_second: 3650.4394, train_label_loss: 0.4507, \n"
     ]
    },
    {
     "name": "stdout",
     "output_type": "stream",
     "text": [
      "epoch: 5, [batch: 2016 / 6720], examples_per_second: 3623.6317, train_label_loss: 0.3712, \n"
     ]
    },
    {
     "name": "stdout",
     "output_type": "stream",
     "text": [
      "epoch: 5, [batch: 2688 / 6720], examples_per_second: 3572.9252, train_label_loss: 0.1798, \n"
     ]
    },
    {
     "name": "stdout",
     "output_type": "stream",
     "text": [
      "epoch: 5, [batch: 3360 / 6720], examples_per_second: 3605.1478, train_label_loss: 0.3433, \n"
     ]
    },
    {
     "name": "stdout",
     "output_type": "stream",
     "text": [
      "epoch: 5, [batch: 4032 / 6720], examples_per_second: 3614.1040, train_label_loss: 0.4152, \n"
     ]
    },
    {
     "name": "stdout",
     "output_type": "stream",
     "text": [
      "epoch: 5, [batch: 4704 / 6720], examples_per_second: 3601.7609, train_label_loss: 0.2020, \n"
     ]
    },
    {
     "name": "stdout",
     "output_type": "stream",
     "text": [
      "epoch: 5, [batch: 5376 / 6720], examples_per_second: 3633.2547, train_label_loss: 0.1352, \n"
     ]
    },
    {
     "name": "stdout",
     "output_type": "stream",
     "text": [
      "epoch: 5, [batch: 6048 / 6720], examples_per_second: 3623.0575, train_label_loss: 0.1708, \n"
     ]
    },
    {
     "name": "stdout",
     "output_type": "stream",
     "text": [
      "=============================================================\n",
      "epoch: 5, source_val_acc_label: 0.8915, target_val_acc_label: 0.3947, source_val_label_loss: 0.3081, target_val_label_loss: 79646.6953, \n",
      "=============================================================\n"
     ]
    },
    {
     "name": "stdout",
     "output_type": "stream",
     "text": [
      "New best\n"
     ]
    },
    {
     "name": "stdout",
     "output_type": "stream",
     "text": [
      "epoch: 6, [batch: 1 / 6720], examples_per_second: 6.0282, train_label_loss: 0.3561, \n"
     ]
    },
    {
     "name": "stdout",
     "output_type": "stream",
     "text": [
      "epoch: 6, [batch: 672 / 6720], examples_per_second: 3614.8565, train_label_loss: 0.2633, \n"
     ]
    },
    {
     "name": "stdout",
     "output_type": "stream",
     "text": [
      "epoch: 6, [batch: 1344 / 6720], examples_per_second: 3619.9595, train_label_loss: 0.1479, \n"
     ]
    },
    {
     "name": "stdout",
     "output_type": "stream",
     "text": [
      "epoch: 6, [batch: 2016 / 6720], examples_per_second: 3639.7059, train_label_loss: 0.4271, \n"
     ]
    },
    {
     "name": "stdout",
     "output_type": "stream",
     "text": [
      "epoch: 6, [batch: 2688 / 6720], examples_per_second: 3630.2430, train_label_loss: 0.0616, \n"
     ]
    },
    {
     "name": "stdout",
     "output_type": "stream",
     "text": [
      "epoch: 6, [batch: 3360 / 6720], examples_per_second: 3637.8346, train_label_loss: 0.3752, \n"
     ]
    },
    {
     "name": "stdout",
     "output_type": "stream",
     "text": [
      "epoch: 6, [batch: 4032 / 6720], examples_per_second: 3618.8016, train_label_loss: 0.2187, \n"
     ]
    },
    {
     "name": "stdout",
     "output_type": "stream",
     "text": [
      "epoch: 6, [batch: 4704 / 6720], examples_per_second: 3613.3372, train_label_loss: 0.2498, \n"
     ]
    },
    {
     "name": "stdout",
     "output_type": "stream",
     "text": [
      "epoch: 6, [batch: 5376 / 6720], examples_per_second: 3622.6456, train_label_loss: 0.4662, \n"
     ]
    },
    {
     "name": "stdout",
     "output_type": "stream",
     "text": [
      "epoch: 6, [batch: 6048 / 6720], examples_per_second: 3616.1019, train_label_loss: 0.4193, \n"
     ]
    },
    {
     "name": "stdout",
     "output_type": "stream",
     "text": [
      "=============================================================\n",
      "epoch: 6, source_val_acc_label: 0.9035, target_val_acc_label: 0.4044, source_val_label_loss: 0.2913, target_val_label_loss: 75059.8906, \n",
      "=============================================================\n"
     ]
    },
    {
     "name": "stdout",
     "output_type": "stream",
     "text": [
      "New best\n"
     ]
    },
    {
     "name": "stdout",
     "output_type": "stream",
     "text": [
      "epoch: 7, [batch: 1 / 6720], examples_per_second: 5.9891, train_label_loss: 0.2838, \n"
     ]
    },
    {
     "name": "stdout",
     "output_type": "stream",
     "text": [
      "epoch: 7, [batch: 672 / 6720], examples_per_second: 3631.9441, train_label_loss: 0.1817, \n"
     ]
    },
    {
     "name": "stdout",
     "output_type": "stream",
     "text": [
      "epoch: 7, [batch: 1344 / 6720], examples_per_second: 3621.1461, train_label_loss: 0.3973, \n"
     ]
    },
    {
     "name": "stdout",
     "output_type": "stream",
     "text": [
      "epoch: 7, [batch: 2016 / 6720], examples_per_second: 3631.7706, train_label_loss: 0.3669, \n"
     ]
    },
    {
     "name": "stdout",
     "output_type": "stream",
     "text": [
      "epoch: 7, [batch: 2688 / 6720], examples_per_second: 3619.1224, train_label_loss: 0.1704, \n"
     ]
    },
    {
     "name": "stdout",
     "output_type": "stream",
     "text": [
      "epoch: 7, [batch: 3360 / 6720], examples_per_second: 3631.5607, train_label_loss: 0.3779, \n"
     ]
    },
    {
     "name": "stdout",
     "output_type": "stream",
     "text": [
      "epoch: 7, [batch: 4032 / 6720], examples_per_second: 3641.6564, train_label_loss: 0.2522, \n"
     ]
    },
    {
     "name": "stdout",
     "output_type": "stream",
     "text": [
      "epoch: 7, [batch: 4704 / 6720], examples_per_second: 3627.0212, train_label_loss: 0.1493, \n"
     ]
    },
    {
     "name": "stdout",
     "output_type": "stream",
     "text": [
      "epoch: 7, [batch: 5376 / 6720], examples_per_second: 3652.9877, train_label_loss: 0.1834, \n"
     ]
    },
    {
     "name": "stdout",
     "output_type": "stream",
     "text": [
      "epoch: 7, [batch: 6048 / 6720], examples_per_second: 3646.0803, train_label_loss: 0.1508, \n"
     ]
    },
    {
     "name": "stdout",
     "output_type": "stream",
     "text": [
      "=============================================================\n",
      "epoch: 7, source_val_acc_label: 0.8968, target_val_acc_label: 0.4166, source_val_label_loss: 0.2923, target_val_label_loss: 72910.5234, \n",
      "=============================================================\n"
     ]
    },
    {
     "name": "stdout",
     "output_type": "stream",
     "text": [
      "New best\n"
     ]
    },
    {
     "name": "stdout",
     "output_type": "stream",
     "text": [
      "epoch: 8, [batch: 1 / 6720], examples_per_second: 6.0140, train_label_loss: 0.2071, \n"
     ]
    },
    {
     "name": "stdout",
     "output_type": "stream",
     "text": [
      "epoch: 8, [batch: 672 / 6720], examples_per_second: 3608.8525, train_label_loss: 0.4081, \n"
     ]
    },
    {
     "name": "stdout",
     "output_type": "stream",
     "text": [
      "epoch: 8, [batch: 1344 / 6720], examples_per_second: 3636.1198, train_label_loss: 0.2837, \n"
     ]
    },
    {
     "name": "stdout",
     "output_type": "stream",
     "text": [
      "epoch: 8, [batch: 2016 / 6720], examples_per_second: 3649.2531, train_label_loss: 0.4394, \n"
     ]
    },
    {
     "name": "stdout",
     "output_type": "stream",
     "text": [
      "epoch: 8, [batch: 2688 / 6720], examples_per_second: 3647.4642, train_label_loss: 0.5576, \n"
     ]
    },
    {
     "name": "stdout",
     "output_type": "stream",
     "text": [
      "epoch: 8, [batch: 3360 / 6720], examples_per_second: 3642.1759, train_label_loss: 0.1030, \n"
     ]
    },
    {
     "name": "stdout",
     "output_type": "stream",
     "text": [
      "epoch: 8, [batch: 4032 / 6720], examples_per_second: 3649.5702, train_label_loss: 0.4727, \n"
     ]
    },
    {
     "name": "stdout",
     "output_type": "stream",
     "text": [
      "epoch: 8, [batch: 4704 / 6720], examples_per_second: 3631.4189, train_label_loss: 0.2917, \n"
     ]
    },
    {
     "name": "stdout",
     "output_type": "stream",
     "text": [
      "epoch: 8, [batch: 5376 / 6720], examples_per_second: 3642.6306, train_label_loss: 0.1741, \n"
     ]
    },
    {
     "name": "stdout",
     "output_type": "stream",
     "text": [
      "epoch: 8, [batch: 6048 / 6720], examples_per_second: 3635.4424, train_label_loss: 0.2893, \n"
     ]
    },
    {
     "name": "stdout",
     "output_type": "stream",
     "text": [
      "=============================================================\n",
      "epoch: 8, source_val_acc_label: 0.9117, target_val_acc_label: 0.4335, source_val_label_loss: 0.2511, target_val_label_loss: 76081.4766, \n",
      "=============================================================\n"
     ]
    },
    {
     "name": "stdout",
     "output_type": "stream",
     "text": [
      "epoch: 9, [batch: 1 / 6720], examples_per_second: 6.0373, train_label_loss: 0.3541, \n"
     ]
    },
    {
     "name": "stdout",
     "output_type": "stream",
     "text": [
      "epoch: 9, [batch: 672 / 6720], examples_per_second: 3608.0344, train_label_loss: 0.3894, \n"
     ]
    },
    {
     "name": "stdout",
     "output_type": "stream",
     "text": [
      "epoch: 9, [batch: 1344 / 6720], examples_per_second: 3614.8248, train_label_loss: 0.0867, \n"
     ]
    },
    {
     "name": "stdout",
     "output_type": "stream",
     "text": [
      "epoch: 9, [batch: 2016 / 6720], examples_per_second: 3640.8703, train_label_loss: 0.4191, \n"
     ]
    },
    {
     "name": "stdout",
     "output_type": "stream",
     "text": [
      "epoch: 9, [batch: 2688 / 6720], examples_per_second: 3622.4806, train_label_loss: 0.1195, \n"
     ]
    },
    {
     "name": "stdout",
     "output_type": "stream",
     "text": [
      "epoch: 9, [batch: 3360 / 6720], examples_per_second: 3645.3967, train_label_loss: 0.2726, \n"
     ]
    },
    {
     "name": "stdout",
     "output_type": "stream",
     "text": [
      "epoch: 9, [batch: 4032 / 6720], examples_per_second: 3639.6350, train_label_loss: 0.1739, \n"
     ]
    },
    {
     "name": "stdout",
     "output_type": "stream",
     "text": [
      "epoch: 9, [batch: 4704 / 6720], examples_per_second: 3625.5473, train_label_loss: 0.1987, \n"
     ]
    },
    {
     "name": "stdout",
     "output_type": "stream",
     "text": [
      "epoch: 9, [batch: 5376 / 6720], examples_per_second: 3634.8797, train_label_loss: 0.2493, \n"
     ]
    },
    {
     "name": "stdout",
     "output_type": "stream",
     "text": [
      "epoch: 9, [batch: 6048 / 6720], examples_per_second: 3636.1452, train_label_loss: 0.4133, \n"
     ]
    },
    {
     "name": "stdout",
     "output_type": "stream",
     "text": [
      "=============================================================\n",
      "epoch: 9, source_val_acc_label: 0.9017, target_val_acc_label: 0.5925, source_val_label_loss: 0.2746, target_val_label_loss: 67181.0156, \n",
      "=============================================================\n"
     ]
    },
    {
     "name": "stdout",
     "output_type": "stream",
     "text": [
      "New best\n"
     ]
    },
    {
     "name": "stdout",
     "output_type": "stream",
     "text": [
      "epoch: 10, [batch: 1 / 6720], examples_per_second: 6.0224, train_label_loss: 0.1414, \n"
     ]
    },
    {
     "name": "stdout",
     "output_type": "stream",
     "text": [
      "epoch: 10, [batch: 672 / 6720], examples_per_second: 3618.5827, train_label_loss: 0.6834, \n"
     ]
    },
    {
     "name": "stdout",
     "output_type": "stream",
     "text": [
      "epoch: 10, [batch: 1344 / 6720], examples_per_second: 3630.0913, train_label_loss: 0.2095, \n"
     ]
    },
    {
     "name": "stdout",
     "output_type": "stream",
     "text": [
      "epoch: 10, [batch: 2016 / 6720], examples_per_second: 3630.9899, train_label_loss: 0.0555, \n"
     ]
    },
    {
     "name": "stdout",
     "output_type": "stream",
     "text": [
      "epoch: 10, [batch: 2688 / 6720], examples_per_second: 3619.1676, train_label_loss: 0.1210, \n"
     ]
    },
    {
     "name": "stdout",
     "output_type": "stream",
     "text": [
      "epoch: 10, [batch: 3360 / 6720], examples_per_second: 3635.8336, train_label_loss: 0.1195, \n"
     ]
    },
    {
     "name": "stdout",
     "output_type": "stream",
     "text": [
      "epoch: 10, [batch: 4032 / 6720], examples_per_second: 3642.3273, train_label_loss: 0.5324, \n"
     ]
    },
    {
     "name": "stdout",
     "output_type": "stream",
     "text": [
      "epoch: 10, [batch: 4704 / 6720], examples_per_second: 3618.7390, train_label_loss: 0.2551, \n"
     ]
    },
    {
     "name": "stdout",
     "output_type": "stream",
     "text": [
      "epoch: 10, [batch: 5376 / 6720], examples_per_second: 3632.8764, train_label_loss: 0.2675, \n"
     ]
    },
    {
     "name": "stdout",
     "output_type": "stream",
     "text": [
      "epoch: 10, [batch: 6048 / 6720], examples_per_second: 3640.2910, train_label_loss: 0.2853, \n"
     ]
    },
    {
     "name": "stdout",
     "output_type": "stream",
     "text": [
      "=============================================================\n",
      "epoch: 10, source_val_acc_label: 0.9104, target_val_acc_label: 0.5960, source_val_label_loss: 0.2524, target_val_label_loss: 67987.8516, \n",
      "=============================================================\n"
     ]
    },
    {
     "name": "stdout",
     "output_type": "stream",
     "text": [
      "epoch: 11, [batch: 1 / 6720], examples_per_second: 6.0283, train_label_loss: 0.2920, \n"
     ]
    },
    {
     "name": "stdout",
     "output_type": "stream",
     "text": [
      "epoch: 11, [batch: 672 / 6720], examples_per_second: 3577.7746, train_label_loss: 0.1679, \n"
     ]
    },
    {
     "name": "stdout",
     "output_type": "stream",
     "text": [
      "epoch: 11, [batch: 1344 / 6720], examples_per_second: 3601.5805, train_label_loss: 0.2662, \n"
     ]
    },
    {
     "name": "stdout",
     "output_type": "stream",
     "text": [
      "epoch: 11, [batch: 2016 / 6720], examples_per_second: 3635.4522, train_label_loss: 0.3561, \n"
     ]
    },
    {
     "name": "stdout",
     "output_type": "stream",
     "text": [
      "epoch: 11, [batch: 2688 / 6720], examples_per_second: 3618.4536, train_label_loss: 0.1612, \n"
     ]
    },
    {
     "name": "stdout",
     "output_type": "stream",
     "text": [
      "epoch: 11, [batch: 3360 / 6720], examples_per_second: 3630.7516, train_label_loss: 0.0673, \n"
     ]
    },
    {
     "name": "stdout",
     "output_type": "stream",
     "text": [
      "epoch: 11, [batch: 4032 / 6720], examples_per_second: 3626.0132, train_label_loss: 0.3207, \n"
     ]
    },
    {
     "name": "stdout",
     "output_type": "stream",
     "text": [
      "epoch: 11, [batch: 4704 / 6720], examples_per_second: 3623.9390, train_label_loss: 0.3518, \n"
     ]
    },
    {
     "name": "stdout",
     "output_type": "stream",
     "text": [
      "epoch: 11, [batch: 5376 / 6720], examples_per_second: 3639.1024, train_label_loss: 0.2861, \n"
     ]
    },
    {
     "name": "stdout",
     "output_type": "stream",
     "text": [
      "epoch: 11, [batch: 6048 / 6720], examples_per_second: 3639.4954, train_label_loss: 0.0713, \n"
     ]
    },
    {
     "name": "stdout",
     "output_type": "stream",
     "text": [
      "=============================================================\n",
      "epoch: 11, source_val_acc_label: 0.9185, target_val_acc_label: 0.6018, source_val_label_loss: 0.2405, target_val_label_loss: 69061.7031, \n",
      "=============================================================\n"
     ]
    },
    {
     "name": "stdout",
     "output_type": "stream",
     "text": [
      "epoch: 12, [batch: 1 / 6720], examples_per_second: 6.0198, train_label_loss: 0.0800, \n"
     ]
    },
    {
     "name": "stdout",
     "output_type": "stream",
     "text": [
      "epoch: 12, [batch: 672 / 6720], examples_per_second: 3623.8922, train_label_loss: 0.2020, \n"
     ]
    },
    {
     "name": "stdout",
     "output_type": "stream",
     "text": [
      "epoch: 12, [batch: 1344 / 6720], examples_per_second: 3638.5365, train_label_loss: 0.3865, \n"
     ]
    },
    {
     "name": "stdout",
     "output_type": "stream",
     "text": [
      "epoch: 12, [batch: 2016 / 6720], examples_per_second: 3621.2530, train_label_loss: 0.1079, \n"
     ]
    },
    {
     "name": "stdout",
     "output_type": "stream",
     "text": [
      "epoch: 12, [batch: 2688 / 6720], examples_per_second: 3641.8857, train_label_loss: 0.4282, \n"
     ]
    },
    {
     "name": "stdout",
     "output_type": "stream",
     "text": [
      "epoch: 12, [batch: 3360 / 6720], examples_per_second: 3646.6378, train_label_loss: 0.2181, \n"
     ]
    },
    {
     "name": "stdout",
     "output_type": "stream",
     "text": [
      "epoch: 12, [batch: 4032 / 6720], examples_per_second: 3628.9517, train_label_loss: 0.2570, \n"
     ]
    },
    {
     "name": "stdout",
     "output_type": "stream",
     "text": [
      "epoch: 12, [batch: 4704 / 6720], examples_per_second: 3626.4149, train_label_loss: 0.0935, \n"
     ]
    },
    {
     "name": "stdout",
     "output_type": "stream",
     "text": [
      "epoch: 12, [batch: 5376 / 6720], examples_per_second: 3621.3199, train_label_loss: 0.3102, \n"
     ]
    },
    {
     "name": "stdout",
     "output_type": "stream",
     "text": [
      "epoch: 12, [batch: 6048 / 6720], examples_per_second: 3634.7106, train_label_loss: 0.2725, \n"
     ]
    },
    {
     "name": "stdout",
     "output_type": "stream",
     "text": [
      "=============================================================\n",
      "epoch: 12, source_val_acc_label: 0.9139, target_val_acc_label: 0.6124, source_val_label_loss: 0.2494, target_val_label_loss: 63240.5117, \n",
      "=============================================================\n"
     ]
    },
    {
     "name": "stdout",
     "output_type": "stream",
     "text": [
      "New best\n"
     ]
    },
    {
     "name": "stdout",
     "output_type": "stream",
     "text": [
      "epoch: 13, [batch: 1 / 6720], examples_per_second: 6.0353, train_label_loss: 0.2052, \n"
     ]
    },
    {
     "name": "stdout",
     "output_type": "stream",
     "text": [
      "epoch: 13, [batch: 672 / 6720], examples_per_second: 3627.7742, train_label_loss: 0.1117, \n"
     ]
    },
    {
     "name": "stdout",
     "output_type": "stream",
     "text": [
      "epoch: 13, [batch: 1344 / 6720], examples_per_second: 3625.5555, train_label_loss: 0.0941, \n"
     ]
    },
    {
     "name": "stdout",
     "output_type": "stream",
     "text": [
      "epoch: 13, [batch: 2016 / 6720], examples_per_second: 3633.3527, train_label_loss: 0.1118, \n"
     ]
    },
    {
     "name": "stdout",
     "output_type": "stream",
     "text": [
      "epoch: 13, [batch: 2688 / 6720], examples_per_second: 3629.5317, train_label_loss: 0.2208, \n"
     ]
    },
    {
     "name": "stdout",
     "output_type": "stream",
     "text": [
      "epoch: 13, [batch: 3360 / 6720], examples_per_second: 3649.2797, train_label_loss: 0.2814, \n"
     ]
    },
    {
     "name": "stdout",
     "output_type": "stream",
     "text": [
      "epoch: 13, [batch: 4032 / 6720], examples_per_second: 3623.2642, train_label_loss: 0.4308, \n"
     ]
    },
    {
     "name": "stdout",
     "output_type": "stream",
     "text": [
      "epoch: 13, [batch: 4704 / 6720], examples_per_second: 3628.4475, train_label_loss: 0.2336, \n"
     ]
    },
    {
     "name": "stdout",
     "output_type": "stream",
     "text": [
      "epoch: 13, [batch: 5376 / 6720], examples_per_second: 3635.6006, train_label_loss: 0.4372, \n"
     ]
    },
    {
     "name": "stdout",
     "output_type": "stream",
     "text": [
      "epoch: 13, [batch: 6048 / 6720], examples_per_second: 3624.2418, train_label_loss: 0.1877, \n"
     ]
    },
    {
     "name": "stdout",
     "output_type": "stream",
     "text": [
      "=============================================================\n",
      "epoch: 13, source_val_acc_label: 0.9127, target_val_acc_label: 0.6087, source_val_label_loss: 0.2509, target_val_label_loss: 64168.8438, \n",
      "=============================================================\n"
     ]
    },
    {
     "name": "stdout",
     "output_type": "stream",
     "text": [
      "epoch: 14, [batch: 1 / 6720], examples_per_second: 5.9939, train_label_loss: 0.1987, \n"
     ]
    },
    {
     "name": "stdout",
     "output_type": "stream",
     "text": [
      "epoch: 14, [batch: 672 / 6720], examples_per_second: 3605.4301, train_label_loss: 0.0490, \n"
     ]
    },
    {
     "name": "stdout",
     "output_type": "stream",
     "text": [
      "epoch: 14, [batch: 1344 / 6720], examples_per_second: 3638.8600, train_label_loss: 0.1302, \n"
     ]
    },
    {
     "name": "stdout",
     "output_type": "stream",
     "text": [
      "epoch: 14, [batch: 2016 / 6720], examples_per_second: 3631.5648, train_label_loss: 0.1570, \n"
     ]
    },
    {
     "name": "stdout",
     "output_type": "stream",
     "text": [
      "epoch: 14, [batch: 2688 / 6720], examples_per_second: 3614.5440, train_label_loss: 0.1111, \n"
     ]
    },
    {
     "name": "stdout",
     "output_type": "stream",
     "text": [
      "epoch: 14, [batch: 3360 / 6720], examples_per_second: 3640.6268, train_label_loss: 0.2538, \n"
     ]
    },
    {
     "name": "stdout",
     "output_type": "stream",
     "text": [
      "epoch: 14, [batch: 4032 / 6720], examples_per_second: 3626.6182, train_label_loss: 0.1588, \n"
     ]
    },
    {
     "name": "stdout",
     "output_type": "stream",
     "text": [
      "epoch: 14, [batch: 4704 / 6720], examples_per_second: 3623.7119, train_label_loss: 0.2648, \n"
     ]
    },
    {
     "name": "stdout",
     "output_type": "stream",
     "text": [
      "epoch: 14, [batch: 5376 / 6720], examples_per_second: 3642.8566, train_label_loss: 0.0791, \n"
     ]
    },
    {
     "name": "stdout",
     "output_type": "stream",
     "text": [
      "epoch: 14, [batch: 6048 / 6720], examples_per_second: 3631.2763, train_label_loss: 0.1695, \n"
     ]
    },
    {
     "name": "stdout",
     "output_type": "stream",
     "text": [
      "=============================================================\n",
      "epoch: 14, source_val_acc_label: 0.9076, target_val_acc_label: 0.6170, source_val_label_loss: 0.2616, target_val_label_loss: 67126.3906, \n",
      "=============================================================\n"
     ]
    },
    {
     "name": "stdout",
     "output_type": "stream",
     "text": [
      "epoch: 15, [batch: 1 / 6720], examples_per_second: 6.0464, train_label_loss: 0.3030, \n"
     ]
    },
    {
     "name": "stdout",
     "output_type": "stream",
     "text": [
      "epoch: 15, [batch: 672 / 6720], examples_per_second: 3622.2274, train_label_loss: 0.3205, \n"
     ]
    },
    {
     "name": "stdout",
     "output_type": "stream",
     "text": [
      "epoch: 15, [batch: 1344 / 6720], examples_per_second: 3622.1058, train_label_loss: 0.0546, \n"
     ]
    },
    {
     "name": "stdout",
     "output_type": "stream",
     "text": [
      "epoch: 15, [batch: 2016 / 6720], examples_per_second: 3633.5939, train_label_loss: 0.3401, \n"
     ]
    },
    {
     "name": "stdout",
     "output_type": "stream",
     "text": [
      "epoch: 15, [batch: 2688 / 6720], examples_per_second: 3618.8251, train_label_loss: 0.2827, \n"
     ]
    },
    {
     "name": "stdout",
     "output_type": "stream",
     "text": [
      "epoch: 15, [batch: 3360 / 6720], examples_per_second: 3644.6208, train_label_loss: 0.1613, \n"
     ]
    },
    {
     "name": "stdout",
     "output_type": "stream",
     "text": [
      "epoch: 15, [batch: 4032 / 6720], examples_per_second: 3647.5969, train_label_loss: 0.0792, \n"
     ]
    },
    {
     "name": "stdout",
     "output_type": "stream",
     "text": [
      "epoch: 15, [batch: 4704 / 6720], examples_per_second: 3614.5070, train_label_loss: 0.3803, \n"
     ]
    },
    {
     "name": "stdout",
     "output_type": "stream",
     "text": [
      "epoch: 15, [batch: 5376 / 6720], examples_per_second: 3650.6558, train_label_loss: 0.3603, \n"
     ]
    },
    {
     "name": "stdout",
     "output_type": "stream",
     "text": [
      "epoch: 15, [batch: 6048 / 6720], examples_per_second: 3619.3008, train_label_loss: 0.2443, \n"
     ]
    },
    {
     "name": "stdout",
     "output_type": "stream",
     "text": [
      "=============================================================\n",
      "epoch: 15, source_val_acc_label: 0.9198, target_val_acc_label: 0.6250, source_val_label_loss: 0.2244, target_val_label_loss: 66008.9062, \n",
      "=============================================================\n"
     ]
    },
    {
     "name": "stdout",
     "output_type": "stream",
     "text": [
      "epoch: 16, [batch: 1 / 6720], examples_per_second: 5.9935, train_label_loss: 0.1751, \n"
     ]
    },
    {
     "name": "stdout",
     "output_type": "stream",
     "text": [
      "epoch: 16, [batch: 672 / 6720], examples_per_second: 3611.5211, train_label_loss: 0.2121, \n"
     ]
    },
    {
     "name": "stdout",
     "output_type": "stream",
     "text": [
      "epoch: 16, [batch: 1344 / 6720], examples_per_second: 3624.0894, train_label_loss: 0.1659, \n"
     ]
    },
    {
     "name": "stdout",
     "output_type": "stream",
     "text": [
      "epoch: 16, [batch: 2016 / 6720], examples_per_second: 3632.1957, train_label_loss: 0.0513, \n"
     ]
    },
    {
     "name": "stdout",
     "output_type": "stream",
     "text": [
      "epoch: 16, [batch: 2688 / 6720], examples_per_second: 3605.2289, train_label_loss: 0.2766, \n"
     ]
    },
    {
     "name": "stdout",
     "output_type": "stream",
     "text": [
      "epoch: 16, [batch: 3360 / 6720], examples_per_second: 3670.5456, train_label_loss: 0.2414, \n"
     ]
    },
    {
     "name": "stdout",
     "output_type": "stream",
     "text": [
      "epoch: 16, [batch: 4032 / 6720], examples_per_second: 3634.8478, train_label_loss: 0.2299, \n"
     ]
    },
    {
     "name": "stdout",
     "output_type": "stream",
     "text": [
      "epoch: 16, [batch: 4704 / 6720], examples_per_second: 3599.6872, train_label_loss: 0.2207, \n"
     ]
    },
    {
     "name": "stdout",
     "output_type": "stream",
     "text": [
      "epoch: 16, [batch: 5376 / 6720], examples_per_second: 3624.7168, train_label_loss: 0.1207, \n"
     ]
    },
    {
     "name": "stdout",
     "output_type": "stream",
     "text": [
      "epoch: 16, [batch: 6048 / 6720], examples_per_second: 3645.2534, train_label_loss: 0.1284, \n"
     ]
    },
    {
     "name": "stdout",
     "output_type": "stream",
     "text": [
      "=============================================================\n",
      "epoch: 16, source_val_acc_label: 0.9150, target_val_acc_label: 0.6305, source_val_label_loss: 0.2378, target_val_label_loss: 66058.1797, \n",
      "=============================================================\n"
     ]
    },
    {
     "name": "stdout",
     "output_type": "stream",
     "text": [
      "Patience (3) exhausted\n"
     ]
    }
   ],
   "source": [
    "###################################\n",
    "# train\n",
    "###################################\n",
    "jig = PTN_Train_Eval_Test_Jig(model, p.BEST_MODEL_PATH, p.device)\n",
    "\n",
    "jig.train(\n",
    "    train_iterable=datasets.source.processed.train,\n",
    "    source_val_iterable=datasets.source.processed.val,\n",
    "    target_val_iterable=datasets.target.processed.val,\n",
    "    num_epochs=p.n_epoch,\n",
    "    num_logs_per_epoch=p.NUM_LOGS_PER_EPOCH,\n",
    "    patience=p.patience,\n",
    "    optimizer=optimizer,\n",
    "    criteria_for_best=p.criteria_for_best,\n",
    ")"
   ]
  },
  {
   "cell_type": "code",
   "execution_count": 23,
   "id": "31e8fabf",
   "metadata": {
    "execution": {
     "iopub.execute_input": "2022-03-18T20:06:52.184039Z",
     "iopub.status.busy": "2022-03-18T20:06:52.183634Z",
     "iopub.status.idle": "2022-03-18T20:06:52.198588Z",
     "shell.execute_reply": "2022-03-18T20:06:52.198290Z"
    },
    "papermill": {
     "duration": 0.065491,
     "end_time": "2022-03-18T20:06:52.198655",
     "exception": false,
     "start_time": "2022-03-18T20:06:52.133164",
     "status": "completed"
    },
    "tags": []
   },
   "outputs": [],
   "source": [
    "total_experiment_time_secs = time.time() - start_time_secs"
   ]
  },
  {
   "cell_type": "code",
   "execution_count": 24,
   "id": "87b9595b",
   "metadata": {
    "execution": {
     "iopub.execute_input": "2022-03-18T20:06:52.298634Z",
     "iopub.status.busy": "2022-03-18T20:06:52.298204Z",
     "iopub.status.idle": "2022-03-18T20:07:54.851797Z",
     "shell.execute_reply": "2022-03-18T20:07:54.852178Z"
    },
    "papermill": {
     "duration": 62.605573,
     "end_time": "2022-03-18T20:07:54.852316",
     "exception": false,
     "start_time": "2022-03-18T20:06:52.246743",
     "status": "completed"
    },
    "tags": []
   },
   "outputs": [],
   "source": [
    "###################################\n",
    "# Evaluate the model\n",
    "###################################\n",
    "source_test_label_accuracy, source_test_label_loss = jig.test(datasets.source.processed.test)\n",
    "target_test_label_accuracy, target_test_label_loss = jig.test(datasets.target.processed.test)\n",
    "\n",
    "source_val_label_accuracy, source_val_label_loss = jig.test(datasets.source.processed.val)\n",
    "target_val_label_accuracy, target_val_label_loss = jig.test(datasets.target.processed.val)\n",
    "\n",
    "history = jig.get_history()\n",
    "\n",
    "total_epochs_trained = len(history[\"epoch_indices\"])\n",
    "\n",
    "val_dl = Iterable_Aggregator((datasets.source.original.val,datasets.target.original.val))\n",
    "\n",
    "confusion = ptn_confusion_by_domain_over_dataloader(model, p.device, val_dl)\n",
    "per_domain_accuracy = per_domain_accuracy_from_confusion(confusion)\n",
    "\n",
    "# Add a key to per_domain_accuracy for if it was a source domain\n",
    "for domain, accuracy in per_domain_accuracy.items():\n",
    "    per_domain_accuracy[domain] = {\n",
    "        \"accuracy\": accuracy,\n",
    "        \"source?\": domain in p.domains_source\n",
    "    }\n",
    "\n",
    "# Do an independent accuracy assesment JUST TO BE SURE!\n",
    "# _source_test_label_accuracy = independent_accuracy_assesment(model, datasets.source.processed.test, p.device)\n",
    "# _target_test_label_accuracy = independent_accuracy_assesment(model, datasets.target.processed.test, p.device)\n",
    "# _source_val_label_accuracy = independent_accuracy_assesment(model, datasets.source.processed.val, p.device)\n",
    "# _target_val_label_accuracy = independent_accuracy_assesment(model, datasets.target.processed.val, p.device)\n",
    "\n",
    "# assert(_source_test_label_accuracy == source_test_label_accuracy)\n",
    "# assert(_target_test_label_accuracy == target_test_label_accuracy)\n",
    "# assert(_source_val_label_accuracy == source_val_label_accuracy)\n",
    "# assert(_target_val_label_accuracy == target_val_label_accuracy)\n",
    "\n",
    "experiment = {\n",
    "    \"experiment_name\": p.experiment_name,\n",
    "    \"parameters\": dict(p),\n",
    "    \"results\": {\n",
    "        \"source_test_label_accuracy\": source_test_label_accuracy,\n",
    "        \"source_test_label_loss\": source_test_label_loss,\n",
    "        \"target_test_label_accuracy\": target_test_label_accuracy,\n",
    "        \"target_test_label_loss\": target_test_label_loss,\n",
    "        \"source_val_label_accuracy\": source_val_label_accuracy,\n",
    "        \"source_val_label_loss\": source_val_label_loss,\n",
    "        \"target_val_label_accuracy\": target_val_label_accuracy,\n",
    "        \"target_val_label_loss\": target_val_label_loss,\n",
    "        \"total_epochs_trained\": total_epochs_trained,\n",
    "        \"total_experiment_time_secs\": total_experiment_time_secs,\n",
    "        \"confusion\": confusion,\n",
    "        \"per_domain_accuracy\": per_domain_accuracy,\n",
    "    },\n",
    "    \"history\": history,\n",
    "    \"dataset_metrics\": get_dataset_metrics(datasets, \"ptn\"),\n",
    "}"
   ]
  },
  {
   "cell_type": "code",
   "execution_count": 25,
   "id": "54a21829",
   "metadata": {
    "execution": {
     "iopub.execute_input": "2022-03-18T20:07:54.954018Z",
     "iopub.status.busy": "2022-03-18T20:07:54.953764Z",
     "iopub.status.idle": "2022-03-18T20:07:55.084247Z",
     "shell.execute_reply": "2022-03-18T20:07:55.083821Z"
    },
    "papermill": {
     "duration": 0.180732,
     "end_time": "2022-03-18T20:07:55.084353",
     "exception": false,
     "start_time": "2022-03-18T20:07:54.903621",
     "status": "completed"
    },
    "tags": []
   },
   "outputs": [
    {
     "data": {
      "image/png": "[encoded data removed]",
      "text/plain": [
       "<Figure size 1080x504 with 1 Axes>"
      ]
     },
     "metadata": {
      "needs_background": "light"
     },
     "output_type": "display_data"
    }
   ],
   "source": [
    "ax = get_loss_curve(experiment)\n",
    "plt.show()"
   ]
  },
  {
   "cell_type": "code",
   "execution_count": 26,
   "id": "fd8a0f60",
   "metadata": {
    "execution": {
     "iopub.execute_input": "2022-03-18T20:07:55.188442Z",
     "iopub.status.busy": "2022-03-18T20:07:55.188191Z",
     "iopub.status.idle": "2022-03-18T20:07:55.330907Z",
     "shell.execute_reply": "2022-03-18T20:07:55.330676Z"
    },
    "papermill": {
     "duration": 0.193421,
     "end_time": "2022-03-18T20:07:55.330970",
     "exception": false,
     "start_time": "2022-03-18T20:07:55.137549",
     "status": "completed"
    },
    "tags": []
   },
   "outputs": [
    {
     "data": {
      "text/plain": [
       "<AxesSubplot:title={'center':'Results'}>"
      ]
     },
     "execution_count": 26,
     "metadata": {},
     "output_type": "execute_result"
    },
    {
     "data": {
      "image/png": "[encoded data removed]",
      "text/plain": [
       "<Figure size 1080x504 with 1 Axes>"
      ]
     },
     "metadata": {
      "needs_background": "light"
     },
     "output_type": "display_data"
    }
   ],
   "source": [
    "get_results_table(experiment)"
   ]
  },
  {
   "cell_type": "code",
   "execution_count": 27,
   "id": "cf8dc689",
   "metadata": {
    "execution": {
     "iopub.execute_input": "2022-03-18T20:07:55.437035Z",
     "iopub.status.busy": "2022-03-18T20:07:55.436786Z",
     "iopub.status.idle": "2022-03-18T20:07:55.599386Z",
     "shell.execute_reply": "2022-03-18T20:07:55.598888Z"
    },
    "papermill": {
     "duration": 0.214056,
     "end_time": "2022-03-18T20:07:55.599491",
     "exception": false,
     "start_time": "2022-03-18T20:07:55.385435",
     "status": "completed"
    },
    "tags": []
   },
   "outputs": [
    {
     "data": {
      "text/plain": [
       "<AxesSubplot:title={'center':'Per Domain Validation Accuracy'}, xlabel='domain'>"
      ]
     },
     "execution_count": 27,
     "metadata": {},
     "output_type": "execute_result"
    },
    {
     "data": {
      "image/png": "[encoded data removed]",
      "text/plain": [
       "<Figure size 1080x504 with 1 Axes>"
      ]
     },
     "metadata": {
      "needs_background": "light"
     },
     "output_type": "display_data"
    }
   ],
   "source": [
    "get_domain_accuracies(experiment)"
   ]
  },
  {
   "cell_type": "code",
   "execution_count": 28,
   "id": "a74ae082",
   "metadata": {
    "execution": {
     "iopub.execute_input": "2022-03-18T20:07:55.711695Z",
     "iopub.status.busy": "2022-03-18T20:07:55.706872Z",
     "iopub.status.idle": "2022-03-18T20:07:55.723683Z",
     "shell.execute_reply": "2022-03-18T20:07:55.723199Z"
    },
    "papermill": {
     "duration": 0.069991,
     "end_time": "2022-03-18T20:07:55.723793",
     "exception": false,
     "start_time": "2022-03-18T20:07:55.653802",
     "status": "completed"
    },
    "tags": []
   },
   "outputs": [
    {
     "name": "stdout",
     "output_type": "stream",
     "text": [
      "Source Test Label Accuracy: 0.9160807291666667 Target Test Label Accuracy: 0.6078452797202797\n",
      "Source Val Label Accuracy: 0.9138997395833334 Target Val Label Accuracy: 0.6124344405594405\n"
     ]
    }
   ],
   "source": [
    "print(\"Source Test Label Accuracy:\", experiment[\"results\"][\"source_test_label_accuracy\"], \"Target Test Label Accuracy:\", experiment[\"results\"][\"target_test_label_accuracy\"])\n",
    "print(\"Source Val Label Accuracy:\", experiment[\"results\"][\"source_val_label_accuracy\"], \"Target Val Label Accuracy:\", experiment[\"results\"][\"target_val_label_accuracy\"])"
   ]
  },
  {
   "cell_type": "code",
   "execution_count": 29,
   "id": "dacca602",
   "metadata": {
    "execution": {
     "iopub.execute_input": "2022-03-18T20:07:55.833327Z",
     "iopub.status.busy": "2022-03-18T20:07:55.832823Z",
     "iopub.status.idle": "2022-03-18T20:07:55.851282Z",
     "shell.execute_reply": "2022-03-18T20:07:55.851685Z"
    },
    "papermill": {
     "duration": 0.072169,
     "end_time": "2022-03-18T20:07:55.851814",
     "exception": false,
     "start_time": "2022-03-18T20:07:55.779645",
     "status": "completed"
    },
    "tags": [
     "experiment_json"
    ]
   },
   "outputs": [
    {
     "data": {
      "text/plain": [
       "'{\"experiment_name\": \"tl_3A:oracle.run1.framed -> cores+wisig\", \"parameters\": {\"experiment_name\": \"tl_3A:oracle.run1.framed -> cores+wisig\", \"device\": \"cuda\", \"lr\": 0.001, \"seed\": 7, \"dataset_seed\": 7, \"x_shape\": [2, 200], \"n_shot\": 3, \"n_query\": 2, \"train_k_factor\": 3, \"val_k_factor\": 2, \"test_k_factor\": 2, \"torch_default_dtype\": \"torch.float32\", \"n_epoch\": 50, \"patience\": 3, \"criteria_for_best\": \"target_loss\", \"x_net\": [{\"class\": \"nnReshape\", \"kargs\": {\"shape\": [-1, 1, 2, 200]}}, {\"class\": \"Conv2d\", \"kargs\": {\"in_channels\": 1, \"out_channels\": 256, \"kernel_size\": [1, 7], \"bias\": false, \"padding\": [0, 3]}}, {\"class\": \"ReLU\", \"kargs\": {\"inplace\": true}}, {\"class\": \"BatchNorm2d\", \"kargs\": {\"num_features\": 256}}, {\"class\": \"Conv2d\", \"kargs\": {\"in_channels\": 256, \"out_channels\": 80, \"kernel_size\": [2, 7], \"bias\": true, \"padding\": [0, 3]}}, {\"class\": \"ReLU\", \"kargs\": {\"inplace\": true}}, {\"class\": \"BatchNorm2d\", \"kargs\": {\"num_features\": 80}}, {\"class\": \"Flatten\", \"kargs\": {}}, {\"class\": \"Linear\", \"kargs\": {\"in_features\": 16000, \"out_features\": 256}}, {\"class\": \"ReLU\", \"kargs\": {\"inplace\": true}}, {\"class\": \"BatchNorm1d\", \"kargs\": {\"num_features\": 256}}, {\"class\": \"Linear\", \"kargs\": {\"in_features\": 256, \"out_features\": 256}}], \"NUM_LOGS_PER_EPOCH\": 10, \"BEST_MODEL_PATH\": \"./best_model.pth\", \"n_way\": 16, \"datasets\": [{\"labels\": [\"1-10.\", \"1-11.\", \"1-15.\", \"1-16.\", \"1-17.\", \"1-18.\", \"1-19.\", \"10-4.\", \"10-7.\", \"11-1.\", \"11-14.\", \"11-17.\", \"11-20.\", \"11-7.\", \"13-20.\", \"13-8.\", \"14-10.\", \"14-11.\", \"14-14.\", \"14-7.\", \"15-1.\", \"15-20.\", \"16-1.\", \"16-16.\", \"17-10.\", \"17-11.\", \"17-2.\", \"19-1.\", \"19-16.\", \"19-19.\", \"19-20.\", \"19-3.\", \"2-10.\", \"2-11.\", \"2-17.\", \"2-18.\", \"2-20.\", \"2-3.\", \"2-4.\", \"2-5.\", \"2-6.\", \"2-7.\", \"2-8.\", \"3-13.\", \"3-18.\", \"3-3.\", \"4-1.\", \"4-10.\", \"4-11.\", \"4-19.\", \"5-5.\", \"6-15.\", \"7-10.\", \"7-14.\", \"8-18.\", \"8-20.\", \"8-3.\", \"8-8.\"], \"domains\": [1, 2, 3, 4, 5], \"num_examples_per_domain_per_label\": 100, \"pickle_path\": \"/mnt/wd500GB/CSC500/csc500-main/datasets/cores.stratified_ds.2022A.pkl\", \"source_or_target_dataset\": \"target\", \"x_transforms\": [\"take_200\"], \"episode_transforms\": [], \"domain_prefix\": \"C_A_\"}, {\"labels\": [\"1-10\", \"1-12\", \"1-14\", \"1-16\", \"1-18\", \"1-19\", \"1-8\", \"10-11\", \"10-17\", \"10-4\", \"10-7\", \"11-1\", \"11-10\", \"11-19\", \"11-20\", \"11-4\", \"11-7\", \"12-19\", \"12-20\", \"12-7\", \"13-14\", \"13-18\", \"13-19\", \"13-20\", \"13-3\", \"13-7\", \"14-10\", \"14-11\", \"14-12\", \"14-13\", \"14-14\", \"14-19\", \"14-20\", \"14-7\", \"14-8\", \"14-9\", \"15-1\", \"15-19\", \"15-6\", \"16-1\", \"16-16\", \"16-19\", \"16-20\", \"17-10\", \"17-11\", \"18-1\", \"18-10\", \"18-11\", \"18-12\", \"18-13\", \"18-14\", \"18-15\", \"18-16\", \"18-17\", \"18-19\", \"18-2\", \"18-20\", \"18-4\", \"18-5\", \"18-7\", \"18-8\", \"18-9\", \"19-1\", \"19-10\", \"19-11\", \"19-12\", \"19-13\", \"19-14\", \"19-15\", \"19-19\", \"19-2\", \"19-20\", \"19-3\", \"19-4\", \"19-6\", \"19-7\", \"19-8\", \"19-9\", \"2-1\", \"2-13\", \"2-15\", \"2-3\", \"2-4\", \"2-5\", \"2-6\", \"2-7\", \"2-8\", \"20-1\", \"20-12\", \"20-14\", \"20-15\", \"20-16\", \"20-18\", \"20-19\", \"20-20\", \"20-3\", \"20-4\", \"20-5\", \"20-7\", \"20-8\", \"3-1\", \"3-13\", \"3-18\", \"3-2\", \"3-8\", \"4-1\", \"4-10\", \"4-11\", \"5-1\", \"5-5\", \"6-1\", \"6-15\", \"6-6\", \"7-10\", \"7-11\", \"7-12\", \"7-13\", \"7-14\", \"7-7\", \"7-8\", \"7-9\", \"8-1\", \"8-13\", \"8-14\", \"8-18\", \"8-20\", \"8-3\", \"8-8\", \"9-1\", \"9-7\"], \"domains\": [1, 2, 3, 4], \"num_examples_per_domain_per_label\": 100, \"pickle_path\": \"/mnt/wd500GB/CSC500/csc500-main/datasets/wisig.node3-19.stratified_ds.2022A.pkl\", \"source_or_target_dataset\": \"target\", \"x_transforms\": [\"take_200\"], \"episode_transforms\": [], \"domain_prefix\": \"W_A_\"}, {\"labels\": [\"3123D52\", \"3123D65\", \"3123D79\", \"3123D80\", \"3123D54\", \"3123D70\", \"3123D7B\", \"3123D89\", \"3123D58\", \"3123D76\", \"3123D7D\", \"3123EFE\", \"3123D64\", \"3123D78\", \"3123D7E\", \"3124E4A\"], \"domains\": [32, 38, 8, 44, 14, 50, 20, 26], \"num_examples_per_domain_per_label\": 2000, \"pickle_path\": \"/mnt/wd500GB/CSC500/csc500-main/datasets/oracle.Run1_framed_2000Examples_stratified_ds.2022A.pkl\", \"source_or_target_dataset\": \"source\", \"x_transforms\": [\"take_200\", \"resample_20Msps_to_25Msps\"], \"episode_transforms\": [], \"domain_prefix\": \"ORACLE.run1_\"}], \"domains_source\": [\"ORACLE.run1_32\", \"ORACLE.run1_38\", \"ORACLE.run1_8\", \"ORACLE.run1_44\", \"ORACLE.run1_14\", \"ORACLE.run1_50\", \"ORACLE.run1_20\", \"ORACLE.run1_26\"], \"domains_target\": [\"C_A_1\", \"C_A_2\", \"C_A_3\", \"C_A_4\", \"C_A_5\", \"W_A_1\", \"W_A_2\", \"W_A_3\", \"W_A_4\"]}, \"results\": {\"source_test_label_accuracy\": 0.9160807291666667, \"source_test_label_loss\": 0.2424098253250122, \"target_test_label_accuracy\": 0.6078452797202797, \"target_test_label_loss\": 61568.375, \"source_val_label_accuracy\": 0.9138997395833334, \"source_val_label_loss\": 0.2494337558746338, \"target_val_label_accuracy\": 0.6124344405594405, \"target_val_label_loss\": 63240.515625, \"total_epochs_trained\": 16, \"total_experiment_time_secs\": 2578.6440773010254, \"confusion\": {\"ORACLE.run1_26\": {\"0\": {\"0\": 181, \"10\": 31, \"14\": 26, \"1\": 1, \"8\": 1}, \"4\": {\"4\": 240}, \"14\": {\"14\": 193, \"10\": 33, \"1\": 5, \"0\": 9}, \"12\": {\"12\": 240}, \"8\": {\"7\": 33, \"8\": 197, \"9\": 8, \"0\": 2}, \"7\": {\"7\": 221, \"8\": 12, \"3\": 3, \"2\": 4}, \"13\": {\"13\": 211, \"2\": 14, \"9\": 8, \"8\": 1, \"3\": 5, \"7\": 1}, \"5\": {\"5\": 233, \"15\": 7}, \"15\": {\"15\": 208, \"6\": 18, \"5\": 11, \"10\": 3}, \"10\": {\"10\": 176, \"14\": 40, \"0\": 20, \"15\": 2, \"6\": 2}, \"3\": {\"3\": 227, \"7\": 9, \"2\": 4}, \"9\": {\"9\": 206, \"8\": 19, \"13\": 9, \"2\": 5, \"7\": 1}, \"6\": {\"6\": 232, \"15\": 7, \"10\": 1}, \"1\": {\"1\": 218, \"14\": 22}, \"11\": {\"11\": 240}, \"2\": {\"2\": 173, \"13\": 3, \"7\": 28, \"3\": 22, \"8\": 6, \"0\": 5, \"9\": 2, \"15\": 1}}, \"ORACLE.run1_44\": {\"1\": {\"1\": 227, \"2\": 13}, \"11\": {\"11\": 240}, \"3\": {\"3\": 238, \"12\": 2}, \"6\": {\"9\": 18, \"13\": 35, \"6\": 185, \"7\": 2}, \"7\": {\"7\": 217, \"6\": 1, \"9\": 21, \"10\": 1}, \"5\": {\"5\": 222, \"15\": 6, \"14\": 10, \"4\": 1, \"8\": 1}, \"2\": {\"1\": 10, \"2\": 223, \"10\": 6, \"7\": 1}, \"15\": {\"15\": 212, \"14\": 14, \"8\": 4, \"5\": 7, \"4\": 3}, \"10\": {\"10\": 226, \"7\": 5, \"2\": 3, \"1\": 6}, \"13\": {\"13\": 207, \"6\": 32, \"11\": 1}, \"8\": {\"15\": 5, \"8\": 163, \"0\": 68, \"5\": 4}, \"4\": {\"4\": 149, \"14\": 91}, \"9\": {\"9\": 132, \"13\": 28, \"7\": 53, \"6\": 27}, \"14\": {\"4\": 60, \"14\": 164, \"5\": 7, \"15\": 9}, \"0\": {\"0\": 206, \"8\": 34}, \"12\": {\"12\": 237, \"3\": 3}}, \"ORACLE.run1_50\": {\"15\": {\"15\": 233, \"11\": 3, \"4\": 1, \"6\": 2, \"5\": 1}, \"4\": {\"4\": 208, \"7\": 8, \"5\": 15, \"15\": 8, \"6\": 1}, \"6\": {\"6\": 227, \"15\": 7, \"5\": 6}, \"2\": {\"2\": 233, \"0\": 7}, \"5\": {\"5\": 157, \"7\": 37, \"4\": 17, \"6\": 15, \"13\": 6, \"15\": 8}, \"9\": {\"9\": 232, \"12\": 4, \"11\": 4}, \"8\": {\"8\": 240}, \"12\": {\"12\": 225, \"11\": 7, \"9\": 8}, \"10\": {\"10\": 238, \"0\": 1, \"8\": 1}, \"1\": {\"1\": 234, \"13\": 6}, \"0\": {\"0\": 225, \"2\": 11, \"10\": 4}, \"3\": {\"3\": 240}, \"13\": {\"13\": 240}, \"11\": {\"11\": 232, \"12\": 6, \"15\": 2}, \"7\": {\"7\": 227, \"4\": 3, \"5\": 10}, \"14\": {\"14\": 240}}, \"ORACLE.run1_38\": {\"15\": {\"15\": 221, \"5\": 5, \"8\": 10, \"1\": 4}, \"11\": {\"11\": 240}, \"10\": {\"10\": 226, \"0\": 10, \"4\": 2, \"13\": 2}, \"14\": {\"14\": 226, \"2\": 14}, \"6\": {\"6\": 240}, \"4\": {\"4\": 240}, \"13\": {\"13\": 230, \"10\": 8, \"0\": 2}, \"3\": {\"3\": 239, \"11\": 1}, \"7\": {\"7\": 233, \"8\": 2, \"0\": 2, \"9\": 2, \"5\": 1}, \"8\": {\"8\": 153, \"5\": 66, \"7\": 16, \"13\": 1, \"15\": 4}, \"1\": {\"1\": 240}, \"5\": {\"5\": 104, \"8\": 99, \"15\": 4, \"7\": 23, \"9\": 8, \"13\": 2}, \"0\": {\"0\": 195, \"7\": 18, \"10\": 17, \"13\": 8, \"8\": 2}, \"2\": {\"2\": 226, \"14\": 14}, \"12\": {\"12\": 240}, \"9\": {\"9\": 237, \"5\": 3}}, \"ORACLE.run1_20\": {\"10\": {\"10\": 240}, \"7\": {\"7\": 232, \"2\": 6, \"9\": 2}, \"4\": {\"4\": 238, \"7\": 1, \"12\": 1}, \"13\": {\"13\": 238, \"2\": 2}, \"1\": {\"1\": 219, \"5\": 17, \"9\": 2, \"15\": 1, \"3\": 1}, \"0\": {\"0\": 235, \"8\": 3, \"5\": 2}, \"12\": {\"12\": 225, \"2\": 12, \"4\": 2, \"15\": 1}, \"5\": {\"5\": 234, \"1\": 5, \"3\": 1}, \"6\": {\"6\": 239, \"7\": 1}, \"2\": {\"2\": 204, \"12\": 20, \"7\": 13, \"9\": 2, \"13\": 1}, \"8\": {\"8\": 237, \"14\": 2, \"3\": 1}, \"11\": {\"11\": 240}, \"9\": {\"9\": 222, \"3\": 10, \"7\": 5, \"1\": 2, \"2\": 1}, \"14\": {\"14\": 236, \"8\": 4}, \"15\": {\"15\": 229, \"1\": 8, \"12\": 3}, \"3\": {\"3\": 206, \"9\": 25, \"8\": 2, \"5\": 3, \"1\": 3, \"7\": 1}}, \"ORACLE.run1_14\": {\"14\": {\"14\": 230, \"3\": 1, \"2\": 3, \"13\": 4, \"6\": 2}, \"0\": {\"0\": 231, \"3\": 9}, \"4\": {\"4\": 239, \"5\": 1}, \"11\": {\"11\": 240}, \"13\": {\"6\": 93, \"14\": 32, \"13\": 90, \"2\": 15, \"15\": 9, \"3\": 1}, \"9\": {\"9\": 240}, \"3\": {\"3\": 237, \"14\": 3}, \"6\": {\"13\": 54, \"6\": 182, \"2\": 3, \"14\": 1}, \"1\": {\"1\": 240}, \"5\": {\"5\": 232, \"2\": 8}, \"12\": {\"12\": 240}, \"10\": {\"10\": 240}, \"8\": {\"8\": 240}, \"7\": {\"7\": 240}, \"15\": {\"15\": 240}, \"2\": {\"14\": 37, \"2\": 140, \"6\": 16, \"4\": 4, \"5\": 33, \"3\": 3, \"13\": 7}}, \"ORACLE.run1_32\": {\"11\": {\"11\": 240}, \"1\": {\"1\": 240}, \"2\": {\"4\": 19, \"2\": 221}, \"0\": {\"0\": 205, \"5\": 4, \"7\": 6, \"8\": 17, \"14\": 8}, \"3\": {\"3\": 238, \"13\": 2}, \"8\": {\"8\": 207, \"5\": 6, \"0\": 22, \"7\": 1, \"14\": 3, \"13\": 1}, \"12\": {\"12\": 240}, \"5\": {\"5\": 159, \"7\": 66, \"0\": 3, \"8\": 8, \"14\": 4}, \"15\": {\"15\": 238, \"8\": 2}, \"7\": {\"7\": 178, \"5\": 47, \"14\": 11, \"8\": 2, \"0\": 2}, \"4\": {\"4\": 214, \"2\": 20, \"13\": 6}, \"14\": {\"14\": 199, \"0\": 27, \"8\": 4, \"5\": 1, \"7\": 9}, \"10\": {\"10\": 240}, \"6\": {\"6\": 240}, \"13\": {\"13\": 212, \"3\": 16, \"4\": 12}, \"9\": {\"9\": 238, \"2\": 1, \"12\": 1}}, \"ORACLE.run1_8\": {\"9\": {\"9\": 240}, \"11\": {\"11\": 221, \"1\": 19}, \"8\": {\"8\": 240}, \"4\": {\"4\": 239, \"6\": 1}, \"13\": {\"13\": 214, \"10\": 12, \"6\": 7, \"7\": 7}, \"14\": {\"14\": 237, \"4\": 3}, \"2\": {\"2\": 208, \"3\": 17, \"15\": 4, \"12\": 11}, \"3\": {\"3\": 240}, \"1\": {\"1\": 236, \"11\": 2, \"5\": 2}, \"0\": {\"0\": 240}, \"5\": {\"5\": 209, \"1\": 14, \"10\": 13, \"11\": 1, \"14\": 3}, \"15\": {\"15\": 227, \"12\": 13}, \"10\": {\"10\": 225, \"13\": 15}, \"12\": {\"12\": 204, \"15\": 36}, \"6\": {\"6\": 222, \"7\": 18}, \"7\": {\"7\": 224, \"6\": 16}}, \"C_A_5\": {\"26\": {\"26\": 9, \"15\": 1, \"42\": 1, \"19\": 1}, \"7\": {\"7\": 12}, \"56\": {\"0\": 1, \"56\": 5, \"3\": 2, \"45\": 2, \"46\": 1, \"5\": 1}, \"36\": {\"36\": 10, \"37\": 1, \"41\": 1}, \"47\": {\"30\": 2, \"47\": 4, \"1\": 1, \"43\": 1}, \"2\": {\"2\": 10}, \"15\": {\"15\": 10, \"10\": 1, \"16\": 1}, \"14\": {\"14\": 9, \"40\": 1, \"29\": 2}, \"27\": {\"27\": 8, \"7\": 3, \"51\": 1}, \"40\": {\"40\": 3, \"46\": 1, \"50\": 1, \"52\": 1, \"9\": 1, \"44\": 1}, \"49\": {\"49\": 9, \"39\": 2, \"37\": 1}, \"45\": {\"45\": 10, \"44\": 1, \"6\": 1}, \"46\": {\"46\": 5, \"3\": 1, \"4\": 1, \"5\": 3, \"21\": 1, \"50\": 1}, \"11\": {\"11\": 7, \"28\": 3, \"15\": 2}, \"30\": {\"27\": 1, \"30\": 4, \"40\": 1, \"48\": 2, \"21\": 1, \"4\": 1, \"12\": 2}, \"0\": {\"45\": 4, \"50\": 2, \"0\": 3, \"22\": 1, \"52\": 2}, \"10\": {\"10\": 10, \"15\": 1, \"35\": 1}, \"1\": {\"1\": 10, \"48\": 1, \"20\": 1}, \"42\": {\"17\": 2, \"39\": 1, \"42\": 3, \"33\": 1, \"38\": 2, \"55\": 2, \"23\": 1}, \"54\": {\"54\": 12}, \"55\": {\"55\": 7, \"19\": 1, \"17\": 1, \"42\": 1}, \"23\": {\"39\": 2, \"23\": 2, \"32\": 1, \"54\": 1, \"38\": 1, \"19\": 1, \"41\": 1, \"31\": 1, \"34\": 1, \"42\": 1}, \"25\": {\"25\": 3, \"28\": 2, \"18\": 3}, \"28\": {\"28\": 11, \"16\": 1}, \"32\": {\"32\": 7, \"27\": 2, \"41\": 2, \"51\": 1}, \"9\": {\"9\": 9, \"57\": 2, \"52\": 1}, \"39\": {\"32\": 1, \"39\": 6, \"34\": 2, \"33\": 2, \"36\": 1}, \"3\": {\"3\": 8, \"46\": 1, \"45\": 1}, \"29\": {\"29\": 9, \"43\": 2, \"20\": 1}, \"17\": {\"42\": 2, \"17\": 5, \"54\": 2, \"55\": 1, \"32\": 1, \"38\": 1}, \"35\": {\"35\": 11, \"14\": 1}, \"44\": {\"47\": 1, \"3\": 1, \"52\": 1, \"45\": 3, \"44\": 3, \"21\": 1, \"6\": 1, \"9\": 1}, \"5\": {\"3\": 1, \"5\": 5, \"4\": 3, \"9\": 1}, \"33\": {\"33\": 6, \"41\": 1, \"34\": 1, \"55\": 1, \"42\": 1}, \"34\": {\"34\": 8, \"33\": 1, \"7\": 2, \"39\": 1}, \"13\": {\"13\": 12}, \"41\": {\"41\": 6, \"27\": 1, \"32\": 2, \"7\": 2, \"33\": 1}, \"6\": {\"6\": 6, \"3\": 1, \"0\": 1, \"45\": 3, \"44\": 1}, \"51\": {\"51\": 6, \"32\": 4}, \"50\": {\"3\": 4, \"50\": 7, \"0\": 1}, \"37\": {\"37\": 11, \"34\": 1}, \"18\": {\"26\": 4, \"28\": 1, \"18\": 2, \"25\": 5}, \"52\": {\"40\": 2, \"9\": 1, \"6\": 2, \"12\": 1, \"52\": 3, \"50\": 1}, \"19\": {\"19\": 7, \"23\": 1, \"54\": 1, \"42\": 1, \"55\": 2}, \"4\": {\"44\": 1, \"52\": 3, \"4\": 2, \"6\": 3, \"9\": 1, \"50\": 1, \"21\": 1}, \"48\": {\"1\": 2, \"48\": 8, \"8\": 2}, \"53\": {\"53\": 7, \"54\": 1, \"28\": 1, \"23\": 1}, \"24\": {\"24\": 10}, \"12\": {\"20\": 2, \"52\": 3, \"9\": 1, \"6\": 1, \"1\": 1}, \"8\": {\"8\": 6, \"48\": 3, \"32\": 1, \"41\": 1, \"30\": 1}, \"20\": {\"8\": 4, \"27\": 2, \"20\": 3, \"30\": 1, \"1\": 2}, \"38\": {\"53\": 2, \"38\": 5, \"17\": 2, \"42\": 1}, \"43\": {\"29\": 1, \"43\": 7}, \"31\": {\"31\": 9, \"37\": 1}, \"22\": {\"29\": 1, \"44\": 1, \"22\": 4, \"6\": 1, \"0\": 1, \"57\": 1, \"3\": 1}, \"21\": {\"9\": 1, \"52\": 1, \"21\": 2, \"44\": 1, \"30\": 1, \"3\": 1, \"57\": 1}, \"57\": {\"21\": 4, \"57\": 2, \"47\": 2}, \"16\": {\"16\": 5, \"31\": 1, \"15\": 1, \"11\": 1}}, \"W_A_4\": {\"71\": {\"71\": 10}, \"17\": {\"17\": 6, \"115\": 2, \"42\": 2, \"129\": 2}, \"105\": {\"105\": 8, \"71\": 1, \"1\": 1, \"12\": 1, \"5\": 1}, \"92\": {\"63\": 4, \"56\": 1, \"92\": 3, \"45\": 1, \"50\": 1, \"121\": 1, \"40\": 1}, \"100\": {\"100\": 5, \"36\": 1, \"31\": 2, \"128\": 1, \"103\": 1, \"111\": 1, \"107\": 1}, \"6\": {\"68\": 2, \"55\": 1, \"125\": 1, \"25\": 2, \"6\": 6}, \"36\": {\"36\": 9, \"30\": 1}, \"35\": {\"92\": 1, \"105\": 1, \"35\": 6, \"82\": 1, \"20\": 1, \"16\": 2}, \"63\": {\"63\": 10, \"13\": 2}, \"104\": {\"104\": 9, \"79\": 1, \"119\": 1, \"61\": 1}, \"114\": {\"100\": 1, \"114\": 7, \"95\": 2, \"3\": 1, \"49\": 1}, \"68\": {\"6\": 1, \"68\": 8, \"111\": 2, \"78\": 1}, \"109\": {\"36\": 1, \"27\": 1, \"78\": 2, \"88\": 1, \"109\": 3, \"126\": 2}, \"27\": {\"36\": 1, \"27\": 7, \"11\": 1, \"39\": 1, \"0\": 2}, \"79\": {\"79\": 9, \"102\": 1, \"116\": 1, \"48\": 1}, \"0\": {\"0\": 5, \"27\": 2, \"8\": 1, \"30\": 1, \"21\": 2, \"15\": 1}, \"28\": {\"28\": 9, \"89\": 1, \"120\": 2}, \"4\": {\"116\": 1, \"4\": 6, \"17\": 1, \"48\": 2, \"79\": 1, \"66\": 1}, \"106\": {\"106\": 8, \"24\": 1, \"105\": 1, \"1\": 1, \"11\": 1}, \"40\": {\"40\": 9, \"33\": 1, \"95\": 1, \"3\": 1}, \"127\": {\"127\": 10, \"88\": 1, \"21\": 1}, \"57\": {\"57\": 11, \"28\": 1}, \"60\": {\"60\": 5, \"40\": 1, \"72\": 1, \"53\": 1, \"101\": 1, \"7\": 1, \"110\": 1, \"49\": 1}, \"69\": {\"96\": 1, \"69\": 6, \"126\": 1, \"31\": 1, \"11\": 1, \"16\": 1, \"78\": 1}, \"84\": {\"84\": 3, \"21\": 1, \"26\": 1, \"99\": 1}, \"24\": {\"24\": 6, \"78\": 2, \"87\": 1, \"97\": 1}, \"94\": {\"94\": 10, \"97\": 1, \"12\": 1}, \"7\": {\"24\": 1, \"7\": 3, \"101\": 2, \"88\": 2, \"8\": 2, \"12\": 1, \"0\": 1}, \"96\": {\"40\": 2, \"113\": 1, \"96\": 4, \"18\": 2, \"87\": 1}, \"116\": {\"4\": 1, \"116\": 5, \"67\": 1, \"79\": 1, \"115\": 2, \"2\": 2}, \"47\": {\"127\": 1, \"57\": 1, \"34\": 3, \"25\": 1, \"47\": 5, \"75\": 1}, \"119\": {\"32\": 1, \"61\": 1, \"119\": 4, \"129\": 2, \"4\": 1, \"67\": 1, \"92\": 1, \"48\": 1}, \"74\": {\"74\": 10}, \"93\": {\"93\": 10, \"11\": 2}, \"2\": {\"61\": 2, \"28\": 1, \"2\": 7, \"45\": 1, \"92\": 1}, \"37\": {\"119\": 4, \"104\": 1, \"28\": 1, \"22\": 1, \"90\": 1, \"4\": 1, \"115\": 1, \"37\": 2}, \"15\": {\"15\": 12}, \"102\": {\"2\": 1, \"102\": 6, \"66\": 1, \"65\": 2, \"115\": 1, \"22\": 1}, \"87\": {\"87\": 5, \"93\": 1, \"69\": 1, \"70\": 1}, \"107\": {\"107\": 6, \"74\": 1, \"72\": 2, \"5\": 1, \"100\": 1, \"20\": 1}, \"61\": {\"102\": 1, \"61\": 7, \"90\": 1, \"92\": 1, \"121\": 2}, \"78\": {\"78\": 10, \"70\": 2}, \"9\": {\"9\": 9, \"52\": 1, \"77\": 1, \"3\": 1}, \"32\": {\"74\": 1, \"32\": 6, \"120\": 1, \"38\": 2, \"57\": 1, \"5\": 1}, \"14\": {\"14\": 6, \"62\": 1, \"11\": 1, \"55\": 1, \"33\": 1}, \"62\": {\"24\": 2, \"18\": 1, \"62\": 5, \"60\": 1, \"110\": 1, \"3\": 1, \"126\": 1}, \"1\": {\"37\": 1, \"95\": 1, \"1\": 7, \"114\": 1, \"125\": 1, \"83\": 1}, \"23\": {\"24\": 1, \"23\": 4, \"10\": 1, \"97\": 1, \"81\": 1, \"60\": 1, \"118\": 1}, \"95\": {\"95\": 9, \"1\": 1, \"114\": 1, \"40\": 1}, \"56\": {\"91\": 1, \"95\": 1, \"55\": 1, \"56\": 4, \"124\": 1, \"83\": 1, \"85\": 1, \"100\": 1, \"32\": 1}, \"91\": {\"91\": 7, \"96\": 1, \"42\": 1, \"83\": 1, \"128\": 1, \"46\": 1}, \"34\": {\"34\": 2, \"1\": 1, \"40\": 2, \"9\": 1, \"95\": 1, \"83\": 1, \"53\": 2, \"49\": 2}, \"25\": {\"34\": 2, \"51\": 2, \"111\": 1, \"25\": 4, \"54\": 1}, \"3\": {\"72\": 1, \"105\": 1, \"3\": 5, \"20\": 1, \"51\": 1, \"40\": 2, \"53\": 1}, \"72\": {\"107\": 3, \"72\": 3, \"60\": 1, \"93\": 1, \"118\": 2}, \"73\": {\"107\": 1, \"73\": 9, \"120\": 1, \"19\": 1}, \"41\": {\"70\": 1, \"41\": 8, \"29\": 2, \"39\": 1}, \"70\": {\"70\": 7, \"10\": 2, \"108\": 2, \"88\": 1}, \"110\": {\"7\": 1, \"110\": 8, \"113\": 1, \"62\": 1, \"26\": 1}, \"45\": {\"73\": 1, \"45\": 8, \"13\": 1, \"66\": 1, \"48\": 1}, \"59\": {\"59\": 7, \"55\": 1, \"124\": 1, \"91\": 1, \"58\": 1, \"77\": 1}, \"55\": {\"55\": 4, \"107\": 1, \"49\": 1, \"120\": 1, \"40\": 1, \"77\": 2, \"85\": 2}, \"97\": {\"87\": 2, \"59\": 1, \"97\": 7, \"6\": 1, \"78\": 1}, \"66\": {\"13\": 2, \"22\": 2, \"66\": 5, \"102\": 1, \"38\": 1, \"42\": 1}, \"26\": {\"33\": 2, \"26\": 5, \"84\": 4, \"100\": 1}, \"53\": {\"53\": 8, \"77\": 1, \"9\": 1, \"108\": 1, \"19\": 1}, \"13\": {\"13\": 7, \"116\": 2, \"117\": 1, \"65\": 2}, \"33\": {\"33\": 8, \"40\": 2, \"99\": 1, \"20\": 1}, \"124\": {\"124\": 7, \"129\": 1}, \"85\": {\"85\": 7, \"9\": 1, \"8\": 1, \"83\": 1, \"114\": 1, \"0\": 1}, \"129\": {\"59\": 1, \"45\": 1, \"129\": 5, \"119\": 1, \"86\": 1, \"102\": 1, \"112\": 1, \"17\": 1}, \"5\": {\"5\": 11, \"107\": 1}, \"67\": {\"120\": 2, \"67\": 6, \"90\": 1, \"117\": 1, \"129\": 1, \"63\": 1}, \"101\": {\"101\": 6, \"88\": 1, \"12\": 1, \"8\": 4}, \"88\": {\"109\": 1, \"88\": 6, \"21\": 1, \"10\": 4}, \"125\": {\"6\": 1, \"125\": 9, \"56\": 1, \"77\": 1}, \"49\": {\"33\": 1, \"49\": 5, \"100\": 1, \"83\": 1, \"105\": 2, \"34\": 1, \"127\": 1}, \"86\": {\"56\": 1, \"86\": 7, \"129\": 1, \"80\": 1, \"116\": 1, \"43\": 1}, \"10\": {\"109\": 1, \"10\": 7, \"21\": 1, \"70\": 1, \"88\": 2}, \"120\": {\"120\": 9, \"19\": 2, \"129\": 1}, \"115\": {\"115\": 5, \"70\": 1, \"64\": 1, \"102\": 2, \"90\": 1, \"88\": 1, \"104\": 1}, \"31\": {\"31\": 7, \"21\": 1, \"121\": 1, \"56\": 1, \"73\": 1, \"38\": 1}, \"22\": {\"37\": 2, \"92\": 1, \"63\": 1, \"123\": 1, \"22\": 1, \"40\": 1, \"67\": 1, \"50\": 1, \"116\": 1, \"102\": 1, \"120\": 1}, \"113\": {\"113\": 10, \"110\": 1, \"16\": 1}, \"58\": {\"99\": 1, \"91\": 1, \"58\": 9, \"53\": 1}, \"75\": {\"75\": 12}, \"12\": {\"110\": 1, \"12\": 8, \"94\": 1, \"0\": 2}, \"89\": {\"91\": 2, \"76\": 1, \"100\": 2, \"77\": 1, \"93\": 1, \"19\": 1, \"51\": 1, \"114\": 1, \"113\": 1, \"26\": 1}, \"21\": {\"21\": 9, \"10\": 1}, \"99\": {\"89\": 2, \"99\": 3, \"20\": 1, \"83\": 1, \"56\": 1, \"107\": 2, \"72\": 2}, \"51\": {\"51\": 4, \"75\": 1, \"3\": 1, \"103\": 1, \"53\": 1, \"60\": 1, \"114\": 1, \"34\": 1, \"21\": 1}, \"30\": {\"30\": 10, \"0\": 1, \"87\": 1}, \"8\": {\"8\": 8, \"71\": 1, \"101\": 2, \"39\": 1}, \"39\": {\"39\": 10, \"126\": 2}, \"98\": {\"86\": 1, \"98\": 5, \"1\": 1, \"34\": 2, \"77\": 1, \"106\": 1, \"52\": 1}, \"54\": {\"43\": 1, \"54\": 7, \"51\": 1, \"98\": 2, \"9\": 1}, \"77\": {\"77\": 11, \"52\": 1}, \"43\": {\"43\": 6, \"39\": 1, \"108\": 2, \"97\": 1, \"118\": 2}, \"80\": {\"80\": 9, \"65\": 2, \"59\": 1}, \"11\": {\"14\": 2, \"11\": 8, \"93\": 2}, \"52\": {\"52\": 5, \"85\": 1}, \"50\": {\"19\": 3, \"50\": 3, \"112\": 1, \"47\": 1, \"31\": 1, \"104\": 1}, \"64\": {\"64\": 7, \"19\": 1, \"120\": 1, \"42\": 1, \"82\": 1, \"74\": 1}, \"111\": {\"111\": 11, \"68\": 1}, \"108\": {\"108\": 8, \"78\": 1, \"70\": 3}, \"19\": {\"19\": 5, \"32\": 1, \"120\": 1, \"38\": 1, \"51\": 1, \"50\": 1, \"115\": 1, \"121\": 1}, \"18\": {\"18\": 8, \"81\": 1, \"44\": 2, \"20\": 1}, \"123\": {\"80\": 2, \"67\": 1, \"123\": 7, \"116\": 1, \"48\": 1}, \"121\": {\"121\": 5, \"35\": 1, \"90\": 2, \"92\": 2, \"120\": 1, \"28\": 1}, \"81\": {\"23\": 2, \"81\": 8, \"18\": 1, \"21\": 1}, \"38\": {\"38\": 8, \"81\": 1, \"32\": 1, \"31\": 2}, \"90\": {\"31\": 1, \"90\": 8, \"35\": 1, \"89\": 1, \"76\": 1}, \"83\": {\"114\": 1, \"83\": 5, \"38\": 1, \"28\": 1, \"89\": 1, \"100\": 1, \"5\": 2}, \"65\": {\"65\": 10, \"102\": 2}, \"42\": {\"82\": 1, \"42\": 9, \"29\": 1, \"66\": 1}, \"82\": {\"42\": 1, \"82\": 3, \"51\": 1, \"90\": 1}, \"44\": {\"44\": 10, \"99\": 1, \"81\": 1}, \"16\": {\"16\": 8, \"60\": 1, \"82\": 1, \"93\": 1, \"69\": 1}, \"122\": {\"122\": 3, \"108\": 1, \"126\": 2, \"69\": 1, \"62\": 1, \"60\": 1, \"11\": 1, \"3\": 1, \"8\": 1}, \"117\": {\"28\": 1, \"13\": 1, \"117\": 5, \"121\": 2, \"67\": 1, \"65\": 1, \"57\": 1}, \"126\": {\"108\": 1, \"126\": 7, \"70\": 1, \"122\": 1, \"109\": 1, \"78\": 1}, \"76\": {\"82\": 1, \"20\": 2, \"76\": 5, \"46\": 1, \"33\": 1, \"74\": 2}, \"20\": {\"20\": 11, \"33\": 1}, \"29\": {\"29\": 8, \"98\": 1, \"112\": 1, \"53\": 1, \"55\": 1}, \"128\": {\"76\": 2, \"128\": 6, \"46\": 1, \"85\": 1, \"19\": 1, \"74\": 1}, \"46\": {\"46\": 4, \"103\": 1, \"99\": 1, \"29\": 1, \"85\": 1, \"72\": 1, \"52\": 1, \"20\": 1, \"64\": 1}, \"103\": {\"103\": 5, \"77\": 1, \"46\": 1, \"98\": 2, \"95\": 1, \"19\": 1, \"53\": 1}, \"118\": {\"93\": 1, \"118\": 5, \"44\": 1, \"8\": 1, \"39\": 2, \"21\": 1, \"69\": 1}, \"112\": {\"29\": 1, \"103\": 1, \"4\": 1, \"112\": 5, \"120\": 1, \"83\": 1}, \"48\": {\"48\": 6, \"116\": 1, \"65\": 1}}, \"C_A_1\": {\"41\": {\"42\": 4, \"51\": 2, \"41\": 5, \"48\": 1}, \"40\": {\"46\": 2, \"57\": 2, \"21\": 1, \"6\": 2, \"40\": 2, \"3\": 1, \"4\": 1, \"12\": 1}, \"45\": {\"45\": 11, \"20\": 1}, \"51\": {\"51\": 8, \"42\": 1, \"41\": 2, \"33\": 1}, \"5\": {\"5\": 12}, \"30\": {\"46\": 2, \"29\": 1, \"50\": 3, \"30\": 4, \"51\": 1, \"14\": 1}, \"42\": {\"42\": 10, \"41\": 1, \"37\": 1}, \"46\": {\"46\": 5, \"50\": 1, \"20\": 2, \"30\": 1, \"56\": 1, \"13\": 1, \"5\": 1}, \"48\": {\"41\": 1, \"48\": 8, \"9\": 1}, \"53\": {\"42\": 1, \"53\": 6, \"26\": 4, \"17\": 1}, \"47\": {\"47\": 11, \"6\": 1}, \"49\": {\"49\": 10, \"32\": 1, \"38\": 1}, \"36\": {\"36\": 10, \"47\": 1, \"51\": 1}, \"32\": {\"32\": 10}, \"34\": {\"34\": 8, \"53\": 1, \"35\": 1}, \"29\": {\"30\": 1, \"29\": 4, \"4\": 1, \"40\": 2}, \"43\": {\"43\": 12}, \"9\": {\"9\": 7, \"48\": 2, \"14\": 1, \"2\": 2}, \"44\": {\"45\": 1, \"44\": 7, \"20\": 1, \"56\": 1, \"3\": 2}, \"15\": {\"15\": 8, \"10\": 2, \"11\": 1, \"54\": 1}, \"7\": {\"7\": 11, \"33\": 1}, \"14\": {\"14\": 11, \"8\": 1}, \"24\": {\"24\": 10}, \"16\": {\"16\": 9, \"15\": 1, \"54\": 1, \"37\": 1}, \"39\": {\"39\": 10}, \"35\": {\"7\": 3, \"37\": 2, \"35\": 5, \"42\": 1, \"51\": 1}, \"57\": {\"57\": 5, \"4\": 3, \"8\": 1, \"13\": 1, \"30\": 2}, \"55\": {\"55\": 10}, \"3\": {\"3\": 10, \"0\": 2}, \"20\": {\"20\": 2, \"3\": 1, \"56\": 2, \"6\": 1, \"46\": 1, \"5\": 3}, \"17\": {\"17\": 11, \"7\": 1}, \"52\": {\"52\": 6, \"27\": 4, \"47\": 1, \"22\": 1}, \"38\": {\"32\": 2, \"38\": 9, \"36\": 1}, \"8\": {\"8\": 4, \"41\": 1, \"2\": 1, \"1\": 1, \"55\": 1, \"29\": 1, \"13\": 1, \"14\": 2}, \"4\": {\"4\": 6, \"50\": 1, \"12\": 1, \"51\": 1, \"30\": 1, \"29\": 1, \"40\": 1}, \"19\": {\"19\": 6, \"17\": 1, \"34\": 1}, \"37\": {\"37\": 4, \"32\": 1, \"42\": 1, \"35\": 2, \"38\": 2}, \"27\": {\"27\": 8, \"52\": 1, \"56\": 1, \"22\": 2}, \"12\": {\"12\": 9, \"50\": 2, \"6\": 1}, \"28\": {\"28\": 12}, \"6\": {\"56\": 3, \"4\": 2, \"12\": 1, \"0\": 1, \"44\": 2, \"6\": 1, \"57\": 1, \"3\": 1}, \"56\": {\"56\": 7, \"6\": 1, \"3\": 1, \"0\": 1, \"45\": 2}, \"50\": {\"50\": 5, \"30\": 1, \"46\": 2, \"40\": 2, \"4\": 1, \"6\": 1}, \"2\": {\"2\": 8, \"9\": 2}, \"10\": {\"10\": 4, \"11\": 1, \"15\": 3}, \"33\": {\"33\": 10}, \"54\": {\"54\": 8}, \"18\": {\"18\": 8, \"34\": 1, \"25\": 1, \"17\": 1, \"53\": 1}, \"13\": {\"13\": 8, \"14\": 1, \"57\": 1}, \"1\": {\"8\": 1, \"1\": 7, \"4\": 1, \"13\": 1, \"14\": 2}, \"21\": {\"21\": 5, \"20\": 1, \"44\": 4, \"45\": 1, \"0\": 1}, \"11\": {\"11\": 10, \"10\": 1, \"15\": 1}, \"0\": {\"0\": 4, \"56\": 2, \"5\": 2}, \"31\": {\"31\": 10, \"35\": 1, \"7\": 1}, \"26\": {\"26\": 9, \"53\": 3}, \"25\": {\"25\": 12}, \"23\": {\"23\": 3, \"24\": 1}, \"22\": {\"22\": 5, \"27\": 1}}, \"C_A_3\": {\"1\": {\"1\": 8, \"57\": 2, \"47\": 2}, \"9\": {\"9\": 12}, \"22\": {\"5\": 3, \"22\": 7, \"40\": 1, \"0\": 1}, \"43\": {\"43\": 5, \"49\": 3, \"7\": 1, \"57\": 2, \"14\": 1}, \"49\": {\"31\": 2, \"49\": 6, \"7\": 1, \"42\": 1}, \"50\": {\"5\": 2, \"40\": 1, \"52\": 2, \"45\": 2, \"20\": 1, \"50\": 2, \"0\": 1, \"6\": 1}, \"53\": {\"53\": 6, \"19\": 2, \"54\": 1, \"26\": 1}, \"10\": {\"10\": 10, \"11\": 1, \"24\": 1}, \"48\": {\"48\": 7, \"57\": 1, \"47\": 1, \"20\": 1}, \"8\": {\"48\": 2, \"9\": 1, \"8\": 5, \"41\": 2, \"4\": 1, \"51\": 1}, \"31\": {\"31\": 11, \"16\": 1}, \"56\": {\"22\": 2, \"56\": 9, \"5\": 1}, \"25\": {\"25\": 8, \"54\": 1, \"17\": 1}, \"28\": {\"25\": 1, \"28\": 7, \"23\": 3, \"11\": 1}, \"38\": {\"38\": 12}, \"5\": {\"5\": 5, \"52\": 2, \"0\": 1, \"6\": 3, \"45\": 1}, \"34\": {\"34\": 9, \"55\": 1}, \"21\": {\"3\": 2, \"40\": 1, \"21\": 2, \"0\": 2, \"6\": 1, \"44\": 3, \"47\": 1}, \"57\": {\"57\": 6, \"47\": 1, \"20\": 3, \"41\": 1, \"9\": 1}, \"55\": {\"55\": 5, \"34\": 1, \"35\": 2, \"39\": 3, \"31\": 1}, \"47\": {\"57\": 1, \"47\": 5, \"40\": 2, \"12\": 1, \"1\": 1}, \"6\": {\"6\": 8, \"3\": 1, \"5\": 1, \"21\": 1, \"0\": 1}, \"3\": {\"6\": 4, \"5\": 2}, \"26\": {\"26\": 8, \"16\": 1, \"2\": 1, \"35\": 2}, \"16\": {\"25\": 1, \"16\": 6, \"19\": 2, \"55\": 1, \"28\": 2}, \"18\": {\"25\": 2, \"18\": 10}, \"32\": {\"32\": 12}, \"40\": {\"40\": 7, \"47\": 1, \"1\": 1, \"20\": 2, \"29\": 1}, \"2\": {\"26\": 2, \"2\": 5, \"36\": 1}, \"36\": {\"36\": 10, \"17\": 2}, \"52\": {\"52\": 6, \"40\": 1, \"4\": 1, \"9\": 1, \"20\": 2, \"46\": 1}, \"13\": {\"13\": 7, \"43\": 1}, \"42\": {\"42\": 8, \"31\": 2, \"16\": 1, \"35\": 1}, \"19\": {\"19\": 8, \"53\": 1, \"28\": 1, \"15\": 1, \"54\": 1}, \"11\": {\"42\": 1, \"11\": 5, \"16\": 2, \"15\": 2}, \"20\": {\"9\": 2, \"20\": 6, \"40\": 1, \"46\": 1, \"57\": 1, \"29\": 1}, \"17\": {\"36\": 2, \"17\": 6, \"23\": 1, \"26\": 1}, \"51\": {\"51\": 11, \"26\": 1}, \"29\": {\"9\": 1, \"29\": 5, \"41\": 1, \"57\": 2, \"33\": 1}, \"44\": {\"44\": 7, \"6\": 2, \"0\": 1, \"20\": 1, \"30\": 1}, \"27\": {\"33\": 2, \"29\": 2, \"27\": 6, \"20\": 1, \"8\": 1}, \"33\": {\"9\": 1, \"29\": 1, \"33\": 2, \"27\": 1, \"39\": 2, \"14\": 1, \"37\": 1, \"41\": 2, \"2\": 1}, \"54\": {\"19\": 1, \"54\": 10, \"15\": 1}, \"7\": {\"7\": 7, \"43\": 2, \"13\": 2, \"1\": 1}, \"14\": {\"14\": 9, \"29\": 1}, \"12\": {\"12\": 2, \"44\": 1, \"52\": 2, \"5\": 3, \"45\": 1, \"50\": 1, \"30\": 1, \"21\": 1}, \"24\": {\"24\": 12}, \"15\": {\"11\": 2, \"15\": 8, \"19\": 1, \"23\": 1}, \"35\": {\"35\": 6, \"55\": 1, \"37\": 1, \"39\": 2}, \"41\": {\"41\": 9, \"57\": 1}, \"4\": {\"4\": 7, \"20\": 1, \"40\": 2, \"47\": 2}, \"0\": {\"0\": 1, \"5\": 1, \"52\": 1, \"46\": 1, \"44\": 1, \"6\": 1, \"30\": 1, \"41\": 1, \"45\": 1, \"47\": 1}, \"39\": {\"39\": 10}, \"45\": {\"45\": 6, \"5\": 1, \"46\": 3, \"0\": 2}, \"46\": {\"45\": 2, \"52\": 2, \"5\": 2, \"46\": 4}, \"37\": {\"37\": 10}, \"23\": {\"23\": 3, \"28\": 1, \"15\": 1, \"17\": 3, \"11\": 2}, \"30\": {\"30\": 2, \"21\": 2}}, \"W_A_1\": {\"105\": {\"105\": 8, \"81\": 1, \"74\": 1, \"23\": 2}, \"100\": {\"100\": 9, \"74\": 1, \"72\": 1, \"33\": 1}, \"112\": {\"112\": 4, \"51\": 1, \"75\": 2, \"31\": 1, \"54\": 1, \"53\": 1}, \"123\": {\"123\": 12}, \"13\": {\"13\": 3, \"123\": 1, \"90\": 2}, \"81\": {\"81\": 3, \"100\": 2, \"99\": 3, \"20\": 1, \"33\": 1}, \"124\": {\"124\": 8, \"68\": 1, \"17\": 2, \"22\": 1}, \"122\": {\"87\": 1, \"122\": 8, \"11\": 1, \"39\": 2}, \"111\": {\"111\": 11, \"5\": 1}, \"93\": {\"93\": 7, \"87\": 2, \"109\": 1, \"70\": 1, \"108\": 1}, \"106\": {\"106\": 12}, \"113\": {\"113\": 12}, \"95\": {\"100\": 1, \"67\": 2, \"95\": 5}, \"87\": {\"122\": 2, \"108\": 1, \"87\": 5, \"8\": 1, \"97\": 1, \"23\": 2}, \"86\": {\"124\": 1, \"86\": 5, \"116\": 1, \"57\": 1}, \"67\": {\"67\": 9, \"117\": 1, \"90\": 2}, \"98\": {\"98\": 9, \"5\": 1, \"75\": 2}, \"79\": {\"79\": 9, \"128\": 2, \"17\": 1}, \"36\": {\"101\": 1, \"36\": 8, \"94\": 1, \"15\": 2}, \"91\": {\"91\": 10, \"85\": 1, \"89\": 1}, \"49\": {\"52\": 4, \"49\": 3, \"32\": 1, \"72\": 1, \"119\": 1, \"53\": 2}, \"31\": {\"49\": 1, \"31\": 7, \"53\": 1, \"127\": 1, \"114\": 1, \"12\": 1}, \"27\": {\"27\": 11, \"110\": 1}, \"52\": {\"98\": 1, \"49\": 1, \"52\": 8, \"37\": 1, \"41\": 1}, \"48\": {\"48\": 12}, \"8\": {\"8\": 6}, \"104\": {\"104\": 11, \"67\": 1}, \"110\": {\"110\": 12}, \"40\": {\"40\": 6, \"49\": 1, \"1\": 1}, \"33\": {\"33\": 12}, \"101\": {\"101\": 12}, \"28\": {\"28\": 2, \"90\": 1, \"61\": 1, \"80\": 1, \"119\": 1, \"102\": 2}, \"97\": {\"97\": 10, \"10\": 1, \"11\": 1}, \"5\": {\"5\": 8, \"28\": 1, \"42\": 1, \"129\": 1, \"45\": 1}, \"125\": {\"5\": 2, \"54\": 1, \"125\": 7}, \"121\": {\"121\": 11, \"129\": 1}, \"96\": {\"7\": 1, \"33\": 1, \"96\": 6, \"88\": 1, \"14\": 1, \"23\": 1, \"44\": 1}, \"90\": {\"90\": 10, \"28\": 1, \"34\": 1}, \"129\": {\"129\": 3, \"121\": 1, \"110\": 1, \"49\": 1, \"58\": 1, \"56\": 1, \"120\": 1, \"119\": 1, \"61\": 1, \"42\": 1}, \"84\": {\"96\": 2, \"84\": 7, \"44\": 1, \"14\": 2}, \"9\": {\"98\": 1, \"9\": 5, \"100\": 1, \"112\": 1, \"60\": 1, \"52\": 1, \"49\": 1, \"107\": 1}, \"109\": {\"109\": 12}, \"7\": {\"96\": 1, \"7\": 8, \"11\": 2, \"62\": 1}, \"26\": {\"109\": 1, \"26\": 6, \"16\": 1, \"33\": 1, \"118\": 1}, \"16\": {\"26\": 4, \"1\": 1, \"16\": 5, \"113\": 2}, \"92\": {\"92\": 10, \"49\": 1, \"6\": 1}, \"22\": {\"22\": 3, \"45\": 1, \"90\": 1, \"64\": 1, \"123\": 2, \"124\": 2, \"57\": 1, \"41\": 1}, \"70\": {\"78\": 4, \"21\": 2, \"70\": 6}, \"127\": {\"127\": 12}, \"55\": {\"55\": 7, \"41\": 1, \"64\": 1, \"128\": 1}, \"75\": {\"75\": 6, \"127\": 1, \"36\": 1, \"9\": 1, \"29\": 1, \"12\": 1, \"71\": 1}, \"23\": {\"60\": 1, \"105\": 3, \"23\": 3, \"21\": 1, \"3\": 1, \"88\": 1, \"44\": 1, \"96\": 1}, \"51\": {\"75\": 1, \"127\": 1, \"51\": 9, \"86\": 1}, \"60\": {\"60\": 5, \"90\": 1, \"1\": 1, \"12\": 1, \"3\": 2, \"26\": 1, \"84\": 1}, \"20\": {\"20\": 12}, \"94\": {\"94\": 11, \"126\": 1}, \"78\": {\"78\": 8, \"67\": 1, \"11\": 1, \"70\": 2}, \"64\": {\"64\": 9, \"54\": 1, \"116\": 1, \"65\": 1}, \"15\": {\"15\": 10, \"108\": 1, \"36\": 1}, \"61\": {\"80\": 1, \"67\": 1, \"82\": 1, \"61\": 3, \"57\": 1, \"129\": 1, \"120\": 1, \"99\": 1, \"64\": 1, \"102\": 1}, \"80\": {\"80\": 1, \"63\": 1, \"115\": 2, \"57\": 1, \"64\": 1}, \"34\": {\"98\": 1, \"34\": 5, \"128\": 1, \"14\": 2, \"56\": 1, \"50\": 1, \"89\": 1}, \"63\": {\"80\": 1, \"63\": 6, \"41\": 1, \"2\": 1, \"123\": 3}, \"108\": {\"108\": 10, \"11\": 1, \"39\": 1}, \"45\": {\"5\": 1, \"61\": 1, \"45\": 6, \"70\": 1, \"115\": 2, \"21\": 1}, \"71\": {\"15\": 1, \"71\": 7, \"31\": 2, \"127\": 1, \"101\": 1}, \"114\": {\"34\": 1, \"114\": 10, \"81\": 1}, \"69\": {\"118\": 2, \"69\": 7, \"18\": 1}, \"120\": {\"120\": 6, \"45\": 1, \"90\": 1, \"65\": 1, \"67\": 2, \"61\": 1}, \"24\": {\"24\": 5, \"108\": 1, \"30\": 2, \"126\": 2, \"88\": 2}, \"117\": {\"117\": 8, \"45\": 1, \"67\": 1}, \"25\": {\"120\": 2, \"41\": 1, \"99\": 1, \"91\": 1, \"124\": 1, \"129\": 1, \"25\": 1, \"116\": 1, \"82\": 1, \"104\": 1, \"108\": 1}, \"116\": {\"116\": 4, \"120\": 1, \"42\": 1, \"22\": 1, \"0\": 1, \"82\": 1, \"45\": 1, \"32\": 1, \"119\": 1}, \"12\": {\"12\": 11, \"110\": 1}, \"68\": {\"68\": 12}, \"50\": {\"81\": 1, \"50\": 7, \"72\": 1, \"19\": 1, \"82\": 1, \"44\": 1}, \"99\": {\"25\": 1, \"99\": 7, \"83\": 2, \"129\": 1, \"76\": 1}, \"74\": {\"74\": 9, \"76\": 1, \"14\": 1, \"33\": 1}, \"118\": {\"118\": 6, \"69\": 3, \"108\": 1, \"26\": 1, \"60\": 1}, \"1\": {\"1\": 10, \"60\": 2}, \"66\": {\"66\": 3, \"42\": 1, \"77\": 1, \"19\": 2, \"25\": 1}, \"0\": {\"0\": 8, \"30\": 2, \"126\": 1, \"24\": 1}, \"83\": {\"28\": 1, \"80\": 1, \"74\": 1, \"100\": 1, \"99\": 2, \"25\": 1, \"77\": 1, \"83\": 1, \"33\": 1, \"54\": 2}, \"32\": {\"85\": 2, \"32\": 7, \"89\": 1, \"107\": 1, \"128\": 1}, \"115\": {\"115\": 11, \"119\": 1}, \"82\": {\"80\": 1, \"82\": 7, \"84\": 1, \"1\": 1, \"116\": 1, \"50\": 1}, \"21\": {\"21\": 11, \"39\": 1}, \"85\": {\"85\": 8, \"1\": 1, \"107\": 1, \"98\": 1, \"32\": 1}, \"77\": {\"77\": 9, \"45\": 1, \"46\": 2}, \"119\": {\"77\": 1, \"119\": 8, \"115\": 1, \"48\": 2}, \"10\": {\"10\": 9, \"70\": 2, \"108\": 1}, \"76\": {\"81\": 1, \"97\": 1, \"76\": 7, \"100\": 1, \"61\": 1, \"40\": 1}, \"54\": {\"54\": 9, \"104\": 1, \"41\": 2}, \"126\": {\"126\": 9, \"7\": 2, \"21\": 1}, \"6\": {\"6\": 10, \"59\": 1, \"47\": 1}, \"4\": {\"4\": 11, \"17\": 1}, \"89\": {\"82\": 2, \"89\": 9, \"92\": 1}, \"56\": {\"56\": 9, \"91\": 1, \"47\": 1, \"89\": 1}, \"37\": {\"37\": 12}, \"72\": {\"72\": 7, \"84\": 2, \"107\": 2, \"12\": 1}, \"30\": {\"30\": 9, \"97\": 1, \"93\": 2}, \"65\": {\"65\": 4, \"120\": 2, \"121\": 3, \"70\": 1, \"57\": 2}, \"57\": {\"57\": 7, \"48\": 1, \"102\": 2, \"115\": 2}, \"62\": {\"62\": 12}, \"41\": {\"19\": 1, \"41\": 9, \"55\": 1, \"54\": 1}, \"47\": {\"89\": 1, \"47\": 5, \"56\": 1, \"34\": 2, \"72\": 1, \"44\": 1, \"75\": 1}, \"39\": {\"39\": 7, \"21\": 1, \"118\": 1, \"43\": 1, \"108\": 1, \"78\": 1}, \"19\": {\"19\": 7, \"50\": 1, \"20\": 1, \"41\": 1, \"25\": 2}, \"17\": {\"41\": 2, \"27\": 1, \"17\": 6, \"124\": 1, \"4\": 1, \"46\": 1}, \"43\": {\"21\": 2, \"43\": 4, \"39\": 1, \"126\": 1, \"93\": 2}, \"102\": {\"102\": 8, \"57\": 1, \"64\": 1, \"41\": 1, \"121\": 1}, \"42\": {\"42\": 5, \"57\": 1, \"37\": 1, \"102\": 1, \"38\": 1, \"120\": 1, \"61\": 1, \"21\": 1}, \"53\": {\"114\": 1, \"53\": 7, \"47\": 2, \"101\": 1, \"75\": 1}, \"11\": {\"11\": 9, \"7\": 1, \"122\": 1, \"108\": 1}, \"73\": {\"73\": 6, \"19\": 1, \"3\": 1}, \"35\": {\"44\": 1, \"35\": 4, \"96\": 1, \"84\": 1, \"1\": 1, \"12\": 3, \"81\": 1}, \"58\": {\"114\": 1, \"41\": 1, \"58\": 6, \"34\": 1, \"6\": 1, \"55\": 1, \"128\": 1}, \"14\": {\"44\": 2, \"14\": 7, \"96\": 1, \"72\": 1, \"114\": 1}, \"44\": {\"14\": 1, \"44\": 4, \"49\": 1, \"78\": 1, \"23\": 1}, \"107\": {\"107\": 11, \"114\": 1}, \"38\": {\"38\": 7, \"42\": 1}, \"3\": {\"44\": 1, \"3\": 10, \"33\": 1}, \"103\": {\"103\": 5, \"55\": 1, \"83\": 2, \"29\": 2}, \"59\": {\"19\": 2, \"59\": 8, \"111\": 1, \"58\": 1}, \"2\": {\"121\": 3, \"2\": 2, \"120\": 2, \"65\": 1}, \"88\": {\"88\": 6, \"27\": 2}, \"128\": {\"47\": 3, \"128\": 4, \"76\": 2, \"104\": 1}, \"46\": {\"46\": 3, \"28\": 1, \"119\": 1, \"124\": 1, \"54\": 1, \"98\": 1}, \"18\": {\"18\": 9, \"78\": 1}, \"29\": {\"29\": 7, \"25\": 1}}, \"W_A_2\": {\"3\": {\"3\": 11, \"1\": 1}, \"127\": {\"127\": 8, \"3\": 1, \"51\": 2, \"53\": 1}, \"58\": {\"114\": 1, \"58\": 5, \"34\": 1, \"15\": 1, \"110\": 1, \"54\": 1, \"77\": 1, \"68\": 1}, \"114\": {\"114\": 12}, \"111\": {\"111\": 9, \"5\": 2, \"129\": 1}, \"105\": {\"105\": 6, \"110\": 2, \"108\": 1, \"8\": 2, \"21\": 1}, \"118\": {\"118\": 9, \"39\": 1, \"88\": 1, \"10\": 1}, \"23\": {\"105\": 1, \"118\": 1, \"23\": 2, \"36\": 1, \"61\": 1, \"87\": 1, \"43\": 1, \"93\": 1, \"96\": 2, \"70\": 1}, \"21\": {\"21\": 10, \"109\": 1, \"10\": 1}, \"20\": {\"20\": 10, \"67\": 1, \"90\": 1}, \"75\": {\"21\": 1, \"127\": 1, \"75\": 7, \"3\": 1, \"51\": 1, \"98\": 1}, \"86\": {\"86\": 9, \"66\": 1, \"115\": 1, \"17\": 1}, \"60\": {\"23\": 1, \"14\": 1, \"60\": 7, \"53\": 1, \"62\": 2}, \"69\": {\"23\": 3, \"69\": 9}, \"99\": {\"99\": 5, \"58\": 1, \"44\": 1, \"120\": 1}, \"14\": {\"14\": 5, \"74\": 1, \"82\": 1, \"7\": 1, \"87\": 1, \"72\": 1, \"97\": 1, \"1\": 1}, \"110\": {\"0\": 1, \"8\": 1, \"110\": 5, \"105\": 1, \"108\": 1, \"3\": 1, \"118\": 2}, \"0\": {\"0\": 8, \"71\": 1, \"94\": 1, \"122\": 1, \"106\": 1}, \"28\": {\"73\": 1, \"5\": 1, \"32\": 1, \"28\": 2, \"41\": 1, \"46\": 1, \"98\": 1, \"34\": 1, \"97\": 1, \"124\": 1, \"45\": 1}, \"124\": {\"124\": 8, \"5\": 1, \"41\": 2, \"85\": 1}, \"47\": {\"73\": 2, \"47\": 6, \"53\": 1, \"108\": 1, \"78\": 1, \"42\": 1}, \"89\": {\"28\": 1, \"89\": 7, \"76\": 1, \"63\": 1, \"57\": 1, \"31\": 1}, \"5\": {\"5\": 12}, \"83\": {\"73\": 1, \"83\": 3, \"55\": 1, \"1\": 1, \"67\": 1, \"92\": 2, \"64\": 1, \"61\": 1, \"76\": 1}, \"34\": {\"47\": 1, \"73\": 1, \"34\": 5, \"114\": 1, \"56\": 1, \"107\": 1, \"97\": 1, \"67\": 1}, \"8\": {\"8\": 10, \"12\": 1, \"23\": 1}, \"64\": {\"64\": 9, \"5\": 2, \"123\": 1}, \"73\": {\"5\": 1, \"73\": 4, \"64\": 1, \"100\": 2, \"46\": 1, \"37\": 1}, \"116\": {\"124\": 2, \"45\": 2, \"55\": 1, \"116\": 2, \"57\": 1, \"86\": 1, \"123\": 1, \"5\": 1, \"80\": 1}, \"19\": {\"73\": 1, \"64\": 1, \"19\": 2, \"54\": 1, \"82\": 3, \"57\": 1, \"83\": 1, \"32\": 1, \"34\": 1}, \"25\": {\"25\": 10, \"98\": 1, \"56\": 1}, \"55\": {\"55\": 6, \"74\": 1, \"44\": 1, \"82\": 2, \"50\": 2}, \"66\": {\"129\": 1, \"45\": 1, \"66\": 6, \"42\": 2, \"13\": 1, \"85\": 1}, \"36\": {\"36\": 5, \"94\": 3, \"30\": 1, \"27\": 2, \"11\": 1}, \"35\": {\"35\": 4, \"116\": 1, \"30\": 1, \"100\": 1, \"40\": 1, \"8\": 1, \"96\": 1, \"107\": 1, \"97\": 1}, \"6\": {\"6\": 12}, \"117\": {\"117\": 4, \"116\": 1, \"89\": 3, \"76\": 1, \"80\": 2, \"2\": 1}, \"1\": {\"1\": 12}, \"129\": {\"129\": 5, \"29\": 1, \"37\": 1, \"85\": 1}, \"45\": {\"45\": 6, \"46\": 1, \"90\": 1, \"120\": 2, \"123\": 1, \"28\": 1}, \"15\": {\"15\": 8, \"71\": 1, \"94\": 1, \"122\": 1, \"106\": 1}, \"4\": {\"102\": 1, \"4\": 10, \"79\": 1}, \"76\": {\"31\": 2, \"76\": 3, \"72\": 1, \"40\": 1, \"92\": 1, \"119\": 2, \"83\": 1, \"19\": 1}, \"103\": {\"103\": 7, \"52\": 2, \"67\": 1, \"91\": 2}, \"125\": {\"125\": 10, \"111\": 2}, \"31\": {\"33\": 2, \"31\": 8, \"96\": 1, \"1\": 1}, \"39\": {\"39\": 8, \"88\": 1, \"70\": 2, \"21\": 1}, \"88\": {\"39\": 1, \"88\": 7, \"70\": 1, \"108\": 1, \"43\": 1, \"109\": 1}, \"30\": {\"88\": 2, \"30\": 8, \"36\": 2}, \"102\": {\"102\": 9, \"66\": 1, \"22\": 1, \"123\": 1}, \"33\": {\"33\": 11, \"20\": 1}, \"93\": {\"93\": 9, \"113\": 2, \"16\": 1}, \"82\": {\"32\": 1, \"100\": 2, \"82\": 7, \"72\": 1, \"74\": 1}, \"17\": {\"17\": 4, \"5\": 1, \"37\": 1, \"78\": 1, \"3\": 1, \"86\": 1, \"29\": 1}, \"101\": {\"101\": 10, \"106\": 1, \"127\": 1}, \"9\": {\"9\": 10, \"7\": 1, \"75\": 1}, \"100\": {\"64\": 2, \"82\": 1, \"84\": 1, \"100\": 3, \"3\": 1, \"46\": 1, \"50\": 1, \"57\": 2}, \"32\": {\"32\": 9, \"64\": 1, \"40\": 1, \"19\": 1}, \"80\": {\"80\": 10, \"116\": 1, \"121\": 1}, \"51\": {\"51\": 6, \"114\": 1, \"29\": 1, \"107\": 1, \"71\": 1, \"12\": 1, \"98\": 1}, \"70\": {\"70\": 7, \"88\": 1, \"39\": 1, \"78\": 1, \"109\": 1, \"21\": 1}, \"37\": {\"37\": 2, \"22\": 1, \"46\": 1, \"45\": 1, \"78\": 1, \"10\": 1, \"48\": 1}, \"126\": {\"118\": 1, \"126\": 10, \"11\": 1}, \"62\": {\"118\": 2, \"96\": 1, \"62\": 4, \"31\": 2, \"43\": 1, \"122\": 2}, \"96\": {\"74\": 1, \"31\": 1, \"84\": 2, \"96\": 7, \"23\": 1}, \"74\": {\"1\": 1, \"74\": 7}, \"68\": {\"98\": 1, \"29\": 1, \"68\": 7, \"114\": 2, \"54\": 1}, \"98\": {\"98\": 10, \"107\": 1, \"49\": 1}, \"43\": {\"21\": 1, \"43\": 8, \"113\": 1, \"88\": 1, \"39\": 1}, \"40\": {\"40\": 7, \"95\": 1, \"49\": 2, \"87\": 1, \"84\": 1}, \"41\": {\"41\": 8, \"104\": 2, \"124\": 1, \"29\": 1}, \"54\": {\"29\": 1, \"54\": 9, \"6\": 1, \"58\": 1}, \"81\": {\"99\": 2, \"81\": 5, \"38\": 1, \"100\": 1, \"35\": 1, \"20\": 2}, \"27\": {\"21\": 1, \"109\": 1, \"27\": 7, \"36\": 3}, \"29\": {\"29\": 11, \"68\": 1}, \"109\": {\"43\": 2, \"109\": 6, \"88\": 2, \"21\": 1, \"70\": 1}, \"121\": {\"99\": 2, \"121\": 4}, \"91\": {\"91\": 8, \"77\": 1, \"29\": 2, \"98\": 1}, \"16\": {\"93\": 4, \"113\": 2, \"16\": 4, \"20\": 1, \"122\": 1}, \"42\": {\"32\": 1, \"42\": 7, \"66\": 1, \"41\": 1, \"13\": 1, \"6\": 1}, \"18\": {\"16\": 2, \"18\": 5, \"26\": 3, \"100\": 1, \"96\": 1}, \"78\": {\"78\": 5, \"70\": 3, \"10\": 2, \"109\": 1, \"39\": 1}, \"48\": {\"48\": 11, \"119\": 1}, \"72\": {\"72\": 8, \"96\": 1, \"38\": 2, \"61\": 1}, \"123\": {\"42\": 2, \"123\": 5, \"50\": 1, \"67\": 1, \"119\": 1, \"64\": 1, \"86\": 1}, \"44\": {\"50\": 2, \"44\": 8, \"100\": 1, \"20\": 1}, \"63\": {\"63\": 6, \"61\": 1, \"90\": 1, \"55\": 2}, \"26\": {\"26\": 8, \"69\": 1, \"18\": 3}, \"50\": {\"97\": 1, \"21\": 1, \"50\": 6, \"120\": 1, \"55\": 1}, \"10\": {\"10\": 9, \"78\": 1, \"43\": 1, \"24\": 1}, \"61\": {\"61\": 3, \"97\": 1, \"87\": 1, \"55\": 1, \"24\": 2, \"83\": 1, \"46\": 1, \"38\": 1, \"32\": 1}, \"97\": {\"7\": 2, \"97\": 4, \"30\": 1, \"3\": 1, \"12\": 2}, \"67\": {\"67\": 3, \"63\": 1, \"123\": 1, \"115\": 2, \"28\": 1}, \"113\": {\"113\": 12}, \"7\": {\"39\": 1, \"7\": 5, \"3\": 1, \"62\": 1, \"21\": 1, \"108\": 1}, \"71\": {\"71\": 11, \"21\": 1}, \"2\": {\"2\": 5, \"90\": 1, \"65\": 1, \"117\": 2, \"66\": 2, \"120\": 1}, \"57\": {\"57\": 3, \"24\": 1, \"92\": 2, \"64\": 1, \"87\": 1, \"89\": 2, \"13\": 2}, \"59\": {\"59\": 5, \"88\": 1, \"78\": 1, \"25\": 1, \"118\": 1, \"124\": 1}, \"112\": {\"54\": 1, \"111\": 1, \"45\": 1, \"29\": 1, \"53\": 1, \"112\": 2, \"91\": 1}, \"79\": {\"79\": 10, \"104\": 2}, \"52\": {\"52\": 10, \"36\": 1, \"88\": 1}, \"13\": {\"120\": 2, \"13\": 4, \"51\": 1, \"80\": 1, \"102\": 1, \"3\": 1, \"116\": 2}, \"128\": {\"33\": 1, \"128\": 6, \"95\": 1, \"20\": 1, \"73\": 1}, \"120\": {\"120\": 5, \"45\": 1, \"66\": 1, \"4\": 1, \"2\": 1, \"117\": 1, \"116\": 2}, \"94\": {\"0\": 2, \"88\": 1, \"94\": 5, \"15\": 1, \"126\": 1, \"12\": 1, \"36\": 1}, \"85\": {\"85\": 4, \"128\": 1, \"28\": 1, \"44\": 1, \"129\": 1, \"53\": 1, \"52\": 1, \"102\": 1, \"107\": 1}, \"46\": {\"45\": 1, \"37\": 1, \"41\": 1, \"3\": 1, \"92\": 1, \"46\": 4, \"102\": 1, \"64\": 1, \"73\": 1}, \"22\": {\"46\": 1, \"22\": 8, \"119\": 1, \"48\": 2}, \"90\": {\"90\": 5, \"100\": 2, \"63\": 1, \"115\": 1, \"117\": 1, \"83\": 1, \"38\": 1}, \"77\": {\"58\": 1, \"78\": 1, \"124\": 1, \"95\": 1, \"91\": 1, \"77\": 5, \"68\": 1, \"126\": 1}, \"106\": {\"106\": 11, \"97\": 1}, \"104\": {\"104\": 7, \"102\": 1, \"119\": 1, \"10\": 1}, \"95\": {\"14\": 1, \"95\": 7, \"40\": 1, \"93\": 1, \"105\": 1, \"106\": 1}, \"12\": {\"12\": 10, \"61\": 1, \"97\": 1}, \"49\": {\"54\": 1, \"55\": 1, \"49\": 7, \"35\": 1, \"32\": 1, \"84\": 1}, \"87\": {\"43\": 1, \"87\": 8, \"126\": 2, \"24\": 1}, \"65\": {\"2\": 1, \"65\": 6, \"63\": 1}, \"84\": {\"96\": 2, \"84\": 9, \"40\": 1}, \"38\": {\"38\": 5, \"20\": 1, \"83\": 2, \"32\": 1, \"50\": 1, \"52\": 1, \"107\": 1}, \"53\": {\"53\": 5, \"126\": 1, \"56\": 1, \"24\": 1, \"44\": 2, \"68\": 2}, \"122\": {\"108\": 2, \"11\": 3, \"110\": 1, \"122\": 4, \"7\": 2}, \"119\": {\"112\": 1, \"38\": 1, \"82\": 1, \"119\": 4, \"92\": 1, \"123\": 1, \"22\": 2, \"13\": 1}, \"108\": {\"108\": 9, \"11\": 1}, \"107\": {\"98\": 1, \"107\": 9, \"114\": 1, \"35\": 1}, \"24\": {\"24\": 9, \"109\": 1, \"10\": 2}, \"115\": {\"115\": 8, \"126\": 1, \"48\": 1, \"109\": 1, \"80\": 1}, \"56\": {\"3\": 1, \"25\": 1, \"56\": 5, \"49\": 1, \"53\": 1, \"32\": 1, \"96\": 1, \"85\": 1}, \"11\": {\"11\": 8, \"122\": 1, \"108\": 1}, \"92\": {\"92\": 8, \"76\": 1, \"20\": 1, \"117\": 1, \"119\": 1}}, \"C_A_4\": {\"52\": {\"40\": 3, \"20\": 1, \"50\": 2, \"45\": 1, \"52\": 2, \"30\": 3}, \"6\": {\"6\": 12}, \"14\": {\"43\": 1, \"13\": 1, \"39\": 2, \"8\": 1, \"2\": 1, \"41\": 1, \"56\": 1, \"14\": 2, \"52\": 1, \"51\": 1}, \"49\": {\"43\": 2, \"24\": 1, \"49\": 4, \"10\": 1, \"37\": 2, \"2\": 1, \"38\": 1}, \"0\": {\"6\": 2, \"0\": 6, \"5\": 3, \"30\": 1}, \"46\": {\"46\": 6, \"6\": 1, \"3\": 1, \"52\": 1, \"5\": 1, \"30\": 1, \"0\": 1}, \"41\": {\"41\": 11, \"33\": 1}, \"24\": {\"24\": 11, \"43\": 1}, \"25\": {\"25\": 11, \"28\": 1}, \"40\": {\"40\": 3, \"1\": 1, \"47\": 1, \"52\": 1, \"12\": 3, \"21\": 3}, \"38\": {\"43\": 1, \"38\": 8, \"13\": 1, \"14\": 1, \"2\": 1}, \"13\": {\"13\": 12}, \"9\": {\"9\": 11, \"4\": 1}, \"45\": {\"6\": 1, \"46\": 1, \"50\": 1, \"52\": 1, \"1\": 1, \"22\": 1}, \"43\": {\"14\": 4, \"32\": 1, \"43\": 7}, \"10\": {\"10\": 11, \"24\": 1}, \"3\": {\"3\": 5, \"5\": 4, \"46\": 2, \"6\": 1}, \"32\": {\"32\": 5, \"33\": 1, \"54\": 1, \"35\": 2, \"41\": 1, \"43\": 2}, \"37\": {\"37\": 9, \"2\": 1}, \"48\": {\"48\": 7, \"9\": 4, \"4\": 1}, \"26\": {\"23\": 1, \"26\": 5, \"28\": 4, \"53\": 1, \"34\": 1}, \"30\": {\"46\": 1, \"3\": 1, \"6\": 2, \"4\": 1, \"29\": 1, \"52\": 1, \"30\": 2, \"50\": 1}, \"27\": {\"27\": 8, \"29\": 1, \"51\": 1}, \"57\": {\"57\": 7, \"4\": 1, \"12\": 1, \"40\": 1, \"52\": 1, \"1\": 1}, \"33\": {\"33\": 10, \"32\": 1, \"55\": 1}, \"21\": {\"46\": 1, \"21\": 3, \"40\": 1, \"6\": 1, \"50\": 2, \"3\": 2, \"30\": 1, \"4\": 1}, \"55\": {\"33\": 2, \"35\": 2, \"23\": 1, \"55\": 5, \"37\": 2}, \"23\": {\"55\": 1, \"33\": 1, \"15\": 1, \"35\": 1, \"36\": 1, \"23\": 4, \"39\": 1, \"42\": 2}, \"20\": {\"8\": 1, \"20\": 3, \"1\": 1, \"47\": 2, \"48\": 1, \"4\": 1, \"27\": 1}, \"19\": {\"19\": 6, \"17\": 3, \"16\": 1, \"23\": 2}, \"39\": {\"39\": 10, \"33\": 1, \"36\": 1}, \"47\": {\"40\": 2, \"1\": 2, \"20\": 2, \"52\": 1, \"57\": 1, \"47\": 2}, \"50\": {\"46\": 1, \"52\": 3, \"40\": 1, \"5\": 1, \"50\": 5, \"3\": 1}, \"1\": {\"1\": 10, \"12\": 2}, \"42\": {\"53\": 3, \"42\": 7}, \"8\": {\"8\": 2, \"20\": 3, \"4\": 1, \"48\": 2}, \"53\": {\"53\": 6, \"34\": 4, \"17\": 1, \"42\": 1}, \"4\": {\"4\": 9, \"9\": 1, \"29\": 1, \"20\": 1}, \"54\": {\"54\": 9, \"23\": 1}, \"31\": {\"31\": 9, \"16\": 1, \"11\": 1, \"15\": 1}, \"11\": {\"11\": 3, \"31\": 3, \"24\": 1, \"10\": 1}, \"5\": {\"5\": 12}, \"18\": {\"18\": 7, \"53\": 1}, \"7\": {\"7\": 10, \"49\": 2}, \"15\": {\"54\": 4, \"35\": 1, \"15\": 2, \"16\": 2, \"23\": 1}, \"17\": {\"17\": 5, \"23\": 1, \"36\": 3, \"53\": 3}, \"2\": {\"2\": 12}, \"35\": {\"41\": 2, \"35\": 4, \"27\": 3, \"42\": 1}, \"22\": {\"22\": 6, \"0\": 1, \"44\": 1, \"6\": 2}, \"34\": {\"34\": 6, \"35\": 1, \"53\": 1, \"19\": 1, \"55\": 1}, \"56\": {\"22\": 1, \"56\": 7, \"29\": 1, \"6\": 3}, \"12\": {\"21\": 3, \"12\": 7, \"44\": 1, \"20\": 1}, \"16\": {\"16\": 3, \"31\": 1, \"15\": 2, \"34\": 2, \"10\": 1, \"17\": 1, \"19\": 1, \"28\": 1}, \"51\": {\"51\": 5, \"33\": 1, \"27\": 1, \"39\": 1}, \"28\": {\"31\": 1, \"28\": 8, \"23\": 1}, \"29\": {\"29\": 9, \"57\": 3}, \"44\": {\"12\": 2, \"44\": 2, \"22\": 2}, \"36\": {\"36\": 4, \"55\": 1, \"23\": 1, \"33\": 1, \"51\": 1}}, \"C_A_2\": {\"11\": {\"11\": 5, \"42\": 1, \"16\": 2, \"31\": 2, \"15\": 2}, \"21\": {\"21\": 7, \"5\": 3}, \"19\": {\"19\": 4, \"11\": 1, \"53\": 1, \"49\": 2}, \"20\": {\"20\": 4, \"40\": 4, \"57\": 1, \"4\": 2, \"29\": 1}, \"9\": {\"9\": 8, \"48\": 2}, \"10\": {\"10\": 12}, \"37\": {\"37\": 9, \"55\": 1}, \"32\": {\"32\": 9, \"39\": 1, \"8\": 2}, \"3\": {\"21\": 2, \"3\": 7, \"46\": 1, \"45\": 2}, \"39\": {\"39\": 9, \"55\": 1, \"23\": 2}, \"45\": {\"45\": 10, \"21\": 1, \"5\": 1}, \"50\": {\"12\": 2, \"20\": 1, \"50\": 1, \"44\": 3, \"52\": 2, \"5\": 1, \"40\": 1, \"30\": 1}, \"40\": {\"50\": 2, \"40\": 4, \"47\": 2, \"57\": 2, \"30\": 1, \"20\": 1}, \"46\": {\"12\": 4, \"21\": 1, \"46\": 1, \"52\": 1, \"44\": 1, \"5\": 1, \"30\": 1, \"6\": 1, \"45\": 1}, \"12\": {\"3\": 1, \"50\": 1, \"12\": 7, \"0\": 1, \"30\": 1, \"46\": 1}, \"13\": {\"13\": 11, \"43\": 1}, \"18\": {\"25\": 3, \"26\": 1, \"18\": 3, \"49\": 1}, \"28\": {\"15\": 3, \"28\": 4, \"11\": 2, \"16\": 1, \"42\": 2}, \"57\": {\"57\": 4, \"47\": 1, \"40\": 4, \"8\": 1, \"1\": 2}, \"7\": {\"7\": 11, \"28\": 1}, \"15\": {\"15\": 8, \"16\": 1, \"25\": 1, \"28\": 2}, \"0\": {\"0\": 1, \"12\": 1, \"3\": 1, \"46\": 2, \"52\": 1, \"44\": 1, \"5\": 1, \"40\": 1, \"45\": 1, \"6\": 2}, \"36\": {\"36\": 10, \"17\": 2}, \"53\": {\"36\": 1, \"53\": 7, \"23\": 1, \"35\": 1, \"49\": 2}, \"49\": {\"28\": 1, \"49\": 4, \"26\": 1, \"34\": 2, \"17\": 2, \"53\": 1, \"54\": 1}, \"25\": {\"25\": 10, \"15\": 2}, \"29\": {\"29\": 6, \"4\": 1, \"12\": 1, \"20\": 1, \"33\": 1}, \"56\": {\"56\": 11, \"38\": 1}, \"2\": {\"2\": 10}, \"31\": {\"42\": 1, \"31\": 9}, \"54\": {\"54\": 8}, \"8\": {\"8\": 4, \"27\": 1, \"4\": 2, \"33\": 1, \"20\": 1, \"51\": 1}, \"55\": {\"55\": 6, \"23\": 1, \"37\": 2, \"32\": 2, \"7\": 1}, \"26\": {\"54\": 2, \"26\": 10}, \"24\": {\"24\": 9, \"10\": 1}, \"42\": {\"42\": 5, \"23\": 1, \"2\": 1, \"28\": 1, \"11\": 1, \"35\": 2, \"37\": 1}, \"27\": {\"27\": 4, \"8\": 1, \"20\": 1}, \"41\": {\"41\": 9, \"33\": 1, \"8\": 2}, \"43\": {\"38\": 1, \"43\": 6, \"14\": 1, \"13\": 1, \"33\": 1}, \"47\": {\"57\": 2, \"1\": 3, \"47\": 4, \"52\": 1, \"40\": 1, \"41\": 1}, \"38\": {\"43\": 2, \"38\": 8, \"14\": 2}, \"16\": {\"34\": 1, \"25\": 1, \"16\": 6, \"11\": 2, \"15\": 1, \"18\": 1}, \"34\": {\"49\": 1, \"34\": 3, \"35\": 3, \"28\": 1, \"42\": 2, \"23\": 2}, \"35\": {\"35\": 7, \"34\": 1, \"17\": 1, \"39\": 1}, \"44\": {\"0\": 2, \"50\": 2, \"52\": 1, \"21\": 1, \"12\": 1, \"44\": 2, \"3\": 1, \"45\": 2}, \"23\": {\"23\": 4, \"42\": 1, \"15\": 4, \"28\": 2, \"33\": 1}, \"52\": {\"52\": 7, \"44\": 2, \"45\": 1, \"30\": 1, \"57\": 1}, \"48\": {\"48\": 6, \"4\": 2, \"47\": 2, \"9\": 1, \"57\": 1}, \"33\": {\"33\": 6, \"41\": 2, \"2\": 2, \"55\": 1, \"51\": 1}, \"1\": {\"47\": 3, \"1\": 5, \"48\": 1, \"52\": 1}, \"14\": {\"2\": 1, \"14\": 6, \"13\": 1, \"29\": 1, \"33\": 1, \"38\": 1, \"51\": 1}, \"22\": {\"22\": 7, \"0\": 1}, \"4\": {\"4\": 10, \"9\": 1, \"8\": 1}, \"5\": {\"5\": 10, \"30\": 1, \"0\": 1}, \"51\": {\"51\": 9, \"17\": 1}, \"30\": {\"30\": 4, \"1\": 1, \"46\": 2, \"12\": 2, \"52\": 1}, \"17\": {\"35\": 1, \"17\": 4, \"36\": 3}, \"6\": {\"6\": 3, \"30\": 1, \"12\": 1, \"3\": 1, \"5\": 2}}, \"W_A_3\": {\"106\": {\"106\": 8, \"15\": 1, \"74\": 1, \"94\": 1, \"23\": 1}, \"129\": {\"129\": 12}, \"77\": {\"112\": 1, \"28\": 1, \"124\": 2, \"77\": 4, \"95\": 1, \"41\": 1, \"91\": 1, \"98\": 1}, \"53\": {\"53\": 7, \"44\": 2, \"82\": 1, \"34\": 1, \"40\": 1}, \"3\": {\"3\": 12}, \"76\": {\"76\": 5, \"28\": 1, \"117\": 1, \"57\": 1, \"20\": 1, \"89\": 2, \"103\": 1}, \"22\": {\"22\": 8, \"29\": 1, \"124\": 1, \"45\": 1, \"129\": 1}, \"108\": {\"108\": 12}, \"39\": {\"39\": 10, \"11\": 1, \"10\": 1}, \"107\": {\"107\": 9, \"65\": 1, \"9\": 2}, \"112\": {\"28\": 1, \"77\": 1, \"112\": 3, \"119\": 1, \"129\": 1, \"124\": 3, \"85\": 1, \"91\": 1}, \"113\": {\"113\": 7, \"16\": 3, \"39\": 2}, \"11\": {\"11\": 7, \"96\": 2, \"30\": 1}, \"128\": {\"53\": 1, \"28\": 1, \"112\": 1, \"128\": 5, \"99\": 1, \"38\": 1, \"1\": 1, \"50\": 1}, \"44\": {\"44\": 11, \"40\": 1}, \"28\": {\"129\": 1, \"28\": 8, \"90\": 1}, \"43\": {\"43\": 8, \"62\": 1, \"126\": 1, \"87\": 1, \"39\": 1}, \"94\": {\"94\": 11, \"15\": 1}, \"102\": {\"121\": 1, \"102\": 6, \"64\": 1, \"48\": 1, \"90\": 1, \"115\": 1, \"116\": 1}, \"30\": {\"30\": 11, \"0\": 1}, \"35\": {\"35\": 5, \"52\": 1, \"56\": 2, \"95\": 1, \"58\": 1, \"69\": 1, \"101\": 1}, \"123\": {\"123\": 7, \"63\": 1, \"13\": 1, \"90\": 1, \"67\": 2}, \"58\": {\"58\": 7, \"95\": 3, \"73\": 1, \"59\": 1}, \"119\": {\"102\": 1, \"79\": 3, \"119\": 4, \"120\": 1, \"86\": 1, \"82\": 1, \"116\": 1}, \"21\": {\"21\": 11, \"24\": 1}, \"79\": {\"102\": 1, \"119\": 2, \"79\": 8, \"64\": 1}, \"117\": {\"117\": 8, \"121\": 1, \"61\": 2, \"2\": 1}, \"121\": {\"121\": 7, \"35\": 1, \"13\": 1, \"92\": 1, \"29\": 1, \"101\": 1}, \"63\": {\"63\": 12}, \"96\": {\"96\": 9, \"11\": 1, \"109\": 1, \"113\": 1}, \"31\": {\"31\": 11, \"100\": 1}, \"13\": {\"17\": 1, \"70\": 1, \"80\": 1, \"13\": 5, \"116\": 1, \"78\": 1, \"102\": 1, \"39\": 1}, \"51\": {\"51\": 7, \"56\": 1, \"12\": 2, \"101\": 2}, \"56\": {\"51\": 1, \"56\": 2, \"42\": 1, \"55\": 1, \"82\": 1}, \"87\": {\"96\": 1, \"70\": 2, \"87\": 5, \"126\": 1, \"62\": 1, \"7\": 1, \"78\": 1}, \"14\": {\"14\": 8}, \"48\": {\"48\": 8, \"65\": 1, \"50\": 1, \"79\": 1, \"64\": 1}, \"25\": {\"25\": 10, \"83\": 1, \"95\": 1}, \"17\": {\"48\": 2, \"5\": 1, \"17\": 4, \"22\": 1, \"123\": 2, \"79\": 1, \"68\": 1}, \"70\": {\"70\": 9, \"21\": 2, \"88\": 1}, \"26\": {\"14\": 2, \"26\": 7, \"113\": 1}, \"92\": {\"92\": 5, \"57\": 2, \"122\": 1, \"19\": 1, \"29\": 1, \"20\": 1, \"109\": 1}, \"45\": {\"13\": 2, \"45\": 8, \"104\": 1, \"120\": 1}, \"105\": {\"105\": 8, \"127\": 1, \"34\": 1, \"114\": 1, \"1\": 1}, \"61\": {\"61\": 8, \"2\": 2, \"128\": 1, \"102\": 1}, \"36\": {\"36\": 9, \"21\": 1, \"0\": 1, \"10\": 1}, \"0\": {\"97\": 1, \"27\": 1, \"0\": 6, \"36\": 2, \"30\": 2}, \"27\": {\"27\": 5, \"36\": 1}, \"67\": {\"67\": 11, \"64\": 1}, \"97\": {\"0\": 1, \"97\": 6, \"30\": 1, \"101\": 1, \"36\": 1, \"49\": 1, \"65\": 1}, \"46\": {\"46\": 6, \"65\": 1, \"20\": 2, \"53\": 1}, \"9\": {\"105\": 2, \"9\": 6, \"71\": 1, \"38\": 1, \"95\": 1, \"99\": 1}, \"12\": {\"12\": 7, \"127\": 1, \"101\": 2}, \"18\": {\"18\": 8}, \"127\": {\"127\": 10, \"12\": 1, \"105\": 1}, \"52\": {\"52\": 5, \"129\": 1, \"59\": 1, \"47\": 1, \"124\": 2, \"91\": 2}, \"54\": {\"54\": 9, \"3\": 1}, \"55\": {\"57\": 1, \"55\": 7, \"19\": 2, \"82\": 1, \"90\": 1}, \"57\": {\"57\": 6, \"17\": 1, \"102\": 1, \"32\": 2, \"55\": 1, \"120\": 1}, \"15\": {\"15\": 9, \"0\": 1, \"106\": 1, \"8\": 1}, \"74\": {\"74\": 8}, \"5\": {\"5\": 8, \"65\": 4}, \"114\": {\"114\": 9, \"46\": 1, \"32\": 1, \"34\": 1}, \"69\": {\"74\": 1, \"69\": 9, \"33\": 1, \"26\": 1}, \"16\": {\"27\": 1, \"14\": 1, \"16\": 8, \"93\": 1, \"3\": 1}, \"38\": {\"82\": 2, \"100\": 1, \"9\": 1, \"38\": 5, \"99\": 1, \"65\": 2}, \"124\": {\"80\": 1, \"124\": 6, \"102\": 1, \"50\": 1, \"59\": 1, \"77\": 1, \"85\": 1}, \"125\": {\"125\": 10, \"124\": 1, \"42\": 1}, \"41\": {\"124\": 1, \"41\": 3, \"119\": 1, \"57\": 1, \"53\": 1, \"65\": 1}, \"80\": {\"80\": 11, \"123\": 1}, \"82\": {\"31\": 2, \"82\": 7, \"38\": 3}, \"84\": {\"84\": 9, \"14\": 1, \"93\": 1, \"18\": 1}, \"93\": {\"33\": 1, \"16\": 1, \"84\": 1, \"93\": 4, \"23\": 1, \"118\": 1, \"44\": 1}, \"29\": {\"29\": 6, \"90\": 1, \"103\": 1, \"92\": 2}, \"33\": {\"33\": 5, \"69\": 1, \"2\": 1, \"74\": 1, \"44\": 2}, \"120\": {\"53\": 1, \"120\": 7, \"64\": 2, \"38\": 1, \"57\": 1}, \"66\": {\"125\": 1, \"29\": 1, \"55\": 1, \"104\": 1, \"66\": 3, \"103\": 1, \"37\": 1, \"68\": 1}, \"89\": {\"120\": 1, \"29\": 2, \"28\": 1, \"89\": 4, \"116\": 1, \"129\": 1, \"115\": 1, \"76\": 1}, \"101\": {\"101\": 10, \"7\": 1, \"12\": 1}, \"64\": {\"67\": 3, \"82\": 1, \"48\": 1, \"64\": 3, \"76\": 1, \"63\": 1, \"121\": 1, \"2\": 1}, \"100\": {\"100\": 9, \"1\": 1, \"31\": 2}, \"86\": {\"79\": 2, \"86\": 7, \"41\": 2, \"116\": 1}, \"60\": {\"60\": 7, \"30\": 1, \"34\": 1, \"114\": 1, \"62\": 1, \"93\": 1}, \"78\": {\"78\": 8, \"102\": 2, \"21\": 2}, \"73\": {\"73\": 7, \"55\": 1, \"68\": 2, \"65\": 1, \"42\": 1}, \"19\": {\"42\": 1, \"55\": 2, \"99\": 1, \"82\": 1, \"129\": 1, \"68\": 1, \"19\": 1, \"53\": 2}, \"122\": {\"118\": 2, \"122\": 3, \"110\": 2, \"108\": 2, \"88\": 1, \"93\": 1, \"11\": 1}, \"4\": {\"4\": 10, \"104\": 1, \"79\": 1}, \"104\": {\"45\": 1, \"104\": 5, \"22\": 1, \"129\": 1, \"5\": 2}, \"118\": {\"113\": 4, \"118\": 4, \"109\": 1, \"62\": 1, \"126\": 1, \"96\": 1}, \"42\": {\"73\": 1, \"42\": 5, \"91\": 1, \"57\": 3, \"29\": 1, \"50\": 1}, \"83\": {\"91\": 3, \"58\": 1, \"10\": 1, \"68\": 1, \"98\": 2, \"83\": 2, \"21\": 1, \"49\": 1}, \"91\": {\"42\": 1, \"91\": 5, \"37\": 1, \"57\": 1, \"52\": 1, \"5\": 1, \"85\": 1, \"83\": 1}, \"62\": {\"62\": 7, \"14\": 1, \"118\": 3, \"74\": 1}, \"2\": {\"123\": 1, \"67\": 1, \"86\": 1, \"2\": 4, \"13\": 1, \"81\": 2, \"117\": 1, \"121\": 1}, \"1\": {\"1\": 9, \"105\": 2, \"40\": 1}, \"90\": {\"29\": 1, \"90\": 6, \"82\": 1, \"55\": 1, \"28\": 1}, \"34\": {\"25\": 2, \"47\": 2, \"99\": 1, \"105\": 1, \"53\": 1, \"20\": 1, \"35\": 1, \"75\": 1, \"11\": 1, \"9\": 1}, \"75\": {\"25\": 1, \"75\": 8, \"71\": 1, \"58\": 1, \"35\": 1}, \"81\": {\"81\": 6, \"120\": 1, \"33\": 2, \"122\": 1, \"82\": 1, \"44\": 1}, \"109\": {\"118\": 1, \"109\": 8, \"39\": 1, \"126\": 1, \"84\": 1}, \"103\": {\"53\": 1, \"103\": 5, \"65\": 2, \"46\": 3, \"66\": 1}, \"110\": {\"110\": 7, \"87\": 1, \"122\": 3, \"96\": 1}, \"71\": {\"127\": 2, \"71\": 9, \"49\": 1}, \"65\": {\"99\": 1, \"65\": 3, \"28\": 1, \"107\": 1, \"103\": 1, \"55\": 1, \"73\": 1, \"47\": 1, \"5\": 2}, \"99\": {\"51\": 2, \"99\": 4, \"34\": 2, \"60\": 1, \"112\": 1, \"9\": 2}, \"7\": {\"7\": 5, \"108\": 2, \"49\": 1}, \"98\": {\"98\": 8, \"128\": 1, \"99\": 2, \"114\": 1}, \"68\": {\"73\": 2, \"68\": 3, \"66\": 2, \"37\": 3, \"124\": 1, \"129\": 1}, \"24\": {\"24\": 10, \"10\": 1, \"70\": 1}, \"6\": {\"6\": 11, \"111\": 1}, \"115\": {\"115\": 5, \"116\": 3, \"117\": 1, \"4\": 1}, \"40\": {\"40\": 6, \"84\": 1, \"44\": 1}, \"20\": {\"20\": 8, \"40\": 2, \"74\": 1, \"60\": 1}, \"95\": {\"95\": 9, \"114\": 2, \"1\": 1}, \"10\": {\"10\": 9, \"39\": 1, \"88\": 1, \"36\": 1}, \"126\": {\"39\": 2, \"126\": 6, \"118\": 1, \"43\": 1, \"109\": 2}, \"72\": {\"71\": 1, \"98\": 1, \"72\": 5, \"49\": 1, \"40\": 1, \"35\": 1}, \"49\": {\"69\": 1, \"49\": 5, \"8\": 1, \"122\": 2, \"60\": 2, \"127\": 1}, \"111\": {\"111\": 7, \"42\": 1, \"112\": 2}, \"37\": {\"37\": 7, \"89\": 1, \"124\": 1, \"67\": 1}, \"88\": {\"89\": 1, \"88\": 4, \"21\": 2, \"70\": 1, \"109\": 2}, \"32\": {\"28\": 1, \"32\": 5, \"20\": 3, \"95\": 1, \"57\": 1, \"90\": 1}, \"47\": {\"28\": 1, \"32\": 1, \"47\": 4, \"85\": 1, \"105\": 1, \"38\": 1, \"65\": 1, \"100\": 1, \"12\": 1}, \"59\": {\"77\": 1, \"59\": 3, \"91\": 3, \"85\": 1, \"112\": 2, \"111\": 1, \"19\": 1}, \"23\": {\"60\": 1, \"23\": 2, \"74\": 1, \"33\": 1, \"44\": 3, \"14\": 2}, \"116\": {\"32\": 1, \"116\": 4, \"80\": 3, \"115\": 2, \"119\": 1, \"79\": 1}, \"85\": {\"85\": 6, \"77\": 1, \"128\": 1}, \"8\": {\"8\": 8}, \"50\": {\"31\": 1, \"92\": 1, \"99\": 1, \"124\": 1, \"20\": 2}}}, \"per_domain_accuracy\": {\"ORACLE.run1_26\": {\"accuracy\": 0.884375, \"source?\": true}, \"ORACLE.run1_44\": {\"accuracy\": 0.8458333333333333, \"source?\": true}, \"ORACLE.run1_50\": {\"accuracy\": 0.9455729166666667, \"source?\": true}, \"ORACLE.run1_38\": {\"accuracy\": 0.9088541666666666, \"source?\": true}, \"ORACLE.run1_20\": {\"accuracy\": 0.9567708333333333, \"source?\": true}, \"ORACLE.run1_14\": {\"accuracy\": 0.91171875, \"source?\": true}, \"ORACLE.run1_32\": {\"accuracy\": 0.9138020833333333, \"source?\": true}, \"ORACLE.run1_8\": {\"accuracy\": 0.9442708333333333, \"source?\": true}, \"C_A_5\": {\"accuracy\": 0.5984375, \"source?\": false}, \"W_A_4\": {\"accuracy\": 0.5831117021276596, \"source?\": false}, \"C_A_1\": {\"accuracy\": 0.6875, \"source?\": false}, \"C_A_3\": {\"accuracy\": 0.61875, \"source?\": false}, \"W_A_1\": {\"accuracy\": 0.6603260869565217, \"source?\": false}, \"W_A_2\": {\"accuracy\": 0.5990691489361702, \"source?\": false}, \"C_A_4\": {\"accuracy\": 0.5890625, \"source?\": false}, \"C_A_2\": {\"accuracy\": 0.590625, \"source?\": false}, \"W_A_3\": {\"accuracy\": 0.5985054347826086, \"source?\": false}}}, \"history\": {\"epoch_indices\": [1, 2, 3, 4, 5, 6, 7, 8, 9, 10, 11, 12, 13, 14, 15, 16], \"train_label_loss\": [0.4467351501225494, 4.589838366825383, 0.3872030522638289, 0.34146958337154326, 0.3187977403973318, 0.29380514451768247, 0.2728221347716282, 0.25677194460821784, 0.25745965768915735, 0.24857513956736685, 0.23743686880264986, 0.23538516290898856, 0.23090140361760167, 0.22316766304762237, 0.21764397532083204, 0.21332046338904462], \"source_val_label_loss\": [2534.890380859375, 0.39758798480033875, 0.36435818672180176, 0.3742472529411316, 0.30811139941215515, 0.29132217168807983, 0.29231196641921997, 0.2511402666568756, 0.27464669942855835, 0.2524227797985077, 0.24047324061393738, 0.2494337558746338, 0.2509158253669739, 0.2616371214389801, 0.2244216948747635, 0.23777003586292267], \"target_val_label_loss\": [358797.59375, 113382.7109375, 111755.7109375, 90903.7890625, 79646.6953125, 75059.890625, 72910.5234375, 76081.4765625, 67181.015625, 67987.8515625, 69061.703125, 63240.51171875, 64168.84375, 67126.390625, 66008.90625, 66058.1796875], \"source_val_acc_label\": [0.5660807291666666, 0.8563151041666667, 0.8703776041666667, 0.866015625, 0.8914713541666667, 0.903515625, 0.8968098958333334, 0.91171875, 0.9017252604166667, 0.91044921875, 0.9184895833333333, 0.9138997395833334, 0.9126953125, 0.9076497395833333, 0.9197591145833334, 0.9150065104166667], \"target_val_acc_label\": [0.45017482517482516, 0.36090472027972026, 0.35565996503496505, 0.3894230769230769, 0.3946678321678322, 0.4043924825174825, 0.41663024475524474, 0.4334571678321678, 0.5925480769230769, 0.5960445804195804, 0.6018356643356644, 0.6124344405594405, 0.6087194055944056, 0.6170236013986014, 0.625, 0.6304632867132867]}, \"dataset_metrics\": {\"source\": {\"train\": {\"n_unique_x\": 179200, \"n_unique_y\": 16, \"n_batch/episode\": 6720}, \"val\": {\"n_unique_x\": 38400, \"n_unique_y\": 16, \"n_batch/episode\": 960}, \"test\": {\"n_unique_x\": 38400, \"n_unique_y\": 16, \"n_batch/episode\": 960}}, \"target\": {\"train\": {\"n_unique_x\": 56700, \"n_unique_y\": 130, \"n_batch/episode\": 2080}, \"val\": {\"n_unique_x\": 12104, \"n_unique_y\": 130, \"n_batch/episode\": 286}, \"test\": {\"n_unique_x\": 12104, \"n_unique_y\": 130, \"n_batch/episode\": 286}}}}'"
      ]
     },
     "execution_count": 29,
     "metadata": {},
     "output_type": "execute_result"
    }
   ],
   "source": [
    "json.dumps(experiment)"
   ]
  }
 ],
 "metadata": {
  "celltoolbar": "Tags",
  "kernelspec": {
   "display_name": "Python 3 (ipykernel)",
   "language": "python",
   "name": "python3"
  },
  "language_info": {
   "codemirror_mode": {
    "name": "ipython",
    "version": 3
   },
   "file_extension": ".py",
   "mimetype": "text/x-python",
   "name": "python",
   "nbconvert_exporter": "python",
   "pygments_lexer": "ipython3",
   "version": "3.8.10"
  },
  "papermill": {
   "default_parameters": {},
   "duration": 2645.529991,
   "end_time": "2022-03-18T20:07:57.017925",
   "environment_variables": {},
   "exception": null,
   "input_path": "/mnt/wd500GB/CSC500/csc500-main/csc500-notebooks/templates/tl_ptn_template.ipynb",
   "output_path": "trial.ipynb",
   "parameters": {
    "parameters": {
     "BEST_MODEL_PATH": "./best_model.pth",
     "NUM_LOGS_PER_EPOCH": 10,
     "criteria_for_best": "target_loss",
     "dataset_seed": 7,
     "datasets": [
      {
       "domain_prefix": "C_A_",
       "domains": [
        1,
        2,
        3,
        4,
        5
       ],
       "episode_transforms": [],
       "labels": [
        "1-10.",
        "1-11.",
        "1-15.",
        "1-16.",
        "1-17.",
        "1-18.",
        "1-19.",
        "10-4.",
        "10-7.",
        "11-1.",
        "11-14.",
        "11-17.",
        "11-20.",
        "11-7.",
        "13-20.",
        "13-8.",
        "14-10.",
        "14-11.",
        "14-14.",
        "14-7.",
        "15-1.",
        "15-20.",
        "16-1.",
        "16-16.",
        "17-10.",
        "17-11.",
        "17-2.",
        "19-1.",
        "19-16.",
        "19-19.",
        "19-20.",
        "19-3.",
        "2-10.",
        "2-11.",
        "2-17.",
        "2-18.",
        "2-20.",
        "2-3.",
        "2-4.",
        "2-5.",
        "2-6.",
        "2-7.",
        "2-8.",
        "3-13.",
        "3-18.",
        "3-3.",
        "4-1.",
        "4-10.",
        "4-11.",
        "4-19.",
        "5-5.",
        "6-15.",
        "7-10.",
        "7-14.",
        "8-18.",
        "8-20.",
        "8-3.",
        "8-8."
       ],
       "num_examples_per_domain_per_label": 100,
       "pickle_path": "/mnt/wd500GB/CSC500/csc500-main/datasets/cores.stratified_ds.2022A.pkl",
       "source_or_target_dataset": "target",
       "x_transforms": [
        "take_200"
       ]
      },
      {
       "domain_prefix": "W_A_",
       "domains": [
        1,
        2,
        3,
        4
       ],
       "episode_transforms": [],
       "labels": [
        "1-10",
        "1-12",
        "1-14",
        "1-16",
        "1-18",
        "1-19",
        "1-8",
        "10-11",
        "10-17",
        "10-4",
        "10-7",
        "11-1",
        "11-10",
        "11-19",
        "11-20",
        "11-4",
        "11-7",
        "12-19",
        "12-20",
        "12-7",
        "13-14",
        "13-18",
        "13-19",
        "13-20",
        "13-3",
        "13-7",
        "14-10",
        "14-11",
        "14-12",
        "14-13",
        "14-14",
        "14-19",
        "14-20",
        "14-7",
        "14-8",
        "14-9",
        "15-1",
        "15-19",
        "15-6",
        "16-1",
        "16-16",
        "16-19",
        "16-20",
        "17-10",
        "17-11",
        "18-1",
        "18-10",
        "18-11",
        "18-12",
        "18-13",
        "18-14",
        "18-15",
        "18-16",
        "18-17",
        "18-19",
        "18-2",
        "18-20",
        "18-4",
        "18-5",
        "18-7",
        "18-8",
        "18-9",
        "19-1",
        "19-10",
        "19-11",
        "19-12",
        "19-13",
        "19-14",
        "19-15",
        "19-19",
        "19-2",
        "19-20",
        "19-3",
        "19-4",
        "19-6",
        "19-7",
        "19-8",
        "19-9",
        "2-1",
        "2-13",
        "2-15",
        "2-3",
        "2-4",
        "2-5",
        "2-6",
        "2-7",
        "2-8",
        "20-1",
        "20-12",
        "20-14",
        "20-15",
        "20-16",
        "20-18",
        "20-19",
        "20-20",
        "20-3",
        "20-4",
        "20-5",
        "20-7",
        "20-8",
        "3-1",
        "3-13",
        "3-18",
        "3-2",
        "3-8",
        "4-1",
        "4-10",
        "4-11",
        "5-1",
        "5-5",
        "6-1",
        "6-15",
        "6-6",
        "7-10",
        "7-11",
        "7-12",
        "7-13",
        "7-14",
        "7-7",
        "7-8",
        "7-9",
        "8-1",
        "8-13",
        "8-14",
        "8-18",
        "8-20",
        "8-3",
        "8-8",
        "9-1",
        "9-7"
       ],
       "num_examples_per_domain_per_label": 100,
       "pickle_path": "/mnt/wd500GB/CSC500/csc500-main/datasets/wisig.node3-19.stratified_ds.2022A.pkl",
       "source_or_target_dataset": "target",
       "x_transforms": [
        "take_200"
       ]
      },
      {
       "domain_prefix": "ORACLE.run1_",
       "domains": [
        32,
        38,
        8,
        44,
        14,
        50,
        20,
        26
       ],
       "episode_transforms": [],
       "labels": [
        "3123D52",
        "3123D65",
        "3123D79",
        "3123D80",
        "3123D54",
        "3123D70",
        "3123D7B",
        "3123D89",
        "3123D58",
        "3123D76",
        "3123D7D",
        "3123EFE",
        "3123D64",
        "3123D78",
        "3123D7E",
        "3124E4A"
       ],
       "num_examples_per_domain_per_label": 2000,
       "pickle_path": "/mnt/wd500GB/CSC500/csc500-main/datasets/oracle.Run1_framed_2000Examples_stratified_ds.2022A.pkl",
       "source_or_target_dataset": "source",
       "x_transforms": [
        "take_200",
        "resample_20Msps_to_25Msps"
       ]
      }
     ],
     "device": "cuda",
     "experiment_name": "tl_3A:oracle.run1.framed -> cores+wisig",
     "lr": 0.001,
     "n_epoch": 50,
     "n_query": 2,
     "n_shot": 3,
     "n_way": 16,
     "patience": 3,
     "seed": 7,
     "test_k_factor": 2,
     "torch_default_dtype": "torch.float32",
     "train_k_factor": 3,
     "val_k_factor": 2,
     "x_net": [
      {
       "class": "nnReshape",
       "kargs": {
        "shape": [
         -1,
         1,
         2,
         200
        ]
       }
      },
      {
       "class": "Conv2d",
       "kargs": {
        "bias": false,
        "in_channels": 1,
        "kernel_size": [
         1,
         7
        ],
        "out_channels": 256,
        "padding": [
         0,
         3
        ]
       }
      },
      {
       "class": "ReLU",
       "kargs": {
        "inplace": true
       }
      },
      {
       "class": "BatchNorm2d",
       "kargs": {
        "num_features": 256
       }
      },
      {
       "class": "Conv2d",
       "kargs": {
        "bias": true,
        "in_channels": 256,
        "kernel_size": [
         2,
         7
        ],
        "out_channels": 80,
        "padding": [
         0,
         3
        ]
       }
      },
      {
       "class": "ReLU",
       "kargs": {
        "inplace": true
       }
      },
      {
       "class": "BatchNorm2d",
       "kargs": {
        "num_features": 80
       }
      },
      {
       "class": "Flatten",
       "kargs": {}
      },
      {
       "class": "Linear",
       "kargs": {
        "in_features": 16000,
        "out_features": 256
       }
      },
      {
       "class": "ReLU",
       "kargs": {
        "inplace": true
       }
      },
      {
       "class": "BatchNorm1d",
       "kargs": {
        "num_features": 256
       }
      },
      {
       "class": "Linear",
       "kargs": {
        "in_features": 256,
        "out_features": 256
       }
      }
     ],
     "x_shape": [
      2,
      200
     ]
    }
   },
   "start_time": "2022-03-18T19:23:51.487934",
   "version": "2.3.4"
  }
 },
 "nbformat": 4,
 "nbformat_minor": 5
}