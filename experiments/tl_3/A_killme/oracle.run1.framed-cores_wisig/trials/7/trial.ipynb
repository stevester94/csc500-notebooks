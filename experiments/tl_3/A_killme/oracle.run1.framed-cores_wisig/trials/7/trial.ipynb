{
 "cells": [
  {
   "cell_type": "markdown",
   "id": "9fea5f46",
   "metadata": {
    "papermill": {
     "duration": 0.018059,
     "end_time": "2022-03-18T17:59:58.275409",
     "exception": false,
     "start_time": "2022-03-18T17:59:58.257350",
     "status": "completed"
    },
    "tags": []
   },
   "source": [
    "# Transfer Learning Template"
   ]
  },
  {
   "cell_type": "code",
   "execution_count": 1,
   "id": "0902182a",
   "metadata": {
    "execution": {
     "iopub.execute_input": "2022-03-18T17:59:58.315385Z",
     "iopub.status.busy": "2022-03-18T17:59:58.314979Z",
     "iopub.status.idle": "2022-03-18T17:59:59.212234Z",
     "shell.execute_reply": "2022-03-18T17:59:59.211944Z"
    },
    "papermill": {
     "duration": 0.924033,
     "end_time": "2022-03-18T17:59:59.212304",
     "exception": false,
     "start_time": "2022-03-18T17:59:58.288271",
     "status": "completed"
    },
    "tags": []
   },
   "outputs": [],
   "source": [
    "%load_ext autoreload\n",
    "%autoreload 2\n",
    "%matplotlib inline\n",
    "\n",
    "    \n",
    "import os, json, sys, time, random\n",
    "import numpy as np\n",
    "import torch\n",
    "from torch.optim import Adam\n",
    "from  easydict import EasyDict\n",
    "import matplotlib.pyplot as plt\n",
    "\n",
    "from steves_models.steves_ptn import Steves_Prototypical_Network\n",
    "\n",
    "from steves_utils.lazy_iterable_wrapper import Lazy_Iterable_Wrapper\n",
    "from steves_utils.iterable_aggregator import Iterable_Aggregator\n",
    "from steves_utils.ptn_train_eval_test_jig import  PTN_Train_Eval_Test_Jig\n",
    "from steves_utils.torch_sequential_builder import build_sequential\n",
    "from steves_utils.torch_utils import get_dataset_metrics, ptn_confusion_by_domain_over_dataloader\n",
    "from steves_utils.utils_v2 import (per_domain_accuracy_from_confusion, get_datasets_base_path)\n",
    "from steves_utils.PTN.utils import independent_accuracy_assesment\n",
    "\n",
    "from torch.utils.data import DataLoader\n",
    "\n",
    "from steves_utils.stratified_dataset.episodic_accessor import Episodic_Accessor_Factory\n",
    "\n",
    "from steves_utils.ptn_do_report import (\n",
    "    get_loss_curve,\n",
    "    get_results_table,\n",
    "    get_parameters_table,\n",
    "    get_domain_accuracies,\n",
    ")\n",
    "\n",
    "from steves_utils.transforms import get_chained_transform"
   ]
  },
  {
   "cell_type": "markdown",
   "id": "41c840b4",
   "metadata": {
    "papermill": {
     "duration": 0.012708,
     "end_time": "2022-03-18T17:59:59.238264",
     "exception": false,
     "start_time": "2022-03-18T17:59:59.225556",
     "status": "completed"
    },
    "tags": []
   },
   "source": [
    "# Allowed Parameters\n",
    "These are allowed parameters, not defaults\n",
    "Each of these values need to be present in the injected parameters (the notebook will raise an exception if they are not present)\n",
    "\n",
    "Papermill uses the cell tag \"parameters\" to inject the real parameters below this cell.\n",
    "Enable tags to see what I mean"
   ]
  },
  {
   "cell_type": "code",
   "execution_count": 2,
   "id": "fd44eb83",
   "metadata": {
    "execution": {
     "iopub.execute_input": "2022-03-18T17:59:59.267555Z",
     "iopub.status.busy": "2022-03-18T17:59:59.267017Z",
     "iopub.status.idle": "2022-03-18T17:59:59.282538Z",
     "shell.execute_reply": "2022-03-18T17:59:59.282163Z"
    },
    "papermill": {
     "duration": 0.031491,
     "end_time": "2022-03-18T17:59:59.282618",
     "exception": false,
     "start_time": "2022-03-18T17:59:59.251127",
     "status": "completed"
    },
    "tags": []
   },
   "outputs": [],
   "source": [
    "required_parameters = {\n",
    "    \"experiment_name\",\n",
    "    \"lr\",\n",
    "    \"device\",\n",
    "    \"seed\",\n",
    "    \"dataset_seed\",\n",
    "    \"n_shot\",\n",
    "    \"n_query\",\n",
    "    \"n_way\",\n",
    "    \"train_k_factor\",\n",
    "    \"val_k_factor\",\n",
    "    \"test_k_factor\",\n",
    "    \"n_epoch\",\n",
    "    \"patience\",\n",
    "    \"criteria_for_best\",\n",
    "    \"x_net\",\n",
    "    \"datasets\",\n",
    "    \"torch_default_dtype\",\n",
    "    \"NUM_LOGS_PER_EPOCH\",\n",
    "    \"BEST_MODEL_PATH\",\n",
    "    \"x_shape\",\n",
    "}"
   ]
  },
  {
   "cell_type": "code",
   "execution_count": 3,
   "id": "fa3f0049",
   "metadata": {
    "execution": {
     "iopub.execute_input": "2022-03-18T17:59:59.320696Z",
     "iopub.status.busy": "2022-03-18T17:59:59.320411Z",
     "iopub.status.idle": "2022-03-18T17:59:59.333802Z",
     "shell.execute_reply": "2022-03-18T17:59:59.333370Z"
    },
    "papermill": {
     "duration": 0.032113,
     "end_time": "2022-03-18T17:59:59.333907",
     "exception": false,
     "start_time": "2022-03-18T17:59:59.301794",
     "status": "completed"
    },
    "tags": [
     "parameters"
    ]
   },
   "outputs": [],
   "source": [
    "from steves_utils.CORES.utils import (\n",
    "    ALL_NODES,\n",
    "    ALL_NODES_MINIMUM_1000_EXAMPLES,\n",
    "    ALL_DAYS\n",
    ")\n",
    "\n",
    "from steves_utils.ORACLE.utils_v2 import (\n",
    "    ALL_DISTANCES_FEET_NARROWED,\n",
    "    ALL_RUNS,\n",
    "    ALL_SERIAL_NUMBERS,\n",
    ")\n",
    "\n",
    "standalone_parameters = {}\n",
    "standalone_parameters[\"experiment_name\"] = \"STANDALONE PTN\"\n",
    "standalone_parameters[\"lr\"] = 0.001\n",
    "standalone_parameters[\"device\"] = \"cuda\"\n",
    "\n",
    "standalone_parameters[\"seed\"] = 1337\n",
    "standalone_parameters[\"dataset_seed\"] = 1337\n",
    "\n",
    "standalone_parameters[\"n_way\"] = 8\n",
    "standalone_parameters[\"n_shot\"] = 3\n",
    "standalone_parameters[\"n_query\"]  = 2\n",
    "standalone_parameters[\"train_k_factor\"] = 1\n",
    "standalone_parameters[\"val_k_factor\"] = 2\n",
    "standalone_parameters[\"test_k_factor\"] = 2\n",
    "\n",
    "\n",
    "standalone_parameters[\"n_epoch\"] = 50\n",
    "\n",
    "standalone_parameters[\"patience\"] = 10\n",
    "standalone_parameters[\"criteria_for_best\"] = \"source_loss\"\n",
    "\n",
    "standalone_parameters[\"datasets\"] = [\n",
    "    {\n",
    "        \"labels\": ALL_SERIAL_NUMBERS,\n",
    "        \"domains\": ALL_DISTANCES_FEET_NARROWED,\n",
    "        \"num_examples_per_domain_per_label\": 100,\n",
    "        \"pickle_path\": os.path.join(get_datasets_base_path(), \"oracle.Run1_framed_2000Examples_stratified_ds.2022A.pkl\"),\n",
    "        \"source_or_target_dataset\": \"source\",\n",
    "        \"x_transforms\": [\"unit_mag\", \"minus_two\"],\n",
    "        \"episode_transforms\": [],\n",
    "        \"domain_prefix\": \"ORACLE_\"\n",
    "    },\n",
    "    {\n",
    "        \"labels\": ALL_NODES,\n",
    "        \"domains\": ALL_DAYS,\n",
    "        \"num_examples_per_domain_per_label\": 100,\n",
    "        \"pickle_path\": os.path.join(get_datasets_base_path(), \"cores.stratified_ds.2022A.pkl\"),\n",
    "        \"source_or_target_dataset\": \"target\",\n",
    "        \"x_transforms\": [\"unit_power\", \"times_zero\"],\n",
    "        \"episode_transforms\": [],\n",
    "        \"domain_prefix\": \"CORES_\"\n",
    "    }   \n",
    "]\n",
    "\n",
    "standalone_parameters[\"torch_default_dtype\"] = \"torch.float32\" \n",
    "\n",
    "\n",
    "\n",
    "standalone_parameters[\"x_net\"] =     [\n",
    "    {\"class\": \"nnReshape\", \"kargs\": {\"shape\":[-1, 1, 2, 256]}},\n",
    "    {\"class\": \"Conv2d\", \"kargs\": { \"in_channels\":1, \"out_channels\":256, \"kernel_size\":(1,7), \"bias\":False, \"padding\":(0,3), },},\n",
    "    {\"class\": \"ReLU\", \"kargs\": {\"inplace\": True}},\n",
    "    {\"class\": \"BatchNorm2d\", \"kargs\": {\"num_features\":256}},\n",
    "\n",
    "    {\"class\": \"Conv2d\", \"kargs\": { \"in_channels\":256, \"out_channels\":80, \"kernel_size\":(2,7), \"bias\":True, \"padding\":(0,3), },},\n",
    "    {\"class\": \"ReLU\", \"kargs\": {\"inplace\": True}},\n",
    "    {\"class\": \"BatchNorm2d\", \"kargs\": {\"num_features\":80}},\n",
    "    {\"class\": \"Flatten\", \"kargs\": {}},\n",
    "\n",
    "    {\"class\": \"Linear\", \"kargs\": {\"in_features\": 80*256, \"out_features\": 256}}, # 80 units per IQ pair\n",
    "    {\"class\": \"ReLU\", \"kargs\": {\"inplace\": True}},\n",
    "    {\"class\": \"BatchNorm1d\", \"kargs\": {\"num_features\":256}},\n",
    "\n",
    "    {\"class\": \"Linear\", \"kargs\": {\"in_features\": 256, \"out_features\": 256}},\n",
    "]\n",
    "\n",
    "# Parameters relevant to results\n",
    "# These parameters will basically never need to change\n",
    "standalone_parameters[\"NUM_LOGS_PER_EPOCH\"] = 10\n",
    "standalone_parameters[\"BEST_MODEL_PATH\"] = \"./best_model.pth\"\n",
    "\n",
    "\n",
    "\n",
    "\n"
   ]
  },
  {
   "cell_type": "code",
   "execution_count": 4,
   "id": "ba38b8eb",
   "metadata": {
    "execution": {
     "iopub.execute_input": "2022-03-18T17:59:59.380096Z",
     "iopub.status.busy": "2022-03-18T17:59:59.379470Z",
     "iopub.status.idle": "2022-03-18T17:59:59.393402Z",
     "shell.execute_reply": "2022-03-18T17:59:59.392975Z"
    },
    "papermill": {
     "duration": 0.041427,
     "end_time": "2022-03-18T17:59:59.393505",
     "exception": false,
     "start_time": "2022-03-18T17:59:59.352078",
     "status": "completed"
    },
    "tags": [
     "injected-parameters"
    ]
   },
   "outputs": [],
   "source": [
    "# Parameters\n",
    "parameters = {\n",
    "    \"experiment_name\": \"tl_3A:oracle.run1.framed -> cores+wisig\",\n",
    "    \"device\": \"cuda\",\n",
    "    \"lr\": 0.001,\n",
    "    \"seed\": 154325,\n",
    "    \"dataset_seed\": 154325,\n",
    "    \"x_shape\": [2, 200],\n",
    "    \"n_shot\": 3,\n",
    "    \"n_query\": 2,\n",
    "    \"train_k_factor\": 3,\n",
    "    \"val_k_factor\": 2,\n",
    "    \"test_k_factor\": 2,\n",
    "    \"torch_default_dtype\": \"torch.float32\",\n",
    "    \"n_epoch\": 50,\n",
    "    \"patience\": 3,\n",
    "    \"criteria_for_best\": \"target_loss\",\n",
    "    \"x_net\": [\n",
    "        {\"class\": \"nnReshape\", \"kargs\": {\"shape\": [-1, 1, 2, 200]}},\n",
    "        {\n",
    "            \"class\": \"Conv2d\",\n",
    "            \"kargs\": {\n",
    "                \"in_channels\": 1,\n",
    "                \"out_channels\": 256,\n",
    "                \"kernel_size\": [1, 7],\n",
    "                \"bias\": False,\n",
    "                \"padding\": [0, 3],\n",
    "            },\n",
    "        },\n",
    "        {\"class\": \"ReLU\", \"kargs\": {\"inplace\": True}},\n",
    "        {\"class\": \"BatchNorm2d\", \"kargs\": {\"num_features\": 256}},\n",
    "        {\n",
    "            \"class\": \"Conv2d\",\n",
    "            \"kargs\": {\n",
    "                \"in_channels\": 256,\n",
    "                \"out_channels\": 80,\n",
    "                \"kernel_size\": [2, 7],\n",
    "                \"bias\": True,\n",
    "                \"padding\": [0, 3],\n",
    "            },\n",
    "        },\n",
    "        {\"class\": \"ReLU\", \"kargs\": {\"inplace\": True}},\n",
    "        {\"class\": \"BatchNorm2d\", \"kargs\": {\"num_features\": 80}},\n",
    "        {\"class\": \"Flatten\", \"kargs\": {}},\n",
    "        {\"class\": \"Linear\", \"kargs\": {\"in_features\": 16000, \"out_features\": 256}},\n",
    "        {\"class\": \"ReLU\", \"kargs\": {\"inplace\": True}},\n",
    "        {\"class\": \"BatchNorm1d\", \"kargs\": {\"num_features\": 256}},\n",
    "        {\"class\": \"Linear\", \"kargs\": {\"in_features\": 256, \"out_features\": 256}},\n",
    "    ],\n",
    "    \"NUM_LOGS_PER_EPOCH\": 10,\n",
    "    \"BEST_MODEL_PATH\": \"./best_model.pth\",\n",
    "    \"n_way\": 16,\n",
    "    \"datasets\": [\n",
    "        {\n",
    "            \"labels\": [\n",
    "                \"1-10.\",\n",
    "                \"1-11.\",\n",
    "                \"1-15.\",\n",
    "                \"1-16.\",\n",
    "                \"1-17.\",\n",
    "                \"1-18.\",\n",
    "                \"1-19.\",\n",
    "                \"10-4.\",\n",
    "                \"10-7.\",\n",
    "                \"11-1.\",\n",
    "                \"11-14.\",\n",
    "                \"11-17.\",\n",
    "                \"11-20.\",\n",
    "                \"11-7.\",\n",
    "                \"13-20.\",\n",
    "                \"13-8.\",\n",
    "                \"14-10.\",\n",
    "                \"14-11.\",\n",
    "                \"14-14.\",\n",
    "                \"14-7.\",\n",
    "                \"15-1.\",\n",
    "                \"15-20.\",\n",
    "                \"16-1.\",\n",
    "                \"16-16.\",\n",
    "                \"17-10.\",\n",
    "                \"17-11.\",\n",
    "                \"17-2.\",\n",
    "                \"19-1.\",\n",
    "                \"19-16.\",\n",
    "                \"19-19.\",\n",
    "                \"19-20.\",\n",
    "                \"19-3.\",\n",
    "                \"2-10.\",\n",
    "                \"2-11.\",\n",
    "                \"2-17.\",\n",
    "                \"2-18.\",\n",
    "                \"2-20.\",\n",
    "                \"2-3.\",\n",
    "                \"2-4.\",\n",
    "                \"2-5.\",\n",
    "                \"2-6.\",\n",
    "                \"2-7.\",\n",
    "                \"2-8.\",\n",
    "                \"3-13.\",\n",
    "                \"3-18.\",\n",
    "                \"3-3.\",\n",
    "                \"4-1.\",\n",
    "                \"4-10.\",\n",
    "                \"4-11.\",\n",
    "                \"4-19.\",\n",
    "                \"5-5.\",\n",
    "                \"6-15.\",\n",
    "                \"7-10.\",\n",
    "                \"7-14.\",\n",
    "                \"8-18.\",\n",
    "                \"8-20.\",\n",
    "                \"8-3.\",\n",
    "                \"8-8.\",\n",
    "            ],\n",
    "            \"domains\": [1, 2, 3, 4, 5],\n",
    "            \"num_examples_per_domain_per_label\": 100,\n",
    "            \"pickle_path\": \"/mnt/wd500GB/CSC500/csc500-main/datasets/cores.stratified_ds.2022A.pkl\",\n",
    "            \"source_or_target_dataset\": \"target\",\n",
    "            \"x_transforms\": [\"unit_mag\", \"take_200\"],\n",
    "            \"episode_transforms\": [],\n",
    "            \"domain_prefix\": \"C_A_\",\n",
    "        },\n",
    "        {\n",
    "            \"labels\": [\n",
    "                \"1-10\",\n",
    "                \"1-12\",\n",
    "                \"1-14\",\n",
    "                \"1-16\",\n",
    "                \"1-18\",\n",
    "                \"1-19\",\n",
    "                \"1-8\",\n",
    "                \"10-11\",\n",
    "                \"10-17\",\n",
    "                \"10-4\",\n",
    "                \"10-7\",\n",
    "                \"11-1\",\n",
    "                \"11-10\",\n",
    "                \"11-19\",\n",
    "                \"11-20\",\n",
    "                \"11-4\",\n",
    "                \"11-7\",\n",
    "                \"12-19\",\n",
    "                \"12-20\",\n",
    "                \"12-7\",\n",
    "                \"13-14\",\n",
    "                \"13-18\",\n",
    "                \"13-19\",\n",
    "                \"13-20\",\n",
    "                \"13-3\",\n",
    "                \"13-7\",\n",
    "                \"14-10\",\n",
    "                \"14-11\",\n",
    "                \"14-12\",\n",
    "                \"14-13\",\n",
    "                \"14-14\",\n",
    "                \"14-19\",\n",
    "                \"14-20\",\n",
    "                \"14-7\",\n",
    "                \"14-8\",\n",
    "                \"14-9\",\n",
    "                \"15-1\",\n",
    "                \"15-19\",\n",
    "                \"15-6\",\n",
    "                \"16-1\",\n",
    "                \"16-16\",\n",
    "                \"16-19\",\n",
    "                \"16-20\",\n",
    "                \"17-10\",\n",
    "                \"17-11\",\n",
    "                \"18-1\",\n",
    "                \"18-10\",\n",
    "                \"18-11\",\n",
    "                \"18-12\",\n",
    "                \"18-13\",\n",
    "                \"18-14\",\n",
    "                \"18-15\",\n",
    "                \"18-16\",\n",
    "                \"18-17\",\n",
    "                \"18-19\",\n",
    "                \"18-2\",\n",
    "                \"18-20\",\n",
    "                \"18-4\",\n",
    "                \"18-5\",\n",
    "                \"18-7\",\n",
    "                \"18-8\",\n",
    "                \"18-9\",\n",
    "                \"19-1\",\n",
    "                \"19-10\",\n",
    "                \"19-11\",\n",
    "                \"19-12\",\n",
    "                \"19-13\",\n",
    "                \"19-14\",\n",
    "                \"19-15\",\n",
    "                \"19-19\",\n",
    "                \"19-2\",\n",
    "                \"19-20\",\n",
    "                \"19-3\",\n",
    "                \"19-4\",\n",
    "                \"19-6\",\n",
    "                \"19-7\",\n",
    "                \"19-8\",\n",
    "                \"19-9\",\n",
    "                \"2-1\",\n",
    "                \"2-13\",\n",
    "                \"2-15\",\n",
    "                \"2-3\",\n",
    "                \"2-4\",\n",
    "                \"2-5\",\n",
    "                \"2-6\",\n",
    "                \"2-7\",\n",
    "                \"2-8\",\n",
    "                \"20-1\",\n",
    "                \"20-12\",\n",
    "                \"20-14\",\n",
    "                \"20-15\",\n",
    "                \"20-16\",\n",
    "                \"20-18\",\n",
    "                \"20-19\",\n",
    "                \"20-20\",\n",
    "                \"20-3\",\n",
    "                \"20-4\",\n",
    "                \"20-5\",\n",
    "                \"20-7\",\n",
    "                \"20-8\",\n",
    "                \"3-1\",\n",
    "                \"3-13\",\n",
    "                \"3-18\",\n",
    "                \"3-2\",\n",
    "                \"3-8\",\n",
    "                \"4-1\",\n",
    "                \"4-10\",\n",
    "                \"4-11\",\n",
    "                \"5-1\",\n",
    "                \"5-5\",\n",
    "                \"6-1\",\n",
    "                \"6-15\",\n",
    "                \"6-6\",\n",
    "                \"7-10\",\n",
    "                \"7-11\",\n",
    "                \"7-12\",\n",
    "                \"7-13\",\n",
    "                \"7-14\",\n",
    "                \"7-7\",\n",
    "                \"7-8\",\n",
    "                \"7-9\",\n",
    "                \"8-1\",\n",
    "                \"8-13\",\n",
    "                \"8-14\",\n",
    "                \"8-18\",\n",
    "                \"8-20\",\n",
    "                \"8-3\",\n",
    "                \"8-8\",\n",
    "                \"9-1\",\n",
    "                \"9-7\",\n",
    "            ],\n",
    "            \"domains\": [1, 2, 3, 4],\n",
    "            \"num_examples_per_domain_per_label\": 100,\n",
    "            \"pickle_path\": \"/mnt/wd500GB/CSC500/csc500-main/datasets/wisig.node3-19.stratified_ds.2022A.pkl\",\n",
    "            \"source_or_target_dataset\": \"target\",\n",
    "            \"x_transforms\": [\"unit_mag\", \"take_200\"],\n",
    "            \"episode_transforms\": [],\n",
    "            \"domain_prefix\": \"W_A_\",\n",
    "        },\n",
    "        {\n",
    "            \"labels\": [\n",
    "                \"3123D52\",\n",
    "                \"3123D65\",\n",
    "                \"3123D79\",\n",
    "                \"3123D80\",\n",
    "                \"3123D54\",\n",
    "                \"3123D70\",\n",
    "                \"3123D7B\",\n",
    "                \"3123D89\",\n",
    "                \"3123D58\",\n",
    "                \"3123D76\",\n",
    "                \"3123D7D\",\n",
    "                \"3123EFE\",\n",
    "                \"3123D64\",\n",
    "                \"3123D78\",\n",
    "                \"3123D7E\",\n",
    "                \"3124E4A\",\n",
    "            ],\n",
    "            \"domains\": [32, 38, 8, 44, 14, 50, 20, 26],\n",
    "            \"num_examples_per_domain_per_label\": 2000,\n",
    "            \"pickle_path\": \"/mnt/wd500GB/CSC500/csc500-main/datasets/oracle.Run1_framed_2000Examples_stratified_ds.2022A.pkl\",\n",
    "            \"source_or_target_dataset\": \"source\",\n",
    "            \"x_transforms\": [\"unit_mag\", \"take_200\", \"resample_20Msps_to_25Msps\"],\n",
    "            \"episode_transforms\": [],\n",
    "            \"domain_prefix\": \"ORACLE.run1_\",\n",
    "        },\n",
    "    ],\n",
    "}\n"
   ]
  },
  {
   "cell_type": "code",
   "execution_count": 5,
   "id": "8fa1cc33",
   "metadata": {
    "execution": {
     "iopub.execute_input": "2022-03-18T17:59:59.429669Z",
     "iopub.status.busy": "2022-03-18T17:59:59.429347Z",
     "iopub.status.idle": "2022-03-18T17:59:59.443125Z",
     "shell.execute_reply": "2022-03-18T17:59:59.442639Z"
    },
    "papermill": {
     "duration": 0.030842,
     "end_time": "2022-03-18T17:59:59.443225",
     "exception": false,
     "start_time": "2022-03-18T17:59:59.412383",
     "status": "completed"
    },
    "tags": []
   },
   "outputs": [],
   "source": [
    "# Set this to True if you want to run this template directly\n",
    "STANDALONE = False\n",
    "if STANDALONE:\n",
    "    print(\"parameters not injected, running with standalone_parameters\")\n",
    "    parameters = standalone_parameters\n",
    "\n",
    "if not 'parameters' in locals() and not 'parameters' in globals():\n",
    "    raise Exception(\"Parameter injection failed\")\n",
    "\n",
    "#Use an easy dict for all the parameters\n",
    "p = EasyDict(parameters)\n",
    "\n",
    "if \"x_shape\" not in p:\n",
    "    p.x_shape = [2,256] # Default to this if we dont supply x_shape\n",
    "\n",
    "\n",
    "supplied_keys = set(p.keys())\n",
    "\n",
    "if  supplied_keys != required_parameters:\n",
    "    print(\"Parameters are incorrect\")\n",
    "    if len(supplied_keys - required_parameters)>0: print(\"Shouldn't have:\", str(supplied_keys - required_parameters))\n",
    "    if len(required_parameters - supplied_keys)>0: print(\"Need to have:\", str(required_parameters - supplied_keys))\n",
    "    raise RuntimeError(\"Parameters are incorrect\")"
   ]
  },
  {
   "cell_type": "code",
   "execution_count": 6,
   "id": "3a028d58",
   "metadata": {
    "execution": {
     "iopub.execute_input": "2022-03-18T17:59:59.474541Z",
     "iopub.status.busy": "2022-03-18T17:59:59.474293Z",
     "iopub.status.idle": "2022-03-18T17:59:59.490883Z",
     "shell.execute_reply": "2022-03-18T17:59:59.490400Z"
    },
    "papermill": {
     "duration": 0.032067,
     "end_time": "2022-03-18T17:59:59.490984",
     "exception": false,
     "start_time": "2022-03-18T17:59:59.458917",
     "status": "completed"
    },
    "tags": []
   },
   "outputs": [],
   "source": [
    "###################################\n",
    "# Set the RNGs and make it all deterministic\n",
    "###################################\n",
    "np.random.seed(p.seed)\n",
    "random.seed(p.seed)\n",
    "torch.manual_seed(p.seed)\n",
    "\n",
    "torch.use_deterministic_algorithms(True) "
   ]
  },
  {
   "cell_type": "code",
   "execution_count": 7,
   "id": "b691acf6",
   "metadata": {
    "execution": {
     "iopub.execute_input": "2022-03-18T17:59:59.524022Z",
     "iopub.status.busy": "2022-03-18T17:59:59.523613Z",
     "iopub.status.idle": "2022-03-18T17:59:59.539078Z",
     "shell.execute_reply": "2022-03-18T17:59:59.538611Z"
    },
    "papermill": {
     "duration": 0.03047,
     "end_time": "2022-03-18T17:59:59.539178",
     "exception": false,
     "start_time": "2022-03-18T17:59:59.508708",
     "status": "completed"
    },
    "tags": []
   },
   "outputs": [],
   "source": [
    "###########################################\n",
    "# The stratified datasets honor this\n",
    "###########################################\n",
    "torch.set_default_dtype(eval(p.torch_default_dtype))"
   ]
  },
  {
   "cell_type": "code",
   "execution_count": 8,
   "id": "b5fba671",
   "metadata": {
    "execution": {
     "iopub.execute_input": "2022-03-18T17:59:59.573788Z",
     "iopub.status.busy": "2022-03-18T17:59:59.573413Z",
     "iopub.status.idle": "2022-03-18T17:59:59.610358Z",
     "shell.execute_reply": "2022-03-18T17:59:59.609921Z"
    },
    "papermill": {
     "duration": 0.052024,
     "end_time": "2022-03-18T17:59:59.610465",
     "exception": false,
     "start_time": "2022-03-18T17:59:59.558441",
     "status": "completed"
    },
    "tags": []
   },
   "outputs": [],
   "source": [
    "###################################\n",
    "# Build the network(s)\n",
    "# Note: It's critical to do this AFTER setting the RNG\n",
    "###################################\n",
    "x_net = build_sequential(p.x_net)"
   ]
  },
  {
   "cell_type": "code",
   "execution_count": 9,
   "id": "5d7e61cc",
   "metadata": {
    "execution": {
     "iopub.execute_input": "2022-03-18T17:59:59.646275Z",
     "iopub.status.busy": "2022-03-18T17:59:59.646026Z",
     "iopub.status.idle": "2022-03-18T17:59:59.661753Z",
     "shell.execute_reply": "2022-03-18T17:59:59.661333Z"
    },
    "papermill": {
     "duration": 0.031444,
     "end_time": "2022-03-18T17:59:59.661853",
     "exception": false,
     "start_time": "2022-03-18T17:59:59.630409",
     "status": "completed"
    },
    "tags": []
   },
   "outputs": [],
   "source": [
    "start_time_secs = time.time()"
   ]
  },
  {
   "cell_type": "code",
   "execution_count": 10,
   "id": "c6b67dfd",
   "metadata": {
    "execution": {
     "iopub.execute_input": "2022-03-18T17:59:59.696385Z",
     "iopub.status.busy": "2022-03-18T17:59:59.695906Z",
     "iopub.status.idle": "2022-03-18T17:59:59.712869Z",
     "shell.execute_reply": "2022-03-18T17:59:59.712389Z"
    },
    "papermill": {
     "duration": 0.032841,
     "end_time": "2022-03-18T17:59:59.712967",
     "exception": false,
     "start_time": "2022-03-18T17:59:59.680126",
     "status": "completed"
    },
    "tags": []
   },
   "outputs": [],
   "source": [
    "p.domains_source = []\n",
    "p.domains_target = []\n",
    "\n",
    "\n",
    "train_original_source = []\n",
    "val_original_source   = []\n",
    "test_original_source  = []\n",
    "\n",
    "train_original_target = []\n",
    "val_original_target   = []\n",
    "test_original_target  = []"
   ]
  },
  {
   "cell_type": "code",
   "execution_count": 11,
   "id": "e3d9c3d3",
   "metadata": {
    "execution": {
     "iopub.execute_input": "2022-03-18T17:59:59.752768Z",
     "iopub.status.busy": "2022-03-18T17:59:59.752237Z",
     "iopub.status.idle": "2022-03-18T17:59:59.763226Z",
     "shell.execute_reply": "2022-03-18T17:59:59.762947Z"
    },
    "papermill": {
     "duration": 0.03185,
     "end_time": "2022-03-18T17:59:59.763306",
     "exception": false,
     "start_time": "2022-03-18T17:59:59.731456",
     "status": "completed"
    },
    "tags": []
   },
   "outputs": [],
   "source": [
    "# global_x_transform_func = lambda x: normalize(x.to(torch.get_default_dtype()), \"unit_power\") # unit_power, unit_mag\n",
    "# global_x_transform_func = lambda x: normalize(x, \"unit_power\") # unit_power, unit_mag"
   ]
  },
  {
   "cell_type": "code",
   "execution_count": 12,
   "id": "acb78fd2",
   "metadata": {
    "execution": {
     "iopub.execute_input": "2022-03-18T17:59:59.797349Z",
     "iopub.status.busy": "2022-03-18T17:59:59.796930Z",
     "iopub.status.idle": "2022-03-18T17:59:59.808917Z",
     "shell.execute_reply": "2022-03-18T17:59:59.808671Z"
    },
    "papermill": {
     "duration": 0.030234,
     "end_time": "2022-03-18T17:59:59.808983",
     "exception": false,
     "start_time": "2022-03-18T17:59:59.778749",
     "status": "completed"
    },
    "tags": []
   },
   "outputs": [],
   "source": [
    "def add_dataset(\n",
    "    labels,\n",
    "    domains,\n",
    "    pickle_path,\n",
    "    x_transforms,\n",
    "    episode_transforms,\n",
    "    domain_prefix,\n",
    "    num_examples_per_domain_per_label,\n",
    "    source_or_target_dataset:str,\n",
    "    iterator_seed=p.seed,\n",
    "    dataset_seed=p.dataset_seed,\n",
    "    n_shot=p.n_shot,\n",
    "    n_way=p.n_way,\n",
    "    n_query=p.n_query,\n",
    "    train_val_test_k_factors=(p.train_k_factor,p.val_k_factor,p.test_k_factor),\n",
    "):\n",
    "   \n",
    "    if x_transforms == []: x_transform = None\n",
    "    else: x_transform = get_chained_transform(x_transforms)\n",
    "    \n",
    "    if episode_transforms == []: episode_transform = None\n",
    "    else: raise Exception(\"episode_transforms not implemented\")\n",
    "    \n",
    "    episode_transform = lambda tup, _prefix=domain_prefix: (_prefix + str(tup[0]), tup[1])\n",
    "\n",
    "\n",
    "    eaf = Episodic_Accessor_Factory(\n",
    "        labels=labels,\n",
    "        domains=domains,\n",
    "        num_examples_per_domain_per_label=num_examples_per_domain_per_label,\n",
    "        iterator_seed=iterator_seed,\n",
    "        dataset_seed=dataset_seed,\n",
    "        n_shot=n_shot,\n",
    "        n_way=n_way,\n",
    "        n_query=n_query,\n",
    "        train_val_test_k_factors=train_val_test_k_factors,\n",
    "        pickle_path=pickle_path,\n",
    "        x_transform_func=x_transform,\n",
    "    )\n",
    "\n",
    "    train, val, test = eaf.get_train(), eaf.get_val(), eaf.get_test()\n",
    "    train = Lazy_Iterable_Wrapper(train, episode_transform)\n",
    "    val = Lazy_Iterable_Wrapper(val, episode_transform)\n",
    "    test = Lazy_Iterable_Wrapper(test, episode_transform)\n",
    "\n",
    "    if source_or_target_dataset==\"source\":\n",
    "        train_original_source.append(train)\n",
    "        val_original_source.append(val)\n",
    "        test_original_source.append(test)\n",
    "\n",
    "        p.domains_source.extend(\n",
    "            [domain_prefix + str(u) for u in domains]\n",
    "        )\n",
    "    elif source_or_target_dataset==\"target\":\n",
    "        train_original_target.append(train)\n",
    "        val_original_target.append(val)\n",
    "        test_original_target.append(test)\n",
    "        p.domains_target.extend(\n",
    "            [domain_prefix + str(u) for u in domains]\n",
    "        )\n",
    "    else:\n",
    "        raise Exception(f\"invalid source_or_target_dataset: {source_or_target_dataset}\")\n",
    "    "
   ]
  },
  {
   "cell_type": "code",
   "execution_count": 13,
   "id": "fe266617",
   "metadata": {
    "execution": {
     "iopub.execute_input": "2022-03-18T17:59:59.839913Z",
     "iopub.status.busy": "2022-03-18T17:59:59.839404Z",
     "iopub.status.idle": "2022-03-18T18:00:37.634084Z",
     "shell.execute_reply": "2022-03-18T18:00:37.633632Z"
    },
    "papermill": {
     "duration": 37.80967,
     "end_time": "2022-03-18T18:00:37.634195",
     "exception": false,
     "start_time": "2022-03-18T17:59:59.824525",
     "status": "completed"
    },
    "tags": []
   },
   "outputs": [],
   "source": [
    "for ds in p.datasets:\n",
    "    add_dataset(**ds)"
   ]
  },
  {
   "cell_type": "code",
   "execution_count": 14,
   "id": "b90d65ac",
   "metadata": {
    "execution": {
     "iopub.execute_input": "2022-03-18T18:00:37.671557Z",
     "iopub.status.busy": "2022-03-18T18:00:37.670503Z",
     "iopub.status.idle": "2022-03-18T18:00:37.686279Z",
     "shell.execute_reply": "2022-03-18T18:00:37.685913Z"
    },
    "papermill": {
     "duration": 0.031688,
     "end_time": "2022-03-18T18:00:37.686356",
     "exception": false,
     "start_time": "2022-03-18T18:00:37.654668",
     "status": "completed"
    },
    "tags": []
   },
   "outputs": [],
   "source": [
    "# from steves_utils.CORES.utils import (\n",
    "#     ALL_NODES,\n",
    "#     ALL_NODES_MINIMUM_1000_EXAMPLES,\n",
    "#     ALL_DAYS\n",
    "# )\n",
    "\n",
    "# add_dataset(\n",
    "#     labels=ALL_NODES,\n",
    "#     domains = ALL_DAYS,\n",
    "#     num_examples_per_domain_per_label=100,\n",
    "#     pickle_path=os.path.join(get_datasets_base_path(), \"cores.stratified_ds.2022A.pkl\"),\n",
    "#     source_or_target_dataset=\"target\",\n",
    "#     x_transform_func=global_x_transform_func,\n",
    "#     domain_modifier=lambda u: f\"cores_{u}\"\n",
    "# )"
   ]
  },
  {
   "cell_type": "code",
   "execution_count": 15,
   "id": "76db484d",
   "metadata": {
    "execution": {
     "iopub.execute_input": "2022-03-18T18:00:37.721328Z",
     "iopub.status.busy": "2022-03-18T18:00:37.719964Z",
     "iopub.status.idle": "2022-03-18T18:00:37.737542Z",
     "shell.execute_reply": "2022-03-18T18:00:37.737100Z"
    },
    "papermill": {
     "duration": 0.03317,
     "end_time": "2022-03-18T18:00:37.737642",
     "exception": false,
     "start_time": "2022-03-18T18:00:37.704472",
     "status": "completed"
    },
    "tags": []
   },
   "outputs": [],
   "source": [
    "# from steves_utils.ORACLE.utils_v2 import (\n",
    "#     ALL_DISTANCES_FEET,\n",
    "#     ALL_RUNS,\n",
    "#     ALL_SERIAL_NUMBERS,\n",
    "# )\n",
    "\n",
    "\n",
    "# add_dataset(\n",
    "#     labels=ALL_SERIAL_NUMBERS,\n",
    "#     domains = list(set(ALL_DISTANCES_FEET) - {2,62}),\n",
    "#     num_examples_per_domain_per_label=100,\n",
    "#     pickle_path=os.path.join(get_datasets_base_path(), \"oracle.Run2_framed_2000Examples_stratified_ds.2022A.pkl\"),\n",
    "#     source_or_target_dataset=\"source\",\n",
    "#     x_transform_func=global_x_transform_func,\n",
    "#     domain_modifier=lambda u: f\"oracle1_{u}\"\n",
    "# )\n"
   ]
  },
  {
   "cell_type": "code",
   "execution_count": 16,
   "id": "97dea9d2",
   "metadata": {
    "execution": {
     "iopub.execute_input": "2022-03-18T18:00:37.776460Z",
     "iopub.status.busy": "2022-03-18T18:00:37.773068Z",
     "iopub.status.idle": "2022-03-18T18:00:37.786857Z",
     "shell.execute_reply": "2022-03-18T18:00:37.786353Z"
    },
    "papermill": {
     "duration": 0.031492,
     "end_time": "2022-03-18T18:00:37.786962",
     "exception": false,
     "start_time": "2022-03-18T18:00:37.755470",
     "status": "completed"
    },
    "tags": []
   },
   "outputs": [],
   "source": [
    "# from steves_utils.ORACLE.utils_v2 import (\n",
    "#     ALL_DISTANCES_FEET,\n",
    "#     ALL_RUNS,\n",
    "#     ALL_SERIAL_NUMBERS,\n",
    "# )\n",
    "\n",
    "\n",
    "# add_dataset(\n",
    "#     labels=ALL_SERIAL_NUMBERS,\n",
    "#     domains = list(set(ALL_DISTANCES_FEET) - {2,62,56}),\n",
    "#     num_examples_per_domain_per_label=100,\n",
    "#     pickle_path=os.path.join(get_datasets_base_path(), \"oracle.Run2_framed_2000Examples_stratified_ds.2022A.pkl\"),\n",
    "#     source_or_target_dataset=\"source\",\n",
    "#     x_transform_func=global_x_transform_func,\n",
    "#     domain_modifier=lambda u: f\"oracle2_{u}\"\n",
    "# )"
   ]
  },
  {
   "cell_type": "code",
   "execution_count": 17,
   "id": "6f289866",
   "metadata": {
    "execution": {
     "iopub.execute_input": "2022-03-18T18:00:37.823657Z",
     "iopub.status.busy": "2022-03-18T18:00:37.823117Z",
     "iopub.status.idle": "2022-03-18T18:00:37.838845Z",
     "shell.execute_reply": "2022-03-18T18:00:37.838539Z"
    },
    "papermill": {
     "duration": 0.031366,
     "end_time": "2022-03-18T18:00:37.838916",
     "exception": false,
     "start_time": "2022-03-18T18:00:37.807550",
     "status": "completed"
    },
    "tags": []
   },
   "outputs": [],
   "source": [
    "# add_dataset(\n",
    "#     labels=list(range(19)),\n",
    "#     domains = [0,1,2],\n",
    "#     num_examples_per_domain_per_label=100,\n",
    "#     pickle_path=os.path.join(get_datasets_base_path(), \"metehan.stratified_ds.2022A.pkl\"),\n",
    "#     source_or_target_dataset=\"target\",\n",
    "#     x_transform_func=global_x_transform_func,\n",
    "#     domain_modifier=lambda u: f\"met_{u}\"\n",
    "# )"
   ]
  },
  {
   "cell_type": "code",
   "execution_count": 18,
   "id": "86a863c3",
   "metadata": {
    "execution": {
     "iopub.execute_input": "2022-03-18T18:00:37.873115Z",
     "iopub.status.busy": "2022-03-18T18:00:37.872850Z",
     "iopub.status.idle": "2022-03-18T18:00:37.885368Z",
     "shell.execute_reply": "2022-03-18T18:00:37.884921Z"
    },
    "papermill": {
     "duration": 0.028529,
     "end_time": "2022-03-18T18:00:37.885458",
     "exception": false,
     "start_time": "2022-03-18T18:00:37.856929",
     "status": "completed"
    },
    "tags": []
   },
   "outputs": [],
   "source": [
    "# # from steves_utils.wisig.utils import (\n",
    "# #     ALL_NODES_MINIMUM_100_EXAMPLES,\n",
    "# #     ALL_NODES_MINIMUM_500_EXAMPLES,\n",
    "# #     ALL_NODES_MINIMUM_1000_EXAMPLES,\n",
    "# #     ALL_DAYS\n",
    "# # )\n",
    "\n",
    "# import steves_utils.wisig.utils as wisig\n",
    "\n",
    "\n",
    "# add_dataset(\n",
    "#     labels=wisig.ALL_NODES_MINIMUM_100_EXAMPLES,\n",
    "#     domains = wisig.ALL_DAYS,\n",
    "#     num_examples_per_domain_per_label=100,\n",
    "#     pickle_path=os.path.join(get_datasets_base_path(), \"wisig.node3-19.stratified_ds.2022A.pkl\"),\n",
    "#     source_or_target_dataset=\"target\",\n",
    "#     x_transform_func=global_x_transform_func,\n",
    "#     domain_modifier=lambda u: f\"wisig_{u}\"\n",
    "# )"
   ]
  },
  {
   "cell_type": "code",
   "execution_count": 19,
   "id": "fd5442bc",
   "metadata": {
    "execution": {
     "iopub.execute_input": "2022-03-18T18:00:37.923649Z",
     "iopub.status.busy": "2022-03-18T18:00:37.923305Z",
     "iopub.status.idle": "2022-03-18T18:00:37.938447Z",
     "shell.execute_reply": "2022-03-18T18:00:37.938061Z"
    },
    "papermill": {
     "duration": 0.034537,
     "end_time": "2022-03-18T18:00:37.938537",
     "exception": false,
     "start_time": "2022-03-18T18:00:37.904000",
     "status": "completed"
    },
    "tags": []
   },
   "outputs": [],
   "source": [
    "###################################\n",
    "# Build the dataset\n",
    "###################################\n",
    "train_original_source = Iterable_Aggregator(train_original_source, p.seed)\n",
    "val_original_source = Iterable_Aggregator(val_original_source, p.seed)\n",
    "test_original_source = Iterable_Aggregator(test_original_source, p.seed)\n",
    "\n",
    "\n",
    "train_original_target = Iterable_Aggregator(train_original_target, p.seed)\n",
    "val_original_target = Iterable_Aggregator(val_original_target, p.seed)\n",
    "test_original_target = Iterable_Aggregator(test_original_target, p.seed)\n",
    "\n",
    "# For CNN We only use X and Y. And we only train on the source.\n",
    "# Properly form the data using a transform lambda and Lazy_Iterable_Wrapper. Finally wrap them in a dataloader\n",
    "\n",
    "transform_lambda = lambda ex: ex[1] # Original is (<domain>, <episode>) so we strip down to episode only\n",
    "\n",
    "train_processed_source = Lazy_Iterable_Wrapper(train_original_source, transform_lambda)\n",
    "val_processed_source   = Lazy_Iterable_Wrapper(val_original_source, transform_lambda)\n",
    "test_processed_source  = Lazy_Iterable_Wrapper(test_original_source, transform_lambda)\n",
    "\n",
    "train_processed_target = Lazy_Iterable_Wrapper(train_original_target, transform_lambda)\n",
    "val_processed_target   = Lazy_Iterable_Wrapper(val_original_target, transform_lambda)\n",
    "test_processed_target  = Lazy_Iterable_Wrapper(test_original_target, transform_lambda)\n",
    "\n",
    "datasets = EasyDict({\n",
    "    \"source\": {\n",
    "        \"original\": {\"train\":train_original_source, \"val\":val_original_source, \"test\":test_original_source},\n",
    "        \"processed\": {\"train\":train_processed_source, \"val\":val_processed_source, \"test\":test_processed_source}\n",
    "    },\n",
    "    \"target\": {\n",
    "        \"original\": {\"train\":train_original_target, \"val\":val_original_target, \"test\":test_original_target},\n",
    "        \"processed\": {\"train\":train_processed_target, \"val\":val_processed_target, \"test\":test_processed_target}\n",
    "    },\n",
    "})"
   ]
  },
  {
   "cell_type": "code",
   "execution_count": 20,
   "id": "5b3c01fc",
   "metadata": {
    "execution": {
     "iopub.execute_input": "2022-03-18T18:00:37.973900Z",
     "iopub.status.busy": "2022-03-18T18:00:37.973646Z",
     "iopub.status.idle": "2022-03-18T18:00:42.888150Z",
     "shell.execute_reply": "2022-03-18T18:00:42.888495Z"
    },
    "papermill": {
     "duration": 4.932056,
     "end_time": "2022-03-18T18:00:42.888607",
     "exception": false,
     "start_time": "2022-03-18T18:00:37.956551",
     "status": "completed"
    },
    "tags": []
   },
   "outputs": [
    {
     "name": "stdout",
     "output_type": "stream",
     "text": [
      "{'ORACLE.run1_44', 'ORACLE.run1_32', 'ORACLE.run1_50', 'ORACLE.run1_26', 'ORACLE.run1_38', 'ORACLE.run1_20', 'ORACLE.run1_8', 'ORACLE.run1_14'}\n"
     ]
    },
    {
     "name": "stdout",
     "output_type": "stream",
     "text": [
      "{'W_A_4', 'W_A_3', 'W_A_1', 'C_A_5', 'C_A_4', 'W_A_2', 'C_A_2', 'C_A_3', 'C_A_1'}\n"
     ]
    },
    {
     "name": "stdout",
     "output_type": "stream",
     "text": [
      "tensor([[[-0.1976,  0.8964,  0.6179,  ...,  0.7206, -0.3259, -0.0401],\n",
      "         [-0.4141,  0.2221,  0.6058,  ..., -0.1632,  1.0459,  1.0451]],\n",
      "\n",
      "        [[ 0.0528,  1.2022,  0.4312,  ...,  0.5104,  0.3726,  0.9936],\n",
      "         [-0.4033, -0.4142,  0.2730,  ..., -0.2160,  1.1540,  0.4026]],\n",
      "\n",
      "        [[-0.6842, -0.4655,  0.6928,  ...,  0.4342,  0.8958, -0.3865],\n",
      "         [-0.4171, -1.1542,  0.1186,  ..., -0.6166, -0.7042, -1.1792]],\n",
      "\n",
      "        ...,\n",
      "\n",
      "        [[ 0.1044,  0.7266,  0.1941,  ...,  0.9745,  0.9595,  0.7222],\n",
      "         [-0.9009, -0.7415,  1.0205,  ...,  0.3168,  0.3631, -1.0011]],\n",
      "\n",
      "        [[-0.2632,  0.9271,  0.8168,  ...,  0.7683, -0.0289,  0.1322],\n",
      "         [-0.4929, -0.1107,  0.4974,  ..., -0.4560,  1.0749,  0.9414]],\n",
      "\n",
      "        [[-0.7664, -1.1655,  0.5360,  ..., -0.3593, -0.3861, -1.3174],\n",
      "         [ 0.5410,  0.0877, -0.7393,  ..., -0.9040, -0.9683,  0.1122]]])\n"
     ]
    }
   ],
   "source": [
    "from steves_utils.transforms import get_average_magnitude, get_average_power\n",
    "\n",
    "print(set([u for u,_ in val_original_source]))\n",
    "print(set([u for u,_ in val_original_target]))\n",
    "\n",
    "s_x, s_y, q_x, q_y, _ = next(iter(train_processed_source))\n",
    "print(s_x)\n",
    "\n",
    "# for ds in [\n",
    "#     train_processed_source,\n",
    "#     val_processed_source,\n",
    "#     test_processed_source,\n",
    "#     train_processed_target,\n",
    "#     val_processed_target,\n",
    "#     test_processed_target\n",
    "# ]:\n",
    "#     for s_x, s_y, q_x, q_y, _ in ds:\n",
    "#         for X in (s_x, q_x):\n",
    "#             for x in X:\n",
    "#                 assert np.isclose(get_average_magnitude(x.numpy()), 1.0)\n",
    "#                 assert np.isclose(get_average_power(x.numpy()), 1.0)\n",
    "                "
   ]
  },
  {
   "cell_type": "code",
   "execution_count": 21,
   "id": "bbdacba1",
   "metadata": {
    "execution": {
     "iopub.execute_input": "2022-03-18T18:00:42.932396Z",
     "iopub.status.busy": "2022-03-18T18:00:42.932134Z",
     "iopub.status.idle": "2022-03-18T18:00:42.983109Z",
     "shell.execute_reply": "2022-03-18T18:00:42.982661Z"
    },
    "papermill": {
     "duration": 0.069524,
     "end_time": "2022-03-18T18:00:42.983202",
     "exception": false,
     "start_time": "2022-03-18T18:00:42.913678",
     "status": "completed"
    },
    "tags": []
   },
   "outputs": [
    {
     "name": "stdout",
     "output_type": "stream",
     "text": [
      "(2, 200)\n"
     ]
    }
   ],
   "source": [
    "###################################\n",
    "# Build the model\n",
    "###################################\n",
    "# easfsl only wants a tuple for the shape\n",
    "model = Steves_Prototypical_Network(x_net, device=p.device, x_shape=tuple(p.x_shape))\n",
    "optimizer = Adam(params=model.parameters(), lr=p.lr)"
   ]
  },
  {
   "cell_type": "code",
   "execution_count": 22,
   "id": "22b39ac5",
   "metadata": {
    "execution": {
     "iopub.execute_input": "2022-03-18T18:00:43.021437Z",
     "iopub.status.busy": "2022-03-18T18:00:43.021183Z",
     "iopub.status.idle": "2022-03-18T18:16:39.633685Z",
     "shell.execute_reply": "2022-03-18T18:16:39.633455Z"
    },
    "papermill": {
     "duration": 956.629925,
     "end_time": "2022-03-18T18:16:39.633744",
     "exception": false,
     "start_time": "2022-03-18T18:00:43.003819",
     "status": "completed"
    },
    "tags": []
   },
   "outputs": [
    {
     "name": "stdout",
     "output_type": "stream",
     "text": [
      "epoch: 1, [batch: 1 / 6720], examples_per_second: 48.9345, train_label_loss: 3.2353, \n"
     ]
    },
    {
     "name": "stdout",
     "output_type": "stream",
     "text": [
      "epoch: 1, [batch: 672 / 6720], examples_per_second: 3628.3861, train_label_loss: 0.8878, \n"
     ]
    },
    {
     "name": "stdout",
     "output_type": "stream",
     "text": [
      "epoch: 1, [batch: 1344 / 6720], examples_per_second: 3658.7494, train_label_loss: 0.7641, \n"
     ]
    },
    {
     "name": "stdout",
     "output_type": "stream",
     "text": [
      "epoch: 1, [batch: 2016 / 6720], examples_per_second: 3642.9542, train_label_loss: 0.6631, \n"
     ]
    },
    {
     "name": "stdout",
     "output_type": "stream",
     "text": [
      "epoch: 1, [batch: 2688 / 6720], examples_per_second: 3624.9640, train_label_loss: 0.5736, \n"
     ]
    },
    {
     "name": "stdout",
     "output_type": "stream",
     "text": [
      "epoch: 1, [batch: 3360 / 6720], examples_per_second: 3609.4566, train_label_loss: 0.9451, \n"
     ]
    },
    {
     "name": "stdout",
     "output_type": "stream",
     "text": [
      "epoch: 1, [batch: 4032 / 6720], examples_per_second: 3648.9868, train_label_loss: 0.9422, \n"
     ]
    },
    {
     "name": "stdout",
     "output_type": "stream",
     "text": [
      "epoch: 1, [batch: 4704 / 6720], examples_per_second: 3622.4051, train_label_loss: 0.7397, \n"
     ]
    },
    {
     "name": "stdout",
     "output_type": "stream",
     "text": [
      "epoch: 1, [batch: 5376 / 6720], examples_per_second: 3639.4656, train_label_loss: 0.6853, \n"
     ]
    },
    {
     "name": "stdout",
     "output_type": "stream",
     "text": [
      "epoch: 1, [batch: 6048 / 6720], examples_per_second: 3620.1242, train_label_loss: 0.8758, \n"
     ]
    },
    {
     "name": "stdout",
     "output_type": "stream",
     "text": [
      "=============================================================\n",
      "epoch: 1, source_val_acc_label: 0.6396, target_val_acc_label: 0.6247, source_val_label_loss: 1.0445, target_val_label_loss: 7.2125, \n",
      "=============================================================\n"
     ]
    },
    {
     "name": "stdout",
     "output_type": "stream",
     "text": [
      "New best\n"
     ]
    },
    {
     "name": "stdout",
     "output_type": "stream",
     "text": [
      "epoch: 2, [batch: 1 / 6720], examples_per_second: 6.0254, train_label_loss: 0.8011, \n"
     ]
    },
    {
     "name": "stdout",
     "output_type": "stream",
     "text": [
      "epoch: 2, [batch: 672 / 6720], examples_per_second: 3626.6083, train_label_loss: 1.0256, \n"
     ]
    },
    {
     "name": "stdout",
     "output_type": "stream",
     "text": [
      "epoch: 2, [batch: 1344 / 6720], examples_per_second: 3650.1838, train_label_loss: 1.3473, \n"
     ]
    },
    {
     "name": "stdout",
     "output_type": "stream",
     "text": [
      "epoch: 2, [batch: 2016 / 6720], examples_per_second: 3665.5226, train_label_loss: 0.7091, \n"
     ]
    },
    {
     "name": "stdout",
     "output_type": "stream",
     "text": [
      "epoch: 2, [batch: 2688 / 6720], examples_per_second: 3642.9473, train_label_loss: 0.7000, \n"
     ]
    },
    {
     "name": "stdout",
     "output_type": "stream",
     "text": [
      "epoch: 2, [batch: 3360 / 6720], examples_per_second: 3654.7386, train_label_loss: 0.7724, \n"
     ]
    },
    {
     "name": "stdout",
     "output_type": "stream",
     "text": [
      "epoch: 2, [batch: 4032 / 6720], examples_per_second: 3637.6946, train_label_loss: 0.6816, \n"
     ]
    },
    {
     "name": "stdout",
     "output_type": "stream",
     "text": [
      "epoch: 2, [batch: 4704 / 6720], examples_per_second: 3645.4137, train_label_loss: 0.4266, \n"
     ]
    },
    {
     "name": "stdout",
     "output_type": "stream",
     "text": [
      "epoch: 2, [batch: 5376 / 6720], examples_per_second: 3655.4898, train_label_loss: 1.3320, \n"
     ]
    },
    {
     "name": "stdout",
     "output_type": "stream",
     "text": [
      "epoch: 2, [batch: 6048 / 6720], examples_per_second: 3647.3702, train_label_loss: 0.7468, \n"
     ]
    },
    {
     "name": "stdout",
     "output_type": "stream",
     "text": [
      "=============================================================\n",
      "epoch: 2, source_val_acc_label: 0.7371, target_val_acc_label: 0.6659, source_val_label_loss: 0.7327, target_val_label_loss: 5.6471, \n",
      "=============================================================\n"
     ]
    },
    {
     "name": "stdout",
     "output_type": "stream",
     "text": [
      "New best\n"
     ]
    },
    {
     "name": "stdout",
     "output_type": "stream",
     "text": [
      "epoch: 3, [batch: 1 / 6720], examples_per_second: 6.0061, train_label_loss: 0.9253, \n"
     ]
    },
    {
     "name": "stdout",
     "output_type": "stream",
     "text": [
      "epoch: 3, [batch: 672 / 6720], examples_per_second: 3657.5643, train_label_loss: 0.5733, \n"
     ]
    },
    {
     "name": "stdout",
     "output_type": "stream",
     "text": [
      "epoch: 3, [batch: 1344 / 6720], examples_per_second: 3650.2255, train_label_loss: 0.9853, \n"
     ]
    },
    {
     "name": "stdout",
     "output_type": "stream",
     "text": [
      "epoch: 3, [batch: 2016 / 6720], examples_per_second: 3628.7268, train_label_loss: 0.8368, \n"
     ]
    },
    {
     "name": "stdout",
     "output_type": "stream",
     "text": [
      "epoch: 3, [batch: 2688 / 6720], examples_per_second: 3635.1495, train_label_loss: 0.4741, \n"
     ]
    },
    {
     "name": "stdout",
     "output_type": "stream",
     "text": [
      "epoch: 3, [batch: 3360 / 6720], examples_per_second: 3652.1423, train_label_loss: 0.3269, \n"
     ]
    },
    {
     "name": "stdout",
     "output_type": "stream",
     "text": [
      "epoch: 3, [batch: 4032 / 6720], examples_per_second: 3657.0825, train_label_loss: 0.7257, \n"
     ]
    },
    {
     "name": "stdout",
     "output_type": "stream",
     "text": [
      "epoch: 3, [batch: 4704 / 6720], examples_per_second: 3646.2460, train_label_loss: 0.3369, \n"
     ]
    },
    {
     "name": "stdout",
     "output_type": "stream",
     "text": [
      "epoch: 3, [batch: 5376 / 6720], examples_per_second: 3653.8385, train_label_loss: 0.2699, \n"
     ]
    },
    {
     "name": "stdout",
     "output_type": "stream",
     "text": [
      "epoch: 3, [batch: 6048 / 6720], examples_per_second: 3656.1510, train_label_loss: 0.5906, \n"
     ]
    },
    {
     "name": "stdout",
     "output_type": "stream",
     "text": [
      "=============================================================\n",
      "epoch: 3, source_val_acc_label: 0.7778, target_val_acc_label: 0.6521, source_val_label_loss: 0.6073, target_val_label_loss: 6.0719, \n",
      "=============================================================\n"
     ]
    },
    {
     "name": "stdout",
     "output_type": "stream",
     "text": [
      "epoch: 4, [batch: 1 / 6720], examples_per_second: 6.0212, train_label_loss: 0.5839, \n"
     ]
    },
    {
     "name": "stdout",
     "output_type": "stream",
     "text": [
      "epoch: 4, [batch: 672 / 6720], examples_per_second: 3630.8240, train_label_loss: 0.2819, \n"
     ]
    },
    {
     "name": "stdout",
     "output_type": "stream",
     "text": [
      "epoch: 4, [batch: 1344 / 6720], examples_per_second: 3650.1867, train_label_loss: 0.3375, \n"
     ]
    },
    {
     "name": "stdout",
     "output_type": "stream",
     "text": [
      "epoch: 4, [batch: 2016 / 6720], examples_per_second: 3652.5739, train_label_loss: 0.3079, \n"
     ]
    },
    {
     "name": "stdout",
     "output_type": "stream",
     "text": [
      "epoch: 4, [batch: 2688 / 6720], examples_per_second: 3639.1265, train_label_loss: 0.5083, \n"
     ]
    },
    {
     "name": "stdout",
     "output_type": "stream",
     "text": [
      "epoch: 4, [batch: 3360 / 6720], examples_per_second: 3648.9444, train_label_loss: 0.2678, \n"
     ]
    },
    {
     "name": "stdout",
     "output_type": "stream",
     "text": [
      "epoch: 4, [batch: 4032 / 6720], examples_per_second: 3631.7524, train_label_loss: 0.6869, \n"
     ]
    },
    {
     "name": "stdout",
     "output_type": "stream",
     "text": [
      "epoch: 4, [batch: 4704 / 6720], examples_per_second: 3634.0013, train_label_loss: 0.3975, \n"
     ]
    },
    {
     "name": "stdout",
     "output_type": "stream",
     "text": [
      "epoch: 4, [batch: 5376 / 6720], examples_per_second: 3643.3809, train_label_loss: 0.4635, \n"
     ]
    },
    {
     "name": "stdout",
     "output_type": "stream",
     "text": [
      "epoch: 4, [batch: 6048 / 6720], examples_per_second: 3642.1502, train_label_loss: 0.3228, \n"
     ]
    },
    {
     "name": "stdout",
     "output_type": "stream",
     "text": [
      "=============================================================\n",
      "epoch: 4, source_val_acc_label: 0.8099, target_val_acc_label: 0.6586, source_val_label_loss: 0.5251, target_val_label_loss: 6.2831, \n",
      "=============================================================\n"
     ]
    },
    {
     "name": "stdout",
     "output_type": "stream",
     "text": [
      "epoch: 5, [batch: 1 / 6720], examples_per_second: 6.0366, train_label_loss: 0.7807, \n"
     ]
    },
    {
     "name": "stdout",
     "output_type": "stream",
     "text": [
      "epoch: 5, [batch: 672 / 6720], examples_per_second: 3612.7128, train_label_loss: 0.5042, \n"
     ]
    },
    {
     "name": "stdout",
     "output_type": "stream",
     "text": [
      "epoch: 5, [batch: 1344 / 6720], examples_per_second: 3640.5636, train_label_loss: 0.4646, \n"
     ]
    },
    {
     "name": "stdout",
     "output_type": "stream",
     "text": [
      "epoch: 5, [batch: 2016 / 6720], examples_per_second: 3676.0697, train_label_loss: 1.0466, \n"
     ]
    },
    {
     "name": "stdout",
     "output_type": "stream",
     "text": [
      "epoch: 5, [batch: 2688 / 6720], examples_per_second: 3647.8507, train_label_loss: 0.4977, \n"
     ]
    },
    {
     "name": "stdout",
     "output_type": "stream",
     "text": [
      "epoch: 5, [batch: 3360 / 6720], examples_per_second: 3647.7254, train_label_loss: 0.9134, \n"
     ]
    },
    {
     "name": "stdout",
     "output_type": "stream",
     "text": [
      "epoch: 5, [batch: 4032 / 6720], examples_per_second: 3647.4718, train_label_loss: 0.1872, \n"
     ]
    },
    {
     "name": "stdout",
     "output_type": "stream",
     "text": [
      "epoch: 5, [batch: 4704 / 6720], examples_per_second: 3639.4054, train_label_loss: 0.5433, \n"
     ]
    },
    {
     "name": "stdout",
     "output_type": "stream",
     "text": [
      "epoch: 5, [batch: 5376 / 6720], examples_per_second: 3614.2231, train_label_loss: 0.5302, \n"
     ]
    },
    {
     "name": "stdout",
     "output_type": "stream",
     "text": [
      "epoch: 5, [batch: 6048 / 6720], examples_per_second: 3616.6894, train_label_loss: 0.5918, \n"
     ]
    },
    {
     "name": "stdout",
     "output_type": "stream",
     "text": [
      "=============================================================\n",
      "epoch: 5, source_val_acc_label: 0.8423, target_val_acc_label: 0.6631, source_val_label_loss: 0.4378, target_val_label_loss: 7.2889, \n",
      "=============================================================\n"
     ]
    },
    {
     "name": "stdout",
     "output_type": "stream",
     "text": [
      "epoch: 6, [batch: 1 / 6720], examples_per_second: 6.0064, train_label_loss: 0.2584, \n"
     ]
    },
    {
     "name": "stdout",
     "output_type": "stream",
     "text": [
      "epoch: 6, [batch: 672 / 6720], examples_per_second: 3618.5550, train_label_loss: 0.1371, \n"
     ]
    },
    {
     "name": "stdout",
     "output_type": "stream",
     "text": [
      "epoch: 6, [batch: 1344 / 6720], examples_per_second: 3643.1457, train_label_loss: 0.3326, \n"
     ]
    },
    {
     "name": "stdout",
     "output_type": "stream",
     "text": [
      "epoch: 6, [batch: 2016 / 6720], examples_per_second: 3640.7084, train_label_loss: 0.4099, \n"
     ]
    },
    {
     "name": "stdout",
     "output_type": "stream",
     "text": [
      "epoch: 6, [batch: 2688 / 6720], examples_per_second: 3643.4359, train_label_loss: 0.3769, \n"
     ]
    },
    {
     "name": "stdout",
     "output_type": "stream",
     "text": [
      "epoch: 6, [batch: 3360 / 6720], examples_per_second: 3657.6383, train_label_loss: 0.3850, \n"
     ]
    },
    {
     "name": "stdout",
     "output_type": "stream",
     "text": [
      "epoch: 6, [batch: 4032 / 6720], examples_per_second: 3655.1751, train_label_loss: 0.4166, \n"
     ]
    },
    {
     "name": "stdout",
     "output_type": "stream",
     "text": [
      "epoch: 6, [batch: 4704 / 6720], examples_per_second: 3617.7523, train_label_loss: 0.4503, \n"
     ]
    },
    {
     "name": "stdout",
     "output_type": "stream",
     "text": [
      "epoch: 6, [batch: 5376 / 6720], examples_per_second: 3640.9880, train_label_loss: 0.4240, \n"
     ]
    },
    {
     "name": "stdout",
     "output_type": "stream",
     "text": [
      "epoch: 6, [batch: 6048 / 6720], examples_per_second: 3651.0097, train_label_loss: 0.2158, \n"
     ]
    },
    {
     "name": "stdout",
     "output_type": "stream",
     "text": [
      "=============================================================\n",
      "epoch: 6, source_val_acc_label: 0.8349, target_val_acc_label: 0.6656, source_val_label_loss: 0.4477, target_val_label_loss: 7.2428, \n",
      "=============================================================\n"
     ]
    },
    {
     "name": "stdout",
     "output_type": "stream",
     "text": [
      "Patience (3) exhausted\n"
     ]
    }
   ],
   "source": [
    "###################################\n",
    "# train\n",
    "###################################\n",
    "jig = PTN_Train_Eval_Test_Jig(model, p.BEST_MODEL_PATH, p.device)\n",
    "\n",
    "jig.train(\n",
    "    train_iterable=datasets.source.processed.train,\n",
    "    source_val_iterable=datasets.source.processed.val,\n",
    "    target_val_iterable=datasets.target.processed.val,\n",
    "    num_epochs=p.n_epoch,\n",
    "    num_logs_per_epoch=p.NUM_LOGS_PER_EPOCH,\n",
    "    patience=p.patience,\n",
    "    optimizer=optimizer,\n",
    "    criteria_for_best=p.criteria_for_best,\n",
    ")"
   ]
  },
  {
   "cell_type": "code",
   "execution_count": 23,
   "id": "31e8fabf",
   "metadata": {
    "execution": {
     "iopub.execute_input": "2022-03-18T18:16:39.691056Z",
     "iopub.status.busy": "2022-03-18T18:16:39.690791Z",
     "iopub.status.idle": "2022-03-18T18:16:39.710704Z",
     "shell.execute_reply": "2022-03-18T18:16:39.710293Z"
    },
    "papermill": {
     "duration": 0.049764,
     "end_time": "2022-03-18T18:16:39.710814",
     "exception": false,
     "start_time": "2022-03-18T18:16:39.661050",
     "status": "completed"
    },
    "tags": []
   },
   "outputs": [],
   "source": [
    "total_experiment_time_secs = time.time() - start_time_secs"
   ]
  },
  {
   "cell_type": "code",
   "execution_count": 24,
   "id": "87b9595b",
   "metadata": {
    "execution": {
     "iopub.execute_input": "2022-03-18T18:16:39.774811Z",
     "iopub.status.busy": "2022-03-18T18:16:39.774541Z",
     "iopub.status.idle": "2022-03-18T18:17:42.504543Z",
     "shell.execute_reply": "2022-03-18T18:17:42.504279Z"
    },
    "papermill": {
     "duration": 62.761788,
     "end_time": "2022-03-18T18:17:42.504613",
     "exception": false,
     "start_time": "2022-03-18T18:16:39.742825",
     "status": "completed"
    },
    "tags": []
   },
   "outputs": [],
   "source": [
    "###################################\n",
    "# Evaluate the model\n",
    "###################################\n",
    "source_test_label_accuracy, source_test_label_loss = jig.test(datasets.source.processed.test)\n",
    "target_test_label_accuracy, target_test_label_loss = jig.test(datasets.target.processed.test)\n",
    "\n",
    "source_val_label_accuracy, source_val_label_loss = jig.test(datasets.source.processed.val)\n",
    "target_val_label_accuracy, target_val_label_loss = jig.test(datasets.target.processed.val)\n",
    "\n",
    "history = jig.get_history()\n",
    "\n",
    "total_epochs_trained = len(history[\"epoch_indices\"])\n",
    "\n",
    "val_dl = Iterable_Aggregator((datasets.source.original.val,datasets.target.original.val))\n",
    "\n",
    "confusion = ptn_confusion_by_domain_over_dataloader(model, p.device, val_dl)\n",
    "per_domain_accuracy = per_domain_accuracy_from_confusion(confusion)\n",
    "\n",
    "# Add a key to per_domain_accuracy for if it was a source domain\n",
    "for domain, accuracy in per_domain_accuracy.items():\n",
    "    per_domain_accuracy[domain] = {\n",
    "        \"accuracy\": accuracy,\n",
    "        \"source?\": domain in p.domains_source\n",
    "    }\n",
    "\n",
    "# Do an independent accuracy assesment JUST TO BE SURE!\n",
    "# _source_test_label_accuracy = independent_accuracy_assesment(model, datasets.source.processed.test, p.device)\n",
    "# _target_test_label_accuracy = independent_accuracy_assesment(model, datasets.target.processed.test, p.device)\n",
    "# _source_val_label_accuracy = independent_accuracy_assesment(model, datasets.source.processed.val, p.device)\n",
    "# _target_val_label_accuracy = independent_accuracy_assesment(model, datasets.target.processed.val, p.device)\n",
    "\n",
    "# assert(_source_test_label_accuracy == source_test_label_accuracy)\n",
    "# assert(_target_test_label_accuracy == target_test_label_accuracy)\n",
    "# assert(_source_val_label_accuracy == source_val_label_accuracy)\n",
    "# assert(_target_val_label_accuracy == target_val_label_accuracy)\n",
    "\n",
    "experiment = {\n",
    "    \"experiment_name\": p.experiment_name,\n",
    "    \"parameters\": dict(p),\n",
    "    \"results\": {\n",
    "        \"source_test_label_accuracy\": source_test_label_accuracy,\n",
    "        \"source_test_label_loss\": source_test_label_loss,\n",
    "        \"target_test_label_accuracy\": target_test_label_accuracy,\n",
    "        \"target_test_label_loss\": target_test_label_loss,\n",
    "        \"source_val_label_accuracy\": source_val_label_accuracy,\n",
    "        \"source_val_label_loss\": source_val_label_loss,\n",
    "        \"target_val_label_accuracy\": target_val_label_accuracy,\n",
    "        \"target_val_label_loss\": target_val_label_loss,\n",
    "        \"total_epochs_trained\": total_epochs_trained,\n",
    "        \"total_experiment_time_secs\": total_experiment_time_secs,\n",
    "        \"confusion\": confusion,\n",
    "        \"per_domain_accuracy\": per_domain_accuracy,\n",
    "    },\n",
    "    \"history\": history,\n",
    "    \"dataset_metrics\": get_dataset_metrics(datasets, \"ptn\"),\n",
    "}"
   ]
  },
  {
   "cell_type": "code",
   "execution_count": 25,
   "id": "54a21829",
   "metadata": {
    "execution": {
     "iopub.execute_input": "2022-03-18T18:17:42.590567Z",
     "iopub.status.busy": "2022-03-18T18:17:42.590310Z",
     "iopub.status.idle": "2022-03-18T18:17:42.713852Z",
     "shell.execute_reply": "2022-03-18T18:17:42.714261Z"
    },
    "papermill": {
     "duration": 0.154435,
     "end_time": "2022-03-18T18:17:42.714393",
     "exception": false,
     "start_time": "2022-03-18T18:17:42.559958",
     "status": "completed"
    },
    "tags": []
   },
   "outputs": [
    {
     "data": {
      "image/png": "[encoded data removed]",
      "text/plain": [
       "<Figure size 1080x504 with 1 Axes>"
      ]
     },
     "metadata": {
      "needs_background": "light"
     },
     "output_type": "display_data"
    }
   ],
   "source": [
    "ax = get_loss_curve(experiment)\n",
    "plt.show()"
   ]
  },
  {
   "cell_type": "code",
   "execution_count": 26,
   "id": "fd8a0f60",
   "metadata": {
    "execution": {
     "iopub.execute_input": "2022-03-18T18:17:42.777785Z",
     "iopub.status.busy": "2022-03-18T18:17:42.777531Z",
     "iopub.status.idle": "2022-03-18T18:17:42.920076Z",
     "shell.execute_reply": "2022-03-18T18:17:42.920282Z"
    },
    "papermill": {
     "duration": 0.172852,
     "end_time": "2022-03-18T18:17:42.920363",
     "exception": false,
     "start_time": "2022-03-18T18:17:42.747511",
     "status": "completed"
    },
    "tags": []
   },
   "outputs": [
    {
     "data": {
      "text/plain": [
       "<AxesSubplot:title={'center':'Results'}>"
      ]
     },
     "execution_count": 26,
     "metadata": {},
     "output_type": "execute_result"
    },
    {
     "data": {
      "image/png": "[encoded data removed]",
      "text/plain": [
       "<Figure size 1080x504 with 1 Axes>"
      ]
     },
     "metadata": {
      "needs_background": "light"
     },
     "output_type": "display_data"
    }
   ],
   "source": [
    "get_results_table(experiment)"
   ]
  },
  {
   "cell_type": "code",
   "execution_count": 27,
   "id": "cf8dc689",
   "metadata": {
    "execution": {
     "iopub.execute_input": "2022-03-18T18:17:42.982192Z",
     "iopub.status.busy": "2022-03-18T18:17:42.981923Z",
     "iopub.status.idle": "2022-03-18T18:17:43.142353Z",
     "shell.execute_reply": "2022-03-18T18:17:43.142766Z"
    },
    "papermill": {
     "duration": 0.192289,
     "end_time": "2022-03-18T18:17:43.142898",
     "exception": false,
     "start_time": "2022-03-18T18:17:42.950609",
     "status": "completed"
    },
    "tags": []
   },
   "outputs": [
    {
     "data": {
      "text/plain": [
       "<AxesSubplot:title={'center':'Per Domain Validation Accuracy'}, xlabel='domain'>"
      ]
     },
     "execution_count": 27,
     "metadata": {},
     "output_type": "execute_result"
    },
    {
     "data": {
      "image/png": "[encoded data removed]",
      "text/plain": [
       "<Figure size 1080x504 with 1 Axes>"
      ]
     },
     "metadata": {
      "needs_background": "light"
     },
     "output_type": "display_data"
    }
   ],
   "source": [
    "get_domain_accuracies(experiment)"
   ]
  },
  {
   "cell_type": "code",
   "execution_count": 28,
   "id": "a74ae082",
   "metadata": {
    "execution": {
     "iopub.execute_input": "2022-03-18T18:17:43.210786Z",
     "iopub.status.busy": "2022-03-18T18:17:43.210531Z",
     "iopub.status.idle": "2022-03-18T18:17:43.225532Z",
     "shell.execute_reply": "2022-03-18T18:17:43.225127Z"
    },
    "papermill": {
     "duration": 0.04764,
     "end_time": "2022-03-18T18:17:43.225637",
     "exception": false,
     "start_time": "2022-03-18T18:17:43.177997",
     "status": "completed"
    },
    "tags": []
   },
   "outputs": [
    {
     "name": "stdout",
     "output_type": "stream",
     "text": [
      "Source Test Label Accuracy: 0.7309895833333333 Target Test Label Accuracy: 0.6730025773195877\n",
      "Source Val Label Accuracy: 0.7371419270833334 Target Val Label Accuracy: 0.6659149484536082\n"
     ]
    }
   ],
   "source": [
    "print(\"Source Test Label Accuracy:\", experiment[\"results\"][\"source_test_label_accuracy\"], \"Target Test Label Accuracy:\", experiment[\"results\"][\"target_test_label_accuracy\"])\n",
    "print(\"Source Val Label Accuracy:\", experiment[\"results\"][\"source_val_label_accuracy\"], \"Target Val Label Accuracy:\", experiment[\"results\"][\"target_val_label_accuracy\"])"
   ]
  },
  {
   "cell_type": "code",
   "execution_count": 29,
   "id": "dacca602",
   "metadata": {
    "execution": {
     "iopub.execute_input": "2022-03-18T18:17:43.294544Z",
     "iopub.status.busy": "2022-03-18T18:17:43.294288Z",
     "iopub.status.idle": "2022-03-18T18:17:43.309283Z",
     "shell.execute_reply": "2022-03-18T18:17:43.309671Z"
    },
    "papermill": {
     "duration": 0.04797,
     "end_time": "2022-03-18T18:17:43.309793",
     "exception": false,
     "start_time": "2022-03-18T18:17:43.261823",
     "status": "completed"
    },
    "tags": [
     "experiment_json"
    ]
   },
   "outputs": [
    {
     "data": {
      "text/plain": [
       "'{\"experiment_name\": \"tl_3A:oracle.run1.framed -> cores+wisig\", \"parameters\": {\"experiment_name\": \"tl_3A:oracle.run1.framed -> cores+wisig\", \"device\": \"cuda\", \"lr\": 0.001, \"seed\": 154325, \"dataset_seed\": 154325, \"x_shape\": [2, 200], \"n_shot\": 3, \"n_query\": 2, \"train_k_factor\": 3, \"val_k_factor\": 2, \"test_k_factor\": 2, \"torch_default_dtype\": \"torch.float32\", \"n_epoch\": 50, \"patience\": 3, \"criteria_for_best\": \"target_loss\", \"x_net\": [{\"class\": \"nnReshape\", \"kargs\": {\"shape\": [-1, 1, 2, 200]}}, {\"class\": \"Conv2d\", \"kargs\": {\"in_channels\": 1, \"out_channels\": 256, \"kernel_size\": [1, 7], \"bias\": false, \"padding\": [0, 3]}}, {\"class\": \"ReLU\", \"kargs\": {\"inplace\": true}}, {\"class\": \"BatchNorm2d\", \"kargs\": {\"num_features\": 256}}, {\"class\": \"Conv2d\", \"kargs\": {\"in_channels\": 256, \"out_channels\": 80, \"kernel_size\": [2, 7], \"bias\": true, \"padding\": [0, 3]}}, {\"class\": \"ReLU\", \"kargs\": {\"inplace\": true}}, {\"class\": \"BatchNorm2d\", \"kargs\": {\"num_features\": 80}}, {\"class\": \"Flatten\", \"kargs\": {}}, {\"class\": \"Linear\", \"kargs\": {\"in_features\": 16000, \"out_features\": 256}}, {\"class\": \"ReLU\", \"kargs\": {\"inplace\": true}}, {\"class\": \"BatchNorm1d\", \"kargs\": {\"num_features\": 256}}, {\"class\": \"Linear\", \"kargs\": {\"in_features\": 256, \"out_features\": 256}}], \"NUM_LOGS_PER_EPOCH\": 10, \"BEST_MODEL_PATH\": \"./best_model.pth\", \"n_way\": 16, \"datasets\": [{\"labels\": [\"1-10.\", \"1-11.\", \"1-15.\", \"1-16.\", \"1-17.\", \"1-18.\", \"1-19.\", \"10-4.\", \"10-7.\", \"11-1.\", \"11-14.\", \"11-17.\", \"11-20.\", \"11-7.\", \"13-20.\", \"13-8.\", \"14-10.\", \"14-11.\", \"14-14.\", \"14-7.\", \"15-1.\", \"15-20.\", \"16-1.\", \"16-16.\", \"17-10.\", \"17-11.\", \"17-2.\", \"19-1.\", \"19-16.\", \"19-19.\", \"19-20.\", \"19-3.\", \"2-10.\", \"2-11.\", \"2-17.\", \"2-18.\", \"2-20.\", \"2-3.\", \"2-4.\", \"2-5.\", \"2-6.\", \"2-7.\", \"2-8.\", \"3-13.\", \"3-18.\", \"3-3.\", \"4-1.\", \"4-10.\", \"4-11.\", \"4-19.\", \"5-5.\", \"6-15.\", \"7-10.\", \"7-14.\", \"8-18.\", \"8-20.\", \"8-3.\", \"8-8.\"], \"domains\": [1, 2, 3, 4, 5], \"num_examples_per_domain_per_label\": 100, \"pickle_path\": \"/mnt/wd500GB/CSC500/csc500-main/datasets/cores.stratified_ds.2022A.pkl\", \"source_or_target_dataset\": \"target\", \"x_transforms\": [\"unit_mag\", \"take_200\"], \"episode_transforms\": [], \"domain_prefix\": \"C_A_\"}, {\"labels\": [\"1-10\", \"1-12\", \"1-14\", \"1-16\", \"1-18\", \"1-19\", \"1-8\", \"10-11\", \"10-17\", \"10-4\", \"10-7\", \"11-1\", \"11-10\", \"11-19\", \"11-20\", \"11-4\", \"11-7\", \"12-19\", \"12-20\", \"12-7\", \"13-14\", \"13-18\", \"13-19\", \"13-20\", \"13-3\", \"13-7\", \"14-10\", \"14-11\", \"14-12\", \"14-13\", \"14-14\", \"14-19\", \"14-20\", \"14-7\", \"14-8\", \"14-9\", \"15-1\", \"15-19\", \"15-6\", \"16-1\", \"16-16\", \"16-19\", \"16-20\", \"17-10\", \"17-11\", \"18-1\", \"18-10\", \"18-11\", \"18-12\", \"18-13\", \"18-14\", \"18-15\", \"18-16\", \"18-17\", \"18-19\", \"18-2\", \"18-20\", \"18-4\", \"18-5\", \"18-7\", \"18-8\", \"18-9\", \"19-1\", \"19-10\", \"19-11\", \"19-12\", \"19-13\", \"19-14\", \"19-15\", \"19-19\", \"19-2\", \"19-20\", \"19-3\", \"19-4\", \"19-6\", \"19-7\", \"19-8\", \"19-9\", \"2-1\", \"2-13\", \"2-15\", \"2-3\", \"2-4\", \"2-5\", \"2-6\", \"2-7\", \"2-8\", \"20-1\", \"20-12\", \"20-14\", \"20-15\", \"20-16\", \"20-18\", \"20-19\", \"20-20\", \"20-3\", \"20-4\", \"20-5\", \"20-7\", \"20-8\", \"3-1\", \"3-13\", \"3-18\", \"3-2\", \"3-8\", \"4-1\", \"4-10\", \"4-11\", \"5-1\", \"5-5\", \"6-1\", \"6-15\", \"6-6\", \"7-10\", \"7-11\", \"7-12\", \"7-13\", \"7-14\", \"7-7\", \"7-8\", \"7-9\", \"8-1\", \"8-13\", \"8-14\", \"8-18\", \"8-20\", \"8-3\", \"8-8\", \"9-1\", \"9-7\"], \"domains\": [1, 2, 3, 4], \"num_examples_per_domain_per_label\": 100, \"pickle_path\": \"/mnt/wd500GB/CSC500/csc500-main/datasets/wisig.node3-19.stratified_ds.2022A.pkl\", \"source_or_target_dataset\": \"target\", \"x_transforms\": [\"unit_mag\", \"take_200\"], \"episode_transforms\": [], \"domain_prefix\": \"W_A_\"}, {\"labels\": [\"3123D52\", \"3123D65\", \"3123D79\", \"3123D80\", \"3123D54\", \"3123D70\", \"3123D7B\", \"3123D89\", \"3123D58\", \"3123D76\", \"3123D7D\", \"3123EFE\", \"3123D64\", \"3123D78\", \"3123D7E\", \"3124E4A\"], \"domains\": [32, 38, 8, 44, 14, 50, 20, 26], \"num_examples_per_domain_per_label\": 2000, \"pickle_path\": \"/mnt/wd500GB/CSC500/csc500-main/datasets/oracle.Run1_framed_2000Examples_stratified_ds.2022A.pkl\", \"source_or_target_dataset\": \"source\", \"x_transforms\": [\"unit_mag\", \"take_200\", \"resample_20Msps_to_25Msps\"], \"episode_transforms\": [], \"domain_prefix\": \"ORACLE.run1_\"}], \"domains_source\": [\"ORACLE.run1_32\", \"ORACLE.run1_38\", \"ORACLE.run1_8\", \"ORACLE.run1_44\", \"ORACLE.run1_14\", \"ORACLE.run1_50\", \"ORACLE.run1_20\", \"ORACLE.run1_26\"], \"domains_target\": [\"C_A_1\", \"C_A_2\", \"C_A_3\", \"C_A_4\", \"C_A_5\", \"W_A_1\", \"W_A_2\", \"W_A_3\", \"W_A_4\"]}, \"results\": {\"source_test_label_accuracy\": 0.7309895833333333, \"source_test_label_loss\": 0.7448288202285767, \"target_test_label_accuracy\": 0.6730025773195877, \"target_test_label_loss\": 5.630762577056885, \"source_val_label_accuracy\": 0.7371419270833334, \"source_val_label_loss\": 0.7327409386634827, \"target_val_label_accuracy\": 0.6659149484536082, \"target_val_label_loss\": 5.647066593170166, \"total_epochs_trained\": 6, \"total_experiment_time_secs\": 1000.0488452911377, \"confusion\": {\"ORACLE.run1_8\": {\"13\": {\"10\": 23, \"13\": 96, \"0\": 39, \"4\": 56, \"14\": 17, \"6\": 8, \"7\": 1}, \"9\": {\"9\": 240}, \"15\": {\"12\": 39, \"15\": 195, \"8\": 5, \"2\": 1}, \"2\": {\"2\": 221, \"3\": 11, \"7\": 5, \"12\": 1, \"15\": 2}, \"3\": {\"2\": 13, \"3\": 213, \"12\": 14}, \"8\": {\"8\": 237, \"15\": 3}, \"5\": {\"1\": 18, \"5\": 216, \"10\": 6}, \"14\": {\"14\": 154, \"10\": 45, \"4\": 24, \"13\": 11, \"1\": 6}, \"1\": {\"1\": 211, \"11\": 22, \"5\": 6, \"14\": 1}, \"0\": {\"13\": 28, \"0\": 195, \"6\": 6, \"10\": 2, \"7\": 5, \"4\": 3, \"14\": 1}, \"10\": {\"10\": 191, \"14\": 39, \"13\": 8, \"5\": 1, \"4\": 1}, \"6\": {\"6\": 156, \"13\": 5, \"7\": 53, \"4\": 12, \"0\": 13, \"8\": 1}, \"11\": {\"11\": 194, \"1\": 39, \"5\": 7}, \"7\": {\"6\": 43, \"7\": 191, \"2\": 1, \"0\": 4, \"13\": 1}, \"4\": {\"4\": 152, \"6\": 18, \"13\": 53, \"14\": 12, \"0\": 3, \"7\": 1, \"10\": 1}, \"12\": {\"2\": 2, \"15\": 73, \"12\": 133, \"8\": 7, \"3\": 25}}, \"ORACLE.run1_38\": {\"13\": {\"13\": 175, \"15\": 29, \"10\": 18, \"8\": 8, \"2\": 6, \"1\": 2, \"14\": 2}, \"12\": {\"12\": 228, \"4\": 10, \"10\": 2}, \"2\": {\"2\": 214, \"14\": 17, \"13\": 8, \"15\": 1}, \"9\": {\"9\": 186, \"6\": 41, \"5\": 6, \"7\": 1, \"3\": 5, \"0\": 1}, \"15\": {\"15\": 181, \"8\": 11, \"1\": 27, \"13\": 17, \"10\": 2, \"5\": 2}, \"5\": {\"5\": 111, \"8\": 56, \"7\": 31, \"6\": 10, \"15\": 8, \"0\": 11, \"9\": 6, \"13\": 1, \"10\": 3, \"3\": 1, \"1\": 2}, \"14\": {\"14\": 225, \"2\": 10, \"11\": 5}, \"0\": {\"0\": 99, \"7\": 42, \"3\": 19, \"8\": 50, \"10\": 10, \"15\": 2, \"12\": 5, \"5\": 12, \"13\": 1}, \"3\": {\"3\": 218, \"0\": 4, \"9\": 11, \"7\": 5, \"10\": 1, \"5\": 1}, \"1\": {\"1\": 223, \"15\": 17}, \"11\": {\"11\": 194, \"14\": 32, \"3\": 2, \"10\": 2, \"4\": 8, \"13\": 1, \"2\": 1}, \"7\": {\"7\": 173, \"0\": 32, \"8\": 16, \"5\": 18, \"10\": 1}, \"8\": {\"15\": 19, \"8\": 152, \"10\": 5, \"5\": 25, \"7\": 13, \"0\": 23, \"13\": 3}, \"4\": {\"4\": 225, \"12\": 15}, \"10\": {\"10\": 186, \"12\": 7, \"14\": 3, \"7\": 4, \"8\": 9, \"15\": 4, \"13\": 16, \"5\": 1, \"0\": 6, \"2\": 1, \"11\": 2, \"4\": 1}, \"6\": {\"9\": 17, \"6\": 222, \"5\": 1}}, \"ORACLE.run1_26\": {\"10\": {\"0\": 64, \"4\": 9, \"10\": 90, \"8\": 31, \"6\": 14, \"14\": 24, \"1\": 5, \"15\": 2, \"7\": 1}, \"12\": {\"12\": 236, \"11\": 4}, \"1\": {\"1\": 161, \"0\": 12, \"4\": 23, \"14\": 34, \"10\": 4, \"7\": 4, \"8\": 2}, \"0\": {\"6\": 2, \"0\": 74, \"8\": 31, \"10\": 51, \"4\": 30, \"14\": 44, \"1\": 5, \"7\": 3}, \"15\": {\"6\": 9, \"15\": 106, \"5\": 13, \"9\": 61, \"7\": 4, \"2\": 10, \"8\": 23, \"13\": 10, \"4\": 2, \"0\": 1, \"10\": 1}, \"13\": {\"5\": 40, \"13\": 169, \"9\": 13, \"15\": 7, \"2\": 8, \"6\": 2, \"3\": 1}, \"8\": {\"8\": 101, \"0\": 24, \"4\": 23, \"15\": 26, \"6\": 7, \"10\": 28, \"7\": 13, \"9\": 8, \"2\": 4, \"14\": 5, \"1\": 1}, \"3\": {\"2\": 61, \"3\": 150, \"7\": 25, \"4\": 1, \"15\": 2, \"5\": 1}, \"11\": {\"11\": 238, \"12\": 2}, \"4\": {\"4\": 99, \"0\": 27, \"14\": 41, \"10\": 11, \"1\": 11, \"7\": 15, \"8\": 35, \"15\": 1}, \"6\": {\"6\": 189, \"9\": 25, \"15\": 7, \"10\": 13, \"8\": 4, \"0\": 2}, \"7\": {\"2\": 23, \"4\": 26, \"15\": 5, \"3\": 33, \"7\": 130, \"8\": 17, \"5\": 3, \"14\": 2, \"0\": 1}, \"14\": {\"0\": 42, \"14\": 80, \"1\": 37, \"4\": 57, \"10\": 15, \"7\": 3, \"8\": 6}, \"2\": {\"2\": 100, \"3\": 65, \"5\": 22, \"7\": 25, \"8\": 9, \"15\": 13, \"13\": 1, \"4\": 1, \"9\": 3, \"14\": 1}, \"5\": {\"5\": 173, \"2\": 7, \"15\": 16, \"13\": 22, \"9\": 17, \"8\": 2, \"10\": 1, \"3\": 2}, \"9\": {\"6\": 20, \"9\": 115, \"8\": 13, \"13\": 13, \"15\": 59, \"2\": 5, \"5\": 11, \"10\": 3, \"3\": 1}}, \"ORACLE.run1_20\": {\"5\": {\"15\": 13, \"5\": 143, \"0\": 55, \"1\": 16, \"12\": 11, \"3\": 2}, \"15\": {\"15\": 159, \"12\": 2, \"0\": 33, \"1\": 36, \"5\": 5, \"13\": 4, \"2\": 1}, \"9\": {\"9\": 116, \"2\": 66, \"3\": 29, \"12\": 23, \"1\": 1, \"13\": 2, \"4\": 1, \"7\": 2}, \"7\": {\"8\": 9, \"7\": 182, \"3\": 6, \"9\": 8, \"2\": 34, \"6\": 1}, \"3\": {\"3\": 128, \"12\": 49, \"4\": 8, \"2\": 8, \"9\": 31, \"7\": 8, \"5\": 3, \"0\": 1, \"8\": 1, \"1\": 3}, \"8\": {\"8\": 198, \"3\": 5, \"7\": 13, \"4\": 20, \"14\": 2, \"10\": 2}, \"4\": {\"4\": 213, \"10\": 2, \"5\": 2, \"3\": 7, \"8\": 12, \"12\": 3, \"9\": 1}, \"6\": {\"6\": 218, \"14\": 21, \"7\": 1}, \"2\": {\"9\": 72, \"3\": 18, \"2\": 110, \"12\": 6, \"13\": 13, \"7\": 21}, \"12\": {\"1\": 38, \"3\": 52, \"12\": 101, \"0\": 9, \"9\": 10, \"15\": 6, \"5\": 21, \"2\": 3}, \"0\": {\"0\": 90, \"12\": 8, \"5\": 74, \"15\": 40, \"4\": 1, \"1\": 23, \"3\": 1, \"2\": 2, \"9\": 1}, \"13\": {\"2\": 16, \"13\": 222, \"3\": 1, \"7\": 1}, \"10\": {\"10\": 228, \"14\": 11, \"4\": 1}, \"11\": {\"11\": 240}, \"14\": {\"14\": 206, \"10\": 14, \"6\": 19, \"8\": 1}, \"1\": {\"1\": 115, \"5\": 33, \"12\": 39, \"15\": 28, \"0\": 18, \"3\": 7}}, \"ORACLE.run1_50\": {\"1\": {\"6\": 21, \"1\": 167, \"15\": 29, \"11\": 1, \"4\": 19, \"0\": 1, \"5\": 2}, \"2\": {\"2\": 224, \"0\": 16}, \"8\": {\"8\": 237, \"3\": 2, \"10\": 1}, \"7\": {\"7\": 185, \"4\": 4, \"13\": 27, \"5\": 17, \"10\": 7}, \"14\": {\"14\": 237, \"11\": 1, \"12\": 2}, \"6\": {\"6\": 162, \"1\": 18, \"5\": 15, \"4\": 22, \"13\": 22, \"15\": 1}, \"3\": {\"3\": 238, \"8\": 2}, \"4\": {\"4\": 113, \"13\": 8, \"15\": 34, \"5\": 33, \"1\": 28, \"6\": 18, \"7\": 6}, \"12\": {\"14\": 9, \"12\": 209, \"9\": 16, \"11\": 6}, \"15\": {\"15\": 157, \"1\": 45, \"4\": 23, \"11\": 11, \"6\": 4}, \"11\": {\"11\": 202, \"15\": 21, \"9\": 12, \"14\": 3, \"12\": 2}, \"0\": {\"0\": 198, \"10\": 12, \"2\": 29, \"13\": 1}, \"9\": {\"12\": 14, \"9\": 206, \"11\": 20}, \"10\": {\"10\": 212, \"13\": 7, \"7\": 4, \"0\": 10, \"8\": 4, \"5\": 2, \"6\": 1}, \"5\": {\"13\": 28, \"1\": 13, \"4\": 26, \"7\": 45, \"6\": 20, \"5\": 105, \"10\": 2, \"0\": 1}, \"13\": {\"5\": 33, \"13\": 166, \"1\": 1, \"6\": 18, \"7\": 18, \"0\": 1, \"10\": 3}}, \"ORACLE.run1_32\": {\"2\": {\"4\": 50, \"2\": 178, \"7\": 5, \"0\": 6, \"5\": 1}, \"6\": {\"6\": 240}, \"5\": {\"5\": 62, \"13\": 43, \"0\": 18, \"3\": 24, \"8\": 35, \"7\": 28, \"4\": 16, \"14\": 6, \"11\": 8}, \"12\": {\"12\": 240}, \"13\": {\"7\": 25, \"13\": 127, \"8\": 12, \"5\": 30, \"4\": 19, \"3\": 23, \"0\": 1, \"11\": 2, \"14\": 1}, \"9\": {\"9\": 237, \"12\": 3}, \"11\": {\"11\": 199, \"7\": 11, \"14\": 25, \"3\": 1, \"13\": 3, \"5\": 1}, \"1\": {\"1\": 238, \"10\": 2}, \"3\": {\"3\": 226, \"8\": 2, \"13\": 7, \"5\": 3, \"14\": 1, \"11\": 1}, \"7\": {\"7\": 116, \"13\": 15, \"0\": 10, \"14\": 27, \"5\": 34, \"4\": 16, \"3\": 1, \"11\": 13, \"8\": 6, \"2\": 2}, \"14\": {\"11\": 68, \"14\": 96, \"7\": 31, \"13\": 4, \"5\": 11, \"8\": 5, \"2\": 3, \"0\": 11, \"4\": 5, \"3\": 6}, \"8\": {\"8\": 169, \"0\": 20, \"5\": 24, \"13\": 16, \"3\": 4, \"14\": 1, \"4\": 2, \"7\": 4}, \"4\": {\"4\": 145, \"13\": 14, \"0\": 6, \"7\": 25, \"2\": 44, \"5\": 5, \"8\": 1}, \"0\": {\"0\": 172, \"8\": 28, \"7\": 12, \"5\": 7, \"14\": 6, \"13\": 5, \"4\": 9, \"2\": 1}, \"10\": {\"10\": 234, \"1\": 6}, \"15\": {\"15\": 238, \"8\": 1, \"3\": 1}}, \"ORACLE.run1_44\": {\"13\": {\"13\": 164, \"6\": 37, \"9\": 27, \"4\": 1, \"11\": 10, \"7\": 1}, \"4\": {\"4\": 152, \"14\": 81, \"15\": 5, \"13\": 2}, \"6\": {\"6\": 144, \"9\": 33, \"13\": 45, \"7\": 12, \"11\": 5, \"2\": 1}, \"0\": {\"0\": 138, \"15\": 24, \"8\": 66, \"5\": 11, \"14\": 1}, \"10\": {\"2\": 15, \"1\": 24, \"10\": 178, \"12\": 23}, \"7\": {\"7\": 120, \"2\": 52, \"9\": 60, \"6\": 7, \"3\": 1}, \"14\": {\"15\": 29, \"4\": 69, \"14\": 132, \"5\": 10}, \"15\": {\"14\": 14, \"15\": 182, \"8\": 6, \"0\": 26, \"5\": 11, \"4\": 1}, \"5\": {\"5\": 199, \"0\": 15, \"14\": 14, \"8\": 2, \"15\": 10}, \"2\": {\"2\": 165, \"7\": 42, \"1\": 17, \"10\": 12, \"9\": 1, \"3\": 2, \"6\": 1}, \"9\": {\"7\": 43, \"9\": 123, \"13\": 41, \"6\": 26, \"2\": 7}, \"12\": {\"12\": 200, \"1\": 30, \"10\": 8, \"3\": 2}, \"8\": {\"8\": 138, \"0\": 85, \"15\": 8, \"5\": 9}, \"3\": {\"3\": 223, \"2\": 2, \"1\": 12, \"12\": 3}, \"1\": {\"12\": 53, \"3\": 19, \"1\": 145, \"2\": 8, \"10\": 15}, \"11\": {\"11\": 212, \"13\": 21, \"6\": 7}}, \"ORACLE.run1_14\": {\"1\": {\"1\": 221, \"5\": 19}, \"15\": {\"15\": 238, \"7\": 2}, \"10\": {\"10\": 228, \"0\": 12}, \"2\": {\"3\": 19, \"2\": 130, \"14\": 33, \"5\": 25, \"6\": 13, \"4\": 6, \"13\": 13, \"15\": 1}, \"9\": {\"9\": 240}, \"5\": {\"5\": 161, \"1\": 31, \"4\": 30, \"3\": 2, \"2\": 16}, \"7\": {\"7\": 239, \"15\": 1}, \"13\": {\"13\": 81, \"2\": 21, \"6\": 83, \"14\": 49, \"3\": 3, \"4\": 2, \"5\": 1}, \"8\": {\"8\": 240}, \"6\": {\"13\": 64, \"6\": 149, \"14\": 16, \"2\": 11}, \"3\": {\"3\": 228, \"4\": 4, \"14\": 4, \"2\": 4}, \"12\": {\"12\": 240}, \"0\": {\"0\": 203, \"10\": 30, \"3\": 6, \"11\": 1}, \"4\": {\"4\": 197, \"5\": 25, \"3\": 6, \"2\": 7, \"1\": 4, \"13\": 1}, \"14\": {\"14\": 190, \"2\": 15, \"6\": 9, \"13\": 24, \"3\": 2}, \"11\": {\"11\": 223, \"9\": 11, \"0\": 5, \"10\": 1}}, \"W_A_2\": {\"56\": {\"113\": 1, \"15\": 1, \"56\": 4, \"31\": 2, \"74\": 1, \"28\": 1, \"119\": 1, \"85\": 1}, \"12\": {\"12\": 5, \"20\": 1, \"115\": 2, \"88\": 1, \"127\": 1, \"49\": 1, \"7\": 1}, \"15\": {\"15\": 6, \"127\": 2, \"106\": 2, \"36\": 2}, \"26\": {\"117\": 1, \"82\": 1, \"64\": 1, \"26\": 6, \"92\": 1, \"2\": 2}, \"82\": {\"82\": 9, \"69\": 2, \"21\": 1}, \"9\": {\"9\": 12}, \"49\": {\"49\": 6, \"115\": 2, \"54\": 1, \"9\": 1, \"79\": 1, \"42\": 1}, \"55\": {\"55\": 10, \"50\": 2}, \"102\": {\"55\": 2, \"102\": 9, \"87\": 1}, \"85\": {\"73\": 1, \"85\": 3, \"61\": 1, \"119\": 1, \"74\": 1, \"87\": 2, \"41\": 1, \"110\": 1, \"46\": 1}, \"73\": {\"47\": 3, \"73\": 8, \"105\": 1}, \"47\": {\"20\": 1, \"56\": 1, \"47\": 4, \"1\": 1, \"22\": 1, \"33\": 1, \"96\": 1, \"76\": 1, \"17\": 1}, \"20\": {\"20\": 12}, \"117\": {\"26\": 1, \"117\": 8, \"72\": 1}, \"122\": {\"122\": 5, \"73\": 2, \"3\": 1, \"105\": 1, \"85\": 1, \"61\": 1, \"110\": 1}, \"113\": {\"26\": 3, \"113\": 3, \"13\": 1, \"120\": 1, \"72\": 2, \"102\": 1, \"121\": 1}, \"87\": {\"87\": 10, \"73\": 1, \"14\": 1}, \"21\": {\"21\": 12}, \"106\": {\"106\": 7, \"30\": 2, \"25\": 1}, \"3\": {\"3\": 12}, \"126\": {\"126\": 6, \"21\": 1, \"43\": 2, \"61\": 1, \"46\": 1, \"19\": 1}, \"41\": {\"49\": 2, \"41\": 7, \"27\": 1, \"36\": 2}, \"76\": {\"21\": 1, \"60\": 1, \"80\": 2, \"84\": 2, \"104\": 1, \"39\": 1, \"76\": 1, \"45\": 1}, \"60\": {\"60\": 4, \"22\": 1, \"53\": 1, \"56\": 2, \"78\": 1, \"129\": 1, \"109\": 2}, \"94\": {\"94\": 6, \"25\": 2, \"24\": 2, \"98\": 2}, \"50\": {\"50\": 3, \"21\": 1, \"86\": 1, \"11\": 2, \"62\": 1, \"78\": 1, \"55\": 1, \"126\": 1, \"28\": 1}, \"97\": {\"106\": 1, \"97\": 7, \"101\": 1, \"6\": 2, \"51\": 1}, \"115\": {\"41\": 1, \"115\": 5, \"7\": 1, \"68\": 2, \"10\": 1, \"0\": 1, \"49\": 1}, \"38\": {\"38\": 12}, \"43\": {\"43\": 5, \"11\": 1, \"33\": 1, \"105\": 1, \"84\": 2, \"129\": 2}, \"67\": {\"67\": 6, \"31\": 2}, \"18\": {\"18\": 9, \"16\": 1}, \"23\": {\"128\": 1, \"7\": 1, \"94\": 1, \"5\": 1, \"123\": 1, \"56\": 1, \"44\": 1, \"45\": 1, \"0\": 1, \"52\": 1}, \"63\": {\"63\": 10, \"72\": 1, \"57\": 1}, \"127\": {\"127\": 4, \"3\": 2, \"114\": 2, \"12\": 2, \"76\": 1, \"7\": 1}, \"72\": {\"15\": 1, \"67\": 1, \"117\": 1, \"102\": 1, \"72\": 6, \"99\": 1, \"109\": 1}, \"128\": {\"43\": 1, \"128\": 4, \"29\": 1, \"112\": 1, \"115\": 2, \"8\": 1, \"85\": 1, \"11\": 1}, \"7\": {\"127\": 2, \"7\": 8, \"85\": 1, \"12\": 1}, \"108\": {\"108\": 10, \"44\": 1, \"12\": 1}, \"16\": {\"63\": 2, \"87\": 2, \"16\": 6, \"100\": 2}, \"103\": {\"122\": 1, \"103\": 10, \"52\": 1}, \"86\": {\"40\": 1, \"50\": 1, \"4\": 1, \"86\": 2, \"118\": 1, \"105\": 2, \"19\": 1, \"55\": 1, \"37\": 1, \"64\": 1}, \"62\": {\"62\": 10, \"50\": 1, \"105\": 1}, \"34\": {\"122\": 1, \"40\": 2, \"15\": 2, \"116\": 2, \"48\": 1, \"109\": 1, \"91\": 1, \"94\": 2}, \"129\": {\"40\": 2, \"5\": 2, \"44\": 1, \"129\": 6, \"42\": 1}, \"52\": {\"52\": 10, \"103\": 1, \"24\": 1}, \"35\": {\"34\": 1, \"35\": 4, \"24\": 1, \"10\": 1, \"107\": 1, \"94\": 2, \"101\": 1, \"49\": 1}, \"40\": {\"40\": 6, \"62\": 1, \"114\": 1, \"110\": 1, \"87\": 2, \"61\": 1}, \"105\": {\"62\": 2, \"110\": 1, \"105\": 9}, \"101\": {\"101\": 11, \"30\": 1}, \"45\": {\"45\": 7, \"92\": 1, \"102\": 1, \"80\": 1, \"64\": 2}, \"30\": {\"29\": 1, \"30\": 6, \"77\": 1, \"49\": 1, \"113\": 1, \"117\": 1, \"91\": 1}, \"6\": {\"6\": 6, \"75\": 1, \"97\": 1}, \"13\": {\"13\": 3, \"48\": 2, \"39\": 2, \"57\": 1, \"62\": 1, \"99\": 1, \"69\": 1, \"87\": 1}, \"17\": {\"32\": 1, \"17\": 2, \"105\": 1, \"59\": 1, \"57\": 1, \"33\": 1, \"123\": 1, \"69\": 1, \"85\": 1, \"95\": 2}, \"29\": {\"128\": 2, \"29\": 9, \"41\": 1}, \"121\": {\"17\": 1, \"121\": 9, \"96\": 1, \"113\": 1}, \"32\": {\"110\": 1, \"32\": 4, \"59\": 2, \"8\": 1, \"49\": 1, \"46\": 1, \"1\": 1, \"86\": 1}, \"112\": {\"112\": 6, \"127\": 1, \"108\": 2, \"114\": 1, \"44\": 2}, \"110\": {\"110\": 6, \"123\": 1, \"107\": 2, \"40\": 1, \"5\": 1, \"23\": 1}, \"95\": {\"105\": 2, \"110\": 3, \"95\": 5, \"17\": 1, \"126\": 1}, \"92\": {\"92\": 7, \"70\": 1, \"88\": 1, \"120\": 1, \"31\": 1, \"82\": 1}, \"8\": {\"8\": 6, \"17\": 1, \"19\": 1, \"128\": 2, \"70\": 1, \"129\": 1}, \"22\": {\"22\": 4, \"1\": 1, \"124\": 1, \"95\": 1, \"73\": 2, \"76\": 2, \"116\": 1}, \"57\": {\"45\": 2, \"57\": 6, \"31\": 1, \"96\": 1, \"99\": 2}, \"77\": {\"77\": 9, \"53\": 1}, \"1\": {\"8\": 1, \"1\": 6, \"105\": 1, \"5\": 1, \"37\": 1}, \"116\": {\"116\": 4, \"102\": 1, \"100\": 1, \"104\": 1, \"90\": 1, \"66\": 2, \"87\": 1, \"86\": 1}, \"28\": {\"1\": 1, \"28\": 6, \"116\": 1, \"100\": 1, \"22\": 2, \"83\": 1}, \"68\": {\"8\": 1, \"68\": 8, \"10\": 1, \"128\": 1, \"54\": 1}, \"89\": {\"89\": 3, \"18\": 2, \"63\": 1, \"99\": 1, \"16\": 1}, \"119\": {\"119\": 9, \"101\": 1, \"44\": 1, \"19\": 1}, \"11\": {\"91\": 1, \"43\": 1, \"11\": 8, \"69\": 1, \"49\": 1}, \"46\": {\"46\": 9, \"61\": 1, \"126\": 2}, \"123\": {\"123\": 9, \"101\": 1, \"94\": 1, \"108\": 1}, \"33\": {\"50\": 1, \"33\": 7, \"80\": 2, \"100\": 1, \"74\": 1}, \"91\": {\"101\": 2, \"91\": 2, \"51\": 1, \"114\": 1, \"36\": 1, \"43\": 1, \"115\": 2, \"34\": 1, \"106\": 1}, \"83\": {\"20\": 1, \"83\": 4, \"99\": 2, \"96\": 1, \"93\": 1, \"28\": 1}, \"90\": {\"46\": 1, \"90\": 11}, \"79\": {\"79\": 3, \"43\": 1, \"59\": 1, \"0\": 1, \"125\": 1, \"103\": 1, \"49\": 1, \"122\": 1, \"54\": 2}, \"19\": {\"19\": 7, \"8\": 2, \"129\": 1, \"126\": 2}, \"81\": {\"81\": 7, \"98\": 1}, \"53\": {\"53\": 8}, \"71\": {\"7\": 2, \"71\": 7, \"128\": 1, \"76\": 1, \"108\": 1}, \"124\": {\"22\": 2, \"35\": 1, \"74\": 1, \"40\": 4, \"124\": 3, \"73\": 1}, \"88\": {\"71\": 1, \"88\": 4, \"19\": 1, \"86\": 1, \"109\": 1, \"129\": 1, \"118\": 1, \"20\": 1, \"64\": 1}, \"36\": {\"36\": 9, \"41\": 1, \"75\": 2}, \"78\": {\"16\": 1, \"5\": 1, \"78\": 7, \"123\": 1, \"128\": 1, \"23\": 1}, \"5\": {\"129\": 1, \"5\": 6, \"33\": 2, \"110\": 2, \"122\": 1}, \"61\": {\"126\": 2, \"61\": 9, \"90\": 1}, \"25\": {\"25\": 10, \"23\": 1, \"70\": 1}, \"64\": {\"64\": 6, \"23\": 1, \"48\": 2, \"82\": 2, \"57\": 1}, \"39\": {\"16\": 2, \"87\": 1, \"21\": 1, \"20\": 1, \"64\": 2, \"102\": 2, \"39\": 2, \"5\": 1}, \"37\": {\"100\": 2, \"67\": 1, \"81\": 1, \"86\": 3, \"63\": 1, \"62\": 1, \"64\": 1, \"37\": 2}, \"59\": {\"59\": 9, \"12\": 1}, \"125\": {\"125\": 11, \"58\": 1}, \"31\": {\"32\": 1, \"116\": 1, \"63\": 2, \"31\": 3, \"33\": 1, \"113\": 1, \"120\": 1, \"39\": 1, \"121\": 1}, \"54\": {\"54\": 8, \"111\": 3, \"68\": 1}, \"100\": {\"100\": 7, \"93\": 1, \"114\": 1, \"55\": 2, \"33\": 1}, \"98\": {\"98\": 11, \"24\": 1}, \"96\": {\"96\": 4, \"5\": 1, \"32\": 1, \"82\": 1, \"121\": 2, \"16\": 1, \"70\": 1, \"45\": 1}, \"24\": {\"25\": 2, \"24\": 1, \"44\": 1, \"94\": 1, \"42\": 2, \"51\": 2, \"128\": 1, \"98\": 1, \"11\": 1}, \"104\": {\"16\": 1, \"104\": 7, \"82\": 1, \"118\": 1, \"5\": 1, \"102\": 1}, \"48\": {\"48\": 9, \"51\": 1, \"64\": 1, \"57\": 1}, \"80\": {\"80\": 10, \"16\": 1, \"43\": 1}, \"58\": {\"58\": 11, \"97\": 1}, \"14\": {\"14\": 4, \"87\": 1, \"37\": 1}, \"27\": {\"25\": 2, \"30\": 1, \"6\": 2, \"27\": 3, \"108\": 1, \"94\": 1, \"113\": 1, \"128\": 1}, \"69\": {\"69\": 11, \"43\": 1}, \"99\": {\"99\": 10, \"57\": 1, \"102\": 1}, \"51\": {\"75\": 2, \"61\": 1, \"36\": 1, \"51\": 8}, \"75\": {\"75\": 8}, \"109\": {\"14\": 1, \"87\": 1, \"125\": 1, \"109\": 4, \"37\": 1, \"21\": 2, \"36\": 1, \"55\": 1}, \"70\": {\"70\": 3, \"87\": 1, \"119\": 1, \"86\": 1, \"42\": 1, \"43\": 1, \"1\": 1, \"62\": 1, \"65\": 1, \"129\": 1}, \"120\": {\"120\": 8, \"84\": 1, \"2\": 1, \"21\": 1, \"117\": 1}, \"42\": {\"59\": 2, \"42\": 4, \"24\": 1, \"4\": 1, \"0\": 1, \"10\": 1, \"126\": 2}, \"10\": {\"70\": 1, \"12\": 1, \"10\": 7, \"92\": 1, \"44\": 1, \"81\": 1}, \"0\": {\"0\": 5, \"68\": 2, \"111\": 2, \"52\": 1}, \"44\": {\"44\": 12}, \"93\": {\"93\": 9, \"78\": 1, \"33\": 1, \"4\": 1}, \"84\": {\"84\": 8, \"62\": 1, \"43\": 1, \"118\": 2}, \"114\": {\"114\": 9, \"103\": 1, \"115\": 1, \"8\": 1}, \"66\": {\"66\": 6, \"83\": 1, \"100\": 1, \"118\": 1, \"104\": 1, \"62\": 1, \"88\": 1}, \"65\": {\"65\": 6, \"18\": 1, \"120\": 2, \"118\": 1, \"45\": 1, \"96\": 1}, \"111\": {\"111\": 8, \"54\": 1, \"11\": 1, \"68\": 1, \"127\": 1}, \"74\": {\"74\": 6, \"51\": 1, \"33\": 1, \"70\": 1, \"105\": 1}, \"2\": {\"64\": 1, \"2\": 4, \"93\": 1, \"81\": 1, \"99\": 1, \"109\": 2, \"26\": 1, \"83\": 1}, \"107\": {\"84\": 2, \"107\": 3, \"4\": 2, \"129\": 1, \"85\": 1, \"36\": 1}, \"4\": {\"114\": 2, \"4\": 3, \"107\": 2, \"42\": 2, \"43\": 1, \"22\": 1, \"38\": 1}, \"118\": {\"62\": 1, \"100\": 1, \"84\": 1, \"118\": 1, \"88\": 1, \"104\": 1, \"93\": 1, \"78\": 1, \"80\": 2}}, \"C_A_2\": {\"21\": {\"21\": 7, \"55\": 2, \"48\": 1}, \"4\": {\"4\": 8, \"45\": 1, \"33\": 1, \"9\": 1, \"14\": 1}, \"6\": {\"6\": 8, \"3\": 2, \"55\": 1, \"18\": 1}, \"10\": {\"10\": 12}, \"33\": {\"4\": 3, \"39\": 1, \"33\": 3, \"36\": 1, \"29\": 1, \"19\": 1}, \"56\": {\"56\": 10}, \"20\": {\"20\": 12}, \"24\": {\"10\": 2, \"24\": 7, \"43\": 1}, \"45\": {\"27\": 2, \"45\": 2, \"25\": 1, \"49\": 1, \"36\": 1, \"12\": 1, \"9\": 2}, \"32\": {\"32\": 11, \"27\": 1}, \"27\": {\"27\": 12}, \"53\": {\"50\": 1, \"53\": 9, \"54\": 2}, \"8\": {\"8\": 10, \"27\": 1, \"54\": 1}, \"54\": {\"54\": 11, \"50\": 1}, \"50\": {\"50\": 11, \"27\": 1}, \"44\": {\"4\": 2, \"54\": 1, \"44\": 6, \"19\": 1, \"9\": 1, \"40\": 1}, \"5\": {\"5\": 5, \"47\": 2, \"52\": 1, \"31\": 2}, \"38\": {\"38\": 12}, \"19\": {\"19\": 11, \"36\": 1}, \"1\": {\"1\": 10, \"41\": 1, \"55\": 1}, \"30\": {\"30\": 12}, \"15\": {\"15\": 12}, \"23\": {\"23\": 12}, \"35\": {\"35\": 6, \"4\": 1, \"40\": 2, \"54\": 1, \"9\": 2}, \"22\": {\"22\": 10, \"46\": 1, \"52\": 1}, \"40\": {\"44\": 1, \"40\": 9, \"9\": 1, \"35\": 1}, \"46\": {\"5\": 1, \"46\": 3, \"21\": 2, \"48\": 1, \"52\": 1, \"16\": 1, \"55\": 1}, \"18\": {\"18\": 10}, \"25\": {\"25\": 8, \"32\": 1, \"20\": 1, \"26\": 1, \"50\": 1}, \"47\": {\"47\": 11, \"5\": 1}, \"52\": {\"52\": 7, \"46\": 1}, \"39\": {\"46\": 1, \"39\": 9, \"34\": 1, \"48\": 1}, \"17\": {\"17\": 10, \"29\": 2}, \"36\": {\"36\": 11, \"3\": 1}, \"7\": {\"7\": 11, \"48\": 1}, \"43\": {\"24\": 1, \"43\": 11}, \"3\": {\"3\": 3, \"17\": 1, \"6\": 2, \"55\": 1, \"42\": 2, \"36\": 1, \"19\": 1, \"50\": 1}, \"11\": {\"11\": 9, \"13\": 1}, \"55\": {\"55\": 6, \"6\": 1, \"57\": 1, \"48\": 2, \"1\": 2}, \"42\": {\"3\": 1, \"42\": 7, \"39\": 2, \"12\": 1, \"45\": 1}, \"51\": {\"21\": 2, \"51\": 9, \"53\": 1}, \"48\": {\"48\": 11, \"42\": 1}, \"57\": {\"57\": 12}, \"2\": {\"55\": 2, \"2\": 5, \"34\": 3}, \"16\": {\"16\": 8, \"52\": 1, \"41\": 1}, \"29\": {\"55\": 2, \"29\": 9, \"14\": 1}, \"12\": {\"12\": 9, \"27\": 2, \"8\": 1}, \"13\": {\"13\": 10, \"28\": 1, \"52\": 1}, \"37\": {\"37\": 12}, \"28\": {\"28\": 6}, \"14\": {\"10\": 2, \"14\": 2, \"9\": 1, \"43\": 2, \"4\": 2, \"44\": 2, \"29\": 1}, \"34\": {\"34\": 8}, \"41\": {\"41\": 8, \"34\": 1, \"6\": 1}, \"9\": {\"9\": 9, \"54\": 1}, \"49\": {\"49\": 6}, \"26\": {\"26\": 8, \"20\": 1, \"54\": 1}, \"0\": {\"0\": 9, \"30\": 1}, \"31\": {\"31\": 5, \"1\": 1}}, \"W_A_4\": {\"32\": {\"32\": 4, \"57\": 1, \"118\": 1, \"40\": 1, \"66\": 1, \"126\": 1, \"45\": 1, \"99\": 2}, \"22\": {\"22\": 10, \"76\": 2}, \"69\": {\"69\": 9, \"79\": 1, \"62\": 1, \"84\": 1}, \"65\": {\"65\": 10, \"63\": 1, \"67\": 1}, \"91\": {\"53\": 2, \"0\": 1, \"30\": 3, \"125\": 1, \"129\": 1, \"47\": 2}, \"63\": {\"63\": 10, \"113\": 1, \"13\": 1}, \"127\": {\"127\": 10, \"0\": 1, \"101\": 1}, \"11\": {\"88\": 2, \"11\": 1, \"100\": 1, \"0\": 1, \"19\": 1, \"73\": 2, \"120\": 1, \"49\": 1}, \"12\": {\"12\": 4, \"111\": 3, \"30\": 1, \"68\": 1, \"9\": 1}, \"111\": {\"127\": 2, \"111\": 9, \"68\": 1}, \"53\": {\"53\": 9, \"9\": 2, \"98\": 1}, \"73\": {\"88\": 1, \"87\": 1, \"73\": 7, \"46\": 1, \"94\": 1, \"108\": 1}, \"3\": {\"83\": 1, \"3\": 8, \"88\": 1, \"60\": 1, \"71\": 1}, \"83\": {\"83\": 11, \"22\": 1}, \"88\": {\"91\": 1, \"88\": 6, \"43\": 2, \"27\": 1, \"11\": 1, \"70\": 1}, \"87\": {\"87\": 5, \"88\": 1, \"110\": 2, \"50\": 2, \"100\": 1, \"105\": 1}, \"2\": {\"2\": 6, \"16\": 1, \"28\": 1, \"14\": 1, \"62\": 1, \"18\": 1, \"110\": 1}, \"86\": {\"86\": 5, \"7\": 2, \"0\": 1, \"101\": 1, \"127\": 1, \"129\": 1, \"119\": 1}, \"16\": {\"16\": 5, \"18\": 1, \"78\": 1, \"13\": 2, \"21\": 1, \"39\": 1, \"113\": 1}, \"21\": {\"21\": 8, \"109\": 2, \"66\": 2}, \"96\": {\"96\": 5, \"92\": 2, \"120\": 1, \"2\": 1, \"109\": 1, \"81\": 1, \"45\": 1}, \"100\": {\"100\": 5, \"86\": 1, \"46\": 2, \"116\": 1, \"87\": 1, \"95\": 1, \"90\": 1}, \"7\": {\"86\": 3, \"7\": 8, \"38\": 1}, \"75\": {\"75\": 12}, \"10\": {\"10\": 4, \"88\": 1, \"36\": 3, \"125\": 1, \"114\": 2, \"127\": 1}, \"43\": {\"88\": 1, \"100\": 1, \"114\": 1, \"43\": 5, \"82\": 1, \"90\": 1, \"128\": 1, \"71\": 1}, \"92\": {\"21\": 1, \"96\": 1, \"62\": 1, \"92\": 4, \"104\": 2, \"113\": 2, \"22\": 1}, \"62\": {\"62\": 7, \"16\": 1, \"115\": 2, \"122\": 2}, \"31\": {\"45\": 3, \"84\": 1, \"76\": 3, \"104\": 2, \"113\": 1, \"28\": 1, \"109\": 1}, \"0\": {\"1\": 1, \"86\": 1, \"112\": 1, \"55\": 1, \"49\": 1, \"0\": 4, \"128\": 1, \"105\": 1, \"41\": 1}, \"45\": {\"118\": 3, \"110\": 1, \"45\": 5, \"69\": 1, \"31\": 2}, \"85\": {\"85\": 7, \"41\": 2, \"97\": 1, \"30\": 1, \"9\": 1}, \"119\": {\"119\": 12}, \"46\": {\"71\": 1, \"1\": 3, \"46\": 5, \"50\": 1, \"103\": 1, \"114\": 1}, \"71\": {\"1\": 1, \"46\": 1, \"71\": 9, \"128\": 1}, \"8\": {\"119\": 2, \"4\": 1, \"38\": 1, \"8\": 4, \"126\": 1, \"7\": 1, \"96\": 1, \"49\": 1}, \"118\": {\"118\": 6, \"45\": 1, \"69\": 1, \"84\": 1, \"67\": 1, \"14\": 2}, \"1\": {\"46\": 3, \"1\": 4, \"79\": 1, \"105\": 1, \"44\": 1, \"71\": 2}, \"38\": {\"38\": 10, \"30\": 1, \"94\": 1}, \"30\": {\"91\": 1, \"0\": 1, \"30\": 3, \"51\": 2, \"34\": 1, \"106\": 1, \"12\": 1, \"42\": 1, \"9\": 1}, \"66\": {\"66\": 6, \"46\": 1, \"5\": 1, \"116\": 1, \"79\": 1, \"88\": 2}, \"9\": {\"91\": 2, \"9\": 8, \"111\": 1, \"30\": 1}, \"90\": {\"79\": 2, \"90\": 7, \"43\": 1, \"74\": 2}, \"72\": {\"72\": 7, \"5\": 1, \"44\": 1, \"43\": 1, \"50\": 1, \"83\": 1}, \"27\": {\"27\": 4, \"7\": 2, \"4\": 1, \"101\": 1, \"111\": 1, \"8\": 1, \"127\": 1, \"112\": 1}, \"17\": {\"32\": 1, \"17\": 10, \"116\": 1}, \"79\": {\"79\": 6, \"46\": 1, \"74\": 1, \"20\": 4}, \"25\": {\"25\": 12}, \"5\": {\"88\": 1, \"5\": 7, \"110\": 1, \"108\": 1, \"20\": 1, \"103\": 1}, \"57\": {\"57\": 11, \"102\": 1}, \"106\": {\"106\": 7, \"95\": 1, \"85\": 1, \"29\": 1, \"51\": 1, \"27\": 1}, \"80\": {\"80\": 12}, \"128\": {\"129\": 2, \"128\": 7, \"17\": 2, \"20\": 1}, \"19\": {\"129\": 1, \"80\": 1, \"11\": 1, \"55\": 1, \"115\": 1, \"44\": 1, \"42\": 1, \"33\": 1, \"19\": 1, \"91\": 1}, \"109\": {\"109\": 6, \"115\": 1, \"81\": 3, \"20\": 1, \"118\": 1}, \"68\": {\"68\": 9, \"8\": 1, \"0\": 2}, \"41\": {\"85\": 2, \"41\": 9, \"106\": 1}, \"129\": {\"19\": 1, \"129\": 2, \"37\": 3, \"105\": 1, \"99\": 2, \"128\": 1, \"103\": 1, \"33\": 1}, \"115\": {\"115\": 3, \"114\": 2, \"102\": 2, \"119\": 2, \"4\": 1, \"104\": 1, \"25\": 1}, \"76\": {\"76\": 8, \"115\": 1, \"110\": 1, \"104\": 1, \"96\": 1}, \"18\": {\"18\": 11, \"26\": 1}, \"4\": {\"4\": 5, \"19\": 1, \"87\": 1, \"83\": 2, \"55\": 1, \"42\": 1, \"5\": 1}, \"110\": {\"110\": 3, \"27\": 1, \"50\": 2, \"107\": 1, \"87\": 2, \"40\": 2, \"115\": 1}, \"56\": {\"110\": 1, \"56\": 5, \"89\": 1, \"90\": 1, \"43\": 1, \"128\": 1, \"17\": 1, \"3\": 1}, \"112\": {\"112\": 12}, \"126\": {\"126\": 7, \"102\": 2, \"13\": 1, \"117\": 1, \"39\": 1}, \"101\": {\"87\": 1, \"101\": 4, \"15\": 1, \"79\": 1, \"86\": 1, \"7\": 1, \"8\": 1, \"113\": 1, \"127\": 1}, \"59\": {\"59\": 12}, \"93\": {\"93\": 10, \"44\": 2}, \"99\": {\"66\": 1, \"99\": 8, \"120\": 1, \"37\": 1, \"74\": 1}, \"98\": {\"98\": 12}, \"67\": {\"67\": 9, \"69\": 1, \"31\": 2}, \"82\": {\"17\": 1, \"82\": 4, \"100\": 2, \"36\": 1, \"66\": 1, \"87\": 2, \"54\": 1}, \"103\": {\"89\": 2, \"71\": 2, \"103\": 4, \"114\": 1, \"81\": 1, \"4\": 2}, \"117\": {\"18\": 4, \"35\": 1, \"126\": 1, \"117\": 2}, \"123\": {\"18\": 1, \"123\": 8, \"81\": 2, \"65\": 1}, \"89\": {\"73\": 2, \"89\": 10}, \"34\": {\"6\": 3, \"128\": 1, \"108\": 2, \"97\": 1, \"54\": 1, \"110\": 1, \"115\": 1, \"36\": 2}, \"102\": {\"102\": 5, \"84\": 1, \"14\": 3, \"44\": 1, \"73\": 1, \"67\": 1}, \"6\": {\"6\": 7, \"94\": 2, \"54\": 1}, \"15\": {\"53\": 2, \"15\": 8, \"124\": 1, \"91\": 1}, \"81\": {\"67\": 1, \"84\": 1, \"81\": 5, \"123\": 1, \"45\": 2, \"63\": 2}, \"84\": {\"67\": 1, \"102\": 1, \"84\": 6, \"110\": 1, \"108\": 1, \"109\": 1, \"69\": 1}, \"60\": {\"90\": 1, \"55\": 1, \"70\": 1, \"74\": 1, \"113\": 1, \"60\": 3, \"4\": 1, \"27\": 1, \"119\": 1, \"56\": 1}, \"97\": {\"97\": 2, \"12\": 2, \"6\": 1, \"98\": 2, \"111\": 1, \"128\": 1, \"47\": 1, \"9\": 2}, \"78\": {\"121\": 1, \"55\": 1, \"99\": 2, \"78\": 3, \"70\": 2, \"96\": 1, \"126\": 1, \"43\": 1}, \"121\": {\"78\": 1, \"18\": 1, \"126\": 2, \"48\": 2, \"39\": 1, \"113\": 2, \"121\": 3}, \"55\": {\"1\": 2, \"55\": 6, \"0\": 2, \"4\": 1, \"95\": 1}, \"74\": {\"37\": 1, \"74\": 8, \"19\": 1, \"110\": 1, \"43\": 1}, \"77\": {\"77\": 11, \"51\": 1}, \"20\": {\"20\": 5, \"110\": 1, \"37\": 1, \"50\": 1, \"79\": 2, \"105\": 1, \"43\": 1}, \"125\": {\"125\": 9, \"39\": 1, \"29\": 1, \"21\": 1}, \"37\": {\"74\": 1, \"37\": 8, \"99\": 1, \"107\": 1, \"32\": 1}, \"14\": {\"14\": 7, \"40\": 1, \"61\": 1, \"118\": 1, \"109\": 1, \"45\": 1}, \"120\": {\"120\": 6, \"122\": 3, \"118\": 1, \"65\": 1, \"11\": 1}, \"40\": {\"40\": 7, \"105\": 2, \"33\": 1, \"121\": 1, \"108\": 1}, \"35\": {\"117\": 1, \"35\": 6, \"64\": 1, \"18\": 1, \"61\": 3}, \"70\": {\"70\": 8, \"49\": 1, \"27\": 1, \"55\": 2}, \"42\": {\"42\": 4, \"1\": 1, \"103\": 1, \"114\": 1, \"71\": 1, \"89\": 2, \"49\": 1, \"105\": 1}, \"105\": {\"1\": 2, \"105\": 5, \"129\": 1, \"82\": 1, \"100\": 1, \"40\": 1, \"50\": 1}, \"13\": {\"13\": 3, \"126\": 1, \"2\": 1, \"117\": 1, \"78\": 1, \"48\": 1, \"39\": 1, \"121\": 1, \"67\": 1, \"69\": 1}, \"58\": {\"58\": 12}, \"61\": {\"61\": 11, \"65\": 1}, \"29\": {\"29\": 11, \"9\": 1}, \"28\": {\"14\": 1, \"57\": 1, \"28\": 6, \"116\": 1, \"104\": 1, \"62\": 1, \"109\": 1}, \"36\": {\"36\": 6, \"51\": 1, \"94\": 2, \"54\": 1, \"59\": 1, \"10\": 1}, \"114\": {\"114\": 9, \"19\": 1, \"37\": 1, \"43\": 1}, \"44\": {\"44\": 8, \"20\": 1, \"72\": 1, \"124\": 1, \"81\": 1}, \"23\": {\"92\": 1, \"62\": 1, \"117\": 1, \"23\": 3, \"42\": 1, \"114\": 1, \"125\": 1, \"113\": 1, \"61\": 1, \"101\": 1}, \"116\": {\"81\": 1, \"115\": 1, \"33\": 2, \"116\": 5, \"28\": 1, \"13\": 1, \"40\": 1}, \"47\": {\"47\": 10, \"42\": 1, \"97\": 1}, \"122\": {\"62\": 3, \"49\": 1, \"44\": 1, \"107\": 1, \"122\": 3, \"109\": 1, \"2\": 1, \"93\": 1}, \"49\": {\"49\": 8, \"27\": 1, \"72\": 1}, \"52\": {\"52\": 7, \"106\": 1, \"111\": 2, \"98\": 1, \"9\": 1}, \"50\": {\"50\": 8, \"99\": 1, \"60\": 1, \"32\": 1, \"72\": 1}, \"48\": {\"48\": 6, \"64\": 2, \"43\": 1, \"13\": 3}, \"39\": {\"63\": 1, \"121\": 2, \"39\": 2, \"40\": 2, \"16\": 1, \"78\": 1, \"81\": 1, \"123\": 2}, \"95\": {\"95\": 9, \"105\": 1, \"1\": 2}, \"107\": {\"107\": 7, \"37\": 1, \"93\": 1, \"114\": 1, \"122\": 2}, \"24\": {\"112\": 1, \"58\": 1, \"6\": 2, \"24\": 3, \"41\": 1, \"119\": 2, \"125\": 2}, \"26\": {\"26\": 10, \"18\": 1, \"113\": 1}, \"124\": {\"114\": 1, \"90\": 1, \"107\": 2, \"124\": 3, \"40\": 1, \"43\": 2}, \"108\": {\"108\": 6, \"60\": 1, \"42\": 1, \"20\": 1, \"0\": 1, \"88\": 1, \"118\": 1}, \"113\": {\"60\": 1, \"31\": 1, \"13\": 2, \"113\": 4, \"35\": 1, \"16\": 1, \"43\": 1, \"71\": 1}, \"104\": {\"104\": 6, \"107\": 1, \"64\": 1, \"32\": 1, \"28\": 2, \"88\": 1}, \"64\": {\"64\": 10, \"104\": 2}, \"51\": {\"51\": 6, \"24\": 1, \"125\": 1, \"25\": 2}, \"94\": {\"36\": 2, \"54\": 3, \"94\": 4, \"97\": 1}, \"54\": {\"54\": 8, \"98\": 1, \"53\": 1}, \"33\": {\"33\": 9, \"107\": 2, \"62\": 1}}, \"W_A_1\": {\"68\": {\"68\": 5, \"85\": 1, \"101\": 2, \"127\": 1, \"48\": 1, \"77\": 2}, \"7\": {\"7\": 12}, \"125\": {\"125\": 10, \"52\": 1, \"59\": 1}, \"111\": {\"68\": 2, \"111\": 4, \"123\": 1, \"127\": 4, \"31\": 1}, \"101\": {\"5\": 1, \"101\": 9, \"115\": 2}, \"11\": {\"11\": 4, \"81\": 1, \"46\": 1, \"99\": 1, \"109\": 2, \"62\": 1, \"69\": 1, \"39\": 1}, \"76\": {\"11\": 1, \"76\": 9, \"84\": 1, \"96\": 1}, \"5\": {\"5\": 10, \"93\": 1, \"73\": 1}, \"123\": {\"123\": 11, \"84\": 1}, \"85\": {\"85\": 10, \"106\": 2}, \"34\": {\"125\": 2, \"83\": 1, \"51\": 1, \"116\": 1, \"1\": 1, \"98\": 1, \"78\": 1, \"42\": 1, \"36\": 1}, \"42\": {\"11\": 1, \"42\": 5, \"38\": 1, \"25\": 1, \"76\": 2}, \"81\": {\"81\": 8, \"82\": 2, \"78\": 1, \"62\": 1}, \"127\": {\"111\": 3, \"127\": 9}, \"60\": {\"42\": 2, \"83\": 1, \"11\": 1, \"99\": 1, \"25\": 1, \"60\": 2, \"65\": 1, \"8\": 1, \"80\": 1, \"79\": 1}, \"77\": {\"77\": 10, \"127\": 2}, \"65\": {\"80\": 1, \"123\": 1, \"65\": 4, \"25\": 1, \"57\": 2, \"116\": 1, \"102\": 1, \"45\": 1}, \"44\": {\"44\": 12}, \"100\": {\"33\": 1, \"100\": 10, \"39\": 1}, \"80\": {\"33\": 2, \"63\": 1, \"80\": 5, \"129\": 2, \"117\": 1, \"102\": 1}, \"83\": {\"83\": 2, \"33\": 1, \"14\": 1, \"11\": 2, \"116\": 2, \"19\": 1, \"66\": 1, \"22\": 2}, \"51\": {\"51\": 12}, \"93\": {\"93\": 3, \"72\": 4, \"78\": 1, \"43\": 2}, \"31\": {\"31\": 10, \"18\": 1, \"113\": 1}, \"33\": {\"33\": 12}, \"113\": {\"123\": 1, \"113\": 9, \"118\": 2}, \"126\": {\"44\": 2, \"86\": 2, \"126\": 5, \"48\": 1, \"115\": 1, \"7\": 1}, \"10\": {\"44\": 1, \"10\": 6, \"48\": 1, \"108\": 1, \"19\": 1, \"101\": 1, \"58\": 1}, \"21\": {\"100\": 1, \"21\": 3, \"96\": 1, \"23\": 1, \"6\": 1, \"25\": 1, \"4\": 1, \"13\": 1}, \"90\": {\"90\": 11, \"3\": 1}, \"14\": {\"14\": 10, \"109\": 1, \"74\": 1}, \"91\": {\"36\": 1, \"101\": 1, \"47\": 1, \"88\": 1, \"106\": 1, \"91\": 3, \"28\": 1, \"5\": 1, \"30\": 1, \"9\": 1}, \"69\": {\"119\": 1, \"69\": 8, \"39\": 1, \"62\": 2}, \"57\": {\"57\": 7, \"89\": 1, \"8\": 1, \"87\": 1, \"4\": 2}, \"89\": {\"89\": 6, \"23\": 2, \"70\": 1, \"7\": 1, \"54\": 1, \"19\": 1}, \"108\": {\"104\": 1, \"36\": 1, \"108\": 6, \"64\": 1, \"91\": 1}, \"102\": {\"42\": 1, \"69\": 1, \"102\": 8, \"62\": 2}, \"64\": {\"64\": 11, \"128\": 1}, \"119\": {\"119\": 12}, \"36\": {\"36\": 11, \"88\": 1}, \"104\": {\"64\": 3, \"119\": 1, \"104\": 5, \"23\": 1, \"70\": 2}, \"38\": {\"38\": 7, \"84\": 1, \"39\": 1, \"2\": 2, \"122\": 1}, \"19\": {\"19\": 4, \"14\": 1, \"129\": 2, \"84\": 4, \"2\": 1}, \"112\": {\"112\": 6, \"37\": 1, \"6\": 1, \"52\": 2, \"98\": 1, \"27\": 1}, \"3\": {\"3\": 11, \"124\": 1}, \"110\": {\"110\": 4, \"107\": 1, \"72\": 1, \"0\": 1, \"93\": 1, \"55\": 1, \"17\": 2, \"101\": 1}, \"78\": {\"114\": 2, \"129\": 1, \"19\": 2, \"5\": 1, \"90\": 1, \"74\": 1, \"39\": 1, \"84\": 1, \"78\": 1, \"66\": 1}, \"45\": {\"50\": 2, \"116\": 1, \"59\": 1, \"45\": 2, \"38\": 1, \"65\": 1, \"80\": 2, \"62\": 2}, \"82\": {\"82\": 11, \"87\": 1}, \"107\": {\"107\": 10, \"55\": 1, \"5\": 1}, \"114\": {\"8\": 1, \"114\": 7, \"40\": 1, \"105\": 1, \"3\": 1, \"87\": 1}, \"109\": {\"45\": 1, \"109\": 4, \"104\": 2, \"57\": 1, \"7\": 1, \"4\": 1, \"128\": 1, \"108\": 1}, \"79\": {\"79\": 9, \"9\": 2, \"96\": 1}, \"8\": {\"8\": 7, \"109\": 1, \"124\": 1, \"3\": 2, \"83\": 1}, \"50\": {\"82\": 1, \"50\": 8, \"61\": 1, \"20\": 1, \"62\": 1}, \"47\": {\"47\": 4, \"110\": 1, \"37\": 1, \"7\": 1, \"9\": 2, \"101\": 1, \"84\": 1, \"48\": 1}, \"99\": {\"99\": 11, \"115\": 1}, \"41\": {\"41\": 12}, \"103\": {\"103\": 10, \"72\": 1, \"23\": 1}, \"1\": {\"1\": 7, \"43\": 1}, \"22\": {\"22\": 8, \"17\": 2, \"74\": 1, \"25\": 1}, \"86\": {\"86\": 11, \"128\": 1}, \"72\": {\"110\": 1, \"4\": 1, \"10\": 2, \"101\": 1, \"72\": 5, \"70\": 1, \"93\": 1}, \"4\": {\"110\": 2, \"20\": 1, \"4\": 6, \"17\": 1, \"105\": 1, \"55\": 1}, \"98\": {\"98\": 10, \"27\": 1, \"112\": 1}, \"63\": {\"82\": 1, \"63\": 8, \"113\": 1, \"119\": 2}, \"0\": {\"0\": 4, \"72\": 2, \"58\": 1, \"48\": 1, \"7\": 2, \"106\": 1, \"32\": 1}, \"97\": {\"98\": 1, \"97\": 7, \"53\": 1, \"108\": 1, \"15\": 2}, \"35\": {\"4\": 1, \"20\": 1, \"35\": 3, \"17\": 1, \"9\": 2, \"103\": 2, \"79\": 1, \"76\": 1}, \"20\": {\"30\": 1, \"20\": 5, \"74\": 2, \"53\": 1, \"78\": 1}, \"58\": {\"58\": 9, \"127\": 1, \"112\": 1, \"75\": 1}, \"117\": {\"117\": 7, \"81\": 1, \"16\": 1, \"39\": 1, \"82\": 2}, \"30\": {\"31\": 1, \"30\": 4, \"15\": 1, \"53\": 1, \"6\": 2, \"75\": 1, \"71\": 2}, \"32\": {\"32\": 9, \"106\": 1, \"27\": 1, \"101\": 1}, \"18\": {\"18\": 8, \"8\": 1, \"11\": 1, \"61\": 1, \"78\": 1}, \"71\": {\"71\": 12}, \"56\": {\"35\": 2, \"0\": 2, \"56\": 5, \"46\": 1, \"112\": 1, \"52\": 1}, \"29\": {\"17\": 1, \"29\": 8, \"54\": 1, \"47\": 1, \"84\": 1}, \"46\": {\"14\": 1, \"94\": 1, \"100\": 1, \"98\": 2, \"30\": 1, \"46\": 1, \"81\": 2, \"80\": 2, \"36\": 1}, \"17\": {\"83\": 1, \"17\": 6, \"4\": 1, \"105\": 2, \"72\": 2}, \"94\": {\"94\": 8, \"27\": 1, \"30\": 2, \"88\": 1}, \"27\": {\"51\": 1, \"94\": 3, \"27\": 3, \"59\": 1, \"117\": 1, \"24\": 1, \"98\": 1, \"95\": 1}, \"62\": {\"62\": 9, \"39\": 1, \"69\": 2}, \"118\": {\"83\": 1, \"118\": 7, \"2\": 1, \"102\": 1, \"26\": 1, \"113\": 1}, \"67\": {\"67\": 12}, \"84\": {\"84\": 8, \"40\": 2, \"114\": 1, \"87\": 1}, \"37\": {\"37\": 12}, \"12\": {\"127\": 1, \"12\": 9, \"85\": 1, \"128\": 1}, \"92\": {\"92\": 12}, \"129\": {\"78\": 1, \"129\": 3, \"80\": 1, \"8\": 1, \"45\": 1, \"18\": 2, \"60\": 1, \"19\": 1, \"40\": 1}, \"48\": {\"48\": 10, \"86\": 1, \"41\": 1}, \"75\": {\"75\": 12}, \"55\": {\"55\": 9, \"93\": 1, \"4\": 1, \"40\": 1}, \"25\": {\"78\": 1, \"25\": 6, \"74\": 1, \"8\": 1, \"80\": 1, \"39\": 1, \"100\": 1}, \"2\": {\"63\": 2, \"2\": 7, \"105\": 1, \"16\": 1, \"82\": 1}, \"53\": {\"53\": 12}, \"95\": {\"95\": 10, \"13\": 1, \"26\": 1}, \"88\": {\"88\": 6, \"31\": 2, \"43\": 1, \"4\": 1, \"36\": 2}, \"70\": {\"55\": 1, \"70\": 7, \"66\": 1, \"73\": 1, \"109\": 1, \"24\": 1}, \"13\": {\"13\": 5, \"2\": 1, \"26\": 1, \"11\": 1, \"8\": 2, \"67\": 2}, \"121\": {\"121\": 7, \"45\": 2, \"116\": 1, \"123\": 1, \"63\": 1}, \"124\": {\"3\": 1, \"124\": 2, \"14\": 1, \"80\": 2, \"2\": 1, \"54\": 1, \"20\": 1, \"46\": 1, \"76\": 1, \"33\": 1}, \"87\": {\"55\": 1, \"70\": 1, \"17\": 1, \"122\": 2, \"43\": 1, \"57\": 1, \"44\": 1, \"29\": 2, \"87\": 1, \"64\": 1}, \"73\": {\"73\": 12}, \"6\": {\"112\": 2, \"6\": 7, \"59\": 2, \"27\": 1}, \"40\": {\"40\": 8, \"107\": 1, \"114\": 1, \"105\": 1, \"29\": 1}, \"59\": {\"59\": 12}, \"122\": {\"40\": 2, \"122\": 4, \"74\": 1, \"43\": 1, \"102\": 1, \"82\": 1, \"11\": 1, \"9\": 1}, \"24\": {\"24\": 9, \"12\": 1, \"44\": 1, \"53\": 1}, \"54\": {\"46\": 2, \"54\": 8, \"74\": 1, \"56\": 1}, \"39\": {\"39\": 7, \"14\": 1, \"117\": 2, \"100\": 1, \"60\": 1}, \"16\": {\"39\": 1, \"117\": 1, \"16\": 8, \"26\": 1, \"13\": 1}, \"106\": {\"106\": 8, \"122\": 1, \"70\": 1, \"127\": 1, \"0\": 1}, \"15\": {\"15\": 9, \"30\": 1, \"125\": 1, \"49\": 1}, \"66\": {\"66\": 12}, \"116\": {\"116\": 8, \"2\": 1, \"62\": 1, \"122\": 1, \"102\": 1}, \"49\": {\"49\": 6, \"114\": 1, \"44\": 1, \"86\": 1, \"103\": 1, \"127\": 1, \"31\": 1}, \"120\": {\"120\": 7, \"118\": 1, \"116\": 1, \"69\": 1, \"117\": 1, \"14\": 1}, \"115\": {\"115\": 7, \"7\": 2, \"126\": 1, \"73\": 2}, \"9\": {\"9\": 3, \"114\": 1, \"128\": 1, \"54\": 1, \"64\": 1, \"110\": 1, \"35\": 1, \"23\": 1}, \"96\": {\"96\": 6, \"79\": 2, \"43\": 1, \"42\": 1}, \"26\": {\"26\": 9, \"16\": 1, \"118\": 2}, \"74\": {\"74\": 9, \"122\": 1}, \"43\": {\"43\": 5, \"129\": 1, \"87\": 1, \"96\": 1, \"57\": 1, \"46\": 2, \"17\": 1}, \"128\": {\"122\": 1, \"43\": 1, \"128\": 7, \"114\": 1, \"4\": 1, \"5\": 1}, \"52\": {\"52\": 12}, \"28\": {\"28\": 6, \"61\": 2, \"23\": 1, \"83\": 1, \"65\": 2}, \"61\": {\"61\": 9, \"59\": 1, \"11\": 1, \"125\": 1}, \"105\": {\"40\": 1, \"105\": 4, \"114\": 1, \"129\": 1, \"57\": 1, \"43\": 2, \"17\": 2}, \"23\": {\"104\": 1, \"89\": 1, \"49\": 2, \"9\": 1, \"23\": 4, \"35\": 1}}, \"W_A_3\": {\"76\": {\"76\": 4, \"90\": 1, \"60\": 1, \"45\": 2, \"38\": 2, \"22\": 1, \"88\": 1}, \"6\": {\"54\": 2, \"6\": 8}, \"108\": {\"108\": 7, \"77\": 3, \"103\": 1, \"112\": 1}, \"29\": {\"29\": 9, \"44\": 2, \"80\": 1}, \"83\": {\"83\": 12}, \"18\": {\"18\": 11, \"17\": 1}, \"54\": {\"54\": 9, \"110\": 1, \"75\": 1, \"89\": 1}, \"15\": {\"94\": 1, \"15\": 9, \"73\": 2}, \"100\": {\"100\": 6, \"46\": 1, \"55\": 1, \"50\": 1, \"92\": 1, \"84\": 2}, \"90\": {\"90\": 8, \"20\": 2, \"28\": 2}, \"26\": {\"18\": 2, \"26\": 7, \"39\": 1, \"82\": 1, \"23\": 1}, \"115\": {\"115\": 5, \"100\": 1, \"40\": 1, \"50\": 1, \"104\": 1, \"23\": 1, \"45\": 2}, \"94\": {\"6\": 1, \"54\": 1, \"7\": 1, \"75\": 2, \"59\": 1, \"94\": 4, \"25\": 1, \"125\": 1}, \"46\": {\"46\": 4, \"115\": 1, \"9\": 2, \"31\": 1, \"65\": 1, \"105\": 1, \"86\": 1, \"20\": 1}, \"121\": {\"121\": 4, \"16\": 1, \"120\": 1, \"113\": 1, \"21\": 1, \"63\": 1, \"89\": 1}, \"109\": {\"18\": 1, \"90\": 1, \"16\": 1, \"109\": 3, \"102\": 2, \"126\": 1, \"45\": 1, \"13\": 1, \"69\": 1}, \"101\": {\"8\": 1, \"101\": 7, \"78\": 1, \"106\": 1, \"7\": 2}, \"99\": {\"99\": 12}, \"8\": {\"101\": 2, \"8\": 7, \"72\": 1, \"99\": 1, \"10\": 1}, \"102\": {\"102\": 8, \"120\": 1, \"45\": 1, \"69\": 1, \"13\": 1}, \"122\": {\"9\": 1, \"31\": 1, \"96\": 1, \"87\": 1, \"65\": 2, \"44\": 1, \"43\": 1, \"10\": 1, \"1\": 1, \"13\": 1, \"122\": 1}, \"36\": {\"36\": 9, \"24\": 2, \"103\": 1}, \"113\": {\"122\": 1, \"113\": 4, \"119\": 2, \"16\": 1, \"53\": 1, \"81\": 1, \"11\": 1, \"121\": 1}, \"123\": {\"123\": 11, \"18\": 1}, \"120\": {\"120\": 11, \"93\": 1}, \"125\": {\"125\": 8, \"59\": 1, \"6\": 1}, \"89\": {\"122\": 1, \"89\": 7, \"61\": 2, \"69\": 1, \"18\": 1}, \"9\": {\"9\": 7, \"87\": 2, \"55\": 1, \"46\": 2}, \"31\": {\"31\": 8, \"4\": 2, \"80\": 1, \"90\": 1}, \"62\": {\"62\": 10, \"50\": 2}, \"49\": {\"7\": 2, \"49\": 8, \"0\": 2}, \"23\": {\"18\": 1, \"115\": 1, \"92\": 1, \"45\": 1, \"2\": 1, \"128\": 1, \"20\": 1, \"69\": 1, \"121\": 1, \"21\": 1, \"9\": 1, \"63\": 1}, \"55\": {\"55\": 6, \"86\": 1, \"4\": 1, \"29\": 1, \"80\": 1, \"9\": 2}, \"128\": {\"71\": 2, \"10\": 3, \"128\": 7}, \"71\": {\"71\": 6, \"3\": 2, \"29\": 1, \"127\": 3}, \"51\": {\"51\": 6, \"125\": 2, \"59\": 2}, \"7\": {\"7\": 11, \"101\": 1}, \"117\": {\"115\": 2, \"81\": 1, \"96\": 2, \"43\": 1, \"117\": 3, \"67\": 2, \"18\": 1}, \"28\": {\"28\": 11, \"11\": 1}, \"127\": {\"127\": 11, \"71\": 1}, \"57\": {\"57\": 7, \"96\": 1, \"120\": 1, \"53\": 2, \"129\": 1}, \"78\": {\"55\": 1, \"18\": 1, \"16\": 1, \"78\": 3, \"11\": 1, \"2\": 1, \"114\": 2, \"80\": 1, \"59\": 1}, \"87\": {\"84\": 2, \"40\": 1, \"9\": 1, \"87\": 5, \"29\": 2, \"78\": 1}, \"40\": {\"40\": 8, \"9\": 1, \"32\": 1, \"14\": 1, \"100\": 1}, \"81\": {\"81\": 6, \"39\": 2, \"117\": 1, \"96\": 1, \"2\": 1, \"123\": 1}, \"2\": {\"122\": 1, \"2\": 4, \"17\": 2, \"43\": 1, \"39\": 1, \"78\": 2, \"81\": 1}, \"58\": {\"58\": 7, \"127\": 1, \"111\": 1, \"7\": 1, \"108\": 2}, \"68\": {\"127\": 2, \"86\": 1, \"5\": 1, \"68\": 5, \"77\": 1, \"75\": 1, \"117\": 1}, \"20\": {\"20\": 9, \"9\": 1, \"44\": 1, \"46\": 1}, \"35\": {\"58\": 2, \"35\": 4, \"5\": 1, \"97\": 1, \"10\": 1, \"0\": 1, \"7\": 1, \"101\": 1}, \"96\": {\"96\": 6, \"67\": 2, \"70\": 2, \"28\": 1, \"53\": 1}, \"84\": {\"84\": 7, \"100\": 1, \"129\": 1, \"53\": 1, \"9\": 2}, \"88\": {\"65\": 1, \"103\": 1, \"88\": 2, \"21\": 1, \"117\": 2, \"43\": 1, \"113\": 1, \"8\": 1, \"86\": 1, \"87\": 1}, \"114\": {\"5\": 1, \"114\": 9, \"129\": 1, \"1\": 1}, \"103\": {\"103\": 11, \"108\": 1}, \"5\": {\"5\": 10, \"85\": 1, \"77\": 1}, \"85\": {\"85\": 10, \"65\": 1, \"86\": 1}, \"65\": {\"65\": 5, \"103\": 1, \"78\": 2, \"49\": 1, \"108\": 1, \"99\": 1, \"112\": 1}, \"13\": {\"123\": 1, \"40\": 1, \"82\": 1, \"4\": 1, \"50\": 2, \"13\": 2, \"92\": 1, \"31\": 3}, \"64\": {\"64\": 12}, \"119\": {\"119\": 9, \"113\": 2, \"67\": 1}, \"116\": {\"119\": 1, \"13\": 1, \"116\": 3, \"45\": 1, \"93\": 1, \"82\": 1}, \"112\": {\"64\": 1, \"35\": 1, \"108\": 1, \"112\": 6, \"29\": 1, \"8\": 2}, \"86\": {\"86\": 8, \"112\": 1, \"77\": 1, \"88\": 1, \"70\": 1}, \"98\": {\"98\": 11, \"83\": 1}, \"69\": {\"69\": 8, \"82\": 1, \"118\": 1, \"115\": 1, \"102\": 1}, \"67\": {\"67\": 11, \"90\": 1}, \"32\": {\"69\": 1, \"40\": 1, \"110\": 1, \"60\": 1, \"29\": 2, \"87\": 1, \"118\": 1, \"128\": 1, \"32\": 1, \"85\": 1, \"62\": 1}, \"91\": {\"99\": 1, \"91\": 3, \"98\": 1, \"97\": 2, \"28\": 1, \"58\": 1, \"48\": 2, \"3\": 1}, \"17\": {\"17\": 1, \"67\": 1, \"84\": 1, \"32\": 2, \"43\": 1, \"13\": 1, \"119\": 1, \"40\": 1, \"33\": 2, \"21\": 1}, \"37\": {\"37\": 12}, \"95\": {\"95\": 10, \"3\": 1, \"127\": 1}, \"59\": {\"59\": 12}, \"34\": {\"37\": 2, \"79\": 1, \"25\": 2, \"107\": 1, \"51\": 1, \"84\": 1, \"34\": 1, \"44\": 1, \"75\": 1, \"88\": 1}, \"52\": {\"95\": 1, \"52\": 6, \"58\": 2, \"0\": 1, \"30\": 1, \"125\": 1}, \"1\": {\"1\": 9, \"71\": 1, \"110\": 2}, \"16\": {\"113\": 2, \"11\": 1, \"16\": 3, \"93\": 1, \"79\": 1, \"14\": 1, \"126\": 1, \"33\": 1, \"17\": 1}, \"79\": {\"119\": 2, \"79\": 9, \"40\": 1}, \"53\": {\"104\": 1, \"78\": 1, \"53\": 4, \"70\": 1, \"55\": 1, \"84\": 1, \"96\": 1, \"92\": 1, \"107\": 1}, \"106\": {\"106\": 11, \"37\": 1}, \"33\": {\"33\": 7, \"16\": 3, \"93\": 1, \"107\": 1}, \"104\": {\"104\": 6, \"14\": 1, \"84\": 1, \"50\": 2, \"74\": 2}, \"14\": {\"11\": 1, \"16\": 1, \"62\": 2, \"69\": 2, \"14\": 5, \"43\": 1}, \"11\": {\"11\": 3, \"16\": 1, \"45\": 2, \"66\": 1, \"39\": 1, \"82\": 2}, \"0\": {\"98\": 1, \"106\": 1, \"49\": 1, \"0\": 5, \"111\": 1, \"25\": 1, \"127\": 1, \"42\": 1}, \"25\": {\"25\": 12}, \"22\": {\"22\": 11, \"32\": 1}, \"75\": {\"75\": 12}, \"105\": {\"105\": 7, \"1\": 2, \"129\": 1, \"9\": 1, \"109\": 1}, \"45\": {\"45\": 9, \"32\": 1, \"109\": 1, \"102\": 1}, \"92\": {\"92\": 8, \"43\": 1, \"113\": 1, \"31\": 2}, \"39\": {\"39\": 6, \"60\": 2, \"2\": 1, \"70\": 2, \"17\": 1}, \"93\": {\"93\": 12}, \"97\": {\"97\": 4, \"73\": 1, \"0\": 2, \"24\": 1, \"37\": 1, \"31\": 1, \"98\": 1, \"30\": 1}, \"73\": {\"73\": 8, \"101\": 2, \"70\": 1, \"12\": 1}, \"30\": {\"73\": 4, \"106\": 1, \"30\": 4, \"12\": 1, \"98\": 1, \"27\": 1}, \"38\": {\"38\": 9, \"75\": 1, \"45\": 1, \"126\": 1}, \"3\": {\"3\": 12}, \"110\": {\"60\": 1, \"110\": 5, \"129\": 2, \"88\": 2, \"46\": 1, \"9\": 1}, \"60\": {\"60\": 5, \"31\": 1, \"10\": 2, \"56\": 1, \"41\": 1, \"116\": 2}, \"111\": {\"111\": 10, \"58\": 1, \"97\": 1}, \"41\": {\"41\": 7, \"60\": 2, \"70\": 1, \"84\": 1, \"66\": 1}, \"21\": {\"21\": 12}, \"129\": {\"129\": 5, \"53\": 1, \"105\": 1, \"77\": 1, \"46\": 1, \"84\": 1, \"100\": 1, \"122\": 1}, \"70\": {\"86\": 1, \"53\": 1, \"8\": 2, \"117\": 1, \"70\": 3, \"44\": 1, \"83\": 1, \"112\": 2}, \"66\": {\"53\": 1, \"66\": 5, \"100\": 1, \"11\": 1, \"70\": 1, \"60\": 1, \"56\": 1, \"74\": 1}, \"107\": {\"107\": 8, \"74\": 2, \"100\": 1, \"40\": 1}, \"74\": {\"100\": 2, \"74\": 10}, \"48\": {\"111\": 1, \"66\": 1, \"4\": 1, \"89\": 1, \"63\": 2, \"48\": 2, \"72\": 1, \"69\": 1, \"20\": 1, \"126\": 1}, \"50\": {\"129\": 1, \"50\": 8, \"14\": 1, \"62\": 2}, \"44\": {\"44\": 11, \"29\": 1}, \"42\": {\"6\": 1, \"70\": 1, \"42\": 2, \"35\": 1, \"10\": 2, \"108\": 1, \"47\": 1, \"128\": 1, \"91\": 1, \"0\": 1}, \"80\": {\"80\": 10}, \"72\": {\"72\": 8, \"31\": 1, \"12\": 1, \"7\": 1, \"99\": 1}, \"43\": {\"104\": 1, \"88\": 1, \"43\": 5, \"17\": 1, \"122\": 1, \"90\": 1, \"14\": 1, \"102\": 1}, \"77\": {\"77\": 11, \"65\": 1}, \"61\": {\"61\": 10, \"126\": 1, \"21\": 1}, \"126\": {\"126\": 6, \"21\": 2, \"63\": 1, \"109\": 1, \"17\": 1, \"113\": 1}, \"27\": {\"27\": 7, \"83\": 1, \"75\": 1, \"49\": 1}, \"24\": {\"27\": 2, \"24\": 4, \"42\": 1, \"37\": 2, \"54\": 1, \"12\": 2}, \"47\": {\"47\": 7, \"3\": 1, \"56\": 1, \"44\": 1, \"127\": 1, \"46\": 1}, \"19\": {\"71\": 1, \"19\": 8, \"31\": 1, \"105\": 1, \"124\": 1}, \"4\": {\"55\": 2, \"4\": 2, \"48\": 1, \"124\": 1, \"90\": 2, \"122\": 2}, \"82\": {\"33\": 1, \"61\": 1, \"82\": 8, \"23\": 1, \"89\": 1}, \"12\": {\"12\": 10, \"72\": 1, \"103\": 1}, \"10\": {\"12\": 2, \"10\": 3, \"19\": 2, \"103\": 4, \"66\": 1}, \"63\": {\"63\": 11, \"113\": 1}, \"56\": {\"56\": 5, \"19\": 1, \"60\": 1, \"124\": 1, \"80\": 1, \"57\": 1, \"90\": 1, \"114\": 1}, \"124\": {\"4\": 1, \"48\": 1, \"124\": 6, \"128\": 1, \"85\": 1}, \"118\": {\"82\": 1, \"118\": 3, \"69\": 2, \"109\": 1, \"78\": 1, \"33\": 1, \"93\": 1}}, \"C_A_5\": {\"12\": {\"12\": 11, \"25\": 1}, \"8\": {\"8\": 12}, \"29\": {\"29\": 9, \"44\": 2, \"47\": 1}, \"57\": {\"57\": 12}, \"38\": {\"38\": 12}, \"23\": {\"23\": 10}, \"56\": {\"56\": 9, \"49\": 1}, \"49\": {\"49\": 10}, \"4\": {\"4\": 10, \"27\": 1, \"26\": 1}, \"48\": {\"1\": 1, \"48\": 8, \"50\": 1, \"32\": 2}, \"21\": {\"21\": 12}, \"30\": {\"30\": 8}, \"1\": {\"1\": 10, \"39\": 2}, \"34\": {\"34\": 12}, \"35\": {\"35\": 6}, \"55\": {\"48\": 2, \"55\": 5, \"14\": 1, \"17\": 1, \"9\": 1, \"41\": 2}, \"26\": {\"26\": 12}, \"40\": {\"28\": 1, \"40\": 7, \"19\": 2, \"5\": 2}, \"53\": {\"53\": 12}, \"46\": {\"46\": 12}, \"27\": {\"27\": 11, \"32\": 1}, \"28\": {\"28\": 9, \"33\": 1}, \"16\": {\"16\": 9, \"46\": 1}, \"2\": {\"2\": 12}, \"51\": {\"51\": 12}, \"50\": {\"54\": 3, \"27\": 3, \"51\": 1, \"32\": 1, \"45\": 2, \"7\": 1, \"39\": 1}, \"54\": {\"54\": 10}, \"5\": {\"4\": 1, \"5\": 7, \"19\": 1, \"40\": 2, \"53\": 1}, \"10\": {\"10\": 11, \"24\": 1}, \"43\": {\"43\": 9, \"13\": 1}, \"17\": {\"30\": 2, \"17\": 6, \"6\": 2, \"27\": 2}, \"45\": {\"17\": 1, \"30\": 1, \"9\": 2, \"33\": 1, \"45\": 4, \"40\": 1, \"14\": 1, \"50\": 1}, \"36\": {\"36\": 12}, \"19\": {\"19\": 8}, \"15\": {\"15\": 12}, \"20\": {\"20\": 12}, \"3\": {\"3\": 8, \"0\": 1, \"52\": 1, \"36\": 1, \"54\": 1}, \"14\": {\"2\": 3, \"53\": 1, \"32\": 1, \"14\": 4, \"49\": 2, \"27\": 1}, \"32\": {\"32\": 10, \"6\": 1, \"48\": 1}, \"7\": {\"7\": 11, \"45\": 1}, \"31\": {\"31\": 9, \"3\": 1, \"49\": 1, \"47\": 1}, \"44\": {\"44\": 10, \"29\": 1, \"34\": 1}, \"24\": {\"24\": 10}, \"39\": {\"50\": 2, \"39\": 4, \"14\": 2}, \"37\": {\"37\": 12}, \"33\": {\"33\": 12}, \"11\": {\"11\": 7, \"13\": 1}, \"18\": {\"18\": 12}, \"52\": {\"52\": 11, \"3\": 1}, \"9\": {\"53\": 1, \"9\": 10, \"41\": 1}, \"0\": {\"0\": 7, \"15\": 1}, \"6\": {\"6\": 9, \"55\": 2, \"47\": 1}, \"42\": {\"42\": 10, \"18\": 2}, \"13\": {\"13\": 8, \"10\": 1, \"42\": 1}, \"22\": {\"22\": 7, \"36\": 1}, \"25\": {\"17\": 1, \"25\": 4, \"12\": 1, \"27\": 1, \"38\": 1}, \"47\": {\"47\": 9, \"31\": 1}, \"41\": {\"41\": 8, \"6\": 2}}, \"C_A_1\": {\"27\": {\"27\": 9, \"43\": 1}, \"2\": {\"2\": 12}, \"33\": {\"33\": 10, \"34\": 1, \"55\": 1}, \"45\": {\"45\": 11, \"17\": 1}, \"38\": {\"38\": 10, \"22\": 1, \"32\": 1}, \"4\": {\"4\": 12}, \"31\": {\"24\": 1, \"31\": 11}, \"55\": {\"55\": 10, \"7\": 2}, \"32\": {\"55\": 1, \"32\": 11}, \"57\": {\"57\": 10, \"56\": 1, \"19\": 1}, \"14\": {\"30\": 1, \"14\": 9, \"8\": 1, \"5\": 1}, \"16\": {\"16\": 10}, \"34\": {\"34\": 8}, \"56\": {\"56\": 3, \"57\": 2, \"19\": 5, \"29\": 2}, \"24\": {\"24\": 6, \"22\": 3, \"11\": 1}, \"30\": {\"30\": 10}, \"26\": {\"19\": 1, \"26\": 10, \"33\": 1}, \"15\": {\"15\": 8}, \"18\": {\"18\": 12}, \"25\": {\"25\": 8, \"26\": 1, \"8\": 1}, \"54\": {\"54\": 10}, \"39\": {\"39\": 12}, \"12\": {\"12\": 12}, \"41\": {\"41\": 12}, \"52\": {\"52\": 8, \"49\": 1, \"54\": 1}, \"21\": {\"21\": 12}, \"47\": {\"47\": 10, \"35\": 2}, \"49\": {\"49\": 12}, \"19\": {\"19\": 9, \"56\": 2, \"7\": 1}, \"23\": {\"23\": 12}, \"37\": {\"37\": 12}, \"44\": {\"7\": 1, \"44\": 5, \"57\": 1, \"26\": 1, \"47\": 1, \"53\": 1}, \"22\": {\"22\": 8, \"11\": 2, \"24\": 1, \"21\": 1}, \"35\": {\"35\": 11, \"47\": 1}, \"7\": {\"7\": 10, \"3\": 1, \"55\": 1}, \"40\": {\"40\": 8}, \"6\": {\"6\": 6, \"8\": 2, \"46\": 2, \"5\": 2}, \"13\": {\"13\": 8, \"3\": 1, \"53\": 1, \"7\": 2}, \"11\": {\"22\": 1, \"11\": 8, \"52\": 1, \"28\": 1, \"0\": 1}, \"20\": {\"12\": 5, \"13\": 1, \"20\": 5, \"34\": 1}, \"8\": {\"6\": 1, \"8\": 5}, \"42\": {\"42\": 8}, \"29\": {\"19\": 1, \"29\": 7, \"45\": 1, \"40\": 1}, \"28\": {\"28\": 10}, \"17\": {\"17\": 11, \"46\": 1}, \"10\": {\"22\": 3, \"10\": 7}, \"46\": {\"46\": 5, \"48\": 2, \"33\": 1, \"50\": 1, \"2\": 1, \"6\": 2}, \"36\": {\"36\": 9, \"38\": 1, \"0\": 2}, \"43\": {\"43\": 10}, \"51\": {\"3\": 2, \"51\": 8}, \"3\": {\"3\": 6, \"42\": 1, \"14\": 1, \"56\": 1, \"7\": 1}, \"9\": {\"9\": 12}, \"50\": {\"50\": 12}, \"48\": {\"46\": 1, \"48\": 9}, \"0\": {\"0\": 10, \"36\": 2}, \"1\": {\"57\": 2, \"1\": 10}, \"5\": {\"5\": 9, \"6\": 1}, \"53\": {\"53\": 10}}, \"C_A_4\": {\"32\": {\"32\": 7, \"46\": 1, \"52\": 1, \"7\": 1}, \"2\": {\"2\": 10, \"24\": 2}, \"41\": {\"41\": 12}, \"11\": {\"11\": 8, \"16\": 1, \"10\": 1, \"43\": 1, \"0\": 1}, \"57\": {\"57\": 10}, \"6\": {\"6\": 6, \"55\": 1, \"54\": 3, \"36\": 2}, \"23\": {\"23\": 10, \"18\": 1, \"41\": 1}, \"52\": {\"52\": 12}, \"38\": {\"38\": 10}, \"50\": {\"20\": 1, \"50\": 3, \"3\": 1, \"9\": 1, \"27\": 1, \"26\": 1, \"4\": 1, \"30\": 1, \"53\": 1, \"40\": 1}, \"55\": {\"55\": 4, \"54\": 2, \"6\": 2, \"3\": 1, \"39\": 1, \"31\": 1, \"57\": 1}, \"46\": {\"46\": 9, \"32\": 2, \"0\": 1}, \"37\": {\"37\": 12}, \"20\": {\"20\": 11, \"8\": 1}, \"49\": {\"49\": 11, \"56\": 1}, \"45\": {\"45\": 11, \"50\": 1}, \"54\": {\"54\": 10, \"20\": 1, \"36\": 1}, \"3\": {\"3\": 9, \"54\": 1, \"26\": 1, \"36\": 1}, \"13\": {\"13\": 10, \"10\": 1, \"24\": 1}, \"18\": {\"18\": 11, \"41\": 1}, \"21\": {\"21\": 12}, \"43\": {\"43\": 12}, \"47\": {\"47\": 7, \"23\": 3, \"34\": 1, \"5\": 1}, \"4\": {\"4\": 10, \"19\": 1, \"33\": 1}, \"12\": {\"12\": 8}, \"9\": {\"9\": 10, \"50\": 1, \"33\": 1}, \"7\": {\"56\": 5, \"49\": 2, \"7\": 3}, \"56\": {\"7\": 1, \"56\": 8, \"6\": 1, \"46\": 1, \"5\": 1}, \"28\": {\"28\": 8, \"17\": 2}, \"44\": {\"44\": 10, \"33\": 1, \"19\": 1}, \"24\": {\"24\": 9, \"16\": 1, \"10\": 1, \"43\": 1}, \"33\": {\"33\": 8, \"19\": 2}, \"14\": {\"43\": 1, \"4\": 1, \"13\": 1, \"44\": 1, \"28\": 1, \"0\": 2, \"9\": 1, \"29\": 2, \"19\": 1, \"10\": 1}, \"25\": {\"21\": 1, \"25\": 11}, \"26\": {\"6\": 1, \"14\": 1, \"48\": 2, \"26\": 7, \"3\": 1}, \"5\": {\"52\": 2, \"5\": 5, \"34\": 2, \"46\": 2, \"54\": 1}, \"17\": {\"17\": 10}, \"31\": {\"31\": 12}, \"8\": {\"8\": 5, \"30\": 3}, \"35\": {\"4\": 1, \"35\": 3, \"3\": 1, \"29\": 1}, \"15\": {\"15\": 4, \"11\": 2}, \"19\": {\"19\": 7, \"4\": 2, \"44\": 1, \"40\": 2}, \"22\": {\"22\": 10}, \"34\": {\"34\": 11, \"36\": 1}, \"36\": {\"36\": 12}, \"51\": {\"51\": 10, \"53\": 1, \"37\": 1}, \"10\": {\"10\": 9, \"43\": 1}, \"0\": {\"0\": 9, \"24\": 1, \"15\": 2}, \"53\": {\"3\": 2, \"20\": 1, \"53\": 4, \"54\": 1, \"34\": 2}, \"29\": {\"29\": 12}, \"27\": {\"27\": 12}, \"39\": {\"39\": 7, \"42\": 2, \"28\": 1}, \"30\": {\"30\": 9, \"27\": 2, \"8\": 1}, \"48\": {\"48\": 6, \"6\": 1, \"36\": 1, \"3\": 1, \"55\": 1}, \"42\": {\"42\": 8}, \"16\": {\"16\": 9, \"52\": 1}, \"1\": {\"1\": 9, \"49\": 1}, \"40\": {\"40\": 8}}, \"C_A_3\": {\"3\": {\"9\": 2, \"21\": 1, \"30\": 1, \"3\": 2, \"41\": 1, \"36\": 1}, \"21\": {\"6\": 1, \"21\": 11}, \"7\": {\"7\": 12}, \"30\": {\"30\": 12}, \"54\": {\"54\": 11, \"50\": 1}, \"6\": {\"6\": 9, \"3\": 1, \"48\": 1, \"42\": 1}, \"17\": {\"17\": 10}, \"8\": {\"8\": 11, \"25\": 1}, \"9\": {\"9\": 12}, \"19\": {\"19\": 10, \"44\": 1, \"29\": 1}, \"44\": {\"44\": 5, \"19\": 1}, \"25\": {\"17\": 1, \"8\": 3, \"20\": 1, \"45\": 1, \"25\": 5, \"12\": 1}, \"15\": {\"15\": 12}, \"1\": {\"1\": 10}, \"13\": {\"13\": 8, \"55\": 1, \"52\": 1, \"11\": 1, \"34\": 1}, \"40\": {\"19\": 1, \"54\": 1, \"40\": 6, \"44\": 1, \"45\": 1}, \"43\": {\"43\": 8, \"10\": 2}, \"38\": {\"38\": 12}, \"4\": {\"44\": 2, \"4\": 9, \"40\": 1}, \"41\": {\"41\": 9, \"55\": 1, \"42\": 1, \"2\": 1}, \"27\": {\"27\": 11, \"12\": 1}, \"50\": {\"50\": 9, \"3\": 1, \"33\": 1, \"53\": 1}, \"55\": {\"55\": 10, \"34\": 1, \"46\": 1}, \"20\": {\"20\": 12}, \"37\": {\"37\": 12}, \"53\": {\"53\": 8}, \"0\": {\"0\": 10, \"23\": 2}, \"34\": {\"34\": 12}, \"16\": {\"16\": 12}, \"12\": {\"12\": 7, \"27\": 1, \"38\": 1, \"25\": 1}, \"46\": {\"46\": 3, \"16\": 1, \"52\": 3, \"36\": 1, \"6\": 2, \"55\": 2}, \"32\": {\"32\": 12}, \"33\": {\"33\": 11, \"42\": 1}, \"26\": {\"26\": 6, \"18\": 2, \"39\": 2}, \"11\": {\"11\": 12}, \"45\": {\"45\": 3, \"27\": 1, \"17\": 1, \"4\": 1, \"32\": 3, \"54\": 1, \"40\": 1, \"3\": 1}, \"2\": {\"2\": 10}, \"10\": {\"10\": 10}, \"14\": {\"44\": 1, \"24\": 4, \"49\": 2, \"4\": 1, \"10\": 2}, \"24\": {\"24\": 11, \"10\": 1}, \"22\": {\"22\": 7, \"31\": 1}, \"52\": {\"52\": 11, \"34\": 1}, \"29\": {\"29\": 12}, \"51\": {\"51\": 11, \"53\": 1}, \"28\": {\"28\": 11, \"5\": 1}, \"23\": {\"23\": 12}, \"48\": {\"48\": 8, \"34\": 2}, \"35\": {\"35\": 11, \"29\": 1}, \"56\": {\"56\": 7, \"49\": 1, \"13\": 2}, \"18\": {\"18\": 12}, \"5\": {\"5\": 9, \"46\": 1, \"31\": 1, \"34\": 1}, \"42\": {\"42\": 9, \"6\": 1}, \"49\": {\"49\": 10}, \"36\": {\"36\": 10}, \"39\": {\"39\": 10}, \"57\": {\"57\": 7, \"5\": 1}, \"47\": {\"47\": 8, \"29\": 1, \"32\": 1}, \"31\": {\"31\": 10}}}, \"per_domain_accuracy\": {\"ORACLE.run1_8\": {\"accuracy\": 0.7799479166666666, \"source?\": true}, \"ORACLE.run1_38\": {\"accuracy\": 0.784375, \"source?\": true}, \"ORACLE.run1_26\": {\"accuracy\": 0.57578125, \"source?\": true}, \"ORACLE.run1_20\": {\"accuracy\": 0.6950520833333333, \"source?\": true}, \"ORACLE.run1_50\": {\"accuracy\": 0.7859375, \"source?\": true}, \"ORACLE.run1_32\": {\"accuracy\": 0.7596354166666667, \"source?\": true}, \"ORACLE.run1_44\": {\"accuracy\": 0.6809895833333334, \"source?\": true}, \"ORACLE.run1_14\": {\"accuracy\": 0.8354166666666667, \"source?\": true}, \"W_A_2\": {\"accuracy\": 0.5651595744680851, \"source?\": false}, \"C_A_2\": {\"accuracy\": 0.78125, \"source?\": false}, \"W_A_4\": {\"accuracy\": 0.5592447916666666, \"source?\": false}, \"W_A_1\": {\"accuracy\": 0.626953125, \"source?\": false}, \"W_A_3\": {\"accuracy\": 0.5963541666666666, \"source?\": false}, \"C_A_5\": {\"accuracy\": 0.8359375, \"source?\": false}, \"C_A_1\": {\"accuracy\": 0.840625, \"source?\": false}, \"C_A_4\": {\"accuracy\": 0.78125, \"source?\": false}, \"C_A_3\": {\"accuracy\": 0.84375, \"source?\": false}}}, \"history\": {\"epoch_indices\": [1, 2, 3, 4, 5, 6], \"train_label_loss\": [0.9916323281070661, 0.7932883972701218, 0.641873365998756, 0.5378882260022996, 0.47949126599123704, 0.44106219224908966], \"source_val_label_loss\": [1.0445115566253662, 0.7327409386634827, 0.6073495745658875, 0.5251206755638123, 0.43784570693969727, 0.44771191477775574], \"target_val_label_loss\": [7.212521553039551, 5.647066116333008, 6.071905136108398, 6.283084392547607, 7.288854598999023, 7.2428436279296875], \"source_val_acc_label\": [0.63955078125, 0.7371419270833334, 0.77783203125, 0.8098958333333334, 0.84228515625, 0.8349283854166667], \"target_val_acc_label\": [0.6246778350515464, 0.6659149484536082, 0.6520618556701031, 0.6586125429553265, 0.663122852233677, 0.6655927835051546]}, \"dataset_metrics\": {\"source\": {\"train\": {\"n_unique_x\": 179200, \"n_unique_y\": 16, \"n_batch/episode\": 6720}, \"val\": {\"n_unique_x\": 38400, \"n_unique_y\": 16, \"n_batch/episode\": 960}, \"test\": {\"n_unique_x\": 38400, \"n_unique_y\": 16, \"n_batch/episode\": 960}}, \"target\": {\"train\": {\"n_unique_x\": 56700, \"n_unique_y\": 130, \"n_batch/episode\": 2081}, \"val\": {\"n_unique_x\": 12122, \"n_unique_y\": 130, \"n_batch/episode\": 291}, \"test\": {\"n_unique_x\": 12122, \"n_unique_y\": 130, \"n_batch/episode\": 291}}}}'"
      ]
     },
     "execution_count": 29,
     "metadata": {},
     "output_type": "execute_result"
    }
   ],
   "source": [
    "json.dumps(experiment)"
   ]
  }
 ],
 "metadata": {
  "celltoolbar": "Tags",
  "kernelspec": {
   "display_name": "Python 3 (ipykernel)",
   "language": "python",
   "name": "python3"
  },
  "language_info": {
   "codemirror_mode": {
    "name": "ipython",
    "version": 3
   },
   "file_extension": ".py",
   "mimetype": "text/x-python",
   "name": "python",
   "nbconvert_exporter": "python",
   "pygments_lexer": "ipython3",
   "version": "3.8.10"
  },
  "papermill": {
   "default_parameters": {},
   "duration": 1066.656549,
   "end_time": "2022-03-18T18:17:44.349903",
   "environment_variables": {},
   "exception": null,
   "input_path": "/mnt/wd500GB/CSC500/csc500-main/csc500-notebooks/templates/tl_ptn_template.ipynb",
   "output_path": "trial.ipynb",
   "parameters": {
    "parameters": {
     "BEST_MODEL_PATH": "./best_model.pth",
     "NUM_LOGS_PER_EPOCH": 10,
     "criteria_for_best": "target_loss",
     "dataset_seed": 154325,
     "datasets": [
      {
       "domain_prefix": "C_A_",
       "domains": [
        1,
        2,
        3,
        4,
        5
       ],
       "episode_transforms": [],
       "labels": [
        "1-10.",
        "1-11.",
        "1-15.",
        "1-16.",
        "1-17.",
        "1-18.",
        "1-19.",
        "10-4.",
        "10-7.",
        "11-1.",
        "11-14.",
        "11-17.",
        "11-20.",
        "11-7.",
        "13-20.",
        "13-8.",
        "14-10.",
        "14-11.",
        "14-14.",
        "14-7.",
        "15-1.",
        "15-20.",
        "16-1.",
        "16-16.",
        "17-10.",
        "17-11.",
        "17-2.",
        "19-1.",
        "19-16.",
        "19-19.",
        "19-20.",
        "19-3.",
        "2-10.",
        "2-11.",
        "2-17.",
        "2-18.",
        "2-20.",
        "2-3.",
        "2-4.",
        "2-5.",
        "2-6.",
        "2-7.",
        "2-8.",
        "3-13.",
        "3-18.",
        "3-3.",
        "4-1.",
        "4-10.",
        "4-11.",
        "4-19.",
        "5-5.",
        "6-15.",
        "7-10.",
        "7-14.",
        "8-18.",
        "8-20.",
        "8-3.",
        "8-8."
       ],
       "num_examples_per_domain_per_label": 100,
       "pickle_path": "/mnt/wd500GB/CSC500/csc500-main/datasets/cores.stratified_ds.2022A.pkl",
       "source_or_target_dataset": "target",
       "x_transforms": [
        "unit_mag",
        "take_200"
       ]
      },
      {
       "domain_prefix": "W_A_",
       "domains": [
        1,
        2,
        3,
        4
       ],
       "episode_transforms": [],
       "labels": [
        "1-10",
        "1-12",
        "1-14",
        "1-16",
        "1-18",
        "1-19",
        "1-8",
        "10-11",
        "10-17",
        "10-4",
        "10-7",
        "11-1",
        "11-10",
        "11-19",
        "11-20",
        "11-4",
        "11-7",
        "12-19",
        "12-20",
        "12-7",
        "13-14",
        "13-18",
        "13-19",
        "13-20",
        "13-3",
        "13-7",
        "14-10",
        "14-11",
        "14-12",
        "14-13",
        "14-14",
        "14-19",
        "14-20",
        "14-7",
        "14-8",
        "14-9",
        "15-1",
        "15-19",
        "15-6",
        "16-1",
        "16-16",
        "16-19",
        "16-20",
        "17-10",
        "17-11",
        "18-1",
        "18-10",
        "18-11",
        "18-12",
        "18-13",
        "18-14",
        "18-15",
        "18-16",
        "18-17",
        "18-19",
        "18-2",
        "18-20",
        "18-4",
        "18-5",
        "18-7",
        "18-8",
        "18-9",
        "19-1",
        "19-10",
        "19-11",
        "19-12",
        "19-13",
        "19-14",
        "19-15",
        "19-19",
        "19-2",
        "19-20",
        "19-3",
        "19-4",
        "19-6",
        "19-7",
        "19-8",
        "19-9",
        "2-1",
        "2-13",
        "2-15",
        "2-3",
        "2-4",
        "2-5",
        "2-6",
        "2-7",
        "2-8",
        "20-1",
        "20-12",
        "20-14",
        "20-15",
        "20-16",
        "20-18",
        "20-19",
        "20-20",
        "20-3",
        "20-4",
        "20-5",
        "20-7",
        "20-8",
        "3-1",
        "3-13",
        "3-18",
        "3-2",
        "3-8",
        "4-1",
        "4-10",
        "4-11",
        "5-1",
        "5-5",
        "6-1",
        "6-15",
        "6-6",
        "7-10",
        "7-11",
        "7-12",
        "7-13",
        "7-14",
        "7-7",
        "7-8",
        "7-9",
        "8-1",
        "8-13",
        "8-14",
        "8-18",
        "8-20",
        "8-3",
        "8-8",
        "9-1",
        "9-7"
       ],
       "num_examples_per_domain_per_label": 100,
       "pickle_path": "/mnt/wd500GB/CSC500/csc500-main/datasets/wisig.node3-19.stratified_ds.2022A.pkl",
       "source_or_target_dataset": "target",
       "x_transforms": [
        "unit_mag",
        "take_200"
       ]
      },
      {
       "domain_prefix": "ORACLE.run1_",
       "domains": [
        32,
        38,
        8,
        44,
        14,
        50,
        20,
        26
       ],
       "episode_transforms": [],
       "labels": [
        "3123D52",
        "3123D65",
        "3123D79",
        "3123D80",
        "3123D54",
        "3123D70",
        "3123D7B",
        "3123D89",
        "3123D58",
        "3123D76",
        "3123D7D",
        "3123EFE",
        "3123D64",
        "3123D78",
        "3123D7E",
        "3124E4A"
       ],
       "num_examples_per_domain_per_label": 2000,
       "pickle_path": "/mnt/wd500GB/CSC500/csc500-main/datasets/oracle.Run1_framed_2000Examples_stratified_ds.2022A.pkl",
       "source_or_target_dataset": "source",
       "x_transforms": [
        "unit_mag",
        "take_200",
        "resample_20Msps_to_25Msps"
       ]
      }
     ],
     "device": "cuda",
     "experiment_name": "tl_3A:oracle.run1.framed -> cores+wisig",
     "lr": 0.001,
     "n_epoch": 50,
     "n_query": 2,
     "n_shot": 3,
     "n_way": 16,
     "patience": 3,
     "seed": 154325,
     "test_k_factor": 2,
     "torch_default_dtype": "torch.float32",
     "train_k_factor": 3,
     "val_k_factor": 2,
     "x_net": [
      {
       "class": "nnReshape",
       "kargs": {
        "shape": [
         -1,
         1,
         2,
         200
        ]
       }
      },
      {
       "class": "Conv2d",
       "kargs": {
        "bias": false,
        "in_channels": 1,
        "kernel_size": [
         1,
         7
        ],
        "out_channels": 256,
        "padding": [
         0,
         3
        ]
       }
      },
      {
       "class": "ReLU",
       "kargs": {
        "inplace": true
       }
      },
      {
       "class": "BatchNorm2d",
       "kargs": {
        "num_features": 256
       }
      },
      {
       "class": "Conv2d",
       "kargs": {
        "bias": true,
        "in_channels": 256,
        "kernel_size": [
         2,
         7
        ],
        "out_channels": 80,
        "padding": [
         0,
         3
        ]
       }
      },
      {
       "class": "ReLU",
       "kargs": {
        "inplace": true
       }
      },
      {
       "class": "BatchNorm2d",
       "kargs": {
        "num_features": 80
       }
      },
      {
       "class": "Flatten",
       "kargs": {}
      },
      {
       "class": "Linear",
       "kargs": {
        "in_features": 16000,
        "out_features": 256
       }
      },
      {
       "class": "ReLU",
       "kargs": {
        "inplace": true
       }
      },
      {
       "class": "BatchNorm1d",
       "kargs": {
        "num_features": 256
       }
      },
      {
       "class": "Linear",
       "kargs": {
        "in_features": 256,
        "out_features": 256
       }
      }
     ],
     "x_shape": [
      2,
      200
     ]
    }
   },
   "start_time": "2022-03-18T17:59:57.693354",
   "version": "2.3.4"
  }
 },
 "nbformat": 4,
 "nbformat_minor": 5
}