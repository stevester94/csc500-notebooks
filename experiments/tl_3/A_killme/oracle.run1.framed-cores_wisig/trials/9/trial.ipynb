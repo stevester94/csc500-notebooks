{
 "cells": [
  {
   "cell_type": "markdown",
   "id": "9fea5f46",
   "metadata": {
    "papermill": {
     "duration": 0.017651,
     "end_time": "2022-03-18T18:37:43.863547",
     "exception": false,
     "start_time": "2022-03-18T18:37:43.845896",
     "status": "completed"
    },
    "tags": []
   },
   "source": [
    "# Transfer Learning Template"
   ]
  },
  {
   "cell_type": "code",
   "execution_count": 1,
   "id": "0902182a",
   "metadata": {
    "execution": {
     "iopub.execute_input": "2022-03-18T18:37:43.904755Z",
     "iopub.status.busy": "2022-03-18T18:37:43.901126Z",
     "iopub.status.idle": "2022-03-18T18:37:44.828183Z",
     "shell.execute_reply": "2022-03-18T18:37:44.827695Z"
    },
    "papermill": {
     "duration": 0.952146,
     "end_time": "2022-03-18T18:37:44.828297",
     "exception": false,
     "start_time": "2022-03-18T18:37:43.876151",
     "status": "completed"
    },
    "tags": []
   },
   "outputs": [],
   "source": [
    "%load_ext autoreload\n",
    "%autoreload 2\n",
    "%matplotlib inline\n",
    "\n",
    "    \n",
    "import os, json, sys, time, random\n",
    "import numpy as np\n",
    "import torch\n",
    "from torch.optim import Adam\n",
    "from  easydict import EasyDict\n",
    "import matplotlib.pyplot as plt\n",
    "\n",
    "from steves_models.steves_ptn import Steves_Prototypical_Network\n",
    "\n",
    "from steves_utils.lazy_iterable_wrapper import Lazy_Iterable_Wrapper\n",
    "from steves_utils.iterable_aggregator import Iterable_Aggregator\n",
    "from steves_utils.ptn_train_eval_test_jig import  PTN_Train_Eval_Test_Jig\n",
    "from steves_utils.torch_sequential_builder import build_sequential\n",
    "from steves_utils.torch_utils import get_dataset_metrics, ptn_confusion_by_domain_over_dataloader\n",
    "from steves_utils.utils_v2 import (per_domain_accuracy_from_confusion, get_datasets_base_path)\n",
    "from steves_utils.PTN.utils import independent_accuracy_assesment\n",
    "\n",
    "from torch.utils.data import DataLoader\n",
    "\n",
    "from steves_utils.stratified_dataset.episodic_accessor import Episodic_Accessor_Factory\n",
    "\n",
    "from steves_utils.ptn_do_report import (\n",
    "    get_loss_curve,\n",
    "    get_results_table,\n",
    "    get_parameters_table,\n",
    "    get_domain_accuracies,\n",
    ")\n",
    "\n",
    "from steves_utils.transforms import get_chained_transform"
   ]
  },
  {
   "cell_type": "markdown",
   "id": "41c840b4",
   "metadata": {
    "papermill": {
     "duration": 0.012536,
     "end_time": "2022-03-18T18:37:44.859368",
     "exception": false,
     "start_time": "2022-03-18T18:37:44.846832",
     "status": "completed"
    },
    "tags": []
   },
   "source": [
    "# Allowed Parameters\n",
    "These are allowed parameters, not defaults\n",
    "Each of these values need to be present in the injected parameters (the notebook will raise an exception if they are not present)\n",
    "\n",
    "Papermill uses the cell tag \"parameters\" to inject the real parameters below this cell.\n",
    "Enable tags to see what I mean"
   ]
  },
  {
   "cell_type": "code",
   "execution_count": 2,
   "id": "fd44eb83",
   "metadata": {
    "execution": {
     "iopub.execute_input": "2022-03-18T18:37:44.887546Z",
     "iopub.status.busy": "2022-03-18T18:37:44.885798Z",
     "iopub.status.idle": "2022-03-18T18:37:44.902290Z",
     "shell.execute_reply": "2022-03-18T18:37:44.901822Z"
    },
    "papermill": {
     "duration": 0.030374,
     "end_time": "2022-03-18T18:37:44.902384",
     "exception": false,
     "start_time": "2022-03-18T18:37:44.872010",
     "status": "completed"
    },
    "tags": []
   },
   "outputs": [],
   "source": [
    "required_parameters = {\n",
    "    \"experiment_name\",\n",
    "    \"lr\",\n",
    "    \"device\",\n",
    "    \"seed\",\n",
    "    \"dataset_seed\",\n",
    "    \"n_shot\",\n",
    "    \"n_query\",\n",
    "    \"n_way\",\n",
    "    \"train_k_factor\",\n",
    "    \"val_k_factor\",\n",
    "    \"test_k_factor\",\n",
    "    \"n_epoch\",\n",
    "    \"patience\",\n",
    "    \"criteria_for_best\",\n",
    "    \"x_net\",\n",
    "    \"datasets\",\n",
    "    \"torch_default_dtype\",\n",
    "    \"NUM_LOGS_PER_EPOCH\",\n",
    "    \"BEST_MODEL_PATH\",\n",
    "    \"x_shape\",\n",
    "}"
   ]
  },
  {
   "cell_type": "code",
   "execution_count": 3,
   "id": "fa3f0049",
   "metadata": {
    "execution": {
     "iopub.execute_input": "2022-03-18T18:37:44.932083Z",
     "iopub.status.busy": "2022-03-18T18:37:44.931808Z",
     "iopub.status.idle": "2022-03-18T18:37:44.950239Z",
     "shell.execute_reply": "2022-03-18T18:37:44.950446Z"
    },
    "papermill": {
     "duration": 0.032962,
     "end_time": "2022-03-18T18:37:44.950503",
     "exception": false,
     "start_time": "2022-03-18T18:37:44.917541",
     "status": "completed"
    },
    "tags": [
     "parameters"
    ]
   },
   "outputs": [],
   "source": [
    "from steves_utils.CORES.utils import (\n",
    "    ALL_NODES,\n",
    "    ALL_NODES_MINIMUM_1000_EXAMPLES,\n",
    "    ALL_DAYS\n",
    ")\n",
    "\n",
    "from steves_utils.ORACLE.utils_v2 import (\n",
    "    ALL_DISTANCES_FEET_NARROWED,\n",
    "    ALL_RUNS,\n",
    "    ALL_SERIAL_NUMBERS,\n",
    ")\n",
    "\n",
    "standalone_parameters = {}\n",
    "standalone_parameters[\"experiment_name\"] = \"STANDALONE PTN\"\n",
    "standalone_parameters[\"lr\"] = 0.001\n",
    "standalone_parameters[\"device\"] = \"cuda\"\n",
    "\n",
    "standalone_parameters[\"seed\"] = 1337\n",
    "standalone_parameters[\"dataset_seed\"] = 1337\n",
    "\n",
    "standalone_parameters[\"n_way\"] = 8\n",
    "standalone_parameters[\"n_shot\"] = 3\n",
    "standalone_parameters[\"n_query\"]  = 2\n",
    "standalone_parameters[\"train_k_factor\"] = 1\n",
    "standalone_parameters[\"val_k_factor\"] = 2\n",
    "standalone_parameters[\"test_k_factor\"] = 2\n",
    "\n",
    "\n",
    "standalone_parameters[\"n_epoch\"] = 50\n",
    "\n",
    "standalone_parameters[\"patience\"] = 10\n",
    "standalone_parameters[\"criteria_for_best\"] = \"source_loss\"\n",
    "\n",
    "standalone_parameters[\"datasets\"] = [\n",
    "    {\n",
    "        \"labels\": ALL_SERIAL_NUMBERS,\n",
    "        \"domains\": ALL_DISTANCES_FEET_NARROWED,\n",
    "        \"num_examples_per_domain_per_label\": 100,\n",
    "        \"pickle_path\": os.path.join(get_datasets_base_path(), \"oracle.Run1_framed_2000Examples_stratified_ds.2022A.pkl\"),\n",
    "        \"source_or_target_dataset\": \"source\",\n",
    "        \"x_transforms\": [\"unit_mag\", \"minus_two\"],\n",
    "        \"episode_transforms\": [],\n",
    "        \"domain_prefix\": \"ORACLE_\"\n",
    "    },\n",
    "    {\n",
    "        \"labels\": ALL_NODES,\n",
    "        \"domains\": ALL_DAYS,\n",
    "        \"num_examples_per_domain_per_label\": 100,\n",
    "        \"pickle_path\": os.path.join(get_datasets_base_path(), \"cores.stratified_ds.2022A.pkl\"),\n",
    "        \"source_or_target_dataset\": \"target\",\n",
    "        \"x_transforms\": [\"unit_power\", \"times_zero\"],\n",
    "        \"episode_transforms\": [],\n",
    "        \"domain_prefix\": \"CORES_\"\n",
    "    }   \n",
    "]\n",
    "\n",
    "standalone_parameters[\"torch_default_dtype\"] = \"torch.float32\" \n",
    "\n",
    "\n",
    "\n",
    "standalone_parameters[\"x_net\"] =     [\n",
    "    {\"class\": \"nnReshape\", \"kargs\": {\"shape\":[-1, 1, 2, 256]}},\n",
    "    {\"class\": \"Conv2d\", \"kargs\": { \"in_channels\":1, \"out_channels\":256, \"kernel_size\":(1,7), \"bias\":False, \"padding\":(0,3), },},\n",
    "    {\"class\": \"ReLU\", \"kargs\": {\"inplace\": True}},\n",
    "    {\"class\": \"BatchNorm2d\", \"kargs\": {\"num_features\":256}},\n",
    "\n",
    "    {\"class\": \"Conv2d\", \"kargs\": { \"in_channels\":256, \"out_channels\":80, \"kernel_size\":(2,7), \"bias\":True, \"padding\":(0,3), },},\n",
    "    {\"class\": \"ReLU\", \"kargs\": {\"inplace\": True}},\n",
    "    {\"class\": \"BatchNorm2d\", \"kargs\": {\"num_features\":80}},\n",
    "    {\"class\": \"Flatten\", \"kargs\": {}},\n",
    "\n",
    "    {\"class\": \"Linear\", \"kargs\": {\"in_features\": 80*256, \"out_features\": 256}}, # 80 units per IQ pair\n",
    "    {\"class\": \"ReLU\", \"kargs\": {\"inplace\": True}},\n",
    "    {\"class\": \"BatchNorm1d\", \"kargs\": {\"num_features\":256}},\n",
    "\n",
    "    {\"class\": \"Linear\", \"kargs\": {\"in_features\": 256, \"out_features\": 256}},\n",
    "]\n",
    "\n",
    "# Parameters relevant to results\n",
    "# These parameters will basically never need to change\n",
    "standalone_parameters[\"NUM_LOGS_PER_EPOCH\"] = 10\n",
    "standalone_parameters[\"BEST_MODEL_PATH\"] = \"./best_model.pth\"\n",
    "\n",
    "\n",
    "\n",
    "\n"
   ]
  },
  {
   "cell_type": "code",
   "execution_count": 4,
   "id": "19df28e7",
   "metadata": {
    "execution": {
     "iopub.execute_input": "2022-03-18T18:37:44.992326Z",
     "iopub.status.busy": "2022-03-18T18:37:44.983805Z",
     "iopub.status.idle": "2022-03-18T18:37:45.003491Z",
     "shell.execute_reply": "2022-03-18T18:37:45.003245Z"
    },
    "papermill": {
     "duration": 0.039769,
     "end_time": "2022-03-18T18:37:45.003540",
     "exception": false,
     "start_time": "2022-03-18T18:37:44.963771",
     "status": "completed"
    },
    "tags": [
     "injected-parameters"
    ]
   },
   "outputs": [],
   "source": [
    "# Parameters\n",
    "parameters = {\n",
    "    \"experiment_name\": \"tl_3A:oracle.run1.framed -> cores+wisig\",\n",
    "    \"device\": \"cuda\",\n",
    "    \"lr\": 0.001,\n",
    "    \"seed\": 7,\n",
    "    \"dataset_seed\": 7,\n",
    "    \"x_shape\": [2, 200],\n",
    "    \"n_shot\": 3,\n",
    "    \"n_query\": 2,\n",
    "    \"train_k_factor\": 3,\n",
    "    \"val_k_factor\": 2,\n",
    "    \"test_k_factor\": 2,\n",
    "    \"torch_default_dtype\": \"torch.float32\",\n",
    "    \"n_epoch\": 50,\n",
    "    \"patience\": 3,\n",
    "    \"criteria_for_best\": \"target_loss\",\n",
    "    \"x_net\": [\n",
    "        {\"class\": \"nnReshape\", \"kargs\": {\"shape\": [-1, 1, 2, 200]}},\n",
    "        {\n",
    "            \"class\": \"Conv2d\",\n",
    "            \"kargs\": {\n",
    "                \"in_channels\": 1,\n",
    "                \"out_channels\": 256,\n",
    "                \"kernel_size\": [1, 7],\n",
    "                \"bias\": False,\n",
    "                \"padding\": [0, 3],\n",
    "            },\n",
    "        },\n",
    "        {\"class\": \"ReLU\", \"kargs\": {\"inplace\": True}},\n",
    "        {\"class\": \"BatchNorm2d\", \"kargs\": {\"num_features\": 256}},\n",
    "        {\n",
    "            \"class\": \"Conv2d\",\n",
    "            \"kargs\": {\n",
    "                \"in_channels\": 256,\n",
    "                \"out_channels\": 80,\n",
    "                \"kernel_size\": [2, 7],\n",
    "                \"bias\": True,\n",
    "                \"padding\": [0, 3],\n",
    "            },\n",
    "        },\n",
    "        {\"class\": \"ReLU\", \"kargs\": {\"inplace\": True}},\n",
    "        {\"class\": \"BatchNorm2d\", \"kargs\": {\"num_features\": 80}},\n",
    "        {\"class\": \"Flatten\", \"kargs\": {}},\n",
    "        {\"class\": \"Linear\", \"kargs\": {\"in_features\": 16000, \"out_features\": 256}},\n",
    "        {\"class\": \"ReLU\", \"kargs\": {\"inplace\": True}},\n",
    "        {\"class\": \"BatchNorm1d\", \"kargs\": {\"num_features\": 256}},\n",
    "        {\"class\": \"Linear\", \"kargs\": {\"in_features\": 256, \"out_features\": 256}},\n",
    "    ],\n",
    "    \"NUM_LOGS_PER_EPOCH\": 10,\n",
    "    \"BEST_MODEL_PATH\": \"./best_model.pth\",\n",
    "    \"n_way\": 16,\n",
    "    \"datasets\": [\n",
    "        {\n",
    "            \"labels\": [\n",
    "                \"1-10.\",\n",
    "                \"1-11.\",\n",
    "                \"1-15.\",\n",
    "                \"1-16.\",\n",
    "                \"1-17.\",\n",
    "                \"1-18.\",\n",
    "                \"1-19.\",\n",
    "                \"10-4.\",\n",
    "                \"10-7.\",\n",
    "                \"11-1.\",\n",
    "                \"11-14.\",\n",
    "                \"11-17.\",\n",
    "                \"11-20.\",\n",
    "                \"11-7.\",\n",
    "                \"13-20.\",\n",
    "                \"13-8.\",\n",
    "                \"14-10.\",\n",
    "                \"14-11.\",\n",
    "                \"14-14.\",\n",
    "                \"14-7.\",\n",
    "                \"15-1.\",\n",
    "                \"15-20.\",\n",
    "                \"16-1.\",\n",
    "                \"16-16.\",\n",
    "                \"17-10.\",\n",
    "                \"17-11.\",\n",
    "                \"17-2.\",\n",
    "                \"19-1.\",\n",
    "                \"19-16.\",\n",
    "                \"19-19.\",\n",
    "                \"19-20.\",\n",
    "                \"19-3.\",\n",
    "                \"2-10.\",\n",
    "                \"2-11.\",\n",
    "                \"2-17.\",\n",
    "                \"2-18.\",\n",
    "                \"2-20.\",\n",
    "                \"2-3.\",\n",
    "                \"2-4.\",\n",
    "                \"2-5.\",\n",
    "                \"2-6.\",\n",
    "                \"2-7.\",\n",
    "                \"2-8.\",\n",
    "                \"3-13.\",\n",
    "                \"3-18.\",\n",
    "                \"3-3.\",\n",
    "                \"4-1.\",\n",
    "                \"4-10.\",\n",
    "                \"4-11.\",\n",
    "                \"4-19.\",\n",
    "                \"5-5.\",\n",
    "                \"6-15.\",\n",
    "                \"7-10.\",\n",
    "                \"7-14.\",\n",
    "                \"8-18.\",\n",
    "                \"8-20.\",\n",
    "                \"8-3.\",\n",
    "                \"8-8.\",\n",
    "            ],\n",
    "            \"domains\": [1, 2, 3, 4, 5],\n",
    "            \"num_examples_per_domain_per_label\": 100,\n",
    "            \"pickle_path\": \"/mnt/wd500GB/CSC500/csc500-main/datasets/cores.stratified_ds.2022A.pkl\",\n",
    "            \"source_or_target_dataset\": \"target\",\n",
    "            \"x_transforms\": [\"unit_power\", \"take_200\"],\n",
    "            \"episode_transforms\": [],\n",
    "            \"domain_prefix\": \"C_A_\",\n",
    "        },\n",
    "        {\n",
    "            \"labels\": [\n",
    "                \"1-10\",\n",
    "                \"1-12\",\n",
    "                \"1-14\",\n",
    "                \"1-16\",\n",
    "                \"1-18\",\n",
    "                \"1-19\",\n",
    "                \"1-8\",\n",
    "                \"10-11\",\n",
    "                \"10-17\",\n",
    "                \"10-4\",\n",
    "                \"10-7\",\n",
    "                \"11-1\",\n",
    "                \"11-10\",\n",
    "                \"11-19\",\n",
    "                \"11-20\",\n",
    "                \"11-4\",\n",
    "                \"11-7\",\n",
    "                \"12-19\",\n",
    "                \"12-20\",\n",
    "                \"12-7\",\n",
    "                \"13-14\",\n",
    "                \"13-18\",\n",
    "                \"13-19\",\n",
    "                \"13-20\",\n",
    "                \"13-3\",\n",
    "                \"13-7\",\n",
    "                \"14-10\",\n",
    "                \"14-11\",\n",
    "                \"14-12\",\n",
    "                \"14-13\",\n",
    "                \"14-14\",\n",
    "                \"14-19\",\n",
    "                \"14-20\",\n",
    "                \"14-7\",\n",
    "                \"14-8\",\n",
    "                \"14-9\",\n",
    "                \"15-1\",\n",
    "                \"15-19\",\n",
    "                \"15-6\",\n",
    "                \"16-1\",\n",
    "                \"16-16\",\n",
    "                \"16-19\",\n",
    "                \"16-20\",\n",
    "                \"17-10\",\n",
    "                \"17-11\",\n",
    "                \"18-1\",\n",
    "                \"18-10\",\n",
    "                \"18-11\",\n",
    "                \"18-12\",\n",
    "                \"18-13\",\n",
    "                \"18-14\",\n",
    "                \"18-15\",\n",
    "                \"18-16\",\n",
    "                \"18-17\",\n",
    "                \"18-19\",\n",
    "                \"18-2\",\n",
    "                \"18-20\",\n",
    "                \"18-4\",\n",
    "                \"18-5\",\n",
    "                \"18-7\",\n",
    "                \"18-8\",\n",
    "                \"18-9\",\n",
    "                \"19-1\",\n",
    "                \"19-10\",\n",
    "                \"19-11\",\n",
    "                \"19-12\",\n",
    "                \"19-13\",\n",
    "                \"19-14\",\n",
    "                \"19-15\",\n",
    "                \"19-19\",\n",
    "                \"19-2\",\n",
    "                \"19-20\",\n",
    "                \"19-3\",\n",
    "                \"19-4\",\n",
    "                \"19-6\",\n",
    "                \"19-7\",\n",
    "                \"19-8\",\n",
    "                \"19-9\",\n",
    "                \"2-1\",\n",
    "                \"2-13\",\n",
    "                \"2-15\",\n",
    "                \"2-3\",\n",
    "                \"2-4\",\n",
    "                \"2-5\",\n",
    "                \"2-6\",\n",
    "                \"2-7\",\n",
    "                \"2-8\",\n",
    "                \"20-1\",\n",
    "                \"20-12\",\n",
    "                \"20-14\",\n",
    "                \"20-15\",\n",
    "                \"20-16\",\n",
    "                \"20-18\",\n",
    "                \"20-19\",\n",
    "                \"20-20\",\n",
    "                \"20-3\",\n",
    "                \"20-4\",\n",
    "                \"20-5\",\n",
    "                \"20-7\",\n",
    "                \"20-8\",\n",
    "                \"3-1\",\n",
    "                \"3-13\",\n",
    "                \"3-18\",\n",
    "                \"3-2\",\n",
    "                \"3-8\",\n",
    "                \"4-1\",\n",
    "                \"4-10\",\n",
    "                \"4-11\",\n",
    "                \"5-1\",\n",
    "                \"5-5\",\n",
    "                \"6-1\",\n",
    "                \"6-15\",\n",
    "                \"6-6\",\n",
    "                \"7-10\",\n",
    "                \"7-11\",\n",
    "                \"7-12\",\n",
    "                \"7-13\",\n",
    "                \"7-14\",\n",
    "                \"7-7\",\n",
    "                \"7-8\",\n",
    "                \"7-9\",\n",
    "                \"8-1\",\n",
    "                \"8-13\",\n",
    "                \"8-14\",\n",
    "                \"8-18\",\n",
    "                \"8-20\",\n",
    "                \"8-3\",\n",
    "                \"8-8\",\n",
    "                \"9-1\",\n",
    "                \"9-7\",\n",
    "            ],\n",
    "            \"domains\": [1, 2, 3, 4],\n",
    "            \"num_examples_per_domain_per_label\": 100,\n",
    "            \"pickle_path\": \"/mnt/wd500GB/CSC500/csc500-main/datasets/wisig.node3-19.stratified_ds.2022A.pkl\",\n",
    "            \"source_or_target_dataset\": \"target\",\n",
    "            \"x_transforms\": [\"unit_power\", \"take_200\"],\n",
    "            \"episode_transforms\": [],\n",
    "            \"domain_prefix\": \"W_A_\",\n",
    "        },\n",
    "        {\n",
    "            \"labels\": [\n",
    "                \"3123D52\",\n",
    "                \"3123D65\",\n",
    "                \"3123D79\",\n",
    "                \"3123D80\",\n",
    "                \"3123D54\",\n",
    "                \"3123D70\",\n",
    "                \"3123D7B\",\n",
    "                \"3123D89\",\n",
    "                \"3123D58\",\n",
    "                \"3123D76\",\n",
    "                \"3123D7D\",\n",
    "                \"3123EFE\",\n",
    "                \"3123D64\",\n",
    "                \"3123D78\",\n",
    "                \"3123D7E\",\n",
    "                \"3124E4A\",\n",
    "            ],\n",
    "            \"domains\": [32, 38, 8, 44, 14, 50, 20, 26],\n",
    "            \"num_examples_per_domain_per_label\": 2000,\n",
    "            \"pickle_path\": \"/mnt/wd500GB/CSC500/csc500-main/datasets/oracle.Run1_framed_2000Examples_stratified_ds.2022A.pkl\",\n",
    "            \"source_or_target_dataset\": \"source\",\n",
    "            \"x_transforms\": [\"unit_power\", \"take_200\", \"resample_20Msps_to_25Msps\"],\n",
    "            \"episode_transforms\": [],\n",
    "            \"domain_prefix\": \"ORACLE.run1_\",\n",
    "        },\n",
    "    ],\n",
    "}\n"
   ]
  },
  {
   "cell_type": "code",
   "execution_count": 5,
   "id": "8fa1cc33",
   "metadata": {
    "execution": {
     "iopub.execute_input": "2022-03-18T18:37:45.033699Z",
     "iopub.status.busy": "2022-03-18T18:37:45.033451Z",
     "iopub.status.idle": "2022-03-18T18:37:45.047673Z",
     "shell.execute_reply": "2022-03-18T18:37:45.047269Z"
    },
    "papermill": {
     "duration": 0.030903,
     "end_time": "2022-03-18T18:37:45.047762",
     "exception": false,
     "start_time": "2022-03-18T18:37:45.016859",
     "status": "completed"
    },
    "tags": []
   },
   "outputs": [],
   "source": [
    "# Set this to True if you want to run this template directly\n",
    "STANDALONE = False\n",
    "if STANDALONE:\n",
    "    print(\"parameters not injected, running with standalone_parameters\")\n",
    "    parameters = standalone_parameters\n",
    "\n",
    "if not 'parameters' in locals() and not 'parameters' in globals():\n",
    "    raise Exception(\"Parameter injection failed\")\n",
    "\n",
    "#Use an easy dict for all the parameters\n",
    "p = EasyDict(parameters)\n",
    "\n",
    "if \"x_shape\" not in p:\n",
    "    p.x_shape = [2,256] # Default to this if we dont supply x_shape\n",
    "\n",
    "\n",
    "supplied_keys = set(p.keys())\n",
    "\n",
    "if  supplied_keys != required_parameters:\n",
    "    print(\"Parameters are incorrect\")\n",
    "    if len(supplied_keys - required_parameters)>0: print(\"Shouldn't have:\", str(supplied_keys - required_parameters))\n",
    "    if len(required_parameters - supplied_keys)>0: print(\"Need to have:\", str(required_parameters - supplied_keys))\n",
    "    raise RuntimeError(\"Parameters are incorrect\")"
   ]
  },
  {
   "cell_type": "code",
   "execution_count": 6,
   "id": "3a028d58",
   "metadata": {
    "execution": {
     "iopub.execute_input": "2022-03-18T18:37:45.080724Z",
     "iopub.status.busy": "2022-03-18T18:37:45.080476Z",
     "iopub.status.idle": "2022-03-18T18:37:45.091186Z",
     "shell.execute_reply": "2022-03-18T18:37:45.090741Z"
    },
    "papermill": {
     "duration": 0.026069,
     "end_time": "2022-03-18T18:37:45.091287",
     "exception": false,
     "start_time": "2022-03-18T18:37:45.065218",
     "status": "completed"
    },
    "tags": []
   },
   "outputs": [],
   "source": [
    "###################################\n",
    "# Set the RNGs and make it all deterministic\n",
    "###################################\n",
    "np.random.seed(p.seed)\n",
    "random.seed(p.seed)\n",
    "torch.manual_seed(p.seed)\n",
    "\n",
    "torch.use_deterministic_algorithms(True) "
   ]
  },
  {
   "cell_type": "code",
   "execution_count": 7,
   "id": "b691acf6",
   "metadata": {
    "execution": {
     "iopub.execute_input": "2022-03-18T18:37:45.123998Z",
     "iopub.status.busy": "2022-03-18T18:37:45.123754Z",
     "iopub.status.idle": "2022-03-18T18:37:45.137557Z",
     "shell.execute_reply": "2022-03-18T18:37:45.137114Z"
    },
    "papermill": {
     "duration": 0.029193,
     "end_time": "2022-03-18T18:37:45.137647",
     "exception": false,
     "start_time": "2022-03-18T18:37:45.108454",
     "status": "completed"
    },
    "tags": []
   },
   "outputs": [],
   "source": [
    "###########################################\n",
    "# The stratified datasets honor this\n",
    "###########################################\n",
    "torch.set_default_dtype(eval(p.torch_default_dtype))"
   ]
  },
  {
   "cell_type": "code",
   "execution_count": 8,
   "id": "b5fba671",
   "metadata": {
    "execution": {
     "iopub.execute_input": "2022-03-18T18:37:45.171531Z",
     "iopub.status.busy": "2022-03-18T18:37:45.171285Z",
     "iopub.status.idle": "2022-03-18T18:37:45.201418Z",
     "shell.execute_reply": "2022-03-18T18:37:45.200978Z"
    },
    "papermill": {
     "duration": 0.045794,
     "end_time": "2022-03-18T18:37:45.201509",
     "exception": false,
     "start_time": "2022-03-18T18:37:45.155715",
     "status": "completed"
    },
    "tags": []
   },
   "outputs": [],
   "source": [
    "###################################\n",
    "# Build the network(s)\n",
    "# Note: It's critical to do this AFTER setting the RNG\n",
    "###################################\n",
    "x_net = build_sequential(p.x_net)"
   ]
  },
  {
   "cell_type": "code",
   "execution_count": 9,
   "id": "5d7e61cc",
   "metadata": {
    "execution": {
     "iopub.execute_input": "2022-03-18T18:37:45.235798Z",
     "iopub.status.busy": "2022-03-18T18:37:45.235555Z",
     "iopub.status.idle": "2022-03-18T18:37:45.250263Z",
     "shell.execute_reply": "2022-03-18T18:37:45.249819Z"
    },
    "papermill": {
     "duration": 0.030489,
     "end_time": "2022-03-18T18:37:45.250351",
     "exception": false,
     "start_time": "2022-03-18T18:37:45.219862",
     "status": "completed"
    },
    "tags": []
   },
   "outputs": [],
   "source": [
    "start_time_secs = time.time()"
   ]
  },
  {
   "cell_type": "code",
   "execution_count": 10,
   "id": "c6b67dfd",
   "metadata": {
    "execution": {
     "iopub.execute_input": "2022-03-18T18:37:45.283934Z",
     "iopub.status.busy": "2022-03-18T18:37:45.283689Z",
     "iopub.status.idle": "2022-03-18T18:37:45.293881Z",
     "shell.execute_reply": "2022-03-18T18:37:45.294194Z"
    },
    "papermill": {
     "duration": 0.025922,
     "end_time": "2022-03-18T18:37:45.294301",
     "exception": false,
     "start_time": "2022-03-18T18:37:45.268379",
     "status": "completed"
    },
    "tags": []
   },
   "outputs": [],
   "source": [
    "p.domains_source = []\n",
    "p.domains_target = []\n",
    "\n",
    "\n",
    "train_original_source = []\n",
    "val_original_source   = []\n",
    "test_original_source  = []\n",
    "\n",
    "train_original_target = []\n",
    "val_original_target   = []\n",
    "test_original_target  = []"
   ]
  },
  {
   "cell_type": "code",
   "execution_count": 11,
   "id": "e3d9c3d3",
   "metadata": {
    "execution": {
     "iopub.execute_input": "2022-03-18T18:37:45.328050Z",
     "iopub.status.busy": "2022-03-18T18:37:45.327801Z",
     "iopub.status.idle": "2022-03-18T18:37:45.337630Z",
     "shell.execute_reply": "2022-03-18T18:37:45.337189Z"
    },
    "papermill": {
     "duration": 0.025329,
     "end_time": "2022-03-18T18:37:45.337718",
     "exception": false,
     "start_time": "2022-03-18T18:37:45.312389",
     "status": "completed"
    },
    "tags": []
   },
   "outputs": [],
   "source": [
    "# global_x_transform_func = lambda x: normalize(x.to(torch.get_default_dtype()), \"unit_power\") # unit_power, unit_mag\n",
    "# global_x_transform_func = lambda x: normalize(x, \"unit_power\") # unit_power, unit_mag"
   ]
  },
  {
   "cell_type": "code",
   "execution_count": 12,
   "id": "acb78fd2",
   "metadata": {
    "execution": {
     "iopub.execute_input": "2022-03-18T18:37:45.375068Z",
     "iopub.status.busy": "2022-03-18T18:37:45.374807Z",
     "iopub.status.idle": "2022-03-18T18:37:45.385433Z",
     "shell.execute_reply": "2022-03-18T18:37:45.384986Z"
    },
    "papermill": {
     "duration": 0.029118,
     "end_time": "2022-03-18T18:37:45.385523",
     "exception": false,
     "start_time": "2022-03-18T18:37:45.356405",
     "status": "completed"
    },
    "tags": []
   },
   "outputs": [],
   "source": [
    "def add_dataset(\n",
    "    labels,\n",
    "    domains,\n",
    "    pickle_path,\n",
    "    x_transforms,\n",
    "    episode_transforms,\n",
    "    domain_prefix,\n",
    "    num_examples_per_domain_per_label,\n",
    "    source_or_target_dataset:str,\n",
    "    iterator_seed=p.seed,\n",
    "    dataset_seed=p.dataset_seed,\n",
    "    n_shot=p.n_shot,\n",
    "    n_way=p.n_way,\n",
    "    n_query=p.n_query,\n",
    "    train_val_test_k_factors=(p.train_k_factor,p.val_k_factor,p.test_k_factor),\n",
    "):\n",
    "   \n",
    "    if x_transforms == []: x_transform = None\n",
    "    else: x_transform = get_chained_transform(x_transforms)\n",
    "    \n",
    "    if episode_transforms == []: episode_transform = None\n",
    "    else: raise Exception(\"episode_transforms not implemented\")\n",
    "    \n",
    "    episode_transform = lambda tup, _prefix=domain_prefix: (_prefix + str(tup[0]), tup[1])\n",
    "\n",
    "\n",
    "    eaf = Episodic_Accessor_Factory(\n",
    "        labels=labels,\n",
    "        domains=domains,\n",
    "        num_examples_per_domain_per_label=num_examples_per_domain_per_label,\n",
    "        iterator_seed=iterator_seed,\n",
    "        dataset_seed=dataset_seed,\n",
    "        n_shot=n_shot,\n",
    "        n_way=n_way,\n",
    "        n_query=n_query,\n",
    "        train_val_test_k_factors=train_val_test_k_factors,\n",
    "        pickle_path=pickle_path,\n",
    "        x_transform_func=x_transform,\n",
    "    )\n",
    "\n",
    "    train, val, test = eaf.get_train(), eaf.get_val(), eaf.get_test()\n",
    "    train = Lazy_Iterable_Wrapper(train, episode_transform)\n",
    "    val = Lazy_Iterable_Wrapper(val, episode_transform)\n",
    "    test = Lazy_Iterable_Wrapper(test, episode_transform)\n",
    "\n",
    "    if source_or_target_dataset==\"source\":\n",
    "        train_original_source.append(train)\n",
    "        val_original_source.append(val)\n",
    "        test_original_source.append(test)\n",
    "\n",
    "        p.domains_source.extend(\n",
    "            [domain_prefix + str(u) for u in domains]\n",
    "        )\n",
    "    elif source_or_target_dataset==\"target\":\n",
    "        train_original_target.append(train)\n",
    "        val_original_target.append(val)\n",
    "        test_original_target.append(test)\n",
    "        p.domains_target.extend(\n",
    "            [domain_prefix + str(u) for u in domains]\n",
    "        )\n",
    "    else:\n",
    "        raise Exception(f\"invalid source_or_target_dataset: {source_or_target_dataset}\")\n",
    "    "
   ]
  },
  {
   "cell_type": "code",
   "execution_count": 13,
   "id": "fe266617",
   "metadata": {
    "execution": {
     "iopub.execute_input": "2022-03-18T18:37:45.419835Z",
     "iopub.status.busy": "2022-03-18T18:37:45.419591Z",
     "iopub.status.idle": "2022-03-18T18:38:23.251060Z",
     "shell.execute_reply": "2022-03-18T18:38:23.250658Z"
    },
    "papermill": {
     "duration": 37.846961,
     "end_time": "2022-03-18T18:38:23.251165",
     "exception": false,
     "start_time": "2022-03-18T18:37:45.404204",
     "status": "completed"
    },
    "tags": []
   },
   "outputs": [],
   "source": [
    "for ds in p.datasets:\n",
    "    add_dataset(**ds)"
   ]
  },
  {
   "cell_type": "code",
   "execution_count": 14,
   "id": "b90d65ac",
   "metadata": {
    "execution": {
     "iopub.execute_input": "2022-03-18T18:38:23.284387Z",
     "iopub.status.busy": "2022-03-18T18:38:23.284136Z",
     "iopub.status.idle": "2022-03-18T18:38:23.298802Z",
     "shell.execute_reply": "2022-03-18T18:38:23.298417Z"
    },
    "papermill": {
     "duration": 0.029826,
     "end_time": "2022-03-18T18:38:23.298891",
     "exception": false,
     "start_time": "2022-03-18T18:38:23.269065",
     "status": "completed"
    },
    "tags": []
   },
   "outputs": [],
   "source": [
    "# from steves_utils.CORES.utils import (\n",
    "#     ALL_NODES,\n",
    "#     ALL_NODES_MINIMUM_1000_EXAMPLES,\n",
    "#     ALL_DAYS\n",
    "# )\n",
    "\n",
    "# add_dataset(\n",
    "#     labels=ALL_NODES,\n",
    "#     domains = ALL_DAYS,\n",
    "#     num_examples_per_domain_per_label=100,\n",
    "#     pickle_path=os.path.join(get_datasets_base_path(), \"cores.stratified_ds.2022A.pkl\"),\n",
    "#     source_or_target_dataset=\"target\",\n",
    "#     x_transform_func=global_x_transform_func,\n",
    "#     domain_modifier=lambda u: f\"cores_{u}\"\n",
    "# )"
   ]
  },
  {
   "cell_type": "code",
   "execution_count": 15,
   "id": "76db484d",
   "metadata": {
    "execution": {
     "iopub.execute_input": "2022-03-18T18:38:23.331589Z",
     "iopub.status.busy": "2022-03-18T18:38:23.331338Z",
     "iopub.status.idle": "2022-03-18T18:38:23.341714Z",
     "shell.execute_reply": "2022-03-18T18:38:23.341273Z"
    },
    "papermill": {
     "duration": 0.025183,
     "end_time": "2022-03-18T18:38:23.341802",
     "exception": false,
     "start_time": "2022-03-18T18:38:23.316619",
     "status": "completed"
    },
    "tags": []
   },
   "outputs": [],
   "source": [
    "# from steves_utils.ORACLE.utils_v2 import (\n",
    "#     ALL_DISTANCES_FEET,\n",
    "#     ALL_RUNS,\n",
    "#     ALL_SERIAL_NUMBERS,\n",
    "# )\n",
    "\n",
    "\n",
    "# add_dataset(\n",
    "#     labels=ALL_SERIAL_NUMBERS,\n",
    "#     domains = list(set(ALL_DISTANCES_FEET) - {2,62}),\n",
    "#     num_examples_per_domain_per_label=100,\n",
    "#     pickle_path=os.path.join(get_datasets_base_path(), \"oracle.Run2_framed_2000Examples_stratified_ds.2022A.pkl\"),\n",
    "#     source_or_target_dataset=\"source\",\n",
    "#     x_transform_func=global_x_transform_func,\n",
    "#     domain_modifier=lambda u: f\"oracle1_{u}\"\n",
    "# )\n"
   ]
  },
  {
   "cell_type": "code",
   "execution_count": 16,
   "id": "97dea9d2",
   "metadata": {
    "execution": {
     "iopub.execute_input": "2022-03-18T18:38:23.375750Z",
     "iopub.status.busy": "2022-03-18T18:38:23.375505Z",
     "iopub.status.idle": "2022-03-18T18:38:23.390207Z",
     "shell.execute_reply": "2022-03-18T18:38:23.389804Z"
    },
    "papermill": {
     "duration": 0.030043,
     "end_time": "2022-03-18T18:38:23.390300",
     "exception": false,
     "start_time": "2022-03-18T18:38:23.360257",
     "status": "completed"
    },
    "tags": []
   },
   "outputs": [],
   "source": [
    "# from steves_utils.ORACLE.utils_v2 import (\n",
    "#     ALL_DISTANCES_FEET,\n",
    "#     ALL_RUNS,\n",
    "#     ALL_SERIAL_NUMBERS,\n",
    "# )\n",
    "\n",
    "\n",
    "# add_dataset(\n",
    "#     labels=ALL_SERIAL_NUMBERS,\n",
    "#     domains = list(set(ALL_DISTANCES_FEET) - {2,62,56}),\n",
    "#     num_examples_per_domain_per_label=100,\n",
    "#     pickle_path=os.path.join(get_datasets_base_path(), \"oracle.Run2_framed_2000Examples_stratified_ds.2022A.pkl\"),\n",
    "#     source_or_target_dataset=\"source\",\n",
    "#     x_transform_func=global_x_transform_func,\n",
    "#     domain_modifier=lambda u: f\"oracle2_{u}\"\n",
    "# )"
   ]
  },
  {
   "cell_type": "code",
   "execution_count": 17,
   "id": "6f289866",
   "metadata": {
    "execution": {
     "iopub.execute_input": "2022-03-18T18:38:23.423979Z",
     "iopub.status.busy": "2022-03-18T18:38:23.423734Z",
     "iopub.status.idle": "2022-03-18T18:38:23.433461Z",
     "shell.execute_reply": "2022-03-18T18:38:23.433223Z"
    },
    "papermill": {
     "duration": 0.024956,
     "end_time": "2022-03-18T18:38:23.433512",
     "exception": false,
     "start_time": "2022-03-18T18:38:23.408556",
     "status": "completed"
    },
    "tags": []
   },
   "outputs": [],
   "source": [
    "# add_dataset(\n",
    "#     labels=list(range(19)),\n",
    "#     domains = [0,1,2],\n",
    "#     num_examples_per_domain_per_label=100,\n",
    "#     pickle_path=os.path.join(get_datasets_base_path(), \"metehan.stratified_ds.2022A.pkl\"),\n",
    "#     source_or_target_dataset=\"target\",\n",
    "#     x_transform_func=global_x_transform_func,\n",
    "#     domain_modifier=lambda u: f\"met_{u}\"\n",
    "# )"
   ]
  },
  {
   "cell_type": "code",
   "execution_count": 18,
   "id": "86a863c3",
   "metadata": {
    "execution": {
     "iopub.execute_input": "2022-03-18T18:38:23.465207Z",
     "iopub.status.busy": "2022-03-18T18:38:23.464960Z",
     "iopub.status.idle": "2022-03-18T18:38:23.474384Z",
     "shell.execute_reply": "2022-03-18T18:38:23.474581Z"
    },
    "papermill": {
     "duration": 0.025108,
     "end_time": "2022-03-18T18:38:23.474637",
     "exception": false,
     "start_time": "2022-03-18T18:38:23.449529",
     "status": "completed"
    },
    "tags": []
   },
   "outputs": [],
   "source": [
    "# # from steves_utils.wisig.utils import (\n",
    "# #     ALL_NODES_MINIMUM_100_EXAMPLES,\n",
    "# #     ALL_NODES_MINIMUM_500_EXAMPLES,\n",
    "# #     ALL_NODES_MINIMUM_1000_EXAMPLES,\n",
    "# #     ALL_DAYS\n",
    "# # )\n",
    "\n",
    "# import steves_utils.wisig.utils as wisig\n",
    "\n",
    "\n",
    "# add_dataset(\n",
    "#     labels=wisig.ALL_NODES_MINIMUM_100_EXAMPLES,\n",
    "#     domains = wisig.ALL_DAYS,\n",
    "#     num_examples_per_domain_per_label=100,\n",
    "#     pickle_path=os.path.join(get_datasets_base_path(), \"wisig.node3-19.stratified_ds.2022A.pkl\"),\n",
    "#     source_or_target_dataset=\"target\",\n",
    "#     x_transform_func=global_x_transform_func,\n",
    "#     domain_modifier=lambda u: f\"wisig_{u}\"\n",
    "# )"
   ]
  },
  {
   "cell_type": "code",
   "execution_count": 19,
   "id": "fd5442bc",
   "metadata": {
    "execution": {
     "iopub.execute_input": "2022-03-18T18:38:23.510713Z",
     "iopub.status.busy": "2022-03-18T18:38:23.510461Z",
     "iopub.status.idle": "2022-03-18T18:38:23.525698Z",
     "shell.execute_reply": "2022-03-18T18:38:23.525263Z"
    },
    "papermill": {
     "duration": 0.033888,
     "end_time": "2022-03-18T18:38:23.525788",
     "exception": false,
     "start_time": "2022-03-18T18:38:23.491900",
     "status": "completed"
    },
    "tags": []
   },
   "outputs": [],
   "source": [
    "###################################\n",
    "# Build the dataset\n",
    "###################################\n",
    "train_original_source = Iterable_Aggregator(train_original_source, p.seed)\n",
    "val_original_source = Iterable_Aggregator(val_original_source, p.seed)\n",
    "test_original_source = Iterable_Aggregator(test_original_source, p.seed)\n",
    "\n",
    "\n",
    "train_original_target = Iterable_Aggregator(train_original_target, p.seed)\n",
    "val_original_target = Iterable_Aggregator(val_original_target, p.seed)\n",
    "test_original_target = Iterable_Aggregator(test_original_target, p.seed)\n",
    "\n",
    "# For CNN We only use X and Y. And we only train on the source.\n",
    "# Properly form the data using a transform lambda and Lazy_Iterable_Wrapper. Finally wrap them in a dataloader\n",
    "\n",
    "transform_lambda = lambda ex: ex[1] # Original is (<domain>, <episode>) so we strip down to episode only\n",
    "\n",
    "train_processed_source = Lazy_Iterable_Wrapper(train_original_source, transform_lambda)\n",
    "val_processed_source   = Lazy_Iterable_Wrapper(val_original_source, transform_lambda)\n",
    "test_processed_source  = Lazy_Iterable_Wrapper(test_original_source, transform_lambda)\n",
    "\n",
    "train_processed_target = Lazy_Iterable_Wrapper(train_original_target, transform_lambda)\n",
    "val_processed_target   = Lazy_Iterable_Wrapper(val_original_target, transform_lambda)\n",
    "test_processed_target  = Lazy_Iterable_Wrapper(test_original_target, transform_lambda)\n",
    "\n",
    "datasets = EasyDict({\n",
    "    \"source\": {\n",
    "        \"original\": {\"train\":train_original_source, \"val\":val_original_source, \"test\":test_original_source},\n",
    "        \"processed\": {\"train\":train_processed_source, \"val\":val_processed_source, \"test\":test_processed_source}\n",
    "    },\n",
    "    \"target\": {\n",
    "        \"original\": {\"train\":train_original_target, \"val\":val_original_target, \"test\":test_original_target},\n",
    "        \"processed\": {\"train\":train_processed_target, \"val\":val_processed_target, \"test\":test_processed_target}\n",
    "    },\n",
    "})"
   ]
  },
  {
   "cell_type": "code",
   "execution_count": 20,
   "id": "5b3c01fc",
   "metadata": {
    "execution": {
     "iopub.execute_input": "2022-03-18T18:38:23.561126Z",
     "iopub.status.busy": "2022-03-18T18:38:23.560874Z",
     "iopub.status.idle": "2022-03-18T18:38:28.417265Z",
     "shell.execute_reply": "2022-03-18T18:38:28.417615Z"
    },
    "papermill": {
     "duration": 4.873678,
     "end_time": "2022-03-18T18:38:28.417718",
     "exception": false,
     "start_time": "2022-03-18T18:38:23.544040",
     "status": "completed"
    },
    "tags": []
   },
   "outputs": [
    {
     "name": "stdout",
     "output_type": "stream",
     "text": [
      "{'ORACLE.run1_32', 'ORACLE.run1_20', 'ORACLE.run1_8', 'ORACLE.run1_14', 'ORACLE.run1_50', 'ORACLE.run1_26', 'ORACLE.run1_44', 'ORACLE.run1_38'}\n"
     ]
    },
    {
     "name": "stdout",
     "output_type": "stream",
     "text": [
      "{'W_A_3', 'C_A_2', 'W_A_4', 'C_A_1', 'C_A_3', 'C_A_4', 'C_A_5', 'W_A_1', 'W_A_2'}\n"
     ]
    },
    {
     "name": "stdout",
     "output_type": "stream",
     "text": [
      "tensor([[[ 8.5985e-01,  1.0273e+00, -5.1712e-01,  ...,  6.2292e-01,\n",
      "           6.3736e-01,  1.1674e+00],\n",
      "         [-5.4263e-01,  1.2698e-01,  9.5558e-01,  ...,  9.1222e-01,\n",
      "           7.3182e-01, -3.5609e-01]],\n",
      "\n",
      "        [[ 4.3494e-01,  1.1755e+00,  4.3359e-02,  ...,  5.3290e-01,\n",
      "          -4.6212e-01,  5.8476e-01],\n",
      "         [-3.6671e-01,  5.0357e-01,  5.9989e-01,  ...,  3.9506e-01,\n",
      "           1.1232e+00,  6.1414e-01]],\n",
      "\n",
      "        [[-3.3927e-01, -7.8919e-01,  2.0817e-01,  ..., -5.1654e-01,\n",
      "           9.7205e-01,  3.4605e-02],\n",
      "         [ 2.5446e-01, -7.8658e-01, -6.9448e-01,  ..., -4.6413e-01,\n",
      "          -9.3530e-01, -7.7223e-01]],\n",
      "\n",
      "        ...,\n",
      "\n",
      "        [[-4.2339e-01, -1.1305e+00, -1.0175e-01,  ..., -9.1360e-01,\n",
      "          -9.0403e-01, -1.1142e+00],\n",
      "         [ 1.0045e+00,  4.9193e-01, -9.7786e-01,  ..., -5.1049e-01,\n",
      "          -5.2751e-01,  5.7269e-01]],\n",
      "\n",
      "        [[ 5.1356e-01,  2.1001e-01, -5.9836e-01,  ..., -4.6290e-02,\n",
      "          -1.2088e+00, -2.8668e-01],\n",
      "         [-4.7083e-16,  1.1152e+00,  3.4624e-01,  ...,  7.1319e-01,\n",
      "           1.7580e-01,  7.6484e-01]],\n",
      "\n",
      "        [[ 9.1246e-01,  8.8735e-01, -6.8332e-01,  ...,  4.1526e-01,\n",
      "           6.0316e-01,  1.3569e+00],\n",
      "         [-5.1472e-01,  2.1114e-01,  8.7941e-01,  ...,  8.9658e-01,\n",
      "           6.6137e-01, -2.5093e-01]]])\n"
     ]
    }
   ],
   "source": [
    "from steves_utils.transforms import get_average_magnitude, get_average_power\n",
    "\n",
    "print(set([u for u,_ in val_original_source]))\n",
    "print(set([u for u,_ in val_original_target]))\n",
    "\n",
    "s_x, s_y, q_x, q_y, _ = next(iter(train_processed_source))\n",
    "print(s_x)\n",
    "\n",
    "# for ds in [\n",
    "#     train_processed_source,\n",
    "#     val_processed_source,\n",
    "#     test_processed_source,\n",
    "#     train_processed_target,\n",
    "#     val_processed_target,\n",
    "#     test_processed_target\n",
    "# ]:\n",
    "#     for s_x, s_y, q_x, q_y, _ in ds:\n",
    "#         for X in (s_x, q_x):\n",
    "#             for x in X:\n",
    "#                 assert np.isclose(get_average_magnitude(x.numpy()), 1.0)\n",
    "#                 assert np.isclose(get_average_power(x.numpy()), 1.0)\n",
    "                "
   ]
  },
  {
   "cell_type": "code",
   "execution_count": 21,
   "id": "bbdacba1",
   "metadata": {
    "execution": {
     "iopub.execute_input": "2022-03-18T18:38:28.458343Z",
     "iopub.status.busy": "2022-03-18T18:38:28.458078Z",
     "iopub.status.idle": "2022-03-18T18:38:28.508098Z",
     "shell.execute_reply": "2022-03-18T18:38:28.508468Z"
    },
    "papermill": {
     "duration": 0.068258,
     "end_time": "2022-03-18T18:38:28.508580",
     "exception": false,
     "start_time": "2022-03-18T18:38:28.440322",
     "status": "completed"
    },
    "tags": []
   },
   "outputs": [
    {
     "name": "stdout",
     "output_type": "stream",
     "text": [
      "(2, 200)\n"
     ]
    }
   ],
   "source": [
    "###################################\n",
    "# Build the model\n",
    "###################################\n",
    "# easfsl only wants a tuple for the shape\n",
    "model = Steves_Prototypical_Network(x_net, device=p.device, x_shape=tuple(p.x_shape))\n",
    "optimizer = Adam(params=model.parameters(), lr=p.lr)"
   ]
  },
  {
   "cell_type": "code",
   "execution_count": 22,
   "id": "22b39ac5",
   "metadata": {
    "execution": {
     "iopub.execute_input": "2022-03-18T18:38:28.547048Z",
     "iopub.status.busy": "2022-03-18T18:38:28.546799Z",
     "iopub.status.idle": "2022-03-18T18:59:38.933183Z",
     "shell.execute_reply": "2022-03-18T18:59:38.932952Z"
    },
    "papermill": {
     "duration": 1270.402947,
     "end_time": "2022-03-18T18:59:38.933240",
     "exception": false,
     "start_time": "2022-03-18T18:38:28.530293",
     "status": "completed"
    },
    "tags": []
   },
   "outputs": [
    {
     "name": "stdout",
     "output_type": "stream",
     "text": [
      "epoch: 1, [batch: 1 / 6720], examples_per_second: 50.2535, train_label_loss: 3.2757, \n"
     ]
    },
    {
     "name": "stdout",
     "output_type": "stream",
     "text": [
      "epoch: 1, [batch: 672 / 6720], examples_per_second: 3648.4952, train_label_loss: 1.6249, \n"
     ]
    },
    {
     "name": "stdout",
     "output_type": "stream",
     "text": [
      "epoch: 1, [batch: 1344 / 6720], examples_per_second: 3667.5834, train_label_loss: 1.0327, \n"
     ]
    },
    {
     "name": "stdout",
     "output_type": "stream",
     "text": [
      "epoch: 1, [batch: 2016 / 6720], examples_per_second: 3690.0007, train_label_loss: 0.9391, \n"
     ]
    },
    {
     "name": "stdout",
     "output_type": "stream",
     "text": [
      "epoch: 1, [batch: 2688 / 6720], examples_per_second: 3628.8958, train_label_loss: 0.9476, \n"
     ]
    },
    {
     "name": "stdout",
     "output_type": "stream",
     "text": [
      "epoch: 1, [batch: 3360 / 6720], examples_per_second: 3674.8280, train_label_loss: 0.9361, \n"
     ]
    },
    {
     "name": "stdout",
     "output_type": "stream",
     "text": [
      "epoch: 1, [batch: 4032 / 6720], examples_per_second: 3654.3624, train_label_loss: 1.0682, \n"
     ]
    },
    {
     "name": "stdout",
     "output_type": "stream",
     "text": [
      "epoch: 1, [batch: 4704 / 6720], examples_per_second: 3632.5562, train_label_loss: 1.1979, \n"
     ]
    },
    {
     "name": "stdout",
     "output_type": "stream",
     "text": [
      "epoch: 1, [batch: 5376 / 6720], examples_per_second: 3648.4379, train_label_loss: 1.2651, \n"
     ]
    },
    {
     "name": "stdout",
     "output_type": "stream",
     "text": [
      "epoch: 1, [batch: 6048 / 6720], examples_per_second: 3653.2312, train_label_loss: 0.7727, \n"
     ]
    },
    {
     "name": "stdout",
     "output_type": "stream",
     "text": [
      "=============================================================\n",
      "epoch: 1, source_val_acc_label: 0.6277, target_val_acc_label: 0.4144, source_val_label_loss: 92.9481, target_val_label_loss: 24422.4512, \n",
      "=============================================================\n"
     ]
    },
    {
     "name": "stdout",
     "output_type": "stream",
     "text": [
      "New best\n"
     ]
    },
    {
     "name": "stdout",
     "output_type": "stream",
     "text": [
      "epoch: 2, [batch: 1 / 6720], examples_per_second: 6.0693, train_label_loss: 1.5344, \n"
     ]
    },
    {
     "name": "stdout",
     "output_type": "stream",
     "text": [
      "epoch: 2, [batch: 672 / 6720], examples_per_second: 3628.4253, train_label_loss: 1.2868, \n"
     ]
    },
    {
     "name": "stdout",
     "output_type": "stream",
     "text": [
      "epoch: 2, [batch: 1344 / 6720], examples_per_second: 3661.7207, train_label_loss: 1.2191, \n"
     ]
    },
    {
     "name": "stdout",
     "output_type": "stream",
     "text": [
      "epoch: 2, [batch: 2016 / 6720], examples_per_second: 3675.8514, train_label_loss: 0.7420, \n"
     ]
    },
    {
     "name": "stdout",
     "output_type": "stream",
     "text": [
      "epoch: 2, [batch: 2688 / 6720], examples_per_second: 3676.0237, train_label_loss: 1.0298, \n"
     ]
    },
    {
     "name": "stdout",
     "output_type": "stream",
     "text": [
      "epoch: 2, [batch: 3360 / 6720], examples_per_second: 3655.7304, train_label_loss: 0.8958, \n"
     ]
    },
    {
     "name": "stdout",
     "output_type": "stream",
     "text": [
      "epoch: 2, [batch: 4032 / 6720], examples_per_second: 3658.2268, train_label_loss: 0.6299, \n"
     ]
    },
    {
     "name": "stdout",
     "output_type": "stream",
     "text": [
      "epoch: 2, [batch: 4704 / 6720], examples_per_second: 3646.5325, train_label_loss: 1.2459, \n"
     ]
    },
    {
     "name": "stdout",
     "output_type": "stream",
     "text": [
      "epoch: 2, [batch: 5376 / 6720], examples_per_second: 3676.3105, train_label_loss: 0.4419, \n"
     ]
    },
    {
     "name": "stdout",
     "output_type": "stream",
     "text": [
      "epoch: 2, [batch: 6048 / 6720], examples_per_second: 3675.8128, train_label_loss: 0.6219, \n"
     ]
    },
    {
     "name": "stdout",
     "output_type": "stream",
     "text": [
      "=============================================================\n",
      "epoch: 2, source_val_acc_label: 0.6500, target_val_acc_label: 0.5125, source_val_label_loss: 0.9479, target_val_label_loss: 2228.0967, \n",
      "=============================================================\n"
     ]
    },
    {
     "name": "stdout",
     "output_type": "stream",
     "text": [
      "New best\n"
     ]
    },
    {
     "name": "stdout",
     "output_type": "stream",
     "text": [
      "epoch: 3, [batch: 1 / 6720], examples_per_second: 6.0551, train_label_loss: 0.7491, \n"
     ]
    },
    {
     "name": "stdout",
     "output_type": "stream",
     "text": [
      "epoch: 3, [batch: 672 / 6720], examples_per_second: 3624.2475, train_label_loss: 1.0891, \n"
     ]
    },
    {
     "name": "stdout",
     "output_type": "stream",
     "text": [
      "epoch: 3, [batch: 1344 / 6720], examples_per_second: 3666.3443, train_label_loss: 0.5779, \n"
     ]
    },
    {
     "name": "stdout",
     "output_type": "stream",
     "text": [
      "epoch: 3, [batch: 2016 / 6720], examples_per_second: 3672.4562, train_label_loss: 0.8447, \n"
     ]
    },
    {
     "name": "stdout",
     "output_type": "stream",
     "text": [
      "epoch: 3, [batch: 2688 / 6720], examples_per_second: 3647.2715, train_label_loss: 1.1370, \n"
     ]
    },
    {
     "name": "stdout",
     "output_type": "stream",
     "text": [
      "epoch: 3, [batch: 3360 / 6720], examples_per_second: 3658.7503, train_label_loss: 0.8143, \n"
     ]
    },
    {
     "name": "stdout",
     "output_type": "stream",
     "text": [
      "epoch: 3, [batch: 4032 / 6720], examples_per_second: 3652.1400, train_label_loss: 1.1569, \n"
     ]
    },
    {
     "name": "stdout",
     "output_type": "stream",
     "text": [
      "epoch: 3, [batch: 4704 / 6720], examples_per_second: 3651.6990, train_label_loss: 0.5858, \n"
     ]
    },
    {
     "name": "stdout",
     "output_type": "stream",
     "text": [
      "epoch: 3, [batch: 5376 / 6720], examples_per_second: 3675.3343, train_label_loss: 1.0154, \n"
     ]
    },
    {
     "name": "stdout",
     "output_type": "stream",
     "text": [
      "epoch: 3, [batch: 6048 / 6720], examples_per_second: 3662.9486, train_label_loss: 0.8916, \n"
     ]
    },
    {
     "name": "stdout",
     "output_type": "stream",
     "text": [
      "=============================================================\n",
      "epoch: 3, source_val_acc_label: 0.7018, target_val_acc_label: 0.6160, source_val_label_loss: 0.8154, target_val_label_loss: 4406.3628, \n",
      "=============================================================\n"
     ]
    },
    {
     "name": "stdout",
     "output_type": "stream",
     "text": [
      "epoch: 4, [batch: 1 / 6720], examples_per_second: 6.0649, train_label_loss: 0.7493, \n"
     ]
    },
    {
     "name": "stdout",
     "output_type": "stream",
     "text": [
      "epoch: 4, [batch: 672 / 6720], examples_per_second: 3642.4360, train_label_loss: 0.4403, \n"
     ]
    },
    {
     "name": "stdout",
     "output_type": "stream",
     "text": [
      "epoch: 4, [batch: 1344 / 6720], examples_per_second: 3649.4710, train_label_loss: 0.7577, \n"
     ]
    },
    {
     "name": "stdout",
     "output_type": "stream",
     "text": [
      "epoch: 4, [batch: 2016 / 6720], examples_per_second: 3673.5629, train_label_loss: 0.6592, \n"
     ]
    },
    {
     "name": "stdout",
     "output_type": "stream",
     "text": [
      "epoch: 4, [batch: 2688 / 6720], examples_per_second: 3643.7462, train_label_loss: 0.4826, \n"
     ]
    },
    {
     "name": "stdout",
     "output_type": "stream",
     "text": [
      "epoch: 4, [batch: 3360 / 6720], examples_per_second: 3659.5404, train_label_loss: 0.5942, \n"
     ]
    },
    {
     "name": "stdout",
     "output_type": "stream",
     "text": [
      "epoch: 4, [batch: 4032 / 6720], examples_per_second: 3664.7877, train_label_loss: 0.5721, \n"
     ]
    },
    {
     "name": "stdout",
     "output_type": "stream",
     "text": [
      "epoch: 4, [batch: 4704 / 6720], examples_per_second: 3651.7011, train_label_loss: 0.9243, \n"
     ]
    },
    {
     "name": "stdout",
     "output_type": "stream",
     "text": [
      "epoch: 4, [batch: 5376 / 6720], examples_per_second: 3658.2799, train_label_loss: 0.5217, \n"
     ]
    },
    {
     "name": "stdout",
     "output_type": "stream",
     "text": [
      "epoch: 4, [batch: 6048 / 6720], examples_per_second: 3657.8713, train_label_loss: 0.7603, \n"
     ]
    },
    {
     "name": "stdout",
     "output_type": "stream",
     "text": [
      "=============================================================\n",
      "epoch: 4, source_val_acc_label: 0.7465, target_val_acc_label: 0.5424, source_val_label_loss: 0.6963, target_val_label_loss: 2212.4473, \n",
      "=============================================================\n"
     ]
    },
    {
     "name": "stdout",
     "output_type": "stream",
     "text": [
      "New best\n"
     ]
    },
    {
     "name": "stdout",
     "output_type": "stream",
     "text": [
      "epoch: 5, [batch: 1 / 6720], examples_per_second: 6.0255, train_label_loss: 1.1301, \n"
     ]
    },
    {
     "name": "stdout",
     "output_type": "stream",
     "text": [
      "epoch: 5, [batch: 672 / 6720], examples_per_second: 3653.6539, train_label_loss: 0.8726, \n"
     ]
    },
    {
     "name": "stdout",
     "output_type": "stream",
     "text": [
      "epoch: 5, [batch: 1344 / 6720], examples_per_second: 3677.5080, train_label_loss: 0.6176, \n"
     ]
    },
    {
     "name": "stdout",
     "output_type": "stream",
     "text": [
      "epoch: 5, [batch: 2016 / 6720], examples_per_second: 3665.5257, train_label_loss: 0.4030, \n"
     ]
    },
    {
     "name": "stdout",
     "output_type": "stream",
     "text": [
      "epoch: 5, [batch: 2688 / 6720], examples_per_second: 3646.2599, train_label_loss: 0.2298, \n"
     ]
    },
    {
     "name": "stdout",
     "output_type": "stream",
     "text": [
      "epoch: 5, [batch: 3360 / 6720], examples_per_second: 3651.2938, train_label_loss: 0.7378, \n"
     ]
    },
    {
     "name": "stdout",
     "output_type": "stream",
     "text": [
      "epoch: 5, [batch: 4032 / 6720], examples_per_second: 3665.4952, train_label_loss: 0.6703, \n"
     ]
    },
    {
     "name": "stdout",
     "output_type": "stream",
     "text": [
      "epoch: 5, [batch: 4704 / 6720], examples_per_second: 3650.7469, train_label_loss: 0.5159, \n"
     ]
    },
    {
     "name": "stdout",
     "output_type": "stream",
     "text": [
      "epoch: 5, [batch: 5376 / 6720], examples_per_second: 3626.1040, train_label_loss: 0.3276, \n"
     ]
    },
    {
     "name": "stdout",
     "output_type": "stream",
     "text": [
      "epoch: 5, [batch: 6048 / 6720], examples_per_second: 3633.4533, train_label_loss: 0.1575, \n"
     ]
    },
    {
     "name": "stdout",
     "output_type": "stream",
     "text": [
      "=============================================================\n",
      "epoch: 5, source_val_acc_label: 0.7900, target_val_acc_label: 0.5646, source_val_label_loss: 0.5885, target_val_label_loss: 4913.8936, \n",
      "=============================================================\n"
     ]
    },
    {
     "name": "stdout",
     "output_type": "stream",
     "text": [
      "epoch: 6, [batch: 1 / 6720], examples_per_second: 6.0179, train_label_loss: 0.3577, \n"
     ]
    },
    {
     "name": "stdout",
     "output_type": "stream",
     "text": [
      "epoch: 6, [batch: 672 / 6720], examples_per_second: 3647.5126, train_label_loss: 0.7629, \n"
     ]
    },
    {
     "name": "stdout",
     "output_type": "stream",
     "text": [
      "epoch: 6, [batch: 1344 / 6720], examples_per_second: 3664.0549, train_label_loss: 0.5490, \n"
     ]
    },
    {
     "name": "stdout",
     "output_type": "stream",
     "text": [
      "epoch: 6, [batch: 2016 / 6720], examples_per_second: 3644.7264, train_label_loss: 0.4791, \n"
     ]
    },
    {
     "name": "stdout",
     "output_type": "stream",
     "text": [
      "epoch: 6, [batch: 2688 / 6720], examples_per_second: 3637.2406, train_label_loss: 0.4337, \n"
     ]
    },
    {
     "name": "stdout",
     "output_type": "stream",
     "text": [
      "epoch: 6, [batch: 3360 / 6720], examples_per_second: 3654.7027, train_label_loss: 0.7461, \n"
     ]
    },
    {
     "name": "stdout",
     "output_type": "stream",
     "text": [
      "epoch: 6, [batch: 4032 / 6720], examples_per_second: 3659.7890, train_label_loss: 0.2995, \n"
     ]
    },
    {
     "name": "stdout",
     "output_type": "stream",
     "text": [
      "epoch: 6, [batch: 4704 / 6720], examples_per_second: 3649.1047, train_label_loss: 0.3864, \n"
     ]
    },
    {
     "name": "stdout",
     "output_type": "stream",
     "text": [
      "epoch: 6, [batch: 5376 / 6720], examples_per_second: 3655.8643, train_label_loss: 0.4905, \n"
     ]
    },
    {
     "name": "stdout",
     "output_type": "stream",
     "text": [
      "epoch: 6, [batch: 6048 / 6720], examples_per_second: 3656.4789, train_label_loss: 0.6374, \n"
     ]
    },
    {
     "name": "stdout",
     "output_type": "stream",
     "text": [
      "=============================================================\n",
      "epoch: 6, source_val_acc_label: 0.7867, target_val_acc_label: 0.5567, source_val_label_loss: 0.5826, target_val_label_loss: 5370.2729, \n",
      "=============================================================\n"
     ]
    },
    {
     "name": "stdout",
     "output_type": "stream",
     "text": [
      "epoch: 7, [batch: 1 / 6720], examples_per_second: 6.0473, train_label_loss: 0.4560, \n"
     ]
    },
    {
     "name": "stdout",
     "output_type": "stream",
     "text": [
      "epoch: 7, [batch: 672 / 6720], examples_per_second: 3648.1665, train_label_loss: 0.2185, \n"
     ]
    },
    {
     "name": "stdout",
     "output_type": "stream",
     "text": [
      "epoch: 7, [batch: 1344 / 6720], examples_per_second: 3656.2794, train_label_loss: 0.5618, \n"
     ]
    },
    {
     "name": "stdout",
     "output_type": "stream",
     "text": [
      "epoch: 7, [batch: 2016 / 6720], examples_per_second: 3665.2925, train_label_loss: 0.3464, \n"
     ]
    },
    {
     "name": "stdout",
     "output_type": "stream",
     "text": [
      "epoch: 7, [batch: 2688 / 6720], examples_per_second: 3642.0325, train_label_loss: 0.2910, \n"
     ]
    },
    {
     "name": "stdout",
     "output_type": "stream",
     "text": [
      "epoch: 7, [batch: 3360 / 6720], examples_per_second: 3652.9883, train_label_loss: 0.2570, \n"
     ]
    },
    {
     "name": "stdout",
     "output_type": "stream",
     "text": [
      "epoch: 7, [batch: 4032 / 6720], examples_per_second: 3658.9553, train_label_loss: 0.3553, \n"
     ]
    },
    {
     "name": "stdout",
     "output_type": "stream",
     "text": [
      "epoch: 7, [batch: 4704 / 6720], examples_per_second: 3644.6504, train_label_loss: 0.6387, \n"
     ]
    },
    {
     "name": "stdout",
     "output_type": "stream",
     "text": [
      "epoch: 7, [batch: 5376 / 6720], examples_per_second: 3661.8259, train_label_loss: 0.6104, \n"
     ]
    },
    {
     "name": "stdout",
     "output_type": "stream",
     "text": [
      "epoch: 7, [batch: 6048 / 6720], examples_per_second: 3669.7439, train_label_loss: 0.5287, \n"
     ]
    },
    {
     "name": "stdout",
     "output_type": "stream",
     "text": [
      "=============================================================\n",
      "epoch: 7, source_val_acc_label: 0.8245, target_val_acc_label: 0.5526, source_val_label_loss: 0.4959, target_val_label_loss: 5606.5835, \n",
      "=============================================================\n"
     ]
    },
    {
     "name": "stdout",
     "output_type": "stream",
     "text": [
      "epoch: 8, [batch: 1 / 6720], examples_per_second: 6.1001, train_label_loss: 0.4971, \n"
     ]
    },
    {
     "name": "stdout",
     "output_type": "stream",
     "text": [
      "epoch: 8, [batch: 672 / 6720], examples_per_second: 3632.3072, train_label_loss: 0.2490, \n"
     ]
    },
    {
     "name": "stdout",
     "output_type": "stream",
     "text": [
      "epoch: 8, [batch: 1344 / 6720], examples_per_second: 3650.4247, train_label_loss: 0.4483, \n"
     ]
    },
    {
     "name": "stdout",
     "output_type": "stream",
     "text": [
      "epoch: 8, [batch: 2016 / 6720], examples_per_second: 3670.4411, train_label_loss: 0.9523, \n"
     ]
    },
    {
     "name": "stdout",
     "output_type": "stream",
     "text": [
      "epoch: 8, [batch: 2688 / 6720], examples_per_second: 3647.2524, train_label_loss: 1.2996, \n"
     ]
    },
    {
     "name": "stdout",
     "output_type": "stream",
     "text": [
      "epoch: 8, [batch: 3360 / 6720], examples_per_second: 3649.4488, train_label_loss: 0.3347, \n"
     ]
    },
    {
     "name": "stdout",
     "output_type": "stream",
     "text": [
      "epoch: 8, [batch: 4032 / 6720], examples_per_second: 3626.6917, train_label_loss: 0.3959, \n"
     ]
    },
    {
     "name": "stdout",
     "output_type": "stream",
     "text": [
      "epoch: 8, [batch: 4704 / 6720], examples_per_second: 3640.4641, train_label_loss: 0.4187, \n"
     ]
    },
    {
     "name": "stdout",
     "output_type": "stream",
     "text": [
      "epoch: 8, [batch: 5376 / 6720], examples_per_second: 3645.7511, train_label_loss: 0.5476, \n"
     ]
    },
    {
     "name": "stdout",
     "output_type": "stream",
     "text": [
      "epoch: 8, [batch: 6048 / 6720], examples_per_second: 3652.0357, train_label_loss: 0.7824, \n"
     ]
    },
    {
     "name": "stdout",
     "output_type": "stream",
     "text": [
      "=============================================================\n",
      "epoch: 8, source_val_acc_label: 0.8171, target_val_acc_label: 0.5193, source_val_label_loss: 0.5102, target_val_label_loss: 3096.3350, \n",
      "=============================================================\n"
     ]
    },
    {
     "name": "stdout",
     "output_type": "stream",
     "text": [
      "Patience (3) exhausted\n"
     ]
    }
   ],
   "source": [
    "###################################\n",
    "# train\n",
    "###################################\n",
    "jig = PTN_Train_Eval_Test_Jig(model, p.BEST_MODEL_PATH, p.device)\n",
    "\n",
    "jig.train(\n",
    "    train_iterable=datasets.source.processed.train,\n",
    "    source_val_iterable=datasets.source.processed.val,\n",
    "    target_val_iterable=datasets.target.processed.val,\n",
    "    num_epochs=p.n_epoch,\n",
    "    num_logs_per_epoch=p.NUM_LOGS_PER_EPOCH,\n",
    "    patience=p.patience,\n",
    "    optimizer=optimizer,\n",
    "    criteria_for_best=p.criteria_for_best,\n",
    ")"
   ]
  },
  {
   "cell_type": "code",
   "execution_count": 23,
   "id": "31e8fabf",
   "metadata": {
    "execution": {
     "iopub.execute_input": "2022-03-18T18:59:39.024766Z",
     "iopub.status.busy": "2022-03-18T18:59:39.024513Z",
     "iopub.status.idle": "2022-03-18T18:59:39.042274Z",
     "shell.execute_reply": "2022-03-18T18:59:39.042646Z"
    },
    "papermill": {
     "duration": 0.052114,
     "end_time": "2022-03-18T18:59:39.042754",
     "exception": false,
     "start_time": "2022-03-18T18:59:38.990640",
     "status": "completed"
    },
    "tags": []
   },
   "outputs": [],
   "source": [
    "total_experiment_time_secs = time.time() - start_time_secs"
   ]
  },
  {
   "cell_type": "code",
   "execution_count": 24,
   "id": "87b9595b",
   "metadata": {
    "execution": {
     "iopub.execute_input": "2022-03-18T18:59:39.116077Z",
     "iopub.status.busy": "2022-03-18T18:59:39.115809Z",
     "iopub.status.idle": "2022-03-18T19:00:41.983369Z",
     "shell.execute_reply": "2022-03-18T19:00:41.983797Z"
    },
    "papermill": {
     "duration": 62.904335,
     "end_time": "2022-03-18T19:00:41.983931",
     "exception": false,
     "start_time": "2022-03-18T18:59:39.079596",
     "status": "completed"
    },
    "tags": []
   },
   "outputs": [],
   "source": [
    "###################################\n",
    "# Evaluate the model\n",
    "###################################\n",
    "source_test_label_accuracy, source_test_label_loss = jig.test(datasets.source.processed.test)\n",
    "target_test_label_accuracy, target_test_label_loss = jig.test(datasets.target.processed.test)\n",
    "\n",
    "source_val_label_accuracy, source_val_label_loss = jig.test(datasets.source.processed.val)\n",
    "target_val_label_accuracy, target_val_label_loss = jig.test(datasets.target.processed.val)\n",
    "\n",
    "history = jig.get_history()\n",
    "\n",
    "total_epochs_trained = len(history[\"epoch_indices\"])\n",
    "\n",
    "val_dl = Iterable_Aggregator((datasets.source.original.val,datasets.target.original.val))\n",
    "\n",
    "confusion = ptn_confusion_by_domain_over_dataloader(model, p.device, val_dl)\n",
    "per_domain_accuracy = per_domain_accuracy_from_confusion(confusion)\n",
    "\n",
    "# Add a key to per_domain_accuracy for if it was a source domain\n",
    "for domain, accuracy in per_domain_accuracy.items():\n",
    "    per_domain_accuracy[domain] = {\n",
    "        \"accuracy\": accuracy,\n",
    "        \"source?\": domain in p.domains_source\n",
    "    }\n",
    "\n",
    "# Do an independent accuracy assesment JUST TO BE SURE!\n",
    "# _source_test_label_accuracy = independent_accuracy_assesment(model, datasets.source.processed.test, p.device)\n",
    "# _target_test_label_accuracy = independent_accuracy_assesment(model, datasets.target.processed.test, p.device)\n",
    "# _source_val_label_accuracy = independent_accuracy_assesment(model, datasets.source.processed.val, p.device)\n",
    "# _target_val_label_accuracy = independent_accuracy_assesment(model, datasets.target.processed.val, p.device)\n",
    "\n",
    "# assert(_source_test_label_accuracy == source_test_label_accuracy)\n",
    "# assert(_target_test_label_accuracy == target_test_label_accuracy)\n",
    "# assert(_source_val_label_accuracy == source_val_label_accuracy)\n",
    "# assert(_target_val_label_accuracy == target_val_label_accuracy)\n",
    "\n",
    "experiment = {\n",
    "    \"experiment_name\": p.experiment_name,\n",
    "    \"parameters\": dict(p),\n",
    "    \"results\": {\n",
    "        \"source_test_label_accuracy\": source_test_label_accuracy,\n",
    "        \"source_test_label_loss\": source_test_label_loss,\n",
    "        \"target_test_label_accuracy\": target_test_label_accuracy,\n",
    "        \"target_test_label_loss\": target_test_label_loss,\n",
    "        \"source_val_label_accuracy\": source_val_label_accuracy,\n",
    "        \"source_val_label_loss\": source_val_label_loss,\n",
    "        \"target_val_label_accuracy\": target_val_label_accuracy,\n",
    "        \"target_val_label_loss\": target_val_label_loss,\n",
    "        \"total_epochs_trained\": total_epochs_trained,\n",
    "        \"total_experiment_time_secs\": total_experiment_time_secs,\n",
    "        \"confusion\": confusion,\n",
    "        \"per_domain_accuracy\": per_domain_accuracy,\n",
    "    },\n",
    "    \"history\": history,\n",
    "    \"dataset_metrics\": get_dataset_metrics(datasets, \"ptn\"),\n",
    "}"
   ]
  },
  {
   "cell_type": "code",
   "execution_count": 25,
   "id": "54a21829",
   "metadata": {
    "execution": {
     "iopub.execute_input": "2022-03-18T19:00:42.054060Z",
     "iopub.status.busy": "2022-03-18T19:00:42.053107Z",
     "iopub.status.idle": "2022-03-18T19:00:42.177364Z",
     "shell.execute_reply": "2022-03-18T19:00:42.176902Z"
    },
    "papermill": {
     "duration": 0.156337,
     "end_time": "2022-03-18T19:00:42.177457",
     "exception": false,
     "start_time": "2022-03-18T19:00:42.021120",
     "status": "completed"
    },
    "tags": []
   },
   "outputs": [
    {
     "data": {
      "image/png": "[encoded data removed]",
      "text/plain": [
       "<Figure size 1080x504 with 1 Axes>"
      ]
     },
     "metadata": {
      "needs_background": "light"
     },
     "output_type": "display_data"
    }
   ],
   "source": [
    "ax = get_loss_curve(experiment)\n",
    "plt.show()"
   ]
  },
  {
   "cell_type": "code",
   "execution_count": 26,
   "id": "fd8a0f60",
   "metadata": {
    "execution": {
     "iopub.execute_input": "2022-03-18T19:00:42.248133Z",
     "iopub.status.busy": "2022-03-18T19:00:42.247392Z",
     "iopub.status.idle": "2022-03-18T19:00:42.391303Z",
     "shell.execute_reply": "2022-03-18T19:00:42.390996Z"
    },
    "papermill": {
     "duration": 0.177695,
     "end_time": "2022-03-18T19:00:42.391374",
     "exception": false,
     "start_time": "2022-03-18T19:00:42.213679",
     "status": "completed"
    },
    "tags": []
   },
   "outputs": [
    {
     "data": {
      "text/plain": [
       "<AxesSubplot:title={'center':'Results'}>"
      ]
     },
     "execution_count": 26,
     "metadata": {},
     "output_type": "execute_result"
    },
    {
     "data": {
      "image/png": "[encoded data removed]",
      "text/plain": [
       "<Figure size 1080x504 with 1 Axes>"
      ]
     },
     "metadata": {
      "needs_background": "light"
     },
     "output_type": "display_data"
    }
   ],
   "source": [
    "get_results_table(experiment)"
   ]
  },
  {
   "cell_type": "code",
   "execution_count": 27,
   "id": "cf8dc689",
   "metadata": {
    "execution": {
     "iopub.execute_input": "2022-03-18T19:00:42.469637Z",
     "iopub.status.busy": "2022-03-18T19:00:42.469384Z",
     "iopub.status.idle": "2022-03-18T19:00:42.625892Z",
     "shell.execute_reply": "2022-03-18T19:00:42.625443Z"
    },
    "papermill": {
     "duration": 0.191746,
     "end_time": "2022-03-18T19:00:42.625986",
     "exception": false,
     "start_time": "2022-03-18T19:00:42.434240",
     "status": "completed"
    },
    "tags": []
   },
   "outputs": [
    {
     "data": {
      "text/plain": [
       "<AxesSubplot:title={'center':'Per Domain Validation Accuracy'}, xlabel='domain'>"
      ]
     },
     "execution_count": 27,
     "metadata": {},
     "output_type": "execute_result"
    },
    {
     "data": {
      "image/png": "[encoded data removed]",
      "text/plain": [
       "<Figure size 1080x504 with 1 Axes>"
      ]
     },
     "metadata": {
      "needs_background": "light"
     },
     "output_type": "display_data"
    }
   ],
   "source": [
    "get_domain_accuracies(experiment)"
   ]
  },
  {
   "cell_type": "code",
   "execution_count": 28,
   "id": "a74ae082",
   "metadata": {
    "execution": {
     "iopub.execute_input": "2022-03-18T19:00:42.701340Z",
     "iopub.status.busy": "2022-03-18T19:00:42.700909Z",
     "iopub.status.idle": "2022-03-18T19:00:42.716573Z",
     "shell.execute_reply": "2022-03-18T19:00:42.716126Z"
    },
    "papermill": {
     "duration": 0.052209,
     "end_time": "2022-03-18T19:00:42.716664",
     "exception": false,
     "start_time": "2022-03-18T19:00:42.664455",
     "status": "completed"
    },
    "tags": []
   },
   "outputs": [
    {
     "name": "stdout",
     "output_type": "stream",
     "text": [
      "Source Test Label Accuracy: 0.7496744791666666 Target Test Label Accuracy: 0.5453452797202797\n",
      "Source Val Label Accuracy: 0.7465169270833333 Target Val Label Accuracy: 0.5423951048951049\n"
     ]
    }
   ],
   "source": [
    "print(\"Source Test Label Accuracy:\", experiment[\"results\"][\"source_test_label_accuracy\"], \"Target Test Label Accuracy:\", experiment[\"results\"][\"target_test_label_accuracy\"])\n",
    "print(\"Source Val Label Accuracy:\", experiment[\"results\"][\"source_val_label_accuracy\"], \"Target Val Label Accuracy:\", experiment[\"results\"][\"target_val_label_accuracy\"])"
   ]
  },
  {
   "cell_type": "code",
   "execution_count": 29,
   "id": "dacca602",
   "metadata": {
    "execution": {
     "iopub.execute_input": "2022-03-18T19:00:42.792499Z",
     "iopub.status.busy": "2022-03-18T19:00:42.792251Z",
     "iopub.status.idle": "2022-03-18T19:00:42.806840Z",
     "shell.execute_reply": "2022-03-18T19:00:42.807211Z"
    },
    "papermill": {
     "duration": 0.050696,
     "end_time": "2022-03-18T19:00:42.807340",
     "exception": false,
     "start_time": "2022-03-18T19:00:42.756644",
     "status": "completed"
    },
    "tags": [
     "experiment_json"
    ]
   },
   "outputs": [
    {
     "data": {
      "text/plain": [
       "'{\"experiment_name\": \"tl_3A:oracle.run1.framed -> cores+wisig\", \"parameters\": {\"experiment_name\": \"tl_3A:oracle.run1.framed -> cores+wisig\", \"device\": \"cuda\", \"lr\": 0.001, \"seed\": 7, \"dataset_seed\": 7, \"x_shape\": [2, 200], \"n_shot\": 3, \"n_query\": 2, \"train_k_factor\": 3, \"val_k_factor\": 2, \"test_k_factor\": 2, \"torch_default_dtype\": \"torch.float32\", \"n_epoch\": 50, \"patience\": 3, \"criteria_for_best\": \"target_loss\", \"x_net\": [{\"class\": \"nnReshape\", \"kargs\": {\"shape\": [-1, 1, 2, 200]}}, {\"class\": \"Conv2d\", \"kargs\": {\"in_channels\": 1, \"out_channels\": 256, \"kernel_size\": [1, 7], \"bias\": false, \"padding\": [0, 3]}}, {\"class\": \"ReLU\", \"kargs\": {\"inplace\": true}}, {\"class\": \"BatchNorm2d\", \"kargs\": {\"num_features\": 256}}, {\"class\": \"Conv2d\", \"kargs\": {\"in_channels\": 256, \"out_channels\": 80, \"kernel_size\": [2, 7], \"bias\": true, \"padding\": [0, 3]}}, {\"class\": \"ReLU\", \"kargs\": {\"inplace\": true}}, {\"class\": \"BatchNorm2d\", \"kargs\": {\"num_features\": 80}}, {\"class\": \"Flatten\", \"kargs\": {}}, {\"class\": \"Linear\", \"kargs\": {\"in_features\": 16000, \"out_features\": 256}}, {\"class\": \"ReLU\", \"kargs\": {\"inplace\": true}}, {\"class\": \"BatchNorm1d\", \"kargs\": {\"num_features\": 256}}, {\"class\": \"Linear\", \"kargs\": {\"in_features\": 256, \"out_features\": 256}}], \"NUM_LOGS_PER_EPOCH\": 10, \"BEST_MODEL_PATH\": \"./best_model.pth\", \"n_way\": 16, \"datasets\": [{\"labels\": [\"1-10.\", \"1-11.\", \"1-15.\", \"1-16.\", \"1-17.\", \"1-18.\", \"1-19.\", \"10-4.\", \"10-7.\", \"11-1.\", \"11-14.\", \"11-17.\", \"11-20.\", \"11-7.\", \"13-20.\", \"13-8.\", \"14-10.\", \"14-11.\", \"14-14.\", \"14-7.\", \"15-1.\", \"15-20.\", \"16-1.\", \"16-16.\", \"17-10.\", \"17-11.\", \"17-2.\", \"19-1.\", \"19-16.\", \"19-19.\", \"19-20.\", \"19-3.\", \"2-10.\", \"2-11.\", \"2-17.\", \"2-18.\", \"2-20.\", \"2-3.\", \"2-4.\", \"2-5.\", \"2-6.\", \"2-7.\", \"2-8.\", \"3-13.\", \"3-18.\", \"3-3.\", \"4-1.\", \"4-10.\", \"4-11.\", \"4-19.\", \"5-5.\", \"6-15.\", \"7-10.\", \"7-14.\", \"8-18.\", \"8-20.\", \"8-3.\", \"8-8.\"], \"domains\": [1, 2, 3, 4, 5], \"num_examples_per_domain_per_label\": 100, \"pickle_path\": \"/mnt/wd500GB/CSC500/csc500-main/datasets/cores.stratified_ds.2022A.pkl\", \"source_or_target_dataset\": \"target\", \"x_transforms\": [\"unit_power\", \"take_200\"], \"episode_transforms\": [], \"domain_prefix\": \"C_A_\"}, {\"labels\": [\"1-10\", \"1-12\", \"1-14\", \"1-16\", \"1-18\", \"1-19\", \"1-8\", \"10-11\", \"10-17\", \"10-4\", \"10-7\", \"11-1\", \"11-10\", \"11-19\", \"11-20\", \"11-4\", \"11-7\", \"12-19\", \"12-20\", \"12-7\", \"13-14\", \"13-18\", \"13-19\", \"13-20\", \"13-3\", \"13-7\", \"14-10\", \"14-11\", \"14-12\", \"14-13\", \"14-14\", \"14-19\", \"14-20\", \"14-7\", \"14-8\", \"14-9\", \"15-1\", \"15-19\", \"15-6\", \"16-1\", \"16-16\", \"16-19\", \"16-20\", \"17-10\", \"17-11\", \"18-1\", \"18-10\", \"18-11\", \"18-12\", \"18-13\", \"18-14\", \"18-15\", \"18-16\", \"18-17\", \"18-19\", \"18-2\", \"18-20\", \"18-4\", \"18-5\", \"18-7\", \"18-8\", \"18-9\", \"19-1\", \"19-10\", \"19-11\", \"19-12\", \"19-13\", \"19-14\", \"19-15\", \"19-19\", \"19-2\", \"19-20\", \"19-3\", \"19-4\", \"19-6\", \"19-7\", \"19-8\", \"19-9\", \"2-1\", \"2-13\", \"2-15\", \"2-3\", \"2-4\", \"2-5\", \"2-6\", \"2-7\", \"2-8\", \"20-1\", \"20-12\", \"20-14\", \"20-15\", \"20-16\", \"20-18\", \"20-19\", \"20-20\", \"20-3\", \"20-4\", \"20-5\", \"20-7\", \"20-8\", \"3-1\", \"3-13\", \"3-18\", \"3-2\", \"3-8\", \"4-1\", \"4-10\", \"4-11\", \"5-1\", \"5-5\", \"6-1\", \"6-15\", \"6-6\", \"7-10\", \"7-11\", \"7-12\", \"7-13\", \"7-14\", \"7-7\", \"7-8\", \"7-9\", \"8-1\", \"8-13\", \"8-14\", \"8-18\", \"8-20\", \"8-3\", \"8-8\", \"9-1\", \"9-7\"], \"domains\": [1, 2, 3, 4], \"num_examples_per_domain_per_label\": 100, \"pickle_path\": \"/mnt/wd500GB/CSC500/csc500-main/datasets/wisig.node3-19.stratified_ds.2022A.pkl\", \"source_or_target_dataset\": \"target\", \"x_transforms\": [\"unit_power\", \"take_200\"], \"episode_transforms\": [], \"domain_prefix\": \"W_A_\"}, {\"labels\": [\"3123D52\", \"3123D65\", \"3123D79\", \"3123D80\", \"3123D54\", \"3123D70\", \"3123D7B\", \"3123D89\", \"3123D58\", \"3123D76\", \"3123D7D\", \"3123EFE\", \"3123D64\", \"3123D78\", \"3123D7E\", \"3124E4A\"], \"domains\": [32, 38, 8, 44, 14, 50, 20, 26], \"num_examples_per_domain_per_label\": 2000, \"pickle_path\": \"/mnt/wd500GB/CSC500/csc500-main/datasets/oracle.Run1_framed_2000Examples_stratified_ds.2022A.pkl\", \"source_or_target_dataset\": \"source\", \"x_transforms\": [\"unit_power\", \"take_200\", \"resample_20Msps_to_25Msps\"], \"episode_transforms\": [], \"domain_prefix\": \"ORACLE.run1_\"}], \"domains_source\": [\"ORACLE.run1_32\", \"ORACLE.run1_38\", \"ORACLE.run1_8\", \"ORACLE.run1_44\", \"ORACLE.run1_14\", \"ORACLE.run1_50\", \"ORACLE.run1_20\", \"ORACLE.run1_26\"], \"domains_target\": [\"C_A_1\", \"C_A_2\", \"C_A_3\", \"C_A_4\", \"C_A_5\", \"W_A_1\", \"W_A_2\", \"W_A_3\", \"W_A_4\"]}, \"results\": {\"source_test_label_accuracy\": 0.7496744791666666, \"source_test_label_loss\": 0.6865454912185669, \"target_test_label_accuracy\": 0.5453452797202797, \"target_test_label_loss\": 2129.4775390625, \"source_val_label_accuracy\": 0.7465169270833333, \"source_val_label_loss\": 0.6963220238685608, \"target_val_label_accuracy\": 0.5423951048951049, \"target_val_label_loss\": 2212.447265625, \"total_epochs_trained\": 8, \"total_experiment_time_secs\": 1313.7923464775085, \"confusion\": {\"ORACLE.run1_26\": {\"0\": {\"10\": 44, \"14\": 46, \"8\": 18, \"4\": 41, \"0\": 78, \"1\": 3, \"7\": 1, \"6\": 6, \"9\": 2, \"15\": 1}, \"4\": {\"4\": 105, \"8\": 22, \"1\": 17, \"0\": 34, \"7\": 9, \"14\": 44, \"10\": 9}, \"14\": {\"0\": 47, \"14\": 79, \"4\": 60, \"10\": 17, \"7\": 1, \"8\": 5, \"1\": 31}, \"12\": {\"12\": 240}, \"8\": {\"7\": 31, \"0\": 19, \"8\": 92, \"15\": 18, \"4\": 30, \"14\": 13, \"10\": 20, \"9\": 6, \"6\": 5, \"3\": 1, \"2\": 1, \"1\": 2, \"5\": 2}, \"7\": {\"7\": 145, \"2\": 20, \"4\": 16, \"3\": 28, \"8\": 15, \"15\": 3, \"1\": 3, \"0\": 5, \"14\": 3, \"9\": 1, \"10\": 1}, \"13\": {\"13\": 172, \"15\": 9, \"5\": 44, \"2\": 6, \"9\": 9}, \"5\": {\"5\": 177, \"13\": 18, \"8\": 3, \"2\": 14, \"15\": 22, \"9\": 6}, \"15\": {\"15\": 97, \"9\": 77, \"13\": 7, \"8\": 18, \"0\": 3, \"5\": 16, \"2\": 8, \"7\": 6, \"6\": 6, \"10\": 2}, \"10\": {\"14\": 23, \"0\": 62, \"8\": 36, \"4\": 10, \"10\": 92, \"6\": 11, \"9\": 3, \"7\": 2, \"1\": 1}, \"3\": {\"3\": 157, \"2\": 62, \"7\": 21}, \"9\": {\"9\": 116, \"15\": 86, \"5\": 7, \"0\": 1, \"8\": 9, \"13\": 6, \"6\": 12, \"14\": 1, \"2\": 1, \"10\": 1}, \"6\": {\"6\": 166, \"10\": 31, \"9\": 27, \"15\": 10, \"8\": 3, \"0\": 2, \"13\": 1}, \"1\": {\"14\": 19, \"1\": 176, \"0\": 7, \"4\": 28, \"10\": 4, \"7\": 2, \"3\": 1, \"8\": 3}, \"11\": {\"11\": 240}, \"2\": {\"15\": 19, \"13\": 4, \"3\": 71, \"2\": 91, \"5\": 22, \"7\": 24, \"8\": 8, \"9\": 1}}, \"ORACLE.run1_44\": {\"1\": {\"1\": 140, \"3\": 22, \"12\": 46, \"2\": 16, \"10\": 16}, \"11\": {\"11\": 221, \"6\": 9, \"13\": 10}, \"3\": {\"3\": 226, \"1\": 12, \"12\": 1, \"2\": 1}, \"6\": {\"13\": 46, \"6\": 158, \"7\": 10, \"9\": 23, \"11\": 3}, \"7\": {\"7\": 154, \"9\": 35, \"2\": 37, \"6\": 10, \"13\": 2, \"10\": 1, \"1\": 1}, \"5\": {\"5\": 192, \"0\": 18, \"15\": 15, \"8\": 6, \"14\": 8, \"4\": 1}, \"2\": {\"1\": 18, \"2\": 174, \"9\": 2, \"7\": 34, \"10\": 10, \"3\": 1, \"12\": 1}, \"15\": {\"15\": 163, \"14\": 39, \"0\": 19, \"8\": 8, \"5\": 10, \"4\": 1}, \"10\": {\"10\": 182, \"1\": 24, \"2\": 17, \"12\": 17}, \"13\": {\"13\": 162, \"6\": 45, \"9\": 20, \"11\": 8, \"4\": 3, \"7\": 2}, \"8\": {\"0\": 82, \"8\": 139, \"15\": 13, \"5\": 6}, \"4\": {\"14\": 80, \"4\": 155, \"13\": 2, \"15\": 3}, \"9\": {\"6\": 29, \"9\": 118, \"13\": 25, \"7\": 64, \"2\": 2, \"4\": 2}, \"14\": {\"4\": 76, \"14\": 131, \"5\": 10, \"15\": 23}, \"0\": {\"0\": 140, \"15\": 6, \"8\": 79, \"5\": 15}, \"12\": {\"10\": 15, \"1\": 48, \"12\": 177}}, \"ORACLE.run1_50\": {\"15\": {\"15\": 172, \"4\": 20, \"1\": 40, \"6\": 2, \"11\": 5, \"13\": 1}, \"4\": {\"4\": 123, \"15\": 37, \"5\": 32, \"1\": 32, \"6\": 8, \"13\": 4, \"7\": 4}, \"6\": {\"1\": 8, \"15\": 6, \"13\": 34, \"6\": 166, \"4\": 8, \"5\": 8, \"7\": 8, \"0\": 1, \"2\": 1}, \"2\": {\"2\": 212, \"0\": 28}, \"5\": {\"13\": 46, \"5\": 114, \"4\": 31, \"6\": 8, \"7\": 18, \"10\": 3, \"1\": 19, \"15\": 1}, \"9\": {\"9\": 210, \"11\": 17, \"12\": 13}, \"8\": {\"8\": 234, \"10\": 4, \"3\": 2}, \"12\": {\"12\": 223, \"9\": 9, \"14\": 4, \"11\": 4}, \"10\": {\"10\": 215, \"0\": 18, \"13\": 5, \"8\": 1, \"7\": 1}, \"1\": {\"1\": 161, \"5\": 5, \"15\": 42, \"4\": 25, \"6\": 4, \"11\": 2, \"2\": 1}, \"0\": {\"0\": 200, \"2\": 25, \"10\": 11, \"13\": 4}, \"3\": {\"3\": 236, \"8\": 4}, \"13\": {\"13\": 172, \"6\": 11, \"5\": 29, \"4\": 1, \"10\": 7, \"7\": 19, \"0\": 1}, \"11\": {\"11\": 215, \"15\": 10, \"1\": 1, \"9\": 8, \"14\": 3, \"12\": 2, \"4\": 1}, \"7\": {\"7\": 184, \"5\": 12, \"6\": 2, \"13\": 32, \"10\": 9, \"4\": 1}, \"14\": {\"14\": 235, \"12\": 4, \"11\": 1}}, \"ORACLE.run1_38\": {\"15\": {\"8\": 19, \"15\": 182, \"5\": 5, \"13\": 21, \"1\": 11, \"10\": 2}, \"11\": {\"11\": 217, \"14\": 18, \"3\": 2, \"4\": 2, \"12\": 1}, \"10\": {\"10\": 197, \"11\": 2, \"13\": 16, \"0\": 6, \"15\": 2, \"5\": 2, \"7\": 3, \"8\": 10, \"2\": 1, \"4\": 1}, \"14\": {\"14\": 199, \"11\": 14, \"2\": 24, \"12\": 1, \"4\": 1, \"10\": 1}, \"6\": {\"6\": 214, \"9\": 24, \"5\": 2}, \"4\": {\"4\": 226, \"12\": 13, \"10\": 1}, \"13\": {\"13\": 172, \"15\": 35, \"8\": 6, \"5\": 2, \"10\": 9, \"2\": 12, \"0\": 2, \"1\": 2}, \"3\": {\"9\": 15, \"3\": 209, \"5\": 2, \"0\": 9, \"7\": 2, \"6\": 2, \"11\": 1}, \"7\": {\"5\": 27, \"7\": 180, \"0\": 19, \"10\": 3, \"8\": 11}, \"8\": {\"8\": 157, \"7\": 13, \"5\": 36, \"0\": 22, \"15\": 7, \"1\": 1, \"13\": 2, \"10\": 2}, \"1\": {\"1\": 225, \"15\": 14, \"8\": 1}, \"5\": {\"5\": 120, \"8\": 60, \"1\": 4, \"7\": 28, \"15\": 7, \"0\": 4, \"9\": 6, \"6\": 11}, \"0\": {\"7\": 26, \"8\": 46, \"5\": 11, \"0\": 139, \"3\": 7, \"10\": 7, \"13\": 2, \"12\": 1, \"6\": 1}, \"2\": {\"2\": 217, \"14\": 16, \"13\": 5, \"10\": 1, \"15\": 1}, \"12\": {\"12\": 237, \"4\": 3}, \"9\": {\"9\": 181, \"6\": 51, \"7\": 1, \"5\": 7}}, \"ORACLE.run1_20\": {\"10\": {\"10\": 228, \"14\": 10, \"8\": 2}, \"7\": {\"7\": 182, \"2\": 28, \"3\": 3, \"4\": 1, \"8\": 12, \"9\": 8, \"13\": 4, \"12\": 1, \"6\": 1}, \"4\": {\"4\": 202, \"8\": 14, \"10\": 11, \"3\": 11, \"12\": 2}, \"13\": {\"13\": 218, \"2\": 17, \"7\": 1, \"9\": 4}, \"1\": {\"1\": 140, \"3\": 5, \"12\": 40, \"15\": 29, \"5\": 23, \"9\": 1, \"0\": 2}, \"0\": {\"0\": 117, \"15\": 48, \"5\": 61, \"1\": 4, \"12\": 3, \"7\": 2, \"3\": 2, \"8\": 2, \"13\": 1}, \"12\": {\"12\": 109, \"9\": 22, \"5\": 18, \"3\": 29, \"1\": 50, \"15\": 5, \"2\": 6, \"13\": 1}, \"5\": {\"0\": 45, \"12\": 18, \"5\": 135, \"1\": 27, \"15\": 10, \"3\": 4, \"4\": 1}, \"6\": {\"6\": 214, \"14\": 24, \"8\": 2}, \"2\": {\"2\": 114, \"9\": 63, \"13\": 16, \"12\": 6, \"15\": 1, \"1\": 3, \"7\": 26, \"3\": 10, \"5\": 1}, \"8\": {\"8\": 202, \"7\": 12, \"14\": 11, \"4\": 13, \"10\": 1, \"6\": 1}, \"11\": {\"11\": 240}, \"9\": {\"9\": 133, \"2\": 62, \"3\": 20, \"12\": 19, \"7\": 3, \"13\": 2, \"1\": 1}, \"14\": {\"14\": 194, \"6\": 21, \"10\": 16, \"8\": 8, \"7\": 1}, \"15\": {\"15\": 146, \"0\": 40, \"1\": 40, \"12\": 3, \"5\": 11}, \"3\": {\"3\": 123, \"4\": 11, \"9\": 37, \"12\": 46, \"1\": 4, \"2\": 11, \"8\": 1, \"7\": 4, \"10\": 1, \"5\": 2}}, \"ORACLE.run1_14\": {\"14\": {\"14\": 200, \"2\": 15, \"13\": 16, \"3\": 2, \"6\": 7}, \"0\": {\"10\": 19, \"0\": 215, \"3\": 4, \"11\": 2}, \"4\": {\"5\": 31, \"4\": 194, \"3\": 9, \"6\": 1, \"2\": 2, \"1\": 3}, \"11\": {\"11\": 222, \"9\": 9, \"0\": 9}, \"13\": {\"6\": 99, \"14\": 43, \"13\": 72, \"2\": 18, \"7\": 1, \"5\": 5, \"4\": 1, \"3\": 1}, \"9\": {\"9\": 240}, \"3\": {\"3\": 224, \"2\": 5, \"0\": 1, \"14\": 2, \"4\": 6, \"13\": 1, \"5\": 1}, \"6\": {\"6\": 160, \"13\": 62, \"14\": 11, \"2\": 7}, \"1\": {\"1\": 221, \"5\": 16, \"4\": 3}, \"5\": {\"4\": 44, \"5\": 170, \"1\": 16, \"2\": 9, \"3\": 1}, \"12\": {\"12\": 238, \"9\": 2}, \"10\": {\"10\": 233, \"0\": 7}, \"8\": {\"8\": 240}, \"7\": {\"7\": 240}, \"15\": {\"15\": 235, \"7\": 5}, \"2\": {\"2\": 122, \"14\": 29, \"6\": 31, \"13\": 8, \"5\": 32, \"15\": 2, \"3\": 11, \"4\": 5}}, \"ORACLE.run1_32\": {\"11\": {\"14\": 23, \"11\": 210, \"3\": 2, \"7\": 4, \"5\": 1}, \"1\": {\"1\": 235, \"10\": 5}, \"2\": {\"2\": 184, \"4\": 50, \"7\": 4, \"13\": 1, \"5\": 1}, \"0\": {\"0\": 185, \"8\": 25, \"4\": 3, \"7\": 11, \"11\": 1, \"14\": 5, \"5\": 6, \"13\": 3, \"2\": 1}, \"3\": {\"3\": 228, \"13\": 6, \"8\": 1, \"5\": 4, \"14\": 1}, \"8\": {\"5\": 11, \"8\": 180, \"0\": 23, \"13\": 19, \"3\": 4, \"7\": 1, \"14\": 2}, \"12\": {\"12\": 240}, \"5\": {\"13\": 43, \"8\": 14, \"5\": 90, \"3\": 11, \"7\": 45, \"4\": 23, \"0\": 9, \"14\": 3, \"11\": 2}, \"15\": {\"15\": 236, \"3\": 2, \"8\": 2}, \"7\": {\"7\": 102, \"5\": 50, \"4\": 32, \"2\": 5, \"0\": 3, \"14\": 19, \"11\": 11, \"13\": 17, \"8\": 1}, \"4\": {\"4\": 159, \"7\": 23, \"2\": 41, \"5\": 8, \"13\": 9}, \"14\": {\"14\": 119, \"0\": 23, \"11\": 64, \"7\": 13, \"3\": 4, \"5\": 4, \"8\": 4, \"13\": 8, \"4\": 1}, \"10\": {\"10\": 239, \"1\": 1}, \"6\": {\"6\": 240}, \"13\": {\"3\": 20, \"13\": 142, \"7\": 10, \"5\": 28, \"8\": 13, \"4\": 17, \"0\": 6, \"11\": 2, \"14\": 2}, \"9\": {\"9\": 240}}, \"ORACLE.run1_8\": {\"9\": {\"9\": 240}, \"11\": {\"11\": 208, \"1\": 30, \"5\": 2}, \"8\": {\"8\": 239, \"12\": 1}, \"4\": {\"4\": 155, \"14\": 29, \"13\": 41, \"6\": 10, \"10\": 2, \"0\": 3}, \"13\": {\"13\": 95, \"6\": 9, \"4\": 38, \"14\": 13, \"10\": 16, \"0\": 67, \"7\": 2}, \"14\": {\"10\": 34, \"14\": 168, \"13\": 10, \"4\": 20, \"1\": 7, \"5\": 1}, \"2\": {\"2\": 210, \"3\": 20, \"7\": 9, \"12\": 1}, \"3\": {\"3\": 222, \"2\": 12, \"12\": 6}, \"1\": {\"1\": 214, \"11\": 18, \"14\": 6, \"5\": 2}, \"0\": {\"13\": 50, \"0\": 162, \"7\": 10, \"4\": 7, \"6\": 10, \"10\": 1}, \"5\": {\"5\": 211, \"1\": 15, \"14\": 5, \"10\": 9}, \"15\": {\"15\": 184, \"12\": 49, \"8\": 5, \"2\": 1, \"3\": 1}, \"10\": {\"10\": 184, \"1\": 1, \"14\": 44, \"13\": 9, \"4\": 2}, \"12\": {\"12\": 149, \"15\": 72, \"3\": 17, \"8\": 2}, \"6\": {\"0\": 5, \"6\": 162, \"7\": 48, \"4\": 23, \"13\": 2}, \"7\": {\"7\": 179, \"6\": 59, \"12\": 1, \"0\": 1}}, \"W_A_4\": {\"71\": {\"114\": 2, \"50\": 1, \"112\": 1, \"55\": 2, \"4\": 1, \"71\": 3}, \"17\": {\"71\": 1, \"0\": 1, \"82\": 2, \"17\": 1, \"118\": 1, \"129\": 1, \"1\": 1, \"3\": 1, \"50\": 1, \"46\": 1, \"42\": 1}, \"105\": {\"100\": 1, \"71\": 1, \"105\": 3, \"119\": 1, \"55\": 1, \"114\": 2, \"5\": 1, \"118\": 1, \"91\": 1}, \"92\": {\"109\": 1, \"100\": 1, \"92\": 5, \"91\": 1, \"113\": 1, \"21\": 1, \"15\": 1, \"43\": 1}, \"100\": {\"63\": 1, \"109\": 1, \"38\": 1, \"100\": 3, \"20\": 1, \"46\": 1, \"42\": 1, \"120\": 1, \"83\": 2}, \"6\": {\"6\": 11, \"9\": 1}, \"36\": {\"6\": 1, \"36\": 3, \"127\": 2, \"30\": 1, \"47\": 1, \"112\": 1, \"15\": 1}, \"35\": {\"92\": 3, \"126\": 1, \"35\": 4, \"76\": 1, \"90\": 1, \"20\": 2}, \"63\": {\"109\": 1, \"63\": 4, \"113\": 2, \"21\": 2, \"26\": 1, \"83\": 1, \"11\": 1}, \"104\": {\"35\": 1, \"92\": 1, \"104\": 8, \"107\": 1, \"50\": 1}, \"114\": {\"109\": 1, \"71\": 1, \"114\": 3, \"55\": 1, \"95\": 2, \"112\": 1, \"1\": 1, \"85\": 1, \"4\": 1}, \"68\": {\"68\": 6, \"47\": 1, \"106\": 2, \"111\": 1, \"0\": 1, \"80\": 1}, \"109\": {\"79\": 1, \"109\": 2, \"74\": 2, \"88\": 1, \"83\": 1, \"117\": 1, \"126\": 2}, \"27\": {\"17\": 1, \"27\": 1, \"122\": 2, \"18\": 1, \"98\": 2, \"8\": 1, \"4\": 1, \"46\": 1, \"78\": 2}, \"79\": {\"79\": 10, \"87\": 1, \"41\": 1}, \"0\": {\"71\": 1, \"0\": 5, \"8\": 1, \"55\": 2, \"119\": 1, \"93\": 1, \"20\": 1}, \"28\": {\"57\": 1, \"28\": 4, \"22\": 1, \"7\": 1, \"13\": 1, \"109\": 1, \"79\": 2, \"121\": 1}, \"4\": {\"127\": 1, \"4\": 3, \"29\": 1, \"50\": 1, \"44\": 2, \"85\": 1, \"55\": 1, \"41\": 1, \"71\": 1}, \"106\": {\"106\": 4, \"28\": 1, \"91\": 1, \"119\": 1, \"85\": 1, \"9\": 2, \"98\": 1, \"46\": 1}, \"40\": {\"40\": 4, \"129\": 2, \"43\": 2, \"50\": 1, \"14\": 1, \"37\": 1, \"3\": 1}, \"127\": {\"68\": 1, \"127\": 2, \"113\": 1, \"98\": 1, \"129\": 1, \"21\": 1, \"0\": 1, \"95\": 2, \"12\": 1, \"9\": 1}, \"57\": {\"28\": 1, \"57\": 7, \"72\": 1, \"19\": 1, \"93\": 1, \"126\": 1}, \"60\": {\"60\": 2, \"28\": 1, \"53\": 2, \"27\": 2, \"19\": 2, \"23\": 1, \"42\": 1, \"34\": 1}, \"69\": {\"69\": 8, \"84\": 1, \"129\": 1, \"20\": 1, \"93\": 1}, \"84\": {\"84\": 2, \"28\": 1, \"21\": 1, \"26\": 1, \"39\": 1}, \"24\": {\"28\": 2, \"24\": 3, \"119\": 1, \"23\": 1, \"91\": 2, \"25\": 1}, \"94\": {\"94\": 10, \"97\": 1, \"30\": 1}, \"7\": {\"28\": 2, \"72\": 2, \"37\": 2, \"42\": 2, \"8\": 2, \"78\": 2}, \"96\": {\"116\": 1, \"84\": 1, \"92\": 1, \"113\": 1, \"67\": 1, \"53\": 1, \"96\": 1, \"126\": 1, \"64\": 2}, \"116\": {\"60\": 2, \"53\": 1, \"116\": 2, \"65\": 1, \"89\": 1, \"45\": 1, \"7\": 1, \"31\": 2, \"122\": 1}, \"47\": {\"24\": 1, \"57\": 1, \"34\": 3, \"75\": 2, \"123\": 1, \"47\": 3, \"36\": 1}, \"119\": {\"119\": 10, \"8\": 2}, \"74\": {\"109\": 3, \"74\": 3, \"128\": 1, \"23\": 1, \"80\": 1, \"20\": 1}, \"93\": {\"93\": 5, \"108\": 1, \"18\": 1, \"72\": 2, \"100\": 1, \"2\": 1, \"11\": 1}, \"2\": {\"93\": 2, \"74\": 1, \"113\": 2, \"42\": 2, \"2\": 2, \"23\": 1, \"11\": 2}, \"37\": {\"37\": 8, \"91\": 1, \"119\": 3}, \"15\": {\"24\": 2, \"98\": 1, \"80\": 1, \"20\": 1, \"46\": 1, \"58\": 1, \"75\": 1, \"15\": 4}, \"102\": {\"102\": 7, \"39\": 1, \"73\": 2, \"115\": 1, \"18\": 1}, \"87\": {\"87\": 3, \"109\": 1, \"91\": 2, \"70\": 1, \"82\": 1}, \"107\": {\"87\": 3, \"78\": 1, \"107\": 6, \"1\": 1, \"102\": 1}, \"61\": {\"104\": 2, \"17\": 2, \"121\": 3, \"13\": 2, \"61\": 2, \"18\": 1}, \"78\": {\"119\": 2, \"93\": 2, \"80\": 2, \"78\": 2, \"128\": 1, \"100\": 1, \"121\": 1, \"17\": 1}, \"9\": {\"102\": 1, \"9\": 4, \"11\": 1, \"55\": 1, \"43\": 1, \"85\": 1, \"112\": 2, \"101\": 1}, \"32\": {\"74\": 1, \"2\": 1, \"32\": 2, \"93\": 1, \"38\": 1, \"18\": 1, \"17\": 1, \"66\": 1, \"78\": 1, \"71\": 1, \"81\": 1}, \"14\": {\"14\": 1, \"91\": 1, \"41\": 1, \"88\": 1, \"67\": 1, \"13\": 2, \"33\": 1, \"86\": 1, \"3\": 1}, \"62\": {\"91\": 1, \"23\": 1, \"78\": 1, \"62\": 4, \"83\": 2, \"60\": 1, \"8\": 1, \"86\": 1}, \"1\": {\"25\": 1, \"105\": 1, \"101\": 1, \"1\": 3, \"98\": 2, \"112\": 3, \"94\": 1}, \"23\": {\"23\": 3, \"33\": 1, \"88\": 1, \"38\": 2, \"111\": 1, \"86\": 1, \"80\": 1}, \"95\": {\"105\": 2, \"95\": 8, \"51\": 1, \"1\": 1}, \"56\": {\"24\": 2, \"33\": 1, \"56\": 6, \"123\": 1, \"1\": 1, \"111\": 1}, \"91\": {\"37\": 1, \"14\": 1, \"91\": 7, \"53\": 2, \"29\": 1}, \"34\": {\"34\": 3, \"92\": 2, \"40\": 1, \"47\": 1, \"64\": 1, \"44\": 1, \"35\": 1, \"122\": 1, \"77\": 1}, \"25\": {\"34\": 2, \"25\": 6, \"54\": 2}, \"3\": {\"72\": 1, \"110\": 1, \"129\": 1, \"8\": 2, \"39\": 2, \"15\": 1, \"2\": 1, \"77\": 1, \"43\": 1, \"50\": 1}, \"72\": {\"72\": 10}, \"73\": {\"73\": 4, \"107\": 1, \"19\": 1, \"32\": 1, \"87\": 1, \"20\": 1, \"40\": 1, \"62\": 1, \"41\": 1}, \"41\": {\"72\": 1, \"55\": 1, \"115\": 1, \"14\": 1, \"41\": 5, \"0\": 1, \"4\": 1, \"126\": 1}, \"70\": {\"95\": 1, \"57\": 1, \"114\": 2, \"70\": 2, \"128\": 1, \"99\": 2, \"101\": 1, \"53\": 1, \"108\": 1}, \"110\": {\"41\": 1, \"57\": 1, \"63\": 1, \"88\": 1, \"129\": 1, \"33\": 1, \"119\": 1, \"49\": 1, \"109\": 1, \"117\": 1, \"29\": 1, \"85\": 1}, \"45\": {\"73\": 1, \"72\": 1, \"45\": 6, \"23\": 1, \"16\": 1, \"60\": 1, \"62\": 1}, \"59\": {\"59\": 10, \"12\": 1, \"10\": 1}, \"55\": {\"55\": 7, \"95\": 2, \"101\": 2, \"0\": 1}, \"97\": {\"85\": 1, \"94\": 1, \"100\": 1, \"59\": 1, \"54\": 2, \"97\": 3, \"42\": 1, \"91\": 1, \"25\": 1}, \"66\": {\"91\": 1, \"26\": 1, \"22\": 1, \"72\": 1, \"39\": 1, \"117\": 1, \"8\": 2, \"80\": 1, \"23\": 1, \"121\": 2}, \"26\": {\"124\": 1, \"26\": 2, \"84\": 2, \"99\": 1, \"39\": 1, \"29\": 1, \"118\": 1, \"65\": 1, \"35\": 1, \"89\": 1}, \"53\": {\"53\": 9, \"77\": 2, \"8\": 1}, \"13\": {\"91\": 1, \"26\": 1, \"67\": 4, \"18\": 2, \"35\": 1, \"20\": 1, \"63\": 1, \"32\": 1}, \"33\": {\"87\": 1, \"85\": 1, \"86\": 1, \"101\": 1, \"33\": 3, \"49\": 2, \"29\": 2, \"14\": 1}, \"124\": {\"129\": 1, \"124\": 4, \"107\": 2, \"71\": 1}, \"85\": {\"53\": 1, \"85\": 4, \"108\": 1, \"44\": 1, \"99\": 2, \"43\": 1, \"5\": 1, \"126\": 1}, \"129\": {\"87\": 1, \"66\": 1, \"8\": 3, \"0\": 1, \"120\": 1, \"129\": 1, \"108\": 1, \"112\": 1, \"95\": 2}, \"5\": {\"88\": 1, \"5\": 1, \"93\": 1, \"19\": 1, \"42\": 2, \"44\": 2, \"30\": 1, \"105\": 1, \"11\": 2}, \"67\": {\"67\": 7, \"113\": 3, \"43\": 1, \"18\": 1}, \"101\": {\"120\": 1, \"49\": 1, \"1\": 4, \"12\": 1, \"101\": 4, \"51\": 1}, \"88\": {\"88\": 5, \"91\": 1, \"113\": 1, \"42\": 2, \"37\": 1, \"49\": 1, \"38\": 1}, \"125\": {\"125\": 9, \"6\": 1, \"56\": 1, \"54\": 1}, \"49\": {\"88\": 1, \"101\": 1, \"100\": 2, \"20\": 1, \"46\": 1, \"112\": 1, \"99\": 1, \"29\": 2, \"49\": 1, \"0\": 1}, \"86\": {\"101\": 2, \"120\": 2, \"129\": 1, \"0\": 1, \"11\": 2, \"77\": 1, \"91\": 1, \"29\": 1, \"8\": 1}, \"10\": {\"88\": 2, \"91\": 1, \"75\": 3, \"30\": 1, \"70\": 1, \"99\": 1, \"10\": 1, \"42\": 2}, \"120\": {\"120\": 7, \"33\": 1, \"99\": 1, \"23\": 1, \"88\": 1, \"72\": 1}, \"115\": {\"101\": 2, \"44\": 1, \"64\": 1, \"39\": 1, \"17\": 1, \"77\": 1, \"23\": 1, \"102\": 1, \"118\": 1, \"104\": 1, \"50\": 1}, \"31\": {\"14\": 1, \"31\": 4, \"21\": 1, \"0\": 1, \"124\": 1, \"1\": 1, \"56\": 1, \"69\": 1, \"17\": 1}, \"22\": {\"115\": 2, \"63\": 1, \"89\": 1, \"22\": 1, \"45\": 1, \"119\": 2, \"100\": 1, \"121\": 2, \"28\": 1}, \"113\": {\"7\": 1, \"113\": 4, \"63\": 1, \"53\": 2, \"44\": 2, \"119\": 2}, \"58\": {\"88\": 1, \"58\": 7, \"49\": 1, \"12\": 1, \"53\": 1, \"3\": 1}, \"75\": {\"75\": 11, \"34\": 1}, \"12\": {\"113\": 1, \"12\": 3, \"9\": 1, \"59\": 1, \"49\": 1, \"95\": 2, \"55\": 1, \"0\": 2}, \"89\": {\"89\": 5, \"113\": 1, \"20\": 1, \"46\": 1, \"19\": 1, \"114\": 2, \"107\": 1}, \"21\": {\"21\": 7, \"53\": 2, \"62\": 1}, \"99\": {\"22\": 2, \"99\": 8, \"120\": 1, \"10\": 1}, \"51\": {\"6\": 1, \"129\": 1, \"75\": 1, \"39\": 1, \"46\": 2, \"123\": 1, \"101\": 1, \"51\": 2, \"105\": 1, \"119\": 1}, \"30\": {\"30\": 3, \"8\": 1, \"70\": 1, \"128\": 1, \"5\": 1, \"108\": 1, \"55\": 1, \"95\": 1, \"77\": 2}, \"8\": {\"8\": 11, \"126\": 1}, \"39\": {\"39\": 7, \"72\": 2, \"18\": 1, \"126\": 1, \"44\": 1}, \"98\": {\"129\": 1, \"86\": 1, \"27\": 1, \"32\": 1, \"29\": 2, \"0\": 2, \"73\": 1, \"9\": 1, \"59\": 1, \"106\": 1}, \"54\": {\"99\": 1, \"54\": 8, \"51\": 1, \"94\": 1, \"25\": 1}, \"77\": {\"77\": 11, \"53\": 1}, \"43\": {\"43\": 4, \"99\": 1, \"49\": 1, \"38\": 1, \"85\": 2, \"3\": 1, \"80\": 2}, \"80\": {\"99\": 4, \"80\": 5, \"44\": 2, \"54\": 1}, \"11\": {\"53\": 2, \"108\": 2, \"38\": 1, \"83\": 1, \"122\": 1, \"11\": 1, \"77\": 2, \"93\": 1, \"5\": 1}, \"52\": {\"77\": 1, \"60\": 1, \"71\": 1, \"8\": 1, \"52\": 1, \"72\": 1}, \"50\": {\"43\": 1, \"12\": 1, \"112\": 1, \"71\": 1, \"36\": 1, \"50\": 2, \"58\": 1, \"8\": 1, \"19\": 1}, \"64\": {\"108\": 1, \"64\": 5, \"62\": 1, \"80\": 1, \"70\": 1, \"22\": 1, \"20\": 1, \"76\": 1}, \"111\": {\"111\": 10, \"55\": 1, \"71\": 1}, \"108\": {\"108\": 3, \"80\": 1, \"93\": 1, \"83\": 1, \"38\": 1, \"99\": 2, \"88\": 1, \"8\": 2}, \"19\": {\"43\": 1, \"19\": 1, \"120\": 1, \"93\": 1, \"28\": 1, \"98\": 1, \"51\": 1, \"101\": 1, \"8\": 2, \"39\": 1, \"44\": 1}, \"18\": {\"18\": 5, \"62\": 1, \"117\": 1, \"126\": 1, \"66\": 1, \"81\": 1, \"39\": 1, \"78\": 1}, \"123\": {\"62\": 1, \"64\": 1, \"67\": 1, \"123\": 3, \"81\": 1, \"45\": 1, \"90\": 1, \"19\": 1, \"57\": 1, \"48\": 1}, \"121\": {\"31\": 1, \"38\": 1, \"121\": 4, \"76\": 1, \"90\": 1, \"48\": 1, \"92\": 1, \"39\": 1, \"81\": 1}, \"81\": {\"123\": 1, \"38\": 2, \"16\": 1, \"44\": 2, \"81\": 3, \"74\": 1, \"21\": 1, \"13\": 1}, \"38\": {\"38\": 8, \"72\": 2, \"8\": 2}, \"90\": {\"38\": 1, \"90\": 2, \"117\": 2, \"16\": 1, \"81\": 1, \"8\": 1, \"19\": 1, \"44\": 1, \"49\": 2}, \"83\": {\"70\": 1, \"42\": 1, \"122\": 1, \"60\": 1, \"83\": 3, \"13\": 1, \"99\": 1, \"49\": 1, \"93\": 1, \"78\": 1}, \"65\": {\"65\": 7, \"79\": 1, \"35\": 2, \"26\": 1, \"63\": 1}, \"42\": {\"30\": 1, \"42\": 5, \"128\": 1, \"20\": 1, \"59\": 1, \"91\": 1, \"78\": 2}, \"82\": {\"82\": 5, \"3\": 1}, \"44\": {\"80\": 1, \"44\": 6, \"42\": 2, \"88\": 2, \"28\": 1}, \"16\": {\"123\": 1, \"81\": 1, \"90\": 2, \"117\": 1, \"102\": 1, \"16\": 3, \"113\": 1, \"63\": 1, \"11\": 1}, \"122\": {\"18\": 1, \"123\": 1, \"27\": 1, \"122\": 2, \"49\": 1, \"126\": 1, \"60\": 1, \"11\": 1, \"69\": 1, \"8\": 1, \"115\": 1}, \"117\": {\"13\": 1, \"117\": 6, \"90\": 1, \"66\": 1, \"20\": 1, \"113\": 1, \"57\": 1}, \"126\": {\"18\": 1, \"38\": 1, \"78\": 1, \"126\": 4, \"20\": 2, \"39\": 1, \"93\": 1, \"11\": 1}, \"76\": {\"76\": 5, \"16\": 1, \"79\": 1, \"20\": 1, \"89\": 1, \"26\": 1, \"64\": 2}, \"20\": {\"39\": 2, \"126\": 1, \"100\": 1, \"20\": 4, \"72\": 1, \"26\": 1, \"18\": 1, \"74\": 1}, \"29\": {\"29\": 6, \"8\": 1, \"112\": 1, \"105\": 1, \"91\": 1, \"42\": 1, \"85\": 1}, \"128\": {\"39\": 2, \"128\": 3, \"20\": 2, \"93\": 1, \"72\": 2, \"91\": 2}, \"46\": {\"46\": 5, \"121\": 1, \"112\": 2, \"98\": 1, \"21\": 1, \"78\": 1, \"24\": 1}, \"103\": {\"89\": 3, \"46\": 1, \"103\": 4, \"4\": 1, \"51\": 1, \"70\": 1, \"125\": 1}, \"118\": {\"121\": 1, \"46\": 1, \"2\": 1, \"118\": 4, \"90\": 1, \"81\": 1, \"26\": 1, \"102\": 1, \"69\": 1}, \"112\": {\"29\": 1, \"5\": 1, \"50\": 1, \"112\": 4, \"70\": 1, \"33\": 1, \"14\": 1}, \"48\": {\"121\": 1, \"48\": 5, \"2\": 1, \"31\": 1}}, \"C_A_5\": {\"26\": {\"26\": 11, \"38\": 1}, \"7\": {\"7\": 12}, \"56\": {\"56\": 12}, \"36\": {\"36\": 12}, \"47\": {\"47\": 5, \"39\": 1, \"3\": 1, \"23\": 1}, \"2\": {\"2\": 10}, \"15\": {\"15\": 11, \"16\": 1}, \"14\": {\"14\": 5, \"2\": 4, \"54\": 1, \"31\": 1, \"57\": 1}, \"27\": {\"27\": 11, \"41\": 1}, \"40\": {\"40\": 5, \"15\": 1, \"10\": 1, \"19\": 1}, \"49\": {\"49\": 12}, \"45\": {\"30\": 2, \"27\": 2, \"4\": 1, \"6\": 3, \"45\": 2, \"44\": 1, \"23\": 1}, \"46\": {\"46\": 8, \"3\": 1, \"23\": 1, \"39\": 1, \"16\": 1}, \"11\": {\"11\": 9, \"15\": 1, \"46\": 1, \"49\": 1}, \"30\": {\"30\": 6, \"1\": 3, \"45\": 1, \"48\": 1, \"9\": 1}, \"0\": {\"0\": 11, \"43\": 1}, \"10\": {\"56\": 2, \"10\": 5, \"2\": 2, \"24\": 1, \"49\": 1, \"13\": 1}, \"1\": {\"1\": 7, \"48\": 3, \"41\": 1, \"50\": 1}, \"42\": {\"42\": 11, \"57\": 1}, \"54\": {\"54\": 12}, \"55\": {\"1\": 2, \"55\": 4, \"9\": 1, \"6\": 1, \"50\": 2}, \"23\": {\"23\": 10, \"52\": 1, \"47\": 1}, \"25\": {\"25\": 6, \"32\": 1, \"18\": 1}, \"28\": {\"28\": 11, \"29\": 1}, \"32\": {\"32\": 12}, \"9\": {\"9\": 12}, \"39\": {\"23\": 2, \"39\": 10}, \"3\": {\"3\": 8, \"46\": 1, \"2\": 1}, \"29\": {\"29\": 4, \"50\": 2, \"32\": 3, \"34\": 2, \"9\": 1}, \"17\": {\"17\": 11, \"27\": 1}, \"35\": {\"35\": 12}, \"44\": {\"44\": 6, \"18\": 1, \"40\": 1, \"55\": 2, \"5\": 1, \"29\": 1}, \"5\": {\"33\": 1, \"44\": 1, \"4\": 2, \"5\": 2, \"55\": 1, \"32\": 1, \"29\": 2}, \"33\": {\"33\": 9, \"9\": 1}, \"34\": {\"34\": 11, \"28\": 1}, \"13\": {\"10\": 4, \"35\": 1, \"13\": 7}, \"41\": {\"41\": 10, \"42\": 2}, \"6\": {\"6\": 7, \"48\": 1, \"55\": 2, \"45\": 1, \"1\": 1}, \"51\": {\"51\": 10}, \"50\": {\"39\": 2, \"50\": 4, \"48\": 2, \"27\": 3, \"54\": 1}, \"37\": {\"37\": 12}, \"18\": {\"18\": 8, \"8\": 1, \"25\": 1, \"42\": 2}, \"52\": {\"52\": 10}, \"19\": {\"44\": 2, \"55\": 2, \"9\": 3, \"45\": 1, \"29\": 1, \"33\": 1, \"27\": 2}, \"4\": {\"4\": 8, \"9\": 2, \"50\": 1, \"17\": 1}, \"48\": {\"1\": 3, \"48\": 9}, \"53\": {\"53\": 8, \"20\": 1, \"27\": 1}, \"24\": {\"24\": 10}, \"12\": {\"12\": 7, \"38\": 1}, \"8\": {\"8\": 10, \"32\": 2}, \"20\": {\"20\": 11, \"32\": 1}, \"38\": {\"38\": 10}, \"43\": {\"43\": 8}, \"31\": {\"31\": 10}, \"22\": {\"22\": 4, \"44\": 1, \"34\": 1, \"35\": 2, \"19\": 1, \"52\": 1}, \"21\": {\"21\": 8}, \"57\": {\"57\": 8}, \"16\": {\"16\": 8}}, \"W_A_1\": {\"105\": {\"105\": 3, \"87\": 1, \"55\": 2, \"17\": 2, \"110\": 1, \"45\": 1, \"82\": 1, \"107\": 1}, \"100\": {\"100\": 11, \"33\": 1}, \"112\": {\"112\": 3, \"111\": 1, \"75\": 1, \"127\": 1, \"9\": 1, \"24\": 1, \"88\": 1, \"17\": 1}, \"123\": {\"67\": 1, \"123\": 8, \"119\": 2, \"63\": 1}, \"13\": {\"87\": 2, \"61\": 1, \"13\": 2, \"57\": 1}, \"81\": {\"81\": 6, \"117\": 1, \"54\": 1, \"100\": 1, \"33\": 1}, \"124\": {\"124\": 6, \"114\": 1, \"116\": 1, \"17\": 1, \"97\": 1, \"87\": 1, \"1\": 1}, \"122\": {\"93\": 1, \"87\": 1, \"8\": 1, \"101\": 1, \"0\": 1, \"82\": 1, \"11\": 1, \"122\": 2, \"3\": 2, \"4\": 1}, \"111\": {\"105\": 1, \"111\": 9, \"110\": 1, \"12\": 1}, \"93\": {\"86\": 1, \"87\": 2, \"64\": 3, \"128\": 1, \"46\": 1, \"114\": 1, \"93\": 1, \"75\": 1, \"90\": 1}, \"106\": {\"105\": 2, \"68\": 1, \"106\": 2, \"110\": 2, \"97\": 1, \"5\": 1, \"127\": 1, \"9\": 1, \"107\": 1}, \"113\": {\"67\": 2, \"20\": 1, \"63\": 1, \"113\": 7, \"64\": 1}, \"95\": {\"95\": 4, \"87\": 1, \"13\": 2, \"2\": 1}, \"87\": {\"87\": 2, \"114\": 1, \"20\": 1, \"11\": 1, \"17\": 1, \"72\": 1, \"61\": 1, \"3\": 1, \"24\": 1, \"64\": 1, \"93\": 1}, \"86\": {\"87\": 2, \"86\": 3, \"44\": 1, \"75\": 1, \"57\": 1}, \"67\": {\"123\": 1, \"67\": 5, \"63\": 1, \"2\": 1, \"117\": 2, \"118\": 2}, \"98\": {\"122\": 1, \"98\": 5, \"7\": 1, \"87\": 1, \"75\": 1, \"74\": 1, \"101\": 1, \"93\": 1}, \"79\": {\"79\": 9, \"60\": 2, \"46\": 1}, \"36\": {\"27\": 2, \"36\": 7, \"94\": 1, \"129\": 1, \"88\": 1}, \"91\": {\"98\": 1, \"52\": 3, \"7\": 3, \"128\": 1, \"93\": 1, \"91\": 1, \"44\": 1, \"101\": 1}, \"49\": {\"49\": 3, \"104\": 1, \"111\": 1, \"32\": 1, \"68\": 1, \"84\": 1, \"127\": 1, \"6\": 1, \"48\": 1, \"53\": 1}, \"31\": {\"91\": 2, \"1\": 1, \"31\": 6, \"126\": 1, \"99\": 1, \"7\": 1}, \"27\": {\"27\": 2, \"101\": 1, \"125\": 2, \"89\": 2, \"77\": 1, \"23\": 1, \"51\": 1, \"12\": 1, \"86\": 1}, \"52\": {\"52\": 9, \"108\": 1, \"57\": 1, \"77\": 1}, \"48\": {\"48\": 12}, \"8\": {\"8\": 4, \"104\": 2}, \"104\": {\"104\": 11, \"128\": 1}, \"110\": {\"40\": 2, \"72\": 2, \"110\": 8}, \"40\": {\"40\": 5, \"1\": 1, \"103\": 1, \"106\": 1}, \"33\": {\"8\": 1, \"33\": 8, \"102\": 1, \"64\": 1, \"14\": 1}, \"101\": {\"98\": 2, \"101\": 9, \"75\": 1}, \"28\": {\"28\": 4, \"96\": 1, \"99\": 1, \"128\": 1, \"90\": 1}, \"97\": {\"97\": 3, \"7\": 1, \"32\": 1, \"111\": 1, \"10\": 2, \"77\": 1, \"72\": 1, \"23\": 1, \"14\": 1}, \"5\": {\"5\": 5, \"98\": 1, \"114\": 2, \"75\": 1, \"129\": 1, \"101\": 1, \"4\": 1}, \"125\": {\"125\": 10}, \"121\": {\"121\": 3, \"62\": 1, \"76\": 2, \"100\": 2, \"108\": 2, \"90\": 1, \"26\": 1}, \"96\": {\"109\": 1, \"7\": 1, \"60\": 1, \"1\": 1, \"126\": 1, \"45\": 1, \"11\": 1, \"10\": 1, \"23\": 1, \"44\": 1, \"115\": 2}, \"90\": {\"96\": 1, \"16\": 1, \"104\": 2, \"90\": 7, \"88\": 1}, \"129\": {\"96\": 1, \"28\": 1, \"49\": 1, \"87\": 1, \"4\": 2, \"105\": 1, \"129\": 1, \"61\": 2, \"75\": 1, \"21\": 1}, \"84\": {\"5\": 1, \"84\": 4, \"37\": 2, \"11\": 2, \"97\": 1, \"95\": 1, \"57\": 1}, \"9\": {\"5\": 1, \"9\": 6, \"74\": 1, \"89\": 1, \"41\": 1, \"58\": 1, \"0\": 1}, \"109\": {\"109\": 11, \"21\": 1}, \"7\": {\"7\": 12}, \"26\": {\"125\": 1, \"26\": 8, \"16\": 1}, \"16\": {\"129\": 2, \"74\": 1, \"26\": 1, \"62\": 2, \"16\": 4, \"113\": 1, \"63\": 1}, \"92\": {\"92\": 12}, \"22\": {\"60\": 2, \"54\": 1, \"120\": 1, \"22\": 2, \"37\": 1, \"97\": 2, \"83\": 1, \"79\": 1, \"63\": 1}, \"70\": {\"75\": 1, \"105\": 1, \"19\": 1, \"30\": 1, \"126\": 2, \"12\": 1, \"64\": 1, \"127\": 1, \"5\": 1, \"90\": 1, \"34\": 1}, \"127\": {\"127\": 9, \"71\": 1, \"58\": 1, \"103\": 1}, \"55\": {\"55\": 7, \"14\": 1, \"4\": 1, \"73\": 1}, \"75\": {\"78\": 2, \"75\": 5, \"58\": 2, \"98\": 1, \"12\": 1, \"71\": 1}, \"23\": {\"64\": 2, \"48\": 1, \"99\": 2, \"41\": 1, \"109\": 1, \"24\": 1, \"65\": 1, \"2\": 1, \"23\": 1, \"53\": 1}, \"51\": {\"51\": 10, \"94\": 2}, \"60\": {\"64\": 1, \"60\": 4, \"128\": 1, \"123\": 2, \"91\": 1, \"41\": 1, \"28\": 1, \"118\": 1}, \"20\": {\"20\": 12}, \"94\": {\"127\": 1, \"75\": 1, \"94\": 5, \"125\": 2, \"103\": 1, \"15\": 2}, \"78\": {\"55\": 1, \"20\": 1, \"115\": 2, \"128\": 1, \"78\": 1, \"101\": 2, \"18\": 1, \"75\": 1, \"23\": 1, \"17\": 1}, \"64\": {\"64\": 12}, \"15\": {\"71\": 1, \"20\": 1, \"92\": 1, \"125\": 1, \"15\": 5, \"36\": 2, \"94\": 1}, \"61\": {\"20\": 2, \"99\": 4, \"61\": 2, \"57\": 2, \"64\": 2}, \"80\": {\"80\": 2, \"113\": 1, \"122\": 1, \"83\": 1, \"121\": 1}, \"34\": {\"71\": 2, \"128\": 2, \"126\": 1, \"56\": 1, \"57\": 1, \"14\": 1, \"90\": 1, \"121\": 1, \"68\": 1, \"34\": 1}, \"63\": {\"67\": 1, \"63\": 5, \"25\": 2, \"2\": 1, \"120\": 1, \"11\": 1, \"123\": 1}, \"108\": {\"20\": 2, \"74\": 1, \"108\": 2, \"77\": 2, \"48\": 1, \"104\": 2, \"90\": 2}, \"45\": {\"20\": 2, \"104\": 1, \"120\": 1, \"45\": 2, \"126\": 1, \"113\": 2, \"64\": 1, \"18\": 1, \"69\": 1}, \"71\": {\"5\": 1, \"71\": 6, \"6\": 1, \"59\": 2, \"34\": 1, \"85\": 1}, \"114\": {\"114\": 6, \"68\": 1, \"84\": 1, \"14\": 1, \"55\": 1, \"5\": 2}, \"69\": {\"118\": 1, \"120\": 1, \"50\": 2, \"69\": 5, \"13\": 1}, \"120\": {\"117\": 1, \"120\": 6, \"8\": 1, \"38\": 2, \"39\": 1, \"113\": 1}, \"24\": {\"92\": 1, \"99\": 1, \"30\": 1, \"70\": 1, \"7\": 2, \"24\": 3, \"46\": 1, \"34\": 1, \"22\": 1}, \"117\": {\"117\": 7, \"120\": 1, \"99\": 1, \"76\": 1}, \"25\": {\"120\": 2, \"63\": 1, \"19\": 1, \"62\": 2, \"115\": 1, \"11\": 1, \"25\": 2, \"119\": 1, \"18\": 1}, \"116\": {\"116\": 6, \"120\": 1, \"102\": 1, \"109\": 1, \"18\": 1, \"1\": 1, \"32\": 1}, \"12\": {\"24\": 2, \"68\": 1, \"85\": 1, \"53\": 2, \"111\": 1, \"72\": 1, \"12\": 1, \"27\": 1, \"94\": 1, \"5\": 1}, \"68\": {\"68\": 6, \"114\": 1, \"84\": 1, \"55\": 2, \"32\": 1, \"34\": 1}, \"50\": {\"50\": 4, \"74\": 1, \"8\": 1, \"123\": 1, \"57\": 1, \"63\": 1, \"64\": 1, \"70\": 1, \"18\": 1}, \"99\": {\"99\": 12}, \"74\": {\"74\": 12}, \"118\": {\"118\": 7, \"117\": 1, \"19\": 1, \"16\": 1, \"28\": 1, \"13\": 1}, \"1\": {\"85\": 1, \"122\": 1, \"32\": 1, \"1\": 4, \"31\": 2, \"73\": 1, \"0\": 2}, \"66\": {\"66\": 2, \"42\": 2, \"21\": 2, \"104\": 2}, \"0\": {\"82\": 1, \"85\": 2, \"0\": 6, \"18\": 1, \"106\": 2}, \"83\": {\"61\": 1, \"23\": 1, \"115\": 2, \"43\": 2, \"87\": 1, \"103\": 1, \"42\": 1, \"126\": 1, \"31\": 1, \"99\": 1}, \"32\": {\"85\": 1, \"1\": 1, \"32\": 6, \"86\": 3, \"44\": 1}, \"115\": {\"115\": 8, \"74\": 1, \"7\": 2, \"57\": 1}, \"82\": {\"28\": 1, \"82\": 7, \"74\": 1, \"129\": 1, \"1\": 1, \"19\": 1}, \"21\": {\"66\": 2, \"99\": 1, \"41\": 1, \"21\": 2, \"19\": 1, \"48\": 1, \"126\": 1, \"7\": 1, \"64\": 2}, \"85\": {\"85\": 10, \"101\": 1, \"57\": 1}, \"77\": {\"77\": 6, \"10\": 1, \"52\": 3, \"24\": 2}, \"119\": {\"20\": 1, \"119\": 8, \"25\": 1, \"116\": 2}, \"10\": {\"77\": 2, \"10\": 4, \"70\": 2, \"48\": 2, \"57\": 1, \"41\": 1}, \"76\": {\"76\": 5, \"74\": 1, \"11\": 2, \"2\": 1, \"39\": 1, \"128\": 1, \"104\": 1}, \"54\": {\"54\": 10, \"9\": 1, \"22\": 1}, \"126\": {\"74\": 2, \"7\": 3, \"115\": 1, \"126\": 1, \"31\": 1, \"98\": 1, \"43\": 1, \"70\": 2}, \"6\": {\"6\": 1, \"75\": 2, \"71\": 1, \"53\": 1, \"127\": 1, \"56\": 1, \"68\": 1, \"72\": 1, \"94\": 1, \"92\": 2}, \"4\": {\"4\": 5, \"82\": 1, \"19\": 1, \"55\": 2, \"97\": 1, \"5\": 2}, \"89\": {\"75\": 1, \"82\": 1, \"89\": 3, \"125\": 1, \"21\": 2, \"92\": 1, \"53\": 1, \"128\": 1, \"34\": 1}, \"56\": {\"56\": 8, \"53\": 1, \"4\": 1, \"68\": 1, \"34\": 1}, \"37\": {\"77\": 1, \"106\": 1, \"49\": 1, \"37\": 6, \"14\": 1, \"24\": 1, \"32\": 1}, \"72\": {\"72\": 11, \"86\": 1}, \"30\": {\"77\": 1, \"30\": 1, \"19\": 2, \"64\": 2, \"51\": 1, \"88\": 1, \"31\": 1, \"7\": 1, \"71\": 1, \"56\": 1}, \"65\": {\"65\": 3, \"38\": 1, \"120\": 1, \"118\": 1, \"2\": 1, \"29\": 1, \"64\": 1, \"121\": 1, \"57\": 2}, \"57\": {\"57\": 11, \"8\": 1}, \"62\": {\"16\": 1, \"32\": 1, \"62\": 8, \"19\": 1, \"41\": 1}, \"41\": {\"41\": 5, \"57\": 3, \"44\": 2, \"64\": 2}, \"47\": {\"89\": 2, \"40\": 1, \"47\": 2, \"46\": 3, \"6\": 1, \"17\": 1, \"75\": 1, \"68\": 1}, \"39\": {\"99\": 1, \"63\": 1, \"2\": 2, \"18\": 3, \"3\": 1, \"19\": 1, \"62\": 1, \"23\": 1, \"20\": 1}, \"19\": {\"27\": 1, \"19\": 5, \"73\": 1, \"104\": 1, \"122\": 1, \"20\": 1, \"48\": 1, \"0\": 1}, \"17\": {\"105\": 1, \"89\": 1, \"87\": 1, \"110\": 1, \"17\": 1, \"126\": 1, \"4\": 1, \"14\": 1, \"62\": 1, \"98\": 1, \"47\": 1, \"101\": 1}, \"43\": {\"27\": 1, \"17\": 1, \"57\": 1, \"58\": 1, \"75\": 2, \"93\": 1, \"55\": 1, \"128\": 1, \"32\": 1}, \"102\": {\"102\": 7, \"87\": 1, \"26\": 1, \"33\": 1, \"50\": 1, \"128\": 1}, \"42\": {\"42\": 2, \"11\": 2, \"22\": 1, \"64\": 1, \"3\": 2, \"99\": 2, \"21\": 2}, \"53\": {\"53\": 7, \"6\": 1, \"12\": 1, \"56\": 1, \"112\": 1, \"101\": 1}, \"11\": {\"11\": 7, \"57\": 1, \"115\": 2, \"2\": 1, \"108\": 1}, \"73\": {\"19\": 1, \"73\": 5, \"91\": 2}, \"35\": {\"7\": 1, \"35\": 5, \"79\": 2, \"96\": 1, \"64\": 1, \"70\": 1, \"4\": 1}, \"58\": {\"14\": 2, \"72\": 1, \"4\": 1, \"126\": 1, \"75\": 1, \"58\": 3, \"6\": 1, \"64\": 1, \"101\": 1}, \"14\": {\"72\": 1, \"114\": 1, \"31\": 3, \"14\": 4, \"16\": 1, \"102\": 1, \"41\": 1}, \"44\": {\"44\": 8}, \"107\": {\"84\": 2, \"107\": 8, \"40\": 1, \"9\": 1}, \"38\": {\"38\": 5, \"42\": 2, \"123\": 1}, \"3\": {\"7\": 1, \"120\": 2, \"109\": 2, \"128\": 2, \"42\": 2, \"3\": 2, \"38\": 1}, \"103\": {\"37\": 1, \"103\": 1, \"75\": 1, \"40\": 1, \"72\": 2, \"29\": 2, \"124\": 1, \"0\": 1}, \"59\": {\"59\": 12}, \"2\": {\"2\": 2, \"118\": 1, \"11\": 2, \"65\": 2, \"57\": 1}, \"88\": {\"59\": 1, \"1\": 2, \"110\": 1, \"88\": 2, \"125\": 1, \"82\": 1}, \"128\": {\"31\": 1, \"96\": 1, \"91\": 1, \"128\": 3, \"64\": 2, \"104\": 2}, \"46\": {\"5\": 1, \"91\": 1, \"46\": 1, \"49\": 1, \"124\": 1, \"110\": 1, \"101\": 1, \"71\": 1}, \"18\": {\"18\": 9, \"126\": 1}, \"29\": {\"29\": 2, \"62\": 2, \"72\": 1, \"102\": 1, \"48\": 1, \"82\": 1}}, \"C_A_1\": {\"41\": {\"41\": 12}, \"40\": {\"29\": 3, \"40\": 4, \"1\": 1, \"17\": 1, \"44\": 1, \"47\": 1, \"31\": 1}, \"45\": {\"45\": 6, \"42\": 3, \"17\": 1, \"25\": 1, \"26\": 1}, \"51\": {\"51\": 11, \"14\": 1}, \"5\": {\"5\": 7, \"17\": 2, \"8\": 1, \"14\": 2}, \"30\": {\"30\": 11, \"26\": 1}, \"42\": {\"42\": 12}, \"46\": {\"46\": 8, \"17\": 1, \"8\": 1, \"48\": 1, \"5\": 1}, \"48\": {\"48\": 8, \"6\": 2}, \"53\": {\"51\": 1, \"53\": 8, \"26\": 2, \"14\": 1}, \"47\": {\"47\": 7, \"29\": 2, \"40\": 1, \"44\": 1, \"57\": 1}, \"49\": {\"49\": 11, \"23\": 1}, \"36\": {\"36\": 11, \"54\": 1}, \"32\": {\"32\": 10}, \"34\": {\"34\": 10}, \"29\": {\"47\": 1, \"42\": 1, \"44\": 4, \"56\": 1, \"29\": 1}, \"43\": {\"24\": 2, \"43\": 6, \"15\": 2, \"23\": 1, \"27\": 1}, \"9\": {\"9\": 11, \"8\": 1}, \"44\": {\"55\": 2, \"44\": 5, \"7\": 1, \"56\": 1, \"1\": 1, \"8\": 1, \"43\": 1}, \"15\": {\"24\": 1, \"15\": 9, \"11\": 1, \"21\": 1}, \"7\": {\"7\": 12}, \"14\": {\"14\": 3, \"9\": 2, \"13\": 2, \"34\": 1, \"20\": 1, \"30\": 1, \"2\": 1, \"51\": 1}, \"24\": {\"24\": 7, \"11\": 2, \"52\": 1}, \"16\": {\"16\": 10, \"34\": 2}, \"39\": {\"39\": 10}, \"35\": {\"44\": 2, \"19\": 1, \"57\": 1, \"35\": 8}, \"57\": {\"57\": 10, \"19\": 1, \"45\": 1}, \"55\": {\"55\": 6, \"7\": 1, \"31\": 1, \"26\": 1, \"54\": 1}, \"3\": {\"3\": 11, \"54\": 1}, \"20\": {\"20\": 10}, \"17\": {\"17\": 11, \"8\": 1}, \"52\": {\"52\": 12}, \"38\": {\"38\": 12}, \"8\": {\"8\": 11, \"30\": 1}, \"4\": {\"4\": 10, \"50\": 1, \"2\": 1}, \"19\": {\"19\": 6, \"57\": 1, \"1\": 1}, \"37\": {\"37\": 10}, \"27\": {\"27\": 9, \"52\": 1, \"39\": 1, \"6\": 1}, \"12\": {\"20\": 1, \"57\": 1, \"12\": 8, \"14\": 1, \"56\": 1}, \"28\": {\"28\": 11, \"52\": 1}, \"6\": {\"48\": 1, \"6\": 4, \"9\": 2, \"8\": 2, \"17\": 1, \"30\": 1, \"50\": 1}, \"56\": {\"19\": 4, \"56\": 4, \"1\": 1, \"26\": 1, \"57\": 1, \"7\": 1}, \"50\": {\"50\": 12}, \"2\": {\"2\": 10}, \"10\": {\"10\": 5, \"11\": 1, \"15\": 2}, \"33\": {\"37\": 1, \"34\": 1, \"33\": 8}, \"54\": {\"54\": 6, \"55\": 2}, \"18\": {\"18\": 10, \"30\": 1, \"26\": 1}, \"13\": {\"13\": 10}, \"1\": {\"1\": 11, \"19\": 1}, \"21\": {\"21\": 12}, \"11\": {\"11\": 8, \"10\": 1, \"24\": 1, \"15\": 1, \"22\": 1}, \"0\": {\"0\": 7, \"15\": 1}, \"31\": {\"31\": 8, \"24\": 1, \"55\": 1, \"22\": 1, \"15\": 1}, \"26\": {\"26\": 11, \"25\": 1}, \"25\": {\"26\": 3, \"25\": 9}, \"23\": {\"23\": 4}, \"22\": {\"22\": 5, \"52\": 1}}, \"W_A_2\": {\"3\": {\"105\": 1, \"3\": 9, \"41\": 1, \"7\": 1}, \"127\": {\"114\": 2, \"3\": 1, \"127\": 4, \"0\": 1, \"101\": 1, \"68\": 1, \"103\": 1, \"91\": 1}, \"58\": {\"58\": 8, \"75\": 1, \"30\": 1, \"24\": 1, \"54\": 1}, \"114\": {\"3\": 1, \"114\": 9, \"105\": 1, \"34\": 1}, \"111\": {\"114\": 1, \"111\": 9, \"54\": 1, \"94\": 1}, \"105\": {\"86\": 2, \"33\": 1, \"105\": 3, \"68\": 1, \"110\": 1, \"95\": 1, \"21\": 1, \"29\": 1, \"85\": 1}, \"118\": {\"118\": 6, \"88\": 1, \"93\": 1, \"18\": 1, \"79\": 1, \"55\": 1, \"63\": 1}, \"23\": {\"21\": 2, \"23\": 2, \"61\": 1, \"87\": 1, \"32\": 2, \"93\": 2, \"109\": 2}, \"21\": {\"21\": 8, \"10\": 2, \"70\": 2}, \"20\": {\"21\": 1, \"20\": 11}, \"75\": {\"21\": 1, \"75\": 7, \"60\": 2, \"15\": 2}, \"86\": {\"86\": 4, \"23\": 1, \"45\": 1, \"39\": 1, \"118\": 1, \"109\": 1, \"16\": 1, \"3\": 1, \"44\": 1}, \"60\": {\"60\": 6, \"6\": 1, \"122\": 1, \"90\": 2, \"65\": 1, \"28\": 1}, \"69\": {\"99\": 1, \"69\": 9, \"117\": 1, \"67\": 1}, \"99\": {\"99\": 3, \"75\": 1, \"109\": 2, \"81\": 1, \"21\": 1}, \"14\": {\"3\": 1, \"118\": 1, \"14\": 5, \"63\": 1, \"102\": 1, \"53\": 1, \"112\": 1, \"1\": 1}, \"110\": {\"34\": 1, \"8\": 1, \"110\": 1, \"116\": 1, \"119\": 1, \"40\": 1, \"85\": 1, \"107\": 1, \"12\": 2, \"50\": 1, \"55\": 1}, \"0\": {\"111\": 1, \"5\": 1, \"57\": 1, \"59\": 1, \"33\": 1, \"51\": 1, \"71\": 1, \"1\": 1, \"129\": 1, \"94\": 1, \"68\": 1, \"54\": 1}, \"28\": {\"8\": 1, \"116\": 1, \"43\": 1, \"81\": 1, \"28\": 3, \"91\": 1, \"1\": 2, \"96\": 1, \"79\": 1}, \"124\": {\"89\": 1, \"111\": 1, \"110\": 1, \"124\": 5, \"82\": 1, \"114\": 1, \"107\": 1, \"88\": 1}, \"47\": {\"89\": 2, \"47\": 7, \"119\": 1, \"78\": 1, \"27\": 1}, \"89\": {\"47\": 1, \"73\": 1, \"103\": 1, \"88\": 1, \"63\": 1, \"95\": 1, \"92\": 1, \"89\": 3, \"57\": 1, \"65\": 1}, \"5\": {\"5\": 8, \"54\": 3, \"12\": 1}, \"83\": {\"8\": 1, \"83\": 2, \"23\": 2, \"72\": 1, \"67\": 1, \"61\": 2, \"119\": 1, \"90\": 1, \"16\": 1}, \"34\": {\"0\": 2, \"28\": 1, \"35\": 1, \"114\": 1, \"105\": 1, \"34\": 2, \"41\": 1, \"71\": 1, \"5\": 1, \"79\": 1}, \"8\": {\"8\": 10, \"10\": 1, \"42\": 1}, \"64\": {\"64\": 11, \"32\": 1}, \"73\": {\"116\": 2, \"4\": 1, \"64\": 1, \"95\": 1, \"5\": 1, \"77\": 2, \"48\": 1, \"50\": 1}, \"116\": {\"28\": 1, \"89\": 1, \"23\": 1, \"117\": 1, \"110\": 1, \"45\": 3, \"116\": 1, \"95\": 1, \"109\": 2}, \"19\": {\"8\": 2, \"19\": 3, \"70\": 1, \"7\": 2, \"29\": 2, \"84\": 1, \"1\": 1}, \"25\": {\"25\": 10, \"106\": 1, \"51\": 1}, \"55\": {\"83\": 1, \"55\": 6, \"105\": 2, \"43\": 1, \"19\": 1, \"73\": 1}, \"66\": {\"66\": 7, \"61\": 1, \"57\": 3, \"81\": 1}, \"36\": {\"36\": 4, \"0\": 2, \"106\": 2, \"97\": 1, \"75\": 1, \"59\": 2}, \"35\": {\"35\": 8, \"23\": 1, \"30\": 1, \"29\": 1, \"11\": 1}, \"6\": {\"6\": 9, \"94\": 2, \"27\": 1}, \"117\": {\"117\": 4, \"83\": 1, \"76\": 1, \"93\": 2, \"39\": 2, \"73\": 1, \"120\": 1}, \"1\": {\"129\": 2, \"32\": 1, \"1\": 4, \"37\": 1, \"33\": 1, \"7\": 1, \"79\": 2}, \"129\": {\"114\": 1, \"129\": 3, \"68\": 1, \"90\": 1, \"85\": 2}, \"45\": {\"45\": 5, \"123\": 1, \"116\": 2, \"96\": 1, \"18\": 1, \"48\": 2}, \"15\": {\"125\": 1, \"15\": 7, \"25\": 1, \"20\": 1, \"75\": 1, \"106\": 1}, \"4\": {\"34\": 1, \"105\": 1, \"4\": 3, \"128\": 1, \"41\": 1, \"54\": 1, \"129\": 1, \"111\": 1, \"109\": 1, \"68\": 1}, \"76\": {\"76\": 4, \"88\": 1, \"44\": 1, \"2\": 1, \"92\": 1, \"53\": 1, \"16\": 1, \"48\": 1, \"20\": 1}, \"103\": {\"103\": 4, \"4\": 1, \"98\": 1, \"49\": 2, \"111\": 1, \"71\": 1, \"104\": 1, \"124\": 1}, \"125\": {\"125\": 12}, \"31\": {\"76\": 2, \"31\": 2, \"70\": 1, \"116\": 1, \"120\": 1, \"22\": 2, \"123\": 1, \"7\": 1, \"4\": 1}, \"39\": {\"117\": 1, \"39\": 3, \"70\": 1, \"16\": 2, \"113\": 1, \"20\": 2, \"90\": 1, \"78\": 1}, \"88\": {\"88\": 7, \"2\": 1, \"119\": 1, \"109\": 2, \"38\": 1}, \"30\": {\"88\": 1, \"33\": 1, \"30\": 2, \"101\": 1, \"32\": 1, \"42\": 1, \"53\": 1, \"127\": 1, \"119\": 1, \"51\": 1, \"79\": 1}, \"102\": {\"102\": 10, \"117\": 1, \"49\": 1}, \"33\": {\"33\": 7, \"69\": 1, \"16\": 1, \"20\": 2, \"2\": 1}, \"93\": {\"32\": 2, \"93\": 5, \"88\": 2, \"20\": 2, \"19\": 1}, \"82\": {\"69\": 2, \"82\": 7, \"29\": 1, \"55\": 2}, \"17\": {\"80\": 1, \"1\": 1, \"59\": 1, \"46\": 1, \"44\": 1, \"17\": 3, \"92\": 1, \"109\": 1}, \"101\": {\"101\": 10, \"41\": 1, \"127\": 1}, \"9\": {\"9\": 11, \"125\": 1}, \"100\": {\"100\": 3, \"32\": 1, \"96\": 1, \"2\": 2, \"44\": 1, \"64\": 1, \"81\": 1, \"63\": 1, \"116\": 1}, \"32\": {\"32\": 9, \"8\": 1, \"21\": 2}, \"80\": {\"80\": 2, \"100\": 2, \"90\": 1, \"20\": 1, \"84\": 1, \"96\": 1, \"23\": 1, \"116\": 1, \"28\": 2}, \"51\": {\"51\": 3, \"127\": 1, \"94\": 1, \"5\": 1, \"34\": 1, \"15\": 1, \"36\": 1, \"30\": 1, \"98\": 2}, \"70\": {\"74\": 1, \"31\": 1, \"32\": 1, \"93\": 2, \"70\": 1, \"88\": 1, \"90\": 2, \"8\": 1, \"109\": 1, \"54\": 1}, \"37\": {\"70\": 2, \"37\": 1, \"59\": 1, \"45\": 1, \"10\": 3}, \"126\": {\"70\": 2, \"115\": 1, \"38\": 2, \"87\": 1, \"98\": 1, \"128\": 1, \"126\": 1, \"44\": 1, \"116\": 1, \"88\": 1}, \"62\": {\"1\": 1, \"127\": 1, \"62\": 2, \"45\": 1, \"42\": 1, \"119\": 1, \"7\": 1, \"85\": 1, \"102\": 1, \"118\": 1, \"88\": 1}, \"96\": {\"31\": 1, \"70\": 1, \"124\": 1, \"22\": 1, \"96\": 2, \"2\": 1, \"38\": 1, \"120\": 1, \"81\": 1, \"18\": 2}, \"74\": {\"37\": 2, \"70\": 1, \"74\": 2, \"77\": 3}, \"68\": {\"54\": 2, \"43\": 1, \"68\": 8, \"127\": 1}, \"98\": {\"98\": 9, \"54\": 1, \"111\": 1, \"11\": 1}, \"43\": {\"43\": 1, \"21\": 1, \"61\": 2, \"119\": 1, \"113\": 1, \"8\": 2, \"88\": 1, \"115\": 1, \"78\": 1, \"19\": 1}, \"40\": {\"32\": 1, \"68\": 1, \"95\": 1, \"40\": 4, \"122\": 1, \"87\": 1, \"49\": 1, \"38\": 1, \"50\": 1}, \"41\": {\"21\": 1, \"68\": 1, \"41\": 5, \"3\": 2, \"43\": 1, \"91\": 1, \"34\": 1}, \"54\": {\"98\": 1, \"68\": 2, \"0\": 2, \"54\": 4, \"41\": 1, \"24\": 1, \"4\": 1}, \"81\": {\"32\": 1, \"81\": 3, \"99\": 1, \"26\": 1, \"18\": 1, \"61\": 1, \"93\": 1, \"23\": 1, \"2\": 2}, \"27\": {\"21\": 2, \"68\": 2, \"27\": 4, \"6\": 1, \"36\": 2, \"75\": 1}, \"29\": {\"21\": 1, \"29\": 5, \"59\": 1, \"77\": 2, \"128\": 1, \"19\": 1, \"78\": 1}, \"109\": {\"21\": 2, \"109\": 5, \"57\": 1, \"88\": 2, \"80\": 1, \"70\": 1}, \"121\": {\"21\": 1, \"81\": 1, \"13\": 1, \"14\": 1, \"121\": 1, \"96\": 1}, \"91\": {\"43\": 1, \"21\": 1, \"52\": 1, \"91\": 3, \"41\": 1, \"128\": 2, \"90\": 2, \"119\": 1}, \"16\": {\"93\": 2, \"16\": 4, \"2\": 1, \"44\": 1, \"87\": 1, \"19\": 2, \"20\": 1}, \"42\": {\"42\": 8, \"32\": 1, \"41\": 1, \"105\": 1, \"53\": 1}, \"18\": {\"72\": 1, \"48\": 1, \"63\": 3, \"88\": 2, \"8\": 1, \"18\": 2, \"96\": 1, \"26\": 1}, \"78\": {\"18\": 1, \"93\": 3, \"123\": 2, \"10\": 2, \"109\": 2, \"43\": 1, \"86\": 1}, \"48\": {\"48\": 10, \"119\": 1, \"26\": 1}, \"72\": {\"48\": 1, \"16\": 1, \"72\": 4, \"96\": 1, \"67\": 1, \"61\": 1, \"26\": 2, \"13\": 1}, \"123\": {\"32\": 2, \"123\": 6, \"10\": 2, \"90\": 2}, \"44\": {\"44\": 11, \"108\": 1}, \"63\": {\"63\": 10}, \"26\": {\"67\": 2, \"13\": 2, \"81\": 1, \"65\": 1, \"72\": 1, \"2\": 1, \"113\": 2, \"26\": 1, \"63\": 1}, \"50\": {\"50\": 6, \"10\": 1, \"17\": 1, \"73\": 1, \"55\": 1}, \"10\": {\"61\": 1, \"44\": 1, \"123\": 1, \"10\": 7, \"119\": 2}, \"61\": {\"61\": 6, \"87\": 2, \"42\": 2, \"38\": 2}, \"97\": {\"33\": 1, \"97\": 3, \"12\": 2, \"2\": 1, \"30\": 1, \"3\": 1, \"1\": 1}, \"67\": {\"67\": 2, \"26\": 1, \"72\": 1, \"57\": 2, \"18\": 1, \"14\": 1}, \"113\": {\"16\": 1, \"67\": 1, \"88\": 1, \"113\": 4, \"76\": 1, \"18\": 2, \"63\": 2}, \"7\": {\"7\": 3, \"44\": 1, \"71\": 1, \"119\": 1, \"3\": 1, \"42\": 1, \"5\": 1, \"21\": 1}, \"71\": {\"0\": 1, \"71\": 7, \"104\": 1, \"1\": 2, \"21\": 1}, \"2\": {\"88\": 2, \"13\": 1, \"96\": 1, \"44\": 1, \"2\": 3, \"66\": 2, \"20\": 2}, \"57\": {\"88\": 1, \"2\": 1, \"57\": 6, \"119\": 1, \"87\": 1, \"117\": 2}, \"59\": {\"59\": 1, \"88\": 1, \"123\": 1, \"129\": 1, \"79\": 3, \"24\": 1, \"1\": 1, \"18\": 1}, \"112\": {\"59\": 3, \"10\": 1, \"122\": 2, \"112\": 2}, \"79\": {\"70\": 1, \"79\": 5, \"71\": 1, \"53\": 1, \"129\": 2, \"12\": 2}, \"52\": {\"128\": 2, \"7\": 1, \"52\": 2, \"109\": 1, \"38\": 2, \"62\": 1, \"88\": 1, \"32\": 2}, \"13\": {\"81\": 2, \"13\": 2, \"51\": 1, \"90\": 1, \"46\": 1, \"9\": 1, \"57\": 1, \"63\": 1, \"119\": 2}, \"128\": {\"33\": 1, \"128\": 3, \"126\": 3, \"115\": 2, \"77\": 1}, \"120\": {\"120\": 9, \"37\": 1, \"66\": 1, \"81\": 1}, \"94\": {\"0\": 2, \"18\": 1, \"71\": 1, \"25\": 1, \"94\": 2, \"81\": 1, \"9\": 2, \"36\": 2}, \"85\": {\"33\": 1, \"73\": 1, \"3\": 4, \"17\": 1, \"129\": 1, \"85\": 2, \"56\": 1, \"110\": 1}, \"46\": {\"123\": 1, \"59\": 1, \"9\": 1, \"44\": 1, \"46\": 4, \"85\": 1, \"61\": 1, \"33\": 1, \"126\": 1}, \"22\": {\"123\": 1, \"22\": 9, \"42\": 1, \"62\": 1}, \"90\": {\"90\": 2, \"123\": 1, \"96\": 2, \"109\": 2, \"39\": 1, \"117\": 1, \"64\": 1, \"61\": 2}, \"77\": {\"10\": 1, \"45\": 1, \"77\": 3, \"96\": 1, \"41\": 1, \"91\": 3, \"115\": 1, \"20\": 1}, \"106\": {\"106\": 8, \"24\": 1, \"101\": 1, \"97\": 1, \"58\": 1}, \"104\": {\"95\": 1, \"89\": 1, \"104\": 3, \"59\": 1, \"3\": 1, \"55\": 2, \"10\": 1}, \"95\": {\"95\": 6, \"73\": 1, \"5\": 1, \"85\": 1, \"107\": 2, \"14\": 1}, \"12\": {\"42\": 1, \"41\": 1, \"12\": 10}, \"49\": {\"43\": 1, \"42\": 1, \"11\": 1, \"49\": 2, \"126\": 1, \"68\": 1, \"29\": 1, \"122\": 1, \"111\": 1, \"19\": 2}, \"87\": {\"61\": 1, \"87\": 6, \"38\": 1, \"67\": 1, \"53\": 2, \"84\": 1}, \"65\": {\"96\": 1, \"65\": 4, \"81\": 1, \"63\": 1, \"88\": 1}, \"84\": {\"96\": 1, \"77\": 1, \"7\": 2, \"115\": 3, \"74\": 1, \"29\": 1, \"84\": 1, \"19\": 1, \"46\": 1}, \"38\": {\"38\": 9, \"123\": 2, \"61\": 1}, \"53\": {\"53\": 6, \"20\": 1, \"24\": 1, \"123\": 1, \"44\": 1, \"109\": 2}, \"122\": {\"79\": 2, \"115\": 1, \"84\": 1, \"42\": 1, \"40\": 1, \"90\": 1, \"70\": 1, \"7\": 2, \"1\": 2}, \"119\": {\"119\": 8, \"53\": 2, \"61\": 2}, \"108\": {\"53\": 2, \"42\": 3, \"122\": 1, \"109\": 2, \"108\": 1, \"7\": 1}, \"107\": {\"79\": 1, \"103\": 1, \"107\": 7, \"95\": 1, \"71\": 2}, \"24\": {\"94\": 2, \"25\": 1, \"119\": 1, \"24\": 3, \"43\": 1, \"44\": 1, \"27\": 1, \"6\": 1, \"29\": 1}, \"115\": {\"7\": 2, \"20\": 1, \"115\": 8, \"109\": 1}, \"56\": {\"3\": 1, \"24\": 1, \"56\": 6, \"95\": 1, \"8\": 1, \"84\": 1, \"105\": 1}, \"11\": {\"115\": 1, \"11\": 1, \"42\": 1, \"12\": 1, \"126\": 3, \"3\": 1, \"91\": 1, \"119\": 1}, \"92\": {\"92\": 6, \"109\": 1, \"47\": 1, \"93\": 2, \"89\": 2}}, \"C_A_3\": {\"1\": {\"1\": 11, \"11\": 1}, \"9\": {\"9\": 11, \"17\": 1}, \"22\": {\"1\": 2, \"55\": 2, \"22\": 5, \"5\": 1, \"42\": 1, \"41\": 1}, \"43\": {\"43\": 12}, \"49\": {\"49\": 10}, \"50\": {\"38\": 1, \"8\": 2, \"50\": 6, \"54\": 1, \"37\": 1, \"36\": 1}, \"53\": {\"53\": 9, \"50\": 1}, \"10\": {\"43\": 3, \"7\": 1, \"10\": 4, \"23\": 2, \"55\": 1, \"24\": 1}, \"48\": {\"50\": 2, \"48\": 7, \"57\": 1}, \"8\": {\"8\": 11, \"27\": 1}, \"31\": {\"31\": 11, \"28\": 1}, \"56\": {\"56\": 7, \"22\": 1, \"40\": 2, \"19\": 2}, \"25\": {\"25\": 7, \"17\": 2, \"54\": 1}, \"28\": {\"1\": 1, \"28\": 10, \"34\": 1}, \"38\": {\"38\": 9, \"36\": 2, \"40\": 1}, \"5\": {\"5\": 8, \"31\": 1, \"47\": 1, \"34\": 1, \"52\": 1}, \"34\": {\"47\": 2, \"34\": 6, \"5\": 2}, \"21\": {\"21\": 10, \"29\": 1, \"2\": 1}, \"57\": {\"57\": 12}, \"55\": {\"55\": 10, \"42\": 2}, \"47\": {\"47\": 10}, \"6\": {\"6\": 8, \"33\": 3, \"27\": 1}, \"3\": {\"6\": 1, \"48\": 1, \"54\": 1, \"3\": 3}, \"26\": {\"26\": 9, \"47\": 1, \"0\": 1, \"23\": 1}, \"16\": {\"47\": 1, \"16\": 11}, \"18\": {\"18\": 11, \"25\": 1}, \"32\": {\"32\": 12}, \"40\": {\"19\": 2, \"40\": 7, \"35\": 1, \"22\": 1, \"44\": 1}, \"2\": {\"2\": 8}, \"36\": {\"36\": 12}, \"52\": {\"52\": 10, \"42\": 1, \"50\": 1}, \"13\": {\"13\": 7, \"11\": 1}, \"42\": {\"42\": 12}, \"19\": {\"2\": 2, \"32\": 1, \"19\": 3, \"35\": 2, \"29\": 2, \"9\": 1, \"44\": 1}, \"11\": {\"11\": 8, \"15\": 1, \"52\": 1}, \"20\": {\"25\": 2, \"20\": 9, \"54\": 1}, \"17\": {\"17\": 10}, \"51\": {\"51\": 11, \"8\": 1}, \"29\": {\"29\": 4, \"9\": 5, \"35\": 1}, \"44\": {\"13\": 1, \"9\": 1, \"27\": 1, \"32\": 1, \"44\": 4, \"4\": 2, \"29\": 1, \"18\": 1}, \"27\": {\"27\": 11, \"36\": 1}, \"33\": {\"17\": 1, \"33\": 8, \"6\": 2, \"50\": 1}, \"54\": {\"54\": 12}, \"7\": {\"7\": 12}, \"14\": {\"24\": 2, \"12\": 1, \"10\": 2, \"29\": 1, \"9\": 1, \"35\": 1, \"42\": 1, \"6\": 1}, \"12\": {\"12\": 12}, \"24\": {\"24\": 12}, \"15\": {\"15\": 12}, \"35\": {\"35\": 10}, \"41\": {\"41\": 10}, \"4\": {\"4\": 12}, \"0\": {\"0\": 6, \"23\": 4}, \"39\": {\"39\": 10}, \"45\": {\"4\": 4, \"54\": 1, \"45\": 4, \"17\": 1, \"9\": 1, \"12\": 1}, \"46\": {\"11\": 2, \"57\": 1, \"41\": 1, \"6\": 2, \"52\": 1, \"46\": 2, \"28\": 1}, \"37\": {\"37\": 10}, \"23\": {\"23\": 9, \"26\": 1}, \"30\": {\"30\": 4}}, \"C_A_4\": {\"52\": {\"52\": 11, \"39\": 1}, \"6\": {\"6\": 9, \"9\": 1, \"28\": 1, \"27\": 1}, \"14\": {\"9\": 1, \"38\": 2, \"47\": 1, \"1\": 1, \"22\": 1, \"35\": 1, \"29\": 1, \"24\": 1, \"0\": 1, \"14\": 1, \"28\": 1}, \"49\": {\"49\": 12}, \"0\": {\"46\": 3, \"38\": 1, \"0\": 7, \"15\": 1}, \"46\": {\"52\": 1, \"46\": 6, \"39\": 2, \"5\": 1, \"32\": 1, \"34\": 1}, \"41\": {\"41\": 12}, \"24\": {\"43\": 2, \"13\": 1, \"24\": 5, \"22\": 2, \"7\": 2}, \"25\": {\"25\": 11, \"20\": 1}, \"40\": {\"40\": 7, \"0\": 3, \"43\": 1, \"2\": 1}, \"38\": {\"38\": 12}, \"13\": {\"14\": 1, \"13\": 9, \"10\": 1, \"43\": 1}, \"9\": {\"9\": 12}, \"45\": {\"45\": 4, \"50\": 2}, \"43\": {\"24\": 2, \"43\": 10}, \"10\": {\"43\": 3, \"46\": 2, \"16\": 2, \"10\": 4, \"24\": 1}, \"3\": {\"3\": 6, \"26\": 1, \"48\": 2, \"20\": 1, \"36\": 1, \"6\": 1}, \"32\": {\"32\": 9, \"39\": 1, \"46\": 2}, \"37\": {\"37\": 5, \"53\": 2, \"16\": 1, \"31\": 2}, \"48\": {\"48\": 7, \"3\": 3, \"6\": 2}, \"26\": {\"26\": 9, \"28\": 2, \"48\": 1}, \"30\": {\"30\": 6, \"26\": 1, \"21\": 2, \"37\": 1}, \"27\": {\"27\": 10}, \"57\": {\"57\": 11, \"39\": 1}, \"33\": {\"9\": 2, \"33\": 4, \"51\": 1, \"12\": 1, \"48\": 2, \"20\": 2}, \"21\": {\"21\": 12}, \"55\": {\"55\": 12}, \"23\": {\"23\": 11, \"47\": 1}, \"20\": {\"40\": 1, \"20\": 7, \"31\": 1, \"3\": 1}, \"19\": {\"40\": 1, \"19\": 3, \"4\": 1, \"9\": 1, \"56\": 3, \"17\": 1, \"55\": 1, \"44\": 1}, \"39\": {\"39\": 12}, \"47\": {\"52\": 4, \"47\": 6}, \"50\": {\"8\": 2, \"21\": 1, \"50\": 5, \"9\": 1, \"18\": 1, \"3\": 1, \"27\": 1}, \"1\": {\"1\": 12}, \"42\": {\"42\": 10}, \"8\": {\"8\": 8}, \"53\": {\"53\": 11, \"42\": 1}, \"4\": {\"4\": 12}, \"54\": {\"54\": 10}, \"31\": {\"8\": 1, \"31\": 11}, \"11\": {\"11\": 4, \"15\": 1, \"24\": 2, \"13\": 1}, \"5\": {\"39\": 4, \"5\": 7, \"47\": 1}, \"18\": {\"18\": 6, \"36\": 1, \"26\": 1}, \"7\": {\"7\": 12}, \"15\": {\"11\": 2, \"15\": 6, \"16\": 2}, \"17\": {\"17\": 11, \"9\": 1}, \"2\": {\"2\": 8, \"7\": 3, \"55\": 1}, \"35\": {\"35\": 8, \"55\": 2}, \"22\": {\"22\": 8, \"38\": 2}, \"34\": {\"34\": 10}, \"56\": {\"14\": 2, \"56\": 7, \"49\": 1, \"19\": 2}, \"12\": {\"12\": 12}, \"16\": {\"16\": 10, \"15\": 1, \"46\": 1}, \"51\": {\"51\": 8}, \"28\": {\"54\": 1, \"28\": 9}, \"29\": {\"29\": 12}, \"44\": {\"56\": 1, \"34\": 1, \"53\": 1, \"44\": 1, \"19\": 2}, \"36\": {\"36\": 6, \"28\": 1, \"3\": 1}}, \"C_A_2\": {\"11\": {\"11\": 11, \"15\": 1}, \"21\": {\"21\": 8, \"46\": 1, \"2\": 1}, \"19\": {\"40\": 2, \"19\": 2, \"4\": 1, \"20\": 1, \"35\": 1, \"9\": 1}, \"20\": {\"20\": 12}, \"9\": {\"9\": 8, \"33\": 2}, \"10\": {\"10\": 4, \"38\": 4, \"14\": 2, \"24\": 2}, \"37\": {\"37\": 8, \"14\": 1, \"55\": 1}, \"32\": {\"32\": 12}, \"3\": {\"3\": 7, \"9\": 1, \"6\": 2, \"4\": 1, \"50\": 1}, \"39\": {\"39\": 12}, \"45\": {\"45\": 5, \"12\": 1, \"27\": 3, \"8\": 1, \"44\": 1, \"9\": 1}, \"50\": {\"46\": 1, \"50\": 6, \"18\": 1, \"47\": 1, \"53\": 1, \"41\": 1, \"25\": 1}, \"40\": {\"40\": 9, \"55\": 1, \"53\": 1, \"56\": 1}, \"46\": {\"46\": 6, \"42\": 3, \"57\": 1, \"41\": 2}, \"12\": {\"12\": 12}, \"13\": {\"13\": 11, \"19\": 1}, \"18\": {\"18\": 4, \"57\": 1, \"25\": 1, \"47\": 1, \"30\": 1}, \"28\": {\"28\": 12}, \"57\": {\"39\": 1, \"57\": 9, \"47\": 1, \"34\": 1}, \"7\": {\"7\": 11, \"47\": 1}, \"15\": {\"15\": 9, \"56\": 1, \"0\": 2}, \"0\": {\"0\": 10, \"23\": 1, \"39\": 1}, \"36\": {\"36\": 11, \"32\": 1}, \"53\": {\"53\": 12}, \"49\": {\"25\": 2, \"49\": 9, \"44\": 1}, \"25\": {\"25\": 11, \"36\": 1}, \"29\": {\"29\": 7, \"33\": 2, \"34\": 1}, \"56\": {\"56\": 5, \"38\": 4, \"55\": 2, \"31\": 1}, \"2\": {\"2\": 10}, \"31\": {\"31\": 10}, \"54\": {\"54\": 8}, \"8\": {\"8\": 9, \"20\": 1}, \"55\": {\"55\": 7, \"46\": 1, \"23\": 1, \"40\": 1, \"34\": 1, \"28\": 1}, \"26\": {\"26\": 11, \"20\": 1}, \"24\": {\"24\": 10}, \"42\": {\"42\": 7, \"46\": 1, \"7\": 3, \"5\": 1}, \"27\": {\"27\": 6}, \"41\": {\"34\": 5, \"41\": 7}, \"43\": {\"43\": 10}, \"47\": {\"47\": 10, \"34\": 1, \"39\": 1}, \"38\": {\"38\": 9, \"10\": 1, \"28\": 1, \"14\": 1}, \"16\": {\"16\": 11, \"42\": 1}, \"34\": {\"34\": 12}, \"35\": {\"35\": 4, \"9\": 3, \"45\": 1, \"4\": 1, \"44\": 1}, \"44\": {\"44\": 6, \"38\": 1, \"33\": 3, \"29\": 2}, \"23\": {\"23\": 11, \"52\": 1}, \"52\": {\"52\": 11, \"34\": 1}, \"48\": {\"41\": 1, \"48\": 8, \"6\": 3}, \"33\": {\"33\": 10, \"50\": 1, \"36\": 1}, \"1\": {\"7\": 1, \"1\": 9}, \"14\": {\"33\": 2, \"14\": 6, \"24\": 1, \"29\": 1, \"9\": 2}, \"22\": {\"22\": 4, \"44\": 2, \"19\": 1, \"39\": 1}, \"4\": {\"4\": 12}, \"5\": {\"5\": 6, \"1\": 1, \"57\": 3, \"34\": 1, \"39\": 1}, \"51\": {\"51\": 9, \"26\": 1}, \"30\": {\"30\": 9, \"18\": 1}, \"17\": {\"17\": 8}, \"6\": {\"6\": 4, \"3\": 3, \"48\": 1}}, \"W_A_3\": {\"106\": {\"106\": 6, \"92\": 1, \"15\": 2, \"59\": 1, \"94\": 1, \"85\": 1}, \"129\": {\"3\": 1, \"77\": 2, \"129\": 1, \"18\": 1, \"112\": 1, \"1\": 1, \"43\": 1, \"8\": 1, \"100\": 1, \"110\": 2}, \"77\": {\"44\": 1, \"3\": 1, \"29\": 2, \"86\": 2, \"33\": 1, \"77\": 2, \"99\": 1, \"113\": 2}, \"53\": {\"53\": 4, \"129\": 1, \"69\": 1, \"87\": 2, \"102\": 1, \"121\": 1, \"84\": 1, \"37\": 1}, \"3\": {\"107\": 1, \"108\": 1, \"3\": 5, \"114\": 1, \"55\": 1, \"112\": 1, \"5\": 2}, \"76\": {\"113\": 1, \"53\": 1, \"122\": 1, \"45\": 1, \"76\": 5, \"20\": 1, \"13\": 1, \"44\": 1}, \"22\": {\"22\": 7, \"62\": 1, \"83\": 1, \"70\": 1, \"63\": 1, \"121\": 1}, \"108\": {\"3\": 1, \"44\": 1, \"92\": 1, \"108\": 1, \"128\": 1, \"71\": 1, \"122\": 1, \"114\": 1, \"29\": 2, \"80\": 2}, \"39\": {\"28\": 1, \"39\": 3, \"20\": 1, \"21\": 2, \"117\": 1, \"31\": 2, \"90\": 1, \"113\": 1}, \"107\": {\"107\": 6, \"39\": 1, \"122\": 2, \"60\": 1, \"82\": 1, \"2\": 1}, \"112\": {\"107\": 1, \"3\": 2, \"58\": 2, \"77\": 1, \"101\": 2, \"4\": 1, \"128\": 1, \"110\": 1, \"85\": 1}, \"113\": {\"39\": 2, \"113\": 7, \"123\": 1, \"92\": 1, \"63\": 1}, \"11\": {\"28\": 2, \"92\": 2, \"29\": 2, \"11\": 3, \"44\": 1}, \"128\": {\"128\": 9, \"113\": 1, \"99\": 1, \"80\": 1}, \"44\": {\"44\": 12}, \"28\": {\"11\": 1, \"128\": 1, \"28\": 4, \"88\": 1, \"90\": 1, \"80\": 1, \"44\": 1}, \"43\": {\"21\": 1, \"113\": 1, \"100\": 1, \"29\": 1, \"43\": 4, \"16\": 2, \"31\": 2}, \"94\": {\"35\": 1, \"94\": 5, \"124\": 2, \"15\": 1, \"54\": 1, \"75\": 2}, \"102\": {\"102\": 8, \"2\": 1, \"69\": 1, \"100\": 1, \"11\": 1}, \"30\": {\"128\": 1, \"30\": 5, \"74\": 1, \"86\": 1, \"20\": 1, \"21\": 1, \"91\": 1, \"37\": 1}, \"35\": {\"35\": 8, \"58\": 1, \"36\": 1, \"2\": 1, \"111\": 1}, \"123\": {\"121\": 1, \"113\": 1, \"61\": 1, \"18\": 1, \"123\": 2, \"62\": 2, \"63\": 1, \"21\": 2, \"45\": 1}, \"58\": {\"128\": 1, \"58\": 6, \"30\": 1, \"77\": 1, \"68\": 1, \"0\": 1, \"95\": 1}, \"119\": {\"63\": 1, \"123\": 1, \"119\": 6, \"96\": 1, \"57\": 1, \"76\": 1, \"20\": 1}, \"21\": {\"21\": 10, \"24\": 1, \"35\": 1}, \"79\": {\"102\": 1, \"79\": 8, \"120\": 1, \"64\": 1, \"88\": 1}, \"117\": {\"117\": 5, \"63\": 2, \"122\": 1, \"113\": 2, \"39\": 1, \"81\": 1}, \"121\": {\"121\": 6, \"102\": 1, \"26\": 1, \"80\": 1, \"16\": 1, \"61\": 1, \"126\": 1}, \"63\": {\"113\": 3, \"123\": 1, \"63\": 8}, \"96\": {\"70\": 1, \"96\": 11}, \"31\": {\"31\": 12}, \"13\": {\"92\": 1, \"11\": 1, \"80\": 2, \"13\": 4, \"61\": 1, \"63\": 1, \"113\": 1, \"90\": 1}, \"51\": {\"87\": 1, \"25\": 1, \"14\": 1, \"12\": 1, \"86\": 2, \"101\": 1, \"31\": 1, \"5\": 1, \"103\": 1, \"17\": 1, \"91\": 1}, \"56\": {\"51\": 1, \"56\": 1, \"34\": 1, \"118\": 1, \"44\": 1, \"35\": 1}, \"87\": {\"92\": 1, \"51\": 1, \"96\": 1, \"71\": 1, \"37\": 1, \"88\": 1, \"4\": 1, \"31\": 1, \"99\": 1, \"112\": 1, \"9\": 1, \"44\": 1}, \"14\": {\"92\": 2, \"14\": 2, \"16\": 1, \"1\": 1, \"118\": 2}, \"48\": {\"48\": 2, \"31\": 2, \"99\": 3, \"38\": 1, \"104\": 2, \"122\": 1, \"121\": 1}, \"25\": {\"25\": 9, \"97\": 1, \"75\": 1, \"12\": 1}, \"17\": {\"17\": 1, \"14\": 1, \"114\": 3, \"93\": 2, \"113\": 2, \"21\": 2, \"86\": 1}, \"70\": {\"31\": 3, \"92\": 2, \"91\": 1, \"105\": 1, \"70\": 1, \"17\": 1, \"100\": 1, \"44\": 2}, \"26\": {\"121\": 2, \"26\": 4, \"102\": 3, \"13\": 1}, \"92\": {\"96\": 1, \"92\": 9, \"118\": 1, \"109\": 1}, \"45\": {\"13\": 2, \"118\": 2, \"76\": 1, \"117\": 1, \"100\": 1, \"120\": 1, \"45\": 3, \"32\": 1}, \"105\": {\"105\": 9, \"37\": 1, \"1\": 1, \"127\": 1}, \"61\": {\"61\": 6, \"123\": 2, \"38\": 1, \"109\": 1, \"113\": 2}, \"36\": {\"36\": 5, \"73\": 1, \"125\": 1, \"94\": 1, \"58\": 1, \"16\": 1, \"15\": 2}, \"0\": {\"18\": 1, \"129\": 1, \"19\": 1, \"36\": 1, \"0\": 3, \"86\": 1, \"20\": 2, \"17\": 1, \"31\": 1}, \"27\": {\"18\": 1, \"36\": 1, \"125\": 1, \"124\": 1, \"27\": 2}, \"67\": {\"18\": 2, \"67\": 4, \"74\": 1, \"100\": 2, \"126\": 1, \"28\": 1, \"96\": 1}, \"97\": {\"12\": 1, \"97\": 8, \"30\": 1, \"101\": 1, \"36\": 1}, \"46\": {\"46\": 6, \"105\": 1, \"3\": 1, \"5\": 1, \"37\": 1}, \"9\": {\"129\": 2, \"71\": 1, \"53\": 1, \"9\": 3, \"77\": 1, \"70\": 1, \"110\": 1, \"107\": 2}, \"12\": {\"0\": 1, \"105\": 1, \"12\": 4, \"58\": 1, \"30\": 1, \"70\": 1, \"101\": 1}, \"18\": {\"18\": 4, \"74\": 2, \"120\": 1, \"65\": 1}, \"127\": {\"105\": 1, \"129\": 1, \"71\": 2, \"127\": 5, \"85\": 2, \"41\": 1}, \"52\": {\"12\": 1, \"52\": 4, \"73\": 1, \"30\": 1, \"114\": 1, \"84\": 1, \"42\": 1, \"85\": 1, \"101\": 1}, \"54\": {\"54\": 10}, \"55\": {\"55\": 12}, \"57\": {\"92\": 2, \"57\": 5, \"64\": 1, \"23\": 1, \"65\": 1, \"32\": 1, \"20\": 1}, \"15\": {\"15\": 4, \"106\": 1, \"94\": 1, \"0\": 1, \"98\": 1, \"73\": 2, \"58\": 1, \"42\": 1}, \"74\": {\"108\": 2, \"74\": 3, \"65\": 2, \"32\": 1}, \"5\": {\"5\": 5, \"101\": 2, \"86\": 1, \"46\": 1, \"43\": 1, \"127\": 1, \"30\": 1}, \"114\": {\"46\": 1, \"92\": 2, \"10\": 1, \"114\": 2, \"91\": 1, \"32\": 1, \"108\": 2, \"86\": 2}, \"69\": {\"46\": 1, \"69\": 9, \"120\": 1, \"2\": 1}, \"16\": {\"124\": 1, \"80\": 1, \"16\": 4, \"29\": 1, \"92\": 1, \"113\": 1, \"57\": 1, \"63\": 2}, \"38\": {\"121\": 2, \"38\": 7, \"48\": 1, \"69\": 1, \"119\": 1}, \"124\": {\"51\": 1, \"41\": 1, \"124\": 3, \"66\": 1, \"111\": 1, \"68\": 1, \"59\": 1, \"104\": 1, \"85\": 1, \"98\": 1}, \"125\": {\"94\": 1, \"125\": 10, \"36\": 1}, \"41\": {\"41\": 5, \"82\": 2, \"19\": 1}, \"80\": {\"31\": 1, \"80\": 11}, \"82\": {\"82\": 9, \"69\": 2, \"86\": 1}, \"84\": {\"14\": 1, \"80\": 1, \"91\": 2, \"102\": 1, \"10\": 1, \"84\": 2, \"65\": 1, \"92\": 1, \"17\": 1, \"116\": 1}, \"93\": {\"16\": 1, \"77\": 1, \"93\": 2, \"31\": 1, \"57\": 1, \"113\": 1, \"17\": 1, \"33\": 1, \"28\": 1}, \"29\": {\"29\": 10}, \"33\": {\"33\": 3, \"2\": 1, \"115\": 1, \"13\": 2, \"113\": 1, \"44\": 2}, \"120\": {\"29\": 1, \"18\": 1, \"81\": 2, \"120\": 6, \"65\": 1, \"92\": 1}, \"66\": {\"101\": 1, \"29\": 1, \"104\": 1, \"66\": 5, \"103\": 1, \"30\": 1}, \"89\": {\"29\": 1, \"89\": 9, \"92\": 1, \"49\": 1}, \"101\": {\"129\": 2, \"101\": 6, \"111\": 1, \"7\": 1, \"71\": 2}, \"64\": {\"18\": 1, \"67\": 1, \"64\": 4, \"120\": 1, \"57\": 1, \"117\": 1, \"96\": 1, \"2\": 2}, \"100\": {\"119\": 1, \"74\": 1, \"100\": 2, \"29\": 1, \"9\": 1, \"17\": 1, \"62\": 1, \"31\": 1, \"63\": 1, \"80\": 2}, \"86\": {\"86\": 7, \"74\": 1, \"10\": 1, \"70\": 1, \"9\": 1, \"80\": 1}, \"60\": {\"60\": 2, \"78\": 1, \"47\": 1, \"23\": 1, \"116\": 1, \"112\": 1, \"128\": 1, \"83\": 1, \"76\": 1, \"45\": 1, \"93\": 1}, \"78\": {\"86\": 1, \"52\": 2, \"99\": 2, \"43\": 1, \"78\": 1, \"88\": 1, \"128\": 1, \"3\": 1, \"122\": 2}, \"73\": {\"73\": 6, \"36\": 1, \"98\": 2, \"58\": 1, \"52\": 1, \"106\": 1}, \"19\": {\"55\": 1, \"92\": 1, \"71\": 1, \"99\": 1, \"16\": 1, \"19\": 1, \"17\": 1, \"21\": 1, \"122\": 2}, \"122\": {\"92\": 2, \"93\": 1, \"31\": 1, \"20\": 1, \"49\": 1, \"122\": 2, \"44\": 2, \"88\": 1, \"28\": 1}, \"4\": {\"113\": 1, \"0\": 1, \"55\": 1, \"4\": 3, \"20\": 1, \"127\": 1, \"92\": 1, \"2\": 2, \"110\": 1}, \"104\": {\"118\": 1, \"104\": 5, \"120\": 1, \"105\": 1, \"1\": 1, \"2\": 1}, \"118\": {\"118\": 5, \"109\": 2, \"81\": 1, \"60\": 1, \"44\": 1, \"113\": 2}, \"42\": {\"19\": 1, \"36\": 1, \"29\": 2, \"42\": 1, \"1\": 1, \"118\": 1, \"84\": 1, \"65\": 1, \"108\": 1, \"8\": 1, \"128\": 1}, \"83\": {\"91\": 3, \"83\": 2, \"20\": 1, \"99\": 1, \"37\": 1, \"103\": 2, \"21\": 1, \"30\": 1}, \"91\": {\"29\": 1, \"91\": 1, \"31\": 2, \"23\": 2, \"20\": 2, \"51\": 1, \"17\": 1, \"99\": 2}, \"62\": {\"62\": 8, \"91\": 2, \"126\": 1, \"32\": 1}, \"2\": {\"100\": 1, \"43\": 2, \"39\": 2, \"20\": 1, \"80\": 1, \"122\": 1, \"81\": 1, \"31\": 1, \"4\": 1, \"64\": 1}, \"1\": {\"1\": 7, \"3\": 1, \"129\": 2, \"105\": 1, \"8\": 1}, \"90\": {\"29\": 2, \"90\": 2, \"21\": 2, \"113\": 2, \"80\": 1, \"67\": 1}, \"34\": {\"34\": 1, \"75\": 1, \"47\": 2, \"83\": 1, \"10\": 1, \"36\": 1, \"53\": 1, \"94\": 2, \"80\": 2}, \"75\": {\"75\": 12}, \"81\": {\"26\": 2, \"120\": 3, \"81\": 7}, \"109\": {\"118\": 3, \"26\": 1, \"39\": 1, \"109\": 2, \"2\": 1, \"120\": 1, \"65\": 1, \"92\": 2}, \"103\": {\"103\": 3, \"110\": 1, \"29\": 1, \"49\": 2, \"20\": 2, \"80\": 1, \"74\": 1, \"44\": 1}, \"110\": {\"56\": 1, \"87\": 1, \"84\": 2, \"122\": 1, \"20\": 1, \"99\": 1, \"110\": 2, \"9\": 1, \"44\": 1, \"23\": 1}, \"71\": {\"71\": 9, \"49\": 1, \"0\": 2}, \"65\": {\"99\": 2, \"65\": 4, \"49\": 2, \"96\": 2, \"44\": 2}, \"99\": {\"99\": 12}, \"7\": {\"7\": 3, \"51\": 1, \"31\": 2, \"115\": 1, \"44\": 1}, \"98\": {\"73\": 2, \"71\": 1, \"108\": 1, \"83\": 1, \"111\": 1, \"52\": 1, \"99\": 1, \"6\": 2, \"98\": 2}, \"68\": {\"71\": 1, \"68\": 1, \"114\": 1, \"10\": 2, \"37\": 2, \"1\": 2, \"72\": 2, \"30\": 1}, \"24\": {\"24\": 7, \"75\": 1, \"59\": 1, \"125\": 2, \"70\": 1}, \"6\": {\"98\": 1, \"73\": 1, \"6\": 8, \"111\": 1, \"59\": 1}, \"115\": {\"9\": 1, \"100\": 1, \"110\": 1, \"115\": 1, \"96\": 1, \"117\": 1, \"11\": 1, \"7\": 1, \"118\": 1, \"14\": 1}, \"40\": {\"40\": 4, \"50\": 1, \"84\": 1, \"114\": 1, \"46\": 1}, \"20\": {\"20\": 7, \"80\": 3, \"29\": 2}, \"95\": {\"58\": 1, \"127\": 1, \"95\": 6, \"10\": 1, \"105\": 1, \"1\": 1, \"12\": 1}, \"10\": {\"114\": 1, \"20\": 1, \"99\": 1, \"68\": 1, \"86\": 2, \"129\": 1, \"16\": 1, \"84\": 2, \"29\": 1, \"42\": 1}, \"126\": {\"20\": 2, \"44\": 1, \"88\": 1, \"93\": 1, \"57\": 1, \"16\": 2, \"65\": 2, \"63\": 1, \"126\": 1}, \"72\": {\"98\": 1, \"99\": 1, \"59\": 1, \"72\": 4, \"42\": 1, \"29\": 1, \"35\": 1}, \"49\": {\"128\": 1, \"108\": 1, \"20\": 3, \"8\": 1, \"32\": 1, \"103\": 1, \"21\": 1, \"90\": 1, \"65\": 1, \"44\": 1}, \"111\": {\"111\": 4, \"101\": 2, \"98\": 1, \"73\": 2, \"59\": 1}, \"37\": {\"31\": 1, \"84\": 1, \"88\": 1, \"28\": 1, \"34\": 1, \"68\": 1, \"37\": 1, \"80\": 1, \"44\": 2}, \"88\": {\"126\": 1, \"60\": 1, \"86\": 1, \"88\": 1, \"44\": 3, \"29\": 2, \"65\": 1}, \"32\": {\"65\": 1, \"44\": 2, \"93\": 2, \"13\": 2, \"87\": 1, \"128\": 1, \"45\": 1, \"32\": 2}, \"47\": {\"47\": 6, \"27\": 1, \"59\": 1, \"9\": 1, \"41\": 1, \"24\": 1, \"70\": 1}, \"59\": {\"59\": 9, \"8\": 1, \"7\": 1, \"60\": 1}, \"23\": {\"23\": 3, \"57\": 1, \"13\": 1, \"81\": 2, \"115\": 2, \"88\": 1}, \"116\": {\"93\": 1, \"116\": 8, \"61\": 2, \"16\": 1}, \"85\": {\"8\": 1, \"59\": 1, \"110\": 1, \"124\": 1, \"7\": 2, \"85\": 1, \"14\": 1}, \"8\": {\"49\": 1, \"8\": 2, \"77\": 1, \"100\": 1, \"31\": 1, \"128\": 1, \"20\": 1}, \"50\": {\"87\": 1, \"7\": 1, \"110\": 1, \"43\": 1, \"50\": 1, \"1\": 1}}}, \"per_domain_accuracy\": {\"ORACLE.run1_26\": {\"accuracy\": 0.57890625, \"source?\": true}, \"ORACLE.run1_44\": {\"accuracy\": 0.6854166666666667, \"source?\": true}, \"ORACLE.run1_50\": {\"accuracy\": 0.8, \"source?\": true}, \"ORACLE.run1_38\": {\"accuracy\": 0.8, \"source?\": true}, \"ORACLE.run1_20\": {\"accuracy\": 0.70234375, \"source?\": true}, \"ORACLE.run1_14\": {\"accuracy\": 0.8401041666666667, \"source?\": true}, \"ORACLE.run1_32\": {\"accuracy\": 0.7888020833333333, \"source?\": true}, \"ORACLE.run1_8\": {\"accuracy\": 0.7765625, \"source?\": true}, \"W_A_4\": {\"accuracy\": 0.37300531914893614, \"source?\": false}, \"C_A_5\": {\"accuracy\": 0.76875, \"source?\": false}, \"W_A_1\": {\"accuracy\": 0.45991847826086957, \"source?\": false}, \"C_A_1\": {\"accuracy\": 0.7796875, \"source?\": false}, \"W_A_2\": {\"accuracy\": 0.4242021276595745, \"source?\": false}, \"C_A_3\": {\"accuracy\": 0.7828125, \"source?\": false}, \"C_A_4\": {\"accuracy\": 0.759375, \"source?\": false}, \"C_A_2\": {\"accuracy\": 0.7765625, \"source?\": false}, \"W_A_3\": {\"accuracy\": 0.4164402173913043, \"source?\": false}}}, \"history\": {\"epoch_indices\": [1, 2, 3, 4, 5, 6, 7, 8], \"train_label_loss\": [1.0012554739380166, 2.83138141465329, 0.876369018247351, 0.7471051858095009, 0.6218981888222819, 0.5551999426801645, 0.5106113338610158, 0.4954405743714666], \"source_val_label_loss\": [92.94811248779297, 0.9478802680969238, 0.8154274225234985, 0.6963220238685608, 0.5884683728218079, 0.5825572609901428, 0.4958934783935547, 0.5102002024650574], \"target_val_label_loss\": [24422.451171875, 2228.0966796875, 4406.36279296875, 2212.447265625, 4913.8935546875, 5370.27294921875, 5606.58349609375, 3096.3349609375], \"source_val_acc_label\": [0.6276692708333333, 0.65, 0.7018229166666666, 0.7465169270833333, 0.7900390625, 0.78671875, 0.8244791666666667, 0.8170572916666666], \"target_val_acc_label\": [0.41444493006993005, 0.5124562937062938, 0.6160402097902098, 0.5423951048951049, 0.564576048951049, 0.556708916083916, 0.5525568181818182, 0.519340034965035]}, \"dataset_metrics\": {\"source\": {\"train\": {\"n_unique_x\": 179200, \"n_unique_y\": 16, \"n_batch/episode\": 6720}, \"val\": {\"n_unique_x\": 38400, \"n_unique_y\": 16, \"n_batch/episode\": 960}, \"test\": {\"n_unique_x\": 38400, \"n_unique_y\": 16, \"n_batch/episode\": 960}}, \"target\": {\"train\": {\"n_unique_x\": 56700, \"n_unique_y\": 130, \"n_batch/episode\": 2080}, \"val\": {\"n_unique_x\": 12104, \"n_unique_y\": 130, \"n_batch/episode\": 286}, \"test\": {\"n_unique_x\": 12104, \"n_unique_y\": 130, \"n_batch/episode\": 286}}}}'"
      ]
     },
     "execution_count": 29,
     "metadata": {},
     "output_type": "execute_result"
    }
   ],
   "source": [
    "json.dumps(experiment)"
   ]
  }
 ],
 "metadata": {
  "celltoolbar": "Tags",
  "kernelspec": {
   "display_name": "Python 3 (ipykernel)",
   "language": "python",
   "name": "python3"
  },
  "language_info": {
   "codemirror_mode": {
    "name": "ipython",
    "version": 3
   },
   "file_extension": ".py",
   "mimetype": "text/x-python",
   "name": "python",
   "nbconvert_exporter": "python",
   "pygments_lexer": "ipython3",
   "version": "3.8.10"
  },
  "papermill": {
   "default_parameters": {},
   "duration": 1380.792051,
   "end_time": "2022-03-18T19:00:43.854849",
   "environment_variables": {},
   "exception": null,
   "input_path": "/mnt/wd500GB/CSC500/csc500-main/csc500-notebooks/templates/tl_ptn_template.ipynb",
   "output_path": "trial.ipynb",
   "parameters": {
    "parameters": {
     "BEST_MODEL_PATH": "./best_model.pth",
     "NUM_LOGS_PER_EPOCH": 10,
     "criteria_for_best": "target_loss",
     "dataset_seed": 7,
     "datasets": [
      {
       "domain_prefix": "C_A_",
       "domains": [
        1,
        2,
        3,
        4,
        5
       ],
       "episode_transforms": [],
       "labels": [
        "1-10.",
        "1-11.",
        "1-15.",
        "1-16.",
        "1-17.",
        "1-18.",
        "1-19.",
        "10-4.",
        "10-7.",
        "11-1.",
        "11-14.",
        "11-17.",
        "11-20.",
        "11-7.",
        "13-20.",
        "13-8.",
        "14-10.",
        "14-11.",
        "14-14.",
        "14-7.",
        "15-1.",
        "15-20.",
        "16-1.",
        "16-16.",
        "17-10.",
        "17-11.",
        "17-2.",
        "19-1.",
        "19-16.",
        "19-19.",
        "19-20.",
        "19-3.",
        "2-10.",
        "2-11.",
        "2-17.",
        "2-18.",
        "2-20.",
        "2-3.",
        "2-4.",
        "2-5.",
        "2-6.",
        "2-7.",
        "2-8.",
        "3-13.",
        "3-18.",
        "3-3.",
        "4-1.",
        "4-10.",
        "4-11.",
        "4-19.",
        "5-5.",
        "6-15.",
        "7-10.",
        "7-14.",
        "8-18.",
        "8-20.",
        "8-3.",
        "8-8."
       ],
       "num_examples_per_domain_per_label": 100,
       "pickle_path": "/mnt/wd500GB/CSC500/csc500-main/datasets/cores.stratified_ds.2022A.pkl",
       "source_or_target_dataset": "target",
       "x_transforms": [
        "unit_power",
        "take_200"
       ]
      },
      {
       "domain_prefix": "W_A_",
       "domains": [
        1,
        2,
        3,
        4
       ],
       "episode_transforms": [],
       "labels": [
        "1-10",
        "1-12",
        "1-14",
        "1-16",
        "1-18",
        "1-19",
        "1-8",
        "10-11",
        "10-17",
        "10-4",
        "10-7",
        "11-1",
        "11-10",
        "11-19",
        "11-20",
        "11-4",
        "11-7",
        "12-19",
        "12-20",
        "12-7",
        "13-14",
        "13-18",
        "13-19",
        "13-20",
        "13-3",
        "13-7",
        "14-10",
        "14-11",
        "14-12",
        "14-13",
        "14-14",
        "14-19",
        "14-20",
        "14-7",
        "14-8",
        "14-9",
        "15-1",
        "15-19",
        "15-6",
        "16-1",
        "16-16",
        "16-19",
        "16-20",
        "17-10",
        "17-11",
        "18-1",
        "18-10",
        "18-11",
        "18-12",
        "18-13",
        "18-14",
        "18-15",
        "18-16",
        "18-17",
        "18-19",
        "18-2",
        "18-20",
        "18-4",
        "18-5",
        "18-7",
        "18-8",
        "18-9",
        "19-1",
        "19-10",
        "19-11",
        "19-12",
        "19-13",
        "19-14",
        "19-15",
        "19-19",
        "19-2",
        "19-20",
        "19-3",
        "19-4",
        "19-6",
        "19-7",
        "19-8",
        "19-9",
        "2-1",
        "2-13",
        "2-15",
        "2-3",
        "2-4",
        "2-5",
        "2-6",
        "2-7",
        "2-8",
        "20-1",
        "20-12",
        "20-14",
        "20-15",
        "20-16",
        "20-18",
        "20-19",
        "20-20",
        "20-3",
        "20-4",
        "20-5",
        "20-7",
        "20-8",
        "3-1",
        "3-13",
        "3-18",
        "3-2",
        "3-8",
        "4-1",
        "4-10",
        "4-11",
        "5-1",
        "5-5",
        "6-1",
        "6-15",
        "6-6",
        "7-10",
        "7-11",
        "7-12",
        "7-13",
        "7-14",
        "7-7",
        "7-8",
        "7-9",
        "8-1",
        "8-13",
        "8-14",
        "8-18",
        "8-20",
        "8-3",
        "8-8",
        "9-1",
        "9-7"
       ],
       "num_examples_per_domain_per_label": 100,
       "pickle_path": "/mnt/wd500GB/CSC500/csc500-main/datasets/wisig.node3-19.stratified_ds.2022A.pkl",
       "source_or_target_dataset": "target",
       "x_transforms": [
        "unit_power",
        "take_200"
       ]
      },
      {
       "domain_prefix": "ORACLE.run1_",
       "domains": [
        32,
        38,
        8,
        44,
        14,
        50,
        20,
        26
       ],
       "episode_transforms": [],
       "labels": [
        "3123D52",
        "3123D65",
        "3123D79",
        "3123D80",
        "3123D54",
        "3123D70",
        "3123D7B",
        "3123D89",
        "3123D58",
        "3123D76",
        "3123D7D",
        "3123EFE",
        "3123D64",
        "3123D78",
        "3123D7E",
        "3124E4A"
       ],
       "num_examples_per_domain_per_label": 2000,
       "pickle_path": "/mnt/wd500GB/CSC500/csc500-main/datasets/oracle.Run1_framed_2000Examples_stratified_ds.2022A.pkl",
       "source_or_target_dataset": "source",
       "x_transforms": [
        "unit_power",
        "take_200",
        "resample_20Msps_to_25Msps"
       ]
      }
     ],
     "device": "cuda",
     "experiment_name": "tl_3A:oracle.run1.framed -> cores+wisig",
     "lr": 0.001,
     "n_epoch": 50,
     "n_query": 2,
     "n_shot": 3,
     "n_way": 16,
     "patience": 3,
     "seed": 7,
     "test_k_factor": 2,
     "torch_default_dtype": "torch.float32",
     "train_k_factor": 3,
     "val_k_factor": 2,
     "x_net": [
      {
       "class": "nnReshape",
       "kargs": {
        "shape": [
         -1,
         1,
         2,
         200
        ]
       }
      },
      {
       "class": "Conv2d",
       "kargs": {
        "bias": false,
        "in_channels": 1,
        "kernel_size": [
         1,
         7
        ],
        "out_channels": 256,
        "padding": [
         0,
         3
        ]
       }
      },
      {
       "class": "ReLU",
       "kargs": {
        "inplace": true
       }
      },
      {
       "class": "BatchNorm2d",
       "kargs": {
        "num_features": 256
       }
      },
      {
       "class": "Conv2d",
       "kargs": {
        "bias": true,
        "in_channels": 256,
        "kernel_size": [
         2,
         7
        ],
        "out_channels": 80,
        "padding": [
         0,
         3
        ]
       }
      },
      {
       "class": "ReLU",
       "kargs": {
        "inplace": true
       }
      },
      {
       "class": "BatchNorm2d",
       "kargs": {
        "num_features": 80
       }
      },
      {
       "class": "Flatten",
       "kargs": {}
      },
      {
       "class": "Linear",
       "kargs": {
        "in_features": 16000,
        "out_features": 256
       }
      },
      {
       "class": "ReLU",
       "kargs": {
        "inplace": true
       }
      },
      {
       "class": "BatchNorm1d",
       "kargs": {
        "num_features": 256
       }
      },
      {
       "class": "Linear",
       "kargs": {
        "in_features": 256,
        "out_features": 256
       }
      }
     ],
     "x_shape": [
      2,
      200
     ]
    }
   },
   "start_time": "2022-03-18T18:37:43.062798",
   "version": "2.3.4"
  }
 },
 "nbformat": 4,
 "nbformat_minor": 5
}