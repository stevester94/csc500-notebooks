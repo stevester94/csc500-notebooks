{
 "cells": [
  {
   "cell_type": "markdown",
   "id": "9fea5f46",
   "metadata": {
    "papermill": {
     "duration": 0.017945,
     "end_time": "2022-03-18T18:17:45.083504",
     "exception": false,
     "start_time": "2022-03-18T18:17:45.065559",
     "status": "completed"
    },
    "tags": []
   },
   "source": [
    "# Transfer Learning Template"
   ]
  },
  {
   "cell_type": "code",
   "execution_count": 1,
   "id": "0902182a",
   "metadata": {
    "execution": {
     "iopub.execute_input": "2022-03-18T18:17:45.123743Z",
     "iopub.status.busy": "2022-03-18T18:17:45.123265Z",
     "iopub.status.idle": "2022-03-18T18:17:46.022498Z",
     "shell.execute_reply": "2022-03-18T18:17:46.022206Z"
    },
    "papermill": {
     "duration": 0.926256,
     "end_time": "2022-03-18T18:17:46.022565",
     "exception": false,
     "start_time": "2022-03-18T18:17:45.096309",
     "status": "completed"
    },
    "tags": []
   },
   "outputs": [],
   "source": [
    "%load_ext autoreload\n",
    "%autoreload 2\n",
    "%matplotlib inline\n",
    "\n",
    "    \n",
    "import os, json, sys, time, random\n",
    "import numpy as np\n",
    "import torch\n",
    "from torch.optim import Adam\n",
    "from  easydict import EasyDict\n",
    "import matplotlib.pyplot as plt\n",
    "\n",
    "from steves_models.steves_ptn import Steves_Prototypical_Network\n",
    "\n",
    "from steves_utils.lazy_iterable_wrapper import Lazy_Iterable_Wrapper\n",
    "from steves_utils.iterable_aggregator import Iterable_Aggregator\n",
    "from steves_utils.ptn_train_eval_test_jig import  PTN_Train_Eval_Test_Jig\n",
    "from steves_utils.torch_sequential_builder import build_sequential\n",
    "from steves_utils.torch_utils import get_dataset_metrics, ptn_confusion_by_domain_over_dataloader\n",
    "from steves_utils.utils_v2 import (per_domain_accuracy_from_confusion, get_datasets_base_path)\n",
    "from steves_utils.PTN.utils import independent_accuracy_assesment\n",
    "\n",
    "from torch.utils.data import DataLoader\n",
    "\n",
    "from steves_utils.stratified_dataset.episodic_accessor import Episodic_Accessor_Factory\n",
    "\n",
    "from steves_utils.ptn_do_report import (\n",
    "    get_loss_curve,\n",
    "    get_results_table,\n",
    "    get_parameters_table,\n",
    "    get_domain_accuracies,\n",
    ")\n",
    "\n",
    "from steves_utils.transforms import get_chained_transform"
   ]
  },
  {
   "cell_type": "markdown",
   "id": "41c840b4",
   "metadata": {
    "papermill": {
     "duration": 0.012854,
     "end_time": "2022-03-18T18:17:46.048685",
     "exception": false,
     "start_time": "2022-03-18T18:17:46.035831",
     "status": "completed"
    },
    "tags": []
   },
   "source": [
    "# Allowed Parameters\n",
    "These are allowed parameters, not defaults\n",
    "Each of these values need to be present in the injected parameters (the notebook will raise an exception if they are not present)\n",
    "\n",
    "Papermill uses the cell tag \"parameters\" to inject the real parameters below this cell.\n",
    "Enable tags to see what I mean"
   ]
  },
  {
   "cell_type": "code",
   "execution_count": 2,
   "id": "fd44eb83",
   "metadata": {
    "execution": {
     "iopub.execute_input": "2022-03-18T18:17:46.076644Z",
     "iopub.status.busy": "2022-03-18T18:17:46.076382Z",
     "iopub.status.idle": "2022-03-18T18:17:46.092319Z",
     "shell.execute_reply": "2022-03-18T18:17:46.092528Z"
    },
    "papermill": {
     "duration": 0.031058,
     "end_time": "2022-03-18T18:17:46.092597",
     "exception": false,
     "start_time": "2022-03-18T18:17:46.061539",
     "status": "completed"
    },
    "tags": []
   },
   "outputs": [],
   "source": [
    "required_parameters = {\n",
    "    \"experiment_name\",\n",
    "    \"lr\",\n",
    "    \"device\",\n",
    "    \"seed\",\n",
    "    \"dataset_seed\",\n",
    "    \"n_shot\",\n",
    "    \"n_query\",\n",
    "    \"n_way\",\n",
    "    \"train_k_factor\",\n",
    "    \"val_k_factor\",\n",
    "    \"test_k_factor\",\n",
    "    \"n_epoch\",\n",
    "    \"patience\",\n",
    "    \"criteria_for_best\",\n",
    "    \"x_net\",\n",
    "    \"datasets\",\n",
    "    \"torch_default_dtype\",\n",
    "    \"NUM_LOGS_PER_EPOCH\",\n",
    "    \"BEST_MODEL_PATH\",\n",
    "    \"x_shape\",\n",
    "}"
   ]
  },
  {
   "cell_type": "code",
   "execution_count": 3,
   "id": "fa3f0049",
   "metadata": {
    "execution": {
     "iopub.execute_input": "2022-03-18T18:17:46.124660Z",
     "iopub.status.busy": "2022-03-18T18:17:46.124371Z",
     "iopub.status.idle": "2022-03-18T18:17:46.137041Z",
     "shell.execute_reply": "2022-03-18T18:17:46.136812Z"
    },
    "papermill": {
     "duration": 0.031491,
     "end_time": "2022-03-18T18:17:46.137098",
     "exception": false,
     "start_time": "2022-03-18T18:17:46.105607",
     "status": "completed"
    },
    "tags": [
     "parameters"
    ]
   },
   "outputs": [],
   "source": [
    "from steves_utils.CORES.utils import (\n",
    "    ALL_NODES,\n",
    "    ALL_NODES_MINIMUM_1000_EXAMPLES,\n",
    "    ALL_DAYS\n",
    ")\n",
    "\n",
    "from steves_utils.ORACLE.utils_v2 import (\n",
    "    ALL_DISTANCES_FEET_NARROWED,\n",
    "    ALL_RUNS,\n",
    "    ALL_SERIAL_NUMBERS,\n",
    ")\n",
    "\n",
    "standalone_parameters = {}\n",
    "standalone_parameters[\"experiment_name\"] = \"STANDALONE PTN\"\n",
    "standalone_parameters[\"lr\"] = 0.001\n",
    "standalone_parameters[\"device\"] = \"cuda\"\n",
    "\n",
    "standalone_parameters[\"seed\"] = 1337\n",
    "standalone_parameters[\"dataset_seed\"] = 1337\n",
    "\n",
    "standalone_parameters[\"n_way\"] = 8\n",
    "standalone_parameters[\"n_shot\"] = 3\n",
    "standalone_parameters[\"n_query\"]  = 2\n",
    "standalone_parameters[\"train_k_factor\"] = 1\n",
    "standalone_parameters[\"val_k_factor\"] = 2\n",
    "standalone_parameters[\"test_k_factor\"] = 2\n",
    "\n",
    "\n",
    "standalone_parameters[\"n_epoch\"] = 50\n",
    "\n",
    "standalone_parameters[\"patience\"] = 10\n",
    "standalone_parameters[\"criteria_for_best\"] = \"source_loss\"\n",
    "\n",
    "standalone_parameters[\"datasets\"] = [\n",
    "    {\n",
    "        \"labels\": ALL_SERIAL_NUMBERS,\n",
    "        \"domains\": ALL_DISTANCES_FEET_NARROWED,\n",
    "        \"num_examples_per_domain_per_label\": 100,\n",
    "        \"pickle_path\": os.path.join(get_datasets_base_path(), \"oracle.Run1_framed_2000Examples_stratified_ds.2022A.pkl\"),\n",
    "        \"source_or_target_dataset\": \"source\",\n",
    "        \"x_transforms\": [\"unit_mag\", \"minus_two\"],\n",
    "        \"episode_transforms\": [],\n",
    "        \"domain_prefix\": \"ORACLE_\"\n",
    "    },\n",
    "    {\n",
    "        \"labels\": ALL_NODES,\n",
    "        \"domains\": ALL_DAYS,\n",
    "        \"num_examples_per_domain_per_label\": 100,\n",
    "        \"pickle_path\": os.path.join(get_datasets_base_path(), \"cores.stratified_ds.2022A.pkl\"),\n",
    "        \"source_or_target_dataset\": \"target\",\n",
    "        \"x_transforms\": [\"unit_power\", \"times_zero\"],\n",
    "        \"episode_transforms\": [],\n",
    "        \"domain_prefix\": \"CORES_\"\n",
    "    }   \n",
    "]\n",
    "\n",
    "standalone_parameters[\"torch_default_dtype\"] = \"torch.float32\" \n",
    "\n",
    "\n",
    "\n",
    "standalone_parameters[\"x_net\"] =     [\n",
    "    {\"class\": \"nnReshape\", \"kargs\": {\"shape\":[-1, 1, 2, 256]}},\n",
    "    {\"class\": \"Conv2d\", \"kargs\": { \"in_channels\":1, \"out_channels\":256, \"kernel_size\":(1,7), \"bias\":False, \"padding\":(0,3), },},\n",
    "    {\"class\": \"ReLU\", \"kargs\": {\"inplace\": True}},\n",
    "    {\"class\": \"BatchNorm2d\", \"kargs\": {\"num_features\":256}},\n",
    "\n",
    "    {\"class\": \"Conv2d\", \"kargs\": { \"in_channels\":256, \"out_channels\":80, \"kernel_size\":(2,7), \"bias\":True, \"padding\":(0,3), },},\n",
    "    {\"class\": \"ReLU\", \"kargs\": {\"inplace\": True}},\n",
    "    {\"class\": \"BatchNorm2d\", \"kargs\": {\"num_features\":80}},\n",
    "    {\"class\": \"Flatten\", \"kargs\": {}},\n",
    "\n",
    "    {\"class\": \"Linear\", \"kargs\": {\"in_features\": 80*256, \"out_features\": 256}}, # 80 units per IQ pair\n",
    "    {\"class\": \"ReLU\", \"kargs\": {\"inplace\": True}},\n",
    "    {\"class\": \"BatchNorm1d\", \"kargs\": {\"num_features\":256}},\n",
    "\n",
    "    {\"class\": \"Linear\", \"kargs\": {\"in_features\": 256, \"out_features\": 256}},\n",
    "]\n",
    "\n",
    "# Parameters relevant to results\n",
    "# These parameters will basically never need to change\n",
    "standalone_parameters[\"NUM_LOGS_PER_EPOCH\"] = 10\n",
    "standalone_parameters[\"BEST_MODEL_PATH\"] = \"./best_model.pth\"\n",
    "\n",
    "\n",
    "\n",
    "\n"
   ]
  },
  {
   "cell_type": "code",
   "execution_count": 4,
   "id": "cc385326",
   "metadata": {
    "execution": {
     "iopub.execute_input": "2022-03-18T18:17:46.174160Z",
     "iopub.status.busy": "2022-03-18T18:17:46.173681Z",
     "iopub.status.idle": "2022-03-18T18:17:46.187558Z",
     "shell.execute_reply": "2022-03-18T18:17:46.187107Z"
    },
    "papermill": {
     "duration": 0.035861,
     "end_time": "2022-03-18T18:17:46.187658",
     "exception": false,
     "start_time": "2022-03-18T18:17:46.151797",
     "status": "completed"
    },
    "tags": [
     "injected-parameters"
    ]
   },
   "outputs": [],
   "source": [
    "# Parameters\n",
    "parameters = {\n",
    "    \"experiment_name\": \"tl_3A:oracle.run1.framed -> cores+wisig\",\n",
    "    \"device\": \"cuda\",\n",
    "    \"lr\": 0.001,\n",
    "    \"seed\": 154325,\n",
    "    \"dataset_seed\": 154325,\n",
    "    \"x_shape\": [2, 200],\n",
    "    \"n_shot\": 3,\n",
    "    \"n_query\": 2,\n",
    "    \"train_k_factor\": 3,\n",
    "    \"val_k_factor\": 2,\n",
    "    \"test_k_factor\": 2,\n",
    "    \"torch_default_dtype\": \"torch.float32\",\n",
    "    \"n_epoch\": 50,\n",
    "    \"patience\": 3,\n",
    "    \"criteria_for_best\": \"target_loss\",\n",
    "    \"x_net\": [\n",
    "        {\"class\": \"nnReshape\", \"kargs\": {\"shape\": [-1, 1, 2, 200]}},\n",
    "        {\n",
    "            \"class\": \"Conv2d\",\n",
    "            \"kargs\": {\n",
    "                \"in_channels\": 1,\n",
    "                \"out_channels\": 256,\n",
    "                \"kernel_size\": [1, 7],\n",
    "                \"bias\": False,\n",
    "                \"padding\": [0, 3],\n",
    "            },\n",
    "        },\n",
    "        {\"class\": \"ReLU\", \"kargs\": {\"inplace\": True}},\n",
    "        {\"class\": \"BatchNorm2d\", \"kargs\": {\"num_features\": 256}},\n",
    "        {\n",
    "            \"class\": \"Conv2d\",\n",
    "            \"kargs\": {\n",
    "                \"in_channels\": 256,\n",
    "                \"out_channels\": 80,\n",
    "                \"kernel_size\": [2, 7],\n",
    "                \"bias\": True,\n",
    "                \"padding\": [0, 3],\n",
    "            },\n",
    "        },\n",
    "        {\"class\": \"ReLU\", \"kargs\": {\"inplace\": True}},\n",
    "        {\"class\": \"BatchNorm2d\", \"kargs\": {\"num_features\": 80}},\n",
    "        {\"class\": \"Flatten\", \"kargs\": {}},\n",
    "        {\"class\": \"Linear\", \"kargs\": {\"in_features\": 16000, \"out_features\": 256}},\n",
    "        {\"class\": \"ReLU\", \"kargs\": {\"inplace\": True}},\n",
    "        {\"class\": \"BatchNorm1d\", \"kargs\": {\"num_features\": 256}},\n",
    "        {\"class\": \"Linear\", \"kargs\": {\"in_features\": 256, \"out_features\": 256}},\n",
    "    ],\n",
    "    \"NUM_LOGS_PER_EPOCH\": 10,\n",
    "    \"BEST_MODEL_PATH\": \"./best_model.pth\",\n",
    "    \"n_way\": 16,\n",
    "    \"datasets\": [\n",
    "        {\n",
    "            \"labels\": [\n",
    "                \"1-10.\",\n",
    "                \"1-11.\",\n",
    "                \"1-15.\",\n",
    "                \"1-16.\",\n",
    "                \"1-17.\",\n",
    "                \"1-18.\",\n",
    "                \"1-19.\",\n",
    "                \"10-4.\",\n",
    "                \"10-7.\",\n",
    "                \"11-1.\",\n",
    "                \"11-14.\",\n",
    "                \"11-17.\",\n",
    "                \"11-20.\",\n",
    "                \"11-7.\",\n",
    "                \"13-20.\",\n",
    "                \"13-8.\",\n",
    "                \"14-10.\",\n",
    "                \"14-11.\",\n",
    "                \"14-14.\",\n",
    "                \"14-7.\",\n",
    "                \"15-1.\",\n",
    "                \"15-20.\",\n",
    "                \"16-1.\",\n",
    "                \"16-16.\",\n",
    "                \"17-10.\",\n",
    "                \"17-11.\",\n",
    "                \"17-2.\",\n",
    "                \"19-1.\",\n",
    "                \"19-16.\",\n",
    "                \"19-19.\",\n",
    "                \"19-20.\",\n",
    "                \"19-3.\",\n",
    "                \"2-10.\",\n",
    "                \"2-11.\",\n",
    "                \"2-17.\",\n",
    "                \"2-18.\",\n",
    "                \"2-20.\",\n",
    "                \"2-3.\",\n",
    "                \"2-4.\",\n",
    "                \"2-5.\",\n",
    "                \"2-6.\",\n",
    "                \"2-7.\",\n",
    "                \"2-8.\",\n",
    "                \"3-13.\",\n",
    "                \"3-18.\",\n",
    "                \"3-3.\",\n",
    "                \"4-1.\",\n",
    "                \"4-10.\",\n",
    "                \"4-11.\",\n",
    "                \"4-19.\",\n",
    "                \"5-5.\",\n",
    "                \"6-15.\",\n",
    "                \"7-10.\",\n",
    "                \"7-14.\",\n",
    "                \"8-18.\",\n",
    "                \"8-20.\",\n",
    "                \"8-3.\",\n",
    "                \"8-8.\",\n",
    "            ],\n",
    "            \"domains\": [1, 2, 3, 4, 5],\n",
    "            \"num_examples_per_domain_per_label\": 100,\n",
    "            \"pickle_path\": \"/mnt/wd500GB/CSC500/csc500-main/datasets/cores.stratified_ds.2022A.pkl\",\n",
    "            \"source_or_target_dataset\": \"target\",\n",
    "            \"x_transforms\": [\"take_200\"],\n",
    "            \"episode_transforms\": [],\n",
    "            \"domain_prefix\": \"C_A_\",\n",
    "        },\n",
    "        {\n",
    "            \"labels\": [\n",
    "                \"1-10\",\n",
    "                \"1-12\",\n",
    "                \"1-14\",\n",
    "                \"1-16\",\n",
    "                \"1-18\",\n",
    "                \"1-19\",\n",
    "                \"1-8\",\n",
    "                \"10-11\",\n",
    "                \"10-17\",\n",
    "                \"10-4\",\n",
    "                \"10-7\",\n",
    "                \"11-1\",\n",
    "                \"11-10\",\n",
    "                \"11-19\",\n",
    "                \"11-20\",\n",
    "                \"11-4\",\n",
    "                \"11-7\",\n",
    "                \"12-19\",\n",
    "                \"12-20\",\n",
    "                \"12-7\",\n",
    "                \"13-14\",\n",
    "                \"13-18\",\n",
    "                \"13-19\",\n",
    "                \"13-20\",\n",
    "                \"13-3\",\n",
    "                \"13-7\",\n",
    "                \"14-10\",\n",
    "                \"14-11\",\n",
    "                \"14-12\",\n",
    "                \"14-13\",\n",
    "                \"14-14\",\n",
    "                \"14-19\",\n",
    "                \"14-20\",\n",
    "                \"14-7\",\n",
    "                \"14-8\",\n",
    "                \"14-9\",\n",
    "                \"15-1\",\n",
    "                \"15-19\",\n",
    "                \"15-6\",\n",
    "                \"16-1\",\n",
    "                \"16-16\",\n",
    "                \"16-19\",\n",
    "                \"16-20\",\n",
    "                \"17-10\",\n",
    "                \"17-11\",\n",
    "                \"18-1\",\n",
    "                \"18-10\",\n",
    "                \"18-11\",\n",
    "                \"18-12\",\n",
    "                \"18-13\",\n",
    "                \"18-14\",\n",
    "                \"18-15\",\n",
    "                \"18-16\",\n",
    "                \"18-17\",\n",
    "                \"18-19\",\n",
    "                \"18-2\",\n",
    "                \"18-20\",\n",
    "                \"18-4\",\n",
    "                \"18-5\",\n",
    "                \"18-7\",\n",
    "                \"18-8\",\n",
    "                \"18-9\",\n",
    "                \"19-1\",\n",
    "                \"19-10\",\n",
    "                \"19-11\",\n",
    "                \"19-12\",\n",
    "                \"19-13\",\n",
    "                \"19-14\",\n",
    "                \"19-15\",\n",
    "                \"19-19\",\n",
    "                \"19-2\",\n",
    "                \"19-20\",\n",
    "                \"19-3\",\n",
    "                \"19-4\",\n",
    "                \"19-6\",\n",
    "                \"19-7\",\n",
    "                \"19-8\",\n",
    "                \"19-9\",\n",
    "                \"2-1\",\n",
    "                \"2-13\",\n",
    "                \"2-15\",\n",
    "                \"2-3\",\n",
    "                \"2-4\",\n",
    "                \"2-5\",\n",
    "                \"2-6\",\n",
    "                \"2-7\",\n",
    "                \"2-8\",\n",
    "                \"20-1\",\n",
    "                \"20-12\",\n",
    "                \"20-14\",\n",
    "                \"20-15\",\n",
    "                \"20-16\",\n",
    "                \"20-18\",\n",
    "                \"20-19\",\n",
    "                \"20-20\",\n",
    "                \"20-3\",\n",
    "                \"20-4\",\n",
    "                \"20-5\",\n",
    "                \"20-7\",\n",
    "                \"20-8\",\n",
    "                \"3-1\",\n",
    "                \"3-13\",\n",
    "                \"3-18\",\n",
    "                \"3-2\",\n",
    "                \"3-8\",\n",
    "                \"4-1\",\n",
    "                \"4-10\",\n",
    "                \"4-11\",\n",
    "                \"5-1\",\n",
    "                \"5-5\",\n",
    "                \"6-1\",\n",
    "                \"6-15\",\n",
    "                \"6-6\",\n",
    "                \"7-10\",\n",
    "                \"7-11\",\n",
    "                \"7-12\",\n",
    "                \"7-13\",\n",
    "                \"7-14\",\n",
    "                \"7-7\",\n",
    "                \"7-8\",\n",
    "                \"7-9\",\n",
    "                \"8-1\",\n",
    "                \"8-13\",\n",
    "                \"8-14\",\n",
    "                \"8-18\",\n",
    "                \"8-20\",\n",
    "                \"8-3\",\n",
    "                \"8-8\",\n",
    "                \"9-1\",\n",
    "                \"9-7\",\n",
    "            ],\n",
    "            \"domains\": [1, 2, 3, 4],\n",
    "            \"num_examples_per_domain_per_label\": 100,\n",
    "            \"pickle_path\": \"/mnt/wd500GB/CSC500/csc500-main/datasets/wisig.node3-19.stratified_ds.2022A.pkl\",\n",
    "            \"source_or_target_dataset\": \"target\",\n",
    "            \"x_transforms\": [\"take_200\"],\n",
    "            \"episode_transforms\": [],\n",
    "            \"domain_prefix\": \"W_A_\",\n",
    "        },\n",
    "        {\n",
    "            \"labels\": [\n",
    "                \"3123D52\",\n",
    "                \"3123D65\",\n",
    "                \"3123D79\",\n",
    "                \"3123D80\",\n",
    "                \"3123D54\",\n",
    "                \"3123D70\",\n",
    "                \"3123D7B\",\n",
    "                \"3123D89\",\n",
    "                \"3123D58\",\n",
    "                \"3123D76\",\n",
    "                \"3123D7D\",\n",
    "                \"3123EFE\",\n",
    "                \"3123D64\",\n",
    "                \"3123D78\",\n",
    "                \"3123D7E\",\n",
    "                \"3124E4A\",\n",
    "            ],\n",
    "            \"domains\": [32, 38, 8, 44, 14, 50, 20, 26],\n",
    "            \"num_examples_per_domain_per_label\": 2000,\n",
    "            \"pickle_path\": \"/mnt/wd500GB/CSC500/csc500-main/datasets/oracle.Run1_framed_2000Examples_stratified_ds.2022A.pkl\",\n",
    "            \"source_or_target_dataset\": \"source\",\n",
    "            \"x_transforms\": [\"take_200\", \"resample_20Msps_to_25Msps\"],\n",
    "            \"episode_transforms\": [],\n",
    "            \"domain_prefix\": \"ORACLE.run1_\",\n",
    "        },\n",
    "    ],\n",
    "}\n"
   ]
  },
  {
   "cell_type": "code",
   "execution_count": 5,
   "id": "8fa1cc33",
   "metadata": {
    "execution": {
     "iopub.execute_input": "2022-03-18T18:17:46.222718Z",
     "iopub.status.busy": "2022-03-18T18:17:46.222462Z",
     "iopub.status.idle": "2022-03-18T18:17:46.234355Z",
     "shell.execute_reply": "2022-03-18T18:17:46.234037Z"
    },
    "papermill": {
     "duration": 0.027568,
     "end_time": "2022-03-18T18:17:46.234436",
     "exception": false,
     "start_time": "2022-03-18T18:17:46.206868",
     "status": "completed"
    },
    "tags": []
   },
   "outputs": [],
   "source": [
    "# Set this to True if you want to run this template directly\n",
    "STANDALONE = False\n",
    "if STANDALONE:\n",
    "    print(\"parameters not injected, running with standalone_parameters\")\n",
    "    parameters = standalone_parameters\n",
    "\n",
    "if not 'parameters' in locals() and not 'parameters' in globals():\n",
    "    raise Exception(\"Parameter injection failed\")\n",
    "\n",
    "#Use an easy dict for all the parameters\n",
    "p = EasyDict(parameters)\n",
    "\n",
    "if \"x_shape\" not in p:\n",
    "    p.x_shape = [2,256] # Default to this if we dont supply x_shape\n",
    "\n",
    "\n",
    "supplied_keys = set(p.keys())\n",
    "\n",
    "if  supplied_keys != required_parameters:\n",
    "    print(\"Parameters are incorrect\")\n",
    "    if len(supplied_keys - required_parameters)>0: print(\"Shouldn't have:\", str(supplied_keys - required_parameters))\n",
    "    if len(required_parameters - supplied_keys)>0: print(\"Need to have:\", str(required_parameters - supplied_keys))\n",
    "    raise RuntimeError(\"Parameters are incorrect\")"
   ]
  },
  {
   "cell_type": "code",
   "execution_count": 6,
   "id": "3a028d58",
   "metadata": {
    "execution": {
     "iopub.execute_input": "2022-03-18T18:17:46.268400Z",
     "iopub.status.busy": "2022-03-18T18:17:46.268147Z",
     "iopub.status.idle": "2022-03-18T18:17:46.279154Z",
     "shell.execute_reply": "2022-03-18T18:17:46.278816Z"
    },
    "papermill": {
     "duration": 0.026341,
     "end_time": "2022-03-18T18:17:46.279210",
     "exception": false,
     "start_time": "2022-03-18T18:17:46.252869",
     "status": "completed"
    },
    "tags": []
   },
   "outputs": [],
   "source": [
    "###################################\n",
    "# Set the RNGs and make it all deterministic\n",
    "###################################\n",
    "np.random.seed(p.seed)\n",
    "random.seed(p.seed)\n",
    "torch.manual_seed(p.seed)\n",
    "\n",
    "torch.use_deterministic_algorithms(True) "
   ]
  },
  {
   "cell_type": "code",
   "execution_count": 7,
   "id": "b691acf6",
   "metadata": {
    "execution": {
     "iopub.execute_input": "2022-03-18T18:17:46.311210Z",
     "iopub.status.busy": "2022-03-18T18:17:46.310959Z",
     "iopub.status.idle": "2022-03-18T18:17:46.322403Z",
     "shell.execute_reply": "2022-03-18T18:17:46.321923Z"
    },
    "papermill": {
     "duration": 0.026167,
     "end_time": "2022-03-18T18:17:46.322503",
     "exception": false,
     "start_time": "2022-03-18T18:17:46.296336",
     "status": "completed"
    },
    "tags": []
   },
   "outputs": [],
   "source": [
    "###########################################\n",
    "# The stratified datasets honor this\n",
    "###########################################\n",
    "torch.set_default_dtype(eval(p.torch_default_dtype))"
   ]
  },
  {
   "cell_type": "code",
   "execution_count": 8,
   "id": "b5fba671",
   "metadata": {
    "execution": {
     "iopub.execute_input": "2022-03-18T18:17:46.355685Z",
     "iopub.status.busy": "2022-03-18T18:17:46.355435Z",
     "iopub.status.idle": "2022-03-18T18:17:46.387352Z",
     "shell.execute_reply": "2022-03-18T18:17:46.386814Z"
    },
    "papermill": {
     "duration": 0.047203,
     "end_time": "2022-03-18T18:17:46.387463",
     "exception": false,
     "start_time": "2022-03-18T18:17:46.340260",
     "status": "completed"
    },
    "tags": []
   },
   "outputs": [],
   "source": [
    "###################################\n",
    "# Build the network(s)\n",
    "# Note: It's critical to do this AFTER setting the RNG\n",
    "###################################\n",
    "x_net = build_sequential(p.x_net)"
   ]
  },
  {
   "cell_type": "code",
   "execution_count": 9,
   "id": "5d7e61cc",
   "metadata": {
    "execution": {
     "iopub.execute_input": "2022-03-18T18:17:46.422316Z",
     "iopub.status.busy": "2022-03-18T18:17:46.422060Z",
     "iopub.status.idle": "2022-03-18T18:17:46.433520Z",
     "shell.execute_reply": "2022-03-18T18:17:46.433912Z"
    },
    "papermill": {
     "duration": 0.026938,
     "end_time": "2022-03-18T18:17:46.434031",
     "exception": false,
     "start_time": "2022-03-18T18:17:46.407093",
     "status": "completed"
    },
    "tags": []
   },
   "outputs": [],
   "source": [
    "start_time_secs = time.time()"
   ]
  },
  {
   "cell_type": "code",
   "execution_count": 10,
   "id": "c6b67dfd",
   "metadata": {
    "execution": {
     "iopub.execute_input": "2022-03-18T18:17:46.466848Z",
     "iopub.status.busy": "2022-03-18T18:17:46.466592Z",
     "iopub.status.idle": "2022-03-18T18:17:46.477652Z",
     "shell.execute_reply": "2022-03-18T18:17:46.477171Z"
    },
    "papermill": {
     "duration": 0.027414,
     "end_time": "2022-03-18T18:17:46.477751",
     "exception": false,
     "start_time": "2022-03-18T18:17:46.450337",
     "status": "completed"
    },
    "tags": []
   },
   "outputs": [],
   "source": [
    "p.domains_source = []\n",
    "p.domains_target = []\n",
    "\n",
    "\n",
    "train_original_source = []\n",
    "val_original_source   = []\n",
    "test_original_source  = []\n",
    "\n",
    "train_original_target = []\n",
    "val_original_target   = []\n",
    "test_original_target  = []"
   ]
  },
  {
   "cell_type": "code",
   "execution_count": 11,
   "id": "e3d9c3d3",
   "metadata": {
    "execution": {
     "iopub.execute_input": "2022-03-18T18:17:46.509522Z",
     "iopub.status.busy": "2022-03-18T18:17:46.509272Z",
     "iopub.status.idle": "2022-03-18T18:17:46.520047Z",
     "shell.execute_reply": "2022-03-18T18:17:46.519793Z"
    },
    "papermill": {
     "duration": 0.025606,
     "end_time": "2022-03-18T18:17:46.520102",
     "exception": false,
     "start_time": "2022-03-18T18:17:46.494496",
     "status": "completed"
    },
    "tags": []
   },
   "outputs": [],
   "source": [
    "# global_x_transform_func = lambda x: normalize(x.to(torch.get_default_dtype()), \"unit_power\") # unit_power, unit_mag\n",
    "# global_x_transform_func = lambda x: normalize(x, \"unit_power\") # unit_power, unit_mag"
   ]
  },
  {
   "cell_type": "code",
   "execution_count": 12,
   "id": "acb78fd2",
   "metadata": {
    "execution": {
     "iopub.execute_input": "2022-03-18T18:17:46.554841Z",
     "iopub.status.busy": "2022-03-18T18:17:46.554580Z",
     "iopub.status.idle": "2022-03-18T18:17:46.566490Z",
     "shell.execute_reply": "2022-03-18T18:17:46.566073Z"
    },
    "papermill": {
     "duration": 0.029926,
     "end_time": "2022-03-18T18:17:46.566588",
     "exception": false,
     "start_time": "2022-03-18T18:17:46.536662",
     "status": "completed"
    },
    "tags": []
   },
   "outputs": [],
   "source": [
    "def add_dataset(\n",
    "    labels,\n",
    "    domains,\n",
    "    pickle_path,\n",
    "    x_transforms,\n",
    "    episode_transforms,\n",
    "    domain_prefix,\n",
    "    num_examples_per_domain_per_label,\n",
    "    source_or_target_dataset:str,\n",
    "    iterator_seed=p.seed,\n",
    "    dataset_seed=p.dataset_seed,\n",
    "    n_shot=p.n_shot,\n",
    "    n_way=p.n_way,\n",
    "    n_query=p.n_query,\n",
    "    train_val_test_k_factors=(p.train_k_factor,p.val_k_factor,p.test_k_factor),\n",
    "):\n",
    "   \n",
    "    if x_transforms == []: x_transform = None\n",
    "    else: x_transform = get_chained_transform(x_transforms)\n",
    "    \n",
    "    if episode_transforms == []: episode_transform = None\n",
    "    else: raise Exception(\"episode_transforms not implemented\")\n",
    "    \n",
    "    episode_transform = lambda tup, _prefix=domain_prefix: (_prefix + str(tup[0]), tup[1])\n",
    "\n",
    "\n",
    "    eaf = Episodic_Accessor_Factory(\n",
    "        labels=labels,\n",
    "        domains=domains,\n",
    "        num_examples_per_domain_per_label=num_examples_per_domain_per_label,\n",
    "        iterator_seed=iterator_seed,\n",
    "        dataset_seed=dataset_seed,\n",
    "        n_shot=n_shot,\n",
    "        n_way=n_way,\n",
    "        n_query=n_query,\n",
    "        train_val_test_k_factors=train_val_test_k_factors,\n",
    "        pickle_path=pickle_path,\n",
    "        x_transform_func=x_transform,\n",
    "    )\n",
    "\n",
    "    train, val, test = eaf.get_train(), eaf.get_val(), eaf.get_test()\n",
    "    train = Lazy_Iterable_Wrapper(train, episode_transform)\n",
    "    val = Lazy_Iterable_Wrapper(val, episode_transform)\n",
    "    test = Lazy_Iterable_Wrapper(test, episode_transform)\n",
    "\n",
    "    if source_or_target_dataset==\"source\":\n",
    "        train_original_source.append(train)\n",
    "        val_original_source.append(val)\n",
    "        test_original_source.append(test)\n",
    "\n",
    "        p.domains_source.extend(\n",
    "            [domain_prefix + str(u) for u in domains]\n",
    "        )\n",
    "    elif source_or_target_dataset==\"target\":\n",
    "        train_original_target.append(train)\n",
    "        val_original_target.append(val)\n",
    "        test_original_target.append(test)\n",
    "        p.domains_target.extend(\n",
    "            [domain_prefix + str(u) for u in domains]\n",
    "        )\n",
    "    else:\n",
    "        raise Exception(f\"invalid source_or_target_dataset: {source_or_target_dataset}\")\n",
    "    "
   ]
  },
  {
   "cell_type": "code",
   "execution_count": 13,
   "id": "fe266617",
   "metadata": {
    "execution": {
     "iopub.execute_input": "2022-03-18T18:17:46.599148Z",
     "iopub.status.busy": "2022-03-18T18:17:46.598607Z",
     "iopub.status.idle": "2022-03-18T18:18:01.457977Z",
     "shell.execute_reply": "2022-03-18T18:18:01.457570Z"
    },
    "papermill": {
     "duration": 14.875355,
     "end_time": "2022-03-18T18:18:01.458089",
     "exception": false,
     "start_time": "2022-03-18T18:17:46.582734",
     "status": "completed"
    },
    "tags": []
   },
   "outputs": [],
   "source": [
    "for ds in p.datasets:\n",
    "    add_dataset(**ds)"
   ]
  },
  {
   "cell_type": "code",
   "execution_count": 14,
   "id": "b90d65ac",
   "metadata": {
    "execution": {
     "iopub.execute_input": "2022-03-18T18:18:01.491846Z",
     "iopub.status.busy": "2022-03-18T18:18:01.491595Z",
     "iopub.status.idle": "2022-03-18T18:18:01.506244Z",
     "shell.execute_reply": "2022-03-18T18:18:01.506598Z"
    },
    "papermill": {
     "duration": 0.030279,
     "end_time": "2022-03-18T18:18:01.506707",
     "exception": false,
     "start_time": "2022-03-18T18:18:01.476428",
     "status": "completed"
    },
    "tags": []
   },
   "outputs": [],
   "source": [
    "# from steves_utils.CORES.utils import (\n",
    "#     ALL_NODES,\n",
    "#     ALL_NODES_MINIMUM_1000_EXAMPLES,\n",
    "#     ALL_DAYS\n",
    "# )\n",
    "\n",
    "# add_dataset(\n",
    "#     labels=ALL_NODES,\n",
    "#     domains = ALL_DAYS,\n",
    "#     num_examples_per_domain_per_label=100,\n",
    "#     pickle_path=os.path.join(get_datasets_base_path(), \"cores.stratified_ds.2022A.pkl\"),\n",
    "#     source_or_target_dataset=\"target\",\n",
    "#     x_transform_func=global_x_transform_func,\n",
    "#     domain_modifier=lambda u: f\"cores_{u}\"\n",
    "# )"
   ]
  },
  {
   "cell_type": "code",
   "execution_count": 15,
   "id": "76db484d",
   "metadata": {
    "execution": {
     "iopub.execute_input": "2022-03-18T18:18:01.540662Z",
     "iopub.status.busy": "2022-03-18T18:18:01.540408Z",
     "iopub.status.idle": "2022-03-18T18:18:01.555807Z",
     "shell.execute_reply": "2022-03-18T18:18:01.556152Z"
    },
    "papermill": {
     "duration": 0.031013,
     "end_time": "2022-03-18T18:18:01.556258",
     "exception": false,
     "start_time": "2022-03-18T18:18:01.525245",
     "status": "completed"
    },
    "tags": []
   },
   "outputs": [],
   "source": [
    "# from steves_utils.ORACLE.utils_v2 import (\n",
    "#     ALL_DISTANCES_FEET,\n",
    "#     ALL_RUNS,\n",
    "#     ALL_SERIAL_NUMBERS,\n",
    "# )\n",
    "\n",
    "\n",
    "# add_dataset(\n",
    "#     labels=ALL_SERIAL_NUMBERS,\n",
    "#     domains = list(set(ALL_DISTANCES_FEET) - {2,62}),\n",
    "#     num_examples_per_domain_per_label=100,\n",
    "#     pickle_path=os.path.join(get_datasets_base_path(), \"oracle.Run2_framed_2000Examples_stratified_ds.2022A.pkl\"),\n",
    "#     source_or_target_dataset=\"source\",\n",
    "#     x_transform_func=global_x_transform_func,\n",
    "#     domain_modifier=lambda u: f\"oracle1_{u}\"\n",
    "# )\n"
   ]
  },
  {
   "cell_type": "code",
   "execution_count": 16,
   "id": "97dea9d2",
   "metadata": {
    "execution": {
     "iopub.execute_input": "2022-03-18T18:18:01.590517Z",
     "iopub.status.busy": "2022-03-18T18:18:01.590272Z",
     "iopub.status.idle": "2022-03-18T18:18:01.603496Z",
     "shell.execute_reply": "2022-03-18T18:18:01.603696Z"
    },
    "papermill": {
     "duration": 0.028559,
     "end_time": "2022-03-18T18:18:01.603760",
     "exception": false,
     "start_time": "2022-03-18T18:18:01.575201",
     "status": "completed"
    },
    "tags": []
   },
   "outputs": [],
   "source": [
    "# from steves_utils.ORACLE.utils_v2 import (\n",
    "#     ALL_DISTANCES_FEET,\n",
    "#     ALL_RUNS,\n",
    "#     ALL_SERIAL_NUMBERS,\n",
    "# )\n",
    "\n",
    "\n",
    "# add_dataset(\n",
    "#     labels=ALL_SERIAL_NUMBERS,\n",
    "#     domains = list(set(ALL_DISTANCES_FEET) - {2,62,56}),\n",
    "#     num_examples_per_domain_per_label=100,\n",
    "#     pickle_path=os.path.join(get_datasets_base_path(), \"oracle.Run2_framed_2000Examples_stratified_ds.2022A.pkl\"),\n",
    "#     source_or_target_dataset=\"source\",\n",
    "#     x_transform_func=global_x_transform_func,\n",
    "#     domain_modifier=lambda u: f\"oracle2_{u}\"\n",
    "# )"
   ]
  },
  {
   "cell_type": "code",
   "execution_count": 17,
   "id": "6f289866",
   "metadata": {
    "execution": {
     "iopub.execute_input": "2022-03-18T18:18:01.638269Z",
     "iopub.status.busy": "2022-03-18T18:18:01.638025Z",
     "iopub.status.idle": "2022-03-18T18:18:01.652962Z",
     "shell.execute_reply": "2022-03-18T18:18:01.653308Z"
    },
    "papermill": {
     "duration": 0.030444,
     "end_time": "2022-03-18T18:18:01.653413",
     "exception": false,
     "start_time": "2022-03-18T18:18:01.622969",
     "status": "completed"
    },
    "tags": []
   },
   "outputs": [],
   "source": [
    "# add_dataset(\n",
    "#     labels=list(range(19)),\n",
    "#     domains = [0,1,2],\n",
    "#     num_examples_per_domain_per_label=100,\n",
    "#     pickle_path=os.path.join(get_datasets_base_path(), \"metehan.stratified_ds.2022A.pkl\"),\n",
    "#     source_or_target_dataset=\"target\",\n",
    "#     x_transform_func=global_x_transform_func,\n",
    "#     domain_modifier=lambda u: f\"met_{u}\"\n",
    "# )"
   ]
  },
  {
   "cell_type": "code",
   "execution_count": 18,
   "id": "86a863c3",
   "metadata": {
    "execution": {
     "iopub.execute_input": "2022-03-18T18:18:01.687589Z",
     "iopub.status.busy": "2022-03-18T18:18:01.687344Z",
     "iopub.status.idle": "2022-03-18T18:18:01.696805Z",
     "shell.execute_reply": "2022-03-18T18:18:01.697008Z"
    },
    "papermill": {
     "duration": 0.024828,
     "end_time": "2022-03-18T18:18:01.697066",
     "exception": false,
     "start_time": "2022-03-18T18:18:01.672238",
     "status": "completed"
    },
    "tags": []
   },
   "outputs": [],
   "source": [
    "# # from steves_utils.wisig.utils import (\n",
    "# #     ALL_NODES_MINIMUM_100_EXAMPLES,\n",
    "# #     ALL_NODES_MINIMUM_500_EXAMPLES,\n",
    "# #     ALL_NODES_MINIMUM_1000_EXAMPLES,\n",
    "# #     ALL_DAYS\n",
    "# # )\n",
    "\n",
    "# import steves_utils.wisig.utils as wisig\n",
    "\n",
    "\n",
    "# add_dataset(\n",
    "#     labels=wisig.ALL_NODES_MINIMUM_100_EXAMPLES,\n",
    "#     domains = wisig.ALL_DAYS,\n",
    "#     num_examples_per_domain_per_label=100,\n",
    "#     pickle_path=os.path.join(get_datasets_base_path(), \"wisig.node3-19.stratified_ds.2022A.pkl\"),\n",
    "#     source_or_target_dataset=\"target\",\n",
    "#     x_transform_func=global_x_transform_func,\n",
    "#     domain_modifier=lambda u: f\"wisig_{u}\"\n",
    "# )"
   ]
  },
  {
   "cell_type": "code",
   "execution_count": 19,
   "id": "fd5442bc",
   "metadata": {
    "execution": {
     "iopub.execute_input": "2022-03-18T18:18:01.732056Z",
     "iopub.status.busy": "2022-03-18T18:18:01.731796Z",
     "iopub.status.idle": "2022-03-18T18:18:01.743988Z",
     "shell.execute_reply": "2022-03-18T18:18:01.744332Z"
    },
    "papermill": {
     "duration": 0.031197,
     "end_time": "2022-03-18T18:18:01.744437",
     "exception": false,
     "start_time": "2022-03-18T18:18:01.713240",
     "status": "completed"
    },
    "tags": []
   },
   "outputs": [],
   "source": [
    "###################################\n",
    "# Build the dataset\n",
    "###################################\n",
    "train_original_source = Iterable_Aggregator(train_original_source, p.seed)\n",
    "val_original_source = Iterable_Aggregator(val_original_source, p.seed)\n",
    "test_original_source = Iterable_Aggregator(test_original_source, p.seed)\n",
    "\n",
    "\n",
    "train_original_target = Iterable_Aggregator(train_original_target, p.seed)\n",
    "val_original_target = Iterable_Aggregator(val_original_target, p.seed)\n",
    "test_original_target = Iterable_Aggregator(test_original_target, p.seed)\n",
    "\n",
    "# For CNN We only use X and Y. And we only train on the source.\n",
    "# Properly form the data using a transform lambda and Lazy_Iterable_Wrapper. Finally wrap them in a dataloader\n",
    "\n",
    "transform_lambda = lambda ex: ex[1] # Original is (<domain>, <episode>) so we strip down to episode only\n",
    "\n",
    "train_processed_source = Lazy_Iterable_Wrapper(train_original_source, transform_lambda)\n",
    "val_processed_source   = Lazy_Iterable_Wrapper(val_original_source, transform_lambda)\n",
    "test_processed_source  = Lazy_Iterable_Wrapper(test_original_source, transform_lambda)\n",
    "\n",
    "train_processed_target = Lazy_Iterable_Wrapper(train_original_target, transform_lambda)\n",
    "val_processed_target   = Lazy_Iterable_Wrapper(val_original_target, transform_lambda)\n",
    "test_processed_target  = Lazy_Iterable_Wrapper(test_original_target, transform_lambda)\n",
    "\n",
    "datasets = EasyDict({\n",
    "    \"source\": {\n",
    "        \"original\": {\"train\":train_original_source, \"val\":val_original_source, \"test\":test_original_source},\n",
    "        \"processed\": {\"train\":train_processed_source, \"val\":val_processed_source, \"test\":test_processed_source}\n",
    "    },\n",
    "    \"target\": {\n",
    "        \"original\": {\"train\":train_original_target, \"val\":val_original_target, \"test\":test_original_target},\n",
    "        \"processed\": {\"train\":train_processed_target, \"val\":val_processed_target, \"test\":test_processed_target}\n",
    "    },\n",
    "})"
   ]
  },
  {
   "cell_type": "code",
   "execution_count": 20,
   "id": "5b3c01fc",
   "metadata": {
    "execution": {
     "iopub.execute_input": "2022-03-18T18:18:01.780280Z",
     "iopub.status.busy": "2022-03-18T18:18:01.780038Z",
     "iopub.status.idle": "2022-03-18T18:18:06.651891Z",
     "shell.execute_reply": "2022-03-18T18:18:06.651643Z"
    },
    "papermill": {
     "duration": 4.888544,
     "end_time": "2022-03-18T18:18:06.651954",
     "exception": false,
     "start_time": "2022-03-18T18:18:01.763410",
     "status": "completed"
    },
    "tags": []
   },
   "outputs": [
    {
     "name": "stdout",
     "output_type": "stream",
     "text": [
      "{'ORACLE.run1_14', 'ORACLE.run1_26', 'ORACLE.run1_50', 'ORACLE.run1_44', 'ORACLE.run1_20', 'ORACLE.run1_32', 'ORACLE.run1_8', 'ORACLE.run1_38'}\n"
     ]
    },
    {
     "name": "stdout",
     "output_type": "stream",
     "text": [
      "{'C_A_2', 'W_A_4', 'W_A_1', 'C_A_1', 'C_A_3', 'W_A_2', 'W_A_3', 'C_A_4', 'C_A_5'}\n"
     ]
    },
    {
     "name": "stdout",
     "output_type": "stream",
     "text": [
      "tensor([[[-0.0013,  0.0058,  0.0040,  ...,  0.0047, -0.0021, -0.0003],\n",
      "         [-0.0027,  0.0014,  0.0039,  ..., -0.0011,  0.0068,  0.0068]],\n",
      "\n",
      "        [[ 0.0003,  0.0076,  0.0027,  ...,  0.0032,  0.0024,  0.0063],\n",
      "         [-0.0026, -0.0026,  0.0017,  ..., -0.0014,  0.0073,  0.0026]],\n",
      "\n",
      "        [[-0.0045, -0.0030,  0.0045,  ...,  0.0028,  0.0058, -0.0025],\n",
      "         [-0.0027, -0.0075,  0.0008,  ..., -0.0040, -0.0046, -0.0077]],\n",
      "\n",
      "        ...,\n",
      "\n",
      "        [[ 0.0006,  0.0040,  0.0011,  ...,  0.0054,  0.0053,  0.0040],\n",
      "         [-0.0050, -0.0041,  0.0057,  ...,  0.0018,  0.0020, -0.0056]],\n",
      "\n",
      "        [[-0.0014,  0.0051,  0.0045,  ...,  0.0042, -0.0002,  0.0007],\n",
      "         [-0.0027, -0.0006,  0.0027,  ..., -0.0025,  0.0059,  0.0051]],\n",
      "\n",
      "        [[-0.0042, -0.0063,  0.0029,  ..., -0.0019, -0.0021, -0.0071],\n",
      "         [ 0.0029,  0.0005, -0.0040,  ..., -0.0049, -0.0052,  0.0006]]])\n"
     ]
    }
   ],
   "source": [
    "from steves_utils.transforms import get_average_magnitude, get_average_power\n",
    "\n",
    "print(set([u for u,_ in val_original_source]))\n",
    "print(set([u for u,_ in val_original_target]))\n",
    "\n",
    "s_x, s_y, q_x, q_y, _ = next(iter(train_processed_source))\n",
    "print(s_x)\n",
    "\n",
    "# for ds in [\n",
    "#     train_processed_source,\n",
    "#     val_processed_source,\n",
    "#     test_processed_source,\n",
    "#     train_processed_target,\n",
    "#     val_processed_target,\n",
    "#     test_processed_target\n",
    "# ]:\n",
    "#     for s_x, s_y, q_x, q_y, _ in ds:\n",
    "#         for X in (s_x, q_x):\n",
    "#             for x in X:\n",
    "#                 assert np.isclose(get_average_magnitude(x.numpy()), 1.0)\n",
    "#                 assert np.isclose(get_average_power(x.numpy()), 1.0)\n",
    "                "
   ]
  },
  {
   "cell_type": "code",
   "execution_count": 21,
   "id": "bbdacba1",
   "metadata": {
    "execution": {
     "iopub.execute_input": "2022-03-18T18:18:06.689802Z",
     "iopub.status.busy": "2022-03-18T18:18:06.689412Z",
     "iopub.status.idle": "2022-03-18T18:18:06.737924Z",
     "shell.execute_reply": "2022-03-18T18:18:06.738175Z"
    },
    "papermill": {
     "duration": 0.066129,
     "end_time": "2022-03-18T18:18:06.738259",
     "exception": false,
     "start_time": "2022-03-18T18:18:06.672130",
     "status": "completed"
    },
    "tags": []
   },
   "outputs": [
    {
     "name": "stdout",
     "output_type": "stream",
     "text": [
      "(2, 200)\n"
     ]
    }
   ],
   "source": [
    "###################################\n",
    "# Build the model\n",
    "###################################\n",
    "# easfsl only wants a tuple for the shape\n",
    "model = Steves_Prototypical_Network(x_net, device=p.device, x_shape=tuple(p.x_shape))\n",
    "optimizer = Adam(params=model.parameters(), lr=p.lr)"
   ]
  },
  {
   "cell_type": "code",
   "execution_count": 22,
   "id": "22b39ac5",
   "metadata": {
    "execution": {
     "iopub.execute_input": "2022-03-18T18:18:06.773097Z",
     "iopub.status.busy": "2022-03-18T18:18:06.772698Z",
     "iopub.status.idle": "2022-03-18T18:36:38.363956Z",
     "shell.execute_reply": "2022-03-18T18:36:38.363727Z"
    },
    "papermill": {
     "duration": 1111.609015,
     "end_time": "2022-03-18T18:36:38.364013",
     "exception": false,
     "start_time": "2022-03-18T18:18:06.754998",
     "status": "completed"
    },
    "tags": []
   },
   "outputs": [
    {
     "name": "stdout",
     "output_type": "stream",
     "text": [
      "epoch: 1, [batch: 1 / 6720], examples_per_second: 50.4545, train_label_loss: 2.9325, \n"
     ]
    },
    {
     "name": "stdout",
     "output_type": "stream",
     "text": [
      "epoch: 1, [batch: 672 / 6720], examples_per_second: 3660.4426, train_label_loss: 0.3846, \n"
     ]
    },
    {
     "name": "stdout",
     "output_type": "stream",
     "text": [
      "epoch: 1, [batch: 1344 / 6720], examples_per_second: 3665.7012, train_label_loss: 0.4186, \n"
     ]
    },
    {
     "name": "stdout",
     "output_type": "stream",
     "text": [
      "epoch: 1, [batch: 2016 / 6720], examples_per_second: 3664.6727, train_label_loss: 0.5299, \n"
     ]
    },
    {
     "name": "stdout",
     "output_type": "stream",
     "text": [
      "epoch: 1, [batch: 2688 / 6720], examples_per_second: 3634.4254, train_label_loss: 0.3334, \n"
     ]
    },
    {
     "name": "stdout",
     "output_type": "stream",
     "text": [
      "epoch: 1, [batch: 3360 / 6720], examples_per_second: 3649.2272, train_label_loss: 0.3632, \n"
     ]
    },
    {
     "name": "stdout",
     "output_type": "stream",
     "text": [
      "epoch: 1, [batch: 4032 / 6720], examples_per_second: 3655.4260, train_label_loss: 0.4360, \n"
     ]
    },
    {
     "name": "stdout",
     "output_type": "stream",
     "text": [
      "epoch: 1, [batch: 4704 / 6720], examples_per_second: 3644.5916, train_label_loss: 0.3268, \n"
     ]
    },
    {
     "name": "stdout",
     "output_type": "stream",
     "text": [
      "epoch: 1, [batch: 5376 / 6720], examples_per_second: 3651.3910, train_label_loss: 0.3676, \n"
     ]
    },
    {
     "name": "stdout",
     "output_type": "stream",
     "text": [
      "epoch: 1, [batch: 6048 / 6720], examples_per_second: 3669.0726, train_label_loss: 0.0982, \n"
     ]
    },
    {
     "name": "stdout",
     "output_type": "stream",
     "text": [
      "=============================================================\n",
      "epoch: 1, source_val_acc_label: 0.6347, target_val_acc_label: 0.6244, source_val_label_loss: 2140.3533, target_val_label_loss: 427199.3438, \n",
      "=============================================================\n"
     ]
    },
    {
     "name": "stdout",
     "output_type": "stream",
     "text": [
      "New best\n"
     ]
    },
    {
     "name": "stdout",
     "output_type": "stream",
     "text": [
      "epoch: 2, [batch: 1 / 6720], examples_per_second: 6.0435, train_label_loss: 3699.8042, \n"
     ]
    },
    {
     "name": "stdout",
     "output_type": "stream",
     "text": [
      "epoch: 2, [batch: 672 / 6720], examples_per_second: 3643.1871, train_label_loss: 1.6521, \n"
     ]
    },
    {
     "name": "stdout",
     "output_type": "stream",
     "text": [
      "epoch: 2, [batch: 1344 / 6720], examples_per_second: 3672.4567, train_label_loss: 1.7372, \n"
     ]
    },
    {
     "name": "stdout",
     "output_type": "stream",
     "text": [
      "epoch: 2, [batch: 2016 / 6720], examples_per_second: 3675.1952, train_label_loss: 0.2195, \n"
     ]
    },
    {
     "name": "stdout",
     "output_type": "stream",
     "text": [
      "epoch: 2, [batch: 2688 / 6720], examples_per_second: 3656.9235, train_label_loss: 0.6301, \n"
     ]
    },
    {
     "name": "stdout",
     "output_type": "stream",
     "text": [
      "epoch: 2, [batch: 3360 / 6720], examples_per_second: 3676.6306, train_label_loss: 0.2670, \n"
     ]
    },
    {
     "name": "stdout",
     "output_type": "stream",
     "text": [
      "epoch: 2, [batch: 4032 / 6720], examples_per_second: 3653.2006, train_label_loss: 0.7902, \n"
     ]
    },
    {
     "name": "stdout",
     "output_type": "stream",
     "text": [
      "epoch: 2, [batch: 4704 / 6720], examples_per_second: 3660.4988, train_label_loss: 0.4098, \n"
     ]
    },
    {
     "name": "stdout",
     "output_type": "stream",
     "text": [
      "epoch: 2, [batch: 5376 / 6720], examples_per_second: 3673.4249, train_label_loss: 0.4159, \n"
     ]
    },
    {
     "name": "stdout",
     "output_type": "stream",
     "text": [
      "epoch: 2, [batch: 6048 / 6720], examples_per_second: 3672.8693, train_label_loss: 0.2417, \n"
     ]
    },
    {
     "name": "stdout",
     "output_type": "stream",
     "text": [
      "=============================================================\n",
      "epoch: 2, source_val_acc_label: 0.8783, target_val_acc_label: 0.4741, source_val_label_loss: 0.3607, target_val_label_loss: 5724.4224, \n",
      "=============================================================\n"
     ]
    },
    {
     "name": "stdout",
     "output_type": "stream",
     "text": [
      "New best\n"
     ]
    },
    {
     "name": "stdout",
     "output_type": "stream",
     "text": [
      "epoch: 3, [batch: 1 / 6720], examples_per_second: 6.0533, train_label_loss: 0.3348, \n"
     ]
    },
    {
     "name": "stdout",
     "output_type": "stream",
     "text": [
      "epoch: 3, [batch: 672 / 6720], examples_per_second: 3641.9042, train_label_loss: 0.0722, \n"
     ]
    },
    {
     "name": "stdout",
     "output_type": "stream",
     "text": [
      "epoch: 3, [batch: 1344 / 6720], examples_per_second: 3634.1590, train_label_loss: 0.3030, \n"
     ]
    },
    {
     "name": "stdout",
     "output_type": "stream",
     "text": [
      "epoch: 3, [batch: 2016 / 6720], examples_per_second: 3672.0265, train_label_loss: 0.6182, \n"
     ]
    },
    {
     "name": "stdout",
     "output_type": "stream",
     "text": [
      "epoch: 3, [batch: 2688 / 6720], examples_per_second: 3642.0731, train_label_loss: 0.3336, \n"
     ]
    },
    {
     "name": "stdout",
     "output_type": "stream",
     "text": [
      "epoch: 3, [batch: 3360 / 6720], examples_per_second: 3656.6080, train_label_loss: 0.2128, \n"
     ]
    },
    {
     "name": "stdout",
     "output_type": "stream",
     "text": [
      "epoch: 3, [batch: 4032 / 6720], examples_per_second: 3660.5845, train_label_loss: 0.5240, \n"
     ]
    },
    {
     "name": "stdout",
     "output_type": "stream",
     "text": [
      "epoch: 3, [batch: 4704 / 6720], examples_per_second: 3656.7786, train_label_loss: 0.2845, \n"
     ]
    },
    {
     "name": "stdout",
     "output_type": "stream",
     "text": [
      "epoch: 3, [batch: 5376 / 6720], examples_per_second: 3647.9492, train_label_loss: 0.2979, \n"
     ]
    },
    {
     "name": "stdout",
     "output_type": "stream",
     "text": [
      "epoch: 3, [batch: 6048 / 6720], examples_per_second: 3643.3068, train_label_loss: 0.4229, \n"
     ]
    },
    {
     "name": "stdout",
     "output_type": "stream",
     "text": [
      "=============================================================\n",
      "epoch: 3, source_val_acc_label: 0.8786, target_val_acc_label: 0.7879, source_val_label_loss: 0.3550, target_val_label_loss: 1678.7966, \n",
      "=============================================================\n"
     ]
    },
    {
     "name": "stdout",
     "output_type": "stream",
     "text": [
      "New best\n"
     ]
    },
    {
     "name": "stdout",
     "output_type": "stream",
     "text": [
      "epoch: 4, [batch: 1 / 6720], examples_per_second: 6.0234, train_label_loss: 0.3692, \n"
     ]
    },
    {
     "name": "stdout",
     "output_type": "stream",
     "text": [
      "epoch: 4, [batch: 672 / 6720], examples_per_second: 3617.6710, train_label_loss: 0.2086, \n"
     ]
    },
    {
     "name": "stdout",
     "output_type": "stream",
     "text": [
      "epoch: 4, [batch: 1344 / 6720], examples_per_second: 3645.5260, train_label_loss: 0.8791, \n"
     ]
    },
    {
     "name": "stdout",
     "output_type": "stream",
     "text": [
      "epoch: 4, [batch: 2016 / 6720], examples_per_second: 3673.9987, train_label_loss: 0.2206, \n"
     ]
    },
    {
     "name": "stdout",
     "output_type": "stream",
     "text": [
      "epoch: 4, [batch: 2688 / 6720], examples_per_second: 3645.2814, train_label_loss: 0.3810, \n"
     ]
    },
    {
     "name": "stdout",
     "output_type": "stream",
     "text": [
      "epoch: 4, [batch: 3360 / 6720], examples_per_second: 3657.9819, train_label_loss: 0.1095, \n"
     ]
    },
    {
     "name": "stdout",
     "output_type": "stream",
     "text": [
      "epoch: 4, [batch: 4032 / 6720], examples_per_second: 3667.4456, train_label_loss: 0.2369, \n"
     ]
    },
    {
     "name": "stdout",
     "output_type": "stream",
     "text": [
      "epoch: 4, [batch: 4704 / 6720], examples_per_second: 3637.8564, train_label_loss: 0.4189, \n"
     ]
    },
    {
     "name": "stdout",
     "output_type": "stream",
     "text": [
      "epoch: 4, [batch: 5376 / 6720], examples_per_second: 3660.5153, train_label_loss: 0.2732, \n"
     ]
    },
    {
     "name": "stdout",
     "output_type": "stream",
     "text": [
      "epoch: 4, [batch: 6048 / 6720], examples_per_second: 3660.2698, train_label_loss: 0.5042, \n"
     ]
    },
    {
     "name": "stdout",
     "output_type": "stream",
     "text": [
      "=============================================================\n",
      "epoch: 4, source_val_acc_label: 0.8953, target_val_acc_label: 0.7512, source_val_label_loss: 0.3227, target_val_label_loss: 6745.4912, \n",
      "=============================================================\n"
     ]
    },
    {
     "name": "stdout",
     "output_type": "stream",
     "text": [
      "epoch: 5, [batch: 1 / 6720], examples_per_second: 6.0398, train_label_loss: 0.4282, \n"
     ]
    },
    {
     "name": "stdout",
     "output_type": "stream",
     "text": [
      "epoch: 5, [batch: 672 / 6720], examples_per_second: 3631.6726, train_label_loss: 0.3212, \n"
     ]
    },
    {
     "name": "stdout",
     "output_type": "stream",
     "text": [
      "epoch: 5, [batch: 1344 / 6720], examples_per_second: 3660.2677, train_label_loss: 0.3133, \n"
     ]
    },
    {
     "name": "stdout",
     "output_type": "stream",
     "text": [
      "epoch: 5, [batch: 2016 / 6720], examples_per_second: 3654.1222, train_label_loss: 0.4368, \n"
     ]
    },
    {
     "name": "stdout",
     "output_type": "stream",
     "text": [
      "epoch: 5, [batch: 2688 / 6720], examples_per_second: 3633.4706, train_label_loss: 0.2520, \n"
     ]
    },
    {
     "name": "stdout",
     "output_type": "stream",
     "text": [
      "epoch: 5, [batch: 3360 / 6720], examples_per_second: 3665.1491, train_label_loss: 0.7463, \n"
     ]
    },
    {
     "name": "stdout",
     "output_type": "stream",
     "text": [
      "epoch: 5, [batch: 4032 / 6720], examples_per_second: 3659.3645, train_label_loss: 0.1157, \n"
     ]
    },
    {
     "name": "stdout",
     "output_type": "stream",
     "text": [
      "epoch: 5, [batch: 4704 / 6720], examples_per_second: 3648.4168, train_label_loss: 0.2097, \n"
     ]
    },
    {
     "name": "stdout",
     "output_type": "stream",
     "text": [
      "epoch: 5, [batch: 5376 / 6720], examples_per_second: 3657.1844, train_label_loss: 0.3089, \n"
     ]
    },
    {
     "name": "stdout",
     "output_type": "stream",
     "text": [
      "epoch: 5, [batch: 6048 / 6720], examples_per_second: 3663.3787, train_label_loss: 0.3402, \n"
     ]
    },
    {
     "name": "stdout",
     "output_type": "stream",
     "text": [
      "=============================================================\n",
      "epoch: 5, source_val_acc_label: 0.8844, target_val_acc_label: 0.7747, source_val_label_loss: 0.3276, target_val_label_loss: 2231.3013, \n",
      "=============================================================\n"
     ]
    },
    {
     "name": "stdout",
     "output_type": "stream",
     "text": [
      "epoch: 6, [batch: 1 / 6720], examples_per_second: 6.0464, train_label_loss: 0.1551, \n"
     ]
    },
    {
     "name": "stdout",
     "output_type": "stream",
     "text": [
      "epoch: 6, [batch: 672 / 6720], examples_per_second: 3633.0412, train_label_loss: 0.2601, \n"
     ]
    },
    {
     "name": "stdout",
     "output_type": "stream",
     "text": [
      "epoch: 6, [batch: 1344 / 6720], examples_per_second: 3643.3340, train_label_loss: 0.2814, \n"
     ]
    },
    {
     "name": "stdout",
     "output_type": "stream",
     "text": [
      "epoch: 6, [batch: 2016 / 6720], examples_per_second: 3676.4927, train_label_loss: 0.4235, \n"
     ]
    },
    {
     "name": "stdout",
     "output_type": "stream",
     "text": [
      "epoch: 6, [batch: 2688 / 6720], examples_per_second: 3656.9580, train_label_loss: 0.2509, \n"
     ]
    },
    {
     "name": "stdout",
     "output_type": "stream",
     "text": [
      "epoch: 6, [batch: 3360 / 6720], examples_per_second: 3663.5650, train_label_loss: 0.4045, \n"
     ]
    },
    {
     "name": "stdout",
     "output_type": "stream",
     "text": [
      "epoch: 6, [batch: 4032 / 6720], examples_per_second: 3635.7310, train_label_loss: 0.4770, \n"
     ]
    },
    {
     "name": "stdout",
     "output_type": "stream",
     "text": [
      "epoch: 6, [batch: 4704 / 6720], examples_per_second: 3634.1719, train_label_loss: 0.1253, \n"
     ]
    },
    {
     "name": "stdout",
     "output_type": "stream",
     "text": [
      "epoch: 6, [batch: 5376 / 6720], examples_per_second: 3676.3125, train_label_loss: 0.1485, \n"
     ]
    },
    {
     "name": "stdout",
     "output_type": "stream",
     "text": [
      "epoch: 6, [batch: 6048 / 6720], examples_per_second: 3665.0867, train_label_loss: 0.2380, \n"
     ]
    },
    {
     "name": "stdout",
     "output_type": "stream",
     "text": [
      "=============================================================\n",
      "epoch: 6, source_val_acc_label: 0.8988, target_val_acc_label: 0.7582, source_val_label_loss: 0.2951, target_val_label_loss: 3567.9917, \n",
      "=============================================================\n"
     ]
    },
    {
     "name": "stdout",
     "output_type": "stream",
     "text": [
      "epoch: 7, [batch: 1 / 6720], examples_per_second: 6.0541, train_label_loss: 0.2703, \n"
     ]
    },
    {
     "name": "stdout",
     "output_type": "stream",
     "text": [
      "epoch: 7, [batch: 672 / 6720], examples_per_second: 3664.7310, train_label_loss: 0.2071, \n"
     ]
    },
    {
     "name": "stdout",
     "output_type": "stream",
     "text": [
      "epoch: 7, [batch: 1344 / 6720], examples_per_second: 3677.5330, train_label_loss: 0.2160, \n"
     ]
    },
    {
     "name": "stdout",
     "output_type": "stream",
     "text": [
      "epoch: 7, [batch: 2016 / 6720], examples_per_second: 3663.6476, train_label_loss: 0.1714, \n"
     ]
    },
    {
     "name": "stdout",
     "output_type": "stream",
     "text": [
      "epoch: 7, [batch: 2688 / 6720], examples_per_second: 3657.4357, train_label_loss: 0.1112, \n"
     ]
    },
    {
     "name": "stdout",
     "output_type": "stream",
     "text": [
      "epoch: 7, [batch: 3360 / 6720], examples_per_second: 3670.6770, train_label_loss: 0.0243, \n"
     ]
    },
    {
     "name": "stdout",
     "output_type": "stream",
     "text": [
      "epoch: 7, [batch: 4032 / 6720], examples_per_second: 3658.6099, train_label_loss: 0.3203, \n"
     ]
    },
    {
     "name": "stdout",
     "output_type": "stream",
     "text": [
      "epoch: 7, [batch: 4704 / 6720], examples_per_second: 3645.5585, train_label_loss: 0.2465, \n"
     ]
    },
    {
     "name": "stdout",
     "output_type": "stream",
     "text": [
      "epoch: 7, [batch: 5376 / 6720], examples_per_second: 3668.5602, train_label_loss: 0.3305, \n"
     ]
    },
    {
     "name": "stdout",
     "output_type": "stream",
     "text": [
      "epoch: 7, [batch: 6048 / 6720], examples_per_second: 3658.0743, train_label_loss: 0.1323, \n"
     ]
    },
    {
     "name": "stdout",
     "output_type": "stream",
     "text": [
      "=============================================================\n",
      "epoch: 7, source_val_acc_label: 0.9054, target_val_acc_label: 0.7506, source_val_label_loss: 0.2721, target_val_label_loss: 4791.5503, \n",
      "=============================================================\n"
     ]
    },
    {
     "name": "stdout",
     "output_type": "stream",
     "text": [
      "Patience (3) exhausted\n"
     ]
    }
   ],
   "source": [
    "###################################\n",
    "# train\n",
    "###################################\n",
    "jig = PTN_Train_Eval_Test_Jig(model, p.BEST_MODEL_PATH, p.device)\n",
    "\n",
    "jig.train(\n",
    "    train_iterable=datasets.source.processed.train,\n",
    "    source_val_iterable=datasets.source.processed.val,\n",
    "    target_val_iterable=datasets.target.processed.val,\n",
    "    num_epochs=p.n_epoch,\n",
    "    num_logs_per_epoch=p.NUM_LOGS_PER_EPOCH,\n",
    "    patience=p.patience,\n",
    "    optimizer=optimizer,\n",
    "    criteria_for_best=p.criteria_for_best,\n",
    ")"
   ]
  },
  {
   "cell_type": "code",
   "execution_count": 23,
   "id": "31e8fabf",
   "metadata": {
    "execution": {
     "iopub.execute_input": "2022-03-18T18:36:38.423458Z",
     "iopub.status.busy": "2022-03-18T18:36:38.423203Z",
     "iopub.status.idle": "2022-03-18T18:36:38.441738Z",
     "shell.execute_reply": "2022-03-18T18:36:38.441350Z"
    },
    "papermill": {
     "duration": 0.049377,
     "end_time": "2022-03-18T18:36:38.441828",
     "exception": false,
     "start_time": "2022-03-18T18:36:38.392451",
     "status": "completed"
    },
    "tags": []
   },
   "outputs": [],
   "source": [
    "total_experiment_time_secs = time.time() - start_time_secs"
   ]
  },
  {
   "cell_type": "code",
   "execution_count": 24,
   "id": "87b9595b",
   "metadata": {
    "execution": {
     "iopub.execute_input": "2022-03-18T18:36:38.506896Z",
     "iopub.status.busy": "2022-03-18T18:36:38.506633Z",
     "iopub.status.idle": "2022-03-18T18:37:41.007974Z",
     "shell.execute_reply": "2022-03-18T18:37:41.007425Z"
    },
    "papermill": {
     "duration": 62.533238,
     "end_time": "2022-03-18T18:37:41.008094",
     "exception": false,
     "start_time": "2022-03-18T18:36:38.474856",
     "status": "completed"
    },
    "tags": []
   },
   "outputs": [],
   "source": [
    "###################################\n",
    "# Evaluate the model\n",
    "###################################\n",
    "source_test_label_accuracy, source_test_label_loss = jig.test(datasets.source.processed.test)\n",
    "target_test_label_accuracy, target_test_label_loss = jig.test(datasets.target.processed.test)\n",
    "\n",
    "source_val_label_accuracy, source_val_label_loss = jig.test(datasets.source.processed.val)\n",
    "target_val_label_accuracy, target_val_label_loss = jig.test(datasets.target.processed.val)\n",
    "\n",
    "history = jig.get_history()\n",
    "\n",
    "total_epochs_trained = len(history[\"epoch_indices\"])\n",
    "\n",
    "val_dl = Iterable_Aggregator((datasets.source.original.val,datasets.target.original.val))\n",
    "\n",
    "confusion = ptn_confusion_by_domain_over_dataloader(model, p.device, val_dl)\n",
    "per_domain_accuracy = per_domain_accuracy_from_confusion(confusion)\n",
    "\n",
    "# Add a key to per_domain_accuracy for if it was a source domain\n",
    "for domain, accuracy in per_domain_accuracy.items():\n",
    "    per_domain_accuracy[domain] = {\n",
    "        \"accuracy\": accuracy,\n",
    "        \"source?\": domain in p.domains_source\n",
    "    }\n",
    "\n",
    "# Do an independent accuracy assesment JUST TO BE SURE!\n",
    "# _source_test_label_accuracy = independent_accuracy_assesment(model, datasets.source.processed.test, p.device)\n",
    "# _target_test_label_accuracy = independent_accuracy_assesment(model, datasets.target.processed.test, p.device)\n",
    "# _source_val_label_accuracy = independent_accuracy_assesment(model, datasets.source.processed.val, p.device)\n",
    "# _target_val_label_accuracy = independent_accuracy_assesment(model, datasets.target.processed.val, p.device)\n",
    "\n",
    "# assert(_source_test_label_accuracy == source_test_label_accuracy)\n",
    "# assert(_target_test_label_accuracy == target_test_label_accuracy)\n",
    "# assert(_source_val_label_accuracy == source_val_label_accuracy)\n",
    "# assert(_target_val_label_accuracy == target_val_label_accuracy)\n",
    "\n",
    "experiment = {\n",
    "    \"experiment_name\": p.experiment_name,\n",
    "    \"parameters\": dict(p),\n",
    "    \"results\": {\n",
    "        \"source_test_label_accuracy\": source_test_label_accuracy,\n",
    "        \"source_test_label_loss\": source_test_label_loss,\n",
    "        \"target_test_label_accuracy\": target_test_label_accuracy,\n",
    "        \"target_test_label_loss\": target_test_label_loss,\n",
    "        \"source_val_label_accuracy\": source_val_label_accuracy,\n",
    "        \"source_val_label_loss\": source_val_label_loss,\n",
    "        \"target_val_label_accuracy\": target_val_label_accuracy,\n",
    "        \"target_val_label_loss\": target_val_label_loss,\n",
    "        \"total_epochs_trained\": total_epochs_trained,\n",
    "        \"total_experiment_time_secs\": total_experiment_time_secs,\n",
    "        \"confusion\": confusion,\n",
    "        \"per_domain_accuracy\": per_domain_accuracy,\n",
    "    },\n",
    "    \"history\": history,\n",
    "    \"dataset_metrics\": get_dataset_metrics(datasets, \"ptn\"),\n",
    "}"
   ]
  },
  {
   "cell_type": "code",
   "execution_count": 25,
   "id": "54a21829",
   "metadata": {
    "execution": {
     "iopub.execute_input": "2022-03-18T18:37:41.072152Z",
     "iopub.status.busy": "2022-03-18T18:37:41.071848Z",
     "iopub.status.idle": "2022-03-18T18:37:41.193906Z",
     "shell.execute_reply": "2022-03-18T18:37:41.194274Z"
    },
    "papermill": {
     "duration": 0.153087,
     "end_time": "2022-03-18T18:37:41.194385",
     "exception": false,
     "start_time": "2022-03-18T18:37:41.041298",
     "status": "completed"
    },
    "tags": []
   },
   "outputs": [
    {
     "data": {
      "image/png": "[encoded data removed]",
      "text/plain": [
       "<Figure size 1080x504 with 1 Axes>"
      ]
     },
     "metadata": {
      "needs_background": "light"
     },
     "output_type": "display_data"
    }
   ],
   "source": [
    "ax = get_loss_curve(experiment)\n",
    "plt.show()"
   ]
  },
  {
   "cell_type": "code",
   "execution_count": 26,
   "id": "fd8a0f60",
   "metadata": {
    "execution": {
     "iopub.execute_input": "2022-03-18T18:37:41.262973Z",
     "iopub.status.busy": "2022-03-18T18:37:41.258449Z",
     "iopub.status.idle": "2022-03-18T18:37:41.402299Z",
     "shell.execute_reply": "2022-03-18T18:37:41.402038Z"
    },
    "papermill": {
     "duration": 0.175791,
     "end_time": "2022-03-18T18:37:41.402354",
     "exception": false,
     "start_time": "2022-03-18T18:37:41.226563",
     "status": "completed"
    },
    "tags": []
   },
   "outputs": [
    {
     "data": {
      "text/plain": [
       "<AxesSubplot:title={'center':'Results'}>"
      ]
     },
     "execution_count": 26,
     "metadata": {},
     "output_type": "execute_result"
    },
    {
     "data": {
      "image/png": "[encoded data removed]",
      "text/plain": [
       "<Figure size 1080x504 with 1 Axes>"
      ]
     },
     "metadata": {
      "needs_background": "light"
     },
     "output_type": "display_data"
    }
   ],
   "source": [
    "get_results_table(experiment)"
   ]
  },
  {
   "cell_type": "code",
   "execution_count": 27,
   "id": "cf8dc689",
   "metadata": {
    "execution": {
     "iopub.execute_input": "2022-03-18T18:37:41.466795Z",
     "iopub.status.busy": "2022-03-18T18:37:41.466542Z",
     "iopub.status.idle": "2022-03-18T18:37:41.622825Z",
     "shell.execute_reply": "2022-03-18T18:37:41.622431Z"
    },
    "papermill": {
     "duration": 0.189111,
     "end_time": "2022-03-18T18:37:41.622920",
     "exception": false,
     "start_time": "2022-03-18T18:37:41.433809",
     "status": "completed"
    },
    "tags": []
   },
   "outputs": [
    {
     "data": {
      "text/plain": [
       "<AxesSubplot:title={'center':'Per Domain Validation Accuracy'}, xlabel='domain'>"
      ]
     },
     "execution_count": 27,
     "metadata": {},
     "output_type": "execute_result"
    },
    {
     "data": {
      "image/png": "[encoded data removed]",
      "text/plain": [
       "<Figure size 1080x504 with 1 Axes>"
      ]
     },
     "metadata": {
      "needs_background": "light"
     },
     "output_type": "display_data"
    }
   ],
   "source": [
    "get_domain_accuracies(experiment)"
   ]
  },
  {
   "cell_type": "code",
   "execution_count": 28,
   "id": "a74ae082",
   "metadata": {
    "execution": {
     "iopub.execute_input": "2022-03-18T18:37:41.693852Z",
     "iopub.status.busy": "2022-03-18T18:37:41.693591Z",
     "iopub.status.idle": "2022-03-18T18:37:41.709234Z",
     "shell.execute_reply": "2022-03-18T18:37:41.708781Z"
    },
    "papermill": {
     "duration": 0.050152,
     "end_time": "2022-03-18T18:37:41.709325",
     "exception": false,
     "start_time": "2022-03-18T18:37:41.659173",
     "status": "completed"
    },
    "tags": []
   },
   "outputs": [
    {
     "name": "stdout",
     "output_type": "stream",
     "text": [
      "Source Test Label Accuracy: 0.8779947916666667 Target Test Label Accuracy: 0.7772766323024055\n",
      "Source Val Label Accuracy: 0.87861328125 Target Val Label Accuracy: 0.7879080756013745\n"
     ]
    }
   ],
   "source": [
    "print(\"Source Test Label Accuracy:\", experiment[\"results\"][\"source_test_label_accuracy\"], \"Target Test Label Accuracy:\", experiment[\"results\"][\"target_test_label_accuracy\"])\n",
    "print(\"Source Val Label Accuracy:\", experiment[\"results\"][\"source_val_label_accuracy\"], \"Target Val Label Accuracy:\", experiment[\"results\"][\"target_val_label_accuracy\"])"
   ]
  },
  {
   "cell_type": "code",
   "execution_count": 29,
   "id": "dacca602",
   "metadata": {
    "execution": {
     "iopub.execute_input": "2022-03-18T18:37:41.780446Z",
     "iopub.status.busy": "2022-03-18T18:37:41.780195Z",
     "iopub.status.idle": "2022-03-18T18:37:41.797882Z",
     "shell.execute_reply": "2022-03-18T18:37:41.798249Z"
    },
    "papermill": {
     "duration": 0.05211,
     "end_time": "2022-03-18T18:37:41.798356",
     "exception": false,
     "start_time": "2022-03-18T18:37:41.746246",
     "status": "completed"
    },
    "tags": [
     "experiment_json"
    ]
   },
   "outputs": [
    {
     "data": {
      "text/plain": [
       "'{\"experiment_name\": \"tl_3A:oracle.run1.framed -> cores+wisig\", \"parameters\": {\"experiment_name\": \"tl_3A:oracle.run1.framed -> cores+wisig\", \"device\": \"cuda\", \"lr\": 0.001, \"seed\": 154325, \"dataset_seed\": 154325, \"x_shape\": [2, 200], \"n_shot\": 3, \"n_query\": 2, \"train_k_factor\": 3, \"val_k_factor\": 2, \"test_k_factor\": 2, \"torch_default_dtype\": \"torch.float32\", \"n_epoch\": 50, \"patience\": 3, \"criteria_for_best\": \"target_loss\", \"x_net\": [{\"class\": \"nnReshape\", \"kargs\": {\"shape\": [-1, 1, 2, 200]}}, {\"class\": \"Conv2d\", \"kargs\": {\"in_channels\": 1, \"out_channels\": 256, \"kernel_size\": [1, 7], \"bias\": false, \"padding\": [0, 3]}}, {\"class\": \"ReLU\", \"kargs\": {\"inplace\": true}}, {\"class\": \"BatchNorm2d\", \"kargs\": {\"num_features\": 256}}, {\"class\": \"Conv2d\", \"kargs\": {\"in_channels\": 256, \"out_channels\": 80, \"kernel_size\": [2, 7], \"bias\": true, \"padding\": [0, 3]}}, {\"class\": \"ReLU\", \"kargs\": {\"inplace\": true}}, {\"class\": \"BatchNorm2d\", \"kargs\": {\"num_features\": 80}}, {\"class\": \"Flatten\", \"kargs\": {}}, {\"class\": \"Linear\", \"kargs\": {\"in_features\": 16000, \"out_features\": 256}}, {\"class\": \"ReLU\", \"kargs\": {\"inplace\": true}}, {\"class\": \"BatchNorm1d\", \"kargs\": {\"num_features\": 256}}, {\"class\": \"Linear\", \"kargs\": {\"in_features\": 256, \"out_features\": 256}}], \"NUM_LOGS_PER_EPOCH\": 10, \"BEST_MODEL_PATH\": \"./best_model.pth\", \"n_way\": 16, \"datasets\": [{\"labels\": [\"1-10.\", \"1-11.\", \"1-15.\", \"1-16.\", \"1-17.\", \"1-18.\", \"1-19.\", \"10-4.\", \"10-7.\", \"11-1.\", \"11-14.\", \"11-17.\", \"11-20.\", \"11-7.\", \"13-20.\", \"13-8.\", \"14-10.\", \"14-11.\", \"14-14.\", \"14-7.\", \"15-1.\", \"15-20.\", \"16-1.\", \"16-16.\", \"17-10.\", \"17-11.\", \"17-2.\", \"19-1.\", \"19-16.\", \"19-19.\", \"19-20.\", \"19-3.\", \"2-10.\", \"2-11.\", \"2-17.\", \"2-18.\", \"2-20.\", \"2-3.\", \"2-4.\", \"2-5.\", \"2-6.\", \"2-7.\", \"2-8.\", \"3-13.\", \"3-18.\", \"3-3.\", \"4-1.\", \"4-10.\", \"4-11.\", \"4-19.\", \"5-5.\", \"6-15.\", \"7-10.\", \"7-14.\", \"8-18.\", \"8-20.\", \"8-3.\", \"8-8.\"], \"domains\": [1, 2, 3, 4, 5], \"num_examples_per_domain_per_label\": 100, \"pickle_path\": \"/mnt/wd500GB/CSC500/csc500-main/datasets/cores.stratified_ds.2022A.pkl\", \"source_or_target_dataset\": \"target\", \"x_transforms\": [\"take_200\"], \"episode_transforms\": [], \"domain_prefix\": \"C_A_\"}, {\"labels\": [\"1-10\", \"1-12\", \"1-14\", \"1-16\", \"1-18\", \"1-19\", \"1-8\", \"10-11\", \"10-17\", \"10-4\", \"10-7\", \"11-1\", \"11-10\", \"11-19\", \"11-20\", \"11-4\", \"11-7\", \"12-19\", \"12-20\", \"12-7\", \"13-14\", \"13-18\", \"13-19\", \"13-20\", \"13-3\", \"13-7\", \"14-10\", \"14-11\", \"14-12\", \"14-13\", \"14-14\", \"14-19\", \"14-20\", \"14-7\", \"14-8\", \"14-9\", \"15-1\", \"15-19\", \"15-6\", \"16-1\", \"16-16\", \"16-19\", \"16-20\", \"17-10\", \"17-11\", \"18-1\", \"18-10\", \"18-11\", \"18-12\", \"18-13\", \"18-14\", \"18-15\", \"18-16\", \"18-17\", \"18-19\", \"18-2\", \"18-20\", \"18-4\", \"18-5\", \"18-7\", \"18-8\", \"18-9\", \"19-1\", \"19-10\", \"19-11\", \"19-12\", \"19-13\", \"19-14\", \"19-15\", \"19-19\", \"19-2\", \"19-20\", \"19-3\", \"19-4\", \"19-6\", \"19-7\", \"19-8\", \"19-9\", \"2-1\", \"2-13\", \"2-15\", \"2-3\", \"2-4\", \"2-5\", \"2-6\", \"2-7\", \"2-8\", \"20-1\", \"20-12\", \"20-14\", \"20-15\", \"20-16\", \"20-18\", \"20-19\", \"20-20\", \"20-3\", \"20-4\", \"20-5\", \"20-7\", \"20-8\", \"3-1\", \"3-13\", \"3-18\", \"3-2\", \"3-8\", \"4-1\", \"4-10\", \"4-11\", \"5-1\", \"5-5\", \"6-1\", \"6-15\", \"6-6\", \"7-10\", \"7-11\", \"7-12\", \"7-13\", \"7-14\", \"7-7\", \"7-8\", \"7-9\", \"8-1\", \"8-13\", \"8-14\", \"8-18\", \"8-20\", \"8-3\", \"8-8\", \"9-1\", \"9-7\"], \"domains\": [1, 2, 3, 4], \"num_examples_per_domain_per_label\": 100, \"pickle_path\": \"/mnt/wd500GB/CSC500/csc500-main/datasets/wisig.node3-19.stratified_ds.2022A.pkl\", \"source_or_target_dataset\": \"target\", \"x_transforms\": [\"take_200\"], \"episode_transforms\": [], \"domain_prefix\": \"W_A_\"}, {\"labels\": [\"3123D52\", \"3123D65\", \"3123D79\", \"3123D80\", \"3123D54\", \"3123D70\", \"3123D7B\", \"3123D89\", \"3123D58\", \"3123D76\", \"3123D7D\", \"3123EFE\", \"3123D64\", \"3123D78\", \"3123D7E\", \"3124E4A\"], \"domains\": [32, 38, 8, 44, 14, 50, 20, 26], \"num_examples_per_domain_per_label\": 2000, \"pickle_path\": \"/mnt/wd500GB/CSC500/csc500-main/datasets/oracle.Run1_framed_2000Examples_stratified_ds.2022A.pkl\", \"source_or_target_dataset\": \"source\", \"x_transforms\": [\"take_200\", \"resample_20Msps_to_25Msps\"], \"episode_transforms\": [], \"domain_prefix\": \"ORACLE.run1_\"}], \"domains_source\": [\"ORACLE.run1_32\", \"ORACLE.run1_38\", \"ORACLE.run1_8\", \"ORACLE.run1_44\", \"ORACLE.run1_14\", \"ORACLE.run1_50\", \"ORACLE.run1_20\", \"ORACLE.run1_26\"], \"domains_target\": [\"C_A_1\", \"C_A_2\", \"C_A_3\", \"C_A_4\", \"C_A_5\", \"W_A_1\", \"W_A_2\", \"W_A_3\", \"W_A_4\"]}, \"results\": {\"source_test_label_accuracy\": 0.8779947916666667, \"source_test_label_loss\": 0.3626580238342285, \"target_test_label_accuracy\": 0.7772766323024055, \"target_test_label_loss\": 1815.8050537109375, \"source_val_label_accuracy\": 0.87861328125, \"source_val_label_loss\": 0.3550470471382141, \"target_val_label_accuracy\": 0.7879080756013745, \"target_val_label_loss\": 1678.796630859375, \"total_epochs_trained\": 7, \"total_experiment_time_secs\": 1132.0079772472382, \"confusion\": {\"ORACLE.run1_8\": {\"13\": {\"10\": 24, \"13\": 206, \"7\": 9, \"5\": 1}, \"9\": {\"9\": 240}, \"15\": {\"15\": 215, \"12\": 25}, \"2\": {\"2\": 201, \"15\": 3, \"3\": 31, \"12\": 5}, \"3\": {\"3\": 240}, \"8\": {\"8\": 240}, \"5\": {\"1\": 22, \"5\": 187, \"11\": 6, \"10\": 22, \"4\": 2, \"14\": 1}, \"14\": {\"14\": 231, \"4\": 8, \"11\": 1}, \"1\": {\"1\": 204, \"11\": 32, \"5\": 3, \"10\": 1}, \"0\": {\"0\": 240}, \"10\": {\"10\": 210, \"13\": 23, \"5\": 6, \"4\": 1}, \"6\": {\"6\": 224, \"7\": 15, \"13\": 1}, \"11\": {\"1\": 82, \"11\": 150, \"5\": 3, \"14\": 5}, \"7\": {\"6\": 14, \"7\": 226}, \"4\": {\"4\": 240}, \"12\": {\"15\": 64, \"12\": 176}}, \"ORACLE.run1_38\": {\"13\": {\"13\": 230, \"10\": 8, \"0\": 2}, \"12\": {\"12\": 240}, \"2\": {\"2\": 224, \"14\": 15, \"13\": 1}, \"9\": {\"9\": 234, \"7\": 1, \"5\": 5}, \"15\": {\"1\": 6, \"15\": 220, \"8\": 7, \"5\": 7}, \"5\": {\"5\": 131, \"8\": 71, \"7\": 19, \"9\": 14, \"0\": 2, \"15\": 3}, \"14\": {\"14\": 231, \"2\": 9}, \"0\": {\"7\": 30, \"0\": 152, \"10\": 37, \"4\": 1, \"3\": 5, \"13\": 15}, \"3\": {\"3\": 240}, \"1\": {\"1\": 240}, \"11\": {\"11\": 240}, \"7\": {\"7\": 233, \"8\": 5, \"0\": 1, \"5\": 1}, \"8\": {\"8\": 122, \"5\": 77, \"7\": 24, \"15\": 12, \"12\": 2, \"13\": 2, \"0\": 1}, \"4\": {\"4\": 240}, \"10\": {\"10\": 221, \"13\": 12, \"0\": 7}, \"6\": {\"6\": 240}}, \"ORACLE.run1_26\": {\"10\": {\"10\": 186, \"14\": 34, \"0\": 18, \"6\": 1, \"15\": 1}, \"12\": {\"12\": 240}, \"1\": {\"1\": 178, \"14\": 48, \"0\": 1, \"10\": 12, \"6\": 1}, \"0\": {\"8\": 4, \"0\": 159, \"10\": 48, \"15\": 1, \"14\": 27, \"1\": 1}, \"15\": {\"6\": 28, \"15\": 178, \"5\": 26, \"14\": 2, \"10\": 6}, \"13\": {\"13\": 206, \"9\": 18, \"2\": 13, \"3\": 3}, \"8\": {\"8\": 178, \"9\": 20, \"7\": 32, \"0\": 9, \"2\": 1}, \"3\": {\"3\": 222, \"7\": 12, \"2\": 5, \"13\": 1}, \"11\": {\"11\": 240}, \"4\": {\"4\": 240}, \"6\": {\"6\": 213, \"15\": 18, \"10\": 8, \"1\": 1}, \"7\": {\"2\": 21, \"7\": 182, \"8\": 23, \"3\": 13, \"9\": 1}, \"14\": {\"1\": 10, \"14\": 180, \"0\": 16, \"10\": 33, \"15\": 1}, \"2\": {\"2\": 162, \"9\": 8, \"8\": 16, \"7\": 22, \"3\": 30, \"0\": 2}, \"5\": {\"5\": 214, \"15\": 25, \"6\": 1}, \"9\": {\"9\": 188, \"8\": 26, \"13\": 15, \"2\": 11}}, \"ORACLE.run1_20\": {\"5\": {\"1\": 51, \"5\": 174, \"3\": 15}, \"15\": {\"15\": 204, \"1\": 21, \"5\": 1, \"2\": 2, \"12\": 12}, \"9\": {\"9\": 216, \"7\": 5, \"1\": 3, \"3\": 11, \"5\": 2, \"12\": 1, \"2\": 2}, \"7\": {\"7\": 210, \"2\": 20, \"9\": 8, \"6\": 2}, \"3\": {\"3\": 183, \"9\": 32, \"5\": 9, \"8\": 12, \"1\": 3, \"7\": 1}, \"8\": {\"8\": 221, \"3\": 15, \"14\": 4}, \"4\": {\"4\": 235, \"10\": 2, \"12\": 3}, \"6\": {\"6\": 237, \"7\": 3}, \"2\": {\"2\": 185, \"7\": 25, \"12\": 21, \"13\": 6, \"9\": 3}, \"12\": {\"12\": 218, \"2\": 12, \"15\": 7, \"4\": 2, \"1\": 1}, \"0\": {\"0\": 239, \"5\": 1}, \"13\": {\"13\": 231, \"2\": 8, \"12\": 1}, \"10\": {\"10\": 240}, \"11\": {\"11\": 240}, \"14\": {\"14\": 234, \"6\": 1, \"8\": 5}, \"1\": {\"9\": 5, \"1\": 149, \"5\": 76, \"15\": 6, \"3\": 4}}, \"ORACLE.run1_50\": {\"1\": {\"1\": 234, \"13\": 6}, \"2\": {\"2\": 232, \"0\": 8}, \"8\": {\"8\": 240}, \"7\": {\"7\": 234, \"5\": 5, \"4\": 1}, \"14\": {\"14\": 240}, \"6\": {\"6\": 202, \"5\": 20, \"15\": 18}, \"3\": {\"3\": 240}, \"4\": {\"4\": 212, \"7\": 17, \"5\": 8, \"15\": 2, \"6\": 1}, \"12\": {\"12\": 229, \"11\": 4, \"9\": 7}, \"15\": {\"15\": 230, \"11\": 5, \"6\": 5}, \"11\": {\"11\": 232, \"15\": 4, \"9\": 1, \"12\": 3}, \"0\": {\"0\": 229, \"10\": 1, \"2\": 10}, \"9\": {\"9\": 214, \"12\": 13, \"11\": 12, \"15\": 1}, \"10\": {\"10\": 240}, \"5\": {\"6\": 40, \"1\": 2, \"4\": 16, \"7\": 67, \"15\": 5, \"5\": 100, \"13\": 10}, \"13\": {\"13\": 240}}, \"ORACLE.run1_32\": {\"2\": {\"2\": 211, \"4\": 29}, \"6\": {\"6\": 240}, \"5\": {\"5\": 128, \"0\": 25, \"8\": 34, \"7\": 44, \"14\": 9}, \"12\": {\"12\": 240}, \"13\": {\"4\": 19, \"13\": 195, \"3\": 22, \"11\": 4}, \"9\": {\"9\": 234, \"12\": 6}, \"11\": {\"11\": 238, \"13\": 2}, \"1\": {\"1\": 240}, \"3\": {\"3\": 236, \"13\": 4}, \"7\": {\"7\": 171, \"0\": 14, \"14\": 13, \"5\": 42}, \"14\": {\"14\": 147, \"7\": 57, \"0\": 7, \"8\": 6, \"5\": 19, \"2\": 3, \"13\": 1}, \"8\": {\"8\": 198, \"0\": 19, \"5\": 17, \"14\": 4, \"3\": 1, \"7\": 1}, \"4\": {\"4\": 213, \"13\": 2, \"2\": 25}, \"0\": {\"0\": 179, \"8\": 21, \"7\": 19, \"5\": 15, \"14\": 4, \"4\": 1, \"2\": 1}, \"10\": {\"10\": 240}, \"15\": {\"15\": 239, \"8\": 1}}, \"ORACLE.run1_44\": {\"13\": {\"13\": 206, \"6\": 26, \"9\": 8}, \"4\": {\"4\": 156, \"14\": 76, \"15\": 7, \"13\": 1}, \"6\": {\"6\": 191, \"13\": 31, \"9\": 18}, \"0\": {\"0\": 220, \"8\": 20}, \"10\": {\"10\": 231, \"1\": 4, \"2\": 3, \"7\": 2}, \"7\": {\"7\": 212, \"9\": 27, \"10\": 1}, \"14\": {\"14\": 176, \"4\": 43, \"15\": 14, \"5\": 7}, \"15\": {\"14\": 16, \"5\": 11, \"15\": 201, \"8\": 8, \"0\": 1, \"4\": 3}, \"5\": {\"5\": 209, \"8\": 3, \"14\": 9, \"15\": 19}, \"2\": {\"2\": 228, \"1\": 12}, \"9\": {\"9\": 121, \"6\": 35, \"7\": 68, \"13\": 12, \"2\": 1, \"4\": 3}, \"12\": {\"12\": 237, \"3\": 3}, \"8\": {\"8\": 173, \"0\": 59, \"15\": 1, \"5\": 7}, \"3\": {\"3\": 228, \"12\": 12}, \"1\": {\"1\": 230, \"2\": 10}, \"11\": {\"11\": 240}}, \"ORACLE.run1_14\": {\"1\": {\"1\": 240}, \"15\": {\"15\": 240}, \"10\": {\"10\": 240}, \"2\": {\"14\": 32, \"6\": 16, \"4\": 19, \"2\": 135, \"5\": 18, \"13\": 12, \"3\": 8}, \"9\": {\"9\": 240}, \"5\": {\"5\": 226, \"4\": 1, \"2\": 12, \"3\": 1}, \"7\": {\"7\": 240}, \"13\": {\"6\": 88, \"13\": 52, \"15\": 12, \"14\": 73, \"4\": 3, \"2\": 11, \"3\": 1}, \"8\": {\"8\": 240}, \"6\": {\"13\": 73, \"6\": 145, \"14\": 18, \"2\": 4}, \"3\": {\"3\": 237, \"14\": 2, \"13\": 1}, \"12\": {\"12\": 240}, \"0\": {\"0\": 221, \"10\": 5, \"3\": 13, \"14\": 1}, \"4\": {\"4\": 237, \"5\": 2, \"2\": 1}, \"14\": {\"14\": 212, \"3\": 3, \"13\": 19, \"2\": 4, \"6\": 2}, \"11\": {\"11\": 240}}, \"W_A_2\": {\"56\": {\"56\": 6, \"9\": 1, \"114\": 1, \"123\": 1, \"74\": 1, \"32\": 1, \"41\": 1}, \"12\": {\"12\": 9, \"122\": 1, \"88\": 1, \"7\": 1}, \"15\": {\"15\": 6, \"7\": 2, \"106\": 2, \"36\": 2}, \"26\": {\"26\": 12}, \"82\": {\"55\": 1, \"82\": 10, \"21\": 1}, \"9\": {\"9\": 9, \"58\": 2, \"98\": 1}, \"49\": {\"15\": 1, \"12\": 3, \"49\": 7, \"25\": 1}, \"55\": {\"55\": 12}, \"102\": {\"102\": 12}, \"85\": {\"73\": 2, \"85\": 8, \"91\": 1, \"17\": 1}, \"73\": {\"73\": 11, \"50\": 1}, \"47\": {\"113\": 1, \"56\": 1, \"47\": 4, \"28\": 1, \"35\": 1, \"38\": 2, \"29\": 1, \"44\": 1}, \"20\": {\"26\": 2, \"20\": 5, \"57\": 1, \"39\": 1, \"61\": 1, \"1\": 1, \"126\": 1}, \"117\": {\"117\": 10}, \"122\": {\"122\": 10, \"126\": 1, \"94\": 1}, \"113\": {\"26\": 2, \"113\": 4, \"78\": 1, \"87\": 4, \"43\": 1}, \"87\": {\"87\": 10, \"109\": 1, \"39\": 1}, \"21\": {\"21\": 12}, \"106\": {\"12\": 2, \"106\": 8}, \"3\": {\"3\": 10, \"105\": 2}, \"126\": {\"126\": 8, \"60\": 1, \"15\": 1, \"88\": 2}, \"41\": {\"73\": 1, \"41\": 9, \"56\": 1, \"85\": 1}, \"76\": {\"76\": 3, \"66\": 1, \"1\": 1, \"114\": 1, \"31\": 1, \"38\": 2, \"45\": 1}, \"60\": {\"60\": 11, \"71\": 1}, \"94\": {\"94\": 11, \"27\": 1}, \"50\": {\"50\": 7, \"76\": 1, \"46\": 2, \"119\": 1, \"55\": 1}, \"97\": {\"12\": 1, \"106\": 1, \"97\": 9, \"25\": 1}, \"115\": {\"76\": 1, \"115\": 10, \"86\": 1}, \"38\": {\"38\": 11, \"47\": 1}, \"43\": {\"43\": 11, \"88\": 1}, \"67\": {\"67\": 8}, \"18\": {\"18\": 10}, \"23\": {\"43\": 2, \"94\": 1, \"16\": 1, \"30\": 1, \"60\": 1, \"23\": 1, \"84\": 1, \"93\": 1, \"0\": 1}, \"63\": {\"63\": 12}, \"127\": {\"127\": 5, \"3\": 2, \"114\": 2, \"88\": 1, \"49\": 1, \"12\": 1}, \"72\": {\"72\": 4, \"18\": 1, \"62\": 4, \"1\": 2, \"44\": 1}, \"128\": {\"7\": 1, \"128\": 4, \"32\": 2, \"95\": 2, \"51\": 1, \"40\": 1, \"98\": 1}, \"7\": {\"7\": 11, \"27\": 1}, \"108\": {\"108\": 12}, \"16\": {\"18\": 2, \"16\": 9, \"121\": 1}, \"103\": {\"103\": 11, \"91\": 1}, \"86\": {\"86\": 11, \"91\": 1}, \"62\": {\"62\": 9, \"40\": 1, \"105\": 1, \"1\": 1}, \"34\": {\"34\": 8, \"128\": 2, \"114\": 1, \"44\": 1}, \"129\": {\"72\": 1, \"129\": 6, \"5\": 2, \"53\": 1, \"65\": 1, \"42\": 1}, \"52\": {\"52\": 12}, \"35\": {\"35\": 8, \"107\": 1, \"114\": 2, \"101\": 1}, \"40\": {\"40\": 10, \"62\": 1, \"114\": 1}, \"105\": {\"105\": 11, \"110\": 1}, \"101\": {\"101\": 11, \"106\": 1}, \"45\": {\"45\": 9, \"116\": 1, \"42\": 1, \"80\": 1}, \"30\": {\"30\": 8, \"8\": 1, \"78\": 1, \"109\": 1, \"15\": 1}, \"6\": {\"6\": 8}, \"13\": {\"13\": 6, \"80\": 2, \"5\": 1, \"17\": 1, \"102\": 1, \"66\": 1}, \"17\": {\"45\": 1, \"30\": 1, \"37\": 2, \"79\": 2, \"21\": 1, \"115\": 1, \"41\": 1, \"39\": 1, \"80\": 2}, \"29\": {\"29\": 11, \"41\": 1}, \"121\": {\"38\": 1, \"45\": 1, \"81\": 1, \"121\": 6, \"96\": 1, \"63\": 1, \"76\": 1}, \"32\": {\"32\": 8, \"49\": 1, \"128\": 2, \"64\": 1}, \"112\": {\"128\": 1, \"17\": 1, \"112\": 8, \"52\": 2}, \"110\": {\"110\": 9, \"108\": 1, \"11\": 1, \"122\": 1}, \"95\": {\"95\": 8, \"105\": 1, \"28\": 1, \"106\": 1, \"74\": 1}, \"92\": {\"45\": 2, \"119\": 1, \"74\": 1, \"46\": 1, \"70\": 1, \"31\": 2, \"123\": 1, \"85\": 1, \"64\": 2}, \"8\": {\"8\": 10, \"27\": 1, \"11\": 1}, \"22\": {\"116\": 3, \"28\": 2, \"22\": 3, \"115\": 1, \"13\": 1, \"73\": 1, \"51\": 1}, \"57\": {\"116\": 1, \"45\": 1, \"57\": 7, \"20\": 1, \"99\": 2}, \"77\": {\"77\": 9, \"52\": 1}, \"1\": {\"1\": 8, \"14\": 2}, \"116\": {\"116\": 6, \"102\": 1, \"129\": 1, \"90\": 1, \"22\": 2, \"46\": 1}, \"28\": {\"28\": 7, \"31\": 1, \"46\": 2, \"73\": 1, \"78\": 1}, \"68\": {\"77\": 1, \"68\": 9, \"41\": 1, \"54\": 1}, \"89\": {\"46\": 3, \"33\": 1, \"89\": 2, \"99\": 1, \"22\": 1}, \"119\": {\"119\": 5, \"91\": 1, \"61\": 1, \"65\": 1, \"55\": 2, \"117\": 2}, \"11\": {\"43\": 2, \"11\": 8, \"78\": 1, \"8\": 1}, \"46\": {\"46\": 12}, \"123\": {\"123\": 5, \"91\": 1, \"56\": 2, \"47\": 1, \"41\": 1, \"73\": 2}, \"33\": {\"33\": 10, \"69\": 2}, \"91\": {\"91\": 8, \"103\": 1, \"41\": 2, \"112\": 1}, \"83\": {\"33\": 1, \"83\": 4, \"96\": 1, \"31\": 1, \"23\": 1, \"101\": 2}, \"90\": {\"90\": 12}, \"79\": {\"79\": 11, \"91\": 1}, \"19\": {\"95\": 2, \"19\": 8, \"74\": 2}, \"81\": {\"81\": 7, \"75\": 1}, \"53\": {\"53\": 6, \"5\": 2}, \"71\": {\"7\": 2, \"71\": 8, \"88\": 1, \"3\": 1}, \"124\": {\"19\": 1, \"124\": 3, \"103\": 2, \"91\": 2, \"104\": 2, \"129\": 2}, \"88\": {\"88\": 9, \"39\": 1, \"109\": 1, \"126\": 1}, \"36\": {\"36\": 12}, \"78\": {\"39\": 1, \"126\": 1, \"78\": 8, \"10\": 1, \"21\": 1}, \"5\": {\"5\": 6, \"104\": 4, \"85\": 1, \"17\": 1}, \"61\": {\"23\": 1, \"64\": 2, \"71\": 2, \"74\": 2, \"61\": 3, \"40\": 1, \"98\": 1}, \"25\": {\"25\": 9, \"78\": 1, \"9\": 1, \"70\": 1}, \"64\": {\"64\": 7, \"55\": 1, \"92\": 2, \"45\": 2}, \"39\": {\"78\": 1, \"39\": 5, \"88\": 1, \"70\": 2, \"87\": 1, \"24\": 1, \"126\": 1}, \"37\": {\"116\": 1, \"37\": 4, \"67\": 3, \"78\": 1, \"129\": 1, \"63\": 1, \"21\": 1}, \"59\": {\"59\": 5, \"125\": 1, \"41\": 1, \"13\": 2, \"77\": 1}, \"125\": {\"125\": 11, \"79\": 1}, \"31\": {\"32\": 1, \"100\": 1, \"81\": 1, \"31\": 5, \"93\": 1, \"73\": 1, \"123\": 1, \"39\": 1}, \"54\": {\"54\": 7, \"58\": 1, \"98\": 3, \"68\": 1}, \"100\": {\"100\": 10, \"40\": 1, \"82\": 1}, \"98\": {\"98\": 12}, \"96\": {\"89\": 1, \"16\": 2, \"96\": 6, \"93\": 2, \"70\": 1}, \"24\": {\"24\": 11, \"10\": 1}, \"104\": {\"53\": 1, \"104\": 10, \"124\": 1}, \"48\": {\"48\": 9, \"41\": 1, \"92\": 2}, \"80\": {\"80\": 10, \"48\": 1, \"66\": 1}, \"58\": {\"58\": 9, \"54\": 1, \"75\": 1, \"129\": 1}, \"14\": {\"14\": 6}, \"27\": {\"30\": 1, \"27\": 8, \"108\": 1, \"88\": 1, \"24\": 1}, \"69\": {\"14\": 2, \"69\": 8, \"24\": 1, \"39\": 1}, \"99\": {\"99\": 12}, \"51\": {\"75\": 2, \"39\": 1, \"51\": 8, \"114\": 1}, \"75\": {\"75\": 5, \"98\": 2, \"58\": 1}, \"109\": {\"109\": 8, \"70\": 1, \"91\": 1, \"88\": 1, \"41\": 1}, \"70\": {\"10\": 3, \"70\": 4, \"88\": 2, \"43\": 3}, \"120\": {\"26\": 2, \"119\": 3, \"84\": 1, \"75\": 1, \"99\": 1, \"22\": 2, \"60\": 1, \"120\": 1}, \"42\": {\"41\": 3, \"42\": 7, \"52\": 1, \"58\": 1}, \"10\": {\"70\": 3, \"10\": 8, \"126\": 1}, \"0\": {\"0\": 10}, \"44\": {\"44\": 11, \"47\": 1}, \"93\": {\"93\": 10, \"118\": 2}, \"84\": {\"84\": 8, \"62\": 2, \"11\": 1, \"43\": 1}, \"114\": {\"114\": 12}, \"66\": {\"66\": 6, \"29\": 1, \"57\": 1, \"1\": 1, \"50\": 1, \"116\": 1, \"76\": 1}, \"65\": {\"65\": 8, \"92\": 2, \"45\": 1, \"119\": 1}, \"111\": {\"111\": 12}, \"74\": {\"74\": 4, \"108\": 1, \"46\": 2, \"32\": 1, \"1\": 2}, \"2\": {\"2\": 10, \"99\": 1, \"53\": 1}, \"107\": {\"74\": 2, \"107\": 6, \"49\": 1, \"36\": 1}, \"4\": {\"4\": 10, \"86\": 2}, \"118\": {\"62\": 2, \"118\": 8}}, \"C_A_2\": {\"21\": {\"21\": 7, \"3\": 1, \"44\": 1, \"12\": 1}, \"4\": {\"4\": 11, \"9\": 1}, \"6\": {\"6\": 10, \"3\": 1, \"46\": 1}, \"10\": {\"10\": 12}, \"33\": {\"33\": 8, \"29\": 2}, \"56\": {\"56\": 8, \"22\": 2}, \"20\": {\"20\": 12}, \"24\": {\"24\": 10}, \"45\": {\"50\": 2, \"45\": 3, \"21\": 1, \"5\": 1, \"12\": 2, \"40\": 1}, \"32\": {\"32\": 11, \"27\": 1}, \"27\": {\"27\": 12}, \"53\": {\"53\": 12}, \"8\": {\"8\": 12}, \"54\": {\"8\": 6, \"54\": 3, \"53\": 1, \"56\": 1, \"26\": 1}, \"50\": {\"50\": 11, \"6\": 1}, \"44\": {\"44\": 11, \"40\": 1}, \"5\": {\"5\": 9, \"6\": 1}, \"38\": {\"38\": 12}, \"19\": {\"19\": 11, \"7\": 1}, \"1\": {\"1\": 10, \"41\": 1, \"30\": 1}, \"30\": {\"30\": 12}, \"15\": {\"15\": 12}, \"23\": {\"23\": 12}, \"35\": {\"35\": 8, \"33\": 1, \"17\": 1, \"40\": 2}, \"22\": {\"22\": 12}, \"40\": {\"44\": 1, \"40\": 11}, \"46\": {\"46\": 9, \"21\": 1}, \"18\": {\"18\": 10}, \"25\": {\"25\": 10, \"18\": 2}, \"47\": {\"1\": 1, \"47\": 11}, \"52\": {\"52\": 8}, \"39\": {\"33\": 1, \"39\": 9, \"7\": 2}, \"17\": {\"17\": 9, \"39\": 3}, \"36\": {\"36\": 12}, \"7\": {\"7\": 8, \"55\": 1, \"39\": 1, \"33\": 2}, \"43\": {\"43\": 12}, \"3\": {\"3\": 9, \"6\": 3}, \"11\": {\"11\": 10}, \"55\": {\"55\": 12}, \"42\": {\"23\": 2, \"43\": 1, \"42\": 7, \"39\": 1, \"31\": 1}, \"51\": {\"51\": 12}, \"48\": {\"48\": 12}, \"57\": {\"57\": 12}, \"2\": {\"47\": 2, \"2\": 8}, \"16\": {\"16\": 10}, \"29\": {\"2\": 1, \"29\": 5, \"48\": 2, \"14\": 1, \"40\": 2, \"30\": 1}, \"12\": {\"12\": 12}, \"13\": {\"13\": 12}, \"37\": {\"37\": 12}, \"28\": {\"28\": 6}, \"14\": {\"13\": 1, \"29\": 1, \"14\": 6, \"38\": 3, \"33\": 1}, \"34\": {\"34\": 7, \"49\": 1}, \"41\": {\"41\": 9, \"50\": 1}, \"9\": {\"9\": 7, \"4\": 1, \"20\": 1, \"40\": 1}, \"49\": {\"49\": 5, \"42\": 1}, \"26\": {\"26\": 10}, \"0\": {\"0\": 10}, \"31\": {\"31\": 5, \"42\": 1}}, \"W_A_4\": {\"32\": {\"32\": 9, \"73\": 2, \"99\": 1}, \"22\": {\"53\": 2, \"128\": 1, \"22\": 1, \"45\": 2, \"47\": 2, \"52\": 1, \"57\": 1, \"42\": 1, \"120\": 1}, \"69\": {\"69\": 9, \"100\": 1, \"44\": 2}, \"65\": {\"65\": 12}, \"91\": {\"73\": 2, \"91\": 7, \"55\": 1}, \"63\": {\"63\": 10, \"64\": 1, \"45\": 1}, \"127\": {\"127\": 12}, \"11\": {\"88\": 2, \"3\": 2, \"11\": 6}, \"12\": {\"12\": 9, \"30\": 1}, \"111\": {\"111\": 12}, \"53\": {\"127\": 1, \"73\": 1, \"53\": 6, \"100\": 2, \"34\": 2}, \"73\": {\"22\": 1, \"83\": 1, \"73\": 6, \"6\": 1, \"31\": 2, \"14\": 1}, \"3\": {\"3\": 8, \"62\": 2, \"71\": 1, \"101\": 1}, \"83\": {\"83\": 9, \"114\": 1, \"107\": 1, \"100\": 1}, \"88\": {\"88\": 9, \"21\": 1, \"39\": 1, \"70\": 1}, \"87\": {\"87\": 7, \"88\": 1, \"110\": 2, \"39\": 1, \"16\": 1}, \"2\": {\"2\": 9, \"57\": 1, \"74\": 1, \"45\": 1}, \"86\": {\"86\": 9, \"75\": 1, \"59\": 2}, \"16\": {\"16\": 7, \"121\": 1, \"122\": 1, \"54\": 1, \"26\": 1, \"96\": 1}, \"21\": {\"21\": 8, \"109\": 2, \"88\": 2}, \"96\": {\"62\": 3, \"122\": 1, \"26\": 1, \"96\": 3, \"3\": 1, \"71\": 1, \"7\": 1, \"92\": 1}, \"100\": {\"100\": 7, \"46\": 2, \"83\": 2, \"35\": 1}, \"7\": {\"7\": 9, \"87\": 1, \"8\": 2}, \"75\": {\"75\": 12}, \"10\": {\"10\": 11, \"88\": 1}, \"43\": {\"88\": 1, \"43\": 9, \"122\": 1, \"109\": 1}, \"92\": {\"2\": 2, \"92\": 4, \"44\": 1, \"31\": 2, \"33\": 1, \"128\": 1, \"28\": 1}, \"62\": {\"62\": 8, \"16\": 2, \"81\": 2}, \"31\": {\"46\": 2, \"107\": 1, \"112\": 1, \"31\": 1, \"3\": 1, \"22\": 1, \"73\": 1, \"28\": 2, \"45\": 1, \"57\": 1}, \"0\": {\"8\": 1, \"30\": 2, \"0\": 8, \"118\": 1}, \"45\": {\"38\": 2, \"66\": 1, \"45\": 4, \"57\": 3, \"31\": 1, \"67\": 1}, \"85\": {\"85\": 10, \"21\": 1, \"9\": 1}, \"119\": {\"119\": 12}, \"46\": {\"46\": 7, \"1\": 1, \"50\": 1, \"107\": 1, \"12\": 1, \"19\": 1}, \"71\": {\"1\": 2, \"71\": 10}, \"8\": {\"8\": 8, \"7\": 3, \"27\": 1}, \"118\": {\"118\": 10, \"71\": 1, \"109\": 1}, \"1\": {\"1\": 9, \"60\": 1, \"128\": 2}, \"38\": {\"38\": 10, \"86\": 1, \"6\": 1}, \"30\": {\"30\": 10, \"0\": 2}, \"66\": {\"66\": 4, \"46\": 1, \"73\": 1, \"35\": 1, \"28\": 2, \"45\": 1, \"38\": 2}, \"9\": {\"85\": 2, \"9\": 10}, \"90\": {\"90\": 10, \"66\": 1, \"74\": 1}, \"72\": {\"72\": 9, \"110\": 1, \"11\": 1, \"14\": 1}, \"27\": {\"27\": 9, \"8\": 2, \"30\": 1}, \"17\": {\"17\": 11, \"116\": 1}, \"79\": {\"79\": 8, \"17\": 1, \"28\": 2, \"48\": 1}, \"25\": {\"25\": 12}, \"5\": {\"100\": 1, \"5\": 9, \"99\": 1, \"20\": 1}, \"57\": {\"57\": 12}, \"106\": {\"106\": 9, \"8\": 1, \"49\": 1, \"51\": 1}, \"80\": {\"80\": 12}, \"128\": {\"19\": 2, \"128\": 6, \"82\": 1, \"74\": 2, \"20\": 1}, \"19\": {\"19\": 5, \"55\": 1, \"44\": 1, \"103\": 1, \"33\": 1, \"91\": 1}, \"109\": {\"109\": 9, \"43\": 1, \"113\": 1, \"108\": 1}, \"68\": {\"68\": 11, \"111\": 1}, \"41\": {\"19\": 2, \"58\": 1, \"41\": 2, \"29\": 1, \"112\": 2, \"89\": 1, \"45\": 1, \"91\": 2}, \"129\": {\"129\": 7, \"102\": 1, \"120\": 1, \"117\": 1, \"2\": 1, \"103\": 1}, \"115\": {\"115\": 9, \"102\": 2, \"70\": 1}, \"76\": {\"85\": 1, \"19\": 1, \"76\": 5, \"107\": 1, \"66\": 1, \"90\": 1, \"128\": 1, \"22\": 1}, \"18\": {\"18\": 12}, \"4\": {\"41\": 1, \"4\": 8, \"59\": 1, \"115\": 2}, \"110\": {\"110\": 4, \"87\": 5, \"122\": 1, \"7\": 1, \"84\": 1}, \"56\": {\"56\": 6, \"55\": 1, \"96\": 1, \"97\": 1, \"25\": 1, \"46\": 2}, \"112\": {\"112\": 10, \"89\": 1, \"100\": 1}, \"126\": {\"126\": 11, \"78\": 1}, \"101\": {\"8\": 1, \"101\": 10, \"15\": 1}, \"59\": {\"59\": 12}, \"93\": {\"93\": 8, \"23\": 2, \"122\": 2}, \"99\": {\"128\": 1, \"99\": 10, \"74\": 1}, \"98\": {\"98\": 12}, \"67\": {\"73\": 2, \"57\": 1, \"67\": 9}, \"82\": {\"73\": 1, \"82\": 8, \"33\": 1, \"54\": 1, \"111\": 1}, \"103\": {\"82\": 2, \"103\": 6, \"28\": 2, \"81\": 1, \"104\": 1}, \"117\": {\"117\": 5, \"67\": 1, \"123\": 2}, \"123\": {\"117\": 2, \"123\": 8, \"65\": 2}, \"89\": {\"82\": 2, \"89\": 8, \"69\": 1, \"76\": 1}, \"34\": {\"34\": 4, \"128\": 1, \"60\": 1, \"98\": 1, \"94\": 1, \"110\": 1, \"5\": 1, \"53\": 2}, \"102\": {\"102\": 11, \"120\": 1}, \"6\": {\"6\": 9, \"29\": 1}, \"15\": {\"15\": 11, \"7\": 1}, \"81\": {\"81\": 10, \"44\": 2}, \"84\": {\"69\": 4, \"84\": 3, \"44\": 1, \"110\": 1, \"5\": 2, \"118\": 1}, \"60\": {\"8\": 4, \"60\": 5, \"96\": 1, \"62\": 2}, \"97\": {\"97\": 8, \"43\": 2, \"24\": 1, \"2\": 1}, \"78\": {\"78\": 10, \"70\": 2}, \"121\": {\"90\": 1, \"67\": 1, \"121\": 3, \"125\": 1, \"44\": 2, \"96\": 2, \"25\": 1, \"81\": 1}, \"55\": {\"68\": 2, \"55\": 9, \"29\": 1}, \"74\": {\"121\": 1, \"74\": 9, \"76\": 1, \"100\": 1}, \"77\": {\"77\": 11, \"58\": 1}, \"20\": {\"74\": 2, \"20\": 6, \"40\": 1, \"16\": 1, \"5\": 2}, \"125\": {\"125\": 10, \"66\": 1, \"95\": 1}, \"37\": {\"37\": 12}, \"14\": {\"14\": 10, \"11\": 1, \"108\": 1}, \"120\": {\"120\": 4, \"2\": 1, \"13\": 1, \"129\": 1, \"64\": 2, \"67\": 1, \"41\": 1, \"50\": 1}, \"40\": {\"40\": 9, \"105\": 2, \"27\": 1}, \"35\": {\"35\": 5, \"20\": 2, \"38\": 2, \"18\": 1, \"61\": 1, \"23\": 1}, \"70\": {\"70\": 9, \"27\": 1, \"23\": 2}, \"42\": {\"42\": 9, \"56\": 2, \"98\": 1}, \"105\": {\"105\": 11, \"40\": 1}, \"13\": {\"13\": 7, \"117\": 1, \"120\": 1, \"48\": 1, \"116\": 2}, \"58\": {\"29\": 1, \"58\": 10, \"111\": 1}, \"61\": {\"2\": 1, \"61\": 11}, \"29\": {\"29\": 10, \"54\": 1, \"77\": 1}, \"28\": {\"28\": 10, \"33\": 1, \"79\": 1}, \"36\": {\"36\": 12}, \"114\": {\"114\": 12}, \"44\": {\"44\": 9, \"99\": 2, \"63\": 1}, \"23\": {\"109\": 1, \"62\": 1, \"113\": 2, \"78\": 1, \"108\": 1, \"36\": 1, \"24\": 1, \"10\": 1, \"125\": 1, \"126\": 1, \"101\": 1}, \"116\": {\"116\": 8, \"28\": 1, \"104\": 1, \"67\": 1, \"22\": 1}, \"47\": {\"47\": 10, \"77\": 1, \"98\": 1}, \"122\": {\"122\": 9, \"109\": 1, \"87\": 2}, \"49\": {\"62\": 2, \"49\": 5, \"3\": 1, \"99\": 1, \"72\": 1}, \"52\": {\"52\": 8, \"29\": 1, \"98\": 1, \"9\": 2}, \"50\": {\"50\": 8, \"37\": 1, \"104\": 1, \"19\": 2}, \"48\": {\"48\": 9, \"64\": 1, \"13\": 1, \"50\": 1}, \"39\": {\"39\": 10, \"126\": 2}, \"95\": {\"95\": 9, \"105\": 1, \"1\": 2}, \"107\": {\"107\": 9, \"114\": 1, \"1\": 2}, \"24\": {\"24\": 10, \"97\": 2}, \"26\": {\"26\": 12}, \"124\": {\"124\": 3, \"96\": 1, \"48\": 1, \"64\": 1, \"86\": 2, \"47\": 1, \"120\": 1}, \"108\": {\"108\": 8, \"70\": 1, \"78\": 1, \"88\": 2}, \"113\": {\"46\": 1, \"113\": 8, \"23\": 1, \"70\": 1, \"28\": 1}, \"104\": {\"104\": 11, \"115\": 1}, \"64\": {\"64\": 11, \"119\": 1}, \"51\": {\"68\": 1, \"51\": 8, \"75\": 1}, \"94\": {\"94\": 9, \"108\": 1}, \"54\": {\"54\": 10}, \"33\": {\"33\": 12}}, \"C_A_5\": {\"12\": {\"12\": 12}, \"8\": {\"8\": 12}, \"29\": {\"49\": 2, \"29\": 8, \"47\": 1, \"2\": 1}, \"57\": {\"57\": 12}, \"38\": {\"38\": 11, \"7\": 1}, \"23\": {\"23\": 10}, \"56\": {\"56\": 10}, \"49\": {\"35\": 1, \"49\": 8, \"13\": 1}, \"4\": {\"4\": 11, \"6\": 1}, \"48\": {\"48\": 9, \"1\": 1, \"30\": 1, \"32\": 1}, \"21\": {\"21\": 12}, \"30\": {\"30\": 8}, \"1\": {\"1\": 12}, \"34\": {\"34\": 11, \"39\": 1}, \"35\": {\"35\": 5, \"2\": 1}, \"55\": {\"8\": 1, \"34\": 1, \"55\": 5, \"49\": 1, \"17\": 1, \"41\": 2, \"23\": 1}, \"26\": {\"26\": 12}, \"40\": {\"5\": 2, \"40\": 10}, \"53\": {\"53\": 12}, \"46\": {\"46\": 12}, \"27\": {\"27\": 12}, \"28\": {\"28\": 10}, \"16\": {\"16\": 10}, \"2\": {\"2\": 12}, \"51\": {\"51\": 12}, \"50\": {\"50\": 12}, \"54\": {\"54\": 10}, \"5\": {\"4\": 1, \"5\": 9, \"50\": 1, \"40\": 1}, \"10\": {\"10\": 12}, \"43\": {\"43\": 10}, \"17\": {\"17\": 11, \"38\": 1}, \"45\": {\"45\": 11, \"50\": 1}, \"36\": {\"36\": 12}, \"19\": {\"19\": 8}, \"15\": {\"15\": 12}, \"20\": {\"20\": 12}, \"3\": {\"3\": 11, \"4\": 1}, \"14\": {\"2\": 2, \"36\": 1, \"14\": 7, \"32\": 1, \"27\": 1}, \"32\": {\"32\": 12}, \"7\": {\"7\": 11, \"20\": 1}, \"31\": {\"31\": 12}, \"44\": {\"44\": 10, \"5\": 2}, \"24\": {\"24\": 10}, \"39\": {\"39\": 6, \"36\": 2}, \"37\": {\"37\": 11, \"21\": 1}, \"33\": {\"33\": 10, \"17\": 1, \"34\": 1}, \"11\": {\"11\": 8}, \"18\": {\"18\": 12}, \"52\": {\"52\": 12}, \"9\": {\"52\": 1, \"9\": 6, \"48\": 2, \"12\": 1, \"4\": 2}, \"0\": {\"0\": 8}, \"6\": {\"6\": 11, \"45\": 1}, \"42\": {\"42\": 12}, \"13\": {\"13\": 10}, \"22\": {\"22\": 6, \"3\": 1, \"56\": 1}, \"25\": {\"25\": 6, \"16\": 2}, \"47\": {\"47\": 9, \"46\": 1}, \"41\": {\"41\": 10}}, \"W_A_1\": {\"68\": {\"68\": 9, \"58\": 3}, \"7\": {\"7\": 12}, \"125\": {\"125\": 12}, \"111\": {\"111\": 9, \"68\": 1, \"109\": 1, \"46\": 1}, \"101\": {\"127\": 1, \"101\": 10, \"12\": 1}, \"11\": {\"11\": 10, \"7\": 1, \"39\": 1}, \"76\": {\"7\": 1, \"60\": 1, \"69\": 1, \"76\": 6, \"16\": 1, \"118\": 2}, \"5\": {\"5\": 12}, \"123\": {\"123\": 11, \"64\": 1}, \"85\": {\"85\": 10, \"75\": 2}, \"34\": {\"34\": 2, \"101\": 1, \"90\": 1, \"51\": 1, \"35\": 1, \"31\": 1, \"71\": 1, \"14\": 1, \"99\": 1}, \"42\": {\"42\": 8, \"64\": 1, \"38\": 1}, \"81\": {\"81\": 11, \"33\": 1}, \"127\": {\"127\": 12}, \"60\": {\"7\": 2, \"60\": 5, \"113\": 1, \"99\": 1, \"122\": 1, \"50\": 1, \"44\": 1}, \"77\": {\"77\": 12}, \"65\": {\"65\": 7, \"117\": 1, \"67\": 1, \"127\": 1, \"63\": 1, \"51\": 1}, \"44\": {\"44\": 12}, \"100\": {\"33\": 1, \"100\": 6, \"7\": 1, \"120\": 1, \"14\": 1, \"74\": 1, \"3\": 1}, \"80\": {\"80\": 10, \"117\": 1, \"102\": 1}, \"83\": {\"83\": 2, \"33\": 1, \"104\": 2, \"99\": 2, \"85\": 2, \"19\": 1, \"89\": 1, \"38\": 1}, \"51\": {\"51\": 12}, \"93\": {\"93\": 5, \"78\": 1, \"7\": 2, \"43\": 2}, \"31\": {\"31\": 8, \"30\": 1, \"101\": 1, \"110\": 1, \"43\": 1}, \"33\": {\"33\": 12}, \"113\": {\"113\": 11, \"10\": 1}, \"126\": {\"126\": 7, \"10\": 1, \"93\": 3, \"122\": 1}, \"10\": {\"126\": 1, \"10\": 10, \"78\": 1}, \"21\": {\"21\": 9, \"24\": 1}, \"90\": {\"90\": 11, \"20\": 1}, \"14\": {\"14\": 11, \"74\": 1}, \"91\": {\"91\": 10, \"68\": 1, \"37\": 1}, \"69\": {\"69\": 12}, \"57\": {\"57\": 10, \"42\": 1, \"65\": 1}, \"89\": {\"89\": 9, \"114\": 1, \"75\": 1, \"54\": 1}, \"108\": {\"108\": 9, \"91\": 1}, \"102\": {\"57\": 1, \"102\": 11}, \"64\": {\"64\": 9, \"79\": 1, \"22\": 1, \"104\": 1}, \"119\": {\"119\": 9, \"120\": 1, \"63\": 2}, \"36\": {\"36\": 12}, \"104\": {\"104\": 9, \"108\": 1, \"46\": 1, \"54\": 1}, \"38\": {\"38\": 8, \"29\": 1, \"2\": 2, \"64\": 1}, \"19\": {\"19\": 6, \"42\": 1, \"33\": 1, \"107\": 1, \"81\": 1, \"29\": 1, \"52\": 1}, \"112\": {\"112\": 5, \"93\": 1, \"6\": 2, \"58\": 4}, \"3\": {\"3\": 12}, \"110\": {\"110\": 11, \"97\": 1}, \"78\": {\"78\": 10, \"39\": 1, \"10\": 1}, \"45\": {\"119\": 2, \"7\": 1, \"49\": 1, \"115\": 2, \"24\": 1, \"65\": 1, \"80\": 1, \"129\": 1, \"79\": 2}, \"82\": {\"82\": 11, \"81\": 1}, \"107\": {\"107\": 12}, \"114\": {\"114\": 12}, \"109\": {\"78\": 1, \"109\": 11}, \"79\": {\"79\": 12}, \"8\": {\"8\": 6, \"78\": 1, \"30\": 1, \"43\": 1, \"126\": 1, \"97\": 1, \"24\": 1}, \"50\": {\"82\": 1, \"50\": 10, \"120\": 1}, \"47\": {\"47\": 5, \"37\": 1, \"75\": 1, \"73\": 2, \"29\": 2, \"98\": 1}, \"99\": {\"99\": 8, \"44\": 1, \"25\": 1, \"23\": 1, \"96\": 1}, \"41\": {\"41\": 12}, \"103\": {\"41\": 1, \"103\": 9, \"73\": 1, \"52\": 1}, \"1\": {\"1\": 5, \"31\": 2, \"43\": 1}, \"22\": {\"86\": 2, \"22\": 5, \"45\": 2, \"116\": 1, \"5\": 1, \"25\": 1}, \"86\": {\"86\": 10, \"58\": 1, \"25\": 1}, \"72\": {\"72\": 12}, \"4\": {\"4\": 11, \"17\": 1}, \"98\": {\"98\": 12}, \"63\": {\"63\": 10, \"2\": 1, \"119\": 1}, \"0\": {\"0\": 9, \"36\": 1, \"11\": 2}, \"97\": {\"97\": 11, \"24\": 1}, \"35\": {\"31\": 3, \"35\": 5, \"60\": 1, \"101\": 2, \"96\": 1}, \"20\": {\"32\": 1, \"20\": 8, \"112\": 1}, \"58\": {\"58\": 11, \"68\": 1}, \"117\": {\"117\": 10, \"100\": 1, \"82\": 1}, \"30\": {\"30\": 11, \"24\": 1}, \"32\": {\"32\": 11, \"75\": 1}, \"18\": {\"18\": 10, \"11\": 1, \"78\": 1}, \"71\": {\"71\": 12}, \"56\": {\"56\": 8, \"54\": 1, \"53\": 2, \"71\": 1}, \"29\": {\"29\": 11, \"47\": 1}, \"46\": {\"17\": 1, \"111\": 2, \"46\": 4, \"92\": 1, \"79\": 2, \"37\": 1, \"80\": 1}, \"17\": {\"62\": 1, \"17\": 10, \"111\": 1}, \"94\": {\"27\": 3, \"94\": 7, \"15\": 2}, \"27\": {\"27\": 9, \"39\": 1, \"24\": 1, \"87\": 1}, \"62\": {\"62\": 10, \"3\": 2}, \"118\": {\"109\": 1, \"118\": 6, \"97\": 1, \"113\": 2, \"43\": 2}, \"67\": {\"67\": 12}, \"84\": {\"84\": 12}, \"37\": {\"37\": 12}, \"12\": {\"12\": 12}, \"92\": {\"92\": 12}, \"129\": {\"129\": 2, \"67\": 1, \"77\": 1, \"89\": 1, \"115\": 1, \"13\": 2, \"117\": 1, \"90\": 1, \"19\": 1, \"79\": 1}, \"48\": {\"48\": 12}, \"75\": {\"98\": 1, \"75\": 10, \"49\": 1}, \"55\": {\"55\": 12}, \"25\": {\"78\": 1, \"42\": 1, \"25\": 7, \"128\": 1, \"39\": 1, \"73\": 1}, \"2\": {\"2\": 6, \"120\": 3, \"57\": 2, \"82\": 1}, \"53\": {\"75\": 2, \"53\": 7, \"85\": 1, \"6\": 1, \"58\": 1}, \"95\": {\"95\": 8, \"100\": 2, \"35\": 1, \"99\": 1}, \"88\": {\"88\": 12}, \"70\": {\"70\": 10, \"126\": 1, \"109\": 1}, \"13\": {\"13\": 7, \"120\": 1, \"102\": 1, \"67\": 3}, \"121\": {\"121\": 8, \"13\": 1, \"33\": 1, \"123\": 1, \"117\": 1}, \"124\": {\"55\": 1, \"68\": 1, \"46\": 3, \"129\": 1, \"80\": 1, \"2\": 1, \"124\": 3, \"77\": 1}, \"87\": {\"87\": 6, \"122\": 2, \"43\": 1, \"70\": 1, \"0\": 1, \"30\": 1}, \"73\": {\"127\": 1, \"73\": 10, \"9\": 1}, \"6\": {\"59\": 2, \"6\": 10}, \"40\": {\"40\": 12}, \"59\": {\"59\": 12}, \"122\": {\"84\": 2, \"122\": 5, \"87\": 1, \"126\": 2, \"25\": 2}, \"24\": {\"24\": 11, \"70\": 1}, \"54\": {\"98\": 2, \"54\": 8, \"5\": 1, \"56\": 1}, \"39\": {\"39\": 11, \"43\": 1}, \"16\": {\"16\": 8, \"26\": 2, \"69\": 1, \"18\": 1}, \"106\": {\"106\": 10, \"122\": 1, \"127\": 1}, \"15\": {\"15\": 12}, \"66\": {\"99\": 2, \"66\": 8, \"20\": 2}, \"116\": {\"34\": 1, \"120\": 1, \"57\": 1, \"102\": 3, \"45\": 1, \"22\": 1, \"116\": 1, \"6\": 1, \"67\": 1, \"25\": 1}, \"49\": {\"49\": 5, \"71\": 1, \"9\": 1, \"105\": 1, \"40\": 1, \"52\": 1, \"127\": 2}, \"120\": {\"120\": 5, \"50\": 2, \"2\": 2, \"65\": 1, \"117\": 1, \"10\": 1}, \"115\": {\"48\": 1, \"115\": 11}, \"9\": {\"40\": 2, \"9\": 4, \"94\": 1, \"56\": 1, \"35\": 2}, \"96\": {\"24\": 1, \"96\": 5, \"43\": 4}, \"26\": {\"26\": 12}, \"74\": {\"74\": 10}, \"43\": {\"43\": 6, \"8\": 1, \"87\": 2, \"21\": 1, \"44\": 1, \"93\": 1}, \"128\": {\"38\": 1, \"50\": 1, \"128\": 9, \"114\": 1}, \"52\": {\"52\": 11, \"112\": 1}, \"28\": {\"66\": 2, \"23\": 1, \"105\": 1, \"20\": 1, \"21\": 1, \"25\": 1, \"28\": 2, \"37\": 2, \"90\": 1}, \"61\": {\"76\": 1, \"33\": 1, \"59\": 1, \"61\": 3, \"45\": 2, \"121\": 1, \"125\": 1, \"38\": 1, \"50\": 1}, \"105\": {\"105\": 9, \"114\": 1, \"27\": 1, \"81\": 1}, \"23\": {\"23\": 5, \"70\": 1, \"43\": 1, \"122\": 1, \"25\": 1, \"96\": 1}}, \"W_A_3\": {\"76\": {\"76\": 7, \"29\": 1, \"45\": 1, \"90\": 1, \"14\": 1, \"100\": 1}, \"6\": {\"6\": 10}, \"108\": {\"108\": 12}, \"29\": {\"29\": 10, \"32\": 2}, \"83\": {\"83\": 12}, \"18\": {\"18\": 12}, \"54\": {\"54\": 8, \"39\": 1, \"75\": 1, \"111\": 1, \"117\": 1}, \"15\": {\"94\": 1, \"15\": 11}, \"100\": {\"100\": 7, \"29\": 1, \"107\": 2, \"74\": 1, \"129\": 1}, \"90\": {\"90\": 11, \"20\": 1}, \"26\": {\"26\": 10, \"39\": 1, \"11\": 1}, \"115\": {\"83\": 1, \"115\": 7, \"104\": 1, \"20\": 1, \"45\": 2}, \"94\": {\"15\": 2, \"94\": 9, \"106\": 1}, \"46\": {\"100\": 1, \"90\": 1, \"46\": 6, \"9\": 3, \"65\": 1}, \"121\": {\"121\": 4, \"34\": 1, \"76\": 1, \"32\": 1, \"35\": 1, \"89\": 2}, \"109\": {\"109\": 10, \"126\": 1, \"10\": 1}, \"101\": {\"8\": 1, \"101\": 7, \"49\": 1, \"106\": 1, \"7\": 2}, \"99\": {\"99\": 12}, \"8\": {\"36\": 2, \"8\": 10}, \"102\": {\"102\": 11, \"45\": 1}, \"122\": {\"122\": 8, \"87\": 1, \"0\": 2, \"10\": 1}, \"36\": {\"36\": 8, \"30\": 3, \"70\": 1}, \"113\": {\"113\": 7, \"109\": 2, \"126\": 1, \"11\": 2}, \"123\": {\"123\": 12}, \"120\": {\"120\": 6, \"20\": 1, \"57\": 2, \"64\": 1, \"76\": 1, \"15\": 1}, \"125\": {\"125\": 9, \"59\": 1}, \"89\": {\"31\": 1, \"89\": 5, \"61\": 3, \"60\": 1, \"53\": 1, \"117\": 1}, \"9\": {\"9\": 9, \"35\": 1, \"46\": 1, \"3\": 1}, \"31\": {\"9\": 1, \"62\": 1, \"31\": 2, \"60\": 1, \"69\": 2, \"96\": 2, \"20\": 1, \"92\": 1, \"100\": 1}, \"62\": {\"62\": 10, \"16\": 2}, \"49\": {\"7\": 2, \"49\": 6, \"0\": 2, \"93\": 2}, \"23\": {\"18\": 1, \"23\": 4, \"49\": 2, \"26\": 1, \"36\": 1, \"30\": 1, \"69\": 1, \"16\": 1}, \"55\": {\"55\": 9, \"95\": 1, \"50\": 1, \"9\": 1}, \"128\": {\"71\": 1, \"29\": 1, \"128\": 6, \"107\": 1, \"105\": 1, \"32\": 1, \"99\": 1}, \"71\": {\"71\": 5, \"127\": 5, \"3\": 1, \"97\": 1}, \"51\": {\"51\": 10}, \"7\": {\"7\": 12}, \"117\": {\"29\": 2, \"117\": 7, \"81\": 1, \"92\": 1, \"38\": 1}, \"28\": {\"51\": 2, \"28\": 1, \"73\": 2, \"39\": 1, \"90\": 2, \"32\": 2, \"35\": 1, \"121\": 1}, \"127\": {\"127\": 10, \"71\": 2}, \"57\": {\"29\": 2, \"32\": 1, \"99\": 1, \"57\": 6, \"115\": 1, \"53\": 1}, \"78\": {\"78\": 11, \"71\": 1}, \"87\": {\"122\": 2, \"87\": 7, \"118\": 1, \"39\": 1, \"78\": 1}, \"40\": {\"40\": 9, \"114\": 1, \"1\": 1, \"107\": 1}, \"81\": {\"81\": 9, \"110\": 1, \"84\": 1, \"44\": 1}, \"2\": {\"35\": 1, \"2\": 6, \"17\": 2, \"50\": 1, \"48\": 1, \"56\": 1}, \"58\": {\"68\": 2, \"58\": 7, \"54\": 2, \"34\": 1}, \"68\": {\"68\": 11, \"88\": 1}, \"20\": {\"99\": 2, \"90\": 1, \"20\": 5, \"44\": 2, \"32\": 1, \"46\": 1}, \"35\": {\"99\": 2, \"35\": 6, \"47\": 1, \"0\": 1, \"98\": 1, \"101\": 1}, \"96\": {\"96\": 10, \"70\": 1, \"84\": 1}, \"84\": {\"84\": 9, \"93\": 2, \"11\": 1}, \"88\": {\"88\": 9, \"21\": 1, \"117\": 1, \"67\": 1}, \"114\": {\"40\": 2, \"114\": 10}, \"103\": {\"103\": 6, \"5\": 1, \"77\": 1, \"128\": 2, \"9\": 2}, \"5\": {\"5\": 10, \"85\": 1, \"77\": 1}, \"85\": {\"85\": 11, \"41\": 1}, \"65\": {\"65\": 6, \"98\": 3, \"19\": 2, \"83\": 1}, \"13\": {\"13\": 6, \"119\": 1, \"67\": 2, \"123\": 1, \"129\": 2}, \"64\": {\"114\": 2, \"64\": 5, \"37\": 1, \"120\": 2, \"13\": 1, \"31\": 1}, \"119\": {\"119\": 11, \"17\": 1}, \"116\": {\"119\": 1, \"116\": 3, \"45\": 2, \"82\": 2}, \"112\": {\"119\": 1, \"112\": 6, \"77\": 2, \"21\": 1, \"73\": 1, \"66\": 1}, \"86\": {\"68\": 1, \"86\": 9, \"41\": 1, \"5\": 1}, \"98\": {\"98\": 12}, \"69\": {\"69\": 12}, \"67\": {\"67\": 11, \"39\": 1}, \"32\": {\"57\": 1, \"32\": 8, \"7\": 1, \"44\": 1, \"128\": 1}, \"91\": {\"5\": 1, \"91\": 7, \"98\": 1, \"65\": 1, \"46\": 2}, \"17\": {\"57\": 2, \"17\": 5, \"13\": 2, \"67\": 1, \"85\": 1, \"21\": 1}, \"37\": {\"37\": 11, \"98\": 1}, \"95\": {\"95\": 10, \"1\": 1, \"3\": 1}, \"59\": {\"59\": 12}, \"34\": {\"95\": 1, \"1\": 1, \"34\": 5, \"44\": 2, \"105\": 1, \"75\": 1, \"38\": 1}, \"52\": {\"52\": 7, \"34\": 1, \"25\": 1, \"75\": 1, \"58\": 1, \"77\": 1}, \"1\": {\"1\": 10, \"114\": 1, \"40\": 1}, \"16\": {\"16\": 9, \"93\": 1, \"14\": 1, \"126\": 1}, \"79\": {\"79\": 10, \"119\": 1, \"65\": 1}, \"53\": {\"53\": 6, \"11\": 1, \"74\": 3, \"62\": 1, \"100\": 1}, \"106\": {\"106\": 12}, \"33\": {\"33\": 12}, \"104\": {\"104\": 9, \"86\": 1, \"50\": 1, \"103\": 1}, \"14\": {\"16\": 1, \"14\": 8, \"69\": 2, \"101\": 1}, \"11\": {\"11\": 7, \"122\": 1, \"87\": 1, \"110\": 1}, \"0\": {\"0\": 12}, \"25\": {\"25\": 12}, \"22\": {\"22\": 4, \"45\": 1, \"112\": 1, \"17\": 1, \"47\": 1, \"82\": 1, \"29\": 1, \"76\": 1, \"89\": 1}, \"75\": {\"0\": 1, \"75\": 10, \"106\": 1}, \"105\": {\"105\": 7, \"1\": 2, \"84\": 1, \"127\": 1, \"10\": 1}, \"45\": {\"45\": 11, \"19\": 1}, \"92\": {\"92\": 10, \"88\": 1, \"126\": 1}, \"39\": {\"39\": 12}, \"93\": {\"93\": 12}, \"97\": {\"97\": 8, \"0\": 1, \"12\": 1, \"36\": 1, \"24\": 1}, \"73\": {\"73\": 8, \"112\": 1, \"77\": 2, \"37\": 1}, \"30\": {\"30\": 11, \"27\": 1}, \"38\": {\"38\": 9, \"75\": 1, \"32\": 2}, \"3\": {\"3\": 12}, \"110\": {\"60\": 1, \"110\": 9, \"8\": 2}, \"60\": {\"60\": 8, \"110\": 1, \"108\": 1, \"118\": 1, \"8\": 1}, \"111\": {\"111\": 12}, \"41\": {\"41\": 4, \"76\": 1, \"66\": 2, \"50\": 1, \"86\": 2, \"103\": 1, \"82\": 1}, \"21\": {\"21\": 12}, \"129\": {\"129\": 8, \"100\": 2, \"50\": 1, \"46\": 1}, \"70\": {\"70\": 11, \"88\": 1}, \"66\": {\"66\": 7, \"100\": 1, \"56\": 3, \"9\": 1}, \"107\": {\"107\": 10, \"100\": 1, \"40\": 1}, \"74\": {\"74\": 12}, \"48\": {\"55\": 1, \"102\": 1, \"31\": 1, \"61\": 1, \"80\": 2, \"48\": 3, \"103\": 1, \"98\": 1, \"100\": 1}, \"50\": {\"100\": 1, \"50\": 9, \"102\": 1, \"55\": 1}, \"44\": {\"44\": 11, \"29\": 1}, \"42\": {\"42\": 8, \"75\": 1, \"91\": 2, \"41\": 1}, \"80\": {\"80\": 10}, \"72\": {\"72\": 10, \"56\": 1, \"31\": 1}, \"43\": {\"110\": 1, \"43\": 10, \"122\": 1}, \"77\": {\"77\": 11, \"65\": 1}, \"61\": {\"61\": 10, \"90\": 1, \"96\": 1}, \"126\": {\"126\": 8, \"21\": 2, \"109\": 1, \"27\": 1}, \"27\": {\"27\": 10}, \"24\": {\"27\": 2, \"24\": 9, \"10\": 1}, \"47\": {\"47\": 7, \"95\": 3, \"35\": 1, \"72\": 1}, \"19\": {\"38\": 2, \"20\": 2, \"56\": 2, \"19\": 2, \"53\": 1, \"77\": 2, \"90\": 1}, \"4\": {\"4\": 7, \"66\": 2, \"41\": 1}, \"82\": {\"55\": 1, \"67\": 1, \"82\": 8, \"9\": 1, \"89\": 1}, \"12\": {\"12\": 12}, \"10\": {\"10\": 10, \"24\": 2}, \"63\": {\"63\": 12}, \"56\": {\"56\": 7, \"19\": 1, \"103\": 1, \"34\": 1, \"66\": 1, \"114\": 1}, \"124\": {\"48\": 1, \"124\": 8, \"103\": 1}, \"118\": {\"118\": 7, \"109\": 1, \"87\": 2}}, \"C_A_1\": {\"27\": {\"27\": 10}, \"2\": {\"2\": 12}, \"33\": {\"33\": 12}, \"45\": {\"45\": 12}, \"38\": {\"38\": 10, \"36\": 2}, \"4\": {\"4\": 12}, \"31\": {\"31\": 12}, \"55\": {\"55\": 12}, \"32\": {\"55\": 1, \"32\": 11}, \"57\": {\"57\": 12}, \"14\": {\"30\": 2, \"14\": 9, \"8\": 1}, \"16\": {\"16\": 10}, \"34\": {\"34\": 8}, \"56\": {\"56\": 12}, \"24\": {\"24\": 10}, \"30\": {\"30\": 10}, \"26\": {\"47\": 1, \"26\": 9, \"25\": 1, \"34\": 1}, \"15\": {\"15\": 8}, \"18\": {\"18\": 12}, \"25\": {\"25\": 9, \"18\": 1}, \"54\": {\"54\": 10}, \"39\": {\"39\": 12}, \"12\": {\"12\": 12}, \"41\": {\"41\": 12}, \"52\": {\"52\": 7, \"21\": 2, \"22\": 1}, \"21\": {\"21\": 12}, \"47\": {\"47\": 11, \"29\": 1}, \"49\": {\"49\": 12}, \"19\": {\"32\": 2, \"19\": 9, \"43\": 1}, \"23\": {\"23\": 12}, \"37\": {\"37\": 11, \"9\": 1}, \"44\": {\"45\": 1, \"44\": 7, \"0\": 2}, \"22\": {\"22\": 9, \"52\": 2, \"21\": 1}, \"35\": {\"35\": 10, \"33\": 1, \"19\": 1}, \"7\": {\"7\": 12}, \"40\": {\"40\": 7, \"44\": 1}, \"6\": {\"6\": 11, \"46\": 1}, \"13\": {\"13\": 12}, \"11\": {\"11\": 12}, \"20\": {\"20\": 11, \"3\": 1}, \"8\": {\"8\": 6}, \"42\": {\"42\": 8}, \"29\": {\"29\": 8, \"45\": 1, \"40\": 1}, \"28\": {\"28\": 10}, \"17\": {\"17\": 12}, \"10\": {\"10\": 10}, \"46\": {\"46\": 11, \"6\": 1}, \"36\": {\"36\": 12}, \"43\": {\"43\": 10}, \"51\": {\"51\": 10}, \"3\": {\"3\": 9, \"56\": 1}, \"9\": {\"9\": 12}, \"50\": {\"50\": 12}, \"48\": {\"48\": 10}, \"0\": {\"0\": 12}, \"1\": {\"1\": 11, \"57\": 1}, \"5\": {\"5\": 10}, \"53\": {\"53\": 10}}, \"C_A_4\": {\"32\": {\"32\": 9, \"57\": 1}, \"2\": {\"2\": 12}, \"41\": {\"41\": 11, \"36\": 1}, \"11\": {\"11\": 12}, \"57\": {\"57\": 10}, \"6\": {\"6\": 10, \"3\": 2}, \"23\": {\"23\": 12}, \"52\": {\"52\": 12}, \"38\": {\"38\": 10}, \"50\": {\"6\": 2, \"50\": 6, \"3\": 1, \"45\": 2, \"12\": 1}, \"55\": {\"55\": 5, \"49\": 2, \"41\": 2, \"26\": 1, \"33\": 2}, \"46\": {\"46\": 10, \"5\": 1, \"0\": 1}, \"37\": {\"37\": 12}, \"20\": {\"20\": 12}, \"49\": {\"49\": 11, \"55\": 1}, \"45\": {\"45\": 11, \"50\": 1}, \"54\": {\"54\": 12}, \"3\": {\"45\": 1, \"3\": 10, \"6\": 1}, \"13\": {\"13\": 12}, \"18\": {\"18\": 12}, \"21\": {\"21\": 12}, \"43\": {\"43\": 12}, \"47\": {\"47\": 11, \"52\": 1}, \"4\": {\"4\": 12}, \"12\": {\"12\": 8}, \"9\": {\"9\": 10, \"30\": 1, \"4\": 1}, \"7\": {\"38\": 2, \"32\": 1, \"7\": 7}, \"56\": {\"56\": 9, \"0\": 2, \"22\": 1}, \"28\": {\"28\": 8, \"34\": 2}, \"44\": {\"44\": 12}, \"24\": {\"24\": 12}, \"33\": {\"33\": 10}, \"14\": {\"14\": 7, \"13\": 1, \"57\": 1, \"0\": 2, \"29\": 1}, \"25\": {\"25\": 12}, \"26\": {\"41\": 3, \"26\": 9}, \"5\": {\"6\": 1, \"5\": 10, \"46\": 1}, \"17\": {\"17\": 8, \"36\": 1, \"33\": 1}, \"31\": {\"31\": 12}, \"8\": {\"8\": 8}, \"35\": {\"55\": 1, \"35\": 4, \"33\": 1}, \"15\": {\"15\": 6}, \"19\": {\"19\": 10, \"26\": 1, \"33\": 1}, \"22\": {\"22\": 10}, \"34\": {\"34\": 11, \"17\": 1}, \"36\": {\"36\": 12}, \"51\": {\"51\": 12}, \"10\": {\"10\": 10}, \"0\": {\"0\": 12}, \"53\": {\"53\": 10}, \"29\": {\"29\": 9, \"9\": 1, \"4\": 1, \"14\": 1}, \"27\": {\"27\": 12}, \"39\": {\"39\": 10}, \"30\": {\"30\": 12}, \"48\": {\"9\": 1, \"48\": 8, \"3\": 1}, \"42\": {\"42\": 6, \"34\": 2}, \"16\": {\"16\": 10}, \"1\": {\"1\": 10}, \"40\": {\"40\": 8}}, \"C_A_3\": {\"3\": {\"44\": 1, \"21\": 1, \"3\": 4, \"50\": 2}, \"21\": {\"21\": 12}, \"7\": {\"7\": 11, \"14\": 1}, \"30\": {\"30\": 12}, \"54\": {\"8\": 2, \"54\": 4, \"0\": 1, \"51\": 1, \"2\": 2, \"36\": 2}, \"6\": {\"3\": 3, \"6\": 8, \"45\": 1}, \"17\": {\"17\": 10}, \"8\": {\"8\": 12}, \"9\": {\"9\": 8, \"27\": 2, \"57\": 2}, \"19\": {\"19\": 10, \"17\": 1, \"35\": 1}, \"44\": {\"44\": 6}, \"25\": {\"19\": 1, \"25\": 10, \"18\": 1}, \"15\": {\"15\": 12}, \"1\": {\"1\": 10}, \"13\": {\"13\": 12}, \"40\": {\"44\": 1, \"3\": 1, \"40\": 7, \"50\": 1}, \"43\": {\"43\": 10}, \"38\": {\"38\": 12}, \"4\": {\"1\": 1, \"4\": 9, \"9\": 1, \"40\": 1}, \"41\": {\"41\": 12}, \"27\": {\"27\": 11, \"33\": 1}, \"50\": {\"50\": 10, \"3\": 1, \"46\": 1}, \"55\": {\"55\": 10, \"34\": 1, \"7\": 1}, \"20\": {\"20\": 12}, \"37\": {\"37\": 12}, \"53\": {\"53\": 8}, \"0\": {\"0\": 12}, \"34\": {\"34\": 12}, \"16\": {\"16\": 12}, \"12\": {\"12\": 10}, \"46\": {\"46\": 9, \"45\": 1, \"6\": 2}, \"32\": {\"32\": 12}, \"33\": {\"33\": 10, \"36\": 1, \"29\": 1}, \"26\": {\"26\": 10}, \"11\": {\"11\": 12}, \"45\": {\"45\": 7, \"12\": 1, \"6\": 2, \"40\": 1, \"3\": 1}, \"2\": {\"2\": 10}, \"10\": {\"10\": 10}, \"14\": {\"29\": 1, \"14\": 4, \"56\": 2, \"4\": 1, \"0\": 1, \"22\": 1}, \"24\": {\"24\": 12}, \"22\": {\"22\": 8}, \"52\": {\"52\": 11, \"41\": 1}, \"29\": {\"29\": 9, \"47\": 1, \"4\": 1, \"9\": 1}, \"51\": {\"51\": 12}, \"28\": {\"28\": 12}, \"23\": {\"23\": 12}, \"48\": {\"48\": 10}, \"35\": {\"35\": 12}, \"56\": {\"56\": 10}, \"18\": {\"18\": 12}, \"5\": {\"5\": 11, \"46\": 1}, \"42\": {\"42\": 10}, \"49\": {\"14\": 1, \"49\": 9}, \"36\": {\"36\": 10}, \"39\": {\"39\": 10}, \"57\": {\"57\": 8}, \"47\": {\"47\": 8, \"41\": 1, \"45\": 1}, \"31\": {\"31\": 10}}}, \"per_domain_accuracy\": {\"ORACLE.run1_8\": {\"accuracy\": 0.8932291666666666, \"source?\": true}, \"ORACLE.run1_38\": {\"accuracy\": 0.8953125, \"source?\": true}, \"ORACLE.run1_26\": {\"accuracy\": 0.8244791666666667, \"source?\": true}, \"ORACLE.run1_20\": {\"accuracy\": 0.8895833333333333, \"source?\": true}, \"ORACLE.run1_50\": {\"accuracy\": 0.9239583333333333, \"source?\": true}, \"ORACLE.run1_32\": {\"accuracy\": 0.8721354166666667, \"source?\": true}, \"ORACLE.run1_44\": {\"accuracy\": 0.8486979166666667, \"source?\": true}, \"ORACLE.run1_14\": {\"accuracy\": 0.8815104166666666, \"source?\": true}, \"W_A_2\": {\"accuracy\": 0.694813829787234, \"source?\": false}, \"C_A_2\": {\"accuracy\": 0.871875, \"source?\": false}, \"W_A_4\": {\"accuracy\": 0.7154947916666666, \"source?\": false}, \"C_A_5\": {\"accuracy\": 0.9171875, \"source?\": false}, \"W_A_1\": {\"accuracy\": 0.7532552083333334, \"source?\": false}, \"W_A_3\": {\"accuracy\": 0.7311197916666666, \"source?\": false}, \"C_A_1\": {\"accuracy\": 0.946875, \"source?\": false}, \"C_A_4\": {\"accuracy\": 0.909375, \"source?\": false}, \"C_A_3\": {\"accuracy\": 0.90625, \"source?\": false}}}, \"history\": {\"epoch_indices\": [1, 2, 3, 4, 5, 6, 7], \"train_label_loss\": [0.4069061167552025, 6.211653998564552, 0.35346420946076423, 0.35063804124670456, 0.3235027444174713, 0.2967009495774705, 0.2767226946904668], \"source_val_label_loss\": [2140.353271484375, 0.3607279658317566, 0.3550470471382141, 0.3226664066314697, 0.3276131749153137, 0.29513582587242126, 0.27213558554649353], \"target_val_label_loss\": [427199.34375, 5724.42236328125, 1678.796630859375, 6745.4912109375, 2231.30126953125, 3567.99169921875, 4791.55029296875], \"source_val_acc_label\": [0.63466796875, 0.8783203125, 0.87861328125, 0.8953125, 0.884375, 0.898828125, 0.9054036458333333], \"target_val_acc_label\": [0.6243556701030928, 0.4741194158075601, 0.7879080756013745, 0.7511812714776632, 0.7746993127147767, 0.7581615120274914, 0.7506443298969072]}, \"dataset_metrics\": {\"source\": {\"train\": {\"n_unique_x\": 179200, \"n_unique_y\": 16, \"n_batch/episode\": 6720}, \"val\": {\"n_unique_x\": 38400, \"n_unique_y\": 16, \"n_batch/episode\": 960}, \"test\": {\"n_unique_x\": 38400, \"n_unique_y\": 16, \"n_batch/episode\": 960}}, \"target\": {\"train\": {\"n_unique_x\": 56700, \"n_unique_y\": 130, \"n_batch/episode\": 2081}, \"val\": {\"n_unique_x\": 12122, \"n_unique_y\": 130, \"n_batch/episode\": 291}, \"test\": {\"n_unique_x\": 12122, \"n_unique_y\": 130, \"n_batch/episode\": 291}}}}'"
      ]
     },
     "execution_count": 29,
     "metadata": {},
     "output_type": "execute_result"
    }
   ],
   "source": [
    "json.dumps(experiment)"
   ]
  }
 ],
 "metadata": {
  "celltoolbar": "Tags",
  "kernelspec": {
   "display_name": "Python 3 (ipykernel)",
   "language": "python",
   "name": "python3"
  },
  "language_info": {
   "codemirror_mode": {
    "name": "ipython",
    "version": 3
   },
   "file_extension": ".py",
   "mimetype": "text/x-python",
   "name": "python",
   "nbconvert_exporter": "python",
   "pygments_lexer": "ipython3",
   "version": "3.8.10"
  },
  "papermill": {
   "default_parameters": {},
   "duration": 1198.480105,
   "end_time": "2022-03-18T18:37:42.942911",
   "environment_variables": {},
   "exception": null,
   "input_path": "/mnt/wd500GB/CSC500/csc500-main/csc500-notebooks/templates/tl_ptn_template.ipynb",
   "output_path": "trial.ipynb",
   "parameters": {
    "parameters": {
     "BEST_MODEL_PATH": "./best_model.pth",
     "NUM_LOGS_PER_EPOCH": 10,
     "criteria_for_best": "target_loss",
     "dataset_seed": 154325,
     "datasets": [
      {
       "domain_prefix": "C_A_",
       "domains": [
        1,
        2,
        3,
        4,
        5
       ],
       "episode_transforms": [],
       "labels": [
        "1-10.",
        "1-11.",
        "1-15.",
        "1-16.",
        "1-17.",
        "1-18.",
        "1-19.",
        "10-4.",
        "10-7.",
        "11-1.",
        "11-14.",
        "11-17.",
        "11-20.",
        "11-7.",
        "13-20.",
        "13-8.",
        "14-10.",
        "14-11.",
        "14-14.",
        "14-7.",
        "15-1.",
        "15-20.",
        "16-1.",
        "16-16.",
        "17-10.",
        "17-11.",
        "17-2.",
        "19-1.",
        "19-16.",
        "19-19.",
        "19-20.",
        "19-3.",
        "2-10.",
        "2-11.",
        "2-17.",
        "2-18.",
        "2-20.",
        "2-3.",
        "2-4.",
        "2-5.",
        "2-6.",
        "2-7.",
        "2-8.",
        "3-13.",
        "3-18.",
        "3-3.",
        "4-1.",
        "4-10.",
        "4-11.",
        "4-19.",
        "5-5.",
        "6-15.",
        "7-10.",
        "7-14.",
        "8-18.",
        "8-20.",
        "8-3.",
        "8-8."
       ],
       "num_examples_per_domain_per_label": 100,
       "pickle_path": "/mnt/wd500GB/CSC500/csc500-main/datasets/cores.stratified_ds.2022A.pkl",
       "source_or_target_dataset": "target",
       "x_transforms": [
        "take_200"
       ]
      },
      {
       "domain_prefix": "W_A_",
       "domains": [
        1,
        2,
        3,
        4
       ],
       "episode_transforms": [],
       "labels": [
        "1-10",
        "1-12",
        "1-14",
        "1-16",
        "1-18",
        "1-19",
        "1-8",
        "10-11",
        "10-17",
        "10-4",
        "10-7",
        "11-1",
        "11-10",
        "11-19",
        "11-20",
        "11-4",
        "11-7",
        "12-19",
        "12-20",
        "12-7",
        "13-14",
        "13-18",
        "13-19",
        "13-20",
        "13-3",
        "13-7",
        "14-10",
        "14-11",
        "14-12",
        "14-13",
        "14-14",
        "14-19",
        "14-20",
        "14-7",
        "14-8",
        "14-9",
        "15-1",
        "15-19",
        "15-6",
        "16-1",
        "16-16",
        "16-19",
        "16-20",
        "17-10",
        "17-11",
        "18-1",
        "18-10",
        "18-11",
        "18-12",
        "18-13",
        "18-14",
        "18-15",
        "18-16",
        "18-17",
        "18-19",
        "18-2",
        "18-20",
        "18-4",
        "18-5",
        "18-7",
        "18-8",
        "18-9",
        "19-1",
        "19-10",
        "19-11",
        "19-12",
        "19-13",
        "19-14",
        "19-15",
        "19-19",
        "19-2",
        "19-20",
        "19-3",
        "19-4",
        "19-6",
        "19-7",
        "19-8",
        "19-9",
        "2-1",
        "2-13",
        "2-15",
        "2-3",
        "2-4",
        "2-5",
        "2-6",
        "2-7",
        "2-8",
        "20-1",
        "20-12",
        "20-14",
        "20-15",
        "20-16",
        "20-18",
        "20-19",
        "20-20",
        "20-3",
        "20-4",
        "20-5",
        "20-7",
        "20-8",
        "3-1",
        "3-13",
        "3-18",
        "3-2",
        "3-8",
        "4-1",
        "4-10",
        "4-11",
        "5-1",
        "5-5",
        "6-1",
        "6-15",
        "6-6",
        "7-10",
        "7-11",
        "7-12",
        "7-13",
        "7-14",
        "7-7",
        "7-8",
        "7-9",
        "8-1",
        "8-13",
        "8-14",
        "8-18",
        "8-20",
        "8-3",
        "8-8",
        "9-1",
        "9-7"
       ],
       "num_examples_per_domain_per_label": 100,
       "pickle_path": "/mnt/wd500GB/CSC500/csc500-main/datasets/wisig.node3-19.stratified_ds.2022A.pkl",
       "source_or_target_dataset": "target",
       "x_transforms": [
        "take_200"
       ]
      },
      {
       "domain_prefix": "ORACLE.run1_",
       "domains": [
        32,
        38,
        8,
        44,
        14,
        50,
        20,
        26
       ],
       "episode_transforms": [],
       "labels": [
        "3123D52",
        "3123D65",
        "3123D79",
        "3123D80",
        "3123D54",
        "3123D70",
        "3123D7B",
        "3123D89",
        "3123D58",
        "3123D76",
        "3123D7D",
        "3123EFE",
        "3123D64",
        "3123D78",
        "3123D7E",
        "3124E4A"
       ],
       "num_examples_per_domain_per_label": 2000,
       "pickle_path": "/mnt/wd500GB/CSC500/csc500-main/datasets/oracle.Run1_framed_2000Examples_stratified_ds.2022A.pkl",
       "source_or_target_dataset": "source",
       "x_transforms": [
        "take_200",
        "resample_20Msps_to_25Msps"
       ]
      }
     ],
     "device": "cuda",
     "experiment_name": "tl_3A:oracle.run1.framed -> cores+wisig",
     "lr": 0.001,
     "n_epoch": 50,
     "n_query": 2,
     "n_shot": 3,
     "n_way": 16,
     "patience": 3,
     "seed": 154325,
     "test_k_factor": 2,
     "torch_default_dtype": "torch.float32",
     "train_k_factor": 3,
     "val_k_factor": 2,
     "x_net": [
      {
       "class": "nnReshape",
       "kargs": {
        "shape": [
         -1,
         1,
         2,
         200
        ]
       }
      },
      {
       "class": "Conv2d",
       "kargs": {
        "bias": false,
        "in_channels": 1,
        "kernel_size": [
         1,
         7
        ],
        "out_channels": 256,
        "padding": [
         0,
         3
        ]
       }
      },
      {
       "class": "ReLU",
       "kargs": {
        "inplace": true
       }
      },
      {
       "class": "BatchNorm2d",
       "kargs": {
        "num_features": 256
       }
      },
      {
       "class": "Conv2d",
       "kargs": {
        "bias": true,
        "in_channels": 256,
        "kernel_size": [
         2,
         7
        ],
        "out_channels": 80,
        "padding": [
         0,
         3
        ]
       }
      },
      {
       "class": "ReLU",
       "kargs": {
        "inplace": true
       }
      },
      {
       "class": "BatchNorm2d",
       "kargs": {
        "num_features": 80
       }
      },
      {
       "class": "Flatten",
       "kargs": {}
      },
      {
       "class": "Linear",
       "kargs": {
        "in_features": 16000,
        "out_features": 256
       }
      },
      {
       "class": "ReLU",
       "kargs": {
        "inplace": true
       }
      },
      {
       "class": "BatchNorm1d",
       "kargs": {
        "num_features": 256
       }
      },
      {
       "class": "Linear",
       "kargs": {
        "in_features": 256,
        "out_features": 256
       }
      }
     ],
     "x_shape": [
      2,
      200
     ]
    }
   },
   "start_time": "2022-03-18T18:17:44.462806",
   "version": "2.3.4"
  }
 },
 "nbformat": 4,
 "nbformat_minor": 5
}