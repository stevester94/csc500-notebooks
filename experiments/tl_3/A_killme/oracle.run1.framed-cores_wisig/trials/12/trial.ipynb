{
 "cells": [
  {
   "cell_type": "markdown",
   "id": "9fea5f46",
   "metadata": {
    "papermill": {
     "duration": 0.017121,
     "end_time": "2022-03-18T20:07:57.823731",
     "exception": false,
     "start_time": "2022-03-18T20:07:57.806610",
     "status": "completed"
    },
    "tags": []
   },
   "source": [
    "# Transfer Learning Template"
   ]
  },
  {
   "cell_type": "code",
   "execution_count": 1,
   "id": "0902182a",
   "metadata": {
    "execution": {
     "iopub.execute_input": "2022-03-18T20:07:57.862785Z",
     "iopub.status.busy": "2022-03-18T20:07:57.856121Z",
     "iopub.status.idle": "2022-03-18T20:07:58.774701Z",
     "shell.execute_reply": "2022-03-18T20:07:58.774407Z"
    },
    "papermill": {
     "duration": 0.938392,
     "end_time": "2022-03-18T20:07:58.774769",
     "exception": false,
     "start_time": "2022-03-18T20:07:57.836377",
     "status": "completed"
    },
    "tags": []
   },
   "outputs": [],
   "source": [
    "%load_ext autoreload\n",
    "%autoreload 2\n",
    "%matplotlib inline\n",
    "\n",
    "    \n",
    "import os, json, sys, time, random\n",
    "import numpy as np\n",
    "import torch\n",
    "from torch.optim import Adam\n",
    "from  easydict import EasyDict\n",
    "import matplotlib.pyplot as plt\n",
    "\n",
    "from steves_models.steves_ptn import Steves_Prototypical_Network\n",
    "\n",
    "from steves_utils.lazy_iterable_wrapper import Lazy_Iterable_Wrapper\n",
    "from steves_utils.iterable_aggregator import Iterable_Aggregator\n",
    "from steves_utils.ptn_train_eval_test_jig import  PTN_Train_Eval_Test_Jig\n",
    "from steves_utils.torch_sequential_builder import build_sequential\n",
    "from steves_utils.torch_utils import get_dataset_metrics, ptn_confusion_by_domain_over_dataloader\n",
    "from steves_utils.utils_v2 import (per_domain_accuracy_from_confusion, get_datasets_base_path)\n",
    "from steves_utils.PTN.utils import independent_accuracy_assesment\n",
    "\n",
    "from torch.utils.data import DataLoader\n",
    "\n",
    "from steves_utils.stratified_dataset.episodic_accessor import Episodic_Accessor_Factory\n",
    "\n",
    "from steves_utils.ptn_do_report import (\n",
    "    get_loss_curve,\n",
    "    get_results_table,\n",
    "    get_parameters_table,\n",
    "    get_domain_accuracies,\n",
    ")\n",
    "\n",
    "from steves_utils.transforms import get_chained_transform"
   ]
  },
  {
   "cell_type": "markdown",
   "id": "41c840b4",
   "metadata": {
    "papermill": {
     "duration": 0.012672,
     "end_time": "2022-03-18T20:07:58.800614",
     "exception": false,
     "start_time": "2022-03-18T20:07:58.787942",
     "status": "completed"
    },
    "tags": []
   },
   "source": [
    "# Allowed Parameters\n",
    "These are allowed parameters, not defaults\n",
    "Each of these values need to be present in the injected parameters (the notebook will raise an exception if they are not present)\n",
    "\n",
    "Papermill uses the cell tag \"parameters\" to inject the real parameters below this cell.\n",
    "Enable tags to see what I mean"
   ]
  },
  {
   "cell_type": "code",
   "execution_count": 2,
   "id": "fd44eb83",
   "metadata": {
    "execution": {
     "iopub.execute_input": "2022-03-18T20:07:58.827908Z",
     "iopub.status.busy": "2022-03-18T20:07:58.827653Z",
     "iopub.status.idle": "2022-03-18T20:07:58.838273Z",
     "shell.execute_reply": "2022-03-18T20:07:58.838568Z"
    },
    "papermill": {
     "duration": 0.025391,
     "end_time": "2022-03-18T20:07:58.838650",
     "exception": false,
     "start_time": "2022-03-18T20:07:58.813259",
     "status": "completed"
    },
    "tags": []
   },
   "outputs": [],
   "source": [
    "required_parameters = {\n",
    "    \"experiment_name\",\n",
    "    \"lr\",\n",
    "    \"device\",\n",
    "    \"seed\",\n",
    "    \"dataset_seed\",\n",
    "    \"n_shot\",\n",
    "    \"n_query\",\n",
    "    \"n_way\",\n",
    "    \"train_k_factor\",\n",
    "    \"val_k_factor\",\n",
    "    \"test_k_factor\",\n",
    "    \"n_epoch\",\n",
    "    \"patience\",\n",
    "    \"criteria_for_best\",\n",
    "    \"x_net\",\n",
    "    \"datasets\",\n",
    "    \"torch_default_dtype\",\n",
    "    \"NUM_LOGS_PER_EPOCH\",\n",
    "    \"BEST_MODEL_PATH\",\n",
    "    \"x_shape\",\n",
    "}"
   ]
  },
  {
   "cell_type": "code",
   "execution_count": 3,
   "id": "fa3f0049",
   "metadata": {
    "execution": {
     "iopub.execute_input": "2022-03-18T20:07:58.876121Z",
     "iopub.status.busy": "2022-03-18T20:07:58.875848Z",
     "iopub.status.idle": "2022-03-18T20:07:58.888605Z",
     "shell.execute_reply": "2022-03-18T20:07:58.888974Z"
    },
    "papermill": {
     "duration": 0.034401,
     "end_time": "2022-03-18T20:07:58.889077",
     "exception": false,
     "start_time": "2022-03-18T20:07:58.854676",
     "status": "completed"
    },
    "tags": [
     "parameters"
    ]
   },
   "outputs": [],
   "source": [
    "from steves_utils.CORES.utils import (\n",
    "    ALL_NODES,\n",
    "    ALL_NODES_MINIMUM_1000_EXAMPLES,\n",
    "    ALL_DAYS\n",
    ")\n",
    "\n",
    "from steves_utils.ORACLE.utils_v2 import (\n",
    "    ALL_DISTANCES_FEET_NARROWED,\n",
    "    ALL_RUNS,\n",
    "    ALL_SERIAL_NUMBERS,\n",
    ")\n",
    "\n",
    "standalone_parameters = {}\n",
    "standalone_parameters[\"experiment_name\"] = \"STANDALONE PTN\"\n",
    "standalone_parameters[\"lr\"] = 0.001\n",
    "standalone_parameters[\"device\"] = \"cuda\"\n",
    "\n",
    "standalone_parameters[\"seed\"] = 1337\n",
    "standalone_parameters[\"dataset_seed\"] = 1337\n",
    "\n",
    "standalone_parameters[\"n_way\"] = 8\n",
    "standalone_parameters[\"n_shot\"] = 3\n",
    "standalone_parameters[\"n_query\"]  = 2\n",
    "standalone_parameters[\"train_k_factor\"] = 1\n",
    "standalone_parameters[\"val_k_factor\"] = 2\n",
    "standalone_parameters[\"test_k_factor\"] = 2\n",
    "\n",
    "\n",
    "standalone_parameters[\"n_epoch\"] = 50\n",
    "\n",
    "standalone_parameters[\"patience\"] = 10\n",
    "standalone_parameters[\"criteria_for_best\"] = \"source_loss\"\n",
    "\n",
    "standalone_parameters[\"datasets\"] = [\n",
    "    {\n",
    "        \"labels\": ALL_SERIAL_NUMBERS,\n",
    "        \"domains\": ALL_DISTANCES_FEET_NARROWED,\n",
    "        \"num_examples_per_domain_per_label\": 100,\n",
    "        \"pickle_path\": os.path.join(get_datasets_base_path(), \"oracle.Run1_framed_2000Examples_stratified_ds.2022A.pkl\"),\n",
    "        \"source_or_target_dataset\": \"source\",\n",
    "        \"x_transforms\": [\"unit_mag\", \"minus_two\"],\n",
    "        \"episode_transforms\": [],\n",
    "        \"domain_prefix\": \"ORACLE_\"\n",
    "    },\n",
    "    {\n",
    "        \"labels\": ALL_NODES,\n",
    "        \"domains\": ALL_DAYS,\n",
    "        \"num_examples_per_domain_per_label\": 100,\n",
    "        \"pickle_path\": os.path.join(get_datasets_base_path(), \"cores.stratified_ds.2022A.pkl\"),\n",
    "        \"source_or_target_dataset\": \"target\",\n",
    "        \"x_transforms\": [\"unit_power\", \"times_zero\"],\n",
    "        \"episode_transforms\": [],\n",
    "        \"domain_prefix\": \"CORES_\"\n",
    "    }   \n",
    "]\n",
    "\n",
    "standalone_parameters[\"torch_default_dtype\"] = \"torch.float32\" \n",
    "\n",
    "\n",
    "\n",
    "standalone_parameters[\"x_net\"] =     [\n",
    "    {\"class\": \"nnReshape\", \"kargs\": {\"shape\":[-1, 1, 2, 256]}},\n",
    "    {\"class\": \"Conv2d\", \"kargs\": { \"in_channels\":1, \"out_channels\":256, \"kernel_size\":(1,7), \"bias\":False, \"padding\":(0,3), },},\n",
    "    {\"class\": \"ReLU\", \"kargs\": {\"inplace\": True}},\n",
    "    {\"class\": \"BatchNorm2d\", \"kargs\": {\"num_features\":256}},\n",
    "\n",
    "    {\"class\": \"Conv2d\", \"kargs\": { \"in_channels\":256, \"out_channels\":80, \"kernel_size\":(2,7), \"bias\":True, \"padding\":(0,3), },},\n",
    "    {\"class\": \"ReLU\", \"kargs\": {\"inplace\": True}},\n",
    "    {\"class\": \"BatchNorm2d\", \"kargs\": {\"num_features\":80}},\n",
    "    {\"class\": \"Flatten\", \"kargs\": {}},\n",
    "\n",
    "    {\"class\": \"Linear\", \"kargs\": {\"in_features\": 80*256, \"out_features\": 256}}, # 80 units per IQ pair\n",
    "    {\"class\": \"ReLU\", \"kargs\": {\"inplace\": True}},\n",
    "    {\"class\": \"BatchNorm1d\", \"kargs\": {\"num_features\":256}},\n",
    "\n",
    "    {\"class\": \"Linear\", \"kargs\": {\"in_features\": 256, \"out_features\": 256}},\n",
    "]\n",
    "\n",
    "# Parameters relevant to results\n",
    "# These parameters will basically never need to change\n",
    "standalone_parameters[\"NUM_LOGS_PER_EPOCH\"] = 10\n",
    "standalone_parameters[\"BEST_MODEL_PATH\"] = \"./best_model.pth\"\n",
    "\n",
    "\n",
    "\n",
    "\n"
   ]
  },
  {
   "cell_type": "code",
   "execution_count": 4,
   "id": "8eb65c47",
   "metadata": {
    "execution": {
     "iopub.execute_input": "2022-03-18T20:07:58.933498Z",
     "iopub.status.busy": "2022-03-18T20:07:58.926141Z",
     "iopub.status.idle": "2022-03-18T20:07:58.946707Z",
     "shell.execute_reply": "2022-03-18T20:07:58.946317Z"
    },
    "papermill": {
     "duration": 0.04004,
     "end_time": "2022-03-18T20:07:58.946796",
     "exception": false,
     "start_time": "2022-03-18T20:07:58.906756",
     "status": "completed"
    },
    "tags": [
     "injected-parameters"
    ]
   },
   "outputs": [],
   "source": [
    "# Parameters\n",
    "parameters = {\n",
    "    \"experiment_name\": \"tl_3A:oracle.run1.framed -> cores+wisig\",\n",
    "    \"device\": \"cuda\",\n",
    "    \"lr\": 0.001,\n",
    "    \"seed\": 500,\n",
    "    \"dataset_seed\": 500,\n",
    "    \"x_shape\": [2, 200],\n",
    "    \"n_shot\": 3,\n",
    "    \"n_query\": 2,\n",
    "    \"train_k_factor\": 3,\n",
    "    \"val_k_factor\": 2,\n",
    "    \"test_k_factor\": 2,\n",
    "    \"torch_default_dtype\": \"torch.float32\",\n",
    "    \"n_epoch\": 50,\n",
    "    \"patience\": 3,\n",
    "    \"criteria_for_best\": \"target_loss\",\n",
    "    \"x_net\": [\n",
    "        {\"class\": \"nnReshape\", \"kargs\": {\"shape\": [-1, 1, 2, 200]}},\n",
    "        {\n",
    "            \"class\": \"Conv2d\",\n",
    "            \"kargs\": {\n",
    "                \"in_channels\": 1,\n",
    "                \"out_channels\": 256,\n",
    "                \"kernel_size\": [1, 7],\n",
    "                \"bias\": False,\n",
    "                \"padding\": [0, 3],\n",
    "            },\n",
    "        },\n",
    "        {\"class\": \"ReLU\", \"kargs\": {\"inplace\": True}},\n",
    "        {\"class\": \"BatchNorm2d\", \"kargs\": {\"num_features\": 256}},\n",
    "        {\n",
    "            \"class\": \"Conv2d\",\n",
    "            \"kargs\": {\n",
    "                \"in_channels\": 256,\n",
    "                \"out_channels\": 80,\n",
    "                \"kernel_size\": [2, 7],\n",
    "                \"bias\": True,\n",
    "                \"padding\": [0, 3],\n",
    "            },\n",
    "        },\n",
    "        {\"class\": \"ReLU\", \"kargs\": {\"inplace\": True}},\n",
    "        {\"class\": \"BatchNorm2d\", \"kargs\": {\"num_features\": 80}},\n",
    "        {\"class\": \"Flatten\", \"kargs\": {}},\n",
    "        {\"class\": \"Linear\", \"kargs\": {\"in_features\": 16000, \"out_features\": 256}},\n",
    "        {\"class\": \"ReLU\", \"kargs\": {\"inplace\": True}},\n",
    "        {\"class\": \"BatchNorm1d\", \"kargs\": {\"num_features\": 256}},\n",
    "        {\"class\": \"Linear\", \"kargs\": {\"in_features\": 256, \"out_features\": 256}},\n",
    "    ],\n",
    "    \"NUM_LOGS_PER_EPOCH\": 10,\n",
    "    \"BEST_MODEL_PATH\": \"./best_model.pth\",\n",
    "    \"n_way\": 16,\n",
    "    \"datasets\": [\n",
    "        {\n",
    "            \"labels\": [\n",
    "                \"1-10.\",\n",
    "                \"1-11.\",\n",
    "                \"1-15.\",\n",
    "                \"1-16.\",\n",
    "                \"1-17.\",\n",
    "                \"1-18.\",\n",
    "                \"1-19.\",\n",
    "                \"10-4.\",\n",
    "                \"10-7.\",\n",
    "                \"11-1.\",\n",
    "                \"11-14.\",\n",
    "                \"11-17.\",\n",
    "                \"11-20.\",\n",
    "                \"11-7.\",\n",
    "                \"13-20.\",\n",
    "                \"13-8.\",\n",
    "                \"14-10.\",\n",
    "                \"14-11.\",\n",
    "                \"14-14.\",\n",
    "                \"14-7.\",\n",
    "                \"15-1.\",\n",
    "                \"15-20.\",\n",
    "                \"16-1.\",\n",
    "                \"16-16.\",\n",
    "                \"17-10.\",\n",
    "                \"17-11.\",\n",
    "                \"17-2.\",\n",
    "                \"19-1.\",\n",
    "                \"19-16.\",\n",
    "                \"19-19.\",\n",
    "                \"19-20.\",\n",
    "                \"19-3.\",\n",
    "                \"2-10.\",\n",
    "                \"2-11.\",\n",
    "                \"2-17.\",\n",
    "                \"2-18.\",\n",
    "                \"2-20.\",\n",
    "                \"2-3.\",\n",
    "                \"2-4.\",\n",
    "                \"2-5.\",\n",
    "                \"2-6.\",\n",
    "                \"2-7.\",\n",
    "                \"2-8.\",\n",
    "                \"3-13.\",\n",
    "                \"3-18.\",\n",
    "                \"3-3.\",\n",
    "                \"4-1.\",\n",
    "                \"4-10.\",\n",
    "                \"4-11.\",\n",
    "                \"4-19.\",\n",
    "                \"5-5.\",\n",
    "                \"6-15.\",\n",
    "                \"7-10.\",\n",
    "                \"7-14.\",\n",
    "                \"8-18.\",\n",
    "                \"8-20.\",\n",
    "                \"8-3.\",\n",
    "                \"8-8.\",\n",
    "            ],\n",
    "            \"domains\": [1, 2, 3, 4, 5],\n",
    "            \"num_examples_per_domain_per_label\": 100,\n",
    "            \"pickle_path\": \"/mnt/wd500GB/CSC500/csc500-main/datasets/cores.stratified_ds.2022A.pkl\",\n",
    "            \"source_or_target_dataset\": \"target\",\n",
    "            \"x_transforms\": [\"unit_power\", \"take_200\"],\n",
    "            \"episode_transforms\": [],\n",
    "            \"domain_prefix\": \"C_A_\",\n",
    "        },\n",
    "        {\n",
    "            \"labels\": [\n",
    "                \"1-10\",\n",
    "                \"1-12\",\n",
    "                \"1-14\",\n",
    "                \"1-16\",\n",
    "                \"1-18\",\n",
    "                \"1-19\",\n",
    "                \"1-8\",\n",
    "                \"10-11\",\n",
    "                \"10-17\",\n",
    "                \"10-4\",\n",
    "                \"10-7\",\n",
    "                \"11-1\",\n",
    "                \"11-10\",\n",
    "                \"11-19\",\n",
    "                \"11-20\",\n",
    "                \"11-4\",\n",
    "                \"11-7\",\n",
    "                \"12-19\",\n",
    "                \"12-20\",\n",
    "                \"12-7\",\n",
    "                \"13-14\",\n",
    "                \"13-18\",\n",
    "                \"13-19\",\n",
    "                \"13-20\",\n",
    "                \"13-3\",\n",
    "                \"13-7\",\n",
    "                \"14-10\",\n",
    "                \"14-11\",\n",
    "                \"14-12\",\n",
    "                \"14-13\",\n",
    "                \"14-14\",\n",
    "                \"14-19\",\n",
    "                \"14-20\",\n",
    "                \"14-7\",\n",
    "                \"14-8\",\n",
    "                \"14-9\",\n",
    "                \"15-1\",\n",
    "                \"15-19\",\n",
    "                \"15-6\",\n",
    "                \"16-1\",\n",
    "                \"16-16\",\n",
    "                \"16-19\",\n",
    "                \"16-20\",\n",
    "                \"17-10\",\n",
    "                \"17-11\",\n",
    "                \"18-1\",\n",
    "                \"18-10\",\n",
    "                \"18-11\",\n",
    "                \"18-12\",\n",
    "                \"18-13\",\n",
    "                \"18-14\",\n",
    "                \"18-15\",\n",
    "                \"18-16\",\n",
    "                \"18-17\",\n",
    "                \"18-19\",\n",
    "                \"18-2\",\n",
    "                \"18-20\",\n",
    "                \"18-4\",\n",
    "                \"18-5\",\n",
    "                \"18-7\",\n",
    "                \"18-8\",\n",
    "                \"18-9\",\n",
    "                \"19-1\",\n",
    "                \"19-10\",\n",
    "                \"19-11\",\n",
    "                \"19-12\",\n",
    "                \"19-13\",\n",
    "                \"19-14\",\n",
    "                \"19-15\",\n",
    "                \"19-19\",\n",
    "                \"19-2\",\n",
    "                \"19-20\",\n",
    "                \"19-3\",\n",
    "                \"19-4\",\n",
    "                \"19-6\",\n",
    "                \"19-7\",\n",
    "                \"19-8\",\n",
    "                \"19-9\",\n",
    "                \"2-1\",\n",
    "                \"2-13\",\n",
    "                \"2-15\",\n",
    "                \"2-3\",\n",
    "                \"2-4\",\n",
    "                \"2-5\",\n",
    "                \"2-6\",\n",
    "                \"2-7\",\n",
    "                \"2-8\",\n",
    "                \"20-1\",\n",
    "                \"20-12\",\n",
    "                \"20-14\",\n",
    "                \"20-15\",\n",
    "                \"20-16\",\n",
    "                \"20-18\",\n",
    "                \"20-19\",\n",
    "                \"20-20\",\n",
    "                \"20-3\",\n",
    "                \"20-4\",\n",
    "                \"20-5\",\n",
    "                \"20-7\",\n",
    "                \"20-8\",\n",
    "                \"3-1\",\n",
    "                \"3-13\",\n",
    "                \"3-18\",\n",
    "                \"3-2\",\n",
    "                \"3-8\",\n",
    "                \"4-1\",\n",
    "                \"4-10\",\n",
    "                \"4-11\",\n",
    "                \"5-1\",\n",
    "                \"5-5\",\n",
    "                \"6-1\",\n",
    "                \"6-15\",\n",
    "                \"6-6\",\n",
    "                \"7-10\",\n",
    "                \"7-11\",\n",
    "                \"7-12\",\n",
    "                \"7-13\",\n",
    "                \"7-14\",\n",
    "                \"7-7\",\n",
    "                \"7-8\",\n",
    "                \"7-9\",\n",
    "                \"8-1\",\n",
    "                \"8-13\",\n",
    "                \"8-14\",\n",
    "                \"8-18\",\n",
    "                \"8-20\",\n",
    "                \"8-3\",\n",
    "                \"8-8\",\n",
    "                \"9-1\",\n",
    "                \"9-7\",\n",
    "            ],\n",
    "            \"domains\": [1, 2, 3, 4],\n",
    "            \"num_examples_per_domain_per_label\": 100,\n",
    "            \"pickle_path\": \"/mnt/wd500GB/CSC500/csc500-main/datasets/wisig.node3-19.stratified_ds.2022A.pkl\",\n",
    "            \"source_or_target_dataset\": \"target\",\n",
    "            \"x_transforms\": [\"unit_power\", \"take_200\"],\n",
    "            \"episode_transforms\": [],\n",
    "            \"domain_prefix\": \"W_A_\",\n",
    "        },\n",
    "        {\n",
    "            \"labels\": [\n",
    "                \"3123D52\",\n",
    "                \"3123D65\",\n",
    "                \"3123D79\",\n",
    "                \"3123D80\",\n",
    "                \"3123D54\",\n",
    "                \"3123D70\",\n",
    "                \"3123D7B\",\n",
    "                \"3123D89\",\n",
    "                \"3123D58\",\n",
    "                \"3123D76\",\n",
    "                \"3123D7D\",\n",
    "                \"3123EFE\",\n",
    "                \"3123D64\",\n",
    "                \"3123D78\",\n",
    "                \"3123D7E\",\n",
    "                \"3124E4A\",\n",
    "            ],\n",
    "            \"domains\": [32, 38, 8, 44, 14, 50, 20, 26],\n",
    "            \"num_examples_per_domain_per_label\": 2000,\n",
    "            \"pickle_path\": \"/mnt/wd500GB/CSC500/csc500-main/datasets/oracle.Run1_framed_2000Examples_stratified_ds.2022A.pkl\",\n",
    "            \"source_or_target_dataset\": \"source\",\n",
    "            \"x_transforms\": [\"unit_power\", \"take_200\", \"resample_20Msps_to_25Msps\"],\n",
    "            \"episode_transforms\": [],\n",
    "            \"domain_prefix\": \"ORACLE.run1_\",\n",
    "        },\n",
    "    ],\n",
    "}\n"
   ]
  },
  {
   "cell_type": "code",
   "execution_count": 5,
   "id": "8fa1cc33",
   "metadata": {
    "execution": {
     "iopub.execute_input": "2022-03-18T20:07:58.980419Z",
     "iopub.status.busy": "2022-03-18T20:07:58.980173Z",
     "iopub.status.idle": "2022-03-18T20:07:58.994673Z",
     "shell.execute_reply": "2022-03-18T20:07:58.994373Z"
    },
    "papermill": {
     "duration": 0.031008,
     "end_time": "2022-03-18T20:07:58.994740",
     "exception": false,
     "start_time": "2022-03-18T20:07:58.963732",
     "status": "completed"
    },
    "tags": []
   },
   "outputs": [],
   "source": [
    "# Set this to True if you want to run this template directly\n",
    "STANDALONE = False\n",
    "if STANDALONE:\n",
    "    print(\"parameters not injected, running with standalone_parameters\")\n",
    "    parameters = standalone_parameters\n",
    "\n",
    "if not 'parameters' in locals() and not 'parameters' in globals():\n",
    "    raise Exception(\"Parameter injection failed\")\n",
    "\n",
    "#Use an easy dict for all the parameters\n",
    "p = EasyDict(parameters)\n",
    "\n",
    "if \"x_shape\" not in p:\n",
    "    p.x_shape = [2,256] # Default to this if we dont supply x_shape\n",
    "\n",
    "\n",
    "supplied_keys = set(p.keys())\n",
    "\n",
    "if  supplied_keys != required_parameters:\n",
    "    print(\"Parameters are incorrect\")\n",
    "    if len(supplied_keys - required_parameters)>0: print(\"Shouldn't have:\", str(supplied_keys - required_parameters))\n",
    "    if len(required_parameters - supplied_keys)>0: print(\"Need to have:\", str(required_parameters - supplied_keys))\n",
    "    raise RuntimeError(\"Parameters are incorrect\")"
   ]
  },
  {
   "cell_type": "code",
   "execution_count": 6,
   "id": "3a028d58",
   "metadata": {
    "execution": {
     "iopub.execute_input": "2022-03-18T20:07:59.027032Z",
     "iopub.status.busy": "2022-03-18T20:07:59.026792Z",
     "iopub.status.idle": "2022-03-18T20:07:59.041642Z",
     "shell.execute_reply": "2022-03-18T20:07:59.041296Z"
    },
    "papermill": {
     "duration": 0.030145,
     "end_time": "2022-03-18T20:07:59.041711",
     "exception": false,
     "start_time": "2022-03-18T20:07:59.011566",
     "status": "completed"
    },
    "tags": []
   },
   "outputs": [],
   "source": [
    "###################################\n",
    "# Set the RNGs and make it all deterministic\n",
    "###################################\n",
    "np.random.seed(p.seed)\n",
    "random.seed(p.seed)\n",
    "torch.manual_seed(p.seed)\n",
    "\n",
    "torch.use_deterministic_algorithms(True) "
   ]
  },
  {
   "cell_type": "code",
   "execution_count": 7,
   "id": "b691acf6",
   "metadata": {
    "execution": {
     "iopub.execute_input": "2022-03-18T20:07:59.073843Z",
     "iopub.status.busy": "2022-03-18T20:07:59.073602Z",
     "iopub.status.idle": "2022-03-18T20:07:59.088420Z",
     "shell.execute_reply": "2022-03-18T20:07:59.088180Z"
    },
    "papermill": {
     "duration": 0.029572,
     "end_time": "2022-03-18T20:07:59.088468",
     "exception": false,
     "start_time": "2022-03-18T20:07:59.058896",
     "status": "completed"
    },
    "tags": []
   },
   "outputs": [],
   "source": [
    "###########################################\n",
    "# The stratified datasets honor this\n",
    "###########################################\n",
    "torch.set_default_dtype(eval(p.torch_default_dtype))"
   ]
  },
  {
   "cell_type": "code",
   "execution_count": 8,
   "id": "b5fba671",
   "metadata": {
    "execution": {
     "iopub.execute_input": "2022-03-18T20:07:59.121453Z",
     "iopub.status.busy": "2022-03-18T20:07:59.121210Z",
     "iopub.status.idle": "2022-03-18T20:07:59.156977Z",
     "shell.execute_reply": "2022-03-18T20:07:59.156595Z"
    },
    "papermill": {
     "duration": 0.050492,
     "end_time": "2022-03-18T20:07:59.157064",
     "exception": false,
     "start_time": "2022-03-18T20:07:59.106572",
     "status": "completed"
    },
    "tags": []
   },
   "outputs": [],
   "source": [
    "###################################\n",
    "# Build the network(s)\n",
    "# Note: It's critical to do this AFTER setting the RNG\n",
    "###################################\n",
    "x_net = build_sequential(p.x_net)"
   ]
  },
  {
   "cell_type": "code",
   "execution_count": 9,
   "id": "5d7e61cc",
   "metadata": {
    "execution": {
     "iopub.execute_input": "2022-03-18T20:07:59.192365Z",
     "iopub.status.busy": "2022-03-18T20:07:59.192120Z",
     "iopub.status.idle": "2022-03-18T20:07:59.206988Z",
     "shell.execute_reply": "2022-03-18T20:07:59.206606Z"
    },
    "papermill": {
     "duration": 0.029948,
     "end_time": "2022-03-18T20:07:59.207077",
     "exception": false,
     "start_time": "2022-03-18T20:07:59.177129",
     "status": "completed"
    },
    "tags": []
   },
   "outputs": [],
   "source": [
    "start_time_secs = time.time()"
   ]
  },
  {
   "cell_type": "code",
   "execution_count": 10,
   "id": "c6b67dfd",
   "metadata": {
    "execution": {
     "iopub.execute_input": "2022-03-18T20:07:59.240512Z",
     "iopub.status.busy": "2022-03-18T20:07:59.240263Z",
     "iopub.status.idle": "2022-03-18T20:07:59.254815Z",
     "shell.execute_reply": "2022-03-18T20:07:59.254431Z"
    },
    "papermill": {
     "duration": 0.030514,
     "end_time": "2022-03-18T20:07:59.254902",
     "exception": false,
     "start_time": "2022-03-18T20:07:59.224388",
     "status": "completed"
    },
    "tags": []
   },
   "outputs": [],
   "source": [
    "p.domains_source = []\n",
    "p.domains_target = []\n",
    "\n",
    "\n",
    "train_original_source = []\n",
    "val_original_source   = []\n",
    "test_original_source  = []\n",
    "\n",
    "train_original_target = []\n",
    "val_original_target   = []\n",
    "test_original_target  = []"
   ]
  },
  {
   "cell_type": "code",
   "execution_count": 11,
   "id": "e3d9c3d3",
   "metadata": {
    "execution": {
     "iopub.execute_input": "2022-03-18T20:07:59.289119Z",
     "iopub.status.busy": "2022-03-18T20:07:59.288375Z",
     "iopub.status.idle": "2022-03-18T20:07:59.303463Z",
     "shell.execute_reply": "2022-03-18T20:07:59.303025Z"
    },
    "papermill": {
     "duration": 0.031265,
     "end_time": "2022-03-18T20:07:59.303564",
     "exception": false,
     "start_time": "2022-03-18T20:07:59.272299",
     "status": "completed"
    },
    "tags": []
   },
   "outputs": [],
   "source": [
    "# global_x_transform_func = lambda x: normalize(x.to(torch.get_default_dtype()), \"unit_power\") # unit_power, unit_mag\n",
    "# global_x_transform_func = lambda x: normalize(x, \"unit_power\") # unit_power, unit_mag"
   ]
  },
  {
   "cell_type": "code",
   "execution_count": 12,
   "id": "acb78fd2",
   "metadata": {
    "execution": {
     "iopub.execute_input": "2022-03-18T20:07:59.342561Z",
     "iopub.status.busy": "2022-03-18T20:07:59.342197Z",
     "iopub.status.idle": "2022-03-18T20:07:59.355270Z",
     "shell.execute_reply": "2022-03-18T20:07:59.354828Z"
    },
    "papermill": {
     "duration": 0.034183,
     "end_time": "2022-03-18T20:07:59.355371",
     "exception": false,
     "start_time": "2022-03-18T20:07:59.321188",
     "status": "completed"
    },
    "tags": []
   },
   "outputs": [],
   "source": [
    "def add_dataset(\n",
    "    labels,\n",
    "    domains,\n",
    "    pickle_path,\n",
    "    x_transforms,\n",
    "    episode_transforms,\n",
    "    domain_prefix,\n",
    "    num_examples_per_domain_per_label,\n",
    "    source_or_target_dataset:str,\n",
    "    iterator_seed=p.seed,\n",
    "    dataset_seed=p.dataset_seed,\n",
    "    n_shot=p.n_shot,\n",
    "    n_way=p.n_way,\n",
    "    n_query=p.n_query,\n",
    "    train_val_test_k_factors=(p.train_k_factor,p.val_k_factor,p.test_k_factor),\n",
    "):\n",
    "   \n",
    "    if x_transforms == []: x_transform = None\n",
    "    else: x_transform = get_chained_transform(x_transforms)\n",
    "    \n",
    "    if episode_transforms == []: episode_transform = None\n",
    "    else: raise Exception(\"episode_transforms not implemented\")\n",
    "    \n",
    "    episode_transform = lambda tup, _prefix=domain_prefix: (_prefix + str(tup[0]), tup[1])\n",
    "\n",
    "\n",
    "    eaf = Episodic_Accessor_Factory(\n",
    "        labels=labels,\n",
    "        domains=domains,\n",
    "        num_examples_per_domain_per_label=num_examples_per_domain_per_label,\n",
    "        iterator_seed=iterator_seed,\n",
    "        dataset_seed=dataset_seed,\n",
    "        n_shot=n_shot,\n",
    "        n_way=n_way,\n",
    "        n_query=n_query,\n",
    "        train_val_test_k_factors=train_val_test_k_factors,\n",
    "        pickle_path=pickle_path,\n",
    "        x_transform_func=x_transform,\n",
    "    )\n",
    "\n",
    "    train, val, test = eaf.get_train(), eaf.get_val(), eaf.get_test()\n",
    "    train = Lazy_Iterable_Wrapper(train, episode_transform)\n",
    "    val = Lazy_Iterable_Wrapper(val, episode_transform)\n",
    "    test = Lazy_Iterable_Wrapper(test, episode_transform)\n",
    "\n",
    "    if source_or_target_dataset==\"source\":\n",
    "        train_original_source.append(train)\n",
    "        val_original_source.append(val)\n",
    "        test_original_source.append(test)\n",
    "\n",
    "        p.domains_source.extend(\n",
    "            [domain_prefix + str(u) for u in domains]\n",
    "        )\n",
    "    elif source_or_target_dataset==\"target\":\n",
    "        train_original_target.append(train)\n",
    "        val_original_target.append(val)\n",
    "        test_original_target.append(test)\n",
    "        p.domains_target.extend(\n",
    "            [domain_prefix + str(u) for u in domains]\n",
    "        )\n",
    "    else:\n",
    "        raise Exception(f\"invalid source_or_target_dataset: {source_or_target_dataset}\")\n",
    "    "
   ]
  },
  {
   "cell_type": "code",
   "execution_count": 13,
   "id": "fe266617",
   "metadata": {
    "execution": {
     "iopub.execute_input": "2022-03-18T20:07:59.391389Z",
     "iopub.status.busy": "2022-03-18T20:07:59.391136Z",
     "iopub.status.idle": "2022-03-18T20:08:38.274721Z",
     "shell.execute_reply": "2022-03-18T20:08:38.274452Z"
    },
    "papermill": {
     "duration": 38.899756,
     "end_time": "2022-03-18T20:08:38.274788",
     "exception": false,
     "start_time": "2022-03-18T20:07:59.375032",
     "status": "completed"
    },
    "tags": []
   },
   "outputs": [],
   "source": [
    "for ds in p.datasets:\n",
    "    add_dataset(**ds)"
   ]
  },
  {
   "cell_type": "code",
   "execution_count": 14,
   "id": "b90d65ac",
   "metadata": {
    "execution": {
     "iopub.execute_input": "2022-03-18T20:08:38.304655Z",
     "iopub.status.busy": "2022-03-18T20:08:38.304272Z",
     "iopub.status.idle": "2022-03-18T20:08:38.316470Z",
     "shell.execute_reply": "2022-03-18T20:08:38.316203Z"
    },
    "papermill": {
     "duration": 0.027729,
     "end_time": "2022-03-18T20:08:38.316529",
     "exception": false,
     "start_time": "2022-03-18T20:08:38.288800",
     "status": "completed"
    },
    "tags": []
   },
   "outputs": [],
   "source": [
    "# from steves_utils.CORES.utils import (\n",
    "#     ALL_NODES,\n",
    "#     ALL_NODES_MINIMUM_1000_EXAMPLES,\n",
    "#     ALL_DAYS\n",
    "# )\n",
    "\n",
    "# add_dataset(\n",
    "#     labels=ALL_NODES,\n",
    "#     domains = ALL_DAYS,\n",
    "#     num_examples_per_domain_per_label=100,\n",
    "#     pickle_path=os.path.join(get_datasets_base_path(), \"cores.stratified_ds.2022A.pkl\"),\n",
    "#     source_or_target_dataset=\"target\",\n",
    "#     x_transform_func=global_x_transform_func,\n",
    "#     domain_modifier=lambda u: f\"cores_{u}\"\n",
    "# )"
   ]
  },
  {
   "cell_type": "code",
   "execution_count": 15,
   "id": "76db484d",
   "metadata": {
    "execution": {
     "iopub.execute_input": "2022-03-18T20:08:38.349362Z",
     "iopub.status.busy": "2022-03-18T20:08:38.348968Z",
     "iopub.status.idle": "2022-03-18T20:08:38.359681Z",
     "shell.execute_reply": "2022-03-18T20:08:38.359438Z"
    },
    "papermill": {
     "duration": 0.026871,
     "end_time": "2022-03-18T20:08:38.359739",
     "exception": false,
     "start_time": "2022-03-18T20:08:38.332868",
     "status": "completed"
    },
    "tags": []
   },
   "outputs": [],
   "source": [
    "# from steves_utils.ORACLE.utils_v2 import (\n",
    "#     ALL_DISTANCES_FEET,\n",
    "#     ALL_RUNS,\n",
    "#     ALL_SERIAL_NUMBERS,\n",
    "# )\n",
    "\n",
    "\n",
    "# add_dataset(\n",
    "#     labels=ALL_SERIAL_NUMBERS,\n",
    "#     domains = list(set(ALL_DISTANCES_FEET) - {2,62}),\n",
    "#     num_examples_per_domain_per_label=100,\n",
    "#     pickle_path=os.path.join(get_datasets_base_path(), \"oracle.Run2_framed_2000Examples_stratified_ds.2022A.pkl\"),\n",
    "#     source_or_target_dataset=\"source\",\n",
    "#     x_transform_func=global_x_transform_func,\n",
    "#     domain_modifier=lambda u: f\"oracle1_{u}\"\n",
    "# )\n"
   ]
  },
  {
   "cell_type": "code",
   "execution_count": 16,
   "id": "97dea9d2",
   "metadata": {
    "execution": {
     "iopub.execute_input": "2022-03-18T20:08:38.390068Z",
     "iopub.status.busy": "2022-03-18T20:08:38.389678Z",
     "iopub.status.idle": "2022-03-18T20:08:38.401420Z",
     "shell.execute_reply": "2022-03-18T20:08:38.401151Z"
    },
    "papermill": {
     "duration": 0.027787,
     "end_time": "2022-03-18T20:08:38.401479",
     "exception": false,
     "start_time": "2022-03-18T20:08:38.373692",
     "status": "completed"
    },
    "tags": []
   },
   "outputs": [],
   "source": [
    "# from steves_utils.ORACLE.utils_v2 import (\n",
    "#     ALL_DISTANCES_FEET,\n",
    "#     ALL_RUNS,\n",
    "#     ALL_SERIAL_NUMBERS,\n",
    "# )\n",
    "\n",
    "\n",
    "# add_dataset(\n",
    "#     labels=ALL_SERIAL_NUMBERS,\n",
    "#     domains = list(set(ALL_DISTANCES_FEET) - {2,62,56}),\n",
    "#     num_examples_per_domain_per_label=100,\n",
    "#     pickle_path=os.path.join(get_datasets_base_path(), \"oracle.Run2_framed_2000Examples_stratified_ds.2022A.pkl\"),\n",
    "#     source_or_target_dataset=\"source\",\n",
    "#     x_transform_func=global_x_transform_func,\n",
    "#     domain_modifier=lambda u: f\"oracle2_{u}\"\n",
    "# )"
   ]
  },
  {
   "cell_type": "code",
   "execution_count": 17,
   "id": "6f289866",
   "metadata": {
    "execution": {
     "iopub.execute_input": "2022-03-18T20:08:38.430952Z",
     "iopub.status.busy": "2022-03-18T20:08:38.430560Z",
     "iopub.status.idle": "2022-03-18T20:08:38.441120Z",
     "shell.execute_reply": "2022-03-18T20:08:38.440888Z"
    },
    "papermill": {
     "duration": 0.025978,
     "end_time": "2022-03-18T20:08:38.441180",
     "exception": false,
     "start_time": "2022-03-18T20:08:38.415202",
     "status": "completed"
    },
    "tags": []
   },
   "outputs": [],
   "source": [
    "# add_dataset(\n",
    "#     labels=list(range(19)),\n",
    "#     domains = [0,1,2],\n",
    "#     num_examples_per_domain_per_label=100,\n",
    "#     pickle_path=os.path.join(get_datasets_base_path(), \"metehan.stratified_ds.2022A.pkl\"),\n",
    "#     source_or_target_dataset=\"target\",\n",
    "#     x_transform_func=global_x_transform_func,\n",
    "#     domain_modifier=lambda u: f\"met_{u}\"\n",
    "# )"
   ]
  },
  {
   "cell_type": "code",
   "execution_count": 18,
   "id": "86a863c3",
   "metadata": {
    "execution": {
     "iopub.execute_input": "2022-03-18T20:08:38.473218Z",
     "iopub.status.busy": "2022-03-18T20:08:38.472690Z",
     "iopub.status.idle": "2022-03-18T20:08:38.483488Z",
     "shell.execute_reply": "2022-03-18T20:08:38.483206Z"
    },
    "papermill": {
     "duration": 0.026032,
     "end_time": "2022-03-18T20:08:38.483546",
     "exception": false,
     "start_time": "2022-03-18T20:08:38.457514",
     "status": "completed"
    },
    "tags": []
   },
   "outputs": [],
   "source": [
    "# # from steves_utils.wisig.utils import (\n",
    "# #     ALL_NODES_MINIMUM_100_EXAMPLES,\n",
    "# #     ALL_NODES_MINIMUM_500_EXAMPLES,\n",
    "# #     ALL_NODES_MINIMUM_1000_EXAMPLES,\n",
    "# #     ALL_DAYS\n",
    "# # )\n",
    "\n",
    "# import steves_utils.wisig.utils as wisig\n",
    "\n",
    "\n",
    "# add_dataset(\n",
    "#     labels=wisig.ALL_NODES_MINIMUM_100_EXAMPLES,\n",
    "#     domains = wisig.ALL_DAYS,\n",
    "#     num_examples_per_domain_per_label=100,\n",
    "#     pickle_path=os.path.join(get_datasets_base_path(), \"wisig.node3-19.stratified_ds.2022A.pkl\"),\n",
    "#     source_or_target_dataset=\"target\",\n",
    "#     x_transform_func=global_x_transform_func,\n",
    "#     domain_modifier=lambda u: f\"wisig_{u}\"\n",
    "# )"
   ]
  },
  {
   "cell_type": "code",
   "execution_count": 19,
   "id": "fd5442bc",
   "metadata": {
    "execution": {
     "iopub.execute_input": "2022-03-18T20:08:38.514835Z",
     "iopub.status.busy": "2022-03-18T20:08:38.514292Z",
     "iopub.status.idle": "2022-03-18T20:08:38.526249Z",
     "shell.execute_reply": "2022-03-18T20:08:38.525977Z"
    },
    "papermill": {
     "duration": 0.028944,
     "end_time": "2022-03-18T20:08:38.526311",
     "exception": false,
     "start_time": "2022-03-18T20:08:38.497367",
     "status": "completed"
    },
    "tags": []
   },
   "outputs": [],
   "source": [
    "###################################\n",
    "# Build the dataset\n",
    "###################################\n",
    "train_original_source = Iterable_Aggregator(train_original_source, p.seed)\n",
    "val_original_source = Iterable_Aggregator(val_original_source, p.seed)\n",
    "test_original_source = Iterable_Aggregator(test_original_source, p.seed)\n",
    "\n",
    "\n",
    "train_original_target = Iterable_Aggregator(train_original_target, p.seed)\n",
    "val_original_target = Iterable_Aggregator(val_original_target, p.seed)\n",
    "test_original_target = Iterable_Aggregator(test_original_target, p.seed)\n",
    "\n",
    "# For CNN We only use X and Y. And we only train on the source.\n",
    "# Properly form the data using a transform lambda and Lazy_Iterable_Wrapper. Finally wrap them in a dataloader\n",
    "\n",
    "transform_lambda = lambda ex: ex[1] # Original is (<domain>, <episode>) so we strip down to episode only\n",
    "\n",
    "train_processed_source = Lazy_Iterable_Wrapper(train_original_source, transform_lambda)\n",
    "val_processed_source   = Lazy_Iterable_Wrapper(val_original_source, transform_lambda)\n",
    "test_processed_source  = Lazy_Iterable_Wrapper(test_original_source, transform_lambda)\n",
    "\n",
    "train_processed_target = Lazy_Iterable_Wrapper(train_original_target, transform_lambda)\n",
    "val_processed_target   = Lazy_Iterable_Wrapper(val_original_target, transform_lambda)\n",
    "test_processed_target  = Lazy_Iterable_Wrapper(test_original_target, transform_lambda)\n",
    "\n",
    "datasets = EasyDict({\n",
    "    \"source\": {\n",
    "        \"original\": {\"train\":train_original_source, \"val\":val_original_source, \"test\":test_original_source},\n",
    "        \"processed\": {\"train\":train_processed_source, \"val\":val_processed_source, \"test\":test_processed_source}\n",
    "    },\n",
    "    \"target\": {\n",
    "        \"original\": {\"train\":train_original_target, \"val\":val_original_target, \"test\":test_original_target},\n",
    "        \"processed\": {\"train\":train_processed_target, \"val\":val_processed_target, \"test\":test_processed_target}\n",
    "    },\n",
    "})"
   ]
  },
  {
   "cell_type": "code",
   "execution_count": 20,
   "id": "5b3c01fc",
   "metadata": {
    "execution": {
     "iopub.execute_input": "2022-03-18T20:08:38.556840Z",
     "iopub.status.busy": "2022-03-18T20:08:38.556278Z",
     "iopub.status.idle": "2022-03-18T20:08:43.373712Z",
     "shell.execute_reply": "2022-03-18T20:08:43.374057Z"
    },
    "papermill": {
     "duration": 4.833884,
     "end_time": "2022-03-18T20:08:43.374159",
     "exception": false,
     "start_time": "2022-03-18T20:08:38.540275",
     "status": "completed"
    },
    "tags": []
   },
   "outputs": [
    {
     "name": "stdout",
     "output_type": "stream",
     "text": [
      "{'ORACLE.run1_8', 'ORACLE.run1_32', 'ORACLE.run1_14', 'ORACLE.run1_50', 'ORACLE.run1_44', 'ORACLE.run1_20', 'ORACLE.run1_38', 'ORACLE.run1_26'}\n"
     ]
    },
    {
     "name": "stdout",
     "output_type": "stream",
     "text": [
      "{'C_A_2', 'W_A_4', 'W_A_2', 'W_A_1', 'C_A_4', 'C_A_3', 'W_A_3', 'C_A_1', 'C_A_5'}\n"
     ]
    },
    {
     "name": "stdout",
     "output_type": "stream",
     "text": [
      "tensor([[[ 0.5198,  1.1449, -0.2691,  ...,  0.3874, -0.0754,  1.0247],\n",
      "         [-0.4024,  0.2823,  0.3043,  ...,  0.6146,  1.0491,  0.1623]],\n",
      "\n",
      "        [[ 0.1027,  1.2815,  0.2340,  ...,  0.3532,  0.0416,  1.0866],\n",
      "         [-0.6504, -0.1179,  0.5017,  ...,  0.4043,  1.2002,  0.1812]],\n",
      "\n",
      "        [[-0.9810, -0.0956,  1.4581,  ...,  0.2201, -0.9534, -1.2017],\n",
      "         [-0.2926, -0.3228,  0.0158,  ..., -0.9782, -0.7513, -0.7499]],\n",
      "\n",
      "        ...,\n",
      "\n",
      "        [[-0.3346,  0.1680,  0.4490,  ...,  0.6284,  1.2521,  0.6054],\n",
      "         [-0.2738, -1.2222, -0.0977,  ..., -0.8729,  0.1431, -0.5193]],\n",
      "\n",
      "        [[ 0.5496, -0.2679, -0.7192,  ..., -0.7918, -0.9739, -0.0442],\n",
      "         [ 0.8764,  1.2566, -0.4588,  ...,  0.1913, -0.0889,  1.0308]],\n",
      "\n",
      "        [[ 0.4343, -0.4974, -0.8497,  ..., -1.0668, -0.9120, -0.2790],\n",
      "         [ 1.0183,  1.2228, -0.6890,  ...,  0.1524,  0.2036,  1.3888]]])\n"
     ]
    }
   ],
   "source": [
    "from steves_utils.transforms import get_average_magnitude, get_average_power\n",
    "\n",
    "print(set([u for u,_ in val_original_source]))\n",
    "print(set([u for u,_ in val_original_target]))\n",
    "\n",
    "s_x, s_y, q_x, q_y, _ = next(iter(train_processed_source))\n",
    "print(s_x)\n",
    "\n",
    "# for ds in [\n",
    "#     train_processed_source,\n",
    "#     val_processed_source,\n",
    "#     test_processed_source,\n",
    "#     train_processed_target,\n",
    "#     val_processed_target,\n",
    "#     test_processed_target\n",
    "# ]:\n",
    "#     for s_x, s_y, q_x, q_y, _ in ds:\n",
    "#         for X in (s_x, q_x):\n",
    "#             for x in X:\n",
    "#                 assert np.isclose(get_average_magnitude(x.numpy()), 1.0)\n",
    "#                 assert np.isclose(get_average_power(x.numpy()), 1.0)\n",
    "                "
   ]
  },
  {
   "cell_type": "code",
   "execution_count": 21,
   "id": "bbdacba1",
   "metadata": {
    "execution": {
     "iopub.execute_input": "2022-03-18T20:08:43.416496Z",
     "iopub.status.busy": "2022-03-18T20:08:43.416247Z",
     "iopub.status.idle": "2022-03-18T20:08:43.466752Z",
     "shell.execute_reply": "2022-03-18T20:08:43.466375Z"
    },
    "papermill": {
     "duration": 0.068895,
     "end_time": "2022-03-18T20:08:43.466845",
     "exception": false,
     "start_time": "2022-03-18T20:08:43.397950",
     "status": "completed"
    },
    "tags": []
   },
   "outputs": [
    {
     "name": "stdout",
     "output_type": "stream",
     "text": [
      "(2, 200)\n"
     ]
    }
   ],
   "source": [
    "###################################\n",
    "# Build the model\n",
    "###################################\n",
    "# easfsl only wants a tuple for the shape\n",
    "model = Steves_Prototypical_Network(x_net, device=p.device, x_shape=tuple(p.x_shape))\n",
    "optimizer = Adam(params=model.parameters(), lr=p.lr)"
   ]
  },
  {
   "cell_type": "code",
   "execution_count": 22,
   "id": "22b39ac5",
   "metadata": {
    "execution": {
     "iopub.execute_input": "2022-03-18T20:08:43.503393Z",
     "iopub.status.busy": "2022-03-18T20:08:43.503109Z",
     "iopub.status.idle": "2022-03-18T20:35:13.450726Z",
     "shell.execute_reply": "2022-03-18T20:35:13.450493Z"
    },
    "papermill": {
     "duration": 1589.965324,
     "end_time": "2022-03-18T20:35:13.450786",
     "exception": false,
     "start_time": "2022-03-18T20:08:43.485462",
     "status": "completed"
    },
    "tags": []
   },
   "outputs": [
    {
     "name": "stdout",
     "output_type": "stream",
     "text": [
      "epoch: 1, [batch: 1 / 6720], examples_per_second: 49.2000, train_label_loss: 3.0368, \n"
     ]
    },
    {
     "name": "stdout",
     "output_type": "stream",
     "text": [
      "epoch: 1, [batch: 672 / 6720], examples_per_second: 3666.4067, train_label_loss: 1.5382, \n"
     ]
    },
    {
     "name": "stdout",
     "output_type": "stream",
     "text": [
      "epoch: 1, [batch: 1344 / 6720], examples_per_second: 3663.1384, train_label_loss: 0.8011, \n"
     ]
    },
    {
     "name": "stdout",
     "output_type": "stream",
     "text": [
      "epoch: 1, [batch: 2016 / 6720], examples_per_second: 3668.6665, train_label_loss: 0.7511, \n"
     ]
    },
    {
     "name": "stdout",
     "output_type": "stream",
     "text": [
      "epoch: 1, [batch: 2688 / 6720], examples_per_second: 3654.5638, train_label_loss: 0.7565, \n"
     ]
    },
    {
     "name": "stdout",
     "output_type": "stream",
     "text": [
      "epoch: 1, [batch: 3360 / 6720], examples_per_second: 3664.6898, train_label_loss: 0.7065, \n"
     ]
    },
    {
     "name": "stdout",
     "output_type": "stream",
     "text": [
      "epoch: 1, [batch: 4032 / 6720], examples_per_second: 3663.7213, train_label_loss: 0.8740, \n"
     ]
    },
    {
     "name": "stdout",
     "output_type": "stream",
     "text": [
      "epoch: 1, [batch: 4704 / 6720], examples_per_second: 3632.0064, train_label_loss: 0.6560, \n"
     ]
    },
    {
     "name": "stdout",
     "output_type": "stream",
     "text": [
      "epoch: 1, [batch: 5376 / 6720], examples_per_second: 3634.7792, train_label_loss: 0.8052, \n"
     ]
    },
    {
     "name": "stdout",
     "output_type": "stream",
     "text": [
      "epoch: 1, [batch: 6048 / 6720], examples_per_second: 3643.0324, train_label_loss: 0.9276, \n"
     ]
    },
    {
     "name": "stdout",
     "output_type": "stream",
     "text": [
      "=============================================================\n",
      "epoch: 1, source_val_acc_label: 0.6245, target_val_acc_label: 0.4924, source_val_label_loss: 2.4656, target_val_label_loss: 96.2387, \n",
      "=============================================================\n"
     ]
    },
    {
     "name": "stdout",
     "output_type": "stream",
     "text": [
      "New best\n"
     ]
    },
    {
     "name": "stdout",
     "output_type": "stream",
     "text": [
      "epoch: 2, [batch: 1 / 6720], examples_per_second: 6.0538, train_label_loss: 1.0546, \n"
     ]
    },
    {
     "name": "stdout",
     "output_type": "stream",
     "text": [
      "epoch: 2, [batch: 672 / 6720], examples_per_second: 3648.4058, train_label_loss: 1.2148, \n"
     ]
    },
    {
     "name": "stdout",
     "output_type": "stream",
     "text": [
      "epoch: 2, [batch: 1344 / 6720], examples_per_second: 3647.0783, train_label_loss: 0.9959, \n"
     ]
    },
    {
     "name": "stdout",
     "output_type": "stream",
     "text": [
      "epoch: 2, [batch: 2016 / 6720], examples_per_second: 3652.5256, train_label_loss: 1.0267, \n"
     ]
    },
    {
     "name": "stdout",
     "output_type": "stream",
     "text": [
      "epoch: 2, [batch: 2688 / 6720], examples_per_second: 3623.9164, train_label_loss: 0.3769, \n"
     ]
    },
    {
     "name": "stdout",
     "output_type": "stream",
     "text": [
      "epoch: 2, [batch: 3360 / 6720], examples_per_second: 3643.2869, train_label_loss: 0.7300, \n"
     ]
    },
    {
     "name": "stdout",
     "output_type": "stream",
     "text": [
      "epoch: 2, [batch: 4032 / 6720], examples_per_second: 3660.5500, train_label_loss: 0.9628, \n"
     ]
    },
    {
     "name": "stdout",
     "output_type": "stream",
     "text": [
      "epoch: 2, [batch: 4704 / 6720], examples_per_second: 3632.2846, train_label_loss: 0.6990, \n"
     ]
    },
    {
     "name": "stdout",
     "output_type": "stream",
     "text": [
      "epoch: 2, [batch: 5376 / 6720], examples_per_second: 3629.9880, train_label_loss: 1.2276, \n"
     ]
    },
    {
     "name": "stdout",
     "output_type": "stream",
     "text": [
      "epoch: 2, [batch: 6048 / 6720], examples_per_second: 3647.4933, train_label_loss: 0.4362, \n"
     ]
    },
    {
     "name": "stdout",
     "output_type": "stream",
     "text": [
      "=============================================================\n",
      "epoch: 2, source_val_acc_label: 0.7444, target_val_acc_label: 0.6404, source_val_label_loss: 0.7109, target_val_label_loss: 23.0290, \n",
      "=============================================================\n"
     ]
    },
    {
     "name": "stdout",
     "output_type": "stream",
     "text": [
      "New best\n"
     ]
    },
    {
     "name": "stdout",
     "output_type": "stream",
     "text": [
      "epoch: 3, [batch: 1 / 6720], examples_per_second: 6.0617, train_label_loss: 1.3096, \n"
     ]
    },
    {
     "name": "stdout",
     "output_type": "stream",
     "text": [
      "epoch: 3, [batch: 672 / 6720], examples_per_second: 3650.3501, train_label_loss: 0.5257, \n"
     ]
    },
    {
     "name": "stdout",
     "output_type": "stream",
     "text": [
      "epoch: 3, [batch: 1344 / 6720], examples_per_second: 3672.8202, train_label_loss: 0.2613, \n"
     ]
    },
    {
     "name": "stdout",
     "output_type": "stream",
     "text": [
      "epoch: 3, [batch: 2016 / 6720], examples_per_second: 3658.7821, train_label_loss: 0.5093, \n"
     ]
    },
    {
     "name": "stdout",
     "output_type": "stream",
     "text": [
      "epoch: 3, [batch: 2688 / 6720], examples_per_second: 3634.2397, train_label_loss: 0.5512, \n"
     ]
    },
    {
     "name": "stdout",
     "output_type": "stream",
     "text": [
      "epoch: 3, [batch: 3360 / 6720], examples_per_second: 3647.0834, train_label_loss: 0.4392, \n"
     ]
    },
    {
     "name": "stdout",
     "output_type": "stream",
     "text": [
      "epoch: 3, [batch: 4032 / 6720], examples_per_second: 3657.0661, train_label_loss: 0.5625, \n"
     ]
    },
    {
     "name": "stdout",
     "output_type": "stream",
     "text": [
      "epoch: 3, [batch: 4704 / 6720], examples_per_second: 3644.3392, train_label_loss: 0.7267, \n"
     ]
    },
    {
     "name": "stdout",
     "output_type": "stream",
     "text": [
      "epoch: 3, [batch: 5376 / 6720], examples_per_second: 3652.4693, train_label_loss: 0.9386, \n"
     ]
    },
    {
     "name": "stdout",
     "output_type": "stream",
     "text": [
      "epoch: 3, [batch: 6048 / 6720], examples_per_second: 3657.2404, train_label_loss: 0.8088, \n"
     ]
    },
    {
     "name": "stdout",
     "output_type": "stream",
     "text": [
      "=============================================================\n",
      "epoch: 3, source_val_acc_label: 0.7869, target_val_acc_label: 0.6304, source_val_label_loss: 0.5820, target_val_label_loss: 15.5128, \n",
      "=============================================================\n"
     ]
    },
    {
     "name": "stdout",
     "output_type": "stream",
     "text": [
      "New best\n"
     ]
    },
    {
     "name": "stdout",
     "output_type": "stream",
     "text": [
      "epoch: 4, [batch: 1 / 6720], examples_per_second: 6.0212, train_label_loss: 0.5494, \n"
     ]
    },
    {
     "name": "stdout",
     "output_type": "stream",
     "text": [
      "epoch: 4, [batch: 672 / 6720], examples_per_second: 3645.5918, train_label_loss: 0.5078, \n"
     ]
    },
    {
     "name": "stdout",
     "output_type": "stream",
     "text": [
      "epoch: 4, [batch: 1344 / 6720], examples_per_second: 3661.7788, train_label_loss: 0.4463, \n"
     ]
    },
    {
     "name": "stdout",
     "output_type": "stream",
     "text": [
      "epoch: 4, [batch: 2016 / 6720], examples_per_second: 3663.0076, train_label_loss: 0.2054, \n"
     ]
    },
    {
     "name": "stdout",
     "output_type": "stream",
     "text": [
      "epoch: 4, [batch: 2688 / 6720], examples_per_second: 3656.9226, train_label_loss: 0.8060, \n"
     ]
    },
    {
     "name": "stdout",
     "output_type": "stream",
     "text": [
      "epoch: 4, [batch: 3360 / 6720], examples_per_second: 3680.6694, train_label_loss: 0.8042, \n"
     ]
    },
    {
     "name": "stdout",
     "output_type": "stream",
     "text": [
      "epoch: 4, [batch: 4032 / 6720], examples_per_second: 3665.2622, train_label_loss: 0.8337, \n"
     ]
    },
    {
     "name": "stdout",
     "output_type": "stream",
     "text": [
      "epoch: 4, [batch: 4704 / 6720], examples_per_second: 3647.8450, train_label_loss: 1.1402, \n"
     ]
    },
    {
     "name": "stdout",
     "output_type": "stream",
     "text": [
      "epoch: 4, [batch: 5376 / 6720], examples_per_second: 3662.7193, train_label_loss: 0.5791, \n"
     ]
    },
    {
     "name": "stdout",
     "output_type": "stream",
     "text": [
      "epoch: 4, [batch: 6048 / 6720], examples_per_second: 3664.4931, train_label_loss: 0.5572, \n"
     ]
    },
    {
     "name": "stdout",
     "output_type": "stream",
     "text": [
      "=============================================================\n",
      "epoch: 4, source_val_acc_label: 0.8204, target_val_acc_label: 0.6329, source_val_label_loss: 0.4940, target_val_label_loss: 13.2249, \n",
      "=============================================================\n"
     ]
    },
    {
     "name": "stdout",
     "output_type": "stream",
     "text": [
      "New best\n"
     ]
    },
    {
     "name": "stdout",
     "output_type": "stream",
     "text": [
      "epoch: 5, [batch: 1 / 6720], examples_per_second: 5.9878, train_label_loss: 0.4961, \n"
     ]
    },
    {
     "name": "stdout",
     "output_type": "stream",
     "text": [
      "epoch: 5, [batch: 672 / 6720], examples_per_second: 3637.3349, train_label_loss: 0.6258, \n"
     ]
    },
    {
     "name": "stdout",
     "output_type": "stream",
     "text": [
      "epoch: 5, [batch: 1344 / 6720], examples_per_second: 3670.2619, train_label_loss: 0.4170, \n"
     ]
    },
    {
     "name": "stdout",
     "output_type": "stream",
     "text": [
      "epoch: 5, [batch: 2016 / 6720], examples_per_second: 3643.5315, train_label_loss: 0.2034, \n"
     ]
    },
    {
     "name": "stdout",
     "output_type": "stream",
     "text": [
      "epoch: 5, [batch: 2688 / 6720], examples_per_second: 3625.7033, train_label_loss: 0.4272, \n"
     ]
    },
    {
     "name": "stdout",
     "output_type": "stream",
     "text": [
      "epoch: 5, [batch: 3360 / 6720], examples_per_second: 3643.3679, train_label_loss: 0.4899, \n"
     ]
    },
    {
     "name": "stdout",
     "output_type": "stream",
     "text": [
      "epoch: 5, [batch: 4032 / 6720], examples_per_second: 3657.9681, train_label_loss: 0.3838, \n"
     ]
    },
    {
     "name": "stdout",
     "output_type": "stream",
     "text": [
      "epoch: 5, [batch: 4704 / 6720], examples_per_second: 3640.9797, train_label_loss: 0.3759, \n"
     ]
    },
    {
     "name": "stdout",
     "output_type": "stream",
     "text": [
      "epoch: 5, [batch: 5376 / 6720], examples_per_second: 3658.6453, train_label_loss: 0.2758, \n"
     ]
    },
    {
     "name": "stdout",
     "output_type": "stream",
     "text": [
      "epoch: 5, [batch: 6048 / 6720], examples_per_second: 3649.1316, train_label_loss: 0.7711, \n"
     ]
    },
    {
     "name": "stdout",
     "output_type": "stream",
     "text": [
      "=============================================================\n",
      "epoch: 5, source_val_acc_label: 0.8275, target_val_acc_label: 0.6281, source_val_label_loss: 0.4807, target_val_label_loss: 13.2510, \n",
      "=============================================================\n"
     ]
    },
    {
     "name": "stdout",
     "output_type": "stream",
     "text": [
      "epoch: 6, [batch: 1 / 6720], examples_per_second: 6.0418, train_label_loss: 0.9730, \n"
     ]
    },
    {
     "name": "stdout",
     "output_type": "stream",
     "text": [
      "epoch: 6, [batch: 672 / 6720], examples_per_second: 3628.8779, train_label_loss: 0.2695, \n"
     ]
    },
    {
     "name": "stdout",
     "output_type": "stream",
     "text": [
      "epoch: 6, [batch: 1344 / 6720], examples_per_second: 3659.3250, train_label_loss: 0.5315, \n"
     ]
    },
    {
     "name": "stdout",
     "output_type": "stream",
     "text": [
      "epoch: 6, [batch: 2016 / 6720], examples_per_second: 3664.1960, train_label_loss: 0.4810, \n"
     ]
    },
    {
     "name": "stdout",
     "output_type": "stream",
     "text": [
      "epoch: 6, [batch: 2688 / 6720], examples_per_second: 3668.5420, train_label_loss: 0.3728, \n"
     ]
    },
    {
     "name": "stdout",
     "output_type": "stream",
     "text": [
      "epoch: 6, [batch: 3360 / 6720], examples_per_second: 3664.0718, train_label_loss: 0.5316, \n"
     ]
    },
    {
     "name": "stdout",
     "output_type": "stream",
     "text": [
      "epoch: 6, [batch: 4032 / 6720], examples_per_second: 3672.2097, train_label_loss: 0.4394, \n"
     ]
    },
    {
     "name": "stdout",
     "output_type": "stream",
     "text": [
      "epoch: 6, [batch: 4704 / 6720], examples_per_second: 3641.9818, train_label_loss: 0.4786, \n"
     ]
    },
    {
     "name": "stdout",
     "output_type": "stream",
     "text": [
      "epoch: 6, [batch: 5376 / 6720], examples_per_second: 3681.6217, train_label_loss: 0.0898, \n"
     ]
    },
    {
     "name": "stdout",
     "output_type": "stream",
     "text": [
      "epoch: 6, [batch: 6048 / 6720], examples_per_second: 3670.2272, train_label_loss: 0.7346, \n"
     ]
    },
    {
     "name": "stdout",
     "output_type": "stream",
     "text": [
      "=============================================================\n",
      "epoch: 6, source_val_acc_label: 0.8311, target_val_acc_label: 0.6251, source_val_label_loss: 0.4650, target_val_label_loss: 12.4164, \n",
      "=============================================================\n"
     ]
    },
    {
     "name": "stdout",
     "output_type": "stream",
     "text": [
      "New best\n"
     ]
    },
    {
     "name": "stdout",
     "output_type": "stream",
     "text": [
      "epoch: 7, [batch: 1 / 6720], examples_per_second: 6.0236, train_label_loss: 0.2899, \n"
     ]
    },
    {
     "name": "stdout",
     "output_type": "stream",
     "text": [
      "epoch: 7, [batch: 672 / 6720], examples_per_second: 3642.7322, train_label_loss: 0.6042, \n"
     ]
    },
    {
     "name": "stdout",
     "output_type": "stream",
     "text": [
      "epoch: 7, [batch: 1344 / 6720], examples_per_second: 3660.9791, train_label_loss: 0.6228, \n"
     ]
    },
    {
     "name": "stdout",
     "output_type": "stream",
     "text": [
      "epoch: 7, [batch: 2016 / 6720], examples_per_second: 3660.8062, train_label_loss: 0.3157, \n"
     ]
    },
    {
     "name": "stdout",
     "output_type": "stream",
     "text": [
      "epoch: 7, [batch: 2688 / 6720], examples_per_second: 3657.0148, train_label_loss: 0.3575, \n"
     ]
    },
    {
     "name": "stdout",
     "output_type": "stream",
     "text": [
      "epoch: 7, [batch: 3360 / 6720], examples_per_second: 3648.8680, train_label_loss: 0.4055, \n"
     ]
    },
    {
     "name": "stdout",
     "output_type": "stream",
     "text": [
      "epoch: 7, [batch: 4032 / 6720], examples_per_second: 3641.9939, train_label_loss: 0.8967, \n"
     ]
    },
    {
     "name": "stdout",
     "output_type": "stream",
     "text": [
      "epoch: 7, [batch: 4704 / 6720], examples_per_second: 3621.5048, train_label_loss: 0.4215, \n"
     ]
    },
    {
     "name": "stdout",
     "output_type": "stream",
     "text": [
      "epoch: 7, [batch: 5376 / 6720], examples_per_second: 3663.0125, train_label_loss: 0.2867, \n"
     ]
    },
    {
     "name": "stdout",
     "output_type": "stream",
     "text": [
      "epoch: 7, [batch: 6048 / 6720], examples_per_second: 3657.7794, train_label_loss: 0.1563, \n"
     ]
    },
    {
     "name": "stdout",
     "output_type": "stream",
     "text": [
      "=============================================================\n",
      "epoch: 7, source_val_acc_label: 0.8548, target_val_acc_label: 0.6377, source_val_label_loss: 0.4049, target_val_label_loss: 13.6199, \n",
      "=============================================================\n"
     ]
    },
    {
     "name": "stdout",
     "output_type": "stream",
     "text": [
      "epoch: 8, [batch: 1 / 6720], examples_per_second: 6.0153, train_label_loss: 0.3603, \n"
     ]
    },
    {
     "name": "stdout",
     "output_type": "stream",
     "text": [
      "epoch: 8, [batch: 672 / 6720], examples_per_second: 3622.6967, train_label_loss: 0.4219, \n"
     ]
    },
    {
     "name": "stdout",
     "output_type": "stream",
     "text": [
      "epoch: 8, [batch: 1344 / 6720], examples_per_second: 3671.8526, train_label_loss: 0.2687, \n"
     ]
    },
    {
     "name": "stdout",
     "output_type": "stream",
     "text": [
      "epoch: 8, [batch: 2016 / 6720], examples_per_second: 3675.0000, train_label_loss: 0.7227, \n"
     ]
    },
    {
     "name": "stdout",
     "output_type": "stream",
     "text": [
      "epoch: 8, [batch: 2688 / 6720], examples_per_second: 3645.7212, train_label_loss: 0.2344, \n"
     ]
    },
    {
     "name": "stdout",
     "output_type": "stream",
     "text": [
      "epoch: 8, [batch: 3360 / 6720], examples_per_second: 3666.7430, train_label_loss: 0.1236, \n"
     ]
    },
    {
     "name": "stdout",
     "output_type": "stream",
     "text": [
      "epoch: 8, [batch: 4032 / 6720], examples_per_second: 3651.3299, train_label_loss: 0.8060, \n"
     ]
    },
    {
     "name": "stdout",
     "output_type": "stream",
     "text": [
      "epoch: 8, [batch: 4704 / 6720], examples_per_second: 3624.2586, train_label_loss: 0.1470, \n"
     ]
    },
    {
     "name": "stdout",
     "output_type": "stream",
     "text": [
      "epoch: 8, [batch: 5376 / 6720], examples_per_second: 3623.0601, train_label_loss: 0.2364, \n"
     ]
    },
    {
     "name": "stdout",
     "output_type": "stream",
     "text": [
      "epoch: 8, [batch: 6048 / 6720], examples_per_second: 3625.7151, train_label_loss: 0.2600, \n"
     ]
    },
    {
     "name": "stdout",
     "output_type": "stream",
     "text": [
      "=============================================================\n",
      "epoch: 8, source_val_acc_label: 0.8696, target_val_acc_label: 0.6569, source_val_label_loss: 0.3637, target_val_label_loss: 13.3133, \n",
      "=============================================================\n"
     ]
    },
    {
     "name": "stdout",
     "output_type": "stream",
     "text": [
      "epoch: 9, [batch: 1 / 6720], examples_per_second: 6.0543, train_label_loss: 0.1614, \n"
     ]
    },
    {
     "name": "stdout",
     "output_type": "stream",
     "text": [
      "epoch: 9, [batch: 672 / 6720], examples_per_second: 3627.4450, train_label_loss: 0.2893, \n"
     ]
    },
    {
     "name": "stdout",
     "output_type": "stream",
     "text": [
      "epoch: 9, [batch: 1344 / 6720], examples_per_second: 3662.2853, train_label_loss: 0.1662, \n"
     ]
    },
    {
     "name": "stdout",
     "output_type": "stream",
     "text": [
      "epoch: 9, [batch: 2016 / 6720], examples_per_second: 3658.0340, train_label_loss: 0.4369, \n"
     ]
    },
    {
     "name": "stdout",
     "output_type": "stream",
     "text": [
      "epoch: 9, [batch: 2688 / 6720], examples_per_second: 3650.6542, train_label_loss: 0.1652, \n"
     ]
    },
    {
     "name": "stdout",
     "output_type": "stream",
     "text": [
      "epoch: 9, [batch: 3360 / 6720], examples_per_second: 3665.7293, train_label_loss: 0.2653, \n"
     ]
    },
    {
     "name": "stdout",
     "output_type": "stream",
     "text": [
      "epoch: 9, [batch: 4032 / 6720], examples_per_second: 3664.5154, train_label_loss: 0.1885, \n"
     ]
    },
    {
     "name": "stdout",
     "output_type": "stream",
     "text": [
      "epoch: 9, [batch: 4704 / 6720], examples_per_second: 3642.6970, train_label_loss: 0.2177, \n"
     ]
    },
    {
     "name": "stdout",
     "output_type": "stream",
     "text": [
      "epoch: 9, [batch: 5376 / 6720], examples_per_second: 3652.0236, train_label_loss: 0.1842, \n"
     ]
    },
    {
     "name": "stdout",
     "output_type": "stream",
     "text": [
      "epoch: 9, [batch: 6048 / 6720], examples_per_second: 3653.0301, train_label_loss: 0.4268, \n"
     ]
    },
    {
     "name": "stdout",
     "output_type": "stream",
     "text": [
      "=============================================================\n",
      "epoch: 9, source_val_acc_label: 0.8706, target_val_acc_label: 0.6414, source_val_label_loss: 0.3522, target_val_label_loss: 14.9707, \n",
      "=============================================================\n"
     ]
    },
    {
     "name": "stdout",
     "output_type": "stream",
     "text": [
      "epoch: 10, [batch: 1 / 6720], examples_per_second: 6.0465, train_label_loss: 0.1474, \n"
     ]
    },
    {
     "name": "stdout",
     "output_type": "stream",
     "text": [
      "epoch: 10, [batch: 672 / 6720], examples_per_second: 3643.3344, train_label_loss: 0.0503, \n"
     ]
    },
    {
     "name": "stdout",
     "output_type": "stream",
     "text": [
      "epoch: 10, [batch: 1344 / 6720], examples_per_second: 3657.3338, train_label_loss: 0.2863, \n"
     ]
    },
    {
     "name": "stdout",
     "output_type": "stream",
     "text": [
      "epoch: 10, [batch: 2016 / 6720], examples_per_second: 3652.3918, train_label_loss: 0.1059, \n"
     ]
    },
    {
     "name": "stdout",
     "output_type": "stream",
     "text": [
      "epoch: 10, [batch: 2688 / 6720], examples_per_second: 3651.5502, train_label_loss: 0.4048, \n"
     ]
    },
    {
     "name": "stdout",
     "output_type": "stream",
     "text": [
      "epoch: 10, [batch: 3360 / 6720], examples_per_second: 3652.1623, train_label_loss: 0.2591, \n"
     ]
    },
    {
     "name": "stdout",
     "output_type": "stream",
     "text": [
      "epoch: 10, [batch: 4032 / 6720], examples_per_second: 3649.6015, train_label_loss: 0.2013, \n"
     ]
    },
    {
     "name": "stdout",
     "output_type": "stream",
     "text": [
      "epoch: 10, [batch: 4704 / 6720], examples_per_second: 3641.9028, train_label_loss: 0.2277, \n"
     ]
    },
    {
     "name": "stdout",
     "output_type": "stream",
     "text": [
      "epoch: 10, [batch: 5376 / 6720], examples_per_second: 3652.9986, train_label_loss: 0.2663, \n"
     ]
    },
    {
     "name": "stdout",
     "output_type": "stream",
     "text": [
      "epoch: 10, [batch: 6048 / 6720], examples_per_second: 3645.4435, train_label_loss: 0.5934, \n"
     ]
    },
    {
     "name": "stdout",
     "output_type": "stream",
     "text": [
      "=============================================================\n",
      "epoch: 10, source_val_acc_label: 0.8746, target_val_acc_label: 0.6408, source_val_label_loss: 0.3521, target_val_label_loss: 13.7246, \n",
      "=============================================================\n"
     ]
    },
    {
     "name": "stdout",
     "output_type": "stream",
     "text": [
      "Patience (3) exhausted\n"
     ]
    }
   ],
   "source": [
    "###################################\n",
    "# train\n",
    "###################################\n",
    "jig = PTN_Train_Eval_Test_Jig(model, p.BEST_MODEL_PATH, p.device)\n",
    "\n",
    "jig.train(\n",
    "    train_iterable=datasets.source.processed.train,\n",
    "    source_val_iterable=datasets.source.processed.val,\n",
    "    target_val_iterable=datasets.target.processed.val,\n",
    "    num_epochs=p.n_epoch,\n",
    "    num_logs_per_epoch=p.NUM_LOGS_PER_EPOCH,\n",
    "    patience=p.patience,\n",
    "    optimizer=optimizer,\n",
    "    criteria_for_best=p.criteria_for_best,\n",
    ")"
   ]
  },
  {
   "cell_type": "code",
   "execution_count": 23,
   "id": "31e8fabf",
   "metadata": {
    "execution": {
     "iopub.execute_input": "2022-03-18T20:35:13.523742Z",
     "iopub.status.busy": "2022-03-18T20:35:13.523483Z",
     "iopub.status.idle": "2022-03-18T20:35:13.542921Z",
     "shell.execute_reply": "2022-03-18T20:35:13.542423Z"
    },
    "papermill": {
     "duration": 0.057228,
     "end_time": "2022-03-18T20:35:13.543030",
     "exception": false,
     "start_time": "2022-03-18T20:35:13.485802",
     "status": "completed"
    },
    "tags": []
   },
   "outputs": [],
   "source": [
    "total_experiment_time_secs = time.time() - start_time_secs"
   ]
  },
  {
   "cell_type": "code",
   "execution_count": 24,
   "id": "87b9595b",
   "metadata": {
    "execution": {
     "iopub.execute_input": "2022-03-18T20:35:13.623610Z",
     "iopub.status.busy": "2022-03-18T20:35:13.623341Z",
     "iopub.status.idle": "2022-03-18T20:36:16.599938Z",
     "shell.execute_reply": "2022-03-18T20:36:16.600363Z"
    },
    "papermill": {
     "duration": 63.017986,
     "end_time": "2022-03-18T20:36:16.600497",
     "exception": false,
     "start_time": "2022-03-18T20:35:13.582511",
     "status": "completed"
    },
    "tags": []
   },
   "outputs": [],
   "source": [
    "###################################\n",
    "# Evaluate the model\n",
    "###################################\n",
    "source_test_label_accuracy, source_test_label_loss = jig.test(datasets.source.processed.test)\n",
    "target_test_label_accuracy, target_test_label_loss = jig.test(datasets.target.processed.test)\n",
    "\n",
    "source_val_label_accuracy, source_val_label_loss = jig.test(datasets.source.processed.val)\n",
    "target_val_label_accuracy, target_val_label_loss = jig.test(datasets.target.processed.val)\n",
    "\n",
    "history = jig.get_history()\n",
    "\n",
    "total_epochs_trained = len(history[\"epoch_indices\"])\n",
    "\n",
    "val_dl = Iterable_Aggregator((datasets.source.original.val,datasets.target.original.val))\n",
    "\n",
    "confusion = ptn_confusion_by_domain_over_dataloader(model, p.device, val_dl)\n",
    "per_domain_accuracy = per_domain_accuracy_from_confusion(confusion)\n",
    "\n",
    "# Add a key to per_domain_accuracy for if it was a source domain\n",
    "for domain, accuracy in per_domain_accuracy.items():\n",
    "    per_domain_accuracy[domain] = {\n",
    "        \"accuracy\": accuracy,\n",
    "        \"source?\": domain in p.domains_source\n",
    "    }\n",
    "\n",
    "# Do an independent accuracy assesment JUST TO BE SURE!\n",
    "# _source_test_label_accuracy = independent_accuracy_assesment(model, datasets.source.processed.test, p.device)\n",
    "# _target_test_label_accuracy = independent_accuracy_assesment(model, datasets.target.processed.test, p.device)\n",
    "# _source_val_label_accuracy = independent_accuracy_assesment(model, datasets.source.processed.val, p.device)\n",
    "# _target_val_label_accuracy = independent_accuracy_assesment(model, datasets.target.processed.val, p.device)\n",
    "\n",
    "# assert(_source_test_label_accuracy == source_test_label_accuracy)\n",
    "# assert(_target_test_label_accuracy == target_test_label_accuracy)\n",
    "# assert(_source_val_label_accuracy == source_val_label_accuracy)\n",
    "# assert(_target_val_label_accuracy == target_val_label_accuracy)\n",
    "\n",
    "experiment = {\n",
    "    \"experiment_name\": p.experiment_name,\n",
    "    \"parameters\": dict(p),\n",
    "    \"results\": {\n",
    "        \"source_test_label_accuracy\": source_test_label_accuracy,\n",
    "        \"source_test_label_loss\": source_test_label_loss,\n",
    "        \"target_test_label_accuracy\": target_test_label_accuracy,\n",
    "        \"target_test_label_loss\": target_test_label_loss,\n",
    "        \"source_val_label_accuracy\": source_val_label_accuracy,\n",
    "        \"source_val_label_loss\": source_val_label_loss,\n",
    "        \"target_val_label_accuracy\": target_val_label_accuracy,\n",
    "        \"target_val_label_loss\": target_val_label_loss,\n",
    "        \"total_epochs_trained\": total_epochs_trained,\n",
    "        \"total_experiment_time_secs\": total_experiment_time_secs,\n",
    "        \"confusion\": confusion,\n",
    "        \"per_domain_accuracy\": per_domain_accuracy,\n",
    "    },\n",
    "    \"history\": history,\n",
    "    \"dataset_metrics\": get_dataset_metrics(datasets, \"ptn\"),\n",
    "}"
   ]
  },
  {
   "cell_type": "code",
   "execution_count": 25,
   "id": "54a21829",
   "metadata": {
    "execution": {
     "iopub.execute_input": "2022-03-18T20:36:16.703592Z",
     "iopub.status.busy": "2022-03-18T20:36:16.703316Z",
     "iopub.status.idle": "2022-03-18T20:36:16.820298Z",
     "shell.execute_reply": "2022-03-18T20:36:16.819803Z"
    },
    "papermill": {
     "duration": 0.154985,
     "end_time": "2022-03-18T20:36:16.820404",
     "exception": false,
     "start_time": "2022-03-18T20:36:16.665419",
     "status": "completed"
    },
    "tags": []
   },
   "outputs": [
    {
     "data": {
      "image/png": "[encoded data removed]",
      "text/plain": [
       "<Figure size 1080x504 with 1 Axes>"
      ]
     },
     "metadata": {
      "needs_background": "light"
     },
     "output_type": "display_data"
    }
   ],
   "source": [
    "ax = get_loss_curve(experiment)\n",
    "plt.show()"
   ]
  },
  {
   "cell_type": "code",
   "execution_count": 26,
   "id": "fd8a0f60",
   "metadata": {
    "execution": {
     "iopub.execute_input": "2022-03-18T20:36:16.898785Z",
     "iopub.status.busy": "2022-03-18T20:36:16.898478Z",
     "iopub.status.idle": "2022-03-18T20:36:17.048756Z",
     "shell.execute_reply": "2022-03-18T20:36:17.048535Z"
    },
    "papermill": {
     "duration": 0.189011,
     "end_time": "2022-03-18T20:36:17.048815",
     "exception": false,
     "start_time": "2022-03-18T20:36:16.859804",
     "status": "completed"
    },
    "tags": []
   },
   "outputs": [
    {
     "data": {
      "text/plain": [
       "<AxesSubplot:title={'center':'Results'}>"
      ]
     },
     "execution_count": 26,
     "metadata": {},
     "output_type": "execute_result"
    },
    {
     "data": {
      "image/png": "[encoded data removed]",
      "text/plain": [
       "<Figure size 1080x504 with 1 Axes>"
      ]
     },
     "metadata": {
      "needs_background": "light"
     },
     "output_type": "display_data"
    }
   ],
   "source": [
    "get_results_table(experiment)"
   ]
  },
  {
   "cell_type": "code",
   "execution_count": 27,
   "id": "cf8dc689",
   "metadata": {
    "execution": {
     "iopub.execute_input": "2022-03-18T20:36:17.127269Z",
     "iopub.status.busy": "2022-03-18T20:36:17.127012Z",
     "iopub.status.idle": "2022-03-18T20:36:17.285166Z",
     "shell.execute_reply": "2022-03-18T20:36:17.285536Z"
    },
    "papermill": {
     "duration": 0.19855,
     "end_time": "2022-03-18T20:36:17.285642",
     "exception": false,
     "start_time": "2022-03-18T20:36:17.087092",
     "status": "completed"
    },
    "tags": []
   },
   "outputs": [
    {
     "data": {
      "text/plain": [
       "<AxesSubplot:title={'center':'Per Domain Validation Accuracy'}, xlabel='domain'>"
      ]
     },
     "execution_count": 27,
     "metadata": {},
     "output_type": "execute_result"
    },
    {
     "data": {
      "image/png": "[encoded data removed]",
      "text/plain": [
       "<Figure size 1080x504 with 1 Axes>"
      ]
     },
     "metadata": {
      "needs_background": "light"
     },
     "output_type": "display_data"
    }
   ],
   "source": [
    "get_domain_accuracies(experiment)"
   ]
  },
  {
   "cell_type": "code",
   "execution_count": 28,
   "id": "a74ae082",
   "metadata": {
    "execution": {
     "iopub.execute_input": "2022-03-18T20:36:17.369421Z",
     "iopub.status.busy": "2022-03-18T20:36:17.369172Z",
     "iopub.status.idle": "2022-03-18T20:36:17.381655Z",
     "shell.execute_reply": "2022-03-18T20:36:17.381207Z"
    },
    "papermill": {
     "duration": 0.053031,
     "end_time": "2022-03-18T20:36:17.381746",
     "exception": false,
     "start_time": "2022-03-18T20:36:17.328715",
     "status": "completed"
    },
    "tags": []
   },
   "outputs": [
    {
     "name": "stdout",
     "output_type": "stream",
     "text": [
      "Source Test Label Accuracy: 0.83076171875 Target Test Label Accuracy: 0.6411115916955017\n",
      "Source Val Label Accuracy: 0.8310546875 Target Val Label Accuracy: 0.6251081314878892\n"
     ]
    }
   ],
   "source": [
    "print(\"Source Test Label Accuracy:\", experiment[\"results\"][\"source_test_label_accuracy\"], \"Target Test Label Accuracy:\", experiment[\"results\"][\"target_test_label_accuracy\"])\n",
    "print(\"Source Val Label Accuracy:\", experiment[\"results\"][\"source_val_label_accuracy\"], \"Target Val Label Accuracy:\", experiment[\"results\"][\"target_val_label_accuracy\"])"
   ]
  },
  {
   "cell_type": "code",
   "execution_count": 29,
   "id": "dacca602",
   "metadata": {
    "execution": {
     "iopub.execute_input": "2022-03-18T20:36:17.474946Z",
     "iopub.status.busy": "2022-03-18T20:36:17.474468Z",
     "iopub.status.idle": "2022-03-18T20:36:17.484450Z",
     "shell.execute_reply": "2022-03-18T20:36:17.484817Z"
    },
    "papermill": {
     "duration": 0.059775,
     "end_time": "2022-03-18T20:36:17.484921",
     "exception": false,
     "start_time": "2022-03-18T20:36:17.425146",
     "status": "completed"
    },
    "tags": [
     "experiment_json"
    ]
   },
   "outputs": [
    {
     "data": {
      "text/plain": [
       "'{\"experiment_name\": \"tl_3A:oracle.run1.framed -> cores+wisig\", \"parameters\": {\"experiment_name\": \"tl_3A:oracle.run1.framed -> cores+wisig\", \"device\": \"cuda\", \"lr\": 0.001, \"seed\": 500, \"dataset_seed\": 500, \"x_shape\": [2, 200], \"n_shot\": 3, \"n_query\": 2, \"train_k_factor\": 3, \"val_k_factor\": 2, \"test_k_factor\": 2, \"torch_default_dtype\": \"torch.float32\", \"n_epoch\": 50, \"patience\": 3, \"criteria_for_best\": \"target_loss\", \"x_net\": [{\"class\": \"nnReshape\", \"kargs\": {\"shape\": [-1, 1, 2, 200]}}, {\"class\": \"Conv2d\", \"kargs\": {\"in_channels\": 1, \"out_channels\": 256, \"kernel_size\": [1, 7], \"bias\": false, \"padding\": [0, 3]}}, {\"class\": \"ReLU\", \"kargs\": {\"inplace\": true}}, {\"class\": \"BatchNorm2d\", \"kargs\": {\"num_features\": 256}}, {\"class\": \"Conv2d\", \"kargs\": {\"in_channels\": 256, \"out_channels\": 80, \"kernel_size\": [2, 7], \"bias\": true, \"padding\": [0, 3]}}, {\"class\": \"ReLU\", \"kargs\": {\"inplace\": true}}, {\"class\": \"BatchNorm2d\", \"kargs\": {\"num_features\": 80}}, {\"class\": \"Flatten\", \"kargs\": {}}, {\"class\": \"Linear\", \"kargs\": {\"in_features\": 16000, \"out_features\": 256}}, {\"class\": \"ReLU\", \"kargs\": {\"inplace\": true}}, {\"class\": \"BatchNorm1d\", \"kargs\": {\"num_features\": 256}}, {\"class\": \"Linear\", \"kargs\": {\"in_features\": 256, \"out_features\": 256}}], \"NUM_LOGS_PER_EPOCH\": 10, \"BEST_MODEL_PATH\": \"./best_model.pth\", \"n_way\": 16, \"datasets\": [{\"labels\": [\"1-10.\", \"1-11.\", \"1-15.\", \"1-16.\", \"1-17.\", \"1-18.\", \"1-19.\", \"10-4.\", \"10-7.\", \"11-1.\", \"11-14.\", \"11-17.\", \"11-20.\", \"11-7.\", \"13-20.\", \"13-8.\", \"14-10.\", \"14-11.\", \"14-14.\", \"14-7.\", \"15-1.\", \"15-20.\", \"16-1.\", \"16-16.\", \"17-10.\", \"17-11.\", \"17-2.\", \"19-1.\", \"19-16.\", \"19-19.\", \"19-20.\", \"19-3.\", \"2-10.\", \"2-11.\", \"2-17.\", \"2-18.\", \"2-20.\", \"2-3.\", \"2-4.\", \"2-5.\", \"2-6.\", \"2-7.\", \"2-8.\", \"3-13.\", \"3-18.\", \"3-3.\", \"4-1.\", \"4-10.\", \"4-11.\", \"4-19.\", \"5-5.\", \"6-15.\", \"7-10.\", \"7-14.\", \"8-18.\", \"8-20.\", \"8-3.\", \"8-8.\"], \"domains\": [1, 2, 3, 4, 5], \"num_examples_per_domain_per_label\": 100, \"pickle_path\": \"/mnt/wd500GB/CSC500/csc500-main/datasets/cores.stratified_ds.2022A.pkl\", \"source_or_target_dataset\": \"target\", \"x_transforms\": [\"unit_power\", \"take_200\"], \"episode_transforms\": [], \"domain_prefix\": \"C_A_\"}, {\"labels\": [\"1-10\", \"1-12\", \"1-14\", \"1-16\", \"1-18\", \"1-19\", \"1-8\", \"10-11\", \"10-17\", \"10-4\", \"10-7\", \"11-1\", \"11-10\", \"11-19\", \"11-20\", \"11-4\", \"11-7\", \"12-19\", \"12-20\", \"12-7\", \"13-14\", \"13-18\", \"13-19\", \"13-20\", \"13-3\", \"13-7\", \"14-10\", \"14-11\", \"14-12\", \"14-13\", \"14-14\", \"14-19\", \"14-20\", \"14-7\", \"14-8\", \"14-9\", \"15-1\", \"15-19\", \"15-6\", \"16-1\", \"16-16\", \"16-19\", \"16-20\", \"17-10\", \"17-11\", \"18-1\", \"18-10\", \"18-11\", \"18-12\", \"18-13\", \"18-14\", \"18-15\", \"18-16\", \"18-17\", \"18-19\", \"18-2\", \"18-20\", \"18-4\", \"18-5\", \"18-7\", \"18-8\", \"18-9\", \"19-1\", \"19-10\", \"19-11\", \"19-12\", \"19-13\", \"19-14\", \"19-15\", \"19-19\", \"19-2\", \"19-20\", \"19-3\", \"19-4\", \"19-6\", \"19-7\", \"19-8\", \"19-9\", \"2-1\", \"2-13\", \"2-15\", \"2-3\", \"2-4\", \"2-5\", \"2-6\", \"2-7\", \"2-8\", \"20-1\", \"20-12\", \"20-14\", \"20-15\", \"20-16\", \"20-18\", \"20-19\", \"20-20\", \"20-3\", \"20-4\", \"20-5\", \"20-7\", \"20-8\", \"3-1\", \"3-13\", \"3-18\", \"3-2\", \"3-8\", \"4-1\", \"4-10\", \"4-11\", \"5-1\", \"5-5\", \"6-1\", \"6-15\", \"6-6\", \"7-10\", \"7-11\", \"7-12\", \"7-13\", \"7-14\", \"7-7\", \"7-8\", \"7-9\", \"8-1\", \"8-13\", \"8-14\", \"8-18\", \"8-20\", \"8-3\", \"8-8\", \"9-1\", \"9-7\"], \"domains\": [1, 2, 3, 4], \"num_examples_per_domain_per_label\": 100, \"pickle_path\": \"/mnt/wd500GB/CSC500/csc500-main/datasets/wisig.node3-19.stratified_ds.2022A.pkl\", \"source_or_target_dataset\": \"target\", \"x_transforms\": [\"unit_power\", \"take_200\"], \"episode_transforms\": [], \"domain_prefix\": \"W_A_\"}, {\"labels\": [\"3123D52\", \"3123D65\", \"3123D79\", \"3123D80\", \"3123D54\", \"3123D70\", \"3123D7B\", \"3123D89\", \"3123D58\", \"3123D76\", \"3123D7D\", \"3123EFE\", \"3123D64\", \"3123D78\", \"3123D7E\", \"3124E4A\"], \"domains\": [32, 38, 8, 44, 14, 50, 20, 26], \"num_examples_per_domain_per_label\": 2000, \"pickle_path\": \"/mnt/wd500GB/CSC500/csc500-main/datasets/oracle.Run1_framed_2000Examples_stratified_ds.2022A.pkl\", \"source_or_target_dataset\": \"source\", \"x_transforms\": [\"unit_power\", \"take_200\", \"resample_20Msps_to_25Msps\"], \"episode_transforms\": [], \"domain_prefix\": \"ORACLE.run1_\"}], \"domains_source\": [\"ORACLE.run1_32\", \"ORACLE.run1_38\", \"ORACLE.run1_8\", \"ORACLE.run1_44\", \"ORACLE.run1_14\", \"ORACLE.run1_50\", \"ORACLE.run1_20\", \"ORACLE.run1_26\"], \"domains_target\": [\"C_A_1\", \"C_A_2\", \"C_A_3\", \"C_A_4\", \"C_A_5\", \"W_A_1\", \"W_A_2\", \"W_A_3\", \"W_A_4\"]}, \"results\": {\"source_test_label_accuracy\": 0.83076171875, \"source_test_label_loss\": 0.4675790071487427, \"target_test_label_accuracy\": 0.6411115916955017, \"target_test_label_loss\": 11.468756675720215, \"source_val_label_accuracy\": 0.8310546875, \"source_val_label_loss\": 0.4650459885597229, \"target_val_label_accuracy\": 0.6251081314878892, \"target_val_label_loss\": 12.416448593139648, \"total_epochs_trained\": 10, \"total_experiment_time_secs\": 1634.33584690094, \"confusion\": {\"ORACLE.run1_50\": {\"7\": {\"6\": 9, \"7\": 203, \"5\": 18, \"13\": 9, \"4\": 1}, \"10\": {\"10\": 225, \"13\": 6, \"8\": 6, \"0\": 3}, \"0\": {\"0\": 203, \"10\": 15, \"2\": 20, \"13\": 1, \"1\": 1}, \"11\": {\"11\": 222, \"4\": 2, \"9\": 4, \"15\": 11, \"12\": 1}, \"2\": {\"2\": 221, \"0\": 19}, \"14\": {\"14\": 237, \"11\": 3}, \"9\": {\"9\": 220, \"11\": 8, \"12\": 12}, \"13\": {\"13\": 205, \"5\": 10, \"10\": 8, \"7\": 8, \"6\": 7, \"1\": 1, \"0\": 1}, \"8\": {\"8\": 235, \"3\": 1, \"10\": 4}, \"15\": {\"15\": 219, \"6\": 4, \"4\": 7, \"11\": 4, \"1\": 6}, \"4\": {\"4\": 156, \"15\": 30, \"13\": 3, \"5\": 29, \"7\": 10, \"6\": 6, \"11\": 2, \"1\": 4}, \"5\": {\"4\": 26, \"7\": 25, \"5\": 162, \"6\": 4, \"13\": 14, \"1\": 7, \"15\": 2}, \"3\": {\"3\": 238, \"8\": 2}, \"1\": {\"1\": 191, \"15\": 32, \"4\": 6, \"5\": 3, \"14\": 2, \"11\": 3, \"6\": 2, \"13\": 1}, \"6\": {\"6\": 213, \"7\": 3, \"5\": 4, \"4\": 5, \"13\": 9, \"15\": 5, \"1\": 1}, \"12\": {\"12\": 223, \"11\": 5, \"9\": 10, \"14\": 2}}, \"ORACLE.run1_14\": {\"14\": {\"14\": 212, \"2\": 19, \"13\": 4, \"3\": 3, \"6\": 2}, \"6\": {\"6\": 188, \"13\": 51, \"2\": 1}, \"5\": {\"5\": 187, \"4\": 25, \"1\": 8, \"2\": 18, \"3\": 2}, \"15\": {\"15\": 240}, \"11\": {\"11\": 232, \"9\": 8}, \"8\": {\"8\": 240}, \"12\": {\"12\": 240}, \"1\": {\"1\": 230, \"5\": 10}, \"2\": {\"2\": 124, \"5\": 26, \"14\": 49, \"3\": 8, \"4\": 4, \"6\": 21, \"13\": 8}, \"13\": {\"13\": 138, \"6\": 75, \"2\": 11, \"14\": 15, \"4\": 1}, \"3\": {\"3\": 221, \"14\": 5, \"2\": 7, \"5\": 1, \"4\": 5, \"0\": 1}, \"0\": {\"0\": 232, \"3\": 3, \"10\": 2, \"14\": 1, \"8\": 1, \"11\": 1}, \"9\": {\"9\": 239, \"12\": 1}, \"4\": {\"4\": 211, \"5\": 23, \"2\": 2, \"1\": 3, \"3\": 1}, \"7\": {\"7\": 240}, \"10\": {\"10\": 240}}, \"ORACLE.run1_32\": {\"4\": {\"4\": 171, \"2\": 50, \"13\": 11, \"5\": 1, \"7\": 7}, \"14\": {\"14\": 192, \"0\": 12, \"11\": 18, \"8\": 5, \"3\": 4, \"4\": 1, \"7\": 7, \"5\": 1}, \"5\": {\"5\": 133, \"7\": 59, \"3\": 6, \"4\": 10, \"13\": 17, \"0\": 3, \"14\": 3, \"8\": 7, \"2\": 2}, \"10\": {\"10\": 240}, \"13\": {\"4\": 22, \"13\": 177, \"8\": 4, \"7\": 11, \"11\": 2, \"3\": 11, \"5\": 10, \"14\": 2, \"0\": 1}, \"9\": {\"9\": 237, \"12\": 3}, \"6\": {\"6\": 240}, \"3\": {\"3\": 229, \"11\": 3, \"14\": 1, \"5\": 2, \"8\": 2, \"13\": 3}, \"15\": {\"15\": 240}, \"7\": {\"5\": 32, \"7\": 181, \"13\": 6, \"4\": 11, \"14\": 5, \"2\": 4, \"0\": 1}, \"12\": {\"12\": 240}, \"8\": {\"8\": 194, \"0\": 25, \"14\": 5, \"13\": 4, \"7\": 1, \"3\": 4, \"5\": 7}, \"11\": {\"14\": 3, \"11\": 233, \"13\": 1, \"3\": 3}, \"2\": {\"2\": 191, \"4\": 48, \"7\": 1}, \"1\": {\"1\": 240}, \"0\": {\"0\": 200, \"14\": 11, \"13\": 3, \"8\": 22, \"5\": 2, \"7\": 2}}, \"ORACLE.run1_44\": {\"8\": {\"0\": 83, \"8\": 136, \"15\": 10, \"5\": 11}, \"11\": {\"11\": 232, \"13\": 6, \"6\": 2}, \"14\": {\"14\": 163, \"4\": 60, \"5\": 6, \"15\": 11}, \"10\": {\"10\": 200, \"2\": 20, \"1\": 18, \"12\": 1, \"7\": 1}, \"3\": {\"3\": 227, \"1\": 8, \"12\": 5}, \"15\": {\"15\": 189, \"14\": 24, \"8\": 4, \"0\": 11, \"5\": 8, \"4\": 4}, \"2\": {\"2\": 185, \"7\": 27, \"6\": 1, \"10\": 8, \"1\": 17, \"3\": 1, \"9\": 1}, \"12\": {\"12\": 217, \"1\": 20, \"10\": 1, \"3\": 2}, \"4\": {\"4\": 163, \"14\": 73, \"15\": 4}, \"1\": {\"1\": 174, \"10\": 23, \"12\": 26, \"3\": 11, \"2\": 6}, \"0\": {\"0\": 150, \"15\": 13, \"8\": 68, \"5\": 9}, \"9\": {\"6\": 27, \"9\": 120, \"7\": 70, \"13\": 19, \"2\": 4}, \"5\": {\"5\": 201, \"8\": 7, \"14\": 11, \"0\": 12, \"15\": 8, \"4\": 1}, \"6\": {\"13\": 36, \"6\": 174, \"9\": 24, \"7\": 5, \"11\": 1}, \"7\": {\"7\": 147, \"9\": 53, \"2\": 33, \"6\": 6, \"10\": 1}, \"13\": {\"13\": 166, \"6\": 42, \"11\": 4, \"7\": 2, \"9\": 26}}, \"ORACLE.run1_8\": {\"13\": {\"13\": 109, \"10\": 30, \"6\": 14, \"0\": 44, \"4\": 33, \"14\": 9, \"7\": 1}, \"3\": {\"3\": 232, \"2\": 4, \"12\": 4}, \"15\": {\"15\": 211, \"12\": 28, \"8\": 1}, \"4\": {\"4\": 173, \"13\": 40, \"6\": 13, \"14\": 9, \"0\": 4, \"10\": 1}, \"7\": {\"6\": 41, \"7\": 194, \"0\": 4, \"13\": 1}, \"2\": {\"2\": 226, \"3\": 5, \"12\": 3, \"7\": 5, \"15\": 1}, \"1\": {\"1\": 236, \"11\": 3, \"14\": 1}, \"0\": {\"0\": 203, \"13\": 17, \"10\": 1, \"7\": 8, \"6\": 6, \"4\": 4, \"14\": 1}, \"12\": {\"12\": 167, \"15\": 54, \"3\": 17, \"8\": 2}, \"6\": {\"6\": 182, \"7\": 35, \"0\": 4, \"4\": 13, \"13\": 6}, \"11\": {\"11\": 230, \"1\": 10}, \"9\": {\"9\": 240}, \"5\": {\"5\": 225, \"14\": 3, \"1\": 7, \"10\": 5}, \"10\": {\"10\": 196, \"14\": 26, \"4\": 8, \"13\": 10}, \"14\": {\"14\": 200, \"10\": 15, \"4\": 14, \"13\": 6, \"1\": 5}, \"8\": {\"8\": 233, \"15\": 6, \"6\": 1}}, \"ORACLE.run1_20\": {\"6\": {\"6\": 223, \"14\": 16, \"7\": 1}, \"11\": {\"11\": 240}, \"5\": {\"5\": 215, \"1\": 5, \"0\": 11, \"15\": 6, \"12\": 2, \"8\": 1}, \"14\": {\"14\": 226, \"6\": 12, \"10\": 2}, \"2\": {\"2\": 152, \"9\": 29, \"7\": 21, \"13\": 5, \"12\": 14, \"3\": 17, \"1\": 2}, \"7\": {\"2\": 16, \"7\": 210, \"8\": 9, \"9\": 5}, \"3\": {\"3\": 150, \"12\": 40, \"2\": 12, \"9\": 23, \"4\": 9, \"7\": 2, \"1\": 3, \"10\": 1}, \"4\": {\"4\": 214, \"3\": 16, \"8\": 9, \"12\": 1}, \"9\": {\"9\": 143, \"3\": 43, \"2\": 42, \"12\": 9, \"1\": 2, \"13\": 1}, \"12\": {\"12\": 136, \"1\": 38, \"3\": 40, \"2\": 11, \"9\": 10, \"4\": 1, \"5\": 2, \"13\": 1, \"15\": 1}, \"0\": {\"5\": 23, \"0\": 189, \"15\": 26, \"13\": 1, \"8\": 1}, \"10\": {\"10\": 236, \"14\": 3, \"4\": 1}, \"8\": {\"8\": 228, \"7\": 8, \"4\": 4}, \"13\": {\"13\": 231, \"7\": 3, \"2\": 5, \"15\": 1}, \"1\": {\"1\": 167, \"5\": 4, \"12\": 47, \"3\": 6, \"15\": 12, \"0\": 1, \"13\": 1, \"9\": 2}, \"15\": {\"15\": 209, \"0\": 15, \"1\": 11, \"5\": 4, \"12\": 1}}, \"ORACLE.run1_38\": {\"3\": {\"3\": 227, \"9\": 2, \"0\": 10, \"13\": 1}, \"8\": {\"5\": 35, \"8\": 166, \"0\": 19, \"7\": 4, \"15\": 10, \"13\": 4, \"10\": 2}, \"0\": {\"0\": 184, \"7\": 12, \"8\": 27, \"3\": 7, \"5\": 5, \"13\": 3, \"10\": 1, \"4\": 1}, \"2\": {\"2\": 216, \"14\": 17, \"13\": 7}, \"4\": {\"4\": 238, \"10\": 1, \"12\": 1}, \"7\": {\"7\": 209, \"5\": 15, \"0\": 7, \"8\": 9}, \"12\": {\"12\": 239, \"4\": 1}, \"6\": {\"6\": 230, \"9\": 10}, \"15\": {\"15\": 200, \"8\": 14, \"13\": 6, \"10\": 2, \"1\": 17, \"5\": 1}, \"11\": {\"11\": 232, \"3\": 2, \"4\": 2, \"14\": 2, \"10\": 1, \"0\": 1}, \"9\": {\"9\": 232, \"5\": 3, \"6\": 5}, \"14\": {\"14\": 223, \"2\": 15, \"12\": 1, \"10\": 1}, \"10\": {\"10\": 205, \"0\": 9, \"13\": 18, \"7\": 3, \"4\": 2, \"5\": 1, \"14\": 2}, \"5\": {\"5\": 137, \"8\": 51, \"7\": 24, \"6\": 3, \"15\": 10, \"9\": 11, \"13\": 2, \"0\": 1, \"10\": 1}, \"1\": {\"1\": 230, \"15\": 10}, \"13\": {\"10\": 15, \"13\": 213, \"8\": 2, \"0\": 4, \"2\": 5, \"15\": 1}}, \"ORACLE.run1_26\": {\"5\": {\"5\": 206, \"2\": 15, \"13\": 12, \"9\": 2, \"15\": 2, \"7\": 2, \"10\": 1}, \"8\": {\"8\": 134, \"4\": 14, \"10\": 30, \"15\": 3, \"0\": 23, \"7\": 20, \"14\": 8, \"2\": 4, \"6\": 3, \"1\": 1}, \"4\": {\"4\": 177, \"10\": 5, \"8\": 11, \"7\": 18, \"14\": 17, \"0\": 8, \"1\": 4}, \"12\": {\"12\": 240}, \"6\": {\"6\": 200, \"0\": 2, \"9\": 14, \"15\": 8, \"10\": 15, \"8\": 1}, \"7\": {\"2\": 22, \"7\": 153, \"3\": 29, \"8\": 12, \"4\": 20, \"5\": 1, \"14\": 1, \"15\": 1, \"0\": 1}, \"10\": {\"10\": 128, \"14\": 12, \"15\": 3, \"0\": 72, \"8\": 20, \"6\": 4, \"1\": 1}, \"0\": {\"4\": 16, \"0\": 91, \"10\": 66, \"8\": 19, \"14\": 35, \"7\": 7, \"6\": 3, \"15\": 2, \"1\": 1}, \"15\": {\"15\": 141, \"9\": 49, \"6\": 17, \"8\": 8, \"0\": 3, \"5\": 4, \"13\": 10, \"2\": 4, \"7\": 2, \"10\": 2}, \"9\": {\"9\": 174, \"15\": 35, \"10\": 2, \"13\": 8, \"6\": 17, \"0\": 1, \"2\": 1, \"8\": 2}, \"11\": {\"11\": 240}, \"14\": {\"14\": 158, \"10\": 15, \"0\": 24, \"1\": 18, \"8\": 8, \"4\": 16, \"7\": 1}, \"2\": {\"2\": 119, \"3\": 64, \"4\": 2, \"9\": 2, \"7\": 22, \"15\": 3, \"8\": 5, \"5\": 19, \"13\": 4}, \"13\": {\"5\": 20, \"13\": 194, \"15\": 6, \"2\": 9, \"9\": 11}, \"3\": {\"3\": 183, \"2\": 32, \"5\": 1, \"7\": 24}, \"1\": {\"14\": 20, \"1\": 216, \"0\": 2, \"4\": 2}}, \"W_A_3\": {\"99\": {\"99\": 8, \"85\": 1, \"128\": 1, \"19\": 1, \"31\": 1}, \"8\": {\"8\": 5, \"99\": 1, \"48\": 2, \"105\": 1, \"20\": 1, \"124\": 1, \"86\": 1}, \"65\": {\"18\": 1, \"65\": 3, \"128\": 3, \"20\": 1, \"28\": 2, \"92\": 1, \"77\": 1}, \"117\": {\"18\": 2, \"11\": 1, \"117\": 4, \"109\": 1, \"115\": 1, \"64\": 1}, \"18\": {\"117\": 1, \"18\": 9, \"81\": 2}, \"39\": {\"39\": 10, \"11\": 1, \"93\": 1}, \"102\": {\"102\": 7, \"77\": 1, \"69\": 1, \"17\": 1, \"2\": 1, \"13\": 1}, \"76\": {\"39\": 1, \"76\": 5, \"38\": 1, \"11\": 1, \"9\": 1, \"22\": 1, \"62\": 1, \"116\": 1}, \"101\": {\"101\": 9, \"42\": 1, \"98\": 1, \"83\": 1}, \"57\": {\"57\": 8, \"55\": 1, \"38\": 2, \"74\": 1}, \"86\": {\"86\": 3, \"99\": 1, \"5\": 2, \"85\": 3, \"87\": 1, \"65\": 1, \"1\": 1}, \"11\": {\"57\": 2, \"65\": 2, \"11\": 5, \"31\": 1, \"9\": 2}, \"98\": {\"98\": 10, \"101\": 1, \"106\": 1}, \"42\": {\"18\": 1, \"99\": 1, \"8\": 1, \"48\": 1, \"97\": 2, \"42\": 2, \"83\": 1, \"46\": 1, \"111\": 1, \"47\": 1}, \"47\": {\"42\": 1, \"47\": 9, \"91\": 1, \"3\": 1}, \"49\": {\"65\": 1, \"8\": 3, \"4\": 2, \"44\": 1, \"60\": 1, \"49\": 2, \"86\": 2}, \"111\": {\"73\": 1, \"111\": 8, \"97\": 1, \"98\": 1, \"52\": 1}, \"36\": {\"36\": 3, \"34\": 1, \"91\": 1, \"68\": 1, \"15\": 1, \"94\": 1, \"73\": 1, \"54\": 3}, \"124\": {\"99\": 1, \"5\": 1, \"28\": 1, \"9\": 1, \"7\": 1, \"103\": 1, \"124\": 5, \"77\": 1}, \"122\": {\"122\": 6, \"32\": 1, \"19\": 4, \"108\": 1}, \"93\": {\"93\": 4, \"89\": 1, \"2\": 1, \"80\": 1, \"104\": 1, \"31\": 1, \"119\": 1, \"22\": 1, \"118\": 1}, \"89\": {\"89\": 7, \"80\": 1, \"120\": 2, \"121\": 1, \"16\": 1}, \"51\": {\"51\": 11, \"98\": 1}, \"73\": {\"73\": 11, \"94\": 1}, \"45\": {\"45\": 7, \"69\": 1, \"76\": 1, \"43\": 1, \"115\": 2}, \"5\": {\"5\": 8, \"4\": 2, \"71\": 1, \"77\": 1}, \"69\": {\"69\": 7, \"26\": 1, \"33\": 2, \"102\": 1, \"16\": 1}, \"26\": {\"89\": 1, \"26\": 7, \"16\": 1, \"63\": 1, \"18\": 2}, \"1\": {\"1\": 5, \"122\": 1, \"114\": 1, \"77\": 1, \"44\": 1, \"5\": 1, \"86\": 1, \"53\": 1}, \"92\": {\"93\": 1, \"122\": 1, \"92\": 4, \"64\": 1, \"120\": 1}, \"96\": {\"96\": 4, \"67\": 1, \"43\": 3, \"92\": 2, \"14\": 1, \"62\": 1}, \"85\": {\"86\": 2, \"85\": 7, \"99\": 2, \"22\": 1}, \"114\": {\"114\": 7, \"1\": 1, \"9\": 1, \"105\": 1, \"48\": 2}, \"50\": {\"33\": 1, \"50\": 6, \"40\": 1, \"115\": 2, \"45\": 1, \"82\": 1}, \"81\": {\"81\": 6, \"2\": 1, \"120\": 1, \"18\": 1, \"113\": 2, \"62\": 1}, \"2\": {\"96\": 1, \"17\": 3, \"118\": 2, \"92\": 1, \"104\": 1, \"2\": 2, \"89\": 2}, \"33\": {\"33\": 10, \"50\": 1, \"65\": 1}, \"31\": {\"31\": 9, \"90\": 1, \"119\": 2}, \"90\": {\"90\": 6, \"129\": 1, \"44\": 1}, \"17\": {\"17\": 2, \"114\": 1, \"9\": 1, \"63\": 1, \"38\": 1, \"40\": 2, \"5\": 3, \"78\": 1}, \"116\": {\"33\": 1, \"31\": 2, \"80\": 2, \"115\": 1, \"32\": 1, \"116\": 2, \"17\": 1}, \"91\": {\"86\": 1, \"47\": 1, \"30\": 1, \"91\": 2, \"34\": 1, \"52\": 2, \"35\": 1, \"108\": 1, \"98\": 1, \"46\": 1}, \"41\": {\"19\": 1, \"103\": 3, \"4\": 1, \"41\": 5, \"10\": 2}, \"78\": {\"21\": 1, \"19\": 1, \"75\": 1, \"44\": 1, \"17\": 1, \"121\": 1}, \"21\": {\"21\": 10, \"88\": 1, \"126\": 1}, \"23\": {\"63\": 1, \"41\": 1, \"61\": 3, \"23\": 2, \"16\": 1, \"42\": 1, \"91\": 1, \"81\": 1, \"128\": 1}, \"63\": {\"21\": 1, \"63\": 6, \"67\": 3, \"11\": 1, \"18\": 1}, \"103\": {\"103\": 11, \"124\": 1}, \"54\": {\"54\": 10, \"36\": 1, \"15\": 1}, \"87\": {\"57\": 1, \"87\": 5, \"88\": 1, \"74\": 1, \"107\": 1, \"60\": 1, \"53\": 1, \"79\": 1}, \"123\": {\"123\": 8, \"108\": 1, \"61\": 1, \"65\": 1, \"63\": 1}, \"32\": {\"32\": 7, \"87\": 1, \"115\": 1, \"5\": 1, \"77\": 1, \"45\": 1}, \"70\": {\"57\": 1, \"103\": 2, \"31\": 1, \"70\": 3, \"129\": 1, \"48\": 2, \"5\": 1, \"116\": 1}, \"19\": {\"32\": 1, \"55\": 1, \"5\": 1, \"10\": 1, \"22\": 1, \"40\": 2, \"19\": 4, \"9\": 1}, \"55\": {\"55\": 8, \"32\": 1, \"40\": 1, \"4\": 2}, \"34\": {\"129\": 1, \"9\": 1, \"27\": 2, \"34\": 1, \"36\": 1, \"53\": 1, \"15\": 1, \"97\": 1, \"37\": 1, \"22\": 1, \"19\": 1}, \"28\": {\"28\": 12}, \"109\": {\"129\": 1, \"109\": 2, \"120\": 2, \"65\": 1, \"89\": 2, \"13\": 1, \"21\": 1}, \"72\": {\"72\": 9, \"91\": 1, \"56\": 1, \"8\": 1}, \"9\": {\"9\": 6, \"55\": 1, \"40\": 1, \"122\": 1, \"19\": 1, \"85\": 1, \"46\": 1}, \"80\": {\"80\": 11, \"22\": 1}, \"125\": {\"125\": 10, \"24\": 1, \"101\": 1}, \"24\": {\"125\": 4, \"27\": 2, \"94\": 3, \"24\": 2, \"121\": 1}, \"129\": {\"129\": 6, \"9\": 1, \"107\": 1, \"103\": 1, \"53\": 1, \"19\": 1, \"110\": 1}, \"112\": {\"112\": 5, \"35\": 1, \"83\": 1, \"16\": 1, \"91\": 2, \"68\": 1, \"18\": 1}, \"110\": {\"114\": 1, \"110\": 2, \"129\": 1, \"61\": 1, \"88\": 3, \"123\": 1, \"19\": 1, \"1\": 1, \"20\": 1}, \"53\": {\"53\": 9, \"10\": 1, \"79\": 2}, \"12\": {\"12\": 5, \"46\": 1, \"47\": 2, \"111\": 1, \"91\": 1, \"7\": 2}, \"22\": {\"22\": 8, \"118\": 1, \"87\": 1, \"60\": 2}, \"46\": {\"53\": 1, \"114\": 1, \"9\": 2, \"32\": 1, \"5\": 1, \"10\": 1, \"46\": 3, \"4\": 2}, \"119\": {\"119\": 11, \"16\": 1}, \"75\": {\"75\": 11, \"25\": 1}, \"14\": {\"14\": 3, \"18\": 1, \"29\": 2, \"32\": 1, \"115\": 2, \"11\": 1, \"2\": 1, \"53\": 1}, \"71\": {\"71\": 6, \"108\": 1, \"3\": 1, \"4\": 1, \"42\": 1, \"9\": 1, \"114\": 1}, \"95\": {\"95\": 9, \"103\": 1, \"13\": 1, \"82\": 1}, \"13\": {\"26\": 1, \"93\": 1, \"108\": 1, \"13\": 2, \"113\": 1, \"107\": 1, \"89\": 1, \"102\": 1, \"76\": 1}, \"126\": {\"13\": 1, \"126\": 5, \"109\": 2, \"17\": 1, \"21\": 1}, \"104\": {\"104\": 6, \"103\": 1, \"79\": 1, \"107\": 1, \"114\": 1}, \"30\": {\"73\": 2, \"108\": 1, \"3\": 1, \"111\": 1, \"68\": 1, \"30\": 2, \"95\": 1, \"106\": 1, \"98\": 1, \"24\": 1}, \"97\": {\"73\": 2, \"83\": 2, \"112\": 1, \"97\": 3, \"111\": 2, \"0\": 1, \"6\": 1}, \"56\": {\"31\": 1, \"56\": 7, \"11\": 1, \"77\": 1, \"128\": 1, \"5\": 1}, \"115\": {\"115\": 6, \"55\": 1, \"107\": 2, \"57\": 1, \"119\": 1, \"4\": 1}, \"48\": {\"48\": 4, \"38\": 2, \"108\": 2, \"128\": 2}, \"7\": {\"48\": 1, \"7\": 6, \"19\": 2, \"124\": 1, \"58\": 1, \"103\": 1}, \"94\": {\"94\": 7, \"6\": 1, \"119\": 1, \"75\": 1, \"24\": 1, \"13\": 1}, \"38\": {\"38\": 6, \"40\": 1, \"32\": 1, \"104\": 2, \"57\": 1, \"74\": 1}, \"64\": {\"64\": 8, \"102\": 1, \"23\": 1, \"92\": 1, \"121\": 1}, \"43\": {\"64\": 1, \"43\": 5, \"122\": 1, \"96\": 1, \"4\": 1, \"45\": 1, \"57\": 2}, \"15\": {\"15\": 6, \"54\": 2, \"35\": 2, \"106\": 1, \"25\": 1}, \"82\": {\"33\": 2, \"82\": 10}, \"84\": {\"55\": 1, \"84\": 9, \"50\": 1, \"40\": 1}, \"29\": {\"29\": 11, \"44\": 1}, \"121\": {\"121\": 8, \"109\": 1, \"23\": 1, \"61\": 1, \"89\": 1}, \"127\": {\"127\": 5, \"9\": 1, \"46\": 1, \"85\": 1, \"68\": 1, \"91\": 2, \"124\": 1}, \"40\": {\"40\": 10, \"84\": 1, \"16\": 1}, \"106\": {\"51\": 2, \"106\": 9, \"111\": 1}, \"3\": {\"95\": 1, \"127\": 1, \"128\": 1, \"3\": 7, \"10\": 1, \"56\": 1}, \"120\": {\"120\": 11, \"10\": 1}, \"6\": {\"46\": 1, \"51\": 1, \"6\": 2, \"24\": 3, \"75\": 2, \"35\": 1, \"59\": 1, \"60\": 1}, \"0\": {\"0\": 5, \"111\": 1, \"58\": 1, \"3\": 1, \"12\": 1, \"7\": 1, \"95\": 1, \"27\": 1}, \"4\": {\"61\": 1, \"110\": 1, \"60\": 1, \"128\": 1, \"105\": 1, \"4\": 4, \"99\": 2, \"23\": 1}, \"27\": {\"0\": 1, \"106\": 1, \"27\": 5, \"101\": 1, \"59\": 1, \"34\": 1, \"6\": 2}, \"107\": {\"115\": 1, \"129\": 1, \"107\": 6, \"74\": 1, \"16\": 1, \"87\": 1, \"104\": 1}, \"61\": {\"115\": 2, \"61\": 7, \"13\": 1, \"117\": 1, \"113\": 1}, \"10\": {\"29\": 1, \"10\": 6, \"112\": 1, \"86\": 2, \"128\": 2}, \"67\": {\"67\": 7, \"113\": 1, \"121\": 1, \"49\": 1, \"63\": 2}, \"58\": {\"58\": 9, \"101\": 1}, \"66\": {\"66\": 8, \"38\": 1, \"10\": 1, \"9\": 1, \"105\": 1}, \"108\": {\"108\": 4, \"85\": 1, \"28\": 2, \"10\": 1, \"65\": 1, \"113\": 1, \"4\": 2}, \"20\": {\"60\": 1, \"20\": 4, \"11\": 1, \"79\": 1, \"44\": 1, \"29\": 1, \"49\": 1, \"114\": 1, \"90\": 1}, \"60\": {\"60\": 7, \"29\": 1, \"76\": 1, \"20\": 1, \"108\": 2}, \"128\": {\"85\": 2, \"20\": 2, \"105\": 1, \"128\": 6, \"114\": 1}, \"118\": {\"118\": 4, \"102\": 1, \"84\": 1, \"88\": 1, \"33\": 2, \"93\": 1, \"108\": 1, \"22\": 1}, \"25\": {\"25\": 11, \"75\": 1}, \"83\": {\"30\": 1, \"111\": 1, \"83\": 7, \"97\": 1, \"58\": 1, \"72\": 1}, \"68\": {\"85\": 2, \"108\": 1, \"68\": 5, \"48\": 1, \"41\": 1, \"105\": 1, \"86\": 1}, \"77\": {\"85\": 2, \"77\": 8, \"55\": 1, \"95\": 1}, \"88\": {\"22\": 2, \"108\": 1, \"21\": 1, \"42\": 2, \"88\": 5, \"49\": 1}, \"105\": {\"105\": 10, \"128\": 1, \"79\": 1}, \"35\": {\"35\": 8, \"10\": 1, \"110\": 1, \"72\": 1, \"83\": 1}, \"52\": {\"52\": 4, \"118\": 1, \"115\": 1, \"47\": 1, \"0\": 1}, \"59\": {\"59\": 7, \"6\": 1}, \"74\": {\"74\": 8, \"40\": 1, \"107\": 3}, \"16\": {\"16\": 4, \"87\": 1, \"20\": 1, \"31\": 1, \"69\": 1, \"119\": 1, \"40\": 1}, \"62\": {\"115\": 1, \"62\": 6, \"26\": 1, \"13\": 1, \"82\": 1}, \"79\": {\"79\": 12}, \"44\": {\"44\": 10}, \"113\": {\"26\": 1, \"113\": 5, \"67\": 2, \"61\": 2}, \"37\": {\"37\": 4, \"34\": 2, \"57\": 1, \"72\": 1}, \"100\": {\"100\": 5, \"40\": 1}}, \"W_A_2\": {\"73\": {\"73\": 9, \"40\": 1, \"22\": 2}, \"40\": {\"40\": 6, \"37\": 3, \"73\": 1, \"46\": 1, \"119\": 1}, \"99\": {\"89\": 1, \"99\": 11}, \"5\": {\"5\": 7, \"95\": 1, \"105\": 1, \"73\": 1, \"71\": 2}, \"108\": {\"108\": 9, \"49\": 1, \"123\": 1, \"58\": 1}, \"128\": {\"107\": 1, \"40\": 1, \"71\": 1, \"32\": 1, \"78\": 2, \"38\": 1, \"97\": 1, \"30\": 1, \"129\": 1}, \"89\": {\"89\": 3, \"96\": 2, \"72\": 1, \"48\": 1, \"102\": 1, \"92\": 1, \"110\": 1, \"13\": 1, \"90\": 1}, \"107\": {\"73\": 3, \"40\": 2, \"115\": 1, \"4\": 1, \"107\": 2, \"6\": 1, \"71\": 2}, \"2\": {\"2\": 10, \"120\": 1, \"96\": 1}, \"78\": {\"53\": 2, \"99\": 1, \"4\": 1, \"43\": 1, \"114\": 1, \"60\": 1, \"20\": 1, \"78\": 1, \"22\": 1, \"66\": 2}, \"85\": {\"85\": 7, \"119\": 1, \"122\": 2, \"71\": 1, \"78\": 1}, \"44\": {\"44\": 9, \"60\": 1, \"115\": 1, \"88\": 1}, \"58\": {\"58\": 5, \"17\": 1, \"98\": 1, \"39\": 1, \"51\": 3, \"59\": 1}, \"57\": {\"2\": 1, \"99\": 1, \"57\": 8, \"102\": 1, \"10\": 1}, \"41\": {\"41\": 10, \"88\": 1, \"44\": 1}, \"53\": {\"53\": 10, \"57\": 1, \"109\": 1}, \"14\": {\"118\": 2, \"14\": 6, \"39\": 1, \"121\": 1, \"45\": 1, \"67\": 1}, \"83\": {\"119\": 1, \"83\": 6, \"16\": 1, \"78\": 1, \"38\": 1, \"48\": 1, \"92\": 1}, \"119\": {\"119\": 10, \"90\": 2}, \"95\": {\"85\": 2, \"110\": 3, \"95\": 6, \"1\": 1}, \"28\": {\"28\": 4, \"85\": 1, \"90\": 1, \"66\": 1, \"10\": 2, \"96\": 1, \"46\": 1, \"40\": 1}, \"19\": {\"19\": 10, \"119\": 1, \"116\": 1}, \"69\": {\"69\": 7, \"118\": 1, \"16\": 2, \"93\": 1, \"21\": 1}, \"93\": {\"93\": 8, \"69\": 1, \"121\": 1, \"13\": 1, \"92\": 1}, \"9\": {\"9\": 11, \"15\": 1}, \"118\": {\"93\": 1, \"118\": 2, \"82\": 1, \"92\": 1, \"55\": 2, \"16\": 1, \"69\": 1, \"78\": 1, \"14\": 2}, \"43\": {\"43\": 2, \"100\": 1, \"21\": 1, \"115\": 2, \"84\": 1, \"108\": 1, \"38\": 1, \"110\": 1, \"46\": 2}, \"47\": {\"28\": 1, \"85\": 1, \"43\": 1, \"47\": 4, \"110\": 1, \"90\": 1, \"87\": 1, \"119\": 2}, \"125\": {\"125\": 8, \"94\": 1, \"36\": 1, \"51\": 2}, \"29\": {\"29\": 9, \"0\": 1, \"24\": 1, \"54\": 1}, \"4\": {\"4\": 10, \"122\": 1, \"3\": 1}, \"55\": {\"50\": 2, \"67\": 2, \"55\": 4, \"80\": 1, \"105\": 1, \"84\": 2}, \"105\": {\"105\": 6, \"122\": 1, \"19\": 2, \"92\": 1, \"95\": 1, \"73\": 1}, \"50\": {\"50\": 8, \"105\": 1, \"86\": 1, \"33\": 1, \"129\": 1}, \"62\": {\"50\": 2, \"62\": 6, \"61\": 1, \"48\": 1, \"22\": 1, \"23\": 1}, \"24\": {\"15\": 2, \"123\": 1, \"25\": 1, \"75\": 2, \"90\": 1, \"27\": 2, \"94\": 2, \"53\": 1}, \"60\": {\"60\": 4, \"116\": 1, \"48\": 1, \"114\": 1, \"100\": 1, \"122\": 1, \"123\": 1, \"96\": 1, \"45\": 1}, \"106\": {\"106\": 9, \"6\": 1, \"30\": 1, \"127\": 1}, \"59\": {\"24\": 1, \"59\": 8, \"32\": 1, \"54\": 1, \"80\": 1}, \"49\": {\"49\": 2, \"59\": 1, \"22\": 1, \"4\": 1, \"70\": 1, \"114\": 3, \"0\": 1, \"6\": 1, \"57\": 1}, \"76\": {\"60\": 2, \"76\": 1, \"38\": 1, \"17\": 1, \"39\": 1, \"34\": 2, \"96\": 1, \"31\": 1, \"107\": 2}, \"122\": {\"122\": 5, \"85\": 2, \"108\": 1, \"71\": 1, \"66\": 1, \"70\": 1, \"10\": 1}, \"114\": {\"114\": 6, \"5\": 1, \"112\": 1, \"10\": 1, \"57\": 1}, \"15\": {\"15\": 9, \"9\": 1, \"25\": 1, \"125\": 1}, \"98\": {\"98\": 12}, \"91\": {\"98\": 3, \"38\": 2, \"43\": 1, \"35\": 2, \"91\": 1, \"103\": 1, \"17\": 1, \"106\": 1}, \"80\": {\"80\": 5, \"86\": 2, \"45\": 1, \"37\": 1, \"33\": 1, \"67\": 1, \"19\": 1}, \"113\": {\"113\": 7, \"72\": 2, \"61\": 1, \"99\": 2}, \"38\": {\"38\": 12}, \"86\": {\"85\": 1, \"86\": 9, \"129\": 1, \"64\": 1}, \"0\": {\"21\": 1, \"0\": 7, \"29\": 1, \"98\": 1}, \"90\": {\"90\": 8, \"126\": 1, \"33\": 1, \"64\": 1, \"87\": 1}, \"21\": {\"21\": 8, \"113\": 1, \"2\": 1, \"84\": 1, \"68\": 1}, \"31\": {\"31\": 5, \"80\": 2, \"83\": 1, \"82\": 1, \"46\": 1, \"116\": 1, \"96\": 1}, \"33\": {\"33\": 9, \"50\": 1, \"45\": 1, \"84\": 1}, \"64\": {\"90\": 1, \"80\": 1, \"64\": 8, \"46\": 1, \"118\": 1}, \"81\": {\"81\": 7, \"102\": 1, \"13\": 1, \"65\": 1, \"26\": 2}, \"17\": {\"81\": 1, \"105\": 1, \"17\": 3, \"16\": 1, \"95\": 1, \"4\": 1, \"21\": 1, \"104\": 1, \"23\": 1, \"124\": 1}, \"102\": {\"102\": 9, \"67\": 2, \"116\": 1}, \"74\": {\"17\": 1, \"74\": 6, \"6\": 1, \"84\": 2, \"116\": 2}, \"34\": {\"11\": 1, \"122\": 1, \"52\": 1, \"124\": 1, \"73\": 1, \"34\": 3, \"1\": 1, \"70\": 1, \"107\": 1, \"128\": 1}, \"45\": {\"45\": 4, \"33\": 1, \"15\": 1, \"48\": 1, \"102\": 2, \"50\": 2, \"119\": 1}, \"75\": {\"15\": 1, \"75\": 11}, \"11\": {\"79\": 1, \"11\": 5, \"12\": 1, \"71\": 1, \"3\": 1, \"68\": 1, \"111\": 1, \"91\": 1}, \"79\": {\"122\": 2, \"3\": 1, \"79\": 2, \"56\": 2, \"103\": 1, \"7\": 2, \"112\": 2}, \"109\": {\"109\": 9, \"88\": 1, \"13\": 1, \"57\": 1}, \"6\": {\"125\": 2, \"6\": 8, \"30\": 1, \"107\": 1}, \"94\": {\"125\": 3, \"21\": 2, \"101\": 1, \"94\": 5, \"82\": 1}, \"100\": {\"100\": 8, \"90\": 2, \"84\": 1, \"57\": 1}, \"67\": {\"100\": 1, \"67\": 6, \"50\": 3, \"92\": 1, \"45\": 1}, \"97\": {\"97\": 10, \"94\": 1, \"106\": 1}, \"112\": {\"43\": 1, \"112\": 8, \"110\": 1, \"60\": 1, \"38\": 1}, \"96\": {\"96\": 6, \"89\": 1, \"46\": 1, \"82\": 2, \"31\": 1, \"21\": 1}, \"35\": {\"35\": 6, \"97\": 1, \"10\": 1, \"0\": 1, \"98\": 1, \"29\": 2}, \"54\": {\"54\": 8, \"19\": 1, \"79\": 1, \"7\": 1, \"59\": 1}, \"111\": {\"111\": 9, \"116\": 1, \"52\": 1, \"101\": 1}, \"61\": {\"2\": 1, \"61\": 9, \"21\": 1, \"104\": 1}, \"82\": {\"82\": 10, \"55\": 1, \"100\": 1}, \"110\": {\"110\": 9, \"1\": 1, \"86\": 2}, \"116\": {\"83\": 1, \"116\": 3, \"105\": 1, \"80\": 2, \"100\": 1, \"44\": 1, \"43\": 1, \"66\": 2}, \"115\": {\"115\": 10, \"8\": 1, \"76\": 1}, \"84\": {\"86\": 2, \"84\": 6, \"37\": 1, \"62\": 2, \"13\": 1}, \"25\": {\"25\": 8, \"105\": 1, \"15\": 2, \"76\": 1}, \"66\": {\"123\": 1, \"47\": 1, \"66\": 4, \"76\": 2, \"39\": 1, \"129\": 1, \"119\": 2}, \"20\": {\"99\": 2, \"20\": 7, \"16\": 2, \"96\": 1}, \"72\": {\"72\": 8, \"84\": 1, \"81\": 1, \"89\": 1, \"63\": 1}, \"123\": {\"123\": 12}, \"3\": {\"3\": 8, \"42\": 1, \"115\": 1, \"123\": 2}, \"124\": {\"38\": 1, \"4\": 1, \"124\": 6, \"56\": 1, \"46\": 1, \"78\": 1, \"19\": 1}, \"36\": {\"36\": 5, \"24\": 1, \"27\": 1, \"125\": 1}, \"12\": {\"38\": 1, \"21\": 1, \"11\": 4, \"103\": 1, \"124\": 1, \"44\": 1, \"12\": 2, \"129\": 1}, \"10\": {\"38\": 4, \"22\": 1, \"10\": 6, \"32\": 1}, \"23\": {\"123\": 1, \"120\": 1, \"71\": 1, \"23\": 1, \"42\": 2, \"109\": 1, \"124\": 1, \"114\": 1, \"57\": 1}, \"120\": {\"120\": 12}, \"121\": {\"121\": 9, \"18\": 1, \"118\": 1, \"20\": 1}, \"68\": {\"19\": 2, \"68\": 6, \"79\": 1, \"112\": 1, \"85\": 2}, \"117\": {\"121\": 1, \"117\": 8, \"127\": 1, \"81\": 2}, \"92\": {\"116\": 1, \"82\": 1, \"16\": 1, \"92\": 1, \"88\": 3, \"102\": 1, \"89\": 1, \"62\": 1, \"80\": 2}, \"129\": {\"100\": 1, \"90\": 1, \"40\": 1, \"129\": 1, \"70\": 1, \"87\": 1, \"19\": 2, \"53\": 1, \"32\": 2, \"60\": 1}, \"7\": {\"7\": 8, \"26\": 1, \"103\": 1, \"66\": 1, \"52\": 1}, \"37\": {\"61\": 1, \"37\": 6, \"16\": 1, \"10\": 1, \"84\": 1, \"40\": 1, \"109\": 1}, \"71\": {\"40\": 2, \"71\": 8, \"79\": 1, \"38\": 1}, \"30\": {\"0\": 1, \"29\": 1, \"101\": 1, \"77\": 1, \"106\": 1, \"103\": 1, \"30\": 3, \"59\": 2, \"47\": 1}, \"127\": {\"127\": 7, \"42\": 1, \"103\": 1, \"98\": 1}, \"52\": {\"52\": 3, \"127\": 1, \"10\": 1, \"63\": 1, \"34\": 2, \"115\": 1, \"42\": 1, \"98\": 1, \"0\": 1}, \"22\": {\"22\": 7, \"66\": 2, \"87\": 2, \"1\": 1}, \"16\": {\"16\": 4, \"22\": 1, \"14\": 2, \"50\": 1, \"13\": 2, \"118\": 1, \"82\": 1}, \"126\": {\"78\": 1, \"90\": 1, \"39\": 1, \"66\": 1, \"70\": 1, \"126\": 1, \"119\": 2}, \"48\": {\"17\": 1, \"48\": 6, \"6\": 1, \"62\": 2, \"94\": 1, \"87\": 1}, \"101\": {\"101\": 10, \"30\": 1, \"59\": 1}, \"42\": {\"60\": 2, \"32\": 1, \"71\": 2, \"61\": 1, \"3\": 1, \"115\": 2, \"47\": 1, \"98\": 1, \"42\": 1}, \"1\": {\"10\": 1, \"1\": 6, \"19\": 3, \"3\": 1, \"8\": 1}, \"63\": {\"63\": 12}, \"56\": {\"111\": 1, \"56\": 6, \"51\": 1, \"115\": 1, \"3\": 1, \"78\": 1, \"71\": 1}, \"18\": {\"18\": 10, \"88\": 1, \"63\": 1}, \"46\": {\"46\": 11, \"119\": 1}, \"103\": {\"8\": 1, \"52\": 1, \"103\": 5, \"11\": 1, \"7\": 1, \"124\": 1, \"95\": 1, \"59\": 1}, \"13\": {\"18\": 2, \"13\": 3, \"72\": 1, \"82\": 3, \"16\": 1, \"14\": 1, \"118\": 1}, \"8\": {\"124\": 1, \"53\": 1, \"8\": 5, \"19\": 1, \"96\": 1, \"61\": 1, \"42\": 1, \"60\": 1}, \"39\": {\"39\": 5, \"26\": 2, \"63\": 1, \"72\": 1, \"43\": 1, \"109\": 1, \"57\": 1}, \"51\": {\"51\": 5, \"58\": 1, \"70\": 1, \"106\": 1, \"9\": 1, \"88\": 1, \"15\": 1, \"125\": 1}, \"87\": {\"39\": 1, \"74\": 1, \"88\": 2, \"19\": 1, \"87\": 2, \"96\": 2, \"109\": 1, \"118\": 1, \"50\": 1}, \"27\": {\"27\": 7, \"81\": 1, \"97\": 1, \"25\": 1, \"12\": 1, \"117\": 1}, \"70\": {\"70\": 4, \"50\": 1, \"1\": 2, \"88\": 3, \"62\": 1, \"39\": 1}, \"32\": {\"32\": 7, \"71\": 1, \"17\": 1, \"50\": 1, \"60\": 1, \"37\": 1}, \"77\": {\"77\": 10, \"7\": 1, \"39\": 1}, \"26\": {\"26\": 8, \"65\": 1, \"82\": 1, \"81\": 2}, \"88\": {\"88\": 5, \"87\": 1, \"10\": 1, \"116\": 1, \"70\": 2}, \"65\": {\"23\": 2, \"65\": 8, \"26\": 1, \"120\": 1}, \"104\": {\"42\": 1, \"104\": 4, \"96\": 2, \"28\": 1}}, \"C_A_4\": {\"38\": {\"38\": 11, \"43\": 1}, \"3\": {\"17\": 1, \"3\": 6, \"42\": 2, \"6\": 1, \"26\": 1, \"36\": 1}, \"24\": {\"24\": 7, \"10\": 1, \"38\": 4}, \"49\": {\"49\": 10}, \"7\": {\"7\": 11, \"47\": 1}, \"17\": {\"17\": 12}, \"43\": {\"43\": 9, \"14\": 1}, \"30\": {\"30\": 12}, \"44\": {\"44\": 8, \"26\": 1, \"33\": 1, \"4\": 1, \"34\": 1}, \"23\": {\"23\": 10}, \"37\": {\"37\": 11, \"55\": 1}, \"4\": {\"4\": 12}, \"57\": {\"57\": 8, \"55\": 1, \"47\": 1, \"1\": 1, \"5\": 1}, \"16\": {\"16\": 6, \"23\": 1, \"0\": 1}, \"18\": {\"18\": 12}, \"20\": {\"3\": 1, \"20\": 9}, \"45\": {\"45\": 7, \"27\": 1}, \"15\": {\"15\": 10}, \"52\": {\"15\": 2, \"39\": 1, \"52\": 5, \"23\": 2, \"47\": 1, \"16\": 1}, \"19\": {\"19\": 11, \"54\": 1}, \"54\": {\"54\": 12}, \"56\": {\"56\": 7, \"7\": 2, \"47\": 1}, \"40\": {\"54\": 1, \"19\": 1, \"40\": 4, \"28\": 2, \"39\": 1, \"44\": 1, \"9\": 2}, \"28\": {\"28\": 7, \"34\": 1, \"40\": 1, \"39\": 1, \"33\": 2}, \"2\": {\"52\": 2, \"2\": 6}, \"9\": {\"17\": 1, \"9\": 10, \"25\": 1}, \"0\": {\"0\": 9, \"46\": 1, \"11\": 2}, \"36\": {\"36\": 10, \"3\": 1, \"42\": 1}, \"55\": {\"55\": 10}, \"35\": {\"14\": 1, \"35\": 8, \"5\": 1}, \"39\": {\"39\": 10, \"31\": 1, \"6\": 1}, \"31\": {\"31\": 11, \"39\": 1}, \"14\": {\"54\": 1, \"43\": 1, \"10\": 2, \"35\": 1, \"2\": 1, \"26\": 1, \"0\": 2, \"14\": 3}, \"12\": {\"12\": 12}, \"6\": {\"54\": 2, \"33\": 1, \"3\": 3, \"6\": 4}, \"48\": {\"17\": 1, \"48\": 6, \"28\": 2, \"33\": 2, \"6\": 1}, \"51\": {\"51\": 9, \"54\": 1}, \"5\": {\"1\": 2, \"47\": 3, \"5\": 5, \"34\": 1, \"52\": 1}, \"22\": {\"22\": 8, \"10\": 1, \"24\": 2, \"43\": 1}, \"25\": {\"25\": 12}, \"26\": {\"26\": 9, \"50\": 2, \"28\": 1}, \"47\": {\"1\": 1, \"47\": 9, \"5\": 2}, \"1\": {\"47\": 1, \"1\": 4, \"57\": 3, \"28\": 1, \"39\": 1}, \"41\": {\"41\": 12}, \"27\": {\"27\": 6, \"50\": 3, \"17\": 1, \"30\": 1, \"36\": 1}, \"8\": {\"8\": 11, \"21\": 1}, \"29\": {\"29\": 10, \"33\": 2}, \"11\": {\"11\": 8, \"0\": 1, \"15\": 1}, \"34\": {\"49\": 1, \"34\": 6, \"39\": 1, \"42\": 1, \"5\": 1, \"55\": 2}, \"21\": {\"21\": 12}, \"53\": {\"53\": 7, \"51\": 1, \"20\": 1, \"25\": 1}, \"10\": {\"10\": 11, \"24\": 1}, \"33\": {\"33\": 10, \"26\": 1, \"40\": 1}, \"42\": {\"42\": 12}, \"50\": {\"27\": 4, \"51\": 1, \"50\": 3, \"42\": 1, \"36\": 1}, \"13\": {\"13\": 4}, \"46\": {\"32\": 3, \"46\": 3, \"31\": 1, \"16\": 1}, \"32\": {\"32\": 8}}, \"C_A_2\": {\"32\": {\"32\": 11, \"17\": 1}, \"17\": {\"25\": 1, \"17\": 10, \"48\": 1}, \"38\": {\"23\": 2, \"38\": 7, \"14\": 1, \"43\": 1, \"28\": 1}, \"2\": {\"23\": 1, \"37\": 1, \"2\": 5, \"34\": 1, \"55\": 2}, \"43\": {\"43\": 8}, \"56\": {\"56\": 11, \"43\": 1}, \"37\": {\"37\": 12}, \"49\": {\"49\": 10, \"25\": 1, \"3\": 1}, \"0\": {\"15\": 1, \"0\": 7, \"42\": 1, \"23\": 1}, \"29\": {\"29\": 8, \"33\": 1, \"57\": 1}, \"35\": {\"35\": 10}, \"18\": {\"18\": 11, \"55\": 1}, \"25\": {\"25\": 12}, \"23\": {\"23\": 11, \"28\": 1}, \"15\": {\"15\": 12}, \"21\": {\"21\": 11, \"51\": 1}, \"48\": {\"48\": 9, \"7\": 1, \"57\": 2}, \"12\": {\"12\": 10}, \"41\": {\"55\": 1, \"41\": 8, \"39\": 1}, \"14\": {\"22\": 1, \"14\": 3, \"40\": 2, \"32\": 2, \"24\": 1, \"19\": 1, \"33\": 1, \"34\": 1}, \"7\": {\"7\": 8, \"55\": 1, \"57\": 1}, \"9\": {\"9\": 10, \"40\": 2}, \"55\": {\"55\": 8, \"42\": 2, \"2\": 1, \"34\": 1}, \"36\": {\"36\": 11, \"27\": 1}, \"22\": {\"13\": 2, \"22\": 6, \"31\": 2, \"43\": 1, \"28\": 1}, \"13\": {\"13\": 9, \"52\": 1}, \"30\": {\"30\": 12}, \"51\": {\"51\": 10, \"53\": 1, \"6\": 1}, \"34\": {\"34\": 8, \"2\": 1, \"39\": 1, \"3\": 1, \"17\": 1}, \"57\": {\"48\": 2, \"57\": 5, \"19\": 1, \"42\": 3, \"29\": 1}, \"47\": {\"47\": 8, \"23\": 2, \"39\": 1, \"48\": 1}, \"1\": {\"57\": 1, \"1\": 5, \"7\": 1, \"46\": 1, \"41\": 1, \"31\": 1}, \"44\": {\"44\": 9, \"49\": 2, \"25\": 1}, \"31\": {\"7\": 4, \"31\": 4, \"1\": 1, \"5\": 1}, \"4\": {\"4\": 8, \"40\": 1, \"9\": 2, \"33\": 1}, \"10\": {\"10\": 12}, \"33\": {\"29\": 1, \"33\": 8, \"19\": 2, \"40\": 1}, \"52\": {\"52\": 11, \"39\": 1}, \"24\": {\"10\": 4, \"24\": 8}, \"8\": {\"8\": 10}, \"26\": {\"26\": 10}, \"42\": {\"57\": 1, \"42\": 10, \"47\": 1}, \"53\": {\"53\": 7, \"8\": 1, \"21\": 1, \"12\": 2, \"25\": 1}, \"54\": {\"54\": 12}, \"46\": {\"46\": 4, \"1\": 1, \"39\": 1, \"31\": 1, \"42\": 1, \"48\": 1, \"2\": 1}, \"39\": {\"39\": 11, \"46\": 1}, \"16\": {\"16\": 9, \"11\": 1}, \"11\": {\"11\": 12}, \"40\": {\"40\": 8, \"33\": 1, \"4\": 2, \"44\": 1}, \"28\": {\"28\": 8}, \"19\": {\"19\": 11, \"9\": 1}, \"50\": {\"25\": 1, \"50\": 3, \"34\": 1, \"6\": 1}, \"45\": {\"33\": 2, \"45\": 4, \"54\": 2, \"8\": 1, \"35\": 1}, \"20\": {\"20\": 12}, \"27\": {\"27\": 7, \"8\": 1, \"25\": 2}, \"6\": {\"42\": 2, \"6\": 5, \"25\": 2, \"17\": 1}, \"3\": {\"9\": 1, \"6\": 1, \"54\": 1, \"39\": 1, \"3\": 5, \"44\": 1}, \"5\": {\"5\": 6}}, \"C_A_3\": {\"5\": {\"39\": 2, \"5\": 3, \"55\": 1, \"42\": 1, \"34\": 1, \"48\": 2}, \"32\": {\"32\": 12}, \"33\": {\"33\": 9, \"39\": 1, \"6\": 1, \"41\": 1}, \"49\": {\"49\": 12}, \"39\": {\"39\": 12}, \"11\": {\"11\": 11, \"39\": 1}, \"8\": {\"8\": 12}, \"26\": {\"26\": 8, \"52\": 1, \"0\": 1}, \"51\": {\"51\": 11, \"46\": 1}, \"4\": {\"4\": 11, \"32\": 1}, \"52\": {\"52\": 8, \"11\": 1, \"26\": 1}, \"47\": {\"47\": 8, \"23\": 1, \"55\": 1, \"34\": 1, \"1\": 1}, \"17\": {\"17\": 10}, \"53\": {\"53\": 9, \"2\": 2, \"21\": 1}, \"2\": {\"12\": 2, \"2\": 8, \"54\": 2}, \"12\": {\"12\": 9, \"38\": 1}, \"28\": {\"57\": 1, \"28\": 7, \"5\": 2, \"34\": 1, \"55\": 1}, \"6\": {\"6\": 7, \"39\": 1, \"3\": 1, \"9\": 3}, \"50\": {\"50\": 5, \"6\": 1}, \"57\": {\"29\": 1, \"57\": 8, \"22\": 1, \"1\": 2}, \"38\": {\"38\": 12}, \"18\": {\"39\": 1, \"18\": 11}, \"29\": {\"32\": 1, \"29\": 7, \"40\": 1, \"9\": 1}, \"10\": {\"10\": 11, \"24\": 1}, \"13\": {\"13\": 8, \"11\": 4}, \"14\": {\"28\": 1, \"14\": 2, \"37\": 1, \"35\": 2, \"10\": 3, \"1\": 1, \"41\": 1, \"55\": 1}, \"16\": {\"52\": 2, \"16\": 7, \"41\": 1}, \"46\": {\"46\": 5, \"20\": 1, \"42\": 1, \"34\": 2, \"6\": 2, \"1\": 1}, \"44\": {\"44\": 10, \"3\": 1, \"46\": 1}, \"20\": {\"20\": 12}, \"0\": {\"0\": 10, \"23\": 1, \"16\": 1}, \"55\": {\"55\": 9, \"5\": 1, \"39\": 1, \"41\": 1}, \"56\": {\"56\": 3, \"43\": 2, \"14\": 1}, \"19\": {\"19\": 11, \"27\": 1}, \"36\": {\"36\": 12}, \"48\": {\"48\": 7, \"46\": 1, \"34\": 1, \"41\": 1, \"1\": 1, \"52\": 1}, \"37\": {\"37\": 11, \"48\": 1}, \"35\": {\"35\": 10}, \"31\": {\"31\": 6, \"48\": 1, \"34\": 1, \"42\": 2}, \"30\": {\"30\": 8}, \"41\": {\"41\": 9, \"46\": 2, \"3\": 1}, \"15\": {\"15\": 12}, \"1\": {\"1\": 10, \"57\": 1, \"34\": 1}, \"22\": {\"22\": 10, \"23\": 1, \"31\": 1}, \"21\": {\"21\": 10, \"6\": 1, \"48\": 1}, \"45\": {\"45\": 8, \"17\": 1, \"54\": 1}, \"42\": {\"42\": 11, \"34\": 1}, \"24\": {\"24\": 11, \"14\": 1}, \"40\": {\"19\": 1, \"40\": 9, \"44\": 1, \"4\": 1}, \"43\": {\"43\": 11, \"24\": 1}, \"3\": {\"3\": 5, \"2\": 1, \"50\": 1, \"27\": 1, \"46\": 1, \"42\": 1, \"28\": 1, \"29\": 1}, \"23\": {\"23\": 7, \"47\": 1}, \"27\": {\"27\": 9, \"17\": 1}, \"34\": {\"34\": 10, \"47\": 1, \"1\": 1}, \"9\": {\"9\": 8, \"29\": 2}, \"25\": {\"25\": 7, \"41\": 1}, \"54\": {\"54\": 8}, \"7\": {\"23\": 1, \"7\": 6, \"16\": 1}}, \"W_A_1\": {\"57\": {\"129\": 1, \"114\": 1, \"76\": 1, \"57\": 5, \"38\": 1, \"21\": 1, \"104\": 1, \"82\": 1}, \"113\": {\"113\": 6, \"118\": 1, \"46\": 1, \"16\": 2, \"13\": 1, \"120\": 1}, \"114\": {\"114\": 6, \"113\": 1, \"17\": 2, \"74\": 1, \"122\": 1, \"7\": 1}, \"88\": {\"13\": 1, \"71\": 2, \"88\": 2, \"12\": 1, \"125\": 2, \"30\": 1, \"36\": 2, \"51\": 1}, \"4\": {\"114\": 1, \"4\": 3, \"17\": 1, \"107\": 2, \"105\": 1, \"0\": 1, \"10\": 1, \"89\": 1, \"23\": 1}, \"129\": {\"129\": 2, \"114\": 1, \"57\": 1, \"67\": 1, \"74\": 1, \"20\": 2, \"81\": 1, \"100\": 1, \"116\": 1, \"19\": 1}, \"67\": {\"67\": 12}, \"84\": {\"129\": 3, \"114\": 1, \"40\": 2, \"38\": 1, \"73\": 1}, \"13\": {\"118\": 1, \"129\": 1, \"13\": 6, \"11\": 1, \"117\": 1, \"97\": 1, \"63\": 1}, \"71\": {\"71\": 12}, \"10\": {\"113\": 1, \"10\": 7, \"42\": 2, \"47\": 1, \"120\": 1}, \"56\": {\"56\": 9, \"61\": 1, \"85\": 1, \"41\": 1}, \"109\": {\"109\": 7, \"10\": 1, \"70\": 2, \"38\": 1, \"78\": 1}, \"117\": {\"118\": 3, \"117\": 5, \"74\": 1, \"11\": 1, \"16\": 2}, \"9\": {\"9\": 8, \"40\": 1, \"108\": 1, \"31\": 1, \"103\": 1}, \"118\": {\"117\": 1, \"118\": 7, \"95\": 1, \"69\": 3}, \"85\": {\"85\": 9, \"0\": 1, \"110\": 1, \"107\": 1}, \"44\": {\"44\": 10}, \"17\": {\"36\": 1, \"4\": 1, \"107\": 2, \"47\": 1, \"17\": 3, \"37\": 1, \"7\": 1}, \"24\": {\"24\": 5, \"12\": 1, \"97\": 2, \"98\": 1, \"88\": 1, \"127\": 1, \"58\": 1}, \"98\": {\"24\": 2, \"98\": 9, \"75\": 1}, \"12\": {\"63\": 1, \"12\": 7, \"68\": 2, \"75\": 1, \"27\": 1}, \"106\": {\"106\": 9, \"46\": 1, \"103\": 2}, \"42\": {\"14\": 1, \"63\": 2, \"3\": 2, \"80\": 1, \"29\": 1, \"0\": 2, \"42\": 1, \"95\": 1, \"22\": 1}, \"63\": {\"63\": 10, \"123\": 2}, \"14\": {\"14\": 10, \"3\": 1, \"20\": 1}, \"122\": {\"14\": 2, \"61\": 1, \"122\": 1, \"19\": 1, \"82\": 1, \"57\": 1, \"74\": 1, \"105\": 1, \"102\": 1}, \"36\": {\"36\": 10, \"125\": 1, \"88\": 1}, \"125\": {\"125\": 6, \"15\": 1, \"6\": 1, \"92\": 2, \"51\": 2}, \"62\": {\"62\": 7, \"95\": 1, \"3\": 1, \"50\": 1, \"65\": 1, \"74\": 1}, \"38\": {\"10\": 1, \"38\": 5, \"8\": 1, \"1\": 1, \"57\": 2, \"116\": 2}, \"40\": {\"40\": 10, \"104\": 1, \"114\": 1}, \"116\": {\"62\": 1, \"38\": 1, \"116\": 6, \"93\": 1, \"20\": 1, \"80\": 1, \"119\": 1}, \"2\": {\"62\": 1, \"84\": 1, \"81\": 1, \"26\": 1, \"61\": 1, \"18\": 1, \"107\": 1, \"1\": 1, \"2\": 1, \"100\": 1, \"116\": 1, \"80\": 1}, \"54\": {\"54\": 10, \"72\": 1, \"46\": 1}, \"26\": {\"26\": 9, \"15\": 1, \"112\": 1, \"118\": 1}, \"92\": {\"98\": 1, \"92\": 6, \"71\": 1}, \"120\": {\"120\": 5, \"26\": 1, \"80\": 1, \"65\": 1, \"100\": 1, \"8\": 1, \"57\": 2}, \"108\": {\"10\": 1, \"108\": 2, \"77\": 1, \"7\": 1, \"110\": 2, \"41\": 2, \"21\": 1}, \"77\": {\"93\": 1, \"101\": 1, \"110\": 2, \"77\": 4, \"103\": 1, \"7\": 2, \"54\": 1}, \"58\": {\"103\": 1, \"101\": 1, \"10\": 1, \"58\": 3, \"55\": 4, \"92\": 1, \"4\": 1}, \"73\": {\"84\": 1, \"8\": 1, \"73\": 4, \"124\": 1, \"72\": 2, \"115\": 2, \"126\": 1}, \"61\": {\"61\": 8, \"82\": 2, \"12\": 1, \"57\": 1}, \"126\": {\"73\": 4, \"126\": 3, \"21\": 1, \"93\": 1, \"28\": 1, \"45\": 1, \"7\": 1}, \"103\": {\"103\": 7, \"101\": 1, \"86\": 1, \"106\": 1, \"9\": 2}, \"100\": {\"100\": 10, \"3\": 1, \"61\": 1}, \"46\": {\"58\": 1, \"73\": 1, \"27\": 1, \"129\": 1, \"115\": 1, \"122\": 1, \"94\": 1, \"81\": 1, \"25\": 1, \"107\": 1, \"97\": 2}, \"93\": {\"103\": 1, \"93\": 5, \"21\": 1, \"29\": 1, \"115\": 1, \"43\": 1, \"105\": 1, \"87\": 1}, \"101\": {\"101\": 11, \"128\": 1}, \"32\": {\"32\": 2, \"101\": 1, \"10\": 2, \"0\": 3, \"55\": 2, \"34\": 1, \"68\": 1}, \"16\": {\"16\": 7, \"113\": 1, \"63\": 1, \"62\": 1, \"13\": 1, \"117\": 1}, \"8\": {\"8\": 6, \"72\": 1, \"70\": 1, \"87\": 2, \"116\": 1, \"0\": 1}, \"104\": {\"104\": 8, \"7\": 1, \"95\": 1, \"48\": 1, \"67\": 1}, \"47\": {\"42\": 2, \"47\": 5, \"76\": 1, \"104\": 2, \"29\": 2}, \"3\": {\"3\": 8, \"14\": 1, \"78\": 1, \"102\": 2}, \"1\": {\"1\": 9, \"72\": 1, \"107\": 1, \"87\": 1}, \"18\": {\"3\": 1, \"18\": 5, \"95\": 3, \"67\": 1, \"39\": 1, \"60\": 1}, \"97\": {\"97\": 7, \"1\": 1, \"24\": 1, \"91\": 1}, \"107\": {\"107\": 10, \"17\": 1, \"115\": 1}, \"15\": {\"15\": 5, \"88\": 1, \"98\": 1, \"30\": 1, \"52\": 1, \"56\": 1, \"59\": 2}, \"6\": {\"6\": 8, \"88\": 1, \"111\": 2, \"24\": 1}, \"86\": {\"86\": 8, \"7\": 2, \"85\": 2}, \"30\": {\"15\": 2, \"30\": 3, \"75\": 1, \"28\": 1, \"106\": 1, \"51\": 1, \"88\": 1, \"56\": 1, \"52\": 1}, \"111\": {\"111\": 8, \"127\": 2}, \"37\": {\"37\": 12}, \"81\": {\"81\": 7, \"82\": 1, \"129\": 1, \"62\": 1, \"11\": 2}, \"7\": {\"7\": 11, \"104\": 1}, \"70\": {\"70\": 6, \"7\": 1, \"48\": 2, \"29\": 1, \"26\": 1, \"8\": 1}, \"124\": {\"129\": 1, \"83\": 1, \"9\": 1, \"124\": 1, \"73\": 2, \"14\": 1, \"17\": 1, \"19\": 2}, \"76\": {\"76\": 12}, \"95\": {\"95\": 8, \"121\": 1, \"123\": 1, \"117\": 1, \"18\": 1}, \"27\": {\"27\": 6, \"85\": 1, \"53\": 1, \"52\": 1, \"56\": 1}, \"75\": {\"75\": 10, \"34\": 1, \"127\": 1}, \"50\": {\"67\": 2, \"65\": 1, \"102\": 2, \"45\": 1, \"50\": 4, \"81\": 1, \"80\": 1}, \"52\": {\"52\": 9, \"53\": 1, \"41\": 1, \"6\": 1}, \"83\": {\"83\": 3, \"57\": 1, \"21\": 1, \"45\": 1, \"59\": 2, \"79\": 1, \"8\": 1, \"99\": 1, \"73\": 1}, \"65\": {\"129\": 1, \"52\": 1, \"80\": 1, \"78\": 1, \"48\": 2, \"65\": 2, \"69\": 2, \"38\": 1, \"128\": 1}, \"121\": {\"121\": 8, \"95\": 1, \"63\": 1, \"117\": 2}, \"123\": {\"123\": 9, \"118\": 1, \"3\": 1, \"121\": 1}, \"110\": {\"110\": 4, \"96\": 1, \"40\": 1}, \"31\": {\"77\": 1, \"31\": 11}, \"68\": {\"68\": 8, \"72\": 1, \"32\": 1, \"7\": 1, \"101\": 1}, \"0\": {\"110\": 1, \"31\": 1, \"0\": 6, \"38\": 1, \"8\": 1, \"85\": 1, \"4\": 1}, \"72\": {\"72\": 10, \"0\": 1, \"4\": 1}, \"102\": {\"33\": 2, \"102\": 5, \"80\": 1, \"50\": 1, \"16\": 1}, \"48\": {\"48\": 7, \"7\": 1, \"70\": 1, \"8\": 1, \"64\": 1, \"72\": 1}, \"33\": {\"33\": 10, \"74\": 2}, \"51\": {\"51\": 11, \"94\": 1}, \"99\": {\"99\": 6, \"1\": 1, \"73\": 1}, \"82\": {\"82\": 6, \"80\": 2, \"40\": 1, \"57\": 1, \"61\": 1, \"22\": 1}, \"94\": {\"51\": 2, \"94\": 7, \"53\": 1, \"30\": 1, \"52\": 1}, \"25\": {\"25\": 5, \"99\": 2, \"122\": 1, \"29\": 1, \"129\": 1, \"39\": 1, \"120\": 1}, \"39\": {\"38\": 1, \"39\": 5, \"16\": 1, \"93\": 1, \"81\": 2, \"50\": 1, \"102\": 1}, \"59\": {\"59\": 12}, \"20\": {\"122\": 2, \"20\": 5, \"81\": 1, \"129\": 1, \"33\": 1, \"14\": 1, \"89\": 1}, \"53\": {\"53\": 10, \"5\": 1, \"125\": 1}, \"115\": {\"115\": 8, \"28\": 1, \"19\": 1}, \"41\": {\"41\": 5, \"23\": 1, \"48\": 1, \"30\": 1, \"70\": 1, \"115\": 1, \"17\": 1, \"108\": 1}, \"35\": {\"35\": 1, \"41\": 1, \"115\": 1, \"60\": 1, \"72\": 1, \"58\": 1}, \"64\": {\"104\": 2, \"28\": 1, \"23\": 1, \"64\": 3, \"66\": 1}, \"78\": {\"78\": 2, \"80\": 2, \"11\": 2, \"96\": 1, \"76\": 1, \"10\": 1, \"87\": 1, \"38\": 1, \"64\": 1}, \"45\": {\"78\": 1, \"45\": 4, \"81\": 1, \"96\": 1, \"16\": 1, \"75\": 1, \"126\": 1, \"23\": 1, \"14\": 1}, \"80\": {\"102\": 1, \"118\": 1, \"80\": 7, \"33\": 1, \"100\": 1, \"57\": 1}, \"128\": {\"128\": 3, \"29\": 1, \"54\": 1, \"66\": 1, \"110\": 1, \"126\": 1, \"101\": 3, \"17\": 1}, \"96\": {\"96\": 6, \"21\": 1, \"129\": 1, \"40\": 1, \"22\": 1, \"11\": 1, \"104\": 1}, \"69\": {\"33\": 3, \"69\": 8, \"61\": 1}, \"19\": {\"19\": 7, \"40\": 1, \"83\": 1, \"80\": 1, \"4\": 1, \"20\": 1}, \"119\": {\"119\": 9, \"100\": 2, \"3\": 1}, \"21\": {\"21\": 5, \"128\": 1, \"116\": 2, \"60\": 1, \"96\": 1, \"38\": 1, \"8\": 1}, \"91\": {\"103\": 1, \"91\": 5, \"111\": 1, \"87\": 1, \"106\": 1, \"112\": 1, \"47\": 1, \"54\": 1}, \"105\": {\"60\": 1, \"57\": 1, \"87\": 3, \"19\": 1, \"105\": 4, \"4\": 1, \"101\": 1}, \"60\": {\"60\": 4, \"63\": 1, \"22\": 2, \"54\": 2, \"0\": 1, \"115\": 1, \"61\": 1}, \"66\": {\"66\": 6, \"22\": 1, \"90\": 3}, \"55\": {\"55\": 10, \"0\": 1, \"107\": 1}, \"29\": {\"29\": 8, \"28\": 1, \"54\": 1, \"70\": 1, \"44\": 1}, \"34\": {\"116\": 1, \"96\": 2, \"106\": 1, \"109\": 1, \"1\": 1, \"87\": 2}, \"74\": {\"74\": 7, \"3\": 1}, \"49\": {\"49\": 4, \"89\": 2}, \"22\": {\"22\": 5, \"64\": 1, \"65\": 1, \"42\": 2, \"45\": 1, \"115\": 2}, \"5\": {\"5\": 5, \"40\": 1, \"49\": 1, \"23\": 1, \"110\": 1, \"42\": 2, \"114\": 1}, \"89\": {\"89\": 3, \"70\": 1, \"43\": 1, \"68\": 1, \"58\": 2}, \"127\": {\"127\": 9, \"75\": 1, \"68\": 1, \"111\": 1}, \"87\": {\"87\": 5, \"123\": 1, \"28\": 1, \"8\": 1, \"67\": 1, \"10\": 1, \"105\": 2}, \"23\": {\"54\": 1, \"31\": 1, \"70\": 1, \"115\": 1, \"41\": 1, \"8\": 1, \"10\": 1, \"47\": 1, \"89\": 1, \"23\": 1}, \"28\": {\"28\": 12}, \"43\": {\"7\": 1, \"115\": 1, \"87\": 2, \"78\": 2, \"43\": 2, \"45\": 1, \"48\": 1}, \"11\": {\"29\": 1, \"11\": 4, \"82\": 1, \"78\": 1, \"14\": 1}, \"112\": {\"112\": 6, \"12\": 1, \"59\": 1, \"52\": 1, \"30\": 1}, \"79\": {\"79\": 7, \"101\": 1}, \"90\": {\"90\": 5, \"66\": 1}}, \"C_A_1\": {\"55\": {\"55\": 9, \"54\": 1, \"42\": 1, \"25\": 1}, \"38\": {\"38\": 11, \"16\": 1}, \"49\": {\"49\": 9, \"47\": 1}, \"10\": {\"22\": 2, \"10\": 8, \"11\": 1, \"21\": 1}, \"28\": {\"28\": 10}, \"14\": {\"53\": 3, \"3\": 2, \"14\": 3, \"13\": 1, \"6\": 1, \"12\": 1, \"25\": 1}, \"19\": {\"19\": 9, \"42\": 1, \"56\": 1, \"7\": 1}, \"25\": {\"25\": 12}, \"22\": {\"22\": 11, \"15\": 1}, \"47\": {\"47\": 9, \"35\": 3}, \"53\": {\"53\": 12}, \"54\": {\"54\": 11, \"3\": 1}, \"8\": {\"8\": 12}, \"4\": {\"4\": 12}, \"31\": {\"22\": 2, \"31\": 9, \"23\": 1}, \"6\": {\"6\": 7, \"48\": 2, \"46\": 2, \"2\": 1}, \"20\": {\"20\": 11, \"54\": 1}, \"21\": {\"21\": 9, \"10\": 1}, \"15\": {\"15\": 12}, \"40\": {\"40\": 11, \"29\": 1}, \"48\": {\"6\": 3, \"48\": 7, \"8\": 1, \"5\": 1}, \"7\": {\"7\": 10, \"32\": 1, \"42\": 1}, \"50\": {\"50\": 12}, \"32\": {\"32\": 8}, \"56\": {\"56\": 9, \"29\": 2, \"19\": 1}, \"26\": {\"26\": 9, \"30\": 1}, \"34\": {\"34\": 12}, \"42\": {\"42\": 10}, \"29\": {\"40\": 1, \"42\": 1, \"29\": 9, \"35\": 1}, \"46\": {\"48\": 1, \"46\": 7, \"14\": 1, \"25\": 1}, \"24\": {\"24\": 10}, \"18\": {\"18\": 12}, \"16\": {\"16\": 6}, \"45\": {\"45\": 7, \"7\": 1, \"35\": 1, \"42\": 1, \"37\": 1, \"1\": 1}, \"3\": {\"3\": 5, \"47\": 1, \"13\": 3, \"44\": 1, \"54\": 1, \"38\": 1}, \"17\": {\"17\": 11, \"6\": 1}, \"35\": {\"35\": 12}, \"30\": {\"30\": 10}, \"1\": {\"35\": 1, \"1\": 9, \"44\": 1, \"56\": 1}, \"23\": {\"23\": 7, \"0\": 1, \"11\": 4}, \"0\": {\"0\": 9, \"16\": 1}, \"52\": {\"52\": 3, \"22\": 4, \"49\": 1, \"11\": 2, \"15\": 1, \"43\": 1}, \"43\": {\"43\": 11, \"24\": 1}, \"44\": {\"44\": 10, \"42\": 1, \"55\": 1}, \"27\": {\"52\": 1, \"27\": 11}, \"9\": {\"9\": 10, \"5\": 1, \"26\": 1}, \"57\": {\"1\": 2, \"57\": 5, \"19\": 1}, \"2\": {\"2\": 8, \"50\": 1, \"5\": 2, \"48\": 1}, \"36\": {\"36\": 8}, \"12\": {\"12\": 11, \"51\": 1}, \"33\": {\"25\": 3, \"33\": 6, \"42\": 1}, \"13\": {\"13\": 10}, \"51\": {\"51\": 9, \"37\": 1}, \"11\": {\"11\": 12}, \"5\": {\"5\": 10, \"17\": 1, \"14\": 1}, \"37\": {\"37\": 12}, \"39\": {\"39\": 4}, \"41\": {\"41\": 6}}, \"W_A_4\": {\"119\": {\"119\": 10, \"87\": 1, \"83\": 1}, \"101\": {\"71\": 1, \"101\": 3, \"42\": 1, \"70\": 1, \"83\": 1, \"100\": 1, \"7\": 1, \"85\": 1, \"119\": 1, \"95\": 1}, \"15\": {\"24\": 1, \"6\": 2, \"25\": 1, \"59\": 1, \"94\": 1, \"12\": 1, \"9\": 1, \"15\": 2, \"68\": 1, \"97\": 1}, \"22\": {\"22\": 9, \"60\": 1}, \"127\": {\"68\": 1, \"127\": 3, \"53\": 1, \"105\": 1, \"95\": 2, \"4\": 1, \"87\": 1, \"29\": 2}, \"6\": {\"6\": 7, \"94\": 2, \"25\": 1, \"24\": 1, \"121\": 1}, \"69\": {\"22\": 1, \"69\": 4, \"13\": 1, \"48\": 1, \"45\": 1, \"84\": 2}, \"41\": {\"41\": 12}, \"68\": {\"127\": 1, \"41\": 1, \"68\": 5, \"30\": 2, \"39\": 1}, \"126\": {\"126\": 9, \"88\": 1, \"26\": 1, \"65\": 1}, \"62\": {\"22\": 1, \"69\": 1, \"126\": 1, \"62\": 5, \"14\": 1, \"110\": 1, \"122\": 2}, \"26\": {\"26\": 10, \"126\": 1, \"16\": 1}, \"71\": {\"71\": 3, \"62\": 2, \"100\": 1, \"61\": 2, \"105\": 1, \"40\": 1, \"37\": 1, \"20\": 1}, \"78\": {\"22\": 1, \"119\": 1, \"78\": 3, \"72\": 1, \"127\": 1, \"96\": 1, \"70\": 1, \"7\": 1, \"106\": 1, \"118\": 1}, \"90\": {\"90\": 7, \"22\": 1, \"66\": 2, \"122\": 1, \"116\": 1}, \"24\": {\"119\": 2, \"78\": 1, \"125\": 2, \"98\": 1, \"24\": 1, \"25\": 1, \"91\": 1, \"6\": 1, \"86\": 1, \"94\": 1}, \"11\": {\"35\": 1, \"3\": 1, \"32\": 1, \"46\": 1, \"93\": 1, \"11\": 5, \"19\": 1, \"99\": 1}, \"35\": {\"35\": 5, \"67\": 1, \"57\": 2, \"21\": 2, \"81\": 1, \"61\": 1}, \"86\": {\"8\": 2, \"86\": 3, \"89\": 1, \"56\": 2, \"4\": 2, \"119\": 2}, \"3\": {\"100\": 1, \"120\": 2, \"3\": 6, \"19\": 1, \"122\": 1, \"129\": 1}, \"75\": {\"36\": 1, \"75\": 11}, \"100\": {\"83\": 3, \"100\": 4, \"105\": 2, \"74\": 1, \"3\": 2}, \"117\": {\"117\": 9, \"81\": 2, \"105\": 1}, \"120\": {\"120\": 6, \"86\": 1, \"0\": 1, \"99\": 1, \"122\": 1, \"28\": 1, \"56\": 1}, \"8\": {\"86\": 2, \"0\": 1, \"8\": 8, \"10\": 1}, \"27\": {\"8\": 2, \"1\": 2, \"27\": 5, \"43\": 1, \"85\": 1, \"95\": 1}, \"83\": {\"83\": 11, \"42\": 1}, \"129\": {\"120\": 1, \"3\": 1, \"129\": 3, \"1\": 2, \"128\": 1, \"107\": 1, \"71\": 1, \"22\": 1, \"110\": 1}, \"36\": {\"36\": 8, \"29\": 1, \"24\": 2, \"18\": 1}, \"67\": {\"67\": 3, \"113\": 1, \"45\": 1, \"123\": 3, \"26\": 2, \"118\": 2}, \"54\": {\"54\": 8, \"34\": 1, \"125\": 2, \"97\": 1}, \"92\": {\"67\": 1, \"92\": 5, \"39\": 1, \"45\": 1, \"11\": 1, \"122\": 2, \"121\": 1}, \"56\": {\"56\": 8, \"42\": 1, \"78\": 1, \"120\": 1, \"10\": 1}, \"29\": {\"29\": 7, \"127\": 1, \"9\": 1, \"10\": 2, \"111\": 1}, \"80\": {\"80\": 9, \"99\": 1, \"48\": 1, \"38\": 1}, \"123\": {\"26\": 1, \"123\": 3, \"92\": 2, \"39\": 1, \"118\": 1, \"45\": 1, \"75\": 1, \"65\": 2}, \"28\": {\"80\": 1, \"28\": 4, \"20\": 2, \"31\": 2, \"79\": 2, \"120\": 1}, \"42\": {\"42\": 5, \"70\": 1, \"105\": 1, \"128\": 1, \"8\": 1, \"90\": 1, \"100\": 2}, \"113\": {\"109\": 1, \"18\": 1, \"67\": 1, \"113\": 5, \"39\": 1, \"63\": 2, \"2\": 1}, \"53\": {\"42\": 1, \"53\": 7, \"9\": 1, \"21\": 1, \"98\": 2}, \"61\": {\"123\": 2, \"65\": 3, \"61\": 7}, \"39\": {\"39\": 10, \"2\": 1, \"69\": 1}, \"96\": {\"96\": 2, \"39\": 1, \"14\": 2, \"57\": 1, \"31\": 2, \"110\": 1, \"6\": 1}, \"109\": {\"18\": 1, \"109\": 2, \"116\": 1, \"39\": 2, \"31\": 1, \"69\": 1, \"35\": 1, \"48\": 1, \"26\": 1, \"80\": 1}, \"18\": {\"26\": 2, \"18\": 9, \"63\": 1}, \"10\": {\"8\": 3, \"15\": 2, \"10\": 1, \"97\": 1, \"43\": 1, \"47\": 1, \"77\": 2, \"6\": 1}, \"34\": {\"97\": 1, \"50\": 2, \"125\": 2, \"95\": 1, \"34\": 2, \"119\": 1, \"59\": 1, \"82\": 1, \"77\": 1}, \"103\": {\"103\": 9, \"17\": 1, \"37\": 1, \"8\": 1}, \"82\": {\"120\": 3, \"50\": 1, \"32\": 1, \"82\": 3, \"72\": 1, \"3\": 1, \"104\": 2}, \"65\": {\"65\": 11, \"61\": 1}, \"50\": {\"50\": 6, \"120\": 1, \"112\": 1, \"37\": 1, \"40\": 1, \"71\": 2}, \"99\": {\"8\": 1, \"99\": 5, \"14\": 2, \"19\": 2}, \"97\": {\"34\": 1, \"97\": 6, \"51\": 1, \"54\": 1, \"9\": 2, \"15\": 1}, \"124\": {\"112\": 1, \"124\": 2, \"116\": 1, \"108\": 2, \"95\": 1, \"28\": 1, \"4\": 1, \"79\": 1, \"128\": 2}, \"17\": {\"17\": 7, \"82\": 1, \"103\": 1, \"104\": 2, \"74\": 1}, \"0\": {\"0\": 8, \"55\": 2, \"3\": 1, \"128\": 1}, \"7\": {\"7\": 8, \"0\": 1, \"112\": 1, \"3\": 1, \"20\": 1}, \"112\": {\"7\": 1, \"0\": 1, \"112\": 6, \"128\": 2, \"1\": 2}, \"118\": {\"118\": 5, \"108\": 3, \"78\": 1, \"67\": 1, \"14\": 1, \"11\": 1}, \"5\": {\"38\": 1, \"5\": 7, \"65\": 1, \"93\": 1, \"120\": 2}, \"38\": {\"38\": 11, \"122\": 1}, \"2\": {\"60\": 1, \"2\": 4, \"109\": 2, \"84\": 2, \"21\": 1, \"31\": 1, \"81\": 1}, \"122\": {\"122\": 5, \"17\": 1, \"18\": 1, \"72\": 1, \"74\": 1, \"69\": 1, \"45\": 1, \"110\": 1}, \"125\": {\"125\": 8, \"123\": 1, \"54\": 2, \"36\": 1}, \"49\": {\"56\": 1, \"49\": 2, \"4\": 1, \"46\": 1, \"50\": 1, \"8\": 1, \"5\": 1, \"89\": 1, \"64\": 1, \"85\": 1, \"119\": 1}, \"60\": {\"5\": 1, \"60\": 5, \"128\": 1, \"46\": 1, \"3\": 1, \"108\": 1, \"44\": 1, \"120\": 1}, \"70\": {\"49\": 1, \"70\": 8, \"87\": 1, \"4\": 1, \"42\": 1}, \"85\": {\"85\": 8, \"98\": 1, \"27\": 1, \"58\": 1, \"7\": 1}, \"98\": {\"85\": 2, \"98\": 8, \"30\": 2}, \"116\": {\"116\": 5, \"110\": 1, \"73\": 1, \"17\": 1, \"32\": 1, \"62\": 1, \"79\": 1, \"11\": 1}, \"30\": {\"30\": 2, \"70\": 1, \"52\": 2, \"1\": 1, \"27\": 1, \"56\": 1, \"119\": 1, \"111\": 2, \"118\": 1}, \"9\": {\"4\": 1, \"85\": 1, \"9\": 5, \"68\": 1, \"127\": 2, \"47\": 1, \"12\": 1}, \"4\": {\"17\": 1, \"103\": 3, \"55\": 2, \"4\": 4, \"124\": 1, \"86\": 1}, \"51\": {\"51\": 3, \"39\": 1, \"35\": 1, \"125\": 1, \"111\": 1, \"112\": 1, \"18\": 2, \"10\": 1, \"123\": 1}, \"93\": {\"93\": 4, \"64\": 1, \"45\": 1, \"110\": 1, \"31\": 1, \"43\": 1, \"13\": 1, \"115\": 1, \"104\": 1}, \"55\": {\"120\": 1, \"55\": 8, \"1\": 1, \"95\": 2}, \"44\": {\"44\": 8, \"99\": 1, \"108\": 1, \"122\": 1, \"20\": 1}, \"114\": {\"120\": 1, \"114\": 9, \"71\": 1, \"40\": 1}, \"31\": {\"80\": 1, \"31\": 8, \"102\": 1, \"74\": 1, \"93\": 1}, \"94\": {\"6\": 3, \"94\": 6, \"109\": 1, \"97\": 2}, \"91\": {\"103\": 2, \"9\": 1, \"1\": 1, \"77\": 1, \"95\": 1, \"37\": 1, \"91\": 1, \"58\": 1, \"27\": 1, \"43\": 1, \"8\": 1}, \"46\": {\"32\": 1, \"50\": 1, \"82\": 1, \"60\": 1, \"46\": 4, \"78\": 1, \"119\": 1, \"120\": 1, \"92\": 1}, \"32\": {\"82\": 1, \"32\": 7, \"40\": 1, \"33\": 1, \"14\": 1, \"50\": 1}, \"37\": {\"22\": 1, \"37\": 8, \"76\": 1, \"43\": 1, \"104\": 1}, \"52\": {\"52\": 6, \"30\": 1, \"53\": 1, \"10\": 1, \"106\": 1, \"89\": 1, \"1\": 1}, \"19\": {\"86\": 2, \"40\": 2, \"48\": 2, \"105\": 1, \"119\": 1, \"78\": 1, \"103\": 1, \"104\": 1, \"19\": 1}, \"105\": {\"129\": 2, \"71\": 2, \"78\": 1, \"127\": 1, \"104\": 2, \"82\": 1, \"21\": 1, \"105\": 1, \"120\": 1}, \"23\": {\"123\": 2, \"126\": 1, \"12\": 1, \"76\": 1, \"55\": 2, \"54\": 1, \"127\": 1, \"1\": 1, \"21\": 2}, \"74\": {\"74\": 8, \"79\": 2, \"2\": 1, \"48\": 1}, \"88\": {\"88\": 4, \"86\": 1, \"110\": 2, \"70\": 1, \"60\": 2, \"114\": 1, \"128\": 1}, \"45\": {\"67\": 3, \"45\": 6, \"64\": 1, \"69\": 1, \"82\": 1}, \"89\": {\"89\": 9, \"71\": 1, \"42\": 1, \"17\": 1}, \"48\": {\"48\": 5, \"121\": 1, \"80\": 2, \"13\": 1, \"22\": 1, \"64\": 2}, \"25\": {\"25\": 11, \"59\": 1}, \"13\": {\"13\": 4, \"60\": 1, \"16\": 1, \"115\": 1, \"48\": 1, \"45\": 2, \"110\": 2}, \"87\": {\"71\": 1, \"87\": 7, \"114\": 1, \"40\": 1, \"60\": 1, \"3\": 1}, \"121\": {\"121\": 8, \"45\": 1, \"113\": 1, \"92\": 2}, \"59\": {\"59\": 8, \"97\": 1, \"119\": 1, \"75\": 1, \"109\": 1}, \"58\": {\"30\": 1, \"58\": 9, \"91\": 1, \"89\": 1}, \"12\": {\"30\": 1, \"85\": 1, \"12\": 5, \"9\": 1, \"2\": 1, \"98\": 1, \"68\": 2}, \"107\": {\"33\": 1, \"107\": 8, \"122\": 2, \"71\": 1}, \"1\": {\"87\": 2, \"33\": 2, \"60\": 2, \"71\": 2, \"72\": 1, \"67\": 1, \"56\": 1, \"8\": 1}, \"57\": {\"57\": 9, \"34\": 1, \"115\": 2}, \"111\": {\"30\": 2, \"111\": 8, \"12\": 2}, \"33\": {\"33\": 11, \"73\": 1}, \"14\": {\"14\": 7, \"95\": 1, \"2\": 1, \"113\": 1, \"102\": 1, \"3\": 1}, \"84\": {\"46\": 1, \"57\": 1, \"84\": 8, \"40\": 1, \"89\": 1}, \"21\": {\"21\": 8, \"16\": 2, \"63\": 1, \"117\": 1}, \"104\": {\"104\": 3, \"82\": 1, \"64\": 1, \"28\": 2, \"17\": 2, \"19\": 1, \"115\": 2}, \"128\": {\"128\": 6, \"18\": 1, \"19\": 2, \"100\": 2, \"76\": 1}, \"72\": {\"43\": 2, \"72\": 8, \"108\": 1, \"78\": 1}, \"40\": {\"40\": 6, \"107\": 1, \"3\": 1, \"105\": 1, \"4\": 1, \"50\": 2}, \"102\": {\"40\": 1, \"78\": 1, \"1\": 1, \"102\": 3, \"74\": 1, \"14\": 4, \"5\": 1}, \"47\": {\"59\": 2, \"47\": 4, \"11\": 1, \"34\": 1, \"108\": 1, \"24\": 1, \"97\": 2}, \"43\": {\"78\": 1, \"72\": 1, \"5\": 1, \"105\": 1, \"115\": 1, \"43\": 3, \"113\": 1, \"33\": 1, \"8\": 1, \"32\": 1}, \"77\": {\"77\": 7, \"58\": 1, \"12\": 1, \"41\": 1, \"51\": 1, \"34\": 1}, \"110\": {\"72\": 1, \"110\": 4, \"46\": 1, \"76\": 1, \"43\": 1, \"11\": 1, \"60\": 1, \"102\": 1, \"122\": 1}, \"16\": {\"16\": 8, \"31\": 1, \"84\": 2, \"120\": 1}, \"106\": {\"106\": 6, \"66\": 1, \"18\": 1, \"30\": 3, \"118\": 1}, \"66\": {\"66\": 6, \"90\": 2, \"73\": 2, \"101\": 2}, \"73\": {\"73\": 2, \"52\": 1, \"32\": 1, \"46\": 1, \"84\": 1, \"104\": 1, \"33\": 1, \"102\": 1, \"113\": 1, \"19\": 2}, \"76\": {\"79\": 2, \"76\": 3, \"108\": 1, \"115\": 1, \"28\": 1, \"129\": 1, \"121\": 1}, \"79\": {\"79\": 7, \"64\": 1, \"61\": 1, \"5\": 1, \"20\": 1, \"126\": 1}, \"108\": {\"70\": 1, \"108\": 3, \"14\": 2, \"115\": 1, \"37\": 1, \"40\": 1, \"22\": 1, \"73\": 2}, \"64\": {\"64\": 8, \"78\": 1, \"14\": 1}, \"115\": {\"77\": 1, \"81\": 1, \"11\": 1, \"115\": 1, \"114\": 1, \"37\": 1, \"75\": 1, \"82\": 1}, \"81\": {\"81\": 7, \"63\": 1, \"117\": 1, \"2\": 1, \"69\": 1, \"62\": 1}, \"95\": {\"95\": 6, \"2\": 1, \"28\": 1, \"20\": 1, \"119\": 1, \"86\": 1, \"121\": 1}, \"63\": {\"81\": 1, \"63\": 5, \"18\": 2}, \"20\": {\"44\": 2, \"28\": 1, \"38\": 2, \"20\": 4, \"11\": 1}}, \"C_A_5\": {\"2\": {\"35\": 3, \"2\": 9}, \"35\": {\"35\": 12}, \"3\": {\"35\": 3, \"0\": 2, \"3\": 3, \"14\": 1, \"57\": 1, \"31\": 2}, \"18\": {\"18\": 12}, \"29\": {\"29\": 8, \"22\": 1, \"40\": 3}, \"24\": {\"24\": 11, \"13\": 1}, \"25\": {\"25\": 9, \"1\": 1, \"41\": 1, \"42\": 1}, \"17\": {\"17\": 10, \"6\": 2}, \"54\": {\"54\": 12}, \"28\": {\"28\": 11, \"49\": 1}, \"33\": {\"33\": 10, \"27\": 1, \"5\": 1}, \"55\": {\"55\": 10}, \"19\": {\"33\": 1, \"19\": 8, \"50\": 1}, \"20\": {\"20\": 11, \"7\": 1}, \"41\": {\"41\": 12}, \"48\": {\"55\": 2, \"48\": 6}, \"6\": {\"6\": 8, \"30\": 3, \"17\": 1}, \"49\": {\"49\": 12}, \"9\": {\"9\": 8, \"45\": 1, \"27\": 1}, \"42\": {\"42\": 10, \"14\": 1, \"41\": 1}, \"22\": {\"22\": 10, \"29\": 1, \"35\": 1}, \"38\": {\"38\": 12}, \"44\": {\"44\": 5, \"55\": 1, \"19\": 1, \"34\": 2, \"40\": 1, \"28\": 1, \"11\": 1}, \"47\": {\"47\": 10, \"3\": 1, \"35\": 1}, \"7\": {\"7\": 10}, \"8\": {\"8\": 12}, \"10\": {\"10\": 12}, \"0\": {\"0\": 6, \"16\": 1, \"3\": 2, \"47\": 2, \"57\": 1}, \"57\": {\"57\": 7, \"0\": 1, \"46\": 1, \"3\": 1, \"23\": 2}, \"16\": {\"16\": 8, \"52\": 1, \"43\": 1}, \"21\": {\"21\": 12}, \"27\": {\"27\": 5, \"1\": 3, \"9\": 3, \"19\": 1}, \"53\": {\"53\": 8}, \"32\": {\"32\": 10, \"9\": 2}, \"4\": {\"4\": 10, \"55\": 1, \"50\": 1}, \"37\": {\"37\": 10}, \"1\": {\"39\": 3, \"25\": 1, \"42\": 1, \"48\": 1, \"1\": 4, \"50\": 1, \"27\": 1}, \"39\": {\"39\": 8, \"25\": 1, \"47\": 1}, \"36\": {\"49\": 2, \"47\": 1, \"36\": 6, \"14\": 1}, \"12\": {\"12\": 10, \"9\": 1, \"55\": 1}, \"5\": {\"28\": 2, \"32\": 1, \"5\": 6, \"29\": 1, \"19\": 1, \"44\": 1}, \"26\": {\"7\": 1, \"26\": 10, \"45\": 1}, \"51\": {\"7\": 1, \"51\": 11}, \"14\": {\"39\": 1, \"14\": 3, \"35\": 1, \"43\": 1, \"54\": 2, \"3\": 1, \"34\": 1}, \"43\": {\"43\": 10, \"52\": 1, \"11\": 1}, \"31\": {\"31\": 11, \"35\": 1}, \"45\": {\"9\": 1, \"45\": 4, \"50\": 1, \"26\": 2, \"4\": 1, \"6\": 2, \"8\": 1}, \"15\": {\"15\": 10}, \"23\": {\"23\": 9, \"52\": 1}, \"30\": {\"30\": 12}, \"46\": {\"46\": 7, \"11\": 1, \"43\": 2, \"57\": 2}, \"52\": {\"52\": 10, \"47\": 1, \"31\": 1}, \"34\": {\"34\": 10}, \"11\": {\"11\": 5, \"16\": 5}, \"13\": {\"13\": 9, \"24\": 1}, \"50\": {\"50\": 3, \"1\": 1, \"9\": 1, \"34\": 1}, \"56\": {\"31\": 1, \"56\": 4, \"14\": 1}, \"40\": {\"44\": 2, \"29\": 2}}}, \"per_domain_accuracy\": {\"ORACLE.run1_50\": {\"accuracy\": 0.8783854166666667, \"source?\": true}, \"ORACLE.run1_14\": {\"accuracy\": 0.8890625, \"source?\": true}, \"ORACLE.run1_32\": {\"accuracy\": 0.8692708333333333, \"source?\": true}, \"ORACLE.run1_44\": {\"accuracy\": 0.740625, \"source?\": true}, \"ORACLE.run1_8\": {\"accuracy\": 0.8481770833333333, \"source?\": true}, \"ORACLE.run1_20\": {\"accuracy\": 0.8252604166666667, \"source?\": true}, \"ORACLE.run1_38\": {\"accuracy\": 0.88046875, \"source?\": true}, \"ORACLE.run1_26\": {\"accuracy\": 0.7171875, \"source?\": true}, \"W_A_3\": {\"accuracy\": 0.5458776595744681, \"source?\": false}, \"W_A_2\": {\"accuracy\": 0.546875, \"source?\": false}, \"C_A_4\": {\"accuracy\": 0.7734375, \"source?\": false}, \"C_A_2\": {\"accuracy\": 0.78125, \"source?\": false}, \"C_A_3\": {\"accuracy\": 0.8015625, \"source?\": false}, \"W_A_1\": {\"accuracy\": 0.5557065217391305, \"source?\": false}, \"C_A_1\": {\"accuracy\": 0.834375, \"source?\": false}, \"W_A_4\": {\"accuracy\": 0.494140625, \"source?\": false}, \"C_A_5\": {\"accuracy\": 0.7828125, \"source?\": false}}}, \"history\": {\"epoch_indices\": [1, 2, 3, 4, 5, 6, 7, 8, 9, 10], \"train_label_loss\": [0.9676675389875613, 0.7839242445526733, 0.639216333768508, 0.5450540096410328, 0.48960566367798797, 0.44589888501879094, 0.4029257281530937, 0.362129984898465, 0.33615175906230604, 0.3169157589056773], \"source_val_label_loss\": [2.465608596801758, 0.7108913064002991, 0.5820155143737793, 0.4940202832221985, 0.4807335436344147, 0.4650459885597229, 0.4048634469509125, 0.363704115152359, 0.35217297077178955, 0.352105051279068], \"target_val_label_loss\": [96.23870849609375, 23.02898597717285, 15.512797355651855, 13.224899291992188, 13.250954627990723, 12.416448593139648, 13.619903564453125, 13.313261032104492, 14.970698356628418, 13.72458267211914], \"source_val_acc_label\": [0.62451171875, 0.74443359375, 0.7868815104166667, 0.8203776041666667, 0.8275065104166667, 0.8310546875, 0.8548177083333334, 0.8695963541666667, 0.87060546875, 0.8746419270833333], \"target_val_acc_label\": [0.49243079584775085, 0.6403546712802768, 0.6304065743944637, 0.632893598615917, 0.628135813148789, 0.6251081314878892, 0.637651384083045, 0.6568987889273357, 0.6414359861591695, 0.6407871972318339]}, \"dataset_metrics\": {\"source\": {\"train\": {\"n_unique_x\": 179200, \"n_unique_y\": 16, \"n_batch/episode\": 6720}, \"val\": {\"n_unique_x\": 38400, \"n_unique_y\": 16, \"n_batch/episode\": 960}, \"test\": {\"n_unique_x\": 38400, \"n_unique_y\": 16, \"n_batch/episode\": 960}}, \"target\": {\"train\": {\"n_unique_x\": 56700, \"n_unique_y\": 130, \"n_batch/episode\": 2081}, \"val\": {\"n_unique_x\": 12097, \"n_unique_y\": 130, \"n_batch/episode\": 289}, \"test\": {\"n_unique_x\": 12097, \"n_unique_y\": 130, \"n_batch/episode\": 289}}}}'"
      ]
     },
     "execution_count": 29,
     "metadata": {},
     "output_type": "execute_result"
    }
   ],
   "source": [
    "json.dumps(experiment)"
   ]
  }
 ],
 "metadata": {
  "celltoolbar": "Tags",
  "kernelspec": {
   "display_name": "Python 3 (ipykernel)",
   "language": "python",
   "name": "python3"
  },
  "language_info": {
   "codemirror_mode": {
    "name": "ipython",
    "version": 3
   },
   "file_extension": ".py",
   "mimetype": "text/x-python",
   "name": "python",
   "nbconvert_exporter": "python",
   "pygments_lexer": "ipython3",
   "version": "3.8.10"
  },
  "papermill": {
   "default_parameters": {},
   "duration": 1701.367658,
   "end_time": "2022-03-18T20:36:18.537527",
   "environment_variables": {},
   "exception": null,
   "input_path": "/mnt/wd500GB/CSC500/csc500-main/csc500-notebooks/templates/tl_ptn_template.ipynb",
   "output_path": "trial.ipynb",
   "parameters": {
    "parameters": {
     "BEST_MODEL_PATH": "./best_model.pth",
     "NUM_LOGS_PER_EPOCH": 10,
     "criteria_for_best": "target_loss",
     "dataset_seed": 500,
     "datasets": [
      {
       "domain_prefix": "C_A_",
       "domains": [
        1,
        2,
        3,
        4,
        5
       ],
       "episode_transforms": [],
       "labels": [
        "1-10.",
        "1-11.",
        "1-15.",
        "1-16.",
        "1-17.",
        "1-18.",
        "1-19.",
        "10-4.",
        "10-7.",
        "11-1.",
        "11-14.",
        "11-17.",
        "11-20.",
        "11-7.",
        "13-20.",
        "13-8.",
        "14-10.",
        "14-11.",
        "14-14.",
        "14-7.",
        "15-1.",
        "15-20.",
        "16-1.",
        "16-16.",
        "17-10.",
        "17-11.",
        "17-2.",
        "19-1.",
        "19-16.",
        "19-19.",
        "19-20.",
        "19-3.",
        "2-10.",
        "2-11.",
        "2-17.",
        "2-18.",
        "2-20.",
        "2-3.",
        "2-4.",
        "2-5.",
        "2-6.",
        "2-7.",
        "2-8.",
        "3-13.",
        "3-18.",
        "3-3.",
        "4-1.",
        "4-10.",
        "4-11.",
        "4-19.",
        "5-5.",
        "6-15.",
        "7-10.",
        "7-14.",
        "8-18.",
        "8-20.",
        "8-3.",
        "8-8."
       ],
       "num_examples_per_domain_per_label": 100,
       "pickle_path": "/mnt/wd500GB/CSC500/csc500-main/datasets/cores.stratified_ds.2022A.pkl",
       "source_or_target_dataset": "target",
       "x_transforms": [
        "unit_power",
        "take_200"
       ]
      },
      {
       "domain_prefix": "W_A_",
       "domains": [
        1,
        2,
        3,
        4
       ],
       "episode_transforms": [],
       "labels": [
        "1-10",
        "1-12",
        "1-14",
        "1-16",
        "1-18",
        "1-19",
        "1-8",
        "10-11",
        "10-17",
        "10-4",
        "10-7",
        "11-1",
        "11-10",
        "11-19",
        "11-20",
        "11-4",
        "11-7",
        "12-19",
        "12-20",
        "12-7",
        "13-14",
        "13-18",
        "13-19",
        "13-20",
        "13-3",
        "13-7",
        "14-10",
        "14-11",
        "14-12",
        "14-13",
        "14-14",
        "14-19",
        "14-20",
        "14-7",
        "14-8",
        "14-9",
        "15-1",
        "15-19",
        "15-6",
        "16-1",
        "16-16",
        "16-19",
        "16-20",
        "17-10",
        "17-11",
        "18-1",
        "18-10",
        "18-11",
        "18-12",
        "18-13",
        "18-14",
        "18-15",
        "18-16",
        "18-17",
        "18-19",
        "18-2",
        "18-20",
        "18-4",
        "18-5",
        "18-7",
        "18-8",
        "18-9",
        "19-1",
        "19-10",
        "19-11",
        "19-12",
        "19-13",
        "19-14",
        "19-15",
        "19-19",
        "19-2",
        "19-20",
        "19-3",
        "19-4",
        "19-6",
        "19-7",
        "19-8",
        "19-9",
        "2-1",
        "2-13",
        "2-15",
        "2-3",
        "2-4",
        "2-5",
        "2-6",
        "2-7",
        "2-8",
        "20-1",
        "20-12",
        "20-14",
        "20-15",
        "20-16",
        "20-18",
        "20-19",
        "20-20",
        "20-3",
        "20-4",
        "20-5",
        "20-7",
        "20-8",
        "3-1",
        "3-13",
        "3-18",
        "3-2",
        "3-8",
        "4-1",
        "4-10",
        "4-11",
        "5-1",
        "5-5",
        "6-1",
        "6-15",
        "6-6",
        "7-10",
        "7-11",
        "7-12",
        "7-13",
        "7-14",
        "7-7",
        "7-8",
        "7-9",
        "8-1",
        "8-13",
        "8-14",
        "8-18",
        "8-20",
        "8-3",
        "8-8",
        "9-1",
        "9-7"
       ],
       "num_examples_per_domain_per_label": 100,
       "pickle_path": "/mnt/wd500GB/CSC500/csc500-main/datasets/wisig.node3-19.stratified_ds.2022A.pkl",
       "source_or_target_dataset": "target",
       "x_transforms": [
        "unit_power",
        "take_200"
       ]
      },
      {
       "domain_prefix": "ORACLE.run1_",
       "domains": [
        32,
        38,
        8,
        44,
        14,
        50,
        20,
        26
       ],
       "episode_transforms": [],
       "labels": [
        "3123D52",
        "3123D65",
        "3123D79",
        "3123D80",
        "3123D54",
        "3123D70",
        "3123D7B",
        "3123D89",
        "3123D58",
        "3123D76",
        "3123D7D",
        "3123EFE",
        "3123D64",
        "3123D78",
        "3123D7E",
        "3124E4A"
       ],
       "num_examples_per_domain_per_label": 2000,
       "pickle_path": "/mnt/wd500GB/CSC500/csc500-main/datasets/oracle.Run1_framed_2000Examples_stratified_ds.2022A.pkl",
       "source_or_target_dataset": "source",
       "x_transforms": [
        "unit_power",
        "take_200",
        "resample_20Msps_to_25Msps"
       ]
      }
     ],
     "device": "cuda",
     "experiment_name": "tl_3A:oracle.run1.framed -> cores+wisig",
     "lr": 0.001,
     "n_epoch": 50,
     "n_query": 2,
     "n_shot": 3,
     "n_way": 16,
     "patience": 3,
     "seed": 500,
     "test_k_factor": 2,
     "torch_default_dtype": "torch.float32",
     "train_k_factor": 3,
     "val_k_factor": 2,
     "x_net": [
      {
       "class": "nnReshape",
       "kargs": {
        "shape": [
         -1,
         1,
         2,
         200
        ]
       }
      },
      {
       "class": "Conv2d",
       "kargs": {
        "bias": false,
        "in_channels": 1,
        "kernel_size": [
         1,
         7
        ],
        "out_channels": 256,
        "padding": [
         0,
         3
        ]
       }
      },
      {
       "class": "ReLU",
       "kargs": {
        "inplace": true
       }
      },
      {
       "class": "BatchNorm2d",
       "kargs": {
        "num_features": 256
       }
      },
      {
       "class": "Conv2d",
       "kargs": {
        "bias": true,
        "in_channels": 256,
        "kernel_size": [
         2,
         7
        ],
        "out_channels": 80,
        "padding": [
         0,
         3
        ]
       }
      },
      {
       "class": "ReLU",
       "kargs": {
        "inplace": true
       }
      },
      {
       "class": "BatchNorm2d",
       "kargs": {
        "num_features": 80
       }
      },
      {
       "class": "Flatten",
       "kargs": {}
      },
      {
       "class": "Linear",
       "kargs": {
        "in_features": 16000,
        "out_features": 256
       }
      },
      {
       "class": "ReLU",
       "kargs": {
        "inplace": true
       }
      },
      {
       "class": "BatchNorm1d",
       "kargs": {
        "num_features": 256
       }
      },
      {
       "class": "Linear",
       "kargs": {
        "in_features": 256,
        "out_features": 256
       }
      }
     ],
     "x_shape": [
      2,
      200
     ]
    }
   },
   "start_time": "2022-03-18T20:07:57.169869",
   "version": "2.3.4"
  }
 },
 "nbformat": 4,
 "nbformat_minor": 5
}