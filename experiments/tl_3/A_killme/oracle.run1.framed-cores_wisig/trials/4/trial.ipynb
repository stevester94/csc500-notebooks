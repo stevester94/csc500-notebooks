{
 "cells": [
  {
   "cell_type": "markdown",
   "id": "9fea5f46",
   "metadata": {
    "papermill": {
     "duration": 0.018536,
     "end_time": "2022-03-18T16:59:02.338463",
     "exception": false,
     "start_time": "2022-03-18T16:59:02.319927",
     "status": "completed"
    },
    "tags": []
   },
   "source": [
    "# Transfer Learning Template"
   ]
  },
  {
   "cell_type": "code",
   "execution_count": 1,
   "id": "0902182a",
   "metadata": {
    "execution": {
     "iopub.execute_input": "2022-03-18T16:59:02.379773Z",
     "iopub.status.busy": "2022-03-18T16:59:02.379291Z",
     "iopub.status.idle": "2022-03-18T16:59:03.278731Z",
     "shell.execute_reply": "2022-03-18T16:59:03.278945Z"
    },
    "papermill": {
     "duration": 0.927899,
     "end_time": "2022-03-18T16:59:03.279069",
     "exception": false,
     "start_time": "2022-03-18T16:59:02.351170",
     "status": "completed"
    },
    "tags": []
   },
   "outputs": [],
   "source": [
    "%load_ext autoreload\n",
    "%autoreload 2\n",
    "%matplotlib inline\n",
    "\n",
    "    \n",
    "import os, json, sys, time, random\n",
    "import numpy as np\n",
    "import torch\n",
    "from torch.optim import Adam\n",
    "from  easydict import EasyDict\n",
    "import matplotlib.pyplot as plt\n",
    "\n",
    "from steves_models.steves_ptn import Steves_Prototypical_Network\n",
    "\n",
    "from steves_utils.lazy_iterable_wrapper import Lazy_Iterable_Wrapper\n",
    "from steves_utils.iterable_aggregator import Iterable_Aggregator\n",
    "from steves_utils.ptn_train_eval_test_jig import  PTN_Train_Eval_Test_Jig\n",
    "from steves_utils.torch_sequential_builder import build_sequential\n",
    "from steves_utils.torch_utils import get_dataset_metrics, ptn_confusion_by_domain_over_dataloader\n",
    "from steves_utils.utils_v2 import (per_domain_accuracy_from_confusion, get_datasets_base_path)\n",
    "from steves_utils.PTN.utils import independent_accuracy_assesment\n",
    "\n",
    "from torch.utils.data import DataLoader\n",
    "\n",
    "from steves_utils.stratified_dataset.episodic_accessor import Episodic_Accessor_Factory\n",
    "\n",
    "from steves_utils.ptn_do_report import (\n",
    "    get_loss_curve,\n",
    "    get_results_table,\n",
    "    get_parameters_table,\n",
    "    get_domain_accuracies,\n",
    ")\n",
    "\n",
    "from steves_utils.transforms import get_chained_transform"
   ]
  },
  {
   "cell_type": "markdown",
   "id": "41c840b4",
   "metadata": {
    "papermill": {
     "duration": 0.013338,
     "end_time": "2022-03-18T16:59:03.306243",
     "exception": false,
     "start_time": "2022-03-18T16:59:03.292905",
     "status": "completed"
    },
    "tags": []
   },
   "source": [
    "# Allowed Parameters\n",
    "These are allowed parameters, not defaults\n",
    "Each of these values need to be present in the injected parameters (the notebook will raise an exception if they are not present)\n",
    "\n",
    "Papermill uses the cell tag \"parameters\" to inject the real parameters below this cell.\n",
    "Enable tags to see what I mean"
   ]
  },
  {
   "cell_type": "code",
   "execution_count": 2,
   "id": "fd44eb83",
   "metadata": {
    "execution": {
     "iopub.execute_input": "2022-03-18T16:59:03.335710Z",
     "iopub.status.busy": "2022-03-18T16:59:03.335441Z",
     "iopub.status.idle": "2022-03-18T16:59:03.346275Z",
     "shell.execute_reply": "2022-03-18T16:59:03.346488Z"
    },
    "papermill": {
     "duration": 0.026905,
     "end_time": "2022-03-18T16:59:03.346558",
     "exception": false,
     "start_time": "2022-03-18T16:59:03.319653",
     "status": "completed"
    },
    "tags": []
   },
   "outputs": [],
   "source": [
    "required_parameters = {\n",
    "    \"experiment_name\",\n",
    "    \"lr\",\n",
    "    \"device\",\n",
    "    \"seed\",\n",
    "    \"dataset_seed\",\n",
    "    \"n_shot\",\n",
    "    \"n_query\",\n",
    "    \"n_way\",\n",
    "    \"train_k_factor\",\n",
    "    \"val_k_factor\",\n",
    "    \"test_k_factor\",\n",
    "    \"n_epoch\",\n",
    "    \"patience\",\n",
    "    \"criteria_for_best\",\n",
    "    \"x_net\",\n",
    "    \"datasets\",\n",
    "    \"torch_default_dtype\",\n",
    "    \"NUM_LOGS_PER_EPOCH\",\n",
    "    \"BEST_MODEL_PATH\",\n",
    "    \"x_shape\",\n",
    "}"
   ]
  },
  {
   "cell_type": "code",
   "execution_count": 3,
   "id": "fa3f0049",
   "metadata": {
    "execution": {
     "iopub.execute_input": "2022-03-18T16:59:03.383728Z",
     "iopub.status.busy": "2022-03-18T16:59:03.383428Z",
     "iopub.status.idle": "2022-03-18T16:59:03.396523Z",
     "shell.execute_reply": "2022-03-18T16:59:03.396109Z"
    },
    "papermill": {
     "duration": 0.032591,
     "end_time": "2022-03-18T16:59:03.396629",
     "exception": false,
     "start_time": "2022-03-18T16:59:03.364038",
     "status": "completed"
    },
    "tags": [
     "parameters"
    ]
   },
   "outputs": [],
   "source": [
    "from steves_utils.CORES.utils import (\n",
    "    ALL_NODES,\n",
    "    ALL_NODES_MINIMUM_1000_EXAMPLES,\n",
    "    ALL_DAYS\n",
    ")\n",
    "\n",
    "from steves_utils.ORACLE.utils_v2 import (\n",
    "    ALL_DISTANCES_FEET_NARROWED,\n",
    "    ALL_RUNS,\n",
    "    ALL_SERIAL_NUMBERS,\n",
    ")\n",
    "\n",
    "standalone_parameters = {}\n",
    "standalone_parameters[\"experiment_name\"] = \"STANDALONE PTN\"\n",
    "standalone_parameters[\"lr\"] = 0.001\n",
    "standalone_parameters[\"device\"] = \"cuda\"\n",
    "\n",
    "standalone_parameters[\"seed\"] = 1337\n",
    "standalone_parameters[\"dataset_seed\"] = 1337\n",
    "\n",
    "standalone_parameters[\"n_way\"] = 8\n",
    "standalone_parameters[\"n_shot\"] = 3\n",
    "standalone_parameters[\"n_query\"]  = 2\n",
    "standalone_parameters[\"train_k_factor\"] = 1\n",
    "standalone_parameters[\"val_k_factor\"] = 2\n",
    "standalone_parameters[\"test_k_factor\"] = 2\n",
    "\n",
    "\n",
    "standalone_parameters[\"n_epoch\"] = 50\n",
    "\n",
    "standalone_parameters[\"patience\"] = 10\n",
    "standalone_parameters[\"criteria_for_best\"] = \"source_loss\"\n",
    "\n",
    "standalone_parameters[\"datasets\"] = [\n",
    "    {\n",
    "        \"labels\": ALL_SERIAL_NUMBERS,\n",
    "        \"domains\": ALL_DISTANCES_FEET_NARROWED,\n",
    "        \"num_examples_per_domain_per_label\": 100,\n",
    "        \"pickle_path\": os.path.join(get_datasets_base_path(), \"oracle.Run1_framed_2000Examples_stratified_ds.2022A.pkl\"),\n",
    "        \"source_or_target_dataset\": \"source\",\n",
    "        \"x_transforms\": [\"unit_mag\", \"minus_two\"],\n",
    "        \"episode_transforms\": [],\n",
    "        \"domain_prefix\": \"ORACLE_\"\n",
    "    },\n",
    "    {\n",
    "        \"labels\": ALL_NODES,\n",
    "        \"domains\": ALL_DAYS,\n",
    "        \"num_examples_per_domain_per_label\": 100,\n",
    "        \"pickle_path\": os.path.join(get_datasets_base_path(), \"cores.stratified_ds.2022A.pkl\"),\n",
    "        \"source_or_target_dataset\": \"target\",\n",
    "        \"x_transforms\": [\"unit_power\", \"times_zero\"],\n",
    "        \"episode_transforms\": [],\n",
    "        \"domain_prefix\": \"CORES_\"\n",
    "    }   \n",
    "]\n",
    "\n",
    "standalone_parameters[\"torch_default_dtype\"] = \"torch.float32\" \n",
    "\n",
    "\n",
    "\n",
    "standalone_parameters[\"x_net\"] =     [\n",
    "    {\"class\": \"nnReshape\", \"kargs\": {\"shape\":[-1, 1, 2, 256]}},\n",
    "    {\"class\": \"Conv2d\", \"kargs\": { \"in_channels\":1, \"out_channels\":256, \"kernel_size\":(1,7), \"bias\":False, \"padding\":(0,3), },},\n",
    "    {\"class\": \"ReLU\", \"kargs\": {\"inplace\": True}},\n",
    "    {\"class\": \"BatchNorm2d\", \"kargs\": {\"num_features\":256}},\n",
    "\n",
    "    {\"class\": \"Conv2d\", \"kargs\": { \"in_channels\":256, \"out_channels\":80, \"kernel_size\":(2,7), \"bias\":True, \"padding\":(0,3), },},\n",
    "    {\"class\": \"ReLU\", \"kargs\": {\"inplace\": True}},\n",
    "    {\"class\": \"BatchNorm2d\", \"kargs\": {\"num_features\":80}},\n",
    "    {\"class\": \"Flatten\", \"kargs\": {}},\n",
    "\n",
    "    {\"class\": \"Linear\", \"kargs\": {\"in_features\": 80*256, \"out_features\": 256}}, # 80 units per IQ pair\n",
    "    {\"class\": \"ReLU\", \"kargs\": {\"inplace\": True}},\n",
    "    {\"class\": \"BatchNorm1d\", \"kargs\": {\"num_features\":256}},\n",
    "\n",
    "    {\"class\": \"Linear\", \"kargs\": {\"in_features\": 256, \"out_features\": 256}},\n",
    "]\n",
    "\n",
    "# Parameters relevant to results\n",
    "# These parameters will basically never need to change\n",
    "standalone_parameters[\"NUM_LOGS_PER_EPOCH\"] = 10\n",
    "standalone_parameters[\"BEST_MODEL_PATH\"] = \"./best_model.pth\"\n",
    "\n",
    "\n",
    "\n",
    "\n"
   ]
  },
  {
   "cell_type": "code",
   "execution_count": 4,
   "id": "a9846f11",
   "metadata": {
    "execution": {
     "iopub.execute_input": "2022-03-18T16:59:03.443352Z",
     "iopub.status.busy": "2022-03-18T16:59:03.441699Z",
     "iopub.status.idle": "2022-03-18T16:59:03.456196Z",
     "shell.execute_reply": "2022-03-18T16:59:03.456577Z"
    },
    "papermill": {
     "duration": 0.040145,
     "end_time": "2022-03-18T16:59:03.456702",
     "exception": false,
     "start_time": "2022-03-18T16:59:03.416557",
     "status": "completed"
    },
    "tags": [
     "injected-parameters"
    ]
   },
   "outputs": [],
   "source": [
    "# Parameters\n",
    "parameters = {\n",
    "    \"experiment_name\": \"tl_3A:oracle.run1.framed -> cores+wisig\",\n",
    "    \"device\": \"cuda\",\n",
    "    \"lr\": 0.001,\n",
    "    \"seed\": 420,\n",
    "    \"dataset_seed\": 420,\n",
    "    \"x_shape\": [2, 200],\n",
    "    \"n_shot\": 3,\n",
    "    \"n_query\": 2,\n",
    "    \"train_k_factor\": 3,\n",
    "    \"val_k_factor\": 2,\n",
    "    \"test_k_factor\": 2,\n",
    "    \"torch_default_dtype\": \"torch.float32\",\n",
    "    \"n_epoch\": 50,\n",
    "    \"patience\": 3,\n",
    "    \"criteria_for_best\": \"target_loss\",\n",
    "    \"x_net\": [\n",
    "        {\"class\": \"nnReshape\", \"kargs\": {\"shape\": [-1, 1, 2, 200]}},\n",
    "        {\n",
    "            \"class\": \"Conv2d\",\n",
    "            \"kargs\": {\n",
    "                \"in_channels\": 1,\n",
    "                \"out_channels\": 256,\n",
    "                \"kernel_size\": [1, 7],\n",
    "                \"bias\": False,\n",
    "                \"padding\": [0, 3],\n",
    "            },\n",
    "        },\n",
    "        {\"class\": \"ReLU\", \"kargs\": {\"inplace\": True}},\n",
    "        {\"class\": \"BatchNorm2d\", \"kargs\": {\"num_features\": 256}},\n",
    "        {\n",
    "            \"class\": \"Conv2d\",\n",
    "            \"kargs\": {\n",
    "                \"in_channels\": 256,\n",
    "                \"out_channels\": 80,\n",
    "                \"kernel_size\": [2, 7],\n",
    "                \"bias\": True,\n",
    "                \"padding\": [0, 3],\n",
    "            },\n",
    "        },\n",
    "        {\"class\": \"ReLU\", \"kargs\": {\"inplace\": True}},\n",
    "        {\"class\": \"BatchNorm2d\", \"kargs\": {\"num_features\": 80}},\n",
    "        {\"class\": \"Flatten\", \"kargs\": {}},\n",
    "        {\"class\": \"Linear\", \"kargs\": {\"in_features\": 16000, \"out_features\": 256}},\n",
    "        {\"class\": \"ReLU\", \"kargs\": {\"inplace\": True}},\n",
    "        {\"class\": \"BatchNorm1d\", \"kargs\": {\"num_features\": 256}},\n",
    "        {\"class\": \"Linear\", \"kargs\": {\"in_features\": 256, \"out_features\": 256}},\n",
    "    ],\n",
    "    \"NUM_LOGS_PER_EPOCH\": 10,\n",
    "    \"BEST_MODEL_PATH\": \"./best_model.pth\",\n",
    "    \"n_way\": 16,\n",
    "    \"datasets\": [\n",
    "        {\n",
    "            \"labels\": [\n",
    "                \"1-10.\",\n",
    "                \"1-11.\",\n",
    "                \"1-15.\",\n",
    "                \"1-16.\",\n",
    "                \"1-17.\",\n",
    "                \"1-18.\",\n",
    "                \"1-19.\",\n",
    "                \"10-4.\",\n",
    "                \"10-7.\",\n",
    "                \"11-1.\",\n",
    "                \"11-14.\",\n",
    "                \"11-17.\",\n",
    "                \"11-20.\",\n",
    "                \"11-7.\",\n",
    "                \"13-20.\",\n",
    "                \"13-8.\",\n",
    "                \"14-10.\",\n",
    "                \"14-11.\",\n",
    "                \"14-14.\",\n",
    "                \"14-7.\",\n",
    "                \"15-1.\",\n",
    "                \"15-20.\",\n",
    "                \"16-1.\",\n",
    "                \"16-16.\",\n",
    "                \"17-10.\",\n",
    "                \"17-11.\",\n",
    "                \"17-2.\",\n",
    "                \"19-1.\",\n",
    "                \"19-16.\",\n",
    "                \"19-19.\",\n",
    "                \"19-20.\",\n",
    "                \"19-3.\",\n",
    "                \"2-10.\",\n",
    "                \"2-11.\",\n",
    "                \"2-17.\",\n",
    "                \"2-18.\",\n",
    "                \"2-20.\",\n",
    "                \"2-3.\",\n",
    "                \"2-4.\",\n",
    "                \"2-5.\",\n",
    "                \"2-6.\",\n",
    "                \"2-7.\",\n",
    "                \"2-8.\",\n",
    "                \"3-13.\",\n",
    "                \"3-18.\",\n",
    "                \"3-3.\",\n",
    "                \"4-1.\",\n",
    "                \"4-10.\",\n",
    "                \"4-11.\",\n",
    "                \"4-19.\",\n",
    "                \"5-5.\",\n",
    "                \"6-15.\",\n",
    "                \"7-10.\",\n",
    "                \"7-14.\",\n",
    "                \"8-18.\",\n",
    "                \"8-20.\",\n",
    "                \"8-3.\",\n",
    "                \"8-8.\",\n",
    "            ],\n",
    "            \"domains\": [1, 2, 3, 4, 5],\n",
    "            \"num_examples_per_domain_per_label\": 100,\n",
    "            \"pickle_path\": \"/mnt/wd500GB/CSC500/csc500-main/datasets/cores.stratified_ds.2022A.pkl\",\n",
    "            \"source_or_target_dataset\": \"target\",\n",
    "            \"x_transforms\": [\"unit_mag\", \"take_200\"],\n",
    "            \"episode_transforms\": [],\n",
    "            \"domain_prefix\": \"C_A_\",\n",
    "        },\n",
    "        {\n",
    "            \"labels\": [\n",
    "                \"1-10\",\n",
    "                \"1-12\",\n",
    "                \"1-14\",\n",
    "                \"1-16\",\n",
    "                \"1-18\",\n",
    "                \"1-19\",\n",
    "                \"1-8\",\n",
    "                \"10-11\",\n",
    "                \"10-17\",\n",
    "                \"10-4\",\n",
    "                \"10-7\",\n",
    "                \"11-1\",\n",
    "                \"11-10\",\n",
    "                \"11-19\",\n",
    "                \"11-20\",\n",
    "                \"11-4\",\n",
    "                \"11-7\",\n",
    "                \"12-19\",\n",
    "                \"12-20\",\n",
    "                \"12-7\",\n",
    "                \"13-14\",\n",
    "                \"13-18\",\n",
    "                \"13-19\",\n",
    "                \"13-20\",\n",
    "                \"13-3\",\n",
    "                \"13-7\",\n",
    "                \"14-10\",\n",
    "                \"14-11\",\n",
    "                \"14-12\",\n",
    "                \"14-13\",\n",
    "                \"14-14\",\n",
    "                \"14-19\",\n",
    "                \"14-20\",\n",
    "                \"14-7\",\n",
    "                \"14-8\",\n",
    "                \"14-9\",\n",
    "                \"15-1\",\n",
    "                \"15-19\",\n",
    "                \"15-6\",\n",
    "                \"16-1\",\n",
    "                \"16-16\",\n",
    "                \"16-19\",\n",
    "                \"16-20\",\n",
    "                \"17-10\",\n",
    "                \"17-11\",\n",
    "                \"18-1\",\n",
    "                \"18-10\",\n",
    "                \"18-11\",\n",
    "                \"18-12\",\n",
    "                \"18-13\",\n",
    "                \"18-14\",\n",
    "                \"18-15\",\n",
    "                \"18-16\",\n",
    "                \"18-17\",\n",
    "                \"18-19\",\n",
    "                \"18-2\",\n",
    "                \"18-20\",\n",
    "                \"18-4\",\n",
    "                \"18-5\",\n",
    "                \"18-7\",\n",
    "                \"18-8\",\n",
    "                \"18-9\",\n",
    "                \"19-1\",\n",
    "                \"19-10\",\n",
    "                \"19-11\",\n",
    "                \"19-12\",\n",
    "                \"19-13\",\n",
    "                \"19-14\",\n",
    "                \"19-15\",\n",
    "                \"19-19\",\n",
    "                \"19-2\",\n",
    "                \"19-20\",\n",
    "                \"19-3\",\n",
    "                \"19-4\",\n",
    "                \"19-6\",\n",
    "                \"19-7\",\n",
    "                \"19-8\",\n",
    "                \"19-9\",\n",
    "                \"2-1\",\n",
    "                \"2-13\",\n",
    "                \"2-15\",\n",
    "                \"2-3\",\n",
    "                \"2-4\",\n",
    "                \"2-5\",\n",
    "                \"2-6\",\n",
    "                \"2-7\",\n",
    "                \"2-8\",\n",
    "                \"20-1\",\n",
    "                \"20-12\",\n",
    "                \"20-14\",\n",
    "                \"20-15\",\n",
    "                \"20-16\",\n",
    "                \"20-18\",\n",
    "                \"20-19\",\n",
    "                \"20-20\",\n",
    "                \"20-3\",\n",
    "                \"20-4\",\n",
    "                \"20-5\",\n",
    "                \"20-7\",\n",
    "                \"20-8\",\n",
    "                \"3-1\",\n",
    "                \"3-13\",\n",
    "                \"3-18\",\n",
    "                \"3-2\",\n",
    "                \"3-8\",\n",
    "                \"4-1\",\n",
    "                \"4-10\",\n",
    "                \"4-11\",\n",
    "                \"5-1\",\n",
    "                \"5-5\",\n",
    "                \"6-1\",\n",
    "                \"6-15\",\n",
    "                \"6-6\",\n",
    "                \"7-10\",\n",
    "                \"7-11\",\n",
    "                \"7-12\",\n",
    "                \"7-13\",\n",
    "                \"7-14\",\n",
    "                \"7-7\",\n",
    "                \"7-8\",\n",
    "                \"7-9\",\n",
    "                \"8-1\",\n",
    "                \"8-13\",\n",
    "                \"8-14\",\n",
    "                \"8-18\",\n",
    "                \"8-20\",\n",
    "                \"8-3\",\n",
    "                \"8-8\",\n",
    "                \"9-1\",\n",
    "                \"9-7\",\n",
    "            ],\n",
    "            \"domains\": [1, 2, 3, 4],\n",
    "            \"num_examples_per_domain_per_label\": 100,\n",
    "            \"pickle_path\": \"/mnt/wd500GB/CSC500/csc500-main/datasets/wisig.node3-19.stratified_ds.2022A.pkl\",\n",
    "            \"source_or_target_dataset\": \"target\",\n",
    "            \"x_transforms\": [\"unit_mag\", \"take_200\"],\n",
    "            \"episode_transforms\": [],\n",
    "            \"domain_prefix\": \"W_A_\",\n",
    "        },\n",
    "        {\n",
    "            \"labels\": [\n",
    "                \"3123D52\",\n",
    "                \"3123D65\",\n",
    "                \"3123D79\",\n",
    "                \"3123D80\",\n",
    "                \"3123D54\",\n",
    "                \"3123D70\",\n",
    "                \"3123D7B\",\n",
    "                \"3123D89\",\n",
    "                \"3123D58\",\n",
    "                \"3123D76\",\n",
    "                \"3123D7D\",\n",
    "                \"3123EFE\",\n",
    "                \"3123D64\",\n",
    "                \"3123D78\",\n",
    "                \"3123D7E\",\n",
    "                \"3124E4A\",\n",
    "            ],\n",
    "            \"domains\": [32, 38, 8, 44, 14, 50, 20, 26],\n",
    "            \"num_examples_per_domain_per_label\": 2000,\n",
    "            \"pickle_path\": \"/mnt/wd500GB/CSC500/csc500-main/datasets/oracle.Run1_framed_2000Examples_stratified_ds.2022A.pkl\",\n",
    "            \"source_or_target_dataset\": \"source\",\n",
    "            \"x_transforms\": [\"unit_mag\", \"take_200\", \"resample_20Msps_to_25Msps\"],\n",
    "            \"episode_transforms\": [],\n",
    "            \"domain_prefix\": \"ORACLE.run1_\",\n",
    "        },\n",
    "    ],\n",
    "}\n"
   ]
  },
  {
   "cell_type": "code",
   "execution_count": 5,
   "id": "8fa1cc33",
   "metadata": {
    "execution": {
     "iopub.execute_input": "2022-03-18T16:59:03.493234Z",
     "iopub.status.busy": "2022-03-18T16:59:03.492975Z",
     "iopub.status.idle": "2022-03-18T16:59:03.508391Z",
     "shell.execute_reply": "2022-03-18T16:59:03.507905Z"
    },
    "papermill": {
     "duration": 0.03285,
     "end_time": "2022-03-18T16:59:03.508496",
     "exception": false,
     "start_time": "2022-03-18T16:59:03.475646",
     "status": "completed"
    },
    "tags": []
   },
   "outputs": [],
   "source": [
    "# Set this to True if you want to run this template directly\n",
    "STANDALONE = False\n",
    "if STANDALONE:\n",
    "    print(\"parameters not injected, running with standalone_parameters\")\n",
    "    parameters = standalone_parameters\n",
    "\n",
    "if not 'parameters' in locals() and not 'parameters' in globals():\n",
    "    raise Exception(\"Parameter injection failed\")\n",
    "\n",
    "#Use an easy dict for all the parameters\n",
    "p = EasyDict(parameters)\n",
    "\n",
    "if \"x_shape\" not in p:\n",
    "    p.x_shape = [2,256] # Default to this if we dont supply x_shape\n",
    "\n",
    "\n",
    "supplied_keys = set(p.keys())\n",
    "\n",
    "if  supplied_keys != required_parameters:\n",
    "    print(\"Parameters are incorrect\")\n",
    "    if len(supplied_keys - required_parameters)>0: print(\"Shouldn't have:\", str(supplied_keys - required_parameters))\n",
    "    if len(required_parameters - supplied_keys)>0: print(\"Need to have:\", str(required_parameters - supplied_keys))\n",
    "    raise RuntimeError(\"Parameters are incorrect\")"
   ]
  },
  {
   "cell_type": "code",
   "execution_count": 6,
   "id": "3a028d58",
   "metadata": {
    "execution": {
     "iopub.execute_input": "2022-03-18T16:59:03.543384Z",
     "iopub.status.busy": "2022-03-18T16:59:03.542406Z",
     "iopub.status.idle": "2022-03-18T16:59:03.558199Z",
     "shell.execute_reply": "2022-03-18T16:59:03.557717Z"
    },
    "papermill": {
     "duration": 0.030559,
     "end_time": "2022-03-18T16:59:03.558300",
     "exception": false,
     "start_time": "2022-03-18T16:59:03.527741",
     "status": "completed"
    },
    "tags": []
   },
   "outputs": [],
   "source": [
    "###################################\n",
    "# Set the RNGs and make it all deterministic\n",
    "###################################\n",
    "np.random.seed(p.seed)\n",
    "random.seed(p.seed)\n",
    "torch.manual_seed(p.seed)\n",
    "\n",
    "torch.use_deterministic_algorithms(True) "
   ]
  },
  {
   "cell_type": "code",
   "execution_count": 7,
   "id": "b691acf6",
   "metadata": {
    "execution": {
     "iopub.execute_input": "2022-03-18T16:59:03.594057Z",
     "iopub.status.busy": "2022-03-18T16:59:03.592129Z",
     "iopub.status.idle": "2022-03-18T16:59:03.609265Z",
     "shell.execute_reply": "2022-03-18T16:59:03.608780Z"
    },
    "papermill": {
     "duration": 0.032209,
     "end_time": "2022-03-18T16:59:03.609367",
     "exception": false,
     "start_time": "2022-03-18T16:59:03.577158",
     "status": "completed"
    },
    "tags": []
   },
   "outputs": [],
   "source": [
    "###########################################\n",
    "# The stratified datasets honor this\n",
    "###########################################\n",
    "torch.set_default_dtype(eval(p.torch_default_dtype))"
   ]
  },
  {
   "cell_type": "code",
   "execution_count": 8,
   "id": "b5fba671",
   "metadata": {
    "execution": {
     "iopub.execute_input": "2022-03-18T16:59:03.641553Z",
     "iopub.status.busy": "2022-03-18T16:59:03.641299Z",
     "iopub.status.idle": "2022-03-18T16:59:03.673405Z",
     "shell.execute_reply": "2022-03-18T16:59:03.672967Z"
    },
    "papermill": {
     "duration": 0.047375,
     "end_time": "2022-03-18T16:59:03.673514",
     "exception": false,
     "start_time": "2022-03-18T16:59:03.626139",
     "status": "completed"
    },
    "tags": []
   },
   "outputs": [],
   "source": [
    "###################################\n",
    "# Build the network(s)\n",
    "# Note: It's critical to do this AFTER setting the RNG\n",
    "###################################\n",
    "x_net = build_sequential(p.x_net)"
   ]
  },
  {
   "cell_type": "code",
   "execution_count": 9,
   "id": "5d7e61cc",
   "metadata": {
    "execution": {
     "iopub.execute_input": "2022-03-18T16:59:03.708222Z",
     "iopub.status.busy": "2022-03-18T16:59:03.707967Z",
     "iopub.status.idle": "2022-03-18T16:59:03.723086Z",
     "shell.execute_reply": "2022-03-18T16:59:03.722606Z"
    },
    "papermill": {
     "duration": 0.030848,
     "end_time": "2022-03-18T16:59:03.723187",
     "exception": false,
     "start_time": "2022-03-18T16:59:03.692339",
     "status": "completed"
    },
    "tags": []
   },
   "outputs": [],
   "source": [
    "start_time_secs = time.time()"
   ]
  },
  {
   "cell_type": "code",
   "execution_count": 10,
   "id": "c6b67dfd",
   "metadata": {
    "execution": {
     "iopub.execute_input": "2022-03-18T16:59:03.756667Z",
     "iopub.status.busy": "2022-03-18T16:59:03.756416Z",
     "iopub.status.idle": "2022-03-18T16:59:03.771310Z",
     "shell.execute_reply": "2022-03-18T16:59:03.770846Z"
    },
    "papermill": {
     "duration": 0.030755,
     "end_time": "2022-03-18T16:59:03.771412",
     "exception": false,
     "start_time": "2022-03-18T16:59:03.740657",
     "status": "completed"
    },
    "tags": []
   },
   "outputs": [],
   "source": [
    "p.domains_source = []\n",
    "p.domains_target = []\n",
    "\n",
    "\n",
    "train_original_source = []\n",
    "val_original_source   = []\n",
    "test_original_source  = []\n",
    "\n",
    "train_original_target = []\n",
    "val_original_target   = []\n",
    "test_original_target  = []"
   ]
  },
  {
   "cell_type": "code",
   "execution_count": 11,
   "id": "e3d9c3d3",
   "metadata": {
    "execution": {
     "iopub.execute_input": "2022-03-18T16:59:03.806760Z",
     "iopub.status.busy": "2022-03-18T16:59:03.805651Z",
     "iopub.status.idle": "2022-03-18T16:59:03.820633Z",
     "shell.execute_reply": "2022-03-18T16:59:03.820157Z"
    },
    "papermill": {
     "duration": 0.029944,
     "end_time": "2022-03-18T16:59:03.820734",
     "exception": false,
     "start_time": "2022-03-18T16:59:03.790790",
     "status": "completed"
    },
    "tags": []
   },
   "outputs": [],
   "source": [
    "# global_x_transform_func = lambda x: normalize(x.to(torch.get_default_dtype()), \"unit_power\") # unit_power, unit_mag\n",
    "# global_x_transform_func = lambda x: normalize(x, \"unit_power\") # unit_power, unit_mag"
   ]
  },
  {
   "cell_type": "code",
   "execution_count": 12,
   "id": "acb78fd2",
   "metadata": {
    "execution": {
     "iopub.execute_input": "2022-03-18T16:59:03.859600Z",
     "iopub.status.busy": "2022-03-18T16:59:03.858982Z",
     "iopub.status.idle": "2022-03-18T16:59:03.875861Z",
     "shell.execute_reply": "2022-03-18T16:59:03.875389Z"
    },
    "papermill": {
     "duration": 0.03644,
     "end_time": "2022-03-18T16:59:03.875961",
     "exception": false,
     "start_time": "2022-03-18T16:59:03.839521",
     "status": "completed"
    },
    "tags": []
   },
   "outputs": [],
   "source": [
    "def add_dataset(\n",
    "    labels,\n",
    "    domains,\n",
    "    pickle_path,\n",
    "    x_transforms,\n",
    "    episode_transforms,\n",
    "    domain_prefix,\n",
    "    num_examples_per_domain_per_label,\n",
    "    source_or_target_dataset:str,\n",
    "    iterator_seed=p.seed,\n",
    "    dataset_seed=p.dataset_seed,\n",
    "    n_shot=p.n_shot,\n",
    "    n_way=p.n_way,\n",
    "    n_query=p.n_query,\n",
    "    train_val_test_k_factors=(p.train_k_factor,p.val_k_factor,p.test_k_factor),\n",
    "):\n",
    "   \n",
    "    if x_transforms == []: x_transform = None\n",
    "    else: x_transform = get_chained_transform(x_transforms)\n",
    "    \n",
    "    if episode_transforms == []: episode_transform = None\n",
    "    else: raise Exception(\"episode_transforms not implemented\")\n",
    "    \n",
    "    episode_transform = lambda tup, _prefix=domain_prefix: (_prefix + str(tup[0]), tup[1])\n",
    "\n",
    "\n",
    "    eaf = Episodic_Accessor_Factory(\n",
    "        labels=labels,\n",
    "        domains=domains,\n",
    "        num_examples_per_domain_per_label=num_examples_per_domain_per_label,\n",
    "        iterator_seed=iterator_seed,\n",
    "        dataset_seed=dataset_seed,\n",
    "        n_shot=n_shot,\n",
    "        n_way=n_way,\n",
    "        n_query=n_query,\n",
    "        train_val_test_k_factors=train_val_test_k_factors,\n",
    "        pickle_path=pickle_path,\n",
    "        x_transform_func=x_transform,\n",
    "    )\n",
    "\n",
    "    train, val, test = eaf.get_train(), eaf.get_val(), eaf.get_test()\n",
    "    train = Lazy_Iterable_Wrapper(train, episode_transform)\n",
    "    val = Lazy_Iterable_Wrapper(val, episode_transform)\n",
    "    test = Lazy_Iterable_Wrapper(test, episode_transform)\n",
    "\n",
    "    if source_or_target_dataset==\"source\":\n",
    "        train_original_source.append(train)\n",
    "        val_original_source.append(val)\n",
    "        test_original_source.append(test)\n",
    "\n",
    "        p.domains_source.extend(\n",
    "            [domain_prefix + str(u) for u in domains]\n",
    "        )\n",
    "    elif source_or_target_dataset==\"target\":\n",
    "        train_original_target.append(train)\n",
    "        val_original_target.append(val)\n",
    "        test_original_target.append(test)\n",
    "        p.domains_target.extend(\n",
    "            [domain_prefix + str(u) for u in domains]\n",
    "        )\n",
    "    else:\n",
    "        raise Exception(f\"invalid source_or_target_dataset: {source_or_target_dataset}\")\n",
    "    "
   ]
  },
  {
   "cell_type": "code",
   "execution_count": 13,
   "id": "fe266617",
   "metadata": {
    "execution": {
     "iopub.execute_input": "2022-03-18T16:59:03.910992Z",
     "iopub.status.busy": "2022-03-18T16:59:03.910704Z",
     "iopub.status.idle": "2022-03-18T16:59:41.565737Z",
     "shell.execute_reply": "2022-03-18T16:59:41.565488Z"
    },
    "papermill": {
     "duration": 37.670485,
     "end_time": "2022-03-18T16:59:41.565800",
     "exception": false,
     "start_time": "2022-03-18T16:59:03.895315",
     "status": "completed"
    },
    "tags": []
   },
   "outputs": [],
   "source": [
    "for ds in p.datasets:\n",
    "    add_dataset(**ds)"
   ]
  },
  {
   "cell_type": "code",
   "execution_count": 14,
   "id": "b90d65ac",
   "metadata": {
    "execution": {
     "iopub.execute_input": "2022-03-18T16:59:41.595990Z",
     "iopub.status.busy": "2022-03-18T16:59:41.595452Z",
     "iopub.status.idle": "2022-03-18T16:59:41.607280Z",
     "shell.execute_reply": "2022-03-18T16:59:41.606798Z"
    },
    "papermill": {
     "duration": 0.02748,
     "end_time": "2022-03-18T16:59:41.607388",
     "exception": false,
     "start_time": "2022-03-18T16:59:41.579908",
     "status": "completed"
    },
    "tags": []
   },
   "outputs": [],
   "source": [
    "# from steves_utils.CORES.utils import (\n",
    "#     ALL_NODES,\n",
    "#     ALL_NODES_MINIMUM_1000_EXAMPLES,\n",
    "#     ALL_DAYS\n",
    "# )\n",
    "\n",
    "# add_dataset(\n",
    "#     labels=ALL_NODES,\n",
    "#     domains = ALL_DAYS,\n",
    "#     num_examples_per_domain_per_label=100,\n",
    "#     pickle_path=os.path.join(get_datasets_base_path(), \"cores.stratified_ds.2022A.pkl\"),\n",
    "#     source_or_target_dataset=\"target\",\n",
    "#     x_transform_func=global_x_transform_func,\n",
    "#     domain_modifier=lambda u: f\"cores_{u}\"\n",
    "# )"
   ]
  },
  {
   "cell_type": "code",
   "execution_count": 15,
   "id": "76db484d",
   "metadata": {
    "execution": {
     "iopub.execute_input": "2022-03-18T16:59:41.643088Z",
     "iopub.status.busy": "2022-03-18T16:59:41.642823Z",
     "iopub.status.idle": "2022-03-18T16:59:41.658721Z",
     "shell.execute_reply": "2022-03-18T16:59:41.658244Z"
    },
    "papermill": {
     "duration": 0.031417,
     "end_time": "2022-03-18T16:59:41.658821",
     "exception": false,
     "start_time": "2022-03-18T16:59:41.627404",
     "status": "completed"
    },
    "tags": []
   },
   "outputs": [],
   "source": [
    "# from steves_utils.ORACLE.utils_v2 import (\n",
    "#     ALL_DISTANCES_FEET,\n",
    "#     ALL_RUNS,\n",
    "#     ALL_SERIAL_NUMBERS,\n",
    "# )\n",
    "\n",
    "\n",
    "# add_dataset(\n",
    "#     labels=ALL_SERIAL_NUMBERS,\n",
    "#     domains = list(set(ALL_DISTANCES_FEET) - {2,62}),\n",
    "#     num_examples_per_domain_per_label=100,\n",
    "#     pickle_path=os.path.join(get_datasets_base_path(), \"oracle.Run2_framed_2000Examples_stratified_ds.2022A.pkl\"),\n",
    "#     source_or_target_dataset=\"source\",\n",
    "#     x_transform_func=global_x_transform_func,\n",
    "#     domain_modifier=lambda u: f\"oracle1_{u}\"\n",
    "# )\n"
   ]
  },
  {
   "cell_type": "code",
   "execution_count": 16,
   "id": "97dea9d2",
   "metadata": {
    "execution": {
     "iopub.execute_input": "2022-03-18T16:59:41.696915Z",
     "iopub.status.busy": "2022-03-18T16:59:41.696536Z",
     "iopub.status.idle": "2022-03-18T16:59:41.705415Z",
     "shell.execute_reply": "2022-03-18T16:59:41.705031Z"
    },
    "papermill": {
     "duration": 0.028555,
     "end_time": "2022-03-18T16:59:41.705497",
     "exception": false,
     "start_time": "2022-03-18T16:59:41.676942",
     "status": "completed"
    },
    "tags": []
   },
   "outputs": [],
   "source": [
    "# from steves_utils.ORACLE.utils_v2 import (\n",
    "#     ALL_DISTANCES_FEET,\n",
    "#     ALL_RUNS,\n",
    "#     ALL_SERIAL_NUMBERS,\n",
    "# )\n",
    "\n",
    "\n",
    "# add_dataset(\n",
    "#     labels=ALL_SERIAL_NUMBERS,\n",
    "#     domains = list(set(ALL_DISTANCES_FEET) - {2,62,56}),\n",
    "#     num_examples_per_domain_per_label=100,\n",
    "#     pickle_path=os.path.join(get_datasets_base_path(), \"oracle.Run2_framed_2000Examples_stratified_ds.2022A.pkl\"),\n",
    "#     source_or_target_dataset=\"source\",\n",
    "#     x_transform_func=global_x_transform_func,\n",
    "#     domain_modifier=lambda u: f\"oracle2_{u}\"\n",
    "# )"
   ]
  },
  {
   "cell_type": "code",
   "execution_count": 17,
   "id": "6f289866",
   "metadata": {
    "execution": {
     "iopub.execute_input": "2022-03-18T16:59:41.740724Z",
     "iopub.status.busy": "2022-03-18T16:59:41.740460Z",
     "iopub.status.idle": "2022-03-18T16:59:41.757300Z",
     "shell.execute_reply": "2022-03-18T16:59:41.756832Z"
    },
    "papermill": {
     "duration": 0.032913,
     "end_time": "2022-03-18T16:59:41.757400",
     "exception": false,
     "start_time": "2022-03-18T16:59:41.724487",
     "status": "completed"
    },
    "tags": []
   },
   "outputs": [],
   "source": [
    "# add_dataset(\n",
    "#     labels=list(range(19)),\n",
    "#     domains = [0,1,2],\n",
    "#     num_examples_per_domain_per_label=100,\n",
    "#     pickle_path=os.path.join(get_datasets_base_path(), \"metehan.stratified_ds.2022A.pkl\"),\n",
    "#     source_or_target_dataset=\"target\",\n",
    "#     x_transform_func=global_x_transform_func,\n",
    "#     domain_modifier=lambda u: f\"met_{u}\"\n",
    "# )"
   ]
  },
  {
   "cell_type": "code",
   "execution_count": 18,
   "id": "86a863c3",
   "metadata": {
    "execution": {
     "iopub.execute_input": "2022-03-18T16:59:41.792725Z",
     "iopub.status.busy": "2022-03-18T16:59:41.792473Z",
     "iopub.status.idle": "2022-03-18T16:59:41.803357Z",
     "shell.execute_reply": "2022-03-18T16:59:41.803072Z"
    },
    "papermill": {
     "duration": 0.02608,
     "end_time": "2022-03-18T16:59:41.803418",
     "exception": false,
     "start_time": "2022-03-18T16:59:41.777338",
     "status": "completed"
    },
    "tags": []
   },
   "outputs": [],
   "source": [
    "# # from steves_utils.wisig.utils import (\n",
    "# #     ALL_NODES_MINIMUM_100_EXAMPLES,\n",
    "# #     ALL_NODES_MINIMUM_500_EXAMPLES,\n",
    "# #     ALL_NODES_MINIMUM_1000_EXAMPLES,\n",
    "# #     ALL_DAYS\n",
    "# # )\n",
    "\n",
    "# import steves_utils.wisig.utils as wisig\n",
    "\n",
    "\n",
    "# add_dataset(\n",
    "#     labels=wisig.ALL_NODES_MINIMUM_100_EXAMPLES,\n",
    "#     domains = wisig.ALL_DAYS,\n",
    "#     num_examples_per_domain_per_label=100,\n",
    "#     pickle_path=os.path.join(get_datasets_base_path(), \"wisig.node3-19.stratified_ds.2022A.pkl\"),\n",
    "#     source_or_target_dataset=\"target\",\n",
    "#     x_transform_func=global_x_transform_func,\n",
    "#     domain_modifier=lambda u: f\"wisig_{u}\"\n",
    "# )"
   ]
  },
  {
   "cell_type": "code",
   "execution_count": 19,
   "id": "fd5442bc",
   "metadata": {
    "execution": {
     "iopub.execute_input": "2022-03-18T16:59:41.842326Z",
     "iopub.status.busy": "2022-03-18T16:59:41.842025Z",
     "iopub.status.idle": "2022-03-18T16:59:41.858667Z",
     "shell.execute_reply": "2022-03-18T16:59:41.858174Z"
    },
    "papermill": {
     "duration": 0.035851,
     "end_time": "2022-03-18T16:59:41.858779",
     "exception": false,
     "start_time": "2022-03-18T16:59:41.822928",
     "status": "completed"
    },
    "tags": []
   },
   "outputs": [],
   "source": [
    "###################################\n",
    "# Build the dataset\n",
    "###################################\n",
    "train_original_source = Iterable_Aggregator(train_original_source, p.seed)\n",
    "val_original_source = Iterable_Aggregator(val_original_source, p.seed)\n",
    "test_original_source = Iterable_Aggregator(test_original_source, p.seed)\n",
    "\n",
    "\n",
    "train_original_target = Iterable_Aggregator(train_original_target, p.seed)\n",
    "val_original_target = Iterable_Aggregator(val_original_target, p.seed)\n",
    "test_original_target = Iterable_Aggregator(test_original_target, p.seed)\n",
    "\n",
    "# For CNN We only use X and Y. And we only train on the source.\n",
    "# Properly form the data using a transform lambda and Lazy_Iterable_Wrapper. Finally wrap them in a dataloader\n",
    "\n",
    "transform_lambda = lambda ex: ex[1] # Original is (<domain>, <episode>) so we strip down to episode only\n",
    "\n",
    "train_processed_source = Lazy_Iterable_Wrapper(train_original_source, transform_lambda)\n",
    "val_processed_source   = Lazy_Iterable_Wrapper(val_original_source, transform_lambda)\n",
    "test_processed_source  = Lazy_Iterable_Wrapper(test_original_source, transform_lambda)\n",
    "\n",
    "train_processed_target = Lazy_Iterable_Wrapper(train_original_target, transform_lambda)\n",
    "val_processed_target   = Lazy_Iterable_Wrapper(val_original_target, transform_lambda)\n",
    "test_processed_target  = Lazy_Iterable_Wrapper(test_original_target, transform_lambda)\n",
    "\n",
    "datasets = EasyDict({\n",
    "    \"source\": {\n",
    "        \"original\": {\"train\":train_original_source, \"val\":val_original_source, \"test\":test_original_source},\n",
    "        \"processed\": {\"train\":train_processed_source, \"val\":val_processed_source, \"test\":test_processed_source}\n",
    "    },\n",
    "    \"target\": {\n",
    "        \"original\": {\"train\":train_original_target, \"val\":val_original_target, \"test\":test_original_target},\n",
    "        \"processed\": {\"train\":train_processed_target, \"val\":val_processed_target, \"test\":test_processed_target}\n",
    "    },\n",
    "})"
   ]
  },
  {
   "cell_type": "code",
   "execution_count": 20,
   "id": "5b3c01fc",
   "metadata": {
    "execution": {
     "iopub.execute_input": "2022-03-18T16:59:41.893584Z",
     "iopub.status.busy": "2022-03-18T16:59:41.893237Z",
     "iopub.status.idle": "2022-03-18T16:59:46.762678Z",
     "shell.execute_reply": "2022-03-18T16:59:46.763029Z"
    },
    "papermill": {
     "duration": 4.88599,
     "end_time": "2022-03-18T16:59:46.763136",
     "exception": false,
     "start_time": "2022-03-18T16:59:41.877146",
     "status": "completed"
    },
    "tags": []
   },
   "outputs": [
    {
     "name": "stdout",
     "output_type": "stream",
     "text": [
      "{'ORACLE.run1_44', 'ORACLE.run1_20', 'ORACLE.run1_8', 'ORACLE.run1_26', 'ORACLE.run1_14', 'ORACLE.run1_38', 'ORACLE.run1_32', 'ORACLE.run1_50'}\n"
     ]
    },
    {
     "name": "stdout",
     "output_type": "stream",
     "text": [
      "{'C_A_5', 'C_A_4', 'C_A_3', 'W_A_4', 'W_A_1', 'W_A_2', 'C_A_1', 'C_A_2', 'W_A_3'}\n"
     ]
    },
    {
     "name": "stdout",
     "output_type": "stream",
     "text": [
      "tensor([[[ 0.6771,  0.6049, -0.6388,  ...,  0.1252, -1.1136,  0.0521],\n",
      "         [ 0.1621,  1.3147,  0.4124,  ...,  0.8546,  0.6386,  0.8458]],\n",
      "\n",
      "        [[-0.6997,  0.2883,  0.8559,  ...,  0.5130,  1.2371,  0.6823],\n",
      "         [-0.5248, -1.3202,  0.2191,  ..., -0.5431,  0.3696, -0.6693]],\n",
      "\n",
      "        [[-0.0389,  1.1807,  0.4981,  ...,  0.8179,  0.4623,  0.8006],\n",
      "         [-0.6127, -0.4203,  0.7069,  ...,  0.0047,  1.1766,  0.0143]],\n",
      "\n",
      "        ...,\n",
      "\n",
      "        [[ 0.7358,  0.4660, -0.7318,  ..., -0.0115, -1.2610, -0.1188],\n",
      "         [ 0.1727,  1.1991,  0.2903,  ...,  0.8442,  0.6025,  1.0250]],\n",
      "\n",
      "        [[ 0.9985,  0.7848, -1.0215,  ..., -0.1714, -0.3680,  1.0334],\n",
      "         [ 0.1019,  0.8947,  0.2864,  ...,  0.9916,  0.8126,  0.6934]],\n",
      "\n",
      "        [[ 0.8913,  0.9787, -0.7169,  ...,  0.5588,  0.5193,  1.2103],\n",
      "         [-0.7172,  0.1559,  1.1444,  ...,  1.0353,  0.5671, -0.4114]]])\n"
     ]
    }
   ],
   "source": [
    "from steves_utils.transforms import get_average_magnitude, get_average_power\n",
    "\n",
    "print(set([u for u,_ in val_original_source]))\n",
    "print(set([u for u,_ in val_original_target]))\n",
    "\n",
    "s_x, s_y, q_x, q_y, _ = next(iter(train_processed_source))\n",
    "print(s_x)\n",
    "\n",
    "# for ds in [\n",
    "#     train_processed_source,\n",
    "#     val_processed_source,\n",
    "#     test_processed_source,\n",
    "#     train_processed_target,\n",
    "#     val_processed_target,\n",
    "#     test_processed_target\n",
    "# ]:\n",
    "#     for s_x, s_y, q_x, q_y, _ in ds:\n",
    "#         for X in (s_x, q_x):\n",
    "#             for x in X:\n",
    "#                 assert np.isclose(get_average_magnitude(x.numpy()), 1.0)\n",
    "#                 assert np.isclose(get_average_power(x.numpy()), 1.0)\n",
    "                "
   ]
  },
  {
   "cell_type": "code",
   "execution_count": 21,
   "id": "bbdacba1",
   "metadata": {
    "execution": {
     "iopub.execute_input": "2022-03-18T16:59:46.811674Z",
     "iopub.status.busy": "2022-03-18T16:59:46.811421Z",
     "iopub.status.idle": "2022-03-18T16:59:46.861294Z",
     "shell.execute_reply": "2022-03-18T16:59:46.861644Z"
    },
    "papermill": {
     "duration": 0.071549,
     "end_time": "2022-03-18T16:59:46.861758",
     "exception": false,
     "start_time": "2022-03-18T16:59:46.790209",
     "status": "completed"
    },
    "tags": []
   },
   "outputs": [
    {
     "name": "stdout",
     "output_type": "stream",
     "text": [
      "(2, 200)\n"
     ]
    }
   ],
   "source": [
    "###################################\n",
    "# Build the model\n",
    "###################################\n",
    "# easfsl only wants a tuple for the shape\n",
    "model = Steves_Prototypical_Network(x_net, device=p.device, x_shape=tuple(p.x_shape))\n",
    "optimizer = Adam(params=model.parameters(), lr=p.lr)"
   ]
  },
  {
   "cell_type": "code",
   "execution_count": 22,
   "id": "22b39ac5",
   "metadata": {
    "execution": {
     "iopub.execute_input": "2022-03-18T16:59:46.901637Z",
     "iopub.status.busy": "2022-03-18T16:59:46.901360Z",
     "iopub.status.idle": "2022-03-18T17:21:00.324046Z",
     "shell.execute_reply": "2022-03-18T17:21:00.323814Z"
    },
    "papermill": {
     "duration": 1273.441034,
     "end_time": "2022-03-18T17:21:00.324104",
     "exception": false,
     "start_time": "2022-03-18T16:59:46.883070",
     "status": "completed"
    },
    "tags": []
   },
   "outputs": [
    {
     "name": "stdout",
     "output_type": "stream",
     "text": [
      "epoch: 1, [batch: 1 / 6720], examples_per_second: 49.0308, train_label_loss: 3.2388, \n"
     ]
    },
    {
     "name": "stdout",
     "output_type": "stream",
     "text": [
      "epoch: 1, [batch: 672 / 6720], examples_per_second: 3643.0952, train_label_loss: 1.2817, \n"
     ]
    },
    {
     "name": "stdout",
     "output_type": "stream",
     "text": [
      "epoch: 1, [batch: 1344 / 6720], examples_per_second: 3664.1879, train_label_loss: 0.9312, \n"
     ]
    },
    {
     "name": "stdout",
     "output_type": "stream",
     "text": [
      "epoch: 1, [batch: 2016 / 6720], examples_per_second: 3660.2421, train_label_loss: 1.2177, \n"
     ]
    },
    {
     "name": "stdout",
     "output_type": "stream",
     "text": [
      "epoch: 1, [batch: 2688 / 6720], examples_per_second: 3639.1860, train_label_loss: 0.8234, \n"
     ]
    },
    {
     "name": "stdout",
     "output_type": "stream",
     "text": [
      "epoch: 1, [batch: 3360 / 6720], examples_per_second: 3657.7271, train_label_loss: 1.0757, \n"
     ]
    },
    {
     "name": "stdout",
     "output_type": "stream",
     "text": [
      "epoch: 1, [batch: 4032 / 6720], examples_per_second: 3644.0744, train_label_loss: 0.9919, \n"
     ]
    },
    {
     "name": "stdout",
     "output_type": "stream",
     "text": [
      "epoch: 1, [batch: 4704 / 6720], examples_per_second: 3626.1976, train_label_loss: 0.9861, \n"
     ]
    },
    {
     "name": "stdout",
     "output_type": "stream",
     "text": [
      "epoch: 1, [batch: 5376 / 6720], examples_per_second: 3639.3823, train_label_loss: 1.4829, \n"
     ]
    },
    {
     "name": "stdout",
     "output_type": "stream",
     "text": [
      "epoch: 1, [batch: 6048 / 6720], examples_per_second: 3631.7033, train_label_loss: 0.6341, \n"
     ]
    },
    {
     "name": "stdout",
     "output_type": "stream",
     "text": [
      "=============================================================\n",
      "epoch: 1, source_val_acc_label: 0.6465, target_val_acc_label: 0.4204, source_val_label_loss: 105.2734, target_val_label_loss: 26294.0820, \n",
      "=============================================================\n"
     ]
    },
    {
     "name": "stdout",
     "output_type": "stream",
     "text": [
      "New best\n"
     ]
    },
    {
     "name": "stdout",
     "output_type": "stream",
     "text": [
      "epoch: 2, [batch: 1 / 6720], examples_per_second: 6.0129, train_label_loss: 1.2515, \n"
     ]
    },
    {
     "name": "stdout",
     "output_type": "stream",
     "text": [
      "epoch: 2, [batch: 672 / 6720], examples_per_second: 3633.7781, train_label_loss: 1.8001, \n"
     ]
    },
    {
     "name": "stdout",
     "output_type": "stream",
     "text": [
      "epoch: 2, [batch: 1344 / 6720], examples_per_second: 3673.6689, train_label_loss: 0.9660, \n"
     ]
    },
    {
     "name": "stdout",
     "output_type": "stream",
     "text": [
      "epoch: 2, [batch: 2016 / 6720], examples_per_second: 3676.8672, train_label_loss: 0.7948, \n"
     ]
    },
    {
     "name": "stdout",
     "output_type": "stream",
     "text": [
      "epoch: 2, [batch: 2688 / 6720], examples_per_second: 3637.3437, train_label_loss: 1.1105, \n"
     ]
    },
    {
     "name": "stdout",
     "output_type": "stream",
     "text": [
      "epoch: 2, [batch: 3360 / 6720], examples_per_second: 3657.9226, train_label_loss: 0.9396, \n"
     ]
    },
    {
     "name": "stdout",
     "output_type": "stream",
     "text": [
      "epoch: 2, [batch: 4032 / 6720], examples_per_second: 3703.2141, train_label_loss: 0.7562, \n"
     ]
    },
    {
     "name": "stdout",
     "output_type": "stream",
     "text": [
      "epoch: 2, [batch: 4704 / 6720], examples_per_second: 3645.8504, train_label_loss: 0.9915, \n"
     ]
    },
    {
     "name": "stdout",
     "output_type": "stream",
     "text": [
      "epoch: 2, [batch: 5376 / 6720], examples_per_second: 3660.5492, train_label_loss: 1.5007, \n"
     ]
    },
    {
     "name": "stdout",
     "output_type": "stream",
     "text": [
      "epoch: 2, [batch: 6048 / 6720], examples_per_second: 3664.3347, train_label_loss: 0.8299, \n"
     ]
    },
    {
     "name": "stdout",
     "output_type": "stream",
     "text": [
      "=============================================================\n",
      "epoch: 2, source_val_acc_label: 0.6456, target_val_acc_label: 0.5795, source_val_label_loss: 0.9815, target_val_label_loss: 101.2742, \n",
      "=============================================================\n"
     ]
    },
    {
     "name": "stdout",
     "output_type": "stream",
     "text": [
      "New best\n"
     ]
    },
    {
     "name": "stdout",
     "output_type": "stream",
     "text": [
      "epoch: 3, [batch: 1 / 6720], examples_per_second: 6.0452, train_label_loss: 0.5833, \n"
     ]
    },
    {
     "name": "stdout",
     "output_type": "stream",
     "text": [
      "epoch: 3, [batch: 672 / 6720], examples_per_second: 3653.7460, train_label_loss: 1.3102, \n"
     ]
    },
    {
     "name": "stdout",
     "output_type": "stream",
     "text": [
      "epoch: 3, [batch: 1344 / 6720], examples_per_second: 3666.3429, train_label_loss: 1.3243, \n"
     ]
    },
    {
     "name": "stdout",
     "output_type": "stream",
     "text": [
      "epoch: 3, [batch: 2016 / 6720], examples_per_second: 3655.4053, train_label_loss: 1.1003, \n"
     ]
    },
    {
     "name": "stdout",
     "output_type": "stream",
     "text": [
      "epoch: 3, [batch: 2688 / 6720], examples_per_second: 3661.9206, train_label_loss: 0.9662, \n"
     ]
    },
    {
     "name": "stdout",
     "output_type": "stream",
     "text": [
      "epoch: 3, [batch: 3360 / 6720], examples_per_second: 3660.1955, train_label_loss: 0.8516, \n"
     ]
    },
    {
     "name": "stdout",
     "output_type": "stream",
     "text": [
      "epoch: 3, [batch: 4032 / 6720], examples_per_second: 3657.5825, train_label_loss: 0.6491, \n"
     ]
    },
    {
     "name": "stdout",
     "output_type": "stream",
     "text": [
      "epoch: 3, [batch: 4704 / 6720], examples_per_second: 3636.5721, train_label_loss: 0.7288, \n"
     ]
    },
    {
     "name": "stdout",
     "output_type": "stream",
     "text": [
      "epoch: 3, [batch: 5376 / 6720], examples_per_second: 3652.0966, train_label_loss: 0.7914, \n"
     ]
    },
    {
     "name": "stdout",
     "output_type": "stream",
     "text": [
      "epoch: 3, [batch: 6048 / 6720], examples_per_second: 3662.4366, train_label_loss: 0.6217, \n"
     ]
    },
    {
     "name": "stdout",
     "output_type": "stream",
     "text": [
      "=============================================================\n",
      "epoch: 3, source_val_acc_label: 0.6798, target_val_acc_label: 0.6019, source_val_label_loss: 0.8991, target_val_label_loss: 24.0456, \n",
      "=============================================================\n"
     ]
    },
    {
     "name": "stdout",
     "output_type": "stream",
     "text": [
      "New best\n"
     ]
    },
    {
     "name": "stdout",
     "output_type": "stream",
     "text": [
      "epoch: 4, [batch: 1 / 6720], examples_per_second: 6.0098, train_label_loss: 0.9058, \n"
     ]
    },
    {
     "name": "stdout",
     "output_type": "stream",
     "text": [
      "epoch: 4, [batch: 672 / 6720], examples_per_second: 3634.8639, train_label_loss: 1.0517, \n"
     ]
    },
    {
     "name": "stdout",
     "output_type": "stream",
     "text": [
      "epoch: 4, [batch: 1344 / 6720], examples_per_second: 3668.9851, train_label_loss: 0.4346, \n"
     ]
    },
    {
     "name": "stdout",
     "output_type": "stream",
     "text": [
      "epoch: 4, [batch: 2016 / 6720], examples_per_second: 3660.1726, train_label_loss: 0.5116, \n"
     ]
    },
    {
     "name": "stdout",
     "output_type": "stream",
     "text": [
      "epoch: 4, [batch: 2688 / 6720], examples_per_second: 3652.2159, train_label_loss: 1.1050, \n"
     ]
    },
    {
     "name": "stdout",
     "output_type": "stream",
     "text": [
      "epoch: 4, [batch: 3360 / 6720], examples_per_second: 3654.6604, train_label_loss: 1.1239, \n"
     ]
    },
    {
     "name": "stdout",
     "output_type": "stream",
     "text": [
      "epoch: 4, [batch: 4032 / 6720], examples_per_second: 3671.9225, train_label_loss: 0.4935, \n"
     ]
    },
    {
     "name": "stdout",
     "output_type": "stream",
     "text": [
      "epoch: 4, [batch: 4704 / 6720], examples_per_second: 3657.6950, train_label_loss: 0.8408, \n"
     ]
    },
    {
     "name": "stdout",
     "output_type": "stream",
     "text": [
      "epoch: 4, [batch: 5376 / 6720], examples_per_second: 3663.9516, train_label_loss: 0.6664, \n"
     ]
    },
    {
     "name": "stdout",
     "output_type": "stream",
     "text": [
      "epoch: 4, [batch: 6048 / 6720], examples_per_second: 3626.2856, train_label_loss: 0.6559, \n"
     ]
    },
    {
     "name": "stdout",
     "output_type": "stream",
     "text": [
      "=============================================================\n",
      "epoch: 4, source_val_acc_label: 0.7402, target_val_acc_label: 0.6104, source_val_label_loss: 0.7251, target_val_label_loss: 23.4524, \n",
      "=============================================================\n"
     ]
    },
    {
     "name": "stdout",
     "output_type": "stream",
     "text": [
      "New best\n"
     ]
    },
    {
     "name": "stdout",
     "output_type": "stream",
     "text": [
      "epoch: 5, [batch: 1 / 6720], examples_per_second: 5.9991, train_label_loss: 0.5532, \n"
     ]
    },
    {
     "name": "stdout",
     "output_type": "stream",
     "text": [
      "epoch: 5, [batch: 672 / 6720], examples_per_second: 3629.5115, train_label_loss: 0.9496, \n"
     ]
    },
    {
     "name": "stdout",
     "output_type": "stream",
     "text": [
      "epoch: 5, [batch: 1344 / 6720], examples_per_second: 3631.7130, train_label_loss: 0.7257, \n"
     ]
    },
    {
     "name": "stdout",
     "output_type": "stream",
     "text": [
      "epoch: 5, [batch: 2016 / 6720], examples_per_second: 3649.1460, train_label_loss: 0.4915, \n"
     ]
    },
    {
     "name": "stdout",
     "output_type": "stream",
     "text": [
      "epoch: 5, [batch: 2688 / 6720], examples_per_second: 3654.4003, train_label_loss: 1.0511, \n"
     ]
    },
    {
     "name": "stdout",
     "output_type": "stream",
     "text": [
      "epoch: 5, [batch: 3360 / 6720], examples_per_second: 3631.1065, train_label_loss: 0.5243, \n"
     ]
    },
    {
     "name": "stdout",
     "output_type": "stream",
     "text": [
      "epoch: 5, [batch: 4032 / 6720], examples_per_second: 3623.9029, train_label_loss: 0.8557, \n"
     ]
    },
    {
     "name": "stdout",
     "output_type": "stream",
     "text": [
      "epoch: 5, [batch: 4704 / 6720], examples_per_second: 3602.3330, train_label_loss: 0.5882, \n"
     ]
    },
    {
     "name": "stdout",
     "output_type": "stream",
     "text": [
      "epoch: 5, [batch: 5376 / 6720], examples_per_second: 3646.6709, train_label_loss: 0.6302, \n"
     ]
    },
    {
     "name": "stdout",
     "output_type": "stream",
     "text": [
      "epoch: 5, [batch: 6048 / 6720], examples_per_second: 3655.5247, train_label_loss: 0.2418, \n"
     ]
    },
    {
     "name": "stdout",
     "output_type": "stream",
     "text": [
      "=============================================================\n",
      "epoch: 5, source_val_acc_label: 0.7663, target_val_acc_label: 0.5642, source_val_label_loss: 0.6580, target_val_label_loss: 318.8409, \n",
      "=============================================================\n"
     ]
    },
    {
     "name": "stdout",
     "output_type": "stream",
     "text": [
      "epoch: 6, [batch: 1 / 6720], examples_per_second: 6.0002, train_label_loss: 0.4176, \n"
     ]
    },
    {
     "name": "stdout",
     "output_type": "stream",
     "text": [
      "epoch: 6, [batch: 672 / 6720], examples_per_second: 3642.7231, train_label_loss: 0.4714, \n"
     ]
    },
    {
     "name": "stdout",
     "output_type": "stream",
     "text": [
      "epoch: 6, [batch: 1344 / 6720], examples_per_second: 3669.9013, train_label_loss: 1.0227, \n"
     ]
    },
    {
     "name": "stdout",
     "output_type": "stream",
     "text": [
      "epoch: 6, [batch: 2016 / 6720], examples_per_second: 3662.9804, train_label_loss: 1.2576, \n"
     ]
    },
    {
     "name": "stdout",
     "output_type": "stream",
     "text": [
      "epoch: 6, [batch: 2688 / 6720], examples_per_second: 3651.1131, train_label_loss: 0.3124, \n"
     ]
    },
    {
     "name": "stdout",
     "output_type": "stream",
     "text": [
      "epoch: 6, [batch: 3360 / 6720], examples_per_second: 3671.1415, train_label_loss: 0.2303, \n"
     ]
    },
    {
     "name": "stdout",
     "output_type": "stream",
     "text": [
      "epoch: 6, [batch: 4032 / 6720], examples_per_second: 3651.6399, train_label_loss: 0.6940, \n"
     ]
    },
    {
     "name": "stdout",
     "output_type": "stream",
     "text": [
      "epoch: 6, [batch: 4704 / 6720], examples_per_second: 3626.1803, train_label_loss: 0.6850, \n"
     ]
    },
    {
     "name": "stdout",
     "output_type": "stream",
     "text": [
      "epoch: 6, [batch: 5376 / 6720], examples_per_second: 3636.3165, train_label_loss: 1.1394, \n"
     ]
    },
    {
     "name": "stdout",
     "output_type": "stream",
     "text": [
      "epoch: 6, [batch: 6048 / 6720], examples_per_second: 3662.1388, train_label_loss: 1.0047, \n"
     ]
    },
    {
     "name": "stdout",
     "output_type": "stream",
     "text": [
      "=============================================================\n",
      "epoch: 6, source_val_acc_label: 0.8136, target_val_acc_label: 0.5770, source_val_label_loss: 0.5417, target_val_label_loss: 504.6140, \n",
      "=============================================================\n"
     ]
    },
    {
     "name": "stdout",
     "output_type": "stream",
     "text": [
      "epoch: 7, [batch: 1 / 6720], examples_per_second: 6.0329, train_label_loss: 0.5185, \n"
     ]
    },
    {
     "name": "stdout",
     "output_type": "stream",
     "text": [
      "epoch: 7, [batch: 672 / 6720], examples_per_second: 3595.9597, train_label_loss: 0.8906, \n"
     ]
    },
    {
     "name": "stdout",
     "output_type": "stream",
     "text": [
      "epoch: 7, [batch: 1344 / 6720], examples_per_second: 3628.6682, train_label_loss: 0.3366, \n"
     ]
    },
    {
     "name": "stdout",
     "output_type": "stream",
     "text": [
      "epoch: 7, [batch: 2016 / 6720], examples_per_second: 3651.5336, train_label_loss: 0.4402, \n"
     ]
    },
    {
     "name": "stdout",
     "output_type": "stream",
     "text": [
      "epoch: 7, [batch: 2688 / 6720], examples_per_second: 3641.6250, train_label_loss: 0.2511, \n"
     ]
    },
    {
     "name": "stdout",
     "output_type": "stream",
     "text": [
      "epoch: 7, [batch: 3360 / 6720], examples_per_second: 3655.5493, train_label_loss: 0.3129, \n"
     ]
    },
    {
     "name": "stdout",
     "output_type": "stream",
     "text": [
      "epoch: 7, [batch: 4032 / 6720], examples_per_second: 3652.0385, train_label_loss: 0.4313, \n"
     ]
    },
    {
     "name": "stdout",
     "output_type": "stream",
     "text": [
      "epoch: 7, [batch: 4704 / 6720], examples_per_second: 3638.8186, train_label_loss: 1.3578, \n"
     ]
    },
    {
     "name": "stdout",
     "output_type": "stream",
     "text": [
      "epoch: 7, [batch: 5376 / 6720], examples_per_second: 3662.9740, train_label_loss: 0.7000, \n"
     ]
    },
    {
     "name": "stdout",
     "output_type": "stream",
     "text": [
      "epoch: 7, [batch: 6048 / 6720], examples_per_second: 3654.9342, train_label_loss: 0.6195, \n"
     ]
    },
    {
     "name": "stdout",
     "output_type": "stream",
     "text": [
      "=============================================================\n",
      "epoch: 7, source_val_acc_label: 0.8021, target_val_acc_label: 0.5614, source_val_label_loss: 0.5630, target_val_label_loss: 1177.2695, \n",
      "=============================================================\n"
     ]
    },
    {
     "name": "stdout",
     "output_type": "stream",
     "text": [
      "epoch: 8, [batch: 1 / 6720], examples_per_second: 5.9796, train_label_loss: 0.4250, \n"
     ]
    },
    {
     "name": "stdout",
     "output_type": "stream",
     "text": [
      "epoch: 8, [batch: 672 / 6720], examples_per_second: 3618.1362, train_label_loss: 0.4591, \n"
     ]
    },
    {
     "name": "stdout",
     "output_type": "stream",
     "text": [
      "epoch: 8, [batch: 1344 / 6720], examples_per_second: 3622.2752, train_label_loss: 0.2648, \n"
     ]
    },
    {
     "name": "stdout",
     "output_type": "stream",
     "text": [
      "epoch: 8, [batch: 2016 / 6720], examples_per_second: 3632.1077, train_label_loss: 0.3229, \n"
     ]
    },
    {
     "name": "stdout",
     "output_type": "stream",
     "text": [
      "epoch: 8, [batch: 2688 / 6720], examples_per_second: 3651.7231, train_label_loss: 0.3460, \n"
     ]
    },
    {
     "name": "stdout",
     "output_type": "stream",
     "text": [
      "epoch: 8, [batch: 3360 / 6720], examples_per_second: 3663.4449, train_label_loss: 0.3920, \n"
     ]
    },
    {
     "name": "stdout",
     "output_type": "stream",
     "text": [
      "epoch: 8, [batch: 4032 / 6720], examples_per_second: 3653.8143, train_label_loss: 0.2701, \n"
     ]
    },
    {
     "name": "stdout",
     "output_type": "stream",
     "text": [
      "epoch: 8, [batch: 4704 / 6720], examples_per_second: 3644.1179, train_label_loss: 0.3994, \n"
     ]
    },
    {
     "name": "stdout",
     "output_type": "stream",
     "text": [
      "epoch: 8, [batch: 5376 / 6720], examples_per_second: 3666.6560, train_label_loss: 0.1836, \n"
     ]
    },
    {
     "name": "stdout",
     "output_type": "stream",
     "text": [
      "epoch: 8, [batch: 6048 / 6720], examples_per_second: 3654.4096, train_label_loss: 0.2649, \n"
     ]
    },
    {
     "name": "stdout",
     "output_type": "stream",
     "text": [
      "=============================================================\n",
      "epoch: 8, source_val_acc_label: 0.7826, target_val_acc_label: 0.5126, source_val_label_loss: 0.6073, target_val_label_loss: 2379.0249, \n",
      "=============================================================\n"
     ]
    },
    {
     "name": "stdout",
     "output_type": "stream",
     "text": [
      "Patience (3) exhausted\n"
     ]
    }
   ],
   "source": [
    "###################################\n",
    "# train\n",
    "###################################\n",
    "jig = PTN_Train_Eval_Test_Jig(model, p.BEST_MODEL_PATH, p.device)\n",
    "\n",
    "jig.train(\n",
    "    train_iterable=datasets.source.processed.train,\n",
    "    source_val_iterable=datasets.source.processed.val,\n",
    "    target_val_iterable=datasets.target.processed.val,\n",
    "    num_epochs=p.n_epoch,\n",
    "    num_logs_per_epoch=p.NUM_LOGS_PER_EPOCH,\n",
    "    patience=p.patience,\n",
    "    optimizer=optimizer,\n",
    "    criteria_for_best=p.criteria_for_best,\n",
    ")"
   ]
  },
  {
   "cell_type": "code",
   "execution_count": 23,
   "id": "31e8fabf",
   "metadata": {
    "execution": {
     "iopub.execute_input": "2022-03-18T17:21:00.388813Z",
     "iopub.status.busy": "2022-03-18T17:21:00.388567Z",
     "iopub.status.idle": "2022-03-18T17:21:00.405435Z",
     "shell.execute_reply": "2022-03-18T17:21:00.404993Z"
    },
    "papermill": {
     "duration": 0.050545,
     "end_time": "2022-03-18T17:21:00.405525",
     "exception": false,
     "start_time": "2022-03-18T17:21:00.354980",
     "status": "completed"
    },
    "tags": []
   },
   "outputs": [],
   "source": [
    "total_experiment_time_secs = time.time() - start_time_secs"
   ]
  },
  {
   "cell_type": "code",
   "execution_count": 24,
   "id": "87b9595b",
   "metadata": {
    "execution": {
     "iopub.execute_input": "2022-03-18T17:21:00.477141Z",
     "iopub.status.busy": "2022-03-18T17:21:00.476875Z",
     "iopub.status.idle": "2022-03-18T17:22:03.472593Z",
     "shell.execute_reply": "2022-03-18T17:22:03.472984Z"
    },
    "papermill": {
     "duration": 63.032074,
     "end_time": "2022-03-18T17:22:03.473116",
     "exception": false,
     "start_time": "2022-03-18T17:21:00.441042",
     "status": "completed"
    },
    "tags": []
   },
   "outputs": [],
   "source": [
    "###################################\n",
    "# Evaluate the model\n",
    "###################################\n",
    "source_test_label_accuracy, source_test_label_loss = jig.test(datasets.source.processed.test)\n",
    "target_test_label_accuracy, target_test_label_loss = jig.test(datasets.target.processed.test)\n",
    "\n",
    "source_val_label_accuracy, source_val_label_loss = jig.test(datasets.source.processed.val)\n",
    "target_val_label_accuracy, target_val_label_loss = jig.test(datasets.target.processed.val)\n",
    "\n",
    "history = jig.get_history()\n",
    "\n",
    "total_epochs_trained = len(history[\"epoch_indices\"])\n",
    "\n",
    "val_dl = Iterable_Aggregator((datasets.source.original.val,datasets.target.original.val))\n",
    "\n",
    "confusion = ptn_confusion_by_domain_over_dataloader(model, p.device, val_dl)\n",
    "per_domain_accuracy = per_domain_accuracy_from_confusion(confusion)\n",
    "\n",
    "# Add a key to per_domain_accuracy for if it was a source domain\n",
    "for domain, accuracy in per_domain_accuracy.items():\n",
    "    per_domain_accuracy[domain] = {\n",
    "        \"accuracy\": accuracy,\n",
    "        \"source?\": domain in p.domains_source\n",
    "    }\n",
    "\n",
    "# Do an independent accuracy assesment JUST TO BE SURE!\n",
    "# _source_test_label_accuracy = independent_accuracy_assesment(model, datasets.source.processed.test, p.device)\n",
    "# _target_test_label_accuracy = independent_accuracy_assesment(model, datasets.target.processed.test, p.device)\n",
    "# _source_val_label_accuracy = independent_accuracy_assesment(model, datasets.source.processed.val, p.device)\n",
    "# _target_val_label_accuracy = independent_accuracy_assesment(model, datasets.target.processed.val, p.device)\n",
    "\n",
    "# assert(_source_test_label_accuracy == source_test_label_accuracy)\n",
    "# assert(_target_test_label_accuracy == target_test_label_accuracy)\n",
    "# assert(_source_val_label_accuracy == source_val_label_accuracy)\n",
    "# assert(_target_val_label_accuracy == target_val_label_accuracy)\n",
    "\n",
    "experiment = {\n",
    "    \"experiment_name\": p.experiment_name,\n",
    "    \"parameters\": dict(p),\n",
    "    \"results\": {\n",
    "        \"source_test_label_accuracy\": source_test_label_accuracy,\n",
    "        \"source_test_label_loss\": source_test_label_loss,\n",
    "        \"target_test_label_accuracy\": target_test_label_accuracy,\n",
    "        \"target_test_label_loss\": target_test_label_loss,\n",
    "        \"source_val_label_accuracy\": source_val_label_accuracy,\n",
    "        \"source_val_label_loss\": source_val_label_loss,\n",
    "        \"target_val_label_accuracy\": target_val_label_accuracy,\n",
    "        \"target_val_label_loss\": target_val_label_loss,\n",
    "        \"total_epochs_trained\": total_epochs_trained,\n",
    "        \"total_experiment_time_secs\": total_experiment_time_secs,\n",
    "        \"confusion\": confusion,\n",
    "        \"per_domain_accuracy\": per_domain_accuracy,\n",
    "    },\n",
    "    \"history\": history,\n",
    "    \"dataset_metrics\": get_dataset_metrics(datasets, \"ptn\"),\n",
    "}"
   ]
  },
  {
   "cell_type": "code",
   "execution_count": 25,
   "id": "54a21829",
   "metadata": {
    "execution": {
     "iopub.execute_input": "2022-03-18T17:22:03.542789Z",
     "iopub.status.busy": "2022-03-18T17:22:03.542416Z",
     "iopub.status.idle": "2022-03-18T17:22:03.665787Z",
     "shell.execute_reply": "2022-03-18T17:22:03.666192Z"
    },
    "papermill": {
     "duration": 0.157378,
     "end_time": "2022-03-18T17:22:03.666323",
     "exception": false,
     "start_time": "2022-03-18T17:22:03.508945",
     "status": "completed"
    },
    "tags": []
   },
   "outputs": [
    {
     "data": {
      "image/png": "[encoded data removed]",
      "text/plain": [
       "<Figure size 1080x504 with 1 Axes>"
      ]
     },
     "metadata": {
      "needs_background": "light"
     },
     "output_type": "display_data"
    }
   ],
   "source": [
    "ax = get_loss_curve(experiment)\n",
    "plt.show()"
   ]
  },
  {
   "cell_type": "code",
   "execution_count": 26,
   "id": "fd8a0f60",
   "metadata": {
    "execution": {
     "iopub.execute_input": "2022-03-18T17:22:03.740027Z",
     "iopub.status.busy": "2022-03-18T17:22:03.739778Z",
     "iopub.status.idle": "2022-03-18T17:22:03.882779Z",
     "shell.execute_reply": "2022-03-18T17:22:03.882469Z"
    },
    "papermill": {
     "duration": 0.178101,
     "end_time": "2022-03-18T17:22:03.882859",
     "exception": false,
     "start_time": "2022-03-18T17:22:03.704758",
     "status": "completed"
    },
    "tags": []
   },
   "outputs": [
    {
     "data": {
      "text/plain": [
       "<AxesSubplot:title={'center':'Results'}>"
      ]
     },
     "execution_count": 26,
     "metadata": {},
     "output_type": "execute_result"
    },
    {
     "data": {
      "image/png": "[encoded data removed]",
      "text/plain": [
       "<Figure size 1080x504 with 1 Axes>"
      ]
     },
     "metadata": {
      "needs_background": "light"
     },
     "output_type": "display_data"
    }
   ],
   "source": [
    "get_results_table(experiment)"
   ]
  },
  {
   "cell_type": "code",
   "execution_count": 27,
   "id": "cf8dc689",
   "metadata": {
    "execution": {
     "iopub.execute_input": "2022-03-18T17:22:03.955768Z",
     "iopub.status.busy": "2022-03-18T17:22:03.955429Z",
     "iopub.status.idle": "2022-03-18T17:22:04.115557Z",
     "shell.execute_reply": "2022-03-18T17:22:04.115101Z"
    },
    "papermill": {
     "duration": 0.195542,
     "end_time": "2022-03-18T17:22:04.115666",
     "exception": false,
     "start_time": "2022-03-18T17:22:03.920124",
     "status": "completed"
    },
    "tags": []
   },
   "outputs": [
    {
     "data": {
      "text/plain": [
       "<AxesSubplot:title={'center':'Per Domain Validation Accuracy'}, xlabel='domain'>"
      ]
     },
     "execution_count": 27,
     "metadata": {},
     "output_type": "execute_result"
    },
    {
     "data": {
      "image/png": "[encoded data removed]",
      "text/plain": [
       "<Figure size 1080x504 with 1 Axes>"
      ]
     },
     "metadata": {
      "needs_background": "light"
     },
     "output_type": "display_data"
    }
   ],
   "source": [
    "get_domain_accuracies(experiment)"
   ]
  },
  {
   "cell_type": "code",
   "execution_count": 28,
   "id": "a74ae082",
   "metadata": {
    "execution": {
     "iopub.execute_input": "2022-03-18T17:22:04.192044Z",
     "iopub.status.busy": "2022-03-18T17:22:04.191776Z",
     "iopub.status.idle": "2022-03-18T17:22:04.206315Z",
     "shell.execute_reply": "2022-03-18T17:22:04.205945Z"
    },
    "papermill": {
     "duration": 0.051347,
     "end_time": "2022-03-18T17:22:04.206395",
     "exception": false,
     "start_time": "2022-03-18T17:22:04.155048",
     "status": "completed"
    },
    "tags": []
   },
   "outputs": [
    {
     "name": "stdout",
     "output_type": "stream",
     "text": [
      "Source Test Label Accuracy: 0.7423828125 Target Test Label Accuracy: 0.6076030927835051\n",
      "Source Val Label Accuracy: 0.7401692708333333 Target Val Label Accuracy: 0.6103951890034365\n"
     ]
    }
   ],
   "source": [
    "print(\"Source Test Label Accuracy:\", experiment[\"results\"][\"source_test_label_accuracy\"], \"Target Test Label Accuracy:\", experiment[\"results\"][\"target_test_label_accuracy\"])\n",
    "print(\"Source Val Label Accuracy:\", experiment[\"results\"][\"source_val_label_accuracy\"], \"Target Val Label Accuracy:\", experiment[\"results\"][\"target_val_label_accuracy\"])"
   ]
  },
  {
   "cell_type": "code",
   "execution_count": 29,
   "id": "dacca602",
   "metadata": {
    "execution": {
     "iopub.execute_input": "2022-03-18T17:22:04.282366Z",
     "iopub.status.busy": "2022-03-18T17:22:04.282109Z",
     "iopub.status.idle": "2022-03-18T17:22:04.302039Z",
     "shell.execute_reply": "2022-03-18T17:22:04.302436Z"
    },
    "papermill": {
     "duration": 0.056939,
     "end_time": "2022-03-18T17:22:04.302564",
     "exception": false,
     "start_time": "2022-03-18T17:22:04.245625",
     "status": "completed"
    },
    "tags": [
     "experiment_json"
    ]
   },
   "outputs": [
    {
     "data": {
      "text/plain": [
       "'{\"experiment_name\": \"tl_3A:oracle.run1.framed -> cores+wisig\", \"parameters\": {\"experiment_name\": \"tl_3A:oracle.run1.framed -> cores+wisig\", \"device\": \"cuda\", \"lr\": 0.001, \"seed\": 420, \"dataset_seed\": 420, \"x_shape\": [2, 200], \"n_shot\": 3, \"n_query\": 2, \"train_k_factor\": 3, \"val_k_factor\": 2, \"test_k_factor\": 2, \"torch_default_dtype\": \"torch.float32\", \"n_epoch\": 50, \"patience\": 3, \"criteria_for_best\": \"target_loss\", \"x_net\": [{\"class\": \"nnReshape\", \"kargs\": {\"shape\": [-1, 1, 2, 200]}}, {\"class\": \"Conv2d\", \"kargs\": {\"in_channels\": 1, \"out_channels\": 256, \"kernel_size\": [1, 7], \"bias\": false, \"padding\": [0, 3]}}, {\"class\": \"ReLU\", \"kargs\": {\"inplace\": true}}, {\"class\": \"BatchNorm2d\", \"kargs\": {\"num_features\": 256}}, {\"class\": \"Conv2d\", \"kargs\": {\"in_channels\": 256, \"out_channels\": 80, \"kernel_size\": [2, 7], \"bias\": true, \"padding\": [0, 3]}}, {\"class\": \"ReLU\", \"kargs\": {\"inplace\": true}}, {\"class\": \"BatchNorm2d\", \"kargs\": {\"num_features\": 80}}, {\"class\": \"Flatten\", \"kargs\": {}}, {\"class\": \"Linear\", \"kargs\": {\"in_features\": 16000, \"out_features\": 256}}, {\"class\": \"ReLU\", \"kargs\": {\"inplace\": true}}, {\"class\": \"BatchNorm1d\", \"kargs\": {\"num_features\": 256}}, {\"class\": \"Linear\", \"kargs\": {\"in_features\": 256, \"out_features\": 256}}], \"NUM_LOGS_PER_EPOCH\": 10, \"BEST_MODEL_PATH\": \"./best_model.pth\", \"n_way\": 16, \"datasets\": [{\"labels\": [\"1-10.\", \"1-11.\", \"1-15.\", \"1-16.\", \"1-17.\", \"1-18.\", \"1-19.\", \"10-4.\", \"10-7.\", \"11-1.\", \"11-14.\", \"11-17.\", \"11-20.\", \"11-7.\", \"13-20.\", \"13-8.\", \"14-10.\", \"14-11.\", \"14-14.\", \"14-7.\", \"15-1.\", \"15-20.\", \"16-1.\", \"16-16.\", \"17-10.\", \"17-11.\", \"17-2.\", \"19-1.\", \"19-16.\", \"19-19.\", \"19-20.\", \"19-3.\", \"2-10.\", \"2-11.\", \"2-17.\", \"2-18.\", \"2-20.\", \"2-3.\", \"2-4.\", \"2-5.\", \"2-6.\", \"2-7.\", \"2-8.\", \"3-13.\", \"3-18.\", \"3-3.\", \"4-1.\", \"4-10.\", \"4-11.\", \"4-19.\", \"5-5.\", \"6-15.\", \"7-10.\", \"7-14.\", \"8-18.\", \"8-20.\", \"8-3.\", \"8-8.\"], \"domains\": [1, 2, 3, 4, 5], \"num_examples_per_domain_per_label\": 100, \"pickle_path\": \"/mnt/wd500GB/CSC500/csc500-main/datasets/cores.stratified_ds.2022A.pkl\", \"source_or_target_dataset\": \"target\", \"x_transforms\": [\"unit_mag\", \"take_200\"], \"episode_transforms\": [], \"domain_prefix\": \"C_A_\"}, {\"labels\": [\"1-10\", \"1-12\", \"1-14\", \"1-16\", \"1-18\", \"1-19\", \"1-8\", \"10-11\", \"10-17\", \"10-4\", \"10-7\", \"11-1\", \"11-10\", \"11-19\", \"11-20\", \"11-4\", \"11-7\", \"12-19\", \"12-20\", \"12-7\", \"13-14\", \"13-18\", \"13-19\", \"13-20\", \"13-3\", \"13-7\", \"14-10\", \"14-11\", \"14-12\", \"14-13\", \"14-14\", \"14-19\", \"14-20\", \"14-7\", \"14-8\", \"14-9\", \"15-1\", \"15-19\", \"15-6\", \"16-1\", \"16-16\", \"16-19\", \"16-20\", \"17-10\", \"17-11\", \"18-1\", \"18-10\", \"18-11\", \"18-12\", \"18-13\", \"18-14\", \"18-15\", \"18-16\", \"18-17\", \"18-19\", \"18-2\", \"18-20\", \"18-4\", \"18-5\", \"18-7\", \"18-8\", \"18-9\", \"19-1\", \"19-10\", \"19-11\", \"19-12\", \"19-13\", \"19-14\", \"19-15\", \"19-19\", \"19-2\", \"19-20\", \"19-3\", \"19-4\", \"19-6\", \"19-7\", \"19-8\", \"19-9\", \"2-1\", \"2-13\", \"2-15\", \"2-3\", \"2-4\", \"2-5\", \"2-6\", \"2-7\", \"2-8\", \"20-1\", \"20-12\", \"20-14\", \"20-15\", \"20-16\", \"20-18\", \"20-19\", \"20-20\", \"20-3\", \"20-4\", \"20-5\", \"20-7\", \"20-8\", \"3-1\", \"3-13\", \"3-18\", \"3-2\", \"3-8\", \"4-1\", \"4-10\", \"4-11\", \"5-1\", \"5-5\", \"6-1\", \"6-15\", \"6-6\", \"7-10\", \"7-11\", \"7-12\", \"7-13\", \"7-14\", \"7-7\", \"7-8\", \"7-9\", \"8-1\", \"8-13\", \"8-14\", \"8-18\", \"8-20\", \"8-3\", \"8-8\", \"9-1\", \"9-7\"], \"domains\": [1, 2, 3, 4], \"num_examples_per_domain_per_label\": 100, \"pickle_path\": \"/mnt/wd500GB/CSC500/csc500-main/datasets/wisig.node3-19.stratified_ds.2022A.pkl\", \"source_or_target_dataset\": \"target\", \"x_transforms\": [\"unit_mag\", \"take_200\"], \"episode_transforms\": [], \"domain_prefix\": \"W_A_\"}, {\"labels\": [\"3123D52\", \"3123D65\", \"3123D79\", \"3123D80\", \"3123D54\", \"3123D70\", \"3123D7B\", \"3123D89\", \"3123D58\", \"3123D76\", \"3123D7D\", \"3123EFE\", \"3123D64\", \"3123D78\", \"3123D7E\", \"3124E4A\"], \"domains\": [32, 38, 8, 44, 14, 50, 20, 26], \"num_examples_per_domain_per_label\": 2000, \"pickle_path\": \"/mnt/wd500GB/CSC500/csc500-main/datasets/oracle.Run1_framed_2000Examples_stratified_ds.2022A.pkl\", \"source_or_target_dataset\": \"source\", \"x_transforms\": [\"unit_mag\", \"take_200\", \"resample_20Msps_to_25Msps\"], \"episode_transforms\": [], \"domain_prefix\": \"ORACLE.run1_\"}], \"domains_source\": [\"ORACLE.run1_32\", \"ORACLE.run1_38\", \"ORACLE.run1_8\", \"ORACLE.run1_44\", \"ORACLE.run1_14\", \"ORACLE.run1_50\", \"ORACLE.run1_20\", \"ORACLE.run1_26\"], \"domains_target\": [\"C_A_1\", \"C_A_2\", \"C_A_3\", \"C_A_4\", \"C_A_5\", \"W_A_1\", \"W_A_2\", \"W_A_3\", \"W_A_4\"]}, \"results\": {\"source_test_label_accuracy\": 0.7423828125, \"source_test_label_loss\": 0.7236615419387817, \"target_test_label_accuracy\": 0.6076030927835051, \"target_test_label_loss\": 26.559064865112305, \"source_val_label_accuracy\": 0.7401692708333333, \"source_val_label_loss\": 0.7251019477844238, \"target_val_label_accuracy\": 0.6103951890034365, \"target_val_label_loss\": 23.452394485473633, \"total_epochs_trained\": 8, \"total_experiment_time_secs\": 1316.682481765747, \"confusion\": {\"ORACLE.run1_14\": {\"15\": {\"15\": 239, \"7\": 1}, \"5\": {\"5\": 143, \"4\": 61, \"1\": 28, \"2\": 5, \"3\": 3}, \"7\": {\"7\": 240}, \"4\": {\"4\": 197, \"5\": 34, \"2\": 1, \"1\": 7, \"3\": 1}, \"10\": {\"10\": 228, \"0\": 11, \"14\": 1}, \"11\": {\"11\": 222, \"9\": 8, \"0\": 10}, \"12\": {\"12\": 239, \"9\": 1}, \"0\": {\"0\": 215, \"10\": 11, \"3\": 7, \"11\": 5, \"8\": 2}, \"14\": {\"14\": 185, \"13\": 25, \"2\": 19, \"6\": 6, \"3\": 5}, \"8\": {\"8\": 240}, \"13\": {\"6\": 67, \"2\": 25, \"13\": 85, \"14\": 52, \"4\": 4, \"10\": 2, \"5\": 4, \"3\": 1}, \"6\": {\"2\": 14, \"6\": 143, \"13\": 71, \"14\": 12}, \"1\": {\"5\": 29, \"1\": 203, \"4\": 8}, \"3\": {\"3\": 220, \"2\": 3, \"14\": 6, \"4\": 10, \"0\": 1}, \"9\": {\"9\": 239, \"11\": 1}, \"2\": {\"2\": 116, \"13\": 20, \"6\": 14, \"4\": 10, \"5\": 22, \"3\": 19, \"15\": 5, \"14\": 34}}, \"ORACLE.run1_20\": {\"4\": {\"4\": 195, \"8\": 29, \"3\": 7, \"10\": 3, \"12\": 2, \"5\": 4}, \"10\": {\"10\": 226, \"4\": 3, \"14\": 9, \"6\": 2}, \"15\": {\"15\": 145, \"13\": 8, \"0\": 45, \"5\": 15, \"1\": 26, \"3\": 1}, \"0\": {\"8\": 1, \"0\": 108, \"15\": 48, \"5\": 70, \"1\": 6, \"13\": 2, \"12\": 5}, \"6\": {\"6\": 209, \"14\": 29, \"8\": 2}, \"3\": {\"12\": 48, \"9\": 38, \"10\": 1, \"3\": 115, \"8\": 2, \"7\": 7, \"2\": 12, \"4\": 10, \"1\": 3, \"5\": 4}, \"7\": {\"7\": 175, \"2\": 36, \"8\": 8, \"9\": 9, \"3\": 9, \"12\": 1, \"4\": 1, \"14\": 1}, \"2\": {\"7\": 33, \"2\": 108, \"3\": 20, \"13\": 14, \"9\": 47, \"1\": 4, \"12\": 13, \"8\": 1}, \"8\": {\"8\": 195, \"7\": 18, \"4\": 22, \"14\": 3, \"0\": 1, \"10\": 1}, \"11\": {\"11\": 240}, \"14\": {\"14\": 196, \"10\": 16, \"6\": 25, \"8\": 3}, \"12\": {\"12\": 123, \"3\": 43, \"5\": 17, \"15\": 2, \"1\": 31, \"9\": 17, \"13\": 1, \"2\": 6}, \"13\": {\"13\": 210, \"2\": 18, \"7\": 4, \"9\": 3, \"15\": 5}, \"9\": {\"9\": 114, \"2\": 66, \"12\": 19, \"7\": 4, \"3\": 30, \"13\": 5, \"1\": 2}, \"5\": {\"0\": 42, \"5\": 140, \"1\": 27, \"15\": 13, \"12\": 10, \"3\": 6, \"4\": 2}, \"1\": {\"1\": 142, \"5\": 17, \"15\": 23, \"12\": 42, \"3\": 7, \"0\": 6, \"13\": 1, \"9\": 2}}, \"ORACLE.run1_50\": {\"5\": {\"5\": 113, \"7\": 43, \"13\": 34, \"4\": 35, \"6\": 4, \"1\": 10, \"0\": 1}, \"12\": {\"12\": 216, \"11\": 12, \"9\": 10, \"14\": 2}, \"14\": {\"14\": 236, \"12\": 3, \"11\": 1}, \"4\": {\"4\": 117, \"7\": 6, \"15\": 41, \"1\": 37, \"5\": 27, \"13\": 4, \"6\": 8}, \"13\": {\"10\": 10, \"13\": 139, \"5\": 21, \"6\": 22, \"1\": 1, \"7\": 43, \"0\": 3, \"4\": 1}, \"10\": {\"10\": 222, \"7\": 5, \"13\": 2, \"0\": 8, \"8\": 3}, \"9\": {\"9\": 211, \"12\": 18, \"11\": 11}, \"15\": {\"15\": 168, \"1\": 50, \"6\": 2, \"4\": 11, \"11\": 8, \"14\": 1}, \"6\": {\"6\": 189, \"1\": 12, \"13\": 17, \"5\": 5, \"4\": 10, \"2\": 2, \"15\": 5}, \"2\": {\"2\": 218, \"0\": 22}, \"0\": {\"0\": 195, \"10\": 20, \"2\": 25}, \"11\": {\"11\": 201, \"9\": 11, \"12\": 9, \"15\": 12, \"14\": 4, \"1\": 3}, \"3\": {\"3\": 235, \"8\": 5}, \"8\": {\"8\": 230, \"3\": 4, \"10\": 6}, \"7\": {\"7\": 180, \"13\": 34, \"10\": 6, \"6\": 1, \"5\": 19}, \"1\": {\"1\": 166, \"15\": 45, \"11\": 2, \"6\": 8, \"4\": 15, \"5\": 2, \"13\": 1, \"14\": 1}}, \"ORACLE.run1_26\": {\"7\": {\"7\": 149, \"2\": 20, \"4\": 20, \"3\": 24, \"8\": 9, \"15\": 6, \"5\": 3, \"14\": 3, \"9\": 2, \"1\": 2, \"0\": 2}, \"6\": {\"6\": 189, \"10\": 15, \"15\": 13, \"9\": 13, \"0\": 5, \"13\": 2, \"8\": 3}, \"14\": {\"14\": 93, \"0\": 29, \"8\": 11, \"10\": 21, \"4\": 55, \"1\": 30, \"15\": 1}, \"15\": {\"15\": 96, \"9\": 87, \"13\": 11, \"5\": 10, \"6\": 8, \"8\": 10, \"7\": 5, \"2\": 7, \"10\": 5, \"0\": 1}, \"5\": {\"5\": 179, \"2\": 24, \"13\": 14, \"15\": 13, \"3\": 2, \"9\": 5, \"8\": 2, \"7\": 1}, \"10\": {\"10\": 102, \"0\": 58, \"8\": 21, \"14\": 28, \"4\": 21, \"6\": 8, \"1\": 1, \"7\": 1}, \"4\": {\"1\": 12, \"4\": 101, \"8\": 20, \"0\": 31, \"14\": 52, \"10\": 16, \"7\": 8}, \"11\": {\"11\": 240}, \"13\": {\"13\": 172, \"5\": 41, \"2\": 8, \"15\": 9, \"9\": 9, \"3\": 1}, \"2\": {\"15\": 7, \"2\": 87, \"3\": 81, \"0\": 1, \"7\": 31, \"5\": 24, \"4\": 1, \"8\": 4, \"9\": 4}, \"0\": {\"0\": 81, \"8\": 15, \"10\": 68, \"14\": 33, \"6\": 4, \"4\": 32, \"7\": 3, \"1\": 2, \"15\": 1, \"9\": 1}, \"12\": {\"12\": 240}, \"3\": {\"2\": 55, \"3\": 162, \"7\": 23}, \"9\": {\"9\": 125, \"15\": 75, \"6\": 21, \"13\": 9, \"5\": 3, \"2\": 2, \"8\": 3, \"10\": 2}, \"8\": {\"7\": 17, \"10\": 42, \"4\": 30, \"8\": 88, \"0\": 35, \"15\": 13, \"14\": 5, \"6\": 1, \"9\": 5, \"2\": 2, \"1\": 1, \"5\": 1}, \"1\": {\"1\": 169, \"14\": 44, \"4\": 16, \"3\": 1, \"10\": 2, \"8\": 4, \"0\": 3, \"7\": 1}}, \"ORACLE.run1_32\": {\"7\": {\"7\": 151, \"13\": 14, \"5\": 26, \"0\": 1, \"14\": 13, \"2\": 6, \"11\": 12, \"4\": 17}, \"2\": {\"2\": 192, \"4\": 45, \"7\": 2, \"13\": 1}, \"5\": {\"3\": 22, \"5\": 81, \"0\": 10, \"7\": 35, \"4\": 10, \"8\": 13, \"13\": 59, \"14\": 2, \"11\": 7, \"2\": 1}, \"6\": {\"6\": 240}, \"13\": {\"13\": 122, \"3\": 16, \"5\": 45, \"8\": 7, \"0\": 4, \"7\": 27, \"4\": 15, \"11\": 3, \"14\": 1}, \"4\": {\"4\": 157, \"2\": 47, \"7\": 18, \"13\": 12, \"0\": 3, \"5\": 3}, \"3\": {\"3\": 220, \"13\": 9, \"8\": 1, \"5\": 6, \"11\": 3, \"14\": 1}, \"0\": {\"0\": 190, \"8\": 25, \"7\": 6, \"14\": 10, \"4\": 1, \"5\": 5, \"13\": 2, \"2\": 1}, \"9\": {\"9\": 236, \"12\": 4}, \"12\": {\"12\": 240}, \"8\": {\"8\": 165, \"0\": 25, \"14\": 6, \"5\": 29, \"13\": 13, \"7\": 1, \"3\": 1}, \"14\": {\"14\": 132, \"0\": 16, \"5\": 9, \"7\": 10, \"11\": 65, \"3\": 3, \"8\": 3, \"4\": 1, \"13\": 1}, \"15\": {\"15\": 238, \"8\": 2}, \"11\": {\"11\": 199, \"14\": 33, \"7\": 6, \"3\": 2}, \"10\": {\"10\": 240}, \"1\": {\"1\": 239, \"10\": 1}}, \"ORACLE.run1_44\": {\"11\": {\"11\": 222, \"6\": 4, \"13\": 13, \"9\": 1}, \"7\": {\"7\": 143, \"9\": 52, \"2\": 37, \"13\": 2, \"6\": 6}, \"6\": {\"6\": 167, \"7\": 14, \"13\": 33, \"9\": 26}, \"12\": {\"12\": 186, \"1\": 41, \"10\": 10, \"3\": 3}, \"4\": {\"14\": 87, \"4\": 150, \"15\": 3}, \"13\": {\"9\": 30, \"6\": 49, \"13\": 155, \"7\": 3, \"11\": 3}, \"8\": {\"8\": 151, \"0\": 80, \"15\": 4, \"5\": 5}, \"5\": {\"5\": 202, \"0\": 19, \"15\": 5, \"14\": 8, \"8\": 5, \"4\": 1}, \"14\": {\"15\": 19, \"4\": 85, \"14\": 135, \"5\": 1}, \"3\": {\"1\": 17, \"3\": 221, \"12\": 2}, \"10\": {\"10\": 180, \"1\": 20, \"2\": 23, \"12\": 17}, \"1\": {\"12\": 52, \"1\": 134, \"2\": 14, \"3\": 30, \"10\": 10}, \"2\": {\"10\": 9, \"2\": 188, \"1\": 14, \"7\": 27, \"3\": 2}, \"15\": {\"15\": 165, \"0\": 23, \"14\": 30, \"8\": 7, \"4\": 2, \"5\": 13}, \"9\": {\"9\": 122, \"2\": 4, \"6\": 34, \"13\": 26, \"7\": 53, \"3\": 1}, \"0\": {\"8\": 74, \"0\": 138, \"15\": 11, \"5\": 17}}, \"ORACLE.run1_8\": {\"10\": {\"10\": 165, \"14\": 52, \"13\": 18, \"4\": 3, \"5\": 2}, \"6\": {\"4\": 33, \"7\": 41, \"6\": 152, \"13\": 7, \"0\": 7}, \"13\": {\"4\": 40, \"14\": 18, \"6\": 13, \"13\": 84, \"0\": 47, \"10\": 36, \"7\": 2}, \"3\": {\"3\": 221, \"2\": 12, \"12\": 7}, \"9\": {\"9\": 240}, \"1\": {\"1\": 219, \"11\": 13, \"5\": 5, \"14\": 3}, \"5\": {\"5\": 225, \"10\": 5, \"1\": 10}, \"11\": {\"11\": 211, \"1\": 27, \"5\": 2}, \"4\": {\"4\": 126, \"6\": 26, \"13\": 49, \"0\": 7, \"14\": 27, \"10\": 5}, \"14\": {\"14\": 160, \"4\": 31, \"1\": 4, \"13\": 12, \"10\": 32, \"11\": 1}, \"12\": {\"15\": 72, \"12\": 130, \"3\": 32, \"8\": 5, \"2\": 1}, \"7\": {\"7\": 176, \"0\": 7, \"6\": 55, \"4\": 1, \"8\": 1}, \"0\": {\"0\": 158, \"7\": 21, \"13\": 38, \"14\": 5, \"4\": 9, \"10\": 3, \"6\": 6}, \"15\": {\"15\": 182, \"12\": 43, \"8\": 15}, \"2\": {\"2\": 213, \"3\": 17, \"15\": 5, \"12\": 1, \"7\": 4}, \"8\": {\"8\": 237, \"15\": 3}}, \"ORACLE.run1_38\": {\"4\": {\"4\": 232, \"12\": 6, \"10\": 2}, \"7\": {\"7\": 174, \"5\": 29, \"0\": 24, \"6\": 1, \"8\": 10, \"9\": 1, \"10\": 1}, \"12\": {\"12\": 239, \"4\": 1}, \"10\": {\"7\": 5, \"10\": 198, \"8\": 8, \"0\": 4, \"15\": 1, \"14\": 1, \"4\": 1, \"5\": 2, \"13\": 17, \"12\": 2, \"11\": 1}, \"0\": {\"0\": 106, \"8\": 64, \"3\": 10, \"7\": 38, \"5\": 11, \"6\": 2, \"4\": 2, \"13\": 2, \"10\": 3, \"12\": 1, \"9\": 1}, \"1\": {\"1\": 232, \"15\": 7, \"6\": 1}, \"5\": {\"0\": 9, \"7\": 30, \"13\": 3, \"15\": 2, \"5\": 113, \"3\": 2, \"8\": 48, \"1\": 5, \"6\": 23, \"9\": 4, \"10\": 1}, \"15\": {\"15\": 165, \"1\": 28, \"13\": 28, \"8\": 17, \"5\": 2}, \"9\": {\"9\": 185, \"6\": 51, \"3\": 3, \"5\": 1}, \"11\": {\"11\": 198, \"14\": 41, \"7\": 1}, \"14\": {\"14\": 212, \"2\": 16, \"11\": 6, \"13\": 1, \"10\": 4, \"12\": 1}, \"6\": {\"9\": 17, \"6\": 221, \"5\": 2}, \"8\": {\"7\": 15, \"0\": 33, \"8\": 157, \"5\": 23, \"13\": 3, \"15\": 6, \"1\": 1, \"10\": 2}, \"3\": {\"3\": 216, \"6\": 3, \"7\": 8, \"0\": 4, \"9\": 4, \"13\": 2, \"10\": 1, \"5\": 2}, \"2\": {\"2\": 221, \"13\": 8, \"14\": 11}, \"13\": {\"15\": 36, \"10\": 21, \"13\": 165, \"2\": 9, \"0\": 1, \"8\": 2, \"1\": 4, \"5\": 2}}, \"C_A_4\": {\"42\": {\"42\": 12}, \"0\": {\"0\": 10}, \"1\": {\"1\": 10, \"39\": 1, \"52\": 1}, \"39\": {\"39\": 12}, \"28\": {\"28\": 7, \"4\": 2, \"48\": 1}, \"53\": {\"53\": 12}, \"19\": {\"19\": 9, \"44\": 2, \"33\": 1}, \"34\": {\"34\": 12}, \"33\": {\"33\": 12}, \"32\": {\"32\": 11, \"46\": 1}, \"10\": {\"10\": 12}, \"46\": {\"46\": 7, \"32\": 1, \"0\": 2, \"15\": 1, \"57\": 1}, \"20\": {\"20\": 8}, \"5\": {\"46\": 1, \"34\": 1, \"47\": 3, \"3\": 1, \"5\": 3, \"36\": 1}, \"40\": {\"19\": 2, \"40\": 8, \"12\": 1, \"26\": 1}, \"51\": {\"51\": 12}, \"37\": {\"37\": 12}, \"17\": {\"17\": 11, \"28\": 1}, \"45\": {\"45\": 9, \"17\": 2, \"12\": 1}, \"13\": {\"13\": 11, \"2\": 1}, \"27\": {\"27\": 11, \"17\": 1}, \"24\": {\"24\": 8}, \"30\": {\"30\": 12}, \"31\": {\"31\": 9, \"55\": 1}, \"41\": {\"41\": 8, \"18\": 1, \"23\": 1}, \"36\": {\"36\": 11, \"53\": 1}, \"16\": {\"16\": 9, \"52\": 1}, \"22\": {\"22\": 12}, \"44\": {\"9\": 1, \"44\": 8, \"26\": 1, \"33\": 1, \"14\": 1}, \"9\": {\"9\": 9, \"36\": 1, \"8\": 1, \"26\": 1}, \"57\": {\"57\": 12}, \"8\": {\"8\": 8, \"21\": 1, \"30\": 1}, \"23\": {\"23\": 8, \"47\": 1, \"5\": 1}, \"47\": {\"47\": 10, \"23\": 2}, \"43\": {\"43\": 12}, \"49\": {\"7\": 1, \"49\": 10, \"5\": 1}, \"3\": {\"3\": 9, \"21\": 1, \"34\": 1, \"25\": 1}, \"12\": {\"12\": 11, \"50\": 1}, \"38\": {\"38\": 12}, \"7\": {\"7\": 8, \"1\": 3, \"57\": 1}, \"26\": {\"26\": 11, \"34\": 1}, \"29\": {\"29\": 8, \"14\": 2, \"34\": 1, \"35\": 1}, \"48\": {\"48\": 6, \"54\": 1, \"55\": 1, \"36\": 1, \"35\": 1}, \"56\": {\"56\": 6, \"2\": 2, \"15\": 1, \"1\": 1, \"10\": 1, \"49\": 1}, \"15\": {\"15\": 8, \"11\": 4}, \"50\": {\"33\": 1, \"50\": 5, \"8\": 2, \"12\": 1, \"51\": 1, \"9\": 1, \"53\": 1}, \"2\": {\"2\": 10}, \"55\": {\"55\": 8, \"26\": 2}, \"21\": {\"21\": 12}, \"52\": {\"52\": 12}, \"18\": {\"18\": 12}, \"14\": {\"38\": 4, \"14\": 3, \"11\": 2, \"22\": 2, \"46\": 1}, \"35\": {\"14\": 1, \"35\": 7}, \"4\": {\"4\": 7, \"17\": 1, \"40\": 1, \"28\": 1}, \"25\": {\"21\": 2, \"25\": 6}, \"11\": {\"11\": 5, \"15\": 1}, \"54\": {\"54\": 6}, \"6\": {\"3\": 2, \"6\": 6}}, \"W_A_3\": {\"110\": {\"110\": 5, \"1\": 1, \"46\": 3, \"114\": 1, \"28\": 1, \"29\": 1}, \"1\": {\"1\": 8, \"55\": 2}, \"2\": {\"117\": 1, \"89\": 1, \"2\": 4, \"67\": 1, \"13\": 1, \"45\": 2, \"122\": 1, \"79\": 1}, \"94\": {\"94\": 6, \"54\": 1, \"106\": 2, \"15\": 1, \"59\": 1, \"25\": 1}, \"64\": {\"64\": 8, \"23\": 2, \"121\": 1, \"120\": 1}, \"78\": {\"89\": 1, \"78\": 4, \"21\": 1, \"5\": 1, \"10\": 1, \"48\": 1, \"33\": 1, \"18\": 1, \"70\": 1}, \"47\": {\"47\": 8, \"49\": 1, \"7\": 1, \"41\": 1, \"52\": 1}, \"127\": {\"127\": 8, \"103\": 1, \"49\": 1, \"95\": 1, \"4\": 1}, \"89\": {\"89\": 4, \"81\": 2, \"18\": 2, \"45\": 1, \"41\": 1, \"78\": 1, \"93\": 1}, \"79\": {\"79\": 7, \"22\": 1, \"9\": 1, \"48\": 1, \"29\": 1, \"122\": 1}, \"22\": {\"47\": 1, \"22\": 5, \"29\": 2, \"56\": 2, \"92\": 1, \"33\": 1}, \"117\": {\"117\": 7, \"78\": 1, \"26\": 2, \"16\": 2}, \"49\": {\"49\": 2, \"110\": 1, \"127\": 1, \"78\": 1, \"90\": 1, \"28\": 1, \"3\": 1, \"122\": 1, \"44\": 1, \"72\": 1, \"7\": 1}, \"14\": {\"1\": 1, \"14\": 3, \"118\": 1, \"69\": 2, \"115\": 2, \"18\": 1, \"82\": 1, \"16\": 1}, \"103\": {\"103\": 12}, \"123\": {\"123\": 7, \"64\": 2, \"126\": 1, \"119\": 2}, \"80\": {\"63\": 1, \"80\": 9, \"92\": 1, \"123\": 1}, \"63\": {\"63\": 8, \"67\": 2, \"109\": 1, \"121\": 1}, \"27\": {\"27\": 7, \"97\": 3, \"24\": 1, \"54\": 1}, \"17\": {\"63\": 1, \"118\": 1, \"17\": 2, \"89\": 1, \"13\": 1, \"50\": 1, \"79\": 1, \"14\": 1, \"45\": 1, \"103\": 1, \"43\": 1}, \"105\": {\"87\": 1, \"40\": 1, \"105\": 8, \"71\": 1, \"46\": 1}, \"40\": {\"40\": 10, \"84\": 2}, \"93\": {\"14\": 1, \"80\": 1, \"93\": 5, \"43\": 1, \"16\": 1, \"13\": 1, \"67\": 2}, \"98\": {\"0\": 1, \"98\": 8, \"97\": 2, \"52\": 1}, \"10\": {\"98\": 1, \"93\": 1, \"77\": 1, \"10\": 4, \"68\": 2, \"78\": 1, \"85\": 1, \"40\": 1}, \"3\": {\"10\": 1, \"19\": 1, \"3\": 5, \"52\": 1, \"85\": 1, \"42\": 1, \"97\": 1, \"86\": 1}, \"19\": {\"87\": 1, \"10\": 1, \"19\": 5, \"111\": 1, \"85\": 1, \"86\": 1, \"77\": 1, \"8\": 1}, \"31\": {\"31\": 8, \"80\": 2, \"28\": 1, \"116\": 1}, \"0\": {\"3\": 1, \"0\": 4, \"30\": 2, \"58\": 1, \"51\": 1, \"97\": 2, \"8\": 1}, \"118\": {\"14\": 2, \"118\": 5, \"90\": 1, \"2\": 1, \"115\": 1, \"121\": 1, \"22\": 1}, \"87\": {\"93\": 2, \"62\": 2, \"5\": 1, \"13\": 1, \"4\": 1, \"53\": 1, \"87\": 1, \"111\": 1, \"100\": 2}, \"58\": {\"58\": 6, \"91\": 1, \"51\": 2, \"49\": 1, \"98\": 2}, \"72\": {\"72\": 5, \"7\": 4, \"12\": 1, \"68\": 2}, \"129\": {\"129\": 5, \"29\": 1, \"50\": 1, \"9\": 1, \"69\": 1, \"82\": 1, \"19\": 1, \"87\": 1}, \"92\": {\"92\": 5, \"29\": 3, \"23\": 1, \"38\": 1, \"119\": 1, \"33\": 1}, \"39\": {\"39\": 4, \"21\": 1, \"119\": 1, \"123\": 1, \"16\": 1, \"13\": 2}, \"28\": {\"28\": 11, \"31\": 1}, \"29\": {\"92\": 1, \"29\": 7, \"79\": 1, \"110\": 2, \"70\": 1}, \"84\": {\"100\": 1, \"40\": 1, \"84\": 5, \"74\": 2, \"26\": 1, \"20\": 1, \"50\": 1}, \"102\": {\"102\": 8, \"87\": 1, \"45\": 2, \"79\": 1}, \"71\": {\"71\": 9, \"100\": 1, \"5\": 2}, \"100\": {\"40\": 2, \"100\": 4, \"80\": 1, \"110\": 2, \"29\": 1, \"50\": 1, \"90\": 1}, \"73\": {\"125\": 2, \"73\": 6, \"30\": 2, \"12\": 1, \"126\": 1}, \"16\": {\"84\": 1, \"16\": 7, \"45\": 1, \"62\": 1, \"13\": 1, \"93\": 1}, \"125\": {\"73\": 1, \"125\": 8, \"25\": 2, \"83\": 1}, \"21\": {\"21\": 12}, \"96\": {\"123\": 1, \"96\": 8, \"48\": 1, \"109\": 1, \"23\": 1}, \"4\": {\"4\": 5, \"50\": 1, \"111\": 1, \"35\": 1, \"124\": 1, \"9\": 1, \"105\": 2}, \"57\": {\"57\": 9, \"38\": 1, \"74\": 1, \"122\": 1}, \"126\": {\"21\": 3, \"126\": 6, \"109\": 2, \"13\": 1}, \"101\": {\"125\": 1, \"4\": 1, \"101\": 2, \"111\": 2, \"71\": 2, \"85\": 2, \"52\": 1, \"58\": 1}, \"122\": {\"31\": 1, \"122\": 6, \"5\": 3, \"11\": 1, \"50\": 1}, \"77\": {\"85\": 1, \"77\": 10, \"65\": 1}, \"56\": {\"56\": 6, \"28\": 1, \"95\": 1, \"66\": 1, \"52\": 2, \"7\": 1}, \"85\": {\"85\": 8, \"49\": 1, \"10\": 1, \"70\": 1, \"34\": 1}, \"70\": {\"49\": 1, \"127\": 1, \"70\": 5, \"34\": 1, \"99\": 1, \"18\": 1, \"10\": 1, \"50\": 1}, \"69\": {\"69\": 9, \"62\": 2, \"82\": 1}, \"106\": {\"106\": 9, \"10\": 1, \"97\": 1, \"98\": 1}, \"42\": {\"28\": 1, \"85\": 1, \"91\": 2, \"42\": 4, \"48\": 1, \"112\": 1, \"65\": 1, \"52\": 1}, \"24\": {\"30\": 2, \"24\": 9, \"75\": 1}, \"120\": {\"120\": 10}, \"108\": {\"108\": 2, \"15\": 2, \"56\": 1, \"53\": 1, \"88\": 4}, \"61\": {\"126\": 1, \"61\": 11}, \"91\": {\"58\": 1, \"91\": 4, \"19\": 1, \"24\": 2, \"35\": 1, \"65\": 1, \"51\": 1, \"114\": 1}, \"30\": {\"0\": 3, \"111\": 1, \"30\": 3, \"8\": 1, \"97\": 1, \"86\": 1, \"52\": 1, \"106\": 1}, \"114\": {\"110\": 1, \"100\": 1, \"114\": 5, \"5\": 1, \"19\": 1, \"4\": 1, \"46\": 1, \"40\": 1}, \"46\": {\"46\": 5, \"86\": 1, \"128\": 1, \"7\": 1, \"114\": 1, \"105\": 1}, \"124\": {\"103\": 1, \"124\": 2, \"71\": 2, \"3\": 1, \"49\": 1, \"128\": 1, \"87\": 1, \"85\": 1}, \"38\": {\"38\": 4, \"45\": 2, \"116\": 2, \"94\": 1, \"79\": 2, \"93\": 1}, \"51\": {\"37\": 1, \"51\": 9, \"30\": 1, \"56\": 1}, \"88\": {\"88\": 6, \"23\": 1, \"104\": 1, \"32\": 1, \"126\": 1, \"87\": 1, \"66\": 1}, \"112\": {\"112\": 7, \"35\": 1, \"81\": 1, \"124\": 2, \"42\": 1}, \"37\": {\"37\": 11, \"51\": 1}, \"36\": {\"36\": 10, \"75\": 1, \"97\": 1}, \"26\": {\"16\": 2, \"26\": 7, \"11\": 1, \"45\": 1, \"115\": 1}, \"45\": {\"16\": 2, \"38\": 2, \"88\": 1, \"67\": 1, \"17\": 1, \"69\": 1, \"48\": 1, \"45\": 1, \"13\": 1, \"107\": 1}, \"23\": {\"51\": 1, \"23\": 4, \"47\": 1, \"76\": 1, \"35\": 1, \"126\": 1, \"49\": 1, \"64\": 1, \"43\": 1}, \"43\": {\"21\": 1, \"87\": 1, \"115\": 1, \"113\": 1, \"17\": 2, \"121\": 1, \"33\": 1, \"93\": 1, \"16\": 1}, \"119\": {\"119\": 11, \"11\": 1}, \"95\": {\"95\": 7, \"12\": 1, \"35\": 1, \"3\": 1, \"127\": 1, \"105\": 1}, \"62\": {\"102\": 2, \"62\": 4, \"63\": 1, \"17\": 2, \"33\": 2, \"40\": 1}, \"7\": {\"101\": 1, \"7\": 9, \"124\": 1, \"95\": 1}, \"41\": {\"41\": 3, \"77\": 1, \"98\": 1, \"47\": 1, \"79\": 2, \"129\": 1, \"6\": 1, \"35\": 1, \"20\": 1}, \"67\": {\"67\": 10, \"78\": 1, \"113\": 1}, \"50\": {\"50\": 7, \"129\": 1, \"107\": 1, \"55\": 1, \"100\": 1, \"105\": 1}, \"9\": {\"47\": 1, \"4\": 1, \"9\": 4, \"129\": 1, \"28\": 1, \"85\": 1, \"58\": 1, \"105\": 1, \"40\": 1}, \"82\": {\"82\": 7, \"107\": 1, \"120\": 1, \"55\": 1, \"69\": 2}, \"81\": {\"81\": 3, \"43\": 1, \"18\": 2, \"54\": 1, \"63\": 1, \"109\": 1, \"38\": 1, \"113\": 2}, \"97\": {\"41\": 1, \"7\": 1, \"51\": 1, \"0\": 1, \"15\": 2, \"97\": 3, \"68\": 1, \"3\": 1, \"24\": 1}, \"13\": {\"57\": 2, \"13\": 2, \"61\": 1, \"17\": 2, \"123\": 1, \"93\": 2, \"43\": 1, \"39\": 1}, \"55\": {\"55\": 10, \"1\": 1, \"9\": 1}, \"75\": {\"75\": 11, \"54\": 1}, \"53\": {\"57\": 2, \"121\": 1, \"44\": 1, \"20\": 2, \"78\": 1, \"53\": 2, \"87\": 1, \"34\": 1, \"46\": 1}, \"111\": {\"111\": 6, \"30\": 1, \"23\": 1, \"12\": 1, \"3\": 1, \"19\": 2}, \"44\": {\"44\": 11, \"104\": 1}, \"35\": {\"37\": 1, \"35\": 6, \"12\": 1, \"36\": 1, \"83\": 2, \"19\": 1}, \"5\": {\"105\": 1, \"112\": 1, \"5\": 8, \"86\": 2}, \"90\": {\"90\": 8, \"85\": 2}, \"33\": {\"33\": 11, \"50\": 1}, \"83\": {\"83\": 12}, \"65\": {\"65\": 8, \"8\": 1, \"91\": 1, \"77\": 2}, \"8\": {\"30\": 2, \"68\": 2, \"8\": 4, \"74\": 1, \"77\": 1}, \"60\": {\"60\": 4, \"8\": 1, \"90\": 1, \"66\": 1, \"86\": 1, \"116\": 2, \"28\": 1, \"22\": 1}, \"34\": {\"10\": 1, \"34\": 2, \"29\": 1, \"94\": 1, \"107\": 1, \"75\": 1, \"1\": 1, \"121\": 1, \"87\": 1, \"83\": 2}, \"109\": {\"2\": 1, \"78\": 1, \"96\": 1, \"104\": 1, \"74\": 2, \"63\": 1, \"82\": 1, \"32\": 2, \"109\": 2}, \"76\": {\"34\": 2, \"81\": 1, \"48\": 3, \"23\": 2, \"116\": 1, \"82\": 1, \"76\": 1, \"43\": 1}, \"32\": {\"32\": 2, \"118\": 1, \"74\": 3, \"11\": 1, \"82\": 2, \"128\": 1, \"115\": 1, \"26\": 1}, \"68\": {\"19\": 1, \"114\": 1, \"68\": 7, \"59\": 1, \"103\": 1, \"6\": 1}, \"18\": {\"18\": 8, \"113\": 1, \"79\": 1, \"67\": 1, \"16\": 1}, \"116\": {\"116\": 9, \"28\": 2, \"31\": 1}, \"128\": {\"4\": 1, \"128\": 7, \"84\": 1, \"7\": 1, \"1\": 2}, \"115\": {\"113\": 1, \"115\": 4, \"74\": 1, \"33\": 1, \"38\": 1, \"107\": 1, \"26\": 1}, \"113\": {\"115\": 1, \"18\": 1, \"119\": 2, \"26\": 2, \"113\": 1, \"67\": 1}, \"48\": {\"112\": 1, \"18\": 1, \"119\": 1, \"48\": 1, \"52\": 2, \"124\": 1, \"69\": 1, \"49\": 1, \"96\": 1, \"42\": 2}, \"104\": {\"104\": 3, \"107\": 2, \"54\": 1, \"115\": 1, \"79\": 1, \"1\": 2, \"25\": 1, \"70\": 1}, \"121\": {\"96\": 1, \"121\": 6, \"53\": 2, \"76\": 1, \"104\": 2}, \"107\": {\"104\": 2, \"45\": 1, \"107\": 2, \"82\": 2, \"115\": 2, \"74\": 1, \"84\": 1, \"80\": 1}, \"25\": {\"25\": 12}, \"12\": {\"12\": 6, \"111\": 1, \"72\": 2, \"95\": 1, \"49\": 1, \"65\": 1}, \"6\": {\"25\": 2, \"59\": 2, \"6\": 6, \"37\": 1, \"75\": 1}, \"54\": {\"54\": 12}, \"11\": {\"79\": 1, \"23\": 1, \"66\": 1, \"32\": 1, \"11\": 2, \"78\": 1, \"117\": 1, \"45\": 2, \"21\": 1, \"74\": 1}, \"59\": {\"59\": 9, \"6\": 2, \"15\": 1}, \"86\": {\"107\": 2, \"15\": 1, \"1\": 1, \"88\": 2, \"68\": 1, \"114\": 1, \"129\": 1, \"47\": 1, \"86\": 2}, \"66\": {\"34\": 2, \"66\": 6, \"20\": 1, \"32\": 1, \"47\": 1, \"90\": 1}, \"99\": {\"66\": 1, \"99\": 6, \"86\": 2, \"128\": 1, \"77\": 1, \"29\": 1}, \"15\": {\"15\": 8, \"36\": 1, \"97\": 2, \"51\": 1}, \"74\": {\"74\": 7, \"84\": 1, \"15\": 1, \"57\": 1, \"115\": 1, \"105\": 1}, \"20\": {\"20\": 3, \"56\": 1, \"66\": 1, \"84\": 1, \"48\": 2, \"122\": 1, \"41\": 1, \"34\": 1, \"64\": 1}, \"52\": {\"52\": 10, \"95\": 1, \"7\": 1}}, \"C_A_5\": {\"43\": {\"43\": 5, \"52\": 1}, \"35\": {\"35\": 12}, \"54\": {\"54\": 12}, \"22\": {\"22\": 7, \"44\": 2, \"49\": 1, \"54\": 1, \"29\": 1}, \"16\": {\"16\": 7, \"11\": 1}, \"5\": {\"19\": 2, \"40\": 1, \"44\": 2, \"5\": 5, \"33\": 1, \"32\": 1}, \"28\": {\"28\": 11, \"29\": 1}, \"14\": {\"5\": 1, \"54\": 1, \"39\": 1, \"52\": 1, \"41\": 3, \"57\": 1, \"14\": 2, \"3\": 1, \"27\": 1}, \"51\": {\"51\": 7, \"20\": 1}, \"19\": {\"19\": 11, \"5\": 1}, \"31\": {\"31\": 12}, \"10\": {\"10\": 12}, \"21\": {\"21\": 11, \"37\": 1}, \"3\": {\"3\": 5, \"57\": 2, \"0\": 1, \"46\": 3, \"52\": 1}, \"57\": {\"57\": 12}, \"9\": {\"9\": 10, \"27\": 1, \"19\": 1}, \"8\": {\"12\": 1, \"8\": 9, \"17\": 1, \"25\": 1}, \"46\": {\"46\": 8, \"16\": 1, \"47\": 1}, \"23\": {\"23\": 10, \"42\": 1, \"47\": 1}, \"37\": {\"37\": 12}, \"34\": {\"34\": 11, \"36\": 1}, \"4\": {\"48\": 2, \"4\": 7, \"38\": 1, \"32\": 2}, \"6\": {\"6\": 6, \"26\": 2, \"45\": 1, \"38\": 3}, \"48\": {\"48\": 11, \"9\": 1}, \"44\": {\"44\": 9, \"2\": 1, \"29\": 1, \"5\": 1}, \"40\": {\"40\": 4, \"22\": 2, \"29\": 2, \"50\": 1, \"19\": 2, \"28\": 1}, \"12\": {\"8\": 1, \"12\": 10, \"9\": 1}, \"30\": {\"30\": 12}, \"39\": {\"39\": 10}, \"45\": {\"45\": 11, \"4\": 1}, \"36\": {\"36\": 12}, \"27\": {\"27\": 12}, \"32\": {\"32\": 10}, \"52\": {\"52\": 12}, \"0\": {\"46\": 1, \"0\": 9, \"24\": 1, \"11\": 1}, \"26\": {\"26\": 8}, \"47\": {\"47\": 11, \"23\": 1}, \"17\": {\"17\": 10}, \"2\": {\"2\": 10}, \"56\": {\"56\": 6, \"2\": 1, \"10\": 1}, \"38\": {\"38\": 12}, \"50\": {\"50\": 4, \"21\": 1, \"53\": 1, \"25\": 1, \"1\": 1, \"26\": 1, \"27\": 1}, \"20\": {\"20\": 12}, \"1\": {\"1\": 11, \"50\": 1}, \"24\": {\"24\": 12}, \"33\": {\"33\": 8}, \"13\": {\"13\": 9, \"10\": 2, \"31\": 1}, \"41\": {\"41\": 12}, \"49\": {\"49\": 11, \"36\": 1}, \"11\": {\"0\": 2, \"11\": 6, \"16\": 1, \"37\": 1}, \"42\": {\"42\": 11, \"1\": 1}, \"7\": {\"7\": 11, \"38\": 1}, \"29\": {\"29\": 10, \"23\": 1, \"49\": 1}, \"18\": {\"18\": 6, \"42\": 1, \"14\": 1}, \"55\": {\"55\": 8}, \"53\": {\"53\": 10}, \"25\": {\"25\": 9, \"20\": 1}, \"15\": {\"15\": 7, \"11\": 1}}, \"C_A_2\": {\"49\": {\"49\": 9, \"12\": 1}, \"13\": {\"13\": 10}, \"37\": {\"37\": 12}, \"41\": {\"41\": 10}, \"15\": {\"15\": 10, \"1\": 1, \"16\": 1}, \"56\": {\"56\": 10, \"14\": 1, \"22\": 1}, \"14\": {\"14\": 4, \"9\": 1, \"24\": 1, \"44\": 1, \"43\": 3, \"35\": 1, \"38\": 1}, \"3\": {\"49\": 1, \"3\": 4, \"9\": 1, \"20\": 1, \"46\": 1, \"50\": 2, \"34\": 1, \"54\": 1}, \"38\": {\"38\": 12}, \"43\": {\"43\": 12}, \"33\": {\"33\": 12}, \"47\": {\"47\": 8, \"7\": 1, \"23\": 1, \"5\": 1, \"0\": 1}, \"30\": {\"30\": 12}, \"39\": {\"39\": 12}, \"12\": {\"12\": 12}, \"6\": {\"6\": 10, \"30\": 1, \"42\": 1}, \"51\": {\"51\": 10}, \"5\": {\"0\": 1, \"5\": 8, \"37\": 1, \"10\": 1, \"31\": 1}, \"34\": {\"4\": 1, \"34\": 10, \"26\": 1}, \"35\": {\"35\": 10, \"40\": 2}, \"0\": {\"0\": 12}, \"7\": {\"7\": 8}, \"24\": {\"24\": 12}, \"8\": {\"8\": 10}, \"20\": {\"20\": 10}, \"36\": {\"36\": 11, \"17\": 1}, \"42\": {\"42\": 8, \"34\": 1, \"55\": 1, \"6\": 1, \"49\": 1}, \"1\": {\"1\": 11, \"34\": 1}, \"4\": {\"34\": 1, \"4\": 5, \"35\": 1, \"40\": 1}, \"28\": {\"28\": 12}, \"50\": {\"50\": 6, \"8\": 2, \"54\": 1, \"49\": 1}, \"45\": {\"35\": 3, \"45\": 5, \"4\": 1, \"54\": 1}, \"18\": {\"18\": 11, \"30\": 1}, \"57\": {\"57\": 10}, \"46\": {\"50\": 1, \"7\": 1, \"36\": 1, \"46\": 4, \"16\": 1, \"52\": 1, \"18\": 1}, \"48\": {\"48\": 7, \"1\": 1}, \"22\": {\"22\": 9, \"14\": 2, \"56\": 1}, \"31\": {\"31\": 10, \"5\": 2}, \"44\": {\"44\": 7, \"9\": 1, \"40\": 1, \"35\": 1, \"19\": 2}, \"2\": {\"2\": 10, \"41\": 1, \"53\": 1}, \"55\": {\"2\": 3, \"55\": 9}, \"32\": {\"32\": 10}, \"9\": {\"9\": 12}, \"27\": {\"27\": 12}, \"52\": {\"52\": 12}, \"40\": {\"9\": 4, \"44\": 1, \"40\": 5}, \"23\": {\"23\": 12}, \"17\": {\"17\": 12}, \"10\": {\"10\": 12}, \"26\": {\"26\": 12}, \"11\": {\"11\": 7, \"16\": 1, \"24\": 1, \"52\": 1}, \"53\": {\"53\": 10}, \"16\": {\"16\": 12}, \"25\": {\"25\": 10}, \"21\": {\"21\": 8}, \"54\": {\"54\": 10}, \"19\": {\"19\": 7, \"44\": 1}, \"29\": {\"29\": 7, \"39\": 1}}, \"W_A_4\": {\"113\": {\"21\": 2, \"113\": 6, \"89\": 1, \"44\": 1, \"63\": 1, \"14\": 1}, \"85\": {\"85\": 11, \"47\": 1}, \"34\": {\"83\": 2, \"49\": 1, \"71\": 1, \"48\": 1, \"31\": 1, \"116\": 1, \"56\": 1, \"84\": 1, \"95\": 1, \"34\": 1, \"1\": 1}, \"55\": {\"55\": 5, \"4\": 2, \"106\": 1, \"112\": 1, \"8\": 2, \"71\": 1}, \"42\": {\"83\": 1, \"34\": 1, \"20\": 2, \"87\": 1, \"42\": 2, \"3\": 1, \"79\": 1, \"73\": 1, \"129\": 1, \"7\": 1}, \"13\": {\"69\": 2, \"104\": 1, \"13\": 4, \"97\": 1, \"21\": 1, \"99\": 1, \"65\": 1, \"126\": 1}, \"69\": {\"69\": 10, \"67\": 1, \"13\": 1}, \"35\": {\"35\": 7, \"88\": 1, \"84\": 1, \"64\": 1, \"66\": 1, \"40\": 1}, \"83\": {\"42\": 2, \"32\": 1, \"56\": 1, \"83\": 3, \"21\": 1, \"0\": 1, \"128\": 1, \"43\": 1, \"95\": 1}, \"51\": {\"51\": 5, \"113\": 1, \"95\": 1, \"48\": 1, \"34\": 1, \"9\": 1, \"38\": 1, \"59\": 1}, \"72\": {\"72\": 6, \"83\": 1, \"116\": 2, \"45\": 1, \"5\": 2}, \"24\": {\"34\": 1, \"24\": 2, \"19\": 1, \"54\": 2, \"97\": 2, \"86\": 1, \"59\": 1, \"125\": 2}, \"53\": {\"85\": 1, \"53\": 10, \"47\": 1}, \"8\": {\"8\": 7, \"55\": 1, \"60\": 1, \"0\": 2, \"87\": 1}, \"49\": {\"83\": 1, \"53\": 2, \"128\": 1, \"29\": 1, \"72\": 1, \"74\": 1, \"12\": 1, \"79\": 1, \"10\": 1, \"7\": 1, \"49\": 1}, \"21\": {\"21\": 12}, \"18\": {\"18\": 10, \"2\": 1, \"81\": 1}, \"114\": {\"114\": 5, \"127\": 1, \"124\": 1, \"129\": 2, \"55\": 2, \"71\": 1}, \"58\": {\"68\": 1, \"15\": 1, \"58\": 8, \"125\": 2}, \"56\": {\"56\": 7, \"71\": 1, \"51\": 1, \"119\": 1, \"3\": 1, \"1\": 1}, \"80\": {\"83\": 2, \"80\": 10}, \"11\": {\"11\": 4, \"73\": 1, \"104\": 1, \"44\": 1, \"116\": 2, \"76\": 1, \"28\": 1, \"118\": 1}, \"15\": {\"15\": 5, \"68\": 2, \"9\": 2, \"29\": 1, \"106\": 1, \"125\": 1}, \"50\": {\"104\": 1, \"73\": 2, \"21\": 1, \"69\": 1, \"44\": 1, \"50\": 1, \"43\": 1, \"51\": 1, \"109\": 1, \"124\": 1, \"7\": 1}, \"111\": {\"111\": 7, \"114\": 1, \"68\": 1, \"82\": 1, \"55\": 2}, \"108\": {\"108\": 2, \"58\": 1, \"109\": 1, \"37\": 1, \"88\": 2, \"95\": 2, \"72\": 1, \"93\": 2}, \"104\": {\"73\": 1, \"13\": 1, \"102\": 2, \"16\": 1, \"17\": 2, \"63\": 1, \"91\": 1, \"20\": 1, \"33\": 2}, \"32\": {\"80\": 1, \"108\": 1, \"32\": 5, \"129\": 1}, \"68\": {\"111\": 2, \"68\": 7, \"82\": 1, \"30\": 1, \"106\": 1}, \"73\": {\"73\": 3, \"50\": 1, \"83\": 1, \"76\": 1, \"11\": 1, \"69\": 1, \"20\": 1, \"1\": 1}, \"92\": {\"21\": 2, \"92\": 3, \"78\": 1, \"48\": 2, \"42\": 1, \"40\": 2, \"16\": 1}, \"57\": {\"34\": 1, \"57\": 7, \"99\": 1, \"28\": 1, \"91\": 1, \"33\": 1}, \"40\": {\"40\": 4, \"71\": 1, \"82\": 1, \"1\": 1, \"105\": 1, \"104\": 2, \"33\": 1, \"44\": 1}, \"71\": {\"71\": 10, \"107\": 1, \"0\": 1}, \"121\": {\"57\": 1, \"80\": 1, \"44\": 1, \"76\": 1, \"121\": 3, \"67\": 1, \"126\": 1, \"48\": 1, \"74\": 1, \"113\": 1}, \"62\": {\"107\": 2, \"33\": 2, \"69\": 1, \"99\": 1, \"62\": 3, \"65\": 1, \"113\": 1, \"117\": 1}, \"39\": {\"21\": 5, \"18\": 1, \"117\": 1, \"16\": 1, \"78\": 1, \"13\": 1, \"66\": 1, \"64\": 1}, \"107\": {\"40\": 2, \"1\": 2, \"107\": 5, \"33\": 1}, \"109\": {\"123\": 2, \"104\": 1, \"16\": 1, \"120\": 1, \"126\": 1, \"45\": 2, \"38\": 2, \"109\": 2}, \"103\": {\"123\": 1, \"103\": 2, \"127\": 1, \"60\": 1, \"93\": 2, \"0\": 1, \"109\": 1, \"19\": 1, \"119\": 1, \"82\": 1}, \"101\": {\"103\": 1, \"101\": 5, \"47\": 3, \"4\": 2, \"53\": 1}, \"23\": {\"123\": 2, \"31\": 1, \"112\": 1, \"94\": 1, \"81\": 1, \"53\": 1, \"65\": 2, \"4\": 1, \"74\": 1, \"127\": 1}, \"60\": {\"108\": 1, \"0\": 1, \"88\": 1, \"100\": 1, \"60\": 4, \"42\": 1, \"49\": 1, \"90\": 2}, \"123\": {\"123\": 7, \"18\": 1, \"126\": 2, \"88\": 1, \"108\": 1}, \"19\": {\"0\": 1, \"19\": 5, \"76\": 1, \"4\": 1, \"31\": 1, \"82\": 1, \"70\": 1, \"86\": 1}, \"0\": {\"101\": 1, \"103\": 1, \"52\": 1, \"55\": 1, \"95\": 2, \"20\": 1, \"0\": 1, \"71\": 1, \"86\": 1, \"19\": 1, \"8\": 1}, \"31\": {\"18\": 2, \"23\": 1, \"31\": 2, \"93\": 2, \"14\": 1, \"118\": 1, \"70\": 1, \"122\": 2}, \"81\": {\"18\": 2, \"81\": 5, \"63\": 2, \"48\": 1, \"28\": 1, \"117\": 1}, \"61\": {\"61\": 7, \"121\": 1, \"25\": 3, \"92\": 1}, \"86\": {\"60\": 1, \"101\": 1, \"86\": 7, \"19\": 1, \"52\": 1, \"97\": 1}, \"94\": {\"36\": 2, \"25\": 1, \"77\": 1, \"94\": 6, \"59\": 1, \"126\": 1}, \"99\": {\"87\": 1, \"104\": 1, \"99\": 5, \"100\": 1, \"120\": 2, \"57\": 2}, \"47\": {\"47\": 8, \"68\": 1, \"12\": 1, \"6\": 1, \"98\": 1}, \"112\": {\"112\": 8, \"127\": 1, \"126\": 1, \"89\": 1, \"109\": 1}, \"87\": {\"87\": 4, \"23\": 1, \"103\": 1, \"127\": 1, \"114\": 1, \"11\": 1, \"100\": 1, \"16\": 1, \"68\": 1}, \"76\": {\"99\": 1, \"104\": 1, \"76\": 4, \"100\": 1, \"80\": 2, \"28\": 2, \"69\": 1}, \"36\": {\"36\": 9, \"10\": 1, \"97\": 2}, \"102\": {\"102\": 6, \"67\": 1, \"14\": 2, \"11\": 1, \"104\": 1, \"33\": 1}, \"44\": {\"104\": 3, \"44\": 3, \"50\": 2, \"124\": 1, \"80\": 1, \"5\": 2}, \"16\": {\"102\": 3, \"76\": 1, \"96\": 1, \"2\": 1, \"16\": 1, \"14\": 1, \"122\": 2, \"117\": 1, \"108\": 1}, \"33\": {\"33\": 8, \"73\": 2, \"104\": 2}, \"9\": {\"47\": 1, \"53\": 1, \"29\": 1, \"86\": 1, \"12\": 1, \"9\": 5, \"98\": 1, \"112\": 1}, \"30\": {\"53\": 1, \"15\": 1, \"24\": 2, \"67\": 1, \"10\": 1, \"77\": 2, \"21\": 1, \"30\": 1, \"68\": 2}, \"4\": {\"1\": 2, \"4\": 5, \"19\": 1, \"55\": 1, \"129\": 3}, \"88\": {\"23\": 2, \"88\": 2, \"71\": 1, \"121\": 1, \"113\": 3, \"40\": 1, \"1\": 1, \"72\": 1}, \"20\": {\"23\": 1, \"66\": 1, \"20\": 6, \"28\": 1, \"41\": 1, \"87\": 1, \"108\": 1}, \"3\": {\"3\": 5, \"42\": 2, \"71\": 1, \"129\": 1, \"21\": 1, \"49\": 2}, \"66\": {\"23\": 1, \"76\": 1, \"38\": 3, \"124\": 1, \"66\": 3, \"39\": 1, \"52\": 1, \"49\": 1}, \"1\": {\"1\": 6, \"112\": 1, \"97\": 1, \"14\": 2, \"107\": 1, \"53\": 1}, \"25\": {\"25\": 12}, \"77\": {\"77\": 10, \"127\": 1, \"12\": 1}, \"79\": {\"20\": 3, \"79\": 8, \"28\": 1}, \"7\": {\"56\": 2, \"4\": 2, \"7\": 6, \"119\": 1, \"52\": 1}, \"100\": {\"77\": 1, \"20\": 1, \"71\": 1, \"73\": 1, \"95\": 1, \"119\": 1, \"115\": 1, \"38\": 1, \"128\": 1, \"58\": 1, \"83\": 2}, \"126\": {\"126\": 8, \"43\": 1, \"21\": 1, \"2\": 1, \"67\": 1}, \"54\": {\"54\": 9, \"36\": 1, \"94\": 2}, \"82\": {\"71\": 2, \"107\": 1, \"6\": 1, \"101\": 1, \"94\": 1, \"50\": 2, \"82\": 1, \"85\": 1, \"86\": 2}, \"97\": {\"103\": 1, \"97\": 10, \"125\": 1}, \"105\": {\"127\": 2, \"4\": 1, \"17\": 1, \"105\": 3, \"95\": 1, \"115\": 1, \"46\": 1, \"11\": 1, \"81\": 1}, \"127\": {\"127\": 3, \"98\": 1, \"114\": 1, \"34\": 1, \"129\": 1, \"112\": 1, \"0\": 2, \"101\": 1, \"7\": 1}, \"89\": {\"89\": 4, \"60\": 1, \"4\": 1, \"52\": 1, \"119\": 1, \"126\": 1, \"124\": 1, \"114\": 1, \"74\": 1}, \"98\": {\"98\": 7, \"85\": 2, \"34\": 1}, \"46\": {\"44\": 1, \"17\": 1, \"105\": 3, \"5\": 1, \"114\": 1, \"38\": 2, \"46\": 1, \"1\": 2}, \"116\": {\"104\": 1, \"116\": 2, \"89\": 1, \"57\": 1, \"79\": 1, \"17\": 1, \"45\": 1, \"124\": 1, \"44\": 1, \"118\": 1, \"74\": 1}, \"37\": {\"37\": 12}, \"17\": {\"17\": 7, \"19\": 1, \"107\": 1, \"69\": 1, \"120\": 1, \"88\": 1}, \"90\": {\"116\": 1, \"90\": 7, \"38\": 1, \"5\": 1, \"83\": 1, \"22\": 1}, \"52\": {\"19\": 1, \"52\": 9, \"49\": 1, \"85\": 1}, \"6\": {\"125\": 2, \"6\": 5, \"75\": 1, \"97\": 2, \"12\": 1, \"36\": 1}, \"67\": {\"67\": 2, \"84\": 1, \"128\": 1, \"69\": 1, \"122\": 1, \"121\": 2, \"44\": 1, \"17\": 1, \"93\": 1, \"20\": 1}, \"5\": {\"5\": 8, \"32\": 1, \"93\": 1, \"129\": 1, \"14\": 1}, \"125\": {\"125\": 8, \"25\": 2, \"6\": 1, \"52\": 1}, \"128\": {\"128\": 3, \"74\": 1, \"0\": 1, \"49\": 1, \"52\": 1, \"28\": 1, \"103\": 1, \"38\": 1, \"119\": 1, \"37\": 1}, \"129\": {\"129\": 4, \"125\": 1, \"14\": 2, \"1\": 1, \"19\": 1, \"23\": 1, \"17\": 1, \"4\": 1}, \"75\": {\"125\": 1, \"75\": 11}, \"84\": {\"32\": 1, \"84\": 5, \"118\": 2, \"2\": 1, \"93\": 2, \"109\": 1}, \"74\": {\"128\": 1, \"74\": 5, \"28\": 1, \"45\": 1, \"5\": 2, \"88\": 1, \"46\": 1}, \"22\": {\"90\": 2, \"22\": 2, \"80\": 2, \"74\": 1, \"100\": 1, \"66\": 1, \"119\": 2, \"57\": 1}, \"10\": {\"0\": 1, \"10\": 3, \"87\": 3, \"36\": 1, \"27\": 1, \"30\": 2, \"72\": 1}, \"96\": {\"96\": 4, \"2\": 1, \"38\": 1, \"41\": 1, \"116\": 1, \"92\": 2, \"126\": 1, \"117\": 1}, \"29\": {\"9\": 1, \"29\": 7, \"112\": 1, \"77\": 1, \"68\": 1, \"106\": 1}, \"28\": {\"57\": 1, \"28\": 8, \"48\": 1, \"99\": 1, \"120\": 1}, \"45\": {\"57\": 2, \"67\": 1, \"28\": 1, \"45\": 4, \"116\": 2, \"64\": 1, \"122\": 1}, \"117\": {\"21\": 2, \"18\": 1, \"117\": 6, \"64\": 1, \"118\": 2}, \"63\": {\"21\": 1, \"63\": 7, \"65\": 2, \"123\": 2}, \"41\": {\"119\": 2, \"41\": 7, \"85\": 1, \"58\": 2}, \"12\": {\"12\": 6, \"101\": 1, \"9\": 1, \"106\": 3, \"111\": 1}, \"95\": {\"95\": 4, \"0\": 1, \"127\": 2, \"106\": 2, \"105\": 1, \"1\": 2}, \"119\": {\"119\": 10, \"98\": 1, \"74\": 1}, \"27\": {\"12\": 1, \"27\": 5, \"106\": 1, \"108\": 1}, \"2\": {\"2\": 4, \"67\": 2, \"84\": 2, \"18\": 1, \"81\": 1, \"118\": 2}, \"122\": {\"107\": 1, \"122\": 2, \"67\": 2, \"93\": 2, \"96\": 1, \"50\": 1, \"38\": 1, \"16\": 2}, \"26\": {\"2\": 1, \"26\": 5, \"78\": 1, \"48\": 1, \"123\": 1, \"31\": 2, \"104\": 1}, \"78\": {\"93\": 1, \"26\": 1, \"39\": 1, \"27\": 1, \"126\": 2, \"116\": 1, \"109\": 1, \"113\": 1, \"62\": 1, \"78\": 2}, \"93\": {\"31\": 1, \"92\": 1, \"48\": 1, \"93\": 3, \"5\": 1, \"129\": 1, \"95\": 1, \"34\": 1, \"20\": 1, \"73\": 1}, \"118\": {\"102\": 2, \"14\": 1, \"118\": 5, \"63\": 1, \"78\": 1, \"43\": 1, \"129\": 1}, \"124\": {\"31\": 1, \"48\": 1, \"119\": 4, \"90\": 1, \"124\": 3, \"60\": 1, \"83\": 1}, \"14\": {\"14\": 9, \"78\": 1, \"102\": 2}, \"48\": {\"48\": 11, \"38\": 1}, \"65\": {\"65\": 12}, \"120\": {\"120\": 9, \"64\": 1, \"20\": 1, \"116\": 1}, \"43\": {\"17\": 2, \"110\": 2, \"70\": 1, \"126\": 1, \"50\": 1, \"118\": 1, \"16\": 2, \"33\": 1, \"113\": 1}, \"106\": {\"39\": 1, \"106\": 5, \"55\": 2, \"68\": 2, \"53\": 1, \"113\": 1}, \"110\": {\"17\": 1, \"84\": 1, \"110\": 4, \"126\": 1, \"63\": 1, \"93\": 1, \"41\": 1, \"105\": 2}, \"64\": {\"64\": 10, \"65\": 1, \"122\": 1}, \"38\": {\"38\": 8, \"90\": 1, \"66\": 1}, \"115\": {\"110\": 2, \"115\": 2, \"84\": 1, \"102\": 1, \"62\": 2, \"46\": 2}, \"70\": {\"110\": 1, \"41\": 1, \"124\": 1, \"91\": 1, \"98\": 2, \"70\": 2, \"105\": 1, \"8\": 1}, \"59\": {\"59\": 9, \"36\": 1}, \"91\": {\"29\": 2, \"91\": 1, \"119\": 1, \"59\": 1, \"58\": 2, \"95\": 1, \"57\": 1, \"15\": 1}}, \"W_A_2\": {\"115\": {\"129\": 1, \"114\": 1, \"79\": 1, \"115\": 5, \"103\": 2, \"24\": 1, \"128\": 1}, \"34\": {\"34\": 4, \"42\": 1, \"125\": 1, \"66\": 1, \"60\": 1, \"3\": 2}, \"97\": {\"97\": 5, \"127\": 1, \"34\": 1, \"15\": 1, \"47\": 1, \"36\": 1, \"77\": 1, \"11\": 1}, \"100\": {\"102\": 1, \"80\": 3, \"100\": 4, \"64\": 1, \"104\": 2, \"31\": 1}, \"129\": {\"114\": 1, \"129\": 3, \"8\": 2, \"55\": 2, \"1\": 1, \"7\": 1}, \"90\": {\"90\": 9, \"56\": 1, \"43\": 1, \"80\": 1}, \"125\": {\"125\": 11, \"101\": 1}, \"7\": {\"115\": 2, \"7\": 9, \"71\": 1}, \"92\": {\"100\": 4, \"69\": 1, \"119\": 2, \"31\": 1, \"92\": 2, \"89\": 1, \"80\": 1}, \"114\": {\"114\": 4, \"16\": 1, \"39\": 2, \"5\": 1, \"71\": 2, \"7\": 2}, \"80\": {\"80\": 2, \"33\": 2, \"73\": 1, \"1\": 1, \"100\": 3, \"31\": 1, \"85\": 2}, \"16\": {\"16\": 3, \"69\": 1, \"109\": 1, \"20\": 1, \"63\": 1, \"53\": 1, \"76\": 1, \"116\": 1, \"88\": 1, \"57\": 1}, \"69\": {\"69\": 6, \"16\": 1, \"109\": 2, \"14\": 1, \"84\": 1, \"102\": 1}, \"102\": {\"69\": 5, \"16\": 1, \"74\": 1, \"102\": 2, \"33\": 1, \"50\": 1, \"73\": 1}, \"33\": {\"33\": 8, \"73\": 1, \"80\": 1, \"110\": 1, \"84\": 1}, \"17\": {\"80\": 1, \"17\": 1, \"129\": 1, \"99\": 1, \"110\": 2, \"43\": 1, \"122\": 1, \"124\": 1, \"5\": 1, \"52\": 1, \"85\": 1}, \"61\": {\"61\": 10, \"2\": 1, \"52\": 1}, \"48\": {\"48\": 7, \"93\": 3, \"120\": 1, \"57\": 1}, \"91\": {\"115\": 1, \"79\": 1, \"28\": 1, \"91\": 5, \"11\": 1, \"103\": 1, \"10\": 2}, \"84\": {\"50\": 4, \"46\": 1, \"84\": 5, \"104\": 1, \"62\": 1}, \"50\": {\"50\": 8, \"84\": 1, \"64\": 1, \"62\": 1, \"121\": 1}, \"2\": {\"2\": 6, \"118\": 1, \"81\": 1, \"18\": 3, \"25\": 1}, \"46\": {\"46\": 11, \"22\": 1}, \"56\": {\"22\": 2, \"56\": 5, \"123\": 1, \"90\": 1, \"5\": 1, \"47\": 2}, \"86\": {\"84\": 1, \"79\": 1, \"107\": 1, \"86\": 6, \"50\": 1, \"73\": 1, \"62\": 1}, \"11\": {\"91\": 2, \"11\": 4, \"127\": 1, \"103\": 1, \"98\": 1, \"106\": 1, \"29\": 1, \"117\": 1}, \"118\": {\"84\": 2, \"104\": 1, \"109\": 1, \"120\": 1, \"82\": 1, \"93\": 2, \"50\": 2, \"67\": 1, \"118\": 1}, \"79\": {\"115\": 1, \"79\": 3, \"68\": 1, \"0\": 1, \"73\": 2, \"12\": 1, \"4\": 1, \"111\": 1, \"71\": 1}, \"22\": {\"46\": 1, \"22\": 2, \"70\": 1, \"73\": 1, \"116\": 2, \"104\": 1, \"124\": 1, \"38\": 2, \"60\": 1}, \"109\": {\"48\": 2, \"92\": 2, \"69\": 1, \"109\": 2, \"113\": 1, \"67\": 1, \"118\": 2, \"65\": 1}, \"62\": {\"50\": 2, \"84\": 1, \"62\": 5, \"21\": 1, \"73\": 1, \"55\": 2}, \"8\": {\"91\": 1, \"8\": 9, \"17\": 1, \"4\": 1}, \"24\": {\"36\": 4, \"25\": 2, \"58\": 2, \"106\": 1, \"24\": 2, \"101\": 1}, \"10\": {\"4\": 2, \"10\": 3, \"14\": 1, \"124\": 1, \"115\": 2, \"91\": 1, \"108\": 1, \"127\": 1}, \"87\": {\"100\": 1, \"10\": 1, \"64\": 1, \"119\": 1, \"120\": 2, \"87\": 3, \"28\": 1, \"39\": 1, \"43\": 1}, \"4\": {\"4\": 6, \"8\": 1, \"128\": 2, \"24\": 1, \"17\": 2}, \"105\": {\"105\": 6, \"73\": 2, \"33\": 1, \"50\": 1, \"67\": 1, \"40\": 1}, \"20\": {\"20\": 10, \"120\": 1, \"99\": 1}, \"28\": {\"100\": 2, \"48\": 2, \"28\": 6, \"93\": 1, \"63\": 1}, \"27\": {\"20\": 1, \"36\": 2, \"25\": 1, \"30\": 1, \"27\": 5, \"6\": 2}, \"89\": {\"100\": 1, \"89\": 3, \"117\": 1, \"21\": 1, \"25\": 1, \"93\": 1, \"46\": 1, \"66\": 1, \"20\": 1, \"107\": 1}, \"36\": {\"36\": 5, \"125\": 2, \"72\": 1, \"75\": 1, \"15\": 1, \"107\": 1, \"9\": 1}, \"45\": {\"20\": 1, \"48\": 1, \"61\": 1, \"62\": 1, \"74\": 1, \"45\": 3, \"44\": 2, \"107\": 1, \"126\": 1}, \"31\": {\"100\": 4, \"74\": 1, \"92\": 1, \"31\": 3, \"65\": 1, \"69\": 1, \"19\": 1}, \"110\": {\"107\": 3, \"1\": 1, \"60\": 1, \"38\": 1, \"110\": 2, \"89\": 1, \"32\": 1, \"5\": 1, \"33\": 1}, \"3\": {\"3\": 5, \"42\": 1, \"59\": 1, \"103\": 1}, \"107\": {\"107\": 6, \"84\": 1, \"52\": 1, \"105\": 1, \"40\": 1, \"111\": 1, \"103\": 1}, \"117\": {\"117\": 3, \"81\": 1, \"113\": 2, \"78\": 2, \"100\": 1, \"19\": 1, \"87\": 1, \"40\": 1}, \"21\": {\"21\": 10, \"99\": 2}, \"66\": {\"66\": 4, \"90\": 1, \"18\": 1, \"80\": 1, \"46\": 2, \"83\": 2, \"44\": 1}, \"82\": {\"107\": 2, \"118\": 1, \"82\": 3, \"1\": 2}, \"99\": {\"99\": 10, \"20\": 1, \"43\": 1}, \"81\": {\"82\": 2, \"57\": 2, \"81\": 4, \"43\": 1, \"113\": 1, \"102\": 2}, \"42\": {\"3\": 1, \"42\": 6, \"116\": 1, \"101\": 1, \"53\": 1, \"103\": 1, \"20\": 1}, \"26\": {\"26\": 5, \"18\": 2, \"13\": 2, \"81\": 2, \"67\": 1}, \"64\": {\"28\": 1, \"26\": 1, \"18\": 2, \"64\": 6, \"63\": 2}, \"74\": {\"66\": 1, \"74\": 10, \"43\": 1}, \"119\": {\"119\": 5, \"96\": 1, \"99\": 2, \"45\": 1, \"76\": 1, \"100\": 2}, \"71\": {\"7\": 1, \"71\": 3, \"112\": 2, \"22\": 1, \"44\": 1, \"49\": 1, \"77\": 1, \"73\": 1, \"127\": 1}, \"93\": {\"119\": 1, \"100\": 1, \"70\": 2, \"78\": 1, \"93\": 5, \"28\": 2}, \"18\": {\"18\": 6, \"37\": 2, \"121\": 1, \"2\": 2, \"88\": 1}, \"30\": {\"25\": 1, \"101\": 2, \"30\": 4, \"54\": 1, \"106\": 1, \"11\": 1, \"51\": 1, \"124\": 1}, \"96\": {\"116\": 1, \"88\": 1, \"96\": 5, \"126\": 1, \"109\": 1, \"72\": 1, \"52\": 1, \"60\": 1}, \"25\": {\"25\": 12}, \"88\": {\"88\": 9, \"121\": 1}, \"103\": {\"103\": 5, \"59\": 1, \"128\": 2, \"54\": 1, \"111\": 1, \"0\": 1, \"42\": 1}, \"116\": {\"86\": 1, \"119\": 2, \"46\": 1, \"116\": 5, \"60\": 1, \"61\": 1, \"104\": 1}, \"67\": {\"50\": 2, \"85\": 1, \"96\": 1, \"64\": 2, \"45\": 1, \"113\": 1, \"67\": 2, \"37\": 1, \"69\": 1}, \"1\": {\"1\": 10, \"55\": 1, \"129\": 1}, \"101\": {\"101\": 9, \"103\": 1, \"77\": 1, \"106\": 1}, \"23\": {\"8\": 1, \"112\": 1, \"65\": 2, \"29\": 3, \"23\": 1, \"70\": 1, \"126\": 1, \"109\": 1, \"10\": 1}, \"57\": {\"57\": 11, \"48\": 1}, \"83\": {\"83\": 9, \"126\": 2, \"76\": 1}, \"122\": {\"122\": 3, \"8\": 1, \"1\": 1, \"95\": 1, \"128\": 1, \"68\": 2, \"84\": 1, \"33\": 1, \"10\": 1}, \"127\": {\"112\": 1, \"127\": 8, \"111\": 2, \"59\": 1}, \"108\": {\"108\": 7, \"71\": 1, \"59\": 1, \"78\": 1, \"10\": 1, \"58\": 1}, \"124\": {\"124\": 5, \"44\": 2, \"47\": 1, \"112\": 1, \"56\": 1, \"85\": 1, \"35\": 1}, \"112\": {\"22\": 1, \"112\": 6, \"49\": 1, \"29\": 1, \"35\": 1, \"110\": 1, \"25\": 1}, \"70\": {\"70\": 1, \"124\": 1, \"3\": 1, \"43\": 1, \"14\": 1, \"62\": 1, \"44\": 1, \"21\": 2, \"87\": 1, \"110\": 1, \"16\": 1}, \"14\": {\"40\": 1, \"73\": 1, \"62\": 2, \"14\": 5, \"84\": 1, \"69\": 1, \"78\": 1}, \"53\": {\"53\": 10, \"42\": 2}, \"121\": {\"57\": 1, \"18\": 1, \"99\": 2, \"121\": 3, \"39\": 1, \"25\": 1, \"109\": 1, \"87\": 1, \"2\": 1}, \"40\": {\"40\": 7, \"10\": 1, \"105\": 1, \"88\": 2, \"55\": 1}, \"15\": {\"15\": 6, \"49\": 1, \"54\": 1, \"68\": 1, \"75\": 2, \"35\": 1}, \"37\": {\"14\": 1, \"37\": 7, \"18\": 1, \"32\": 1, \"64\": 1, \"67\": 1}, \"73\": {\"80\": 1, \"73\": 1, \"62\": 2, \"45\": 1, \"40\": 3, \"70\": 1, \"33\": 1, \"84\": 1, \"105\": 1}, \"52\": {\"52\": 7, \"18\": 1, \"54\": 1, \"78\": 1, \"12\": 2}, \"123\": {\"44\": 1, \"123\": 8, \"107\": 1, \"3\": 2}, \"44\": {\"44\": 12}, \"111\": {\"127\": 2, \"111\": 7, \"73\": 1, \"68\": 1, \"54\": 1}, \"43\": {\"3\": 1, \"70\": 1, \"96\": 1, \"95\": 4, \"88\": 1, \"49\": 1, \"24\": 1, \"55\": 1, \"112\": 1}, \"19\": {\"19\": 2, \"70\": 1, \"104\": 2, \"80\": 1, \"1\": 1, \"43\": 1, \"46\": 1, \"38\": 1, \"100\": 2}, \"38\": {\"38\": 9, \"20\": 1, \"124\": 1, \"53\": 1}, \"39\": {\"39\": 5, \"13\": 1, \"96\": 1, \"87\": 1, \"119\": 2, \"88\": 2}, \"59\": {\"59\": 11, \"34\": 1}, \"6\": {\"51\": 1, \"6\": 5, \"106\": 1, \"25\": 2, \"108\": 1, \"36\": 1, \"94\": 1}, \"47\": {\"51\": 1, \"60\": 1, \"47\": 4, \"123\": 1, \"83\": 1, \"89\": 1, \"44\": 1, \"25\": 1, \"56\": 1}, \"58\": {\"58\": 8, \"98\": 1, \"24\": 1, \"15\": 2}, \"51\": {\"51\": 3, \"98\": 2, \"107\": 1, \"120\": 1, \"9\": 2, \"36\": 2, \"125\": 1}, \"60\": {\"60\": 9, \"44\": 1, \"95\": 1, \"116\": 1}, \"12\": {\"58\": 1, \"0\": 1, \"106\": 1, \"44\": 1, \"12\": 1, \"95\": 1, \"68\": 2, \"29\": 1, \"23\": 1, \"17\": 2}, \"98\": {\"98\": 11, \"91\": 1}, \"0\": {\"58\": 1, \"12\": 1, \"79\": 1, \"0\": 7, \"49\": 1, \"115\": 1}, \"128\": {\"62\": 1, \"128\": 3, \"74\": 1, \"4\": 2, \"41\": 1, \"95\": 1, \"10\": 1, \"58\": 1, \"127\": 1}, \"29\": {\"29\": 7, \"59\": 1, \"85\": 1, \"41\": 1, \"98\": 1, \"11\": 1}, \"13\": {\"26\": 1, \"37\": 1, \"109\": 1, \"118\": 1, \"43\": 1, \"39\": 1, \"72\": 1, \"45\": 1, \"14\": 1, \"69\": 1, \"13\": 1, \"31\": 1}, \"72\": {\"37\": 1, \"39\": 1, \"16\": 1, \"109\": 3, \"2\": 1, \"99\": 1, \"92\": 1, \"45\": 1, \"72\": 1, \"95\": 1}, \"104\": {\"104\": 3, \"74\": 1, \"19\": 1, \"46\": 2, \"45\": 2, \"14\": 2, \"61\": 1}, \"5\": {\"5\": 7, \"4\": 1, \"30\": 1, \"68\": 1, \"40\": 1, \"86\": 1}, \"49\": {\"49\": 10, \"0\": 1, \"54\": 1}, \"77\": {\"77\": 8, \"29\": 2, \"52\": 2}, \"106\": {\"41\": 1, \"106\": 4, \"9\": 1, \"49\": 1, \"35\": 1, \"30\": 1, \"101\": 1, \"15\": 2}, \"120\": {\"120\": 9, \"20\": 1, \"65\": 2}, \"41\": {\"41\": 7, \"49\": 2, \"54\": 1, \"98\": 1, \"27\": 1}, \"55\": {\"55\": 7, \"40\": 1, \"64\": 2, \"115\": 1, \"62\": 1}, \"113\": {\"24\": 1, \"31\": 1, \"2\": 1, \"72\": 1, \"63\": 1, \"43\": 1, \"113\": 3, \"48\": 1, \"16\": 2}, \"68\": {\"4\": 1, \"24\": 1, \"3\": 1, \"68\": 6, \"54\": 1, \"111\": 2}, \"9\": {\"9\": 12}, \"95\": {\"55\": 1, \"31\": 1, \"95\": 4, \"123\": 1, \"122\": 2, \"105\": 2, \"114\": 1}, \"63\": {\"63\": 7, \"67\": 1, \"65\": 1, \"102\": 1, \"64\": 1, \"88\": 1}, \"85\": {\"85\": 5, \"46\": 1, \"84\": 1, \"33\": 2, \"124\": 1, \"71\": 1, \"73\": 1}, \"65\": {\"96\": 2, \"65\": 4, \"47\": 1, \"120\": 1, \"31\": 1, \"23\": 1, \"109\": 1, \"116\": 1}, \"126\": {\"49\": 1, \"43\": 1, \"126\": 4, \"78\": 1, \"38\": 1, \"66\": 1, \"104\": 1, \"87\": 2}, \"78\": {\"127\": 1, \"32\": 1, \"78\": 2, \"60\": 1, \"5\": 1, \"120\": 1, \"17\": 1, \"91\": 1, \"109\": 1, \"107\": 1, \"123\": 1}, \"32\": {\"28\": 2, \"32\": 8, \"50\": 1, \"86\": 1}, \"35\": {\"35\": 9, \"101\": 1, \"30\": 2}, \"54\": {\"35\": 1, \"29\": 1, \"3\": 1, \"54\": 4, \"15\": 1, \"115\": 1, \"111\": 1, \"103\": 1, \"49\": 1}, \"76\": {\"76\": 4, \"17\": 1, \"65\": 1, \"93\": 2, \"53\": 1, \"119\": 1}, \"94\": {\"30\": 4, \"15\": 1, \"54\": 1, \"94\": 3, \"63\": 1}, \"75\": {\"58\": 1, \"75\": 5}}, \"W_A_1\": {\"0\": {\"70\": 1, \"85\": 1, \"0\": 3, \"27\": 1, \"101\": 3, \"127\": 1, \"91\": 2}, \"93\": {\"60\": 1, \"32\": 1, \"30\": 1, \"114\": 1, \"122\": 2, \"31\": 1, \"72\": 1, \"107\": 1, \"93\": 1, \"62\": 2}, \"18\": {\"60\": 1, \"18\": 8, \"100\": 2, \"119\": 1}, \"111\": {\"0\": 1, \"111\": 4, \"85\": 1, \"15\": 1, \"72\": 1, \"30\": 1, \"17\": 1, \"88\": 1, \"46\": 1}, \"108\": {\"0\": 1, \"70\": 1, \"108\": 6, \"56\": 1, \"32\": 1, \"8\": 1, \"64\": 1}, \"8\": {\"93\": 2, \"108\": 1, \"8\": 6, \"122\": 1, \"87\": 1, \"61\": 1}, \"64\": {\"64\": 11, \"7\": 1}, \"83\": {\"64\": 3, \"116\": 1, \"10\": 2, \"66\": 2, \"96\": 1, \"43\": 1, \"124\": 1, \"83\": 1}, \"32\": {\"0\": 2, \"32\": 6, \"55\": 1, \"15\": 1, \"72\": 1, \"68\": 1}, \"69\": {\"69\": 5, \"14\": 1, \"39\": 2, \"62\": 2}, \"7\": {\"7\": 8, \"126\": 2}, \"70\": {\"18\": 1, \"60\": 1, \"70\": 7, \"87\": 1, \"89\": 1, \"44\": 1}, \"88\": {\"88\": 8, \"0\": 1, \"56\": 1, \"59\": 1, \"53\": 1}, \"107\": {\"107\": 6, \"128\": 1, \"72\": 1, \"40\": 1, \"4\": 1}, \"60\": {\"60\": 2, \"83\": 1, \"90\": 2, \"41\": 1, \"28\": 1, \"35\": 1, \"63\": 1, \"76\": 1, \"38\": 2}, \"85\": {\"85\": 7, \"111\": 1, \"31\": 1, \"68\": 1, \"75\": 2}, \"91\": {\"103\": 1, \"42\": 1, \"86\": 1, \"91\": 3, \"10\": 1, \"58\": 2, \"53\": 1, \"0\": 1, \"93\": 1}, \"109\": {\"109\": 9, \"25\": 1, \"79\": 2}, \"105\": {\"14\": 1, \"84\": 1, \"40\": 2, \"4\": 2, \"106\": 1, \"1\": 1, \"105\": 2, \"115\": 2}, \"129\": {\"49\": 1, \"129\": 2, \"122\": 2, \"99\": 1, \"63\": 1, \"19\": 1, \"62\": 1, \"45\": 2, \"116\": 1}, \"92\": {\"92\": 9, \"12\": 1, \"112\": 1, \"56\": 1}, \"9\": {\"9\": 4, \"103\": 1, \"73\": 2, \"47\": 1, \"17\": 1, \"23\": 2, \"70\": 1}, \"103\": {\"103\": 7, \"115\": 1, \"34\": 1, \"47\": 1, \"24\": 2}, \"14\": {\"14\": 8, \"8\": 1, \"39\": 1, \"82\": 2}, \"115\": {\"115\": 7, \"18\": 1, \"17\": 1, \"5\": 1, \"77\": 1, \"80\": 1}, \"5\": {\"84\": 1, \"49\": 1, \"72\": 1, \"15\": 1, \"0\": 1, \"5\": 4, \"24\": 1, \"110\": 1, \"115\": 1}, \"84\": {\"84\": 10, \"5\": 1, \"7\": 1}, \"49\": {\"49\": 4, \"91\": 1, \"53\": 1, \"103\": 2, \"105\": 1, \"127\": 1, \"9\": 2}, \"87\": {\"14\": 1, \"5\": 1, \"70\": 2, \"114\": 1, \"19\": 1, \"8\": 1, \"21\": 1, \"54\": 1, \"96\": 2, \"87\": 1}, \"42\": {\"42\": 8, \"38\": 1, \"22\": 1, \"87\": 1, \"90\": 1}, \"2\": {\"2\": 5, \"61\": 2, \"119\": 1, \"11\": 3, \"100\": 1}, \"20\": {\"20\": 8, \"10\": 1, \"74\": 1, \"104\": 2}, \"75\": {\"75\": 6, \"59\": 1, \"31\": 2, \"30\": 1, \"12\": 2}, \"59\": {\"63\": 2, \"59\": 3, \"88\": 1, \"51\": 1, \"15\": 1, \"24\": 1, \"101\": 1}, \"22\": {\"59\": 1, \"38\": 1, \"22\": 6, \"115\": 1, \"83\": 1, \"64\": 1, \"66\": 1}, \"38\": {\"38\": 7, \"76\": 2, \"28\": 1, \"25\": 2}, \"63\": {\"63\": 10, \"61\": 1, \"116\": 1}, \"101\": {\"101\": 8, \"0\": 2, \"5\": 2}, \"15\": {\"59\": 1, \"111\": 3, \"15\": 4, \"68\": 1, \"31\": 1, \"94\": 1, \"106\": 1}, \"53\": {\"53\": 8, \"59\": 1, \"71\": 1, \"92\": 1, \"75\": 1}, \"110\": {\"110\": 10, \"72\": 1, \"58\": 1}, \"78\": {\"20\": 1, \"110\": 1, \"46\": 1, \"40\": 1, \"5\": 1, \"78\": 3, \"84\": 1, \"11\": 1, \"105\": 1, \"66\": 1}, \"10\": {\"10\": 3, \"101\": 1, \"32\": 2, \"68\": 5, \"75\": 1}, \"55\": {\"114\": 1, \"55\": 9, \"105\": 1, \"32\": 1}, \"94\": {\"30\": 1, \"37\": 1, \"127\": 1, \"94\": 6, \"112\": 2, \"27\": 1}, \"39\": {\"82\": 1, \"39\": 4, \"102\": 1, \"119\": 1, \"70\": 2, \"69\": 1, \"14\": 1, \"99\": 1}, \"58\": {\"58\": 6, \"68\": 1, \"15\": 1, \"88\": 1, \"12\": 1, \"85\": 1, \"31\": 1}, \"40\": {\"93\": 1, \"40\": 9, \"5\": 1, \"55\": 1}, \"46\": {\"56\": 1, \"43\": 1, \"54\": 1, \"94\": 1, \"82\": 1, \"49\": 1, \"46\": 1, \"20\": 1, \"124\": 1, \"84\": 1, \"91\": 2}, \"35\": {\"35\": 8, \"46\": 1, \"89\": 1, \"32\": 1, \"98\": 1}, \"68\": {\"68\": 6, \"98\": 1, \"58\": 1, \"85\": 1, \"32\": 1, \"72\": 2}, \"114\": {\"114\": 1, \"93\": 1, \"22\": 1, \"17\": 2, \"79\": 1, \"115\": 2, \"87\": 2, \"33\": 2}, \"56\": {\"35\": 2, \"56\": 4, \"9\": 1, \"36\": 1, \"86\": 1, \"98\": 1, \"92\": 2}, \"37\": {\"37\": 12}, \"57\": {\"57\": 10, \"80\": 1, \"128\": 1}, \"43\": {\"39\": 1, \"93\": 2, \"83\": 1, \"33\": 1, \"84\": 1, \"70\": 1, \"76\": 1}, \"82\": {\"82\": 8, \"114\": 1, \"33\": 1, \"46\": 1, \"102\": 1}, \"30\": {\"30\": 4, \"27\": 1, \"112\": 1, \"6\": 1, \"111\": 1, \"12\": 2, \"37\": 2}, \"31\": {\"31\": 10, \"106\": 1, \"58\": 1}, \"12\": {\"32\": 2, \"127\": 1, \"12\": 4, \"68\": 2, \"53\": 2, \"111\": 1}, \"89\": {\"34\": 1, \"89\": 8, \"35\": 2, \"44\": 1}, \"21\": {\"21\": 8, \"34\": 1, \"70\": 1, \"39\": 1, \"24\": 1}, \"116\": {\"116\": 7, \"7\": 1, \"45\": 1, \"99\": 1, \"67\": 1, \"76\": 1}, \"34\": {\"12\": 2, \"34\": 2, \"49\": 1, \"92\": 3, \"98\": 1, \"56\": 1, \"89\": 1, \"84\": 1}, \"73\": {\"73\": 4, \"32\": 1, \"129\": 1, \"104\": 2, \"101\": 1, \"17\": 1}, \"102\": {\"7\": 2, \"102\": 5, \"55\": 1, \"119\": 1, \"121\": 1, \"78\": 2}, \"26\": {\"102\": 1, \"7\": 1, \"118\": 2, \"26\": 3, \"50\": 1, \"16\": 2, \"82\": 1, \"67\": 1}, \"121\": {\"83\": 2, \"121\": 8, \"99\": 1, \"100\": 1}, \"72\": {\"32\": 1, \"73\": 1, \"15\": 1, \"72\": 5, \"79\": 1, \"86\": 1, \"128\": 1, \"85\": 1}, \"61\": {\"61\": 10, \"63\": 1, \"109\": 1}, \"90\": {\"90\": 9, \"65\": 1, \"124\": 1, \"18\": 1}, \"86\": {\"86\": 9, \"97\": 1, \"126\": 1, \"49\": 1}, \"23\": {\"24\": 1, \"90\": 1, \"23\": 3, \"92\": 1, \"126\": 1, \"108\": 1, \"77\": 1, \"74\": 1, \"49\": 2}, \"28\": {\"28\": 9, \"42\": 2, \"90\": 1}, \"54\": {\"54\": 8, \"57\": 1, \"103\": 2, \"74\": 1}, \"29\": {\"29\": 7, \"47\": 1, \"17\": 2, \"75\": 1, \"79\": 1}, \"66\": {\"66\": 9, \"99\": 1}, \"127\": {\"127\": 11, \"12\": 1}, \"24\": {\"24\": 6, \"94\": 2, \"98\": 3, \"97\": 1}, \"47\": {\"47\": 2, \"106\": 2, \"92\": 1, \"126\": 2, \"35\": 2, \"19\": 1, \"93\": 1, \"107\": 1}, \"19\": {\"3\": 1, \"45\": 1, \"57\": 2, \"114\": 1, \"19\": 2, \"104\": 1, \"80\": 1, \"93\": 1, \"126\": 1, \"120\": 1}, \"106\": {\"106\": 1, \"125\": 1, \"31\": 1, \"85\": 1, \"129\": 1, \"97\": 1, \"47\": 2, \"17\": 2, \"110\": 2}, \"45\": {\"45\": 6, \"118\": 1, \"61\": 1, \"100\": 1, \"21\": 1, \"65\": 1, \"121\": 1}, \"117\": {\"81\": 1, \"118\": 2, \"21\": 2, \"117\": 5, \"26\": 1, \"63\": 1}, \"25\": {\"45\": 1, \"116\": 1, \"25\": 6, \"3\": 2, \"38\": 1, \"122\": 1}, \"118\": {\"118\": 9, \"11\": 1, \"26\": 1, \"82\": 1}, \"6\": {\"6\": 8, \"125\": 1, \"98\": 2, \"75\": 1}, \"3\": {\"3\": 10, \"79\": 1, \"80\": 1}, \"11\": {\"11\": 7, \"60\": 1, \"8\": 1, \"122\": 1, \"61\": 1, \"50\": 1}, \"33\": {\"82\": 2, \"102\": 2, \"81\": 1, \"33\": 6, \"54\": 1}, \"81\": {\"82\": 2, \"49\": 1, \"11\": 1, \"95\": 1, \"33\": 4, \"18\": 2, \"81\": 1}, \"125\": {\"125\": 6, \"6\": 1, \"112\": 1, \"37\": 2, \"56\": 2}, \"98\": {\"24\": 2, \"98\": 6, \"75\": 1, \"58\": 2, \"52\": 1}, \"65\": {\"90\": 1, \"11\": 1, \"76\": 1, \"121\": 3, \"99\": 2, \"25\": 1, \"24\": 1, \"65\": 2}, \"119\": {\"119\": 10, \"18\": 2}, \"128\": {\"128\": 3, \"60\": 1, \"1\": 2, \"14\": 1, \"67\": 1, \"73\": 1, \"43\": 1, \"110\": 2}, \"71\": {\"71\": 6, \"34\": 1, \"76\": 1}, \"123\": {\"123\": 6, \"61\": 2}, \"4\": {\"72\": 1, \"4\": 2, \"89\": 1, \"114\": 1, \"47\": 1, \"32\": 2, \"27\": 1, \"62\": 1, \"107\": 2}, \"41\": {\"41\": 10, \"72\": 2}, \"67\": {\"67\": 9, \"25\": 1, \"116\": 1, \"118\": 1}, \"95\": {\"39\": 2, \"81\": 1, \"122\": 1, \"28\": 1, \"95\": 3, \"116\": 2, \"19\": 1, \"63\": 1}, \"100\": {\"21\": 1, \"100\": 2, \"124\": 1, \"45\": 2, \"69\": 1, \"14\": 1, \"96\": 1, \"118\": 1, \"78\": 2}, \"17\": {\"35\": 1, \"4\": 1, \"72\": 2, \"68\": 1, \"17\": 5, \"55\": 2}, \"113\": {\"26\": 1, \"113\": 1, \"50\": 2, \"63\": 2, \"99\": 1, \"18\": 2, \"11\": 1, \"70\": 1, \"116\": 1}, \"122\": {\"122\": 4, \"114\": 1, \"84\": 2, \"8\": 1, \"67\": 1, \"72\": 1, \"102\": 2}, \"27\": {\"27\": 8, \"56\": 1, \"98\": 1, \"88\": 1, \"97\": 1}, \"79\": {\"79\": 6, \"17\": 1, \"96\": 1, \"73\": 1, \"32\": 1, \"25\": 1, \"103\": 1}, \"16\": {\"84\": 1, \"16\": 5, \"45\": 1, \"66\": 1, \"26\": 1, \"33\": 1, \"100\": 2}, \"112\": {\"92\": 1, \"125\": 1, \"112\": 6, \"94\": 1, \"127\": 2, \"53\": 1}, \"1\": {\"90\": 1, \"115\": 1, \"129\": 1, \"1\": 3, \"7\": 2, \"35\": 1, \"33\": 2, \"89\": 1}, \"124\": {\"22\": 1, \"124\": 3, \"122\": 1, \"66\": 1, \"0\": 1, \"48\": 1, \"10\": 1, \"101\": 1, \"87\": 1, \"8\": 1}, \"36\": {\"36\": 7, \"59\": 1}, \"76\": {\"76\": 12}, \"96\": {\"17\": 1, \"10\": 1, \"66\": 1, \"124\": 1, \"21\": 1, \"96\": 4, \"79\": 1, \"54\": 1, \"90\": 1}, \"80\": {\"80\": 4, \"104\": 1, \"67\": 3, \"3\": 1, \"62\": 1, \"65\": 1, \"33\": 1}, \"74\": {\"57\": 2, \"74\": 8, \"124\": 1, \"9\": 1}, \"99\": {\"99\": 10, \"116\": 1, \"61\": 1}, \"51\": {\"51\": 10, \"88\": 1, \"37\": 1}, \"126\": {\"126\": 5, \"124\": 1, \"44\": 2, \"19\": 1, \"47\": 1}, \"104\": {\"23\": 2, \"104\": 6, \"35\": 1, \"46\": 1}, \"97\": {\"52\": 1, \"97\": 4, \"112\": 1, \"88\": 1, \"101\": 2, \"27\": 1, \"91\": 1, \"49\": 1}, \"50\": {\"45\": 1, \"50\": 5, \"74\": 1, \"65\": 1, \"20\": 2, \"129\": 2}, \"52\": {\"52\": 10, \"98\": 2}, \"48\": {\"48\": 5, \"129\": 1, \"126\": 1, \"86\": 1, \"10\": 1, \"29\": 2, \"64\": 1}, \"77\": {\"77\": 6, \"108\": 1, \"48\": 1}, \"120\": {\"120\": 6, \"60\": 1, \"38\": 1}, \"44\": {\"44\": 8}, \"13\": {\"13\": 2, \"129\": 2, \"95\": 2}, \"62\": {\"109\": 1, \"62\": 5}}, \"C_A_1\": {\"57\": {\"57\": 9, \"56\": 2, \"42\": 1}, \"24\": {\"22\": 2, \"10\": 2, \"49\": 1, \"24\": 5, \"11\": 2}, \"22\": {\"22\": 9, \"11\": 1, \"24\": 2}, \"17\": {\"46\": 1, \"17\": 10, \"50\": 1}, \"39\": {\"39\": 12}, \"12\": {\"12\": 9, \"20\": 3}, \"14\": {\"12\": 1, \"30\": 3, \"14\": 4, \"34\": 2, \"8\": 1, \"13\": 1}, \"35\": {\"35\": 10, \"44\": 2}, \"46\": {\"46\": 10, \"6\": 1, \"48\": 1}, \"27\": {\"39\": 3, \"27\": 9}, \"19\": {\"19\": 10, \"29\": 1, \"1\": 1}, \"10\": {\"24\": 1, \"10\": 9, \"11\": 2}, \"11\": {\"11\": 10, \"24\": 2}, \"18\": {\"18\": 8}, \"6\": {\"6\": 9, \"17\": 1, \"8\": 1, \"2\": 1}, \"30\": {\"30\": 11, \"45\": 1}, \"45\": {\"45\": 12}, \"8\": {\"8\": 11, \"6\": 1}, \"9\": {\"9\": 12}, \"33\": {\"33\": 9, \"34\": 1}, \"56\": {\"56\": 8, \"29\": 1, \"1\": 1, \"45\": 1, \"19\": 1}, \"52\": {\"52\": 10, \"28\": 2}, \"53\": {\"53\": 11, \"26\": 1}, \"41\": {\"41\": 12}, \"32\": {\"32\": 12}, \"7\": {\"7\": 8}, \"3\": {\"3\": 7, \"44\": 1, \"34\": 1, \"41\": 1}, \"49\": {\"49\": 10}, \"54\": {\"54\": 10, \"16\": 2}, \"44\": {\"47\": 2, \"44\": 7, \"29\": 1}, \"28\": {\"28\": 9, \"22\": 1}, \"51\": {\"51\": 8, \"46\": 1, \"12\": 1, \"17\": 1, \"41\": 1}, \"21\": {\"21\": 10}, \"4\": {\"4\": 4, \"17\": 2}, \"43\": {\"43\": 12}, \"47\": {\"44\": 2, \"47\": 7, \"35\": 1}, \"23\": {\"23\": 10, \"15\": 1, \"24\": 1}, \"36\": {\"54\": 1, \"36\": 10, \"22\": 1}, \"48\": {\"48\": 12}, \"29\": {\"29\": 7, \"56\": 1, \"1\": 1, \"19\": 1}, \"31\": {\"31\": 12}, \"20\": {\"20\": 8, \"12\": 3, \"55\": 1}, \"5\": {\"5\": 10}, \"50\": {\"50\": 8}, \"38\": {\"38\": 8, \"32\": 1, \"55\": 1}, \"1\": {\"33\": 1, \"1\": 9}, \"37\": {\"37\": 12}, \"25\": {\"25\": 10, \"26\": 2}, \"26\": {\"26\": 12}, \"34\": {\"34\": 12}, \"55\": {\"55\": 10}, \"16\": {\"16\": 12}, \"42\": {\"42\": 10}, \"40\": {\"42\": 2, \"2\": 1, \"19\": 1, \"1\": 1, \"40\": 1, \"29\": 2, \"57\": 2}, \"15\": {\"15\": 6, \"24\": 2}, \"2\": {\"2\": 10}, \"0\": {\"0\": 10}, \"13\": {\"13\": 10}}, \"C_A_3\": {\"20\": {\"20\": 8, \"33\": 1, \"25\": 1}, \"24\": {\"24\": 12}, \"6\": {\"33\": 2, \"6\": 10}, \"10\": {\"10\": 10}, \"52\": {\"52\": 12}, \"46\": {\"3\": 2, \"46\": 5, \"18\": 1, \"48\": 1, \"26\": 3}, \"35\": {\"1\": 2, \"35\": 9, \"29\": 1}, \"15\": {\"15\": 12}, \"5\": {\"5\": 7, \"0\": 1, \"47\": 2, \"34\": 1, \"31\": 1}, \"53\": {\"33\": 1, \"53\": 9}, \"37\": {\"37\": 12}, \"1\": {\"1\": 9, \"35\": 2, \"41\": 1}, \"3\": {\"3\": 3, \"33\": 3, \"17\": 3, \"29\": 1, \"46\": 1, \"51\": 1}, \"33\": {\"33\": 11, \"17\": 1}, \"0\": {\"0\": 11, \"47\": 1}, \"56\": {\"10\": 1, \"56\": 11}, \"45\": {\"45\": 10, \"4\": 2}, \"9\": {\"9\": 8, \"50\": 1, \"14\": 1, \"41\": 1, \"42\": 1}, \"43\": {\"43\": 12}, \"57\": {\"57\": 12}, \"54\": {\"54\": 12}, \"48\": {\"48\": 9, \"9\": 1}, \"38\": {\"38\": 12}, \"29\": {\"29\": 9, \"9\": 1}, \"47\": {\"47\": 9, \"28\": 1, \"5\": 2}, \"19\": {\"19\": 9, \"44\": 1, \"40\": 2}, \"17\": {\"17\": 11, \"36\": 1}, \"27\": {\"27\": 10}, \"42\": {\"42\": 10}, \"44\": {\"4\": 1, \"44\": 7, \"19\": 2}, \"49\": {\"49\": 12}, \"4\": {\"4\": 9, \"40\": 2, \"32\": 1}, \"41\": {\"41\": 10, \"54\": 1, \"33\": 1}, \"8\": {\"8\": 10}, \"13\": {\"13\": 12}, \"55\": {\"55\": 9, \"6\": 1}, \"7\": {\"7\": 10}, \"14\": {\"0\": 1, \"38\": 1, \"40\": 3, \"9\": 1, \"7\": 1, \"22\": 1, \"24\": 1, \"56\": 2, \"35\": 1}, \"26\": {\"26\": 10, \"18\": 1, \"46\": 1}, \"30\": {\"30\": 10, \"18\": 1, \"25\": 1}, \"34\": {\"34\": 8, \"5\": 2}, \"11\": {\"11\": 6, \"52\": 2}, \"40\": {\"40\": 10}, \"2\": {\"2\": 10}, \"51\": {\"51\": 10, \"21\": 1, \"50\": 1}, \"16\": {\"16\": 8, \"15\": 1, \"7\": 1}, \"36\": {\"33\": 1, \"36\": 9}, \"31\": {\"31\": 8}, \"21\": {\"51\": 2, \"21\": 10}, \"12\": {\"12\": 11, \"54\": 1}, \"22\": {\"14\": 1, \"31\": 1, \"22\": 7, \"56\": 1, \"57\": 1, \"24\": 1}, \"18\": {\"18\": 9, \"26\": 2, \"30\": 1}, \"32\": {\"32\": 12}, \"50\": {\"36\": 2, \"50\": 3, \"6\": 1, \"33\": 1, \"3\": 1, \"51\": 1, \"32\": 1}, \"25\": {\"25\": 6, \"12\": 1, \"8\": 1}, \"39\": {\"39\": 10}, \"28\": {\"34\": 2, \"28\": 6, \"14\": 2}, \"23\": {\"23\": 5, \"47\": 1}}}, \"per_domain_accuracy\": {\"ORACLE.run1_14\": {\"accuracy\": 0.8213541666666667, \"source?\": true}, \"ORACLE.run1_20\": {\"accuracy\": 0.6877604166666667, \"source?\": true}, \"ORACLE.run1_50\": {\"accuracy\": 0.790625, \"source?\": true}, \"ORACLE.run1_26\": {\"accuracy\": 0.5919270833333333, \"source?\": true}, \"ORACLE.run1_32\": {\"accuracy\": 0.7921875, \"source?\": true}, \"ORACLE.run1_44\": {\"accuracy\": 0.6924479166666667, \"source?\": true}, \"ORACLE.run1_8\": {\"accuracy\": 0.7549479166666667, \"source?\": true}, \"ORACLE.run1_38\": {\"accuracy\": 0.7901041666666667, \"source?\": true}, \"C_A_4\": {\"accuracy\": 0.8359375, \"source?\": false}, \"W_A_3\": {\"accuracy\": 0.521484375, \"source?\": false}, \"C_A_5\": {\"accuracy\": 0.84375, \"source?\": false}, \"C_A_2\": {\"accuracy\": 0.865625, \"source?\": false}, \"W_A_4\": {\"accuracy\": 0.4505208333333333, \"source?\": false}, \"W_A_2\": {\"accuracy\": 0.4700520833333333, \"source?\": false}, \"W_A_1\": {\"accuracy\": 0.5099734042553191, \"source?\": false}, \"C_A_1\": {\"accuracy\": 0.846875, \"source?\": false}, \"C_A_3\": {\"accuracy\": 0.8296875, \"source?\": false}}}, \"history\": {\"epoch_indices\": [1, 2, 3, 4, 5, 6, 7, 8], \"train_label_loss\": [1.0240047435231863, 2.3181962122697204, 0.9355821805873088, 0.771922695288612, 0.6441786536769498, 0.5889707258614224, 0.5591911979241385, 0.5291904347715899], \"source_val_label_loss\": [105.27336120605469, 0.9815029501914978, 0.8990979790687561, 0.7251019477844238, 0.657997727394104, 0.5416968464851379, 0.5630306005477905, 0.6073147058486938], \"target_val_label_loss\": [26294.08203125, 101.27424621582031, 24.04555320739746, 23.452392578125, 318.84088134765625, 504.6140441894531, 1177.26953125, 2379.02490234375], \"source_val_acc_label\": [0.6465169270833333, 0.6456380208333333, 0.6798177083333333, 0.7401692708333333, 0.7662760416666666, 0.8136393229166666, 0.8021484375, 0.7825520833333334], \"target_val_acc_label\": [0.42042525773195877, 0.5794673539518901, 0.6019115120274914, 0.6103951890034365, 0.5642182130584192, 0.5769974226804123, 0.561426116838488, 0.5125644329896907]}, \"dataset_metrics\": {\"source\": {\"train\": {\"n_unique_x\": 179200, \"n_unique_y\": 16, \"n_batch/episode\": 6720}, \"val\": {\"n_unique_x\": 38400, \"n_unique_y\": 16, \"n_batch/episode\": 960}, \"test\": {\"n_unique_x\": 38400, \"n_unique_y\": 16, \"n_batch/episode\": 960}}, \"target\": {\"train\": {\"n_unique_x\": 56697, \"n_unique_y\": 130, \"n_batch/episode\": 2082}, \"val\": {\"n_unique_x\": 12121, \"n_unique_y\": 130, \"n_batch/episode\": 291}, \"test\": {\"n_unique_x\": 12121, \"n_unique_y\": 130, \"n_batch/episode\": 291}}}}'"
      ]
     },
     "execution_count": 29,
     "metadata": {},
     "output_type": "execute_result"
    }
   ],
   "source": [
    "json.dumps(experiment)"
   ]
  }
 ],
 "metadata": {
  "celltoolbar": "Tags",
  "kernelspec": {
   "display_name": "Python 3 (ipykernel)",
   "language": "python",
   "name": "python3"
  },
  "language_info": {
   "codemirror_mode": {
    "name": "ipython",
    "version": 3
   },
   "file_extension": ".py",
   "mimetype": "text/x-python",
   "name": "python",
   "nbconvert_exporter": "python",
   "pygments_lexer": "ipython3",
   "version": "3.8.10"
  },
  "papermill": {
   "default_parameters": {},
   "duration": 1383.600049,
   "end_time": "2022-03-18T17:22:05.347994",
   "environment_variables": {},
   "exception": null,
   "input_path": "/mnt/wd500GB/CSC500/csc500-main/csc500-notebooks/templates/tl_ptn_template.ipynb",
   "output_path": "trial.ipynb",
   "parameters": {
    "parameters": {
     "BEST_MODEL_PATH": "./best_model.pth",
     "NUM_LOGS_PER_EPOCH": 10,
     "criteria_for_best": "target_loss",
     "dataset_seed": 420,
     "datasets": [
      {
       "domain_prefix": "C_A_",
       "domains": [
        1,
        2,
        3,
        4,
        5
       ],
       "episode_transforms": [],
       "labels": [
        "1-10.",
        "1-11.",
        "1-15.",
        "1-16.",
        "1-17.",
        "1-18.",
        "1-19.",
        "10-4.",
        "10-7.",
        "11-1.",
        "11-14.",
        "11-17.",
        "11-20.",
        "11-7.",
        "13-20.",
        "13-8.",
        "14-10.",
        "14-11.",
        "14-14.",
        "14-7.",
        "15-1.",
        "15-20.",
        "16-1.",
        "16-16.",
        "17-10.",
        "17-11.",
        "17-2.",
        "19-1.",
        "19-16.",
        "19-19.",
        "19-20.",
        "19-3.",
        "2-10.",
        "2-11.",
        "2-17.",
        "2-18.",
        "2-20.",
        "2-3.",
        "2-4.",
        "2-5.",
        "2-6.",
        "2-7.",
        "2-8.",
        "3-13.",
        "3-18.",
        "3-3.",
        "4-1.",
        "4-10.",
        "4-11.",
        "4-19.",
        "5-5.",
        "6-15.",
        "7-10.",
        "7-14.",
        "8-18.",
        "8-20.",
        "8-3.",
        "8-8."
       ],
       "num_examples_per_domain_per_label": 100,
       "pickle_path": "/mnt/wd500GB/CSC500/csc500-main/datasets/cores.stratified_ds.2022A.pkl",
       "source_or_target_dataset": "target",
       "x_transforms": [
        "unit_mag",
        "take_200"
       ]
      },
      {
       "domain_prefix": "W_A_",
       "domains": [
        1,
        2,
        3,
        4
       ],
       "episode_transforms": [],
       "labels": [
        "1-10",
        "1-12",
        "1-14",
        "1-16",
        "1-18",
        "1-19",
        "1-8",
        "10-11",
        "10-17",
        "10-4",
        "10-7",
        "11-1",
        "11-10",
        "11-19",
        "11-20",
        "11-4",
        "11-7",
        "12-19",
        "12-20",
        "12-7",
        "13-14",
        "13-18",
        "13-19",
        "13-20",
        "13-3",
        "13-7",
        "14-10",
        "14-11",
        "14-12",
        "14-13",
        "14-14",
        "14-19",
        "14-20",
        "14-7",
        "14-8",
        "14-9",
        "15-1",
        "15-19",
        "15-6",
        "16-1",
        "16-16",
        "16-19",
        "16-20",
        "17-10",
        "17-11",
        "18-1",
        "18-10",
        "18-11",
        "18-12",
        "18-13",
        "18-14",
        "18-15",
        "18-16",
        "18-17",
        "18-19",
        "18-2",
        "18-20",
        "18-4",
        "18-5",
        "18-7",
        "18-8",
        "18-9",
        "19-1",
        "19-10",
        "19-11",
        "19-12",
        "19-13",
        "19-14",
        "19-15",
        "19-19",
        "19-2",
        "19-20",
        "19-3",
        "19-4",
        "19-6",
        "19-7",
        "19-8",
        "19-9",
        "2-1",
        "2-13",
        "2-15",
        "2-3",
        "2-4",
        "2-5",
        "2-6",
        "2-7",
        "2-8",
        "20-1",
        "20-12",
        "20-14",
        "20-15",
        "20-16",
        "20-18",
        "20-19",
        "20-20",
        "20-3",
        "20-4",
        "20-5",
        "20-7",
        "20-8",
        "3-1",
        "3-13",
        "3-18",
        "3-2",
        "3-8",
        "4-1",
        "4-10",
        "4-11",
        "5-1",
        "5-5",
        "6-1",
        "6-15",
        "6-6",
        "7-10",
        "7-11",
        "7-12",
        "7-13",
        "7-14",
        "7-7",
        "7-8",
        "7-9",
        "8-1",
        "8-13",
        "8-14",
        "8-18",
        "8-20",
        "8-3",
        "8-8",
        "9-1",
        "9-7"
       ],
       "num_examples_per_domain_per_label": 100,
       "pickle_path": "/mnt/wd500GB/CSC500/csc500-main/datasets/wisig.node3-19.stratified_ds.2022A.pkl",
       "source_or_target_dataset": "target",
       "x_transforms": [
        "unit_mag",
        "take_200"
       ]
      },
      {
       "domain_prefix": "ORACLE.run1_",
       "domains": [
        32,
        38,
        8,
        44,
        14,
        50,
        20,
        26
       ],
       "episode_transforms": [],
       "labels": [
        "3123D52",
        "3123D65",
        "3123D79",
        "3123D80",
        "3123D54",
        "3123D70",
        "3123D7B",
        "3123D89",
        "3123D58",
        "3123D76",
        "3123D7D",
        "3123EFE",
        "3123D64",
        "3123D78",
        "3123D7E",
        "3124E4A"
       ],
       "num_examples_per_domain_per_label": 2000,
       "pickle_path": "/mnt/wd500GB/CSC500/csc500-main/datasets/oracle.Run1_framed_2000Examples_stratified_ds.2022A.pkl",
       "source_or_target_dataset": "source",
       "x_transforms": [
        "unit_mag",
        "take_200",
        "resample_20Msps_to_25Msps"
       ]
      }
     ],
     "device": "cuda",
     "experiment_name": "tl_3A:oracle.run1.framed -> cores+wisig",
     "lr": 0.001,
     "n_epoch": 50,
     "n_query": 2,
     "n_shot": 3,
     "n_way": 16,
     "patience": 3,
     "seed": 420,
     "test_k_factor": 2,
     "torch_default_dtype": "torch.float32",
     "train_k_factor": 3,
     "val_k_factor": 2,
     "x_net": [
      {
       "class": "nnReshape",
       "kargs": {
        "shape": [
         -1,
         1,
         2,
         200
        ]
       }
      },
      {
       "class": "Conv2d",
       "kargs": {
        "bias": false,
        "in_channels": 1,
        "kernel_size": [
         1,
         7
        ],
        "out_channels": 256,
        "padding": [
         0,
         3
        ]
       }
      },
      {
       "class": "ReLU",
       "kargs": {
        "inplace": true
       }
      },
      {
       "class": "BatchNorm2d",
       "kargs": {
        "num_features": 256
       }
      },
      {
       "class": "Conv2d",
       "kargs": {
        "bias": true,
        "in_channels": 256,
        "kernel_size": [
         2,
         7
        ],
        "out_channels": 80,
        "padding": [
         0,
         3
        ]
       }
      },
      {
       "class": "ReLU",
       "kargs": {
        "inplace": true
       }
      },
      {
       "class": "BatchNorm2d",
       "kargs": {
        "num_features": 80
       }
      },
      {
       "class": "Flatten",
       "kargs": {}
      },
      {
       "class": "Linear",
       "kargs": {
        "in_features": 16000,
        "out_features": 256
       }
      },
      {
       "class": "ReLU",
       "kargs": {
        "inplace": true
       }
      },
      {
       "class": "BatchNorm1d",
       "kargs": {
        "num_features": 256
       }
      },
      {
       "class": "Linear",
       "kargs": {
        "in_features": 256,
        "out_features": 256
       }
      }
     ],
     "x_shape": [
      2,
      200
     ]
    }
   },
   "start_time": "2022-03-18T16:59:01.747945",
   "version": "2.3.4"
  }
 },
 "nbformat": 4,
 "nbformat_minor": 5
}