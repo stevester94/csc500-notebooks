{
 "cells": [
  {
   "cell_type": "markdown",
   "id": "9fea5f46",
   "metadata": {
    "papermill": {
     "duration": 0.018158,
     "end_time": "2022-03-18T17:44:46.330631",
     "exception": false,
     "start_time": "2022-03-18T17:44:46.312473",
     "status": "completed"
    },
    "tags": []
   },
   "source": [
    "# Transfer Learning Template"
   ]
  },
  {
   "cell_type": "code",
   "execution_count": 1,
   "id": "0902182a",
   "metadata": {
    "execution": {
     "iopub.execute_input": "2022-03-18T17:44:46.365129Z",
     "iopub.status.busy": "2022-03-18T17:44:46.364727Z",
     "iopub.status.idle": "2022-03-18T17:44:47.266581Z",
     "shell.execute_reply": "2022-03-18T17:44:47.266285Z"
    },
    "papermill": {
     "duration": 0.923329,
     "end_time": "2022-03-18T17:44:47.266651",
     "exception": false,
     "start_time": "2022-03-18T17:44:46.343322",
     "status": "completed"
    },
    "tags": []
   },
   "outputs": [],
   "source": [
    "%load_ext autoreload\n",
    "%autoreload 2\n",
    "%matplotlib inline\n",
    "\n",
    "    \n",
    "import os, json, sys, time, random\n",
    "import numpy as np\n",
    "import torch\n",
    "from torch.optim import Adam\n",
    "from  easydict import EasyDict\n",
    "import matplotlib.pyplot as plt\n",
    "\n",
    "from steves_models.steves_ptn import Steves_Prototypical_Network\n",
    "\n",
    "from steves_utils.lazy_iterable_wrapper import Lazy_Iterable_Wrapper\n",
    "from steves_utils.iterable_aggregator import Iterable_Aggregator\n",
    "from steves_utils.ptn_train_eval_test_jig import  PTN_Train_Eval_Test_Jig\n",
    "from steves_utils.torch_sequential_builder import build_sequential\n",
    "from steves_utils.torch_utils import get_dataset_metrics, ptn_confusion_by_domain_over_dataloader\n",
    "from steves_utils.utils_v2 import (per_domain_accuracy_from_confusion, get_datasets_base_path)\n",
    "from steves_utils.PTN.utils import independent_accuracy_assesment\n",
    "\n",
    "from torch.utils.data import DataLoader\n",
    "\n",
    "from steves_utils.stratified_dataset.episodic_accessor import Episodic_Accessor_Factory\n",
    "\n",
    "from steves_utils.ptn_do_report import (\n",
    "    get_loss_curve,\n",
    "    get_results_table,\n",
    "    get_parameters_table,\n",
    "    get_domain_accuracies,\n",
    ")\n",
    "\n",
    "from steves_utils.transforms import get_chained_transform"
   ]
  },
  {
   "cell_type": "markdown",
   "id": "41c840b4",
   "metadata": {
    "papermill": {
     "duration": 0.013242,
     "end_time": "2022-03-18T17:44:47.293847",
     "exception": false,
     "start_time": "2022-03-18T17:44:47.280605",
     "status": "completed"
    },
    "tags": []
   },
   "source": [
    "# Allowed Parameters\n",
    "These are allowed parameters, not defaults\n",
    "Each of these values need to be present in the injected parameters (the notebook will raise an exception if they are not present)\n",
    "\n",
    "Papermill uses the cell tag \"parameters\" to inject the real parameters below this cell.\n",
    "Enable tags to see what I mean"
   ]
  },
  {
   "cell_type": "code",
   "execution_count": 2,
   "id": "fd44eb83",
   "metadata": {
    "execution": {
     "iopub.execute_input": "2022-03-18T17:44:47.323300Z",
     "iopub.status.busy": "2022-03-18T17:44:47.322097Z",
     "iopub.status.idle": "2022-03-18T17:44:47.337249Z",
     "shell.execute_reply": "2022-03-18T17:44:47.337029Z"
    },
    "papermill": {
     "duration": 0.030041,
     "end_time": "2022-03-18T17:44:47.337299",
     "exception": false,
     "start_time": "2022-03-18T17:44:47.307258",
     "status": "completed"
    },
    "tags": []
   },
   "outputs": [],
   "source": [
    "required_parameters = {\n",
    "    \"experiment_name\",\n",
    "    \"lr\",\n",
    "    \"device\",\n",
    "    \"seed\",\n",
    "    \"dataset_seed\",\n",
    "    \"n_shot\",\n",
    "    \"n_query\",\n",
    "    \"n_way\",\n",
    "    \"train_k_factor\",\n",
    "    \"val_k_factor\",\n",
    "    \"test_k_factor\",\n",
    "    \"n_epoch\",\n",
    "    \"patience\",\n",
    "    \"criteria_for_best\",\n",
    "    \"x_net\",\n",
    "    \"datasets\",\n",
    "    \"torch_default_dtype\",\n",
    "    \"NUM_LOGS_PER_EPOCH\",\n",
    "    \"BEST_MODEL_PATH\",\n",
    "    \"x_shape\",\n",
    "}"
   ]
  },
  {
   "cell_type": "code",
   "execution_count": 3,
   "id": "fa3f0049",
   "metadata": {
    "execution": {
     "iopub.execute_input": "2022-03-18T17:44:47.373878Z",
     "iopub.status.busy": "2022-03-18T17:44:47.365670Z",
     "iopub.status.idle": "2022-03-18T17:44:47.385926Z",
     "shell.execute_reply": "2022-03-18T17:44:47.386283Z"
    },
    "papermill": {
     "duration": 0.03569,
     "end_time": "2022-03-18T17:44:47.386388",
     "exception": false,
     "start_time": "2022-03-18T17:44:47.350698",
     "status": "completed"
    },
    "tags": [
     "parameters"
    ]
   },
   "outputs": [],
   "source": [
    "from steves_utils.CORES.utils import (\n",
    "    ALL_NODES,\n",
    "    ALL_NODES_MINIMUM_1000_EXAMPLES,\n",
    "    ALL_DAYS\n",
    ")\n",
    "\n",
    "from steves_utils.ORACLE.utils_v2 import (\n",
    "    ALL_DISTANCES_FEET_NARROWED,\n",
    "    ALL_RUNS,\n",
    "    ALL_SERIAL_NUMBERS,\n",
    ")\n",
    "\n",
    "standalone_parameters = {}\n",
    "standalone_parameters[\"experiment_name\"] = \"STANDALONE PTN\"\n",
    "standalone_parameters[\"lr\"] = 0.001\n",
    "standalone_parameters[\"device\"] = \"cuda\"\n",
    "\n",
    "standalone_parameters[\"seed\"] = 1337\n",
    "standalone_parameters[\"dataset_seed\"] = 1337\n",
    "\n",
    "standalone_parameters[\"n_way\"] = 8\n",
    "standalone_parameters[\"n_shot\"] = 3\n",
    "standalone_parameters[\"n_query\"]  = 2\n",
    "standalone_parameters[\"train_k_factor\"] = 1\n",
    "standalone_parameters[\"val_k_factor\"] = 2\n",
    "standalone_parameters[\"test_k_factor\"] = 2\n",
    "\n",
    "\n",
    "standalone_parameters[\"n_epoch\"] = 50\n",
    "\n",
    "standalone_parameters[\"patience\"] = 10\n",
    "standalone_parameters[\"criteria_for_best\"] = \"source_loss\"\n",
    "\n",
    "standalone_parameters[\"datasets\"] = [\n",
    "    {\n",
    "        \"labels\": ALL_SERIAL_NUMBERS,\n",
    "        \"domains\": ALL_DISTANCES_FEET_NARROWED,\n",
    "        \"num_examples_per_domain_per_label\": 100,\n",
    "        \"pickle_path\": os.path.join(get_datasets_base_path(), \"oracle.Run1_framed_2000Examples_stratified_ds.2022A.pkl\"),\n",
    "        \"source_or_target_dataset\": \"source\",\n",
    "        \"x_transforms\": [\"unit_mag\", \"minus_two\"],\n",
    "        \"episode_transforms\": [],\n",
    "        \"domain_prefix\": \"ORACLE_\"\n",
    "    },\n",
    "    {\n",
    "        \"labels\": ALL_NODES,\n",
    "        \"domains\": ALL_DAYS,\n",
    "        \"num_examples_per_domain_per_label\": 100,\n",
    "        \"pickle_path\": os.path.join(get_datasets_base_path(), \"cores.stratified_ds.2022A.pkl\"),\n",
    "        \"source_or_target_dataset\": \"target\",\n",
    "        \"x_transforms\": [\"unit_power\", \"times_zero\"],\n",
    "        \"episode_transforms\": [],\n",
    "        \"domain_prefix\": \"CORES_\"\n",
    "    }   \n",
    "]\n",
    "\n",
    "standalone_parameters[\"torch_default_dtype\"] = \"torch.float32\" \n",
    "\n",
    "\n",
    "\n",
    "standalone_parameters[\"x_net\"] =     [\n",
    "    {\"class\": \"nnReshape\", \"kargs\": {\"shape\":[-1, 1, 2, 256]}},\n",
    "    {\"class\": \"Conv2d\", \"kargs\": { \"in_channels\":1, \"out_channels\":256, \"kernel_size\":(1,7), \"bias\":False, \"padding\":(0,3), },},\n",
    "    {\"class\": \"ReLU\", \"kargs\": {\"inplace\": True}},\n",
    "    {\"class\": \"BatchNorm2d\", \"kargs\": {\"num_features\":256}},\n",
    "\n",
    "    {\"class\": \"Conv2d\", \"kargs\": { \"in_channels\":256, \"out_channels\":80, \"kernel_size\":(2,7), \"bias\":True, \"padding\":(0,3), },},\n",
    "    {\"class\": \"ReLU\", \"kargs\": {\"inplace\": True}},\n",
    "    {\"class\": \"BatchNorm2d\", \"kargs\": {\"num_features\":80}},\n",
    "    {\"class\": \"Flatten\", \"kargs\": {}},\n",
    "\n",
    "    {\"class\": \"Linear\", \"kargs\": {\"in_features\": 80*256, \"out_features\": 256}}, # 80 units per IQ pair\n",
    "    {\"class\": \"ReLU\", \"kargs\": {\"inplace\": True}},\n",
    "    {\"class\": \"BatchNorm1d\", \"kargs\": {\"num_features\":256}},\n",
    "\n",
    "    {\"class\": \"Linear\", \"kargs\": {\"in_features\": 256, \"out_features\": 256}},\n",
    "]\n",
    "\n",
    "# Parameters relevant to results\n",
    "# These parameters will basically never need to change\n",
    "standalone_parameters[\"NUM_LOGS_PER_EPOCH\"] = 10\n",
    "standalone_parameters[\"BEST_MODEL_PATH\"] = \"./best_model.pth\"\n",
    "\n",
    "\n",
    "\n",
    "\n"
   ]
  },
  {
   "cell_type": "code",
   "execution_count": 4,
   "id": "84f9e53a",
   "metadata": {
    "execution": {
     "iopub.execute_input": "2022-03-18T17:44:47.431613Z",
     "iopub.status.busy": "2022-03-18T17:44:47.431218Z",
     "iopub.status.idle": "2022-03-18T17:44:47.444203Z",
     "shell.execute_reply": "2022-03-18T17:44:47.443986Z"
    },
    "papermill": {
     "duration": 0.038356,
     "end_time": "2022-03-18T17:44:47.444252",
     "exception": false,
     "start_time": "2022-03-18T17:44:47.405896",
     "status": "completed"
    },
    "tags": [
     "injected-parameters"
    ]
   },
   "outputs": [],
   "source": [
    "# Parameters\n",
    "parameters = {\n",
    "    \"experiment_name\": \"tl_3A:oracle.run1.framed -> cores+wisig\",\n",
    "    \"device\": \"cuda\",\n",
    "    \"lr\": 0.001,\n",
    "    \"seed\": 154325,\n",
    "    \"dataset_seed\": 154325,\n",
    "    \"x_shape\": [2, 200],\n",
    "    \"n_shot\": 3,\n",
    "    \"n_query\": 2,\n",
    "    \"train_k_factor\": 3,\n",
    "    \"val_k_factor\": 2,\n",
    "    \"test_k_factor\": 2,\n",
    "    \"torch_default_dtype\": \"torch.float32\",\n",
    "    \"n_epoch\": 50,\n",
    "    \"patience\": 3,\n",
    "    \"criteria_for_best\": \"target_loss\",\n",
    "    \"x_net\": [\n",
    "        {\"class\": \"nnReshape\", \"kargs\": {\"shape\": [-1, 1, 2, 200]}},\n",
    "        {\n",
    "            \"class\": \"Conv2d\",\n",
    "            \"kargs\": {\n",
    "                \"in_channels\": 1,\n",
    "                \"out_channels\": 256,\n",
    "                \"kernel_size\": [1, 7],\n",
    "                \"bias\": False,\n",
    "                \"padding\": [0, 3],\n",
    "            },\n",
    "        },\n",
    "        {\"class\": \"ReLU\", \"kargs\": {\"inplace\": True}},\n",
    "        {\"class\": \"BatchNorm2d\", \"kargs\": {\"num_features\": 256}},\n",
    "        {\n",
    "            \"class\": \"Conv2d\",\n",
    "            \"kargs\": {\n",
    "                \"in_channels\": 256,\n",
    "                \"out_channels\": 80,\n",
    "                \"kernel_size\": [2, 7],\n",
    "                \"bias\": True,\n",
    "                \"padding\": [0, 3],\n",
    "            },\n",
    "        },\n",
    "        {\"class\": \"ReLU\", \"kargs\": {\"inplace\": True}},\n",
    "        {\"class\": \"BatchNorm2d\", \"kargs\": {\"num_features\": 80}},\n",
    "        {\"class\": \"Flatten\", \"kargs\": {}},\n",
    "        {\"class\": \"Linear\", \"kargs\": {\"in_features\": 16000, \"out_features\": 256}},\n",
    "        {\"class\": \"ReLU\", \"kargs\": {\"inplace\": True}},\n",
    "        {\"class\": \"BatchNorm1d\", \"kargs\": {\"num_features\": 256}},\n",
    "        {\"class\": \"Linear\", \"kargs\": {\"in_features\": 256, \"out_features\": 256}},\n",
    "    ],\n",
    "    \"NUM_LOGS_PER_EPOCH\": 10,\n",
    "    \"BEST_MODEL_PATH\": \"./best_model.pth\",\n",
    "    \"n_way\": 16,\n",
    "    \"datasets\": [\n",
    "        {\n",
    "            \"labels\": [\n",
    "                \"1-10.\",\n",
    "                \"1-11.\",\n",
    "                \"1-15.\",\n",
    "                \"1-16.\",\n",
    "                \"1-17.\",\n",
    "                \"1-18.\",\n",
    "                \"1-19.\",\n",
    "                \"10-4.\",\n",
    "                \"10-7.\",\n",
    "                \"11-1.\",\n",
    "                \"11-14.\",\n",
    "                \"11-17.\",\n",
    "                \"11-20.\",\n",
    "                \"11-7.\",\n",
    "                \"13-20.\",\n",
    "                \"13-8.\",\n",
    "                \"14-10.\",\n",
    "                \"14-11.\",\n",
    "                \"14-14.\",\n",
    "                \"14-7.\",\n",
    "                \"15-1.\",\n",
    "                \"15-20.\",\n",
    "                \"16-1.\",\n",
    "                \"16-16.\",\n",
    "                \"17-10.\",\n",
    "                \"17-11.\",\n",
    "                \"17-2.\",\n",
    "                \"19-1.\",\n",
    "                \"19-16.\",\n",
    "                \"19-19.\",\n",
    "                \"19-20.\",\n",
    "                \"19-3.\",\n",
    "                \"2-10.\",\n",
    "                \"2-11.\",\n",
    "                \"2-17.\",\n",
    "                \"2-18.\",\n",
    "                \"2-20.\",\n",
    "                \"2-3.\",\n",
    "                \"2-4.\",\n",
    "                \"2-5.\",\n",
    "                \"2-6.\",\n",
    "                \"2-7.\",\n",
    "                \"2-8.\",\n",
    "                \"3-13.\",\n",
    "                \"3-18.\",\n",
    "                \"3-3.\",\n",
    "                \"4-1.\",\n",
    "                \"4-10.\",\n",
    "                \"4-11.\",\n",
    "                \"4-19.\",\n",
    "                \"5-5.\",\n",
    "                \"6-15.\",\n",
    "                \"7-10.\",\n",
    "                \"7-14.\",\n",
    "                \"8-18.\",\n",
    "                \"8-20.\",\n",
    "                \"8-3.\",\n",
    "                \"8-8.\",\n",
    "            ],\n",
    "            \"domains\": [1, 2, 3, 4, 5],\n",
    "            \"num_examples_per_domain_per_label\": 100,\n",
    "            \"pickle_path\": \"/mnt/wd500GB/CSC500/csc500-main/datasets/cores.stratified_ds.2022A.pkl\",\n",
    "            \"source_or_target_dataset\": \"target\",\n",
    "            \"x_transforms\": [\"unit_power\", \"take_200\"],\n",
    "            \"episode_transforms\": [],\n",
    "            \"domain_prefix\": \"C_A_\",\n",
    "        },\n",
    "        {\n",
    "            \"labels\": [\n",
    "                \"1-10\",\n",
    "                \"1-12\",\n",
    "                \"1-14\",\n",
    "                \"1-16\",\n",
    "                \"1-18\",\n",
    "                \"1-19\",\n",
    "                \"1-8\",\n",
    "                \"10-11\",\n",
    "                \"10-17\",\n",
    "                \"10-4\",\n",
    "                \"10-7\",\n",
    "                \"11-1\",\n",
    "                \"11-10\",\n",
    "                \"11-19\",\n",
    "                \"11-20\",\n",
    "                \"11-4\",\n",
    "                \"11-7\",\n",
    "                \"12-19\",\n",
    "                \"12-20\",\n",
    "                \"12-7\",\n",
    "                \"13-14\",\n",
    "                \"13-18\",\n",
    "                \"13-19\",\n",
    "                \"13-20\",\n",
    "                \"13-3\",\n",
    "                \"13-7\",\n",
    "                \"14-10\",\n",
    "                \"14-11\",\n",
    "                \"14-12\",\n",
    "                \"14-13\",\n",
    "                \"14-14\",\n",
    "                \"14-19\",\n",
    "                \"14-20\",\n",
    "                \"14-7\",\n",
    "                \"14-8\",\n",
    "                \"14-9\",\n",
    "                \"15-1\",\n",
    "                \"15-19\",\n",
    "                \"15-6\",\n",
    "                \"16-1\",\n",
    "                \"16-16\",\n",
    "                \"16-19\",\n",
    "                \"16-20\",\n",
    "                \"17-10\",\n",
    "                \"17-11\",\n",
    "                \"18-1\",\n",
    "                \"18-10\",\n",
    "                \"18-11\",\n",
    "                \"18-12\",\n",
    "                \"18-13\",\n",
    "                \"18-14\",\n",
    "                \"18-15\",\n",
    "                \"18-16\",\n",
    "                \"18-17\",\n",
    "                \"18-19\",\n",
    "                \"18-2\",\n",
    "                \"18-20\",\n",
    "                \"18-4\",\n",
    "                \"18-5\",\n",
    "                \"18-7\",\n",
    "                \"18-8\",\n",
    "                \"18-9\",\n",
    "                \"19-1\",\n",
    "                \"19-10\",\n",
    "                \"19-11\",\n",
    "                \"19-12\",\n",
    "                \"19-13\",\n",
    "                \"19-14\",\n",
    "                \"19-15\",\n",
    "                \"19-19\",\n",
    "                \"19-2\",\n",
    "                \"19-20\",\n",
    "                \"19-3\",\n",
    "                \"19-4\",\n",
    "                \"19-6\",\n",
    "                \"19-7\",\n",
    "                \"19-8\",\n",
    "                \"19-9\",\n",
    "                \"2-1\",\n",
    "                \"2-13\",\n",
    "                \"2-15\",\n",
    "                \"2-3\",\n",
    "                \"2-4\",\n",
    "                \"2-5\",\n",
    "                \"2-6\",\n",
    "                \"2-7\",\n",
    "                \"2-8\",\n",
    "                \"20-1\",\n",
    "                \"20-12\",\n",
    "                \"20-14\",\n",
    "                \"20-15\",\n",
    "                \"20-16\",\n",
    "                \"20-18\",\n",
    "                \"20-19\",\n",
    "                \"20-20\",\n",
    "                \"20-3\",\n",
    "                \"20-4\",\n",
    "                \"20-5\",\n",
    "                \"20-7\",\n",
    "                \"20-8\",\n",
    "                \"3-1\",\n",
    "                \"3-13\",\n",
    "                \"3-18\",\n",
    "                \"3-2\",\n",
    "                \"3-8\",\n",
    "                \"4-1\",\n",
    "                \"4-10\",\n",
    "                \"4-11\",\n",
    "                \"5-1\",\n",
    "                \"5-5\",\n",
    "                \"6-1\",\n",
    "                \"6-15\",\n",
    "                \"6-6\",\n",
    "                \"7-10\",\n",
    "                \"7-11\",\n",
    "                \"7-12\",\n",
    "                \"7-13\",\n",
    "                \"7-14\",\n",
    "                \"7-7\",\n",
    "                \"7-8\",\n",
    "                \"7-9\",\n",
    "                \"8-1\",\n",
    "                \"8-13\",\n",
    "                \"8-14\",\n",
    "                \"8-18\",\n",
    "                \"8-20\",\n",
    "                \"8-3\",\n",
    "                \"8-8\",\n",
    "                \"9-1\",\n",
    "                \"9-7\",\n",
    "            ],\n",
    "            \"domains\": [1, 2, 3, 4],\n",
    "            \"num_examples_per_domain_per_label\": 100,\n",
    "            \"pickle_path\": \"/mnt/wd500GB/CSC500/csc500-main/datasets/wisig.node3-19.stratified_ds.2022A.pkl\",\n",
    "            \"source_or_target_dataset\": \"target\",\n",
    "            \"x_transforms\": [\"unit_power\", \"take_200\"],\n",
    "            \"episode_transforms\": [],\n",
    "            \"domain_prefix\": \"W_A_\",\n",
    "        },\n",
    "        {\n",
    "            \"labels\": [\n",
    "                \"3123D52\",\n",
    "                \"3123D65\",\n",
    "                \"3123D79\",\n",
    "                \"3123D80\",\n",
    "                \"3123D54\",\n",
    "                \"3123D70\",\n",
    "                \"3123D7B\",\n",
    "                \"3123D89\",\n",
    "                \"3123D58\",\n",
    "                \"3123D76\",\n",
    "                \"3123D7D\",\n",
    "                \"3123EFE\",\n",
    "                \"3123D64\",\n",
    "                \"3123D78\",\n",
    "                \"3123D7E\",\n",
    "                \"3124E4A\",\n",
    "            ],\n",
    "            \"domains\": [32, 38, 8, 44, 14, 50, 20, 26],\n",
    "            \"num_examples_per_domain_per_label\": 2000,\n",
    "            \"pickle_path\": \"/mnt/wd500GB/CSC500/csc500-main/datasets/oracle.Run1_framed_2000Examples_stratified_ds.2022A.pkl\",\n",
    "            \"source_or_target_dataset\": \"source\",\n",
    "            \"x_transforms\": [\"unit_power\", \"take_200\", \"resample_20Msps_to_25Msps\"],\n",
    "            \"episode_transforms\": [],\n",
    "            \"domain_prefix\": \"ORACLE.run1_\",\n",
    "        },\n",
    "    ],\n",
    "}\n"
   ]
  },
  {
   "cell_type": "code",
   "execution_count": 5,
   "id": "8fa1cc33",
   "metadata": {
    "execution": {
     "iopub.execute_input": "2022-03-18T17:44:47.474466Z",
     "iopub.status.busy": "2022-03-18T17:44:47.474208Z",
     "iopub.status.idle": "2022-03-18T17:44:47.487398Z",
     "shell.execute_reply": "2022-03-18T17:44:47.486993Z"
    },
    "papermill": {
     "duration": 0.029757,
     "end_time": "2022-03-18T17:44:47.487488",
     "exception": false,
     "start_time": "2022-03-18T17:44:47.457731",
     "status": "completed"
    },
    "tags": []
   },
   "outputs": [],
   "source": [
    "# Set this to True if you want to run this template directly\n",
    "STANDALONE = False\n",
    "if STANDALONE:\n",
    "    print(\"parameters not injected, running with standalone_parameters\")\n",
    "    parameters = standalone_parameters\n",
    "\n",
    "if not 'parameters' in locals() and not 'parameters' in globals():\n",
    "    raise Exception(\"Parameter injection failed\")\n",
    "\n",
    "#Use an easy dict for all the parameters\n",
    "p = EasyDict(parameters)\n",
    "\n",
    "if \"x_shape\" not in p:\n",
    "    p.x_shape = [2,256] # Default to this if we dont supply x_shape\n",
    "\n",
    "\n",
    "supplied_keys = set(p.keys())\n",
    "\n",
    "if  supplied_keys != required_parameters:\n",
    "    print(\"Parameters are incorrect\")\n",
    "    if len(supplied_keys - required_parameters)>0: print(\"Shouldn't have:\", str(supplied_keys - required_parameters))\n",
    "    if len(required_parameters - supplied_keys)>0: print(\"Need to have:\", str(required_parameters - supplied_keys))\n",
    "    raise RuntimeError(\"Parameters are incorrect\")"
   ]
  },
  {
   "cell_type": "code",
   "execution_count": 6,
   "id": "3a028d58",
   "metadata": {
    "execution": {
     "iopub.execute_input": "2022-03-18T17:44:47.518984Z",
     "iopub.status.busy": "2022-03-18T17:44:47.518735Z",
     "iopub.status.idle": "2022-03-18T17:44:47.528702Z",
     "shell.execute_reply": "2022-03-18T17:44:47.528351Z"
    },
    "papermill": {
     "duration": 0.025843,
     "end_time": "2022-03-18T17:44:47.528772",
     "exception": false,
     "start_time": "2022-03-18T17:44:47.502929",
     "status": "completed"
    },
    "tags": []
   },
   "outputs": [],
   "source": [
    "###################################\n",
    "# Set the RNGs and make it all deterministic\n",
    "###################################\n",
    "np.random.seed(p.seed)\n",
    "random.seed(p.seed)\n",
    "torch.manual_seed(p.seed)\n",
    "\n",
    "torch.use_deterministic_algorithms(True) "
   ]
  },
  {
   "cell_type": "code",
   "execution_count": 7,
   "id": "b691acf6",
   "metadata": {
    "execution": {
     "iopub.execute_input": "2022-03-18T17:44:47.563079Z",
     "iopub.status.busy": "2022-03-18T17:44:47.562832Z",
     "iopub.status.idle": "2022-03-18T17:44:47.577197Z",
     "shell.execute_reply": "2022-03-18T17:44:47.576748Z"
    },
    "papermill": {
     "duration": 0.030226,
     "end_time": "2022-03-18T17:44:47.577287",
     "exception": false,
     "start_time": "2022-03-18T17:44:47.547061",
     "status": "completed"
    },
    "tags": []
   },
   "outputs": [],
   "source": [
    "###########################################\n",
    "# The stratified datasets honor this\n",
    "###########################################\n",
    "torch.set_default_dtype(eval(p.torch_default_dtype))"
   ]
  },
  {
   "cell_type": "code",
   "execution_count": 8,
   "id": "b5fba671",
   "metadata": {
    "execution": {
     "iopub.execute_input": "2022-03-18T17:44:47.611998Z",
     "iopub.status.busy": "2022-03-18T17:44:47.611752Z",
     "iopub.status.idle": "2022-03-18T17:44:47.646058Z",
     "shell.execute_reply": "2022-03-18T17:44:47.645670Z"
    },
    "papermill": {
     "duration": 0.050307,
     "end_time": "2022-03-18T17:44:47.646148",
     "exception": false,
     "start_time": "2022-03-18T17:44:47.595841",
     "status": "completed"
    },
    "tags": []
   },
   "outputs": [],
   "source": [
    "###################################\n",
    "# Build the network(s)\n",
    "# Note: It's critical to do this AFTER setting the RNG\n",
    "###################################\n",
    "x_net = build_sequential(p.x_net)"
   ]
  },
  {
   "cell_type": "code",
   "execution_count": 9,
   "id": "5d7e61cc",
   "metadata": {
    "execution": {
     "iopub.execute_input": "2022-03-18T17:44:47.682552Z",
     "iopub.status.busy": "2022-03-18T17:44:47.682304Z",
     "iopub.status.idle": "2022-03-18T17:44:47.697721Z",
     "shell.execute_reply": "2022-03-18T17:44:47.697271Z"
    },
    "papermill": {
     "duration": 0.031261,
     "end_time": "2022-03-18T17:44:47.697811",
     "exception": false,
     "start_time": "2022-03-18T17:44:47.666550",
     "status": "completed"
    },
    "tags": []
   },
   "outputs": [],
   "source": [
    "start_time_secs = time.time()"
   ]
  },
  {
   "cell_type": "code",
   "execution_count": 10,
   "id": "c6b67dfd",
   "metadata": {
    "execution": {
     "iopub.execute_input": "2022-03-18T17:44:47.730932Z",
     "iopub.status.busy": "2022-03-18T17:44:47.730685Z",
     "iopub.status.idle": "2022-03-18T17:44:47.740992Z",
     "shell.execute_reply": "2022-03-18T17:44:47.740688Z"
    },
    "papermill": {
     "duration": 0.025314,
     "end_time": "2022-03-18T17:44:47.741061",
     "exception": false,
     "start_time": "2022-03-18T17:44:47.715747",
     "status": "completed"
    },
    "tags": []
   },
   "outputs": [],
   "source": [
    "p.domains_source = []\n",
    "p.domains_target = []\n",
    "\n",
    "\n",
    "train_original_source = []\n",
    "val_original_source   = []\n",
    "test_original_source  = []\n",
    "\n",
    "train_original_target = []\n",
    "val_original_target   = []\n",
    "test_original_target  = []"
   ]
  },
  {
   "cell_type": "code",
   "execution_count": 11,
   "id": "e3d9c3d3",
   "metadata": {
    "execution": {
     "iopub.execute_input": "2022-03-18T17:44:47.774436Z",
     "iopub.status.busy": "2022-03-18T17:44:47.774175Z",
     "iopub.status.idle": "2022-03-18T17:44:47.789247Z",
     "shell.execute_reply": "2022-03-18T17:44:47.788815Z"
    },
    "papermill": {
     "duration": 0.030385,
     "end_time": "2022-03-18T17:44:47.789341",
     "exception": false,
     "start_time": "2022-03-18T17:44:47.758956",
     "status": "completed"
    },
    "tags": []
   },
   "outputs": [],
   "source": [
    "# global_x_transform_func = lambda x: normalize(x.to(torch.get_default_dtype()), \"unit_power\") # unit_power, unit_mag\n",
    "# global_x_transform_func = lambda x: normalize(x, \"unit_power\") # unit_power, unit_mag"
   ]
  },
  {
   "cell_type": "code",
   "execution_count": 12,
   "id": "acb78fd2",
   "metadata": {
    "execution": {
     "iopub.execute_input": "2022-03-18T17:44:47.826958Z",
     "iopub.status.busy": "2022-03-18T17:44:47.826687Z",
     "iopub.status.idle": "2022-03-18T17:44:47.837471Z",
     "shell.execute_reply": "2022-03-18T17:44:47.837024Z"
    },
    "papermill": {
     "duration": 0.028504,
     "end_time": "2022-03-18T17:44:47.837560",
     "exception": false,
     "start_time": "2022-03-18T17:44:47.809056",
     "status": "completed"
    },
    "tags": []
   },
   "outputs": [],
   "source": [
    "def add_dataset(\n",
    "    labels,\n",
    "    domains,\n",
    "    pickle_path,\n",
    "    x_transforms,\n",
    "    episode_transforms,\n",
    "    domain_prefix,\n",
    "    num_examples_per_domain_per_label,\n",
    "    source_or_target_dataset:str,\n",
    "    iterator_seed=p.seed,\n",
    "    dataset_seed=p.dataset_seed,\n",
    "    n_shot=p.n_shot,\n",
    "    n_way=p.n_way,\n",
    "    n_query=p.n_query,\n",
    "    train_val_test_k_factors=(p.train_k_factor,p.val_k_factor,p.test_k_factor),\n",
    "):\n",
    "   \n",
    "    if x_transforms == []: x_transform = None\n",
    "    else: x_transform = get_chained_transform(x_transforms)\n",
    "    \n",
    "    if episode_transforms == []: episode_transform = None\n",
    "    else: raise Exception(\"episode_transforms not implemented\")\n",
    "    \n",
    "    episode_transform = lambda tup, _prefix=domain_prefix: (_prefix + str(tup[0]), tup[1])\n",
    "\n",
    "\n",
    "    eaf = Episodic_Accessor_Factory(\n",
    "        labels=labels,\n",
    "        domains=domains,\n",
    "        num_examples_per_domain_per_label=num_examples_per_domain_per_label,\n",
    "        iterator_seed=iterator_seed,\n",
    "        dataset_seed=dataset_seed,\n",
    "        n_shot=n_shot,\n",
    "        n_way=n_way,\n",
    "        n_query=n_query,\n",
    "        train_val_test_k_factors=train_val_test_k_factors,\n",
    "        pickle_path=pickle_path,\n",
    "        x_transform_func=x_transform,\n",
    "    )\n",
    "\n",
    "    train, val, test = eaf.get_train(), eaf.get_val(), eaf.get_test()\n",
    "    train = Lazy_Iterable_Wrapper(train, episode_transform)\n",
    "    val = Lazy_Iterable_Wrapper(val, episode_transform)\n",
    "    test = Lazy_Iterable_Wrapper(test, episode_transform)\n",
    "\n",
    "    if source_or_target_dataset==\"source\":\n",
    "        train_original_source.append(train)\n",
    "        val_original_source.append(val)\n",
    "        test_original_source.append(test)\n",
    "\n",
    "        p.domains_source.extend(\n",
    "            [domain_prefix + str(u) for u in domains]\n",
    "        )\n",
    "    elif source_or_target_dataset==\"target\":\n",
    "        train_original_target.append(train)\n",
    "        val_original_target.append(val)\n",
    "        test_original_target.append(test)\n",
    "        p.domains_target.extend(\n",
    "            [domain_prefix + str(u) for u in domains]\n",
    "        )\n",
    "    else:\n",
    "        raise Exception(f\"invalid source_or_target_dataset: {source_or_target_dataset}\")\n",
    "    "
   ]
  },
  {
   "cell_type": "code",
   "execution_count": 13,
   "id": "fe266617",
   "metadata": {
    "execution": {
     "iopub.execute_input": "2022-03-18T17:44:47.871511Z",
     "iopub.status.busy": "2022-03-18T17:44:47.871257Z",
     "iopub.status.idle": "2022-03-18T17:45:26.875103Z",
     "shell.execute_reply": "2022-03-18T17:45:26.874624Z"
    },
    "papermill": {
     "duration": 39.019756,
     "end_time": "2022-03-18T17:45:26.875205",
     "exception": false,
     "start_time": "2022-03-18T17:44:47.855449",
     "status": "completed"
    },
    "tags": []
   },
   "outputs": [],
   "source": [
    "for ds in p.datasets:\n",
    "    add_dataset(**ds)"
   ]
  },
  {
   "cell_type": "code",
   "execution_count": 14,
   "id": "b90d65ac",
   "metadata": {
    "execution": {
     "iopub.execute_input": "2022-03-18T17:45:26.910867Z",
     "iopub.status.busy": "2022-03-18T17:45:26.910616Z",
     "iopub.status.idle": "2022-03-18T17:45:26.925546Z",
     "shell.execute_reply": "2022-03-18T17:45:26.925192Z"
    },
    "papermill": {
     "duration": 0.030781,
     "end_time": "2022-03-18T17:45:26.925616",
     "exception": false,
     "start_time": "2022-03-18T17:45:26.894835",
     "status": "completed"
    },
    "tags": []
   },
   "outputs": [],
   "source": [
    "# from steves_utils.CORES.utils import (\n",
    "#     ALL_NODES,\n",
    "#     ALL_NODES_MINIMUM_1000_EXAMPLES,\n",
    "#     ALL_DAYS\n",
    "# )\n",
    "\n",
    "# add_dataset(\n",
    "#     labels=ALL_NODES,\n",
    "#     domains = ALL_DAYS,\n",
    "#     num_examples_per_domain_per_label=100,\n",
    "#     pickle_path=os.path.join(get_datasets_base_path(), \"cores.stratified_ds.2022A.pkl\"),\n",
    "#     source_or_target_dataset=\"target\",\n",
    "#     x_transform_func=global_x_transform_func,\n",
    "#     domain_modifier=lambda u: f\"cores_{u}\"\n",
    "# )"
   ]
  },
  {
   "cell_type": "code",
   "execution_count": 15,
   "id": "76db484d",
   "metadata": {
    "execution": {
     "iopub.execute_input": "2022-03-18T17:45:26.959121Z",
     "iopub.status.busy": "2022-03-18T17:45:26.958872Z",
     "iopub.status.idle": "2022-03-18T17:45:26.973356Z",
     "shell.execute_reply": "2022-03-18T17:45:26.972904Z"
    },
    "papermill": {
     "duration": 0.029881,
     "end_time": "2022-03-18T17:45:26.973445",
     "exception": false,
     "start_time": "2022-03-18T17:45:26.943564",
     "status": "completed"
    },
    "tags": []
   },
   "outputs": [],
   "source": [
    "# from steves_utils.ORACLE.utils_v2 import (\n",
    "#     ALL_DISTANCES_FEET,\n",
    "#     ALL_RUNS,\n",
    "#     ALL_SERIAL_NUMBERS,\n",
    "# )\n",
    "\n",
    "\n",
    "# add_dataset(\n",
    "#     labels=ALL_SERIAL_NUMBERS,\n",
    "#     domains = list(set(ALL_DISTANCES_FEET) - {2,62}),\n",
    "#     num_examples_per_domain_per_label=100,\n",
    "#     pickle_path=os.path.join(get_datasets_base_path(), \"oracle.Run2_framed_2000Examples_stratified_ds.2022A.pkl\"),\n",
    "#     source_or_target_dataset=\"source\",\n",
    "#     x_transform_func=global_x_transform_func,\n",
    "#     domain_modifier=lambda u: f\"oracle1_{u}\"\n",
    "# )\n"
   ]
  },
  {
   "cell_type": "code",
   "execution_count": 16,
   "id": "97dea9d2",
   "metadata": {
    "execution": {
     "iopub.execute_input": "2022-03-18T17:45:27.007375Z",
     "iopub.status.busy": "2022-03-18T17:45:27.007102Z",
     "iopub.status.idle": "2022-03-18T17:45:27.021412Z",
     "shell.execute_reply": "2022-03-18T17:45:27.021107Z"
    },
    "papermill": {
     "duration": 0.029718,
     "end_time": "2022-03-18T17:45:27.021481",
     "exception": false,
     "start_time": "2022-03-18T17:45:26.991763",
     "status": "completed"
    },
    "tags": []
   },
   "outputs": [],
   "source": [
    "# from steves_utils.ORACLE.utils_v2 import (\n",
    "#     ALL_DISTANCES_FEET,\n",
    "#     ALL_RUNS,\n",
    "#     ALL_SERIAL_NUMBERS,\n",
    "# )\n",
    "\n",
    "\n",
    "# add_dataset(\n",
    "#     labels=ALL_SERIAL_NUMBERS,\n",
    "#     domains = list(set(ALL_DISTANCES_FEET) - {2,62,56}),\n",
    "#     num_examples_per_domain_per_label=100,\n",
    "#     pickle_path=os.path.join(get_datasets_base_path(), \"oracle.Run2_framed_2000Examples_stratified_ds.2022A.pkl\"),\n",
    "#     source_or_target_dataset=\"source\",\n",
    "#     x_transform_func=global_x_transform_func,\n",
    "#     domain_modifier=lambda u: f\"oracle2_{u}\"\n",
    "# )"
   ]
  },
  {
   "cell_type": "code",
   "execution_count": 17,
   "id": "6f289866",
   "metadata": {
    "execution": {
     "iopub.execute_input": "2022-03-18T17:45:27.053458Z",
     "iopub.status.busy": "2022-03-18T17:45:27.053201Z",
     "iopub.status.idle": "2022-03-18T17:45:27.063324Z",
     "shell.execute_reply": "2022-03-18T17:45:27.063613Z"
    },
    "papermill": {
     "duration": 0.025299,
     "end_time": "2022-03-18T17:45:27.063694",
     "exception": false,
     "start_time": "2022-03-18T17:45:27.038395",
     "status": "completed"
    },
    "tags": []
   },
   "outputs": [],
   "source": [
    "# add_dataset(\n",
    "#     labels=list(range(19)),\n",
    "#     domains = [0,1,2],\n",
    "#     num_examples_per_domain_per_label=100,\n",
    "#     pickle_path=os.path.join(get_datasets_base_path(), \"metehan.stratified_ds.2022A.pkl\"),\n",
    "#     source_or_target_dataset=\"target\",\n",
    "#     x_transform_func=global_x_transform_func,\n",
    "#     domain_modifier=lambda u: f\"met_{u}\"\n",
    "# )"
   ]
  },
  {
   "cell_type": "code",
   "execution_count": 18,
   "id": "86a863c3",
   "metadata": {
    "execution": {
     "iopub.execute_input": "2022-03-18T17:45:27.095657Z",
     "iopub.status.busy": "2022-03-18T17:45:27.095405Z",
     "iopub.status.idle": "2022-03-18T17:45:27.108609Z",
     "shell.execute_reply": "2022-03-18T17:45:27.108956Z"
    },
    "papermill": {
     "duration": 0.029138,
     "end_time": "2022-03-18T17:45:27.109061",
     "exception": false,
     "start_time": "2022-03-18T17:45:27.079923",
     "status": "completed"
    },
    "tags": []
   },
   "outputs": [],
   "source": [
    "# # from steves_utils.wisig.utils import (\n",
    "# #     ALL_NODES_MINIMUM_100_EXAMPLES,\n",
    "# #     ALL_NODES_MINIMUM_500_EXAMPLES,\n",
    "# #     ALL_NODES_MINIMUM_1000_EXAMPLES,\n",
    "# #     ALL_DAYS\n",
    "# # )\n",
    "\n",
    "# import steves_utils.wisig.utils as wisig\n",
    "\n",
    "\n",
    "# add_dataset(\n",
    "#     labels=wisig.ALL_NODES_MINIMUM_100_EXAMPLES,\n",
    "#     domains = wisig.ALL_DAYS,\n",
    "#     num_examples_per_domain_per_label=100,\n",
    "#     pickle_path=os.path.join(get_datasets_base_path(), \"wisig.node3-19.stratified_ds.2022A.pkl\"),\n",
    "#     source_or_target_dataset=\"target\",\n",
    "#     x_transform_func=global_x_transform_func,\n",
    "#     domain_modifier=lambda u: f\"wisig_{u}\"\n",
    "# )"
   ]
  },
  {
   "cell_type": "code",
   "execution_count": 19,
   "id": "fd5442bc",
   "metadata": {
    "execution": {
     "iopub.execute_input": "2022-03-18T17:45:27.146665Z",
     "iopub.status.busy": "2022-03-18T17:45:27.146399Z",
     "iopub.status.idle": "2022-03-18T17:45:27.160368Z",
     "shell.execute_reply": "2022-03-18T17:45:27.159923Z"
    },
    "papermill": {
     "duration": 0.032611,
     "end_time": "2022-03-18T17:45:27.160457",
     "exception": false,
     "start_time": "2022-03-18T17:45:27.127846",
     "status": "completed"
    },
    "tags": []
   },
   "outputs": [],
   "source": [
    "###################################\n",
    "# Build the dataset\n",
    "###################################\n",
    "train_original_source = Iterable_Aggregator(train_original_source, p.seed)\n",
    "val_original_source = Iterable_Aggregator(val_original_source, p.seed)\n",
    "test_original_source = Iterable_Aggregator(test_original_source, p.seed)\n",
    "\n",
    "\n",
    "train_original_target = Iterable_Aggregator(train_original_target, p.seed)\n",
    "val_original_target = Iterable_Aggregator(val_original_target, p.seed)\n",
    "test_original_target = Iterable_Aggregator(test_original_target, p.seed)\n",
    "\n",
    "# For CNN We only use X and Y. And we only train on the source.\n",
    "# Properly form the data using a transform lambda and Lazy_Iterable_Wrapper. Finally wrap them in a dataloader\n",
    "\n",
    "transform_lambda = lambda ex: ex[1] # Original is (<domain>, <episode>) so we strip down to episode only\n",
    "\n",
    "train_processed_source = Lazy_Iterable_Wrapper(train_original_source, transform_lambda)\n",
    "val_processed_source   = Lazy_Iterable_Wrapper(val_original_source, transform_lambda)\n",
    "test_processed_source  = Lazy_Iterable_Wrapper(test_original_source, transform_lambda)\n",
    "\n",
    "train_processed_target = Lazy_Iterable_Wrapper(train_original_target, transform_lambda)\n",
    "val_processed_target   = Lazy_Iterable_Wrapper(val_original_target, transform_lambda)\n",
    "test_processed_target  = Lazy_Iterable_Wrapper(test_original_target, transform_lambda)\n",
    "\n",
    "datasets = EasyDict({\n",
    "    \"source\": {\n",
    "        \"original\": {\"train\":train_original_source, \"val\":val_original_source, \"test\":test_original_source},\n",
    "        \"processed\": {\"train\":train_processed_source, \"val\":val_processed_source, \"test\":test_processed_source}\n",
    "    },\n",
    "    \"target\": {\n",
    "        \"original\": {\"train\":train_original_target, \"val\":val_original_target, \"test\":test_original_target},\n",
    "        \"processed\": {\"train\":train_processed_target, \"val\":val_processed_target, \"test\":test_processed_target}\n",
    "    },\n",
    "})"
   ]
  },
  {
   "cell_type": "code",
   "execution_count": 20,
   "id": "5b3c01fc",
   "metadata": {
    "execution": {
     "iopub.execute_input": "2022-03-18T17:45:27.196347Z",
     "iopub.status.busy": "2022-03-18T17:45:27.196103Z",
     "iopub.status.idle": "2022-03-18T17:45:32.135174Z",
     "shell.execute_reply": "2022-03-18T17:45:32.135623Z"
    },
    "papermill": {
     "duration": 4.956259,
     "end_time": "2022-03-18T17:45:32.135763",
     "exception": false,
     "start_time": "2022-03-18T17:45:27.179504",
     "status": "completed"
    },
    "tags": []
   },
   "outputs": [
    {
     "name": "stdout",
     "output_type": "stream",
     "text": [
      "{'ORACLE.run1_8', 'ORACLE.run1_20', 'ORACLE.run1_38', 'ORACLE.run1_26', 'ORACLE.run1_32', 'ORACLE.run1_44', 'ORACLE.run1_50', 'ORACLE.run1_14'}\n"
     ]
    },
    {
     "name": "stdout",
     "output_type": "stream",
     "text": [
      "{'C_A_3', 'W_A_1', 'W_A_3', 'W_A_4', 'C_A_5', 'W_A_2', 'C_A_1', 'C_A_2', 'C_A_4'}\n"
     ]
    },
    {
     "name": "stdout",
     "output_type": "stream",
     "text": [
      "tensor([[[-0.1931,  0.8758,  0.6037,  ...,  0.7041, -0.3185, -0.0391],\n",
      "         [-0.4046,  0.2170,  0.5919,  ..., -0.1595,  1.0219,  1.0211]],\n",
      "\n",
      "        [[ 0.0508,  1.1559,  0.4146,  ...,  0.4908,  0.3583,  0.9554],\n",
      "         [-0.3878, -0.3983,  0.2625,  ..., -0.2077,  1.1096,  0.3871]],\n",
      "\n",
      "        [[-0.6662, -0.4533,  0.6746,  ...,  0.4228,  0.8722, -0.3763],\n",
      "         [-0.4061, -1.1238,  0.1155,  ..., -0.6004, -0.6856, -1.1481]],\n",
      "\n",
      "        ...,\n",
      "\n",
      "        [[ 0.1025,  0.7138,  0.1906,  ...,  0.9573,  0.9426,  0.7095],\n",
      "         [-0.8851, -0.7284,  1.0025,  ...,  0.3112,  0.3567, -0.9834]],\n",
      "\n",
      "        [[-0.2577,  0.9077,  0.7996,  ...,  0.7522, -0.0283,  0.1294],\n",
      "         [-0.4825, -0.1084,  0.4870,  ..., -0.4464,  1.0524,  0.9217]],\n",
      "\n",
      "        [[-0.7522, -1.1439,  0.5260,  ..., -0.3526, -0.3789, -1.2930],\n",
      "         [ 0.5309,  0.0861, -0.7256,  ..., -0.8873, -0.9504,  0.1101]]])\n"
     ]
    }
   ],
   "source": [
    "from steves_utils.transforms import get_average_magnitude, get_average_power\n",
    "\n",
    "print(set([u for u,_ in val_original_source]))\n",
    "print(set([u for u,_ in val_original_target]))\n",
    "\n",
    "s_x, s_y, q_x, q_y, _ = next(iter(train_processed_source))\n",
    "print(s_x)\n",
    "\n",
    "# for ds in [\n",
    "#     train_processed_source,\n",
    "#     val_processed_source,\n",
    "#     test_processed_source,\n",
    "#     train_processed_target,\n",
    "#     val_processed_target,\n",
    "#     test_processed_target\n",
    "# ]:\n",
    "#     for s_x, s_y, q_x, q_y, _ in ds:\n",
    "#         for X in (s_x, q_x):\n",
    "#             for x in X:\n",
    "#                 assert np.isclose(get_average_magnitude(x.numpy()), 1.0)\n",
    "#                 assert np.isclose(get_average_power(x.numpy()), 1.0)\n",
    "                "
   ]
  },
  {
   "cell_type": "code",
   "execution_count": 21,
   "id": "bbdacba1",
   "metadata": {
    "execution": {
     "iopub.execute_input": "2022-03-18T17:45:32.179266Z",
     "iopub.status.busy": "2022-03-18T17:45:32.178976Z",
     "iopub.status.idle": "2022-03-18T17:45:32.227594Z",
     "shell.execute_reply": "2022-03-18T17:45:32.227974Z"
    },
    "papermill": {
     "duration": 0.066963,
     "end_time": "2022-03-18T17:45:32.228087",
     "exception": false,
     "start_time": "2022-03-18T17:45:32.161124",
     "status": "completed"
    },
    "tags": []
   },
   "outputs": [
    {
     "name": "stdout",
     "output_type": "stream",
     "text": [
      "(2, 200)\n"
     ]
    }
   ],
   "source": [
    "###################################\n",
    "# Build the model\n",
    "###################################\n",
    "# easfsl only wants a tuple for the shape\n",
    "model = Steves_Prototypical_Network(x_net, device=p.device, x_shape=tuple(p.x_shape))\n",
    "optimizer = Adam(params=model.parameters(), lr=p.lr)"
   ]
  },
  {
   "cell_type": "code",
   "execution_count": 22,
   "id": "22b39ac5",
   "metadata": {
    "execution": {
     "iopub.execute_input": "2022-03-18T17:45:32.265379Z",
     "iopub.status.busy": "2022-03-18T17:45:32.265101Z",
     "iopub.status.idle": "2022-03-18T17:58:52.857120Z",
     "shell.execute_reply": "2022-03-18T17:58:52.856882Z"
    },
    "papermill": {
     "duration": 800.610658,
     "end_time": "2022-03-18T17:58:52.857180",
     "exception": false,
     "start_time": "2022-03-18T17:45:32.246522",
     "status": "completed"
    },
    "tags": []
   },
   "outputs": [
    {
     "name": "stdout",
     "output_type": "stream",
     "text": [
      "epoch: 1, [batch: 1 / 6720], examples_per_second: 49.0027, train_label_loss: 3.2391, \n"
     ]
    },
    {
     "name": "stdout",
     "output_type": "stream",
     "text": [
      "epoch: 1, [batch: 672 / 6720], examples_per_second: 3572.9505, train_label_loss: 0.7349, \n"
     ]
    },
    {
     "name": "stdout",
     "output_type": "stream",
     "text": [
      "epoch: 1, [batch: 1344 / 6720], examples_per_second: 3647.5385, train_label_loss: 0.8392, \n"
     ]
    },
    {
     "name": "stdout",
     "output_type": "stream",
     "text": [
      "epoch: 1, [batch: 2016 / 6720], examples_per_second: 3671.5315, train_label_loss: 0.7416, \n"
     ]
    },
    {
     "name": "stdout",
     "output_type": "stream",
     "text": [
      "epoch: 1, [batch: 2688 / 6720], examples_per_second: 3611.3703, train_label_loss: 0.7125, \n"
     ]
    },
    {
     "name": "stdout",
     "output_type": "stream",
     "text": [
      "epoch: 1, [batch: 3360 / 6720], examples_per_second: 3646.2847, train_label_loss: 0.9826, \n"
     ]
    },
    {
     "name": "stdout",
     "output_type": "stream",
     "text": [
      "epoch: 1, [batch: 4032 / 6720], examples_per_second: 3627.6230, train_label_loss: 1.0073, \n"
     ]
    },
    {
     "name": "stdout",
     "output_type": "stream",
     "text": [
      "epoch: 1, [batch: 4704 / 6720], examples_per_second: 3614.3314, train_label_loss: 0.7047, \n"
     ]
    },
    {
     "name": "stdout",
     "output_type": "stream",
     "text": [
      "epoch: 1, [batch: 5376 / 6720], examples_per_second: 3635.9672, train_label_loss: 0.6934, \n"
     ]
    },
    {
     "name": "stdout",
     "output_type": "stream",
     "text": [
      "epoch: 1, [batch: 6048 / 6720], examples_per_second: 3630.6920, train_label_loss: 0.9032, \n"
     ]
    },
    {
     "name": "stdout",
     "output_type": "stream",
     "text": [
      "=============================================================\n",
      "epoch: 1, source_val_acc_label: 0.6108, target_val_acc_label: 0.6009, source_val_label_loss: 1.0971, target_val_label_loss: 4.8959, \n",
      "=============================================================\n"
     ]
    },
    {
     "name": "stdout",
     "output_type": "stream",
     "text": [
      "New best\n"
     ]
    },
    {
     "name": "stdout",
     "output_type": "stream",
     "text": [
      "epoch: 2, [batch: 1 / 6720], examples_per_second: 6.0408, train_label_loss: 0.7184, \n"
     ]
    },
    {
     "name": "stdout",
     "output_type": "stream",
     "text": [
      "epoch: 2, [batch: 672 / 6720], examples_per_second: 3612.8359, train_label_loss: 0.8886, \n"
     ]
    },
    {
     "name": "stdout",
     "output_type": "stream",
     "text": [
      "epoch: 2, [batch: 1344 / 6720], examples_per_second: 3637.4489, train_label_loss: 1.4005, \n"
     ]
    },
    {
     "name": "stdout",
     "output_type": "stream",
     "text": [
      "epoch: 2, [batch: 2016 / 6720], examples_per_second: 3629.7404, train_label_loss: 0.6507, \n"
     ]
    },
    {
     "name": "stdout",
     "output_type": "stream",
     "text": [
      "epoch: 2, [batch: 2688 / 6720], examples_per_second: 3618.8431, train_label_loss: 0.9118, \n"
     ]
    },
    {
     "name": "stdout",
     "output_type": "stream",
     "text": [
      "epoch: 2, [batch: 3360 / 6720], examples_per_second: 3593.9908, train_label_loss: 0.7728, \n"
     ]
    },
    {
     "name": "stdout",
     "output_type": "stream",
     "text": [
      "epoch: 2, [batch: 4032 / 6720], examples_per_second: 3619.1273, train_label_loss: 0.8064, \n"
     ]
    },
    {
     "name": "stdout",
     "output_type": "stream",
     "text": [
      "epoch: 2, [batch: 4704 / 6720], examples_per_second: 3609.5503, train_label_loss: 0.5267, \n"
     ]
    },
    {
     "name": "stdout",
     "output_type": "stream",
     "text": [
      "epoch: 2, [batch: 5376 / 6720], examples_per_second: 3637.9002, train_label_loss: 1.4286, \n"
     ]
    },
    {
     "name": "stdout",
     "output_type": "stream",
     "text": [
      "epoch: 2, [batch: 6048 / 6720], examples_per_second: 3621.2670, train_label_loss: 0.9738, \n"
     ]
    },
    {
     "name": "stdout",
     "output_type": "stream",
     "text": [
      "=============================================================\n",
      "epoch: 2, source_val_acc_label: 0.7114, target_val_acc_label: 0.6683, source_val_label_loss: 0.8033, target_val_label_loss: 5.0771, \n",
      "=============================================================\n"
     ]
    },
    {
     "name": "stdout",
     "output_type": "stream",
     "text": [
      "epoch: 3, [batch: 1 / 6720], examples_per_second: 6.0052, train_label_loss: 0.9491, \n"
     ]
    },
    {
     "name": "stdout",
     "output_type": "stream",
     "text": [
      "epoch: 3, [batch: 672 / 6720], examples_per_second: 3612.0975, train_label_loss: 0.5780, \n"
     ]
    },
    {
     "name": "stdout",
     "output_type": "stream",
     "text": [
      "epoch: 3, [batch: 1344 / 6720], examples_per_second: 3615.1131, train_label_loss: 0.9094, \n"
     ]
    },
    {
     "name": "stdout",
     "output_type": "stream",
     "text": [
      "epoch: 3, [batch: 2016 / 6720], examples_per_second: 3621.1674, train_label_loss: 0.8552, \n"
     ]
    },
    {
     "name": "stdout",
     "output_type": "stream",
     "text": [
      "epoch: 3, [batch: 2688 / 6720], examples_per_second: 3593.4566, train_label_loss: 0.5743, \n"
     ]
    },
    {
     "name": "stdout",
     "output_type": "stream",
     "text": [
      "epoch: 3, [batch: 3360 / 6720], examples_per_second: 3608.7121, train_label_loss: 0.4434, \n"
     ]
    },
    {
     "name": "stdout",
     "output_type": "stream",
     "text": [
      "epoch: 3, [batch: 4032 / 6720], examples_per_second: 3625.1569, train_label_loss: 0.7745, \n"
     ]
    },
    {
     "name": "stdout",
     "output_type": "stream",
     "text": [
      "epoch: 3, [batch: 4704 / 6720], examples_per_second: 3610.3607, train_label_loss: 0.4240, \n"
     ]
    },
    {
     "name": "stdout",
     "output_type": "stream",
     "text": [
      "epoch: 3, [batch: 5376 / 6720], examples_per_second: 3617.9040, train_label_loss: 0.2850, \n"
     ]
    },
    {
     "name": "stdout",
     "output_type": "stream",
     "text": [
      "epoch: 3, [batch: 6048 / 6720], examples_per_second: 3620.8144, train_label_loss: 0.8077, \n"
     ]
    },
    {
     "name": "stdout",
     "output_type": "stream",
     "text": [
      "=============================================================\n",
      "epoch: 3, source_val_acc_label: 0.7806, target_val_acc_label: 0.6514, source_val_label_loss: 0.6160, target_val_label_loss: 5.8672, \n",
      "=============================================================\n"
     ]
    },
    {
     "name": "stdout",
     "output_type": "stream",
     "text": [
      "epoch: 4, [batch: 1 / 6720], examples_per_second: 5.9940, train_label_loss: 0.6540, \n"
     ]
    },
    {
     "name": "stdout",
     "output_type": "stream",
     "text": [
      "epoch: 4, [batch: 672 / 6720], examples_per_second: 3618.5146, train_label_loss: 0.3554, \n"
     ]
    },
    {
     "name": "stdout",
     "output_type": "stream",
     "text": [
      "epoch: 4, [batch: 1344 / 6720], examples_per_second: 3637.7486, train_label_loss: 0.4097, \n"
     ]
    },
    {
     "name": "stdout",
     "output_type": "stream",
     "text": [
      "epoch: 4, [batch: 2016 / 6720], examples_per_second: 3661.7489, train_label_loss: 0.2834, \n"
     ]
    },
    {
     "name": "stdout",
     "output_type": "stream",
     "text": [
      "epoch: 4, [batch: 2688 / 6720], examples_per_second: 3618.2121, train_label_loss: 0.5708, \n"
     ]
    },
    {
     "name": "stdout",
     "output_type": "stream",
     "text": [
      "epoch: 4, [batch: 3360 / 6720], examples_per_second: 3634.1547, train_label_loss: 0.3073, \n"
     ]
    },
    {
     "name": "stdout",
     "output_type": "stream",
     "text": [
      "epoch: 4, [batch: 4032 / 6720], examples_per_second: 3609.4235, train_label_loss: 0.5811, \n"
     ]
    },
    {
     "name": "stdout",
     "output_type": "stream",
     "text": [
      "epoch: 4, [batch: 4704 / 6720], examples_per_second: 3620.1625, train_label_loss: 0.4804, \n"
     ]
    },
    {
     "name": "stdout",
     "output_type": "stream",
     "text": [
      "epoch: 4, [batch: 5376 / 6720], examples_per_second: 3611.7260, train_label_loss: 0.3787, \n"
     ]
    },
    {
     "name": "stdout",
     "output_type": "stream",
     "text": [
      "epoch: 4, [batch: 6048 / 6720], examples_per_second: 3608.2287, train_label_loss: 0.3996, \n"
     ]
    },
    {
     "name": "stdout",
     "output_type": "stream",
     "text": [
      "=============================================================\n",
      "epoch: 4, source_val_acc_label: 0.8024, target_val_acc_label: 0.6656, source_val_label_loss: 0.5445, target_val_label_loss: 5.7680, \n",
      "=============================================================\n"
     ]
    },
    {
     "name": "stdout",
     "output_type": "stream",
     "text": [
      "epoch: 5, [batch: 1 / 6720], examples_per_second: 6.0173, train_label_loss: 0.8826, \n"
     ]
    },
    {
     "name": "stdout",
     "output_type": "stream",
     "text": [
      "epoch: 5, [batch: 672 / 6720], examples_per_second: 3605.1813, train_label_loss: 0.5597, \n"
     ]
    },
    {
     "name": "stdout",
     "output_type": "stream",
     "text": [
      "epoch: 5, [batch: 1344 / 6720], examples_per_second: 3635.1301, train_label_loss: 0.4065, \n"
     ]
    },
    {
     "name": "stdout",
     "output_type": "stream",
     "text": [
      "epoch: 5, [batch: 2016 / 6720], examples_per_second: 3630.5701, train_label_loss: 0.9400, \n"
     ]
    },
    {
     "name": "stdout",
     "output_type": "stream",
     "text": [
      "epoch: 5, [batch: 2688 / 6720], examples_per_second: 3627.0111, train_label_loss: 0.3606, \n"
     ]
    },
    {
     "name": "stdout",
     "output_type": "stream",
     "text": [
      "epoch: 5, [batch: 3360 / 6720], examples_per_second: 3628.5428, train_label_loss: 1.0188, \n"
     ]
    },
    {
     "name": "stdout",
     "output_type": "stream",
     "text": [
      "epoch: 5, [batch: 4032 / 6720], examples_per_second: 3647.3278, train_label_loss: 0.2121, \n"
     ]
    },
    {
     "name": "stdout",
     "output_type": "stream",
     "text": [
      "epoch: 5, [batch: 4704 / 6720], examples_per_second: 3621.7520, train_label_loss: 0.5862, \n"
     ]
    },
    {
     "name": "stdout",
     "output_type": "stream",
     "text": [
      "epoch: 5, [batch: 5376 / 6720], examples_per_second: 3625.9420, train_label_loss: 0.4185, \n"
     ]
    },
    {
     "name": "stdout",
     "output_type": "stream",
     "text": [
      "epoch: 5, [batch: 6048 / 6720], examples_per_second: 3642.3747, train_label_loss: 0.6295, \n"
     ]
    },
    {
     "name": "stdout",
     "output_type": "stream",
     "text": [
      "=============================================================\n",
      "epoch: 5, source_val_acc_label: 0.8224, target_val_acc_label: 0.6742, source_val_label_loss: 0.4844, target_val_label_loss: 5.6616, \n",
      "=============================================================\n"
     ]
    },
    {
     "name": "stdout",
     "output_type": "stream",
     "text": [
      "Patience (3) exhausted\n"
     ]
    }
   ],
   "source": [
    "###################################\n",
    "# train\n",
    "###################################\n",
    "jig = PTN_Train_Eval_Test_Jig(model, p.BEST_MODEL_PATH, p.device)\n",
    "\n",
    "jig.train(\n",
    "    train_iterable=datasets.source.processed.train,\n",
    "    source_val_iterable=datasets.source.processed.val,\n",
    "    target_val_iterable=datasets.target.processed.val,\n",
    "    num_epochs=p.n_epoch,\n",
    "    num_logs_per_epoch=p.NUM_LOGS_PER_EPOCH,\n",
    "    patience=p.patience,\n",
    "    optimizer=optimizer,\n",
    "    criteria_for_best=p.criteria_for_best,\n",
    ")"
   ]
  },
  {
   "cell_type": "code",
   "execution_count": 23,
   "id": "31e8fabf",
   "metadata": {
    "execution": {
     "iopub.execute_input": "2022-03-18T17:58:52.910131Z",
     "iopub.status.busy": "2022-03-18T17:58:52.909879Z",
     "iopub.status.idle": "2022-03-18T17:58:52.929996Z",
     "shell.execute_reply": "2022-03-18T17:58:52.929581Z"
    },
    "papermill": {
     "duration": 0.048051,
     "end_time": "2022-03-18T17:58:52.930107",
     "exception": false,
     "start_time": "2022-03-18T17:58:52.882056",
     "status": "completed"
    },
    "tags": []
   },
   "outputs": [],
   "source": [
    "total_experiment_time_secs = time.time() - start_time_secs"
   ]
  },
  {
   "cell_type": "code",
   "execution_count": 24,
   "id": "87b9595b",
   "metadata": {
    "execution": {
     "iopub.execute_input": "2022-03-18T17:58:52.988559Z",
     "iopub.status.busy": "2022-03-18T17:58:52.988284Z",
     "iopub.status.idle": "2022-03-18T17:59:55.786132Z",
     "shell.execute_reply": "2022-03-18T17:59:55.785710Z"
    },
    "papermill": {
     "duration": 62.825989,
     "end_time": "2022-03-18T17:59:55.786249",
     "exception": false,
     "start_time": "2022-03-18T17:58:52.960260",
     "status": "completed"
    },
    "tags": []
   },
   "outputs": [],
   "source": [
    "###################################\n",
    "# Evaluate the model\n",
    "###################################\n",
    "source_test_label_accuracy, source_test_label_loss = jig.test(datasets.source.processed.test)\n",
    "target_test_label_accuracy, target_test_label_loss = jig.test(datasets.target.processed.test)\n",
    "\n",
    "source_val_label_accuracy, source_val_label_loss = jig.test(datasets.source.processed.val)\n",
    "target_val_label_accuracy, target_val_label_loss = jig.test(datasets.target.processed.val)\n",
    "\n",
    "history = jig.get_history()\n",
    "\n",
    "total_epochs_trained = len(history[\"epoch_indices\"])\n",
    "\n",
    "val_dl = Iterable_Aggregator((datasets.source.original.val,datasets.target.original.val))\n",
    "\n",
    "confusion = ptn_confusion_by_domain_over_dataloader(model, p.device, val_dl)\n",
    "per_domain_accuracy = per_domain_accuracy_from_confusion(confusion)\n",
    "\n",
    "# Add a key to per_domain_accuracy for if it was a source domain\n",
    "for domain, accuracy in per_domain_accuracy.items():\n",
    "    per_domain_accuracy[domain] = {\n",
    "        \"accuracy\": accuracy,\n",
    "        \"source?\": domain in p.domains_source\n",
    "    }\n",
    "\n",
    "# Do an independent accuracy assesment JUST TO BE SURE!\n",
    "# _source_test_label_accuracy = independent_accuracy_assesment(model, datasets.source.processed.test, p.device)\n",
    "# _target_test_label_accuracy = independent_accuracy_assesment(model, datasets.target.processed.test, p.device)\n",
    "# _source_val_label_accuracy = independent_accuracy_assesment(model, datasets.source.processed.val, p.device)\n",
    "# _target_val_label_accuracy = independent_accuracy_assesment(model, datasets.target.processed.val, p.device)\n",
    "\n",
    "# assert(_source_test_label_accuracy == source_test_label_accuracy)\n",
    "# assert(_target_test_label_accuracy == target_test_label_accuracy)\n",
    "# assert(_source_val_label_accuracy == source_val_label_accuracy)\n",
    "# assert(_target_val_label_accuracy == target_val_label_accuracy)\n",
    "\n",
    "experiment = {\n",
    "    \"experiment_name\": p.experiment_name,\n",
    "    \"parameters\": dict(p),\n",
    "    \"results\": {\n",
    "        \"source_test_label_accuracy\": source_test_label_accuracy,\n",
    "        \"source_test_label_loss\": source_test_label_loss,\n",
    "        \"target_test_label_accuracy\": target_test_label_accuracy,\n",
    "        \"target_test_label_loss\": target_test_label_loss,\n",
    "        \"source_val_label_accuracy\": source_val_label_accuracy,\n",
    "        \"source_val_label_loss\": source_val_label_loss,\n",
    "        \"target_val_label_accuracy\": target_val_label_accuracy,\n",
    "        \"target_val_label_loss\": target_val_label_loss,\n",
    "        \"total_epochs_trained\": total_epochs_trained,\n",
    "        \"total_experiment_time_secs\": total_experiment_time_secs,\n",
    "        \"confusion\": confusion,\n",
    "        \"per_domain_accuracy\": per_domain_accuracy,\n",
    "    },\n",
    "    \"history\": history,\n",
    "    \"dataset_metrics\": get_dataset_metrics(datasets, \"ptn\"),\n",
    "}"
   ]
  },
  {
   "cell_type": "code",
   "execution_count": 25,
   "id": "54a21829",
   "metadata": {
    "execution": {
     "iopub.execute_input": "2022-03-18T17:59:55.844545Z",
     "iopub.status.busy": "2022-03-18T17:59:55.844278Z",
     "iopub.status.idle": "2022-03-18T17:59:55.965890Z",
     "shell.execute_reply": "2022-03-18T17:59:55.966311Z"
    },
    "papermill": {
     "duration": 0.149256,
     "end_time": "2022-03-18T17:59:55.966454",
     "exception": false,
     "start_time": "2022-03-18T17:59:55.817198",
     "status": "completed"
    },
    "tags": []
   },
   "outputs": [
    {
     "data": {
      "image/png": "[encoded data removed]",
      "text/plain": [
       "<Figure size 1080x504 with 1 Axes>"
      ]
     },
     "metadata": {
      "needs_background": "light"
     },
     "output_type": "display_data"
    }
   ],
   "source": [
    "ax = get_loss_curve(experiment)\n",
    "plt.show()"
   ]
  },
  {
   "cell_type": "code",
   "execution_count": 26,
   "id": "fd8a0f60",
   "metadata": {
    "execution": {
     "iopub.execute_input": "2022-03-18T17:59:56.025473Z",
     "iopub.status.busy": "2022-03-18T17:59:56.025079Z",
     "iopub.status.idle": "2022-03-18T17:59:56.165683Z",
     "shell.execute_reply": "2022-03-18T17:59:56.165438Z"
    },
    "papermill": {
     "duration": 0.168555,
     "end_time": "2022-03-18T17:59:56.165747",
     "exception": false,
     "start_time": "2022-03-18T17:59:55.997192",
     "status": "completed"
    },
    "tags": []
   },
   "outputs": [
    {
     "data": {
      "text/plain": [
       "<AxesSubplot:title={'center':'Results'}>"
      ]
     },
     "execution_count": 26,
     "metadata": {},
     "output_type": "execute_result"
    },
    {
     "data": {
      "image/png": "[encoded data removed]",
      "text/plain": [
       "<Figure size 1080x504 with 1 Axes>"
      ]
     },
     "metadata": {
      "needs_background": "light"
     },
     "output_type": "display_data"
    }
   ],
   "source": [
    "get_results_table(experiment)"
   ]
  },
  {
   "cell_type": "code",
   "execution_count": 27,
   "id": "cf8dc689",
   "metadata": {
    "execution": {
     "iopub.execute_input": "2022-03-18T17:59:56.224282Z",
     "iopub.status.busy": "2022-03-18T17:59:56.223883Z",
     "iopub.status.idle": "2022-03-18T17:59:56.382518Z",
     "shell.execute_reply": "2022-03-18T17:59:56.382282Z"
    },
    "papermill": {
     "duration": 0.187737,
     "end_time": "2022-03-18T17:59:56.382586",
     "exception": false,
     "start_time": "2022-03-18T17:59:56.194849",
     "status": "completed"
    },
    "tags": []
   },
   "outputs": [
    {
     "data": {
      "text/plain": [
       "<AxesSubplot:title={'center':'Per Domain Validation Accuracy'}, xlabel='domain'>"
      ]
     },
     "execution_count": 27,
     "metadata": {},
     "output_type": "execute_result"
    },
    {
     "data": {
      "image/png": "[encoded data removed]",
      "text/plain": [
       "<Figure size 1080x504 with 1 Axes>"
      ]
     },
     "metadata": {
      "needs_background": "light"
     },
     "output_type": "display_data"
    }
   ],
   "source": [
    "get_domain_accuracies(experiment)"
   ]
  },
  {
   "cell_type": "code",
   "execution_count": 28,
   "id": "a74ae082",
   "metadata": {
    "execution": {
     "iopub.execute_input": "2022-03-18T17:59:56.444618Z",
     "iopub.status.busy": "2022-03-18T17:59:56.444349Z",
     "iopub.status.idle": "2022-03-18T17:59:56.463559Z",
     "shell.execute_reply": "2022-03-18T17:59:56.463961Z"
    },
    "papermill": {
     "duration": 0.049828,
     "end_time": "2022-03-18T17:59:56.464088",
     "exception": false,
     "start_time": "2022-03-18T17:59:56.414260",
     "status": "completed"
    },
    "tags": []
   },
   "outputs": [
    {
     "name": "stdout",
     "output_type": "stream",
     "text": [
      "Source Test Label Accuracy: 0.60703125 Target Test Label Accuracy: 0.6005154639175257\n",
      "Source Val Label Accuracy: 0.61083984375 Target Val Label Accuracy: 0.6009450171821306\n"
     ]
    }
   ],
   "source": [
    "print(\"Source Test Label Accuracy:\", experiment[\"results\"][\"source_test_label_accuracy\"], \"Target Test Label Accuracy:\", experiment[\"results\"][\"target_test_label_accuracy\"])\n",
    "print(\"Source Val Label Accuracy:\", experiment[\"results\"][\"source_val_label_accuracy\"], \"Target Val Label Accuracy:\", experiment[\"results\"][\"target_val_label_accuracy\"])"
   ]
  },
  {
   "cell_type": "code",
   "execution_count": 29,
   "id": "dacca602",
   "metadata": {
    "execution": {
     "iopub.execute_input": "2022-03-18T17:59:56.527385Z",
     "iopub.status.busy": "2022-03-18T17:59:56.526884Z",
     "iopub.status.idle": "2022-03-18T17:59:56.540291Z",
     "shell.execute_reply": "2022-03-18T17:59:56.540509Z"
    },
    "papermill": {
     "duration": 0.044503,
     "end_time": "2022-03-18T17:59:56.540586",
     "exception": false,
     "start_time": "2022-03-18T17:59:56.496083",
     "status": "completed"
    },
    "tags": [
     "experiment_json"
    ]
   },
   "outputs": [
    {
     "data": {
      "text/plain": [
       "'{\"experiment_name\": \"tl_3A:oracle.run1.framed -> cores+wisig\", \"parameters\": {\"experiment_name\": \"tl_3A:oracle.run1.framed -> cores+wisig\", \"device\": \"cuda\", \"lr\": 0.001, \"seed\": 154325, \"dataset_seed\": 154325, \"x_shape\": [2, 200], \"n_shot\": 3, \"n_query\": 2, \"train_k_factor\": 3, \"val_k_factor\": 2, \"test_k_factor\": 2, \"torch_default_dtype\": \"torch.float32\", \"n_epoch\": 50, \"patience\": 3, \"criteria_for_best\": \"target_loss\", \"x_net\": [{\"class\": \"nnReshape\", \"kargs\": {\"shape\": [-1, 1, 2, 200]}}, {\"class\": \"Conv2d\", \"kargs\": {\"in_channels\": 1, \"out_channels\": 256, \"kernel_size\": [1, 7], \"bias\": false, \"padding\": [0, 3]}}, {\"class\": \"ReLU\", \"kargs\": {\"inplace\": true}}, {\"class\": \"BatchNorm2d\", \"kargs\": {\"num_features\": 256}}, {\"class\": \"Conv2d\", \"kargs\": {\"in_channels\": 256, \"out_channels\": 80, \"kernel_size\": [2, 7], \"bias\": true, \"padding\": [0, 3]}}, {\"class\": \"ReLU\", \"kargs\": {\"inplace\": true}}, {\"class\": \"BatchNorm2d\", \"kargs\": {\"num_features\": 80}}, {\"class\": \"Flatten\", \"kargs\": {}}, {\"class\": \"Linear\", \"kargs\": {\"in_features\": 16000, \"out_features\": 256}}, {\"class\": \"ReLU\", \"kargs\": {\"inplace\": true}}, {\"class\": \"BatchNorm1d\", \"kargs\": {\"num_features\": 256}}, {\"class\": \"Linear\", \"kargs\": {\"in_features\": 256, \"out_features\": 256}}], \"NUM_LOGS_PER_EPOCH\": 10, \"BEST_MODEL_PATH\": \"./best_model.pth\", \"n_way\": 16, \"datasets\": [{\"labels\": [\"1-10.\", \"1-11.\", \"1-15.\", \"1-16.\", \"1-17.\", \"1-18.\", \"1-19.\", \"10-4.\", \"10-7.\", \"11-1.\", \"11-14.\", \"11-17.\", \"11-20.\", \"11-7.\", \"13-20.\", \"13-8.\", \"14-10.\", \"14-11.\", \"14-14.\", \"14-7.\", \"15-1.\", \"15-20.\", \"16-1.\", \"16-16.\", \"17-10.\", \"17-11.\", \"17-2.\", \"19-1.\", \"19-16.\", \"19-19.\", \"19-20.\", \"19-3.\", \"2-10.\", \"2-11.\", \"2-17.\", \"2-18.\", \"2-20.\", \"2-3.\", \"2-4.\", \"2-5.\", \"2-6.\", \"2-7.\", \"2-8.\", \"3-13.\", \"3-18.\", \"3-3.\", \"4-1.\", \"4-10.\", \"4-11.\", \"4-19.\", \"5-5.\", \"6-15.\", \"7-10.\", \"7-14.\", \"8-18.\", \"8-20.\", \"8-3.\", \"8-8.\"], \"domains\": [1, 2, 3, 4, 5], \"num_examples_per_domain_per_label\": 100, \"pickle_path\": \"/mnt/wd500GB/CSC500/csc500-main/datasets/cores.stratified_ds.2022A.pkl\", \"source_or_target_dataset\": \"target\", \"x_transforms\": [\"unit_power\", \"take_200\"], \"episode_transforms\": [], \"domain_prefix\": \"C_A_\"}, {\"labels\": [\"1-10\", \"1-12\", \"1-14\", \"1-16\", \"1-18\", \"1-19\", \"1-8\", \"10-11\", \"10-17\", \"10-4\", \"10-7\", \"11-1\", \"11-10\", \"11-19\", \"11-20\", \"11-4\", \"11-7\", \"12-19\", \"12-20\", \"12-7\", \"13-14\", \"13-18\", \"13-19\", \"13-20\", \"13-3\", \"13-7\", \"14-10\", \"14-11\", \"14-12\", \"14-13\", \"14-14\", \"14-19\", \"14-20\", \"14-7\", \"14-8\", \"14-9\", \"15-1\", \"15-19\", \"15-6\", \"16-1\", \"16-16\", \"16-19\", \"16-20\", \"17-10\", \"17-11\", \"18-1\", \"18-10\", \"18-11\", \"18-12\", \"18-13\", \"18-14\", \"18-15\", \"18-16\", \"18-17\", \"18-19\", \"18-2\", \"18-20\", \"18-4\", \"18-5\", \"18-7\", \"18-8\", \"18-9\", \"19-1\", \"19-10\", \"19-11\", \"19-12\", \"19-13\", \"19-14\", \"19-15\", \"19-19\", \"19-2\", \"19-20\", \"19-3\", \"19-4\", \"19-6\", \"19-7\", \"19-8\", \"19-9\", \"2-1\", \"2-13\", \"2-15\", \"2-3\", \"2-4\", \"2-5\", \"2-6\", \"2-7\", \"2-8\", \"20-1\", \"20-12\", \"20-14\", \"20-15\", \"20-16\", \"20-18\", \"20-19\", \"20-20\", \"20-3\", \"20-4\", \"20-5\", \"20-7\", \"20-8\", \"3-1\", \"3-13\", \"3-18\", \"3-2\", \"3-8\", \"4-1\", \"4-10\", \"4-11\", \"5-1\", \"5-5\", \"6-1\", \"6-15\", \"6-6\", \"7-10\", \"7-11\", \"7-12\", \"7-13\", \"7-14\", \"7-7\", \"7-8\", \"7-9\", \"8-1\", \"8-13\", \"8-14\", \"8-18\", \"8-20\", \"8-3\", \"8-8\", \"9-1\", \"9-7\"], \"domains\": [1, 2, 3, 4], \"num_examples_per_domain_per_label\": 100, \"pickle_path\": \"/mnt/wd500GB/CSC500/csc500-main/datasets/wisig.node3-19.stratified_ds.2022A.pkl\", \"source_or_target_dataset\": \"target\", \"x_transforms\": [\"unit_power\", \"take_200\"], \"episode_transforms\": [], \"domain_prefix\": \"W_A_\"}, {\"labels\": [\"3123D52\", \"3123D65\", \"3123D79\", \"3123D80\", \"3123D54\", \"3123D70\", \"3123D7B\", \"3123D89\", \"3123D58\", \"3123D76\", \"3123D7D\", \"3123EFE\", \"3123D64\", \"3123D78\", \"3123D7E\", \"3124E4A\"], \"domains\": [32, 38, 8, 44, 14, 50, 20, 26], \"num_examples_per_domain_per_label\": 2000, \"pickle_path\": \"/mnt/wd500GB/CSC500/csc500-main/datasets/oracle.Run1_framed_2000Examples_stratified_ds.2022A.pkl\", \"source_or_target_dataset\": \"source\", \"x_transforms\": [\"unit_power\", \"take_200\", \"resample_20Msps_to_25Msps\"], \"episode_transforms\": [], \"domain_prefix\": \"ORACLE.run1_\"}], \"domains_source\": [\"ORACLE.run1_32\", \"ORACLE.run1_38\", \"ORACLE.run1_8\", \"ORACLE.run1_44\", \"ORACLE.run1_14\", \"ORACLE.run1_50\", \"ORACLE.run1_20\", \"ORACLE.run1_26\"], \"domains_target\": [\"C_A_1\", \"C_A_2\", \"C_A_3\", \"C_A_4\", \"C_A_5\", \"W_A_1\", \"W_A_2\", \"W_A_3\", \"W_A_4\"]}, \"results\": {\"source_test_label_accuracy\": 0.60703125, \"source_test_label_loss\": 1.0932488441467285, \"target_test_label_accuracy\": 0.6005154639175257, \"target_test_label_loss\": 4.993675708770752, \"source_val_label_accuracy\": 0.61083984375, \"source_val_label_loss\": 1.0971264839172363, \"target_val_label_accuracy\": 0.6009450171821306, \"target_val_label_loss\": 4.8958821296691895, \"total_epochs_trained\": 5, \"total_experiment_time_secs\": 845.2319869995117, \"confusion\": {\"ORACLE.run1_8\": {\"13\": {\"10\": 27, \"6\": 10, \"13\": 73, \"0\": 68, \"4\": 40, \"14\": 20, \"7\": 2}, \"9\": {\"9\": 240}, \"15\": {\"15\": 185, \"12\": 36, \"8\": 17, \"3\": 2}, \"2\": {\"2\": 194, \"15\": 3, \"3\": 38, \"7\": 5}, \"3\": {\"3\": 196, \"12\": 19, \"2\": 22, \"15\": 3}, \"8\": {\"8\": 230, \"15\": 9, \"7\": 1}, \"5\": {\"1\": 5, \"5\": 215, \"10\": 15, \"11\": 2, \"14\": 3}, \"14\": {\"10\": 58, \"4\": 43, \"14\": 109, \"1\": 2, \"13\": 22, \"11\": 5, \"6\": 1}, \"1\": {\"1\": 138, \"11\": 93, \"14\": 8, \"10\": 1}, \"0\": {\"0\": 158, \"13\": 48, \"7\": 14, \"6\": 9, \"10\": 3, \"4\": 7, \"14\": 1}, \"10\": {\"10\": 154, \"14\": 68, \"13\": 12, \"4\": 2, \"11\": 2, \"5\": 1, \"1\": 1}, \"6\": {\"6\": 134, \"7\": 68, \"4\": 24, \"0\": 5, \"8\": 3, \"13\": 6}, \"11\": {\"11\": 123, \"1\": 94, \"5\": 14, \"14\": 3, \"10\": 3, \"8\": 2, \"4\": 1}, \"7\": {\"7\": 166, \"6\": 65, \"0\": 6, \"4\": 3}, \"4\": {\"4\": 127, \"6\": 28, \"13\": 51, \"14\": 20, \"0\": 8, \"7\": 2, \"10\": 4}, \"12\": {\"3\": 25, \"12\": 137, \"15\": 73, \"8\": 5}}, \"ORACLE.run1_38\": {\"13\": {\"13\": 110, \"1\": 13, \"14\": 3, \"10\": 20, \"15\": 74, \"8\": 4, \"2\": 16}, \"12\": {\"4\": 39, \"12\": 189, \"10\": 11, \"8\": 1}, \"2\": {\"2\": 199, \"11\": 3, \"14\": 21, \"13\": 16, \"15\": 1}, \"9\": {\"9\": 124, \"6\": 88, \"3\": 19, \"5\": 4, \"7\": 1, \"1\": 1, \"0\": 3}, \"15\": {\"13\": 56, \"15\": 124, \"1\": 35, \"8\": 11, \"5\": 5, \"10\": 8, \"0\": 1}, \"5\": {\"8\": 37, \"15\": 10, \"5\": 103, \"6\": 18, \"0\": 32, \"7\": 24, \"1\": 7, \"3\": 3, \"10\": 2, \"9\": 3, \"13\": 1}, \"14\": {\"14\": 162, \"11\": 53, \"10\": 10, \"2\": 13, \"12\": 2}, \"0\": {\"0\": 52, \"7\": 67, \"5\": 33, \"8\": 61, \"10\": 8, \"3\": 10, \"6\": 3, \"12\": 2, \"15\": 4}, \"3\": {\"9\": 45, \"3\": 158, \"6\": 12, \"5\": 3, \"7\": 11, \"0\": 10, \"8\": 1}, \"1\": {\"1\": 217, \"15\": 19, \"13\": 4}, \"11\": {\"11\": 109, \"14\": 103, \"2\": 13, \"10\": 9, \"12\": 2, \"4\": 2, \"13\": 1, \"15\": 1}, \"7\": {\"0\": 56, \"7\": 149, \"5\": 15, \"8\": 18, \"4\": 2}, \"8\": {\"13\": 1, \"15\": 15, \"8\": 119, \"1\": 3, \"0\": 38, \"5\": 32, \"7\": 16, \"10\": 16}, \"4\": {\"4\": 197, \"12\": 43}, \"10\": {\"10\": 162, \"13\": 16, \"12\": 12, \"14\": 8, \"8\": 15, \"15\": 11, \"0\": 3, \"7\": 4, \"2\": 6, \"11\": 1, \"5\": 2}, \"6\": {\"9\": 64, \"6\": 170, \"5\": 6}}, \"ORACLE.run1_26\": {\"10\": {\"8\": 37, \"0\": 58, \"6\": 27, \"4\": 7, \"9\": 4, \"10\": 71, \"14\": 27, \"1\": 5, \"7\": 3, \"15\": 1}, \"12\": {\"12\": 238, \"11\": 2}, \"1\": {\"0\": 24, \"1\": 84, \"4\": 40, \"14\": 59, \"10\": 15, \"7\": 7, \"8\": 10, \"3\": 1}, \"0\": {\"10\": 50, \"8\": 23, \"1\": 27, \"0\": 51, \"9\": 1, \"4\": 44, \"7\": 5, \"14\": 37, \"6\": 2}, \"15\": {\"8\": 27, \"15\": 56, \"2\": 25, \"9\": 53, \"6\": 10, \"5\": 42, \"3\": 3, \"13\": 16, \"10\": 3, \"4\": 1, \"7\": 4}, \"13\": {\"5\": 49, \"13\": 166, \"2\": 6, \"9\": 4, \"15\": 10, \"8\": 1, \"6\": 3, \"12\": 1}, \"8\": {\"6\": 20, \"8\": 74, \"15\": 18, \"7\": 16, \"9\": 28, \"4\": 15, \"0\": 25, \"10\": 36, \"14\": 4, \"1\": 1, \"2\": 3}, \"3\": {\"2\": 61, \"3\": 129, \"7\": 45, \"4\": 2, \"8\": 1, \"5\": 1, \"15\": 1}, \"11\": {\"11\": 236, \"12\": 4}, \"4\": {\"0\": 37, \"10\": 16, \"14\": 56, \"1\": 30, \"4\": 66, \"8\": 17, \"7\": 17, \"15\": 1}, \"6\": {\"6\": 155, \"15\": 12, \"10\": 23, \"0\": 3, \"9\": 28, \"8\": 16, \"13\": 2, \"5\": 1}, \"7\": {\"15\": 4, \"14\": 2, \"3\": 44, \"7\": 109, \"2\": 21, \"4\": 27, \"8\": 20, \"0\": 11, \"5\": 1, \"9\": 1}, \"14\": {\"1\": 61, \"14\": 51, \"0\": 42, \"10\": 22, \"4\": 46, \"8\": 10, \"7\": 6, \"15\": 1, \"6\": 1}, \"2\": {\"2\": 89, \"5\": 18, \"15\": 27, \"7\": 29, \"9\": 13, \"3\": 57, \"6\": 1, \"8\": 5, \"4\": 1}, \"5\": {\"15\": 50, \"5\": 95, \"13\": 50, \"9\": 25, \"2\": 13, \"6\": 6, \"8\": 1}, \"9\": {\"6\": 36, \"9\": 76, \"8\": 21, \"5\": 28, \"15\": 55, \"2\": 6, \"3\": 3, \"13\": 9, \"10\": 2, \"7\": 2, \"0\": 2}}, \"ORACLE.run1_20\": {\"5\": {\"12\": 47, \"5\": 78, \"15\": 8, \"0\": 41, \"1\": 43, \"2\": 1, \"3\": 19, \"9\": 2, \"4\": 1}, \"15\": {\"15\": 136, \"1\": 53, \"5\": 5, \"0\": 34, \"13\": 9, \"2\": 2, \"9\": 1}, \"9\": {\"9\": 73, \"3\": 34, \"2\": 67, \"12\": 25, \"13\": 10, \"0\": 7, \"7\": 16, \"1\": 3, \"5\": 3, \"4\": 1, \"15\": 1}, \"7\": {\"8\": 11, \"2\": 39, \"7\": 154, \"3\": 19, \"9\": 15, \"12\": 1, \"4\": 1}, \"3\": {\"9\": 31, \"3\": 113, \"5\": 16, \"12\": 33, \"2\": 13, \"0\": 5, \"4\": 9, \"1\": 4, \"7\": 11, \"8\": 4, \"15\": 1}, \"8\": {\"8\": 155, \"10\": 38, \"7\": 14, \"4\": 21, \"6\": 3, \"9\": 2, \"3\": 4, \"14\": 3}, \"4\": {\"4\": 188, \"8\": 26, \"3\": 8, \"1\": 1, \"14\": 1, \"5\": 5, \"10\": 10, \"12\": 1}, \"6\": {\"14\": 28, \"6\": 198, \"8\": 7, \"7\": 4, \"10\": 3}, \"2\": {\"2\": 83, \"9\": 73, \"7\": 36, \"1\": 1, \"12\": 15, \"13\": 15, \"3\": 12, \"5\": 3, \"0\": 2}, \"12\": {\"0\": 33, \"5\": 41, \"9\": 19, \"12\": 48, \"3\": 49, \"2\": 10, \"1\": 30, \"4\": 3, \"15\": 6, \"8\": 1}, \"0\": {\"9\": 10, \"12\": 46, \"3\": 20, \"0\": 41, \"5\": 40, \"1\": 37, \"15\": 40, \"7\": 1, \"2\": 4, \"13\": 1}, \"13\": {\"9\": 13, \"13\": 200, \"5\": 1, \"2\": 20, \"15\": 4, \"7\": 1, \"0\": 1}, \"10\": {\"10\": 182, \"8\": 33, \"14\": 19, \"4\": 5, \"6\": 1}, \"11\": {\"11\": 240}, \"14\": {\"14\": 171, \"10\": 34, \"6\": 28, \"8\": 7}, \"1\": {\"15\": 52, \"1\": 67, \"5\": 42, \"12\": 22, \"0\": 47, \"3\": 5, \"9\": 2, \"2\": 1, \"13\": 2}}, \"ORACLE.run1_50\": {\"1\": {\"6\": 40, \"1\": 101, \"4\": 43, \"2\": 3, \"15\": 45, \"14\": 2, \"11\": 2, \"13\": 1, \"5\": 3}, \"2\": {\"2\": 220, \"0\": 20}, \"8\": {\"8\": 231, \"3\": 8, \"10\": 1}, \"7\": {\"6\": 2, \"5\": 42, \"7\": 105, \"1\": 1, \"10\": 21, \"13\": 65, \"4\": 3, \"0\": 1}, \"14\": {\"14\": 230, \"12\": 6, \"11\": 3, \"9\": 1}, \"6\": {\"13\": 19, \"4\": 51, \"1\": 50, \"5\": 21, \"6\": 89, \"15\": 6, \"7\": 1, \"14\": 2, \"2\": 1}, \"3\": {\"3\": 231, \"8\": 9}, \"4\": {\"1\": 60, \"4\": 62, \"15\": 36, \"5\": 28, \"14\": 2, \"6\": 39, \"13\": 8, \"2\": 1, \"7\": 3, \"11\": 1}, \"12\": {\"12\": 197, \"9\": 20, \"14\": 21, \"11\": 2}, \"15\": {\"15\": 149, \"1\": 37, \"11\": 24, \"4\": 28, \"6\": 2}, \"11\": {\"11\": 187, \"14\": 10, \"9\": 16, \"15\": 26, \"1\": 1}, \"0\": {\"0\": 201, \"10\": 8, \"2\": 29, \"13\": 2}, \"9\": {\"9\": 152, \"12\": 36, \"11\": 47, \"14\": 5}, \"10\": {\"10\": 195, \"7\": 20, \"8\": 8, \"0\": 14, \"5\": 2, \"13\": 1}, \"5\": {\"6\": 33, \"1\": 12, \"13\": 49, \"7\": 54, \"5\": 58, \"4\": 31, \"10\": 2, \"0\": 1}, \"13\": {\"7\": 43, \"13\": 112, \"5\": 56, \"1\": 1, \"6\": 12, \"0\": 3, \"10\": 6, \"4\": 7}}, \"ORACLE.run1_32\": {\"2\": {\"4\": 35, \"2\": 171, \"0\": 30, \"7\": 3, \"5\": 1}, \"6\": {\"6\": 240}, \"5\": {\"5\": 40, \"11\": 13, \"0\": 21, \"3\": 25, \"8\": 24, \"4\": 26, \"13\": 53, \"14\": 12, \"7\": 26}, \"12\": {\"12\": 240}, \"13\": {\"7\": 23, \"13\": 58, \"8\": 26, \"11\": 8, \"14\": 21, \"4\": 13, \"5\": 58, \"3\": 25, \"0\": 6, \"2\": 2}, \"9\": {\"9\": 238, \"12\": 2}, \"11\": {\"11\": 142, \"7\": 12, \"5\": 9, \"13\": 8, \"14\": 55, \"3\": 14}, \"1\": {\"1\": 225, \"10\": 15}, \"3\": {\"3\": 219, \"13\": 9, \"5\": 6, \"14\": 1, \"11\": 5}, \"7\": {\"7\": 86, \"0\": 6, \"13\": 21, \"5\": 26, \"14\": 45, \"3\": 1, \"4\": 21, \"11\": 28, \"8\": 3, \"2\": 3}, \"14\": {\"13\": 16, \"3\": 12, \"11\": 83, \"7\": 47, \"4\": 13, \"5\": 13, \"14\": 43, \"2\": 5, \"8\": 5, \"0\": 3}, \"8\": {\"5\": 33, \"0\": 25, \"8\": 122, \"13\": 35, \"4\": 11, \"7\": 4, \"2\": 3, \"14\": 2, \"3\": 2, \"15\": 3}, \"4\": {\"4\": 93, \"7\": 31, \"0\": 47, \"5\": 15, \"2\": 35, \"14\": 6, \"8\": 7, \"13\": 6}, \"0\": {\"2\": 51, \"0\": 82, \"5\": 10, \"4\": 73, \"13\": 8, \"7\": 6, \"8\": 8, \"14\": 2}, \"10\": {\"10\": 221, \"1\": 19}, \"15\": {\"15\": 220, \"3\": 11, \"8\": 9}}, \"ORACLE.run1_44\": {\"13\": {\"13\": 145, \"6\": 20, \"11\": 41, \"9\": 32, \"4\": 2}, \"4\": {\"4\": 161, \"14\": 75, \"15\": 3, \"13\": 1}, \"6\": {\"11\": 19, \"13\": 41, \"7\": 21, \"6\": 128, \"9\": 25, \"2\": 6}, \"0\": {\"0\": 133, \"15\": 18, \"8\": 77, \"5\": 12}, \"10\": {\"10\": 140, \"1\": 27, \"2\": 15, \"12\": 56, \"3\": 2}, \"7\": {\"7\": 133, \"9\": 51, \"3\": 3, \"6\": 16, \"2\": 36, \"13\": 1}, \"14\": {\"15\": 25, \"4\": 67, \"14\": 138, \"5\": 10}, \"15\": {\"5\": 10, \"15\": 176, \"8\": 7, \"14\": 18, \"4\": 1, \"0\": 28}, \"5\": {\"5\": 173, \"8\": 8, \"14\": 21, \"0\": 20, \"15\": 18}, \"2\": {\"2\": 152, \"1\": 20, \"7\": 46, \"10\": 15, \"12\": 1, \"3\": 4, \"6\": 2}, \"9\": {\"7\": 42, \"9\": 110, \"13\": 54, \"2\": 6, \"6\": 23, \"4\": 1, \"11\": 3, \"3\": 1}, \"12\": {\"12\": 176, \"1\": 30, \"10\": 34}, \"8\": {\"8\": 143, \"0\": 85, \"15\": 9, \"5\": 3}, \"3\": {\"3\": 203, \"7\": 5, \"1\": 29, \"12\": 2, \"2\": 1}, \"1\": {\"1\": 121, \"3\": 34, \"12\": 45, \"2\": 15, \"10\": 25}, \"11\": {\"13\": 48, \"11\": 175, \"6\": 16, \"9\": 1}}, \"ORACLE.run1_14\": {\"1\": {\"5\": 55, \"1\": 172, \"4\": 13}, \"15\": {\"7\": 93, \"15\": 147}, \"10\": {\"10\": 186, \"0\": 48, \"11\": 6}, \"2\": {\"3\": 17, \"2\": 96, \"4\": 20, \"14\": 36, \"6\": 19, \"13\": 16, \"5\": 32, \"15\": 1, \"7\": 2, \"1\": 1}, \"9\": {\"9\": 240}, \"5\": {\"5\": 123, \"1\": 64, \"4\": 39, \"2\": 11, \"3\": 1, \"14\": 1, \"7\": 1}, \"7\": {\"7\": 182, \"15\": 58}, \"13\": {\"13\": 53, \"6\": 73, \"2\": 30, \"14\": 73, \"4\": 2, \"3\": 3, \"5\": 6}, \"8\": {\"8\": 240}, \"6\": {\"13\": 74, \"6\": 95, \"14\": 52, \"2\": 19}, \"3\": {\"3\": 199, \"4\": 29, \"14\": 9, \"5\": 2, \"2\": 1}, \"12\": {\"12\": 238, \"9\": 2}, \"0\": {\"0\": 166, \"10\": 64, \"3\": 10}, \"4\": {\"3\": 36, \"4\": 155, \"14\": 1, \"5\": 27, \"1\": 10, \"2\": 11}, \"14\": {\"3\": 8, \"14\": 139, \"13\": 40, \"6\": 36, \"2\": 16, \"5\": 1}, \"11\": {\"11\": 171, \"9\": 17, \"10\": 47, \"0\": 5}}, \"C_A_2\": {\"21\": {\"21\": 7, \"17\": 1, \"29\": 1, \"48\": 1}, \"4\": {\"4\": 11, \"35\": 1}, \"6\": {\"50\": 1, \"6\": 8, \"18\": 3}, \"10\": {\"10\": 11, \"38\": 1}, \"33\": {\"33\": 4, \"32\": 1, \"19\": 3, \"29\": 2}, \"56\": {\"56\": 9, \"22\": 1}, \"20\": {\"20\": 12}, \"24\": {\"10\": 2, \"24\": 6, \"38\": 1, \"43\": 1}, \"45\": {\"8\": 1, \"54\": 1, \"45\": 2, \"32\": 1, \"49\": 1, \"27\": 1, \"36\": 1, \"40\": 2}, \"32\": {\"32\": 12}, \"27\": {\"32\": 1, \"27\": 11}, \"53\": {\"32\": 1, \"53\": 8, \"8\": 1, \"20\": 1, \"26\": 1}, \"8\": {\"8\": 5, \"50\": 2, \"30\": 2, \"27\": 1, \"26\": 1, \"12\": 1}, \"54\": {\"54\": 10, \"27\": 1, \"6\": 1}, \"50\": {\"50\": 12}, \"44\": {\"33\": 1, \"44\": 8, \"32\": 1, \"9\": 2}, \"5\": {\"5\": 5, \"55\": 1, \"47\": 1, \"14\": 1, \"13\": 1, \"31\": 1}, \"38\": {\"38\": 12}, \"19\": {\"44\": 2, \"19\": 9, \"17\": 1}, \"1\": {\"5\": 2, \"47\": 1, \"1\": 6, \"14\": 1, \"57\": 1, \"29\": 1}, \"30\": {\"30\": 12}, \"15\": {\"15\": 12}, \"23\": {\"23\": 12}, \"35\": {\"35\": 9, \"40\": 2, \"54\": 1}, \"22\": {\"22\": 12}, \"40\": {\"32\": 1, \"40\": 9, \"17\": 1, \"9\": 1}, \"46\": {\"1\": 1, \"46\": 4, \"21\": 2, \"48\": 2, \"0\": 1}, \"18\": {\"18\": 5, \"3\": 3, \"36\": 1, \"6\": 1}, \"25\": {\"25\": 6, \"33\": 2, \"50\": 1, \"3\": 1, \"17\": 1, \"18\": 1}, \"47\": {\"47\": 12}, \"52\": {\"52\": 7, \"30\": 1}, \"39\": {\"39\": 9, \"47\": 1, \"0\": 2}, \"17\": {\"17\": 12}, \"36\": {\"36\": 12}, \"7\": {\"7\": 6, \"47\": 1, \"55\": 5}, \"43\": {\"43\": 8, \"24\": 2, \"38\": 2}, \"3\": {\"3\": 3, \"17\": 1, \"6\": 3, \"34\": 1, \"49\": 1, \"25\": 1, \"41\": 1, \"19\": 1}, \"11\": {\"11\": 10}, \"55\": {\"55\": 6, \"47\": 2, \"39\": 1, \"7\": 3}, \"42\": {\"55\": 1, \"11\": 1, \"57\": 1, \"7\": 1, \"42\": 6, \"39\": 1, \"47\": 1}, \"51\": {\"21\": 2, \"51\": 9, \"35\": 1}, \"48\": {\"48\": 11, \"34\": 1}, \"57\": {\"57\": 12}, \"2\": {\"3\": 1, \"48\": 2, \"2\": 6, \"34\": 1}, \"16\": {\"16\": 7, \"42\": 2, \"2\": 1}, \"29\": {\"3\": 1, \"29\": 10, \"33\": 1}, \"12\": {\"12\": 11, \"8\": 1}, \"13\": {\"13\": 12}, \"37\": {\"37\": 12}, \"28\": {\"28\": 6}, \"14\": {\"10\": 1, \"48\": 1, \"57\": 1, \"38\": 2, \"29\": 2, \"14\": 3, \"43\": 1, \"1\": 1}, \"34\": {\"48\": 2, \"34\": 5, \"2\": 1}, \"41\": {\"41\": 8, \"48\": 1, \"6\": 1}, \"9\": {\"9\": 9, \"26\": 1}, \"49\": {\"49\": 5, \"17\": 1}, \"26\": {\"26\": 8, \"20\": 1, \"12\": 1}, \"0\": {\"0\": 10}, \"31\": {\"31\": 6}}, \"C_A_5\": {\"12\": {\"12\": 10, \"6\": 1, \"20\": 1}, \"8\": {\"8\": 12}, \"29\": {\"29\": 11, \"44\": 1}, \"57\": {\"57\": 12}, \"38\": {\"38\": 12}, \"23\": {\"23\": 9, \"25\": 1}, \"56\": {\"56\": 5, \"35\": 2, \"2\": 1, \"49\": 2}, \"49\": {\"49\": 10}, \"4\": {\"4\": 10, \"6\": 1, \"48\": 1}, \"48\": {\"1\": 1, \"48\": 6, \"41\": 1, \"32\": 3, \"9\": 1}, \"21\": {\"21\": 12}, \"30\": {\"30\": 8}, \"1\": {\"1\": 8, \"30\": 1, \"27\": 2, \"18\": 1}, \"34\": {\"29\": 1, \"34\": 10, \"14\": 1}, \"35\": {\"35\": 6}, \"55\": {\"48\": 2, \"55\": 7, \"9\": 2, \"6\": 1}, \"26\": {\"26\": 12}, \"40\": {\"28\": 2, \"40\": 7, \"19\": 1, \"33\": 2}, \"53\": {\"53\": 10, \"20\": 2}, \"46\": {\"46\": 12}, \"27\": {\"27\": 10, \"32\": 1, \"9\": 1}, \"28\": {\"28\": 9, \"29\": 1}, \"16\": {\"16\": 10}, \"2\": {\"2\": 11, \"3\": 1}, \"51\": {\"51\": 12}, \"50\": {\"57\": 1, \"27\": 2, \"50\": 3, \"51\": 2, \"45\": 1, \"23\": 1, \"9\": 1, \"18\": 1}, \"54\": {\"54\": 10}, \"5\": {\"5\": 7, \"19\": 1, \"40\": 2, \"33\": 1, \"9\": 1}, \"10\": {\"10\": 11, \"13\": 1}, \"43\": {\"43\": 9, \"15\": 1}, \"17\": {\"1\": 1, \"30\": 1, \"17\": 8, \"6\": 2}, \"45\": {\"30\": 1, \"17\": 2, \"9\": 2, \"33\": 1, \"45\": 3, \"19\": 1, \"50\": 1, \"5\": 1}, \"36\": {\"36\": 11, \"3\": 1}, \"19\": {\"19\": 8}, \"15\": {\"15\": 12}, \"20\": {\"20\": 9, \"53\": 2, \"7\": 1}, \"3\": {\"3\": 8, \"57\": 1, \"0\": 2, \"36\": 1}, \"14\": {\"16\": 1, \"2\": 1, \"9\": 1, \"34\": 1, \"15\": 2, \"46\": 1, \"11\": 1, \"49\": 1, \"39\": 1, \"28\": 1, \"14\": 1}, \"32\": {\"32\": 12}, \"7\": {\"7\": 10, \"12\": 1, \"45\": 1}, \"31\": {\"31\": 10, \"49\": 2}, \"44\": {\"44\": 9, \"50\": 1, \"34\": 1, \"5\": 1}, \"24\": {\"24\": 7, \"13\": 1, \"10\": 2}, \"39\": {\"39\": 4, \"37\": 1, \"50\": 2, \"14\": 1}, \"37\": {\"37\": 11, \"14\": 1}, \"33\": {\"33\": 12}, \"11\": {\"11\": 7, \"43\": 1}, \"18\": {\"18\": 12}, \"52\": {\"52\": 12}, \"9\": {\"53\": 1, \"9\": 6, \"32\": 2, \"17\": 1, \"19\": 1, \"27\": 1}, \"0\": {\"0\": 8}, \"6\": {\"17\": 1, \"18\": 1, \"6\": 2, \"30\": 1, \"41\": 2, \"1\": 1, \"55\": 2, \"25\": 2}, \"42\": {\"42\": 11, \"23\": 1}, \"13\": {\"13\": 7, \"24\": 2, \"10\": 1}, \"22\": {\"22\": 7, \"43\": 1}, \"25\": {\"33\": 1, \"25\": 4, \"6\": 3}, \"47\": {\"47\": 10}, \"41\": {\"41\": 9, \"55\": 1}}, \"W_A_2\": {\"56\": {\"49\": 1, \"15\": 1, \"56\": 5, \"123\": 2, \"122\": 1, \"128\": 1, \"41\": 1}, \"12\": {\"12\": 8, \"49\": 2, \"88\": 1, \"127\": 1}, \"15\": {\"15\": 5, \"108\": 2, \"36\": 3, \"106\": 2}, \"26\": {\"82\": 2, \"39\": 1, \"26\": 6, \"57\": 1, \"2\": 2}, \"82\": {\"82\": 9, \"69\": 2, \"21\": 1}, \"9\": {\"15\": 1, \"9\": 11}, \"49\": {\"49\": 5, \"12\": 4, \"9\": 1, \"79\": 1, \"103\": 1}, \"55\": {\"55\": 10, \"50\": 2}, \"102\": {\"82\": 2, \"102\": 8, \"113\": 1, \"81\": 1}, \"85\": {\"85\": 6, \"46\": 1, \"61\": 1, \"119\": 1, \"74\": 1, \"110\": 1, \"17\": 1}, \"73\": {\"47\": 1, \"73\": 9, \"105\": 2}, \"47\": {\"20\": 1, \"56\": 1, \"47\": 2, \"1\": 1, \"22\": 1, \"35\": 1, \"33\": 1, \"96\": 2, \"76\": 2}, \"20\": {\"20\": 10, \"21\": 1, \"88\": 1}, \"117\": {\"20\": 1, \"117\": 7, \"72\": 2}, \"122\": {\"122\": 8, \"41\": 1, \"94\": 1, \"95\": 1, \"110\": 1}, \"113\": {\"117\": 2, \"113\": 2, \"23\": 1, \"26\": 1, \"57\": 1, \"120\": 1, \"72\": 2, \"102\": 2}, \"87\": {\"87\": 5, \"50\": 1, \"55\": 1, \"64\": 1, \"109\": 1, \"31\": 2, \"123\": 1}, \"21\": {\"21\": 9, \"20\": 1, \"109\": 2}, \"106\": {\"106\": 9, \"77\": 1}, \"3\": {\"115\": 2, \"3\": 9, \"105\": 1}, \"126\": {\"73\": 1, \"60\": 1, \"38\": 2, \"61\": 2, \"94\": 1, \"46\": 1, \"126\": 2, \"15\": 1, \"105\": 1}, \"41\": {\"97\": 1, \"49\": 2, \"41\": 4, \"27\": 1, \"94\": 1, \"29\": 1, \"0\": 1, \"36\": 1}, \"76\": {\"21\": 1, \"60\": 1, \"80\": 1, \"76\": 3, \"87\": 1, \"113\": 1, \"84\": 2}, \"60\": {\"60\": 9, \"71\": 1, \"56\": 1, \"78\": 1}, \"94\": {\"106\": 1, \"94\": 4, \"25\": 2, \"58\": 2, \"27\": 1, \"79\": 2}, \"50\": {\"50\": 4, \"21\": 1, \"40\": 1, \"62\": 2, \"20\": 1, \"83\": 1, \"78\": 1, \"73\": 1}, \"97\": {\"106\": 1, \"97\": 4, \"101\": 1, \"125\": 1, \"58\": 1, \"51\": 3, \"25\": 1}, \"115\": {\"21\": 1, \"122\": 1, \"115\": 8, \"85\": 1, \"112\": 1}, \"38\": {\"38\": 10, \"8\": 1, \"23\": 1}, \"43\": {\"3\": 2, \"11\": 1, \"46\": 1, \"43\": 2, \"1\": 1, \"105\": 1, \"13\": 1, \"62\": 1, \"101\": 1, \"60\": 1}, \"67\": {\"67\": 4, \"84\": 2, \"80\": 1, \"14\": 1}, \"18\": {\"18\": 7, \"72\": 2, \"16\": 1}, \"23\": {\"128\": 1, \"7\": 2, \"77\": 1, \"5\": 1, \"112\": 1, \"30\": 1, \"17\": 1, \"0\": 1, \"59\": 1}, \"63\": {\"67\": 3, \"63\": 8, \"62\": 1}, \"127\": {\"127\": 4, \"3\": 2, \"112\": 2, \"12\": 2, \"20\": 1, \"7\": 1}, \"72\": {\"23\": 1, \"18\": 1, \"102\": 2, \"72\": 5, \"62\": 2, \"109\": 1}, \"128\": {\"38\": 1, \"43\": 1, \"29\": 1, \"112\": 1, \"115\": 2, \"8\": 1, \"71\": 1, \"24\": 1, \"7\": 1, \"68\": 1, \"119\": 1}, \"7\": {\"127\": 2, \"7\": 8, \"24\": 1, \"49\": 1}, \"108\": {\"127\": 2, \"108\": 8, \"41\": 1, \"12\": 1}, \"16\": {\"67\": 2, \"16\": 4, \"48\": 2, \"33\": 2, \"102\": 1, \"38\": 1}, \"103\": {\"103\": 7, \"10\": 1, \"52\": 1, \"7\": 2, \"12\": 1}, \"86\": {\"40\": 1, \"105\": 3, \"37\": 1, \"107\": 1, \"1\": 2, \"34\": 1, \"86\": 2, \"45\": 1}, \"62\": {\"62\": 7, \"50\": 1, \"100\": 2, \"72\": 2}, \"34\": {\"105\": 2, \"15\": 3, \"116\": 2, \"90\": 1, \"40\": 1, \"106\": 1, \"29\": 1, \"94\": 1}, \"129\": {\"40\": 1, \"129\": 3, \"5\": 2, \"44\": 1, \"104\": 1, \"73\": 1, \"60\": 2, \"70\": 1}, \"52\": {\"101\": 1, \"103\": 1, \"52\": 8, \"0\": 1, \"91\": 1}, \"35\": {\"97\": 1, \"35\": 4, \"53\": 1, \"77\": 1, \"103\": 2, \"108\": 1, \"94\": 1, \"27\": 1}, \"40\": {\"105\": 1, \"50\": 1, \"40\": 7, \"85\": 2, \"48\": 1}, \"105\": {\"50\": 1, \"105\": 10, \"110\": 1}, \"101\": {\"97\": 2, \"101\": 8, \"35\": 1, \"106\": 1}, \"45\": {\"45\": 4, \"116\": 1, \"102\": 1, \"109\": 1, \"65\": 2, \"84\": 1, \"93\": 2}, \"30\": {\"6\": 1, \"29\": 1, \"30\": 5, \"49\": 1, \"113\": 1, \"117\": 1, \"106\": 2}, \"6\": {\"6\": 5, \"51\": 1, \"75\": 1, \"25\": 1}, \"13\": {\"45\": 1, \"13\": 1, \"48\": 2, \"20\": 1, \"57\": 1, \"99\": 1, \"72\": 1, \"16\": 1, \"39\": 1, \"120\": 1, \"113\": 1}, \"17\": {\"95\": 1, \"121\": 1, \"17\": 1, \"11\": 1, \"71\": 1, \"21\": 1, \"115\": 1, \"123\": 1, \"69\": 1, \"3\": 1, \"122\": 2}, \"29\": {\"30\": 2, \"29\": 8, \"91\": 1, \"41\": 1}, \"121\": {\"17\": 1, \"121\": 8, \"81\": 1, \"96\": 1, \"113\": 1}, \"32\": {\"73\": 1, \"32\": 7, \"60\": 1, \"1\": 1, \"13\": 1, \"86\": 1}, \"112\": {\"112\": 10, \"7\": 1, \"68\": 1}, \"110\": {\"110\": 5, \"108\": 1, \"56\": 1, \"107\": 2, \"40\": 1, \"5\": 1, \"80\": 1}, \"95\": {\"95\": 9, \"105\": 1, \"110\": 1, \"19\": 1}, \"92\": {\"102\": 1, \"92\": 1, \"70\": 1, \"62\": 1, \"88\": 1, \"109\": 1, \"57\": 1, \"90\": 1, \"87\": 1, \"31\": 1, \"82\": 2}, \"8\": {\"8\": 4, \"38\": 1, \"17\": 1, \"59\": 1, \"32\": 1, \"128\": 2, \"49\": 1, \"129\": 1}, \"22\": {\"47\": 1, \"1\": 1, \"124\": 1, \"19\": 1, \"83\": 1, \"22\": 2, \"73\": 2, \"76\": 2, \"90\": 1}, \"57\": {\"102\": 2, \"57\": 5, \"2\": 1, \"13\": 1, \"20\": 1, \"99\": 2}, \"77\": {\"77\": 7, \"30\": 1, \"24\": 1, \"52\": 1}, \"1\": {\"45\": 1, \"1\": 5, \"105\": 2, \"37\": 2}, \"116\": {\"116\": 5, \"1\": 1, \"100\": 1, \"82\": 1, \"32\": 1, \"87\": 1, \"22\": 1, \"80\": 1}, \"28\": {\"1\": 2, \"28\": 5, \"95\": 1, \"105\": 1, \"22\": 2, \"15\": 1}, \"68\": {\"68\": 7, \"111\": 1, \"0\": 1, \"128\": 1, \"54\": 1, \"112\": 1}, \"89\": {\"89\": 2, \"72\": 1, \"96\": 1, \"99\": 1, \"83\": 1, \"60\": 1, \"100\": 1}, \"119\": {\"119\": 6, \"101\": 1, \"85\": 1, \"124\": 1, \"70\": 1, \"19\": 2}, \"11\": {\"123\": 1, \"79\": 1, \"101\": 2, \"11\": 4, \"111\": 1, \"68\": 1, \"78\": 1, \"103\": 1}, \"46\": {\"46\": 5, \"61\": 1, \"86\": 2, \"32\": 2, \"126\": 2}, \"123\": {\"123\": 7, \"101\": 1, \"56\": 2, \"27\": 1, \"108\": 1}, \"33\": {\"50\": 1, \"33\": 9, \"80\": 2}, \"91\": {\"101\": 2, \"91\": 3, \"51\": 1, \"52\": 1, \"36\": 1, \"29\": 1, \"0\": 2, \"30\": 1}, \"83\": {\"50\": 1, \"83\": 5, \"22\": 2, \"96\": 1, \"93\": 1}, \"90\": {\"46\": 1, \"90\": 8, \"32\": 1, \"22\": 1, \"61\": 1}, \"79\": {\"79\": 7, \"0\": 2, \"125\": 1, \"49\": 2}, \"19\": {\"88\": 1, \"124\": 1, \"19\": 4, \"13\": 2, \"34\": 1, \"86\": 1, \"1\": 1, \"74\": 1}, \"81\": {\"81\": 7, \"98\": 1}, \"53\": {\"53\": 8}, \"71\": {\"115\": 2, \"71\": 8, \"114\": 1, \"20\": 1}, \"124\": {\"22\": 2, \"124\": 3, \"74\": 1, \"40\": 2, \"104\": 2, \"107\": 2}, \"88\": {\"71\": 1, \"88\": 4, \"13\": 1, \"92\": 1, \"109\": 1, \"60\": 1, \"118\": 1, \"20\": 1, \"1\": 1}, \"36\": {\"36\": 12}, \"78\": {\"16\": 1, \"5\": 1, \"78\": 8, \"108\": 1, \"118\": 1}, \"5\": {\"5\": 6, \"104\": 4, \"122\": 1, \"85\": 1}, \"61\": {\"61\": 10, \"8\": 1, \"94\": 1}, \"25\": {\"25\": 7, \"36\": 2, \"23\": 1, \"27\": 1, \"70\": 1}, \"64\": {\"64\": 4, \"16\": 1, \"55\": 1, \"48\": 1, \"100\": 2, \"92\": 1, \"40\": 1, \"45\": 1}, \"39\": {\"23\": 1, \"16\": 2, \"21\": 2, \"55\": 2, \"102\": 2, \"39\": 1, \"69\": 1, \"17\": 1}, \"37\": {\"105\": 2, \"56\": 1, \"31\": 1, \"107\": 2, \"37\": 3, \"43\": 1, \"21\": 1, \"86\": 1}, \"59\": {\"125\": 1, \"54\": 1, \"41\": 1, \"59\": 6, \"29\": 1}, \"125\": {\"125\": 9, \"58\": 1, \"9\": 2}, \"31\": {\"32\": 1, \"116\": 1, \"93\": 2, \"63\": 1, \"96\": 1, \"13\": 1, \"87\": 2, \"39\": 1, \"31\": 2}, \"54\": {\"54\": 6, \"49\": 1, \"112\": 1, \"111\": 2, \"68\": 1, \"79\": 1}, \"100\": {\"100\": 6, \"93\": 1, \"2\": 1, \"33\": 2, \"55\": 2}, \"98\": {\"98\": 10, \"79\": 2}, \"96\": {\"96\": 4, \"89\": 1, \"90\": 1, \"69\": 1, \"83\": 2, \"16\": 1, \"20\": 1, \"45\": 1}, \"24\": {\"36\": 1, \"24\": 3, \"53\": 1, \"58\": 1, \"0\": 1, \"111\": 2, \"27\": 1, \"128\": 1, \"10\": 1}, \"104\": {\"13\": 1, \"104\": 7, \"129\": 1, \"1\": 1, \"4\": 1, \"110\": 1}, \"48\": {\"48\": 5, \"33\": 1, \"55\": 2, \"36\": 1, \"100\": 1, \"92\": 2}, \"80\": {\"33\": 1, \"13\": 1, \"80\": 7, \"76\": 1, \"84\": 2}, \"58\": {\"58\": 9, \"25\": 1, \"125\": 2}, \"14\": {\"14\": 5, \"45\": 1}, \"27\": {\"9\": 1, \"25\": 2, \"6\": 2, \"27\": 4, \"94\": 1, \"88\": 1, \"24\": 1}, \"69\": {\"69\": 7, \"113\": 1, \"96\": 1, \"39\": 1, \"48\": 2}, \"99\": {\"99\": 9, \"57\": 1, \"102\": 1, \"26\": 1}, \"51\": {\"75\": 2, \"119\": 1, \"51\": 3, \"25\": 2, \"6\": 1, \"111\": 2, \"27\": 1}, \"75\": {\"6\": 1, \"75\": 4, \"98\": 2, \"36\": 1}, \"109\": {\"109\": 4, \"14\": 1, \"125\": 1, \"118\": 1, \"92\": 1, \"110\": 1, \"36\": 1, \"15\": 1, \"55\": 1}, \"70\": {\"10\": 1, \"87\": 1, \"119\": 1, \"65\": 1, \"86\": 1, \"24\": 1, \"70\": 2, \"72\": 1, \"13\": 1, \"19\": 1, \"49\": 1}, \"120\": {\"120\": 8, \"70\": 1, \"109\": 1, \"117\": 1, \"20\": 1}, \"42\": {\"59\": 2, \"4\": 1, \"24\": 1, \"58\": 1, \"11\": 1, \"49\": 1, \"19\": 1, \"41\": 1, \"115\": 1, \"3\": 1, \"10\": 1}, \"10\": {\"70\": 1, \"12\": 1, \"68\": 3, \"10\": 2, \"120\": 1, \"44\": 1, \"0\": 1, \"54\": 1, \"99\": 1}, \"0\": {\"0\": 5, \"68\": 2, \"111\": 2, \"52\": 1}, \"44\": {\"44\": 9, \"38\": 1, \"124\": 1, \"122\": 1}, \"93\": {\"93\": 6, \"31\": 1, \"67\": 2, \"2\": 1, \"118\": 1, \"78\": 1}, \"84\": {\"84\": 5, \"62\": 2, \"76\": 1, \"43\": 1, \"50\": 1, \"118\": 2}, \"114\": {\"114\": 7, \"103\": 2, \"115\": 2, \"34\": 1}, \"66\": {\"83\": 2, \"66\": 2, \"40\": 1, \"86\": 1, \"104\": 2, \"124\": 1, \"13\": 1, \"123\": 1, \"88\": 1}, \"65\": {\"65\": 6, \"18\": 1, \"120\": 1, \"92\": 1, \"96\": 1, \"2\": 2}, \"111\": {\"111\": 9, \"52\": 1, \"127\": 2}, \"74\": {\"74\": 7, \"51\": 1, \"8\": 1, \"71\": 1}, \"2\": {\"2\": 6, \"81\": 2, \"118\": 1, \"65\": 1, \"21\": 1, \"99\": 1}, \"107\": {\"74\": 1, \"119\": 1, \"107\": 4, \"37\": 1, \"129\": 1, \"85\": 1, \"36\": 1}, \"4\": {\"114\": 2, \"75\": 1, \"107\": 2, \"24\": 1, \"66\": 3, \"4\": 3}, \"118\": {\"100\": 2, \"65\": 1, \"80\": 3, \"20\": 1, \"118\": 2, \"78\": 1}}, \"C_A_1\": {\"27\": {\"27\": 7, \"49\": 1, \"43\": 1, \"39\": 1}, \"2\": {\"2\": 12}, \"33\": {\"33\": 12}, \"45\": {\"45\": 8, \"56\": 2, \"19\": 2}, \"38\": {\"31\": 2, \"38\": 9, \"52\": 1}, \"4\": {\"4\": 12}, \"31\": {\"38\": 1, \"31\": 11}, \"55\": {\"55\": 11, \"33\": 1}, \"32\": {\"55\": 1, \"32\": 11}, \"57\": {\"57\": 10, \"56\": 1, \"1\": 1}, \"14\": {\"30\": 2, \"14\": 7, \"8\": 1, \"41\": 2}, \"16\": {\"16\": 10}, \"34\": {\"34\": 6, \"37\": 2}, \"56\": {\"56\": 8, \"57\": 2, \"19\": 1, \"29\": 1}, \"24\": {\"24\": 6, \"22\": 2, \"28\": 2}, \"30\": {\"30\": 10}, \"26\": {\"19\": 1, \"26\": 10, \"57\": 1}, \"15\": {\"15\": 8}, \"18\": {\"26\": 1, \"18\": 9, \"5\": 2}, \"25\": {\"25\": 7, \"26\": 2, \"30\": 1}, \"54\": {\"54\": 10}, \"39\": {\"39\": 11, \"43\": 1}, \"12\": {\"12\": 10, \"20\": 2}, \"41\": {\"41\": 12}, \"52\": {\"52\": 5, \"27\": 1, \"22\": 2, \"11\": 1, \"38\": 1}, \"21\": {\"21\": 12}, \"47\": {\"47\": 11, \"35\": 1}, \"49\": {\"49\": 11, \"27\": 1}, \"19\": {\"19\": 10, \"56\": 2}, \"23\": {\"23\": 12}, \"37\": {\"37\": 10, \"45\": 1, \"33\": 1}, \"44\": {\"55\": 1, \"44\": 4, \"1\": 2, \"31\": 1, \"35\": 1, \"54\": 1}, \"22\": {\"22\": 8, \"52\": 1, \"24\": 2, \"10\": 1}, \"35\": {\"35\": 11, \"44\": 1}, \"7\": {\"7\": 9, \"1\": 1, \"18\": 2}, \"40\": {\"40\": 8}, \"6\": {\"6\": 7, \"8\": 2, \"46\": 1, \"50\": 2}, \"13\": {\"13\": 8, \"51\": 1, \"29\": 1, \"53\": 2}, \"11\": {\"11\": 11, \"0\": 1}, \"20\": {\"12\": 3, \"20\": 8, \"13\": 1}, \"8\": {\"8\": 6}, \"42\": {\"42\": 8}, \"29\": {\"19\": 1, \"29\": 8, \"45\": 1}, \"28\": {\"28\": 9, \"24\": 1}, \"17\": {\"17\": 12}, \"10\": {\"22\": 2, \"52\": 1, \"10\": 7}, \"46\": {\"46\": 5, \"6\": 4, \"50\": 1, \"2\": 2}, \"36\": {\"36\": 11, \"0\": 1}, \"43\": {\"43\": 10}, \"51\": {\"13\": 2, \"51\": 8}, \"3\": {\"3\": 4, \"42\": 1, \"14\": 1, \"54\": 2, \"56\": 2}, \"9\": {\"9\": 12}, \"50\": {\"50\": 12}, \"48\": {\"6\": 1, \"48\": 9}, \"0\": {\"11\": 2, \"0\": 10}, \"1\": {\"57\": 3, \"1\": 9}, \"5\": {\"17\": 1, \"2\": 1, \"5\": 4, \"30\": 3, \"45\": 1}, \"53\": {\"53\": 10}}, \"W_A_4\": {\"32\": {\"69\": 1, \"11\": 1, \"73\": 2, \"116\": 1, \"39\": 1, \"5\": 1, \"32\": 4, \"48\": 1}, \"22\": {\"22\": 7, \"110\": 1, \"56\": 1, \"76\": 2, \"72\": 1}, \"69\": {\"69\": 8, \"57\": 1, \"32\": 1, \"33\": 1, \"67\": 1}, \"65\": {\"65\": 11, \"63\": 1}, \"91\": {\"53\": 2, \"85\": 1, \"91\": 2, \"77\": 1, \"15\": 2, \"30\": 1, \"9\": 1}, \"63\": {\"63\": 10, \"35\": 1, \"13\": 1}, \"127\": {\"127\": 11, \"112\": 1}, \"11\": {\"22\": 1, \"88\": 1, \"100\": 2, \"74\": 1, \"11\": 1, \"40\": 2, \"50\": 1, \"120\": 1}, \"12\": {\"12\": 7, \"30\": 1, \"68\": 2}, \"111\": {\"127\": 1, \"111\": 11}, \"53\": {\"53\": 10, \"97\": 2}, \"73\": {\"88\": 1, \"11\": 1, \"73\": 7, \"93\": 1, \"94\": 1, \"38\": 1}, \"3\": {\"87\": 1, \"3\": 5, \"88\": 2, \"50\": 1, \"60\": 1, \"71\": 1, \"101\": 1}, \"83\": {\"83\": 5, \"3\": 1, \"114\": 1, \"95\": 1, \"60\": 1, \"71\": 1, \"87\": 1, \"17\": 1}, \"88\": {\"91\": 1, \"88\": 5, \"27\": 1, \"21\": 1, \"85\": 1, \"39\": 1, \"70\": 1, \"108\": 1}, \"87\": {\"87\": 3, \"88\": 1, \"5\": 2, \"50\": 2, \"82\": 2, \"17\": 2}, \"2\": {\"16\": 2, \"57\": 1, \"61\": 1, \"2\": 4, \"13\": 1, \"18\": 1, \"110\": 1, \"63\": 1}, \"86\": {\"86\": 2, \"88\": 1, \"1\": 1, \"79\": 1, \"127\": 1, \"55\": 2, \"7\": 3, \"128\": 1}, \"16\": {\"16\": 5, \"67\": 1, \"121\": 1, \"13\": 2, \"2\": 1, \"39\": 1, \"113\": 1}, \"21\": {\"21\": 12}, \"96\": {\"96\": 4, \"62\": 1, \"45\": 2, \"2\": 1, \"123\": 1, \"57\": 1, \"76\": 1, \"16\": 1}, \"100\": {\"100\": 3, \"43\": 1, \"72\": 2, \"70\": 1, \"87\": 1, \"17\": 1, \"95\": 1, \"101\": 1, \"3\": 1}, \"7\": {\"7\": 6, \"8\": 1, \"112\": 3, \"119\": 2}, \"75\": {\"75\": 9, \"59\": 2, \"36\": 1}, \"10\": {\"75\": 2, \"10\": 4, \"94\": 1, \"51\": 1, \"24\": 1, \"36\": 1, \"25\": 1, \"103\": 1}, \"43\": {\"88\": 1, \"100\": 1, \"122\": 1, \"43\": 4, \"93\": 1, \"90\": 1, \"14\": 1, \"78\": 1, \"128\": 1}, \"92\": {\"2\": 1, \"16\": 1, \"62\": 1, \"44\": 1, \"31\": 2, \"92\": 2, \"121\": 1, \"113\": 1, \"22\": 2}, \"62\": {\"62\": 3, \"16\": 1, \"44\": 2, \"74\": 2, \"107\": 2, \"69\": 1, \"33\": 1}, \"31\": {\"31\": 3, \"45\": 1, \"84\": 3, \"92\": 1, \"13\": 1, \"76\": 1, \"118\": 1, \"14\": 1}, \"0\": {\"119\": 2, \"29\": 1, \"112\": 1, \"49\": 1, \"0\": 5, \"111\": 1, \"41\": 1}, \"45\": {\"66\": 1, \"118\": 2, \"22\": 1, \"45\": 4, \"57\": 2, \"67\": 2}, \"85\": {\"30\": 2, \"85\": 1, \"41\": 2, \"106\": 1, \"58\": 1, \"29\": 2, \"97\": 2, \"9\": 1}, \"119\": {\"86\": 1, \"119\": 10, \"8\": 1}, \"46\": {\"46\": 2, \"1\": 2, \"17\": 1, \"50\": 2, \"3\": 1, \"60\": 1, \"44\": 1, \"114\": 1, \"72\": 1}, \"71\": {\"1\": 2, \"71\": 8, \"128\": 2}, \"8\": {\"119\": 3, \"112\": 1, \"59\": 1, \"97\": 1, \"126\": 1, \"8\": 2, \"101\": 1, \"99\": 1, \"29\": 1}, \"118\": {\"45\": 1, \"31\": 1, \"73\": 1, \"118\": 3, \"84\": 1, \"67\": 1, \"108\": 1, \"38\": 1, \"19\": 2}, \"1\": {\"1\": 6, \"79\": 1, \"105\": 1, \"3\": 1, \"86\": 1, \"128\": 2}, \"38\": {\"38\": 5, \"85\": 1, \"43\": 2, \"60\": 1, \"94\": 1, \"108\": 2}, \"30\": {\"91\": 1, \"0\": 1, \"30\": 5, \"51\": 2, \"6\": 1, \"106\": 1, \"9\": 1}, \"66\": {\"66\": 3, \"45\": 1, \"82\": 1, \"103\": 2, \"116\": 1, \"32\": 1, \"64\": 1, \"21\": 1, \"38\": 1}, \"9\": {\"91\": 2, \"98\": 2, \"9\": 4, \"111\": 2, \"68\": 1, \"30\": 1}, \"90\": {\"79\": 1, \"90\": 6, \"122\": 1, \"110\": 1, \"76\": 1, \"66\": 1, \"74\": 1}, \"72\": {\"46\": 2, \"72\": 5, \"110\": 1, \"114\": 2, \"105\": 1, \"85\": 1}, \"27\": {\"27\": 3, \"7\": 1, \"112\": 3, \"49\": 1, \"111\": 1, \"127\": 2, \"119\": 1}, \"17\": {\"32\": 1, \"46\": 1, \"17\": 9, \"105\": 1}, \"79\": {\"79\": 8, \"5\": 1, \"129\": 1, \"1\": 1, \"48\": 1}, \"25\": {\"25\": 10, \"97\": 1, \"36\": 1}, \"5\": {\"88\": 1, \"5\": 6, \"129\": 1, \"108\": 1, \"116\": 1, \"104\": 1, \"115\": 1}, \"57\": {\"118\": 1, \"57\": 9, \"102\": 1, \"109\": 1}, \"106\": {\"106\": 10, \"85\": 1, \"29\": 1}, \"80\": {\"129\": 1, \"80\": 10, \"19\": 1}, \"128\": {\"19\": 1, \"128\": 7, \"17\": 3, \"34\": 1}, \"19\": {\"115\": 2, \"19\": 2, \"55\": 1, \"44\": 2, \"103\": 1, \"69\": 1, \"83\": 1}, \"109\": {\"109\": 4, \"115\": 1, \"44\": 2, \"81\": 1, \"43\": 1, \"26\": 1, \"38\": 1, \"57\": 1}, \"68\": {\"68\": 9, \"37\": 2, \"0\": 1}, \"41\": {\"106\": 2, \"68\": 1, \"85\": 1, \"41\": 3, \"111\": 1, \"101\": 1, \"112\": 1, \"0\": 1, \"91\": 1}, \"129\": {\"19\": 2, \"40\": 1, \"20\": 1, \"105\": 1, \"13\": 1, \"5\": 2, \"128\": 1, \"99\": 1, \"71\": 1, \"33\": 1}, \"115\": {\"115\": 5, \"114\": 2, \"50\": 2, \"40\": 2, \"25\": 1}, \"76\": {\"22\": 1, \"115\": 1, \"110\": 1, \"76\": 7, \"74\": 1, \"124\": 1}, \"18\": {\"18\": 11, \"26\": 1}, \"4\": {\"85\": 1, \"19\": 1, \"4\": 3, \"8\": 1, \"23\": 2, \"55\": 1, \"22\": 1, \"34\": 1, \"110\": 1}, \"110\": {\"5\": 1, \"27\": 1, \"50\": 2, \"107\": 1, \"110\": 2, \"122\": 2, \"115\": 3}, \"56\": {\"4\": 1, \"22\": 1, \"55\": 1, \"56\": 3, \"72\": 1, \"97\": 1, \"0\": 1, \"17\": 1, \"60\": 1, \"49\": 1}, \"112\": {\"112\": 11, \"55\": 1}, \"126\": {\"126\": 4, \"102\": 2, \"117\": 2, \"32\": 2, \"39\": 1, \"35\": 1}, \"101\": {\"59\": 1, \"101\": 3, \"119\": 2, \"60\": 1, \"127\": 1, \"8\": 1, \"55\": 1, \"112\": 2}, \"59\": {\"59\": 10, \"75\": 2}, \"93\": {\"93\": 3, \"73\": 1, \"44\": 2, \"107\": 2, \"33\": 2, \"50\": 2}, \"99\": {\"128\": 1, \"99\": 4, \"20\": 1, \"105\": 1, \"110\": 1, \"87\": 1, \"44\": 1, \"129\": 1, \"51\": 1}, \"98\": {\"59\": 1, \"98\": 7, \"9\": 1, \"85\": 1, \"29\": 1, \"53\": 1}, \"67\": {\"93\": 2, \"69\": 1, \"81\": 1, \"67\": 6, \"31\": 2}, \"82\": {\"17\": 1, \"82\": 4, \"28\": 1, \"36\": 1, \"66\": 1, \"74\": 2, \"54\": 1, \"93\": 1}, \"103\": {\"128\": 2, \"0\": 2, \"103\": 3, \"79\": 1, \"114\": 1, \"81\": 1, \"127\": 2}, \"117\": {\"18\": 4, \"117\": 3, \"126\": 1}, \"123\": {\"18\": 1, \"123\": 6, \"81\": 2, \"65\": 1, \"31\": 1, \"118\": 1}, \"89\": {\"17\": 2, \"56\": 1, \"89\": 7, \"60\": 1, \"76\": 1}, \"34\": {\"6\": 4, \"17\": 1, \"60\": 1, \"54\": 1, \"108\": 1, \"110\": 1, \"115\": 1, \"36\": 2}, \"102\": {\"102\": 2, \"84\": 1, \"14\": 2, \"39\": 1, \"93\": 1, \"23\": 1, \"113\": 2, \"67\": 1, \"78\": 1}, \"6\": {\"6\": 7, \"97\": 1, \"77\": 1, \"54\": 1}, \"15\": {\"6\": 1, \"53\": 1, \"15\": 8, \"96\": 1, \"47\": 1}, \"81\": {\"81\": 10, \"63\": 2}, \"84\": {\"57\": 2, \"102\": 1, \"84\": 4, \"107\": 1, \"110\": 1, \"38\": 1, \"69\": 2}, \"60\": {\"55\": 2, \"70\": 1, \"79\": 1, \"60\": 2, \"4\": 1, \"27\": 1, \"119\": 1, \"56\": 1, \"89\": 2}, \"97\": {\"97\": 7, \"24\": 1, \"15\": 1, \"0\": 1, \"47\": 1, \"53\": 1}, \"78\": {\"78\": 6, \"119\": 1, \"99\": 2, \"70\": 2, \"43\": 1}, \"121\": {\"121\": 5, \"67\": 1, \"20\": 1, \"126\": 1, \"48\": 2, \"113\": 2}, \"55\": {\"1\": 2, \"129\": 1, \"55\": 4, \"127\": 2, \"4\": 1, \"95\": 2}, \"74\": {\"74\": 5, \"40\": 1, \"14\": 2, \"19\": 1, \"122\": 1, \"110\": 1, \"90\": 1}, \"77\": {\"15\": 1, \"77\": 7, \"51\": 3, \"6\": 1}, \"20\": {\"74\": 2, \"20\": 2, \"50\": 1, \"64\": 2, \"40\": 1, \"104\": 1, \"116\": 1, \"5\": 1, \"79\": 1}, \"125\": {\"25\": 1, \"125\": 5, \"39\": 1, \"54\": 1, \"29\": 1, \"10\": 1, \"77\": 1, \"21\": 1}, \"37\": {\"37\": 7, \"55\": 1, \"95\": 2, \"127\": 1, \"7\": 1}, \"14\": {\"14\": 7, \"40\": 1, \"61\": 1, \"19\": 1, \"118\": 1, \"38\": 1}, \"120\": {\"120\": 5, \"71\": 1, \"103\": 1, \"46\": 1, \"87\": 1, \"65\": 1, \"11\": 1, \"50\": 1}, \"40\": {\"40\": 7, \"32\": 2, \"115\": 1, \"121\": 1, \"73\": 1}, \"35\": {\"117\": 2, \"35\": 6, \"32\": 2, \"61\": 2}, \"70\": {\"70\": 8, \"49\": 1, \"27\": 1, \"101\": 2}, \"42\": {\"86\": 1, \"127\": 1, \"42\": 7, \"103\": 1, \"52\": 2}, \"105\": {\"74\": 1, \"1\": 1, \"129\": 2, \"105\": 5, \"17\": 1, \"72\": 1, \"50\": 1}, \"13\": {\"84\": 1, \"13\": 6, \"16\": 1, \"129\": 1, \"78\": 1, \"69\": 1, \"31\": 1}, \"58\": {\"58\": 11, \"77\": 1}, \"61\": {\"61\": 8, \"26\": 1, \"35\": 3}, \"29\": {\"29\": 9, \"58\": 1, \"125\": 1, \"59\": 1}, \"28\": {\"19\": 2, \"28\": 3, \"116\": 1, \"32\": 1, \"104\": 1, \"107\": 1, \"64\": 1, \"110\": 1, \"92\": 1}, \"36\": {\"36\": 6, \"51\": 1, \"54\": 2, \"24\": 2, \"25\": 1}, \"114\": {\"114\": 10, \"19\": 1, \"120\": 1}, \"44\": {\"115\": 1, \"44\": 5, \"50\": 1, \"87\": 1, \"107\": 1, \"1\": 1, \"33\": 1, \"81\": 1}, \"23\": {\"109\": 1, \"62\": 1, \"113\": 2, \"78\": 1, \"23\": 3, \"42\": 1, \"51\": 1, \"125\": 1, \"112\": 1}, \"116\": {\"116\": 3, \"44\": 1, \"33\": 2, \"28\": 2, \"74\": 2, \"13\": 1, \"20\": 1}, \"47\": {\"36\": 1, \"47\": 9, \"51\": 1, \"85\": 1}, \"122\": {\"62\": 1, \"103\": 1, \"122\": 4, \"107\": 1, \"123\": 1, \"116\": 2, \"93\": 2}, \"49\": {\"71\": 2, \"49\": 3, \"3\": 1, \"27\": 2, \"72\": 1, \"91\": 1}, \"52\": {\"52\": 7, \"106\": 1, \"12\": 1, \"98\": 1, \"111\": 1, \"9\": 1}, \"50\": {\"50\": 9, \"87\": 1, \"46\": 1, \"11\": 1}, \"48\": {\"48\": 6, \"43\": 1, \"123\": 1, \"13\": 3, \"57\": 1}, \"39\": {\"63\": 1, \"121\": 2, \"84\": 1, \"39\": 1, \"35\": 2, \"26\": 1, \"78\": 1, \"81\": 1, \"123\": 1, \"65\": 1}, \"95\": {\"95\": 10, \"1\": 2}, \"107\": {\"107\": 7, \"93\": 1, \"62\": 2, \"122\": 2}, \"24\": {\"85\": 1, \"58\": 1, \"97\": 2, \"24\": 3, \"41\": 1, \"119\": 1, \"125\": 2, \"77\": 1}, \"26\": {\"26\": 10, \"18\": 2}, \"124\": {\"114\": 2, \"124\": 3, \"64\": 1, \"44\": 2, \"40\": 2}, \"108\": {\"108\": 6, \"46\": 1, \"23\": 1, \"20\": 1, \"0\": 1, \"88\": 1, \"38\": 1}, \"113\": {\"108\": 1, \"31\": 1, \"117\": 2, \"113\": 3, \"64\": 1, \"16\": 2, \"21\": 1, \"43\": 1}, \"104\": {\"34\": 1, \"104\": 3, \"107\": 1, \"105\": 1, \"32\": 1, \"74\": 1, \"28\": 2, \"79\": 1, \"110\": 1}, \"64\": {\"64\": 8, \"93\": 1, \"107\": 1, \"27\": 1, \"40\": 1}, \"51\": {\"51\": 3, \"59\": 1, \"77\": 2, \"125\": 2, \"36\": 1, \"94\": 1}, \"94\": {\"94\": 6, \"36\": 1, \"54\": 2, \"25\": 1}, \"54\": {\"54\": 9, \"94\": 1}, \"33\": {\"28\": 1, \"33\": 8, \"32\": 1, \"107\": 2}}, \"W_A_1\": {\"68\": {\"127\": 2, \"68\": 6, \"101\": 1, \"58\": 1, \"10\": 2}, \"7\": {\"7\": 12}, \"125\": {\"125\": 7, \"15\": 1, \"88\": 1, \"36\": 1, \"59\": 2}, \"111\": {\"85\": 1, \"111\": 6, \"123\": 1, \"127\": 2, \"31\": 1, \"77\": 1}, \"101\": {\"7\": 2, \"104\": 1, \"101\": 5, \"72\": 1, \"110\": 1, \"35\": 2}, \"11\": {\"81\": 2, \"46\": 1, \"66\": 1, \"109\": 1, \"11\": 1, \"18\": 1, \"62\": 1, \"114\": 1, \"69\": 1, \"122\": 2}, \"76\": {\"60\": 1, \"11\": 1, \"76\": 6, \"124\": 1, \"64\": 1, \"96\": 2}, \"5\": {\"7\": 1, \"5\": 7, \"55\": 1, \"107\": 2, \"73\": 1}, \"123\": {\"123\": 10, \"80\": 1, \"84\": 1}, \"85\": {\"85\": 8, \"77\": 1, \"106\": 2, \"101\": 1}, \"34\": {\"111\": 1, \"125\": 1, \"90\": 1, \"51\": 1, \"34\": 1, \"115\": 1, \"98\": 1, \"80\": 1, \"42\": 1, \"36\": 1}, \"42\": {\"5\": 2, \"42\": 2, \"64\": 1, \"38\": 1, \"96\": 1, \"80\": 1, \"76\": 2}, \"81\": {\"81\": 5, \"63\": 2, \"82\": 2, \"20\": 1, \"119\": 1, \"62\": 1}, \"127\": {\"85\": 1, \"111\": 3, \"127\": 7, \"31\": 1}, \"60\": {\"42\": 2, \"60\": 3, \"11\": 2, \"109\": 1, \"116\": 1, \"8\": 1, \"80\": 1, \"79\": 1}, \"77\": {\"77\": 6, \"127\": 1, \"86\": 1, \"88\": 1, \"58\": 1, \"23\": 1, \"103\": 1}, \"65\": {\"80\": 1, \"123\": 1, \"90\": 2, \"67\": 1, \"25\": 1, \"109\": 2, \"63\": 2, \"95\": 1, \"8\": 1}, \"44\": {\"44\": 9, \"31\": 1, \"97\": 1, \"70\": 1}, \"100\": {\"33\": 2, \"100\": 6, \"14\": 1, \"28\": 1, \"39\": 1, \"74\": 1}, \"80\": {\"33\": 2, \"84\": 1, \"80\": 5, \"129\": 2, \"117\": 1, \"102\": 1}, \"83\": {\"83\": 2, \"33\": 1, \"46\": 2, \"17\": 1, \"99\": 1, \"116\": 1, \"19\": 1, \"2\": 1, \"22\": 2}, \"51\": {\"51\": 7, \"36\": 3, \"27\": 1, \"112\": 1}, \"93\": {\"93\": 2, \"72\": 3, \"78\": 1, \"97\": 1, \"7\": 1, \"108\": 2}, \"31\": {\"10\": 2, \"18\": 1, \"31\": 4, \"41\": 1, \"91\": 1, \"118\": 1, \"111\": 2}, \"33\": {\"33\": 11, \"62\": 1}, \"113\": {\"123\": 1, \"113\": 10, \"11\": 1}, \"126\": {\"21\": 1, \"93\": 1, \"101\": 2, \"28\": 3, \"126\": 3, \"7\": 2}, \"10\": {\"44\": 1, \"10\": 6, \"111\": 2, \"126\": 1, \"97\": 1, \"12\": 1}, \"21\": {\"100\": 1, \"21\": 5, \"44\": 1, \"30\": 1, \"57\": 1, \"2\": 1}, \"90\": {\"90\": 9, \"8\": 1, \"28\": 2}, \"14\": {\"14\": 8, \"83\": 1, \"100\": 1, \"74\": 1, \"80\": 1}, \"91\": {\"36\": 1, \"91\": 6, \"37\": 1, \"106\": 1, \"97\": 1, \"24\": 1, \"30\": 1}, \"69\": {\"119\": 1, \"102\": 1, \"69\": 9, \"39\": 1}, \"57\": {\"108\": 1, \"64\": 3, \"57\": 7, \"106\": 1}, \"89\": {\"104\": 1, \"89\": 4, \"70\": 2, \"44\": 1, \"114\": 1, \"126\": 1, \"54\": 1, \"106\": 1}, \"108\": {\"108\": 8, \"36\": 1, \"91\": 1}, \"102\": {\"119\": 1, \"69\": 1, \"102\": 6, \"62\": 2, \"63\": 1, \"82\": 1}, \"64\": {\"108\": 1, \"64\": 8, \"128\": 1, \"44\": 1, \"105\": 1}, \"119\": {\"119\": 10, \"82\": 1, \"81\": 1}, \"36\": {\"36\": 12}, \"104\": {\"104\": 5, \"38\": 1, \"72\": 2, \"70\": 1, \"45\": 1, \"9\": 2}, \"38\": {\"38\": 8, \"39\": 1, \"2\": 2, \"122\": 1}, \"19\": {\"104\": 1, \"14\": 1, \"129\": 3, \"38\": 1, \"84\": 3, \"83\": 1, \"2\": 1, \"40\": 1}, \"112\": {\"112\": 6, \"37\": 1, \"6\": 1, \"53\": 1, \"52\": 1, \"98\": 2}, \"3\": {\"3\": 11, \"99\": 1}, \"110\": {\"110\": 7, \"97\": 1, \"55\": 1, \"86\": 2, \"101\": 1}, \"78\": {\"3\": 1, \"114\": 1, \"129\": 1, \"48\": 1, \"5\": 1, \"25\": 1, \"74\": 1, \"128\": 1, \"78\": 1, \"84\": 1, \"80\": 1, \"66\": 1}, \"45\": {\"50\": 2, \"61\": 1, \"59\": 1, \"129\": 2, \"38\": 1, \"100\": 1, \"80\": 2, \"81\": 1, \"62\": 1}, \"82\": {\"82\": 8, \"3\": 1, \"81\": 2, \"102\": 1}, \"107\": {\"107\": 10, \"5\": 2}, \"114\": {\"8\": 1, \"114\": 8, \"40\": 2, \"87\": 1}, \"109\": {\"78\": 1, \"114\": 1, \"109\": 5, \"87\": 2, \"128\": 2, \"108\": 1}, \"79\": {\"79\": 8, \"47\": 1, \"9\": 2, \"23\": 1}, \"8\": {\"8\": 8, \"90\": 1, \"80\": 1, \"114\": 2}, \"50\": {\"119\": 1, \"82\": 1, \"50\": 6, \"120\": 1, \"18\": 1, \"62\": 1, \"3\": 1}, \"47\": {\"79\": 1, \"110\": 1, \"88\": 1, \"47\": 3, \"7\": 1, \"54\": 2, \"101\": 2, \"78\": 1}, \"99\": {\"82\": 1, \"99\": 7, \"122\": 2, \"100\": 1, \"111\": 1}, \"41\": {\"103\": 1, \"41\": 9, \"86\": 1, \"49\": 1}, \"103\": {\"103\": 5, \"110\": 3, \"48\": 1, \"35\": 2, \"23\": 1}, \"1\": {\"1\": 3, \"72\": 1, \"84\": 1, \"115\": 2, \"43\": 1}, \"22\": {\"22\": 5, \"99\": 1, \"61\": 1, \"62\": 1, \"128\": 1, \"74\": 2, \"38\": 1}, \"86\": {\"98\": 2, \"0\": 2, \"127\": 1, \"86\": 5, \"48\": 1, \"39\": 1}, \"72\": {\"72\": 7, \"4\": 1, \"104\": 2, \"101\": 1, \"17\": 1}, \"4\": {\"72\": 2, \"3\": 1, \"4\": 4, \"17\": 1, \"128\": 1, \"105\": 2, \"55\": 1}, \"98\": {\"98\": 9, \"51\": 1, \"112\": 2}, \"63\": {\"63\": 9, \"95\": 1, \"38\": 1, \"117\": 1}, \"0\": {\"0\": 6, \"86\": 3, \"75\": 1, \"6\": 2}, \"97\": {\"97\": 7, \"98\": 1, \"53\": 1, \"75\": 1, \"15\": 2}, \"35\": {\"4\": 1, \"31\": 3, \"35\": 3, \"17\": 1, \"101\": 2, \"23\": 1, \"103\": 1}, \"20\": {\"30\": 1, \"3\": 1, \"20\": 3, \"119\": 1, \"112\": 1, \"84\": 1, \"14\": 2}, \"58\": {\"58\": 8, \"127\": 1, \"98\": 1, \"112\": 1, \"75\": 1}, \"117\": {\"117\": 8, \"18\": 1, \"39\": 1, \"121\": 2}, \"30\": {\"32\": 1, \"30\": 8, \"15\": 1, \"6\": 1, \"75\": 1}, \"32\": {\"32\": 4, \"58\": 1, \"49\": 1, \"106\": 1, \"98\": 2, \"85\": 1, \"97\": 1, \"101\": 1}, \"18\": {\"81\": 2, \"65\": 1, \"67\": 1, \"18\": 5, \"11\": 1, \"104\": 1, \"78\": 1}, \"71\": {\"58\": 1, \"32\": 1, \"75\": 1, \"53\": 1, \"71\": 6, \"37\": 2}, \"56\": {\"30\": 3, \"37\": 1, \"112\": 2, \"56\": 4, \"27\": 1, \"58\": 1}, \"29\": {\"17\": 1, \"72\": 1, \"29\": 6, \"54\": 1, \"90\": 1, \"47\": 1, \"101\": 1}, \"46\": {\"14\": 1, \"51\": 1, \"84\": 1, \"27\": 1, \"30\": 1, \"46\": 1, \"79\": 2, \"71\": 1, \"80\": 1, \"42\": 1, \"36\": 1}, \"17\": {\"83\": 1, \"17\": 7, \"7\": 2, \"72\": 2}, \"94\": {\"51\": 2, \"30\": 2, \"94\": 6, \"27\": 1, \"88\": 1}, \"27\": {\"94\": 2, \"27\": 2, \"52\": 1, \"39\": 1, \"6\": 1, \"12\": 1, \"51\": 1, \"24\": 1, \"112\": 1, \"90\": 1}, \"62\": {\"62\": 9, \"39\": 1, \"69\": 2}, \"118\": {\"83\": 1, \"118\": 6, \"78\": 1, \"26\": 1, \"33\": 1, \"113\": 1, \"102\": 1}, \"67\": {\"67\": 12}, \"84\": {\"1\": 1, \"84\": 7, \"40\": 1, \"80\": 1, \"114\": 2}, \"37\": {\"37\": 8, \"88\": 1, \"52\": 2, \"15\": 1}, \"12\": {\"12\": 11, \"6\": 1}, \"92\": {\"92\": 9, \"91\": 1, \"37\": 2}, \"129\": {\"78\": 1, \"129\": 2, \"67\": 1, \"8\": 1, \"61\": 1, \"18\": 2, \"39\": 1, \"60\": 1, \"40\": 2}, \"48\": {\"86\": 2, \"10\": 1, \"48\": 7, \"32\": 1, \"34\": 1}, \"75\": {\"75\": 9, \"53\": 1, \"32\": 1, \"58\": 1}, \"55\": {\"55\": 10, \"73\": 1, \"107\": 1}, \"25\": {\"78\": 1, \"5\": 1, \"74\": 2, \"60\": 1, \"8\": 1, \"80\": 1, \"25\": 3, \"39\": 1, \"3\": 1}, \"2\": {\"63\": 1, \"2\": 4, \"45\": 1, \"114\": 1, \"61\": 2, \"16\": 1, \"19\": 1, \"82\": 1}, \"53\": {\"75\": 1, \"53\": 6, \"30\": 1, \"71\": 1, \"112\": 1, \"58\": 1, \"27\": 1}, \"95\": {\"95\": 9, \"16\": 1, \"2\": 1, \"26\": 1}, \"88\": {\"88\": 7, \"6\": 2, \"36\": 2, \"59\": 1}, \"70\": {\"70\": 10, \"115\": 1, \"44\": 1}, \"13\": {\"13\": 5, \"95\": 1, \"26\": 1, \"11\": 1, \"21\": 1, \"67\": 2, \"18\": 1}, \"121\": {\"121\": 9, \"13\": 1, \"16\": 1, \"123\": 1}, \"124\": {\"3\": 1, \"73\": 1, \"84\": 1, \"124\": 2, \"129\": 1, \"2\": 1, \"54\": 1, \"80\": 1, \"90\": 1, \"76\": 1, \"33\": 1}, \"87\": {\"124\": 1, \"70\": 2, \"74\": 2, \"87\": 1, \"122\": 1, \"109\": 1, \"40\": 2, \"114\": 1, \"64\": 1}, \"73\": {\"73\": 12}, \"6\": {\"59\": 2, \"112\": 1, \"6\": 5, \"27\": 1, \"53\": 1, \"94\": 2}, \"40\": {\"40\": 7, \"5\": 1, \"114\": 1, \"105\": 1, \"128\": 1, \"73\": 1}, \"59\": {\"59\": 10, \"36\": 2}, \"122\": {\"80\": 2, \"74\": 2, \"122\": 1, \"50\": 1, \"115\": 1, \"102\": 1, \"82\": 2, \"3\": 2}, \"24\": {\"112\": 1, \"6\": 1, \"24\": 4, \"94\": 2, \"30\": 1, \"44\": 1, \"51\": 2}, \"54\": {\"73\": 3, \"107\": 1, \"29\": 2, \"54\": 5, \"61\": 1}, \"39\": {\"39\": 6, \"76\": 1, \"50\": 1, \"25\": 1, \"100\": 1, \"80\": 1, \"60\": 1}, \"16\": {\"95\": 1, \"117\": 1, \"16\": 8, \"26\": 1, \"69\": 1}, \"106\": {\"106\": 8, \"122\": 1, \"70\": 1, \"127\": 1, \"0\": 1}, \"15\": {\"15\": 7, \"30\": 1, \"59\": 1, \"52\": 2, \"49\": 1}, \"66\": {\"66\": 12}, \"116\": {\"116\": 4, \"120\": 1, \"82\": 1, \"61\": 1, \"62\": 1, \"22\": 1, \"25\": 1, \"65\": 1, \"102\": 1}, \"49\": {\"31\": 1, \"49\": 5, \"15\": 1, \"44\": 1, \"86\": 1, \"103\": 1, \"127\": 2}, \"120\": {\"116\": 1, \"120\": 5, \"50\": 3, \"2\": 1, \"69\": 1, \"14\": 1}, \"115\": {\"1\": 1, \"115\": 5, \"114\": 1, \"104\": 1, \"73\": 1, \"107\": 2, \"9\": 1}, \"9\": {\"79\": 1, \"40\": 1, \"9\": 2, \"128\": 1, \"54\": 1, \"64\": 1, \"114\": 1, \"35\": 1, \"23\": 1}, \"96\": {\"96\": 4, \"116\": 1, \"38\": 1, \"79\": 1, \"35\": 1, \"76\": 1, \"42\": 1}, \"26\": {\"13\": 1, \"26\": 6, \"16\": 1, \"63\": 2, \"118\": 2}, \"74\": {\"74\": 9, \"43\": 1}, \"43\": {\"8\": 1, \"129\": 1, \"87\": 2, \"74\": 1, \"28\": 1, \"66\": 1, \"43\": 2, \"80\": 2, \"1\": 1}, \"128\": {\"43\": 1, \"87\": 1, \"40\": 1, \"61\": 1, \"115\": 2, \"7\": 1, \"4\": 1, \"5\": 1, \"128\": 3}, \"52\": {\"52\": 10, \"112\": 2}, \"28\": {\"66\": 1, \"28\": 4, \"70\": 2, \"44\": 2, \"83\": 1, \"60\": 1, \"122\": 1}, \"61\": {\"76\": 1, \"64\": 1, \"59\": 1, \"61\": 5, \"104\": 1, \"11\": 1, \"125\": 1, \"4\": 1}, \"105\": {\"40\": 1, \"105\": 6, \"64\": 1, \"114\": 1, \"115\": 1, \"57\": 1, \"43\": 1}, \"23\": {\"115\": 1, \"70\": 1, \"49\": 3, \"23\": 3, \"107\": 1, \"35\": 1}}, \"C_A_4\": {\"32\": {\"32\": 7, \"5\": 1, \"46\": 1, \"7\": 1}, \"2\": {\"2\": 8, \"24\": 3, \"13\": 1}, \"41\": {\"41\": 12}, \"11\": {\"11\": 11, \"15\": 1}, \"57\": {\"57\": 10}, \"6\": {\"6\": 4, \"52\": 1, \"36\": 4, \"18\": 2, \"50\": 1}, \"23\": {\"23\": 12}, \"52\": {\"52\": 12}, \"38\": {\"38\": 10}, \"50\": {\"20\": 1, \"50\": 7, \"54\": 1, \"9\": 1, \"45\": 1, \"53\": 1}, \"55\": {\"55\": 8, \"5\": 1, \"14\": 1, \"39\": 1, \"31\": 1}, \"46\": {\"46\": 8, \"32\": 4}, \"37\": {\"37\": 12}, \"20\": {\"20\": 10, \"8\": 1, \"17\": 1}, \"49\": {\"49\": 11, \"1\": 1}, \"45\": {\"45\": 12}, \"54\": {\"3\": 1, \"54\": 10, \"20\": 1}, \"3\": {\"3\": 5, \"54\": 1, \"18\": 2, \"36\": 3, \"6\": 1}, \"13\": {\"13\": 10, \"24\": 2}, \"18\": {\"18\": 9, \"23\": 1, \"6\": 2}, \"21\": {\"21\": 11, \"8\": 1}, \"43\": {\"43\": 11, \"24\": 1}, \"47\": {\"47\": 10, \"41\": 1, \"5\": 1}, \"4\": {\"4\": 12}, \"12\": {\"45\": 1, \"12\": 7}, \"9\": {\"9\": 11, \"50\": 1}, \"7\": {\"7\": 5, \"23\": 1, \"49\": 3, \"56\": 1}, \"56\": {\"7\": 2, \"56\": 7, \"0\": 2, \"14\": 1}, \"28\": {\"28\": 10}, \"44\": {\"44\": 9, \"33\": 1, \"4\": 1, \"9\": 1}, \"24\": {\"24\": 11, \"10\": 1}, \"33\": {\"33\": 10}, \"14\": {\"43\": 1, \"35\": 1, \"13\": 2, \"57\": 1, \"28\": 2, \"14\": 1, \"29\": 3, \"38\": 1}, \"25\": {\"8\": 2, \"25\": 10}, \"26\": {\"26\": 9, \"17\": 1, \"44\": 2}, \"5\": {\"52\": 3, \"34\": 2, \"32\": 2, \"5\": 5}, \"17\": {\"17\": 9, \"44\": 1}, \"31\": {\"31\": 12}, \"8\": {\"8\": 6, \"30\": 2}, \"35\": {\"35\": 5, \"46\": 1}, \"15\": {\"15\": 6}, \"19\": {\"19\": 6, \"4\": 3, \"44\": 1, \"40\": 2}, \"22\": {\"13\": 1, \"22\": 6, \"2\": 3}, \"34\": {\"34\": 12}, \"36\": {\"36\": 11, \"3\": 1}, \"51\": {\"51\": 11, \"53\": 1}, \"10\": {\"10\": 10}, \"0\": {\"0\": 12}, \"53\": {\"3\": 1, \"12\": 1, \"20\": 2, \"53\": 3, \"54\": 1, \"19\": 1, \"50\": 1}, \"29\": {\"29\": 12}, \"27\": {\"27\": 12}, \"39\": {\"39\": 10}, \"30\": {\"30\": 8, \"27\": 2, \"8\": 2}, \"48\": {\"6\": 3, \"48\": 5, \"26\": 1, \"9\": 1}, \"42\": {\"42\": 8}, \"16\": {\"16\": 8, \"11\": 1, \"55\": 1}, \"1\": {\"1\": 10}, \"40\": {\"40\": 6, \"19\": 2}}, \"W_A_3\": {\"76\": {\"76\": 4, \"90\": 1, \"32\": 1, \"38\": 2, \"29\": 1, \"88\": 1, \"45\": 1, \"118\": 1}, \"6\": {\"6\": 9, \"106\": 1}, \"108\": {\"108\": 7, \"46\": 1, \"103\": 1, \"77\": 1, \"19\": 1, \"65\": 1}, \"29\": {\"29\": 8, \"84\": 2, \"9\": 1, \"87\": 1}, \"83\": {\"6\": 2, \"83\": 8, \"27\": 1, \"97\": 1}, \"18\": {\"18\": 9, \"67\": 1, \"102\": 2}, \"54\": {\"54\": 7, \"94\": 1, \"75\": 1, \"24\": 2, \"18\": 1}, \"15\": {\"94\": 1, \"15\": 2, \"73\": 2, \"125\": 1, \"83\": 1, \"59\": 2, \"6\": 3}, \"100\": {\"100\": 4, \"115\": 1, \"107\": 2, \"50\": 2, \"92\": 1, \"84\": 2}, \"90\": {\"90\": 4, \"108\": 1, \"20\": 1, \"68\": 1, \"66\": 2, \"28\": 1, \"80\": 1, \"4\": 1}, \"26\": {\"18\": 2, \"26\": 7, \"39\": 1, \"93\": 1, \"23\": 1}, \"115\": {\"46\": 1, \"100\": 1, \"115\": 3, \"40\": 1, \"50\": 2, \"23\": 1, \"32\": 1, \"129\": 1, \"14\": 1}, \"94\": {\"6\": 1, \"54\": 1, \"75\": 4, \"94\": 3, \"59\": 1, \"36\": 2}, \"46\": {\"29\": 1, \"90\": 1, \"46\": 5, \"31\": 1, \"23\": 1, \"86\": 1, \"20\": 2}, \"121\": {\"18\": 1, \"121\": 6, \"120\": 1, \"76\": 1, \"63\": 1}, \"109\": {\"100\": 1, \"46\": 1, \"92\": 2, \"93\": 1, \"102\": 3, \"126\": 1, \"109\": 2, \"69\": 1}, \"101\": {\"8\": 1, \"101\": 6, \"49\": 1, \"7\": 3, \"98\": 1}, \"99\": {\"99\": 12}, \"8\": {\"99\": 4, \"8\": 4, \"70\": 1, \"42\": 1, \"106\": 1, \"73\": 1}, \"102\": {\"102\": 7, \"123\": 1, \"93\": 2, \"69\": 1, \"13\": 1}, \"122\": {\"9\": 1, \"31\": 1, \"35\": 1, \"115\": 1, \"78\": 1, \"65\": 1, \"43\": 1, \"44\": 1, \"10\": 1, \"1\": 1, \"13\": 1, \"122\": 1}, \"36\": {\"36\": 9, \"54\": 1, \"15\": 1, \"51\": 1}, \"113\": {\"113\": 6, \"102\": 2, \"14\": 1, \"92\": 1, \"11\": 1, \"121\": 1}, \"123\": {\"123\": 9, \"93\": 1, \"18\": 1, \"76\": 1}, \"120\": {\"120\": 9, \"113\": 1, \"121\": 1, \"64\": 1}, \"125\": {\"125\": 3, \"59\": 1, \"83\": 1, \"27\": 1, \"36\": 2, \"15\": 1, \"6\": 1}, \"89\": {\"113\": 1, \"89\": 7, \"61\": 1, \"118\": 1, \"18\": 1, \"116\": 1}, \"9\": {\"9\": 5, \"127\": 2, \"88\": 1, \"31\": 1, \"41\": 1, \"46\": 2}, \"31\": {\"46\": 1, \"31\": 5, \"4\": 3, \"90\": 1, \"28\": 1, \"1\": 1}, \"62\": {\"102\": 2, \"62\": 6, \"43\": 2, \"33\": 2}, \"49\": {\"7\": 2, \"1\": 1, \"68\": 1, \"0\": 1, \"91\": 1, \"49\": 5, \"85\": 1}, \"23\": {\"18\": 1, \"115\": 1, \"49\": 1, \"39\": 1, \"14\": 1, \"10\": 1, \"95\": 1, \"69\": 1, \"121\": 1, \"21\": 1, \"9\": 1, \"63\": 1}, \"55\": {\"55\": 6, \"86\": 1, \"74\": 1, \"29\": 1, \"71\": 1, \"11\": 1, \"20\": 1}, \"128\": {\"127\": 2, \"128\": 3, \"10\": 1, \"20\": 1, \"57\": 1, \"103\": 1, \"46\": 1, \"5\": 1, \"99\": 1}, \"71\": {\"127\": 6, \"3\": 1, \"28\": 1, \"71\": 4}, \"51\": {\"51\": 6, \"125\": 2, \"59\": 2}, \"7\": {\"7\": 9, \"101\": 1, \"58\": 1, \"72\": 1}, \"117\": {\"18\": 2, \"115\": 1, \"117\": 2, \"96\": 1, \"43\": 1, \"119\": 1, \"67\": 1, \"61\": 2, \"89\": 1}, \"28\": {\"57\": 1, \"23\": 2, \"28\": 5, \"38\": 1, \"66\": 1, \"39\": 1, \"101\": 1}, \"127\": {\"127\": 9, \"71\": 3}, \"57\": {\"29\": 1, \"57\": 8, \"86\": 1, \"47\": 1, \"52\": 1}, \"78\": {\"55\": 1, \"115\": 1, \"78\": 4, \"11\": 1, \"2\": 1, \"24\": 1, \"114\": 2, \"59\": 1}, \"87\": {\"84\": 2, \"40\": 1, \"114\": 2, \"129\": 1, \"12\": 1, \"32\": 1, \"71\": 1, \"87\": 2, \"46\": 1}, \"40\": {\"84\": 1, \"115\": 1, \"114\": 1, \"40\": 4, \"32\": 1, \"5\": 1, \"1\": 1, \"14\": 1, \"129\": 1}, \"81\": {\"81\": 6, \"39\": 2, \"117\": 1, \"96\": 1, \"2\": 1, \"126\": 1}, \"2\": {\"115\": 1, \"2\": 2, \"32\": 2, \"43\": 1, \"62\": 1, \"39\": 2, \"78\": 2, \"81\": 1}, \"58\": {\"58\": 8, \"99\": 1, \"75\": 1, \"51\": 2}, \"68\": {\"99\": 2, \"68\": 8, \"75\": 1, \"88\": 1}, \"20\": {\"20\": 8, \"90\": 1, \"10\": 1, \"48\": 1, \"55\": 1}, \"35\": {\"58\": 2, \"112\": 1, \"65\": 1, \"42\": 1, \"10\": 1, \"47\": 2, \"35\": 1, \"0\": 1, \"7\": 2}, \"96\": {\"96\": 5, \"40\": 1, \"67\": 2, \"129\": 1, \"100\": 1, \"70\": 1, \"29\": 1}, \"84\": {\"84\": 4, \"50\": 3, \"96\": 1, \"32\": 2, \"20\": 1, \"11\": 1}, \"88\": {\"35\": 1, \"65\": 1, \"37\": 1, \"21\": 1, \"117\": 2, \"43\": 1, \"88\": 3, \"8\": 1, \"49\": 1}, \"114\": {\"5\": 2, \"74\": 1, \"114\": 7, \"1\": 1, \"4\": 1}, \"103\": {\"103\": 10, \"41\": 2}, \"5\": {\"5\": 6, \"85\": 1, \"114\": 2, \"86\": 1, \"128\": 2}, \"85\": {\"85\": 9, \"46\": 1, \"41\": 1, \"86\": 1}, \"65\": {\"65\": 5, \"0\": 3, \"101\": 1, \"108\": 1, \"8\": 1, \"99\": 1}, \"13\": {\"13\": 4, \"93\": 1, \"55\": 1, \"107\": 2, \"74\": 1, \"50\": 1, \"100\": 1, \"40\": 1}, \"64\": {\"64\": 12}, \"119\": {\"13\": 2, \"113\": 1, \"119\": 6, \"76\": 2, \"79\": 1}, \"116\": {\"116\": 4, \"13\": 1, \"45\": 1, \"82\": 1, \"107\": 1}, \"112\": {\"88\": 1, \"112\": 2, \"77\": 2, \"24\": 1, \"58\": 1, \"108\": 1, \"68\": 1, \"73\": 1, \"99\": 2}, \"86\": {\"57\": 1, \"86\": 8, \"55\": 1, \"24\": 1, \"49\": 1}, \"98\": {\"98\": 8, \"106\": 4}, \"69\": {\"69\": 9, \"89\": 1, \"118\": 1, \"102\": 1}, \"67\": {\"18\": 2, \"67\": 8, \"39\": 1, \"70\": 1}, \"32\": {\"69\": 1, \"32\": 2, \"45\": 1, \"60\": 1, \"84\": 2, \"118\": 2, \"20\": 1, \"29\": 1, \"62\": 1}, \"91\": {\"91\": 4, \"98\": 2, \"97\": 2, \"59\": 1, \"42\": 2, \"95\": 1}, \"17\": {\"67\": 3, \"32\": 2, \"13\": 2, \"99\": 1, \"33\": 2, \"85\": 1, \"21\": 1}, \"37\": {\"37\": 8, \"24\": 2, \"97\": 1, \"98\": 1}, \"95\": {\"95\": 8, \"3\": 1, \"127\": 2, \"48\": 1}, \"59\": {\"59\": 11, \"36\": 1}, \"34\": {\"37\": 2, \"1\": 1, \"25\": 2, \"107\": 1, \"51\": 1, \"50\": 1, \"34\": 1, \"119\": 2, \"75\": 1}, \"52\": {\"49\": 1, \"52\": 4, \"58\": 2, \"0\": 1, \"47\": 1, \"106\": 1, \"125\": 1, \"36\": 1}, \"1\": {\"1\": 9, \"104\": 1, \"110\": 1, \"129\": 1}, \"16\": {\"113\": 2, \"11\": 1, \"14\": 2, \"93\": 1, \"92\": 1, \"89\": 1, \"126\": 1, \"33\": 1, \"16\": 1, \"17\": 1}, \"79\": {\"79\": 8, \"20\": 1, \"38\": 1, \"14\": 1, \"90\": 1}, \"53\": {\"53\": 6, \"78\": 1, \"55\": 1, \"107\": 2, \"50\": 1, \"96\": 1}, \"106\": {\"98\": 2, \"106\": 5, \"37\": 1, \"59\": 1, \"30\": 1, \"75\": 1, \"27\": 1}, \"33\": {\"33\": 7, \"14\": 1, \"93\": 1, \"82\": 1, \"16\": 2}, \"104\": {\"53\": 2, \"122\": 1, \"110\": 1, \"104\": 5, \"105\": 1, \"74\": 2}, \"14\": {\"11\": 2, \"14\": 7, \"62\": 1, \"69\": 1, \"40\": 1}, \"11\": {\"11\": 3, \"14\": 1, \"45\": 2, \"129\": 1, \"82\": 1, \"20\": 1, \"93\": 1}, \"0\": {\"98\": 1, \"0\": 6, \"97\": 1, \"111\": 2, \"25\": 1, \"35\": 1}, \"25\": {\"25\": 11, \"36\": 1}, \"22\": {\"22\": 8, \"23\": 1, \"104\": 1, \"4\": 1, \"89\": 1}, \"75\": {\"75\": 10, \"25\": 2}, \"105\": {\"105\": 7, \"1\": 2, \"41\": 1, \"9\": 1, \"92\": 1}, \"45\": {\"45\": 3, \"32\": 1, \"67\": 1, \"92\": 2, \"109\": 1, \"102\": 1, \"119\": 2, \"14\": 1}, \"92\": {\"92\": 5, \"11\": 1, \"93\": 1, \"43\": 2, \"13\": 1, \"109\": 1, \"16\": 1}, \"39\": {\"39\": 7, \"76\": 1, \"94\": 1, \"126\": 2, \"43\": 1}, \"93\": {\"109\": 1, \"93\": 9, \"102\": 1, \"118\": 1}, \"97\": {\"97\": 5, \"24\": 3, \"83\": 1, \"37\": 1, \"51\": 1, \"98\": 1}, \"73\": {\"73\": 7, \"101\": 2, \"106\": 1, \"22\": 1, \"12\": 1}, \"30\": {\"73\": 4, \"106\": 1, \"30\": 3, \"97\": 1, \"98\": 2, \"27\": 1}, \"38\": {\"38\": 7, \"75\": 1, \"79\": 1, \"110\": 1, \"29\": 1, \"28\": 1}, \"3\": {\"3\": 12}, \"110\": {\"60\": 1, \"110\": 3, \"8\": 2, \"41\": 1, \"104\": 1, \"88\": 1, \"53\": 1, \"55\": 1, \"9\": 1}, \"60\": {\"60\": 6, \"31\": 1, \"10\": 1, \"4\": 1, \"66\": 1, \"116\": 2}, \"111\": {\"7\": 2, \"111\": 9, \"97\": 1}, \"41\": {\"41\": 3, \"94\": 1, \"105\": 1, \"86\": 2, \"10\": 1, \"9\": 1, \"60\": 1, \"3\": 2}, \"21\": {\"21\": 12}, \"129\": {\"129\": 2, \"53\": 1, \"100\": 1, \"105\": 1, \"87\": 2, \"114\": 1, \"86\": 1, \"84\": 1, \"107\": 1, \"64\": 1}, \"70\": {\"70\": 3, \"66\": 1, \"8\": 2, \"43\": 1, \"65\": 2, \"77\": 1, \"112\": 1, \"86\": 1}, \"66\": {\"86\": 1, \"66\": 5, \"110\": 1, \"56\": 1, \"112\": 1, \"60\": 2, \"105\": 1}, \"107\": {\"107\": 8, \"50\": 2, \"33\": 1, \"40\": 1}, \"74\": {\"74\": 10, \"19\": 1, \"104\": 1}, \"48\": {\"0\": 1, \"100\": 1, \"4\": 1, \"60\": 1, \"14\": 2, \"48\": 2, \"72\": 1, \"69\": 1, \"20\": 1, \"92\": 1}, \"50\": {\"96\": 1, \"50\": 6, \"43\": 1, \"14\": 1, \"93\": 1, \"62\": 2}, \"44\": {\"44\": 8, \"17\": 1, \"105\": 2, \"124\": 1}, \"42\": {\"6\": 1, \"70\": 1, \"42\": 7, \"35\": 2, \"97\": 1}, \"80\": {\"80\": 9, \"71\": 1}, \"72\": {\"72\": 10, \"77\": 1, \"10\": 1}, \"43\": {\"92\": 1, \"88\": 1, \"43\": 3, \"31\": 1, \"107\": 1, \"119\": 1, \"90\": 1, \"14\": 1, \"62\": 2}, \"77\": {\"112\": 1, \"77\": 9, \"72\": 1, \"65\": 1}, \"61\": {\"61\": 7, \"39\": 1, \"67\": 1, \"14\": 1, \"21\": 1, \"117\": 1}, \"126\": {\"39\": 1, \"126\": 7, \"21\": 2, \"63\": 1, \"102\": 1}, \"27\": {\"27\": 6, \"51\": 2, \"75\": 2}, \"24\": {\"27\": 2, \"24\": 6, \"37\": 2, \"72\": 2}, \"47\": {\"47\": 5, \"52\": 1, \"3\": 1, \"60\": 1, \"108\": 1, \"127\": 1, \"95\": 1, \"72\": 1}, \"19\": {\"38\": 2, \"107\": 2, \"108\": 1, \"19\": 3, \"105\": 1, \"104\": 1, \"77\": 1, \"124\": 1}, \"4\": {\"3\": 2, \"4\": 2, \"74\": 1, \"124\": 1, \"112\": 2, \"122\": 1, \"60\": 1}, \"82\": {\"33\": 2, \"61\": 1, \"82\": 7, \"20\": 1, \"63\": 1}, \"12\": {\"12\": 9, \"77\": 1, \"72\": 1, \"101\": 1}, \"10\": {\"12\": 2, \"10\": 3, \"3\": 2, \"72\": 1, \"103\": 3, \"99\": 1}, \"63\": {\"63\": 12}, \"56\": {\"56\": 4, \"19\": 1, \"10\": 1, \"103\": 1, \"12\": 2, \"34\": 1, \"112\": 2}, \"124\": {\"4\": 1, \"103\": 1, \"124\": 5, \"104\": 1, \"44\": 1, \"5\": 1}, \"118\": {\"89\": 2, \"69\": 2, \"109\": 1, \"2\": 1, \"33\": 1, \"39\": 1, \"93\": 1, \"129\": 1}}, \"C_A_3\": {\"3\": {\"9\": 2, \"21\": 1, \"30\": 1, \"41\": 2, \"3\": 1, \"50\": 1}, \"21\": {\"54\": 1, \"21\": 11}, \"7\": {\"7\": 12}, \"30\": {\"30\": 12}, \"54\": {\"54\": 9, \"4\": 1, \"32\": 1, \"36\": 1}, \"6\": {\"6\": 6, \"3\": 2, \"33\": 2, \"54\": 1, \"41\": 1}, \"17\": {\"17\": 7, \"54\": 2, \"4\": 1}, \"8\": {\"8\": 10, \"25\": 1, \"38\": 1}, \"9\": {\"9\": 12}, \"19\": {\"19\": 10, \"44\": 2}, \"44\": {\"44\": 6}, \"25\": {\"40\": 1, \"30\": 2, \"25\": 4, \"45\": 1, \"38\": 1, \"2\": 1, \"50\": 2}, \"15\": {\"15\": 12}, \"1\": {\"1\": 9, \"28\": 1}, \"13\": {\"13\": 10, \"37\": 1, \"11\": 1}, \"40\": {\"44\": 2, \"54\": 1, \"40\": 6, \"4\": 1}, \"43\": {\"43\": 8, \"10\": 2}, \"38\": {\"38\": 12}, \"4\": {\"4\": 12}, \"41\": {\"41\": 10, \"3\": 1, \"42\": 1}, \"27\": {\"27\": 9, \"32\": 1, \"9\": 1, \"12\": 1}, \"50\": {\"30\": 2, \"50\": 8, \"2\": 1, \"36\": 1}, \"55\": {\"55\": 5, \"34\": 3, \"5\": 2, \"7\": 1, \"0\": 1}, \"20\": {\"20\": 10, \"46\": 1, \"52\": 1}, \"37\": {\"37\": 12}, \"53\": {\"20\": 2, \"54\": 1, \"53\": 4, \"2\": 1}, \"0\": {\"0\": 12}, \"34\": {\"34\": 12}, \"16\": {\"16\": 11, \"15\": 1}, \"12\": {\"12\": 9, \"8\": 1}, \"46\": {\"46\": 5, \"21\": 2, \"18\": 1, \"6\": 1, \"41\": 1, \"33\": 1, \"30\": 1}, \"32\": {\"32\": 12}, \"33\": {\"33\": 11, \"27\": 1}, \"26\": {\"26\": 10}, \"11\": {\"11\": 12}, \"45\": {\"45\": 7, \"17\": 1, \"4\": 2, \"54\": 1, \"25\": 1}, \"2\": {\"2\": 9, \"8\": 1}, \"10\": {\"43\": 1, \"10\": 9}, \"14\": {\"34\": 1, \"24\": 4, \"7\": 1, \"14\": 1, \"28\": 1, \"10\": 2}, \"24\": {\"24\": 12}, \"22\": {\"34\": 2, \"22\": 4, \"31\": 2}, \"52\": {\"52\": 11, \"41\": 1}, \"29\": {\"29\": 12}, \"51\": {\"51\": 12}, \"28\": {\"28\": 11, \"5\": 1}, \"23\": {\"23\": 11, \"42\": 1}, \"48\": {\"48\": 8, \"23\": 2}, \"35\": {\"35\": 12}, \"56\": {\"56\": 10}, \"18\": {\"18\": 9, \"25\": 1, \"33\": 1, \"27\": 1}, \"5\": {\"5\": 7, \"28\": 1, \"1\": 1, \"46\": 1, \"35\": 2}, \"42\": {\"42\": 8, \"47\": 1, \"39\": 1}, \"49\": {\"49\": 9, \"56\": 1}, \"36\": {\"36\": 10}, \"39\": {\"39\": 6, \"26\": 1, \"42\": 2, \"14\": 1}, \"57\": {\"57\": 5, \"5\": 2, \"34\": 1}, \"47\": {\"47\": 7, \"23\": 1, \"41\": 1, \"55\": 1}, \"31\": {\"31\": 10}}}, \"per_domain_accuracy\": {\"ORACLE.run1_8\": {\"accuracy\": 0.6716145833333333, \"source?\": true}, \"ORACLE.run1_38\": {\"accuracy\": 0.6104166666666667, \"source?\": true}, \"ORACLE.run1_26\": {\"accuracy\": 0.4546875, \"source?\": true}, \"ORACLE.run1_20\": {\"accuracy\": 0.55390625, \"source?\": true}, \"ORACLE.run1_50\": {\"accuracy\": 0.65625, \"source?\": true}, \"ORACLE.run1_32\": {\"accuracy\": 0.6354166666666666, \"source?\": true}, \"ORACLE.run1_44\": {\"accuracy\": 0.6268229166666667, \"source?\": true}, \"ORACLE.run1_14\": {\"accuracy\": 0.6776041666666667, \"source?\": true}, \"C_A_2\": {\"accuracy\": 0.765625, \"source?\": false}, \"C_A_5\": {\"accuracy\": 0.7984375, \"source?\": false}, \"W_A_2\": {\"accuracy\": 0.4886968085106383, \"source?\": false}, \"C_A_1\": {\"accuracy\": 0.821875, \"source?\": false}, \"W_A_4\": {\"accuracy\": 0.4798177083333333, \"source?\": false}, \"W_A_1\": {\"accuracy\": 0.5169270833333334, \"source?\": false}, \"C_A_4\": {\"accuracy\": 0.8046875, \"source?\": false}, \"W_A_3\": {\"accuracy\": 0.4993489583333333, \"source?\": false}, \"C_A_3\": {\"accuracy\": 0.8140625, \"source?\": false}}}, \"history\": {\"epoch_indices\": [1, 2, 3, 4, 5], \"train_label_loss\": [1.0634024558766257, 0.8861855487317024, 0.7044815040648073, 0.5748292806059389, 0.499410489732067], \"source_val_label_loss\": [1.0971264839172363, 0.8033261895179749, 0.6160480380058289, 0.5444842576980591, 0.4844290018081665], \"target_val_label_loss\": [4.8958821296691895, 5.077149391174316, 5.867246150970459, 5.76804780960083, 5.661590576171875], \"source_val_acc_label\": [0.61083984375, 0.7113606770833333, 0.78056640625, 0.8023763020833333, 0.8223958333333333], \"target_val_acc_label\": [0.6009450171821306, 0.6682774914089347, 0.6514175257731959, 0.6655927835051546, 0.6741838487972509]}, \"dataset_metrics\": {\"source\": {\"train\": {\"n_unique_x\": 179200, \"n_unique_y\": 16, \"n_batch/episode\": 6720}, \"val\": {\"n_unique_x\": 38400, \"n_unique_y\": 16, \"n_batch/episode\": 960}, \"test\": {\"n_unique_x\": 38400, \"n_unique_y\": 16, \"n_batch/episode\": 960}}, \"target\": {\"train\": {\"n_unique_x\": 56700, \"n_unique_y\": 130, \"n_batch/episode\": 2081}, \"val\": {\"n_unique_x\": 12122, \"n_unique_y\": 130, \"n_batch/episode\": 291}, \"test\": {\"n_unique_x\": 12122, \"n_unique_y\": 130, \"n_batch/episode\": 291}}}}'"
      ]
     },
     "execution_count": 29,
     "metadata": {},
     "output_type": "execute_result"
    }
   ],
   "source": [
    "json.dumps(experiment)"
   ]
  }
 ],
 "metadata": {
  "celltoolbar": "Tags",
  "kernelspec": {
   "display_name": "Python 3 (ipykernel)",
   "language": "python",
   "name": "python3"
  },
  "language_info": {
   "codemirror_mode": {
    "name": "ipython",
    "version": 3
   },
   "file_extension": ".py",
   "mimetype": "text/x-python",
   "name": "python",
   "nbconvert_exporter": "python",
   "pygments_lexer": "ipython3",
   "version": "3.8.10"
  },
  "papermill": {
   "default_parameters": {},
   "duration": 911.79978,
   "end_time": "2022-03-18T17:59:57.579558",
   "environment_variables": {},
   "exception": null,
   "input_path": "/mnt/wd500GB/CSC500/csc500-main/csc500-notebooks/templates/tl_ptn_template.ipynb",
   "output_path": "trial.ipynb",
   "parameters": {
    "parameters": {
     "BEST_MODEL_PATH": "./best_model.pth",
     "NUM_LOGS_PER_EPOCH": 10,
     "criteria_for_best": "target_loss",
     "dataset_seed": 154325,
     "datasets": [
      {
       "domain_prefix": "C_A_",
       "domains": [
        1,
        2,
        3,
        4,
        5
       ],
       "episode_transforms": [],
       "labels": [
        "1-10.",
        "1-11.",
        "1-15.",
        "1-16.",
        "1-17.",
        "1-18.",
        "1-19.",
        "10-4.",
        "10-7.",
        "11-1.",
        "11-14.",
        "11-17.",
        "11-20.",
        "11-7.",
        "13-20.",
        "13-8.",
        "14-10.",
        "14-11.",
        "14-14.",
        "14-7.",
        "15-1.",
        "15-20.",
        "16-1.",
        "16-16.",
        "17-10.",
        "17-11.",
        "17-2.",
        "19-1.",
        "19-16.",
        "19-19.",
        "19-20.",
        "19-3.",
        "2-10.",
        "2-11.",
        "2-17.",
        "2-18.",
        "2-20.",
        "2-3.",
        "2-4.",
        "2-5.",
        "2-6.",
        "2-7.",
        "2-8.",
        "3-13.",
        "3-18.",
        "3-3.",
        "4-1.",
        "4-10.",
        "4-11.",
        "4-19.",
        "5-5.",
        "6-15.",
        "7-10.",
        "7-14.",
        "8-18.",
        "8-20.",
        "8-3.",
        "8-8."
       ],
       "num_examples_per_domain_per_label": 100,
       "pickle_path": "/mnt/wd500GB/CSC500/csc500-main/datasets/cores.stratified_ds.2022A.pkl",
       "source_or_target_dataset": "target",
       "x_transforms": [
        "unit_power",
        "take_200"
       ]
      },
      {
       "domain_prefix": "W_A_",
       "domains": [
        1,
        2,
        3,
        4
       ],
       "episode_transforms": [],
       "labels": [
        "1-10",
        "1-12",
        "1-14",
        "1-16",
        "1-18",
        "1-19",
        "1-8",
        "10-11",
        "10-17",
        "10-4",
        "10-7",
        "11-1",
        "11-10",
        "11-19",
        "11-20",
        "11-4",
        "11-7",
        "12-19",
        "12-20",
        "12-7",
        "13-14",
        "13-18",
        "13-19",
        "13-20",
        "13-3",
        "13-7",
        "14-10",
        "14-11",
        "14-12",
        "14-13",
        "14-14",
        "14-19",
        "14-20",
        "14-7",
        "14-8",
        "14-9",
        "15-1",
        "15-19",
        "15-6",
        "16-1",
        "16-16",
        "16-19",
        "16-20",
        "17-10",
        "17-11",
        "18-1",
        "18-10",
        "18-11",
        "18-12",
        "18-13",
        "18-14",
        "18-15",
        "18-16",
        "18-17",
        "18-19",
        "18-2",
        "18-20",
        "18-4",
        "18-5",
        "18-7",
        "18-8",
        "18-9",
        "19-1",
        "19-10",
        "19-11",
        "19-12",
        "19-13",
        "19-14",
        "19-15",
        "19-19",
        "19-2",
        "19-20",
        "19-3",
        "19-4",
        "19-6",
        "19-7",
        "19-8",
        "19-9",
        "2-1",
        "2-13",
        "2-15",
        "2-3",
        "2-4",
        "2-5",
        "2-6",
        "2-7",
        "2-8",
        "20-1",
        "20-12",
        "20-14",
        "20-15",
        "20-16",
        "20-18",
        "20-19",
        "20-20",
        "20-3",
        "20-4",
        "20-5",
        "20-7",
        "20-8",
        "3-1",
        "3-13",
        "3-18",
        "3-2",
        "3-8",
        "4-1",
        "4-10",
        "4-11",
        "5-1",
        "5-5",
        "6-1",
        "6-15",
        "6-6",
        "7-10",
        "7-11",
        "7-12",
        "7-13",
        "7-14",
        "7-7",
        "7-8",
        "7-9",
        "8-1",
        "8-13",
        "8-14",
        "8-18",
        "8-20",
        "8-3",
        "8-8",
        "9-1",
        "9-7"
       ],
       "num_examples_per_domain_per_label": 100,
       "pickle_path": "/mnt/wd500GB/CSC500/csc500-main/datasets/wisig.node3-19.stratified_ds.2022A.pkl",
       "source_or_target_dataset": "target",
       "x_transforms": [
        "unit_power",
        "take_200"
       ]
      },
      {
       "domain_prefix": "ORACLE.run1_",
       "domains": [
        32,
        38,
        8,
        44,
        14,
        50,
        20,
        26
       ],
       "episode_transforms": [],
       "labels": [
        "3123D52",
        "3123D65",
        "3123D79",
        "3123D80",
        "3123D54",
        "3123D70",
        "3123D7B",
        "3123D89",
        "3123D58",
        "3123D76",
        "3123D7D",
        "3123EFE",
        "3123D64",
        "3123D78",
        "3123D7E",
        "3124E4A"
       ],
       "num_examples_per_domain_per_label": 2000,
       "pickle_path": "/mnt/wd500GB/CSC500/csc500-main/datasets/oracle.Run1_framed_2000Examples_stratified_ds.2022A.pkl",
       "source_or_target_dataset": "source",
       "x_transforms": [
        "unit_power",
        "take_200",
        "resample_20Msps_to_25Msps"
       ]
      }
     ],
     "device": "cuda",
     "experiment_name": "tl_3A:oracle.run1.framed -> cores+wisig",
     "lr": 0.001,
     "n_epoch": 50,
     "n_query": 2,
     "n_shot": 3,
     "n_way": 16,
     "patience": 3,
     "seed": 154325,
     "test_k_factor": 2,
     "torch_default_dtype": "torch.float32",
     "train_k_factor": 3,
     "val_k_factor": 2,
     "x_net": [
      {
       "class": "nnReshape",
       "kargs": {
        "shape": [
         -1,
         1,
         2,
         200
        ]
       }
      },
      {
       "class": "Conv2d",
       "kargs": {
        "bias": false,
        "in_channels": 1,
        "kernel_size": [
         1,
         7
        ],
        "out_channels": 256,
        "padding": [
         0,
         3
        ]
       }
      },
      {
       "class": "ReLU",
       "kargs": {
        "inplace": true
       }
      },
      {
       "class": "BatchNorm2d",
       "kargs": {
        "num_features": 256
       }
      },
      {
       "class": "Conv2d",
       "kargs": {
        "bias": true,
        "in_channels": 256,
        "kernel_size": [
         2,
         7
        ],
        "out_channels": 80,
        "padding": [
         0,
         3
        ]
       }
      },
      {
       "class": "ReLU",
       "kargs": {
        "inplace": true
       }
      },
      {
       "class": "BatchNorm2d",
       "kargs": {
        "num_features": 80
       }
      },
      {
       "class": "Flatten",
       "kargs": {}
      },
      {
       "class": "Linear",
       "kargs": {
        "in_features": 16000,
        "out_features": 256
       }
      },
      {
       "class": "ReLU",
       "kargs": {
        "inplace": true
       }
      },
      {
       "class": "BatchNorm1d",
       "kargs": {
        "num_features": 256
       }
      },
      {
       "class": "Linear",
       "kargs": {
        "in_features": 256,
        "out_features": 256
       }
      }
     ],
     "x_shape": [
      2,
      200
     ]
    }
   },
   "start_time": "2022-03-18T17:44:45.779778",
   "version": "2.3.4"
  }
 },
 "nbformat": 4,
 "nbformat_minor": 5
}