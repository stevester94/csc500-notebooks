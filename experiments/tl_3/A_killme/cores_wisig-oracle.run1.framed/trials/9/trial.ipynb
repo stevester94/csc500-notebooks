{
 "cells": [
  {
   "cell_type": "markdown",
   "id": "9fea5f46",
   "metadata": {
    "papermill": {
     "duration": 0.018039,
     "end_time": "2022-03-18T22:41:32.810330",
     "exception": false,
     "start_time": "2022-03-18T22:41:32.792291",
     "status": "completed"
    },
    "tags": []
   },
   "source": [
    "# Transfer Learning Template"
   ]
  },
  {
   "cell_type": "code",
   "execution_count": 1,
   "id": "0902182a",
   "metadata": {
    "execution": {
     "iopub.execute_input": "2022-03-18T22:41:32.849887Z",
     "iopub.status.busy": "2022-03-18T22:41:32.842144Z",
     "iopub.status.idle": "2022-03-18T22:41:33.752545Z",
     "shell.execute_reply": "2022-03-18T22:41:33.752173Z"
    },
    "papermill": {
     "duration": 0.929812,
     "end_time": "2022-03-18T22:41:33.752627",
     "exception": false,
     "start_time": "2022-03-18T22:41:32.822815",
     "status": "completed"
    },
    "tags": []
   },
   "outputs": [],
   "source": [
    "%load_ext autoreload\n",
    "%autoreload 2\n",
    "%matplotlib inline\n",
    "\n",
    "    \n",
    "import os, json, sys, time, random\n",
    "import numpy as np\n",
    "import torch\n",
    "from torch.optim import Adam\n",
    "from  easydict import EasyDict\n",
    "import matplotlib.pyplot as plt\n",
    "\n",
    "from steves_models.steves_ptn import Steves_Prototypical_Network\n",
    "\n",
    "from steves_utils.lazy_iterable_wrapper import Lazy_Iterable_Wrapper\n",
    "from steves_utils.iterable_aggregator import Iterable_Aggregator\n",
    "from steves_utils.ptn_train_eval_test_jig import  PTN_Train_Eval_Test_Jig\n",
    "from steves_utils.torch_sequential_builder import build_sequential\n",
    "from steves_utils.torch_utils import get_dataset_metrics, ptn_confusion_by_domain_over_dataloader\n",
    "from steves_utils.utils_v2 import (per_domain_accuracy_from_confusion, get_datasets_base_path)\n",
    "from steves_utils.PTN.utils import independent_accuracy_assesment\n",
    "\n",
    "from torch.utils.data import DataLoader\n",
    "\n",
    "from steves_utils.stratified_dataset.episodic_accessor import Episodic_Accessor_Factory\n",
    "\n",
    "from steves_utils.ptn_do_report import (\n",
    "    get_loss_curve,\n",
    "    get_results_table,\n",
    "    get_parameters_table,\n",
    "    get_domain_accuracies,\n",
    ")\n",
    "\n",
    "from steves_utils.transforms import get_chained_transform"
   ]
  },
  {
   "cell_type": "markdown",
   "id": "41c840b4",
   "metadata": {
    "papermill": {
     "duration": 0.012407,
     "end_time": "2022-03-18T22:41:33.782827",
     "exception": false,
     "start_time": "2022-03-18T22:41:33.770420",
     "status": "completed"
    },
    "tags": []
   },
   "source": [
    "# Allowed Parameters\n",
    "These are allowed parameters, not defaults\n",
    "Each of these values need to be present in the injected parameters (the notebook will raise an exception if they are not present)\n",
    "\n",
    "Papermill uses the cell tag \"parameters\" to inject the real parameters below this cell.\n",
    "Enable tags to see what I mean"
   ]
  },
  {
   "cell_type": "code",
   "execution_count": 2,
   "id": "fd44eb83",
   "metadata": {
    "execution": {
     "iopub.execute_input": "2022-03-18T22:41:33.809582Z",
     "iopub.status.busy": "2022-03-18T22:41:33.809320Z",
     "iopub.status.idle": "2022-03-18T22:41:33.819836Z",
     "shell.execute_reply": "2022-03-18T22:41:33.820205Z"
    },
    "papermill": {
     "duration": 0.02501,
     "end_time": "2022-03-18T22:41:33.820309",
     "exception": false,
     "start_time": "2022-03-18T22:41:33.795299",
     "status": "completed"
    },
    "tags": []
   },
   "outputs": [],
   "source": [
    "required_parameters = {\n",
    "    \"experiment_name\",\n",
    "    \"lr\",\n",
    "    \"device\",\n",
    "    \"seed\",\n",
    "    \"dataset_seed\",\n",
    "    \"n_shot\",\n",
    "    \"n_query\",\n",
    "    \"n_way\",\n",
    "    \"train_k_factor\",\n",
    "    \"val_k_factor\",\n",
    "    \"test_k_factor\",\n",
    "    \"n_epoch\",\n",
    "    \"patience\",\n",
    "    \"criteria_for_best\",\n",
    "    \"x_net\",\n",
    "    \"datasets\",\n",
    "    \"torch_default_dtype\",\n",
    "    \"NUM_LOGS_PER_EPOCH\",\n",
    "    \"BEST_MODEL_PATH\",\n",
    "    \"x_shape\",\n",
    "}"
   ]
  },
  {
   "cell_type": "code",
   "execution_count": 3,
   "id": "fa3f0049",
   "metadata": {
    "execution": {
     "iopub.execute_input": "2022-03-18T22:41:33.856658Z",
     "iopub.status.busy": "2022-03-18T22:41:33.856373Z",
     "iopub.status.idle": "2022-03-18T22:41:33.867918Z",
     "shell.execute_reply": "2022-03-18T22:41:33.868264Z"
    },
    "papermill": {
     "duration": 0.030401,
     "end_time": "2022-03-18T22:41:33.868369",
     "exception": false,
     "start_time": "2022-03-18T22:41:33.837968",
     "status": "completed"
    },
    "tags": [
     "parameters"
    ]
   },
   "outputs": [],
   "source": [
    "from steves_utils.CORES.utils import (\n",
    "    ALL_NODES,\n",
    "    ALL_NODES_MINIMUM_1000_EXAMPLES,\n",
    "    ALL_DAYS\n",
    ")\n",
    "\n",
    "from steves_utils.ORACLE.utils_v2 import (\n",
    "    ALL_DISTANCES_FEET_NARROWED,\n",
    "    ALL_RUNS,\n",
    "    ALL_SERIAL_NUMBERS,\n",
    ")\n",
    "\n",
    "standalone_parameters = {}\n",
    "standalone_parameters[\"experiment_name\"] = \"STANDALONE PTN\"\n",
    "standalone_parameters[\"lr\"] = 0.001\n",
    "standalone_parameters[\"device\"] = \"cuda\"\n",
    "\n",
    "standalone_parameters[\"seed\"] = 1337\n",
    "standalone_parameters[\"dataset_seed\"] = 1337\n",
    "\n",
    "standalone_parameters[\"n_way\"] = 8\n",
    "standalone_parameters[\"n_shot\"] = 3\n",
    "standalone_parameters[\"n_query\"]  = 2\n",
    "standalone_parameters[\"train_k_factor\"] = 1\n",
    "standalone_parameters[\"val_k_factor\"] = 2\n",
    "standalone_parameters[\"test_k_factor\"] = 2\n",
    "\n",
    "\n",
    "standalone_parameters[\"n_epoch\"] = 50\n",
    "\n",
    "standalone_parameters[\"patience\"] = 10\n",
    "standalone_parameters[\"criteria_for_best\"] = \"source_loss\"\n",
    "\n",
    "standalone_parameters[\"datasets\"] = [\n",
    "    {\n",
    "        \"labels\": ALL_SERIAL_NUMBERS,\n",
    "        \"domains\": ALL_DISTANCES_FEET_NARROWED,\n",
    "        \"num_examples_per_domain_per_label\": 100,\n",
    "        \"pickle_path\": os.path.join(get_datasets_base_path(), \"oracle.Run1_framed_2000Examples_stratified_ds.2022A.pkl\"),\n",
    "        \"source_or_target_dataset\": \"source\",\n",
    "        \"x_transforms\": [\"unit_mag\", \"minus_two\"],\n",
    "        \"episode_transforms\": [],\n",
    "        \"domain_prefix\": \"ORACLE_\"\n",
    "    },\n",
    "    {\n",
    "        \"labels\": ALL_NODES,\n",
    "        \"domains\": ALL_DAYS,\n",
    "        \"num_examples_per_domain_per_label\": 100,\n",
    "        \"pickle_path\": os.path.join(get_datasets_base_path(), \"cores.stratified_ds.2022A.pkl\"),\n",
    "        \"source_or_target_dataset\": \"target\",\n",
    "        \"x_transforms\": [\"unit_power\", \"times_zero\"],\n",
    "        \"episode_transforms\": [],\n",
    "        \"domain_prefix\": \"CORES_\"\n",
    "    }   \n",
    "]\n",
    "\n",
    "standalone_parameters[\"torch_default_dtype\"] = \"torch.float32\" \n",
    "\n",
    "\n",
    "\n",
    "standalone_parameters[\"x_net\"] =     [\n",
    "    {\"class\": \"nnReshape\", \"kargs\": {\"shape\":[-1, 1, 2, 256]}},\n",
    "    {\"class\": \"Conv2d\", \"kargs\": { \"in_channels\":1, \"out_channels\":256, \"kernel_size\":(1,7), \"bias\":False, \"padding\":(0,3), },},\n",
    "    {\"class\": \"ReLU\", \"kargs\": {\"inplace\": True}},\n",
    "    {\"class\": \"BatchNorm2d\", \"kargs\": {\"num_features\":256}},\n",
    "\n",
    "    {\"class\": \"Conv2d\", \"kargs\": { \"in_channels\":256, \"out_channels\":80, \"kernel_size\":(2,7), \"bias\":True, \"padding\":(0,3), },},\n",
    "    {\"class\": \"ReLU\", \"kargs\": {\"inplace\": True}},\n",
    "    {\"class\": \"BatchNorm2d\", \"kargs\": {\"num_features\":80}},\n",
    "    {\"class\": \"Flatten\", \"kargs\": {}},\n",
    "\n",
    "    {\"class\": \"Linear\", \"kargs\": {\"in_features\": 80*256, \"out_features\": 256}}, # 80 units per IQ pair\n",
    "    {\"class\": \"ReLU\", \"kargs\": {\"inplace\": True}},\n",
    "    {\"class\": \"BatchNorm1d\", \"kargs\": {\"num_features\":256}},\n",
    "\n",
    "    {\"class\": \"Linear\", \"kargs\": {\"in_features\": 256, \"out_features\": 256}},\n",
    "]\n",
    "\n",
    "# Parameters relevant to results\n",
    "# These parameters will basically never need to change\n",
    "standalone_parameters[\"NUM_LOGS_PER_EPOCH\"] = 10\n",
    "standalone_parameters[\"BEST_MODEL_PATH\"] = \"./best_model.pth\"\n",
    "\n",
    "\n",
    "\n",
    "\n"
   ]
  },
  {
   "cell_type": "code",
   "execution_count": 4,
   "id": "ed39c8f1",
   "metadata": {
    "execution": {
     "iopub.execute_input": "2022-03-18T22:41:33.908131Z",
     "iopub.status.busy": "2022-03-18T22:41:33.907678Z",
     "iopub.status.idle": "2022-03-18T22:41:33.919485Z",
     "shell.execute_reply": "2022-03-18T22:41:33.919831Z"
    },
    "papermill": {
     "duration": 0.033824,
     "end_time": "2022-03-18T22:41:33.919940",
     "exception": false,
     "start_time": "2022-03-18T22:41:33.886116",
     "status": "completed"
    },
    "tags": [
     "injected-parameters"
    ]
   },
   "outputs": [],
   "source": [
    "# Parameters\n",
    "parameters = {\n",
    "    \"experiment_name\": \"tl_3A:cores+wisig -> oracle.run1.framed\",\n",
    "    \"device\": \"cuda\",\n",
    "    \"lr\": 0.001,\n",
    "    \"x_shape\": [2, 200],\n",
    "    \"n_shot\": 3,\n",
    "    \"n_query\": 2,\n",
    "    \"train_k_factor\": 3,\n",
    "    \"val_k_factor\": 2,\n",
    "    \"test_k_factor\": 2,\n",
    "    \"torch_default_dtype\": \"torch.float32\",\n",
    "    \"n_epoch\": 50,\n",
    "    \"patience\": 3,\n",
    "    \"criteria_for_best\": \"target_loss\",\n",
    "    \"x_net\": [\n",
    "        {\"class\": \"nnReshape\", \"kargs\": {\"shape\": [-1, 1, 2, 200]}},\n",
    "        {\n",
    "            \"class\": \"Conv2d\",\n",
    "            \"kargs\": {\n",
    "                \"in_channels\": 1,\n",
    "                \"out_channels\": 256,\n",
    "                \"kernel_size\": [1, 7],\n",
    "                \"bias\": False,\n",
    "                \"padding\": [0, 3],\n",
    "            },\n",
    "        },\n",
    "        {\"class\": \"ReLU\", \"kargs\": {\"inplace\": True}},\n",
    "        {\"class\": \"BatchNorm2d\", \"kargs\": {\"num_features\": 256}},\n",
    "        {\n",
    "            \"class\": \"Conv2d\",\n",
    "            \"kargs\": {\n",
    "                \"in_channels\": 256,\n",
    "                \"out_channels\": 80,\n",
    "                \"kernel_size\": [2, 7],\n",
    "                \"bias\": True,\n",
    "                \"padding\": [0, 3],\n",
    "            },\n",
    "        },\n",
    "        {\"class\": \"ReLU\", \"kargs\": {\"inplace\": True}},\n",
    "        {\"class\": \"BatchNorm2d\", \"kargs\": {\"num_features\": 80}},\n",
    "        {\"class\": \"Flatten\", \"kargs\": {}},\n",
    "        {\"class\": \"Linear\", \"kargs\": {\"in_features\": 16000, \"out_features\": 256}},\n",
    "        {\"class\": \"ReLU\", \"kargs\": {\"inplace\": True}},\n",
    "        {\"class\": \"BatchNorm1d\", \"kargs\": {\"num_features\": 256}},\n",
    "        {\"class\": \"Linear\", \"kargs\": {\"in_features\": 256, \"out_features\": 256}},\n",
    "    ],\n",
    "    \"NUM_LOGS_PER_EPOCH\": 10,\n",
    "    \"BEST_MODEL_PATH\": \"./best_model.pth\",\n",
    "    \"n_way\": 16,\n",
    "    \"datasets\": [\n",
    "        {\n",
    "            \"labels\": [\n",
    "                \"1-10.\",\n",
    "                \"1-11.\",\n",
    "                \"1-15.\",\n",
    "                \"1-16.\",\n",
    "                \"1-17.\",\n",
    "                \"1-18.\",\n",
    "                \"1-19.\",\n",
    "                \"10-4.\",\n",
    "                \"10-7.\",\n",
    "                \"11-1.\",\n",
    "                \"11-14.\",\n",
    "                \"11-17.\",\n",
    "                \"11-20.\",\n",
    "                \"11-7.\",\n",
    "                \"13-20.\",\n",
    "                \"13-8.\",\n",
    "                \"14-10.\",\n",
    "                \"14-11.\",\n",
    "                \"14-14.\",\n",
    "                \"14-7.\",\n",
    "                \"15-1.\",\n",
    "                \"15-20.\",\n",
    "                \"16-1.\",\n",
    "                \"16-16.\",\n",
    "                \"17-10.\",\n",
    "                \"17-11.\",\n",
    "                \"17-2.\",\n",
    "                \"19-1.\",\n",
    "                \"19-16.\",\n",
    "                \"19-19.\",\n",
    "                \"19-20.\",\n",
    "                \"19-3.\",\n",
    "                \"2-10.\",\n",
    "                \"2-11.\",\n",
    "                \"2-17.\",\n",
    "                \"2-18.\",\n",
    "                \"2-20.\",\n",
    "                \"2-3.\",\n",
    "                \"2-4.\",\n",
    "                \"2-5.\",\n",
    "                \"2-6.\",\n",
    "                \"2-7.\",\n",
    "                \"2-8.\",\n",
    "                \"3-13.\",\n",
    "                \"3-18.\",\n",
    "                \"3-3.\",\n",
    "                \"4-1.\",\n",
    "                \"4-10.\",\n",
    "                \"4-11.\",\n",
    "                \"4-19.\",\n",
    "                \"5-5.\",\n",
    "                \"6-15.\",\n",
    "                \"7-10.\",\n",
    "                \"7-14.\",\n",
    "                \"8-18.\",\n",
    "                \"8-20.\",\n",
    "                \"8-3.\",\n",
    "                \"8-8.\",\n",
    "            ],\n",
    "            \"domains\": [1, 2, 3, 4, 5],\n",
    "            \"num_examples_per_domain_per_label\": 100,\n",
    "            \"pickle_path\": \"/mnt/wd500GB/CSC500/csc500-main/datasets/cores.stratified_ds.2022A.pkl\",\n",
    "            \"source_or_target_dataset\": \"source\",\n",
    "            \"x_transforms\": [\"unit_power\", \"take_200\"],\n",
    "            \"episode_transforms\": [],\n",
    "            \"domain_prefix\": \"C_A_\",\n",
    "        },\n",
    "        {\n",
    "            \"labels\": [\n",
    "                \"1-10\",\n",
    "                \"1-12\",\n",
    "                \"1-14\",\n",
    "                \"1-16\",\n",
    "                \"1-18\",\n",
    "                \"1-19\",\n",
    "                \"1-8\",\n",
    "                \"10-11\",\n",
    "                \"10-17\",\n",
    "                \"10-4\",\n",
    "                \"10-7\",\n",
    "                \"11-1\",\n",
    "                \"11-10\",\n",
    "                \"11-19\",\n",
    "                \"11-20\",\n",
    "                \"11-4\",\n",
    "                \"11-7\",\n",
    "                \"12-19\",\n",
    "                \"12-20\",\n",
    "                \"12-7\",\n",
    "                \"13-14\",\n",
    "                \"13-18\",\n",
    "                \"13-19\",\n",
    "                \"13-20\",\n",
    "                \"13-3\",\n",
    "                \"13-7\",\n",
    "                \"14-10\",\n",
    "                \"14-11\",\n",
    "                \"14-12\",\n",
    "                \"14-13\",\n",
    "                \"14-14\",\n",
    "                \"14-19\",\n",
    "                \"14-20\",\n",
    "                \"14-7\",\n",
    "                \"14-8\",\n",
    "                \"14-9\",\n",
    "                \"15-1\",\n",
    "                \"15-19\",\n",
    "                \"15-6\",\n",
    "                \"16-1\",\n",
    "                \"16-16\",\n",
    "                \"16-19\",\n",
    "                \"16-20\",\n",
    "                \"17-10\",\n",
    "                \"17-11\",\n",
    "                \"18-1\",\n",
    "                \"18-10\",\n",
    "                \"18-11\",\n",
    "                \"18-12\",\n",
    "                \"18-13\",\n",
    "                \"18-14\",\n",
    "                \"18-15\",\n",
    "                \"18-16\",\n",
    "                \"18-17\",\n",
    "                \"18-19\",\n",
    "                \"18-2\",\n",
    "                \"18-20\",\n",
    "                \"18-4\",\n",
    "                \"18-5\",\n",
    "                \"18-7\",\n",
    "                \"18-8\",\n",
    "                \"18-9\",\n",
    "                \"19-1\",\n",
    "                \"19-10\",\n",
    "                \"19-11\",\n",
    "                \"19-12\",\n",
    "                \"19-13\",\n",
    "                \"19-14\",\n",
    "                \"19-15\",\n",
    "                \"19-19\",\n",
    "                \"19-2\",\n",
    "                \"19-20\",\n",
    "                \"19-3\",\n",
    "                \"19-4\",\n",
    "                \"19-6\",\n",
    "                \"19-7\",\n",
    "                \"19-8\",\n",
    "                \"19-9\",\n",
    "                \"2-1\",\n",
    "                \"2-13\",\n",
    "                \"2-15\",\n",
    "                \"2-3\",\n",
    "                \"2-4\",\n",
    "                \"2-5\",\n",
    "                \"2-6\",\n",
    "                \"2-7\",\n",
    "                \"2-8\",\n",
    "                \"20-1\",\n",
    "                \"20-12\",\n",
    "                \"20-14\",\n",
    "                \"20-15\",\n",
    "                \"20-16\",\n",
    "                \"20-18\",\n",
    "                \"20-19\",\n",
    "                \"20-20\",\n",
    "                \"20-3\",\n",
    "                \"20-4\",\n",
    "                \"20-5\",\n",
    "                \"20-7\",\n",
    "                \"20-8\",\n",
    "                \"3-1\",\n",
    "                \"3-13\",\n",
    "                \"3-18\",\n",
    "                \"3-2\",\n",
    "                \"3-8\",\n",
    "                \"4-1\",\n",
    "                \"4-10\",\n",
    "                \"4-11\",\n",
    "                \"5-1\",\n",
    "                \"5-5\",\n",
    "                \"6-1\",\n",
    "                \"6-15\",\n",
    "                \"6-6\",\n",
    "                \"7-10\",\n",
    "                \"7-11\",\n",
    "                \"7-12\",\n",
    "                \"7-13\",\n",
    "                \"7-14\",\n",
    "                \"7-7\",\n",
    "                \"7-8\",\n",
    "                \"7-9\",\n",
    "                \"8-1\",\n",
    "                \"8-13\",\n",
    "                \"8-14\",\n",
    "                \"8-18\",\n",
    "                \"8-20\",\n",
    "                \"8-3\",\n",
    "                \"8-8\",\n",
    "                \"9-1\",\n",
    "                \"9-7\",\n",
    "            ],\n",
    "            \"domains\": [1, 2, 3, 4],\n",
    "            \"num_examples_per_domain_per_label\": 100,\n",
    "            \"pickle_path\": \"/mnt/wd500GB/CSC500/csc500-main/datasets/wisig.node3-19.stratified_ds.2022A.pkl\",\n",
    "            \"source_or_target_dataset\": \"source\",\n",
    "            \"x_transforms\": [\"unit_power\", \"take_200\"],\n",
    "            \"episode_transforms\": [],\n",
    "            \"domain_prefix\": \"W_A_\",\n",
    "        },\n",
    "        {\n",
    "            \"labels\": [\n",
    "                \"3123D52\",\n",
    "                \"3123D65\",\n",
    "                \"3123D79\",\n",
    "                \"3123D80\",\n",
    "                \"3123D54\",\n",
    "                \"3123D70\",\n",
    "                \"3123D7B\",\n",
    "                \"3123D89\",\n",
    "                \"3123D58\",\n",
    "                \"3123D76\",\n",
    "                \"3123D7D\",\n",
    "                \"3123EFE\",\n",
    "                \"3123D64\",\n",
    "                \"3123D78\",\n",
    "                \"3123D7E\",\n",
    "                \"3124E4A\",\n",
    "            ],\n",
    "            \"domains\": [32, 38, 8, 44, 14, 50, 20, 26],\n",
    "            \"num_examples_per_domain_per_label\": 2000,\n",
    "            \"pickle_path\": \"/mnt/wd500GB/CSC500/csc500-main/datasets/oracle.Run1_framed_2000Examples_stratified_ds.2022A.pkl\",\n",
    "            \"source_or_target_dataset\": \"target\",\n",
    "            \"x_transforms\": [\"unit_power\", \"take_200\", \"resample_20Msps_to_25Msps\"],\n",
    "            \"episode_transforms\": [],\n",
    "            \"domain_prefix\": \"ORACLE.run1_\",\n",
    "        },\n",
    "    ],\n",
    "    \"seed\": 7,\n",
    "    \"dataset_seed\": 7,\n",
    "}\n"
   ]
  },
  {
   "cell_type": "code",
   "execution_count": 5,
   "id": "8fa1cc33",
   "metadata": {
    "execution": {
     "iopub.execute_input": "2022-03-18T22:41:33.953150Z",
     "iopub.status.busy": "2022-03-18T22:41:33.952892Z",
     "iopub.status.idle": "2022-03-18T22:41:33.963964Z",
     "shell.execute_reply": "2022-03-18T22:41:33.963654Z"
    },
    "papermill": {
     "duration": 0.026178,
     "end_time": "2022-03-18T22:41:33.964051",
     "exception": false,
     "start_time": "2022-03-18T22:41:33.937873",
     "status": "completed"
    },
    "tags": []
   },
   "outputs": [],
   "source": [
    "# Set this to True if you want to run this template directly\n",
    "STANDALONE = False\n",
    "if STANDALONE:\n",
    "    print(\"parameters not injected, running with standalone_parameters\")\n",
    "    parameters = standalone_parameters\n",
    "\n",
    "if not 'parameters' in locals() and not 'parameters' in globals():\n",
    "    raise Exception(\"Parameter injection failed\")\n",
    "\n",
    "#Use an easy dict for all the parameters\n",
    "p = EasyDict(parameters)\n",
    "\n",
    "if \"x_shape\" not in p:\n",
    "    p.x_shape = [2,256] # Default to this if we dont supply x_shape\n",
    "\n",
    "\n",
    "supplied_keys = set(p.keys())\n",
    "\n",
    "if  supplied_keys != required_parameters:\n",
    "    print(\"Parameters are incorrect\")\n",
    "    if len(supplied_keys - required_parameters)>0: print(\"Shouldn't have:\", str(supplied_keys - required_parameters))\n",
    "    if len(required_parameters - supplied_keys)>0: print(\"Need to have:\", str(required_parameters - supplied_keys))\n",
    "    raise RuntimeError(\"Parameters are incorrect\")"
   ]
  },
  {
   "cell_type": "code",
   "execution_count": 6,
   "id": "3a028d58",
   "metadata": {
    "execution": {
     "iopub.execute_input": "2022-03-18T22:41:33.996380Z",
     "iopub.status.busy": "2022-03-18T22:41:33.996125Z",
     "iopub.status.idle": "2022-03-18T22:41:34.006726Z",
     "shell.execute_reply": "2022-03-18T22:41:34.006927Z"
    },
    "papermill": {
     "duration": 0.024934,
     "end_time": "2022-03-18T22:41:34.006984",
     "exception": false,
     "start_time": "2022-03-18T22:41:33.982050",
     "status": "completed"
    },
    "tags": []
   },
   "outputs": [],
   "source": [
    "###################################\n",
    "# Set the RNGs and make it all deterministic\n",
    "###################################\n",
    "np.random.seed(p.seed)\n",
    "random.seed(p.seed)\n",
    "torch.manual_seed(p.seed)\n",
    "\n",
    "torch.use_deterministic_algorithms(True) "
   ]
  },
  {
   "cell_type": "code",
   "execution_count": 7,
   "id": "b691acf6",
   "metadata": {
    "execution": {
     "iopub.execute_input": "2022-03-18T22:41:34.037763Z",
     "iopub.status.busy": "2022-03-18T22:41:34.037516Z",
     "iopub.status.idle": "2022-03-18T22:41:34.047287Z",
     "shell.execute_reply": "2022-03-18T22:41:34.047014Z"
    },
    "papermill": {
     "duration": 0.023859,
     "end_time": "2022-03-18T22:41:34.047338",
     "exception": false,
     "start_time": "2022-03-18T22:41:34.023479",
     "status": "completed"
    },
    "tags": []
   },
   "outputs": [],
   "source": [
    "###########################################\n",
    "# The stratified datasets honor this\n",
    "###########################################\n",
    "torch.set_default_dtype(eval(p.torch_default_dtype))"
   ]
  },
  {
   "cell_type": "code",
   "execution_count": 8,
   "id": "b5fba671",
   "metadata": {
    "execution": {
     "iopub.execute_input": "2022-03-18T22:41:34.078249Z",
     "iopub.status.busy": "2022-03-18T22:41:34.078004Z",
     "iopub.status.idle": "2022-03-18T22:41:34.108511Z",
     "shell.execute_reply": "2022-03-18T22:41:34.108857Z"
    },
    "papermill": {
     "duration": 0.045157,
     "end_time": "2022-03-18T22:41:34.108962",
     "exception": false,
     "start_time": "2022-03-18T22:41:34.063805",
     "status": "completed"
    },
    "tags": []
   },
   "outputs": [],
   "source": [
    "###################################\n",
    "# Build the network(s)\n",
    "# Note: It's critical to do this AFTER setting the RNG\n",
    "###################################\n",
    "x_net = build_sequential(p.x_net)"
   ]
  },
  {
   "cell_type": "code",
   "execution_count": 9,
   "id": "5d7e61cc",
   "metadata": {
    "execution": {
     "iopub.execute_input": "2022-03-18T22:41:34.141747Z",
     "iopub.status.busy": "2022-03-18T22:41:34.141500Z",
     "iopub.status.idle": "2022-03-18T22:41:34.152389Z",
     "shell.execute_reply": "2022-03-18T22:41:34.152590Z"
    },
    "papermill": {
     "duration": 0.025592,
     "end_time": "2022-03-18T22:41:34.152690",
     "exception": false,
     "start_time": "2022-03-18T22:41:34.127098",
     "status": "completed"
    },
    "tags": []
   },
   "outputs": [],
   "source": [
    "start_time_secs = time.time()"
   ]
  },
  {
   "cell_type": "code",
   "execution_count": 10,
   "id": "c6b67dfd",
   "metadata": {
    "execution": {
     "iopub.execute_input": "2022-03-18T22:41:34.185595Z",
     "iopub.status.busy": "2022-03-18T22:41:34.185347Z",
     "iopub.status.idle": "2022-03-18T22:41:34.195991Z",
     "shell.execute_reply": "2022-03-18T22:41:34.195689Z"
    },
    "papermill": {
     "duration": 0.025173,
     "end_time": "2022-03-18T22:41:34.196059",
     "exception": false,
     "start_time": "2022-03-18T22:41:34.170886",
     "status": "completed"
    },
    "tags": []
   },
   "outputs": [],
   "source": [
    "p.domains_source = []\n",
    "p.domains_target = []\n",
    "\n",
    "\n",
    "train_original_source = []\n",
    "val_original_source   = []\n",
    "test_original_source  = []\n",
    "\n",
    "train_original_target = []\n",
    "val_original_target   = []\n",
    "test_original_target  = []"
   ]
  },
  {
   "cell_type": "code",
   "execution_count": 11,
   "id": "e3d9c3d3",
   "metadata": {
    "execution": {
     "iopub.execute_input": "2022-03-18T22:41:34.228741Z",
     "iopub.status.busy": "2022-03-18T22:41:34.228486Z",
     "iopub.status.idle": "2022-03-18T22:41:34.237810Z",
     "shell.execute_reply": "2022-03-18T22:41:34.238012Z"
    },
    "papermill": {
     "duration": 0.024146,
     "end_time": "2022-03-18T22:41:34.238068",
     "exception": false,
     "start_time": "2022-03-18T22:41:34.213922",
     "status": "completed"
    },
    "tags": []
   },
   "outputs": [],
   "source": [
    "# global_x_transform_func = lambda x: normalize(x.to(torch.get_default_dtype()), \"unit_power\") # unit_power, unit_mag\n",
    "# global_x_transform_func = lambda x: normalize(x, \"unit_power\") # unit_power, unit_mag"
   ]
  },
  {
   "cell_type": "code",
   "execution_count": 12,
   "id": "acb78fd2",
   "metadata": {
    "execution": {
     "iopub.execute_input": "2022-03-18T22:41:34.273427Z",
     "iopub.status.busy": "2022-03-18T22:41:34.273174Z",
     "iopub.status.idle": "2022-03-18T22:41:34.285136Z",
     "shell.execute_reply": "2022-03-18T22:41:34.284696Z"
    },
    "papermill": {
     "duration": 0.031571,
     "end_time": "2022-03-18T22:41:34.285223",
     "exception": false,
     "start_time": "2022-03-18T22:41:34.253652",
     "status": "completed"
    },
    "tags": []
   },
   "outputs": [],
   "source": [
    "def add_dataset(\n",
    "    labels,\n",
    "    domains,\n",
    "    pickle_path,\n",
    "    x_transforms,\n",
    "    episode_transforms,\n",
    "    domain_prefix,\n",
    "    num_examples_per_domain_per_label,\n",
    "    source_or_target_dataset:str,\n",
    "    iterator_seed=p.seed,\n",
    "    dataset_seed=p.dataset_seed,\n",
    "    n_shot=p.n_shot,\n",
    "    n_way=p.n_way,\n",
    "    n_query=p.n_query,\n",
    "    train_val_test_k_factors=(p.train_k_factor,p.val_k_factor,p.test_k_factor),\n",
    "):\n",
    "   \n",
    "    if x_transforms == []: x_transform = None\n",
    "    else: x_transform = get_chained_transform(x_transforms)\n",
    "    \n",
    "    if episode_transforms == []: episode_transform = None\n",
    "    else: raise Exception(\"episode_transforms not implemented\")\n",
    "    \n",
    "    episode_transform = lambda tup, _prefix=domain_prefix: (_prefix + str(tup[0]), tup[1])\n",
    "\n",
    "\n",
    "    eaf = Episodic_Accessor_Factory(\n",
    "        labels=labels,\n",
    "        domains=domains,\n",
    "        num_examples_per_domain_per_label=num_examples_per_domain_per_label,\n",
    "        iterator_seed=iterator_seed,\n",
    "        dataset_seed=dataset_seed,\n",
    "        n_shot=n_shot,\n",
    "        n_way=n_way,\n",
    "        n_query=n_query,\n",
    "        train_val_test_k_factors=train_val_test_k_factors,\n",
    "        pickle_path=pickle_path,\n",
    "        x_transform_func=x_transform,\n",
    "    )\n",
    "\n",
    "    train, val, test = eaf.get_train(), eaf.get_val(), eaf.get_test()\n",
    "    train = Lazy_Iterable_Wrapper(train, episode_transform)\n",
    "    val = Lazy_Iterable_Wrapper(val, episode_transform)\n",
    "    test = Lazy_Iterable_Wrapper(test, episode_transform)\n",
    "\n",
    "    if source_or_target_dataset==\"source\":\n",
    "        train_original_source.append(train)\n",
    "        val_original_source.append(val)\n",
    "        test_original_source.append(test)\n",
    "\n",
    "        p.domains_source.extend(\n",
    "            [domain_prefix + str(u) for u in domains]\n",
    "        )\n",
    "    elif source_or_target_dataset==\"target\":\n",
    "        train_original_target.append(train)\n",
    "        val_original_target.append(val)\n",
    "        test_original_target.append(test)\n",
    "        p.domains_target.extend(\n",
    "            [domain_prefix + str(u) for u in domains]\n",
    "        )\n",
    "    else:\n",
    "        raise Exception(f\"invalid source_or_target_dataset: {source_or_target_dataset}\")\n",
    "    "
   ]
  },
  {
   "cell_type": "code",
   "execution_count": 13,
   "id": "fe266617",
   "metadata": {
    "execution": {
     "iopub.execute_input": "2022-03-18T22:41:34.318046Z",
     "iopub.status.busy": "2022-03-18T22:41:34.317804Z",
     "iopub.status.idle": "2022-03-18T22:42:12.920504Z",
     "shell.execute_reply": "2022-03-18T22:42:12.920084Z"
    },
    "papermill": {
     "duration": 38.617652,
     "end_time": "2022-03-18T22:42:12.920604",
     "exception": false,
     "start_time": "2022-03-18T22:41:34.302952",
     "status": "completed"
    },
    "tags": []
   },
   "outputs": [],
   "source": [
    "for ds in p.datasets:\n",
    "    add_dataset(**ds)"
   ]
  },
  {
   "cell_type": "code",
   "execution_count": 14,
   "id": "b90d65ac",
   "metadata": {
    "execution": {
     "iopub.execute_input": "2022-03-18T22:42:12.954812Z",
     "iopub.status.busy": "2022-03-18T22:42:12.954564Z",
     "iopub.status.idle": "2022-03-18T22:42:12.969046Z",
     "shell.execute_reply": "2022-03-18T22:42:12.968602Z"
    },
    "papermill": {
     "duration": 0.0295,
     "end_time": "2022-03-18T22:42:12.969135",
     "exception": false,
     "start_time": "2022-03-18T22:42:12.939635",
     "status": "completed"
    },
    "tags": []
   },
   "outputs": [],
   "source": [
    "# from steves_utils.CORES.utils import (\n",
    "#     ALL_NODES,\n",
    "#     ALL_NODES_MINIMUM_1000_EXAMPLES,\n",
    "#     ALL_DAYS\n",
    "# )\n",
    "\n",
    "# add_dataset(\n",
    "#     labels=ALL_NODES,\n",
    "#     domains = ALL_DAYS,\n",
    "#     num_examples_per_domain_per_label=100,\n",
    "#     pickle_path=os.path.join(get_datasets_base_path(), \"cores.stratified_ds.2022A.pkl\"),\n",
    "#     source_or_target_dataset=\"target\",\n",
    "#     x_transform_func=global_x_transform_func,\n",
    "#     domain_modifier=lambda u: f\"cores_{u}\"\n",
    "# )"
   ]
  },
  {
   "cell_type": "code",
   "execution_count": 15,
   "id": "76db484d",
   "metadata": {
    "execution": {
     "iopub.execute_input": "2022-03-18T22:42:13.002730Z",
     "iopub.status.busy": "2022-03-18T22:42:13.002484Z",
     "iopub.status.idle": "2022-03-18T22:42:13.016525Z",
     "shell.execute_reply": "2022-03-18T22:42:13.016894Z"
    },
    "papermill": {
     "duration": 0.029574,
     "end_time": "2022-03-18T22:42:13.016996",
     "exception": false,
     "start_time": "2022-03-18T22:42:12.987422",
     "status": "completed"
    },
    "tags": []
   },
   "outputs": [],
   "source": [
    "# from steves_utils.ORACLE.utils_v2 import (\n",
    "#     ALL_DISTANCES_FEET,\n",
    "#     ALL_RUNS,\n",
    "#     ALL_SERIAL_NUMBERS,\n",
    "# )\n",
    "\n",
    "\n",
    "# add_dataset(\n",
    "#     labels=ALL_SERIAL_NUMBERS,\n",
    "#     domains = list(set(ALL_DISTANCES_FEET) - {2,62}),\n",
    "#     num_examples_per_domain_per_label=100,\n",
    "#     pickle_path=os.path.join(get_datasets_base_path(), \"oracle.Run2_framed_2000Examples_stratified_ds.2022A.pkl\"),\n",
    "#     source_or_target_dataset=\"source\",\n",
    "#     x_transform_func=global_x_transform_func,\n",
    "#     domain_modifier=lambda u: f\"oracle1_{u}\"\n",
    "# )\n"
   ]
  },
  {
   "cell_type": "code",
   "execution_count": 16,
   "id": "97dea9d2",
   "metadata": {
    "execution": {
     "iopub.execute_input": "2022-03-18T22:42:13.048816Z",
     "iopub.status.busy": "2022-03-18T22:42:13.048567Z",
     "iopub.status.idle": "2022-03-18T22:42:13.064040Z",
     "shell.execute_reply": "2022-03-18T22:42:13.063658Z"
    },
    "papermill": {
     "duration": 0.030418,
     "end_time": "2022-03-18T22:42:13.064133",
     "exception": false,
     "start_time": "2022-03-18T22:42:13.033715",
     "status": "completed"
    },
    "tags": []
   },
   "outputs": [],
   "source": [
    "# from steves_utils.ORACLE.utils_v2 import (\n",
    "#     ALL_DISTANCES_FEET,\n",
    "#     ALL_RUNS,\n",
    "#     ALL_SERIAL_NUMBERS,\n",
    "# )\n",
    "\n",
    "\n",
    "# add_dataset(\n",
    "#     labels=ALL_SERIAL_NUMBERS,\n",
    "#     domains = list(set(ALL_DISTANCES_FEET) - {2,62,56}),\n",
    "#     num_examples_per_domain_per_label=100,\n",
    "#     pickle_path=os.path.join(get_datasets_base_path(), \"oracle.Run2_framed_2000Examples_stratified_ds.2022A.pkl\"),\n",
    "#     source_or_target_dataset=\"source\",\n",
    "#     x_transform_func=global_x_transform_func,\n",
    "#     domain_modifier=lambda u: f\"oracle2_{u}\"\n",
    "# )"
   ]
  },
  {
   "cell_type": "code",
   "execution_count": 17,
   "id": "6f289866",
   "metadata": {
    "execution": {
     "iopub.execute_input": "2022-03-18T22:42:13.098624Z",
     "iopub.status.busy": "2022-03-18T22:42:13.098370Z",
     "iopub.status.idle": "2022-03-18T22:42:13.107520Z",
     "shell.execute_reply": "2022-03-18T22:42:13.107308Z"
    },
    "papermill": {
     "duration": 0.024935,
     "end_time": "2022-03-18T22:42:13.107595",
     "exception": false,
     "start_time": "2022-03-18T22:42:13.082660",
     "status": "completed"
    },
    "tags": []
   },
   "outputs": [],
   "source": [
    "# add_dataset(\n",
    "#     labels=list(range(19)),\n",
    "#     domains = [0,1,2],\n",
    "#     num_examples_per_domain_per_label=100,\n",
    "#     pickle_path=os.path.join(get_datasets_base_path(), \"metehan.stratified_ds.2022A.pkl\"),\n",
    "#     source_or_target_dataset=\"target\",\n",
    "#     x_transform_func=global_x_transform_func,\n",
    "#     domain_modifier=lambda u: f\"met_{u}\"\n",
    "# )"
   ]
  },
  {
   "cell_type": "code",
   "execution_count": 18,
   "id": "86a863c3",
   "metadata": {
    "execution": {
     "iopub.execute_input": "2022-03-18T22:42:13.141685Z",
     "iopub.status.busy": "2022-03-18T22:42:13.140977Z",
     "iopub.status.idle": "2022-03-18T22:42:13.156220Z",
     "shell.execute_reply": "2022-03-18T22:42:13.155794Z"
    },
    "papermill": {
     "duration": 0.029844,
     "end_time": "2022-03-18T22:42:13.156308",
     "exception": false,
     "start_time": "2022-03-18T22:42:13.126464",
     "status": "completed"
    },
    "tags": []
   },
   "outputs": [],
   "source": [
    "# # from steves_utils.wisig.utils import (\n",
    "# #     ALL_NODES_MINIMUM_100_EXAMPLES,\n",
    "# #     ALL_NODES_MINIMUM_500_EXAMPLES,\n",
    "# #     ALL_NODES_MINIMUM_1000_EXAMPLES,\n",
    "# #     ALL_DAYS\n",
    "# # )\n",
    "\n",
    "# import steves_utils.wisig.utils as wisig\n",
    "\n",
    "\n",
    "# add_dataset(\n",
    "#     labels=wisig.ALL_NODES_MINIMUM_100_EXAMPLES,\n",
    "#     domains = wisig.ALL_DAYS,\n",
    "#     num_examples_per_domain_per_label=100,\n",
    "#     pickle_path=os.path.join(get_datasets_base_path(), \"wisig.node3-19.stratified_ds.2022A.pkl\"),\n",
    "#     source_or_target_dataset=\"target\",\n",
    "#     x_transform_func=global_x_transform_func,\n",
    "#     domain_modifier=lambda u: f\"wisig_{u}\"\n",
    "# )"
   ]
  },
  {
   "cell_type": "code",
   "execution_count": 19,
   "id": "fd5442bc",
   "metadata": {
    "execution": {
     "iopub.execute_input": "2022-03-18T22:42:13.192913Z",
     "iopub.status.busy": "2022-03-18T22:42:13.192654Z",
     "iopub.status.idle": "2022-03-18T22:42:13.205390Z",
     "shell.execute_reply": "2022-03-18T22:42:13.205047Z"
    },
    "papermill": {
     "duration": 0.030487,
     "end_time": "2022-03-18T22:42:13.205460",
     "exception": false,
     "start_time": "2022-03-18T22:42:13.174973",
     "status": "completed"
    },
    "tags": []
   },
   "outputs": [],
   "source": [
    "###################################\n",
    "# Build the dataset\n",
    "###################################\n",
    "train_original_source = Iterable_Aggregator(train_original_source, p.seed)\n",
    "val_original_source = Iterable_Aggregator(val_original_source, p.seed)\n",
    "test_original_source = Iterable_Aggregator(test_original_source, p.seed)\n",
    "\n",
    "\n",
    "train_original_target = Iterable_Aggregator(train_original_target, p.seed)\n",
    "val_original_target = Iterable_Aggregator(val_original_target, p.seed)\n",
    "test_original_target = Iterable_Aggregator(test_original_target, p.seed)\n",
    "\n",
    "# For CNN We only use X and Y. And we only train on the source.\n",
    "# Properly form the data using a transform lambda and Lazy_Iterable_Wrapper. Finally wrap them in a dataloader\n",
    "\n",
    "transform_lambda = lambda ex: ex[1] # Original is (<domain>, <episode>) so we strip down to episode only\n",
    "\n",
    "train_processed_source = Lazy_Iterable_Wrapper(train_original_source, transform_lambda)\n",
    "val_processed_source   = Lazy_Iterable_Wrapper(val_original_source, transform_lambda)\n",
    "test_processed_source  = Lazy_Iterable_Wrapper(test_original_source, transform_lambda)\n",
    "\n",
    "train_processed_target = Lazy_Iterable_Wrapper(train_original_target, transform_lambda)\n",
    "val_processed_target   = Lazy_Iterable_Wrapper(val_original_target, transform_lambda)\n",
    "test_processed_target  = Lazy_Iterable_Wrapper(test_original_target, transform_lambda)\n",
    "\n",
    "datasets = EasyDict({\n",
    "    \"source\": {\n",
    "        \"original\": {\"train\":train_original_source, \"val\":val_original_source, \"test\":test_original_source},\n",
    "        \"processed\": {\"train\":train_processed_source, \"val\":val_processed_source, \"test\":test_processed_source}\n",
    "    },\n",
    "    \"target\": {\n",
    "        \"original\": {\"train\":train_original_target, \"val\":val_original_target, \"test\":test_original_target},\n",
    "        \"processed\": {\"train\":train_processed_target, \"val\":val_processed_target, \"test\":test_processed_target}\n",
    "    },\n",
    "})"
   ]
  },
  {
   "cell_type": "code",
   "execution_count": 20,
   "id": "5b3c01fc",
   "metadata": {
    "execution": {
     "iopub.execute_input": "2022-03-18T22:42:13.238766Z",
     "iopub.status.busy": "2022-03-18T22:42:13.237236Z",
     "iopub.status.idle": "2022-03-18T22:42:18.037917Z",
     "shell.execute_reply": "2022-03-18T22:42:18.037378Z"
    },
    "papermill": {
     "duration": 4.815595,
     "end_time": "2022-03-18T22:42:18.038032",
     "exception": false,
     "start_time": "2022-03-18T22:42:13.222437",
     "status": "completed"
    },
    "tags": []
   },
   "outputs": [
    {
     "name": "stdout",
     "output_type": "stream",
     "text": [
      "{'C_A_3', 'C_A_4', 'C_A_1', 'W_A_3', 'C_A_5', 'W_A_4', 'W_A_2', 'W_A_1', 'C_A_2'}\n"
     ]
    },
    {
     "name": "stdout",
     "output_type": "stream",
     "text": [
      "{'ORACLE.run1_26', 'ORACLE.run1_14', 'ORACLE.run1_8', 'ORACLE.run1_32', 'ORACLE.run1_20', 'ORACLE.run1_44', 'ORACLE.run1_38', 'ORACLE.run1_50'}\n"
     ]
    },
    {
     "name": "stdout",
     "output_type": "stream",
     "text": [
      "tensor([[[-0.6908, -0.8861,  0.0071,  ..., -0.8672, -0.5388, -0.2867],\n",
      "         [ 1.1012, -0.2946, -1.3808,  ...,  1.1035, -0.3970,  0.3647]],\n",
      "\n",
      "        [[-0.9576,  0.4544,  1.3322,  ..., -0.8330,  0.5487, -0.5519],\n",
      "         [-0.6645, -1.0878,  0.1078,  ..., -0.8777, -0.5758, -0.4489]],\n",
      "\n",
      "        [[-0.3979,  0.8482,  0.9515,  ..., -0.3341,  0.5870, -0.4488],\n",
      "         [-0.9431, -0.7829,  0.5953,  ..., -1.0084, -0.2240, -0.9492]],\n",
      "\n",
      "        ...,\n",
      "\n",
      "        [[ 1.4058,  0.5738, -0.0192,  ...,  1.3719,  0.6594,  0.9500],\n",
      "         [-0.2272, -0.0782, -0.0339,  ..., -0.3467, -0.1962,  0.3526]],\n",
      "\n",
      "        [[-0.2376, -0.1385,  0.0708,  ..., -0.5822,  0.1526,  0.9960],\n",
      "         [-0.2360, -0.2518, -0.3761,  ..., -0.5570, -0.1212,  0.7427]],\n",
      "\n",
      "        [[-0.5721,  0.5043,  1.3675,  ...,  0.1297,  0.1758, -1.2652],\n",
      "         [-1.0937, -1.4265, -0.5576,  ..., -1.8487, -0.9539, -0.4899]]])\n"
     ]
    }
   ],
   "source": [
    "from steves_utils.transforms import get_average_magnitude, get_average_power\n",
    "\n",
    "print(set([u for u,_ in val_original_source]))\n",
    "print(set([u for u,_ in val_original_target]))\n",
    "\n",
    "s_x, s_y, q_x, q_y, _ = next(iter(train_processed_source))\n",
    "print(s_x)\n",
    "\n",
    "# for ds in [\n",
    "#     train_processed_source,\n",
    "#     val_processed_source,\n",
    "#     test_processed_source,\n",
    "#     train_processed_target,\n",
    "#     val_processed_target,\n",
    "#     test_processed_target\n",
    "# ]:\n",
    "#     for s_x, s_y, q_x, q_y, _ in ds:\n",
    "#         for X in (s_x, q_x):\n",
    "#             for x in X:\n",
    "#                 assert np.isclose(get_average_magnitude(x.numpy()), 1.0)\n",
    "#                 assert np.isclose(get_average_power(x.numpy()), 1.0)\n",
    "                "
   ]
  },
  {
   "cell_type": "code",
   "execution_count": 21,
   "id": "bbdacba1",
   "metadata": {
    "execution": {
     "iopub.execute_input": "2022-03-18T22:42:18.081962Z",
     "iopub.status.busy": "2022-03-18T22:42:18.081704Z",
     "iopub.status.idle": "2022-03-18T22:42:18.133673Z",
     "shell.execute_reply": "2022-03-18T22:42:18.134046Z"
    },
    "papermill": {
     "duration": 0.07383,
     "end_time": "2022-03-18T22:42:18.134154",
     "exception": false,
     "start_time": "2022-03-18T22:42:18.060324",
     "status": "completed"
    },
    "tags": []
   },
   "outputs": [
    {
     "name": "stdout",
     "output_type": "stream",
     "text": [
      "(2, 200)\n"
     ]
    }
   ],
   "source": [
    "###################################\n",
    "# Build the model\n",
    "###################################\n",
    "# easfsl only wants a tuple for the shape\n",
    "model = Steves_Prototypical_Network(x_net, device=p.device, x_shape=tuple(p.x_shape))\n",
    "optimizer = Adam(params=model.parameters(), lr=p.lr)"
   ]
  },
  {
   "cell_type": "code",
   "execution_count": 22,
   "id": "22b39ac5",
   "metadata": {
    "execution": {
     "iopub.execute_input": "2022-03-18T22:42:18.171181Z",
     "iopub.status.busy": "2022-03-18T22:42:18.170925Z",
     "iopub.status.idle": "2022-03-18T22:47:51.349031Z",
     "shell.execute_reply": "2022-03-18T22:47:51.348805Z"
    },
    "papermill": {
     "duration": 333.195934,
     "end_time": "2022-03-18T22:47:51.349090",
     "exception": false,
     "start_time": "2022-03-18T22:42:18.153156",
     "status": "completed"
    },
    "tags": []
   },
   "outputs": [
    {
     "name": "stdout",
     "output_type": "stream",
     "text": [
      "epoch: 1, [batch: 1 / 2078], examples_per_second: 124.2688, train_label_loss: 2.6358, \n"
     ]
    },
    {
     "name": "stdout",
     "output_type": "stream",
     "text": [
      "epoch: 1, [batch: 208 / 2078], examples_per_second: 3575.6407, train_label_loss: 1.2679, \n"
     ]
    },
    {
     "name": "stdout",
     "output_type": "stream",
     "text": [
      "epoch: 1, [batch: 416 / 2078], examples_per_second: 3587.3014, train_label_loss: 0.7020, \n"
     ]
    },
    {
     "name": "stdout",
     "output_type": "stream",
     "text": [
      "epoch: 1, [batch: 624 / 2078], examples_per_second: 3591.0906, train_label_loss: 0.6040, \n"
     ]
    },
    {
     "name": "stdout",
     "output_type": "stream",
     "text": [
      "epoch: 1, [batch: 831 / 2078], examples_per_second: 3643.5012, train_label_loss: 0.1082, \n"
     ]
    },
    {
     "name": "stdout",
     "output_type": "stream",
     "text": [
      "epoch: 1, [batch: 1039 / 2078], examples_per_second: 3645.4700, train_label_loss: 0.0146, \n"
     ]
    },
    {
     "name": "stdout",
     "output_type": "stream",
     "text": [
      "epoch: 1, [batch: 1247 / 2078], examples_per_second: 3672.6210, train_label_loss: 0.2172, \n"
     ]
    },
    {
     "name": "stdout",
     "output_type": "stream",
     "text": [
      "epoch: 1, [batch: 1454 / 2078], examples_per_second: 3670.6381, train_label_loss: 0.3357, \n"
     ]
    },
    {
     "name": "stdout",
     "output_type": "stream",
     "text": [
      "epoch: 1, [batch: 1662 / 2078], examples_per_second: 3608.8469, train_label_loss: 0.6715, \n"
     ]
    },
    {
     "name": "stdout",
     "output_type": "stream",
     "text": [
      "epoch: 1, [batch: 1870 / 2078], examples_per_second: 3683.7035, train_label_loss: 0.7743, \n"
     ]
    },
    {
     "name": "stdout",
     "output_type": "stream",
     "text": [
      "=============================================================\n",
      "epoch: 1, source_val_acc_label: 0.9461, target_val_acc_label: 0.1684, source_val_label_loss: 0.2376, target_val_label_loss: 2.5422, \n",
      "=============================================================\n"
     ]
    },
    {
     "name": "stdout",
     "output_type": "stream",
     "text": [
      "New best\n"
     ]
    },
    {
     "name": "stdout",
     "output_type": "stream",
     "text": [
      "epoch: 2, [batch: 1 / 2079], examples_per_second: 11.2481, train_label_loss: 0.3053, \n"
     ]
    },
    {
     "name": "stdout",
     "output_type": "stream",
     "text": [
      "epoch: 2, [batch: 208 / 2079], examples_per_second: 3570.0066, train_label_loss: 0.0364, \n"
     ]
    },
    {
     "name": "stdout",
     "output_type": "stream",
     "text": [
      "epoch: 2, [batch: 416 / 2079], examples_per_second: 3591.3206, train_label_loss: 0.0209, \n"
     ]
    },
    {
     "name": "stdout",
     "output_type": "stream",
     "text": [
      "epoch: 2, [batch: 624 / 2079], examples_per_second: 3609.1766, train_label_loss: 0.1161, \n"
     ]
    },
    {
     "name": "stdout",
     "output_type": "stream",
     "text": [
      "epoch: 2, [batch: 832 / 2079], examples_per_second: 3640.5761, train_label_loss: 0.1686, \n"
     ]
    },
    {
     "name": "stdout",
     "output_type": "stream",
     "text": [
      "epoch: 2, [batch: 1040 / 2079], examples_per_second: 3618.1614, train_label_loss: 0.5829, \n"
     ]
    },
    {
     "name": "stdout",
     "output_type": "stream",
     "text": [
      "epoch: 2, [batch: 1247 / 2079], examples_per_second: 3622.2934, train_label_loss: 0.0080, \n"
     ]
    },
    {
     "name": "stdout",
     "output_type": "stream",
     "text": [
      "epoch: 2, [batch: 1455 / 2079], examples_per_second: 3637.8517, train_label_loss: 0.5241, \n"
     ]
    },
    {
     "name": "stdout",
     "output_type": "stream",
     "text": [
      "epoch: 2, [batch: 1663 / 2079], examples_per_second: 3583.1869, train_label_loss: 0.0705, \n"
     ]
    },
    {
     "name": "stdout",
     "output_type": "stream",
     "text": [
      "epoch: 2, [batch: 1871 / 2079], examples_per_second: 3634.3415, train_label_loss: 0.4160, \n"
     ]
    },
    {
     "name": "stdout",
     "output_type": "stream",
     "text": [
      "=============================================================\n",
      "epoch: 2, source_val_acc_label: 0.9574, target_val_acc_label: 0.1870, source_val_label_loss: 0.1847, target_val_label_loss: 2.4542, \n",
      "=============================================================\n"
     ]
    },
    {
     "name": "stdout",
     "output_type": "stream",
     "text": [
      "New best\n"
     ]
    },
    {
     "name": "stdout",
     "output_type": "stream",
     "text": [
      "epoch: 3, [batch: 1 / 2078], examples_per_second: 11.2171, train_label_loss: 0.0349, \n"
     ]
    },
    {
     "name": "stdout",
     "output_type": "stream",
     "text": [
      "epoch: 3, [batch: 208 / 2078], examples_per_second: 3605.8880, train_label_loss: 0.0194, \n"
     ]
    },
    {
     "name": "stdout",
     "output_type": "stream",
     "text": [
      "epoch: 3, [batch: 416 / 2078], examples_per_second: 3598.7489, train_label_loss: 0.0095, \n"
     ]
    },
    {
     "name": "stdout",
     "output_type": "stream",
     "text": [
      "epoch: 3, [batch: 624 / 2078], examples_per_second: 3627.0594, train_label_loss: 0.4121, \n"
     ]
    },
    {
     "name": "stdout",
     "output_type": "stream",
     "text": [
      "epoch: 3, [batch: 831 / 2078], examples_per_second: 3657.0111, train_label_loss: 0.0023, \n"
     ]
    },
    {
     "name": "stdout",
     "output_type": "stream",
     "text": [
      "epoch: 3, [batch: 1039 / 2078], examples_per_second: 3605.9876, train_label_loss: 0.0024, \n"
     ]
    },
    {
     "name": "stdout",
     "output_type": "stream",
     "text": [
      "epoch: 3, [batch: 1247 / 2078], examples_per_second: 3631.8754, train_label_loss: 0.0608, \n"
     ]
    },
    {
     "name": "stdout",
     "output_type": "stream",
     "text": [
      "epoch: 3, [batch: 1454 / 2078], examples_per_second: 3582.1910, train_label_loss: 0.7453, \n"
     ]
    },
    {
     "name": "stdout",
     "output_type": "stream",
     "text": [
      "epoch: 3, [batch: 1662 / 2078], examples_per_second: 3597.9066, train_label_loss: 0.0290, \n"
     ]
    },
    {
     "name": "stdout",
     "output_type": "stream",
     "text": [
      "epoch: 3, [batch: 1870 / 2078], examples_per_second: 3625.7670, train_label_loss: 0.0888, \n"
     ]
    },
    {
     "name": "stdout",
     "output_type": "stream",
     "text": [
      "=============================================================\n",
      "epoch: 3, source_val_acc_label: 0.9649, target_val_acc_label: 0.1721, source_val_label_loss: 0.1438, target_val_label_loss: 2.5258, \n",
      "=============================================================\n"
     ]
    },
    {
     "name": "stdout",
     "output_type": "stream",
     "text": [
      "epoch: 4, [batch: 1 / 2077], examples_per_second: 11.2475, train_label_loss: 0.0976, \n"
     ]
    },
    {
     "name": "stdout",
     "output_type": "stream",
     "text": [
      "epoch: 4, [batch: 208 / 2077], examples_per_second: 3608.6417, train_label_loss: 0.3185, \n"
     ]
    },
    {
     "name": "stdout",
     "output_type": "stream",
     "text": [
      "epoch: 4, [batch: 416 / 2077], examples_per_second: 3629.0236, train_label_loss: 0.0537, \n"
     ]
    },
    {
     "name": "stdout",
     "output_type": "stream",
     "text": [
      "epoch: 4, [batch: 623 / 2077], examples_per_second: 3680.0540, train_label_loss: 0.0159, \n"
     ]
    },
    {
     "name": "stdout",
     "output_type": "stream",
     "text": [
      "epoch: 4, [batch: 831 / 2077], examples_per_second: 3647.4729, train_label_loss: 0.0009, \n"
     ]
    },
    {
     "name": "stdout",
     "output_type": "stream",
     "text": [
      "epoch: 4, [batch: 1039 / 2077], examples_per_second: 3618.1432, train_label_loss: 0.1291, \n"
     ]
    },
    {
     "name": "stdout",
     "output_type": "stream",
     "text": [
      "epoch: 4, [batch: 1246 / 2077], examples_per_second: 3642.0093, train_label_loss: 0.3749, \n"
     ]
    },
    {
     "name": "stdout",
     "output_type": "stream",
     "text": [
      "epoch: 4, [batch: 1454 / 2077], examples_per_second: 3655.4839, train_label_loss: 0.0862, \n"
     ]
    },
    {
     "name": "stdout",
     "output_type": "stream",
     "text": [
      "epoch: 4, [batch: 1661 / 2077], examples_per_second: 3605.5276, train_label_loss: 0.3269, \n"
     ]
    },
    {
     "name": "stdout",
     "output_type": "stream",
     "text": [
      "epoch: 4, [batch: 1869 / 2077], examples_per_second: 3645.2004, train_label_loss: 0.1383, \n"
     ]
    },
    {
     "name": "stdout",
     "output_type": "stream",
     "text": [
      "=============================================================\n",
      "epoch: 4, source_val_acc_label: 0.9686, target_val_acc_label: 0.1517, source_val_label_loss: 0.1411, target_val_label_loss: 2.8675, \n",
      "=============================================================\n"
     ]
    },
    {
     "name": "stdout",
     "output_type": "stream",
     "text": [
      "epoch: 5, [batch: 1 / 2077], examples_per_second: 11.2693, train_label_loss: 0.0548, \n"
     ]
    },
    {
     "name": "stdout",
     "output_type": "stream",
     "text": [
      "epoch: 5, [batch: 208 / 2077], examples_per_second: 3595.9233, train_label_loss: 0.2692, \n"
     ]
    },
    {
     "name": "stdout",
     "output_type": "stream",
     "text": [
      "epoch: 5, [batch: 416 / 2077], examples_per_second: 3647.9716, train_label_loss: 0.0272, \n"
     ]
    },
    {
     "name": "stdout",
     "output_type": "stream",
     "text": [
      "epoch: 5, [batch: 623 / 2077], examples_per_second: 3624.2038, train_label_loss: 0.0643, \n"
     ]
    },
    {
     "name": "stdout",
     "output_type": "stream",
     "text": [
      "epoch: 5, [batch: 831 / 2077], examples_per_second: 3642.9664, train_label_loss: 0.0187, \n"
     ]
    },
    {
     "name": "stdout",
     "output_type": "stream",
     "text": [
      "epoch: 5, [batch: 1039 / 2077], examples_per_second: 3623.9199, train_label_loss: 0.6928, \n"
     ]
    },
    {
     "name": "stdout",
     "output_type": "stream",
     "text": [
      "epoch: 5, [batch: 1246 / 2077], examples_per_second: 3631.7657, train_label_loss: 0.0053, \n"
     ]
    },
    {
     "name": "stdout",
     "output_type": "stream",
     "text": [
      "epoch: 5, [batch: 1454 / 2077], examples_per_second: 3602.1713, train_label_loss: 0.1225, \n"
     ]
    },
    {
     "name": "stdout",
     "output_type": "stream",
     "text": [
      "epoch: 5, [batch: 1661 / 2077], examples_per_second: 3641.6652, train_label_loss: 0.0753, \n"
     ]
    },
    {
     "name": "stdout",
     "output_type": "stream",
     "text": [
      "epoch: 5, [batch: 1869 / 2077], examples_per_second: 3610.3910, train_label_loss: 0.0122, \n"
     ]
    },
    {
     "name": "stdout",
     "output_type": "stream",
     "text": [
      "=============================================================\n",
      "epoch: 5, source_val_acc_label: 0.9704, target_val_acc_label: 0.1711, source_val_label_loss: 0.1325, target_val_label_loss: 2.7105, \n",
      "=============================================================\n"
     ]
    },
    {
     "name": "stdout",
     "output_type": "stream",
     "text": [
      "epoch: 6, [batch: 1 / 2080], examples_per_second: 11.2368, train_label_loss: 0.0089, \n"
     ]
    },
    {
     "name": "stdout",
     "output_type": "stream",
     "text": [
      "epoch: 6, [batch: 208 / 2080], examples_per_second: 3588.9105, train_label_loss: 0.1387, \n"
     ]
    },
    {
     "name": "stdout",
     "output_type": "stream",
     "text": [
      "epoch: 6, [batch: 416 / 2080], examples_per_second: 3625.0826, train_label_loss: 0.0024, \n"
     ]
    },
    {
     "name": "stdout",
     "output_type": "stream",
     "text": [
      "epoch: 6, [batch: 624 / 2080], examples_per_second: 3625.9956, train_label_loss: 0.0053, \n"
     ]
    },
    {
     "name": "stdout",
     "output_type": "stream",
     "text": [
      "epoch: 6, [batch: 832 / 2080], examples_per_second: 3625.9761, train_label_loss: 0.0698, \n"
     ]
    },
    {
     "name": "stdout",
     "output_type": "stream",
     "text": [
      "epoch: 6, [batch: 1040 / 2080], examples_per_second: 3615.0191, train_label_loss: 0.0524, \n"
     ]
    },
    {
     "name": "stdout",
     "output_type": "stream",
     "text": [
      "epoch: 6, [batch: 1248 / 2080], examples_per_second: 3628.0330, train_label_loss: 0.2495, \n"
     ]
    },
    {
     "name": "stdout",
     "output_type": "stream",
     "text": [
      "epoch: 6, [batch: 1456 / 2080], examples_per_second: 3595.9044, train_label_loss: 0.3573, \n"
     ]
    },
    {
     "name": "stdout",
     "output_type": "stream",
     "text": [
      "epoch: 6, [batch: 1664 / 2080], examples_per_second: 3634.4146, train_label_loss: 0.1741, \n"
     ]
    },
    {
     "name": "stdout",
     "output_type": "stream",
     "text": [
      "epoch: 6, [batch: 1872 / 2080], examples_per_second: 3621.6088, train_label_loss: 0.1497, \n"
     ]
    },
    {
     "name": "stdout",
     "output_type": "stream",
     "text": [
      "=============================================================\n",
      "epoch: 6, source_val_acc_label: 0.9705, target_val_acc_label: 0.1953, source_val_label_loss: 0.1331, target_val_label_loss: 2.5791, \n",
      "=============================================================\n"
     ]
    },
    {
     "name": "stdout",
     "output_type": "stream",
     "text": [
      "Patience (3) exhausted\n"
     ]
    }
   ],
   "source": [
    "###################################\n",
    "# train\n",
    "###################################\n",
    "jig = PTN_Train_Eval_Test_Jig(model, p.BEST_MODEL_PATH, p.device)\n",
    "\n",
    "jig.train(\n",
    "    train_iterable=datasets.source.processed.train,\n",
    "    source_val_iterable=datasets.source.processed.val,\n",
    "    target_val_iterable=datasets.target.processed.val,\n",
    "    num_epochs=p.n_epoch,\n",
    "    num_logs_per_epoch=p.NUM_LOGS_PER_EPOCH,\n",
    "    patience=p.patience,\n",
    "    optimizer=optimizer,\n",
    "    criteria_for_best=p.criteria_for_best,\n",
    ")"
   ]
  },
  {
   "cell_type": "code",
   "execution_count": 23,
   "id": "31e8fabf",
   "metadata": {
    "execution": {
     "iopub.execute_input": "2022-03-18T22:47:51.405192Z",
     "iopub.status.busy": "2022-03-18T22:47:51.404926Z",
     "iopub.status.idle": "2022-03-18T22:47:51.426538Z",
     "shell.execute_reply": "2022-03-18T22:47:51.426085Z"
    },
    "papermill": {
     "duration": 0.050967,
     "end_time": "2022-03-18T22:47:51.426644",
     "exception": false,
     "start_time": "2022-03-18T22:47:51.375677",
     "status": "completed"
    },
    "tags": []
   },
   "outputs": [],
   "source": [
    "total_experiment_time_secs = time.time() - start_time_secs"
   ]
  },
  {
   "cell_type": "code",
   "execution_count": 24,
   "id": "87b9595b",
   "metadata": {
    "execution": {
     "iopub.execute_input": "2022-03-18T22:47:51.490035Z",
     "iopub.status.busy": "2022-03-18T22:47:51.489740Z",
     "iopub.status.idle": "2022-03-18T22:48:54.125997Z",
     "shell.execute_reply": "2022-03-18T22:48:54.126394Z"
    },
    "papermill": {
     "duration": 62.668644,
     "end_time": "2022-03-18T22:48:54.126525",
     "exception": false,
     "start_time": "2022-03-18T22:47:51.457881",
     "status": "completed"
    },
    "tags": []
   },
   "outputs": [],
   "source": [
    "###################################\n",
    "# Evaluate the model\n",
    "###################################\n",
    "source_test_label_accuracy, source_test_label_loss = jig.test(datasets.source.processed.test)\n",
    "target_test_label_accuracy, target_test_label_loss = jig.test(datasets.target.processed.test)\n",
    "\n",
    "source_val_label_accuracy, source_val_label_loss = jig.test(datasets.source.processed.val)\n",
    "target_val_label_accuracy, target_val_label_loss = jig.test(datasets.target.processed.val)\n",
    "\n",
    "history = jig.get_history()\n",
    "\n",
    "total_epochs_trained = len(history[\"epoch_indices\"])\n",
    "\n",
    "val_dl = Iterable_Aggregator((datasets.source.original.val,datasets.target.original.val))\n",
    "\n",
    "confusion = ptn_confusion_by_domain_over_dataloader(model, p.device, val_dl)\n",
    "per_domain_accuracy = per_domain_accuracy_from_confusion(confusion)\n",
    "\n",
    "# Add a key to per_domain_accuracy for if it was a source domain\n",
    "for domain, accuracy in per_domain_accuracy.items():\n",
    "    per_domain_accuracy[domain] = {\n",
    "        \"accuracy\": accuracy,\n",
    "        \"source?\": domain in p.domains_source\n",
    "    }\n",
    "\n",
    "# Do an independent accuracy assesment JUST TO BE SURE!\n",
    "# _source_test_label_accuracy = independent_accuracy_assesment(model, datasets.source.processed.test, p.device)\n",
    "# _target_test_label_accuracy = independent_accuracy_assesment(model, datasets.target.processed.test, p.device)\n",
    "# _source_val_label_accuracy = independent_accuracy_assesment(model, datasets.source.processed.val, p.device)\n",
    "# _target_val_label_accuracy = independent_accuracy_assesment(model, datasets.target.processed.val, p.device)\n",
    "\n",
    "# assert(_source_test_label_accuracy == source_test_label_accuracy)\n",
    "# assert(_target_test_label_accuracy == target_test_label_accuracy)\n",
    "# assert(_source_val_label_accuracy == source_val_label_accuracy)\n",
    "# assert(_target_val_label_accuracy == target_val_label_accuracy)\n",
    "\n",
    "experiment = {\n",
    "    \"experiment_name\": p.experiment_name,\n",
    "    \"parameters\": dict(p),\n",
    "    \"results\": {\n",
    "        \"source_test_label_accuracy\": source_test_label_accuracy,\n",
    "        \"source_test_label_loss\": source_test_label_loss,\n",
    "        \"target_test_label_accuracy\": target_test_label_accuracy,\n",
    "        \"target_test_label_loss\": target_test_label_loss,\n",
    "        \"source_val_label_accuracy\": source_val_label_accuracy,\n",
    "        \"source_val_label_loss\": source_val_label_loss,\n",
    "        \"target_val_label_accuracy\": target_val_label_accuracy,\n",
    "        \"target_val_label_loss\": target_val_label_loss,\n",
    "        \"total_epochs_trained\": total_epochs_trained,\n",
    "        \"total_experiment_time_secs\": total_experiment_time_secs,\n",
    "        \"confusion\": confusion,\n",
    "        \"per_domain_accuracy\": per_domain_accuracy,\n",
    "    },\n",
    "    \"history\": history,\n",
    "    \"dataset_metrics\": get_dataset_metrics(datasets, \"ptn\"),\n",
    "}"
   ]
  },
  {
   "cell_type": "code",
   "execution_count": 25,
   "id": "54a21829",
   "metadata": {
    "execution": {
     "iopub.execute_input": "2022-03-18T22:48:54.184499Z",
     "iopub.status.busy": "2022-03-18T22:48:54.184247Z",
     "iopub.status.idle": "2022-03-18T22:48:54.308382Z",
     "shell.execute_reply": "2022-03-18T22:48:54.308159Z"
    },
    "papermill": {
     "duration": 0.152698,
     "end_time": "2022-03-18T22:48:54.308433",
     "exception": false,
     "start_time": "2022-03-18T22:48:54.155735",
     "status": "completed"
    },
    "tags": []
   },
   "outputs": [
    {
     "data": {
      "image/png": "[encoded data removed]",
      "text/plain": [
       "<Figure size 1080x504 with 1 Axes>"
      ]
     },
     "metadata": {
      "needs_background": "light"
     },
     "output_type": "display_data"
    }
   ],
   "source": [
    "ax = get_loss_curve(experiment)\n",
    "plt.show()"
   ]
  },
  {
   "cell_type": "code",
   "execution_count": 26,
   "id": "fd8a0f60",
   "metadata": {
    "execution": {
     "iopub.execute_input": "2022-03-18T22:48:54.365326Z",
     "iopub.status.busy": "2022-03-18T22:48:54.364958Z",
     "iopub.status.idle": "2022-03-18T22:48:54.507449Z",
     "shell.execute_reply": "2022-03-18T22:48:54.507827Z"
    },
    "papermill": {
     "duration": 0.172091,
     "end_time": "2022-03-18T22:48:54.507922",
     "exception": false,
     "start_time": "2022-03-18T22:48:54.335831",
     "status": "completed"
    },
    "tags": []
   },
   "outputs": [
    {
     "data": {
      "text/plain": [
       "<AxesSubplot:title={'center':'Results'}>"
      ]
     },
     "execution_count": 26,
     "metadata": {},
     "output_type": "execute_result"
    },
    {
     "data": {
      "image/png": "[encoded data removed]",
      "text/plain": [
       "<Figure size 1080x504 with 1 Axes>"
      ]
     },
     "metadata": {
      "needs_background": "light"
     },
     "output_type": "display_data"
    }
   ],
   "source": [
    "get_results_table(experiment)"
   ]
  },
  {
   "cell_type": "code",
   "execution_count": 27,
   "id": "cf8dc689",
   "metadata": {
    "execution": {
     "iopub.execute_input": "2022-03-18T22:48:54.571254Z",
     "iopub.status.busy": "2022-03-18T22:48:54.570980Z",
     "iopub.status.idle": "2022-03-18T22:48:54.733128Z",
     "shell.execute_reply": "2022-03-18T22:48:54.733504Z"
    },
    "papermill": {
     "duration": 0.192875,
     "end_time": "2022-03-18T22:48:54.733611",
     "exception": false,
     "start_time": "2022-03-18T22:48:54.540736",
     "status": "completed"
    },
    "tags": []
   },
   "outputs": [
    {
     "data": {
      "text/plain": [
       "<AxesSubplot:title={'center':'Per Domain Validation Accuracy'}, xlabel='domain'>"
      ]
     },
     "execution_count": 27,
     "metadata": {},
     "output_type": "execute_result"
    },
    {
     "data": {
      "image/png": "[encoded data removed]",
      "text/plain": [
       "<Figure size 1080x504 with 1 Axes>"
      ]
     },
     "metadata": {
      "needs_background": "light"
     },
     "output_type": "display_data"
    }
   ],
   "source": [
    "get_domain_accuracies(experiment)"
   ]
  },
  {
   "cell_type": "code",
   "execution_count": 28,
   "id": "a74ae082",
   "metadata": {
    "execution": {
     "iopub.execute_input": "2022-03-18T22:48:54.802017Z",
     "iopub.status.busy": "2022-03-18T22:48:54.801756Z",
     "iopub.status.idle": "2022-03-18T22:48:54.817796Z",
     "shell.execute_reply": "2022-03-18T22:48:54.817355Z"
    },
    "papermill": {
     "duration": 0.048277,
     "end_time": "2022-03-18T22:48:54.817885",
     "exception": false,
     "start_time": "2022-03-18T22:48:54.769608",
     "status": "completed"
    },
    "tags": []
   },
   "outputs": [
    {
     "name": "stdout",
     "output_type": "stream",
     "text": [
      "Source Test Label Accuracy: 0.9573863636363636 Target Test Label Accuracy: 0.1916015625\n",
      "Source Val Label Accuracy: 0.9573863636363636 Target Val Label Accuracy: 0.18697916666666667\n"
     ]
    }
   ],
   "source": [
    "print(\"Source Test Label Accuracy:\", experiment[\"results\"][\"source_test_label_accuracy\"], \"Target Test Label Accuracy:\", experiment[\"results\"][\"target_test_label_accuracy\"])\n",
    "print(\"Source Val Label Accuracy:\", experiment[\"results\"][\"source_val_label_accuracy\"], \"Target Val Label Accuracy:\", experiment[\"results\"][\"target_val_label_accuracy\"])"
   ]
  },
  {
   "cell_type": "code",
   "execution_count": 29,
   "id": "dacca602",
   "metadata": {
    "execution": {
     "iopub.execute_input": "2022-03-18T22:48:54.884172Z",
     "iopub.status.busy": "2022-03-18T22:48:54.883820Z",
     "iopub.status.idle": "2022-03-18T22:48:54.901463Z",
     "shell.execute_reply": "2022-03-18T22:48:54.901840Z"
    },
    "papermill": {
     "duration": 0.049934,
     "end_time": "2022-03-18T22:48:54.901947",
     "exception": false,
     "start_time": "2022-03-18T22:48:54.852013",
     "status": "completed"
    },
    "tags": [
     "experiment_json"
    ]
   },
   "outputs": [
    {
     "data": {
      "text/plain": [
       "'{\"experiment_name\": \"tl_3A:cores+wisig -> oracle.run1.framed\", \"parameters\": {\"experiment_name\": \"tl_3A:cores+wisig -> oracle.run1.framed\", \"device\": \"cuda\", \"lr\": 0.001, \"x_shape\": [2, 200], \"n_shot\": 3, \"n_query\": 2, \"train_k_factor\": 3, \"val_k_factor\": 2, \"test_k_factor\": 2, \"torch_default_dtype\": \"torch.float32\", \"n_epoch\": 50, \"patience\": 3, \"criteria_for_best\": \"target_loss\", \"x_net\": [{\"class\": \"nnReshape\", \"kargs\": {\"shape\": [-1, 1, 2, 200]}}, {\"class\": \"Conv2d\", \"kargs\": {\"in_channels\": 1, \"out_channels\": 256, \"kernel_size\": [1, 7], \"bias\": false, \"padding\": [0, 3]}}, {\"class\": \"ReLU\", \"kargs\": {\"inplace\": true}}, {\"class\": \"BatchNorm2d\", \"kargs\": {\"num_features\": 256}}, {\"class\": \"Conv2d\", \"kargs\": {\"in_channels\": 256, \"out_channels\": 80, \"kernel_size\": [2, 7], \"bias\": true, \"padding\": [0, 3]}}, {\"class\": \"ReLU\", \"kargs\": {\"inplace\": true}}, {\"class\": \"BatchNorm2d\", \"kargs\": {\"num_features\": 80}}, {\"class\": \"Flatten\", \"kargs\": {}}, {\"class\": \"Linear\", \"kargs\": {\"in_features\": 16000, \"out_features\": 256}}, {\"class\": \"ReLU\", \"kargs\": {\"inplace\": true}}, {\"class\": \"BatchNorm1d\", \"kargs\": {\"num_features\": 256}}, {\"class\": \"Linear\", \"kargs\": {\"in_features\": 256, \"out_features\": 256}}], \"NUM_LOGS_PER_EPOCH\": 10, \"BEST_MODEL_PATH\": \"./best_model.pth\", \"n_way\": 16, \"datasets\": [{\"labels\": [\"1-10.\", \"1-11.\", \"1-15.\", \"1-16.\", \"1-17.\", \"1-18.\", \"1-19.\", \"10-4.\", \"10-7.\", \"11-1.\", \"11-14.\", \"11-17.\", \"11-20.\", \"11-7.\", \"13-20.\", \"13-8.\", \"14-10.\", \"14-11.\", \"14-14.\", \"14-7.\", \"15-1.\", \"15-20.\", \"16-1.\", \"16-16.\", \"17-10.\", \"17-11.\", \"17-2.\", \"19-1.\", \"19-16.\", \"19-19.\", \"19-20.\", \"19-3.\", \"2-10.\", \"2-11.\", \"2-17.\", \"2-18.\", \"2-20.\", \"2-3.\", \"2-4.\", \"2-5.\", \"2-6.\", \"2-7.\", \"2-8.\", \"3-13.\", \"3-18.\", \"3-3.\", \"4-1.\", \"4-10.\", \"4-11.\", \"4-19.\", \"5-5.\", \"6-15.\", \"7-10.\", \"7-14.\", \"8-18.\", \"8-20.\", \"8-3.\", \"8-8.\"], \"domains\": [1, 2, 3, 4, 5], \"num_examples_per_domain_per_label\": 100, \"pickle_path\": \"/mnt/wd500GB/CSC500/csc500-main/datasets/cores.stratified_ds.2022A.pkl\", \"source_or_target_dataset\": \"source\", \"x_transforms\": [\"unit_power\", \"take_200\"], \"episode_transforms\": [], \"domain_prefix\": \"C_A_\"}, {\"labels\": [\"1-10\", \"1-12\", \"1-14\", \"1-16\", \"1-18\", \"1-19\", \"1-8\", \"10-11\", \"10-17\", \"10-4\", \"10-7\", \"11-1\", \"11-10\", \"11-19\", \"11-20\", \"11-4\", \"11-7\", \"12-19\", \"12-20\", \"12-7\", \"13-14\", \"13-18\", \"13-19\", \"13-20\", \"13-3\", \"13-7\", \"14-10\", \"14-11\", \"14-12\", \"14-13\", \"14-14\", \"14-19\", \"14-20\", \"14-7\", \"14-8\", \"14-9\", \"15-1\", \"15-19\", \"15-6\", \"16-1\", \"16-16\", \"16-19\", \"16-20\", \"17-10\", \"17-11\", \"18-1\", \"18-10\", \"18-11\", \"18-12\", \"18-13\", \"18-14\", \"18-15\", \"18-16\", \"18-17\", \"18-19\", \"18-2\", \"18-20\", \"18-4\", \"18-5\", \"18-7\", \"18-8\", \"18-9\", \"19-1\", \"19-10\", \"19-11\", \"19-12\", \"19-13\", \"19-14\", \"19-15\", \"19-19\", \"19-2\", \"19-20\", \"19-3\", \"19-4\", \"19-6\", \"19-7\", \"19-8\", \"19-9\", \"2-1\", \"2-13\", \"2-15\", \"2-3\", \"2-4\", \"2-5\", \"2-6\", \"2-7\", \"2-8\", \"20-1\", \"20-12\", \"20-14\", \"20-15\", \"20-16\", \"20-18\", \"20-19\", \"20-20\", \"20-3\", \"20-4\", \"20-5\", \"20-7\", \"20-8\", \"3-1\", \"3-13\", \"3-18\", \"3-2\", \"3-8\", \"4-1\", \"4-10\", \"4-11\", \"5-1\", \"5-5\", \"6-1\", \"6-15\", \"6-6\", \"7-10\", \"7-11\", \"7-12\", \"7-13\", \"7-14\", \"7-7\", \"7-8\", \"7-9\", \"8-1\", \"8-13\", \"8-14\", \"8-18\", \"8-20\", \"8-3\", \"8-8\", \"9-1\", \"9-7\"], \"domains\": [1, 2, 3, 4], \"num_examples_per_domain_per_label\": 100, \"pickle_path\": \"/mnt/wd500GB/CSC500/csc500-main/datasets/wisig.node3-19.stratified_ds.2022A.pkl\", \"source_or_target_dataset\": \"source\", \"x_transforms\": [\"unit_power\", \"take_200\"], \"episode_transforms\": [], \"domain_prefix\": \"W_A_\"}, {\"labels\": [\"3123D52\", \"3123D65\", \"3123D79\", \"3123D80\", \"3123D54\", \"3123D70\", \"3123D7B\", \"3123D89\", \"3123D58\", \"3123D76\", \"3123D7D\", \"3123EFE\", \"3123D64\", \"3123D78\", \"3123D7E\", \"3124E4A\"], \"domains\": [32, 38, 8, 44, 14, 50, 20, 26], \"num_examples_per_domain_per_label\": 2000, \"pickle_path\": \"/mnt/wd500GB/CSC500/csc500-main/datasets/oracle.Run1_framed_2000Examples_stratified_ds.2022A.pkl\", \"source_or_target_dataset\": \"target\", \"x_transforms\": [\"unit_power\", \"take_200\", \"resample_20Msps_to_25Msps\"], \"episode_transforms\": [], \"domain_prefix\": \"ORACLE.run1_\"}], \"seed\": 7, \"dataset_seed\": 7, \"domains_source\": [\"C_A_1\", \"C_A_2\", \"C_A_3\", \"C_A_4\", \"C_A_5\", \"W_A_1\", \"W_A_2\", \"W_A_3\", \"W_A_4\"], \"domains_target\": [\"ORACLE.run1_32\", \"ORACLE.run1_38\", \"ORACLE.run1_8\", \"ORACLE.run1_44\", \"ORACLE.run1_14\", \"ORACLE.run1_50\", \"ORACLE.run1_20\", \"ORACLE.run1_26\"]}, \"results\": {\"source_test_label_accuracy\": 0.9573863636363636, \"source_test_label_loss\": 0.19648388028144836, \"target_test_label_accuracy\": 0.1916015625, \"target_test_label_loss\": 2.4414353370666504, \"source_val_label_accuracy\": 0.9573863636363636, \"source_val_label_loss\": 0.18468467891216278, \"target_val_label_accuracy\": 0.18697916666666667, \"target_val_label_loss\": 2.4542477130889893, \"total_epochs_trained\": 6, \"total_experiment_time_secs\": 377.27319836616516, \"confusion\": {\"W_A_4\": {\"71\": {\"71\": 9, \"3\": 1}, \"17\": {\"17\": 12}, \"105\": {\"105\": 12}, \"92\": {\"92\": 12}, \"100\": {\"100\": 11, \"68\": 1}, \"6\": {\"6\": 11, \"49\": 1}, \"36\": {\"36\": 10}, \"35\": {\"92\": 1, \"35\": 11}, \"63\": {\"63\": 11, \"26\": 1}, \"104\": {\"104\": 12}, \"114\": {\"114\": 12}, \"68\": {\"68\": 11, \"12\": 1}, \"109\": {\"109\": 10}, \"27\": {\"27\": 12}, \"79\": {\"79\": 12}, \"0\": {\"0\": 12}, \"28\": {\"28\": 12}, \"4\": {\"4\": 12}, \"106\": {\"106\": 11, \"47\": 1}, \"40\": {\"40\": 12}, \"127\": {\"127\": 10, \"94\": 1, \"51\": 1}, \"57\": {\"57\": 12}, \"60\": {\"60\": 12}, \"69\": {\"69\": 10, \"20\": 1, \"24\": 1}, \"84\": {\"84\": 5, \"51\": 1}, \"24\": {\"94\": 1, \"24\": 6, \"68\": 1, \"97\": 2}, \"94\": {\"94\": 10, \"97\": 1, \"36\": 1}, \"7\": {\"7\": 12}, \"96\": {\"96\": 10}, \"116\": {\"116\": 12}, \"47\": {\"68\": 1, \"28\": 1, \"47\": 10}, \"119\": {\"119\": 12}, \"74\": {\"74\": 10}, \"93\": {\"93\": 12}, \"2\": {\"2\": 12}, \"37\": {\"37\": 11, \"67\": 1}, \"15\": {\"15\": 12}, \"102\": {\"102\": 11, \"3\": 1}, \"87\": {\"87\": 6, \"33\": 1, \"78\": 1}, \"107\": {\"107\": 12}, \"61\": {\"61\": 12}, \"78\": {\"78\": 8, \"108\": 1, \"30\": 1, \"15\": 1, \"46\": 1}, \"9\": {\"9\": 12}, \"32\": {\"32\": 12}, \"14\": {\"14\": 10}, \"62\": {\"62\": 11, \"24\": 1}, \"1\": {\"92\": 1, \"1\": 10, \"125\": 1}, \"23\": {\"24\": 1, \"23\": 2, \"74\": 2, \"88\": 1, \"81\": 1, \"123\": 1, \"7\": 1, \"77\": 1}, \"95\": {\"95\": 12}, \"56\": {\"56\": 12}, \"91\": {\"91\": 11, \"85\": 1}, \"34\": {\"34\": 11, \"14\": 1}, \"25\": {\"25\": 10}, \"3\": {\"3\": 12}, \"72\": {\"72\": 10}, \"73\": {\"73\": 12}, \"41\": {\"73\": 1, \"41\": 10, \"39\": 1}, \"70\": {\"70\": 12}, \"110\": {\"110\": 12}, \"45\": {\"45\": 12}, \"59\": {\"59\": 12}, \"55\": {\"55\": 12}, \"97\": {\"97\": 10, \"129\": 1, \"100\": 1}, \"66\": {\"66\": 12}, \"26\": {\"26\": 11, \"39\": 1}, \"53\": {\"53\": 11, \"54\": 1}, \"13\": {\"13\": 12}, \"33\": {\"33\": 12}, \"124\": {\"124\": 8}, \"85\": {\"85\": 10, \"52\": 1, \"110\": 1}, \"129\": {\"129\": 11, \"110\": 1}, \"5\": {\"5\": 12}, \"67\": {\"67\": 11, \"58\": 1}, \"101\": {\"101\": 12}, \"88\": {\"88\": 10, \"70\": 2}, \"125\": {\"125\": 12}, \"49\": {\"49\": 6, \"58\": 2, \"83\": 1, \"10\": 1, \"98\": 2}, \"86\": {\"86\": 11, \"71\": 1}, \"10\": {\"10\": 10, \"70\": 1, \"88\": 1}, \"120\": {\"120\": 12}, \"115\": {\"115\": 10, \"70\": 1, \"88\": 1}, \"31\": {\"31\": 11, \"8\": 1}, \"22\": {\"22\": 12}, \"113\": {\"113\": 11, \"5\": 1}, \"58\": {\"58\": 12}, \"75\": {\"75\": 12}, \"12\": {\"21\": 1, \"12\": 11}, \"89\": {\"89\": 12}, \"21\": {\"21\": 7, \"12\": 1, \"110\": 1, \"51\": 1}, \"99\": {\"89\": 1, \"99\": 10, \"112\": 1}, \"51\": {\"51\": 11, \"3\": 1}, \"30\": {\"30\": 11, \"10\": 1}, \"8\": {\"8\": 11, \"36\": 1}, \"39\": {\"39\": 12}, \"98\": {\"98\": 12}, \"54\": {\"54\": 12}, \"77\": {\"77\": 12}, \"43\": {\"43\": 12}, \"80\": {\"80\": 10, \"115\": 1, \"53\": 1}, \"11\": {\"11\": 12}, \"52\": {\"52\": 6}, \"50\": {\"50\": 7, \"71\": 1, \"73\": 1, \"78\": 1}, \"64\": {\"64\": 12}, \"111\": {\"111\": 12}, \"108\": {\"108\": 11, \"73\": 1}, \"19\": {\"19\": 10, \"108\": 1, \"128\": 1}, \"18\": {\"18\": 12}, \"123\": {\"80\": 1, \"123\": 11}, \"121\": {\"121\": 12}, \"81\": {\"81\": 11, \"13\": 1}, \"38\": {\"38\": 12}, \"90\": {\"90\": 12}, \"83\": {\"83\": 11, \"117\": 1}, \"65\": {\"65\": 12}, \"42\": {\"42\": 12}, \"82\": {\"82\": 6}, \"44\": {\"44\": 12}, \"16\": {\"16\": 12}, \"122\": {\"122\": 12}, \"117\": {\"117\": 12}, \"126\": {\"126\": 12}, \"76\": {\"76\": 12}, \"20\": {\"20\": 11, \"73\": 1}, \"29\": {\"29\": 12}, \"128\": {\"128\": 12}, \"46\": {\"46\": 12}, \"103\": {\"103\": 12}, \"118\": {\"118\": 12}, \"112\": {\"112\": 10}, \"48\": {\"48\": 8}}, \"C_A_5\": {\"26\": {\"26\": 12}, \"7\": {\"7\": 12}, \"56\": {\"56\": 12}, \"36\": {\"36\": 12}, \"47\": {\"47\": 8}, \"2\": {\"2\": 10}, \"15\": {\"15\": 12}, \"14\": {\"14\": 10, \"47\": 2}, \"27\": {\"27\": 12}, \"40\": {\"40\": 8}, \"49\": {\"49\": 12}, \"45\": {\"45\": 8, \"4\": 1, \"55\": 2, \"53\": 1}, \"46\": {\"46\": 12}, \"11\": {\"11\": 11, \"15\": 1}, \"30\": {\"30\": 12}, \"0\": {\"0\": 12}, \"10\": {\"10\": 12}, \"1\": {\"1\": 12}, \"42\": {\"42\": 12}, \"54\": {\"54\": 12}, \"55\": {\"55\": 9, \"51\": 1}, \"23\": {\"23\": 12}, \"25\": {\"25\": 8}, \"28\": {\"28\": 12}, \"32\": {\"32\": 12}, \"9\": {\"9\": 12}, \"39\": {\"39\": 12}, \"3\": {\"3\": 10}, \"29\": {\"29\": 12}, \"17\": {\"17\": 12}, \"35\": {\"35\": 12}, \"44\": {\"44\": 12}, \"5\": {\"5\": 10}, \"33\": {\"33\": 10}, \"34\": {\"34\": 12}, \"13\": {\"13\": 12}, \"41\": {\"41\": 12}, \"6\": {\"6\": 10, \"21\": 1, \"9\": 1}, \"51\": {\"51\": 10}, \"50\": {\"50\": 12}, \"37\": {\"37\": 12}, \"18\": {\"18\": 12}, \"52\": {\"52\": 10}, \"19\": {\"19\": 12}, \"4\": {\"4\": 12}, \"48\": {\"48\": 10, \"6\": 1, \"1\": 1}, \"53\": {\"53\": 10}, \"24\": {\"24\": 10}, \"12\": {\"12\": 8}, \"8\": {\"8\": 12}, \"20\": {\"20\": 12}, \"38\": {\"38\": 10}, \"43\": {\"43\": 8}, \"31\": {\"31\": 10}, \"22\": {\"22\": 10}, \"21\": {\"21\": 8}, \"57\": {\"57\": 8}, \"16\": {\"16\": 8}}, \"W_A_1\": {\"105\": {\"105\": 12}, \"100\": {\"100\": 12}, \"112\": {\"112\": 9, \"75\": 1}, \"123\": {\"123\": 12}, \"13\": {\"13\": 6}, \"81\": {\"81\": 10}, \"124\": {\"124\": 12}, \"122\": {\"122\": 12}, \"111\": {\"111\": 12}, \"93\": {\"93\": 12}, \"106\": {\"106\": 12}, \"113\": {\"113\": 12}, \"95\": {\"95\": 8}, \"87\": {\"87\": 12}, \"86\": {\"86\": 8}, \"67\": {\"67\": 12}, \"98\": {\"98\": 12}, \"79\": {\"79\": 12}, \"36\": {\"36\": 12}, \"91\": {\"91\": 11, \"17\": 1}, \"49\": {\"104\": 1, \"49\": 9, \"52\": 1, \"82\": 1}, \"31\": {\"31\": 12}, \"27\": {\"27\": 12}, \"52\": {\"52\": 12}, \"48\": {\"48\": 12}, \"8\": {\"8\": 6}, \"104\": {\"104\": 12}, \"110\": {\"110\": 12}, \"40\": {\"40\": 8}, \"33\": {\"33\": 12}, \"101\": {\"101\": 12}, \"28\": {\"28\": 8}, \"97\": {\"97\": 12}, \"5\": {\"5\": 12}, \"125\": {\"125\": 10}, \"121\": {\"121\": 12}, \"96\": {\"96\": 12}, \"90\": {\"90\": 12}, \"129\": {\"129\": 9, \"68\": 1, \"70\": 1, \"73\": 1}, \"84\": {\"84\": 12}, \"9\": {\"9\": 12}, \"109\": {\"109\": 12}, \"7\": {\"7\": 12}, \"26\": {\"97\": 1, \"26\": 9}, \"16\": {\"16\": 12}, \"92\": {\"92\": 12}, \"22\": {\"22\": 10, \"77\": 2}, \"70\": {\"70\": 12}, \"127\": {\"127\": 12}, \"55\": {\"55\": 10}, \"75\": {\"75\": 12}, \"23\": {\"23\": 7, \"115\": 2, \"27\": 1, \"88\": 1, \"32\": 1}, \"51\": {\"51\": 11, \"85\": 1}, \"60\": {\"22\": 1, \"60\": 6, \"128\": 1, \"123\": 2, \"57\": 2}, \"20\": {\"20\": 12}, \"94\": {\"94\": 12}, \"78\": {\"105\": 1, \"51\": 1, \"78\": 8, \"69\": 1, \"5\": 1}, \"64\": {\"64\": 12}, \"15\": {\"15\": 12}, \"61\": {\"61\": 12}, \"80\": {\"80\": 6}, \"34\": {\"34\": 10, \"14\": 1, \"104\": 1}, \"63\": {\"63\": 12}, \"108\": {\"108\": 12}, \"45\": {\"45\": 9, \"98\": 1, \"70\": 1, \"21\": 1}, \"71\": {\"71\": 12}, \"114\": {\"114\": 12}, \"69\": {\"69\": 10}, \"120\": {\"120\": 12}, \"24\": {\"24\": 12}, \"117\": {\"117\": 10}, \"25\": {\"25\": 10, \"11\": 1, \"39\": 1}, \"116\": {\"116\": 11, \"1\": 1}, \"12\": {\"12\": 12}, \"68\": {\"68\": 12}, \"50\": {\"50\": 12}, \"99\": {\"99\": 12}, \"74\": {\"74\": 12}, \"118\": {\"118\": 12}, \"1\": {\"1\": 12}, \"66\": {\"66\": 8}, \"0\": {\"0\": 11, \"9\": 1}, \"83\": {\"83\": 12}, \"32\": {\"32\": 12}, \"115\": {\"115\": 12}, \"82\": {\"82\": 12}, \"21\": {\"82\": 2, \"21\": 8, \"5\": 2}, \"85\": {\"85\": 12}, \"77\": {\"77\": 11, \"45\": 1}, \"119\": {\"119\": 12}, \"10\": {\"10\": 10, \"85\": 2}, \"76\": {\"76\": 12}, \"54\": {\"54\": 12}, \"126\": {\"126\": 12}, \"6\": {\"6\": 12}, \"4\": {\"4\": 12}, \"89\": {\"89\": 12}, \"56\": {\"56\": 12}, \"37\": {\"37\": 12}, \"72\": {\"72\": 12}, \"30\": {\"30\": 12}, \"65\": {\"65\": 8, \"63\": 2, \"12\": 1, \"57\": 1}, \"57\": {\"57\": 12}, \"62\": {\"62\": 12}, \"41\": {\"41\": 12}, \"47\": {\"47\": 12}, \"39\": {\"39\": 12}, \"19\": {\"19\": 12}, \"17\": {\"17\": 11, \"27\": 1}, \"43\": {\"43\": 9, \"40\": 1}, \"102\": {\"102\": 12}, \"42\": {\"42\": 11, \"21\": 1}, \"53\": {\"53\": 11, \"71\": 1}, \"11\": {\"11\": 12}, \"73\": {\"73\": 8}, \"35\": {\"35\": 12}, \"58\": {\"58\": 10, \"6\": 1, \"49\": 1}, \"14\": {\"14\": 12}, \"44\": {\"44\": 8}, \"107\": {\"107\": 12}, \"38\": {\"38\": 8}, \"3\": {\"3\": 12}, \"103\": {\"103\": 10}, \"59\": {\"59\": 12}, \"2\": {\"2\": 3, \"129\": 2, \"100\": 2, \"114\": 1}, \"88\": {\"88\": 6, \"27\": 1, \"36\": 1}, \"128\": {\"128\": 6, \"5\": 1, \"46\": 1, \"82\": 2}, \"46\": {\"46\": 5, \"97\": 1, \"54\": 1, \"75\": 1}, \"18\": {\"18\": 10}, \"29\": {\"29\": 8}}, \"C_A_1\": {\"41\": {\"41\": 12}, \"40\": {\"40\": 12}, \"45\": {\"45\": 12}, \"51\": {\"51\": 12}, \"5\": {\"5\": 12}, \"30\": {\"30\": 11, \"14\": 1}, \"42\": {\"42\": 12}, \"46\": {\"46\": 12}, \"48\": {\"48\": 10}, \"53\": {\"53\": 12}, \"47\": {\"47\": 12}, \"49\": {\"49\": 12}, \"36\": {\"36\": 12}, \"32\": {\"32\": 10}, \"34\": {\"34\": 10}, \"29\": {\"29\": 8}, \"43\": {\"43\": 12}, \"9\": {\"9\": 12}, \"44\": {\"44\": 12}, \"15\": {\"15\": 11, \"11\": 1}, \"7\": {\"7\": 12}, \"14\": {\"14\": 9, \"57\": 1, \"2\": 2}, \"24\": {\"24\": 10}, \"16\": {\"16\": 12}, \"39\": {\"39\": 10}, \"35\": {\"35\": 12}, \"57\": {\"57\": 12}, \"55\": {\"55\": 10}, \"3\": {\"3\": 12}, \"20\": {\"20\": 10}, \"17\": {\"17\": 12}, \"52\": {\"52\": 12}, \"38\": {\"38\": 12}, \"8\": {\"8\": 12}, \"4\": {\"4\": 12}, \"19\": {\"19\": 8}, \"37\": {\"37\": 10}, \"27\": {\"27\": 12}, \"12\": {\"12\": 12}, \"28\": {\"28\": 12}, \"6\": {\"6\": 12}, \"56\": {\"56\": 11, \"57\": 1}, \"50\": {\"50\": 12}, \"2\": {\"2\": 10}, \"10\": {\"10\": 8}, \"33\": {\"33\": 10}, \"54\": {\"54\": 8}, \"18\": {\"18\": 12}, \"13\": {\"13\": 10}, \"1\": {\"1\": 12}, \"21\": {\"21\": 12}, \"11\": {\"11\": 12}, \"0\": {\"0\": 8}, \"31\": {\"31\": 12}, \"26\": {\"26\": 12}, \"25\": {\"25\": 12}, \"23\": {\"23\": 4}, \"22\": {\"24\": 1, \"22\": 5}}, \"W_A_2\": {\"3\": {\"3\": 12}, \"127\": {\"127\": 12}, \"58\": {\"58\": 12}, \"114\": {\"114\": 12}, \"111\": {\"111\": 12}, \"105\": {\"105\": 11, \"21\": 1}, \"118\": {\"118\": 10, \"71\": 1, \"59\": 1}, \"23\": {\"23\": 5, \"60\": 1, \"75\": 1, \"87\": 1, \"61\": 1, \"83\": 2, \"120\": 1}, \"21\": {\"21\": 10, \"10\": 1, \"127\": 1}, \"20\": {\"20\": 12}, \"75\": {\"21\": 1, \"75\": 10, \"6\": 1}, \"86\": {\"86\": 12}, \"60\": {\"23\": 2, \"60\": 8, \"88\": 1, \"14\": 1}, \"69\": {\"69\": 12}, \"99\": {\"99\": 7, \"21\": 1}, \"14\": {\"14\": 10, \"7\": 1, \"27\": 1}, \"110\": {\"110\": 10, \"108\": 1, \"107\": 1}, \"0\": {\"0\": 12}, \"28\": {\"28\": 12}, \"124\": {\"124\": 11, \"88\": 1}, \"47\": {\"47\": 9, \"108\": 1, \"16\": 1, \"87\": 1}, \"89\": {\"89\": 10, \"92\": 1, \"111\": 1}, \"5\": {\"5\": 12}, \"83\": {\"83\": 12}, \"34\": {\"34\": 12}, \"8\": {\"8\": 12}, \"64\": {\"64\": 12}, \"73\": {\"73\": 10}, \"116\": {\"116\": 8, \"55\": 2, \"18\": 1, \"21\": 1}, \"19\": {\"19\": 11, \"47\": 1}, \"25\": {\"25\": 12}, \"55\": {\"55\": 9, \"62\": 2, \"50\": 1}, \"66\": {\"66\": 12}, \"36\": {\"36\": 11, \"27\": 1}, \"35\": {\"35\": 8, \"117\": 1, \"30\": 2, \"84\": 1}, \"6\": {\"6\": 10, \"34\": 1, \"58\": 1}, \"117\": {\"117\": 12}, \"1\": {\"1\": 12}, \"129\": {\"129\": 8}, \"45\": {\"45\": 12}, \"15\": {\"15\": 11, \"107\": 1}, \"4\": {\"4\": 12}, \"76\": {\"76\": 12}, \"103\": {\"103\": 12}, \"125\": {\"125\": 12}, \"31\": {\"31\": 12}, \"39\": {\"39\": 12}, \"88\": {\"88\": 10, \"53\": 1, \"109\": 1}, \"30\": {\"33\": 1, \"30\": 10, \"27\": 1}, \"102\": {\"102\": 12}, \"33\": {\"33\": 12}, \"93\": {\"93\": 12}, \"82\": {\"82\": 12}, \"17\": {\"17\": 8, \"59\": 1, \"9\": 1}, \"101\": {\"101\": 12}, \"9\": {\"9\": 12}, \"100\": {\"100\": 11, \"2\": 1}, \"32\": {\"32\": 7, \"17\": 1, \"29\": 2, \"14\": 1, \"79\": 1}, \"80\": {\"80\": 11, \"121\": 1}, \"51\": {\"51\": 9, \"125\": 1, \"80\": 1, \"15\": 1}, \"70\": {\"70\": 9, \"15\": 1, \"5\": 1, \"21\": 1}, \"37\": {\"37\": 6, \"10\": 1, \"75\": 1}, \"126\": {\"126\": 12}, \"62\": {\"62\": 12}, \"96\": {\"96\": 12}, \"74\": {\"74\": 8}, \"68\": {\"68\": 12}, \"98\": {\"98\": 12}, \"43\": {\"43\": 10, \"97\": 1, \"88\": 1}, \"40\": {\"40\": 10, \"95\": 1, \"100\": 1}, \"41\": {\"41\": 12}, \"54\": {\"54\": 12}, \"81\": {\"81\": 12}, \"27\": {\"27\": 8, \"21\": 1, \"36\": 3}, \"29\": {\"29\": 12}, \"109\": {\"21\": 1, \"109\": 10, \"57\": 1}, \"121\": {\"121\": 6}, \"91\": {\"91\": 11, \"77\": 1}, \"16\": {\"16\": 12}, \"42\": {\"42\": 12}, \"18\": {\"18\": 11, \"121\": 1}, \"78\": {\"78\": 8, \"43\": 2, \"70\": 2}, \"48\": {\"48\": 12}, \"72\": {\"72\": 12}, \"123\": {\"123\": 12}, \"44\": {\"44\": 12}, \"63\": {\"63\": 10}, \"26\": {\"26\": 12}, \"50\": {\"50\": 9, \"10\": 1}, \"10\": {\"7\": 1, \"61\": 1, \"10\": 9, \"55\": 1}, \"61\": {\"61\": 10, \"24\": 2}, \"97\": {\"97\": 7, \"30\": 3}, \"67\": {\"67\": 8}, \"113\": {\"113\": 12}, \"7\": {\"7\": 9, \"21\": 1}, \"71\": {\"71\": 11, \"21\": 1}, \"2\": {\"2\": 10, \"96\": 2}, \"57\": {\"57\": 7, \"2\": 1, \"24\": 1, \"84\": 1, \"48\": 2}, \"59\": {\"59\": 6, \"71\": 1, \"25\": 1, \"97\": 1, \"18\": 1}, \"112\": {\"59\": 1, \"112\": 4, \"27\": 1, \"46\": 1, \"53\": 1}, \"79\": {\"79\": 12}, \"52\": {\"52\": 10, \"85\": 1, \"88\": 1}, \"13\": {\"13\": 10, \"73\": 1, \"46\": 1}, \"128\": {\"128\": 10}, \"120\": {\"120\": 12}, \"94\": {\"94\": 10, \"88\": 1, \"33\": 1}, \"85\": {\"85\": 12}, \"46\": {\"46\": 11, \"9\": 1}, \"22\": {\"10\": 1, \"22\": 11}, \"90\": {\"90\": 12}, \"77\": {\"77\": 10, \"10\": 1, \"33\": 1}, \"106\": {\"106\": 12}, \"104\": {\"104\": 9, \"112\": 1}, \"95\": {\"95\": 12}, \"12\": {\"12\": 12}, \"49\": {\"49\": 11, \"77\": 1}, \"87\": {\"87\": 11, \"53\": 1}, \"65\": {\"65\": 8}, \"84\": {\"51\": 1, \"84\": 11}, \"38\": {\"38\": 12}, \"53\": {\"53\": 10, \"126\": 1, \"24\": 1}, \"122\": {\"122\": 12}, \"119\": {\"119\": 12}, \"108\": {\"108\": 10}, \"107\": {\"107\": 12}, \"24\": {\"94\": 2, \"24\": 10}, \"115\": {\"115\": 10, \"106\": 1, \"88\": 1}, \"56\": {\"56\": 12}, \"11\": {\"49\": 1, \"11\": 9}, \"92\": {\"92\": 11, \"69\": 1}}, \"C_A_3\": {\"1\": {\"1\": 12}, \"9\": {\"9\": 12}, \"22\": {\"22\": 12}, \"43\": {\"43\": 12}, \"49\": {\"49\": 10}, \"50\": {\"50\": 11, \"53\": 1}, \"53\": {\"53\": 10}, \"10\": {\"10\": 12}, \"48\": {\"48\": 10}, \"8\": {\"8\": 12}, \"31\": {\"31\": 12}, \"56\": {\"56\": 12}, \"25\": {\"25\": 10}, \"28\": {\"28\": 12}, \"38\": {\"38\": 12}, \"5\": {\"5\": 12}, \"34\": {\"34\": 10}, \"21\": {\"21\": 12}, \"57\": {\"57\": 12}, \"55\": {\"55\": 12}, \"47\": {\"47\": 10}, \"6\": {\"6\": 11, \"38\": 1}, \"3\": {\"18\": 1, \"16\": 1, \"3\": 4}, \"26\": {\"26\": 12}, \"16\": {\"16\": 12}, \"18\": {\"18\": 12}, \"32\": {\"32\": 12}, \"40\": {\"40\": 12}, \"2\": {\"2\": 8}, \"36\": {\"36\": 12}, \"52\": {\"52\": 12}, \"13\": {\"13\": 8}, \"42\": {\"42\": 12}, \"19\": {\"19\": 12}, \"11\": {\"11\": 10}, \"20\": {\"20\": 12}, \"17\": {\"17\": 10}, \"51\": {\"51\": 12}, \"29\": {\"29\": 9, \"57\": 1}, \"44\": {\"44\": 12}, \"27\": {\"27\": 12}, \"33\": {\"33\": 12}, \"54\": {\"54\": 12}, \"7\": {\"7\": 12}, \"14\": {\"14\": 10}, \"12\": {\"12\": 12}, \"24\": {\"24\": 12}, \"15\": {\"15\": 12}, \"35\": {\"35\": 10}, \"41\": {\"41\": 10}, \"4\": {\"4\": 12}, \"0\": {\"0\": 10}, \"39\": {\"39\": 10}, \"45\": {\"45\": 12}, \"46\": {\"46\": 10}, \"37\": {\"37\": 10}, \"23\": {\"23\": 10}, \"30\": {\"30\": 4}}, \"C_A_4\": {\"52\": {\"52\": 12}, \"6\": {\"6\": 12}, \"14\": {\"14\": 10, \"7\": 1, \"1\": 1}, \"49\": {\"49\": 12}, \"0\": {\"0\": 12}, \"46\": {\"46\": 12}, \"41\": {\"41\": 12}, \"24\": {\"24\": 12}, \"25\": {\"25\": 12}, \"40\": {\"40\": 12}, \"38\": {\"38\": 12}, \"13\": {\"13\": 12}, \"9\": {\"9\": 12}, \"45\": {\"45\": 6}, \"43\": {\"43\": 12}, \"10\": {\"10\": 12}, \"3\": {\"3\": 12}, \"32\": {\"32\": 12}, \"37\": {\"37\": 10}, \"48\": {\"48\": 12}, \"26\": {\"26\": 12}, \"30\": {\"30\": 10}, \"27\": {\"27\": 10}, \"57\": {\"57\": 12}, \"33\": {\"33\": 12}, \"21\": {\"21\": 12}, \"55\": {\"55\": 12}, \"23\": {\"23\": 12}, \"20\": {\"50\": 2, \"20\": 8}, \"19\": {\"19\": 12}, \"39\": {\"39\": 12}, \"47\": {\"47\": 10}, \"50\": {\"50\": 12}, \"1\": {\"1\": 12}, \"42\": {\"42\": 10}, \"8\": {\"8\": 8}, \"53\": {\"53\": 12}, \"4\": {\"4\": 12}, \"54\": {\"54\": 10}, \"31\": {\"31\": 12}, \"11\": {\"11\": 7, \"5\": 1}, \"5\": {\"5\": 12}, \"18\": {\"18\": 7, \"28\": 1}, \"7\": {\"7\": 12}, \"15\": {\"15\": 10}, \"17\": {\"17\": 12}, \"2\": {\"2\": 12}, \"35\": {\"35\": 10}, \"22\": {\"22\": 10}, \"34\": {\"34\": 10}, \"56\": {\"56\": 12}, \"12\": {\"12\": 12}, \"16\": {\"16\": 12}, \"51\": {\"51\": 8}, \"28\": {\"28\": 10}, \"29\": {\"29\": 12}, \"44\": {\"44\": 6}, \"36\": {\"36\": 8}}, \"C_A_2\": {\"11\": {\"11\": 12}, \"21\": {\"21\": 10}, \"19\": {\"19\": 8}, \"20\": {\"20\": 12}, \"9\": {\"9\": 10}, \"10\": {\"10\": 12}, \"37\": {\"37\": 10}, \"32\": {\"32\": 12}, \"3\": {\"3\": 12}, \"39\": {\"39\": 12}, \"45\": {\"45\": 12}, \"50\": {\"50\": 12}, \"40\": {\"40\": 12}, \"46\": {\"46\": 12}, \"12\": {\"46\": 1, \"12\": 10, \"15\": 1}, \"13\": {\"13\": 12}, \"18\": {\"18\": 8}, \"28\": {\"28\": 12}, \"57\": {\"57\": 12}, \"7\": {\"7\": 12}, \"15\": {\"15\": 11, \"11\": 1}, \"0\": {\"0\": 12}, \"36\": {\"36\": 12}, \"53\": {\"53\": 12}, \"49\": {\"49\": 12}, \"25\": {\"25\": 12}, \"29\": {\"57\": 2, \"29\": 8}, \"56\": {\"56\": 12}, \"2\": {\"2\": 10}, \"31\": {\"31\": 10}, \"54\": {\"54\": 8}, \"8\": {\"8\": 10}, \"55\": {\"55\": 12}, \"26\": {\"26\": 12}, \"24\": {\"24\": 10}, \"42\": {\"42\": 11, \"47\": 1}, \"27\": {\"27\": 6}, \"41\": {\"41\": 12}, \"43\": {\"43\": 10}, \"47\": {\"47\": 12}, \"38\": {\"38\": 12}, \"16\": {\"16\": 12}, \"34\": {\"34\": 12}, \"35\": {\"35\": 10}, \"44\": {\"44\": 12}, \"23\": {\"23\": 12}, \"52\": {\"52\": 12}, \"48\": {\"48\": 12}, \"33\": {\"33\": 12}, \"1\": {\"1\": 10}, \"14\": {\"14\": 11, \"39\": 1}, \"22\": {\"22\": 8}, \"4\": {\"4\": 12}, \"5\": {\"5\": 12}, \"51\": {\"51\": 10}, \"30\": {\"30\": 10}, \"17\": {\"17\": 8}, \"6\": {\"6\": 8}}, \"W_A_3\": {\"106\": {\"106\": 11, \"108\": 1}, \"129\": {\"129\": 10, \"110\": 2}, \"77\": {\"77\": 12}, \"53\": {\"53\": 12}, \"3\": {\"3\": 12}, \"76\": {\"76\": 12}, \"22\": {\"22\": 12}, \"108\": {\"108\": 12}, \"39\": {\"39\": 12}, \"107\": {\"107\": 12}, \"112\": {\"112\": 12}, \"113\": {\"113\": 11, \"39\": 1}, \"11\": {\"11\": 10}, \"128\": {\"128\": 12}, \"44\": {\"44\": 12}, \"28\": {\"28\": 10}, \"43\": {\"43\": 12}, \"94\": {\"94\": 12}, \"102\": {\"102\": 12}, \"30\": {\"30\": 12}, \"35\": {\"35\": 9, \"97\": 1, \"101\": 2}, \"123\": {\"123\": 9, \"67\": 2, \"45\": 1}, \"58\": {\"58\": 11, \"10\": 1}, \"119\": {\"119\": 12}, \"21\": {\"21\": 10, \"24\": 1, \"97\": 1}, \"79\": {\"79\": 12}, \"117\": {\"117\": 12}, \"121\": {\"121\": 10, \"43\": 1, \"35\": 1}, \"63\": {\"63\": 12}, \"96\": {\"96\": 12}, \"31\": {\"31\": 12}, \"13\": {\"13\": 8, \"51\": 1, \"115\": 1, \"78\": 1, \"12\": 1}, \"51\": {\"51\": 11, \"70\": 1}, \"56\": {\"56\": 6}, \"87\": {\"87\": 12}, \"14\": {\"14\": 8}, \"48\": {\"48\": 7, \"13\": 1, \"65\": 1, \"122\": 1, \"79\": 2}, \"25\": {\"25\": 12}, \"17\": {\"17\": 9, \"56\": 1, \"68\": 2}, \"70\": {\"70\": 11, \"108\": 1}, \"26\": {\"26\": 10}, \"92\": {\"92\": 11, \"118\": 1}, \"45\": {\"45\": 12}, \"105\": {\"105\": 12}, \"61\": {\"61\": 12}, \"36\": {\"36\": 11, \"73\": 1}, \"0\": {\"0\": 12}, \"27\": {\"36\": 1, \"27\": 5}, \"67\": {\"67\": 12}, \"97\": {\"97\": 10, \"73\": 1, \"65\": 1}, \"46\": {\"46\": 10}, \"9\": {\"9\": 12}, \"12\": {\"12\": 10}, \"18\": {\"18\": 7, \"126\": 1}, \"127\": {\"127\": 12}, \"52\": {\"52\": 12}, \"54\": {\"54\": 10}, \"55\": {\"55\": 12}, \"57\": {\"57\": 12}, \"15\": {\"15\": 12}, \"74\": {\"74\": 8}, \"5\": {\"5\": 12}, \"114\": {\"114\": 12}, \"69\": {\"69\": 12}, \"16\": {\"51\": 1, \"16\": 11}, \"38\": {\"38\": 12}, \"124\": {\"124\": 12}, \"125\": {\"125\": 12}, \"41\": {\"41\": 8}, \"80\": {\"80\": 12}, \"82\": {\"82\": 12}, \"84\": {\"84\": 12}, \"93\": {\"93\": 10}, \"29\": {\"29\": 10}, \"33\": {\"33\": 10}, \"120\": {\"120\": 12}, \"66\": {\"93\": 1, \"66\": 8, \"68\": 1}, \"89\": {\"89\": 12}, \"101\": {\"101\": 12}, \"64\": {\"64\": 12}, \"100\": {\"100\": 12}, \"86\": {\"86\": 12}, \"60\": {\"5\": 2, \"60\": 10}, \"78\": {\"78\": 9, \"86\": 1, \"51\": 1, \"81\": 1}, \"73\": {\"73\": 12}, \"19\": {\"19\": 10}, \"122\": {\"122\": 9, \"78\": 2, \"70\": 1}, \"4\": {\"4\": 12}, \"104\": {\"104\": 10}, \"118\": {\"118\": 12}, \"42\": {\"42\": 12}, \"83\": {\"83\": 10, \"10\": 1, \"21\": 1}, \"91\": {\"91\": 10, \"23\": 1, \"103\": 1}, \"62\": {\"62\": 12}, \"2\": {\"2\": 12}, \"1\": {\"1\": 12}, \"90\": {\"90\": 10}, \"34\": {\"34\": 11, \"108\": 1}, \"75\": {\"75\": 12}, \"81\": {\"81\": 12}, \"109\": {\"109\": 12}, \"103\": {\"103\": 12}, \"110\": {\"110\": 12}, \"71\": {\"71\": 12}, \"65\": {\"65\": 12}, \"99\": {\"99\": 12}, \"7\": {\"7\": 8}, \"98\": {\"98\": 12}, \"68\": {\"68\": 12}, \"24\": {\"24\": 11, \"73\": 1}, \"6\": {\"6\": 12}, \"115\": {\"115\": 10}, \"40\": {\"40\": 8}, \"20\": {\"20\": 12}, \"95\": {\"95\": 12}, \"10\": {\"10\": 12}, \"126\": {\"126\": 12}, \"72\": {\"72\": 8, \"82\": 1, \"88\": 1}, \"49\": {\"49\": 10, \"59\": 1, \"13\": 1}, \"111\": {\"111\": 10}, \"37\": {\"37\": 8, \"89\": 1, \"97\": 1}, \"88\": {\"37\": 1, \"88\": 9}, \"32\": {\"34\": 1, \"32\": 9, \"20\": 1, \"50\": 1}, \"47\": {\"47\": 12}, \"59\": {\"59\": 12}, \"23\": {\"60\": 1, \"23\": 4, \"49\": 1, \"58\": 2, \"67\": 2}, \"116\": {\"116\": 11, \"16\": 1}, \"85\": {\"85\": 8}, \"8\": {\"8\": 8}, \"50\": {\"50\": 6}}, \"ORACLE.run1_26\": {\"0\": {\"9\": 17, \"7\": 19, \"3\": 8, \"15\": 18, \"14\": 28, \"5\": 5, \"2\": 16, \"10\": 28, \"13\": 9, \"4\": 17, \"12\": 6, \"8\": 16, \"0\": 21, \"1\": 22, \"6\": 9, \"11\": 1}, \"4\": {\"7\": 19, \"1\": 24, \"15\": 17, \"8\": 20, \"14\": 27, \"2\": 15, \"5\": 10, \"4\": 17, \"10\": 17, \"3\": 20, \"0\": 25, \"9\": 11, \"6\": 14, \"13\": 2, \"12\": 2}, \"14\": {\"0\": 24, \"9\": 14, \"1\": 35, \"2\": 13, \"10\": 18, \"7\": 22, \"6\": 10, \"8\": 24, \"4\": 35, \"13\": 6, \"3\": 7, \"12\": 2, \"5\": 4, \"14\": 15, \"15\": 11}, \"12\": {\"6\": 24, \"0\": 13, \"9\": 14, \"12\": 73, \"11\": 23, \"5\": 12, \"4\": 5, \"8\": 13, \"10\": 12, \"15\": 17, \"1\": 5, \"14\": 8, \"13\": 9, \"7\": 3, \"3\": 4, \"2\": 5}, \"8\": {\"5\": 15, \"0\": 16, \"2\": 19, \"15\": 22, \"7\": 21, \"6\": 16, \"11\": 3, \"12\": 2, \"8\": 15, \"10\": 21, \"4\": 24, \"14\": 15, \"9\": 16, \"1\": 16, \"3\": 12, \"13\": 7}, \"7\": {\"0\": 23, \"9\": 17, \"1\": 19, \"4\": 21, \"14\": 22, \"10\": 23, \"2\": 16, \"5\": 11, \"7\": 23, \"15\": 19, \"3\": 23, \"8\": 9, \"6\": 8, \"12\": 1, \"13\": 4, \"11\": 1}, \"13\": {\"10\": 9, \"7\": 13, \"6\": 11, \"13\": 29, \"9\": 18, \"2\": 24, \"5\": 34, \"0\": 12, \"11\": 16, \"14\": 9, \"15\": 24, \"12\": 7, \"4\": 5, \"3\": 11, \"1\": 5, \"8\": 13}, \"5\": {\"10\": 17, \"12\": 11, \"13\": 26, \"9\": 14, \"5\": 31, \"11\": 4, \"0\": 10, \"8\": 16, \"15\": 22, \"2\": 28, \"7\": 12, \"6\": 17, \"4\": 8, \"3\": 16, \"14\": 5, \"1\": 3}, \"15\": {\"6\": 21, \"7\": 23, \"1\": 15, \"9\": 16, \"15\": 19, \"3\": 10, \"13\": 22, \"14\": 14, \"5\": 18, \"2\": 20, \"4\": 11, \"0\": 10, \"8\": 12, \"10\": 10, \"11\": 7, \"12\": 12}, \"10\": {\"1\": 15, \"9\": 13, \"10\": 20, \"8\": 24, \"13\": 8, \"15\": 21, \"14\": 18, \"4\": 22, \"6\": 19, \"11\": 2, \"2\": 6, \"0\": 24, \"12\": 13, \"7\": 19, \"5\": 5, \"3\": 11}, \"3\": {\"15\": 19, \"9\": 17, \"1\": 15, \"14\": 21, \"2\": 26, \"5\": 20, \"4\": 16, \"13\": 9, \"0\": 14, \"3\": 21, \"8\": 16, \"10\": 18, \"12\": 3, \"6\": 12, \"7\": 12, \"11\": 1}, \"9\": {\"9\": 27, \"6\": 28, \"15\": 27, \"0\": 8, \"4\": 7, \"14\": 8, \"8\": 20, \"1\": 8, \"12\": 14, \"3\": 16, \"10\": 19, \"13\": 12, \"2\": 13, \"5\": 18, \"7\": 14, \"11\": 1}, \"6\": {\"6\": 26, \"0\": 13, \"8\": 25, \"9\": 12, \"14\": 12, \"2\": 12, \"7\": 13, \"3\": 7, \"15\": 27, \"12\": 18, \"10\": 18, \"5\": 21, \"1\": 8, \"13\": 15, \"4\": 10, \"11\": 3}, \"1\": {\"4\": 22, \"13\": 8, \"15\": 19, \"10\": 30, \"9\": 10, \"14\": 24, \"8\": 21, \"5\": 8, \"1\": 28, \"7\": 26, \"0\": 11, \"6\": 7, \"12\": 2, \"3\": 11, \"2\": 13}, \"11\": {\"9\": 9, \"5\": 20, \"11\": 94, \"12\": 42, \"13\": 37, \"6\": 12, \"2\": 5, \"10\": 4, \"14\": 3, \"7\": 2, \"8\": 1, \"0\": 2, \"15\": 7, \"4\": 1, \"3\": 1}, \"2\": {\"1\": 17, \"9\": 20, \"15\": 18, \"7\": 14, \"0\": 12, \"2\": 29, \"10\": 20, \"8\": 19, \"5\": 21, \"3\": 20, \"13\": 13, \"4\": 12, \"6\": 11, \"14\": 13, \"12\": 1}}, \"ORACLE.run1_44\": {\"1\": {\"12\": 51, \"3\": 48, \"9\": 16, \"1\": 39, \"10\": 32, \"2\": 15, \"7\": 26, \"13\": 3, \"6\": 3, \"11\": 4, \"14\": 1, \"4\": 2}, \"11\": {\"6\": 47, \"9\": 29, \"7\": 22, \"11\": 41, \"2\": 26, \"13\": 37, \"1\": 13, \"4\": 2, \"10\": 9, \"12\": 7, \"3\": 7}, \"3\": {\"12\": 47, \"7\": 20, \"9\": 15, \"10\": 15, \"1\": 38, \"3\": 69, \"2\": 15, \"4\": 7, \"14\": 3, \"11\": 3, \"13\": 6, \"6\": 2}, \"6\": {\"9\": 29, \"13\": 42, \"11\": 33, \"6\": 44, \"2\": 28, \"7\": 28, \"3\": 6, \"4\": 2, \"1\": 11, \"10\": 9, \"12\": 8}, \"7\": {\"2\": 27, \"11\": 11, \"9\": 33, \"3\": 20, \"10\": 18, \"6\": 24, \"7\": 31, \"13\": 23, \"1\": 27, \"12\": 23, \"4\": 1, \"5\": 1, \"14\": 1}, \"5\": {\"5\": 57, \"4\": 37, \"15\": 35, \"8\": 31, \"14\": 37, \"0\": 42, \"9\": 1}, \"2\": {\"7\": 35, \"13\": 18, \"11\": 13, \"2\": 36, \"1\": 31, \"12\": 21, \"3\": 12, \"6\": 27, \"10\": 27, \"9\": 19, \"14\": 1}, \"15\": {\"8\": 37, \"0\": 53, \"5\": 49, \"14\": 28, \"15\": 48, \"9\": 3, \"4\": 16, \"3\": 4, \"13\": 1, \"12\": 1}, \"10\": {\"7\": 22, \"1\": 38, \"9\": 14, \"6\": 18, \"12\": 37, \"10\": 44, \"3\": 10, \"13\": 11, \"2\": 36, \"11\": 10}, \"13\": {\"9\": 21, \"13\": 51, \"11\": 29, \"2\": 16, \"7\": 27, \"6\": 44, \"10\": 12, \"1\": 7, \"4\": 15, \"3\": 12, \"12\": 4, \"5\": 1, \"14\": 1}, \"8\": {\"5\": 44, \"15\": 39, \"0\": 67, \"8\": 74, \"14\": 13, \"4\": 3}, \"4\": {\"14\": 46, \"4\": 57, \"11\": 3, \"3\": 17, \"5\": 33, \"7\": 4, \"9\": 15, \"8\": 4, \"13\": 16, \"0\": 10, \"15\": 27, \"6\": 1, \"1\": 1, \"12\": 4, \"10\": 1, \"2\": 1}, \"9\": {\"9\": 37, \"13\": 39, \"7\": 41, \"10\": 14, \"2\": 19, \"4\": 12, \"3\": 13, \"6\": 26, \"11\": 11, \"1\": 13, \"14\": 4, \"12\": 10, \"5\": 1}, \"14\": {\"4\": 56, \"7\": 1, \"15\": 42, \"8\": 16, \"14\": 50, \"9\": 6, \"5\": 45, \"3\": 3, \"0\": 12, \"13\": 4, \"2\": 5}, \"0\": {\"8\": 57, \"5\": 58, \"0\": 46, \"15\": 44, \"14\": 23, \"4\": 12}, \"12\": {\"7\": 17, \"3\": 34, \"2\": 31, \"1\": 41, \"12\": 58, \"10\": 37, \"13\": 3, \"9\": 10, \"11\": 6, \"6\": 3}}, \"ORACLE.run1_50\": {\"15\": {\"6\": 22, \"4\": 33, \"5\": 23, \"1\": 20, \"9\": 22, \"11\": 29, \"15\": 39, \"14\": 15, \"13\": 12, \"12\": 10, \"10\": 1, \"7\": 12, \"0\": 1, \"2\": 1}, \"4\": {\"5\": 25, \"14\": 13, \"4\": 30, \"11\": 22, \"12\": 10, \"7\": 18, \"13\": 24, \"10\": 10, \"9\": 8, \"2\": 3, \"6\": 16, \"0\": 2, \"15\": 27, \"1\": 31, \"3\": 1}, \"6\": {\"7\": 27, \"10\": 17, \"13\": 20, \"5\": 20, \"2\": 9, \"6\": 32, \"0\": 9, \"9\": 4, \"1\": 22, \"11\": 17, \"14\": 14, \"12\": 4, \"15\": 24, \"4\": 17, \"3\": 2, \"8\": 2}, \"2\": {\"0\": 38, \"2\": 60, \"14\": 29, \"8\": 21, \"10\": 35, \"3\": 2, \"13\": 11, \"4\": 3, \"7\": 9, \"12\": 10, \"1\": 7, \"5\": 4, \"6\": 4, \"15\": 1, \"9\": 5, \"11\": 1}, \"5\": {\"7\": 31, \"1\": 21, \"10\": 15, \"6\": 20, \"0\": 18, \"14\": 8, \"2\": 13, \"13\": 31, \"15\": 13, \"4\": 23, \"5\": 21, \"11\": 7, \"12\": 5, \"8\": 6, \"3\": 5, \"9\": 3}, \"9\": {\"9\": 57, \"15\": 22, \"14\": 28, \"12\": 45, \"1\": 15, \"11\": 41, \"5\": 4, \"6\": 5, \"0\": 1, \"2\": 1, \"4\": 15, \"13\": 3, \"7\": 3}, \"8\": {\"3\": 65, \"0\": 38, \"2\": 20, \"10\": 36, \"7\": 11, \"8\": 54, \"13\": 7, \"5\": 4, \"1\": 3, \"6\": 1, \"14\": 1}, \"12\": {\"14\": 46, \"12\": 69, \"2\": 6, \"11\": 32, \"9\": 32, \"6\": 7, \"4\": 11, \"13\": 2, \"7\": 3, \"1\": 12, \"5\": 4, \"0\": 5, \"15\": 9, \"10\": 2}, \"10\": {\"2\": 35, \"10\": 50, \"6\": 9, \"13\": 21, \"7\": 21, \"0\": 32, \"5\": 14, \"8\": 27, \"1\": 6, \"3\": 11, \"4\": 6, \"15\": 2, \"14\": 6}, \"1\": {\"15\": 35, \"13\": 14, \"12\": 13, \"14\": 16, \"11\": 22, \"7\": 25, \"2\": 8, \"1\": 25, \"5\": 16, \"6\": 17, \"4\": 18, \"0\": 7, \"9\": 14, \"10\": 9, \"3\": 1}, \"0\": {\"10\": 34, \"14\": 17, \"7\": 15, \"5\": 18, \"0\": 42, \"2\": 30, \"8\": 33, \"13\": 16, \"3\": 11, \"15\": 1, \"1\": 9, \"12\": 5, \"4\": 5, \"6\": 4}, \"3\": {\"5\": 4, \"3\": 86, \"8\": 59, \"10\": 40, \"0\": 20, \"13\": 10, \"7\": 12, \"2\": 7, \"6\": 2}, \"13\": {\"0\": 18, \"7\": 38, \"1\": 21, \"14\": 9, \"5\": 25, \"4\": 20, \"2\": 9, \"10\": 23, \"13\": 21, \"6\": 27, \"3\": 6, \"15\": 8, \"11\": 7, \"12\": 5, \"8\": 2, \"9\": 1}, \"11\": {\"12\": 30, \"9\": 30, \"4\": 20, \"11\": 40, \"6\": 21, \"15\": 22, \"5\": 12, \"14\": 28, \"7\": 8, \"1\": 21, \"2\": 1, \"13\": 6, \"10\": 1}, \"7\": {\"1\": 14, \"5\": 28, \"13\": 31, \"6\": 31, \"2\": 8, \"0\": 23, \"4\": 14, \"9\": 1, \"7\": 32, \"15\": 14, \"3\": 5, \"12\": 1, \"10\": 22, \"8\": 7, \"11\": 6, \"14\": 3}, \"14\": {\"5\": 15, \"12\": 34, \"13\": 6, \"14\": 42, \"15\": 13, \"10\": 7, \"4\": 13, \"1\": 18, \"2\": 16, \"11\": 23, \"0\": 15, \"6\": 15, \"9\": 14, \"8\": 2, \"7\": 7}}, \"ORACLE.run1_38\": {\"15\": {\"8\": 23, \"10\": 29, \"13\": 25, \"6\": 14, \"1\": 20, \"15\": 45, \"9\": 10, \"11\": 13, \"2\": 19, \"5\": 10, \"14\": 17, \"0\": 8, \"7\": 4, \"3\": 1, \"12\": 2}, \"11\": {\"8\": 8, \"12\": 7, \"11\": 63, \"15\": 14, \"14\": 57, \"10\": 26, \"2\": 24, \"1\": 6, \"5\": 8, \"13\": 14, \"4\": 3, \"0\": 6, \"6\": 3, \"7\": 1}, \"10\": {\"5\": 17, \"10\": 28, \"6\": 12, \"15\": 16, \"9\": 8, \"14\": 21, \"2\": 8, \"11\": 26, \"8\": 25, \"3\": 3, \"7\": 27, \"13\": 15, \"0\": 19, \"1\": 9, \"4\": 1, \"12\": 5}, \"14\": {\"14\": 71, \"15\": 23, \"8\": 16, \"12\": 19, \"11\": 40, \"10\": 28, \"2\": 17, \"13\": 12, \"1\": 5, \"5\": 4, \"4\": 1, \"0\": 3, \"7\": 1}, \"6\": {\"8\": 22, \"10\": 10, \"3\": 10, \"13\": 15, \"5\": 39, \"0\": 16, \"1\": 18, \"9\": 45, \"6\": 46, \"15\": 11, \"7\": 6, \"14\": 1, \"11\": 1}, \"4\": {\"4\": 103, \"7\": 32, \"10\": 5, \"11\": 3, \"0\": 9, \"12\": 74, \"5\": 5, \"3\": 4, \"8\": 3, \"15\": 1, \"14\": 1}, \"13\": {\"10\": 20, \"8\": 17, \"13\": 40, \"7\": 2, \"2\": 29, \"1\": 35, \"15\": 21, \"6\": 21, \"5\": 15, \"14\": 7, \"0\": 14, \"11\": 12, \"9\": 4, \"3\": 3}, \"3\": {\"9\": 40, \"7\": 27, \"6\": 15, \"5\": 15, \"1\": 3, \"8\": 15, \"3\": 92, \"0\": 24, \"10\": 4, \"11\": 1, \"4\": 1, \"13\": 3}, \"7\": {\"5\": 23, \"0\": 36, \"9\": 9, \"4\": 6, \"7\": 55, \"12\": 13, \"14\": 3, \"10\": 22, \"8\": 20, \"11\": 3, \"3\": 21, \"6\": 15, \"15\": 6, \"13\": 5, \"1\": 3}, \"8\": {\"8\": 27, \"10\": 17, \"13\": 16, \"5\": 37, \"0\": 25, \"11\": 4, \"7\": 18, \"9\": 18, \"15\": 22, \"3\": 13, \"2\": 6, \"6\": 21, \"14\": 7, \"1\": 8, \"12\": 1}, \"1\": {\"2\": 30, \"13\": 36, \"1\": 51, \"14\": 3, \"11\": 4, \"8\": 15, \"15\": 37, \"6\": 29, \"9\": 11, \"5\": 16, \"0\": 3, \"7\": 1, \"10\": 4}, \"5\": {\"9\": 18, \"10\": 17, \"7\": 12, \"13\": 18, \"14\": 7, \"11\": 11, \"15\": 20, \"1\": 14, \"8\": 25, \"5\": 36, \"2\": 2, \"6\": 30, \"0\": 18, \"12\": 4, \"3\": 8}, \"0\": {\"7\": 28, \"8\": 29, \"3\": 17, \"13\": 5, \"9\": 13, \"6\": 17, \"0\": 35, \"5\": 20, \"4\": 8, \"14\": 9, \"10\": 18, \"15\": 13, \"12\": 19, \"1\": 6, \"11\": 1, \"2\": 2}, \"2\": {\"2\": 55, \"6\": 8, \"1\": 24, \"14\": 29, \"13\": 35, \"11\": 21, \"15\": 32, \"10\": 16, \"8\": 10, \"5\": 5, \"7\": 2, \"12\": 1, \"9\": 1, \"0\": 1}, \"12\": {\"12\": 120, \"5\": 9, \"0\": 17, \"8\": 11, \"14\": 12, \"7\": 9, \"4\": 44, \"10\": 4, \"11\": 8, \"9\": 1, \"2\": 3, \"15\": 2}, \"9\": {\"9\": 59, \"0\": 16, \"3\": 25, \"5\": 17, \"6\": 55, \"1\": 18, \"10\": 7, \"13\": 11, \"7\": 10, \"8\": 9, \"15\": 11, \"2\": 1, \"11\": 1}}, \"ORACLE.run1_20\": {\"10\": {\"8\": 27, \"4\": 29, \"6\": 22, \"0\": 12, \"5\": 11, \"14\": 24, \"13\": 8, \"11\": 10, \"12\": 16, \"7\": 18, \"10\": 26, \"2\": 10, \"15\": 7, \"3\": 12, \"1\": 5, \"9\": 3}, \"7\": {\"6\": 15, \"8\": 13, \"15\": 17, \"11\": 18, \"12\": 15, \"2\": 15, \"3\": 19, \"5\": 14, \"4\": 13, \"7\": 24, \"0\": 12, \"1\": 20, \"9\": 13, \"10\": 15, \"14\": 5, \"13\": 12}, \"4\": {\"8\": 25, \"9\": 14, \"12\": 10, \"14\": 18, \"4\": 24, \"5\": 15, \"13\": 13, \"3\": 11, \"2\": 12, \"10\": 17, \"15\": 7, \"0\": 11, \"11\": 12, \"6\": 25, \"7\": 18, \"1\": 8}, \"13\": {\"9\": 19, \"12\": 14, \"3\": 9, \"7\": 18, \"10\": 7, \"2\": 19, \"0\": 24, \"1\": 24, \"14\": 5, \"5\": 15, \"4\": 9, \"11\": 15, \"8\": 12, \"13\": 26, \"15\": 23, \"6\": 1}, \"1\": {\"13\": 18, \"0\": 19, \"15\": 27, \"4\": 22, \"9\": 16, \"1\": 28, \"12\": 15, \"6\": 4, \"5\": 20, \"7\": 19, \"8\": 11, \"10\": 4, \"2\": 16, \"3\": 14, \"11\": 6, \"14\": 1}, \"0\": {\"8\": 16, \"3\": 17, \"13\": 19, \"7\": 26, \"12\": 15, \"0\": 27, \"4\": 14, \"14\": 9, \"15\": 26, \"2\": 11, \"9\": 13, \"1\": 15, \"10\": 9, \"11\": 6, \"5\": 13, \"6\": 4}, \"12\": {\"6\": 5, \"5\": 17, \"15\": 13, \"0\": 15, \"2\": 20, \"11\": 14, \"1\": 20, \"9\": 22, \"3\": 24, \"12\": 23, \"13\": 13, \"4\": 10, \"8\": 11, \"10\": 6, \"14\": 8, \"7\": 19}, \"5\": {\"15\": 22, \"14\": 9, \"0\": 21, \"13\": 15, \"8\": 16, \"7\": 17, \"4\": 13, \"3\": 22, \"9\": 18, \"1\": 24, \"10\": 3, \"2\": 20, \"12\": 13, \"6\": 7, \"5\": 14, \"11\": 6}, \"6\": {\"14\": 32, \"10\": 27, \"6\": 26, \"0\": 8, \"3\": 13, \"4\": 22, \"13\": 9, \"9\": 10, \"8\": 31, \"11\": 12, \"12\": 9, \"2\": 8, \"7\": 22, \"5\": 6, \"1\": 3, \"15\": 2}, \"2\": {\"14\": 5, \"12\": 13, \"5\": 12, \"9\": 22, \"1\": 17, \"6\": 10, \"15\": 19, \"13\": 18, \"3\": 17, \"0\": 17, \"8\": 16, \"2\": 28, \"4\": 9, \"10\": 2, \"11\": 13, \"7\": 22}, \"8\": {\"7\": 23, \"13\": 9, \"0\": 18, \"10\": 15, \"9\": 16, \"8\": 23, \"6\": 20, \"12\": 13, \"4\": 25, \"15\": 8, \"1\": 5, \"11\": 9, \"14\": 23, \"5\": 15, \"3\": 13, \"2\": 5}, \"11\": {\"1\": 10, \"11\": 31, \"3\": 14, \"0\": 12, \"10\": 7, \"13\": 25, \"4\": 13, \"6\": 10, \"8\": 14, \"12\": 19, \"9\": 15, \"2\": 23, \"14\": 9, \"7\": 17, \"15\": 9, \"5\": 12}, \"9\": {\"11\": 8, \"13\": 20, \"0\": 23, \"5\": 11, \"7\": 20, \"1\": 17, \"2\": 26, \"8\": 17, \"12\": 14, \"4\": 20, \"6\": 10, \"9\": 19, \"15\": 12, \"10\": 6, \"3\": 13, \"14\": 4}, \"14\": {\"14\": 42, \"8\": 22, \"10\": 29, \"11\": 7, \"7\": 17, \"4\": 29, \"15\": 2, \"12\": 5, \"6\": 30, \"3\": 6, \"0\": 10, \"2\": 8, \"5\": 9, \"9\": 15, \"1\": 3, \"13\": 6}, \"15\": {\"12\": 19, \"13\": 24, \"9\": 17, \"15\": 24, \"1\": 13, \"3\": 23, \"8\": 4, \"4\": 15, \"2\": 22, \"7\": 14, \"0\": 25, \"10\": 11, \"5\": 14, \"11\": 6, \"14\": 4, \"6\": 5}, \"3\": {\"4\": 15, \"13\": 18, \"14\": 11, \"9\": 17, \"11\": 11, \"1\": 17, \"12\": 17, \"0\": 13, \"10\": 21, \"8\": 10, \"15\": 10, \"2\": 23, \"7\": 12, \"5\": 14, \"3\": 20, \"6\": 11}}, \"ORACLE.run1_14\": {\"14\": {\"4\": 23, \"11\": 17, \"5\": 17, \"14\": 31, \"3\": 15, \"6\": 27, \"13\": 27, \"2\": 22, \"0\": 13, \"1\": 19, \"10\": 20, \"15\": 3, \"7\": 5, \"8\": 1}, \"0\": {\"0\": 34, \"10\": 33, \"9\": 18, \"14\": 13, \"6\": 4, \"11\": 35, \"5\": 11, \"3\": 31, \"12\": 6, \"1\": 10, \"2\": 8, \"8\": 15, \"13\": 9, \"7\": 5, \"4\": 8}, \"4\": {\"5\": 24, \"4\": 33, \"6\": 18, \"2\": 15, \"11\": 13, \"14\": 20, \"7\": 21, \"13\": 10, \"8\": 7, \"10\": 16, \"15\": 11, \"1\": 19, \"3\": 23, \"0\": 7, \"9\": 3}, \"11\": {\"10\": 32, \"14\": 7, \"11\": 60, \"9\": 33, \"0\": 39, \"4\": 9, \"8\": 7, \"3\": 17, \"12\": 15, \"1\": 5, \"5\": 5, \"13\": 4, \"2\": 5, \"7\": 1, \"6\": 1}, \"13\": {\"15\": 27, \"13\": 34, \"4\": 14, \"5\": 14, \"7\": 15, \"3\": 9, \"6\": 51, \"2\": 29, \"14\": 22, \"11\": 6, \"10\": 5, \"9\": 1, \"1\": 10, \"0\": 3}, \"9\": {\"10\": 22, \"4\": 1, \"8\": 28, \"11\": 40, \"13\": 1, \"0\": 32, \"9\": 52, \"12\": 54, \"5\": 1, \"7\": 1, \"1\": 3, \"3\": 4, \"14\": 1}, \"3\": {\"4\": 27, \"0\": 25, \"11\": 21, \"10\": 31, \"5\": 14, \"2\": 14, \"15\": 1, \"14\": 21, \"13\": 12, \"3\": 28, \"6\": 10, \"1\": 16, \"8\": 7, \"9\": 3, \"7\": 9, \"12\": 1}, \"6\": {\"2\": 28, \"3\": 17, \"6\": 49, \"5\": 20, \"13\": 54, \"14\": 23, \"0\": 7, \"15\": 10, \"10\": 4, \"11\": 5, \"1\": 8, \"4\": 7, \"7\": 7, \"9\": 1}, \"1\": {\"3\": 23, \"7\": 22, \"4\": 28, \"11\": 7, \"10\": 22, \"1\": 39, \"5\": 30, \"14\": 13, \"6\": 5, \"9\": 3, \"13\": 8, \"8\": 8, \"0\": 6, \"2\": 15, \"15\": 11}, \"5\": {\"4\": 22, \"14\": 13, \"5\": 28, \"7\": 24, \"13\": 14, \"0\": 10, \"3\": 15, \"10\": 12, \"1\": 30, \"11\": 6, \"6\": 13, \"2\": 25, \"15\": 19, \"8\": 7, \"9\": 2}, \"12\": {\"9\": 73, \"12\": 105, \"11\": 30, \"10\": 5, \"8\": 17, \"0\": 9, \"4\": 1}, \"10\": {\"0\": 18, \"12\": 2, \"10\": 41, \"1\": 22, \"11\": 26, \"2\": 17, \"5\": 17, \"13\": 10, \"14\": 14, \"3\": 25, \"6\": 11, \"4\": 16, \"9\": 13, \"8\": 8}, \"8\": {\"0\": 12, \"4\": 12, \"9\": 42, \"8\": 79, \"10\": 10, \"5\": 14, \"3\": 17, \"1\": 18, \"11\": 14, \"12\": 15, \"7\": 3, \"2\": 2, \"15\": 1, \"14\": 1}, \"7\": {\"7\": 64, \"4\": 12, \"14\": 8, \"15\": 41, \"3\": 9, \"6\": 13, \"1\": 18, \"13\": 12, \"5\": 36, \"10\": 5, \"0\": 7, \"2\": 10, \"11\": 2, \"8\": 3}, \"15\": {\"14\": 11, \"4\": 15, \"5\": 24, \"6\": 21, \"13\": 25, \"7\": 40, \"2\": 15, \"1\": 14, \"15\": 65, \"3\": 8, \"10\": 2}, \"2\": {\"4\": 23, \"5\": 26, \"13\": 17, \"6\": 37, \"0\": 14, \"2\": 33, \"14\": 23, \"7\": 14, \"11\": 8, \"3\": 19, \"10\": 10, \"1\": 10, \"15\": 5, \"8\": 1}}, \"ORACLE.run1_32\": {\"11\": {\"7\": 26, \"11\": 48, \"14\": 53, \"2\": 13, \"5\": 27, \"13\": 16, \"3\": 15, \"8\": 14, \"4\": 10, \"0\": 18}, \"1\": {\"10\": 77, \"1\": 103, \"6\": 50, \"9\": 1, \"12\": 9}, \"2\": {\"0\": 32, \"4\": 44, \"7\": 30, \"2\": 38, \"11\": 20, \"5\": 19, \"14\": 21, \"8\": 6, \"13\": 11, \"9\": 15, \"12\": 4}, \"0\": {\"0\": 35, \"4\": 35, \"14\": 30, \"8\": 25, \"2\": 20, \"7\": 25, \"13\": 23, \"11\": 25, \"9\": 4, \"5\": 13, \"3\": 5}, \"3\": {\"7\": 10, \"15\": 21, \"13\": 38, \"8\": 38, \"3\": 55, \"5\": 21, \"11\": 17, \"0\": 8, \"4\": 7, \"14\": 25}, \"8\": {\"13\": 37, \"5\": 38, \"14\": 18, \"8\": 28, \"0\": 15, \"11\": 21, \"7\": 24, \"4\": 18, \"3\": 25, \"15\": 9, \"2\": 6, \"9\": 1}, \"12\": {\"9\": 73, \"12\": 109, \"6\": 29, \"10\": 22, \"4\": 1, \"2\": 4, \"1\": 2}, \"5\": {\"0\": 21, \"7\": 27, \"14\": 24, \"4\": 26, \"13\": 20, \"11\": 24, \"5\": 35, \"8\": 28, \"3\": 16, \"15\": 5, \"2\": 14}, \"15\": {\"13\": 17, \"15\": 142, \"3\": 51, \"11\": 2, \"8\": 16, \"0\": 3, \"5\": 3, \"7\": 5, \"4\": 1}, \"7\": {\"3\": 10, \"2\": 24, \"14\": 42, \"5\": 17, \"11\": 26, \"7\": 31, \"8\": 22, \"0\": 17, \"9\": 3, \"4\": 25, \"13\": 23}, \"4\": {\"9\": 7, \"13\": 26, \"5\": 24, \"7\": 29, \"2\": 25, \"4\": 40, \"0\": 21, \"8\": 30, \"14\": 18, \"11\": 15, \"3\": 4, \"12\": 1}, \"14\": {\"13\": 21, \"11\": 48, \"5\": 22, \"4\": 12, \"7\": 37, \"8\": 18, \"14\": 31, \"0\": 28, \"2\": 16, \"3\": 7}, \"10\": {\"10\": 119, \"9\": 4, \"6\": 28, \"1\": 61, \"12\": 28}, \"6\": {\"1\": 28, \"6\": 127, \"10\": 35, \"12\": 36, \"9\": 14}, \"13\": {\"3\": 24, \"13\": 40, \"15\": 3, \"0\": 18, \"2\": 7, \"11\": 22, \"9\": 2, \"4\": 26, \"14\": 19, \"8\": 41, \"7\": 19, \"5\": 19}, \"9\": {\"12\": 68, \"2\": 18, \"9\": 114, \"10\": 5, \"4\": 10, \"0\": 9, \"1\": 1, \"7\": 6, \"14\": 3, \"13\": 2, \"5\": 2, \"6\": 2}}, \"ORACLE.run1_8\": {\"9\": {\"5\": 18, \"10\": 27, \"9\": 139, \"13\": 16, \"0\": 11, \"7\": 3, \"14\": 9, \"1\": 3, \"3\": 1, \"6\": 3, \"4\": 10}, \"11\": {\"11\": 41, \"8\": 24, \"10\": 18, \"7\": 16, \"2\": 10, \"4\": 27, \"1\": 16, \"3\": 3, \"5\": 15, \"6\": 8, \"12\": 8, \"15\": 14, \"13\": 14, \"14\": 14, \"0\": 12}, \"8\": {\"15\": 19, \"3\": 13, \"7\": 14, \"2\": 18, \"11\": 25, \"8\": 27, \"1\": 23, \"12\": 18, \"14\": 14, \"4\": 10, \"10\": 13, \"13\": 10, \"0\": 14, \"5\": 8, \"6\": 14}, \"4\": {\"15\": 11, \"10\": 19, \"7\": 20, \"0\": 22, \"11\": 9, \"6\": 25, \"14\": 17, \"8\": 15, \"5\": 20, \"13\": 14, \"4\": 21, \"12\": 4, \"1\": 20, \"3\": 10, \"2\": 11, \"9\": 2}, \"13\": {\"0\": 32, \"7\": 17, \"6\": 28, \"10\": 29, \"15\": 7, \"2\": 9, \"1\": 18, \"4\": 18, \"5\": 15, \"14\": 18, \"3\": 3, \"13\": 27, \"8\": 5, \"11\": 10, \"12\": 4}, \"14\": {\"2\": 14, \"0\": 23, \"10\": 21, \"14\": 19, \"8\": 21, \"4\": 22, \"7\": 20, \"5\": 18, \"6\": 19, \"13\": 17, \"1\": 11, \"15\": 13, \"11\": 13, \"12\": 5, \"3\": 3, \"9\": 1}, \"2\": {\"11\": 12, \"12\": 22, \"10\": 10, \"3\": 33, \"8\": 15, \"13\": 7, \"6\": 18, \"15\": 12, \"0\": 20, \"1\": 4, \"7\": 18, \"2\": 44, \"5\": 4, \"4\": 16, \"14\": 5}, \"3\": {\"8\": 20, \"14\": 8, \"2\": 24, \"3\": 38, \"7\": 21, \"6\": 21, \"15\": 29, \"1\": 6, \"5\": 4, \"11\": 6, \"10\": 5, \"12\": 24, \"13\": 9, \"4\": 11, \"0\": 14}, \"1\": {\"4\": 22, \"7\": 19, \"13\": 15, \"2\": 5, \"1\": 26, \"11\": 33, \"10\": 23, \"15\": 15, \"14\": 9, \"12\": 8, \"6\": 18, \"0\": 13, \"8\": 15, \"5\": 16, \"3\": 3}, \"0\": {\"7\": 24, \"2\": 24, \"15\": 5, \"10\": 21, \"4\": 21, \"14\": 21, \"13\": 28, \"5\": 8, \"6\": 18, \"8\": 15, \"11\": 12, \"3\": 7, \"0\": 21, \"1\": 11, \"9\": 3, \"12\": 1}, \"5\": {\"13\": 18, \"5\": 25, \"0\": 14, \"9\": 11, \"7\": 18, \"10\": 31, \"6\": 17, \"4\": 24, \"14\": 23, \"1\": 26, \"11\": 17, \"15\": 5, \"2\": 2, \"8\": 6, \"3\": 3}, \"15\": {\"3\": 31, \"8\": 33, \"11\": 18, \"15\": 25, \"12\": 34, \"7\": 18, \"10\": 7, \"2\": 18, \"1\": 11, \"13\": 5, \"14\": 8, \"4\": 10, \"6\": 15, \"0\": 6, \"5\": 1}, \"10\": {\"5\": 27, \"15\": 6, \"0\": 38, \"14\": 15, \"10\": 23, \"6\": 20, \"2\": 7, \"8\": 9, \"7\": 14, \"1\": 20, \"4\": 17, \"13\": 20, \"11\": 17, \"3\": 1, \"12\": 3, \"9\": 3}, \"12\": {\"6\": 17, \"2\": 24, \"3\": 29, \"12\": 45, \"7\": 8, \"8\": 32, \"1\": 11, \"15\": 33, \"4\": 7, \"11\": 12, \"0\": 8, \"14\": 4, \"13\": 6, \"5\": 2, \"10\": 2}, \"6\": {\"2\": 13, \"11\": 15, \"14\": 17, \"3\": 11, \"15\": 13, \"7\": 22, \"1\": 20, \"10\": 14, \"5\": 11, \"4\": 21, \"13\": 14, \"6\": 19, \"8\": 20, \"0\": 20, \"12\": 10}, \"7\": {\"12\": 8, \"4\": 12, \"3\": 16, \"14\": 20, \"0\": 22, \"13\": 16, \"6\": 13, \"11\": 15, \"2\": 10, \"10\": 20, \"15\": 11, \"5\": 12, \"8\": 17, \"7\": 33, \"1\": 15}}}, \"per_domain_accuracy\": {\"W_A_4\": {\"accuracy\": 0.942154255319149, \"source?\": true}, \"C_A_5\": {\"accuracy\": 0.98125, \"source?\": true}, \"W_A_1\": {\"accuracy\": 0.954483695652174, \"source?\": true}, \"C_A_1\": {\"accuracy\": 0.9890625, \"source?\": true}, \"W_A_2\": {\"accuracy\": 0.913563829787234, \"source?\": true}, \"C_A_3\": {\"accuracy\": 0.9921875, \"source?\": true}, \"C_A_4\": {\"accuracy\": 0.990625, \"source?\": true}, \"C_A_2\": {\"accuracy\": 0.9890625, \"source?\": true}, \"W_A_3\": {\"accuracy\": 0.953125, \"source?\": true}, \"ORACLE.run1_26\": {\"accuracy\": 0.12708333333333333, \"source?\": false}, \"ORACLE.run1_44\": {\"accuracy\": 0.20364583333333333, \"source?\": false}, \"ORACLE.run1_50\": {\"accuracy\": 0.18229166666666666, \"source?\": false}, \"ORACLE.run1_38\": {\"accuracy\": 0.24114583333333334, \"source?\": false}, \"ORACLE.run1_20\": {\"accuracy\": 0.10546875, \"source?\": false}, \"ORACLE.run1_14\": {\"accuracy\": 0.20182291666666666, \"source?\": false}, \"ORACLE.run1_32\": {\"accuracy\": 0.28515625, \"source?\": false}, \"ORACLE.run1_8\": {\"accuracy\": 0.14921875, \"source?\": false}}}, \"history\": {\"epoch_indices\": [1, 2, 3, 4, 5, 6], \"train_label_loss\": [0.35999547900490625, 0.18488646000490153, 0.13286460716245233, 0.10712919247131515, 0.08532807031685768, 0.07071715437563084], \"source_val_label_loss\": [0.23758403956890106, 0.18468469381332397, 0.143790602684021, 0.1410628855228424, 0.13253691792488098, 0.133061945438385], \"target_val_label_loss\": [2.542241096496582, 2.4542477130889893, 2.525777578353882, 2.867526054382324, 2.71046781539917, 2.5791051387786865], \"source_val_acc_label\": [0.946131993006993, 0.9573863636363636, 0.9649256993006993, 0.9686407342657343, 0.970388986013986, 0.9704982517482518], \"target_val_acc_label\": [0.168359375, 0.18697916666666667, 0.17210286458333332, 0.15172526041666667, 0.17109375, 0.19534505208333333]}, \"dataset_metrics\": {\"source\": {\"train\": {\"n_unique_x\": 56699, \"n_unique_y\": 130, \"n_batch/episode\": 2084}, \"val\": {\"n_unique_x\": 12104, \"n_unique_y\": 130, \"n_batch/episode\": 286}, \"test\": {\"n_unique_x\": 12104, \"n_unique_y\": 130, \"n_batch/episode\": 286}}, \"target\": {\"train\": {\"n_unique_x\": 179200, \"n_unique_y\": 16, \"n_batch/episode\": 6720}, \"val\": {\"n_unique_x\": 38400, \"n_unique_y\": 16, \"n_batch/episode\": 960}, \"test\": {\"n_unique_x\": 38400, \"n_unique_y\": 16, \"n_batch/episode\": 960}}}}'"
      ]
     },
     "execution_count": 29,
     "metadata": {},
     "output_type": "execute_result"
    }
   ],
   "source": [
    "json.dumps(experiment)"
   ]
  }
 ],
 "metadata": {
  "celltoolbar": "Tags",
  "kernelspec": {
   "display_name": "Python 3 (ipykernel)",
   "language": "python",
   "name": "python3"
  },
  "language_info": {
   "codemirror_mode": {
    "name": "ipython",
    "version": 3
   },
   "file_extension": ".py",
   "mimetype": "text/x-python",
   "name": "python",
   "nbconvert_exporter": "python",
   "pygments_lexer": "ipython3",
   "version": "3.8.10"
  },
  "papermill": {
   "default_parameters": {},
   "duration": 443.76297,
   "end_time": "2022-03-18T22:48:55.941575",
   "environment_variables": {},
   "exception": null,
   "input_path": "/mnt/wd500GB/CSC500/csc500-main/csc500-notebooks/templates/tl_ptn_template.ipynb",
   "output_path": "trial.ipynb",
   "parameters": {
    "parameters": {
     "BEST_MODEL_PATH": "./best_model.pth",
     "NUM_LOGS_PER_EPOCH": 10,
     "criteria_for_best": "target_loss",
     "dataset_seed": 7,
     "datasets": [
      {
       "domain_prefix": "C_A_",
       "domains": [
        1,
        2,
        3,
        4,
        5
       ],
       "episode_transforms": [],
       "labels": [
        "1-10.",
        "1-11.",
        "1-15.",
        "1-16.",
        "1-17.",
        "1-18.",
        "1-19.",
        "10-4.",
        "10-7.",
        "11-1.",
        "11-14.",
        "11-17.",
        "11-20.",
        "11-7.",
        "13-20.",
        "13-8.",
        "14-10.",
        "14-11.",
        "14-14.",
        "14-7.",
        "15-1.",
        "15-20.",
        "16-1.",
        "16-16.",
        "17-10.",
        "17-11.",
        "17-2.",
        "19-1.",
        "19-16.",
        "19-19.",
        "19-20.",
        "19-3.",
        "2-10.",
        "2-11.",
        "2-17.",
        "2-18.",
        "2-20.",
        "2-3.",
        "2-4.",
        "2-5.",
        "2-6.",
        "2-7.",
        "2-8.",
        "3-13.",
        "3-18.",
        "3-3.",
        "4-1.",
        "4-10.",
        "4-11.",
        "4-19.",
        "5-5.",
        "6-15.",
        "7-10.",
        "7-14.",
        "8-18.",
        "8-20.",
        "8-3.",
        "8-8."
       ],
       "num_examples_per_domain_per_label": 100,
       "pickle_path": "/mnt/wd500GB/CSC500/csc500-main/datasets/cores.stratified_ds.2022A.pkl",
       "source_or_target_dataset": "source",
       "x_transforms": [
        "unit_power",
        "take_200"
       ]
      },
      {
       "domain_prefix": "W_A_",
       "domains": [
        1,
        2,
        3,
        4
       ],
       "episode_transforms": [],
       "labels": [
        "1-10",
        "1-12",
        "1-14",
        "1-16",
        "1-18",
        "1-19",
        "1-8",
        "10-11",
        "10-17",
        "10-4",
        "10-7",
        "11-1",
        "11-10",
        "11-19",
        "11-20",
        "11-4",
        "11-7",
        "12-19",
        "12-20",
        "12-7",
        "13-14",
        "13-18",
        "13-19",
        "13-20",
        "13-3",
        "13-7",
        "14-10",
        "14-11",
        "14-12",
        "14-13",
        "14-14",
        "14-19",
        "14-20",
        "14-7",
        "14-8",
        "14-9",
        "15-1",
        "15-19",
        "15-6",
        "16-1",
        "16-16",
        "16-19",
        "16-20",
        "17-10",
        "17-11",
        "18-1",
        "18-10",
        "18-11",
        "18-12",
        "18-13",
        "18-14",
        "18-15",
        "18-16",
        "18-17",
        "18-19",
        "18-2",
        "18-20",
        "18-4",
        "18-5",
        "18-7",
        "18-8",
        "18-9",
        "19-1",
        "19-10",
        "19-11",
        "19-12",
        "19-13",
        "19-14",
        "19-15",
        "19-19",
        "19-2",
        "19-20",
        "19-3",
        "19-4",
        "19-6",
        "19-7",
        "19-8",
        "19-9",
        "2-1",
        "2-13",
        "2-15",
        "2-3",
        "2-4",
        "2-5",
        "2-6",
        "2-7",
        "2-8",
        "20-1",
        "20-12",
        "20-14",
        "20-15",
        "20-16",
        "20-18",
        "20-19",
        "20-20",
        "20-3",
        "20-4",
        "20-5",
        "20-7",
        "20-8",
        "3-1",
        "3-13",
        "3-18",
        "3-2",
        "3-8",
        "4-1",
        "4-10",
        "4-11",
        "5-1",
        "5-5",
        "6-1",
        "6-15",
        "6-6",
        "7-10",
        "7-11",
        "7-12",
        "7-13",
        "7-14",
        "7-7",
        "7-8",
        "7-9",
        "8-1",
        "8-13",
        "8-14",
        "8-18",
        "8-20",
        "8-3",
        "8-8",
        "9-1",
        "9-7"
       ],
       "num_examples_per_domain_per_label": 100,
       "pickle_path": "/mnt/wd500GB/CSC500/csc500-main/datasets/wisig.node3-19.stratified_ds.2022A.pkl",
       "source_or_target_dataset": "source",
       "x_transforms": [
        "unit_power",
        "take_200"
       ]
      },
      {
       "domain_prefix": "ORACLE.run1_",
       "domains": [
        32,
        38,
        8,
        44,
        14,
        50,
        20,
        26
       ],
       "episode_transforms": [],
       "labels": [
        "3123D52",
        "3123D65",
        "3123D79",
        "3123D80",
        "3123D54",
        "3123D70",
        "3123D7B",
        "3123D89",
        "3123D58",
        "3123D76",
        "3123D7D",
        "3123EFE",
        "3123D64",
        "3123D78",
        "3123D7E",
        "3124E4A"
       ],
       "num_examples_per_domain_per_label": 2000,
       "pickle_path": "/mnt/wd500GB/CSC500/csc500-main/datasets/oracle.Run1_framed_2000Examples_stratified_ds.2022A.pkl",
       "source_or_target_dataset": "target",
       "x_transforms": [
        "unit_power",
        "take_200",
        "resample_20Msps_to_25Msps"
       ]
      }
     ],
     "device": "cuda",
     "experiment_name": "tl_3A:cores+wisig -> oracle.run1.framed",
     "lr": 0.001,
     "n_epoch": 50,
     "n_query": 2,
     "n_shot": 3,
     "n_way": 16,
     "patience": 3,
     "seed": 7,
     "test_k_factor": 2,
     "torch_default_dtype": "torch.float32",
     "train_k_factor": 3,
     "val_k_factor": 2,
     "x_net": [
      {
       "class": "nnReshape",
       "kargs": {
        "shape": [
         -1,
         1,
         2,
         200
        ]
       }
      },
      {
       "class": "Conv2d",
       "kargs": {
        "bias": false,
        "in_channels": 1,
        "kernel_size": [
         1,
         7
        ],
        "out_channels": 256,
        "padding": [
         0,
         3
        ]
       }
      },
      {
       "class": "ReLU",
       "kargs": {
        "inplace": true
       }
      },
      {
       "class": "BatchNorm2d",
       "kargs": {
        "num_features": 256
       }
      },
      {
       "class": "Conv2d",
       "kargs": {
        "bias": true,
        "in_channels": 256,
        "kernel_size": [
         2,
         7
        ],
        "out_channels": 80,
        "padding": [
         0,
         3
        ]
       }
      },
      {
       "class": "ReLU",
       "kargs": {
        "inplace": true
       }
      },
      {
       "class": "BatchNorm2d",
       "kargs": {
        "num_features": 80
       }
      },
      {
       "class": "Flatten",
       "kargs": {}
      },
      {
       "class": "Linear",
       "kargs": {
        "in_features": 16000,
        "out_features": 256
       }
      },
      {
       "class": "ReLU",
       "kargs": {
        "inplace": true
       }
      },
      {
       "class": "BatchNorm1d",
       "kargs": {
        "num_features": 256
       }
      },
      {
       "class": "Linear",
       "kargs": {
        "in_features": 256,
        "out_features": 256
       }
      }
     ],
     "x_shape": [
      2,
      200
     ]
    }
   },
   "start_time": "2022-03-18T22:41:32.178605",
   "version": "2.3.4"
  }
 },
 "nbformat": 4,
 "nbformat_minor": 5
}