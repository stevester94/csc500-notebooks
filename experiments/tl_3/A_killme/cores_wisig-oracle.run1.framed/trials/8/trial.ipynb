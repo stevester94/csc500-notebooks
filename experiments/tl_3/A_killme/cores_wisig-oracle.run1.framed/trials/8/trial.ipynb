{
 "cells": [
  {
   "cell_type": "markdown",
   "id": "9fea5f46",
   "metadata": {
    "papermill": {
     "duration": 0.018222,
     "end_time": "2022-03-18T22:27:08.476258",
     "exception": false,
     "start_time": "2022-03-18T22:27:08.458036",
     "status": "completed"
    },
    "tags": []
   },
   "source": [
    "# Transfer Learning Template"
   ]
  },
  {
   "cell_type": "code",
   "execution_count": 1,
   "id": "0902182a",
   "metadata": {
    "execution": {
     "iopub.execute_input": "2022-03-18T22:27:08.515719Z",
     "iopub.status.busy": "2022-03-18T22:27:08.515348Z",
     "iopub.status.idle": "2022-03-18T22:27:09.406049Z",
     "shell.execute_reply": "2022-03-18T22:27:09.406279Z"
    },
    "papermill": {
     "duration": 0.917481,
     "end_time": "2022-03-18T22:27:09.406399",
     "exception": false,
     "start_time": "2022-03-18T22:27:08.488918",
     "status": "completed"
    },
    "tags": []
   },
   "outputs": [],
   "source": [
    "%load_ext autoreload\n",
    "%autoreload 2\n",
    "%matplotlib inline\n",
    "\n",
    "    \n",
    "import os, json, sys, time, random\n",
    "import numpy as np\n",
    "import torch\n",
    "from torch.optim import Adam\n",
    "from  easydict import EasyDict\n",
    "import matplotlib.pyplot as plt\n",
    "\n",
    "from steves_models.steves_ptn import Steves_Prototypical_Network\n",
    "\n",
    "from steves_utils.lazy_iterable_wrapper import Lazy_Iterable_Wrapper\n",
    "from steves_utils.iterable_aggregator import Iterable_Aggregator\n",
    "from steves_utils.ptn_train_eval_test_jig import  PTN_Train_Eval_Test_Jig\n",
    "from steves_utils.torch_sequential_builder import build_sequential\n",
    "from steves_utils.torch_utils import get_dataset_metrics, ptn_confusion_by_domain_over_dataloader\n",
    "from steves_utils.utils_v2 import (per_domain_accuracy_from_confusion, get_datasets_base_path)\n",
    "from steves_utils.PTN.utils import independent_accuracy_assesment\n",
    "\n",
    "from torch.utils.data import DataLoader\n",
    "\n",
    "from steves_utils.stratified_dataset.episodic_accessor import Episodic_Accessor_Factory\n",
    "\n",
    "from steves_utils.ptn_do_report import (\n",
    "    get_loss_curve,\n",
    "    get_results_table,\n",
    "    get_parameters_table,\n",
    "    get_domain_accuracies,\n",
    ")\n",
    "\n",
    "from steves_utils.transforms import get_chained_transform"
   ]
  },
  {
   "cell_type": "markdown",
   "id": "41c840b4",
   "metadata": {
    "papermill": {
     "duration": 0.012685,
     "end_time": "2022-03-18T22:27:09.432300",
     "exception": false,
     "start_time": "2022-03-18T22:27:09.419615",
     "status": "completed"
    },
    "tags": []
   },
   "source": [
    "# Allowed Parameters\n",
    "These are allowed parameters, not defaults\n",
    "Each of these values need to be present in the injected parameters (the notebook will raise an exception if they are not present)\n",
    "\n",
    "Papermill uses the cell tag \"parameters\" to inject the real parameters below this cell.\n",
    "Enable tags to see what I mean"
   ]
  },
  {
   "cell_type": "code",
   "execution_count": 2,
   "id": "fd44eb83",
   "metadata": {
    "execution": {
     "iopub.execute_input": "2022-03-18T22:27:09.459932Z",
     "iopub.status.busy": "2022-03-18T22:27:09.459671Z",
     "iopub.status.idle": "2022-03-18T22:27:09.470731Z",
     "shell.execute_reply": "2022-03-18T22:27:09.470504Z"
    },
    "papermill": {
     "duration": 0.025744,
     "end_time": "2022-03-18T22:27:09.470788",
     "exception": false,
     "start_time": "2022-03-18T22:27:09.445044",
     "status": "completed"
    },
    "tags": []
   },
   "outputs": [],
   "source": [
    "required_parameters = {\n",
    "    \"experiment_name\",\n",
    "    \"lr\",\n",
    "    \"device\",\n",
    "    \"seed\",\n",
    "    \"dataset_seed\",\n",
    "    \"n_shot\",\n",
    "    \"n_query\",\n",
    "    \"n_way\",\n",
    "    \"train_k_factor\",\n",
    "    \"val_k_factor\",\n",
    "    \"test_k_factor\",\n",
    "    \"n_epoch\",\n",
    "    \"patience\",\n",
    "    \"criteria_for_best\",\n",
    "    \"x_net\",\n",
    "    \"datasets\",\n",
    "    \"torch_default_dtype\",\n",
    "    \"NUM_LOGS_PER_EPOCH\",\n",
    "    \"BEST_MODEL_PATH\",\n",
    "    \"x_shape\",\n",
    "}"
   ]
  },
  {
   "cell_type": "code",
   "execution_count": 3,
   "id": "fa3f0049",
   "metadata": {
    "execution": {
     "iopub.execute_input": "2022-03-18T22:27:09.504899Z",
     "iopub.status.busy": "2022-03-18T22:27:09.504616Z",
     "iopub.status.idle": "2022-03-18T22:27:09.516860Z",
     "shell.execute_reply": "2022-03-18T22:27:09.516602Z"
    },
    "papermill": {
     "duration": 0.031262,
     "end_time": "2022-03-18T22:27:09.516925",
     "exception": false,
     "start_time": "2022-03-18T22:27:09.485663",
     "status": "completed"
    },
    "tags": [
     "parameters"
    ]
   },
   "outputs": [],
   "source": [
    "from steves_utils.CORES.utils import (\n",
    "    ALL_NODES,\n",
    "    ALL_NODES_MINIMUM_1000_EXAMPLES,\n",
    "    ALL_DAYS\n",
    ")\n",
    "\n",
    "from steves_utils.ORACLE.utils_v2 import (\n",
    "    ALL_DISTANCES_FEET_NARROWED,\n",
    "    ALL_RUNS,\n",
    "    ALL_SERIAL_NUMBERS,\n",
    ")\n",
    "\n",
    "standalone_parameters = {}\n",
    "standalone_parameters[\"experiment_name\"] = \"STANDALONE PTN\"\n",
    "standalone_parameters[\"lr\"] = 0.001\n",
    "standalone_parameters[\"device\"] = \"cuda\"\n",
    "\n",
    "standalone_parameters[\"seed\"] = 1337\n",
    "standalone_parameters[\"dataset_seed\"] = 1337\n",
    "\n",
    "standalone_parameters[\"n_way\"] = 8\n",
    "standalone_parameters[\"n_shot\"] = 3\n",
    "standalone_parameters[\"n_query\"]  = 2\n",
    "standalone_parameters[\"train_k_factor\"] = 1\n",
    "standalone_parameters[\"val_k_factor\"] = 2\n",
    "standalone_parameters[\"test_k_factor\"] = 2\n",
    "\n",
    "\n",
    "standalone_parameters[\"n_epoch\"] = 50\n",
    "\n",
    "standalone_parameters[\"patience\"] = 10\n",
    "standalone_parameters[\"criteria_for_best\"] = \"source_loss\"\n",
    "\n",
    "standalone_parameters[\"datasets\"] = [\n",
    "    {\n",
    "        \"labels\": ALL_SERIAL_NUMBERS,\n",
    "        \"domains\": ALL_DISTANCES_FEET_NARROWED,\n",
    "        \"num_examples_per_domain_per_label\": 100,\n",
    "        \"pickle_path\": os.path.join(get_datasets_base_path(), \"oracle.Run1_framed_2000Examples_stratified_ds.2022A.pkl\"),\n",
    "        \"source_or_target_dataset\": \"source\",\n",
    "        \"x_transforms\": [\"unit_mag\", \"minus_two\"],\n",
    "        \"episode_transforms\": [],\n",
    "        \"domain_prefix\": \"ORACLE_\"\n",
    "    },\n",
    "    {\n",
    "        \"labels\": ALL_NODES,\n",
    "        \"domains\": ALL_DAYS,\n",
    "        \"num_examples_per_domain_per_label\": 100,\n",
    "        \"pickle_path\": os.path.join(get_datasets_base_path(), \"cores.stratified_ds.2022A.pkl\"),\n",
    "        \"source_or_target_dataset\": \"target\",\n",
    "        \"x_transforms\": [\"unit_power\", \"times_zero\"],\n",
    "        \"episode_transforms\": [],\n",
    "        \"domain_prefix\": \"CORES_\"\n",
    "    }   \n",
    "]\n",
    "\n",
    "standalone_parameters[\"torch_default_dtype\"] = \"torch.float32\" \n",
    "\n",
    "\n",
    "\n",
    "standalone_parameters[\"x_net\"] =     [\n",
    "    {\"class\": \"nnReshape\", \"kargs\": {\"shape\":[-1, 1, 2, 256]}},\n",
    "    {\"class\": \"Conv2d\", \"kargs\": { \"in_channels\":1, \"out_channels\":256, \"kernel_size\":(1,7), \"bias\":False, \"padding\":(0,3), },},\n",
    "    {\"class\": \"ReLU\", \"kargs\": {\"inplace\": True}},\n",
    "    {\"class\": \"BatchNorm2d\", \"kargs\": {\"num_features\":256}},\n",
    "\n",
    "    {\"class\": \"Conv2d\", \"kargs\": { \"in_channels\":256, \"out_channels\":80, \"kernel_size\":(2,7), \"bias\":True, \"padding\":(0,3), },},\n",
    "    {\"class\": \"ReLU\", \"kargs\": {\"inplace\": True}},\n",
    "    {\"class\": \"BatchNorm2d\", \"kargs\": {\"num_features\":80}},\n",
    "    {\"class\": \"Flatten\", \"kargs\": {}},\n",
    "\n",
    "    {\"class\": \"Linear\", \"kargs\": {\"in_features\": 80*256, \"out_features\": 256}}, # 80 units per IQ pair\n",
    "    {\"class\": \"ReLU\", \"kargs\": {\"inplace\": True}},\n",
    "    {\"class\": \"BatchNorm1d\", \"kargs\": {\"num_features\":256}},\n",
    "\n",
    "    {\"class\": \"Linear\", \"kargs\": {\"in_features\": 256, \"out_features\": 256}},\n",
    "]\n",
    "\n",
    "# Parameters relevant to results\n",
    "# These parameters will basically never need to change\n",
    "standalone_parameters[\"NUM_LOGS_PER_EPOCH\"] = 10\n",
    "standalone_parameters[\"BEST_MODEL_PATH\"] = \"./best_model.pth\"\n",
    "\n",
    "\n",
    "\n",
    "\n"
   ]
  },
  {
   "cell_type": "code",
   "execution_count": 4,
   "id": "291a04f9",
   "metadata": {
    "execution": {
     "iopub.execute_input": "2022-03-18T22:27:09.553702Z",
     "iopub.status.busy": "2022-03-18T22:27:09.553373Z",
     "iopub.status.idle": "2022-03-18T22:27:09.567408Z",
     "shell.execute_reply": "2022-03-18T22:27:09.566954Z"
    },
    "papermill": {
     "duration": 0.035979,
     "end_time": "2022-03-18T22:27:09.567512",
     "exception": false,
     "start_time": "2022-03-18T22:27:09.531533",
     "status": "completed"
    },
    "tags": [
     "injected-parameters"
    ]
   },
   "outputs": [],
   "source": [
    "# Parameters\n",
    "parameters = {\n",
    "    \"experiment_name\": \"tl_3A:cores+wisig -> oracle.run1.framed\",\n",
    "    \"device\": \"cuda\",\n",
    "    \"lr\": 0.001,\n",
    "    \"x_shape\": [2, 200],\n",
    "    \"n_shot\": 3,\n",
    "    \"n_query\": 2,\n",
    "    \"train_k_factor\": 3,\n",
    "    \"val_k_factor\": 2,\n",
    "    \"test_k_factor\": 2,\n",
    "    \"torch_default_dtype\": \"torch.float32\",\n",
    "    \"n_epoch\": 50,\n",
    "    \"patience\": 3,\n",
    "    \"criteria_for_best\": \"target_loss\",\n",
    "    \"x_net\": [\n",
    "        {\"class\": \"nnReshape\", \"kargs\": {\"shape\": [-1, 1, 2, 200]}},\n",
    "        {\n",
    "            \"class\": \"Conv2d\",\n",
    "            \"kargs\": {\n",
    "                \"in_channels\": 1,\n",
    "                \"out_channels\": 256,\n",
    "                \"kernel_size\": [1, 7],\n",
    "                \"bias\": False,\n",
    "                \"padding\": [0, 3],\n",
    "            },\n",
    "        },\n",
    "        {\"class\": \"ReLU\", \"kargs\": {\"inplace\": True}},\n",
    "        {\"class\": \"BatchNorm2d\", \"kargs\": {\"num_features\": 256}},\n",
    "        {\n",
    "            \"class\": \"Conv2d\",\n",
    "            \"kargs\": {\n",
    "                \"in_channels\": 256,\n",
    "                \"out_channels\": 80,\n",
    "                \"kernel_size\": [2, 7],\n",
    "                \"bias\": True,\n",
    "                \"padding\": [0, 3],\n",
    "            },\n",
    "        },\n",
    "        {\"class\": \"ReLU\", \"kargs\": {\"inplace\": True}},\n",
    "        {\"class\": \"BatchNorm2d\", \"kargs\": {\"num_features\": 80}},\n",
    "        {\"class\": \"Flatten\", \"kargs\": {}},\n",
    "        {\"class\": \"Linear\", \"kargs\": {\"in_features\": 16000, \"out_features\": 256}},\n",
    "        {\"class\": \"ReLU\", \"kargs\": {\"inplace\": True}},\n",
    "        {\"class\": \"BatchNorm1d\", \"kargs\": {\"num_features\": 256}},\n",
    "        {\"class\": \"Linear\", \"kargs\": {\"in_features\": 256, \"out_features\": 256}},\n",
    "    ],\n",
    "    \"NUM_LOGS_PER_EPOCH\": 10,\n",
    "    \"BEST_MODEL_PATH\": \"./best_model.pth\",\n",
    "    \"n_way\": 16,\n",
    "    \"datasets\": [\n",
    "        {\n",
    "            \"labels\": [\n",
    "                \"1-10.\",\n",
    "                \"1-11.\",\n",
    "                \"1-15.\",\n",
    "                \"1-16.\",\n",
    "                \"1-17.\",\n",
    "                \"1-18.\",\n",
    "                \"1-19.\",\n",
    "                \"10-4.\",\n",
    "                \"10-7.\",\n",
    "                \"11-1.\",\n",
    "                \"11-14.\",\n",
    "                \"11-17.\",\n",
    "                \"11-20.\",\n",
    "                \"11-7.\",\n",
    "                \"13-20.\",\n",
    "                \"13-8.\",\n",
    "                \"14-10.\",\n",
    "                \"14-11.\",\n",
    "                \"14-14.\",\n",
    "                \"14-7.\",\n",
    "                \"15-1.\",\n",
    "                \"15-20.\",\n",
    "                \"16-1.\",\n",
    "                \"16-16.\",\n",
    "                \"17-10.\",\n",
    "                \"17-11.\",\n",
    "                \"17-2.\",\n",
    "                \"19-1.\",\n",
    "                \"19-16.\",\n",
    "                \"19-19.\",\n",
    "                \"19-20.\",\n",
    "                \"19-3.\",\n",
    "                \"2-10.\",\n",
    "                \"2-11.\",\n",
    "                \"2-17.\",\n",
    "                \"2-18.\",\n",
    "                \"2-20.\",\n",
    "                \"2-3.\",\n",
    "                \"2-4.\",\n",
    "                \"2-5.\",\n",
    "                \"2-6.\",\n",
    "                \"2-7.\",\n",
    "                \"2-8.\",\n",
    "                \"3-13.\",\n",
    "                \"3-18.\",\n",
    "                \"3-3.\",\n",
    "                \"4-1.\",\n",
    "                \"4-10.\",\n",
    "                \"4-11.\",\n",
    "                \"4-19.\",\n",
    "                \"5-5.\",\n",
    "                \"6-15.\",\n",
    "                \"7-10.\",\n",
    "                \"7-14.\",\n",
    "                \"8-18.\",\n",
    "                \"8-20.\",\n",
    "                \"8-3.\",\n",
    "                \"8-8.\",\n",
    "            ],\n",
    "            \"domains\": [1, 2, 3, 4, 5],\n",
    "            \"num_examples_per_domain_per_label\": 100,\n",
    "            \"pickle_path\": \"/mnt/wd500GB/CSC500/csc500-main/datasets/cores.stratified_ds.2022A.pkl\",\n",
    "            \"source_or_target_dataset\": \"source\",\n",
    "            \"x_transforms\": [\"take_200\"],\n",
    "            \"episode_transforms\": [],\n",
    "            \"domain_prefix\": \"C_A_\",\n",
    "        },\n",
    "        {\n",
    "            \"labels\": [\n",
    "                \"1-10\",\n",
    "                \"1-12\",\n",
    "                \"1-14\",\n",
    "                \"1-16\",\n",
    "                \"1-18\",\n",
    "                \"1-19\",\n",
    "                \"1-8\",\n",
    "                \"10-11\",\n",
    "                \"10-17\",\n",
    "                \"10-4\",\n",
    "                \"10-7\",\n",
    "                \"11-1\",\n",
    "                \"11-10\",\n",
    "                \"11-19\",\n",
    "                \"11-20\",\n",
    "                \"11-4\",\n",
    "                \"11-7\",\n",
    "                \"12-19\",\n",
    "                \"12-20\",\n",
    "                \"12-7\",\n",
    "                \"13-14\",\n",
    "                \"13-18\",\n",
    "                \"13-19\",\n",
    "                \"13-20\",\n",
    "                \"13-3\",\n",
    "                \"13-7\",\n",
    "                \"14-10\",\n",
    "                \"14-11\",\n",
    "                \"14-12\",\n",
    "                \"14-13\",\n",
    "                \"14-14\",\n",
    "                \"14-19\",\n",
    "                \"14-20\",\n",
    "                \"14-7\",\n",
    "                \"14-8\",\n",
    "                \"14-9\",\n",
    "                \"15-1\",\n",
    "                \"15-19\",\n",
    "                \"15-6\",\n",
    "                \"16-1\",\n",
    "                \"16-16\",\n",
    "                \"16-19\",\n",
    "                \"16-20\",\n",
    "                \"17-10\",\n",
    "                \"17-11\",\n",
    "                \"18-1\",\n",
    "                \"18-10\",\n",
    "                \"18-11\",\n",
    "                \"18-12\",\n",
    "                \"18-13\",\n",
    "                \"18-14\",\n",
    "                \"18-15\",\n",
    "                \"18-16\",\n",
    "                \"18-17\",\n",
    "                \"18-19\",\n",
    "                \"18-2\",\n",
    "                \"18-20\",\n",
    "                \"18-4\",\n",
    "                \"18-5\",\n",
    "                \"18-7\",\n",
    "                \"18-8\",\n",
    "                \"18-9\",\n",
    "                \"19-1\",\n",
    "                \"19-10\",\n",
    "                \"19-11\",\n",
    "                \"19-12\",\n",
    "                \"19-13\",\n",
    "                \"19-14\",\n",
    "                \"19-15\",\n",
    "                \"19-19\",\n",
    "                \"19-2\",\n",
    "                \"19-20\",\n",
    "                \"19-3\",\n",
    "                \"19-4\",\n",
    "                \"19-6\",\n",
    "                \"19-7\",\n",
    "                \"19-8\",\n",
    "                \"19-9\",\n",
    "                \"2-1\",\n",
    "                \"2-13\",\n",
    "                \"2-15\",\n",
    "                \"2-3\",\n",
    "                \"2-4\",\n",
    "                \"2-5\",\n",
    "                \"2-6\",\n",
    "                \"2-7\",\n",
    "                \"2-8\",\n",
    "                \"20-1\",\n",
    "                \"20-12\",\n",
    "                \"20-14\",\n",
    "                \"20-15\",\n",
    "                \"20-16\",\n",
    "                \"20-18\",\n",
    "                \"20-19\",\n",
    "                \"20-20\",\n",
    "                \"20-3\",\n",
    "                \"20-4\",\n",
    "                \"20-5\",\n",
    "                \"20-7\",\n",
    "                \"20-8\",\n",
    "                \"3-1\",\n",
    "                \"3-13\",\n",
    "                \"3-18\",\n",
    "                \"3-2\",\n",
    "                \"3-8\",\n",
    "                \"4-1\",\n",
    "                \"4-10\",\n",
    "                \"4-11\",\n",
    "                \"5-1\",\n",
    "                \"5-5\",\n",
    "                \"6-1\",\n",
    "                \"6-15\",\n",
    "                \"6-6\",\n",
    "                \"7-10\",\n",
    "                \"7-11\",\n",
    "                \"7-12\",\n",
    "                \"7-13\",\n",
    "                \"7-14\",\n",
    "                \"7-7\",\n",
    "                \"7-8\",\n",
    "                \"7-9\",\n",
    "                \"8-1\",\n",
    "                \"8-13\",\n",
    "                \"8-14\",\n",
    "                \"8-18\",\n",
    "                \"8-20\",\n",
    "                \"8-3\",\n",
    "                \"8-8\",\n",
    "                \"9-1\",\n",
    "                \"9-7\",\n",
    "            ],\n",
    "            \"domains\": [1, 2, 3, 4],\n",
    "            \"num_examples_per_domain_per_label\": 100,\n",
    "            \"pickle_path\": \"/mnt/wd500GB/CSC500/csc500-main/datasets/wisig.node3-19.stratified_ds.2022A.pkl\",\n",
    "            \"source_or_target_dataset\": \"source\",\n",
    "            \"x_transforms\": [\"take_200\"],\n",
    "            \"episode_transforms\": [],\n",
    "            \"domain_prefix\": \"W_A_\",\n",
    "        },\n",
    "        {\n",
    "            \"labels\": [\n",
    "                \"3123D52\",\n",
    "                \"3123D65\",\n",
    "                \"3123D79\",\n",
    "                \"3123D80\",\n",
    "                \"3123D54\",\n",
    "                \"3123D70\",\n",
    "                \"3123D7B\",\n",
    "                \"3123D89\",\n",
    "                \"3123D58\",\n",
    "                \"3123D76\",\n",
    "                \"3123D7D\",\n",
    "                \"3123EFE\",\n",
    "                \"3123D64\",\n",
    "                \"3123D78\",\n",
    "                \"3123D7E\",\n",
    "                \"3124E4A\",\n",
    "            ],\n",
    "            \"domains\": [32, 38, 8, 44, 14, 50, 20, 26],\n",
    "            \"num_examples_per_domain_per_label\": 2000,\n",
    "            \"pickle_path\": \"/mnt/wd500GB/CSC500/csc500-main/datasets/oracle.Run1_framed_2000Examples_stratified_ds.2022A.pkl\",\n",
    "            \"source_or_target_dataset\": \"target\",\n",
    "            \"x_transforms\": [\"take_200\", \"resample_20Msps_to_25Msps\"],\n",
    "            \"episode_transforms\": [],\n",
    "            \"domain_prefix\": \"ORACLE.run1_\",\n",
    "        },\n",
    "    ],\n",
    "    \"seed\": 154325,\n",
    "    \"dataset_seed\": 154325,\n",
    "}\n"
   ]
  },
  {
   "cell_type": "code",
   "execution_count": 5,
   "id": "8fa1cc33",
   "metadata": {
    "execution": {
     "iopub.execute_input": "2022-03-18T22:27:09.602680Z",
     "iopub.status.busy": "2022-03-18T22:27:09.602420Z",
     "iopub.status.idle": "2022-03-18T22:27:09.614284Z",
     "shell.execute_reply": "2022-03-18T22:27:09.613864Z"
    },
    "papermill": {
     "duration": 0.027744,
     "end_time": "2022-03-18T22:27:09.614385",
     "exception": false,
     "start_time": "2022-03-18T22:27:09.586641",
     "status": "completed"
    },
    "tags": []
   },
   "outputs": [],
   "source": [
    "# Set this to True if you want to run this template directly\n",
    "STANDALONE = False\n",
    "if STANDALONE:\n",
    "    print(\"parameters not injected, running with standalone_parameters\")\n",
    "    parameters = standalone_parameters\n",
    "\n",
    "if not 'parameters' in locals() and not 'parameters' in globals():\n",
    "    raise Exception(\"Parameter injection failed\")\n",
    "\n",
    "#Use an easy dict for all the parameters\n",
    "p = EasyDict(parameters)\n",
    "\n",
    "if \"x_shape\" not in p:\n",
    "    p.x_shape = [2,256] # Default to this if we dont supply x_shape\n",
    "\n",
    "\n",
    "supplied_keys = set(p.keys())\n",
    "\n",
    "if  supplied_keys != required_parameters:\n",
    "    print(\"Parameters are incorrect\")\n",
    "    if len(supplied_keys - required_parameters)>0: print(\"Shouldn't have:\", str(supplied_keys - required_parameters))\n",
    "    if len(required_parameters - supplied_keys)>0: print(\"Need to have:\", str(required_parameters - supplied_keys))\n",
    "    raise RuntimeError(\"Parameters are incorrect\")"
   ]
  },
  {
   "cell_type": "code",
   "execution_count": 6,
   "id": "3a028d58",
   "metadata": {
    "execution": {
     "iopub.execute_input": "2022-03-18T22:27:09.649322Z",
     "iopub.status.busy": "2022-03-18T22:27:09.648697Z",
     "iopub.status.idle": "2022-03-18T22:27:09.664199Z",
     "shell.execute_reply": "2022-03-18T22:27:09.663778Z"
    },
    "papermill": {
     "duration": 0.031233,
     "end_time": "2022-03-18T22:27:09.664301",
     "exception": false,
     "start_time": "2022-03-18T22:27:09.633068",
     "status": "completed"
    },
    "tags": []
   },
   "outputs": [],
   "source": [
    "###################################\n",
    "# Set the RNGs and make it all deterministic\n",
    "###################################\n",
    "np.random.seed(p.seed)\n",
    "random.seed(p.seed)\n",
    "torch.manual_seed(p.seed)\n",
    "\n",
    "torch.use_deterministic_algorithms(True) "
   ]
  },
  {
   "cell_type": "code",
   "execution_count": 7,
   "id": "b691acf6",
   "metadata": {
    "execution": {
     "iopub.execute_input": "2022-03-18T22:27:09.699140Z",
     "iopub.status.busy": "2022-03-18T22:27:09.698896Z",
     "iopub.status.idle": "2022-03-18T22:27:09.714388Z",
     "shell.execute_reply": "2022-03-18T22:27:09.713912Z"
    },
    "papermill": {
     "duration": 0.030979,
     "end_time": "2022-03-18T22:27:09.714489",
     "exception": false,
     "start_time": "2022-03-18T22:27:09.683510",
     "status": "completed"
    },
    "tags": []
   },
   "outputs": [],
   "source": [
    "###########################################\n",
    "# The stratified datasets honor this\n",
    "###########################################\n",
    "torch.set_default_dtype(eval(p.torch_default_dtype))"
   ]
  },
  {
   "cell_type": "code",
   "execution_count": 8,
   "id": "b5fba671",
   "metadata": {
    "execution": {
     "iopub.execute_input": "2022-03-18T22:27:09.745167Z",
     "iopub.status.busy": "2022-03-18T22:27:09.744921Z",
     "iopub.status.idle": "2022-03-18T22:27:09.777321Z",
     "shell.execute_reply": "2022-03-18T22:27:09.776878Z"
    },
    "papermill": {
     "duration": 0.047085,
     "end_time": "2022-03-18T22:27:09.777432",
     "exception": false,
     "start_time": "2022-03-18T22:27:09.730347",
     "status": "completed"
    },
    "tags": []
   },
   "outputs": [],
   "source": [
    "###################################\n",
    "# Build the network(s)\n",
    "# Note: It's critical to do this AFTER setting the RNG\n",
    "###################################\n",
    "x_net = build_sequential(p.x_net)"
   ]
  },
  {
   "cell_type": "code",
   "execution_count": 9,
   "id": "5d7e61cc",
   "metadata": {
    "execution": {
     "iopub.execute_input": "2022-03-18T22:27:09.814306Z",
     "iopub.status.busy": "2022-03-18T22:27:09.814064Z",
     "iopub.status.idle": "2022-03-18T22:27:09.830061Z",
     "shell.execute_reply": "2022-03-18T22:27:09.829643Z"
    },
    "papermill": {
     "duration": 0.031587,
     "end_time": "2022-03-18T22:27:09.830161",
     "exception": false,
     "start_time": "2022-03-18T22:27:09.798574",
     "status": "completed"
    },
    "tags": []
   },
   "outputs": [],
   "source": [
    "start_time_secs = time.time()"
   ]
  },
  {
   "cell_type": "code",
   "execution_count": 10,
   "id": "c6b67dfd",
   "metadata": {
    "execution": {
     "iopub.execute_input": "2022-03-18T22:27:09.865025Z",
     "iopub.status.busy": "2022-03-18T22:27:09.863931Z",
     "iopub.status.idle": "2022-03-18T22:27:09.878848Z",
     "shell.execute_reply": "2022-03-18T22:27:09.878428Z"
    },
    "papermill": {
     "duration": 0.030681,
     "end_time": "2022-03-18T22:27:09.878945",
     "exception": false,
     "start_time": "2022-03-18T22:27:09.848264",
     "status": "completed"
    },
    "tags": []
   },
   "outputs": [],
   "source": [
    "p.domains_source = []\n",
    "p.domains_target = []\n",
    "\n",
    "\n",
    "train_original_source = []\n",
    "val_original_source   = []\n",
    "test_original_source  = []\n",
    "\n",
    "train_original_target = []\n",
    "val_original_target   = []\n",
    "test_original_target  = []"
   ]
  },
  {
   "cell_type": "code",
   "execution_count": 11,
   "id": "e3d9c3d3",
   "metadata": {
    "execution": {
     "iopub.execute_input": "2022-03-18T22:27:09.912571Z",
     "iopub.status.busy": "2022-03-18T22:27:09.911695Z",
     "iopub.status.idle": "2022-03-18T22:27:09.925492Z",
     "shell.execute_reply": "2022-03-18T22:27:09.925013Z"
    },
    "papermill": {
     "duration": 0.028549,
     "end_time": "2022-03-18T22:27:09.925592",
     "exception": false,
     "start_time": "2022-03-18T22:27:09.897043",
     "status": "completed"
    },
    "tags": []
   },
   "outputs": [],
   "source": [
    "# global_x_transform_func = lambda x: normalize(x.to(torch.get_default_dtype()), \"unit_power\") # unit_power, unit_mag\n",
    "# global_x_transform_func = lambda x: normalize(x, \"unit_power\") # unit_power, unit_mag"
   ]
  },
  {
   "cell_type": "code",
   "execution_count": 12,
   "id": "acb78fd2",
   "metadata": {
    "execution": {
     "iopub.execute_input": "2022-03-18T22:27:09.970415Z",
     "iopub.status.busy": "2022-03-18T22:27:09.968206Z",
     "iopub.status.idle": "2022-03-18T22:27:09.977834Z",
     "shell.execute_reply": "2022-03-18T22:27:09.977416Z"
    },
    "papermill": {
     "duration": 0.03398,
     "end_time": "2022-03-18T22:27:09.977936",
     "exception": false,
     "start_time": "2022-03-18T22:27:09.943956",
     "status": "completed"
    },
    "tags": []
   },
   "outputs": [],
   "source": [
    "def add_dataset(\n",
    "    labels,\n",
    "    domains,\n",
    "    pickle_path,\n",
    "    x_transforms,\n",
    "    episode_transforms,\n",
    "    domain_prefix,\n",
    "    num_examples_per_domain_per_label,\n",
    "    source_or_target_dataset:str,\n",
    "    iterator_seed=p.seed,\n",
    "    dataset_seed=p.dataset_seed,\n",
    "    n_shot=p.n_shot,\n",
    "    n_way=p.n_way,\n",
    "    n_query=p.n_query,\n",
    "    train_val_test_k_factors=(p.train_k_factor,p.val_k_factor,p.test_k_factor),\n",
    "):\n",
    "   \n",
    "    if x_transforms == []: x_transform = None\n",
    "    else: x_transform = get_chained_transform(x_transforms)\n",
    "    \n",
    "    if episode_transforms == []: episode_transform = None\n",
    "    else: raise Exception(\"episode_transforms not implemented\")\n",
    "    \n",
    "    episode_transform = lambda tup, _prefix=domain_prefix: (_prefix + str(tup[0]), tup[1])\n",
    "\n",
    "\n",
    "    eaf = Episodic_Accessor_Factory(\n",
    "        labels=labels,\n",
    "        domains=domains,\n",
    "        num_examples_per_domain_per_label=num_examples_per_domain_per_label,\n",
    "        iterator_seed=iterator_seed,\n",
    "        dataset_seed=dataset_seed,\n",
    "        n_shot=n_shot,\n",
    "        n_way=n_way,\n",
    "        n_query=n_query,\n",
    "        train_val_test_k_factors=train_val_test_k_factors,\n",
    "        pickle_path=pickle_path,\n",
    "        x_transform_func=x_transform,\n",
    "    )\n",
    "\n",
    "    train, val, test = eaf.get_train(), eaf.get_val(), eaf.get_test()\n",
    "    train = Lazy_Iterable_Wrapper(train, episode_transform)\n",
    "    val = Lazy_Iterable_Wrapper(val, episode_transform)\n",
    "    test = Lazy_Iterable_Wrapper(test, episode_transform)\n",
    "\n",
    "    if source_or_target_dataset==\"source\":\n",
    "        train_original_source.append(train)\n",
    "        val_original_source.append(val)\n",
    "        test_original_source.append(test)\n",
    "\n",
    "        p.domains_source.extend(\n",
    "            [domain_prefix + str(u) for u in domains]\n",
    "        )\n",
    "    elif source_or_target_dataset==\"target\":\n",
    "        train_original_target.append(train)\n",
    "        val_original_target.append(val)\n",
    "        test_original_target.append(test)\n",
    "        p.domains_target.extend(\n",
    "            [domain_prefix + str(u) for u in domains]\n",
    "        )\n",
    "    else:\n",
    "        raise Exception(f\"invalid source_or_target_dataset: {source_or_target_dataset}\")\n",
    "    "
   ]
  },
  {
   "cell_type": "code",
   "execution_count": 13,
   "id": "fe266617",
   "metadata": {
    "execution": {
     "iopub.execute_input": "2022-03-18T22:27:10.012124Z",
     "iopub.status.busy": "2022-03-18T22:27:10.011881Z",
     "iopub.status.idle": "2022-03-18T22:27:24.976918Z",
     "shell.execute_reply": "2022-03-18T22:27:24.977140Z"
    },
    "papermill": {
     "duration": 14.9807,
     "end_time": "2022-03-18T22:27:24.977221",
     "exception": false,
     "start_time": "2022-03-18T22:27:09.996521",
     "status": "completed"
    },
    "tags": []
   },
   "outputs": [],
   "source": [
    "for ds in p.datasets:\n",
    "    add_dataset(**ds)"
   ]
  },
  {
   "cell_type": "code",
   "execution_count": 14,
   "id": "b90d65ac",
   "metadata": {
    "execution": {
     "iopub.execute_input": "2022-03-18T22:27:25.008541Z",
     "iopub.status.busy": "2022-03-18T22:27:25.008050Z",
     "iopub.status.idle": "2022-03-18T22:27:25.022389Z",
     "shell.execute_reply": "2022-03-18T22:27:25.022775Z"
    },
    "papermill": {
     "duration": 0.031202,
     "end_time": "2022-03-18T22:27:25.022901",
     "exception": false,
     "start_time": "2022-03-18T22:27:24.991699",
     "status": "completed"
    },
    "tags": []
   },
   "outputs": [],
   "source": [
    "# from steves_utils.CORES.utils import (\n",
    "#     ALL_NODES,\n",
    "#     ALL_NODES_MINIMUM_1000_EXAMPLES,\n",
    "#     ALL_DAYS\n",
    "# )\n",
    "\n",
    "# add_dataset(\n",
    "#     labels=ALL_NODES,\n",
    "#     domains = ALL_DAYS,\n",
    "#     num_examples_per_domain_per_label=100,\n",
    "#     pickle_path=os.path.join(get_datasets_base_path(), \"cores.stratified_ds.2022A.pkl\"),\n",
    "#     source_or_target_dataset=\"target\",\n",
    "#     x_transform_func=global_x_transform_func,\n",
    "#     domain_modifier=lambda u: f\"cores_{u}\"\n",
    "# )"
   ]
  },
  {
   "cell_type": "code",
   "execution_count": 15,
   "id": "76db484d",
   "metadata": {
    "execution": {
     "iopub.execute_input": "2022-03-18T22:27:25.056826Z",
     "iopub.status.busy": "2022-03-18T22:27:25.056571Z",
     "iopub.status.idle": "2022-03-18T22:27:25.070752Z",
     "shell.execute_reply": "2022-03-18T22:27:25.071129Z"
    },
    "papermill": {
     "duration": 0.030121,
     "end_time": "2022-03-18T22:27:25.071276",
     "exception": false,
     "start_time": "2022-03-18T22:27:25.041155",
     "status": "completed"
    },
    "tags": []
   },
   "outputs": [],
   "source": [
    "# from steves_utils.ORACLE.utils_v2 import (\n",
    "#     ALL_DISTANCES_FEET,\n",
    "#     ALL_RUNS,\n",
    "#     ALL_SERIAL_NUMBERS,\n",
    "# )\n",
    "\n",
    "\n",
    "# add_dataset(\n",
    "#     labels=ALL_SERIAL_NUMBERS,\n",
    "#     domains = list(set(ALL_DISTANCES_FEET) - {2,62}),\n",
    "#     num_examples_per_domain_per_label=100,\n",
    "#     pickle_path=os.path.join(get_datasets_base_path(), \"oracle.Run2_framed_2000Examples_stratified_ds.2022A.pkl\"),\n",
    "#     source_or_target_dataset=\"source\",\n",
    "#     x_transform_func=global_x_transform_func,\n",
    "#     domain_modifier=lambda u: f\"oracle1_{u}\"\n",
    "# )\n"
   ]
  },
  {
   "cell_type": "code",
   "execution_count": 16,
   "id": "97dea9d2",
   "metadata": {
    "execution": {
     "iopub.execute_input": "2022-03-18T22:27:25.106361Z",
     "iopub.status.busy": "2022-03-18T22:27:25.106110Z",
     "iopub.status.idle": "2022-03-18T22:27:25.121630Z",
     "shell.execute_reply": "2022-03-18T22:27:25.122026Z"
    },
    "papermill": {
     "duration": 0.031082,
     "end_time": "2022-03-18T22:27:25.122144",
     "exception": false,
     "start_time": "2022-03-18T22:27:25.091062",
     "status": "completed"
    },
    "tags": []
   },
   "outputs": [],
   "source": [
    "# from steves_utils.ORACLE.utils_v2 import (\n",
    "#     ALL_DISTANCES_FEET,\n",
    "#     ALL_RUNS,\n",
    "#     ALL_SERIAL_NUMBERS,\n",
    "# )\n",
    "\n",
    "\n",
    "# add_dataset(\n",
    "#     labels=ALL_SERIAL_NUMBERS,\n",
    "#     domains = list(set(ALL_DISTANCES_FEET) - {2,62,56}),\n",
    "#     num_examples_per_domain_per_label=100,\n",
    "#     pickle_path=os.path.join(get_datasets_base_path(), \"oracle.Run2_framed_2000Examples_stratified_ds.2022A.pkl\"),\n",
    "#     source_or_target_dataset=\"source\",\n",
    "#     x_transform_func=global_x_transform_func,\n",
    "#     domain_modifier=lambda u: f\"oracle2_{u}\"\n",
    "# )"
   ]
  },
  {
   "cell_type": "code",
   "execution_count": 17,
   "id": "6f289866",
   "metadata": {
    "execution": {
     "iopub.execute_input": "2022-03-18T22:27:25.156041Z",
     "iopub.status.busy": "2022-03-18T22:27:25.155790Z",
     "iopub.status.idle": "2022-03-18T22:27:25.170342Z",
     "shell.execute_reply": "2022-03-18T22:27:25.170673Z"
    },
    "papermill": {
     "duration": 0.029974,
     "end_time": "2022-03-18T22:27:25.170793",
     "exception": false,
     "start_time": "2022-03-18T22:27:25.140819",
     "status": "completed"
    },
    "tags": []
   },
   "outputs": [],
   "source": [
    "# add_dataset(\n",
    "#     labels=list(range(19)),\n",
    "#     domains = [0,1,2],\n",
    "#     num_examples_per_domain_per_label=100,\n",
    "#     pickle_path=os.path.join(get_datasets_base_path(), \"metehan.stratified_ds.2022A.pkl\"),\n",
    "#     source_or_target_dataset=\"target\",\n",
    "#     x_transform_func=global_x_transform_func,\n",
    "#     domain_modifier=lambda u: f\"met_{u}\"\n",
    "# )"
   ]
  },
  {
   "cell_type": "code",
   "execution_count": 18,
   "id": "86a863c3",
   "metadata": {
    "execution": {
     "iopub.execute_input": "2022-03-18T22:27:25.205013Z",
     "iopub.status.busy": "2022-03-18T22:27:25.204761Z",
     "iopub.status.idle": "2022-03-18T22:27:25.218980Z",
     "shell.execute_reply": "2022-03-18T22:27:25.219381Z"
    },
    "papermill": {
     "duration": 0.030419,
     "end_time": "2022-03-18T22:27:25.219505",
     "exception": false,
     "start_time": "2022-03-18T22:27:25.189086",
     "status": "completed"
    },
    "tags": []
   },
   "outputs": [],
   "source": [
    "# # from steves_utils.wisig.utils import (\n",
    "# #     ALL_NODES_MINIMUM_100_EXAMPLES,\n",
    "# #     ALL_NODES_MINIMUM_500_EXAMPLES,\n",
    "# #     ALL_NODES_MINIMUM_1000_EXAMPLES,\n",
    "# #     ALL_DAYS\n",
    "# # )\n",
    "\n",
    "# import steves_utils.wisig.utils as wisig\n",
    "\n",
    "\n",
    "# add_dataset(\n",
    "#     labels=wisig.ALL_NODES_MINIMUM_100_EXAMPLES,\n",
    "#     domains = wisig.ALL_DAYS,\n",
    "#     num_examples_per_domain_per_label=100,\n",
    "#     pickle_path=os.path.join(get_datasets_base_path(), \"wisig.node3-19.stratified_ds.2022A.pkl\"),\n",
    "#     source_or_target_dataset=\"target\",\n",
    "#     x_transform_func=global_x_transform_func,\n",
    "#     domain_modifier=lambda u: f\"wisig_{u}\"\n",
    "# )"
   ]
  },
  {
   "cell_type": "code",
   "execution_count": 19,
   "id": "fd5442bc",
   "metadata": {
    "execution": {
     "iopub.execute_input": "2022-03-18T22:27:25.256792Z",
     "iopub.status.busy": "2022-03-18T22:27:25.256529Z",
     "iopub.status.idle": "2022-03-18T22:27:25.270653Z",
     "shell.execute_reply": "2022-03-18T22:27:25.271031Z"
    },
    "papermill": {
     "duration": 0.031577,
     "end_time": "2022-03-18T22:27:25.271156",
     "exception": false,
     "start_time": "2022-03-18T22:27:25.239579",
     "status": "completed"
    },
    "tags": []
   },
   "outputs": [],
   "source": [
    "###################################\n",
    "# Build the dataset\n",
    "###################################\n",
    "train_original_source = Iterable_Aggregator(train_original_source, p.seed)\n",
    "val_original_source = Iterable_Aggregator(val_original_source, p.seed)\n",
    "test_original_source = Iterable_Aggregator(test_original_source, p.seed)\n",
    "\n",
    "\n",
    "train_original_target = Iterable_Aggregator(train_original_target, p.seed)\n",
    "val_original_target = Iterable_Aggregator(val_original_target, p.seed)\n",
    "test_original_target = Iterable_Aggregator(test_original_target, p.seed)\n",
    "\n",
    "# For CNN We only use X and Y. And we only train on the source.\n",
    "# Properly form the data using a transform lambda and Lazy_Iterable_Wrapper. Finally wrap them in a dataloader\n",
    "\n",
    "transform_lambda = lambda ex: ex[1] # Original is (<domain>, <episode>) so we strip down to episode only\n",
    "\n",
    "train_processed_source = Lazy_Iterable_Wrapper(train_original_source, transform_lambda)\n",
    "val_processed_source   = Lazy_Iterable_Wrapper(val_original_source, transform_lambda)\n",
    "test_processed_source  = Lazy_Iterable_Wrapper(test_original_source, transform_lambda)\n",
    "\n",
    "train_processed_target = Lazy_Iterable_Wrapper(train_original_target, transform_lambda)\n",
    "val_processed_target   = Lazy_Iterable_Wrapper(val_original_target, transform_lambda)\n",
    "test_processed_target  = Lazy_Iterable_Wrapper(test_original_target, transform_lambda)\n",
    "\n",
    "datasets = EasyDict({\n",
    "    \"source\": {\n",
    "        \"original\": {\"train\":train_original_source, \"val\":val_original_source, \"test\":test_original_source},\n",
    "        \"processed\": {\"train\":train_processed_source, \"val\":val_processed_source, \"test\":test_processed_source}\n",
    "    },\n",
    "    \"target\": {\n",
    "        \"original\": {\"train\":train_original_target, \"val\":val_original_target, \"test\":test_original_target},\n",
    "        \"processed\": {\"train\":train_processed_target, \"val\":val_processed_target, \"test\":test_processed_target}\n",
    "    },\n",
    "})"
   ]
  },
  {
   "cell_type": "code",
   "execution_count": 20,
   "id": "5b3c01fc",
   "metadata": {
    "execution": {
     "iopub.execute_input": "2022-03-18T22:27:25.307747Z",
     "iopub.status.busy": "2022-03-18T22:27:25.306263Z",
     "iopub.status.idle": "2022-03-18T22:27:30.162969Z",
     "shell.execute_reply": "2022-03-18T22:27:30.163483Z"
    },
    "papermill": {
     "duration": 4.872431,
     "end_time": "2022-03-18T22:27:30.163615",
     "exception": false,
     "start_time": "2022-03-18T22:27:25.291184",
     "status": "completed"
    },
    "tags": []
   },
   "outputs": [
    {
     "name": "stdout",
     "output_type": "stream",
     "text": [
      "{'W_A_3', 'W_A_2', 'C_A_3', 'C_A_1', 'C_A_5', 'W_A_1', 'C_A_2', 'C_A_4', 'W_A_4'}\n"
     ]
    },
    {
     "name": "stdout",
     "output_type": "stream",
     "text": [
      "{'ORACLE.run1_38', 'ORACLE.run1_8', 'ORACLE.run1_26', 'ORACLE.run1_14', 'ORACLE.run1_20', 'ORACLE.run1_44', 'ORACLE.run1_50', 'ORACLE.run1_32'}\n"
     ]
    },
    {
     "name": "stdout",
     "output_type": "stream",
     "text": [
      "tensor([[[ 0.0017, -0.0053, -0.0090,  ...,  0.0042, -0.0083, -0.0167],\n",
      "         [ 0.0013,  0.0048, -0.0084,  ...,  0.0149,  0.0134, -0.0050]],\n",
      "\n",
      "        [[-0.0008, -0.0143, -0.0004,  ...,  0.0062, -0.0113,  0.0038],\n",
      "         [ 0.0116,  0.0005, -0.0131,  ...,  0.0168,  0.0080, -0.0050]],\n",
      "\n",
      "        [[-0.0015,  0.0022,  0.0110,  ..., -0.0060,  0.0027,  0.0182],\n",
      "         [-0.0004, -0.0055,  0.0040,  ..., -0.0127, -0.0161, -0.0008]],\n",
      "\n",
      "        ...,\n",
      "\n",
      "        [[ 0.0020, -0.0006, -0.0028,  ..., -0.0044, -0.0065, -0.0049],\n",
      "         [ 0.0011, -0.0006, -0.0015,  ..., -0.0052, -0.0045, -0.0017]],\n",
      "\n",
      "        [[ 0.0045,  0.0023,  0.0051,  ...,  0.0037, -0.0002, -0.0103],\n",
      "         [ 0.0005, -0.0028, -0.0039,  ...,  0.0023, -0.0053, -0.0056]],\n",
      "\n",
      "        [[ 0.0044,  0.0045,  0.0016,  ..., -0.0002,  0.0041, -0.0036],\n",
      "         [ 0.0054, -0.0013, -0.0042,  ...,  0.0047,  0.0003, -0.0045]]])\n"
     ]
    }
   ],
   "source": [
    "from steves_utils.transforms import get_average_magnitude, get_average_power\n",
    "\n",
    "print(set([u for u,_ in val_original_source]))\n",
    "print(set([u for u,_ in val_original_target]))\n",
    "\n",
    "s_x, s_y, q_x, q_y, _ = next(iter(train_processed_source))\n",
    "print(s_x)\n",
    "\n",
    "# for ds in [\n",
    "#     train_processed_source,\n",
    "#     val_processed_source,\n",
    "#     test_processed_source,\n",
    "#     train_processed_target,\n",
    "#     val_processed_target,\n",
    "#     test_processed_target\n",
    "# ]:\n",
    "#     for s_x, s_y, q_x, q_y, _ in ds:\n",
    "#         for X in (s_x, q_x):\n",
    "#             for x in X:\n",
    "#                 assert np.isclose(get_average_magnitude(x.numpy()), 1.0)\n",
    "#                 assert np.isclose(get_average_power(x.numpy()), 1.0)\n",
    "                "
   ]
  },
  {
   "cell_type": "code",
   "execution_count": 21,
   "id": "bbdacba1",
   "metadata": {
    "execution": {
     "iopub.execute_input": "2022-03-18T22:27:30.204592Z",
     "iopub.status.busy": "2022-03-18T22:27:30.204085Z",
     "iopub.status.idle": "2022-03-18T22:27:30.250642Z",
     "shell.execute_reply": "2022-03-18T22:27:30.251049Z"
    },
    "papermill": {
     "duration": 0.064233,
     "end_time": "2022-03-18T22:27:30.251179",
     "exception": false,
     "start_time": "2022-03-18T22:27:30.186946",
     "status": "completed"
    },
    "tags": []
   },
   "outputs": [
    {
     "name": "stdout",
     "output_type": "stream",
     "text": [
      "(2, 200)\n"
     ]
    }
   ],
   "source": [
    "###################################\n",
    "# Build the model\n",
    "###################################\n",
    "# easfsl only wants a tuple for the shape\n",
    "model = Steves_Prototypical_Network(x_net, device=p.device, x_shape=tuple(p.x_shape))\n",
    "optimizer = Adam(params=model.parameters(), lr=p.lr)"
   ]
  },
  {
   "cell_type": "code",
   "execution_count": 22,
   "id": "22b39ac5",
   "metadata": {
    "execution": {
     "iopub.execute_input": "2022-03-18T22:27:30.286375Z",
     "iopub.status.busy": "2022-03-18T22:27:30.286095Z",
     "iopub.status.idle": "2022-03-18T22:40:27.230172Z",
     "shell.execute_reply": "2022-03-18T22:40:27.229780Z"
    },
    "papermill": {
     "duration": 776.961823,
     "end_time": "2022-03-18T22:40:27.230275",
     "exception": false,
     "start_time": "2022-03-18T22:27:30.268452",
     "status": "completed"
    },
    "tags": []
   },
   "outputs": [
    {
     "name": "stdout",
     "output_type": "stream",
     "text": [
      "epoch: 1, [batch: 1 / 2083], examples_per_second: 118.7811, train_label_loss: 1.7054, \n"
     ]
    },
    {
     "name": "stdout",
     "output_type": "stream",
     "text": [
      "epoch: 1, [batch: 209 / 2083], examples_per_second: 3597.8740, train_label_loss: 0.1098, \n"
     ]
    },
    {
     "name": "stdout",
     "output_type": "stream",
     "text": [
      "epoch: 1, [batch: 417 / 2083], examples_per_second: 3610.6935, train_label_loss: 0.4239, \n"
     ]
    },
    {
     "name": "stdout",
     "output_type": "stream",
     "text": [
      "epoch: 1, [batch: 625 / 2083], examples_per_second: 3656.6999, train_label_loss: 0.2345, \n"
     ]
    },
    {
     "name": "stdout",
     "output_type": "stream",
     "text": [
      "epoch: 1, [batch: 833 / 2083], examples_per_second: 3663.6460, train_label_loss: 0.0159, \n"
     ]
    },
    {
     "name": "stdout",
     "output_type": "stream",
     "text": [
      "epoch: 1, [batch: 1042 / 2083], examples_per_second: 3647.7344, train_label_loss: 0.1525, \n"
     ]
    },
    {
     "name": "stdout",
     "output_type": "stream",
     "text": [
      "epoch: 1, [batch: 1250 / 2083], examples_per_second: 3661.9936, train_label_loss: 0.0314, \n"
     ]
    },
    {
     "name": "stdout",
     "output_type": "stream",
     "text": [
      "epoch: 1, [batch: 1458 / 2083], examples_per_second: 3662.5951, train_label_loss: 0.6486, \n"
     ]
    },
    {
     "name": "stdout",
     "output_type": "stream",
     "text": [
      "epoch: 1, [batch: 1666 / 2083], examples_per_second: 3600.7121, train_label_loss: 0.2754, \n"
     ]
    },
    {
     "name": "stdout",
     "output_type": "stream",
     "text": [
      "epoch: 1, [batch: 1874 / 2083], examples_per_second: 3657.2264, train_label_loss: 0.2476, \n"
     ]
    },
    {
     "name": "stdout",
     "output_type": "stream",
     "text": [
      "=============================================================\n",
      "epoch: 1, source_val_acc_label: 0.9549, target_val_acc_label: 0.5558, source_val_label_loss: 0.2189, target_val_label_loss: 2.5132, \n",
      "=============================================================\n"
     ]
    },
    {
     "name": "stdout",
     "output_type": "stream",
     "text": [
      "New best\n"
     ]
    },
    {
     "name": "stdout",
     "output_type": "stream",
     "text": [
      "epoch: 2, [batch: 1 / 2080], examples_per_second: 11.0733, train_label_loss: 0.2467, \n"
     ]
    },
    {
     "name": "stdout",
     "output_type": "stream",
     "text": [
      "epoch: 2, [batch: 208 / 2080], examples_per_second: 3636.3382, train_label_loss: 0.0080, \n"
     ]
    },
    {
     "name": "stdout",
     "output_type": "stream",
     "text": [
      "epoch: 2, [batch: 416 / 2080], examples_per_second: 3667.6825, train_label_loss: 0.2869, \n"
     ]
    },
    {
     "name": "stdout",
     "output_type": "stream",
     "text": [
      "epoch: 2, [batch: 624 / 2080], examples_per_second: 3638.2697, train_label_loss: 0.0580, \n"
     ]
    },
    {
     "name": "stdout",
     "output_type": "stream",
     "text": [
      "epoch: 2, [batch: 832 / 2080], examples_per_second: 3672.6581, train_label_loss: 0.1169, \n"
     ]
    },
    {
     "name": "stdout",
     "output_type": "stream",
     "text": [
      "epoch: 2, [batch: 1040 / 2080], examples_per_second: 3654.3606, train_label_loss: 0.5260, \n"
     ]
    },
    {
     "name": "stdout",
     "output_type": "stream",
     "text": [
      "epoch: 2, [batch: 1248 / 2080], examples_per_second: 3662.2344, train_label_loss: 0.0128, \n"
     ]
    },
    {
     "name": "stdout",
     "output_type": "stream",
     "text": [
      "epoch: 2, [batch: 1456 / 2080], examples_per_second: 3685.5902, train_label_loss: 0.4014, \n"
     ]
    },
    {
     "name": "stdout",
     "output_type": "stream",
     "text": [
      "epoch: 2, [batch: 1664 / 2080], examples_per_second: 3614.2653, train_label_loss: 0.1661, \n"
     ]
    },
    {
     "name": "stdout",
     "output_type": "stream",
     "text": [
      "epoch: 2, [batch: 1872 / 2080], examples_per_second: 3661.4716, train_label_loss: 0.2644, \n"
     ]
    },
    {
     "name": "stdout",
     "output_type": "stream",
     "text": [
      "=============================================================\n",
      "epoch: 2, source_val_acc_label: 0.9637, target_val_acc_label: 0.5683, source_val_label_loss: 0.1539, target_val_label_loss: 2.3969, \n",
      "=============================================================\n"
     ]
    },
    {
     "name": "stdout",
     "output_type": "stream",
     "text": [
      "New best\n"
     ]
    },
    {
     "name": "stdout",
     "output_type": "stream",
     "text": [
      "epoch: 3, [batch: 1 / 2076], examples_per_second: 11.1773, train_label_loss: 0.1271, \n"
     ]
    },
    {
     "name": "stdout",
     "output_type": "stream",
     "text": [
      "epoch: 3, [batch: 208 / 2076], examples_per_second: 3641.5950, train_label_loss: 0.0028, \n"
     ]
    },
    {
     "name": "stdout",
     "output_type": "stream",
     "text": [
      "epoch: 3, [batch: 416 / 2076], examples_per_second: 3658.7121, train_label_loss: 0.0158, \n"
     ]
    },
    {
     "name": "stdout",
     "output_type": "stream",
     "text": [
      "epoch: 3, [batch: 623 / 2076], examples_per_second: 3632.2120, train_label_loss: 0.0342, \n"
     ]
    },
    {
     "name": "stdout",
     "output_type": "stream",
     "text": [
      "epoch: 3, [batch: 831 / 2076], examples_per_second: 3661.6785, train_label_loss: 0.1233, \n"
     ]
    },
    {
     "name": "stdout",
     "output_type": "stream",
     "text": [
      "epoch: 3, [batch: 1038 / 2076], examples_per_second: 3637.8927, train_label_loss: 0.3163, \n"
     ]
    },
    {
     "name": "stdout",
     "output_type": "stream",
     "text": [
      "epoch: 3, [batch: 1246 / 2076], examples_per_second: 3661.0322, train_label_loss: 0.1906, \n"
     ]
    },
    {
     "name": "stdout",
     "output_type": "stream",
     "text": [
      "epoch: 3, [batch: 1453 / 2076], examples_per_second: 3677.9771, train_label_loss: 0.1491, \n"
     ]
    },
    {
     "name": "stdout",
     "output_type": "stream",
     "text": [
      "epoch: 3, [batch: 1661 / 2076], examples_per_second: 3608.3011, train_label_loss: 0.3141, \n"
     ]
    },
    {
     "name": "stdout",
     "output_type": "stream",
     "text": [
      "epoch: 3, [batch: 1868 / 2076], examples_per_second: 3662.8517, train_label_loss: 0.2622, \n"
     ]
    },
    {
     "name": "stdout",
     "output_type": "stream",
     "text": [
      "=============================================================\n",
      "epoch: 3, source_val_acc_label: 0.9718, target_val_acc_label: 0.5505, source_val_label_loss: 0.1273, target_val_label_loss: 2.3367, \n",
      "=============================================================\n"
     ]
    },
    {
     "name": "stdout",
     "output_type": "stream",
     "text": [
      "New best\n"
     ]
    },
    {
     "name": "stdout",
     "output_type": "stream",
     "text": [
      "epoch: 4, [batch: 1 / 2077], examples_per_second: 11.0662, train_label_loss: 0.0162, \n"
     ]
    },
    {
     "name": "stdout",
     "output_type": "stream",
     "text": [
      "epoch: 4, [batch: 208 / 2077], examples_per_second: 3645.8723, train_label_loss: 0.0035, \n"
     ]
    },
    {
     "name": "stdout",
     "output_type": "stream",
     "text": [
      "epoch: 4, [batch: 416 / 2077], examples_per_second: 3642.7103, train_label_loss: 0.0114, \n"
     ]
    },
    {
     "name": "stdout",
     "output_type": "stream",
     "text": [
      "epoch: 4, [batch: 623 / 2077], examples_per_second: 3640.0892, train_label_loss: 0.0142, \n"
     ]
    },
    {
     "name": "stdout",
     "output_type": "stream",
     "text": [
      "epoch: 4, [batch: 831 / 2077], examples_per_second: 3650.1049, train_label_loss: 0.0761, \n"
     ]
    },
    {
     "name": "stdout",
     "output_type": "stream",
     "text": [
      "epoch: 4, [batch: 1039 / 2077], examples_per_second: 3650.6573, train_label_loss: 0.0115, \n"
     ]
    },
    {
     "name": "stdout",
     "output_type": "stream",
     "text": [
      "epoch: 4, [batch: 1246 / 2077], examples_per_second: 3630.3629, train_label_loss: 0.1038, \n"
     ]
    },
    {
     "name": "stdout",
     "output_type": "stream",
     "text": [
      "epoch: 4, [batch: 1454 / 2077], examples_per_second: 3646.5789, train_label_loss: 0.0174, \n"
     ]
    },
    {
     "name": "stdout",
     "output_type": "stream",
     "text": [
      "epoch: 4, [batch: 1661 / 2077], examples_per_second: 3587.1299, train_label_loss: 0.0622, \n"
     ]
    },
    {
     "name": "stdout",
     "output_type": "stream",
     "text": [
      "epoch: 4, [batch: 1869 / 2077], examples_per_second: 3637.5408, train_label_loss: 0.0066, \n"
     ]
    },
    {
     "name": "stdout",
     "output_type": "stream",
     "text": [
      "=============================================================\n",
      "epoch: 4, source_val_acc_label: 0.9736, target_val_acc_label: 0.5462, source_val_label_loss: 0.1108, target_val_label_loss: 2.2256, \n",
      "=============================================================\n"
     ]
    },
    {
     "name": "stdout",
     "output_type": "stream",
     "text": [
      "New best\n"
     ]
    },
    {
     "name": "stdout",
     "output_type": "stream",
     "text": [
      "epoch: 5, [batch: 1 / 2080], examples_per_second: 11.0400, train_label_loss: 0.0122, \n"
     ]
    },
    {
     "name": "stdout",
     "output_type": "stream",
     "text": [
      "epoch: 5, [batch: 208 / 2080], examples_per_second: 3610.5892, train_label_loss: 0.1524, \n"
     ]
    },
    {
     "name": "stdout",
     "output_type": "stream",
     "text": [
      "epoch: 5, [batch: 416 / 2080], examples_per_second: 3638.7238, train_label_loss: 0.0036, \n"
     ]
    },
    {
     "name": "stdout",
     "output_type": "stream",
     "text": [
      "epoch: 5, [batch: 624 / 2080], examples_per_second: 3628.7662, train_label_loss: 0.3048, \n"
     ]
    },
    {
     "name": "stdout",
     "output_type": "stream",
     "text": [
      "epoch: 5, [batch: 832 / 2080], examples_per_second: 3631.5125, train_label_loss: 0.2166, \n"
     ]
    },
    {
     "name": "stdout",
     "output_type": "stream",
     "text": [
      "epoch: 5, [batch: 1040 / 2080], examples_per_second: 3606.7272, train_label_loss: 0.1636, \n"
     ]
    },
    {
     "name": "stdout",
     "output_type": "stream",
     "text": [
      "epoch: 5, [batch: 1248 / 2080], examples_per_second: 3624.6835, train_label_loss: 0.0105, \n"
     ]
    },
    {
     "name": "stdout",
     "output_type": "stream",
     "text": [
      "epoch: 5, [batch: 1456 / 2080], examples_per_second: 3606.8355, train_label_loss: 0.0850, \n"
     ]
    },
    {
     "name": "stdout",
     "output_type": "stream",
     "text": [
      "epoch: 5, [batch: 1664 / 2080], examples_per_second: 3633.0362, train_label_loss: 0.0631, \n"
     ]
    },
    {
     "name": "stdout",
     "output_type": "stream",
     "text": [
      "epoch: 5, [batch: 1872 / 2080], examples_per_second: 3650.7144, train_label_loss: 0.1798, \n"
     ]
    },
    {
     "name": "stdout",
     "output_type": "stream",
     "text": [
      "=============================================================\n",
      "epoch: 5, source_val_acc_label: 0.9752, target_val_acc_label: 0.5140, source_val_label_loss: 0.1090, target_val_label_loss: 2.2247, \n",
      "=============================================================\n"
     ]
    },
    {
     "name": "stdout",
     "output_type": "stream",
     "text": [
      "New best\n"
     ]
    },
    {
     "name": "stdout",
     "output_type": "stream",
     "text": [
      "epoch: 6, [batch: 1 / 2078], examples_per_second: 11.0618, train_label_loss: 0.0105, \n"
     ]
    },
    {
     "name": "stdout",
     "output_type": "stream",
     "text": [
      "epoch: 6, [batch: 208 / 2078], examples_per_second: 3629.1041, train_label_loss: 0.0323, \n"
     ]
    },
    {
     "name": "stdout",
     "output_type": "stream",
     "text": [
      "epoch: 6, [batch: 416 / 2078], examples_per_second: 3645.6360, train_label_loss: 0.0017, \n"
     ]
    },
    {
     "name": "stdout",
     "output_type": "stream",
     "text": [
      "epoch: 6, [batch: 624 / 2078], examples_per_second: 3662.4385, train_label_loss: 0.2692, \n"
     ]
    },
    {
     "name": "stdout",
     "output_type": "stream",
     "text": [
      "epoch: 6, [batch: 831 / 2078], examples_per_second: 3654.7282, train_label_loss: 0.0479, \n"
     ]
    },
    {
     "name": "stdout",
     "output_type": "stream",
     "text": [
      "epoch: 6, [batch: 1039 / 2078], examples_per_second: 3679.8563, train_label_loss: 0.0002, \n"
     ]
    },
    {
     "name": "stdout",
     "output_type": "stream",
     "text": [
      "epoch: 6, [batch: 1247 / 2078], examples_per_second: 3652.5990, train_label_loss: 0.0040, \n"
     ]
    },
    {
     "name": "stdout",
     "output_type": "stream",
     "text": [
      "epoch: 6, [batch: 1454 / 2078], examples_per_second: 3613.8845, train_label_loss: 0.0199, \n"
     ]
    },
    {
     "name": "stdout",
     "output_type": "stream",
     "text": [
      "epoch: 6, [batch: 1662 / 2078], examples_per_second: 3659.7945, train_label_loss: 0.5655, \n"
     ]
    },
    {
     "name": "stdout",
     "output_type": "stream",
     "text": [
      "epoch: 6, [batch: 1870 / 2078], examples_per_second: 3658.6609, train_label_loss: 0.0094, \n"
     ]
    },
    {
     "name": "stdout",
     "output_type": "stream",
     "text": [
      "=============================================================\n",
      "epoch: 6, source_val_acc_label: 0.9788, target_val_acc_label: 0.4493, source_val_label_loss: 0.1012, target_val_label_loss: 2.1821, \n",
      "=============================================================\n"
     ]
    },
    {
     "name": "stdout",
     "output_type": "stream",
     "text": [
      "New best\n"
     ]
    },
    {
     "name": "stdout",
     "output_type": "stream",
     "text": [
      "epoch: 7, [batch: 1 / 2080], examples_per_second: 11.1042, train_label_loss: 0.0430, \n"
     ]
    },
    {
     "name": "stdout",
     "output_type": "stream",
     "text": [
      "epoch: 7, [batch: 208 / 2080], examples_per_second: 3649.2542, train_label_loss: 0.0375, \n"
     ]
    },
    {
     "name": "stdout",
     "output_type": "stream",
     "text": [
      "epoch: 7, [batch: 416 / 2080], examples_per_second: 3657.5166, train_label_loss: 0.3517, \n"
     ]
    },
    {
     "name": "stdout",
     "output_type": "stream",
     "text": [
      "epoch: 7, [batch: 624 / 2080], examples_per_second: 3645.2917, train_label_loss: 0.0015, \n"
     ]
    },
    {
     "name": "stdout",
     "output_type": "stream",
     "text": [
      "epoch: 7, [batch: 832 / 2080], examples_per_second: 3671.6521, train_label_loss: 0.0062, \n"
     ]
    },
    {
     "name": "stdout",
     "output_type": "stream",
     "text": [
      "epoch: 7, [batch: 1040 / 2080], examples_per_second: 3658.5019, train_label_loss: 0.2805, \n"
     ]
    },
    {
     "name": "stdout",
     "output_type": "stream",
     "text": [
      "epoch: 7, [batch: 1248 / 2080], examples_per_second: 3662.0687, train_label_loss: 0.0026, \n"
     ]
    },
    {
     "name": "stdout",
     "output_type": "stream",
     "text": [
      "epoch: 7, [batch: 1456 / 2080], examples_per_second: 3609.8274, train_label_loss: 0.0177, \n"
     ]
    },
    {
     "name": "stdout",
     "output_type": "stream",
     "text": [
      "epoch: 7, [batch: 1664 / 2080], examples_per_second: 3661.9037, train_label_loss: 0.0067, \n"
     ]
    },
    {
     "name": "stdout",
     "output_type": "stream",
     "text": [
      "epoch: 7, [batch: 1872 / 2080], examples_per_second: 3647.9424, train_label_loss: 0.3316, \n"
     ]
    },
    {
     "name": "stdout",
     "output_type": "stream",
     "text": [
      "=============================================================\n",
      "epoch: 7, source_val_acc_label: 0.9762, target_val_acc_label: 0.3944, source_val_label_loss: 0.1045, target_val_label_loss: 2.1619, \n",
      "=============================================================\n"
     ]
    },
    {
     "name": "stdout",
     "output_type": "stream",
     "text": [
      "New best\n"
     ]
    },
    {
     "name": "stdout",
     "output_type": "stream",
     "text": [
      "epoch: 8, [batch: 1 / 2077], examples_per_second: 11.1283, train_label_loss: 0.0065, \n"
     ]
    },
    {
     "name": "stdout",
     "output_type": "stream",
     "text": [
      "epoch: 8, [batch: 208 / 2077], examples_per_second: 3636.0805, train_label_loss: 0.0025, \n"
     ]
    },
    {
     "name": "stdout",
     "output_type": "stream",
     "text": [
      "epoch: 8, [batch: 416 / 2077], examples_per_second: 3642.3611, train_label_loss: 0.1226, \n"
     ]
    },
    {
     "name": "stdout",
     "output_type": "stream",
     "text": [
      "epoch: 8, [batch: 623 / 2077], examples_per_second: 3650.5081, train_label_loss: 0.0008, \n"
     ]
    },
    {
     "name": "stdout",
     "output_type": "stream",
     "text": [
      "epoch: 8, [batch: 831 / 2077], examples_per_second: 3651.1305, train_label_loss: 0.0260, \n"
     ]
    },
    {
     "name": "stdout",
     "output_type": "stream",
     "text": [
      "epoch: 8, [batch: 1039 / 2077], examples_per_second: 3621.9710, train_label_loss: 0.0013, \n"
     ]
    },
    {
     "name": "stdout",
     "output_type": "stream",
     "text": [
      "epoch: 8, [batch: 1246 / 2077], examples_per_second: 3644.3841, train_label_loss: 0.0007, \n"
     ]
    },
    {
     "name": "stdout",
     "output_type": "stream",
     "text": [
      "epoch: 8, [batch: 1454 / 2077], examples_per_second: 3638.8995, train_label_loss: 0.2036, \n"
     ]
    },
    {
     "name": "stdout",
     "output_type": "stream",
     "text": [
      "epoch: 8, [batch: 1661 / 2077], examples_per_second: 3590.2046, train_label_loss: 0.1024, \n"
     ]
    },
    {
     "name": "stdout",
     "output_type": "stream",
     "text": [
      "epoch: 8, [batch: 1869 / 2077], examples_per_second: 3667.4628, train_label_loss: 0.0834, \n"
     ]
    },
    {
     "name": "stdout",
     "output_type": "stream",
     "text": [
      "=============================================================\n",
      "epoch: 8, source_val_acc_label: 0.9780, target_val_acc_label: 0.3870, source_val_label_loss: 0.0958, target_val_label_loss: 2.0915, \n",
      "=============================================================\n"
     ]
    },
    {
     "name": "stdout",
     "output_type": "stream",
     "text": [
      "New best\n"
     ]
    },
    {
     "name": "stdout",
     "output_type": "stream",
     "text": [
      "epoch: 9, [batch: 1 / 2081], examples_per_second: 11.0917, train_label_loss: 0.0098, \n"
     ]
    },
    {
     "name": "stdout",
     "output_type": "stream",
     "text": [
      "epoch: 9, [batch: 209 / 2081], examples_per_second: 3631.4267, train_label_loss: 0.0014, \n"
     ]
    },
    {
     "name": "stdout",
     "output_type": "stream",
     "text": [
      "epoch: 9, [batch: 417 / 2081], examples_per_second: 3662.1596, train_label_loss: 0.0015, \n"
     ]
    },
    {
     "name": "stdout",
     "output_type": "stream",
     "text": [
      "epoch: 9, [batch: 625 / 2081], examples_per_second: 3651.8710, train_label_loss: 0.0012, \n"
     ]
    },
    {
     "name": "stdout",
     "output_type": "stream",
     "text": [
      "epoch: 9, [batch: 833 / 2081], examples_per_second: 3669.7163, train_label_loss: 0.0038, \n"
     ]
    },
    {
     "name": "stdout",
     "output_type": "stream",
     "text": [
      "epoch: 9, [batch: 1041 / 2081], examples_per_second: 3644.8546, train_label_loss: 0.0096, \n"
     ]
    },
    {
     "name": "stdout",
     "output_type": "stream",
     "text": [
      "epoch: 9, [batch: 1249 / 2081], examples_per_second: 3647.0257, train_label_loss: 0.0014, \n"
     ]
    },
    {
     "name": "stdout",
     "output_type": "stream",
     "text": [
      "epoch: 9, [batch: 1457 / 2081], examples_per_second: 3659.2158, train_label_loss: 0.0004, \n"
     ]
    },
    {
     "name": "stdout",
     "output_type": "stream",
     "text": [
      "epoch: 9, [batch: 1665 / 2081], examples_per_second: 3600.1417, train_label_loss: 0.0280, \n"
     ]
    },
    {
     "name": "stdout",
     "output_type": "stream",
     "text": [
      "epoch: 9, [batch: 1873 / 2081], examples_per_second: 3668.6151, train_label_loss: 0.0351, \n"
     ]
    },
    {
     "name": "stdout",
     "output_type": "stream",
     "text": [
      "=============================================================\n",
      "epoch: 9, source_val_acc_label: 0.9780, target_val_acc_label: 0.3164, source_val_label_loss: 0.1005, target_val_label_loss: 2.2586, \n",
      "=============================================================\n"
     ]
    },
    {
     "name": "stdout",
     "output_type": "stream",
     "text": [
      "epoch: 10, [batch: 1 / 2079], examples_per_second: 11.0675, train_label_loss: 0.0101, \n"
     ]
    },
    {
     "name": "stdout",
     "output_type": "stream",
     "text": [
      "epoch: 10, [batch: 208 / 2079], examples_per_second: 3636.6131, train_label_loss: 0.0603, \n"
     ]
    },
    {
     "name": "stdout",
     "output_type": "stream",
     "text": [
      "epoch: 10, [batch: 416 / 2079], examples_per_second: 3662.0772, train_label_loss: 0.0013, \n"
     ]
    },
    {
     "name": "stdout",
     "output_type": "stream",
     "text": [
      "epoch: 10, [batch: 624 / 2079], examples_per_second: 3653.2251, train_label_loss: 0.0005, \n"
     ]
    },
    {
     "name": "stdout",
     "output_type": "stream",
     "text": [
      "epoch: 10, [batch: 832 / 2079], examples_per_second: 3677.4265, train_label_loss: 0.0047, \n"
     ]
    },
    {
     "name": "stdout",
     "output_type": "stream",
     "text": [
      "epoch: 10, [batch: 1040 / 2079], examples_per_second: 3682.7660, train_label_loss: 0.0034, \n"
     ]
    },
    {
     "name": "stdout",
     "output_type": "stream",
     "text": [
      "epoch: 10, [batch: 1247 / 2079], examples_per_second: 3655.2950, train_label_loss: 0.0659, \n"
     ]
    },
    {
     "name": "stdout",
     "output_type": "stream",
     "text": [
      "epoch: 10, [batch: 1455 / 2079], examples_per_second: 3675.8693, train_label_loss: 0.0029, \n"
     ]
    },
    {
     "name": "stdout",
     "output_type": "stream",
     "text": [
      "epoch: 10, [batch: 1663 / 2079], examples_per_second: 3596.7763, train_label_loss: 0.0033, \n"
     ]
    },
    {
     "name": "stdout",
     "output_type": "stream",
     "text": [
      "epoch: 10, [batch: 1871 / 2079], examples_per_second: 3649.0217, train_label_loss: 0.0233, \n"
     ]
    },
    {
     "name": "stdout",
     "output_type": "stream",
     "text": [
      "=============================================================\n",
      "epoch: 10, source_val_acc_label: 0.9798, target_val_acc_label: 0.3642, source_val_label_loss: 0.0990, target_val_label_loss: 2.0371, \n",
      "=============================================================\n"
     ]
    },
    {
     "name": "stdout",
     "output_type": "stream",
     "text": [
      "New best\n"
     ]
    },
    {
     "name": "stdout",
     "output_type": "stream",
     "text": [
      "epoch: 11, [batch: 1 / 2079], examples_per_second: 11.0547, train_label_loss: 0.0356, \n"
     ]
    },
    {
     "name": "stdout",
     "output_type": "stream",
     "text": [
      "epoch: 11, [batch: 208 / 2079], examples_per_second: 3623.0824, train_label_loss: 0.0065, \n"
     ]
    },
    {
     "name": "stdout",
     "output_type": "stream",
     "text": [
      "epoch: 11, [batch: 416 / 2079], examples_per_second: 3634.3485, train_label_loss: 0.0271, \n"
     ]
    },
    {
     "name": "stdout",
     "output_type": "stream",
     "text": [
      "epoch: 11, [batch: 624 / 2079], examples_per_second: 3622.4445, train_label_loss: 0.0003, \n"
     ]
    },
    {
     "name": "stdout",
     "output_type": "stream",
     "text": [
      "epoch: 11, [batch: 832 / 2079], examples_per_second: 3635.2789, train_label_loss: 0.0149, \n"
     ]
    },
    {
     "name": "stdout",
     "output_type": "stream",
     "text": [
      "epoch: 11, [batch: 1040 / 2079], examples_per_second: 3635.4692, train_label_loss: 0.1590, \n"
     ]
    },
    {
     "name": "stdout",
     "output_type": "stream",
     "text": [
      "epoch: 11, [batch: 1247 / 2079], examples_per_second: 3628.3902, train_label_loss: 0.0194, \n"
     ]
    },
    {
     "name": "stdout",
     "output_type": "stream",
     "text": [
      "epoch: 11, [batch: 1455 / 2079], examples_per_second: 3642.2617, train_label_loss: 0.0008, \n"
     ]
    },
    {
     "name": "stdout",
     "output_type": "stream",
     "text": [
      "epoch: 11, [batch: 1663 / 2079], examples_per_second: 3567.1335, train_label_loss: 0.0050, \n"
     ]
    },
    {
     "name": "stdout",
     "output_type": "stream",
     "text": [
      "epoch: 11, [batch: 1871 / 2079], examples_per_second: 3652.6491, train_label_loss: 0.0726, \n"
     ]
    },
    {
     "name": "stdout",
     "output_type": "stream",
     "text": [
      "=============================================================\n",
      "epoch: 11, source_val_acc_label: 0.9794, target_val_acc_label: 0.2813, source_val_label_loss: 0.0933, target_val_label_loss: 2.2201, \n",
      "=============================================================\n"
     ]
    },
    {
     "name": "stdout",
     "output_type": "stream",
     "text": [
      "epoch: 12, [batch: 1 / 2080], examples_per_second: 11.1700, train_label_loss: 0.0872, \n"
     ]
    },
    {
     "name": "stdout",
     "output_type": "stream",
     "text": [
      "epoch: 12, [batch: 208 / 2080], examples_per_second: 3617.1584, train_label_loss: 0.0008, \n"
     ]
    },
    {
     "name": "stdout",
     "output_type": "stream",
     "text": [
      "epoch: 12, [batch: 416 / 2080], examples_per_second: 3648.2427, train_label_loss: 0.1965, \n"
     ]
    },
    {
     "name": "stdout",
     "output_type": "stream",
     "text": [
      "epoch: 12, [batch: 624 / 2080], examples_per_second: 3634.8954, train_label_loss: 0.0128, \n"
     ]
    },
    {
     "name": "stdout",
     "output_type": "stream",
     "text": [
      "epoch: 12, [batch: 832 / 2080], examples_per_second: 3637.2942, train_label_loss: 0.0012, \n"
     ]
    },
    {
     "name": "stdout",
     "output_type": "stream",
     "text": [
      "epoch: 12, [batch: 1040 / 2080], examples_per_second: 3627.0954, train_label_loss: 0.0029, \n"
     ]
    },
    {
     "name": "stdout",
     "output_type": "stream",
     "text": [
      "epoch: 12, [batch: 1248 / 2080], examples_per_second: 3632.6385, train_label_loss: 0.0014, \n"
     ]
    },
    {
     "name": "stdout",
     "output_type": "stream",
     "text": [
      "epoch: 12, [batch: 1456 / 2080], examples_per_second: 3595.9965, train_label_loss: 0.0306, \n"
     ]
    },
    {
     "name": "stdout",
     "output_type": "stream",
     "text": [
      "epoch: 12, [batch: 1664 / 2080], examples_per_second: 3630.6551, train_label_loss: 0.0598, \n"
     ]
    },
    {
     "name": "stdout",
     "output_type": "stream",
     "text": [
      "epoch: 12, [batch: 1872 / 2080], examples_per_second: 3651.4165, train_label_loss: 0.0191, \n"
     ]
    },
    {
     "name": "stdout",
     "output_type": "stream",
     "text": [
      "=============================================================\n",
      "epoch: 12, source_val_acc_label: 0.9795, target_val_acc_label: 0.2687, source_val_label_loss: 0.1035, target_val_label_loss: 2.1987, \n",
      "=============================================================\n"
     ]
    },
    {
     "name": "stdout",
     "output_type": "stream",
     "text": [
      "epoch: 13, [batch: 1 / 2083], examples_per_second: 11.1287, train_label_loss: 0.0354, \n"
     ]
    },
    {
     "name": "stdout",
     "output_type": "stream",
     "text": [
      "epoch: 13, [batch: 209 / 2083], examples_per_second: 3643.8109, train_label_loss: 0.0149, \n"
     ]
    },
    {
     "name": "stdout",
     "output_type": "stream",
     "text": [
      "epoch: 13, [batch: 417 / 2083], examples_per_second: 3624.5997, train_label_loss: 0.0008, \n"
     ]
    },
    {
     "name": "stdout",
     "output_type": "stream",
     "text": [
      "epoch: 13, [batch: 625 / 2083], examples_per_second: 3651.0658, train_label_loss: 0.0246, \n"
     ]
    },
    {
     "name": "stdout",
     "output_type": "stream",
     "text": [
      "epoch: 13, [batch: 833 / 2083], examples_per_second: 3645.1057, train_label_loss: 0.0005, \n"
     ]
    },
    {
     "name": "stdout",
     "output_type": "stream",
     "text": [
      "epoch: 13, [batch: 1042 / 2083], examples_per_second: 3624.4369, train_label_loss: 0.0002, \n"
     ]
    },
    {
     "name": "stdout",
     "output_type": "stream",
     "text": [
      "epoch: 13, [batch: 1250 / 2083], examples_per_second: 3643.6336, train_label_loss: 0.0428, \n"
     ]
    },
    {
     "name": "stdout",
     "output_type": "stream",
     "text": [
      "epoch: 13, [batch: 1458 / 2083], examples_per_second: 3639.3387, train_label_loss: 0.0020, \n"
     ]
    },
    {
     "name": "stdout",
     "output_type": "stream",
     "text": [
      "epoch: 13, [batch: 1666 / 2083], examples_per_second: 3565.8345, train_label_loss: 0.0131, \n"
     ]
    },
    {
     "name": "stdout",
     "output_type": "stream",
     "text": [
      "epoch: 13, [batch: 1874 / 2083], examples_per_second: 3673.7602, train_label_loss: 0.2507, \n"
     ]
    },
    {
     "name": "stdout",
     "output_type": "stream",
     "text": [
      "=============================================================\n",
      "epoch: 13, source_val_acc_label: 0.9770, target_val_acc_label: 0.2756, source_val_label_loss: 0.1077, target_val_label_loss: 2.1789, \n",
      "=============================================================\n"
     ]
    },
    {
     "name": "stdout",
     "output_type": "stream",
     "text": [
      "epoch: 14, [batch: 1 / 2081], examples_per_second: 11.1554, train_label_loss: 0.2042, \n"
     ]
    },
    {
     "name": "stdout",
     "output_type": "stream",
     "text": [
      "epoch: 14, [batch: 209 / 2081], examples_per_second: 3626.9501, train_label_loss: 0.0056, \n"
     ]
    },
    {
     "name": "stdout",
     "output_type": "stream",
     "text": [
      "epoch: 14, [batch: 417 / 2081], examples_per_second: 3658.2758, train_label_loss: 0.0024, \n"
     ]
    },
    {
     "name": "stdout",
     "output_type": "stream",
     "text": [
      "epoch: 14, [batch: 625 / 2081], examples_per_second: 3646.7412, train_label_loss: 0.0000, \n"
     ]
    },
    {
     "name": "stdout",
     "output_type": "stream",
     "text": [
      "epoch: 14, [batch: 833 / 2081], examples_per_second: 3690.8136, train_label_loss: 0.0000, \n"
     ]
    },
    {
     "name": "stdout",
     "output_type": "stream",
     "text": [
      "epoch: 14, [batch: 1041 / 2081], examples_per_second: 3655.2593, train_label_loss: 0.0235, \n"
     ]
    },
    {
     "name": "stdout",
     "output_type": "stream",
     "text": [
      "epoch: 14, [batch: 1249 / 2081], examples_per_second: 3672.4871, train_label_loss: 0.0152, \n"
     ]
    },
    {
     "name": "stdout",
     "output_type": "stream",
     "text": [
      "epoch: 14, [batch: 1457 / 2081], examples_per_second: 3672.3230, train_label_loss: 0.0002, \n"
     ]
    },
    {
     "name": "stdout",
     "output_type": "stream",
     "text": [
      "epoch: 14, [batch: 1665 / 2081], examples_per_second: 3649.3997, train_label_loss: 0.0093, \n"
     ]
    },
    {
     "name": "stdout",
     "output_type": "stream",
     "text": [
      "epoch: 14, [batch: 1873 / 2081], examples_per_second: 3663.8006, train_label_loss: 0.0031, \n"
     ]
    },
    {
     "name": "stdout",
     "output_type": "stream",
     "text": [
      "=============================================================\n",
      "epoch: 14, source_val_acc_label: 0.9779, target_val_acc_label: 0.2522, source_val_label_loss: 0.1093, target_val_label_loss: 2.2669, \n",
      "=============================================================\n"
     ]
    },
    {
     "name": "stdout",
     "output_type": "stream",
     "text": [
      "Patience (3) exhausted\n"
     ]
    }
   ],
   "source": [
    "###################################\n",
    "# train\n",
    "###################################\n",
    "jig = PTN_Train_Eval_Test_Jig(model, p.BEST_MODEL_PATH, p.device)\n",
    "\n",
    "jig.train(\n",
    "    train_iterable=datasets.source.processed.train,\n",
    "    source_val_iterable=datasets.source.processed.val,\n",
    "    target_val_iterable=datasets.target.processed.val,\n",
    "    num_epochs=p.n_epoch,\n",
    "    num_logs_per_epoch=p.NUM_LOGS_PER_EPOCH,\n",
    "    patience=p.patience,\n",
    "    optimizer=optimizer,\n",
    "    criteria_for_best=p.criteria_for_best,\n",
    ")"
   ]
  },
  {
   "cell_type": "code",
   "execution_count": 23,
   "id": "31e8fabf",
   "metadata": {
    "execution": {
     "iopub.execute_input": "2022-03-18T22:40:27.321554Z",
     "iopub.status.busy": "2022-03-18T22:40:27.321304Z",
     "iopub.status.idle": "2022-03-18T22:40:27.337936Z",
     "shell.execute_reply": "2022-03-18T22:40:27.337550Z"
    },
    "papermill": {
     "duration": 0.06107,
     "end_time": "2022-03-18T22:40:27.338024",
     "exception": false,
     "start_time": "2022-03-18T22:40:27.276954",
     "status": "completed"
    },
    "tags": []
   },
   "outputs": [],
   "source": [
    "total_experiment_time_secs = time.time() - start_time_secs"
   ]
  },
  {
   "cell_type": "code",
   "execution_count": 24,
   "id": "87b9595b",
   "metadata": {
    "execution": {
     "iopub.execute_input": "2022-03-18T22:40:27.432951Z",
     "iopub.status.busy": "2022-03-18T22:40:27.432681Z",
     "iopub.status.idle": "2022-03-18T22:41:29.942615Z",
     "shell.execute_reply": "2022-03-18T22:41:29.943024Z"
    },
    "papermill": {
     "duration": 62.558734,
     "end_time": "2022-03-18T22:41:29.943166",
     "exception": false,
     "start_time": "2022-03-18T22:40:27.384432",
     "status": "completed"
    },
    "tags": []
   },
   "outputs": [],
   "source": [
    "###################################\n",
    "# Evaluate the model\n",
    "###################################\n",
    "source_test_label_accuracy, source_test_label_loss = jig.test(datasets.source.processed.test)\n",
    "target_test_label_accuracy, target_test_label_loss = jig.test(datasets.target.processed.test)\n",
    "\n",
    "source_val_label_accuracy, source_val_label_loss = jig.test(datasets.source.processed.val)\n",
    "target_val_label_accuracy, target_val_label_loss = jig.test(datasets.target.processed.val)\n",
    "\n",
    "history = jig.get_history()\n",
    "\n",
    "total_epochs_trained = len(history[\"epoch_indices\"])\n",
    "\n",
    "val_dl = Iterable_Aggregator((datasets.source.original.val,datasets.target.original.val))\n",
    "\n",
    "confusion = ptn_confusion_by_domain_over_dataloader(model, p.device, val_dl)\n",
    "per_domain_accuracy = per_domain_accuracy_from_confusion(confusion)\n",
    "\n",
    "# Add a key to per_domain_accuracy for if it was a source domain\n",
    "for domain, accuracy in per_domain_accuracy.items():\n",
    "    per_domain_accuracy[domain] = {\n",
    "        \"accuracy\": accuracy,\n",
    "        \"source?\": domain in p.domains_source\n",
    "    }\n",
    "\n",
    "# Do an independent accuracy assesment JUST TO BE SURE!\n",
    "# _source_test_label_accuracy = independent_accuracy_assesment(model, datasets.source.processed.test, p.device)\n",
    "# _target_test_label_accuracy = independent_accuracy_assesment(model, datasets.target.processed.test, p.device)\n",
    "# _source_val_label_accuracy = independent_accuracy_assesment(model, datasets.source.processed.val, p.device)\n",
    "# _target_val_label_accuracy = independent_accuracy_assesment(model, datasets.target.processed.val, p.device)\n",
    "\n",
    "# assert(_source_test_label_accuracy == source_test_label_accuracy)\n",
    "# assert(_target_test_label_accuracy == target_test_label_accuracy)\n",
    "# assert(_source_val_label_accuracy == source_val_label_accuracy)\n",
    "# assert(_target_val_label_accuracy == target_val_label_accuracy)\n",
    "\n",
    "experiment = {\n",
    "    \"experiment_name\": p.experiment_name,\n",
    "    \"parameters\": dict(p),\n",
    "    \"results\": {\n",
    "        \"source_test_label_accuracy\": source_test_label_accuracy,\n",
    "        \"source_test_label_loss\": source_test_label_loss,\n",
    "        \"target_test_label_accuracy\": target_test_label_accuracy,\n",
    "        \"target_test_label_loss\": target_test_label_loss,\n",
    "        \"source_val_label_accuracy\": source_val_label_accuracy,\n",
    "        \"source_val_label_loss\": source_val_label_loss,\n",
    "        \"target_val_label_accuracy\": target_val_label_accuracy,\n",
    "        \"target_val_label_loss\": target_val_label_loss,\n",
    "        \"total_epochs_trained\": total_epochs_trained,\n",
    "        \"total_experiment_time_secs\": total_experiment_time_secs,\n",
    "        \"confusion\": confusion,\n",
    "        \"per_domain_accuracy\": per_domain_accuracy,\n",
    "    },\n",
    "    \"history\": history,\n",
    "    \"dataset_metrics\": get_dataset_metrics(datasets, \"ptn\"),\n",
    "}"
   ]
  },
  {
   "cell_type": "code",
   "execution_count": 25,
   "id": "54a21829",
   "metadata": {
    "execution": {
     "iopub.execute_input": "2022-03-18T22:41:30.034544Z",
     "iopub.status.busy": "2022-03-18T22:41:30.033883Z",
     "iopub.status.idle": "2022-03-18T22:41:30.158467Z",
     "shell.execute_reply": "2022-03-18T22:41:30.158014Z"
    },
    "papermill": {
     "duration": 0.168472,
     "end_time": "2022-03-18T22:41:30.158558",
     "exception": false,
     "start_time": "2022-03-18T22:41:29.990086",
     "status": "completed"
    },
    "tags": []
   },
   "outputs": [
    {
     "data": {
      "image/png": "[encoded data removed]",
      "text/plain": [
       "<Figure size 1080x504 with 1 Axes>"
      ]
     },
     "metadata": {
      "needs_background": "light"
     },
     "output_type": "display_data"
    }
   ],
   "source": [
    "ax = get_loss_curve(experiment)\n",
    "plt.show()"
   ]
  },
  {
   "cell_type": "code",
   "execution_count": 26,
   "id": "fd8a0f60",
   "metadata": {
    "execution": {
     "iopub.execute_input": "2022-03-18T22:41:30.251576Z",
     "iopub.status.busy": "2022-03-18T22:41:30.250428Z",
     "iopub.status.idle": "2022-03-18T22:41:30.392902Z",
     "shell.execute_reply": "2022-03-18T22:41:30.393120Z"
    },
    "papermill": {
     "duration": 0.187687,
     "end_time": "2022-03-18T22:41:30.393183",
     "exception": false,
     "start_time": "2022-03-18T22:41:30.205496",
     "status": "completed"
    },
    "tags": []
   },
   "outputs": [
    {
     "data": {
      "text/plain": [
       "<AxesSubplot:title={'center':'Results'}>"
      ]
     },
     "execution_count": 26,
     "metadata": {},
     "output_type": "execute_result"
    },
    {
     "data": {
      "image/png": "[encoded data removed]",
      "text/plain": [
       "<Figure size 1080x504 with 1 Axes>"
      ]
     },
     "metadata": {
      "needs_background": "light"
     },
     "output_type": "display_data"
    }
   ],
   "source": [
    "get_results_table(experiment)"
   ]
  },
  {
   "cell_type": "code",
   "execution_count": 27,
   "id": "cf8dc689",
   "metadata": {
    "execution": {
     "iopub.execute_input": "2022-03-18T22:41:30.487525Z",
     "iopub.status.busy": "2022-03-18T22:41:30.487269Z",
     "iopub.status.idle": "2022-03-18T22:41:30.644559Z",
     "shell.execute_reply": "2022-03-18T22:41:30.644065Z"
    },
    "papermill": {
     "duration": 0.204126,
     "end_time": "2022-03-18T22:41:30.644665",
     "exception": false,
     "start_time": "2022-03-18T22:41:30.440539",
     "status": "completed"
    },
    "tags": []
   },
   "outputs": [
    {
     "data": {
      "text/plain": [
       "<AxesSubplot:title={'center':'Per Domain Validation Accuracy'}, xlabel='domain'>"
      ]
     },
     "execution_count": 27,
     "metadata": {},
     "output_type": "execute_result"
    },
    {
     "data": {
      "image/png": "[encoded data removed]",
      "text/plain": [
       "<Figure size 1080x504 with 1 Axes>"
      ]
     },
     "metadata": {
      "needs_background": "light"
     },
     "output_type": "display_data"
    }
   ],
   "source": [
    "get_domain_accuracies(experiment)"
   ]
  },
  {
   "cell_type": "code",
   "execution_count": 28,
   "id": "a74ae082",
   "metadata": {
    "execution": {
     "iopub.execute_input": "2022-03-18T22:41:30.745729Z",
     "iopub.status.busy": "2022-03-18T22:41:30.741207Z",
     "iopub.status.idle": "2022-03-18T22:41:30.757122Z",
     "shell.execute_reply": "2022-03-18T22:41:30.756639Z"
    },
    "papermill": {
     "duration": 0.063921,
     "end_time": "2022-03-18T22:41:30.757223",
     "exception": false,
     "start_time": "2022-03-18T22:41:30.693302",
     "status": "completed"
    },
    "tags": []
   },
   "outputs": [
    {
     "name": "stdout",
     "output_type": "stream",
     "text": [
      "Source Test Label Accuracy: 0.976696735395189 Target Test Label Accuracy: 0.36787109375\n",
      "Source Val Label Accuracy: 0.9798109965635738 Target Val Label Accuracy: 0.36416015625\n"
     ]
    }
   ],
   "source": [
    "print(\"Source Test Label Accuracy:\", experiment[\"results\"][\"source_test_label_accuracy\"], \"Target Test Label Accuracy:\", experiment[\"results\"][\"target_test_label_accuracy\"])\n",
    "print(\"Source Val Label Accuracy:\", experiment[\"results\"][\"source_val_label_accuracy\"], \"Target Val Label Accuracy:\", experiment[\"results\"][\"target_val_label_accuracy\"])"
   ]
  },
  {
   "cell_type": "code",
   "execution_count": 29,
   "id": "dacca602",
   "metadata": {
    "execution": {
     "iopub.execute_input": "2022-03-18T22:41:30.856098Z",
     "iopub.status.busy": "2022-03-18T22:41:30.855852Z",
     "iopub.status.idle": "2022-03-18T22:41:30.871269Z",
     "shell.execute_reply": "2022-03-18T22:41:30.871668Z"
    },
    "papermill": {
     "duration": 0.063889,
     "end_time": "2022-03-18T22:41:30.871794",
     "exception": false,
     "start_time": "2022-03-18T22:41:30.807905",
     "status": "completed"
    },
    "tags": [
     "experiment_json"
    ]
   },
   "outputs": [
    {
     "data": {
      "text/plain": [
       "'{\"experiment_name\": \"tl_3A:cores+wisig -> oracle.run1.framed\", \"parameters\": {\"experiment_name\": \"tl_3A:cores+wisig -> oracle.run1.framed\", \"device\": \"cuda\", \"lr\": 0.001, \"x_shape\": [2, 200], \"n_shot\": 3, \"n_query\": 2, \"train_k_factor\": 3, \"val_k_factor\": 2, \"test_k_factor\": 2, \"torch_default_dtype\": \"torch.float32\", \"n_epoch\": 50, \"patience\": 3, \"criteria_for_best\": \"target_loss\", \"x_net\": [{\"class\": \"nnReshape\", \"kargs\": {\"shape\": [-1, 1, 2, 200]}}, {\"class\": \"Conv2d\", \"kargs\": {\"in_channels\": 1, \"out_channels\": 256, \"kernel_size\": [1, 7], \"bias\": false, \"padding\": [0, 3]}}, {\"class\": \"ReLU\", \"kargs\": {\"inplace\": true}}, {\"class\": \"BatchNorm2d\", \"kargs\": {\"num_features\": 256}}, {\"class\": \"Conv2d\", \"kargs\": {\"in_channels\": 256, \"out_channels\": 80, \"kernel_size\": [2, 7], \"bias\": true, \"padding\": [0, 3]}}, {\"class\": \"ReLU\", \"kargs\": {\"inplace\": true}}, {\"class\": \"BatchNorm2d\", \"kargs\": {\"num_features\": 80}}, {\"class\": \"Flatten\", \"kargs\": {}}, {\"class\": \"Linear\", \"kargs\": {\"in_features\": 16000, \"out_features\": 256}}, {\"class\": \"ReLU\", \"kargs\": {\"inplace\": true}}, {\"class\": \"BatchNorm1d\", \"kargs\": {\"num_features\": 256}}, {\"class\": \"Linear\", \"kargs\": {\"in_features\": 256, \"out_features\": 256}}], \"NUM_LOGS_PER_EPOCH\": 10, \"BEST_MODEL_PATH\": \"./best_model.pth\", \"n_way\": 16, \"datasets\": [{\"labels\": [\"1-10.\", \"1-11.\", \"1-15.\", \"1-16.\", \"1-17.\", \"1-18.\", \"1-19.\", \"10-4.\", \"10-7.\", \"11-1.\", \"11-14.\", \"11-17.\", \"11-20.\", \"11-7.\", \"13-20.\", \"13-8.\", \"14-10.\", \"14-11.\", \"14-14.\", \"14-7.\", \"15-1.\", \"15-20.\", \"16-1.\", \"16-16.\", \"17-10.\", \"17-11.\", \"17-2.\", \"19-1.\", \"19-16.\", \"19-19.\", \"19-20.\", \"19-3.\", \"2-10.\", \"2-11.\", \"2-17.\", \"2-18.\", \"2-20.\", \"2-3.\", \"2-4.\", \"2-5.\", \"2-6.\", \"2-7.\", \"2-8.\", \"3-13.\", \"3-18.\", \"3-3.\", \"4-1.\", \"4-10.\", \"4-11.\", \"4-19.\", \"5-5.\", \"6-15.\", \"7-10.\", \"7-14.\", \"8-18.\", \"8-20.\", \"8-3.\", \"8-8.\"], \"domains\": [1, 2, 3, 4, 5], \"num_examples_per_domain_per_label\": 100, \"pickle_path\": \"/mnt/wd500GB/CSC500/csc500-main/datasets/cores.stratified_ds.2022A.pkl\", \"source_or_target_dataset\": \"source\", \"x_transforms\": [\"take_200\"], \"episode_transforms\": [], \"domain_prefix\": \"C_A_\"}, {\"labels\": [\"1-10\", \"1-12\", \"1-14\", \"1-16\", \"1-18\", \"1-19\", \"1-8\", \"10-11\", \"10-17\", \"10-4\", \"10-7\", \"11-1\", \"11-10\", \"11-19\", \"11-20\", \"11-4\", \"11-7\", \"12-19\", \"12-20\", \"12-7\", \"13-14\", \"13-18\", \"13-19\", \"13-20\", \"13-3\", \"13-7\", \"14-10\", \"14-11\", \"14-12\", \"14-13\", \"14-14\", \"14-19\", \"14-20\", \"14-7\", \"14-8\", \"14-9\", \"15-1\", \"15-19\", \"15-6\", \"16-1\", \"16-16\", \"16-19\", \"16-20\", \"17-10\", \"17-11\", \"18-1\", \"18-10\", \"18-11\", \"18-12\", \"18-13\", \"18-14\", \"18-15\", \"18-16\", \"18-17\", \"18-19\", \"18-2\", \"18-20\", \"18-4\", \"18-5\", \"18-7\", \"18-8\", \"18-9\", \"19-1\", \"19-10\", \"19-11\", \"19-12\", \"19-13\", \"19-14\", \"19-15\", \"19-19\", \"19-2\", \"19-20\", \"19-3\", \"19-4\", \"19-6\", \"19-7\", \"19-8\", \"19-9\", \"2-1\", \"2-13\", \"2-15\", \"2-3\", \"2-4\", \"2-5\", \"2-6\", \"2-7\", \"2-8\", \"20-1\", \"20-12\", \"20-14\", \"20-15\", \"20-16\", \"20-18\", \"20-19\", \"20-20\", \"20-3\", \"20-4\", \"20-5\", \"20-7\", \"20-8\", \"3-1\", \"3-13\", \"3-18\", \"3-2\", \"3-8\", \"4-1\", \"4-10\", \"4-11\", \"5-1\", \"5-5\", \"6-1\", \"6-15\", \"6-6\", \"7-10\", \"7-11\", \"7-12\", \"7-13\", \"7-14\", \"7-7\", \"7-8\", \"7-9\", \"8-1\", \"8-13\", \"8-14\", \"8-18\", \"8-20\", \"8-3\", \"8-8\", \"9-1\", \"9-7\"], \"domains\": [1, 2, 3, 4], \"num_examples_per_domain_per_label\": 100, \"pickle_path\": \"/mnt/wd500GB/CSC500/csc500-main/datasets/wisig.node3-19.stratified_ds.2022A.pkl\", \"source_or_target_dataset\": \"source\", \"x_transforms\": [\"take_200\"], \"episode_transforms\": [], \"domain_prefix\": \"W_A_\"}, {\"labels\": [\"3123D52\", \"3123D65\", \"3123D79\", \"3123D80\", \"3123D54\", \"3123D70\", \"3123D7B\", \"3123D89\", \"3123D58\", \"3123D76\", \"3123D7D\", \"3123EFE\", \"3123D64\", \"3123D78\", \"3123D7E\", \"3124E4A\"], \"domains\": [32, 38, 8, 44, 14, 50, 20, 26], \"num_examples_per_domain_per_label\": 2000, \"pickle_path\": \"/mnt/wd500GB/CSC500/csc500-main/datasets/oracle.Run1_framed_2000Examples_stratified_ds.2022A.pkl\", \"source_or_target_dataset\": \"target\", \"x_transforms\": [\"take_200\", \"resample_20Msps_to_25Msps\"], \"episode_transforms\": [], \"domain_prefix\": \"ORACLE.run1_\"}], \"seed\": 154325, \"dataset_seed\": 154325, \"domains_source\": [\"C_A_1\", \"C_A_2\", \"C_A_3\", \"C_A_4\", \"C_A_5\", \"W_A_1\", \"W_A_2\", \"W_A_3\", \"W_A_4\"], \"domains_target\": [\"ORACLE.run1_32\", \"ORACLE.run1_38\", \"ORACLE.run1_8\", \"ORACLE.run1_44\", \"ORACLE.run1_14\", \"ORACLE.run1_50\", \"ORACLE.run1_20\", \"ORACLE.run1_26\"]}, \"results\": {\"source_test_label_accuracy\": 0.976696735395189, \"source_test_label_loss\": 0.1042599231004715, \"target_test_label_accuracy\": 0.36787109375, \"target_test_label_loss\": 2.0341567993164062, \"source_val_label_accuracy\": 0.9798109965635738, \"source_val_label_loss\": 0.09900052100419998, \"target_val_label_accuracy\": 0.36416015625, \"target_val_label_loss\": 2.0371341705322266, \"total_epochs_trained\": 14, \"total_experiment_time_secs\": 797.508015871048, \"confusion\": {\"W_A_2\": {\"56\": {\"56\": 11, \"9\": 1}, \"12\": {\"12\": 10, \"113\": 1, \"76\": 1}, \"15\": {\"15\": 11, \"30\": 1}, \"26\": {\"26\": 12}, \"82\": {\"82\": 11, \"94\": 1}, \"9\": {\"9\": 12}, \"49\": {\"49\": 11, \"9\": 1}, \"55\": {\"55\": 12}, \"102\": {\"102\": 12}, \"85\": {\"85\": 12}, \"73\": {\"73\": 12}, \"47\": {\"113\": 1, \"47\": 10, \"76\": 1}, \"20\": {\"20\": 12}, \"117\": {\"117\": 10}, \"122\": {\"122\": 12}, \"113\": {\"26\": 2, \"113\": 9, \"69\": 1}, \"87\": {\"87\": 11, \"14\": 1}, \"21\": {\"21\": 12}, \"106\": {\"106\": 10}, \"3\": {\"3\": 12}, \"126\": {\"126\": 12}, \"41\": {\"41\": 12}, \"76\": {\"76\": 10}, \"60\": {\"60\": 12}, \"94\": {\"94\": 12}, \"50\": {\"50\": 10, \"41\": 1, \"28\": 1}, \"97\": {\"97\": 12}, \"115\": {\"60\": 1, \"115\": 11}, \"38\": {\"38\": 12}, \"43\": {\"43\": 12}, \"67\": {\"67\": 8}, \"18\": {\"18\": 10}, \"23\": {\"23\": 9, \"16\": 1}, \"63\": {\"63\": 12}, \"127\": {\"127\": 11, \"88\": 1}, \"72\": {\"72\": 12}, \"128\": {\"128\": 12}, \"7\": {\"7\": 12}, \"108\": {\"108\": 12}, \"16\": {\"72\": 2, \"16\": 10}, \"103\": {\"103\": 12}, \"86\": {\"86\": 12}, \"62\": {\"62\": 12}, \"34\": {\"34\": 12}, \"129\": {\"129\": 12}, \"52\": {\"52\": 12}, \"35\": {\"35\": 12}, \"40\": {\"40\": 12}, \"105\": {\"105\": 12}, \"101\": {\"101\": 12}, \"45\": {\"45\": 12}, \"30\": {\"30\": 10, \"69\": 1, \"15\": 1}, \"6\": {\"6\": 8}, \"13\": {\"13\": 12}, \"17\": {\"17\": 10, \"21\": 1, \"69\": 1}, \"29\": {\"29\": 12}, \"121\": {\"121\": 12}, \"32\": {\"128\": 2, \"32\": 10}, \"112\": {\"112\": 12}, \"110\": {\"110\": 12}, \"95\": {\"95\": 12}, \"92\": {\"92\": 11, \"51\": 1}, \"8\": {\"8\": 12}, \"22\": {\"22\": 12}, \"57\": {\"57\": 12}, \"77\": {\"77\": 10}, \"1\": {\"1\": 10}, \"116\": {\"116\": 12}, \"28\": {\"28\": 11, \"99\": 1}, \"68\": {\"68\": 12}, \"89\": {\"89\": 8}, \"119\": {\"119\": 11, \"33\": 1}, \"11\": {\"11\": 11, \"78\": 1}, \"46\": {\"46\": 12}, \"123\": {\"123\": 10, \"46\": 1, \"94\": 1}, \"33\": {\"33\": 12}, \"91\": {\"91\": 12}, \"83\": {\"83\": 10}, \"90\": {\"90\": 12}, \"79\": {\"79\": 11, \"62\": 1}, \"19\": {\"19\": 12}, \"81\": {\"81\": 7, \"64\": 1}, \"53\": {\"53\": 8}, \"71\": {\"71\": 11, \"12\": 1}, \"124\": {\"124\": 12}, \"88\": {\"88\": 12}, \"36\": {\"36\": 12}, \"78\": {\"94\": 1, \"78\": 11}, \"5\": {\"5\": 12}, \"61\": {\"16\": 1, \"61\": 11}, \"25\": {\"25\": 10, \"60\": 1, \"12\": 1}, \"64\": {\"64\": 12}, \"39\": {\"39\": 11, \"61\": 1}, \"37\": {\"37\": 10, \"110\": 1, \"21\": 1}, \"59\": {\"59\": 10}, \"125\": {\"125\": 12}, \"31\": {\"31\": 10, \"96\": 1, \"24\": 1}, \"54\": {\"54\": 12}, \"100\": {\"100\": 12}, \"98\": {\"98\": 12}, \"96\": {\"96\": 12}, \"24\": {\"24\": 12}, \"104\": {\"104\": 12}, \"48\": {\"48\": 11, \"0\": 1}, \"80\": {\"80\": 12}, \"58\": {\"58\": 12}, \"14\": {\"14\": 6}, \"27\": {\"27\": 11, \"113\": 1}, \"69\": {\"69\": 10, \"94\": 1, \"43\": 1}, \"99\": {\"99\": 12}, \"51\": {\"51\": 11, \"64\": 1}, \"75\": {\"75\": 8}, \"109\": {\"109\": 8, \"70\": 2, \"62\": 1, \"110\": 1}, \"70\": {\"70\": 12}, \"120\": {\"120\": 11, \"65\": 1}, \"42\": {\"42\": 12}, \"10\": {\"10\": 10, \"107\": 1, \"105\": 1}, \"0\": {\"0\": 10}, \"44\": {\"44\": 12}, \"93\": {\"93\": 12}, \"84\": {\"84\": 12}, \"114\": {\"114\": 12}, \"66\": {\"66\": 12}, \"65\": {\"65\": 12}, \"111\": {\"111\": 12}, \"74\": {\"74\": 9, \"62\": 1}, \"2\": {\"2\": 12}, \"107\": {\"107\": 10}, \"4\": {\"4\": 12}, \"118\": {\"118\": 10}}, \"C_A_2\": {\"21\": {\"21\": 10}, \"4\": {\"4\": 12}, \"6\": {\"6\": 12}, \"10\": {\"10\": 12}, \"33\": {\"33\": 10}, \"56\": {\"56\": 10}, \"20\": {\"20\": 12}, \"24\": {\"24\": 10}, \"45\": {\"45\": 10}, \"32\": {\"32\": 12}, \"27\": {\"27\": 12}, \"53\": {\"53\": 12}, \"8\": {\"8\": 12}, \"54\": {\"54\": 12}, \"50\": {\"50\": 12}, \"44\": {\"44\": 12}, \"5\": {\"5\": 10}, \"38\": {\"38\": 12}, \"19\": {\"19\": 12}, \"1\": {\"1\": 12}, \"30\": {\"30\": 12}, \"15\": {\"15\": 12}, \"23\": {\"23\": 12}, \"35\": {\"35\": 12}, \"22\": {\"22\": 12}, \"40\": {\"40\": 12}, \"46\": {\"46\": 10}, \"18\": {\"18\": 10}, \"25\": {\"25\": 12}, \"47\": {\"47\": 12}, \"52\": {\"52\": 8}, \"39\": {\"39\": 12}, \"17\": {\"17\": 12}, \"36\": {\"36\": 12}, \"7\": {\"7\": 12}, \"43\": {\"43\": 12}, \"3\": {\"3\": 12}, \"11\": {\"11\": 10}, \"55\": {\"55\": 12}, \"42\": {\"42\": 12}, \"51\": {\"51\": 12}, \"48\": {\"48\": 12}, \"57\": {\"57\": 12}, \"2\": {\"2\": 10}, \"16\": {\"16\": 10}, \"29\": {\"29\": 12}, \"12\": {\"12\": 12}, \"13\": {\"13\": 12}, \"37\": {\"37\": 12}, \"28\": {\"28\": 6}, \"14\": {\"14\": 12}, \"34\": {\"34\": 8}, \"41\": {\"41\": 10}, \"9\": {\"9\": 10}, \"49\": {\"49\": 6}, \"26\": {\"26\": 10}, \"0\": {\"0\": 10}, \"31\": {\"31\": 6}}, \"W_A_4\": {\"32\": {\"32\": 12}, \"22\": {\"22\": 12}, \"69\": {\"69\": 12}, \"65\": {\"65\": 12}, \"91\": {\"91\": 10}, \"63\": {\"63\": 12}, \"127\": {\"127\": 12}, \"11\": {\"11\": 10}, \"12\": {\"12\": 10}, \"111\": {\"111\": 12}, \"53\": {\"53\": 12}, \"73\": {\"73\": 11, \"21\": 1}, \"3\": {\"3\": 11, \"71\": 1}, \"83\": {\"83\": 12}, \"88\": {\"88\": 12}, \"87\": {\"87\": 12}, \"2\": {\"2\": 12}, \"86\": {\"86\": 12}, \"16\": {\"16\": 12}, \"21\": {\"21\": 12}, \"96\": {\"96\": 11, \"101\": 1}, \"100\": {\"100\": 12}, \"7\": {\"7\": 12}, \"75\": {\"75\": 12}, \"10\": {\"10\": 12}, \"43\": {\"43\": 12}, \"92\": {\"92\": 12}, \"62\": {\"62\": 12}, \"31\": {\"31\": 12}, \"0\": {\"0\": 12}, \"45\": {\"45\": 12}, \"85\": {\"85\": 12}, \"119\": {\"119\": 12}, \"46\": {\"46\": 12}, \"71\": {\"71\": 11, \"1\": 1}, \"8\": {\"8\": 10, \"27\": 1, \"15\": 1}, \"118\": {\"118\": 12}, \"1\": {\"1\": 12}, \"38\": {\"38\": 10, \"71\": 1, \"95\": 1}, \"30\": {\"30\": 12}, \"66\": {\"66\": 12}, \"9\": {\"9\": 11, \"83\": 1}, \"90\": {\"90\": 12}, \"72\": {\"72\": 12}, \"27\": {\"27\": 12}, \"17\": {\"17\": 12}, \"79\": {\"79\": 12}, \"25\": {\"25\": 12}, \"5\": {\"5\": 12}, \"57\": {\"57\": 12}, \"106\": {\"106\": 12}, \"80\": {\"80\": 12}, \"128\": {\"128\": 12}, \"19\": {\"19\": 10}, \"109\": {\"109\": 12}, \"68\": {\"68\": 12}, \"41\": {\"41\": 12}, \"129\": {\"129\": 11, \"101\": 1}, \"115\": {\"115\": 11, \"72\": 1}, \"76\": {\"76\": 12}, \"18\": {\"18\": 12}, \"4\": {\"4\": 12}, \"110\": {\"110\": 12}, \"56\": {\"56\": 12}, \"112\": {\"112\": 12}, \"126\": {\"126\": 11, \"78\": 1}, \"101\": {\"101\": 12}, \"59\": {\"59\": 12}, \"93\": {\"93\": 12}, \"99\": {\"99\": 12}, \"98\": {\"98\": 12}, \"67\": {\"67\": 12}, \"82\": {\"82\": 10, \"26\": 1, \"126\": 1}, \"103\": {\"128\": 2, \"103\": 9, \"63\": 1}, \"117\": {\"117\": 8}, \"123\": {\"123\": 12}, \"89\": {\"89\": 12}, \"34\": {\"34\": 12}, \"102\": {\"102\": 12}, \"6\": {\"6\": 10}, \"15\": {\"15\": 11, \"76\": 1}, \"81\": {\"81\": 12}, \"84\": {\"84\": 12}, \"60\": {\"60\": 10, \"74\": 1, \"8\": 1}, \"97\": {\"97\": 10, \"24\": 1, \"74\": 1}, \"78\": {\"78\": 10, \"108\": 1, \"3\": 1}, \"121\": {\"121\": 12}, \"55\": {\"55\": 12}, \"74\": {\"74\": 12}, \"77\": {\"77\": 12}, \"20\": {\"20\": 12}, \"125\": {\"125\": 10, \"35\": 1, \"21\": 1}, \"37\": {\"37\": 12}, \"14\": {\"14\": 11, \"38\": 1}, \"120\": {\"120\": 11, \"14\": 1}, \"40\": {\"40\": 10, \"105\": 1, \"106\": 1}, \"35\": {\"35\": 12}, \"70\": {\"70\": 11, \"27\": 1}, \"42\": {\"42\": 12}, \"105\": {\"105\": 12}, \"13\": {\"13\": 12}, \"58\": {\"58\": 12}, \"61\": {\"61\": 12}, \"29\": {\"29\": 12}, \"28\": {\"28\": 12}, \"36\": {\"36\": 12}, \"114\": {\"114\": 12}, \"44\": {\"44\": 11, \"81\": 1}, \"23\": {\"36\": 1, \"23\": 8, \"17\": 1, \"113\": 1, \"43\": 1}, \"116\": {\"116\": 12}, \"47\": {\"47\": 10, \"51\": 1, \"98\": 1}, \"122\": {\"122\": 11, \"43\": 1}, \"49\": {\"49\": 10}, \"52\": {\"52\": 12}, \"50\": {\"50\": 12}, \"48\": {\"48\": 11, \"83\": 1}, \"39\": {\"39\": 11, \"126\": 1}, \"95\": {\"95\": 12}, \"107\": {\"107\": 12}, \"24\": {\"24\": 12}, \"26\": {\"26\": 12}, \"124\": {\"124\": 10}, \"108\": {\"108\": 6, \"23\": 1, \"70\": 3, \"88\": 1, \"109\": 1}, \"113\": {\"46\": 1, \"113\": 10, \"20\": 1}, \"104\": {\"104\": 12}, \"64\": {\"64\": 12}, \"51\": {\"51\": 10}, \"94\": {\"94\": 10}, \"54\": {\"54\": 10}, \"33\": {\"33\": 12}}, \"C_A_5\": {\"12\": {\"12\": 12}, \"8\": {\"8\": 12}, \"29\": {\"29\": 12}, \"57\": {\"57\": 12}, \"38\": {\"38\": 12}, \"23\": {\"23\": 10}, \"56\": {\"56\": 10}, \"49\": {\"49\": 10}, \"4\": {\"4\": 12}, \"48\": {\"48\": 12}, \"21\": {\"21\": 12}, \"30\": {\"30\": 8}, \"1\": {\"1\": 12}, \"34\": {\"34\": 12}, \"35\": {\"35\": 6}, \"55\": {\"55\": 12}, \"26\": {\"26\": 12}, \"40\": {\"40\": 12}, \"53\": {\"53\": 12}, \"46\": {\"46\": 12}, \"27\": {\"27\": 12}, \"28\": {\"28\": 10}, \"16\": {\"16\": 10}, \"2\": {\"2\": 12}, \"51\": {\"51\": 12}, \"50\": {\"50\": 12}, \"54\": {\"54\": 10}, \"5\": {\"5\": 12}, \"10\": {\"10\": 12}, \"43\": {\"43\": 10}, \"17\": {\"17\": 12}, \"45\": {\"45\": 12}, \"36\": {\"36\": 12}, \"19\": {\"19\": 8}, \"15\": {\"15\": 12}, \"20\": {\"20\": 12}, \"3\": {\"3\": 12}, \"14\": {\"14\": 12}, \"32\": {\"32\": 12}, \"7\": {\"7\": 12}, \"31\": {\"31\": 12}, \"44\": {\"44\": 12}, \"24\": {\"24\": 10}, \"39\": {\"39\": 8}, \"37\": {\"37\": 12}, \"33\": {\"33\": 12}, \"11\": {\"11\": 7, \"15\": 1}, \"18\": {\"18\": 12}, \"52\": {\"52\": 12}, \"9\": {\"9\": 12}, \"0\": {\"0\": 8}, \"6\": {\"6\": 12}, \"42\": {\"42\": 12}, \"13\": {\"13\": 10}, \"22\": {\"22\": 8}, \"25\": {\"25\": 8}, \"47\": {\"47\": 10}, \"41\": {\"41\": 10}}, \"W_A_1\": {\"68\": {\"68\": 12}, \"7\": {\"7\": 12}, \"125\": {\"125\": 12}, \"111\": {\"111\": 11, \"94\": 1}, \"101\": {\"101\": 12}, \"11\": {\"11\": 12}, \"76\": {\"76\": 12}, \"5\": {\"5\": 12}, \"123\": {\"123\": 12}, \"85\": {\"85\": 12}, \"34\": {\"34\": 9, \"60\": 1}, \"42\": {\"42\": 10}, \"81\": {\"81\": 12}, \"127\": {\"127\": 12}, \"60\": {\"60\": 11, \"17\": 1}, \"77\": {\"77\": 12}, \"65\": {\"65\": 12}, \"44\": {\"44\": 12}, \"100\": {\"100\": 12}, \"80\": {\"80\": 11, \"112\": 1}, \"83\": {\"83\": 12}, \"51\": {\"51\": 12}, \"93\": {\"93\": 9, \"78\": 1}, \"31\": {\"31\": 10, \"65\": 1, \"80\": 1}, \"33\": {\"33\": 12}, \"113\": {\"113\": 11, \"94\": 1}, \"126\": {\"126\": 12}, \"10\": {\"10\": 12}, \"21\": {\"21\": 9, \"94\": 1}, \"90\": {\"90\": 12}, \"14\": {\"14\": 12}, \"91\": {\"91\": 12}, \"69\": {\"69\": 12}, \"57\": {\"57\": 12}, \"89\": {\"89\": 12}, \"108\": {\"108\": 9, \"36\": 1}, \"102\": {\"102\": 12}, \"64\": {\"64\": 12}, \"119\": {\"119\": 12}, \"36\": {\"36\": 12}, \"104\": {\"104\": 11, \"36\": 1}, \"38\": {\"38\": 12}, \"19\": {\"19\": 11, \"29\": 1}, \"112\": {\"112\": 11, \"0\": 1}, \"3\": {\"3\": 12}, \"110\": {\"110\": 12}, \"78\": {\"78\": 10, \"93\": 2}, \"45\": {\"45\": 10, \"15\": 1, \"27\": 1}, \"82\": {\"82\": 12}, \"107\": {\"107\": 12}, \"114\": {\"114\": 12}, \"109\": {\"109\": 11, \"108\": 1}, \"79\": {\"79\": 12}, \"8\": {\"8\": 12}, \"50\": {\"50\": 12}, \"47\": {\"47\": 11, \"91\": 1}, \"99\": {\"99\": 12}, \"41\": {\"41\": 12}, \"103\": {\"103\": 12}, \"1\": {\"1\": 8}, \"22\": {\"22\": 12}, \"86\": {\"86\": 11, \"14\": 1}, \"72\": {\"72\": 12}, \"4\": {\"4\": 12}, \"98\": {\"98\": 12}, \"63\": {\"63\": 12}, \"0\": {\"0\": 12}, \"97\": {\"97\": 12}, \"35\": {\"35\": 12}, \"20\": {\"30\": 1, \"20\": 8, \"104\": 1}, \"58\": {\"58\": 12}, \"117\": {\"117\": 12}, \"30\": {\"30\": 12}, \"32\": {\"32\": 12}, \"18\": {\"18\": 12}, \"71\": {\"71\": 12}, \"56\": {\"56\": 12}, \"29\": {\"29\": 12}, \"46\": {\"46\": 12}, \"17\": {\"94\": 1, \"17\": 11}, \"94\": {\"94\": 12}, \"27\": {\"27\": 10, \"106\": 1, \"0\": 1}, \"62\": {\"62\": 12}, \"118\": {\"118\": 12}, \"67\": {\"67\": 12}, \"84\": {\"84\": 12}, \"37\": {\"37\": 12}, \"12\": {\"12\": 12}, \"92\": {\"92\": 12}, \"129\": {\"129\": 11, \"45\": 1}, \"48\": {\"48\": 12}, \"75\": {\"75\": 12}, \"55\": {\"55\": 12}, \"25\": {\"78\": 1, \"25\": 11}, \"2\": {\"2\": 12}, \"53\": {\"53\": 12}, \"95\": {\"95\": 12}, \"88\": {\"88\": 12}, \"70\": {\"70\": 12}, \"13\": {\"13\": 12}, \"121\": {\"121\": 12}, \"124\": {\"124\": 12}, \"87\": {\"87\": 12}, \"73\": {\"73\": 12}, \"6\": {\"6\": 12}, \"40\": {\"40\": 12}, \"59\": {\"59\": 12}, \"122\": {\"122\": 12}, \"24\": {\"24\": 12}, \"54\": {\"54\": 12}, \"39\": {\"39\": 12}, \"16\": {\"16\": 12}, \"106\": {\"106\": 12}, \"15\": {\"15\": 12}, \"66\": {\"66\": 12}, \"116\": {\"116\": 12}, \"49\": {\"49\": 12}, \"120\": {\"120\": 11, \"62\": 1}, \"115\": {\"115\": 12}, \"9\": {\"9\": 10}, \"96\": {\"96\": 10}, \"26\": {\"26\": 12}, \"74\": {\"74\": 10}, \"43\": {\"43\": 12}, \"128\": {\"128\": 12}, \"52\": {\"52\": 12}, \"28\": {\"28\": 11, \"21\": 1}, \"61\": {\"61\": 11, \"91\": 1}, \"105\": {\"105\": 12}, \"23\": {\"23\": 10}}, \"C_A_1\": {\"27\": {\"27\": 10}, \"2\": {\"2\": 12}, \"33\": {\"33\": 12}, \"45\": {\"45\": 12}, \"38\": {\"38\": 12}, \"4\": {\"4\": 12}, \"31\": {\"31\": 12}, \"55\": {\"55\": 12}, \"32\": {\"32\": 12}, \"57\": {\"57\": 12}, \"14\": {\"14\": 12}, \"16\": {\"16\": 10}, \"34\": {\"34\": 8}, \"56\": {\"56\": 12}, \"24\": {\"24\": 10}, \"30\": {\"30\": 10}, \"26\": {\"26\": 12}, \"15\": {\"15\": 8}, \"18\": {\"18\": 12}, \"25\": {\"25\": 10}, \"54\": {\"54\": 10}, \"39\": {\"39\": 12}, \"12\": {\"12\": 12}, \"41\": {\"41\": 12}, \"52\": {\"52\": 10}, \"21\": {\"21\": 12}, \"47\": {\"47\": 12}, \"49\": {\"49\": 12}, \"19\": {\"19\": 12}, \"23\": {\"23\": 12}, \"37\": {\"37\": 12}, \"44\": {\"44\": 10}, \"22\": {\"22\": 12}, \"35\": {\"35\": 12}, \"7\": {\"7\": 12}, \"40\": {\"40\": 8}, \"6\": {\"6\": 12}, \"13\": {\"13\": 12}, \"11\": {\"11\": 12}, \"20\": {\"20\": 12}, \"8\": {\"8\": 6}, \"42\": {\"42\": 8}, \"29\": {\"29\": 10}, \"28\": {\"28\": 10}, \"17\": {\"17\": 12}, \"10\": {\"10\": 10}, \"46\": {\"46\": 12}, \"36\": {\"36\": 12}, \"43\": {\"43\": 10}, \"51\": {\"51\": 10}, \"3\": {\"3\": 10}, \"9\": {\"9\": 12}, \"50\": {\"50\": 12}, \"48\": {\"48\": 10}, \"0\": {\"0\": 12}, \"1\": {\"1\": 12}, \"5\": {\"5\": 10}, \"53\": {\"53\": 10}}, \"W_A_3\": {\"76\": {\"76\": 11, \"86\": 1}, \"6\": {\"6\": 10}, \"108\": {\"108\": 12}, \"29\": {\"29\": 12}, \"83\": {\"83\": 12}, \"18\": {\"18\": 12}, \"54\": {\"54\": 10, \"94\": 1, \"89\": 1}, \"15\": {\"15\": 12}, \"100\": {\"100\": 12}, \"90\": {\"90\": 12}, \"26\": {\"26\": 10, \"39\": 1, \"84\": 1}, \"115\": {\"115\": 12}, \"94\": {\"94\": 12}, \"46\": {\"46\": 12}, \"121\": {\"76\": 1, \"121\": 9}, \"109\": {\"109\": 12}, \"101\": {\"101\": 12}, \"99\": {\"99\": 12}, \"8\": {\"8\": 12}, \"102\": {\"102\": 12}, \"122\": {\"122\": 11, \"13\": 1}, \"36\": {\"36\": 11, \"24\": 1}, \"113\": {\"113\": 11, \"15\": 1}, \"123\": {\"123\": 12}, \"120\": {\"120\": 12}, \"125\": {\"125\": 10}, \"89\": {\"89\": 12}, \"9\": {\"9\": 12}, \"31\": {\"31\": 12}, \"62\": {\"62\": 12}, \"49\": {\"49\": 12}, \"23\": {\"23\": 10, \"97\": 1, \"110\": 1}, \"55\": {\"55\": 12}, \"128\": {\"128\": 11, \"127\": 1}, \"71\": {\"71\": 10, \"3\": 1, \"127\": 1}, \"51\": {\"51\": 10}, \"7\": {\"7\": 12}, \"117\": {\"117\": 12}, \"28\": {\"28\": 11, \"73\": 1}, \"127\": {\"127\": 12}, \"57\": {\"57\": 12}, \"78\": {\"78\": 8, \"127\": 1, \"106\": 1, \"12\": 1, \"95\": 1}, \"87\": {\"87\": 12}, \"40\": {\"40\": 12}, \"81\": {\"81\": 12}, \"2\": {\"2\": 12}, \"58\": {\"58\": 12}, \"68\": {\"68\": 10, \"112\": 1, \"88\": 1}, \"20\": {\"20\": 12}, \"35\": {\"35\": 12}, \"96\": {\"96\": 12}, \"84\": {\"84\": 12}, \"88\": {\"88\": 10, \"117\": 1, \"112\": 1}, \"114\": {\"114\": 12}, \"103\": {\"103\": 12}, \"5\": {\"5\": 12}, \"85\": {\"85\": 12}, \"65\": {\"65\": 12}, \"13\": {\"13\": 12}, \"64\": {\"64\": 12}, \"119\": {\"119\": 12}, \"116\": {\"116\": 8}, \"112\": {\"112\": 9, \"13\": 1, \"21\": 1, \"73\": 1}, \"86\": {\"86\": 12}, \"98\": {\"98\": 12}, \"69\": {\"69\": 12}, \"67\": {\"67\": 11, \"70\": 1}, \"32\": {\"32\": 12}, \"91\": {\"91\": 12}, \"17\": {\"67\": 2, \"17\": 8, \"101\": 1, \"82\": 1}, \"37\": {\"37\": 12}, \"95\": {\"95\": 12}, \"59\": {\"59\": 12}, \"34\": {\"34\": 12}, \"52\": {\"52\": 12}, \"1\": {\"1\": 12}, \"16\": {\"16\": 11, \"62\": 1}, \"79\": {\"79\": 12}, \"53\": {\"53\": 12}, \"106\": {\"106\": 12}, \"33\": {\"33\": 12}, \"104\": {\"104\": 12}, \"14\": {\"14\": 12}, \"11\": {\"16\": 1, \"11\": 8, \"110\": 1}, \"0\": {\"0\": 12}, \"25\": {\"25\": 12}, \"22\": {\"22\": 12}, \"75\": {\"75\": 12}, \"105\": {\"105\": 11, \"109\": 1}, \"45\": {\"45\": 12}, \"92\": {\"92\": 10, \"88\": 1, \"110\": 1}, \"39\": {\"39\": 11, \"43\": 1}, \"93\": {\"93\": 12}, \"97\": {\"97\": 12}, \"73\": {\"73\": 9, \"114\": 2, \"96\": 1}, \"30\": {\"30\": 12}, \"38\": {\"38\": 11, \"94\": 1}, \"3\": {\"3\": 12}, \"110\": {\"110\": 11, \"8\": 1}, \"60\": {\"60\": 12}, \"111\": {\"111\": 12}, \"41\": {\"41\": 12}, \"21\": {\"21\": 12}, \"129\": {\"129\": 12}, \"70\": {\"70\": 11, \"88\": 1}, \"66\": {\"66\": 12}, \"107\": {\"107\": 12}, \"74\": {\"74\": 12}, \"48\": {\"48\": 10, \"60\": 1, \"20\": 1}, \"50\": {\"50\": 12}, \"44\": {\"44\": 12}, \"42\": {\"42\": 12}, \"80\": {\"80\": 10}, \"72\": {\"72\": 12}, \"43\": {\"43\": 12}, \"77\": {\"77\": 12}, \"61\": {\"61\": 12}, \"126\": {\"126\": 12}, \"27\": {\"27\": 10}, \"24\": {\"24\": 11, \"27\": 1}, \"47\": {\"47\": 12}, \"19\": {\"19\": 12}, \"4\": {\"4\": 10}, \"82\": {\"82\": 10, \"61\": 1, \"89\": 1}, \"12\": {\"12\": 12}, \"10\": {\"10\": 12}, \"63\": {\"63\": 12}, \"56\": {\"56\": 12}, \"124\": {\"124\": 10}, \"118\": {\"118\": 10}}, \"C_A_4\": {\"32\": {\"32\": 10}, \"2\": {\"2\": 12}, \"41\": {\"41\": 12}, \"11\": {\"11\": 12}, \"57\": {\"57\": 10}, \"6\": {\"6\": 12}, \"23\": {\"23\": 12}, \"52\": {\"52\": 12}, \"38\": {\"38\": 10}, \"50\": {\"50\": 12}, \"55\": {\"55\": 12}, \"46\": {\"46\": 12}, \"37\": {\"37\": 12}, \"20\": {\"20\": 12}, \"49\": {\"49\": 12}, \"45\": {\"45\": 12}, \"54\": {\"54\": 12}, \"3\": {\"3\": 12}, \"13\": {\"13\": 12}, \"18\": {\"18\": 12}, \"21\": {\"21\": 12}, \"43\": {\"43\": 12}, \"47\": {\"47\": 12}, \"4\": {\"4\": 12}, \"12\": {\"12\": 8}, \"9\": {\"9\": 12}, \"7\": {\"7\": 10}, \"56\": {\"56\": 12}, \"28\": {\"28\": 10}, \"44\": {\"44\": 12}, \"24\": {\"24\": 12}, \"33\": {\"33\": 10}, \"14\": {\"14\": 12}, \"25\": {\"25\": 12}, \"26\": {\"26\": 12}, \"5\": {\"5\": 12}, \"17\": {\"17\": 10}, \"31\": {\"31\": 12}, \"8\": {\"8\": 8}, \"35\": {\"35\": 6}, \"15\": {\"15\": 6}, \"19\": {\"19\": 12}, \"22\": {\"22\": 10}, \"34\": {\"34\": 12}, \"36\": {\"36\": 12}, \"51\": {\"51\": 12}, \"10\": {\"10\": 10}, \"0\": {\"0\": 12}, \"53\": {\"53\": 10}, \"29\": {\"29\": 12}, \"27\": {\"27\": 12}, \"39\": {\"39\": 10}, \"30\": {\"30\": 11, \"50\": 1}, \"48\": {\"48\": 10}, \"42\": {\"42\": 8}, \"16\": {\"16\": 10}, \"1\": {\"1\": 10}, \"40\": {\"40\": 8}}, \"C_A_3\": {\"3\": {\"3\": 8}, \"21\": {\"21\": 12}, \"7\": {\"7\": 12}, \"30\": {\"30\": 12}, \"54\": {\"54\": 12}, \"6\": {\"6\": 11, \"12\": 1}, \"17\": {\"17\": 10}, \"8\": {\"8\": 12}, \"9\": {\"9\": 12}, \"19\": {\"19\": 12}, \"44\": {\"44\": 6}, \"25\": {\"25\": 12}, \"15\": {\"15\": 12}, \"1\": {\"1\": 10}, \"13\": {\"13\": 12}, \"40\": {\"40\": 9, \"44\": 1}, \"43\": {\"43\": 10}, \"38\": {\"38\": 12}, \"4\": {\"4\": 12}, \"41\": {\"41\": 12}, \"27\": {\"27\": 12}, \"50\": {\"50\": 12}, \"55\": {\"55\": 12}, \"20\": {\"20\": 12}, \"37\": {\"37\": 12}, \"53\": {\"53\": 8}, \"0\": {\"0\": 12}, \"34\": {\"34\": 12}, \"16\": {\"16\": 12}, \"12\": {\"12\": 10}, \"46\": {\"46\": 12}, \"32\": {\"32\": 12}, \"33\": {\"33\": 12}, \"26\": {\"26\": 10}, \"11\": {\"11\": 12}, \"45\": {\"45\": 12}, \"2\": {\"2\": 10}, \"10\": {\"10\": 10}, \"14\": {\"14\": 10}, \"24\": {\"24\": 12}, \"22\": {\"22\": 8}, \"52\": {\"52\": 12}, \"29\": {\"29\": 12}, \"51\": {\"51\": 12}, \"28\": {\"28\": 12}, \"23\": {\"23\": 12}, \"48\": {\"48\": 10}, \"35\": {\"35\": 12}, \"56\": {\"56\": 10}, \"18\": {\"18\": 12}, \"5\": {\"5\": 12}, \"42\": {\"42\": 10}, \"49\": {\"49\": 10}, \"36\": {\"36\": 10}, \"39\": {\"39\": 10}, \"57\": {\"57\": 8}, \"47\": {\"47\": 10}, \"31\": {\"31\": 10}}, \"ORACLE.run1_8\": {\"13\": {\"13\": 53, \"7\": 37, \"10\": 56, \"5\": 45, \"1\": 21, \"11\": 12, \"6\": 15, \"8\": 1}, \"9\": {\"9\": 231, \"3\": 9}, \"15\": {\"15\": 105, \"2\": 46, \"12\": 89}, \"2\": {\"15\": 68, \"3\": 36, \"12\": 26, \"2\": 109, \"5\": 1}, \"3\": {\"3\": 218, \"2\": 18, \"9\": 4}, \"8\": {\"14\": 20, \"8\": 72, \"4\": 48, \"7\": 14, \"11\": 32, \"6\": 15, \"1\": 26, \"10\": 10, \"13\": 1, \"5\": 2}, \"5\": {\"1\": 18, \"5\": 46, \"13\": 59, \"11\": 17, \"10\": 42, \"4\": 11, \"7\": 25, \"6\": 16, \"8\": 4, \"12\": 2}, \"14\": {\"11\": 15, \"4\": 59, \"14\": 130, \"8\": 28, \"6\": 1, \"0\": 2, \"10\": 1, \"1\": 4}, \"1\": {\"4\": 14, \"10\": 28, \"7\": 32, \"11\": 25, \"1\": 42, \"5\": 24, \"6\": 40, \"13\": 19, \"8\": 14, \"14\": 2}, \"0\": {\"0\": 229, \"14\": 11}, \"10\": {\"1\": 30, \"7\": 39, \"4\": 7, \"5\": 38, \"6\": 26, \"10\": 44, \"13\": 39, \"11\": 13, \"8\": 4}, \"6\": {\"6\": 46, \"5\": 16, \"11\": 32, \"1\": 41, \"13\": 14, \"10\": 29, \"8\": 19, \"4\": 15, \"7\": 28}, \"11\": {\"1\": 33, \"5\": 20, \"7\": 19, \"6\": 38, \"8\": 36, \"10\": 13, \"14\": 12, \"4\": 24, \"11\": 39, \"13\": 6}, \"7\": {\"6\": 44, \"13\": 32, \"7\": 47, \"10\": 33, \"11\": 16, \"1\": 40, \"8\": 5, \"5\": 20, \"4\": 3}, \"4\": {\"4\": 65, \"7\": 6, \"8\": 47, \"11\": 30, \"1\": 15, \"10\": 6, \"14\": 50, \"6\": 19, \"5\": 2}, \"12\": {\"12\": 131, \"2\": 24, \"15\": 85}}, \"ORACLE.run1_38\": {\"13\": {\"0\": 48, \"10\": 41, \"13\": 93, \"4\": 22, \"14\": 15, \"2\": 10, \"7\": 10, \"5\": 1}, \"12\": {\"5\": 44, \"12\": 129, \"15\": 34, \"8\": 32, \"7\": 1}, \"2\": {\"8\": 14, \"4\": 8, \"7\": 44, \"14\": 64, \"2\": 55, \"9\": 30, \"13\": 18, \"0\": 3, \"5\": 4}, \"9\": {\"5\": 30, \"9\": 84, \"8\": 44, \"0\": 1, \"14\": 15, \"7\": 29, \"2\": 35, \"13\": 2}, \"15\": {\"15\": 136, \"1\": 10, \"12\": 33, \"8\": 20, \"5\": 30, \"6\": 8, \"9\": 3}, \"5\": {\"15\": 27, \"7\": 18, \"13\": 1, \"9\": 34, \"8\": 67, \"2\": 12, \"12\": 23, \"5\": 45, \"14\": 11, \"6\": 1, \"1\": 1}, \"14\": {\"2\": 49, \"13\": 11, \"14\": 73, \"4\": 13, \"7\": 55, \"0\": 11, \"9\": 19, \"8\": 6, \"5\": 1, \"10\": 2}, \"0\": {\"8\": 2, \"0\": 60, \"4\": 26, \"2\": 13, \"13\": 36, \"10\": 69, \"3\": 12, \"14\": 13, \"7\": 6, \"9\": 3}, \"3\": {\"3\": 204, \"11\": 35, \"0\": 1}, \"1\": {\"6\": 106, \"1\": 127, \"15\": 7}, \"11\": {\"11\": 199, \"3\": 41}, \"7\": {\"7\": 61, \"8\": 8, \"2\": 46, \"14\": 61, \"9\": 30, \"0\": 7, \"4\": 13, \"5\": 5, \"13\": 8, \"10\": 1}, \"8\": {\"4\": 3, \"2\": 18, \"8\": 46, \"9\": 29, \"12\": 27, \"15\": 38, \"0\": 3, \"5\": 40, \"14\": 15, \"7\": 20, \"13\": 1}, \"4\": {\"4\": 112, \"7\": 15, \"13\": 19, \"0\": 36, \"14\": 29, \"10\": 24, \"8\": 1, \"2\": 4}, \"10\": {\"10\": 112, \"0\": 58, \"13\": 51, \"4\": 15, \"3\": 4}, \"6\": {\"1\": 114, \"6\": 121, \"15\": 5}}, \"ORACLE.run1_26\": {\"10\": {\"1\": 18, \"6\": 23, \"5\": 20, \"0\": 38, \"15\": 34, \"10\": 44, \"14\": 53, \"7\": 3, \"8\": 4, \"2\": 2, \"11\": 1}, \"12\": {\"2\": 38, \"8\": 36, \"13\": 17, \"12\": 58, \"7\": 29, \"9\": 35, \"3\": 15, \"0\": 5, \"10\": 3, \"14\": 3, \"15\": 1}, \"1\": {\"14\": 27, \"15\": 33, \"10\": 23, \"6\": 51, \"1\": 55, \"5\": 32, \"0\": 6, \"11\": 13}, \"0\": {\"2\": 27, \"5\": 7, \"0\": 54, \"15\": 26, \"1\": 11, \"14\": 36, \"10\": 38, \"6\": 9, \"8\": 11, \"9\": 10, \"12\": 5, \"7\": 5, \"13\": 1}, \"15\": {\"1\": 27, \"15\": 46, \"6\": 39, \"14\": 28, \"5\": 40, \"0\": 14, \"10\": 35, \"12\": 1, \"11\": 6, \"8\": 2, \"2\": 2}, \"13\": {\"12\": 25, \"4\": 17, \"7\": 19, \"9\": 35, \"3\": 50, \"13\": 61, \"8\": 21, \"2\": 11, \"0\": 1}, \"8\": {\"2\": 40, \"9\": 49, \"12\": 32, \"8\": 35, \"7\": 32, \"3\": 24, \"10\": 2, \"13\": 9, \"0\": 14, \"14\": 3}, \"3\": {\"2\": 29, \"4\": 14, \"8\": 19, \"3\": 54, \"13\": 43, \"7\": 32, \"9\": 31, \"12\": 18}, \"11\": {\"11\": 134, \"5\": 34, \"6\": 32, \"1\": 20, \"10\": 4, \"15\": 12, \"14\": 4}, \"4\": {\"4\": 168, \"3\": 24, \"13\": 35, \"2\": 2, \"8\": 1, \"7\": 8, \"9\": 2}, \"6\": {\"14\": 29, \"1\": 35, \"6\": 57, \"5\": 47, \"10\": 23, \"15\": 38, \"0\": 7, \"11\": 4}, \"7\": {\"7\": 46, \"8\": 33, \"3\": 38, \"12\": 27, \"9\": 35, \"2\": 27, \"13\": 25, \"0\": 7, \"10\": 2}, \"14\": {\"1\": 24, \"5\": 25, \"15\": 33, \"14\": 39, \"10\": 49, \"0\": 32, \"6\": 28, \"8\": 4, \"2\": 3, \"9\": 1, \"7\": 2}, \"2\": {\"8\": 38, \"2\": 38, \"0\": 23, \"12\": 30, \"9\": 32, \"3\": 13, \"14\": 7, \"13\": 9, \"7\": 36, \"10\": 10, \"15\": 2, \"5\": 1, \"6\": 1}, \"5\": {\"1\": 29, \"5\": 58, \"15\": 42, \"6\": 49, \"14\": 29, \"10\": 19, \"0\": 6, \"11\": 8}, \"9\": {\"2\": 40, \"12\": 27, \"7\": 34, \"10\": 4, \"3\": 29, \"13\": 14, \"9\": 47, \"0\": 10, \"8\": 33, \"4\": 1, \"14\": 1}}, \"ORACLE.run1_20\": {\"5\": {\"15\": 13, \"5\": 42, \"14\": 10, \"9\": 37, \"1\": 49, \"6\": 11, \"3\": 33, \"2\": 5, \"7\": 17, \"8\": 11, \"12\": 9, \"4\": 2, \"13\": 1}, \"15\": {\"15\": 34, \"9\": 22, \"5\": 11, \"4\": 19, \"7\": 26, \"2\": 31, \"12\": 37, \"13\": 19, \"6\": 9, \"1\": 28, \"10\": 3, \"3\": 1}, \"9\": {\"7\": 31, \"9\": 24, \"1\": 32, \"14\": 11, \"6\": 14, \"15\": 14, \"5\": 51, \"2\": 10, \"3\": 22, \"8\": 9, \"12\": 14, \"4\": 6, \"13\": 2}, \"7\": {\"9\": 21, \"1\": 28, \"7\": 31, \"15\": 18, \"4\": 19, \"6\": 25, \"2\": 27, \"12\": 29, \"5\": 15, \"13\": 8, \"8\": 3, \"3\": 8, \"10\": 4, \"14\": 4}, \"3\": {\"9\": 31, \"11\": 1, \"8\": 35, \"3\": 38, \"6\": 10, \"14\": 23, \"2\": 5, \"5\": 38, \"12\": 3, \"1\": 26, \"15\": 8, \"7\": 15, \"0\": 5, \"4\": 2}, \"8\": {\"9\": 21, \"5\": 26, \"8\": 60, \"14\": 63, \"3\": 31, \"11\": 3, \"0\": 10, \"13\": 1, \"1\": 15, \"6\": 4, \"7\": 5, \"15\": 1}, \"4\": {\"12\": 32, \"2\": 20, \"4\": 41, \"15\": 18, \"5\": 12, \"7\": 32, \"6\": 32, \"1\": 4, \"9\": 12, \"10\": 15, \"3\": 2, \"13\": 20}, \"6\": {\"4\": 28, \"9\": 16, \"15\": 17, \"14\": 8, \"7\": 36, \"6\": 45, \"5\": 13, \"12\": 29, \"13\": 5, \"2\": 19, \"8\": 6, \"1\": 10, \"3\": 4, \"10\": 4}, \"2\": {\"7\": 32, \"13\": 21, \"4\": 23, \"15\": 36, \"2\": 48, \"9\": 6, \"12\": 43, \"6\": 15, \"10\": 5, \"5\": 3, \"1\": 7, \"3\": 1}, \"12\": {\"7\": 23, \"13\": 18, \"4\": 25, \"15\": 40, \"12\": 37, \"2\": 30, \"6\": 23, \"10\": 10, \"1\": 14, \"9\": 8, \"3\": 4, \"5\": 8}, \"0\": {\"11\": 86, \"14\": 9, \"0\": 110, \"8\": 20, \"5\": 4, \"9\": 3, \"3\": 8}, \"13\": {\"12\": 40, \"2\": 37, \"7\": 3, \"10\": 26, \"4\": 20, \"13\": 80, \"9\": 4, \"15\": 25, \"1\": 4, \"6\": 1}, \"10\": {\"13\": 42, \"7\": 8, \"4\": 34, \"10\": 89, \"12\": 16, \"15\": 12, \"2\": 21, \"9\": 2, \"6\": 16}, \"11\": {\"11\": 130, \"0\": 99, \"8\": 8, \"14\": 3}, \"14\": {\"14\": 78, \"8\": 49, \"5\": 30, \"6\": 9, \"3\": 30, \"9\": 13, \"7\": 14, \"1\": 11, \"11\": 1, \"0\": 1, \"4\": 3, \"12\": 1}, \"1\": {\"9\": 26, \"7\": 25, \"5\": 41, \"3\": 21, \"6\": 12, \"14\": 9, \"12\": 12, \"2\": 12, \"15\": 21, \"1\": 41, \"8\": 9, \"4\": 9, \"13\": 2}}, \"ORACLE.run1_50\": {\"1\": {\"1\": 107, \"8\": 47, \"13\": 48, \"10\": 28, \"11\": 5, \"12\": 2, \"0\": 3}, \"2\": {\"0\": 59, \"2\": 90, \"14\": 82, \"10\": 9}, \"8\": {\"8\": 104, \"10\": 38, \"13\": 36, \"1\": 58, \"11\": 4}, \"7\": {\"4\": 75, \"5\": 39, \"9\": 6, \"7\": 106, \"15\": 6, \"3\": 3, \"6\": 4, \"12\": 1}, \"14\": {\"14\": 100, \"2\": 83, \"0\": 51, \"10\": 6}, \"6\": {\"6\": 52, \"15\": 38, \"11\": 17, \"9\": 39, \"3\": 33, \"12\": 24, \"5\": 32, \"7\": 3, \"4\": 2}, \"3\": {\"6\": 39, \"5\": 36, \"3\": 66, \"9\": 21, \"15\": 29, \"12\": 27, \"7\": 2, \"13\": 3, \"11\": 13, \"4\": 4}, \"4\": {\"4\": 81, \"7\": 92, \"5\": 44, \"9\": 6, \"3\": 7, \"15\": 5, \"6\": 4, \"12\": 1}, \"12\": {\"9\": 50, \"12\": 70, \"5\": 7, \"6\": 35, \"15\": 25, \"11\": 25, \"3\": 23, \"13\": 5}, \"15\": {\"9\": 51, \"6\": 40, \"11\": 17, \"5\": 33, \"3\": 22, \"15\": 42, \"12\": 30, \"7\": 2, \"4\": 2, \"13\": 1}, \"11\": {\"6\": 26, \"11\": 85, \"13\": 22, \"12\": 38, \"9\": 20, \"3\": 10, \"1\": 3, \"15\": 28, \"5\": 8}, \"0\": {\"0\": 87, \"2\": 62, \"1\": 8, \"10\": 42, \"14\": 41}, \"9\": {\"9\": 59, \"6\": 43, \"11\": 11, \"5\": 23, \"15\": 40, \"13\": 4, \"3\": 16, \"12\": 30, \"4\": 8, \"7\": 6}, \"10\": {\"10\": 96, \"1\": 42, \"8\": 41, \"0\": 44, \"14\": 7, \"2\": 9, \"13\": 1}, \"5\": {\"11\": 10, \"9\": 20, \"5\": 52, \"6\": 25, \"4\": 31, \"3\": 23, \"7\": 36, \"15\": 28, \"13\": 7, \"12\": 8}, \"13\": {\"13\": 93, \"1\": 48, \"11\": 43, \"9\": 7, \"8\": 31, \"5\": 1, \"15\": 3, \"12\": 6, \"6\": 6, \"10\": 2}}, \"ORACLE.run1_32\": {\"2\": {\"2\": 99, \"4\": 76, \"13\": 10, \"3\": 23, \"14\": 14, \"0\": 3, \"8\": 8, \"1\": 6, \"9\": 1}, \"6\": {\"6\": 217, \"10\": 21, \"9\": 1, \"12\": 1}, \"5\": {\"0\": 49, \"5\": 76, \"7\": 64, \"14\": 22, \"15\": 8, \"8\": 21}, \"12\": {\"9\": 39, \"10\": 58, \"12\": 115, \"11\": 26, \"6\": 1, \"13\": 1}, \"13\": {\"4\": 30, \"3\": 66, \"2\": 12, \"13\": 75, \"9\": 37, \"11\": 19, \"12\": 1}, \"9\": {\"4\": 23, \"9\": 77, \"11\": 26, \"13\": 35, \"12\": 39, \"3\": 15, \"2\": 11, \"10\": 14}, \"11\": {\"9\": 27, \"13\": 37, \"11\": 135, \"12\": 28, \"3\": 10, \"10\": 2, \"4\": 1}, \"1\": {\"14\": 17, \"1\": 158, \"0\": 18, \"2\": 25, \"7\": 6, \"8\": 12, \"4\": 3, \"5\": 1}, \"3\": {\"4\": 51, \"2\": 27, \"13\": 58, \"3\": 93, \"9\": 6, \"11\": 4, \"8\": 1}, \"7\": {\"15\": 10, \"7\": 74, \"8\": 26, \"14\": 36, \"5\": 50, \"0\": 44}, \"14\": {\"2\": 15, \"14\": 52, \"5\": 41, \"8\": 39, \"7\": 36, \"0\": 49, \"15\": 5, \"1\": 1, \"3\": 1, \"4\": 1}, \"8\": {\"8\": 65, \"7\": 26, \"5\": 14, \"0\": 48, \"4\": 10, \"14\": 45, \"3\": 3, \"15\": 18, \"2\": 11}, \"4\": {\"4\": 74, \"3\": 42, \"2\": 73, \"9\": 10, \"13\": 31, \"11\": 2, \"8\": 3, \"14\": 3, \"1\": 1, \"0\": 1}, \"0\": {\"15\": 9, \"5\": 38, \"8\": 33, \"0\": 60, \"7\": 51, \"14\": 42, \"1\": 3, \"2\": 4}, \"10\": {\"10\": 131, \"12\": 87, \"9\": 12, \"6\": 6, \"11\": 4}, \"15\": {\"0\": 30, \"15\": 108, \"5\": 42, \"7\": 29, \"8\": 20, \"14\": 11}}, \"ORACLE.run1_44\": {\"13\": {\"6\": 75, \"13\": 112, \"4\": 4, \"10\": 5, \"9\": 29, \"7\": 7, \"11\": 6, \"5\": 2}, \"4\": {\"4\": 44, \"14\": 37, \"15\": 17, \"5\": 18, \"9\": 34, \"7\": 31, \"6\": 9, \"10\": 14, \"1\": 6, \"13\": 3, \"8\": 18, \"2\": 8, \"0\": 1}, \"6\": {\"13\": 70, \"6\": 88, \"4\": 8, \"9\": 52, \"10\": 4, \"7\": 16, \"5\": 2}, \"0\": {\"15\": 14, \"0\": 121, \"8\": 53, \"1\": 35, \"2\": 9, \"5\": 3, \"4\": 1, \"14\": 1, \"3\": 3}, \"10\": {\"7\": 57, \"6\": 19, \"4\": 11, \"10\": 60, \"9\": 45, \"14\": 10, \"13\": 2, \"8\": 1, \"1\": 5, \"15\": 10, \"5\": 11, \"2\": 9}, \"7\": {\"9\": 39, \"13\": 2, \"5\": 14, \"10\": 56, \"14\": 16, \"7\": 60, \"4\": 30, \"6\": 16, \"15\": 4, \"2\": 3}, \"14\": {\"14\": 71, \"9\": 11, \"5\": 46, \"4\": 44, \"15\": 32, \"10\": 8, \"7\": 15, \"1\": 3, \"8\": 5, \"2\": 4, \"6\": 1}, \"15\": {\"15\": 56, \"9\": 5, \"14\": 35, \"8\": 54, \"5\": 34, \"2\": 11, \"4\": 17, \"1\": 7, \"0\": 10, \"7\": 6, \"10\": 5}, \"5\": {\"7\": 19, \"15\": 34, \"4\": 38, \"14\": 58, \"9\": 18, \"8\": 16, \"5\": 35, \"2\": 11, \"10\": 7, \"0\": 2, \"1\": 2}, \"2\": {\"2\": 88, \"1\": 72, \"15\": 28, \"8\": 8, \"5\": 8, \"14\": 14, \"4\": 6, \"0\": 6, \"10\": 6, \"9\": 2, \"7\": 2}, \"9\": {\"7\": 42, \"4\": 15, \"6\": 35, \"15\": 7, \"13\": 31, \"9\": 32, \"14\": 18, \"5\": 17, \"10\": 26, \"1\": 2, \"8\": 4, \"2\": 10, \"11\": 1}, \"12\": {\"12\": 137, \"3\": 102, \"0\": 1}, \"8\": {\"8\": 72, \"1\": 22, \"0\": 57, \"5\": 13, \"15\": 54, \"14\": 8, \"4\": 8, \"2\": 5, \"12\": 1}, \"3\": {\"12\": 109, \"3\": 131}, \"1\": {\"1\": 98, \"2\": 72, \"15\": 13, \"0\": 27, \"8\": 20, \"10\": 3, \"5\": 2, \"14\": 4, \"7\": 1}, \"11\": {\"13\": 16, \"11\": 223, \"6\": 1}}, \"ORACLE.run1_14\": {\"1\": {\"1\": 146, \"9\": 83, \"10\": 11}, \"15\": {\"15\": 240}, \"10\": {\"10\": 117, \"4\": 63, \"9\": 22, \"12\": 9, \"5\": 2, \"1\": 20, \"0\": 1, \"8\": 1, \"2\": 5}, \"2\": {\"8\": 9, \"13\": 11, \"10\": 3, \"5\": 49, \"4\": 36, \"14\": 25, \"2\": 38, \"0\": 32, \"12\": 8, \"7\": 9, \"3\": 13, \"6\": 7}, \"9\": {\"9\": 143, \"1\": 77, \"10\": 20}, \"5\": {\"5\": 67, \"2\": 46, \"6\": 1, \"14\": 22, \"7\": 24, \"4\": 12, \"12\": 16, \"0\": 22, \"8\": 26, \"13\": 3, \"3\": 1}, \"7\": {\"2\": 17, \"5\": 25, \"6\": 4, \"0\": 35, \"3\": 30, \"7\": 68, \"14\": 36, \"13\": 17, \"8\": 8}, \"13\": {\"7\": 8, \"3\": 34, \"6\": 54, \"15\": 17, \"14\": 29, \"8\": 6, \"5\": 15, \"2\": 20, \"13\": 45, \"0\": 10, \"4\": 2}, \"8\": {\"5\": 35, \"12\": 43, \"0\": 26, \"8\": 82, \"3\": 5, \"14\": 8, \"7\": 13, \"2\": 18, \"4\": 9, \"6\": 1}, \"6\": {\"6\": 88, \"13\": 46, \"3\": 58, \"14\": 13, \"7\": 13, \"2\": 11, \"5\": 2, \"8\": 1, \"0\": 8}, \"3\": {\"6\": 38, \"0\": 38, \"14\": 31, \"3\": 65, \"13\": 42, \"7\": 15, \"2\": 10, \"5\": 1}, \"12\": {\"4\": 13, \"12\": 129, \"8\": 72, \"5\": 14, \"14\": 1, \"10\": 2, \"2\": 5, \"0\": 3, \"7\": 1}, \"0\": {\"13\": 9, \"5\": 38, \"0\": 37, \"3\": 32, \"2\": 21, \"14\": 32, \"8\": 20, \"7\": 22, \"4\": 10, \"6\": 13, \"12\": 6}, \"4\": {\"8\": 8, \"4\": 114, \"12\": 17, \"2\": 14, \"10\": 56, \"5\": 23, \"9\": 2, \"14\": 2, \"0\": 3, \"1\": 1}, \"14\": {\"0\": 35, \"2\": 30, \"14\": 57, \"3\": 34, \"7\": 24, \"5\": 23, \"13\": 16, \"6\": 16, \"4\": 1, \"8\": 4}, \"11\": {\"11\": 238, \"1\": 2}}}, \"per_domain_accuracy\": {\"W_A_2\": {\"accuracy\": 0.9627659574468085, \"source?\": true}, \"C_A_2\": {\"accuracy\": 1.0, \"source?\": true}, \"W_A_4\": {\"accuracy\": 0.9680989583333334, \"source?\": true}, \"C_A_5\": {\"accuracy\": 0.9984375, \"source?\": true}, \"W_A_1\": {\"accuracy\": 0.98046875, \"source?\": true}, \"C_A_1\": {\"accuracy\": 1.0, \"source?\": true}, \"W_A_3\": {\"accuracy\": 0.9680989583333334, \"source?\": true}, \"C_A_4\": {\"accuracy\": 0.9984375, \"source?\": true}, \"C_A_3\": {\"accuracy\": 0.996875, \"source?\": true}, \"ORACLE.run1_8\": {\"accuracy\": 0.41848958333333336, \"source?\": false}, \"ORACLE.run1_38\": {\"accuracy\": 0.4315104166666667, \"source?\": false}, \"ORACLE.run1_26\": {\"accuracy\": 0.25885416666666666, \"source?\": false}, \"ORACLE.run1_20\": {\"accuracy\": 0.24166666666666667, \"source?\": false}, \"ORACLE.run1_50\": {\"accuracy\": 0.3359375, \"source?\": false}, \"ORACLE.run1_32\": {\"accuracy\": 0.41901041666666666, \"source?\": false}, \"ORACLE.run1_44\": {\"accuracy\": 0.371875, \"source?\": false}, \"ORACLE.run1_14\": {\"accuracy\": 0.4359375, \"source?\": false}}}, \"history\": {\"epoch_indices\": [1, 2, 3, 4, 5, 6, 7, 8, 9, 10, 11, 12, 13, 14], \"train_label_loss\": [0.3410459605368204, 0.19059507529040834, 0.15123339936855598, 0.12587507144546822, 0.11306189646118303, 0.09874178884374234, 0.08991287977868209, 0.08254546628202199, 0.07593219618626836, 0.06726204660208081, 0.059607274273091, 0.052203496338509146, 0.04670234338819118, 0.04224304554208054], \"source_val_label_loss\": [0.21889327466487885, 0.15391753613948822, 0.1273418366909027, 0.11083082854747772, 0.109010249376297, 0.1012180745601654, 0.1044582724571228, 0.09576781094074249, 0.10047277063131332, 0.09900053590536118, 0.09334766864776611, 0.10352842509746552, 0.10768208652734756, 0.10929061472415924], \"target_val_label_loss\": [2.513248920440674, 2.3969123363494873, 2.336669445037842, 2.2255866527557373, 2.224656105041504, 2.182051420211792, 2.161890745162964, 2.0914855003356934, 2.258605718612671, 2.0371341705322266, 2.2200827598571777, 2.198707342147827, 2.178891897201538, 2.2669334411621094], \"source_val_acc_label\": [0.9548969072164949, 0.9637027491408935, 0.9717568728522337, 0.9735824742268041, 0.9751932989690721, 0.978844501718213, 0.976159793814433, 0.9779853951890034, 0.9779853951890034, 0.9798109965635738, 0.979381443298969, 0.9794888316151202, 0.9770189003436426, 0.9778780068728522], \"target_val_acc_label\": [0.55576171875, 0.56826171875, 0.5505208333333333, 0.5462239583333334, 0.51396484375, 0.44925130208333336, 0.3943684895833333, 0.38701171875, 0.31643880208333336, 0.36416015625, 0.28128255208333336, 0.2687174479166667, 0.2755859375, 0.25224609375]}, \"dataset_metrics\": {\"source\": {\"train\": {\"n_unique_x\": 56700, \"n_unique_y\": 130, \"n_batch/episode\": 2076}, \"val\": {\"n_unique_x\": 12122, \"n_unique_y\": 130, \"n_batch/episode\": 291}, \"test\": {\"n_unique_x\": 12122, \"n_unique_y\": 130, \"n_batch/episode\": 291}}, \"target\": {\"train\": {\"n_unique_x\": 179200, \"n_unique_y\": 16, \"n_batch/episode\": 6720}, \"val\": {\"n_unique_x\": 38400, \"n_unique_y\": 16, \"n_batch/episode\": 960}, \"test\": {\"n_unique_x\": 38400, \"n_unique_y\": 16, \"n_batch/episode\": 960}}}}'"
      ]
     },
     "execution_count": 29,
     "metadata": {},
     "output_type": "execute_result"
    }
   ],
   "source": [
    "json.dumps(experiment)"
   ]
  }
 ],
 "metadata": {
  "celltoolbar": "Tags",
  "kernelspec": {
   "display_name": "Python 3 (ipykernel)",
   "language": "python",
   "name": "python3"
  },
  "language_info": {
   "codemirror_mode": {
    "name": "ipython",
    "version": 3
   },
   "file_extension": ".py",
   "mimetype": "text/x-python",
   "name": "python",
   "nbconvert_exporter": "python",
   "pygments_lexer": "ipython3",
   "version": "3.8.10"
  },
  "papermill": {
   "default_parameters": {},
   "duration": 864.314158,
   "end_time": "2022-03-18T22:41:32.032092",
   "environment_variables": {},
   "exception": null,
   "input_path": "/mnt/wd500GB/CSC500/csc500-main/csc500-notebooks/templates/tl_ptn_template.ipynb",
   "output_path": "trial.ipynb",
   "parameters": {
    "parameters": {
     "BEST_MODEL_PATH": "./best_model.pth",
     "NUM_LOGS_PER_EPOCH": 10,
     "criteria_for_best": "target_loss",
     "dataset_seed": 154325,
     "datasets": [
      {
       "domain_prefix": "C_A_",
       "domains": [
        1,
        2,
        3,
        4,
        5
       ],
       "episode_transforms": [],
       "labels": [
        "1-10.",
        "1-11.",
        "1-15.",
        "1-16.",
        "1-17.",
        "1-18.",
        "1-19.",
        "10-4.",
        "10-7.",
        "11-1.",
        "11-14.",
        "11-17.",
        "11-20.",
        "11-7.",
        "13-20.",
        "13-8.",
        "14-10.",
        "14-11.",
        "14-14.",
        "14-7.",
        "15-1.",
        "15-20.",
        "16-1.",
        "16-16.",
        "17-10.",
        "17-11.",
        "17-2.",
        "19-1.",
        "19-16.",
        "19-19.",
        "19-20.",
        "19-3.",
        "2-10.",
        "2-11.",
        "2-17.",
        "2-18.",
        "2-20.",
        "2-3.",
        "2-4.",
        "2-5.",
        "2-6.",
        "2-7.",
        "2-8.",
        "3-13.",
        "3-18.",
        "3-3.",
        "4-1.",
        "4-10.",
        "4-11.",
        "4-19.",
        "5-5.",
        "6-15.",
        "7-10.",
        "7-14.",
        "8-18.",
        "8-20.",
        "8-3.",
        "8-8."
       ],
       "num_examples_per_domain_per_label": 100,
       "pickle_path": "/mnt/wd500GB/CSC500/csc500-main/datasets/cores.stratified_ds.2022A.pkl",
       "source_or_target_dataset": "source",
       "x_transforms": [
        "take_200"
       ]
      },
      {
       "domain_prefix": "W_A_",
       "domains": [
        1,
        2,
        3,
        4
       ],
       "episode_transforms": [],
       "labels": [
        "1-10",
        "1-12",
        "1-14",
        "1-16",
        "1-18",
        "1-19",
        "1-8",
        "10-11",
        "10-17",
        "10-4",
        "10-7",
        "11-1",
        "11-10",
        "11-19",
        "11-20",
        "11-4",
        "11-7",
        "12-19",
        "12-20",
        "12-7",
        "13-14",
        "13-18",
        "13-19",
        "13-20",
        "13-3",
        "13-7",
        "14-10",
        "14-11",
        "14-12",
        "14-13",
        "14-14",
        "14-19",
        "14-20",
        "14-7",
        "14-8",
        "14-9",
        "15-1",
        "15-19",
        "15-6",
        "16-1",
        "16-16",
        "16-19",
        "16-20",
        "17-10",
        "17-11",
        "18-1",
        "18-10",
        "18-11",
        "18-12",
        "18-13",
        "18-14",
        "18-15",
        "18-16",
        "18-17",
        "18-19",
        "18-2",
        "18-20",
        "18-4",
        "18-5",
        "18-7",
        "18-8",
        "18-9",
        "19-1",
        "19-10",
        "19-11",
        "19-12",
        "19-13",
        "19-14",
        "19-15",
        "19-19",
        "19-2",
        "19-20",
        "19-3",
        "19-4",
        "19-6",
        "19-7",
        "19-8",
        "19-9",
        "2-1",
        "2-13",
        "2-15",
        "2-3",
        "2-4",
        "2-5",
        "2-6",
        "2-7",
        "2-8",
        "20-1",
        "20-12",
        "20-14",
        "20-15",
        "20-16",
        "20-18",
        "20-19",
        "20-20",
        "20-3",
        "20-4",
        "20-5",
        "20-7",
        "20-8",
        "3-1",
        "3-13",
        "3-18",
        "3-2",
        "3-8",
        "4-1",
        "4-10",
        "4-11",
        "5-1",
        "5-5",
        "6-1",
        "6-15",
        "6-6",
        "7-10",
        "7-11",
        "7-12",
        "7-13",
        "7-14",
        "7-7",
        "7-8",
        "7-9",
        "8-1",
        "8-13",
        "8-14",
        "8-18",
        "8-20",
        "8-3",
        "8-8",
        "9-1",
        "9-7"
       ],
       "num_examples_per_domain_per_label": 100,
       "pickle_path": "/mnt/wd500GB/CSC500/csc500-main/datasets/wisig.node3-19.stratified_ds.2022A.pkl",
       "source_or_target_dataset": "source",
       "x_transforms": [
        "take_200"
       ]
      },
      {
       "domain_prefix": "ORACLE.run1_",
       "domains": [
        32,
        38,
        8,
        44,
        14,
        50,
        20,
        26
       ],
       "episode_transforms": [],
       "labels": [
        "3123D52",
        "3123D65",
        "3123D79",
        "3123D80",
        "3123D54",
        "3123D70",
        "3123D7B",
        "3123D89",
        "3123D58",
        "3123D76",
        "3123D7D",
        "3123EFE",
        "3123D64",
        "3123D78",
        "3123D7E",
        "3124E4A"
       ],
       "num_examples_per_domain_per_label": 2000,
       "pickle_path": "/mnt/wd500GB/CSC500/csc500-main/datasets/oracle.Run1_framed_2000Examples_stratified_ds.2022A.pkl",
       "source_or_target_dataset": "target",
       "x_transforms": [
        "take_200",
        "resample_20Msps_to_25Msps"
       ]
      }
     ],
     "device": "cuda",
     "experiment_name": "tl_3A:cores+wisig -> oracle.run1.framed",
     "lr": 0.001,
     "n_epoch": 50,
     "n_query": 2,
     "n_shot": 3,
     "n_way": 16,
     "patience": 3,
     "seed": 154325,
     "test_k_factor": 2,
     "torch_default_dtype": "torch.float32",
     "train_k_factor": 3,
     "val_k_factor": 2,
     "x_net": [
      {
       "class": "nnReshape",
       "kargs": {
        "shape": [
         -1,
         1,
         2,
         200
        ]
       }
      },
      {
       "class": "Conv2d",
       "kargs": {
        "bias": false,
        "in_channels": 1,
        "kernel_size": [
         1,
         7
        ],
        "out_channels": 256,
        "padding": [
         0,
         3
        ]
       }
      },
      {
       "class": "ReLU",
       "kargs": {
        "inplace": true
       }
      },
      {
       "class": "BatchNorm2d",
       "kargs": {
        "num_features": 256
       }
      },
      {
       "class": "Conv2d",
       "kargs": {
        "bias": true,
        "in_channels": 256,
        "kernel_size": [
         2,
         7
        ],
        "out_channels": 80,
        "padding": [
         0,
         3
        ]
       }
      },
      {
       "class": "ReLU",
       "kargs": {
        "inplace": true
       }
      },
      {
       "class": "BatchNorm2d",
       "kargs": {
        "num_features": 80
       }
      },
      {
       "class": "Flatten",
       "kargs": {}
      },
      {
       "class": "Linear",
       "kargs": {
        "in_features": 16000,
        "out_features": 256
       }
      },
      {
       "class": "ReLU",
       "kargs": {
        "inplace": true
       }
      },
      {
       "class": "BatchNorm1d",
       "kargs": {
        "num_features": 256
       }
      },
      {
       "class": "Linear",
       "kargs": {
        "in_features": 256,
        "out_features": 256
       }
      }
     ],
     "x_shape": [
      2,
      200
     ]
    }
   },
   "start_time": "2022-03-18T22:27:07.717934",
   "version": "2.3.4"
  }
 },
 "nbformat": 4,
 "nbformat_minor": 5
}