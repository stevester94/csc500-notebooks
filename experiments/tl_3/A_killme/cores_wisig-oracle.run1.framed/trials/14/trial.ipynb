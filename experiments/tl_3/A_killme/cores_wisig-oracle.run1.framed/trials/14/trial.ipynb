{
 "cells": [
  {
   "cell_type": "markdown",
   "id": "9fea5f46",
   "metadata": {
    "papermill": {
     "duration": 0.017361,
     "end_time": "2022-03-18T23:29:15.396237",
     "exception": false,
     "start_time": "2022-03-18T23:29:15.378876",
     "status": "completed"
    },
    "tags": []
   },
   "source": [
    "# Transfer Learning Template"
   ]
  },
  {
   "cell_type": "code",
   "execution_count": 1,
   "id": "0902182a",
   "metadata": {
    "execution": {
     "iopub.execute_input": "2022-03-18T23:29:15.433843Z",
     "iopub.status.busy": "2022-03-18T23:29:15.433457Z",
     "iopub.status.idle": "2022-03-18T23:29:16.330944Z",
     "shell.execute_reply": "2022-03-18T23:29:16.330655Z"
    },
    "papermill": {
     "duration": 0.922193,
     "end_time": "2022-03-18T23:29:16.331016",
     "exception": false,
     "start_time": "2022-03-18T23:29:15.408823",
     "status": "completed"
    },
    "tags": []
   },
   "outputs": [],
   "source": [
    "%load_ext autoreload\n",
    "%autoreload 2\n",
    "%matplotlib inline\n",
    "\n",
    "    \n",
    "import os, json, sys, time, random\n",
    "import numpy as np\n",
    "import torch\n",
    "from torch.optim import Adam\n",
    "from  easydict import EasyDict\n",
    "import matplotlib.pyplot as plt\n",
    "\n",
    "from steves_models.steves_ptn import Steves_Prototypical_Network\n",
    "\n",
    "from steves_utils.lazy_iterable_wrapper import Lazy_Iterable_Wrapper\n",
    "from steves_utils.iterable_aggregator import Iterable_Aggregator\n",
    "from steves_utils.ptn_train_eval_test_jig import  PTN_Train_Eval_Test_Jig\n",
    "from steves_utils.torch_sequential_builder import build_sequential\n",
    "from steves_utils.torch_utils import get_dataset_metrics, ptn_confusion_by_domain_over_dataloader\n",
    "from steves_utils.utils_v2 import (per_domain_accuracy_from_confusion, get_datasets_base_path)\n",
    "from steves_utils.PTN.utils import independent_accuracy_assesment\n",
    "\n",
    "from torch.utils.data import DataLoader\n",
    "\n",
    "from steves_utils.stratified_dataset.episodic_accessor import Episodic_Accessor_Factory\n",
    "\n",
    "from steves_utils.ptn_do_report import (\n",
    "    get_loss_curve,\n",
    "    get_results_table,\n",
    "    get_parameters_table,\n",
    "    get_domain_accuracies,\n",
    ")\n",
    "\n",
    "from steves_utils.transforms import get_chained_transform"
   ]
  },
  {
   "cell_type": "markdown",
   "id": "41c840b4",
   "metadata": {
    "papermill": {
     "duration": 0.012673,
     "end_time": "2022-03-18T23:29:16.356715",
     "exception": false,
     "start_time": "2022-03-18T23:29:16.344042",
     "status": "completed"
    },
    "tags": []
   },
   "source": [
    "# Allowed Parameters\n",
    "These are allowed parameters, not defaults\n",
    "Each of these values need to be present in the injected parameters (the notebook will raise an exception if they are not present)\n",
    "\n",
    "Papermill uses the cell tag \"parameters\" to inject the real parameters below this cell.\n",
    "Enable tags to see what I mean"
   ]
  },
  {
   "cell_type": "code",
   "execution_count": 2,
   "id": "fd44eb83",
   "metadata": {
    "execution": {
     "iopub.execute_input": "2022-03-18T23:29:16.386809Z",
     "iopub.status.busy": "2022-03-18T23:29:16.385321Z",
     "iopub.status.idle": "2022-03-18T23:29:16.395594Z",
     "shell.execute_reply": "2022-03-18T23:29:16.395328Z"
    },
    "papermill": {
     "duration": 0.026295,
     "end_time": "2022-03-18T23:29:16.395645",
     "exception": false,
     "start_time": "2022-03-18T23:29:16.369350",
     "status": "completed"
    },
    "tags": []
   },
   "outputs": [],
   "source": [
    "required_parameters = {\n",
    "    \"experiment_name\",\n",
    "    \"lr\",\n",
    "    \"device\",\n",
    "    \"seed\",\n",
    "    \"dataset_seed\",\n",
    "    \"n_shot\",\n",
    "    \"n_query\",\n",
    "    \"n_way\",\n",
    "    \"train_k_factor\",\n",
    "    \"val_k_factor\",\n",
    "    \"test_k_factor\",\n",
    "    \"n_epoch\",\n",
    "    \"patience\",\n",
    "    \"criteria_for_best\",\n",
    "    \"x_net\",\n",
    "    \"datasets\",\n",
    "    \"torch_default_dtype\",\n",
    "    \"NUM_LOGS_PER_EPOCH\",\n",
    "    \"BEST_MODEL_PATH\",\n",
    "    \"x_shape\",\n",
    "}"
   ]
  },
  {
   "cell_type": "code",
   "execution_count": 3,
   "id": "fa3f0049",
   "metadata": {
    "execution": {
     "iopub.execute_input": "2022-03-18T23:29:16.426946Z",
     "iopub.status.busy": "2022-03-18T23:29:16.426624Z",
     "iopub.status.idle": "2022-03-18T23:29:16.439266Z",
     "shell.execute_reply": "2022-03-18T23:29:16.438770Z"
    },
    "papermill": {
     "duration": 0.031142,
     "end_time": "2022-03-18T23:29:16.439364",
     "exception": false,
     "start_time": "2022-03-18T23:29:16.408222",
     "status": "completed"
    },
    "tags": [
     "parameters"
    ]
   },
   "outputs": [],
   "source": [
    "from steves_utils.CORES.utils import (\n",
    "    ALL_NODES,\n",
    "    ALL_NODES_MINIMUM_1000_EXAMPLES,\n",
    "    ALL_DAYS\n",
    ")\n",
    "\n",
    "from steves_utils.ORACLE.utils_v2 import (\n",
    "    ALL_DISTANCES_FEET_NARROWED,\n",
    "    ALL_RUNS,\n",
    "    ALL_SERIAL_NUMBERS,\n",
    ")\n",
    "\n",
    "standalone_parameters = {}\n",
    "standalone_parameters[\"experiment_name\"] = \"STANDALONE PTN\"\n",
    "standalone_parameters[\"lr\"] = 0.001\n",
    "standalone_parameters[\"device\"] = \"cuda\"\n",
    "\n",
    "standalone_parameters[\"seed\"] = 1337\n",
    "standalone_parameters[\"dataset_seed\"] = 1337\n",
    "\n",
    "standalone_parameters[\"n_way\"] = 8\n",
    "standalone_parameters[\"n_shot\"] = 3\n",
    "standalone_parameters[\"n_query\"]  = 2\n",
    "standalone_parameters[\"train_k_factor\"] = 1\n",
    "standalone_parameters[\"val_k_factor\"] = 2\n",
    "standalone_parameters[\"test_k_factor\"] = 2\n",
    "\n",
    "\n",
    "standalone_parameters[\"n_epoch\"] = 50\n",
    "\n",
    "standalone_parameters[\"patience\"] = 10\n",
    "standalone_parameters[\"criteria_for_best\"] = \"source_loss\"\n",
    "\n",
    "standalone_parameters[\"datasets\"] = [\n",
    "    {\n",
    "        \"labels\": ALL_SERIAL_NUMBERS,\n",
    "        \"domains\": ALL_DISTANCES_FEET_NARROWED,\n",
    "        \"num_examples_per_domain_per_label\": 100,\n",
    "        \"pickle_path\": os.path.join(get_datasets_base_path(), \"oracle.Run1_framed_2000Examples_stratified_ds.2022A.pkl\"),\n",
    "        \"source_or_target_dataset\": \"source\",\n",
    "        \"x_transforms\": [\"unit_mag\", \"minus_two\"],\n",
    "        \"episode_transforms\": [],\n",
    "        \"domain_prefix\": \"ORACLE_\"\n",
    "    },\n",
    "    {\n",
    "        \"labels\": ALL_NODES,\n",
    "        \"domains\": ALL_DAYS,\n",
    "        \"num_examples_per_domain_per_label\": 100,\n",
    "        \"pickle_path\": os.path.join(get_datasets_base_path(), \"cores.stratified_ds.2022A.pkl\"),\n",
    "        \"source_or_target_dataset\": \"target\",\n",
    "        \"x_transforms\": [\"unit_power\", \"times_zero\"],\n",
    "        \"episode_transforms\": [],\n",
    "        \"domain_prefix\": \"CORES_\"\n",
    "    }   \n",
    "]\n",
    "\n",
    "standalone_parameters[\"torch_default_dtype\"] = \"torch.float32\" \n",
    "\n",
    "\n",
    "\n",
    "standalone_parameters[\"x_net\"] =     [\n",
    "    {\"class\": \"nnReshape\", \"kargs\": {\"shape\":[-1, 1, 2, 256]}},\n",
    "    {\"class\": \"Conv2d\", \"kargs\": { \"in_channels\":1, \"out_channels\":256, \"kernel_size\":(1,7), \"bias\":False, \"padding\":(0,3), },},\n",
    "    {\"class\": \"ReLU\", \"kargs\": {\"inplace\": True}},\n",
    "    {\"class\": \"BatchNorm2d\", \"kargs\": {\"num_features\":256}},\n",
    "\n",
    "    {\"class\": \"Conv2d\", \"kargs\": { \"in_channels\":256, \"out_channels\":80, \"kernel_size\":(2,7), \"bias\":True, \"padding\":(0,3), },},\n",
    "    {\"class\": \"ReLU\", \"kargs\": {\"inplace\": True}},\n",
    "    {\"class\": \"BatchNorm2d\", \"kargs\": {\"num_features\":80}},\n",
    "    {\"class\": \"Flatten\", \"kargs\": {}},\n",
    "\n",
    "    {\"class\": \"Linear\", \"kargs\": {\"in_features\": 80*256, \"out_features\": 256}}, # 80 units per IQ pair\n",
    "    {\"class\": \"ReLU\", \"kargs\": {\"inplace\": True}},\n",
    "    {\"class\": \"BatchNorm1d\", \"kargs\": {\"num_features\":256}},\n",
    "\n",
    "    {\"class\": \"Linear\", \"kargs\": {\"in_features\": 256, \"out_features\": 256}},\n",
    "]\n",
    "\n",
    "# Parameters relevant to results\n",
    "# These parameters will basically never need to change\n",
    "standalone_parameters[\"NUM_LOGS_PER_EPOCH\"] = 10\n",
    "standalone_parameters[\"BEST_MODEL_PATH\"] = \"./best_model.pth\"\n",
    "\n",
    "\n",
    "\n",
    "\n"
   ]
  },
  {
   "cell_type": "code",
   "execution_count": 4,
   "id": "0dc0e4a0",
   "metadata": {
    "execution": {
     "iopub.execute_input": "2022-03-18T23:29:16.483402Z",
     "iopub.status.busy": "2022-03-18T23:29:16.472531Z",
     "iopub.status.idle": "2022-03-18T23:29:16.498485Z",
     "shell.execute_reply": "2022-03-18T23:29:16.498053Z"
    },
    "papermill": {
     "duration": 0.040175,
     "end_time": "2022-03-18T23:29:16.498577",
     "exception": false,
     "start_time": "2022-03-18T23:29:16.458402",
     "status": "completed"
    },
    "tags": [
     "injected-parameters"
    ]
   },
   "outputs": [],
   "source": [
    "# Parameters\n",
    "parameters = {\n",
    "    \"experiment_name\": \"tl_3A:cores+wisig -> oracle.run1.framed\",\n",
    "    \"device\": \"cuda\",\n",
    "    \"lr\": 0.001,\n",
    "    \"x_shape\": [2, 200],\n",
    "    \"n_shot\": 3,\n",
    "    \"n_query\": 2,\n",
    "    \"train_k_factor\": 3,\n",
    "    \"val_k_factor\": 2,\n",
    "    \"test_k_factor\": 2,\n",
    "    \"torch_default_dtype\": \"torch.float32\",\n",
    "    \"n_epoch\": 50,\n",
    "    \"patience\": 3,\n",
    "    \"criteria_for_best\": \"target_loss\",\n",
    "    \"x_net\": [\n",
    "        {\"class\": \"nnReshape\", \"kargs\": {\"shape\": [-1, 1, 2, 200]}},\n",
    "        {\n",
    "            \"class\": \"Conv2d\",\n",
    "            \"kargs\": {\n",
    "                \"in_channels\": 1,\n",
    "                \"out_channels\": 256,\n",
    "                \"kernel_size\": [1, 7],\n",
    "                \"bias\": False,\n",
    "                \"padding\": [0, 3],\n",
    "            },\n",
    "        },\n",
    "        {\"class\": \"ReLU\", \"kargs\": {\"inplace\": True}},\n",
    "        {\"class\": \"BatchNorm2d\", \"kargs\": {\"num_features\": 256}},\n",
    "        {\n",
    "            \"class\": \"Conv2d\",\n",
    "            \"kargs\": {\n",
    "                \"in_channels\": 256,\n",
    "                \"out_channels\": 80,\n",
    "                \"kernel_size\": [2, 7],\n",
    "                \"bias\": True,\n",
    "                \"padding\": [0, 3],\n",
    "            },\n",
    "        },\n",
    "        {\"class\": \"ReLU\", \"kargs\": {\"inplace\": True}},\n",
    "        {\"class\": \"BatchNorm2d\", \"kargs\": {\"num_features\": 80}},\n",
    "        {\"class\": \"Flatten\", \"kargs\": {}},\n",
    "        {\"class\": \"Linear\", \"kargs\": {\"in_features\": 16000, \"out_features\": 256}},\n",
    "        {\"class\": \"ReLU\", \"kargs\": {\"inplace\": True}},\n",
    "        {\"class\": \"BatchNorm1d\", \"kargs\": {\"num_features\": 256}},\n",
    "        {\"class\": \"Linear\", \"kargs\": {\"in_features\": 256, \"out_features\": 256}},\n",
    "    ],\n",
    "    \"NUM_LOGS_PER_EPOCH\": 10,\n",
    "    \"BEST_MODEL_PATH\": \"./best_model.pth\",\n",
    "    \"n_way\": 16,\n",
    "    \"datasets\": [\n",
    "        {\n",
    "            \"labels\": [\n",
    "                \"1-10.\",\n",
    "                \"1-11.\",\n",
    "                \"1-15.\",\n",
    "                \"1-16.\",\n",
    "                \"1-17.\",\n",
    "                \"1-18.\",\n",
    "                \"1-19.\",\n",
    "                \"10-4.\",\n",
    "                \"10-7.\",\n",
    "                \"11-1.\",\n",
    "                \"11-14.\",\n",
    "                \"11-17.\",\n",
    "                \"11-20.\",\n",
    "                \"11-7.\",\n",
    "                \"13-20.\",\n",
    "                \"13-8.\",\n",
    "                \"14-10.\",\n",
    "                \"14-11.\",\n",
    "                \"14-14.\",\n",
    "                \"14-7.\",\n",
    "                \"15-1.\",\n",
    "                \"15-20.\",\n",
    "                \"16-1.\",\n",
    "                \"16-16.\",\n",
    "                \"17-10.\",\n",
    "                \"17-11.\",\n",
    "                \"17-2.\",\n",
    "                \"19-1.\",\n",
    "                \"19-16.\",\n",
    "                \"19-19.\",\n",
    "                \"19-20.\",\n",
    "                \"19-3.\",\n",
    "                \"2-10.\",\n",
    "                \"2-11.\",\n",
    "                \"2-17.\",\n",
    "                \"2-18.\",\n",
    "                \"2-20.\",\n",
    "                \"2-3.\",\n",
    "                \"2-4.\",\n",
    "                \"2-5.\",\n",
    "                \"2-6.\",\n",
    "                \"2-7.\",\n",
    "                \"2-8.\",\n",
    "                \"3-13.\",\n",
    "                \"3-18.\",\n",
    "                \"3-3.\",\n",
    "                \"4-1.\",\n",
    "                \"4-10.\",\n",
    "                \"4-11.\",\n",
    "                \"4-19.\",\n",
    "                \"5-5.\",\n",
    "                \"6-15.\",\n",
    "                \"7-10.\",\n",
    "                \"7-14.\",\n",
    "                \"8-18.\",\n",
    "                \"8-20.\",\n",
    "                \"8-3.\",\n",
    "                \"8-8.\",\n",
    "            ],\n",
    "            \"domains\": [1, 2, 3, 4, 5],\n",
    "            \"num_examples_per_domain_per_label\": 100,\n",
    "            \"pickle_path\": \"/mnt/wd500GB/CSC500/csc500-main/datasets/cores.stratified_ds.2022A.pkl\",\n",
    "            \"source_or_target_dataset\": \"source\",\n",
    "            \"x_transforms\": [\"take_200\"],\n",
    "            \"episode_transforms\": [],\n",
    "            \"domain_prefix\": \"C_A_\",\n",
    "        },\n",
    "        {\n",
    "            \"labels\": [\n",
    "                \"1-10\",\n",
    "                \"1-12\",\n",
    "                \"1-14\",\n",
    "                \"1-16\",\n",
    "                \"1-18\",\n",
    "                \"1-19\",\n",
    "                \"1-8\",\n",
    "                \"10-11\",\n",
    "                \"10-17\",\n",
    "                \"10-4\",\n",
    "                \"10-7\",\n",
    "                \"11-1\",\n",
    "                \"11-10\",\n",
    "                \"11-19\",\n",
    "                \"11-20\",\n",
    "                \"11-4\",\n",
    "                \"11-7\",\n",
    "                \"12-19\",\n",
    "                \"12-20\",\n",
    "                \"12-7\",\n",
    "                \"13-14\",\n",
    "                \"13-18\",\n",
    "                \"13-19\",\n",
    "                \"13-20\",\n",
    "                \"13-3\",\n",
    "                \"13-7\",\n",
    "                \"14-10\",\n",
    "                \"14-11\",\n",
    "                \"14-12\",\n",
    "                \"14-13\",\n",
    "                \"14-14\",\n",
    "                \"14-19\",\n",
    "                \"14-20\",\n",
    "                \"14-7\",\n",
    "                \"14-8\",\n",
    "                \"14-9\",\n",
    "                \"15-1\",\n",
    "                \"15-19\",\n",
    "                \"15-6\",\n",
    "                \"16-1\",\n",
    "                \"16-16\",\n",
    "                \"16-19\",\n",
    "                \"16-20\",\n",
    "                \"17-10\",\n",
    "                \"17-11\",\n",
    "                \"18-1\",\n",
    "                \"18-10\",\n",
    "                \"18-11\",\n",
    "                \"18-12\",\n",
    "                \"18-13\",\n",
    "                \"18-14\",\n",
    "                \"18-15\",\n",
    "                \"18-16\",\n",
    "                \"18-17\",\n",
    "                \"18-19\",\n",
    "                \"18-2\",\n",
    "                \"18-20\",\n",
    "                \"18-4\",\n",
    "                \"18-5\",\n",
    "                \"18-7\",\n",
    "                \"18-8\",\n",
    "                \"18-9\",\n",
    "                \"19-1\",\n",
    "                \"19-10\",\n",
    "                \"19-11\",\n",
    "                \"19-12\",\n",
    "                \"19-13\",\n",
    "                \"19-14\",\n",
    "                \"19-15\",\n",
    "                \"19-19\",\n",
    "                \"19-2\",\n",
    "                \"19-20\",\n",
    "                \"19-3\",\n",
    "                \"19-4\",\n",
    "                \"19-6\",\n",
    "                \"19-7\",\n",
    "                \"19-8\",\n",
    "                \"19-9\",\n",
    "                \"2-1\",\n",
    "                \"2-13\",\n",
    "                \"2-15\",\n",
    "                \"2-3\",\n",
    "                \"2-4\",\n",
    "                \"2-5\",\n",
    "                \"2-6\",\n",
    "                \"2-7\",\n",
    "                \"2-8\",\n",
    "                \"20-1\",\n",
    "                \"20-12\",\n",
    "                \"20-14\",\n",
    "                \"20-15\",\n",
    "                \"20-16\",\n",
    "                \"20-18\",\n",
    "                \"20-19\",\n",
    "                \"20-20\",\n",
    "                \"20-3\",\n",
    "                \"20-4\",\n",
    "                \"20-5\",\n",
    "                \"20-7\",\n",
    "                \"20-8\",\n",
    "                \"3-1\",\n",
    "                \"3-13\",\n",
    "                \"3-18\",\n",
    "                \"3-2\",\n",
    "                \"3-8\",\n",
    "                \"4-1\",\n",
    "                \"4-10\",\n",
    "                \"4-11\",\n",
    "                \"5-1\",\n",
    "                \"5-5\",\n",
    "                \"6-1\",\n",
    "                \"6-15\",\n",
    "                \"6-6\",\n",
    "                \"7-10\",\n",
    "                \"7-11\",\n",
    "                \"7-12\",\n",
    "                \"7-13\",\n",
    "                \"7-14\",\n",
    "                \"7-7\",\n",
    "                \"7-8\",\n",
    "                \"7-9\",\n",
    "                \"8-1\",\n",
    "                \"8-13\",\n",
    "                \"8-14\",\n",
    "                \"8-18\",\n",
    "                \"8-20\",\n",
    "                \"8-3\",\n",
    "                \"8-8\",\n",
    "                \"9-1\",\n",
    "                \"9-7\",\n",
    "            ],\n",
    "            \"domains\": [1, 2, 3, 4],\n",
    "            \"num_examples_per_domain_per_label\": 100,\n",
    "            \"pickle_path\": \"/mnt/wd500GB/CSC500/csc500-main/datasets/wisig.node3-19.stratified_ds.2022A.pkl\",\n",
    "            \"source_or_target_dataset\": \"source\",\n",
    "            \"x_transforms\": [\"take_200\"],\n",
    "            \"episode_transforms\": [],\n",
    "            \"domain_prefix\": \"W_A_\",\n",
    "        },\n",
    "        {\n",
    "            \"labels\": [\n",
    "                \"3123D52\",\n",
    "                \"3123D65\",\n",
    "                \"3123D79\",\n",
    "                \"3123D80\",\n",
    "                \"3123D54\",\n",
    "                \"3123D70\",\n",
    "                \"3123D7B\",\n",
    "                \"3123D89\",\n",
    "                \"3123D58\",\n",
    "                \"3123D76\",\n",
    "                \"3123D7D\",\n",
    "                \"3123EFE\",\n",
    "                \"3123D64\",\n",
    "                \"3123D78\",\n",
    "                \"3123D7E\",\n",
    "                \"3124E4A\",\n",
    "            ],\n",
    "            \"domains\": [32, 38, 8, 44, 14, 50, 20, 26],\n",
    "            \"num_examples_per_domain_per_label\": 2000,\n",
    "            \"pickle_path\": \"/mnt/wd500GB/CSC500/csc500-main/datasets/oracle.Run1_framed_2000Examples_stratified_ds.2022A.pkl\",\n",
    "            \"source_or_target_dataset\": \"target\",\n",
    "            \"x_transforms\": [\"take_200\", \"resample_20Msps_to_25Msps\"],\n",
    "            \"episode_transforms\": [],\n",
    "            \"domain_prefix\": \"ORACLE.run1_\",\n",
    "        },\n",
    "    ],\n",
    "    \"seed\": 500,\n",
    "    \"dataset_seed\": 500,\n",
    "}\n"
   ]
  },
  {
   "cell_type": "code",
   "execution_count": 5,
   "id": "8fa1cc33",
   "metadata": {
    "execution": {
     "iopub.execute_input": "2022-03-18T23:29:16.531717Z",
     "iopub.status.busy": "2022-03-18T23:29:16.531337Z",
     "iopub.status.idle": "2022-03-18T23:29:16.542535Z",
     "shell.execute_reply": "2022-03-18T23:29:16.542081Z"
    },
    "papermill": {
     "duration": 0.026611,
     "end_time": "2022-03-18T23:29:16.542628",
     "exception": false,
     "start_time": "2022-03-18T23:29:16.516017",
     "status": "completed"
    },
    "tags": []
   },
   "outputs": [],
   "source": [
    "# Set this to True if you want to run this template directly\n",
    "STANDALONE = False\n",
    "if STANDALONE:\n",
    "    print(\"parameters not injected, running with standalone_parameters\")\n",
    "    parameters = standalone_parameters\n",
    "\n",
    "if not 'parameters' in locals() and not 'parameters' in globals():\n",
    "    raise Exception(\"Parameter injection failed\")\n",
    "\n",
    "#Use an easy dict for all the parameters\n",
    "p = EasyDict(parameters)\n",
    "\n",
    "if \"x_shape\" not in p:\n",
    "    p.x_shape = [2,256] # Default to this if we dont supply x_shape\n",
    "\n",
    "\n",
    "supplied_keys = set(p.keys())\n",
    "\n",
    "if  supplied_keys != required_parameters:\n",
    "    print(\"Parameters are incorrect\")\n",
    "    if len(supplied_keys - required_parameters)>0: print(\"Shouldn't have:\", str(supplied_keys - required_parameters))\n",
    "    if len(required_parameters - supplied_keys)>0: print(\"Need to have:\", str(required_parameters - supplied_keys))\n",
    "    raise RuntimeError(\"Parameters are incorrect\")"
   ]
  },
  {
   "cell_type": "code",
   "execution_count": 6,
   "id": "3a028d58",
   "metadata": {
    "execution": {
     "iopub.execute_input": "2022-03-18T23:29:16.574817Z",
     "iopub.status.busy": "2022-03-18T23:29:16.574523Z",
     "iopub.status.idle": "2022-03-18T23:29:16.589883Z",
     "shell.execute_reply": "2022-03-18T23:29:16.589426Z"
    },
    "papermill": {
     "duration": 0.030356,
     "end_time": "2022-03-18T23:29:16.589975",
     "exception": false,
     "start_time": "2022-03-18T23:29:16.559619",
     "status": "completed"
    },
    "tags": []
   },
   "outputs": [],
   "source": [
    "###################################\n",
    "# Set the RNGs and make it all deterministic\n",
    "###################################\n",
    "np.random.seed(p.seed)\n",
    "random.seed(p.seed)\n",
    "torch.manual_seed(p.seed)\n",
    "\n",
    "torch.use_deterministic_algorithms(True) "
   ]
  },
  {
   "cell_type": "code",
   "execution_count": 7,
   "id": "b691acf6",
   "metadata": {
    "execution": {
     "iopub.execute_input": "2022-03-18T23:29:16.622635Z",
     "iopub.status.busy": "2022-03-18T23:29:16.622242Z",
     "iopub.status.idle": "2022-03-18T23:29:16.636965Z",
     "shell.execute_reply": "2022-03-18T23:29:16.636564Z"
    },
    "papermill": {
     "duration": 0.029625,
     "end_time": "2022-03-18T23:29:16.637045",
     "exception": false,
     "start_time": "2022-03-18T23:29:16.607420",
     "status": "completed"
    },
    "tags": []
   },
   "outputs": [],
   "source": [
    "###########################################\n",
    "# The stratified datasets honor this\n",
    "###########################################\n",
    "torch.set_default_dtype(eval(p.torch_default_dtype))"
   ]
  },
  {
   "cell_type": "code",
   "execution_count": 8,
   "id": "b5fba671",
   "metadata": {
    "execution": {
     "iopub.execute_input": "2022-03-18T23:29:16.670680Z",
     "iopub.status.busy": "2022-03-18T23:29:16.670399Z",
     "iopub.status.idle": "2022-03-18T23:29:16.706029Z",
     "shell.execute_reply": "2022-03-18T23:29:16.705582Z"
    },
    "papermill": {
     "duration": 0.050473,
     "end_time": "2022-03-18T23:29:16.706119",
     "exception": false,
     "start_time": "2022-03-18T23:29:16.655646",
     "status": "completed"
    },
    "tags": []
   },
   "outputs": [],
   "source": [
    "###################################\n",
    "# Build the network(s)\n",
    "# Note: It's critical to do this AFTER setting the RNG\n",
    "###################################\n",
    "x_net = build_sequential(p.x_net)"
   ]
  },
  {
   "cell_type": "code",
   "execution_count": 9,
   "id": "5d7e61cc",
   "metadata": {
    "execution": {
     "iopub.execute_input": "2022-03-18T23:29:16.739299Z",
     "iopub.status.busy": "2022-03-18T23:29:16.738863Z",
     "iopub.status.idle": "2022-03-18T23:29:16.754399Z",
     "shell.execute_reply": "2022-03-18T23:29:16.753950Z"
    },
    "papermill": {
     "duration": 0.030821,
     "end_time": "2022-03-18T23:29:16.754490",
     "exception": false,
     "start_time": "2022-03-18T23:29:16.723669",
     "status": "completed"
    },
    "tags": []
   },
   "outputs": [],
   "source": [
    "start_time_secs = time.time()"
   ]
  },
  {
   "cell_type": "code",
   "execution_count": 10,
   "id": "c6b67dfd",
   "metadata": {
    "execution": {
     "iopub.execute_input": "2022-03-18T23:29:16.787038Z",
     "iopub.status.busy": "2022-03-18T23:29:16.786751Z",
     "iopub.status.idle": "2022-03-18T23:29:16.796627Z",
     "shell.execute_reply": "2022-03-18T23:29:16.796417Z"
    },
    "papermill": {
     "duration": 0.024848,
     "end_time": "2022-03-18T23:29:16.796679",
     "exception": false,
     "start_time": "2022-03-18T23:29:16.771831",
     "status": "completed"
    },
    "tags": []
   },
   "outputs": [],
   "source": [
    "p.domains_source = []\n",
    "p.domains_target = []\n",
    "\n",
    "\n",
    "train_original_source = []\n",
    "val_original_source   = []\n",
    "test_original_source  = []\n",
    "\n",
    "train_original_target = []\n",
    "val_original_target   = []\n",
    "test_original_target  = []"
   ]
  },
  {
   "cell_type": "code",
   "execution_count": 11,
   "id": "e3d9c3d3",
   "metadata": {
    "execution": {
     "iopub.execute_input": "2022-03-18T23:29:16.830635Z",
     "iopub.status.busy": "2022-03-18T23:29:16.829597Z",
     "iopub.status.idle": "2022-03-18T23:29:16.843494Z",
     "shell.execute_reply": "2022-03-18T23:29:16.843154Z"
    },
    "papermill": {
     "duration": 0.028721,
     "end_time": "2022-03-18T23:29:16.843566",
     "exception": false,
     "start_time": "2022-03-18T23:29:16.814845",
     "status": "completed"
    },
    "tags": []
   },
   "outputs": [],
   "source": [
    "# global_x_transform_func = lambda x: normalize(x.to(torch.get_default_dtype()), \"unit_power\") # unit_power, unit_mag\n",
    "# global_x_transform_func = lambda x: normalize(x, \"unit_power\") # unit_power, unit_mag"
   ]
  },
  {
   "cell_type": "code",
   "execution_count": 12,
   "id": "acb78fd2",
   "metadata": {
    "execution": {
     "iopub.execute_input": "2022-03-18T23:29:16.884779Z",
     "iopub.status.busy": "2022-03-18T23:29:16.882055Z",
     "iopub.status.idle": "2022-03-18T23:29:16.895208Z",
     "shell.execute_reply": "2022-03-18T23:29:16.894754Z"
    },
    "papermill": {
     "duration": 0.033051,
     "end_time": "2022-03-18T23:29:16.895306",
     "exception": false,
     "start_time": "2022-03-18T23:29:16.862255",
     "status": "completed"
    },
    "tags": []
   },
   "outputs": [],
   "source": [
    "def add_dataset(\n",
    "    labels,\n",
    "    domains,\n",
    "    pickle_path,\n",
    "    x_transforms,\n",
    "    episode_transforms,\n",
    "    domain_prefix,\n",
    "    num_examples_per_domain_per_label,\n",
    "    source_or_target_dataset:str,\n",
    "    iterator_seed=p.seed,\n",
    "    dataset_seed=p.dataset_seed,\n",
    "    n_shot=p.n_shot,\n",
    "    n_way=p.n_way,\n",
    "    n_query=p.n_query,\n",
    "    train_val_test_k_factors=(p.train_k_factor,p.val_k_factor,p.test_k_factor),\n",
    "):\n",
    "   \n",
    "    if x_transforms == []: x_transform = None\n",
    "    else: x_transform = get_chained_transform(x_transforms)\n",
    "    \n",
    "    if episode_transforms == []: episode_transform = None\n",
    "    else: raise Exception(\"episode_transforms not implemented\")\n",
    "    \n",
    "    episode_transform = lambda tup, _prefix=domain_prefix: (_prefix + str(tup[0]), tup[1])\n",
    "\n",
    "\n",
    "    eaf = Episodic_Accessor_Factory(\n",
    "        labels=labels,\n",
    "        domains=domains,\n",
    "        num_examples_per_domain_per_label=num_examples_per_domain_per_label,\n",
    "        iterator_seed=iterator_seed,\n",
    "        dataset_seed=dataset_seed,\n",
    "        n_shot=n_shot,\n",
    "        n_way=n_way,\n",
    "        n_query=n_query,\n",
    "        train_val_test_k_factors=train_val_test_k_factors,\n",
    "        pickle_path=pickle_path,\n",
    "        x_transform_func=x_transform,\n",
    "    )\n",
    "\n",
    "    train, val, test = eaf.get_train(), eaf.get_val(), eaf.get_test()\n",
    "    train = Lazy_Iterable_Wrapper(train, episode_transform)\n",
    "    val = Lazy_Iterable_Wrapper(val, episode_transform)\n",
    "    test = Lazy_Iterable_Wrapper(test, episode_transform)\n",
    "\n",
    "    if source_or_target_dataset==\"source\":\n",
    "        train_original_source.append(train)\n",
    "        val_original_source.append(val)\n",
    "        test_original_source.append(test)\n",
    "\n",
    "        p.domains_source.extend(\n",
    "            [domain_prefix + str(u) for u in domains]\n",
    "        )\n",
    "    elif source_or_target_dataset==\"target\":\n",
    "        train_original_target.append(train)\n",
    "        val_original_target.append(val)\n",
    "        test_original_target.append(test)\n",
    "        p.domains_target.extend(\n",
    "            [domain_prefix + str(u) for u in domains]\n",
    "        )\n",
    "    else:\n",
    "        raise Exception(f\"invalid source_or_target_dataset: {source_or_target_dataset}\")\n",
    "    "
   ]
  },
  {
   "cell_type": "code",
   "execution_count": 13,
   "id": "fe266617",
   "metadata": {
    "execution": {
     "iopub.execute_input": "2022-03-18T23:29:16.927440Z",
     "iopub.status.busy": "2022-03-18T23:29:16.927158Z",
     "iopub.status.idle": "2022-03-18T23:29:32.016397Z",
     "shell.execute_reply": "2022-03-18T23:29:32.015945Z"
    },
    "papermill": {
     "duration": 15.104017,
     "end_time": "2022-03-18T23:29:32.016497",
     "exception": false,
     "start_time": "2022-03-18T23:29:16.912480",
     "status": "completed"
    },
    "tags": []
   },
   "outputs": [],
   "source": [
    "for ds in p.datasets:\n",
    "    add_dataset(**ds)"
   ]
  },
  {
   "cell_type": "code",
   "execution_count": 14,
   "id": "b90d65ac",
   "metadata": {
    "execution": {
     "iopub.execute_input": "2022-03-18T23:29:32.050852Z",
     "iopub.status.busy": "2022-03-18T23:29:32.050570Z",
     "iopub.status.idle": "2022-03-18T23:29:32.065663Z",
     "shell.execute_reply": "2022-03-18T23:29:32.065199Z"
    },
    "papermill": {
     "duration": 0.030497,
     "end_time": "2022-03-18T23:29:32.065757",
     "exception": false,
     "start_time": "2022-03-18T23:29:32.035260",
     "status": "completed"
    },
    "tags": []
   },
   "outputs": [],
   "source": [
    "# from steves_utils.CORES.utils import (\n",
    "#     ALL_NODES,\n",
    "#     ALL_NODES_MINIMUM_1000_EXAMPLES,\n",
    "#     ALL_DAYS\n",
    "# )\n",
    "\n",
    "# add_dataset(\n",
    "#     labels=ALL_NODES,\n",
    "#     domains = ALL_DAYS,\n",
    "#     num_examples_per_domain_per_label=100,\n",
    "#     pickle_path=os.path.join(get_datasets_base_path(), \"cores.stratified_ds.2022A.pkl\"),\n",
    "#     source_or_target_dataset=\"target\",\n",
    "#     x_transform_func=global_x_transform_func,\n",
    "#     domain_modifier=lambda u: f\"cores_{u}\"\n",
    "# )"
   ]
  },
  {
   "cell_type": "code",
   "execution_count": 15,
   "id": "76db484d",
   "metadata": {
    "execution": {
     "iopub.execute_input": "2022-03-18T23:29:32.098901Z",
     "iopub.status.busy": "2022-03-18T23:29:32.098567Z",
     "iopub.status.idle": "2022-03-18T23:29:32.113002Z",
     "shell.execute_reply": "2022-03-18T23:29:32.112545Z"
    },
    "papermill": {
     "duration": 0.029477,
     "end_time": "2022-03-18T23:29:32.113095",
     "exception": false,
     "start_time": "2022-03-18T23:29:32.083618",
     "status": "completed"
    },
    "tags": []
   },
   "outputs": [],
   "source": [
    "# from steves_utils.ORACLE.utils_v2 import (\n",
    "#     ALL_DISTANCES_FEET,\n",
    "#     ALL_RUNS,\n",
    "#     ALL_SERIAL_NUMBERS,\n",
    "# )\n",
    "\n",
    "\n",
    "# add_dataset(\n",
    "#     labels=ALL_SERIAL_NUMBERS,\n",
    "#     domains = list(set(ALL_DISTANCES_FEET) - {2,62}),\n",
    "#     num_examples_per_domain_per_label=100,\n",
    "#     pickle_path=os.path.join(get_datasets_base_path(), \"oracle.Run2_framed_2000Examples_stratified_ds.2022A.pkl\"),\n",
    "#     source_or_target_dataset=\"source\",\n",
    "#     x_transform_func=global_x_transform_func,\n",
    "#     domain_modifier=lambda u: f\"oracle1_{u}\"\n",
    "# )\n"
   ]
  },
  {
   "cell_type": "code",
   "execution_count": 16,
   "id": "97dea9d2",
   "metadata": {
    "execution": {
     "iopub.execute_input": "2022-03-18T23:29:32.146232Z",
     "iopub.status.busy": "2022-03-18T23:29:32.145947Z",
     "iopub.status.idle": "2022-03-18T23:29:32.155655Z",
     "shell.execute_reply": "2022-03-18T23:29:32.155288Z"
    },
    "papermill": {
     "duration": 0.024502,
     "end_time": "2022-03-18T23:29:32.155729",
     "exception": false,
     "start_time": "2022-03-18T23:29:32.131227",
     "status": "completed"
    },
    "tags": []
   },
   "outputs": [],
   "source": [
    "# from steves_utils.ORACLE.utils_v2 import (\n",
    "#     ALL_DISTANCES_FEET,\n",
    "#     ALL_RUNS,\n",
    "#     ALL_SERIAL_NUMBERS,\n",
    "# )\n",
    "\n",
    "\n",
    "# add_dataset(\n",
    "#     labels=ALL_SERIAL_NUMBERS,\n",
    "#     domains = list(set(ALL_DISTANCES_FEET) - {2,62,56}),\n",
    "#     num_examples_per_domain_per_label=100,\n",
    "#     pickle_path=os.path.join(get_datasets_base_path(), \"oracle.Run2_framed_2000Examples_stratified_ds.2022A.pkl\"),\n",
    "#     source_or_target_dataset=\"source\",\n",
    "#     x_transform_func=global_x_transform_func,\n",
    "#     domain_modifier=lambda u: f\"oracle2_{u}\"\n",
    "# )"
   ]
  },
  {
   "cell_type": "code",
   "execution_count": 17,
   "id": "6f289866",
   "metadata": {
    "execution": {
     "iopub.execute_input": "2022-03-18T23:29:32.187165Z",
     "iopub.status.busy": "2022-03-18T23:29:32.186771Z",
     "iopub.status.idle": "2022-03-18T23:29:32.200338Z",
     "shell.execute_reply": "2022-03-18T23:29:32.199907Z"
    },
    "papermill": {
     "duration": 0.028756,
     "end_time": "2022-03-18T23:29:32.200430",
     "exception": false,
     "start_time": "2022-03-18T23:29:32.171674",
     "status": "completed"
    },
    "tags": []
   },
   "outputs": [],
   "source": [
    "# add_dataset(\n",
    "#     labels=list(range(19)),\n",
    "#     domains = [0,1,2],\n",
    "#     num_examples_per_domain_per_label=100,\n",
    "#     pickle_path=os.path.join(get_datasets_base_path(), \"metehan.stratified_ds.2022A.pkl\"),\n",
    "#     source_or_target_dataset=\"target\",\n",
    "#     x_transform_func=global_x_transform_func,\n",
    "#     domain_modifier=lambda u: f\"met_{u}\"\n",
    "# )"
   ]
  },
  {
   "cell_type": "code",
   "execution_count": 18,
   "id": "86a863c3",
   "metadata": {
    "execution": {
     "iopub.execute_input": "2022-03-18T23:29:32.235563Z",
     "iopub.status.busy": "2022-03-18T23:29:32.234596Z",
     "iopub.status.idle": "2022-03-18T23:29:32.248095Z",
     "shell.execute_reply": "2022-03-18T23:29:32.247725Z"
    },
    "papermill": {
     "duration": 0.028923,
     "end_time": "2022-03-18T23:29:32.248167",
     "exception": false,
     "start_time": "2022-03-18T23:29:32.219244",
     "status": "completed"
    },
    "tags": []
   },
   "outputs": [],
   "source": [
    "# # from steves_utils.wisig.utils import (\n",
    "# #     ALL_NODES_MINIMUM_100_EXAMPLES,\n",
    "# #     ALL_NODES_MINIMUM_500_EXAMPLES,\n",
    "# #     ALL_NODES_MINIMUM_1000_EXAMPLES,\n",
    "# #     ALL_DAYS\n",
    "# # )\n",
    "\n",
    "# import steves_utils.wisig.utils as wisig\n",
    "\n",
    "\n",
    "# add_dataset(\n",
    "#     labels=wisig.ALL_NODES_MINIMUM_100_EXAMPLES,\n",
    "#     domains = wisig.ALL_DAYS,\n",
    "#     num_examples_per_domain_per_label=100,\n",
    "#     pickle_path=os.path.join(get_datasets_base_path(), \"wisig.node3-19.stratified_ds.2022A.pkl\"),\n",
    "#     source_or_target_dataset=\"target\",\n",
    "#     x_transform_func=global_x_transform_func,\n",
    "#     domain_modifier=lambda u: f\"wisig_{u}\"\n",
    "# )"
   ]
  },
  {
   "cell_type": "code",
   "execution_count": 19,
   "id": "fd5442bc",
   "metadata": {
    "execution": {
     "iopub.execute_input": "2022-03-18T23:29:32.284832Z",
     "iopub.status.busy": "2022-03-18T23:29:32.284533Z",
     "iopub.status.idle": "2022-03-18T23:29:32.297947Z",
     "shell.execute_reply": "2022-03-18T23:29:32.297498Z"
    },
    "papermill": {
     "duration": 0.031537,
     "end_time": "2022-03-18T23:29:32.298036",
     "exception": false,
     "start_time": "2022-03-18T23:29:32.266499",
     "status": "completed"
    },
    "tags": []
   },
   "outputs": [],
   "source": [
    "###################################\n",
    "# Build the dataset\n",
    "###################################\n",
    "train_original_source = Iterable_Aggregator(train_original_source, p.seed)\n",
    "val_original_source = Iterable_Aggregator(val_original_source, p.seed)\n",
    "test_original_source = Iterable_Aggregator(test_original_source, p.seed)\n",
    "\n",
    "\n",
    "train_original_target = Iterable_Aggregator(train_original_target, p.seed)\n",
    "val_original_target = Iterable_Aggregator(val_original_target, p.seed)\n",
    "test_original_target = Iterable_Aggregator(test_original_target, p.seed)\n",
    "\n",
    "# For CNN We only use X and Y. And we only train on the source.\n",
    "# Properly form the data using a transform lambda and Lazy_Iterable_Wrapper. Finally wrap them in a dataloader\n",
    "\n",
    "transform_lambda = lambda ex: ex[1] # Original is (<domain>, <episode>) so we strip down to episode only\n",
    "\n",
    "train_processed_source = Lazy_Iterable_Wrapper(train_original_source, transform_lambda)\n",
    "val_processed_source   = Lazy_Iterable_Wrapper(val_original_source, transform_lambda)\n",
    "test_processed_source  = Lazy_Iterable_Wrapper(test_original_source, transform_lambda)\n",
    "\n",
    "train_processed_target = Lazy_Iterable_Wrapper(train_original_target, transform_lambda)\n",
    "val_processed_target   = Lazy_Iterable_Wrapper(val_original_target, transform_lambda)\n",
    "test_processed_target  = Lazy_Iterable_Wrapper(test_original_target, transform_lambda)\n",
    "\n",
    "datasets = EasyDict({\n",
    "    \"source\": {\n",
    "        \"original\": {\"train\":train_original_source, \"val\":val_original_source, \"test\":test_original_source},\n",
    "        \"processed\": {\"train\":train_processed_source, \"val\":val_processed_source, \"test\":test_processed_source}\n",
    "    },\n",
    "    \"target\": {\n",
    "        \"original\": {\"train\":train_original_target, \"val\":val_original_target, \"test\":test_original_target},\n",
    "        \"processed\": {\"train\":train_processed_target, \"val\":val_processed_target, \"test\":test_processed_target}\n",
    "    },\n",
    "})"
   ]
  },
  {
   "cell_type": "code",
   "execution_count": 20,
   "id": "5b3c01fc",
   "metadata": {
    "execution": {
     "iopub.execute_input": "2022-03-18T23:29:32.332497Z",
     "iopub.status.busy": "2022-03-18T23:29:32.332232Z",
     "iopub.status.idle": "2022-03-18T23:29:37.154918Z",
     "shell.execute_reply": "2022-03-18T23:29:37.155465Z"
    },
    "papermill": {
     "duration": 4.839233,
     "end_time": "2022-03-18T23:29:37.155609",
     "exception": false,
     "start_time": "2022-03-18T23:29:32.316376",
     "status": "completed"
    },
    "tags": []
   },
   "outputs": [
    {
     "name": "stdout",
     "output_type": "stream",
     "text": [
      "{'W_A_4', 'C_A_4', 'W_A_3', 'W_A_2', 'W_A_1', 'C_A_1', 'C_A_5', 'C_A_3', 'C_A_2'}\n"
     ]
    },
    {
     "name": "stdout",
     "output_type": "stream",
     "text": [
      "{'ORACLE.run1_14', 'ORACLE.run1_50', 'ORACLE.run1_20', 'ORACLE.run1_44', 'ORACLE.run1_38', 'ORACLE.run1_8', 'ORACLE.run1_26', 'ORACLE.run1_32'}\n"
     ]
    },
    {
     "name": "stdout",
     "output_type": "stream",
     "text": [
      "tensor([[[ 0.0509, -0.0146, -0.0009,  ..., -0.0173, -0.0183,  0.0718],\n",
      "         [ 0.0429,  0.0355,  0.0054,  ..., -0.0119, -0.0703, -0.0659]],\n",
      "\n",
      "        [[-0.0027,  0.0410,  0.0513,  ..., -0.0031, -0.0108, -0.0015],\n",
      "         [-0.0313, -0.0316,  0.0072,  ...,  0.0571,  0.0601,  0.0635]],\n",
      "\n",
      "        [[ 0.0558,  0.0226, -0.0082,  ..., -0.0846, -0.0661, -0.0344],\n",
      "         [ 0.0055,  0.0147, -0.0046,  ..., -0.0073, -0.0316, -0.0240]],\n",
      "\n",
      "        ...,\n",
      "\n",
      "        [[ 0.0060, -0.0149, -0.0146,  ...,  0.0270, -0.0028, -0.0207],\n",
      "         [ 0.0044,  0.0184, -0.0174,  ...,  0.0237,  0.0233, -0.0100]],\n",
      "\n",
      "        [[ 0.0081,  0.0214, -0.0176,  ...,  0.0139,  0.0214, -0.0106],\n",
      "         [-0.0108,  0.0172,  0.0124,  ..., -0.0319,  0.0027,  0.0241]],\n",
      "\n",
      "        [[ 0.0070, -0.0136, -0.0188,  ...,  0.0286, -0.0031, -0.0224],\n",
      "         [ 0.0044,  0.0213, -0.0144,  ...,  0.0201,  0.0197, -0.0075]]])\n"
     ]
    }
   ],
   "source": [
    "from steves_utils.transforms import get_average_magnitude, get_average_power\n",
    "\n",
    "print(set([u for u,_ in val_original_source]))\n",
    "print(set([u for u,_ in val_original_target]))\n",
    "\n",
    "s_x, s_y, q_x, q_y, _ = next(iter(train_processed_source))\n",
    "print(s_x)\n",
    "\n",
    "# for ds in [\n",
    "#     train_processed_source,\n",
    "#     val_processed_source,\n",
    "#     test_processed_source,\n",
    "#     train_processed_target,\n",
    "#     val_processed_target,\n",
    "#     test_processed_target\n",
    "# ]:\n",
    "#     for s_x, s_y, q_x, q_y, _ in ds:\n",
    "#         for X in (s_x, q_x):\n",
    "#             for x in X:\n",
    "#                 assert np.isclose(get_average_magnitude(x.numpy()), 1.0)\n",
    "#                 assert np.isclose(get_average_power(x.numpy()), 1.0)\n",
    "                "
   ]
  },
  {
   "cell_type": "code",
   "execution_count": 21,
   "id": "bbdacba1",
   "metadata": {
    "execution": {
     "iopub.execute_input": "2022-03-18T23:29:37.199608Z",
     "iopub.status.busy": "2022-03-18T23:29:37.199310Z",
     "iopub.status.idle": "2022-03-18T23:29:37.250599Z",
     "shell.execute_reply": "2022-03-18T23:29:37.250127Z"
    },
    "papermill": {
     "duration": 0.07157,
     "end_time": "2022-03-18T23:29:37.250694",
     "exception": false,
     "start_time": "2022-03-18T23:29:37.179124",
     "status": "completed"
    },
    "tags": []
   },
   "outputs": [
    {
     "name": "stdout",
     "output_type": "stream",
     "text": [
      "(2, 200)\n"
     ]
    }
   ],
   "source": [
    "###################################\n",
    "# Build the model\n",
    "###################################\n",
    "# easfsl only wants a tuple for the shape\n",
    "model = Steves_Prototypical_Network(x_net, device=p.device, x_shape=tuple(p.x_shape))\n",
    "optimizer = Adam(params=model.parameters(), lr=p.lr)"
   ]
  },
  {
   "cell_type": "code",
   "execution_count": 22,
   "id": "22b39ac5",
   "metadata": {
    "execution": {
     "iopub.execute_input": "2022-03-18T23:29:37.287598Z",
     "iopub.status.busy": "2022-03-18T23:29:37.287029Z",
     "iopub.status.idle": "2022-03-18T23:37:01.545879Z",
     "shell.execute_reply": "2022-03-18T23:37:01.546248Z"
    },
    "papermill": {
     "duration": 444.276683,
     "end_time": "2022-03-18T23:37:01.546375",
     "exception": false,
     "start_time": "2022-03-18T23:29:37.269692",
     "status": "completed"
    },
    "tags": []
   },
   "outputs": [
    {
     "name": "stdout",
     "output_type": "stream",
     "text": [
      "epoch: 1, [batch: 1 / 2077], examples_per_second: 120.4836, train_label_loss: 1.5264, \n"
     ]
    },
    {
     "name": "stdout",
     "output_type": "stream",
     "text": [
      "epoch: 1, [batch: 208 / 2077], examples_per_second: 3602.3481, train_label_loss: 0.1024, \n"
     ]
    },
    {
     "name": "stdout",
     "output_type": "stream",
     "text": [
      "epoch: 1, [batch: 416 / 2077], examples_per_second: 3639.5464, train_label_loss: 0.7447, \n"
     ]
    },
    {
     "name": "stdout",
     "output_type": "stream",
     "text": [
      "epoch: 1, [batch: 623 / 2077], examples_per_second: 3630.7859, train_label_loss: 0.2364, \n"
     ]
    },
    {
     "name": "stdout",
     "output_type": "stream",
     "text": [
      "epoch: 1, [batch: 831 / 2077], examples_per_second: 3648.0343, train_label_loss: 0.1264, \n"
     ]
    },
    {
     "name": "stdout",
     "output_type": "stream",
     "text": [
      "epoch: 1, [batch: 1039 / 2077], examples_per_second: 3632.6031, train_label_loss: 0.0725, \n"
     ]
    },
    {
     "name": "stdout",
     "output_type": "stream",
     "text": [
      "epoch: 1, [batch: 1246 / 2077], examples_per_second: 3638.9234, train_label_loss: 0.2682, \n"
     ]
    },
    {
     "name": "stdout",
     "output_type": "stream",
     "text": [
      "epoch: 1, [batch: 1454 / 2077], examples_per_second: 3630.2921, train_label_loss: 0.3792, \n"
     ]
    },
    {
     "name": "stdout",
     "output_type": "stream",
     "text": [
      "epoch: 1, [batch: 1661 / 2077], examples_per_second: 3642.7923, train_label_loss: 0.5238, \n"
     ]
    },
    {
     "name": "stdout",
     "output_type": "stream",
     "text": [
      "epoch: 1, [batch: 1869 / 2077], examples_per_second: 3631.4250, train_label_loss: 0.3310, \n"
     ]
    },
    {
     "name": "stdout",
     "output_type": "stream",
     "text": [
      "=============================================================\n",
      "epoch: 1, source_val_acc_label: 0.9477, target_val_acc_label: 0.5446, source_val_label_loss: 0.2612, target_val_label_loss: 2.4456, \n",
      "=============================================================\n"
     ]
    },
    {
     "name": "stdout",
     "output_type": "stream",
     "text": [
      "New best\n"
     ]
    },
    {
     "name": "stdout",
     "output_type": "stream",
     "text": [
      "epoch: 2, [batch: 1 / 2078], examples_per_second: 11.1812, train_label_loss: 0.0767, \n"
     ]
    },
    {
     "name": "stdout",
     "output_type": "stream",
     "text": [
      "epoch: 2, [batch: 208 / 2078], examples_per_second: 3624.8295, train_label_loss: 0.0825, \n"
     ]
    },
    {
     "name": "stdout",
     "output_type": "stream",
     "text": [
      "epoch: 2, [batch: 416 / 2078], examples_per_second: 3653.0492, train_label_loss: 0.2231, \n"
     ]
    },
    {
     "name": "stdout",
     "output_type": "stream",
     "text": [
      "epoch: 2, [batch: 624 / 2078], examples_per_second: 3629.0096, train_label_loss: 0.0099, \n"
     ]
    },
    {
     "name": "stdout",
     "output_type": "stream",
     "text": [
      "epoch: 2, [batch: 831 / 2078], examples_per_second: 3645.9665, train_label_loss: 0.1320, \n"
     ]
    },
    {
     "name": "stdout",
     "output_type": "stream",
     "text": [
      "epoch: 2, [batch: 1039 / 2078], examples_per_second: 3641.8107, train_label_loss: 0.0309, \n"
     ]
    },
    {
     "name": "stdout",
     "output_type": "stream",
     "text": [
      "epoch: 2, [batch: 1247 / 2078], examples_per_second: 3631.7487, train_label_loss: 0.1570, \n"
     ]
    },
    {
     "name": "stdout",
     "output_type": "stream",
     "text": [
      "epoch: 2, [batch: 1454 / 2078], examples_per_second: 3638.3055, train_label_loss: 0.0081, \n"
     ]
    },
    {
     "name": "stdout",
     "output_type": "stream",
     "text": [
      "epoch: 2, [batch: 1662 / 2078], examples_per_second: 3598.9705, train_label_loss: 0.3061, \n"
     ]
    },
    {
     "name": "stdout",
     "output_type": "stream",
     "text": [
      "epoch: 2, [batch: 1870 / 2078], examples_per_second: 3660.6142, train_label_loss: 0.2523, \n"
     ]
    },
    {
     "name": "stdout",
     "output_type": "stream",
     "text": [
      "=============================================================\n",
      "epoch: 2, source_val_acc_label: 0.9596, target_val_acc_label: 0.5624, source_val_label_loss: 0.2015, target_val_label_loss: 2.3442, \n",
      "=============================================================\n"
     ]
    },
    {
     "name": "stdout",
     "output_type": "stream",
     "text": [
      "New best\n"
     ]
    },
    {
     "name": "stdout",
     "output_type": "stream",
     "text": [
      "epoch: 3, [batch: 1 / 2078], examples_per_second: 11.1948, train_label_loss: 0.0455, \n"
     ]
    },
    {
     "name": "stdout",
     "output_type": "stream",
     "text": [
      "epoch: 3, [batch: 208 / 2078], examples_per_second: 3614.6430, train_label_loss: 0.7025, \n"
     ]
    },
    {
     "name": "stdout",
     "output_type": "stream",
     "text": [
      "epoch: 3, [batch: 416 / 2078], examples_per_second: 3648.7543, train_label_loss: 0.0017, \n"
     ]
    },
    {
     "name": "stdout",
     "output_type": "stream",
     "text": [
      "epoch: 3, [batch: 624 / 2078], examples_per_second: 3647.4490, train_label_loss: 0.0064, \n"
     ]
    },
    {
     "name": "stdout",
     "output_type": "stream",
     "text": [
      "epoch: 3, [batch: 831 / 2078], examples_per_second: 3649.7965, train_label_loss: 0.0153, \n"
     ]
    },
    {
     "name": "stdout",
     "output_type": "stream",
     "text": [
      "epoch: 3, [batch: 1039 / 2078], examples_per_second: 3632.3897, train_label_loss: 0.6037, \n"
     ]
    },
    {
     "name": "stdout",
     "output_type": "stream",
     "text": [
      "epoch: 3, [batch: 1247 / 2078], examples_per_second: 3661.8149, train_label_loss: 0.0744, \n"
     ]
    },
    {
     "name": "stdout",
     "output_type": "stream",
     "text": [
      "epoch: 3, [batch: 1454 / 2078], examples_per_second: 3603.4257, train_label_loss: 0.0320, \n"
     ]
    },
    {
     "name": "stdout",
     "output_type": "stream",
     "text": [
      "epoch: 3, [batch: 1662 / 2078], examples_per_second: 3649.6648, train_label_loss: 0.1953, \n"
     ]
    },
    {
     "name": "stdout",
     "output_type": "stream",
     "text": [
      "epoch: 3, [batch: 1870 / 2078], examples_per_second: 3647.9157, train_label_loss: 0.1953, \n"
     ]
    },
    {
     "name": "stdout",
     "output_type": "stream",
     "text": [
      "=============================================================\n",
      "epoch: 3, source_val_acc_label: 0.9637, target_val_acc_label: 0.5235, source_val_label_loss: 0.1790, target_val_label_loss: 2.3418, \n",
      "=============================================================\n"
     ]
    },
    {
     "name": "stdout",
     "output_type": "stream",
     "text": [
      "New best\n"
     ]
    },
    {
     "name": "stdout",
     "output_type": "stream",
     "text": [
      "epoch: 4, [batch: 1 / 2081], examples_per_second: 11.1230, train_label_loss: 0.0109, \n"
     ]
    },
    {
     "name": "stdout",
     "output_type": "stream",
     "text": [
      "epoch: 4, [batch: 209 / 2081], examples_per_second: 3616.8297, train_label_loss: 0.0931, \n"
     ]
    },
    {
     "name": "stdout",
     "output_type": "stream",
     "text": [
      "epoch: 4, [batch: 417 / 2081], examples_per_second: 3612.6210, train_label_loss: 0.1461, \n"
     ]
    },
    {
     "name": "stdout",
     "output_type": "stream",
     "text": [
      "epoch: 4, [batch: 625 / 2081], examples_per_second: 3636.9029, train_label_loss: 0.0068, \n"
     ]
    },
    {
     "name": "stdout",
     "output_type": "stream",
     "text": [
      "epoch: 4, [batch: 833 / 2081], examples_per_second: 3710.3789, train_label_loss: 0.1800, \n"
     ]
    },
    {
     "name": "stdout",
     "output_type": "stream",
     "text": [
      "epoch: 4, [batch: 1041 / 2081], examples_per_second: 3636.9570, train_label_loss: 0.0802, \n"
     ]
    },
    {
     "name": "stdout",
     "output_type": "stream",
     "text": [
      "epoch: 4, [batch: 1249 / 2081], examples_per_second: 3641.0553, train_label_loss: 0.1934, \n"
     ]
    },
    {
     "name": "stdout",
     "output_type": "stream",
     "text": [
      "epoch: 4, [batch: 1457 / 2081], examples_per_second: 3656.0846, train_label_loss: 0.0913, \n"
     ]
    },
    {
     "name": "stdout",
     "output_type": "stream",
     "text": [
      "epoch: 4, [batch: 1665 / 2081], examples_per_second: 3579.7720, train_label_loss: 0.0061, \n"
     ]
    },
    {
     "name": "stdout",
     "output_type": "stream",
     "text": [
      "epoch: 4, [batch: 1873 / 2081], examples_per_second: 3642.5879, train_label_loss: 0.0098, \n"
     ]
    },
    {
     "name": "stdout",
     "output_type": "stream",
     "text": [
      "=============================================================\n",
      "epoch: 4, source_val_acc_label: 0.9694, target_val_acc_label: 0.5352, source_val_label_loss: 0.1470, target_val_label_loss: 2.2599, \n",
      "=============================================================\n"
     ]
    },
    {
     "name": "stdout",
     "output_type": "stream",
     "text": [
      "New best\n"
     ]
    },
    {
     "name": "stdout",
     "output_type": "stream",
     "text": [
      "epoch: 5, [batch: 1 / 2081], examples_per_second: 11.0992, train_label_loss: 0.0264, \n"
     ]
    },
    {
     "name": "stdout",
     "output_type": "stream",
     "text": [
      "epoch: 5, [batch: 209 / 2081], examples_per_second: 3613.9254, train_label_loss: 0.0087, \n"
     ]
    },
    {
     "name": "stdout",
     "output_type": "stream",
     "text": [
      "epoch: 5, [batch: 417 / 2081], examples_per_second: 3620.6514, train_label_loss: 0.5100, \n"
     ]
    },
    {
     "name": "stdout",
     "output_type": "stream",
     "text": [
      "epoch: 5, [batch: 625 / 2081], examples_per_second: 3659.6247, train_label_loss: 0.0011, \n"
     ]
    },
    {
     "name": "stdout",
     "output_type": "stream",
     "text": [
      "epoch: 5, [batch: 833 / 2081], examples_per_second: 3645.7120, train_label_loss: 0.0194, \n"
     ]
    },
    {
     "name": "stdout",
     "output_type": "stream",
     "text": [
      "epoch: 5, [batch: 1041 / 2081], examples_per_second: 3617.4313, train_label_loss: 0.6082, \n"
     ]
    },
    {
     "name": "stdout",
     "output_type": "stream",
     "text": [
      "epoch: 5, [batch: 1249 / 2081], examples_per_second: 3632.5729, train_label_loss: 0.0157, \n"
     ]
    },
    {
     "name": "stdout",
     "output_type": "stream",
     "text": [
      "epoch: 5, [batch: 1457 / 2081], examples_per_second: 3641.5897, train_label_loss: 0.0003, \n"
     ]
    },
    {
     "name": "stdout",
     "output_type": "stream",
     "text": [
      "epoch: 5, [batch: 1665 / 2081], examples_per_second: 3588.3753, train_label_loss: 0.4076, \n"
     ]
    },
    {
     "name": "stdout",
     "output_type": "stream",
     "text": [
      "epoch: 5, [batch: 1873 / 2081], examples_per_second: 3644.0666, train_label_loss: 0.3360, \n"
     ]
    },
    {
     "name": "stdout",
     "output_type": "stream",
     "text": [
      "=============================================================\n",
      "epoch: 5, source_val_acc_label: 0.9693, target_val_acc_label: 0.4480, source_val_label_loss: 0.1473, target_val_label_loss: 2.2788, \n",
      "=============================================================\n"
     ]
    },
    {
     "name": "stdout",
     "output_type": "stream",
     "text": [
      "epoch: 6, [batch: 1 / 2080], examples_per_second: 11.0884, train_label_loss: 0.0056, \n"
     ]
    },
    {
     "name": "stdout",
     "output_type": "stream",
     "text": [
      "epoch: 6, [batch: 208 / 2080], examples_per_second: 3613.0543, train_label_loss: 0.2028, \n"
     ]
    },
    {
     "name": "stdout",
     "output_type": "stream",
     "text": [
      "epoch: 6, [batch: 416 / 2080], examples_per_second: 3625.0399, train_label_loss: 0.3297, \n"
     ]
    },
    {
     "name": "stdout",
     "output_type": "stream",
     "text": [
      "epoch: 6, [batch: 624 / 2080], examples_per_second: 3624.3932, train_label_loss: 0.0008, \n"
     ]
    },
    {
     "name": "stdout",
     "output_type": "stream",
     "text": [
      "epoch: 6, [batch: 832 / 2080], examples_per_second: 3634.5885, train_label_loss: 0.1585, \n"
     ]
    },
    {
     "name": "stdout",
     "output_type": "stream",
     "text": [
      "epoch: 6, [batch: 1040 / 2080], examples_per_second: 3612.0308, train_label_loss: 0.3859, \n"
     ]
    },
    {
     "name": "stdout",
     "output_type": "stream",
     "text": [
      "epoch: 6, [batch: 1248 / 2080], examples_per_second: 3624.6498, train_label_loss: 0.1397, \n"
     ]
    },
    {
     "name": "stdout",
     "output_type": "stream",
     "text": [
      "epoch: 6, [batch: 1456 / 2080], examples_per_second: 3643.4286, train_label_loss: 0.0048, \n"
     ]
    },
    {
     "name": "stdout",
     "output_type": "stream",
     "text": [
      "epoch: 6, [batch: 1664 / 2080], examples_per_second: 3602.6479, train_label_loss: 0.1677, \n"
     ]
    },
    {
     "name": "stdout",
     "output_type": "stream",
     "text": [
      "epoch: 6, [batch: 1872 / 2080], examples_per_second: 3658.9405, train_label_loss: 0.0196, \n"
     ]
    },
    {
     "name": "stdout",
     "output_type": "stream",
     "text": [
      "=============================================================\n",
      "epoch: 6, source_val_acc_label: 0.9732, target_val_acc_label: 0.3023, source_val_label_loss: 0.1221, target_val_label_loss: 2.3255, \n",
      "=============================================================\n"
     ]
    },
    {
     "name": "stdout",
     "output_type": "stream",
     "text": [
      "epoch: 7, [batch: 1 / 2079], examples_per_second: 11.0846, train_label_loss: 0.0029, \n"
     ]
    },
    {
     "name": "stdout",
     "output_type": "stream",
     "text": [
      "epoch: 7, [batch: 208 / 2079], examples_per_second: 3606.4937, train_label_loss: 0.1381, \n"
     ]
    },
    {
     "name": "stdout",
     "output_type": "stream",
     "text": [
      "epoch: 7, [batch: 416 / 2079], examples_per_second: 3645.5362, train_label_loss: 0.0011, \n"
     ]
    },
    {
     "name": "stdout",
     "output_type": "stream",
     "text": [
      "epoch: 7, [batch: 624 / 2079], examples_per_second: 3640.2915, train_label_loss: 0.0150, \n"
     ]
    },
    {
     "name": "stdout",
     "output_type": "stream",
     "text": [
      "epoch: 7, [batch: 832 / 2079], examples_per_second: 3625.5033, train_label_loss: 0.0003, \n"
     ]
    },
    {
     "name": "stdout",
     "output_type": "stream",
     "text": [
      "epoch: 7, [batch: 1040 / 2079], examples_per_second: 3627.0319, train_label_loss: 0.0018, \n"
     ]
    },
    {
     "name": "stdout",
     "output_type": "stream",
     "text": [
      "epoch: 7, [batch: 1247 / 2079], examples_per_second: 3671.2459, train_label_loss: 0.0026, \n"
     ]
    },
    {
     "name": "stdout",
     "output_type": "stream",
     "text": [
      "epoch: 7, [batch: 1455 / 2079], examples_per_second: 3618.3542, train_label_loss: 0.1345, \n"
     ]
    },
    {
     "name": "stdout",
     "output_type": "stream",
     "text": [
      "epoch: 7, [batch: 1663 / 2079], examples_per_second: 3584.5224, train_label_loss: 0.0073, \n"
     ]
    },
    {
     "name": "stdout",
     "output_type": "stream",
     "text": [
      "epoch: 7, [batch: 1871 / 2079], examples_per_second: 3629.0479, train_label_loss: 0.0736, \n"
     ]
    },
    {
     "name": "stdout",
     "output_type": "stream",
     "text": [
      "=============================================================\n",
      "epoch: 7, source_val_acc_label: 0.9724, target_val_acc_label: 0.3407, source_val_label_loss: 0.1242, target_val_label_loss: 2.2641, \n",
      "=============================================================\n"
     ]
    },
    {
     "name": "stdout",
     "output_type": "stream",
     "text": [
      "epoch: 8, [batch: 1 / 2080], examples_per_second: 11.2098, train_label_loss: 0.2926, \n"
     ]
    },
    {
     "name": "stdout",
     "output_type": "stream",
     "text": [
      "epoch: 8, [batch: 208 / 2080], examples_per_second: 3614.8394, train_label_loss: 0.1253, \n"
     ]
    },
    {
     "name": "stdout",
     "output_type": "stream",
     "text": [
      "epoch: 8, [batch: 416 / 2080], examples_per_second: 3663.6250, train_label_loss: 0.0044, \n"
     ]
    },
    {
     "name": "stdout",
     "output_type": "stream",
     "text": [
      "epoch: 8, [batch: 624 / 2080], examples_per_second: 3645.0029, train_label_loss: 0.0047, \n"
     ]
    },
    {
     "name": "stdout",
     "output_type": "stream",
     "text": [
      "epoch: 8, [batch: 832 / 2080], examples_per_second: 3658.4936, train_label_loss: 0.0675, \n"
     ]
    },
    {
     "name": "stdout",
     "output_type": "stream",
     "text": [
      "epoch: 8, [batch: 1040 / 2080], examples_per_second: 3657.7371, train_label_loss: 0.0136, \n"
     ]
    },
    {
     "name": "stdout",
     "output_type": "stream",
     "text": [
      "epoch: 8, [batch: 1248 / 2080], examples_per_second: 3655.7056, train_label_loss: 0.0293, \n"
     ]
    },
    {
     "name": "stdout",
     "output_type": "stream",
     "text": [
      "epoch: 8, [batch: 1456 / 2080], examples_per_second: 3682.4814, train_label_loss: 0.0003, \n"
     ]
    },
    {
     "name": "stdout",
     "output_type": "stream",
     "text": [
      "epoch: 8, [batch: 1664 / 2080], examples_per_second: 3615.5804, train_label_loss: 0.0975, \n"
     ]
    },
    {
     "name": "stdout",
     "output_type": "stream",
     "text": [
      "epoch: 8, [batch: 1872 / 2080], examples_per_second: 3663.4872, train_label_loss: 0.0623, \n"
     ]
    },
    {
     "name": "stdout",
     "output_type": "stream",
     "text": [
      "=============================================================\n",
      "epoch: 8, source_val_acc_label: 0.9761, target_val_acc_label: 0.3251, source_val_label_loss: 0.1144, target_val_label_loss: 2.2861, \n",
      "=============================================================\n"
     ]
    },
    {
     "name": "stdout",
     "output_type": "stream",
     "text": [
      "Patience (3) exhausted\n"
     ]
    }
   ],
   "source": [
    "###################################\n",
    "# train\n",
    "###################################\n",
    "jig = PTN_Train_Eval_Test_Jig(model, p.BEST_MODEL_PATH, p.device)\n",
    "\n",
    "jig.train(\n",
    "    train_iterable=datasets.source.processed.train,\n",
    "    source_val_iterable=datasets.source.processed.val,\n",
    "    target_val_iterable=datasets.target.processed.val,\n",
    "    num_epochs=p.n_epoch,\n",
    "    num_logs_per_epoch=p.NUM_LOGS_PER_EPOCH,\n",
    "    patience=p.patience,\n",
    "    optimizer=optimizer,\n",
    "    criteria_for_best=p.criteria_for_best,\n",
    ")"
   ]
  },
  {
   "cell_type": "code",
   "execution_count": 23,
   "id": "31e8fabf",
   "metadata": {
    "execution": {
     "iopub.execute_input": "2022-03-18T23:37:01.613539Z",
     "iopub.status.busy": "2022-03-18T23:37:01.613158Z",
     "iopub.status.idle": "2022-03-18T23:37:01.628631Z",
     "shell.execute_reply": "2022-03-18T23:37:01.628261Z"
    },
    "papermill": {
     "duration": 0.047442,
     "end_time": "2022-03-18T23:37:01.628722",
     "exception": false,
     "start_time": "2022-03-18T23:37:01.581280",
     "status": "completed"
    },
    "tags": []
   },
   "outputs": [],
   "source": [
    "total_experiment_time_secs = time.time() - start_time_secs"
   ]
  },
  {
   "cell_type": "code",
   "execution_count": 24,
   "id": "87b9595b",
   "metadata": {
    "execution": {
     "iopub.execute_input": "2022-03-18T23:37:01.699427Z",
     "iopub.status.busy": "2022-03-18T23:37:01.699126Z",
     "iopub.status.idle": "2022-03-18T23:38:04.339585Z",
     "shell.execute_reply": "2022-03-18T23:38:04.339987Z"
    },
    "papermill": {
     "duration": 62.676499,
     "end_time": "2022-03-18T23:38:04.340119",
     "exception": false,
     "start_time": "2022-03-18T23:37:01.663620",
     "status": "completed"
    },
    "tags": []
   },
   "outputs": [],
   "source": [
    "###################################\n",
    "# Evaluate the model\n",
    "###################################\n",
    "source_test_label_accuracy, source_test_label_loss = jig.test(datasets.source.processed.test)\n",
    "target_test_label_accuracy, target_test_label_loss = jig.test(datasets.target.processed.test)\n",
    "\n",
    "source_val_label_accuracy, source_val_label_loss = jig.test(datasets.source.processed.val)\n",
    "target_val_label_accuracy, target_val_label_loss = jig.test(datasets.target.processed.val)\n",
    "\n",
    "history = jig.get_history()\n",
    "\n",
    "total_epochs_trained = len(history[\"epoch_indices\"])\n",
    "\n",
    "val_dl = Iterable_Aggregator((datasets.source.original.val,datasets.target.original.val))\n",
    "\n",
    "confusion = ptn_confusion_by_domain_over_dataloader(model, p.device, val_dl)\n",
    "per_domain_accuracy = per_domain_accuracy_from_confusion(confusion)\n",
    "\n",
    "# Add a key to per_domain_accuracy for if it was a source domain\n",
    "for domain, accuracy in per_domain_accuracy.items():\n",
    "    per_domain_accuracy[domain] = {\n",
    "        \"accuracy\": accuracy,\n",
    "        \"source?\": domain in p.domains_source\n",
    "    }\n",
    "\n",
    "# Do an independent accuracy assesment JUST TO BE SURE!\n",
    "# _source_test_label_accuracy = independent_accuracy_assesment(model, datasets.source.processed.test, p.device)\n",
    "# _target_test_label_accuracy = independent_accuracy_assesment(model, datasets.target.processed.test, p.device)\n",
    "# _source_val_label_accuracy = independent_accuracy_assesment(model, datasets.source.processed.val, p.device)\n",
    "# _target_val_label_accuracy = independent_accuracy_assesment(model, datasets.target.processed.val, p.device)\n",
    "\n",
    "# assert(_source_test_label_accuracy == source_test_label_accuracy)\n",
    "# assert(_target_test_label_accuracy == target_test_label_accuracy)\n",
    "# assert(_source_val_label_accuracy == source_val_label_accuracy)\n",
    "# assert(_target_val_label_accuracy == target_val_label_accuracy)\n",
    "\n",
    "experiment = {\n",
    "    \"experiment_name\": p.experiment_name,\n",
    "    \"parameters\": dict(p),\n",
    "    \"results\": {\n",
    "        \"source_test_label_accuracy\": source_test_label_accuracy,\n",
    "        \"source_test_label_loss\": source_test_label_loss,\n",
    "        \"target_test_label_accuracy\": target_test_label_accuracy,\n",
    "        \"target_test_label_loss\": target_test_label_loss,\n",
    "        \"source_val_label_accuracy\": source_val_label_accuracy,\n",
    "        \"source_val_label_loss\": source_val_label_loss,\n",
    "        \"target_val_label_accuracy\": target_val_label_accuracy,\n",
    "        \"target_val_label_loss\": target_val_label_loss,\n",
    "        \"total_epochs_trained\": total_epochs_trained,\n",
    "        \"total_experiment_time_secs\": total_experiment_time_secs,\n",
    "        \"confusion\": confusion,\n",
    "        \"per_domain_accuracy\": per_domain_accuracy,\n",
    "    },\n",
    "    \"history\": history,\n",
    "    \"dataset_metrics\": get_dataset_metrics(datasets, \"ptn\"),\n",
    "}"
   ]
  },
  {
   "cell_type": "code",
   "execution_count": 25,
   "id": "54a21829",
   "metadata": {
    "execution": {
     "iopub.execute_input": "2022-03-18T23:38:04.408915Z",
     "iopub.status.busy": "2022-03-18T23:38:04.408661Z",
     "iopub.status.idle": "2022-03-18T23:38:04.533804Z",
     "shell.execute_reply": "2022-03-18T23:38:04.533405Z"
    },
    "papermill": {
     "duration": 0.157766,
     "end_time": "2022-03-18T23:38:04.533896",
     "exception": false,
     "start_time": "2022-03-18T23:38:04.376130",
     "status": "completed"
    },
    "tags": []
   },
   "outputs": [
    {
     "data": {
      "image/png": "[encoded data removed]",
      "text/plain": [
       "<Figure size 1080x504 with 1 Axes>"
      ]
     },
     "metadata": {
      "needs_background": "light"
     },
     "output_type": "display_data"
    }
   ],
   "source": [
    "ax = get_loss_curve(experiment)\n",
    "plt.show()"
   ]
  },
  {
   "cell_type": "code",
   "execution_count": 26,
   "id": "fd8a0f60",
   "metadata": {
    "execution": {
     "iopub.execute_input": "2022-03-18T23:38:04.602418Z",
     "iopub.status.busy": "2022-03-18T23:38:04.602164Z",
     "iopub.status.idle": "2022-03-18T23:38:04.741245Z",
     "shell.execute_reply": "2022-03-18T23:38:04.741446Z"
    },
    "papermill": {
     "duration": 0.171757,
     "end_time": "2022-03-18T23:38:04.741509",
     "exception": false,
     "start_time": "2022-03-18T23:38:04.569752",
     "status": "completed"
    },
    "tags": []
   },
   "outputs": [
    {
     "data": {
      "text/plain": [
       "<AxesSubplot:title={'center':'Results'}>"
      ]
     },
     "execution_count": 26,
     "metadata": {},
     "output_type": "execute_result"
    },
    {
     "data": {
      "image/png": "[encoded data removed]",
      "text/plain": [
       "<Figure size 1080x504 with 1 Axes>"
      ]
     },
     "metadata": {
      "needs_background": "light"
     },
     "output_type": "display_data"
    }
   ],
   "source": [
    "get_results_table(experiment)"
   ]
  },
  {
   "cell_type": "code",
   "execution_count": 27,
   "id": "cf8dc689",
   "metadata": {
    "execution": {
     "iopub.execute_input": "2022-03-18T23:38:04.810070Z",
     "iopub.status.busy": "2022-03-18T23:38:04.809819Z",
     "iopub.status.idle": "2022-03-18T23:38:04.972151Z",
     "shell.execute_reply": "2022-03-18T23:38:04.971706Z"
    },
    "papermill": {
     "duration": 0.197315,
     "end_time": "2022-03-18T23:38:04.972240",
     "exception": false,
     "start_time": "2022-03-18T23:38:04.774925",
     "status": "completed"
    },
    "tags": []
   },
   "outputs": [
    {
     "data": {
      "text/plain": [
       "<AxesSubplot:title={'center':'Per Domain Validation Accuracy'}, xlabel='domain'>"
      ]
     },
     "execution_count": 27,
     "metadata": {},
     "output_type": "execute_result"
    },
    {
     "data": {
      "image/png": "[encoded data removed]",
      "text/plain": [
       "<Figure size 1080x504 with 1 Axes>"
      ]
     },
     "metadata": {
      "needs_background": "light"
     },
     "output_type": "display_data"
    }
   ],
   "source": [
    "get_domain_accuracies(experiment)"
   ]
  },
  {
   "cell_type": "code",
   "execution_count": 28,
   "id": "a74ae082",
   "metadata": {
    "execution": {
     "iopub.execute_input": "2022-03-18T23:38:05.044876Z",
     "iopub.status.busy": "2022-03-18T23:38:05.044621Z",
     "iopub.status.idle": "2022-03-18T23:38:05.058542Z",
     "shell.execute_reply": "2022-03-18T23:38:05.058915Z"
    },
    "papermill": {
     "duration": 0.049969,
     "end_time": "2022-03-18T23:38:05.059018",
     "exception": false,
     "start_time": "2022-03-18T23:38:05.009049",
     "status": "completed"
    },
    "tags": []
   },
   "outputs": [
    {
     "name": "stdout",
     "output_type": "stream",
     "text": [
      "Source Test Label Accuracy: 0.9749134948096886 Target Test Label Accuracy: 0.537109375\n",
      "Source Val Label Accuracy: 0.9693987889273357 Target Val Label Accuracy: 0.5351888020833333\n"
     ]
    }
   ],
   "source": [
    "print(\"Source Test Label Accuracy:\", experiment[\"results\"][\"source_test_label_accuracy\"], \"Target Test Label Accuracy:\", experiment[\"results\"][\"target_test_label_accuracy\"])\n",
    "print(\"Source Val Label Accuracy:\", experiment[\"results\"][\"source_val_label_accuracy\"], \"Target Val Label Accuracy:\", experiment[\"results\"][\"target_val_label_accuracy\"])"
   ]
  },
  {
   "cell_type": "code",
   "execution_count": 29,
   "id": "dacca602",
   "metadata": {
    "execution": {
     "iopub.execute_input": "2022-03-18T23:38:05.131935Z",
     "iopub.status.busy": "2022-03-18T23:38:05.131689Z",
     "iopub.status.idle": "2022-03-18T23:38:05.143694Z",
     "shell.execute_reply": "2022-03-18T23:38:05.143983Z"
    },
    "papermill": {
     "duration": 0.04761,
     "end_time": "2022-03-18T23:38:05.144066",
     "exception": false,
     "start_time": "2022-03-18T23:38:05.096456",
     "status": "completed"
    },
    "tags": [
     "experiment_json"
    ]
   },
   "outputs": [
    {
     "data": {
      "text/plain": [
       "'{\"experiment_name\": \"tl_3A:cores+wisig -> oracle.run1.framed\", \"parameters\": {\"experiment_name\": \"tl_3A:cores+wisig -> oracle.run1.framed\", \"device\": \"cuda\", \"lr\": 0.001, \"x_shape\": [2, 200], \"n_shot\": 3, \"n_query\": 2, \"train_k_factor\": 3, \"val_k_factor\": 2, \"test_k_factor\": 2, \"torch_default_dtype\": \"torch.float32\", \"n_epoch\": 50, \"patience\": 3, \"criteria_for_best\": \"target_loss\", \"x_net\": [{\"class\": \"nnReshape\", \"kargs\": {\"shape\": [-1, 1, 2, 200]}}, {\"class\": \"Conv2d\", \"kargs\": {\"in_channels\": 1, \"out_channels\": 256, \"kernel_size\": [1, 7], \"bias\": false, \"padding\": [0, 3]}}, {\"class\": \"ReLU\", \"kargs\": {\"inplace\": true}}, {\"class\": \"BatchNorm2d\", \"kargs\": {\"num_features\": 256}}, {\"class\": \"Conv2d\", \"kargs\": {\"in_channels\": 256, \"out_channels\": 80, \"kernel_size\": [2, 7], \"bias\": true, \"padding\": [0, 3]}}, {\"class\": \"ReLU\", \"kargs\": {\"inplace\": true}}, {\"class\": \"BatchNorm2d\", \"kargs\": {\"num_features\": 80}}, {\"class\": \"Flatten\", \"kargs\": {}}, {\"class\": \"Linear\", \"kargs\": {\"in_features\": 16000, \"out_features\": 256}}, {\"class\": \"ReLU\", \"kargs\": {\"inplace\": true}}, {\"class\": \"BatchNorm1d\", \"kargs\": {\"num_features\": 256}}, {\"class\": \"Linear\", \"kargs\": {\"in_features\": 256, \"out_features\": 256}}], \"NUM_LOGS_PER_EPOCH\": 10, \"BEST_MODEL_PATH\": \"./best_model.pth\", \"n_way\": 16, \"datasets\": [{\"labels\": [\"1-10.\", \"1-11.\", \"1-15.\", \"1-16.\", \"1-17.\", \"1-18.\", \"1-19.\", \"10-4.\", \"10-7.\", \"11-1.\", \"11-14.\", \"11-17.\", \"11-20.\", \"11-7.\", \"13-20.\", \"13-8.\", \"14-10.\", \"14-11.\", \"14-14.\", \"14-7.\", \"15-1.\", \"15-20.\", \"16-1.\", \"16-16.\", \"17-10.\", \"17-11.\", \"17-2.\", \"19-1.\", \"19-16.\", \"19-19.\", \"19-20.\", \"19-3.\", \"2-10.\", \"2-11.\", \"2-17.\", \"2-18.\", \"2-20.\", \"2-3.\", \"2-4.\", \"2-5.\", \"2-6.\", \"2-7.\", \"2-8.\", \"3-13.\", \"3-18.\", \"3-3.\", \"4-1.\", \"4-10.\", \"4-11.\", \"4-19.\", \"5-5.\", \"6-15.\", \"7-10.\", \"7-14.\", \"8-18.\", \"8-20.\", \"8-3.\", \"8-8.\"], \"domains\": [1, 2, 3, 4, 5], \"num_examples_per_domain_per_label\": 100, \"pickle_path\": \"/mnt/wd500GB/CSC500/csc500-main/datasets/cores.stratified_ds.2022A.pkl\", \"source_or_target_dataset\": \"source\", \"x_transforms\": [\"take_200\"], \"episode_transforms\": [], \"domain_prefix\": \"C_A_\"}, {\"labels\": [\"1-10\", \"1-12\", \"1-14\", \"1-16\", \"1-18\", \"1-19\", \"1-8\", \"10-11\", \"10-17\", \"10-4\", \"10-7\", \"11-1\", \"11-10\", \"11-19\", \"11-20\", \"11-4\", \"11-7\", \"12-19\", \"12-20\", \"12-7\", \"13-14\", \"13-18\", \"13-19\", \"13-20\", \"13-3\", \"13-7\", \"14-10\", \"14-11\", \"14-12\", \"14-13\", \"14-14\", \"14-19\", \"14-20\", \"14-7\", \"14-8\", \"14-9\", \"15-1\", \"15-19\", \"15-6\", \"16-1\", \"16-16\", \"16-19\", \"16-20\", \"17-10\", \"17-11\", \"18-1\", \"18-10\", \"18-11\", \"18-12\", \"18-13\", \"18-14\", \"18-15\", \"18-16\", \"18-17\", \"18-19\", \"18-2\", \"18-20\", \"18-4\", \"18-5\", \"18-7\", \"18-8\", \"18-9\", \"19-1\", \"19-10\", \"19-11\", \"19-12\", \"19-13\", \"19-14\", \"19-15\", \"19-19\", \"19-2\", \"19-20\", \"19-3\", \"19-4\", \"19-6\", \"19-7\", \"19-8\", \"19-9\", \"2-1\", \"2-13\", \"2-15\", \"2-3\", \"2-4\", \"2-5\", \"2-6\", \"2-7\", \"2-8\", \"20-1\", \"20-12\", \"20-14\", \"20-15\", \"20-16\", \"20-18\", \"20-19\", \"20-20\", \"20-3\", \"20-4\", \"20-5\", \"20-7\", \"20-8\", \"3-1\", \"3-13\", \"3-18\", \"3-2\", \"3-8\", \"4-1\", \"4-10\", \"4-11\", \"5-1\", \"5-5\", \"6-1\", \"6-15\", \"6-6\", \"7-10\", \"7-11\", \"7-12\", \"7-13\", \"7-14\", \"7-7\", \"7-8\", \"7-9\", \"8-1\", \"8-13\", \"8-14\", \"8-18\", \"8-20\", \"8-3\", \"8-8\", \"9-1\", \"9-7\"], \"domains\": [1, 2, 3, 4], \"num_examples_per_domain_per_label\": 100, \"pickle_path\": \"/mnt/wd500GB/CSC500/csc500-main/datasets/wisig.node3-19.stratified_ds.2022A.pkl\", \"source_or_target_dataset\": \"source\", \"x_transforms\": [\"take_200\"], \"episode_transforms\": [], \"domain_prefix\": \"W_A_\"}, {\"labels\": [\"3123D52\", \"3123D65\", \"3123D79\", \"3123D80\", \"3123D54\", \"3123D70\", \"3123D7B\", \"3123D89\", \"3123D58\", \"3123D76\", \"3123D7D\", \"3123EFE\", \"3123D64\", \"3123D78\", \"3123D7E\", \"3124E4A\"], \"domains\": [32, 38, 8, 44, 14, 50, 20, 26], \"num_examples_per_domain_per_label\": 2000, \"pickle_path\": \"/mnt/wd500GB/CSC500/csc500-main/datasets/oracle.Run1_framed_2000Examples_stratified_ds.2022A.pkl\", \"source_or_target_dataset\": \"target\", \"x_transforms\": [\"take_200\", \"resample_20Msps_to_25Msps\"], \"episode_transforms\": [], \"domain_prefix\": \"ORACLE.run1_\"}], \"seed\": 500, \"dataset_seed\": 500, \"domains_source\": [\"C_A_1\", \"C_A_2\", \"C_A_3\", \"C_A_4\", \"C_A_5\", \"W_A_1\", \"W_A_2\", \"W_A_3\", \"W_A_4\"], \"domains_target\": [\"ORACLE.run1_32\", \"ORACLE.run1_38\", \"ORACLE.run1_8\", \"ORACLE.run1_44\", \"ORACLE.run1_14\", \"ORACLE.run1_50\", \"ORACLE.run1_20\", \"ORACLE.run1_26\"]}, \"results\": {\"source_test_label_accuracy\": 0.9749134948096886, \"source_test_label_loss\": 0.12619830667972565, \"target_test_label_accuracy\": 0.537109375, \"target_test_label_loss\": 2.259873628616333, \"source_val_label_accuracy\": 0.9693987889273357, \"source_val_label_loss\": 0.147014319896698, \"target_val_label_accuracy\": 0.5351888020833333, \"target_val_label_loss\": 2.25986647605896, \"total_epochs_trained\": 8, \"total_experiment_time_secs\": 464.8740746974945, \"confusion\": {\"C_A_4\": {\"38\": {\"38\": 12}, \"3\": {\"3\": 12}, \"24\": {\"24\": 12}, \"49\": {\"49\": 10}, \"7\": {\"7\": 12}, \"17\": {\"17\": 12}, \"43\": {\"43\": 10}, \"30\": {\"30\": 12}, \"44\": {\"44\": 12}, \"23\": {\"23\": 10}, \"37\": {\"37\": 12}, \"4\": {\"4\": 12}, \"57\": {\"57\": 12}, \"16\": {\"16\": 8}, \"18\": {\"18\": 12}, \"20\": {\"20\": 10}, \"45\": {\"45\": 8}, \"15\": {\"15\": 10}, \"52\": {\"52\": 12}, \"19\": {\"19\": 12}, \"54\": {\"54\": 12}, \"56\": {\"56\": 10}, \"40\": {\"40\": 11, \"44\": 1}, \"28\": {\"28\": 12}, \"2\": {\"2\": 8}, \"9\": {\"9\": 12}, \"0\": {\"0\": 12}, \"36\": {\"36\": 12}, \"55\": {\"55\": 10}, \"35\": {\"35\": 10}, \"39\": {\"39\": 11, \"33\": 1}, \"31\": {\"31\": 12}, \"14\": {\"14\": 12}, \"12\": {\"12\": 12}, \"6\": {\"6\": 10}, \"48\": {\"48\": 12}, \"51\": {\"51\": 10}, \"5\": {\"5\": 12}, \"22\": {\"22\": 12}, \"25\": {\"25\": 12}, \"26\": {\"26\": 12}, \"47\": {\"47\": 12}, \"1\": {\"1\": 10}, \"41\": {\"41\": 12}, \"27\": {\"27\": 12}, \"8\": {\"8\": 12}, \"29\": {\"29\": 12}, \"11\": {\"11\": 10}, \"34\": {\"34\": 12}, \"21\": {\"21\": 12}, \"53\": {\"53\": 10}, \"10\": {\"10\": 12}, \"33\": {\"33\": 12}, \"42\": {\"42\": 12}, \"50\": {\"50\": 9, \"5\": 1}, \"13\": {\"13\": 4}, \"46\": {\"46\": 8}, \"32\": {\"32\": 8}}, \"W_A_3\": {\"99\": {\"99\": 12}, \"8\": {\"8\": 12}, \"65\": {\"18\": 1, \"65\": 7, \"128\": 1, \"28\": 1, \"66\": 1, \"120\": 1}, \"117\": {\"117\": 10}, \"18\": {\"18\": 12}, \"39\": {\"39\": 12}, \"102\": {\"102\": 12}, \"76\": {\"76\": 12}, \"101\": {\"101\": 12}, \"57\": {\"57\": 12}, \"86\": {\"86\": 12}, \"11\": {\"11\": 11, \"39\": 1}, \"98\": {\"98\": 12}, \"42\": {\"39\": 1, \"42\": 10, \"83\": 1}, \"47\": {\"47\": 12}, \"49\": {\"49\": 11, \"44\": 1}, \"111\": {\"111\": 12}, \"36\": {\"36\": 12}, \"124\": {\"124\": 12}, \"122\": {\"122\": 11, \"127\": 1}, \"93\": {\"93\": 12}, \"89\": {\"89\": 12}, \"51\": {\"51\": 12}, \"73\": {\"73\": 12}, \"45\": {\"45\": 12}, \"5\": {\"5\": 12}, \"69\": {\"69\": 12}, \"26\": {\"26\": 12}, \"1\": {\"1\": 12}, \"92\": {\"92\": 8}, \"96\": {\"96\": 12}, \"85\": {\"85\": 12}, \"114\": {\"114\": 12}, \"50\": {\"50\": 12}, \"81\": {\"81\": 12}, \"2\": {\"2\": 12}, \"33\": {\"33\": 12}, \"31\": {\"31\": 12}, \"90\": {\"90\": 8}, \"17\": {\"17\": 10, \"40\": 1, \"78\": 1}, \"116\": {\"116\": 10}, \"91\": {\"91\": 12}, \"41\": {\"41\": 12}, \"78\": {\"78\": 5, \"13\": 1}, \"21\": {\"21\": 12}, \"23\": {\"23\": 12}, \"63\": {\"63\": 12}, \"103\": {\"103\": 12}, \"54\": {\"54\": 12}, \"87\": {\"87\": 12}, \"123\": {\"123\": 12}, \"32\": {\"32\": 11, \"74\": 1}, \"70\": {\"70\": 12}, \"19\": {\"19\": 12}, \"55\": {\"55\": 12}, \"34\": {\"34\": 12}, \"28\": {\"28\": 12}, \"109\": {\"39\": 1, \"109\": 9}, \"72\": {\"72\": 12}, \"9\": {\"9\": 12}, \"80\": {\"80\": 11, \"89\": 1}, \"125\": {\"125\": 12}, \"24\": {\"24\": 9, \"27\": 2, \"74\": 1}, \"129\": {\"129\": 12}, \"112\": {\"112\": 9, \"81\": 1, \"88\": 2}, \"110\": {\"110\": 10, \"24\": 1, \"69\": 1}, \"53\": {\"53\": 12}, \"12\": {\"12\": 12}, \"22\": {\"22\": 12}, \"46\": {\"46\": 12}, \"119\": {\"119\": 12}, \"75\": {\"75\": 12}, \"14\": {\"14\": 11, \"71\": 1}, \"71\": {\"71\": 10, \"3\": 2}, \"95\": {\"95\": 11, \"45\": 1}, \"13\": {\"13\": 6, \"121\": 1, \"26\": 1, \"116\": 1, \"102\": 1}, \"126\": {\"126\": 10}, \"104\": {\"104\": 10}, \"30\": {\"30\": 12}, \"97\": {\"97\": 12}, \"56\": {\"56\": 12}, \"115\": {\"115\": 12}, \"48\": {\"48\": 10}, \"7\": {\"43\": 1, \"7\": 11}, \"94\": {\"94\": 11, \"13\": 1}, \"38\": {\"38\": 12}, \"64\": {\"64\": 12}, \"43\": {\"43\": 10, \"68\": 1, \"55\": 1}, \"15\": {\"15\": 12}, \"82\": {\"82\": 12}, \"84\": {\"84\": 12}, \"29\": {\"29\": 12}, \"121\": {\"121\": 10, \"75\": 1, \"6\": 1}, \"127\": {\"127\": 12}, \"40\": {\"40\": 12}, \"106\": {\"106\": 12}, \"3\": {\"3\": 12}, \"120\": {\"120\": 12}, \"6\": {\"121\": 1, \"6\": 10, \"82\": 1}, \"0\": {\"0\": 11, \"10\": 1}, \"4\": {\"24\": 1, \"4\": 10, \"23\": 1}, \"27\": {\"27\": 12}, \"107\": {\"107\": 12}, \"61\": {\"61\": 12}, \"10\": {\"10\": 12}, \"67\": {\"67\": 11, \"42\": 1}, \"58\": {\"58\": 10}, \"66\": {\"66\": 12}, \"108\": {\"108\": 11, \"35\": 1}, \"20\": {\"20\": 12}, \"60\": {\"60\": 12}, \"128\": {\"128\": 12}, \"118\": {\"118\": 12}, \"25\": {\"25\": 12}, \"83\": {\"83\": 12}, \"68\": {\"68\": 12}, \"77\": {\"77\": 12}, \"88\": {\"88\": 12}, \"105\": {\"105\": 12}, \"35\": {\"35\": 12}, \"52\": {\"52\": 6, \"2\": 1, \"117\": 1}, \"59\": {\"59\": 8}, \"74\": {\"74\": 12}, \"16\": {\"16\": 10}, \"62\": {\"62\": 10}, \"79\": {\"79\": 12}, \"44\": {\"44\": 10}, \"113\": {\"62\": 1, \"113\": 8, \"118\": 1}, \"37\": {\"37\": 7, \"88\": 1}, \"100\": {\"100\": 6}}, \"C_A_2\": {\"32\": {\"32\": 12}, \"17\": {\"17\": 12}, \"38\": {\"38\": 12}, \"2\": {\"2\": 10}, \"43\": {\"43\": 8}, \"56\": {\"56\": 12}, \"37\": {\"37\": 12}, \"49\": {\"49\": 12}, \"0\": {\"0\": 10}, \"29\": {\"29\": 10}, \"35\": {\"35\": 10}, \"18\": {\"18\": 12}, \"25\": {\"25\": 12}, \"23\": {\"23\": 12}, \"15\": {\"15\": 12}, \"21\": {\"21\": 12}, \"48\": {\"48\": 12}, \"12\": {\"12\": 10}, \"41\": {\"41\": 9, \"21\": 1}, \"14\": {\"22\": 1, \"14\": 11}, \"7\": {\"7\": 10}, \"9\": {\"9\": 12}, \"55\": {\"55\": 12}, \"36\": {\"36\": 12}, \"22\": {\"22\": 12}, \"13\": {\"13\": 10}, \"30\": {\"30\": 12}, \"51\": {\"51\": 12}, \"34\": {\"34\": 12}, \"57\": {\"57\": 12}, \"47\": {\"47\": 12}, \"1\": {\"1\": 10}, \"44\": {\"44\": 12}, \"31\": {\"31\": 10}, \"4\": {\"4\": 12}, \"10\": {\"10\": 12}, \"33\": {\"33\": 12}, \"52\": {\"52\": 12}, \"24\": {\"24\": 12}, \"8\": {\"8\": 10}, \"26\": {\"26\": 10}, \"42\": {\"42\": 12}, \"53\": {\"53\": 12}, \"54\": {\"54\": 12}, \"46\": {\"46\": 10}, \"39\": {\"39\": 12}, \"16\": {\"16\": 10}, \"11\": {\"11\": 12}, \"40\": {\"40\": 12}, \"28\": {\"28\": 8}, \"19\": {\"19\": 12}, \"50\": {\"50\": 6}, \"45\": {\"45\": 8, \"6\": 2}, \"20\": {\"20\": 12}, \"27\": {\"27\": 10}, \"6\": {\"6\": 10}, \"3\": {\"3\": 10}, \"5\": {\"5\": 6}}, \"W_A_2\": {\"73\": {\"73\": 12}, \"40\": {\"40\": 12}, \"99\": {\"99\": 12}, \"5\": {\"5\": 12}, \"108\": {\"108\": 12}, \"128\": {\"128\": 10}, \"89\": {\"89\": 12}, \"107\": {\"40\": 2, \"107\": 9, \"56\": 1}, \"2\": {\"2\": 10, \"48\": 1, \"114\": 1}, \"78\": {\"78\": 11, \"109\": 1}, \"85\": {\"85\": 11, \"14\": 1}, \"44\": {\"44\": 12}, \"58\": {\"58\": 10, \"98\": 1, \"74\": 1}, \"57\": {\"57\": 11, \"58\": 1}, \"41\": {\"41\": 11, \"88\": 1}, \"53\": {\"53\": 10, \"57\": 1, \"24\": 1}, \"14\": {\"14\": 10, \"74\": 2}, \"83\": {\"83\": 12}, \"119\": {\"119\": 12}, \"95\": {\"95\": 12}, \"28\": {\"28\": 9, \"24\": 1, \"63\": 1, \"13\": 1}, \"19\": {\"19\": 12}, \"69\": {\"69\": 12}, \"93\": {\"93\": 12}, \"9\": {\"9\": 12}, \"118\": {\"118\": 12}, \"43\": {\"43\": 12}, \"47\": {\"47\": 10, \"19\": 1, \"90\": 1}, \"125\": {\"125\": 12}, \"29\": {\"29\": 12}, \"4\": {\"4\": 12}, \"55\": {\"55\": 11, \"50\": 1}, \"105\": {\"105\": 12}, \"50\": {\"50\": 12}, \"62\": {\"62\": 11, \"51\": 1}, \"24\": {\"24\": 12}, \"60\": {\"60\": 11, \"114\": 1}, \"106\": {\"106\": 12}, \"59\": {\"59\": 11, \"74\": 1}, \"49\": {\"49\": 10, \"14\": 1, \"58\": 1}, \"76\": {\"76\": 12}, \"122\": {\"122\": 12}, \"114\": {\"114\": 9, \"49\": 1}, \"15\": {\"15\": 12}, \"98\": {\"98\": 12}, \"91\": {\"91\": 12}, \"80\": {\"80\": 11, \"67\": 1}, \"113\": {\"113\": 10, \"61\": 1, \"85\": 1}, \"38\": {\"38\": 12}, \"86\": {\"86\": 12}, \"0\": {\"21\": 1, \"0\": 9}, \"90\": {\"90\": 12}, \"21\": {\"21\": 12}, \"31\": {\"31\": 11, \"61\": 1}, \"33\": {\"33\": 12}, \"64\": {\"64\": 12}, \"81\": {\"81\": 12}, \"17\": {\"74\": 1, \"17\": 7, \"16\": 1, \"86\": 1, \"21\": 1, \"32\": 1}, \"102\": {\"102\": 12}, \"74\": {\"74\": 11, \"14\": 1}, \"34\": {\"34\": 12}, \"45\": {\"45\": 9, \"101\": 1, \"89\": 2}, \"75\": {\"75\": 12}, \"11\": {\"11\": 12}, \"79\": {\"79\": 12}, \"109\": {\"109\": 12}, \"6\": {\"6\": 12}, \"94\": {\"94\": 9, \"21\": 2, \"98\": 1}, \"100\": {\"100\": 12}, \"67\": {\"67\": 12}, \"97\": {\"97\": 11, \"127\": 1}, \"112\": {\"112\": 12}, \"96\": {\"96\": 12}, \"35\": {\"35\": 12}, \"54\": {\"54\": 12}, \"111\": {\"111\": 11, \"61\": 1}, \"61\": {\"94\": 1, \"61\": 10, \"21\": 1}, \"82\": {\"82\": 12}, \"110\": {\"110\": 12}, \"116\": {\"116\": 11, \"102\": 1}, \"115\": {\"115\": 11, \"21\": 1}, \"84\": {\"84\": 11, \"58\": 1}, \"25\": {\"25\": 10, \"98\": 1, \"21\": 1}, \"66\": {\"66\": 11, \"74\": 1}, \"20\": {\"20\": 12}, \"72\": {\"72\": 12}, \"123\": {\"123\": 12}, \"3\": {\"3\": 12}, \"124\": {\"124\": 12}, \"36\": {\"36\": 8}, \"12\": {\"12\": 11, \"21\": 1}, \"10\": {\"10\": 12}, \"23\": {\"23\": 8, \"30\": 1, \"109\": 1}, \"120\": {\"120\": 12}, \"121\": {\"121\": 11, \"78\": 1}, \"68\": {\"68\": 12}, \"117\": {\"68\": 1, \"117\": 8, \"46\": 1, \"81\": 2}, \"92\": {\"92\": 12}, \"129\": {\"129\": 12}, \"7\": {\"7\": 11, \"26\": 1}, \"37\": {\"123\": 1, \"37\": 11}, \"71\": {\"71\": 12}, \"30\": {\"30\": 12}, \"127\": {\"127\": 10}, \"52\": {\"52\": 11, \"12\": 1}, \"22\": {\"22\": 12}, \"16\": {\"16\": 9, \"93\": 1, \"27\": 1, \"20\": 1}, \"126\": {\"126\": 8}, \"48\": {\"48\": 10, \"63\": 1, \"24\": 1}, \"101\": {\"101\": 12}, \"42\": {\"42\": 12}, \"1\": {\"1\": 12}, \"63\": {\"63\": 12}, \"56\": {\"52\": 1, \"56\": 10, \"51\": 1}, \"18\": {\"18\": 12}, \"46\": {\"46\": 12}, \"103\": {\"103\": 12}, \"13\": {\"13\": 11, \"57\": 1}, \"8\": {\"8\": 12}, \"39\": {\"39\": 11, \"109\": 1}, \"51\": {\"51\": 7, \"70\": 1, \"9\": 1, \"31\": 1, \"88\": 1, \"58\": 1}, \"87\": {\"87\": 10, \"88\": 1, \"24\": 1}, \"27\": {\"27\": 10, \"16\": 1, \"21\": 1}, \"70\": {\"70\": 11, \"88\": 1}, \"32\": {\"32\": 12}, \"77\": {\"77\": 11, \"28\": 1}, \"26\": {\"26\": 11, \"51\": 1}, \"88\": {\"88\": 10}, \"65\": {\"65\": 11, \"120\": 1}, \"104\": {\"104\": 5, \"61\": 1, \"20\": 1, \"117\": 1}}, \"C_A_3\": {\"5\": {\"5\": 10}, \"32\": {\"32\": 12}, \"33\": {\"33\": 12}, \"49\": {\"49\": 12}, \"39\": {\"39\": 12}, \"11\": {\"11\": 12}, \"8\": {\"8\": 12}, \"26\": {\"26\": 10}, \"51\": {\"51\": 12}, \"4\": {\"4\": 12}, \"52\": {\"52\": 10}, \"47\": {\"47\": 12}, \"17\": {\"17\": 10}, \"53\": {\"53\": 12}, \"2\": {\"2\": 12}, \"12\": {\"12\": 10}, \"28\": {\"28\": 12}, \"6\": {\"6\": 12}, \"50\": {\"50\": 6}, \"57\": {\"57\": 12}, \"38\": {\"38\": 12}, \"18\": {\"18\": 12}, \"29\": {\"29\": 10}, \"10\": {\"10\": 12}, \"13\": {\"13\": 12}, \"14\": {\"14\": 12}, \"16\": {\"16\": 10}, \"46\": {\"46\": 12}, \"44\": {\"44\": 12}, \"20\": {\"20\": 12}, \"0\": {\"0\": 12}, \"55\": {\"55\": 12}, \"56\": {\"56\": 6}, \"19\": {\"19\": 12}, \"36\": {\"36\": 12}, \"48\": {\"48\": 12}, \"37\": {\"37\": 12}, \"35\": {\"35\": 10}, \"31\": {\"31\": 10}, \"30\": {\"30\": 8}, \"41\": {\"41\": 12}, \"15\": {\"15\": 12}, \"1\": {\"1\": 12}, \"22\": {\"22\": 12}, \"21\": {\"21\": 11, \"3\": 1}, \"45\": {\"45\": 10}, \"42\": {\"42\": 12}, \"24\": {\"24\": 12}, \"40\": {\"40\": 12}, \"43\": {\"43\": 12}, \"3\": {\"3\": 12}, \"23\": {\"23\": 8}, \"27\": {\"27\": 10}, \"34\": {\"34\": 12}, \"9\": {\"9\": 10}, \"25\": {\"25\": 8}, \"54\": {\"54\": 8}, \"7\": {\"7\": 8}}, \"W_A_1\": {\"57\": {\"57\": 12}, \"113\": {\"113\": 12}, \"114\": {\"114\": 11, \"109\": 1}, \"88\": {\"88\": 11, \"24\": 1}, \"4\": {\"4\": 12}, \"129\": {\"129\": 12}, \"67\": {\"67\": 12}, \"84\": {\"84\": 8}, \"13\": {\"13\": 11, \"50\": 1}, \"71\": {\"71\": 12}, \"10\": {\"71\": 1, \"10\": 10, \"127\": 1}, \"56\": {\"56\": 12}, \"109\": {\"109\": 12}, \"117\": {\"117\": 12}, \"9\": {\"9\": 12}, \"118\": {\"118\": 11, \"71\": 1}, \"85\": {\"85\": 12}, \"44\": {\"44\": 10}, \"17\": {\"109\": 1, \"17\": 8, \"128\": 1}, \"24\": {\"24\": 12}, \"98\": {\"98\": 12}, \"12\": {\"109\": 1, \"12\": 11}, \"106\": {\"106\": 12}, \"42\": {\"42\": 7, \"109\": 1, \"100\": 1, \"104\": 1, \"75\": 1, \"45\": 1}, \"63\": {\"63\": 12}, \"14\": {\"14\": 12}, \"122\": {\"122\": 10}, \"36\": {\"36\": 12}, \"125\": {\"125\": 12}, \"62\": {\"62\": 11, \"21\": 1}, \"38\": {\"38\": 12}, \"40\": {\"40\": 12}, \"116\": {\"116\": 11, \"65\": 1}, \"2\": {\"2\": 11, \"61\": 1}, \"54\": {\"54\": 12}, \"26\": {\"26\": 10, \"109\": 1, \"76\": 1}, \"92\": {\"92\": 8}, \"120\": {\"120\": 10, \"26\": 1, \"21\": 1}, \"108\": {\"108\": 10}, \"77\": {\"77\": 12}, \"58\": {\"58\": 12}, \"73\": {\"73\": 12}, \"61\": {\"61\": 11, \"12\": 1}, \"126\": {\"126\": 12}, \"103\": {\"103\": 12}, \"100\": {\"100\": 12}, \"46\": {\"58\": 1, \"46\": 10, \"124\": 1}, \"93\": {\"93\": 12}, \"101\": {\"101\": 12}, \"32\": {\"32\": 12}, \"16\": {\"16\": 12}, \"8\": {\"8\": 12}, \"104\": {\"104\": 10, \"71\": 1, \"83\": 1}, \"47\": {\"47\": 12}, \"3\": {\"3\": 12}, \"1\": {\"1\": 12}, \"18\": {\"18\": 12}, \"97\": {\"97\": 10}, \"107\": {\"107\": 12}, \"15\": {\"15\": 12}, \"6\": {\"6\": 12}, \"86\": {\"86\": 12}, \"30\": {\"30\": 12}, \"111\": {\"111\": 10}, \"37\": {\"37\": 12}, \"81\": {\"81\": 12}, \"7\": {\"7\": 12}, \"70\": {\"70\": 11, \"109\": 1}, \"124\": {\"124\": 10}, \"76\": {\"76\": 11, \"66\": 1}, \"95\": {\"95\": 12}, \"27\": {\"27\": 10}, \"75\": {\"75\": 12}, \"50\": {\"50\": 11, \"120\": 1}, \"52\": {\"52\": 12}, \"83\": {\"83\": 10, \"47\": 1, \"94\": 1}, \"65\": {\"65\": 11, \"50\": 1}, \"121\": {\"121\": 12}, \"123\": {\"123\": 12}, \"110\": {\"110\": 6}, \"31\": {\"31\": 12}, \"68\": {\"68\": 12}, \"0\": {\"0\": 12}, \"72\": {\"72\": 12}, \"102\": {\"102\": 10}, \"48\": {\"48\": 12}, \"33\": {\"33\": 12}, \"51\": {\"51\": 10, \"45\": 1, \"88\": 1}, \"99\": {\"99\": 8}, \"82\": {\"82\": 12}, \"94\": {\"94\": 12}, \"25\": {\"25\": 11, \"108\": 1}, \"39\": {\"39\": 12}, \"59\": {\"59\": 12}, \"20\": {\"20\": 12}, \"53\": {\"53\": 11, \"111\": 1}, \"115\": {\"115\": 10}, \"41\": {\"41\": 11, \"30\": 1}, \"35\": {\"35\": 6}, \"64\": {\"64\": 8}, \"78\": {\"78\": 12}, \"45\": {\"45\": 11, \"129\": 1}, \"80\": {\"80\": 11, \"95\": 1}, \"128\": {\"128\": 10, \"119\": 1, \"83\": 1}, \"96\": {\"96\": 12}, \"69\": {\"69\": 12}, \"19\": {\"19\": 12}, \"119\": {\"119\": 12}, \"21\": {\"21\": 12}, \"91\": {\"91\": 12}, \"105\": {\"105\": 12}, \"60\": {\"60\": 12}, \"66\": {\"66\": 8, \"22\": 1, \"90\": 1}, \"55\": {\"55\": 12}, \"29\": {\"29\": 12}, \"34\": {\"34\": 8}, \"74\": {\"74\": 8}, \"49\": {\"49\": 6}, \"22\": {\"22\": 12}, \"5\": {\"5\": 12}, \"89\": {\"89\": 8}, \"127\": {\"127\": 12}, \"87\": {\"87\": 10, \"78\": 1, \"74\": 1}, \"23\": {\"60\": 1, \"23\": 9}, \"28\": {\"28\": 12}, \"43\": {\"43\": 10}, \"11\": {\"11\": 8}, \"112\": {\"112\": 9, \"59\": 1}, \"79\": {\"79\": 8}, \"90\": {\"90\": 5, \"66\": 1}}, \"W_A_4\": {\"119\": {\"119\": 11, \"88\": 1}, \"101\": {\"101\": 12}, \"15\": {\"15\": 12}, \"22\": {\"22\": 10}, \"127\": {\"101\": 1, \"127\": 11}, \"6\": {\"6\": 11, \"1\": 1}, \"69\": {\"69\": 10}, \"41\": {\"41\": 10, \"59\": 1, \"50\": 1}, \"68\": {\"68\": 9, \"10\": 1}, \"126\": {\"126\": 12}, \"62\": {\"62\": 11, \"88\": 1}, \"26\": {\"26\": 12}, \"71\": {\"71\": 8, \"78\": 2, \"101\": 1, \"62\": 1}, \"78\": {\"78\": 12}, \"90\": {\"90\": 12}, \"24\": {\"24\": 12}, \"11\": {\"100\": 1, \"11\": 11}, \"35\": {\"35\": 12}, \"86\": {\"86\": 12}, \"3\": {\"3\": 12}, \"75\": {\"75\": 12}, \"100\": {\"100\": 9, \"5\": 2, \"57\": 1}, \"117\": {\"117\": 12}, \"120\": {\"120\": 12}, \"8\": {\"8\": 12}, \"27\": {\"27\": 12}, \"83\": {\"83\": 12}, \"129\": {\"129\": 12}, \"36\": {\"36\": 11, \"51\": 1}, \"67\": {\"67\": 12}, \"54\": {\"54\": 12}, \"92\": {\"92\": 12}, \"56\": {\"56\": 12}, \"29\": {\"29\": 12}, \"80\": {\"80\": 12}, \"123\": {\"123\": 11, \"51\": 1}, \"28\": {\"28\": 12}, \"42\": {\"42\": 12}, \"113\": {\"113\": 12}, \"53\": {\"53\": 11, \"21\": 1}, \"61\": {\"61\": 12}, \"39\": {\"39\": 12}, \"96\": {\"96\": 9, \"1\": 1}, \"109\": {\"39\": 2, \"109\": 7, \"116\": 1, \"98\": 1, \"82\": 1}, \"18\": {\"18\": 12}, \"10\": {\"10\": 12}, \"34\": {\"34\": 12}, \"103\": {\"103\": 12}, \"82\": {\"82\": 11, \"55\": 1}, \"65\": {\"65\": 12}, \"50\": {\"50\": 12}, \"99\": {\"99\": 10}, \"97\": {\"97\": 11, \"10\": 1}, \"124\": {\"124\": 12}, \"17\": {\"17\": 12}, \"0\": {\"0\": 12}, \"7\": {\"7\": 12}, \"112\": {\"112\": 12}, \"118\": {\"118\": 10, \"20\": 1, \"11\": 1}, \"5\": {\"5\": 11, \"101\": 1}, \"38\": {\"38\": 12}, \"2\": {\"2\": 12}, \"122\": {\"122\": 10, \"38\": 1, \"0\": 1}, \"125\": {\"125\": 12}, \"49\": {\"49\": 12}, \"60\": {\"60\": 12}, \"70\": {\"70\": 12}, \"85\": {\"85\": 12}, \"98\": {\"98\": 12}, \"116\": {\"116\": 12}, \"30\": {\"30\": 11, \"67\": 1}, \"9\": {\"9\": 12}, \"4\": {\"4\": 12}, \"51\": {\"51\": 9, \"36\": 1, \"21\": 1, \"81\": 1}, \"93\": {\"93\": 12}, \"55\": {\"55\": 12}, \"44\": {\"44\": 12}, \"114\": {\"114\": 12}, \"31\": {\"31\": 12}, \"94\": {\"94\": 12}, \"91\": {\"91\": 12}, \"46\": {\"46\": 10, \"19\": 1, \"88\": 1}, \"32\": {\"32\": 12}, \"37\": {\"91\": 2, \"37\": 10}, \"52\": {\"52\": 12}, \"19\": {\"19\": 11, \"73\": 1}, \"105\": {\"105\": 10, \"78\": 1, \"21\": 1}, \"23\": {\"39\": 1, \"23\": 5, \"30\": 1, \"88\": 1, \"54\": 1, \"108\": 2, \"35\": 1}, \"74\": {\"74\": 12}, \"88\": {\"88\": 12}, \"45\": {\"45\": 12}, \"89\": {\"89\": 12}, \"48\": {\"48\": 12}, \"25\": {\"25\": 12}, \"13\": {\"13\": 11, \"21\": 1}, \"87\": {\"87\": 12}, \"121\": {\"121\": 12}, \"59\": {\"59\": 10, \"66\": 1, \"49\": 1}, \"58\": {\"58\": 11, \"51\": 1}, \"12\": {\"12\": 11, \"16\": 1}, \"107\": {\"107\": 11, \"32\": 1}, \"1\": {\"1\": 10, \"58\": 1, \"52\": 1}, \"57\": {\"57\": 11, \"95\": 1}, \"111\": {\"111\": 12}, \"33\": {\"33\": 12}, \"14\": {\"14\": 10, \"95\": 1, \"78\": 1}, \"84\": {\"84\": 12}, \"21\": {\"21\": 12}, \"104\": {\"104\": 12}, \"128\": {\"128\": 11, \"82\": 1}, \"72\": {\"72\": 12}, \"40\": {\"40\": 12}, \"102\": {\"102\": 10, \"78\": 1, \"5\": 1}, \"47\": {\"47\": 10, \"88\": 1, \"57\": 1}, \"43\": {\"43\": 12}, \"77\": {\"77\": 12}, \"110\": {\"110\": 12}, \"16\": {\"16\": 12}, \"106\": {\"106\": 9, \"21\": 1, \"122\": 1, \"78\": 1}, \"66\": {\"66\": 12}, \"73\": {\"73\": 9, \"89\": 1, \"78\": 1, \"19\": 1}, \"76\": {\"76\": 10}, \"79\": {\"79\": 10, \"14\": 1, \"53\": 1}, \"108\": {\"70\": 1, \"108\": 11}, \"64\": {\"64\": 10}, \"115\": {\"78\": 2, \"115\": 5, \"57\": 1}, \"81\": {\"81\": 12}, \"95\": {\"95\": 10, \"108\": 1, \"128\": 1}, \"63\": {\"63\": 8}, \"20\": {\"20\": 10}}, \"C_A_1\": {\"55\": {\"55\": 12}, \"38\": {\"38\": 12}, \"49\": {\"49\": 10}, \"10\": {\"10\": 12}, \"28\": {\"28\": 10}, \"14\": {\"14\": 11, \"2\": 1}, \"19\": {\"19\": 12}, \"25\": {\"25\": 12}, \"22\": {\"22\": 12}, \"47\": {\"47\": 12}, \"53\": {\"53\": 12}, \"54\": {\"54\": 12}, \"8\": {\"8\": 12}, \"4\": {\"4\": 12}, \"31\": {\"31\": 12}, \"6\": {\"6\": 11, \"50\": 1}, \"20\": {\"20\": 12}, \"21\": {\"21\": 10}, \"15\": {\"15\": 12}, \"40\": {\"40\": 12}, \"48\": {\"48\": 12}, \"7\": {\"7\": 12}, \"50\": {\"50\": 12}, \"32\": {\"32\": 8}, \"56\": {\"56\": 12}, \"26\": {\"26\": 10}, \"34\": {\"34\": 12}, \"42\": {\"42\": 10}, \"29\": {\"29\": 12}, \"46\": {\"46\": 10}, \"24\": {\"24\": 10}, \"18\": {\"18\": 12}, \"16\": {\"16\": 6}, \"45\": {\"45\": 12}, \"3\": {\"3\": 12}, \"17\": {\"17\": 12}, \"35\": {\"35\": 12}, \"30\": {\"30\": 10}, \"1\": {\"1\": 12}, \"23\": {\"23\": 12}, \"0\": {\"0\": 10}, \"52\": {\"52\": 12}, \"43\": {\"43\": 12}, \"44\": {\"44\": 12}, \"27\": {\"27\": 12}, \"9\": {\"9\": 12}, \"57\": {\"57\": 8}, \"2\": {\"2\": 12}, \"36\": {\"36\": 8}, \"12\": {\"12\": 12}, \"33\": {\"33\": 10}, \"13\": {\"13\": 10}, \"51\": {\"51\": 10}, \"11\": {\"11\": 12}, \"5\": {\"5\": 12}, \"37\": {\"37\": 12}, \"39\": {\"39\": 4}, \"41\": {\"41\": 6}}, \"C_A_5\": {\"2\": {\"2\": 12}, \"35\": {\"35\": 12}, \"3\": {\"3\": 12}, \"18\": {\"18\": 12}, \"29\": {\"29\": 12}, \"24\": {\"24\": 12}, \"25\": {\"25\": 12}, \"17\": {\"17\": 12}, \"54\": {\"54\": 12}, \"28\": {\"28\": 12}, \"33\": {\"33\": 12}, \"55\": {\"55\": 10}, \"19\": {\"19\": 10}, \"20\": {\"20\": 12}, \"41\": {\"41\": 12}, \"48\": {\"48\": 8}, \"6\": {\"6\": 11, \"45\": 1}, \"49\": {\"49\": 12}, \"9\": {\"9\": 10}, \"42\": {\"42\": 12}, \"22\": {\"22\": 12}, \"38\": {\"38\": 12}, \"44\": {\"44\": 12}, \"47\": {\"47\": 12}, \"7\": {\"7\": 10}, \"8\": {\"8\": 12}, \"10\": {\"10\": 12}, \"0\": {\"0\": 12}, \"57\": {\"57\": 12}, \"16\": {\"16\": 10}, \"21\": {\"21\": 12}, \"27\": {\"27\": 12}, \"53\": {\"53\": 8}, \"32\": {\"32\": 12}, \"4\": {\"4\": 12}, \"37\": {\"37\": 10}, \"1\": {\"1\": 11, \"21\": 1}, \"39\": {\"39\": 10}, \"36\": {\"36\": 10}, \"12\": {\"12\": 12}, \"5\": {\"5\": 12}, \"26\": {\"26\": 12}, \"51\": {\"51\": 12}, \"14\": {\"14\": 10}, \"43\": {\"43\": 12}, \"31\": {\"31\": 12}, \"45\": {\"45\": 11, \"6\": 1}, \"15\": {\"15\": 9, \"11\": 1}, \"23\": {\"23\": 10}, \"30\": {\"30\": 12}, \"46\": {\"46\": 12}, \"52\": {\"52\": 12}, \"34\": {\"34\": 10}, \"11\": {\"11\": 10}, \"13\": {\"13\": 10}, \"50\": {\"6\": 2, \"50\": 4}, \"56\": {\"56\": 6}, \"40\": {\"40\": 4}}, \"ORACLE.run1_50\": {\"7\": {\"7\": 140, \"4\": 88, \"5\": 11, \"15\": 1}, \"10\": {\"10\": 202, \"8\": 20, \"0\": 13, \"1\": 5}, \"0\": {\"0\": 155, \"2\": 46, \"14\": 23, \"10\": 16}, \"11\": {\"11\": 148, \"9\": 6, \"15\": 8, \"12\": 52, \"13\": 11, \"5\": 8, \"6\": 3, \"3\": 4}, \"2\": {\"2\": 147, \"14\": 51, \"0\": 42}, \"14\": {\"2\": 65, \"0\": 24, \"14\": 151}, \"9\": {\"11\": 14, \"6\": 55, \"9\": 78, \"5\": 14, \"15\": 50, \"12\": 26, \"4\": 2, \"3\": 1}, \"13\": {\"13\": 197, \"11\": 14, \"1\": 28, \"12\": 1}, \"8\": {\"10\": 11, \"8\": 215, \"1\": 12, \"13\": 2}, \"15\": {\"9\": 43, \"6\": 55, \"15\": 94, \"5\": 41, \"11\": 4, \"3\": 1, \"12\": 2}, \"4\": {\"4\": 116, \"7\": 99, \"5\": 23, \"6\": 1, \"15\": 1}, \"5\": {\"7\": 42, \"5\": 74, \"15\": 27, \"4\": 34, \"11\": 15, \"9\": 20, \"13\": 7, \"6\": 19, \"3\": 1, \"12\": 1}, \"3\": {\"3\": 173, \"6\": 34, \"15\": 8, \"9\": 7, \"5\": 5, \"12\": 7, \"11\": 6}, \"1\": {\"1\": 140, \"8\": 25, \"13\": 50, \"10\": 24, \"11\": 1}, \"6\": {\"9\": 57, \"5\": 22, \"15\": 52, \"6\": 84, \"12\": 10, \"3\": 7, \"11\": 8}, \"12\": {\"12\": 128, \"9\": 46, \"11\": 42, \"3\": 1, \"15\": 5, \"6\": 13, \"5\": 5}}, \"ORACLE.run1_14\": {\"14\": {\"0\": 44, \"2\": 32, \"14\": 101, \"13\": 17, \"3\": 23, \"5\": 13, \"6\": 2, \"7\": 7, \"8\": 1}, \"6\": {\"6\": 117, \"13\": 68, \"14\": 19, \"3\": 26, \"2\": 4, \"0\": 4, \"5\": 1, \"7\": 1}, \"5\": {\"5\": 92, \"8\": 27, \"0\": 32, \"14\": 14, \"2\": 55, \"12\": 8, \"13\": 7, \"7\": 1, \"4\": 4}, \"15\": {\"15\": 240}, \"11\": {\"11\": 240}, \"8\": {\"12\": 14, \"8\": 152, \"5\": 49, \"0\": 13, \"4\": 2, \"2\": 2, \"7\": 6, \"13\": 1, \"14\": 1}, \"12\": {\"8\": 11, \"12\": 182, \"2\": 14, \"5\": 12, \"0\": 3, \"4\": 18}, \"1\": {\"9\": 78, \"1\": 162}, \"2\": {\"13\": 11, \"2\": 35, \"3\": 26, \"14\": 29, \"8\": 4, \"4\": 38, \"0\": 25, \"12\": 10, \"5\": 37, \"7\": 15, \"6\": 9, \"10\": 1}, \"13\": {\"5\": 21, \"14\": 27, \"13\": 40, \"8\": 1, \"0\": 19, \"6\": 67, \"2\": 24, \"3\": 11, \"15\": 15, \"4\": 7, \"7\": 7, \"12\": 1}, \"3\": {\"13\": 21, \"3\": 111, \"7\": 42, \"6\": 35, \"14\": 11, \"0\": 12, \"2\": 8}, \"0\": {\"0\": 40, \"5\": 28, \"8\": 14, \"4\": 10, \"2\": 26, \"3\": 41, \"14\": 36, \"7\": 19, \"6\": 9, \"12\": 10, \"13\": 7}, \"9\": {\"9\": 154, \"1\": 83, \"10\": 3}, \"4\": {\"10\": 17, \"4\": 189, \"2\": 7, \"12\": 23, \"5\": 2, \"0\": 2}, \"7\": {\"7\": 160, \"3\": 43, \"0\": 14, \"2\": 4, \"8\": 4, \"5\": 2, \"13\": 8, \"14\": 3, \"6\": 2}, \"10\": {\"10\": 209, \"9\": 9, \"4\": 18, \"1\": 3, \"12\": 1}}, \"ORACLE.run1_32\": {\"4\": {\"4\": 117, \"2\": 64, \"13\": 13, \"3\": 45, \"9\": 1}, \"14\": {\"14\": 88, \"0\": 38, \"7\": 44, \"5\": 18, \"8\": 29, \"2\": 22, \"4\": 1}, \"5\": {\"5\": 85, \"7\": 65, \"15\": 17, \"14\": 19, \"0\": 29, \"8\": 23, \"2\": 2}, \"10\": {\"10\": 226, \"12\": 14}, \"13\": {\"9\": 37, \"13\": 120, \"4\": 27, \"11\": 10, \"2\": 5, \"3\": 41}, \"9\": {\"11\": 39, \"9\": 86, \"13\": 65, \"12\": 36, \"4\": 8, \"3\": 6}, \"6\": {\"6\": 236, \"10\": 4}, \"3\": {\"3\": 134, \"4\": 55, \"9\": 1, \"13\": 45, \"2\": 5}, \"15\": {\"15\": 208, \"5\": 16, \"0\": 6, \"8\": 3, \"7\": 7}, \"7\": {\"7\": 107, \"0\": 48, \"5\": 40, \"14\": 27, \"8\": 18}, \"12\": {\"12\": 217, \"9\": 13, \"10\": 9, \"11\": 1}, \"8\": {\"7\": 25, \"8\": 86, \"2\": 11, \"0\": 61, \"5\": 18, \"14\": 30, \"4\": 4, \"3\": 4, \"15\": 1}, \"11\": {\"11\": 203, \"9\": 31, \"13\": 5, \"3\": 1}, \"2\": {\"2\": 169, \"4\": 58, \"3\": 7, \"8\": 2, \"14\": 4}, \"1\": {\"1\": 230, \"2\": 5, \"0\": 1, \"14\": 1, \"4\": 3}, \"0\": {\"0\": 67, \"7\": 49, \"14\": 36, \"8\": 61, \"5\": 26, \"15\": 1}}, \"ORACLE.run1_44\": {\"8\": {\"0\": 66, \"5\": 6, \"8\": 106, \"15\": 46, \"1\": 12, \"14\": 1, \"2\": 2, \"10\": 1}, \"11\": {\"11\": 240}, \"14\": {\"14\": 75, \"10\": 29, \"5\": 59, \"4\": 40, \"7\": 13, \"15\": 18, \"2\": 2, \"9\": 4}, \"10\": {\"7\": 87, \"9\": 35, \"10\": 68, \"14\": 13, \"4\": 23, \"5\": 6, \"2\": 7, \"1\": 1}, \"3\": {\"3\": 138, \"12\": 102}, \"15\": {\"14\": 35, \"5\": 37, \"15\": 97, \"8\": 34, \"0\": 2, \"1\": 5, \"2\": 15, \"4\": 12, \"10\": 3}, \"2\": {\"1\": 45, \"2\": 172, \"15\": 8, \"4\": 6, \"8\": 1, \"5\": 3, \"14\": 2, \"7\": 1, \"10\": 2}, \"12\": {\"12\": 134, \"3\": 106}, \"4\": {\"2\": 24, \"15\": 22, \"14\": 25, \"9\": 40, \"10\": 20, \"7\": 39, \"4\": 33, \"5\": 25, \"1\": 3, \"6\": 6, \"8\": 3}, \"1\": {\"1\": 145, \"0\": 19, \"2\": 44, \"8\": 16, \"15\": 15, \"14\": 1}, \"0\": {\"0\": 177, \"1\": 17, \"8\": 45, \"15\": 1}, \"9\": {\"7\": 47, \"4\": 26, \"9\": 55, \"14\": 19, \"6\": 27, \"13\": 36, \"10\": 22, \"5\": 5, \"2\": 3}, \"5\": {\"15\": 33, \"14\": 61, \"5\": 73, \"4\": 41, \"7\": 9, \"9\": 6, \"10\": 8, \"2\": 5, \"8\": 4}, \"6\": {\"6\": 150, \"13\": 58, \"9\": 30, \"7\": 1, \"4\": 1}, \"7\": {\"9\": 46, \"7\": 109, \"10\": 53, \"4\": 21, \"14\": 4, \"6\": 3, \"5\": 4}, \"13\": {\"6\": 79, \"13\": 159, \"9\": 2}}, \"ORACLE.run1_8\": {\"13\": {\"10\": 48, \"1\": 7, \"7\": 39, \"5\": 52, \"13\": 88, \"6\": 6}, \"3\": {\"3\": 237, \"2\": 3}, \"15\": {\"15\": 154, \"12\": 70, \"2\": 16}, \"4\": {\"4\": 127, \"14\": 13, \"8\": 56, \"11\": 35, \"1\": 4, \"6\": 5}, \"7\": {\"13\": 36, \"1\": 22, \"11\": 3, \"7\": 101, \"10\": 37, \"6\": 32, \"5\": 9}, \"2\": {\"3\": 54, \"15\": 27, \"2\": 138, \"12\": 21}, \"1\": {\"13\": 13, \"11\": 47, \"6\": 43, \"1\": 61, \"7\": 19, \"5\": 20, \"8\": 9, \"4\": 3, \"10\": 25}, \"0\": {\"0\": 240}, \"12\": {\"15\": 65, \"12\": 168, \"2\": 7}, \"6\": {\"1\": 42, \"6\": 99, \"11\": 13, \"7\": 46, \"10\": 25, \"5\": 9, \"13\": 3, \"4\": 2, \"8\": 1}, \"11\": {\"8\": 26, \"4\": 36, \"1\": 45, \"11\": 63, \"6\": 33, \"5\": 7, \"10\": 13, \"7\": 8, \"14\": 7, \"13\": 2}, \"9\": {\"9\": 238, \"3\": 2}, \"5\": {\"5\": 74, \"6\": 15, \"11\": 9, \"1\": 17, \"13\": 64, \"10\": 36, \"4\": 6, \"12\": 1, \"8\": 3, \"7\": 15}, \"10\": {\"6\": 29, \"7\": 42, \"11\": 5, \"13\": 51, \"10\": 50, \"1\": 25, \"5\": 38}, \"14\": {\"14\": 179, \"4\": 45, \"11\": 2, \"8\": 14}, \"8\": {\"6\": 9, \"8\": 118, \"4\": 55, \"11\": 38, \"1\": 6, \"14\": 13, \"5\": 1}}, \"ORACLE.run1_20\": {\"6\": {\"7\": 42, \"12\": 30, \"6\": 65, \"2\": 28, \"4\": 25, \"1\": 10, \"3\": 7, \"15\": 19, \"5\": 2, \"9\": 12}, \"11\": {\"0\": 52, \"11\": 188}, \"5\": {\"1\": 33, \"9\": 61, \"5\": 52, \"6\": 5, \"14\": 23, \"3\": 42, \"8\": 11, \"7\": 10, \"15\": 2, \"2\": 1}, \"14\": {\"14\": 89, \"8\": 66, \"9\": 14, \"3\": 50, \"6\": 2, \"5\": 15, \"7\": 2, \"1\": 2}, \"2\": {\"2\": 56, \"12\": 55, \"6\": 22, \"15\": 39, \"7\": 29, \"4\": 26, \"13\": 8, \"1\": 2, \"9\": 2, \"5\": 1}, \"7\": {\"4\": 6, \"2\": 40, \"7\": 50, \"9\": 30, \"12\": 22, \"6\": 39, \"15\": 20, \"5\": 6, \"1\": 24, \"3\": 3}, \"3\": {\"7\": 5, \"14\": 44, \"8\": 34, \"5\": 41, \"3\": 63, \"9\": 26, \"1\": 22, \"6\": 2, \"0\": 3}, \"4\": {\"4\": 88, \"6\": 34, \"15\": 25, \"13\": 12, \"2\": 33, \"7\": 8, \"9\": 1, \"12\": 36, \"10\": 3}, \"9\": {\"5\": 47, \"1\": 55, \"9\": 49, \"3\": 20, \"6\": 13, \"7\": 36, \"2\": 8, \"15\": 5, \"8\": 1, \"12\": 1, \"14\": 5}, \"12\": {\"6\": 22, \"12\": 61, \"2\": 50, \"4\": 36, \"15\": 41, \"13\": 9, \"7\": 20, \"1\": 1}, \"0\": {\"0\": 146, \"11\": 68, \"8\": 19, \"3\": 3, \"14\": 4}, \"10\": {\"10\": 185, \"4\": 10, \"13\": 44, \"2\": 1}, \"8\": {\"8\": 104, \"3\": 47, \"14\": 60, \"0\": 4, \"1\": 1, \"9\": 5, \"5\": 19}, \"13\": {\"13\": 133, \"4\": 30, \"15\": 13, \"12\": 26, \"10\": 19, \"2\": 18, \"6\": 1}, \"1\": {\"1\": 48, \"9\": 76, \"5\": 44, \"3\": 23, \"7\": 25, \"2\": 5, \"15\": 3, \"6\": 5, \"4\": 1, \"14\": 6, \"12\": 3, \"8\": 1}, \"15\": {\"15\": 59, \"6\": 25, \"2\": 43, \"7\": 25, \"12\": 44, \"1\": 8, \"4\": 19, \"13\": 7, \"9\": 6, \"5\": 4}}, \"ORACLE.run1_38\": {\"3\": {\"3\": 239, \"0\": 1}, \"8\": {\"15\": 23, \"8\": 47, \"12\": 28, \"5\": 58, \"2\": 23, \"9\": 29, \"7\": 24, \"14\": 8}, \"0\": {\"0\": 42, \"10\": 78, \"13\": 65, \"7\": 17, \"2\": 8, \"3\": 6, \"4\": 5, \"14\": 17, \"8\": 1, \"9\": 1}, \"2\": {\"13\": 3, \"14\": 40, \"2\": 144, \"9\": 18, \"7\": 24, \"5\": 6, \"8\": 5}, \"4\": {\"10\": 8, \"4\": 222, \"0\": 10}, \"7\": {\"7\": 145, \"2\": 25, \"14\": 52, \"9\": 6, \"13\": 2, \"8\": 6, \"5\": 3, \"0\": 1}, \"12\": {\"12\": 206, \"5\": 17, \"8\": 16, \"7\": 1}, \"6\": {\"6\": 131, \"1\": 109}, \"15\": {\"6\": 5, \"15\": 190, \"5\": 22, \"12\": 7, \"1\": 6, \"8\": 10}, \"11\": {\"11\": 240}, \"9\": {\"9\": 141, \"2\": 24, \"5\": 30, \"8\": 38, \"7\": 6, \"14\": 1}, \"14\": {\"14\": 129, \"2\": 47, \"0\": 2, \"7\": 49, \"8\": 2, \"13\": 7, \"4\": 2, \"5\": 1, \"10\": 1}, \"10\": {\"0\": 64, \"10\": 147, \"4\": 19, \"3\": 1, \"13\": 9}, \"5\": {\"9\": 35, \"12\": 19, \"5\": 83, \"15\": 25, \"2\": 8, \"8\": 53, \"14\": 4, \"7\": 13}, \"1\": {\"1\": 137, \"6\": 103}, \"13\": {\"13\": 157, \"0\": 53, \"4\": 5, \"10\": 13, \"2\": 3, \"14\": 6, \"7\": 3}}, \"ORACLE.run1_26\": {\"5\": {\"6\": 47, \"5\": 107, \"15\": 29, \"1\": 36, \"11\": 20, \"14\": 1}, \"8\": {\"8\": 66, \"13\": 4, \"9\": 33, \"2\": 36, \"7\": 76, \"12\": 8, \"3\": 16, \"0\": 1}, \"4\": {\"4\": 232, \"13\": 7, \"3\": 1}, \"12\": {\"12\": 95, \"13\": 20, \"9\": 41, \"3\": 24, \"8\": 23, \"7\": 29, \"2\": 8}, \"6\": {\"15\": 70, \"5\": 43, \"1\": 38, \"6\": 73, \"10\": 5, \"14\": 10, \"0\": 1}, \"7\": {\"7\": 83, \"9\": 37, \"8\": 59, \"12\": 18, \"3\": 23, \"2\": 19, \"13\": 1}, \"10\": {\"0\": 35, \"6\": 15, \"10\": 83, \"14\": 74, \"15\": 30, \"1\": 1, \"2\": 1, \"5\": 1}, \"0\": {\"2\": 28, \"0\": 121, \"14\": 35, \"10\": 45, \"8\": 4, \"7\": 1, \"15\": 6}, \"15\": {\"1\": 23, \"15\": 63, \"6\": 37, \"5\": 32, \"10\": 47, \"0\": 7, \"14\": 30, \"11\": 1}, \"9\": {\"13\": 12, \"8\": 27, \"7\": 34, \"2\": 52, \"9\": 53, \"3\": 33, \"12\": 22, \"0\": 7}, \"11\": {\"5\": 52, \"11\": 170, \"6\": 7, \"1\": 7, \"15\": 4}, \"14\": {\"0\": 25, \"14\": 90, \"10\": 73, \"6\": 22, \"15\": 28, \"1\": 2}, \"2\": {\"8\": 29, \"2\": 86, \"9\": 46, \"0\": 27, \"12\": 15, \"7\": 30, \"14\": 2, \"3\": 3, \"10\": 1, \"13\": 1}, \"13\": {\"4\": 20, \"3\": 46, \"9\": 14, \"8\": 2, \"13\": 138, \"12\": 15, \"2\": 4, \"7\": 1}, \"3\": {\"7\": 32, \"3\": 108, \"12\": 22, \"8\": 13, \"13\": 40, \"9\": 25}, \"1\": {\"1\": 126, \"6\": 37, \"10\": 10, \"14\": 9, \"15\": 18, \"5\": 25, \"11\": 15}}}, \"per_domain_accuracy\": {\"C_A_4\": {\"accuracy\": 0.9953125, \"source?\": true}, \"W_A_3\": {\"accuracy\": 0.9667553191489362, \"source?\": true}, \"C_A_2\": {\"accuracy\": 0.99375, \"source?\": true}, \"W_A_2\": {\"accuracy\": 0.94140625, \"source?\": true}, \"C_A_3\": {\"accuracy\": 0.9984375, \"source?\": true}, \"W_A_1\": {\"accuracy\": 0.967391304347826, \"source?\": true}, \"W_A_4\": {\"accuracy\": 0.9485677083333334, \"source?\": true}, \"C_A_1\": {\"accuracy\": 0.996875, \"source?\": true}, \"C_A_5\": {\"accuracy\": 0.990625, \"source?\": true}, \"ORACLE.run1_50\": {\"accuracy\": 0.5838541666666667, \"source?\": false}, \"ORACLE.run1_14\": {\"accuracy\": 0.5791666666666667, \"source?\": false}, \"ORACLE.run1_32\": {\"accuracy\": 0.61953125, \"source?\": false}, \"ORACLE.run1_44\": {\"accuracy\": 0.5028645833333333, \"source?\": false}, \"ORACLE.run1_8\": {\"accuracy\": 0.5559895833333334, \"source?\": false}, \"ORACLE.run1_20\": {\"accuracy\": 0.37395833333333334, \"source?\": false}, \"ORACLE.run1_38\": {\"accuracy\": 0.625, \"source?\": false}, \"ORACLE.run1_26\": {\"accuracy\": 0.44114583333333335, \"source?\": false}}}, \"history\": {\"epoch_indices\": [1, 2, 3, 4, 5, 6, 7, 8], \"train_label_loss\": [0.31348835217805027, 0.19317878878811426, 0.15234130100143514, 0.1295340776445006, 0.10943103510281796, 0.09957030263722118, 0.09190094466130995, 0.07755270094625688], \"source_val_label_loss\": [0.2611539661884308, 0.20150618255138397, 0.17904157936573029, 0.1470143049955368, 0.14732420444488525, 0.12206639349460602, 0.12424822896718979, 0.11436085402965546], \"target_val_label_loss\": [2.4456379413604736, 2.3441553115844727, 2.341832399368286, 2.25986647605896, 2.2788257598876953, 2.3254971504211426, 2.2641048431396484, 2.286113977432251], \"source_val_acc_label\": [0.9476643598615917, 0.9595588235294118, 0.9636678200692042, 0.9693987889273357, 0.9692906574394463, 0.9731833910034602, 0.9724264705882353, 0.9761029411764706], \"target_val_acc_label\": [0.5445638020833333, 0.56240234375, 0.5234700520833333, 0.5351888020833333, 0.44801432291666665, 0.30231119791666666, 0.3406575520833333, 0.32509765625]}, \"dataset_metrics\": {\"source\": {\"train\": {\"n_unique_x\": 56699, \"n_unique_y\": 130, \"n_batch/episode\": 2078}, \"val\": {\"n_unique_x\": 12097, \"n_unique_y\": 130, \"n_batch/episode\": 289}, \"test\": {\"n_unique_x\": 12097, \"n_unique_y\": 130, \"n_batch/episode\": 289}}, \"target\": {\"train\": {\"n_unique_x\": 179200, \"n_unique_y\": 16, \"n_batch/episode\": 6720}, \"val\": {\"n_unique_x\": 38400, \"n_unique_y\": 16, \"n_batch/episode\": 960}, \"test\": {\"n_unique_x\": 38400, \"n_unique_y\": 16, \"n_batch/episode\": 960}}}}'"
      ]
     },
     "execution_count": 29,
     "metadata": {},
     "output_type": "execute_result"
    }
   ],
   "source": [
    "json.dumps(experiment)"
   ]
  }
 ],
 "metadata": {
  "celltoolbar": "Tags",
  "kernelspec": {
   "display_name": "Python 3 (ipykernel)",
   "language": "python",
   "name": "python3"
  },
  "language_info": {
   "codemirror_mode": {
    "name": "ipython",
    "version": 3
   },
   "file_extension": ".py",
   "mimetype": "text/x-python",
   "name": "python",
   "nbconvert_exporter": "python",
   "pygments_lexer": "ipython3",
   "version": "3.8.10"
  },
  "papermill": {
   "default_parameters": {},
   "duration": 531.610944,
   "end_time": "2022-03-18T23:38:06.288758",
   "environment_variables": {},
   "exception": null,
   "input_path": "/mnt/wd500GB/CSC500/csc500-main/csc500-notebooks/templates/tl_ptn_template.ipynb",
   "output_path": "trial.ipynb",
   "parameters": {
    "parameters": {
     "BEST_MODEL_PATH": "./best_model.pth",
     "NUM_LOGS_PER_EPOCH": 10,
     "criteria_for_best": "target_loss",
     "dataset_seed": 500,
     "datasets": [
      {
       "domain_prefix": "C_A_",
       "domains": [
        1,
        2,
        3,
        4,
        5
       ],
       "episode_transforms": [],
       "labels": [
        "1-10.",
        "1-11.",
        "1-15.",
        "1-16.",
        "1-17.",
        "1-18.",
        "1-19.",
        "10-4.",
        "10-7.",
        "11-1.",
        "11-14.",
        "11-17.",
        "11-20.",
        "11-7.",
        "13-20.",
        "13-8.",
        "14-10.",
        "14-11.",
        "14-14.",
        "14-7.",
        "15-1.",
        "15-20.",
        "16-1.",
        "16-16.",
        "17-10.",
        "17-11.",
        "17-2.",
        "19-1.",
        "19-16.",
        "19-19.",
        "19-20.",
        "19-3.",
        "2-10.",
        "2-11.",
        "2-17.",
        "2-18.",
        "2-20.",
        "2-3.",
        "2-4.",
        "2-5.",
        "2-6.",
        "2-7.",
        "2-8.",
        "3-13.",
        "3-18.",
        "3-3.",
        "4-1.",
        "4-10.",
        "4-11.",
        "4-19.",
        "5-5.",
        "6-15.",
        "7-10.",
        "7-14.",
        "8-18.",
        "8-20.",
        "8-3.",
        "8-8."
       ],
       "num_examples_per_domain_per_label": 100,
       "pickle_path": "/mnt/wd500GB/CSC500/csc500-main/datasets/cores.stratified_ds.2022A.pkl",
       "source_or_target_dataset": "source",
       "x_transforms": [
        "take_200"
       ]
      },
      {
       "domain_prefix": "W_A_",
       "domains": [
        1,
        2,
        3,
        4
       ],
       "episode_transforms": [],
       "labels": [
        "1-10",
        "1-12",
        "1-14",
        "1-16",
        "1-18",
        "1-19",
        "1-8",
        "10-11",
        "10-17",
        "10-4",
        "10-7",
        "11-1",
        "11-10",
        "11-19",
        "11-20",
        "11-4",
        "11-7",
        "12-19",
        "12-20",
        "12-7",
        "13-14",
        "13-18",
        "13-19",
        "13-20",
        "13-3",
        "13-7",
        "14-10",
        "14-11",
        "14-12",
        "14-13",
        "14-14",
        "14-19",
        "14-20",
        "14-7",
        "14-8",
        "14-9",
        "15-1",
        "15-19",
        "15-6",
        "16-1",
        "16-16",
        "16-19",
        "16-20",
        "17-10",
        "17-11",
        "18-1",
        "18-10",
        "18-11",
        "18-12",
        "18-13",
        "18-14",
        "18-15",
        "18-16",
        "18-17",
        "18-19",
        "18-2",
        "18-20",
        "18-4",
        "18-5",
        "18-7",
        "18-8",
        "18-9",
        "19-1",
        "19-10",
        "19-11",
        "19-12",
        "19-13",
        "19-14",
        "19-15",
        "19-19",
        "19-2",
        "19-20",
        "19-3",
        "19-4",
        "19-6",
        "19-7",
        "19-8",
        "19-9",
        "2-1",
        "2-13",
        "2-15",
        "2-3",
        "2-4",
        "2-5",
        "2-6",
        "2-7",
        "2-8",
        "20-1",
        "20-12",
        "20-14",
        "20-15",
        "20-16",
        "20-18",
        "20-19",
        "20-20",
        "20-3",
        "20-4",
        "20-5",
        "20-7",
        "20-8",
        "3-1",
        "3-13",
        "3-18",
        "3-2",
        "3-8",
        "4-1",
        "4-10",
        "4-11",
        "5-1",
        "5-5",
        "6-1",
        "6-15",
        "6-6",
        "7-10",
        "7-11",
        "7-12",
        "7-13",
        "7-14",
        "7-7",
        "7-8",
        "7-9",
        "8-1",
        "8-13",
        "8-14",
        "8-18",
        "8-20",
        "8-3",
        "8-8",
        "9-1",
        "9-7"
       ],
       "num_examples_per_domain_per_label": 100,
       "pickle_path": "/mnt/wd500GB/CSC500/csc500-main/datasets/wisig.node3-19.stratified_ds.2022A.pkl",
       "source_or_target_dataset": "source",
       "x_transforms": [
        "take_200"
       ]
      },
      {
       "domain_prefix": "ORACLE.run1_",
       "domains": [
        32,
        38,
        8,
        44,
        14,
        50,
        20,
        26
       ],
       "episode_transforms": [],
       "labels": [
        "3123D52",
        "3123D65",
        "3123D79",
        "3123D80",
        "3123D54",
        "3123D70",
        "3123D7B",
        "3123D89",
        "3123D58",
        "3123D76",
        "3123D7D",
        "3123EFE",
        "3123D64",
        "3123D78",
        "3123D7E",
        "3124E4A"
       ],
       "num_examples_per_domain_per_label": 2000,
       "pickle_path": "/mnt/wd500GB/CSC500/csc500-main/datasets/oracle.Run1_framed_2000Examples_stratified_ds.2022A.pkl",
       "source_or_target_dataset": "target",
       "x_transforms": [
        "take_200",
        "resample_20Msps_to_25Msps"
       ]
      }
     ],
     "device": "cuda",
     "experiment_name": "tl_3A:cores+wisig -> oracle.run1.framed",
     "lr": 0.001,
     "n_epoch": 50,
     "n_query": 2,
     "n_shot": 3,
     "n_way": 16,
     "patience": 3,
     "seed": 500,
     "test_k_factor": 2,
     "torch_default_dtype": "torch.float32",
     "train_k_factor": 3,
     "val_k_factor": 2,
     "x_net": [
      {
       "class": "nnReshape",
       "kargs": {
        "shape": [
         -1,
         1,
         2,
         200
        ]
       }
      },
      {
       "class": "Conv2d",
       "kargs": {
        "bias": false,
        "in_channels": 1,
        "kernel_size": [
         1,
         7
        ],
        "out_channels": 256,
        "padding": [
         0,
         3
        ]
       }
      },
      {
       "class": "ReLU",
       "kargs": {
        "inplace": true
       }
      },
      {
       "class": "BatchNorm2d",
       "kargs": {
        "num_features": 256
       }
      },
      {
       "class": "Conv2d",
       "kargs": {
        "bias": true,
        "in_channels": 256,
        "kernel_size": [
         2,
         7
        ],
        "out_channels": 80,
        "padding": [
         0,
         3
        ]
       }
      },
      {
       "class": "ReLU",
       "kargs": {
        "inplace": true
       }
      },
      {
       "class": "BatchNorm2d",
       "kargs": {
        "num_features": 80
       }
      },
      {
       "class": "Flatten",
       "kargs": {}
      },
      {
       "class": "Linear",
       "kargs": {
        "in_features": 16000,
        "out_features": 256
       }
      },
      {
       "class": "ReLU",
       "kargs": {
        "inplace": true
       }
      },
      {
       "class": "BatchNorm1d",
       "kargs": {
        "num_features": 256
       }
      },
      {
       "class": "Linear",
       "kargs": {
        "in_features": 256,
        "out_features": 256
       }
      }
     ],
     "x_shape": [
      2,
      200
     ]
    }
   },
   "start_time": "2022-03-18T23:29:14.677814",
   "version": "2.3.4"
  }
 },
 "nbformat": 4,
 "nbformat_minor": 5
}