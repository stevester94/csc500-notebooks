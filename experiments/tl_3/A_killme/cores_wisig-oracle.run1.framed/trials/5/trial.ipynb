{
 "cells": [
  {
   "cell_type": "markdown",
   "id": "9fea5f46",
   "metadata": {
    "papermill": {
     "duration": 0.018046,
     "end_time": "2022-03-18T22:05:22.446573",
     "exception": false,
     "start_time": "2022-03-18T22:05:22.428527",
     "status": "completed"
    },
    "tags": []
   },
   "source": [
    "# Transfer Learning Template"
   ]
  },
  {
   "cell_type": "code",
   "execution_count": 1,
   "id": "0902182a",
   "metadata": {
    "execution": {
     "iopub.execute_input": "2022-03-18T22:05:22.484205Z",
     "iopub.status.busy": "2022-03-18T22:05:22.478573Z",
     "iopub.status.idle": "2022-03-18T22:05:23.387194Z",
     "shell.execute_reply": "2022-03-18T22:05:23.386935Z"
    },
    "papermill": {
     "duration": 0.927973,
     "end_time": "2022-03-18T22:05:23.387262",
     "exception": false,
     "start_time": "2022-03-18T22:05:22.459289",
     "status": "completed"
    },
    "tags": []
   },
   "outputs": [],
   "source": [
    "%load_ext autoreload\n",
    "%autoreload 2\n",
    "%matplotlib inline\n",
    "\n",
    "    \n",
    "import os, json, sys, time, random\n",
    "import numpy as np\n",
    "import torch\n",
    "from torch.optim import Adam\n",
    "from  easydict import EasyDict\n",
    "import matplotlib.pyplot as plt\n",
    "\n",
    "from steves_models.steves_ptn import Steves_Prototypical_Network\n",
    "\n",
    "from steves_utils.lazy_iterable_wrapper import Lazy_Iterable_Wrapper\n",
    "from steves_utils.iterable_aggregator import Iterable_Aggregator\n",
    "from steves_utils.ptn_train_eval_test_jig import  PTN_Train_Eval_Test_Jig\n",
    "from steves_utils.torch_sequential_builder import build_sequential\n",
    "from steves_utils.torch_utils import get_dataset_metrics, ptn_confusion_by_domain_over_dataloader\n",
    "from steves_utils.utils_v2 import (per_domain_accuracy_from_confusion, get_datasets_base_path)\n",
    "from steves_utils.PTN.utils import independent_accuracy_assesment\n",
    "\n",
    "from torch.utils.data import DataLoader\n",
    "\n",
    "from steves_utils.stratified_dataset.episodic_accessor import Episodic_Accessor_Factory\n",
    "\n",
    "from steves_utils.ptn_do_report import (\n",
    "    get_loss_curve,\n",
    "    get_results_table,\n",
    "    get_parameters_table,\n",
    "    get_domain_accuracies,\n",
    ")\n",
    "\n",
    "from steves_utils.transforms import get_chained_transform"
   ]
  },
  {
   "cell_type": "markdown",
   "id": "41c840b4",
   "metadata": {
    "papermill": {
     "duration": 0.013035,
     "end_time": "2022-03-18T22:05:23.413735",
     "exception": false,
     "start_time": "2022-03-18T22:05:23.400700",
     "status": "completed"
    },
    "tags": []
   },
   "source": [
    "# Allowed Parameters\n",
    "These are allowed parameters, not defaults\n",
    "Each of these values need to be present in the injected parameters (the notebook will raise an exception if they are not present)\n",
    "\n",
    "Papermill uses the cell tag \"parameters\" to inject the real parameters below this cell.\n",
    "Enable tags to see what I mean"
   ]
  },
  {
   "cell_type": "code",
   "execution_count": 2,
   "id": "fd44eb83",
   "metadata": {
    "execution": {
     "iopub.execute_input": "2022-03-18T22:05:23.442865Z",
     "iopub.status.busy": "2022-03-18T22:05:23.442549Z",
     "iopub.status.idle": "2022-03-18T22:05:23.456775Z",
     "shell.execute_reply": "2022-03-18T22:05:23.456979Z"
    },
    "papermill": {
     "duration": 0.030165,
     "end_time": "2022-03-18T22:05:23.457037",
     "exception": false,
     "start_time": "2022-03-18T22:05:23.426872",
     "status": "completed"
    },
    "tags": []
   },
   "outputs": [],
   "source": [
    "required_parameters = {\n",
    "    \"experiment_name\",\n",
    "    \"lr\",\n",
    "    \"device\",\n",
    "    \"seed\",\n",
    "    \"dataset_seed\",\n",
    "    \"n_shot\",\n",
    "    \"n_query\",\n",
    "    \"n_way\",\n",
    "    \"train_k_factor\",\n",
    "    \"val_k_factor\",\n",
    "    \"test_k_factor\",\n",
    "    \"n_epoch\",\n",
    "    \"patience\",\n",
    "    \"criteria_for_best\",\n",
    "    \"x_net\",\n",
    "    \"datasets\",\n",
    "    \"torch_default_dtype\",\n",
    "    \"NUM_LOGS_PER_EPOCH\",\n",
    "    \"BEST_MODEL_PATH\",\n",
    "    \"x_shape\",\n",
    "}"
   ]
  },
  {
   "cell_type": "code",
   "execution_count": 3,
   "id": "fa3f0049",
   "metadata": {
    "execution": {
     "iopub.execute_input": "2022-03-18T22:05:23.489918Z",
     "iopub.status.busy": "2022-03-18T22:05:23.489587Z",
     "iopub.status.idle": "2022-03-18T22:05:23.501858Z",
     "shell.execute_reply": "2022-03-18T22:05:23.501459Z"
    },
    "papermill": {
     "duration": 0.031623,
     "end_time": "2022-03-18T22:05:23.501946",
     "exception": false,
     "start_time": "2022-03-18T22:05:23.470323",
     "status": "completed"
    },
    "tags": [
     "parameters"
    ]
   },
   "outputs": [],
   "source": [
    "from steves_utils.CORES.utils import (\n",
    "    ALL_NODES,\n",
    "    ALL_NODES_MINIMUM_1000_EXAMPLES,\n",
    "    ALL_DAYS\n",
    ")\n",
    "\n",
    "from steves_utils.ORACLE.utils_v2 import (\n",
    "    ALL_DISTANCES_FEET_NARROWED,\n",
    "    ALL_RUNS,\n",
    "    ALL_SERIAL_NUMBERS,\n",
    ")\n",
    "\n",
    "standalone_parameters = {}\n",
    "standalone_parameters[\"experiment_name\"] = \"STANDALONE PTN\"\n",
    "standalone_parameters[\"lr\"] = 0.001\n",
    "standalone_parameters[\"device\"] = \"cuda\"\n",
    "\n",
    "standalone_parameters[\"seed\"] = 1337\n",
    "standalone_parameters[\"dataset_seed\"] = 1337\n",
    "\n",
    "standalone_parameters[\"n_way\"] = 8\n",
    "standalone_parameters[\"n_shot\"] = 3\n",
    "standalone_parameters[\"n_query\"]  = 2\n",
    "standalone_parameters[\"train_k_factor\"] = 1\n",
    "standalone_parameters[\"val_k_factor\"] = 2\n",
    "standalone_parameters[\"test_k_factor\"] = 2\n",
    "\n",
    "\n",
    "standalone_parameters[\"n_epoch\"] = 50\n",
    "\n",
    "standalone_parameters[\"patience\"] = 10\n",
    "standalone_parameters[\"criteria_for_best\"] = \"source_loss\"\n",
    "\n",
    "standalone_parameters[\"datasets\"] = [\n",
    "    {\n",
    "        \"labels\": ALL_SERIAL_NUMBERS,\n",
    "        \"domains\": ALL_DISTANCES_FEET_NARROWED,\n",
    "        \"num_examples_per_domain_per_label\": 100,\n",
    "        \"pickle_path\": os.path.join(get_datasets_base_path(), \"oracle.Run1_framed_2000Examples_stratified_ds.2022A.pkl\"),\n",
    "        \"source_or_target_dataset\": \"source\",\n",
    "        \"x_transforms\": [\"unit_mag\", \"minus_two\"],\n",
    "        \"episode_transforms\": [],\n",
    "        \"domain_prefix\": \"ORACLE_\"\n",
    "    },\n",
    "    {\n",
    "        \"labels\": ALL_NODES,\n",
    "        \"domains\": ALL_DAYS,\n",
    "        \"num_examples_per_domain_per_label\": 100,\n",
    "        \"pickle_path\": os.path.join(get_datasets_base_path(), \"cores.stratified_ds.2022A.pkl\"),\n",
    "        \"source_or_target_dataset\": \"target\",\n",
    "        \"x_transforms\": [\"unit_power\", \"times_zero\"],\n",
    "        \"episode_transforms\": [],\n",
    "        \"domain_prefix\": \"CORES_\"\n",
    "    }   \n",
    "]\n",
    "\n",
    "standalone_parameters[\"torch_default_dtype\"] = \"torch.float32\" \n",
    "\n",
    "\n",
    "\n",
    "standalone_parameters[\"x_net\"] =     [\n",
    "    {\"class\": \"nnReshape\", \"kargs\": {\"shape\":[-1, 1, 2, 256]}},\n",
    "    {\"class\": \"Conv2d\", \"kargs\": { \"in_channels\":1, \"out_channels\":256, \"kernel_size\":(1,7), \"bias\":False, \"padding\":(0,3), },},\n",
    "    {\"class\": \"ReLU\", \"kargs\": {\"inplace\": True}},\n",
    "    {\"class\": \"BatchNorm2d\", \"kargs\": {\"num_features\":256}},\n",
    "\n",
    "    {\"class\": \"Conv2d\", \"kargs\": { \"in_channels\":256, \"out_channels\":80, \"kernel_size\":(2,7), \"bias\":True, \"padding\":(0,3), },},\n",
    "    {\"class\": \"ReLU\", \"kargs\": {\"inplace\": True}},\n",
    "    {\"class\": \"BatchNorm2d\", \"kargs\": {\"num_features\":80}},\n",
    "    {\"class\": \"Flatten\", \"kargs\": {}},\n",
    "\n",
    "    {\"class\": \"Linear\", \"kargs\": {\"in_features\": 80*256, \"out_features\": 256}}, # 80 units per IQ pair\n",
    "    {\"class\": \"ReLU\", \"kargs\": {\"inplace\": True}},\n",
    "    {\"class\": \"BatchNorm1d\", \"kargs\": {\"num_features\":256}},\n",
    "\n",
    "    {\"class\": \"Linear\", \"kargs\": {\"in_features\": 256, \"out_features\": 256}},\n",
    "]\n",
    "\n",
    "# Parameters relevant to results\n",
    "# These parameters will basically never need to change\n",
    "standalone_parameters[\"NUM_LOGS_PER_EPOCH\"] = 10\n",
    "standalone_parameters[\"BEST_MODEL_PATH\"] = \"./best_model.pth\"\n",
    "\n",
    "\n",
    "\n",
    "\n"
   ]
  },
  {
   "cell_type": "code",
   "execution_count": 4,
   "id": "d4d966e9",
   "metadata": {
    "execution": {
     "iopub.execute_input": "2022-03-18T22:05:23.542721Z",
     "iopub.status.busy": "2022-03-18T22:05:23.542357Z",
     "iopub.status.idle": "2022-03-18T22:05:23.555078Z",
     "shell.execute_reply": "2022-03-18T22:05:23.555458Z"
    },
    "papermill": {
     "duration": 0.035688,
     "end_time": "2022-03-18T22:05:23.555561",
     "exception": false,
     "start_time": "2022-03-18T22:05:23.519873",
     "status": "completed"
    },
    "tags": [
     "injected-parameters"
    ]
   },
   "outputs": [],
   "source": [
    "# Parameters\n",
    "parameters = {\n",
    "    \"experiment_name\": \"tl_3A:cores+wisig -> oracle.run1.framed\",\n",
    "    \"device\": \"cuda\",\n",
    "    \"lr\": 0.001,\n",
    "    \"x_shape\": [2, 200],\n",
    "    \"n_shot\": 3,\n",
    "    \"n_query\": 2,\n",
    "    \"train_k_factor\": 3,\n",
    "    \"val_k_factor\": 2,\n",
    "    \"test_k_factor\": 2,\n",
    "    \"torch_default_dtype\": \"torch.float32\",\n",
    "    \"n_epoch\": 50,\n",
    "    \"patience\": 3,\n",
    "    \"criteria_for_best\": \"target_loss\",\n",
    "    \"x_net\": [\n",
    "        {\"class\": \"nnReshape\", \"kargs\": {\"shape\": [-1, 1, 2, 200]}},\n",
    "        {\n",
    "            \"class\": \"Conv2d\",\n",
    "            \"kargs\": {\n",
    "                \"in_channels\": 1,\n",
    "                \"out_channels\": 256,\n",
    "                \"kernel_size\": [1, 7],\n",
    "                \"bias\": False,\n",
    "                \"padding\": [0, 3],\n",
    "            },\n",
    "        },\n",
    "        {\"class\": \"ReLU\", \"kargs\": {\"inplace\": True}},\n",
    "        {\"class\": \"BatchNorm2d\", \"kargs\": {\"num_features\": 256}},\n",
    "        {\n",
    "            \"class\": \"Conv2d\",\n",
    "            \"kargs\": {\n",
    "                \"in_channels\": 256,\n",
    "                \"out_channels\": 80,\n",
    "                \"kernel_size\": [2, 7],\n",
    "                \"bias\": True,\n",
    "                \"padding\": [0, 3],\n",
    "            },\n",
    "        },\n",
    "        {\"class\": \"ReLU\", \"kargs\": {\"inplace\": True}},\n",
    "        {\"class\": \"BatchNorm2d\", \"kargs\": {\"num_features\": 80}},\n",
    "        {\"class\": \"Flatten\", \"kargs\": {}},\n",
    "        {\"class\": \"Linear\", \"kargs\": {\"in_features\": 16000, \"out_features\": 256}},\n",
    "        {\"class\": \"ReLU\", \"kargs\": {\"inplace\": True}},\n",
    "        {\"class\": \"BatchNorm1d\", \"kargs\": {\"num_features\": 256}},\n",
    "        {\"class\": \"Linear\", \"kargs\": {\"in_features\": 256, \"out_features\": 256}},\n",
    "    ],\n",
    "    \"NUM_LOGS_PER_EPOCH\": 10,\n",
    "    \"BEST_MODEL_PATH\": \"./best_model.pth\",\n",
    "    \"n_way\": 16,\n",
    "    \"datasets\": [\n",
    "        {\n",
    "            \"labels\": [\n",
    "                \"1-10.\",\n",
    "                \"1-11.\",\n",
    "                \"1-15.\",\n",
    "                \"1-16.\",\n",
    "                \"1-17.\",\n",
    "                \"1-18.\",\n",
    "                \"1-19.\",\n",
    "                \"10-4.\",\n",
    "                \"10-7.\",\n",
    "                \"11-1.\",\n",
    "                \"11-14.\",\n",
    "                \"11-17.\",\n",
    "                \"11-20.\",\n",
    "                \"11-7.\",\n",
    "                \"13-20.\",\n",
    "                \"13-8.\",\n",
    "                \"14-10.\",\n",
    "                \"14-11.\",\n",
    "                \"14-14.\",\n",
    "                \"14-7.\",\n",
    "                \"15-1.\",\n",
    "                \"15-20.\",\n",
    "                \"16-1.\",\n",
    "                \"16-16.\",\n",
    "                \"17-10.\",\n",
    "                \"17-11.\",\n",
    "                \"17-2.\",\n",
    "                \"19-1.\",\n",
    "                \"19-16.\",\n",
    "                \"19-19.\",\n",
    "                \"19-20.\",\n",
    "                \"19-3.\",\n",
    "                \"2-10.\",\n",
    "                \"2-11.\",\n",
    "                \"2-17.\",\n",
    "                \"2-18.\",\n",
    "                \"2-20.\",\n",
    "                \"2-3.\",\n",
    "                \"2-4.\",\n",
    "                \"2-5.\",\n",
    "                \"2-6.\",\n",
    "                \"2-7.\",\n",
    "                \"2-8.\",\n",
    "                \"3-13.\",\n",
    "                \"3-18.\",\n",
    "                \"3-3.\",\n",
    "                \"4-1.\",\n",
    "                \"4-10.\",\n",
    "                \"4-11.\",\n",
    "                \"4-19.\",\n",
    "                \"5-5.\",\n",
    "                \"6-15.\",\n",
    "                \"7-10.\",\n",
    "                \"7-14.\",\n",
    "                \"8-18.\",\n",
    "                \"8-20.\",\n",
    "                \"8-3.\",\n",
    "                \"8-8.\",\n",
    "            ],\n",
    "            \"domains\": [1, 2, 3, 4, 5],\n",
    "            \"num_examples_per_domain_per_label\": 100,\n",
    "            \"pickle_path\": \"/mnt/wd500GB/CSC500/csc500-main/datasets/cores.stratified_ds.2022A.pkl\",\n",
    "            \"source_or_target_dataset\": \"source\",\n",
    "            \"x_transforms\": [\"take_200\"],\n",
    "            \"episode_transforms\": [],\n",
    "            \"domain_prefix\": \"C_A_\",\n",
    "        },\n",
    "        {\n",
    "            \"labels\": [\n",
    "                \"1-10\",\n",
    "                \"1-12\",\n",
    "                \"1-14\",\n",
    "                \"1-16\",\n",
    "                \"1-18\",\n",
    "                \"1-19\",\n",
    "                \"1-8\",\n",
    "                \"10-11\",\n",
    "                \"10-17\",\n",
    "                \"10-4\",\n",
    "                \"10-7\",\n",
    "                \"11-1\",\n",
    "                \"11-10\",\n",
    "                \"11-19\",\n",
    "                \"11-20\",\n",
    "                \"11-4\",\n",
    "                \"11-7\",\n",
    "                \"12-19\",\n",
    "                \"12-20\",\n",
    "                \"12-7\",\n",
    "                \"13-14\",\n",
    "                \"13-18\",\n",
    "                \"13-19\",\n",
    "                \"13-20\",\n",
    "                \"13-3\",\n",
    "                \"13-7\",\n",
    "                \"14-10\",\n",
    "                \"14-11\",\n",
    "                \"14-12\",\n",
    "                \"14-13\",\n",
    "                \"14-14\",\n",
    "                \"14-19\",\n",
    "                \"14-20\",\n",
    "                \"14-7\",\n",
    "                \"14-8\",\n",
    "                \"14-9\",\n",
    "                \"15-1\",\n",
    "                \"15-19\",\n",
    "                \"15-6\",\n",
    "                \"16-1\",\n",
    "                \"16-16\",\n",
    "                \"16-19\",\n",
    "                \"16-20\",\n",
    "                \"17-10\",\n",
    "                \"17-11\",\n",
    "                \"18-1\",\n",
    "                \"18-10\",\n",
    "                \"18-11\",\n",
    "                \"18-12\",\n",
    "                \"18-13\",\n",
    "                \"18-14\",\n",
    "                \"18-15\",\n",
    "                \"18-16\",\n",
    "                \"18-17\",\n",
    "                \"18-19\",\n",
    "                \"18-2\",\n",
    "                \"18-20\",\n",
    "                \"18-4\",\n",
    "                \"18-5\",\n",
    "                \"18-7\",\n",
    "                \"18-8\",\n",
    "                \"18-9\",\n",
    "                \"19-1\",\n",
    "                \"19-10\",\n",
    "                \"19-11\",\n",
    "                \"19-12\",\n",
    "                \"19-13\",\n",
    "                \"19-14\",\n",
    "                \"19-15\",\n",
    "                \"19-19\",\n",
    "                \"19-2\",\n",
    "                \"19-20\",\n",
    "                \"19-3\",\n",
    "                \"19-4\",\n",
    "                \"19-6\",\n",
    "                \"19-7\",\n",
    "                \"19-8\",\n",
    "                \"19-9\",\n",
    "                \"2-1\",\n",
    "                \"2-13\",\n",
    "                \"2-15\",\n",
    "                \"2-3\",\n",
    "                \"2-4\",\n",
    "                \"2-5\",\n",
    "                \"2-6\",\n",
    "                \"2-7\",\n",
    "                \"2-8\",\n",
    "                \"20-1\",\n",
    "                \"20-12\",\n",
    "                \"20-14\",\n",
    "                \"20-15\",\n",
    "                \"20-16\",\n",
    "                \"20-18\",\n",
    "                \"20-19\",\n",
    "                \"20-20\",\n",
    "                \"20-3\",\n",
    "                \"20-4\",\n",
    "                \"20-5\",\n",
    "                \"20-7\",\n",
    "                \"20-8\",\n",
    "                \"3-1\",\n",
    "                \"3-13\",\n",
    "                \"3-18\",\n",
    "                \"3-2\",\n",
    "                \"3-8\",\n",
    "                \"4-1\",\n",
    "                \"4-10\",\n",
    "                \"4-11\",\n",
    "                \"5-1\",\n",
    "                \"5-5\",\n",
    "                \"6-1\",\n",
    "                \"6-15\",\n",
    "                \"6-6\",\n",
    "                \"7-10\",\n",
    "                \"7-11\",\n",
    "                \"7-12\",\n",
    "                \"7-13\",\n",
    "                \"7-14\",\n",
    "                \"7-7\",\n",
    "                \"7-8\",\n",
    "                \"7-9\",\n",
    "                \"8-1\",\n",
    "                \"8-13\",\n",
    "                \"8-14\",\n",
    "                \"8-18\",\n",
    "                \"8-20\",\n",
    "                \"8-3\",\n",
    "                \"8-8\",\n",
    "                \"9-1\",\n",
    "                \"9-7\",\n",
    "            ],\n",
    "            \"domains\": [1, 2, 3, 4],\n",
    "            \"num_examples_per_domain_per_label\": 100,\n",
    "            \"pickle_path\": \"/mnt/wd500GB/CSC500/csc500-main/datasets/wisig.node3-19.stratified_ds.2022A.pkl\",\n",
    "            \"source_or_target_dataset\": \"source\",\n",
    "            \"x_transforms\": [\"take_200\"],\n",
    "            \"episode_transforms\": [],\n",
    "            \"domain_prefix\": \"W_A_\",\n",
    "        },\n",
    "        {\n",
    "            \"labels\": [\n",
    "                \"3123D52\",\n",
    "                \"3123D65\",\n",
    "                \"3123D79\",\n",
    "                \"3123D80\",\n",
    "                \"3123D54\",\n",
    "                \"3123D70\",\n",
    "                \"3123D7B\",\n",
    "                \"3123D89\",\n",
    "                \"3123D58\",\n",
    "                \"3123D76\",\n",
    "                \"3123D7D\",\n",
    "                \"3123EFE\",\n",
    "                \"3123D64\",\n",
    "                \"3123D78\",\n",
    "                \"3123D7E\",\n",
    "                \"3124E4A\",\n",
    "            ],\n",
    "            \"domains\": [32, 38, 8, 44, 14, 50, 20, 26],\n",
    "            \"num_examples_per_domain_per_label\": 2000,\n",
    "            \"pickle_path\": \"/mnt/wd500GB/CSC500/csc500-main/datasets/oracle.Run1_framed_2000Examples_stratified_ds.2022A.pkl\",\n",
    "            \"source_or_target_dataset\": \"target\",\n",
    "            \"x_transforms\": [\"take_200\", \"resample_20Msps_to_25Msps\"],\n",
    "            \"episode_transforms\": [],\n",
    "            \"domain_prefix\": \"ORACLE.run1_\",\n",
    "        },\n",
    "    ],\n",
    "    \"seed\": 420,\n",
    "    \"dataset_seed\": 420,\n",
    "}\n"
   ]
  },
  {
   "cell_type": "code",
   "execution_count": 5,
   "id": "8fa1cc33",
   "metadata": {
    "execution": {
     "iopub.execute_input": "2022-03-18T22:05:23.591991Z",
     "iopub.status.busy": "2022-03-18T22:05:23.591727Z",
     "iopub.status.idle": "2022-03-18T22:05:23.606074Z",
     "shell.execute_reply": "2022-03-18T22:05:23.605627Z"
    },
    "papermill": {
     "duration": 0.03165,
     "end_time": "2022-03-18T22:05:23.606162",
     "exception": false,
     "start_time": "2022-03-18T22:05:23.574512",
     "status": "completed"
    },
    "tags": []
   },
   "outputs": [],
   "source": [
    "# Set this to True if you want to run this template directly\n",
    "STANDALONE = False\n",
    "if STANDALONE:\n",
    "    print(\"parameters not injected, running with standalone_parameters\")\n",
    "    parameters = standalone_parameters\n",
    "\n",
    "if not 'parameters' in locals() and not 'parameters' in globals():\n",
    "    raise Exception(\"Parameter injection failed\")\n",
    "\n",
    "#Use an easy dict for all the parameters\n",
    "p = EasyDict(parameters)\n",
    "\n",
    "if \"x_shape\" not in p:\n",
    "    p.x_shape = [2,256] # Default to this if we dont supply x_shape\n",
    "\n",
    "\n",
    "supplied_keys = set(p.keys())\n",
    "\n",
    "if  supplied_keys != required_parameters:\n",
    "    print(\"Parameters are incorrect\")\n",
    "    if len(supplied_keys - required_parameters)>0: print(\"Shouldn't have:\", str(supplied_keys - required_parameters))\n",
    "    if len(required_parameters - supplied_keys)>0: print(\"Need to have:\", str(required_parameters - supplied_keys))\n",
    "    raise RuntimeError(\"Parameters are incorrect\")"
   ]
  },
  {
   "cell_type": "code",
   "execution_count": 6,
   "id": "3a028d58",
   "metadata": {
    "execution": {
     "iopub.execute_input": "2022-03-18T22:05:23.639255Z",
     "iopub.status.busy": "2022-03-18T22:05:23.638994Z",
     "iopub.status.idle": "2022-03-18T22:05:23.649089Z",
     "shell.execute_reply": "2022-03-18T22:05:23.648840Z"
    },
    "papermill": {
     "duration": 0.025109,
     "end_time": "2022-03-18T22:05:23.649138",
     "exception": false,
     "start_time": "2022-03-18T22:05:23.624029",
     "status": "completed"
    },
    "tags": []
   },
   "outputs": [],
   "source": [
    "###################################\n",
    "# Set the RNGs and make it all deterministic\n",
    "###################################\n",
    "np.random.seed(p.seed)\n",
    "random.seed(p.seed)\n",
    "torch.manual_seed(p.seed)\n",
    "\n",
    "torch.use_deterministic_algorithms(True) "
   ]
  },
  {
   "cell_type": "code",
   "execution_count": 7,
   "id": "b691acf6",
   "metadata": {
    "execution": {
     "iopub.execute_input": "2022-03-18T22:05:23.680838Z",
     "iopub.status.busy": "2022-03-18T22:05:23.680590Z",
     "iopub.status.idle": "2022-03-18T22:05:23.693946Z",
     "shell.execute_reply": "2022-03-18T22:05:23.694317Z"
    },
    "papermill": {
     "duration": 0.029524,
     "end_time": "2022-03-18T22:05:23.694419",
     "exception": false,
     "start_time": "2022-03-18T22:05:23.664895",
     "status": "completed"
    },
    "tags": []
   },
   "outputs": [],
   "source": [
    "###########################################\n",
    "# The stratified datasets honor this\n",
    "###########################################\n",
    "torch.set_default_dtype(eval(p.torch_default_dtype))"
   ]
  },
  {
   "cell_type": "code",
   "execution_count": 8,
   "id": "b5fba671",
   "metadata": {
    "execution": {
     "iopub.execute_input": "2022-03-18T22:05:23.728138Z",
     "iopub.status.busy": "2022-03-18T22:05:23.727893Z",
     "iopub.status.idle": "2022-03-18T22:05:23.761002Z",
     "shell.execute_reply": "2022-03-18T22:05:23.760650Z"
    },
    "papermill": {
     "duration": 0.048883,
     "end_time": "2022-03-18T22:05:23.761071",
     "exception": false,
     "start_time": "2022-03-18T22:05:23.712188",
     "status": "completed"
    },
    "tags": []
   },
   "outputs": [],
   "source": [
    "###################################\n",
    "# Build the network(s)\n",
    "# Note: It's critical to do this AFTER setting the RNG\n",
    "###################################\n",
    "x_net = build_sequential(p.x_net)"
   ]
  },
  {
   "cell_type": "code",
   "execution_count": 9,
   "id": "5d7e61cc",
   "metadata": {
    "execution": {
     "iopub.execute_input": "2022-03-18T22:05:23.795213Z",
     "iopub.status.busy": "2022-03-18T22:05:23.794963Z",
     "iopub.status.idle": "2022-03-18T22:05:23.810138Z",
     "shell.execute_reply": "2022-03-18T22:05:23.809746Z"
    },
    "papermill": {
     "duration": 0.030933,
     "end_time": "2022-03-18T22:05:23.810230",
     "exception": false,
     "start_time": "2022-03-18T22:05:23.779297",
     "status": "completed"
    },
    "tags": []
   },
   "outputs": [],
   "source": [
    "start_time_secs = time.time()"
   ]
  },
  {
   "cell_type": "code",
   "execution_count": 10,
   "id": "c6b67dfd",
   "metadata": {
    "execution": {
     "iopub.execute_input": "2022-03-18T22:05:23.844817Z",
     "iopub.status.busy": "2022-03-18T22:05:23.844574Z",
     "iopub.status.idle": "2022-03-18T22:05:23.858189Z",
     "shell.execute_reply": "2022-03-18T22:05:23.857884Z"
    },
    "papermill": {
     "duration": 0.029747,
     "end_time": "2022-03-18T22:05:23.858258",
     "exception": false,
     "start_time": "2022-03-18T22:05:23.828511",
     "status": "completed"
    },
    "tags": []
   },
   "outputs": [],
   "source": [
    "p.domains_source = []\n",
    "p.domains_target = []\n",
    "\n",
    "\n",
    "train_original_source = []\n",
    "val_original_source   = []\n",
    "test_original_source  = []\n",
    "\n",
    "train_original_target = []\n",
    "val_original_target   = []\n",
    "test_original_target  = []"
   ]
  },
  {
   "cell_type": "code",
   "execution_count": 11,
   "id": "e3d9c3d3",
   "metadata": {
    "execution": {
     "iopub.execute_input": "2022-03-18T22:05:23.892432Z",
     "iopub.status.busy": "2022-03-18T22:05:23.892186Z",
     "iopub.status.idle": "2022-03-18T22:05:23.907025Z",
     "shell.execute_reply": "2022-03-18T22:05:23.907406Z"
    },
    "papermill": {
     "duration": 0.031012,
     "end_time": "2022-03-18T22:05:23.907508",
     "exception": false,
     "start_time": "2022-03-18T22:05:23.876496",
     "status": "completed"
    },
    "tags": []
   },
   "outputs": [],
   "source": [
    "# global_x_transform_func = lambda x: normalize(x.to(torch.get_default_dtype()), \"unit_power\") # unit_power, unit_mag\n",
    "# global_x_transform_func = lambda x: normalize(x, \"unit_power\") # unit_power, unit_mag"
   ]
  },
  {
   "cell_type": "code",
   "execution_count": 12,
   "id": "acb78fd2",
   "metadata": {
    "execution": {
     "iopub.execute_input": "2022-03-18T22:05:23.944524Z",
     "iopub.status.busy": "2022-03-18T22:05:23.944262Z",
     "iopub.status.idle": "2022-03-18T22:05:23.956965Z",
     "shell.execute_reply": "2022-03-18T22:05:23.957335Z"
    },
    "papermill": {
     "duration": 0.033767,
     "end_time": "2022-03-18T22:05:23.957437",
     "exception": false,
     "start_time": "2022-03-18T22:05:23.923670",
     "status": "completed"
    },
    "tags": []
   },
   "outputs": [],
   "source": [
    "def add_dataset(\n",
    "    labels,\n",
    "    domains,\n",
    "    pickle_path,\n",
    "    x_transforms,\n",
    "    episode_transforms,\n",
    "    domain_prefix,\n",
    "    num_examples_per_domain_per_label,\n",
    "    source_or_target_dataset:str,\n",
    "    iterator_seed=p.seed,\n",
    "    dataset_seed=p.dataset_seed,\n",
    "    n_shot=p.n_shot,\n",
    "    n_way=p.n_way,\n",
    "    n_query=p.n_query,\n",
    "    train_val_test_k_factors=(p.train_k_factor,p.val_k_factor,p.test_k_factor),\n",
    "):\n",
    "   \n",
    "    if x_transforms == []: x_transform = None\n",
    "    else: x_transform = get_chained_transform(x_transforms)\n",
    "    \n",
    "    if episode_transforms == []: episode_transform = None\n",
    "    else: raise Exception(\"episode_transforms not implemented\")\n",
    "    \n",
    "    episode_transform = lambda tup, _prefix=domain_prefix: (_prefix + str(tup[0]), tup[1])\n",
    "\n",
    "\n",
    "    eaf = Episodic_Accessor_Factory(\n",
    "        labels=labels,\n",
    "        domains=domains,\n",
    "        num_examples_per_domain_per_label=num_examples_per_domain_per_label,\n",
    "        iterator_seed=iterator_seed,\n",
    "        dataset_seed=dataset_seed,\n",
    "        n_shot=n_shot,\n",
    "        n_way=n_way,\n",
    "        n_query=n_query,\n",
    "        train_val_test_k_factors=train_val_test_k_factors,\n",
    "        pickle_path=pickle_path,\n",
    "        x_transform_func=x_transform,\n",
    "    )\n",
    "\n",
    "    train, val, test = eaf.get_train(), eaf.get_val(), eaf.get_test()\n",
    "    train = Lazy_Iterable_Wrapper(train, episode_transform)\n",
    "    val = Lazy_Iterable_Wrapper(val, episode_transform)\n",
    "    test = Lazy_Iterable_Wrapper(test, episode_transform)\n",
    "\n",
    "    if source_or_target_dataset==\"source\":\n",
    "        train_original_source.append(train)\n",
    "        val_original_source.append(val)\n",
    "        test_original_source.append(test)\n",
    "\n",
    "        p.domains_source.extend(\n",
    "            [domain_prefix + str(u) for u in domains]\n",
    "        )\n",
    "    elif source_or_target_dataset==\"target\":\n",
    "        train_original_target.append(train)\n",
    "        val_original_target.append(val)\n",
    "        test_original_target.append(test)\n",
    "        p.domains_target.extend(\n",
    "            [domain_prefix + str(u) for u in domains]\n",
    "        )\n",
    "    else:\n",
    "        raise Exception(f\"invalid source_or_target_dataset: {source_or_target_dataset}\")\n",
    "    "
   ]
  },
  {
   "cell_type": "code",
   "execution_count": 13,
   "id": "fe266617",
   "metadata": {
    "execution": {
     "iopub.execute_input": "2022-03-18T22:05:23.992476Z",
     "iopub.status.busy": "2022-03-18T22:05:23.992232Z",
     "iopub.status.idle": "2022-03-18T22:05:39.035634Z",
     "shell.execute_reply": "2022-03-18T22:05:39.035178Z"
    },
    "papermill": {
     "duration": 15.05965,
     "end_time": "2022-03-18T22:05:39.035737",
     "exception": false,
     "start_time": "2022-03-18T22:05:23.976087",
     "status": "completed"
    },
    "tags": []
   },
   "outputs": [],
   "source": [
    "for ds in p.datasets:\n",
    "    add_dataset(**ds)"
   ]
  },
  {
   "cell_type": "code",
   "execution_count": 14,
   "id": "b90d65ac",
   "metadata": {
    "execution": {
     "iopub.execute_input": "2022-03-18T22:05:39.070312Z",
     "iopub.status.busy": "2022-03-18T22:05:39.070059Z",
     "iopub.status.idle": "2022-03-18T22:05:39.085172Z",
     "shell.execute_reply": "2022-03-18T22:05:39.085540Z"
    },
    "papermill": {
     "duration": 0.030782,
     "end_time": "2022-03-18T22:05:39.085645",
     "exception": false,
     "start_time": "2022-03-18T22:05:39.054863",
     "status": "completed"
    },
    "tags": []
   },
   "outputs": [],
   "source": [
    "# from steves_utils.CORES.utils import (\n",
    "#     ALL_NODES,\n",
    "#     ALL_NODES_MINIMUM_1000_EXAMPLES,\n",
    "#     ALL_DAYS\n",
    "# )\n",
    "\n",
    "# add_dataset(\n",
    "#     labels=ALL_NODES,\n",
    "#     domains = ALL_DAYS,\n",
    "#     num_examples_per_domain_per_label=100,\n",
    "#     pickle_path=os.path.join(get_datasets_base_path(), \"cores.stratified_ds.2022A.pkl\"),\n",
    "#     source_or_target_dataset=\"target\",\n",
    "#     x_transform_func=global_x_transform_func,\n",
    "#     domain_modifier=lambda u: f\"cores_{u}\"\n",
    "# )"
   ]
  },
  {
   "cell_type": "code",
   "execution_count": 15,
   "id": "76db484d",
   "metadata": {
    "execution": {
     "iopub.execute_input": "2022-03-18T22:05:39.119021Z",
     "iopub.status.busy": "2022-03-18T22:05:39.118764Z",
     "iopub.status.idle": "2022-03-18T22:05:39.132956Z",
     "shell.execute_reply": "2022-03-18T22:05:39.132554Z"
    },
    "papermill": {
     "duration": 0.029437,
     "end_time": "2022-03-18T22:05:39.133050",
     "exception": false,
     "start_time": "2022-03-18T22:05:39.103613",
     "status": "completed"
    },
    "tags": []
   },
   "outputs": [],
   "source": [
    "# from steves_utils.ORACLE.utils_v2 import (\n",
    "#     ALL_DISTANCES_FEET,\n",
    "#     ALL_RUNS,\n",
    "#     ALL_SERIAL_NUMBERS,\n",
    "# )\n",
    "\n",
    "\n",
    "# add_dataset(\n",
    "#     labels=ALL_SERIAL_NUMBERS,\n",
    "#     domains = list(set(ALL_DISTANCES_FEET) - {2,62}),\n",
    "#     num_examples_per_domain_per_label=100,\n",
    "#     pickle_path=os.path.join(get_datasets_base_path(), \"oracle.Run2_framed_2000Examples_stratified_ds.2022A.pkl\"),\n",
    "#     source_or_target_dataset=\"source\",\n",
    "#     x_transform_func=global_x_transform_func,\n",
    "#     domain_modifier=lambda u: f\"oracle1_{u}\"\n",
    "# )\n"
   ]
  },
  {
   "cell_type": "code",
   "execution_count": 16,
   "id": "97dea9d2",
   "metadata": {
    "execution": {
     "iopub.execute_input": "2022-03-18T22:05:39.166986Z",
     "iopub.status.busy": "2022-03-18T22:05:39.166738Z",
     "iopub.status.idle": "2022-03-18T22:05:39.180500Z",
     "shell.execute_reply": "2022-03-18T22:05:39.180790Z"
    },
    "papermill": {
     "duration": 0.029397,
     "end_time": "2022-03-18T22:05:39.180871",
     "exception": false,
     "start_time": "2022-03-18T22:05:39.151474",
     "status": "completed"
    },
    "tags": []
   },
   "outputs": [],
   "source": [
    "# from steves_utils.ORACLE.utils_v2 import (\n",
    "#     ALL_DISTANCES_FEET,\n",
    "#     ALL_RUNS,\n",
    "#     ALL_SERIAL_NUMBERS,\n",
    "# )\n",
    "\n",
    "\n",
    "# add_dataset(\n",
    "#     labels=ALL_SERIAL_NUMBERS,\n",
    "#     domains = list(set(ALL_DISTANCES_FEET) - {2,62,56}),\n",
    "#     num_examples_per_domain_per_label=100,\n",
    "#     pickle_path=os.path.join(get_datasets_base_path(), \"oracle.Run2_framed_2000Examples_stratified_ds.2022A.pkl\"),\n",
    "#     source_or_target_dataset=\"source\",\n",
    "#     x_transform_func=global_x_transform_func,\n",
    "#     domain_modifier=lambda u: f\"oracle2_{u}\"\n",
    "# )"
   ]
  },
  {
   "cell_type": "code",
   "execution_count": 17,
   "id": "6f289866",
   "metadata": {
    "execution": {
     "iopub.execute_input": "2022-03-18T22:05:39.214709Z",
     "iopub.status.busy": "2022-03-18T22:05:39.214462Z",
     "iopub.status.idle": "2022-03-18T22:05:39.228418Z",
     "shell.execute_reply": "2022-03-18T22:05:39.228033Z"
    },
    "papermill": {
     "duration": 0.029311,
     "end_time": "2022-03-18T22:05:39.228506",
     "exception": false,
     "start_time": "2022-03-18T22:05:39.199195",
     "status": "completed"
    },
    "tags": []
   },
   "outputs": [],
   "source": [
    "# add_dataset(\n",
    "#     labels=list(range(19)),\n",
    "#     domains = [0,1,2],\n",
    "#     num_examples_per_domain_per_label=100,\n",
    "#     pickle_path=os.path.join(get_datasets_base_path(), \"metehan.stratified_ds.2022A.pkl\"),\n",
    "#     source_or_target_dataset=\"target\",\n",
    "#     x_transform_func=global_x_transform_func,\n",
    "#     domain_modifier=lambda u: f\"met_{u}\"\n",
    "# )"
   ]
  },
  {
   "cell_type": "code",
   "execution_count": 18,
   "id": "86a863c3",
   "metadata": {
    "execution": {
     "iopub.execute_input": "2022-03-18T22:05:39.263135Z",
     "iopub.status.busy": "2022-03-18T22:05:39.262888Z",
     "iopub.status.idle": "2022-03-18T22:05:39.276637Z",
     "shell.execute_reply": "2022-03-18T22:05:39.277005Z"
    },
    "papermill": {
     "duration": 0.029586,
     "end_time": "2022-03-18T22:05:39.277107",
     "exception": false,
     "start_time": "2022-03-18T22:05:39.247521",
     "status": "completed"
    },
    "tags": []
   },
   "outputs": [],
   "source": [
    "# # from steves_utils.wisig.utils import (\n",
    "# #     ALL_NODES_MINIMUM_100_EXAMPLES,\n",
    "# #     ALL_NODES_MINIMUM_500_EXAMPLES,\n",
    "# #     ALL_NODES_MINIMUM_1000_EXAMPLES,\n",
    "# #     ALL_DAYS\n",
    "# # )\n",
    "\n",
    "# import steves_utils.wisig.utils as wisig\n",
    "\n",
    "\n",
    "# add_dataset(\n",
    "#     labels=wisig.ALL_NODES_MINIMUM_100_EXAMPLES,\n",
    "#     domains = wisig.ALL_DAYS,\n",
    "#     num_examples_per_domain_per_label=100,\n",
    "#     pickle_path=os.path.join(get_datasets_base_path(), \"wisig.node3-19.stratified_ds.2022A.pkl\"),\n",
    "#     source_or_target_dataset=\"target\",\n",
    "#     x_transform_func=global_x_transform_func,\n",
    "#     domain_modifier=lambda u: f\"wisig_{u}\"\n",
    "# )"
   ]
  },
  {
   "cell_type": "code",
   "execution_count": 19,
   "id": "fd5442bc",
   "metadata": {
    "execution": {
     "iopub.execute_input": "2022-03-18T22:05:39.314204Z",
     "iopub.status.busy": "2022-03-18T22:05:39.313950Z",
     "iopub.status.idle": "2022-03-18T22:05:39.327507Z",
     "shell.execute_reply": "2022-03-18T22:05:39.327877Z"
    },
    "papermill": {
     "duration": 0.03213,
     "end_time": "2022-03-18T22:05:39.327979",
     "exception": false,
     "start_time": "2022-03-18T22:05:39.295849",
     "status": "completed"
    },
    "tags": []
   },
   "outputs": [],
   "source": [
    "###################################\n",
    "# Build the dataset\n",
    "###################################\n",
    "train_original_source = Iterable_Aggregator(train_original_source, p.seed)\n",
    "val_original_source = Iterable_Aggregator(val_original_source, p.seed)\n",
    "test_original_source = Iterable_Aggregator(test_original_source, p.seed)\n",
    "\n",
    "\n",
    "train_original_target = Iterable_Aggregator(train_original_target, p.seed)\n",
    "val_original_target = Iterable_Aggregator(val_original_target, p.seed)\n",
    "test_original_target = Iterable_Aggregator(test_original_target, p.seed)\n",
    "\n",
    "# For CNN We only use X and Y. And we only train on the source.\n",
    "# Properly form the data using a transform lambda and Lazy_Iterable_Wrapper. Finally wrap them in a dataloader\n",
    "\n",
    "transform_lambda = lambda ex: ex[1] # Original is (<domain>, <episode>) so we strip down to episode only\n",
    "\n",
    "train_processed_source = Lazy_Iterable_Wrapper(train_original_source, transform_lambda)\n",
    "val_processed_source   = Lazy_Iterable_Wrapper(val_original_source, transform_lambda)\n",
    "test_processed_source  = Lazy_Iterable_Wrapper(test_original_source, transform_lambda)\n",
    "\n",
    "train_processed_target = Lazy_Iterable_Wrapper(train_original_target, transform_lambda)\n",
    "val_processed_target   = Lazy_Iterable_Wrapper(val_original_target, transform_lambda)\n",
    "test_processed_target  = Lazy_Iterable_Wrapper(test_original_target, transform_lambda)\n",
    "\n",
    "datasets = EasyDict({\n",
    "    \"source\": {\n",
    "        \"original\": {\"train\":train_original_source, \"val\":val_original_source, \"test\":test_original_source},\n",
    "        \"processed\": {\"train\":train_processed_source, \"val\":val_processed_source, \"test\":test_processed_source}\n",
    "    },\n",
    "    \"target\": {\n",
    "        \"original\": {\"train\":train_original_target, \"val\":val_original_target, \"test\":test_original_target},\n",
    "        \"processed\": {\"train\":train_processed_target, \"val\":val_processed_target, \"test\":test_processed_target}\n",
    "    },\n",
    "})"
   ]
  },
  {
   "cell_type": "code",
   "execution_count": 20,
   "id": "5b3c01fc",
   "metadata": {
    "execution": {
     "iopub.execute_input": "2022-03-18T22:05:39.364074Z",
     "iopub.status.busy": "2022-03-18T22:05:39.363819Z",
     "iopub.status.idle": "2022-03-18T22:05:44.213283Z",
     "shell.execute_reply": "2022-03-18T22:05:44.212911Z"
    },
    "papermill": {
     "duration": 4.866013,
     "end_time": "2022-03-18T22:05:44.213374",
     "exception": false,
     "start_time": "2022-03-18T22:05:39.347361",
     "status": "completed"
    },
    "tags": []
   },
   "outputs": [
    {
     "name": "stdout",
     "output_type": "stream",
     "text": [
      "{'C_A_5', 'C_A_1', 'W_A_4', 'C_A_2', 'W_A_1', 'C_A_4', 'W_A_3', 'C_A_3', 'W_A_2'}\n"
     ]
    },
    {
     "name": "stdout",
     "output_type": "stream",
     "text": [
      "{'ORACLE.run1_20', 'ORACLE.run1_50', 'ORACLE.run1_14', 'ORACLE.run1_32', 'ORACLE.run1_44', 'ORACLE.run1_38', 'ORACLE.run1_26', 'ORACLE.run1_8'}\n"
     ]
    },
    {
     "name": "stdout",
     "output_type": "stream",
     "text": [
      "tensor([[[ 6.3478e-03, -5.6459e-03, -2.5391e-02,  ...,  2.1607e-02,\n",
      "          -5.2797e-03, -1.1597e-02],\n",
      "         [ 4.4252e-03,  2.3164e-02, -7.4160e-03,  ...,  2.7650e-02,\n",
      "           2.4689e-02, -1.2238e-02]],\n",
      "\n",
      "        [[-1.7396e-03, -2.4232e-02,  2.1363e-04,  ..., -1.1902e-03,\n",
      "          -1.3581e-02,  1.7609e-02],\n",
      "         [ 2.8871e-02, -2.7161e-03, -2.5178e-02,  ...,  2.0447e-02,\n",
      "          -1.6633e-02, -9.9185e-03]],\n",
      "\n",
      "        [[-1.2207e-04, -9.1556e-04, -1.7090e-03,  ..., -1.1017e-02,\n",
      "           1.0498e-02, -9.0335e-03],\n",
      "         [-3.9674e-04, -7.6296e-04,  1.0681e-03,  ...,  1.5564e-03,\n",
      "          -5.9816e-03,  1.0193e-02]],\n",
      "\n",
      "        ...,\n",
      "\n",
      "        [[-3.3998e-02, -9.9094e-02, -6.2899e-02,  ..., -1.8918e-01,\n",
      "           3.9552e-02, -1.4570e-01],\n",
      "         [ 4.6205e-02, -1.8891e-02, -7.9684e-02,  ..., -4.8067e-02,\n",
      "          -2.9969e-02,  1.2574e-01]],\n",
      "\n",
      "        [[ 4.6388e-03,  1.5705e-01, -1.7304e-02,  ...,  2.6835e-01,\n",
      "          -2.0447e-03,  6.4547e-02],\n",
      "         [-1.2192e-01,  5.2095e-02,  1.4112e-01,  ...,  6.1953e-02,\n",
      "           1.8772e-01, -8.8076e-02]],\n",
      "\n",
      "        [[-3.8118e-02,  4.8708e-02,  7.1780e-02,  ...,  1.1460e-01,\n",
      "           1.8943e-01, -4.2604e-02],\n",
      "         [-4.8433e-02, -7.0650e-02,  5.7039e-02,  ..., -1.7222e-01,\n",
      "           1.0410e-01,  1.5513e-01]]])\n"
     ]
    }
   ],
   "source": [
    "from steves_utils.transforms import get_average_magnitude, get_average_power\n",
    "\n",
    "print(set([u for u,_ in val_original_source]))\n",
    "print(set([u for u,_ in val_original_target]))\n",
    "\n",
    "s_x, s_y, q_x, q_y, _ = next(iter(train_processed_source))\n",
    "print(s_x)\n",
    "\n",
    "# for ds in [\n",
    "#     train_processed_source,\n",
    "#     val_processed_source,\n",
    "#     test_processed_source,\n",
    "#     train_processed_target,\n",
    "#     val_processed_target,\n",
    "#     test_processed_target\n",
    "# ]:\n",
    "#     for s_x, s_y, q_x, q_y, _ in ds:\n",
    "#         for X in (s_x, q_x):\n",
    "#             for x in X:\n",
    "#                 assert np.isclose(get_average_magnitude(x.numpy()), 1.0)\n",
    "#                 assert np.isclose(get_average_power(x.numpy()), 1.0)\n",
    "                "
   ]
  },
  {
   "cell_type": "code",
   "execution_count": 21,
   "id": "bbdacba1",
   "metadata": {
    "execution": {
     "iopub.execute_input": "2022-03-18T22:05:44.257473Z",
     "iopub.status.busy": "2022-03-18T22:05:44.257211Z",
     "iopub.status.idle": "2022-03-18T22:05:44.307862Z",
     "shell.execute_reply": "2022-03-18T22:05:44.308271Z"
    },
    "papermill": {
     "duration": 0.071899,
     "end_time": "2022-03-18T22:05:44.308400",
     "exception": false,
     "start_time": "2022-03-18T22:05:44.236501",
     "status": "completed"
    },
    "tags": []
   },
   "outputs": [
    {
     "name": "stdout",
     "output_type": "stream",
     "text": [
      "(2, 200)\n"
     ]
    }
   ],
   "source": [
    "###################################\n",
    "# Build the model\n",
    "###################################\n",
    "# easfsl only wants a tuple for the shape\n",
    "model = Steves_Prototypical_Network(x_net, device=p.device, x_shape=tuple(p.x_shape))\n",
    "optimizer = Adam(params=model.parameters(), lr=p.lr)"
   ]
  },
  {
   "cell_type": "code",
   "execution_count": 22,
   "id": "22b39ac5",
   "metadata": {
    "execution": {
     "iopub.execute_input": "2022-03-18T22:05:44.345635Z",
     "iopub.status.busy": "2022-03-18T22:05:44.345244Z",
     "iopub.status.idle": "2022-03-18T22:13:08.700777Z",
     "shell.execute_reply": "2022-03-18T22:13:08.701146Z"
    },
    "papermill": {
     "duration": 444.372528,
     "end_time": "2022-03-18T22:13:08.701275",
     "exception": false,
     "start_time": "2022-03-18T22:05:44.328747",
     "status": "completed"
    },
    "tags": []
   },
   "outputs": [
    {
     "name": "stdout",
     "output_type": "stream",
     "text": [
      "epoch: 1, [batch: 1 / 2080], examples_per_second: 121.0761, train_label_loss: 1.6058, \n"
     ]
    },
    {
     "name": "stdout",
     "output_type": "stream",
     "text": [
      "epoch: 1, [batch: 208 / 2080], examples_per_second: 3622.3712, train_label_loss: 0.1545, \n"
     ]
    },
    {
     "name": "stdout",
     "output_type": "stream",
     "text": [
      "epoch: 1, [batch: 416 / 2080], examples_per_second: 3630.8670, train_label_loss: 1.0220, \n"
     ]
    },
    {
     "name": "stdout",
     "output_type": "stream",
     "text": [
      "epoch: 1, [batch: 624 / 2080], examples_per_second: 3644.9685, train_label_loss: 0.0834, \n"
     ]
    },
    {
     "name": "stdout",
     "output_type": "stream",
     "text": [
      "epoch: 1, [batch: 832 / 2080], examples_per_second: 3660.8406, train_label_loss: 0.0829, \n"
     ]
    },
    {
     "name": "stdout",
     "output_type": "stream",
     "text": [
      "epoch: 1, [batch: 1040 / 2080], examples_per_second: 3663.5858, train_label_loss: 0.1431, \n"
     ]
    },
    {
     "name": "stdout",
     "output_type": "stream",
     "text": [
      "epoch: 1, [batch: 1248 / 2080], examples_per_second: 3647.2041, train_label_loss: 0.0222, \n"
     ]
    },
    {
     "name": "stdout",
     "output_type": "stream",
     "text": [
      "epoch: 1, [batch: 1456 / 2080], examples_per_second: 3652.0130, train_label_loss: 0.0187, \n"
     ]
    },
    {
     "name": "stdout",
     "output_type": "stream",
     "text": [
      "epoch: 1, [batch: 1664 / 2080], examples_per_second: 3609.2472, train_label_loss: 0.6753, \n"
     ]
    },
    {
     "name": "stdout",
     "output_type": "stream",
     "text": [
      "epoch: 1, [batch: 1872 / 2080], examples_per_second: 3653.2844, train_label_loss: 0.1339, \n"
     ]
    },
    {
     "name": "stdout",
     "output_type": "stream",
     "text": [
      "=============================================================\n",
      "epoch: 1, source_val_acc_label: 0.9515, target_val_acc_label: 0.5613, source_val_label_loss: 0.2330, target_val_label_loss: 2.4744, \n",
      "=============================================================\n"
     ]
    },
    {
     "name": "stdout",
     "output_type": "stream",
     "text": [
      "New best\n"
     ]
    },
    {
     "name": "stdout",
     "output_type": "stream",
     "text": [
      "epoch: 2, [batch: 1 / 2081], examples_per_second: 11.1438, train_label_loss: 0.0768, \n"
     ]
    },
    {
     "name": "stdout",
     "output_type": "stream",
     "text": [
      "epoch: 2, [batch: 209 / 2081], examples_per_second: 3640.5909, train_label_loss: 0.0413, \n"
     ]
    },
    {
     "name": "stdout",
     "output_type": "stream",
     "text": [
      "epoch: 2, [batch: 417 / 2081], examples_per_second: 3634.3718, train_label_loss: 0.0274, \n"
     ]
    },
    {
     "name": "stdout",
     "output_type": "stream",
     "text": [
      "epoch: 2, [batch: 625 / 2081], examples_per_second: 3634.8329, train_label_loss: 0.2171, \n"
     ]
    },
    {
     "name": "stdout",
     "output_type": "stream",
     "text": [
      "epoch: 2, [batch: 833 / 2081], examples_per_second: 3630.5687, train_label_loss: 0.1446, \n"
     ]
    },
    {
     "name": "stdout",
     "output_type": "stream",
     "text": [
      "epoch: 2, [batch: 1041 / 2081], examples_per_second: 3620.3851, train_label_loss: 0.7619, \n"
     ]
    },
    {
     "name": "stdout",
     "output_type": "stream",
     "text": [
      "epoch: 2, [batch: 1249 / 2081], examples_per_second: 3633.1538, train_label_loss: 0.0094, \n"
     ]
    },
    {
     "name": "stdout",
     "output_type": "stream",
     "text": [
      "epoch: 2, [batch: 1457 / 2081], examples_per_second: 3656.7168, train_label_loss: 0.1539, \n"
     ]
    },
    {
     "name": "stdout",
     "output_type": "stream",
     "text": [
      "epoch: 2, [batch: 1665 / 2081], examples_per_second: 3584.4558, train_label_loss: 0.3160, \n"
     ]
    },
    {
     "name": "stdout",
     "output_type": "stream",
     "text": [
      "epoch: 2, [batch: 1873 / 2081], examples_per_second: 3634.1731, train_label_loss: 0.3846, \n"
     ]
    },
    {
     "name": "stdout",
     "output_type": "stream",
     "text": [
      "=============================================================\n",
      "epoch: 2, source_val_acc_label: 0.9655, target_val_acc_label: 0.5442, source_val_label_loss: 0.1534, target_val_label_loss: 2.3549, \n",
      "=============================================================\n"
     ]
    },
    {
     "name": "stdout",
     "output_type": "stream",
     "text": [
      "New best\n"
     ]
    },
    {
     "name": "stdout",
     "output_type": "stream",
     "text": [
      "epoch: 3, [batch: 1 / 2080], examples_per_second: 11.0692, train_label_loss: 0.0798, \n"
     ]
    },
    {
     "name": "stdout",
     "output_type": "stream",
     "text": [
      "epoch: 3, [batch: 208 / 2080], examples_per_second: 3609.7141, train_label_loss: 0.0129, \n"
     ]
    },
    {
     "name": "stdout",
     "output_type": "stream",
     "text": [
      "epoch: 3, [batch: 416 / 2080], examples_per_second: 3611.6668, train_label_loss: 0.0282, \n"
     ]
    },
    {
     "name": "stdout",
     "output_type": "stream",
     "text": [
      "epoch: 3, [batch: 624 / 2080], examples_per_second: 3623.4366, train_label_loss: 0.0299, \n"
     ]
    },
    {
     "name": "stdout",
     "output_type": "stream",
     "text": [
      "epoch: 3, [batch: 832 / 2080], examples_per_second: 3646.8633, train_label_loss: 0.5600, \n"
     ]
    },
    {
     "name": "stdout",
     "output_type": "stream",
     "text": [
      "epoch: 3, [batch: 1040 / 2080], examples_per_second: 3621.4885, train_label_loss: 0.0043, \n"
     ]
    },
    {
     "name": "stdout",
     "output_type": "stream",
     "text": [
      "epoch: 3, [batch: 1248 / 2080], examples_per_second: 3641.4854, train_label_loss: 0.0219, \n"
     ]
    },
    {
     "name": "stdout",
     "output_type": "stream",
     "text": [
      "epoch: 3, [batch: 1456 / 2080], examples_per_second: 3571.5096, train_label_loss: 0.4727, \n"
     ]
    },
    {
     "name": "stdout",
     "output_type": "stream",
     "text": [
      "epoch: 3, [batch: 1664 / 2080], examples_per_second: 3652.1332, train_label_loss: 0.1897, \n"
     ]
    },
    {
     "name": "stdout",
     "output_type": "stream",
     "text": [
      "epoch: 3, [batch: 1872 / 2080], examples_per_second: 3627.4973, train_label_loss: 0.0331, \n"
     ]
    },
    {
     "name": "stdout",
     "output_type": "stream",
     "text": [
      "=============================================================\n",
      "epoch: 3, source_val_acc_label: 0.9711, target_val_acc_label: 0.5313, source_val_label_loss: 0.1256, target_val_label_loss: 2.3344, \n",
      "=============================================================\n"
     ]
    },
    {
     "name": "stdout",
     "output_type": "stream",
     "text": [
      "New best\n"
     ]
    },
    {
     "name": "stdout",
     "output_type": "stream",
     "text": [
      "epoch: 4, [batch: 1 / 2080], examples_per_second: 11.1639, train_label_loss: 0.0655, \n"
     ]
    },
    {
     "name": "stdout",
     "output_type": "stream",
     "text": [
      "epoch: 4, [batch: 208 / 2080], examples_per_second: 3619.9426, train_label_loss: 0.0900, \n"
     ]
    },
    {
     "name": "stdout",
     "output_type": "stream",
     "text": [
      "epoch: 4, [batch: 416 / 2080], examples_per_second: 3619.9029, train_label_loss: 0.0219, \n"
     ]
    },
    {
     "name": "stdout",
     "output_type": "stream",
     "text": [
      "epoch: 4, [batch: 624 / 2080], examples_per_second: 3634.6559, train_label_loss: 0.2215, \n"
     ]
    },
    {
     "name": "stdout",
     "output_type": "stream",
     "text": [
      "epoch: 4, [batch: 832 / 2080], examples_per_second: 3634.4140, train_label_loss: 0.0306, \n"
     ]
    },
    {
     "name": "stdout",
     "output_type": "stream",
     "text": [
      "epoch: 4, [batch: 1040 / 2080], examples_per_second: 3610.2535, train_label_loss: 0.0158, \n"
     ]
    },
    {
     "name": "stdout",
     "output_type": "stream",
     "text": [
      "epoch: 4, [batch: 1248 / 2080], examples_per_second: 3653.3806, train_label_loss: 0.0148, \n"
     ]
    },
    {
     "name": "stdout",
     "output_type": "stream",
     "text": [
      "epoch: 4, [batch: 1456 / 2080], examples_per_second: 3655.6026, train_label_loss: 0.0020, \n"
     ]
    },
    {
     "name": "stdout",
     "output_type": "stream",
     "text": [
      "epoch: 4, [batch: 1664 / 2080], examples_per_second: 3626.4797, train_label_loss: 0.1018, \n"
     ]
    },
    {
     "name": "stdout",
     "output_type": "stream",
     "text": [
      "epoch: 4, [batch: 1872 / 2080], examples_per_second: 3655.7851, train_label_loss: 0.2426, \n"
     ]
    },
    {
     "name": "stdout",
     "output_type": "stream",
     "text": [
      "=============================================================\n",
      "epoch: 4, source_val_acc_label: 0.9729, target_val_acc_label: 0.4674, source_val_label_loss: 0.1192, target_val_label_loss: 2.1669, \n",
      "=============================================================\n"
     ]
    },
    {
     "name": "stdout",
     "output_type": "stream",
     "text": [
      "New best\n"
     ]
    },
    {
     "name": "stdout",
     "output_type": "stream",
     "text": [
      "epoch: 5, [batch: 1 / 2078], examples_per_second: 11.1443, train_label_loss: 0.0110, \n"
     ]
    },
    {
     "name": "stdout",
     "output_type": "stream",
     "text": [
      "epoch: 5, [batch: 208 / 2078], examples_per_second: 3636.1267, train_label_loss: 0.0018, \n"
     ]
    },
    {
     "name": "stdout",
     "output_type": "stream",
     "text": [
      "epoch: 5, [batch: 416 / 2078], examples_per_second: 3649.4257, train_label_loss: 0.0059, \n"
     ]
    },
    {
     "name": "stdout",
     "output_type": "stream",
     "text": [
      "epoch: 5, [batch: 624 / 2078], examples_per_second: 3621.8253, train_label_loss: 0.0088, \n"
     ]
    },
    {
     "name": "stdout",
     "output_type": "stream",
     "text": [
      "epoch: 5, [batch: 831 / 2078], examples_per_second: 3624.6322, train_label_loss: 0.0062, \n"
     ]
    },
    {
     "name": "stdout",
     "output_type": "stream",
     "text": [
      "epoch: 5, [batch: 1039 / 2078], examples_per_second: 3611.2036, train_label_loss: 0.0007, \n"
     ]
    },
    {
     "name": "stdout",
     "output_type": "stream",
     "text": [
      "epoch: 5, [batch: 1247 / 2078], examples_per_second: 3649.8263, train_label_loss: 0.0400, \n"
     ]
    },
    {
     "name": "stdout",
     "output_type": "stream",
     "text": [
      "epoch: 5, [batch: 1454 / 2078], examples_per_second: 3645.5300, train_label_loss: 0.0055, \n"
     ]
    },
    {
     "name": "stdout",
     "output_type": "stream",
     "text": [
      "epoch: 5, [batch: 1662 / 2078], examples_per_second: 3613.8702, train_label_loss: 0.1800, \n"
     ]
    },
    {
     "name": "stdout",
     "output_type": "stream",
     "text": [
      "epoch: 5, [batch: 1870 / 2078], examples_per_second: 3651.4165, train_label_loss: 0.2702, \n"
     ]
    },
    {
     "name": "stdout",
     "output_type": "stream",
     "text": [
      "=============================================================\n",
      "epoch: 5, source_val_acc_label: 0.9737, target_val_acc_label: 0.4114, source_val_label_loss: 0.1216, target_val_label_loss: 2.2417, \n",
      "=============================================================\n"
     ]
    },
    {
     "name": "stdout",
     "output_type": "stream",
     "text": [
      "epoch: 6, [batch: 1 / 2083], examples_per_second: 11.1912, train_label_loss: 0.0333, \n"
     ]
    },
    {
     "name": "stdout",
     "output_type": "stream",
     "text": [
      "epoch: 6, [batch: 209 / 2083], examples_per_second: 3642.0209, train_label_loss: 0.0106, \n"
     ]
    },
    {
     "name": "stdout",
     "output_type": "stream",
     "text": [
      "epoch: 6, [batch: 417 / 2083], examples_per_second: 3648.0404, train_label_loss: 0.0004, \n"
     ]
    },
    {
     "name": "stdout",
     "output_type": "stream",
     "text": [
      "epoch: 6, [batch: 625 / 2083], examples_per_second: 3653.6684, train_label_loss: 0.0346, \n"
     ]
    },
    {
     "name": "stdout",
     "output_type": "stream",
     "text": [
      "epoch: 6, [batch: 833 / 2083], examples_per_second: 3654.1145, train_label_loss: 0.0119, \n"
     ]
    },
    {
     "name": "stdout",
     "output_type": "stream",
     "text": [
      "epoch: 6, [batch: 1042 / 2083], examples_per_second: 3641.5716, train_label_loss: 0.0817, \n"
     ]
    },
    {
     "name": "stdout",
     "output_type": "stream",
     "text": [
      "epoch: 6, [batch: 1250 / 2083], examples_per_second: 3656.3612, train_label_loss: 0.0020, \n"
     ]
    },
    {
     "name": "stdout",
     "output_type": "stream",
     "text": [
      "epoch: 6, [batch: 1458 / 2083], examples_per_second: 3612.4211, train_label_loss: 0.2553, \n"
     ]
    },
    {
     "name": "stdout",
     "output_type": "stream",
     "text": [
      "epoch: 6, [batch: 1666 / 2083], examples_per_second: 3641.4457, train_label_loss: 0.1201, \n"
     ]
    },
    {
     "name": "stdout",
     "output_type": "stream",
     "text": [
      "epoch: 6, [batch: 1874 / 2083], examples_per_second: 3675.7454, train_label_loss: 0.2499, \n"
     ]
    },
    {
     "name": "stdout",
     "output_type": "stream",
     "text": [
      "=============================================================\n",
      "epoch: 6, source_val_acc_label: 0.9765, target_val_acc_label: 0.3897, source_val_label_loss: 0.1035, target_val_label_loss: 2.2123, \n",
      "=============================================================\n"
     ]
    },
    {
     "name": "stdout",
     "output_type": "stream",
     "text": [
      "epoch: 7, [batch: 1 / 2080], examples_per_second: 11.1991, train_label_loss: 0.0044, \n"
     ]
    },
    {
     "name": "stdout",
     "output_type": "stream",
     "text": [
      "epoch: 7, [batch: 208 / 2080], examples_per_second: 3607.7875, train_label_loss: 0.1399, \n"
     ]
    },
    {
     "name": "stdout",
     "output_type": "stream",
     "text": [
      "epoch: 7, [batch: 416 / 2080], examples_per_second: 3637.9847, train_label_loss: 0.0362, \n"
     ]
    },
    {
     "name": "stdout",
     "output_type": "stream",
     "text": [
      "epoch: 7, [batch: 624 / 2080], examples_per_second: 3636.6844, train_label_loss: 0.1361, \n"
     ]
    },
    {
     "name": "stdout",
     "output_type": "stream",
     "text": [
      "epoch: 7, [batch: 832 / 2080], examples_per_second: 3643.3110, train_label_loss: 0.0421, \n"
     ]
    },
    {
     "name": "stdout",
     "output_type": "stream",
     "text": [
      "epoch: 7, [batch: 1040 / 2080], examples_per_second: 3626.6135, train_label_loss: 0.2031, \n"
     ]
    },
    {
     "name": "stdout",
     "output_type": "stream",
     "text": [
      "epoch: 7, [batch: 1248 / 2080], examples_per_second: 3638.5561, train_label_loss: 0.1570, \n"
     ]
    },
    {
     "name": "stdout",
     "output_type": "stream",
     "text": [
      "epoch: 7, [batch: 1456 / 2080], examples_per_second: 3575.3528, train_label_loss: 0.0036, \n"
     ]
    },
    {
     "name": "stdout",
     "output_type": "stream",
     "text": [
      "epoch: 7, [batch: 1664 / 2080], examples_per_second: 3642.5788, train_label_loss: 0.0121, \n"
     ]
    },
    {
     "name": "stdout",
     "output_type": "stream",
     "text": [
      "epoch: 7, [batch: 1872 / 2080], examples_per_second: 3651.2942, train_label_loss: 0.0254, \n"
     ]
    },
    {
     "name": "stdout",
     "output_type": "stream",
     "text": [
      "=============================================================\n",
      "epoch: 7, source_val_acc_label: 0.9772, target_val_acc_label: 0.3404, source_val_label_loss: 0.1047, target_val_label_loss: 2.2449, \n",
      "=============================================================\n"
     ]
    },
    {
     "name": "stdout",
     "output_type": "stream",
     "text": [
      "epoch: 8, [batch: 1 / 2079], examples_per_second: 11.1812, train_label_loss: 0.0122, \n"
     ]
    },
    {
     "name": "stdout",
     "output_type": "stream",
     "text": [
      "epoch: 8, [batch: 208 / 2079], examples_per_second: 3609.9572, train_label_loss: 0.0011, \n"
     ]
    },
    {
     "name": "stdout",
     "output_type": "stream",
     "text": [
      "epoch: 8, [batch: 416 / 2079], examples_per_second: 3643.7413, train_label_loss: 0.0156, \n"
     ]
    },
    {
     "name": "stdout",
     "output_type": "stream",
     "text": [
      "epoch: 8, [batch: 624 / 2079], examples_per_second: 3630.5908, train_label_loss: 0.0261, \n"
     ]
    },
    {
     "name": "stdout",
     "output_type": "stream",
     "text": [
      "epoch: 8, [batch: 832 / 2079], examples_per_second: 3648.1245, train_label_loss: 0.0055, \n"
     ]
    },
    {
     "name": "stdout",
     "output_type": "stream",
     "text": [
      "epoch: 8, [batch: 1040 / 2079], examples_per_second: 3613.2391, train_label_loss: 0.0012, \n"
     ]
    },
    {
     "name": "stdout",
     "output_type": "stream",
     "text": [
      "epoch: 8, [batch: 1247 / 2079], examples_per_second: 3628.9394, train_label_loss: 0.2152, \n"
     ]
    },
    {
     "name": "stdout",
     "output_type": "stream",
     "text": [
      "epoch: 8, [batch: 1455 / 2079], examples_per_second: 3576.9817, train_label_loss: 0.0385, \n"
     ]
    },
    {
     "name": "stdout",
     "output_type": "stream",
     "text": [
      "epoch: 8, [batch: 1663 / 2079], examples_per_second: 3657.7095, train_label_loss: 0.1329, \n"
     ]
    },
    {
     "name": "stdout",
     "output_type": "stream",
     "text": [
      "epoch: 8, [batch: 1871 / 2079], examples_per_second: 3637.4443, train_label_loss: 0.2063, \n"
     ]
    },
    {
     "name": "stdout",
     "output_type": "stream",
     "text": [
      "=============================================================\n",
      "epoch: 8, source_val_acc_label: 0.9768, target_val_acc_label: 0.3228, source_val_label_loss: 0.1030, target_val_label_loss: 2.1919, \n",
      "=============================================================\n"
     ]
    },
    {
     "name": "stdout",
     "output_type": "stream",
     "text": [
      "Patience (3) exhausted\n"
     ]
    }
   ],
   "source": [
    "###################################\n",
    "# train\n",
    "###################################\n",
    "jig = PTN_Train_Eval_Test_Jig(model, p.BEST_MODEL_PATH, p.device)\n",
    "\n",
    "jig.train(\n",
    "    train_iterable=datasets.source.processed.train,\n",
    "    source_val_iterable=datasets.source.processed.val,\n",
    "    target_val_iterable=datasets.target.processed.val,\n",
    "    num_epochs=p.n_epoch,\n",
    "    num_logs_per_epoch=p.NUM_LOGS_PER_EPOCH,\n",
    "    patience=p.patience,\n",
    "    optimizer=optimizer,\n",
    "    criteria_for_best=p.criteria_for_best,\n",
    ")"
   ]
  },
  {
   "cell_type": "code",
   "execution_count": 23,
   "id": "31e8fabf",
   "metadata": {
    "execution": {
     "iopub.execute_input": "2022-03-18T22:13:08.770200Z",
     "iopub.status.busy": "2022-03-18T22:13:08.769950Z",
     "iopub.status.idle": "2022-03-18T22:13:08.788981Z",
     "shell.execute_reply": "2022-03-18T22:13:08.788592Z"
    },
    "papermill": {
     "duration": 0.052278,
     "end_time": "2022-03-18T22:13:08.789069",
     "exception": false,
     "start_time": "2022-03-18T22:13:08.736791",
     "status": "completed"
    },
    "tags": []
   },
   "outputs": [],
   "source": [
    "total_experiment_time_secs = time.time() - start_time_secs"
   ]
  },
  {
   "cell_type": "code",
   "execution_count": 24,
   "id": "87b9595b",
   "metadata": {
    "execution": {
     "iopub.execute_input": "2022-03-18T22:13:08.858560Z",
     "iopub.status.busy": "2022-03-18T22:13:08.858298Z",
     "iopub.status.idle": "2022-03-18T22:14:11.643544Z",
     "shell.execute_reply": "2022-03-18T22:14:11.643915Z"
    },
    "papermill": {
     "duration": 62.821408,
     "end_time": "2022-03-18T22:14:11.644047",
     "exception": false,
     "start_time": "2022-03-18T22:13:08.822639",
     "status": "completed"
    },
    "tags": []
   },
   "outputs": [],
   "source": [
    "###################################\n",
    "# Evaluate the model\n",
    "###################################\n",
    "source_test_label_accuracy, source_test_label_loss = jig.test(datasets.source.processed.test)\n",
    "target_test_label_accuracy, target_test_label_loss = jig.test(datasets.target.processed.test)\n",
    "\n",
    "source_val_label_accuracy, source_val_label_loss = jig.test(datasets.source.processed.val)\n",
    "target_val_label_accuracy, target_val_label_loss = jig.test(datasets.target.processed.val)\n",
    "\n",
    "history = jig.get_history()\n",
    "\n",
    "total_epochs_trained = len(history[\"epoch_indices\"])\n",
    "\n",
    "val_dl = Iterable_Aggregator((datasets.source.original.val,datasets.target.original.val))\n",
    "\n",
    "confusion = ptn_confusion_by_domain_over_dataloader(model, p.device, val_dl)\n",
    "per_domain_accuracy = per_domain_accuracy_from_confusion(confusion)\n",
    "\n",
    "# Add a key to per_domain_accuracy for if it was a source domain\n",
    "for domain, accuracy in per_domain_accuracy.items():\n",
    "    per_domain_accuracy[domain] = {\n",
    "        \"accuracy\": accuracy,\n",
    "        \"source?\": domain in p.domains_source\n",
    "    }\n",
    "\n",
    "# Do an independent accuracy assesment JUST TO BE SURE!\n",
    "# _source_test_label_accuracy = independent_accuracy_assesment(model, datasets.source.processed.test, p.device)\n",
    "# _target_test_label_accuracy = independent_accuracy_assesment(model, datasets.target.processed.test, p.device)\n",
    "# _source_val_label_accuracy = independent_accuracy_assesment(model, datasets.source.processed.val, p.device)\n",
    "# _target_val_label_accuracy = independent_accuracy_assesment(model, datasets.target.processed.val, p.device)\n",
    "\n",
    "# assert(_source_test_label_accuracy == source_test_label_accuracy)\n",
    "# assert(_target_test_label_accuracy == target_test_label_accuracy)\n",
    "# assert(_source_val_label_accuracy == source_val_label_accuracy)\n",
    "# assert(_target_val_label_accuracy == target_val_label_accuracy)\n",
    "\n",
    "experiment = {\n",
    "    \"experiment_name\": p.experiment_name,\n",
    "    \"parameters\": dict(p),\n",
    "    \"results\": {\n",
    "        \"source_test_label_accuracy\": source_test_label_accuracy,\n",
    "        \"source_test_label_loss\": source_test_label_loss,\n",
    "        \"target_test_label_accuracy\": target_test_label_accuracy,\n",
    "        \"target_test_label_loss\": target_test_label_loss,\n",
    "        \"source_val_label_accuracy\": source_val_label_accuracy,\n",
    "        \"source_val_label_loss\": source_val_label_loss,\n",
    "        \"target_val_label_accuracy\": target_val_label_accuracy,\n",
    "        \"target_val_label_loss\": target_val_label_loss,\n",
    "        \"total_epochs_trained\": total_epochs_trained,\n",
    "        \"total_experiment_time_secs\": total_experiment_time_secs,\n",
    "        \"confusion\": confusion,\n",
    "        \"per_domain_accuracy\": per_domain_accuracy,\n",
    "    },\n",
    "    \"history\": history,\n",
    "    \"dataset_metrics\": get_dataset_metrics(datasets, \"ptn\"),\n",
    "}"
   ]
  },
  {
   "cell_type": "code",
   "execution_count": 25,
   "id": "54a21829",
   "metadata": {
    "execution": {
     "iopub.execute_input": "2022-03-18T22:14:11.713391Z",
     "iopub.status.busy": "2022-03-18T22:14:11.713140Z",
     "iopub.status.idle": "2022-03-18T22:14:11.837884Z",
     "shell.execute_reply": "2022-03-18T22:14:11.838283Z"
    },
    "papermill": {
     "duration": 0.157968,
     "end_time": "2022-03-18T22:14:11.838410",
     "exception": false,
     "start_time": "2022-03-18T22:14:11.680442",
     "status": "completed"
    },
    "tags": []
   },
   "outputs": [
    {
     "data": {
      "image/png": "[encoded data removed]",
      "text/plain": [
       "<Figure size 1080x504 with 1 Axes>"
      ]
     },
     "metadata": {
      "needs_background": "light"
     },
     "output_type": "display_data"
    }
   ],
   "source": [
    "ax = get_loss_curve(experiment)\n",
    "plt.show()"
   ]
  },
  {
   "cell_type": "code",
   "execution_count": 26,
   "id": "fd8a0f60",
   "metadata": {
    "execution": {
     "iopub.execute_input": "2022-03-18T22:14:11.914850Z",
     "iopub.status.busy": "2022-03-18T22:14:11.907815Z",
     "iopub.status.idle": "2022-03-18T22:14:12.048144Z",
     "shell.execute_reply": "2022-03-18T22:14:12.048359Z"
    },
    "papermill": {
     "duration": 0.174108,
     "end_time": "2022-03-18T22:14:12.048445",
     "exception": false,
     "start_time": "2022-03-18T22:14:11.874337",
     "status": "completed"
    },
    "tags": []
   },
   "outputs": [
    {
     "data": {
      "text/plain": [
       "<AxesSubplot:title={'center':'Results'}>"
      ]
     },
     "execution_count": 26,
     "metadata": {},
     "output_type": "execute_result"
    },
    {
     "data": {
      "image/png": "[encoded data removed]",
      "text/plain": [
       "<Figure size 1080x504 with 1 Axes>"
      ]
     },
     "metadata": {
      "needs_background": "light"
     },
     "output_type": "display_data"
    }
   ],
   "source": [
    "get_results_table(experiment)"
   ]
  },
  {
   "cell_type": "code",
   "execution_count": 27,
   "id": "cf8dc689",
   "metadata": {
    "execution": {
     "iopub.execute_input": "2022-03-18T22:14:12.118508Z",
     "iopub.status.busy": "2022-03-18T22:14:12.118240Z",
     "iopub.status.idle": "2022-03-18T22:14:12.283468Z",
     "shell.execute_reply": "2022-03-18T22:14:12.283872Z"
    },
    "papermill": {
     "duration": 0.200906,
     "end_time": "2022-03-18T22:14:12.283985",
     "exception": false,
     "start_time": "2022-03-18T22:14:12.083079",
     "status": "completed"
    },
    "tags": []
   },
   "outputs": [
    {
     "data": {
      "text/plain": [
       "<AxesSubplot:title={'center':'Per Domain Validation Accuracy'}, xlabel='domain'>"
      ]
     },
     "execution_count": 27,
     "metadata": {},
     "output_type": "execute_result"
    },
    {
     "data": {
      "image/png": "[encoded data removed]",
      "text/plain": [
       "<Figure size 1080x504 with 1 Axes>"
      ]
     },
     "metadata": {
      "needs_background": "light"
     },
     "output_type": "display_data"
    }
   ],
   "source": [
    "get_domain_accuracies(experiment)"
   ]
  },
  {
   "cell_type": "code",
   "execution_count": 28,
   "id": "a74ae082",
   "metadata": {
    "execution": {
     "iopub.execute_input": "2022-03-18T22:14:12.360146Z",
     "iopub.status.busy": "2022-03-18T22:14:12.359876Z",
     "iopub.status.idle": "2022-03-18T22:14:12.375648Z",
     "shell.execute_reply": "2022-03-18T22:14:12.375211Z"
    },
    "papermill": {
     "duration": 0.052243,
     "end_time": "2022-03-18T22:14:12.375749",
     "exception": false,
     "start_time": "2022-03-18T22:14:12.323506",
     "status": "completed"
    },
    "tags": []
   },
   "outputs": [
    {
     "name": "stdout",
     "output_type": "stream",
     "text": [
      "Source Test Label Accuracy: 0.9728307560137457 Target Test Label Accuracy: 0.46513671875\n",
      "Source Val Label Accuracy: 0.9729381443298969 Target Val Label Accuracy: 0.46735026041666666\n"
     ]
    }
   ],
   "source": [
    "print(\"Source Test Label Accuracy:\", experiment[\"results\"][\"source_test_label_accuracy\"], \"Target Test Label Accuracy:\", experiment[\"results\"][\"target_test_label_accuracy\"])\n",
    "print(\"Source Val Label Accuracy:\", experiment[\"results\"][\"source_val_label_accuracy\"], \"Target Val Label Accuracy:\", experiment[\"results\"][\"target_val_label_accuracy\"])"
   ]
  },
  {
   "cell_type": "code",
   "execution_count": 29,
   "id": "dacca602",
   "metadata": {
    "execution": {
     "iopub.execute_input": "2022-03-18T22:14:12.449680Z",
     "iopub.status.busy": "2022-03-18T22:14:12.449383Z",
     "iopub.status.idle": "2022-03-18T22:14:12.464574Z",
     "shell.execute_reply": "2022-03-18T22:14:12.464357Z"
    },
    "papermill": {
     "duration": 0.051103,
     "end_time": "2022-03-18T22:14:12.464623",
     "exception": false,
     "start_time": "2022-03-18T22:14:12.413520",
     "status": "completed"
    },
    "tags": [
     "experiment_json"
    ]
   },
   "outputs": [
    {
     "data": {
      "text/plain": [
       "'{\"experiment_name\": \"tl_3A:cores+wisig -> oracle.run1.framed\", \"parameters\": {\"experiment_name\": \"tl_3A:cores+wisig -> oracle.run1.framed\", \"device\": \"cuda\", \"lr\": 0.001, \"x_shape\": [2, 200], \"n_shot\": 3, \"n_query\": 2, \"train_k_factor\": 3, \"val_k_factor\": 2, \"test_k_factor\": 2, \"torch_default_dtype\": \"torch.float32\", \"n_epoch\": 50, \"patience\": 3, \"criteria_for_best\": \"target_loss\", \"x_net\": [{\"class\": \"nnReshape\", \"kargs\": {\"shape\": [-1, 1, 2, 200]}}, {\"class\": \"Conv2d\", \"kargs\": {\"in_channels\": 1, \"out_channels\": 256, \"kernel_size\": [1, 7], \"bias\": false, \"padding\": [0, 3]}}, {\"class\": \"ReLU\", \"kargs\": {\"inplace\": true}}, {\"class\": \"BatchNorm2d\", \"kargs\": {\"num_features\": 256}}, {\"class\": \"Conv2d\", \"kargs\": {\"in_channels\": 256, \"out_channels\": 80, \"kernel_size\": [2, 7], \"bias\": true, \"padding\": [0, 3]}}, {\"class\": \"ReLU\", \"kargs\": {\"inplace\": true}}, {\"class\": \"BatchNorm2d\", \"kargs\": {\"num_features\": 80}}, {\"class\": \"Flatten\", \"kargs\": {}}, {\"class\": \"Linear\", \"kargs\": {\"in_features\": 16000, \"out_features\": 256}}, {\"class\": \"ReLU\", \"kargs\": {\"inplace\": true}}, {\"class\": \"BatchNorm1d\", \"kargs\": {\"num_features\": 256}}, {\"class\": \"Linear\", \"kargs\": {\"in_features\": 256, \"out_features\": 256}}], \"NUM_LOGS_PER_EPOCH\": 10, \"BEST_MODEL_PATH\": \"./best_model.pth\", \"n_way\": 16, \"datasets\": [{\"labels\": [\"1-10.\", \"1-11.\", \"1-15.\", \"1-16.\", \"1-17.\", \"1-18.\", \"1-19.\", \"10-4.\", \"10-7.\", \"11-1.\", \"11-14.\", \"11-17.\", \"11-20.\", \"11-7.\", \"13-20.\", \"13-8.\", \"14-10.\", \"14-11.\", \"14-14.\", \"14-7.\", \"15-1.\", \"15-20.\", \"16-1.\", \"16-16.\", \"17-10.\", \"17-11.\", \"17-2.\", \"19-1.\", \"19-16.\", \"19-19.\", \"19-20.\", \"19-3.\", \"2-10.\", \"2-11.\", \"2-17.\", \"2-18.\", \"2-20.\", \"2-3.\", \"2-4.\", \"2-5.\", \"2-6.\", \"2-7.\", \"2-8.\", \"3-13.\", \"3-18.\", \"3-3.\", \"4-1.\", \"4-10.\", \"4-11.\", \"4-19.\", \"5-5.\", \"6-15.\", \"7-10.\", \"7-14.\", \"8-18.\", \"8-20.\", \"8-3.\", \"8-8.\"], \"domains\": [1, 2, 3, 4, 5], \"num_examples_per_domain_per_label\": 100, \"pickle_path\": \"/mnt/wd500GB/CSC500/csc500-main/datasets/cores.stratified_ds.2022A.pkl\", \"source_or_target_dataset\": \"source\", \"x_transforms\": [\"take_200\"], \"episode_transforms\": [], \"domain_prefix\": \"C_A_\"}, {\"labels\": [\"1-10\", \"1-12\", \"1-14\", \"1-16\", \"1-18\", \"1-19\", \"1-8\", \"10-11\", \"10-17\", \"10-4\", \"10-7\", \"11-1\", \"11-10\", \"11-19\", \"11-20\", \"11-4\", \"11-7\", \"12-19\", \"12-20\", \"12-7\", \"13-14\", \"13-18\", \"13-19\", \"13-20\", \"13-3\", \"13-7\", \"14-10\", \"14-11\", \"14-12\", \"14-13\", \"14-14\", \"14-19\", \"14-20\", \"14-7\", \"14-8\", \"14-9\", \"15-1\", \"15-19\", \"15-6\", \"16-1\", \"16-16\", \"16-19\", \"16-20\", \"17-10\", \"17-11\", \"18-1\", \"18-10\", \"18-11\", \"18-12\", \"18-13\", \"18-14\", \"18-15\", \"18-16\", \"18-17\", \"18-19\", \"18-2\", \"18-20\", \"18-4\", \"18-5\", \"18-7\", \"18-8\", \"18-9\", \"19-1\", \"19-10\", \"19-11\", \"19-12\", \"19-13\", \"19-14\", \"19-15\", \"19-19\", \"19-2\", \"19-20\", \"19-3\", \"19-4\", \"19-6\", \"19-7\", \"19-8\", \"19-9\", \"2-1\", \"2-13\", \"2-15\", \"2-3\", \"2-4\", \"2-5\", \"2-6\", \"2-7\", \"2-8\", \"20-1\", \"20-12\", \"20-14\", \"20-15\", \"20-16\", \"20-18\", \"20-19\", \"20-20\", \"20-3\", \"20-4\", \"20-5\", \"20-7\", \"20-8\", \"3-1\", \"3-13\", \"3-18\", \"3-2\", \"3-8\", \"4-1\", \"4-10\", \"4-11\", \"5-1\", \"5-5\", \"6-1\", \"6-15\", \"6-6\", \"7-10\", \"7-11\", \"7-12\", \"7-13\", \"7-14\", \"7-7\", \"7-8\", \"7-9\", \"8-1\", \"8-13\", \"8-14\", \"8-18\", \"8-20\", \"8-3\", \"8-8\", \"9-1\", \"9-7\"], \"domains\": [1, 2, 3, 4], \"num_examples_per_domain_per_label\": 100, \"pickle_path\": \"/mnt/wd500GB/CSC500/csc500-main/datasets/wisig.node3-19.stratified_ds.2022A.pkl\", \"source_or_target_dataset\": \"source\", \"x_transforms\": [\"take_200\"], \"episode_transforms\": [], \"domain_prefix\": \"W_A_\"}, {\"labels\": [\"3123D52\", \"3123D65\", \"3123D79\", \"3123D80\", \"3123D54\", \"3123D70\", \"3123D7B\", \"3123D89\", \"3123D58\", \"3123D76\", \"3123D7D\", \"3123EFE\", \"3123D64\", \"3123D78\", \"3123D7E\", \"3124E4A\"], \"domains\": [32, 38, 8, 44, 14, 50, 20, 26], \"num_examples_per_domain_per_label\": 2000, \"pickle_path\": \"/mnt/wd500GB/CSC500/csc500-main/datasets/oracle.Run1_framed_2000Examples_stratified_ds.2022A.pkl\", \"source_or_target_dataset\": \"target\", \"x_transforms\": [\"take_200\", \"resample_20Msps_to_25Msps\"], \"episode_transforms\": [], \"domain_prefix\": \"ORACLE.run1_\"}], \"seed\": 420, \"dataset_seed\": 420, \"domains_source\": [\"C_A_1\", \"C_A_2\", \"C_A_3\", \"C_A_4\", \"C_A_5\", \"W_A_1\", \"W_A_2\", \"W_A_3\", \"W_A_4\"], \"domains_target\": [\"ORACLE.run1_32\", \"ORACLE.run1_38\", \"ORACLE.run1_8\", \"ORACLE.run1_44\", \"ORACLE.run1_14\", \"ORACLE.run1_50\", \"ORACLE.run1_20\", \"ORACLE.run1_26\"]}, \"results\": {\"source_test_label_accuracy\": 0.9728307560137457, \"source_test_label_loss\": 0.12542113661766052, \"target_test_label_accuracy\": 0.46513671875, \"target_test_label_loss\": 2.1669628620147705, \"source_val_label_accuracy\": 0.9729381443298969, \"source_val_label_loss\": 0.11915284395217896, \"target_val_label_accuracy\": 0.46735026041666666, \"target_val_label_loss\": 2.1668519973754883, \"total_epochs_trained\": 8, \"total_experiment_time_secs\": 464.97896003723145, \"confusion\": {\"C_A_4\": {\"42\": {\"42\": 12}, \"0\": {\"0\": 10}, \"1\": {\"1\": 12}, \"39\": {\"39\": 12}, \"28\": {\"28\": 10}, \"53\": {\"53\": 12}, \"19\": {\"19\": 12}, \"34\": {\"34\": 12}, \"33\": {\"33\": 12}, \"32\": {\"32\": 12}, \"10\": {\"10\": 12}, \"46\": {\"46\": 12}, \"20\": {\"20\": 8}, \"5\": {\"5\": 10}, \"40\": {\"40\": 12}, \"51\": {\"51\": 12}, \"37\": {\"37\": 12}, \"17\": {\"17\": 12}, \"45\": {\"45\": 12}, \"13\": {\"13\": 12}, \"27\": {\"27\": 12}, \"24\": {\"24\": 8}, \"30\": {\"30\": 12}, \"31\": {\"31\": 10}, \"41\": {\"41\": 10}, \"36\": {\"36\": 11, \"23\": 1}, \"16\": {\"16\": 10}, \"22\": {\"22\": 12}, \"44\": {\"44\": 12}, \"9\": {\"9\": 12}, \"57\": {\"57\": 12}, \"8\": {\"8\": 10}, \"23\": {\"23\": 10}, \"47\": {\"47\": 12}, \"43\": {\"43\": 12}, \"49\": {\"49\": 12}, \"3\": {\"3\": 11, \"6\": 1}, \"12\": {\"12\": 12}, \"38\": {\"38\": 12}, \"7\": {\"7\": 12}, \"26\": {\"26\": 12}, \"29\": {\"29\": 12}, \"48\": {\"48\": 10}, \"56\": {\"56\": 12}, \"15\": {\"15\": 12}, \"50\": {\"50\": 12}, \"2\": {\"2\": 10}, \"55\": {\"55\": 10}, \"21\": {\"21\": 12}, \"52\": {\"52\": 12}, \"18\": {\"18\": 12}, \"14\": {\"14\": 12}, \"35\": {\"35\": 8}, \"4\": {\"4\": 10}, \"25\": {\"25\": 8}, \"11\": {\"11\": 6}, \"54\": {\"54\": 6}, \"6\": {\"6\": 8}}, \"W_A_3\": {\"110\": {\"110\": 12}, \"1\": {\"1\": 10}, \"2\": {\"2\": 12}, \"94\": {\"94\": 12}, \"64\": {\"64\": 12}, \"78\": {\"117\": 1, \"78\": 10, \"10\": 1}, \"47\": {\"47\": 12}, \"127\": {\"127\": 12}, \"89\": {\"89\": 12}, \"79\": {\"79\": 12}, \"22\": {\"22\": 12}, \"117\": {\"117\": 12}, \"49\": {\"49\": 12}, \"14\": {\"14\": 12}, \"103\": {\"103\": 12}, \"123\": {\"123\": 12}, \"80\": {\"98\": 1, \"80\": 10, \"78\": 1}, \"63\": {\"63\": 12}, \"27\": {\"27\": 9, \"36\": 2, \"24\": 1}, \"17\": {\"17\": 10, \"67\": 1, \"35\": 1}, \"105\": {\"105\": 12}, \"40\": {\"40\": 11, \"105\": 1}, \"93\": {\"93\": 12}, \"98\": {\"98\": 12}, \"10\": {\"10\": 12}, \"3\": {\"3\": 12}, \"19\": {\"19\": 12}, \"31\": {\"31\": 12}, \"0\": {\"0\": 12}, \"118\": {\"118\": 12}, \"87\": {\"87\": 12}, \"58\": {\"58\": 12}, \"72\": {\"72\": 12}, \"129\": {\"129\": 12}, \"92\": {\"92\": 12}, \"39\": {\"39\": 10}, \"28\": {\"28\": 12}, \"29\": {\"29\": 12}, \"84\": {\"84\": 12}, \"102\": {\"102\": 12}, \"71\": {\"71\": 12}, \"100\": {\"100\": 12}, \"73\": {\"73\": 11, \"13\": 1}, \"16\": {\"16\": 12}, \"125\": {\"125\": 12}, \"21\": {\"21\": 12}, \"96\": {\"96\": 12}, \"4\": {\"4\": 12}, \"57\": {\"57\": 12}, \"126\": {\"126\": 12}, \"101\": {\"101\": 12}, \"122\": {\"122\": 12}, \"77\": {\"77\": 12}, \"56\": {\"56\": 11, \"128\": 1}, \"85\": {\"85\": 12}, \"70\": {\"70\": 12}, \"69\": {\"69\": 12}, \"106\": {\"106\": 12}, \"42\": {\"42\": 11, \"77\": 1}, \"24\": {\"24\": 10, \"27\": 2}, \"120\": {\"61\": 1, \"120\": 9}, \"108\": {\"108\": 10}, \"61\": {\"61\": 12}, \"91\": {\"91\": 12}, \"30\": {\"30\": 12}, \"114\": {\"114\": 12}, \"46\": {\"46\": 10}, \"124\": {\"124\": 10}, \"38\": {\"38\": 11, \"119\": 1}, \"51\": {\"51\": 12}, \"88\": {\"88\": 12}, \"112\": {\"112\": 11, \"96\": 1}, \"37\": {\"37\": 12}, \"36\": {\"36\": 12}, \"26\": {\"26\": 12}, \"45\": {\"45\": 11, \"88\": 1}, \"23\": {\"23\": 11, \"122\": 1}, \"43\": {\"126\": 1, \"43\": 7, \"18\": 1, \"30\": 1}, \"119\": {\"119\": 12}, \"95\": {\"95\": 12}, \"62\": {\"62\": 11, \"13\": 1}, \"7\": {\"7\": 12}, \"41\": {\"41\": 12}, \"67\": {\"67\": 10, \"88\": 1, \"70\": 1}, \"50\": {\"50\": 12}, \"9\": {\"9\": 12}, \"82\": {\"82\": 11, \"61\": 1}, \"81\": {\"81\": 12}, \"97\": {\"97\": 12}, \"13\": {\"13\": 11, \"78\": 1}, \"55\": {\"55\": 12}, \"75\": {\"75\": 12}, \"53\": {\"53\": 11, \"35\": 1}, \"111\": {\"111\": 11, \"51\": 1}, \"44\": {\"44\": 12}, \"35\": {\"35\": 12}, \"5\": {\"5\": 12}, \"90\": {\"90\": 10}, \"33\": {\"33\": 12}, \"83\": {\"83\": 12}, \"65\": {\"65\": 12}, \"8\": {\"8\": 10}, \"60\": {\"60\": 12}, \"34\": {\"34\": 12}, \"109\": {\"109\": 12}, \"76\": {\"76\": 10, \"81\": 1, \"22\": 1}, \"32\": {\"32\": 11, \"55\": 1}, \"68\": {\"68\": 12}, \"18\": {\"18\": 12}, \"116\": {\"116\": 12}, \"128\": {\"128\": 12}, \"115\": {\"115\": 10}, \"113\": {\"113\": 8}, \"48\": {\"48\": 12}, \"104\": {\"104\": 11, \"82\": 1}, \"121\": {\"85\": 1, \"121\": 11}, \"107\": {\"107\": 12}, \"25\": {\"25\": 12}, \"12\": {\"12\": 12}, \"6\": {\"6\": 12}, \"54\": {\"54\": 12}, \"11\": {\"11\": 12}, \"59\": {\"59\": 12}, \"86\": {\"86\": 12}, \"66\": {\"66\": 12}, \"99\": {\"99\": 12}, \"15\": {\"15\": 12}, \"74\": {\"74\": 11, \"20\": 1}, \"20\": {\"20\": 12}, \"52\": {\"52\": 12}}, \"C_A_5\": {\"43\": {\"43\": 6}, \"35\": {\"35\": 12}, \"54\": {\"54\": 12}, \"22\": {\"22\": 12}, \"16\": {\"16\": 8}, \"5\": {\"5\": 12}, \"28\": {\"28\": 12}, \"14\": {\"14\": 12}, \"51\": {\"51\": 8}, \"19\": {\"19\": 12}, \"31\": {\"31\": 12}, \"10\": {\"10\": 12}, \"21\": {\"21\": 12}, \"3\": {\"3\": 12}, \"57\": {\"57\": 12}, \"9\": {\"9\": 12}, \"8\": {\"8\": 12}, \"46\": {\"46\": 10}, \"23\": {\"23\": 12}, \"37\": {\"37\": 12}, \"34\": {\"34\": 12}, \"4\": {\"4\": 12}, \"6\": {\"6\": 9, \"45\": 3}, \"48\": {\"48\": 12}, \"44\": {\"44\": 11, \"3\": 1}, \"40\": {\"40\": 12}, \"12\": {\"12\": 12}, \"30\": {\"30\": 12}, \"39\": {\"39\": 10}, \"45\": {\"6\": 1, \"45\": 11}, \"36\": {\"36\": 12}, \"27\": {\"27\": 12}, \"32\": {\"32\": 10}, \"52\": {\"52\": 12}, \"0\": {\"0\": 12}, \"26\": {\"26\": 8}, \"47\": {\"47\": 12}, \"17\": {\"17\": 10}, \"2\": {\"2\": 10}, \"56\": {\"56\": 8}, \"38\": {\"38\": 8, \"7\": 4}, \"50\": {\"50\": 9, \"45\": 1}, \"20\": {\"20\": 12}, \"1\": {\"1\": 12}, \"24\": {\"24\": 12}, \"33\": {\"33\": 8}, \"13\": {\"13\": 12}, \"41\": {\"41\": 12}, \"49\": {\"49\": 12}, \"11\": {\"11\": 10}, \"42\": {\"42\": 12}, \"7\": {\"7\": 12}, \"29\": {\"29\": 12}, \"18\": {\"18\": 8}, \"55\": {\"55\": 8}, \"53\": {\"53\": 10}, \"25\": {\"25\": 10}, \"15\": {\"15\": 7, \"11\": 1}}, \"C_A_2\": {\"49\": {\"49\": 10}, \"13\": {\"13\": 10}, \"37\": {\"37\": 12}, \"41\": {\"41\": 10}, \"15\": {\"15\": 12}, \"56\": {\"56\": 12}, \"14\": {\"14\": 12}, \"3\": {\"3\": 12}, \"38\": {\"38\": 12}, \"43\": {\"43\": 12}, \"33\": {\"33\": 12}, \"47\": {\"47\": 12}, \"30\": {\"30\": 12}, \"39\": {\"39\": 12}, \"12\": {\"12\": 12}, \"6\": {\"6\": 12}, \"51\": {\"51\": 10}, \"5\": {\"5\": 12}, \"34\": {\"34\": 11, \"19\": 1}, \"35\": {\"35\": 12}, \"0\": {\"0\": 12}, \"7\": {\"7\": 8}, \"24\": {\"24\": 12}, \"8\": {\"8\": 10}, \"20\": {\"20\": 10}, \"36\": {\"36\": 12}, \"42\": {\"42\": 12}, \"1\": {\"1\": 12}, \"4\": {\"4\": 8}, \"28\": {\"28\": 12}, \"50\": {\"50\": 9, \"46\": 1}, \"45\": {\"45\": 10}, \"18\": {\"18\": 12}, \"57\": {\"57\": 10}, \"46\": {\"46\": 10}, \"48\": {\"48\": 8}, \"22\": {\"22\": 12}, \"31\": {\"31\": 12}, \"44\": {\"44\": 12}, \"2\": {\"2\": 12}, \"55\": {\"55\": 12}, \"32\": {\"32\": 10}, \"9\": {\"9\": 12}, \"27\": {\"27\": 12}, \"52\": {\"52\": 12}, \"40\": {\"40\": 10}, \"23\": {\"23\": 12}, \"17\": {\"17\": 12}, \"10\": {\"10\": 12}, \"26\": {\"26\": 12}, \"11\": {\"11\": 10}, \"53\": {\"53\": 10}, \"16\": {\"16\": 12}, \"25\": {\"25\": 10}, \"21\": {\"21\": 8}, \"54\": {\"54\": 10}, \"19\": {\"19\": 8}, \"29\": {\"29\": 8}}, \"W_A_4\": {\"113\": {\"113\": 12}, \"85\": {\"85\": 12}, \"34\": {\"34\": 10, \"96\": 2}, \"55\": {\"55\": 12}, \"42\": {\"42\": 12}, \"13\": {\"13\": 12}, \"69\": {\"69\": 12}, \"35\": {\"35\": 12}, \"83\": {\"83\": 11, \"21\": 1}, \"51\": {\"51\": 7, \"75\": 1, \"6\": 1, \"95\": 1, \"10\": 1, \"115\": 1}, \"72\": {\"72\": 12}, \"24\": {\"24\": 10, \"97\": 2}, \"53\": {\"53\": 12}, \"8\": {\"8\": 12}, \"49\": {\"49\": 12}, \"21\": {\"21\": 12}, \"18\": {\"18\": 12}, \"114\": {\"114\": 12}, \"58\": {\"58\": 12}, \"56\": {\"56\": 12}, \"80\": {\"80\": 12}, \"11\": {\"11\": 12}, \"15\": {\"15\": 12}, \"50\": {\"50\": 10, \"39\": 1, \"96\": 1}, \"111\": {\"111\": 12}, \"108\": {\"108\": 11, \"81\": 1}, \"104\": {\"104\": 12}, \"32\": {\"32\": 7, \"58\": 1}, \"68\": {\"68\": 12}, \"73\": {\"73\": 10}, \"92\": {\"21\": 1, \"92\": 11}, \"57\": {\"21\": 1, \"57\": 11}, \"40\": {\"40\": 12}, \"71\": {\"71\": 12}, \"121\": {\"92\": 2, \"121\": 9, \"61\": 1}, \"62\": {\"62\": 10, \"105\": 1, \"35\": 1}, \"39\": {\"39\": 12}, \"107\": {\"107\": 10}, \"109\": {\"109\": 12}, \"103\": {\"23\": 1, \"103\": 9, \"57\": 1, \"0\": 1}, \"101\": {\"101\": 12}, \"23\": {\"61\": 1, \"81\": 1, \"23\": 6, \"112\": 1, \"20\": 1, \"38\": 1, \"101\": 1}, \"60\": {\"60\": 12}, \"123\": {\"123\": 10, \"88\": 1, \"20\": 1}, \"19\": {\"19\": 11, \"46\": 1}, \"0\": {\"0\": 12}, \"31\": {\"31\": 12}, \"81\": {\"81\": 12}, \"61\": {\"61\": 12}, \"86\": {\"86\": 12}, \"94\": {\"94\": 11, \"23\": 1}, \"99\": {\"99\": 12}, \"47\": {\"47\": 12}, \"112\": {\"112\": 10, \"91\": 1, \"49\": 1}, \"87\": {\"87\": 12}, \"76\": {\"76\": 12}, \"36\": {\"36\": 12}, \"102\": {\"102\": 12}, \"44\": {\"23\": 2, \"44\": 10}, \"16\": {\"16\": 12}, \"33\": {\"33\": 12}, \"9\": {\"9\": 12}, \"30\": {\"30\": 10, \"0\": 1, \"96\": 1}, \"4\": {\"4\": 12}, \"88\": {\"88\": 11, \"108\": 1}, \"20\": {\"20\": 12}, \"3\": {\"3\": 11, \"21\": 1}, \"66\": {\"23\": 1, \"66\": 10, \"35\": 1}, \"1\": {\"1\": 10, \"63\": 1, \"123\": 1}, \"25\": {\"25\": 12}, \"77\": {\"77\": 12}, \"79\": {\"79\": 12}, \"7\": {\"7\": 12}, \"100\": {\"100\": 11, \"22\": 1}, \"126\": {\"126\": 12}, \"54\": {\"54\": 12}, \"82\": {\"82\": 9, \"49\": 1, \"79\": 1, \"2\": 1}, \"97\": {\"24\": 2, \"97\": 9, \"36\": 1}, \"105\": {\"127\": 2, \"105\": 9, \"81\": 1}, \"127\": {\"127\": 12}, \"89\": {\"89\": 11, \"23\": 1}, \"98\": {\"98\": 10}, \"46\": {\"89\": 1, \"46\": 9, \"129\": 1, \"66\": 1}, \"116\": {\"116\": 12}, \"37\": {\"37\": 12}, \"17\": {\"17\": 12}, \"90\": {\"90\": 12}, \"52\": {\"52\": 12}, \"6\": {\"6\": 12}, \"67\": {\"67\": 12}, \"5\": {\"5\": 12}, \"125\": {\"125\": 12}, \"128\": {\"128\": 12}, \"129\": {\"129\": 11, \"75\": 1}, \"75\": {\"75\": 12}, \"84\": {\"84\": 11, \"49\": 1}, \"74\": {\"74\": 12}, \"22\": {\"22\": 12}, \"10\": {\"10\": 12}, \"96\": {\"96\": 9, \"49\": 1, \"41\": 1, \"14\": 1}, \"29\": {\"29\": 12}, \"28\": {\"28\": 11, \"120\": 1}, \"45\": {\"45\": 12}, \"117\": {\"117\": 11, \"22\": 1}, \"63\": {\"63\": 12}, \"41\": {\"41\": 12}, \"12\": {\"12\": 12}, \"95\": {\"95\": 12}, \"119\": {\"119\": 12}, \"27\": {\"27\": 8}, \"2\": {\"2\": 9, \"81\": 1, \"129\": 2}, \"122\": {\"122\": 10, \"87\": 1, \"43\": 1}, \"26\": {\"26\": 12}, \"78\": {\"78\": 9, \"35\": 2, \"57\": 1}, \"93\": {\"93\": 12}, \"118\": {\"118\": 12}, \"124\": {\"124\": 12}, \"14\": {\"14\": 12}, \"48\": {\"48\": 12}, \"65\": {\"65\": 12}, \"120\": {\"120\": 12}, \"43\": {\"43\": 12}, \"106\": {\"27\": 1, \"106\": 10, \"88\": 1}, \"110\": {\"110\": 11, \"43\": 1}, \"64\": {\"64\": 12}, \"38\": {\"38\": 10}, \"115\": {\"115\": 9, \"50\": 1}, \"70\": {\"70\": 9, \"10\": 1}, \"59\": {\"59\": 10}, \"91\": {\"91\": 9, \"83\": 1}}, \"W_A_2\": {\"115\": {\"115\": 11, \"24\": 1}, \"34\": {\"34\": 10}, \"97\": {\"97\": 12}, \"100\": {\"100\": 11, \"64\": 1}, \"129\": {\"129\": 10}, \"90\": {\"90\": 12}, \"125\": {\"125\": 12}, \"7\": {\"7\": 12}, \"92\": {\"92\": 12}, \"114\": {\"114\": 9, \"69\": 1, \"13\": 1, \"51\": 1}, \"80\": {\"80\": 12}, \"16\": {\"16\": 11, \"32\": 1}, \"69\": {\"69\": 9, \"115\": 1, \"14\": 2}, \"102\": {\"102\": 12}, \"33\": {\"33\": 12}, \"17\": {\"17\": 9, \"21\": 1, \"95\": 1, \"61\": 1}, \"61\": {\"61\": 10, \"116\": 2}, \"48\": {\"48\": 12}, \"91\": {\"91\": 12}, \"84\": {\"84\": 12}, \"50\": {\"50\": 10, \"64\": 1, \"24\": 1}, \"2\": {\"2\": 9, \"80\": 2, \"112\": 1}, \"46\": {\"46\": 12}, \"56\": {\"56\": 12}, \"86\": {\"86\": 12}, \"11\": {\"11\": 11, \"94\": 1}, \"118\": {\"118\": 11, \"107\": 1}, \"79\": {\"79\": 12}, \"22\": {\"22\": 11, \"57\": 1}, \"109\": {\"109\": 11, \"78\": 1}, \"62\": {\"62\": 11, \"21\": 1}, \"8\": {\"8\": 12}, \"24\": {\"24\": 11, \"82\": 1}, \"10\": {\"10\": 12}, \"87\": {\"87\": 10, \"64\": 1, \"51\": 1}, \"4\": {\"4\": 12}, \"105\": {\"105\": 12}, \"20\": {\"20\": 12}, \"28\": {\"28\": 12}, \"27\": {\"24\": 1, \"36\": 1, \"27\": 10}, \"89\": {\"89\": 12}, \"36\": {\"36\": 10, \"37\": 1, \"45\": 1}, \"45\": {\"20\": 1, \"45\": 10, \"77\": 1}, \"31\": {\"31\": 11, \"102\": 1}, \"110\": {\"110\": 11, \"108\": 1}, \"3\": {\"3\": 8}, \"107\": {\"107\": 12}, \"117\": {\"117\": 12}, \"21\": {\"21\": 11, \"81\": 1}, \"66\": {\"66\": 11, \"18\": 1}, \"82\": {\"82\": 8}, \"99\": {\"99\": 11, \"18\": 1}, \"81\": {\"81\": 12}, \"42\": {\"42\": 11, \"27\": 1}, \"26\": {\"26\": 12}, \"64\": {\"64\": 12}, \"74\": {\"74\": 12}, \"119\": {\"119\": 11, \"116\": 1}, \"71\": {\"71\": 12}, \"93\": {\"93\": 11, \"16\": 1}, \"18\": {\"18\": 11, \"88\": 1}, \"30\": {\"30\": 12}, \"96\": {\"96\": 12}, \"25\": {\"25\": 12}, \"88\": {\"88\": 9, \"85\": 1}, \"103\": {\"103\": 12}, \"116\": {\"116\": 12}, \"67\": {\"67\": 10, \"61\": 1, \"113\": 1}, \"1\": {\"1\": 12}, \"101\": {\"101\": 12}, \"23\": {\"23\": 10, \"96\": 1, \"0\": 1}, \"57\": {\"57\": 12}, \"83\": {\"83\": 12}, \"122\": {\"122\": 12}, \"127\": {\"127\": 12}, \"108\": {\"108\": 12}, \"124\": {\"124\": 12}, \"112\": {\"112\": 12}, \"70\": {\"70\": 12}, \"14\": {\"14\": 11, \"69\": 1}, \"53\": {\"53\": 12}, \"121\": {\"121\": 11, \"41\": 1}, \"40\": {\"40\": 11, \"88\": 1}, \"15\": {\"15\": 12}, \"37\": {\"37\": 12}, \"73\": {\"73\": 11, \"45\": 1}, \"52\": {\"52\": 10, \"18\": 1, \"100\": 1}, \"123\": {\"123\": 12}, \"44\": {\"44\": 12}, \"111\": {\"111\": 12}, \"43\": {\"43\": 10, \"88\": 1, \"122\": 1}, \"19\": {\"19\": 12}, \"38\": {\"38\": 11, \"77\": 1}, \"39\": {\"39\": 11, \"70\": 1}, \"59\": {\"59\": 12}, \"6\": {\"6\": 12}, \"47\": {\"73\": 1, \"47\": 8, \"59\": 1, \"13\": 1, \"128\": 1}, \"58\": {\"58\": 12}, \"51\": {\"51\": 9, \"116\": 2, \"9\": 1}, \"60\": {\"60\": 12}, \"12\": {\"12\": 12}, \"98\": {\"98\": 12}, \"0\": {\"0\": 12}, \"128\": {\"128\": 12}, \"29\": {\"29\": 10, \"39\": 1, \"109\": 1}, \"13\": {\"13\": 12}, \"72\": {\"72\": 9, \"37\": 1, \"18\": 1, \"91\": 1}, \"104\": {\"104\": 12}, \"5\": {\"5\": 12}, \"49\": {\"49\": 12}, \"77\": {\"77\": 12}, \"106\": {\"106\": 12}, \"120\": {\"120\": 12}, \"41\": {\"41\": 12}, \"55\": {\"55\": 12}, \"113\": {\"113\": 12}, \"68\": {\"68\": 12}, \"9\": {\"9\": 12}, \"95\": {\"95\": 11, \"9\": 1}, \"63\": {\"63\": 10, \"37\": 1, \"65\": 1}, \"85\": {\"85\": 12}, \"65\": {\"65\": 10, \"58\": 1, \"91\": 1}, \"126\": {\"126\": 12}, \"78\": {\"78\": 11, \"126\": 1}, \"32\": {\"32\": 12}, \"35\": {\"35\": 12}, \"54\": {\"35\": 1, \"54\": 11}, \"76\": {\"76\": 10}, \"94\": {\"94\": 9, \"51\": 1}, \"75\": {\"75\": 5, \"0\": 1}}, \"W_A_1\": {\"0\": {\"0\": 12}, \"93\": {\"93\": 12}, \"18\": {\"18\": 12}, \"111\": {\"111\": 12}, \"108\": {\"108\": 12}, \"8\": {\"8\": 11, \"23\": 1}, \"64\": {\"64\": 12}, \"83\": {\"83\": 11, \"128\": 1}, \"32\": {\"32\": 12}, \"69\": {\"69\": 10}, \"7\": {\"7\": 10}, \"70\": {\"70\": 12}, \"88\": {\"88\": 12}, \"107\": {\"107\": 10}, \"60\": {\"60\": 9, \"105\": 1, \"23\": 2}, \"85\": {\"85\": 12}, \"91\": {\"91\": 12}, \"109\": {\"109\": 12}, \"105\": {\"105\": 11, \"40\": 1}, \"129\": {\"5\": 1, \"129\": 11}, \"92\": {\"92\": 12}, \"9\": {\"9\": 12}, \"103\": {\"103\": 12}, \"14\": {\"14\": 10, \"13\": 1, \"28\": 1}, \"115\": {\"115\": 10, \"129\": 1, \"123\": 1}, \"5\": {\"5\": 10, \"57\": 1, \"65\": 1}, \"84\": {\"84\": 12}, \"49\": {\"49\": 12}, \"87\": {\"87\": 11, \"21\": 1}, \"42\": {\"42\": 12}, \"2\": {\"2\": 12}, \"20\": {\"20\": 12}, \"75\": {\"75\": 12}, \"59\": {\"42\": 1, \"59\": 8, \"63\": 1}, \"22\": {\"22\": 12}, \"38\": {\"38\": 12}, \"63\": {\"63\": 12}, \"101\": {\"101\": 12}, \"15\": {\"15\": 12}, \"53\": {\"53\": 12}, \"110\": {\"110\": 12}, \"78\": {\"78\": 12}, \"10\": {\"10\": 12}, \"55\": {\"55\": 12}, \"94\": {\"94\": 9, \"27\": 1, \"30\": 1, \"42\": 1}, \"39\": {\"39\": 12}, \"58\": {\"58\": 8, \"37\": 1, \"111\": 1, \"79\": 1, \"68\": 1}, \"40\": {\"40\": 10, \"105\": 2}, \"46\": {\"46\": 12}, \"35\": {\"35\": 12}, \"68\": {\"68\": 12}, \"114\": {\"114\": 12}, \"56\": {\"56\": 11, \"75\": 1}, \"37\": {\"37\": 12}, \"57\": {\"57\": 12}, \"43\": {\"43\": 8}, \"82\": {\"82\": 12}, \"30\": {\"30\": 12}, \"31\": {\"31\": 12}, \"12\": {\"12\": 12}, \"89\": {\"89\": 12}, \"21\": {\"21\": 12}, \"116\": {\"116\": 12}, \"34\": {\"34\": 12}, \"73\": {\"73\": 10}, \"102\": {\"102\": 11, \"65\": 1}, \"26\": {\"26\": 12}, \"121\": {\"121\": 12}, \"72\": {\"72\": 12}, \"61\": {\"61\": 12}, \"90\": {\"90\": 12}, \"86\": {\"86\": 12}, \"23\": {\"23\": 12}, \"28\": {\"28\": 12}, \"54\": {\"54\": 12}, \"29\": {\"29\": 12}, \"66\": {\"66\": 10}, \"127\": {\"127\": 12}, \"24\": {\"24\": 12}, \"47\": {\"47\": 12}, \"19\": {\"47\": 2, \"19\": 10}, \"106\": {\"106\": 12}, \"45\": {\"45\": 10, \"104\": 1, \"115\": 1}, \"117\": {\"117\": 12}, \"25\": {\"25\": 12}, \"118\": {\"118\": 12}, \"6\": {\"6\": 12}, \"3\": {\"3\": 12}, \"11\": {\"11\": 12}, \"33\": {\"33\": 12}, \"81\": {\"81\": 12}, \"125\": {\"125\": 12}, \"98\": {\"98\": 12}, \"65\": {\"65\": 11, \"60\": 1}, \"119\": {\"119\": 12}, \"128\": {\"128\": 12}, \"71\": {\"71\": 7, \"63\": 1}, \"123\": {\"123\": 8}, \"4\": {\"4\": 12}, \"41\": {\"41\": 12}, \"67\": {\"67\": 12}, \"95\": {\"95\": 12}, \"100\": {\"100\": 12}, \"17\": {\"17\": 11, \"55\": 1}, \"113\": {\"113\": 12}, \"122\": {\"122\": 12}, \"27\": {\"27\": 12}, \"79\": {\"79\": 12}, \"16\": {\"16\": 12}, \"112\": {\"112\": 10, \"41\": 1, \"24\": 1}, \"1\": {\"1\": 12}, \"124\": {\"124\": 12}, \"36\": {\"36\": 8}, \"76\": {\"76\": 12}, \"96\": {\"96\": 12}, \"80\": {\"80\": 12}, \"74\": {\"74\": 11, \"37\": 1}, \"99\": {\"99\": 12}, \"51\": {\"51\": 12}, \"126\": {\"126\": 10}, \"104\": {\"104\": 9, \"82\": 1}, \"97\": {\"97\": 10, \"27\": 2}, \"50\": {\"50\": 12}, \"52\": {\"52\": 12}, \"48\": {\"48\": 12}, \"77\": {\"77\": 8}, \"120\": {\"120\": 8}, \"44\": {\"44\": 8}, \"13\": {\"13\": 6}, \"62\": {\"62\": 6}}, \"C_A_1\": {\"57\": {\"57\": 12}, \"24\": {\"24\": 12}, \"22\": {\"22\": 12}, \"17\": {\"17\": 12}, \"39\": {\"39\": 12}, \"12\": {\"12\": 12}, \"14\": {\"14\": 12}, \"35\": {\"35\": 12}, \"46\": {\"46\": 12}, \"27\": {\"27\": 12}, \"19\": {\"19\": 12}, \"10\": {\"10\": 12}, \"11\": {\"11\": 12}, \"18\": {\"18\": 8}, \"6\": {\"6\": 12}, \"30\": {\"30\": 12}, \"45\": {\"45\": 12}, \"8\": {\"8\": 12}, \"9\": {\"9\": 12}, \"33\": {\"33\": 10}, \"56\": {\"56\": 12}, \"52\": {\"52\": 12}, \"53\": {\"53\": 12}, \"41\": {\"41\": 12}, \"32\": {\"32\": 12}, \"7\": {\"7\": 8}, \"3\": {\"3\": 10}, \"49\": {\"49\": 10}, \"54\": {\"54\": 12}, \"44\": {\"44\": 10}, \"28\": {\"28\": 10}, \"51\": {\"51\": 12}, \"21\": {\"21\": 10}, \"4\": {\"4\": 6}, \"43\": {\"43\": 12}, \"47\": {\"47\": 10}, \"23\": {\"23\": 12}, \"36\": {\"36\": 12}, \"48\": {\"48\": 12}, \"29\": {\"29\": 10}, \"31\": {\"31\": 12}, \"20\": {\"20\": 12}, \"5\": {\"5\": 10}, \"50\": {\"50\": 8}, \"38\": {\"38\": 10}, \"1\": {\"1\": 10}, \"37\": {\"37\": 12}, \"25\": {\"25\": 12}, \"26\": {\"26\": 12}, \"34\": {\"34\": 12}, \"55\": {\"55\": 10}, \"16\": {\"16\": 12}, \"42\": {\"42\": 10}, \"40\": {\"40\": 10}, \"15\": {\"15\": 8}, \"2\": {\"2\": 10}, \"0\": {\"0\": 10}, \"13\": {\"13\": 10}}, \"C_A_3\": {\"20\": {\"20\": 10}, \"24\": {\"24\": 12}, \"6\": {\"6\": 12}, \"10\": {\"10\": 10}, \"52\": {\"52\": 12}, \"46\": {\"46\": 12}, \"35\": {\"35\": 12}, \"15\": {\"15\": 12}, \"5\": {\"5\": 12}, \"53\": {\"53\": 10}, \"37\": {\"37\": 12}, \"1\": {\"1\": 12}, \"3\": {\"3\": 12}, \"33\": {\"33\": 12}, \"0\": {\"0\": 12}, \"56\": {\"56\": 12}, \"45\": {\"45\": 12}, \"9\": {\"9\": 11, \"29\": 1}, \"43\": {\"43\": 12}, \"57\": {\"57\": 12}, \"54\": {\"54\": 12}, \"48\": {\"48\": 10}, \"38\": {\"38\": 12}, \"29\": {\"29\": 10}, \"47\": {\"47\": 12}, \"19\": {\"19\": 12}, \"17\": {\"17\": 12}, \"27\": {\"27\": 10}, \"42\": {\"42\": 10}, \"44\": {\"44\": 10}, \"49\": {\"49\": 12}, \"4\": {\"4\": 12}, \"41\": {\"41\": 12}, \"8\": {\"8\": 10}, \"13\": {\"13\": 12}, \"55\": {\"55\": 10}, \"7\": {\"7\": 10}, \"14\": {\"14\": 12}, \"26\": {\"26\": 12}, \"30\": {\"30\": 12}, \"34\": {\"34\": 10}, \"11\": {\"11\": 8}, \"40\": {\"40\": 10}, \"2\": {\"2\": 10}, \"51\": {\"51\": 12}, \"16\": {\"16\": 10}, \"36\": {\"36\": 10}, \"31\": {\"31\": 8}, \"21\": {\"21\": 12}, \"12\": {\"12\": 12}, \"22\": {\"22\": 12}, \"18\": {\"18\": 12}, \"32\": {\"32\": 12}, \"50\": {\"50\": 9, \"46\": 1}, \"25\": {\"25\": 8}, \"39\": {\"39\": 10}, \"28\": {\"28\": 10}, \"23\": {\"23\": 6}}, \"ORACLE.run1_14\": {\"15\": {\"15\": 240}, \"5\": {\"8\": 39, \"5\": 81, \"13\": 4, \"2\": 34, \"14\": 15, \"0\": 40, \"4\": 14, \"12\": 4, \"7\": 9}, \"7\": {\"7\": 108, \"13\": 11, \"6\": 3, \"0\": 30, \"2\": 23, \"3\": 31, \"14\": 24, \"5\": 9, \"8\": 1}, \"4\": {\"10\": 42, \"4\": 130, \"8\": 22, \"5\": 8, \"2\": 4, \"12\": 33, \"0\": 1}, \"10\": {\"10\": 168, \"12\": 7, \"4\": 58, \"9\": 5, \"1\": 2}, \"11\": {\"11\": 239, \"1\": 1}, \"12\": {\"10\": 12, \"12\": 160, \"4\": 25, \"8\": 33, \"5\": 8, \"2\": 1, \"0\": 1}, \"0\": {\"5\": 23, \"0\": 33, \"3\": 41, \"7\": 26, \"8\": 12, \"2\": 36, \"14\": 35, \"13\": 6, \"4\": 13, \"12\": 8, \"6\": 7}, \"14\": {\"14\": 63, \"2\": 38, \"3\": 37, \"5\": 13, \"0\": 43, \"7\": 22, \"13\": 18, \"6\": 6}, \"8\": {\"8\": 128, \"5\": 40, \"12\": 48, \"4\": 12, \"0\": 7, \"2\": 2, \"10\": 1, \"7\": 2}, \"13\": {\"6\": 73, \"13\": 55, \"14\": 30, \"7\": 17, \"0\": 12, \"3\": 17, \"5\": 11, \"15\": 14, \"12\": 1, \"2\": 7, \"8\": 2, \"4\": 1}, \"6\": {\"6\": 112, \"3\": 35, \"13\": 69, \"14\": 11, \"0\": 3, \"7\": 4, \"2\": 5, \"5\": 1}, \"1\": {\"1\": 145, \"9\": 94, \"10\": 1}, \"3\": {\"0\": 27, \"3\": 94, \"2\": 8, \"6\": 18, \"14\": 39, \"13\": 27, \"7\": 26, \"5\": 1}, \"9\": {\"9\": 132, \"1\": 103, \"10\": 5}, \"2\": {\"13\": 8, \"6\": 24, \"5\": 54, \"12\": 9, \"4\": 19, \"7\": 15, \"2\": 24, \"14\": 22, \"3\": 28, \"8\": 11, \"0\": 25, \"10\": 1}}, \"ORACLE.run1_20\": {\"4\": {\"13\": 12, \"6\": 27, \"12\": 35, \"4\": 65, \"10\": 29, \"9\": 7, \"7\": 14, \"2\": 23, \"15\": 24, \"1\": 2, \"5\": 1, \"3\": 1}, \"10\": {\"10\": 138, \"4\": 38, \"12\": 14, \"13\": 38, \"2\": 7, \"15\": 3, \"6\": 2}, \"15\": {\"9\": 12, \"7\": 27, \"12\": 38, \"2\": 47, \"1\": 17, \"13\": 19, \"4\": 17, \"15\": 42, \"6\": 12, \"5\": 4, \"10\": 5}, \"0\": {\"11\": 72, \"14\": 8, \"0\": 129, \"8\": 28, \"3\": 3}, \"6\": {\"6\": 47, \"4\": 29, \"2\": 26, \"7\": 50, \"5\": 8, \"9\": 28, \"1\": 24, \"3\": 5, \"12\": 13, \"15\": 9, \"14\": 1}, \"3\": {\"6\": 9, \"9\": 21, \"8\": 37, \"3\": 54, \"5\": 47, \"1\": 30, \"14\": 33, \"0\": 4, \"7\": 4, \"15\": 1}, \"7\": {\"6\": 27, \"7\": 32, \"4\": 17, \"2\": 25, \"15\": 34, \"12\": 14, \"5\": 16, \"9\": 40, \"1\": 28, \"3\": 4, \"14\": 3}, \"2\": {\"4\": 26, \"13\": 11, \"2\": 42, \"12\": 54, \"6\": 18, \"1\": 5, \"5\": 2, \"7\": 30, \"15\": 42, \"10\": 2, \"9\": 6, \"3\": 2}, \"8\": {\"8\": 80, \"3\": 47, \"14\": 63, \"0\": 23, \"5\": 22, \"9\": 5}, \"11\": {\"0\": 75, \"11\": 165}, \"14\": {\"3\": 52, \"14\": 66, \"5\": 29, \"8\": 75, \"0\": 8, \"9\": 4, \"1\": 3, \"7\": 2, \"6\": 1}, \"12\": {\"6\": 14, \"12\": 49, \"4\": 38, \"13\": 18, \"2\": 46, \"9\": 7, \"15\": 36, \"7\": 24, \"1\": 4, \"10\": 3, \"3\": 1}, \"13\": {\"13\": 114, \"15\": 14, \"10\": 39, \"4\": 14, \"12\": 38, \"2\": 20, \"7\": 1}, \"9\": {\"1\": 49, \"7\": 26, \"12\": 8, \"15\": 10, \"6\": 22, \"3\": 20, \"9\": 44, \"5\": 41, \"8\": 6, \"2\": 9, \"14\": 3, \"4\": 2}, \"5\": {\"5\": 57, \"1\": 35, \"3\": 48, \"6\": 5, \"9\": 34, \"14\": 19, \"8\": 19, \"7\": 17, \"4\": 1, \"15\": 4, \"12\": 1}, \"1\": {\"5\": 44, \"15\": 14, \"1\": 50, \"3\": 24, \"12\": 7, \"9\": 40, \"2\": 8, \"14\": 2, \"7\": 31, \"6\": 16, \"4\": 2, \"8\": 2}}, \"ORACLE.run1_50\": {\"5\": {\"15\": 45, \"5\": 47, \"7\": 51, \"4\": 29, \"6\": 24, \"13\": 10, \"9\": 9, \"12\": 4, \"3\": 7, \"11\": 14}, \"12\": {\"9\": 25, \"3\": 16, \"5\": 5, \"11\": 59, \"6\": 11, \"12\": 111, \"13\": 7, \"15\": 6}, \"14\": {\"14\": 110, \"2\": 98, \"0\": 32}, \"4\": {\"4\": 97, \"7\": 105, \"15\": 8, \"5\": 27, \"9\": 2, \"6\": 1}, \"13\": {\"1\": 37, \"13\": 174, \"11\": 15, \"5\": 2, \"3\": 3, \"12\": 9}, \"10\": {\"8\": 42, \"10\": 170, \"0\": 25, \"2\": 1, \"1\": 2}, \"9\": {\"12\": 21, \"15\": 65, \"9\": 69, \"6\": 39, \"3\": 10, \"11\": 15, \"5\": 21}, \"15\": {\"15\": 78, \"5\": 33, \"9\": 47, \"6\": 66, \"3\": 7, \"11\": 5, \"12\": 2, \"7\": 2}, \"6\": {\"5\": 24, \"15\": 56, \"9\": 40, \"6\": 71, \"3\": 33, \"12\": 6, \"11\": 9, \"7\": 1}, \"2\": {\"2\": 117, \"14\": 78, \"0\": 45}, \"0\": {\"0\": 146, \"10\": 16, \"2\": 34, \"14\": 44}, \"11\": {\"11\": 98, \"3\": 19, \"12\": 72, \"6\": 18, \"9\": 21, \"5\": 3, \"15\": 4, \"13\": 5}, \"3\": {\"3\": 132, \"6\": 28, \"9\": 13, \"5\": 11, \"11\": 17, \"15\": 10, \"12\": 20, \"13\": 9}, \"8\": {\"8\": 156, \"10\": 49, \"1\": 35}, \"7\": {\"4\": 90, \"7\": 122, \"5\": 26, \"15\": 2}, \"1\": {\"1\": 144, \"8\": 30, \"10\": 18, \"13\": 47, \"11\": 1}}, \"ORACLE.run1_26\": {\"7\": {\"7\": 53, \"3\": 35, \"8\": 58, \"9\": 41, \"2\": 34, \"12\": 16, \"0\": 3}, \"6\": {\"5\": 51, \"10\": 26, \"14\": 31, \"15\": 47, \"6\": 44, \"1\": 19, \"11\": 18, \"0\": 4}, \"14\": {\"6\": 45, \"15\": 34, \"0\": 28, \"10\": 48, \"14\": 55, \"5\": 16, \"1\": 12, \"11\": 2}, \"15\": {\"10\": 44, \"15\": 53, \"6\": 41, \"11\": 6, \"5\": 36, \"0\": 16, \"14\": 36, \"1\": 8}, \"5\": {\"11\": 32, \"15\": 36, \"5\": 87, \"1\": 21, \"6\": 44, \"14\": 8, \"10\": 10, \"0\": 2}, \"10\": {\"10\": 71, \"15\": 36, \"14\": 52, \"0\": 41, \"6\": 17, \"11\": 2, \"5\": 15, \"1\": 5, \"2\": 1}, \"4\": {\"4\": 188, \"13\": 50, \"9\": 1, \"3\": 1}, \"11\": {\"11\": 101, \"6\": 23, \"5\": 55, \"1\": 25, \"10\": 9, \"15\": 20, \"14\": 7}, \"13\": {\"13\": 105, \"4\": 46, \"9\": 22, \"3\": 36, \"12\": 20, \"7\": 4, \"2\": 3, \"8\": 4}, \"2\": {\"3\": 16, \"9\": 29, \"7\": 43, \"13\": 3, \"8\": 49, \"0\": 23, \"2\": 61, \"12\": 7, \"14\": 1, \"10\": 5, \"15\": 3}, \"0\": {\"10\": 54, \"15\": 14, \"0\": 112, \"14\": 19, \"8\": 9, \"2\": 16, \"5\": 4, \"6\": 6, \"1\": 1, \"7\": 3, \"9\": 2}, \"12\": {\"2\": 12, \"9\": 52, \"12\": 77, \"8\": 18, \"13\": 15, \"3\": 47, \"7\": 19}, \"3\": {\"3\": 77, \"9\": 52, \"13\": 27, \"12\": 36, \"2\": 9, \"8\": 10, \"7\": 25, \"4\": 4}, \"9\": {\"9\": 46, \"12\": 24, \"2\": 37, \"3\": 51, \"13\": 13, \"7\": 29, \"8\": 33, \"0\": 5, \"4\": 2}, \"8\": {\"2\": 54, \"8\": 76, \"7\": 49, \"12\": 21, \"3\": 16, \"9\": 21, \"0\": 2, \"13\": 1}, \"1\": {\"6\": 31, \"10\": 9, \"1\": 128, \"5\": 19, \"11\": 22, \"15\": 15, \"14\": 15, \"0\": 1}}, \"ORACLE.run1_32\": {\"7\": {\"8\": 38, \"14\": 32, \"7\": 67, \"5\": 46, \"0\": 57}, \"2\": {\"2\": 112, \"4\": 61, \"1\": 13, \"3\": 38, \"14\": 8, \"13\": 6, \"8\": 2}, \"5\": {\"5\": 87, \"7\": 53, \"14\": 14, \"0\": 31, \"8\": 32, \"15\": 23}, \"6\": {\"6\": 240}, \"13\": {\"4\": 36, \"13\": 126, \"9\": 8, \"11\": 11, \"3\": 42, \"2\": 16, \"1\": 1}, \"4\": {\"2\": 82, \"4\": 79, \"3\": 48, \"13\": 28, \"14\": 1, \"1\": 2}, \"3\": {\"4\": 72, \"3\": 96, \"13\": 45, \"2\": 26, \"14\": 1}, \"0\": {\"0\": 63, \"8\": 47, \"5\": 35, \"14\": 38, \"7\": 57}, \"9\": {\"11\": 24, \"9\": 135, \"12\": 44, \"13\": 25, \"1\": 7, \"10\": 2, \"4\": 3}, \"12\": {\"12\": 179, \"10\": 30, \"9\": 25, \"11\": 6}, \"8\": {\"0\": 55, \"8\": 66, \"5\": 29, \"14\": 43, \"7\": 37, \"3\": 4, \"2\": 5, \"4\": 1}, \"14\": {\"7\": 42, \"2\": 16, \"0\": 47, \"8\": 37, \"14\": 72, \"5\": 14, \"4\": 7, \"3\": 5}, \"15\": {\"5\": 24, \"15\": 212, \"7\": 3, \"8\": 1}, \"11\": {\"11\": 193, \"9\": 27, \"13\": 14, \"12\": 5, \"3\": 1}, \"10\": {\"10\": 214, \"12\": 26}, \"1\": {\"1\": 227, \"2\": 7, \"13\": 3, \"4\": 3}}, \"ORACLE.run1_44\": {\"11\": {\"11\": 240}, \"7\": {\"7\": 98, \"9\": 50, \"4\": 23, \"10\": 63, \"5\": 2, \"6\": 1, \"14\": 3}, \"6\": {\"13\": 82, \"6\": 135, \"9\": 20, \"7\": 3}, \"12\": {\"12\": 132, \"3\": 105, \"0\": 3}, \"4\": {\"2\": 30, \"10\": 19, \"9\": 27, \"4\": 46, \"7\": 38, \"15\": 21, \"14\": 30, \"1\": 8, \"5\": 19, \"8\": 2}, \"13\": {\"6\": 79, \"13\": 147, \"9\": 13, \"11\": 1}, \"8\": {\"0\": 67, \"15\": 51, \"5\": 7, \"8\": 104, \"4\": 2, \"1\": 5, \"14\": 2, \"2\": 1, \"3\": 1}, \"5\": {\"4\": 41, \"14\": 63, \"5\": 75, \"2\": 12, \"10\": 4, \"8\": 2, \"7\": 1, \"15\": 32, \"1\": 6, \"9\": 4}, \"14\": {\"14\": 78, \"5\": 70, \"7\": 7, \"15\": 9, \"4\": 38, \"10\": 14, \"2\": 21, \"9\": 2, \"1\": 1}, \"3\": {\"3\": 112, \"12\": 122, \"0\": 6}, \"10\": {\"10\": 90, \"7\": 68, \"4\": 24, \"2\": 8, \"9\": 35, \"1\": 5, \"15\": 2, \"14\": 6, \"5\": 1, \"8\": 1}, \"1\": {\"1\": 149, \"14\": 3, \"2\": 38, \"15\": 33, \"8\": 7, \"4\": 4, \"0\": 4, \"10\": 1, \"5\": 1}, \"2\": {\"1\": 27, \"4\": 20, \"2\": 123, \"5\": 17, \"10\": 12, \"14\": 27, \"15\": 14}, \"15\": {\"15\": 84, \"1\": 32, \"8\": 28, \"4\": 8, \"0\": 3, \"5\": 46, \"2\": 13, \"14\": 26}, \"9\": {\"10\": 34, \"14\": 7, \"13\": 30, \"6\": 35, \"7\": 53, \"9\": 49, \"4\": 21, \"2\": 6, \"5\": 5}, \"0\": {\"0\": 172, \"8\": 55, \"3\": 9, \"1\": 1, \"12\": 2, \"15\": 1}}, \"ORACLE.run1_8\": {\"10\": {\"1\": 15, \"5\": 44, \"13\": 40, \"7\": 44, \"6\": 43, \"10\": 45, \"11\": 9}, \"6\": {\"1\": 49, \"6\": 80, \"7\": 35, \"10\": 30, \"4\": 4, \"13\": 5, \"11\": 25, \"5\": 12}, \"13\": {\"10\": 44, \"7\": 36, \"5\": 62, \"13\": 82, \"1\": 6, \"6\": 10}, \"3\": {\"3\": 214, \"9\": 24, \"2\": 2}, \"9\": {\"9\": 215, \"3\": 25}, \"1\": {\"13\": 13, \"7\": 29, \"6\": 36, \"5\": 25, \"11\": 48, \"8\": 11, \"10\": 19, \"1\": 56, \"4\": 3}, \"5\": {\"13\": 72, \"1\": 20, \"8\": 2, \"7\": 30, \"10\": 40, \"5\": 42, \"11\": 12, \"6\": 14, \"4\": 4, \"12\": 4}, \"11\": {\"4\": 36, \"5\": 6, \"1\": 38, \"7\": 19, \"11\": 44, \"8\": 39, \"6\": 39, \"14\": 11, \"10\": 8}, \"4\": {\"8\": 48, \"4\": 125, \"1\": 2, \"11\": 29, \"14\": 25, \"6\": 9, \"5\": 1, \"10\": 1}, \"14\": {\"14\": 186, \"4\": 41, \"8\": 10, \"11\": 3}, \"12\": {\"12\": 152, \"15\": 77, \"2\": 11}, \"7\": {\"5\": 25, \"7\": 73, \"6\": 41, \"13\": 29, \"10\": 47, \"1\": 17, \"11\": 7, \"12\": 1}, \"0\": {\"0\": 240}, \"15\": {\"15\": 112, \"12\": 84, \"2\": 44}, \"2\": {\"2\": 119, \"15\": 52, \"3\": 30, \"12\": 38, \"9\": 1}, \"8\": {\"8\": 94, \"14\": 9, \"11\": 66, \"4\": 45, \"1\": 16, \"6\": 8, \"5\": 1, \"7\": 1}}, \"ORACLE.run1_38\": {\"4\": {\"4\": 173, \"10\": 46, \"0\": 18, \"3\": 1, \"13\": 2}, \"7\": {\"2\": 29, \"7\": 131, \"14\": 56, \"13\": 13, \"0\": 5, \"9\": 3, \"5\": 1, \"8\": 2}, \"12\": {\"12\": 166, \"5\": 33, \"8\": 30, \"9\": 5, \"7\": 2, \"14\": 1, \"15\": 3}, \"10\": {\"0\": 51, \"4\": 39, \"10\": 133, \"13\": 9, \"3\": 7, \"14\": 1}, \"0\": {\"13\": 50, \"4\": 19, \"14\": 19, \"7\": 18, \"3\": 16, \"10\": 64, \"0\": 54}, \"1\": {\"1\": 141, \"6\": 99}, \"5\": {\"9\": 52, \"2\": 15, \"15\": 21, \"5\": 49, \"12\": 22, \"7\": 10, \"8\": 69, \"14\": 2}, \"15\": {\"5\": 19, \"15\": 188, \"8\": 17, \"6\": 12, \"9\": 1, \"12\": 2, \"1\": 1}, \"9\": {\"9\": 111, \"8\": 39, \"5\": 51, \"2\": 29, \"7\": 9, \"12\": 1}, \"11\": {\"11\": 240}, \"14\": {\"14\": 106, \"7\": 52, \"2\": 39, \"13\": 35, \"0\": 6, \"5\": 1, \"12\": 1}, \"6\": {\"1\": 86, \"6\": 154}, \"8\": {\"2\": 35, \"9\": 27, \"5\": 62, \"8\": 55, \"15\": 14, \"12\": 24, \"7\": 19, \"14\": 4}, \"3\": {\"3\": 236, \"10\": 3, \"11\": 1}, \"2\": {\"2\": 137, \"8\": 11, \"7\": 37, \"14\": 29, \"9\": 14, \"13\": 2, \"5\": 9, \"12\": 1}, \"13\": {\"13\": 140, \"0\": 57, \"14\": 22, \"4\": 2, \"7\": 10, \"10\": 9}}}, \"per_domain_accuracy\": {\"C_A_4\": {\"accuracy\": 0.996875, \"source?\": true}, \"W_A_3\": {\"accuracy\": 0.9765625, \"source?\": true}, \"C_A_5\": {\"accuracy\": 0.9828125, \"source?\": true}, \"C_A_2\": {\"accuracy\": 0.996875, \"source?\": true}, \"W_A_4\": {\"accuracy\": 0.947265625, \"source?\": true}, \"W_A_2\": {\"accuracy\": 0.94921875, \"source?\": true}, \"W_A_1\": {\"accuracy\": 0.973404255319149, \"source?\": true}, \"C_A_1\": {\"accuracy\": 1.0, \"source?\": true}, \"C_A_3\": {\"accuracy\": 0.996875, \"source?\": true}, \"ORACLE.run1_14\": {\"accuracy\": 0.4979166666666667, \"source?\": false}, \"ORACLE.run1_20\": {\"accuracy\": 0.30572916666666666, \"source?\": false}, \"ORACLE.run1_50\": {\"accuracy\": 0.4796875, \"source?\": false}, \"ORACLE.run1_26\": {\"accuracy\": 0.34739583333333335, \"source?\": false}, \"ORACLE.run1_32\": {\"accuracy\": 0.5645833333333333, \"source?\": false}, \"ORACLE.run1_44\": {\"accuracy\": 0.47760416666666666, \"source?\": false}, \"ORACLE.run1_8\": {\"accuracy\": 0.48932291666666666, \"source?\": false}, \"ORACLE.run1_38\": {\"accuracy\": 0.5765625, \"source?\": false}}}, \"history\": {\"epoch_indices\": [1, 2, 3, 4, 5, 6, 7, 8], \"train_label_loss\": [0.3139900877578139, 0.19075003092738088, 0.14975630854749816, 0.1247740685226535, 0.11139830178027603, 0.1021679793780158, 0.08914323418593033, 0.08211384208730227], \"source_val_label_loss\": [0.23300936818122864, 0.15342386066913605, 0.12562571465969086, 0.11915282905101776, 0.12159789353609085, 0.10353291034698486, 0.10466469079256058, 0.10300935804843903], \"target_val_label_loss\": [2.4743847846984863, 2.354893445968628, 2.334442615509033, 2.1668519973754883, 2.241651773452759, 2.212266445159912, 2.244877815246582, 2.191912889480591], \"source_val_acc_label\": [0.9514604810996563, 0.9655283505154639, 0.9711125429553265, 0.9729381443298969, 0.9736898625429553, 0.9764819587628866, 0.977233676975945, 0.9768041237113402], \"target_val_acc_label\": [0.561328125, 0.5441731770833333, 0.5312825520833333, 0.46735026041666666, 0.41139322916666665, 0.38968098958333336, 0.34036458333333336, 0.32278645833333336]}, \"dataset_metrics\": {\"source\": {\"train\": {\"n_unique_x\": 56700, \"n_unique_y\": 130, \"n_batch/episode\": 2081}, \"val\": {\"n_unique_x\": 12121, \"n_unique_y\": 130, \"n_batch/episode\": 291}, \"test\": {\"n_unique_x\": 12121, \"n_unique_y\": 130, \"n_batch/episode\": 291}}, \"target\": {\"train\": {\"n_unique_x\": 179200, \"n_unique_y\": 16, \"n_batch/episode\": 6720}, \"val\": {\"n_unique_x\": 38400, \"n_unique_y\": 16, \"n_batch/episode\": 960}, \"test\": {\"n_unique_x\": 38400, \"n_unique_y\": 16, \"n_batch/episode\": 960}}}}'"
      ]
     },
     "execution_count": 29,
     "metadata": {},
     "output_type": "execute_result"
    }
   ],
   "source": [
    "json.dumps(experiment)"
   ]
  }
 ],
 "metadata": {
  "celltoolbar": "Tags",
  "kernelspec": {
   "display_name": "Python 3 (ipykernel)",
   "language": "python",
   "name": "python3"
  },
  "language_info": {
   "codemirror_mode": {
    "name": "ipython",
    "version": 3
   },
   "file_extension": ".py",
   "mimetype": "text/x-python",
   "name": "python",
   "nbconvert_exporter": "python",
   "pygments_lexer": "ipython3",
   "version": "3.8.10"
  },
  "papermill": {
   "default_parameters": {},
   "duration": 531.910935,
   "end_time": "2022-03-18T22:14:13.606154",
   "environment_variables": {},
   "exception": null,
   "input_path": "/mnt/wd500GB/CSC500/csc500-main/csc500-notebooks/templates/tl_ptn_template.ipynb",
   "output_path": "trial.ipynb",
   "parameters": {
    "parameters": {
     "BEST_MODEL_PATH": "./best_model.pth",
     "NUM_LOGS_PER_EPOCH": 10,
     "criteria_for_best": "target_loss",
     "dataset_seed": 420,
     "datasets": [
      {
       "domain_prefix": "C_A_",
       "domains": [
        1,
        2,
        3,
        4,
        5
       ],
       "episode_transforms": [],
       "labels": [
        "1-10.",
        "1-11.",
        "1-15.",
        "1-16.",
        "1-17.",
        "1-18.",
        "1-19.",
        "10-4.",
        "10-7.",
        "11-1.",
        "11-14.",
        "11-17.",
        "11-20.",
        "11-7.",
        "13-20.",
        "13-8.",
        "14-10.",
        "14-11.",
        "14-14.",
        "14-7.",
        "15-1.",
        "15-20.",
        "16-1.",
        "16-16.",
        "17-10.",
        "17-11.",
        "17-2.",
        "19-1.",
        "19-16.",
        "19-19.",
        "19-20.",
        "19-3.",
        "2-10.",
        "2-11.",
        "2-17.",
        "2-18.",
        "2-20.",
        "2-3.",
        "2-4.",
        "2-5.",
        "2-6.",
        "2-7.",
        "2-8.",
        "3-13.",
        "3-18.",
        "3-3.",
        "4-1.",
        "4-10.",
        "4-11.",
        "4-19.",
        "5-5.",
        "6-15.",
        "7-10.",
        "7-14.",
        "8-18.",
        "8-20.",
        "8-3.",
        "8-8."
       ],
       "num_examples_per_domain_per_label": 100,
       "pickle_path": "/mnt/wd500GB/CSC500/csc500-main/datasets/cores.stratified_ds.2022A.pkl",
       "source_or_target_dataset": "source",
       "x_transforms": [
        "take_200"
       ]
      },
      {
       "domain_prefix": "W_A_",
       "domains": [
        1,
        2,
        3,
        4
       ],
       "episode_transforms": [],
       "labels": [
        "1-10",
        "1-12",
        "1-14",
        "1-16",
        "1-18",
        "1-19",
        "1-8",
        "10-11",
        "10-17",
        "10-4",
        "10-7",
        "11-1",
        "11-10",
        "11-19",
        "11-20",
        "11-4",
        "11-7",
        "12-19",
        "12-20",
        "12-7",
        "13-14",
        "13-18",
        "13-19",
        "13-20",
        "13-3",
        "13-7",
        "14-10",
        "14-11",
        "14-12",
        "14-13",
        "14-14",
        "14-19",
        "14-20",
        "14-7",
        "14-8",
        "14-9",
        "15-1",
        "15-19",
        "15-6",
        "16-1",
        "16-16",
        "16-19",
        "16-20",
        "17-10",
        "17-11",
        "18-1",
        "18-10",
        "18-11",
        "18-12",
        "18-13",
        "18-14",
        "18-15",
        "18-16",
        "18-17",
        "18-19",
        "18-2",
        "18-20",
        "18-4",
        "18-5",
        "18-7",
        "18-8",
        "18-9",
        "19-1",
        "19-10",
        "19-11",
        "19-12",
        "19-13",
        "19-14",
        "19-15",
        "19-19",
        "19-2",
        "19-20",
        "19-3",
        "19-4",
        "19-6",
        "19-7",
        "19-8",
        "19-9",
        "2-1",
        "2-13",
        "2-15",
        "2-3",
        "2-4",
        "2-5",
        "2-6",
        "2-7",
        "2-8",
        "20-1",
        "20-12",
        "20-14",
        "20-15",
        "20-16",
        "20-18",
        "20-19",
        "20-20",
        "20-3",
        "20-4",
        "20-5",
        "20-7",
        "20-8",
        "3-1",
        "3-13",
        "3-18",
        "3-2",
        "3-8",
        "4-1",
        "4-10",
        "4-11",
        "5-1",
        "5-5",
        "6-1",
        "6-15",
        "6-6",
        "7-10",
        "7-11",
        "7-12",
        "7-13",
        "7-14",
        "7-7",
        "7-8",
        "7-9",
        "8-1",
        "8-13",
        "8-14",
        "8-18",
        "8-20",
        "8-3",
        "8-8",
        "9-1",
        "9-7"
       ],
       "num_examples_per_domain_per_label": 100,
       "pickle_path": "/mnt/wd500GB/CSC500/csc500-main/datasets/wisig.node3-19.stratified_ds.2022A.pkl",
       "source_or_target_dataset": "source",
       "x_transforms": [
        "take_200"
       ]
      },
      {
       "domain_prefix": "ORACLE.run1_",
       "domains": [
        32,
        38,
        8,
        44,
        14,
        50,
        20,
        26
       ],
       "episode_transforms": [],
       "labels": [
        "3123D52",
        "3123D65",
        "3123D79",
        "3123D80",
        "3123D54",
        "3123D70",
        "3123D7B",
        "3123D89",
        "3123D58",
        "3123D76",
        "3123D7D",
        "3123EFE",
        "3123D64",
        "3123D78",
        "3123D7E",
        "3124E4A"
       ],
       "num_examples_per_domain_per_label": 2000,
       "pickle_path": "/mnt/wd500GB/CSC500/csc500-main/datasets/oracle.Run1_framed_2000Examples_stratified_ds.2022A.pkl",
       "source_or_target_dataset": "target",
       "x_transforms": [
        "take_200",
        "resample_20Msps_to_25Msps"
       ]
      }
     ],
     "device": "cuda",
     "experiment_name": "tl_3A:cores+wisig -> oracle.run1.framed",
     "lr": 0.001,
     "n_epoch": 50,
     "n_query": 2,
     "n_shot": 3,
     "n_way": 16,
     "patience": 3,
     "seed": 420,
     "test_k_factor": 2,
     "torch_default_dtype": "torch.float32",
     "train_k_factor": 3,
     "val_k_factor": 2,
     "x_net": [
      {
       "class": "nnReshape",
       "kargs": {
        "shape": [
         -1,
         1,
         2,
         200
        ]
       }
      },
      {
       "class": "Conv2d",
       "kargs": {
        "bias": false,
        "in_channels": 1,
        "kernel_size": [
         1,
         7
        ],
        "out_channels": 256,
        "padding": [
         0,
         3
        ]
       }
      },
      {
       "class": "ReLU",
       "kargs": {
        "inplace": true
       }
      },
      {
       "class": "BatchNorm2d",
       "kargs": {
        "num_features": 256
       }
      },
      {
       "class": "Conv2d",
       "kargs": {
        "bias": true,
        "in_channels": 256,
        "kernel_size": [
         2,
         7
        ],
        "out_channels": 80,
        "padding": [
         0,
         3
        ]
       }
      },
      {
       "class": "ReLU",
       "kargs": {
        "inplace": true
       }
      },
      {
       "class": "BatchNorm2d",
       "kargs": {
        "num_features": 80
       }
      },
      {
       "class": "Flatten",
       "kargs": {}
      },
      {
       "class": "Linear",
       "kargs": {
        "in_features": 16000,
        "out_features": 256
       }
      },
      {
       "class": "ReLU",
       "kargs": {
        "inplace": true
       }
      },
      {
       "class": "BatchNorm1d",
       "kargs": {
        "num_features": 256
       }
      },
      {
       "class": "Linear",
       "kargs": {
        "in_features": 256,
        "out_features": 256
       }
      }
     ],
     "x_shape": [
      2,
      200
     ]
    }
   },
   "start_time": "2022-03-18T22:05:21.695219",
   "version": "2.3.4"
  }
 },
 "nbformat": 4,
 "nbformat_minor": 5
}