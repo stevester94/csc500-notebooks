{
 "cells": [
  {
   "cell_type": "markdown",
   "id": "9fea5f46",
   "metadata": {
    "papermill": {
     "duration": 0.017034,
     "end_time": "2022-03-18T22:14:14.487661",
     "exception": false,
     "start_time": "2022-03-18T22:14:14.470627",
     "status": "completed"
    },
    "tags": []
   },
   "source": [
    "# Transfer Learning Template"
   ]
  },
  {
   "cell_type": "code",
   "execution_count": 1,
   "id": "0902182a",
   "metadata": {
    "execution": {
     "iopub.execute_input": "2022-03-18T22:14:14.526741Z",
     "iopub.status.busy": "2022-03-18T22:14:14.526471Z",
     "iopub.status.idle": "2022-03-18T22:14:15.427416Z",
     "shell.execute_reply": "2022-03-18T22:14:15.427114Z"
    },
    "papermill": {
     "duration": 0.927231,
     "end_time": "2022-03-18T22:14:15.427490",
     "exception": false,
     "start_time": "2022-03-18T22:14:14.500259",
     "status": "completed"
    },
    "tags": []
   },
   "outputs": [],
   "source": [
    "%load_ext autoreload\n",
    "%autoreload 2\n",
    "%matplotlib inline\n",
    "\n",
    "    \n",
    "import os, json, sys, time, random\n",
    "import numpy as np\n",
    "import torch\n",
    "from torch.optim import Adam\n",
    "from  easydict import EasyDict\n",
    "import matplotlib.pyplot as plt\n",
    "\n",
    "from steves_models.steves_ptn import Steves_Prototypical_Network\n",
    "\n",
    "from steves_utils.lazy_iterable_wrapper import Lazy_Iterable_Wrapper\n",
    "from steves_utils.iterable_aggregator import Iterable_Aggregator\n",
    "from steves_utils.ptn_train_eval_test_jig import  PTN_Train_Eval_Test_Jig\n",
    "from steves_utils.torch_sequential_builder import build_sequential\n",
    "from steves_utils.torch_utils import get_dataset_metrics, ptn_confusion_by_domain_over_dataloader\n",
    "from steves_utils.utils_v2 import (per_domain_accuracy_from_confusion, get_datasets_base_path)\n",
    "from steves_utils.PTN.utils import independent_accuracy_assesment\n",
    "\n",
    "from torch.utils.data import DataLoader\n",
    "\n",
    "from steves_utils.stratified_dataset.episodic_accessor import Episodic_Accessor_Factory\n",
    "\n",
    "from steves_utils.ptn_do_report import (\n",
    "    get_loss_curve,\n",
    "    get_results_table,\n",
    "    get_parameters_table,\n",
    "    get_domain_accuracies,\n",
    ")\n",
    "\n",
    "from steves_utils.transforms import get_chained_transform"
   ]
  },
  {
   "cell_type": "markdown",
   "id": "41c840b4",
   "metadata": {
    "papermill": {
     "duration": 0.013102,
     "end_time": "2022-03-18T22:14:15.457292",
     "exception": false,
     "start_time": "2022-03-18T22:14:15.444190",
     "status": "completed"
    },
    "tags": []
   },
   "source": [
    "# Allowed Parameters\n",
    "These are allowed parameters, not defaults\n",
    "Each of these values need to be present in the injected parameters (the notebook will raise an exception if they are not present)\n",
    "\n",
    "Papermill uses the cell tag \"parameters\" to inject the real parameters below this cell.\n",
    "Enable tags to see what I mean"
   ]
  },
  {
   "cell_type": "code",
   "execution_count": 2,
   "id": "fd44eb83",
   "metadata": {
    "execution": {
     "iopub.execute_input": "2022-03-18T22:14:15.484664Z",
     "iopub.status.busy": "2022-03-18T22:14:15.483824Z",
     "iopub.status.idle": "2022-03-18T22:14:15.494979Z",
     "shell.execute_reply": "2022-03-18T22:14:15.494730Z"
    },
    "papermill": {
     "duration": 0.024651,
     "end_time": "2022-03-18T22:14:15.495029",
     "exception": false,
     "start_time": "2022-03-18T22:14:15.470378",
     "status": "completed"
    },
    "tags": []
   },
   "outputs": [],
   "source": [
    "required_parameters = {\n",
    "    \"experiment_name\",\n",
    "    \"lr\",\n",
    "    \"device\",\n",
    "    \"seed\",\n",
    "    \"dataset_seed\",\n",
    "    \"n_shot\",\n",
    "    \"n_query\",\n",
    "    \"n_way\",\n",
    "    \"train_k_factor\",\n",
    "    \"val_k_factor\",\n",
    "    \"test_k_factor\",\n",
    "    \"n_epoch\",\n",
    "    \"patience\",\n",
    "    \"criteria_for_best\",\n",
    "    \"x_net\",\n",
    "    \"datasets\",\n",
    "    \"torch_default_dtype\",\n",
    "    \"NUM_LOGS_PER_EPOCH\",\n",
    "    \"BEST_MODEL_PATH\",\n",
    "    \"x_shape\",\n",
    "}"
   ]
  },
  {
   "cell_type": "code",
   "execution_count": 3,
   "id": "fa3f0049",
   "metadata": {
    "execution": {
     "iopub.execute_input": "2022-03-18T22:14:15.530065Z",
     "iopub.status.busy": "2022-03-18T22:14:15.529790Z",
     "iopub.status.idle": "2022-03-18T22:14:15.541738Z",
     "shell.execute_reply": "2022-03-18T22:14:15.542104Z"
    },
    "papermill": {
     "duration": 0.030933,
     "end_time": "2022-03-18T22:14:15.542205",
     "exception": false,
     "start_time": "2022-03-18T22:14:15.511272",
     "status": "completed"
    },
    "tags": [
     "parameters"
    ]
   },
   "outputs": [],
   "source": [
    "from steves_utils.CORES.utils import (\n",
    "    ALL_NODES,\n",
    "    ALL_NODES_MINIMUM_1000_EXAMPLES,\n",
    "    ALL_DAYS\n",
    ")\n",
    "\n",
    "from steves_utils.ORACLE.utils_v2 import (\n",
    "    ALL_DISTANCES_FEET_NARROWED,\n",
    "    ALL_RUNS,\n",
    "    ALL_SERIAL_NUMBERS,\n",
    ")\n",
    "\n",
    "standalone_parameters = {}\n",
    "standalone_parameters[\"experiment_name\"] = \"STANDALONE PTN\"\n",
    "standalone_parameters[\"lr\"] = 0.001\n",
    "standalone_parameters[\"device\"] = \"cuda\"\n",
    "\n",
    "standalone_parameters[\"seed\"] = 1337\n",
    "standalone_parameters[\"dataset_seed\"] = 1337\n",
    "\n",
    "standalone_parameters[\"n_way\"] = 8\n",
    "standalone_parameters[\"n_shot\"] = 3\n",
    "standalone_parameters[\"n_query\"]  = 2\n",
    "standalone_parameters[\"train_k_factor\"] = 1\n",
    "standalone_parameters[\"val_k_factor\"] = 2\n",
    "standalone_parameters[\"test_k_factor\"] = 2\n",
    "\n",
    "\n",
    "standalone_parameters[\"n_epoch\"] = 50\n",
    "\n",
    "standalone_parameters[\"patience\"] = 10\n",
    "standalone_parameters[\"criteria_for_best\"] = \"source_loss\"\n",
    "\n",
    "standalone_parameters[\"datasets\"] = [\n",
    "    {\n",
    "        \"labels\": ALL_SERIAL_NUMBERS,\n",
    "        \"domains\": ALL_DISTANCES_FEET_NARROWED,\n",
    "        \"num_examples_per_domain_per_label\": 100,\n",
    "        \"pickle_path\": os.path.join(get_datasets_base_path(), \"oracle.Run1_framed_2000Examples_stratified_ds.2022A.pkl\"),\n",
    "        \"source_or_target_dataset\": \"source\",\n",
    "        \"x_transforms\": [\"unit_mag\", \"minus_two\"],\n",
    "        \"episode_transforms\": [],\n",
    "        \"domain_prefix\": \"ORACLE_\"\n",
    "    },\n",
    "    {\n",
    "        \"labels\": ALL_NODES,\n",
    "        \"domains\": ALL_DAYS,\n",
    "        \"num_examples_per_domain_per_label\": 100,\n",
    "        \"pickle_path\": os.path.join(get_datasets_base_path(), \"cores.stratified_ds.2022A.pkl\"),\n",
    "        \"source_or_target_dataset\": \"target\",\n",
    "        \"x_transforms\": [\"unit_power\", \"times_zero\"],\n",
    "        \"episode_transforms\": [],\n",
    "        \"domain_prefix\": \"CORES_\"\n",
    "    }   \n",
    "]\n",
    "\n",
    "standalone_parameters[\"torch_default_dtype\"] = \"torch.float32\" \n",
    "\n",
    "\n",
    "\n",
    "standalone_parameters[\"x_net\"] =     [\n",
    "    {\"class\": \"nnReshape\", \"kargs\": {\"shape\":[-1, 1, 2, 256]}},\n",
    "    {\"class\": \"Conv2d\", \"kargs\": { \"in_channels\":1, \"out_channels\":256, \"kernel_size\":(1,7), \"bias\":False, \"padding\":(0,3), },},\n",
    "    {\"class\": \"ReLU\", \"kargs\": {\"inplace\": True}},\n",
    "    {\"class\": \"BatchNorm2d\", \"kargs\": {\"num_features\":256}},\n",
    "\n",
    "    {\"class\": \"Conv2d\", \"kargs\": { \"in_channels\":256, \"out_channels\":80, \"kernel_size\":(2,7), \"bias\":True, \"padding\":(0,3), },},\n",
    "    {\"class\": \"ReLU\", \"kargs\": {\"inplace\": True}},\n",
    "    {\"class\": \"BatchNorm2d\", \"kargs\": {\"num_features\":80}},\n",
    "    {\"class\": \"Flatten\", \"kargs\": {}},\n",
    "\n",
    "    {\"class\": \"Linear\", \"kargs\": {\"in_features\": 80*256, \"out_features\": 256}}, # 80 units per IQ pair\n",
    "    {\"class\": \"ReLU\", \"kargs\": {\"inplace\": True}},\n",
    "    {\"class\": \"BatchNorm1d\", \"kargs\": {\"num_features\":256}},\n",
    "\n",
    "    {\"class\": \"Linear\", \"kargs\": {\"in_features\": 256, \"out_features\": 256}},\n",
    "]\n",
    "\n",
    "# Parameters relevant to results\n",
    "# These parameters will basically never need to change\n",
    "standalone_parameters[\"NUM_LOGS_PER_EPOCH\"] = 10\n",
    "standalone_parameters[\"BEST_MODEL_PATH\"] = \"./best_model.pth\"\n",
    "\n",
    "\n",
    "\n",
    "\n"
   ]
  },
  {
   "cell_type": "code",
   "execution_count": 4,
   "id": "31c34ac4",
   "metadata": {
    "execution": {
     "iopub.execute_input": "2022-03-18T22:14:15.585991Z",
     "iopub.status.busy": "2022-03-18T22:14:15.578598Z",
     "iopub.status.idle": "2022-03-18T22:14:15.598832Z",
     "shell.execute_reply": "2022-03-18T22:14:15.598393Z"
    },
    "papermill": {
     "duration": 0.039717,
     "end_time": "2022-03-18T22:14:15.598920",
     "exception": false,
     "start_time": "2022-03-18T22:14:15.559203",
     "status": "completed"
    },
    "tags": [
     "injected-parameters"
    ]
   },
   "outputs": [],
   "source": [
    "# Parameters\n",
    "parameters = {\n",
    "    \"experiment_name\": \"tl_3A:cores+wisig -> oracle.run1.framed\",\n",
    "    \"device\": \"cuda\",\n",
    "    \"lr\": 0.001,\n",
    "    \"x_shape\": [2, 200],\n",
    "    \"n_shot\": 3,\n",
    "    \"n_query\": 2,\n",
    "    \"train_k_factor\": 3,\n",
    "    \"val_k_factor\": 2,\n",
    "    \"test_k_factor\": 2,\n",
    "    \"torch_default_dtype\": \"torch.float32\",\n",
    "    \"n_epoch\": 50,\n",
    "    \"patience\": 3,\n",
    "    \"criteria_for_best\": \"target_loss\",\n",
    "    \"x_net\": [\n",
    "        {\"class\": \"nnReshape\", \"kargs\": {\"shape\": [-1, 1, 2, 200]}},\n",
    "        {\n",
    "            \"class\": \"Conv2d\",\n",
    "            \"kargs\": {\n",
    "                \"in_channels\": 1,\n",
    "                \"out_channels\": 256,\n",
    "                \"kernel_size\": [1, 7],\n",
    "                \"bias\": False,\n",
    "                \"padding\": [0, 3],\n",
    "            },\n",
    "        },\n",
    "        {\"class\": \"ReLU\", \"kargs\": {\"inplace\": True}},\n",
    "        {\"class\": \"BatchNorm2d\", \"kargs\": {\"num_features\": 256}},\n",
    "        {\n",
    "            \"class\": \"Conv2d\",\n",
    "            \"kargs\": {\n",
    "                \"in_channels\": 256,\n",
    "                \"out_channels\": 80,\n",
    "                \"kernel_size\": [2, 7],\n",
    "                \"bias\": True,\n",
    "                \"padding\": [0, 3],\n",
    "            },\n",
    "        },\n",
    "        {\"class\": \"ReLU\", \"kargs\": {\"inplace\": True}},\n",
    "        {\"class\": \"BatchNorm2d\", \"kargs\": {\"num_features\": 80}},\n",
    "        {\"class\": \"Flatten\", \"kargs\": {}},\n",
    "        {\"class\": \"Linear\", \"kargs\": {\"in_features\": 16000, \"out_features\": 256}},\n",
    "        {\"class\": \"ReLU\", \"kargs\": {\"inplace\": True}},\n",
    "        {\"class\": \"BatchNorm1d\", \"kargs\": {\"num_features\": 256}},\n",
    "        {\"class\": \"Linear\", \"kargs\": {\"in_features\": 256, \"out_features\": 256}},\n",
    "    ],\n",
    "    \"NUM_LOGS_PER_EPOCH\": 10,\n",
    "    \"BEST_MODEL_PATH\": \"./best_model.pth\",\n",
    "    \"n_way\": 16,\n",
    "    \"datasets\": [\n",
    "        {\n",
    "            \"labels\": [\n",
    "                \"1-10.\",\n",
    "                \"1-11.\",\n",
    "                \"1-15.\",\n",
    "                \"1-16.\",\n",
    "                \"1-17.\",\n",
    "                \"1-18.\",\n",
    "                \"1-19.\",\n",
    "                \"10-4.\",\n",
    "                \"10-7.\",\n",
    "                \"11-1.\",\n",
    "                \"11-14.\",\n",
    "                \"11-17.\",\n",
    "                \"11-20.\",\n",
    "                \"11-7.\",\n",
    "                \"13-20.\",\n",
    "                \"13-8.\",\n",
    "                \"14-10.\",\n",
    "                \"14-11.\",\n",
    "                \"14-14.\",\n",
    "                \"14-7.\",\n",
    "                \"15-1.\",\n",
    "                \"15-20.\",\n",
    "                \"16-1.\",\n",
    "                \"16-16.\",\n",
    "                \"17-10.\",\n",
    "                \"17-11.\",\n",
    "                \"17-2.\",\n",
    "                \"19-1.\",\n",
    "                \"19-16.\",\n",
    "                \"19-19.\",\n",
    "                \"19-20.\",\n",
    "                \"19-3.\",\n",
    "                \"2-10.\",\n",
    "                \"2-11.\",\n",
    "                \"2-17.\",\n",
    "                \"2-18.\",\n",
    "                \"2-20.\",\n",
    "                \"2-3.\",\n",
    "                \"2-4.\",\n",
    "                \"2-5.\",\n",
    "                \"2-6.\",\n",
    "                \"2-7.\",\n",
    "                \"2-8.\",\n",
    "                \"3-13.\",\n",
    "                \"3-18.\",\n",
    "                \"3-3.\",\n",
    "                \"4-1.\",\n",
    "                \"4-10.\",\n",
    "                \"4-11.\",\n",
    "                \"4-19.\",\n",
    "                \"5-5.\",\n",
    "                \"6-15.\",\n",
    "                \"7-10.\",\n",
    "                \"7-14.\",\n",
    "                \"8-18.\",\n",
    "                \"8-20.\",\n",
    "                \"8-3.\",\n",
    "                \"8-8.\",\n",
    "            ],\n",
    "            \"domains\": [1, 2, 3, 4, 5],\n",
    "            \"num_examples_per_domain_per_label\": 100,\n",
    "            \"pickle_path\": \"/mnt/wd500GB/CSC500/csc500-main/datasets/cores.stratified_ds.2022A.pkl\",\n",
    "            \"source_or_target_dataset\": \"source\",\n",
    "            \"x_transforms\": [\"unit_power\", \"take_200\"],\n",
    "            \"episode_transforms\": [],\n",
    "            \"domain_prefix\": \"C_A_\",\n",
    "        },\n",
    "        {\n",
    "            \"labels\": [\n",
    "                \"1-10\",\n",
    "                \"1-12\",\n",
    "                \"1-14\",\n",
    "                \"1-16\",\n",
    "                \"1-18\",\n",
    "                \"1-19\",\n",
    "                \"1-8\",\n",
    "                \"10-11\",\n",
    "                \"10-17\",\n",
    "                \"10-4\",\n",
    "                \"10-7\",\n",
    "                \"11-1\",\n",
    "                \"11-10\",\n",
    "                \"11-19\",\n",
    "                \"11-20\",\n",
    "                \"11-4\",\n",
    "                \"11-7\",\n",
    "                \"12-19\",\n",
    "                \"12-20\",\n",
    "                \"12-7\",\n",
    "                \"13-14\",\n",
    "                \"13-18\",\n",
    "                \"13-19\",\n",
    "                \"13-20\",\n",
    "                \"13-3\",\n",
    "                \"13-7\",\n",
    "                \"14-10\",\n",
    "                \"14-11\",\n",
    "                \"14-12\",\n",
    "                \"14-13\",\n",
    "                \"14-14\",\n",
    "                \"14-19\",\n",
    "                \"14-20\",\n",
    "                \"14-7\",\n",
    "                \"14-8\",\n",
    "                \"14-9\",\n",
    "                \"15-1\",\n",
    "                \"15-19\",\n",
    "                \"15-6\",\n",
    "                \"16-1\",\n",
    "                \"16-16\",\n",
    "                \"16-19\",\n",
    "                \"16-20\",\n",
    "                \"17-10\",\n",
    "                \"17-11\",\n",
    "                \"18-1\",\n",
    "                \"18-10\",\n",
    "                \"18-11\",\n",
    "                \"18-12\",\n",
    "                \"18-13\",\n",
    "                \"18-14\",\n",
    "                \"18-15\",\n",
    "                \"18-16\",\n",
    "                \"18-17\",\n",
    "                \"18-19\",\n",
    "                \"18-2\",\n",
    "                \"18-20\",\n",
    "                \"18-4\",\n",
    "                \"18-5\",\n",
    "                \"18-7\",\n",
    "                \"18-8\",\n",
    "                \"18-9\",\n",
    "                \"19-1\",\n",
    "                \"19-10\",\n",
    "                \"19-11\",\n",
    "                \"19-12\",\n",
    "                \"19-13\",\n",
    "                \"19-14\",\n",
    "                \"19-15\",\n",
    "                \"19-19\",\n",
    "                \"19-2\",\n",
    "                \"19-20\",\n",
    "                \"19-3\",\n",
    "                \"19-4\",\n",
    "                \"19-6\",\n",
    "                \"19-7\",\n",
    "                \"19-8\",\n",
    "                \"19-9\",\n",
    "                \"2-1\",\n",
    "                \"2-13\",\n",
    "                \"2-15\",\n",
    "                \"2-3\",\n",
    "                \"2-4\",\n",
    "                \"2-5\",\n",
    "                \"2-6\",\n",
    "                \"2-7\",\n",
    "                \"2-8\",\n",
    "                \"20-1\",\n",
    "                \"20-12\",\n",
    "                \"20-14\",\n",
    "                \"20-15\",\n",
    "                \"20-16\",\n",
    "                \"20-18\",\n",
    "                \"20-19\",\n",
    "                \"20-20\",\n",
    "                \"20-3\",\n",
    "                \"20-4\",\n",
    "                \"20-5\",\n",
    "                \"20-7\",\n",
    "                \"20-8\",\n",
    "                \"3-1\",\n",
    "                \"3-13\",\n",
    "                \"3-18\",\n",
    "                \"3-2\",\n",
    "                \"3-8\",\n",
    "                \"4-1\",\n",
    "                \"4-10\",\n",
    "                \"4-11\",\n",
    "                \"5-1\",\n",
    "                \"5-5\",\n",
    "                \"6-1\",\n",
    "                \"6-15\",\n",
    "                \"6-6\",\n",
    "                \"7-10\",\n",
    "                \"7-11\",\n",
    "                \"7-12\",\n",
    "                \"7-13\",\n",
    "                \"7-14\",\n",
    "                \"7-7\",\n",
    "                \"7-8\",\n",
    "                \"7-9\",\n",
    "                \"8-1\",\n",
    "                \"8-13\",\n",
    "                \"8-14\",\n",
    "                \"8-18\",\n",
    "                \"8-20\",\n",
    "                \"8-3\",\n",
    "                \"8-8\",\n",
    "                \"9-1\",\n",
    "                \"9-7\",\n",
    "            ],\n",
    "            \"domains\": [1, 2, 3, 4],\n",
    "            \"num_examples_per_domain_per_label\": 100,\n",
    "            \"pickle_path\": \"/mnt/wd500GB/CSC500/csc500-main/datasets/wisig.node3-19.stratified_ds.2022A.pkl\",\n",
    "            \"source_or_target_dataset\": \"source\",\n",
    "            \"x_transforms\": [\"unit_power\", \"take_200\"],\n",
    "            \"episode_transforms\": [],\n",
    "            \"domain_prefix\": \"W_A_\",\n",
    "        },\n",
    "        {\n",
    "            \"labels\": [\n",
    "                \"3123D52\",\n",
    "                \"3123D65\",\n",
    "                \"3123D79\",\n",
    "                \"3123D80\",\n",
    "                \"3123D54\",\n",
    "                \"3123D70\",\n",
    "                \"3123D7B\",\n",
    "                \"3123D89\",\n",
    "                \"3123D58\",\n",
    "                \"3123D76\",\n",
    "                \"3123D7D\",\n",
    "                \"3123EFE\",\n",
    "                \"3123D64\",\n",
    "                \"3123D78\",\n",
    "                \"3123D7E\",\n",
    "                \"3124E4A\",\n",
    "            ],\n",
    "            \"domains\": [32, 38, 8, 44, 14, 50, 20, 26],\n",
    "            \"num_examples_per_domain_per_label\": 2000,\n",
    "            \"pickle_path\": \"/mnt/wd500GB/CSC500/csc500-main/datasets/oracle.Run1_framed_2000Examples_stratified_ds.2022A.pkl\",\n",
    "            \"source_or_target_dataset\": \"target\",\n",
    "            \"x_transforms\": [\"unit_power\", \"take_200\", \"resample_20Msps_to_25Msps\"],\n",
    "            \"episode_transforms\": [],\n",
    "            \"domain_prefix\": \"ORACLE.run1_\",\n",
    "        },\n",
    "    ],\n",
    "    \"seed\": 154325,\n",
    "    \"dataset_seed\": 154325,\n",
    "}\n"
   ]
  },
  {
   "cell_type": "code",
   "execution_count": 5,
   "id": "8fa1cc33",
   "metadata": {
    "execution": {
     "iopub.execute_input": "2022-03-18T22:14:15.634800Z",
     "iopub.status.busy": "2022-03-18T22:14:15.631448Z",
     "iopub.status.idle": "2022-03-18T22:14:15.642310Z",
     "shell.execute_reply": "2022-03-18T22:14:15.642678Z"
    },
    "papermill": {
     "duration": 0.027007,
     "end_time": "2022-03-18T22:14:15.642781",
     "exception": false,
     "start_time": "2022-03-18T22:14:15.615774",
     "status": "completed"
    },
    "tags": []
   },
   "outputs": [],
   "source": [
    "# Set this to True if you want to run this template directly\n",
    "STANDALONE = False\n",
    "if STANDALONE:\n",
    "    print(\"parameters not injected, running with standalone_parameters\")\n",
    "    parameters = standalone_parameters\n",
    "\n",
    "if not 'parameters' in locals() and not 'parameters' in globals():\n",
    "    raise Exception(\"Parameter injection failed\")\n",
    "\n",
    "#Use an easy dict for all the parameters\n",
    "p = EasyDict(parameters)\n",
    "\n",
    "if \"x_shape\" not in p:\n",
    "    p.x_shape = [2,256] # Default to this if we dont supply x_shape\n",
    "\n",
    "\n",
    "supplied_keys = set(p.keys())\n",
    "\n",
    "if  supplied_keys != required_parameters:\n",
    "    print(\"Parameters are incorrect\")\n",
    "    if len(supplied_keys - required_parameters)>0: print(\"Shouldn't have:\", str(supplied_keys - required_parameters))\n",
    "    if len(required_parameters - supplied_keys)>0: print(\"Need to have:\", str(required_parameters - supplied_keys))\n",
    "    raise RuntimeError(\"Parameters are incorrect\")"
   ]
  },
  {
   "cell_type": "code",
   "execution_count": 6,
   "id": "3a028d58",
   "metadata": {
    "execution": {
     "iopub.execute_input": "2022-03-18T22:14:15.673070Z",
     "iopub.status.busy": "2022-03-18T22:14:15.672823Z",
     "iopub.status.idle": "2022-03-18T22:14:15.684930Z",
     "shell.execute_reply": "2022-03-18T22:14:15.684548Z"
    },
    "papermill": {
     "duration": 0.027188,
     "end_time": "2022-03-18T22:14:15.685018",
     "exception": false,
     "start_time": "2022-03-18T22:14:15.657830",
     "status": "completed"
    },
    "tags": []
   },
   "outputs": [],
   "source": [
    "###################################\n",
    "# Set the RNGs and make it all deterministic\n",
    "###################################\n",
    "np.random.seed(p.seed)\n",
    "random.seed(p.seed)\n",
    "torch.manual_seed(p.seed)\n",
    "\n",
    "torch.use_deterministic_algorithms(True) "
   ]
  },
  {
   "cell_type": "code",
   "execution_count": 7,
   "id": "b691acf6",
   "metadata": {
    "execution": {
     "iopub.execute_input": "2022-03-18T22:14:15.717727Z",
     "iopub.status.busy": "2022-03-18T22:14:15.717485Z",
     "iopub.status.idle": "2022-03-18T22:14:15.731850Z",
     "shell.execute_reply": "2022-03-18T22:14:15.732050Z"
    },
    "papermill": {
     "duration": 0.029335,
     "end_time": "2022-03-18T22:14:15.732146",
     "exception": false,
     "start_time": "2022-03-18T22:14:15.702811",
     "status": "completed"
    },
    "tags": []
   },
   "outputs": [],
   "source": [
    "###########################################\n",
    "# The stratified datasets honor this\n",
    "###########################################\n",
    "torch.set_default_dtype(eval(p.torch_default_dtype))"
   ]
  },
  {
   "cell_type": "code",
   "execution_count": 8,
   "id": "b5fba671",
   "metadata": {
    "execution": {
     "iopub.execute_input": "2022-03-18T22:14:15.765825Z",
     "iopub.status.busy": "2022-03-18T22:14:15.765575Z",
     "iopub.status.idle": "2022-03-18T22:14:15.799495Z",
     "shell.execute_reply": "2022-03-18T22:14:15.799038Z"
    },
    "papermill": {
     "duration": 0.049272,
     "end_time": "2022-03-18T22:14:15.799584",
     "exception": false,
     "start_time": "2022-03-18T22:14:15.750312",
     "status": "completed"
    },
    "tags": []
   },
   "outputs": [],
   "source": [
    "###################################\n",
    "# Build the network(s)\n",
    "# Note: It's critical to do this AFTER setting the RNG\n",
    "###################################\n",
    "x_net = build_sequential(p.x_net)"
   ]
  },
  {
   "cell_type": "code",
   "execution_count": 9,
   "id": "5d7e61cc",
   "metadata": {
    "execution": {
     "iopub.execute_input": "2022-03-18T22:14:15.832167Z",
     "iopub.status.busy": "2022-03-18T22:14:15.831925Z",
     "iopub.status.idle": "2022-03-18T22:14:15.844969Z",
     "shell.execute_reply": "2022-03-18T22:14:15.844586Z"
    },
    "papermill": {
     "duration": 0.028557,
     "end_time": "2022-03-18T22:14:15.845056",
     "exception": false,
     "start_time": "2022-03-18T22:14:15.816499",
     "status": "completed"
    },
    "tags": []
   },
   "outputs": [],
   "source": [
    "start_time_secs = time.time()"
   ]
  },
  {
   "cell_type": "code",
   "execution_count": 10,
   "id": "c6b67dfd",
   "metadata": {
    "execution": {
     "iopub.execute_input": "2022-03-18T22:14:15.879391Z",
     "iopub.status.busy": "2022-03-18T22:14:15.879125Z",
     "iopub.status.idle": "2022-03-18T22:14:15.893746Z",
     "shell.execute_reply": "2022-03-18T22:14:15.893306Z"
    },
    "papermill": {
     "duration": 0.03067,
     "end_time": "2022-03-18T22:14:15.893832",
     "exception": false,
     "start_time": "2022-03-18T22:14:15.863162",
     "status": "completed"
    },
    "tags": []
   },
   "outputs": [],
   "source": [
    "p.domains_source = []\n",
    "p.domains_target = []\n",
    "\n",
    "\n",
    "train_original_source = []\n",
    "val_original_source   = []\n",
    "test_original_source  = []\n",
    "\n",
    "train_original_target = []\n",
    "val_original_target   = []\n",
    "test_original_target  = []"
   ]
  },
  {
   "cell_type": "code",
   "execution_count": 11,
   "id": "e3d9c3d3",
   "metadata": {
    "execution": {
     "iopub.execute_input": "2022-03-18T22:14:15.926206Z",
     "iopub.status.busy": "2022-03-18T22:14:15.925961Z",
     "iopub.status.idle": "2022-03-18T22:14:15.936154Z",
     "shell.execute_reply": "2022-03-18T22:14:15.935471Z"
    },
    "papermill": {
     "duration": 0.024583,
     "end_time": "2022-03-18T22:14:15.936203",
     "exception": false,
     "start_time": "2022-03-18T22:14:15.911620",
     "status": "completed"
    },
    "tags": []
   },
   "outputs": [],
   "source": [
    "# global_x_transform_func = lambda x: normalize(x.to(torch.get_default_dtype()), \"unit_power\") # unit_power, unit_mag\n",
    "# global_x_transform_func = lambda x: normalize(x, \"unit_power\") # unit_power, unit_mag"
   ]
  },
  {
   "cell_type": "code",
   "execution_count": 12,
   "id": "acb78fd2",
   "metadata": {
    "execution": {
     "iopub.execute_input": "2022-03-18T22:14:15.970752Z",
     "iopub.status.busy": "2022-03-18T22:14:15.970489Z",
     "iopub.status.idle": "2022-03-18T22:14:15.981382Z",
     "shell.execute_reply": "2022-03-18T22:14:15.980943Z"
    },
    "papermill": {
     "duration": 0.028379,
     "end_time": "2022-03-18T22:14:15.981469",
     "exception": false,
     "start_time": "2022-03-18T22:14:15.953090",
     "status": "completed"
    },
    "tags": []
   },
   "outputs": [],
   "source": [
    "def add_dataset(\n",
    "    labels,\n",
    "    domains,\n",
    "    pickle_path,\n",
    "    x_transforms,\n",
    "    episode_transforms,\n",
    "    domain_prefix,\n",
    "    num_examples_per_domain_per_label,\n",
    "    source_or_target_dataset:str,\n",
    "    iterator_seed=p.seed,\n",
    "    dataset_seed=p.dataset_seed,\n",
    "    n_shot=p.n_shot,\n",
    "    n_way=p.n_way,\n",
    "    n_query=p.n_query,\n",
    "    train_val_test_k_factors=(p.train_k_factor,p.val_k_factor,p.test_k_factor),\n",
    "):\n",
    "   \n",
    "    if x_transforms == []: x_transform = None\n",
    "    else: x_transform = get_chained_transform(x_transforms)\n",
    "    \n",
    "    if episode_transforms == []: episode_transform = None\n",
    "    else: raise Exception(\"episode_transforms not implemented\")\n",
    "    \n",
    "    episode_transform = lambda tup, _prefix=domain_prefix: (_prefix + str(tup[0]), tup[1])\n",
    "\n",
    "\n",
    "    eaf = Episodic_Accessor_Factory(\n",
    "        labels=labels,\n",
    "        domains=domains,\n",
    "        num_examples_per_domain_per_label=num_examples_per_domain_per_label,\n",
    "        iterator_seed=iterator_seed,\n",
    "        dataset_seed=dataset_seed,\n",
    "        n_shot=n_shot,\n",
    "        n_way=n_way,\n",
    "        n_query=n_query,\n",
    "        train_val_test_k_factors=train_val_test_k_factors,\n",
    "        pickle_path=pickle_path,\n",
    "        x_transform_func=x_transform,\n",
    "    )\n",
    "\n",
    "    train, val, test = eaf.get_train(), eaf.get_val(), eaf.get_test()\n",
    "    train = Lazy_Iterable_Wrapper(train, episode_transform)\n",
    "    val = Lazy_Iterable_Wrapper(val, episode_transform)\n",
    "    test = Lazy_Iterable_Wrapper(test, episode_transform)\n",
    "\n",
    "    if source_or_target_dataset==\"source\":\n",
    "        train_original_source.append(train)\n",
    "        val_original_source.append(val)\n",
    "        test_original_source.append(test)\n",
    "\n",
    "        p.domains_source.extend(\n",
    "            [domain_prefix + str(u) for u in domains]\n",
    "        )\n",
    "    elif source_or_target_dataset==\"target\":\n",
    "        train_original_target.append(train)\n",
    "        val_original_target.append(val)\n",
    "        test_original_target.append(test)\n",
    "        p.domains_target.extend(\n",
    "            [domain_prefix + str(u) for u in domains]\n",
    "        )\n",
    "    else:\n",
    "        raise Exception(f\"invalid source_or_target_dataset: {source_or_target_dataset}\")\n",
    "    "
   ]
  },
  {
   "cell_type": "code",
   "execution_count": 13,
   "id": "fe266617",
   "metadata": {
    "execution": {
     "iopub.execute_input": "2022-03-18T22:14:16.014777Z",
     "iopub.status.busy": "2022-03-18T22:14:16.014531Z",
     "iopub.status.idle": "2022-03-18T22:14:54.566679Z",
     "shell.execute_reply": "2022-03-18T22:14:54.566256Z"
    },
    "papermill": {
     "duration": 38.567597,
     "end_time": "2022-03-18T22:14:54.566780",
     "exception": false,
     "start_time": "2022-03-18T22:14:15.999183",
     "status": "completed"
    },
    "tags": []
   },
   "outputs": [],
   "source": [
    "for ds in p.datasets:\n",
    "    add_dataset(**ds)"
   ]
  },
  {
   "cell_type": "code",
   "execution_count": 14,
   "id": "b90d65ac",
   "metadata": {
    "execution": {
     "iopub.execute_input": "2022-03-18T22:14:54.601981Z",
     "iopub.status.busy": "2022-03-18T22:14:54.601732Z",
     "iopub.status.idle": "2022-03-18T22:14:54.617206Z",
     "shell.execute_reply": "2022-03-18T22:14:54.616762Z"
    },
    "papermill": {
     "duration": 0.030849,
     "end_time": "2022-03-18T22:14:54.617295",
     "exception": false,
     "start_time": "2022-03-18T22:14:54.586446",
     "status": "completed"
    },
    "tags": []
   },
   "outputs": [],
   "source": [
    "# from steves_utils.CORES.utils import (\n",
    "#     ALL_NODES,\n",
    "#     ALL_NODES_MINIMUM_1000_EXAMPLES,\n",
    "#     ALL_DAYS\n",
    "# )\n",
    "\n",
    "# add_dataset(\n",
    "#     labels=ALL_NODES,\n",
    "#     domains = ALL_DAYS,\n",
    "#     num_examples_per_domain_per_label=100,\n",
    "#     pickle_path=os.path.join(get_datasets_base_path(), \"cores.stratified_ds.2022A.pkl\"),\n",
    "#     source_or_target_dataset=\"target\",\n",
    "#     x_transform_func=global_x_transform_func,\n",
    "#     domain_modifier=lambda u: f\"cores_{u}\"\n",
    "# )"
   ]
  },
  {
   "cell_type": "code",
   "execution_count": 15,
   "id": "76db484d",
   "metadata": {
    "execution": {
     "iopub.execute_input": "2022-03-18T22:14:54.653691Z",
     "iopub.status.busy": "2022-03-18T22:14:54.653443Z",
     "iopub.status.idle": "2022-03-18T22:14:54.661134Z",
     "shell.execute_reply": "2022-03-18T22:14:54.660694Z"
    },
    "papermill": {
     "duration": 0.025798,
     "end_time": "2022-03-18T22:14:54.661223",
     "exception": false,
     "start_time": "2022-03-18T22:14:54.635425",
     "status": "completed"
    },
    "tags": []
   },
   "outputs": [],
   "source": [
    "# from steves_utils.ORACLE.utils_v2 import (\n",
    "#     ALL_DISTANCES_FEET,\n",
    "#     ALL_RUNS,\n",
    "#     ALL_SERIAL_NUMBERS,\n",
    "# )\n",
    "\n",
    "\n",
    "# add_dataset(\n",
    "#     labels=ALL_SERIAL_NUMBERS,\n",
    "#     domains = list(set(ALL_DISTANCES_FEET) - {2,62}),\n",
    "#     num_examples_per_domain_per_label=100,\n",
    "#     pickle_path=os.path.join(get_datasets_base_path(), \"oracle.Run2_framed_2000Examples_stratified_ds.2022A.pkl\"),\n",
    "#     source_or_target_dataset=\"source\",\n",
    "#     x_transform_func=global_x_transform_func,\n",
    "#     domain_modifier=lambda u: f\"oracle1_{u}\"\n",
    "# )\n"
   ]
  },
  {
   "cell_type": "code",
   "execution_count": 16,
   "id": "97dea9d2",
   "metadata": {
    "execution": {
     "iopub.execute_input": "2022-03-18T22:14:54.695294Z",
     "iopub.status.busy": "2022-03-18T22:14:54.695028Z",
     "iopub.status.idle": "2022-03-18T22:14:54.708597Z",
     "shell.execute_reply": "2022-03-18T22:14:54.708250Z"
    },
    "papermill": {
     "duration": 0.029061,
     "end_time": "2022-03-18T22:14:54.708667",
     "exception": false,
     "start_time": "2022-03-18T22:14:54.679606",
     "status": "completed"
    },
    "tags": []
   },
   "outputs": [],
   "source": [
    "# from steves_utils.ORACLE.utils_v2 import (\n",
    "#     ALL_DISTANCES_FEET,\n",
    "#     ALL_RUNS,\n",
    "#     ALL_SERIAL_NUMBERS,\n",
    "# )\n",
    "\n",
    "\n",
    "# add_dataset(\n",
    "#     labels=ALL_SERIAL_NUMBERS,\n",
    "#     domains = list(set(ALL_DISTANCES_FEET) - {2,62,56}),\n",
    "#     num_examples_per_domain_per_label=100,\n",
    "#     pickle_path=os.path.join(get_datasets_base_path(), \"oracle.Run2_framed_2000Examples_stratified_ds.2022A.pkl\"),\n",
    "#     source_or_target_dataset=\"source\",\n",
    "#     x_transform_func=global_x_transform_func,\n",
    "#     domain_modifier=lambda u: f\"oracle2_{u}\"\n",
    "# )"
   ]
  },
  {
   "cell_type": "code",
   "execution_count": 17,
   "id": "6f289866",
   "metadata": {
    "execution": {
     "iopub.execute_input": "2022-03-18T22:14:54.742098Z",
     "iopub.status.busy": "2022-03-18T22:14:54.741850Z",
     "iopub.status.idle": "2022-03-18T22:14:54.751857Z",
     "shell.execute_reply": "2022-03-18T22:14:54.751639Z"
    },
    "papermill": {
     "duration": 0.025039,
     "end_time": "2022-03-18T22:14:54.751905",
     "exception": false,
     "start_time": "2022-03-18T22:14:54.726866",
     "status": "completed"
    },
    "tags": []
   },
   "outputs": [],
   "source": [
    "# add_dataset(\n",
    "#     labels=list(range(19)),\n",
    "#     domains = [0,1,2],\n",
    "#     num_examples_per_domain_per_label=100,\n",
    "#     pickle_path=os.path.join(get_datasets_base_path(), \"metehan.stratified_ds.2022A.pkl\"),\n",
    "#     source_or_target_dataset=\"target\",\n",
    "#     x_transform_func=global_x_transform_func,\n",
    "#     domain_modifier=lambda u: f\"met_{u}\"\n",
    "# )"
   ]
  },
  {
   "cell_type": "code",
   "execution_count": 18,
   "id": "86a863c3",
   "metadata": {
    "execution": {
     "iopub.execute_input": "2022-03-18T22:14:54.783871Z",
     "iopub.status.busy": "2022-03-18T22:14:54.783622Z",
     "iopub.status.idle": "2022-03-18T22:14:54.799432Z",
     "shell.execute_reply": "2022-03-18T22:14:54.799036Z"
    },
    "papermill": {
     "duration": 0.031538,
     "end_time": "2022-03-18T22:14:54.799520",
     "exception": false,
     "start_time": "2022-03-18T22:14:54.767982",
     "status": "completed"
    },
    "tags": []
   },
   "outputs": [],
   "source": [
    "# # from steves_utils.wisig.utils import (\n",
    "# #     ALL_NODES_MINIMUM_100_EXAMPLES,\n",
    "# #     ALL_NODES_MINIMUM_500_EXAMPLES,\n",
    "# #     ALL_NODES_MINIMUM_1000_EXAMPLES,\n",
    "# #     ALL_DAYS\n",
    "# # )\n",
    "\n",
    "# import steves_utils.wisig.utils as wisig\n",
    "\n",
    "\n",
    "# add_dataset(\n",
    "#     labels=wisig.ALL_NODES_MINIMUM_100_EXAMPLES,\n",
    "#     domains = wisig.ALL_DAYS,\n",
    "#     num_examples_per_domain_per_label=100,\n",
    "#     pickle_path=os.path.join(get_datasets_base_path(), \"wisig.node3-19.stratified_ds.2022A.pkl\"),\n",
    "#     source_or_target_dataset=\"target\",\n",
    "#     x_transform_func=global_x_transform_func,\n",
    "#     domain_modifier=lambda u: f\"wisig_{u}\"\n",
    "# )"
   ]
  },
  {
   "cell_type": "code",
   "execution_count": 19,
   "id": "fd5442bc",
   "metadata": {
    "execution": {
     "iopub.execute_input": "2022-03-18T22:14:54.833663Z",
     "iopub.status.busy": "2022-03-18T22:14:54.833403Z",
     "iopub.status.idle": "2022-03-18T22:14:54.844043Z",
     "shell.execute_reply": "2022-03-18T22:14:54.844389Z"
    },
    "papermill": {
     "duration": 0.027914,
     "end_time": "2022-03-18T22:14:54.844493",
     "exception": false,
     "start_time": "2022-03-18T22:14:54.816579",
     "status": "completed"
    },
    "tags": []
   },
   "outputs": [],
   "source": [
    "###################################\n",
    "# Build the dataset\n",
    "###################################\n",
    "train_original_source = Iterable_Aggregator(train_original_source, p.seed)\n",
    "val_original_source = Iterable_Aggregator(val_original_source, p.seed)\n",
    "test_original_source = Iterable_Aggregator(test_original_source, p.seed)\n",
    "\n",
    "\n",
    "train_original_target = Iterable_Aggregator(train_original_target, p.seed)\n",
    "val_original_target = Iterable_Aggregator(val_original_target, p.seed)\n",
    "test_original_target = Iterable_Aggregator(test_original_target, p.seed)\n",
    "\n",
    "# For CNN We only use X and Y. And we only train on the source.\n",
    "# Properly form the data using a transform lambda and Lazy_Iterable_Wrapper. Finally wrap them in a dataloader\n",
    "\n",
    "transform_lambda = lambda ex: ex[1] # Original is (<domain>, <episode>) so we strip down to episode only\n",
    "\n",
    "train_processed_source = Lazy_Iterable_Wrapper(train_original_source, transform_lambda)\n",
    "val_processed_source   = Lazy_Iterable_Wrapper(val_original_source, transform_lambda)\n",
    "test_processed_source  = Lazy_Iterable_Wrapper(test_original_source, transform_lambda)\n",
    "\n",
    "train_processed_target = Lazy_Iterable_Wrapper(train_original_target, transform_lambda)\n",
    "val_processed_target   = Lazy_Iterable_Wrapper(val_original_target, transform_lambda)\n",
    "test_processed_target  = Lazy_Iterable_Wrapper(test_original_target, transform_lambda)\n",
    "\n",
    "datasets = EasyDict({\n",
    "    \"source\": {\n",
    "        \"original\": {\"train\":train_original_source, \"val\":val_original_source, \"test\":test_original_source},\n",
    "        \"processed\": {\"train\":train_processed_source, \"val\":val_processed_source, \"test\":test_processed_source}\n",
    "    },\n",
    "    \"target\": {\n",
    "        \"original\": {\"train\":train_original_target, \"val\":val_original_target, \"test\":test_original_target},\n",
    "        \"processed\": {\"train\":train_processed_target, \"val\":val_processed_target, \"test\":test_processed_target}\n",
    "    },\n",
    "})"
   ]
  },
  {
   "cell_type": "code",
   "execution_count": 20,
   "id": "5b3c01fc",
   "metadata": {
    "execution": {
     "iopub.execute_input": "2022-03-18T22:14:54.880256Z",
     "iopub.status.busy": "2022-03-18T22:14:54.880008Z",
     "iopub.status.idle": "2022-03-18T22:14:59.619588Z",
     "shell.execute_reply": "2022-03-18T22:14:59.620049Z"
    },
    "papermill": {
     "duration": 4.75697,
     "end_time": "2022-03-18T22:14:59.620192",
     "exception": false,
     "start_time": "2022-03-18T22:14:54.863222",
     "status": "completed"
    },
    "tags": []
   },
   "outputs": [
    {
     "name": "stdout",
     "output_type": "stream",
     "text": [
      "{'C_A_1', 'W_A_3', 'W_A_4', 'C_A_5', 'C_A_4', 'C_A_3', 'W_A_2', 'W_A_1', 'C_A_2'}\n"
     ]
    },
    {
     "name": "stdout",
     "output_type": "stream",
     "text": [
      "{'ORACLE.run1_44', 'ORACLE.run1_14', 'ORACLE.run1_32', 'ORACLE.run1_26', 'ORACLE.run1_38', 'ORACLE.run1_8', 'ORACLE.run1_20', 'ORACLE.run1_50'}\n"
     ]
    },
    {
     "name": "stdout",
     "output_type": "stream",
     "text": [
      "tensor([[[ 0.1628, -0.5122, -0.8764,  ...,  0.4115, -0.8024, -1.6195],\n",
      "         [ 0.1273,  0.4648, -0.8172,  ...,  1.4419,  1.3027, -0.4826]],\n",
      "\n",
      "        [[-0.0716, -1.3453, -0.0372,  ...,  0.5782, -1.0591,  0.3578],\n",
      "         [ 1.0877,  0.0515, -1.2280,  ...,  1.5772,  0.7499, -0.4723]],\n",
      "\n",
      "        [[-0.1399,  0.2069,  1.0549,  ..., -0.5770,  0.2535,  1.7396],\n",
      "         [-0.0350, -0.5245,  0.3817,  ..., -1.2122, -1.5357, -0.0728]],\n",
      "\n",
      "        ...,\n",
      "\n",
      "        [[ 0.2082, -0.0652, -0.2889,  ..., -0.4505, -0.6617, -0.4971],\n",
      "         [ 0.1118, -0.0590, -0.1522,  ..., -0.5250, -0.4629, -0.1709]],\n",
      "\n",
      "        [[ 0.4584,  0.2385,  0.5173,  ...,  0.3717, -0.0217, -1.0439],\n",
      "         [ 0.0496, -0.2819, -0.3996,  ...,  0.2354, -0.5421, -0.5669]],\n",
      "\n",
      "        [[ 0.4402,  0.4587,  0.1662,  ..., -0.0246,  0.4094, -0.3633],\n",
      "         [ 0.5418, -0.1262, -0.4279,  ...,  0.4741,  0.0339, -0.4556]]])\n"
     ]
    }
   ],
   "source": [
    "from steves_utils.transforms import get_average_magnitude, get_average_power\n",
    "\n",
    "print(set([u for u,_ in val_original_source]))\n",
    "print(set([u for u,_ in val_original_target]))\n",
    "\n",
    "s_x, s_y, q_x, q_y, _ = next(iter(train_processed_source))\n",
    "print(s_x)\n",
    "\n",
    "# for ds in [\n",
    "#     train_processed_source,\n",
    "#     val_processed_source,\n",
    "#     test_processed_source,\n",
    "#     train_processed_target,\n",
    "#     val_processed_target,\n",
    "#     test_processed_target\n",
    "# ]:\n",
    "#     for s_x, s_y, q_x, q_y, _ in ds:\n",
    "#         for X in (s_x, q_x):\n",
    "#             for x in X:\n",
    "#                 assert np.isclose(get_average_magnitude(x.numpy()), 1.0)\n",
    "#                 assert np.isclose(get_average_power(x.numpy()), 1.0)\n",
    "                "
   ]
  },
  {
   "cell_type": "code",
   "execution_count": 21,
   "id": "bbdacba1",
   "metadata": {
    "execution": {
     "iopub.execute_input": "2022-03-18T22:14:59.664441Z",
     "iopub.status.busy": "2022-03-18T22:14:59.664183Z",
     "iopub.status.idle": "2022-03-18T22:14:59.718392Z",
     "shell.execute_reply": "2022-03-18T22:14:59.718741Z"
    },
    "papermill": {
     "duration": 0.074879,
     "end_time": "2022-03-18T22:14:59.718859",
     "exception": false,
     "start_time": "2022-03-18T22:14:59.643980",
     "status": "completed"
    },
    "tags": []
   },
   "outputs": [
    {
     "name": "stdout",
     "output_type": "stream",
     "text": [
      "(2, 200)\n"
     ]
    }
   ],
   "source": [
    "###################################\n",
    "# Build the model\n",
    "###################################\n",
    "# easfsl only wants a tuple for the shape\n",
    "model = Steves_Prototypical_Network(x_net, device=p.device, x_shape=tuple(p.x_shape))\n",
    "optimizer = Adam(params=model.parameters(), lr=p.lr)"
   ]
  },
  {
   "cell_type": "code",
   "execution_count": 22,
   "id": "22b39ac5",
   "metadata": {
    "execution": {
     "iopub.execute_input": "2022-03-18T22:14:59.755076Z",
     "iopub.status.busy": "2022-03-18T22:14:59.754828Z",
     "iopub.status.idle": "2022-03-18T22:19:36.704893Z",
     "shell.execute_reply": "2022-03-18T22:19:36.704495Z"
    },
    "papermill": {
     "duration": 276.967473,
     "end_time": "2022-03-18T22:19:36.704998",
     "exception": false,
     "start_time": "2022-03-18T22:14:59.737525",
     "status": "completed"
    },
    "tags": []
   },
   "outputs": [
    {
     "name": "stdout",
     "output_type": "stream",
     "text": [
      "epoch: 1, [batch: 1 / 2083], examples_per_second: 123.5035, train_label_loss: 2.6828, \n"
     ]
    },
    {
     "name": "stdout",
     "output_type": "stream",
     "text": [
      "epoch: 1, [batch: 209 / 2083], examples_per_second: 3618.0363, train_label_loss: 0.1073, \n"
     ]
    },
    {
     "name": "stdout",
     "output_type": "stream",
     "text": [
      "epoch: 1, [batch: 417 / 2083], examples_per_second: 3659.0537, train_label_loss: 0.5896, \n"
     ]
    },
    {
     "name": "stdout",
     "output_type": "stream",
     "text": [
      "epoch: 1, [batch: 625 / 2083], examples_per_second: 3659.9225, train_label_loss: 0.1357, \n"
     ]
    },
    {
     "name": "stdout",
     "output_type": "stream",
     "text": [
      "epoch: 1, [batch: 833 / 2083], examples_per_second: 3672.2204, train_label_loss: 0.0278, \n"
     ]
    },
    {
     "name": "stdout",
     "output_type": "stream",
     "text": [
      "epoch: 1, [batch: 1042 / 2083], examples_per_second: 3637.8783, train_label_loss: 0.2710, \n"
     ]
    },
    {
     "name": "stdout",
     "output_type": "stream",
     "text": [
      "epoch: 1, [batch: 1250 / 2083], examples_per_second: 3666.6937, train_label_loss: 0.1052, \n"
     ]
    },
    {
     "name": "stdout",
     "output_type": "stream",
     "text": [
      "epoch: 1, [batch: 1458 / 2083], examples_per_second: 3681.4326, train_label_loss: 0.3126, \n"
     ]
    },
    {
     "name": "stdout",
     "output_type": "stream",
     "text": [
      "epoch: 1, [batch: 1666 / 2083], examples_per_second: 3626.8624, train_label_loss: 0.5086, \n"
     ]
    },
    {
     "name": "stdout",
     "output_type": "stream",
     "text": [
      "epoch: 1, [batch: 1874 / 2083], examples_per_second: 3658.4016, train_label_loss: 0.5145, \n"
     ]
    },
    {
     "name": "stdout",
     "output_type": "stream",
     "text": [
      "=============================================================\n",
      "epoch: 1, source_val_acc_label: 0.9496, target_val_acc_label: 0.2412, source_val_label_loss: 0.2239, target_val_label_loss: 2.2570, \n",
      "=============================================================\n"
     ]
    },
    {
     "name": "stdout",
     "output_type": "stream",
     "text": [
      "New best\n"
     ]
    },
    {
     "name": "stdout",
     "output_type": "stream",
     "text": [
      "epoch: 2, [batch: 1 / 2080], examples_per_second: 11.1730, train_label_loss: 0.1205, \n"
     ]
    },
    {
     "name": "stdout",
     "output_type": "stream",
     "text": [
      "epoch: 2, [batch: 208 / 2080], examples_per_second: 3615.2657, train_label_loss: 0.0147, \n"
     ]
    },
    {
     "name": "stdout",
     "output_type": "stream",
     "text": [
      "epoch: 2, [batch: 416 / 2080], examples_per_second: 3647.7283, train_label_loss: 0.3082, \n"
     ]
    },
    {
     "name": "stdout",
     "output_type": "stream",
     "text": [
      "epoch: 2, [batch: 624 / 2080], examples_per_second: 3636.0388, train_label_loss: 0.0080, \n"
     ]
    },
    {
     "name": "stdout",
     "output_type": "stream",
     "text": [
      "epoch: 2, [batch: 832 / 2080], examples_per_second: 3639.9524, train_label_loss: 0.2155, \n"
     ]
    },
    {
     "name": "stdout",
     "output_type": "stream",
     "text": [
      "epoch: 2, [batch: 1040 / 2080], examples_per_second: 3628.6791, train_label_loss: 0.5743, \n"
     ]
    },
    {
     "name": "stdout",
     "output_type": "stream",
     "text": [
      "epoch: 2, [batch: 1248 / 2080], examples_per_second: 3621.5019, train_label_loss: 0.0004, \n"
     ]
    },
    {
     "name": "stdout",
     "output_type": "stream",
     "text": [
      "epoch: 2, [batch: 1456 / 2080], examples_per_second: 3628.5106, train_label_loss: 0.1426, \n"
     ]
    },
    {
     "name": "stdout",
     "output_type": "stream",
     "text": [
      "epoch: 2, [batch: 1664 / 2080], examples_per_second: 3618.0916, train_label_loss: 0.2450, \n"
     ]
    },
    {
     "name": "stdout",
     "output_type": "stream",
     "text": [
      "epoch: 2, [batch: 1872 / 2080], examples_per_second: 3636.5685, train_label_loss: 0.3018, \n"
     ]
    },
    {
     "name": "stdout",
     "output_type": "stream",
     "text": [
      "=============================================================\n",
      "epoch: 2, source_val_acc_label: 0.9665, target_val_acc_label: 0.2262, source_val_label_loss: 0.1499, target_val_label_loss: 2.3376, \n",
      "=============================================================\n"
     ]
    },
    {
     "name": "stdout",
     "output_type": "stream",
     "text": [
      "epoch: 3, [batch: 1 / 2076], examples_per_second: 11.2183, train_label_loss: 0.1092, \n"
     ]
    },
    {
     "name": "stdout",
     "output_type": "stream",
     "text": [
      "epoch: 3, [batch: 208 / 2076], examples_per_second: 3642.5867, train_label_loss: 0.0085, \n"
     ]
    },
    {
     "name": "stdout",
     "output_type": "stream",
     "text": [
      "epoch: 3, [batch: 416 / 2076], examples_per_second: 3663.7329, train_label_loss: 0.0042, \n"
     ]
    },
    {
     "name": "stdout",
     "output_type": "stream",
     "text": [
      "epoch: 3, [batch: 623 / 2076], examples_per_second: 3624.2065, train_label_loss: 0.0162, \n"
     ]
    },
    {
     "name": "stdout",
     "output_type": "stream",
     "text": [
      "epoch: 3, [batch: 831 / 2076], examples_per_second: 3631.8281, train_label_loss: 0.0047, \n"
     ]
    },
    {
     "name": "stdout",
     "output_type": "stream",
     "text": [
      "epoch: 3, [batch: 1038 / 2076], examples_per_second: 3628.1678, train_label_loss: 0.3547, \n"
     ]
    },
    {
     "name": "stdout",
     "output_type": "stream",
     "text": [
      "epoch: 3, [batch: 1246 / 2076], examples_per_second: 3649.7516, train_label_loss: 0.3217, \n"
     ]
    },
    {
     "name": "stdout",
     "output_type": "stream",
     "text": [
      "epoch: 3, [batch: 1453 / 2076], examples_per_second: 3631.4544, train_label_loss: 0.0714, \n"
     ]
    },
    {
     "name": "stdout",
     "output_type": "stream",
     "text": [
      "epoch: 3, [batch: 1661 / 2076], examples_per_second: 3587.0106, train_label_loss: 0.1548, \n"
     ]
    },
    {
     "name": "stdout",
     "output_type": "stream",
     "text": [
      "epoch: 3, [batch: 1868 / 2076], examples_per_second: 3642.0414, train_label_loss: 0.2041, \n"
     ]
    },
    {
     "name": "stdout",
     "output_type": "stream",
     "text": [
      "=============================================================\n",
      "epoch: 3, source_val_acc_label: 0.9699, target_val_acc_label: 0.1965, source_val_label_loss: 0.1316, target_val_label_loss: 2.4688, \n",
      "=============================================================\n"
     ]
    },
    {
     "name": "stdout",
     "output_type": "stream",
     "text": [
      "epoch: 4, [batch: 1 / 2077], examples_per_second: 11.1956, train_label_loss: 0.0112, \n"
     ]
    },
    {
     "name": "stdout",
     "output_type": "stream",
     "text": [
      "epoch: 4, [batch: 208 / 2077], examples_per_second: 3628.8364, train_label_loss: 0.0076, \n"
     ]
    },
    {
     "name": "stdout",
     "output_type": "stream",
     "text": [
      "epoch: 4, [batch: 416 / 2077], examples_per_second: 3649.2295, train_label_loss: 0.0011, \n"
     ]
    },
    {
     "name": "stdout",
     "output_type": "stream",
     "text": [
      "epoch: 4, [batch: 623 / 2077], examples_per_second: 3679.9099, train_label_loss: 0.1264, \n"
     ]
    },
    {
     "name": "stdout",
     "output_type": "stream",
     "text": [
      "epoch: 4, [batch: 831 / 2077], examples_per_second: 3650.9882, train_label_loss: 0.0775, \n"
     ]
    },
    {
     "name": "stdout",
     "output_type": "stream",
     "text": [
      "epoch: 4, [batch: 1039 / 2077], examples_per_second: 3641.7121, train_label_loss: 0.0008, \n"
     ]
    },
    {
     "name": "stdout",
     "output_type": "stream",
     "text": [
      "epoch: 4, [batch: 1246 / 2077], examples_per_second: 3664.7653, train_label_loss: 0.2269, \n"
     ]
    },
    {
     "name": "stdout",
     "output_type": "stream",
     "text": [
      "epoch: 4, [batch: 1454 / 2077], examples_per_second: 3661.5673, train_label_loss: 0.0090, \n"
     ]
    },
    {
     "name": "stdout",
     "output_type": "stream",
     "text": [
      "epoch: 4, [batch: 1661 / 2077], examples_per_second: 3607.4939, train_label_loss: 0.2358, \n"
     ]
    },
    {
     "name": "stdout",
     "output_type": "stream",
     "text": [
      "epoch: 4, [batch: 1869 / 2077], examples_per_second: 3694.6583, train_label_loss: 0.0369, \n"
     ]
    },
    {
     "name": "stdout",
     "output_type": "stream",
     "text": [
      "=============================================================\n",
      "epoch: 4, source_val_acc_label: 0.9747, target_val_acc_label: 0.1969, source_val_label_loss: 0.1263, target_val_label_loss: 2.5014, \n",
      "=============================================================\n"
     ]
    },
    {
     "name": "stdout",
     "output_type": "stream",
     "text": [
      "epoch: 5, [batch: 1 / 2080], examples_per_second: 11.2461, train_label_loss: 0.0097, \n"
     ]
    },
    {
     "name": "stdout",
     "output_type": "stream",
     "text": [
      "epoch: 5, [batch: 208 / 2080], examples_per_second: 3606.7304, train_label_loss: 0.0359, \n"
     ]
    },
    {
     "name": "stdout",
     "output_type": "stream",
     "text": [
      "epoch: 5, [batch: 416 / 2080], examples_per_second: 3635.9603, train_label_loss: 0.0009, \n"
     ]
    },
    {
     "name": "stdout",
     "output_type": "stream",
     "text": [
      "epoch: 5, [batch: 624 / 2080], examples_per_second: 3625.2417, train_label_loss: 0.2137, \n"
     ]
    },
    {
     "name": "stdout",
     "output_type": "stream",
     "text": [
      "epoch: 5, [batch: 832 / 2080], examples_per_second: 3637.3537, train_label_loss: 0.1018, \n"
     ]
    },
    {
     "name": "stdout",
     "output_type": "stream",
     "text": [
      "epoch: 5, [batch: 1040 / 2080], examples_per_second: 3619.9928, train_label_loss: 0.0120, \n"
     ]
    },
    {
     "name": "stdout",
     "output_type": "stream",
     "text": [
      "epoch: 5, [batch: 1248 / 2080], examples_per_second: 3651.5305, train_label_loss: 0.0084, \n"
     ]
    },
    {
     "name": "stdout",
     "output_type": "stream",
     "text": [
      "epoch: 5, [batch: 1456 / 2080], examples_per_second: 3604.6438, train_label_loss: 0.0471, \n"
     ]
    },
    {
     "name": "stdout",
     "output_type": "stream",
     "text": [
      "epoch: 5, [batch: 1664 / 2080], examples_per_second: 3648.6942, train_label_loss: 0.0121, \n"
     ]
    },
    {
     "name": "stdout",
     "output_type": "stream",
     "text": [
      "epoch: 5, [batch: 1872 / 2080], examples_per_second: 3648.9937, train_label_loss: 0.3334, \n"
     ]
    },
    {
     "name": "stdout",
     "output_type": "stream",
     "text": [
      "=============================================================\n",
      "epoch: 5, source_val_acc_label: 0.9745, target_val_acc_label: 0.1900, source_val_label_loss: 0.1165, target_val_label_loss: 2.6348, \n",
      "=============================================================\n"
     ]
    },
    {
     "name": "stdout",
     "output_type": "stream",
     "text": [
      "Patience (3) exhausted\n"
     ]
    }
   ],
   "source": [
    "###################################\n",
    "# train\n",
    "###################################\n",
    "jig = PTN_Train_Eval_Test_Jig(model, p.BEST_MODEL_PATH, p.device)\n",
    "\n",
    "jig.train(\n",
    "    train_iterable=datasets.source.processed.train,\n",
    "    source_val_iterable=datasets.source.processed.val,\n",
    "    target_val_iterable=datasets.target.processed.val,\n",
    "    num_epochs=p.n_epoch,\n",
    "    num_logs_per_epoch=p.NUM_LOGS_PER_EPOCH,\n",
    "    patience=p.patience,\n",
    "    optimizer=optimizer,\n",
    "    criteria_for_best=p.criteria_for_best,\n",
    ")"
   ]
  },
  {
   "cell_type": "code",
   "execution_count": 23,
   "id": "31e8fabf",
   "metadata": {
    "execution": {
     "iopub.execute_input": "2022-03-18T22:19:36.761275Z",
     "iopub.status.busy": "2022-03-18T22:19:36.761018Z",
     "iopub.status.idle": "2022-03-18T22:19:36.775987Z",
     "shell.execute_reply": "2022-03-18T22:19:36.775739Z"
    },
    "papermill": {
     "duration": 0.041572,
     "end_time": "2022-03-18T22:19:36.776037",
     "exception": false,
     "start_time": "2022-03-18T22:19:36.734465",
     "status": "completed"
    },
    "tags": []
   },
   "outputs": [],
   "source": [
    "total_experiment_time_secs = time.time() - start_time_secs"
   ]
  },
  {
   "cell_type": "code",
   "execution_count": 24,
   "id": "87b9595b",
   "metadata": {
    "execution": {
     "iopub.execute_input": "2022-03-18T22:19:36.831426Z",
     "iopub.status.busy": "2022-03-18T22:19:36.831141Z",
     "iopub.status.idle": "2022-03-18T22:20:39.294772Z",
     "shell.execute_reply": "2022-03-18T22:20:39.295207Z"
    },
    "papermill": {
     "duration": 62.492398,
     "end_time": "2022-03-18T22:20:39.295358",
     "exception": false,
     "start_time": "2022-03-18T22:19:36.802960",
     "status": "completed"
    },
    "tags": []
   },
   "outputs": [],
   "source": [
    "###################################\n",
    "# Evaluate the model\n",
    "###################################\n",
    "source_test_label_accuracy, source_test_label_loss = jig.test(datasets.source.processed.test)\n",
    "target_test_label_accuracy, target_test_label_loss = jig.test(datasets.target.processed.test)\n",
    "\n",
    "source_val_label_accuracy, source_val_label_loss = jig.test(datasets.source.processed.val)\n",
    "target_val_label_accuracy, target_val_label_loss = jig.test(datasets.target.processed.val)\n",
    "\n",
    "history = jig.get_history()\n",
    "\n",
    "total_epochs_trained = len(history[\"epoch_indices\"])\n",
    "\n",
    "val_dl = Iterable_Aggregator((datasets.source.original.val,datasets.target.original.val))\n",
    "\n",
    "confusion = ptn_confusion_by_domain_over_dataloader(model, p.device, val_dl)\n",
    "per_domain_accuracy = per_domain_accuracy_from_confusion(confusion)\n",
    "\n",
    "# Add a key to per_domain_accuracy for if it was a source domain\n",
    "for domain, accuracy in per_domain_accuracy.items():\n",
    "    per_domain_accuracy[domain] = {\n",
    "        \"accuracy\": accuracy,\n",
    "        \"source?\": domain in p.domains_source\n",
    "    }\n",
    "\n",
    "# Do an independent accuracy assesment JUST TO BE SURE!\n",
    "# _source_test_label_accuracy = independent_accuracy_assesment(model, datasets.source.processed.test, p.device)\n",
    "# _target_test_label_accuracy = independent_accuracy_assesment(model, datasets.target.processed.test, p.device)\n",
    "# _source_val_label_accuracy = independent_accuracy_assesment(model, datasets.source.processed.val, p.device)\n",
    "# _target_val_label_accuracy = independent_accuracy_assesment(model, datasets.target.processed.val, p.device)\n",
    "\n",
    "# assert(_source_test_label_accuracy == source_test_label_accuracy)\n",
    "# assert(_target_test_label_accuracy == target_test_label_accuracy)\n",
    "# assert(_source_val_label_accuracy == source_val_label_accuracy)\n",
    "# assert(_target_val_label_accuracy == target_val_label_accuracy)\n",
    "\n",
    "experiment = {\n",
    "    \"experiment_name\": p.experiment_name,\n",
    "    \"parameters\": dict(p),\n",
    "    \"results\": {\n",
    "        \"source_test_label_accuracy\": source_test_label_accuracy,\n",
    "        \"source_test_label_loss\": source_test_label_loss,\n",
    "        \"target_test_label_accuracy\": target_test_label_accuracy,\n",
    "        \"target_test_label_loss\": target_test_label_loss,\n",
    "        \"source_val_label_accuracy\": source_val_label_accuracy,\n",
    "        \"source_val_label_loss\": source_val_label_loss,\n",
    "        \"target_val_label_accuracy\": target_val_label_accuracy,\n",
    "        \"target_val_label_loss\": target_val_label_loss,\n",
    "        \"total_epochs_trained\": total_epochs_trained,\n",
    "        \"total_experiment_time_secs\": total_experiment_time_secs,\n",
    "        \"confusion\": confusion,\n",
    "        \"per_domain_accuracy\": per_domain_accuracy,\n",
    "    },\n",
    "    \"history\": history,\n",
    "    \"dataset_metrics\": get_dataset_metrics(datasets, \"ptn\"),\n",
    "}"
   ]
  },
  {
   "cell_type": "code",
   "execution_count": 25,
   "id": "54a21829",
   "metadata": {
    "execution": {
     "iopub.execute_input": "2022-03-18T22:20:39.360372Z",
     "iopub.status.busy": "2022-03-18T22:20:39.353102Z",
     "iopub.status.idle": "2022-03-18T22:20:39.474277Z",
     "shell.execute_reply": "2022-03-18T22:20:39.474684Z"
    },
    "papermill": {
     "duration": 0.148734,
     "end_time": "2022-03-18T22:20:39.474812",
     "exception": false,
     "start_time": "2022-03-18T22:20:39.326078",
     "status": "completed"
    },
    "tags": []
   },
   "outputs": [
    {
     "data": {
      "image/png": "[encoded data removed]",
      "text/plain": [
       "<Figure size 1080x504 with 1 Axes>"
      ]
     },
     "metadata": {
      "needs_background": "light"
     },
     "output_type": "display_data"
    }
   ],
   "source": [
    "ax = get_loss_curve(experiment)\n",
    "plt.show()"
   ]
  },
  {
   "cell_type": "code",
   "execution_count": 26,
   "id": "fd8a0f60",
   "metadata": {
    "execution": {
     "iopub.execute_input": "2022-03-18T22:20:39.535128Z",
     "iopub.status.busy": "2022-03-18T22:20:39.534874Z",
     "iopub.status.idle": "2022-03-18T22:20:39.677314Z",
     "shell.execute_reply": "2022-03-18T22:20:39.677087Z"
    },
    "papermill": {
     "duration": 0.171684,
     "end_time": "2022-03-18T22:20:39.677378",
     "exception": false,
     "start_time": "2022-03-18T22:20:39.505694",
     "status": "completed"
    },
    "tags": []
   },
   "outputs": [
    {
     "data": {
      "text/plain": [
       "<AxesSubplot:title={'center':'Results'}>"
      ]
     },
     "execution_count": 26,
     "metadata": {},
     "output_type": "execute_result"
    },
    {
     "data": {
      "image/png": "[encoded data removed]",
      "text/plain": [
       "<Figure size 1080x504 with 1 Axes>"
      ]
     },
     "metadata": {
      "needs_background": "light"
     },
     "output_type": "display_data"
    }
   ],
   "source": [
    "get_results_table(experiment)"
   ]
  },
  {
   "cell_type": "code",
   "execution_count": 27,
   "id": "cf8dc689",
   "metadata": {
    "execution": {
     "iopub.execute_input": "2022-03-18T22:20:39.734606Z",
     "iopub.status.busy": "2022-03-18T22:20:39.733966Z",
     "iopub.status.idle": "2022-03-18T22:20:39.896395Z",
     "shell.execute_reply": "2022-03-18T22:20:39.896802Z"
    },
    "papermill": {
     "duration": 0.191865,
     "end_time": "2022-03-18T22:20:39.896933",
     "exception": false,
     "start_time": "2022-03-18T22:20:39.705068",
     "status": "completed"
    },
    "tags": []
   },
   "outputs": [
    {
     "data": {
      "text/plain": [
       "<AxesSubplot:title={'center':'Per Domain Validation Accuracy'}, xlabel='domain'>"
      ]
     },
     "execution_count": 27,
     "metadata": {},
     "output_type": "execute_result"
    },
    {
     "data": {
      "image/png": "[encoded data removed]",
      "text/plain": [
       "<Figure size 1080x504 with 1 Axes>"
      ]
     },
     "metadata": {
      "needs_background": "light"
     },
     "output_type": "display_data"
    }
   ],
   "source": [
    "get_domain_accuracies(experiment)"
   ]
  },
  {
   "cell_type": "code",
   "execution_count": 28,
   "id": "a74ae082",
   "metadata": {
    "execution": {
     "iopub.execute_input": "2022-03-18T22:20:39.958378Z",
     "iopub.status.busy": "2022-03-18T22:20:39.958111Z",
     "iopub.status.idle": "2022-03-18T22:20:39.975714Z",
     "shell.execute_reply": "2022-03-18T22:20:39.975304Z"
    },
    "papermill": {
     "duration": 0.047478,
     "end_time": "2022-03-18T22:20:39.975819",
     "exception": false,
     "start_time": "2022-03-18T22:20:39.928341",
     "status": "completed"
    },
    "tags": []
   },
   "outputs": [
    {
     "name": "stdout",
     "output_type": "stream",
     "text": [
      "Source Test Label Accuracy: 0.9437285223367697 Target Test Label Accuracy: 0.24039713541666666\n",
      "Source Val Label Accuracy: 0.9496348797250859 Target Val Label Accuracy: 0.2412109375\n"
     ]
    }
   ],
   "source": [
    "print(\"Source Test Label Accuracy:\", experiment[\"results\"][\"source_test_label_accuracy\"], \"Target Test Label Accuracy:\", experiment[\"results\"][\"target_test_label_accuracy\"])\n",
    "print(\"Source Val Label Accuracy:\", experiment[\"results\"][\"source_val_label_accuracy\"], \"Target Val Label Accuracy:\", experiment[\"results\"][\"target_val_label_accuracy\"])"
   ]
  },
  {
   "cell_type": "code",
   "execution_count": 29,
   "id": "dacca602",
   "metadata": {
    "execution": {
     "iopub.execute_input": "2022-03-18T22:20:40.037707Z",
     "iopub.status.busy": "2022-03-18T22:20:40.037436Z",
     "iopub.status.idle": "2022-03-18T22:20:40.051191Z",
     "shell.execute_reply": "2022-03-18T22:20:40.051534Z"
    },
    "papermill": {
     "duration": 0.043796,
     "end_time": "2022-03-18T22:20:40.051635",
     "exception": false,
     "start_time": "2022-03-18T22:20:40.007839",
     "status": "completed"
    },
    "tags": [
     "experiment_json"
    ]
   },
   "outputs": [
    {
     "data": {
      "text/plain": [
       "'{\"experiment_name\": \"tl_3A:cores+wisig -> oracle.run1.framed\", \"parameters\": {\"experiment_name\": \"tl_3A:cores+wisig -> oracle.run1.framed\", \"device\": \"cuda\", \"lr\": 0.001, \"x_shape\": [2, 200], \"n_shot\": 3, \"n_query\": 2, \"train_k_factor\": 3, \"val_k_factor\": 2, \"test_k_factor\": 2, \"torch_default_dtype\": \"torch.float32\", \"n_epoch\": 50, \"patience\": 3, \"criteria_for_best\": \"target_loss\", \"x_net\": [{\"class\": \"nnReshape\", \"kargs\": {\"shape\": [-1, 1, 2, 200]}}, {\"class\": \"Conv2d\", \"kargs\": {\"in_channels\": 1, \"out_channels\": 256, \"kernel_size\": [1, 7], \"bias\": false, \"padding\": [0, 3]}}, {\"class\": \"ReLU\", \"kargs\": {\"inplace\": true}}, {\"class\": \"BatchNorm2d\", \"kargs\": {\"num_features\": 256}}, {\"class\": \"Conv2d\", \"kargs\": {\"in_channels\": 256, \"out_channels\": 80, \"kernel_size\": [2, 7], \"bias\": true, \"padding\": [0, 3]}}, {\"class\": \"ReLU\", \"kargs\": {\"inplace\": true}}, {\"class\": \"BatchNorm2d\", \"kargs\": {\"num_features\": 80}}, {\"class\": \"Flatten\", \"kargs\": {}}, {\"class\": \"Linear\", \"kargs\": {\"in_features\": 16000, \"out_features\": 256}}, {\"class\": \"ReLU\", \"kargs\": {\"inplace\": true}}, {\"class\": \"BatchNorm1d\", \"kargs\": {\"num_features\": 256}}, {\"class\": \"Linear\", \"kargs\": {\"in_features\": 256, \"out_features\": 256}}], \"NUM_LOGS_PER_EPOCH\": 10, \"BEST_MODEL_PATH\": \"./best_model.pth\", \"n_way\": 16, \"datasets\": [{\"labels\": [\"1-10.\", \"1-11.\", \"1-15.\", \"1-16.\", \"1-17.\", \"1-18.\", \"1-19.\", \"10-4.\", \"10-7.\", \"11-1.\", \"11-14.\", \"11-17.\", \"11-20.\", \"11-7.\", \"13-20.\", \"13-8.\", \"14-10.\", \"14-11.\", \"14-14.\", \"14-7.\", \"15-1.\", \"15-20.\", \"16-1.\", \"16-16.\", \"17-10.\", \"17-11.\", \"17-2.\", \"19-1.\", \"19-16.\", \"19-19.\", \"19-20.\", \"19-3.\", \"2-10.\", \"2-11.\", \"2-17.\", \"2-18.\", \"2-20.\", \"2-3.\", \"2-4.\", \"2-5.\", \"2-6.\", \"2-7.\", \"2-8.\", \"3-13.\", \"3-18.\", \"3-3.\", \"4-1.\", \"4-10.\", \"4-11.\", \"4-19.\", \"5-5.\", \"6-15.\", \"7-10.\", \"7-14.\", \"8-18.\", \"8-20.\", \"8-3.\", \"8-8.\"], \"domains\": [1, 2, 3, 4, 5], \"num_examples_per_domain_per_label\": 100, \"pickle_path\": \"/mnt/wd500GB/CSC500/csc500-main/datasets/cores.stratified_ds.2022A.pkl\", \"source_or_target_dataset\": \"source\", \"x_transforms\": [\"unit_power\", \"take_200\"], \"episode_transforms\": [], \"domain_prefix\": \"C_A_\"}, {\"labels\": [\"1-10\", \"1-12\", \"1-14\", \"1-16\", \"1-18\", \"1-19\", \"1-8\", \"10-11\", \"10-17\", \"10-4\", \"10-7\", \"11-1\", \"11-10\", \"11-19\", \"11-20\", \"11-4\", \"11-7\", \"12-19\", \"12-20\", \"12-7\", \"13-14\", \"13-18\", \"13-19\", \"13-20\", \"13-3\", \"13-7\", \"14-10\", \"14-11\", \"14-12\", \"14-13\", \"14-14\", \"14-19\", \"14-20\", \"14-7\", \"14-8\", \"14-9\", \"15-1\", \"15-19\", \"15-6\", \"16-1\", \"16-16\", \"16-19\", \"16-20\", \"17-10\", \"17-11\", \"18-1\", \"18-10\", \"18-11\", \"18-12\", \"18-13\", \"18-14\", \"18-15\", \"18-16\", \"18-17\", \"18-19\", \"18-2\", \"18-20\", \"18-4\", \"18-5\", \"18-7\", \"18-8\", \"18-9\", \"19-1\", \"19-10\", \"19-11\", \"19-12\", \"19-13\", \"19-14\", \"19-15\", \"19-19\", \"19-2\", \"19-20\", \"19-3\", \"19-4\", \"19-6\", \"19-7\", \"19-8\", \"19-9\", \"2-1\", \"2-13\", \"2-15\", \"2-3\", \"2-4\", \"2-5\", \"2-6\", \"2-7\", \"2-8\", \"20-1\", \"20-12\", \"20-14\", \"20-15\", \"20-16\", \"20-18\", \"20-19\", \"20-20\", \"20-3\", \"20-4\", \"20-5\", \"20-7\", \"20-8\", \"3-1\", \"3-13\", \"3-18\", \"3-2\", \"3-8\", \"4-1\", \"4-10\", \"4-11\", \"5-1\", \"5-5\", \"6-1\", \"6-15\", \"6-6\", \"7-10\", \"7-11\", \"7-12\", \"7-13\", \"7-14\", \"7-7\", \"7-8\", \"7-9\", \"8-1\", \"8-13\", \"8-14\", \"8-18\", \"8-20\", \"8-3\", \"8-8\", \"9-1\", \"9-7\"], \"domains\": [1, 2, 3, 4], \"num_examples_per_domain_per_label\": 100, \"pickle_path\": \"/mnt/wd500GB/CSC500/csc500-main/datasets/wisig.node3-19.stratified_ds.2022A.pkl\", \"source_or_target_dataset\": \"source\", \"x_transforms\": [\"unit_power\", \"take_200\"], \"episode_transforms\": [], \"domain_prefix\": \"W_A_\"}, {\"labels\": [\"3123D52\", \"3123D65\", \"3123D79\", \"3123D80\", \"3123D54\", \"3123D70\", \"3123D7B\", \"3123D89\", \"3123D58\", \"3123D76\", \"3123D7D\", \"3123EFE\", \"3123D64\", \"3123D78\", \"3123D7E\", \"3124E4A\"], \"domains\": [32, 38, 8, 44, 14, 50, 20, 26], \"num_examples_per_domain_per_label\": 2000, \"pickle_path\": \"/mnt/wd500GB/CSC500/csc500-main/datasets/oracle.Run1_framed_2000Examples_stratified_ds.2022A.pkl\", \"source_or_target_dataset\": \"target\", \"x_transforms\": [\"unit_power\", \"take_200\", \"resample_20Msps_to_25Msps\"], \"episode_transforms\": [], \"domain_prefix\": \"ORACLE.run1_\"}], \"seed\": 154325, \"dataset_seed\": 154325, \"domains_source\": [\"C_A_1\", \"C_A_2\", \"C_A_3\", \"C_A_4\", \"C_A_5\", \"W_A_1\", \"W_A_2\", \"W_A_3\", \"W_A_4\"], \"domains_target\": [\"ORACLE.run1_32\", \"ORACLE.run1_38\", \"ORACLE.run1_8\", \"ORACLE.run1_44\", \"ORACLE.run1_14\", \"ORACLE.run1_50\", \"ORACLE.run1_20\", \"ORACLE.run1_26\"]}, \"results\": {\"source_test_label_accuracy\": 0.9437285223367697, \"source_test_label_loss\": 0.25615769624710083, \"target_test_label_accuracy\": 0.24039713541666666, \"target_test_label_loss\": 2.258329153060913, \"source_val_label_accuracy\": 0.9496348797250859, \"source_val_label_loss\": 0.22394952178001404, \"target_val_label_accuracy\": 0.2412109375, \"target_val_label_loss\": 2.2569692134857178, \"total_epochs_trained\": 5, \"total_experiment_time_secs\": 320.9311032295227, \"confusion\": {\"C_A_2\": {\"21\": {\"21\": 9, \"53\": 1}, \"4\": {\"4\": 12}, \"6\": {\"6\": 12}, \"10\": {\"10\": 12}, \"33\": {\"33\": 10}, \"56\": {\"56\": 10}, \"20\": {\"20\": 12}, \"24\": {\"24\": 10}, \"45\": {\"45\": 10}, \"32\": {\"32\": 11, \"26\": 1}, \"27\": {\"27\": 12}, \"53\": {\"53\": 12}, \"8\": {\"8\": 12}, \"54\": {\"54\": 12}, \"50\": {\"50\": 11, \"54\": 1}, \"44\": {\"44\": 12}, \"5\": {\"5\": 10}, \"38\": {\"38\": 12}, \"19\": {\"19\": 12}, \"1\": {\"1\": 12}, \"30\": {\"30\": 12}, \"15\": {\"15\": 12}, \"23\": {\"23\": 12}, \"35\": {\"35\": 12}, \"22\": {\"22\": 12}, \"40\": {\"40\": 12}, \"46\": {\"46\": 8, \"48\": 1, \"52\": 1}, \"18\": {\"18\": 10}, \"25\": {\"25\": 12}, \"47\": {\"47\": 12}, \"52\": {\"52\": 8}, \"39\": {\"39\": 12}, \"17\": {\"17\": 12}, \"36\": {\"36\": 12}, \"7\": {\"7\": 12}, \"43\": {\"43\": 12}, \"3\": {\"3\": 9, \"18\": 1, \"50\": 2}, \"11\": {\"11\": 10}, \"55\": {\"55\": 12}, \"42\": {\"42\": 12}, \"51\": {\"51\": 12}, \"48\": {\"48\": 12}, \"57\": {\"57\": 12}, \"2\": {\"2\": 10}, \"16\": {\"16\": 10}, \"29\": {\"29\": 12}, \"12\": {\"12\": 12}, \"13\": {\"13\": 12}, \"37\": {\"37\": 12}, \"28\": {\"28\": 6}, \"14\": {\"55\": 1, \"14\": 9, \"1\": 1, \"0\": 1}, \"34\": {\"34\": 8}, \"41\": {\"41\": 10}, \"9\": {\"9\": 9, \"32\": 1}, \"49\": {\"49\": 6}, \"26\": {\"26\": 10}, \"0\": {\"0\": 10}, \"31\": {\"31\": 6}}, \"C_A_5\": {\"12\": {\"12\": 12}, \"8\": {\"8\": 12}, \"29\": {\"29\": 12}, \"57\": {\"57\": 12}, \"38\": {\"38\": 12}, \"23\": {\"23\": 10}, \"56\": {\"56\": 10}, \"49\": {\"49\": 10}, \"4\": {\"4\": 12}, \"48\": {\"48\": 12}, \"21\": {\"21\": 12}, \"30\": {\"30\": 8}, \"1\": {\"1\": 12}, \"34\": {\"34\": 12}, \"35\": {\"35\": 6}, \"55\": {\"55\": 12}, \"26\": {\"26\": 12}, \"40\": {\"40\": 12}, \"53\": {\"53\": 12}, \"46\": {\"46\": 12}, \"27\": {\"27\": 12}, \"28\": {\"28\": 10}, \"16\": {\"16\": 10}, \"2\": {\"2\": 12}, \"51\": {\"51\": 12}, \"50\": {\"26\": 2, \"50\": 7, \"18\": 2, \"9\": 1}, \"54\": {\"54\": 10}, \"5\": {\"5\": 12}, \"10\": {\"10\": 12}, \"43\": {\"43\": 10}, \"17\": {\"17\": 12}, \"45\": {\"45\": 12}, \"36\": {\"36\": 12}, \"19\": {\"19\": 8}, \"15\": {\"15\": 12}, \"20\": {\"20\": 12}, \"3\": {\"3\": 12}, \"14\": {\"55\": 1, \"16\": 1, \"14\": 8, \"34\": 1, \"5\": 1}, \"32\": {\"32\": 12}, \"7\": {\"7\": 12}, \"31\": {\"31\": 12}, \"44\": {\"44\": 12}, \"24\": {\"24\": 9, \"13\": 1}, \"39\": {\"39\": 8}, \"37\": {\"37\": 12}, \"33\": {\"33\": 12}, \"11\": {\"11\": 8}, \"18\": {\"18\": 12}, \"52\": {\"52\": 12}, \"9\": {\"18\": 1, \"9\": 10, \"6\": 1}, \"0\": {\"0\": 8}, \"6\": {\"6\": 12}, \"42\": {\"42\": 12}, \"13\": {\"13\": 9, \"52\": 1}, \"22\": {\"22\": 8}, \"25\": {\"25\": 8}, \"47\": {\"47\": 10}, \"41\": {\"41\": 10}}, \"W_A_2\": {\"56\": {\"56\": 11, \"15\": 1}, \"12\": {\"12\": 10, \"113\": 1, \"88\": 1}, \"15\": {\"15\": 11, \"127\": 1}, \"26\": {\"26\": 12}, \"82\": {\"82\": 11, \"21\": 1}, \"9\": {\"9\": 11, \"30\": 1}, \"49\": {\"49\": 9, \"25\": 1, \"27\": 1, \"41\": 1}, \"55\": {\"55\": 12}, \"102\": {\"102\": 12}, \"85\": {\"85\": 12}, \"73\": {\"73\": 11, \"129\": 1}, \"47\": {\"113\": 1, \"47\": 10, \"80\": 1}, \"20\": {\"20\": 12}, \"117\": {\"117\": 10}, \"122\": {\"122\": 11, \"129\": 1}, \"113\": {\"26\": 2, \"113\": 9, \"78\": 1}, \"87\": {\"87\": 11, \"14\": 1}, \"21\": {\"21\": 11, \"60\": 1}, \"106\": {\"106\": 10}, \"3\": {\"3\": 11, \"71\": 1}, \"126\": {\"126\": 12}, \"41\": {\"41\": 11, \"59\": 1}, \"76\": {\"76\": 10}, \"60\": {\"87\": 1, \"60\": 7, \"23\": 1, \"88\": 1, \"116\": 2}, \"94\": {\"94\": 12}, \"50\": {\"50\": 10, \"60\": 1, \"78\": 1}, \"97\": {\"12\": 1, \"97\": 9, \"101\": 1, \"24\": 1}, \"115\": {\"41\": 1, \"115\": 11}, \"38\": {\"38\": 12}, \"43\": {\"43\": 11, \"70\": 1}, \"67\": {\"67\": 8}, \"18\": {\"18\": 10}, \"23\": {\"43\": 1, \"16\": 1, \"23\": 3, \"56\": 1, \"123\": 1, \"17\": 1, \"52\": 2}, \"63\": {\"63\": 12}, \"127\": {\"127\": 11, \"84\": 1}, \"72\": {\"72\": 12}, \"128\": {\"128\": 9, \"71\": 2, \"85\": 1}, \"7\": {\"7\": 12}, \"108\": {\"108\": 12}, \"16\": {\"16\": 11, \"33\": 1}, \"103\": {\"103\": 12}, \"86\": {\"86\": 12}, \"62\": {\"62\": 12}, \"34\": {\"34\": 11, \"86\": 1}, \"129\": {\"129\": 12}, \"52\": {\"52\": 12}, \"35\": {\"35\": 12}, \"40\": {\"40\": 12}, \"105\": {\"105\": 12}, \"101\": {\"101\": 12}, \"45\": {\"45\": 12}, \"30\": {\"30\": 10, \"78\": 1, \"72\": 1}, \"6\": {\"6\": 8}, \"13\": {\"13\": 10, \"96\": 2}, \"17\": {\"95\": 1, \"17\": 9, \"39\": 1, \"69\": 1}, \"29\": {\"29\": 12}, \"121\": {\"121\": 9, \"65\": 1, \"72\": 1, \"113\": 1}, \"32\": {\"110\": 1, \"32\": 6, \"28\": 2, \"82\": 1, \"79\": 1, \"70\": 1}, \"112\": {\"128\": 1, \"112\": 9, \"108\": 2}, \"110\": {\"110\": 11, \"100\": 1}, \"95\": {\"95\": 12}, \"92\": {\"92\": 11, \"65\": 1}, \"8\": {\"8\": 12}, \"22\": {\"22\": 12}, \"57\": {\"57\": 12}, \"77\": {\"77\": 10}, \"1\": {\"1\": 10}, \"116\": {\"116\": 9, \"82\": 1, \"96\": 1, \"87\": 1}, \"28\": {\"28\": 11, \"1\": 1}, \"68\": {\"68\": 12}, \"89\": {\"89\": 8}, \"119\": {\"119\": 10, \"79\": 1, \"93\": 1}, \"11\": {\"11\": 11, \"78\": 1}, \"46\": {\"46\": 12}, \"123\": {\"123\": 10, \"11\": 1, \"21\": 1}, \"33\": {\"33\": 12}, \"91\": {\"91\": 12}, \"83\": {\"83\": 9, \"93\": 1}, \"90\": {\"90\": 12}, \"79\": {\"79\": 11, \"91\": 1}, \"19\": {\"19\": 12}, \"81\": {\"81\": 7, \"4\": 1}, \"53\": {\"53\": 8}, \"71\": {\"71\": 11, \"88\": 1}, \"124\": {\"124\": 12}, \"88\": {\"88\": 12}, \"36\": {\"36\": 12}, \"78\": {\"94\": 1, \"78\": 8, \"68\": 1, \"21\": 1, \"1\": 1}, \"5\": {\"5\": 12}, \"61\": {\"61\": 12}, \"25\": {\"25\": 10, \"78\": 1, \"49\": 1}, \"64\": {\"64\": 12}, \"39\": {\"39\": 11, \"5\": 1}, \"37\": {\"37\": 10, \"78\": 1, \"21\": 1}, \"59\": {\"59\": 10}, \"125\": {\"125\": 12}, \"31\": {\"31\": 10, \"96\": 1, \"24\": 1}, \"54\": {\"54\": 12}, \"100\": {\"100\": 12}, \"98\": {\"98\": 12}, \"96\": {\"96\": 11, \"16\": 1}, \"24\": {\"24\": 11, \"27\": 1}, \"104\": {\"104\": 12}, \"48\": {\"48\": 11, \"41\": 1}, \"80\": {\"80\": 11, \"118\": 1}, \"58\": {\"58\": 12}, \"14\": {\"14\": 6}, \"27\": {\"27\": 11, \"88\": 1}, \"69\": {\"69\": 10, \"82\": 1, \"43\": 1}, \"99\": {\"99\": 12}, \"51\": {\"6\": 2, \"36\": 1, \"51\": 8, \"97\": 1}, \"75\": {\"75\": 8}, \"109\": {\"109\": 9, \"52\": 1, \"21\": 1, \"41\": 1}, \"70\": {\"70\": 11, \"43\": 1}, \"120\": {\"120\": 12}, \"42\": {\"42\": 12}, \"10\": {\"10\": 8, \"70\": 2, \"60\": 1, \"102\": 1}, \"0\": {\"0\": 10}, \"44\": {\"44\": 12}, \"93\": {\"93\": 12}, \"84\": {\"84\": 12}, \"114\": {\"114\": 12}, \"66\": {\"66\": 12}, \"65\": {\"65\": 10, \"120\": 2}, \"111\": {\"111\": 12}, \"74\": {\"74\": 9, \"51\": 1}, \"2\": {\"2\": 12}, \"107\": {\"107\": 9, \"36\": 1}, \"4\": {\"4\": 12}, \"118\": {\"118\": 10}}, \"C_A_1\": {\"27\": {\"27\": 10}, \"2\": {\"2\": 12}, \"33\": {\"33\": 12}, \"45\": {\"45\": 12}, \"38\": {\"38\": 12}, \"4\": {\"4\": 12}, \"31\": {\"31\": 12}, \"55\": {\"55\": 12}, \"32\": {\"55\": 1, \"32\": 11}, \"57\": {\"57\": 12}, \"14\": {\"30\": 2, \"14\": 9, \"8\": 1}, \"16\": {\"16\": 10}, \"34\": {\"34\": 8}, \"56\": {\"56\": 12}, \"24\": {\"24\": 8, \"22\": 2}, \"30\": {\"30\": 10}, \"26\": {\"26\": 12}, \"15\": {\"15\": 8}, \"18\": {\"18\": 12}, \"25\": {\"25\": 10}, \"54\": {\"54\": 10}, \"39\": {\"39\": 12}, \"12\": {\"12\": 12}, \"41\": {\"41\": 12}, \"52\": {\"52\": 10}, \"21\": {\"21\": 12}, \"47\": {\"47\": 12}, \"49\": {\"49\": 12}, \"19\": {\"19\": 11, \"56\": 1}, \"23\": {\"23\": 12}, \"37\": {\"37\": 12}, \"44\": {\"44\": 10}, \"22\": {\"22\": 8, \"24\": 2, \"21\": 2}, \"35\": {\"35\": 12}, \"7\": {\"7\": 12}, \"40\": {\"40\": 8}, \"6\": {\"6\": 12}, \"13\": {\"13\": 12}, \"11\": {\"11\": 12}, \"20\": {\"20\": 12}, \"8\": {\"8\": 6}, \"42\": {\"42\": 8}, \"29\": {\"29\": 10}, \"28\": {\"28\": 10}, \"17\": {\"17\": 12}, \"10\": {\"10\": 10}, \"46\": {\"46\": 11, \"48\": 1}, \"36\": {\"36\": 12}, \"43\": {\"43\": 10}, \"51\": {\"51\": 10}, \"3\": {\"3\": 9, \"25\": 1}, \"9\": {\"9\": 12}, \"50\": {\"50\": 12}, \"48\": {\"48\": 10}, \"0\": {\"0\": 12}, \"1\": {\"1\": 12}, \"5\": {\"5\": 10}, \"53\": {\"53\": 10}}, \"W_A_4\": {\"32\": {\"32\": 12}, \"22\": {\"22\": 10, \"89\": 2}, \"69\": {\"69\": 12}, \"65\": {\"65\": 12}, \"91\": {\"91\": 8, \"85\": 2}, \"63\": {\"63\": 11, \"113\": 1}, \"127\": {\"127\": 12}, \"11\": {\"88\": 2, \"11\": 8}, \"12\": {\"12\": 9, \"30\": 1}, \"111\": {\"111\": 12}, \"53\": {\"53\": 12}, \"73\": {\"73\": 10, \"6\": 1, \"108\": 1}, \"3\": {\"3\": 11, \"71\": 1}, \"83\": {\"83\": 12}, \"88\": {\"73\": 1, \"88\": 11}, \"87\": {\"87\": 9, \"4\": 1, \"105\": 2}, \"2\": {\"2\": 12}, \"86\": {\"86\": 12}, \"16\": {\"16\": 12}, \"21\": {\"21\": 12}, \"96\": {\"96\": 11, \"121\": 1}, \"100\": {\"100\": 12}, \"7\": {\"7\": 12}, \"75\": {\"75\": 12}, \"10\": {\"10\": 12}, \"43\": {\"43\": 11, \"122\": 1}, \"92\": {\"92\": 12}, \"62\": {\"62\": 12}, \"31\": {\"31\": 12}, \"0\": {\"0\": 12}, \"45\": {\"45\": 12}, \"85\": {\"85\": 12}, \"119\": {\"119\": 12}, \"46\": {\"46\": 12}, \"71\": {\"71\": 11, \"1\": 1}, \"8\": {\"8\": 10, \"129\": 2}, \"118\": {\"118\": 12}, \"1\": {\"1\": 12}, \"38\": {\"38\": 10, \"9\": 1, \"21\": 1}, \"30\": {\"30\": 12}, \"66\": {\"66\": 12}, \"9\": {\"9\": 12}, \"90\": {\"90\": 12}, \"72\": {\"72\": 11, \"110\": 1}, \"27\": {\"27\": 12}, \"17\": {\"17\": 12}, \"79\": {\"79\": 12}, \"25\": {\"25\": 12}, \"5\": {\"5\": 12}, \"57\": {\"57\": 12}, \"106\": {\"106\": 12}, \"80\": {\"80\": 12}, \"128\": {\"128\": 11, \"103\": 1}, \"19\": {\"19\": 10}, \"109\": {\"109\": 11, \"45\": 1}, \"68\": {\"68\": 11, \"111\": 1}, \"41\": {\"41\": 12}, \"129\": {\"19\": 1, \"129\": 11}, \"115\": {\"115\": 11, \"25\": 1}, \"76\": {\"76\": 12}, \"18\": {\"18\": 12}, \"4\": {\"4\": 12}, \"110\": {\"110\": 12}, \"56\": {\"56\": 11, \"55\": 1}, \"112\": {\"112\": 12}, \"126\": {\"126\": 11, \"78\": 1}, \"101\": {\"101\": 12}, \"59\": {\"59\": 12}, \"93\": {\"93\": 12}, \"99\": {\"99\": 11, \"87\": 1}, \"98\": {\"98\": 12}, \"67\": {\"67\": 10, \"69\": 1, \"65\": 1}, \"82\": {\"82\": 11, \"17\": 1}, \"103\": {\"103\": 11, \"60\": 1}, \"117\": {\"117\": 8}, \"123\": {\"123\": 12}, \"89\": {\"89\": 12}, \"34\": {\"34\": 8, \"128\": 1, \"6\": 2, \"28\": 1}, \"102\": {\"102\": 12}, \"6\": {\"6\": 8, \"77\": 2}, \"15\": {\"15\": 10, \"97\": 1, \"129\": 1}, \"81\": {\"81\": 12}, \"84\": {\"84\": 12}, \"60\": {\"60\": 11, \"78\": 1}, \"97\": {\"97\": 9, \"24\": 2, \"17\": 1}, \"78\": {\"78\": 6, \"8\": 1, \"105\": 1, \"28\": 1, \"60\": 2, \"43\": 1}, \"121\": {\"121\": 10, \"126\": 1, \"81\": 1}, \"55\": {\"55\": 12}, \"74\": {\"74\": 12}, \"77\": {\"77\": 12}, \"20\": {\"20\": 11, \"108\": 1}, \"125\": {\"125\": 10, \"35\": 1, \"21\": 1}, \"37\": {\"37\": 12}, \"14\": {\"14\": 10, \"19\": 1, \"57\": 1}, \"120\": {\"120\": 9, \"45\": 1, \"89\": 1, \"65\": 1}, \"40\": {\"40\": 10, \"105\": 1, \"110\": 1}, \"35\": {\"117\": 1, \"35\": 11}, \"70\": {\"70\": 11, \"27\": 1}, \"42\": {\"42\": 12}, \"105\": {\"105\": 12}, \"13\": {\"13\": 12}, \"58\": {\"58\": 12}, \"61\": {\"61\": 11, \"35\": 1}, \"29\": {\"29\": 12}, \"28\": {\"28\": 12}, \"36\": {\"36\": 10, \"94\": 1, \"24\": 1}, \"114\": {\"114\": 12}, \"44\": {\"44\": 11, \"81\": 1}, \"23\": {\"23\": 4, \"81\": 1, \"78\": 1, \"71\": 1, \"114\": 1, \"70\": 1, \"113\": 1, \"43\": 1, \"101\": 1}, \"116\": {\"116\": 11, \"22\": 1}, \"47\": {\"47\": 10, \"42\": 1, \"70\": 1}, \"122\": {\"122\": 10, \"43\": 1, \"46\": 1}, \"49\": {\"49\": 9, \"11\": 1}, \"52\": {\"52\": 12}, \"50\": {\"50\": 12}, \"48\": {\"48\": 11, \"38\": 1}, \"39\": {\"39\": 10, \"126\": 1, \"81\": 1}, \"95\": {\"95\": 12}, \"107\": {\"107\": 12}, \"24\": {\"24\": 10, \"97\": 1, \"10\": 1}, \"26\": {\"26\": 12}, \"124\": {\"124\": 10}, \"108\": {\"108\": 6, \"23\": 1, \"100\": 2, \"20\": 1, \"88\": 1, \"46\": 1}, \"113\": {\"34\": 1, \"113\": 9, \"33\": 1, \"28\": 1}, \"104\": {\"104\": 12}, \"64\": {\"64\": 12}, \"51\": {\"59\": 1, \"51\": 8, \"125\": 1}, \"94\": {\"94\": 9, \"54\": 1}, \"54\": {\"54\": 9, \"94\": 1}, \"33\": {\"33\": 12}}, \"W_A_1\": {\"68\": {\"68\": 12}, \"7\": {\"7\": 12}, \"125\": {\"125\": 12}, \"111\": {\"111\": 10, \"68\": 1, \"72\": 1}, \"101\": {\"101\": 12}, \"11\": {\"11\": 12}, \"76\": {\"76\": 12}, \"5\": {\"5\": 12}, \"123\": {\"123\": 12}, \"85\": {\"85\": 12}, \"34\": {\"34\": 6, \"51\": 1, \"116\": 1, \"35\": 1, \"14\": 1}, \"42\": {\"60\": 1, \"42\": 8, \"91\": 1}, \"81\": {\"81\": 12}, \"127\": {\"127\": 12}, \"60\": {\"42\": 2, \"60\": 4, \"11\": 3, \"65\": 1, \"3\": 1, \"45\": 1}, \"77\": {\"77\": 12}, \"65\": {\"65\": 9, \"57\": 2, \"63\": 1}, \"44\": {\"44\": 12}, \"100\": {\"100\": 11, \"47\": 1}, \"80\": {\"80\": 11, \"117\": 1}, \"83\": {\"83\": 12}, \"51\": {\"51\": 12}, \"93\": {\"93\": 9, \"78\": 1}, \"31\": {\"31\": 10, \"35\": 1, \"34\": 1}, \"33\": {\"33\": 12}, \"113\": {\"113\": 11, \"83\": 1}, \"126\": {\"126\": 12}, \"10\": {\"10\": 12}, \"21\": {\"21\": 9, \"23\": 1}, \"90\": {\"90\": 12}, \"14\": {\"14\": 12}, \"91\": {\"91\": 12}, \"69\": {\"69\": 12}, \"57\": {\"57\": 12}, \"89\": {\"89\": 12}, \"108\": {\"108\": 10}, \"102\": {\"102\": 12}, \"64\": {\"64\": 12}, \"119\": {\"119\": 12}, \"36\": {\"36\": 11, \"88\": 1}, \"104\": {\"104\": 11, \"19\": 1}, \"38\": {\"38\": 12}, \"19\": {\"19\": 12}, \"112\": {\"112\": 11, \"101\": 1}, \"3\": {\"3\": 12}, \"110\": {\"110\": 12}, \"78\": {\"78\": 12}, \"45\": {\"119\": 2, \"128\": 2, \"45\": 4, \"83\": 1, \"95\": 1, \"60\": 1, \"129\": 1}, \"82\": {\"82\": 12}, \"107\": {\"107\": 12}, \"114\": {\"114\": 12}, \"109\": {\"109\": 11, \"108\": 1}, \"79\": {\"79\": 12}, \"8\": {\"8\": 12}, \"50\": {\"50\": 12}, \"47\": {\"47\": 11, \"88\": 1}, \"99\": {\"99\": 12}, \"41\": {\"41\": 12}, \"103\": {\"103\": 12}, \"1\": {\"1\": 8}, \"22\": {\"22\": 12}, \"86\": {\"98\": 2, \"86\": 9, \"128\": 1}, \"72\": {\"72\": 12}, \"4\": {\"4\": 12}, \"98\": {\"98\": 12}, \"63\": {\"63\": 12}, \"0\": {\"0\": 12}, \"97\": {\"97\": 11, \"126\": 1}, \"35\": {\"35\": 10, \"25\": 2}, \"20\": {\"31\": 1, \"20\": 8, \"104\": 1}, \"58\": {\"58\": 11, \"53\": 1}, \"117\": {\"117\": 12}, \"30\": {\"30\": 12}, \"32\": {\"32\": 12}, \"18\": {\"18\": 12}, \"71\": {\"71\": 12}, \"56\": {\"56\": 12}, \"29\": {\"29\": 12}, \"46\": {\"46\": 5, \"94\": 2, \"27\": 1, \"45\": 2, \"71\": 1, \"49\": 1}, \"17\": {\"123\": 1, \"17\": 11}, \"94\": {\"94\": 12}, \"27\": {\"27\": 10, \"122\": 1, \"102\": 1}, \"62\": {\"62\": 12}, \"118\": {\"118\": 12}, \"67\": {\"67\": 12}, \"84\": {\"84\": 12}, \"37\": {\"37\": 12}, \"12\": {\"12\": 12}, \"92\": {\"92\": 12}, \"129\": {\"129\": 7, \"65\": 1, \"23\": 1, \"13\": 2, \"39\": 1}, \"48\": {\"48\": 12}, \"75\": {\"75\": 12}, \"55\": {\"55\": 12}, \"25\": {\"78\": 1, \"25\": 10, \"100\": 1}, \"2\": {\"2\": 11, \"45\": 1}, \"53\": {\"53\": 11, \"71\": 1}, \"95\": {\"95\": 12}, \"88\": {\"88\": 12}, \"70\": {\"70\": 11, \"104\": 1}, \"13\": {\"13\": 12}, \"121\": {\"121\": 12}, \"124\": {\"124\": 12}, \"87\": {\"87\": 12}, \"73\": {\"73\": 12}, \"6\": {\"6\": 11, \"112\": 1}, \"40\": {\"40\": 12}, \"59\": {\"59\": 12}, \"122\": {\"122\": 11, \"43\": 1}, \"24\": {\"24\": 12}, \"54\": {\"54\": 12}, \"39\": {\"39\": 12}, \"16\": {\"16\": 12}, \"106\": {\"106\": 11, \"52\": 1}, \"15\": {\"15\": 11, \"94\": 1}, \"66\": {\"66\": 12}, \"116\": {\"116\": 12}, \"49\": {\"49\": 9, \"73\": 1, \"111\": 1, \"46\": 1}, \"120\": {\"120\": 11, \"114\": 1}, \"115\": {\"115\": 12}, \"9\": {\"9\": 10}, \"96\": {\"96\": 10}, \"26\": {\"26\": 12}, \"74\": {\"74\": 10}, \"43\": {\"43\": 10, \"21\": 1, \"82\": 1}, \"128\": {\"54\": 1, \"128\": 10, \"5\": 1}, \"52\": {\"52\": 12}, \"28\": {\"28\": 7, \"61\": 2, \"49\": 1, \"65\": 2}, \"61\": {\"61\": 10, \"105\": 1, \"11\": 1}, \"105\": {\"105\": 11, \"43\": 1}, \"23\": {\"23\": 6, \"52\": 1, \"49\": 1, \"115\": 1, \"45\": 1}}, \"C_A_4\": {\"32\": {\"32\": 10}, \"2\": {\"2\": 12}, \"41\": {\"41\": 12}, \"11\": {\"11\": 12}, \"57\": {\"57\": 10}, \"6\": {\"6\": 12}, \"23\": {\"23\": 12}, \"52\": {\"52\": 12}, \"38\": {\"38\": 10}, \"50\": {\"50\": 12}, \"55\": {\"55\": 12}, \"46\": {\"11\": 4, \"46\": 7, \"15\": 1}, \"37\": {\"37\": 12}, \"20\": {\"20\": 12}, \"49\": {\"49\": 12}, \"45\": {\"45\": 12}, \"54\": {\"54\": 12}, \"3\": {\"3\": 12}, \"13\": {\"13\": 11, \"24\": 1}, \"18\": {\"18\": 12}, \"21\": {\"21\": 12}, \"43\": {\"43\": 12}, \"47\": {\"47\": 12}, \"4\": {\"4\": 12}, \"12\": {\"12\": 8}, \"9\": {\"9\": 11, \"30\": 1}, \"7\": {\"7\": 9, \"11\": 1}, \"56\": {\"56\": 12}, \"28\": {\"28\": 10}, \"44\": {\"44\": 12}, \"24\": {\"24\": 11, \"5\": 1}, \"33\": {\"33\": 10}, \"14\": {\"55\": 1, \"14\": 7, \"56\": 1, \"40\": 1, \"1\": 1, \"29\": 1}, \"25\": {\"25\": 12}, \"26\": {\"26\": 12}, \"5\": {\"5\": 10, \"46\": 2}, \"17\": {\"17\": 10}, \"31\": {\"31\": 12}, \"8\": {\"8\": 8}, \"35\": {\"35\": 6}, \"15\": {\"15\": 6}, \"19\": {\"19\": 12}, \"22\": {\"22\": 10}, \"34\": {\"34\": 12}, \"36\": {\"36\": 12}, \"51\": {\"51\": 12}, \"10\": {\"10\": 10}, \"0\": {\"0\": 12}, \"53\": {\"53\": 10}, \"29\": {\"29\": 12}, \"27\": {\"27\": 12}, \"39\": {\"39\": 10}, \"30\": {\"30\": 12}, \"48\": {\"48\": 10}, \"42\": {\"42\": 8}, \"16\": {\"16\": 10}, \"1\": {\"1\": 10}, \"40\": {\"40\": 8}}, \"W_A_3\": {\"76\": {\"76\": 12}, \"6\": {\"6\": 9, \"15\": 1}, \"108\": {\"108\": 12}, \"29\": {\"29\": 12}, \"83\": {\"83\": 12}, \"18\": {\"18\": 12}, \"54\": {\"54\": 10, \"60\": 1, \"117\": 1}, \"15\": {\"15\": 12}, \"100\": {\"100\": 12}, \"90\": {\"90\": 12}, \"26\": {\"26\": 10, \"11\": 1, \"110\": 1}, \"115\": {\"115\": 12}, \"94\": {\"94\": 12}, \"46\": {\"46\": 12}, \"121\": {\"121\": 8, \"113\": 1, \"16\": 1}, \"109\": {\"109\": 11, \"76\": 1}, \"101\": {\"101\": 12}, \"99\": {\"99\": 12}, \"8\": {\"8\": 12}, \"102\": {\"102\": 12}, \"122\": {\"122\": 10, \"13\": 1, \"60\": 1}, \"36\": {\"36\": 12}, \"113\": {\"113\": 11, \"11\": 1}, \"123\": {\"123\": 12}, \"120\": {\"120\": 12}, \"125\": {\"125\": 10}, \"89\": {\"89\": 12}, \"9\": {\"9\": 12}, \"31\": {\"31\": 9, \"60\": 1, \"29\": 2}, \"62\": {\"62\": 12}, \"49\": {\"49\": 10, \"85\": 1, \"88\": 1}, \"23\": {\"23\": 6, \"18\": 1, \"39\": 1, \"30\": 1, \"121\": 2, \"110\": 1}, \"55\": {\"55\": 12}, \"128\": {\"29\": 1, \"128\": 9, \"3\": 1, \"122\": 1}, \"71\": {\"71\": 11, \"3\": 1}, \"51\": {\"51\": 10}, \"7\": {\"7\": 12}, \"117\": {\"117\": 12}, \"28\": {\"28\": 11, \"73\": 1}, \"127\": {\"127\": 12}, \"57\": {\"57\": 12}, \"78\": {\"78\": 11, \"59\": 1}, \"87\": {\"87\": 11, \"78\": 1}, \"40\": {\"40\": 12}, \"81\": {\"81\": 12}, \"2\": {\"2\": 12}, \"58\": {\"58\": 12}, \"68\": {\"127\": 2, \"68\": 8, \"112\": 1, \"110\": 1}, \"20\": {\"20\": 12}, \"35\": {\"35\": 10, \"101\": 2}, \"96\": {\"96\": 12}, \"84\": {\"84\": 12}, \"88\": {\"88\": 9, \"117\": 2, \"49\": 1}, \"114\": {\"114\": 12}, \"103\": {\"103\": 12}, \"5\": {\"5\": 11, \"114\": 1}, \"85\": {\"85\": 12}, \"65\": {\"65\": 12}, \"13\": {\"13\": 8, \"92\": 2, \"31\": 2}, \"64\": {\"64\": 12}, \"119\": {\"119\": 12}, \"116\": {\"116\": 8}, \"112\": {\"13\": 1, \"65\": 1, \"112\": 7, \"17\": 1, \"88\": 2}, \"86\": {\"86\": 12}, \"98\": {\"98\": 12}, \"69\": {\"69\": 12}, \"67\": {\"67\": 11, \"70\": 1}, \"32\": {\"32\": 11, \"17\": 1}, \"91\": {\"91\": 12}, \"17\": {\"67\": 3, \"17\": 5, \"43\": 1, \"4\": 1, \"33\": 1, \"21\": 1}, \"37\": {\"37\": 12}, \"95\": {\"95\": 12}, \"59\": {\"59\": 12}, \"34\": {\"34\": 7, \"78\": 1, \"107\": 1, \"115\": 1, \"122\": 1, \"110\": 1}, \"52\": {\"52\": 12}, \"1\": {\"1\": 12}, \"16\": {\"16\": 11, \"100\": 1}, \"79\": {\"79\": 12}, \"53\": {\"53\": 12}, \"106\": {\"106\": 12}, \"33\": {\"33\": 12}, \"104\": {\"104\": 12}, \"14\": {\"14\": 12}, \"11\": {\"11\": 10}, \"0\": {\"0\": 12}, \"25\": {\"25\": 12}, \"22\": {\"22\": 12}, \"75\": {\"75\": 12}, \"105\": {\"105\": 11, \"102\": 1}, \"45\": {\"45\": 12}, \"92\": {\"92\": 10, \"43\": 1, \"100\": 1}, \"39\": {\"39\": 12}, \"93\": {\"93\": 12}, \"97\": {\"97\": 11, \"30\": 1}, \"73\": {\"73\": 10, \"44\": 1, \"97\": 1}, \"30\": {\"30\": 12}, \"38\": {\"38\": 11, \"52\": 1}, \"3\": {\"3\": 12}, \"110\": {\"110\": 10, \"70\": 2}, \"60\": {\"60\": 11, \"85\": 1}, \"111\": {\"111\": 12}, \"41\": {\"41\": 12}, \"21\": {\"21\": 12}, \"129\": {\"129\": 12}, \"70\": {\"70\": 8, \"114\": 1, \"110\": 1, \"112\": 2}, \"66\": {\"66\": 12}, \"107\": {\"107\": 12}, \"74\": {\"74\": 12}, \"48\": {\"48\": 9, \"31\": 1, \"29\": 1, \"53\": 1}, \"50\": {\"50\": 12}, \"44\": {\"44\": 12}, \"42\": {\"42\": 11, \"8\": 1}, \"80\": {\"80\": 10}, \"72\": {\"72\": 12}, \"43\": {\"43\": 12}, \"77\": {\"77\": 12}, \"61\": {\"61\": 12}, \"126\": {\"126\": 12}, \"27\": {\"27\": 10}, \"24\": {\"24\": 12}, \"47\": {\"47\": 12}, \"19\": {\"47\": 1, \"19\": 7, \"128\": 2, \"77\": 1, \"124\": 1}, \"4\": {\"4\": 8, \"40\": 2}, \"82\": {\"82\": 10, \"61\": 1, \"89\": 1}, \"12\": {\"12\": 12}, \"10\": {\"10\": 11, \"35\": 1}, \"63\": {\"63\": 12}, \"56\": {\"56\": 12}, \"124\": {\"124\": 10}, \"118\": {\"118\": 10}}, \"C_A_3\": {\"3\": {\"25\": 1, \"3\": 5, \"50\": 2}, \"21\": {\"21\": 12}, \"7\": {\"7\": 12}, \"30\": {\"30\": 12}, \"54\": {\"54\": 12}, \"6\": {\"6\": 8, \"48\": 1, \"2\": 2, \"41\": 1}, \"17\": {\"17\": 9, \"50\": 1}, \"8\": {\"8\": 12}, \"9\": {\"9\": 12}, \"19\": {\"19\": 12}, \"44\": {\"44\": 6}, \"25\": {\"25\": 12}, \"15\": {\"15\": 12}, \"1\": {\"1\": 10}, \"13\": {\"13\": 12}, \"40\": {\"40\": 9, \"32\": 1}, \"43\": {\"43\": 10}, \"38\": {\"38\": 12}, \"4\": {\"4\": 12}, \"41\": {\"41\": 11, \"2\": 1}, \"27\": {\"27\": 12}, \"50\": {\"50\": 12}, \"55\": {\"55\": 12}, \"20\": {\"20\": 12}, \"37\": {\"37\": 12}, \"53\": {\"53\": 8}, \"0\": {\"0\": 12}, \"34\": {\"34\": 12}, \"16\": {\"16\": 12}, \"12\": {\"12\": 10}, \"46\": {\"46\": 11, \"6\": 1}, \"32\": {\"32\": 12}, \"33\": {\"33\": 12}, \"26\": {\"26\": 10}, \"11\": {\"11\": 12}, \"45\": {\"45\": 11, \"6\": 1}, \"2\": {\"2\": 10}, \"10\": {\"10\": 10}, \"14\": {\"14\": 7, \"55\": 1, \"0\": 2}, \"24\": {\"24\": 12}, \"22\": {\"22\": 8}, \"52\": {\"52\": 12}, \"29\": {\"29\": 12}, \"51\": {\"51\": 12}, \"28\": {\"28\": 12}, \"23\": {\"23\": 12}, \"48\": {\"48\": 10}, \"35\": {\"35\": 12}, \"56\": {\"56\": 10}, \"18\": {\"18\": 12}, \"5\": {\"5\": 12}, \"42\": {\"42\": 10}, \"49\": {\"49\": 10}, \"36\": {\"36\": 10}, \"39\": {\"39\": 10}, \"57\": {\"57\": 8}, \"47\": {\"47\": 9, \"41\": 1}, \"31\": {\"31\": 10}}, \"ORACLE.run1_8\": {\"13\": {\"5\": 22, \"4\": 27, \"13\": 26, \"10\": 37, \"14\": 20, \"6\": 20, \"3\": 2, \"9\": 4, \"0\": 28, \"7\": 24, \"2\": 9, \"8\": 7, \"1\": 7, \"15\": 4, \"11\": 3}, \"9\": {\"9\": 222, \"0\": 6, \"5\": 4, \"10\": 4, \"6\": 2, \"13\": 1, \"14\": 1}, \"15\": {\"2\": 8, \"1\": 15, \"3\": 16, \"12\": 59, \"8\": 33, \"7\": 10, \"15\": 47, \"6\": 22, \"11\": 11, \"10\": 2, \"14\": 4, \"4\": 5, \"13\": 4, \"0\": 4}, \"2\": {\"3\": 38, \"2\": 55, \"4\": 15, \"10\": 7, \"0\": 17, \"7\": 32, \"13\": 16, \"6\": 18, \"12\": 15, \"5\": 2, \"14\": 11, \"15\": 5, \"8\": 6, \"1\": 2, \"11\": 1}, \"3\": {\"0\": 8, \"15\": 19, \"3\": 55, \"6\": 17, \"12\": 42, \"2\": 30, \"8\": 12, \"7\": 21, \"1\": 3, \"11\": 4, \"4\": 7, \"13\": 9, \"14\": 9, \"10\": 2, \"5\": 2}, \"8\": {\"15\": 45, \"11\": 26, \"8\": 39, \"3\": 16, \"12\": 36, \"7\": 13, \"6\": 13, \"1\": 28, \"14\": 8, \"5\": 2, \"0\": 2, \"13\": 5, \"2\": 4, \"4\": 3}, \"5\": {\"10\": 37, \"5\": 43, \"14\": 29, \"7\": 16, \"13\": 20, \"11\": 10, \"4\": 25, \"6\": 18, \"1\": 20, \"9\": 5, \"12\": 3, \"15\": 1, \"0\": 12, \"8\": 1}, \"14\": {\"0\": 20, \"11\": 16, \"14\": 28, \"10\": 21, \"6\": 20, \"4\": 34, \"13\": 21, \"5\": 20, \"7\": 30, \"8\": 6, \"2\": 5, \"1\": 14, \"3\": 2, \"12\": 1, \"9\": 1, \"15\": 1}, \"1\": {\"8\": 16, \"1\": 34, \"7\": 15, \"11\": 38, \"6\": 19, \"4\": 15, \"15\": 17, \"0\": 2, \"5\": 19, \"10\": 12, \"14\": 20, \"13\": 16, \"12\": 16, \"3\": 1}, \"0\": {\"7\": 21, \"0\": 48, \"13\": 26, \"10\": 27, \"14\": 29, \"2\": 17, \"6\": 21, \"4\": 29, \"3\": 2, \"15\": 2, \"1\": 3, \"5\": 8, \"11\": 3, \"12\": 1, \"8\": 3}, \"10\": {\"10\": 50, \"7\": 13, \"13\": 35, \"1\": 11, \"0\": 22, \"15\": 4, \"4\": 24, \"11\": 7, \"5\": 26, \"9\": 1, \"14\": 25, \"8\": 2, \"6\": 15, \"12\": 2, \"2\": 2, \"3\": 1}, \"6\": {\"3\": 14, \"14\": 15, \"11\": 7, \"4\": 24, \"6\": 28, \"2\": 7, \"1\": 14, \"7\": 26, \"0\": 25, \"13\": 20, \"10\": 13, \"5\": 14, \"8\": 14, \"15\": 12, \"9\": 1, \"12\": 6}, \"11\": {\"1\": 54, \"15\": 24, \"5\": 20, \"10\": 6, \"6\": 12, \"3\": 2, \"4\": 8, \"11\": 36, \"12\": 16, \"8\": 26, \"14\": 11, \"7\": 9, \"13\": 10, \"0\": 3, \"2\": 3}, \"7\": {\"14\": 29, \"3\": 16, \"10\": 20, \"8\": 10, \"7\": 26, \"2\": 12, \"6\": 25, \"1\": 11, \"4\": 24, \"5\": 6, \"13\": 20, \"0\": 25, \"12\": 10, \"15\": 1, \"11\": 5}, \"4\": {\"7\": 29, \"13\": 29, \"15\": 7, \"10\": 20, \"11\": 8, \"1\": 10, \"4\": 31, \"6\": 29, \"14\": 24, \"2\": 10, \"5\": 14, \"0\": 16, \"8\": 8, \"12\": 1, \"3\": 4}, \"12\": {\"15\": 47, \"12\": 65, \"11\": 14, \"7\": 13, \"3\": 30, \"4\": 5, \"1\": 4, \"2\": 12, \"5\": 3, \"6\": 10, \"8\": 31, \"10\": 3, \"14\": 3}}, \"ORACLE.run1_38\": {\"13\": {\"10\": 15, \"2\": 36, \"8\": 22, \"5\": 11, \"14\": 3, \"6\": 13, \"13\": 42, \"1\": 38, \"15\": 39, \"7\": 4, \"0\": 8, \"11\": 2, \"3\": 2, \"9\": 5}, \"12\": {\"12\": 118, \"4\": 79, \"14\": 11, \"10\": 12, \"11\": 11, \"0\": 3, \"7\": 5, \"8\": 1}, \"2\": {\"1\": 16, \"2\": 91, \"13\": 33, \"10\": 21, \"15\": 41, \"8\": 10, \"14\": 14, \"11\": 11, \"0\": 2, \"5\": 1}, \"9\": {\"5\": 14, \"10\": 3, \"9\": 59, \"1\": 34, \"3\": 27, \"6\": 64, \"13\": 13, \"8\": 10, \"15\": 10, \"0\": 4, \"7\": 2}, \"15\": {\"1\": 24, \"2\": 36, \"15\": 45, \"13\": 40, \"0\": 13, \"5\": 26, \"8\": 18, \"11\": 1, \"6\": 11, \"9\": 11, \"7\": 3, \"10\": 10, \"14\": 2}, \"5\": {\"7\": 21, \"0\": 32, \"10\": 11, \"13\": 19, \"6\": 16, \"9\": 19, \"5\": 44, \"8\": 35, \"3\": 7, \"14\": 1, \"15\": 14, \"1\": 16, \"11\": 2, \"2\": 2, \"4\": 1}, \"14\": {\"11\": 52, \"14\": 102, \"8\": 4, \"10\": 33, \"2\": 24, \"12\": 12, \"7\": 4, \"15\": 6, \"0\": 1, \"5\": 1, \"13\": 1}, \"0\": {\"5\": 22, \"13\": 5, \"0\": 49, \"9\": 7, \"7\": 45, \"3\": 18, \"10\": 21, \"6\": 14, \"8\": 37, \"12\": 8, \"15\": 7, \"2\": 4, \"1\": 2, \"4\": 1}, \"3\": {\"8\": 23, \"6\": 18, \"5\": 24, \"9\": 28, \"4\": 1, \"7\": 21, \"3\": 73, \"0\": 36, \"1\": 4, \"13\": 3, \"15\": 7, \"11\": 1, \"10\": 1}, \"1\": {\"1\": 74, \"10\": 2, \"13\": 36, \"9\": 20, \"5\": 9, \"15\": 35, \"6\": 36, \"2\": 15, \"0\": 3, \"8\": 10}, \"11\": {\"14\": 69, \"11\": 104, \"4\": 3, \"10\": 17, \"2\": 20, \"7\": 4, \"12\": 12, \"13\": 3, \"0\": 3, \"15\": 2, \"8\": 2, \"1\": 1}, \"7\": {\"7\": 87, \"3\": 9, \"4\": 3, \"8\": 21, \"0\": 43, \"10\": 25, \"11\": 2, \"5\": 18, \"9\": 4, \"15\": 7, \"12\": 11, \"13\": 3, \"14\": 2, \"6\": 4, \"1\": 1}, \"8\": {\"10\": 27, \"1\": 13, \"9\": 6, \"13\": 16, \"15\": 21, \"6\": 11, \"5\": 35, \"0\": 30, \"7\": 25, \"8\": 35, \"12\": 2, \"2\": 10, \"3\": 8, \"14\": 1}, \"4\": {\"4\": 146, \"12\": 80, \"7\": 5, \"10\": 2, \"14\": 3, \"11\": 4}, \"10\": {\"10\": 40, \"7\": 24, \"11\": 21, \"5\": 14, \"13\": 10, \"14\": 29, \"2\": 19, \"8\": 26, \"12\": 13, \"6\": 2, \"1\": 3, \"15\": 17, \"0\": 20, \"9\": 1, \"4\": 1}, \"6\": {\"9\": 48, \"5\": 29, \"3\": 11, \"6\": 66, \"13\": 13, \"10\": 4, \"8\": 9, \"15\": 19, \"1\": 30, \"7\": 2, \"0\": 7, \"2\": 2}}, \"ORACLE.run1_26\": {\"10\": {\"7\": 22, \"15\": 14, \"6\": 17, \"4\": 22, \"5\": 4, \"1\": 18, \"8\": 17, \"0\": 27, \"9\": 14, \"12\": 9, \"14\": 30, \"2\": 12, \"10\": 22, \"3\": 10, \"13\": 2}, \"12\": {\"12\": 104, \"13\": 16, \"3\": 1, \"9\": 17, \"8\": 13, \"14\": 9, \"15\": 10, \"5\": 11, \"2\": 8, \"6\": 20, \"10\": 8, \"4\": 1, \"11\": 11, \"7\": 4, \"1\": 4, \"0\": 3}, \"1\": {\"12\": 4, \"0\": 33, \"14\": 19, \"4\": 25, \"8\": 21, \"7\": 29, \"6\": 21, \"15\": 7, \"3\": 16, \"2\": 9, \"13\": 2, \"10\": 17, \"1\": 30, \"5\": 1, \"9\": 6}, \"0\": {\"12\": 8, \"4\": 24, \"8\": 21, \"10\": 23, \"6\": 19, \"1\": 29, \"7\": 20, \"3\": 9, \"14\": 29, \"0\": 29, \"2\": 11, \"15\": 9, \"13\": 2, \"5\": 2, \"9\": 5}, \"15\": {\"8\": 20, \"6\": 23, \"14\": 11, \"4\": 10, \"2\": 20, \"5\": 19, \"13\": 13, \"10\": 19, \"3\": 24, \"12\": 7, \"0\": 11, \"9\": 14, \"7\": 17, \"1\": 7, \"15\": 23, \"11\": 2}, \"13\": {\"13\": 53, \"5\": 59, \"8\": 8, \"15\": 20, \"9\": 21, \"6\": 15, \"12\": 18, \"0\": 3, \"11\": 15, \"4\": 1, \"2\": 13, \"7\": 4, \"3\": 6, \"14\": 3, \"1\": 1}, \"8\": {\"12\": 12, \"4\": 17, \"1\": 22, \"6\": 31, \"0\": 17, \"2\": 14, \"15\": 18, \"14\": 17, \"8\": 20, \"9\": 7, \"10\": 14, \"3\": 16, \"7\": 19, \"5\": 9, \"13\": 7}, \"3\": {\"14\": 11, \"2\": 31, \"15\": 19, \"4\": 16, \"10\": 11, \"1\": 12, \"6\": 19, \"3\": 26, \"8\": 18, \"9\": 19, \"12\": 2, \"13\": 12, \"7\": 21, \"5\": 12, \"0\": 11}, \"11\": {\"11\": 160, \"5\": 16, \"13\": 19, \"12\": 32, \"6\": 4, \"9\": 3, \"8\": 2, \"10\": 1, \"15\": 2, \"2\": 1}, \"4\": {\"4\": 33, \"0\": 22, \"10\": 30, \"14\": 33, \"5\": 2, \"1\": 31, \"8\": 18, \"9\": 10, \"2\": 8, \"6\": 11, \"7\": 16, \"3\": 9, \"15\": 11, \"12\": 6}, \"6\": {\"0\": 12, \"8\": 22, \"15\": 28, \"12\": 14, \"7\": 17, \"6\": 31, \"9\": 16, \"13\": 10, \"2\": 14, \"4\": 11, \"5\": 15, \"10\": 14, \"14\": 13, \"11\": 4, \"3\": 9, \"1\": 10}, \"7\": {\"14\": 26, \"3\": 13, \"4\": 18, \"9\": 22, \"1\": 25, \"8\": 18, \"7\": 21, \"15\": 18, \"6\": 13, \"5\": 11, \"10\": 19, \"0\": 17, \"13\": 6, \"2\": 10, \"12\": 3}, \"14\": {\"6\": 8, \"8\": 19, \"0\": 44, \"4\": 27, \"9\": 3, \"14\": 34, \"10\": 22, \"7\": 16, \"1\": 27, \"15\": 12, \"12\": 6, \"3\": 10, \"2\": 9, \"5\": 2, \"13\": 1}, \"2\": {\"3\": 26, \"2\": 30, \"7\": 22, \"4\": 7, \"9\": 15, \"15\": 20, \"5\": 25, \"14\": 8, \"10\": 14, \"13\": 14, \"6\": 13, \"12\": 9, \"1\": 12, \"8\": 16, \"0\": 9}, \"5\": {\"15\": 21, \"5\": 45, \"2\": 22, \"13\": 54, \"14\": 1, \"12\": 13, \"8\": 13, \"3\": 10, \"9\": 22, \"11\": 11, \"10\": 4, \"7\": 4, \"6\": 12, \"0\": 3, \"4\": 2, \"1\": 3}, \"9\": {\"14\": 6, \"2\": 25, \"6\": 22, \"8\": 10, \"5\": 23, \"13\": 19, \"4\": 8, \"9\": 29, \"10\": 10, \"7\": 15, \"3\": 20, \"12\": 16, \"15\": 20, \"1\": 10, \"0\": 5, \"11\": 2}}, \"ORACLE.run1_20\": {\"5\": {\"4\": 12, \"6\": 6, \"9\": 24, \"0\": 19, \"5\": 23, \"7\": 13, \"10\": 11, \"12\": 18, \"15\": 20, \"1\": 32, \"3\": 17, \"8\": 10, \"13\": 15, \"2\": 13, \"11\": 4, \"14\": 3}, \"15\": {\"15\": 30, \"13\": 23, \"12\": 21, \"11\": 5, \"1\": 24, \"7\": 19, \"5\": 25, \"8\": 4, \"2\": 22, \"0\": 18, \"9\": 26, \"3\": 9, \"6\": 3, \"4\": 7, \"10\": 3, \"14\": 1}, \"9\": {\"0\": 18, \"15\": 16, \"11\": 7, \"9\": 25, \"13\": 19, \"12\": 15, \"2\": 26, \"5\": 21, \"3\": 21, \"7\": 19, \"1\": 18, \"6\": 6, \"8\": 9, \"4\": 11, \"14\": 5, \"10\": 4}, \"7\": {\"8\": 17, \"5\": 23, \"7\": 18, \"13\": 11, \"11\": 11, \"4\": 16, \"3\": 23, \"6\": 16, \"12\": 16, \"14\": 12, \"2\": 13, \"9\": 13, \"1\": 12, \"0\": 18, \"10\": 11, \"15\": 10}, \"3\": {\"4\": 20, \"13\": 14, \"8\": 16, \"0\": 17, \"3\": 18, \"1\": 19, \"6\": 10, \"12\": 22, \"2\": 20, \"10\": 12, \"7\": 14, \"9\": 17, \"14\": 2, \"5\": 23, \"15\": 13, \"11\": 3}, \"8\": {\"15\": 4, \"10\": 37, \"8\": 30, \"3\": 15, \"9\": 5, \"5\": 5, \"7\": 16, \"6\": 26, \"14\": 30, \"4\": 28, \"0\": 19, \"2\": 11, \"1\": 8, \"13\": 2, \"12\": 4}, \"4\": {\"12\": 9, \"14\": 24, \"4\": 38, \"6\": 26, \"3\": 15, \"10\": 29, \"9\": 8, \"8\": 23, \"7\": 17, \"5\": 20, \"1\": 9, \"0\": 13, \"15\": 1, \"13\": 3, \"2\": 5}, \"6\": {\"15\": 7, \"4\": 18, \"7\": 23, \"14\": 34, \"6\": 33, \"11\": 3, \"3\": 8, \"8\": 36, \"10\": 36, \"5\": 10, \"0\": 8, \"1\": 4, \"12\": 5, \"2\": 10, \"9\": 5}, \"2\": {\"5\": 25, \"13\": 24, \"1\": 17, \"3\": 19, \"2\": 27, \"8\": 9, \"9\": 26, \"12\": 17, \"7\": 17, \"15\": 21, \"11\": 12, \"0\": 15, \"4\": 7, \"10\": 1, \"14\": 2, \"6\": 1}, \"12\": {\"1\": 24, \"13\": 20, \"3\": 21, \"8\": 6, \"0\": 22, \"12\": 21, \"9\": 31, \"15\": 15, \"5\": 26, \"7\": 13, \"2\": 15, \"6\": 8, \"14\": 2, \"11\": 7, \"10\": 3, \"4\": 6}, \"0\": {\"5\": 24, \"15\": 18, \"11\": 9, \"9\": 19, \"1\": 18, \"8\": 22, \"4\": 9, \"3\": 13, \"7\": 17, \"13\": 19, \"0\": 21, \"12\": 17, \"2\": 21, \"6\": 6, \"14\": 5, \"10\": 2}, \"13\": {\"15\": 27, \"2\": 19, \"7\": 11, \"0\": 16, \"13\": 41, \"11\": 18, \"3\": 16, \"9\": 29, \"1\": 20, \"5\": 15, \"4\": 8, \"12\": 14, \"6\": 1, \"10\": 3, \"14\": 1, \"8\": 1}, \"10\": {\"4\": 32, \"5\": 11, \"10\": 56, \"14\": 35, \"3\": 18, \"6\": 20, \"7\": 16, \"1\": 3, \"8\": 29, \"15\": 2, \"0\": 3, \"9\": 2, \"12\": 9, \"2\": 1, \"13\": 3}, \"11\": {\"13\": 25, \"5\": 12, \"7\": 17, \"11\": 66, \"0\": 17, \"9\": 29, \"6\": 3, \"1\": 12, \"12\": 8, \"3\": 7, \"8\": 7, \"4\": 2, \"2\": 28, \"15\": 5, \"14\": 2}, \"14\": {\"10\": 37, \"14\": 55, \"5\": 3, \"6\": 44, \"4\": 34, \"7\": 13, \"9\": 3, \"12\": 5, \"0\": 5, \"3\": 12, \"8\": 27, \"1\": 1, \"2\": 1}, \"1\": {\"13\": 17, \"7\": 24, \"4\": 5, \"12\": 20, \"3\": 19, \"15\": 29, \"0\": 17, \"9\": 14, \"1\": 31, \"5\": 21, \"2\": 22, \"6\": 5, \"11\": 9, \"10\": 5, \"14\": 1, \"8\": 1}}, \"ORACLE.run1_50\": {\"1\": {\"1\": 28, \"11\": 25, \"9\": 15, \"15\": 32, \"5\": 14, \"4\": 31, \"7\": 17, \"13\": 20, \"6\": 32, \"3\": 1, \"2\": 1, \"12\": 5, \"14\": 11, \"0\": 4, \"8\": 1, \"10\": 3}, \"2\": {\"2\": 109, \"0\": 59, \"8\": 12, \"10\": 16, \"14\": 19, \"13\": 3, \"1\": 4, \"5\": 1, \"12\": 14, \"11\": 1, \"7\": 1, \"9\": 1}, \"8\": {\"2\": 17, \"8\": 86, \"0\": 39, \"10\": 37, \"3\": 46, \"7\": 5, \"4\": 1, \"14\": 2, \"13\": 5, \"1\": 2}, \"7\": {\"7\": 55, \"5\": 37, \"15\": 15, \"6\": 18, \"1\": 14, \"13\": 45, \"8\": 8, \"4\": 15, \"3\": 5, \"10\": 21, \"12\": 1, \"0\": 3, \"14\": 1, \"2\": 1, \"11\": 1}, \"14\": {\"2\": 20, \"14\": 70, \"12\": 50, \"1\": 22, \"11\": 17, \"7\": 3, \"13\": 7, \"10\": 5, \"6\": 5, \"4\": 10, \"9\": 17, \"0\": 11, \"5\": 3}, \"6\": {\"15\": 26, \"7\": 16, \"9\": 6, \"13\": 23, \"1\": 30, \"5\": 25, \"6\": 40, \"14\": 12, \"4\": 24, \"11\": 15, \"0\": 6, \"8\": 5, \"3\": 2, \"10\": 9, \"12\": 1}, \"3\": {\"5\": 8, \"3\": 119, \"4\": 1, \"8\": 77, \"10\": 23, \"6\": 1, \"1\": 1, \"7\": 5, \"13\": 5}, \"4\": {\"4\": 42, \"15\": 35, \"7\": 23, \"9\": 10, \"11\": 19, \"5\": 21, \"12\": 3, \"1\": 30, \"14\": 11, \"0\": 3, \"13\": 17, \"6\": 20, \"3\": 1, \"10\": 5}, \"12\": {\"14\": 56, \"12\": 83, \"11\": 14, \"1\": 13, \"4\": 2, \"6\": 6, \"9\": 32, \"2\": 24, \"0\": 5, \"15\": 3, \"13\": 1, \"8\": 1}, \"15\": {\"4\": 44, \"13\": 13, \"7\": 15, \"5\": 21, \"6\": 24, \"11\": 26, \"15\": 48, \"2\": 2, \"9\": 16, \"1\": 26, \"0\": 1, \"14\": 3, \"12\": 1}, \"11\": {\"15\": 23, \"11\": 55, \"9\": 43, \"7\": 5, \"14\": 17, \"1\": 27, \"4\": 21, \"13\": 4, \"2\": 1, \"12\": 18, \"5\": 10, \"6\": 14, \"0\": 2}, \"0\": {\"8\": 24, \"10\": 34, \"2\": 40, \"3\": 7, \"0\": 81, \"7\": 9, \"14\": 11, \"4\": 3, \"12\": 5, \"13\": 9, \"9\": 2, \"5\": 5, \"1\": 5, \"6\": 5}, \"9\": {\"9\": 62, \"12\": 35, \"6\": 10, \"11\": 43, \"14\": 32, \"1\": 20, \"13\": 3, \"15\": 16, \"5\": 3, \"0\": 2, \"4\": 11, \"2\": 1, \"10\": 1, \"7\": 1}, \"10\": {\"10\": 51, \"2\": 9, \"0\": 43, \"13\": 23, \"6\": 8, \"8\": 38, \"3\": 18, \"7\": 19, \"4\": 8, \"1\": 7, \"15\": 1, \"5\": 11, \"14\": 3, \"12\": 1}, \"5\": {\"4\": 31, \"10\": 16, \"15\": 19, \"7\": 28, \"5\": 37, \"13\": 27, \"1\": 29, \"3\": 5, \"6\": 20, \"14\": 7, \"0\": 5, \"12\": 2, \"11\": 7, \"8\": 6, \"9\": 1}, \"13\": {\"13\": 38, \"15\": 12, \"7\": 40, \"14\": 4, \"3\": 4, \"8\": 8, \"2\": 1, \"1\": 26, \"10\": 8, \"12\": 2, \"11\": 4, \"5\": 36, \"6\": 27, \"4\": 25, \"0\": 5}}, \"ORACLE.run1_32\": {\"2\": {\"11\": 25, \"0\": 27, \"2\": 52, \"4\": 23, \"13\": 10, \"5\": 13, \"14\": 32, \"8\": 5, \"12\": 2, \"7\": 31, \"9\": 20}, \"6\": {\"6\": 202, \"10\": 8, \"1\": 11, \"12\": 17, \"9\": 2}, \"5\": {\"3\": 26, \"5\": 34, \"0\": 20, \"8\": 33, \"7\": 19, \"14\": 25, \"11\": 15, \"12\": 2, \"13\": 23, \"15\": 4, \"4\": 27, \"2\": 10, \"9\": 2}, \"12\": {\"9\": 55, \"12\": 141, \"10\": 17, \"6\": 22, \"2\": 2, \"1\": 3}, \"13\": {\"11\": 14, \"3\": 40, \"13\": 45, \"0\": 20, \"5\": 24, \"14\": 12, \"7\": 18, \"4\": 23, \"8\": 29, \"2\": 7, \"15\": 7, \"12\": 1}, \"9\": {\"0\": 9, \"9\": 104, \"10\": 3, \"12\": 51, \"2\": 34, \"7\": 4, \"4\": 9, \"13\": 5, \"6\": 11, \"14\": 2, \"11\": 6, \"5\": 2}, \"11\": {\"4\": 21, \"11\": 49, \"7\": 30, \"14\": 47, \"5\": 21, \"0\": 24, \"8\": 13, \"2\": 20, \"3\": 6, \"13\": 7, \"15\": 1, \"9\": 1}, \"1\": {\"6\": 12, \"1\": 161, \"10\": 67}, \"3\": {\"8\": 48, \"3\": 73, \"5\": 30, \"14\": 4, \"4\": 8, \"15\": 23, \"13\": 33, \"0\": 11, \"7\": 4, \"11\": 6}, \"7\": {\"9\": 3, \"2\": 29, \"11\": 42, \"3\": 6, \"5\": 22, \"4\": 18, \"0\": 28, \"8\": 19, \"7\": 39, \"13\": 12, \"14\": 22}, \"14\": {\"4\": 29, \"14\": 33, \"0\": 34, \"8\": 11, \"7\": 32, \"5\": 16, \"2\": 32, \"11\": 39, \"13\": 9, \"9\": 1, \"3\": 4}, \"8\": {\"4\": 31, \"3\": 49, \"0\": 19, \"13\": 26, \"11\": 13, \"8\": 44, \"15\": 14, \"2\": 6, \"7\": 7, \"5\": 25, \"14\": 5, \"9\": 1}, \"4\": {\"5\": 21, \"7\": 29, \"0\": 32, \"4\": 35, \"11\": 16, \"2\": 28, \"8\": 23, \"14\": 17, \"9\": 7, \"3\": 6, \"13\": 26}, \"0\": {\"0\": 34, \"13\": 33, \"8\": 20, \"7\": 21, \"11\": 23, \"5\": 25, \"4\": 21, \"9\": 6, \"3\": 11, \"2\": 27, \"14\": 19}, \"10\": {\"10\": 172, \"1\": 51, \"12\": 14, \"6\": 3}, \"15\": {\"15\": 182, \"3\": 36, \"13\": 15, \"8\": 6, \"5\": 1}}, \"ORACLE.run1_44\": {\"13\": {\"13\": 45, \"9\": 31, \"4\": 15, \"11\": 31, \"6\": 45, \"7\": 28, \"2\": 23, \"10\": 9, \"3\": 2, \"14\": 6, \"1\": 3, \"5\": 1, \"12\": 1}, \"4\": {\"9\": 20, \"14\": 60, \"4\": 72, \"15\": 6, \"5\": 22, \"7\": 11, \"13\": 11, \"0\": 6, \"11\": 4, \"1\": 4, \"2\": 3, \"3\": 14, \"10\": 1, \"12\": 3, \"8\": 2, \"6\": 1}, \"6\": {\"11\": 43, \"2\": 21, \"6\": 64, \"7\": 20, \"9\": 24, \"13\": 49, \"12\": 4, \"10\": 13, \"4\": 1, \"1\": 1}, \"0\": {\"5\": 27, \"15\": 52, \"0\": 68, \"14\": 19, \"8\": 68, \"4\": 6}, \"10\": {\"12\": 30, \"7\": 35, \"13\": 12, \"9\": 23, \"10\": 41, \"1\": 28, \"2\": 33, \"3\": 16, \"6\": 14, \"11\": 6, \"4\": 2}, \"7\": {\"2\": 42, \"4\": 4, \"12\": 15, \"9\": 34, \"13\": 27, \"6\": 23, \"10\": 23, \"3\": 8, \"7\": 23, \"11\": 24, \"1\": 16, \"14\": 1}, \"14\": {\"0\": 19, \"14\": 78, \"7\": 2, \"4\": 53, \"15\": 28, \"5\": 42, \"3\": 5, \"8\": 6, \"2\": 1, \"12\": 2, \"1\": 1, \"11\": 1, \"9\": 1, \"13\": 1}, \"15\": {\"14\": 33, \"8\": 45, \"15\": 62, \"0\": 52, \"4\": 13, \"5\": 31, \"3\": 3, \"1\": 1}, \"5\": {\"0\": 30, \"5\": 55, \"14\": 64, \"4\": 28, \"8\": 25, \"15\": 34, \"11\": 1, \"13\": 1, \"9\": 2}, \"2\": {\"10\": 21, \"12\": 20, \"13\": 27, \"7\": 30, \"2\": 38, \"1\": 26, \"3\": 8, \"9\": 37, \"11\": 14, \"6\": 16, \"4\": 3}, \"9\": {\"2\": 22, \"9\": 41, \"6\": 28, \"10\": 19, \"12\": 12, \"13\": 31, \"3\": 11, \"7\": 28, \"1\": 16, \"11\": 19, \"14\": 2, \"4\": 10, \"5\": 1}, \"12\": {\"4\": 6, \"3\": 43, \"12\": 55, \"1\": 60, \"10\": 28, \"7\": 14, \"2\": 20, \"9\": 9, \"13\": 3, \"11\": 2}, \"8\": {\"0\": 67, \"8\": 105, \"14\": 3, \"15\": 48, \"5\": 16, \"4\": 1}, \"3\": {\"12\": 35, \"3\": 85, \"1\": 46, \"14\": 17, \"4\": 12, \"10\": 17, \"7\": 12, \"9\": 6, \"13\": 1, \"2\": 6, \"15\": 2, \"5\": 1}, \"1\": {\"12\": 46, \"2\": 22, \"3\": 40, \"7\": 23, \"10\": 29, \"1\": 51, \"9\": 13, \"6\": 2, \"14\": 2, \"4\": 8, \"13\": 2, \"15\": 1, \"11\": 1}, \"11\": {\"13\": 43, \"9\": 23, \"2\": 16, \"11\": 63, \"6\": 58, \"7\": 21, \"12\": 3, \"10\": 10, \"1\": 2, \"3\": 1}}, \"ORACLE.run1_14\": {\"1\": {\"5\": 40, \"1\": 48, \"3\": 20, \"7\": 24, \"11\": 10, \"0\": 11, \"13\": 6, \"8\": 11, \"10\": 14, \"4\": 33, \"15\": 4, \"6\": 2, \"9\": 8, \"2\": 6, \"14\": 3}, \"15\": {\"15\": 57, \"14\": 10, \"5\": 31, \"13\": 18, \"3\": 8, \"2\": 12, \"7\": 40, \"4\": 28, \"10\": 4, \"0\": 6, \"1\": 10, \"8\": 2, \"6\": 11, \"11\": 3}, \"10\": {\"0\": 37, \"4\": 15, \"1\": 13, \"10\": 33, \"2\": 14, \"12\": 4, \"11\": 35, \"9\": 7, \"3\": 34, \"6\": 10, \"8\": 2, \"14\": 11, \"13\": 8, \"5\": 14, \"15\": 2, \"7\": 1}, \"2\": {\"13\": 19, \"7\": 3, \"0\": 12, \"5\": 20, \"3\": 17, \"6\": 34, \"14\": 36, \"10\": 11, \"1\": 7, \"15\": 18, \"4\": 21, \"2\": 35, \"11\": 7}, \"9\": {\"12\": 61, \"9\": 86, \"8\": 31, \"11\": 11, \"10\": 9, \"3\": 7, \"0\": 17, \"4\": 8, \"5\": 3, \"1\": 7}, \"5\": {\"10\": 15, \"9\": 2, \"1\": 32, \"13\": 12, \"15\": 22, \"4\": 29, \"7\": 22, \"3\": 19, \"5\": 27, \"6\": 8, \"14\": 9, \"2\": 15, \"0\": 14, \"8\": 4, \"11\": 10}, \"7\": {\"4\": 33, \"5\": 28, \"1\": 30, \"15\": 46, \"7\": 48, \"3\": 8, \"6\": 4, \"13\": 8, \"14\": 5, \"10\": 4, \"2\": 11, \"0\": 5, \"9\": 2, \"8\": 6, \"11\": 2}, \"13\": {\"11\": 7, \"13\": 32, \"2\": 33, \"6\": 55, \"14\": 50, \"15\": 9, \"3\": 6, \"4\": 16, \"10\": 9, \"5\": 8, \"7\": 6, \"0\": 6, \"1\": 3}, \"8\": {\"8\": 119, \"9\": 44, \"4\": 8, \"1\": 18, \"7\": 3, \"12\": 23, \"0\": 11, \"10\": 2, \"11\": 4, \"3\": 4, \"5\": 3, \"15\": 1}, \"6\": {\"3\": 17, \"6\": 50, \"11\": 8, \"13\": 39, \"14\": 52, \"4\": 7, \"2\": 34, \"5\": 6, \"0\": 6, \"10\": 7, \"1\": 3, \"15\": 10, \"7\": 1}, \"3\": {\"10\": 21, \"13\": 14, \"8\": 3, \"0\": 29, \"11\": 17, \"6\": 10, \"5\": 27, \"3\": 16, \"4\": 25, \"1\": 29, \"7\": 9, \"14\": 9, \"9\": 5, \"2\": 17, \"15\": 9}, \"12\": {\"9\": 80, \"12\": 122, \"11\": 8, \"10\": 4, \"0\": 5, \"8\": 20, \"1\": 1}, \"0\": {\"14\": 13, \"10\": 29, \"5\": 16, \"3\": 30, \"4\": 26, \"0\": 31, \"11\": 31, \"9\": 14, \"8\": 6, \"1\": 21, \"13\": 5, \"2\": 9, \"15\": 3, \"6\": 3, \"12\": 3}, \"4\": {\"3\": 13, \"4\": 28, \"1\": 34, \"7\": 21, \"2\": 16, \"13\": 12, \"10\": 19, \"11\": 13, \"5\": 28, \"15\": 15, \"9\": 9, \"0\": 16, \"14\": 8, \"6\": 4, \"8\": 4}, \"14\": {\"6\": 49, \"14\": 47, \"2\": 33, \"4\": 9, \"11\": 16, \"3\": 15, \"13\": 26, \"1\": 6, \"10\": 13, \"0\": 14, \"5\": 6, \"15\": 5, \"7\": 1}, \"11\": {\"2\": 11, \"9\": 18, \"10\": 34, \"6\": 10, \"14\": 21, \"11\": 50, \"13\": 8, \"4\": 13, \"3\": 16, \"1\": 4, \"0\": 40, \"8\": 2, \"12\": 3, \"5\": 10}}}, \"per_domain_accuracy\": {\"C_A_2\": {\"accuracy\": 0.98125, \"source?\": true}, \"C_A_5\": {\"accuracy\": 0.9796875, \"source?\": true}, \"W_A_2\": {\"accuracy\": 0.9248670212765957, \"source?\": true}, \"C_A_1\": {\"accuracy\": 0.9796875, \"source?\": true}, \"W_A_4\": {\"accuracy\": 0.9329427083333334, \"source?\": true}, \"W_A_1\": {\"accuracy\": 0.9401041666666666, \"source?\": true}, \"C_A_4\": {\"accuracy\": 0.975, \"source?\": true}, \"W_A_3\": {\"accuracy\": 0.9407552083333334, \"source?\": true}, \"C_A_3\": {\"accuracy\": 0.975, \"source?\": true}, \"ORACLE.run1_8\": {\"accuracy\": 0.21692708333333333, \"source?\": false}, \"ORACLE.run1_38\": {\"accuracy\": 0.3059895833333333, \"source?\": false}, \"ORACLE.run1_26\": {\"accuracy\": 0.1796875, \"source?\": false}, \"ORACLE.run1_20\": {\"accuracy\": 0.13880208333333333, \"source?\": false}, \"ORACLE.run1_50\": {\"accuracy\": 0.26145833333333335, \"source?\": false}, \"ORACLE.run1_32\": {\"accuracy\": 0.3645833333333333, \"source?\": false}, \"ORACLE.run1_44\": {\"accuracy\": 0.24635416666666668, \"source?\": false}, \"ORACLE.run1_14\": {\"accuracy\": 0.21588541666666666, \"source?\": false}}}, \"history\": {\"epoch_indices\": [1, 2, 3, 4, 5], \"train_label_loss\": [0.3473065075042814, 0.17643798549166745, 0.13673141338229555, 0.10902713285117673, 0.08942081823512091], \"source_val_label_loss\": [0.22394950687885284, 0.14987006783485413, 0.13157948851585388, 0.1263018697500229, 0.11653304845094681], \"target_val_label_loss\": [2.2569692134857178, 2.3376455307006836, 2.468773603439331, 2.501436233520508, 2.6347780227661133], \"source_val_acc_label\": [0.9496348797250859, 0.9664948453608248, 0.9699312714776632, 0.9746563573883161, 0.9745489690721649], \"target_val_acc_label\": [0.2412109375, 0.22623697916666666, 0.196484375, 0.19694010416666666, 0.18997395833333333]}, \"dataset_metrics\": {\"source\": {\"train\": {\"n_unique_x\": 56700, \"n_unique_y\": 130, \"n_batch/episode\": 2078}, \"val\": {\"n_unique_x\": 12122, \"n_unique_y\": 130, \"n_batch/episode\": 291}, \"test\": {\"n_unique_x\": 12122, \"n_unique_y\": 130, \"n_batch/episode\": 291}}, \"target\": {\"train\": {\"n_unique_x\": 179200, \"n_unique_y\": 16, \"n_batch/episode\": 6720}, \"val\": {\"n_unique_x\": 38400, \"n_unique_y\": 16, \"n_batch/episode\": 960}, \"test\": {\"n_unique_x\": 38400, \"n_unique_y\": 16, \"n_batch/episode\": 960}}}}'"
      ]
     },
     "execution_count": 29,
     "metadata": {},
     "output_type": "execute_result"
    }
   ],
   "source": [
    "json.dumps(experiment)"
   ]
  }
 ],
 "metadata": {
  "celltoolbar": "Tags",
  "kernelspec": {
   "display_name": "Python 3 (ipykernel)",
   "language": "python",
   "name": "python3"
  },
  "language_info": {
   "codemirror_mode": {
    "name": "ipython",
    "version": 3
   },
   "file_extension": ".py",
   "mimetype": "text/x-python",
   "name": "python",
   "nbconvert_exporter": "python",
   "pygments_lexer": "ipython3",
   "version": "3.8.10"
  },
  "papermill": {
   "default_parameters": {},
   "duration": 387.362105,
   "end_time": "2022-03-18T22:20:41.093184",
   "environment_variables": {},
   "exception": null,
   "input_path": "/mnt/wd500GB/CSC500/csc500-main/csc500-notebooks/templates/tl_ptn_template.ipynb",
   "output_path": "trial.ipynb",
   "parameters": {
    "parameters": {
     "BEST_MODEL_PATH": "./best_model.pth",
     "NUM_LOGS_PER_EPOCH": 10,
     "criteria_for_best": "target_loss",
     "dataset_seed": 154325,
     "datasets": [
      {
       "domain_prefix": "C_A_",
       "domains": [
        1,
        2,
        3,
        4,
        5
       ],
       "episode_transforms": [],
       "labels": [
        "1-10.",
        "1-11.",
        "1-15.",
        "1-16.",
        "1-17.",
        "1-18.",
        "1-19.",
        "10-4.",
        "10-7.",
        "11-1.",
        "11-14.",
        "11-17.",
        "11-20.",
        "11-7.",
        "13-20.",
        "13-8.",
        "14-10.",
        "14-11.",
        "14-14.",
        "14-7.",
        "15-1.",
        "15-20.",
        "16-1.",
        "16-16.",
        "17-10.",
        "17-11.",
        "17-2.",
        "19-1.",
        "19-16.",
        "19-19.",
        "19-20.",
        "19-3.",
        "2-10.",
        "2-11.",
        "2-17.",
        "2-18.",
        "2-20.",
        "2-3.",
        "2-4.",
        "2-5.",
        "2-6.",
        "2-7.",
        "2-8.",
        "3-13.",
        "3-18.",
        "3-3.",
        "4-1.",
        "4-10.",
        "4-11.",
        "4-19.",
        "5-5.",
        "6-15.",
        "7-10.",
        "7-14.",
        "8-18.",
        "8-20.",
        "8-3.",
        "8-8."
       ],
       "num_examples_per_domain_per_label": 100,
       "pickle_path": "/mnt/wd500GB/CSC500/csc500-main/datasets/cores.stratified_ds.2022A.pkl",
       "source_or_target_dataset": "source",
       "x_transforms": [
        "unit_power",
        "take_200"
       ]
      },
      {
       "domain_prefix": "W_A_",
       "domains": [
        1,
        2,
        3,
        4
       ],
       "episode_transforms": [],
       "labels": [
        "1-10",
        "1-12",
        "1-14",
        "1-16",
        "1-18",
        "1-19",
        "1-8",
        "10-11",
        "10-17",
        "10-4",
        "10-7",
        "11-1",
        "11-10",
        "11-19",
        "11-20",
        "11-4",
        "11-7",
        "12-19",
        "12-20",
        "12-7",
        "13-14",
        "13-18",
        "13-19",
        "13-20",
        "13-3",
        "13-7",
        "14-10",
        "14-11",
        "14-12",
        "14-13",
        "14-14",
        "14-19",
        "14-20",
        "14-7",
        "14-8",
        "14-9",
        "15-1",
        "15-19",
        "15-6",
        "16-1",
        "16-16",
        "16-19",
        "16-20",
        "17-10",
        "17-11",
        "18-1",
        "18-10",
        "18-11",
        "18-12",
        "18-13",
        "18-14",
        "18-15",
        "18-16",
        "18-17",
        "18-19",
        "18-2",
        "18-20",
        "18-4",
        "18-5",
        "18-7",
        "18-8",
        "18-9",
        "19-1",
        "19-10",
        "19-11",
        "19-12",
        "19-13",
        "19-14",
        "19-15",
        "19-19",
        "19-2",
        "19-20",
        "19-3",
        "19-4",
        "19-6",
        "19-7",
        "19-8",
        "19-9",
        "2-1",
        "2-13",
        "2-15",
        "2-3",
        "2-4",
        "2-5",
        "2-6",
        "2-7",
        "2-8",
        "20-1",
        "20-12",
        "20-14",
        "20-15",
        "20-16",
        "20-18",
        "20-19",
        "20-20",
        "20-3",
        "20-4",
        "20-5",
        "20-7",
        "20-8",
        "3-1",
        "3-13",
        "3-18",
        "3-2",
        "3-8",
        "4-1",
        "4-10",
        "4-11",
        "5-1",
        "5-5",
        "6-1",
        "6-15",
        "6-6",
        "7-10",
        "7-11",
        "7-12",
        "7-13",
        "7-14",
        "7-7",
        "7-8",
        "7-9",
        "8-1",
        "8-13",
        "8-14",
        "8-18",
        "8-20",
        "8-3",
        "8-8",
        "9-1",
        "9-7"
       ],
       "num_examples_per_domain_per_label": 100,
       "pickle_path": "/mnt/wd500GB/CSC500/csc500-main/datasets/wisig.node3-19.stratified_ds.2022A.pkl",
       "source_or_target_dataset": "source",
       "x_transforms": [
        "unit_power",
        "take_200"
       ]
      },
      {
       "domain_prefix": "ORACLE.run1_",
       "domains": [
        32,
        38,
        8,
        44,
        14,
        50,
        20,
        26
       ],
       "episode_transforms": [],
       "labels": [
        "3123D52",
        "3123D65",
        "3123D79",
        "3123D80",
        "3123D54",
        "3123D70",
        "3123D7B",
        "3123D89",
        "3123D58",
        "3123D76",
        "3123D7D",
        "3123EFE",
        "3123D64",
        "3123D78",
        "3123D7E",
        "3124E4A"
       ],
       "num_examples_per_domain_per_label": 2000,
       "pickle_path": "/mnt/wd500GB/CSC500/csc500-main/datasets/oracle.Run1_framed_2000Examples_stratified_ds.2022A.pkl",
       "source_or_target_dataset": "target",
       "x_transforms": [
        "unit_power",
        "take_200",
        "resample_20Msps_to_25Msps"
       ]
      }
     ],
     "device": "cuda",
     "experiment_name": "tl_3A:cores+wisig -> oracle.run1.framed",
     "lr": 0.001,
     "n_epoch": 50,
     "n_query": 2,
     "n_shot": 3,
     "n_way": 16,
     "patience": 3,
     "seed": 154325,
     "test_k_factor": 2,
     "torch_default_dtype": "torch.float32",
     "train_k_factor": 3,
     "val_k_factor": 2,
     "x_net": [
      {
       "class": "nnReshape",
       "kargs": {
        "shape": [
         -1,
         1,
         2,
         200
        ]
       }
      },
      {
       "class": "Conv2d",
       "kargs": {
        "bias": false,
        "in_channels": 1,
        "kernel_size": [
         1,
         7
        ],
        "out_channels": 256,
        "padding": [
         0,
         3
        ]
       }
      },
      {
       "class": "ReLU",
       "kargs": {
        "inplace": true
       }
      },
      {
       "class": "BatchNorm2d",
       "kargs": {
        "num_features": 256
       }
      },
      {
       "class": "Conv2d",
       "kargs": {
        "bias": true,
        "in_channels": 256,
        "kernel_size": [
         2,
         7
        ],
        "out_channels": 80,
        "padding": [
         0,
         3
        ]
       }
      },
      {
       "class": "ReLU",
       "kargs": {
        "inplace": true
       }
      },
      {
       "class": "BatchNorm2d",
       "kargs": {
        "num_features": 80
       }
      },
      {
       "class": "Flatten",
       "kargs": {}
      },
      {
       "class": "Linear",
       "kargs": {
        "in_features": 16000,
        "out_features": 256
       }
      },
      {
       "class": "ReLU",
       "kargs": {
        "inplace": true
       }
      },
      {
       "class": "BatchNorm1d",
       "kargs": {
        "num_features": 256
       }
      },
      {
       "class": "Linear",
       "kargs": {
        "in_features": 256,
        "out_features": 256
       }
      }
     ],
     "x_shape": [
      2,
      200
     ]
    }
   },
   "start_time": "2022-03-18T22:14:13.731079",
   "version": "2.3.4"
  }
 },
 "nbformat": 4,
 "nbformat_minor": 5
}