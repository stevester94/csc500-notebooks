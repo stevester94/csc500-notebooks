{
 "cells": [
  {
   "cell_type": "markdown",
   "id": "9fea5f46",
   "metadata": {
    "papermill": {
     "duration": 0.016016,
     "end_time": "2022-03-18T21:22:13.737241",
     "exception": false,
     "start_time": "2022-03-18T21:22:13.721225",
     "status": "completed"
    },
    "tags": []
   },
   "source": [
    "# Transfer Learning Template"
   ]
  },
  {
   "cell_type": "code",
   "execution_count": 1,
   "id": "0902182a",
   "metadata": {
    "execution": {
     "iopub.execute_input": "2022-03-18T21:22:13.777524Z",
     "iopub.status.busy": "2022-03-18T21:22:13.769791Z",
     "iopub.status.idle": "2022-03-18T21:22:14.675073Z",
     "shell.execute_reply": "2022-03-18T21:22:14.674772Z"
    },
    "papermill": {
     "duration": 0.925395,
     "end_time": "2022-03-18T21:22:14.675146",
     "exception": false,
     "start_time": "2022-03-18T21:22:13.749751",
     "status": "completed"
    },
    "tags": []
   },
   "outputs": [],
   "source": [
    "%load_ext autoreload\n",
    "%autoreload 2\n",
    "%matplotlib inline\n",
    "\n",
    "    \n",
    "import os, json, sys, time, random\n",
    "import numpy as np\n",
    "import torch\n",
    "from torch.optim import Adam\n",
    "from  easydict import EasyDict\n",
    "import matplotlib.pyplot as plt\n",
    "\n",
    "from steves_models.steves_ptn import Steves_Prototypical_Network\n",
    "\n",
    "from steves_utils.lazy_iterable_wrapper import Lazy_Iterable_Wrapper\n",
    "from steves_utils.iterable_aggregator import Iterable_Aggregator\n",
    "from steves_utils.ptn_train_eval_test_jig import  PTN_Train_Eval_Test_Jig\n",
    "from steves_utils.torch_sequential_builder import build_sequential\n",
    "from steves_utils.torch_utils import get_dataset_metrics, ptn_confusion_by_domain_over_dataloader\n",
    "from steves_utils.utils_v2 import (per_domain_accuracy_from_confusion, get_datasets_base_path)\n",
    "from steves_utils.PTN.utils import independent_accuracy_assesment\n",
    "\n",
    "from torch.utils.data import DataLoader\n",
    "\n",
    "from steves_utils.stratified_dataset.episodic_accessor import Episodic_Accessor_Factory\n",
    "\n",
    "from steves_utils.ptn_do_report import (\n",
    "    get_loss_curve,\n",
    "    get_results_table,\n",
    "    get_parameters_table,\n",
    "    get_domain_accuracies,\n",
    ")\n",
    "\n",
    "from steves_utils.transforms import get_chained_transform"
   ]
  },
  {
   "cell_type": "markdown",
   "id": "41c840b4",
   "metadata": {
    "papermill": {
     "duration": 0.012619,
     "end_time": "2022-03-18T21:22:14.705084",
     "exception": false,
     "start_time": "2022-03-18T21:22:14.692465",
     "status": "completed"
    },
    "tags": []
   },
   "source": [
    "# Allowed Parameters\n",
    "These are allowed parameters, not defaults\n",
    "Each of these values need to be present in the injected parameters (the notebook will raise an exception if they are not present)\n",
    "\n",
    "Papermill uses the cell tag \"parameters\" to inject the real parameters below this cell.\n",
    "Enable tags to see what I mean"
   ]
  },
  {
   "cell_type": "code",
   "execution_count": 2,
   "id": "fd44eb83",
   "metadata": {
    "execution": {
     "iopub.execute_input": "2022-03-18T21:22:14.734406Z",
     "iopub.status.busy": "2022-03-18T21:22:14.734109Z",
     "iopub.status.idle": "2022-03-18T21:22:14.749503Z",
     "shell.execute_reply": "2022-03-18T21:22:14.749051Z"
    },
    "papermill": {
     "duration": 0.031451,
     "end_time": "2022-03-18T21:22:14.749593",
     "exception": false,
     "start_time": "2022-03-18T21:22:14.718142",
     "status": "completed"
    },
    "tags": []
   },
   "outputs": [],
   "source": [
    "required_parameters = {\n",
    "    \"experiment_name\",\n",
    "    \"lr\",\n",
    "    \"device\",\n",
    "    \"seed\",\n",
    "    \"dataset_seed\",\n",
    "    \"n_shot\",\n",
    "    \"n_query\",\n",
    "    \"n_way\",\n",
    "    \"train_k_factor\",\n",
    "    \"val_k_factor\",\n",
    "    \"test_k_factor\",\n",
    "    \"n_epoch\",\n",
    "    \"patience\",\n",
    "    \"criteria_for_best\",\n",
    "    \"x_net\",\n",
    "    \"datasets\",\n",
    "    \"torch_default_dtype\",\n",
    "    \"NUM_LOGS_PER_EPOCH\",\n",
    "    \"BEST_MODEL_PATH\",\n",
    "    \"x_shape\",\n",
    "}"
   ]
  },
  {
   "cell_type": "code",
   "execution_count": 3,
   "id": "fa3f0049",
   "metadata": {
    "execution": {
     "iopub.execute_input": "2022-03-18T21:22:14.785765Z",
     "iopub.status.busy": "2022-03-18T21:22:14.785461Z",
     "iopub.status.idle": "2022-03-18T21:22:14.798013Z",
     "shell.execute_reply": "2022-03-18T21:22:14.797619Z"
    },
    "papermill": {
     "duration": 0.031403,
     "end_time": "2022-03-18T21:22:14.798102",
     "exception": false,
     "start_time": "2022-03-18T21:22:14.766699",
     "status": "completed"
    },
    "tags": [
     "parameters"
    ]
   },
   "outputs": [],
   "source": [
    "from steves_utils.CORES.utils import (\n",
    "    ALL_NODES,\n",
    "    ALL_NODES_MINIMUM_1000_EXAMPLES,\n",
    "    ALL_DAYS\n",
    ")\n",
    "\n",
    "from steves_utils.ORACLE.utils_v2 import (\n",
    "    ALL_DISTANCES_FEET_NARROWED,\n",
    "    ALL_RUNS,\n",
    "    ALL_SERIAL_NUMBERS,\n",
    ")\n",
    "\n",
    "standalone_parameters = {}\n",
    "standalone_parameters[\"experiment_name\"] = \"STANDALONE PTN\"\n",
    "standalone_parameters[\"lr\"] = 0.001\n",
    "standalone_parameters[\"device\"] = \"cuda\"\n",
    "\n",
    "standalone_parameters[\"seed\"] = 1337\n",
    "standalone_parameters[\"dataset_seed\"] = 1337\n",
    "\n",
    "standalone_parameters[\"n_way\"] = 8\n",
    "standalone_parameters[\"n_shot\"] = 3\n",
    "standalone_parameters[\"n_query\"]  = 2\n",
    "standalone_parameters[\"train_k_factor\"] = 1\n",
    "standalone_parameters[\"val_k_factor\"] = 2\n",
    "standalone_parameters[\"test_k_factor\"] = 2\n",
    "\n",
    "\n",
    "standalone_parameters[\"n_epoch\"] = 50\n",
    "\n",
    "standalone_parameters[\"patience\"] = 10\n",
    "standalone_parameters[\"criteria_for_best\"] = \"source_loss\"\n",
    "\n",
    "standalone_parameters[\"datasets\"] = [\n",
    "    {\n",
    "        \"labels\": ALL_SERIAL_NUMBERS,\n",
    "        \"domains\": ALL_DISTANCES_FEET_NARROWED,\n",
    "        \"num_examples_per_domain_per_label\": 100,\n",
    "        \"pickle_path\": os.path.join(get_datasets_base_path(), \"oracle.Run1_framed_2000Examples_stratified_ds.2022A.pkl\"),\n",
    "        \"source_or_target_dataset\": \"source\",\n",
    "        \"x_transforms\": [\"unit_mag\", \"minus_two\"],\n",
    "        \"episode_transforms\": [],\n",
    "        \"domain_prefix\": \"ORACLE_\"\n",
    "    },\n",
    "    {\n",
    "        \"labels\": ALL_NODES,\n",
    "        \"domains\": ALL_DAYS,\n",
    "        \"num_examples_per_domain_per_label\": 100,\n",
    "        \"pickle_path\": os.path.join(get_datasets_base_path(), \"cores.stratified_ds.2022A.pkl\"),\n",
    "        \"source_or_target_dataset\": \"target\",\n",
    "        \"x_transforms\": [\"unit_power\", \"times_zero\"],\n",
    "        \"episode_transforms\": [],\n",
    "        \"domain_prefix\": \"CORES_\"\n",
    "    }   \n",
    "]\n",
    "\n",
    "standalone_parameters[\"torch_default_dtype\"] = \"torch.float32\" \n",
    "\n",
    "\n",
    "\n",
    "standalone_parameters[\"x_net\"] =     [\n",
    "    {\"class\": \"nnReshape\", \"kargs\": {\"shape\":[-1, 1, 2, 256]}},\n",
    "    {\"class\": \"Conv2d\", \"kargs\": { \"in_channels\":1, \"out_channels\":256, \"kernel_size\":(1,7), \"bias\":False, \"padding\":(0,3), },},\n",
    "    {\"class\": \"ReLU\", \"kargs\": {\"inplace\": True}},\n",
    "    {\"class\": \"BatchNorm2d\", \"kargs\": {\"num_features\":256}},\n",
    "\n",
    "    {\"class\": \"Conv2d\", \"kargs\": { \"in_channels\":256, \"out_channels\":80, \"kernel_size\":(2,7), \"bias\":True, \"padding\":(0,3), },},\n",
    "    {\"class\": \"ReLU\", \"kargs\": {\"inplace\": True}},\n",
    "    {\"class\": \"BatchNorm2d\", \"kargs\": {\"num_features\":80}},\n",
    "    {\"class\": \"Flatten\", \"kargs\": {}},\n",
    "\n",
    "    {\"class\": \"Linear\", \"kargs\": {\"in_features\": 80*256, \"out_features\": 256}}, # 80 units per IQ pair\n",
    "    {\"class\": \"ReLU\", \"kargs\": {\"inplace\": True}},\n",
    "    {\"class\": \"BatchNorm1d\", \"kargs\": {\"num_features\":256}},\n",
    "\n",
    "    {\"class\": \"Linear\", \"kargs\": {\"in_features\": 256, \"out_features\": 256}},\n",
    "]\n",
    "\n",
    "# Parameters relevant to results\n",
    "# These parameters will basically never need to change\n",
    "standalone_parameters[\"NUM_LOGS_PER_EPOCH\"] = 10\n",
    "standalone_parameters[\"BEST_MODEL_PATH\"] = \"./best_model.pth\"\n",
    "\n",
    "\n",
    "\n",
    "\n"
   ]
  },
  {
   "cell_type": "code",
   "execution_count": 4,
   "id": "0f7cff0b",
   "metadata": {
    "execution": {
     "iopub.execute_input": "2022-03-18T21:22:14.844633Z",
     "iopub.status.busy": "2022-03-18T21:22:14.844053Z",
     "iopub.status.idle": "2022-03-18T21:22:14.857227Z",
     "shell.execute_reply": "2022-03-18T21:22:14.856810Z"
    },
    "papermill": {
     "duration": 0.042122,
     "end_time": "2022-03-18T21:22:14.857316",
     "exception": false,
     "start_time": "2022-03-18T21:22:14.815194",
     "status": "completed"
    },
    "tags": [
     "injected-parameters"
    ]
   },
   "outputs": [],
   "source": [
    "# Parameters\n",
    "parameters = {\n",
    "    \"experiment_name\": \"tl_3A:cores+wisig -> oracle.run1.framed\",\n",
    "    \"device\": \"cuda\",\n",
    "    \"lr\": 0.001,\n",
    "    \"x_shape\": [2, 200],\n",
    "    \"n_shot\": 3,\n",
    "    \"n_query\": 2,\n",
    "    \"train_k_factor\": 3,\n",
    "    \"val_k_factor\": 2,\n",
    "    \"test_k_factor\": 2,\n",
    "    \"torch_default_dtype\": \"torch.float32\",\n",
    "    \"n_epoch\": 50,\n",
    "    \"patience\": 3,\n",
    "    \"criteria_for_best\": \"target_loss\",\n",
    "    \"x_net\": [\n",
    "        {\"class\": \"nnReshape\", \"kargs\": {\"shape\": [-1, 1, 2, 200]}},\n",
    "        {\n",
    "            \"class\": \"Conv2d\",\n",
    "            \"kargs\": {\n",
    "                \"in_channels\": 1,\n",
    "                \"out_channels\": 256,\n",
    "                \"kernel_size\": [1, 7],\n",
    "                \"bias\": False,\n",
    "                \"padding\": [0, 3],\n",
    "            },\n",
    "        },\n",
    "        {\"class\": \"ReLU\", \"kargs\": {\"inplace\": True}},\n",
    "        {\"class\": \"BatchNorm2d\", \"kargs\": {\"num_features\": 256}},\n",
    "        {\n",
    "            \"class\": \"Conv2d\",\n",
    "            \"kargs\": {\n",
    "                \"in_channels\": 256,\n",
    "                \"out_channels\": 80,\n",
    "                \"kernel_size\": [2, 7],\n",
    "                \"bias\": True,\n",
    "                \"padding\": [0, 3],\n",
    "            },\n",
    "        },\n",
    "        {\"class\": \"ReLU\", \"kargs\": {\"inplace\": True}},\n",
    "        {\"class\": \"BatchNorm2d\", \"kargs\": {\"num_features\": 80}},\n",
    "        {\"class\": \"Flatten\", \"kargs\": {}},\n",
    "        {\"class\": \"Linear\", \"kargs\": {\"in_features\": 16000, \"out_features\": 256}},\n",
    "        {\"class\": \"ReLU\", \"kargs\": {\"inplace\": True}},\n",
    "        {\"class\": \"BatchNorm1d\", \"kargs\": {\"num_features\": 256}},\n",
    "        {\"class\": \"Linear\", \"kargs\": {\"in_features\": 256, \"out_features\": 256}},\n",
    "    ],\n",
    "    \"NUM_LOGS_PER_EPOCH\": 10,\n",
    "    \"BEST_MODEL_PATH\": \"./best_model.pth\",\n",
    "    \"n_way\": 16,\n",
    "    \"datasets\": [\n",
    "        {\n",
    "            \"labels\": [\n",
    "                \"1-10.\",\n",
    "                \"1-11.\",\n",
    "                \"1-15.\",\n",
    "                \"1-16.\",\n",
    "                \"1-17.\",\n",
    "                \"1-18.\",\n",
    "                \"1-19.\",\n",
    "                \"10-4.\",\n",
    "                \"10-7.\",\n",
    "                \"11-1.\",\n",
    "                \"11-14.\",\n",
    "                \"11-17.\",\n",
    "                \"11-20.\",\n",
    "                \"11-7.\",\n",
    "                \"13-20.\",\n",
    "                \"13-8.\",\n",
    "                \"14-10.\",\n",
    "                \"14-11.\",\n",
    "                \"14-14.\",\n",
    "                \"14-7.\",\n",
    "                \"15-1.\",\n",
    "                \"15-20.\",\n",
    "                \"16-1.\",\n",
    "                \"16-16.\",\n",
    "                \"17-10.\",\n",
    "                \"17-11.\",\n",
    "                \"17-2.\",\n",
    "                \"19-1.\",\n",
    "                \"19-16.\",\n",
    "                \"19-19.\",\n",
    "                \"19-20.\",\n",
    "                \"19-3.\",\n",
    "                \"2-10.\",\n",
    "                \"2-11.\",\n",
    "                \"2-17.\",\n",
    "                \"2-18.\",\n",
    "                \"2-20.\",\n",
    "                \"2-3.\",\n",
    "                \"2-4.\",\n",
    "                \"2-5.\",\n",
    "                \"2-6.\",\n",
    "                \"2-7.\",\n",
    "                \"2-8.\",\n",
    "                \"3-13.\",\n",
    "                \"3-18.\",\n",
    "                \"3-3.\",\n",
    "                \"4-1.\",\n",
    "                \"4-10.\",\n",
    "                \"4-11.\",\n",
    "                \"4-19.\",\n",
    "                \"5-5.\",\n",
    "                \"6-15.\",\n",
    "                \"7-10.\",\n",
    "                \"7-14.\",\n",
    "                \"8-18.\",\n",
    "                \"8-20.\",\n",
    "                \"8-3.\",\n",
    "                \"8-8.\",\n",
    "            ],\n",
    "            \"domains\": [1, 2, 3, 4, 5],\n",
    "            \"num_examples_per_domain_per_label\": 100,\n",
    "            \"pickle_path\": \"/mnt/wd500GB/CSC500/csc500-main/datasets/cores.stratified_ds.2022A.pkl\",\n",
    "            \"source_or_target_dataset\": \"source\",\n",
    "            \"x_transforms\": [\"unit_power\", \"take_200\"],\n",
    "            \"episode_transforms\": [],\n",
    "            \"domain_prefix\": \"C_A_\",\n",
    "        },\n",
    "        {\n",
    "            \"labels\": [\n",
    "                \"1-10\",\n",
    "                \"1-12\",\n",
    "                \"1-14\",\n",
    "                \"1-16\",\n",
    "                \"1-18\",\n",
    "                \"1-19\",\n",
    "                \"1-8\",\n",
    "                \"10-11\",\n",
    "                \"10-17\",\n",
    "                \"10-4\",\n",
    "                \"10-7\",\n",
    "                \"11-1\",\n",
    "                \"11-10\",\n",
    "                \"11-19\",\n",
    "                \"11-20\",\n",
    "                \"11-4\",\n",
    "                \"11-7\",\n",
    "                \"12-19\",\n",
    "                \"12-20\",\n",
    "                \"12-7\",\n",
    "                \"13-14\",\n",
    "                \"13-18\",\n",
    "                \"13-19\",\n",
    "                \"13-20\",\n",
    "                \"13-3\",\n",
    "                \"13-7\",\n",
    "                \"14-10\",\n",
    "                \"14-11\",\n",
    "                \"14-12\",\n",
    "                \"14-13\",\n",
    "                \"14-14\",\n",
    "                \"14-19\",\n",
    "                \"14-20\",\n",
    "                \"14-7\",\n",
    "                \"14-8\",\n",
    "                \"14-9\",\n",
    "                \"15-1\",\n",
    "                \"15-19\",\n",
    "                \"15-6\",\n",
    "                \"16-1\",\n",
    "                \"16-16\",\n",
    "                \"16-19\",\n",
    "                \"16-20\",\n",
    "                \"17-10\",\n",
    "                \"17-11\",\n",
    "                \"18-1\",\n",
    "                \"18-10\",\n",
    "                \"18-11\",\n",
    "                \"18-12\",\n",
    "                \"18-13\",\n",
    "                \"18-14\",\n",
    "                \"18-15\",\n",
    "                \"18-16\",\n",
    "                \"18-17\",\n",
    "                \"18-19\",\n",
    "                \"18-2\",\n",
    "                \"18-20\",\n",
    "                \"18-4\",\n",
    "                \"18-5\",\n",
    "                \"18-7\",\n",
    "                \"18-8\",\n",
    "                \"18-9\",\n",
    "                \"19-1\",\n",
    "                \"19-10\",\n",
    "                \"19-11\",\n",
    "                \"19-12\",\n",
    "                \"19-13\",\n",
    "                \"19-14\",\n",
    "                \"19-15\",\n",
    "                \"19-19\",\n",
    "                \"19-2\",\n",
    "                \"19-20\",\n",
    "                \"19-3\",\n",
    "                \"19-4\",\n",
    "                \"19-6\",\n",
    "                \"19-7\",\n",
    "                \"19-8\",\n",
    "                \"19-9\",\n",
    "                \"2-1\",\n",
    "                \"2-13\",\n",
    "                \"2-15\",\n",
    "                \"2-3\",\n",
    "                \"2-4\",\n",
    "                \"2-5\",\n",
    "                \"2-6\",\n",
    "                \"2-7\",\n",
    "                \"2-8\",\n",
    "                \"20-1\",\n",
    "                \"20-12\",\n",
    "                \"20-14\",\n",
    "                \"20-15\",\n",
    "                \"20-16\",\n",
    "                \"20-18\",\n",
    "                \"20-19\",\n",
    "                \"20-20\",\n",
    "                \"20-3\",\n",
    "                \"20-4\",\n",
    "                \"20-5\",\n",
    "                \"20-7\",\n",
    "                \"20-8\",\n",
    "                \"3-1\",\n",
    "                \"3-13\",\n",
    "                \"3-18\",\n",
    "                \"3-2\",\n",
    "                \"3-8\",\n",
    "                \"4-1\",\n",
    "                \"4-10\",\n",
    "                \"4-11\",\n",
    "                \"5-1\",\n",
    "                \"5-5\",\n",
    "                \"6-1\",\n",
    "                \"6-15\",\n",
    "                \"6-6\",\n",
    "                \"7-10\",\n",
    "                \"7-11\",\n",
    "                \"7-12\",\n",
    "                \"7-13\",\n",
    "                \"7-14\",\n",
    "                \"7-7\",\n",
    "                \"7-8\",\n",
    "                \"7-9\",\n",
    "                \"8-1\",\n",
    "                \"8-13\",\n",
    "                \"8-14\",\n",
    "                \"8-18\",\n",
    "                \"8-20\",\n",
    "                \"8-3\",\n",
    "                \"8-8\",\n",
    "                \"9-1\",\n",
    "                \"9-7\",\n",
    "            ],\n",
    "            \"domains\": [1, 2, 3, 4],\n",
    "            \"num_examples_per_domain_per_label\": 100,\n",
    "            \"pickle_path\": \"/mnt/wd500GB/CSC500/csc500-main/datasets/wisig.node3-19.stratified_ds.2022A.pkl\",\n",
    "            \"source_or_target_dataset\": \"source\",\n",
    "            \"x_transforms\": [\"unit_power\", \"take_200\"],\n",
    "            \"episode_transforms\": [],\n",
    "            \"domain_prefix\": \"W_A_\",\n",
    "        },\n",
    "        {\n",
    "            \"labels\": [\n",
    "                \"3123D52\",\n",
    "                \"3123D65\",\n",
    "                \"3123D79\",\n",
    "                \"3123D80\",\n",
    "                \"3123D54\",\n",
    "                \"3123D70\",\n",
    "                \"3123D7B\",\n",
    "                \"3123D89\",\n",
    "                \"3123D58\",\n",
    "                \"3123D76\",\n",
    "                \"3123D7D\",\n",
    "                \"3123EFE\",\n",
    "                \"3123D64\",\n",
    "                \"3123D78\",\n",
    "                \"3123D7E\",\n",
    "                \"3124E4A\",\n",
    "            ],\n",
    "            \"domains\": [32, 38, 8, 44, 14, 50, 20, 26],\n",
    "            \"num_examples_per_domain_per_label\": 2000,\n",
    "            \"pickle_path\": \"/mnt/wd500GB/CSC500/csc500-main/datasets/oracle.Run1_framed_2000Examples_stratified_ds.2022A.pkl\",\n",
    "            \"source_or_target_dataset\": \"target\",\n",
    "            \"x_transforms\": [\"unit_power\", \"take_200\", \"resample_20Msps_to_25Msps\"],\n",
    "            \"episode_transforms\": [],\n",
    "            \"domain_prefix\": \"ORACLE.run1_\",\n",
    "        },\n",
    "    ],\n",
    "    \"seed\": 1337,\n",
    "    \"dataset_seed\": 1337,\n",
    "}\n"
   ]
  },
  {
   "cell_type": "code",
   "execution_count": 5,
   "id": "8fa1cc33",
   "metadata": {
    "execution": {
     "iopub.execute_input": "2022-03-18T21:22:14.891845Z",
     "iopub.status.busy": "2022-03-18T21:22:14.891562Z",
     "iopub.status.idle": "2022-03-18T21:22:14.906546Z",
     "shell.execute_reply": "2022-03-18T21:22:14.906154Z"
    },
    "papermill": {
     "duration": 0.031774,
     "end_time": "2022-03-18T21:22:14.906635",
     "exception": false,
     "start_time": "2022-03-18T21:22:14.874861",
     "status": "completed"
    },
    "tags": []
   },
   "outputs": [],
   "source": [
    "# Set this to True if you want to run this template directly\n",
    "STANDALONE = False\n",
    "if STANDALONE:\n",
    "    print(\"parameters not injected, running with standalone_parameters\")\n",
    "    parameters = standalone_parameters\n",
    "\n",
    "if not 'parameters' in locals() and not 'parameters' in globals():\n",
    "    raise Exception(\"Parameter injection failed\")\n",
    "\n",
    "#Use an easy dict for all the parameters\n",
    "p = EasyDict(parameters)\n",
    "\n",
    "if \"x_shape\" not in p:\n",
    "    p.x_shape = [2,256] # Default to this if we dont supply x_shape\n",
    "\n",
    "\n",
    "supplied_keys = set(p.keys())\n",
    "\n",
    "if  supplied_keys != required_parameters:\n",
    "    print(\"Parameters are incorrect\")\n",
    "    if len(supplied_keys - required_parameters)>0: print(\"Shouldn't have:\", str(supplied_keys - required_parameters))\n",
    "    if len(required_parameters - supplied_keys)>0: print(\"Need to have:\", str(required_parameters - supplied_keys))\n",
    "    raise RuntimeError(\"Parameters are incorrect\")"
   ]
  },
  {
   "cell_type": "code",
   "execution_count": 6,
   "id": "3a028d58",
   "metadata": {
    "execution": {
     "iopub.execute_input": "2022-03-18T21:22:14.944762Z",
     "iopub.status.busy": "2022-03-18T21:22:14.943591Z",
     "iopub.status.idle": "2022-03-18T21:22:14.954151Z",
     "shell.execute_reply": "2022-03-18T21:22:14.954577Z"
    },
    "papermill": {
     "duration": 0.030975,
     "end_time": "2022-03-18T21:22:14.954695",
     "exception": false,
     "start_time": "2022-03-18T21:22:14.923720",
     "status": "completed"
    },
    "tags": []
   },
   "outputs": [],
   "source": [
    "###################################\n",
    "# Set the RNGs and make it all deterministic\n",
    "###################################\n",
    "np.random.seed(p.seed)\n",
    "random.seed(p.seed)\n",
    "torch.manual_seed(p.seed)\n",
    "\n",
    "torch.use_deterministic_algorithms(True) "
   ]
  },
  {
   "cell_type": "code",
   "execution_count": 7,
   "id": "b691acf6",
   "metadata": {
    "execution": {
     "iopub.execute_input": "2022-03-18T21:22:14.989823Z",
     "iopub.status.busy": "2022-03-18T21:22:14.986901Z",
     "iopub.status.idle": "2022-03-18T21:22:15.001311Z",
     "shell.execute_reply": "2022-03-18T21:22:15.001738Z"
    },
    "papermill": {
     "duration": 0.030036,
     "end_time": "2022-03-18T21:22:15.001855",
     "exception": false,
     "start_time": "2022-03-18T21:22:14.971819",
     "status": "completed"
    },
    "tags": []
   },
   "outputs": [],
   "source": [
    "###########################################\n",
    "# The stratified datasets honor this\n",
    "###########################################\n",
    "torch.set_default_dtype(eval(p.torch_default_dtype))"
   ]
  },
  {
   "cell_type": "code",
   "execution_count": 8,
   "id": "b5fba671",
   "metadata": {
    "execution": {
     "iopub.execute_input": "2022-03-18T21:22:15.034352Z",
     "iopub.status.busy": "2022-03-18T21:22:15.034095Z",
     "iopub.status.idle": "2022-03-18T21:22:15.065176Z",
     "shell.execute_reply": "2022-03-18T21:22:15.064708Z"
    },
    "papermill": {
     "duration": 0.045619,
     "end_time": "2022-03-18T21:22:15.065272",
     "exception": false,
     "start_time": "2022-03-18T21:22:15.019653",
     "status": "completed"
    },
    "tags": []
   },
   "outputs": [],
   "source": [
    "###################################\n",
    "# Build the network(s)\n",
    "# Note: It's critical to do this AFTER setting the RNG\n",
    "###################################\n",
    "x_net = build_sequential(p.x_net)"
   ]
  },
  {
   "cell_type": "code",
   "execution_count": 9,
   "id": "5d7e61cc",
   "metadata": {
    "execution": {
     "iopub.execute_input": "2022-03-18T21:22:15.099800Z",
     "iopub.status.busy": "2022-03-18T21:22:15.099541Z",
     "iopub.status.idle": "2022-03-18T21:22:15.114641Z",
     "shell.execute_reply": "2022-03-18T21:22:15.114174Z"
    },
    "papermill": {
     "duration": 0.030768,
     "end_time": "2022-03-18T21:22:15.114733",
     "exception": false,
     "start_time": "2022-03-18T21:22:15.083965",
     "status": "completed"
    },
    "tags": []
   },
   "outputs": [],
   "source": [
    "start_time_secs = time.time()"
   ]
  },
  {
   "cell_type": "code",
   "execution_count": 10,
   "id": "c6b67dfd",
   "metadata": {
    "execution": {
     "iopub.execute_input": "2022-03-18T21:22:15.148167Z",
     "iopub.status.busy": "2022-03-18T21:22:15.147903Z",
     "iopub.status.idle": "2022-03-18T21:22:15.161765Z",
     "shell.execute_reply": "2022-03-18T21:22:15.161302Z"
    },
    "papermill": {
     "duration": 0.029459,
     "end_time": "2022-03-18T21:22:15.161857",
     "exception": false,
     "start_time": "2022-03-18T21:22:15.132398",
     "status": "completed"
    },
    "tags": []
   },
   "outputs": [],
   "source": [
    "p.domains_source = []\n",
    "p.domains_target = []\n",
    "\n",
    "\n",
    "train_original_source = []\n",
    "val_original_source   = []\n",
    "test_original_source  = []\n",
    "\n",
    "train_original_target = []\n",
    "val_original_target   = []\n",
    "test_original_target  = []"
   ]
  },
  {
   "cell_type": "code",
   "execution_count": 11,
   "id": "e3d9c3d3",
   "metadata": {
    "execution": {
     "iopub.execute_input": "2022-03-18T21:22:15.195205Z",
     "iopub.status.busy": "2022-03-18T21:22:15.194405Z",
     "iopub.status.idle": "2022-03-18T21:22:15.208539Z",
     "shell.execute_reply": "2022-03-18T21:22:15.208087Z"
    },
    "papermill": {
     "duration": 0.029014,
     "end_time": "2022-03-18T21:22:15.208634",
     "exception": false,
     "start_time": "2022-03-18T21:22:15.179620",
     "status": "completed"
    },
    "tags": []
   },
   "outputs": [],
   "source": [
    "# global_x_transform_func = lambda x: normalize(x.to(torch.get_default_dtype()), \"unit_power\") # unit_power, unit_mag\n",
    "# global_x_transform_func = lambda x: normalize(x, \"unit_power\") # unit_power, unit_mag"
   ]
  },
  {
   "cell_type": "code",
   "execution_count": 12,
   "id": "acb78fd2",
   "metadata": {
    "execution": {
     "iopub.execute_input": "2022-03-18T21:22:15.249319Z",
     "iopub.status.busy": "2022-03-18T21:22:15.249057Z",
     "iopub.status.idle": "2022-03-18T21:22:15.259736Z",
     "shell.execute_reply": "2022-03-18T21:22:15.259287Z"
    },
    "papermill": {
     "duration": 0.031262,
     "end_time": "2022-03-18T21:22:15.259826",
     "exception": false,
     "start_time": "2022-03-18T21:22:15.228564",
     "status": "completed"
    },
    "tags": []
   },
   "outputs": [],
   "source": [
    "def add_dataset(\n",
    "    labels,\n",
    "    domains,\n",
    "    pickle_path,\n",
    "    x_transforms,\n",
    "    episode_transforms,\n",
    "    domain_prefix,\n",
    "    num_examples_per_domain_per_label,\n",
    "    source_or_target_dataset:str,\n",
    "    iterator_seed=p.seed,\n",
    "    dataset_seed=p.dataset_seed,\n",
    "    n_shot=p.n_shot,\n",
    "    n_way=p.n_way,\n",
    "    n_query=p.n_query,\n",
    "    train_val_test_k_factors=(p.train_k_factor,p.val_k_factor,p.test_k_factor),\n",
    "):\n",
    "   \n",
    "    if x_transforms == []: x_transform = None\n",
    "    else: x_transform = get_chained_transform(x_transforms)\n",
    "    \n",
    "    if episode_transforms == []: episode_transform = None\n",
    "    else: raise Exception(\"episode_transforms not implemented\")\n",
    "    \n",
    "    episode_transform = lambda tup, _prefix=domain_prefix: (_prefix + str(tup[0]), tup[1])\n",
    "\n",
    "\n",
    "    eaf = Episodic_Accessor_Factory(\n",
    "        labels=labels,\n",
    "        domains=domains,\n",
    "        num_examples_per_domain_per_label=num_examples_per_domain_per_label,\n",
    "        iterator_seed=iterator_seed,\n",
    "        dataset_seed=dataset_seed,\n",
    "        n_shot=n_shot,\n",
    "        n_way=n_way,\n",
    "        n_query=n_query,\n",
    "        train_val_test_k_factors=train_val_test_k_factors,\n",
    "        pickle_path=pickle_path,\n",
    "        x_transform_func=x_transform,\n",
    "    )\n",
    "\n",
    "    train, val, test = eaf.get_train(), eaf.get_val(), eaf.get_test()\n",
    "    train = Lazy_Iterable_Wrapper(train, episode_transform)\n",
    "    val = Lazy_Iterable_Wrapper(val, episode_transform)\n",
    "    test = Lazy_Iterable_Wrapper(test, episode_transform)\n",
    "\n",
    "    if source_or_target_dataset==\"source\":\n",
    "        train_original_source.append(train)\n",
    "        val_original_source.append(val)\n",
    "        test_original_source.append(test)\n",
    "\n",
    "        p.domains_source.extend(\n",
    "            [domain_prefix + str(u) for u in domains]\n",
    "        )\n",
    "    elif source_or_target_dataset==\"target\":\n",
    "        train_original_target.append(train)\n",
    "        val_original_target.append(val)\n",
    "        test_original_target.append(test)\n",
    "        p.domains_target.extend(\n",
    "            [domain_prefix + str(u) for u in domains]\n",
    "        )\n",
    "    else:\n",
    "        raise Exception(f\"invalid source_or_target_dataset: {source_or_target_dataset}\")\n",
    "    "
   ]
  },
  {
   "cell_type": "code",
   "execution_count": 13,
   "id": "fe266617",
   "metadata": {
    "execution": {
     "iopub.execute_input": "2022-03-18T21:22:15.291813Z",
     "iopub.status.busy": "2022-03-18T21:22:15.291556Z",
     "iopub.status.idle": "2022-03-18T21:22:53.974096Z",
     "shell.execute_reply": "2022-03-18T21:22:53.973644Z"
    },
    "papermill": {
     "duration": 38.697734,
     "end_time": "2022-03-18T21:22:53.974197",
     "exception": false,
     "start_time": "2022-03-18T21:22:15.276463",
     "status": "completed"
    },
    "tags": []
   },
   "outputs": [],
   "source": [
    "for ds in p.datasets:\n",
    "    add_dataset(**ds)"
   ]
  },
  {
   "cell_type": "code",
   "execution_count": 14,
   "id": "b90d65ac",
   "metadata": {
    "execution": {
     "iopub.execute_input": "2022-03-18T21:22:54.014992Z",
     "iopub.status.busy": "2022-03-18T21:22:54.010140Z",
     "iopub.status.idle": "2022-03-18T21:22:54.026203Z",
     "shell.execute_reply": "2022-03-18T21:22:54.025750Z"
    },
    "papermill": {
     "duration": 0.032064,
     "end_time": "2022-03-18T21:22:54.026304",
     "exception": false,
     "start_time": "2022-03-18T21:22:53.994240",
     "status": "completed"
    },
    "tags": []
   },
   "outputs": [],
   "source": [
    "# from steves_utils.CORES.utils import (\n",
    "#     ALL_NODES,\n",
    "#     ALL_NODES_MINIMUM_1000_EXAMPLES,\n",
    "#     ALL_DAYS\n",
    "# )\n",
    "\n",
    "# add_dataset(\n",
    "#     labels=ALL_NODES,\n",
    "#     domains = ALL_DAYS,\n",
    "#     num_examples_per_domain_per_label=100,\n",
    "#     pickle_path=os.path.join(get_datasets_base_path(), \"cores.stratified_ds.2022A.pkl\"),\n",
    "#     source_or_target_dataset=\"target\",\n",
    "#     x_transform_func=global_x_transform_func,\n",
    "#     domain_modifier=lambda u: f\"cores_{u}\"\n",
    "# )"
   ]
  },
  {
   "cell_type": "code",
   "execution_count": 15,
   "id": "76db484d",
   "metadata": {
    "execution": {
     "iopub.execute_input": "2022-03-18T21:22:54.067818Z",
     "iopub.status.busy": "2022-03-18T21:22:54.064262Z",
     "iopub.status.idle": "2022-03-18T21:22:54.073604Z",
     "shell.execute_reply": "2022-03-18T21:22:54.073370Z"
    },
    "papermill": {
     "duration": 0.029206,
     "end_time": "2022-03-18T21:22:54.073657",
     "exception": false,
     "start_time": "2022-03-18T21:22:54.044451",
     "status": "completed"
    },
    "tags": []
   },
   "outputs": [],
   "source": [
    "# from steves_utils.ORACLE.utils_v2 import (\n",
    "#     ALL_DISTANCES_FEET,\n",
    "#     ALL_RUNS,\n",
    "#     ALL_SERIAL_NUMBERS,\n",
    "# )\n",
    "\n",
    "\n",
    "# add_dataset(\n",
    "#     labels=ALL_SERIAL_NUMBERS,\n",
    "#     domains = list(set(ALL_DISTANCES_FEET) - {2,62}),\n",
    "#     num_examples_per_domain_per_label=100,\n",
    "#     pickle_path=os.path.join(get_datasets_base_path(), \"oracle.Run2_framed_2000Examples_stratified_ds.2022A.pkl\"),\n",
    "#     source_or_target_dataset=\"source\",\n",
    "#     x_transform_func=global_x_transform_func,\n",
    "#     domain_modifier=lambda u: f\"oracle1_{u}\"\n",
    "# )\n"
   ]
  },
  {
   "cell_type": "code",
   "execution_count": 16,
   "id": "97dea9d2",
   "metadata": {
    "execution": {
     "iopub.execute_input": "2022-03-18T21:22:54.104246Z",
     "iopub.status.busy": "2022-03-18T21:22:54.103726Z",
     "iopub.status.idle": "2022-03-18T21:22:54.119076Z",
     "shell.execute_reply": "2022-03-18T21:22:54.119500Z"
    },
    "papermill": {
     "duration": 0.030421,
     "end_time": "2022-03-18T21:22:54.119609",
     "exception": false,
     "start_time": "2022-03-18T21:22:54.089188",
     "status": "completed"
    },
    "tags": []
   },
   "outputs": [],
   "source": [
    "# from steves_utils.ORACLE.utils_v2 import (\n",
    "#     ALL_DISTANCES_FEET,\n",
    "#     ALL_RUNS,\n",
    "#     ALL_SERIAL_NUMBERS,\n",
    "# )\n",
    "\n",
    "\n",
    "# add_dataset(\n",
    "#     labels=ALL_SERIAL_NUMBERS,\n",
    "#     domains = list(set(ALL_DISTANCES_FEET) - {2,62,56}),\n",
    "#     num_examples_per_domain_per_label=100,\n",
    "#     pickle_path=os.path.join(get_datasets_base_path(), \"oracle.Run2_framed_2000Examples_stratified_ds.2022A.pkl\"),\n",
    "#     source_or_target_dataset=\"source\",\n",
    "#     x_transform_func=global_x_transform_func,\n",
    "#     domain_modifier=lambda u: f\"oracle2_{u}\"\n",
    "# )"
   ]
  },
  {
   "cell_type": "code",
   "execution_count": 17,
   "id": "6f289866",
   "metadata": {
    "execution": {
     "iopub.execute_input": "2022-03-18T21:22:54.152793Z",
     "iopub.status.busy": "2022-03-18T21:22:54.152529Z",
     "iopub.status.idle": "2022-03-18T21:22:54.165719Z",
     "shell.execute_reply": "2022-03-18T21:22:54.165288Z"
    },
    "papermill": {
     "duration": 0.029068,
     "end_time": "2022-03-18T21:22:54.165815",
     "exception": false,
     "start_time": "2022-03-18T21:22:54.136747",
     "status": "completed"
    },
    "tags": []
   },
   "outputs": [],
   "source": [
    "# add_dataset(\n",
    "#     labels=list(range(19)),\n",
    "#     domains = [0,1,2],\n",
    "#     num_examples_per_domain_per_label=100,\n",
    "#     pickle_path=os.path.join(get_datasets_base_path(), \"metehan.stratified_ds.2022A.pkl\"),\n",
    "#     source_or_target_dataset=\"target\",\n",
    "#     x_transform_func=global_x_transform_func,\n",
    "#     domain_modifier=lambda u: f\"met_{u}\"\n",
    "# )"
   ]
  },
  {
   "cell_type": "code",
   "execution_count": 18,
   "id": "86a863c3",
   "metadata": {
    "execution": {
     "iopub.execute_input": "2022-03-18T21:22:54.199823Z",
     "iopub.status.busy": "2022-03-18T21:22:54.199550Z",
     "iopub.status.idle": "2022-03-18T21:22:54.209142Z",
     "shell.execute_reply": "2022-03-18T21:22:54.208917Z"
    },
    "papermill": {
     "duration": 0.024997,
     "end_time": "2022-03-18T21:22:54.209195",
     "exception": false,
     "start_time": "2022-03-18T21:22:54.184198",
     "status": "completed"
    },
    "tags": []
   },
   "outputs": [],
   "source": [
    "# # from steves_utils.wisig.utils import (\n",
    "# #     ALL_NODES_MINIMUM_100_EXAMPLES,\n",
    "# #     ALL_NODES_MINIMUM_500_EXAMPLES,\n",
    "# #     ALL_NODES_MINIMUM_1000_EXAMPLES,\n",
    "# #     ALL_DAYS\n",
    "# # )\n",
    "\n",
    "# import steves_utils.wisig.utils as wisig\n",
    "\n",
    "\n",
    "# add_dataset(\n",
    "#     labels=wisig.ALL_NODES_MINIMUM_100_EXAMPLES,\n",
    "#     domains = wisig.ALL_DAYS,\n",
    "#     num_examples_per_domain_per_label=100,\n",
    "#     pickle_path=os.path.join(get_datasets_base_path(), \"wisig.node3-19.stratified_ds.2022A.pkl\"),\n",
    "#     source_or_target_dataset=\"target\",\n",
    "#     x_transform_func=global_x_transform_func,\n",
    "#     domain_modifier=lambda u: f\"wisig_{u}\"\n",
    "# )"
   ]
  },
  {
   "cell_type": "code",
   "execution_count": 19,
   "id": "fd5442bc",
   "metadata": {
    "execution": {
     "iopub.execute_input": "2022-03-18T21:22:54.244187Z",
     "iopub.status.busy": "2022-03-18T21:22:54.243739Z",
     "iopub.status.idle": "2022-03-18T21:22:54.256978Z",
     "shell.execute_reply": "2022-03-18T21:22:54.256570Z"
    },
    "papermill": {
     "duration": 0.031553,
     "end_time": "2022-03-18T21:22:54.257072",
     "exception": false,
     "start_time": "2022-03-18T21:22:54.225519",
     "status": "completed"
    },
    "tags": []
   },
   "outputs": [],
   "source": [
    "###################################\n",
    "# Build the dataset\n",
    "###################################\n",
    "train_original_source = Iterable_Aggregator(train_original_source, p.seed)\n",
    "val_original_source = Iterable_Aggregator(val_original_source, p.seed)\n",
    "test_original_source = Iterable_Aggregator(test_original_source, p.seed)\n",
    "\n",
    "\n",
    "train_original_target = Iterable_Aggregator(train_original_target, p.seed)\n",
    "val_original_target = Iterable_Aggregator(val_original_target, p.seed)\n",
    "test_original_target = Iterable_Aggregator(test_original_target, p.seed)\n",
    "\n",
    "# For CNN We only use X and Y. And we only train on the source.\n",
    "# Properly form the data using a transform lambda and Lazy_Iterable_Wrapper. Finally wrap them in a dataloader\n",
    "\n",
    "transform_lambda = lambda ex: ex[1] # Original is (<domain>, <episode>) so we strip down to episode only\n",
    "\n",
    "train_processed_source = Lazy_Iterable_Wrapper(train_original_source, transform_lambda)\n",
    "val_processed_source   = Lazy_Iterable_Wrapper(val_original_source, transform_lambda)\n",
    "test_processed_source  = Lazy_Iterable_Wrapper(test_original_source, transform_lambda)\n",
    "\n",
    "train_processed_target = Lazy_Iterable_Wrapper(train_original_target, transform_lambda)\n",
    "val_processed_target   = Lazy_Iterable_Wrapper(val_original_target, transform_lambda)\n",
    "test_processed_target  = Lazy_Iterable_Wrapper(test_original_target, transform_lambda)\n",
    "\n",
    "datasets = EasyDict({\n",
    "    \"source\": {\n",
    "        \"original\": {\"train\":train_original_source, \"val\":val_original_source, \"test\":test_original_source},\n",
    "        \"processed\": {\"train\":train_processed_source, \"val\":val_processed_source, \"test\":test_processed_source}\n",
    "    },\n",
    "    \"target\": {\n",
    "        \"original\": {\"train\":train_original_target, \"val\":val_original_target, \"test\":test_original_target},\n",
    "        \"processed\": {\"train\":train_processed_target, \"val\":val_processed_target, \"test\":test_processed_target}\n",
    "    },\n",
    "})"
   ]
  },
  {
   "cell_type": "code",
   "execution_count": 20,
   "id": "5b3c01fc",
   "metadata": {
    "execution": {
     "iopub.execute_input": "2022-03-18T21:22:54.292241Z",
     "iopub.status.busy": "2022-03-18T21:22:54.291979Z",
     "iopub.status.idle": "2022-03-18T21:22:59.255892Z",
     "shell.execute_reply": "2022-03-18T21:22:59.255643Z"
    },
    "papermill": {
     "duration": 4.98,
     "end_time": "2022-03-18T21:22:59.255955",
     "exception": false,
     "start_time": "2022-03-18T21:22:54.275955",
     "status": "completed"
    },
    "tags": []
   },
   "outputs": [
    {
     "name": "stdout",
     "output_type": "stream",
     "text": [
      "{'W_A_2', 'C_A_2', 'C_A_3', 'C_A_4', 'W_A_4', 'W_A_3', 'C_A_5', 'C_A_1', 'W_A_1'}\n"
     ]
    },
    {
     "name": "stdout",
     "output_type": "stream",
     "text": [
      "{'ORACLE.run1_8', 'ORACLE.run1_32', 'ORACLE.run1_14', 'ORACLE.run1_38', 'ORACLE.run1_26', 'ORACLE.run1_44', 'ORACLE.run1_50', 'ORACLE.run1_20'}\n"
     ]
    },
    {
     "name": "stdout",
     "output_type": "stream",
     "text": [
      "tensor([[[-1.1296, -0.5032, -0.0205,  ...,  0.0883, -1.0208, -0.4683],\n",
      "         [ 0.4477,  0.0041, -0.1191,  ...,  0.5381, -0.3101, -0.4642]],\n",
      "\n",
      "        [[-0.6420,  1.3160,  0.5244,  ..., -0.6979,  0.3071,  0.4945],\n",
      "         [-1.4616,  0.0997,  1.3220,  ..., -0.6540, -1.4137,  0.5144]],\n",
      "\n",
      "        [[-0.8201,  0.3131,  0.4666,  ...,  0.8282,  0.6282, -0.0182],\n",
      "         [-0.4242, -0.4565, -0.7454,  ..., -0.7595, -0.2646,  0.9635]],\n",
      "\n",
      "        ...,\n",
      "\n",
      "        [[ 0.5332, -0.6468, -0.2542,  ..., -0.7445,  0.4695,  0.7902],\n",
      "         [ 0.5139,  0.3144, -0.4148,  ..., -0.7618, -1.0042, -0.0152]],\n",
      "\n",
      "        [[-0.1846,  0.2181, -0.4020,  ..., -1.2450, -0.8893, -0.1631],\n",
      "         [-0.1369, -0.0980, -0.1570,  ...,  0.3899, -0.6732, -0.7175]],\n",
      "\n",
      "        [[ 0.1265,  0.6021, -0.8538,  ..., -0.4021, -1.1219, -0.4830],\n",
      "         [-0.7681,  0.2694,  0.4606,  ...,  0.6926, -0.0674, -0.8579]]])\n"
     ]
    }
   ],
   "source": [
    "from steves_utils.transforms import get_average_magnitude, get_average_power\n",
    "\n",
    "print(set([u for u,_ in val_original_source]))\n",
    "print(set([u for u,_ in val_original_target]))\n",
    "\n",
    "s_x, s_y, q_x, q_y, _ = next(iter(train_processed_source))\n",
    "print(s_x)\n",
    "\n",
    "# for ds in [\n",
    "#     train_processed_source,\n",
    "#     val_processed_source,\n",
    "#     test_processed_source,\n",
    "#     train_processed_target,\n",
    "#     val_processed_target,\n",
    "#     test_processed_target\n",
    "# ]:\n",
    "#     for s_x, s_y, q_x, q_y, _ in ds:\n",
    "#         for X in (s_x, q_x):\n",
    "#             for x in X:\n",
    "#                 assert np.isclose(get_average_magnitude(x.numpy()), 1.0)\n",
    "#                 assert np.isclose(get_average_power(x.numpy()), 1.0)\n",
    "                "
   ]
  },
  {
   "cell_type": "code",
   "execution_count": 21,
   "id": "bbdacba1",
   "metadata": {
    "execution": {
     "iopub.execute_input": "2022-03-18T21:22:59.295912Z",
     "iopub.status.busy": "2022-03-18T21:22:59.294637Z",
     "iopub.status.idle": "2022-03-18T21:22:59.344985Z",
     "shell.execute_reply": "2022-03-18T21:22:59.344604Z"
    },
    "papermill": {
     "duration": 0.06923,
     "end_time": "2022-03-18T21:22:59.345080",
     "exception": false,
     "start_time": "2022-03-18T21:22:59.275850",
     "status": "completed"
    },
    "tags": []
   },
   "outputs": [
    {
     "name": "stdout",
     "output_type": "stream",
     "text": [
      "(2, 200)\n"
     ]
    }
   ],
   "source": [
    "###################################\n",
    "# Build the model\n",
    "###################################\n",
    "# easfsl only wants a tuple for the shape\n",
    "model = Steves_Prototypical_Network(x_net, device=p.device, x_shape=tuple(p.x_shape))\n",
    "optimizer = Adam(params=model.parameters(), lr=p.lr)"
   ]
  },
  {
   "cell_type": "code",
   "execution_count": 22,
   "id": "22b39ac5",
   "metadata": {
    "execution": {
     "iopub.execute_input": "2022-03-18T21:22:59.382513Z",
     "iopub.status.busy": "2022-03-18T21:22:59.381686Z",
     "iopub.status.idle": "2022-03-18T21:27:36.423216Z",
     "shell.execute_reply": "2022-03-18T21:27:36.422699Z"
    },
    "papermill": {
     "duration": 277.058766,
     "end_time": "2022-03-18T21:27:36.423334",
     "exception": false,
     "start_time": "2022-03-18T21:22:59.364568",
     "status": "completed"
    },
    "tags": []
   },
   "outputs": [
    {
     "name": "stdout",
     "output_type": "stream",
     "text": [
      "epoch: 1, [batch: 1 / 2081], examples_per_second: 127.2643, train_label_loss: 2.9052, \n"
     ]
    },
    {
     "name": "stdout",
     "output_type": "stream",
     "text": [
      "epoch: 1, [batch: 209 / 2081], examples_per_second: 3606.5786, train_label_loss: 0.0862, \n"
     ]
    },
    {
     "name": "stdout",
     "output_type": "stream",
     "text": [
      "epoch: 1, [batch: 417 / 2081], examples_per_second: 3645.7226, train_label_loss: 0.9701, \n"
     ]
    },
    {
     "name": "stdout",
     "output_type": "stream",
     "text": [
      "epoch: 1, [batch: 625 / 2081], examples_per_second: 3669.8606, train_label_loss: 0.0357, \n"
     ]
    },
    {
     "name": "stdout",
     "output_type": "stream",
     "text": [
      "epoch: 1, [batch: 833 / 2081], examples_per_second: 3676.1577, train_label_loss: 0.9894, \n"
     ]
    },
    {
     "name": "stdout",
     "output_type": "stream",
     "text": [
      "epoch: 1, [batch: 1041 / 2081], examples_per_second: 3660.5157, train_label_loss: 0.1089, \n"
     ]
    },
    {
     "name": "stdout",
     "output_type": "stream",
     "text": [
      "epoch: 1, [batch: 1249 / 2081], examples_per_second: 3661.5642, train_label_loss: 0.5220, \n"
     ]
    },
    {
     "name": "stdout",
     "output_type": "stream",
     "text": [
      "epoch: 1, [batch: 1457 / 2081], examples_per_second: 3631.6278, train_label_loss: 0.5600, \n"
     ]
    },
    {
     "name": "stdout",
     "output_type": "stream",
     "text": [
      "epoch: 1, [batch: 1665 / 2081], examples_per_second: 3664.5696, train_label_loss: 0.0523, \n"
     ]
    },
    {
     "name": "stdout",
     "output_type": "stream",
     "text": [
      "epoch: 1, [batch: 1873 / 2081], examples_per_second: 3688.8211, train_label_loss: 0.3561, \n"
     ]
    },
    {
     "name": "stdout",
     "output_type": "stream",
     "text": [
      "=============================================================\n",
      "epoch: 1, source_val_acc_label: 0.9410, target_val_acc_label: 0.2183, source_val_label_loss: 0.2506, target_val_label_loss: 2.3660, \n",
      "=============================================================\n"
     ]
    },
    {
     "name": "stdout",
     "output_type": "stream",
     "text": [
      "New best\n"
     ]
    },
    {
     "name": "stdout",
     "output_type": "stream",
     "text": [
      "epoch: 2, [batch: 1 / 2079], examples_per_second: 11.2720, train_label_loss: 0.0723, \n"
     ]
    },
    {
     "name": "stdout",
     "output_type": "stream",
     "text": [
      "epoch: 2, [batch: 208 / 2079], examples_per_second: 3619.5744, train_label_loss: 0.5515, \n"
     ]
    },
    {
     "name": "stdout",
     "output_type": "stream",
     "text": [
      "epoch: 2, [batch: 416 / 2079], examples_per_second: 3643.1686, train_label_loss: 0.0250, \n"
     ]
    },
    {
     "name": "stdout",
     "output_type": "stream",
     "text": [
      "epoch: 2, [batch: 624 / 2079], examples_per_second: 3625.8376, train_label_loss: 0.0969, \n"
     ]
    },
    {
     "name": "stdout",
     "output_type": "stream",
     "text": [
      "epoch: 2, [batch: 832 / 2079], examples_per_second: 3649.6043, train_label_loss: 0.0806, \n"
     ]
    },
    {
     "name": "stdout",
     "output_type": "stream",
     "text": [
      "epoch: 2, [batch: 1040 / 2079], examples_per_second: 3630.6722, train_label_loss: 0.2738, \n"
     ]
    },
    {
     "name": "stdout",
     "output_type": "stream",
     "text": [
      "epoch: 2, [batch: 1247 / 2079], examples_per_second: 3666.2312, train_label_loss: 0.0012, \n"
     ]
    },
    {
     "name": "stdout",
     "output_type": "stream",
     "text": [
      "epoch: 2, [batch: 1455 / 2079], examples_per_second: 3621.9840, train_label_loss: 0.2976, \n"
     ]
    },
    {
     "name": "stdout",
     "output_type": "stream",
     "text": [
      "epoch: 2, [batch: 1663 / 2079], examples_per_second: 3660.8012, train_label_loss: 0.0397, \n"
     ]
    },
    {
     "name": "stdout",
     "output_type": "stream",
     "text": [
      "epoch: 2, [batch: 1871 / 2079], examples_per_second: 3679.5011, train_label_loss: 0.0881, \n"
     ]
    },
    {
     "name": "stdout",
     "output_type": "stream",
     "text": [
      "=============================================================\n",
      "epoch: 2, source_val_acc_label: 0.9638, target_val_acc_label: 0.1780, source_val_label_loss: 0.1654, target_val_label_loss: 2.5614, \n",
      "=============================================================\n"
     ]
    },
    {
     "name": "stdout",
     "output_type": "stream",
     "text": [
      "epoch: 3, [batch: 1 / 2082], examples_per_second: 11.2135, train_label_loss: 0.3441, \n"
     ]
    },
    {
     "name": "stdout",
     "output_type": "stream",
     "text": [
      "epoch: 3, [batch: 209 / 2082], examples_per_second: 3622.1144, train_label_loss: 0.7987, \n"
     ]
    },
    {
     "name": "stdout",
     "output_type": "stream",
     "text": [
      "epoch: 3, [batch: 417 / 2082], examples_per_second: 3633.7648, train_label_loss: 0.6405, \n"
     ]
    },
    {
     "name": "stdout",
     "output_type": "stream",
     "text": [
      "epoch: 3, [batch: 625 / 2082], examples_per_second: 3631.0360, train_label_loss: 0.4271, \n"
     ]
    },
    {
     "name": "stdout",
     "output_type": "stream",
     "text": [
      "epoch: 3, [batch: 833 / 2082], examples_per_second: 3627.6446, train_label_loss: 0.2760, \n"
     ]
    },
    {
     "name": "stdout",
     "output_type": "stream",
     "text": [
      "epoch: 3, [batch: 1041 / 2082], examples_per_second: 3624.0981, train_label_loss: 0.0015, \n"
     ]
    },
    {
     "name": "stdout",
     "output_type": "stream",
     "text": [
      "epoch: 3, [batch: 1249 / 2082], examples_per_second: 3630.1412, train_label_loss: 0.0015, \n"
     ]
    },
    {
     "name": "stdout",
     "output_type": "stream",
     "text": [
      "epoch: 3, [batch: 1457 / 2082], examples_per_second: 3595.5986, train_label_loss: 0.0194, \n"
     ]
    },
    {
     "name": "stdout",
     "output_type": "stream",
     "text": [
      "epoch: 3, [batch: 1665 / 2082], examples_per_second: 3625.8860, train_label_loss: 0.0072, \n"
     ]
    },
    {
     "name": "stdout",
     "output_type": "stream",
     "text": [
      "epoch: 3, [batch: 1873 / 2082], examples_per_second: 3628.6817, train_label_loss: 0.2364, \n"
     ]
    },
    {
     "name": "stdout",
     "output_type": "stream",
     "text": [
      "=============================================================\n",
      "epoch: 3, source_val_acc_label: 0.9688, target_val_acc_label: 0.1984, source_val_label_loss: 0.1491, target_val_label_loss: 2.4643, \n",
      "=============================================================\n"
     ]
    },
    {
     "name": "stdout",
     "output_type": "stream",
     "text": [
      "epoch: 4, [batch: 1 / 2080], examples_per_second: 11.2355, train_label_loss: 0.1241, \n"
     ]
    },
    {
     "name": "stdout",
     "output_type": "stream",
     "text": [
      "epoch: 4, [batch: 208 / 2080], examples_per_second: 3613.9326, train_label_loss: 0.1900, \n"
     ]
    },
    {
     "name": "stdout",
     "output_type": "stream",
     "text": [
      "epoch: 4, [batch: 416 / 2080], examples_per_second: 3629.9505, train_label_loss: 0.1200, \n"
     ]
    },
    {
     "name": "stdout",
     "output_type": "stream",
     "text": [
      "epoch: 4, [batch: 624 / 2080], examples_per_second: 3650.6428, train_label_loss: 0.0022, \n"
     ]
    },
    {
     "name": "stdout",
     "output_type": "stream",
     "text": [
      "epoch: 4, [batch: 832 / 2080], examples_per_second: 3644.6110, train_label_loss: 0.1082, \n"
     ]
    },
    {
     "name": "stdout",
     "output_type": "stream",
     "text": [
      "epoch: 4, [batch: 1040 / 2080], examples_per_second: 3623.0591, train_label_loss: 0.1005, \n"
     ]
    },
    {
     "name": "stdout",
     "output_type": "stream",
     "text": [
      "epoch: 4, [batch: 1248 / 2080], examples_per_second: 3632.6409, train_label_loss: 0.0038, \n"
     ]
    },
    {
     "name": "stdout",
     "output_type": "stream",
     "text": [
      "epoch: 4, [batch: 1456 / 2080], examples_per_second: 3592.5113, train_label_loss: 0.0988, \n"
     ]
    },
    {
     "name": "stdout",
     "output_type": "stream",
     "text": [
      "epoch: 4, [batch: 1664 / 2080], examples_per_second: 3626.6395, train_label_loss: 0.0181, \n"
     ]
    },
    {
     "name": "stdout",
     "output_type": "stream",
     "text": [
      "epoch: 4, [batch: 1872 / 2080], examples_per_second: 3622.5645, train_label_loss: 0.1054, \n"
     ]
    },
    {
     "name": "stdout",
     "output_type": "stream",
     "text": [
      "=============================================================\n",
      "epoch: 4, source_val_acc_label: 0.9713, target_val_acc_label: 0.2100, source_val_label_loss: 0.1318, target_val_label_loss: 2.4461, \n",
      "=============================================================\n"
     ]
    },
    {
     "name": "stdout",
     "output_type": "stream",
     "text": [
      "epoch: 5, [batch: 1 / 2079], examples_per_second: 11.2321, train_label_loss: 0.0103, \n"
     ]
    },
    {
     "name": "stdout",
     "output_type": "stream",
     "text": [
      "epoch: 5, [batch: 208 / 2079], examples_per_second: 3619.4146, train_label_loss: 0.1905, \n"
     ]
    },
    {
     "name": "stdout",
     "output_type": "stream",
     "text": [
      "epoch: 5, [batch: 416 / 2079], examples_per_second: 3656.4574, train_label_loss: 0.1793, \n"
     ]
    },
    {
     "name": "stdout",
     "output_type": "stream",
     "text": [
      "epoch: 5, [batch: 624 / 2079], examples_per_second: 3634.4594, train_label_loss: 0.0039, \n"
     ]
    },
    {
     "name": "stdout",
     "output_type": "stream",
     "text": [
      "epoch: 5, [batch: 832 / 2079], examples_per_second: 3664.9931, train_label_loss: 0.0005, \n"
     ]
    },
    {
     "name": "stdout",
     "output_type": "stream",
     "text": [
      "epoch: 5, [batch: 1040 / 2079], examples_per_second: 3627.8184, train_label_loss: 0.4862, \n"
     ]
    },
    {
     "name": "stdout",
     "output_type": "stream",
     "text": [
      "epoch: 5, [batch: 1247 / 2079], examples_per_second: 3656.9539, train_label_loss: 0.0755, \n"
     ]
    },
    {
     "name": "stdout",
     "output_type": "stream",
     "text": [
      "epoch: 5, [batch: 1455 / 2079], examples_per_second: 3628.0211, train_label_loss: 0.3328, \n"
     ]
    },
    {
     "name": "stdout",
     "output_type": "stream",
     "text": [
      "epoch: 5, [batch: 1663 / 2079], examples_per_second: 3630.4371, train_label_loss: 0.1885, \n"
     ]
    },
    {
     "name": "stdout",
     "output_type": "stream",
     "text": [
      "epoch: 5, [batch: 1871 / 2079], examples_per_second: 3645.4393, train_label_loss: 0.2544, \n"
     ]
    },
    {
     "name": "stdout",
     "output_type": "stream",
     "text": [
      "=============================================================\n",
      "epoch: 5, source_val_acc_label: 0.9659, target_val_acc_label: 0.1792, source_val_label_loss: 0.1471, target_val_label_loss: 2.8441, \n",
      "=============================================================\n"
     ]
    },
    {
     "name": "stdout",
     "output_type": "stream",
     "text": [
      "Patience (3) exhausted\n"
     ]
    }
   ],
   "source": [
    "###################################\n",
    "# train\n",
    "###################################\n",
    "jig = PTN_Train_Eval_Test_Jig(model, p.BEST_MODEL_PATH, p.device)\n",
    "\n",
    "jig.train(\n",
    "    train_iterable=datasets.source.processed.train,\n",
    "    source_val_iterable=datasets.source.processed.val,\n",
    "    target_val_iterable=datasets.target.processed.val,\n",
    "    num_epochs=p.n_epoch,\n",
    "    num_logs_per_epoch=p.NUM_LOGS_PER_EPOCH,\n",
    "    patience=p.patience,\n",
    "    optimizer=optimizer,\n",
    "    criteria_for_best=p.criteria_for_best,\n",
    ")"
   ]
  },
  {
   "cell_type": "code",
   "execution_count": 23,
   "id": "31e8fabf",
   "metadata": {
    "execution": {
     "iopub.execute_input": "2022-03-18T21:27:36.478351Z",
     "iopub.status.busy": "2022-03-18T21:27:36.478089Z",
     "iopub.status.idle": "2022-03-18T21:27:36.497470Z",
     "shell.execute_reply": "2022-03-18T21:27:36.497866Z"
    },
    "papermill": {
     "duration": 0.046418,
     "end_time": "2022-03-18T21:27:36.498000",
     "exception": false,
     "start_time": "2022-03-18T21:27:36.451582",
     "status": "completed"
    },
    "tags": []
   },
   "outputs": [],
   "source": [
    "total_experiment_time_secs = time.time() - start_time_secs"
   ]
  },
  {
   "cell_type": "code",
   "execution_count": 24,
   "id": "87b9595b",
   "metadata": {
    "execution": {
     "iopub.execute_input": "2022-03-18T21:27:36.554489Z",
     "iopub.status.busy": "2022-03-18T21:27:36.550184Z",
     "iopub.status.idle": "2022-03-18T21:28:39.640667Z",
     "shell.execute_reply": "2022-03-18T21:28:39.640198Z"
    },
    "papermill": {
     "duration": 63.116028,
     "end_time": "2022-03-18T21:28:39.640777",
     "exception": false,
     "start_time": "2022-03-18T21:27:36.524749",
     "status": "completed"
    },
    "tags": []
   },
   "outputs": [],
   "source": [
    "###################################\n",
    "# Evaluate the model\n",
    "###################################\n",
    "source_test_label_accuracy, source_test_label_loss = jig.test(datasets.source.processed.test)\n",
    "target_test_label_accuracy, target_test_label_loss = jig.test(datasets.target.processed.test)\n",
    "\n",
    "source_val_label_accuracy, source_val_label_loss = jig.test(datasets.source.processed.val)\n",
    "target_val_label_accuracy, target_val_label_loss = jig.test(datasets.target.processed.val)\n",
    "\n",
    "history = jig.get_history()\n",
    "\n",
    "total_epochs_trained = len(history[\"epoch_indices\"])\n",
    "\n",
    "val_dl = Iterable_Aggregator((datasets.source.original.val,datasets.target.original.val))\n",
    "\n",
    "confusion = ptn_confusion_by_domain_over_dataloader(model, p.device, val_dl)\n",
    "per_domain_accuracy = per_domain_accuracy_from_confusion(confusion)\n",
    "\n",
    "# Add a key to per_domain_accuracy for if it was a source domain\n",
    "for domain, accuracy in per_domain_accuracy.items():\n",
    "    per_domain_accuracy[domain] = {\n",
    "        \"accuracy\": accuracy,\n",
    "        \"source?\": domain in p.domains_source\n",
    "    }\n",
    "\n",
    "# Do an independent accuracy assesment JUST TO BE SURE!\n",
    "# _source_test_label_accuracy = independent_accuracy_assesment(model, datasets.source.processed.test, p.device)\n",
    "# _target_test_label_accuracy = independent_accuracy_assesment(model, datasets.target.processed.test, p.device)\n",
    "# _source_val_label_accuracy = independent_accuracy_assesment(model, datasets.source.processed.val, p.device)\n",
    "# _target_val_label_accuracy = independent_accuracy_assesment(model, datasets.target.processed.val, p.device)\n",
    "\n",
    "# assert(_source_test_label_accuracy == source_test_label_accuracy)\n",
    "# assert(_target_test_label_accuracy == target_test_label_accuracy)\n",
    "# assert(_source_val_label_accuracy == source_val_label_accuracy)\n",
    "# assert(_target_val_label_accuracy == target_val_label_accuracy)\n",
    "\n",
    "experiment = {\n",
    "    \"experiment_name\": p.experiment_name,\n",
    "    \"parameters\": dict(p),\n",
    "    \"results\": {\n",
    "        \"source_test_label_accuracy\": source_test_label_accuracy,\n",
    "        \"source_test_label_loss\": source_test_label_loss,\n",
    "        \"target_test_label_accuracy\": target_test_label_accuracy,\n",
    "        \"target_test_label_loss\": target_test_label_loss,\n",
    "        \"source_val_label_accuracy\": source_val_label_accuracy,\n",
    "        \"source_val_label_loss\": source_val_label_loss,\n",
    "        \"target_val_label_accuracy\": target_val_label_accuracy,\n",
    "        \"target_val_label_loss\": target_val_label_loss,\n",
    "        \"total_epochs_trained\": total_epochs_trained,\n",
    "        \"total_experiment_time_secs\": total_experiment_time_secs,\n",
    "        \"confusion\": confusion,\n",
    "        \"per_domain_accuracy\": per_domain_accuracy,\n",
    "    },\n",
    "    \"history\": history,\n",
    "    \"dataset_metrics\": get_dataset_metrics(datasets, \"ptn\"),\n",
    "}"
   ]
  },
  {
   "cell_type": "code",
   "execution_count": 25,
   "id": "54a21829",
   "metadata": {
    "execution": {
     "iopub.execute_input": "2022-03-18T21:28:39.699882Z",
     "iopub.status.busy": "2022-03-18T21:28:39.699625Z",
     "iopub.status.idle": "2022-03-18T21:28:39.821950Z",
     "shell.execute_reply": "2022-03-18T21:28:39.821619Z"
    },
    "papermill": {
     "duration": 0.149666,
     "end_time": "2022-03-18T21:28:39.822024",
     "exception": false,
     "start_time": "2022-03-18T21:28:39.672358",
     "status": "completed"
    },
    "tags": []
   },
   "outputs": [
    {
     "data": {
      "image/png": "[encoded data removed]",
      "text/plain": [
       "<Figure size 1080x504 with 1 Axes>"
      ]
     },
     "metadata": {
      "needs_background": "light"
     },
     "output_type": "display_data"
    }
   ],
   "source": [
    "ax = get_loss_curve(experiment)\n",
    "plt.show()"
   ]
  },
  {
   "cell_type": "code",
   "execution_count": 26,
   "id": "fd8a0f60",
   "metadata": {
    "execution": {
     "iopub.execute_input": "2022-03-18T21:28:39.880677Z",
     "iopub.status.busy": "2022-03-18T21:28:39.880426Z",
     "iopub.status.idle": "2022-03-18T21:28:40.021078Z",
     "shell.execute_reply": "2022-03-18T21:28:40.020774Z"
    },
    "papermill": {
     "duration": 0.168986,
     "end_time": "2022-03-18T21:28:40.021144",
     "exception": false,
     "start_time": "2022-03-18T21:28:39.852158",
     "status": "completed"
    },
    "tags": []
   },
   "outputs": [
    {
     "data": {
      "text/plain": [
       "<AxesSubplot:title={'center':'Results'}>"
      ]
     },
     "execution_count": 26,
     "metadata": {},
     "output_type": "execute_result"
    },
    {
     "data": {
      "image/png": "[encoded data removed]",
      "text/plain": [
       "<Figure size 1080x504 with 1 Axes>"
      ]
     },
     "metadata": {
      "needs_background": "light"
     },
     "output_type": "display_data"
    }
   ],
   "source": [
    "get_results_table(experiment)"
   ]
  },
  {
   "cell_type": "code",
   "execution_count": 27,
   "id": "cf8dc689",
   "metadata": {
    "execution": {
     "iopub.execute_input": "2022-03-18T21:28:40.088262Z",
     "iopub.status.busy": "2022-03-18T21:28:40.088009Z",
     "iopub.status.idle": "2022-03-18T21:28:40.250191Z",
     "shell.execute_reply": "2022-03-18T21:28:40.249767Z"
    },
    "papermill": {
     "duration": 0.191025,
     "end_time": "2022-03-18T21:28:40.250287",
     "exception": false,
     "start_time": "2022-03-18T21:28:40.059262",
     "status": "completed"
    },
    "tags": []
   },
   "outputs": [
    {
     "data": {
      "text/plain": [
       "<AxesSubplot:title={'center':'Per Domain Validation Accuracy'}, xlabel='domain'>"
      ]
     },
     "execution_count": 27,
     "metadata": {},
     "output_type": "execute_result"
    },
    {
     "data": {
      "image/png": "[encoded data removed]",
      "text/plain": [
       "<Figure size 1080x504 with 1 Axes>"
      ]
     },
     "metadata": {
      "needs_background": "light"
     },
     "output_type": "display_data"
    }
   ],
   "source": [
    "get_domain_accuracies(experiment)"
   ]
  },
  {
   "cell_type": "code",
   "execution_count": 28,
   "id": "a74ae082",
   "metadata": {
    "execution": {
     "iopub.execute_input": "2022-03-18T21:28:40.312110Z",
     "iopub.status.busy": "2022-03-18T21:28:40.311848Z",
     "iopub.status.idle": "2022-03-18T21:28:40.327376Z",
     "shell.execute_reply": "2022-03-18T21:28:40.327580Z"
    },
    "papermill": {
     "duration": 0.045491,
     "end_time": "2022-03-18T21:28:40.327637",
     "exception": false,
     "start_time": "2022-03-18T21:28:40.282146",
     "status": "completed"
    },
    "tags": []
   },
   "outputs": [
    {
     "name": "stdout",
     "output_type": "stream",
     "text": [
      "Source Test Label Accuracy: 0.9365368150684932 Target Test Label Accuracy: 0.2140625\n",
      "Source Val Label Accuracy: 0.9410316780821918 Target Val Label Accuracy: 0.21826171875\n"
     ]
    }
   ],
   "source": [
    "print(\"Source Test Label Accuracy:\", experiment[\"results\"][\"source_test_label_accuracy\"], \"Target Test Label Accuracy:\", experiment[\"results\"][\"target_test_label_accuracy\"])\n",
    "print(\"Source Val Label Accuracy:\", experiment[\"results\"][\"source_val_label_accuracy\"], \"Target Val Label Accuracy:\", experiment[\"results\"][\"target_val_label_accuracy\"])"
   ]
  },
  {
   "cell_type": "code",
   "execution_count": 29,
   "id": "dacca602",
   "metadata": {
    "execution": {
     "iopub.execute_input": "2022-03-18T21:28:40.388581Z",
     "iopub.status.busy": "2022-03-18T21:28:40.383851Z",
     "iopub.status.idle": "2022-03-18T21:28:40.396535Z",
     "shell.execute_reply": "2022-03-18T21:28:40.396742Z"
    },
    "papermill": {
     "duration": 0.042069,
     "end_time": "2022-03-18T21:28:40.396799",
     "exception": false,
     "start_time": "2022-03-18T21:28:40.354730",
     "status": "completed"
    },
    "tags": [
     "experiment_json"
    ]
   },
   "outputs": [
    {
     "data": {
      "text/plain": [
       "'{\"experiment_name\": \"tl_3A:cores+wisig -> oracle.run1.framed\", \"parameters\": {\"experiment_name\": \"tl_3A:cores+wisig -> oracle.run1.framed\", \"device\": \"cuda\", \"lr\": 0.001, \"x_shape\": [2, 200], \"n_shot\": 3, \"n_query\": 2, \"train_k_factor\": 3, \"val_k_factor\": 2, \"test_k_factor\": 2, \"torch_default_dtype\": \"torch.float32\", \"n_epoch\": 50, \"patience\": 3, \"criteria_for_best\": \"target_loss\", \"x_net\": [{\"class\": \"nnReshape\", \"kargs\": {\"shape\": [-1, 1, 2, 200]}}, {\"class\": \"Conv2d\", \"kargs\": {\"in_channels\": 1, \"out_channels\": 256, \"kernel_size\": [1, 7], \"bias\": false, \"padding\": [0, 3]}}, {\"class\": \"ReLU\", \"kargs\": {\"inplace\": true}}, {\"class\": \"BatchNorm2d\", \"kargs\": {\"num_features\": 256}}, {\"class\": \"Conv2d\", \"kargs\": {\"in_channels\": 256, \"out_channels\": 80, \"kernel_size\": [2, 7], \"bias\": true, \"padding\": [0, 3]}}, {\"class\": \"ReLU\", \"kargs\": {\"inplace\": true}}, {\"class\": \"BatchNorm2d\", \"kargs\": {\"num_features\": 80}}, {\"class\": \"Flatten\", \"kargs\": {}}, {\"class\": \"Linear\", \"kargs\": {\"in_features\": 16000, \"out_features\": 256}}, {\"class\": \"ReLU\", \"kargs\": {\"inplace\": true}}, {\"class\": \"BatchNorm1d\", \"kargs\": {\"num_features\": 256}}, {\"class\": \"Linear\", \"kargs\": {\"in_features\": 256, \"out_features\": 256}}], \"NUM_LOGS_PER_EPOCH\": 10, \"BEST_MODEL_PATH\": \"./best_model.pth\", \"n_way\": 16, \"datasets\": [{\"labels\": [\"1-10.\", \"1-11.\", \"1-15.\", \"1-16.\", \"1-17.\", \"1-18.\", \"1-19.\", \"10-4.\", \"10-7.\", \"11-1.\", \"11-14.\", \"11-17.\", \"11-20.\", \"11-7.\", \"13-20.\", \"13-8.\", \"14-10.\", \"14-11.\", \"14-14.\", \"14-7.\", \"15-1.\", \"15-20.\", \"16-1.\", \"16-16.\", \"17-10.\", \"17-11.\", \"17-2.\", \"19-1.\", \"19-16.\", \"19-19.\", \"19-20.\", \"19-3.\", \"2-10.\", \"2-11.\", \"2-17.\", \"2-18.\", \"2-20.\", \"2-3.\", \"2-4.\", \"2-5.\", \"2-6.\", \"2-7.\", \"2-8.\", \"3-13.\", \"3-18.\", \"3-3.\", \"4-1.\", \"4-10.\", \"4-11.\", \"4-19.\", \"5-5.\", \"6-15.\", \"7-10.\", \"7-14.\", \"8-18.\", \"8-20.\", \"8-3.\", \"8-8.\"], \"domains\": [1, 2, 3, 4, 5], \"num_examples_per_domain_per_label\": 100, \"pickle_path\": \"/mnt/wd500GB/CSC500/csc500-main/datasets/cores.stratified_ds.2022A.pkl\", \"source_or_target_dataset\": \"source\", \"x_transforms\": [\"unit_power\", \"take_200\"], \"episode_transforms\": [], \"domain_prefix\": \"C_A_\"}, {\"labels\": [\"1-10\", \"1-12\", \"1-14\", \"1-16\", \"1-18\", \"1-19\", \"1-8\", \"10-11\", \"10-17\", \"10-4\", \"10-7\", \"11-1\", \"11-10\", \"11-19\", \"11-20\", \"11-4\", \"11-7\", \"12-19\", \"12-20\", \"12-7\", \"13-14\", \"13-18\", \"13-19\", \"13-20\", \"13-3\", \"13-7\", \"14-10\", \"14-11\", \"14-12\", \"14-13\", \"14-14\", \"14-19\", \"14-20\", \"14-7\", \"14-8\", \"14-9\", \"15-1\", \"15-19\", \"15-6\", \"16-1\", \"16-16\", \"16-19\", \"16-20\", \"17-10\", \"17-11\", \"18-1\", \"18-10\", \"18-11\", \"18-12\", \"18-13\", \"18-14\", \"18-15\", \"18-16\", \"18-17\", \"18-19\", \"18-2\", \"18-20\", \"18-4\", \"18-5\", \"18-7\", \"18-8\", \"18-9\", \"19-1\", \"19-10\", \"19-11\", \"19-12\", \"19-13\", \"19-14\", \"19-15\", \"19-19\", \"19-2\", \"19-20\", \"19-3\", \"19-4\", \"19-6\", \"19-7\", \"19-8\", \"19-9\", \"2-1\", \"2-13\", \"2-15\", \"2-3\", \"2-4\", \"2-5\", \"2-6\", \"2-7\", \"2-8\", \"20-1\", \"20-12\", \"20-14\", \"20-15\", \"20-16\", \"20-18\", \"20-19\", \"20-20\", \"20-3\", \"20-4\", \"20-5\", \"20-7\", \"20-8\", \"3-1\", \"3-13\", \"3-18\", \"3-2\", \"3-8\", \"4-1\", \"4-10\", \"4-11\", \"5-1\", \"5-5\", \"6-1\", \"6-15\", \"6-6\", \"7-10\", \"7-11\", \"7-12\", \"7-13\", \"7-14\", \"7-7\", \"7-8\", \"7-9\", \"8-1\", \"8-13\", \"8-14\", \"8-18\", \"8-20\", \"8-3\", \"8-8\", \"9-1\", \"9-7\"], \"domains\": [1, 2, 3, 4], \"num_examples_per_domain_per_label\": 100, \"pickle_path\": \"/mnt/wd500GB/CSC500/csc500-main/datasets/wisig.node3-19.stratified_ds.2022A.pkl\", \"source_or_target_dataset\": \"source\", \"x_transforms\": [\"unit_power\", \"take_200\"], \"episode_transforms\": [], \"domain_prefix\": \"W_A_\"}, {\"labels\": [\"3123D52\", \"3123D65\", \"3123D79\", \"3123D80\", \"3123D54\", \"3123D70\", \"3123D7B\", \"3123D89\", \"3123D58\", \"3123D76\", \"3123D7D\", \"3123EFE\", \"3123D64\", \"3123D78\", \"3123D7E\", \"3124E4A\"], \"domains\": [32, 38, 8, 44, 14, 50, 20, 26], \"num_examples_per_domain_per_label\": 2000, \"pickle_path\": \"/mnt/wd500GB/CSC500/csc500-main/datasets/oracle.Run1_framed_2000Examples_stratified_ds.2022A.pkl\", \"source_or_target_dataset\": \"target\", \"x_transforms\": [\"unit_power\", \"take_200\", \"resample_20Msps_to_25Msps\"], \"episode_transforms\": [], \"domain_prefix\": \"ORACLE.run1_\"}], \"seed\": 1337, \"dataset_seed\": 1337, \"domains_source\": [\"C_A_1\", \"C_A_2\", \"C_A_3\", \"C_A_4\", \"C_A_5\", \"W_A_1\", \"W_A_2\", \"W_A_3\", \"W_A_4\"], \"domains_target\": [\"ORACLE.run1_32\", \"ORACLE.run1_38\", \"ORACLE.run1_8\", \"ORACLE.run1_44\", \"ORACLE.run1_14\", \"ORACLE.run1_50\", \"ORACLE.run1_20\", \"ORACLE.run1_26\"]}, \"results\": {\"source_test_label_accuracy\": 0.9365368150684932, \"source_test_label_loss\": 0.2648910880088806, \"target_test_label_accuracy\": 0.2140625, \"target_test_label_loss\": 2.361725330352783, \"source_val_label_accuracy\": 0.9410316780821918, \"source_val_label_loss\": 0.25063374638557434, \"target_val_label_accuracy\": 0.21826171875, \"target_val_label_loss\": 2.366011381149292, \"total_epochs_trained\": 5, \"total_experiment_time_secs\": 321.38299441337585, \"confusion\": {\"W_A_3\": {\"109\": {\"109\": 11, \"55\": 1}, \"127\": {\"127\": 12}, \"14\": {\"14\": 12}, \"7\": {\"7\": 12}, \"129\": {\"129\": 12}, \"57\": {\"57\": 12}, \"84\": {\"84\": 10, \"111\": 1, \"30\": 1}, \"114\": {\"114\": 12}, \"44\": {\"44\": 11, \"80\": 1}, \"21\": {\"21\": 12}, \"46\": {\"46\": 12}, \"100\": {\"100\": 11, \"16\": 1}, \"63\": {\"63\": 9, \"100\": 1, \"85\": 1, \"60\": 1}, \"24\": {\"24\": 6, \"21\": 1, \"54\": 2, \"36\": 2, \"102\": 1}, \"107\": {\"107\": 12}, \"35\": {\"109\": 1, \"35\": 8, \"13\": 1}, \"81\": {\"81\": 12}, \"64\": {\"64\": 12}, \"59\": {\"36\": 1, \"59\": 11}, \"33\": {\"33\": 12}, \"34\": {\"34\": 11, \"75\": 1}, \"36\": {\"36\": 12}, \"79\": {\"79\": 12}, \"80\": {\"80\": 11, \"87\": 1}, \"77\": {\"77\": 12}, \"22\": {\"22\": 11, \"57\": 1}, \"124\": {\"124\": 12}, \"2\": {\"2\": 12}, \"87\": {\"87\": 12}, \"105\": {\"105\": 12}, \"95\": {\"95\": 12}, \"43\": {\"43\": 11, \"33\": 1}, \"56\": {\"56\": 10}, \"18\": {\"18\": 12}, \"85\": {\"85\": 12}, \"113\": {\"113\": 12}, \"97\": {\"97\": 12}, \"86\": {\"86\": 12}, \"128\": {\"86\": 2, \"128\": 7, \"122\": 1, \"87\": 1, \"60\": 1}, \"123\": {\"123\": 12}, \"8\": {\"8\": 12}, \"110\": {\"110\": 12}, \"126\": {\"126\": 12}, \"101\": {\"101\": 12}, \"115\": {\"115\": 12}, \"49\": {\"49\": 10, \"73\": 1, \"46\": 1}, \"45\": {\"45\": 12}, \"78\": {\"78\": 8, \"82\": 1, \"13\": 1, \"127\": 2}, \"65\": {\"65\": 10}, \"54\": {\"54\": 11, \"94\": 1}, \"31\": {\"31\": 8, \"44\": 1, \"80\": 1}, \"42\": {\"49\": 2, \"42\": 7, \"20\": 1, \"124\": 1, \"82\": 1}, \"68\": {\"68\": 12}, \"15\": {\"15\": 11, \"106\": 1}, \"69\": {\"69\": 12}, \"17\": {\"23\": 1, \"17\": 8, \"9\": 1}, \"73\": {\"73\": 12}, \"121\": {\"121\": 11, \"126\": 1}, \"102\": {\"102\": 12}, \"48\": {\"48\": 11, \"37\": 1}, \"23\": {\"23\": 5, \"60\": 1, \"70\": 2, \"67\": 2, \"2\": 1, \"59\": 1}, \"108\": {\"108\": 12}, \"53\": {\"53\": 12}, \"94\": {\"94\": 10}, \"41\": {\"41\": 12}, \"58\": {\"58\": 12}, \"29\": {\"29\": 12}, \"116\": {\"116\": 12}, \"60\": {\"60\": 9, \"49\": 1, \"122\": 1, \"5\": 1}, \"104\": {\"104\": 12}, \"106\": {\"106\": 11, \"30\": 1}, \"66\": {\"66\": 12}, \"47\": {\"47\": 12}, \"40\": {\"40\": 12}, \"82\": {\"82\": 11, \"128\": 1}, \"13\": {\"13\": 6, \"78\": 1, \"127\": 1, \"6\": 1, \"120\": 1, \"35\": 2}, \"19\": {\"11\": 1, \"19\": 9, \"103\": 1, \"29\": 1}, \"72\": {\"72\": 12}, \"9\": {\"9\": 12}, \"67\": {\"67\": 12}, \"11\": {\"11\": 12}, \"125\": {\"125\": 12}, \"76\": {\"76\": 7, \"50\": 1}, \"83\": {\"83\": 12}, \"74\": {\"74\": 11, \"54\": 1}, \"20\": {\"20\": 12}, \"119\": {\"119\": 12}, \"1\": {\"1\": 11, \"114\": 1}, \"16\": {\"16\": 12}, \"25\": {\"25\": 11, \"74\": 1}, \"90\": {\"90\": 8}, \"39\": {\"39\": 11, \"126\": 1}, \"28\": {\"28\": 12}, \"55\": {\"55\": 12}, \"117\": {\"117\": 12}, \"112\": {\"112\": 11, \"12\": 1}, \"38\": {\"38\": 12}, \"37\": {\"37\": 12}, \"120\": {\"120\": 12}, \"122\": {\"122\": 12}, \"50\": {\"50\": 12}, \"10\": {\"10\": 12}, \"5\": {\"5\": 12}, \"51\": {\"51\": 12}, \"3\": {\"3\": 10, \"70\": 1, \"122\": 1}, \"98\": {\"98\": 12}, \"70\": {\"70\": 9, \"49\": 1, \"88\": 1, \"1\": 1}, \"96\": {\"96\": 12}, \"12\": {\"12\": 12}, \"99\": {\"99\": 12}, \"52\": {\"52\": 12}, \"71\": {\"71\": 8, \"82\": 1, \"61\": 1, \"3\": 2}, \"89\": {\"89\": 12}, \"0\": {\"0\": 12}, \"4\": {\"4\": 9, \"118\": 1, \"102\": 1, \"101\": 1}, \"93\": {\"93\": 12}, \"6\": {\"6\": 8, \"58\": 1, \"34\": 1}, \"75\": {\"75\": 12}, \"62\": {\"62\": 12}, \"103\": {\"103\": 12}, \"30\": {\"30\": 12}, \"91\": {\"91\": 4, \"6\": 1, \"98\": 2, \"75\": 1, \"34\": 2, \"77\": 2}, \"27\": {\"27\": 12}, \"26\": {\"26\": 12}, \"61\": {\"61\": 12}, \"118\": {\"118\": 12}, \"92\": {\"92\": 12}, \"111\": {\"111\": 12}, \"32\": {\"32\": 10, \"8\": 1, \"128\": 1}, \"88\": {\"85\": 3, \"88\": 6, \"1\": 1}}, \"W_A_4\": {\"28\": {\"28\": 12}, \"4\": {\"4\": 11, \"56\": 1}, \"72\": {\"72\": 12}, \"111\": {\"111\": 11, \"12\": 1}, \"108\": {\"108\": 11, \"11\": 1}, \"43\": {\"43\": 10}, \"96\": {\"96\": 11, \"116\": 1}, \"89\": {\"89\": 12}, \"31\": {\"31\": 12}, \"45\": {\"45\": 12}, \"2\": {\"2\": 11, \"121\": 1}, \"114\": {\"114\": 12}, \"11\": {\"11\": 11, \"108\": 1}, \"12\": {\"12\": 11, \"51\": 1}, \"14\": {\"14\": 11, \"96\": 1}, \"90\": {\"90\": 12}, \"10\": {\"54\": 2, \"10\": 7, \"24\": 1, \"94\": 2}, \"63\": {\"91\": 1, \"63\": 10, \"74\": 1}, \"85\": {\"85\": 11, \"12\": 1}, \"64\": {\"64\": 12}, \"82\": {\"82\": 10, \"54\": 1, \"63\": 1}, \"58\": {\"58\": 12}, \"3\": {\"3\": 11, \"71\": 1}, \"54\": {\"54\": 11, \"97\": 1}, \"121\": {\"121\": 6, \"63\": 1, \"58\": 1, \"67\": 1, \"123\": 2, \"9\": 1}, \"42\": {\"42\": 10, \"124\": 1, \"8\": 1}, \"98\": {\"98\": 12}, \"123\": {\"123\": 11, \"113\": 1}, \"91\": {\"91\": 9, \"54\": 1, \"13\": 1, \"103\": 1}, \"66\": {\"66\": 11, \"90\": 1}, \"102\": {\"102\": 12}, \"122\": {\"122\": 10, \"110\": 1, \"84\": 1}, \"1\": {\"1\": 11, \"114\": 1}, \"15\": {\"15\": 11, \"30\": 1}, \"97\": {\"15\": 3, \"97\": 8, \"74\": 1}, \"75\": {\"75\": 12}, \"95\": {\"95\": 11, \"78\": 1}, \"57\": {\"57\": 12}, \"68\": {\"68\": 11, \"95\": 1}, \"125\": {\"125\": 12}, \"62\": {\"62\": 10}, \"27\": {\"27\": 10, \"78\": 1, \"101\": 1}, \"120\": {\"120\": 9, \"103\": 1, \"64\": 2}, \"26\": {\"26\": 12}, \"55\": {\"55\": 12}, \"71\": {\"71\": 11, \"118\": 1}, \"22\": {\"22\": 12}, \"99\": {\"99\": 11, \"51\": 1}, \"84\": {\"84\": 10, \"103\": 1, \"0\": 1}, \"37\": {\"37\": 12}, \"83\": {\"83\": 12}, \"46\": {\"46\": 12}, \"35\": {\"35\": 11, \"61\": 1}, \"13\": {\"13\": 12}, \"53\": {\"53\": 10, \"116\": 1, \"0\": 1}, \"127\": {\"127\": 12}, \"69\": {\"127\": 1, \"69\": 10, \"78\": 1}, \"48\": {\"48\": 10, \"20\": 1, \"88\": 1}, \"16\": {\"16\": 12}, \"0\": {\"0\": 12}, \"8\": {\"8\": 10, \"127\": 1, \"100\": 1}, \"9\": {\"9\": 12}, \"115\": {\"115\": 10, \"74\": 1, \"72\": 1}, \"70\": {\"70\": 8, \"78\": 1, \"51\": 1, \"53\": 2}, \"119\": {\"119\": 12}, \"59\": {\"59\": 12}, \"52\": {\"52\": 12}, \"60\": {\"60\": 5, \"99\": 2, \"19\": 2, \"110\": 2, \"88\": 1}, \"44\": {\"44\": 11, \"90\": 1}, \"51\": {\"51\": 9, \"70\": 3}, \"6\": {\"6\": 9, \"34\": 1, \"59\": 1, \"58\": 1}, \"73\": {\"73\": 12}, \"78\": {\"78\": 9, \"87\": 1, \"57\": 1, \"0\": 1}, \"92\": {\"92\": 12}, \"20\": {\"20\": 11, \"23\": 1}, \"17\": {\"17\": 12}, \"74\": {\"74\": 11, \"70\": 1}, \"19\": {\"19\": 10, \"103\": 1, \"60\": 1}, \"50\": {\"50\": 12}, \"34\": {\"34\": 8, \"6\": 1, \"115\": 1, \"92\": 1, \"59\": 1}, \"104\": {\"104\": 8}, \"33\": {\"33\": 11, \"51\": 1}, \"5\": {\"5\": 12}, \"7\": {\"7\": 11, \"0\": 1}, \"29\": {\"29\": 12}, \"25\": {\"25\": 12}, \"124\": {\"124\": 11, \"28\": 1}, \"117\": {\"117\": 10, \"113\": 1, \"12\": 1}, \"88\": {\"88\": 8, \"122\": 1, \"71\": 2, \"46\": 1}, \"61\": {\"61\": 11, \"88\": 1}, \"86\": {\"86\": 12}, \"116\": {\"116\": 10, \"23\": 1, \"99\": 1}, \"24\": {\"24\": 10, \"30\": 1, \"36\": 1}, \"128\": {\"128\": 7, \"28\": 1, \"78\": 1, \"20\": 1, \"103\": 1, \"51\": 1}, \"101\": {\"101\": 12}, \"65\": {\"65\": 9, \"78\": 1}, \"36\": {\"24\": 2, \"36\": 10}, \"21\": {\"21\": 12}, \"106\": {\"78\": 1, \"106\": 11}, \"118\": {\"118\": 10, \"94\": 1, \"57\": 1}, \"113\": {\"113\": 11, \"30\": 1}, \"40\": {\"40\": 12}, \"93\": {\"93\": 8}, \"94\": {\"94\": 10, \"36\": 2}, \"103\": {\"103\": 7, \"77\": 3, \"101\": 1, \"87\": 1}, \"110\": {\"110\": 12}, \"56\": {\"56\": 12}, \"39\": {\"39\": 12}, \"109\": {\"102\": 1, \"109\": 9, \"22\": 1, \"23\": 1}, \"67\": {\"67\": 8, \"76\": 1, \"39\": 1, \"47\": 1, \"54\": 1}, \"129\": {\"129\": 10, \"74\": 1, \"93\": 1}, \"30\": {\"30\": 12}, \"126\": {\"126\": 9, \"23\": 1, \"113\": 1, \"108\": 1}, \"87\": {\"30\": 1, \"87\": 11}, \"112\": {\"112\": 12}, \"100\": {\"100\": 11, \"46\": 1}, \"79\": {\"79\": 10}, \"81\": {\"81\": 11, \"116\": 1}, \"76\": {\"76\": 10}, \"47\": {\"47\": 11, \"30\": 1}, \"77\": {\"77\": 12}, \"23\": {\"103\": 2, \"23\": 4, \"106\": 2, \"110\": 1, \"0\": 3}, \"18\": {\"18\": 12}, \"49\": {\"49\": 12}, \"41\": {\"41\": 10, \"47\": 1, \"61\": 1}, \"32\": {\"78\": 1, \"32\": 9, \"122\": 1, \"77\": 1}, \"107\": {\"107\": 10}, \"80\": {\"80\": 11, \"18\": 1}, \"105\": {\"105\": 7, \"87\": 2, \"30\": 1}, \"38\": {\"38\": 10}}, \"W_A_1\": {\"108\": {\"108\": 10}, \"40\": {\"40\": 12}, \"68\": {\"68\": 12}, \"23\": {\"70\": 1, \"23\": 9, \"60\": 1, \"12\": 1}, \"26\": {\"3\": 1, \"26\": 11}, \"64\": {\"64\": 12}, \"22\": {\"22\": 12}, \"3\": {\"3\": 11, \"64\": 1}, \"4\": {\"40\": 1, \"4\": 10, \"50\": 1}, \"70\": {\"70\": 12}, \"57\": {\"57\": 11, \"22\": 1}, \"79\": {\"79\": 12}, \"9\": {\"9\": 9, \"89\": 1, \"103\": 2}, \"89\": {\"89\": 11, \"29\": 1}, \"110\": {\"110\": 12}, \"102\": {\"102\": 12}, \"31\": {\"31\": 12}, \"58\": {\"58\": 12}, \"47\": {\"47\": 12}, \"24\": {\"24\": 9, \"27\": 1, \"97\": 1, \"36\": 1}, \"19\": {\"19\": 12}, \"11\": {\"11\": 12}, \"52\": {\"52\": 12}, \"17\": {\"17\": 12}, \"25\": {\"25\": 12}, \"69\": {\"69\": 12}, \"96\": {\"96\": 12}, \"109\": {\"109\": 11, \"104\": 1}, \"115\": {\"115\": 12}, \"83\": {\"83\": 11, \"14\": 1}, \"84\": {\"84\": 12}, \"119\": {\"119\": 10}, \"122\": {\"122\": 10}, \"99\": {\"99\": 12}, \"1\": {\"1\": 12}, \"74\": {\"74\": 10, \"23\": 1, \"34\": 1}, \"85\": {\"85\": 12}, \"127\": {\"127\": 12}, \"111\": {\"111\": 12}, \"53\": {\"53\": 12}, \"88\": {\"88\": 10, \"36\": 2}, \"65\": {\"65\": 8, \"103\": 1, \"119\": 1}, \"7\": {\"7\": 12}, \"16\": {\"16\": 11, \"127\": 1}, \"128\": {\"128\": 8, \"104\": 1, \"5\": 1, \"2\": 2}, \"34\": {\"34\": 10, \"98\": 1, \"71\": 1}, \"129\": {\"129\": 11, \"70\": 1}, \"43\": {\"43\": 11, \"4\": 1}, \"92\": {\"92\": 12}, \"28\": {\"28\": 12}, \"27\": {\"27\": 10, \"24\": 2}, \"114\": {\"114\": 12}, \"73\": {\"73\": 12}, \"0\": {\"0\": 12}, \"104\": {\"104\": 12}, \"118\": {\"118\": 12}, \"41\": {\"41\": 12}, \"49\": {\"49\": 10, \"46\": 1, \"52\": 1}, \"14\": {\"14\": 12}, \"46\": {\"125\": 3, \"46\": 6, \"97\": 1, \"104\": 2}, \"33\": {\"33\": 12}, \"76\": {\"76\": 12}, \"125\": {\"125\": 12}, \"86\": {\"86\": 10}, \"66\": {\"66\": 11, \"108\": 1}, \"5\": {\"5\": 12}, \"117\": {\"117\": 12}, \"75\": {\"75\": 12}, \"61\": {\"61\": 12}, \"50\": {\"50\": 12}, \"67\": {\"67\": 10}, \"18\": {\"18\": 12}, \"98\": {\"34\": 1, \"98\": 11}, \"55\": {\"55\": 9, \"93\": 1}, \"32\": {\"32\": 12}, \"120\": {\"120\": 12}, \"97\": {\"97\": 10, \"88\": 1, \"24\": 1}, \"126\": {\"126\": 12}, \"45\": {\"109\": 1, \"45\": 8, \"20\": 2, \"60\": 1}, \"78\": {\"78\": 6, \"43\": 3, \"23\": 1}, \"100\": {\"100\": 12}, \"107\": {\"107\": 12}, \"93\": {\"93\": 10, \"55\": 2}, \"77\": {\"77\": 12}, \"63\": {\"63\": 12}, \"112\": {\"112\": 12}, \"113\": {\"113\": 12}, \"103\": {\"103\": 10}, \"71\": {\"71\": 12}, \"30\": {\"30\": 11, \"59\": 1}, \"90\": {\"90\": 12}, \"37\": {\"65\": 1, \"37\": 11}, \"60\": {\"60\": 6, \"86\": 1, \"63\": 1, \"117\": 1, \"45\": 1, \"81\": 1, \"104\": 1}, \"15\": {\"15\": 7, \"94\": 2, \"111\": 1, \"27\": 1, \"108\": 1}, \"39\": {\"39\": 12}, \"72\": {\"72\": 12}, \"54\": {\"54\": 12}, \"35\": {\"35\": 12}, \"2\": {\"2\": 12}, \"94\": {\"94\": 11, \"30\": 1}, \"42\": {\"42\": 9, \"100\": 1, \"45\": 1, \"109\": 1}, \"81\": {\"81\": 12}, \"8\": {\"8\": 11, \"29\": 1}, \"87\": {\"87\": 12}, \"6\": {\"6\": 11, \"37\": 1}, \"36\": {\"36\": 10, \"88\": 2}, \"91\": {\"91\": 9, \"42\": 1, \"51\": 1, \"17\": 1}, \"56\": {\"56\": 12}, \"80\": {\"80\": 11, \"70\": 1}, \"124\": {\"124\": 9, \"20\": 1}, \"44\": {\"44\": 12}, \"13\": {\"13\": 12}, \"10\": {\"10\": 10, \"78\": 1, \"111\": 1}, \"59\": {\"59\": 11, \"51\": 1}, \"95\": {\"95\": 12}, \"105\": {\"105\": 11, \"66\": 1}, \"101\": {\"101\": 12}, \"20\": {\"20\": 12}, \"48\": {\"28\": 2, \"48\": 9, \"123\": 1}, \"106\": {\"106\": 12}, \"51\": {\"51\": 12}, \"21\": {\"21\": 9, \"87\": 1, \"78\": 1, \"70\": 1}, \"123\": {\"123\": 12}, \"121\": {\"121\": 12}, \"38\": {\"38\": 10, \"8\": 2}, \"62\": {\"62\": 12}, \"29\": {\"29\": 12}, \"82\": {\"82\": 12}, \"116\": {\"116\": 12}, \"12\": {\"12\": 7, \"111\": 1}}, \"C_A_3\": {\"43\": {\"43\": 12}, \"9\": {\"9\": 12}, \"6\": {\"6\": 7, \"2\": 3}, \"3\": {\"3\": 11, \"50\": 1}, \"16\": {\"16\": 12}, \"51\": {\"51\": 12}, \"31\": {\"31\": 12}, \"46\": {\"46\": 10}, \"19\": {\"19\": 8}, \"8\": {\"8\": 12}, \"18\": {\"18\": 12}, \"37\": {\"37\": 12}, \"24\": {\"24\": 12}, \"10\": {\"10\": 12}, \"44\": {\"44\": 10}, \"14\": {\"14\": 6, \"31\": 4, \"56\": 1, \"28\": 1}, \"38\": {\"38\": 10}, \"53\": {\"53\": 12}, \"20\": {\"20\": 12}, \"32\": {\"32\": 12}, \"36\": {\"36\": 10}, \"33\": {\"33\": 12}, \"56\": {\"56\": 12}, \"23\": {\"23\": 12}, \"54\": {\"54\": 10}, \"34\": {\"34\": 12}, \"13\": {\"13\": 12}, \"2\": {\"2\": 11, \"6\": 1}, \"55\": {\"55\": 10}, \"21\": {\"21\": 10}, \"49\": {\"49\": 10}, \"25\": {\"25\": 12}, \"5\": {\"5\": 11, \"45\": 1}, \"50\": {\"50\": 8}, \"40\": {\"40\": 12}, \"57\": {\"57\": 8}, \"22\": {\"22\": 9, \"56\": 1}, \"1\": {\"1\": 10}, \"17\": {\"17\": 12}, \"41\": {\"41\": 12}, \"4\": {\"4\": 10}, \"7\": {\"7\": 10}, \"26\": {\"26\": 10}, \"29\": {\"29\": 12}, \"52\": {\"52\": 12}, \"15\": {\"15\": 12}, \"35\": {\"35\": 12}, \"42\": {\"42\": 12}, \"30\": {\"30\": 10}, \"27\": {\"27\": 8}, \"45\": {\"45\": 10}, \"0\": {\"0\": 12}, \"28\": {\"28\": 11, \"39\": 1}, \"47\": {\"47\": 12}, \"11\": {\"11\": 10}, \"39\": {\"39\": 10}, \"48\": {\"48\": 12}, \"12\": {\"12\": 8}}, \"C_A_4\": {\"35\": {\"35\": 10}, \"25\": {\"25\": 12}, \"24\": {\"24\": 10}, \"48\": {\"48\": 12}, \"51\": {\"51\": 12}, \"13\": {\"13\": 12}, \"14\": {\"14\": 5, \"5\": 1, \"56\": 2}, \"32\": {\"32\": 12}, \"30\": {\"30\": 10, \"21\": 2}, \"34\": {\"34\": 10}, \"9\": {\"9\": 12}, \"1\": {\"1\": 12}, \"0\": {\"0\": 12}, \"38\": {\"38\": 12}, \"22\": {\"22\": 8}, \"40\": {\"40\": 12}, \"39\": {\"39\": 12}, \"46\": {\"32\": 1, \"46\": 10, \"3\": 1}, \"36\": {\"36\": 12}, \"50\": {\"50\": 9, \"7\": 2, \"3\": 1}, \"49\": {\"49\": 12}, \"17\": {\"17\": 12}, \"45\": {\"45\": 12}, \"6\": {\"6\": 12}, \"8\": {\"8\": 12}, \"5\": {\"46\": 2, \"5\": 5, \"15\": 1, \"28\": 1, \"16\": 1}, \"33\": {\"33\": 12}, \"31\": {\"31\": 12}, \"37\": {\"37\": 10}, \"47\": {\"47\": 8}, \"15\": {\"15\": 10}, \"7\": {\"7\": 12}, \"20\": {\"20\": 12}, \"4\": {\"4\": 12}, \"54\": {\"54\": 12}, \"44\": {\"44\": 12}, \"3\": {\"3\": 12}, \"11\": {\"11\": 10}, \"27\": {\"27\": 10}, \"19\": {\"19\": 12}, \"55\": {\"55\": 12}, \"16\": {\"16\": 12}, \"2\": {\"2\": 10}, \"52\": {\"52\": 10}, \"42\": {\"42\": 8, \"41\": 1, \"25\": 1}, \"26\": {\"26\": 12}, \"10\": {\"10\": 12}, \"53\": {\"53\": 10}, \"28\": {\"28\": 12}, \"21\": {\"21\": 10}, \"57\": {\"57\": 10}, \"23\": {\"23\": 8}, \"43\": {\"43\": 10}, \"12\": {\"12\": 12}, \"41\": {\"41\": 12}, \"56\": {\"56\": 8}, \"18\": {\"18\": 10}, \"29\": {\"29\": 8}}, \"W_A_2\": {\"91\": {\"91\": 10, \"79\": 1, \"128\": 1}, \"12\": {\"12\": 11, \"0\": 1}, \"101\": {\"101\": 10}, \"121\": {\"117\": 2, \"121\": 9, \"72\": 1}, \"118\": {\"118\": 12}, \"10\": {\"10\": 12}, \"117\": {\"117\": 12}, \"110\": {\"110\": 9, \"97\": 1, \"43\": 2}, \"97\": {\"97\": 7, \"88\": 1, \"106\": 2, \"28\": 1, \"110\": 1}, \"28\": {\"101\": 1, \"28\": 9, \"124\": 1, \"23\": 1}, \"88\": {\"110\": 1, \"88\": 8, \"87\": 1, \"47\": 2}, \"17\": {\"17\": 11, \"30\": 1}, \"126\": {\"126\": 12}, \"33\": {\"33\": 12}, \"86\": {\"86\": 12}, \"106\": {\"106\": 12}, \"54\": {\"54\": 12}, \"125\": {\"125\": 12}, \"83\": {\"83\": 12}, \"98\": {\"98\": 12}, \"11\": {\"11\": 10, \"128\": 1, \"98\": 1}, \"32\": {\"32\": 10, \"47\": 1, \"56\": 1}, \"42\": {\"42\": 10, \"112\": 2}, \"103\": {\"103\": 12}, \"87\": {\"87\": 11, \"88\": 1}, \"61\": {\"118\": 1, \"61\": 10, \"102\": 1}, \"13\": {\"13\": 12}, \"4\": {\"4\": 12}, \"15\": {\"15\": 10}, \"120\": {\"120\": 12}, \"80\": {\"80\": 12}, \"72\": {\"72\": 10}, \"64\": {\"64\": 12}, \"81\": {\"81\": 12}, \"102\": {\"102\": 12}, \"76\": {\"76\": 12}, \"49\": {\"98\": 1, \"49\": 6, \"52\": 1, \"82\": 1, \"21\": 1}, \"129\": {\"129\": 11, \"73\": 1}, \"89\": {\"89\": 12}, \"52\": {\"52\": 12}, \"35\": {\"35\": 12}, \"53\": {\"53\": 10, \"2\": 1, \"72\": 1}, \"112\": {\"112\": 10, \"71\": 1, \"11\": 1}, \"105\": {\"105\": 12}, \"100\": {\"100\": 12}, \"9\": {\"9\": 12}, \"82\": {\"82\": 12}, \"51\": {\"51\": 9, \"9\": 2, \"125\": 1}, \"21\": {\"21\": 12}, \"92\": {\"92\": 10, \"82\": 1, \"84\": 1}, \"69\": {\"69\": 12}, \"77\": {\"77\": 12}, \"50\": {\"50\": 11, \"88\": 1}, \"36\": {\"36\": 12}, \"16\": {\"16\": 10, \"11\": 1, \"0\": 1}, \"8\": {\"18\": 1, \"8\": 10, \"120\": 1}, \"127\": {\"127\": 12}, \"46\": {\"46\": 10}, \"84\": {\"84\": 12}, \"18\": {\"18\": 12}, \"123\": {\"123\": 9, \"19\": 1}, \"56\": {\"33\": 1, \"56\": 9, \"60\": 1, \"15\": 1}, \"26\": {\"26\": 12}, \"14\": {\"109\": 1, \"14\": 9, \"43\": 1, \"71\": 1}, \"109\": {\"109\": 12}, \"66\": {\"66\": 12}, \"24\": {\"24\": 9, \"43\": 1, \"94\": 2}, \"71\": {\"56\": 1, \"71\": 11}, \"65\": {\"65\": 10, \"24\": 1, \"51\": 1}, \"75\": {\"75\": 11, \"25\": 1}, \"111\": {\"111\": 12}, \"30\": {\"30\": 11, \"59\": 1}, \"85\": {\"85\": 12}, \"113\": {\"113\": 9, \"21\": 1}, \"45\": {\"45\": 12}, \"29\": {\"29\": 11, \"25\": 1}, \"20\": {\"20\": 12}, \"25\": {\"25\": 12}, \"0\": {\"0\": 12}, \"68\": {\"68\": 12}, \"119\": {\"119\": 12}, \"90\": {\"90\": 12}, \"38\": {\"38\": 12}, \"99\": {\"99\": 12}, \"1\": {\"1\": 12}, \"67\": {\"67\": 10, \"109\": 1, \"61\": 1}, \"63\": {\"63\": 12}, \"34\": {\"34\": 8, \"86\": 2, \"115\": 1, \"124\": 1}, \"108\": {\"108\": 12}, \"40\": {\"40\": 12}, \"47\": {\"47\": 11, \"59\": 1}, \"37\": {\"37\": 12}, \"78\": {\"78\": 9, \"21\": 1, \"4\": 1, \"86\": 1}, \"96\": {\"96\": 12}, \"43\": {\"43\": 9, \"21\": 1, \"70\": 2}, \"5\": {\"5\": 9, \"114\": 1}, \"124\": {\"124\": 12}, \"44\": {\"44\": 12}, \"41\": {\"41\": 11, \"51\": 1}, \"116\": {\"116\": 11, \"109\": 1}, \"19\": {\"19\": 10, \"82\": 1, \"98\": 1}, \"115\": {\"115\": 12}, \"95\": {\"95\": 11, \"30\": 1}, \"3\": {\"3\": 10}, \"59\": {\"59\": 12}, \"55\": {\"55\": 12}, \"70\": {\"70\": 11, \"43\": 1}, \"6\": {\"77\": 2, \"6\": 10}, \"2\": {\"2\": 7, \"16\": 2, \"93\": 1, \"69\": 1, \"117\": 1}, \"48\": {\"48\": 12}, \"23\": {\"23\": 8, \"122\": 1, \"52\": 2, \"65\": 1}, \"7\": {\"7\": 12}, \"122\": {\"122\": 12}, \"57\": {\"57\": 10, \"23\": 1, \"59\": 1}, \"39\": {\"39\": 9, \"128\": 1}, \"79\": {\"79\": 11, \"17\": 1}, \"27\": {\"27\": 10}, \"74\": {\"74\": 9, \"56\": 1, \"0\": 1, \"51\": 1}, \"73\": {\"73\": 12}, \"62\": {\"62\": 12}, \"107\": {\"107\": 12}, \"128\": {\"53\": 1, \"114\": 1, \"128\": 9, \"71\": 1}, \"60\": {\"60\": 10, \"83\": 1, \"107\": 1}, \"114\": {\"114\": 12}, \"22\": {\"22\": 12}, \"93\": {\"93\": 12}, \"94\": {\"94\": 11, \"101\": 1}, \"31\": {\"31\": 9, \"118\": 1}, \"104\": {\"104\": 12}, \"58\": {\"58\": 12}}, \"C_A_5\": {\"47\": {\"47\": 10}, \"53\": {\"53\": 12}, \"29\": {\"29\": 12}, \"52\": {\"52\": 12}, \"55\": {\"55\": 12}, \"17\": {\"17\": 12}, \"42\": {\"42\": 12}, \"33\": {\"33\": 10}, \"11\": {\"11\": 12}, \"19\": {\"19\": 8}, \"1\": {\"1\": 11, \"17\": 1}, \"44\": {\"44\": 11, \"29\": 1}, \"49\": {\"49\": 12}, \"4\": {\"4\": 12}, \"6\": {\"6\": 8, \"17\": 2, \"1\": 1, \"20\": 1}, \"39\": {\"39\": 12}, \"13\": {\"13\": 12}, \"5\": {\"5\": 10}, \"16\": {\"16\": 10}, \"25\": {\"25\": 12}, \"45\": {\"45\": 11, \"47\": 1}, \"7\": {\"7\": 10}, \"22\": {\"22\": 11, \"56\": 1}, \"40\": {\"40\": 11, \"5\": 1}, \"38\": {\"38\": 12}, \"35\": {\"35\": 8}, \"56\": {\"56\": 12}, \"50\": {\"50\": 7, \"5\": 2, \"26\": 1}, \"0\": {\"0\": 12}, \"10\": {\"10\": 12}, \"27\": {\"27\": 12}, \"20\": {\"20\": 10}, \"36\": {\"36\": 8}, \"34\": {\"34\": 12}, \"30\": {\"30\": 12}, \"2\": {\"2\": 10}, \"15\": {\"15\": 12}, \"18\": {\"18\": 12}, \"32\": {\"32\": 12}, \"31\": {\"31\": 12}, \"57\": {\"57\": 12}, \"48\": {\"1\": 2, \"48\": 6}, \"28\": {\"28\": 10}, \"14\": {\"14\": 7, \"50\": 1, \"28\": 1, \"37\": 3}, \"3\": {\"3\": 11, \"47\": 1}, \"8\": {\"8\": 12}, \"9\": {\"9\": 12}, \"21\": {\"21\": 10}, \"41\": {\"41\": 12}, \"24\": {\"24\": 12}, \"46\": {\"46\": 10}, \"43\": {\"43\": 10}, \"54\": {\"54\": 10}, \"23\": {\"23\": 10}, \"37\": {\"37\": 10}, \"12\": {\"12\": 10}, \"26\": {\"26\": 10}, \"51\": {\"51\": 6}}, \"C_A_1\": {\"46\": {\"46\": 12}, \"16\": {\"16\": 12}, \"26\": {\"26\": 12}, \"10\": {\"10\": 12}, \"9\": {\"9\": 10}, \"28\": {\"28\": 12}, \"51\": {\"51\": 12}, \"1\": {\"1\": 11, \"57\": 1}, \"55\": {\"55\": 12}, \"27\": {\"27\": 10}, \"22\": {\"22\": 9, \"10\": 1, \"24\": 2}, \"52\": {\"52\": 12}, \"3\": {\"3\": 12}, \"33\": {\"33\": 8}, \"47\": {\"47\": 12}, \"42\": {\"42\": 11, \"19\": 1}, \"12\": {\"12\": 4}, \"23\": {\"23\": 12}, \"49\": {\"49\": 10}, \"7\": {\"7\": 12}, \"4\": {\"4\": 12}, \"50\": {\"50\": 12}, \"19\": {\"19\": 12}, \"11\": {\"11\": 12}, \"31\": {\"31\": 10}, \"41\": {\"41\": 12}, \"56\": {\"56\": 9, \"57\": 1}, \"0\": {\"0\": 10, \"32\": 1, \"38\": 1}, \"57\": {\"57\": 12}, \"53\": {\"53\": 12}, \"43\": {\"43\": 12}, \"37\": {\"37\": 12}, \"2\": {\"2\": 8}, \"6\": {\"6\": 12}, \"18\": {\"18\": 12}, \"38\": {\"38\": 12}, \"15\": {\"15\": 11, \"38\": 1}, \"36\": {\"36\": 12}, \"39\": {\"39\": 8}, \"44\": {\"44\": 12}, \"8\": {\"8\": 12}, \"17\": {\"17\": 10}, \"5\": {\"5\": 12}, \"13\": {\"13\": 10}, \"40\": {\"40\": 10}, \"29\": {\"29\": 12}, \"48\": {\"48\": 12}, \"32\": {\"32\": 12}, \"30\": {\"30\": 11, \"8\": 1}, \"35\": {\"35\": 12}, \"25\": {\"25\": 12}, \"14\": {\"14\": 5, \"6\": 1, \"2\": 2, \"30\": 2, \"4\": 1, \"18\": 1}, \"54\": {\"54\": 10}, \"20\": {\"20\": 8}, \"21\": {\"21\": 10}, \"45\": {\"45\": 6, \"57\": 2}, \"24\": {\"24\": 8}, \"34\": {\"34\": 8}}, \"C_A_2\": {\"14\": {\"14\": 9, \"56\": 1, \"31\": 1, \"22\": 1}, \"22\": {\"22\": 11, \"56\": 1}, \"9\": {\"9\": 11, \"8\": 1}, \"47\": {\"47\": 12}, \"13\": {\"13\": 12}, \"8\": {\"8\": 12}, \"7\": {\"7\": 12}, \"49\": {\"49\": 12}, \"20\": {\"20\": 12}, \"16\": {\"16\": 12}, \"34\": {\"34\": 12}, \"56\": {\"56\": 12}, \"38\": {\"38\": 10}, \"4\": {\"4\": 10, \"35\": 2}, \"43\": {\"43\": 10}, \"26\": {\"26\": 10}, \"35\": {\"35\": 12}, \"31\": {\"31\": 12}, \"1\": {\"1\": 12}, \"39\": {\"39\": 12}, \"5\": {\"5\": 12}, \"24\": {\"24\": 12}, \"54\": {\"54\": 10}, \"23\": {\"23\": 12}, \"51\": {\"51\": 12}, \"27\": {\"27\": 9, \"8\": 1}, \"15\": {\"15\": 12}, \"0\": {\"0\": 12}, \"19\": {\"19\": 10}, \"18\": {\"18\": 8}, \"30\": {\"18\": 3, \"30\": 9}, \"55\": {\"55\": 10}, \"57\": {\"57\": 12}, \"2\": {\"2\": 12}, \"12\": {\"12\": 8}, \"41\": {\"41\": 12}, \"42\": {\"42\": 12}, \"48\": {\"48\": 11, \"15\": 1}, \"37\": {\"37\": 12}, \"6\": {\"6\": 8, \"46\": 2}, \"11\": {\"11\": 10}, \"45\": {\"45\": 8}, \"21\": {\"21\": 12}, \"46\": {\"46\": 10}, \"25\": {\"25\": 12}, \"36\": {\"36\": 10}, \"53\": {\"53\": 12}, \"28\": {\"28\": 12}, \"40\": {\"40\": 10}, \"33\": {\"33\": 10}, \"44\": {\"44\": 10}, \"3\": {\"3\": 12}, \"17\": {\"17\": 12}, \"32\": {\"32\": 10}, \"10\": {\"10\": 10}, \"52\": {\"52\": 10}, \"50\": {\"53\": 1, \"50\": 7}, \"29\": {\"29\": 6}}, \"ORACLE.run1_14\": {\"15\": {\"2\": 15, \"15\": 55, \"1\": 15, \"0\": 4, \"13\": 21, \"4\": 16, \"3\": 7, \"14\": 14, \"7\": 47, \"5\": 25, \"6\": 14, \"11\": 3, \"10\": 4}, \"3\": {\"1\": 26, \"14\": 18, \"4\": 30, \"7\": 11, \"3\": 28, \"2\": 14, \"11\": 13, \"13\": 16, \"5\": 22, \"10\": 18, \"0\": 19, \"9\": 7, \"15\": 3, \"6\": 13, \"8\": 2}, \"6\": {\"11\": 6, \"14\": 41, \"4\": 14, \"2\": 32, \"13\": 43, \"15\": 11, \"5\": 8, \"10\": 15, \"6\": 42, \"3\": 13, \"7\": 6, \"0\": 8, \"1\": 1}, \"1\": {\"0\": 18, \"1\": 38, \"2\": 21, \"8\": 21, \"7\": 25, \"11\": 8, \"3\": 22, \"5\": 23, \"6\": 2, \"4\": 25, \"10\": 13, \"14\": 7, \"15\": 12, \"13\": 5}, \"8\": {\"12\": 26, \"8\": 93, \"9\": 32, \"11\": 11, \"3\": 11, \"4\": 13, \"5\": 11, \"1\": 24, \"10\": 5, \"7\": 2, \"0\": 8, \"14\": 1, \"2\": 2, \"6\": 1}, \"10\": {\"0\": 28, \"3\": 32, \"2\": 16, \"1\": 5, \"5\": 14, \"6\": 9, \"13\": 10, \"9\": 9, \"14\": 22, \"11\": 30, \"10\": 33, \"4\": 23, \"8\": 5, \"15\": 1, \"12\": 1, \"7\": 2}, \"9\": {\"10\": 17, \"9\": 66, \"11\": 28, \"12\": 53, \"8\": 32, \"0\": 20, \"4\": 5, \"3\": 8, \"5\": 4, \"1\": 7}, \"13\": {\"13\": 52, \"14\": 34, \"4\": 13, \"15\": 15, \"3\": 9, \"6\": 38, \"2\": 22, \"7\": 9, \"5\": 12, \"10\": 13, \"0\": 12, \"11\": 6, \"1\": 5}, \"12\": {\"9\": 81, \"12\": 117, \"11\": 11, \"8\": 23, \"4\": 1, \"3\": 2, \"0\": 3, \"1\": 1, \"10\": 1}, \"5\": {\"0\": 17, \"11\": 5, \"7\": 22, \"2\": 17, \"10\": 15, \"6\": 8, \"5\": 32, \"3\": 19, \"4\": 18, \"1\": 27, \"14\": 14, \"13\": 17, \"8\": 12, \"9\": 3, \"15\": 12, \"12\": 2}, \"0\": {\"5\": 15, \"3\": 22, \"11\": 38, \"1\": 17, \"4\": 17, \"9\": 14, \"13\": 8, \"0\": 36, \"2\": 10, \"10\": 34, \"7\": 2, \"8\": 5, \"6\": 3, \"14\": 12, \"15\": 3, \"12\": 4}, \"2\": {\"14\": 31, \"2\": 37, \"1\": 14, \"4\": 18, \"5\": 14, \"3\": 13, \"6\": 33, \"15\": 16, \"10\": 8, \"7\": 12, \"11\": 2, \"13\": 30, \"0\": 12}, \"11\": {\"11\": 53, \"10\": 37, \"0\": 28, \"9\": 33, \"3\": 19, \"14\": 10, \"2\": 6, \"4\": 12, \"13\": 7, \"8\": 6, \"12\": 12, \"5\": 9, \"1\": 1, \"6\": 6, \"7\": 1}, \"14\": {\"4\": 13, \"2\": 34, \"10\": 22, \"14\": 37, \"3\": 17, \"13\": 27, \"15\": 9, \"0\": 13, \"6\": 40, \"5\": 12, \"9\": 1, \"7\": 1, \"11\": 7, \"1\": 5, \"8\": 2}, \"7\": {\"15\": 46, \"1\": 35, \"4\": 26, \"2\": 14, \"7\": 43, \"0\": 5, \"10\": 6, \"5\": 17, \"8\": 7, \"11\": 2, \"6\": 14, \"13\": 11, \"3\": 10, \"14\": 4}, \"4\": {\"4\": 25, \"5\": 26, \"10\": 25, \"2\": 20, \"1\": 29, \"3\": 26, \"15\": 14, \"8\": 6, \"7\": 16, \"14\": 11, \"0\": 9, \"11\": 8, \"6\": 10, \"9\": 4, \"13\": 10, \"12\": 1}}, \"ORACLE.run1_20\": {\"3\": {\"5\": 17, \"2\": 8, \"12\": 14, \"9\": 25, \"4\": 14, \"13\": 22, \"7\": 19, \"6\": 15, \"14\": 10, \"11\": 7, \"8\": 13, \"10\": 15, \"3\": 14, \"15\": 18, \"1\": 19, \"0\": 10}, \"15\": {\"5\": 21, \"15\": 32, \"3\": 11, \"11\": 7, \"12\": 20, \"4\": 6, \"0\": 25, \"13\": 20, \"9\": 24, \"1\": 25, \"2\": 23, \"8\": 8, \"7\": 9, \"6\": 6, \"10\": 3}, \"8\": {\"7\": 23, \"9\": 8, \"11\": 7, \"12\": 12, \"14\": 20, \"15\": 10, \"6\": 28, \"2\": 14, \"3\": 24, \"10\": 22, \"0\": 14, \"4\": 16, \"5\": 8, \"8\": 21, \"1\": 8, \"13\": 5}, \"4\": {\"5\": 16, \"6\": 22, \"1\": 11, \"11\": 4, \"0\": 10, \"4\": 26, \"7\": 12, \"9\": 14, \"12\": 14, \"10\": 36, \"14\": 24, \"8\": 18, \"3\": 17, \"2\": 4, \"15\": 10, \"13\": 2}, \"14\": {\"6\": 35, \"4\": 40, \"10\": 42, \"9\": 10, \"7\": 20, \"8\": 22, \"5\": 7, \"3\": 9, \"12\": 9, \"14\": 30, \"13\": 5, \"2\": 5, \"0\": 2, \"15\": 1, \"11\": 2, \"1\": 1}, \"0\": {\"5\": 30, \"9\": 16, \"3\": 22, \"14\": 9, \"12\": 22, \"13\": 13, \"15\": 23, \"0\": 16, \"4\": 17, \"6\": 7, \"10\": 8, \"11\": 5, \"1\": 18, \"8\": 16, \"7\": 12, \"2\": 6}, \"7\": {\"3\": 20, \"2\": 24, \"15\": 14, \"6\": 18, \"5\": 13, \"13\": 10, \"1\": 13, \"0\": 15, \"14\": 14, \"4\": 12, \"11\": 19, \"10\": 14, \"8\": 9, \"12\": 15, \"7\": 18, \"9\": 12}, \"6\": {\"11\": 14, \"6\": 31, \"1\": 5, \"12\": 8, \"14\": 35, \"9\": 14, \"4\": 21, \"2\": 14, \"10\": 22, \"3\": 7, \"5\": 3, \"8\": 29, \"7\": 23, \"0\": 5, \"15\": 4, \"13\": 5}, \"10\": {\"12\": 15, \"7\": 13, \"10\": 39, \"14\": 40, \"6\": 29, \"15\": 5, \"4\": 25, \"0\": 10, \"8\": 25, \"9\": 4, \"1\": 4, \"2\": 9, \"5\": 5, \"3\": 13, \"13\": 1, \"11\": 3}, \"5\": {\"5\": 24, \"11\": 10, \"13\": 14, \"14\": 10, \"12\": 19, \"8\": 12, \"2\": 13, \"15\": 20, \"1\": 15, \"6\": 9, \"0\": 15, \"3\": 10, \"9\": 25, \"4\": 18, \"10\": 12, \"7\": 14}, \"2\": {\"1\": 21, \"13\": 20, \"2\": 21, \"12\": 18, \"5\": 12, \"9\": 21, \"8\": 15, \"11\": 16, \"4\": 14, \"10\": 9, \"6\": 11, \"7\": 17, \"15\": 19, \"14\": 4, \"3\": 16, \"0\": 6}, \"12\": {\"8\": 15, \"13\": 21, \"15\": 20, \"12\": 19, \"1\": 19, \"9\": 22, \"2\": 22, \"7\": 16, \"6\": 7, \"0\": 24, \"5\": 17, \"10\": 3, \"3\": 17, \"11\": 9, \"4\": 5, \"14\": 4}, \"9\": {\"4\": 10, \"13\": 18, \"8\": 10, \"15\": 28, \"7\": 12, \"1\": 20, \"9\": 12, \"0\": 17, \"14\": 3, \"5\": 23, \"12\": 25, \"2\": 17, \"11\": 5, \"10\": 11, \"3\": 20, \"6\": 9}, \"1\": {\"13\": 24, \"5\": 17, \"15\": 25, \"1\": 21, \"10\": 8, \"3\": 21, \"12\": 20, \"0\": 22, \"4\": 10, \"11\": 4, \"8\": 12, \"6\": 6, \"2\": 13, \"7\": 11, \"9\": 19, \"14\": 7}, \"11\": {\"11\": 57, \"9\": 15, \"7\": 27, \"3\": 13, \"1\": 7, \"12\": 17, \"2\": 17, \"13\": 21, \"6\": 15, \"8\": 9, \"0\": 13, \"5\": 5, \"10\": 4, \"15\": 10, \"4\": 4, \"14\": 6}, \"13\": {\"2\": 18, \"8\": 6, \"11\": 17, \"9\": 21, \"4\": 5, \"5\": 19, \"15\": 22, \"12\": 20, \"6\": 4, \"7\": 13, \"13\": 36, \"3\": 20, \"0\": 19, \"1\": 16, \"10\": 4}}, \"ORACLE.run1_38\": {\"5\": {\"5\": 34, \"9\": 21, \"8\": 25, \"10\": 17, \"3\": 8, \"7\": 19, \"6\": 28, \"13\": 16, \"1\": 16, \"0\": 23, \"15\": 21, \"2\": 8, \"12\": 1, \"11\": 1, \"4\": 1, \"14\": 1}, \"8\": {\"6\": 17, \"10\": 23, \"7\": 31, \"5\": 28, \"8\": 40, \"14\": 3, \"1\": 8, \"13\": 23, \"12\": 3, \"0\": 24, \"9\": 12, \"3\": 7, \"15\": 16, \"2\": 4, \"11\": 1}, \"11\": {\"11\": 75, \"2\": 29, \"12\": 18, \"13\": 5, \"14\": 68, \"10\": 22, \"4\": 3, \"0\": 3, \"15\": 7, \"8\": 3, \"5\": 3, \"6\": 1, \"7\": 2, \"3\": 1}, \"1\": {\"15\": 40, \"9\": 16, \"6\": 31, \"13\": 34, \"5\": 17, \"2\": 21, \"8\": 5, \"1\": 69, \"10\": 6, \"11\": 1}, \"10\": {\"13\": 21, \"6\": 2, \"10\": 45, \"7\": 24, \"0\": 13, \"14\": 25, \"11\": 18, \"2\": 16, \"1\": 9, \"5\": 15, \"15\": 17, \"12\": 8, \"8\": 16, \"3\": 3, \"9\": 5, \"4\": 3}, \"15\": {\"10\": 19, \"13\": 29, \"15\": 52, \"9\": 6, \"2\": 19, \"8\": 16, \"1\": 29, \"14\": 7, \"5\": 22, \"6\": 19, \"3\": 2, \"7\": 7, \"11\": 4, \"0\": 9}, \"3\": {\"3\": 97, \"7\": 28, \"0\": 23, \"9\": 30, \"6\": 15, \"5\": 24, \"15\": 3, \"10\": 4, \"13\": 2, \"8\": 8, \"1\": 4, \"12\": 2}, \"7\": {\"5\": 23, \"10\": 16, \"7\": 53, \"0\": 44, \"14\": 4, \"3\": 16, \"8\": 35, \"12\": 11, \"4\": 9, \"13\": 4, \"6\": 4, \"15\": 7, \"9\": 9, \"2\": 3, \"1\": 2}, \"4\": {\"12\": 94, \"4\": 126, \"14\": 4, \"7\": 9, \"0\": 3, \"11\": 2, \"10\": 1, \"3\": 1}, \"14\": {\"2\": 48, \"10\": 24, \"7\": 2, \"14\": 79, \"11\": 40, \"0\": 4, \"12\": 15, \"13\": 11, \"15\": 13, \"8\": 2, \"4\": 1, \"1\": 1}, \"9\": {\"3\": 26, \"9\": 60, \"6\": 47, \"1\": 21, \"8\": 12, \"13\": 10, \"0\": 13, \"5\": 31, \"2\": 6, \"15\": 4, \"7\": 7, \"11\": 1, \"10\": 2}, \"12\": {\"4\": 66, \"12\": 121, \"10\": 10, \"0\": 12, \"7\": 18, \"14\": 8, \"3\": 1, \"11\": 3, \"2\": 1}, \"6\": {\"6\": 65, \"1\": 31, \"5\": 24, \"13\": 11, \"9\": 42, \"3\": 7, \"7\": 3, \"8\": 19, \"0\": 12, \"15\": 20, \"10\": 4, \"2\": 2}, \"2\": {\"14\": 27, \"13\": 37, \"11\": 14, \"2\": 93, \"10\": 12, \"15\": 35, \"1\": 12, \"0\": 3, \"9\": 3, \"5\": 1, \"8\": 3}, \"0\": {\"10\": 17, \"8\": 22, \"6\": 13, \"3\": 33, \"9\": 10, \"7\": 36, \"0\": 32, \"14\": 5, \"15\": 11, \"5\": 28, \"12\": 11, \"4\": 5, \"13\": 7, \"1\": 7, \"2\": 3}, \"13\": {\"2\": 46, \"15\": 35, \"1\": 36, \"0\": 6, \"8\": 16, \"14\": 10, \"13\": 44, \"6\": 10, \"11\": 2, \"10\": 9, \"5\": 14, \"9\": 9, \"7\": 1, \"3\": 1, \"12\": 1}}, \"ORACLE.run1_8\": {\"9\": {\"9\": 199, \"13\": 6, \"14\": 3, \"4\": 5, \"5\": 11, \"11\": 1, \"0\": 4, \"10\": 11}, \"10\": {\"9\": 4, \"10\": 24, \"4\": 25, \"14\": 30, \"11\": 16, \"6\": 21, \"7\": 16, \"5\": 26, \"0\": 21, \"1\": 19, \"8\": 7, \"2\": 4, \"3\": 1, \"13\": 22, \"15\": 4}, \"13\": {\"0\": 27, \"5\": 20, \"4\": 19, \"13\": 28, \"1\": 14, \"7\": 18, \"10\": 31, \"2\": 13, \"8\": 10, \"14\": 21, \"6\": 18, \"3\": 4, \"11\": 13, \"9\": 3, \"12\": 1}, \"0\": {\"3\": 7, \"6\": 18, \"5\": 16, \"13\": 49, \"10\": 13, \"2\": 15, \"14\": 22, \"4\": 17, \"0\": 39, \"1\": 4, \"15\": 4, \"7\": 22, \"11\": 7, \"8\": 3, \"9\": 2, \"12\": 2}, \"1\": {\"14\": 29, \"11\": 34, \"13\": 20, \"6\": 17, \"1\": 35, \"12\": 2, \"5\": 18, \"8\": 20, \"10\": 17, \"15\": 16, \"7\": 11, \"4\": 14, \"0\": 6, \"3\": 1}, \"15\": {\"15\": 48, \"12\": 38, \"3\": 23, \"10\": 2, \"8\": 34, \"6\": 10, \"2\": 12, \"5\": 2, \"7\": 15, \"4\": 10, \"1\": 13, \"11\": 16, \"13\": 5, \"0\": 7, \"14\": 5}, \"5\": {\"0\": 20, \"1\": 26, \"14\": 21, \"13\": 27, \"10\": 31, \"12\": 1, \"6\": 16, \"5\": 33, \"4\": 25, \"9\": 6, \"11\": 15, \"7\": 9, \"8\": 7, \"15\": 1, \"2\": 2}, \"3\": {\"2\": 36, \"3\": 45, \"12\": 45, \"7\": 22, \"0\": 7, \"15\": 29, \"4\": 6, \"1\": 3, \"13\": 8, \"8\": 20, \"6\": 10, \"14\": 4, \"10\": 5}, \"6\": {\"4\": 20, \"6\": 21, \"0\": 18, \"13\": 18, \"11\": 11, \"15\": 14, \"7\": 15, \"10\": 18, \"1\": 19, \"3\": 12, \"5\": 20, \"12\": 4, \"14\": 13, \"2\": 15, \"8\": 22}, \"11\": {\"8\": 33, \"5\": 19, \"14\": 23, \"11\": 45, \"13\": 6, \"1\": 31, \"15\": 14, \"7\": 7, \"6\": 13, \"4\": 13, \"3\": 2, \"10\": 13, \"12\": 11, \"0\": 8, \"2\": 2}, \"8\": {\"12\": 31, \"14\": 7, \"8\": 34, \"15\": 34, \"11\": 24, \"13\": 11, \"6\": 14, \"4\": 16, \"1\": 21, \"3\": 15, \"10\": 5, \"7\": 11, \"0\": 7, \"2\": 10}, \"4\": {\"1\": 20, \"10\": 19, \"6\": 19, \"14\": 16, \"0\": 28, \"7\": 24, \"13\": 23, \"2\": 11, \"5\": 16, \"8\": 15, \"4\": 17, \"15\": 11, \"11\": 14, \"3\": 5, \"12\": 2}, \"12\": {\"3\": 42, \"12\": 55, \"4\": 6, \"8\": 35, \"13\": 3, \"15\": 26, \"6\": 13, \"2\": 14, \"11\": 12, \"7\": 15, \"5\": 1, \"14\": 4, \"1\": 5, \"10\": 2, \"0\": 7}, \"14\": {\"13\": 23, \"6\": 16, \"11\": 17, \"0\": 20, \"10\": 21, \"14\": 31, \"1\": 25, \"5\": 21, \"7\": 15, \"15\": 4, \"3\": 2, \"4\": 23, \"2\": 7, \"8\": 12, \"9\": 1, \"12\": 2}, \"2\": {\"3\": 44, \"10\": 11, \"0\": 15, \"2\": 49, \"7\": 21, \"6\": 20, \"15\": 15, \"12\": 22, \"4\": 10, \"13\": 10, \"1\": 4, \"8\": 11, \"14\": 4, \"11\": 1, \"5\": 3}, \"7\": {\"4\": 28, \"10\": 18, \"13\": 16, \"3\": 12, \"7\": 24, \"0\": 31, \"2\": 21, \"12\": 8, \"1\": 11, \"14\": 16, \"6\": 28, \"5\": 6, \"15\": 6, \"11\": 8, \"8\": 7}}, \"ORACLE.run1_50\": {\"7\": {\"7\": 44, \"5\": 27, \"13\": 41, \"2\": 4, \"10\": 27, \"8\": 8, \"11\": 3, \"1\": 14, \"6\": 22, \"14\": 3, \"4\": 22, \"3\": 6, \"15\": 11, \"0\": 7, \"12\": 1}, \"3\": {\"8\": 68, \"3\": 115, \"5\": 5, \"10\": 29, \"0\": 4, \"13\": 7, \"6\": 1, \"7\": 11}, \"8\": {\"10\": 46, \"0\": 27, \"8\": 93, \"2\": 16, \"3\": 43, \"5\": 6, \"13\": 2, \"7\": 5, \"4\": 1, \"6\": 1}, \"2\": {\"10\": 21, \"0\": 55, \"8\": 21, \"9\": 1, \"13\": 7, \"2\": 80, \"12\": 10, \"7\": 6, \"14\": 26, \"1\": 4, \"4\": 2, \"6\": 4, \"5\": 2, \"11\": 1}, \"14\": {\"6\": 9, \"12\": 41, \"9\": 22, \"2\": 31, \"13\": 1, \"1\": 10, \"14\": 65, \"15\": 6, \"10\": 5, \"0\": 18, \"11\": 19, \"5\": 4, \"4\": 6, \"7\": 1, \"8\": 2}, \"4\": {\"15\": 41, \"1\": 25, \"2\": 4, \"13\": 24, \"11\": 15, \"4\": 26, \"6\": 28, \"7\": 20, \"14\": 9, \"12\": 4, \"9\": 10, \"5\": 27, \"0\": 1, \"10\": 4, \"8\": 1, \"3\": 1}, \"6\": {\"1\": 22, \"13\": 27, \"15\": 14, \"6\": 42, \"4\": 30, \"14\": 16, \"7\": 19, \"5\": 20, \"0\": 11, \"9\": 9, \"8\": 2, \"3\": 2, \"11\": 10, \"2\": 3, \"10\": 12, \"12\": 1}, \"15\": {\"15\": 38, \"11\": 26, \"6\": 21, \"14\": 10, \"5\": 22, \"1\": 27, \"13\": 14, \"9\": 27, \"4\": 36, \"10\": 3, \"7\": 8, \"0\": 2, \"12\": 5, \"2\": 1}, \"10\": {\"5\": 14, \"10\": 50, \"13\": 29, \"0\": 44, \"15\": 2, \"8\": 34, \"7\": 18, \"2\": 23, \"3\": 11, \"6\": 5, \"14\": 3, \"1\": 4, \"4\": 3}, \"11\": {\"1\": 26, \"4\": 22, \"9\": 50, \"14\": 19, \"11\": 45, \"15\": 31, \"12\": 22, \"5\": 4, \"6\": 12, \"2\": 3, \"0\": 2, \"13\": 3, \"10\": 1}, \"13\": {\"5\": 40, \"6\": 32, \"3\": 3, \"13\": 41, \"7\": 30, \"10\": 27, \"1\": 12, \"0\": 12, \"2\": 5, \"8\": 5, \"14\": 4, \"4\": 14, \"15\": 10, \"11\": 2, \"9\": 3}, \"9\": {\"14\": 22, \"9\": 65, \"4\": 18, \"5\": 3, \"12\": 31, \"11\": 53, \"15\": 22, \"1\": 16, \"2\": 3, \"6\": 4, \"0\": 1, \"10\": 1, \"7\": 1}, \"0\": {\"8\": 24, \"0\": 52, \"10\": 39, \"1\": 6, \"2\": 49, \"13\": 9, \"3\": 3, \"5\": 12, \"14\": 14, \"15\": 1, \"4\": 4, \"12\": 5, \"11\": 2, \"7\": 12, \"6\": 8}, \"1\": {\"4\": 28, \"1\": 33, \"3\": 1, \"5\": 16, \"15\": 36, \"6\": 32, \"2\": 8, \"0\": 11, \"7\": 10, \"14\": 16, \"12\": 8, \"9\": 13, \"11\": 12, \"13\": 11, \"10\": 5}, \"12\": {\"12\": 87, \"14\": 58, \"9\": 27, \"11\": 24, \"4\": 5, \"2\": 16, \"5\": 1, \"13\": 1, \"15\": 7, \"1\": 5, \"10\": 1, \"6\": 3, \"0\": 5}, \"5\": {\"5\": 33, \"14\": 7, \"10\": 13, \"4\": 23, \"13\": 33, \"2\": 7, \"15\": 17, \"1\": 22, \"7\": 34, \"6\": 28, \"0\": 9, \"11\": 6, \"8\": 2, \"3\": 2, \"12\": 2, \"9\": 2}}, \"ORACLE.run1_32\": {\"8\": {\"9\": 1, \"4\": 14, \"11\": 11, \"8\": 48, \"13\": 34, \"14\": 10, \"7\": 17, \"5\": 33, \"0\": 20, \"15\": 17, \"3\": 28, \"2\": 7}, \"14\": {\"8\": 18, \"11\": 34, \"5\": 35, \"14\": 38, \"2\": 20, \"7\": 26, \"13\": 19, \"4\": 16, \"3\": 8, \"0\": 20, \"9\": 4, \"15\": 1, \"12\": 1}, \"2\": {\"9\": 12, \"2\": 55, \"7\": 27, \"4\": 38, \"0\": 26, \"5\": 12, \"11\": 19, \"14\": 23, \"12\": 8, \"13\": 10, \"8\": 7, \"3\": 2, \"6\": 1}, \"0\": {\"13\": 22, \"4\": 29, \"0\": 34, \"7\": 29, \"2\": 29, \"11\": 19, \"8\": 21, \"3\": 7, \"14\": 22, \"5\": 17, \"9\": 8, \"12\": 3}, \"1\": {\"1\": 154, \"10\": 72, \"6\": 13, \"12\": 1}, \"10\": {\"10\": 131, \"6\": 14, \"12\": 19, \"1\": 73, \"9\": 3}, \"11\": {\"14\": 35, \"0\": 17, \"7\": 33, \"2\": 22, \"13\": 13, \"11\": 47, \"5\": 24, \"8\": 22, \"4\": 19, \"3\": 6, \"9\": 2}, \"5\": {\"0\": 23, \"13\": 27, \"7\": 26, \"14\": 12, \"4\": 25, \"8\": 19, \"11\": 27, \"3\": 26, \"15\": 5, \"2\": 15, \"5\": 34, \"9\": 1}, \"15\": {\"15\": 153, \"14\": 3, \"8\": 14, \"13\": 16, \"3\": 40, \"4\": 4, \"5\": 6, \"11\": 1, \"0\": 3}, \"3\": {\"11\": 15, \"13\": 37, \"3\": 55, \"8\": 31, \"15\": 24, \"5\": 36, \"7\": 8, \"0\": 11, \"4\": 8, \"14\": 10, \"2\": 5}, \"12\": {\"12\": 129, \"10\": 23, \"9\": 63, \"0\": 1, \"1\": 2, \"6\": 21, \"2\": 1}, \"7\": {\"4\": 31, \"11\": 29, \"2\": 25, \"3\": 11, \"7\": 32, \"13\": 25, \"14\": 26, \"5\": 22, \"8\": 20, \"9\": 5, \"0\": 14}, \"13\": {\"11\": 15, \"3\": 28, \"8\": 35, \"7\": 24, \"13\": 33, \"0\": 15, \"2\": 14, \"15\": 6, \"4\": 27, \"5\": 28, \"14\": 14, \"9\": 1}, \"6\": {\"6\": 179, \"10\": 28, \"12\": 12, \"1\": 16, \"9\": 5}, \"4\": {\"14\": 23, \"8\": 24, \"4\": 37, \"0\": 27, \"7\": 25, \"2\": 20, \"13\": 33, \"11\": 19, \"5\": 14, \"12\": 3, \"15\": 2, \"9\": 7, \"3\": 6}, \"9\": {\"9\": 112, \"6\": 5, \"4\": 10, \"2\": 28, \"12\": 59, \"0\": 13, \"10\": 3, \"13\": 3, \"7\": 3, \"14\": 1, \"11\": 1, \"5\": 1, \"8\": 1}}, \"ORACLE.run1_26\": {\"4\": {\"15\": 13, \"1\": 30, \"4\": 27, \"12\": 2, \"0\": 22, \"8\": 18, \"7\": 22, \"10\": 17, \"6\": 16, \"14\": 30, \"2\": 11, \"3\": 12, \"13\": 8, \"5\": 2, \"9\": 10}, \"12\": {\"12\": 91, \"11\": 37, \"7\": 4, \"9\": 14, \"5\": 11, \"8\": 10, \"13\": 13, \"15\": 19, \"10\": 11, \"1\": 3, \"6\": 19, \"0\": 5, \"2\": 1, \"14\": 2}, \"10\": {\"4\": 19, \"1\": 32, \"13\": 10, \"9\": 13, \"14\": 28, \"2\": 17, \"3\": 8, \"12\": 9, \"7\": 20, \"0\": 23, \"6\": 15, \"8\": 17, \"10\": 13, \"15\": 10, \"5\": 6}, \"0\": {\"1\": 23, \"4\": 20, \"12\": 8, \"10\": 19, \"15\": 14, \"6\": 29, \"14\": 27, \"8\": 21, \"9\": 12, \"3\": 12, \"2\": 14, \"0\": 23, \"7\": 14, \"13\": 3, \"5\": 1}, \"13\": {\"5\": 28, \"1\": 5, \"15\": 25, \"14\": 5, \"13\": 55, \"8\": 14, \"12\": 10, \"10\": 3, \"9\": 14, \"2\": 18, \"7\": 12, \"3\": 10, \"11\": 12, \"0\": 5, \"6\": 16, \"4\": 8}, \"9\": {\"13\": 19, \"3\": 12, \"15\": 20, \"9\": 36, \"8\": 16, \"7\": 17, \"14\": 14, \"6\": 16, \"5\": 15, \"2\": 11, \"12\": 10, \"0\": 24, \"1\": 10, \"4\": 7, \"10\": 11, \"11\": 2}, \"3\": {\"9\": 14, \"1\": 16, \"15\": 21, \"13\": 14, \"7\": 26, \"8\": 10, \"4\": 13, \"6\": 10, \"2\": 32, \"10\": 14, \"3\": 23, \"14\": 21, \"5\": 14, \"0\": 9, \"12\": 3}, \"2\": {\"2\": 30, \"3\": 21, \"8\": 28, \"15\": 14, \"10\": 12, \"5\": 20, \"7\": 24, \"6\": 12, \"0\": 17, \"14\": 13, \"4\": 15, \"13\": 9, \"9\": 15, \"12\": 1, \"1\": 8, \"11\": 1}, \"5\": {\"6\": 15, \"2\": 23, \"15\": 19, \"3\": 21, \"4\": 5, \"9\": 23, \"5\": 27, \"8\": 16, \"7\": 18, \"10\": 13, \"13\": 28, \"0\": 5, \"11\": 7, \"1\": 5, \"14\": 5, \"12\": 10}, \"14\": {\"4\": 30, \"8\": 19, \"0\": 33, \"3\": 11, \"15\": 14, \"14\": 26, \"9\": 9, \"1\": 29, \"10\": 15, \"6\": 11, \"7\": 20, \"2\": 10, \"5\": 7, \"13\": 3, \"12\": 3}, \"8\": {\"4\": 16, \"7\": 21, \"12\": 10, \"10\": 12, \"8\": 16, \"1\": 25, \"5\": 10, \"14\": 26, \"9\": 13, \"11\": 1, \"0\": 16, \"15\": 22, \"6\": 20, \"3\": 8, \"13\": 11, \"2\": 13}, \"7\": {\"2\": 19, \"8\": 17, \"1\": 21, \"7\": 21, \"5\": 10, \"4\": 23, \"3\": 27, \"6\": 12, \"10\": 13, \"9\": 18, \"0\": 18, \"14\": 15, \"15\": 17, \"13\": 7, \"12\": 2}, \"6\": {\"14\": 14, \"5\": 21, \"12\": 19, \"3\": 8, \"7\": 18, \"2\": 8, \"4\": 15, \"9\": 13, \"6\": 27, \"13\": 23, \"11\": 4, \"8\": 18, \"15\": 22, \"0\": 14, \"10\": 8, \"1\": 8}, \"11\": {\"13\": 22, \"11\": 143, \"12\": 42, \"5\": 10, \"15\": 3, \"6\": 6, \"2\": 3, \"9\": 6, \"8\": 2, \"10\": 2, \"3\": 1}, \"15\": {\"7\": 13, \"5\": 21, \"12\": 4, \"10\": 13, \"11\": 5, \"6\": 11, \"1\": 15, \"0\": 12, \"8\": 19, \"4\": 16, \"13\": 31, \"3\": 15, \"14\": 15, \"15\": 19, \"2\": 17, \"9\": 14}, \"1\": {\"1\": 33, \"0\": 25, \"4\": 35, \"10\": 18, \"8\": 23, \"15\": 6, \"12\": 1, \"14\": 28, \"6\": 10, \"9\": 8, \"7\": 22, \"3\": 11, \"2\": 10, \"5\": 7, \"13\": 3}}, \"ORACLE.run1_44\": {\"12\": {\"12\": 42, \"1\": 51, \"10\": 46, \"3\": 34, \"2\": 25, \"7\": 13, \"9\": 17, \"11\": 1, \"6\": 2, \"13\": 6, \"14\": 3}, \"7\": {\"6\": 15, \"7\": 31, \"11\": 19, \"13\": 30, \"12\": 11, \"9\": 25, \"1\": 24, \"2\": 37, \"10\": 21, \"4\": 6, \"3\": 20, \"14\": 1}, \"5\": {\"4\": 31, \"15\": 28, \"5\": 74, \"3\": 1, \"8\": 37, \"0\": 32, \"14\": 36, \"1\": 1}, \"15\": {\"4\": 21, \"8\": 42, \"15\": 59, \"5\": 30, \"0\": 48, \"14\": 37, \"9\": 1, \"3\": 2}, \"8\": {\"0\": 72, \"15\": 31, \"8\": 94, \"5\": 29, \"14\": 12, \"4\": 2}, \"2\": {\"1\": 23, \"7\": 27, \"10\": 36, \"3\": 14, \"6\": 26, \"9\": 31, \"13\": 19, \"12\": 19, \"2\": 30, \"11\": 14, \"4\": 1}, \"13\": {\"10\": 10, \"11\": 40, \"13\": 48, \"4\": 9, \"7\": 34, \"6\": 31, \"1\": 7, \"2\": 22, \"9\": 33, \"12\": 5, \"3\": 1}, \"4\": {\"5\": 27, \"4\": 82, \"9\": 12, \"13\": 14, \"15\": 17, \"1\": 6, \"14\": 52, \"3\": 6, \"7\": 7, \"0\": 9, \"2\": 3, \"11\": 3, \"12\": 1, \"8\": 1}, \"0\": {\"0\": 77, \"3\": 1, \"5\": 42, \"15\": 37, \"14\": 15, \"8\": 63, \"4\": 5}, \"6\": {\"10\": 12, \"11\": 50, \"13\": 38, \"2\": 22, \"6\": 55, \"7\": 18, \"9\": 34, \"12\": 5, \"4\": 1, \"1\": 3, \"14\": 1, \"3\": 1}, \"9\": {\"9\": 25, \"7\": 47, \"1\": 24, \"13\": 27, \"10\": 15, \"3\": 7, \"11\": 19, \"14\": 2, \"2\": 22, \"6\": 32, \"4\": 15, \"12\": 5}, \"11\": {\"11\": 65, \"13\": 44, \"6\": 50, \"9\": 29, \"7\": 17, \"2\": 17, \"10\": 10, \"1\": 5, \"12\": 1, \"3\": 1, \"4\": 1}, \"10\": {\"1\": 34, \"10\": 49, \"12\": 34, \"6\": 8, \"2\": 43, \"13\": 16, \"9\": 16, \"11\": 9, \"3\": 9, \"7\": 19, \"4\": 3}, \"14\": {\"7\": 3, \"15\": 35, \"14\": 53, \"4\": 57, \"5\": 41, \"0\": 16, \"9\": 8, \"3\": 11, \"13\": 2, \"8\": 9, \"1\": 3, \"6\": 1, \"11\": 1}, \"1\": {\"1\": 50, \"3\": 37, \"10\": 25, \"7\": 20, \"9\": 25, \"12\": 43, \"11\": 2, \"2\": 28, \"6\": 2, \"13\": 4, \"4\": 2, \"14\": 1, \"15\": 1}, \"3\": {\"12\": 39, \"7\": 15, \"9\": 10, \"3\": 65, \"13\": 6, \"10\": 22, \"1\": 46, \"2\": 21, \"4\": 7, \"11\": 1, \"14\": 7, \"15\": 1}}}, \"per_domain_accuracy\": {\"W_A_3\": {\"accuracy\": 0.9348958333333334, \"source?\": true}, \"W_A_4\": {\"accuracy\": 0.8971354166666666, \"source?\": true}, \"W_A_1\": {\"accuracy\": 0.9375, \"source?\": true}, \"C_A_3\": {\"accuracy\": 0.978125, \"source?\": true}, \"C_A_4\": {\"accuracy\": 0.9734375, \"source?\": true}, \"W_A_2\": {\"accuracy\": 0.9270833333333334, \"source?\": true}, \"C_A_5\": {\"accuracy\": 0.96875, \"source?\": true}, \"C_A_1\": {\"accuracy\": 0.9703125, \"source?\": true}, \"C_A_2\": {\"accuracy\": 0.9765625, \"source?\": true}, \"ORACLE.run1_14\": {\"accuracy\": 0.20494791666666667, \"source?\": false}, \"ORACLE.run1_20\": {\"accuracy\": 0.10859375, \"source?\": false}, \"ORACLE.run1_38\": {\"accuracy\": 0.2825520833333333, \"source?\": false}, \"ORACLE.run1_8\": {\"accuracy\": 0.18932291666666667, \"source?\": false}, \"ORACLE.run1_50\": {\"accuracy\": 0.23671875, \"source?\": false}, \"ORACLE.run1_32\": {\"accuracy\": 0.33098958333333334, \"source?\": false}, \"ORACLE.run1_26\": {\"accuracy\": 0.15885416666666666, \"source?\": false}, \"ORACLE.run1_44\": {\"accuracy\": 0.23411458333333332, \"source?\": false}}}, \"history\": {\"epoch_indices\": [1, 2, 3, 4, 5], \"train_label_loss\": [0.33687947982884603, 0.17575398056936203, 0.13098215659556794, 0.10260344485804686, 0.08994925342151669], \"source_val_label_loss\": [0.25063377618789673, 0.16540177166461945, 0.14910221099853516, 0.1318141520023346, 0.14706633985042572], \"target_val_label_loss\": [2.366011381149292, 2.561414957046509, 2.4643216133117676, 2.4460928440093994, 2.8440756797790527], \"source_val_acc_label\": [0.9410316780821918, 0.9638270547945206, 0.96875, 0.971318493150685, 0.9658604452054794], \"target_val_acc_label\": [0.21826171875, 0.17796223958333332, 0.19840494791666666, 0.2099609375, 0.17919921875]}, \"dataset_metrics\": {\"source\": {\"train\": {\"n_unique_x\": 56700, \"n_unique_y\": 130, \"n_batch/episode\": 2081}, \"val\": {\"n_unique_x\": 12132, \"n_unique_y\": 130, \"n_batch/episode\": 292}, \"test\": {\"n_unique_x\": 12132, \"n_unique_y\": 130, \"n_batch/episode\": 292}}, \"target\": {\"train\": {\"n_unique_x\": 179200, \"n_unique_y\": 16, \"n_batch/episode\": 6720}, \"val\": {\"n_unique_x\": 38400, \"n_unique_y\": 16, \"n_batch/episode\": 960}, \"test\": {\"n_unique_x\": 38400, \"n_unique_y\": 16, \"n_batch/episode\": 960}}}}'"
      ]
     },
     "execution_count": 29,
     "metadata": {},
     "output_type": "execute_result"
    }
   ],
   "source": [
    "json.dumps(experiment)"
   ]
  }
 ],
 "metadata": {
  "celltoolbar": "Tags",
  "kernelspec": {
   "display_name": "Python 3 (ipykernel)",
   "language": "python",
   "name": "python3"
  },
  "language_info": {
   "codemirror_mode": {
    "name": "ipython",
    "version": 3
   },
   "file_extension": ".py",
   "mimetype": "text/x-python",
   "name": "python",
   "nbconvert_exporter": "python",
   "pygments_lexer": "ipython3",
   "version": "3.8.10"
  },
  "papermill": {
   "default_parameters": {},
   "duration": 388.449119,
   "end_time": "2022-03-18T21:28:41.432110",
   "environment_variables": {},
   "exception": null,
   "input_path": "/mnt/wd500GB/CSC500/csc500-main/csc500-notebooks/templates/tl_ptn_template.ipynb",
   "output_path": "trial.ipynb",
   "parameters": {
    "parameters": {
     "BEST_MODEL_PATH": "./best_model.pth",
     "NUM_LOGS_PER_EPOCH": 10,
     "criteria_for_best": "target_loss",
     "dataset_seed": 1337,
     "datasets": [
      {
       "domain_prefix": "C_A_",
       "domains": [
        1,
        2,
        3,
        4,
        5
       ],
       "episode_transforms": [],
       "labels": [
        "1-10.",
        "1-11.",
        "1-15.",
        "1-16.",
        "1-17.",
        "1-18.",
        "1-19.",
        "10-4.",
        "10-7.",
        "11-1.",
        "11-14.",
        "11-17.",
        "11-20.",
        "11-7.",
        "13-20.",
        "13-8.",
        "14-10.",
        "14-11.",
        "14-14.",
        "14-7.",
        "15-1.",
        "15-20.",
        "16-1.",
        "16-16.",
        "17-10.",
        "17-11.",
        "17-2.",
        "19-1.",
        "19-16.",
        "19-19.",
        "19-20.",
        "19-3.",
        "2-10.",
        "2-11.",
        "2-17.",
        "2-18.",
        "2-20.",
        "2-3.",
        "2-4.",
        "2-5.",
        "2-6.",
        "2-7.",
        "2-8.",
        "3-13.",
        "3-18.",
        "3-3.",
        "4-1.",
        "4-10.",
        "4-11.",
        "4-19.",
        "5-5.",
        "6-15.",
        "7-10.",
        "7-14.",
        "8-18.",
        "8-20.",
        "8-3.",
        "8-8."
       ],
       "num_examples_per_domain_per_label": 100,
       "pickle_path": "/mnt/wd500GB/CSC500/csc500-main/datasets/cores.stratified_ds.2022A.pkl",
       "source_or_target_dataset": "source",
       "x_transforms": [
        "unit_power",
        "take_200"
       ]
      },
      {
       "domain_prefix": "W_A_",
       "domains": [
        1,
        2,
        3,
        4
       ],
       "episode_transforms": [],
       "labels": [
        "1-10",
        "1-12",
        "1-14",
        "1-16",
        "1-18",
        "1-19",
        "1-8",
        "10-11",
        "10-17",
        "10-4",
        "10-7",
        "11-1",
        "11-10",
        "11-19",
        "11-20",
        "11-4",
        "11-7",
        "12-19",
        "12-20",
        "12-7",
        "13-14",
        "13-18",
        "13-19",
        "13-20",
        "13-3",
        "13-7",
        "14-10",
        "14-11",
        "14-12",
        "14-13",
        "14-14",
        "14-19",
        "14-20",
        "14-7",
        "14-8",
        "14-9",
        "15-1",
        "15-19",
        "15-6",
        "16-1",
        "16-16",
        "16-19",
        "16-20",
        "17-10",
        "17-11",
        "18-1",
        "18-10",
        "18-11",
        "18-12",
        "18-13",
        "18-14",
        "18-15",
        "18-16",
        "18-17",
        "18-19",
        "18-2",
        "18-20",
        "18-4",
        "18-5",
        "18-7",
        "18-8",
        "18-9",
        "19-1",
        "19-10",
        "19-11",
        "19-12",
        "19-13",
        "19-14",
        "19-15",
        "19-19",
        "19-2",
        "19-20",
        "19-3",
        "19-4",
        "19-6",
        "19-7",
        "19-8",
        "19-9",
        "2-1",
        "2-13",
        "2-15",
        "2-3",
        "2-4",
        "2-5",
        "2-6",
        "2-7",
        "2-8",
        "20-1",
        "20-12",
        "20-14",
        "20-15",
        "20-16",
        "20-18",
        "20-19",
        "20-20",
        "20-3",
        "20-4",
        "20-5",
        "20-7",
        "20-8",
        "3-1",
        "3-13",
        "3-18",
        "3-2",
        "3-8",
        "4-1",
        "4-10",
        "4-11",
        "5-1",
        "5-5",
        "6-1",
        "6-15",
        "6-6",
        "7-10",
        "7-11",
        "7-12",
        "7-13",
        "7-14",
        "7-7",
        "7-8",
        "7-9",
        "8-1",
        "8-13",
        "8-14",
        "8-18",
        "8-20",
        "8-3",
        "8-8",
        "9-1",
        "9-7"
       ],
       "num_examples_per_domain_per_label": 100,
       "pickle_path": "/mnt/wd500GB/CSC500/csc500-main/datasets/wisig.node3-19.stratified_ds.2022A.pkl",
       "source_or_target_dataset": "source",
       "x_transforms": [
        "unit_power",
        "take_200"
       ]
      },
      {
       "domain_prefix": "ORACLE.run1_",
       "domains": [
        32,
        38,
        8,
        44,
        14,
        50,
        20,
        26
       ],
       "episode_transforms": [],
       "labels": [
        "3123D52",
        "3123D65",
        "3123D79",
        "3123D80",
        "3123D54",
        "3123D70",
        "3123D7B",
        "3123D89",
        "3123D58",
        "3123D76",
        "3123D7D",
        "3123EFE",
        "3123D64",
        "3123D78",
        "3123D7E",
        "3124E4A"
       ],
       "num_examples_per_domain_per_label": 2000,
       "pickle_path": "/mnt/wd500GB/CSC500/csc500-main/datasets/oracle.Run1_framed_2000Examples_stratified_ds.2022A.pkl",
       "source_or_target_dataset": "target",
       "x_transforms": [
        "unit_power",
        "take_200",
        "resample_20Msps_to_25Msps"
       ]
      }
     ],
     "device": "cuda",
     "experiment_name": "tl_3A:cores+wisig -> oracle.run1.framed",
     "lr": 0.001,
     "n_epoch": 50,
     "n_query": 2,
     "n_shot": 3,
     "n_way": 16,
     "patience": 3,
     "seed": 1337,
     "test_k_factor": 2,
     "torch_default_dtype": "torch.float32",
     "train_k_factor": 3,
     "val_k_factor": 2,
     "x_net": [
      {
       "class": "nnReshape",
       "kargs": {
        "shape": [
         -1,
         1,
         2,
         200
        ]
       }
      },
      {
       "class": "Conv2d",
       "kargs": {
        "bias": false,
        "in_channels": 1,
        "kernel_size": [
         1,
         7
        ],
        "out_channels": 256,
        "padding": [
         0,
         3
        ]
       }
      },
      {
       "class": "ReLU",
       "kargs": {
        "inplace": true
       }
      },
      {
       "class": "BatchNorm2d",
       "kargs": {
        "num_features": 256
       }
      },
      {
       "class": "Conv2d",
       "kargs": {
        "bias": true,
        "in_channels": 256,
        "kernel_size": [
         2,
         7
        ],
        "out_channels": 80,
        "padding": [
         0,
         3
        ]
       }
      },
      {
       "class": "ReLU",
       "kargs": {
        "inplace": true
       }
      },
      {
       "class": "BatchNorm2d",
       "kargs": {
        "num_features": 80
       }
      },
      {
       "class": "Flatten",
       "kargs": {}
      },
      {
       "class": "Linear",
       "kargs": {
        "in_features": 16000,
        "out_features": 256
       }
      },
      {
       "class": "ReLU",
       "kargs": {
        "inplace": true
       }
      },
      {
       "class": "BatchNorm1d",
       "kargs": {
        "num_features": 256
       }
      },
      {
       "class": "Linear",
       "kargs": {
        "in_features": 256,
        "out_features": 256
       }
      }
     ],
     "x_shape": [
      2,
      200
     ]
    }
   },
   "start_time": "2022-03-18T21:22:12.982991",
   "version": "2.3.4"
  }
 },
 "nbformat": 4,
 "nbformat_minor": 5
}