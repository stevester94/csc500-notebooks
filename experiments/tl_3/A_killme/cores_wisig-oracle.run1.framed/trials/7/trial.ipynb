{
 "cells": [
  {
   "cell_type": "markdown",
   "id": "9fea5f46",
   "metadata": {
    "papermill": {
     "duration": 0.016899,
     "end_time": "2022-03-18T22:20:42.031814",
     "exception": false,
     "start_time": "2022-03-18T22:20:42.014915",
     "status": "completed"
    },
    "tags": []
   },
   "source": [
    "# Transfer Learning Template"
   ]
  },
  {
   "cell_type": "code",
   "execution_count": 1,
   "id": "0902182a",
   "metadata": {
    "execution": {
     "iopub.execute_input": "2022-03-18T22:20:42.058876Z",
     "iopub.status.busy": "2022-03-18T22:20:42.058612Z",
     "iopub.status.idle": "2022-03-18T22:20:42.970587Z",
     "shell.execute_reply": "2022-03-18T22:20:42.970064Z"
    },
    "papermill": {
     "duration": 0.926426,
     "end_time": "2022-03-18T22:20:42.970697",
     "exception": false,
     "start_time": "2022-03-18T22:20:42.044271",
     "status": "completed"
    },
    "tags": []
   },
   "outputs": [],
   "source": [
    "%load_ext autoreload\n",
    "%autoreload 2\n",
    "%matplotlib inline\n",
    "\n",
    "    \n",
    "import os, json, sys, time, random\n",
    "import numpy as np\n",
    "import torch\n",
    "from torch.optim import Adam\n",
    "from  easydict import EasyDict\n",
    "import matplotlib.pyplot as plt\n",
    "\n",
    "from steves_models.steves_ptn import Steves_Prototypical_Network\n",
    "\n",
    "from steves_utils.lazy_iterable_wrapper import Lazy_Iterable_Wrapper\n",
    "from steves_utils.iterable_aggregator import Iterable_Aggregator\n",
    "from steves_utils.ptn_train_eval_test_jig import  PTN_Train_Eval_Test_Jig\n",
    "from steves_utils.torch_sequential_builder import build_sequential\n",
    "from steves_utils.torch_utils import get_dataset_metrics, ptn_confusion_by_domain_over_dataloader\n",
    "from steves_utils.utils_v2 import (per_domain_accuracy_from_confusion, get_datasets_base_path)\n",
    "from steves_utils.PTN.utils import independent_accuracy_assesment\n",
    "\n",
    "from torch.utils.data import DataLoader\n",
    "\n",
    "from steves_utils.stratified_dataset.episodic_accessor import Episodic_Accessor_Factory\n",
    "\n",
    "from steves_utils.ptn_do_report import (\n",
    "    get_loss_curve,\n",
    "    get_results_table,\n",
    "    get_parameters_table,\n",
    "    get_domain_accuracies,\n",
    ")\n",
    "\n",
    "from steves_utils.transforms import get_chained_transform"
   ]
  },
  {
   "cell_type": "markdown",
   "id": "41c840b4",
   "metadata": {
    "papermill": {
     "duration": 0.012506,
     "end_time": "2022-03-18T22:20:43.002308",
     "exception": false,
     "start_time": "2022-03-18T22:20:42.989802",
     "status": "completed"
    },
    "tags": []
   },
   "source": [
    "# Allowed Parameters\n",
    "These are allowed parameters, not defaults\n",
    "Each of these values need to be present in the injected parameters (the notebook will raise an exception if they are not present)\n",
    "\n",
    "Papermill uses the cell tag \"parameters\" to inject the real parameters below this cell.\n",
    "Enable tags to see what I mean"
   ]
  },
  {
   "cell_type": "code",
   "execution_count": 2,
   "id": "fd44eb83",
   "metadata": {
    "execution": {
     "iopub.execute_input": "2022-03-18T22:20:43.030016Z",
     "iopub.status.busy": "2022-03-18T22:20:43.028634Z",
     "iopub.status.idle": "2022-03-18T22:20:43.045410Z",
     "shell.execute_reply": "2022-03-18T22:20:43.044991Z"
    },
    "papermill": {
     "duration": 0.030723,
     "end_time": "2022-03-18T22:20:43.045514",
     "exception": false,
     "start_time": "2022-03-18T22:20:43.014791",
     "status": "completed"
    },
    "tags": []
   },
   "outputs": [],
   "source": [
    "required_parameters = {\n",
    "    \"experiment_name\",\n",
    "    \"lr\",\n",
    "    \"device\",\n",
    "    \"seed\",\n",
    "    \"dataset_seed\",\n",
    "    \"n_shot\",\n",
    "    \"n_query\",\n",
    "    \"n_way\",\n",
    "    \"train_k_factor\",\n",
    "    \"val_k_factor\",\n",
    "    \"test_k_factor\",\n",
    "    \"n_epoch\",\n",
    "    \"patience\",\n",
    "    \"criteria_for_best\",\n",
    "    \"x_net\",\n",
    "    \"datasets\",\n",
    "    \"torch_default_dtype\",\n",
    "    \"NUM_LOGS_PER_EPOCH\",\n",
    "    \"BEST_MODEL_PATH\",\n",
    "    \"x_shape\",\n",
    "}"
   ]
  },
  {
   "cell_type": "code",
   "execution_count": 3,
   "id": "fa3f0049",
   "metadata": {
    "execution": {
     "iopub.execute_input": "2022-03-18T22:20:43.086212Z",
     "iopub.status.busy": "2022-03-18T22:20:43.085516Z",
     "iopub.status.idle": "2022-03-18T22:20:43.102108Z",
     "shell.execute_reply": "2022-03-18T22:20:43.101753Z"
    },
    "papermill": {
     "duration": 0.038882,
     "end_time": "2022-03-18T22:20:43.102178",
     "exception": false,
     "start_time": "2022-03-18T22:20:43.063296",
     "status": "completed"
    },
    "tags": [
     "parameters"
    ]
   },
   "outputs": [],
   "source": [
    "from steves_utils.CORES.utils import (\n",
    "    ALL_NODES,\n",
    "    ALL_NODES_MINIMUM_1000_EXAMPLES,\n",
    "    ALL_DAYS\n",
    ")\n",
    "\n",
    "from steves_utils.ORACLE.utils_v2 import (\n",
    "    ALL_DISTANCES_FEET_NARROWED,\n",
    "    ALL_RUNS,\n",
    "    ALL_SERIAL_NUMBERS,\n",
    ")\n",
    "\n",
    "standalone_parameters = {}\n",
    "standalone_parameters[\"experiment_name\"] = \"STANDALONE PTN\"\n",
    "standalone_parameters[\"lr\"] = 0.001\n",
    "standalone_parameters[\"device\"] = \"cuda\"\n",
    "\n",
    "standalone_parameters[\"seed\"] = 1337\n",
    "standalone_parameters[\"dataset_seed\"] = 1337\n",
    "\n",
    "standalone_parameters[\"n_way\"] = 8\n",
    "standalone_parameters[\"n_shot\"] = 3\n",
    "standalone_parameters[\"n_query\"]  = 2\n",
    "standalone_parameters[\"train_k_factor\"] = 1\n",
    "standalone_parameters[\"val_k_factor\"] = 2\n",
    "standalone_parameters[\"test_k_factor\"] = 2\n",
    "\n",
    "\n",
    "standalone_parameters[\"n_epoch\"] = 50\n",
    "\n",
    "standalone_parameters[\"patience\"] = 10\n",
    "standalone_parameters[\"criteria_for_best\"] = \"source_loss\"\n",
    "\n",
    "standalone_parameters[\"datasets\"] = [\n",
    "    {\n",
    "        \"labels\": ALL_SERIAL_NUMBERS,\n",
    "        \"domains\": ALL_DISTANCES_FEET_NARROWED,\n",
    "        \"num_examples_per_domain_per_label\": 100,\n",
    "        \"pickle_path\": os.path.join(get_datasets_base_path(), \"oracle.Run1_framed_2000Examples_stratified_ds.2022A.pkl\"),\n",
    "        \"source_or_target_dataset\": \"source\",\n",
    "        \"x_transforms\": [\"unit_mag\", \"minus_two\"],\n",
    "        \"episode_transforms\": [],\n",
    "        \"domain_prefix\": \"ORACLE_\"\n",
    "    },\n",
    "    {\n",
    "        \"labels\": ALL_NODES,\n",
    "        \"domains\": ALL_DAYS,\n",
    "        \"num_examples_per_domain_per_label\": 100,\n",
    "        \"pickle_path\": os.path.join(get_datasets_base_path(), \"cores.stratified_ds.2022A.pkl\"),\n",
    "        \"source_or_target_dataset\": \"target\",\n",
    "        \"x_transforms\": [\"unit_power\", \"times_zero\"],\n",
    "        \"episode_transforms\": [],\n",
    "        \"domain_prefix\": \"CORES_\"\n",
    "    }   \n",
    "]\n",
    "\n",
    "standalone_parameters[\"torch_default_dtype\"] = \"torch.float32\" \n",
    "\n",
    "\n",
    "\n",
    "standalone_parameters[\"x_net\"] =     [\n",
    "    {\"class\": \"nnReshape\", \"kargs\": {\"shape\":[-1, 1, 2, 256]}},\n",
    "    {\"class\": \"Conv2d\", \"kargs\": { \"in_channels\":1, \"out_channels\":256, \"kernel_size\":(1,7), \"bias\":False, \"padding\":(0,3), },},\n",
    "    {\"class\": \"ReLU\", \"kargs\": {\"inplace\": True}},\n",
    "    {\"class\": \"BatchNorm2d\", \"kargs\": {\"num_features\":256}},\n",
    "\n",
    "    {\"class\": \"Conv2d\", \"kargs\": { \"in_channels\":256, \"out_channels\":80, \"kernel_size\":(2,7), \"bias\":True, \"padding\":(0,3), },},\n",
    "    {\"class\": \"ReLU\", \"kargs\": {\"inplace\": True}},\n",
    "    {\"class\": \"BatchNorm2d\", \"kargs\": {\"num_features\":80}},\n",
    "    {\"class\": \"Flatten\", \"kargs\": {}},\n",
    "\n",
    "    {\"class\": \"Linear\", \"kargs\": {\"in_features\": 80*256, \"out_features\": 256}}, # 80 units per IQ pair\n",
    "    {\"class\": \"ReLU\", \"kargs\": {\"inplace\": True}},\n",
    "    {\"class\": \"BatchNorm1d\", \"kargs\": {\"num_features\":256}},\n",
    "\n",
    "    {\"class\": \"Linear\", \"kargs\": {\"in_features\": 256, \"out_features\": 256}},\n",
    "]\n",
    "\n",
    "# Parameters relevant to results\n",
    "# These parameters will basically never need to change\n",
    "standalone_parameters[\"NUM_LOGS_PER_EPOCH\"] = 10\n",
    "standalone_parameters[\"BEST_MODEL_PATH\"] = \"./best_model.pth\"\n",
    "\n",
    "\n",
    "\n",
    "\n"
   ]
  },
  {
   "cell_type": "code",
   "execution_count": 4,
   "id": "e528b98f",
   "metadata": {
    "execution": {
     "iopub.execute_input": "2022-03-18T22:20:43.145596Z",
     "iopub.status.busy": "2022-03-18T22:20:43.133393Z",
     "iopub.status.idle": "2022-03-18T22:20:43.158278Z",
     "shell.execute_reply": "2022-03-18T22:20:43.157907Z"
    },
    "papermill": {
     "duration": 0.039331,
     "end_time": "2022-03-18T22:20:43.158371",
     "exception": false,
     "start_time": "2022-03-18T22:20:43.119040",
     "status": "completed"
    },
    "tags": [
     "injected-parameters"
    ]
   },
   "outputs": [],
   "source": [
    "# Parameters\n",
    "parameters = {\n",
    "    \"experiment_name\": \"tl_3A:cores+wisig -> oracle.run1.framed\",\n",
    "    \"device\": \"cuda\",\n",
    "    \"lr\": 0.001,\n",
    "    \"x_shape\": [2, 200],\n",
    "    \"n_shot\": 3,\n",
    "    \"n_query\": 2,\n",
    "    \"train_k_factor\": 3,\n",
    "    \"val_k_factor\": 2,\n",
    "    \"test_k_factor\": 2,\n",
    "    \"torch_default_dtype\": \"torch.float32\",\n",
    "    \"n_epoch\": 50,\n",
    "    \"patience\": 3,\n",
    "    \"criteria_for_best\": \"target_loss\",\n",
    "    \"x_net\": [\n",
    "        {\"class\": \"nnReshape\", \"kargs\": {\"shape\": [-1, 1, 2, 200]}},\n",
    "        {\n",
    "            \"class\": \"Conv2d\",\n",
    "            \"kargs\": {\n",
    "                \"in_channels\": 1,\n",
    "                \"out_channels\": 256,\n",
    "                \"kernel_size\": [1, 7],\n",
    "                \"bias\": False,\n",
    "                \"padding\": [0, 3],\n",
    "            },\n",
    "        },\n",
    "        {\"class\": \"ReLU\", \"kargs\": {\"inplace\": True}},\n",
    "        {\"class\": \"BatchNorm2d\", \"kargs\": {\"num_features\": 256}},\n",
    "        {\n",
    "            \"class\": \"Conv2d\",\n",
    "            \"kargs\": {\n",
    "                \"in_channels\": 256,\n",
    "                \"out_channels\": 80,\n",
    "                \"kernel_size\": [2, 7],\n",
    "                \"bias\": True,\n",
    "                \"padding\": [0, 3],\n",
    "            },\n",
    "        },\n",
    "        {\"class\": \"ReLU\", \"kargs\": {\"inplace\": True}},\n",
    "        {\"class\": \"BatchNorm2d\", \"kargs\": {\"num_features\": 80}},\n",
    "        {\"class\": \"Flatten\", \"kargs\": {}},\n",
    "        {\"class\": \"Linear\", \"kargs\": {\"in_features\": 16000, \"out_features\": 256}},\n",
    "        {\"class\": \"ReLU\", \"kargs\": {\"inplace\": True}},\n",
    "        {\"class\": \"BatchNorm1d\", \"kargs\": {\"num_features\": 256}},\n",
    "        {\"class\": \"Linear\", \"kargs\": {\"in_features\": 256, \"out_features\": 256}},\n",
    "    ],\n",
    "    \"NUM_LOGS_PER_EPOCH\": 10,\n",
    "    \"BEST_MODEL_PATH\": \"./best_model.pth\",\n",
    "    \"n_way\": 16,\n",
    "    \"datasets\": [\n",
    "        {\n",
    "            \"labels\": [\n",
    "                \"1-10.\",\n",
    "                \"1-11.\",\n",
    "                \"1-15.\",\n",
    "                \"1-16.\",\n",
    "                \"1-17.\",\n",
    "                \"1-18.\",\n",
    "                \"1-19.\",\n",
    "                \"10-4.\",\n",
    "                \"10-7.\",\n",
    "                \"11-1.\",\n",
    "                \"11-14.\",\n",
    "                \"11-17.\",\n",
    "                \"11-20.\",\n",
    "                \"11-7.\",\n",
    "                \"13-20.\",\n",
    "                \"13-8.\",\n",
    "                \"14-10.\",\n",
    "                \"14-11.\",\n",
    "                \"14-14.\",\n",
    "                \"14-7.\",\n",
    "                \"15-1.\",\n",
    "                \"15-20.\",\n",
    "                \"16-1.\",\n",
    "                \"16-16.\",\n",
    "                \"17-10.\",\n",
    "                \"17-11.\",\n",
    "                \"17-2.\",\n",
    "                \"19-1.\",\n",
    "                \"19-16.\",\n",
    "                \"19-19.\",\n",
    "                \"19-20.\",\n",
    "                \"19-3.\",\n",
    "                \"2-10.\",\n",
    "                \"2-11.\",\n",
    "                \"2-17.\",\n",
    "                \"2-18.\",\n",
    "                \"2-20.\",\n",
    "                \"2-3.\",\n",
    "                \"2-4.\",\n",
    "                \"2-5.\",\n",
    "                \"2-6.\",\n",
    "                \"2-7.\",\n",
    "                \"2-8.\",\n",
    "                \"3-13.\",\n",
    "                \"3-18.\",\n",
    "                \"3-3.\",\n",
    "                \"4-1.\",\n",
    "                \"4-10.\",\n",
    "                \"4-11.\",\n",
    "                \"4-19.\",\n",
    "                \"5-5.\",\n",
    "                \"6-15.\",\n",
    "                \"7-10.\",\n",
    "                \"7-14.\",\n",
    "                \"8-18.\",\n",
    "                \"8-20.\",\n",
    "                \"8-3.\",\n",
    "                \"8-8.\",\n",
    "            ],\n",
    "            \"domains\": [1, 2, 3, 4, 5],\n",
    "            \"num_examples_per_domain_per_label\": 100,\n",
    "            \"pickle_path\": \"/mnt/wd500GB/CSC500/csc500-main/datasets/cores.stratified_ds.2022A.pkl\",\n",
    "            \"source_or_target_dataset\": \"source\",\n",
    "            \"x_transforms\": [\"unit_mag\", \"take_200\"],\n",
    "            \"episode_transforms\": [],\n",
    "            \"domain_prefix\": \"C_A_\",\n",
    "        },\n",
    "        {\n",
    "            \"labels\": [\n",
    "                \"1-10\",\n",
    "                \"1-12\",\n",
    "                \"1-14\",\n",
    "                \"1-16\",\n",
    "                \"1-18\",\n",
    "                \"1-19\",\n",
    "                \"1-8\",\n",
    "                \"10-11\",\n",
    "                \"10-17\",\n",
    "                \"10-4\",\n",
    "                \"10-7\",\n",
    "                \"11-1\",\n",
    "                \"11-10\",\n",
    "                \"11-19\",\n",
    "                \"11-20\",\n",
    "                \"11-4\",\n",
    "                \"11-7\",\n",
    "                \"12-19\",\n",
    "                \"12-20\",\n",
    "                \"12-7\",\n",
    "                \"13-14\",\n",
    "                \"13-18\",\n",
    "                \"13-19\",\n",
    "                \"13-20\",\n",
    "                \"13-3\",\n",
    "                \"13-7\",\n",
    "                \"14-10\",\n",
    "                \"14-11\",\n",
    "                \"14-12\",\n",
    "                \"14-13\",\n",
    "                \"14-14\",\n",
    "                \"14-19\",\n",
    "                \"14-20\",\n",
    "                \"14-7\",\n",
    "                \"14-8\",\n",
    "                \"14-9\",\n",
    "                \"15-1\",\n",
    "                \"15-19\",\n",
    "                \"15-6\",\n",
    "                \"16-1\",\n",
    "                \"16-16\",\n",
    "                \"16-19\",\n",
    "                \"16-20\",\n",
    "                \"17-10\",\n",
    "                \"17-11\",\n",
    "                \"18-1\",\n",
    "                \"18-10\",\n",
    "                \"18-11\",\n",
    "                \"18-12\",\n",
    "                \"18-13\",\n",
    "                \"18-14\",\n",
    "                \"18-15\",\n",
    "                \"18-16\",\n",
    "                \"18-17\",\n",
    "                \"18-19\",\n",
    "                \"18-2\",\n",
    "                \"18-20\",\n",
    "                \"18-4\",\n",
    "                \"18-5\",\n",
    "                \"18-7\",\n",
    "                \"18-8\",\n",
    "                \"18-9\",\n",
    "                \"19-1\",\n",
    "                \"19-10\",\n",
    "                \"19-11\",\n",
    "                \"19-12\",\n",
    "                \"19-13\",\n",
    "                \"19-14\",\n",
    "                \"19-15\",\n",
    "                \"19-19\",\n",
    "                \"19-2\",\n",
    "                \"19-20\",\n",
    "                \"19-3\",\n",
    "                \"19-4\",\n",
    "                \"19-6\",\n",
    "                \"19-7\",\n",
    "                \"19-8\",\n",
    "                \"19-9\",\n",
    "                \"2-1\",\n",
    "                \"2-13\",\n",
    "                \"2-15\",\n",
    "                \"2-3\",\n",
    "                \"2-4\",\n",
    "                \"2-5\",\n",
    "                \"2-6\",\n",
    "                \"2-7\",\n",
    "                \"2-8\",\n",
    "                \"20-1\",\n",
    "                \"20-12\",\n",
    "                \"20-14\",\n",
    "                \"20-15\",\n",
    "                \"20-16\",\n",
    "                \"20-18\",\n",
    "                \"20-19\",\n",
    "                \"20-20\",\n",
    "                \"20-3\",\n",
    "                \"20-4\",\n",
    "                \"20-5\",\n",
    "                \"20-7\",\n",
    "                \"20-8\",\n",
    "                \"3-1\",\n",
    "                \"3-13\",\n",
    "                \"3-18\",\n",
    "                \"3-2\",\n",
    "                \"3-8\",\n",
    "                \"4-1\",\n",
    "                \"4-10\",\n",
    "                \"4-11\",\n",
    "                \"5-1\",\n",
    "                \"5-5\",\n",
    "                \"6-1\",\n",
    "                \"6-15\",\n",
    "                \"6-6\",\n",
    "                \"7-10\",\n",
    "                \"7-11\",\n",
    "                \"7-12\",\n",
    "                \"7-13\",\n",
    "                \"7-14\",\n",
    "                \"7-7\",\n",
    "                \"7-8\",\n",
    "                \"7-9\",\n",
    "                \"8-1\",\n",
    "                \"8-13\",\n",
    "                \"8-14\",\n",
    "                \"8-18\",\n",
    "                \"8-20\",\n",
    "                \"8-3\",\n",
    "                \"8-8\",\n",
    "                \"9-1\",\n",
    "                \"9-7\",\n",
    "            ],\n",
    "            \"domains\": [1, 2, 3, 4],\n",
    "            \"num_examples_per_domain_per_label\": 100,\n",
    "            \"pickle_path\": \"/mnt/wd500GB/CSC500/csc500-main/datasets/wisig.node3-19.stratified_ds.2022A.pkl\",\n",
    "            \"source_or_target_dataset\": \"source\",\n",
    "            \"x_transforms\": [\"unit_mag\", \"take_200\"],\n",
    "            \"episode_transforms\": [],\n",
    "            \"domain_prefix\": \"W_A_\",\n",
    "        },\n",
    "        {\n",
    "            \"labels\": [\n",
    "                \"3123D52\",\n",
    "                \"3123D65\",\n",
    "                \"3123D79\",\n",
    "                \"3123D80\",\n",
    "                \"3123D54\",\n",
    "                \"3123D70\",\n",
    "                \"3123D7B\",\n",
    "                \"3123D89\",\n",
    "                \"3123D58\",\n",
    "                \"3123D76\",\n",
    "                \"3123D7D\",\n",
    "                \"3123EFE\",\n",
    "                \"3123D64\",\n",
    "                \"3123D78\",\n",
    "                \"3123D7E\",\n",
    "                \"3124E4A\",\n",
    "            ],\n",
    "            \"domains\": [32, 38, 8, 44, 14, 50, 20, 26],\n",
    "            \"num_examples_per_domain_per_label\": 2000,\n",
    "            \"pickle_path\": \"/mnt/wd500GB/CSC500/csc500-main/datasets/oracle.Run1_framed_2000Examples_stratified_ds.2022A.pkl\",\n",
    "            \"source_or_target_dataset\": \"target\",\n",
    "            \"x_transforms\": [\"unit_mag\", \"take_200\", \"resample_20Msps_to_25Msps\"],\n",
    "            \"episode_transforms\": [],\n",
    "            \"domain_prefix\": \"ORACLE.run1_\",\n",
    "        },\n",
    "    ],\n",
    "    \"seed\": 154325,\n",
    "    \"dataset_seed\": 154325,\n",
    "}\n"
   ]
  },
  {
   "cell_type": "code",
   "execution_count": 5,
   "id": "8fa1cc33",
   "metadata": {
    "execution": {
     "iopub.execute_input": "2022-03-18T22:20:43.192330Z",
     "iopub.status.busy": "2022-03-18T22:20:43.191840Z",
     "iopub.status.idle": "2022-03-18T22:20:43.206512Z",
     "shell.execute_reply": "2022-03-18T22:20:43.206057Z"
    },
    "papermill": {
     "duration": 0.031268,
     "end_time": "2022-03-18T22:20:43.206601",
     "exception": false,
     "start_time": "2022-03-18T22:20:43.175333",
     "status": "completed"
    },
    "tags": []
   },
   "outputs": [],
   "source": [
    "# Set this to True if you want to run this template directly\n",
    "STANDALONE = False\n",
    "if STANDALONE:\n",
    "    print(\"parameters not injected, running with standalone_parameters\")\n",
    "    parameters = standalone_parameters\n",
    "\n",
    "if not 'parameters' in locals() and not 'parameters' in globals():\n",
    "    raise Exception(\"Parameter injection failed\")\n",
    "\n",
    "#Use an easy dict for all the parameters\n",
    "p = EasyDict(parameters)\n",
    "\n",
    "if \"x_shape\" not in p:\n",
    "    p.x_shape = [2,256] # Default to this if we dont supply x_shape\n",
    "\n",
    "\n",
    "supplied_keys = set(p.keys())\n",
    "\n",
    "if  supplied_keys != required_parameters:\n",
    "    print(\"Parameters are incorrect\")\n",
    "    if len(supplied_keys - required_parameters)>0: print(\"Shouldn't have:\", str(supplied_keys - required_parameters))\n",
    "    if len(required_parameters - supplied_keys)>0: print(\"Need to have:\", str(required_parameters - supplied_keys))\n",
    "    raise RuntimeError(\"Parameters are incorrect\")"
   ]
  },
  {
   "cell_type": "code",
   "execution_count": 6,
   "id": "3a028d58",
   "metadata": {
    "execution": {
     "iopub.execute_input": "2022-03-18T22:20:43.240535Z",
     "iopub.status.busy": "2022-03-18T22:20:43.240237Z",
     "iopub.status.idle": "2022-03-18T22:20:43.254282Z",
     "shell.execute_reply": "2022-03-18T22:20:43.254646Z"
    },
    "papermill": {
     "duration": 0.029376,
     "end_time": "2022-03-18T22:20:43.254750",
     "exception": false,
     "start_time": "2022-03-18T22:20:43.225374",
     "status": "completed"
    },
    "tags": []
   },
   "outputs": [],
   "source": [
    "###################################\n",
    "# Set the RNGs and make it all deterministic\n",
    "###################################\n",
    "np.random.seed(p.seed)\n",
    "random.seed(p.seed)\n",
    "torch.manual_seed(p.seed)\n",
    "\n",
    "torch.use_deterministic_algorithms(True) "
   ]
  },
  {
   "cell_type": "code",
   "execution_count": 7,
   "id": "b691acf6",
   "metadata": {
    "execution": {
     "iopub.execute_input": "2022-03-18T22:20:43.295153Z",
     "iopub.status.busy": "2022-03-18T22:20:43.291736Z",
     "iopub.status.idle": "2022-03-18T22:20:43.301070Z",
     "shell.execute_reply": "2022-03-18T22:20:43.301494Z"
    },
    "papermill": {
     "duration": 0.029894,
     "end_time": "2022-03-18T22:20:43.301612",
     "exception": false,
     "start_time": "2022-03-18T22:20:43.271718",
     "status": "completed"
    },
    "tags": []
   },
   "outputs": [],
   "source": [
    "###########################################\n",
    "# The stratified datasets honor this\n",
    "###########################################\n",
    "torch.set_default_dtype(eval(p.torch_default_dtype))"
   ]
  },
  {
   "cell_type": "code",
   "execution_count": 8,
   "id": "b5fba671",
   "metadata": {
    "execution": {
     "iopub.execute_input": "2022-03-18T22:20:43.342755Z",
     "iopub.status.busy": "2022-03-18T22:20:43.334485Z",
     "iopub.status.idle": "2022-03-18T22:20:43.369247Z",
     "shell.execute_reply": "2022-03-18T22:20:43.368840Z"
    },
    "papermill": {
     "duration": 0.049322,
     "end_time": "2022-03-18T22:20:43.369341",
     "exception": false,
     "start_time": "2022-03-18T22:20:43.320019",
     "status": "completed"
    },
    "tags": []
   },
   "outputs": [],
   "source": [
    "###################################\n",
    "# Build the network(s)\n",
    "# Note: It's critical to do this AFTER setting the RNG\n",
    "###################################\n",
    "x_net = build_sequential(p.x_net)"
   ]
  },
  {
   "cell_type": "code",
   "execution_count": 9,
   "id": "5d7e61cc",
   "metadata": {
    "execution": {
     "iopub.execute_input": "2022-03-18T22:20:43.403093Z",
     "iopub.status.busy": "2022-03-18T22:20:43.402664Z",
     "iopub.status.idle": "2022-03-18T22:20:43.418071Z",
     "shell.execute_reply": "2022-03-18T22:20:43.417685Z"
    },
    "papermill": {
     "duration": 0.030381,
     "end_time": "2022-03-18T22:20:43.418160",
     "exception": false,
     "start_time": "2022-03-18T22:20:43.387779",
     "status": "completed"
    },
    "tags": []
   },
   "outputs": [],
   "source": [
    "start_time_secs = time.time()"
   ]
  },
  {
   "cell_type": "code",
   "execution_count": 10,
   "id": "c6b67dfd",
   "metadata": {
    "execution": {
     "iopub.execute_input": "2022-03-18T22:20:43.450025Z",
     "iopub.status.busy": "2022-03-18T22:20:43.449782Z",
     "iopub.status.idle": "2022-03-18T22:20:43.459638Z",
     "shell.execute_reply": "2022-03-18T22:20:43.459386Z"
    },
    "papermill": {
     "duration": 0.024267,
     "end_time": "2022-03-18T22:20:43.459686",
     "exception": false,
     "start_time": "2022-03-18T22:20:43.435419",
     "status": "completed"
    },
    "tags": []
   },
   "outputs": [],
   "source": [
    "p.domains_source = []\n",
    "p.domains_target = []\n",
    "\n",
    "\n",
    "train_original_source = []\n",
    "val_original_source   = []\n",
    "test_original_source  = []\n",
    "\n",
    "train_original_target = []\n",
    "val_original_target   = []\n",
    "test_original_target  = []"
   ]
  },
  {
   "cell_type": "code",
   "execution_count": 11,
   "id": "e3d9c3d3",
   "metadata": {
    "execution": {
     "iopub.execute_input": "2022-03-18T22:20:43.489716Z",
     "iopub.status.busy": "2022-03-18T22:20:43.489477Z",
     "iopub.status.idle": "2022-03-18T22:20:43.499375Z",
     "shell.execute_reply": "2022-03-18T22:20:43.499120Z"
    },
    "papermill": {
     "duration": 0.024239,
     "end_time": "2022-03-18T22:20:43.499424",
     "exception": false,
     "start_time": "2022-03-18T22:20:43.475185",
     "status": "completed"
    },
    "tags": []
   },
   "outputs": [],
   "source": [
    "# global_x_transform_func = lambda x: normalize(x.to(torch.get_default_dtype()), \"unit_power\") # unit_power, unit_mag\n",
    "# global_x_transform_func = lambda x: normalize(x, \"unit_power\") # unit_power, unit_mag"
   ]
  },
  {
   "cell_type": "code",
   "execution_count": 12,
   "id": "acb78fd2",
   "metadata": {
    "execution": {
     "iopub.execute_input": "2022-03-18T22:20:43.535834Z",
     "iopub.status.busy": "2022-03-18T22:20:43.535576Z",
     "iopub.status.idle": "2022-03-18T22:20:43.547754Z",
     "shell.execute_reply": "2022-03-18T22:20:43.547367Z"
    },
    "papermill": {
     "duration": 0.032782,
     "end_time": "2022-03-18T22:20:43.547842",
     "exception": false,
     "start_time": "2022-03-18T22:20:43.515060",
     "status": "completed"
    },
    "tags": []
   },
   "outputs": [],
   "source": [
    "def add_dataset(\n",
    "    labels,\n",
    "    domains,\n",
    "    pickle_path,\n",
    "    x_transforms,\n",
    "    episode_transforms,\n",
    "    domain_prefix,\n",
    "    num_examples_per_domain_per_label,\n",
    "    source_or_target_dataset:str,\n",
    "    iterator_seed=p.seed,\n",
    "    dataset_seed=p.dataset_seed,\n",
    "    n_shot=p.n_shot,\n",
    "    n_way=p.n_way,\n",
    "    n_query=p.n_query,\n",
    "    train_val_test_k_factors=(p.train_k_factor,p.val_k_factor,p.test_k_factor),\n",
    "):\n",
    "   \n",
    "    if x_transforms == []: x_transform = None\n",
    "    else: x_transform = get_chained_transform(x_transforms)\n",
    "    \n",
    "    if episode_transforms == []: episode_transform = None\n",
    "    else: raise Exception(\"episode_transforms not implemented\")\n",
    "    \n",
    "    episode_transform = lambda tup, _prefix=domain_prefix: (_prefix + str(tup[0]), tup[1])\n",
    "\n",
    "\n",
    "    eaf = Episodic_Accessor_Factory(\n",
    "        labels=labels,\n",
    "        domains=domains,\n",
    "        num_examples_per_domain_per_label=num_examples_per_domain_per_label,\n",
    "        iterator_seed=iterator_seed,\n",
    "        dataset_seed=dataset_seed,\n",
    "        n_shot=n_shot,\n",
    "        n_way=n_way,\n",
    "        n_query=n_query,\n",
    "        train_val_test_k_factors=train_val_test_k_factors,\n",
    "        pickle_path=pickle_path,\n",
    "        x_transform_func=x_transform,\n",
    "    )\n",
    "\n",
    "    train, val, test = eaf.get_train(), eaf.get_val(), eaf.get_test()\n",
    "    train = Lazy_Iterable_Wrapper(train, episode_transform)\n",
    "    val = Lazy_Iterable_Wrapper(val, episode_transform)\n",
    "    test = Lazy_Iterable_Wrapper(test, episode_transform)\n",
    "\n",
    "    if source_or_target_dataset==\"source\":\n",
    "        train_original_source.append(train)\n",
    "        val_original_source.append(val)\n",
    "        test_original_source.append(test)\n",
    "\n",
    "        p.domains_source.extend(\n",
    "            [domain_prefix + str(u) for u in domains]\n",
    "        )\n",
    "    elif source_or_target_dataset==\"target\":\n",
    "        train_original_target.append(train)\n",
    "        val_original_target.append(val)\n",
    "        test_original_target.append(test)\n",
    "        p.domains_target.extend(\n",
    "            [domain_prefix + str(u) for u in domains]\n",
    "        )\n",
    "    else:\n",
    "        raise Exception(f\"invalid source_or_target_dataset: {source_or_target_dataset}\")\n",
    "    "
   ]
  },
  {
   "cell_type": "code",
   "execution_count": 13,
   "id": "fe266617",
   "metadata": {
    "execution": {
     "iopub.execute_input": "2022-03-18T22:20:43.581620Z",
     "iopub.status.busy": "2022-03-18T22:20:43.581221Z",
     "iopub.status.idle": "2022-03-18T22:21:20.875567Z",
     "shell.execute_reply": "2022-03-18T22:21:20.875150Z"
    },
    "papermill": {
     "duration": 37.309306,
     "end_time": "2022-03-18T22:21:20.875671",
     "exception": false,
     "start_time": "2022-03-18T22:20:43.566365",
     "status": "completed"
    },
    "tags": []
   },
   "outputs": [],
   "source": [
    "for ds in p.datasets:\n",
    "    add_dataset(**ds)"
   ]
  },
  {
   "cell_type": "code",
   "execution_count": 14,
   "id": "b90d65ac",
   "metadata": {
    "execution": {
     "iopub.execute_input": "2022-03-18T22:21:20.912522Z",
     "iopub.status.busy": "2022-03-18T22:21:20.910583Z",
     "iopub.status.idle": "2022-03-18T22:21:20.922350Z",
     "shell.execute_reply": "2022-03-18T22:21:20.921926Z"
    },
    "papermill": {
     "duration": 0.029377,
     "end_time": "2022-03-18T22:21:20.922456",
     "exception": false,
     "start_time": "2022-03-18T22:21:20.893079",
     "status": "completed"
    },
    "tags": []
   },
   "outputs": [],
   "source": [
    "# from steves_utils.CORES.utils import (\n",
    "#     ALL_NODES,\n",
    "#     ALL_NODES_MINIMUM_1000_EXAMPLES,\n",
    "#     ALL_DAYS\n",
    "# )\n",
    "\n",
    "# add_dataset(\n",
    "#     labels=ALL_NODES,\n",
    "#     domains = ALL_DAYS,\n",
    "#     num_examples_per_domain_per_label=100,\n",
    "#     pickle_path=os.path.join(get_datasets_base_path(), \"cores.stratified_ds.2022A.pkl\"),\n",
    "#     source_or_target_dataset=\"target\",\n",
    "#     x_transform_func=global_x_transform_func,\n",
    "#     domain_modifier=lambda u: f\"cores_{u}\"\n",
    "# )"
   ]
  },
  {
   "cell_type": "code",
   "execution_count": 15,
   "id": "76db484d",
   "metadata": {
    "execution": {
     "iopub.execute_input": "2022-03-18T22:21:20.955656Z",
     "iopub.status.busy": "2022-03-18T22:21:20.955409Z",
     "iopub.status.idle": "2022-03-18T22:21:20.970029Z",
     "shell.execute_reply": "2022-03-18T22:21:20.969641Z"
    },
    "papermill": {
     "duration": 0.029938,
     "end_time": "2022-03-18T22:21:20.970117",
     "exception": false,
     "start_time": "2022-03-18T22:21:20.940179",
     "status": "completed"
    },
    "tags": []
   },
   "outputs": [],
   "source": [
    "# from steves_utils.ORACLE.utils_v2 import (\n",
    "#     ALL_DISTANCES_FEET,\n",
    "#     ALL_RUNS,\n",
    "#     ALL_SERIAL_NUMBERS,\n",
    "# )\n",
    "\n",
    "\n",
    "# add_dataset(\n",
    "#     labels=ALL_SERIAL_NUMBERS,\n",
    "#     domains = list(set(ALL_DISTANCES_FEET) - {2,62}),\n",
    "#     num_examples_per_domain_per_label=100,\n",
    "#     pickle_path=os.path.join(get_datasets_base_path(), \"oracle.Run2_framed_2000Examples_stratified_ds.2022A.pkl\"),\n",
    "#     source_or_target_dataset=\"source\",\n",
    "#     x_transform_func=global_x_transform_func,\n",
    "#     domain_modifier=lambda u: f\"oracle1_{u}\"\n",
    "# )\n"
   ]
  },
  {
   "cell_type": "code",
   "execution_count": 16,
   "id": "97dea9d2",
   "metadata": {
    "execution": {
     "iopub.execute_input": "2022-03-18T22:21:21.011774Z",
     "iopub.status.busy": "2022-03-18T22:21:21.008195Z",
     "iopub.status.idle": "2022-03-18T22:21:21.018228Z",
     "shell.execute_reply": "2022-03-18T22:21:21.017838Z"
    },
    "papermill": {
     "duration": 0.030426,
     "end_time": "2022-03-18T22:21:21.018324",
     "exception": false,
     "start_time": "2022-03-18T22:21:20.987898",
     "status": "completed"
    },
    "tags": []
   },
   "outputs": [],
   "source": [
    "# from steves_utils.ORACLE.utils_v2 import (\n",
    "#     ALL_DISTANCES_FEET,\n",
    "#     ALL_RUNS,\n",
    "#     ALL_SERIAL_NUMBERS,\n",
    "# )\n",
    "\n",
    "\n",
    "# add_dataset(\n",
    "#     labels=ALL_SERIAL_NUMBERS,\n",
    "#     domains = list(set(ALL_DISTANCES_FEET) - {2,62,56}),\n",
    "#     num_examples_per_domain_per_label=100,\n",
    "#     pickle_path=os.path.join(get_datasets_base_path(), \"oracle.Run2_framed_2000Examples_stratified_ds.2022A.pkl\"),\n",
    "#     source_or_target_dataset=\"source\",\n",
    "#     x_transform_func=global_x_transform_func,\n",
    "#     domain_modifier=lambda u: f\"oracle2_{u}\"\n",
    "# )"
   ]
  },
  {
   "cell_type": "code",
   "execution_count": 17,
   "id": "6f289866",
   "metadata": {
    "execution": {
     "iopub.execute_input": "2022-03-18T22:21:21.061006Z",
     "iopub.status.busy": "2022-03-18T22:21:21.051970Z",
     "iopub.status.idle": "2022-03-18T22:21:21.066145Z",
     "shell.execute_reply": "2022-03-18T22:21:21.066547Z"
    },
    "papermill": {
     "duration": 0.030325,
     "end_time": "2022-03-18T22:21:21.066666",
     "exception": false,
     "start_time": "2022-03-18T22:21:21.036341",
     "status": "completed"
    },
    "tags": []
   },
   "outputs": [],
   "source": [
    "# add_dataset(\n",
    "#     labels=list(range(19)),\n",
    "#     domains = [0,1,2],\n",
    "#     num_examples_per_domain_per_label=100,\n",
    "#     pickle_path=os.path.join(get_datasets_base_path(), \"metehan.stratified_ds.2022A.pkl\"),\n",
    "#     source_or_target_dataset=\"target\",\n",
    "#     x_transform_func=global_x_transform_func,\n",
    "#     domain_modifier=lambda u: f\"met_{u}\"\n",
    "# )"
   ]
  },
  {
   "cell_type": "code",
   "execution_count": 18,
   "id": "86a863c3",
   "metadata": {
    "execution": {
     "iopub.execute_input": "2022-03-18T22:21:21.100377Z",
     "iopub.status.busy": "2022-03-18T22:21:21.100132Z",
     "iopub.status.idle": "2022-03-18T22:21:21.110303Z",
     "shell.execute_reply": "2022-03-18T22:21:21.109920Z"
    },
    "papermill": {
     "duration": 0.025181,
     "end_time": "2022-03-18T22:21:21.110390",
     "exception": false,
     "start_time": "2022-03-18T22:21:21.085209",
     "status": "completed"
    },
    "tags": []
   },
   "outputs": [],
   "source": [
    "# # from steves_utils.wisig.utils import (\n",
    "# #     ALL_NODES_MINIMUM_100_EXAMPLES,\n",
    "# #     ALL_NODES_MINIMUM_500_EXAMPLES,\n",
    "# #     ALL_NODES_MINIMUM_1000_EXAMPLES,\n",
    "# #     ALL_DAYS\n",
    "# # )\n",
    "\n",
    "# import steves_utils.wisig.utils as wisig\n",
    "\n",
    "\n",
    "# add_dataset(\n",
    "#     labels=wisig.ALL_NODES_MINIMUM_100_EXAMPLES,\n",
    "#     domains = wisig.ALL_DAYS,\n",
    "#     num_examples_per_domain_per_label=100,\n",
    "#     pickle_path=os.path.join(get_datasets_base_path(), \"wisig.node3-19.stratified_ds.2022A.pkl\"),\n",
    "#     source_or_target_dataset=\"target\",\n",
    "#     x_transform_func=global_x_transform_func,\n",
    "#     domain_modifier=lambda u: f\"wisig_{u}\"\n",
    "# )"
   ]
  },
  {
   "cell_type": "code",
   "execution_count": 19,
   "id": "fd5442bc",
   "metadata": {
    "execution": {
     "iopub.execute_input": "2022-03-18T22:21:21.145617Z",
     "iopub.status.busy": "2022-03-18T22:21:21.145360Z",
     "iopub.status.idle": "2022-03-18T22:21:21.161549Z",
     "shell.execute_reply": "2022-03-18T22:21:21.161169Z"
    },
    "papermill": {
     "duration": 0.035075,
     "end_time": "2022-03-18T22:21:21.161635",
     "exception": false,
     "start_time": "2022-03-18T22:21:21.126560",
     "status": "completed"
    },
    "tags": []
   },
   "outputs": [],
   "source": [
    "###################################\n",
    "# Build the dataset\n",
    "###################################\n",
    "train_original_source = Iterable_Aggregator(train_original_source, p.seed)\n",
    "val_original_source = Iterable_Aggregator(val_original_source, p.seed)\n",
    "test_original_source = Iterable_Aggregator(test_original_source, p.seed)\n",
    "\n",
    "\n",
    "train_original_target = Iterable_Aggregator(train_original_target, p.seed)\n",
    "val_original_target = Iterable_Aggregator(val_original_target, p.seed)\n",
    "test_original_target = Iterable_Aggregator(test_original_target, p.seed)\n",
    "\n",
    "# For CNN We only use X and Y. And we only train on the source.\n",
    "# Properly form the data using a transform lambda and Lazy_Iterable_Wrapper. Finally wrap them in a dataloader\n",
    "\n",
    "transform_lambda = lambda ex: ex[1] # Original is (<domain>, <episode>) so we strip down to episode only\n",
    "\n",
    "train_processed_source = Lazy_Iterable_Wrapper(train_original_source, transform_lambda)\n",
    "val_processed_source   = Lazy_Iterable_Wrapper(val_original_source, transform_lambda)\n",
    "test_processed_source  = Lazy_Iterable_Wrapper(test_original_source, transform_lambda)\n",
    "\n",
    "train_processed_target = Lazy_Iterable_Wrapper(train_original_target, transform_lambda)\n",
    "val_processed_target   = Lazy_Iterable_Wrapper(val_original_target, transform_lambda)\n",
    "test_processed_target  = Lazy_Iterable_Wrapper(test_original_target, transform_lambda)\n",
    "\n",
    "datasets = EasyDict({\n",
    "    \"source\": {\n",
    "        \"original\": {\"train\":train_original_source, \"val\":val_original_source, \"test\":test_original_source},\n",
    "        \"processed\": {\"train\":train_processed_source, \"val\":val_processed_source, \"test\":test_processed_source}\n",
    "    },\n",
    "    \"target\": {\n",
    "        \"original\": {\"train\":train_original_target, \"val\":val_original_target, \"test\":test_original_target},\n",
    "        \"processed\": {\"train\":train_processed_target, \"val\":val_processed_target, \"test\":test_processed_target}\n",
    "    },\n",
    "})"
   ]
  },
  {
   "cell_type": "code",
   "execution_count": 20,
   "id": "5b3c01fc",
   "metadata": {
    "execution": {
     "iopub.execute_input": "2022-03-18T22:21:21.195592Z",
     "iopub.status.busy": "2022-03-18T22:21:21.195343Z",
     "iopub.status.idle": "2022-03-18T22:21:25.936428Z",
     "shell.execute_reply": "2022-03-18T22:21:25.935746Z"
    },
    "papermill": {
     "duration": 4.756792,
     "end_time": "2022-03-18T22:21:25.936535",
     "exception": false,
     "start_time": "2022-03-18T22:21:21.179743",
     "status": "completed"
    },
    "tags": []
   },
   "outputs": [
    {
     "name": "stdout",
     "output_type": "stream",
     "text": [
      "{'C_A_5', 'W_A_2', 'W_A_3', 'C_A_3', 'C_A_2', 'C_A_1', 'W_A_1', 'C_A_4', 'W_A_4'}\n"
     ]
    },
    {
     "name": "stdout",
     "output_type": "stream",
     "text": [
      "{'ORACLE.run1_44', 'ORACLE.run1_26', 'ORACLE.run1_14', 'ORACLE.run1_20', 'ORACLE.run1_50', 'ORACLE.run1_38', 'ORACLE.run1_8', 'ORACLE.run1_32'}\n"
     ]
    },
    {
     "name": "stdout",
     "output_type": "stream",
     "text": [
      "tensor([[[ 0.1799, -0.5659, -0.9683,  ...,  0.4547, -0.8865, -1.7894],\n",
      "         [ 0.1407,  0.5136, -0.9029,  ...,  1.5931,  1.4394, -0.5332]],\n",
      "\n",
      "        [[-0.0766, -1.4398, -0.0398,  ...,  0.6188, -1.1334,  0.3829],\n",
      "         [ 1.1641,  0.0551, -1.3142,  ...,  1.6879,  0.8026, -0.5055]],\n",
      "\n",
      "        [[-0.1532,  0.2265,  1.1550,  ..., -0.6318,  0.2776,  1.9048],\n",
      "         [-0.0383, -0.5743,  0.4180,  ..., -1.3273, -1.6815, -0.0798]],\n",
      "\n",
      "        ...,\n",
      "\n",
      "        [[ 0.2315, -0.0726, -0.3213,  ..., -0.5010, -0.7360, -0.5529],\n",
      "         [ 0.1244, -0.0657, -0.1693,  ..., -0.5840, -0.5148, -0.1900]],\n",
      "\n",
      "        [[ 0.5061,  0.2633,  0.5711,  ...,  0.4104, -0.0239, -1.1525],\n",
      "         [ 0.0547, -0.3112, -0.4412,  ...,  0.2599, -0.5985, -0.6258]],\n",
      "\n",
      "        [[ 0.4847,  0.5050,  0.1830,  ..., -0.0271,  0.4508, -0.3999],\n",
      "         [ 0.5965, -0.1390, -0.4711,  ...,  0.5220,  0.0373, -0.5016]]])\n"
     ]
    }
   ],
   "source": [
    "from steves_utils.transforms import get_average_magnitude, get_average_power\n",
    "\n",
    "print(set([u for u,_ in val_original_source]))\n",
    "print(set([u for u,_ in val_original_target]))\n",
    "\n",
    "s_x, s_y, q_x, q_y, _ = next(iter(train_processed_source))\n",
    "print(s_x)\n",
    "\n",
    "# for ds in [\n",
    "#     train_processed_source,\n",
    "#     val_processed_source,\n",
    "#     test_processed_source,\n",
    "#     train_processed_target,\n",
    "#     val_processed_target,\n",
    "#     test_processed_target\n",
    "# ]:\n",
    "#     for s_x, s_y, q_x, q_y, _ in ds:\n",
    "#         for X in (s_x, q_x):\n",
    "#             for x in X:\n",
    "#                 assert np.isclose(get_average_magnitude(x.numpy()), 1.0)\n",
    "#                 assert np.isclose(get_average_power(x.numpy()), 1.0)\n",
    "                "
   ]
  },
  {
   "cell_type": "code",
   "execution_count": 21,
   "id": "bbdacba1",
   "metadata": {
    "execution": {
     "iopub.execute_input": "2022-03-18T22:21:25.987602Z",
     "iopub.status.busy": "2022-03-18T22:21:25.983373Z",
     "iopub.status.idle": "2022-03-18T22:21:26.034616Z",
     "shell.execute_reply": "2022-03-18T22:21:26.034161Z"
    },
    "papermill": {
     "duration": 0.073795,
     "end_time": "2022-03-18T22:21:26.034709",
     "exception": false,
     "start_time": "2022-03-18T22:21:25.960914",
     "status": "completed"
    },
    "tags": []
   },
   "outputs": [
    {
     "name": "stdout",
     "output_type": "stream",
     "text": [
      "(2, 200)\n"
     ]
    }
   ],
   "source": [
    "###################################\n",
    "# Build the model\n",
    "###################################\n",
    "# easfsl only wants a tuple for the shape\n",
    "model = Steves_Prototypical_Network(x_net, device=p.device, x_shape=tuple(p.x_shape))\n",
    "optimizer = Adam(params=model.parameters(), lr=p.lr)"
   ]
  },
  {
   "cell_type": "code",
   "execution_count": 22,
   "id": "22b39ac5",
   "metadata": {
    "execution": {
     "iopub.execute_input": "2022-03-18T22:21:26.073191Z",
     "iopub.status.busy": "2022-03-18T22:21:26.072938Z",
     "iopub.status.idle": "2022-03-18T22:26:02.756065Z",
     "shell.execute_reply": "2022-03-18T22:26:02.755787Z"
    },
    "papermill": {
     "duration": 276.700783,
     "end_time": "2022-03-18T22:26:02.756130",
     "exception": false,
     "start_time": "2022-03-18T22:21:26.055347",
     "status": "completed"
    },
    "tags": []
   },
   "outputs": [
    {
     "name": "stdout",
     "output_type": "stream",
     "text": [
      "epoch: 1, [batch: 1 / 2083], examples_per_second: 125.7639, train_label_loss: 2.6692, \n"
     ]
    },
    {
     "name": "stdout",
     "output_type": "stream",
     "text": [
      "epoch: 1, [batch: 209 / 2083], examples_per_second: 3643.7000, train_label_loss: 0.1130, \n"
     ]
    },
    {
     "name": "stdout",
     "output_type": "stream",
     "text": [
      "epoch: 1, [batch: 417 / 2083], examples_per_second: 3677.9997, train_label_loss: 0.6380, \n"
     ]
    },
    {
     "name": "stdout",
     "output_type": "stream",
     "text": [
      "epoch: 1, [batch: 625 / 2083], examples_per_second: 3668.9335, train_label_loss: 0.2459, \n"
     ]
    },
    {
     "name": "stdout",
     "output_type": "stream",
     "text": [
      "epoch: 1, [batch: 833 / 2083], examples_per_second: 3654.7052, train_label_loss: 0.0254, \n"
     ]
    },
    {
     "name": "stdout",
     "output_type": "stream",
     "text": [
      "epoch: 1, [batch: 1042 / 2083], examples_per_second: 3639.3320, train_label_loss: 0.1942, \n"
     ]
    },
    {
     "name": "stdout",
     "output_type": "stream",
     "text": [
      "epoch: 1, [batch: 1250 / 2083], examples_per_second: 3656.2867, train_label_loss: 0.0814, \n"
     ]
    },
    {
     "name": "stdout",
     "output_type": "stream",
     "text": [
      "epoch: 1, [batch: 1458 / 2083], examples_per_second: 3682.1853, train_label_loss: 0.3755, \n"
     ]
    },
    {
     "name": "stdout",
     "output_type": "stream",
     "text": [
      "epoch: 1, [batch: 1666 / 2083], examples_per_second: 3631.8625, train_label_loss: 0.3427, \n"
     ]
    },
    {
     "name": "stdout",
     "output_type": "stream",
     "text": [
      "epoch: 1, [batch: 1874 / 2083], examples_per_second: 3662.6455, train_label_loss: 0.4680, \n"
     ]
    },
    {
     "name": "stdout",
     "output_type": "stream",
     "text": [
      "=============================================================\n",
      "epoch: 1, source_val_acc_label: 0.9454, target_val_acc_label: 0.2333, source_val_label_loss: 0.2326, target_val_label_loss: 2.3056, \n",
      "=============================================================\n"
     ]
    },
    {
     "name": "stdout",
     "output_type": "stream",
     "text": [
      "New best\n"
     ]
    },
    {
     "name": "stdout",
     "output_type": "stream",
     "text": [
      "epoch: 2, [batch: 1 / 2080], examples_per_second: 11.2238, train_label_loss: 0.0746, \n"
     ]
    },
    {
     "name": "stdout",
     "output_type": "stream",
     "text": [
      "epoch: 2, [batch: 208 / 2080], examples_per_second: 3603.3633, train_label_loss: 0.0033, \n"
     ]
    },
    {
     "name": "stdout",
     "output_type": "stream",
     "text": [
      "epoch: 2, [batch: 416 / 2080], examples_per_second: 3653.7983, train_label_loss: 0.4613, \n"
     ]
    },
    {
     "name": "stdout",
     "output_type": "stream",
     "text": [
      "epoch: 2, [batch: 624 / 2080], examples_per_second: 3638.4108, train_label_loss: 0.0083, \n"
     ]
    },
    {
     "name": "stdout",
     "output_type": "stream",
     "text": [
      "epoch: 2, [batch: 832 / 2080], examples_per_second: 3654.2504, train_label_loss: 0.2283, \n"
     ]
    },
    {
     "name": "stdout",
     "output_type": "stream",
     "text": [
      "epoch: 2, [batch: 1040 / 2080], examples_per_second: 3658.2022, train_label_loss: 0.3137, \n"
     ]
    },
    {
     "name": "stdout",
     "output_type": "stream",
     "text": [
      "epoch: 2, [batch: 1248 / 2080], examples_per_second: 3644.2304, train_label_loss: 0.0012, \n"
     ]
    },
    {
     "name": "stdout",
     "output_type": "stream",
     "text": [
      "epoch: 2, [batch: 1456 / 2080], examples_per_second: 3643.0031, train_label_loss: 0.0772, \n"
     ]
    },
    {
     "name": "stdout",
     "output_type": "stream",
     "text": [
      "epoch: 2, [batch: 1664 / 2080], examples_per_second: 3601.2766, train_label_loss: 0.1361, \n"
     ]
    },
    {
     "name": "stdout",
     "output_type": "stream",
     "text": [
      "epoch: 2, [batch: 1872 / 2080], examples_per_second: 3623.5235, train_label_loss: 0.3048, \n"
     ]
    },
    {
     "name": "stdout",
     "output_type": "stream",
     "text": [
      "=============================================================\n",
      "epoch: 2, source_val_acc_label: 0.9672, target_val_acc_label: 0.2022, source_val_label_loss: 0.1586, target_val_label_loss: 2.4167, \n",
      "=============================================================\n"
     ]
    },
    {
     "name": "stdout",
     "output_type": "stream",
     "text": [
      "epoch: 3, [batch: 1 / 2076], examples_per_second: 11.2785, train_label_loss: 0.1969, \n"
     ]
    },
    {
     "name": "stdout",
     "output_type": "stream",
     "text": [
      "epoch: 3, [batch: 208 / 2076], examples_per_second: 3607.1829, train_label_loss: 0.0087, \n"
     ]
    },
    {
     "name": "stdout",
     "output_type": "stream",
     "text": [
      "epoch: 3, [batch: 416 / 2076], examples_per_second: 3610.9827, train_label_loss: 0.0029, \n"
     ]
    },
    {
     "name": "stdout",
     "output_type": "stream",
     "text": [
      "epoch: 3, [batch: 623 / 2076], examples_per_second: 3610.1798, train_label_loss: 0.0079, \n"
     ]
    },
    {
     "name": "stdout",
     "output_type": "stream",
     "text": [
      "epoch: 3, [batch: 831 / 2076], examples_per_second: 3638.6305, train_label_loss: 0.0103, \n"
     ]
    },
    {
     "name": "stdout",
     "output_type": "stream",
     "text": [
      "epoch: 3, [batch: 1038 / 2076], examples_per_second: 3638.1820, train_label_loss: 0.4508, \n"
     ]
    },
    {
     "name": "stdout",
     "output_type": "stream",
     "text": [
      "epoch: 3, [batch: 1246 / 2076], examples_per_second: 3656.3505, train_label_loss: 0.1799, \n"
     ]
    },
    {
     "name": "stdout",
     "output_type": "stream",
     "text": [
      "epoch: 3, [batch: 1453 / 2076], examples_per_second: 3627.9327, train_label_loss: 0.0472, \n"
     ]
    },
    {
     "name": "stdout",
     "output_type": "stream",
     "text": [
      "epoch: 3, [batch: 1661 / 2076], examples_per_second: 3613.4378, train_label_loss: 0.1965, \n"
     ]
    },
    {
     "name": "stdout",
     "output_type": "stream",
     "text": [
      "epoch: 3, [batch: 1868 / 2076], examples_per_second: 3641.9242, train_label_loss: 0.2285, \n"
     ]
    },
    {
     "name": "stdout",
     "output_type": "stream",
     "text": [
      "=============================================================\n",
      "epoch: 3, source_val_acc_label: 0.9705, target_val_acc_label: 0.1986, source_val_label_loss: 0.1350, target_val_label_loss: 2.4447, \n",
      "=============================================================\n"
     ]
    },
    {
     "name": "stdout",
     "output_type": "stream",
     "text": [
      "epoch: 4, [batch: 1 / 2077], examples_per_second: 11.2363, train_label_loss: 0.0084, \n"
     ]
    },
    {
     "name": "stdout",
     "output_type": "stream",
     "text": [
      "epoch: 4, [batch: 208 / 2077], examples_per_second: 3620.8805, train_label_loss: 0.0016, \n"
     ]
    },
    {
     "name": "stdout",
     "output_type": "stream",
     "text": [
      "epoch: 4, [batch: 416 / 2077], examples_per_second: 3668.8177, train_label_loss: 0.0005, \n"
     ]
    },
    {
     "name": "stdout",
     "output_type": "stream",
     "text": [
      "epoch: 4, [batch: 623 / 2077], examples_per_second: 3635.3013, train_label_loss: 0.0588, \n"
     ]
    },
    {
     "name": "stdout",
     "output_type": "stream",
     "text": [
      "epoch: 4, [batch: 831 / 2077], examples_per_second: 3665.6853, train_label_loss: 0.1006, \n"
     ]
    },
    {
     "name": "stdout",
     "output_type": "stream",
     "text": [
      "epoch: 4, [batch: 1039 / 2077], examples_per_second: 3637.4219, train_label_loss: 0.0004, \n"
     ]
    },
    {
     "name": "stdout",
     "output_type": "stream",
     "text": [
      "epoch: 4, [batch: 1246 / 2077], examples_per_second: 3651.6883, train_label_loss: 0.1401, \n"
     ]
    },
    {
     "name": "stdout",
     "output_type": "stream",
     "text": [
      "epoch: 4, [batch: 1454 / 2077], examples_per_second: 3657.5885, train_label_loss: 0.0551, \n"
     ]
    },
    {
     "name": "stdout",
     "output_type": "stream",
     "text": [
      "epoch: 4, [batch: 1661 / 2077], examples_per_second: 3610.8736, train_label_loss: 0.2692, \n"
     ]
    },
    {
     "name": "stdout",
     "output_type": "stream",
     "text": [
      "epoch: 4, [batch: 1869 / 2077], examples_per_second: 3654.7224, train_label_loss: 0.0132, \n"
     ]
    },
    {
     "name": "stdout",
     "output_type": "stream",
     "text": [
      "=============================================================\n",
      "epoch: 4, source_val_acc_label: 0.9740, target_val_acc_label: 0.2078, source_val_label_loss: 0.1244, target_val_label_loss: 2.4130, \n",
      "=============================================================\n"
     ]
    },
    {
     "name": "stdout",
     "output_type": "stream",
     "text": [
      "epoch: 5, [batch: 1 / 2080], examples_per_second: 11.2505, train_label_loss: 0.0067, \n"
     ]
    },
    {
     "name": "stdout",
     "output_type": "stream",
     "text": [
      "epoch: 5, [batch: 208 / 2080], examples_per_second: 3636.4993, train_label_loss: 0.0315, \n"
     ]
    },
    {
     "name": "stdout",
     "output_type": "stream",
     "text": [
      "epoch: 5, [batch: 416 / 2080], examples_per_second: 3641.4692, train_label_loss: 0.0004, \n"
     ]
    },
    {
     "name": "stdout",
     "output_type": "stream",
     "text": [
      "epoch: 5, [batch: 624 / 2080], examples_per_second: 3635.3685, train_label_loss: 0.4245, \n"
     ]
    },
    {
     "name": "stdout",
     "output_type": "stream",
     "text": [
      "epoch: 5, [batch: 832 / 2080], examples_per_second: 3667.8982, train_label_loss: 0.1750, \n"
     ]
    },
    {
     "name": "stdout",
     "output_type": "stream",
     "text": [
      "epoch: 5, [batch: 1040 / 2080], examples_per_second: 3644.6972, train_label_loss: 0.1582, \n"
     ]
    },
    {
     "name": "stdout",
     "output_type": "stream",
     "text": [
      "epoch: 5, [batch: 1248 / 2080], examples_per_second: 3640.9430, train_label_loss: 0.0010, \n"
     ]
    },
    {
     "name": "stdout",
     "output_type": "stream",
     "text": [
      "epoch: 5, [batch: 1456 / 2080], examples_per_second: 3605.4637, train_label_loss: 0.0367, \n"
     ]
    },
    {
     "name": "stdout",
     "output_type": "stream",
     "text": [
      "epoch: 5, [batch: 1664 / 2080], examples_per_second: 3624.0221, train_label_loss: 0.0047, \n"
     ]
    },
    {
     "name": "stdout",
     "output_type": "stream",
     "text": [
      "epoch: 5, [batch: 1872 / 2080], examples_per_second: 3670.3946, train_label_loss: 0.3116, \n"
     ]
    },
    {
     "name": "stdout",
     "output_type": "stream",
     "text": [
      "=============================================================\n",
      "epoch: 5, source_val_acc_label: 0.9752, target_val_acc_label: 0.2215, source_val_label_loss: 0.1141, target_val_label_loss: 2.3738, \n",
      "=============================================================\n"
     ]
    },
    {
     "name": "stdout",
     "output_type": "stream",
     "text": [
      "Patience (3) exhausted\n"
     ]
    }
   ],
   "source": [
    "###################################\n",
    "# train\n",
    "###################################\n",
    "jig = PTN_Train_Eval_Test_Jig(model, p.BEST_MODEL_PATH, p.device)\n",
    "\n",
    "jig.train(\n",
    "    train_iterable=datasets.source.processed.train,\n",
    "    source_val_iterable=datasets.source.processed.val,\n",
    "    target_val_iterable=datasets.target.processed.val,\n",
    "    num_epochs=p.n_epoch,\n",
    "    num_logs_per_epoch=p.NUM_LOGS_PER_EPOCH,\n",
    "    patience=p.patience,\n",
    "    optimizer=optimizer,\n",
    "    criteria_for_best=p.criteria_for_best,\n",
    ")"
   ]
  },
  {
   "cell_type": "code",
   "execution_count": 23,
   "id": "31e8fabf",
   "metadata": {
    "execution": {
     "iopub.execute_input": "2022-03-18T22:26:02.810190Z",
     "iopub.status.busy": "2022-03-18T22:26:02.809792Z",
     "iopub.status.idle": "2022-03-18T22:26:02.827022Z",
     "shell.execute_reply": "2022-03-18T22:26:02.826769Z"
    },
    "papermill": {
     "duration": 0.045356,
     "end_time": "2022-03-18T22:26:02.827086",
     "exception": false,
     "start_time": "2022-03-18T22:26:02.781730",
     "status": "completed"
    },
    "tags": []
   },
   "outputs": [],
   "source": [
    "total_experiment_time_secs = time.time() - start_time_secs"
   ]
  },
  {
   "cell_type": "code",
   "execution_count": 24,
   "id": "87b9595b",
   "metadata": {
    "execution": {
     "iopub.execute_input": "2022-03-18T22:26:02.883607Z",
     "iopub.status.busy": "2022-03-18T22:26:02.883153Z",
     "iopub.status.idle": "2022-03-18T22:27:05.801512Z",
     "shell.execute_reply": "2022-03-18T22:27:05.801071Z"
    },
    "papermill": {
     "duration": 62.946494,
     "end_time": "2022-03-18T22:27:05.801626",
     "exception": false,
     "start_time": "2022-03-18T22:26:02.855132",
     "status": "completed"
    },
    "tags": []
   },
   "outputs": [],
   "source": [
    "###################################\n",
    "# Evaluate the model\n",
    "###################################\n",
    "source_test_label_accuracy, source_test_label_loss = jig.test(datasets.source.processed.test)\n",
    "target_test_label_accuracy, target_test_label_loss = jig.test(datasets.target.processed.test)\n",
    "\n",
    "source_val_label_accuracy, source_val_label_loss = jig.test(datasets.source.processed.val)\n",
    "target_val_label_accuracy, target_val_label_loss = jig.test(datasets.target.processed.val)\n",
    "\n",
    "history = jig.get_history()\n",
    "\n",
    "total_epochs_trained = len(history[\"epoch_indices\"])\n",
    "\n",
    "val_dl = Iterable_Aggregator((datasets.source.original.val,datasets.target.original.val))\n",
    "\n",
    "confusion = ptn_confusion_by_domain_over_dataloader(model, p.device, val_dl)\n",
    "per_domain_accuracy = per_domain_accuracy_from_confusion(confusion)\n",
    "\n",
    "# Add a key to per_domain_accuracy for if it was a source domain\n",
    "for domain, accuracy in per_domain_accuracy.items():\n",
    "    per_domain_accuracy[domain] = {\n",
    "        \"accuracy\": accuracy,\n",
    "        \"source?\": domain in p.domains_source\n",
    "    }\n",
    "\n",
    "# Do an independent accuracy assesment JUST TO BE SURE!\n",
    "# _source_test_label_accuracy = independent_accuracy_assesment(model, datasets.source.processed.test, p.device)\n",
    "# _target_test_label_accuracy = independent_accuracy_assesment(model, datasets.target.processed.test, p.device)\n",
    "# _source_val_label_accuracy = independent_accuracy_assesment(model, datasets.source.processed.val, p.device)\n",
    "# _target_val_label_accuracy = independent_accuracy_assesment(model, datasets.target.processed.val, p.device)\n",
    "\n",
    "# assert(_source_test_label_accuracy == source_test_label_accuracy)\n",
    "# assert(_target_test_label_accuracy == target_test_label_accuracy)\n",
    "# assert(_source_val_label_accuracy == source_val_label_accuracy)\n",
    "# assert(_target_val_label_accuracy == target_val_label_accuracy)\n",
    "\n",
    "experiment = {\n",
    "    \"experiment_name\": p.experiment_name,\n",
    "    \"parameters\": dict(p),\n",
    "    \"results\": {\n",
    "        \"source_test_label_accuracy\": source_test_label_accuracy,\n",
    "        \"source_test_label_loss\": source_test_label_loss,\n",
    "        \"target_test_label_accuracy\": target_test_label_accuracy,\n",
    "        \"target_test_label_loss\": target_test_label_loss,\n",
    "        \"source_val_label_accuracy\": source_val_label_accuracy,\n",
    "        \"source_val_label_loss\": source_val_label_loss,\n",
    "        \"target_val_label_accuracy\": target_val_label_accuracy,\n",
    "        \"target_val_label_loss\": target_val_label_loss,\n",
    "        \"total_epochs_trained\": total_epochs_trained,\n",
    "        \"total_experiment_time_secs\": total_experiment_time_secs,\n",
    "        \"confusion\": confusion,\n",
    "        \"per_domain_accuracy\": per_domain_accuracy,\n",
    "    },\n",
    "    \"history\": history,\n",
    "    \"dataset_metrics\": get_dataset_metrics(datasets, \"ptn\"),\n",
    "}"
   ]
  },
  {
   "cell_type": "code",
   "execution_count": 25,
   "id": "54a21829",
   "metadata": {
    "execution": {
     "iopub.execute_input": "2022-03-18T22:27:05.858238Z",
     "iopub.status.busy": "2022-03-18T22:27:05.857452Z",
     "iopub.status.idle": "2022-03-18T22:27:05.977709Z",
     "shell.execute_reply": "2022-03-18T22:27:05.977260Z"
    },
    "papermill": {
     "duration": 0.146309,
     "end_time": "2022-03-18T22:27:05.977798",
     "exception": false,
     "start_time": "2022-03-18T22:27:05.831489",
     "status": "completed"
    },
    "tags": []
   },
   "outputs": [
    {
     "data": {
      "image/png": "[encoded data removed]",
      "text/plain": [
       "<Figure size 1080x504 with 1 Axes>"
      ]
     },
     "metadata": {
      "needs_background": "light"
     },
     "output_type": "display_data"
    }
   ],
   "source": [
    "ax = get_loss_curve(experiment)\n",
    "plt.show()"
   ]
  },
  {
   "cell_type": "code",
   "execution_count": 26,
   "id": "fd8a0f60",
   "metadata": {
    "execution": {
     "iopub.execute_input": "2022-03-18T22:27:06.033402Z",
     "iopub.status.busy": "2022-03-18T22:27:06.033151Z",
     "iopub.status.idle": "2022-03-18T22:27:06.170723Z",
     "shell.execute_reply": "2022-03-18T22:27:06.170936Z"
    },
    "papermill": {
     "duration": 0.164783,
     "end_time": "2022-03-18T22:27:06.170999",
     "exception": false,
     "start_time": "2022-03-18T22:27:06.006216",
     "status": "completed"
    },
    "tags": []
   },
   "outputs": [
    {
     "data": {
      "text/plain": [
       "<AxesSubplot:title={'center':'Results'}>"
      ]
     },
     "execution_count": 26,
     "metadata": {},
     "output_type": "execute_result"
    },
    {
     "data": {
      "image/png": "[encoded data removed]",
      "text/plain": [
       "<Figure size 1080x504 with 1 Axes>"
      ]
     },
     "metadata": {
      "needs_background": "light"
     },
     "output_type": "display_data"
    }
   ],
   "source": [
    "get_results_table(experiment)"
   ]
  },
  {
   "cell_type": "code",
   "execution_count": 27,
   "id": "cf8dc689",
   "metadata": {
    "execution": {
     "iopub.execute_input": "2022-03-18T22:27:06.228770Z",
     "iopub.status.busy": "2022-03-18T22:27:06.228326Z",
     "iopub.status.idle": "2022-03-18T22:27:06.389043Z",
     "shell.execute_reply": "2022-03-18T22:27:06.388594Z"
    },
    "papermill": {
     "duration": 0.191014,
     "end_time": "2022-03-18T22:27:06.389133",
     "exception": false,
     "start_time": "2022-03-18T22:27:06.198119",
     "status": "completed"
    },
    "tags": []
   },
   "outputs": [
    {
     "data": {
      "text/plain": [
       "<AxesSubplot:title={'center':'Per Domain Validation Accuracy'}, xlabel='domain'>"
      ]
     },
     "execution_count": 27,
     "metadata": {},
     "output_type": "execute_result"
    },
    {
     "data": {
      "image/png": "[encoded data removed]",
      "text/plain": [
       "<Figure size 1080x504 with 1 Axes>"
      ]
     },
     "metadata": {
      "needs_background": "light"
     },
     "output_type": "display_data"
    }
   ],
   "source": [
    "get_domain_accuracies(experiment)"
   ]
  },
  {
   "cell_type": "code",
   "execution_count": 28,
   "id": "a74ae082",
   "metadata": {
    "execution": {
     "iopub.execute_input": "2022-03-18T22:27:06.449644Z",
     "iopub.status.busy": "2022-03-18T22:27:06.449309Z",
     "iopub.status.idle": "2022-03-18T22:27:06.466479Z",
     "shell.execute_reply": "2022-03-18T22:27:06.466070Z"
    },
    "papermill": {
     "duration": 0.046953,
     "end_time": "2022-03-18T22:27:06.466570",
     "exception": false,
     "start_time": "2022-03-18T22:27:06.419617",
     "status": "completed"
    },
    "tags": []
   },
   "outputs": [
    {
     "name": "stdout",
     "output_type": "stream",
     "text": [
      "Source Test Label Accuracy: 0.9393256013745704 Target Test Label Accuracy: 0.23336588541666667\n",
      "Source Val Label Accuracy: 0.945446735395189 Target Val Label Accuracy: 0.23326822916666667\n"
     ]
    }
   ],
   "source": [
    "print(\"Source Test Label Accuracy:\", experiment[\"results\"][\"source_test_label_accuracy\"], \"Target Test Label Accuracy:\", experiment[\"results\"][\"target_test_label_accuracy\"])\n",
    "print(\"Source Val Label Accuracy:\", experiment[\"results\"][\"source_val_label_accuracy\"], \"Target Val Label Accuracy:\", experiment[\"results\"][\"target_val_label_accuracy\"])"
   ]
  },
  {
   "cell_type": "code",
   "execution_count": 29,
   "id": "dacca602",
   "metadata": {
    "execution": {
     "iopub.execute_input": "2022-03-18T22:27:06.527931Z",
     "iopub.status.busy": "2022-03-18T22:27:06.527522Z",
     "iopub.status.idle": "2022-03-18T22:27:06.544460Z",
     "shell.execute_reply": "2022-03-18T22:27:06.544832Z"
    },
    "papermill": {
     "duration": 0.046398,
     "end_time": "2022-03-18T22:27:06.544938",
     "exception": false,
     "start_time": "2022-03-18T22:27:06.498540",
     "status": "completed"
    },
    "tags": [
     "experiment_json"
    ]
   },
   "outputs": [
    {
     "data": {
      "text/plain": [
       "'{\"experiment_name\": \"tl_3A:cores+wisig -> oracle.run1.framed\", \"parameters\": {\"experiment_name\": \"tl_3A:cores+wisig -> oracle.run1.framed\", \"device\": \"cuda\", \"lr\": 0.001, \"x_shape\": [2, 200], \"n_shot\": 3, \"n_query\": 2, \"train_k_factor\": 3, \"val_k_factor\": 2, \"test_k_factor\": 2, \"torch_default_dtype\": \"torch.float32\", \"n_epoch\": 50, \"patience\": 3, \"criteria_for_best\": \"target_loss\", \"x_net\": [{\"class\": \"nnReshape\", \"kargs\": {\"shape\": [-1, 1, 2, 200]}}, {\"class\": \"Conv2d\", \"kargs\": {\"in_channels\": 1, \"out_channels\": 256, \"kernel_size\": [1, 7], \"bias\": false, \"padding\": [0, 3]}}, {\"class\": \"ReLU\", \"kargs\": {\"inplace\": true}}, {\"class\": \"BatchNorm2d\", \"kargs\": {\"num_features\": 256}}, {\"class\": \"Conv2d\", \"kargs\": {\"in_channels\": 256, \"out_channels\": 80, \"kernel_size\": [2, 7], \"bias\": true, \"padding\": [0, 3]}}, {\"class\": \"ReLU\", \"kargs\": {\"inplace\": true}}, {\"class\": \"BatchNorm2d\", \"kargs\": {\"num_features\": 80}}, {\"class\": \"Flatten\", \"kargs\": {}}, {\"class\": \"Linear\", \"kargs\": {\"in_features\": 16000, \"out_features\": 256}}, {\"class\": \"ReLU\", \"kargs\": {\"inplace\": true}}, {\"class\": \"BatchNorm1d\", \"kargs\": {\"num_features\": 256}}, {\"class\": \"Linear\", \"kargs\": {\"in_features\": 256, \"out_features\": 256}}], \"NUM_LOGS_PER_EPOCH\": 10, \"BEST_MODEL_PATH\": \"./best_model.pth\", \"n_way\": 16, \"datasets\": [{\"labels\": [\"1-10.\", \"1-11.\", \"1-15.\", \"1-16.\", \"1-17.\", \"1-18.\", \"1-19.\", \"10-4.\", \"10-7.\", \"11-1.\", \"11-14.\", \"11-17.\", \"11-20.\", \"11-7.\", \"13-20.\", \"13-8.\", \"14-10.\", \"14-11.\", \"14-14.\", \"14-7.\", \"15-1.\", \"15-20.\", \"16-1.\", \"16-16.\", \"17-10.\", \"17-11.\", \"17-2.\", \"19-1.\", \"19-16.\", \"19-19.\", \"19-20.\", \"19-3.\", \"2-10.\", \"2-11.\", \"2-17.\", \"2-18.\", \"2-20.\", \"2-3.\", \"2-4.\", \"2-5.\", \"2-6.\", \"2-7.\", \"2-8.\", \"3-13.\", \"3-18.\", \"3-3.\", \"4-1.\", \"4-10.\", \"4-11.\", \"4-19.\", \"5-5.\", \"6-15.\", \"7-10.\", \"7-14.\", \"8-18.\", \"8-20.\", \"8-3.\", \"8-8.\"], \"domains\": [1, 2, 3, 4, 5], \"num_examples_per_domain_per_label\": 100, \"pickle_path\": \"/mnt/wd500GB/CSC500/csc500-main/datasets/cores.stratified_ds.2022A.pkl\", \"source_or_target_dataset\": \"source\", \"x_transforms\": [\"unit_mag\", \"take_200\"], \"episode_transforms\": [], \"domain_prefix\": \"C_A_\"}, {\"labels\": [\"1-10\", \"1-12\", \"1-14\", \"1-16\", \"1-18\", \"1-19\", \"1-8\", \"10-11\", \"10-17\", \"10-4\", \"10-7\", \"11-1\", \"11-10\", \"11-19\", \"11-20\", \"11-4\", \"11-7\", \"12-19\", \"12-20\", \"12-7\", \"13-14\", \"13-18\", \"13-19\", \"13-20\", \"13-3\", \"13-7\", \"14-10\", \"14-11\", \"14-12\", \"14-13\", \"14-14\", \"14-19\", \"14-20\", \"14-7\", \"14-8\", \"14-9\", \"15-1\", \"15-19\", \"15-6\", \"16-1\", \"16-16\", \"16-19\", \"16-20\", \"17-10\", \"17-11\", \"18-1\", \"18-10\", \"18-11\", \"18-12\", \"18-13\", \"18-14\", \"18-15\", \"18-16\", \"18-17\", \"18-19\", \"18-2\", \"18-20\", \"18-4\", \"18-5\", \"18-7\", \"18-8\", \"18-9\", \"19-1\", \"19-10\", \"19-11\", \"19-12\", \"19-13\", \"19-14\", \"19-15\", \"19-19\", \"19-2\", \"19-20\", \"19-3\", \"19-4\", \"19-6\", \"19-7\", \"19-8\", \"19-9\", \"2-1\", \"2-13\", \"2-15\", \"2-3\", \"2-4\", \"2-5\", \"2-6\", \"2-7\", \"2-8\", \"20-1\", \"20-12\", \"20-14\", \"20-15\", \"20-16\", \"20-18\", \"20-19\", \"20-20\", \"20-3\", \"20-4\", \"20-5\", \"20-7\", \"20-8\", \"3-1\", \"3-13\", \"3-18\", \"3-2\", \"3-8\", \"4-1\", \"4-10\", \"4-11\", \"5-1\", \"5-5\", \"6-1\", \"6-15\", \"6-6\", \"7-10\", \"7-11\", \"7-12\", \"7-13\", \"7-14\", \"7-7\", \"7-8\", \"7-9\", \"8-1\", \"8-13\", \"8-14\", \"8-18\", \"8-20\", \"8-3\", \"8-8\", \"9-1\", \"9-7\"], \"domains\": [1, 2, 3, 4], \"num_examples_per_domain_per_label\": 100, \"pickle_path\": \"/mnt/wd500GB/CSC500/csc500-main/datasets/wisig.node3-19.stratified_ds.2022A.pkl\", \"source_or_target_dataset\": \"source\", \"x_transforms\": [\"unit_mag\", \"take_200\"], \"episode_transforms\": [], \"domain_prefix\": \"W_A_\"}, {\"labels\": [\"3123D52\", \"3123D65\", \"3123D79\", \"3123D80\", \"3123D54\", \"3123D70\", \"3123D7B\", \"3123D89\", \"3123D58\", \"3123D76\", \"3123D7D\", \"3123EFE\", \"3123D64\", \"3123D78\", \"3123D7E\", \"3124E4A\"], \"domains\": [32, 38, 8, 44, 14, 50, 20, 26], \"num_examples_per_domain_per_label\": 2000, \"pickle_path\": \"/mnt/wd500GB/CSC500/csc500-main/datasets/oracle.Run1_framed_2000Examples_stratified_ds.2022A.pkl\", \"source_or_target_dataset\": \"target\", \"x_transforms\": [\"unit_mag\", \"take_200\", \"resample_20Msps_to_25Msps\"], \"episode_transforms\": [], \"domain_prefix\": \"ORACLE.run1_\"}], \"seed\": 154325, \"dataset_seed\": 154325, \"domains_source\": [\"C_A_1\", \"C_A_2\", \"C_A_3\", \"C_A_4\", \"C_A_5\", \"W_A_1\", \"W_A_2\", \"W_A_3\", \"W_A_4\"], \"domains_target\": [\"ORACLE.run1_32\", \"ORACLE.run1_38\", \"ORACLE.run1_8\", \"ORACLE.run1_44\", \"ORACLE.run1_14\", \"ORACLE.run1_50\", \"ORACLE.run1_20\", \"ORACLE.run1_26\"]}, \"results\": {\"source_test_label_accuracy\": 0.9393256013745704, \"source_test_label_loss\": 0.2741430103778839, \"target_test_label_accuracy\": 0.23336588541666667, \"target_test_label_loss\": 2.3030669689178467, \"source_val_label_accuracy\": 0.945446735395189, \"source_val_label_loss\": 0.23264995217323303, \"target_val_label_accuracy\": 0.23326822916666667, \"target_val_label_loss\": 2.3056159019470215, \"total_epochs_trained\": 5, \"total_experiment_time_secs\": 319.40877985954285, \"confusion\": {\"C_A_2\": {\"21\": {\"21\": 8, \"18\": 1, \"46\": 1}, \"4\": {\"4\": 12}, \"6\": {\"6\": 10, \"17\": 2}, \"10\": {\"10\": 12}, \"33\": {\"33\": 10}, \"56\": {\"56\": 10}, \"20\": {\"20\": 12}, \"24\": {\"24\": 10}, \"45\": {\"53\": 2, \"45\": 8}, \"32\": {\"32\": 12}, \"27\": {\"27\": 12}, \"53\": {\"53\": 12}, \"8\": {\"8\": 12}, \"54\": {\"54\": 12}, \"50\": {\"50\": 12}, \"44\": {\"44\": 12}, \"5\": {\"5\": 10}, \"38\": {\"38\": 12}, \"19\": {\"19\": 12}, \"1\": {\"1\": 12}, \"30\": {\"30\": 12}, \"15\": {\"15\": 12}, \"23\": {\"23\": 12}, \"35\": {\"35\": 11, \"40\": 1}, \"22\": {\"22\": 12}, \"40\": {\"35\": 1, \"40\": 11}, \"46\": {\"46\": 9, \"47\": 1}, \"18\": {\"18\": 10}, \"25\": {\"25\": 12}, \"47\": {\"47\": 12}, \"52\": {\"52\": 7, \"15\": 1}, \"39\": {\"39\": 12}, \"17\": {\"17\": 12}, \"36\": {\"36\": 12}, \"7\": {\"7\": 12}, \"43\": {\"43\": 12}, \"3\": {\"3\": 11, \"50\": 1}, \"11\": {\"11\": 10}, \"55\": {\"55\": 12}, \"42\": {\"42\": 11, \"1\": 1}, \"51\": {\"51\": 12}, \"48\": {\"48\": 12}, \"57\": {\"57\": 12}, \"2\": {\"2\": 10}, \"16\": {\"16\": 9, \"2\": 1}, \"29\": {\"29\": 12}, \"12\": {\"12\": 12}, \"13\": {\"13\": 12}, \"37\": {\"37\": 12}, \"28\": {\"28\": 6}, \"14\": {\"55\": 1, \"14\": 9, \"38\": 2}, \"34\": {\"34\": 8}, \"41\": {\"41\": 10}, \"9\": {\"9\": 9, \"27\": 1}, \"49\": {\"49\": 6}, \"26\": {\"26\": 10}, \"0\": {\"0\": 10}, \"31\": {\"31\": 6}}, \"C_A_5\": {\"12\": {\"12\": 12}, \"8\": {\"8\": 12}, \"29\": {\"29\": 12}, \"57\": {\"57\": 12}, \"38\": {\"38\": 12}, \"23\": {\"23\": 10}, \"56\": {\"56\": 10}, \"49\": {\"49\": 10}, \"4\": {\"4\": 12}, \"48\": {\"48\": 12}, \"21\": {\"21\": 12}, \"30\": {\"30\": 8}, \"1\": {\"1\": 12}, \"34\": {\"34\": 12}, \"35\": {\"35\": 6}, \"55\": {\"55\": 12}, \"26\": {\"26\": 12}, \"40\": {\"40\": 12}, \"53\": {\"53\": 12}, \"46\": {\"46\": 12}, \"27\": {\"27\": 12}, \"28\": {\"28\": 10}, \"16\": {\"16\": 10}, \"2\": {\"2\": 12}, \"51\": {\"51\": 12}, \"50\": {\"50\": 11, \"48\": 1}, \"54\": {\"54\": 10}, \"5\": {\"5\": 12}, \"10\": {\"10\": 12}, \"43\": {\"43\": 10}, \"17\": {\"17\": 11, \"6\": 1}, \"45\": {\"45\": 11, \"9\": 1}, \"36\": {\"36\": 12}, \"19\": {\"19\": 8}, \"15\": {\"15\": 11, \"11\": 1}, \"20\": {\"20\": 11, \"51\": 1}, \"3\": {\"3\": 11, \"2\": 1}, \"14\": {\"31\": 1, \"14\": 9, \"54\": 1, \"5\": 1}, \"32\": {\"32\": 12}, \"7\": {\"7\": 12}, \"31\": {\"31\": 12}, \"44\": {\"44\": 12}, \"24\": {\"24\": 9, \"13\": 1}, \"39\": {\"39\": 8}, \"37\": {\"37\": 12}, \"33\": {\"33\": 12}, \"11\": {\"11\": 8}, \"18\": {\"18\": 12}, \"52\": {\"52\": 12}, \"9\": {\"45\": 1, \"9\": 10, \"6\": 1}, \"0\": {\"0\": 8}, \"6\": {\"17\": 2, \"6\": 7, \"32\": 1, \"48\": 1, \"20\": 1}, \"42\": {\"42\": 12}, \"13\": {\"13\": 10}, \"22\": {\"22\": 7, \"19\": 1}, \"25\": {\"25\": 8}, \"47\": {\"47\": 10}, \"41\": {\"41\": 10}}, \"W_A_2\": {\"56\": {\"56\": 10, \"15\": 1, \"68\": 1}, \"12\": {\"12\": 10, \"113\": 1, \"104\": 1}, \"15\": {\"15\": 10, \"127\": 2}, \"26\": {\"26\": 12}, \"82\": {\"82\": 11, \"17\": 1}, \"9\": {\"9\": 12}, \"49\": {\"49\": 9, \"9\": 1, \"11\": 1, \"19\": 1}, \"55\": {\"55\": 12}, \"102\": {\"102\": 12}, \"85\": {\"85\": 12}, \"73\": {\"85\": 1, \"73\": 11}, \"47\": {\"113\": 1, \"47\": 10, \"17\": 1}, \"20\": {\"20\": 12}, \"117\": {\"117\": 10}, \"122\": {\"122\": 12}, \"113\": {\"26\": 2, \"113\": 8, \"69\": 1, \"121\": 1}, \"87\": {\"87\": 11, \"14\": 1}, \"21\": {\"21\": 12}, \"106\": {\"106\": 10}, \"3\": {\"3\": 12}, \"126\": {\"126\": 12}, \"41\": {\"41\": 12}, \"76\": {\"76\": 10}, \"60\": {\"60\": 9, \"22\": 1, \"23\": 1, \"129\": 1}, \"94\": {\"94\": 12}, \"50\": {\"50\": 10, \"60\": 1, \"78\": 1}, \"97\": {\"12\": 1, \"97\": 9, \"101\": 1, \"51\": 1}, \"115\": {\"60\": 1, \"115\": 11}, \"38\": {\"38\": 12}, \"43\": {\"43\": 11, \"129\": 1}, \"67\": {\"67\": 8}, \"18\": {\"18\": 10}, \"23\": {\"128\": 1, \"15\": 1, \"23\": 3, \"60\": 1, \"123\": 1, \"17\": 1, \"45\": 1, \"52\": 1}, \"63\": {\"63\": 12}, \"127\": {\"127\": 11, \"88\": 1}, \"72\": {\"72\": 12}, \"128\": {\"128\": 10, \"53\": 2}, \"7\": {\"7\": 12}, \"108\": {\"108\": 12}, \"16\": {\"16\": 12}, \"103\": {\"103\": 12}, \"86\": {\"86\": 11, \"34\": 1}, \"62\": {\"62\": 12}, \"34\": {\"34\": 9, \"86\": 1, \"37\": 2}, \"129\": {\"129\": 12}, \"52\": {\"52\": 12}, \"35\": {\"35\": 11, \"103\": 1}, \"40\": {\"40\": 12}, \"105\": {\"105\": 12}, \"101\": {\"101\": 12}, \"45\": {\"45\": 11, \"37\": 1}, \"30\": {\"128\": 1, \"30\": 9, \"69\": 1, \"19\": 1}, \"6\": {\"6\": 8}, \"13\": {\"13\": 12}, \"17\": {\"95\": 1, \"17\": 9, \"21\": 1, \"69\": 1}, \"29\": {\"29\": 12}, \"121\": {\"121\": 10, \"72\": 1, \"113\": 1}, \"32\": {\"110\": 1, \"32\": 5, \"28\": 2, \"8\": 2, \"60\": 1, \"64\": 1}, \"112\": {\"128\": 1, \"112\": 9, \"108\": 2}, \"110\": {\"110\": 11, \"55\": 1}, \"95\": {\"95\": 12}, \"92\": {\"92\": 10, \"35\": 1, \"31\": 1}, \"8\": {\"8\": 12}, \"22\": {\"22\": 12}, \"57\": {\"57\": 11, \"96\": 1}, \"77\": {\"77\": 10}, \"1\": {\"1\": 10}, \"116\": {\"116\": 10, \"82\": 1, \"90\": 1}, \"28\": {\"28\": 11, \"57\": 1}, \"68\": {\"68\": 12}, \"89\": {\"89\": 8}, \"119\": {\"119\": 11, \"50\": 1}, \"11\": {\"11\": 10, \"43\": 1, \"78\": 1}, \"46\": {\"46\": 12}, \"123\": {\"123\": 10, \"11\": 1, \"108\": 1}, \"33\": {\"33\": 12}, \"91\": {\"91\": 12}, \"83\": {\"83\": 9, \"93\": 1}, \"90\": {\"90\": 12}, \"79\": {\"79\": 11, \"91\": 1}, \"19\": {\"88\": 1, \"19\": 11}, \"81\": {\"81\": 7, \"4\": 1}, \"53\": {\"53\": 8}, \"71\": {\"71\": 11, \"88\": 1}, \"124\": {\"124\": 12}, \"88\": {\"88\": 12}, \"36\": {\"36\": 12}, \"78\": {\"16\": 1, \"78\": 7, \"68\": 1, \"21\": 1, \"1\": 1, \"14\": 1}, \"5\": {\"5\": 12}, \"61\": {\"126\": 1, \"61\": 11}, \"25\": {\"25\": 10, \"27\": 1, \"49\": 1}, \"64\": {\"64\": 12}, \"39\": {\"26\": 1, \"39\": 10, \"17\": 1}, \"37\": {\"37\": 10, \"78\": 1, \"21\": 1}, \"59\": {\"59\": 10}, \"125\": {\"125\": 12}, \"31\": {\"31\": 10, \"83\": 1, \"24\": 1}, \"54\": {\"54\": 12}, \"100\": {\"100\": 12}, \"98\": {\"98\": 12}, \"96\": {\"96\": 11, \"16\": 1}, \"24\": {\"24\": 11, \"51\": 1}, \"104\": {\"104\": 12}, \"48\": {\"48\": 11, \"51\": 1}, \"80\": {\"80\": 12}, \"58\": {\"58\": 12}, \"14\": {\"14\": 6}, \"27\": {\"27\": 10, \"88\": 1, \"24\": 1}, \"69\": {\"69\": 10, \"129\": 1, \"43\": 1}, \"99\": {\"99\": 12}, \"51\": {\"6\": 1, \"51\": 10, \"36\": 1}, \"75\": {\"75\": 8}, \"109\": {\"109\": 11, \"41\": 1}, \"70\": {\"70\": 11, \"43\": 1}, \"120\": {\"120\": 10, \"65\": 2}, \"42\": {\"42\": 12}, \"10\": {\"10\": 7, \"39\": 1, \"70\": 2, \"60\": 1, \"102\": 1}, \"0\": {\"0\": 10}, \"44\": {\"44\": 12}, \"93\": {\"93\": 12}, \"84\": {\"84\": 12}, \"114\": {\"114\": 12}, \"66\": {\"66\": 12}, \"65\": {\"65\": 10, \"120\": 2}, \"111\": {\"111\": 12}, \"74\": {\"74\": 8, \"108\": 1, \"32\": 1}, \"2\": {\"2\": 12}, \"107\": {\"107\": 8, \"110\": 1, \"36\": 1}, \"4\": {\"4\": 12}, \"118\": {\"118\": 10}}, \"C_A_1\": {\"27\": {\"27\": 10}, \"2\": {\"2\": 12}, \"33\": {\"33\": 12}, \"45\": {\"45\": 12}, \"38\": {\"38\": 12}, \"4\": {\"4\": 12}, \"31\": {\"31\": 12}, \"55\": {\"55\": 12}, \"32\": {\"55\": 1, \"32\": 11}, \"57\": {\"57\": 12}, \"14\": {\"30\": 1, \"14\": 11}, \"16\": {\"16\": 10}, \"34\": {\"34\": 8}, \"56\": {\"56\": 10, \"29\": 1, \"45\": 1}, \"24\": {\"24\": 9, \"22\": 1}, \"30\": {\"30\": 10}, \"26\": {\"26\": 12}, \"15\": {\"15\": 8}, \"18\": {\"18\": 12}, \"25\": {\"25\": 10}, \"54\": {\"54\": 10}, \"39\": {\"39\": 12}, \"12\": {\"12\": 12}, \"41\": {\"41\": 12}, \"52\": {\"52\": 10}, \"21\": {\"21\": 12}, \"47\": {\"47\": 12}, \"49\": {\"49\": 12}, \"19\": {\"19\": 12}, \"23\": {\"23\": 12}, \"37\": {\"37\": 12}, \"44\": {\"44\": 10}, \"22\": {\"22\": 7, \"10\": 1, \"24\": 2, \"21\": 2}, \"35\": {\"35\": 12}, \"7\": {\"7\": 12}, \"40\": {\"40\": 8}, \"6\": {\"6\": 11, \"5\": 1}, \"13\": {\"13\": 12}, \"11\": {\"11\": 12}, \"20\": {\"20\": 12}, \"8\": {\"8\": 6}, \"42\": {\"42\": 8}, \"29\": {\"29\": 10}, \"28\": {\"28\": 10}, \"17\": {\"17\": 12}, \"10\": {\"10\": 10}, \"46\": {\"46\": 11, \"50\": 1}, \"36\": {\"36\": 12}, \"43\": {\"43\": 10}, \"51\": {\"51\": 10}, \"3\": {\"3\": 10}, \"9\": {\"9\": 12}, \"50\": {\"50\": 12}, \"48\": {\"48\": 10}, \"0\": {\"0\": 12}, \"1\": {\"1\": 12}, \"5\": {\"5\": 9, \"6\": 1}, \"53\": {\"53\": 10}}, \"W_A_4\": {\"32\": {\"32\": 12}, \"22\": {\"22\": 10, \"89\": 2}, \"69\": {\"69\": 12}, \"65\": {\"65\": 12}, \"91\": {\"91\": 10}, \"63\": {\"63\": 11, \"81\": 1}, \"127\": {\"127\": 12}, \"11\": {\"88\": 4, \"11\": 6}, \"12\": {\"111\": 1, \"12\": 7, \"30\": 1, \"68\": 1}, \"111\": {\"111\": 12}, \"53\": {\"53\": 12}, \"73\": {\"88\": 2, \"73\": 9, \"108\": 1}, \"3\": {\"3\": 11, \"71\": 1}, \"83\": {\"83\": 12}, \"88\": {\"88\": 11, \"79\": 1}, \"87\": {\"87\": 9, \"4\": 1, \"105\": 2}, \"2\": {\"2\": 11, \"18\": 1}, \"86\": {\"86\": 12}, \"16\": {\"16\": 12}, \"21\": {\"21\": 12}, \"96\": {\"96\": 11, \"16\": 1}, \"100\": {\"100\": 12}, \"7\": {\"7\": 12}, \"75\": {\"75\": 12}, \"10\": {\"10\": 12}, \"43\": {\"43\": 10, \"1\": 2}, \"92\": {\"96\": 2, \"92\": 8, \"109\": 2}, \"62\": {\"62\": 12}, \"31\": {\"31\": 10, \"76\": 2}, \"0\": {\"0\": 12}, \"45\": {\"45\": 12}, \"85\": {\"85\": 12}, \"119\": {\"119\": 12}, \"46\": {\"46\": 12}, \"71\": {\"71\": 10, \"1\": 2}, \"8\": {\"8\": 10, \"60\": 1, \"129\": 1}, \"118\": {\"118\": 10, \"31\": 1, \"109\": 1}, \"1\": {\"1\": 12}, \"38\": {\"38\": 10, \"9\": 1, \"6\": 1}, \"30\": {\"30\": 12}, \"66\": {\"66\": 12}, \"9\": {\"9\": 12}, \"90\": {\"90\": 12}, \"72\": {\"72\": 12}, \"27\": {\"88\": 1, \"27\": 11}, \"17\": {\"17\": 12}, \"79\": {\"79\": 12}, \"25\": {\"25\": 12}, \"5\": {\"5\": 12}, \"57\": {\"57\": 12}, \"106\": {\"106\": 12}, \"80\": {\"80\": 12}, \"128\": {\"41\": 2, \"128\": 9, \"103\": 1}, \"19\": {\"19\": 9, \"80\": 1}, \"109\": {\"109\": 10, \"122\": 1, \"84\": 1}, \"68\": {\"68\": 12}, \"41\": {\"41\": 12}, \"129\": {\"129\": 10, \"126\": 2}, \"115\": {\"115\": 11, \"108\": 1}, \"76\": {\"76\": 11, \"31\": 1}, \"18\": {\"18\": 12}, \"4\": {\"4\": 12}, \"110\": {\"110\": 12}, \"56\": {\"56\": 12}, \"112\": {\"112\": 12}, \"126\": {\"126\": 9, \"78\": 1, \"39\": 1, \"23\": 1}, \"101\": {\"101\": 12}, \"59\": {\"59\": 12}, \"93\": {\"93\": 12}, \"99\": {\"99\": 12}, \"98\": {\"98\": 12}, \"67\": {\"99\": 2, \"57\": 1, \"67\": 6, \"16\": 2, \"65\": 1}, \"82\": {\"82\": 11, \"48\": 1}, \"103\": {\"103\": 11, \"129\": 1}, \"117\": {\"117\": 8}, \"123\": {\"123\": 12}, \"89\": {\"89\": 12}, \"34\": {\"34\": 9, \"57\": 1, \"6\": 1, \"110\": 1}, \"102\": {\"102\": 12}, \"6\": {\"6\": 7, \"34\": 1, \"77\": 2}, \"15\": {\"15\": 11, \"129\": 1}, \"81\": {\"81\": 12}, \"84\": {\"84\": 12}, \"60\": {\"60\": 10, \"78\": 1, \"70\": 1}, \"97\": {\"15\": 1, \"97\": 9, \"24\": 1, \"74\": 1}, \"78\": {\"78\": 10, \"60\": 1, \"43\": 1}, \"121\": {\"121\": 8, \"126\": 1, \"113\": 2, \"81\": 1}, \"55\": {\"55\": 12}, \"74\": {\"74\": 12}, \"77\": {\"77\": 12}, \"20\": {\"20\": 12}, \"125\": {\"125\": 10, \"35\": 1, \"21\": 1}, \"37\": {\"37\": 12}, \"14\": {\"14\": 11, \"19\": 1}, \"120\": {\"120\": 10, \"103\": 1, \"65\": 1}, \"40\": {\"40\": 11, \"110\": 1}, \"35\": {\"117\": 1, \"35\": 11}, \"70\": {\"70\": 11, \"27\": 1}, \"42\": {\"42\": 11, \"49\": 1}, \"105\": {\"105\": 12}, \"13\": {\"13\": 12}, \"58\": {\"58\": 12}, \"61\": {\"61\": 12}, \"29\": {\"29\": 12}, \"28\": {\"28\": 12}, \"36\": {\"36\": 11, \"24\": 1}, \"114\": {\"114\": 12}, \"44\": {\"44\": 11, \"81\": 1}, \"23\": {\"23\": 4, \"93\": 1, \"78\": 1, \"77\": 1, \"103\": 1, \"100\": 1, \"113\": 1, \"43\": 1, \"101\": 1}, \"116\": {\"116\": 12}, \"47\": {\"47\": 10, \"36\": 1, \"70\": 1}, \"122\": {\"122\": 10, \"97\": 1, \"93\": 1}, \"49\": {\"49\": 9, \"11\": 1}, \"52\": {\"52\": 12}, \"50\": {\"50\": 12}, \"48\": {\"48\": 11, \"43\": 1}, \"39\": {\"39\": 9, \"126\": 1, \"81\": 1, \"123\": 1}, \"95\": {\"95\": 12}, \"107\": {\"107\": 12}, \"24\": {\"24\": 10, \"97\": 1, \"36\": 1}, \"26\": {\"26\": 12}, \"124\": {\"124\": 10}, \"108\": {\"108\": 6, \"93\": 1, \"78\": 1, \"20\": 1, \"88\": 1, \"46\": 1, \"73\": 1}, \"113\": {\"34\": 1, \"113\": 9, \"33\": 1, \"128\": 1}, \"104\": {\"104\": 12}, \"64\": {\"64\": 12}, \"51\": {\"51\": 9, \"125\": 1}, \"94\": {\"94\": 8, \"97\": 1, \"54\": 1}, \"54\": {\"54\": 10}, \"33\": {\"33\": 12}}, \"W_A_1\": {\"68\": {\"68\": 12}, \"7\": {\"7\": 12}, \"125\": {\"125\": 12}, \"111\": {\"111\": 9, \"68\": 1, \"109\": 1, \"127\": 1}, \"101\": {\"101\": 12}, \"11\": {\"11\": 12}, \"76\": {\"76\": 11, \"69\": 1}, \"5\": {\"5\": 12}, \"123\": {\"123\": 12}, \"85\": {\"85\": 12}, \"34\": {\"34\": 6, \"77\": 1, \"51\": 1, \"116\": 1, \"14\": 1}, \"42\": {\"42\": 9, \"91\": 1}, \"81\": {\"81\": 12}, \"127\": {\"127\": 12}, \"60\": {\"42\": 2, \"60\": 4, \"11\": 3, \"116\": 1, \"114\": 1, \"45\": 1}, \"77\": {\"77\": 12}, \"65\": {\"65\": 10, \"57\": 2}, \"44\": {\"44\": 12}, \"100\": {\"100\": 12}, \"80\": {\"80\": 11, \"117\": 1}, \"83\": {\"83\": 11, \"14\": 1}, \"51\": {\"51\": 12}, \"93\": {\"93\": 8, \"78\": 1, \"43\": 1}, \"31\": {\"31\": 10, \"35\": 1, \"102\": 1}, \"33\": {\"33\": 12}, \"113\": {\"113\": 11, \"11\": 1}, \"126\": {\"126\": 12}, \"10\": {\"10\": 12}, \"21\": {\"21\": 10}, \"90\": {\"90\": 12}, \"14\": {\"14\": 12}, \"91\": {\"91\": 12}, \"69\": {\"69\": 12}, \"57\": {\"57\": 12}, \"89\": {\"89\": 12}, \"108\": {\"108\": 10}, \"102\": {\"102\": 12}, \"64\": {\"64\": 12}, \"119\": {\"119\": 12}, \"36\": {\"36\": 11, \"88\": 1}, \"104\": {\"104\": 11, \"102\": 1}, \"38\": {\"38\": 12}, \"19\": {\"19\": 12}, \"112\": {\"112\": 11, \"58\": 1}, \"3\": {\"3\": 12}, \"110\": {\"110\": 12}, \"78\": {\"78\": 12}, \"45\": {\"119\": 2, \"128\": 2, \"45\": 5, \"95\": 1, \"60\": 2}, \"82\": {\"82\": 12}, \"107\": {\"107\": 12}, \"114\": {\"114\": 12}, \"109\": {\"109\": 11, \"108\": 1}, \"79\": {\"79\": 12}, \"8\": {\"8\": 12}, \"50\": {\"50\": 12}, \"47\": {\"47\": 11, \"91\": 1}, \"99\": {\"99\": 12}, \"41\": {\"41\": 12}, \"103\": {\"103\": 12}, \"1\": {\"1\": 8}, \"22\": {\"22\": 11, \"116\": 1}, \"86\": {\"86\": 11, \"39\": 1}, \"72\": {\"72\": 12}, \"4\": {\"4\": 11, \"105\": 1}, \"98\": {\"98\": 12}, \"63\": {\"63\": 12}, \"0\": {\"0\": 12}, \"97\": {\"97\": 9, \"24\": 1, \"9\": 2}, \"35\": {\"35\": 10, \"122\": 1, \"23\": 1}, \"20\": {\"31\": 1, \"20\": 8, \"104\": 1}, \"58\": {\"58\": 11, \"52\": 1}, \"117\": {\"117\": 12}, \"30\": {\"30\": 12}, \"32\": {\"32\": 12}, \"18\": {\"18\": 11, \"13\": 1}, \"71\": {\"71\": 12}, \"56\": {\"56\": 12}, \"29\": {\"29\": 12}, \"46\": {\"46\": 5, \"94\": 2, \"98\": 1, \"19\": 2, \"71\": 1, \"111\": 1}, \"17\": {\"123\": 1, \"17\": 11}, \"94\": {\"94\": 12}, \"27\": {\"27\": 9, \"122\": 1, \"94\": 1, \"82\": 1}, \"62\": {\"62\": 12}, \"118\": {\"118\": 12}, \"67\": {\"67\": 12}, \"84\": {\"84\": 12}, \"37\": {\"37\": 12}, \"12\": {\"12\": 12}, \"92\": {\"92\": 12}, \"129\": {\"129\": 8, \"18\": 1, \"13\": 2, \"39\": 1}, \"48\": {\"48\": 12}, \"75\": {\"75\": 12}, \"55\": {\"55\": 12}, \"25\": {\"78\": 1, \"25\": 10, \"99\": 1}, \"2\": {\"2\": 10, \"45\": 2}, \"53\": {\"53\": 12}, \"95\": {\"95\": 11, \"13\": 1}, \"88\": {\"88\": 12}, \"70\": {\"70\": 11, \"129\": 1}, \"13\": {\"13\": 12}, \"121\": {\"121\": 12}, \"124\": {\"124\": 11, \"47\": 1}, \"87\": {\"87\": 11, \"43\": 1}, \"73\": {\"73\": 12}, \"6\": {\"6\": 10, \"59\": 1, \"34\": 1}, \"40\": {\"40\": 11, \"105\": 1}, \"59\": {\"59\": 12}, \"122\": {\"122\": 11, \"43\": 1}, \"24\": {\"24\": 12}, \"54\": {\"54\": 11, \"77\": 1}, \"39\": {\"39\": 12}, \"16\": {\"16\": 12}, \"106\": {\"106\": 12}, \"15\": {\"15\": 11, \"94\": 1}, \"66\": {\"66\": 12}, \"116\": {\"116\": 8, \"57\": 1, \"22\": 2, \"21\": 1}, \"49\": {\"49\": 8, \"46\": 3, \"111\": 1}, \"120\": {\"120\": 11, \"114\": 1}, \"115\": {\"115\": 12}, \"9\": {\"9\": 10}, \"96\": {\"96\": 10}, \"26\": {\"26\": 12}, \"74\": {\"74\": 10}, \"43\": {\"43\": 12}, \"128\": {\"128\": 11, \"125\": 1}, \"52\": {\"52\": 12}, \"28\": {\"28\": 7, \"61\": 2, \"49\": 1, \"48\": 2}, \"61\": {\"61\": 10, \"2\": 1, \"11\": 1}, \"105\": {\"105\": 10, \"40\": 1, \"4\": 1}, \"23\": {\"115\": 2, \"105\": 1, \"23\": 3, \"49\": 1, \"32\": 1, \"45\": 1, \"75\": 1}}, \"C_A_4\": {\"32\": {\"32\": 10}, \"2\": {\"2\": 12}, \"41\": {\"41\": 12}, \"11\": {\"11\": 12}, \"57\": {\"57\": 10}, \"6\": {\"6\": 12}, \"23\": {\"23\": 12}, \"52\": {\"52\": 12}, \"38\": {\"38\": 10}, \"50\": {\"50\": 12}, \"55\": {\"55\": 12}, \"46\": {\"46\": 9, \"11\": 3}, \"37\": {\"37\": 12}, \"20\": {\"20\": 12}, \"49\": {\"49\": 12}, \"45\": {\"45\": 12}, \"54\": {\"54\": 12}, \"3\": {\"3\": 12}, \"13\": {\"13\": 11, \"24\": 1}, \"18\": {\"18\": 12}, \"21\": {\"21\": 12}, \"43\": {\"43\": 12}, \"47\": {\"47\": 12}, \"4\": {\"4\": 12}, \"12\": {\"12\": 8}, \"9\": {\"9\": 12}, \"7\": {\"7\": 10}, \"56\": {\"56\": 12}, \"28\": {\"28\": 10}, \"44\": {\"44\": 12}, \"24\": {\"24\": 11, \"5\": 1}, \"33\": {\"33\": 10}, \"14\": {\"5\": 1, \"14\": 9, \"56\": 1, \"1\": 1}, \"25\": {\"25\": 12}, \"26\": {\"26\": 12}, \"5\": {\"5\": 9, \"28\": 2, \"53\": 1}, \"17\": {\"17\": 10}, \"31\": {\"31\": 12}, \"8\": {\"8\": 8}, \"35\": {\"35\": 6}, \"15\": {\"15\": 6}, \"19\": {\"19\": 12}, \"22\": {\"22\": 10}, \"34\": {\"34\": 12}, \"36\": {\"36\": 12}, \"51\": {\"51\": 12}, \"10\": {\"10\": 10}, \"0\": {\"0\": 12}, \"53\": {\"53\": 10}, \"29\": {\"29\": 12}, \"27\": {\"27\": 12}, \"39\": {\"39\": 10}, \"30\": {\"30\": 9, \"51\": 1, \"21\": 1, \"50\": 1}, \"48\": {\"48\": 10}, \"42\": {\"42\": 8}, \"16\": {\"16\": 10}, \"1\": {\"1\": 10}, \"40\": {\"40\": 8}}, \"W_A_3\": {\"76\": {\"76\": 10, \"121\": 1, \"86\": 1}, \"6\": {\"6\": 10}, \"108\": {\"108\": 12}, \"29\": {\"29\": 12}, \"83\": {\"83\": 12}, \"18\": {\"18\": 12}, \"54\": {\"54\": 10, \"110\": 1, \"117\": 1}, \"15\": {\"15\": 11, \"125\": 1}, \"100\": {\"100\": 12}, \"90\": {\"90\": 12}, \"26\": {\"26\": 10, \"92\": 1, \"110\": 1}, \"115\": {\"115\": 11, \"45\": 1}, \"94\": {\"94\": 12}, \"46\": {\"46\": 11, \"110\": 1}, \"121\": {\"121\": 8, \"16\": 2}, \"109\": {\"109\": 11, \"76\": 1}, \"101\": {\"101\": 12}, \"99\": {\"99\": 12}, \"8\": {\"8\": 12}, \"102\": {\"102\": 12}, \"122\": {\"122\": 10, \"87\": 1, \"13\": 1}, \"36\": {\"36\": 12}, \"113\": {\"113\": 10, \"63\": 1, \"60\": 1}, \"123\": {\"123\": 12}, \"120\": {\"120\": 12}, \"125\": {\"125\": 10}, \"89\": {\"89\": 12}, \"9\": {\"9\": 12}, \"31\": {\"31\": 10, \"90\": 2}, \"62\": {\"62\": 12}, \"49\": {\"49\": 11, \"47\": 1}, \"23\": {\"117\": 2, \"23\": 4, \"39\": 1, \"128\": 1, \"48\": 1, \"17\": 1, \"16\": 1, \"110\": 1}, \"55\": {\"55\": 12}, \"128\": {\"29\": 1, \"128\": 10, \"99\": 1}, \"71\": {\"71\": 12}, \"51\": {\"51\": 10}, \"7\": {\"7\": 12}, \"117\": {\"117\": 12}, \"28\": {\"28\": 11, \"11\": 1}, \"127\": {\"127\": 12}, \"57\": {\"57\": 11, \"32\": 1}, \"78\": {\"78\": 9, \"122\": 2, \"71\": 1}, \"87\": {\"87\": 12}, \"40\": {\"40\": 12}, \"81\": {\"81\": 12}, \"2\": {\"2\": 11, \"23\": 1}, \"58\": {\"58\": 12}, \"68\": {\"68\": 10, \"112\": 1, \"110\": 1}, \"20\": {\"20\": 12}, \"35\": {\"68\": 1, \"35\": 10, \"23\": 1}, \"96\": {\"96\": 12}, \"84\": {\"84\": 12}, \"88\": {\"88\": 7, \"85\": 1, \"53\": 1, \"117\": 2, \"49\": 1}, \"114\": {\"114\": 12}, \"103\": {\"103\": 12}, \"5\": {\"5\": 12}, \"85\": {\"85\": 12}, \"65\": {\"65\": 12}, \"13\": {\"13\": 9, \"22\": 1, \"92\": 2}, \"64\": {\"64\": 12}, \"119\": {\"119\": 12}, \"116\": {\"116\": 7, \"65\": 1}, \"112\": {\"65\": 2, \"112\": 8, \"17\": 1, \"73\": 1}, \"86\": {\"86\": 12}, \"98\": {\"98\": 12}, \"69\": {\"69\": 12}, \"67\": {\"67\": 11, \"17\": 1}, \"32\": {\"32\": 12}, \"91\": {\"91\": 12}, \"17\": {\"67\": 2, \"17\": 8, \"35\": 1, \"21\": 1}, \"37\": {\"37\": 12}, \"95\": {\"95\": 12}, \"59\": {\"59\": 12}, \"34\": {\"34\": 10, \"115\": 1, \"122\": 1}, \"52\": {\"52\": 11, \"125\": 1}, \"1\": {\"1\": 11, \"114\": 1}, \"16\": {\"16\": 11, \"110\": 1}, \"79\": {\"79\": 12}, \"53\": {\"53\": 12}, \"106\": {\"106\": 12}, \"33\": {\"33\": 12}, \"104\": {\"104\": 12}, \"14\": {\"14\": 12}, \"11\": {\"11\": 10}, \"0\": {\"0\": 12}, \"25\": {\"25\": 12}, \"22\": {\"22\": 12}, \"75\": {\"75\": 12}, \"105\": {\"105\": 11, \"102\": 1}, \"45\": {\"45\": 12}, \"92\": {\"92\": 10, \"110\": 2}, \"39\": {\"39\": 11, \"126\": 1}, \"93\": {\"93\": 12}, \"97\": {\"97\": 9, \"12\": 1, \"30\": 2}, \"73\": {\"73\": 9, \"112\": 1, \"44\": 1, \"97\": 1}, \"30\": {\"30\": 12}, \"38\": {\"38\": 11, \"52\": 1}, \"3\": {\"3\": 12}, \"110\": {\"110\": 10, \"70\": 2}, \"60\": {\"60\": 11, \"110\": 1}, \"111\": {\"111\": 12}, \"41\": {\"41\": 12}, \"21\": {\"21\": 12}, \"129\": {\"129\": 12}, \"70\": {\"70\": 9, \"8\": 2, \"110\": 1}, \"66\": {\"66\": 12}, \"107\": {\"107\": 12}, \"74\": {\"74\": 12}, \"48\": {\"48\": 10, \"23\": 1, \"16\": 1}, \"50\": {\"50\": 12}, \"44\": {\"44\": 11, \"29\": 1}, \"42\": {\"42\": 12}, \"80\": {\"80\": 10}, \"72\": {\"72\": 12}, \"43\": {\"43\": 11, \"13\": 1}, \"77\": {\"77\": 12}, \"61\": {\"61\": 11, \"117\": 1}, \"126\": {\"126\": 11, \"63\": 1}, \"27\": {\"27\": 10}, \"24\": {\"24\": 9, \"27\": 1, \"54\": 2}, \"47\": {\"47\": 12}, \"19\": {\"19\": 11, \"124\": 1}, \"4\": {\"4\": 8, \"40\": 2}, \"82\": {\"82\": 10, \"61\": 1, \"89\": 1}, \"12\": {\"12\": 12}, \"10\": {\"10\": 11, \"35\": 1}, \"63\": {\"63\": 12}, \"56\": {\"56\": 12}, \"124\": {\"124\": 10}, \"118\": {\"118\": 10}}, \"C_A_3\": {\"3\": {\"25\": 1, \"8\": 1, \"3\": 5, \"50\": 1}, \"21\": {\"21\": 12}, \"7\": {\"7\": 12}, \"30\": {\"30\": 12}, \"54\": {\"54\": 12}, \"6\": {\"6\": 8, \"48\": 1, \"2\": 2, \"41\": 1}, \"17\": {\"17\": 10}, \"8\": {\"8\": 12}, \"9\": {\"9\": 12}, \"19\": {\"19\": 12}, \"44\": {\"44\": 6}, \"25\": {\"25\": 12}, \"15\": {\"15\": 12}, \"1\": {\"1\": 10}, \"13\": {\"13\": 12}, \"40\": {\"40\": 9, \"4\": 1}, \"43\": {\"43\": 10}, \"38\": {\"38\": 12}, \"4\": {\"4\": 12}, \"41\": {\"41\": 11, \"2\": 1}, \"27\": {\"27\": 12}, \"50\": {\"50\": 11, \"46\": 1}, \"55\": {\"55\": 12}, \"20\": {\"20\": 12}, \"37\": {\"37\": 12}, \"53\": {\"53\": 8}, \"0\": {\"0\": 12}, \"34\": {\"34\": 12}, \"16\": {\"16\": 12}, \"12\": {\"12\": 10}, \"46\": {\"46\": 12}, \"32\": {\"32\": 12}, \"33\": {\"33\": 12}, \"26\": {\"26\": 10}, \"11\": {\"11\": 11, \"15\": 1}, \"45\": {\"45\": 11, \"6\": 1}, \"2\": {\"2\": 10}, \"10\": {\"10\": 10}, \"14\": {\"14\": 10}, \"24\": {\"24\": 12}, \"22\": {\"22\": 8}, \"52\": {\"52\": 12}, \"29\": {\"29\": 12}, \"51\": {\"51\": 12}, \"28\": {\"28\": 12}, \"23\": {\"23\": 12}, \"48\": {\"48\": 10}, \"35\": {\"35\": 12}, \"56\": {\"56\": 10}, \"18\": {\"18\": 12}, \"5\": {\"5\": 12}, \"42\": {\"42\": 10}, \"49\": {\"49\": 10}, \"36\": {\"36\": 10}, \"39\": {\"39\": 10}, \"57\": {\"57\": 8}, \"47\": {\"47\": 10}, \"31\": {\"31\": 10}}, \"ORACLE.run1_8\": {\"13\": {\"5\": 28, \"4\": 29, \"7\": 25, \"10\": 35, \"6\": 12, \"0\": 28, \"3\": 3, \"11\": 5, \"14\": 25, \"1\": 9, \"13\": 21, \"2\": 15, \"8\": 3, \"15\": 1, \"12\": 1}, \"9\": {\"7\": 1, \"14\": 5, \"9\": 212, \"5\": 13, \"4\": 1, \"0\": 3, \"10\": 5}, \"15\": {\"6\": 13, \"8\": 40, \"3\": 27, \"12\": 43, \"1\": 10, \"11\": 27, \"15\": 44, \"4\": 3, \"7\": 8, \"0\": 5, \"2\": 8, \"13\": 5, \"10\": 2, \"14\": 4, \"5\": 1}, \"2\": {\"6\": 19, \"13\": 11, \"2\": 41, \"4\": 19, \"10\": 8, \"14\": 12, \"7\": 31, \"3\": 38, \"0\": 24, \"11\": 3, \"1\": 6, \"12\": 12, \"15\": 6, \"8\": 7, \"5\": 3}, \"3\": {\"3\": 50, \"12\": 20, \"6\": 12, \"11\": 9, \"15\": 21, \"8\": 23, \"2\": 37, \"5\": 1, \"7\": 20, \"4\": 9, \"0\": 8, \"10\": 2, \"1\": 6, \"14\": 13, \"13\": 9}, \"8\": {\"12\": 35, \"3\": 29, \"8\": 44, \"11\": 19, \"15\": 29, \"4\": 6, \"13\": 6, \"6\": 13, \"14\": 11, \"1\": 24, \"7\": 9, \"2\": 6, \"5\": 1, \"10\": 4, \"0\": 4}, \"5\": {\"11\": 12, \"5\": 43, \"4\": 31, \"7\": 14, \"6\": 19, \"13\": 19, \"0\": 24, \"10\": 31, \"14\": 20, \"1\": 20, \"2\": 2, \"9\": 2, \"8\": 1, \"15\": 1, \"3\": 1}, \"14\": {\"0\": 27, \"7\": 20, \"14\": 27, \"6\": 19, \"5\": 26, \"13\": 20, \"11\": 10, \"2\": 10, \"4\": 28, \"15\": 3, \"1\": 18, \"10\": 20, \"12\": 2, \"8\": 5, \"3\": 5}, \"1\": {\"5\": 21, \"15\": 12, \"11\": 36, \"6\": 27, \"12\": 9, \"1\": 33, \"4\": 23, \"10\": 11, \"8\": 11, \"13\": 16, \"7\": 12, \"14\": 20, \"0\": 5, \"3\": 2, \"2\": 2}, \"0\": {\"7\": 22, \"0\": 44, \"5\": 14, \"10\": 30, \"6\": 22, \"4\": 19, \"14\": 28, \"13\": 28, \"2\": 18, \"1\": 7, \"11\": 4, \"3\": 3, \"8\": 1}, \"10\": {\"10\": 41, \"4\": 30, \"11\": 8, \"1\": 19, \"7\": 20, \"8\": 4, \"13\": 23, \"0\": 28, \"2\": 5, \"5\": 20, \"14\": 30, \"6\": 11, \"3\": 1}, \"6\": {\"1\": 27, \"14\": 17, \"11\": 12, \"6\": 29, \"13\": 12, \"8\": 5, \"15\": 7, \"7\": 24, \"5\": 12, \"4\": 28, \"10\": 19, \"0\": 20, \"3\": 13, \"2\": 11, \"12\": 4}, \"11\": {\"8\": 19, \"12\": 12, \"1\": 41, \"14\": 14, \"11\": 46, \"6\": 16, \"3\": 4, \"4\": 8, \"5\": 21, \"15\": 25, \"10\": 8, \"2\": 5, \"0\": 10, \"7\": 4, \"13\": 7}, \"7\": {\"6\": 19, \"13\": 27, \"4\": 23, \"10\": 23, \"0\": 30, \"14\": 15, \"3\": 15, \"1\": 16, \"8\": 15, \"7\": 16, \"15\": 2, \"2\": 17, \"5\": 11, \"11\": 7, \"12\": 4}, \"4\": {\"7\": 26, \"10\": 22, \"11\": 16, \"1\": 21, \"15\": 4, \"3\": 5, \"0\": 18, \"13\": 23, \"14\": 23, \"2\": 9, \"6\": 26, \"4\": 24, \"8\": 7, \"5\": 16}, \"12\": {\"15\": 46, \"12\": 58, \"8\": 48, \"6\": 11, \"3\": 23, \"4\": 4, \"11\": 15, \"1\": 7, \"7\": 7, \"14\": 5, \"2\": 13, \"0\": 3}}, \"ORACLE.run1_38\": {\"13\": {\"8\": 18, \"2\": 43, \"1\": 34, \"15\": 39, \"5\": 8, \"10\": 15, \"14\": 7, \"13\": 43, \"9\": 17, \"6\": 8, \"0\": 2, \"11\": 3, \"7\": 2, \"3\": 1}, \"12\": {\"12\": 115, \"4\": 73, \"0\": 14, \"7\": 14, \"11\": 5, \"10\": 8, \"2\": 1, \"14\": 8, \"8\": 1, \"3\": 1}, \"2\": {\"2\": 77, \"1\": 15, \"13\": 46, \"15\": 37, \"14\": 23, \"10\": 15, \"11\": 11, \"8\": 5, \"6\": 2, \"5\": 1, \"9\": 4, \"0\": 2, \"3\": 2}, \"9\": {\"8\": 17, \"10\": 2, \"13\": 14, \"1\": 24, \"9\": 56, \"5\": 21, \"6\": 64, \"15\": 7, \"0\": 11, \"7\": 6, \"3\": 16, \"2\": 2}, \"15\": {\"15\": 47, \"2\": 26, \"13\": 43, \"0\": 4, \"8\": 21, \"5\": 18, \"6\": 19, \"14\": 6, \"1\": 32, \"10\": 15, \"11\": 1, \"3\": 1, \"9\": 5, \"7\": 2}, \"5\": {\"10\": 25, \"5\": 38, \"1\": 13, \"7\": 18, \"2\": 2, \"8\": 28, \"0\": 28, \"9\": 16, \"6\": 18, \"3\": 17, \"14\": 3, \"13\": 16, \"15\": 16, \"11\": 1, \"12\": 1}, \"14\": {\"11\": 43, \"10\": 39, \"14\": 84, \"7\": 10, \"2\": 25, \"12\": 8, \"13\": 1, \"0\": 9, \"15\": 7, \"5\": 3, \"8\": 7, \"4\": 4}, \"0\": {\"10\": 30, \"7\": 48, \"1\": 5, \"12\": 9, \"9\": 7, \"8\": 33, \"5\": 16, \"0\": 50, \"6\": 5, \"13\": 6, \"4\": 3, \"3\": 16, \"14\": 7, \"15\": 4, \"11\": 1}, \"3\": {\"5\": 22, \"3\": 83, \"7\": 25, \"8\": 30, \"9\": 23, \"6\": 10, \"0\": 35, \"13\": 4, \"12\": 2, \"10\": 1, \"1\": 3, \"15\": 2}, \"1\": {\"1\": 82, \"6\": 31, \"9\": 25, \"15\": 38, \"5\": 6, \"2\": 15, \"8\": 7, \"13\": 29, \"10\": 4, \"0\": 3}, \"11\": {\"12\": 17, \"14\": 59, \"4\": 13, \"11\": 106, \"15\": 5, \"3\": 1, \"2\": 10, \"10\": 14, \"0\": 2, \"7\": 2, \"13\": 5, \"1\": 2, \"8\": 3, \"5\": 1}, \"7\": {\"7\": 61, \"0\": 36, \"12\": 21, \"8\": 26, \"4\": 4, \"10\": 28, \"9\": 7, \"3\": 15, \"14\": 5, \"5\": 22, \"13\": 3, \"11\": 2, \"6\": 4, \"15\": 5, \"2\": 1}, \"8\": {\"10\": 24, \"9\": 15, \"15\": 24, \"7\": 24, \"5\": 33, \"0\": 26, \"3\": 12, \"8\": 32, \"6\": 13, \"2\": 7, \"12\": 3, \"1\": 10, \"13\": 10, \"11\": 3, \"14\": 4}, \"4\": {\"4\": 158, \"12\": 67, \"7\": 5, \"14\": 2, \"10\": 2, \"11\": 2, \"0\": 3, \"3\": 1}, \"10\": {\"14\": 29, \"10\": 46, \"7\": 25, \"11\": 14, \"8\": 23, \"15\": 19, \"12\": 10, \"2\": 12, \"5\": 12, \"0\": 14, \"9\": 5, \"3\": 12, \"4\": 1, \"1\": 4, \"13\": 13, \"6\": 1}, \"6\": {\"9\": 47, \"1\": 35, \"5\": 31, \"15\": 27, \"0\": 10, \"10\": 3, \"8\": 9, \"6\": 66, \"13\": 4, \"7\": 4, \"3\": 3, \"2\": 1}}, \"ORACLE.run1_26\": {\"10\": {\"7\": 21, \"15\": 18, \"4\": 29, \"14\": 28, \"12\": 1, \"6\": 17, \"2\": 12, \"10\": 19, \"0\": 28, \"9\": 12, \"8\": 24, \"1\": 16, \"5\": 6, \"13\": 3, \"3\": 6}, \"12\": {\"12\": 82, \"14\": 4, \"3\": 5, \"6\": 13, \"8\": 9, \"15\": 16, \"10\": 9, \"11\": 13, \"13\": 29, \"4\": 3, \"0\": 3, \"7\": 7, \"5\": 13, \"9\": 26, \"1\": 3, \"2\": 5}, \"1\": {\"12\": 2, \"1\": 35, \"14\": 25, \"4\": 24, \"8\": 19, \"0\": 28, \"6\": 16, \"15\": 5, \"3\": 21, \"7\": 28, \"10\": 20, \"9\": 9, \"13\": 1, \"2\": 5, \"5\": 2}, \"0\": {\"2\": 10, \"4\": 30, \"0\": 28, \"10\": 21, \"6\": 16, \"7\": 15, \"9\": 12, \"15\": 10, \"1\": 27, \"14\": 35, \"8\": 14, \"3\": 13, \"13\": 4, \"12\": 2, \"5\": 3}, \"15\": {\"8\": 29, \"6\": 21, \"14\": 10, \"5\": 12, \"12\": 4, \"15\": 31, \"13\": 14, \"1\": 13, \"0\": 14, \"3\": 18, \"2\": 22, \"9\": 15, \"10\": 15, \"4\": 9, \"7\": 13}, \"13\": {\"13\": 61, \"12\": 15, \"6\": 8, \"2\": 17, \"15\": 17, \"5\": 57, \"9\": 26, \"11\": 13, \"10\": 3, \"4\": 2, \"7\": 1, \"8\": 7, \"3\": 9, \"1\": 1, \"14\": 2, \"0\": 1}, \"8\": {\"2\": 14, \"6\": 22, \"5\": 10, \"7\": 24, \"4\": 15, \"15\": 21, \"10\": 29, \"8\": 21, \"14\": 16, \"1\": 16, \"9\": 9, \"3\": 13, \"12\": 7, \"0\": 18, \"13\": 5}, \"3\": {\"14\": 13, \"2\": 27, \"3\": 32, \"8\": 18, \"6\": 17, \"4\": 17, \"1\": 22, \"9\": 14, \"10\": 11, \"15\": 13, \"13\": 11, \"12\": 2, \"0\": 9, \"5\": 12, \"7\": 22}, \"11\": {\"11\": 153, \"15\": 2, \"5\": 15, \"6\": 4, \"13\": 23, \"12\": 38, \"9\": 3, \"2\": 2}, \"4\": {\"6\": 12, \"15\": 9, \"10\": 20, \"14\": 31, \"8\": 18, \"7\": 25, \"0\": 32, \"5\": 3, \"1\": 18, \"2\": 13, \"4\": 34, \"9\": 7, \"3\": 16, \"13\": 1, \"12\": 1}, \"6\": {\"14\": 16, \"8\": 24, \"4\": 12, \"6\": 28, \"0\": 14, \"5\": 18, \"9\": 16, \"2\": 25, \"1\": 12, \"3\": 9, \"10\": 14, \"7\": 9, \"15\": 23, \"12\": 9, \"13\": 11}, \"7\": {\"4\": 26, \"3\": 23, \"1\": 23, \"14\": 25, \"5\": 10, \"10\": 20, \"8\": 21, \"7\": 18, \"2\": 14, \"9\": 18, \"13\": 4, \"0\": 17, \"15\": 16, \"6\": 5}, \"14\": {\"3\": 13, \"10\": 22, \"0\": 42, \"7\": 22, \"4\": 29, \"9\": 9, \"8\": 19, \"14\": 26, \"1\": 31, \"15\": 7, \"6\": 10, \"2\": 7, \"13\": 2, \"5\": 1}, \"2\": {\"9\": 15, \"13\": 24, \"2\": 25, \"1\": 10, \"5\": 26, \"8\": 14, \"15\": 23, \"6\": 24, \"3\": 18, \"10\": 16, \"14\": 12, \"12\": 1, \"4\": 15, \"0\": 4, \"7\": 13}, \"5\": {\"1\": 2, \"14\": 3, \"8\": 11, \"6\": 15, \"5\": 44, \"15\": 22, \"13\": 58, \"12\": 15, \"10\": 6, \"9\": 24, \"2\": 19, \"7\": 3, \"3\": 11, \"4\": 2, \"11\": 2, \"0\": 3}, \"9\": {\"14\": 6, \"13\": 22, \"6\": 28, \"0\": 6, \"2\": 20, \"5\": 18, \"9\": 35, \"7\": 9, \"3\": 16, \"10\": 15, \"1\": 4, \"8\": 20, \"15\": 19, \"12\": 9, \"4\": 13}}, \"ORACLE.run1_20\": {\"5\": {\"4\": 11, \"5\": 18, \"12\": 25, \"11\": 11, \"0\": 21, \"2\": 25, \"1\": 21, \"3\": 16, \"7\": 15, \"9\": 26, \"10\": 9, \"6\": 5, \"15\": 13, \"8\": 7, \"13\": 14, \"14\": 3}, \"15\": {\"15\": 23, \"13\": 31, \"12\": 20, \"5\": 16, \"1\": 29, \"9\": 20, \"7\": 19, \"0\": 21, \"2\": 18, \"3\": 13, \"14\": 1, \"4\": 9, \"6\": 3, \"8\": 5, \"11\": 9, \"10\": 3}, \"9\": {\"0\": 21, \"15\": 25, \"11\": 14, \"9\": 18, \"13\": 17, \"4\": 10, \"12\": 19, \"2\": 19, \"5\": 19, \"3\": 23, \"1\": 19, \"7\": 20, \"14\": 3, \"8\": 5, \"6\": 2, \"10\": 6}, \"7\": {\"5\": 15, \"6\": 10, \"12\": 28, \"0\": 10, \"11\": 13, \"3\": 24, \"4\": 17, \"7\": 20, \"10\": 12, \"15\": 8, \"1\": 15, \"8\": 18, \"2\": 14, \"9\": 17, \"13\": 11, \"14\": 8}, \"3\": {\"4\": 15, \"0\": 18, \"8\": 11, \"9\": 15, \"2\": 25, \"5\": 24, \"3\": 14, \"7\": 21, \"6\": 7, \"15\": 15, \"1\": 21, \"10\": 9, \"11\": 9, \"13\": 11, \"14\": 7, \"12\": 18}, \"8\": {\"12\": 8, \"14\": 36, \"5\": 11, \"8\": 23, \"3\": 12, \"6\": 32, \"7\": 18, \"10\": 31, \"4\": 28, \"0\": 12, \"2\": 7, \"11\": 6, \"9\": 6, \"1\": 5, \"13\": 4, \"15\": 1}, \"4\": {\"4\": 32, \"6\": 25, \"15\": 6, \"5\": 11, \"0\": 16, \"3\": 17, \"7\": 15, \"10\": 41, \"8\": 22, \"14\": 18, \"12\": 11, \"9\": 10, \"2\": 5, \"13\": 4, \"11\": 2, \"1\": 5}, \"6\": {\"3\": 8, \"6\": 39, \"7\": 15, \"4\": 23, \"8\": 41, \"10\": 37, \"14\": 36, \"1\": 2, \"5\": 6, \"11\": 2, \"0\": 6, \"9\": 4, \"12\": 4, \"15\": 3, \"2\": 12, \"13\": 2}, \"2\": {\"0\": 13, \"11\": 18, \"4\": 8, \"1\": 23, \"3\": 17, \"5\": 25, \"9\": 16, \"15\": 19, \"2\": 27, \"13\": 31, \"12\": 25, \"7\": 6, \"8\": 8, \"10\": 2, \"6\": 2}, \"12\": {\"1\": 22, \"13\": 22, \"9\": 30, \"8\": 6, \"3\": 20, \"12\": 21, \"0\": 28, \"15\": 17, \"5\": 20, \"7\": 13, \"2\": 19, \"11\": 6, \"4\": 10, \"10\": 4, \"14\": 1, \"6\": 1}, \"0\": {\"5\": 18, \"9\": 22, \"14\": 5, \"15\": 11, \"2\": 21, \"13\": 17, \"7\": 20, \"11\": 19, \"0\": 17, \"4\": 11, \"1\": 19, \"12\": 25, \"8\": 11, \"10\": 5, \"6\": 3, \"3\": 16}, \"13\": {\"15\": 24, \"12\": 20, \"9\": 20, \"11\": 21, \"2\": 21, \"13\": 48, \"3\": 17, \"7\": 5, \"0\": 11, \"4\": 4, \"1\": 29, \"5\": 16, \"8\": 2, \"10\": 2}, \"10\": {\"4\": 40, \"8\": 31, \"6\": 27, \"9\": 6, \"10\": 35, \"5\": 8, \"14\": 39, \"0\": 6, \"15\": 3, \"3\": 13, \"7\": 11, \"12\": 13, \"13\": 1, \"2\": 2, \"1\": 4, \"11\": 1}, \"11\": {\"13\": 28, \"11\": 64, \"5\": 15, \"3\": 9, \"0\": 10, \"9\": 27, \"1\": 17, \"7\": 14, \"12\": 15, \"2\": 24, \"8\": 4, \"15\": 9, \"6\": 2, \"4\": 1, \"10\": 1}, \"14\": {\"10\": 35, \"8\": 35, \"4\": 27, \"7\": 16, \"6\": 49, \"14\": 58, \"12\": 5, \"0\": 5, \"3\": 4, \"13\": 1, \"15\": 1, \"2\": 1, \"9\": 1, \"11\": 1, \"5\": 1}, \"1\": {\"12\": 26, \"7\": 15, \"5\": 19, \"4\": 8, \"15\": 29, \"0\": 20, \"9\": 11, \"2\": 20, \"1\": 24, \"11\": 16, \"13\": 21, \"3\": 24, \"6\": 2, \"10\": 4, \"14\": 1}}, \"ORACLE.run1_50\": {\"1\": {\"2\": 4, \"4\": 35, \"14\": 10, \"1\": 36, \"15\": 25, \"9\": 21, \"6\": 30, \"11\": 22, \"7\": 10, \"13\": 19, \"5\": 10, \"12\": 11, \"10\": 4, \"0\": 3}, \"2\": {\"2\": 107, \"1\": 3, \"14\": 24, \"10\": 19, \"12\": 14, \"0\": 55, \"8\": 12, \"13\": 5, \"3\": 1}, \"8\": {\"8\": 89, \"0\": 29, \"13\": 3, \"3\": 47, \"10\": 39, \"2\": 21, \"7\": 5, \"14\": 2, \"5\": 5}, \"7\": {\"10\": 15, \"5\": 44, \"13\": 45, \"7\": 51, \"6\": 22, \"2\": 3, \"14\": 5, \"0\": 9, \"12\": 3, \"3\": 1, \"1\": 13, \"15\": 9, \"4\": 14, \"11\": 3, \"9\": 2, \"8\": 1}, \"14\": {\"14\": 68, \"1\": 21, \"2\": 18, \"12\": 54, \"9\": 20, \"11\": 19, \"13\": 4, \"4\": 4, \"5\": 6, \"10\": 8, \"6\": 6, \"0\": 11, \"7\": 1}, \"6\": {\"6\": 26, \"15\": 36, \"7\": 22, \"1\": 34, \"5\": 27, \"13\": 18, \"14\": 15, \"4\": 21, \"11\": 18, \"12\": 8, \"10\": 8, \"2\": 1, \"0\": 3, \"9\": 3}, \"3\": {\"5\": 9, \"3\": 129, \"10\": 23, \"7\": 8, \"0\": 6, \"8\": 56, \"6\": 1, \"13\": 4, \"2\": 3, \"4\": 1}, \"4\": {\"4\": 33, \"7\": 19, \"11\": 20, \"9\": 14, \"15\": 27, \"1\": 35, \"6\": 26, \"2\": 1, \"0\": 5, \"14\": 5, \"5\": 23, \"13\": 23, \"10\": 6, \"12\": 2, \"8\": 1}, \"12\": {\"12\": 83, \"14\": 58, \"9\": 29, \"11\": 19, \"1\": 9, \"0\": 3, \"2\": 20, \"5\": 3, \"10\": 2, \"13\": 3, \"15\": 2, \"4\": 5, \"7\": 2, \"6\": 2}, \"15\": {\"4\": 36, \"11\": 27, \"12\": 4, \"13\": 12, \"6\": 36, \"1\": 21, \"15\": 45, \"9\": 19, \"5\": 19, \"7\": 16, \"14\": 4, \"0\": 1}, \"11\": {\"15\": 26, \"11\": 57, \"13\": 10, \"12\": 20, \"9\": 38, \"14\": 22, \"4\": 19, \"5\": 7, \"1\": 18, \"6\": 17, \"7\": 4, \"2\": 1, \"10\": 1}, \"0\": {\"2\": 43, \"10\": 45, \"8\": 33, \"6\": 5, \"7\": 8, \"0\": 67, \"14\": 9, \"13\": 13, \"4\": 2, \"1\": 2, \"5\": 9, \"3\": 1, \"12\": 3}, \"9\": {\"9\": 63, \"1\": 15, \"12\": 23, \"11\": 45, \"4\": 17, \"14\": 34, \"5\": 8, \"13\": 2, \"15\": 17, \"10\": 2, \"0\": 2, \"6\": 9, \"2\": 3}, \"10\": {\"10\": 40, \"2\": 19, \"8\": 32, \"0\": 47, \"1\": 5, \"13\": 18, \"6\": 4, \"7\": 16, \"5\": 22, \"4\": 5, \"15\": 3, \"14\": 6, \"3\": 21, \"12\": 1, \"11\": 1}, \"5\": {\"6\": 20, \"3\": 3, \"4\": 21, \"15\": 21, \"13\": 39, \"7\": 28, \"9\": 5, \"10\": 11, \"5\": 41, \"1\": 29, \"2\": 3, \"14\": 6, \"0\": 3, \"12\": 2, \"11\": 5, \"8\": 3}, \"13\": {\"13\": 35, \"6\": 31, \"7\": 41, \"4\": 19, \"9\": 2, \"10\": 12, \"14\": 8, \"5\": 35, \"1\": 20, \"2\": 2, \"15\": 14, \"0\": 10, \"8\": 2, \"3\": 1, \"11\": 6, \"12\": 2}}, \"ORACLE.run1_32\": {\"2\": {\"2\": 49, \"12\": 1, \"5\": 5, \"11\": 25, \"4\": 25, \"14\": 36, \"0\": 32, \"7\": 39, \"9\": 13, \"8\": 6, \"13\": 9}, \"6\": {\"6\": 191, \"10\": 13, \"1\": 18, \"12\": 12, \"9\": 6}, \"5\": {\"14\": 18, \"5\": 40, \"0\": 25, \"15\": 3, \"7\": 24, \"13\": 27, \"3\": 30, \"11\": 10, \"4\": 25, \"8\": 24, \"2\": 13, \"9\": 1}, \"12\": {\"10\": 24, \"12\": 132, \"6\": 15, \"9\": 60, \"2\": 6, \"0\": 1, \"1\": 1, \"5\": 1}, \"13\": {\"5\": 22, \"3\": 42, \"2\": 6, \"4\": 24, \"13\": 50, \"11\": 9, \"7\": 21, \"0\": 22, \"8\": 34, \"14\": 7, \"15\": 3}, \"9\": {\"12\": 57, \"9\": 110, \"2\": 39, \"0\": 9, \"6\": 2, \"4\": 5, \"5\": 1, \"7\": 6, \"14\": 3, \"11\": 3, \"13\": 2, \"10\": 3}, \"11\": {\"4\": 27, \"5\": 14, \"11\": 37, \"7\": 39, \"14\": 44, \"2\": 33, \"0\": 24, \"8\": 14, \"13\": 6, \"3\": 2}, \"1\": {\"6\": 29, \"1\": 136, \"10\": 75}, \"3\": {\"8\": 56, \"3\": 66, \"7\": 5, \"5\": 38, \"13\": 25, \"11\": 7, \"15\": 28, \"0\": 6, \"4\": 9}, \"7\": {\"13\": 13, \"7\": 34, \"4\": 30, \"5\": 28, \"2\": 24, \"8\": 19, \"0\": 28, \"11\": 35, \"14\": 23, \"3\": 5, \"9\": 1}, \"14\": {\"14\": 38, \"5\": 17, \"0\": 25, \"8\": 9, \"7\": 32, \"3\": 4, \"2\": 29, \"4\": 27, \"11\": 45, \"13\": 9, \"9\": 5}, \"8\": {\"13\": 41, \"3\": 56, \"5\": 26, \"8\": 36, \"11\": 9, \"4\": 20, \"15\": 9, \"0\": 20, \"14\": 12, \"7\": 6, \"2\": 5}, \"4\": {\"5\": 22, \"7\": 28, \"4\": 29, \"8\": 24, \"13\": 20, \"0\": 29, \"14\": 24, \"9\": 4, \"11\": 21, \"2\": 33, \"3\": 6}, \"0\": {\"13\": 26, \"4\": 24, \"8\": 23, \"0\": 44, \"5\": 21, \"7\": 27, \"2\": 16, \"9\": 8, \"14\": 18, \"11\": 21, \"3\": 11, \"15\": 1}, \"10\": {\"6\": 16, \"10\": 153, \"1\": 48, \"12\": 20, \"9\": 3}, \"15\": {\"15\": 175, \"3\": 39, \"13\": 13, \"8\": 10, \"5\": 2, \"0\": 1}}, \"ORACLE.run1_44\": {\"13\": {\"7\": 42, \"9\": 40, \"2\": 26, \"4\": 4, \"13\": 40, \"6\": 33, \"11\": 28, \"12\": 8, \"10\": 12, \"1\": 2, \"3\": 5}, \"4\": {\"3\": 18, \"4\": 74, \"15\": 13, \"12\": 3, \"14\": 50, \"9\": 18, \"1\": 8, \"10\": 1, \"7\": 16, \"5\": 21, \"13\": 10, \"11\": 2, \"6\": 1, \"2\": 3, \"0\": 2}, \"6\": {\"11\": 49, \"13\": 40, \"6\": 64, \"9\": 19, \"7\": 18, \"2\": 24, \"10\": 21, \"1\": 4, \"12\": 1}, \"0\": {\"15\": 50, \"0\": 64, \"8\": 70, \"5\": 32, \"14\": 19, \"4\": 5}, \"10\": {\"12\": 20, \"10\": 40, \"9\": 31, \"2\": 35, \"1\": 29, \"13\": 17, \"3\": 7, \"7\": 32, \"11\": 11, \"6\": 18}, \"7\": {\"2\": 42, \"12\": 18, \"1\": 23, \"7\": 22, \"11\": 16, \"4\": 4, \"9\": 27, \"13\": 31, \"10\": 25, \"6\": 25, \"3\": 7}, \"14\": {\"0\": 15, \"5\": 47, \"15\": 32, \"4\": 47, \"14\": 73, \"3\": 9, \"8\": 8, \"7\": 2, \"12\": 1, \"11\": 1, \"9\": 3, \"1\": 1, \"13\": 1}, \"15\": {\"14\": 32, \"8\": 43, \"15\": 50, \"0\": 56, \"4\": 9, \"5\": 47, \"3\": 3}, \"5\": {\"0\": 29, \"4\": 29, \"5\": 70, \"14\": 48, \"15\": 43, \"8\": 18, \"3\": 2, \"9\": 1}, \"2\": {\"11\": 17, \"12\": 24, \"14\": 1, \"1\": 26, \"2\": 34, \"4\": 3, \"9\": 24, \"10\": 26, \"13\": 15, \"6\": 32, \"3\": 4, \"7\": 34}, \"9\": {\"2\": 24, \"7\": 47, \"11\": 19, \"10\": 16, \"13\": 23, \"3\": 10, \"9\": 38, \"1\": 18, \"4\": 13, \"12\": 16, \"6\": 15, \"14\": 1}, \"12\": {\"1\": 55, \"3\": 32, \"12\": 66, \"9\": 18, \"10\": 25, \"7\": 17, \"4\": 5, \"2\": 15, \"6\": 1, \"13\": 6}, \"8\": {\"5\": 22, \"8\": 98, \"0\": 73, \"15\": 43, \"14\": 4}, \"3\": {\"12\": 43, \"3\": 93, \"9\": 4, \"4\": 24, \"1\": 31, \"14\": 10, \"10\": 7, \"7\": 11, \"2\": 9, \"13\": 4, \"15\": 3, \"5\": 1}, \"1\": {\"12\": 49, \"1\": 50, \"10\": 29, \"9\": 16, \"4\": 9, \"3\": 39, \"2\": 22, \"7\": 18, \"13\": 4, \"14\": 2, \"5\": 1, \"6\": 1}, \"11\": {\"13\": 30, \"3\": 3, \"11\": 73, \"7\": 23, \"6\": 53, \"12\": 3, \"2\": 16, \"10\": 14, \"9\": 21, \"1\": 3, \"4\": 1}}, \"ORACLE.run1_14\": {\"1\": {\"10\": 12, \"1\": 42, \"4\": 31, \"5\": 28, \"2\": 8, \"13\": 3, \"3\": 26, \"7\": 29, \"0\": 26, \"8\": 13, \"6\": 3, \"9\": 9, \"14\": 2, \"15\": 7, \"11\": 1}, \"15\": {\"13\": 17, \"7\": 41, \"6\": 9, \"5\": 21, \"4\": 24, \"15\": 68, \"2\": 21, \"0\": 5, \"1\": 8, \"14\": 9, \"3\": 13, \"11\": 1, \"10\": 3}, \"10\": {\"10\": 30, \"3\": 35, \"14\": 10, \"11\": 30, \"6\": 7, \"5\": 16, \"4\": 24, \"9\": 7, \"2\": 10, \"13\": 11, \"0\": 38, \"1\": 14, \"7\": 5, \"8\": 2, \"12\": 1}, \"2\": {\"15\": 19, \"7\": 11, \"10\": 16, \"3\": 26, \"5\": 27, \"0\": 10, \"14\": 31, \"6\": 25, \"4\": 20, \"13\": 18, \"2\": 29, \"1\": 5, \"11\": 3}, \"9\": {\"8\": 31, \"12\": 54, \"3\": 5, \"11\": 19, \"9\": 91, \"10\": 8, \"0\": 19, \"4\": 6, \"5\": 4, \"1\": 3}, \"5\": {\"5\": 29, \"1\": 30, \"11\": 4, \"6\": 5, \"15\": 23, \"3\": 24, \"13\": 8, \"10\": 15, \"7\": 33, \"9\": 1, \"4\": 32, \"0\": 13, \"14\": 11, \"2\": 11, \"12\": 1}, \"7\": {\"2\": 14, \"5\": 29, \"1\": 31, \"4\": 33, \"7\": 54, \"3\": 12, \"15\": 34, \"10\": 6, \"6\": 5, \"0\": 9, \"14\": 2, \"13\": 7, \"8\": 3, \"11\": 1}, \"13\": {\"13\": 47, \"5\": 9, \"2\": 25, \"6\": 53, \"3\": 14, \"10\": 6, \"15\": 17, \"14\": 38, \"4\": 16, \"7\": 6, \"0\": 7, \"11\": 1, \"1\": 1}, \"8\": {\"8\": 121, \"9\": 45, \"11\": 4, \"12\": 25, \"1\": 15, \"2\": 1, \"7\": 8, \"0\": 9, \"5\": 5, \"10\": 2, \"4\": 3, \"3\": 2}, \"6\": {\"3\": 17, \"6\": 54, \"13\": 38, \"14\": 48, \"2\": 33, \"5\": 8, \"15\": 15, \"7\": 4, \"11\": 1, \"4\": 7, \"0\": 4, \"10\": 10, \"1\": 1}, \"3\": {\"13\": 9, \"3\": 24, \"5\": 36, \"14\": 17, \"9\": 4, \"2\": 21, \"0\": 25, \"4\": 30, \"1\": 23, \"7\": 9, \"11\": 15, \"6\": 7, \"15\": 7, \"8\": 1, \"10\": 12}, \"12\": {\"0\": 10, \"9\": 79, \"12\": 116, \"8\": 20, \"10\": 5, \"11\": 9, \"14\": 1}, \"0\": {\"7\": 4, \"10\": 38, \"4\": 16, \"3\": 38, \"0\": 39, \"11\": 24, \"8\": 5, \"14\": 11, \"9\": 10, \"5\": 16, \"1\": 14, \"13\": 6, \"6\": 4, \"2\": 12, \"12\": 2, \"15\": 1}, \"4\": {\"13\": 16, \"4\": 36, \"11\": 11, \"7\": 16, \"2\": 14, \"6\": 1, \"8\": 5, \"10\": 23, \"1\": 27, \"14\": 11, \"15\": 8, \"0\": 26, \"5\": 23, \"3\": 20, \"9\": 3}, \"14\": {\"13\": 40, \"14\": 42, \"2\": 33, \"9\": 1, \"3\": 15, \"7\": 5, \"10\": 7, \"5\": 9, \"4\": 8, \"6\": 50, \"15\": 9, \"1\": 5, \"0\": 8, \"11\": 8}, \"11\": {\"0\": 35, \"1\": 10, \"3\": 28, \"10\": 40, \"7\": 5, \"11\": 35, \"5\": 15, \"9\": 12, \"4\": 17, \"14\": 13, \"13\": 9, \"2\": 10, \"6\": 5, \"12\": 2, \"8\": 4}}}, \"per_domain_accuracy\": {\"C_A_2\": {\"accuracy\": 0.9734375, \"source?\": true}, \"C_A_5\": {\"accuracy\": 0.971875, \"source?\": true}, \"W_A_2\": {\"accuracy\": 0.9222074468085106, \"source?\": true}, \"C_A_1\": {\"accuracy\": 0.9796875, \"source?\": true}, \"W_A_4\": {\"accuracy\": 0.9231770833333334, \"source?\": true}, \"W_A_1\": {\"accuracy\": 0.931640625, \"source?\": true}, \"C_A_4\": {\"accuracy\": 0.978125, \"source?\": true}, \"W_A_3\": {\"accuracy\": 0.9388020833333334, \"source?\": true}, \"C_A_3\": {\"accuracy\": 0.98125, \"source?\": true}, \"ORACLE.run1_8\": {\"accuracy\": 0.20130208333333333, \"source?\": false}, \"ORACLE.run1_38\": {\"accuracy\": 0.29791666666666666, \"source?\": false}, \"ORACLE.run1_26\": {\"accuracy\": 0.175, \"source?\": false}, \"ORACLE.run1_20\": {\"accuracy\": 0.12526041666666668, \"source?\": false}, \"ORACLE.run1_50\": {\"accuracy\": 0.2526041666666667, \"source?\": false}, \"ORACLE.run1_32\": {\"accuracy\": 0.34375, \"source?\": false}, \"ORACLE.run1_44\": {\"accuracy\": 0.24713541666666666, \"source?\": false}, \"ORACLE.run1_14\": {\"accuracy\": 0.22317708333333333, \"source?\": false}}}, \"history\": {\"epoch_indices\": [1, 2, 3, 4, 5], \"train_label_loss\": [0.3514012233364211, 0.18084732395232445, 0.13836525780770512, 0.1090365782738283, 0.09283831519028442], \"source_val_label_loss\": [0.23264989256858826, 0.15858466923236847, 0.13502277433872223, 0.1243724375963211, 0.11410277336835861], \"target_val_label_loss\": [2.3056159019470215, 2.4166698455810547, 2.444664239883423, 2.412980794906616, 2.3738009929656982], \"source_val_acc_label\": [0.945446735395189, 0.9672465635738832, 0.9704682130584192, 0.9740120274914089, 0.9751932989690721], \"target_val_acc_label\": [0.23326822916666667, 0.20218098958333333, 0.1986328125, 0.2078125, 0.22145182291666668]}, \"dataset_metrics\": {\"source\": {\"train\": {\"n_unique_x\": 56700, \"n_unique_y\": 130, \"n_batch/episode\": 2078}, \"val\": {\"n_unique_x\": 12122, \"n_unique_y\": 130, \"n_batch/episode\": 291}, \"test\": {\"n_unique_x\": 12122, \"n_unique_y\": 130, \"n_batch/episode\": 291}}, \"target\": {\"train\": {\"n_unique_x\": 179200, \"n_unique_y\": 16, \"n_batch/episode\": 6720}, \"val\": {\"n_unique_x\": 38400, \"n_unique_y\": 16, \"n_batch/episode\": 960}, \"test\": {\"n_unique_x\": 38400, \"n_unique_y\": 16, \"n_batch/episode\": 960}}}}'"
      ]
     },
     "execution_count": 29,
     "metadata": {},
     "output_type": "execute_result"
    }
   ],
   "source": [
    "json.dumps(experiment)"
   ]
  }
 ],
 "metadata": {
  "celltoolbar": "Tags",
  "kernelspec": {
   "display_name": "Python 3 (ipykernel)",
   "language": "python",
   "name": "python3"
  },
  "language_info": {
   "codemirror_mode": {
    "name": "ipython",
    "version": 3
   },
   "file_extension": ".py",
   "mimetype": "text/x-python",
   "name": "python",
   "nbconvert_exporter": "python",
   "pygments_lexer": "ipython3",
   "version": "3.8.10"
  },
  "papermill": {
   "default_parameters": {},
   "duration": 386.403573,
   "end_time": "2022-03-18T22:27:07.608524",
   "environment_variables": {},
   "exception": null,
   "input_path": "/mnt/wd500GB/CSC500/csc500-main/csc500-notebooks/templates/tl_ptn_template.ipynb",
   "output_path": "trial.ipynb",
   "parameters": {
    "parameters": {
     "BEST_MODEL_PATH": "./best_model.pth",
     "NUM_LOGS_PER_EPOCH": 10,
     "criteria_for_best": "target_loss",
     "dataset_seed": 154325,
     "datasets": [
      {
       "domain_prefix": "C_A_",
       "domains": [
        1,
        2,
        3,
        4,
        5
       ],
       "episode_transforms": [],
       "labels": [
        "1-10.",
        "1-11.",
        "1-15.",
        "1-16.",
        "1-17.",
        "1-18.",
        "1-19.",
        "10-4.",
        "10-7.",
        "11-1.",
        "11-14.",
        "11-17.",
        "11-20.",
        "11-7.",
        "13-20.",
        "13-8.",
        "14-10.",
        "14-11.",
        "14-14.",
        "14-7.",
        "15-1.",
        "15-20.",
        "16-1.",
        "16-16.",
        "17-10.",
        "17-11.",
        "17-2.",
        "19-1.",
        "19-16.",
        "19-19.",
        "19-20.",
        "19-3.",
        "2-10.",
        "2-11.",
        "2-17.",
        "2-18.",
        "2-20.",
        "2-3.",
        "2-4.",
        "2-5.",
        "2-6.",
        "2-7.",
        "2-8.",
        "3-13.",
        "3-18.",
        "3-3.",
        "4-1.",
        "4-10.",
        "4-11.",
        "4-19.",
        "5-5.",
        "6-15.",
        "7-10.",
        "7-14.",
        "8-18.",
        "8-20.",
        "8-3.",
        "8-8."
       ],
       "num_examples_per_domain_per_label": 100,
       "pickle_path": "/mnt/wd500GB/CSC500/csc500-main/datasets/cores.stratified_ds.2022A.pkl",
       "source_or_target_dataset": "source",
       "x_transforms": [
        "unit_mag",
        "take_200"
       ]
      },
      {
       "domain_prefix": "W_A_",
       "domains": [
        1,
        2,
        3,
        4
       ],
       "episode_transforms": [],
       "labels": [
        "1-10",
        "1-12",
        "1-14",
        "1-16",
        "1-18",
        "1-19",
        "1-8",
        "10-11",
        "10-17",
        "10-4",
        "10-7",
        "11-1",
        "11-10",
        "11-19",
        "11-20",
        "11-4",
        "11-7",
        "12-19",
        "12-20",
        "12-7",
        "13-14",
        "13-18",
        "13-19",
        "13-20",
        "13-3",
        "13-7",
        "14-10",
        "14-11",
        "14-12",
        "14-13",
        "14-14",
        "14-19",
        "14-20",
        "14-7",
        "14-8",
        "14-9",
        "15-1",
        "15-19",
        "15-6",
        "16-1",
        "16-16",
        "16-19",
        "16-20",
        "17-10",
        "17-11",
        "18-1",
        "18-10",
        "18-11",
        "18-12",
        "18-13",
        "18-14",
        "18-15",
        "18-16",
        "18-17",
        "18-19",
        "18-2",
        "18-20",
        "18-4",
        "18-5",
        "18-7",
        "18-8",
        "18-9",
        "19-1",
        "19-10",
        "19-11",
        "19-12",
        "19-13",
        "19-14",
        "19-15",
        "19-19",
        "19-2",
        "19-20",
        "19-3",
        "19-4",
        "19-6",
        "19-7",
        "19-8",
        "19-9",
        "2-1",
        "2-13",
        "2-15",
        "2-3",
        "2-4",
        "2-5",
        "2-6",
        "2-7",
        "2-8",
        "20-1",
        "20-12",
        "20-14",
        "20-15",
        "20-16",
        "20-18",
        "20-19",
        "20-20",
        "20-3",
        "20-4",
        "20-5",
        "20-7",
        "20-8",
        "3-1",
        "3-13",
        "3-18",
        "3-2",
        "3-8",
        "4-1",
        "4-10",
        "4-11",
        "5-1",
        "5-5",
        "6-1",
        "6-15",
        "6-6",
        "7-10",
        "7-11",
        "7-12",
        "7-13",
        "7-14",
        "7-7",
        "7-8",
        "7-9",
        "8-1",
        "8-13",
        "8-14",
        "8-18",
        "8-20",
        "8-3",
        "8-8",
        "9-1",
        "9-7"
       ],
       "num_examples_per_domain_per_label": 100,
       "pickle_path": "/mnt/wd500GB/CSC500/csc500-main/datasets/wisig.node3-19.stratified_ds.2022A.pkl",
       "source_or_target_dataset": "source",
       "x_transforms": [
        "unit_mag",
        "take_200"
       ]
      },
      {
       "domain_prefix": "ORACLE.run1_",
       "domains": [
        32,
        38,
        8,
        44,
        14,
        50,
        20,
        26
       ],
       "episode_transforms": [],
       "labels": [
        "3123D52",
        "3123D65",
        "3123D79",
        "3123D80",
        "3123D54",
        "3123D70",
        "3123D7B",
        "3123D89",
        "3123D58",
        "3123D76",
        "3123D7D",
        "3123EFE",
        "3123D64",
        "3123D78",
        "3123D7E",
        "3124E4A"
       ],
       "num_examples_per_domain_per_label": 2000,
       "pickle_path": "/mnt/wd500GB/CSC500/csc500-main/datasets/oracle.Run1_framed_2000Examples_stratified_ds.2022A.pkl",
       "source_or_target_dataset": "target",
       "x_transforms": [
        "unit_mag",
        "take_200",
        "resample_20Msps_to_25Msps"
       ]
      }
     ],
     "device": "cuda",
     "experiment_name": "tl_3A:cores+wisig -> oracle.run1.framed",
     "lr": 0.001,
     "n_epoch": 50,
     "n_query": 2,
     "n_shot": 3,
     "n_way": 16,
     "patience": 3,
     "seed": 154325,
     "test_k_factor": 2,
     "torch_default_dtype": "torch.float32",
     "train_k_factor": 3,
     "val_k_factor": 2,
     "x_net": [
      {
       "class": "nnReshape",
       "kargs": {
        "shape": [
         -1,
         1,
         2,
         200
        ]
       }
      },
      {
       "class": "Conv2d",
       "kargs": {
        "bias": false,
        "in_channels": 1,
        "kernel_size": [
         1,
         7
        ],
        "out_channels": 256,
        "padding": [
         0,
         3
        ]
       }
      },
      {
       "class": "ReLU",
       "kargs": {
        "inplace": true
       }
      },
      {
       "class": "BatchNorm2d",
       "kargs": {
        "num_features": 256
       }
      },
      {
       "class": "Conv2d",
       "kargs": {
        "bias": true,
        "in_channels": 256,
        "kernel_size": [
         2,
         7
        ],
        "out_channels": 80,
        "padding": [
         0,
         3
        ]
       }
      },
      {
       "class": "ReLU",
       "kargs": {
        "inplace": true
       }
      },
      {
       "class": "BatchNorm2d",
       "kargs": {
        "num_features": 80
       }
      },
      {
       "class": "Flatten",
       "kargs": {}
      },
      {
       "class": "Linear",
       "kargs": {
        "in_features": 16000,
        "out_features": 256
       }
      },
      {
       "class": "ReLU",
       "kargs": {
        "inplace": true
       }
      },
      {
       "class": "BatchNorm1d",
       "kargs": {
        "num_features": 256
       }
      },
      {
       "class": "Linear",
       "kargs": {
        "in_features": 256,
        "out_features": 256
       }
      }
     ],
     "x_shape": [
      2,
      200
     ]
    }
   },
   "start_time": "2022-03-18T22:20:41.204951",
   "version": "2.3.4"
  }
 },
 "nbformat": 4,
 "nbformat_minor": 5
}