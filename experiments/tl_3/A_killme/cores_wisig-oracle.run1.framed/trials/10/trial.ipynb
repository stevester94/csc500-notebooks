{
 "cells": [
  {
   "cell_type": "markdown",
   "id": "9fea5f46",
   "metadata": {
    "papermill": {
     "duration": 0.018423,
     "end_time": "2022-03-18T22:48:56.599362",
     "exception": false,
     "start_time": "2022-03-18T22:48:56.580939",
     "status": "completed"
    },
    "tags": []
   },
   "source": [
    "# Transfer Learning Template"
   ]
  },
  {
   "cell_type": "code",
   "execution_count": 1,
   "id": "0902182a",
   "metadata": {
    "execution": {
     "iopub.execute_input": "2022-03-18T22:48:56.638714Z",
     "iopub.status.busy": "2022-03-18T22:48:56.636360Z",
     "iopub.status.idle": "2022-03-18T22:48:57.541537Z",
     "shell.execute_reply": "2022-03-18T22:48:57.541022Z"
    },
    "papermill": {
     "duration": 0.929807,
     "end_time": "2022-03-18T22:48:57.541651",
     "exception": false,
     "start_time": "2022-03-18T22:48:56.611844",
     "status": "completed"
    },
    "tags": []
   },
   "outputs": [],
   "source": [
    "%load_ext autoreload\n",
    "%autoreload 2\n",
    "%matplotlib inline\n",
    "\n",
    "    \n",
    "import os, json, sys, time, random\n",
    "import numpy as np\n",
    "import torch\n",
    "from torch.optim import Adam\n",
    "from  easydict import EasyDict\n",
    "import matplotlib.pyplot as plt\n",
    "\n",
    "from steves_models.steves_ptn import Steves_Prototypical_Network\n",
    "\n",
    "from steves_utils.lazy_iterable_wrapper import Lazy_Iterable_Wrapper\n",
    "from steves_utils.iterable_aggregator import Iterable_Aggregator\n",
    "from steves_utils.ptn_train_eval_test_jig import  PTN_Train_Eval_Test_Jig\n",
    "from steves_utils.torch_sequential_builder import build_sequential\n",
    "from steves_utils.torch_utils import get_dataset_metrics, ptn_confusion_by_domain_over_dataloader\n",
    "from steves_utils.utils_v2 import (per_domain_accuracy_from_confusion, get_datasets_base_path)\n",
    "from steves_utils.PTN.utils import independent_accuracy_assesment\n",
    "\n",
    "from torch.utils.data import DataLoader\n",
    "\n",
    "from steves_utils.stratified_dataset.episodic_accessor import Episodic_Accessor_Factory\n",
    "\n",
    "from steves_utils.ptn_do_report import (\n",
    "    get_loss_curve,\n",
    "    get_results_table,\n",
    "    get_parameters_table,\n",
    "    get_domain_accuracies,\n",
    ")\n",
    "\n",
    "from steves_utils.transforms import get_chained_transform"
   ]
  },
  {
   "cell_type": "markdown",
   "id": "41c840b4",
   "metadata": {
    "papermill": {
     "duration": 0.012572,
     "end_time": "2022-03-18T22:48:57.572358",
     "exception": false,
     "start_time": "2022-03-18T22:48:57.559786",
     "status": "completed"
    },
    "tags": []
   },
   "source": [
    "# Allowed Parameters\n",
    "These are allowed parameters, not defaults\n",
    "Each of these values need to be present in the injected parameters (the notebook will raise an exception if they are not present)\n",
    "\n",
    "Papermill uses the cell tag \"parameters\" to inject the real parameters below this cell.\n",
    "Enable tags to see what I mean"
   ]
  },
  {
   "cell_type": "code",
   "execution_count": 2,
   "id": "fd44eb83",
   "metadata": {
    "execution": {
     "iopub.execute_input": "2022-03-18T22:48:57.600431Z",
     "iopub.status.busy": "2022-03-18T22:48:57.598677Z",
     "iopub.status.idle": "2022-03-18T22:48:57.614720Z",
     "shell.execute_reply": "2022-03-18T22:48:57.614310Z"
    },
    "papermill": {
     "duration": 0.029912,
     "end_time": "2022-03-18T22:48:57.614815",
     "exception": false,
     "start_time": "2022-03-18T22:48:57.584903",
     "status": "completed"
    },
    "tags": []
   },
   "outputs": [],
   "source": [
    "required_parameters = {\n",
    "    \"experiment_name\",\n",
    "    \"lr\",\n",
    "    \"device\",\n",
    "    \"seed\",\n",
    "    \"dataset_seed\",\n",
    "    \"n_shot\",\n",
    "    \"n_query\",\n",
    "    \"n_way\",\n",
    "    \"train_k_factor\",\n",
    "    \"val_k_factor\",\n",
    "    \"test_k_factor\",\n",
    "    \"n_epoch\",\n",
    "    \"patience\",\n",
    "    \"criteria_for_best\",\n",
    "    \"x_net\",\n",
    "    \"datasets\",\n",
    "    \"torch_default_dtype\",\n",
    "    \"NUM_LOGS_PER_EPOCH\",\n",
    "    \"BEST_MODEL_PATH\",\n",
    "    \"x_shape\",\n",
    "}"
   ]
  },
  {
   "cell_type": "code",
   "execution_count": 3,
   "id": "fa3f0049",
   "metadata": {
    "execution": {
     "iopub.execute_input": "2022-03-18T22:48:57.650662Z",
     "iopub.status.busy": "2022-03-18T22:48:57.650356Z",
     "iopub.status.idle": "2022-03-18T22:48:57.662504Z",
     "shell.execute_reply": "2022-03-18T22:48:57.662122Z"
    },
    "papermill": {
     "duration": 0.030962,
     "end_time": "2022-03-18T22:48:57.662597",
     "exception": false,
     "start_time": "2022-03-18T22:48:57.631635",
     "status": "completed"
    },
    "tags": [
     "parameters"
    ]
   },
   "outputs": [],
   "source": [
    "from steves_utils.CORES.utils import (\n",
    "    ALL_NODES,\n",
    "    ALL_NODES_MINIMUM_1000_EXAMPLES,\n",
    "    ALL_DAYS\n",
    ")\n",
    "\n",
    "from steves_utils.ORACLE.utils_v2 import (\n",
    "    ALL_DISTANCES_FEET_NARROWED,\n",
    "    ALL_RUNS,\n",
    "    ALL_SERIAL_NUMBERS,\n",
    ")\n",
    "\n",
    "standalone_parameters = {}\n",
    "standalone_parameters[\"experiment_name\"] = \"STANDALONE PTN\"\n",
    "standalone_parameters[\"lr\"] = 0.001\n",
    "standalone_parameters[\"device\"] = \"cuda\"\n",
    "\n",
    "standalone_parameters[\"seed\"] = 1337\n",
    "standalone_parameters[\"dataset_seed\"] = 1337\n",
    "\n",
    "standalone_parameters[\"n_way\"] = 8\n",
    "standalone_parameters[\"n_shot\"] = 3\n",
    "standalone_parameters[\"n_query\"]  = 2\n",
    "standalone_parameters[\"train_k_factor\"] = 1\n",
    "standalone_parameters[\"val_k_factor\"] = 2\n",
    "standalone_parameters[\"test_k_factor\"] = 2\n",
    "\n",
    "\n",
    "standalone_parameters[\"n_epoch\"] = 50\n",
    "\n",
    "standalone_parameters[\"patience\"] = 10\n",
    "standalone_parameters[\"criteria_for_best\"] = \"source_loss\"\n",
    "\n",
    "standalone_parameters[\"datasets\"] = [\n",
    "    {\n",
    "        \"labels\": ALL_SERIAL_NUMBERS,\n",
    "        \"domains\": ALL_DISTANCES_FEET_NARROWED,\n",
    "        \"num_examples_per_domain_per_label\": 100,\n",
    "        \"pickle_path\": os.path.join(get_datasets_base_path(), \"oracle.Run1_framed_2000Examples_stratified_ds.2022A.pkl\"),\n",
    "        \"source_or_target_dataset\": \"source\",\n",
    "        \"x_transforms\": [\"unit_mag\", \"minus_two\"],\n",
    "        \"episode_transforms\": [],\n",
    "        \"domain_prefix\": \"ORACLE_\"\n",
    "    },\n",
    "    {\n",
    "        \"labels\": ALL_NODES,\n",
    "        \"domains\": ALL_DAYS,\n",
    "        \"num_examples_per_domain_per_label\": 100,\n",
    "        \"pickle_path\": os.path.join(get_datasets_base_path(), \"cores.stratified_ds.2022A.pkl\"),\n",
    "        \"source_or_target_dataset\": \"target\",\n",
    "        \"x_transforms\": [\"unit_power\", \"times_zero\"],\n",
    "        \"episode_transforms\": [],\n",
    "        \"domain_prefix\": \"CORES_\"\n",
    "    }   \n",
    "]\n",
    "\n",
    "standalone_parameters[\"torch_default_dtype\"] = \"torch.float32\" \n",
    "\n",
    "\n",
    "\n",
    "standalone_parameters[\"x_net\"] =     [\n",
    "    {\"class\": \"nnReshape\", \"kargs\": {\"shape\":[-1, 1, 2, 256]}},\n",
    "    {\"class\": \"Conv2d\", \"kargs\": { \"in_channels\":1, \"out_channels\":256, \"kernel_size\":(1,7), \"bias\":False, \"padding\":(0,3), },},\n",
    "    {\"class\": \"ReLU\", \"kargs\": {\"inplace\": True}},\n",
    "    {\"class\": \"BatchNorm2d\", \"kargs\": {\"num_features\":256}},\n",
    "\n",
    "    {\"class\": \"Conv2d\", \"kargs\": { \"in_channels\":256, \"out_channels\":80, \"kernel_size\":(2,7), \"bias\":True, \"padding\":(0,3), },},\n",
    "    {\"class\": \"ReLU\", \"kargs\": {\"inplace\": True}},\n",
    "    {\"class\": \"BatchNorm2d\", \"kargs\": {\"num_features\":80}},\n",
    "    {\"class\": \"Flatten\", \"kargs\": {}},\n",
    "\n",
    "    {\"class\": \"Linear\", \"kargs\": {\"in_features\": 80*256, \"out_features\": 256}}, # 80 units per IQ pair\n",
    "    {\"class\": \"ReLU\", \"kargs\": {\"inplace\": True}},\n",
    "    {\"class\": \"BatchNorm1d\", \"kargs\": {\"num_features\":256}},\n",
    "\n",
    "    {\"class\": \"Linear\", \"kargs\": {\"in_features\": 256, \"out_features\": 256}},\n",
    "]\n",
    "\n",
    "# Parameters relevant to results\n",
    "# These parameters will basically never need to change\n",
    "standalone_parameters[\"NUM_LOGS_PER_EPOCH\"] = 10\n",
    "standalone_parameters[\"BEST_MODEL_PATH\"] = \"./best_model.pth\"\n",
    "\n",
    "\n",
    "\n",
    "\n"
   ]
  },
  {
   "cell_type": "code",
   "execution_count": 4,
   "id": "78e9c93e",
   "metadata": {
    "execution": {
     "iopub.execute_input": "2022-03-18T22:48:57.707249Z",
     "iopub.status.busy": "2022-03-18T22:48:57.700026Z",
     "iopub.status.idle": "2022-03-18T22:48:57.720157Z",
     "shell.execute_reply": "2022-03-18T22:48:57.719774Z"
    },
    "papermill": {
     "duration": 0.039613,
     "end_time": "2022-03-18T22:48:57.720251",
     "exception": false,
     "start_time": "2022-03-18T22:48:57.680638",
     "status": "completed"
    },
    "tags": [
     "injected-parameters"
    ]
   },
   "outputs": [],
   "source": [
    "# Parameters\n",
    "parameters = {\n",
    "    \"experiment_name\": \"tl_3A:cores+wisig -> oracle.run1.framed\",\n",
    "    \"device\": \"cuda\",\n",
    "    \"lr\": 0.001,\n",
    "    \"x_shape\": [2, 200],\n",
    "    \"n_shot\": 3,\n",
    "    \"n_query\": 2,\n",
    "    \"train_k_factor\": 3,\n",
    "    \"val_k_factor\": 2,\n",
    "    \"test_k_factor\": 2,\n",
    "    \"torch_default_dtype\": \"torch.float32\",\n",
    "    \"n_epoch\": 50,\n",
    "    \"patience\": 3,\n",
    "    \"criteria_for_best\": \"target_loss\",\n",
    "    \"x_net\": [\n",
    "        {\"class\": \"nnReshape\", \"kargs\": {\"shape\": [-1, 1, 2, 200]}},\n",
    "        {\n",
    "            \"class\": \"Conv2d\",\n",
    "            \"kargs\": {\n",
    "                \"in_channels\": 1,\n",
    "                \"out_channels\": 256,\n",
    "                \"kernel_size\": [1, 7],\n",
    "                \"bias\": False,\n",
    "                \"padding\": [0, 3],\n",
    "            },\n",
    "        },\n",
    "        {\"class\": \"ReLU\", \"kargs\": {\"inplace\": True}},\n",
    "        {\"class\": \"BatchNorm2d\", \"kargs\": {\"num_features\": 256}},\n",
    "        {\n",
    "            \"class\": \"Conv2d\",\n",
    "            \"kargs\": {\n",
    "                \"in_channels\": 256,\n",
    "                \"out_channels\": 80,\n",
    "                \"kernel_size\": [2, 7],\n",
    "                \"bias\": True,\n",
    "                \"padding\": [0, 3],\n",
    "            },\n",
    "        },\n",
    "        {\"class\": \"ReLU\", \"kargs\": {\"inplace\": True}},\n",
    "        {\"class\": \"BatchNorm2d\", \"kargs\": {\"num_features\": 80}},\n",
    "        {\"class\": \"Flatten\", \"kargs\": {}},\n",
    "        {\"class\": \"Linear\", \"kargs\": {\"in_features\": 16000, \"out_features\": 256}},\n",
    "        {\"class\": \"ReLU\", \"kargs\": {\"inplace\": True}},\n",
    "        {\"class\": \"BatchNorm1d\", \"kargs\": {\"num_features\": 256}},\n",
    "        {\"class\": \"Linear\", \"kargs\": {\"in_features\": 256, \"out_features\": 256}},\n",
    "    ],\n",
    "    \"NUM_LOGS_PER_EPOCH\": 10,\n",
    "    \"BEST_MODEL_PATH\": \"./best_model.pth\",\n",
    "    \"n_way\": 16,\n",
    "    \"datasets\": [\n",
    "        {\n",
    "            \"labels\": [\n",
    "                \"1-10.\",\n",
    "                \"1-11.\",\n",
    "                \"1-15.\",\n",
    "                \"1-16.\",\n",
    "                \"1-17.\",\n",
    "                \"1-18.\",\n",
    "                \"1-19.\",\n",
    "                \"10-4.\",\n",
    "                \"10-7.\",\n",
    "                \"11-1.\",\n",
    "                \"11-14.\",\n",
    "                \"11-17.\",\n",
    "                \"11-20.\",\n",
    "                \"11-7.\",\n",
    "                \"13-20.\",\n",
    "                \"13-8.\",\n",
    "                \"14-10.\",\n",
    "                \"14-11.\",\n",
    "                \"14-14.\",\n",
    "                \"14-7.\",\n",
    "                \"15-1.\",\n",
    "                \"15-20.\",\n",
    "                \"16-1.\",\n",
    "                \"16-16.\",\n",
    "                \"17-10.\",\n",
    "                \"17-11.\",\n",
    "                \"17-2.\",\n",
    "                \"19-1.\",\n",
    "                \"19-16.\",\n",
    "                \"19-19.\",\n",
    "                \"19-20.\",\n",
    "                \"19-3.\",\n",
    "                \"2-10.\",\n",
    "                \"2-11.\",\n",
    "                \"2-17.\",\n",
    "                \"2-18.\",\n",
    "                \"2-20.\",\n",
    "                \"2-3.\",\n",
    "                \"2-4.\",\n",
    "                \"2-5.\",\n",
    "                \"2-6.\",\n",
    "                \"2-7.\",\n",
    "                \"2-8.\",\n",
    "                \"3-13.\",\n",
    "                \"3-18.\",\n",
    "                \"3-3.\",\n",
    "                \"4-1.\",\n",
    "                \"4-10.\",\n",
    "                \"4-11.\",\n",
    "                \"4-19.\",\n",
    "                \"5-5.\",\n",
    "                \"6-15.\",\n",
    "                \"7-10.\",\n",
    "                \"7-14.\",\n",
    "                \"8-18.\",\n",
    "                \"8-20.\",\n",
    "                \"8-3.\",\n",
    "                \"8-8.\",\n",
    "            ],\n",
    "            \"domains\": [1, 2, 3, 4, 5],\n",
    "            \"num_examples_per_domain_per_label\": 100,\n",
    "            \"pickle_path\": \"/mnt/wd500GB/CSC500/csc500-main/datasets/cores.stratified_ds.2022A.pkl\",\n",
    "            \"source_or_target_dataset\": \"source\",\n",
    "            \"x_transforms\": [\"unit_mag\", \"take_200\"],\n",
    "            \"episode_transforms\": [],\n",
    "            \"domain_prefix\": \"C_A_\",\n",
    "        },\n",
    "        {\n",
    "            \"labels\": [\n",
    "                \"1-10\",\n",
    "                \"1-12\",\n",
    "                \"1-14\",\n",
    "                \"1-16\",\n",
    "                \"1-18\",\n",
    "                \"1-19\",\n",
    "                \"1-8\",\n",
    "                \"10-11\",\n",
    "                \"10-17\",\n",
    "                \"10-4\",\n",
    "                \"10-7\",\n",
    "                \"11-1\",\n",
    "                \"11-10\",\n",
    "                \"11-19\",\n",
    "                \"11-20\",\n",
    "                \"11-4\",\n",
    "                \"11-7\",\n",
    "                \"12-19\",\n",
    "                \"12-20\",\n",
    "                \"12-7\",\n",
    "                \"13-14\",\n",
    "                \"13-18\",\n",
    "                \"13-19\",\n",
    "                \"13-20\",\n",
    "                \"13-3\",\n",
    "                \"13-7\",\n",
    "                \"14-10\",\n",
    "                \"14-11\",\n",
    "                \"14-12\",\n",
    "                \"14-13\",\n",
    "                \"14-14\",\n",
    "                \"14-19\",\n",
    "                \"14-20\",\n",
    "                \"14-7\",\n",
    "                \"14-8\",\n",
    "                \"14-9\",\n",
    "                \"15-1\",\n",
    "                \"15-19\",\n",
    "                \"15-6\",\n",
    "                \"16-1\",\n",
    "                \"16-16\",\n",
    "                \"16-19\",\n",
    "                \"16-20\",\n",
    "                \"17-10\",\n",
    "                \"17-11\",\n",
    "                \"18-1\",\n",
    "                \"18-10\",\n",
    "                \"18-11\",\n",
    "                \"18-12\",\n",
    "                \"18-13\",\n",
    "                \"18-14\",\n",
    "                \"18-15\",\n",
    "                \"18-16\",\n",
    "                \"18-17\",\n",
    "                \"18-19\",\n",
    "                \"18-2\",\n",
    "                \"18-20\",\n",
    "                \"18-4\",\n",
    "                \"18-5\",\n",
    "                \"18-7\",\n",
    "                \"18-8\",\n",
    "                \"18-9\",\n",
    "                \"19-1\",\n",
    "                \"19-10\",\n",
    "                \"19-11\",\n",
    "                \"19-12\",\n",
    "                \"19-13\",\n",
    "                \"19-14\",\n",
    "                \"19-15\",\n",
    "                \"19-19\",\n",
    "                \"19-2\",\n",
    "                \"19-20\",\n",
    "                \"19-3\",\n",
    "                \"19-4\",\n",
    "                \"19-6\",\n",
    "                \"19-7\",\n",
    "                \"19-8\",\n",
    "                \"19-9\",\n",
    "                \"2-1\",\n",
    "                \"2-13\",\n",
    "                \"2-15\",\n",
    "                \"2-3\",\n",
    "                \"2-4\",\n",
    "                \"2-5\",\n",
    "                \"2-6\",\n",
    "                \"2-7\",\n",
    "                \"2-8\",\n",
    "                \"20-1\",\n",
    "                \"20-12\",\n",
    "                \"20-14\",\n",
    "                \"20-15\",\n",
    "                \"20-16\",\n",
    "                \"20-18\",\n",
    "                \"20-19\",\n",
    "                \"20-20\",\n",
    "                \"20-3\",\n",
    "                \"20-4\",\n",
    "                \"20-5\",\n",
    "                \"20-7\",\n",
    "                \"20-8\",\n",
    "                \"3-1\",\n",
    "                \"3-13\",\n",
    "                \"3-18\",\n",
    "                \"3-2\",\n",
    "                \"3-8\",\n",
    "                \"4-1\",\n",
    "                \"4-10\",\n",
    "                \"4-11\",\n",
    "                \"5-1\",\n",
    "                \"5-5\",\n",
    "                \"6-1\",\n",
    "                \"6-15\",\n",
    "                \"6-6\",\n",
    "                \"7-10\",\n",
    "                \"7-11\",\n",
    "                \"7-12\",\n",
    "                \"7-13\",\n",
    "                \"7-14\",\n",
    "                \"7-7\",\n",
    "                \"7-8\",\n",
    "                \"7-9\",\n",
    "                \"8-1\",\n",
    "                \"8-13\",\n",
    "                \"8-14\",\n",
    "                \"8-18\",\n",
    "                \"8-20\",\n",
    "                \"8-3\",\n",
    "                \"8-8\",\n",
    "                \"9-1\",\n",
    "                \"9-7\",\n",
    "            ],\n",
    "            \"domains\": [1, 2, 3, 4],\n",
    "            \"num_examples_per_domain_per_label\": 100,\n",
    "            \"pickle_path\": \"/mnt/wd500GB/CSC500/csc500-main/datasets/wisig.node3-19.stratified_ds.2022A.pkl\",\n",
    "            \"source_or_target_dataset\": \"source\",\n",
    "            \"x_transforms\": [\"unit_mag\", \"take_200\"],\n",
    "            \"episode_transforms\": [],\n",
    "            \"domain_prefix\": \"W_A_\",\n",
    "        },\n",
    "        {\n",
    "            \"labels\": [\n",
    "                \"3123D52\",\n",
    "                \"3123D65\",\n",
    "                \"3123D79\",\n",
    "                \"3123D80\",\n",
    "                \"3123D54\",\n",
    "                \"3123D70\",\n",
    "                \"3123D7B\",\n",
    "                \"3123D89\",\n",
    "                \"3123D58\",\n",
    "                \"3123D76\",\n",
    "                \"3123D7D\",\n",
    "                \"3123EFE\",\n",
    "                \"3123D64\",\n",
    "                \"3123D78\",\n",
    "                \"3123D7E\",\n",
    "                \"3124E4A\",\n",
    "            ],\n",
    "            \"domains\": [32, 38, 8, 44, 14, 50, 20, 26],\n",
    "            \"num_examples_per_domain_per_label\": 2000,\n",
    "            \"pickle_path\": \"/mnt/wd500GB/CSC500/csc500-main/datasets/oracle.Run1_framed_2000Examples_stratified_ds.2022A.pkl\",\n",
    "            \"source_or_target_dataset\": \"target\",\n",
    "            \"x_transforms\": [\"unit_mag\", \"take_200\", \"resample_20Msps_to_25Msps\"],\n",
    "            \"episode_transforms\": [],\n",
    "            \"domain_prefix\": \"ORACLE.run1_\",\n",
    "        },\n",
    "    ],\n",
    "    \"seed\": 7,\n",
    "    \"dataset_seed\": 7,\n",
    "}\n"
   ]
  },
  {
   "cell_type": "code",
   "execution_count": 5,
   "id": "8fa1cc33",
   "metadata": {
    "execution": {
     "iopub.execute_input": "2022-03-18T22:48:57.787810Z",
     "iopub.status.busy": "2022-03-18T22:48:57.786906Z",
     "iopub.status.idle": "2022-03-18T22:48:57.795969Z",
     "shell.execute_reply": "2022-03-18T22:48:57.795583Z"
    },
    "papermill": {
     "duration": 0.057705,
     "end_time": "2022-03-18T22:48:57.796065",
     "exception": false,
     "start_time": "2022-03-18T22:48:57.738360",
     "status": "completed"
    },
    "tags": []
   },
   "outputs": [],
   "source": [
    "# Set this to True if you want to run this template directly\n",
    "STANDALONE = False\n",
    "if STANDALONE:\n",
    "    print(\"parameters not injected, running with standalone_parameters\")\n",
    "    parameters = standalone_parameters\n",
    "\n",
    "if not 'parameters' in locals() and not 'parameters' in globals():\n",
    "    raise Exception(\"Parameter injection failed\")\n",
    "\n",
    "#Use an easy dict for all the parameters\n",
    "p = EasyDict(parameters)\n",
    "\n",
    "if \"x_shape\" not in p:\n",
    "    p.x_shape = [2,256] # Default to this if we dont supply x_shape\n",
    "\n",
    "\n",
    "supplied_keys = set(p.keys())\n",
    "\n",
    "if  supplied_keys != required_parameters:\n",
    "    print(\"Parameters are incorrect\")\n",
    "    if len(supplied_keys - required_parameters)>0: print(\"Shouldn't have:\", str(supplied_keys - required_parameters))\n",
    "    if len(required_parameters - supplied_keys)>0: print(\"Need to have:\", str(required_parameters - supplied_keys))\n",
    "    raise RuntimeError(\"Parameters are incorrect\")"
   ]
  },
  {
   "cell_type": "code",
   "execution_count": 6,
   "id": "3a028d58",
   "metadata": {
    "execution": {
     "iopub.execute_input": "2022-03-18T22:48:57.828064Z",
     "iopub.status.busy": "2022-03-18T22:48:57.827814Z",
     "iopub.status.idle": "2022-03-18T22:48:57.842163Z",
     "shell.execute_reply": "2022-03-18T22:48:57.841702Z"
    },
    "papermill": {
     "duration": 0.02956,
     "end_time": "2022-03-18T22:48:57.842255",
     "exception": false,
     "start_time": "2022-03-18T22:48:57.812695",
     "status": "completed"
    },
    "tags": []
   },
   "outputs": [],
   "source": [
    "###################################\n",
    "# Set the RNGs and make it all deterministic\n",
    "###################################\n",
    "np.random.seed(p.seed)\n",
    "random.seed(p.seed)\n",
    "torch.manual_seed(p.seed)\n",
    "\n",
    "torch.use_deterministic_algorithms(True) "
   ]
  },
  {
   "cell_type": "code",
   "execution_count": 7,
   "id": "b691acf6",
   "metadata": {
    "execution": {
     "iopub.execute_input": "2022-03-18T22:48:57.879576Z",
     "iopub.status.busy": "2022-03-18T22:48:57.875620Z",
     "iopub.status.idle": "2022-03-18T22:48:57.889745Z",
     "shell.execute_reply": "2022-03-18T22:48:57.889287Z"
    },
    "papermill": {
     "duration": 0.029115,
     "end_time": "2022-03-18T22:48:57.889836",
     "exception": false,
     "start_time": "2022-03-18T22:48:57.860721",
     "status": "completed"
    },
    "tags": []
   },
   "outputs": [],
   "source": [
    "###########################################\n",
    "# The stratified datasets honor this\n",
    "###########################################\n",
    "torch.set_default_dtype(eval(p.torch_default_dtype))"
   ]
  },
  {
   "cell_type": "code",
   "execution_count": 8,
   "id": "b5fba671",
   "metadata": {
    "execution": {
     "iopub.execute_input": "2022-03-18T22:48:57.928427Z",
     "iopub.status.busy": "2022-03-18T22:48:57.928183Z",
     "iopub.status.idle": "2022-03-18T22:48:57.954789Z",
     "shell.execute_reply": "2022-03-18T22:48:57.954546Z"
    },
    "papermill": {
     "duration": 0.049116,
     "end_time": "2022-03-18T22:48:57.954838",
     "exception": false,
     "start_time": "2022-03-18T22:48:57.905722",
     "status": "completed"
    },
    "tags": []
   },
   "outputs": [],
   "source": [
    "###################################\n",
    "# Build the network(s)\n",
    "# Note: It's critical to do this AFTER setting the RNG\n",
    "###################################\n",
    "x_net = build_sequential(p.x_net)"
   ]
  },
  {
   "cell_type": "code",
   "execution_count": 9,
   "id": "5d7e61cc",
   "metadata": {
    "execution": {
     "iopub.execute_input": "2022-03-18T22:48:57.987808Z",
     "iopub.status.busy": "2022-03-18T22:48:57.987535Z",
     "iopub.status.idle": "2022-03-18T22:48:57.998778Z",
     "shell.execute_reply": "2022-03-18T22:48:57.998376Z"
    },
    "papermill": {
     "duration": 0.030699,
     "end_time": "2022-03-18T22:48:57.998870",
     "exception": false,
     "start_time": "2022-03-18T22:48:57.968171",
     "status": "completed"
    },
    "tags": []
   },
   "outputs": [],
   "source": [
    "start_time_secs = time.time()"
   ]
  },
  {
   "cell_type": "code",
   "execution_count": 10,
   "id": "c6b67dfd",
   "metadata": {
    "execution": {
     "iopub.execute_input": "2022-03-18T22:48:58.032606Z",
     "iopub.status.busy": "2022-03-18T22:48:58.032358Z",
     "iopub.status.idle": "2022-03-18T22:48:58.045867Z",
     "shell.execute_reply": "2022-03-18T22:48:58.045407Z"
    },
    "papermill": {
     "duration": 0.02849,
     "end_time": "2022-03-18T22:48:58.045959",
     "exception": false,
     "start_time": "2022-03-18T22:48:58.017469",
     "status": "completed"
    },
    "tags": []
   },
   "outputs": [],
   "source": [
    "p.domains_source = []\n",
    "p.domains_target = []\n",
    "\n",
    "\n",
    "train_original_source = []\n",
    "val_original_source   = []\n",
    "test_original_source  = []\n",
    "\n",
    "train_original_target = []\n",
    "val_original_target   = []\n",
    "test_original_target  = []"
   ]
  },
  {
   "cell_type": "code",
   "execution_count": 11,
   "id": "e3d9c3d3",
   "metadata": {
    "execution": {
     "iopub.execute_input": "2022-03-18T22:48:58.084446Z",
     "iopub.status.busy": "2022-03-18T22:48:58.084195Z",
     "iopub.status.idle": "2022-03-18T22:48:58.093979Z",
     "shell.execute_reply": "2022-03-18T22:48:58.093534Z"
    },
    "papermill": {
     "duration": 0.029783,
     "end_time": "2022-03-18T22:48:58.094080",
     "exception": false,
     "start_time": "2022-03-18T22:48:58.064297",
     "status": "completed"
    },
    "tags": []
   },
   "outputs": [],
   "source": [
    "# global_x_transform_func = lambda x: normalize(x.to(torch.get_default_dtype()), \"unit_power\") # unit_power, unit_mag\n",
    "# global_x_transform_func = lambda x: normalize(x, \"unit_power\") # unit_power, unit_mag"
   ]
  },
  {
   "cell_type": "code",
   "execution_count": 12,
   "id": "acb78fd2",
   "metadata": {
    "execution": {
     "iopub.execute_input": "2022-03-18T22:48:58.132572Z",
     "iopub.status.busy": "2022-03-18T22:48:58.132267Z",
     "iopub.status.idle": "2022-03-18T22:48:58.145178Z",
     "shell.execute_reply": "2022-03-18T22:48:58.144792Z"
    },
    "papermill": {
     "duration": 0.032882,
     "end_time": "2022-03-18T22:48:58.145266",
     "exception": false,
     "start_time": "2022-03-18T22:48:58.112384",
     "status": "completed"
    },
    "tags": []
   },
   "outputs": [],
   "source": [
    "def add_dataset(\n",
    "    labels,\n",
    "    domains,\n",
    "    pickle_path,\n",
    "    x_transforms,\n",
    "    episode_transforms,\n",
    "    domain_prefix,\n",
    "    num_examples_per_domain_per_label,\n",
    "    source_or_target_dataset:str,\n",
    "    iterator_seed=p.seed,\n",
    "    dataset_seed=p.dataset_seed,\n",
    "    n_shot=p.n_shot,\n",
    "    n_way=p.n_way,\n",
    "    n_query=p.n_query,\n",
    "    train_val_test_k_factors=(p.train_k_factor,p.val_k_factor,p.test_k_factor),\n",
    "):\n",
    "   \n",
    "    if x_transforms == []: x_transform = None\n",
    "    else: x_transform = get_chained_transform(x_transforms)\n",
    "    \n",
    "    if episode_transforms == []: episode_transform = None\n",
    "    else: raise Exception(\"episode_transforms not implemented\")\n",
    "    \n",
    "    episode_transform = lambda tup, _prefix=domain_prefix: (_prefix + str(tup[0]), tup[1])\n",
    "\n",
    "\n",
    "    eaf = Episodic_Accessor_Factory(\n",
    "        labels=labels,\n",
    "        domains=domains,\n",
    "        num_examples_per_domain_per_label=num_examples_per_domain_per_label,\n",
    "        iterator_seed=iterator_seed,\n",
    "        dataset_seed=dataset_seed,\n",
    "        n_shot=n_shot,\n",
    "        n_way=n_way,\n",
    "        n_query=n_query,\n",
    "        train_val_test_k_factors=train_val_test_k_factors,\n",
    "        pickle_path=pickle_path,\n",
    "        x_transform_func=x_transform,\n",
    "    )\n",
    "\n",
    "    train, val, test = eaf.get_train(), eaf.get_val(), eaf.get_test()\n",
    "    train = Lazy_Iterable_Wrapper(train, episode_transform)\n",
    "    val = Lazy_Iterable_Wrapper(val, episode_transform)\n",
    "    test = Lazy_Iterable_Wrapper(test, episode_transform)\n",
    "\n",
    "    if source_or_target_dataset==\"source\":\n",
    "        train_original_source.append(train)\n",
    "        val_original_source.append(val)\n",
    "        test_original_source.append(test)\n",
    "\n",
    "        p.domains_source.extend(\n",
    "            [domain_prefix + str(u) for u in domains]\n",
    "        )\n",
    "    elif source_or_target_dataset==\"target\":\n",
    "        train_original_target.append(train)\n",
    "        val_original_target.append(val)\n",
    "        test_original_target.append(test)\n",
    "        p.domains_target.extend(\n",
    "            [domain_prefix + str(u) for u in domains]\n",
    "        )\n",
    "    else:\n",
    "        raise Exception(f\"invalid source_or_target_dataset: {source_or_target_dataset}\")\n",
    "    "
   ]
  },
  {
   "cell_type": "code",
   "execution_count": 13,
   "id": "fe266617",
   "metadata": {
    "execution": {
     "iopub.execute_input": "2022-03-18T22:48:58.178781Z",
     "iopub.status.busy": "2022-03-18T22:48:58.178536Z",
     "iopub.status.idle": "2022-03-18T22:49:35.650930Z",
     "shell.execute_reply": "2022-03-18T22:49:35.650526Z"
    },
    "papermill": {
     "duration": 37.48772,
     "end_time": "2022-03-18T22:49:35.651037",
     "exception": false,
     "start_time": "2022-03-18T22:48:58.163317",
     "status": "completed"
    },
    "tags": []
   },
   "outputs": [],
   "source": [
    "for ds in p.datasets:\n",
    "    add_dataset(**ds)"
   ]
  },
  {
   "cell_type": "code",
   "execution_count": 14,
   "id": "b90d65ac",
   "metadata": {
    "execution": {
     "iopub.execute_input": "2022-03-18T22:49:35.686659Z",
     "iopub.status.busy": "2022-03-18T22:49:35.686409Z",
     "iopub.status.idle": "2022-03-18T22:49:35.701644Z",
     "shell.execute_reply": "2022-03-18T22:49:35.701151Z"
    },
    "papermill": {
     "duration": 0.031008,
     "end_time": "2022-03-18T22:49:35.701740",
     "exception": false,
     "start_time": "2022-03-18T22:49:35.670732",
     "status": "completed"
    },
    "tags": []
   },
   "outputs": [],
   "source": [
    "# from steves_utils.CORES.utils import (\n",
    "#     ALL_NODES,\n",
    "#     ALL_NODES_MINIMUM_1000_EXAMPLES,\n",
    "#     ALL_DAYS\n",
    "# )\n",
    "\n",
    "# add_dataset(\n",
    "#     labels=ALL_NODES,\n",
    "#     domains = ALL_DAYS,\n",
    "#     num_examples_per_domain_per_label=100,\n",
    "#     pickle_path=os.path.join(get_datasets_base_path(), \"cores.stratified_ds.2022A.pkl\"),\n",
    "#     source_or_target_dataset=\"target\",\n",
    "#     x_transform_func=global_x_transform_func,\n",
    "#     domain_modifier=lambda u: f\"cores_{u}\"\n",
    "# )"
   ]
  },
  {
   "cell_type": "code",
   "execution_count": 15,
   "id": "76db484d",
   "metadata": {
    "execution": {
     "iopub.execute_input": "2022-03-18T22:49:35.745381Z",
     "iopub.status.busy": "2022-03-18T22:49:35.741856Z",
     "iopub.status.idle": "2022-03-18T22:49:35.754849Z",
     "shell.execute_reply": "2022-03-18T22:49:35.754466Z"
    },
    "papermill": {
     "duration": 0.033451,
     "end_time": "2022-03-18T22:49:35.754936",
     "exception": false,
     "start_time": "2022-03-18T22:49:35.721485",
     "status": "completed"
    },
    "tags": []
   },
   "outputs": [],
   "source": [
    "# from steves_utils.ORACLE.utils_v2 import (\n",
    "#     ALL_DISTANCES_FEET,\n",
    "#     ALL_RUNS,\n",
    "#     ALL_SERIAL_NUMBERS,\n",
    "# )\n",
    "\n",
    "\n",
    "# add_dataset(\n",
    "#     labels=ALL_SERIAL_NUMBERS,\n",
    "#     domains = list(set(ALL_DISTANCES_FEET) - {2,62}),\n",
    "#     num_examples_per_domain_per_label=100,\n",
    "#     pickle_path=os.path.join(get_datasets_base_path(), \"oracle.Run2_framed_2000Examples_stratified_ds.2022A.pkl\"),\n",
    "#     source_or_target_dataset=\"source\",\n",
    "#     x_transform_func=global_x_transform_func,\n",
    "#     domain_modifier=lambda u: f\"oracle1_{u}\"\n",
    "# )\n"
   ]
  },
  {
   "cell_type": "code",
   "execution_count": 16,
   "id": "97dea9d2",
   "metadata": {
    "execution": {
     "iopub.execute_input": "2022-03-18T22:49:35.796930Z",
     "iopub.status.busy": "2022-03-18T22:49:35.795827Z",
     "iopub.status.idle": "2022-03-18T22:49:35.802622Z",
     "shell.execute_reply": "2022-03-18T22:49:35.803014Z"
    },
    "papermill": {
     "duration": 0.030425,
     "end_time": "2022-03-18T22:49:35.803122",
     "exception": false,
     "start_time": "2022-03-18T22:49:35.772697",
     "status": "completed"
    },
    "tags": []
   },
   "outputs": [],
   "source": [
    "# from steves_utils.ORACLE.utils_v2 import (\n",
    "#     ALL_DISTANCES_FEET,\n",
    "#     ALL_RUNS,\n",
    "#     ALL_SERIAL_NUMBERS,\n",
    "# )\n",
    "\n",
    "\n",
    "# add_dataset(\n",
    "#     labels=ALL_SERIAL_NUMBERS,\n",
    "#     domains = list(set(ALL_DISTANCES_FEET) - {2,62,56}),\n",
    "#     num_examples_per_domain_per_label=100,\n",
    "#     pickle_path=os.path.join(get_datasets_base_path(), \"oracle.Run2_framed_2000Examples_stratified_ds.2022A.pkl\"),\n",
    "#     source_or_target_dataset=\"source\",\n",
    "#     x_transform_func=global_x_transform_func,\n",
    "#     domain_modifier=lambda u: f\"oracle2_{u}\"\n",
    "# )"
   ]
  },
  {
   "cell_type": "code",
   "execution_count": 17,
   "id": "6f289866",
   "metadata": {
    "execution": {
     "iopub.execute_input": "2022-03-18T22:49:35.834773Z",
     "iopub.status.busy": "2022-03-18T22:49:35.834181Z",
     "iopub.status.idle": "2022-03-18T22:49:35.848630Z",
     "shell.execute_reply": "2022-03-18T22:49:35.848918Z"
    },
    "papermill": {
     "duration": 0.029541,
     "end_time": "2022-03-18T22:49:35.848998",
     "exception": false,
     "start_time": "2022-03-18T22:49:35.819457",
     "status": "completed"
    },
    "tags": []
   },
   "outputs": [],
   "source": [
    "# add_dataset(\n",
    "#     labels=list(range(19)),\n",
    "#     domains = [0,1,2],\n",
    "#     num_examples_per_domain_per_label=100,\n",
    "#     pickle_path=os.path.join(get_datasets_base_path(), \"metehan.stratified_ds.2022A.pkl\"),\n",
    "#     source_or_target_dataset=\"target\",\n",
    "#     x_transform_func=global_x_transform_func,\n",
    "#     domain_modifier=lambda u: f\"met_{u}\"\n",
    "# )"
   ]
  },
  {
   "cell_type": "code",
   "execution_count": 18,
   "id": "86a863c3",
   "metadata": {
    "execution": {
     "iopub.execute_input": "2022-03-18T22:49:35.882668Z",
     "iopub.status.busy": "2022-03-18T22:49:35.882421Z",
     "iopub.status.idle": "2022-03-18T22:49:35.892254Z",
     "shell.execute_reply": "2022-03-18T22:49:35.892041Z"
    },
    "papermill": {
     "duration": 0.025027,
     "end_time": "2022-03-18T22:49:35.892303",
     "exception": false,
     "start_time": "2022-03-18T22:49:35.867276",
     "status": "completed"
    },
    "tags": []
   },
   "outputs": [],
   "source": [
    "# # from steves_utils.wisig.utils import (\n",
    "# #     ALL_NODES_MINIMUM_100_EXAMPLES,\n",
    "# #     ALL_NODES_MINIMUM_500_EXAMPLES,\n",
    "# #     ALL_NODES_MINIMUM_1000_EXAMPLES,\n",
    "# #     ALL_DAYS\n",
    "# # )\n",
    "\n",
    "# import steves_utils.wisig.utils as wisig\n",
    "\n",
    "\n",
    "# add_dataset(\n",
    "#     labels=wisig.ALL_NODES_MINIMUM_100_EXAMPLES,\n",
    "#     domains = wisig.ALL_DAYS,\n",
    "#     num_examples_per_domain_per_label=100,\n",
    "#     pickle_path=os.path.join(get_datasets_base_path(), \"wisig.node3-19.stratified_ds.2022A.pkl\"),\n",
    "#     source_or_target_dataset=\"target\",\n",
    "#     x_transform_func=global_x_transform_func,\n",
    "#     domain_modifier=lambda u: f\"wisig_{u}\"\n",
    "# )"
   ]
  },
  {
   "cell_type": "code",
   "execution_count": 19,
   "id": "fd5442bc",
   "metadata": {
    "execution": {
     "iopub.execute_input": "2022-03-18T22:49:35.931474Z",
     "iopub.status.busy": "2022-03-18T22:49:35.927265Z",
     "iopub.status.idle": "2022-03-18T22:49:35.940016Z",
     "shell.execute_reply": "2022-03-18T22:49:35.939563Z"
    },
    "papermill": {
     "duration": 0.031586,
     "end_time": "2022-03-18T22:49:35.940118",
     "exception": false,
     "start_time": "2022-03-18T22:49:35.908532",
     "status": "completed"
    },
    "tags": []
   },
   "outputs": [],
   "source": [
    "###################################\n",
    "# Build the dataset\n",
    "###################################\n",
    "train_original_source = Iterable_Aggregator(train_original_source, p.seed)\n",
    "val_original_source = Iterable_Aggregator(val_original_source, p.seed)\n",
    "test_original_source = Iterable_Aggregator(test_original_source, p.seed)\n",
    "\n",
    "\n",
    "train_original_target = Iterable_Aggregator(train_original_target, p.seed)\n",
    "val_original_target = Iterable_Aggregator(val_original_target, p.seed)\n",
    "test_original_target = Iterable_Aggregator(test_original_target, p.seed)\n",
    "\n",
    "# For CNN We only use X and Y. And we only train on the source.\n",
    "# Properly form the data using a transform lambda and Lazy_Iterable_Wrapper. Finally wrap them in a dataloader\n",
    "\n",
    "transform_lambda = lambda ex: ex[1] # Original is (<domain>, <episode>) so we strip down to episode only\n",
    "\n",
    "train_processed_source = Lazy_Iterable_Wrapper(train_original_source, transform_lambda)\n",
    "val_processed_source   = Lazy_Iterable_Wrapper(val_original_source, transform_lambda)\n",
    "test_processed_source  = Lazy_Iterable_Wrapper(test_original_source, transform_lambda)\n",
    "\n",
    "train_processed_target = Lazy_Iterable_Wrapper(train_original_target, transform_lambda)\n",
    "val_processed_target   = Lazy_Iterable_Wrapper(val_original_target, transform_lambda)\n",
    "test_processed_target  = Lazy_Iterable_Wrapper(test_original_target, transform_lambda)\n",
    "\n",
    "datasets = EasyDict({\n",
    "    \"source\": {\n",
    "        \"original\": {\"train\":train_original_source, \"val\":val_original_source, \"test\":test_original_source},\n",
    "        \"processed\": {\"train\":train_processed_source, \"val\":val_processed_source, \"test\":test_processed_source}\n",
    "    },\n",
    "    \"target\": {\n",
    "        \"original\": {\"train\":train_original_target, \"val\":val_original_target, \"test\":test_original_target},\n",
    "        \"processed\": {\"train\":train_processed_target, \"val\":val_processed_target, \"test\":test_processed_target}\n",
    "    },\n",
    "})"
   ]
  },
  {
   "cell_type": "code",
   "execution_count": 20,
   "id": "5b3c01fc",
   "metadata": {
    "execution": {
     "iopub.execute_input": "2022-03-18T22:49:35.976475Z",
     "iopub.status.busy": "2022-03-18T22:49:35.975786Z",
     "iopub.status.idle": "2022-03-18T22:49:40.742231Z",
     "shell.execute_reply": "2022-03-18T22:49:40.742658Z"
    },
    "papermill": {
     "duration": 4.783032,
     "end_time": "2022-03-18T22:49:40.742802",
     "exception": false,
     "start_time": "2022-03-18T22:49:35.959770",
     "status": "completed"
    },
    "tags": []
   },
   "outputs": [
    {
     "name": "stdout",
     "output_type": "stream",
     "text": [
      "{'C_A_1', 'W_A_3', 'C_A_5', 'W_A_1', 'W_A_2', 'C_A_4', 'C_A_2', 'C_A_3', 'W_A_4'}\n"
     ]
    },
    {
     "name": "stdout",
     "output_type": "stream",
     "text": [
      "{'ORACLE.run1_32', 'ORACLE.run1_50', 'ORACLE.run1_26', 'ORACLE.run1_20', 'ORACLE.run1_14', 'ORACLE.run1_44', 'ORACLE.run1_8', 'ORACLE.run1_38'}\n"
     ]
    },
    {
     "name": "stdout",
     "output_type": "stream",
     "text": [
      "tensor([[[-0.7507, -0.9629,  0.0077,  ..., -0.9424, -0.5855, -0.3116],\n",
      "         [ 1.1966, -0.3201, -1.5005,  ...,  1.1992, -0.4314,  0.3963]],\n",
      "\n",
      "        [[-1.0339,  0.4907,  1.4384,  ..., -0.8994,  0.5924, -0.5959],\n",
      "         [-0.7175, -1.1745,  0.1164,  ..., -0.9477, -0.6217, -0.4846]],\n",
      "\n",
      "        [[-0.4312,  0.9191,  1.0310,  ..., -0.3621,  0.6361, -0.4863],\n",
      "         [-1.0220, -0.8484,  0.6451,  ..., -1.0927, -0.2427, -1.0286]],\n",
      "\n",
      "        ...,\n",
      "\n",
      "        [[ 1.5381,  0.6278, -0.0210,  ...,  1.5010,  0.7214,  1.0394],\n",
      "         [-0.2486, -0.0855, -0.0371,  ..., -0.3793, -0.2147,  0.3857]],\n",
      "\n",
      "        [[-0.2610, -0.1521,  0.0778,  ..., -0.6396,  0.1677,  1.0943],\n",
      "         [-0.2593, -0.2766, -0.4132,  ..., -0.6120, -0.1331,  0.8160]],\n",
      "\n",
      "        [[-0.6241,  0.5502,  1.4918,  ...,  0.1415,  0.1918, -1.3802],\n",
      "         [-1.1932, -1.5563, -0.6084,  ..., -2.0169, -1.0407, -0.5345]]])\n"
     ]
    }
   ],
   "source": [
    "from steves_utils.transforms import get_average_magnitude, get_average_power\n",
    "\n",
    "print(set([u for u,_ in val_original_source]))\n",
    "print(set([u for u,_ in val_original_target]))\n",
    "\n",
    "s_x, s_y, q_x, q_y, _ = next(iter(train_processed_source))\n",
    "print(s_x)\n",
    "\n",
    "# for ds in [\n",
    "#     train_processed_source,\n",
    "#     val_processed_source,\n",
    "#     test_processed_source,\n",
    "#     train_processed_target,\n",
    "#     val_processed_target,\n",
    "#     test_processed_target\n",
    "# ]:\n",
    "#     for s_x, s_y, q_x, q_y, _ in ds:\n",
    "#         for X in (s_x, q_x):\n",
    "#             for x in X:\n",
    "#                 assert np.isclose(get_average_magnitude(x.numpy()), 1.0)\n",
    "#                 assert np.isclose(get_average_power(x.numpy()), 1.0)\n",
    "                "
   ]
  },
  {
   "cell_type": "code",
   "execution_count": 21,
   "id": "bbdacba1",
   "metadata": {
    "execution": {
     "iopub.execute_input": "2022-03-18T22:49:40.792000Z",
     "iopub.status.busy": "2022-03-18T22:49:40.791641Z",
     "iopub.status.idle": "2022-03-18T22:49:40.843175Z",
     "shell.execute_reply": "2022-03-18T22:49:40.842722Z"
    },
    "papermill": {
     "duration": 0.073021,
     "end_time": "2022-03-18T22:49:40.843288",
     "exception": false,
     "start_time": "2022-03-18T22:49:40.770267",
     "status": "completed"
    },
    "tags": []
   },
   "outputs": [
    {
     "name": "stdout",
     "output_type": "stream",
     "text": [
      "(2, 200)\n"
     ]
    }
   ],
   "source": [
    "###################################\n",
    "# Build the model\n",
    "###################################\n",
    "# easfsl only wants a tuple for the shape\n",
    "model = Steves_Prototypical_Network(x_net, device=p.device, x_shape=tuple(p.x_shape))\n",
    "optimizer = Adam(params=model.parameters(), lr=p.lr)"
   ]
  },
  {
   "cell_type": "code",
   "execution_count": 22,
   "id": "22b39ac5",
   "metadata": {
    "execution": {
     "iopub.execute_input": "2022-03-18T22:49:40.883546Z",
     "iopub.status.busy": "2022-03-18T22:49:40.879023Z",
     "iopub.status.idle": "2022-03-18T22:57:59.157740Z",
     "shell.execute_reply": "2022-03-18T22:57:59.157509Z"
    },
    "papermill": {
     "duration": 498.296274,
     "end_time": "2022-03-18T22:57:59.157799",
     "exception": false,
     "start_time": "2022-03-18T22:49:40.861525",
     "status": "completed"
    },
    "tags": []
   },
   "outputs": [
    {
     "name": "stdout",
     "output_type": "stream",
     "text": [
      "epoch: 1, [batch: 1 / 2078], examples_per_second: 126.5789, train_label_loss: 2.6386, \n"
     ]
    },
    {
     "name": "stdout",
     "output_type": "stream",
     "text": [
      "epoch: 1, [batch: 208 / 2078], examples_per_second: 3613.9883, train_label_loss: 1.1752, \n"
     ]
    },
    {
     "name": "stdout",
     "output_type": "stream",
     "text": [
      "epoch: 1, [batch: 416 / 2078], examples_per_second: 3660.7622, train_label_loss: 0.5180, \n"
     ]
    },
    {
     "name": "stdout",
     "output_type": "stream",
     "text": [
      "epoch: 1, [batch: 624 / 2078], examples_per_second: 3671.1636, train_label_loss: 0.5945, \n"
     ]
    },
    {
     "name": "stdout",
     "output_type": "stream",
     "text": [
      "epoch: 1, [batch: 831 / 2078], examples_per_second: 3675.1833, train_label_loss: 0.0611, \n"
     ]
    },
    {
     "name": "stdout",
     "output_type": "stream",
     "text": [
      "epoch: 1, [batch: 1039 / 2078], examples_per_second: 3696.0966, train_label_loss: 0.0193, \n"
     ]
    },
    {
     "name": "stdout",
     "output_type": "stream",
     "text": [
      "epoch: 1, [batch: 1247 / 2078], examples_per_second: 3670.4993, train_label_loss: 0.3327, \n"
     ]
    },
    {
     "name": "stdout",
     "output_type": "stream",
     "text": [
      "epoch: 1, [batch: 1454 / 2078], examples_per_second: 3647.3478, train_label_loss: 0.1643, \n"
     ]
    },
    {
     "name": "stdout",
     "output_type": "stream",
     "text": [
      "epoch: 1, [batch: 1662 / 2078], examples_per_second: 3618.7354, train_label_loss: 0.8074, \n"
     ]
    },
    {
     "name": "stdout",
     "output_type": "stream",
     "text": [
      "epoch: 1, [batch: 1870 / 2078], examples_per_second: 3667.1614, train_label_loss: 0.4196, \n"
     ]
    },
    {
     "name": "stdout",
     "output_type": "stream",
     "text": [
      "=============================================================\n",
      "epoch: 1, source_val_acc_label: 0.9431, target_val_acc_label: 0.1832, source_val_label_loss: 0.2431, target_val_label_loss: 2.4546, \n",
      "=============================================================\n"
     ]
    },
    {
     "name": "stdout",
     "output_type": "stream",
     "text": [
      "New best\n"
     ]
    },
    {
     "name": "stdout",
     "output_type": "stream",
     "text": [
      "epoch: 2, [batch: 1 / 2079], examples_per_second: 11.2645, train_label_loss: 0.2920, \n"
     ]
    },
    {
     "name": "stdout",
     "output_type": "stream",
     "text": [
      "epoch: 2, [batch: 208 / 2079], examples_per_second: 3630.9958, train_label_loss: 0.0566, \n"
     ]
    },
    {
     "name": "stdout",
     "output_type": "stream",
     "text": [
      "epoch: 2, [batch: 416 / 2079], examples_per_second: 3665.5580, train_label_loss: 0.0304, \n"
     ]
    },
    {
     "name": "stdout",
     "output_type": "stream",
     "text": [
      "epoch: 2, [batch: 624 / 2079], examples_per_second: 3671.9843, train_label_loss: 0.1448, \n"
     ]
    },
    {
     "name": "stdout",
     "output_type": "stream",
     "text": [
      "epoch: 2, [batch: 832 / 2079], examples_per_second: 3664.6113, train_label_loss: 0.1502, \n"
     ]
    },
    {
     "name": "stdout",
     "output_type": "stream",
     "text": [
      "epoch: 2, [batch: 1040 / 2079], examples_per_second: 3640.9187, train_label_loss: 0.2460, \n"
     ]
    },
    {
     "name": "stdout",
     "output_type": "stream",
     "text": [
      "epoch: 2, [batch: 1247 / 2079], examples_per_second: 3666.5231, train_label_loss: 0.0746, \n"
     ]
    },
    {
     "name": "stdout",
     "output_type": "stream",
     "text": [
      "epoch: 2, [batch: 1455 / 2079], examples_per_second: 3680.1317, train_label_loss: 0.4867, \n"
     ]
    },
    {
     "name": "stdout",
     "output_type": "stream",
     "text": [
      "epoch: 2, [batch: 1663 / 2079], examples_per_second: 3615.7675, train_label_loss: 0.0290, \n"
     ]
    },
    {
     "name": "stdout",
     "output_type": "stream",
     "text": [
      "epoch: 2, [batch: 1871 / 2079], examples_per_second: 3642.6915, train_label_loss: 0.4136, \n"
     ]
    },
    {
     "name": "stdout",
     "output_type": "stream",
     "text": [
      "=============================================================\n",
      "epoch: 2, source_val_acc_label: 0.9613, target_val_acc_label: 0.1681, source_val_label_loss: 0.1702, target_val_label_loss: 2.5734, \n",
      "=============================================================\n"
     ]
    },
    {
     "name": "stdout",
     "output_type": "stream",
     "text": [
      "epoch: 3, [batch: 1 / 2078], examples_per_second: 11.2661, train_label_loss: 0.0414, \n"
     ]
    },
    {
     "name": "stdout",
     "output_type": "stream",
     "text": [
      "epoch: 3, [batch: 208 / 2078], examples_per_second: 3611.5352, train_label_loss: 0.0228, \n"
     ]
    },
    {
     "name": "stdout",
     "output_type": "stream",
     "text": [
      "epoch: 3, [batch: 416 / 2078], examples_per_second: 3640.9407, train_label_loss: 0.0039, \n"
     ]
    },
    {
     "name": "stdout",
     "output_type": "stream",
     "text": [
      "epoch: 3, [batch: 624 / 2078], examples_per_second: 3637.3857, train_label_loss: 0.2854, \n"
     ]
    },
    {
     "name": "stdout",
     "output_type": "stream",
     "text": [
      "epoch: 3, [batch: 831 / 2078], examples_per_second: 3659.1891, train_label_loss: 0.0108, \n"
     ]
    },
    {
     "name": "stdout",
     "output_type": "stream",
     "text": [
      "epoch: 3, [batch: 1039 / 2078], examples_per_second: 3621.5489, train_label_loss: 0.0032, \n"
     ]
    },
    {
     "name": "stdout",
     "output_type": "stream",
     "text": [
      "epoch: 3, [batch: 1247 / 2078], examples_per_second: 3628.4157, train_label_loss: 0.0324, \n"
     ]
    },
    {
     "name": "stdout",
     "output_type": "stream",
     "text": [
      "epoch: 3, [batch: 1454 / 2078], examples_per_second: 3632.9478, train_label_loss: 0.8388, \n"
     ]
    },
    {
     "name": "stdout",
     "output_type": "stream",
     "text": [
      "epoch: 3, [batch: 1662 / 2078], examples_per_second: 3690.5290, train_label_loss: 0.1093, \n"
     ]
    },
    {
     "name": "stdout",
     "output_type": "stream",
     "text": [
      "epoch: 3, [batch: 1870 / 2078], examples_per_second: 3664.9879, train_label_loss: 0.0977, \n"
     ]
    },
    {
     "name": "stdout",
     "output_type": "stream",
     "text": [
      "=============================================================\n",
      "epoch: 3, source_val_acc_label: 0.9697, target_val_acc_label: 0.1659, source_val_label_loss: 0.1350, target_val_label_loss: 2.5886, \n",
      "=============================================================\n"
     ]
    },
    {
     "name": "stdout",
     "output_type": "stream",
     "text": [
      "epoch: 4, [batch: 1 / 2077], examples_per_second: 11.2247, train_label_loss: 0.0239, \n"
     ]
    },
    {
     "name": "stdout",
     "output_type": "stream",
     "text": [
      "epoch: 4, [batch: 208 / 2077], examples_per_second: 3600.2731, train_label_loss: 0.1933, \n"
     ]
    },
    {
     "name": "stdout",
     "output_type": "stream",
     "text": [
      "epoch: 4, [batch: 416 / 2077], examples_per_second: 3678.8341, train_label_loss: 0.0468, \n"
     ]
    },
    {
     "name": "stdout",
     "output_type": "stream",
     "text": [
      "epoch: 4, [batch: 623 / 2077], examples_per_second: 3645.0427, train_label_loss: 0.0154, \n"
     ]
    },
    {
     "name": "stdout",
     "output_type": "stream",
     "text": [
      "epoch: 4, [batch: 831 / 2077], examples_per_second: 3660.5140, train_label_loss: 0.0010, \n"
     ]
    },
    {
     "name": "stdout",
     "output_type": "stream",
     "text": [
      "epoch: 4, [batch: 1039 / 2077], examples_per_second: 3643.1106, train_label_loss: 0.4592, \n"
     ]
    },
    {
     "name": "stdout",
     "output_type": "stream",
     "text": [
      "epoch: 4, [batch: 1246 / 2077], examples_per_second: 3653.4815, train_label_loss: 0.3760, \n"
     ]
    },
    {
     "name": "stdout",
     "output_type": "stream",
     "text": [
      "epoch: 4, [batch: 1454 / 2077], examples_per_second: 3659.9724, train_label_loss: 0.0532, \n"
     ]
    },
    {
     "name": "stdout",
     "output_type": "stream",
     "text": [
      "epoch: 4, [batch: 1661 / 2077], examples_per_second: 3618.2027, train_label_loss: 0.2526, \n"
     ]
    },
    {
     "name": "stdout",
     "output_type": "stream",
     "text": [
      "epoch: 4, [batch: 1869 / 2077], examples_per_second: 3669.0075, train_label_loss: 0.2044, \n"
     ]
    },
    {
     "name": "stdout",
     "output_type": "stream",
     "text": [
      "=============================================================\n",
      "epoch: 4, source_val_acc_label: 0.9705, target_val_acc_label: 0.1732, source_val_label_loss: 0.1306, target_val_label_loss: 2.5912, \n",
      "=============================================================\n"
     ]
    },
    {
     "name": "stdout",
     "output_type": "stream",
     "text": [
      "epoch: 5, [batch: 1 / 2077], examples_per_second: 11.2962, train_label_loss: 0.0397, \n"
     ]
    },
    {
     "name": "stdout",
     "output_type": "stream",
     "text": [
      "epoch: 5, [batch: 208 / 2077], examples_per_second: 3620.5136, train_label_loss: 0.0567, \n"
     ]
    },
    {
     "name": "stdout",
     "output_type": "stream",
     "text": [
      "epoch: 5, [batch: 416 / 2077], examples_per_second: 3635.9408, train_label_loss: 0.0090, \n"
     ]
    },
    {
     "name": "stdout",
     "output_type": "stream",
     "text": [
      "epoch: 5, [batch: 623 / 2077], examples_per_second: 3650.9180, train_label_loss: 0.1824, \n"
     ]
    },
    {
     "name": "stdout",
     "output_type": "stream",
     "text": [
      "epoch: 5, [batch: 831 / 2077], examples_per_second: 3643.0432, train_label_loss: 0.0078, \n"
     ]
    },
    {
     "name": "stdout",
     "output_type": "stream",
     "text": [
      "epoch: 5, [batch: 1039 / 2077], examples_per_second: 3642.1376, train_label_loss: 0.5557, \n"
     ]
    },
    {
     "name": "stdout",
     "output_type": "stream",
     "text": [
      "epoch: 5, [batch: 1246 / 2077], examples_per_second: 3659.7153, train_label_loss: 0.0213, \n"
     ]
    },
    {
     "name": "stdout",
     "output_type": "stream",
     "text": [
      "epoch: 5, [batch: 1454 / 2077], examples_per_second: 3624.5148, train_label_loss: 0.1310, \n"
     ]
    },
    {
     "name": "stdout",
     "output_type": "stream",
     "text": [
      "epoch: 5, [batch: 1661 / 2077], examples_per_second: 3647.4934, train_label_loss: 0.0904, \n"
     ]
    },
    {
     "name": "stdout",
     "output_type": "stream",
     "text": [
      "epoch: 5, [batch: 1869 / 2077], examples_per_second: 3643.6435, train_label_loss: 0.0088, \n"
     ]
    },
    {
     "name": "stdout",
     "output_type": "stream",
     "text": [
      "=============================================================\n",
      "epoch: 5, source_val_acc_label: 0.9728, target_val_acc_label: 0.2125, source_val_label_loss: 0.1298, target_val_label_loss: 2.4318, \n",
      "=============================================================\n"
     ]
    },
    {
     "name": "stdout",
     "output_type": "stream",
     "text": [
      "New best\n"
     ]
    },
    {
     "name": "stdout",
     "output_type": "stream",
     "text": [
      "epoch: 6, [batch: 1 / 2080], examples_per_second: 11.1667, train_label_loss: 0.0096, \n"
     ]
    },
    {
     "name": "stdout",
     "output_type": "stream",
     "text": [
      "epoch: 6, [batch: 208 / 2080], examples_per_second: 3615.8644, train_label_loss: 0.1360, \n"
     ]
    },
    {
     "name": "stdout",
     "output_type": "stream",
     "text": [
      "epoch: 6, [batch: 416 / 2080], examples_per_second: 3638.8839, train_label_loss: 0.0007, \n"
     ]
    },
    {
     "name": "stdout",
     "output_type": "stream",
     "text": [
      "epoch: 6, [batch: 624 / 2080], examples_per_second: 3634.9249, train_label_loss: 0.0039, \n"
     ]
    },
    {
     "name": "stdout",
     "output_type": "stream",
     "text": [
      "epoch: 6, [batch: 832 / 2080], examples_per_second: 3646.5009, train_label_loss: 0.0471, \n"
     ]
    },
    {
     "name": "stdout",
     "output_type": "stream",
     "text": [
      "epoch: 6, [batch: 1040 / 2080], examples_per_second: 3629.4084, train_label_loss: 0.0132, \n"
     ]
    },
    {
     "name": "stdout",
     "output_type": "stream",
     "text": [
      "epoch: 6, [batch: 1248 / 2080], examples_per_second: 3616.9336, train_label_loss: 0.1462, \n"
     ]
    },
    {
     "name": "stdout",
     "output_type": "stream",
     "text": [
      "epoch: 6, [batch: 1456 / 2080], examples_per_second: 3561.2989, train_label_loss: 0.3762, \n"
     ]
    },
    {
     "name": "stdout",
     "output_type": "stream",
     "text": [
      "epoch: 6, [batch: 1664 / 2080], examples_per_second: 3684.8642, train_label_loss: 0.0607, \n"
     ]
    },
    {
     "name": "stdout",
     "output_type": "stream",
     "text": [
      "epoch: 6, [batch: 1872 / 2080], examples_per_second: 3623.0230, train_label_loss: 0.3817, \n"
     ]
    },
    {
     "name": "stdout",
     "output_type": "stream",
     "text": [
      "=============================================================\n",
      "epoch: 6, source_val_acc_label: 0.9743, target_val_acc_label: 0.1771, source_val_label_loss: 0.1210, target_val_label_loss: 2.6156, \n",
      "=============================================================\n"
     ]
    },
    {
     "name": "stdout",
     "output_type": "stream",
     "text": [
      "epoch: 7, [batch: 1 / 2084], examples_per_second: 11.2461, train_label_loss: 0.0059, \n"
     ]
    },
    {
     "name": "stdout",
     "output_type": "stream",
     "text": [
      "epoch: 7, [batch: 209 / 2084], examples_per_second: 3598.8656, train_label_loss: 0.0047, \n"
     ]
    },
    {
     "name": "stdout",
     "output_type": "stream",
     "text": [
      "epoch: 7, [batch: 417 / 2084], examples_per_second: 3624.2942, train_label_loss: 0.0241, \n"
     ]
    },
    {
     "name": "stdout",
     "output_type": "stream",
     "text": [
      "epoch: 7, [batch: 625 / 2084], examples_per_second: 3631.6722, train_label_loss: 0.0089, \n"
     ]
    },
    {
     "name": "stdout",
     "output_type": "stream",
     "text": [
      "epoch: 7, [batch: 834 / 2084], examples_per_second: 3613.7391, train_label_loss: 0.0000, \n"
     ]
    },
    {
     "name": "stdout",
     "output_type": "stream",
     "text": [
      "epoch: 7, [batch: 1042 / 2084], examples_per_second: 3634.1025, train_label_loss: 0.0007, \n"
     ]
    },
    {
     "name": "stdout",
     "output_type": "stream",
     "text": [
      "epoch: 7, [batch: 1250 / 2084], examples_per_second: 3637.4045, train_label_loss: 0.0024, \n"
     ]
    },
    {
     "name": "stdout",
     "output_type": "stream",
     "text": [
      "epoch: 7, [batch: 1459 / 2084], examples_per_second: 3607.1238, train_label_loss: 0.0610, \n"
     ]
    },
    {
     "name": "stdout",
     "output_type": "stream",
     "text": [
      "epoch: 7, [batch: 1667 / 2084], examples_per_second: 3655.3562, train_label_loss: 0.0795, \n"
     ]
    },
    {
     "name": "stdout",
     "output_type": "stream",
     "text": [
      "epoch: 7, [batch: 1875 / 2084], examples_per_second: 3658.9127, train_label_loss: 0.0071, \n"
     ]
    },
    {
     "name": "stdout",
     "output_type": "stream",
     "text": [
      "=============================================================\n",
      "epoch: 7, source_val_acc_label: 0.9734, target_val_acc_label: 0.1535, source_val_label_loss: 0.1292, target_val_label_loss: 2.8671, \n",
      "=============================================================\n"
     ]
    },
    {
     "name": "stdout",
     "output_type": "stream",
     "text": [
      "epoch: 8, [batch: 1 / 2082], examples_per_second: 11.2292, train_label_loss: 0.0312, \n"
     ]
    },
    {
     "name": "stdout",
     "output_type": "stream",
     "text": [
      "epoch: 8, [batch: 209 / 2082], examples_per_second: 3603.8187, train_label_loss: 0.2016, \n"
     ]
    },
    {
     "name": "stdout",
     "output_type": "stream",
     "text": [
      "epoch: 8, [batch: 417 / 2082], examples_per_second: 3613.9956, train_label_loss: 0.0309, \n"
     ]
    },
    {
     "name": "stdout",
     "output_type": "stream",
     "text": [
      "epoch: 8, [batch: 625 / 2082], examples_per_second: 3619.7022, train_label_loss: 0.0002, \n"
     ]
    },
    {
     "name": "stdout",
     "output_type": "stream",
     "text": [
      "epoch: 8, [batch: 833 / 2082], examples_per_second: 3641.1402, train_label_loss: 0.2914, \n"
     ]
    },
    {
     "name": "stdout",
     "output_type": "stream",
     "text": [
      "epoch: 8, [batch: 1041 / 2082], examples_per_second: 3615.1882, train_label_loss: 0.2783, \n"
     ]
    },
    {
     "name": "stdout",
     "output_type": "stream",
     "text": [
      "epoch: 8, [batch: 1249 / 2082], examples_per_second: 3647.2249, train_label_loss: 0.0016, \n"
     ]
    },
    {
     "name": "stdout",
     "output_type": "stream",
     "text": [
      "epoch: 8, [batch: 1457 / 2082], examples_per_second: 3647.1141, train_label_loss: 0.0736, \n"
     ]
    },
    {
     "name": "stdout",
     "output_type": "stream",
     "text": [
      "epoch: 8, [batch: 1665 / 2082], examples_per_second: 3592.1322, train_label_loss: 0.0083, \n"
     ]
    },
    {
     "name": "stdout",
     "output_type": "stream",
     "text": [
      "epoch: 8, [batch: 1873 / 2082], examples_per_second: 3654.6557, train_label_loss: 0.0020, \n"
     ]
    },
    {
     "name": "stdout",
     "output_type": "stream",
     "text": [
      "=============================================================\n",
      "epoch: 8, source_val_acc_label: 0.9742, target_val_acc_label: 0.1684, source_val_label_loss: 0.1324, target_val_label_loss: 2.8883, \n",
      "=============================================================\n"
     ]
    },
    {
     "name": "stdout",
     "output_type": "stream",
     "text": [
      "epoch: 9, [batch: 1 / 2081], examples_per_second: 11.1476, train_label_loss: 0.0012, \n"
     ]
    },
    {
     "name": "stdout",
     "output_type": "stream",
     "text": [
      "epoch: 9, [batch: 209 / 2081], examples_per_second: 3607.0840, train_label_loss: 0.0397, \n"
     ]
    },
    {
     "name": "stdout",
     "output_type": "stream",
     "text": [
      "epoch: 9, [batch: 417 / 2081], examples_per_second: 3637.6854, train_label_loss: 0.0005, \n"
     ]
    },
    {
     "name": "stdout",
     "output_type": "stream",
     "text": [
      "epoch: 9, [batch: 625 / 2081], examples_per_second: 3622.6521, train_label_loss: 0.0005, \n"
     ]
    },
    {
     "name": "stdout",
     "output_type": "stream",
     "text": [
      "epoch: 9, [batch: 833 / 2081], examples_per_second: 3642.0727, train_label_loss: 0.0010, \n"
     ]
    },
    {
     "name": "stdout",
     "output_type": "stream",
     "text": [
      "epoch: 9, [batch: 1041 / 2081], examples_per_second: 3636.1903, train_label_loss: 0.0019, \n"
     ]
    },
    {
     "name": "stdout",
     "output_type": "stream",
     "text": [
      "epoch: 9, [batch: 1249 / 2081], examples_per_second: 3633.8717, train_label_loss: 0.1074, \n"
     ]
    },
    {
     "name": "stdout",
     "output_type": "stream",
     "text": [
      "epoch: 9, [batch: 1457 / 2081], examples_per_second: 3644.2177, train_label_loss: 0.0005, \n"
     ]
    },
    {
     "name": "stdout",
     "output_type": "stream",
     "text": [
      "epoch: 9, [batch: 1665 / 2081], examples_per_second: 3607.0189, train_label_loss: 0.0737, \n"
     ]
    },
    {
     "name": "stdout",
     "output_type": "stream",
     "text": [
      "epoch: 9, [batch: 1873 / 2081], examples_per_second: 3744.6091, train_label_loss: 0.0058, \n"
     ]
    },
    {
     "name": "stdout",
     "output_type": "stream",
     "text": [
      "=============================================================\n",
      "epoch: 9, source_val_acc_label: 0.9738, target_val_acc_label: 0.1621, source_val_label_loss: 0.1389, target_val_label_loss: 3.1374, \n",
      "=============================================================\n"
     ]
    },
    {
     "name": "stdout",
     "output_type": "stream",
     "text": [
      "Patience (3) exhausted\n"
     ]
    }
   ],
   "source": [
    "###################################\n",
    "# train\n",
    "###################################\n",
    "jig = PTN_Train_Eval_Test_Jig(model, p.BEST_MODEL_PATH, p.device)\n",
    "\n",
    "jig.train(\n",
    "    train_iterable=datasets.source.processed.train,\n",
    "    source_val_iterable=datasets.source.processed.val,\n",
    "    target_val_iterable=datasets.target.processed.val,\n",
    "    num_epochs=p.n_epoch,\n",
    "    num_logs_per_epoch=p.NUM_LOGS_PER_EPOCH,\n",
    "    patience=p.patience,\n",
    "    optimizer=optimizer,\n",
    "    criteria_for_best=p.criteria_for_best,\n",
    ")"
   ]
  },
  {
   "cell_type": "code",
   "execution_count": 23,
   "id": "31e8fabf",
   "metadata": {
    "execution": {
     "iopub.execute_input": "2022-03-18T22:57:59.225001Z",
     "iopub.status.busy": "2022-03-18T22:57:59.224754Z",
     "iopub.status.idle": "2022-03-18T22:57:59.244831Z",
     "shell.execute_reply": "2022-03-18T22:57:59.244446Z"
    },
    "papermill": {
     "duration": 0.055098,
     "end_time": "2022-03-18T22:57:59.244921",
     "exception": false,
     "start_time": "2022-03-18T22:57:59.189823",
     "status": "completed"
    },
    "tags": []
   },
   "outputs": [],
   "source": [
    "total_experiment_time_secs = time.time() - start_time_secs"
   ]
  },
  {
   "cell_type": "code",
   "execution_count": 24,
   "id": "87b9595b",
   "metadata": {
    "execution": {
     "iopub.execute_input": "2022-03-18T22:57:59.319322Z",
     "iopub.status.busy": "2022-03-18T22:57:59.319024Z",
     "iopub.status.idle": "2022-03-18T22:59:02.519349Z",
     "shell.execute_reply": "2022-03-18T22:59:02.519752Z"
    },
    "papermill": {
     "duration": 63.238025,
     "end_time": "2022-03-18T22:59:02.519883",
     "exception": false,
     "start_time": "2022-03-18T22:57:59.281858",
     "status": "completed"
    },
    "tags": []
   },
   "outputs": [],
   "source": [
    "###################################\n",
    "# Evaluate the model\n",
    "###################################\n",
    "source_test_label_accuracy, source_test_label_loss = jig.test(datasets.source.processed.test)\n",
    "target_test_label_accuracy, target_test_label_loss = jig.test(datasets.target.processed.test)\n",
    "\n",
    "source_val_label_accuracy, source_val_label_loss = jig.test(datasets.source.processed.val)\n",
    "target_val_label_accuracy, target_val_label_loss = jig.test(datasets.target.processed.val)\n",
    "\n",
    "history = jig.get_history()\n",
    "\n",
    "total_epochs_trained = len(history[\"epoch_indices\"])\n",
    "\n",
    "val_dl = Iterable_Aggregator((datasets.source.original.val,datasets.target.original.val))\n",
    "\n",
    "confusion = ptn_confusion_by_domain_over_dataloader(model, p.device, val_dl)\n",
    "per_domain_accuracy = per_domain_accuracy_from_confusion(confusion)\n",
    "\n",
    "# Add a key to per_domain_accuracy for if it was a source domain\n",
    "for domain, accuracy in per_domain_accuracy.items():\n",
    "    per_domain_accuracy[domain] = {\n",
    "        \"accuracy\": accuracy,\n",
    "        \"source?\": domain in p.domains_source\n",
    "    }\n",
    "\n",
    "# Do an independent accuracy assesment JUST TO BE SURE!\n",
    "# _source_test_label_accuracy = independent_accuracy_assesment(model, datasets.source.processed.test, p.device)\n",
    "# _target_test_label_accuracy = independent_accuracy_assesment(model, datasets.target.processed.test, p.device)\n",
    "# _source_val_label_accuracy = independent_accuracy_assesment(model, datasets.source.processed.val, p.device)\n",
    "# _target_val_label_accuracy = independent_accuracy_assesment(model, datasets.target.processed.val, p.device)\n",
    "\n",
    "# assert(_source_test_label_accuracy == source_test_label_accuracy)\n",
    "# assert(_target_test_label_accuracy == target_test_label_accuracy)\n",
    "# assert(_source_val_label_accuracy == source_val_label_accuracy)\n",
    "# assert(_target_val_label_accuracy == target_val_label_accuracy)\n",
    "\n",
    "experiment = {\n",
    "    \"experiment_name\": p.experiment_name,\n",
    "    \"parameters\": dict(p),\n",
    "    \"results\": {\n",
    "        \"source_test_label_accuracy\": source_test_label_accuracy,\n",
    "        \"source_test_label_loss\": source_test_label_loss,\n",
    "        \"target_test_label_accuracy\": target_test_label_accuracy,\n",
    "        \"target_test_label_loss\": target_test_label_loss,\n",
    "        \"source_val_label_accuracy\": source_val_label_accuracy,\n",
    "        \"source_val_label_loss\": source_val_label_loss,\n",
    "        \"target_val_label_accuracy\": target_val_label_accuracy,\n",
    "        \"target_val_label_loss\": target_val_label_loss,\n",
    "        \"total_epochs_trained\": total_epochs_trained,\n",
    "        \"total_experiment_time_secs\": total_experiment_time_secs,\n",
    "        \"confusion\": confusion,\n",
    "        \"per_domain_accuracy\": per_domain_accuracy,\n",
    "    },\n",
    "    \"history\": history,\n",
    "    \"dataset_metrics\": get_dataset_metrics(datasets, \"ptn\"),\n",
    "}"
   ]
  },
  {
   "cell_type": "code",
   "execution_count": 25,
   "id": "54a21829",
   "metadata": {
    "execution": {
     "iopub.execute_input": "2022-03-18T22:59:02.592627Z",
     "iopub.status.busy": "2022-03-18T22:59:02.592369Z",
     "iopub.status.idle": "2022-03-18T22:59:02.722531Z",
     "shell.execute_reply": "2022-03-18T22:59:02.722137Z"
    },
    "papermill": {
     "duration": 0.164723,
     "end_time": "2022-03-18T22:59:02.722623",
     "exception": false,
     "start_time": "2022-03-18T22:59:02.557900",
     "status": "completed"
    },
    "tags": []
   },
   "outputs": [
    {
     "data": {
      "image/png": "[encoded data removed]",
      "text/plain": [
       "<Figure size 1080x504 with 1 Axes>"
      ]
     },
     "metadata": {
      "needs_background": "light"
     },
     "output_type": "display_data"
    }
   ],
   "source": [
    "ax = get_loss_curve(experiment)\n",
    "plt.show()"
   ]
  },
  {
   "cell_type": "code",
   "execution_count": 26,
   "id": "fd8a0f60",
   "metadata": {
    "execution": {
     "iopub.execute_input": "2022-03-18T22:59:02.794826Z",
     "iopub.status.busy": "2022-03-18T22:59:02.794577Z",
     "iopub.status.idle": "2022-03-18T22:59:02.935816Z",
     "shell.execute_reply": "2022-03-18T22:59:02.935554Z"
    },
    "papermill": {
     "duration": 0.176002,
     "end_time": "2022-03-18T22:59:02.935875",
     "exception": false,
     "start_time": "2022-03-18T22:59:02.759873",
     "status": "completed"
    },
    "tags": []
   },
   "outputs": [
    {
     "data": {
      "text/plain": [
       "<AxesSubplot:title={'center':'Results'}>"
      ]
     },
     "execution_count": 26,
     "metadata": {},
     "output_type": "execute_result"
    },
    {
     "data": {
      "image/png": "[encoded data removed]",
      "text/plain": [
       "<Figure size 1080x504 with 1 Axes>"
      ]
     },
     "metadata": {
      "needs_background": "light"
     },
     "output_type": "display_data"
    }
   ],
   "source": [
    "get_results_table(experiment)"
   ]
  },
  {
   "cell_type": "code",
   "execution_count": 27,
   "id": "cf8dc689",
   "metadata": {
    "execution": {
     "iopub.execute_input": "2022-03-18T22:59:03.007274Z",
     "iopub.status.busy": "2022-03-18T22:59:03.006993Z",
     "iopub.status.idle": "2022-03-18T22:59:03.172019Z",
     "shell.execute_reply": "2022-03-18T22:59:03.171577Z"
    },
    "papermill": {
     "duration": 0.201429,
     "end_time": "2022-03-18T22:59:03.172108",
     "exception": false,
     "start_time": "2022-03-18T22:59:02.970679",
     "status": "completed"
    },
    "tags": []
   },
   "outputs": [
    {
     "data": {
      "text/plain": [
       "<AxesSubplot:title={'center':'Per Domain Validation Accuracy'}, xlabel='domain'>"
      ]
     },
     "execution_count": 27,
     "metadata": {},
     "output_type": "execute_result"
    },
    {
     "data": {
      "image/png": "[encoded data removed]",
      "text/plain": [
       "<Figure size 1080x504 with 1 Axes>"
      ]
     },
     "metadata": {
      "needs_background": "light"
     },
     "output_type": "display_data"
    }
   ],
   "source": [
    "get_domain_accuracies(experiment)"
   ]
  },
  {
   "cell_type": "code",
   "execution_count": 28,
   "id": "a74ae082",
   "metadata": {
    "execution": {
     "iopub.execute_input": "2022-03-18T22:59:03.246410Z",
     "iopub.status.busy": "2022-03-18T22:59:03.246156Z",
     "iopub.status.idle": "2022-03-18T22:59:03.261078Z",
     "shell.execute_reply": "2022-03-18T22:59:03.261431Z"
    },
    "papermill": {
     "duration": 0.052687,
     "end_time": "2022-03-18T22:59:03.261539",
     "exception": false,
     "start_time": "2022-03-18T22:59:03.208852",
     "status": "completed"
    },
    "tags": []
   },
   "outputs": [
    {
     "name": "stdout",
     "output_type": "stream",
     "text": [
      "Source Test Label Accuracy: 0.972465034965035 Target Test Label Accuracy: 0.21149088541666666\n",
      "Source Val Label Accuracy: 0.9727928321678322 Target Val Label Accuracy: 0.21246744791666666\n"
     ]
    }
   ],
   "source": [
    "print(\"Source Test Label Accuracy:\", experiment[\"results\"][\"source_test_label_accuracy\"], \"Target Test Label Accuracy:\", experiment[\"results\"][\"target_test_label_accuracy\"])\n",
    "print(\"Source Val Label Accuracy:\", experiment[\"results\"][\"source_val_label_accuracy\"], \"Target Val Label Accuracy:\", experiment[\"results\"][\"target_val_label_accuracy\"])"
   ]
  },
  {
   "cell_type": "code",
   "execution_count": 29,
   "id": "dacca602",
   "metadata": {
    "execution": {
     "iopub.execute_input": "2022-03-18T22:59:03.338965Z",
     "iopub.status.busy": "2022-03-18T22:59:03.338718Z",
     "iopub.status.idle": "2022-03-18T22:59:03.356146Z",
     "shell.execute_reply": "2022-03-18T22:59:03.356438Z"
    },
    "papermill": {
     "duration": 0.055229,
     "end_time": "2022-03-18T22:59:03.356520",
     "exception": false,
     "start_time": "2022-03-18T22:59:03.301291",
     "status": "completed"
    },
    "tags": [
     "experiment_json"
    ]
   },
   "outputs": [
    {
     "data": {
      "text/plain": [
       "'{\"experiment_name\": \"tl_3A:cores+wisig -> oracle.run1.framed\", \"parameters\": {\"experiment_name\": \"tl_3A:cores+wisig -> oracle.run1.framed\", \"device\": \"cuda\", \"lr\": 0.001, \"x_shape\": [2, 200], \"n_shot\": 3, \"n_query\": 2, \"train_k_factor\": 3, \"val_k_factor\": 2, \"test_k_factor\": 2, \"torch_default_dtype\": \"torch.float32\", \"n_epoch\": 50, \"patience\": 3, \"criteria_for_best\": \"target_loss\", \"x_net\": [{\"class\": \"nnReshape\", \"kargs\": {\"shape\": [-1, 1, 2, 200]}}, {\"class\": \"Conv2d\", \"kargs\": {\"in_channels\": 1, \"out_channels\": 256, \"kernel_size\": [1, 7], \"bias\": false, \"padding\": [0, 3]}}, {\"class\": \"ReLU\", \"kargs\": {\"inplace\": true}}, {\"class\": \"BatchNorm2d\", \"kargs\": {\"num_features\": 256}}, {\"class\": \"Conv2d\", \"kargs\": {\"in_channels\": 256, \"out_channels\": 80, \"kernel_size\": [2, 7], \"bias\": true, \"padding\": [0, 3]}}, {\"class\": \"ReLU\", \"kargs\": {\"inplace\": true}}, {\"class\": \"BatchNorm2d\", \"kargs\": {\"num_features\": 80}}, {\"class\": \"Flatten\", \"kargs\": {}}, {\"class\": \"Linear\", \"kargs\": {\"in_features\": 16000, \"out_features\": 256}}, {\"class\": \"ReLU\", \"kargs\": {\"inplace\": true}}, {\"class\": \"BatchNorm1d\", \"kargs\": {\"num_features\": 256}}, {\"class\": \"Linear\", \"kargs\": {\"in_features\": 256, \"out_features\": 256}}], \"NUM_LOGS_PER_EPOCH\": 10, \"BEST_MODEL_PATH\": \"./best_model.pth\", \"n_way\": 16, \"datasets\": [{\"labels\": [\"1-10.\", \"1-11.\", \"1-15.\", \"1-16.\", \"1-17.\", \"1-18.\", \"1-19.\", \"10-4.\", \"10-7.\", \"11-1.\", \"11-14.\", \"11-17.\", \"11-20.\", \"11-7.\", \"13-20.\", \"13-8.\", \"14-10.\", \"14-11.\", \"14-14.\", \"14-7.\", \"15-1.\", \"15-20.\", \"16-1.\", \"16-16.\", \"17-10.\", \"17-11.\", \"17-2.\", \"19-1.\", \"19-16.\", \"19-19.\", \"19-20.\", \"19-3.\", \"2-10.\", \"2-11.\", \"2-17.\", \"2-18.\", \"2-20.\", \"2-3.\", \"2-4.\", \"2-5.\", \"2-6.\", \"2-7.\", \"2-8.\", \"3-13.\", \"3-18.\", \"3-3.\", \"4-1.\", \"4-10.\", \"4-11.\", \"4-19.\", \"5-5.\", \"6-15.\", \"7-10.\", \"7-14.\", \"8-18.\", \"8-20.\", \"8-3.\", \"8-8.\"], \"domains\": [1, 2, 3, 4, 5], \"num_examples_per_domain_per_label\": 100, \"pickle_path\": \"/mnt/wd500GB/CSC500/csc500-main/datasets/cores.stratified_ds.2022A.pkl\", \"source_or_target_dataset\": \"source\", \"x_transforms\": [\"unit_mag\", \"take_200\"], \"episode_transforms\": [], \"domain_prefix\": \"C_A_\"}, {\"labels\": [\"1-10\", \"1-12\", \"1-14\", \"1-16\", \"1-18\", \"1-19\", \"1-8\", \"10-11\", \"10-17\", \"10-4\", \"10-7\", \"11-1\", \"11-10\", \"11-19\", \"11-20\", \"11-4\", \"11-7\", \"12-19\", \"12-20\", \"12-7\", \"13-14\", \"13-18\", \"13-19\", \"13-20\", \"13-3\", \"13-7\", \"14-10\", \"14-11\", \"14-12\", \"14-13\", \"14-14\", \"14-19\", \"14-20\", \"14-7\", \"14-8\", \"14-9\", \"15-1\", \"15-19\", \"15-6\", \"16-1\", \"16-16\", \"16-19\", \"16-20\", \"17-10\", \"17-11\", \"18-1\", \"18-10\", \"18-11\", \"18-12\", \"18-13\", \"18-14\", \"18-15\", \"18-16\", \"18-17\", \"18-19\", \"18-2\", \"18-20\", \"18-4\", \"18-5\", \"18-7\", \"18-8\", \"18-9\", \"19-1\", \"19-10\", \"19-11\", \"19-12\", \"19-13\", \"19-14\", \"19-15\", \"19-19\", \"19-2\", \"19-20\", \"19-3\", \"19-4\", \"19-6\", \"19-7\", \"19-8\", \"19-9\", \"2-1\", \"2-13\", \"2-15\", \"2-3\", \"2-4\", \"2-5\", \"2-6\", \"2-7\", \"2-8\", \"20-1\", \"20-12\", \"20-14\", \"20-15\", \"20-16\", \"20-18\", \"20-19\", \"20-20\", \"20-3\", \"20-4\", \"20-5\", \"20-7\", \"20-8\", \"3-1\", \"3-13\", \"3-18\", \"3-2\", \"3-8\", \"4-1\", \"4-10\", \"4-11\", \"5-1\", \"5-5\", \"6-1\", \"6-15\", \"6-6\", \"7-10\", \"7-11\", \"7-12\", \"7-13\", \"7-14\", \"7-7\", \"7-8\", \"7-9\", \"8-1\", \"8-13\", \"8-14\", \"8-18\", \"8-20\", \"8-3\", \"8-8\", \"9-1\", \"9-7\"], \"domains\": [1, 2, 3, 4], \"num_examples_per_domain_per_label\": 100, \"pickle_path\": \"/mnt/wd500GB/CSC500/csc500-main/datasets/wisig.node3-19.stratified_ds.2022A.pkl\", \"source_or_target_dataset\": \"source\", \"x_transforms\": [\"unit_mag\", \"take_200\"], \"episode_transforms\": [], \"domain_prefix\": \"W_A_\"}, {\"labels\": [\"3123D52\", \"3123D65\", \"3123D79\", \"3123D80\", \"3123D54\", \"3123D70\", \"3123D7B\", \"3123D89\", \"3123D58\", \"3123D76\", \"3123D7D\", \"3123EFE\", \"3123D64\", \"3123D78\", \"3123D7E\", \"3124E4A\"], \"domains\": [32, 38, 8, 44, 14, 50, 20, 26], \"num_examples_per_domain_per_label\": 2000, \"pickle_path\": \"/mnt/wd500GB/CSC500/csc500-main/datasets/oracle.Run1_framed_2000Examples_stratified_ds.2022A.pkl\", \"source_or_target_dataset\": \"target\", \"x_transforms\": [\"unit_mag\", \"take_200\", \"resample_20Msps_to_25Msps\"], \"episode_transforms\": [], \"domain_prefix\": \"ORACLE.run1_\"}], \"seed\": 7, \"dataset_seed\": 7, \"domains_source\": [\"C_A_1\", \"C_A_2\", \"C_A_3\", \"C_A_4\", \"C_A_5\", \"W_A_1\", \"W_A_2\", \"W_A_3\", \"W_A_4\"], \"domains_target\": [\"ORACLE.run1_32\", \"ORACLE.run1_38\", \"ORACLE.run1_8\", \"ORACLE.run1_44\", \"ORACLE.run1_14\", \"ORACLE.run1_50\", \"ORACLE.run1_20\", \"ORACLE.run1_26\"]}, \"results\": {\"source_test_label_accuracy\": 0.972465034965035, \"source_test_label_loss\": 0.12960264086723328, \"target_test_label_accuracy\": 0.21149088541666666, \"target_test_label_loss\": 2.4253430366516113, \"source_val_label_accuracy\": 0.9727928321678322, \"source_val_label_loss\": 0.12983761727809906, \"target_val_label_accuracy\": 0.21246744791666666, \"target_val_label_loss\": 2.4317851066589355, \"total_epochs_trained\": 9, \"total_experiment_time_secs\": 541.2459056377411, \"confusion\": {\"C_A_5\": {\"26\": {\"26\": 12}, \"7\": {\"7\": 12}, \"56\": {\"56\": 12}, \"36\": {\"36\": 12}, \"47\": {\"47\": 8}, \"2\": {\"2\": 10}, \"15\": {\"15\": 12}, \"14\": {\"14\": 12}, \"27\": {\"27\": 12}, \"40\": {\"40\": 8}, \"49\": {\"49\": 12}, \"45\": {\"45\": 10, \"4\": 2}, \"46\": {\"46\": 12}, \"11\": {\"11\": 12}, \"30\": {\"30\": 12}, \"0\": {\"0\": 12}, \"10\": {\"10\": 12}, \"1\": {\"1\": 12}, \"42\": {\"42\": 12}, \"54\": {\"54\": 12}, \"55\": {\"55\": 10}, \"23\": {\"23\": 12}, \"25\": {\"25\": 8}, \"28\": {\"28\": 12}, \"32\": {\"32\": 12}, \"9\": {\"9\": 12}, \"39\": {\"39\": 12}, \"3\": {\"3\": 9, \"10\": 1}, \"29\": {\"29\": 12}, \"17\": {\"17\": 12}, \"35\": {\"35\": 12}, \"44\": {\"44\": 11, \"19\": 1}, \"5\": {\"5\": 10}, \"33\": {\"33\": 10}, \"34\": {\"34\": 12}, \"13\": {\"13\": 12}, \"41\": {\"41\": 12}, \"6\": {\"6\": 12}, \"51\": {\"51\": 10}, \"50\": {\"50\": 12}, \"37\": {\"37\": 12}, \"18\": {\"18\": 12}, \"52\": {\"52\": 10}, \"19\": {\"19\": 12}, \"4\": {\"4\": 12}, \"48\": {\"48\": 12}, \"53\": {\"53\": 10}, \"24\": {\"24\": 10}, \"12\": {\"12\": 8}, \"8\": {\"8\": 12}, \"20\": {\"20\": 12}, \"38\": {\"38\": 10}, \"43\": {\"43\": 8}, \"31\": {\"31\": 10}, \"22\": {\"22\": 10}, \"21\": {\"21\": 8}, \"57\": {\"57\": 8}, \"16\": {\"16\": 8}}, \"W_A_4\": {\"71\": {\"71\": 10}, \"17\": {\"17\": 12}, \"105\": {\"105\": 12}, \"92\": {\"92\": 12}, \"100\": {\"100\": 9, \"27\": 1, \"20\": 1, \"120\": 1}, \"6\": {\"6\": 12}, \"36\": {\"36\": 10}, \"35\": {\"35\": 12}, \"63\": {\"63\": 11, \"120\": 1}, \"104\": {\"104\": 12}, \"114\": {\"114\": 12}, \"68\": {\"68\": 11, \"6\": 1}, \"109\": {\"109\": 10}, \"27\": {\"27\": 11, \"8\": 1}, \"79\": {\"79\": 12}, \"0\": {\"0\": 12}, \"28\": {\"28\": 12}, \"4\": {\"4\": 12}, \"106\": {\"106\": 11, \"47\": 1}, \"40\": {\"40\": 12}, \"127\": {\"127\": 10, \"14\": 1, \"21\": 1}, \"57\": {\"57\": 12}, \"60\": {\"60\": 12}, \"69\": {\"69\": 10, \"79\": 1, \"78\": 1}, \"84\": {\"84\": 5, \"110\": 1}, \"24\": {\"40\": 1, \"24\": 8, \"23\": 1}, \"94\": {\"94\": 12}, \"7\": {\"7\": 12}, \"96\": {\"96\": 10}, \"116\": {\"116\": 11, \"22\": 1}, \"47\": {\"47\": 10, \"28\": 1, \"75\": 1}, \"119\": {\"119\": 12}, \"74\": {\"74\": 10}, \"93\": {\"93\": 12}, \"2\": {\"2\": 11, \"102\": 1}, \"37\": {\"37\": 11, \"89\": 1}, \"15\": {\"15\": 12}, \"102\": {\"102\": 11, \"20\": 1}, \"87\": {\"87\": 7, \"78\": 1}, \"107\": {\"107\": 12}, \"61\": {\"61\": 12}, \"78\": {\"78\": 10, \"19\": 1, \"10\": 1}, \"9\": {\"9\": 12}, \"32\": {\"32\": 11, \"120\": 1}, \"14\": {\"14\": 10}, \"62\": {\"62\": 11, \"1\": 1}, \"1\": {\"92\": 1, \"1\": 10, \"94\": 1}, \"23\": {\"14\": 1, \"23\": 6, \"101\": 1, \"123\": 1, \"2\": 1}, \"95\": {\"95\": 12}, \"56\": {\"56\": 12}, \"91\": {\"91\": 12}, \"34\": {\"34\": 11, \"37\": 1}, \"25\": {\"25\": 10}, \"3\": {\"3\": 12}, \"72\": {\"72\": 10}, \"73\": {\"73\": 12}, \"41\": {\"70\": 1, \"41\": 10, \"8\": 1}, \"70\": {\"70\": 9, \"53\": 2, \"88\": 1}, \"110\": {\"110\": 12}, \"45\": {\"45\": 12}, \"59\": {\"59\": 12}, \"55\": {\"55\": 12}, \"97\": {\"97\": 10, \"59\": 1, \"83\": 1}, \"66\": {\"66\": 12}, \"26\": {\"26\": 11, \"117\": 1}, \"53\": {\"53\": 11, \"122\": 1}, \"13\": {\"13\": 12}, \"33\": {\"33\": 12}, \"124\": {\"124\": 8}, \"85\": {\"85\": 10, \"112\": 1, \"110\": 1}, \"129\": {\"129\": 12}, \"5\": {\"5\": 12}, \"67\": {\"67\": 12}, \"101\": {\"101\": 12}, \"88\": {\"88\": 12}, \"125\": {\"125\": 12}, \"49\": {\"49\": 12}, \"86\": {\"86\": 11, \"43\": 1}, \"10\": {\"10\": 12}, \"120\": {\"120\": 12}, \"115\": {\"115\": 11, \"82\": 1}, \"31\": {\"31\": 11, \"8\": 1}, \"22\": {\"22\": 12}, \"113\": {\"113\": 12}, \"58\": {\"58\": 12}, \"75\": {\"75\": 12}, \"12\": {\"21\": 1, \"12\": 9, \"68\": 2}, \"89\": {\"89\": 12}, \"21\": {\"21\": 7, \"12\": 1, \"122\": 1, \"13\": 1}, \"99\": {\"99\": 11, \"83\": 1}, \"51\": {\"51\": 10, \"47\": 1, \"60\": 1}, \"30\": {\"30\": 10, \"10\": 1, \"12\": 1}, \"8\": {\"8\": 10, \"52\": 1, \"121\": 1}, \"39\": {\"39\": 12}, \"98\": {\"98\": 11, \"59\": 1}, \"54\": {\"86\": 1, \"54\": 11}, \"77\": {\"77\": 12}, \"43\": {\"43\": 11, \"105\": 1}, \"80\": {\"80\": 11, \"59\": 1}, \"11\": {\"11\": 12}, \"52\": {\"52\": 6}, \"50\": {\"50\": 7, \"81\": 1, \"14\": 1, \"78\": 1}, \"64\": {\"64\": 12}, \"111\": {\"111\": 12}, \"108\": {\"19\": 1, \"108\": 11}, \"19\": {\"19\": 10, \"62\": 1, \"128\": 1}, \"18\": {\"18\": 12}, \"123\": {\"123\": 12}, \"121\": {\"121\": 12}, \"81\": {\"81\": 11, \"13\": 1}, \"38\": {\"38\": 12}, \"90\": {\"90\": 12}, \"83\": {\"83\": 11, \"117\": 1}, \"65\": {\"65\": 12}, \"42\": {\"42\": 12}, \"82\": {\"82\": 6}, \"44\": {\"44\": 12}, \"16\": {\"16\": 12}, \"122\": {\"122\": 12}, \"117\": {\"117\": 12}, \"126\": {\"126\": 12}, \"76\": {\"76\": 12}, \"20\": {\"20\": 12}, \"29\": {\"29\": 12}, \"128\": {\"128\": 12}, \"46\": {\"46\": 12}, \"103\": {\"103\": 11, \"57\": 1}, \"118\": {\"118\": 12}, \"112\": {\"112\": 10}, \"48\": {\"48\": 8}}, \"W_A_1\": {\"105\": {\"105\": 12}, \"100\": {\"100\": 12}, \"112\": {\"112\": 10}, \"123\": {\"123\": 12}, \"13\": {\"13\": 6}, \"81\": {\"81\": 10}, \"124\": {\"124\": 12}, \"122\": {\"122\": 12}, \"111\": {\"111\": 12}, \"93\": {\"93\": 11, \"107\": 1}, \"106\": {\"106\": 12}, \"113\": {\"113\": 12}, \"95\": {\"95\": 8}, \"87\": {\"87\": 12}, \"86\": {\"86\": 8}, \"67\": {\"67\": 12}, \"98\": {\"98\": 12}, \"79\": {\"79\": 12}, \"36\": {\"36\": 12}, \"91\": {\"91\": 12}, \"49\": {\"49\": 11, \"82\": 1}, \"31\": {\"31\": 12}, \"27\": {\"27\": 12}, \"52\": {\"52\": 12}, \"48\": {\"48\": 12}, \"8\": {\"8\": 6}, \"104\": {\"104\": 12}, \"110\": {\"110\": 12}, \"40\": {\"40\": 8}, \"33\": {\"33\": 12}, \"101\": {\"101\": 12}, \"28\": {\"28\": 8}, \"97\": {\"97\": 12}, \"5\": {\"5\": 12}, \"125\": {\"125\": 10}, \"121\": {\"121\": 11, \"118\": 1}, \"96\": {\"96\": 12}, \"90\": {\"90\": 12}, \"129\": {\"129\": 11, \"49\": 1}, \"84\": {\"84\": 12}, \"9\": {\"9\": 12}, \"109\": {\"109\": 12}, \"7\": {\"7\": 12}, \"26\": {\"84\": 1, \"26\": 9}, \"16\": {\"16\": 12}, \"92\": {\"92\": 12}, \"22\": {\"22\": 12}, \"70\": {\"70\": 12}, \"127\": {\"127\": 12}, \"55\": {\"55\": 10}, \"75\": {\"75\": 12}, \"23\": {\"23\": 10, \"39\": 1, \"65\": 1}, \"51\": {\"51\": 11, \"13\": 1}, \"60\": {\"60\": 11, \"79\": 1}, \"20\": {\"20\": 12}, \"94\": {\"94\": 12}, \"78\": {\"78\": 10, \"51\": 1, \"70\": 1}, \"64\": {\"64\": 12}, \"15\": {\"15\": 11, \"45\": 1}, \"61\": {\"61\": 11, \"41\": 1}, \"80\": {\"80\": 6}, \"34\": {\"34\": 10, \"14\": 1, \"68\": 1}, \"63\": {\"63\": 12}, \"108\": {\"108\": 12}, \"45\": {\"45\": 10, \"96\": 1, \"21\": 1}, \"71\": {\"71\": 12}, \"114\": {\"114\": 12}, \"69\": {\"69\": 10}, \"120\": {\"120\": 12}, \"24\": {\"24\": 12}, \"117\": {\"117\": 10}, \"25\": {\"25\": 9, \"11\": 2, \"39\": 1}, \"116\": {\"116\": 11, \"18\": 1}, \"12\": {\"12\": 12}, \"68\": {\"68\": 12}, \"50\": {\"50\": 12}, \"99\": {\"99\": 12}, \"74\": {\"74\": 12}, \"118\": {\"118\": 12}, \"1\": {\"1\": 12}, \"66\": {\"66\": 8}, \"0\": {\"0\": 11, \"58\": 1}, \"83\": {\"83\": 12}, \"32\": {\"32\": 12}, \"115\": {\"115\": 12}, \"82\": {\"82\": 12}, \"21\": {\"21\": 11, \"82\": 1}, \"85\": {\"85\": 12}, \"77\": {\"77\": 11, \"22\": 1}, \"119\": {\"119\": 12}, \"10\": {\"10\": 12}, \"76\": {\"76\": 12}, \"54\": {\"54\": 12}, \"126\": {\"126\": 12}, \"6\": {\"6\": 12}, \"4\": {\"4\": 12}, \"89\": {\"89\": 12}, \"56\": {\"56\": 12}, \"37\": {\"37\": 12}, \"72\": {\"72\": 12}, \"30\": {\"30\": 12}, \"65\": {\"65\": 8, \"63\": 2, \"35\": 1, \"57\": 1}, \"57\": {\"57\": 12}, \"62\": {\"62\": 12}, \"41\": {\"41\": 12}, \"47\": {\"47\": 11, \"96\": 1}, \"39\": {\"39\": 12}, \"19\": {\"19\": 12}, \"17\": {\"17\": 11, \"21\": 1}, \"43\": {\"43\": 8, \"40\": 2}, \"102\": {\"102\": 12}, \"42\": {\"42\": 11, \"21\": 1}, \"53\": {\"53\": 12}, \"11\": {\"11\": 12}, \"73\": {\"73\": 8}, \"35\": {\"35\": 12}, \"58\": {\"58\": 12}, \"14\": {\"14\": 12}, \"44\": {\"44\": 8}, \"107\": {\"107\": 12}, \"38\": {\"38\": 8}, \"3\": {\"3\": 12}, \"103\": {\"103\": 10}, \"59\": {\"59\": 12}, \"2\": {\"2\": 8}, \"88\": {\"88\": 7, \"36\": 1}, \"128\": {\"128\": 8, \"30\": 1, \"96\": 1}, \"46\": {\"46\": 6, \"61\": 1, \"83\": 1}, \"18\": {\"18\": 10}, \"29\": {\"29\": 8}}, \"C_A_1\": {\"41\": {\"41\": 12}, \"40\": {\"40\": 12}, \"45\": {\"45\": 12}, \"51\": {\"51\": 12}, \"5\": {\"5\": 12}, \"30\": {\"30\": 12}, \"42\": {\"42\": 12}, \"46\": {\"46\": 12}, \"48\": {\"48\": 10}, \"53\": {\"53\": 12}, \"47\": {\"47\": 12}, \"49\": {\"49\": 12}, \"36\": {\"36\": 12}, \"32\": {\"32\": 10}, \"34\": {\"34\": 10}, \"29\": {\"29\": 8}, \"43\": {\"43\": 12}, \"9\": {\"9\": 12}, \"44\": {\"44\": 12}, \"15\": {\"15\": 12}, \"7\": {\"7\": 12}, \"14\": {\"14\": 12}, \"24\": {\"24\": 10}, \"16\": {\"16\": 12}, \"39\": {\"39\": 10}, \"35\": {\"35\": 12}, \"57\": {\"57\": 12}, \"55\": {\"55\": 10}, \"3\": {\"3\": 12}, \"20\": {\"20\": 10}, \"17\": {\"17\": 12}, \"52\": {\"52\": 12}, \"38\": {\"38\": 12}, \"8\": {\"8\": 12}, \"4\": {\"4\": 12}, \"19\": {\"19\": 8}, \"37\": {\"37\": 10}, \"27\": {\"27\": 12}, \"12\": {\"12\": 12}, \"28\": {\"28\": 12}, \"6\": {\"6\": 12}, \"56\": {\"56\": 12}, \"50\": {\"50\": 12}, \"2\": {\"2\": 10}, \"10\": {\"10\": 8}, \"33\": {\"33\": 10}, \"54\": {\"54\": 8}, \"18\": {\"18\": 12}, \"13\": {\"13\": 10}, \"1\": {\"1\": 12}, \"21\": {\"21\": 12}, \"11\": {\"11\": 12}, \"0\": {\"0\": 8}, \"31\": {\"31\": 12}, \"26\": {\"26\": 12}, \"25\": {\"25\": 12}, \"23\": {\"23\": 4}, \"22\": {\"22\": 6}}, \"W_A_2\": {\"3\": {\"3\": 12}, \"127\": {\"127\": 11, \"111\": 1}, \"58\": {\"58\": 12}, \"114\": {\"114\": 12}, \"111\": {\"111\": 12}, \"105\": {\"105\": 11, \"13\": 1}, \"118\": {\"118\": 10, \"57\": 1, \"18\": 1}, \"23\": {\"23\": 10, \"75\": 1, \"87\": 1}, \"21\": {\"21\": 8, \"86\": 1, \"97\": 1, \"13\": 2}, \"20\": {\"20\": 12}, \"75\": {\"23\": 1, \"75\": 11}, \"86\": {\"86\": 12}, \"60\": {\"60\": 11, \"88\": 1}, \"69\": {\"69\": 12}, \"99\": {\"99\": 7, \"14\": 1}, \"14\": {\"14\": 10, \"13\": 1, \"87\": 1}, \"110\": {\"110\": 10, \"27\": 1, \"107\": 1}, \"0\": {\"0\": 12}, \"28\": {\"28\": 12}, \"124\": {\"124\": 11, \"27\": 1}, \"47\": {\"47\": 9, \"110\": 1, \"78\": 1, \"97\": 1}, \"89\": {\"89\": 11, \"92\": 1}, \"5\": {\"5\": 12}, \"83\": {\"83\": 12}, \"34\": {\"34\": 12}, \"8\": {\"8\": 12}, \"64\": {\"64\": 12}, \"73\": {\"73\": 10}, \"116\": {\"116\": 12}, \"19\": {\"19\": 11, \"47\": 1}, \"25\": {\"25\": 12}, \"55\": {\"55\": 12}, \"66\": {\"66\": 12}, \"36\": {\"36\": 12}, \"35\": {\"35\": 10, \"23\": 1, \"74\": 1}, \"6\": {\"6\": 12}, \"117\": {\"117\": 12}, \"1\": {\"1\": 12}, \"129\": {\"129\": 8}, \"45\": {\"45\": 12}, \"15\": {\"15\": 10, \"111\": 1, \"107\": 1}, \"4\": {\"4\": 12}, \"76\": {\"76\": 12}, \"103\": {\"103\": 12}, \"125\": {\"125\": 12}, \"31\": {\"31\": 12}, \"39\": {\"39\": 12}, \"88\": {\"88\": 12}, \"30\": {\"39\": 1, \"30\": 10, \"27\": 1}, \"102\": {\"102\": 12}, \"33\": {\"33\": 12}, \"93\": {\"93\": 12}, \"82\": {\"82\": 12}, \"17\": {\"17\": 8, \"78\": 1, \"85\": 1}, \"101\": {\"101\": 12}, \"9\": {\"9\": 12}, \"100\": {\"100\": 11, \"28\": 1}, \"32\": {\"32\": 12}, \"80\": {\"80\": 11, \"121\": 1}, \"51\": {\"51\": 11, \"13\": 1}, \"70\": {\"70\": 12}, \"37\": {\"37\": 6, \"110\": 1, \"55\": 1}, \"126\": {\"126\": 12}, \"62\": {\"62\": 12}, \"96\": {\"96\": 12}, \"74\": {\"74\": 8}, \"68\": {\"68\": 12}, \"98\": {\"98\": 12}, \"43\": {\"43\": 10, \"11\": 1, \"88\": 1}, \"40\": {\"40\": 11, \"49\": 1}, \"41\": {\"41\": 12}, \"54\": {\"54\": 12}, \"81\": {\"81\": 12}, \"27\": {\"21\": 1, \"43\": 1, \"27\": 7, \"36\": 3}, \"29\": {\"29\": 12}, \"109\": {\"21\": 2, \"109\": 9, \"107\": 1}, \"121\": {\"121\": 6}, \"91\": {\"91\": 12}, \"16\": {\"16\": 12}, \"42\": {\"42\": 12}, \"18\": {\"18\": 12}, \"78\": {\"78\": 8, \"43\": 3, \"70\": 1}, \"48\": {\"48\": 12}, \"72\": {\"72\": 12}, \"123\": {\"123\": 12}, \"44\": {\"44\": 12}, \"63\": {\"63\": 10}, \"26\": {\"26\": 12}, \"50\": {\"50\": 9, \"21\": 1}, \"10\": {\"10\": 12}, \"61\": {\"61\": 9, \"120\": 1, \"87\": 1, \"24\": 1}, \"97\": {\"97\": 9, \"51\": 1}, \"67\": {\"67\": 8}, \"113\": {\"113\": 12}, \"7\": {\"7\": 9, \"21\": 1}, \"71\": {\"71\": 11, \"18\": 1}, \"2\": {\"113\": 1, \"2\": 9, \"100\": 1, \"26\": 1}, \"57\": {\"57\": 10, \"82\": 2}, \"59\": {\"59\": 6, \"57\": 1, \"37\": 1, \"25\": 1, \"110\": 1}, \"112\": {\"112\": 8}, \"79\": {\"79\": 12}, \"52\": {\"52\": 10, \"81\": 1, \"88\": 1}, \"13\": {\"13\": 11, \"84\": 1}, \"128\": {\"128\": 10}, \"120\": {\"120\": 12}, \"94\": {\"94\": 10, \"88\": 1, \"11\": 1}, \"85\": {\"85\": 12}, \"46\": {\"46\": 11, \"96\": 1}, \"22\": {\"22\": 12}, \"90\": {\"90\": 12}, \"77\": {\"77\": 10, \"62\": 1, \"11\": 1}, \"106\": {\"106\": 12}, \"104\": {\"104\": 9, \"10\": 1}, \"95\": {\"95\": 12}, \"12\": {\"12\": 12}, \"49\": {\"49\": 12}, \"87\": {\"87\": 10, \"43\": 1, \"53\": 1}, \"65\": {\"65\": 8}, \"84\": {\"13\": 1, \"84\": 11}, \"38\": {\"38\": 12}, \"53\": {\"53\": 10, \"80\": 1, \"24\": 1}, \"122\": {\"122\": 12}, \"119\": {\"119\": 11, \"19\": 1}, \"108\": {\"108\": 10}, \"107\": {\"107\": 12}, \"24\": {\"24\": 12}, \"115\": {\"115\": 10, \"107\": 1, \"105\": 1}, \"56\": {\"56\": 12}, \"11\": {\"11\": 10}, \"92\": {\"92\": 12}}, \"C_A_3\": {\"1\": {\"1\": 12}, \"9\": {\"9\": 12}, \"22\": {\"22\": 12}, \"43\": {\"43\": 12}, \"49\": {\"49\": 10}, \"50\": {\"50\": 12}, \"53\": {\"53\": 10}, \"10\": {\"10\": 12}, \"48\": {\"48\": 10}, \"8\": {\"8\": 12}, \"31\": {\"31\": 12}, \"56\": {\"56\": 12}, \"25\": {\"25\": 10}, \"28\": {\"28\": 12}, \"38\": {\"38\": 12}, \"5\": {\"5\": 12}, \"34\": {\"34\": 10}, \"21\": {\"21\": 12}, \"57\": {\"57\": 12}, \"55\": {\"55\": 12}, \"47\": {\"47\": 10}, \"6\": {\"6\": 12}, \"3\": {\"3\": 6}, \"26\": {\"26\": 12}, \"16\": {\"16\": 12}, \"18\": {\"18\": 12}, \"32\": {\"32\": 12}, \"40\": {\"40\": 12}, \"2\": {\"2\": 8}, \"36\": {\"36\": 12}, \"52\": {\"52\": 12}, \"13\": {\"13\": 8}, \"42\": {\"42\": 12}, \"19\": {\"19\": 12}, \"11\": {\"11\": 10}, \"20\": {\"20\": 12}, \"17\": {\"17\": 10}, \"51\": {\"51\": 12}, \"29\": {\"29\": 10}, \"44\": {\"44\": 12}, \"27\": {\"27\": 12}, \"33\": {\"33\": 11, \"45\": 1}, \"54\": {\"54\": 12}, \"7\": {\"7\": 12}, \"14\": {\"14\": 10}, \"12\": {\"12\": 12}, \"24\": {\"24\": 12}, \"15\": {\"15\": 12}, \"35\": {\"35\": 10}, \"41\": {\"41\": 10}, \"4\": {\"4\": 12}, \"0\": {\"0\": 10}, \"39\": {\"39\": 10}, \"45\": {\"45\": 12}, \"46\": {\"46\": 10}, \"37\": {\"37\": 10}, \"23\": {\"23\": 10}, \"30\": {\"30\": 4}}, \"C_A_4\": {\"52\": {\"52\": 12}, \"6\": {\"6\": 12}, \"14\": {\"14\": 11, \"39\": 1}, \"49\": {\"49\": 12}, \"0\": {\"0\": 12}, \"46\": {\"46\": 11, \"10\": 1}, \"41\": {\"41\": 12}, \"24\": {\"24\": 11, \"49\": 1}, \"25\": {\"25\": 12}, \"40\": {\"40\": 12}, \"38\": {\"38\": 12}, \"13\": {\"13\": 12}, \"9\": {\"9\": 12}, \"45\": {\"45\": 5, \"8\": 1}, \"43\": {\"43\": 12}, \"10\": {\"10\": 12}, \"3\": {\"3\": 12}, \"32\": {\"32\": 12}, \"37\": {\"37\": 10}, \"48\": {\"48\": 12}, \"26\": {\"26\": 12}, \"30\": {\"30\": 10}, \"27\": {\"27\": 10}, \"57\": {\"57\": 12}, \"33\": {\"33\": 12}, \"21\": {\"21\": 12}, \"55\": {\"55\": 12}, \"23\": {\"23\": 12}, \"20\": {\"50\": 2, \"20\": 8}, \"19\": {\"19\": 12}, \"39\": {\"39\": 12}, \"47\": {\"47\": 10}, \"50\": {\"50\": 12}, \"1\": {\"1\": 12}, \"42\": {\"42\": 10}, \"8\": {\"8\": 8}, \"53\": {\"53\": 12}, \"4\": {\"4\": 12}, \"54\": {\"54\": 10}, \"31\": {\"31\": 12}, \"11\": {\"11\": 7, \"5\": 1}, \"5\": {\"5\": 12}, \"18\": {\"18\": 7, \"28\": 1}, \"7\": {\"7\": 12}, \"15\": {\"15\": 10}, \"17\": {\"17\": 12}, \"2\": {\"2\": 12}, \"35\": {\"35\": 10}, \"22\": {\"22\": 10}, \"34\": {\"34\": 10}, \"56\": {\"56\": 12}, \"12\": {\"12\": 12}, \"16\": {\"16\": 12}, \"51\": {\"51\": 8}, \"28\": {\"28\": 10}, \"29\": {\"29\": 12}, \"44\": {\"44\": 5, \"27\": 1}, \"36\": {\"36\": 8}}, \"C_A_2\": {\"11\": {\"11\": 12}, \"21\": {\"21\": 10}, \"19\": {\"19\": 8}, \"20\": {\"20\": 12}, \"9\": {\"9\": 10}, \"10\": {\"10\": 12}, \"37\": {\"37\": 10}, \"32\": {\"32\": 12}, \"3\": {\"3\": 12}, \"39\": {\"39\": 12}, \"45\": {\"45\": 12}, \"50\": {\"50\": 12}, \"40\": {\"40\": 12}, \"46\": {\"46\": 12}, \"12\": {\"12\": 12}, \"13\": {\"13\": 12}, \"18\": {\"18\": 8}, \"28\": {\"28\": 12}, \"57\": {\"57\": 12}, \"7\": {\"7\": 12}, \"15\": {\"15\": 11, \"16\": 1}, \"0\": {\"0\": 12}, \"36\": {\"36\": 12}, \"53\": {\"53\": 12}, \"49\": {\"49\": 12}, \"25\": {\"25\": 12}, \"29\": {\"29\": 10}, \"56\": {\"56\": 12}, \"2\": {\"2\": 10}, \"31\": {\"31\": 10}, \"54\": {\"54\": 8}, \"8\": {\"8\": 10}, \"55\": {\"55\": 12}, \"26\": {\"26\": 12}, \"24\": {\"24\": 10}, \"42\": {\"42\": 12}, \"27\": {\"27\": 6}, \"41\": {\"41\": 12}, \"43\": {\"43\": 10}, \"47\": {\"47\": 11, \"42\": 1}, \"38\": {\"38\": 12}, \"16\": {\"16\": 12}, \"34\": {\"34\": 12}, \"35\": {\"35\": 10}, \"44\": {\"44\": 12}, \"23\": {\"23\": 12}, \"52\": {\"52\": 12}, \"48\": {\"48\": 12}, \"33\": {\"33\": 12}, \"1\": {\"1\": 10}, \"14\": {\"14\": 10, \"39\": 2}, \"22\": {\"22\": 8}, \"4\": {\"4\": 12}, \"5\": {\"5\": 12}, \"51\": {\"51\": 10}, \"30\": {\"30\": 10}, \"17\": {\"17\": 8}, \"6\": {\"6\": 8}}, \"W_A_3\": {\"106\": {\"106\": 11, \"55\": 1}, \"129\": {\"129\": 12}, \"77\": {\"77\": 12}, \"53\": {\"53\": 12}, \"3\": {\"3\": 12}, \"76\": {\"76\": 12}, \"22\": {\"22\": 12}, \"108\": {\"108\": 11, \"70\": 1}, \"39\": {\"39\": 11, \"113\": 1}, \"107\": {\"107\": 12}, \"112\": {\"112\": 12}, \"113\": {\"113\": 12}, \"11\": {\"11\": 10}, \"128\": {\"128\": 12}, \"44\": {\"44\": 12}, \"28\": {\"28\": 10}, \"43\": {\"43\": 12}, \"94\": {\"94\": 12}, \"102\": {\"102\": 12}, \"30\": {\"30\": 12}, \"35\": {\"35\": 11, \"36\": 1}, \"123\": {\"123\": 11, \"55\": 1}, \"58\": {\"58\": 12}, \"119\": {\"119\": 12}, \"21\": {\"21\": 10, \"24\": 1, \"62\": 1}, \"79\": {\"79\": 12}, \"117\": {\"117\": 12}, \"121\": {\"121\": 9, \"21\": 1, \"51\": 1, \"2\": 1}, \"63\": {\"63\": 12}, \"96\": {\"96\": 12}, \"31\": {\"31\": 12}, \"13\": {\"92\": 1, \"70\": 1, \"13\": 8, \"78\": 1, \"101\": 1}, \"51\": {\"51\": 11, \"121\": 1}, \"56\": {\"56\": 6}, \"87\": {\"87\": 12}, \"14\": {\"14\": 8}, \"48\": {\"48\": 11, \"122\": 1}, \"25\": {\"25\": 12}, \"17\": {\"17\": 12}, \"70\": {\"70\": 12}, \"26\": {\"26\": 10}, \"92\": {\"92\": 11, \"17\": 1}, \"45\": {\"45\": 12}, \"105\": {\"105\": 12}, \"61\": {\"61\": 12}, \"36\": {\"36\": 11, \"43\": 1}, \"0\": {\"0\": 12}, \"27\": {\"27\": 5, \"36\": 1}, \"67\": {\"67\": 12}, \"97\": {\"97\": 10, \"73\": 1, \"41\": 1}, \"46\": {\"46\": 10}, \"9\": {\"9\": 12}, \"12\": {\"12\": 10}, \"18\": {\"18\": 8}, \"127\": {\"127\": 12}, \"52\": {\"52\": 12}, \"54\": {\"54\": 10}, \"55\": {\"55\": 12}, \"57\": {\"57\": 12}, \"15\": {\"15\": 12}, \"74\": {\"74\": 8}, \"5\": {\"5\": 12}, \"114\": {\"114\": 12}, \"69\": {\"69\": 12}, \"16\": {\"31\": 1, \"16\": 11}, \"38\": {\"38\": 12}, \"124\": {\"124\": 12}, \"125\": {\"125\": 12}, \"41\": {\"41\": 8}, \"80\": {\"80\": 12}, \"82\": {\"82\": 12}, \"84\": {\"84\": 12}, \"93\": {\"93\": 10}, \"29\": {\"29\": 10}, \"33\": {\"33\": 10}, \"120\": {\"120\": 12}, \"66\": {\"66\": 9, \"68\": 1}, \"89\": {\"89\": 12}, \"101\": {\"101\": 12}, \"64\": {\"64\": 12}, \"100\": {\"100\": 12}, \"86\": {\"86\": 12}, \"60\": {\"60\": 11, \"114\": 1}, \"78\": {\"78\": 10, \"65\": 1, \"81\": 1}, \"73\": {\"73\": 12}, \"19\": {\"19\": 10}, \"122\": {\"122\": 10, \"78\": 1, \"70\": 1}, \"4\": {\"4\": 12}, \"104\": {\"104\": 10}, \"118\": {\"118\": 12}, \"42\": {\"42\": 12}, \"83\": {\"83\": 10, \"20\": 1, \"45\": 1}, \"91\": {\"91\": 12}, \"62\": {\"62\": 12}, \"2\": {\"2\": 12}, \"1\": {\"1\": 12}, \"90\": {\"90\": 10}, \"34\": {\"34\": 11, \"108\": 1}, \"75\": {\"75\": 12}, \"81\": {\"81\": 12}, \"109\": {\"109\": 12}, \"103\": {\"103\": 12}, \"110\": {\"110\": 12}, \"71\": {\"71\": 12}, \"65\": {\"65\": 12}, \"99\": {\"99\": 12}, \"7\": {\"7\": 8}, \"98\": {\"98\": 12}, \"68\": {\"68\": 12}, \"24\": {\"24\": 12}, \"6\": {\"6\": 12}, \"115\": {\"115\": 10}, \"40\": {\"40\": 8}, \"20\": {\"20\": 12}, \"95\": {\"95\": 12}, \"10\": {\"10\": 12}, \"126\": {\"126\": 12}, \"72\": {\"72\": 8, \"48\": 1, \"79\": 1}, \"49\": {\"49\": 12}, \"111\": {\"111\": 10}, \"37\": {\"37\": 8, \"89\": 1, \"74\": 1}, \"88\": {\"34\": 1, \"88\": 9}, \"32\": {\"32\": 12}, \"47\": {\"47\": 12}, \"59\": {\"59\": 12}, \"23\": {\"23\": 9, \"67\": 1}, \"116\": {\"116\": 12}, \"85\": {\"85\": 8}, \"8\": {\"8\": 8}, \"50\": {\"50\": 6}}, \"ORACLE.run1_26\": {\"0\": {\"9\": 19, \"7\": 19, \"10\": 23, \"0\": 25, \"6\": 17, \"3\": 13, \"5\": 9, \"1\": 19, \"14\": 16, \"8\": 23, \"4\": 19, \"12\": 4, \"15\": 19, \"2\": 11, \"11\": 1, \"13\": 3}, \"4\": {\"7\": 29, \"1\": 24, \"6\": 10, \"2\": 10, \"13\": 5, \"10\": 19, \"14\": 11, \"8\": 21, \"0\": 26, \"4\": 24, \"3\": 20, \"15\": 14, \"5\": 6, \"9\": 14, \"12\": 5, \"11\": 2}, \"14\": {\"3\": 17, \"9\": 13, \"1\": 23, \"15\": 6, \"10\": 22, \"7\": 21, \"6\": 21, \"11\": 2, \"14\": 22, \"12\": 9, \"8\": 17, \"4\": 30, \"0\": 22, \"2\": 9, \"5\": 6}, \"12\": {\"9\": 16, \"12\": 67, \"7\": 4, \"10\": 16, \"14\": 13, \"4\": 8, \"11\": 32, \"6\": 27, \"0\": 7, \"1\": 8, \"15\": 19, \"8\": 7, \"13\": 9, \"5\": 3, \"2\": 4}, \"8\": {\"13\": 12, \"8\": 17, \"2\": 21, \"4\": 20, \"7\": 19, \"6\": 16, \"12\": 5, \"3\": 21, \"5\": 16, \"0\": 18, \"1\": 11, \"15\": 18, \"10\": 19, \"14\": 10, \"9\": 13, \"11\": 4}, \"7\": {\"10\": 20, \"4\": 22, \"9\": 9, \"8\": 19, \"14\": 17, \"3\": 41, \"1\": 22, \"6\": 8, \"15\": 13, \"7\": 21, \"2\": 12, \"0\": 13, \"5\": 13, \"12\": 3, \"13\": 6, \"11\": 1}, \"13\": {\"2\": 22, \"9\": 19, \"5\": 41, \"1\": 5, \"13\": 30, \"15\": 27, \"0\": 10, \"6\": 9, \"3\": 12, \"7\": 17, \"12\": 4, \"4\": 7, \"8\": 10, \"11\": 13, \"14\": 5, \"10\": 9}, \"5\": {\"2\": 30, \"8\": 10, \"13\": 32, \"10\": 13, \"3\": 21, \"5\": 24, \"7\": 19, \"14\": 7, \"9\": 25, \"15\": 14, \"6\": 12, \"1\": 11, \"0\": 7, \"11\": 8, \"4\": 4, \"12\": 3}, \"15\": {\"9\": 22, \"7\": 22, \"1\": 12, \"2\": 12, \"13\": 23, \"15\": 35, \"3\": 12, \"5\": 19, \"6\": 22, \"12\": 9, \"14\": 7, \"4\": 9, \"8\": 14, \"10\": 7, \"0\": 11, \"11\": 4}, \"10\": {\"12\": 12, \"9\": 16, \"10\": 26, \"0\": 16, \"6\": 17, \"14\": 19, \"4\": 16, \"1\": 24, \"5\": 3, \"11\": 1, \"8\": 18, \"15\": 19, \"7\": 19, \"3\": 14, \"13\": 13, \"2\": 7}, \"3\": {\"5\": 21, \"9\": 16, \"3\": 29, \"14\": 21, \"2\": 19, \"4\": 16, \"0\": 10, \"11\": 2, \"13\": 12, \"7\": 22, \"1\": 9, \"10\": 17, \"15\": 21, \"6\": 9, \"8\": 15, \"12\": 1}, \"9\": {\"9\": 24, \"6\": 18, \"2\": 11, \"13\": 13, \"4\": 10, \"14\": 9, \"11\": 6, \"3\": 23, \"1\": 8, \"15\": 30, \"7\": 17, \"10\": 25, \"5\": 19, \"8\": 8, \"12\": 7, \"0\": 12}, \"6\": {\"3\": 12, \"15\": 36, \"5\": 12, \"10\": 19, \"8\": 17, \"6\": 21, \"0\": 14, \"9\": 19, \"7\": 15, \"2\": 8, \"14\": 13, \"4\": 10, \"12\": 16, \"13\": 14, \"1\": 8, \"11\": 6}, \"1\": {\"9\": 8, \"4\": 32, \"0\": 15, \"1\": 37, \"14\": 26, \"6\": 7, \"7\": 27, \"10\": 22, \"8\": 18, \"15\": 11, \"13\": 7, \"5\": 8, \"2\": 11, \"12\": 2, \"3\": 8, \"11\": 1}, \"11\": {\"9\": 8, \"11\": 90, \"15\": 10, \"13\": 28, \"10\": 6, \"6\": 21, \"5\": 13, \"12\": 49, \"1\": 2, \"2\": 2, \"8\": 3, \"0\": 4, \"14\": 1, \"7\": 2, \"3\": 1}, \"2\": {\"1\": 13, \"9\": 25, \"2\": 27, \"4\": 9, \"5\": 17, \"7\": 24, \"15\": 17, \"3\": 29, \"8\": 22, \"14\": 12, \"6\": 12, \"11\": 3, \"13\": 19, \"10\": 5, \"0\": 6}}, \"ORACLE.run1_44\": {\"1\": {\"12\": 59, \"7\": 17, \"3\": 40, \"1\": 56, \"9\": 8, \"10\": 32, \"2\": 20, \"13\": 3, \"6\": 4, \"11\": 1}, \"11\": {\"13\": 29, \"7\": 17, \"9\": 22, \"11\": 65, \"2\": 29, \"6\": 60, \"3\": 1, \"1\": 4, \"10\": 8, \"12\": 2, \"4\": 2, \"5\": 1}, \"3\": {\"12\": 33, \"10\": 10, \"3\": 66, \"4\": 7, \"1\": 52, \"7\": 21, \"9\": 24, \"2\": 15, \"13\": 4, \"15\": 3, \"14\": 4, \"6\": 1}, \"6\": {\"9\": 24, \"6\": 54, \"10\": 10, \"4\": 5, \"11\": 35, \"13\": 51, \"2\": 22, \"1\": 5, \"7\": 29, \"14\": 2, \"12\": 1, \"3\": 1, \"5\": 1}, \"7\": {\"7\": 46, \"0\": 1, \"13\": 23, \"11\": 12, \"10\": 16, \"2\": 41, \"4\": 7, \"14\": 3, \"3\": 12, \"9\": 26, \"6\": 16, \"1\": 22, \"12\": 15}, \"5\": {\"4\": 33, \"14\": 44, \"15\": 28, \"8\": 36, \"0\": 43, \"5\": 56}, \"2\": {\"7\": 40, \"13\": 16, \"11\": 12, \"2\": 42, \"10\": 33, \"1\": 15, \"6\": 20, \"14\": 1, \"12\": 26, \"3\": 16, \"9\": 19}, \"15\": {\"4\": 23, \"0\": 50, \"15\": 55, \"14\": 34, \"8\": 44, \"5\": 33, \"9\": 1}, \"10\": {\"7\": 24, \"12\": 49, \"2\": 38, \"10\": 61, \"1\": 35, \"6\": 12, \"13\": 4, \"9\": 7, \"3\": 7, \"11\": 3}, \"13\": {\"9\": 33, \"13\": 52, \"4\": 14, \"2\": 18, \"6\": 46, \"11\": 26, \"10\": 5, \"7\": 25, \"8\": 1, \"14\": 6, \"1\": 4, \"5\": 1, \"3\": 6, \"15\": 2, \"12\": 1}, \"8\": {\"0\": 70, \"15\": 46, \"14\": 19, \"4\": 11, \"5\": 26, \"8\": 68}, \"4\": {\"14\": 53, \"8\": 13, \"0\": 19, \"13\": 8, \"9\": 14, \"4\": 63, \"5\": 34, \"15\": 23, \"3\": 3, \"2\": 2, \"7\": 3, \"6\": 2, \"11\": 2, \"12\": 1}, \"9\": {\"9\": 36, \"4\": 6, \"6\": 28, \"13\": 42, \"2\": 23, \"1\": 9, \"10\": 15, \"5\": 2, \"7\": 42, \"3\": 10, \"14\": 6, \"11\": 12, \"12\": 5, \"15\": 4}, \"14\": {\"4\": 57, \"14\": 71, \"15\": 25, \"0\": 19, \"8\": 21, \"6\": 3, \"5\": 31, \"7\": 1, \"3\": 2, \"13\": 6, \"9\": 3, \"2\": 1}, \"0\": {\"4\": 16, \"14\": 30, \"0\": 48, \"15\": 53, \"8\": 54, \"5\": 39}, \"12\": {\"10\": 36, \"3\": 32, \"12\": 75, \"2\": 26, \"1\": 49, \"7\": 12, \"4\": 1, \"13\": 2, \"9\": 6, \"14\": 1}}, \"ORACLE.run1_50\": {\"15\": {\"5\": 19, \"11\": 21, \"15\": 57, \"13\": 16, \"9\": 10, \"4\": 22, \"0\": 7, \"1\": 36, \"6\": 23, \"7\": 6, \"10\": 3, \"14\": 9, \"2\": 7, \"12\": 3, \"8\": 1}, \"4\": {\"4\": 30, \"13\": 17, \"1\": 27, \"11\": 22, \"15\": 35, \"6\": 23, \"5\": 24, \"7\": 21, \"2\": 8, \"14\": 5, \"10\": 9, \"0\": 8, \"12\": 2, \"9\": 6, \"8\": 3}, \"6\": {\"6\": 34, \"1\": 23, \"11\": 11, \"5\": 19, \"7\": 21, \"4\": 30, \"8\": 8, \"15\": 37, \"13\": 20, \"10\": 13, \"3\": 2, \"0\": 7, \"12\": 2, \"2\": 6, \"14\": 6, \"9\": 1}, \"2\": {\"12\": 11, \"2\": 68, \"14\": 38, \"0\": 43, \"13\": 12, \"8\": 7, \"6\": 7, \"10\": 12, \"1\": 15, \"4\": 6, \"5\": 4, \"3\": 1, \"7\": 7, \"15\": 4, \"9\": 4, \"11\": 1}, \"5\": {\"5\": 25, \"7\": 28, \"1\": 13, \"0\": 19, \"6\": 25, \"13\": 30, \"4\": 28, \"8\": 7, \"10\": 18, \"2\": 8, \"11\": 8, \"15\": 21, \"3\": 6, \"9\": 2, \"14\": 2}, \"9\": {\"11\": 52, \"13\": 2, \"9\": 57, \"12\": 46, \"15\": 23, \"14\": 28, \"5\": 2, \"6\": 3, \"4\": 9, \"1\": 11, \"0\": 1, \"2\": 5, \"10\": 1}, \"8\": {\"10\": 38, \"8\": 71, \"3\": 43, \"0\": 25, \"7\": 24, \"6\": 5, \"4\": 3, \"2\": 11, \"13\": 10, \"5\": 9, \"15\": 1}, \"12\": {\"11\": 23, \"12\": 93, \"14\": 40, \"9\": 51, \"15\": 5, \"2\": 11, \"1\": 10, \"0\": 3, \"6\": 1, \"13\": 1, \"4\": 1, \"10\": 1}, \"10\": {\"5\": 18, \"10\": 49, \"13\": 28, \"2\": 10, \"0\": 34, \"6\": 12, \"8\": 33, \"15\": 7, \"3\": 10, \"7\": 24, \"1\": 8, \"4\": 4, \"14\": 2, \"11\": 1}, \"1\": {\"4\": 25, \"15\": 39, \"12\": 10, \"1\": 35, \"2\": 9, \"11\": 27, \"6\": 16, \"13\": 16, \"7\": 7, \"8\": 3, \"5\": 11, \"9\": 15, \"14\": 13, \"0\": 8, \"10\": 6}, \"0\": {\"6\": 14, \"14\": 10, \"0\": 59, \"5\": 12, \"2\": 40, \"10\": 23, \"15\": 4, \"4\": 8, \"1\": 18, \"11\": 3, \"8\": 22, \"7\": 11, \"13\": 12, \"3\": 4}, \"3\": {\"5\": 10, \"3\": 124, \"8\": 59, \"10\": 23, \"0\": 4, \"7\": 17, \"13\": 3}, \"13\": {\"15\": 14, \"5\": 32, \"1\": 19, \"13\": 34, \"4\": 13, \"0\": 14, \"2\": 5, \"10\": 22, \"7\": 40, \"8\": 12, \"14\": 4, \"6\": 23, \"3\": 6, \"11\": 2}, \"11\": {\"9\": 36, \"2\": 8, \"15\": 26, \"14\": 29, \"1\": 27, \"12\": 28, \"6\": 9, \"11\": 43, \"4\": 21, \"13\": 5, \"5\": 5, \"7\": 1, \"0\": 2}, \"7\": {\"7\": 38, \"10\": 29, \"5\": 36, \"0\": 12, \"13\": 35, \"2\": 5, \"1\": 11, \"6\": 25, \"8\": 14, \"15\": 8, \"3\": 9, \"4\": 16, \"11\": 1, \"9\": 1}, \"14\": {\"12\": 38, \"15\": 15, \"2\": 29, \"14\": 53, \"10\": 3, \"11\": 29, \"9\": 25, \"1\": 20, \"0\": 5, \"6\": 6, \"5\": 6, \"13\": 4, \"4\": 7}}, \"ORACLE.run1_38\": {\"15\": {\"10\": 14, \"5\": 23, \"8\": 19, \"6\": 10, \"13\": 33, \"0\": 11, \"15\": 59, \"1\": 28, \"2\": 27, \"14\": 5, \"9\": 3, \"12\": 4, \"7\": 4}, \"11\": {\"14\": 68, \"12\": 7, \"10\": 33, \"11\": 93, \"4\": 13, \"2\": 18, \"0\": 3, \"1\": 1, \"13\": 2, \"15\": 2}, \"10\": {\"13\": 25, \"2\": 17, \"8\": 24, \"14\": 29, \"7\": 16, \"5\": 16, \"15\": 14, \"10\": 38, \"4\": 5, \"0\": 24, \"11\": 10, \"6\": 6, \"9\": 2, \"1\": 2, \"12\": 11, \"3\": 1}, \"14\": {\"15\": 13, \"13\": 15, \"10\": 25, \"11\": 44, \"12\": 24, \"2\": 34, \"14\": 74, \"4\": 3, \"5\": 3, \"7\": 2, \"0\": 1, \"8\": 2}, \"6\": {\"1\": 29, \"9\": 52, \"5\": 23, \"7\": 14, \"6\": 65, \"15\": 9, \"8\": 17, \"3\": 11, \"13\": 10, \"0\": 9, \"10\": 1}, \"4\": {\"12\": 56, \"11\": 6, \"4\": 141, \"7\": 16, \"0\": 4, \"10\": 5, \"8\": 4, \"14\": 7, \"2\": 1}, \"13\": {\"8\": 20, \"1\": 30, \"15\": 35, \"6\": 12, \"13\": 42, \"10\": 14, \"2\": 28, \"5\": 16, \"9\": 9, \"7\": 9, \"0\": 8, \"11\": 5, \"14\": 7, \"3\": 3, \"4\": 2}, \"3\": {\"9\": 41, \"3\": 101, \"1\": 4, \"0\": 21, \"5\": 19, \"10\": 2, \"8\": 12, \"6\": 23, \"7\": 14, \"15\": 1, \"13\": 2}, \"7\": {\"5\": 23, \"6\": 13, \"3\": 14, \"7\": 54, \"8\": 28, \"10\": 18, \"12\": 6, \"0\": 42, \"1\": 3, \"15\": 6, \"9\": 14, \"2\": 1, \"13\": 11, \"4\": 6, \"14\": 1}, \"8\": {\"1\": 12, \"5\": 30, \"7\": 25, \"13\": 16, \"0\": 31, \"15\": 18, \"8\": 34, \"10\": 22, \"9\": 13, \"6\": 23, \"3\": 9, \"14\": 2, \"2\": 3, \"12\": 2}, \"1\": {\"8\": 16, \"9\": 15, \"1\": 65, \"6\": 30, \"13\": 36, \"15\": 36, \"5\": 19, \"3\": 2, \"2\": 10, \"0\": 7, \"7\": 2, \"10\": 2}, \"5\": {\"6\": 29, \"5\": 30, \"9\": 17, \"7\": 25, \"1\": 16, \"13\": 12, \"10\": 14, \"15\": 17, \"8\": 35, \"0\": 29, \"14\": 1, \"3\": 9, \"2\": 4, \"12\": 1, \"4\": 1}, \"0\": {\"7\": 38, \"0\": 33, \"3\": 13, \"8\": 37, \"9\": 14, \"5\": 23, \"13\": 9, \"1\": 9, \"6\": 15, \"10\": 17, \"15\": 12, \"2\": 3, \"12\": 6, \"14\": 3, \"4\": 8}, \"2\": {\"1\": 17, \"10\": 18, \"14\": 44, \"13\": 31, \"15\": 33, \"0\": 10, \"2\": 59, \"11\": 9, \"5\": 9, \"6\": 1, \"8\": 8, \"12\": 1}, \"12\": {\"12\": 106, \"4\": 61, \"7\": 6, \"11\": 10, \"14\": 22, \"15\": 5, \"0\": 5, \"5\": 2, \"10\": 18, \"13\": 1, \"8\": 4}, \"9\": {\"6\": 70, \"5\": 22, \"9\": 70, \"8\": 11, \"1\": 18, \"0\": 7, \"3\": 18, \"13\": 8, \"7\": 10, \"15\": 4, \"10\": 1, \"2\": 1}}, \"ORACLE.run1_20\": {\"10\": {\"3\": 17, \"13\": 6, \"6\": 21, \"4\": 35, \"1\": 8, \"10\": 29, \"14\": 30, \"7\": 20, \"5\": 21, \"11\": 4, \"15\": 4, \"8\": 8, \"9\": 11, \"2\": 10, \"0\": 3, \"12\": 13}, \"7\": {\"6\": 18, \"7\": 29, \"15\": 12, \"9\": 22, \"1\": 11, \"14\": 5, \"12\": 18, \"11\": 11, \"3\": 17, \"5\": 21, \"4\": 14, \"2\": 15, \"13\": 12, \"0\": 10, \"8\": 11, \"10\": 14}, \"4\": {\"8\": 20, \"3\": 17, \"6\": 31, \"14\": 16, \"4\": 30, \"5\": 18, \"13\": 7, \"10\": 22, \"7\": 14, \"12\": 14, \"0\": 11, \"1\": 11, \"15\": 6, \"9\": 15, \"2\": 7, \"11\": 1}, \"13\": {\"13\": 27, \"12\": 21, \"3\": 14, \"15\": 18, \"7\": 12, \"2\": 25, \"1\": 23, \"9\": 15, \"10\": 1, \"4\": 9, \"5\": 12, \"11\": 18, \"14\": 5, \"6\": 7, \"8\": 9, \"0\": 24}, \"1\": {\"13\": 17, \"7\": 22, \"15\": 14, \"8\": 12, \"1\": 26, \"9\": 14, \"5\": 23, \"10\": 3, \"0\": 20, \"4\": 18, \"6\": 6, \"12\": 21, \"2\": 19, \"3\": 17, \"11\": 5, \"14\": 3}, \"0\": {\"8\": 18, \"3\": 21, \"10\": 4, \"6\": 4, \"5\": 25, \"4\": 23, \"15\": 12, \"9\": 11, \"12\": 19, \"14\": 10, \"2\": 17, \"13\": 13, \"1\": 23, \"0\": 20, \"7\": 17, \"11\": 3}, \"12\": {\"13\": 17, \"5\": 18, \"15\": 15, \"3\": 13, \"4\": 10, \"6\": 11, \"2\": 18, \"1\": 27, \"9\": 24, \"12\": 13, \"0\": 15, \"14\": 11, \"7\": 17, \"11\": 6, \"10\": 7, \"8\": 18}, \"5\": {\"3\": 26, \"14\": 8, \"15\": 19, \"12\": 17, \"7\": 12, \"5\": 15, \"0\": 26, \"8\": 10, \"4\": 20, \"1\": 18, \"13\": 14, \"2\": 19, \"9\": 12, \"6\": 11, \"10\": 11, \"11\": 2}, \"6\": {\"14\": 33, \"3\": 12, \"4\": 13, \"6\": 44, \"1\": 15, \"5\": 6, \"8\": 23, \"0\": 6, \"11\": 9, \"7\": 18, \"9\": 15, \"10\": 17, \"2\": 13, \"15\": 2, \"12\": 10, \"13\": 4}, \"2\": {\"3\": 15, \"12\": 20, \"5\": 13, \"15\": 12, \"13\": 15, \"10\": 9, \"2\": 27, \"8\": 14, \"0\": 16, \"11\": 18, \"4\": 14, \"14\": 8, \"1\": 17, \"9\": 16, \"7\": 19, \"6\": 7}, \"8\": {\"13\": 9, \"0\": 16, \"12\": 12, \"7\": 14, \"8\": 30, \"5\": 22, \"6\": 23, \"15\": 5, \"10\": 16, \"4\": 14, \"3\": 13, \"14\": 25, \"2\": 8, \"11\": 6, \"1\": 11, \"9\": 16}, \"11\": {\"13\": 27, \"1\": 13, \"11\": 66, \"3\": 5, \"6\": 18, \"15\": 3, \"2\": 28, \"9\": 13, \"0\": 5, \"14\": 8, \"7\": 21, \"10\": 5, \"12\": 11, \"5\": 5, \"8\": 11, \"4\": 1}, \"9\": {\"6\": 11, \"13\": 20, \"9\": 16, \"7\": 27, \"12\": 17, \"5\": 16, \"1\": 17, \"11\": 7, \"4\": 27, \"3\": 15, \"2\": 16, \"8\": 12, \"0\": 11, \"14\": 8, \"10\": 8, \"15\": 12}, \"14\": {\"8\": 23, \"9\": 9, \"10\": 36, \"11\": 8, \"4\": 32, \"7\": 16, \"1\": 7, \"6\": 38, \"14\": 27, \"5\": 9, \"12\": 7, \"3\": 11, \"13\": 7, \"0\": 5, \"2\": 5}, \"15\": {\"12\": 26, \"13\": 20, \"2\": 13, \"8\": 8, \"9\": 21, \"15\": 24, \"1\": 20, \"5\": 25, \"7\": 11, \"0\": 18, \"4\": 22, \"3\": 23, \"11\": 1, \"6\": 3, \"14\": 4, \"10\": 1}, \"3\": {\"5\": 10, \"13\": 18, \"9\": 15, \"6\": 14, \"8\": 15, \"1\": 17, \"12\": 19, \"3\": 18, \"0\": 19, \"4\": 16, \"10\": 14, \"7\": 19, \"14\": 12, \"2\": 19, \"15\": 12, \"11\": 3}}, \"ORACLE.run1_14\": {\"14\": {\"4\": 16, \"3\": 13, \"13\": 25, \"14\": 31, \"2\": 40, \"6\": 25, \"5\": 22, \"0\": 19, \"7\": 10, \"1\": 8, \"10\": 14, \"11\": 8, \"15\": 3, \"8\": 3, \"9\": 3}, \"0\": {\"10\": 35, \"2\": 11, \"14\": 23, \"3\": 23, \"0\": 41, \"12\": 17, \"9\": 19, \"11\": 25, \"4\": 11, \"13\": 7, \"5\": 9, \"1\": 10, \"8\": 4, \"6\": 4, \"7\": 1}, \"4\": {\"5\": 22, \"13\": 12, \"10\": 13, \"4\": 44, \"11\": 9, \"2\": 12, \"0\": 14, \"14\": 20, \"8\": 11, \"7\": 10, \"1\": 27, \"3\": 30, \"15\": 5, \"6\": 10, \"9\": 1}, \"11\": {\"3\": 15, \"2\": 7, \"11\": 59, \"9\": 44, \"0\": 39, \"10\": 21, \"1\": 4, \"13\": 3, \"4\": 5, \"12\": 24, \"6\": 6, \"5\": 4, \"14\": 4, \"8\": 5}, \"13\": {\"15\": 15, \"13\": 36, \"1\": 14, \"7\": 11, \"5\": 13, \"9\": 1, \"2\": 40, \"6\": 40, \"3\": 10, \"0\": 6, \"14\": 26, \"4\": 15, \"10\": 8, \"11\": 4, \"8\": 1}, \"9\": {\"3\": 9, \"9\": 57, \"7\": 2, \"0\": 31, \"8\": 24, \"10\": 18, \"11\": 44, \"12\": 50, \"1\": 3, \"5\": 1, \"4\": 1}, \"3\": {\"2\": 32, \"11\": 12, \"0\": 25, \"4\": 24, \"9\": 11, \"10\": 26, \"13\": 13, \"3\": 21, \"5\": 21, \"14\": 9, \"1\": 17, \"8\": 7, \"6\": 11, \"7\": 8, \"15\": 3}, \"6\": {\"13\": 39, \"7\": 10, \"14\": 32, \"6\": 41, \"2\": 42, \"4\": 13, \"15\": 10, \"0\": 5, \"10\": 14, \"5\": 13, \"11\": 5, \"3\": 11, \"1\": 5}, \"1\": {\"7\": 27, \"15\": 12, \"14\": 7, \"3\": 18, \"1\": 49, \"10\": 10, \"5\": 27, \"0\": 8, \"4\": 32, \"13\": 2, \"2\": 14, \"8\": 25, \"11\": 4, \"9\": 1, \"6\": 4}, \"5\": {\"2\": 19, \"14\": 9, \"1\": 32, \"7\": 23, \"4\": 23, \"15\": 20, \"5\": 38, \"3\": 22, \"6\": 10, \"8\": 5, \"13\": 14, \"10\": 13, \"11\": 6, \"0\": 5, \"9\": 1}, \"12\": {\"9\": 74, \"8\": 11, \"12\": 106, \"10\": 8, \"0\": 17, \"11\": 20, \"14\": 1, \"3\": 2, \"4\": 1}, \"10\": {\"10\": 45, \"3\": 24, \"6\": 12, \"0\": 27, \"1\": 16, \"2\": 11, \"13\": 19, \"14\": 21, \"4\": 18, \"11\": 18, \"8\": 4, \"12\": 3, \"5\": 9, \"9\": 12, \"7\": 1}, \"8\": {\"0\": 11, \"9\": 29, \"8\": 75, \"7\": 12, \"5\": 16, \"11\": 9, \"1\": 33, \"3\": 10, \"12\": 18, \"4\": 19, \"14\": 1, \"10\": 3, \"2\": 4}, \"7\": {\"7\": 52, \"2\": 9, \"13\": 16, \"15\": 41, \"3\": 10, \"5\": 28, \"4\": 25, \"0\": 4, \"6\": 17, \"1\": 25, \"8\": 10, \"14\": 2, \"10\": 1}, \"15\": {\"13\": 23, \"2\": 15, \"5\": 28, \"7\": 54, \"15\": 52, \"1\": 14, \"3\": 7, \"6\": 20, \"14\": 6, \"4\": 20, \"0\": 1}, \"2\": {\"13\": 30, \"7\": 16, \"14\": 20, \"4\": 21, \"0\": 12, \"2\": 30, \"5\": 21, \"1\": 15, \"10\": 12, \"6\": 30, \"15\": 14, \"11\": 2, \"3\": 15, \"8\": 2}}, \"ORACLE.run1_32\": {\"11\": {\"14\": 44, \"11\": 60, \"2\": 16, \"13\": 20, \"7\": 26, \"8\": 12, \"5\": 27, \"3\": 12, \"0\": 12, \"4\": 11}, \"1\": {\"1\": 136, \"10\": 89, \"12\": 1, \"6\": 14}, \"2\": {\"13\": 15, \"4\": 48, \"11\": 13, \"7\": 29, \"2\": 45, \"5\": 15, \"14\": 17, \"0\": 33, \"8\": 9, \"9\": 14, \"3\": 1, \"12\": 1}, \"0\": {\"0\": 45, \"5\": 24, \"14\": 20, \"8\": 24, \"2\": 23, \"9\": 6, \"3\": 7, \"7\": 25, \"4\": 25, \"11\": 16, \"13\": 25}, \"3\": {\"3\": 78, \"13\": 26, \"8\": 36, \"14\": 13, \"15\": 21, \"11\": 10, \"7\": 7, \"0\": 15, \"5\": 20, \"4\": 11, \"2\": 3}, \"8\": {\"4\": 31, \"8\": 38, \"13\": 30, \"14\": 30, \"7\": 8, \"0\": 23, \"3\": 28, \"5\": 24, \"15\": 11, \"9\": 1, \"11\": 10, \"2\": 6}, \"12\": {\"9\": 63, \"12\": 121, \"6\": 44, \"1\": 4, \"10\": 7, \"7\": 1}, \"5\": {\"0\": 23, \"4\": 26, \"7\": 26, \"15\": 4, \"11\": 19, \"13\": 27, \"8\": 28, \"14\": 24, \"2\": 25, \"5\": 20, \"3\": 18}, \"15\": {\"15\": 176, \"13\": 11, \"8\": 14, \"3\": 30, \"5\": 2, \"7\": 1, \"0\": 3, \"11\": 3}, \"7\": {\"7\": 44, \"5\": 21, \"13\": 18, \"14\": 32, \"4\": 32, \"0\": 21, \"11\": 20, \"2\": 29, \"8\": 15, \"3\": 7, \"9\": 1}, \"4\": {\"9\": 13, \"13\": 27, \"4\": 41, \"8\": 25, \"5\": 20, \"3\": 6, \"14\": 17, \"2\": 29, \"0\": 25, \"7\": 26, \"11\": 11}, \"14\": {\"0\": 15, \"2\": 19, \"5\": 14, \"4\": 11, \"11\": 58, \"7\": 41, \"3\": 11, \"14\": 42, \"8\": 13, \"13\": 14, \"9\": 1, \"15\": 1}, \"10\": {\"10\": 147, \"6\": 8, \"1\": 68, \"12\": 17}, \"6\": {\"6\": 147, \"9\": 15, \"12\": 51, \"10\": 17, \"1\": 10}, \"13\": {\"8\": 56, \"3\": 18, \"13\": 40, \"2\": 15, \"0\": 23, \"7\": 15, \"14\": 18, \"5\": 22, \"4\": 21, \"15\": 4, \"11\": 7, \"9\": 1}, \"9\": {\"9\": 117, \"6\": 13, \"12\": 59, \"2\": 20, \"7\": 3, \"4\": 13, \"0\": 8, \"5\": 3, \"13\": 3, \"8\": 1}}, \"ORACLE.run1_8\": {\"9\": {\"11\": 6, \"0\": 9, \"9\": 107, \"13\": 23, \"10\": 22, \"5\": 35, \"4\": 16, \"14\": 14, \"6\": 1, \"1\": 4, \"7\": 2, \"15\": 1}, \"11\": {\"1\": 28, \"8\": 20, \"0\": 9, \"10\": 25, \"7\": 7, \"13\": 16, \"11\": 42, \"12\": 5, \"5\": 24, \"6\": 12, \"4\": 19, \"15\": 10, \"9\": 1, \"14\": 18, \"2\": 4}, \"8\": {\"15\": 23, \"3\": 15, \"11\": 28, \"5\": 10, \"2\": 4, \"1\": 14, \"7\": 14, \"14\": 16, \"13\": 12, \"12\": 22, \"8\": 34, \"10\": 9, \"4\": 17, \"0\": 6, \"6\": 16}, \"4\": {\"7\": 21, \"15\": 6, \"10\": 25, \"4\": 27, \"12\": 6, \"8\": 14, \"13\": 22, \"5\": 18, \"14\": 25, \"0\": 24, \"6\": 20, \"3\": 5, \"2\": 8, \"1\": 8, \"11\": 10, \"9\": 1}, \"13\": {\"1\": 9, \"7\": 17, \"0\": 27, \"15\": 7, \"10\": 21, \"4\": 23, \"6\": 23, \"8\": 14, \"13\": 38, \"5\": 15, \"14\": 16, \"11\": 14, \"2\": 8, \"12\": 3, \"3\": 2, \"9\": 3}, \"14\": {\"8\": 20, \"0\": 23, \"5\": 19, \"4\": 25, \"14\": 15, \"2\": 8, \"6\": 20, \"7\": 19, \"10\": 21, \"13\": 22, \"3\": 10, \"1\": 13, \"11\": 15, \"12\": 6, \"15\": 3, \"9\": 1}, \"2\": {\"12\": 29, \"6\": 18, \"0\": 24, \"3\": 52, \"10\": 3, \"7\": 17, \"2\": 49, \"14\": 7, \"13\": 13, \"4\": 9, \"15\": 9, \"8\": 10}, \"3\": {\"14\": 6, \"2\": 30, \"12\": 28, \"3\": 61, \"7\": 16, \"8\": 13, \"10\": 2, \"6\": 20, \"15\": 27, \"11\": 2, \"4\": 12, \"13\": 8, \"0\": 13, \"1\": 2}, \"1\": {\"1\": 37, \"0\": 9, \"4\": 27, \"5\": 23, \"7\": 10, \"11\": 31, \"13\": 14, \"9\": 2, \"10\": 18, \"14\": 27, \"6\": 15, \"15\": 9, \"12\": 3, \"2\": 2, \"8\": 12, \"3\": 1}, \"0\": {\"7\": 21, \"10\": 14, \"5\": 10, \"15\": 15, \"8\": 16, \"13\": 23, \"2\": 15, \"4\": 26, \"0\": 34, \"6\": 23, \"14\": 17, \"3\": 6, \"9\": 3, \"11\": 8, \"1\": 4, \"12\": 5}, \"5\": {\"13\": 14, \"14\": 30, \"1\": 26, \"4\": 27, \"8\": 7, \"0\": 12, \"10\": 29, \"7\": 12, \"5\": 26, \"6\": 20, \"11\": 23, \"9\": 7, \"15\": 5, \"12\": 1, \"2\": 1}, \"15\": {\"15\": 48, \"12\": 20, \"8\": 23, \"6\": 13, \"3\": 33, \"11\": 17, \"7\": 19, \"13\": 15, \"4\": 14, \"1\": 7, \"10\": 7, \"2\": 7, \"14\": 7, \"0\": 6, \"5\": 4}, \"10\": {\"14\": 18, \"7\": 14, \"0\": 27, \"13\": 23, \"10\": 29, \"5\": 24, \"12\": 2, \"6\": 21, \"8\": 13, \"4\": 18, \"11\": 21, \"3\": 3, \"1\": 13, \"15\": 5, \"9\": 6, \"2\": 3}, \"12\": {\"3\": 31, \"14\": 7, \"12\": 53, \"8\": 34, \"15\": 32, \"6\": 15, \"2\": 20, \"1\": 4, \"13\": 10, \"10\": 2, \"7\": 11, \"4\": 7, \"0\": 9, \"11\": 2, \"5\": 3}, \"6\": {\"0\": 17, \"11\": 12, \"14\": 21, \"12\": 9, \"4\": 34, \"1\": 9, \"3\": 13, \"13\": 15, \"8\": 19, \"7\": 24, \"10\": 14, \"15\": 16, \"2\": 8, \"6\": 22, \"5\": 7}, \"7\": {\"4\": 25, \"15\": 16, \"12\": 14, \"2\": 8, \"13\": 19, \"0\": 19, \"1\": 11, \"8\": 19, \"7\": 23, \"14\": 21, \"6\": 15, \"10\": 19, \"3\": 11, \"5\": 8, \"11\": 11, \"9\": 1}}}, \"per_domain_accuracy\": {\"C_A_5\": {\"accuracy\": 0.99375, \"source?\": true}, \"W_A_4\": {\"accuracy\": 0.9521276595744681, \"source?\": true}, \"W_A_1\": {\"accuracy\": 0.9741847826086957, \"source?\": true}, \"C_A_1\": {\"accuracy\": 1.0, \"source?\": true}, \"W_A_2\": {\"accuracy\": 0.9441489361702128, \"source?\": true}, \"C_A_3\": {\"accuracy\": 0.9984375, \"source?\": true}, \"C_A_4\": {\"accuracy\": 0.9859375, \"source?\": true}, \"C_A_2\": {\"accuracy\": 0.99375, \"source?\": true}, \"W_A_3\": {\"accuracy\": 0.9748641304347826, \"source?\": true}, \"ORACLE.run1_26\": {\"accuracy\": 0.13515625, \"source?\": false}, \"ORACLE.run1_44\": {\"accuracy\": 0.23802083333333332, \"source?\": false}, \"ORACLE.run1_50\": {\"accuracy\": 0.2265625, \"source?\": false}, \"ORACLE.run1_38\": {\"accuracy\": 0.27708333333333335, \"source?\": false}, \"ORACLE.run1_20\": {\"accuracy\": 0.11484375, \"source?\": false}, \"ORACLE.run1_14\": {\"accuracy\": 0.20234375, \"source?\": false}, \"ORACLE.run1_32\": {\"accuracy\": 0.3377604166666667, \"source?\": false}, \"ORACLE.run1_8\": {\"accuracy\": 0.16796875, \"source?\": false}}}, \"history\": {\"epoch_indices\": [1, 2, 3, 4, 5, 6, 7, 8, 9], \"train_label_loss\": [0.35248841627323246, 0.17911253040249359, 0.1318053787497764, 0.1061695052470857, 0.0854231822033865, 0.06998927448888707, 0.058291942805348405, 0.05135143587345868, 0.043663632351850494], \"source_val_label_loss\": [0.24312561750411987, 0.1702103167772293, 0.13503268361091614, 0.13055537641048431, 0.12983760237693787, 0.12103023380041122, 0.12923210859298706, 0.13235902786254883, 0.13890068233013153], \"target_val_label_loss\": [2.4545810222625732, 2.5734004974365234, 2.588574171066284, 2.5912036895751953, 2.4317851066589355, 2.615551233291626, 2.8670895099639893, 2.888326406478882, 3.1374435424804688], \"source_val_acc_label\": [0.9430725524475524, 0.9613199300699301, 0.9697333916083916, 0.9704982517482518, 0.9727928321678322, 0.9743225524475524, 0.9734484265734266, 0.9742132867132867, 0.9737762237762237], \"target_val_acc_label\": [0.18323567708333333, 0.16806640625, 0.16585286458333334, 0.17320963541666667, 0.21246744791666666, 0.1771484375, 0.15348307291666666, 0.168359375, 0.162109375]}, \"dataset_metrics\": {\"source\": {\"train\": {\"n_unique_x\": 56700, \"n_unique_y\": 130, \"n_batch/episode\": 2079}, \"val\": {\"n_unique_x\": 12104, \"n_unique_y\": 130, \"n_batch/episode\": 286}, \"test\": {\"n_unique_x\": 12104, \"n_unique_y\": 130, \"n_batch/episode\": 286}}, \"target\": {\"train\": {\"n_unique_x\": 179200, \"n_unique_y\": 16, \"n_batch/episode\": 6720}, \"val\": {\"n_unique_x\": 38400, \"n_unique_y\": 16, \"n_batch/episode\": 960}, \"test\": {\"n_unique_x\": 38400, \"n_unique_y\": 16, \"n_batch/episode\": 960}}}}'"
      ]
     },
     "execution_count": 29,
     "metadata": {},
     "output_type": "execute_result"
    }
   ],
   "source": [
    "json.dumps(experiment)"
   ]
  }
 ],
 "metadata": {
  "celltoolbar": "Tags",
  "kernelspec": {
   "display_name": "Python 3 (ipykernel)",
   "language": "python",
   "name": "python3"
  },
  "language_info": {
   "codemirror_mode": {
    "name": "ipython",
    "version": 3
   },
   "file_extension": ".py",
   "mimetype": "text/x-python",
   "name": "python",
   "nbconvert_exporter": "python",
   "pygments_lexer": "ipython3",
   "version": "3.8.10"
  },
  "papermill": {
   "default_parameters": {},
   "duration": 608.344429,
   "end_time": "2022-03-18T22:59:04.402225",
   "environment_variables": {},
   "exception": null,
   "input_path": "/mnt/wd500GB/CSC500/csc500-main/csc500-notebooks/templates/tl_ptn_template.ipynb",
   "output_path": "trial.ipynb",
   "parameters": {
    "parameters": {
     "BEST_MODEL_PATH": "./best_model.pth",
     "NUM_LOGS_PER_EPOCH": 10,
     "criteria_for_best": "target_loss",
     "dataset_seed": 7,
     "datasets": [
      {
       "domain_prefix": "C_A_",
       "domains": [
        1,
        2,
        3,
        4,
        5
       ],
       "episode_transforms": [],
       "labels": [
        "1-10.",
        "1-11.",
        "1-15.",
        "1-16.",
        "1-17.",
        "1-18.",
        "1-19.",
        "10-4.",
        "10-7.",
        "11-1.",
        "11-14.",
        "11-17.",
        "11-20.",
        "11-7.",
        "13-20.",
        "13-8.",
        "14-10.",
        "14-11.",
        "14-14.",
        "14-7.",
        "15-1.",
        "15-20.",
        "16-1.",
        "16-16.",
        "17-10.",
        "17-11.",
        "17-2.",
        "19-1.",
        "19-16.",
        "19-19.",
        "19-20.",
        "19-3.",
        "2-10.",
        "2-11.",
        "2-17.",
        "2-18.",
        "2-20.",
        "2-3.",
        "2-4.",
        "2-5.",
        "2-6.",
        "2-7.",
        "2-8.",
        "3-13.",
        "3-18.",
        "3-3.",
        "4-1.",
        "4-10.",
        "4-11.",
        "4-19.",
        "5-5.",
        "6-15.",
        "7-10.",
        "7-14.",
        "8-18.",
        "8-20.",
        "8-3.",
        "8-8."
       ],
       "num_examples_per_domain_per_label": 100,
       "pickle_path": "/mnt/wd500GB/CSC500/csc500-main/datasets/cores.stratified_ds.2022A.pkl",
       "source_or_target_dataset": "source",
       "x_transforms": [
        "unit_mag",
        "take_200"
       ]
      },
      {
       "domain_prefix": "W_A_",
       "domains": [
        1,
        2,
        3,
        4
       ],
       "episode_transforms": [],
       "labels": [
        "1-10",
        "1-12",
        "1-14",
        "1-16",
        "1-18",
        "1-19",
        "1-8",
        "10-11",
        "10-17",
        "10-4",
        "10-7",
        "11-1",
        "11-10",
        "11-19",
        "11-20",
        "11-4",
        "11-7",
        "12-19",
        "12-20",
        "12-7",
        "13-14",
        "13-18",
        "13-19",
        "13-20",
        "13-3",
        "13-7",
        "14-10",
        "14-11",
        "14-12",
        "14-13",
        "14-14",
        "14-19",
        "14-20",
        "14-7",
        "14-8",
        "14-9",
        "15-1",
        "15-19",
        "15-6",
        "16-1",
        "16-16",
        "16-19",
        "16-20",
        "17-10",
        "17-11",
        "18-1",
        "18-10",
        "18-11",
        "18-12",
        "18-13",
        "18-14",
        "18-15",
        "18-16",
        "18-17",
        "18-19",
        "18-2",
        "18-20",
        "18-4",
        "18-5",
        "18-7",
        "18-8",
        "18-9",
        "19-1",
        "19-10",
        "19-11",
        "19-12",
        "19-13",
        "19-14",
        "19-15",
        "19-19",
        "19-2",
        "19-20",
        "19-3",
        "19-4",
        "19-6",
        "19-7",
        "19-8",
        "19-9",
        "2-1",
        "2-13",
        "2-15",
        "2-3",
        "2-4",
        "2-5",
        "2-6",
        "2-7",
        "2-8",
        "20-1",
        "20-12",
        "20-14",
        "20-15",
        "20-16",
        "20-18",
        "20-19",
        "20-20",
        "20-3",
        "20-4",
        "20-5",
        "20-7",
        "20-8",
        "3-1",
        "3-13",
        "3-18",
        "3-2",
        "3-8",
        "4-1",
        "4-10",
        "4-11",
        "5-1",
        "5-5",
        "6-1",
        "6-15",
        "6-6",
        "7-10",
        "7-11",
        "7-12",
        "7-13",
        "7-14",
        "7-7",
        "7-8",
        "7-9",
        "8-1",
        "8-13",
        "8-14",
        "8-18",
        "8-20",
        "8-3",
        "8-8",
        "9-1",
        "9-7"
       ],
       "num_examples_per_domain_per_label": 100,
       "pickle_path": "/mnt/wd500GB/CSC500/csc500-main/datasets/wisig.node3-19.stratified_ds.2022A.pkl",
       "source_or_target_dataset": "source",
       "x_transforms": [
        "unit_mag",
        "take_200"
       ]
      },
      {
       "domain_prefix": "ORACLE.run1_",
       "domains": [
        32,
        38,
        8,
        44,
        14,
        50,
        20,
        26
       ],
       "episode_transforms": [],
       "labels": [
        "3123D52",
        "3123D65",
        "3123D79",
        "3123D80",
        "3123D54",
        "3123D70",
        "3123D7B",
        "3123D89",
        "3123D58",
        "3123D76",
        "3123D7D",
        "3123EFE",
        "3123D64",
        "3123D78",
        "3123D7E",
        "3124E4A"
       ],
       "num_examples_per_domain_per_label": 2000,
       "pickle_path": "/mnt/wd500GB/CSC500/csc500-main/datasets/oracle.Run1_framed_2000Examples_stratified_ds.2022A.pkl",
       "source_or_target_dataset": "target",
       "x_transforms": [
        "unit_mag",
        "take_200",
        "resample_20Msps_to_25Msps"
       ]
      }
     ],
     "device": "cuda",
     "experiment_name": "tl_3A:cores+wisig -> oracle.run1.framed",
     "lr": 0.001,
     "n_epoch": 50,
     "n_query": 2,
     "n_shot": 3,
     "n_way": 16,
     "patience": 3,
     "seed": 7,
     "test_k_factor": 2,
     "torch_default_dtype": "torch.float32",
     "train_k_factor": 3,
     "val_k_factor": 2,
     "x_net": [
      {
       "class": "nnReshape",
       "kargs": {
        "shape": [
         -1,
         1,
         2,
         200
        ]
       }
      },
      {
       "class": "Conv2d",
       "kargs": {
        "bias": false,
        "in_channels": 1,
        "kernel_size": [
         1,
         7
        ],
        "out_channels": 256,
        "padding": [
         0,
         3
        ]
       }
      },
      {
       "class": "ReLU",
       "kargs": {
        "inplace": true
       }
      },
      {
       "class": "BatchNorm2d",
       "kargs": {
        "num_features": 256
       }
      },
      {
       "class": "Conv2d",
       "kargs": {
        "bias": true,
        "in_channels": 256,
        "kernel_size": [
         2,
         7
        ],
        "out_channels": 80,
        "padding": [
         0,
         3
        ]
       }
      },
      {
       "class": "ReLU",
       "kargs": {
        "inplace": true
       }
      },
      {
       "class": "BatchNorm2d",
       "kargs": {
        "num_features": 80
       }
      },
      {
       "class": "Flatten",
       "kargs": {}
      },
      {
       "class": "Linear",
       "kargs": {
        "in_features": 16000,
        "out_features": 256
       }
      },
      {
       "class": "ReLU",
       "kargs": {
        "inplace": true
       }
      },
      {
       "class": "BatchNorm1d",
       "kargs": {
        "num_features": 256
       }
      },
      {
       "class": "Linear",
       "kargs": {
        "in_features": 256,
        "out_features": 256
       }
      }
     ],
     "x_shape": [
      2,
      200
     ]
    }
   },
   "start_time": "2022-03-18T22:48:56.057796",
   "version": "2.3.4"
  }
 },
 "nbformat": 4,
 "nbformat_minor": 5
}