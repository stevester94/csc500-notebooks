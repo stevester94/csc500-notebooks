{
 "cells": [
  {
   "cell_type": "markdown",
   "id": "9fea5f46",
   "metadata": {
    "papermill": {
     "duration": 0.017563,
     "end_time": "2022-03-18T23:14:27.031147",
     "exception": false,
     "start_time": "2022-03-18T23:14:27.013584",
     "status": "completed"
    },
    "tags": []
   },
   "source": [
    "# Transfer Learning Template"
   ]
  },
  {
   "cell_type": "code",
   "execution_count": 1,
   "id": "0902182a",
   "metadata": {
    "execution": {
     "iopub.execute_input": "2022-03-18T23:14:27.072567Z",
     "iopub.status.busy": "2022-03-18T23:14:27.072035Z",
     "iopub.status.idle": "2022-03-18T23:14:27.971779Z",
     "shell.execute_reply": "2022-03-18T23:14:27.971500Z"
    },
    "papermill": {
     "duration": 0.928037,
     "end_time": "2022-03-18T23:14:27.971849",
     "exception": false,
     "start_time": "2022-03-18T23:14:27.043812",
     "status": "completed"
    },
    "tags": []
   },
   "outputs": [],
   "source": [
    "%load_ext autoreload\n",
    "%autoreload 2\n",
    "%matplotlib inline\n",
    "\n",
    "    \n",
    "import os, json, sys, time, random\n",
    "import numpy as np\n",
    "import torch\n",
    "from torch.optim import Adam\n",
    "from  easydict import EasyDict\n",
    "import matplotlib.pyplot as plt\n",
    "\n",
    "from steves_models.steves_ptn import Steves_Prototypical_Network\n",
    "\n",
    "from steves_utils.lazy_iterable_wrapper import Lazy_Iterable_Wrapper\n",
    "from steves_utils.iterable_aggregator import Iterable_Aggregator\n",
    "from steves_utils.ptn_train_eval_test_jig import  PTN_Train_Eval_Test_Jig\n",
    "from steves_utils.torch_sequential_builder import build_sequential\n",
    "from steves_utils.torch_utils import get_dataset_metrics, ptn_confusion_by_domain_over_dataloader\n",
    "from steves_utils.utils_v2 import (per_domain_accuracy_from_confusion, get_datasets_base_path)\n",
    "from steves_utils.PTN.utils import independent_accuracy_assesment\n",
    "\n",
    "from torch.utils.data import DataLoader\n",
    "\n",
    "from steves_utils.stratified_dataset.episodic_accessor import Episodic_Accessor_Factory\n",
    "\n",
    "from steves_utils.ptn_do_report import (\n",
    "    get_loss_curve,\n",
    "    get_results_table,\n",
    "    get_parameters_table,\n",
    "    get_domain_accuracies,\n",
    ")\n",
    "\n",
    "from steves_utils.transforms import get_chained_transform"
   ]
  },
  {
   "cell_type": "markdown",
   "id": "41c840b4",
   "metadata": {
    "papermill": {
     "duration": 0.012646,
     "end_time": "2022-03-18T23:14:27.998662",
     "exception": false,
     "start_time": "2022-03-18T23:14:27.986016",
     "status": "completed"
    },
    "tags": []
   },
   "source": [
    "# Allowed Parameters\n",
    "These are allowed parameters, not defaults\n",
    "Each of these values need to be present in the injected parameters (the notebook will raise an exception if they are not present)\n",
    "\n",
    "Papermill uses the cell tag \"parameters\" to inject the real parameters below this cell.\n",
    "Enable tags to see what I mean"
   ]
  },
  {
   "cell_type": "code",
   "execution_count": 2,
   "id": "fd44eb83",
   "metadata": {
    "execution": {
     "iopub.execute_input": "2022-03-18T23:14:28.027168Z",
     "iopub.status.busy": "2022-03-18T23:14:28.025358Z",
     "iopub.status.idle": "2022-03-18T23:14:28.042470Z",
     "shell.execute_reply": "2022-03-18T23:14:28.041979Z"
    },
    "papermill": {
     "duration": 0.03124,
     "end_time": "2022-03-18T23:14:28.042570",
     "exception": false,
     "start_time": "2022-03-18T23:14:28.011330",
     "status": "completed"
    },
    "tags": []
   },
   "outputs": [],
   "source": [
    "required_parameters = {\n",
    "    \"experiment_name\",\n",
    "    \"lr\",\n",
    "    \"device\",\n",
    "    \"seed\",\n",
    "    \"dataset_seed\",\n",
    "    \"n_shot\",\n",
    "    \"n_query\",\n",
    "    \"n_way\",\n",
    "    \"train_k_factor\",\n",
    "    \"val_k_factor\",\n",
    "    \"test_k_factor\",\n",
    "    \"n_epoch\",\n",
    "    \"patience\",\n",
    "    \"criteria_for_best\",\n",
    "    \"x_net\",\n",
    "    \"datasets\",\n",
    "    \"torch_default_dtype\",\n",
    "    \"NUM_LOGS_PER_EPOCH\",\n",
    "    \"BEST_MODEL_PATH\",\n",
    "    \"x_shape\",\n",
    "}"
   ]
  },
  {
   "cell_type": "code",
   "execution_count": 3,
   "id": "fa3f0049",
   "metadata": {
    "execution": {
     "iopub.execute_input": "2022-03-18T23:14:28.081434Z",
     "iopub.status.busy": "2022-03-18T23:14:28.079424Z",
     "iopub.status.idle": "2022-03-18T23:14:28.095159Z",
     "shell.execute_reply": "2022-03-18T23:14:28.094733Z"
    },
    "papermill": {
     "duration": 0.03516,
     "end_time": "2022-03-18T23:14:28.095270",
     "exception": false,
     "start_time": "2022-03-18T23:14:28.060110",
     "status": "completed"
    },
    "tags": [
     "parameters"
    ]
   },
   "outputs": [],
   "source": [
    "from steves_utils.CORES.utils import (\n",
    "    ALL_NODES,\n",
    "    ALL_NODES_MINIMUM_1000_EXAMPLES,\n",
    "    ALL_DAYS\n",
    ")\n",
    "\n",
    "from steves_utils.ORACLE.utils_v2 import (\n",
    "    ALL_DISTANCES_FEET_NARROWED,\n",
    "    ALL_RUNS,\n",
    "    ALL_SERIAL_NUMBERS,\n",
    ")\n",
    "\n",
    "standalone_parameters = {}\n",
    "standalone_parameters[\"experiment_name\"] = \"STANDALONE PTN\"\n",
    "standalone_parameters[\"lr\"] = 0.001\n",
    "standalone_parameters[\"device\"] = \"cuda\"\n",
    "\n",
    "standalone_parameters[\"seed\"] = 1337\n",
    "standalone_parameters[\"dataset_seed\"] = 1337\n",
    "\n",
    "standalone_parameters[\"n_way\"] = 8\n",
    "standalone_parameters[\"n_shot\"] = 3\n",
    "standalone_parameters[\"n_query\"]  = 2\n",
    "standalone_parameters[\"train_k_factor\"] = 1\n",
    "standalone_parameters[\"val_k_factor\"] = 2\n",
    "standalone_parameters[\"test_k_factor\"] = 2\n",
    "\n",
    "\n",
    "standalone_parameters[\"n_epoch\"] = 50\n",
    "\n",
    "standalone_parameters[\"patience\"] = 10\n",
    "standalone_parameters[\"criteria_for_best\"] = \"source_loss\"\n",
    "\n",
    "standalone_parameters[\"datasets\"] = [\n",
    "    {\n",
    "        \"labels\": ALL_SERIAL_NUMBERS,\n",
    "        \"domains\": ALL_DISTANCES_FEET_NARROWED,\n",
    "        \"num_examples_per_domain_per_label\": 100,\n",
    "        \"pickle_path\": os.path.join(get_datasets_base_path(), \"oracle.Run1_framed_2000Examples_stratified_ds.2022A.pkl\"),\n",
    "        \"source_or_target_dataset\": \"source\",\n",
    "        \"x_transforms\": [\"unit_mag\", \"minus_two\"],\n",
    "        \"episode_transforms\": [],\n",
    "        \"domain_prefix\": \"ORACLE_\"\n",
    "    },\n",
    "    {\n",
    "        \"labels\": ALL_NODES,\n",
    "        \"domains\": ALL_DAYS,\n",
    "        \"num_examples_per_domain_per_label\": 100,\n",
    "        \"pickle_path\": os.path.join(get_datasets_base_path(), \"cores.stratified_ds.2022A.pkl\"),\n",
    "        \"source_or_target_dataset\": \"target\",\n",
    "        \"x_transforms\": [\"unit_power\", \"times_zero\"],\n",
    "        \"episode_transforms\": [],\n",
    "        \"domain_prefix\": \"CORES_\"\n",
    "    }   \n",
    "]\n",
    "\n",
    "standalone_parameters[\"torch_default_dtype\"] = \"torch.float32\" \n",
    "\n",
    "\n",
    "\n",
    "standalone_parameters[\"x_net\"] =     [\n",
    "    {\"class\": \"nnReshape\", \"kargs\": {\"shape\":[-1, 1, 2, 256]}},\n",
    "    {\"class\": \"Conv2d\", \"kargs\": { \"in_channels\":1, \"out_channels\":256, \"kernel_size\":(1,7), \"bias\":False, \"padding\":(0,3), },},\n",
    "    {\"class\": \"ReLU\", \"kargs\": {\"inplace\": True}},\n",
    "    {\"class\": \"BatchNorm2d\", \"kargs\": {\"num_features\":256}},\n",
    "\n",
    "    {\"class\": \"Conv2d\", \"kargs\": { \"in_channels\":256, \"out_channels\":80, \"kernel_size\":(2,7), \"bias\":True, \"padding\":(0,3), },},\n",
    "    {\"class\": \"ReLU\", \"kargs\": {\"inplace\": True}},\n",
    "    {\"class\": \"BatchNorm2d\", \"kargs\": {\"num_features\":80}},\n",
    "    {\"class\": \"Flatten\", \"kargs\": {}},\n",
    "\n",
    "    {\"class\": \"Linear\", \"kargs\": {\"in_features\": 80*256, \"out_features\": 256}}, # 80 units per IQ pair\n",
    "    {\"class\": \"ReLU\", \"kargs\": {\"inplace\": True}},\n",
    "    {\"class\": \"BatchNorm1d\", \"kargs\": {\"num_features\":256}},\n",
    "\n",
    "    {\"class\": \"Linear\", \"kargs\": {\"in_features\": 256, \"out_features\": 256}},\n",
    "]\n",
    "\n",
    "# Parameters relevant to results\n",
    "# These parameters will basically never need to change\n",
    "standalone_parameters[\"NUM_LOGS_PER_EPOCH\"] = 10\n",
    "standalone_parameters[\"BEST_MODEL_PATH\"] = \"./best_model.pth\"\n",
    "\n",
    "\n",
    "\n",
    "\n"
   ]
  },
  {
   "cell_type": "code",
   "execution_count": 4,
   "id": "dc672bb9",
   "metadata": {
    "execution": {
     "iopub.execute_input": "2022-03-18T23:14:28.132512Z",
     "iopub.status.busy": "2022-03-18T23:14:28.127092Z",
     "iopub.status.idle": "2022-03-18T23:14:28.153010Z",
     "shell.execute_reply": "2022-03-18T23:14:28.152683Z"
    },
    "papermill": {
     "duration": 0.040559,
     "end_time": "2022-03-18T23:14:28.153089",
     "exception": false,
     "start_time": "2022-03-18T23:14:28.112530",
     "status": "completed"
    },
    "tags": [
     "injected-parameters"
    ]
   },
   "outputs": [],
   "source": [
    "# Parameters\n",
    "parameters = {\n",
    "    \"experiment_name\": \"tl_3A:cores+wisig -> oracle.run1.framed\",\n",
    "    \"device\": \"cuda\",\n",
    "    \"lr\": 0.001,\n",
    "    \"x_shape\": [2, 200],\n",
    "    \"n_shot\": 3,\n",
    "    \"n_query\": 2,\n",
    "    \"train_k_factor\": 3,\n",
    "    \"val_k_factor\": 2,\n",
    "    \"test_k_factor\": 2,\n",
    "    \"torch_default_dtype\": \"torch.float32\",\n",
    "    \"n_epoch\": 50,\n",
    "    \"patience\": 3,\n",
    "    \"criteria_for_best\": \"target_loss\",\n",
    "    \"x_net\": [\n",
    "        {\"class\": \"nnReshape\", \"kargs\": {\"shape\": [-1, 1, 2, 200]}},\n",
    "        {\n",
    "            \"class\": \"Conv2d\",\n",
    "            \"kargs\": {\n",
    "                \"in_channels\": 1,\n",
    "                \"out_channels\": 256,\n",
    "                \"kernel_size\": [1, 7],\n",
    "                \"bias\": False,\n",
    "                \"padding\": [0, 3],\n",
    "            },\n",
    "        },\n",
    "        {\"class\": \"ReLU\", \"kargs\": {\"inplace\": True}},\n",
    "        {\"class\": \"BatchNorm2d\", \"kargs\": {\"num_features\": 256}},\n",
    "        {\n",
    "            \"class\": \"Conv2d\",\n",
    "            \"kargs\": {\n",
    "                \"in_channels\": 256,\n",
    "                \"out_channels\": 80,\n",
    "                \"kernel_size\": [2, 7],\n",
    "                \"bias\": True,\n",
    "                \"padding\": [0, 3],\n",
    "            },\n",
    "        },\n",
    "        {\"class\": \"ReLU\", \"kargs\": {\"inplace\": True}},\n",
    "        {\"class\": \"BatchNorm2d\", \"kargs\": {\"num_features\": 80}},\n",
    "        {\"class\": \"Flatten\", \"kargs\": {}},\n",
    "        {\"class\": \"Linear\", \"kargs\": {\"in_features\": 16000, \"out_features\": 256}},\n",
    "        {\"class\": \"ReLU\", \"kargs\": {\"inplace\": True}},\n",
    "        {\"class\": \"BatchNorm1d\", \"kargs\": {\"num_features\": 256}},\n",
    "        {\"class\": \"Linear\", \"kargs\": {\"in_features\": 256, \"out_features\": 256}},\n",
    "    ],\n",
    "    \"NUM_LOGS_PER_EPOCH\": 10,\n",
    "    \"BEST_MODEL_PATH\": \"./best_model.pth\",\n",
    "    \"n_way\": 16,\n",
    "    \"datasets\": [\n",
    "        {\n",
    "            \"labels\": [\n",
    "                \"1-10.\",\n",
    "                \"1-11.\",\n",
    "                \"1-15.\",\n",
    "                \"1-16.\",\n",
    "                \"1-17.\",\n",
    "                \"1-18.\",\n",
    "                \"1-19.\",\n",
    "                \"10-4.\",\n",
    "                \"10-7.\",\n",
    "                \"11-1.\",\n",
    "                \"11-14.\",\n",
    "                \"11-17.\",\n",
    "                \"11-20.\",\n",
    "                \"11-7.\",\n",
    "                \"13-20.\",\n",
    "                \"13-8.\",\n",
    "                \"14-10.\",\n",
    "                \"14-11.\",\n",
    "                \"14-14.\",\n",
    "                \"14-7.\",\n",
    "                \"15-1.\",\n",
    "                \"15-20.\",\n",
    "                \"16-1.\",\n",
    "                \"16-16.\",\n",
    "                \"17-10.\",\n",
    "                \"17-11.\",\n",
    "                \"17-2.\",\n",
    "                \"19-1.\",\n",
    "                \"19-16.\",\n",
    "                \"19-19.\",\n",
    "                \"19-20.\",\n",
    "                \"19-3.\",\n",
    "                \"2-10.\",\n",
    "                \"2-11.\",\n",
    "                \"2-17.\",\n",
    "                \"2-18.\",\n",
    "                \"2-20.\",\n",
    "                \"2-3.\",\n",
    "                \"2-4.\",\n",
    "                \"2-5.\",\n",
    "                \"2-6.\",\n",
    "                \"2-7.\",\n",
    "                \"2-8.\",\n",
    "                \"3-13.\",\n",
    "                \"3-18.\",\n",
    "                \"3-3.\",\n",
    "                \"4-1.\",\n",
    "                \"4-10.\",\n",
    "                \"4-11.\",\n",
    "                \"4-19.\",\n",
    "                \"5-5.\",\n",
    "                \"6-15.\",\n",
    "                \"7-10.\",\n",
    "                \"7-14.\",\n",
    "                \"8-18.\",\n",
    "                \"8-20.\",\n",
    "                \"8-3.\",\n",
    "                \"8-8.\",\n",
    "            ],\n",
    "            \"domains\": [1, 2, 3, 4, 5],\n",
    "            \"num_examples_per_domain_per_label\": 100,\n",
    "            \"pickle_path\": \"/mnt/wd500GB/CSC500/csc500-main/datasets/cores.stratified_ds.2022A.pkl\",\n",
    "            \"source_or_target_dataset\": \"source\",\n",
    "            \"x_transforms\": [\"unit_power\", \"take_200\"],\n",
    "            \"episode_transforms\": [],\n",
    "            \"domain_prefix\": \"C_A_\",\n",
    "        },\n",
    "        {\n",
    "            \"labels\": [\n",
    "                \"1-10\",\n",
    "                \"1-12\",\n",
    "                \"1-14\",\n",
    "                \"1-16\",\n",
    "                \"1-18\",\n",
    "                \"1-19\",\n",
    "                \"1-8\",\n",
    "                \"10-11\",\n",
    "                \"10-17\",\n",
    "                \"10-4\",\n",
    "                \"10-7\",\n",
    "                \"11-1\",\n",
    "                \"11-10\",\n",
    "                \"11-19\",\n",
    "                \"11-20\",\n",
    "                \"11-4\",\n",
    "                \"11-7\",\n",
    "                \"12-19\",\n",
    "                \"12-20\",\n",
    "                \"12-7\",\n",
    "                \"13-14\",\n",
    "                \"13-18\",\n",
    "                \"13-19\",\n",
    "                \"13-20\",\n",
    "                \"13-3\",\n",
    "                \"13-7\",\n",
    "                \"14-10\",\n",
    "                \"14-11\",\n",
    "                \"14-12\",\n",
    "                \"14-13\",\n",
    "                \"14-14\",\n",
    "                \"14-19\",\n",
    "                \"14-20\",\n",
    "                \"14-7\",\n",
    "                \"14-8\",\n",
    "                \"14-9\",\n",
    "                \"15-1\",\n",
    "                \"15-19\",\n",
    "                \"15-6\",\n",
    "                \"16-1\",\n",
    "                \"16-16\",\n",
    "                \"16-19\",\n",
    "                \"16-20\",\n",
    "                \"17-10\",\n",
    "                \"17-11\",\n",
    "                \"18-1\",\n",
    "                \"18-10\",\n",
    "                \"18-11\",\n",
    "                \"18-12\",\n",
    "                \"18-13\",\n",
    "                \"18-14\",\n",
    "                \"18-15\",\n",
    "                \"18-16\",\n",
    "                \"18-17\",\n",
    "                \"18-19\",\n",
    "                \"18-2\",\n",
    "                \"18-20\",\n",
    "                \"18-4\",\n",
    "                \"18-5\",\n",
    "                \"18-7\",\n",
    "                \"18-8\",\n",
    "                \"18-9\",\n",
    "                \"19-1\",\n",
    "                \"19-10\",\n",
    "                \"19-11\",\n",
    "                \"19-12\",\n",
    "                \"19-13\",\n",
    "                \"19-14\",\n",
    "                \"19-15\",\n",
    "                \"19-19\",\n",
    "                \"19-2\",\n",
    "                \"19-20\",\n",
    "                \"19-3\",\n",
    "                \"19-4\",\n",
    "                \"19-6\",\n",
    "                \"19-7\",\n",
    "                \"19-8\",\n",
    "                \"19-9\",\n",
    "                \"2-1\",\n",
    "                \"2-13\",\n",
    "                \"2-15\",\n",
    "                \"2-3\",\n",
    "                \"2-4\",\n",
    "                \"2-5\",\n",
    "                \"2-6\",\n",
    "                \"2-7\",\n",
    "                \"2-8\",\n",
    "                \"20-1\",\n",
    "                \"20-12\",\n",
    "                \"20-14\",\n",
    "                \"20-15\",\n",
    "                \"20-16\",\n",
    "                \"20-18\",\n",
    "                \"20-19\",\n",
    "                \"20-20\",\n",
    "                \"20-3\",\n",
    "                \"20-4\",\n",
    "                \"20-5\",\n",
    "                \"20-7\",\n",
    "                \"20-8\",\n",
    "                \"3-1\",\n",
    "                \"3-13\",\n",
    "                \"3-18\",\n",
    "                \"3-2\",\n",
    "                \"3-8\",\n",
    "                \"4-1\",\n",
    "                \"4-10\",\n",
    "                \"4-11\",\n",
    "                \"5-1\",\n",
    "                \"5-5\",\n",
    "                \"6-1\",\n",
    "                \"6-15\",\n",
    "                \"6-6\",\n",
    "                \"7-10\",\n",
    "                \"7-11\",\n",
    "                \"7-12\",\n",
    "                \"7-13\",\n",
    "                \"7-14\",\n",
    "                \"7-7\",\n",
    "                \"7-8\",\n",
    "                \"7-9\",\n",
    "                \"8-1\",\n",
    "                \"8-13\",\n",
    "                \"8-14\",\n",
    "                \"8-18\",\n",
    "                \"8-20\",\n",
    "                \"8-3\",\n",
    "                \"8-8\",\n",
    "                \"9-1\",\n",
    "                \"9-7\",\n",
    "            ],\n",
    "            \"domains\": [1, 2, 3, 4],\n",
    "            \"num_examples_per_domain_per_label\": 100,\n",
    "            \"pickle_path\": \"/mnt/wd500GB/CSC500/csc500-main/datasets/wisig.node3-19.stratified_ds.2022A.pkl\",\n",
    "            \"source_or_target_dataset\": \"source\",\n",
    "            \"x_transforms\": [\"unit_power\", \"take_200\"],\n",
    "            \"episode_transforms\": [],\n",
    "            \"domain_prefix\": \"W_A_\",\n",
    "        },\n",
    "        {\n",
    "            \"labels\": [\n",
    "                \"3123D52\",\n",
    "                \"3123D65\",\n",
    "                \"3123D79\",\n",
    "                \"3123D80\",\n",
    "                \"3123D54\",\n",
    "                \"3123D70\",\n",
    "                \"3123D7B\",\n",
    "                \"3123D89\",\n",
    "                \"3123D58\",\n",
    "                \"3123D76\",\n",
    "                \"3123D7D\",\n",
    "                \"3123EFE\",\n",
    "                \"3123D64\",\n",
    "                \"3123D78\",\n",
    "                \"3123D7E\",\n",
    "                \"3124E4A\",\n",
    "            ],\n",
    "            \"domains\": [32, 38, 8, 44, 14, 50, 20, 26],\n",
    "            \"num_examples_per_domain_per_label\": 2000,\n",
    "            \"pickle_path\": \"/mnt/wd500GB/CSC500/csc500-main/datasets/oracle.Run1_framed_2000Examples_stratified_ds.2022A.pkl\",\n",
    "            \"source_or_target_dataset\": \"target\",\n",
    "            \"x_transforms\": [\"unit_power\", \"take_200\", \"resample_20Msps_to_25Msps\"],\n",
    "            \"episode_transforms\": [],\n",
    "            \"domain_prefix\": \"ORACLE.run1_\",\n",
    "        },\n",
    "    ],\n",
    "    \"seed\": 500,\n",
    "    \"dataset_seed\": 500,\n",
    "}\n"
   ]
  },
  {
   "cell_type": "code",
   "execution_count": 5,
   "id": "8fa1cc33",
   "metadata": {
    "execution": {
     "iopub.execute_input": "2022-03-18T23:14:28.185585Z",
     "iopub.status.busy": "2022-03-18T23:14:28.183883Z",
     "iopub.status.idle": "2022-03-18T23:14:28.197587Z",
     "shell.execute_reply": "2022-03-18T23:14:28.197168Z"
    },
    "papermill": {
     "duration": 0.027623,
     "end_time": "2022-03-18T23:14:28.197685",
     "exception": false,
     "start_time": "2022-03-18T23:14:28.170062",
     "status": "completed"
    },
    "tags": []
   },
   "outputs": [],
   "source": [
    "# Set this to True if you want to run this template directly\n",
    "STANDALONE = False\n",
    "if STANDALONE:\n",
    "    print(\"parameters not injected, running with standalone_parameters\")\n",
    "    parameters = standalone_parameters\n",
    "\n",
    "if not 'parameters' in locals() and not 'parameters' in globals():\n",
    "    raise Exception(\"Parameter injection failed\")\n",
    "\n",
    "#Use an easy dict for all the parameters\n",
    "p = EasyDict(parameters)\n",
    "\n",
    "if \"x_shape\" not in p:\n",
    "    p.x_shape = [2,256] # Default to this if we dont supply x_shape\n",
    "\n",
    "\n",
    "supplied_keys = set(p.keys())\n",
    "\n",
    "if  supplied_keys != required_parameters:\n",
    "    print(\"Parameters are incorrect\")\n",
    "    if len(supplied_keys - required_parameters)>0: print(\"Shouldn't have:\", str(supplied_keys - required_parameters))\n",
    "    if len(required_parameters - supplied_keys)>0: print(\"Need to have:\", str(required_parameters - supplied_keys))\n",
    "    raise RuntimeError(\"Parameters are incorrect\")"
   ]
  },
  {
   "cell_type": "code",
   "execution_count": 6,
   "id": "3a028d58",
   "metadata": {
    "execution": {
     "iopub.execute_input": "2022-03-18T23:14:28.231602Z",
     "iopub.status.busy": "2022-03-18T23:14:28.231345Z",
     "iopub.status.idle": "2022-03-18T23:14:28.247001Z",
     "shell.execute_reply": "2022-03-18T23:14:28.246535Z"
    },
    "papermill": {
     "duration": 0.031188,
     "end_time": "2022-03-18T23:14:28.247099",
     "exception": false,
     "start_time": "2022-03-18T23:14:28.215911",
     "status": "completed"
    },
    "tags": []
   },
   "outputs": [],
   "source": [
    "###################################\n",
    "# Set the RNGs and make it all deterministic\n",
    "###################################\n",
    "np.random.seed(p.seed)\n",
    "random.seed(p.seed)\n",
    "torch.manual_seed(p.seed)\n",
    "\n",
    "torch.use_deterministic_algorithms(True) "
   ]
  },
  {
   "cell_type": "code",
   "execution_count": 7,
   "id": "b691acf6",
   "metadata": {
    "execution": {
     "iopub.execute_input": "2022-03-18T23:14:28.284012Z",
     "iopub.status.busy": "2022-03-18T23:14:28.282460Z",
     "iopub.status.idle": "2022-03-18T23:14:28.298025Z",
     "shell.execute_reply": "2022-03-18T23:14:28.297587Z"
    },
    "papermill": {
     "duration": 0.031741,
     "end_time": "2022-03-18T23:14:28.298122",
     "exception": false,
     "start_time": "2022-03-18T23:14:28.266381",
     "status": "completed"
    },
    "tags": []
   },
   "outputs": [],
   "source": [
    "###########################################\n",
    "# The stratified datasets honor this\n",
    "###########################################\n",
    "torch.set_default_dtype(eval(p.torch_default_dtype))"
   ]
  },
  {
   "cell_type": "code",
   "execution_count": 8,
   "id": "b5fba671",
   "metadata": {
    "execution": {
     "iopub.execute_input": "2022-03-18T23:14:28.330863Z",
     "iopub.status.busy": "2022-03-18T23:14:28.330612Z",
     "iopub.status.idle": "2022-03-18T23:14:28.362661Z",
     "shell.execute_reply": "2022-03-18T23:14:28.362156Z"
    },
    "papermill": {
     "duration": 0.046499,
     "end_time": "2022-03-18T23:14:28.362769",
     "exception": false,
     "start_time": "2022-03-18T23:14:28.316270",
     "status": "completed"
    },
    "tags": []
   },
   "outputs": [],
   "source": [
    "###################################\n",
    "# Build the network(s)\n",
    "# Note: It's critical to do this AFTER setting the RNG\n",
    "###################################\n",
    "x_net = build_sequential(p.x_net)"
   ]
  },
  {
   "cell_type": "code",
   "execution_count": 9,
   "id": "5d7e61cc",
   "metadata": {
    "execution": {
     "iopub.execute_input": "2022-03-18T23:14:28.395879Z",
     "iopub.status.busy": "2022-03-18T23:14:28.395532Z",
     "iopub.status.idle": "2022-03-18T23:14:28.410472Z",
     "shell.execute_reply": "2022-03-18T23:14:28.410113Z"
    },
    "papermill": {
     "duration": 0.030012,
     "end_time": "2022-03-18T23:14:28.410546",
     "exception": false,
     "start_time": "2022-03-18T23:14:28.380534",
     "status": "completed"
    },
    "tags": []
   },
   "outputs": [],
   "source": [
    "start_time_secs = time.time()"
   ]
  },
  {
   "cell_type": "code",
   "execution_count": 10,
   "id": "c6b67dfd",
   "metadata": {
    "execution": {
     "iopub.execute_input": "2022-03-18T23:14:28.444426Z",
     "iopub.status.busy": "2022-03-18T23:14:28.444003Z",
     "iopub.status.idle": "2022-03-18T23:14:28.459115Z",
     "shell.execute_reply": "2022-03-18T23:14:28.458669Z"
    },
    "papermill": {
     "duration": 0.030992,
     "end_time": "2022-03-18T23:14:28.459214",
     "exception": false,
     "start_time": "2022-03-18T23:14:28.428222",
     "status": "completed"
    },
    "tags": []
   },
   "outputs": [],
   "source": [
    "p.domains_source = []\n",
    "p.domains_target = []\n",
    "\n",
    "\n",
    "train_original_source = []\n",
    "val_original_source   = []\n",
    "test_original_source  = []\n",
    "\n",
    "train_original_target = []\n",
    "val_original_target   = []\n",
    "test_original_target  = []"
   ]
  },
  {
   "cell_type": "code",
   "execution_count": 11,
   "id": "e3d9c3d3",
   "metadata": {
    "execution": {
     "iopub.execute_input": "2022-03-18T23:14:28.493534Z",
     "iopub.status.busy": "2022-03-18T23:14:28.493287Z",
     "iopub.status.idle": "2022-03-18T23:14:28.504366Z",
     "shell.execute_reply": "2022-03-18T23:14:28.504004Z"
    },
    "papermill": {
     "duration": 0.025861,
     "end_time": "2022-03-18T23:14:28.504441",
     "exception": false,
     "start_time": "2022-03-18T23:14:28.478580",
     "status": "completed"
    },
    "tags": []
   },
   "outputs": [],
   "source": [
    "# global_x_transform_func = lambda x: normalize(x.to(torch.get_default_dtype()), \"unit_power\") # unit_power, unit_mag\n",
    "# global_x_transform_func = lambda x: normalize(x, \"unit_power\") # unit_power, unit_mag"
   ]
  },
  {
   "cell_type": "code",
   "execution_count": 12,
   "id": "acb78fd2",
   "metadata": {
    "execution": {
     "iopub.execute_input": "2022-03-18T23:14:28.543678Z",
     "iopub.status.busy": "2022-03-18T23:14:28.543220Z",
     "iopub.status.idle": "2022-03-18T23:14:28.557483Z",
     "shell.execute_reply": "2022-03-18T23:14:28.557004Z"
    },
    "papermill": {
     "duration": 0.034868,
     "end_time": "2022-03-18T23:14:28.557581",
     "exception": false,
     "start_time": "2022-03-18T23:14:28.522713",
     "status": "completed"
    },
    "tags": []
   },
   "outputs": [],
   "source": [
    "def add_dataset(\n",
    "    labels,\n",
    "    domains,\n",
    "    pickle_path,\n",
    "    x_transforms,\n",
    "    episode_transforms,\n",
    "    domain_prefix,\n",
    "    num_examples_per_domain_per_label,\n",
    "    source_or_target_dataset:str,\n",
    "    iterator_seed=p.seed,\n",
    "    dataset_seed=p.dataset_seed,\n",
    "    n_shot=p.n_shot,\n",
    "    n_way=p.n_way,\n",
    "    n_query=p.n_query,\n",
    "    train_val_test_k_factors=(p.train_k_factor,p.val_k_factor,p.test_k_factor),\n",
    "):\n",
    "   \n",
    "    if x_transforms == []: x_transform = None\n",
    "    else: x_transform = get_chained_transform(x_transforms)\n",
    "    \n",
    "    if episode_transforms == []: episode_transform = None\n",
    "    else: raise Exception(\"episode_transforms not implemented\")\n",
    "    \n",
    "    episode_transform = lambda tup, _prefix=domain_prefix: (_prefix + str(tup[0]), tup[1])\n",
    "\n",
    "\n",
    "    eaf = Episodic_Accessor_Factory(\n",
    "        labels=labels,\n",
    "        domains=domains,\n",
    "        num_examples_per_domain_per_label=num_examples_per_domain_per_label,\n",
    "        iterator_seed=iterator_seed,\n",
    "        dataset_seed=dataset_seed,\n",
    "        n_shot=n_shot,\n",
    "        n_way=n_way,\n",
    "        n_query=n_query,\n",
    "        train_val_test_k_factors=train_val_test_k_factors,\n",
    "        pickle_path=pickle_path,\n",
    "        x_transform_func=x_transform,\n",
    "    )\n",
    "\n",
    "    train, val, test = eaf.get_train(), eaf.get_val(), eaf.get_test()\n",
    "    train = Lazy_Iterable_Wrapper(train, episode_transform)\n",
    "    val = Lazy_Iterable_Wrapper(val, episode_transform)\n",
    "    test = Lazy_Iterable_Wrapper(test, episode_transform)\n",
    "\n",
    "    if source_or_target_dataset==\"source\":\n",
    "        train_original_source.append(train)\n",
    "        val_original_source.append(val)\n",
    "        test_original_source.append(test)\n",
    "\n",
    "        p.domains_source.extend(\n",
    "            [domain_prefix + str(u) for u in domains]\n",
    "        )\n",
    "    elif source_or_target_dataset==\"target\":\n",
    "        train_original_target.append(train)\n",
    "        val_original_target.append(val)\n",
    "        test_original_target.append(test)\n",
    "        p.domains_target.extend(\n",
    "            [domain_prefix + str(u) for u in domains]\n",
    "        )\n",
    "    else:\n",
    "        raise Exception(f\"invalid source_or_target_dataset: {source_or_target_dataset}\")\n",
    "    "
   ]
  },
  {
   "cell_type": "code",
   "execution_count": 13,
   "id": "fe266617",
   "metadata": {
    "execution": {
     "iopub.execute_input": "2022-03-18T23:14:28.594168Z",
     "iopub.status.busy": "2022-03-18T23:14:28.590095Z",
     "iopub.status.idle": "2022-03-18T23:15:07.218702Z",
     "shell.execute_reply": "2022-03-18T23:15:07.218255Z"
    },
    "papermill": {
     "duration": 38.644578,
     "end_time": "2022-03-18T23:15:07.218808",
     "exception": false,
     "start_time": "2022-03-18T23:14:28.574230",
     "status": "completed"
    },
    "tags": []
   },
   "outputs": [],
   "source": [
    "for ds in p.datasets:\n",
    "    add_dataset(**ds)"
   ]
  },
  {
   "cell_type": "code",
   "execution_count": 14,
   "id": "b90d65ac",
   "metadata": {
    "execution": {
     "iopub.execute_input": "2022-03-18T23:15:07.250569Z",
     "iopub.status.busy": "2022-03-18T23:15:07.250228Z",
     "iopub.status.idle": "2022-03-18T23:15:07.266410Z",
     "shell.execute_reply": "2022-03-18T23:15:07.265938Z"
    },
    "papermill": {
     "duration": 0.031703,
     "end_time": "2022-03-18T23:15:07.266509",
     "exception": false,
     "start_time": "2022-03-18T23:15:07.234806",
     "status": "completed"
    },
    "tags": []
   },
   "outputs": [],
   "source": [
    "# from steves_utils.CORES.utils import (\n",
    "#     ALL_NODES,\n",
    "#     ALL_NODES_MINIMUM_1000_EXAMPLES,\n",
    "#     ALL_DAYS\n",
    "# )\n",
    "\n",
    "# add_dataset(\n",
    "#     labels=ALL_NODES,\n",
    "#     domains = ALL_DAYS,\n",
    "#     num_examples_per_domain_per_label=100,\n",
    "#     pickle_path=os.path.join(get_datasets_base_path(), \"cores.stratified_ds.2022A.pkl\"),\n",
    "#     source_or_target_dataset=\"target\",\n",
    "#     x_transform_func=global_x_transform_func,\n",
    "#     domain_modifier=lambda u: f\"cores_{u}\"\n",
    "# )"
   ]
  },
  {
   "cell_type": "code",
   "execution_count": 15,
   "id": "76db484d",
   "metadata": {
    "execution": {
     "iopub.execute_input": "2022-03-18T23:15:07.300595Z",
     "iopub.status.busy": "2022-03-18T23:15:07.300079Z",
     "iopub.status.idle": "2022-03-18T23:15:07.311162Z",
     "shell.execute_reply": "2022-03-18T23:15:07.310734Z"
    },
    "papermill": {
     "duration": 0.02682,
     "end_time": "2022-03-18T23:15:07.311270",
     "exception": false,
     "start_time": "2022-03-18T23:15:07.284450",
     "status": "completed"
    },
    "tags": []
   },
   "outputs": [],
   "source": [
    "# from steves_utils.ORACLE.utils_v2 import (\n",
    "#     ALL_DISTANCES_FEET,\n",
    "#     ALL_RUNS,\n",
    "#     ALL_SERIAL_NUMBERS,\n",
    "# )\n",
    "\n",
    "\n",
    "# add_dataset(\n",
    "#     labels=ALL_SERIAL_NUMBERS,\n",
    "#     domains = list(set(ALL_DISTANCES_FEET) - {2,62}),\n",
    "#     num_examples_per_domain_per_label=100,\n",
    "#     pickle_path=os.path.join(get_datasets_base_path(), \"oracle.Run2_framed_2000Examples_stratified_ds.2022A.pkl\"),\n",
    "#     source_or_target_dataset=\"source\",\n",
    "#     x_transform_func=global_x_transform_func,\n",
    "#     domain_modifier=lambda u: f\"oracle1_{u}\"\n",
    "# )\n"
   ]
  },
  {
   "cell_type": "code",
   "execution_count": 16,
   "id": "97dea9d2",
   "metadata": {
    "execution": {
     "iopub.execute_input": "2022-03-18T23:15:07.345302Z",
     "iopub.status.busy": "2022-03-18T23:15:07.344631Z",
     "iopub.status.idle": "2022-03-18T23:15:07.359213Z",
     "shell.execute_reply": "2022-03-18T23:15:07.358812Z"
    },
    "papermill": {
     "duration": 0.03059,
     "end_time": "2022-03-18T23:15:07.359336",
     "exception": false,
     "start_time": "2022-03-18T23:15:07.328746",
     "status": "completed"
    },
    "tags": []
   },
   "outputs": [],
   "source": [
    "# from steves_utils.ORACLE.utils_v2 import (\n",
    "#     ALL_DISTANCES_FEET,\n",
    "#     ALL_RUNS,\n",
    "#     ALL_SERIAL_NUMBERS,\n",
    "# )\n",
    "\n",
    "\n",
    "# add_dataset(\n",
    "#     labels=ALL_SERIAL_NUMBERS,\n",
    "#     domains = list(set(ALL_DISTANCES_FEET) - {2,62,56}),\n",
    "#     num_examples_per_domain_per_label=100,\n",
    "#     pickle_path=os.path.join(get_datasets_base_path(), \"oracle.Run2_framed_2000Examples_stratified_ds.2022A.pkl\"),\n",
    "#     source_or_target_dataset=\"source\",\n",
    "#     x_transform_func=global_x_transform_func,\n",
    "#     domain_modifier=lambda u: f\"oracle2_{u}\"\n",
    "# )"
   ]
  },
  {
   "cell_type": "code",
   "execution_count": 17,
   "id": "6f289866",
   "metadata": {
    "execution": {
     "iopub.execute_input": "2022-03-18T23:15:07.396635Z",
     "iopub.status.busy": "2022-03-18T23:15:07.394346Z",
     "iopub.status.idle": "2022-03-18T23:15:07.408516Z",
     "shell.execute_reply": "2022-03-18T23:15:07.408106Z"
    },
    "papermill": {
     "duration": 0.029386,
     "end_time": "2022-03-18T23:15:07.408613",
     "exception": false,
     "start_time": "2022-03-18T23:15:07.379227",
     "status": "completed"
    },
    "tags": []
   },
   "outputs": [],
   "source": [
    "# add_dataset(\n",
    "#     labels=list(range(19)),\n",
    "#     domains = [0,1,2],\n",
    "#     num_examples_per_domain_per_label=100,\n",
    "#     pickle_path=os.path.join(get_datasets_base_path(), \"metehan.stratified_ds.2022A.pkl\"),\n",
    "#     source_or_target_dataset=\"target\",\n",
    "#     x_transform_func=global_x_transform_func,\n",
    "#     domain_modifier=lambda u: f\"met_{u}\"\n",
    "# )"
   ]
  },
  {
   "cell_type": "code",
   "execution_count": 18,
   "id": "86a863c3",
   "metadata": {
    "execution": {
     "iopub.execute_input": "2022-03-18T23:15:07.445385Z",
     "iopub.status.busy": "2022-03-18T23:15:07.444078Z",
     "iopub.status.idle": "2022-03-18T23:15:07.459510Z",
     "shell.execute_reply": "2022-03-18T23:15:07.459077Z"
    },
    "papermill": {
     "duration": 0.031449,
     "end_time": "2022-03-18T23:15:07.459607",
     "exception": false,
     "start_time": "2022-03-18T23:15:07.428158",
     "status": "completed"
    },
    "tags": []
   },
   "outputs": [],
   "source": [
    "# # from steves_utils.wisig.utils import (\n",
    "# #     ALL_NODES_MINIMUM_100_EXAMPLES,\n",
    "# #     ALL_NODES_MINIMUM_500_EXAMPLES,\n",
    "# #     ALL_NODES_MINIMUM_1000_EXAMPLES,\n",
    "# #     ALL_DAYS\n",
    "# # )\n",
    "\n",
    "# import steves_utils.wisig.utils as wisig\n",
    "\n",
    "\n",
    "# add_dataset(\n",
    "#     labels=wisig.ALL_NODES_MINIMUM_100_EXAMPLES,\n",
    "#     domains = wisig.ALL_DAYS,\n",
    "#     num_examples_per_domain_per_label=100,\n",
    "#     pickle_path=os.path.join(get_datasets_base_path(), \"wisig.node3-19.stratified_ds.2022A.pkl\"),\n",
    "#     source_or_target_dataset=\"target\",\n",
    "#     x_transform_func=global_x_transform_func,\n",
    "#     domain_modifier=lambda u: f\"wisig_{u}\"\n",
    "# )"
   ]
  },
  {
   "cell_type": "code",
   "execution_count": 19,
   "id": "fd5442bc",
   "metadata": {
    "execution": {
     "iopub.execute_input": "2022-03-18T23:15:07.499380Z",
     "iopub.status.busy": "2022-03-18T23:15:07.498305Z",
     "iopub.status.idle": "2022-03-18T23:15:07.513545Z",
     "shell.execute_reply": "2022-03-18T23:15:07.513072Z"
    },
    "papermill": {
     "duration": 0.034233,
     "end_time": "2022-03-18T23:15:07.513643",
     "exception": false,
     "start_time": "2022-03-18T23:15:07.479410",
     "status": "completed"
    },
    "tags": []
   },
   "outputs": [],
   "source": [
    "###################################\n",
    "# Build the dataset\n",
    "###################################\n",
    "train_original_source = Iterable_Aggregator(train_original_source, p.seed)\n",
    "val_original_source = Iterable_Aggregator(val_original_source, p.seed)\n",
    "test_original_source = Iterable_Aggregator(test_original_source, p.seed)\n",
    "\n",
    "\n",
    "train_original_target = Iterable_Aggregator(train_original_target, p.seed)\n",
    "val_original_target = Iterable_Aggregator(val_original_target, p.seed)\n",
    "test_original_target = Iterable_Aggregator(test_original_target, p.seed)\n",
    "\n",
    "# For CNN We only use X and Y. And we only train on the source.\n",
    "# Properly form the data using a transform lambda and Lazy_Iterable_Wrapper. Finally wrap them in a dataloader\n",
    "\n",
    "transform_lambda = lambda ex: ex[1] # Original is (<domain>, <episode>) so we strip down to episode only\n",
    "\n",
    "train_processed_source = Lazy_Iterable_Wrapper(train_original_source, transform_lambda)\n",
    "val_processed_source   = Lazy_Iterable_Wrapper(val_original_source, transform_lambda)\n",
    "test_processed_source  = Lazy_Iterable_Wrapper(test_original_source, transform_lambda)\n",
    "\n",
    "train_processed_target = Lazy_Iterable_Wrapper(train_original_target, transform_lambda)\n",
    "val_processed_target   = Lazy_Iterable_Wrapper(val_original_target, transform_lambda)\n",
    "test_processed_target  = Lazy_Iterable_Wrapper(test_original_target, transform_lambda)\n",
    "\n",
    "datasets = EasyDict({\n",
    "    \"source\": {\n",
    "        \"original\": {\"train\":train_original_source, \"val\":val_original_source, \"test\":test_original_source},\n",
    "        \"processed\": {\"train\":train_processed_source, \"val\":val_processed_source, \"test\":test_processed_source}\n",
    "    },\n",
    "    \"target\": {\n",
    "        \"original\": {\"train\":train_original_target, \"val\":val_original_target, \"test\":test_original_target},\n",
    "        \"processed\": {\"train\":train_processed_target, \"val\":val_processed_target, \"test\":test_processed_target}\n",
    "    },\n",
    "})"
   ]
  },
  {
   "cell_type": "code",
   "execution_count": 20,
   "id": "5b3c01fc",
   "metadata": {
    "execution": {
     "iopub.execute_input": "2022-03-18T23:15:07.550981Z",
     "iopub.status.busy": "2022-03-18T23:15:07.550074Z",
     "iopub.status.idle": "2022-03-18T23:15:12.291209Z",
     "shell.execute_reply": "2022-03-18T23:15:12.291724Z"
    },
    "papermill": {
     "duration": 4.759042,
     "end_time": "2022-03-18T23:15:12.291872",
     "exception": false,
     "start_time": "2022-03-18T23:15:07.532830",
     "status": "completed"
    },
    "tags": []
   },
   "outputs": [
    {
     "name": "stdout",
     "output_type": "stream",
     "text": [
      "{'W_A_1', 'W_A_4', 'C_A_5', 'C_A_3', 'C_A_2', 'C_A_4', 'C_A_1', 'W_A_2', 'W_A_3'}\n"
     ]
    },
    {
     "name": "stdout",
     "output_type": "stream",
     "text": [
      "{'ORACLE.run1_20', 'ORACLE.run1_50', 'ORACLE.run1_26', 'ORACLE.run1_32', 'ORACLE.run1_8', 'ORACLE.run1_14', 'ORACLE.run1_38', 'ORACLE.run1_44'}\n"
     ]
    },
    {
     "name": "stdout",
     "output_type": "stream",
     "text": [
      "tensor([[[ 0.9259, -0.2655, -0.0161,  ..., -0.3155, -0.3338,  1.3064],\n",
      "         [ 0.7815,  0.6465,  0.0983,  ..., -0.2166, -1.2792, -1.1997]],\n",
      "\n",
      "        [[-0.0487,  0.7344,  0.9205,  ..., -0.0564, -0.1943, -0.0274],\n",
      "         [-0.5615, -0.5659,  0.1286,  ...,  1.0244,  1.0770,  1.1388]],\n",
      "\n",
      "        [[ 1.2491,  0.5065, -0.1829,  ..., -1.8914, -1.4778, -0.7699],\n",
      "         [ 0.1229,  0.3290, -0.1024,  ..., -0.1631, -0.7078, -0.5358]],\n",
      "\n",
      "        ...,\n",
      "\n",
      "        [[ 0.2485, -0.6233, -0.6118,  ...,  1.1267, -0.1185, -0.8629],\n",
      "         [ 0.1835,  0.7698, -0.7278,  ...,  0.9903,  0.9725, -0.4193]],\n",
      "\n",
      "        [[ 0.3209,  0.8500, -0.6974,  ...,  0.5497,  0.8500, -0.4189],\n",
      "         [-0.4274,  0.6841,  0.4904,  ..., -1.2652,  0.1090,  0.9553]],\n",
      "\n",
      "        [[ 0.2891, -0.5569, -0.7710,  ...,  1.1727, -0.1289, -0.9199],\n",
      "         [ 0.1790,  0.8736, -0.5895,  ...,  0.8248,  0.8085, -0.3079]]])\n"
     ]
    }
   ],
   "source": [
    "from steves_utils.transforms import get_average_magnitude, get_average_power\n",
    "\n",
    "print(set([u for u,_ in val_original_source]))\n",
    "print(set([u for u,_ in val_original_target]))\n",
    "\n",
    "s_x, s_y, q_x, q_y, _ = next(iter(train_processed_source))\n",
    "print(s_x)\n",
    "\n",
    "# for ds in [\n",
    "#     train_processed_source,\n",
    "#     val_processed_source,\n",
    "#     test_processed_source,\n",
    "#     train_processed_target,\n",
    "#     val_processed_target,\n",
    "#     test_processed_target\n",
    "# ]:\n",
    "#     for s_x, s_y, q_x, q_y, _ in ds:\n",
    "#         for X in (s_x, q_x):\n",
    "#             for x in X:\n",
    "#                 assert np.isclose(get_average_magnitude(x.numpy()), 1.0)\n",
    "#                 assert np.isclose(get_average_power(x.numpy()), 1.0)\n",
    "                "
   ]
  },
  {
   "cell_type": "code",
   "execution_count": 21,
   "id": "bbdacba1",
   "metadata": {
    "execution": {
     "iopub.execute_input": "2022-03-18T23:15:12.332804Z",
     "iopub.status.busy": "2022-03-18T23:15:12.332532Z",
     "iopub.status.idle": "2022-03-18T23:15:12.384668Z",
     "shell.execute_reply": "2022-03-18T23:15:12.384165Z"
    },
    "papermill": {
     "duration": 0.070833,
     "end_time": "2022-03-18T23:15:12.384775",
     "exception": false,
     "start_time": "2022-03-18T23:15:12.313942",
     "status": "completed"
    },
    "tags": []
   },
   "outputs": [
    {
     "name": "stdout",
     "output_type": "stream",
     "text": [
      "(2, 200)\n"
     ]
    }
   ],
   "source": [
    "###################################\n",
    "# Build the model\n",
    "###################################\n",
    "# easfsl only wants a tuple for the shape\n",
    "model = Steves_Prototypical_Network(x_net, device=p.device, x_shape=tuple(p.x_shape))\n",
    "optimizer = Adam(params=model.parameters(), lr=p.lr)"
   ]
  },
  {
   "cell_type": "code",
   "execution_count": 22,
   "id": "22b39ac5",
   "metadata": {
    "execution": {
     "iopub.execute_input": "2022-03-18T23:15:12.419070Z",
     "iopub.status.busy": "2022-03-18T23:15:12.418724Z",
     "iopub.status.idle": "2022-03-18T23:19:49.303375Z",
     "shell.execute_reply": "2022-03-18T23:19:49.302966Z"
    },
    "papermill": {
     "duration": 276.902057,
     "end_time": "2022-03-18T23:19:49.303480",
     "exception": false,
     "start_time": "2022-03-18T23:15:12.401423",
     "status": "completed"
    },
    "tags": []
   },
   "outputs": [
    {
     "name": "stdout",
     "output_type": "stream",
     "text": [
      "epoch: 1, [batch: 1 / 2077], examples_per_second: 124.7940, train_label_loss: 2.7328, \n"
     ]
    },
    {
     "name": "stdout",
     "output_type": "stream",
     "text": [
      "epoch: 1, [batch: 208 / 2077], examples_per_second: 3600.9458, train_label_loss: 0.0237, \n"
     ]
    },
    {
     "name": "stdout",
     "output_type": "stream",
     "text": [
      "epoch: 1, [batch: 416 / 2077], examples_per_second: 3645.0536, train_label_loss: 1.1200, \n"
     ]
    },
    {
     "name": "stdout",
     "output_type": "stream",
     "text": [
      "epoch: 1, [batch: 623 / 2077], examples_per_second: 3628.2236, train_label_loss: 0.3832, \n"
     ]
    },
    {
     "name": "stdout",
     "output_type": "stream",
     "text": [
      "epoch: 1, [batch: 831 / 2077], examples_per_second: 3666.6160, train_label_loss: 0.1969, \n"
     ]
    },
    {
     "name": "stdout",
     "output_type": "stream",
     "text": [
      "epoch: 1, [batch: 1039 / 2077], examples_per_second: 3645.8950, train_label_loss: 0.0379, \n"
     ]
    },
    {
     "name": "stdout",
     "output_type": "stream",
     "text": [
      "epoch: 1, [batch: 1246 / 2077], examples_per_second: 3683.9972, train_label_loss: 0.3430, \n"
     ]
    },
    {
     "name": "stdout",
     "output_type": "stream",
     "text": [
      "epoch: 1, [batch: 1454 / 2077], examples_per_second: 3616.7180, train_label_loss: 0.7140, \n"
     ]
    },
    {
     "name": "stdout",
     "output_type": "stream",
     "text": [
      "epoch: 1, [batch: 1661 / 2077], examples_per_second: 3659.2591, train_label_loss: 0.3931, \n"
     ]
    },
    {
     "name": "stdout",
     "output_type": "stream",
     "text": [
      "epoch: 1, [batch: 1869 / 2077], examples_per_second: 3670.8991, train_label_loss: 0.1548, \n"
     ]
    },
    {
     "name": "stdout",
     "output_type": "stream",
     "text": [
      "=============================================================\n",
      "epoch: 1, source_val_acc_label: 0.9425, target_val_acc_label: 0.1684, source_val_label_loss: 0.2571, target_val_label_loss: 2.5804, \n",
      "=============================================================\n"
     ]
    },
    {
     "name": "stdout",
     "output_type": "stream",
     "text": [
      "New best\n"
     ]
    },
    {
     "name": "stdout",
     "output_type": "stream",
     "text": [
      "epoch: 2, [batch: 1 / 2078], examples_per_second: 11.2568, train_label_loss: 0.0872, \n"
     ]
    },
    {
     "name": "stdout",
     "output_type": "stream",
     "text": [
      "epoch: 2, [batch: 208 / 2078], examples_per_second: 3634.7266, train_label_loss: 0.0662, \n"
     ]
    },
    {
     "name": "stdout",
     "output_type": "stream",
     "text": [
      "epoch: 2, [batch: 416 / 2078], examples_per_second: 3649.6822, train_label_loss: 0.2149, \n"
     ]
    },
    {
     "name": "stdout",
     "output_type": "stream",
     "text": [
      "epoch: 2, [batch: 624 / 2078], examples_per_second: 3644.9346, train_label_loss: 0.0346, \n"
     ]
    },
    {
     "name": "stdout",
     "output_type": "stream",
     "text": [
      "epoch: 2, [batch: 831 / 2078], examples_per_second: 3631.4026, train_label_loss: 0.0156, \n"
     ]
    },
    {
     "name": "stdout",
     "output_type": "stream",
     "text": [
      "epoch: 2, [batch: 1039 / 2078], examples_per_second: 3626.5792, train_label_loss: 0.0479, \n"
     ]
    },
    {
     "name": "stdout",
     "output_type": "stream",
     "text": [
      "epoch: 2, [batch: 1247 / 2078], examples_per_second: 3650.2989, train_label_loss: 0.2759, \n"
     ]
    },
    {
     "name": "stdout",
     "output_type": "stream",
     "text": [
      "epoch: 2, [batch: 1454 / 2078], examples_per_second: 3640.7116, train_label_loss: 0.0011, \n"
     ]
    },
    {
     "name": "stdout",
     "output_type": "stream",
     "text": [
      "epoch: 2, [batch: 1662 / 2078], examples_per_second: 3601.5356, train_label_loss: 0.2575, \n"
     ]
    },
    {
     "name": "stdout",
     "output_type": "stream",
     "text": [
      "epoch: 2, [batch: 1870 / 2078], examples_per_second: 3640.7028, train_label_loss: 0.1901, \n"
     ]
    },
    {
     "name": "stdout",
     "output_type": "stream",
     "text": [
      "=============================================================\n",
      "epoch: 2, source_val_acc_label: 0.9583, target_val_acc_label: 0.1888, source_val_label_loss: 0.1901, target_val_label_loss: 2.5845, \n",
      "=============================================================\n"
     ]
    },
    {
     "name": "stdout",
     "output_type": "stream",
     "text": [
      "epoch: 3, [batch: 1 / 2078], examples_per_second: 11.2154, train_label_loss: 0.0212, \n"
     ]
    },
    {
     "name": "stdout",
     "output_type": "stream",
     "text": [
      "epoch: 3, [batch: 208 / 2078], examples_per_second: 3657.9471, train_label_loss: 0.7421, \n"
     ]
    },
    {
     "name": "stdout",
     "output_type": "stream",
     "text": [
      "epoch: 3, [batch: 416 / 2078], examples_per_second: 3672.4382, train_label_loss: 0.0060, \n"
     ]
    },
    {
     "name": "stdout",
     "output_type": "stream",
     "text": [
      "epoch: 3, [batch: 624 / 2078], examples_per_second: 3653.1565, train_label_loss: 0.0016, \n"
     ]
    },
    {
     "name": "stdout",
     "output_type": "stream",
     "text": [
      "epoch: 3, [batch: 831 / 2078], examples_per_second: 3659.9797, train_label_loss: 0.0020, \n"
     ]
    },
    {
     "name": "stdout",
     "output_type": "stream",
     "text": [
      "epoch: 3, [batch: 1039 / 2078], examples_per_second: 3628.4580, train_label_loss: 0.6114, \n"
     ]
    },
    {
     "name": "stdout",
     "output_type": "stream",
     "text": [
      "epoch: 3, [batch: 1247 / 2078], examples_per_second: 3633.9589, train_label_loss: 0.0283, \n"
     ]
    },
    {
     "name": "stdout",
     "output_type": "stream",
     "text": [
      "epoch: 3, [batch: 1454 / 2078], examples_per_second: 3619.3626, train_label_loss: 0.0099, \n"
     ]
    },
    {
     "name": "stdout",
     "output_type": "stream",
     "text": [
      "epoch: 3, [batch: 1662 / 2078], examples_per_second: 3646.7315, train_label_loss: 0.1643, \n"
     ]
    },
    {
     "name": "stdout",
     "output_type": "stream",
     "text": [
      "epoch: 3, [batch: 1870 / 2078], examples_per_second: 3676.1622, train_label_loss: 0.2513, \n"
     ]
    },
    {
     "name": "stdout",
     "output_type": "stream",
     "text": [
      "=============================================================\n",
      "epoch: 3, source_val_acc_label: 0.9632, target_val_acc_label: 0.1678, source_val_label_loss: 0.1642, target_val_label_loss: 2.6508, \n",
      "=============================================================\n"
     ]
    },
    {
     "name": "stdout",
     "output_type": "stream",
     "text": [
      "epoch: 4, [batch: 1 / 2081], examples_per_second: 11.2865, train_label_loss: 0.0813, \n"
     ]
    },
    {
     "name": "stdout",
     "output_type": "stream",
     "text": [
      "epoch: 4, [batch: 209 / 2081], examples_per_second: 3598.4925, train_label_loss: 0.0391, \n"
     ]
    },
    {
     "name": "stdout",
     "output_type": "stream",
     "text": [
      "epoch: 4, [batch: 417 / 2081], examples_per_second: 3626.5643, train_label_loss: 0.0100, \n"
     ]
    },
    {
     "name": "stdout",
     "output_type": "stream",
     "text": [
      "epoch: 4, [batch: 625 / 2081], examples_per_second: 3631.6845, train_label_loss: 0.0049, \n"
     ]
    },
    {
     "name": "stdout",
     "output_type": "stream",
     "text": [
      "epoch: 4, [batch: 833 / 2081], examples_per_second: 3646.5688, train_label_loss: 0.0782, \n"
     ]
    },
    {
     "name": "stdout",
     "output_type": "stream",
     "text": [
      "epoch: 4, [batch: 1041 / 2081], examples_per_second: 3614.3373, train_label_loss: 0.0431, \n"
     ]
    },
    {
     "name": "stdout",
     "output_type": "stream",
     "text": [
      "epoch: 4, [batch: 1249 / 2081], examples_per_second: 3664.5128, train_label_loss: 0.1033, \n"
     ]
    },
    {
     "name": "stdout",
     "output_type": "stream",
     "text": [
      "epoch: 4, [batch: 1457 / 2081], examples_per_second: 3645.1842, train_label_loss: 0.0245, \n"
     ]
    },
    {
     "name": "stdout",
     "output_type": "stream",
     "text": [
      "epoch: 4, [batch: 1665 / 2081], examples_per_second: 3587.8009, train_label_loss: 0.0372, \n"
     ]
    },
    {
     "name": "stdout",
     "output_type": "stream",
     "text": [
      "epoch: 4, [batch: 1873 / 2081], examples_per_second: 3689.2325, train_label_loss: 0.0035, \n"
     ]
    },
    {
     "name": "stdout",
     "output_type": "stream",
     "text": [
      "=============================================================\n",
      "epoch: 4, source_val_acc_label: 0.9656, target_val_acc_label: 0.1850, source_val_label_loss: 0.1580, target_val_label_loss: 2.6988, \n",
      "=============================================================\n"
     ]
    },
    {
     "name": "stdout",
     "output_type": "stream",
     "text": [
      "epoch: 5, [batch: 1 / 2081], examples_per_second: 11.1765, train_label_loss: 0.0156, \n"
     ]
    },
    {
     "name": "stdout",
     "output_type": "stream",
     "text": [
      "epoch: 5, [batch: 209 / 2081], examples_per_second: 3605.8121, train_label_loss: 0.0054, \n"
     ]
    },
    {
     "name": "stdout",
     "output_type": "stream",
     "text": [
      "epoch: 5, [batch: 417 / 2081], examples_per_second: 3611.5360, train_label_loss: 0.6031, \n"
     ]
    },
    {
     "name": "stdout",
     "output_type": "stream",
     "text": [
      "epoch: 5, [batch: 625 / 2081], examples_per_second: 3649.2778, train_label_loss: 0.0041, \n"
     ]
    },
    {
     "name": "stdout",
     "output_type": "stream",
     "text": [
      "epoch: 5, [batch: 833 / 2081], examples_per_second: 3631.3189, train_label_loss: 0.0052, \n"
     ]
    },
    {
     "name": "stdout",
     "output_type": "stream",
     "text": [
      "epoch: 5, [batch: 1041 / 2081], examples_per_second: 3638.9071, train_label_loss: 0.3053, \n"
     ]
    },
    {
     "name": "stdout",
     "output_type": "stream",
     "text": [
      "epoch: 5, [batch: 1249 / 2081], examples_per_second: 3660.0989, train_label_loss: 0.0137, \n"
     ]
    },
    {
     "name": "stdout",
     "output_type": "stream",
     "text": [
      "epoch: 5, [batch: 1457 / 2081], examples_per_second: 3670.8203, train_label_loss: 0.0012, \n"
     ]
    },
    {
     "name": "stdout",
     "output_type": "stream",
     "text": [
      "epoch: 5, [batch: 1665 / 2081], examples_per_second: 3589.2724, train_label_loss: 0.1897, \n"
     ]
    },
    {
     "name": "stdout",
     "output_type": "stream",
     "text": [
      "epoch: 5, [batch: 1873 / 2081], examples_per_second: 3626.9996, train_label_loss: 0.1037, \n"
     ]
    },
    {
     "name": "stdout",
     "output_type": "stream",
     "text": [
      "=============================================================\n",
      "epoch: 5, source_val_acc_label: 0.9655, target_val_acc_label: 0.1872, source_val_label_loss: 0.1577, target_val_label_loss: 2.5964, \n",
      "=============================================================\n"
     ]
    },
    {
     "name": "stdout",
     "output_type": "stream",
     "text": [
      "Patience (3) exhausted\n"
     ]
    }
   ],
   "source": [
    "###################################\n",
    "# train\n",
    "###################################\n",
    "jig = PTN_Train_Eval_Test_Jig(model, p.BEST_MODEL_PATH, p.device)\n",
    "\n",
    "jig.train(\n",
    "    train_iterable=datasets.source.processed.train,\n",
    "    source_val_iterable=datasets.source.processed.val,\n",
    "    target_val_iterable=datasets.target.processed.val,\n",
    "    num_epochs=p.n_epoch,\n",
    "    num_logs_per_epoch=p.NUM_LOGS_PER_EPOCH,\n",
    "    patience=p.patience,\n",
    "    optimizer=optimizer,\n",
    "    criteria_for_best=p.criteria_for_best,\n",
    ")"
   ]
  },
  {
   "cell_type": "code",
   "execution_count": 23,
   "id": "31e8fabf",
   "metadata": {
    "execution": {
     "iopub.execute_input": "2022-03-18T23:19:49.366540Z",
     "iopub.status.busy": "2022-03-18T23:19:49.359776Z",
     "iopub.status.idle": "2022-03-18T23:19:49.378436Z",
     "shell.execute_reply": "2022-03-18T23:19:49.378012Z"
    },
    "papermill": {
     "duration": 0.046496,
     "end_time": "2022-03-18T23:19:49.378541",
     "exception": false,
     "start_time": "2022-03-18T23:19:49.332045",
     "status": "completed"
    },
    "tags": []
   },
   "outputs": [],
   "source": [
    "total_experiment_time_secs = time.time() - start_time_secs"
   ]
  },
  {
   "cell_type": "code",
   "execution_count": 24,
   "id": "87b9595b",
   "metadata": {
    "execution": {
     "iopub.execute_input": "2022-03-18T23:19:49.444625Z",
     "iopub.status.busy": "2022-03-18T23:19:49.438811Z",
     "iopub.status.idle": "2022-03-18T23:20:52.045499Z",
     "shell.execute_reply": "2022-03-18T23:20:52.045898Z"
    },
    "papermill": {
     "duration": 62.637869,
     "end_time": "2022-03-18T23:20:52.046027",
     "exception": false,
     "start_time": "2022-03-18T23:19:49.408158",
     "status": "completed"
    },
    "tags": []
   },
   "outputs": [],
   "source": [
    "###################################\n",
    "# Evaluate the model\n",
    "###################################\n",
    "source_test_label_accuracy, source_test_label_loss = jig.test(datasets.source.processed.test)\n",
    "target_test_label_accuracy, target_test_label_loss = jig.test(datasets.target.processed.test)\n",
    "\n",
    "source_val_label_accuracy, source_val_label_loss = jig.test(datasets.source.processed.val)\n",
    "target_val_label_accuracy, target_val_label_loss = jig.test(datasets.target.processed.val)\n",
    "\n",
    "history = jig.get_history()\n",
    "\n",
    "total_epochs_trained = len(history[\"epoch_indices\"])\n",
    "\n",
    "val_dl = Iterable_Aggregator((datasets.source.original.val,datasets.target.original.val))\n",
    "\n",
    "confusion = ptn_confusion_by_domain_over_dataloader(model, p.device, val_dl)\n",
    "per_domain_accuracy = per_domain_accuracy_from_confusion(confusion)\n",
    "\n",
    "# Add a key to per_domain_accuracy for if it was a source domain\n",
    "for domain, accuracy in per_domain_accuracy.items():\n",
    "    per_domain_accuracy[domain] = {\n",
    "        \"accuracy\": accuracy,\n",
    "        \"source?\": domain in p.domains_source\n",
    "    }\n",
    "\n",
    "# Do an independent accuracy assesment JUST TO BE SURE!\n",
    "# _source_test_label_accuracy = independent_accuracy_assesment(model, datasets.source.processed.test, p.device)\n",
    "# _target_test_label_accuracy = independent_accuracy_assesment(model, datasets.target.processed.test, p.device)\n",
    "# _source_val_label_accuracy = independent_accuracy_assesment(model, datasets.source.processed.val, p.device)\n",
    "# _target_val_label_accuracy = independent_accuracy_assesment(model, datasets.target.processed.val, p.device)\n",
    "\n",
    "# assert(_source_test_label_accuracy == source_test_label_accuracy)\n",
    "# assert(_target_test_label_accuracy == target_test_label_accuracy)\n",
    "# assert(_source_val_label_accuracy == source_val_label_accuracy)\n",
    "# assert(_target_val_label_accuracy == target_val_label_accuracy)\n",
    "\n",
    "experiment = {\n",
    "    \"experiment_name\": p.experiment_name,\n",
    "    \"parameters\": dict(p),\n",
    "    \"results\": {\n",
    "        \"source_test_label_accuracy\": source_test_label_accuracy,\n",
    "        \"source_test_label_loss\": source_test_label_loss,\n",
    "        \"target_test_label_accuracy\": target_test_label_accuracy,\n",
    "        \"target_test_label_loss\": target_test_label_loss,\n",
    "        \"source_val_label_accuracy\": source_val_label_accuracy,\n",
    "        \"source_val_label_loss\": source_val_label_loss,\n",
    "        \"target_val_label_accuracy\": target_val_label_accuracy,\n",
    "        \"target_val_label_loss\": target_val_label_loss,\n",
    "        \"total_epochs_trained\": total_epochs_trained,\n",
    "        \"total_experiment_time_secs\": total_experiment_time_secs,\n",
    "        \"confusion\": confusion,\n",
    "        \"per_domain_accuracy\": per_domain_accuracy,\n",
    "    },\n",
    "    \"history\": history,\n",
    "    \"dataset_metrics\": get_dataset_metrics(datasets, \"ptn\"),\n",
    "}"
   ]
  },
  {
   "cell_type": "code",
   "execution_count": 25,
   "id": "54a21829",
   "metadata": {
    "execution": {
     "iopub.execute_input": "2022-03-18T23:20:52.102421Z",
     "iopub.status.busy": "2022-03-18T23:20:52.102172Z",
     "iopub.status.idle": "2022-03-18T23:20:52.220732Z",
     "shell.execute_reply": "2022-03-18T23:20:52.221107Z"
    },
    "papermill": {
     "duration": 0.145596,
     "end_time": "2022-03-18T23:20:52.221213",
     "exception": false,
     "start_time": "2022-03-18T23:20:52.075617",
     "status": "completed"
    },
    "tags": []
   },
   "outputs": [
    {
     "data": {
      "image/png": "[encoded data removed]",
      "text/plain": [
       "<Figure size 1080x504 with 1 Axes>"
      ]
     },
     "metadata": {
      "needs_background": "light"
     },
     "output_type": "display_data"
    }
   ],
   "source": [
    "ax = get_loss_curve(experiment)\n",
    "plt.show()"
   ]
  },
  {
   "cell_type": "code",
   "execution_count": 26,
   "id": "fd8a0f60",
   "metadata": {
    "execution": {
     "iopub.execute_input": "2022-03-18T23:20:52.278753Z",
     "iopub.status.busy": "2022-03-18T23:20:52.278505Z",
     "iopub.status.idle": "2022-03-18T23:20:52.422546Z",
     "shell.execute_reply": "2022-03-18T23:20:52.422762Z"
    },
    "papermill": {
     "duration": 0.171723,
     "end_time": "2022-03-18T23:20:52.422824",
     "exception": false,
     "start_time": "2022-03-18T23:20:52.251101",
     "status": "completed"
    },
    "tags": []
   },
   "outputs": [
    {
     "data": {
      "text/plain": [
       "<AxesSubplot:title={'center':'Results'}>"
      ]
     },
     "execution_count": 26,
     "metadata": {},
     "output_type": "execute_result"
    },
    {
     "data": {
      "image/png": "[encoded data removed]",
      "text/plain": [
       "<Figure size 1080x504 with 1 Axes>"
      ]
     },
     "metadata": {
      "needs_background": "light"
     },
     "output_type": "display_data"
    }
   ],
   "source": [
    "get_results_table(experiment)"
   ]
  },
  {
   "cell_type": "code",
   "execution_count": 27,
   "id": "cf8dc689",
   "metadata": {
    "execution": {
     "iopub.execute_input": "2022-03-18T23:20:52.479245Z",
     "iopub.status.busy": "2022-03-18T23:20:52.478976Z",
     "iopub.status.idle": "2022-03-18T23:20:52.639362Z",
     "shell.execute_reply": "2022-03-18T23:20:52.638896Z"
    },
    "papermill": {
     "duration": 0.189391,
     "end_time": "2022-03-18T23:20:52.639452",
     "exception": false,
     "start_time": "2022-03-18T23:20:52.450061",
     "status": "completed"
    },
    "tags": []
   },
   "outputs": [
    {
     "data": {
      "text/plain": [
       "<AxesSubplot:title={'center':'Per Domain Validation Accuracy'}, xlabel='domain'>"
      ]
     },
     "execution_count": 27,
     "metadata": {},
     "output_type": "execute_result"
    },
    {
     "data": {
      "image/png": "[encoded data removed]",
      "text/plain": [
       "<Figure size 1080x504 with 1 Axes>"
      ]
     },
     "metadata": {
      "needs_background": "light"
     },
     "output_type": "display_data"
    }
   ],
   "source": [
    "get_domain_accuracies(experiment)"
   ]
  },
  {
   "cell_type": "code",
   "execution_count": 28,
   "id": "a74ae082",
   "metadata": {
    "execution": {
     "iopub.execute_input": "2022-03-18T23:20:52.702746Z",
     "iopub.status.busy": "2022-03-18T23:20:52.702488Z",
     "iopub.status.idle": "2022-03-18T23:20:52.718507Z",
     "shell.execute_reply": "2022-03-18T23:20:52.718118Z"
    },
    "papermill": {
     "duration": 0.046464,
     "end_time": "2022-03-18T23:20:52.718595",
     "exception": false,
     "start_time": "2022-03-18T23:20:52.672131",
     "status": "completed"
    },
    "tags": []
   },
   "outputs": [
    {
     "name": "stdout",
     "output_type": "stream",
     "text": [
      "Source Test Label Accuracy: 0.942257785467128 Target Test Label Accuracy: 0.1626953125\n",
      "Source Val Label Accuracy: 0.9424740484429066 Target Val Label Accuracy: 0.168359375\n"
     ]
    }
   ],
   "source": [
    "print(\"Source Test Label Accuracy:\", experiment[\"results\"][\"source_test_label_accuracy\"], \"Target Test Label Accuracy:\", experiment[\"results\"][\"target_test_label_accuracy\"])\n",
    "print(\"Source Val Label Accuracy:\", experiment[\"results\"][\"source_val_label_accuracy\"], \"Target Val Label Accuracy:\", experiment[\"results\"][\"target_val_label_accuracy\"])"
   ]
  },
  {
   "cell_type": "code",
   "execution_count": 29,
   "id": "dacca602",
   "metadata": {
    "execution": {
     "iopub.execute_input": "2022-03-18T23:20:52.779820Z",
     "iopub.status.busy": "2022-03-18T23:20:52.779568Z",
     "iopub.status.idle": "2022-03-18T23:20:52.791752Z",
     "shell.execute_reply": "2022-03-18T23:20:52.792044Z"
    },
    "papermill": {
     "duration": 0.041876,
     "end_time": "2022-03-18T23:20:52.792126",
     "exception": false,
     "start_time": "2022-03-18T23:20:52.750250",
     "status": "completed"
    },
    "tags": [
     "experiment_json"
    ]
   },
   "outputs": [
    {
     "data": {
      "text/plain": [
       "'{\"experiment_name\": \"tl_3A:cores+wisig -> oracle.run1.framed\", \"parameters\": {\"experiment_name\": \"tl_3A:cores+wisig -> oracle.run1.framed\", \"device\": \"cuda\", \"lr\": 0.001, \"x_shape\": [2, 200], \"n_shot\": 3, \"n_query\": 2, \"train_k_factor\": 3, \"val_k_factor\": 2, \"test_k_factor\": 2, \"torch_default_dtype\": \"torch.float32\", \"n_epoch\": 50, \"patience\": 3, \"criteria_for_best\": \"target_loss\", \"x_net\": [{\"class\": \"nnReshape\", \"kargs\": {\"shape\": [-1, 1, 2, 200]}}, {\"class\": \"Conv2d\", \"kargs\": {\"in_channels\": 1, \"out_channels\": 256, \"kernel_size\": [1, 7], \"bias\": false, \"padding\": [0, 3]}}, {\"class\": \"ReLU\", \"kargs\": {\"inplace\": true}}, {\"class\": \"BatchNorm2d\", \"kargs\": {\"num_features\": 256}}, {\"class\": \"Conv2d\", \"kargs\": {\"in_channels\": 256, \"out_channels\": 80, \"kernel_size\": [2, 7], \"bias\": true, \"padding\": [0, 3]}}, {\"class\": \"ReLU\", \"kargs\": {\"inplace\": true}}, {\"class\": \"BatchNorm2d\", \"kargs\": {\"num_features\": 80}}, {\"class\": \"Flatten\", \"kargs\": {}}, {\"class\": \"Linear\", \"kargs\": {\"in_features\": 16000, \"out_features\": 256}}, {\"class\": \"ReLU\", \"kargs\": {\"inplace\": true}}, {\"class\": \"BatchNorm1d\", \"kargs\": {\"num_features\": 256}}, {\"class\": \"Linear\", \"kargs\": {\"in_features\": 256, \"out_features\": 256}}], \"NUM_LOGS_PER_EPOCH\": 10, \"BEST_MODEL_PATH\": \"./best_model.pth\", \"n_way\": 16, \"datasets\": [{\"labels\": [\"1-10.\", \"1-11.\", \"1-15.\", \"1-16.\", \"1-17.\", \"1-18.\", \"1-19.\", \"10-4.\", \"10-7.\", \"11-1.\", \"11-14.\", \"11-17.\", \"11-20.\", \"11-7.\", \"13-20.\", \"13-8.\", \"14-10.\", \"14-11.\", \"14-14.\", \"14-7.\", \"15-1.\", \"15-20.\", \"16-1.\", \"16-16.\", \"17-10.\", \"17-11.\", \"17-2.\", \"19-1.\", \"19-16.\", \"19-19.\", \"19-20.\", \"19-3.\", \"2-10.\", \"2-11.\", \"2-17.\", \"2-18.\", \"2-20.\", \"2-3.\", \"2-4.\", \"2-5.\", \"2-6.\", \"2-7.\", \"2-8.\", \"3-13.\", \"3-18.\", \"3-3.\", \"4-1.\", \"4-10.\", \"4-11.\", \"4-19.\", \"5-5.\", \"6-15.\", \"7-10.\", \"7-14.\", \"8-18.\", \"8-20.\", \"8-3.\", \"8-8.\"], \"domains\": [1, 2, 3, 4, 5], \"num_examples_per_domain_per_label\": 100, \"pickle_path\": \"/mnt/wd500GB/CSC500/csc500-main/datasets/cores.stratified_ds.2022A.pkl\", \"source_or_target_dataset\": \"source\", \"x_transforms\": [\"unit_power\", \"take_200\"], \"episode_transforms\": [], \"domain_prefix\": \"C_A_\"}, {\"labels\": [\"1-10\", \"1-12\", \"1-14\", \"1-16\", \"1-18\", \"1-19\", \"1-8\", \"10-11\", \"10-17\", \"10-4\", \"10-7\", \"11-1\", \"11-10\", \"11-19\", \"11-20\", \"11-4\", \"11-7\", \"12-19\", \"12-20\", \"12-7\", \"13-14\", \"13-18\", \"13-19\", \"13-20\", \"13-3\", \"13-7\", \"14-10\", \"14-11\", \"14-12\", \"14-13\", \"14-14\", \"14-19\", \"14-20\", \"14-7\", \"14-8\", \"14-9\", \"15-1\", \"15-19\", \"15-6\", \"16-1\", \"16-16\", \"16-19\", \"16-20\", \"17-10\", \"17-11\", \"18-1\", \"18-10\", \"18-11\", \"18-12\", \"18-13\", \"18-14\", \"18-15\", \"18-16\", \"18-17\", \"18-19\", \"18-2\", \"18-20\", \"18-4\", \"18-5\", \"18-7\", \"18-8\", \"18-9\", \"19-1\", \"19-10\", \"19-11\", \"19-12\", \"19-13\", \"19-14\", \"19-15\", \"19-19\", \"19-2\", \"19-20\", \"19-3\", \"19-4\", \"19-6\", \"19-7\", \"19-8\", \"19-9\", \"2-1\", \"2-13\", \"2-15\", \"2-3\", \"2-4\", \"2-5\", \"2-6\", \"2-7\", \"2-8\", \"20-1\", \"20-12\", \"20-14\", \"20-15\", \"20-16\", \"20-18\", \"20-19\", \"20-20\", \"20-3\", \"20-4\", \"20-5\", \"20-7\", \"20-8\", \"3-1\", \"3-13\", \"3-18\", \"3-2\", \"3-8\", \"4-1\", \"4-10\", \"4-11\", \"5-1\", \"5-5\", \"6-1\", \"6-15\", \"6-6\", \"7-10\", \"7-11\", \"7-12\", \"7-13\", \"7-14\", \"7-7\", \"7-8\", \"7-9\", \"8-1\", \"8-13\", \"8-14\", \"8-18\", \"8-20\", \"8-3\", \"8-8\", \"9-1\", \"9-7\"], \"domains\": [1, 2, 3, 4], \"num_examples_per_domain_per_label\": 100, \"pickle_path\": \"/mnt/wd500GB/CSC500/csc500-main/datasets/wisig.node3-19.stratified_ds.2022A.pkl\", \"source_or_target_dataset\": \"source\", \"x_transforms\": [\"unit_power\", \"take_200\"], \"episode_transforms\": [], \"domain_prefix\": \"W_A_\"}, {\"labels\": [\"3123D52\", \"3123D65\", \"3123D79\", \"3123D80\", \"3123D54\", \"3123D70\", \"3123D7B\", \"3123D89\", \"3123D58\", \"3123D76\", \"3123D7D\", \"3123EFE\", \"3123D64\", \"3123D78\", \"3123D7E\", \"3124E4A\"], \"domains\": [32, 38, 8, 44, 14, 50, 20, 26], \"num_examples_per_domain_per_label\": 2000, \"pickle_path\": \"/mnt/wd500GB/CSC500/csc500-main/datasets/oracle.Run1_framed_2000Examples_stratified_ds.2022A.pkl\", \"source_or_target_dataset\": \"target\", \"x_transforms\": [\"unit_power\", \"take_200\", \"resample_20Msps_to_25Msps\"], \"episode_transforms\": [], \"domain_prefix\": \"ORACLE.run1_\"}], \"seed\": 500, \"dataset_seed\": 500, \"domains_source\": [\"C_A_1\", \"C_A_2\", \"C_A_3\", \"C_A_4\", \"C_A_5\", \"W_A_1\", \"W_A_2\", \"W_A_3\", \"W_A_4\"], \"domains_target\": [\"ORACLE.run1_32\", \"ORACLE.run1_38\", \"ORACLE.run1_8\", \"ORACLE.run1_44\", \"ORACLE.run1_14\", \"ORACLE.run1_50\", \"ORACLE.run1_20\", \"ORACLE.run1_26\"]}, \"results\": {\"source_test_label_accuracy\": 0.942257785467128, \"source_test_label_loss\": 0.23994256556034088, \"target_test_label_accuracy\": 0.1626953125, \"target_test_label_loss\": 2.5795514583587646, \"source_val_label_accuracy\": 0.9424740484429066, \"source_val_label_loss\": 0.2570532262325287, \"target_val_label_accuracy\": 0.168359375, \"target_val_label_loss\": 2.580357074737549, \"total_epochs_trained\": 5, \"total_experiment_time_secs\": 320.96781730651855, \"confusion\": {\"W_A_3\": {\"99\": {\"99\": 12}, \"8\": {\"8\": 12}, \"65\": {\"18\": 1, \"65\": 9, \"129\": 1, \"39\": 1}, \"117\": {\"117\": 10}, \"18\": {\"18\": 12}, \"39\": {\"39\": 11, \"18\": 1}, \"102\": {\"102\": 12}, \"76\": {\"76\": 12}, \"101\": {\"101\": 12}, \"57\": {\"57\": 12}, \"86\": {\"86\": 12}, \"11\": {\"11\": 12}, \"98\": {\"98\": 12}, \"42\": {\"8\": 1, \"42\": 10, \"83\": 1}, \"47\": {\"47\": 12}, \"49\": {\"49\": 7, \"8\": 2, \"44\": 1, \"77\": 1, \"42\": 1}, \"111\": {\"111\": 12}, \"36\": {\"36\": 12}, \"124\": {\"124\": 12}, \"122\": {\"122\": 12}, \"93\": {\"93\": 12}, \"89\": {\"89\": 12}, \"51\": {\"51\": 12}, \"73\": {\"73\": 12}, \"45\": {\"45\": 12}, \"5\": {\"5\": 12}, \"69\": {\"69\": 12}, \"26\": {\"26\": 12}, \"1\": {\"1\": 12}, \"92\": {\"92\": 8}, \"96\": {\"96\": 12}, \"85\": {\"85\": 11, \"108\": 1}, \"114\": {\"114\": 12}, \"50\": {\"50\": 12}, \"81\": {\"81\": 12}, \"2\": {\"2\": 10, \"64\": 2}, \"33\": {\"33\": 12}, \"31\": {\"31\": 12}, \"90\": {\"90\": 8}, \"17\": {\"17\": 5, \"9\": 1, \"63\": 1, \"40\": 2, \"56\": 1, \"32\": 1, \"21\": 1}, \"116\": {\"116\": 8, \"17\": 1, \"13\": 1}, \"91\": {\"91\": 11, \"98\": 1}, \"41\": {\"41\": 12}, \"78\": {\"21\": 2, \"122\": 1, \"13\": 1, \"128\": 1, \"78\": 1}, \"21\": {\"21\": 12}, \"23\": {\"123\": 2, \"23\": 7, \"71\": 1, \"46\": 1, \"21\": 1}, \"63\": {\"63\": 12}, \"103\": {\"103\": 12}, \"54\": {\"54\": 12}, \"87\": {\"87\": 12}, \"123\": {\"123\": 11, \"23\": 1}, \"32\": {\"32\": 12}, \"70\": {\"21\": 1, \"70\": 11}, \"19\": {\"19\": 12}, \"55\": {\"55\": 12}, \"34\": {\"34\": 11, \"17\": 1}, \"28\": {\"28\": 12}, \"109\": {\"109\": 10}, \"72\": {\"72\": 12}, \"9\": {\"9\": 12}, \"80\": {\"80\": 11, \"89\": 1}, \"125\": {\"125\": 12}, \"24\": {\"24\": 9, \"27\": 2, \"72\": 1}, \"129\": {\"129\": 11, \"110\": 1}, \"112\": {\"112\": 6, \"123\": 1, \"88\": 1, \"23\": 1, \"11\": 1, \"52\": 1, \"5\": 1}, \"110\": {\"110\": 8, \"129\": 1, \"5\": 1, \"17\": 1, \"20\": 1}, \"53\": {\"53\": 12}, \"12\": {\"12\": 12}, \"22\": {\"22\": 12}, \"46\": {\"46\": 12}, \"119\": {\"119\": 12}, \"75\": {\"75\": 12}, \"14\": {\"14\": 10, \"114\": 1, \"43\": 1}, \"71\": {\"71\": 11, \"3\": 1}, \"95\": {\"95\": 10, \"26\": 1, \"62\": 1}, \"13\": {\"13\": 6, \"107\": 1, \"21\": 1, \"116\": 1, \"102\": 1}, \"126\": {\"126\": 10}, \"104\": {\"104\": 10}, \"30\": {\"30\": 12}, \"97\": {\"97\": 11, \"24\": 1}, \"56\": {\"56\": 12}, \"115\": {\"115\": 12}, \"48\": {\"48\": 8, \"43\": 1, \"116\": 1}, \"7\": {\"17\": 1, \"7\": 11}, \"94\": {\"94\": 10, \"97\": 1, \"13\": 1}, \"38\": {\"38\": 12}, \"64\": {\"64\": 12}, \"43\": {\"43\": 9, \"127\": 1, \"116\": 1, \"4\": 1}, \"15\": {\"15\": 12}, \"82\": {\"84\": 1, \"82\": 11}, \"84\": {\"84\": 12}, \"29\": {\"29\": 12}, \"121\": {\"121\": 7, \"39\": 1, \"32\": 1, \"13\": 1, \"61\": 1, \"74\": 1}, \"127\": {\"127\": 12}, \"40\": {\"40\": 12}, \"106\": {\"106\": 12}, \"3\": {\"3\": 12}, \"120\": {\"120\": 12}, \"6\": {\"3\": 1, \"6\": 9, \"25\": 1, \"60\": 1}, \"0\": {\"0\": 10, \"101\": 1, \"35\": 1}, \"4\": {\"5\": 1, \"4\": 10, \"46\": 1}, \"27\": {\"27\": 12}, \"107\": {\"107\": 12}, \"61\": {\"61\": 12}, \"10\": {\"10\": 11, \"68\": 1}, \"67\": {\"67\": 11, \"8\": 1}, \"58\": {\"58\": 10}, \"66\": {\"66\": 12}, \"108\": {\"108\": 10, \"88\": 1, \"60\": 1}, \"20\": {\"20\": 12}, \"60\": {\"60\": 12}, \"128\": {\"128\": 10, \"60\": 1, \"114\": 1}, \"118\": {\"118\": 12}, \"25\": {\"25\": 12}, \"83\": {\"83\": 12}, \"68\": {\"68\": 12}, \"77\": {\"77\": 12}, \"88\": {\"88\": 12}, \"105\": {\"105\": 12}, \"35\": {\"35\": 12}, \"52\": {\"52\": 6, \"2\": 1, \"61\": 1}, \"59\": {\"59\": 8}, \"74\": {\"74\": 12}, \"16\": {\"16\": 10}, \"62\": {\"62\": 9, \"13\": 1}, \"79\": {\"79\": 12}, \"44\": {\"44\": 10}, \"113\": {\"13\": 1, \"113\": 8, \"127\": 1}, \"37\": {\"37\": 7, \"32\": 1}, \"100\": {\"100\": 5, \"16\": 1}}, \"C_A_4\": {\"38\": {\"38\": 11, \"43\": 1}, \"3\": {\"3\": 11, \"6\": 1}, \"24\": {\"24\": 12}, \"49\": {\"49\": 10}, \"7\": {\"7\": 12}, \"17\": {\"17\": 12}, \"43\": {\"43\": 10}, \"30\": {\"30\": 12}, \"44\": {\"44\": 12}, \"23\": {\"23\": 10}, \"37\": {\"37\": 12}, \"4\": {\"4\": 11, \"44\": 1}, \"57\": {\"57\": 12}, \"16\": {\"16\": 8}, \"18\": {\"18\": 12}, \"20\": {\"20\": 10}, \"45\": {\"45\": 8}, \"15\": {\"15\": 10}, \"52\": {\"52\": 12}, \"19\": {\"19\": 12}, \"54\": {\"54\": 12}, \"56\": {\"56\": 10}, \"40\": {\"40\": 12}, \"28\": {\"28\": 11, \"5\": 1}, \"2\": {\"2\": 8}, \"9\": {\"9\": 12}, \"0\": {\"0\": 11, \"32\": 1}, \"36\": {\"36\": 12}, \"55\": {\"55\": 10}, \"35\": {\"35\": 10}, \"39\": {\"39\": 12}, \"31\": {\"31\": 12}, \"14\": {\"37\": 1, \"0\": 1, \"14\": 9, \"2\": 1}, \"12\": {\"12\": 12}, \"6\": {\"6\": 10}, \"48\": {\"48\": 12}, \"51\": {\"51\": 10}, \"5\": {\"5\": 11, \"50\": 1}, \"22\": {\"22\": 12}, \"25\": {\"25\": 12}, \"26\": {\"26\": 11, \"4\": 1}, \"47\": {\"47\": 12}, \"1\": {\"1\": 10}, \"41\": {\"41\": 12}, \"27\": {\"27\": 11, \"8\": 1}, \"8\": {\"8\": 12}, \"29\": {\"29\": 12}, \"11\": {\"11\": 10}, \"34\": {\"34\": 12}, \"21\": {\"21\": 12}, \"53\": {\"53\": 10}, \"10\": {\"10\": 12}, \"33\": {\"33\": 12}, \"42\": {\"42\": 11, \"33\": 1}, \"50\": {\"50\": 7, \"36\": 1, \"31\": 1, \"53\": 1}, \"13\": {\"13\": 4}, \"46\": {\"46\": 6, \"11\": 2}, \"32\": {\"32\": 8}}, \"C_A_2\": {\"32\": {\"32\": 11, \"9\": 1}, \"17\": {\"17\": 12}, \"38\": {\"38\": 12}, \"2\": {\"2\": 8, \"23\": 2}, \"43\": {\"43\": 8}, \"56\": {\"56\": 12}, \"37\": {\"37\": 12}, \"49\": {\"49\": 12}, \"0\": {\"0\": 10}, \"29\": {\"29\": 9, \"57\": 1}, \"35\": {\"35\": 10}, \"18\": {\"18\": 12}, \"25\": {\"25\": 12}, \"23\": {\"23\": 12}, \"15\": {\"15\": 12}, \"21\": {\"21\": 12}, \"48\": {\"48\": 12}, \"12\": {\"12\": 10}, \"41\": {\"41\": 10}, \"14\": {\"55\": 1, \"14\": 10, \"42\": 1}, \"7\": {\"7\": 10}, \"9\": {\"9\": 12}, \"55\": {\"55\": 11, \"42\": 1}, \"36\": {\"36\": 12}, \"22\": {\"22\": 12}, \"13\": {\"13\": 10}, \"30\": {\"30\": 12}, \"51\": {\"51\": 12}, \"34\": {\"34\": 12}, \"57\": {\"57\": 12}, \"47\": {\"47\": 12}, \"1\": {\"1\": 10}, \"44\": {\"44\": 12}, \"31\": {\"31\": 10}, \"4\": {\"4\": 12}, \"10\": {\"10\": 12}, \"33\": {\"33\": 12}, \"52\": {\"52\": 12}, \"24\": {\"24\": 12}, \"8\": {\"8\": 10}, \"26\": {\"26\": 10}, \"42\": {\"42\": 12}, \"53\": {\"53\": 12}, \"54\": {\"54\": 12}, \"46\": {\"46\": 10}, \"39\": {\"39\": 12}, \"16\": {\"16\": 10}, \"11\": {\"11\": 12}, \"40\": {\"40\": 12}, \"28\": {\"28\": 8}, \"19\": {\"19\": 12}, \"50\": {\"50\": 6}, \"45\": {\"45\": 10}, \"20\": {\"20\": 12}, \"27\": {\"27\": 10}, \"6\": {\"6\": 10}, \"3\": {\"3\": 9, \"54\": 1}, \"5\": {\"5\": 6}}, \"W_A_2\": {\"73\": {\"73\": 12}, \"40\": {\"40\": 12}, \"99\": {\"99\": 12}, \"5\": {\"5\": 12}, \"108\": {\"108\": 12}, \"128\": {\"128\": 6, \"85\": 1, \"71\": 2, \"59\": 1}, \"89\": {\"89\": 11, \"92\": 1}, \"107\": {\"78\": 5, \"107\": 6, \"6\": 1}, \"2\": {\"2\": 10, \"96\": 1, \"129\": 1}, \"78\": {\"78\": 10, \"43\": 2}, \"85\": {\"85\": 10, \"14\": 1, \"28\": 1}, \"44\": {\"44\": 12}, \"58\": {\"58\": 9, \"17\": 1, \"46\": 1, \"51\": 1}, \"57\": {\"57\": 11, \"58\": 1}, \"41\": {\"41\": 11, \"58\": 1}, \"53\": {\"53\": 10, \"57\": 1, \"24\": 1}, \"14\": {\"14\": 10, \"57\": 1, \"116\": 1}, \"83\": {\"83\": 12}, \"119\": {\"119\": 12}, \"95\": {\"95\": 12}, \"28\": {\"28\": 11, \"24\": 1}, \"19\": {\"19\": 12}, \"69\": {\"69\": 12}, \"93\": {\"93\": 11, \"100\": 1}, \"9\": {\"9\": 12}, \"118\": {\"118\": 12}, \"43\": {\"43\": 11, \"110\": 1}, \"47\": {\"28\": 1, \"47\": 10, \"60\": 1}, \"125\": {\"125\": 12}, \"29\": {\"29\": 12}, \"4\": {\"4\": 12}, \"55\": {\"55\": 11, \"62\": 1}, \"105\": {\"105\": 12}, \"50\": {\"50\": 12}, \"62\": {\"62\": 11, \"25\": 1}, \"24\": {\"24\": 10, \"94\": 2}, \"60\": {\"60\": 11, \"17\": 1}, \"106\": {\"106\": 11, \"51\": 1}, \"59\": {\"59\": 11, \"80\": 1}, \"49\": {\"49\": 7, \"52\": 2, \"129\": 1, \"28\": 1, \"58\": 1}, \"76\": {\"76\": 12}, \"122\": {\"122\": 10, \"128\": 2}, \"114\": {\"114\": 9, \"57\": 1}, \"15\": {\"15\": 12}, \"98\": {\"98\": 12}, \"91\": {\"91\": 10, \"98\": 2}, \"80\": {\"80\": 11, \"31\": 1}, \"113\": {\"113\": 10, \"61\": 1, \"107\": 1}, \"38\": {\"38\": 12}, \"86\": {\"86\": 12}, \"0\": {\"21\": 1, \"0\": 9}, \"90\": {\"90\": 12}, \"21\": {\"21\": 10, \"84\": 1, \"17\": 1}, \"31\": {\"31\": 9, \"116\": 1, \"69\": 1, \"21\": 1}, \"33\": {\"33\": 12}, \"64\": {\"64\": 12}, \"81\": {\"81\": 12}, \"17\": {\"122\": 1, \"17\": 8, \"6\": 1, \"21\": 1, \"52\": 1}, \"102\": {\"102\": 12}, \"74\": {\"74\": 11, \"39\": 1}, \"34\": {\"34\": 12}, \"45\": {\"45\": 11, \"101\": 1}, \"75\": {\"75\": 12}, \"11\": {\"11\": 12}, \"79\": {\"79\": 12}, \"109\": {\"109\": 12}, \"6\": {\"91\": 1, \"6\": 11}, \"94\": {\"94\": 9, \"21\": 2, \"112\": 1}, \"100\": {\"100\": 11, \"47\": 1}, \"67\": {\"67\": 11, \"80\": 1}, \"97\": {\"97\": 12}, \"112\": {\"112\": 7, \"83\": 2, \"94\": 1, \"42\": 2}, \"96\": {\"96\": 12}, \"35\": {\"35\": 12}, \"54\": {\"54\": 12}, \"111\": {\"111\": 11, \"61\": 1}, \"61\": {\"61\": 12}, \"82\": {\"82\": 12}, \"110\": {\"110\": 12}, \"116\": {\"60\": 1, \"116\": 11}, \"115\": {\"115\": 11, \"21\": 1}, \"84\": {\"84\": 11, \"58\": 1}, \"25\": {\"25\": 10, \"116\": 1, \"17\": 1}, \"66\": {\"66\": 11, \"57\": 1}, \"20\": {\"20\": 12}, \"72\": {\"72\": 12}, \"123\": {\"123\": 12}, \"3\": {\"3\": 12}, \"124\": {\"124\": 12}, \"36\": {\"36\": 8}, \"12\": {\"29\": 1, \"21\": 1, \"12\": 10}, \"10\": {\"10\": 12}, \"23\": {\"29\": 1, \"23\": 6, \"128\": 1, \"103\": 1, \"52\": 1}, \"120\": {\"120\": 12}, \"121\": {\"121\": 10, \"112\": 1, \"76\": 1}, \"68\": {\"68\": 12}, \"117\": {\"116\": 1, \"117\": 8, \"13\": 1, \"81\": 2}, \"92\": {\"92\": 11, \"89\": 1}, \"129\": {\"129\": 12}, \"7\": {\"7\": 11, \"26\": 1}, \"37\": {\"37\": 11, \"66\": 1}, \"71\": {\"71\": 12}, \"30\": {\"30\": 12}, \"127\": {\"127\": 10}, \"52\": {\"52\": 11, \"28\": 1}, \"22\": {\"22\": 12}, \"16\": {\"16\": 8, \"93\": 2, \"25\": 1, \"122\": 1}, \"126\": {\"126\": 8}, \"48\": {\"48\": 10, \"106\": 1, \"21\": 1}, \"101\": {\"101\": 12}, \"42\": {\"42\": 12}, \"1\": {\"1\": 12}, \"63\": {\"63\": 12}, \"56\": {\"12\": 1, \"56\": 10, \"51\": 1}, \"18\": {\"18\": 12}, \"46\": {\"46\": 12}, \"103\": {\"103\": 12}, \"13\": {\"13\": 11, \"96\": 1}, \"8\": {\"8\": 11, \"52\": 1}, \"39\": {\"39\": 12}, \"51\": {\"51\": 7, \"58\": 2, \"70\": 1, \"108\": 1, \"15\": 1}, \"87\": {\"87\": 9, \"120\": 1, \"122\": 1, \"24\": 1}, \"27\": {\"27\": 10, \"70\": 1, \"12\": 1}, \"70\": {\"70\": 12}, \"32\": {\"8\": 4, \"96\": 1, \"128\": 1, \"110\": 2, \"32\": 2, \"109\": 1, \"55\": 1}, \"77\": {\"77\": 11, \"28\": 1}, \"26\": {\"26\": 11, \"51\": 1}, \"88\": {\"88\": 9, \"19\": 1}, \"65\": {\"65\": 12}, \"104\": {\"104\": 5, \"106\": 2, \"8\": 1}}, \"C_A_3\": {\"5\": {\"5\": 10}, \"32\": {\"32\": 12}, \"33\": {\"33\": 12}, \"49\": {\"49\": 12}, \"39\": {\"39\": 12}, \"11\": {\"11\": 12}, \"8\": {\"8\": 12}, \"26\": {\"26\": 10}, \"51\": {\"51\": 12}, \"4\": {\"4\": 12}, \"52\": {\"52\": 10}, \"47\": {\"47\": 11, \"48\": 1}, \"17\": {\"17\": 10}, \"53\": {\"53\": 12}, \"2\": {\"2\": 12}, \"12\": {\"12\": 10}, \"28\": {\"28\": 12}, \"6\": {\"6\": 12}, \"50\": {\"50\": 6}, \"57\": {\"57\": 12}, \"38\": {\"38\": 12}, \"18\": {\"18\": 12}, \"29\": {\"29\": 10}, \"10\": {\"10\": 12}, \"13\": {\"13\": 12}, \"14\": {\"14\": 10, \"19\": 1, \"42\": 1}, \"16\": {\"16\": 10}, \"46\": {\"46\": 12}, \"44\": {\"44\": 12}, \"20\": {\"20\": 12}, \"0\": {\"0\": 11, \"34\": 1}, \"55\": {\"55\": 12}, \"56\": {\"56\": 6}, \"19\": {\"19\": 12}, \"36\": {\"36\": 12}, \"48\": {\"48\": 12}, \"37\": {\"37\": 12}, \"35\": {\"35\": 10}, \"31\": {\"31\": 10}, \"30\": {\"30\": 8}, \"41\": {\"41\": 11, \"17\": 1}, \"15\": {\"15\": 12}, \"1\": {\"1\": 12}, \"22\": {\"22\": 12}, \"21\": {\"21\": 12}, \"45\": {\"45\": 10}, \"42\": {\"42\": 12}, \"24\": {\"24\": 12}, \"40\": {\"40\": 11, \"44\": 1}, \"43\": {\"43\": 12}, \"3\": {\"3\": 12}, \"23\": {\"23\": 8}, \"27\": {\"27\": 10}, \"34\": {\"34\": 12}, \"9\": {\"9\": 10}, \"25\": {\"25\": 8}, \"54\": {\"54\": 8}, \"7\": {\"7\": 8}}, \"W_A_1\": {\"57\": {\"57\": 12}, \"113\": {\"113\": 11, \"95\": 1}, \"114\": {\"114\": 12}, \"88\": {\"88\": 10, \"24\": 2}, \"4\": {\"4\": 12}, \"129\": {\"129\": 10, \"2\": 1, \"100\": 1}, \"67\": {\"67\": 12}, \"84\": {\"84\": 8}, \"13\": {\"113\": 1, \"13\": 10, \"97\": 1}, \"71\": {\"71\": 12}, \"10\": {\"109\": 1, \"10\": 9, \"107\": 1, \"120\": 1}, \"56\": {\"56\": 12}, \"109\": {\"109\": 12}, \"117\": {\"117\": 12}, \"9\": {\"9\": 12}, \"118\": {\"118\": 11, \"71\": 1}, \"85\": {\"85\": 12}, \"44\": {\"44\": 10}, \"17\": {\"63\": 1, \"17\": 8, \"53\": 1}, \"24\": {\"24\": 12}, \"98\": {\"98\": 12}, \"12\": {\"12\": 12}, \"106\": {\"106\": 12}, \"42\": {\"42\": 8, \"106\": 1, \"104\": 1, \"5\": 1, \"45\": 1}, \"63\": {\"63\": 12}, \"14\": {\"14\": 12}, \"122\": {\"122\": 10}, \"36\": {\"36\": 11, \"88\": 1}, \"125\": {\"125\": 12}, \"62\": {\"62\": 9, \"128\": 1, \"50\": 2}, \"38\": {\"38\": 11, \"57\": 1}, \"40\": {\"40\": 12}, \"116\": {\"116\": 10, \"78\": 1, \"33\": 1}, \"2\": {\"2\": 9, \"109\": 1, \"115\": 1, \"70\": 1}, \"54\": {\"54\": 12}, \"26\": {\"26\": 10, \"6\": 1, \"76\": 1}, \"92\": {\"92\": 8}, \"120\": {\"120\": 8, \"108\": 1, \"55\": 1, \"57\": 2}, \"108\": {\"108\": 10}, \"77\": {\"77\": 12}, \"58\": {\"58\": 11, \"51\": 1}, \"73\": {\"73\": 12}, \"61\": {\"61\": 11, \"12\": 1}, \"126\": {\"126\": 12}, \"103\": {\"103\": 12}, \"100\": {\"100\": 12}, \"46\": {\"126\": 1, \"46\": 5, \"124\": 1, \"94\": 1, \"25\": 2, \"97\": 1, \"44\": 1}, \"93\": {\"93\": 12}, \"101\": {\"101\": 12}, \"32\": {\"32\": 11, \"0\": 1}, \"16\": {\"16\": 12}, \"8\": {\"8\": 12}, \"104\": {\"104\": 10, \"7\": 1, \"84\": 1}, \"47\": {\"47\": 11, \"70\": 1}, \"3\": {\"3\": 12}, \"1\": {\"1\": 12}, \"18\": {\"18\": 12}, \"97\": {\"97\": 8, \"88\": 1, \"126\": 1}, \"107\": {\"107\": 12}, \"15\": {\"15\": 11, \"111\": 1}, \"6\": {\"6\": 12}, \"86\": {\"86\": 12}, \"30\": {\"30\": 12}, \"111\": {\"111\": 10}, \"37\": {\"37\": 12}, \"81\": {\"81\": 12}, \"7\": {\"7\": 12}, \"70\": {\"70\": 12}, \"124\": {\"124\": 9, \"19\": 1}, \"76\": {\"76\": 12}, \"95\": {\"95\": 12}, \"27\": {\"27\": 10}, \"75\": {\"75\": 12}, \"50\": {\"50\": 11, \"120\": 1}, \"52\": {\"52\": 12}, \"83\": {\"83\": 9, \"21\": 1, \"47\": 1, \"27\": 1}, \"65\": {\"65\": 9, \"129\": 1, \"83\": 1, \"64\": 1}, \"121\": {\"121\": 11, \"76\": 1}, \"123\": {\"123\": 12}, \"110\": {\"110\": 6}, \"31\": {\"31\": 12}, \"68\": {\"68\": 12}, \"0\": {\"0\": 12}, \"72\": {\"72\": 12}, \"102\": {\"102\": 10}, \"48\": {\"48\": 12}, \"33\": {\"33\": 12}, \"51\": {\"59\": 1, \"51\": 9, \"95\": 1, \"65\": 1}, \"99\": {\"99\": 7, \"79\": 1}, \"82\": {\"82\": 12}, \"94\": {\"59\": 1, \"94\": 10, \"27\": 1}, \"25\": {\"25\": 11, \"127\": 1}, \"39\": {\"39\": 12}, \"59\": {\"59\": 12}, \"20\": {\"20\": 12}, \"53\": {\"53\": 12}, \"115\": {\"115\": 10}, \"41\": {\"41\": 11, \"123\": 1}, \"35\": {\"35\": 6}, \"64\": {\"64\": 8}, \"78\": {\"78\": 8, \"93\": 1, \"43\": 1, \"105\": 1, \"55\": 1}, \"45\": {\"97\": 1, \"45\": 7, \"80\": 1, \"126\": 1, \"5\": 1, \"129\": 1}, \"80\": {\"80\": 10, \"95\": 1, \"50\": 1}, \"128\": {\"21\": 1, \"128\": 8, \"54\": 1, \"22\": 1, \"83\": 1}, \"96\": {\"96\": 12}, \"69\": {\"69\": 12}, \"19\": {\"19\": 12}, \"119\": {\"119\": 12}, \"21\": {\"21\": 10, \"78\": 1, \"114\": 1}, \"91\": {\"91\": 12}, \"105\": {\"105\": 12}, \"60\": {\"60\": 11, \"45\": 1}, \"66\": {\"66\": 9, \"90\": 1}, \"55\": {\"55\": 12}, \"29\": {\"29\": 12}, \"34\": {\"34\": 3, \"104\": 1, \"37\": 1, \"6\": 1, \"120\": 2}, \"74\": {\"74\": 8}, \"49\": {\"49\": 5, \"53\": 1}, \"22\": {\"22\": 12}, \"5\": {\"5\": 11, \"70\": 1}, \"89\": {\"89\": 8}, \"127\": {\"127\": 12}, \"87\": {\"87\": 9, \"28\": 1, \"77\": 1, \"105\": 1}, \"23\": {\"31\": 1, \"23\": 3, \"93\": 2, \"115\": 1, \"123\": 2, \"45\": 1}, \"28\": {\"28\": 12}, \"43\": {\"43\": 8, \"87\": 1, \"78\": 1}, \"11\": {\"11\": 8}, \"112\": {\"112\": 9, \"83\": 1}, \"79\": {\"79\": 8}, \"90\": {\"90\": 6}}, \"C_A_1\": {\"55\": {\"55\": 12}, \"38\": {\"38\": 12}, \"49\": {\"49\": 10}, \"10\": {\"10\": 10, \"11\": 2}, \"28\": {\"28\": 10}, \"14\": {\"14\": 9, \"6\": 3}, \"19\": {\"19\": 12}, \"25\": {\"25\": 12}, \"22\": {\"22\": 11, \"24\": 1}, \"47\": {\"47\": 12}, \"53\": {\"53\": 12}, \"54\": {\"54\": 12}, \"8\": {\"8\": 12}, \"4\": {\"4\": 12}, \"31\": {\"31\": 12}, \"6\": {\"6\": 12}, \"20\": {\"20\": 12}, \"21\": {\"21\": 10}, \"15\": {\"15\": 12}, \"40\": {\"40\": 12}, \"48\": {\"48\": 11, \"50\": 1}, \"7\": {\"7\": 12}, \"50\": {\"50\": 11, \"48\": 1}, \"32\": {\"32\": 8}, \"56\": {\"56\": 10, \"19\": 1, \"1\": 1}, \"26\": {\"26\": 10}, \"34\": {\"34\": 12}, \"42\": {\"42\": 10}, \"29\": {\"29\": 10, \"54\": 1, \"19\": 1}, \"46\": {\"46\": 10}, \"24\": {\"24\": 8, \"22\": 2}, \"18\": {\"18\": 12}, \"16\": {\"16\": 6}, \"45\": {\"45\": 12}, \"3\": {\"3\": 12}, \"17\": {\"17\": 12}, \"35\": {\"35\": 12}, \"30\": {\"30\": 10}, \"1\": {\"1\": 12}, \"23\": {\"23\": 12}, \"0\": {\"0\": 10}, \"52\": {\"52\": 12}, \"43\": {\"43\": 12}, \"44\": {\"44\": 10, \"56\": 2}, \"27\": {\"27\": 12}, \"9\": {\"9\": 12}, \"57\": {\"57\": 8}, \"2\": {\"50\": 1, \"2\": 11}, \"36\": {\"36\": 8}, \"12\": {\"12\": 12}, \"33\": {\"33\": 10}, \"13\": {\"13\": 10}, \"51\": {\"51\": 10}, \"11\": {\"11\": 12}, \"5\": {\"5\": 12}, \"37\": {\"37\": 12}, \"39\": {\"39\": 4}, \"41\": {\"41\": 6}}, \"W_A_4\": {\"119\": {\"119\": 11, \"88\": 1}, \"101\": {\"101\": 12}, \"15\": {\"15\": 12}, \"22\": {\"22\": 10}, \"127\": {\"127\": 12}, \"6\": {\"6\": 7, \"24\": 1, \"94\": 1, \"10\": 1, \"25\": 1, \"11\": 1}, \"69\": {\"69\": 10}, \"41\": {\"41\": 12}, \"68\": {\"68\": 9, \"11\": 1}, \"126\": {\"126\": 12}, \"62\": {\"62\": 11, \"88\": 1}, \"26\": {\"26\": 12}, \"71\": {\"71\": 8, \"68\": 1, \"121\": 1, \"78\": 1, \"12\": 1}, \"78\": {\"78\": 8, \"43\": 1, \"127\": 1, \"47\": 1, \"106\": 1}, \"90\": {\"90\": 12}, \"24\": {\"24\": 12}, \"11\": {\"8\": 1, \"11\": 11}, \"35\": {\"35\": 10, \"61\": 2}, \"86\": {\"86\": 12}, \"3\": {\"3\": 11, \"53\": 1}, \"75\": {\"75\": 12}, \"100\": {\"100\": 11, \"57\": 1}, \"117\": {\"117\": 12}, \"120\": {\"120\": 12}, \"8\": {\"8\": 12}, \"27\": {\"27\": 10, \"129\": 2}, \"83\": {\"83\": 12}, \"129\": {\"129\": 9, \"100\": 1, \"13\": 2}, \"36\": {\"36\": 9, \"24\": 2, \"128\": 1}, \"67\": {\"92\": 2, \"67\": 4, \"123\": 3, \"80\": 1, \"102\": 1, \"14\": 1}, \"54\": {\"54\": 12}, \"92\": {\"92\": 10, \"62\": 1, \"122\": 1}, \"56\": {\"56\": 12}, \"29\": {\"29\": 12}, \"80\": {\"80\": 12}, \"123\": {\"123\": 10, \"23\": 1, \"77\": 1}, \"28\": {\"28\": 12}, \"42\": {\"42\": 12}, \"113\": {\"113\": 12}, \"53\": {\"53\": 11, \"1\": 1}, \"61\": {\"61\": 12}, \"39\": {\"39\": 12}, \"96\": {\"96\": 9, \"121\": 1}, \"109\": {\"109\": 7, \"96\": 1, \"116\": 1, \"51\": 1, \"122\": 1, \"45\": 1}, \"18\": {\"18\": 12}, \"10\": {\"10\": 10, \"15\": 2}, \"34\": {\"34\": 11, \"72\": 1}, \"103\": {\"103\": 12}, \"82\": {\"82\": 10, \"32\": 1, \"55\": 1}, \"65\": {\"65\": 12}, \"50\": {\"50\": 12}, \"99\": {\"99\": 10}, \"97\": {\"97\": 12}, \"124\": {\"124\": 12}, \"17\": {\"17\": 12}, \"0\": {\"0\": 12}, \"7\": {\"7\": 12}, \"112\": {\"112\": 12}, \"118\": {\"118\": 10, \"108\": 1, \"8\": 1}, \"5\": {\"5\": 11, \"71\": 1}, \"38\": {\"38\": 12}, \"2\": {\"2\": 12}, \"122\": {\"122\": 11, \"18\": 1}, \"125\": {\"125\": 12}, \"49\": {\"49\": 12}, \"60\": {\"60\": 12}, \"70\": {\"70\": 11, \"108\": 1}, \"85\": {\"85\": 12}, \"98\": {\"98\": 11, \"85\": 1}, \"116\": {\"116\": 11, \"121\": 1}, \"30\": {\"30\": 11, \"1\": 1}, \"9\": {\"9\": 12}, \"4\": {\"4\": 10, \"105\": 1, \"86\": 1}, \"51\": {\"51\": 5, \"59\": 1, \"21\": 1, \"125\": 1, \"47\": 1, \"128\": 1, \"29\": 1, \"81\": 1}, \"93\": {\"93\": 12}, \"55\": {\"55\": 12}, \"44\": {\"44\": 12}, \"114\": {\"114\": 12}, \"31\": {\"31\": 12}, \"94\": {\"94\": 9, \"15\": 1, \"97\": 1, \"54\": 1}, \"91\": {\"91\": 8, \"128\": 1, \"78\": 1, \"21\": 1, \"28\": 1}, \"46\": {\"46\": 11, \"88\": 1}, \"32\": {\"37\": 1, \"32\": 11}, \"37\": {\"37\": 12}, \"52\": {\"52\": 12}, \"19\": {\"19\": 12}, \"105\": {\"105\": 10, \"100\": 1, \"115\": 1}, \"23\": {\"88\": 2, \"23\": 6, \"58\": 2, \"9\": 1, \"21\": 1}, \"74\": {\"74\": 12}, \"88\": {\"88\": 11, \"70\": 1}, \"45\": {\"45\": 12}, \"89\": {\"89\": 12}, \"48\": {\"48\": 12}, \"25\": {\"25\": 12}, \"13\": {\"13\": 11, \"21\": 1}, \"87\": {\"87\": 12}, \"121\": {\"121\": 10, \"123\": 2}, \"59\": {\"59\": 10, \"107\": 1, \"8\": 1}, \"58\": {\"58\": 11, \"77\": 1}, \"12\": {\"12\": 10, \"95\": 1, \"15\": 1}, \"107\": {\"107\": 12}, \"1\": {\"1\": 9, \"58\": 1, \"68\": 1, \"71\": 1}, \"57\": {\"57\": 9, \"96\": 1, \"115\": 2}, \"111\": {\"111\": 12}, \"33\": {\"33\": 12}, \"14\": {\"14\": 10, \"95\": 1, \"78\": 1}, \"84\": {\"84\": 12}, \"21\": {\"21\": 12}, \"104\": {\"104\": 12}, \"128\": {\"128\": 8, \"84\": 1, \"72\": 1, \"3\": 2}, \"72\": {\"72\": 11, \"78\": 1}, \"40\": {\"40\": 12}, \"102\": {\"102\": 8, \"78\": 1, \"122\": 2, \"5\": 1}, \"47\": {\"47\": 9, \"88\": 1, \"116\": 1, \"111\": 1}, \"43\": {\"78\": 1, \"43\": 11}, \"77\": {\"77\": 12}, \"110\": {\"110\": 12}, \"16\": {\"16\": 12}, \"106\": {\"106\": 10, \"21\": 1, \"1\": 1}, \"66\": {\"66\": 12}, \"73\": {\"73\": 10, \"42\": 1, \"101\": 1}, \"76\": {\"76\": 8, \"45\": 1, \"120\": 1}, \"79\": {\"79\": 10, \"115\": 1, \"99\": 1}, \"108\": {\"88\": 1, \"108\": 11}, \"64\": {\"64\": 10}, \"115\": {\"100\": 1, \"81\": 1, \"115\": 5, \"57\": 1}, \"81\": {\"81\": 12}, \"95\": {\"95\": 11, \"123\": 1}, \"63\": {\"63\": 8}, \"20\": {\"20\": 10}}, \"C_A_5\": {\"2\": {\"2\": 12}, \"35\": {\"35\": 12}, \"3\": {\"3\": 10, \"24\": 1, \"52\": 1}, \"18\": {\"18\": 12}, \"29\": {\"29\": 12}, \"24\": {\"24\": 12}, \"25\": {\"25\": 12}, \"17\": {\"17\": 12}, \"54\": {\"54\": 11, \"39\": 1}, \"28\": {\"28\": 12}, \"33\": {\"33\": 12}, \"55\": {\"55\": 10}, \"19\": {\"19\": 10}, \"20\": {\"20\": 12}, \"41\": {\"41\": 12}, \"48\": {\"48\": 7, \"1\": 1}, \"6\": {\"6\": 10, \"9\": 1, \"20\": 1}, \"49\": {\"49\": 12}, \"9\": {\"9\": 9, \"27\": 1}, \"42\": {\"42\": 11, \"25\": 1}, \"22\": {\"22\": 12}, \"38\": {\"38\": 12}, \"44\": {\"44\": 12}, \"47\": {\"47\": 12}, \"7\": {\"7\": 10}, \"8\": {\"8\": 12}, \"10\": {\"10\": 12}, \"0\": {\"0\": 12}, \"57\": {\"57\": 12}, \"16\": {\"16\": 10}, \"21\": {\"21\": 12}, \"27\": {\"27\": 12}, \"53\": {\"53\": 8}, \"32\": {\"32\": 12}, \"4\": {\"4\": 12}, \"37\": {\"37\": 10}, \"1\": {\"1\": 10, \"48\": 1, \"21\": 1}, \"39\": {\"39\": 10}, \"36\": {\"36\": 10}, \"12\": {\"12\": 12}, \"5\": {\"5\": 12}, \"26\": {\"26\": 12}, \"51\": {\"51\": 12}, \"14\": {\"14\": 5, \"31\": 2, \"46\": 1, \"39\": 2}, \"43\": {\"43\": 12}, \"31\": {\"31\": 12}, \"45\": {\"45\": 11, \"53\": 1}, \"15\": {\"15\": 8, \"11\": 2}, \"23\": {\"23\": 10}, \"30\": {\"30\": 12}, \"46\": {\"46\": 10, \"16\": 1, \"3\": 1}, \"52\": {\"52\": 12}, \"34\": {\"34\": 10}, \"11\": {\"11\": 10}, \"13\": {\"13\": 10}, \"50\": {\"50\": 6}, \"56\": {\"56\": 6}, \"40\": {\"40\": 4}}, \"ORACLE.run1_50\": {\"7\": {\"4\": 27, \"1\": 21, \"3\": 9, \"10\": 18, \"6\": 29, \"5\": 28, \"13\": 29, \"0\": 10, \"11\": 7, \"7\": 21, \"8\": 7, \"14\": 5, \"9\": 9, \"15\": 13, \"2\": 4, \"12\": 3}, \"10\": {\"6\": 8, \"8\": 28, \"5\": 25, \"2\": 23, \"7\": 18, \"4\": 5, \"9\": 6, \"10\": 19, \"14\": 8, \"3\": 23, \"0\": 35, \"1\": 9, \"13\": 21, \"11\": 6, \"15\": 4, \"12\": 2}, \"0\": {\"4\": 12, \"8\": 36, \"10\": 29, \"0\": 32, \"9\": 4, \"7\": 9, \"2\": 34, \"14\": 12, \"3\": 19, \"11\": 5, \"1\": 8, \"5\": 8, \"15\": 5, \"13\": 10, \"6\": 8, \"12\": 9}, \"11\": {\"4\": 18, \"9\": 28, \"5\": 13, \"7\": 15, \"11\": 37, \"15\": 22, \"12\": 24, \"13\": 15, \"2\": 6, \"0\": 7, \"14\": 16, \"1\": 23, \"10\": 2, \"6\": 14}, \"2\": {\"2\": 59, \"8\": 26, \"0\": 40, \"5\": 6, \"12\": 20, \"13\": 10, \"14\": 19, \"6\": 8, \"1\": 6, \"3\": 8, \"4\": 5, \"15\": 3, \"7\": 6, \"10\": 12, \"9\": 9, \"11\": 3}, \"14\": {\"0\": 20, \"8\": 6, \"2\": 22, \"14\": 35, \"12\": 30, \"5\": 5, \"6\": 13, \"7\": 11, \"9\": 31, \"13\": 12, \"1\": 12, \"10\": 9, \"11\": 13, \"15\": 11, \"4\": 10}, \"9\": {\"14\": 26, \"6\": 15, \"5\": 13, \"9\": 39, \"12\": 27, \"11\": 29, \"0\": 6, \"15\": 21, \"1\": 28, \"2\": 5, \"13\": 7, \"4\": 17, \"10\": 2, \"7\": 5}, \"13\": {\"4\": 21, \"6\": 23, \"13\": 25, \"2\": 9, \"1\": 18, \"0\": 15, \"15\": 18, \"10\": 20, \"14\": 8, \"5\": 27, \"7\": 28, \"8\": 9, \"11\": 8, \"9\": 3, \"3\": 6, \"12\": 2}, \"8\": {\"2\": 41, \"13\": 5, \"0\": 41, \"7\": 9, \"8\": 56, \"3\": 31, \"4\": 4, \"10\": 32, \"12\": 4, \"14\": 4, \"5\": 5, \"6\": 4, \"15\": 2, \"11\": 1, \"9\": 1}, \"15\": {\"14\": 15, \"15\": 32, \"12\": 5, \"5\": 27, \"7\": 30, \"1\": 22, \"13\": 16, \"11\": 17, \"6\": 24, \"10\": 4, \"9\": 18, \"4\": 26, \"0\": 2, \"2\": 1, \"8\": 1}, \"4\": {\"4\": 28, \"1\": 34, \"13\": 22, \"5\": 26, \"7\": 12, \"15\": 26, \"6\": 20, \"9\": 17, \"14\": 14, \"0\": 4, \"11\": 19, \"10\": 9, \"2\": 2, \"12\": 7}, \"5\": {\"4\": 21, \"5\": 31, \"6\": 25, \"10\": 18, \"13\": 23, \"1\": 22, \"9\": 6, \"8\": 5, \"15\": 14, \"3\": 10, \"0\": 11, \"7\": 35, \"14\": 4, \"12\": 3, \"2\": 3, \"11\": 9}, \"3\": {\"8\": 46, \"5\": 11, \"3\": 73, \"6\": 4, \"0\": 27, \"13\": 13, \"7\": 14, \"12\": 1, \"10\": 32, \"2\": 11, \"1\": 2, \"14\": 1, \"4\": 1, \"11\": 2, \"15\": 1, \"9\": 1}, \"1\": {\"14\": 12, \"4\": 21, \"6\": 23, \"5\": 16, \"7\": 15, \"2\": 4, \"12\": 10, \"11\": 14, \"13\": 21, \"9\": 27, \"1\": 28, \"10\": 17, \"15\": 18, \"8\": 4, \"0\": 9, \"3\": 1}, \"6\": {\"1\": 23, \"4\": 23, \"13\": 25, \"6\": 25, \"5\": 18, \"0\": 6, \"14\": 12, \"15\": 27, \"9\": 16, \"12\": 9, \"7\": 26, \"10\": 14, \"8\": 5, \"11\": 10, \"2\": 1}, \"12\": {\"12\": 51, \"0\": 15, \"4\": 7, \"14\": 37, \"9\": 37, \"7\": 2, \"15\": 5, \"5\": 3, \"2\": 25, \"11\": 21, \"10\": 8, \"1\": 11, \"13\": 5, \"6\": 9, \"8\": 4}}, \"ORACLE.run1_14\": {\"14\": {\"14\": 29, \"3\": 22, \"13\": 33, \"10\": 21, \"11\": 22, \"6\": 28, \"0\": 17, \"2\": 21, \"5\": 12, \"1\": 10, \"15\": 4, \"12\": 1, \"4\": 12, \"7\": 5, \"9\": 3}, \"6\": {\"6\": 40, \"11\": 6, \"14\": 47, \"2\": 28, \"0\": 11, \"3\": 16, \"13\": 33, \"10\": 19, \"7\": 8, \"9\": 1, \"15\": 9, \"5\": 9, \"4\": 11, \"1\": 2}, \"5\": {\"8\": 4, \"4\": 32, \"6\": 14, \"5\": 14, \"1\": 28, \"3\": 16, \"2\": 21, \"7\": 23, \"11\": 8, \"0\": 26, \"14\": 13, \"10\": 13, \"15\": 12, \"12\": 1, \"9\": 5, \"13\": 10}, \"15\": {\"2\": 18, \"5\": 23, \"15\": 56, \"7\": 43, \"14\": 11, \"13\": 22, \"6\": 8, \"4\": 24, \"1\": 17, \"11\": 1, \"3\": 8, \"10\": 4, \"8\": 2, \"0\": 3}, \"11\": {\"3\": 36, \"4\": 9, \"7\": 5, \"10\": 25, \"1\": 14, \"9\": 19, \"6\": 3, \"11\": 36, \"2\": 5, \"12\": 12, \"5\": 10, \"14\": 16, \"13\": 10, \"0\": 34, \"8\": 6}, \"8\": {\"12\": 27, \"8\": 72, \"7\": 17, \"11\": 9, \"5\": 13, \"9\": 29, \"1\": 18, \"15\": 8, \"4\": 17, \"14\": 3, \"10\": 8, \"2\": 2, \"3\": 8, \"0\": 8, \"6\": 1}, \"12\": {\"8\": 26, \"12\": 73, \"9\": 57, \"10\": 17, \"0\": 16, \"5\": 4, \"11\": 24, \"3\": 12, \"1\": 7, \"4\": 2, \"6\": 1, \"14\": 1}, \"1\": {\"8\": 21, \"1\": 23, \"9\": 6, \"10\": 12, \"6\": 9, \"3\": 26, \"5\": 24, \"7\": 18, \"12\": 6, \"15\": 21, \"4\": 28, \"11\": 10, \"0\": 16, \"2\": 10, \"13\": 5, \"14\": 5}, \"2\": {\"11\": 12, \"7\": 10, \"3\": 27, \"2\": 30, \"6\": 25, \"13\": 31, \"14\": 22, \"0\": 14, \"5\": 10, \"10\": 19, \"1\": 15, \"4\": 10, \"15\": 11, \"9\": 1, \"8\": 3}, \"13\": {\"4\": 16, \"13\": 39, \"6\": 40, \"3\": 14, \"2\": 27, \"14\": 24, \"11\": 11, \"7\": 8, \"5\": 16, \"10\": 13, \"0\": 13, \"15\": 9, \"1\": 9, \"8\": 1}, \"3\": {\"15\": 11, \"5\": 34, \"3\": 22, \"8\": 5, \"0\": 19, \"10\": 22, \"11\": 25, \"2\": 12, \"13\": 15, \"9\": 7, \"7\": 7, \"1\": 20, \"6\": 13, \"12\": 1, \"14\": 11, \"4\": 16}, \"0\": {\"0\": 28, \"8\": 7, \"7\": 4, \"12\": 10, \"10\": 27, \"9\": 17, \"11\": 26, \"14\": 15, \"2\": 11, \"3\": 24, \"1\": 18, \"4\": 14, \"5\": 16, \"13\": 9, \"15\": 7, \"6\": 7}, \"9\": {\"12\": 50, \"4\": 6, \"14\": 4, \"10\": 14, \"0\": 13, \"8\": 28, \"3\": 15, \"11\": 29, \"5\": 8, \"1\": 13, \"9\": 51, \"2\": 4, \"7\": 2, \"13\": 2, \"15\": 1}, \"4\": {\"1\": 20, \"6\": 14, \"7\": 15, \"0\": 28, \"3\": 18, \"10\": 14, \"5\": 21, \"2\": 15, \"13\": 13, \"4\": 29, \"12\": 2, \"15\": 11, \"14\": 6, \"11\": 17, \"9\": 9, \"8\": 8}, \"7\": {\"4\": 20, \"1\": 29, \"15\": 44, \"7\": 48, \"0\": 4, \"3\": 13, \"2\": 16, \"5\": 24, \"6\": 5, \"13\": 10, \"8\": 10, \"14\": 8, \"9\": 2, \"11\": 2, \"10\": 5}, \"10\": {\"9\": 13, \"14\": 18, \"5\": 8, \"1\": 13, \"2\": 12, \"0\": 33, \"10\": 29, \"3\": 22, \"6\": 7, \"11\": 35, \"13\": 14, \"12\": 7, \"4\": 19, \"8\": 5, \"7\": 2, \"15\": 3}}, \"ORACLE.run1_32\": {\"4\": {\"0\": 28, \"2\": 38, \"3\": 10, \"4\": 26, \"7\": 24, \"8\": 20, \"9\": 15, \"5\": 24, \"13\": 27, \"14\": 14, \"11\": 13, \"12\": 1}, \"14\": {\"2\": 31, \"7\": 32, \"4\": 19, \"3\": 9, \"0\": 19, \"14\": 35, \"5\": 22, \"11\": 37, \"13\": 21, \"9\": 1, \"8\": 14}, \"5\": {\"13\": 22, \"8\": 29, \"11\": 15, \"5\": 39, \"14\": 20, \"4\": 19, \"7\": 27, \"15\": 6, \"2\": 26, \"0\": 21, \"3\": 12, \"9\": 3, \"12\": 1}, \"10\": {\"6\": 28, \"12\": 48, \"10\": 96, \"1\": 64, \"9\": 4}, \"13\": {\"5\": 26, \"3\": 20, \"9\": 4, \"8\": 31, \"7\": 21, \"13\": 31, \"14\": 19, \"15\": 11, \"4\": 25, \"2\": 15, \"0\": 24, \"11\": 12, \"12\": 1}, \"9\": {\"9\": 69, \"4\": 13, \"7\": 11, \"0\": 17, \"14\": 6, \"2\": 29, \"12\": 43, \"10\": 11, \"6\": 20, \"11\": 7, \"8\": 6, \"5\": 3, \"13\": 4, \"1\": 1}, \"6\": {\"6\": 110, \"9\": 27, \"1\": 35, \"10\": 32, \"12\": 34, \"2\": 2}, \"3\": {\"15\": 28, \"8\": 34, \"0\": 11, \"13\": 37, \"11\": 16, \"3\": 56, \"5\": 22, \"14\": 11, \"4\": 11, \"2\": 7, \"7\": 7}, \"15\": {\"15\": 151, \"13\": 16, \"11\": 2, \"8\": 18, \"3\": 47, \"5\": 5, \"4\": 1}, \"7\": {\"8\": 15, \"2\": 41, \"13\": 18, \"4\": 20, \"5\": 14, \"0\": 25, \"3\": 11, \"7\": 28, \"11\": 29, \"14\": 28, \"9\": 9, \"12\": 2}, \"12\": {\"6\": 37, \"9\": 48, \"12\": 68, \"10\": 44, \"1\": 16, \"0\": 8, \"13\": 2, \"8\": 2, \"4\": 4, \"7\": 3, \"14\": 1, \"2\": 6, \"5\": 1}, \"8\": {\"7\": 12, \"8\": 36, \"9\": 3, \"5\": 30, \"15\": 12, \"2\": 10, \"3\": 21, \"11\": 18, \"13\": 40, \"0\": 16, \"14\": 19, \"4\": 22, \"12\": 1}, \"11\": {\"11\": 42, \"2\": 26, \"14\": 36, \"0\": 26, \"4\": 19, \"7\": 25, \"3\": 12, \"5\": 16, \"8\": 17, \"13\": 21}, \"2\": {\"2\": 41, \"5\": 22, \"7\": 22, \"4\": 37, \"14\": 27, \"0\": 21, \"8\": 11, \"11\": 20, \"9\": 19, \"13\": 10, \"12\": 5, \"3\": 3, \"10\": 2}, \"1\": {\"1\": 93, \"10\": 87, \"6\": 35, \"12\": 21, \"9\": 3, \"2\": 1}, \"0\": {\"14\": 28, \"11\": 23, \"12\": 1, \"0\": 33, \"8\": 20, \"5\": 25, \"7\": 24, \"13\": 19, \"9\": 4, \"2\": 22, \"4\": 28, \"3\": 11, \"15\": 2}}, \"ORACLE.run1_44\": {\"8\": {\"0\": 66, \"15\": 34, \"8\": 72, \"5\": 31, \"14\": 23, \"4\": 12, \"3\": 2}, \"11\": {\"11\": 51, \"9\": 22, \"7\": 16, \"6\": 53, \"10\": 20, \"13\": 39, \"2\": 22, \"14\": 5, \"12\": 6, \"1\": 3, \"4\": 1, \"3\": 2}, \"14\": {\"0\": 22, \"15\": 39, \"4\": 39, \"3\": 16, \"5\": 39, \"10\": 2, \"8\": 14, \"7\": 2, \"14\": 41, \"9\": 10, \"1\": 4, \"12\": 7, \"13\": 1, \"2\": 4}, \"10\": {\"1\": 25, \"11\": 14, \"10\": 42, \"9\": 31, \"12\": 28, \"6\": 22, \"3\": 11, \"2\": 29, \"7\": 19, \"13\": 19}, \"3\": {\"12\": 31, \"7\": 17, \"3\": 61, \"14\": 12, \"2\": 10, \"9\": 15, \"4\": 22, \"15\": 6, \"0\": 1, \"10\": 13, \"1\": 32, \"5\": 4, \"13\": 9, \"6\": 3, \"8\": 2, \"11\": 2}, \"15\": {\"15\": 42, \"0\": 48, \"8\": 47, \"5\": 33, \"4\": 22, \"3\": 13, \"14\": 30, \"12\": 3, \"10\": 1, \"9\": 1}, \"2\": {\"12\": 19, \"6\": 29, \"2\": 33, \"1\": 15, \"9\": 26, \"13\": 15, \"11\": 22, \"10\": 33, \"3\": 11, \"7\": 32, \"14\": 1, \"4\": 4}, \"12\": {\"3\": 40, \"12\": 54, \"1\": 43, \"2\": 19, \"9\": 20, \"10\": 25, \"7\": 17, \"14\": 2, \"11\": 5, \"13\": 6, \"4\": 4, \"6\": 5}, \"4\": {\"14\": 51, \"12\": 9, \"1\": 10, \"4\": 38, \"0\": 12, \"3\": 19, \"9\": 15, \"2\": 5, \"13\": 7, \"8\": 9, \"5\": 31, \"7\": 8, \"15\": 21, \"10\": 2, \"11\": 2, \"6\": 1}, \"1\": {\"4\": 6, \"1\": 41, \"2\": 24, \"12\": 48, \"10\": 27, \"14\": 6, \"3\": 33, \"13\": 13, \"5\": 3, \"7\": 11, \"6\": 5, \"9\": 19, \"11\": 3, \"15\": 1}, \"0\": {\"0\": 47, \"14\": 19, \"15\": 52, \"8\": 59, \"5\": 45, \"1\": 1, \"4\": 14, \"9\": 1, \"13\": 2}, \"9\": {\"13\": 31, \"11\": 15, \"2\": 35, \"1\": 15, \"14\": 6, \"9\": 37, \"7\": 30, \"6\": 21, \"10\": 14, \"12\": 14, \"3\": 12, \"4\": 9, \"5\": 1}, \"5\": {\"0\": 38, \"5\": 63, \"4\": 33, \"14\": 42, \"8\": 23, \"3\": 5, \"15\": 27, \"13\": 2, \"11\": 1, \"1\": 2, \"9\": 2, \"7\": 1, \"10\": 1}, \"6\": {\"2\": 24, \"9\": 32, \"6\": 60, \"11\": 38, \"13\": 44, \"7\": 15, \"10\": 10, \"5\": 1, \"12\": 5, \"1\": 6, \"3\": 3, \"4\": 2}, \"7\": {\"11\": 18, \"2\": 27, \"7\": 32, \"6\": 26, \"12\": 18, \"13\": 26, \"10\": 27, \"4\": 2, \"1\": 22, \"3\": 14, \"9\": 26, \"14\": 2}, \"13\": {\"11\": 29, \"12\": 12, \"2\": 28, \"13\": 29, \"14\": 8, \"7\": 26, \"4\": 3, \"9\": 35, \"6\": 39, \"10\": 16, \"1\": 11, \"3\": 4}}, \"ORACLE.run1_8\": {\"13\": {\"6\": 17, \"1\": 14, \"14\": 22, \"4\": 17, \"7\": 21, \"11\": 13, \"12\": 6, \"0\": 29, \"13\": 26, \"3\": 7, \"2\": 8, \"15\": 6, \"8\": 7, \"10\": 24, \"9\": 7, \"5\": 16}, \"3\": {\"13\": 14, \"15\": 15, \"2\": 35, \"4\": 10, \"10\": 12, \"3\": 28, \"7\": 21, \"11\": 11, \"14\": 16, \"8\": 18, \"12\": 21, \"6\": 10, \"0\": 15, \"5\": 5, \"1\": 9}, \"15\": {\"11\": 28, \"12\": 20, \"15\": 33, \"7\": 16, \"2\": 9, \"5\": 11, \"6\": 20, \"3\": 14, \"4\": 10, \"1\": 20, \"10\": 8, \"14\": 15, \"0\": 9, \"13\": 6, \"8\": 21}, \"4\": {\"7\": 22, \"10\": 11, \"4\": 28, \"11\": 14, \"1\": 19, \"0\": 19, \"13\": 15, \"15\": 8, \"14\": 26, \"5\": 16, \"12\": 6, \"6\": 29, \"2\": 11, \"8\": 4, \"3\": 12}, \"7\": {\"13\": 21, \"12\": 10, \"8\": 4, \"10\": 26, \"14\": 23, \"3\": 11, \"11\": 11, \"7\": 19, \"6\": 18, \"2\": 11, \"5\": 16, \"0\": 19, \"4\": 22, \"15\": 10, \"1\": 19}, \"2\": {\"13\": 10, \"3\": 30, \"8\": 11, \"11\": 8, \"7\": 28, \"2\": 30, \"0\": 22, \"10\": 13, \"15\": 9, \"14\": 23, \"12\": 15, \"5\": 4, \"4\": 7, \"6\": 20, \"1\": 10}, \"1\": {\"8\": 20, \"12\": 14, \"1\": 24, \"4\": 18, \"11\": 22, \"5\": 20, \"14\": 22, \"6\": 22, \"10\": 12, \"7\": 14, \"2\": 8, \"15\": 17, \"0\": 11, \"3\": 5, \"13\": 11}, \"0\": {\"10\": 21, \"5\": 14, \"8\": 6, \"11\": 7, \"0\": 39, \"7\": 27, \"4\": 20, \"6\": 23, \"15\": 5, \"3\": 12, \"13\": 15, \"14\": 21, \"1\": 8, \"12\": 5, \"2\": 13, \"9\": 4}, \"12\": {\"2\": 12, \"1\": 21, \"8\": 27, \"0\": 8, \"12\": 28, \"11\": 14, \"6\": 14, \"14\": 12, \"5\": 10, \"15\": 26, \"4\": 13, \"10\": 9, \"7\": 13, \"3\": 21, \"13\": 12}, \"6\": {\"11\": 16, \"13\": 17, \"15\": 11, \"4\": 20, \"7\": 27, \"1\": 13, \"14\": 20, \"2\": 11, \"0\": 22, \"10\": 22, \"5\": 18, \"8\": 7, \"3\": 8, \"6\": 18, \"12\": 8, \"9\": 2}, \"11\": {\"12\": 10, \"11\": 35, \"4\": 23, \"1\": 22, \"15\": 13, \"7\": 11, \"2\": 10, \"5\": 23, \"13\": 16, \"14\": 22, \"10\": 14, \"3\": 4, \"6\": 13, \"8\": 19, \"0\": 5}, \"9\": {\"9\": 125, \"0\": 25, \"10\": 18, \"8\": 1, \"13\": 15, \"14\": 13, \"6\": 6, \"5\": 12, \"4\": 10, \"7\": 8, \"1\": 5, \"2\": 2}, \"5\": {\"0\": 22, \"13\": 18, \"4\": 23, \"15\": 9, \"1\": 16, \"10\": 20, \"6\": 18, \"5\": 35, \"14\": 22, \"7\": 23, \"3\": 3, \"8\": 12, \"12\": 8, \"2\": 4, \"11\": 7}, \"10\": {\"0\": 22, \"4\": 14, \"10\": 31, \"15\": 9, \"14\": 16, \"5\": 18, \"2\": 11, \"1\": 14, \"3\": 13, \"6\": 16, \"11\": 10, \"7\": 28, \"12\": 6, \"8\": 8, \"13\": 19, \"9\": 5}, \"14\": {\"11\": 16, \"14\": 21, \"4\": 31, \"8\": 8, \"15\": 12, \"10\": 25, \"2\": 12, \"13\": 23, \"0\": 22, \"1\": 9, \"5\": 15, \"3\": 8, \"6\": 11, \"7\": 18, \"9\": 1, \"12\": 8}, \"8\": {\"6\": 21, \"12\": 28, \"4\": 11, \"15\": 21, \"5\": 8, \"2\": 11, \"1\": 19, \"13\": 5, \"11\": 34, \"14\": 16, \"10\": 10, \"8\": 20, \"3\": 18, \"7\": 9, \"0\": 9}}, \"ORACLE.run1_20\": {\"6\": {\"6\": 29, \"0\": 10, \"5\": 15, \"10\": 16, \"14\": 30, \"4\": 27, \"11\": 6, \"2\": 16, \"8\": 25, \"7\": 15, \"12\": 10, \"9\": 15, \"1\": 7, \"3\": 10, \"15\": 6, \"13\": 3}, \"11\": {\"1\": 19, \"2\": 15, \"11\": 50, \"5\": 12, \"13\": 27, \"10\": 6, \"12\": 8, \"9\": 19, \"7\": 18, \"0\": 17, \"4\": 7, \"3\": 13, \"15\": 9, \"8\": 9, \"6\": 7, \"14\": 4}, \"5\": {\"12\": 24, \"2\": 29, \"5\": 16, \"8\": 14, \"6\": 10, \"15\": 21, \"13\": 12, \"0\": 17, \"7\": 16, \"11\": 6, \"14\": 11, \"4\": 13, \"9\": 13, \"10\": 8, \"3\": 19, \"1\": 11}, \"14\": {\"14\": 38, \"2\": 7, \"6\": 25, \"8\": 21, \"7\": 22, \"10\": 26, \"9\": 11, \"4\": 27, \"0\": 8, \"11\": 3, \"15\": 7, \"1\": 6, \"12\": 9, \"5\": 8, \"3\": 17, \"13\": 5}, \"2\": {\"11\": 21, \"1\": 12, \"9\": 20, \"10\": 9, \"13\": 20, \"12\": 20, \"2\": 22, \"5\": 24, \"15\": 16, \"7\": 18, \"3\": 20, \"4\": 4, \"6\": 7, \"0\": 12, \"8\": 11, \"14\": 4}, \"7\": {\"8\": 20, \"2\": 14, \"0\": 20, \"12\": 15, \"9\": 17, \"10\": 14, \"5\": 20, \"4\": 15, \"15\": 11, \"3\": 22, \"7\": 15, \"6\": 11, \"1\": 13, \"14\": 12, \"13\": 19, \"11\": 2}, \"3\": {\"6\": 16, \"4\": 22, \"13\": 13, \"5\": 18, \"8\": 10, \"15\": 18, \"14\": 10, \"7\": 19, \"1\": 14, \"3\": 27, \"2\": 19, \"0\": 11, \"12\": 20, \"9\": 10, \"10\": 9, \"11\": 4}, \"4\": {\"1\": 10, \"6\": 22, \"9\": 17, \"15\": 12, \"8\": 22, \"4\": 24, \"10\": 25, \"3\": 21, \"14\": 10, \"0\": 15, \"2\": 11, \"12\": 16, \"13\": 4, \"7\": 17, \"5\": 13, \"11\": 1}, \"9\": {\"5\": 6, \"7\": 19, \"2\": 18, \"3\": 26, \"4\": 12, \"12\": 20, \"1\": 18, \"9\": 19, \"15\": 19, \"11\": 9, \"13\": 22, \"14\": 7, \"6\": 15, \"0\": 14, \"8\": 9, \"10\": 7}, \"12\": {\"6\": 14, \"1\": 15, \"2\": 19, \"13\": 16, \"15\": 17, \"0\": 14, \"4\": 16, \"7\": 20, \"5\": 17, \"9\": 13, \"12\": 22, \"14\": 7, \"3\": 18, \"8\": 13, \"11\": 11, \"10\": 8}, \"0\": {\"14\": 7, \"9\": 22, \"0\": 22, \"5\": 23, \"15\": 15, \"2\": 12, \"1\": 13, \"4\": 15, \"8\": 13, \"7\": 19, \"12\": 23, \"11\": 7, \"3\": 16, \"6\": 16, \"10\": 3, \"13\": 14}, \"10\": {\"2\": 12, \"14\": 28, \"4\": 39, \"3\": 11, \"8\": 20, \"11\": 5, \"0\": 10, \"12\": 22, \"10\": 24, \"13\": 8, \"7\": 14, \"1\": 4, \"9\": 9, \"5\": 9, \"6\": 21, \"15\": 4}, \"8\": {\"2\": 17, \"6\": 15, \"13\": 14, \"5\": 15, \"3\": 21, \"15\": 9, \"4\": 25, \"0\": 19, \"14\": 20, \"8\": 21, \"11\": 4, \"12\": 16, \"9\": 7, \"7\": 19, \"10\": 16, \"1\": 2}, \"13\": {\"5\": 21, \"1\": 19, \"3\": 15, \"12\": 16, \"15\": 21, \"13\": 20, \"2\": 24, \"9\": 9, \"0\": 25, \"4\": 7, \"7\": 23, \"11\": 17, \"10\": 4, \"6\": 9, \"8\": 5, \"14\": 5}, \"1\": {\"1\": 20, \"5\": 17, \"4\": 11, \"15\": 18, \"13\": 22, \"3\": 16, \"12\": 16, \"9\": 16, \"11\": 8, \"7\": 16, \"2\": 21, \"0\": 19, \"14\": 12, \"10\": 6, \"6\": 12, \"8\": 10}, \"15\": {\"5\": 24, \"3\": 16, \"2\": 20, \"9\": 17, \"13\": 27, \"15\": 24, \"0\": 15, \"12\": 17, \"1\": 15, \"4\": 11, \"8\": 7, \"10\": 6, \"6\": 10, \"7\": 21, \"11\": 6, \"14\": 4}}, \"ORACLE.run1_38\": {\"3\": {\"9\": 43, \"13\": 7, \"7\": 15, \"3\": 64, \"0\": 21, \"6\": 23, \"15\": 8, \"5\": 19, \"11\": 1, \"1\": 9, \"8\": 20, \"10\": 7, \"12\": 3}, \"8\": {\"13\": 21, \"10\": 19, \"7\": 16, \"11\": 5, \"8\": 27, \"9\": 8, \"0\": 29, \"3\": 7, \"15\": 18, \"14\": 14, \"1\": 7, \"6\": 15, \"5\": 35, \"12\": 11, \"2\": 6, \"4\": 2}, \"0\": {\"9\": 9, \"12\": 12, \"10\": 19, \"14\": 11, \"7\": 34, \"11\": 7, \"8\": 31, \"0\": 27, \"1\": 5, \"3\": 20, \"5\": 20, \"2\": 5, \"15\": 8, \"4\": 4, \"6\": 17, \"13\": 11}, \"2\": {\"13\": 16, \"10\": 11, \"14\": 29, \"1\": 26, \"5\": 18, \"7\": 4, \"15\": 41, \"11\": 9, \"0\": 3, \"2\": 47, \"8\": 12, \"6\": 15, \"9\": 6, \"3\": 1, \"12\": 2}, \"4\": {\"7\": 17, \"4\": 126, \"12\": 66, \"11\": 11, \"0\": 8, \"10\": 7, \"14\": 4, \"5\": 1}, \"7\": {\"7\": 50, \"9\": 5, \"0\": 32, \"1\": 2, \"14\": 3, \"6\": 8, \"10\": 19, \"3\": 15, \"8\": 25, \"4\": 11, \"2\": 6, \"12\": 20, \"15\": 10, \"11\": 4, \"5\": 23, \"13\": 7}, \"12\": {\"12\": 112, \"4\": 51, \"14\": 20, \"5\": 3, \"10\": 12, \"7\": 11, \"11\": 16, \"0\": 7, \"8\": 3, \"2\": 4, \"15\": 1}, \"6\": {\"6\": 42, \"9\": 42, \"13\": 26, \"3\": 5, \"8\": 14, \"7\": 3, \"1\": 32, \"5\": 22, \"0\": 14, \"2\": 18, \"14\": 2, \"10\": 4, \"15\": 14, \"12\": 2}, \"15\": {\"13\": 14, \"0\": 11, \"12\": 4, \"1\": 18, \"15\": 34, \"8\": 26, \"9\": 18, \"2\": 31, \"7\": 6, \"10\": 14, \"14\": 15, \"5\": 23, \"6\": 18, \"11\": 6, \"3\": 2}, \"11\": {\"4\": 8, \"5\": 9, \"12\": 26, \"14\": 49, \"0\": 9, \"7\": 11, \"11\": 66, \"6\": 2, \"10\": 29, \"8\": 12, \"3\": 2, \"2\": 10, \"15\": 2, \"13\": 3, \"1\": 1, \"9\": 1}, \"9\": {\"8\": 11, \"1\": 30, \"6\": 41, \"9\": 40, \"5\": 21, \"13\": 22, \"3\": 22, \"0\": 19, \"7\": 9, \"15\": 17, \"2\": 7, \"10\": 1}, \"14\": {\"8\": 13, \"14\": 66, \"15\": 12, \"12\": 29, \"10\": 31, \"11\": 27, \"0\": 6, \"7\": 9, \"4\": 8, \"6\": 1, \"2\": 20, \"5\": 3, \"13\": 12, \"1\": 2, \"9\": 1}, \"10\": {\"15\": 7, \"13\": 15, \"14\": 30, \"10\": 39, \"8\": 27, \"7\": 28, \"9\": 9, \"12\": 13, \"1\": 6, \"11\": 15, \"2\": 16, \"6\": 5, \"0\": 12, \"5\": 14, \"4\": 3, \"3\": 1}, \"5\": {\"5\": 37, \"15\": 22, \"12\": 6, \"13\": 17, \"6\": 18, \"14\": 12, \"9\": 14, \"7\": 20, \"0\": 22, \"8\": 18, \"10\": 17, \"2\": 15, \"3\": 9, \"1\": 13}, \"1\": {\"15\": 33, \"1\": 41, \"13\": 31, \"5\": 16, \"2\": 28, \"6\": 33, \"8\": 10, \"3\": 2, \"9\": 23, \"7\": 1, \"12\": 2, \"10\": 5, \"14\": 10, \"0\": 4, \"11\": 1}, \"13\": {\"1\": 27, \"13\": 31, \"5\": 26, \"8\": 20, \"15\": 29, \"6\": 23, \"9\": 12, \"2\": 27, \"0\": 9, \"3\": 4, \"12\": 4, \"10\": 16, \"14\": 6, \"7\": 5, \"11\": 1}}, \"ORACLE.run1_26\": {\"5\": {\"13\": 26, \"5\": 40, \"3\": 20, \"1\": 8, \"2\": 15, \"15\": 18, \"0\": 8, \"7\": 13, \"9\": 21, \"8\": 6, \"6\": 15, \"11\": 17, \"14\": 7, \"12\": 13, \"10\": 7, \"4\": 6}, \"8\": {\"13\": 11, \"0\": 18, \"3\": 14, \"4\": 12, \"6\": 23, \"7\": 19, \"2\": 14, \"5\": 11, \"10\": 28, \"12\": 11, \"8\": 18, \"9\": 11, \"15\": 18, \"1\": 18, \"14\": 11, \"11\": 3}, \"4\": {\"0\": 25, \"2\": 21, \"10\": 24, \"3\": 9, \"9\": 14, \"4\": 18, \"14\": 20, \"7\": 22, \"8\": 17, \"6\": 22, \"15\": 8, \"1\": 22, \"13\": 9, \"5\": 3, \"12\": 6}, \"12\": {\"12\": 44, \"11\": 22, \"10\": 23, \"15\": 17, \"8\": 10, \"6\": 15, \"9\": 23, \"5\": 16, \"13\": 19, \"1\": 3, \"14\": 11, \"0\": 6, \"4\": 8, \"7\": 8, \"2\": 9, \"3\": 6}, \"6\": {\"2\": 17, \"8\": 21, \"14\": 12, \"12\": 21, \"13\": 10, \"0\": 11, \"15\": 21, \"1\": 14, \"7\": 17, \"9\": 21, \"10\": 13, \"6\": 17, \"3\": 11, \"4\": 16, \"5\": 14, \"11\": 4}, \"7\": {\"2\": 19, \"7\": 20, \"12\": 9, \"13\": 7, \"0\": 12, \"5\": 12, \"6\": 17, \"3\": 16, \"4\": 26, \"10\": 17, \"8\": 15, \"14\": 21, \"9\": 16, \"1\": 18, \"15\": 14, \"11\": 1}, \"10\": {\"14\": 20, \"7\": 22, \"3\": 12, \"15\": 21, \"5\": 13, \"6\": 25, \"8\": 18, \"4\": 20, \"0\": 13, \"9\": 9, \"2\": 11, \"10\": 18, \"1\": 14, \"12\": 16, \"11\": 1, \"13\": 7}, \"0\": {\"3\": 9, \"0\": 26, \"7\": 14, \"10\": 25, \"8\": 15, \"15\": 19, \"4\": 23, \"14\": 26, \"6\": 25, \"2\": 13, \"9\": 8, \"1\": 20, \"5\": 7, \"12\": 7, \"13\": 2, \"11\": 1}, \"15\": {\"0\": 19, \"5\": 21, \"2\": 14, \"13\": 14, \"8\": 18, \"10\": 13, \"12\": 9, \"4\": 19, \"7\": 17, \"9\": 24, \"15\": 21, \"6\": 13, \"3\": 17, \"14\": 8, \"1\": 6, \"11\": 7}, \"9\": {\"5\": 20, \"7\": 19, \"8\": 18, \"2\": 22, \"13\": 19, \"1\": 11, \"0\": 13, \"11\": 10, \"3\": 16, \"12\": 13, \"14\": 5, \"6\": 20, \"15\": 14, \"9\": 27, \"10\": 10, \"4\": 3}, \"11\": {\"12\": 38, \"10\": 6, \"11\": 92, \"8\": 7, \"5\": 23, \"15\": 17, \"2\": 4, \"13\": 28, \"14\": 1, \"6\": 5, \"9\": 8, \"7\": 5, \"0\": 4, \"3\": 1, \"1\": 1}, \"14\": {\"1\": 16, \"4\": 26, \"7\": 18, \"14\": 33, \"15\": 12, \"3\": 18, \"6\": 14, \"0\": 22, \"2\": 22, \"8\": 20, \"10\": 19, \"9\": 7, \"12\": 7, \"13\": 1, \"5\": 5}, \"2\": {\"6\": 16, \"13\": 16, \"4\": 11, \"8\": 14, \"0\": 12, \"5\": 24, \"9\": 21, \"15\": 19, \"2\": 23, \"7\": 16, \"1\": 12, \"12\": 10, \"3\": 20, \"14\": 9, \"10\": 14, \"11\": 3}, \"13\": {\"10\": 10, \"5\": 35, \"2\": 23, \"9\": 31, \"12\": 15, \"13\": 26, \"0\": 7, \"11\": 24, \"15\": 17, \"7\": 12, \"6\": 11, \"8\": 10, \"1\": 6, \"14\": 3, \"4\": 7, \"3\": 3}, \"3\": {\"0\": 14, \"2\": 12, \"3\": 30, \"9\": 22, \"12\": 4, \"4\": 12, \"7\": 21, \"13\": 18, \"15\": 25, \"10\": 11, \"5\": 22, \"1\": 12, \"14\": 8, \"6\": 17, \"11\": 4, \"8\": 8}, \"1\": {\"0\": 18, \"10\": 26, \"1\": 30, \"7\": 22, \"14\": 17, \"4\": 22, \"2\": 17, \"12\": 2, \"8\": 20, \"5\": 13, \"15\": 14, \"3\": 13, \"13\": 3, \"6\": 17, \"9\": 6}}}, \"per_domain_accuracy\": {\"W_A_3\": {\"accuracy\": 0.9361702127659575, \"source?\": true}, \"C_A_4\": {\"accuracy\": 0.9734375, \"source?\": true}, \"C_A_2\": {\"accuracy\": 0.9875, \"source?\": true}, \"W_A_2\": {\"accuracy\": 0.9134114583333334, \"source?\": true}, \"C_A_3\": {\"accuracy\": 0.990625, \"source?\": true}, \"W_A_1\": {\"accuracy\": 0.9286684782608695, \"source?\": true}, \"C_A_1\": {\"accuracy\": 0.9734375, \"source?\": true}, \"W_A_4\": {\"accuracy\": 0.9153645833333334, \"source?\": true}, \"C_A_5\": {\"accuracy\": 0.96875, \"source?\": true}, \"ORACLE.run1_50\": {\"accuracy\": 0.15390625, \"source?\": false}, \"ORACLE.run1_14\": {\"accuracy\": 0.16119791666666666, \"source?\": false}, \"ORACLE.run1_32\": {\"accuracy\": 0.2484375, \"source?\": false}, \"ORACLE.run1_44\": {\"accuracy\": 0.19348958333333333, \"source?\": false}, \"ORACLE.run1_8\": {\"accuracy\": 0.140625, \"source?\": false}, \"ORACLE.run1_20\": {\"accuracy\": 0.10234375, \"source?\": false}, \"ORACLE.run1_38\": {\"accuracy\": 0.22109375, \"source?\": false}, \"ORACLE.run1_26\": {\"accuracy\": 0.12578125, \"source?\": false}}}, \"history\": {\"epoch_indices\": [1, 2, 3, 4, 5], \"train_label_loss\": [0.34400626540037843, 0.17608529794821157, 0.13444751695141008, 0.10500255400624713, 0.08395521200998536], \"source_val_label_loss\": [0.2570531964302063, 0.19011643528938293, 0.16422493755817413, 0.1580193042755127, 0.15770408511161804], \"target_val_label_loss\": [2.580357074737549, 2.5845072269439697, 2.6508309841156006, 2.698756694793701, 2.596421241760254], \"source_val_acc_label\": [0.9424740484429066, 0.9582612456747405, 0.9632352941176471, 0.965614186851211, 0.9655060553633218], \"target_val_acc_label\": [0.168359375, 0.18876953125, 0.16780598958333334, 0.18499348958333334, 0.18720703125]}, \"dataset_metrics\": {\"source\": {\"train\": {\"n_unique_x\": 56699, \"n_unique_y\": 130, \"n_batch/episode\": 2080}, \"val\": {\"n_unique_x\": 12097, \"n_unique_y\": 130, \"n_batch/episode\": 289}, \"test\": {\"n_unique_x\": 12097, \"n_unique_y\": 130, \"n_batch/episode\": 289}}, \"target\": {\"train\": {\"n_unique_x\": 179200, \"n_unique_y\": 16, \"n_batch/episode\": 6720}, \"val\": {\"n_unique_x\": 38400, \"n_unique_y\": 16, \"n_batch/episode\": 960}, \"test\": {\"n_unique_x\": 38400, \"n_unique_y\": 16, \"n_batch/episode\": 960}}}}'"
      ]
     },
     "execution_count": 29,
     "metadata": {},
     "output_type": "execute_result"
    }
   ],
   "source": [
    "json.dumps(experiment)"
   ]
  }
 ],
 "metadata": {
  "celltoolbar": "Tags",
  "kernelspec": {
   "display_name": "Python 3 (ipykernel)",
   "language": "python",
   "name": "python3"
  },
  "language_info": {
   "codemirror_mode": {
    "name": "ipython",
    "version": 3
   },
   "file_extension": ".py",
   "mimetype": "text/x-python",
   "name": "python",
   "nbconvert_exporter": "python",
   "pygments_lexer": "ipython3",
   "version": "3.8.10"
  },
  "papermill": {
   "default_parameters": {},
   "duration": 387.563526,
   "end_time": "2022-03-18T23:20:53.831071",
   "environment_variables": {},
   "exception": null,
   "input_path": "/mnt/wd500GB/CSC500/csc500-main/csc500-notebooks/templates/tl_ptn_template.ipynb",
   "output_path": "trial.ipynb",
   "parameters": {
    "parameters": {
     "BEST_MODEL_PATH": "./best_model.pth",
     "NUM_LOGS_PER_EPOCH": 10,
     "criteria_for_best": "target_loss",
     "dataset_seed": 500,
     "datasets": [
      {
       "domain_prefix": "C_A_",
       "domains": [
        1,
        2,
        3,
        4,
        5
       ],
       "episode_transforms": [],
       "labels": [
        "1-10.",
        "1-11.",
        "1-15.",
        "1-16.",
        "1-17.",
        "1-18.",
        "1-19.",
        "10-4.",
        "10-7.",
        "11-1.",
        "11-14.",
        "11-17.",
        "11-20.",
        "11-7.",
        "13-20.",
        "13-8.",
        "14-10.",
        "14-11.",
        "14-14.",
        "14-7.",
        "15-1.",
        "15-20.",
        "16-1.",
        "16-16.",
        "17-10.",
        "17-11.",
        "17-2.",
        "19-1.",
        "19-16.",
        "19-19.",
        "19-20.",
        "19-3.",
        "2-10.",
        "2-11.",
        "2-17.",
        "2-18.",
        "2-20.",
        "2-3.",
        "2-4.",
        "2-5.",
        "2-6.",
        "2-7.",
        "2-8.",
        "3-13.",
        "3-18.",
        "3-3.",
        "4-1.",
        "4-10.",
        "4-11.",
        "4-19.",
        "5-5.",
        "6-15.",
        "7-10.",
        "7-14.",
        "8-18.",
        "8-20.",
        "8-3.",
        "8-8."
       ],
       "num_examples_per_domain_per_label": 100,
       "pickle_path": "/mnt/wd500GB/CSC500/csc500-main/datasets/cores.stratified_ds.2022A.pkl",
       "source_or_target_dataset": "source",
       "x_transforms": [
        "unit_power",
        "take_200"
       ]
      },
      {
       "domain_prefix": "W_A_",
       "domains": [
        1,
        2,
        3,
        4
       ],
       "episode_transforms": [],
       "labels": [
        "1-10",
        "1-12",
        "1-14",
        "1-16",
        "1-18",
        "1-19",
        "1-8",
        "10-11",
        "10-17",
        "10-4",
        "10-7",
        "11-1",
        "11-10",
        "11-19",
        "11-20",
        "11-4",
        "11-7",
        "12-19",
        "12-20",
        "12-7",
        "13-14",
        "13-18",
        "13-19",
        "13-20",
        "13-3",
        "13-7",
        "14-10",
        "14-11",
        "14-12",
        "14-13",
        "14-14",
        "14-19",
        "14-20",
        "14-7",
        "14-8",
        "14-9",
        "15-1",
        "15-19",
        "15-6",
        "16-1",
        "16-16",
        "16-19",
        "16-20",
        "17-10",
        "17-11",
        "18-1",
        "18-10",
        "18-11",
        "18-12",
        "18-13",
        "18-14",
        "18-15",
        "18-16",
        "18-17",
        "18-19",
        "18-2",
        "18-20",
        "18-4",
        "18-5",
        "18-7",
        "18-8",
        "18-9",
        "19-1",
        "19-10",
        "19-11",
        "19-12",
        "19-13",
        "19-14",
        "19-15",
        "19-19",
        "19-2",
        "19-20",
        "19-3",
        "19-4",
        "19-6",
        "19-7",
        "19-8",
        "19-9",
        "2-1",
        "2-13",
        "2-15",
        "2-3",
        "2-4",
        "2-5",
        "2-6",
        "2-7",
        "2-8",
        "20-1",
        "20-12",
        "20-14",
        "20-15",
        "20-16",
        "20-18",
        "20-19",
        "20-20",
        "20-3",
        "20-4",
        "20-5",
        "20-7",
        "20-8",
        "3-1",
        "3-13",
        "3-18",
        "3-2",
        "3-8",
        "4-1",
        "4-10",
        "4-11",
        "5-1",
        "5-5",
        "6-1",
        "6-15",
        "6-6",
        "7-10",
        "7-11",
        "7-12",
        "7-13",
        "7-14",
        "7-7",
        "7-8",
        "7-9",
        "8-1",
        "8-13",
        "8-14",
        "8-18",
        "8-20",
        "8-3",
        "8-8",
        "9-1",
        "9-7"
       ],
       "num_examples_per_domain_per_label": 100,
       "pickle_path": "/mnt/wd500GB/CSC500/csc500-main/datasets/wisig.node3-19.stratified_ds.2022A.pkl",
       "source_or_target_dataset": "source",
       "x_transforms": [
        "unit_power",
        "take_200"
       ]
      },
      {
       "domain_prefix": "ORACLE.run1_",
       "domains": [
        32,
        38,
        8,
        44,
        14,
        50,
        20,
        26
       ],
       "episode_transforms": [],
       "labels": [
        "3123D52",
        "3123D65",
        "3123D79",
        "3123D80",
        "3123D54",
        "3123D70",
        "3123D7B",
        "3123D89",
        "3123D58",
        "3123D76",
        "3123D7D",
        "3123EFE",
        "3123D64",
        "3123D78",
        "3123D7E",
        "3124E4A"
       ],
       "num_examples_per_domain_per_label": 2000,
       "pickle_path": "/mnt/wd500GB/CSC500/csc500-main/datasets/oracle.Run1_framed_2000Examples_stratified_ds.2022A.pkl",
       "source_or_target_dataset": "target",
       "x_transforms": [
        "unit_power",
        "take_200",
        "resample_20Msps_to_25Msps"
       ]
      }
     ],
     "device": "cuda",
     "experiment_name": "tl_3A:cores+wisig -> oracle.run1.framed",
     "lr": 0.001,
     "n_epoch": 50,
     "n_query": 2,
     "n_shot": 3,
     "n_way": 16,
     "patience": 3,
     "seed": 500,
     "test_k_factor": 2,
     "torch_default_dtype": "torch.float32",
     "train_k_factor": 3,
     "val_k_factor": 2,
     "x_net": [
      {
       "class": "nnReshape",
       "kargs": {
        "shape": [
         -1,
         1,
         2,
         200
        ]
       }
      },
      {
       "class": "Conv2d",
       "kargs": {
        "bias": false,
        "in_channels": 1,
        "kernel_size": [
         1,
         7
        ],
        "out_channels": 256,
        "padding": [
         0,
         3
        ]
       }
      },
      {
       "class": "ReLU",
       "kargs": {
        "inplace": true
       }
      },
      {
       "class": "BatchNorm2d",
       "kargs": {
        "num_features": 256
       }
      },
      {
       "class": "Conv2d",
       "kargs": {
        "bias": true,
        "in_channels": 256,
        "kernel_size": [
         2,
         7
        ],
        "out_channels": 80,
        "padding": [
         0,
         3
        ]
       }
      },
      {
       "class": "ReLU",
       "kargs": {
        "inplace": true
       }
      },
      {
       "class": "BatchNorm2d",
       "kargs": {
        "num_features": 80
       }
      },
      {
       "class": "Flatten",
       "kargs": {}
      },
      {
       "class": "Linear",
       "kargs": {
        "in_features": 16000,
        "out_features": 256
       }
      },
      {
       "class": "ReLU",
       "kargs": {
        "inplace": true
       }
      },
      {
       "class": "BatchNorm1d",
       "kargs": {
        "num_features": 256
       }
      },
      {
       "class": "Linear",
       "kargs": {
        "in_features": 256,
        "out_features": 256
       }
      }
     ],
     "x_shape": [
      2,
      200
     ]
    }
   },
   "start_time": "2022-03-18T23:14:26.267545",
   "version": "2.3.4"
  }
 },
 "nbformat": 4,
 "nbformat_minor": 5
}