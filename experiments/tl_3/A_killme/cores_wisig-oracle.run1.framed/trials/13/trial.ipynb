{
 "cells": [
  {
   "cell_type": "markdown",
   "id": "9fea5f46",
   "metadata": {
    "papermill": {
     "duration": 0.018423,
     "end_time": "2022-03-18T23:20:54.546406",
     "exception": false,
     "start_time": "2022-03-18T23:20:54.527983",
     "status": "completed"
    },
    "tags": []
   },
   "source": [
    "# Transfer Learning Template"
   ]
  },
  {
   "cell_type": "code",
   "execution_count": 1,
   "id": "0902182a",
   "metadata": {
    "execution": {
     "iopub.execute_input": "2022-03-18T23:20:54.585719Z",
     "iopub.status.busy": "2022-03-18T23:20:54.583827Z",
     "iopub.status.idle": "2022-03-18T23:20:55.487328Z",
     "shell.execute_reply": "2022-03-18T23:20:55.487548Z"
    },
    "papermill": {
     "duration": 0.92858,
     "end_time": "2022-03-18T23:20:55.487636",
     "exception": false,
     "start_time": "2022-03-18T23:20:54.559056",
     "status": "completed"
    },
    "tags": []
   },
   "outputs": [],
   "source": [
    "%load_ext autoreload\n",
    "%autoreload 2\n",
    "%matplotlib inline\n",
    "\n",
    "    \n",
    "import os, json, sys, time, random\n",
    "import numpy as np\n",
    "import torch\n",
    "from torch.optim import Adam\n",
    "from  easydict import EasyDict\n",
    "import matplotlib.pyplot as plt\n",
    "\n",
    "from steves_models.steves_ptn import Steves_Prototypical_Network\n",
    "\n",
    "from steves_utils.lazy_iterable_wrapper import Lazy_Iterable_Wrapper\n",
    "from steves_utils.iterable_aggregator import Iterable_Aggregator\n",
    "from steves_utils.ptn_train_eval_test_jig import  PTN_Train_Eval_Test_Jig\n",
    "from steves_utils.torch_sequential_builder import build_sequential\n",
    "from steves_utils.torch_utils import get_dataset_metrics, ptn_confusion_by_domain_over_dataloader\n",
    "from steves_utils.utils_v2 import (per_domain_accuracy_from_confusion, get_datasets_base_path)\n",
    "from steves_utils.PTN.utils import independent_accuracy_assesment\n",
    "\n",
    "from torch.utils.data import DataLoader\n",
    "\n",
    "from steves_utils.stratified_dataset.episodic_accessor import Episodic_Accessor_Factory\n",
    "\n",
    "from steves_utils.ptn_do_report import (\n",
    "    get_loss_curve,\n",
    "    get_results_table,\n",
    "    get_parameters_table,\n",
    "    get_domain_accuracies,\n",
    ")\n",
    "\n",
    "from steves_utils.transforms import get_chained_transform"
   ]
  },
  {
   "cell_type": "markdown",
   "id": "41c840b4",
   "metadata": {
    "papermill": {
     "duration": 0.012768,
     "end_time": "2022-03-18T23:20:55.513224",
     "exception": false,
     "start_time": "2022-03-18T23:20:55.500456",
     "status": "completed"
    },
    "tags": []
   },
   "source": [
    "# Allowed Parameters\n",
    "These are allowed parameters, not defaults\n",
    "Each of these values need to be present in the injected parameters (the notebook will raise an exception if they are not present)\n",
    "\n",
    "Papermill uses the cell tag \"parameters\" to inject the real parameters below this cell.\n",
    "Enable tags to see what I mean"
   ]
  },
  {
   "cell_type": "code",
   "execution_count": 2,
   "id": "fd44eb83",
   "metadata": {
    "execution": {
     "iopub.execute_input": "2022-03-18T23:20:55.540667Z",
     "iopub.status.busy": "2022-03-18T23:20:55.540407Z",
     "iopub.status.idle": "2022-03-18T23:20:55.550656Z",
     "shell.execute_reply": "2022-03-18T23:20:55.550859Z"
    },
    "papermill": {
     "duration": 0.025047,
     "end_time": "2022-03-18T23:20:55.550917",
     "exception": false,
     "start_time": "2022-03-18T23:20:55.525870",
     "status": "completed"
    },
    "tags": []
   },
   "outputs": [],
   "source": [
    "required_parameters = {\n",
    "    \"experiment_name\",\n",
    "    \"lr\",\n",
    "    \"device\",\n",
    "    \"seed\",\n",
    "    \"dataset_seed\",\n",
    "    \"n_shot\",\n",
    "    \"n_query\",\n",
    "    \"n_way\",\n",
    "    \"train_k_factor\",\n",
    "    \"val_k_factor\",\n",
    "    \"test_k_factor\",\n",
    "    \"n_epoch\",\n",
    "    \"patience\",\n",
    "    \"criteria_for_best\",\n",
    "    \"x_net\",\n",
    "    \"datasets\",\n",
    "    \"torch_default_dtype\",\n",
    "    \"NUM_LOGS_PER_EPOCH\",\n",
    "    \"BEST_MODEL_PATH\",\n",
    "    \"x_shape\",\n",
    "}"
   ]
  },
  {
   "cell_type": "code",
   "execution_count": 3,
   "id": "fa3f0049",
   "metadata": {
    "execution": {
     "iopub.execute_input": "2022-03-18T23:20:55.587747Z",
     "iopub.status.busy": "2022-03-18T23:20:55.587475Z",
     "iopub.status.idle": "2022-03-18T23:20:55.601629Z",
     "shell.execute_reply": "2022-03-18T23:20:55.601989Z"
    },
    "papermill": {
     "duration": 0.035372,
     "end_time": "2022-03-18T23:20:55.602102",
     "exception": false,
     "start_time": "2022-03-18T23:20:55.566730",
     "status": "completed"
    },
    "tags": [
     "parameters"
    ]
   },
   "outputs": [],
   "source": [
    "from steves_utils.CORES.utils import (\n",
    "    ALL_NODES,\n",
    "    ALL_NODES_MINIMUM_1000_EXAMPLES,\n",
    "    ALL_DAYS\n",
    ")\n",
    "\n",
    "from steves_utils.ORACLE.utils_v2 import (\n",
    "    ALL_DISTANCES_FEET_NARROWED,\n",
    "    ALL_RUNS,\n",
    "    ALL_SERIAL_NUMBERS,\n",
    ")\n",
    "\n",
    "standalone_parameters = {}\n",
    "standalone_parameters[\"experiment_name\"] = \"STANDALONE PTN\"\n",
    "standalone_parameters[\"lr\"] = 0.001\n",
    "standalone_parameters[\"device\"] = \"cuda\"\n",
    "\n",
    "standalone_parameters[\"seed\"] = 1337\n",
    "standalone_parameters[\"dataset_seed\"] = 1337\n",
    "\n",
    "standalone_parameters[\"n_way\"] = 8\n",
    "standalone_parameters[\"n_shot\"] = 3\n",
    "standalone_parameters[\"n_query\"]  = 2\n",
    "standalone_parameters[\"train_k_factor\"] = 1\n",
    "standalone_parameters[\"val_k_factor\"] = 2\n",
    "standalone_parameters[\"test_k_factor\"] = 2\n",
    "\n",
    "\n",
    "standalone_parameters[\"n_epoch\"] = 50\n",
    "\n",
    "standalone_parameters[\"patience\"] = 10\n",
    "standalone_parameters[\"criteria_for_best\"] = \"source_loss\"\n",
    "\n",
    "standalone_parameters[\"datasets\"] = [\n",
    "    {\n",
    "        \"labels\": ALL_SERIAL_NUMBERS,\n",
    "        \"domains\": ALL_DISTANCES_FEET_NARROWED,\n",
    "        \"num_examples_per_domain_per_label\": 100,\n",
    "        \"pickle_path\": os.path.join(get_datasets_base_path(), \"oracle.Run1_framed_2000Examples_stratified_ds.2022A.pkl\"),\n",
    "        \"source_or_target_dataset\": \"source\",\n",
    "        \"x_transforms\": [\"unit_mag\", \"minus_two\"],\n",
    "        \"episode_transforms\": [],\n",
    "        \"domain_prefix\": \"ORACLE_\"\n",
    "    },\n",
    "    {\n",
    "        \"labels\": ALL_NODES,\n",
    "        \"domains\": ALL_DAYS,\n",
    "        \"num_examples_per_domain_per_label\": 100,\n",
    "        \"pickle_path\": os.path.join(get_datasets_base_path(), \"cores.stratified_ds.2022A.pkl\"),\n",
    "        \"source_or_target_dataset\": \"target\",\n",
    "        \"x_transforms\": [\"unit_power\", \"times_zero\"],\n",
    "        \"episode_transforms\": [],\n",
    "        \"domain_prefix\": \"CORES_\"\n",
    "    }   \n",
    "]\n",
    "\n",
    "standalone_parameters[\"torch_default_dtype\"] = \"torch.float32\" \n",
    "\n",
    "\n",
    "\n",
    "standalone_parameters[\"x_net\"] =     [\n",
    "    {\"class\": \"nnReshape\", \"kargs\": {\"shape\":[-1, 1, 2, 256]}},\n",
    "    {\"class\": \"Conv2d\", \"kargs\": { \"in_channels\":1, \"out_channels\":256, \"kernel_size\":(1,7), \"bias\":False, \"padding\":(0,3), },},\n",
    "    {\"class\": \"ReLU\", \"kargs\": {\"inplace\": True}},\n",
    "    {\"class\": \"BatchNorm2d\", \"kargs\": {\"num_features\":256}},\n",
    "\n",
    "    {\"class\": \"Conv2d\", \"kargs\": { \"in_channels\":256, \"out_channels\":80, \"kernel_size\":(2,7), \"bias\":True, \"padding\":(0,3), },},\n",
    "    {\"class\": \"ReLU\", \"kargs\": {\"inplace\": True}},\n",
    "    {\"class\": \"BatchNorm2d\", \"kargs\": {\"num_features\":80}},\n",
    "    {\"class\": \"Flatten\", \"kargs\": {}},\n",
    "\n",
    "    {\"class\": \"Linear\", \"kargs\": {\"in_features\": 80*256, \"out_features\": 256}}, # 80 units per IQ pair\n",
    "    {\"class\": \"ReLU\", \"kargs\": {\"inplace\": True}},\n",
    "    {\"class\": \"BatchNorm1d\", \"kargs\": {\"num_features\":256}},\n",
    "\n",
    "    {\"class\": \"Linear\", \"kargs\": {\"in_features\": 256, \"out_features\": 256}},\n",
    "]\n",
    "\n",
    "# Parameters relevant to results\n",
    "# These parameters will basically never need to change\n",
    "standalone_parameters[\"NUM_LOGS_PER_EPOCH\"] = 10\n",
    "standalone_parameters[\"BEST_MODEL_PATH\"] = \"./best_model.pth\"\n",
    "\n",
    "\n",
    "\n",
    "\n"
   ]
  },
  {
   "cell_type": "code",
   "execution_count": 4,
   "id": "aaff8f46",
   "metadata": {
    "execution": {
     "iopub.execute_input": "2022-03-18T23:20:55.646622Z",
     "iopub.status.busy": "2022-03-18T23:20:55.646013Z",
     "iopub.status.idle": "2022-03-18T23:20:55.658978Z",
     "shell.execute_reply": "2022-03-18T23:20:55.658531Z"
    },
    "papermill": {
     "duration": 0.039394,
     "end_time": "2022-03-18T23:20:55.659069",
     "exception": false,
     "start_time": "2022-03-18T23:20:55.619675",
     "status": "completed"
    },
    "tags": [
     "injected-parameters"
    ]
   },
   "outputs": [],
   "source": [
    "# Parameters\n",
    "parameters = {\n",
    "    \"experiment_name\": \"tl_3A:cores+wisig -> oracle.run1.framed\",\n",
    "    \"device\": \"cuda\",\n",
    "    \"lr\": 0.001,\n",
    "    \"x_shape\": [2, 200],\n",
    "    \"n_shot\": 3,\n",
    "    \"n_query\": 2,\n",
    "    \"train_k_factor\": 3,\n",
    "    \"val_k_factor\": 2,\n",
    "    \"test_k_factor\": 2,\n",
    "    \"torch_default_dtype\": \"torch.float32\",\n",
    "    \"n_epoch\": 50,\n",
    "    \"patience\": 3,\n",
    "    \"criteria_for_best\": \"target_loss\",\n",
    "    \"x_net\": [\n",
    "        {\"class\": \"nnReshape\", \"kargs\": {\"shape\": [-1, 1, 2, 200]}},\n",
    "        {\n",
    "            \"class\": \"Conv2d\",\n",
    "            \"kargs\": {\n",
    "                \"in_channels\": 1,\n",
    "                \"out_channels\": 256,\n",
    "                \"kernel_size\": [1, 7],\n",
    "                \"bias\": False,\n",
    "                \"padding\": [0, 3],\n",
    "            },\n",
    "        },\n",
    "        {\"class\": \"ReLU\", \"kargs\": {\"inplace\": True}},\n",
    "        {\"class\": \"BatchNorm2d\", \"kargs\": {\"num_features\": 256}},\n",
    "        {\n",
    "            \"class\": \"Conv2d\",\n",
    "            \"kargs\": {\n",
    "                \"in_channels\": 256,\n",
    "                \"out_channels\": 80,\n",
    "                \"kernel_size\": [2, 7],\n",
    "                \"bias\": True,\n",
    "                \"padding\": [0, 3],\n",
    "            },\n",
    "        },\n",
    "        {\"class\": \"ReLU\", \"kargs\": {\"inplace\": True}},\n",
    "        {\"class\": \"BatchNorm2d\", \"kargs\": {\"num_features\": 80}},\n",
    "        {\"class\": \"Flatten\", \"kargs\": {}},\n",
    "        {\"class\": \"Linear\", \"kargs\": {\"in_features\": 16000, \"out_features\": 256}},\n",
    "        {\"class\": \"ReLU\", \"kargs\": {\"inplace\": True}},\n",
    "        {\"class\": \"BatchNorm1d\", \"kargs\": {\"num_features\": 256}},\n",
    "        {\"class\": \"Linear\", \"kargs\": {\"in_features\": 256, \"out_features\": 256}},\n",
    "    ],\n",
    "    \"NUM_LOGS_PER_EPOCH\": 10,\n",
    "    \"BEST_MODEL_PATH\": \"./best_model.pth\",\n",
    "    \"n_way\": 16,\n",
    "    \"datasets\": [\n",
    "        {\n",
    "            \"labels\": [\n",
    "                \"1-10.\",\n",
    "                \"1-11.\",\n",
    "                \"1-15.\",\n",
    "                \"1-16.\",\n",
    "                \"1-17.\",\n",
    "                \"1-18.\",\n",
    "                \"1-19.\",\n",
    "                \"10-4.\",\n",
    "                \"10-7.\",\n",
    "                \"11-1.\",\n",
    "                \"11-14.\",\n",
    "                \"11-17.\",\n",
    "                \"11-20.\",\n",
    "                \"11-7.\",\n",
    "                \"13-20.\",\n",
    "                \"13-8.\",\n",
    "                \"14-10.\",\n",
    "                \"14-11.\",\n",
    "                \"14-14.\",\n",
    "                \"14-7.\",\n",
    "                \"15-1.\",\n",
    "                \"15-20.\",\n",
    "                \"16-1.\",\n",
    "                \"16-16.\",\n",
    "                \"17-10.\",\n",
    "                \"17-11.\",\n",
    "                \"17-2.\",\n",
    "                \"19-1.\",\n",
    "                \"19-16.\",\n",
    "                \"19-19.\",\n",
    "                \"19-20.\",\n",
    "                \"19-3.\",\n",
    "                \"2-10.\",\n",
    "                \"2-11.\",\n",
    "                \"2-17.\",\n",
    "                \"2-18.\",\n",
    "                \"2-20.\",\n",
    "                \"2-3.\",\n",
    "                \"2-4.\",\n",
    "                \"2-5.\",\n",
    "                \"2-6.\",\n",
    "                \"2-7.\",\n",
    "                \"2-8.\",\n",
    "                \"3-13.\",\n",
    "                \"3-18.\",\n",
    "                \"3-3.\",\n",
    "                \"4-1.\",\n",
    "                \"4-10.\",\n",
    "                \"4-11.\",\n",
    "                \"4-19.\",\n",
    "                \"5-5.\",\n",
    "                \"6-15.\",\n",
    "                \"7-10.\",\n",
    "                \"7-14.\",\n",
    "                \"8-18.\",\n",
    "                \"8-20.\",\n",
    "                \"8-3.\",\n",
    "                \"8-8.\",\n",
    "            ],\n",
    "            \"domains\": [1, 2, 3, 4, 5],\n",
    "            \"num_examples_per_domain_per_label\": 100,\n",
    "            \"pickle_path\": \"/mnt/wd500GB/CSC500/csc500-main/datasets/cores.stratified_ds.2022A.pkl\",\n",
    "            \"source_or_target_dataset\": \"source\",\n",
    "            \"x_transforms\": [\"unit_mag\", \"take_200\"],\n",
    "            \"episode_transforms\": [],\n",
    "            \"domain_prefix\": \"C_A_\",\n",
    "        },\n",
    "        {\n",
    "            \"labels\": [\n",
    "                \"1-10\",\n",
    "                \"1-12\",\n",
    "                \"1-14\",\n",
    "                \"1-16\",\n",
    "                \"1-18\",\n",
    "                \"1-19\",\n",
    "                \"1-8\",\n",
    "                \"10-11\",\n",
    "                \"10-17\",\n",
    "                \"10-4\",\n",
    "                \"10-7\",\n",
    "                \"11-1\",\n",
    "                \"11-10\",\n",
    "                \"11-19\",\n",
    "                \"11-20\",\n",
    "                \"11-4\",\n",
    "                \"11-7\",\n",
    "                \"12-19\",\n",
    "                \"12-20\",\n",
    "                \"12-7\",\n",
    "                \"13-14\",\n",
    "                \"13-18\",\n",
    "                \"13-19\",\n",
    "                \"13-20\",\n",
    "                \"13-3\",\n",
    "                \"13-7\",\n",
    "                \"14-10\",\n",
    "                \"14-11\",\n",
    "                \"14-12\",\n",
    "                \"14-13\",\n",
    "                \"14-14\",\n",
    "                \"14-19\",\n",
    "                \"14-20\",\n",
    "                \"14-7\",\n",
    "                \"14-8\",\n",
    "                \"14-9\",\n",
    "                \"15-1\",\n",
    "                \"15-19\",\n",
    "                \"15-6\",\n",
    "                \"16-1\",\n",
    "                \"16-16\",\n",
    "                \"16-19\",\n",
    "                \"16-20\",\n",
    "                \"17-10\",\n",
    "                \"17-11\",\n",
    "                \"18-1\",\n",
    "                \"18-10\",\n",
    "                \"18-11\",\n",
    "                \"18-12\",\n",
    "                \"18-13\",\n",
    "                \"18-14\",\n",
    "                \"18-15\",\n",
    "                \"18-16\",\n",
    "                \"18-17\",\n",
    "                \"18-19\",\n",
    "                \"18-2\",\n",
    "                \"18-20\",\n",
    "                \"18-4\",\n",
    "                \"18-5\",\n",
    "                \"18-7\",\n",
    "                \"18-8\",\n",
    "                \"18-9\",\n",
    "                \"19-1\",\n",
    "                \"19-10\",\n",
    "                \"19-11\",\n",
    "                \"19-12\",\n",
    "                \"19-13\",\n",
    "                \"19-14\",\n",
    "                \"19-15\",\n",
    "                \"19-19\",\n",
    "                \"19-2\",\n",
    "                \"19-20\",\n",
    "                \"19-3\",\n",
    "                \"19-4\",\n",
    "                \"19-6\",\n",
    "                \"19-7\",\n",
    "                \"19-8\",\n",
    "                \"19-9\",\n",
    "                \"2-1\",\n",
    "                \"2-13\",\n",
    "                \"2-15\",\n",
    "                \"2-3\",\n",
    "                \"2-4\",\n",
    "                \"2-5\",\n",
    "                \"2-6\",\n",
    "                \"2-7\",\n",
    "                \"2-8\",\n",
    "                \"20-1\",\n",
    "                \"20-12\",\n",
    "                \"20-14\",\n",
    "                \"20-15\",\n",
    "                \"20-16\",\n",
    "                \"20-18\",\n",
    "                \"20-19\",\n",
    "                \"20-20\",\n",
    "                \"20-3\",\n",
    "                \"20-4\",\n",
    "                \"20-5\",\n",
    "                \"20-7\",\n",
    "                \"20-8\",\n",
    "                \"3-1\",\n",
    "                \"3-13\",\n",
    "                \"3-18\",\n",
    "                \"3-2\",\n",
    "                \"3-8\",\n",
    "                \"4-1\",\n",
    "                \"4-10\",\n",
    "                \"4-11\",\n",
    "                \"5-1\",\n",
    "                \"5-5\",\n",
    "                \"6-1\",\n",
    "                \"6-15\",\n",
    "                \"6-6\",\n",
    "                \"7-10\",\n",
    "                \"7-11\",\n",
    "                \"7-12\",\n",
    "                \"7-13\",\n",
    "                \"7-14\",\n",
    "                \"7-7\",\n",
    "                \"7-8\",\n",
    "                \"7-9\",\n",
    "                \"8-1\",\n",
    "                \"8-13\",\n",
    "                \"8-14\",\n",
    "                \"8-18\",\n",
    "                \"8-20\",\n",
    "                \"8-3\",\n",
    "                \"8-8\",\n",
    "                \"9-1\",\n",
    "                \"9-7\",\n",
    "            ],\n",
    "            \"domains\": [1, 2, 3, 4],\n",
    "            \"num_examples_per_domain_per_label\": 100,\n",
    "            \"pickle_path\": \"/mnt/wd500GB/CSC500/csc500-main/datasets/wisig.node3-19.stratified_ds.2022A.pkl\",\n",
    "            \"source_or_target_dataset\": \"source\",\n",
    "            \"x_transforms\": [\"unit_mag\", \"take_200\"],\n",
    "            \"episode_transforms\": [],\n",
    "            \"domain_prefix\": \"W_A_\",\n",
    "        },\n",
    "        {\n",
    "            \"labels\": [\n",
    "                \"3123D52\",\n",
    "                \"3123D65\",\n",
    "                \"3123D79\",\n",
    "                \"3123D80\",\n",
    "                \"3123D54\",\n",
    "                \"3123D70\",\n",
    "                \"3123D7B\",\n",
    "                \"3123D89\",\n",
    "                \"3123D58\",\n",
    "                \"3123D76\",\n",
    "                \"3123D7D\",\n",
    "                \"3123EFE\",\n",
    "                \"3123D64\",\n",
    "                \"3123D78\",\n",
    "                \"3123D7E\",\n",
    "                \"3124E4A\",\n",
    "            ],\n",
    "            \"domains\": [32, 38, 8, 44, 14, 50, 20, 26],\n",
    "            \"num_examples_per_domain_per_label\": 2000,\n",
    "            \"pickle_path\": \"/mnt/wd500GB/CSC500/csc500-main/datasets/oracle.Run1_framed_2000Examples_stratified_ds.2022A.pkl\",\n",
    "            \"source_or_target_dataset\": \"target\",\n",
    "            \"x_transforms\": [\"unit_mag\", \"take_200\", \"resample_20Msps_to_25Msps\"],\n",
    "            \"episode_transforms\": [],\n",
    "            \"domain_prefix\": \"ORACLE.run1_\",\n",
    "        },\n",
    "    ],\n",
    "    \"seed\": 500,\n",
    "    \"dataset_seed\": 500,\n",
    "}\n"
   ]
  },
  {
   "cell_type": "code",
   "execution_count": 5,
   "id": "8fa1cc33",
   "metadata": {
    "execution": {
     "iopub.execute_input": "2022-03-18T23:20:55.691484Z",
     "iopub.status.busy": "2022-03-18T23:20:55.691213Z",
     "iopub.status.idle": "2022-03-18T23:20:55.702009Z",
     "shell.execute_reply": "2022-03-18T23:20:55.702389Z"
    },
    "papermill": {
     "duration": 0.026288,
     "end_time": "2022-03-18T23:20:55.702494",
     "exception": false,
     "start_time": "2022-03-18T23:20:55.676206",
     "status": "completed"
    },
    "tags": []
   },
   "outputs": [],
   "source": [
    "# Set this to True if you want to run this template directly\n",
    "STANDALONE = False\n",
    "if STANDALONE:\n",
    "    print(\"parameters not injected, running with standalone_parameters\")\n",
    "    parameters = standalone_parameters\n",
    "\n",
    "if not 'parameters' in locals() and not 'parameters' in globals():\n",
    "    raise Exception(\"Parameter injection failed\")\n",
    "\n",
    "#Use an easy dict for all the parameters\n",
    "p = EasyDict(parameters)\n",
    "\n",
    "if \"x_shape\" not in p:\n",
    "    p.x_shape = [2,256] # Default to this if we dont supply x_shape\n",
    "\n",
    "\n",
    "supplied_keys = set(p.keys())\n",
    "\n",
    "if  supplied_keys != required_parameters:\n",
    "    print(\"Parameters are incorrect\")\n",
    "    if len(supplied_keys - required_parameters)>0: print(\"Shouldn't have:\", str(supplied_keys - required_parameters))\n",
    "    if len(required_parameters - supplied_keys)>0: print(\"Need to have:\", str(required_parameters - supplied_keys))\n",
    "    raise RuntimeError(\"Parameters are incorrect\")"
   ]
  },
  {
   "cell_type": "code",
   "execution_count": 6,
   "id": "3a028d58",
   "metadata": {
    "execution": {
     "iopub.execute_input": "2022-03-18T23:20:55.733521Z",
     "iopub.status.busy": "2022-03-18T23:20:55.733274Z",
     "iopub.status.idle": "2022-03-18T23:20:55.748790Z",
     "shell.execute_reply": "2022-03-18T23:20:55.748345Z"
    },
    "papermill": {
     "duration": 0.030996,
     "end_time": "2022-03-18T23:20:55.748882",
     "exception": false,
     "start_time": "2022-03-18T23:20:55.717886",
     "status": "completed"
    },
    "tags": []
   },
   "outputs": [],
   "source": [
    "###################################\n",
    "# Set the RNGs and make it all deterministic\n",
    "###################################\n",
    "np.random.seed(p.seed)\n",
    "random.seed(p.seed)\n",
    "torch.manual_seed(p.seed)\n",
    "\n",
    "torch.use_deterministic_algorithms(True) "
   ]
  },
  {
   "cell_type": "code",
   "execution_count": 7,
   "id": "b691acf6",
   "metadata": {
    "execution": {
     "iopub.execute_input": "2022-03-18T23:20:55.782419Z",
     "iopub.status.busy": "2022-03-18T23:20:55.782168Z",
     "iopub.status.idle": "2022-03-18T23:20:55.795307Z",
     "shell.execute_reply": "2022-03-18T23:20:55.794836Z"
    },
    "papermill": {
     "duration": 0.028089,
     "end_time": "2022-03-18T23:20:55.795398",
     "exception": false,
     "start_time": "2022-03-18T23:20:55.767309",
     "status": "completed"
    },
    "tags": []
   },
   "outputs": [],
   "source": [
    "###########################################\n",
    "# The stratified datasets honor this\n",
    "###########################################\n",
    "torch.set_default_dtype(eval(p.torch_default_dtype))"
   ]
  },
  {
   "cell_type": "code",
   "execution_count": 8,
   "id": "b5fba671",
   "metadata": {
    "execution": {
     "iopub.execute_input": "2022-03-18T23:20:55.827938Z",
     "iopub.status.busy": "2022-03-18T23:20:55.827684Z",
     "iopub.status.idle": "2022-03-18T23:20:55.861019Z",
     "shell.execute_reply": "2022-03-18T23:20:55.860621Z"
    },
    "papermill": {
     "duration": 0.048521,
     "end_time": "2022-03-18T23:20:55.861110",
     "exception": false,
     "start_time": "2022-03-18T23:20:55.812589",
     "status": "completed"
    },
    "tags": []
   },
   "outputs": [],
   "source": [
    "###################################\n",
    "# Build the network(s)\n",
    "# Note: It's critical to do this AFTER setting the RNG\n",
    "###################################\n",
    "x_net = build_sequential(p.x_net)"
   ]
  },
  {
   "cell_type": "code",
   "execution_count": 9,
   "id": "5d7e61cc",
   "metadata": {
    "execution": {
     "iopub.execute_input": "2022-03-18T23:20:55.894686Z",
     "iopub.status.busy": "2022-03-18T23:20:55.894443Z",
     "iopub.status.idle": "2022-03-18T23:20:55.909602Z",
     "shell.execute_reply": "2022-03-18T23:20:55.909173Z"
    },
    "papermill": {
     "duration": 0.030445,
     "end_time": "2022-03-18T23:20:55.909690",
     "exception": false,
     "start_time": "2022-03-18T23:20:55.879245",
     "status": "completed"
    },
    "tags": []
   },
   "outputs": [],
   "source": [
    "start_time_secs = time.time()"
   ]
  },
  {
   "cell_type": "code",
   "execution_count": 10,
   "id": "c6b67dfd",
   "metadata": {
    "execution": {
     "iopub.execute_input": "2022-03-18T23:20:55.942350Z",
     "iopub.status.busy": "2022-03-18T23:20:55.942104Z",
     "iopub.status.idle": "2022-03-18T23:20:55.952079Z",
     "shell.execute_reply": "2022-03-18T23:20:55.952277Z"
    },
    "papermill": {
     "duration": 0.025163,
     "end_time": "2022-03-18T23:20:55.952335",
     "exception": false,
     "start_time": "2022-03-18T23:20:55.927172",
     "status": "completed"
    },
    "tags": []
   },
   "outputs": [],
   "source": [
    "p.domains_source = []\n",
    "p.domains_target = []\n",
    "\n",
    "\n",
    "train_original_source = []\n",
    "val_original_source   = []\n",
    "test_original_source  = []\n",
    "\n",
    "train_original_target = []\n",
    "val_original_target   = []\n",
    "test_original_target  = []"
   ]
  },
  {
   "cell_type": "code",
   "execution_count": 11,
   "id": "e3d9c3d3",
   "metadata": {
    "execution": {
     "iopub.execute_input": "2022-03-18T23:20:55.985812Z",
     "iopub.status.busy": "2022-03-18T23:20:55.985562Z",
     "iopub.status.idle": "2022-03-18T23:20:56.000379Z",
     "shell.execute_reply": "2022-03-18T23:20:56.000778Z"
    },
    "papermill": {
     "duration": 0.030209,
     "end_time": "2022-03-18T23:20:56.000896",
     "exception": false,
     "start_time": "2022-03-18T23:20:55.970687",
     "status": "completed"
    },
    "tags": []
   },
   "outputs": [],
   "source": [
    "# global_x_transform_func = lambda x: normalize(x.to(torch.get_default_dtype()), \"unit_power\") # unit_power, unit_mag\n",
    "# global_x_transform_func = lambda x: normalize(x, \"unit_power\") # unit_power, unit_mag"
   ]
  },
  {
   "cell_type": "code",
   "execution_count": 12,
   "id": "acb78fd2",
   "metadata": {
    "execution": {
     "iopub.execute_input": "2022-03-18T23:20:56.039719Z",
     "iopub.status.busy": "2022-03-18T23:20:56.039434Z",
     "iopub.status.idle": "2022-03-18T23:20:56.052652Z",
     "shell.execute_reply": "2022-03-18T23:20:56.052223Z"
    },
    "papermill": {
     "duration": 0.033249,
     "end_time": "2022-03-18T23:20:56.052740",
     "exception": false,
     "start_time": "2022-03-18T23:20:56.019491",
     "status": "completed"
    },
    "tags": []
   },
   "outputs": [],
   "source": [
    "def add_dataset(\n",
    "    labels,\n",
    "    domains,\n",
    "    pickle_path,\n",
    "    x_transforms,\n",
    "    episode_transforms,\n",
    "    domain_prefix,\n",
    "    num_examples_per_domain_per_label,\n",
    "    source_or_target_dataset:str,\n",
    "    iterator_seed=p.seed,\n",
    "    dataset_seed=p.dataset_seed,\n",
    "    n_shot=p.n_shot,\n",
    "    n_way=p.n_way,\n",
    "    n_query=p.n_query,\n",
    "    train_val_test_k_factors=(p.train_k_factor,p.val_k_factor,p.test_k_factor),\n",
    "):\n",
    "   \n",
    "    if x_transforms == []: x_transform = None\n",
    "    else: x_transform = get_chained_transform(x_transforms)\n",
    "    \n",
    "    if episode_transforms == []: episode_transform = None\n",
    "    else: raise Exception(\"episode_transforms not implemented\")\n",
    "    \n",
    "    episode_transform = lambda tup, _prefix=domain_prefix: (_prefix + str(tup[0]), tup[1])\n",
    "\n",
    "\n",
    "    eaf = Episodic_Accessor_Factory(\n",
    "        labels=labels,\n",
    "        domains=domains,\n",
    "        num_examples_per_domain_per_label=num_examples_per_domain_per_label,\n",
    "        iterator_seed=iterator_seed,\n",
    "        dataset_seed=dataset_seed,\n",
    "        n_shot=n_shot,\n",
    "        n_way=n_way,\n",
    "        n_query=n_query,\n",
    "        train_val_test_k_factors=train_val_test_k_factors,\n",
    "        pickle_path=pickle_path,\n",
    "        x_transform_func=x_transform,\n",
    "    )\n",
    "\n",
    "    train, val, test = eaf.get_train(), eaf.get_val(), eaf.get_test()\n",
    "    train = Lazy_Iterable_Wrapper(train, episode_transform)\n",
    "    val = Lazy_Iterable_Wrapper(val, episode_transform)\n",
    "    test = Lazy_Iterable_Wrapper(test, episode_transform)\n",
    "\n",
    "    if source_or_target_dataset==\"source\":\n",
    "        train_original_source.append(train)\n",
    "        val_original_source.append(val)\n",
    "        test_original_source.append(test)\n",
    "\n",
    "        p.domains_source.extend(\n",
    "            [domain_prefix + str(u) for u in domains]\n",
    "        )\n",
    "    elif source_or_target_dataset==\"target\":\n",
    "        train_original_target.append(train)\n",
    "        val_original_target.append(val)\n",
    "        test_original_target.append(test)\n",
    "        p.domains_target.extend(\n",
    "            [domain_prefix + str(u) for u in domains]\n",
    "        )\n",
    "    else:\n",
    "        raise Exception(f\"invalid source_or_target_dataset: {source_or_target_dataset}\")\n",
    "    "
   ]
  },
  {
   "cell_type": "code",
   "execution_count": 13,
   "id": "fe266617",
   "metadata": {
    "execution": {
     "iopub.execute_input": "2022-03-18T23:20:56.086084Z",
     "iopub.status.busy": "2022-03-18T23:20:56.085836Z",
     "iopub.status.idle": "2022-03-18T23:21:34.967682Z",
     "shell.execute_reply": "2022-03-18T23:21:34.967275Z"
    },
    "papermill": {
     "duration": 38.896743,
     "end_time": "2022-03-18T23:21:34.967784",
     "exception": false,
     "start_time": "2022-03-18T23:20:56.071041",
     "status": "completed"
    },
    "tags": []
   },
   "outputs": [],
   "source": [
    "for ds in p.datasets:\n",
    "    add_dataset(**ds)"
   ]
  },
  {
   "cell_type": "code",
   "execution_count": 14,
   "id": "b90d65ac",
   "metadata": {
    "execution": {
     "iopub.execute_input": "2022-03-18T23:21:35.000741Z",
     "iopub.status.busy": "2022-03-18T23:21:35.000490Z",
     "iopub.status.idle": "2022-03-18T23:21:35.015702Z",
     "shell.execute_reply": "2022-03-18T23:21:35.015329Z"
    },
    "papermill": {
     "duration": 0.030448,
     "end_time": "2022-03-18T23:21:35.015793",
     "exception": false,
     "start_time": "2022-03-18T23:21:34.985345",
     "status": "completed"
    },
    "tags": []
   },
   "outputs": [],
   "source": [
    "# from steves_utils.CORES.utils import (\n",
    "#     ALL_NODES,\n",
    "#     ALL_NODES_MINIMUM_1000_EXAMPLES,\n",
    "#     ALL_DAYS\n",
    "# )\n",
    "\n",
    "# add_dataset(\n",
    "#     labels=ALL_NODES,\n",
    "#     domains = ALL_DAYS,\n",
    "#     num_examples_per_domain_per_label=100,\n",
    "#     pickle_path=os.path.join(get_datasets_base_path(), \"cores.stratified_ds.2022A.pkl\"),\n",
    "#     source_or_target_dataset=\"target\",\n",
    "#     x_transform_func=global_x_transform_func,\n",
    "#     domain_modifier=lambda u: f\"cores_{u}\"\n",
    "# )"
   ]
  },
  {
   "cell_type": "code",
   "execution_count": 15,
   "id": "76db484d",
   "metadata": {
    "execution": {
     "iopub.execute_input": "2022-03-18T23:21:35.046319Z",
     "iopub.status.busy": "2022-03-18T23:21:35.046068Z",
     "iopub.status.idle": "2022-03-18T23:21:35.055903Z",
     "shell.execute_reply": "2022-03-18T23:21:35.055555Z"
    },
    "papermill": {
     "duration": 0.024922,
     "end_time": "2022-03-18T23:21:35.055973",
     "exception": false,
     "start_time": "2022-03-18T23:21:35.031051",
     "status": "completed"
    },
    "tags": []
   },
   "outputs": [],
   "source": [
    "# from steves_utils.ORACLE.utils_v2 import (\n",
    "#     ALL_DISTANCES_FEET,\n",
    "#     ALL_RUNS,\n",
    "#     ALL_SERIAL_NUMBERS,\n",
    "# )\n",
    "\n",
    "\n",
    "# add_dataset(\n",
    "#     labels=ALL_SERIAL_NUMBERS,\n",
    "#     domains = list(set(ALL_DISTANCES_FEET) - {2,62}),\n",
    "#     num_examples_per_domain_per_label=100,\n",
    "#     pickle_path=os.path.join(get_datasets_base_path(), \"oracle.Run2_framed_2000Examples_stratified_ds.2022A.pkl\"),\n",
    "#     source_or_target_dataset=\"source\",\n",
    "#     x_transform_func=global_x_transform_func,\n",
    "#     domain_modifier=lambda u: f\"oracle1_{u}\"\n",
    "# )\n"
   ]
  },
  {
   "cell_type": "code",
   "execution_count": 16,
   "id": "97dea9d2",
   "metadata": {
    "execution": {
     "iopub.execute_input": "2022-03-18T23:21:35.087363Z",
     "iopub.status.busy": "2022-03-18T23:21:35.087093Z",
     "iopub.status.idle": "2022-03-18T23:21:35.097331Z",
     "shell.execute_reply": "2022-03-18T23:21:35.097118Z"
    },
    "papermill": {
     "duration": 0.025498,
     "end_time": "2022-03-18T23:21:35.097382",
     "exception": false,
     "start_time": "2022-03-18T23:21:35.071884",
     "status": "completed"
    },
    "tags": []
   },
   "outputs": [],
   "source": [
    "# from steves_utils.ORACLE.utils_v2 import (\n",
    "#     ALL_DISTANCES_FEET,\n",
    "#     ALL_RUNS,\n",
    "#     ALL_SERIAL_NUMBERS,\n",
    "# )\n",
    "\n",
    "\n",
    "# add_dataset(\n",
    "#     labels=ALL_SERIAL_NUMBERS,\n",
    "#     domains = list(set(ALL_DISTANCES_FEET) - {2,62,56}),\n",
    "#     num_examples_per_domain_per_label=100,\n",
    "#     pickle_path=os.path.join(get_datasets_base_path(), \"oracle.Run2_framed_2000Examples_stratified_ds.2022A.pkl\"),\n",
    "#     source_or_target_dataset=\"source\",\n",
    "#     x_transform_func=global_x_transform_func,\n",
    "#     domain_modifier=lambda u: f\"oracle2_{u}\"\n",
    "# )"
   ]
  },
  {
   "cell_type": "code",
   "execution_count": 17,
   "id": "6f289866",
   "metadata": {
    "execution": {
     "iopub.execute_input": "2022-03-18T23:21:35.128191Z",
     "iopub.status.busy": "2022-03-18T23:21:35.127939Z",
     "iopub.status.idle": "2022-03-18T23:21:35.138785Z",
     "shell.execute_reply": "2022-03-18T23:21:35.138399Z"
    },
    "papermill": {
     "duration": 0.025554,
     "end_time": "2022-03-18T23:21:35.138874",
     "exception": false,
     "start_time": "2022-03-18T23:21:35.113320",
     "status": "completed"
    },
    "tags": []
   },
   "outputs": [],
   "source": [
    "# add_dataset(\n",
    "#     labels=list(range(19)),\n",
    "#     domains = [0,1,2],\n",
    "#     num_examples_per_domain_per_label=100,\n",
    "#     pickle_path=os.path.join(get_datasets_base_path(), \"metehan.stratified_ds.2022A.pkl\"),\n",
    "#     source_or_target_dataset=\"target\",\n",
    "#     x_transform_func=global_x_transform_func,\n",
    "#     domain_modifier=lambda u: f\"met_{u}\"\n",
    "# )"
   ]
  },
  {
   "cell_type": "code",
   "execution_count": 18,
   "id": "86a863c3",
   "metadata": {
    "execution": {
     "iopub.execute_input": "2022-03-18T23:21:35.172356Z",
     "iopub.status.busy": "2022-03-18T23:21:35.172108Z",
     "iopub.status.idle": "2022-03-18T23:21:35.183429Z",
     "shell.execute_reply": "2022-03-18T23:21:35.183777Z"
    },
    "papermill": {
     "duration": 0.027244,
     "end_time": "2022-03-18T23:21:35.183882",
     "exception": false,
     "start_time": "2022-03-18T23:21:35.156638",
     "status": "completed"
    },
    "tags": []
   },
   "outputs": [],
   "source": [
    "# # from steves_utils.wisig.utils import (\n",
    "# #     ALL_NODES_MINIMUM_100_EXAMPLES,\n",
    "# #     ALL_NODES_MINIMUM_500_EXAMPLES,\n",
    "# #     ALL_NODES_MINIMUM_1000_EXAMPLES,\n",
    "# #     ALL_DAYS\n",
    "# # )\n",
    "\n",
    "# import steves_utils.wisig.utils as wisig\n",
    "\n",
    "\n",
    "# add_dataset(\n",
    "#     labels=wisig.ALL_NODES_MINIMUM_100_EXAMPLES,\n",
    "#     domains = wisig.ALL_DAYS,\n",
    "#     num_examples_per_domain_per_label=100,\n",
    "#     pickle_path=os.path.join(get_datasets_base_path(), \"wisig.node3-19.stratified_ds.2022A.pkl\"),\n",
    "#     source_or_target_dataset=\"target\",\n",
    "#     x_transform_func=global_x_transform_func,\n",
    "#     domain_modifier=lambda u: f\"wisig_{u}\"\n",
    "# )"
   ]
  },
  {
   "cell_type": "code",
   "execution_count": 19,
   "id": "fd5442bc",
   "metadata": {
    "execution": {
     "iopub.execute_input": "2022-03-18T23:21:35.216898Z",
     "iopub.status.busy": "2022-03-18T23:21:35.216638Z",
     "iopub.status.idle": "2022-03-18T23:21:35.230381Z",
     "shell.execute_reply": "2022-03-18T23:21:35.230655Z"
    },
    "papermill": {
     "duration": 0.031788,
     "end_time": "2022-03-18T23:21:35.230760",
     "exception": false,
     "start_time": "2022-03-18T23:21:35.198972",
     "status": "completed"
    },
    "tags": []
   },
   "outputs": [],
   "source": [
    "###################################\n",
    "# Build the dataset\n",
    "###################################\n",
    "train_original_source = Iterable_Aggregator(train_original_source, p.seed)\n",
    "val_original_source = Iterable_Aggregator(val_original_source, p.seed)\n",
    "test_original_source = Iterable_Aggregator(test_original_source, p.seed)\n",
    "\n",
    "\n",
    "train_original_target = Iterable_Aggregator(train_original_target, p.seed)\n",
    "val_original_target = Iterable_Aggregator(val_original_target, p.seed)\n",
    "test_original_target = Iterable_Aggregator(test_original_target, p.seed)\n",
    "\n",
    "# For CNN We only use X and Y. And we only train on the source.\n",
    "# Properly form the data using a transform lambda and Lazy_Iterable_Wrapper. Finally wrap them in a dataloader\n",
    "\n",
    "transform_lambda = lambda ex: ex[1] # Original is (<domain>, <episode>) so we strip down to episode only\n",
    "\n",
    "train_processed_source = Lazy_Iterable_Wrapper(train_original_source, transform_lambda)\n",
    "val_processed_source   = Lazy_Iterable_Wrapper(val_original_source, transform_lambda)\n",
    "test_processed_source  = Lazy_Iterable_Wrapper(test_original_source, transform_lambda)\n",
    "\n",
    "train_processed_target = Lazy_Iterable_Wrapper(train_original_target, transform_lambda)\n",
    "val_processed_target   = Lazy_Iterable_Wrapper(val_original_target, transform_lambda)\n",
    "test_processed_target  = Lazy_Iterable_Wrapper(test_original_target, transform_lambda)\n",
    "\n",
    "datasets = EasyDict({\n",
    "    \"source\": {\n",
    "        \"original\": {\"train\":train_original_source, \"val\":val_original_source, \"test\":test_original_source},\n",
    "        \"processed\": {\"train\":train_processed_source, \"val\":val_processed_source, \"test\":test_processed_source}\n",
    "    },\n",
    "    \"target\": {\n",
    "        \"original\": {\"train\":train_original_target, \"val\":val_original_target, \"test\":test_original_target},\n",
    "        \"processed\": {\"train\":train_processed_target, \"val\":val_processed_target, \"test\":test_processed_target}\n",
    "    },\n",
    "})"
   ]
  },
  {
   "cell_type": "code",
   "execution_count": 20,
   "id": "5b3c01fc",
   "metadata": {
    "execution": {
     "iopub.execute_input": "2022-03-18T23:21:35.264358Z",
     "iopub.status.busy": "2022-03-18T23:21:35.264109Z",
     "iopub.status.idle": "2022-03-18T23:21:40.051013Z",
     "shell.execute_reply": "2022-03-18T23:21:40.051503Z"
    },
    "papermill": {
     "duration": 4.803292,
     "end_time": "2022-03-18T23:21:40.051647",
     "exception": false,
     "start_time": "2022-03-18T23:21:35.248355",
     "status": "completed"
    },
    "tags": []
   },
   "outputs": [
    {
     "name": "stdout",
     "output_type": "stream",
     "text": [
      "{'C_A_2', 'C_A_3', 'C_A_4', 'W_A_2', 'W_A_1', 'C_A_5', 'W_A_3', 'C_A_1', 'W_A_4'}\n"
     ]
    },
    {
     "name": "stdout",
     "output_type": "stream",
     "text": [
      "{'ORACLE.run1_8', 'ORACLE.run1_38', 'ORACLE.run1_20', 'ORACLE.run1_14', 'ORACLE.run1_26', 'ORACLE.run1_50', 'ORACLE.run1_44', 'ORACLE.run1_32'}\n"
     ]
    },
    {
     "name": "stdout",
     "output_type": "stream",
     "text": [
      "tensor([[[ 1.0475, -0.3004, -0.0182,  ..., -0.3569, -0.3776,  1.4779],\n",
      "         [ 0.8841,  0.7314,  0.1112,  ..., -0.2451, -1.4471, -1.3572]],\n",
      "\n",
      "        [[-0.0496,  0.7484,  0.9380,  ..., -0.0574, -0.1980, -0.0279],\n",
      "         [-0.5721, -0.5766,  0.1310,  ...,  1.0439,  1.0974,  1.1605]],\n",
      "\n",
      "        [[ 1.4167,  0.5744, -0.2075,  ..., -2.1452, -1.6761, -0.8733],\n",
      "         [ 0.1393,  0.3731, -0.1161,  ..., -0.1850, -0.8028, -0.6077]],\n",
      "\n",
      "        ...,\n",
      "\n",
      "        [[ 0.2663, -0.6677, -0.6554,  ...,  1.2070, -0.1270, -0.9244],\n",
      "         [ 0.1966,  0.8247, -0.7796,  ...,  1.0609,  1.0418, -0.4492]],\n",
      "\n",
      "        [[ 0.3434,  0.9098, -0.7465,  ...,  0.5884,  0.9098, -0.4484],\n",
      "         [-0.4575,  0.7323,  0.5249,  ..., -1.3544,  0.1166,  1.0226]],\n",
      "\n",
      "        [[ 0.3104, -0.5980, -0.8278,  ...,  1.2592, -0.1384, -0.9877],\n",
      "         [ 0.1922,  0.9380, -0.6329,  ...,  0.8856,  0.8681, -0.3306]]])\n"
     ]
    }
   ],
   "source": [
    "from steves_utils.transforms import get_average_magnitude, get_average_power\n",
    "\n",
    "print(set([u for u,_ in val_original_source]))\n",
    "print(set([u for u,_ in val_original_target]))\n",
    "\n",
    "s_x, s_y, q_x, q_y, _ = next(iter(train_processed_source))\n",
    "print(s_x)\n",
    "\n",
    "# for ds in [\n",
    "#     train_processed_source,\n",
    "#     val_processed_source,\n",
    "#     test_processed_source,\n",
    "#     train_processed_target,\n",
    "#     val_processed_target,\n",
    "#     test_processed_target\n",
    "# ]:\n",
    "#     for s_x, s_y, q_x, q_y, _ in ds:\n",
    "#         for X in (s_x, q_x):\n",
    "#             for x in X:\n",
    "#                 assert np.isclose(get_average_magnitude(x.numpy()), 1.0)\n",
    "#                 assert np.isclose(get_average_power(x.numpy()), 1.0)\n",
    "                "
   ]
  },
  {
   "cell_type": "code",
   "execution_count": 21,
   "id": "bbdacba1",
   "metadata": {
    "execution": {
     "iopub.execute_input": "2022-03-18T23:21:40.097210Z",
     "iopub.status.busy": "2022-03-18T23:21:40.096315Z",
     "iopub.status.idle": "2022-03-18T23:21:40.149198Z",
     "shell.execute_reply": "2022-03-18T23:21:40.148712Z"
    },
    "papermill": {
     "duration": 0.073838,
     "end_time": "2022-03-18T23:21:40.149302",
     "exception": false,
     "start_time": "2022-03-18T23:21:40.075464",
     "status": "completed"
    },
    "tags": []
   },
   "outputs": [
    {
     "name": "stdout",
     "output_type": "stream",
     "text": [
      "(2, 200)\n"
     ]
    }
   ],
   "source": [
    "###################################\n",
    "# Build the model\n",
    "###################################\n",
    "# easfsl only wants a tuple for the shape\n",
    "model = Steves_Prototypical_Network(x_net, device=p.device, x_shape=tuple(p.x_shape))\n",
    "optimizer = Adam(params=model.parameters(), lr=p.lr)"
   ]
  },
  {
   "cell_type": "code",
   "execution_count": 22,
   "id": "22b39ac5",
   "metadata": {
    "execution": {
     "iopub.execute_input": "2022-03-18T23:21:40.188019Z",
     "iopub.status.busy": "2022-03-18T23:21:40.187569Z",
     "iopub.status.idle": "2022-03-18T23:28:10.068670Z",
     "shell.execute_reply": "2022-03-18T23:28:10.068167Z"
    },
    "papermill": {
     "duration": 389.898991,
     "end_time": "2022-03-18T23:28:10.068775",
     "exception": false,
     "start_time": "2022-03-18T23:21:40.169784",
     "status": "completed"
    },
    "tags": []
   },
   "outputs": [
    {
     "name": "stdout",
     "output_type": "stream",
     "text": [
      "epoch: 1, [batch: 1 / 2077], examples_per_second: 126.0577, train_label_loss: 2.7165, \n"
     ]
    },
    {
     "name": "stdout",
     "output_type": "stream",
     "text": [
      "epoch: 1, [batch: 208 / 2077], examples_per_second: 3619.2136, train_label_loss: 0.0439, \n"
     ]
    },
    {
     "name": "stdout",
     "output_type": "stream",
     "text": [
      "epoch: 1, [batch: 416 / 2077], examples_per_second: 3636.2955, train_label_loss: 1.2197, \n"
     ]
    },
    {
     "name": "stdout",
     "output_type": "stream",
     "text": [
      "epoch: 1, [batch: 623 / 2077], examples_per_second: 3649.7052, train_label_loss: 0.2515, \n"
     ]
    },
    {
     "name": "stdout",
     "output_type": "stream",
     "text": [
      "epoch: 1, [batch: 831 / 2077], examples_per_second: 3648.6187, train_label_loss: 0.2024, \n"
     ]
    },
    {
     "name": "stdout",
     "output_type": "stream",
     "text": [
      "epoch: 1, [batch: 1039 / 2077], examples_per_second: 3622.7322, train_label_loss: 0.0722, \n"
     ]
    },
    {
     "name": "stdout",
     "output_type": "stream",
     "text": [
      "epoch: 1, [batch: 1246 / 2077], examples_per_second: 3642.0781, train_label_loss: 0.2975, \n"
     ]
    },
    {
     "name": "stdout",
     "output_type": "stream",
     "text": [
      "epoch: 1, [batch: 1454 / 2077], examples_per_second: 3604.4540, train_label_loss: 0.5600, \n"
     ]
    },
    {
     "name": "stdout",
     "output_type": "stream",
     "text": [
      "epoch: 1, [batch: 1661 / 2077], examples_per_second: 3621.0440, train_label_loss: 0.4657, \n"
     ]
    },
    {
     "name": "stdout",
     "output_type": "stream",
     "text": [
      "epoch: 1, [batch: 1869 / 2077], examples_per_second: 3627.2139, train_label_loss: 0.1766, \n"
     ]
    },
    {
     "name": "stdout",
     "output_type": "stream",
     "text": [
      "=============================================================\n",
      "epoch: 1, source_val_acc_label: 0.9407, target_val_acc_label: 0.1692, source_val_label_loss: 0.2800, target_val_label_loss: 2.5493, \n",
      "=============================================================\n"
     ]
    },
    {
     "name": "stdout",
     "output_type": "stream",
     "text": [
      "New best\n"
     ]
    },
    {
     "name": "stdout",
     "output_type": "stream",
     "text": [
      "epoch: 2, [batch: 1 / 2078], examples_per_second: 11.2221, train_label_loss: 0.0869, \n"
     ]
    },
    {
     "name": "stdout",
     "output_type": "stream",
     "text": [
      "epoch: 2, [batch: 208 / 2078], examples_per_second: 3584.7651, train_label_loss: 0.1427, \n"
     ]
    },
    {
     "name": "stdout",
     "output_type": "stream",
     "text": [
      "epoch: 2, [batch: 416 / 2078], examples_per_second: 3609.6259, train_label_loss: 0.1695, \n"
     ]
    },
    {
     "name": "stdout",
     "output_type": "stream",
     "text": [
      "epoch: 2, [batch: 624 / 2078], examples_per_second: 3621.2461, train_label_loss: 0.0313, \n"
     ]
    },
    {
     "name": "stdout",
     "output_type": "stream",
     "text": [
      "epoch: 2, [batch: 831 / 2078], examples_per_second: 3623.0168, train_label_loss: 0.0198, \n"
     ]
    },
    {
     "name": "stdout",
     "output_type": "stream",
     "text": [
      "epoch: 2, [batch: 1039 / 2078], examples_per_second: 3590.1003, train_label_loss: 0.0061, \n"
     ]
    },
    {
     "name": "stdout",
     "output_type": "stream",
     "text": [
      "epoch: 2, [batch: 1247 / 2078], examples_per_second: 3587.5969, train_label_loss: 0.1591, \n"
     ]
    },
    {
     "name": "stdout",
     "output_type": "stream",
     "text": [
      "epoch: 2, [batch: 1454 / 2078], examples_per_second: 3605.4814, train_label_loss: 0.0028, \n"
     ]
    },
    {
     "name": "stdout",
     "output_type": "stream",
     "text": [
      "epoch: 2, [batch: 1662 / 2078], examples_per_second: 3562.1307, train_label_loss: 0.1740, \n"
     ]
    },
    {
     "name": "stdout",
     "output_type": "stream",
     "text": [
      "epoch: 2, [batch: 1870 / 2078], examples_per_second: 3599.7507, train_label_loss: 0.2641, \n"
     ]
    },
    {
     "name": "stdout",
     "output_type": "stream",
     "text": [
      "=============================================================\n",
      "epoch: 2, source_val_acc_label: 0.9540, target_val_acc_label: 0.1579, source_val_label_loss: 0.2048, target_val_label_loss: 2.6957, \n",
      "=============================================================\n"
     ]
    },
    {
     "name": "stdout",
     "output_type": "stream",
     "text": [
      "epoch: 3, [batch: 1 / 2078], examples_per_second: 11.2360, train_label_loss: 0.0473, \n"
     ]
    },
    {
     "name": "stdout",
     "output_type": "stream",
     "text": [
      "epoch: 3, [batch: 208 / 2078], examples_per_second: 3607.1189, train_label_loss: 0.6329, \n"
     ]
    },
    {
     "name": "stdout",
     "output_type": "stream",
     "text": [
      "epoch: 3, [batch: 416 / 2078], examples_per_second: 3628.6062, train_label_loss: 0.0021, \n"
     ]
    },
    {
     "name": "stdout",
     "output_type": "stream",
     "text": [
      "epoch: 3, [batch: 624 / 2078], examples_per_second: 3630.6566, train_label_loss: 0.0035, \n"
     ]
    },
    {
     "name": "stdout",
     "output_type": "stream",
     "text": [
      "epoch: 3, [batch: 831 / 2078], examples_per_second: 3636.3622, train_label_loss: 0.0045, \n"
     ]
    },
    {
     "name": "stdout",
     "output_type": "stream",
     "text": [
      "epoch: 3, [batch: 1039 / 2078], examples_per_second: 3601.6369, train_label_loss: 0.6734, \n"
     ]
    },
    {
     "name": "stdout",
     "output_type": "stream",
     "text": [
      "epoch: 3, [batch: 1247 / 2078], examples_per_second: 3614.1039, train_label_loss: 0.0601, \n"
     ]
    },
    {
     "name": "stdout",
     "output_type": "stream",
     "text": [
      "epoch: 3, [batch: 1454 / 2078], examples_per_second: 3580.2709, train_label_loss: 0.0136, \n"
     ]
    },
    {
     "name": "stdout",
     "output_type": "stream",
     "text": [
      "epoch: 3, [batch: 1662 / 2078], examples_per_second: 3679.7946, train_label_loss: 0.2272, \n"
     ]
    },
    {
     "name": "stdout",
     "output_type": "stream",
     "text": [
      "epoch: 3, [batch: 1870 / 2078], examples_per_second: 3640.0232, train_label_loss: 0.0874, \n"
     ]
    },
    {
     "name": "stdout",
     "output_type": "stream",
     "text": [
      "=============================================================\n",
      "epoch: 3, source_val_acc_label: 0.9637, target_val_acc_label: 0.1896, source_val_label_loss: 0.1606, target_val_label_loss: 2.4589, \n",
      "=============================================================\n"
     ]
    },
    {
     "name": "stdout",
     "output_type": "stream",
     "text": [
      "New best\n"
     ]
    },
    {
     "name": "stdout",
     "output_type": "stream",
     "text": [
      "epoch: 4, [batch: 1 / 2081], examples_per_second: 11.1486, train_label_loss: 0.0202, \n"
     ]
    },
    {
     "name": "stdout",
     "output_type": "stream",
     "text": [
      "epoch: 4, [batch: 209 / 2081], examples_per_second: 3608.4991, train_label_loss: 0.0198, \n"
     ]
    },
    {
     "name": "stdout",
     "output_type": "stream",
     "text": [
      "epoch: 4, [batch: 417 / 2081], examples_per_second: 3626.7484, train_label_loss: 0.0730, \n"
     ]
    },
    {
     "name": "stdout",
     "output_type": "stream",
     "text": [
      "epoch: 4, [batch: 625 / 2081], examples_per_second: 3604.5656, train_label_loss: 0.0062, \n"
     ]
    },
    {
     "name": "stdout",
     "output_type": "stream",
     "text": [
      "epoch: 4, [batch: 833 / 2081], examples_per_second: 3625.6157, train_label_loss: 0.1090, \n"
     ]
    },
    {
     "name": "stdout",
     "output_type": "stream",
     "text": [
      "epoch: 4, [batch: 1041 / 2081], examples_per_second: 3606.7384, train_label_loss: 0.1325, \n"
     ]
    },
    {
     "name": "stdout",
     "output_type": "stream",
     "text": [
      "epoch: 4, [batch: 1249 / 2081], examples_per_second: 3614.1646, train_label_loss: 0.1045, \n"
     ]
    },
    {
     "name": "stdout",
     "output_type": "stream",
     "text": [
      "epoch: 4, [batch: 1457 / 2081], examples_per_second: 3610.8325, train_label_loss: 0.0131, \n"
     ]
    },
    {
     "name": "stdout",
     "output_type": "stream",
     "text": [
      "epoch: 4, [batch: 1665 / 2081], examples_per_second: 3605.5334, train_label_loss: 0.0211, \n"
     ]
    },
    {
     "name": "stdout",
     "output_type": "stream",
     "text": [
      "epoch: 4, [batch: 1873 / 2081], examples_per_second: 3612.8866, train_label_loss: 0.0031, \n"
     ]
    },
    {
     "name": "stdout",
     "output_type": "stream",
     "text": [
      "=============================================================\n",
      "epoch: 4, source_val_acc_label: 0.9691, target_val_acc_label: 0.1919, source_val_label_loss: 0.1487, target_val_label_loss: 2.5246, \n",
      "=============================================================\n"
     ]
    },
    {
     "name": "stdout",
     "output_type": "stream",
     "text": [
      "epoch: 5, [batch: 1 / 2081], examples_per_second: 11.1847, train_label_loss: 0.0223, \n"
     ]
    },
    {
     "name": "stdout",
     "output_type": "stream",
     "text": [
      "epoch: 5, [batch: 209 / 2081], examples_per_second: 3594.0583, train_label_loss: 0.0006, \n"
     ]
    },
    {
     "name": "stdout",
     "output_type": "stream",
     "text": [
      "epoch: 5, [batch: 417 / 2081], examples_per_second: 3595.2613, train_label_loss: 0.4553, \n"
     ]
    },
    {
     "name": "stdout",
     "output_type": "stream",
     "text": [
      "epoch: 5, [batch: 625 / 2081], examples_per_second: 3612.2981, train_label_loss: 0.0070, \n"
     ]
    },
    {
     "name": "stdout",
     "output_type": "stream",
     "text": [
      "epoch: 5, [batch: 833 / 2081], examples_per_second: 3611.6793, train_label_loss: 0.0200, \n"
     ]
    },
    {
     "name": "stdout",
     "output_type": "stream",
     "text": [
      "epoch: 5, [batch: 1041 / 2081], examples_per_second: 3613.5472, train_label_loss: 0.2097, \n"
     ]
    },
    {
     "name": "stdout",
     "output_type": "stream",
     "text": [
      "epoch: 5, [batch: 1249 / 2081], examples_per_second: 3618.2146, train_label_loss: 0.0928, \n"
     ]
    },
    {
     "name": "stdout",
     "output_type": "stream",
     "text": [
      "epoch: 5, [batch: 1457 / 2081], examples_per_second: 3612.9221, train_label_loss: 0.0057, \n"
     ]
    },
    {
     "name": "stdout",
     "output_type": "stream",
     "text": [
      "epoch: 5, [batch: 1665 / 2081], examples_per_second: 3590.6416, train_label_loss: 0.2940, \n"
     ]
    },
    {
     "name": "stdout",
     "output_type": "stream",
     "text": [
      "epoch: 5, [batch: 1873 / 2081], examples_per_second: 3654.3558, train_label_loss: 0.3792, \n"
     ]
    },
    {
     "name": "stdout",
     "output_type": "stream",
     "text": [
      "=============================================================\n",
      "epoch: 5, source_val_acc_label: 0.9667, target_val_acc_label: 0.1630, source_val_label_loss: 0.1579, target_val_label_loss: 2.7822, \n",
      "=============================================================\n"
     ]
    },
    {
     "name": "stdout",
     "output_type": "stream",
     "text": [
      "epoch: 6, [batch: 1 / 2080], examples_per_second: 11.2806, train_label_loss: 0.0037, \n"
     ]
    },
    {
     "name": "stdout",
     "output_type": "stream",
     "text": [
      "epoch: 6, [batch: 208 / 2080], examples_per_second: 3575.1960, train_label_loss: 0.2434, \n"
     ]
    },
    {
     "name": "stdout",
     "output_type": "stream",
     "text": [
      "epoch: 6, [batch: 416 / 2080], examples_per_second: 3597.3123, train_label_loss: 0.3674, \n"
     ]
    },
    {
     "name": "stdout",
     "output_type": "stream",
     "text": [
      "epoch: 6, [batch: 624 / 2080], examples_per_second: 3612.5400, train_label_loss: 0.0002, \n"
     ]
    },
    {
     "name": "stdout",
     "output_type": "stream",
     "text": [
      "epoch: 6, [batch: 832 / 2080], examples_per_second: 3605.4168, train_label_loss: 0.1253, \n"
     ]
    },
    {
     "name": "stdout",
     "output_type": "stream",
     "text": [
      "epoch: 6, [batch: 1040 / 2080], examples_per_second: 3593.2559, train_label_loss: 0.0573, \n"
     ]
    },
    {
     "name": "stdout",
     "output_type": "stream",
     "text": [
      "epoch: 6, [batch: 1248 / 2080], examples_per_second: 3621.4838, train_label_loss: 0.1157, \n"
     ]
    },
    {
     "name": "stdout",
     "output_type": "stream",
     "text": [
      "epoch: 6, [batch: 1456 / 2080], examples_per_second: 3611.8203, train_label_loss: 0.0054, \n"
     ]
    },
    {
     "name": "stdout",
     "output_type": "stream",
     "text": [
      "epoch: 6, [batch: 1664 / 2080], examples_per_second: 3594.3520, train_label_loss: 0.0189, \n"
     ]
    },
    {
     "name": "stdout",
     "output_type": "stream",
     "text": [
      "epoch: 6, [batch: 1872 / 2080], examples_per_second: 3635.1415, train_label_loss: 0.0011, \n"
     ]
    },
    {
     "name": "stdout",
     "output_type": "stream",
     "text": [
      "=============================================================\n",
      "epoch: 6, source_val_acc_label: 0.9693, target_val_acc_label: 0.2064, source_val_label_loss: 0.1455, target_val_label_loss: 2.5288, \n",
      "=============================================================\n"
     ]
    },
    {
     "name": "stdout",
     "output_type": "stream",
     "text": [
      "epoch: 7, [batch: 1 / 2079], examples_per_second: 11.2193, train_label_loss: 0.0153, \n"
     ]
    },
    {
     "name": "stdout",
     "output_type": "stream",
     "text": [
      "epoch: 7, [batch: 208 / 2079], examples_per_second: 3601.9054, train_label_loss: 0.1713, \n"
     ]
    },
    {
     "name": "stdout",
     "output_type": "stream",
     "text": [
      "epoch: 7, [batch: 416 / 2079], examples_per_second: 3605.2896, train_label_loss: 0.0002, \n"
     ]
    },
    {
     "name": "stdout",
     "output_type": "stream",
     "text": [
      "epoch: 7, [batch: 624 / 2079], examples_per_second: 3610.7100, train_label_loss: 0.0591, \n"
     ]
    },
    {
     "name": "stdout",
     "output_type": "stream",
     "text": [
      "epoch: 7, [batch: 832 / 2079], examples_per_second: 3612.1653, train_label_loss: 0.0001, \n"
     ]
    },
    {
     "name": "stdout",
     "output_type": "stream",
     "text": [
      "epoch: 7, [batch: 1040 / 2079], examples_per_second: 3607.0228, train_label_loss: 0.0162, \n"
     ]
    },
    {
     "name": "stdout",
     "output_type": "stream",
     "text": [
      "epoch: 7, [batch: 1247 / 2079], examples_per_second: 3605.8442, train_label_loss: 0.0063, \n"
     ]
    },
    {
     "name": "stdout",
     "output_type": "stream",
     "text": [
      "epoch: 7, [batch: 1455 / 2079], examples_per_second: 3610.8716, train_label_loss: 0.0560, \n"
     ]
    },
    {
     "name": "stdout",
     "output_type": "stream",
     "text": [
      "epoch: 7, [batch: 1663 / 2079], examples_per_second: 3562.1847, train_label_loss: 0.0156, \n"
     ]
    },
    {
     "name": "stdout",
     "output_type": "stream",
     "text": [
      "epoch: 7, [batch: 1871 / 2079], examples_per_second: 3623.8505, train_label_loss: 0.0177, \n"
     ]
    },
    {
     "name": "stdout",
     "output_type": "stream",
     "text": [
      "=============================================================\n",
      "epoch: 7, source_val_acc_label: 0.9703, target_val_acc_label: 0.1807, source_val_label_loss: 0.1632, target_val_label_loss: 2.7462, \n",
      "=============================================================\n"
     ]
    },
    {
     "name": "stdout",
     "output_type": "stream",
     "text": [
      "Patience (3) exhausted\n"
     ]
    }
   ],
   "source": [
    "###################################\n",
    "# train\n",
    "###################################\n",
    "jig = PTN_Train_Eval_Test_Jig(model, p.BEST_MODEL_PATH, p.device)\n",
    "\n",
    "jig.train(\n",
    "    train_iterable=datasets.source.processed.train,\n",
    "    source_val_iterable=datasets.source.processed.val,\n",
    "    target_val_iterable=datasets.target.processed.val,\n",
    "    num_epochs=p.n_epoch,\n",
    "    num_logs_per_epoch=p.NUM_LOGS_PER_EPOCH,\n",
    "    patience=p.patience,\n",
    "    optimizer=optimizer,\n",
    "    criteria_for_best=p.criteria_for_best,\n",
    ")"
   ]
  },
  {
   "cell_type": "code",
   "execution_count": 23,
   "id": "31e8fabf",
   "metadata": {
    "execution": {
     "iopub.execute_input": "2022-03-18T23:28:10.135209Z",
     "iopub.status.busy": "2022-03-18T23:28:10.134163Z",
     "iopub.status.idle": "2022-03-18T23:28:10.152298Z",
     "shell.execute_reply": "2022-03-18T23:28:10.152030Z"
    },
    "papermill": {
     "duration": 0.049019,
     "end_time": "2022-03-18T23:28:10.152361",
     "exception": false,
     "start_time": "2022-03-18T23:28:10.103342",
     "status": "completed"
    },
    "tags": []
   },
   "outputs": [],
   "source": [
    "total_experiment_time_secs = time.time() - start_time_secs"
   ]
  },
  {
   "cell_type": "code",
   "execution_count": 24,
   "id": "87b9595b",
   "metadata": {
    "execution": {
     "iopub.execute_input": "2022-03-18T23:28:10.215387Z",
     "iopub.status.busy": "2022-03-18T23:28:10.215111Z",
     "iopub.status.idle": "2022-03-18T23:29:12.719499Z",
     "shell.execute_reply": "2022-03-18T23:29:12.719876Z"
    },
    "papermill": {
     "duration": 62.539396,
     "end_time": "2022-03-18T23:29:12.720009",
     "exception": false,
     "start_time": "2022-03-18T23:28:10.180613",
     "status": "completed"
    },
    "tags": []
   },
   "outputs": [],
   "source": [
    "###################################\n",
    "# Evaluate the model\n",
    "###################################\n",
    "source_test_label_accuracy, source_test_label_loss = jig.test(datasets.source.processed.test)\n",
    "target_test_label_accuracy, target_test_label_loss = jig.test(datasets.target.processed.test)\n",
    "\n",
    "source_val_label_accuracy, source_val_label_loss = jig.test(datasets.source.processed.val)\n",
    "target_val_label_accuracy, target_val_label_loss = jig.test(datasets.target.processed.val)\n",
    "\n",
    "history = jig.get_history()\n",
    "\n",
    "total_epochs_trained = len(history[\"epoch_indices\"])\n",
    "\n",
    "val_dl = Iterable_Aggregator((datasets.source.original.val,datasets.target.original.val))\n",
    "\n",
    "confusion = ptn_confusion_by_domain_over_dataloader(model, p.device, val_dl)\n",
    "per_domain_accuracy = per_domain_accuracy_from_confusion(confusion)\n",
    "\n",
    "# Add a key to per_domain_accuracy for if it was a source domain\n",
    "for domain, accuracy in per_domain_accuracy.items():\n",
    "    per_domain_accuracy[domain] = {\n",
    "        \"accuracy\": accuracy,\n",
    "        \"source?\": domain in p.domains_source\n",
    "    }\n",
    "\n",
    "# Do an independent accuracy assesment JUST TO BE SURE!\n",
    "# _source_test_label_accuracy = independent_accuracy_assesment(model, datasets.source.processed.test, p.device)\n",
    "# _target_test_label_accuracy = independent_accuracy_assesment(model, datasets.target.processed.test, p.device)\n",
    "# _source_val_label_accuracy = independent_accuracy_assesment(model, datasets.source.processed.val, p.device)\n",
    "# _target_val_label_accuracy = independent_accuracy_assesment(model, datasets.target.processed.val, p.device)\n",
    "\n",
    "# assert(_source_test_label_accuracy == source_test_label_accuracy)\n",
    "# assert(_target_test_label_accuracy == target_test_label_accuracy)\n",
    "# assert(_source_val_label_accuracy == source_val_label_accuracy)\n",
    "# assert(_target_val_label_accuracy == target_val_label_accuracy)\n",
    "\n",
    "experiment = {\n",
    "    \"experiment_name\": p.experiment_name,\n",
    "    \"parameters\": dict(p),\n",
    "    \"results\": {\n",
    "        \"source_test_label_accuracy\": source_test_label_accuracy,\n",
    "        \"source_test_label_loss\": source_test_label_loss,\n",
    "        \"target_test_label_accuracy\": target_test_label_accuracy,\n",
    "        \"target_test_label_loss\": target_test_label_loss,\n",
    "        \"source_val_label_accuracy\": source_val_label_accuracy,\n",
    "        \"source_val_label_loss\": source_val_label_loss,\n",
    "        \"target_val_label_accuracy\": target_val_label_accuracy,\n",
    "        \"target_val_label_loss\": target_val_label_loss,\n",
    "        \"total_epochs_trained\": total_epochs_trained,\n",
    "        \"total_experiment_time_secs\": total_experiment_time_secs,\n",
    "        \"confusion\": confusion,\n",
    "        \"per_domain_accuracy\": per_domain_accuracy,\n",
    "    },\n",
    "    \"history\": history,\n",
    "    \"dataset_metrics\": get_dataset_metrics(datasets, \"ptn\"),\n",
    "}"
   ]
  },
  {
   "cell_type": "code",
   "execution_count": 25,
   "id": "54a21829",
   "metadata": {
    "execution": {
     "iopub.execute_input": "2022-03-18T23:29:12.782817Z",
     "iopub.status.busy": "2022-03-18T23:29:12.782566Z",
     "iopub.status.idle": "2022-03-18T23:29:12.907875Z",
     "shell.execute_reply": "2022-03-18T23:29:12.908247Z"
    },
    "papermill": {
     "duration": 0.155963,
     "end_time": "2022-03-18T23:29:12.908352",
     "exception": false,
     "start_time": "2022-03-18T23:29:12.752389",
     "status": "completed"
    },
    "tags": []
   },
   "outputs": [
    {
     "data": {
      "image/png": "[encoded data removed]",
      "text/plain": [
       "<Figure size 1080x504 with 1 Axes>"
      ]
     },
     "metadata": {
      "needs_background": "light"
     },
     "output_type": "display_data"
    }
   ],
   "source": [
    "ax = get_loss_curve(experiment)\n",
    "plt.show()"
   ]
  },
  {
   "cell_type": "code",
   "execution_count": 26,
   "id": "fd8a0f60",
   "metadata": {
    "execution": {
     "iopub.execute_input": "2022-03-18T23:29:12.972088Z",
     "iopub.status.busy": "2022-03-18T23:29:12.971840Z",
     "iopub.status.idle": "2022-03-18T23:29:13.112326Z",
     "shell.execute_reply": "2022-03-18T23:29:13.112610Z"
    },
    "papermill": {
     "duration": 0.171883,
     "end_time": "2022-03-18T23:29:13.112687",
     "exception": false,
     "start_time": "2022-03-18T23:29:12.940804",
     "status": "completed"
    },
    "tags": []
   },
   "outputs": [
    {
     "data": {
      "text/plain": [
       "<AxesSubplot:title={'center':'Results'}>"
      ]
     },
     "execution_count": 26,
     "metadata": {},
     "output_type": "execute_result"
    },
    {
     "data": {
      "image/png": "[encoded data removed]",
      "text/plain": [
       "<Figure size 1080x504 with 1 Axes>"
      ]
     },
     "metadata": {
      "needs_background": "light"
     },
     "output_type": "display_data"
    }
   ],
   "source": [
    "get_results_table(experiment)"
   ]
  },
  {
   "cell_type": "code",
   "execution_count": 27,
   "id": "cf8dc689",
   "metadata": {
    "execution": {
     "iopub.execute_input": "2022-03-18T23:29:13.187260Z",
     "iopub.status.busy": "2022-03-18T23:29:13.186995Z",
     "iopub.status.idle": "2022-03-18T23:29:13.350006Z",
     "shell.execute_reply": "2022-03-18T23:29:13.349560Z"
    },
    "papermill": {
     "duration": 0.19532,
     "end_time": "2022-03-18T23:29:13.350096",
     "exception": false,
     "start_time": "2022-03-18T23:29:13.154776",
     "status": "completed"
    },
    "tags": []
   },
   "outputs": [
    {
     "data": {
      "text/plain": [
       "<AxesSubplot:title={'center':'Per Domain Validation Accuracy'}, xlabel='domain'>"
      ]
     },
     "execution_count": 27,
     "metadata": {},
     "output_type": "execute_result"
    },
    {
     "data": {
      "image/png": "[encoded data removed]",
      "text/plain": [
       "<Figure size 1080x504 with 1 Axes>"
      ]
     },
     "metadata": {
      "needs_background": "light"
     },
     "output_type": "display_data"
    }
   ],
   "source": [
    "get_domain_accuracies(experiment)"
   ]
  },
  {
   "cell_type": "code",
   "execution_count": 28,
   "id": "a74ae082",
   "metadata": {
    "execution": {
     "iopub.execute_input": "2022-03-18T23:29:13.419549Z",
     "iopub.status.busy": "2022-03-18T23:29:13.419299Z",
     "iopub.status.idle": "2022-03-18T23:29:13.435484Z",
     "shell.execute_reply": "2022-03-18T23:29:13.435066Z"
    },
    "papermill": {
     "duration": 0.05015,
     "end_time": "2022-03-18T23:29:13.435576",
     "exception": false,
     "start_time": "2022-03-18T23:29:13.385426",
     "status": "completed"
    },
    "tags": []
   },
   "outputs": [
    {
     "name": "stdout",
     "output_type": "stream",
     "text": [
      "Source Test Label Accuracy: 0.9674524221453287 Target Test Label Accuracy: 0.19124348958333334\n",
      "Source Val Label Accuracy: 0.9636678200692042 Target Val Label Accuracy: 0.18955078125\n"
     ]
    }
   ],
   "source": [
    "print(\"Source Test Label Accuracy:\", experiment[\"results\"][\"source_test_label_accuracy\"], \"Target Test Label Accuracy:\", experiment[\"results\"][\"target_test_label_accuracy\"])\n",
    "print(\"Source Val Label Accuracy:\", experiment[\"results\"][\"source_val_label_accuracy\"], \"Target Val Label Accuracy:\", experiment[\"results\"][\"target_val_label_accuracy\"])"
   ]
  },
  {
   "cell_type": "code",
   "execution_count": 29,
   "id": "dacca602",
   "metadata": {
    "execution": {
     "iopub.execute_input": "2022-03-18T23:29:13.503875Z",
     "iopub.status.busy": "2022-03-18T23:29:13.503629Z",
     "iopub.status.idle": "2022-03-18T23:29:13.516376Z",
     "shell.execute_reply": "2022-03-18T23:29:13.516749Z"
    },
    "papermill": {
     "duration": 0.046221,
     "end_time": "2022-03-18T23:29:13.516853",
     "exception": false,
     "start_time": "2022-03-18T23:29:13.470632",
     "status": "completed"
    },
    "tags": [
     "experiment_json"
    ]
   },
   "outputs": [
    {
     "data": {
      "text/plain": [
       "'{\"experiment_name\": \"tl_3A:cores+wisig -> oracle.run1.framed\", \"parameters\": {\"experiment_name\": \"tl_3A:cores+wisig -> oracle.run1.framed\", \"device\": \"cuda\", \"lr\": 0.001, \"x_shape\": [2, 200], \"n_shot\": 3, \"n_query\": 2, \"train_k_factor\": 3, \"val_k_factor\": 2, \"test_k_factor\": 2, \"torch_default_dtype\": \"torch.float32\", \"n_epoch\": 50, \"patience\": 3, \"criteria_for_best\": \"target_loss\", \"x_net\": [{\"class\": \"nnReshape\", \"kargs\": {\"shape\": [-1, 1, 2, 200]}}, {\"class\": \"Conv2d\", \"kargs\": {\"in_channels\": 1, \"out_channels\": 256, \"kernel_size\": [1, 7], \"bias\": false, \"padding\": [0, 3]}}, {\"class\": \"ReLU\", \"kargs\": {\"inplace\": true}}, {\"class\": \"BatchNorm2d\", \"kargs\": {\"num_features\": 256}}, {\"class\": \"Conv2d\", \"kargs\": {\"in_channels\": 256, \"out_channels\": 80, \"kernel_size\": [2, 7], \"bias\": true, \"padding\": [0, 3]}}, {\"class\": \"ReLU\", \"kargs\": {\"inplace\": true}}, {\"class\": \"BatchNorm2d\", \"kargs\": {\"num_features\": 80}}, {\"class\": \"Flatten\", \"kargs\": {}}, {\"class\": \"Linear\", \"kargs\": {\"in_features\": 16000, \"out_features\": 256}}, {\"class\": \"ReLU\", \"kargs\": {\"inplace\": true}}, {\"class\": \"BatchNorm1d\", \"kargs\": {\"num_features\": 256}}, {\"class\": \"Linear\", \"kargs\": {\"in_features\": 256, \"out_features\": 256}}], \"NUM_LOGS_PER_EPOCH\": 10, \"BEST_MODEL_PATH\": \"./best_model.pth\", \"n_way\": 16, \"datasets\": [{\"labels\": [\"1-10.\", \"1-11.\", \"1-15.\", \"1-16.\", \"1-17.\", \"1-18.\", \"1-19.\", \"10-4.\", \"10-7.\", \"11-1.\", \"11-14.\", \"11-17.\", \"11-20.\", \"11-7.\", \"13-20.\", \"13-8.\", \"14-10.\", \"14-11.\", \"14-14.\", \"14-7.\", \"15-1.\", \"15-20.\", \"16-1.\", \"16-16.\", \"17-10.\", \"17-11.\", \"17-2.\", \"19-1.\", \"19-16.\", \"19-19.\", \"19-20.\", \"19-3.\", \"2-10.\", \"2-11.\", \"2-17.\", \"2-18.\", \"2-20.\", \"2-3.\", \"2-4.\", \"2-5.\", \"2-6.\", \"2-7.\", \"2-8.\", \"3-13.\", \"3-18.\", \"3-3.\", \"4-1.\", \"4-10.\", \"4-11.\", \"4-19.\", \"5-5.\", \"6-15.\", \"7-10.\", \"7-14.\", \"8-18.\", \"8-20.\", \"8-3.\", \"8-8.\"], \"domains\": [1, 2, 3, 4, 5], \"num_examples_per_domain_per_label\": 100, \"pickle_path\": \"/mnt/wd500GB/CSC500/csc500-main/datasets/cores.stratified_ds.2022A.pkl\", \"source_or_target_dataset\": \"source\", \"x_transforms\": [\"unit_mag\", \"take_200\"], \"episode_transforms\": [], \"domain_prefix\": \"C_A_\"}, {\"labels\": [\"1-10\", \"1-12\", \"1-14\", \"1-16\", \"1-18\", \"1-19\", \"1-8\", \"10-11\", \"10-17\", \"10-4\", \"10-7\", \"11-1\", \"11-10\", \"11-19\", \"11-20\", \"11-4\", \"11-7\", \"12-19\", \"12-20\", \"12-7\", \"13-14\", \"13-18\", \"13-19\", \"13-20\", \"13-3\", \"13-7\", \"14-10\", \"14-11\", \"14-12\", \"14-13\", \"14-14\", \"14-19\", \"14-20\", \"14-7\", \"14-8\", \"14-9\", \"15-1\", \"15-19\", \"15-6\", \"16-1\", \"16-16\", \"16-19\", \"16-20\", \"17-10\", \"17-11\", \"18-1\", \"18-10\", \"18-11\", \"18-12\", \"18-13\", \"18-14\", \"18-15\", \"18-16\", \"18-17\", \"18-19\", \"18-2\", \"18-20\", \"18-4\", \"18-5\", \"18-7\", \"18-8\", \"18-9\", \"19-1\", \"19-10\", \"19-11\", \"19-12\", \"19-13\", \"19-14\", \"19-15\", \"19-19\", \"19-2\", \"19-20\", \"19-3\", \"19-4\", \"19-6\", \"19-7\", \"19-8\", \"19-9\", \"2-1\", \"2-13\", \"2-15\", \"2-3\", \"2-4\", \"2-5\", \"2-6\", \"2-7\", \"2-8\", \"20-1\", \"20-12\", \"20-14\", \"20-15\", \"20-16\", \"20-18\", \"20-19\", \"20-20\", \"20-3\", \"20-4\", \"20-5\", \"20-7\", \"20-8\", \"3-1\", \"3-13\", \"3-18\", \"3-2\", \"3-8\", \"4-1\", \"4-10\", \"4-11\", \"5-1\", \"5-5\", \"6-1\", \"6-15\", \"6-6\", \"7-10\", \"7-11\", \"7-12\", \"7-13\", \"7-14\", \"7-7\", \"7-8\", \"7-9\", \"8-1\", \"8-13\", \"8-14\", \"8-18\", \"8-20\", \"8-3\", \"8-8\", \"9-1\", \"9-7\"], \"domains\": [1, 2, 3, 4], \"num_examples_per_domain_per_label\": 100, \"pickle_path\": \"/mnt/wd500GB/CSC500/csc500-main/datasets/wisig.node3-19.stratified_ds.2022A.pkl\", \"source_or_target_dataset\": \"source\", \"x_transforms\": [\"unit_mag\", \"take_200\"], \"episode_transforms\": [], \"domain_prefix\": \"W_A_\"}, {\"labels\": [\"3123D52\", \"3123D65\", \"3123D79\", \"3123D80\", \"3123D54\", \"3123D70\", \"3123D7B\", \"3123D89\", \"3123D58\", \"3123D76\", \"3123D7D\", \"3123EFE\", \"3123D64\", \"3123D78\", \"3123D7E\", \"3124E4A\"], \"domains\": [32, 38, 8, 44, 14, 50, 20, 26], \"num_examples_per_domain_per_label\": 2000, \"pickle_path\": \"/mnt/wd500GB/CSC500/csc500-main/datasets/oracle.Run1_framed_2000Examples_stratified_ds.2022A.pkl\", \"source_or_target_dataset\": \"target\", \"x_transforms\": [\"unit_mag\", \"take_200\", \"resample_20Msps_to_25Msps\"], \"episode_transforms\": [], \"domain_prefix\": \"ORACLE.run1_\"}], \"seed\": 500, \"dataset_seed\": 500, \"domains_source\": [\"C_A_1\", \"C_A_2\", \"C_A_3\", \"C_A_4\", \"C_A_5\", \"W_A_1\", \"W_A_2\", \"W_A_3\", \"W_A_4\"], \"domains_target\": [\"ORACLE.run1_32\", \"ORACLE.run1_38\", \"ORACLE.run1_8\", \"ORACLE.run1_44\", \"ORACLE.run1_14\", \"ORACLE.run1_50\", \"ORACLE.run1_20\", \"ORACLE.run1_26\"]}, \"results\": {\"source_test_label_accuracy\": 0.9674524221453287, \"source_test_label_loss\": 0.14927558600902557, \"target_test_label_accuracy\": 0.19124348958333334, \"target_test_label_loss\": 2.4548184871673584, \"source_val_label_accuracy\": 0.9636678200692042, \"source_val_label_loss\": 0.16064421832561493, \"target_val_label_accuracy\": 0.18955078125, \"target_val_label_loss\": 2.4589357376098633, \"total_epochs_trained\": 7, \"total_experiment_time_secs\": 434.2426064014435, \"confusion\": {\"W_A_3\": {\"99\": {\"99\": 12}, \"8\": {\"8\": 12}, \"65\": {\"18\": 1, \"65\": 10, \"39\": 1}, \"117\": {\"117\": 10}, \"18\": {\"18\": 12}, \"39\": {\"39\": 12}, \"102\": {\"102\": 12}, \"76\": {\"76\": 12}, \"101\": {\"101\": 12}, \"57\": {\"57\": 12}, \"86\": {\"86\": 12}, \"11\": {\"11\": 12}, \"98\": {\"98\": 12}, \"42\": {\"39\": 1, \"42\": 10, \"88\": 1}, \"47\": {\"47\": 12}, \"49\": {\"49\": 10, \"8\": 1, \"11\": 1}, \"111\": {\"111\": 12}, \"36\": {\"36\": 12}, \"124\": {\"124\": 12}, \"122\": {\"122\": 12}, \"93\": {\"93\": 12}, \"89\": {\"89\": 12}, \"51\": {\"51\": 12}, \"73\": {\"73\": 12}, \"45\": {\"45\": 12}, \"5\": {\"5\": 12}, \"69\": {\"69\": 12}, \"26\": {\"26\": 12}, \"1\": {\"1\": 12}, \"92\": {\"92\": 8}, \"96\": {\"96\": 12}, \"85\": {\"85\": 12}, \"114\": {\"114\": 12}, \"50\": {\"50\": 12}, \"81\": {\"81\": 12}, \"2\": {\"2\": 12}, \"33\": {\"33\": 12}, \"31\": {\"31\": 12}, \"90\": {\"90\": 8}, \"17\": {\"17\": 7, \"9\": 1, \"63\": 1, \"40\": 2, \"21\": 1}, \"116\": {\"116\": 10}, \"91\": {\"91\": 12}, \"41\": {\"41\": 12}, \"78\": {\"78\": 4, \"13\": 1, \"21\": 1}, \"21\": {\"21\": 11, \"78\": 1}, \"23\": {\"23\": 10, \"123\": 1, \"13\": 1}, \"63\": {\"63\": 12}, \"103\": {\"103\": 12}, \"54\": {\"54\": 12}, \"87\": {\"87\": 12}, \"123\": {\"123\": 12}, \"32\": {\"32\": 12}, \"70\": {\"21\": 1, \"70\": 8, \"30\": 2, \"114\": 1}, \"19\": {\"19\": 12}, \"55\": {\"55\": 12}, \"34\": {\"34\": 10, \"107\": 2}, \"28\": {\"28\": 12}, \"109\": {\"109\": 10}, \"72\": {\"72\": 12}, \"9\": {\"9\": 12}, \"80\": {\"80\": 11, \"89\": 1}, \"125\": {\"125\": 12}, \"24\": {\"24\": 8, \"27\": 2, \"94\": 1, \"121\": 1}, \"129\": {\"129\": 12}, \"112\": {\"112\": 6, \"48\": 1, \"42\": 1, \"110\": 2, \"52\": 1, \"119\": 1}, \"110\": {\"110\": 12}, \"53\": {\"53\": 12}, \"12\": {\"12\": 12}, \"22\": {\"22\": 11, \"118\": 1}, \"46\": {\"46\": 12}, \"119\": {\"119\": 12}, \"75\": {\"75\": 10, \"6\": 1, \"59\": 1}, \"14\": {\"14\": 10, \"46\": 1, \"0\": 1}, \"71\": {\"71\": 11, \"3\": 1}, \"95\": {\"95\": 10, \"45\": 2}, \"13\": {\"13\": 8, \"79\": 1, \"124\": 1}, \"126\": {\"126\": 10}, \"104\": {\"104\": 10}, \"30\": {\"30\": 12}, \"97\": {\"97\": 12}, \"56\": {\"56\": 12}, \"115\": {\"115\": 12}, \"48\": {\"48\": 8, \"17\": 1, \"68\": 1}, \"7\": {\"17\": 1, \"7\": 11}, \"94\": {\"94\": 11, \"13\": 1}, \"38\": {\"38\": 11, \"66\": 1}, \"64\": {\"64\": 12}, \"43\": {\"43\": 9, \"68\": 1, \"116\": 1, \"51\": 1}, \"15\": {\"15\": 12}, \"82\": {\"82\": 12}, \"84\": {\"84\": 12}, \"29\": {\"29\": 12}, \"121\": {\"121\": 10, \"61\": 2}, \"127\": {\"127\": 12}, \"40\": {\"40\": 12}, \"106\": {\"106\": 12}, \"3\": {\"3\": 12}, \"120\": {\"120\": 11, \"74\": 1}, \"6\": {\"47\": 1, \"6\": 10, \"60\": 1}, \"0\": {\"0\": 11, \"35\": 1}, \"4\": {\"24\": 1, \"4\": 10, \"46\": 1}, \"27\": {\"27\": 12}, \"107\": {\"107\": 12}, \"61\": {\"61\": 12}, \"10\": {\"10\": 11, \"68\": 1}, \"67\": {\"67\": 11, \"16\": 1}, \"58\": {\"58\": 10}, \"66\": {\"66\": 12}, \"108\": {\"108\": 10, \"88\": 1, \"6\": 1}, \"20\": {\"20\": 12}, \"60\": {\"60\": 11, \"47\": 1}, \"128\": {\"128\": 12}, \"118\": {\"118\": 12}, \"25\": {\"25\": 12}, \"83\": {\"83\": 12}, \"68\": {\"68\": 12}, \"77\": {\"77\": 12}, \"88\": {\"88\": 12}, \"105\": {\"105\": 12}, \"35\": {\"35\": 12}, \"52\": {\"52\": 6, \"66\": 1, \"61\": 1}, \"59\": {\"59\": 8}, \"74\": {\"74\": 12}, \"16\": {\"16\": 10}, \"62\": {\"62\": 9, \"16\": 1}, \"79\": {\"79\": 12}, \"44\": {\"44\": 10}, \"113\": {\"13\": 1, \"113\": 8, \"35\": 1}, \"37\": {\"37\": 7, \"57\": 1}, \"100\": {\"100\": 6}}, \"C_A_4\": {\"38\": {\"38\": 12}, \"3\": {\"3\": 12}, \"24\": {\"24\": 12}, \"49\": {\"49\": 10}, \"7\": {\"7\": 12}, \"17\": {\"17\": 12}, \"43\": {\"43\": 10}, \"30\": {\"30\": 12}, \"44\": {\"44\": 12}, \"23\": {\"23\": 10}, \"37\": {\"37\": 12}, \"4\": {\"4\": 12}, \"57\": {\"57\": 12}, \"16\": {\"16\": 8}, \"18\": {\"18\": 12}, \"20\": {\"20\": 10}, \"45\": {\"45\": 8}, \"15\": {\"15\": 10}, \"52\": {\"52\": 12}, \"19\": {\"19\": 12}, \"54\": {\"54\": 12}, \"56\": {\"56\": 10}, \"40\": {\"40\": 12}, \"28\": {\"28\": 11, \"34\": 1}, \"2\": {\"2\": 8}, \"9\": {\"9\": 12}, \"0\": {\"0\": 12}, \"36\": {\"36\": 12}, \"55\": {\"55\": 10}, \"35\": {\"35\": 10}, \"39\": {\"39\": 12}, \"31\": {\"31\": 12}, \"14\": {\"14\": 12}, \"12\": {\"12\": 12}, \"6\": {\"6\": 10}, \"48\": {\"48\": 12}, \"51\": {\"51\": 10}, \"5\": {\"5\": 12}, \"22\": {\"22\": 12}, \"25\": {\"25\": 12}, \"26\": {\"26\": 12}, \"47\": {\"47\": 12}, \"1\": {\"1\": 10}, \"41\": {\"41\": 12}, \"27\": {\"27\": 10, \"4\": 2}, \"8\": {\"8\": 12}, \"29\": {\"29\": 12}, \"11\": {\"11\": 10}, \"34\": {\"34\": 12}, \"21\": {\"21\": 12}, \"53\": {\"53\": 10}, \"10\": {\"10\": 12}, \"33\": {\"33\": 12}, \"42\": {\"42\": 12}, \"50\": {\"50\": 10}, \"13\": {\"13\": 4}, \"46\": {\"46\": 8}, \"32\": {\"32\": 8}}, \"W_A_2\": {\"73\": {\"73\": 12}, \"40\": {\"40\": 12}, \"99\": {\"99\": 12}, \"5\": {\"5\": 12}, \"108\": {\"108\": 12}, \"128\": {\"128\": 10}, \"89\": {\"89\": 12}, \"107\": {\"57\": 1, \"107\": 11}, \"2\": {\"2\": 10, \"96\": 1, \"100\": 1}, \"78\": {\"78\": 11, \"17\": 1}, \"85\": {\"85\": 11, \"47\": 1}, \"44\": {\"44\": 12}, \"58\": {\"58\": 10, \"17\": 1, \"46\": 1}, \"57\": {\"57\": 11, \"47\": 1}, \"41\": {\"41\": 11, \"88\": 1}, \"53\": {\"53\": 10, \"57\": 1, \"64\": 1}, \"14\": {\"14\": 10, \"16\": 1, \"110\": 1}, \"83\": {\"83\": 12}, \"119\": {\"119\": 12}, \"95\": {\"95\": 12}, \"28\": {\"28\": 10, \"24\": 1, \"82\": 1}, \"19\": {\"19\": 12}, \"69\": {\"69\": 12}, \"93\": {\"93\": 12}, \"9\": {\"9\": 11, \"75\": 1}, \"118\": {\"118\": 12}, \"43\": {\"43\": 12}, \"47\": {\"47\": 11, \"32\": 1}, \"125\": {\"125\": 12}, \"29\": {\"29\": 12}, \"4\": {\"4\": 12}, \"55\": {\"62\": 1, \"50\": 1, \"55\": 10}, \"105\": {\"105\": 12}, \"50\": {\"50\": 12}, \"62\": {\"62\": 11, \"25\": 1}, \"24\": {\"24\": 10, \"94\": 2}, \"60\": {\"60\": 10, \"17\": 1, \"70\": 1}, \"106\": {\"106\": 12}, \"59\": {\"59\": 11, \"80\": 1}, \"49\": {\"49\": 8, \"52\": 1, \"70\": 1, \"72\": 1, \"58\": 1}, \"76\": {\"76\": 12}, \"122\": {\"122\": 12}, \"114\": {\"114\": 9, \"57\": 1}, \"15\": {\"15\": 12}, \"98\": {\"98\": 12}, \"91\": {\"91\": 12}, \"80\": {\"80\": 12}, \"113\": {\"113\": 10, \"61\": 1, \"85\": 1}, \"38\": {\"38\": 12}, \"86\": {\"86\": 12}, \"0\": {\"21\": 1, \"0\": 9}, \"90\": {\"90\": 12}, \"21\": {\"21\": 9, \"84\": 1, \"17\": 1, \"48\": 1}, \"31\": {\"31\": 11, \"61\": 1}, \"33\": {\"33\": 12}, \"64\": {\"64\": 12}, \"81\": {\"81\": 12}, \"17\": {\"17\": 9, \"16\": 1, \"86\": 1, \"36\": 1}, \"102\": {\"102\": 12}, \"74\": {\"74\": 11, \"16\": 1}, \"34\": {\"34\": 11, \"107\": 1}, \"45\": {\"45\": 9, \"109\": 1, \"20\": 1, \"79\": 1}, \"75\": {\"75\": 12}, \"11\": {\"11\": 12}, \"79\": {\"79\": 12}, \"109\": {\"109\": 12}, \"6\": {\"6\": 12}, \"94\": {\"94\": 9, \"21\": 2, \"100\": 1}, \"100\": {\"100\": 12}, \"67\": {\"67\": 12}, \"97\": {\"97\": 12}, \"112\": {\"112\": 11, \"83\": 1}, \"96\": {\"96\": 12}, \"35\": {\"35\": 12}, \"54\": {\"54\": 12}, \"111\": {\"111\": 11, \"83\": 1}, \"61\": {\"82\": 1, \"61\": 10, \"21\": 1}, \"82\": {\"82\": 12}, \"110\": {\"110\": 12}, \"116\": {\"116\": 12}, \"115\": {\"115\": 11, \"17\": 1}, \"84\": {\"84\": 11, \"58\": 1}, \"25\": {\"25\": 10, \"82\": 1, \"17\": 1}, \"66\": {\"66\": 11, \"16\": 1}, \"20\": {\"20\": 12}, \"72\": {\"72\": 12}, \"123\": {\"123\": 12}, \"3\": {\"3\": 12}, \"124\": {\"124\": 12}, \"36\": {\"36\": 8}, \"12\": {\"12\": 11, \"21\": 1}, \"10\": {\"10\": 12}, \"23\": {\"23\": 9, \"77\": 1}, \"120\": {\"120\": 12}, \"121\": {\"121\": 10, \"112\": 1, \"107\": 1}, \"68\": {\"68\": 12}, \"117\": {\"116\": 1, \"117\": 8, \"115\": 1, \"81\": 2}, \"92\": {\"92\": 12}, \"129\": {\"129\": 12}, \"7\": {\"7\": 11, \"13\": 1}, \"37\": {\"37\": 12}, \"71\": {\"71\": 12}, \"30\": {\"30\": 12}, \"127\": {\"127\": 10}, \"52\": {\"52\": 11, \"28\": 1}, \"22\": {\"22\": 12}, \"16\": {\"16\": 10, \"69\": 1, \"82\": 1}, \"126\": {\"126\": 8}, \"48\": {\"48\": 11, \"52\": 1}, \"101\": {\"101\": 12}, \"42\": {\"42\": 12}, \"1\": {\"1\": 12}, \"63\": {\"63\": 12}, \"56\": {\"12\": 1, \"56\": 10, \"51\": 1}, \"18\": {\"18\": 12}, \"46\": {\"46\": 12}, \"103\": {\"103\": 12}, \"13\": {\"13\": 12}, \"8\": {\"8\": 12}, \"39\": {\"39\": 12}, \"51\": {\"51\": 8, \"58\": 1, \"20\": 1, \"110\": 1, \"88\": 1}, \"87\": {\"87\": 10, \"70\": 1, \"24\": 1}, \"27\": {\"27\": 10, \"70\": 1, \"21\": 1}, \"70\": {\"70\": 12}, \"32\": {\"32\": 12}, \"77\": {\"77\": 11, \"46\": 1}, \"26\": {\"26\": 11, \"51\": 1}, \"88\": {\"88\": 10}, \"65\": {\"65\": 12}, \"104\": {\"104\": 5, \"61\": 1, \"8\": 1, \"117\": 1}}, \"C_A_2\": {\"32\": {\"32\": 12}, \"17\": {\"17\": 12}, \"38\": {\"38\": 12}, \"2\": {\"2\": 10}, \"43\": {\"43\": 8}, \"56\": {\"56\": 12}, \"37\": {\"37\": 12}, \"49\": {\"49\": 12}, \"0\": {\"0\": 10}, \"29\": {\"29\": 10}, \"35\": {\"35\": 10}, \"18\": {\"18\": 12}, \"25\": {\"25\": 12}, \"23\": {\"23\": 12}, \"15\": {\"15\": 12}, \"21\": {\"21\": 12}, \"48\": {\"48\": 12}, \"12\": {\"12\": 9, \"6\": 1}, \"41\": {\"41\": 10}, \"14\": {\"55\": 1, \"14\": 11}, \"7\": {\"7\": 10}, \"9\": {\"9\": 12}, \"55\": {\"55\": 12}, \"36\": {\"36\": 12}, \"22\": {\"22\": 12}, \"13\": {\"13\": 10}, \"30\": {\"30\": 12}, \"51\": {\"51\": 12}, \"34\": {\"34\": 12}, \"57\": {\"57\": 12}, \"47\": {\"47\": 12}, \"1\": {\"1\": 10}, \"44\": {\"44\": 12}, \"31\": {\"31\": 10}, \"4\": {\"4\": 12}, \"10\": {\"10\": 12}, \"33\": {\"33\": 12}, \"52\": {\"52\": 12}, \"24\": {\"24\": 12}, \"8\": {\"8\": 10}, \"26\": {\"26\": 10}, \"42\": {\"42\": 12}, \"53\": {\"53\": 12}, \"54\": {\"54\": 12}, \"46\": {\"46\": 10}, \"39\": {\"39\": 12}, \"16\": {\"16\": 9, \"23\": 1}, \"11\": {\"11\": 12}, \"40\": {\"40\": 12}, \"28\": {\"28\": 8}, \"19\": {\"19\": 12}, \"50\": {\"50\": 6}, \"45\": {\"45\": 10}, \"20\": {\"20\": 12}, \"27\": {\"27\": 10}, \"6\": {\"6\": 10}, \"3\": {\"3\": 10}, \"5\": {\"5\": 6}}, \"C_A_3\": {\"5\": {\"5\": 10}, \"32\": {\"32\": 12}, \"33\": {\"33\": 12}, \"49\": {\"49\": 12}, \"39\": {\"39\": 12}, \"11\": {\"11\": 12}, \"8\": {\"8\": 12}, \"26\": {\"26\": 10}, \"51\": {\"51\": 12}, \"4\": {\"4\": 12}, \"52\": {\"52\": 10}, \"47\": {\"47\": 11, \"48\": 1}, \"17\": {\"17\": 10}, \"53\": {\"53\": 12}, \"2\": {\"2\": 12}, \"12\": {\"12\": 10}, \"28\": {\"28\": 12}, \"6\": {\"6\": 11, \"38\": 1}, \"50\": {\"50\": 6}, \"57\": {\"57\": 12}, \"38\": {\"38\": 12}, \"18\": {\"18\": 12}, \"29\": {\"29\": 10}, \"10\": {\"10\": 12}, \"13\": {\"13\": 12}, \"14\": {\"14\": 12}, \"16\": {\"16\": 10}, \"46\": {\"46\": 12}, \"44\": {\"44\": 12}, \"20\": {\"20\": 12}, \"0\": {\"0\": 12}, \"55\": {\"55\": 12}, \"56\": {\"56\": 6}, \"19\": {\"19\": 12}, \"36\": {\"36\": 12}, \"48\": {\"48\": 12}, \"37\": {\"37\": 12}, \"35\": {\"35\": 10}, \"31\": {\"31\": 10}, \"30\": {\"30\": 8}, \"41\": {\"41\": 12}, \"15\": {\"15\": 12}, \"1\": {\"1\": 12}, \"22\": {\"22\": 12}, \"21\": {\"21\": 12}, \"45\": {\"45\": 10}, \"42\": {\"42\": 12}, \"24\": {\"24\": 12}, \"40\": {\"40\": 12}, \"43\": {\"43\": 12}, \"3\": {\"3\": 12}, \"23\": {\"23\": 8}, \"27\": {\"27\": 10}, \"34\": {\"34\": 12}, \"9\": {\"9\": 10}, \"25\": {\"25\": 8}, \"54\": {\"54\": 8}, \"7\": {\"7\": 8}}, \"C_A_1\": {\"55\": {\"55\": 12}, \"38\": {\"38\": 12}, \"49\": {\"49\": 10}, \"10\": {\"10\": 11, \"11\": 1}, \"28\": {\"28\": 10}, \"14\": {\"14\": 9, \"6\": 3}, \"19\": {\"19\": 12}, \"25\": {\"25\": 12}, \"22\": {\"22\": 12}, \"47\": {\"47\": 12}, \"53\": {\"53\": 12}, \"54\": {\"54\": 12}, \"8\": {\"8\": 12}, \"4\": {\"4\": 12}, \"31\": {\"31\": 12}, \"6\": {\"6\": 12}, \"20\": {\"20\": 12}, \"21\": {\"21\": 10}, \"15\": {\"15\": 12}, \"40\": {\"40\": 12}, \"48\": {\"48\": 12}, \"7\": {\"7\": 12}, \"50\": {\"50\": 12}, \"32\": {\"32\": 8}, \"56\": {\"56\": 12}, \"26\": {\"26\": 10}, \"34\": {\"34\": 12}, \"42\": {\"42\": 10}, \"29\": {\"29\": 12}, \"46\": {\"46\": 10}, \"24\": {\"24\": 10}, \"18\": {\"18\": 12}, \"16\": {\"16\": 6}, \"45\": {\"45\": 12}, \"3\": {\"3\": 12}, \"17\": {\"17\": 12}, \"35\": {\"35\": 12}, \"30\": {\"30\": 10}, \"1\": {\"1\": 12}, \"23\": {\"23\": 12}, \"0\": {\"0\": 10}, \"52\": {\"52\": 12}, \"43\": {\"43\": 12}, \"44\": {\"44\": 12}, \"27\": {\"27\": 12}, \"9\": {\"9\": 12}, \"57\": {\"57\": 8}, \"2\": {\"2\": 12}, \"36\": {\"36\": 8}, \"12\": {\"12\": 12}, \"33\": {\"33\": 10}, \"13\": {\"13\": 10}, \"51\": {\"51\": 10}, \"11\": {\"11\": 12}, \"5\": {\"5\": 12}, \"37\": {\"37\": 12}, \"39\": {\"39\": 4}, \"41\": {\"41\": 6}}, \"W_A_1\": {\"57\": {\"57\": 12}, \"113\": {\"113\": 12}, \"114\": {\"114\": 11, \"88\": 1}, \"88\": {\"88\": 9, \"36\": 2, \"12\": 1}, \"4\": {\"4\": 12}, \"129\": {\"129\": 12}, \"67\": {\"67\": 12}, \"84\": {\"84\": 8}, \"13\": {\"13\": 11, \"97\": 1}, \"71\": {\"71\": 12}, \"10\": {\"109\": 1, \"10\": 10, \"120\": 1}, \"56\": {\"56\": 12}, \"109\": {\"109\": 12}, \"117\": {\"117\": 12}, \"9\": {\"9\": 12}, \"118\": {\"118\": 9, \"45\": 1, \"69\": 2}, \"85\": {\"85\": 12}, \"44\": {\"44\": 10}, \"17\": {\"42\": 1, \"17\": 8, \"53\": 1}, \"24\": {\"24\": 11, \"36\": 1}, \"98\": {\"98\": 12}, \"12\": {\"109\": 1, \"12\": 11}, \"106\": {\"106\": 12}, \"42\": {\"109\": 1, \"14\": 1, \"100\": 1, \"42\": 8, \"45\": 1}, \"63\": {\"63\": 12}, \"14\": {\"14\": 12}, \"122\": {\"122\": 10}, \"36\": {\"36\": 12}, \"125\": {\"125\": 12}, \"62\": {\"62\": 11, \"21\": 1}, \"38\": {\"38\": 12}, \"40\": {\"40\": 12}, \"116\": {\"116\": 12}, \"2\": {\"2\": 10, \"61\": 1, \"100\": 1}, \"54\": {\"54\": 11, \"46\": 1}, \"26\": {\"26\": 11, \"117\": 1}, \"92\": {\"92\": 8}, \"120\": {\"120\": 10, \"108\": 1, \"65\": 1}, \"108\": {\"108\": 9, \"24\": 1}, \"77\": {\"77\": 12}, \"58\": {\"58\": 12}, \"73\": {\"73\": 12}, \"61\": {\"61\": 11, \"12\": 1}, \"126\": {\"126\": 12}, \"103\": {\"103\": 12}, \"100\": {\"100\": 12}, \"46\": {\"46\": 11, \"115\": 1}, \"93\": {\"93\": 11, \"114\": 1}, \"101\": {\"101\": 12}, \"32\": {\"32\": 12}, \"16\": {\"16\": 12}, \"8\": {\"8\": 12}, \"104\": {\"104\": 10, \"108\": 1, \"100\": 1}, \"47\": {\"47\": 12}, \"3\": {\"3\": 12}, \"1\": {\"1\": 12}, \"18\": {\"18\": 12}, \"97\": {\"97\": 9, \"36\": 1}, \"107\": {\"107\": 12}, \"15\": {\"15\": 12}, \"6\": {\"7\": 1, \"6\": 10, \"22\": 1}, \"86\": {\"86\": 12}, \"30\": {\"30\": 12}, \"111\": {\"111\": 10}, \"37\": {\"37\": 12}, \"81\": {\"81\": 12}, \"7\": {\"7\": 12}, \"70\": {\"70\": 11, \"1\": 1}, \"124\": {\"124\": 10}, \"76\": {\"76\": 12}, \"95\": {\"95\": 12}, \"27\": {\"27\": 9, \"94\": 1}, \"75\": {\"75\": 12}, \"50\": {\"50\": 12}, \"52\": {\"52\": 10, \"30\": 2}, \"83\": {\"83\": 10, \"59\": 1, \"94\": 1}, \"65\": {\"65\": 9, \"95\": 1, \"22\": 1, \"119\": 1}, \"121\": {\"121\": 10, \"76\": 2}, \"123\": {\"123\": 12}, \"110\": {\"110\": 6}, \"31\": {\"31\": 12}, \"68\": {\"68\": 12}, \"0\": {\"0\": 12}, \"72\": {\"72\": 12}, \"102\": {\"102\": 10}, \"48\": {\"48\": 12}, \"33\": {\"33\": 12}, \"51\": {\"51\": 12}, \"99\": {\"99\": 8}, \"82\": {\"82\": 12}, \"94\": {\"94\": 12}, \"25\": {\"25\": 11, \"122\": 1}, \"39\": {\"39\": 12}, \"59\": {\"51\": 2, \"59\": 10}, \"20\": {\"20\": 12}, \"53\": {\"53\": 12}, \"115\": {\"115\": 10}, \"41\": {\"41\": 11, \"6\": 1}, \"35\": {\"35\": 6}, \"64\": {\"64\": 8}, \"78\": {\"78\": 9, \"93\": 1, \"43\": 2}, \"45\": {\"78\": 1, \"45\": 9, \"126\": 1, \"22\": 1}, \"80\": {\"80\": 11, \"45\": 1}, \"128\": {\"128\": 10, \"119\": 1, \"83\": 1}, \"96\": {\"96\": 12}, \"69\": {\"69\": 12}, \"19\": {\"19\": 12}, \"119\": {\"119\": 12}, \"21\": {\"21\": 12}, \"91\": {\"91\": 12}, \"105\": {\"105\": 12}, \"60\": {\"60\": 10, \"23\": 1, \"21\": 1}, \"66\": {\"66\": 9, \"90\": 1}, \"55\": {\"55\": 12}, \"29\": {\"29\": 12}, \"34\": {\"55\": 1, \"34\": 6, \"11\": 1}, \"74\": {\"74\": 8}, \"49\": {\"49\": 5, \"53\": 1}, \"22\": {\"22\": 12}, \"5\": {\"5\": 12}, \"89\": {\"89\": 8}, \"127\": {\"127\": 12}, \"87\": {\"87\": 9, \"117\": 1, \"10\": 1, \"105\": 1}, \"23\": {\"23\": 7, \"49\": 1, \"123\": 2}, \"28\": {\"28\": 12}, \"43\": {\"43\": 10}, \"11\": {\"11\": 8}, \"112\": {\"112\": 9, \"19\": 1}, \"79\": {\"79\": 8}, \"90\": {\"90\": 6}}, \"W_A_4\": {\"119\": {\"119\": 11, \"74\": 1}, \"101\": {\"101\": 12}, \"15\": {\"15\": 12}, \"22\": {\"22\": 10}, \"127\": {\"127\": 11, \"95\": 1}, \"6\": {\"6\": 11, \"11\": 1}, \"69\": {\"69\": 10}, \"41\": {\"41\": 12}, \"68\": {\"68\": 9, \"11\": 1}, \"126\": {\"126\": 12}, \"62\": {\"62\": 11, \"126\": 1}, \"26\": {\"26\": 12}, \"71\": {\"71\": 8, \"101\": 1, \"61\": 1, \"102\": 1, \"62\": 1}, \"78\": {\"78\": 10, \"127\": 1, \"98\": 1}, \"90\": {\"90\": 11, \"66\": 1}, \"24\": {\"24\": 10, \"70\": 1, \"94\": 1}, \"11\": {\"129\": 1, \"11\": 11}, \"35\": {\"35\": 12}, \"86\": {\"86\": 12}, \"3\": {\"3\": 12}, \"75\": {\"75\": 12}, \"100\": {\"100\": 12}, \"117\": {\"117\": 12}, \"120\": {\"120\": 12}, \"8\": {\"8\": 12}, \"27\": {\"27\": 11, \"129\": 1}, \"83\": {\"83\": 12}, \"129\": {\"129\": 12}, \"36\": {\"36\": 11, \"128\": 1}, \"67\": {\"67\": 11, \"123\": 1}, \"54\": {\"54\": 12}, \"92\": {\"92\": 12}, \"56\": {\"56\": 12}, \"29\": {\"29\": 12}, \"80\": {\"80\": 12}, \"123\": {\"123\": 11, \"77\": 1}, \"28\": {\"28\": 12}, \"42\": {\"42\": 12}, \"113\": {\"113\": 11, \"39\": 1}, \"53\": {\"53\": 11, \"112\": 1}, \"61\": {\"61\": 12}, \"39\": {\"39\": 12}, \"96\": {\"96\": 9, \"121\": 1}, \"109\": {\"109\": 9, \"98\": 1, \"70\": 1, \"14\": 1}, \"18\": {\"18\": 12}, \"10\": {\"10\": 9, \"97\": 1, \"15\": 1, \"24\": 1}, \"34\": {\"34\": 12}, \"103\": {\"103\": 12}, \"82\": {\"82\": 10, \"55\": 2}, \"65\": {\"65\": 12}, \"50\": {\"50\": 12}, \"99\": {\"99\": 10}, \"97\": {\"97\": 12}, \"124\": {\"124\": 12}, \"17\": {\"17\": 12}, \"0\": {\"0\": 12}, \"7\": {\"7\": 12}, \"112\": {\"112\": 12}, \"118\": {\"118\": 12}, \"5\": {\"5\": 11, \"101\": 1}, \"38\": {\"38\": 12}, \"2\": {\"2\": 10, \"96\": 2}, \"122\": {\"122\": 11, \"18\": 1}, \"125\": {\"125\": 12}, \"49\": {\"49\": 12}, \"60\": {\"60\": 12}, \"70\": {\"70\": 11, \"114\": 1}, \"85\": {\"85\": 12}, \"98\": {\"98\": 12}, \"116\": {\"116\": 12}, \"30\": {\"30\": 11, \"27\": 1}, \"9\": {\"9\": 12}, \"4\": {\"4\": 12}, \"51\": {\"51\": 8, \"70\": 1, \"125\": 1, \"128\": 1, \"34\": 1}, \"93\": {\"93\": 12}, \"55\": {\"55\": 12}, \"44\": {\"44\": 12}, \"114\": {\"114\": 12}, \"31\": {\"31\": 12}, \"94\": {\"94\": 11, \"97\": 1}, \"91\": {\"91\": 9, \"98\": 1, \"6\": 1, \"58\": 1}, \"46\": {\"46\": 11, \"110\": 1}, \"32\": {\"32\": 12}, \"37\": {\"37\": 12}, \"52\": {\"52\": 12}, \"19\": {\"19\": 12}, \"105\": {\"105\": 10, \"78\": 1, \"21\": 1}, \"23\": {\"23\": 7, \"58\": 2, \"110\": 1, \"21\": 2}, \"74\": {\"74\": 11, \"100\": 1}, \"88\": {\"88\": 9, \"73\": 1, \"70\": 1, \"129\": 1}, \"45\": {\"45\": 12}, \"89\": {\"89\": 12}, \"48\": {\"48\": 12}, \"25\": {\"25\": 12}, \"13\": {\"13\": 11, \"21\": 1}, \"87\": {\"87\": 12}, \"121\": {\"121\": 9, \"28\": 1, \"22\": 1, \"123\": 1}, \"59\": {\"59\": 10, \"74\": 1, \"8\": 1}, \"58\": {\"58\": 11, \"112\": 1}, \"12\": {\"12\": 11, \"95\": 1}, \"107\": {\"107\": 12}, \"1\": {\"1\": 10, \"28\": 1, \"67\": 1}, \"57\": {\"57\": 11, \"96\": 1}, \"111\": {\"111\": 12}, \"33\": {\"33\": 12}, \"14\": {\"14\": 10, \"95\": 1, \"101\": 1}, \"84\": {\"84\": 12}, \"21\": {\"21\": 12}, \"104\": {\"104\": 12}, \"128\": {\"128\": 10, \"21\": 1, \"100\": 1}, \"72\": {\"72\": 11, \"98\": 1}, \"40\": {\"40\": 12}, \"102\": {\"102\": 10, \"78\": 1, \"74\": 1}, \"47\": {\"47\": 10, \"32\": 1, \"116\": 1}, \"43\": {\"43\": 12}, \"77\": {\"77\": 12}, \"110\": {\"110\": 12}, \"16\": {\"16\": 12}, \"106\": {\"106\": 9, \"21\": 1, \"73\": 1, \"19\": 1}, \"66\": {\"66\": 12}, \"73\": {\"73\": 10, \"1\": 1, \"101\": 1}, \"76\": {\"76\": 10}, \"79\": {\"79\": 10, \"115\": 1, \"53\": 1}, \"108\": {\"70\": 1, \"108\": 10, \"112\": 1}, \"64\": {\"64\": 9, \"104\": 1}, \"115\": {\"127\": 1, \"58\": 1, \"115\": 5, \"57\": 1}, \"81\": {\"81\": 12}, \"95\": {\"95\": 11, \"129\": 1}, \"63\": {\"63\": 8}, \"20\": {\"20\": 10}}, \"C_A_5\": {\"2\": {\"2\": 12}, \"35\": {\"35\": 12}, \"3\": {\"3\": 12}, \"18\": {\"18\": 12}, \"29\": {\"29\": 12}, \"24\": {\"24\": 12}, \"25\": {\"25\": 12}, \"17\": {\"17\": 12}, \"54\": {\"54\": 12}, \"28\": {\"28\": 12}, \"33\": {\"33\": 12}, \"55\": {\"55\": 10}, \"19\": {\"19\": 10}, \"20\": {\"20\": 12}, \"41\": {\"41\": 12}, \"48\": {\"48\": 8}, \"6\": {\"6\": 11, \"20\": 1}, \"49\": {\"49\": 12}, \"9\": {\"9\": 10}, \"42\": {\"42\": 12}, \"22\": {\"22\": 12}, \"38\": {\"38\": 12}, \"44\": {\"44\": 12}, \"47\": {\"47\": 12}, \"7\": {\"7\": 10}, \"8\": {\"8\": 12}, \"10\": {\"10\": 12}, \"0\": {\"0\": 12}, \"57\": {\"57\": 12}, \"16\": {\"16\": 10}, \"21\": {\"21\": 12}, \"27\": {\"27\": 12}, \"53\": {\"53\": 8}, \"32\": {\"32\": 12}, \"4\": {\"4\": 12}, \"37\": {\"37\": 10}, \"1\": {\"1\": 12}, \"39\": {\"39\": 10}, \"36\": {\"36\": 10}, \"12\": {\"12\": 12}, \"5\": {\"5\": 12}, \"26\": {\"26\": 12}, \"51\": {\"51\": 12}, \"14\": {\"14\": 6, \"31\": 2, \"54\": 1, \"30\": 1}, \"43\": {\"43\": 12}, \"31\": {\"31\": 12}, \"45\": {\"45\": 10, \"21\": 1, \"53\": 1}, \"15\": {\"15\": 9, \"11\": 1}, \"23\": {\"23\": 10}, \"30\": {\"30\": 12}, \"46\": {\"46\": 12}, \"52\": {\"52\": 12}, \"34\": {\"34\": 10}, \"11\": {\"11\": 10}, \"13\": {\"13\": 10}, \"50\": {\"50\": 6}, \"56\": {\"56\": 6}, \"40\": {\"40\": 4}}, \"ORACLE.run1_50\": {\"7\": {\"13\": 32, \"0\": 14, \"8\": 11, \"14\": 4, \"5\": 36, \"7\": 32, \"10\": 27, \"4\": 11, \"15\": 11, \"1\": 15, \"2\": 7, \"6\": 25, \"9\": 1, \"11\": 2, \"3\": 12}, \"10\": {\"0\": 36, \"13\": 24, \"8\": 25, \"5\": 19, \"14\": 5, \"4\": 6, \"15\": 5, \"2\": 23, \"10\": 34, \"7\": 27, \"6\": 10, \"3\": 19, \"1\": 6, \"11\": 1}, \"0\": {\"13\": 20, \"7\": 17, \"10\": 36, \"4\": 10, \"0\": 43, \"8\": 19, \"11\": 5, \"2\": 34, \"1\": 10, \"14\": 11, \"6\": 12, \"5\": 12, \"15\": 6, \"3\": 3, \"12\": 2}, \"11\": {\"11\": 46, \"15\": 20, \"12\": 27, \"9\": 44, \"4\": 23, \"14\": 27, \"1\": 27, \"6\": 5, \"0\": 2, \"13\": 4, \"5\": 8, \"2\": 6, \"7\": 1}, \"2\": {\"2\": 49, \"0\": 48, \"8\": 10, \"13\": 8, \"14\": 27, \"11\": 8, \"9\": 10, \"1\": 20, \"7\": 4, \"4\": 11, \"15\": 7, \"10\": 14, \"5\": 12, \"6\": 6, \"12\": 6}, \"14\": {\"2\": 22, \"14\": 43, \"9\": 22, \"8\": 1, \"12\": 28, \"11\": 36, \"5\": 8, \"6\": 16, \"1\": 17, \"10\": 3, \"0\": 9, \"4\": 19, \"13\": 5, \"15\": 10, \"7\": 1}, \"9\": {\"12\": 54, \"15\": 12, \"9\": 55, \"14\": 32, \"11\": 50, \"1\": 13, \"6\": 5, \"4\": 11, \"5\": 2, \"13\": 4, \"2\": 2}, \"13\": {\"13\": 26, \"6\": 36, \"7\": 23, \"5\": 29, \"15\": 17, \"10\": 23, \"1\": 21, \"0\": 18, \"2\": 9, \"4\": 13, \"14\": 3, \"8\": 15, \"11\": 4, \"3\": 2, \"12\": 1}, \"8\": {\"10\": 43, \"7\": 18, \"5\": 9, \"8\": 68, \"6\": 3, \"13\": 17, \"0\": 28, \"3\": 42, \"2\": 10, \"4\": 1, \"14\": 1}, \"15\": {\"14\": 17, \"15\": 35, \"12\": 12, \"5\": 20, \"4\": 27, \"7\": 18, \"2\": 9, \"6\": 19, \"11\": 28, \"1\": 23, \"10\": 8, \"0\": 4, \"13\": 11, \"9\": 9}, \"4\": {\"13\": 27, \"1\": 31, \"11\": 22, \"7\": 9, \"5\": 22, \"4\": 25, \"15\": 26, \"2\": 9, \"6\": 20, \"10\": 6, \"0\": 6, \"14\": 21, \"9\": 8, \"8\": 2, \"12\": 6}, \"5\": {\"4\": 15, \"13\": 26, \"10\": 22, \"7\": 25, \"5\": 30, \"15\": 15, \"2\": 18, \"1\": 29, \"12\": 1, \"6\": 25, \"14\": 10, \"0\": 12, \"3\": 3, \"11\": 4, \"8\": 3, \"9\": 2}, \"3\": {\"8\": 59, \"5\": 7, \"3\": 99, \"0\": 10, \"13\": 10, \"7\": 24, \"10\": 28, \"1\": 1, \"2\": 1, \"6\": 1}, \"1\": {\"15\": 22, \"0\": 13, \"6\": 16, \"9\": 19, \"14\": 26, \"4\": 18, \"5\": 16, \"2\": 10, \"1\": 44, \"10\": 5, \"7\": 16, \"13\": 15, \"11\": 13, \"8\": 4, \"12\": 3}, \"6\": {\"1\": 22, \"13\": 20, \"7\": 29, \"6\": 33, \"4\": 24, \"5\": 23, \"8\": 7, \"10\": 12, \"0\": 9, \"15\": 23, \"14\": 9, \"2\": 13, \"11\": 8, \"12\": 3, \"9\": 5}, \"12\": {\"14\": 35, \"0\": 3, \"4\": 11, \"11\": 33, \"2\": 14, \"9\": 55, \"12\": 56, \"15\": 8, \"1\": 15, \"6\": 5, \"5\": 5}}, \"ORACLE.run1_14\": {\"14\": {\"0\": 22, \"3\": 38, \"6\": 25, \"1\": 9, \"14\": 42, \"4\": 9, \"2\": 30, \"10\": 18, \"13\": 21, \"11\": 10, \"5\": 11, \"15\": 1, \"7\": 2, \"8\": 1, \"9\": 1}, \"6\": {\"14\": 40, \"0\": 12, \"13\": 42, \"10\": 15, \"2\": 25, \"4\": 17, \"3\": 14, \"6\": 37, \"7\": 11, \"11\": 3, \"5\": 7, \"15\": 8, \"1\": 9}, \"5\": {\"8\": 15, \"4\": 34, \"13\": 19, \"1\": 29, \"2\": 31, \"5\": 25, \"6\": 17, \"7\": 18, \"14\": 20, \"10\": 10, \"3\": 9, \"0\": 9, \"11\": 3, \"9\": 1}, \"15\": {\"15\": 84, \"5\": 25, \"7\": 61, \"14\": 3, \"2\": 11, \"6\": 11, \"1\": 15, \"4\": 17, \"13\": 10, \"3\": 1, \"10\": 1, \"8\": 1}, \"11\": {\"14\": 16, \"12\": 17, \"3\": 27, \"9\": 36, \"10\": 22, \"11\": 51, \"0\": 47, \"8\": 11, \"4\": 4, \"5\": 3, \"1\": 3, \"13\": 2, \"2\": 1}, \"8\": {\"0\": 22, \"11\": 14, \"3\": 17, \"10\": 12, \"4\": 23, \"8\": 68, \"1\": 31, \"6\": 3, \"7\": 8, \"9\": 15, \"2\": 5, \"5\": 16, \"14\": 5, \"12\": 1}, \"12\": {\"9\": 75, \"12\": 104, \"11\": 43, \"0\": 9, \"8\": 4, \"10\": 3, \"3\": 2}, \"1\": {\"8\": 17, \"7\": 25, \"4\": 27, \"2\": 18, \"10\": 8, \"5\": 31, \"3\": 15, \"1\": 31, \"15\": 16, \"14\": 13, \"11\": 3, \"13\": 12, \"6\": 14, \"0\": 10}, \"2\": {\"0\": 7, \"8\": 6, \"14\": 29, \"13\": 24, \"6\": 26, \"3\": 30, \"2\": 24, \"5\": 13, \"10\": 22, \"1\": 19, \"4\": 20, \"7\": 10, \"11\": 3, \"15\": 6, \"12\": 1}, \"13\": {\"14\": 24, \"13\": 43, \"3\": 11, \"2\": 35, \"4\": 22, \"7\": 12, \"5\": 18, \"6\": 33, \"1\": 12, \"15\": 9, \"11\": 3, \"0\": 5, \"10\": 11, \"8\": 2}, \"3\": {\"1\": 19, \"2\": 18, \"3\": 28, \"14\": 21, \"8\": 11, \"10\": 26, \"4\": 17, \"11\": 12, \"13\": 15, \"5\": 24, \"6\": 24, \"0\": 19, \"7\": 4, \"9\": 2}, \"0\": {\"0\": 43, \"8\": 12, \"3\": 24, \"14\": 17, \"1\": 10, \"12\": 7, \"10\": 33, \"9\": 18, \"11\": 31, \"2\": 10, \"13\": 6, \"4\": 14, \"6\": 10, \"5\": 4, \"15\": 1}, \"9\": {\"12\": 48, \"11\": 50, \"9\": 72, \"0\": 23, \"8\": 15, \"3\": 12, \"10\": 13, \"1\": 2, \"14\": 2, \"4\": 1, \"2\": 1, \"5\": 1}, \"4\": {\"8\": 11, \"1\": 25, \"3\": 17, \"10\": 15, \"4\": 30, \"13\": 18, \"5\": 34, \"6\": 17, \"2\": 24, \"14\": 12, \"0\": 17, \"7\": 14, \"15\": 5, \"11\": 1}, \"7\": {\"5\": 30, \"0\": 4, \"1\": 18, \"7\": 57, \"15\": 51, \"4\": 26, \"2\": 15, \"3\": 4, \"13\": 14, \"14\": 3, \"8\": 5, \"6\": 11, \"10\": 2}, \"10\": {\"11\": 23, \"14\": 17, \"0\": 27, \"1\": 12, \"6\": 19, \"10\": 33, \"2\": 15, \"4\": 17, \"3\": 30, \"9\": 10, \"13\": 15, \"8\": 9, \"12\": 1, \"5\": 12}}, \"ORACLE.run1_32\": {\"4\": {\"7\": 35, \"2\": 38, \"3\": 11, \"4\": 30, \"0\": 26, \"8\": 16, \"13\": 35, \"14\": 8, \"5\": 21, \"11\": 7, \"9\": 10, \"12\": 1, \"15\": 2}, \"14\": {\"3\": 18, \"11\": 45, \"7\": 36, \"0\": 27, \"5\": 26, \"4\": 12, \"8\": 17, \"2\": 13, \"13\": 8, \"14\": 36, \"15\": 2}, \"5\": {\"2\": 23, \"15\": 9, \"8\": 30, \"13\": 31, \"14\": 29, \"4\": 22, \"7\": 22, \"0\": 18, \"5\": 24, \"11\": 15, \"3\": 17}, \"10\": {\"1\": 79, \"10\": 124, \"12\": 20, \"6\": 17}, \"13\": {\"13\": 30, \"8\": 34, \"0\": 26, \"5\": 33, \"14\": 16, \"15\": 13, \"4\": 18, \"3\": 18, \"11\": 11, \"7\": 20, \"9\": 3, \"2\": 18}, \"9\": {\"9\": 97, \"12\": 45, \"4\": 21, \"2\": 29, \"6\": 11, \"13\": 9, \"7\": 7, \"0\": 10, \"8\": 4, \"3\": 1, \"14\": 2, \"5\": 2, \"10\": 2}, \"6\": {\"6\": 122, \"12\": 57, \"1\": 24, \"9\": 16, \"10\": 20, \"2\": 1}, \"3\": {\"15\": 34, \"8\": 29, \"5\": 25, \"0\": 12, \"13\": 25, \"11\": 19, \"4\": 9, \"14\": 21, \"3\": 46, \"7\": 15, \"2\": 5}, \"15\": {\"3\": 43, \"13\": 11, \"15\": 131, \"8\": 24, \"11\": 6, \"7\": 6, \"14\": 3, \"0\": 7, \"5\": 8, \"4\": 1}, \"7\": {\"3\": 12, \"14\": 29, \"11\": 23, \"5\": 27, \"4\": 15, \"8\": 18, \"13\": 19, \"2\": 34, \"0\": 26, \"7\": 34, \"15\": 3}, \"12\": {\"6\": 40, \"12\": 106, \"9\": 54, \"10\": 32, \"13\": 1, \"1\": 6, \"2\": 1}, \"8\": {\"7\": 19, \"2\": 16, \"0\": 21, \"15\": 15, \"3\": 22, \"8\": 31, \"13\": 40, \"4\": 17, \"5\": 25, \"14\": 19, \"11\": 13, \"9\": 2}, \"11\": {\"3\": 16, \"14\": 55, \"5\": 21, \"7\": 27, \"11\": 60, \"8\": 10, \"13\": 19, \"2\": 6, \"0\": 18, \"4\": 7, \"15\": 1}, \"2\": {\"2\": 51, \"3\": 3, \"0\": 30, \"5\": 27, \"4\": 34, \"14\": 17, \"7\": 24, \"11\": 9, \"8\": 16, \"13\": 19, \"9\": 8, \"12\": 2}, \"1\": {\"1\": 117, \"10\": 94, \"6\": 26, \"12\": 3}, \"0\": {\"14\": 21, \"2\": 18, \"11\": 17, \"7\": 24, \"8\": 21, \"5\": 29, \"15\": 4, \"13\": 27, \"4\": 31, \"3\": 14, \"0\": 32, \"9\": 2}}, \"ORACLE.run1_44\": {\"8\": {\"0\": 59, \"15\": 32, \"8\": 68, \"5\": 46, \"14\": 19, \"4\": 15, \"9\": 1}, \"11\": {\"9\": 26, \"7\": 26, \"2\": 28, \"13\": 30, \"11\": 48, \"1\": 11, \"6\": 38, \"14\": 3, \"10\": 12, \"12\": 9, \"3\": 7, \"4\": 2}, \"14\": {\"0\": 20, \"14\": 46, \"5\": 34, \"4\": 62, \"3\": 5, \"9\": 12, \"8\": 19, \"13\": 3, \"6\": 2, \"15\": 28, \"1\": 2, \"7\": 4, \"2\": 2, \"11\": 1}, \"10\": {\"1\": 38, \"3\": 21, \"12\": 38, \"10\": 50, \"2\": 41, \"6\": 7, \"11\": 11, \"9\": 10, \"7\": 18, \"13\": 6}, \"3\": {\"9\": 17, \"7\": 20, \"12\": 32, \"10\": 30, \"2\": 17, \"3\": 70, \"1\": 43, \"13\": 4, \"11\": 2, \"14\": 2, \"4\": 1, \"6\": 2}, \"15\": {\"15\": 51, \"0\": 35, \"4\": 35, \"14\": 34, \"5\": 39, \"8\": 36, \"7\": 1, \"13\": 2, \"9\": 5, \"12\": 1, \"2\": 1}, \"2\": {\"9\": 27, \"6\": 22, \"12\": 22, \"10\": 33, \"11\": 12, \"3\": 18, \"2\": 40, \"7\": 32, \"13\": 14, \"1\": 19, \"4\": 1}, \"12\": {\"12\": 68, \"3\": 41, \"1\": 40, \"10\": 48, \"9\": 4, \"7\": 16, \"11\": 8, \"2\": 13, \"6\": 2}, \"4\": {\"14\": 48, \"9\": 10, \"4\": 48, \"0\": 21, \"13\": 11, \"5\": 33, \"7\": 8, \"8\": 21, \"15\": 26, \"3\": 2, \"6\": 6, \"11\": 5, \"2\": 1}, \"1\": {\"2\": 23, \"12\": 60, \"7\": 18, \"10\": 34, \"1\": 51, \"3\": 33, \"11\": 8, \"13\": 6, \"9\": 5, \"6\": 2}, \"0\": {\"0\": 51, \"14\": 20, \"8\": 51, \"5\": 51, \"4\": 17, \"15\": 49, \"3\": 1}, \"9\": {\"13\": 25, \"11\": 16, \"7\": 35, \"10\": 7, \"6\": 38, \"4\": 4, \"3\": 18, \"12\": 10, \"2\": 33, \"9\": 35, \"0\": 1, \"1\": 14, \"14\": 3, \"15\": 1}, \"5\": {\"0\": 34, \"5\": 59, \"14\": 42, \"4\": 38, \"15\": 33, \"8\": 30, \"13\": 2, \"11\": 1, \"9\": 1}, \"6\": {\"4\": 4, \"10\": 6, \"13\": 45, \"6\": 58, \"11\": 45, \"2\": 25, \"7\": 17, \"9\": 33, \"3\": 2, \"14\": 1, \"5\": 2, \"1\": 2}, \"7\": {\"11\": 25, \"10\": 22, \"7\": 36, \"6\": 27, \"12\": 14, \"2\": 41, \"3\": 20, \"13\": 15, \"1\": 15, \"9\": 22, \"4\": 1, \"14\": 2}, \"13\": {\"3\": 9, \"11\": 27, \"13\": 35, \"2\": 21, \"10\": 3, \"9\": 32, \"6\": 45, \"4\": 19, \"7\": 33, \"1\": 6, \"12\": 3, \"14\": 7}}, \"ORACLE.run1_8\": {\"13\": {\"14\": 14, \"1\": 13, \"0\": 25, \"4\": 27, \"7\": 22, \"13\": 23, \"15\": 10, \"8\": 11, \"10\": 26, \"5\": 13, \"6\": 24, \"11\": 11, \"12\": 5, \"2\": 2, \"3\": 7, \"9\": 7}, \"3\": {\"13\": 16, \"15\": 29, \"2\": 57, \"12\": 30, \"10\": 8, \"6\": 13, \"3\": 40, \"0\": 14, \"7\": 11, \"14\": 5, \"4\": 5, \"8\": 10, \"5\": 1, \"1\": 1}, \"15\": {\"11\": 14, \"13\": 14, \"15\": 28, \"4\": 12, \"10\": 6, \"8\": 19, \"2\": 13, \"12\": 22, \"5\": 7, \"0\": 19, \"6\": 24, \"7\": 25, \"14\": 10, \"3\": 13, \"1\": 14}, \"4\": {\"7\": 27, \"10\": 13, \"4\": 26, \"13\": 12, \"0\": 22, \"1\": 15, \"8\": 17, \"14\": 27, \"15\": 11, \"6\": 26, \"12\": 4, \"5\": 13, \"11\": 11, \"2\": 6, \"9\": 5, \"3\": 5}, \"7\": {\"13\": 24, \"12\": 6, \"6\": 18, \"7\": 29, \"15\": 17, \"11\": 11, \"4\": 24, \"14\": 14, \"2\": 14, \"3\": 5, \"0\": 26, \"10\": 22, \"8\": 16, \"5\": 6, \"1\": 7, \"9\": 1}, \"2\": {\"13\": 11, \"2\": 49, \"11\": 1, \"3\": 45, \"7\": 25, \"0\": 24, \"15\": 17, \"14\": 9, \"10\": 7, \"6\": 21, \"12\": 18, \"4\": 4, \"8\": 5, \"1\": 3, \"5\": 1}, \"1\": {\"7\": 6, \"12\": 6, \"14\": 28, \"5\": 27, \"11\": 44, \"6\": 13, \"4\": 27, \"1\": 27, \"8\": 16, \"13\": 9, \"10\": 14, \"9\": 5, \"0\": 7, \"3\": 1, \"15\": 9, \"2\": 1}, \"0\": {\"7\": 33, \"5\": 12, \"0\": 31, \"8\": 11, \"11\": 5, \"4\": 22, \"15\": 13, \"2\": 16, \"3\": 10, \"1\": 11, \"6\": 18, \"13\": 13, \"9\": 6, \"14\": 19, \"12\": 7, \"10\": 13}, \"12\": {\"2\": 21, \"0\": 13, \"12\": 48, \"6\": 18, \"11\": 4, \"7\": 19, \"14\": 8, \"1\": 6, \"10\": 7, \"5\": 3, \"15\": 24, \"4\": 10, \"8\": 25, \"3\": 24, \"13\": 10}, \"6\": {\"0\": 23, \"13\": 21, \"12\": 13, \"4\": 22, \"7\": 23, \"1\": 15, \"2\": 11, \"8\": 15, \"14\": 17, \"10\": 21, \"6\": 22, \"15\": 14, \"11\": 6, \"3\": 6, \"9\": 1, \"5\": 10}, \"11\": {\"10\": 19, \"0\": 3, \"4\": 24, \"8\": 23, \"7\": 13, \"13\": 10, \"6\": 12, \"11\": 54, \"5\": 25, \"14\": 21, \"1\": 28, \"15\": 4, \"12\": 3, \"2\": 1}, \"9\": {\"7\": 7, \"14\": 12, \"9\": 106, \"10\": 28, \"0\": 18, \"13\": 14, \"5\": 24, \"4\": 12, \"6\": 8, \"1\": 6, \"11\": 5}, \"5\": {\"0\": 7, \"8\": 8, \"4\": 27, \"14\": 26, \"11\": 26, \"13\": 17, \"5\": 38, \"15\": 4, \"10\": 23, \"1\": 29, \"6\": 12, \"12\": 1, \"7\": 10, \"9\": 11, \"3\": 1}, \"10\": {\"0\": 23, \"2\": 7, \"8\": 16, \"13\": 24, \"14\": 12, \"10\": 28, \"6\": 22, \"7\": 19, \"4\": 20, \"15\": 9, \"1\": 14, \"11\": 15, \"5\": 18, \"12\": 4, \"9\": 5, \"3\": 4}, \"14\": {\"11\": 16, \"1\": 13, \"4\": 29, \"8\": 14, \"10\": 24, \"13\": 18, \"14\": 24, \"6\": 17, \"15\": 9, \"12\": 8, \"7\": 16, \"5\": 17, \"0\": 26, \"3\": 3, \"9\": 4, \"2\": 2}, \"8\": {\"3\": 12, \"12\": 19, \"8\": 24, \"15\": 20, \"1\": 18, \"6\": 16, \"7\": 23, \"4\": 17, \"2\": 7, \"11\": 16, \"13\": 16, \"14\": 13, \"10\": 14, \"0\": 17, \"5\": 8}}, \"ORACLE.run1_20\": {\"6\": {\"7\": 11, \"12\": 18, \"13\": 9, \"10\": 18, \"14\": 31, \"11\": 17, \"3\": 18, \"4\": 19, \"8\": 15, \"9\": 18, \"2\": 16, \"1\": 8, \"6\": 22, \"15\": 7, \"5\": 5, \"0\": 8}, \"11\": {\"4\": 4, \"9\": 32, \"11\": 50, \"5\": 10, \"14\": 8, \"10\": 12, \"12\": 11, \"13\": 21, \"7\": 14, \"6\": 16, \"3\": 14, \"1\": 11, \"0\": 6, \"2\": 18, \"8\": 7, \"15\": 6}, \"5\": {\"12\": 19, \"9\": 12, \"5\": 15, \"6\": 6, \"15\": 18, \"4\": 15, \"13\": 15, \"11\": 4, \"14\": 12, \"2\": 24, \"1\": 16, \"7\": 12, \"10\": 11, \"3\": 20, \"0\": 23, \"8\": 18}, \"14\": {\"14\": 37, \"9\": 15, \"6\": 35, \"2\": 14, \"10\": 30, \"4\": 23, \"0\": 12, \"8\": 16, \"7\": 9, \"15\": 11, \"1\": 11, \"5\": 8, \"12\": 5, \"11\": 2, \"13\": 4, \"3\": 8}, \"2\": {\"3\": 25, \"12\": 16, \"9\": 24, \"10\": 12, \"4\": 9, \"2\": 22, \"5\": 10, \"15\": 12, \"11\": 15, \"1\": 17, \"14\": 6, \"13\": 22, \"7\": 15, \"8\": 14, \"0\": 11, \"6\": 10}, \"7\": {\"8\": 20, \"9\": 18, \"0\": 11, \"12\": 19, \"10\": 13, \"3\": 25, \"4\": 20, \"13\": 14, \"6\": 14, \"15\": 6, \"11\": 11, \"5\": 11, \"7\": 16, \"2\": 16, \"14\": 10, \"1\": 16}, \"3\": {\"12\": 24, \"8\": 13, \"13\": 15, \"9\": 16, \"4\": 14, \"5\": 15, \"15\": 16, \"7\": 25, \"3\": 23, \"2\": 18, \"10\": 11, \"14\": 9, \"1\": 12, \"11\": 4, \"0\": 13, \"6\": 12}, \"4\": {\"1\": 15, \"6\": 19, \"15\": 16, \"12\": 19, \"2\": 18, \"8\": 13, \"4\": 20, \"3\": 18, \"14\": 14, \"0\": 16, \"10\": 22, \"7\": 14, \"13\": 13, \"9\": 12, \"5\": 10, \"11\": 1}, \"9\": {\"4\": 15, \"12\": 13, \"2\": 25, \"11\": 15, \"0\": 7, \"13\": 19, \"15\": 15, \"1\": 20, \"6\": 16, \"10\": 13, \"7\": 17, \"3\": 27, \"8\": 10, \"9\": 15, \"14\": 8, \"5\": 5}, \"12\": {\"2\": 18, \"1\": 20, \"12\": 23, \"4\": 21, \"0\": 12, \"15\": 13, \"5\": 13, \"13\": 21, \"7\": 18, \"11\": 7, \"6\": 9, \"9\": 14, \"3\": 14, \"8\": 16, \"14\": 10, \"10\": 11}, \"0\": {\"5\": 19, \"9\": 13, \"0\": 22, \"8\": 18, \"15\": 21, \"2\": 14, \"4\": 15, \"1\": 20, \"14\": 11, \"7\": 19, \"13\": 15, \"10\": 4, \"12\": 20, \"11\": 3, \"3\": 18, \"6\": 8}, \"10\": {\"2\": 11, \"1\": 13, \"10\": 28, \"4\": 24, \"3\": 16, \"14\": 28, \"13\": 5, \"0\": 7, \"9\": 11, \"7\": 24, \"5\": 9, \"12\": 15, \"8\": 18, \"15\": 6, \"11\": 3, \"6\": 22}, \"8\": {\"2\": 12, \"6\": 16, \"13\": 17, \"5\": 15, \"14\": 23, \"8\": 19, \"4\": 20, \"0\": 15, \"1\": 16, \"12\": 22, \"10\": 11, \"3\": 15, \"7\": 16, \"11\": 5, \"9\": 12, \"15\": 6}, \"13\": {\"1\": 19, \"4\": 9, \"12\": 21, \"15\": 24, \"0\": 15, \"2\": 27, \"9\": 12, \"5\": 18, \"13\": 25, \"8\": 10, \"7\": 19, \"11\": 11, \"10\": 7, \"6\": 8, \"3\": 9, \"14\": 6}, \"1\": {\"4\": 16, \"5\": 13, \"8\": 11, \"15\": 18, \"10\": 9, \"13\": 23, \"7\": 17, \"3\": 19, \"0\": 15, \"2\": 19, \"12\": 23, \"9\": 16, \"1\": 13, \"14\": 12, \"6\": 12, \"11\": 4}, \"15\": {\"5\": 21, \"3\": 20, \"2\": 16, \"9\": 16, \"6\": 11, \"15\": 25, \"0\": 15, \"12\": 18, \"8\": 11, \"1\": 15, \"4\": 12, \"13\": 28, \"7\": 17, \"10\": 7, \"14\": 6, \"11\": 2}}, \"ORACLE.run1_38\": {\"3\": {\"6\": 23, \"5\": 22, \"7\": 18, \"9\": 59, \"3\": 77, \"4\": 1, \"0\": 18, \"10\": 5, \"8\": 12, \"13\": 2, \"12\": 1, \"15\": 2}, \"8\": {\"13\": 22, \"8\": 30, \"7\": 29, \"10\": 26, \"5\": 33, \"0\": 21, \"6\": 14, \"15\": 25, \"9\": 6, \"1\": 13, \"2\": 6, \"4\": 4, \"14\": 4, \"3\": 3, \"11\": 1, \"12\": 3}, \"0\": {\"0\": 41, \"15\": 13, \"7\": 41, \"13\": 12, \"6\": 11, \"10\": 16, \"4\": 8, \"3\": 18, \"1\": 11, \"5\": 15, \"9\": 13, \"8\": 25, \"12\": 7, \"11\": 5, \"2\": 1, \"14\": 3}, \"2\": {\"1\": 27, \"10\": 25, \"14\": 38, \"2\": 52, \"13\": 20, \"12\": 6, \"15\": 29, \"11\": 18, \"5\": 5, \"8\": 12, \"0\": 4, \"4\": 1, \"6\": 3}, \"4\": {\"12\": 70, \"4\": 115, \"15\": 3, \"7\": 11, \"8\": 5, \"14\": 6, \"0\": 9, \"11\": 9, \"5\": 5, \"10\": 5, \"3\": 1, \"13\": 1}, \"7\": {\"7\": 56, \"0\": 32, \"3\": 14, \"9\": 11, \"4\": 11, \"6\": 21, \"5\": 32, \"8\": 28, \"12\": 5, \"10\": 8, \"15\": 11, \"13\": 5, \"1\": 2, \"2\": 2, \"11\": 1, \"14\": 1}, \"12\": {\"12\": 111, \"4\": 56, \"0\": 4, \"14\": 26, \"8\": 5, \"5\": 2, \"10\": 15, \"3\": 1, \"2\": 4, \"11\": 10, \"15\": 2, \"1\": 2, \"13\": 1, \"7\": 1}, \"6\": {\"5\": 35, \"6\": 59, \"1\": 22, \"9\": 37, \"3\": 9, \"13\": 15, \"8\": 21, \"10\": 8, \"7\": 14, \"0\": 10, \"2\": 3, \"15\": 6, \"4\": 1}, \"15\": {\"13\": 23, \"5\": 16, \"1\": 27, \"15\": 37, \"8\": 21, \"0\": 13, \"2\": 35, \"6\": 13, \"10\": 17, \"7\": 7, \"11\": 7, \"14\": 13, \"12\": 7, \"9\": 4}, \"11\": {\"12\": 23, \"11\": 77, \"2\": 28, \"13\": 9, \"10\": 15, \"14\": 58, \"15\": 15, \"0\": 1, \"9\": 2, \"4\": 4, \"8\": 3, \"5\": 3, \"7\": 1, \"1\": 1}, \"9\": {\"5\": 16, \"13\": 10, \"6\": 55, \"9\": 65, \"15\": 5, \"8\": 14, \"0\": 20, \"3\": 32, \"11\": 2, \"1\": 4, \"7\": 14, \"2\": 1, \"10\": 2}, \"14\": {\"1\": 6, \"14\": 69, \"8\": 6, \"10\": 20, \"2\": 34, \"12\": 26, \"0\": 1, \"11\": 54, \"4\": 6, \"15\": 12, \"13\": 4, \"5\": 2}, \"10\": {\"13\": 13, \"4\": 10, \"5\": 20, \"10\": 37, \"7\": 20, \"8\": 24, \"14\": 13, \"3\": 4, \"1\": 12, \"12\": 12, \"15\": 18, \"11\": 12, \"0\": 15, \"6\": 8, \"2\": 17, \"9\": 5}, \"5\": {\"8\": 28, \"13\": 18, \"5\": 42, \"4\": 3, \"11\": 3, \"6\": 28, \"9\": 13, \"7\": 25, \"0\": 25, \"3\": 6, \"10\": 12, \"1\": 11, \"15\": 17, \"2\": 5, \"12\": 2, \"14\": 2}, \"1\": {\"15\": 26, \"5\": 22, \"6\": 36, \"8\": 20, \"0\": 14, \"7\": 3, \"13\": 36, \"10\": 8, \"2\": 21, \"14\": 6, \"1\": 37, \"9\": 10, \"11\": 1}, \"13\": {\"10\": 24, \"13\": 28, \"5\": 20, \"14\": 9, \"0\": 16, \"15\": 28, \"2\": 20, \"7\": 4, \"1\": 28, \"9\": 7, \"8\": 29, \"6\": 19, \"11\": 4, \"3\": 3, \"12\": 1}}, \"ORACLE.run1_26\": {\"5\": {\"5\": 38, \"1\": 12, \"4\": 6, \"9\": 28, \"2\": 27, \"15\": 12, \"3\": 31, \"7\": 22, \"6\": 5, \"8\": 15, \"11\": 6, \"13\": 16, \"0\": 4, \"14\": 7, \"10\": 11}, \"8\": {\"9\": 12, \"14\": 15, \"10\": 26, \"15\": 21, \"13\": 15, \"1\": 20, \"8\": 19, \"7\": 23, \"6\": 19, \"0\": 23, \"4\": 16, \"12\": 5, \"2\": 12, \"5\": 8, \"11\": 3, \"3\": 3}, \"4\": {\"10\": 21, \"2\": 17, \"4\": 22, \"3\": 18, \"9\": 14, \"0\": 19, \"8\": 26, \"6\": 13, \"13\": 13, \"14\": 12, \"7\": 21, \"1\": 22, \"5\": 5, \"15\": 15, \"12\": 1, \"11\": 1}, \"12\": {\"12\": 80, \"9\": 14, \"10\": 23, \"0\": 14, \"4\": 5, \"11\": 26, \"15\": 14, \"6\": 29, \"13\": 9, \"14\": 9, \"8\": 11, \"7\": 2, \"1\": 3, \"5\": 1}, \"6\": {\"9\": 16, \"2\": 15, \"8\": 15, \"15\": 20, \"1\": 16, \"6\": 22, \"14\": 10, \"10\": 25, \"0\": 17, \"4\": 13, \"11\": 12, \"13\": 17, \"12\": 17, \"7\": 15, \"3\": 4, \"5\": 6}, \"7\": {\"2\": 14, \"6\": 10, \"15\": 18, \"13\": 21, \"4\": 22, \"3\": 21, \"5\": 15, \"9\": 13, \"7\": 28, \"12\": 2, \"8\": 11, \"0\": 7, \"1\": 25, \"10\": 11, \"14\": 21, \"11\": 1}, \"10\": {\"0\": 21, \"6\": 28, \"14\": 23, \"5\": 11, \"4\": 22, \"8\": 12, \"15\": 13, \"2\": 11, \"13\": 10, \"7\": 15, \"10\": 20, \"3\": 9, \"9\": 13, \"11\": 5, \"1\": 19, \"12\": 8}, \"0\": {\"0\": 22, \"14\": 35, \"2\": 13, \"10\": 27, \"8\": 15, \"15\": 17, \"4\": 20, \"6\": 20, \"7\": 15, \"9\": 14, \"13\": 7, \"11\": 2, \"1\": 16, \"5\": 7, \"3\": 8, \"12\": 2}, \"15\": {\"14\": 17, \"8\": 14, \"9\": 20, \"13\": 22, \"15\": 18, \"10\": 17, \"12\": 9, \"4\": 23, \"7\": 16, \"3\": 10, \"2\": 13, \"6\": 12, \"11\": 10, \"0\": 13, \"1\": 11, \"5\": 15}, \"9\": {\"8\": 16, \"6\": 14, \"7\": 14, \"14\": 12, \"9\": 29, \"3\": 11, \"1\": 13, \"0\": 14, \"13\": 23, \"4\": 10, \"15\": 25, \"5\": 18, \"12\": 3, \"11\": 9, \"2\": 16, \"10\": 13}, \"11\": {\"11\": 86, \"2\": 4, \"12\": 34, \"8\": 11, \"15\": 21, \"9\": 12, \"0\": 9, \"4\": 5, \"13\": 18, \"5\": 7, \"10\": 8, \"6\": 15, \"7\": 4, \"14\": 2, \"3\": 2, \"1\": 2}, \"14\": {\"1\": 15, \"7\": 15, \"14\": 22, \"4\": 26, \"9\": 16, \"3\": 15, \"5\": 10, \"0\": 20, \"12\": 4, \"13\": 8, \"15\": 16, \"6\": 15, \"8\": 19, \"10\": 26, \"2\": 12, \"11\": 1}, \"2\": {\"2\": 36, \"7\": 23, \"8\": 16, \"0\": 8, \"5\": 24, \"15\": 14, \"9\": 14, \"3\": 27, \"1\": 19, \"13\": 16, \"14\": 8, \"11\": 1, \"6\": 9, \"4\": 12, \"10\": 13}, \"13\": {\"2\": 22, \"10\": 14, \"13\": 33, \"8\": 10, \"9\": 26, \"5\": 30, \"1\": 10, \"11\": 12, \"6\": 7, \"12\": 7, \"3\": 17, \"15\": 19, \"4\": 9, \"0\": 10, \"7\": 12, \"14\": 2}, \"3\": {\"3\": 40, \"14\": 9, \"2\": 23, \"4\": 10, \"10\": 9, \"15\": 17, \"9\": 20, \"5\": 32, \"6\": 3, \"1\": 20, \"7\": 23, \"13\": 14, \"8\": 7, \"0\": 13}, \"1\": {\"14\": 14, \"1\": 28, \"6\": 11, \"7\": 34, \"3\": 23, \"4\": 16, \"2\": 17, \"13\": 10, \"10\": 20, \"9\": 10, \"5\": 11, \"8\": 20, \"15\": 7, \"0\": 18, \"11\": 1}}}, \"per_domain_accuracy\": {\"W_A_3\": {\"accuracy\": 0.9534574468085106, \"source?\": true}, \"C_A_4\": {\"accuracy\": 0.9953125, \"source?\": true}, \"W_A_2\": {\"accuracy\": 0.9446614583333334, \"source?\": true}, \"C_A_2\": {\"accuracy\": 0.9953125, \"source?\": true}, \"C_A_3\": {\"accuracy\": 0.996875, \"source?\": true}, \"C_A_1\": {\"accuracy\": 0.99375, \"source?\": true}, \"W_A_1\": {\"accuracy\": 0.951766304347826, \"source?\": true}, \"W_A_4\": {\"accuracy\": 0.94140625, \"source?\": true}, \"C_A_5\": {\"accuracy\": 0.9875, \"source?\": true}, \"ORACLE.run1_50\": {\"accuracy\": 0.18697916666666667, \"source?\": false}, \"ORACLE.run1_14\": {\"accuracy\": 0.20104166666666667, \"source?\": false}, \"ORACLE.run1_32\": {\"accuracy\": 0.27890625, \"source?\": false}, \"ORACLE.run1_44\": {\"accuracy\": 0.21197916666666666, \"source?\": false}, \"ORACLE.run1_8\": {\"accuracy\": 0.15546875, \"source?\": false}, \"ORACLE.run1_20\": {\"accuracy\": 0.09765625, \"source?\": false}, \"ORACLE.run1_38\": {\"accuracy\": 0.24296875, \"source?\": false}, \"ORACLE.run1_26\": {\"accuracy\": 0.14140625, \"source?\": false}}}, \"history\": {\"epoch_indices\": [1, 2, 3, 4, 5, 6, 7], \"train_label_loss\": [0.3397943455177518, 0.1789505829065784, 0.13443888926718864, 0.1050506092043541, 0.08358319446649227, 0.0696218792063064, 0.05631172856095162], \"source_val_label_loss\": [0.2800453007221222, 0.20484106242656708, 0.16064421832561493, 0.1486906260251999, 0.1579471379518509, 0.14550215005874634, 0.16322965919971466], \"target_val_label_loss\": [2.549290418624878, 2.6957037448883057, 2.4589357376098633, 2.5246329307556152, 2.782174587249756, 2.5287694931030273, 2.7462334632873535], \"source_val_acc_label\": [0.9407439446366782, 0.9540441176470589, 0.9636678200692042, 0.9690743944636678, 0.9666955017301038, 0.9692906574394463, 0.9702638408304498], \"target_val_acc_label\": [0.16917317708333332, 0.15794270833333332, 0.18955078125, 0.19189453125, 0.16295572916666667, 0.2064453125, 0.18069661458333333]}, \"dataset_metrics\": {\"source\": {\"train\": {\"n_unique_x\": 56700, \"n_unique_y\": 130, \"n_batch/episode\": 2080}, \"val\": {\"n_unique_x\": 12097, \"n_unique_y\": 130, \"n_batch/episode\": 289}, \"test\": {\"n_unique_x\": 12097, \"n_unique_y\": 130, \"n_batch/episode\": 289}}, \"target\": {\"train\": {\"n_unique_x\": 179200, \"n_unique_y\": 16, \"n_batch/episode\": 6720}, \"val\": {\"n_unique_x\": 38400, \"n_unique_y\": 16, \"n_batch/episode\": 960}, \"test\": {\"n_unique_x\": 38400, \"n_unique_y\": 16, \"n_batch/episode\": 960}}}}'"
      ]
     },
     "execution_count": 29,
     "metadata": {},
     "output_type": "execute_result"
    }
   ],
   "source": [
    "json.dumps(experiment)"
   ]
  }
 ],
 "metadata": {
  "celltoolbar": "Tags",
  "kernelspec": {
   "display_name": "Python 3 (ipykernel)",
   "language": "python",
   "name": "python3"
  },
  "language_info": {
   "codemirror_mode": {
    "name": "ipython",
    "version": 3
   },
   "file_extension": ".py",
   "mimetype": "text/x-python",
   "name": "python",
   "nbconvert_exporter": "python",
   "pygments_lexer": "ipython3",
   "version": "3.8.10"
  },
  "papermill": {
   "default_parameters": {},
   "duration": 500.61788,
   "end_time": "2022-03-18T23:29:14.560464",
   "environment_variables": {},
   "exception": null,
   "input_path": "/mnt/wd500GB/CSC500/csc500-main/csc500-notebooks/templates/tl_ptn_template.ipynb",
   "output_path": "trial.ipynb",
   "parameters": {
    "parameters": {
     "BEST_MODEL_PATH": "./best_model.pth",
     "NUM_LOGS_PER_EPOCH": 10,
     "criteria_for_best": "target_loss",
     "dataset_seed": 500,
     "datasets": [
      {
       "domain_prefix": "C_A_",
       "domains": [
        1,
        2,
        3,
        4,
        5
       ],
       "episode_transforms": [],
       "labels": [
        "1-10.",
        "1-11.",
        "1-15.",
        "1-16.",
        "1-17.",
        "1-18.",
        "1-19.",
        "10-4.",
        "10-7.",
        "11-1.",
        "11-14.",
        "11-17.",
        "11-20.",
        "11-7.",
        "13-20.",
        "13-8.",
        "14-10.",
        "14-11.",
        "14-14.",
        "14-7.",
        "15-1.",
        "15-20.",
        "16-1.",
        "16-16.",
        "17-10.",
        "17-11.",
        "17-2.",
        "19-1.",
        "19-16.",
        "19-19.",
        "19-20.",
        "19-3.",
        "2-10.",
        "2-11.",
        "2-17.",
        "2-18.",
        "2-20.",
        "2-3.",
        "2-4.",
        "2-5.",
        "2-6.",
        "2-7.",
        "2-8.",
        "3-13.",
        "3-18.",
        "3-3.",
        "4-1.",
        "4-10.",
        "4-11.",
        "4-19.",
        "5-5.",
        "6-15.",
        "7-10.",
        "7-14.",
        "8-18.",
        "8-20.",
        "8-3.",
        "8-8."
       ],
       "num_examples_per_domain_per_label": 100,
       "pickle_path": "/mnt/wd500GB/CSC500/csc500-main/datasets/cores.stratified_ds.2022A.pkl",
       "source_or_target_dataset": "source",
       "x_transforms": [
        "unit_mag",
        "take_200"
       ]
      },
      {
       "domain_prefix": "W_A_",
       "domains": [
        1,
        2,
        3,
        4
       ],
       "episode_transforms": [],
       "labels": [
        "1-10",
        "1-12",
        "1-14",
        "1-16",
        "1-18",
        "1-19",
        "1-8",
        "10-11",
        "10-17",
        "10-4",
        "10-7",
        "11-1",
        "11-10",
        "11-19",
        "11-20",
        "11-4",
        "11-7",
        "12-19",
        "12-20",
        "12-7",
        "13-14",
        "13-18",
        "13-19",
        "13-20",
        "13-3",
        "13-7",
        "14-10",
        "14-11",
        "14-12",
        "14-13",
        "14-14",
        "14-19",
        "14-20",
        "14-7",
        "14-8",
        "14-9",
        "15-1",
        "15-19",
        "15-6",
        "16-1",
        "16-16",
        "16-19",
        "16-20",
        "17-10",
        "17-11",
        "18-1",
        "18-10",
        "18-11",
        "18-12",
        "18-13",
        "18-14",
        "18-15",
        "18-16",
        "18-17",
        "18-19",
        "18-2",
        "18-20",
        "18-4",
        "18-5",
        "18-7",
        "18-8",
        "18-9",
        "19-1",
        "19-10",
        "19-11",
        "19-12",
        "19-13",
        "19-14",
        "19-15",
        "19-19",
        "19-2",
        "19-20",
        "19-3",
        "19-4",
        "19-6",
        "19-7",
        "19-8",
        "19-9",
        "2-1",
        "2-13",
        "2-15",
        "2-3",
        "2-4",
        "2-5",
        "2-6",
        "2-7",
        "2-8",
        "20-1",
        "20-12",
        "20-14",
        "20-15",
        "20-16",
        "20-18",
        "20-19",
        "20-20",
        "20-3",
        "20-4",
        "20-5",
        "20-7",
        "20-8",
        "3-1",
        "3-13",
        "3-18",
        "3-2",
        "3-8",
        "4-1",
        "4-10",
        "4-11",
        "5-1",
        "5-5",
        "6-1",
        "6-15",
        "6-6",
        "7-10",
        "7-11",
        "7-12",
        "7-13",
        "7-14",
        "7-7",
        "7-8",
        "7-9",
        "8-1",
        "8-13",
        "8-14",
        "8-18",
        "8-20",
        "8-3",
        "8-8",
        "9-1",
        "9-7"
       ],
       "num_examples_per_domain_per_label": 100,
       "pickle_path": "/mnt/wd500GB/CSC500/csc500-main/datasets/wisig.node3-19.stratified_ds.2022A.pkl",
       "source_or_target_dataset": "source",
       "x_transforms": [
        "unit_mag",
        "take_200"
       ]
      },
      {
       "domain_prefix": "ORACLE.run1_",
       "domains": [
        32,
        38,
        8,
        44,
        14,
        50,
        20,
        26
       ],
       "episode_transforms": [],
       "labels": [
        "3123D52",
        "3123D65",
        "3123D79",
        "3123D80",
        "3123D54",
        "3123D70",
        "3123D7B",
        "3123D89",
        "3123D58",
        "3123D76",
        "3123D7D",
        "3123EFE",
        "3123D64",
        "3123D78",
        "3123D7E",
        "3124E4A"
       ],
       "num_examples_per_domain_per_label": 2000,
       "pickle_path": "/mnt/wd500GB/CSC500/csc500-main/datasets/oracle.Run1_framed_2000Examples_stratified_ds.2022A.pkl",
       "source_or_target_dataset": "target",
       "x_transforms": [
        "unit_mag",
        "take_200",
        "resample_20Msps_to_25Msps"
       ]
      }
     ],
     "device": "cuda",
     "experiment_name": "tl_3A:cores+wisig -> oracle.run1.framed",
     "lr": 0.001,
     "n_epoch": 50,
     "n_query": 2,
     "n_shot": 3,
     "n_way": 16,
     "patience": 3,
     "seed": 500,
     "test_k_factor": 2,
     "torch_default_dtype": "torch.float32",
     "train_k_factor": 3,
     "val_k_factor": 2,
     "x_net": [
      {
       "class": "nnReshape",
       "kargs": {
        "shape": [
         -1,
         1,
         2,
         200
        ]
       }
      },
      {
       "class": "Conv2d",
       "kargs": {
        "bias": false,
        "in_channels": 1,
        "kernel_size": [
         1,
         7
        ],
        "out_channels": 256,
        "padding": [
         0,
         3
        ]
       }
      },
      {
       "class": "ReLU",
       "kargs": {
        "inplace": true
       }
      },
      {
       "class": "BatchNorm2d",
       "kargs": {
        "num_features": 256
       }
      },
      {
       "class": "Conv2d",
       "kargs": {
        "bias": true,
        "in_channels": 256,
        "kernel_size": [
         2,
         7
        ],
        "out_channels": 80,
        "padding": [
         0,
         3
        ]
       }
      },
      {
       "class": "ReLU",
       "kargs": {
        "inplace": true
       }
      },
      {
       "class": "BatchNorm2d",
       "kargs": {
        "num_features": 80
       }
      },
      {
       "class": "Flatten",
       "kargs": {}
      },
      {
       "class": "Linear",
       "kargs": {
        "in_features": 16000,
        "out_features": 256
       }
      },
      {
       "class": "ReLU",
       "kargs": {
        "inplace": true
       }
      },
      {
       "class": "BatchNorm1d",
       "kargs": {
        "num_features": 256
       }
      },
      {
       "class": "Linear",
       "kargs": {
        "in_features": 256,
        "out_features": 256
       }
      }
     ],
     "x_shape": [
      2,
      200
     ]
    }
   },
   "start_time": "2022-03-18T23:20:53.942584",
   "version": "2.3.4"
  }
 },
 "nbformat": 4,
 "nbformat_minor": 5
}