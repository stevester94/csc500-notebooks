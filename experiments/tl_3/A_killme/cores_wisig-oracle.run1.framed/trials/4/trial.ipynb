{
 "cells": [
  {
   "cell_type": "markdown",
   "id": "9fea5f46",
   "metadata": {
    "papermill": {
     "duration": 0.0175,
     "end_time": "2022-03-18T21:55:09.360679",
     "exception": false,
     "start_time": "2022-03-18T21:55:09.343179",
     "status": "completed"
    },
    "tags": []
   },
   "source": [
    "# Transfer Learning Template"
   ]
  },
  {
   "cell_type": "code",
   "execution_count": 1,
   "id": "0902182a",
   "metadata": {
    "execution": {
     "iopub.execute_input": "2022-03-18T21:55:09.399090Z",
     "iopub.status.busy": "2022-03-18T21:55:09.398704Z",
     "iopub.status.idle": "2022-03-18T21:55:10.325620Z",
     "shell.execute_reply": "2022-03-18T21:55:10.325327Z"
    },
    "papermill": {
     "duration": 0.952724,
     "end_time": "2022-03-18T21:55:10.325687",
     "exception": false,
     "start_time": "2022-03-18T21:55:09.372963",
     "status": "completed"
    },
    "tags": []
   },
   "outputs": [],
   "source": [
    "%load_ext autoreload\n",
    "%autoreload 2\n",
    "%matplotlib inline\n",
    "\n",
    "    \n",
    "import os, json, sys, time, random\n",
    "import numpy as np\n",
    "import torch\n",
    "from torch.optim import Adam\n",
    "from  easydict import EasyDict\n",
    "import matplotlib.pyplot as plt\n",
    "\n",
    "from steves_models.steves_ptn import Steves_Prototypical_Network\n",
    "\n",
    "from steves_utils.lazy_iterable_wrapper import Lazy_Iterable_Wrapper\n",
    "from steves_utils.iterable_aggregator import Iterable_Aggregator\n",
    "from steves_utils.ptn_train_eval_test_jig import  PTN_Train_Eval_Test_Jig\n",
    "from steves_utils.torch_sequential_builder import build_sequential\n",
    "from steves_utils.torch_utils import get_dataset_metrics, ptn_confusion_by_domain_over_dataloader\n",
    "from steves_utils.utils_v2 import (per_domain_accuracy_from_confusion, get_datasets_base_path)\n",
    "from steves_utils.PTN.utils import independent_accuracy_assesment\n",
    "\n",
    "from torch.utils.data import DataLoader\n",
    "\n",
    "from steves_utils.stratified_dataset.episodic_accessor import Episodic_Accessor_Factory\n",
    "\n",
    "from steves_utils.ptn_do_report import (\n",
    "    get_loss_curve,\n",
    "    get_results_table,\n",
    "    get_parameters_table,\n",
    "    get_domain_accuracies,\n",
    ")\n",
    "\n",
    "from steves_utils.transforms import get_chained_transform"
   ]
  },
  {
   "cell_type": "markdown",
   "id": "41c840b4",
   "metadata": {
    "papermill": {
     "duration": 0.012426,
     "end_time": "2022-03-18T21:55:10.353426",
     "exception": false,
     "start_time": "2022-03-18T21:55:10.341000",
     "status": "completed"
    },
    "tags": []
   },
   "source": [
    "# Allowed Parameters\n",
    "These are allowed parameters, not defaults\n",
    "Each of these values need to be present in the injected parameters (the notebook will raise an exception if they are not present)\n",
    "\n",
    "Papermill uses the cell tag \"parameters\" to inject the real parameters below this cell.\n",
    "Enable tags to see what I mean"
   ]
  },
  {
   "cell_type": "code",
   "execution_count": 2,
   "id": "fd44eb83",
   "metadata": {
    "execution": {
     "iopub.execute_input": "2022-03-18T21:55:10.381177Z",
     "iopub.status.busy": "2022-03-18T21:55:10.380922Z",
     "iopub.status.idle": "2022-03-18T21:55:10.394366Z",
     "shell.execute_reply": "2022-03-18T21:55:10.394658Z"
    },
    "papermill": {
     "duration": 0.028853,
     "end_time": "2022-03-18T21:55:10.394739",
     "exception": false,
     "start_time": "2022-03-18T21:55:10.365886",
     "status": "completed"
    },
    "tags": []
   },
   "outputs": [],
   "source": [
    "required_parameters = {\n",
    "    \"experiment_name\",\n",
    "    \"lr\",\n",
    "    \"device\",\n",
    "    \"seed\",\n",
    "    \"dataset_seed\",\n",
    "    \"n_shot\",\n",
    "    \"n_query\",\n",
    "    \"n_way\",\n",
    "    \"train_k_factor\",\n",
    "    \"val_k_factor\",\n",
    "    \"test_k_factor\",\n",
    "    \"n_epoch\",\n",
    "    \"patience\",\n",
    "    \"criteria_for_best\",\n",
    "    \"x_net\",\n",
    "    \"datasets\",\n",
    "    \"torch_default_dtype\",\n",
    "    \"NUM_LOGS_PER_EPOCH\",\n",
    "    \"BEST_MODEL_PATH\",\n",
    "    \"x_shape\",\n",
    "}"
   ]
  },
  {
   "cell_type": "code",
   "execution_count": 3,
   "id": "fa3f0049",
   "metadata": {
    "execution": {
     "iopub.execute_input": "2022-03-18T21:55:10.432089Z",
     "iopub.status.busy": "2022-03-18T21:55:10.431788Z",
     "iopub.status.idle": "2022-03-18T21:55:10.445114Z",
     "shell.execute_reply": "2022-03-18T21:55:10.445460Z"
    },
    "papermill": {
     "duration": 0.034459,
     "end_time": "2022-03-18T21:55:10.445565",
     "exception": false,
     "start_time": "2022-03-18T21:55:10.411106",
     "status": "completed"
    },
    "tags": [
     "parameters"
    ]
   },
   "outputs": [],
   "source": [
    "from steves_utils.CORES.utils import (\n",
    "    ALL_NODES,\n",
    "    ALL_NODES_MINIMUM_1000_EXAMPLES,\n",
    "    ALL_DAYS\n",
    ")\n",
    "\n",
    "from steves_utils.ORACLE.utils_v2 import (\n",
    "    ALL_DISTANCES_FEET_NARROWED,\n",
    "    ALL_RUNS,\n",
    "    ALL_SERIAL_NUMBERS,\n",
    ")\n",
    "\n",
    "standalone_parameters = {}\n",
    "standalone_parameters[\"experiment_name\"] = \"STANDALONE PTN\"\n",
    "standalone_parameters[\"lr\"] = 0.001\n",
    "standalone_parameters[\"device\"] = \"cuda\"\n",
    "\n",
    "standalone_parameters[\"seed\"] = 1337\n",
    "standalone_parameters[\"dataset_seed\"] = 1337\n",
    "\n",
    "standalone_parameters[\"n_way\"] = 8\n",
    "standalone_parameters[\"n_shot\"] = 3\n",
    "standalone_parameters[\"n_query\"]  = 2\n",
    "standalone_parameters[\"train_k_factor\"] = 1\n",
    "standalone_parameters[\"val_k_factor\"] = 2\n",
    "standalone_parameters[\"test_k_factor\"] = 2\n",
    "\n",
    "\n",
    "standalone_parameters[\"n_epoch\"] = 50\n",
    "\n",
    "standalone_parameters[\"patience\"] = 10\n",
    "standalone_parameters[\"criteria_for_best\"] = \"source_loss\"\n",
    "\n",
    "standalone_parameters[\"datasets\"] = [\n",
    "    {\n",
    "        \"labels\": ALL_SERIAL_NUMBERS,\n",
    "        \"domains\": ALL_DISTANCES_FEET_NARROWED,\n",
    "        \"num_examples_per_domain_per_label\": 100,\n",
    "        \"pickle_path\": os.path.join(get_datasets_base_path(), \"oracle.Run1_framed_2000Examples_stratified_ds.2022A.pkl\"),\n",
    "        \"source_or_target_dataset\": \"source\",\n",
    "        \"x_transforms\": [\"unit_mag\", \"minus_two\"],\n",
    "        \"episode_transforms\": [],\n",
    "        \"domain_prefix\": \"ORACLE_\"\n",
    "    },\n",
    "    {\n",
    "        \"labels\": ALL_NODES,\n",
    "        \"domains\": ALL_DAYS,\n",
    "        \"num_examples_per_domain_per_label\": 100,\n",
    "        \"pickle_path\": os.path.join(get_datasets_base_path(), \"cores.stratified_ds.2022A.pkl\"),\n",
    "        \"source_or_target_dataset\": \"target\",\n",
    "        \"x_transforms\": [\"unit_power\", \"times_zero\"],\n",
    "        \"episode_transforms\": [],\n",
    "        \"domain_prefix\": \"CORES_\"\n",
    "    }   \n",
    "]\n",
    "\n",
    "standalone_parameters[\"torch_default_dtype\"] = \"torch.float32\" \n",
    "\n",
    "\n",
    "\n",
    "standalone_parameters[\"x_net\"] =     [\n",
    "    {\"class\": \"nnReshape\", \"kargs\": {\"shape\":[-1, 1, 2, 256]}},\n",
    "    {\"class\": \"Conv2d\", \"kargs\": { \"in_channels\":1, \"out_channels\":256, \"kernel_size\":(1,7), \"bias\":False, \"padding\":(0,3), },},\n",
    "    {\"class\": \"ReLU\", \"kargs\": {\"inplace\": True}},\n",
    "    {\"class\": \"BatchNorm2d\", \"kargs\": {\"num_features\":256}},\n",
    "\n",
    "    {\"class\": \"Conv2d\", \"kargs\": { \"in_channels\":256, \"out_channels\":80, \"kernel_size\":(2,7), \"bias\":True, \"padding\":(0,3), },},\n",
    "    {\"class\": \"ReLU\", \"kargs\": {\"inplace\": True}},\n",
    "    {\"class\": \"BatchNorm2d\", \"kargs\": {\"num_features\":80}},\n",
    "    {\"class\": \"Flatten\", \"kargs\": {}},\n",
    "\n",
    "    {\"class\": \"Linear\", \"kargs\": {\"in_features\": 80*256, \"out_features\": 256}}, # 80 units per IQ pair\n",
    "    {\"class\": \"ReLU\", \"kargs\": {\"inplace\": True}},\n",
    "    {\"class\": \"BatchNorm1d\", \"kargs\": {\"num_features\":256}},\n",
    "\n",
    "    {\"class\": \"Linear\", \"kargs\": {\"in_features\": 256, \"out_features\": 256}},\n",
    "]\n",
    "\n",
    "# Parameters relevant to results\n",
    "# These parameters will basically never need to change\n",
    "standalone_parameters[\"NUM_LOGS_PER_EPOCH\"] = 10\n",
    "standalone_parameters[\"BEST_MODEL_PATH\"] = \"./best_model.pth\"\n",
    "\n",
    "\n",
    "\n",
    "\n"
   ]
  },
  {
   "cell_type": "code",
   "execution_count": 4,
   "id": "f28b5736",
   "metadata": {
    "execution": {
     "iopub.execute_input": "2022-03-18T21:55:10.490403Z",
     "iopub.status.busy": "2022-03-18T21:55:10.489825Z",
     "iopub.status.idle": "2022-03-18T21:55:10.503052Z",
     "shell.execute_reply": "2022-03-18T21:55:10.502609Z"
    },
    "papermill": {
     "duration": 0.040253,
     "end_time": "2022-03-18T21:55:10.503141",
     "exception": false,
     "start_time": "2022-03-18T21:55:10.462888",
     "status": "completed"
    },
    "tags": [
     "injected-parameters"
    ]
   },
   "outputs": [],
   "source": [
    "# Parameters\n",
    "parameters = {\n",
    "    \"experiment_name\": \"tl_3A:cores+wisig -> oracle.run1.framed\",\n",
    "    \"device\": \"cuda\",\n",
    "    \"lr\": 0.001,\n",
    "    \"x_shape\": [2, 200],\n",
    "    \"n_shot\": 3,\n",
    "    \"n_query\": 2,\n",
    "    \"train_k_factor\": 3,\n",
    "    \"val_k_factor\": 2,\n",
    "    \"test_k_factor\": 2,\n",
    "    \"torch_default_dtype\": \"torch.float32\",\n",
    "    \"n_epoch\": 50,\n",
    "    \"patience\": 3,\n",
    "    \"criteria_for_best\": \"target_loss\",\n",
    "    \"x_net\": [\n",
    "        {\"class\": \"nnReshape\", \"kargs\": {\"shape\": [-1, 1, 2, 200]}},\n",
    "        {\n",
    "            \"class\": \"Conv2d\",\n",
    "            \"kargs\": {\n",
    "                \"in_channels\": 1,\n",
    "                \"out_channels\": 256,\n",
    "                \"kernel_size\": [1, 7],\n",
    "                \"bias\": False,\n",
    "                \"padding\": [0, 3],\n",
    "            },\n",
    "        },\n",
    "        {\"class\": \"ReLU\", \"kargs\": {\"inplace\": True}},\n",
    "        {\"class\": \"BatchNorm2d\", \"kargs\": {\"num_features\": 256}},\n",
    "        {\n",
    "            \"class\": \"Conv2d\",\n",
    "            \"kargs\": {\n",
    "                \"in_channels\": 256,\n",
    "                \"out_channels\": 80,\n",
    "                \"kernel_size\": [2, 7],\n",
    "                \"bias\": True,\n",
    "                \"padding\": [0, 3],\n",
    "            },\n",
    "        },\n",
    "        {\"class\": \"ReLU\", \"kargs\": {\"inplace\": True}},\n",
    "        {\"class\": \"BatchNorm2d\", \"kargs\": {\"num_features\": 80}},\n",
    "        {\"class\": \"Flatten\", \"kargs\": {}},\n",
    "        {\"class\": \"Linear\", \"kargs\": {\"in_features\": 16000, \"out_features\": 256}},\n",
    "        {\"class\": \"ReLU\", \"kargs\": {\"inplace\": True}},\n",
    "        {\"class\": \"BatchNorm1d\", \"kargs\": {\"num_features\": 256}},\n",
    "        {\"class\": \"Linear\", \"kargs\": {\"in_features\": 256, \"out_features\": 256}},\n",
    "    ],\n",
    "    \"NUM_LOGS_PER_EPOCH\": 10,\n",
    "    \"BEST_MODEL_PATH\": \"./best_model.pth\",\n",
    "    \"n_way\": 16,\n",
    "    \"datasets\": [\n",
    "        {\n",
    "            \"labels\": [\n",
    "                \"1-10.\",\n",
    "                \"1-11.\",\n",
    "                \"1-15.\",\n",
    "                \"1-16.\",\n",
    "                \"1-17.\",\n",
    "                \"1-18.\",\n",
    "                \"1-19.\",\n",
    "                \"10-4.\",\n",
    "                \"10-7.\",\n",
    "                \"11-1.\",\n",
    "                \"11-14.\",\n",
    "                \"11-17.\",\n",
    "                \"11-20.\",\n",
    "                \"11-7.\",\n",
    "                \"13-20.\",\n",
    "                \"13-8.\",\n",
    "                \"14-10.\",\n",
    "                \"14-11.\",\n",
    "                \"14-14.\",\n",
    "                \"14-7.\",\n",
    "                \"15-1.\",\n",
    "                \"15-20.\",\n",
    "                \"16-1.\",\n",
    "                \"16-16.\",\n",
    "                \"17-10.\",\n",
    "                \"17-11.\",\n",
    "                \"17-2.\",\n",
    "                \"19-1.\",\n",
    "                \"19-16.\",\n",
    "                \"19-19.\",\n",
    "                \"19-20.\",\n",
    "                \"19-3.\",\n",
    "                \"2-10.\",\n",
    "                \"2-11.\",\n",
    "                \"2-17.\",\n",
    "                \"2-18.\",\n",
    "                \"2-20.\",\n",
    "                \"2-3.\",\n",
    "                \"2-4.\",\n",
    "                \"2-5.\",\n",
    "                \"2-6.\",\n",
    "                \"2-7.\",\n",
    "                \"2-8.\",\n",
    "                \"3-13.\",\n",
    "                \"3-18.\",\n",
    "                \"3-3.\",\n",
    "                \"4-1.\",\n",
    "                \"4-10.\",\n",
    "                \"4-11.\",\n",
    "                \"4-19.\",\n",
    "                \"5-5.\",\n",
    "                \"6-15.\",\n",
    "                \"7-10.\",\n",
    "                \"7-14.\",\n",
    "                \"8-18.\",\n",
    "                \"8-20.\",\n",
    "                \"8-3.\",\n",
    "                \"8-8.\",\n",
    "            ],\n",
    "            \"domains\": [1, 2, 3, 4, 5],\n",
    "            \"num_examples_per_domain_per_label\": 100,\n",
    "            \"pickle_path\": \"/mnt/wd500GB/CSC500/csc500-main/datasets/cores.stratified_ds.2022A.pkl\",\n",
    "            \"source_or_target_dataset\": \"source\",\n",
    "            \"x_transforms\": [\"unit_mag\", \"take_200\"],\n",
    "            \"episode_transforms\": [],\n",
    "            \"domain_prefix\": \"C_A_\",\n",
    "        },\n",
    "        {\n",
    "            \"labels\": [\n",
    "                \"1-10\",\n",
    "                \"1-12\",\n",
    "                \"1-14\",\n",
    "                \"1-16\",\n",
    "                \"1-18\",\n",
    "                \"1-19\",\n",
    "                \"1-8\",\n",
    "                \"10-11\",\n",
    "                \"10-17\",\n",
    "                \"10-4\",\n",
    "                \"10-7\",\n",
    "                \"11-1\",\n",
    "                \"11-10\",\n",
    "                \"11-19\",\n",
    "                \"11-20\",\n",
    "                \"11-4\",\n",
    "                \"11-7\",\n",
    "                \"12-19\",\n",
    "                \"12-20\",\n",
    "                \"12-7\",\n",
    "                \"13-14\",\n",
    "                \"13-18\",\n",
    "                \"13-19\",\n",
    "                \"13-20\",\n",
    "                \"13-3\",\n",
    "                \"13-7\",\n",
    "                \"14-10\",\n",
    "                \"14-11\",\n",
    "                \"14-12\",\n",
    "                \"14-13\",\n",
    "                \"14-14\",\n",
    "                \"14-19\",\n",
    "                \"14-20\",\n",
    "                \"14-7\",\n",
    "                \"14-8\",\n",
    "                \"14-9\",\n",
    "                \"15-1\",\n",
    "                \"15-19\",\n",
    "                \"15-6\",\n",
    "                \"16-1\",\n",
    "                \"16-16\",\n",
    "                \"16-19\",\n",
    "                \"16-20\",\n",
    "                \"17-10\",\n",
    "                \"17-11\",\n",
    "                \"18-1\",\n",
    "                \"18-10\",\n",
    "                \"18-11\",\n",
    "                \"18-12\",\n",
    "                \"18-13\",\n",
    "                \"18-14\",\n",
    "                \"18-15\",\n",
    "                \"18-16\",\n",
    "                \"18-17\",\n",
    "                \"18-19\",\n",
    "                \"18-2\",\n",
    "                \"18-20\",\n",
    "                \"18-4\",\n",
    "                \"18-5\",\n",
    "                \"18-7\",\n",
    "                \"18-8\",\n",
    "                \"18-9\",\n",
    "                \"19-1\",\n",
    "                \"19-10\",\n",
    "                \"19-11\",\n",
    "                \"19-12\",\n",
    "                \"19-13\",\n",
    "                \"19-14\",\n",
    "                \"19-15\",\n",
    "                \"19-19\",\n",
    "                \"19-2\",\n",
    "                \"19-20\",\n",
    "                \"19-3\",\n",
    "                \"19-4\",\n",
    "                \"19-6\",\n",
    "                \"19-7\",\n",
    "                \"19-8\",\n",
    "                \"19-9\",\n",
    "                \"2-1\",\n",
    "                \"2-13\",\n",
    "                \"2-15\",\n",
    "                \"2-3\",\n",
    "                \"2-4\",\n",
    "                \"2-5\",\n",
    "                \"2-6\",\n",
    "                \"2-7\",\n",
    "                \"2-8\",\n",
    "                \"20-1\",\n",
    "                \"20-12\",\n",
    "                \"20-14\",\n",
    "                \"20-15\",\n",
    "                \"20-16\",\n",
    "                \"20-18\",\n",
    "                \"20-19\",\n",
    "                \"20-20\",\n",
    "                \"20-3\",\n",
    "                \"20-4\",\n",
    "                \"20-5\",\n",
    "                \"20-7\",\n",
    "                \"20-8\",\n",
    "                \"3-1\",\n",
    "                \"3-13\",\n",
    "                \"3-18\",\n",
    "                \"3-2\",\n",
    "                \"3-8\",\n",
    "                \"4-1\",\n",
    "                \"4-10\",\n",
    "                \"4-11\",\n",
    "                \"5-1\",\n",
    "                \"5-5\",\n",
    "                \"6-1\",\n",
    "                \"6-15\",\n",
    "                \"6-6\",\n",
    "                \"7-10\",\n",
    "                \"7-11\",\n",
    "                \"7-12\",\n",
    "                \"7-13\",\n",
    "                \"7-14\",\n",
    "                \"7-7\",\n",
    "                \"7-8\",\n",
    "                \"7-9\",\n",
    "                \"8-1\",\n",
    "                \"8-13\",\n",
    "                \"8-14\",\n",
    "                \"8-18\",\n",
    "                \"8-20\",\n",
    "                \"8-3\",\n",
    "                \"8-8\",\n",
    "                \"9-1\",\n",
    "                \"9-7\",\n",
    "            ],\n",
    "            \"domains\": [1, 2, 3, 4],\n",
    "            \"num_examples_per_domain_per_label\": 100,\n",
    "            \"pickle_path\": \"/mnt/wd500GB/CSC500/csc500-main/datasets/wisig.node3-19.stratified_ds.2022A.pkl\",\n",
    "            \"source_or_target_dataset\": \"source\",\n",
    "            \"x_transforms\": [\"unit_mag\", \"take_200\"],\n",
    "            \"episode_transforms\": [],\n",
    "            \"domain_prefix\": \"W_A_\",\n",
    "        },\n",
    "        {\n",
    "            \"labels\": [\n",
    "                \"3123D52\",\n",
    "                \"3123D65\",\n",
    "                \"3123D79\",\n",
    "                \"3123D80\",\n",
    "                \"3123D54\",\n",
    "                \"3123D70\",\n",
    "                \"3123D7B\",\n",
    "                \"3123D89\",\n",
    "                \"3123D58\",\n",
    "                \"3123D76\",\n",
    "                \"3123D7D\",\n",
    "                \"3123EFE\",\n",
    "                \"3123D64\",\n",
    "                \"3123D78\",\n",
    "                \"3123D7E\",\n",
    "                \"3124E4A\",\n",
    "            ],\n",
    "            \"domains\": [32, 38, 8, 44, 14, 50, 20, 26],\n",
    "            \"num_examples_per_domain_per_label\": 2000,\n",
    "            \"pickle_path\": \"/mnt/wd500GB/CSC500/csc500-main/datasets/oracle.Run1_framed_2000Examples_stratified_ds.2022A.pkl\",\n",
    "            \"source_or_target_dataset\": \"target\",\n",
    "            \"x_transforms\": [\"unit_mag\", \"take_200\", \"resample_20Msps_to_25Msps\"],\n",
    "            \"episode_transforms\": [],\n",
    "            \"domain_prefix\": \"ORACLE.run1_\",\n",
    "        },\n",
    "    ],\n",
    "    \"seed\": 420,\n",
    "    \"dataset_seed\": 420,\n",
    "}\n"
   ]
  },
  {
   "cell_type": "code",
   "execution_count": 5,
   "id": "8fa1cc33",
   "metadata": {
    "execution": {
     "iopub.execute_input": "2022-03-18T21:55:10.536477Z",
     "iopub.status.busy": "2022-03-18T21:55:10.536228Z",
     "iopub.status.idle": "2022-03-18T21:55:10.550239Z",
     "shell.execute_reply": "2022-03-18T21:55:10.549850Z"
    },
    "papermill": {
     "duration": 0.030009,
     "end_time": "2022-03-18T21:55:10.550328",
     "exception": false,
     "start_time": "2022-03-18T21:55:10.520319",
     "status": "completed"
    },
    "tags": []
   },
   "outputs": [],
   "source": [
    "# Set this to True if you want to run this template directly\n",
    "STANDALONE = False\n",
    "if STANDALONE:\n",
    "    print(\"parameters not injected, running with standalone_parameters\")\n",
    "    parameters = standalone_parameters\n",
    "\n",
    "if not 'parameters' in locals() and not 'parameters' in globals():\n",
    "    raise Exception(\"Parameter injection failed\")\n",
    "\n",
    "#Use an easy dict for all the parameters\n",
    "p = EasyDict(parameters)\n",
    "\n",
    "if \"x_shape\" not in p:\n",
    "    p.x_shape = [2,256] # Default to this if we dont supply x_shape\n",
    "\n",
    "\n",
    "supplied_keys = set(p.keys())\n",
    "\n",
    "if  supplied_keys != required_parameters:\n",
    "    print(\"Parameters are incorrect\")\n",
    "    if len(supplied_keys - required_parameters)>0: print(\"Shouldn't have:\", str(supplied_keys - required_parameters))\n",
    "    if len(required_parameters - supplied_keys)>0: print(\"Need to have:\", str(required_parameters - supplied_keys))\n",
    "    raise RuntimeError(\"Parameters are incorrect\")"
   ]
  },
  {
   "cell_type": "code",
   "execution_count": 6,
   "id": "3a028d58",
   "metadata": {
    "execution": {
     "iopub.execute_input": "2022-03-18T21:55:10.582034Z",
     "iopub.status.busy": "2022-03-18T21:55:10.581790Z",
     "iopub.status.idle": "2022-03-18T21:55:10.592224Z",
     "shell.execute_reply": "2022-03-18T21:55:10.592588Z"
    },
    "papermill": {
     "duration": 0.025215,
     "end_time": "2022-03-18T21:55:10.592690",
     "exception": false,
     "start_time": "2022-03-18T21:55:10.567475",
     "status": "completed"
    },
    "tags": []
   },
   "outputs": [],
   "source": [
    "###################################\n",
    "# Set the RNGs and make it all deterministic\n",
    "###################################\n",
    "np.random.seed(p.seed)\n",
    "random.seed(p.seed)\n",
    "torch.manual_seed(p.seed)\n",
    "\n",
    "torch.use_deterministic_algorithms(True) "
   ]
  },
  {
   "cell_type": "code",
   "execution_count": 7,
   "id": "b691acf6",
   "metadata": {
    "execution": {
     "iopub.execute_input": "2022-03-18T21:55:10.623974Z",
     "iopub.status.busy": "2022-03-18T21:55:10.623730Z",
     "iopub.status.idle": "2022-03-18T21:55:10.638252Z",
     "shell.execute_reply": "2022-03-18T21:55:10.637929Z"
    },
    "papermill": {
     "duration": 0.029279,
     "end_time": "2022-03-18T21:55:10.638321",
     "exception": false,
     "start_time": "2022-03-18T21:55:10.609042",
     "status": "completed"
    },
    "tags": []
   },
   "outputs": [],
   "source": [
    "###########################################\n",
    "# The stratified datasets honor this\n",
    "###########################################\n",
    "torch.set_default_dtype(eval(p.torch_default_dtype))"
   ]
  },
  {
   "cell_type": "code",
   "execution_count": 8,
   "id": "b5fba671",
   "metadata": {
    "execution": {
     "iopub.execute_input": "2022-03-18T21:55:10.670161Z",
     "iopub.status.busy": "2022-03-18T21:55:10.669912Z",
     "iopub.status.idle": "2022-03-18T21:55:10.702636Z",
     "shell.execute_reply": "2022-03-18T21:55:10.702185Z"
    },
    "papermill": {
     "duration": 0.04723,
     "end_time": "2022-03-18T21:55:10.702725",
     "exception": false,
     "start_time": "2022-03-18T21:55:10.655495",
     "status": "completed"
    },
    "tags": []
   },
   "outputs": [],
   "source": [
    "###################################\n",
    "# Build the network(s)\n",
    "# Note: It's critical to do this AFTER setting the RNG\n",
    "###################################\n",
    "x_net = build_sequential(p.x_net)"
   ]
  },
  {
   "cell_type": "code",
   "execution_count": 9,
   "id": "5d7e61cc",
   "metadata": {
    "execution": {
     "iopub.execute_input": "2022-03-18T21:55:10.736897Z",
     "iopub.status.busy": "2022-03-18T21:55:10.736655Z",
     "iopub.status.idle": "2022-03-18T21:55:10.750116Z",
     "shell.execute_reply": "2022-03-18T21:55:10.749732Z"
    },
    "papermill": {
     "duration": 0.028294,
     "end_time": "2022-03-18T21:55:10.750204",
     "exception": false,
     "start_time": "2022-03-18T21:55:10.721910",
     "status": "completed"
    },
    "tags": []
   },
   "outputs": [],
   "source": [
    "start_time_secs = time.time()"
   ]
  },
  {
   "cell_type": "code",
   "execution_count": 10,
   "id": "c6b67dfd",
   "metadata": {
    "execution": {
     "iopub.execute_input": "2022-03-18T21:55:10.783150Z",
     "iopub.status.busy": "2022-03-18T21:55:10.782905Z",
     "iopub.status.idle": "2022-03-18T21:55:10.793007Z",
     "shell.execute_reply": "2022-03-18T21:55:10.792705Z"
    },
    "papermill": {
     "duration": 0.025173,
     "end_time": "2022-03-18T21:55:10.793076",
     "exception": false,
     "start_time": "2022-03-18T21:55:10.767903",
     "status": "completed"
    },
    "tags": []
   },
   "outputs": [],
   "source": [
    "p.domains_source = []\n",
    "p.domains_target = []\n",
    "\n",
    "\n",
    "train_original_source = []\n",
    "val_original_source   = []\n",
    "test_original_source  = []\n",
    "\n",
    "train_original_target = []\n",
    "val_original_target   = []\n",
    "test_original_target  = []"
   ]
  },
  {
   "cell_type": "code",
   "execution_count": 11,
   "id": "e3d9c3d3",
   "metadata": {
    "execution": {
     "iopub.execute_input": "2022-03-18T21:55:10.825527Z",
     "iopub.status.busy": "2022-03-18T21:55:10.825280Z",
     "iopub.status.idle": "2022-03-18T21:55:10.834645Z",
     "shell.execute_reply": "2022-03-18T21:55:10.834853Z"
    },
    "papermill": {
     "duration": 0.023945,
     "end_time": "2022-03-18T21:55:10.834909",
     "exception": false,
     "start_time": "2022-03-18T21:55:10.810964",
     "status": "completed"
    },
    "tags": []
   },
   "outputs": [],
   "source": [
    "# global_x_transform_func = lambda x: normalize(x.to(torch.get_default_dtype()), \"unit_power\") # unit_power, unit_mag\n",
    "# global_x_transform_func = lambda x: normalize(x, \"unit_power\") # unit_power, unit_mag"
   ]
  },
  {
   "cell_type": "code",
   "execution_count": 12,
   "id": "acb78fd2",
   "metadata": {
    "execution": {
     "iopub.execute_input": "2022-03-18T21:55:10.870893Z",
     "iopub.status.busy": "2022-03-18T21:55:10.870623Z",
     "iopub.status.idle": "2022-03-18T21:55:10.882022Z",
     "shell.execute_reply": "2022-03-18T21:55:10.881580Z"
    },
    "papermill": {
     "duration": 0.03149,
     "end_time": "2022-03-18T21:55:10.882110",
     "exception": false,
     "start_time": "2022-03-18T21:55:10.850620",
     "status": "completed"
    },
    "tags": []
   },
   "outputs": [],
   "source": [
    "def add_dataset(\n",
    "    labels,\n",
    "    domains,\n",
    "    pickle_path,\n",
    "    x_transforms,\n",
    "    episode_transforms,\n",
    "    domain_prefix,\n",
    "    num_examples_per_domain_per_label,\n",
    "    source_or_target_dataset:str,\n",
    "    iterator_seed=p.seed,\n",
    "    dataset_seed=p.dataset_seed,\n",
    "    n_shot=p.n_shot,\n",
    "    n_way=p.n_way,\n",
    "    n_query=p.n_query,\n",
    "    train_val_test_k_factors=(p.train_k_factor,p.val_k_factor,p.test_k_factor),\n",
    "):\n",
    "   \n",
    "    if x_transforms == []: x_transform = None\n",
    "    else: x_transform = get_chained_transform(x_transforms)\n",
    "    \n",
    "    if episode_transforms == []: episode_transform = None\n",
    "    else: raise Exception(\"episode_transforms not implemented\")\n",
    "    \n",
    "    episode_transform = lambda tup, _prefix=domain_prefix: (_prefix + str(tup[0]), tup[1])\n",
    "\n",
    "\n",
    "    eaf = Episodic_Accessor_Factory(\n",
    "        labels=labels,\n",
    "        domains=domains,\n",
    "        num_examples_per_domain_per_label=num_examples_per_domain_per_label,\n",
    "        iterator_seed=iterator_seed,\n",
    "        dataset_seed=dataset_seed,\n",
    "        n_shot=n_shot,\n",
    "        n_way=n_way,\n",
    "        n_query=n_query,\n",
    "        train_val_test_k_factors=train_val_test_k_factors,\n",
    "        pickle_path=pickle_path,\n",
    "        x_transform_func=x_transform,\n",
    "    )\n",
    "\n",
    "    train, val, test = eaf.get_train(), eaf.get_val(), eaf.get_test()\n",
    "    train = Lazy_Iterable_Wrapper(train, episode_transform)\n",
    "    val = Lazy_Iterable_Wrapper(val, episode_transform)\n",
    "    test = Lazy_Iterable_Wrapper(test, episode_transform)\n",
    "\n",
    "    if source_or_target_dataset==\"source\":\n",
    "        train_original_source.append(train)\n",
    "        val_original_source.append(val)\n",
    "        test_original_source.append(test)\n",
    "\n",
    "        p.domains_source.extend(\n",
    "            [domain_prefix + str(u) for u in domains]\n",
    "        )\n",
    "    elif source_or_target_dataset==\"target\":\n",
    "        train_original_target.append(train)\n",
    "        val_original_target.append(val)\n",
    "        test_original_target.append(test)\n",
    "        p.domains_target.extend(\n",
    "            [domain_prefix + str(u) for u in domains]\n",
    "        )\n",
    "    else:\n",
    "        raise Exception(f\"invalid source_or_target_dataset: {source_or_target_dataset}\")\n",
    "    "
   ]
  },
  {
   "cell_type": "code",
   "execution_count": 13,
   "id": "fe266617",
   "metadata": {
    "execution": {
     "iopub.execute_input": "2022-03-18T21:55:10.915022Z",
     "iopub.status.busy": "2022-03-18T21:55:10.914782Z",
     "iopub.status.idle": "2022-03-18T21:55:48.990324Z",
     "shell.execute_reply": "2022-03-18T21:55:48.989836Z"
    },
    "papermill": {
     "duration": 38.090837,
     "end_time": "2022-03-18T21:55:48.990428",
     "exception": false,
     "start_time": "2022-03-18T21:55:10.899591",
     "status": "completed"
    },
    "tags": []
   },
   "outputs": [],
   "source": [
    "for ds in p.datasets:\n",
    "    add_dataset(**ds)"
   ]
  },
  {
   "cell_type": "code",
   "execution_count": 14,
   "id": "b90d65ac",
   "metadata": {
    "execution": {
     "iopub.execute_input": "2022-03-18T21:55:49.025960Z",
     "iopub.status.busy": "2022-03-18T21:55:49.025708Z",
     "iopub.status.idle": "2022-03-18T21:55:49.041563Z",
     "shell.execute_reply": "2022-03-18T21:55:49.041168Z"
    },
    "papermill": {
     "duration": 0.031292,
     "end_time": "2022-03-18T21:55:49.041653",
     "exception": false,
     "start_time": "2022-03-18T21:55:49.010361",
     "status": "completed"
    },
    "tags": []
   },
   "outputs": [],
   "source": [
    "# from steves_utils.CORES.utils import (\n",
    "#     ALL_NODES,\n",
    "#     ALL_NODES_MINIMUM_1000_EXAMPLES,\n",
    "#     ALL_DAYS\n",
    "# )\n",
    "\n",
    "# add_dataset(\n",
    "#     labels=ALL_NODES,\n",
    "#     domains = ALL_DAYS,\n",
    "#     num_examples_per_domain_per_label=100,\n",
    "#     pickle_path=os.path.join(get_datasets_base_path(), \"cores.stratified_ds.2022A.pkl\"),\n",
    "#     source_or_target_dataset=\"target\",\n",
    "#     x_transform_func=global_x_transform_func,\n",
    "#     domain_modifier=lambda u: f\"cores_{u}\"\n",
    "# )"
   ]
  },
  {
   "cell_type": "code",
   "execution_count": 15,
   "id": "76db484d",
   "metadata": {
    "execution": {
     "iopub.execute_input": "2022-03-18T21:55:49.075402Z",
     "iopub.status.busy": "2022-03-18T21:55:49.075144Z",
     "iopub.status.idle": "2022-03-18T21:55:49.084596Z",
     "shell.execute_reply": "2022-03-18T21:55:49.084353Z"
    },
    "papermill": {
     "duration": 0.024735,
     "end_time": "2022-03-18T21:55:49.084645",
     "exception": false,
     "start_time": "2022-03-18T21:55:49.059910",
     "status": "completed"
    },
    "tags": []
   },
   "outputs": [],
   "source": [
    "# from steves_utils.ORACLE.utils_v2 import (\n",
    "#     ALL_DISTANCES_FEET,\n",
    "#     ALL_RUNS,\n",
    "#     ALL_SERIAL_NUMBERS,\n",
    "# )\n",
    "\n",
    "\n",
    "# add_dataset(\n",
    "#     labels=ALL_SERIAL_NUMBERS,\n",
    "#     domains = list(set(ALL_DISTANCES_FEET) - {2,62}),\n",
    "#     num_examples_per_domain_per_label=100,\n",
    "#     pickle_path=os.path.join(get_datasets_base_path(), \"oracle.Run2_framed_2000Examples_stratified_ds.2022A.pkl\"),\n",
    "#     source_or_target_dataset=\"source\",\n",
    "#     x_transform_func=global_x_transform_func,\n",
    "#     domain_modifier=lambda u: f\"oracle1_{u}\"\n",
    "# )\n"
   ]
  },
  {
   "cell_type": "code",
   "execution_count": 16,
   "id": "97dea9d2",
   "metadata": {
    "execution": {
     "iopub.execute_input": "2022-03-18T21:55:49.118795Z",
     "iopub.status.busy": "2022-03-18T21:55:49.118543Z",
     "iopub.status.idle": "2022-03-18T21:55:49.128204Z",
     "shell.execute_reply": "2022-03-18T21:55:49.127957Z"
    },
    "papermill": {
     "duration": 0.024769,
     "end_time": "2022-03-18T21:55:49.128253",
     "exception": false,
     "start_time": "2022-03-18T21:55:49.103484",
     "status": "completed"
    },
    "tags": []
   },
   "outputs": [],
   "source": [
    "# from steves_utils.ORACLE.utils_v2 import (\n",
    "#     ALL_DISTANCES_FEET,\n",
    "#     ALL_RUNS,\n",
    "#     ALL_SERIAL_NUMBERS,\n",
    "# )\n",
    "\n",
    "\n",
    "# add_dataset(\n",
    "#     labels=ALL_SERIAL_NUMBERS,\n",
    "#     domains = list(set(ALL_DISTANCES_FEET) - {2,62,56}),\n",
    "#     num_examples_per_domain_per_label=100,\n",
    "#     pickle_path=os.path.join(get_datasets_base_path(), \"oracle.Run2_framed_2000Examples_stratified_ds.2022A.pkl\"),\n",
    "#     source_or_target_dataset=\"source\",\n",
    "#     x_transform_func=global_x_transform_func,\n",
    "#     domain_modifier=lambda u: f\"oracle2_{u}\"\n",
    "# )"
   ]
  },
  {
   "cell_type": "code",
   "execution_count": 17,
   "id": "6f289866",
   "metadata": {
    "execution": {
     "iopub.execute_input": "2022-03-18T21:55:49.162397Z",
     "iopub.status.busy": "2022-03-18T21:55:49.162149Z",
     "iopub.status.idle": "2022-03-18T21:55:49.172135Z",
     "shell.execute_reply": "2022-03-18T21:55:49.171832Z"
    },
    "papermill": {
     "duration": 0.024885,
     "end_time": "2022-03-18T21:55:49.172204",
     "exception": false,
     "start_time": "2022-03-18T21:55:49.147319",
     "status": "completed"
    },
    "tags": []
   },
   "outputs": [],
   "source": [
    "# add_dataset(\n",
    "#     labels=list(range(19)),\n",
    "#     domains = [0,1,2],\n",
    "#     num_examples_per_domain_per_label=100,\n",
    "#     pickle_path=os.path.join(get_datasets_base_path(), \"metehan.stratified_ds.2022A.pkl\"),\n",
    "#     source_or_target_dataset=\"target\",\n",
    "#     x_transform_func=global_x_transform_func,\n",
    "#     domain_modifier=lambda u: f\"met_{u}\"\n",
    "# )"
   ]
  },
  {
   "cell_type": "code",
   "execution_count": 18,
   "id": "86a863c3",
   "metadata": {
    "execution": {
     "iopub.execute_input": "2022-03-18T21:55:49.206222Z",
     "iopub.status.busy": "2022-03-18T21:55:49.205977Z",
     "iopub.status.idle": "2022-03-18T21:55:49.220641Z",
     "shell.execute_reply": "2022-03-18T21:55:49.220198Z"
    },
    "papermill": {
     "duration": 0.030219,
     "end_time": "2022-03-18T21:55:49.220734",
     "exception": false,
     "start_time": "2022-03-18T21:55:49.190515",
     "status": "completed"
    },
    "tags": []
   },
   "outputs": [],
   "source": [
    "# # from steves_utils.wisig.utils import (\n",
    "# #     ALL_NODES_MINIMUM_100_EXAMPLES,\n",
    "# #     ALL_NODES_MINIMUM_500_EXAMPLES,\n",
    "# #     ALL_NODES_MINIMUM_1000_EXAMPLES,\n",
    "# #     ALL_DAYS\n",
    "# # )\n",
    "\n",
    "# import steves_utils.wisig.utils as wisig\n",
    "\n",
    "\n",
    "# add_dataset(\n",
    "#     labels=wisig.ALL_NODES_MINIMUM_100_EXAMPLES,\n",
    "#     domains = wisig.ALL_DAYS,\n",
    "#     num_examples_per_domain_per_label=100,\n",
    "#     pickle_path=os.path.join(get_datasets_base_path(), \"wisig.node3-19.stratified_ds.2022A.pkl\"),\n",
    "#     source_or_target_dataset=\"target\",\n",
    "#     x_transform_func=global_x_transform_func,\n",
    "#     domain_modifier=lambda u: f\"wisig_{u}\"\n",
    "# )"
   ]
  },
  {
   "cell_type": "code",
   "execution_count": 19,
   "id": "fd5442bc",
   "metadata": {
    "execution": {
     "iopub.execute_input": "2022-03-18T21:55:49.257814Z",
     "iopub.status.busy": "2022-03-18T21:55:49.254374Z",
     "iopub.status.idle": "2022-03-18T21:55:49.271652Z",
     "shell.execute_reply": "2022-03-18T21:55:49.271263Z"
    },
    "papermill": {
     "duration": 0.032467,
     "end_time": "2022-03-18T21:55:49.271739",
     "exception": false,
     "start_time": "2022-03-18T21:55:49.239272",
     "status": "completed"
    },
    "tags": []
   },
   "outputs": [],
   "source": [
    "###################################\n",
    "# Build the dataset\n",
    "###################################\n",
    "train_original_source = Iterable_Aggregator(train_original_source, p.seed)\n",
    "val_original_source = Iterable_Aggregator(val_original_source, p.seed)\n",
    "test_original_source = Iterable_Aggregator(test_original_source, p.seed)\n",
    "\n",
    "\n",
    "train_original_target = Iterable_Aggregator(train_original_target, p.seed)\n",
    "val_original_target = Iterable_Aggregator(val_original_target, p.seed)\n",
    "test_original_target = Iterable_Aggregator(test_original_target, p.seed)\n",
    "\n",
    "# For CNN We only use X and Y. And we only train on the source.\n",
    "# Properly form the data using a transform lambda and Lazy_Iterable_Wrapper. Finally wrap them in a dataloader\n",
    "\n",
    "transform_lambda = lambda ex: ex[1] # Original is (<domain>, <episode>) so we strip down to episode only\n",
    "\n",
    "train_processed_source = Lazy_Iterable_Wrapper(train_original_source, transform_lambda)\n",
    "val_processed_source   = Lazy_Iterable_Wrapper(val_original_source, transform_lambda)\n",
    "test_processed_source  = Lazy_Iterable_Wrapper(test_original_source, transform_lambda)\n",
    "\n",
    "train_processed_target = Lazy_Iterable_Wrapper(train_original_target, transform_lambda)\n",
    "val_processed_target   = Lazy_Iterable_Wrapper(val_original_target, transform_lambda)\n",
    "test_processed_target  = Lazy_Iterable_Wrapper(test_original_target, transform_lambda)\n",
    "\n",
    "datasets = EasyDict({\n",
    "    \"source\": {\n",
    "        \"original\": {\"train\":train_original_source, \"val\":val_original_source, \"test\":test_original_source},\n",
    "        \"processed\": {\"train\":train_processed_source, \"val\":val_processed_source, \"test\":test_processed_source}\n",
    "    },\n",
    "    \"target\": {\n",
    "        \"original\": {\"train\":train_original_target, \"val\":val_original_target, \"test\":test_original_target},\n",
    "        \"processed\": {\"train\":train_processed_target, \"val\":val_processed_target, \"test\":test_processed_target}\n",
    "    },\n",
    "})"
   ]
  },
  {
   "cell_type": "code",
   "execution_count": 20,
   "id": "5b3c01fc",
   "metadata": {
    "execution": {
     "iopub.execute_input": "2022-03-18T21:55:49.302923Z",
     "iopub.status.busy": "2022-03-18T21:55:49.302672Z",
     "iopub.status.idle": "2022-03-18T21:55:54.048641Z",
     "shell.execute_reply": "2022-03-18T21:55:54.049017Z"
    },
    "papermill": {
     "duration": 4.761816,
     "end_time": "2022-03-18T21:55:54.049123",
     "exception": false,
     "start_time": "2022-03-18T21:55:49.287307",
     "status": "completed"
    },
    "tags": []
   },
   "outputs": [
    {
     "name": "stdout",
     "output_type": "stream",
     "text": [
      "{'C_A_5', 'C_A_1', 'W_A_4', 'W_A_2', 'W_A_3', 'C_A_4', 'C_A_3', 'W_A_1', 'C_A_2'}\n"
     ]
    },
    {
     "name": "stdout",
     "output_type": "stream",
     "text": [
      "{'ORACLE.run1_26', 'ORACLE.run1_20', 'ORACLE.run1_14', 'ORACLE.run1_8', 'ORACLE.run1_38', 'ORACLE.run1_32', 'ORACLE.run1_44', 'ORACLE.run1_50'}\n"
     ]
    },
    {
     "name": "stdout",
     "output_type": "stream",
     "text": [
      "tensor([[[ 0.3427, -0.3048, -1.3706,  ...,  1.1663, -0.2850, -0.6260],\n",
      "         [ 0.2389,  1.2504, -0.4003,  ...,  1.4925,  1.3327, -0.6606]],\n",
      "\n",
      "        [[-0.0923, -1.2858,  0.0113,  ..., -0.0632, -0.7206,  0.9344],\n",
      "         [ 1.5319, -0.1441, -1.3360,  ...,  1.0850, -0.8826, -0.5263]],\n",
      "\n",
      "        [[-0.0126, -0.0948, -0.1769,  ..., -1.1403,  1.0866, -0.9350],\n",
      "         [-0.0411, -0.0790,  0.1106,  ...,  0.1611, -0.6191,  1.0550]],\n",
      "\n",
      "        ...,\n",
      "\n",
      "        [[-0.3342, -0.9741, -0.6183,  ..., -1.8596,  0.3888, -1.4321],\n",
      "         [ 0.4542, -0.1857, -0.7833,  ..., -0.4725, -0.2946,  1.2359]],\n",
      "\n",
      "        [[ 0.0361,  1.2214, -0.1346,  ...,  2.0870, -0.0159,  0.5020],\n",
      "         [-0.9482,  0.4052,  1.0975,  ...,  0.4818,  1.4599, -0.6850]],\n",
      "\n",
      "        [[-0.3819,  0.4880,  0.7191,  ...,  1.1481,  1.8978, -0.4268],\n",
      "         [-0.4852, -0.7078,  0.5715,  ..., -1.7254,  1.0429,  1.5542]]])\n"
     ]
    }
   ],
   "source": [
    "from steves_utils.transforms import get_average_magnitude, get_average_power\n",
    "\n",
    "print(set([u for u,_ in val_original_source]))\n",
    "print(set([u for u,_ in val_original_target]))\n",
    "\n",
    "s_x, s_y, q_x, q_y, _ = next(iter(train_processed_source))\n",
    "print(s_x)\n",
    "\n",
    "# for ds in [\n",
    "#     train_processed_source,\n",
    "#     val_processed_source,\n",
    "#     test_processed_source,\n",
    "#     train_processed_target,\n",
    "#     val_processed_target,\n",
    "#     test_processed_target\n",
    "# ]:\n",
    "#     for s_x, s_y, q_x, q_y, _ in ds:\n",
    "#         for X in (s_x, q_x):\n",
    "#             for x in X:\n",
    "#                 assert np.isclose(get_average_magnitude(x.numpy()), 1.0)\n",
    "#                 assert np.isclose(get_average_power(x.numpy()), 1.0)\n",
    "                "
   ]
  },
  {
   "cell_type": "code",
   "execution_count": 21,
   "id": "bbdacba1",
   "metadata": {
    "execution": {
     "iopub.execute_input": "2022-03-18T21:55:54.092225Z",
     "iopub.status.busy": "2022-03-18T21:55:54.091793Z",
     "iopub.status.idle": "2022-03-18T21:55:54.144270Z",
     "shell.execute_reply": "2022-03-18T21:55:54.143777Z"
    },
    "papermill": {
     "duration": 0.070315,
     "end_time": "2022-03-18T21:55:54.144374",
     "exception": false,
     "start_time": "2022-03-18T21:55:54.074059",
     "status": "completed"
    },
    "tags": []
   },
   "outputs": [
    {
     "name": "stdout",
     "output_type": "stream",
     "text": [
      "(2, 200)\n"
     ]
    }
   ],
   "source": [
    "###################################\n",
    "# Build the model\n",
    "###################################\n",
    "# easfsl only wants a tuple for the shape\n",
    "model = Steves_Prototypical_Network(x_net, device=p.device, x_shape=tuple(p.x_shape))\n",
    "optimizer = Adam(params=model.parameters(), lr=p.lr)"
   ]
  },
  {
   "cell_type": "code",
   "execution_count": 22,
   "id": "22b39ac5",
   "metadata": {
    "execution": {
     "iopub.execute_input": "2022-03-18T21:55:54.182335Z",
     "iopub.status.busy": "2022-03-18T21:55:54.181999Z",
     "iopub.status.idle": "2022-03-18T22:04:16.216907Z",
     "shell.execute_reply": "2022-03-18T22:04:16.216678Z"
    },
    "papermill": {
     "duration": 502.05251,
     "end_time": "2022-03-18T22:04:16.216964",
     "exception": false,
     "start_time": "2022-03-18T21:55:54.164454",
     "status": "completed"
    },
    "tags": []
   },
   "outputs": [
    {
     "name": "stdout",
     "output_type": "stream",
     "text": [
      "epoch: 1, [batch: 1 / 2080], examples_per_second: 125.2975, train_label_loss: 2.6995, \n"
     ]
    },
    {
     "name": "stdout",
     "output_type": "stream",
     "text": [
      "epoch: 1, [batch: 208 / 2080], examples_per_second: 3596.8562, train_label_loss: 0.2338, \n"
     ]
    },
    {
     "name": "stdout",
     "output_type": "stream",
     "text": [
      "epoch: 1, [batch: 416 / 2080], examples_per_second: 3637.5541, train_label_loss: 0.9455, \n"
     ]
    },
    {
     "name": "stdout",
     "output_type": "stream",
     "text": [
      "epoch: 1, [batch: 624 / 2080], examples_per_second: 3637.9939, train_label_loss: 0.0130, \n"
     ]
    },
    {
     "name": "stdout",
     "output_type": "stream",
     "text": [
      "epoch: 1, [batch: 832 / 2080], examples_per_second: 3653.9772, train_label_loss: 0.2793, \n"
     ]
    },
    {
     "name": "stdout",
     "output_type": "stream",
     "text": [
      "epoch: 1, [batch: 1040 / 2080], examples_per_second: 3618.6638, train_label_loss: 0.1468, \n"
     ]
    },
    {
     "name": "stdout",
     "output_type": "stream",
     "text": [
      "epoch: 1, [batch: 1248 / 2080], examples_per_second: 3651.4621, train_label_loss: 0.0360, \n"
     ]
    },
    {
     "name": "stdout",
     "output_type": "stream",
     "text": [
      "epoch: 1, [batch: 1456 / 2080], examples_per_second: 3646.4815, train_label_loss: 0.0020, \n"
     ]
    },
    {
     "name": "stdout",
     "output_type": "stream",
     "text": [
      "epoch: 1, [batch: 1664 / 2080], examples_per_second: 3590.9954, train_label_loss: 0.2505, \n"
     ]
    },
    {
     "name": "stdout",
     "output_type": "stream",
     "text": [
      "epoch: 1, [batch: 1872 / 2080], examples_per_second: 3640.3746, train_label_loss: 0.0959, \n"
     ]
    },
    {
     "name": "stdout",
     "output_type": "stream",
     "text": [
      "=============================================================\n",
      "epoch: 1, source_val_acc_label: 0.9425, target_val_acc_label: 0.1757, source_val_label_loss: 0.2497, target_val_label_loss: 2.5638, \n",
      "=============================================================\n"
     ]
    },
    {
     "name": "stdout",
     "output_type": "stream",
     "text": [
      "New best\n"
     ]
    },
    {
     "name": "stdout",
     "output_type": "stream",
     "text": [
      "epoch: 2, [batch: 1 / 2081], examples_per_second: 11.1704, train_label_loss: 0.0304, \n"
     ]
    },
    {
     "name": "stdout",
     "output_type": "stream",
     "text": [
      "epoch: 2, [batch: 209 / 2081], examples_per_second: 3608.5577, train_label_loss: 0.0253, \n"
     ]
    },
    {
     "name": "stdout",
     "output_type": "stream",
     "text": [
      "epoch: 2, [batch: 417 / 2081], examples_per_second: 3606.4836, train_label_loss: 0.0164, \n"
     ]
    },
    {
     "name": "stdout",
     "output_type": "stream",
     "text": [
      "epoch: 2, [batch: 625 / 2081], examples_per_second: 3614.2351, train_label_loss: 0.1494, \n"
     ]
    },
    {
     "name": "stdout",
     "output_type": "stream",
     "text": [
      "epoch: 2, [batch: 833 / 2081], examples_per_second: 3621.7180, train_label_loss: 0.0082, \n"
     ]
    },
    {
     "name": "stdout",
     "output_type": "stream",
     "text": [
      "epoch: 2, [batch: 1041 / 2081], examples_per_second: 3589.3141, train_label_loss: 0.6669, \n"
     ]
    },
    {
     "name": "stdout",
     "output_type": "stream",
     "text": [
      "epoch: 2, [batch: 1249 / 2081], examples_per_second: 3607.7949, train_label_loss: 0.0016, \n"
     ]
    },
    {
     "name": "stdout",
     "output_type": "stream",
     "text": [
      "epoch: 2, [batch: 1457 / 2081], examples_per_second: 3618.0558, train_label_loss: 0.4261, \n"
     ]
    },
    {
     "name": "stdout",
     "output_type": "stream",
     "text": [
      "epoch: 2, [batch: 1665 / 2081], examples_per_second: 3581.6914, train_label_loss: 0.0455, \n"
     ]
    },
    {
     "name": "stdout",
     "output_type": "stream",
     "text": [
      "epoch: 2, [batch: 1873 / 2081], examples_per_second: 3671.2975, train_label_loss: 0.1712, \n"
     ]
    },
    {
     "name": "stdout",
     "output_type": "stream",
     "text": [
      "=============================================================\n",
      "epoch: 2, source_val_acc_label: 0.9618, target_val_acc_label: 0.2034, source_val_label_loss: 0.1635, target_val_label_loss: 2.4522, \n",
      "=============================================================\n"
     ]
    },
    {
     "name": "stdout",
     "output_type": "stream",
     "text": [
      "New best\n"
     ]
    },
    {
     "name": "stdout",
     "output_type": "stream",
     "text": [
      "epoch: 3, [batch: 1 / 2080], examples_per_second: 11.1673, train_label_loss: 0.0607, \n"
     ]
    },
    {
     "name": "stdout",
     "output_type": "stream",
     "text": [
      "epoch: 3, [batch: 208 / 2080], examples_per_second: 3594.2474, train_label_loss: 0.0482, \n"
     ]
    },
    {
     "name": "stdout",
     "output_type": "stream",
     "text": [
      "epoch: 3, [batch: 416 / 2080], examples_per_second: 3615.6707, train_label_loss: 0.0029, \n"
     ]
    },
    {
     "name": "stdout",
     "output_type": "stream",
     "text": [
      "epoch: 3, [batch: 624 / 2080], examples_per_second: 3650.1170, train_label_loss: 0.0060, \n"
     ]
    },
    {
     "name": "stdout",
     "output_type": "stream",
     "text": [
      "epoch: 3, [batch: 832 / 2080], examples_per_second: 3644.2066, train_label_loss: 0.2652, \n"
     ]
    },
    {
     "name": "stdout",
     "output_type": "stream",
     "text": [
      "epoch: 3, [batch: 1040 / 2080], examples_per_second: 3627.5113, train_label_loss: 0.0068, \n"
     ]
    },
    {
     "name": "stdout",
     "output_type": "stream",
     "text": [
      "epoch: 3, [batch: 1248 / 2080], examples_per_second: 3687.8403, train_label_loss: 0.0115, \n"
     ]
    },
    {
     "name": "stdout",
     "output_type": "stream",
     "text": [
      "epoch: 3, [batch: 1456 / 2080], examples_per_second: 3588.2705, train_label_loss: 0.9822, \n"
     ]
    },
    {
     "name": "stdout",
     "output_type": "stream",
     "text": [
      "epoch: 3, [batch: 1664 / 2080], examples_per_second: 3630.9320, train_label_loss: 0.1579, \n"
     ]
    },
    {
     "name": "stdout",
     "output_type": "stream",
     "text": [
      "epoch: 3, [batch: 1872 / 2080], examples_per_second: 3632.7623, train_label_loss: 0.1332, \n"
     ]
    },
    {
     "name": "stdout",
     "output_type": "stream",
     "text": [
      "=============================================================\n",
      "epoch: 3, source_val_acc_label: 0.9675, target_val_acc_label: 0.2077, source_val_label_loss: 0.1487, target_val_label_loss: 2.4602, \n",
      "=============================================================\n"
     ]
    },
    {
     "name": "stdout",
     "output_type": "stream",
     "text": [
      "epoch: 4, [batch: 1 / 2080], examples_per_second: 11.1515, train_label_loss: 0.0096, \n"
     ]
    },
    {
     "name": "stdout",
     "output_type": "stream",
     "text": [
      "epoch: 4, [batch: 208 / 2080], examples_per_second: 3590.5053, train_label_loss: 0.3277, \n"
     ]
    },
    {
     "name": "stdout",
     "output_type": "stream",
     "text": [
      "epoch: 4, [batch: 416 / 2080], examples_per_second: 3616.1750, train_label_loss: 0.0030, \n"
     ]
    },
    {
     "name": "stdout",
     "output_type": "stream",
     "text": [
      "epoch: 4, [batch: 624 / 2080], examples_per_second: 3626.0149, train_label_loss: 0.1143, \n"
     ]
    },
    {
     "name": "stdout",
     "output_type": "stream",
     "text": [
      "epoch: 4, [batch: 832 / 2080], examples_per_second: 3635.6115, train_label_loss: 0.0227, \n"
     ]
    },
    {
     "name": "stdout",
     "output_type": "stream",
     "text": [
      "epoch: 4, [batch: 1040 / 2080], examples_per_second: 3622.3118, train_label_loss: 0.0088, \n"
     ]
    },
    {
     "name": "stdout",
     "output_type": "stream",
     "text": [
      "epoch: 4, [batch: 1248 / 2080], examples_per_second: 3640.6931, train_label_loss: 0.0417, \n"
     ]
    },
    {
     "name": "stdout",
     "output_type": "stream",
     "text": [
      "epoch: 4, [batch: 1456 / 2080], examples_per_second: 3645.7375, train_label_loss: 0.1216, \n"
     ]
    },
    {
     "name": "stdout",
     "output_type": "stream",
     "text": [
      "epoch: 4, [batch: 1664 / 2080], examples_per_second: 3569.6031, train_label_loss: 0.0663, \n"
     ]
    },
    {
     "name": "stdout",
     "output_type": "stream",
     "text": [
      "epoch: 4, [batch: 1872 / 2080], examples_per_second: 3598.1331, train_label_loss: 0.4164, \n"
     ]
    },
    {
     "name": "stdout",
     "output_type": "stream",
     "text": [
      "=============================================================\n",
      "epoch: 4, source_val_acc_label: 0.9662, target_val_acc_label: 0.1757, source_val_label_loss: 0.1653, target_val_label_loss: 2.6894, \n",
      "=============================================================\n"
     ]
    },
    {
     "name": "stdout",
     "output_type": "stream",
     "text": [
      "epoch: 5, [batch: 1 / 2078], examples_per_second: 11.0122, train_label_loss: 0.0225, \n"
     ]
    },
    {
     "name": "stdout",
     "output_type": "stream",
     "text": [
      "epoch: 5, [batch: 208 / 2078], examples_per_second: 3568.1184, train_label_loss: 0.0034, \n"
     ]
    },
    {
     "name": "stdout",
     "output_type": "stream",
     "text": [
      "epoch: 5, [batch: 416 / 2078], examples_per_second: 3595.2965, train_label_loss: 0.0108, \n"
     ]
    },
    {
     "name": "stdout",
     "output_type": "stream",
     "text": [
      "epoch: 5, [batch: 624 / 2078], examples_per_second: 3581.7350, train_label_loss: 0.0101, \n"
     ]
    },
    {
     "name": "stdout",
     "output_type": "stream",
     "text": [
      "epoch: 5, [batch: 831 / 2078], examples_per_second: 3607.4662, train_label_loss: 0.0050, \n"
     ]
    },
    {
     "name": "stdout",
     "output_type": "stream",
     "text": [
      "epoch: 5, [batch: 1039 / 2078], examples_per_second: 3605.9153, train_label_loss: 0.0171, \n"
     ]
    },
    {
     "name": "stdout",
     "output_type": "stream",
     "text": [
      "epoch: 5, [batch: 1247 / 2078], examples_per_second: 3610.1514, train_label_loss: 0.0024, \n"
     ]
    },
    {
     "name": "stdout",
     "output_type": "stream",
     "text": [
      "epoch: 5, [batch: 1454 / 2078], examples_per_second: 3620.6397, train_label_loss: 0.0001, \n"
     ]
    },
    {
     "name": "stdout",
     "output_type": "stream",
     "text": [
      "epoch: 5, [batch: 1662 / 2078], examples_per_second: 3566.9979, train_label_loss: 0.0931, \n"
     ]
    },
    {
     "name": "stdout",
     "output_type": "stream",
     "text": [
      "epoch: 5, [batch: 1870 / 2078], examples_per_second: 3613.0811, train_label_loss: 0.0597, \n"
     ]
    },
    {
     "name": "stdout",
     "output_type": "stream",
     "text": [
      "=============================================================\n",
      "epoch: 5, source_val_acc_label: 0.9689, target_val_acc_label: 0.2089, source_val_label_loss: 0.1407, target_val_label_loss: 2.4264, \n",
      "=============================================================\n"
     ]
    },
    {
     "name": "stdout",
     "output_type": "stream",
     "text": [
      "New best\n"
     ]
    },
    {
     "name": "stdout",
     "output_type": "stream",
     "text": [
      "epoch: 6, [batch: 1 / 2083], examples_per_second: 11.0470, train_label_loss: 0.0253, \n"
     ]
    },
    {
     "name": "stdout",
     "output_type": "stream",
     "text": [
      "epoch: 6, [batch: 209 / 2083], examples_per_second: 3596.9847, train_label_loss: 0.0043, \n"
     ]
    },
    {
     "name": "stdout",
     "output_type": "stream",
     "text": [
      "epoch: 6, [batch: 417 / 2083], examples_per_second: 3615.7634, train_label_loss: 0.0001, \n"
     ]
    },
    {
     "name": "stdout",
     "output_type": "stream",
     "text": [
      "epoch: 6, [batch: 625 / 2083], examples_per_second: 3666.1740, train_label_loss: 0.0194, \n"
     ]
    },
    {
     "name": "stdout",
     "output_type": "stream",
     "text": [
      "epoch: 6, [batch: 833 / 2083], examples_per_second: 3641.7805, train_label_loss: 0.0077, \n"
     ]
    },
    {
     "name": "stdout",
     "output_type": "stream",
     "text": [
      "epoch: 6, [batch: 1042 / 2083], examples_per_second: 3638.3145, train_label_loss: 0.0656, \n"
     ]
    },
    {
     "name": "stdout",
     "output_type": "stream",
     "text": [
      "epoch: 6, [batch: 1250 / 2083], examples_per_second: 3637.1419, train_label_loss: 0.0001, \n"
     ]
    },
    {
     "name": "stdout",
     "output_type": "stream",
     "text": [
      "epoch: 6, [batch: 1458 / 2083], examples_per_second: 3602.7457, train_label_loss: 0.1122, \n"
     ]
    },
    {
     "name": "stdout",
     "output_type": "stream",
     "text": [
      "epoch: 6, [batch: 1666 / 2083], examples_per_second: 3631.2586, train_label_loss: 0.0296, \n"
     ]
    },
    {
     "name": "stdout",
     "output_type": "stream",
     "text": [
      "epoch: 6, [batch: 1874 / 2083], examples_per_second: 3651.2088, train_label_loss: 0.3254, \n"
     ]
    },
    {
     "name": "stdout",
     "output_type": "stream",
     "text": [
      "=============================================================\n",
      "epoch: 6, source_val_acc_label: 0.9706, target_val_acc_label: 0.1970, source_val_label_loss: 0.1334, target_val_label_loss: 2.6001, \n",
      "=============================================================\n"
     ]
    },
    {
     "name": "stdout",
     "output_type": "stream",
     "text": [
      "epoch: 7, [batch: 1 / 2080], examples_per_second: 11.1229, train_label_loss: 0.0040, \n"
     ]
    },
    {
     "name": "stdout",
     "output_type": "stream",
     "text": [
      "epoch: 7, [batch: 208 / 2080], examples_per_second: 3595.0364, train_label_loss: 0.0285, \n"
     ]
    },
    {
     "name": "stdout",
     "output_type": "stream",
     "text": [
      "epoch: 7, [batch: 416 / 2080], examples_per_second: 3619.7504, train_label_loss: 0.0832, \n"
     ]
    },
    {
     "name": "stdout",
     "output_type": "stream",
     "text": [
      "epoch: 7, [batch: 624 / 2080], examples_per_second: 3618.0432, train_label_loss: 0.1429, \n"
     ]
    },
    {
     "name": "stdout",
     "output_type": "stream",
     "text": [
      "epoch: 7, [batch: 832 / 2080], examples_per_second: 3592.3001, train_label_loss: 0.0223, \n"
     ]
    },
    {
     "name": "stdout",
     "output_type": "stream",
     "text": [
      "epoch: 7, [batch: 1040 / 2080], examples_per_second: 3614.9190, train_label_loss: 0.0041, \n"
     ]
    },
    {
     "name": "stdout",
     "output_type": "stream",
     "text": [
      "epoch: 7, [batch: 1248 / 2080], examples_per_second: 3574.5541, train_label_loss: 0.0426, \n"
     ]
    },
    {
     "name": "stdout",
     "output_type": "stream",
     "text": [
      "epoch: 7, [batch: 1456 / 2080], examples_per_second: 3567.9724, train_label_loss: 0.0018, \n"
     ]
    },
    {
     "name": "stdout",
     "output_type": "stream",
     "text": [
      "epoch: 7, [batch: 1664 / 2080], examples_per_second: 3633.1300, train_label_loss: 0.0790, \n"
     ]
    },
    {
     "name": "stdout",
     "output_type": "stream",
     "text": [
      "epoch: 7, [batch: 1872 / 2080], examples_per_second: 3655.3292, train_label_loss: 0.0299, \n"
     ]
    },
    {
     "name": "stdout",
     "output_type": "stream",
     "text": [
      "=============================================================\n",
      "epoch: 7, source_val_acc_label: 0.9707, target_val_acc_label: 0.1757, source_val_label_loss: 0.1354, target_val_label_loss: 2.7502, \n",
      "=============================================================\n"
     ]
    },
    {
     "name": "stdout",
     "output_type": "stream",
     "text": [
      "epoch: 8, [batch: 1 / 2079], examples_per_second: 11.1709, train_label_loss: 0.0052, \n"
     ]
    },
    {
     "name": "stdout",
     "output_type": "stream",
     "text": [
      "epoch: 8, [batch: 208 / 2079], examples_per_second: 3606.8214, train_label_loss: 0.0016, \n"
     ]
    },
    {
     "name": "stdout",
     "output_type": "stream",
     "text": [
      "epoch: 8, [batch: 416 / 2079], examples_per_second: 3632.2203, train_label_loss: 0.0124, \n"
     ]
    },
    {
     "name": "stdout",
     "output_type": "stream",
     "text": [
      "epoch: 8, [batch: 624 / 2079], examples_per_second: 3602.9120, train_label_loss: 0.0010, \n"
     ]
    },
    {
     "name": "stdout",
     "output_type": "stream",
     "text": [
      "epoch: 8, [batch: 832 / 2079], examples_per_second: 3605.2065, train_label_loss: 0.0001, \n"
     ]
    },
    {
     "name": "stdout",
     "output_type": "stream",
     "text": [
      "epoch: 8, [batch: 1040 / 2079], examples_per_second: 3608.9004, train_label_loss: 0.0002, \n"
     ]
    },
    {
     "name": "stdout",
     "output_type": "stream",
     "text": [
      "epoch: 8, [batch: 1247 / 2079], examples_per_second: 3623.7358, train_label_loss: 0.0643, \n"
     ]
    },
    {
     "name": "stdout",
     "output_type": "stream",
     "text": [
      "epoch: 8, [batch: 1455 / 2079], examples_per_second: 3561.6453, train_label_loss: 0.0435, \n"
     ]
    },
    {
     "name": "stdout",
     "output_type": "stream",
     "text": [
      "epoch: 8, [batch: 1663 / 2079], examples_per_second: 3603.5050, train_label_loss: 0.0455, \n"
     ]
    },
    {
     "name": "stdout",
     "output_type": "stream",
     "text": [
      "epoch: 8, [batch: 1871 / 2079], examples_per_second: 3615.7078, train_label_loss: 0.1037, \n"
     ]
    },
    {
     "name": "stdout",
     "output_type": "stream",
     "text": [
      "=============================================================\n",
      "epoch: 8, source_val_acc_label: 0.9742, target_val_acc_label: 0.1563, source_val_label_loss: 0.1318, target_val_label_loss: 3.0293, \n",
      "=============================================================\n"
     ]
    },
    {
     "name": "stdout",
     "output_type": "stream",
     "text": [
      "epoch: 9, [batch: 1 / 2081], examples_per_second: 11.1513, train_label_loss: 0.0048, \n"
     ]
    },
    {
     "name": "stdout",
     "output_type": "stream",
     "text": [
      "epoch: 9, [batch: 209 / 2081], examples_per_second: 3602.3779, train_label_loss: 0.2291, \n"
     ]
    },
    {
     "name": "stdout",
     "output_type": "stream",
     "text": [
      "epoch: 9, [batch: 417 / 2081], examples_per_second: 3615.3395, train_label_loss: 0.0669, \n"
     ]
    },
    {
     "name": "stdout",
     "output_type": "stream",
     "text": [
      "epoch: 9, [batch: 625 / 2081], examples_per_second: 3606.5125, train_label_loss: 0.0001, \n"
     ]
    },
    {
     "name": "stdout",
     "output_type": "stream",
     "text": [
      "epoch: 9, [batch: 833 / 2081], examples_per_second: 3619.7510, train_label_loss: 0.2206, \n"
     ]
    },
    {
     "name": "stdout",
     "output_type": "stream",
     "text": [
      "epoch: 9, [batch: 1041 / 2081], examples_per_second: 3603.7214, train_label_loss: 0.0030, \n"
     ]
    },
    {
     "name": "stdout",
     "output_type": "stream",
     "text": [
      "epoch: 9, [batch: 1249 / 2081], examples_per_second: 3633.0278, train_label_loss: 0.0002, \n"
     ]
    },
    {
     "name": "stdout",
     "output_type": "stream",
     "text": [
      "epoch: 9, [batch: 1457 / 2081], examples_per_second: 3587.8666, train_label_loss: 0.0019, \n"
     ]
    },
    {
     "name": "stdout",
     "output_type": "stream",
     "text": [
      "epoch: 9, [batch: 1665 / 2081], examples_per_second: 3629.1112, train_label_loss: 0.0063, \n"
     ]
    },
    {
     "name": "stdout",
     "output_type": "stream",
     "text": [
      "epoch: 9, [batch: 1873 / 2081], examples_per_second: 3637.9579, train_label_loss: 0.0064, \n"
     ]
    },
    {
     "name": "stdout",
     "output_type": "stream",
     "text": [
      "=============================================================\n",
      "epoch: 9, source_val_acc_label: 0.9730, target_val_acc_label: 0.1798, source_val_label_loss: 0.1380, target_val_label_loss: 2.7759, \n",
      "=============================================================\n"
     ]
    },
    {
     "name": "stdout",
     "output_type": "stream",
     "text": [
      "Patience (3) exhausted\n"
     ]
    }
   ],
   "source": [
    "###################################\n",
    "# train\n",
    "###################################\n",
    "jig = PTN_Train_Eval_Test_Jig(model, p.BEST_MODEL_PATH, p.device)\n",
    "\n",
    "jig.train(\n",
    "    train_iterable=datasets.source.processed.train,\n",
    "    source_val_iterable=datasets.source.processed.val,\n",
    "    target_val_iterable=datasets.target.processed.val,\n",
    "    num_epochs=p.n_epoch,\n",
    "    num_logs_per_epoch=p.NUM_LOGS_PER_EPOCH,\n",
    "    patience=p.patience,\n",
    "    optimizer=optimizer,\n",
    "    criteria_for_best=p.criteria_for_best,\n",
    ")"
   ]
  },
  {
   "cell_type": "code",
   "execution_count": 23,
   "id": "31e8fabf",
   "metadata": {
    "execution": {
     "iopub.execute_input": "2022-03-18T22:04:16.282836Z",
     "iopub.status.busy": "2022-03-18T22:04:16.282590Z",
     "iopub.status.idle": "2022-03-18T22:04:16.301633Z",
     "shell.execute_reply": "2022-03-18T22:04:16.301999Z"
    },
    "papermill": {
     "duration": 0.053467,
     "end_time": "2022-03-18T22:04:16.302103",
     "exception": false,
     "start_time": "2022-03-18T22:04:16.248636",
     "status": "completed"
    },
    "tags": []
   },
   "outputs": [],
   "source": [
    "total_experiment_time_secs = time.time() - start_time_secs"
   ]
  },
  {
   "cell_type": "code",
   "execution_count": 24,
   "id": "87b9595b",
   "metadata": {
    "execution": {
     "iopub.execute_input": "2022-03-18T22:04:16.373722Z",
     "iopub.status.busy": "2022-03-18T22:04:16.373430Z",
     "iopub.status.idle": "2022-03-18T22:05:19.669575Z",
     "shell.execute_reply": "2022-03-18T22:05:19.669087Z"
    },
    "papermill": {
     "duration": 63.331233,
     "end_time": "2022-03-18T22:05:19.669680",
     "exception": false,
     "start_time": "2022-03-18T22:04:16.338447",
     "status": "completed"
    },
    "tags": []
   },
   "outputs": [],
   "source": [
    "###################################\n",
    "# Evaluate the model\n",
    "###################################\n",
    "source_test_label_accuracy, source_test_label_loss = jig.test(datasets.source.processed.test)\n",
    "target_test_label_accuracy, target_test_label_loss = jig.test(datasets.target.processed.test)\n",
    "\n",
    "source_val_label_accuracy, source_val_label_loss = jig.test(datasets.source.processed.val)\n",
    "target_val_label_accuracy, target_val_label_loss = jig.test(datasets.target.processed.val)\n",
    "\n",
    "history = jig.get_history()\n",
    "\n",
    "total_epochs_trained = len(history[\"epoch_indices\"])\n",
    "\n",
    "val_dl = Iterable_Aggregator((datasets.source.original.val,datasets.target.original.val))\n",
    "\n",
    "confusion = ptn_confusion_by_domain_over_dataloader(model, p.device, val_dl)\n",
    "per_domain_accuracy = per_domain_accuracy_from_confusion(confusion)\n",
    "\n",
    "# Add a key to per_domain_accuracy for if it was a source domain\n",
    "for domain, accuracy in per_domain_accuracy.items():\n",
    "    per_domain_accuracy[domain] = {\n",
    "        \"accuracy\": accuracy,\n",
    "        \"source?\": domain in p.domains_source\n",
    "    }\n",
    "\n",
    "# Do an independent accuracy assesment JUST TO BE SURE!\n",
    "# _source_test_label_accuracy = independent_accuracy_assesment(model, datasets.source.processed.test, p.device)\n",
    "# _target_test_label_accuracy = independent_accuracy_assesment(model, datasets.target.processed.test, p.device)\n",
    "# _source_val_label_accuracy = independent_accuracy_assesment(model, datasets.source.processed.val, p.device)\n",
    "# _target_val_label_accuracy = independent_accuracy_assesment(model, datasets.target.processed.val, p.device)\n",
    "\n",
    "# assert(_source_test_label_accuracy == source_test_label_accuracy)\n",
    "# assert(_target_test_label_accuracy == target_test_label_accuracy)\n",
    "# assert(_source_val_label_accuracy == source_val_label_accuracy)\n",
    "# assert(_target_val_label_accuracy == target_val_label_accuracy)\n",
    "\n",
    "experiment = {\n",
    "    \"experiment_name\": p.experiment_name,\n",
    "    \"parameters\": dict(p),\n",
    "    \"results\": {\n",
    "        \"source_test_label_accuracy\": source_test_label_accuracy,\n",
    "        \"source_test_label_loss\": source_test_label_loss,\n",
    "        \"target_test_label_accuracy\": target_test_label_accuracy,\n",
    "        \"target_test_label_loss\": target_test_label_loss,\n",
    "        \"source_val_label_accuracy\": source_val_label_accuracy,\n",
    "        \"source_val_label_loss\": source_val_label_loss,\n",
    "        \"target_val_label_accuracy\": target_val_label_accuracy,\n",
    "        \"target_val_label_loss\": target_val_label_loss,\n",
    "        \"total_epochs_trained\": total_epochs_trained,\n",
    "        \"total_experiment_time_secs\": total_experiment_time_secs,\n",
    "        \"confusion\": confusion,\n",
    "        \"per_domain_accuracy\": per_domain_accuracy,\n",
    "    },\n",
    "    \"history\": history,\n",
    "    \"dataset_metrics\": get_dataset_metrics(datasets, \"ptn\"),\n",
    "}"
   ]
  },
  {
   "cell_type": "code",
   "execution_count": 25,
   "id": "54a21829",
   "metadata": {
    "execution": {
     "iopub.execute_input": "2022-03-18T22:05:19.741254Z",
     "iopub.status.busy": "2022-03-18T22:05:19.741005Z",
     "iopub.status.idle": "2022-03-18T22:05:19.870753Z",
     "shell.execute_reply": "2022-03-18T22:05:19.871127Z"
    },
    "papermill": {
     "duration": 0.164436,
     "end_time": "2022-03-18T22:05:19.871243",
     "exception": false,
     "start_time": "2022-03-18T22:05:19.706807",
     "status": "completed"
    },
    "tags": []
   },
   "outputs": [
    {
     "data": {
      "image/png": "[encoded data removed]",
      "text/plain": [
       "<Figure size 1080x504 with 1 Axes>"
      ]
     },
     "metadata": {
      "needs_background": "light"
     },
     "output_type": "display_data"
    }
   ],
   "source": [
    "ax = get_loss_curve(experiment)\n",
    "plt.show()"
   ]
  },
  {
   "cell_type": "code",
   "execution_count": 26,
   "id": "fd8a0f60",
   "metadata": {
    "execution": {
     "iopub.execute_input": "2022-03-18T22:05:19.943097Z",
     "iopub.status.busy": "2022-03-18T22:05:19.942777Z",
     "iopub.status.idle": "2022-03-18T22:05:20.084895Z",
     "shell.execute_reply": "2022-03-18T22:05:20.084672Z"
    },
    "papermill": {
     "duration": 0.17689,
     "end_time": "2022-03-18T22:05:20.084946",
     "exception": false,
     "start_time": "2022-03-18T22:05:19.908056",
     "status": "completed"
    },
    "tags": []
   },
   "outputs": [
    {
     "data": {
      "text/plain": [
       "<AxesSubplot:title={'center':'Results'}>"
      ]
     },
     "execution_count": 26,
     "metadata": {},
     "output_type": "execute_result"
    },
    {
     "data": {
      "image/png": "[encoded data removed]",
      "text/plain": [
       "<Figure size 1080x504 with 1 Axes>"
      ]
     },
     "metadata": {
      "needs_background": "light"
     },
     "output_type": "display_data"
    }
   ],
   "source": [
    "get_results_table(experiment)"
   ]
  },
  {
   "cell_type": "code",
   "execution_count": 27,
   "id": "cf8dc689",
   "metadata": {
    "execution": {
     "iopub.execute_input": "2022-03-18T22:05:20.157020Z",
     "iopub.status.busy": "2022-03-18T22:05:20.156771Z",
     "iopub.status.idle": "2022-03-18T22:05:20.316882Z",
     "shell.execute_reply": "2022-03-18T22:05:20.317307Z"
    },
    "papermill": {
     "duration": 0.197377,
     "end_time": "2022-03-18T22:05:20.317427",
     "exception": false,
     "start_time": "2022-03-18T22:05:20.120050",
     "status": "completed"
    },
    "tags": []
   },
   "outputs": [
    {
     "data": {
      "text/plain": [
       "<AxesSubplot:title={'center':'Per Domain Validation Accuracy'}, xlabel='domain'>"
      ]
     },
     "execution_count": 27,
     "metadata": {},
     "output_type": "execute_result"
    },
    {
     "data": {
      "image/png": "[encoded data removed]",
      "text/plain": [
       "<Figure size 1080x504 with 1 Axes>"
      ]
     },
     "metadata": {
      "needs_background": "light"
     },
     "output_type": "display_data"
    }
   ],
   "source": [
    "get_domain_accuracies(experiment)"
   ]
  },
  {
   "cell_type": "code",
   "execution_count": 28,
   "id": "a74ae082",
   "metadata": {
    "execution": {
     "iopub.execute_input": "2022-03-18T22:05:20.395321Z",
     "iopub.status.busy": "2022-03-18T22:05:20.395031Z",
     "iopub.status.idle": "2022-03-18T22:05:20.410527Z",
     "shell.execute_reply": "2022-03-18T22:05:20.410929Z"
    },
    "papermill": {
     "duration": 0.053356,
     "end_time": "2022-03-18T22:05:20.411051",
     "exception": false,
     "start_time": "2022-03-18T22:05:20.357695",
     "status": "completed"
    },
    "tags": []
   },
   "outputs": [
    {
     "name": "stdout",
     "output_type": "stream",
     "text": [
      "Source Test Label Accuracy: 0.9667096219931272 Target Test Label Accuracy: 0.20836588541666667\n",
      "Source Val Label Accuracy: 0.9688573883161512 Target Val Label Accuracy: 0.20888671875\n"
     ]
    }
   ],
   "source": [
    "print(\"Source Test Label Accuracy:\", experiment[\"results\"][\"source_test_label_accuracy\"], \"Target Test Label Accuracy:\", experiment[\"results\"][\"target_test_label_accuracy\"])\n",
    "print(\"Source Val Label Accuracy:\", experiment[\"results\"][\"source_val_label_accuracy\"], \"Target Val Label Accuracy:\", experiment[\"results\"][\"target_val_label_accuracy\"])"
   ]
  },
  {
   "cell_type": "code",
   "execution_count": 29,
   "id": "dacca602",
   "metadata": {
    "execution": {
     "iopub.execute_input": "2022-03-18T22:05:20.486951Z",
     "iopub.status.busy": "2022-03-18T22:05:20.486707Z",
     "iopub.status.idle": "2022-03-18T22:05:20.498992Z",
     "shell.execute_reply": "2022-03-18T22:05:20.499298Z"
    },
    "papermill": {
     "duration": 0.048907,
     "end_time": "2022-03-18T22:05:20.499382",
     "exception": false,
     "start_time": "2022-03-18T22:05:20.450475",
     "status": "completed"
    },
    "tags": [
     "experiment_json"
    ]
   },
   "outputs": [
    {
     "data": {
      "text/plain": [
       "'{\"experiment_name\": \"tl_3A:cores+wisig -> oracle.run1.framed\", \"parameters\": {\"experiment_name\": \"tl_3A:cores+wisig -> oracle.run1.framed\", \"device\": \"cuda\", \"lr\": 0.001, \"x_shape\": [2, 200], \"n_shot\": 3, \"n_query\": 2, \"train_k_factor\": 3, \"val_k_factor\": 2, \"test_k_factor\": 2, \"torch_default_dtype\": \"torch.float32\", \"n_epoch\": 50, \"patience\": 3, \"criteria_for_best\": \"target_loss\", \"x_net\": [{\"class\": \"nnReshape\", \"kargs\": {\"shape\": [-1, 1, 2, 200]}}, {\"class\": \"Conv2d\", \"kargs\": {\"in_channels\": 1, \"out_channels\": 256, \"kernel_size\": [1, 7], \"bias\": false, \"padding\": [0, 3]}}, {\"class\": \"ReLU\", \"kargs\": {\"inplace\": true}}, {\"class\": \"BatchNorm2d\", \"kargs\": {\"num_features\": 256}}, {\"class\": \"Conv2d\", \"kargs\": {\"in_channels\": 256, \"out_channels\": 80, \"kernel_size\": [2, 7], \"bias\": true, \"padding\": [0, 3]}}, {\"class\": \"ReLU\", \"kargs\": {\"inplace\": true}}, {\"class\": \"BatchNorm2d\", \"kargs\": {\"num_features\": 80}}, {\"class\": \"Flatten\", \"kargs\": {}}, {\"class\": \"Linear\", \"kargs\": {\"in_features\": 16000, \"out_features\": 256}}, {\"class\": \"ReLU\", \"kargs\": {\"inplace\": true}}, {\"class\": \"BatchNorm1d\", \"kargs\": {\"num_features\": 256}}, {\"class\": \"Linear\", \"kargs\": {\"in_features\": 256, \"out_features\": 256}}], \"NUM_LOGS_PER_EPOCH\": 10, \"BEST_MODEL_PATH\": \"./best_model.pth\", \"n_way\": 16, \"datasets\": [{\"labels\": [\"1-10.\", \"1-11.\", \"1-15.\", \"1-16.\", \"1-17.\", \"1-18.\", \"1-19.\", \"10-4.\", \"10-7.\", \"11-1.\", \"11-14.\", \"11-17.\", \"11-20.\", \"11-7.\", \"13-20.\", \"13-8.\", \"14-10.\", \"14-11.\", \"14-14.\", \"14-7.\", \"15-1.\", \"15-20.\", \"16-1.\", \"16-16.\", \"17-10.\", \"17-11.\", \"17-2.\", \"19-1.\", \"19-16.\", \"19-19.\", \"19-20.\", \"19-3.\", \"2-10.\", \"2-11.\", \"2-17.\", \"2-18.\", \"2-20.\", \"2-3.\", \"2-4.\", \"2-5.\", \"2-6.\", \"2-7.\", \"2-8.\", \"3-13.\", \"3-18.\", \"3-3.\", \"4-1.\", \"4-10.\", \"4-11.\", \"4-19.\", \"5-5.\", \"6-15.\", \"7-10.\", \"7-14.\", \"8-18.\", \"8-20.\", \"8-3.\", \"8-8.\"], \"domains\": [1, 2, 3, 4, 5], \"num_examples_per_domain_per_label\": 100, \"pickle_path\": \"/mnt/wd500GB/CSC500/csc500-main/datasets/cores.stratified_ds.2022A.pkl\", \"source_or_target_dataset\": \"source\", \"x_transforms\": [\"unit_mag\", \"take_200\"], \"episode_transforms\": [], \"domain_prefix\": \"C_A_\"}, {\"labels\": [\"1-10\", \"1-12\", \"1-14\", \"1-16\", \"1-18\", \"1-19\", \"1-8\", \"10-11\", \"10-17\", \"10-4\", \"10-7\", \"11-1\", \"11-10\", \"11-19\", \"11-20\", \"11-4\", \"11-7\", \"12-19\", \"12-20\", \"12-7\", \"13-14\", \"13-18\", \"13-19\", \"13-20\", \"13-3\", \"13-7\", \"14-10\", \"14-11\", \"14-12\", \"14-13\", \"14-14\", \"14-19\", \"14-20\", \"14-7\", \"14-8\", \"14-9\", \"15-1\", \"15-19\", \"15-6\", \"16-1\", \"16-16\", \"16-19\", \"16-20\", \"17-10\", \"17-11\", \"18-1\", \"18-10\", \"18-11\", \"18-12\", \"18-13\", \"18-14\", \"18-15\", \"18-16\", \"18-17\", \"18-19\", \"18-2\", \"18-20\", \"18-4\", \"18-5\", \"18-7\", \"18-8\", \"18-9\", \"19-1\", \"19-10\", \"19-11\", \"19-12\", \"19-13\", \"19-14\", \"19-15\", \"19-19\", \"19-2\", \"19-20\", \"19-3\", \"19-4\", \"19-6\", \"19-7\", \"19-8\", \"19-9\", \"2-1\", \"2-13\", \"2-15\", \"2-3\", \"2-4\", \"2-5\", \"2-6\", \"2-7\", \"2-8\", \"20-1\", \"20-12\", \"20-14\", \"20-15\", \"20-16\", \"20-18\", \"20-19\", \"20-20\", \"20-3\", \"20-4\", \"20-5\", \"20-7\", \"20-8\", \"3-1\", \"3-13\", \"3-18\", \"3-2\", \"3-8\", \"4-1\", \"4-10\", \"4-11\", \"5-1\", \"5-5\", \"6-1\", \"6-15\", \"6-6\", \"7-10\", \"7-11\", \"7-12\", \"7-13\", \"7-14\", \"7-7\", \"7-8\", \"7-9\", \"8-1\", \"8-13\", \"8-14\", \"8-18\", \"8-20\", \"8-3\", \"8-8\", \"9-1\", \"9-7\"], \"domains\": [1, 2, 3, 4], \"num_examples_per_domain_per_label\": 100, \"pickle_path\": \"/mnt/wd500GB/CSC500/csc500-main/datasets/wisig.node3-19.stratified_ds.2022A.pkl\", \"source_or_target_dataset\": \"source\", \"x_transforms\": [\"unit_mag\", \"take_200\"], \"episode_transforms\": [], \"domain_prefix\": \"W_A_\"}, {\"labels\": [\"3123D52\", \"3123D65\", \"3123D79\", \"3123D80\", \"3123D54\", \"3123D70\", \"3123D7B\", \"3123D89\", \"3123D58\", \"3123D76\", \"3123D7D\", \"3123EFE\", \"3123D64\", \"3123D78\", \"3123D7E\", \"3124E4A\"], \"domains\": [32, 38, 8, 44, 14, 50, 20, 26], \"num_examples_per_domain_per_label\": 2000, \"pickle_path\": \"/mnt/wd500GB/CSC500/csc500-main/datasets/oracle.Run1_framed_2000Examples_stratified_ds.2022A.pkl\", \"source_or_target_dataset\": \"target\", \"x_transforms\": [\"unit_mag\", \"take_200\", \"resample_20Msps_to_25Msps\"], \"episode_transforms\": [], \"domain_prefix\": \"ORACLE.run1_\"}], \"seed\": 420, \"dataset_seed\": 420, \"domains_source\": [\"C_A_1\", \"C_A_2\", \"C_A_3\", \"C_A_4\", \"C_A_5\", \"W_A_1\", \"W_A_2\", \"W_A_3\", \"W_A_4\"], \"domains_target\": [\"ORACLE.run1_32\", \"ORACLE.run1_38\", \"ORACLE.run1_8\", \"ORACLE.run1_44\", \"ORACLE.run1_14\", \"ORACLE.run1_50\", \"ORACLE.run1_20\", \"ORACLE.run1_26\"]}, \"results\": {\"source_test_label_accuracy\": 0.9667096219931272, \"source_test_label_loss\": 0.15715689957141876, \"target_test_label_accuracy\": 0.20836588541666667, \"target_test_label_loss\": 2.428835868835449, \"source_val_label_accuracy\": 0.9688573883161512, \"source_val_label_loss\": 0.1406683474779129, \"target_val_label_accuracy\": 0.20888671875, \"target_val_label_loss\": 2.4263601303100586, \"total_epochs_trained\": 9, \"total_experiment_time_secs\": 545.5520768165588, \"confusion\": {\"C_A_4\": {\"42\": {\"42\": 12}, \"0\": {\"0\": 10}, \"1\": {\"1\": 12}, \"39\": {\"39\": 12}, \"28\": {\"28\": 10}, \"53\": {\"53\": 12}, \"19\": {\"19\": 12}, \"34\": {\"34\": 12}, \"33\": {\"33\": 12}, \"32\": {\"32\": 12}, \"10\": {\"10\": 12}, \"46\": {\"46\": 12}, \"20\": {\"20\": 8}, \"5\": {\"5\": 10}, \"40\": {\"40\": 11, \"44\": 1}, \"51\": {\"51\": 12}, \"37\": {\"37\": 12}, \"17\": {\"17\": 12}, \"45\": {\"45\": 12}, \"13\": {\"13\": 12}, \"27\": {\"27\": 12}, \"24\": {\"24\": 8}, \"30\": {\"30\": 12}, \"31\": {\"31\": 10}, \"41\": {\"41\": 10}, \"36\": {\"36\": 12}, \"16\": {\"16\": 10}, \"22\": {\"22\": 12}, \"44\": {\"44\": 12}, \"9\": {\"9\": 12}, \"57\": {\"57\": 12}, \"8\": {\"8\": 10}, \"23\": {\"23\": 10}, \"47\": {\"47\": 12}, \"43\": {\"43\": 12}, \"49\": {\"49\": 12}, \"3\": {\"3\": 12}, \"12\": {\"12\": 12}, \"38\": {\"38\": 12}, \"7\": {\"7\": 12}, \"26\": {\"26\": 12}, \"29\": {\"29\": 12}, \"48\": {\"48\": 10}, \"56\": {\"56\": 12}, \"15\": {\"15\": 12}, \"50\": {\"50\": 12}, \"2\": {\"2\": 10}, \"55\": {\"55\": 10}, \"21\": {\"21\": 12}, \"52\": {\"52\": 12}, \"18\": {\"18\": 12}, \"14\": {\"14\": 12}, \"35\": {\"35\": 8}, \"4\": {\"4\": 10}, \"25\": {\"25\": 8}, \"11\": {\"11\": 6}, \"54\": {\"54\": 6}, \"6\": {\"6\": 8}}, \"W_A_3\": {\"110\": {\"110\": 11, \"60\": 1}, \"1\": {\"1\": 10}, \"2\": {\"2\": 12}, \"94\": {\"94\": 12}, \"64\": {\"64\": 12}, \"78\": {\"78\": 10, \"68\": 1, \"33\": 1}, \"47\": {\"47\": 12}, \"127\": {\"127\": 12}, \"89\": {\"89\": 12}, \"79\": {\"79\": 12}, \"22\": {\"22\": 12}, \"117\": {\"117\": 12}, \"49\": {\"49\": 11, \"47\": 1}, \"14\": {\"14\": 12}, \"103\": {\"103\": 12}, \"123\": {\"123\": 12}, \"80\": {\"63\": 1, \"80\": 10, \"78\": 1}, \"63\": {\"63\": 12}, \"27\": {\"27\": 12}, \"17\": {\"63\": 1, \"17\": 8, \"67\": 1, \"38\": 1, \"43\": 1}, \"105\": {\"105\": 12}, \"40\": {\"40\": 12}, \"93\": {\"93\": 12}, \"98\": {\"98\": 12}, \"10\": {\"10\": 12}, \"3\": {\"3\": 12}, \"19\": {\"19\": 12}, \"31\": {\"31\": 12}, \"0\": {\"0\": 12}, \"118\": {\"118\": 12}, \"87\": {\"87\": 12}, \"58\": {\"58\": 12}, \"72\": {\"72\": 12}, \"129\": {\"129\": 12}, \"92\": {\"92\": 12}, \"39\": {\"39\": 10}, \"28\": {\"28\": 12}, \"29\": {\"29\": 11, \"31\": 1}, \"84\": {\"84\": 12}, \"102\": {\"102\": 12}, \"71\": {\"71\": 12}, \"100\": {\"100\": 12}, \"73\": {\"73\": 11, \"13\": 1}, \"16\": {\"16\": 12}, \"125\": {\"125\": 12}, \"21\": {\"21\": 10, \"78\": 2}, \"96\": {\"96\": 11, \"23\": 1}, \"4\": {\"4\": 11, \"105\": 1}, \"57\": {\"57\": 12}, \"126\": {\"126\": 12}, \"101\": {\"101\": 12}, \"122\": {\"122\": 11, \"21\": 1}, \"77\": {\"77\": 12}, \"56\": {\"56\": 12}, \"85\": {\"85\": 12}, \"70\": {\"70\": 12}, \"69\": {\"69\": 11, \"82\": 1}, \"106\": {\"106\": 12}, \"42\": {\"42\": 11, \"49\": 1}, \"24\": {\"30\": 1, \"24\": 11}, \"120\": {\"24\": 1, \"120\": 9}, \"108\": {\"108\": 9, \"88\": 1}, \"61\": {\"61\": 12}, \"91\": {\"91\": 12}, \"30\": {\"30\": 12}, \"114\": {\"114\": 12}, \"46\": {\"46\": 10}, \"124\": {\"124\": 10}, \"38\": {\"38\": 11, \"108\": 1}, \"51\": {\"51\": 11, \"30\": 1}, \"88\": {\"88\": 12}, \"112\": {\"112\": 11, \"43\": 1}, \"37\": {\"37\": 12}, \"36\": {\"36\": 11, \"27\": 1}, \"26\": {\"26\": 12}, \"45\": {\"45\": 11, \"68\": 1}, \"23\": {\"23\": 11, \"122\": 1}, \"43\": {\"43\": 9, \"112\": 1}, \"119\": {\"119\": 12}, \"95\": {\"95\": 12}, \"62\": {\"62\": 11, \"101\": 1}, \"7\": {\"7\": 12}, \"41\": {\"41\": 12}, \"67\": {\"67\": 10, \"45\": 1, \"70\": 1}, \"50\": {\"50\": 12}, \"9\": {\"9\": 12}, \"82\": {\"82\": 11, \"61\": 1}, \"81\": {\"81\": 10, \"18\": 1, \"103\": 1}, \"97\": {\"97\": 12}, \"13\": {\"13\": 8, \"34\": 2, \"78\": 1, \"77\": 1}, \"55\": {\"55\": 12}, \"75\": {\"75\": 12}, \"53\": {\"53\": 11, \"12\": 1}, \"111\": {\"111\": 11, \"116\": 1}, \"44\": {\"44\": 12}, \"35\": {\"35\": 12}, \"5\": {\"5\": 12}, \"90\": {\"90\": 10}, \"33\": {\"33\": 12}, \"83\": {\"83\": 12}, \"65\": {\"65\": 12}, \"8\": {\"8\": 10}, \"60\": {\"60\": 12}, \"34\": {\"34\": 11, \"82\": 1}, \"109\": {\"109\": 12}, \"76\": {\"76\": 10, \"81\": 1, \"97\": 1}, \"32\": {\"32\": 12}, \"68\": {\"68\": 12}, \"18\": {\"18\": 11, \"113\": 1}, \"116\": {\"116\": 12}, \"128\": {\"128\": 12}, \"115\": {\"115\": 10}, \"113\": {\"113\": 8}, \"48\": {\"48\": 11, \"56\": 1}, \"104\": {\"104\": 10, \"88\": 1, \"52\": 1}, \"121\": {\"60\": 1, \"121\": 11}, \"107\": {\"107\": 12}, \"25\": {\"25\": 12}, \"12\": {\"12\": 12}, \"6\": {\"6\": 12}, \"54\": {\"54\": 12}, \"11\": {\"11\": 12}, \"59\": {\"59\": 12}, \"86\": {\"86\": 11, \"4\": 1}, \"66\": {\"66\": 12}, \"99\": {\"99\": 12}, \"15\": {\"15\": 12}, \"74\": {\"74\": 11, \"48\": 1}, \"20\": {\"20\": 12}, \"52\": {\"52\": 12}}, \"W_A_4\": {\"113\": {\"113\": 12}, \"85\": {\"85\": 12}, \"34\": {\"34\": 12}, \"55\": {\"55\": 12}, \"42\": {\"42\": 12}, \"13\": {\"13\": 12}, \"69\": {\"69\": 12}, \"35\": {\"35\": 12}, \"83\": {\"83\": 12}, \"51\": {\"51\": 9, \"78\": 1, \"48\": 1, \"95\": 1}, \"72\": {\"72\": 12}, \"24\": {\"24\": 10, \"97\": 2}, \"53\": {\"53\": 12}, \"8\": {\"8\": 12}, \"49\": {\"49\": 11, \"112\": 1}, \"21\": {\"21\": 12}, \"18\": {\"18\": 12}, \"114\": {\"114\": 12}, \"58\": {\"58\": 12}, \"56\": {\"56\": 12}, \"80\": {\"80\": 12}, \"11\": {\"11\": 12}, \"15\": {\"15\": 12}, \"50\": {\"50\": 10, \"21\": 1, \"116\": 1}, \"111\": {\"111\": 12}, \"108\": {\"108\": 9, \"61\": 1, \"93\": 2}, \"104\": {\"104\": 11, \"92\": 1}, \"32\": {\"104\": 1, \"13\": 1, \"32\": 6}, \"68\": {\"68\": 12}, \"73\": {\"73\": 10}, \"92\": {\"21\": 1, \"92\": 11}, \"57\": {\"34\": 1, \"57\": 11}, \"40\": {\"40\": 12}, \"71\": {\"71\": 12}, \"121\": {\"121\": 11, \"63\": 1}, \"62\": {\"62\": 10, \"105\": 1, \"113\": 1}, \"39\": {\"39\": 12}, \"107\": {\"107\": 10}, \"109\": {\"109\": 10, \"31\": 1, \"84\": 1}, \"103\": {\"60\": 2, \"103\": 9, \"51\": 1}, \"101\": {\"101\": 12}, \"23\": {\"60\": 1, \"61\": 1, \"23\": 8, \"112\": 1, \"105\": 1}, \"60\": {\"60\": 12}, \"123\": {\"123\": 10, \"33\": 1, \"108\": 1}, \"19\": {\"19\": 12}, \"0\": {\"0\": 12}, \"31\": {\"31\": 12}, \"81\": {\"81\": 12}, \"61\": {\"61\": 12}, \"86\": {\"86\": 12}, \"94\": {\"94\": 11, \"126\": 1}, \"99\": {\"99\": 12}, \"47\": {\"47\": 12}, \"112\": {\"112\": 10, \"120\": 1, \"76\": 1}, \"87\": {\"87\": 12}, \"76\": {\"76\": 12}, \"36\": {\"36\": 12}, \"102\": {\"102\": 12}, \"44\": {\"23\": 2, \"44\": 10}, \"16\": {\"16\": 12}, \"33\": {\"33\": 12}, \"9\": {\"9\": 12}, \"30\": {\"30\": 10, \"102\": 1, \"92\": 1}, \"4\": {\"4\": 12}, \"88\": {\"88\": 8, \"73\": 1, \"129\": 1, \"33\": 1, \"108\": 1}, \"20\": {\"20\": 12}, \"3\": {\"3\": 10, \"71\": 1, \"39\": 1}, \"66\": {\"23\": 1, \"66\": 9, \"38\": 1, \"39\": 1}, \"1\": {\"1\": 10, \"77\": 1, \"123\": 1}, \"25\": {\"25\": 12}, \"77\": {\"77\": 12}, \"79\": {\"79\": 12}, \"7\": {\"7\": 12}, \"100\": {\"42\": 1, \"100\": 9, \"70\": 1, \"78\": 1}, \"126\": {\"126\": 12}, \"54\": {\"54\": 12}, \"82\": {\"82\": 9, \"29\": 1, \"79\": 1, \"126\": 1}, \"97\": {\"97\": 11, \"36\": 1}, \"105\": {\"87\": 2, \"105\": 10}, \"127\": {\"127\": 12}, \"89\": {\"89\": 11, \"23\": 1}, \"98\": {\"98\": 10}, \"46\": {\"104\": 1, \"46\": 10, \"55\": 1}, \"116\": {\"116\": 11, \"74\": 1}, \"37\": {\"37\": 12}, \"17\": {\"17\": 12}, \"90\": {\"90\": 12}, \"52\": {\"52\": 12}, \"6\": {\"6\": 12}, \"67\": {\"67\": 10, \"108\": 1, \"123\": 1}, \"5\": {\"5\": 12}, \"125\": {\"125\": 12}, \"128\": {\"128\": 12}, \"129\": {\"129\": 9, \"75\": 1, \"93\": 1, \"19\": 1}, \"75\": {\"75\": 12}, \"84\": {\"84\": 11, \"53\": 1}, \"74\": {\"74\": 12}, \"22\": {\"22\": 11, \"62\": 1}, \"10\": {\"30\": 2, \"10\": 10}, \"96\": {\"96\": 10, \"29\": 1, \"56\": 1}, \"29\": {\"29\": 12}, \"28\": {\"28\": 12}, \"45\": {\"45\": 12}, \"117\": {\"117\": 11, \"81\": 1}, \"63\": {\"63\": 12}, \"41\": {\"41\": 12}, \"12\": {\"12\": 12}, \"95\": {\"95\": 11, \"127\": 1}, \"119\": {\"119\": 12}, \"27\": {\"27\": 8}, \"2\": {\"2\": 10, \"129\": 2}, \"122\": {\"107\": 1, \"122\": 10, \"78\": 1}, \"26\": {\"26\": 12}, \"78\": {\"122\": 1, \"78\": 10, \"60\": 1}, \"93\": {\"93\": 12}, \"118\": {\"118\": 12}, \"124\": {\"124\": 12}, \"14\": {\"14\": 12}, \"48\": {\"48\": 12}, \"65\": {\"65\": 12}, \"120\": {\"120\": 12}, \"43\": {\"43\": 12}, \"106\": {\"84\": 1, \"106\": 10, \"33\": 1}, \"110\": {\"110\": 10, \"78\": 1, \"43\": 1}, \"64\": {\"64\": 12}, \"38\": {\"38\": 10}, \"115\": {\"115\": 5, \"50\": 1, \"19\": 2, \"72\": 2}, \"70\": {\"70\": 10}, \"59\": {\"59\": 10}, \"91\": {\"91\": 9, \"108\": 1}}, \"W_A_2\": {\"115\": {\"115\": 11, \"36\": 1}, \"34\": {\"34\": 9, \"14\": 1}, \"97\": {\"97\": 12}, \"100\": {\"100\": 11, \"66\": 1}, \"129\": {\"129\": 10}, \"90\": {\"90\": 12}, \"125\": {\"125\": 12}, \"7\": {\"7\": 12}, \"92\": {\"92\": 12}, \"114\": {\"114\": 9, \"92\": 1, \"39\": 2}, \"80\": {\"80\": 12}, \"16\": {\"16\": 10, \"46\": 1, \"93\": 1}, \"69\": {\"69\": 9, \"80\": 1, \"14\": 2}, \"102\": {\"102\": 12}, \"33\": {\"33\": 12}, \"17\": {\"17\": 9, \"21\": 1, \"43\": 1, \"46\": 1}, \"61\": {\"61\": 10, \"11\": 1, \"80\": 1}, \"48\": {\"48\": 12}, \"91\": {\"91\": 12}, \"84\": {\"84\": 12}, \"50\": {\"50\": 10, \"42\": 1, \"24\": 1}, \"2\": {\"2\": 11, \"112\": 1}, \"46\": {\"46\": 12}, \"56\": {\"56\": 12}, \"86\": {\"86\": 12}, \"11\": {\"11\": 11, \"39\": 1}, \"118\": {\"118\": 11, \"107\": 1}, \"79\": {\"79\": 12}, \"22\": {\"22\": 11, \"70\": 1}, \"109\": {\"109\": 10, \"118\": 2}, \"62\": {\"62\": 11, \"21\": 1}, \"8\": {\"8\": 12}, \"24\": {\"24\": 10, \"27\": 1, \"6\": 1}, \"10\": {\"10\": 12}, \"87\": {\"87\": 9, \"28\": 1, \"107\": 1, \"11\": 1}, \"4\": {\"4\": 12}, \"105\": {\"105\": 12}, \"20\": {\"20\": 12}, \"28\": {\"28\": 12}, \"27\": {\"24\": 1, \"27\": 11}, \"89\": {\"89\": 12}, \"36\": {\"36\": 8, \"24\": 1, \"27\": 1, \"51\": 1, \"94\": 1}, \"45\": {\"10\": 1, \"45\": 10, \"8\": 1}, \"31\": {\"31\": 11, \"69\": 1}, \"110\": {\"110\": 10, \"12\": 1, \"66\": 1}, \"3\": {\"3\": 8}, \"107\": {\"107\": 12}, \"117\": {\"117\": 12}, \"21\": {\"21\": 11, \"84\": 1}, \"66\": {\"66\": 11, \"53\": 1}, \"82\": {\"82\": 8}, \"99\": {\"99\": 11, \"95\": 1}, \"81\": {\"81\": 12}, \"42\": {\"42\": 11, \"1\": 1}, \"26\": {\"26\": 11, \"102\": 1}, \"64\": {\"64\": 12}, \"74\": {\"74\": 12}, \"119\": {\"119\": 12}, \"71\": {\"71\": 12}, \"93\": {\"93\": 12}, \"18\": {\"18\": 11, \"39\": 1}, \"30\": {\"30\": 12}, \"96\": {\"96\": 12}, \"25\": {\"25\": 12}, \"88\": {\"88\": 8, \"96\": 1, \"40\": 1}, \"103\": {\"103\": 12}, \"116\": {\"116\": 11, \"33\": 1}, \"67\": {\"67\": 12}, \"1\": {\"1\": 12}, \"101\": {\"101\": 12}, \"23\": {\"23\": 10, \"58\": 2}, \"57\": {\"57\": 12}, \"83\": {\"83\": 11, \"126\": 1}, \"122\": {\"122\": 12}, \"127\": {\"127\": 11, \"111\": 1}, \"108\": {\"108\": 12}, \"124\": {\"124\": 12}, \"112\": {\"112\": 10, \"53\": 1, \"11\": 1}, \"70\": {\"70\": 10, \"21\": 1, \"53\": 1}, \"14\": {\"14\": 11, \"84\": 1}, \"53\": {\"53\": 12}, \"121\": {\"121\": 11, \"41\": 1}, \"40\": {\"40\": 10, \"39\": 1, \"33\": 1}, \"15\": {\"15\": 12}, \"37\": {\"37\": 12}, \"73\": {\"73\": 12}, \"52\": {\"52\": 10, \"33\": 1, \"100\": 1}, \"123\": {\"123\": 12}, \"44\": {\"44\": 12}, \"111\": {\"111\": 12}, \"43\": {\"43\": 11, \"88\": 1}, \"19\": {\"19\": 12}, \"38\": {\"38\": 11, \"76\": 1}, \"39\": {\"39\": 12}, \"59\": {\"59\": 12}, \"6\": {\"6\": 12}, \"47\": {\"73\": 1, \"47\": 8, \"59\": 1, \"107\": 1, \"112\": 1}, \"58\": {\"58\": 12}, \"51\": {\"51\": 10, \"6\": 1, \"118\": 1}, \"60\": {\"60\": 10, \"118\": 1, \"22\": 1}, \"12\": {\"12\": 12}, \"98\": {\"98\": 12}, \"0\": {\"0\": 12}, \"128\": {\"128\": 12}, \"29\": {\"29\": 12}, \"13\": {\"13\": 12}, \"72\": {\"72\": 8, \"58\": 1, \"16\": 1, \"96\": 1, \"78\": 1}, \"104\": {\"104\": 12}, \"5\": {\"5\": 12}, \"49\": {\"49\": 12}, \"77\": {\"77\": 12}, \"106\": {\"106\": 12}, \"120\": {\"120\": 11, \"65\": 1}, \"41\": {\"41\": 12}, \"55\": {\"55\": 12}, \"113\": {\"113\": 12}, \"68\": {\"68\": 12}, \"9\": {\"9\": 12}, \"95\": {\"95\": 10, \"113\": 1, \"43\": 1}, \"63\": {\"63\": 10, \"95\": 1, \"39\": 1}, \"85\": {\"85\": 12}, \"65\": {\"65\": 10, \"23\": 1, \"108\": 1}, \"126\": {\"126\": 12}, \"78\": {\"78\": 12}, \"32\": {\"32\": 12}, \"35\": {\"35\": 12}, \"54\": {\"54\": 12}, \"76\": {\"76\": 10}, \"94\": {\"94\": 9, \"51\": 1}, \"75\": {\"75\": 5, \"53\": 1}}, \"C_A_5\": {\"43\": {\"43\": 6}, \"35\": {\"35\": 12}, \"54\": {\"54\": 12}, \"22\": {\"22\": 12}, \"16\": {\"16\": 8}, \"5\": {\"5\": 12}, \"28\": {\"28\": 12}, \"14\": {\"14\": 11, \"31\": 1}, \"51\": {\"51\": 8}, \"19\": {\"19\": 12}, \"31\": {\"31\": 12}, \"10\": {\"10\": 12}, \"21\": {\"21\": 12}, \"3\": {\"3\": 12}, \"57\": {\"57\": 12}, \"9\": {\"9\": 12}, \"8\": {\"8\": 12}, \"46\": {\"46\": 10}, \"23\": {\"23\": 12}, \"37\": {\"37\": 12}, \"34\": {\"34\": 12}, \"4\": {\"4\": 12}, \"6\": {\"6\": 12}, \"48\": {\"48\": 12}, \"44\": {\"44\": 12}, \"40\": {\"40\": 12}, \"12\": {\"12\": 12}, \"30\": {\"30\": 12}, \"39\": {\"39\": 10}, \"45\": {\"45\": 12}, \"36\": {\"36\": 12}, \"27\": {\"27\": 12}, \"32\": {\"32\": 10}, \"52\": {\"52\": 12}, \"0\": {\"0\": 12}, \"26\": {\"26\": 8}, \"47\": {\"47\": 12}, \"17\": {\"17\": 10}, \"2\": {\"2\": 10}, \"56\": {\"56\": 8}, \"38\": {\"38\": 12}, \"50\": {\"50\": 10}, \"20\": {\"20\": 12}, \"1\": {\"1\": 12}, \"24\": {\"24\": 12}, \"33\": {\"33\": 8}, \"13\": {\"13\": 12}, \"41\": {\"41\": 12}, \"49\": {\"49\": 12}, \"11\": {\"11\": 10}, \"42\": {\"42\": 12}, \"7\": {\"7\": 12}, \"29\": {\"29\": 12}, \"18\": {\"18\": 8}, \"55\": {\"55\": 8}, \"53\": {\"53\": 10}, \"25\": {\"25\": 10}, \"15\": {\"15\": 7, \"11\": 1}}, \"C_A_2\": {\"49\": {\"49\": 10}, \"13\": {\"13\": 10}, \"37\": {\"37\": 12}, \"41\": {\"41\": 10}, \"15\": {\"15\": 12}, \"56\": {\"56\": 12}, \"14\": {\"14\": 12}, \"3\": {\"3\": 12}, \"38\": {\"38\": 12}, \"43\": {\"43\": 12}, \"33\": {\"33\": 12}, \"47\": {\"47\": 12}, \"30\": {\"30\": 12}, \"39\": {\"39\": 12}, \"12\": {\"12\": 12}, \"6\": {\"6\": 12}, \"51\": {\"51\": 10}, \"5\": {\"5\": 12}, \"34\": {\"34\": 12}, \"35\": {\"35\": 12}, \"0\": {\"0\": 12}, \"7\": {\"7\": 8}, \"24\": {\"24\": 12}, \"8\": {\"8\": 10}, \"20\": {\"20\": 10}, \"36\": {\"36\": 12}, \"42\": {\"42\": 11, \"1\": 1}, \"1\": {\"1\": 12}, \"4\": {\"4\": 8}, \"28\": {\"28\": 12}, \"50\": {\"50\": 10}, \"45\": {\"45\": 10}, \"18\": {\"18\": 12}, \"57\": {\"57\": 10}, \"46\": {\"46\": 10}, \"48\": {\"48\": 8}, \"22\": {\"22\": 12}, \"31\": {\"31\": 12}, \"44\": {\"44\": 12}, \"2\": {\"2\": 12}, \"55\": {\"55\": 12}, \"32\": {\"32\": 10}, \"9\": {\"9\": 12}, \"27\": {\"27\": 12}, \"52\": {\"52\": 12}, \"40\": {\"40\": 10}, \"23\": {\"23\": 12}, \"17\": {\"17\": 12}, \"10\": {\"10\": 12}, \"26\": {\"26\": 12}, \"11\": {\"11\": 10}, \"53\": {\"53\": 10}, \"16\": {\"16\": 12}, \"25\": {\"25\": 10}, \"21\": {\"21\": 8}, \"54\": {\"54\": 10}, \"19\": {\"19\": 8}, \"29\": {\"29\": 8}}, \"W_A_1\": {\"0\": {\"0\": 12}, \"93\": {\"93\": 11, \"122\": 1}, \"18\": {\"18\": 12}, \"111\": {\"111\": 12}, \"108\": {\"108\": 12}, \"8\": {\"8\": 11, \"85\": 1}, \"64\": {\"64\": 12}, \"83\": {\"83\": 11, \"34\": 1}, \"32\": {\"32\": 12}, \"69\": {\"69\": 10}, \"7\": {\"7\": 10}, \"70\": {\"8\": 1, \"70\": 10, \"21\": 1}, \"88\": {\"88\": 11, \"27\": 1}, \"107\": {\"107\": 10}, \"60\": {\"60\": 8, \"2\": 2, \"35\": 1, \"23\": 1}, \"85\": {\"85\": 12}, \"91\": {\"91\": 11, \"58\": 1}, \"109\": {\"109\": 12}, \"105\": {\"105\": 9, \"4\": 2, \"40\": 1}, \"129\": {\"129\": 12}, \"92\": {\"92\": 12}, \"9\": {\"9\": 12}, \"103\": {\"103\": 12}, \"14\": {\"14\": 10, \"8\": 1, \"100\": 1}, \"115\": {\"115\": 10, \"129\": 1, \"80\": 1}, \"5\": {\"5\": 10, \"57\": 1, \"65\": 1}, \"84\": {\"84\": 12}, \"49\": {\"49\": 12}, \"87\": {\"87\": 10, \"4\": 1, \"21\": 1}, \"42\": {\"42\": 12}, \"2\": {\"2\": 11, \"11\": 1}, \"20\": {\"20\": 12}, \"75\": {\"75\": 12}, \"59\": {\"85\": 1, \"59\": 8, \"117\": 1}, \"22\": {\"53\": 1, \"22\": 11}, \"38\": {\"38\": 12}, \"63\": {\"63\": 12}, \"101\": {\"101\": 12}, \"15\": {\"15\": 11, \"111\": 1}, \"53\": {\"53\": 12}, \"110\": {\"110\": 12}, \"78\": {\"78\": 11, \"105\": 1}, \"10\": {\"10\": 12}, \"55\": {\"55\": 12}, \"94\": {\"94\": 10, \"30\": 1, \"42\": 1}, \"39\": {\"39\": 12}, \"58\": {\"58\": 9, \"54\": 1, \"59\": 1, \"31\": 1}, \"40\": {\"40\": 12}, \"46\": {\"46\": 11, \"34\": 1}, \"35\": {\"35\": 12}, \"68\": {\"68\": 12}, \"114\": {\"114\": 12}, \"56\": {\"56\": 11, \"30\": 1}, \"37\": {\"37\": 12}, \"57\": {\"57\": 12}, \"43\": {\"43\": 8}, \"82\": {\"82\": 12}, \"30\": {\"30\": 11, \"49\": 1}, \"31\": {\"31\": 12}, \"12\": {\"12\": 12}, \"89\": {\"89\": 12}, \"21\": {\"21\": 9, \"83\": 1, \"87\": 2}, \"116\": {\"116\": 12}, \"34\": {\"34\": 12}, \"73\": {\"73\": 10}, \"102\": {\"102\": 11, \"33\": 1}, \"26\": {\"26\": 12}, \"121\": {\"121\": 12}, \"72\": {\"72\": 12}, \"61\": {\"61\": 12}, \"90\": {\"90\": 12}, \"86\": {\"86\": 12}, \"23\": {\"23\": 11, \"70\": 1}, \"28\": {\"28\": 12}, \"54\": {\"54\": 12}, \"29\": {\"29\": 12}, \"66\": {\"66\": 10}, \"127\": {\"127\": 12}, \"24\": {\"24\": 12}, \"47\": {\"47\": 12}, \"19\": {\"19\": 11, \"63\": 1}, \"106\": {\"106\": 12}, \"45\": {\"45\": 10, \"19\": 1, \"21\": 1}, \"117\": {\"117\": 12}, \"25\": {\"25\": 12}, \"118\": {\"118\": 12}, \"6\": {\"6\": 12}, \"3\": {\"3\": 12}, \"11\": {\"11\": 12}, \"33\": {\"33\": 12}, \"81\": {\"81\": 12}, \"125\": {\"125\": 12}, \"98\": {\"98\": 12}, \"65\": {\"65\": 9, \"45\": 1, \"57\": 1, \"122\": 1}, \"119\": {\"119\": 12}, \"128\": {\"128\": 12}, \"71\": {\"71\": 7, \"63\": 1}, \"123\": {\"123\": 8}, \"4\": {\"4\": 12}, \"41\": {\"41\": 12}, \"67\": {\"67\": 12}, \"95\": {\"95\": 12}, \"100\": {\"100\": 12}, \"17\": {\"17\": 12}, \"113\": {\"113\": 12}, \"122\": {\"122\": 12}, \"27\": {\"27\": 10, \"88\": 2}, \"79\": {\"79\": 12}, \"16\": {\"16\": 12}, \"112\": {\"112\": 11, \"103\": 1}, \"1\": {\"1\": 12}, \"124\": {\"124\": 12}, \"36\": {\"36\": 8}, \"76\": {\"76\": 12}, \"96\": {\"96\": 12}, \"80\": {\"80\": 12}, \"74\": {\"74\": 11, \"55\": 1}, \"99\": {\"99\": 12}, \"51\": {\"51\": 12}, \"126\": {\"126\": 10}, \"104\": {\"104\": 9, \"20\": 1}, \"97\": {\"97\": 11, \"88\": 1}, \"50\": {\"50\": 12}, \"52\": {\"52\": 12}, \"48\": {\"48\": 12}, \"77\": {\"77\": 8}, \"120\": {\"120\": 8}, \"44\": {\"44\": 8}, \"13\": {\"13\": 6}, \"62\": {\"62\": 6}}, \"C_A_1\": {\"57\": {\"57\": 12}, \"24\": {\"24\": 11, \"22\": 1}, \"22\": {\"24\": 1, \"22\": 11}, \"17\": {\"17\": 12}, \"39\": {\"39\": 12}, \"12\": {\"12\": 12}, \"14\": {\"14\": 11, \"30\": 1}, \"35\": {\"35\": 12}, \"46\": {\"46\": 12}, \"27\": {\"27\": 12}, \"19\": {\"19\": 12}, \"10\": {\"10\": 12}, \"11\": {\"11\": 12}, \"18\": {\"18\": 8}, \"6\": {\"6\": 12}, \"30\": {\"30\": 11, \"8\": 1}, \"45\": {\"45\": 12}, \"8\": {\"8\": 12}, \"9\": {\"9\": 12}, \"33\": {\"33\": 10}, \"56\": {\"56\": 12}, \"52\": {\"52\": 12}, \"53\": {\"53\": 12}, \"41\": {\"41\": 12}, \"32\": {\"32\": 12}, \"7\": {\"7\": 8}, \"3\": {\"3\": 10}, \"49\": {\"49\": 10}, \"54\": {\"54\": 12}, \"44\": {\"44\": 10}, \"28\": {\"28\": 10}, \"51\": {\"51\": 12}, \"21\": {\"21\": 10}, \"4\": {\"4\": 6}, \"43\": {\"43\": 12}, \"47\": {\"47\": 10}, \"23\": {\"23\": 12}, \"36\": {\"36\": 12}, \"48\": {\"48\": 12}, \"29\": {\"29\": 10}, \"31\": {\"31\": 12}, \"20\": {\"20\": 12}, \"5\": {\"5\": 10}, \"50\": {\"50\": 8}, \"38\": {\"38\": 10}, \"1\": {\"1\": 10}, \"37\": {\"37\": 12}, \"25\": {\"25\": 12}, \"26\": {\"26\": 12}, \"34\": {\"34\": 12}, \"55\": {\"55\": 10}, \"16\": {\"16\": 12}, \"42\": {\"42\": 10}, \"40\": {\"40\": 10}, \"15\": {\"15\": 8}, \"2\": {\"2\": 10}, \"0\": {\"0\": 10}, \"13\": {\"13\": 10}}, \"C_A_3\": {\"20\": {\"20\": 10}, \"24\": {\"24\": 12}, \"6\": {\"6\": 12}, \"10\": {\"10\": 10}, \"52\": {\"52\": 12}, \"46\": {\"46\": 12}, \"35\": {\"35\": 12}, \"15\": {\"15\": 12}, \"5\": {\"5\": 12}, \"53\": {\"53\": 10}, \"37\": {\"37\": 12}, \"1\": {\"1\": 12}, \"3\": {\"3\": 11, \"36\": 1}, \"33\": {\"33\": 12}, \"0\": {\"0\": 12}, \"56\": {\"56\": 12}, \"45\": {\"45\": 12}, \"9\": {\"9\": 12}, \"43\": {\"43\": 12}, \"57\": {\"57\": 12}, \"54\": {\"54\": 12}, \"48\": {\"48\": 10}, \"38\": {\"38\": 12}, \"29\": {\"29\": 10}, \"47\": {\"47\": 12}, \"19\": {\"19\": 12}, \"17\": {\"17\": 12}, \"27\": {\"27\": 10}, \"42\": {\"42\": 10}, \"44\": {\"44\": 10}, \"49\": {\"49\": 12}, \"4\": {\"4\": 12}, \"41\": {\"41\": 12}, \"8\": {\"8\": 10}, \"13\": {\"13\": 12}, \"55\": {\"55\": 10}, \"7\": {\"7\": 10}, \"14\": {\"14\": 12}, \"26\": {\"26\": 12}, \"30\": {\"30\": 12}, \"34\": {\"34\": 10}, \"11\": {\"11\": 8}, \"40\": {\"40\": 10}, \"2\": {\"2\": 10}, \"51\": {\"51\": 12}, \"16\": {\"16\": 10}, \"36\": {\"36\": 10}, \"31\": {\"31\": 8}, \"21\": {\"21\": 12}, \"12\": {\"12\": 12}, \"22\": {\"22\": 12}, \"18\": {\"18\": 12}, \"32\": {\"32\": 12}, \"50\": {\"50\": 10}, \"25\": {\"25\": 8}, \"39\": {\"39\": 10}, \"28\": {\"28\": 10}, \"23\": {\"23\": 6}}, \"ORACLE.run1_14\": {\"15\": {\"7\": 38, \"6\": 21, \"15\": 56, \"10\": 5, \"2\": 19, \"1\": 13, \"5\": 20, \"14\": 12, \"4\": 20, \"13\": 21, \"3\": 13, \"0\": 2}, \"5\": {\"15\": 15, \"6\": 18, \"5\": 25, \"13\": 19, \"4\": 33, \"3\": 17, \"7\": 20, \"1\": 23, \"2\": 18, \"14\": 15, \"9\": 4, \"8\": 5, \"0\": 10, \"11\": 6, \"10\": 12}, \"7\": {\"7\": 67, \"15\": 28, \"5\": 34, \"2\": 17, \"10\": 8, \"1\": 24, \"14\": 7, \"4\": 21, \"3\": 11, \"13\": 10, \"6\": 5, \"8\": 1, \"0\": 5, \"9\": 1, \"11\": 1}, \"4\": {\"13\": 20, \"5\": 31, \"1\": 20, \"4\": 32, \"0\": 13, \"3\": 26, \"2\": 21, \"6\": 8, \"15\": 17, \"10\": 18, \"7\": 19, \"14\": 8, \"8\": 3, \"9\": 3, \"11\": 1}, \"10\": {\"0\": 28, \"3\": 22, \"10\": 46, \"6\": 13, \"15\": 3, \"1\": 12, \"4\": 22, \"14\": 16, \"9\": 9, \"11\": 21, \"13\": 8, \"7\": 5, \"2\": 19, \"5\": 12, \"12\": 3, \"8\": 1}, \"11\": {\"0\": 35, \"3\": 20, \"4\": 8, \"9\": 26, \"2\": 9, \"11\": 57, \"12\": 18, \"10\": 23, \"5\": 7, \"14\": 24, \"8\": 2, \"1\": 3, \"7\": 2, \"6\": 4, \"13\": 2}, \"12\": {\"8\": 22, \"11\": 37, \"9\": 63, \"12\": 90, \"10\": 7, \"0\": 19, \"1\": 2}, \"0\": {\"0\": 23, \"10\": 26, \"14\": 15, \"1\": 18, \"8\": 9, \"11\": 32, \"3\": 27, \"12\": 7, \"5\": 13, \"4\": 16, \"9\": 17, \"6\": 7, \"2\": 17, \"13\": 7, \"7\": 3, \"15\": 3}, \"14\": {\"5\": 22, \"10\": 12, \"4\": 17, \"14\": 46, \"3\": 19, \"6\": 32, \"0\": 11, \"11\": 10, \"2\": 35, \"13\": 19, \"7\": 5, \"15\": 3, \"9\": 3, \"1\": 6}, \"8\": {\"0\": 12, \"8\": 92, \"12\": 16, \"4\": 10, \"9\": 37, \"11\": 13, \"3\": 8, \"1\": 25, \"7\": 5, \"5\": 9, \"15\": 2, \"10\": 7, \"14\": 1, \"2\": 3}, \"13\": {\"6\": 39, \"14\": 25, \"13\": 36, \"7\": 14, \"4\": 17, \"2\": 41, \"15\": 16, \"5\": 12, \"10\": 12, \"3\": 15, \"11\": 4, \"1\": 5, \"0\": 4}, \"6\": {\"7\": 10, \"14\": 29, \"5\": 16, \"13\": 42, \"6\": 47, \"2\": 35, \"3\": 15, \"4\": 13, \"10\": 11, \"1\": 5, \"15\": 13, \"0\": 4}, \"1\": {\"1\": 48, \"5\": 25, \"3\": 25, \"14\": 8, \"2\": 15, \"11\": 3, \"8\": 14, \"4\": 20, \"15\": 14, \"7\": 31, \"13\": 7, \"0\": 9, \"6\": 6, \"10\": 11, \"9\": 3, \"12\": 1}, \"3\": {\"14\": 23, \"5\": 27, \"4\": 19, \"15\": 5, \"2\": 21, \"0\": 20, \"10\": 28, \"3\": 23, \"6\": 6, \"1\": 21, \"9\": 3, \"7\": 14, \"11\": 12, \"13\": 12, \"8\": 5, \"12\": 1}, \"9\": {\"12\": 50, \"1\": 9, \"9\": 55, \"11\": 40, \"0\": 27, \"4\": 8, \"5\": 3, \"8\": 27, \"10\": 14, \"13\": 1, \"3\": 4, \"14\": 1, \"2\": 1}, \"2\": {\"13\": 25, \"6\": 24, \"5\": 30, \"0\": 10, \"1\": 13, \"7\": 16, \"4\": 18, \"2\": 29, \"14\": 30, \"15\": 12, \"10\": 8, \"3\": 19, \"11\": 6}}, \"ORACLE.run1_20\": {\"4\": {\"10\": 29, \"14\": 18, \"6\": 20, \"12\": 14, \"8\": 15, \"4\": 25, \"1\": 18, \"3\": 16, \"0\": 10, \"7\": 15, \"5\": 14, \"9\": 21, \"13\": 9, \"2\": 8, \"15\": 7, \"11\": 1}, \"10\": {\"3\": 14, \"4\": 34, \"11\": 5, \"10\": 43, \"14\": 23, \"12\": 6, \"9\": 14, \"13\": 9, \"6\": 19, \"8\": 16, \"2\": 5, \"7\": 21, \"15\": 5, \"5\": 8, \"1\": 8, \"0\": 10}, \"15\": {\"5\": 13, \"1\": 25, \"8\": 12, \"15\": 28, \"3\": 19, \"13\": 21, \"11\": 5, \"6\": 5, \"12\": 25, \"9\": 18, \"0\": 16, \"7\": 19, \"2\": 17, \"4\": 10, \"10\": 3, \"14\": 4}, \"0\": {\"1\": 23, \"13\": 21, \"5\": 16, \"9\": 15, \"7\": 22, \"11\": 6, \"8\": 14, \"6\": 12, \"3\": 20, \"2\": 17, \"4\": 9, \"12\": 10, \"15\": 19, \"0\": 26, \"10\": 6, \"14\": 4}, \"6\": {\"10\": 32, \"14\": 23, \"4\": 25, \"7\": 30, \"9\": 10, \"0\": 5, \"5\": 11, \"2\": 10, \"6\": 35, \"3\": 14, \"8\": 21, \"1\": 7, \"11\": 6, \"13\": 4, \"12\": 4, \"15\": 3}, \"3\": {\"13\": 19, \"10\": 17, \"7\": 21, \"15\": 19, \"4\": 18, \"6\": 9, \"11\": 12, \"8\": 8, \"12\": 18, \"5\": 13, \"0\": 9, \"1\": 16, \"14\": 8, \"2\": 16, \"3\": 14, \"9\": 23}, \"7\": {\"8\": 20, \"12\": 13, \"7\": 11, \"14\": 10, \"3\": 20, \"10\": 16, \"9\": 16, \"6\": 16, \"15\": 10, \"11\": 14, \"0\": 13, \"1\": 15, \"2\": 22, \"4\": 10, \"5\": 20, \"13\": 14}, \"2\": {\"4\": 11, \"7\": 19, \"6\": 6, \"3\": 16, \"11\": 15, \"2\": 26, \"10\": 8, \"1\": 13, \"13\": 20, \"0\": 13, \"12\": 24, \"5\": 21, \"15\": 13, \"9\": 15, \"8\": 15, \"14\": 5}, \"8\": {\"5\": 15, \"1\": 10, \"6\": 22, \"10\": 31, \"11\": 6, \"3\": 18, \"4\": 13, \"14\": 24, \"8\": 20, \"15\": 5, \"9\": 15, \"13\": 15, \"2\": 5, \"7\": 13, \"0\": 13, \"12\": 15}, \"11\": {\"13\": 27, \"1\": 12, \"12\": 21, \"7\": 19, \"11\": 50, \"9\": 16, \"0\": 15, \"8\": 13, \"6\": 11, \"2\": 17, \"14\": 8, \"10\": 4, \"15\": 8, \"5\": 10, \"4\": 3, \"3\": 6}, \"14\": {\"4\": 21, \"7\": 21, \"10\": 31, \"5\": 12, \"9\": 10, \"6\": 28, \"2\": 7, \"15\": 8, \"8\": 25, \"11\": 7, \"14\": 31, \"0\": 9, \"13\": 4, \"3\": 14, \"12\": 7, \"1\": 5}, \"12\": {\"13\": 17, \"0\": 16, \"12\": 21, \"5\": 19, \"3\": 19, \"8\": 13, \"7\": 18, \"2\": 28, \"11\": 11, \"15\": 14, \"9\": 18, \"1\": 19, \"4\": 8, \"10\": 8, \"6\": 9, \"14\": 2}, \"13\": {\"0\": 22, \"11\": 23, \"13\": 24, \"5\": 19, \"8\": 17, \"3\": 13, \"7\": 16, \"6\": 3, \"2\": 19, \"12\": 24, \"14\": 4, \"9\": 13, \"1\": 23, \"15\": 15, \"10\": 2, \"4\": 3}, \"9\": {\"12\": 11, \"7\": 13, \"1\": 21, \"6\": 16, \"3\": 17, \"5\": 16, \"9\": 22, \"2\": 19, \"0\": 19, \"15\": 19, \"8\": 10, \"11\": 18, \"4\": 11, \"13\": 11, \"10\": 8, \"14\": 9}, \"5\": {\"7\": 21, \"1\": 22, \"3\": 16, \"9\": 13, \"8\": 18, \"11\": 9, \"15\": 24, \"13\": 20, \"12\": 11, \"0\": 19, \"2\": 16, \"14\": 7, \"4\": 18, \"10\": 7, \"5\": 17, \"6\": 2}, \"1\": {\"15\": 18, \"13\": 23, \"11\": 7, \"3\": 20, \"8\": 10, \"5\": 28, \"1\": 14, \"0\": 24, \"7\": 22, \"9\": 24, \"2\": 23, \"4\": 7, \"12\": 11, \"10\": 6, \"6\": 2, \"14\": 1}}, \"ORACLE.run1_50\": {\"5\": {\"5\": 30, \"6\": 19, \"11\": 8, \"14\": 11, \"10\": 18, \"4\": 19, \"9\": 2, \"7\": 30, \"2\": 5, \"0\": 12, \"13\": 35, \"1\": 18, \"3\": 11, \"12\": 6, \"15\": 13, \"8\": 3}, \"12\": {\"14\": 48, \"12\": 82, \"6\": 5, \"11\": 30, \"15\": 9, \"9\": 37, \"4\": 4, \"1\": 11, \"2\": 8, \"0\": 2, \"13\": 1, \"10\": 3}, \"14\": {\"14\": 64, \"12\": 48, \"9\": 16, \"6\": 6, \"2\": 17, \"10\": 3, \"15\": 10, \"5\": 6, \"4\": 6, \"1\": 20, \"11\": 22, \"13\": 9, \"0\": 10, \"7\": 3}, \"4\": {\"4\": 31, \"13\": 20, \"1\": 32, \"11\": 17, \"5\": 22, \"15\": 29, \"10\": 6, \"9\": 13, \"0\": 8, \"7\": 15, \"14\": 15, \"6\": 22, \"12\": 5, \"8\": 2, \"2\": 2, \"3\": 1}, \"13\": {\"10\": 22, \"5\": 37, \"15\": 20, \"13\": 29, \"1\": 18, \"0\": 12, \"6\": 22, \"4\": 17, \"9\": 2, \"2\": 3, \"7\": 30, \"14\": 10, \"8\": 6, \"3\": 4, \"11\": 7, \"12\": 1}, \"10\": {\"6\": 8, \"8\": 36, \"10\": 45, \"0\": 37, \"2\": 25, \"7\": 24, \"13\": 22, \"14\": 8, \"5\": 10, \"3\": 12, \"4\": 3, \"11\": 2, \"1\": 6, \"12\": 2}, \"9\": {\"15\": 23, \"9\": 43, \"12\": 35, \"14\": 31, \"11\": 50, \"1\": 16, \"4\": 19, \"10\": 1, \"7\": 2, \"5\": 5, \"13\": 3, \"0\": 6, \"6\": 4, \"2\": 2}, \"15\": {\"15\": 38, \"1\": 38, \"5\": 19, \"6\": 31, \"11\": 21, \"4\": 29, \"9\": 11, \"14\": 11, \"13\": 11, \"7\": 18, \"3\": 2, \"10\": 1, \"12\": 8, \"2\": 1, \"8\": 1}, \"6\": {\"7\": 30, \"13\": 32, \"2\": 5, \"6\": 37, \"15\": 15, \"4\": 28, \"5\": 21, \"14\": 13, \"8\": 2, \"1\": 25, \"11\": 11, \"10\": 5, \"0\": 8, \"9\": 6, \"3\": 1, \"12\": 1}, \"2\": {\"2\": 57, \"14\": 24, \"0\": 62, \"9\": 3, \"12\": 15, \"10\": 32, \"15\": 5, \"1\": 11, \"4\": 6, \"8\": 8, \"5\": 5, \"6\": 3, \"7\": 3, \"13\": 5, \"11\": 1}, \"0\": {\"7\": 15, \"10\": 38, \"0\": 59, \"2\": 41, \"4\": 6, \"1\": 9, \"8\": 31, \"5\": 17, \"3\": 4, \"13\": 10, \"14\": 7, \"11\": 1, \"6\": 2}, \"11\": {\"1\": 28, \"9\": 39, \"14\": 24, \"12\": 30, \"15\": 29, \"7\": 4, \"5\": 8, \"11\": 33, \"4\": 21, \"0\": 2, \"6\": 11, \"13\": 7, \"10\": 2, \"2\": 2}, \"3\": {\"10\": 24, \"3\": 117, \"0\": 9, \"8\": 65, \"6\": 1, \"7\": 14, \"13\": 6, \"5\": 4}, \"8\": {\"8\": 79, \"3\": 54, \"2\": 17, \"0\": 23, \"10\": 35, \"5\": 4, \"6\": 1, \"7\": 12, \"1\": 3, \"13\": 12}, \"7\": {\"7\": 43, \"13\": 32, \"0\": 12, \"5\": 23, \"4\": 13, \"6\": 34, \"9\": 1, \"10\": 20, \"3\": 13, \"1\": 17, \"15\": 9, \"14\": 4, \"8\": 13, \"2\": 3, \"11\": 3}, \"1\": {\"14\": 26, \"11\": 21, \"9\": 12, \"13\": 22, \"5\": 19, \"15\": 20, \"4\": 19, \"12\": 14, \"0\": 12, \"6\": 26, \"3\": 1, \"1\": 27, \"10\": 6, \"2\": 5, \"7\": 8, \"8\": 2}}, \"ORACLE.run1_26\": {\"7\": {\"7\": 20, \"1\": 19, \"8\": 12, \"9\": 23, \"15\": 15, \"6\": 13, \"10\": 35, \"14\": 22, \"4\": 16, \"0\": 17, \"3\": 17, \"2\": 18, \"5\": 10, \"13\": 1, \"12\": 2}, \"6\": {\"12\": 9, \"10\": 18, \"3\": 8, \"5\": 10, \"13\": 14, \"6\": 21, \"8\": 24, \"14\": 20, \"1\": 14, \"9\": 17, \"2\": 14, \"11\": 5, \"0\": 19, \"7\": 14, \"15\": 22, \"4\": 11}, \"14\": {\"0\": 28, \"7\": 20, \"9\": 14, \"6\": 8, \"15\": 10, \"14\": 28, \"2\": 9, \"10\": 25, \"3\": 14, \"4\": 27, \"12\": 5, \"1\": 28, \"13\": 5, \"8\": 17, \"5\": 2}, \"15\": {\"2\": 20, \"4\": 12, \"7\": 12, \"6\": 23, \"5\": 11, \"0\": 12, \"9\": 21, \"3\": 16, \"15\": 21, \"8\": 19, \"11\": 3, \"1\": 9, \"12\": 6, \"10\": 21, \"13\": 11, \"14\": 23}, \"5\": {\"4\": 9, \"14\": 12, \"5\": 23, \"10\": 11, \"9\": 34, \"13\": 30, \"15\": 22, \"3\": 16, \"7\": 12, \"6\": 16, \"2\": 19, \"1\": 3, \"8\": 16, \"12\": 10, \"0\": 4, \"11\": 3}, \"10\": {\"2\": 10, \"4\": 24, \"14\": 22, \"10\": 29, \"8\": 24, \"9\": 15, \"6\": 18, \"0\": 24, \"5\": 4, \"12\": 5, \"1\": 14, \"7\": 16, \"15\": 13, \"3\": 18, \"13\": 4}, \"4\": {\"10\": 22, \"13\": 2, \"3\": 20, \"1\": 24, \"15\": 10, \"7\": 21, \"6\": 8, \"8\": 21, \"12\": 3, \"2\": 17, \"4\": 36, \"14\": 25, \"0\": 18, \"9\": 9, \"5\": 3, \"11\": 1}, \"11\": {\"11\": 115, \"5\": 14, \"12\": 44, \"6\": 4, \"13\": 26, \"15\": 10, \"9\": 11, \"4\": 1, \"14\": 2, \"0\": 2, \"10\": 3, \"3\": 1, \"8\": 4, \"1\": 1, \"2\": 2}, \"13\": {\"13\": 47, \"3\": 19, \"5\": 39, \"2\": 19, \"6\": 17, \"11\": 11, \"8\": 9, \"15\": 20, \"9\": 25, \"0\": 6, \"4\": 6, \"14\": 7, \"7\": 5, \"12\": 5, \"1\": 3, \"10\": 2}, \"2\": {\"11\": 3, \"2\": 25, \"15\": 25, \"5\": 22, \"10\": 17, \"6\": 12, \"9\": 16, \"14\": 11, \"13\": 15, \"8\": 16, \"7\": 17, \"3\": 30, \"1\": 10, \"4\": 8, \"0\": 11, \"12\": 2}, \"0\": {\"4\": 27, \"7\": 18, \"1\": 22, \"0\": 33, \"10\": 25, \"8\": 13, \"9\": 9, \"6\": 17, \"3\": 16, \"2\": 10, \"14\": 31, \"13\": 5, \"15\": 10, \"12\": 3, \"11\": 1}, \"12\": {\"12\": 64, \"13\": 21, \"11\": 22, \"9\": 17, \"15\": 14, \"6\": 29, \"10\": 12, \"5\": 15, \"14\": 9, \"4\": 2, \"2\": 7, \"8\": 14, \"1\": 5, \"7\": 1, \"0\": 7, \"3\": 1}, \"3\": {\"7\": 18, \"14\": 16, \"2\": 27, \"3\": 32, \"13\": 9, \"1\": 13, \"6\": 14, \"15\": 16, \"8\": 19, \"9\": 18, \"10\": 14, \"0\": 18, \"4\": 10, \"5\": 16}, \"9\": {\"3\": 17, \"8\": 20, \"1\": 11, \"14\": 13, \"13\": 24, \"0\": 11, \"2\": 18, \"9\": 22, \"12\": 10, \"4\": 11, \"10\": 15, \"5\": 24, \"6\": 22, \"15\": 8, \"7\": 12, \"11\": 2}, \"8\": {\"12\": 7, \"15\": 21, \"14\": 13, \"10\": 21, \"1\": 15, \"6\": 18, \"5\": 5, \"3\": 16, \"9\": 14, \"7\": 25, \"2\": 18, \"0\": 24, \"8\": 22, \"4\": 15, \"11\": 2, \"13\": 4}, \"1\": {\"1\": 27, \"4\": 25, \"6\": 13, \"9\": 15, \"5\": 6, \"15\": 13, \"10\": 28, \"12\": 5, \"7\": 16, \"13\": 5, \"2\": 19, \"8\": 13, \"0\": 22, \"14\": 22, \"3\": 11}}, \"ORACLE.run1_32\": {\"7\": {\"8\": 17, \"14\": 25, \"4\": 25, \"2\": 28, \"5\": 25, \"13\": 21, \"9\": 10, \"7\": 30, \"11\": 26, \"3\": 8, \"0\": 25}, \"2\": {\"0\": 28, \"9\": 14, \"7\": 41, \"8\": 9, \"4\": 30, \"13\": 16, \"14\": 18, \"11\": 21, \"2\": 46, \"5\": 13, \"3\": 2, \"12\": 2}, \"5\": {\"0\": 21, \"5\": 33, \"11\": 21, \"14\": 19, \"8\": 22, \"3\": 27, \"7\": 35, \"4\": 30, \"13\": 19, \"2\": 10, \"9\": 2, \"15\": 1}, \"6\": {\"10\": 39, \"1\": 17, \"12\": 23, \"6\": 149, \"9\": 12}, \"13\": {\"5\": 29, \"3\": 30, \"13\": 35, \"7\": 11, \"0\": 22, \"8\": 46, \"11\": 18, \"4\": 19, \"2\": 8, \"9\": 4, \"14\": 12, \"15\": 6}, \"4\": {\"13\": 18, \"4\": 36, \"7\": 33, \"14\": 26, \"9\": 8, \"3\": 7, \"0\": 26, \"2\": 37, \"8\": 14, \"5\": 16, \"11\": 17, \"12\": 2}, \"3\": {\"3\": 67, \"13\": 27, \"15\": 24, \"5\": 32, \"8\": 43, \"14\": 8, \"11\": 13, \"0\": 3, \"2\": 3, \"7\": 11, \"4\": 9}, \"0\": {\"0\": 45, \"11\": 30, \"5\": 16, \"2\": 23, \"13\": 18, \"7\": 28, \"9\": 10, \"8\": 23, \"4\": 18, \"3\": 5, \"14\": 24}, \"9\": {\"4\": 16, \"9\": 97, \"12\": 66, \"2\": 23, \"6\": 13, \"5\": 4, \"7\": 7, \"10\": 2, \"0\": 10, \"14\": 1, \"13\": 1}, \"12\": {\"12\": 104, \"9\": 70, \"2\": 6, \"10\": 32, \"6\": 20, \"4\": 4, \"1\": 2, \"14\": 1, \"0\": 1}, \"8\": {\"13\": 32, \"11\": 18, \"5\": 28, \"4\": 20, \"7\": 23, \"0\": 23, \"2\": 7, \"8\": 36, \"3\": 30, \"14\": 15, \"15\": 6, \"12\": 1, \"9\": 1}, \"14\": {\"0\": 34, \"4\": 17, \"14\": 47, \"11\": 47, \"13\": 16, \"2\": 20, \"5\": 14, \"7\": 26, \"9\": 3, \"8\": 9, \"3\": 7}, \"15\": {\"15\": 153, \"3\": 48, \"8\": 18, \"13\": 11, \"5\": 6, \"7\": 1, \"0\": 2, \"4\": 1}, \"11\": {\"11\": 48, \"2\": 25, \"14\": 49, \"5\": 16, \"0\": 14, \"8\": 17, \"13\": 16, \"7\": 34, \"3\": 8, \"4\": 13}, \"10\": {\"1\": 75, \"10\": 126, \"12\": 26, \"6\": 13}, \"1\": {\"10\": 78, \"1\": 143, \"6\": 19}}, \"ORACLE.run1_44\": {\"11\": {\"6\": 36, \"2\": 24, \"11\": 78, \"9\": 18, \"13\": 43, \"1\": 9, \"7\": 20, \"10\": 6, \"4\": 3, \"12\": 2, \"3\": 1}, \"7\": {\"10\": 25, \"6\": 36, \"2\": 36, \"9\": 29, \"1\": 16, \"3\": 7, \"11\": 15, \"13\": 24, \"7\": 36, \"12\": 14, \"4\": 2}, \"6\": {\"11\": 36, \"6\": 65, \"13\": 45, \"4\": 3, \"10\": 10, \"2\": 20, \"14\": 1, \"9\": 38, \"7\": 17, \"12\": 2, \"1\": 3}, \"12\": {\"12\": 64, \"2\": 29, \"10\": 33, \"3\": 32, \"13\": 5, \"1\": 37, \"7\": 16, \"9\": 17, \"11\": 6, \"15\": 1}, \"4\": {\"4\": 66, \"14\": 59, \"15\": 29, \"9\": 9, \"5\": 31, \"0\": 7, \"1\": 3, \"13\": 8, \"8\": 3, \"3\": 11, \"7\": 6, \"2\": 3, \"11\": 2, \"12\": 1, \"6\": 2}, \"13\": {\"13\": 43, \"7\": 27, \"6\": 49, \"9\": 41, \"11\": 20, \"2\": 28, \"4\": 6, \"10\": 11, \"3\": 5, \"12\": 2, \"1\": 6, \"14\": 2}, \"8\": {\"5\": 34, \"15\": 45, \"8\": 73, \"0\": 72, \"14\": 11, \"4\": 4, \"3\": 1}, \"5\": {\"13\": 2, \"5\": 60, \"14\": 35, \"4\": 32, \"0\": 37, \"15\": 45, \"8\": 26, \"3\": 2, \"11\": 1}, \"14\": {\"14\": 67, \"0\": 15, \"5\": 40, \"15\": 32, \"4\": 54, \"2\": 1, \"8\": 9, \"3\": 8, \"9\": 6, \"1\": 3, \"6\": 2, \"13\": 2, \"7\": 1}, \"3\": {\"7\": 10, \"12\": 47, \"1\": 45, \"9\": 13, \"3\": 82, \"2\": 13, \"13\": 3, \"11\": 1, \"15\": 3, \"10\": 4, \"14\": 6, \"4\": 12, \"5\": 1}, \"10\": {\"11\": 10, \"12\": 40, \"10\": 58, \"1\": 26, \"2\": 34, \"3\": 7, \"7\": 27, \"13\": 11, \"6\": 11, \"9\": 16}, \"1\": {\"13\": 9, \"1\": 64, \"10\": 20, \"12\": 52, \"3\": 36, \"2\": 17, \"7\": 23, \"4\": 2, \"9\": 13, \"14\": 2, \"6\": 2}, \"2\": {\"10\": 33, \"7\": 29, \"13\": 22, \"9\": 22, \"12\": 29, \"2\": 33, \"6\": 22, \"1\": 27, \"3\": 7, \"11\": 15, \"4\": 1}, \"15\": {\"14\": 37, \"15\": 64, \"8\": 31, \"0\": 42, \"4\": 24, \"5\": 38, \"3\": 3, \"13\": 1}, \"9\": {\"11\": 15, \"12\": 16, \"10\": 18, \"9\": 34, \"2\": 21, \"13\": 34, \"4\": 12, \"3\": 11, \"7\": 27, \"6\": 28, \"1\": 17, \"14\": 7}, \"0\": {\"0\": 59, \"14\": 27, \"8\": 48, \"15\": 52, \"5\": 42, \"4\": 10, \"3\": 2}}, \"ORACLE.run1_8\": {\"10\": {\"0\": 25, \"4\": 21, \"11\": 14, \"13\": 29, \"5\": 22, \"7\": 20, \"6\": 23, \"1\": 21, \"12\": 2, \"10\": 23, \"8\": 4, \"14\": 24, \"9\": 2, \"2\": 5, \"3\": 3, \"15\": 2}, \"6\": {\"1\": 17, \"14\": 18, \"11\": 17, \"4\": 20, \"8\": 14, \"6\": 22, \"3\": 8, \"15\": 14, \"13\": 27, \"2\": 10, \"0\": 25, \"7\": 15, \"5\": 11, \"10\": 14, \"12\": 8}, \"13\": {\"5\": 27, \"7\": 24, \"8\": 9, \"1\": 11, \"6\": 27, \"11\": 13, \"0\": 23, \"4\": 19, \"13\": 32, \"14\": 14, \"10\": 16, \"15\": 4, \"3\": 8, \"2\": 8, \"12\": 4, \"9\": 1}, \"3\": {\"8\": 17, \"7\": 22, \"12\": 45, \"15\": 28, \"3\": 49, \"11\": 2, \"6\": 14, \"2\": 32, \"4\": 6, \"5\": 1, \"13\": 9, \"14\": 4, \"1\": 2, \"0\": 5, \"10\": 4}, \"9\": {\"5\": 20, \"9\": 155, \"14\": 10, \"10\": 18, \"7\": 4, \"0\": 21, \"13\": 9, \"11\": 1, \"4\": 2}, \"1\": {\"11\": 36, \"1\": 38, \"0\": 7, \"8\": 21, \"13\": 20, \"7\": 17, \"5\": 31, \"15\": 7, \"14\": 16, \"12\": 3, \"6\": 13, \"4\": 17, \"3\": 1, \"10\": 9, \"2\": 4}, \"5\": {\"5\": 42, \"1\": 18, \"10\": 24, \"11\": 20, \"7\": 14, \"8\": 9, \"14\": 31, \"6\": 17, \"12\": 1, \"13\": 24, \"2\": 4, \"4\": 15, \"0\": 13, \"9\": 4, \"3\": 2, \"15\": 2}, \"11\": {\"1\": 27, \"3\": 4, \"12\": 9, \"8\": 31, \"14\": 24, \"4\": 19, \"15\": 11, \"11\": 30, \"2\": 9, \"6\": 13, \"5\": 20, \"7\": 7, \"10\": 15, \"13\": 11, \"0\": 10}, \"4\": {\"14\": 28, \"8\": 11, \"7\": 23, \"1\": 20, \"13\": 23, \"5\": 15, \"6\": 27, \"3\": 8, \"0\": 20, \"4\": 22, \"10\": 22, \"2\": 3, \"11\": 8, \"15\": 7, \"12\": 3}, \"14\": {\"5\": 22, \"10\": 19, \"0\": 16, \"1\": 24, \"11\": 25, \"13\": 21, \"6\": 19, \"7\": 18, \"2\": 13, \"14\": 19, \"4\": 22, \"3\": 5, \"12\": 5, \"8\": 7, \"15\": 4, \"9\": 1}, \"12\": {\"12\": 43, \"8\": 36, \"5\": 5, \"15\": 35, \"2\": 19, \"6\": 10, \"10\": 2, \"3\": 28, \"1\": 9, \"14\": 4, \"4\": 5, \"11\": 17, \"0\": 10, \"7\": 12, \"13\": 5}, \"7\": {\"13\": 25, \"7\": 29, \"11\": 11, \"2\": 21, \"6\": 18, \"14\": 11, \"1\": 8, \"4\": 19, \"15\": 11, \"0\": 23, \"3\": 16, \"8\": 8, \"10\": 18, \"12\": 10, \"5\": 12}, \"0\": {\"1\": 12, \"14\": 19, \"0\": 30, \"5\": 17, \"15\": 7, \"12\": 5, \"13\": 32, \"2\": 14, \"4\": 20, \"7\": 21, \"6\": 25, \"10\": 19, \"3\": 10, \"8\": 4, \"11\": 4, \"9\": 1}, \"15\": {\"1\": 10, \"7\": 16, \"3\": 23, \"15\": 37, \"12\": 36, \"11\": 11, \"6\": 9, \"13\": 11, \"8\": 25, \"2\": 21, \"4\": 12, \"14\": 11, \"5\": 3, \"0\": 11, \"10\": 4}, \"2\": {\"7\": 22, \"3\": 34, \"0\": 14, \"10\": 8, \"15\": 11, \"12\": 14, \"2\": 46, \"8\": 22, \"6\": 16, \"13\": 15, \"4\": 20, \"5\": 5, \"14\": 7, \"1\": 4, \"11\": 2}, \"8\": {\"4\": 12, \"1\": 25, \"15\": 35, \"5\": 6, \"6\": 10, \"8\": 34, \"13\": 9, \"3\": 14, \"12\": 27, \"11\": 20, \"7\": 14, \"10\": 12, \"2\": 11, \"0\": 5, \"14\": 6}}, \"ORACLE.run1_38\": {\"4\": {\"0\": 3, \"10\": 6, \"12\": 72, \"4\": 138, \"7\": 5, \"11\": 10, \"14\": 5, \"5\": 1}, \"7\": {\"8\": 33, \"3\": 12, \"6\": 6, \"7\": 62, \"4\": 10, \"0\": 32, \"11\": 4, \"12\": 10, \"1\": 2, \"9\": 15, \"10\": 16, \"13\": 6, \"5\": 17, \"15\": 8, \"2\": 4, \"14\": 3}, \"12\": {\"12\": 110, \"0\": 15, \"4\": 47, \"10\": 16, \"11\": 14, \"14\": 22, \"2\": 4, \"8\": 5, \"5\": 1, \"7\": 5, \"15\": 1}, \"10\": {\"6\": 6, \"15\": 18, \"8\": 31, \"7\": 16, \"14\": 24, \"11\": 15, \"5\": 20, \"13\": 12, \"10\": 39, \"2\": 9, \"9\": 12, \"4\": 8, \"0\": 14, \"3\": 2, \"12\": 11, \"1\": 3}, \"0\": {\"9\": 10, \"10\": 17, \"0\": 35, \"5\": 23, \"8\": 48, \"3\": 27, \"7\": 25, \"12\": 12, \"15\": 9, \"13\": 8, \"14\": 5, \"6\": 5, \"1\": 5, \"2\": 5, \"11\": 3, \"4\": 3}, \"1\": {\"8\": 18, \"1\": 66, \"6\": 39, \"5\": 10, \"15\": 38, \"9\": 16, \"13\": 33, \"3\": 2, \"10\": 4, \"0\": 2, \"2\": 9, \"7\": 1, \"11\": 1, \"12\": 1}, \"5\": {\"8\": 31, \"15\": 18, \"13\": 17, \"7\": 20, \"5\": 25, \"3\": 9, \"1\": 11, \"6\": 37, \"11\": 2, \"2\": 4, \"9\": 28, \"0\": 17, \"10\": 19, \"12\": 2}, \"15\": {\"9\": 16, \"1\": 26, \"6\": 23, \"13\": 35, \"2\": 28, \"10\": 15, \"15\": 34, \"5\": 17, \"8\": 16, \"0\": 12, \"14\": 11, \"11\": 3, \"7\": 3, \"3\": 1}, \"9\": {\"9\": 74, \"8\": 15, \"6\": 54, \"13\": 9, \"7\": 8, \"5\": 24, \"0\": 13, \"3\": 15, \"1\": 15, \"10\": 1, \"15\": 11, \"2\": 1}, \"11\": {\"14\": 69, \"11\": 105, \"12\": 13, \"7\": 5, \"4\": 16, \"10\": 16, \"2\": 8, \"5\": 1, \"15\": 2, \"8\": 2, \"3\": 1, \"0\": 1, \"13\": 1}, \"14\": {\"14\": 75, \"9\": 1, \"11\": 53, \"2\": 33, \"5\": 3, \"0\": 7, \"4\": 4, \"13\": 8, \"10\": 26, \"15\": 5, \"12\": 12, \"8\": 9, \"3\": 1, \"7\": 1, \"6\": 1, \"1\": 1}, \"6\": {\"7\": 4, \"9\": 45, \"15\": 19, \"5\": 19, \"1\": 35, \"0\": 9, \"6\": 66, \"8\": 17, \"10\": 7, \"13\": 12, \"2\": 4, \"3\": 3}, \"8\": {\"8\": 35, \"3\": 12, \"6\": 26, \"14\": 4, \"2\": 5, \"1\": 7, \"13\": 16, \"7\": 23, \"15\": 18, \"0\": 29, \"10\": 16, \"5\": 32, \"12\": 2, \"9\": 15}, \"3\": {\"0\": 41, \"9\": 25, \"7\": 25, \"3\": 86, \"8\": 19, \"6\": 7, \"5\": 14, \"1\": 2, \"10\": 9, \"12\": 5, \"4\": 1, \"13\": 2, \"15\": 3, \"14\": 1}, \"2\": {\"1\": 19, \"9\": 4, \"2\": 75, \"10\": 16, \"5\": 9, \"15\": 29, \"13\": 34, \"14\": 19, \"8\": 15, \"6\": 6, \"11\": 11, \"0\": 2, \"12\": 1}, \"13\": {\"1\": 36, \"15\": 34, \"13\": 42, \"14\": 13, \"5\": 18, \"2\": 24, \"10\": 12, \"6\": 15, \"9\": 16, \"3\": 4, \"8\": 11, \"0\": 9, \"11\": 1, \"7\": 4, \"12\": 1}}}, \"per_domain_accuracy\": {\"C_A_4\": {\"accuracy\": 0.9984375, \"source?\": true}, \"W_A_3\": {\"accuracy\": 0.966796875, \"source?\": true}, \"W_A_4\": {\"accuracy\": 0.94140625, \"source?\": true}, \"W_A_2\": {\"accuracy\": 0.9440104166666666, \"source?\": true}, \"C_A_5\": {\"accuracy\": 0.996875, \"source?\": true}, \"C_A_2\": {\"accuracy\": 0.9984375, \"source?\": true}, \"W_A_1\": {\"accuracy\": 0.964095744680851, \"source?\": true}, \"C_A_1\": {\"accuracy\": 0.99375, \"source?\": true}, \"C_A_3\": {\"accuracy\": 0.9984375, \"source?\": true}, \"ORACLE.run1_14\": {\"accuracy\": 0.20104166666666667, \"source?\": false}, \"ORACLE.run1_20\": {\"accuracy\": 0.10598958333333333, \"source?\": false}, \"ORACLE.run1_50\": {\"accuracy\": 0.21197916666666666, \"source?\": false}, \"ORACLE.run1_26\": {\"accuracy\": 0.14713541666666666, \"source?\": false}, \"ORACLE.run1_32\": {\"accuracy\": 0.3111979166666667, \"source?\": false}, \"ORACLE.run1_44\": {\"accuracy\": 0.24635416666666668, \"source?\": false}, \"ORACLE.run1_8\": {\"accuracy\": 0.16953125, \"source?\": false}, \"ORACLE.run1_38\": {\"accuracy\": 0.27786458333333336, \"source?\": false}}}, \"history\": {\"epoch_indices\": [1, 2, 3, 4, 5, 6, 7, 8, 9], \"train_label_loss\": [0.36312638226646904, 0.181974977933584, 0.13831883729019584, 0.10997987896793207, 0.09312352456823635, 0.07566271476800197, 0.06094109294429673, 0.05159345637151079, 0.044636774196770375], \"source_val_label_loss\": [0.24974863231182098, 0.16352616250514984, 0.14868144690990448, 0.1652776300907135, 0.1406683474779129, 0.13335978984832764, 0.13540250062942505, 0.1318257749080658, 0.13795073330402374], \"target_val_label_loss\": [2.5638325214385986, 2.4522159099578857, 2.460249185562134, 2.6893889904022217, 2.4263601303100586, 2.600085735321045, 2.7501513957977295, 3.029282331466675, 2.7759134769439697], \"source_val_acc_label\": [0.9425472508591065, 0.9617697594501718, 0.9674613402061856, 0.9661726804123711, 0.9688573883161512, 0.9705756013745704, 0.9706829896907216, 0.9742268041237113, 0.9730455326460481], \"target_val_acc_label\": [0.17571614583333334, 0.20341796875, 0.20771484375, 0.17565104166666667, 0.20888671875, 0.19700520833333332, 0.17568359375, 0.15634765625, 0.17981770833333333]}, \"dataset_metrics\": {\"source\": {\"train\": {\"n_unique_x\": 56699, \"n_unique_y\": 130, \"n_batch/episode\": 2077}, \"val\": {\"n_unique_x\": 12121, \"n_unique_y\": 130, \"n_batch/episode\": 291}, \"test\": {\"n_unique_x\": 12121, \"n_unique_y\": 130, \"n_batch/episode\": 291}}, \"target\": {\"train\": {\"n_unique_x\": 179200, \"n_unique_y\": 16, \"n_batch/episode\": 6720}, \"val\": {\"n_unique_x\": 38400, \"n_unique_y\": 16, \"n_batch/episode\": 960}, \"test\": {\"n_unique_x\": 38400, \"n_unique_y\": 16, \"n_batch/episode\": 960}}}}'"
      ]
     },
     "execution_count": 29,
     "metadata": {},
     "output_type": "execute_result"
    }
   ],
   "source": [
    "json.dumps(experiment)"
   ]
  }
 ],
 "metadata": {
  "celltoolbar": "Tags",
  "kernelspec": {
   "display_name": "Python 3 (ipykernel)",
   "language": "python",
   "name": "python3"
  },
  "language_info": {
   "codemirror_mode": {
    "name": "ipython",
    "version": 3
   },
   "file_extension": ".py",
   "mimetype": "text/x-python",
   "name": "python",
   "nbconvert_exporter": "python",
   "pygments_lexer": "ipython3",
   "version": "3.8.10"
  },
  "papermill": {
   "default_parameters": {},
   "duration": 612.968,
   "end_time": "2022-03-18T22:05:21.545647",
   "environment_variables": {},
   "exception": null,
   "input_path": "/mnt/wd500GB/CSC500/csc500-main/csc500-notebooks/templates/tl_ptn_template.ipynb",
   "output_path": "trial.ipynb",
   "parameters": {
    "parameters": {
     "BEST_MODEL_PATH": "./best_model.pth",
     "NUM_LOGS_PER_EPOCH": 10,
     "criteria_for_best": "target_loss",
     "dataset_seed": 420,
     "datasets": [
      {
       "domain_prefix": "C_A_",
       "domains": [
        1,
        2,
        3,
        4,
        5
       ],
       "episode_transforms": [],
       "labels": [
        "1-10.",
        "1-11.",
        "1-15.",
        "1-16.",
        "1-17.",
        "1-18.",
        "1-19.",
        "10-4.",
        "10-7.",
        "11-1.",
        "11-14.",
        "11-17.",
        "11-20.",
        "11-7.",
        "13-20.",
        "13-8.",
        "14-10.",
        "14-11.",
        "14-14.",
        "14-7.",
        "15-1.",
        "15-20.",
        "16-1.",
        "16-16.",
        "17-10.",
        "17-11.",
        "17-2.",
        "19-1.",
        "19-16.",
        "19-19.",
        "19-20.",
        "19-3.",
        "2-10.",
        "2-11.",
        "2-17.",
        "2-18.",
        "2-20.",
        "2-3.",
        "2-4.",
        "2-5.",
        "2-6.",
        "2-7.",
        "2-8.",
        "3-13.",
        "3-18.",
        "3-3.",
        "4-1.",
        "4-10.",
        "4-11.",
        "4-19.",
        "5-5.",
        "6-15.",
        "7-10.",
        "7-14.",
        "8-18.",
        "8-20.",
        "8-3.",
        "8-8."
       ],
       "num_examples_per_domain_per_label": 100,
       "pickle_path": "/mnt/wd500GB/CSC500/csc500-main/datasets/cores.stratified_ds.2022A.pkl",
       "source_or_target_dataset": "source",
       "x_transforms": [
        "unit_mag",
        "take_200"
       ]
      },
      {
       "domain_prefix": "W_A_",
       "domains": [
        1,
        2,
        3,
        4
       ],
       "episode_transforms": [],
       "labels": [
        "1-10",
        "1-12",
        "1-14",
        "1-16",
        "1-18",
        "1-19",
        "1-8",
        "10-11",
        "10-17",
        "10-4",
        "10-7",
        "11-1",
        "11-10",
        "11-19",
        "11-20",
        "11-4",
        "11-7",
        "12-19",
        "12-20",
        "12-7",
        "13-14",
        "13-18",
        "13-19",
        "13-20",
        "13-3",
        "13-7",
        "14-10",
        "14-11",
        "14-12",
        "14-13",
        "14-14",
        "14-19",
        "14-20",
        "14-7",
        "14-8",
        "14-9",
        "15-1",
        "15-19",
        "15-6",
        "16-1",
        "16-16",
        "16-19",
        "16-20",
        "17-10",
        "17-11",
        "18-1",
        "18-10",
        "18-11",
        "18-12",
        "18-13",
        "18-14",
        "18-15",
        "18-16",
        "18-17",
        "18-19",
        "18-2",
        "18-20",
        "18-4",
        "18-5",
        "18-7",
        "18-8",
        "18-9",
        "19-1",
        "19-10",
        "19-11",
        "19-12",
        "19-13",
        "19-14",
        "19-15",
        "19-19",
        "19-2",
        "19-20",
        "19-3",
        "19-4",
        "19-6",
        "19-7",
        "19-8",
        "19-9",
        "2-1",
        "2-13",
        "2-15",
        "2-3",
        "2-4",
        "2-5",
        "2-6",
        "2-7",
        "2-8",
        "20-1",
        "20-12",
        "20-14",
        "20-15",
        "20-16",
        "20-18",
        "20-19",
        "20-20",
        "20-3",
        "20-4",
        "20-5",
        "20-7",
        "20-8",
        "3-1",
        "3-13",
        "3-18",
        "3-2",
        "3-8",
        "4-1",
        "4-10",
        "4-11",
        "5-1",
        "5-5",
        "6-1",
        "6-15",
        "6-6",
        "7-10",
        "7-11",
        "7-12",
        "7-13",
        "7-14",
        "7-7",
        "7-8",
        "7-9",
        "8-1",
        "8-13",
        "8-14",
        "8-18",
        "8-20",
        "8-3",
        "8-8",
        "9-1",
        "9-7"
       ],
       "num_examples_per_domain_per_label": 100,
       "pickle_path": "/mnt/wd500GB/CSC500/csc500-main/datasets/wisig.node3-19.stratified_ds.2022A.pkl",
       "source_or_target_dataset": "source",
       "x_transforms": [
        "unit_mag",
        "take_200"
       ]
      },
      {
       "domain_prefix": "ORACLE.run1_",
       "domains": [
        32,
        38,
        8,
        44,
        14,
        50,
        20,
        26
       ],
       "episode_transforms": [],
       "labels": [
        "3123D52",
        "3123D65",
        "3123D79",
        "3123D80",
        "3123D54",
        "3123D70",
        "3123D7B",
        "3123D89",
        "3123D58",
        "3123D76",
        "3123D7D",
        "3123EFE",
        "3123D64",
        "3123D78",
        "3123D7E",
        "3124E4A"
       ],
       "num_examples_per_domain_per_label": 2000,
       "pickle_path": "/mnt/wd500GB/CSC500/csc500-main/datasets/oracle.Run1_framed_2000Examples_stratified_ds.2022A.pkl",
       "source_or_target_dataset": "target",
       "x_transforms": [
        "unit_mag",
        "take_200",
        "resample_20Msps_to_25Msps"
       ]
      }
     ],
     "device": "cuda",
     "experiment_name": "tl_3A:cores+wisig -> oracle.run1.framed",
     "lr": 0.001,
     "n_epoch": 50,
     "n_query": 2,
     "n_shot": 3,
     "n_way": 16,
     "patience": 3,
     "seed": 420,
     "test_k_factor": 2,
     "torch_default_dtype": "torch.float32",
     "train_k_factor": 3,
     "val_k_factor": 2,
     "x_net": [
      {
       "class": "nnReshape",
       "kargs": {
        "shape": [
         -1,
         1,
         2,
         200
        ]
       }
      },
      {
       "class": "Conv2d",
       "kargs": {
        "bias": false,
        "in_channels": 1,
        "kernel_size": [
         1,
         7
        ],
        "out_channels": 256,
        "padding": [
         0,
         3
        ]
       }
      },
      {
       "class": "ReLU",
       "kargs": {
        "inplace": true
       }
      },
      {
       "class": "BatchNorm2d",
       "kargs": {
        "num_features": 256
       }
      },
      {
       "class": "Conv2d",
       "kargs": {
        "bias": true,
        "in_channels": 256,
        "kernel_size": [
         2,
         7
        ],
        "out_channels": 80,
        "padding": [
         0,
         3
        ]
       }
      },
      {
       "class": "ReLU",
       "kargs": {
        "inplace": true
       }
      },
      {
       "class": "BatchNorm2d",
       "kargs": {
        "num_features": 80
       }
      },
      {
       "class": "Flatten",
       "kargs": {}
      },
      {
       "class": "Linear",
       "kargs": {
        "in_features": 16000,
        "out_features": 256
       }
      },
      {
       "class": "ReLU",
       "kargs": {
        "inplace": true
       }
      },
      {
       "class": "BatchNorm1d",
       "kargs": {
        "num_features": 256
       }
      },
      {
       "class": "Linear",
       "kargs": {
        "in_features": 256,
        "out_features": 256
       }
      }
     ],
     "x_shape": [
      2,
      200
     ]
    }
   },
   "start_time": "2022-03-18T21:55:08.577647",
   "version": "2.3.4"
  }
 },
 "nbformat": 4,
 "nbformat_minor": 5
}