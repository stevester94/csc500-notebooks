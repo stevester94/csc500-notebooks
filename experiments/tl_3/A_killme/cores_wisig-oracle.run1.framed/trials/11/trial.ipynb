{
 "cells": [
  {
   "cell_type": "markdown",
   "id": "9fea5f46",
   "metadata": {
    "papermill": {
     "duration": 0.018384,
     "end_time": "2022-03-18T22:59:05.082564",
     "exception": false,
     "start_time": "2022-03-18T22:59:05.064180",
     "status": "completed"
    },
    "tags": []
   },
   "source": [
    "# Transfer Learning Template"
   ]
  },
  {
   "cell_type": "code",
   "execution_count": 1,
   "id": "0902182a",
   "metadata": {
    "execution": {
     "iopub.execute_input": "2022-03-18T22:59:05.114289Z",
     "iopub.status.busy": "2022-03-18T22:59:05.114032Z",
     "iopub.status.idle": "2022-03-18T22:59:06.026312Z",
     "shell.execute_reply": "2022-03-18T22:59:06.026069Z"
    },
    "papermill": {
     "duration": 0.931318,
     "end_time": "2022-03-18T22:59:06.026369",
     "exception": false,
     "start_time": "2022-03-18T22:59:05.095051",
     "status": "completed"
    },
    "tags": []
   },
   "outputs": [],
   "source": [
    "%load_ext autoreload\n",
    "%autoreload 2\n",
    "%matplotlib inline\n",
    "\n",
    "    \n",
    "import os, json, sys, time, random\n",
    "import numpy as np\n",
    "import torch\n",
    "from torch.optim import Adam\n",
    "from  easydict import EasyDict\n",
    "import matplotlib.pyplot as plt\n",
    "\n",
    "from steves_models.steves_ptn import Steves_Prototypical_Network\n",
    "\n",
    "from steves_utils.lazy_iterable_wrapper import Lazy_Iterable_Wrapper\n",
    "from steves_utils.iterable_aggregator import Iterable_Aggregator\n",
    "from steves_utils.ptn_train_eval_test_jig import  PTN_Train_Eval_Test_Jig\n",
    "from steves_utils.torch_sequential_builder import build_sequential\n",
    "from steves_utils.torch_utils import get_dataset_metrics, ptn_confusion_by_domain_over_dataloader\n",
    "from steves_utils.utils_v2 import (per_domain_accuracy_from_confusion, get_datasets_base_path)\n",
    "from steves_utils.PTN.utils import independent_accuracy_assesment\n",
    "\n",
    "from torch.utils.data import DataLoader\n",
    "\n",
    "from steves_utils.stratified_dataset.episodic_accessor import Episodic_Accessor_Factory\n",
    "\n",
    "from steves_utils.ptn_do_report import (\n",
    "    get_loss_curve,\n",
    "    get_results_table,\n",
    "    get_parameters_table,\n",
    "    get_domain_accuracies,\n",
    ")\n",
    "\n",
    "from steves_utils.transforms import get_chained_transform"
   ]
  },
  {
   "cell_type": "markdown",
   "id": "41c840b4",
   "metadata": {
    "papermill": {
     "duration": 0.012505,
     "end_time": "2022-03-18T22:59:06.051791",
     "exception": false,
     "start_time": "2022-03-18T22:59:06.039286",
     "status": "completed"
    },
    "tags": []
   },
   "source": [
    "# Allowed Parameters\n",
    "These are allowed parameters, not defaults\n",
    "Each of these values need to be present in the injected parameters (the notebook will raise an exception if they are not present)\n",
    "\n",
    "Papermill uses the cell tag \"parameters\" to inject the real parameters below this cell.\n",
    "Enable tags to see what I mean"
   ]
  },
  {
   "cell_type": "code",
   "execution_count": 2,
   "id": "fd44eb83",
   "metadata": {
    "execution": {
     "iopub.execute_input": "2022-03-18T22:59:06.079752Z",
     "iopub.status.busy": "2022-03-18T22:59:06.079493Z",
     "iopub.status.idle": "2022-03-18T22:59:06.093958Z",
     "shell.execute_reply": "2022-03-18T22:59:06.094168Z"
    },
    "papermill": {
     "duration": 0.029897,
     "end_time": "2022-03-18T22:59:06.094225",
     "exception": false,
     "start_time": "2022-03-18T22:59:06.064328",
     "status": "completed"
    },
    "tags": []
   },
   "outputs": [],
   "source": [
    "required_parameters = {\n",
    "    \"experiment_name\",\n",
    "    \"lr\",\n",
    "    \"device\",\n",
    "    \"seed\",\n",
    "    \"dataset_seed\",\n",
    "    \"n_shot\",\n",
    "    \"n_query\",\n",
    "    \"n_way\",\n",
    "    \"train_k_factor\",\n",
    "    \"val_k_factor\",\n",
    "    \"test_k_factor\",\n",
    "    \"n_epoch\",\n",
    "    \"patience\",\n",
    "    \"criteria_for_best\",\n",
    "    \"x_net\",\n",
    "    \"datasets\",\n",
    "    \"torch_default_dtype\",\n",
    "    \"NUM_LOGS_PER_EPOCH\",\n",
    "    \"BEST_MODEL_PATH\",\n",
    "    \"x_shape\",\n",
    "}"
   ]
  },
  {
   "cell_type": "code",
   "execution_count": 3,
   "id": "fa3f0049",
   "metadata": {
    "execution": {
     "iopub.execute_input": "2022-03-18T22:59:06.130221Z",
     "iopub.status.busy": "2022-03-18T22:59:06.126748Z",
     "iopub.status.idle": "2022-03-18T22:59:06.142447Z",
     "shell.execute_reply": "2022-03-18T22:59:06.142650Z"
    },
    "papermill": {
     "duration": 0.035716,
     "end_time": "2022-03-18T22:59:06.142706",
     "exception": false,
     "start_time": "2022-03-18T22:59:06.106990",
     "status": "completed"
    },
    "tags": [
     "parameters"
    ]
   },
   "outputs": [],
   "source": [
    "from steves_utils.CORES.utils import (\n",
    "    ALL_NODES,\n",
    "    ALL_NODES_MINIMUM_1000_EXAMPLES,\n",
    "    ALL_DAYS\n",
    ")\n",
    "\n",
    "from steves_utils.ORACLE.utils_v2 import (\n",
    "    ALL_DISTANCES_FEET_NARROWED,\n",
    "    ALL_RUNS,\n",
    "    ALL_SERIAL_NUMBERS,\n",
    ")\n",
    "\n",
    "standalone_parameters = {}\n",
    "standalone_parameters[\"experiment_name\"] = \"STANDALONE PTN\"\n",
    "standalone_parameters[\"lr\"] = 0.001\n",
    "standalone_parameters[\"device\"] = \"cuda\"\n",
    "\n",
    "standalone_parameters[\"seed\"] = 1337\n",
    "standalone_parameters[\"dataset_seed\"] = 1337\n",
    "\n",
    "standalone_parameters[\"n_way\"] = 8\n",
    "standalone_parameters[\"n_shot\"] = 3\n",
    "standalone_parameters[\"n_query\"]  = 2\n",
    "standalone_parameters[\"train_k_factor\"] = 1\n",
    "standalone_parameters[\"val_k_factor\"] = 2\n",
    "standalone_parameters[\"test_k_factor\"] = 2\n",
    "\n",
    "\n",
    "standalone_parameters[\"n_epoch\"] = 50\n",
    "\n",
    "standalone_parameters[\"patience\"] = 10\n",
    "standalone_parameters[\"criteria_for_best\"] = \"source_loss\"\n",
    "\n",
    "standalone_parameters[\"datasets\"] = [\n",
    "    {\n",
    "        \"labels\": ALL_SERIAL_NUMBERS,\n",
    "        \"domains\": ALL_DISTANCES_FEET_NARROWED,\n",
    "        \"num_examples_per_domain_per_label\": 100,\n",
    "        \"pickle_path\": os.path.join(get_datasets_base_path(), \"oracle.Run1_framed_2000Examples_stratified_ds.2022A.pkl\"),\n",
    "        \"source_or_target_dataset\": \"source\",\n",
    "        \"x_transforms\": [\"unit_mag\", \"minus_two\"],\n",
    "        \"episode_transforms\": [],\n",
    "        \"domain_prefix\": \"ORACLE_\"\n",
    "    },\n",
    "    {\n",
    "        \"labels\": ALL_NODES,\n",
    "        \"domains\": ALL_DAYS,\n",
    "        \"num_examples_per_domain_per_label\": 100,\n",
    "        \"pickle_path\": os.path.join(get_datasets_base_path(), \"cores.stratified_ds.2022A.pkl\"),\n",
    "        \"source_or_target_dataset\": \"target\",\n",
    "        \"x_transforms\": [\"unit_power\", \"times_zero\"],\n",
    "        \"episode_transforms\": [],\n",
    "        \"domain_prefix\": \"CORES_\"\n",
    "    }   \n",
    "]\n",
    "\n",
    "standalone_parameters[\"torch_default_dtype\"] = \"torch.float32\" \n",
    "\n",
    "\n",
    "\n",
    "standalone_parameters[\"x_net\"] =     [\n",
    "    {\"class\": \"nnReshape\", \"kargs\": {\"shape\":[-1, 1, 2, 256]}},\n",
    "    {\"class\": \"Conv2d\", \"kargs\": { \"in_channels\":1, \"out_channels\":256, \"kernel_size\":(1,7), \"bias\":False, \"padding\":(0,3), },},\n",
    "    {\"class\": \"ReLU\", \"kargs\": {\"inplace\": True}},\n",
    "    {\"class\": \"BatchNorm2d\", \"kargs\": {\"num_features\":256}},\n",
    "\n",
    "    {\"class\": \"Conv2d\", \"kargs\": { \"in_channels\":256, \"out_channels\":80, \"kernel_size\":(2,7), \"bias\":True, \"padding\":(0,3), },},\n",
    "    {\"class\": \"ReLU\", \"kargs\": {\"inplace\": True}},\n",
    "    {\"class\": \"BatchNorm2d\", \"kargs\": {\"num_features\":80}},\n",
    "    {\"class\": \"Flatten\", \"kargs\": {}},\n",
    "\n",
    "    {\"class\": \"Linear\", \"kargs\": {\"in_features\": 80*256, \"out_features\": 256}}, # 80 units per IQ pair\n",
    "    {\"class\": \"ReLU\", \"kargs\": {\"inplace\": True}},\n",
    "    {\"class\": \"BatchNorm1d\", \"kargs\": {\"num_features\":256}},\n",
    "\n",
    "    {\"class\": \"Linear\", \"kargs\": {\"in_features\": 256, \"out_features\": 256}},\n",
    "]\n",
    "\n",
    "# Parameters relevant to results\n",
    "# These parameters will basically never need to change\n",
    "standalone_parameters[\"NUM_LOGS_PER_EPOCH\"] = 10\n",
    "standalone_parameters[\"BEST_MODEL_PATH\"] = \"./best_model.pth\"\n",
    "\n",
    "\n",
    "\n",
    "\n"
   ]
  },
  {
   "cell_type": "code",
   "execution_count": 4,
   "id": "b997926b",
   "metadata": {
    "execution": {
     "iopub.execute_input": "2022-03-18T22:59:06.182526Z",
     "iopub.status.busy": "2022-03-18T22:59:06.182186Z",
     "iopub.status.idle": "2022-03-18T22:59:06.195165Z",
     "shell.execute_reply": "2022-03-18T22:59:06.194918Z"
    },
    "papermill": {
     "duration": 0.039798,
     "end_time": "2022-03-18T22:59:06.195214",
     "exception": false,
     "start_time": "2022-03-18T22:59:06.155416",
     "status": "completed"
    },
    "tags": [
     "injected-parameters"
    ]
   },
   "outputs": [],
   "source": [
    "# Parameters\n",
    "parameters = {\n",
    "    \"experiment_name\": \"tl_3A:cores+wisig -> oracle.run1.framed\",\n",
    "    \"device\": \"cuda\",\n",
    "    \"lr\": 0.001,\n",
    "    \"x_shape\": [2, 200],\n",
    "    \"n_shot\": 3,\n",
    "    \"n_query\": 2,\n",
    "    \"train_k_factor\": 3,\n",
    "    \"val_k_factor\": 2,\n",
    "    \"test_k_factor\": 2,\n",
    "    \"torch_default_dtype\": \"torch.float32\",\n",
    "    \"n_epoch\": 50,\n",
    "    \"patience\": 3,\n",
    "    \"criteria_for_best\": \"target_loss\",\n",
    "    \"x_net\": [\n",
    "        {\"class\": \"nnReshape\", \"kargs\": {\"shape\": [-1, 1, 2, 200]}},\n",
    "        {\n",
    "            \"class\": \"Conv2d\",\n",
    "            \"kargs\": {\n",
    "                \"in_channels\": 1,\n",
    "                \"out_channels\": 256,\n",
    "                \"kernel_size\": [1, 7],\n",
    "                \"bias\": False,\n",
    "                \"padding\": [0, 3],\n",
    "            },\n",
    "        },\n",
    "        {\"class\": \"ReLU\", \"kargs\": {\"inplace\": True}},\n",
    "        {\"class\": \"BatchNorm2d\", \"kargs\": {\"num_features\": 256}},\n",
    "        {\n",
    "            \"class\": \"Conv2d\",\n",
    "            \"kargs\": {\n",
    "                \"in_channels\": 256,\n",
    "                \"out_channels\": 80,\n",
    "                \"kernel_size\": [2, 7],\n",
    "                \"bias\": True,\n",
    "                \"padding\": [0, 3],\n",
    "            },\n",
    "        },\n",
    "        {\"class\": \"ReLU\", \"kargs\": {\"inplace\": True}},\n",
    "        {\"class\": \"BatchNorm2d\", \"kargs\": {\"num_features\": 80}},\n",
    "        {\"class\": \"Flatten\", \"kargs\": {}},\n",
    "        {\"class\": \"Linear\", \"kargs\": {\"in_features\": 16000, \"out_features\": 256}},\n",
    "        {\"class\": \"ReLU\", \"kargs\": {\"inplace\": True}},\n",
    "        {\"class\": \"BatchNorm1d\", \"kargs\": {\"num_features\": 256}},\n",
    "        {\"class\": \"Linear\", \"kargs\": {\"in_features\": 256, \"out_features\": 256}},\n",
    "    ],\n",
    "    \"NUM_LOGS_PER_EPOCH\": 10,\n",
    "    \"BEST_MODEL_PATH\": \"./best_model.pth\",\n",
    "    \"n_way\": 16,\n",
    "    \"datasets\": [\n",
    "        {\n",
    "            \"labels\": [\n",
    "                \"1-10.\",\n",
    "                \"1-11.\",\n",
    "                \"1-15.\",\n",
    "                \"1-16.\",\n",
    "                \"1-17.\",\n",
    "                \"1-18.\",\n",
    "                \"1-19.\",\n",
    "                \"10-4.\",\n",
    "                \"10-7.\",\n",
    "                \"11-1.\",\n",
    "                \"11-14.\",\n",
    "                \"11-17.\",\n",
    "                \"11-20.\",\n",
    "                \"11-7.\",\n",
    "                \"13-20.\",\n",
    "                \"13-8.\",\n",
    "                \"14-10.\",\n",
    "                \"14-11.\",\n",
    "                \"14-14.\",\n",
    "                \"14-7.\",\n",
    "                \"15-1.\",\n",
    "                \"15-20.\",\n",
    "                \"16-1.\",\n",
    "                \"16-16.\",\n",
    "                \"17-10.\",\n",
    "                \"17-11.\",\n",
    "                \"17-2.\",\n",
    "                \"19-1.\",\n",
    "                \"19-16.\",\n",
    "                \"19-19.\",\n",
    "                \"19-20.\",\n",
    "                \"19-3.\",\n",
    "                \"2-10.\",\n",
    "                \"2-11.\",\n",
    "                \"2-17.\",\n",
    "                \"2-18.\",\n",
    "                \"2-20.\",\n",
    "                \"2-3.\",\n",
    "                \"2-4.\",\n",
    "                \"2-5.\",\n",
    "                \"2-6.\",\n",
    "                \"2-7.\",\n",
    "                \"2-8.\",\n",
    "                \"3-13.\",\n",
    "                \"3-18.\",\n",
    "                \"3-3.\",\n",
    "                \"4-1.\",\n",
    "                \"4-10.\",\n",
    "                \"4-11.\",\n",
    "                \"4-19.\",\n",
    "                \"5-5.\",\n",
    "                \"6-15.\",\n",
    "                \"7-10.\",\n",
    "                \"7-14.\",\n",
    "                \"8-18.\",\n",
    "                \"8-20.\",\n",
    "                \"8-3.\",\n",
    "                \"8-8.\",\n",
    "            ],\n",
    "            \"domains\": [1, 2, 3, 4, 5],\n",
    "            \"num_examples_per_domain_per_label\": 100,\n",
    "            \"pickle_path\": \"/mnt/wd500GB/CSC500/csc500-main/datasets/cores.stratified_ds.2022A.pkl\",\n",
    "            \"source_or_target_dataset\": \"source\",\n",
    "            \"x_transforms\": [\"take_200\"],\n",
    "            \"episode_transforms\": [],\n",
    "            \"domain_prefix\": \"C_A_\",\n",
    "        },\n",
    "        {\n",
    "            \"labels\": [\n",
    "                \"1-10\",\n",
    "                \"1-12\",\n",
    "                \"1-14\",\n",
    "                \"1-16\",\n",
    "                \"1-18\",\n",
    "                \"1-19\",\n",
    "                \"1-8\",\n",
    "                \"10-11\",\n",
    "                \"10-17\",\n",
    "                \"10-4\",\n",
    "                \"10-7\",\n",
    "                \"11-1\",\n",
    "                \"11-10\",\n",
    "                \"11-19\",\n",
    "                \"11-20\",\n",
    "                \"11-4\",\n",
    "                \"11-7\",\n",
    "                \"12-19\",\n",
    "                \"12-20\",\n",
    "                \"12-7\",\n",
    "                \"13-14\",\n",
    "                \"13-18\",\n",
    "                \"13-19\",\n",
    "                \"13-20\",\n",
    "                \"13-3\",\n",
    "                \"13-7\",\n",
    "                \"14-10\",\n",
    "                \"14-11\",\n",
    "                \"14-12\",\n",
    "                \"14-13\",\n",
    "                \"14-14\",\n",
    "                \"14-19\",\n",
    "                \"14-20\",\n",
    "                \"14-7\",\n",
    "                \"14-8\",\n",
    "                \"14-9\",\n",
    "                \"15-1\",\n",
    "                \"15-19\",\n",
    "                \"15-6\",\n",
    "                \"16-1\",\n",
    "                \"16-16\",\n",
    "                \"16-19\",\n",
    "                \"16-20\",\n",
    "                \"17-10\",\n",
    "                \"17-11\",\n",
    "                \"18-1\",\n",
    "                \"18-10\",\n",
    "                \"18-11\",\n",
    "                \"18-12\",\n",
    "                \"18-13\",\n",
    "                \"18-14\",\n",
    "                \"18-15\",\n",
    "                \"18-16\",\n",
    "                \"18-17\",\n",
    "                \"18-19\",\n",
    "                \"18-2\",\n",
    "                \"18-20\",\n",
    "                \"18-4\",\n",
    "                \"18-5\",\n",
    "                \"18-7\",\n",
    "                \"18-8\",\n",
    "                \"18-9\",\n",
    "                \"19-1\",\n",
    "                \"19-10\",\n",
    "                \"19-11\",\n",
    "                \"19-12\",\n",
    "                \"19-13\",\n",
    "                \"19-14\",\n",
    "                \"19-15\",\n",
    "                \"19-19\",\n",
    "                \"19-2\",\n",
    "                \"19-20\",\n",
    "                \"19-3\",\n",
    "                \"19-4\",\n",
    "                \"19-6\",\n",
    "                \"19-7\",\n",
    "                \"19-8\",\n",
    "                \"19-9\",\n",
    "                \"2-1\",\n",
    "                \"2-13\",\n",
    "                \"2-15\",\n",
    "                \"2-3\",\n",
    "                \"2-4\",\n",
    "                \"2-5\",\n",
    "                \"2-6\",\n",
    "                \"2-7\",\n",
    "                \"2-8\",\n",
    "                \"20-1\",\n",
    "                \"20-12\",\n",
    "                \"20-14\",\n",
    "                \"20-15\",\n",
    "                \"20-16\",\n",
    "                \"20-18\",\n",
    "                \"20-19\",\n",
    "                \"20-20\",\n",
    "                \"20-3\",\n",
    "                \"20-4\",\n",
    "                \"20-5\",\n",
    "                \"20-7\",\n",
    "                \"20-8\",\n",
    "                \"3-1\",\n",
    "                \"3-13\",\n",
    "                \"3-18\",\n",
    "                \"3-2\",\n",
    "                \"3-8\",\n",
    "                \"4-1\",\n",
    "                \"4-10\",\n",
    "                \"4-11\",\n",
    "                \"5-1\",\n",
    "                \"5-5\",\n",
    "                \"6-1\",\n",
    "                \"6-15\",\n",
    "                \"6-6\",\n",
    "                \"7-10\",\n",
    "                \"7-11\",\n",
    "                \"7-12\",\n",
    "                \"7-13\",\n",
    "                \"7-14\",\n",
    "                \"7-7\",\n",
    "                \"7-8\",\n",
    "                \"7-9\",\n",
    "                \"8-1\",\n",
    "                \"8-13\",\n",
    "                \"8-14\",\n",
    "                \"8-18\",\n",
    "                \"8-20\",\n",
    "                \"8-3\",\n",
    "                \"8-8\",\n",
    "                \"9-1\",\n",
    "                \"9-7\",\n",
    "            ],\n",
    "            \"domains\": [1, 2, 3, 4],\n",
    "            \"num_examples_per_domain_per_label\": 100,\n",
    "            \"pickle_path\": \"/mnt/wd500GB/CSC500/csc500-main/datasets/wisig.node3-19.stratified_ds.2022A.pkl\",\n",
    "            \"source_or_target_dataset\": \"source\",\n",
    "            \"x_transforms\": [\"take_200\"],\n",
    "            \"episode_transforms\": [],\n",
    "            \"domain_prefix\": \"W_A_\",\n",
    "        },\n",
    "        {\n",
    "            \"labels\": [\n",
    "                \"3123D52\",\n",
    "                \"3123D65\",\n",
    "                \"3123D79\",\n",
    "                \"3123D80\",\n",
    "                \"3123D54\",\n",
    "                \"3123D70\",\n",
    "                \"3123D7B\",\n",
    "                \"3123D89\",\n",
    "                \"3123D58\",\n",
    "                \"3123D76\",\n",
    "                \"3123D7D\",\n",
    "                \"3123EFE\",\n",
    "                \"3123D64\",\n",
    "                \"3123D78\",\n",
    "                \"3123D7E\",\n",
    "                \"3124E4A\",\n",
    "            ],\n",
    "            \"domains\": [32, 38, 8, 44, 14, 50, 20, 26],\n",
    "            \"num_examples_per_domain_per_label\": 2000,\n",
    "            \"pickle_path\": \"/mnt/wd500GB/CSC500/csc500-main/datasets/oracle.Run1_framed_2000Examples_stratified_ds.2022A.pkl\",\n",
    "            \"source_or_target_dataset\": \"target\",\n",
    "            \"x_transforms\": [\"take_200\", \"resample_20Msps_to_25Msps\"],\n",
    "            \"episode_transforms\": [],\n",
    "            \"domain_prefix\": \"ORACLE.run1_\",\n",
    "        },\n",
    "    ],\n",
    "    \"seed\": 7,\n",
    "    \"dataset_seed\": 7,\n",
    "}\n"
   ]
  },
  {
   "cell_type": "code",
   "execution_count": 5,
   "id": "8fa1cc33",
   "metadata": {
    "execution": {
     "iopub.execute_input": "2022-03-18T22:59:06.223750Z",
     "iopub.status.busy": "2022-03-18T22:59:06.223500Z",
     "iopub.status.idle": "2022-03-18T22:59:06.238063Z",
     "shell.execute_reply": "2022-03-18T22:59:06.237861Z"
    },
    "papermill": {
     "duration": 0.03012,
     "end_time": "2022-03-18T22:59:06.238113",
     "exception": false,
     "start_time": "2022-03-18T22:59:06.207993",
     "status": "completed"
    },
    "tags": []
   },
   "outputs": [],
   "source": [
    "# Set this to True if you want to run this template directly\n",
    "STANDALONE = False\n",
    "if STANDALONE:\n",
    "    print(\"parameters not injected, running with standalone_parameters\")\n",
    "    parameters = standalone_parameters\n",
    "\n",
    "if not 'parameters' in locals() and not 'parameters' in globals():\n",
    "    raise Exception(\"Parameter injection failed\")\n",
    "\n",
    "#Use an easy dict for all the parameters\n",
    "p = EasyDict(parameters)\n",
    "\n",
    "if \"x_shape\" not in p:\n",
    "    p.x_shape = [2,256] # Default to this if we dont supply x_shape\n",
    "\n",
    "\n",
    "supplied_keys = set(p.keys())\n",
    "\n",
    "if  supplied_keys != required_parameters:\n",
    "    print(\"Parameters are incorrect\")\n",
    "    if len(supplied_keys - required_parameters)>0: print(\"Shouldn't have:\", str(supplied_keys - required_parameters))\n",
    "    if len(required_parameters - supplied_keys)>0: print(\"Need to have:\", str(required_parameters - supplied_keys))\n",
    "    raise RuntimeError(\"Parameters are incorrect\")"
   ]
  },
  {
   "cell_type": "code",
   "execution_count": 6,
   "id": "3a028d58",
   "metadata": {
    "execution": {
     "iopub.execute_input": "2022-03-18T22:59:06.266366Z",
     "iopub.status.busy": "2022-03-18T22:59:06.266123Z",
     "iopub.status.idle": "2022-03-18T22:59:06.281667Z",
     "shell.execute_reply": "2022-03-18T22:59:06.281421Z"
    },
    "papermill": {
     "duration": 0.030955,
     "end_time": "2022-03-18T22:59:06.281715",
     "exception": false,
     "start_time": "2022-03-18T22:59:06.250760",
     "status": "completed"
    },
    "tags": []
   },
   "outputs": [],
   "source": [
    "###################################\n",
    "# Set the RNGs and make it all deterministic\n",
    "###################################\n",
    "np.random.seed(p.seed)\n",
    "random.seed(p.seed)\n",
    "torch.manual_seed(p.seed)\n",
    "\n",
    "torch.use_deterministic_algorithms(True) "
   ]
  },
  {
   "cell_type": "code",
   "execution_count": 7,
   "id": "b691acf6",
   "metadata": {
    "execution": {
     "iopub.execute_input": "2022-03-18T22:59:06.309720Z",
     "iopub.status.busy": "2022-03-18T22:59:06.309472Z",
     "iopub.status.idle": "2022-03-18T22:59:06.322708Z",
     "shell.execute_reply": "2022-03-18T22:59:06.322459Z"
    },
    "papermill": {
     "duration": 0.028285,
     "end_time": "2022-03-18T22:59:06.322756",
     "exception": false,
     "start_time": "2022-03-18T22:59:06.294471",
     "status": "completed"
    },
    "tags": []
   },
   "outputs": [],
   "source": [
    "###########################################\n",
    "# The stratified datasets honor this\n",
    "###########################################\n",
    "torch.set_default_dtype(eval(p.torch_default_dtype))"
   ]
  },
  {
   "cell_type": "code",
   "execution_count": 8,
   "id": "b5fba671",
   "metadata": {
    "execution": {
     "iopub.execute_input": "2022-03-18T22:59:06.350491Z",
     "iopub.status.busy": "2022-03-18T22:59:06.350247Z",
     "iopub.status.idle": "2022-03-18T22:59:06.385147Z",
     "shell.execute_reply": "2022-03-18T22:59:06.384907Z"
    },
    "papermill": {
     "duration": 0.049676,
     "end_time": "2022-03-18T22:59:06.385195",
     "exception": false,
     "start_time": "2022-03-18T22:59:06.335519",
     "status": "completed"
    },
    "tags": []
   },
   "outputs": [],
   "source": [
    "###################################\n",
    "# Build the network(s)\n",
    "# Note: It's critical to do this AFTER setting the RNG\n",
    "###################################\n",
    "x_net = build_sequential(p.x_net)"
   ]
  },
  {
   "cell_type": "code",
   "execution_count": 9,
   "id": "5d7e61cc",
   "metadata": {
    "execution": {
     "iopub.execute_input": "2022-03-18T22:59:06.413817Z",
     "iopub.status.busy": "2022-03-18T22:59:06.413572Z",
     "iopub.status.idle": "2022-03-18T22:59:06.424154Z",
     "shell.execute_reply": "2022-03-18T22:59:06.423910Z"
    },
    "papermill": {
     "duration": 0.025983,
     "end_time": "2022-03-18T22:59:06.424203",
     "exception": false,
     "start_time": "2022-03-18T22:59:06.398220",
     "status": "completed"
    },
    "tags": []
   },
   "outputs": [],
   "source": [
    "start_time_secs = time.time()"
   ]
  },
  {
   "cell_type": "code",
   "execution_count": 10,
   "id": "c6b67dfd",
   "metadata": {
    "execution": {
     "iopub.execute_input": "2022-03-18T22:59:06.452901Z",
     "iopub.status.busy": "2022-03-18T22:59:06.452650Z",
     "iopub.status.idle": "2022-03-18T22:59:06.467618Z",
     "shell.execute_reply": "2022-03-18T22:59:06.467406Z"
    },
    "papermill": {
     "duration": 0.030463,
     "end_time": "2022-03-18T22:59:06.467666",
     "exception": false,
     "start_time": "2022-03-18T22:59:06.437203",
     "status": "completed"
    },
    "tags": []
   },
   "outputs": [],
   "source": [
    "p.domains_source = []\n",
    "p.domains_target = []\n",
    "\n",
    "\n",
    "train_original_source = []\n",
    "val_original_source   = []\n",
    "test_original_source  = []\n",
    "\n",
    "train_original_target = []\n",
    "val_original_target   = []\n",
    "test_original_target  = []"
   ]
  },
  {
   "cell_type": "code",
   "execution_count": 11,
   "id": "e3d9c3d3",
   "metadata": {
    "execution": {
     "iopub.execute_input": "2022-03-18T22:59:06.495889Z",
     "iopub.status.busy": "2022-03-18T22:59:06.495644Z",
     "iopub.status.idle": "2022-03-18T22:59:06.507808Z",
     "shell.execute_reply": "2022-03-18T22:59:06.507595Z"
    },
    "papermill": {
     "duration": 0.027135,
     "end_time": "2022-03-18T22:59:06.507856",
     "exception": false,
     "start_time": "2022-03-18T22:59:06.480721",
     "status": "completed"
    },
    "tags": []
   },
   "outputs": [],
   "source": [
    "# global_x_transform_func = lambda x: normalize(x.to(torch.get_default_dtype()), \"unit_power\") # unit_power, unit_mag\n",
    "# global_x_transform_func = lambda x: normalize(x, \"unit_power\") # unit_power, unit_mag"
   ]
  },
  {
   "cell_type": "code",
   "execution_count": 12,
   "id": "acb78fd2",
   "metadata": {
    "execution": {
     "iopub.execute_input": "2022-03-18T22:59:06.540360Z",
     "iopub.status.busy": "2022-03-18T22:59:06.539966Z",
     "iopub.status.idle": "2022-03-18T22:59:06.551938Z",
     "shell.execute_reply": "2022-03-18T22:59:06.551696Z"
    },
    "papermill": {
     "duration": 0.030858,
     "end_time": "2022-03-18T22:59:06.551988",
     "exception": false,
     "start_time": "2022-03-18T22:59:06.521130",
     "status": "completed"
    },
    "tags": []
   },
   "outputs": [],
   "source": [
    "def add_dataset(\n",
    "    labels,\n",
    "    domains,\n",
    "    pickle_path,\n",
    "    x_transforms,\n",
    "    episode_transforms,\n",
    "    domain_prefix,\n",
    "    num_examples_per_domain_per_label,\n",
    "    source_or_target_dataset:str,\n",
    "    iterator_seed=p.seed,\n",
    "    dataset_seed=p.dataset_seed,\n",
    "    n_shot=p.n_shot,\n",
    "    n_way=p.n_way,\n",
    "    n_query=p.n_query,\n",
    "    train_val_test_k_factors=(p.train_k_factor,p.val_k_factor,p.test_k_factor),\n",
    "):\n",
    "   \n",
    "    if x_transforms == []: x_transform = None\n",
    "    else: x_transform = get_chained_transform(x_transforms)\n",
    "    \n",
    "    if episode_transforms == []: episode_transform = None\n",
    "    else: raise Exception(\"episode_transforms not implemented\")\n",
    "    \n",
    "    episode_transform = lambda tup, _prefix=domain_prefix: (_prefix + str(tup[0]), tup[1])\n",
    "\n",
    "\n",
    "    eaf = Episodic_Accessor_Factory(\n",
    "        labels=labels,\n",
    "        domains=domains,\n",
    "        num_examples_per_domain_per_label=num_examples_per_domain_per_label,\n",
    "        iterator_seed=iterator_seed,\n",
    "        dataset_seed=dataset_seed,\n",
    "        n_shot=n_shot,\n",
    "        n_way=n_way,\n",
    "        n_query=n_query,\n",
    "        train_val_test_k_factors=train_val_test_k_factors,\n",
    "        pickle_path=pickle_path,\n",
    "        x_transform_func=x_transform,\n",
    "    )\n",
    "\n",
    "    train, val, test = eaf.get_train(), eaf.get_val(), eaf.get_test()\n",
    "    train = Lazy_Iterable_Wrapper(train, episode_transform)\n",
    "    val = Lazy_Iterable_Wrapper(val, episode_transform)\n",
    "    test = Lazy_Iterable_Wrapper(test, episode_transform)\n",
    "\n",
    "    if source_or_target_dataset==\"source\":\n",
    "        train_original_source.append(train)\n",
    "        val_original_source.append(val)\n",
    "        test_original_source.append(test)\n",
    "\n",
    "        p.domains_source.extend(\n",
    "            [domain_prefix + str(u) for u in domains]\n",
    "        )\n",
    "    elif source_or_target_dataset==\"target\":\n",
    "        train_original_target.append(train)\n",
    "        val_original_target.append(val)\n",
    "        test_original_target.append(test)\n",
    "        p.domains_target.extend(\n",
    "            [domain_prefix + str(u) for u in domains]\n",
    "        )\n",
    "    else:\n",
    "        raise Exception(f\"invalid source_or_target_dataset: {source_or_target_dataset}\")\n",
    "    "
   ]
  },
  {
   "cell_type": "code",
   "execution_count": 13,
   "id": "fe266617",
   "metadata": {
    "execution": {
     "iopub.execute_input": "2022-03-18T22:59:06.580618Z",
     "iopub.status.busy": "2022-03-18T22:59:06.580375Z",
     "iopub.status.idle": "2022-03-18T22:59:21.411829Z",
     "shell.execute_reply": "2022-03-18T22:59:21.411383Z"
    },
    "papermill": {
     "duration": 14.846659,
     "end_time": "2022-03-18T22:59:21.411931",
     "exception": false,
     "start_time": "2022-03-18T22:59:06.565272",
     "status": "completed"
    },
    "tags": []
   },
   "outputs": [],
   "source": [
    "for ds in p.datasets:\n",
    "    add_dataset(**ds)"
   ]
  },
  {
   "cell_type": "code",
   "execution_count": 14,
   "id": "b90d65ac",
   "metadata": {
    "execution": {
     "iopub.execute_input": "2022-03-18T22:59:21.444412Z",
     "iopub.status.busy": "2022-03-18T22:59:21.444160Z",
     "iopub.status.idle": "2022-03-18T22:59:21.455780Z",
     "shell.execute_reply": "2022-03-18T22:59:21.455338Z"
    },
    "papermill": {
     "duration": 0.026779,
     "end_time": "2022-03-18T22:59:21.455869",
     "exception": false,
     "start_time": "2022-03-18T22:59:21.429090",
     "status": "completed"
    },
    "tags": []
   },
   "outputs": [],
   "source": [
    "# from steves_utils.CORES.utils import (\n",
    "#     ALL_NODES,\n",
    "#     ALL_NODES_MINIMUM_1000_EXAMPLES,\n",
    "#     ALL_DAYS\n",
    "# )\n",
    "\n",
    "# add_dataset(\n",
    "#     labels=ALL_NODES,\n",
    "#     domains = ALL_DAYS,\n",
    "#     num_examples_per_domain_per_label=100,\n",
    "#     pickle_path=os.path.join(get_datasets_base_path(), \"cores.stratified_ds.2022A.pkl\"),\n",
    "#     source_or_target_dataset=\"target\",\n",
    "#     x_transform_func=global_x_transform_func,\n",
    "#     domain_modifier=lambda u: f\"cores_{u}\"\n",
    "# )"
   ]
  },
  {
   "cell_type": "code",
   "execution_count": 15,
   "id": "76db484d",
   "metadata": {
    "execution": {
     "iopub.execute_input": "2022-03-18T22:59:21.485872Z",
     "iopub.status.busy": "2022-03-18T22:59:21.485621Z",
     "iopub.status.idle": "2022-03-18T22:59:21.495987Z",
     "shell.execute_reply": "2022-03-18T22:59:21.495742Z"
    },
    "papermill": {
     "duration": 0.025118,
     "end_time": "2022-03-18T22:59:21.496037",
     "exception": false,
     "start_time": "2022-03-18T22:59:21.470919",
     "status": "completed"
    },
    "tags": []
   },
   "outputs": [],
   "source": [
    "# from steves_utils.ORACLE.utils_v2 import (\n",
    "#     ALL_DISTANCES_FEET,\n",
    "#     ALL_RUNS,\n",
    "#     ALL_SERIAL_NUMBERS,\n",
    "# )\n",
    "\n",
    "\n",
    "# add_dataset(\n",
    "#     labels=ALL_SERIAL_NUMBERS,\n",
    "#     domains = list(set(ALL_DISTANCES_FEET) - {2,62}),\n",
    "#     num_examples_per_domain_per_label=100,\n",
    "#     pickle_path=os.path.join(get_datasets_base_path(), \"oracle.Run2_framed_2000Examples_stratified_ds.2022A.pkl\"),\n",
    "#     source_or_target_dataset=\"source\",\n",
    "#     x_transform_func=global_x_transform_func,\n",
    "#     domain_modifier=lambda u: f\"oracle1_{u}\"\n",
    "# )\n"
   ]
  },
  {
   "cell_type": "code",
   "execution_count": 16,
   "id": "97dea9d2",
   "metadata": {
    "execution": {
     "iopub.execute_input": "2022-03-18T22:59:21.527210Z",
     "iopub.status.busy": "2022-03-18T22:59:21.526960Z",
     "iopub.status.idle": "2022-03-18T22:59:21.541842Z",
     "shell.execute_reply": "2022-03-18T22:59:21.541476Z"
    },
    "papermill": {
     "duration": 0.030013,
     "end_time": "2022-03-18T22:59:21.541932",
     "exception": false,
     "start_time": "2022-03-18T22:59:21.511919",
     "status": "completed"
    },
    "tags": []
   },
   "outputs": [],
   "source": [
    "# from steves_utils.ORACLE.utils_v2 import (\n",
    "#     ALL_DISTANCES_FEET,\n",
    "#     ALL_RUNS,\n",
    "#     ALL_SERIAL_NUMBERS,\n",
    "# )\n",
    "\n",
    "\n",
    "# add_dataset(\n",
    "#     labels=ALL_SERIAL_NUMBERS,\n",
    "#     domains = list(set(ALL_DISTANCES_FEET) - {2,62,56}),\n",
    "#     num_examples_per_domain_per_label=100,\n",
    "#     pickle_path=os.path.join(get_datasets_base_path(), \"oracle.Run2_framed_2000Examples_stratified_ds.2022A.pkl\"),\n",
    "#     source_or_target_dataset=\"source\",\n",
    "#     x_transform_func=global_x_transform_func,\n",
    "#     domain_modifier=lambda u: f\"oracle2_{u}\"\n",
    "# )"
   ]
  },
  {
   "cell_type": "code",
   "execution_count": 17,
   "id": "6f289866",
   "metadata": {
    "execution": {
     "iopub.execute_input": "2022-03-18T22:59:21.575175Z",
     "iopub.status.busy": "2022-03-18T22:59:21.574928Z",
     "iopub.status.idle": "2022-03-18T22:59:21.584979Z",
     "shell.execute_reply": "2022-03-18T22:59:21.584633Z"
    },
    "papermill": {
     "duration": 0.024895,
     "end_time": "2022-03-18T22:59:21.585048",
     "exception": false,
     "start_time": "2022-03-18T22:59:21.560153",
     "status": "completed"
    },
    "tags": []
   },
   "outputs": [],
   "source": [
    "# add_dataset(\n",
    "#     labels=list(range(19)),\n",
    "#     domains = [0,1,2],\n",
    "#     num_examples_per_domain_per_label=100,\n",
    "#     pickle_path=os.path.join(get_datasets_base_path(), \"metehan.stratified_ds.2022A.pkl\"),\n",
    "#     source_or_target_dataset=\"target\",\n",
    "#     x_transform_func=global_x_transform_func,\n",
    "#     domain_modifier=lambda u: f\"met_{u}\"\n",
    "# )"
   ]
  },
  {
   "cell_type": "code",
   "execution_count": 18,
   "id": "86a863c3",
   "metadata": {
    "execution": {
     "iopub.execute_input": "2022-03-18T22:59:21.618447Z",
     "iopub.status.busy": "2022-03-18T22:59:21.618199Z",
     "iopub.status.idle": "2022-03-18T22:59:21.632647Z",
     "shell.execute_reply": "2022-03-18T22:59:21.633009Z"
    },
    "papermill": {
     "duration": 0.030014,
     "end_time": "2022-03-18T22:59:21.633110",
     "exception": false,
     "start_time": "2022-03-18T22:59:21.603096",
     "status": "completed"
    },
    "tags": []
   },
   "outputs": [],
   "source": [
    "# # from steves_utils.wisig.utils import (\n",
    "# #     ALL_NODES_MINIMUM_100_EXAMPLES,\n",
    "# #     ALL_NODES_MINIMUM_500_EXAMPLES,\n",
    "# #     ALL_NODES_MINIMUM_1000_EXAMPLES,\n",
    "# #     ALL_DAYS\n",
    "# # )\n",
    "\n",
    "# import steves_utils.wisig.utils as wisig\n",
    "\n",
    "\n",
    "# add_dataset(\n",
    "#     labels=wisig.ALL_NODES_MINIMUM_100_EXAMPLES,\n",
    "#     domains = wisig.ALL_DAYS,\n",
    "#     num_examples_per_domain_per_label=100,\n",
    "#     pickle_path=os.path.join(get_datasets_base_path(), \"wisig.node3-19.stratified_ds.2022A.pkl\"),\n",
    "#     source_or_target_dataset=\"target\",\n",
    "#     x_transform_func=global_x_transform_func,\n",
    "#     domain_modifier=lambda u: f\"wisig_{u}\"\n",
    "# )"
   ]
  },
  {
   "cell_type": "code",
   "execution_count": 19,
   "id": "fd5442bc",
   "metadata": {
    "execution": {
     "iopub.execute_input": "2022-03-18T22:59:21.670654Z",
     "iopub.status.busy": "2022-03-18T22:59:21.670394Z",
     "iopub.status.idle": "2022-03-18T22:59:21.684231Z",
     "shell.execute_reply": "2022-03-18T22:59:21.683793Z"
    },
    "papermill": {
     "duration": 0.032685,
     "end_time": "2022-03-18T22:59:21.684319",
     "exception": false,
     "start_time": "2022-03-18T22:59:21.651634",
     "status": "completed"
    },
    "tags": []
   },
   "outputs": [],
   "source": [
    "###################################\n",
    "# Build the dataset\n",
    "###################################\n",
    "train_original_source = Iterable_Aggregator(train_original_source, p.seed)\n",
    "val_original_source = Iterable_Aggregator(val_original_source, p.seed)\n",
    "test_original_source = Iterable_Aggregator(test_original_source, p.seed)\n",
    "\n",
    "\n",
    "train_original_target = Iterable_Aggregator(train_original_target, p.seed)\n",
    "val_original_target = Iterable_Aggregator(val_original_target, p.seed)\n",
    "test_original_target = Iterable_Aggregator(test_original_target, p.seed)\n",
    "\n",
    "# For CNN We only use X and Y. And we only train on the source.\n",
    "# Properly form the data using a transform lambda and Lazy_Iterable_Wrapper. Finally wrap them in a dataloader\n",
    "\n",
    "transform_lambda = lambda ex: ex[1] # Original is (<domain>, <episode>) so we strip down to episode only\n",
    "\n",
    "train_processed_source = Lazy_Iterable_Wrapper(train_original_source, transform_lambda)\n",
    "val_processed_source   = Lazy_Iterable_Wrapper(val_original_source, transform_lambda)\n",
    "test_processed_source  = Lazy_Iterable_Wrapper(test_original_source, transform_lambda)\n",
    "\n",
    "train_processed_target = Lazy_Iterable_Wrapper(train_original_target, transform_lambda)\n",
    "val_processed_target   = Lazy_Iterable_Wrapper(val_original_target, transform_lambda)\n",
    "test_processed_target  = Lazy_Iterable_Wrapper(test_original_target, transform_lambda)\n",
    "\n",
    "datasets = EasyDict({\n",
    "    \"source\": {\n",
    "        \"original\": {\"train\":train_original_source, \"val\":val_original_source, \"test\":test_original_source},\n",
    "        \"processed\": {\"train\":train_processed_source, \"val\":val_processed_source, \"test\":test_processed_source}\n",
    "    },\n",
    "    \"target\": {\n",
    "        \"original\": {\"train\":train_original_target, \"val\":val_original_target, \"test\":test_original_target},\n",
    "        \"processed\": {\"train\":train_processed_target, \"val\":val_processed_target, \"test\":test_processed_target}\n",
    "    },\n",
    "})"
   ]
  },
  {
   "cell_type": "code",
   "execution_count": 20,
   "id": "5b3c01fc",
   "metadata": {
    "execution": {
     "iopub.execute_input": "2022-03-18T22:59:21.720282Z",
     "iopub.status.busy": "2022-03-18T22:59:21.719856Z",
     "iopub.status.idle": "2022-03-18T22:59:26.575905Z",
     "shell.execute_reply": "2022-03-18T22:59:26.576483Z"
    },
    "papermill": {
     "duration": 4.873342,
     "end_time": "2022-03-18T22:59:26.576645",
     "exception": false,
     "start_time": "2022-03-18T22:59:21.703303",
     "status": "completed"
    },
    "tags": []
   },
   "outputs": [
    {
     "name": "stdout",
     "output_type": "stream",
     "text": [
      "{'C_A_2', 'C_A_5', 'C_A_1', 'W_A_1', 'W_A_4', 'C_A_4', 'W_A_3', 'W_A_2', 'C_A_3'}\n"
     ]
    },
    {
     "name": "stdout",
     "output_type": "stream",
     "text": [
      "{'ORACLE.run1_44', 'ORACLE.run1_26', 'ORACLE.run1_32', 'ORACLE.run1_14', 'ORACLE.run1_8', 'ORACLE.run1_38', 'ORACLE.run1_20', 'ORACLE.run1_50'}\n"
     ]
    },
    {
     "name": "stdout",
     "output_type": "stream",
     "text": [
      "tensor([[[-0.0268, -0.0343,  0.0003,  ..., -0.0336, -0.0209, -0.0111],\n",
      "         [ 0.0427, -0.0114, -0.0535,  ...,  0.0428, -0.0154,  0.0141]],\n",
      "\n",
      "        [[-0.0366,  0.0174,  0.0509,  ..., -0.0318,  0.0210, -0.0211],\n",
      "         [-0.0254, -0.0416,  0.0041,  ..., -0.0335, -0.0220, -0.0172]],\n",
      "\n",
      "        [[-0.0160,  0.0341,  0.0382,  ..., -0.0134,  0.0236, -0.0180],\n",
      "         [-0.0379, -0.0315,  0.0239,  ..., -0.0405, -0.0090, -0.0381]],\n",
      "\n",
      "        ...,\n",
      "\n",
      "        [[ 0.0291,  0.0119, -0.0004,  ...,  0.0284,  0.0136,  0.0197],\n",
      "         [-0.0047, -0.0016, -0.0007,  ..., -0.0072, -0.0041,  0.0073]],\n",
      "\n",
      "        [[-0.0046, -0.0027,  0.0014,  ..., -0.0113,  0.0030,  0.0193],\n",
      "         [-0.0046, -0.0049, -0.0073,  ..., -0.0108, -0.0023,  0.0144]],\n",
      "\n",
      "        [[-0.0121,  0.0107,  0.0290,  ...,  0.0027,  0.0037, -0.0268],\n",
      "         [-0.0232, -0.0302, -0.0118,  ..., -0.0392, -0.0202, -0.0104]]])\n"
     ]
    }
   ],
   "source": [
    "from steves_utils.transforms import get_average_magnitude, get_average_power\n",
    "\n",
    "print(set([u for u,_ in val_original_source]))\n",
    "print(set([u for u,_ in val_original_target]))\n",
    "\n",
    "s_x, s_y, q_x, q_y, _ = next(iter(train_processed_source))\n",
    "print(s_x)\n",
    "\n",
    "# for ds in [\n",
    "#     train_processed_source,\n",
    "#     val_processed_source,\n",
    "#     test_processed_source,\n",
    "#     train_processed_target,\n",
    "#     val_processed_target,\n",
    "#     test_processed_target\n",
    "# ]:\n",
    "#     for s_x, s_y, q_x, q_y, _ in ds:\n",
    "#         for X in (s_x, q_x):\n",
    "#             for x in X:\n",
    "#                 assert np.isclose(get_average_magnitude(x.numpy()), 1.0)\n",
    "#                 assert np.isclose(get_average_power(x.numpy()), 1.0)\n",
    "                "
   ]
  },
  {
   "cell_type": "code",
   "execution_count": 21,
   "id": "bbdacba1",
   "metadata": {
    "execution": {
     "iopub.execute_input": "2022-03-18T22:59:26.624448Z",
     "iopub.status.busy": "2022-03-18T22:59:26.624194Z",
     "iopub.status.idle": "2022-03-18T22:59:26.673568Z",
     "shell.execute_reply": "2022-03-18T22:59:26.673996Z"
    },
    "papermill": {
     "duration": 0.071536,
     "end_time": "2022-03-18T22:59:26.674118",
     "exception": false,
     "start_time": "2022-03-18T22:59:26.602582",
     "status": "completed"
    },
    "tags": []
   },
   "outputs": [
    {
     "name": "stdout",
     "output_type": "stream",
     "text": [
      "(2, 200)\n"
     ]
    }
   ],
   "source": [
    "###################################\n",
    "# Build the model\n",
    "###################################\n",
    "# easfsl only wants a tuple for the shape\n",
    "model = Steves_Prototypical_Network(x_net, device=p.device, x_shape=tuple(p.x_shape))\n",
    "optimizer = Adam(params=model.parameters(), lr=p.lr)"
   ]
  },
  {
   "cell_type": "code",
   "execution_count": 22,
   "id": "22b39ac5",
   "metadata": {
    "execution": {
     "iopub.execute_input": "2022-03-18T22:59:26.711374Z",
     "iopub.status.busy": "2022-03-18T22:59:26.711085Z",
     "iopub.status.idle": "2022-03-18T23:13:21.135401Z",
     "shell.execute_reply": "2022-03-18T23:13:21.135159Z"
    },
    "papermill": {
     "duration": 834.441689,
     "end_time": "2022-03-18T23:13:21.135458",
     "exception": false,
     "start_time": "2022-03-18T22:59:26.693769",
     "status": "completed"
    },
    "tags": []
   },
   "outputs": [
    {
     "name": "stdout",
     "output_type": "stream",
     "text": [
      "epoch: 1, [batch: 1 / 2078], examples_per_second: 123.1413, train_label_loss: 1.8384, \n"
     ]
    },
    {
     "name": "stdout",
     "output_type": "stream",
     "text": [
      "epoch: 1, [batch: 208 / 2078], examples_per_second: 3618.1077, train_label_loss: 1.2234, \n"
     ]
    },
    {
     "name": "stdout",
     "output_type": "stream",
     "text": [
      "epoch: 1, [batch: 416 / 2078], examples_per_second: 3639.7233, train_label_loss: 0.6022, \n"
     ]
    },
    {
     "name": "stdout",
     "output_type": "stream",
     "text": [
      "epoch: 1, [batch: 624 / 2078], examples_per_second: 3643.7251, train_label_loss: 0.1574, \n"
     ]
    },
    {
     "name": "stdout",
     "output_type": "stream",
     "text": [
      "epoch: 1, [batch: 831 / 2078], examples_per_second: 3651.5013, train_label_loss: 0.0169, \n"
     ]
    },
    {
     "name": "stdout",
     "output_type": "stream",
     "text": [
      "epoch: 1, [batch: 1039 / 2078], examples_per_second: 3610.1303, train_label_loss: 0.0074, \n"
     ]
    },
    {
     "name": "stdout",
     "output_type": "stream",
     "text": [
      "epoch: 1, [batch: 1247 / 2078], examples_per_second: 3654.0317, train_label_loss: 0.2547, \n"
     ]
    },
    {
     "name": "stdout",
     "output_type": "stream",
     "text": [
      "epoch: 1, [batch: 1454 / 2078], examples_per_second: 3641.8612, train_label_loss: 0.2623, \n"
     ]
    },
    {
     "name": "stdout",
     "output_type": "stream",
     "text": [
      "epoch: 1, [batch: 1662 / 2078], examples_per_second: 3590.2979, train_label_loss: 0.5601, \n"
     ]
    },
    {
     "name": "stdout",
     "output_type": "stream",
     "text": [
      "epoch: 1, [batch: 1870 / 2078], examples_per_second: 3639.0293, train_label_loss: 0.2345, \n"
     ]
    },
    {
     "name": "stdout",
     "output_type": "stream",
     "text": [
      "=============================================================\n",
      "epoch: 1, source_val_acc_label: 0.9451, target_val_acc_label: 0.5307, source_val_label_loss: 0.2379, target_val_label_loss: 2.4647, \n",
      "=============================================================\n"
     ]
    },
    {
     "name": "stdout",
     "output_type": "stream",
     "text": [
      "New best\n"
     ]
    },
    {
     "name": "stdout",
     "output_type": "stream",
     "text": [
      "epoch: 2, [batch: 1 / 2079], examples_per_second: 11.2055, train_label_loss: 0.1623, \n"
     ]
    },
    {
     "name": "stdout",
     "output_type": "stream",
     "text": [
      "epoch: 2, [batch: 208 / 2079], examples_per_second: 3615.1607, train_label_loss: 0.0363, \n"
     ]
    },
    {
     "name": "stdout",
     "output_type": "stream",
     "text": [
      "epoch: 2, [batch: 416 / 2079], examples_per_second: 3641.1030, train_label_loss: 0.0319, \n"
     ]
    },
    {
     "name": "stdout",
     "output_type": "stream",
     "text": [
      "epoch: 2, [batch: 624 / 2079], examples_per_second: 3651.4415, train_label_loss: 0.0935, \n"
     ]
    },
    {
     "name": "stdout",
     "output_type": "stream",
     "text": [
      "epoch: 2, [batch: 832 / 2079], examples_per_second: 3636.9469, train_label_loss: 0.1793, \n"
     ]
    },
    {
     "name": "stdout",
     "output_type": "stream",
     "text": [
      "epoch: 2, [batch: 1040 / 2079], examples_per_second: 3605.9829, train_label_loss: 0.4033, \n"
     ]
    },
    {
     "name": "stdout",
     "output_type": "stream",
     "text": [
      "epoch: 2, [batch: 1247 / 2079], examples_per_second: 3632.2311, train_label_loss: 0.0850, \n"
     ]
    },
    {
     "name": "stdout",
     "output_type": "stream",
     "text": [
      "epoch: 2, [batch: 1455 / 2079], examples_per_second: 3633.0914, train_label_loss: 0.0562, \n"
     ]
    },
    {
     "name": "stdout",
     "output_type": "stream",
     "text": [
      "epoch: 2, [batch: 1663 / 2079], examples_per_second: 3589.6139, train_label_loss: 0.1304, \n"
     ]
    },
    {
     "name": "stdout",
     "output_type": "stream",
     "text": [
      "epoch: 2, [batch: 1871 / 2079], examples_per_second: 3631.6061, train_label_loss: 0.2203, \n"
     ]
    },
    {
     "name": "stdout",
     "output_type": "stream",
     "text": [
      "=============================================================\n",
      "epoch: 2, source_val_acc_label: 0.9624, target_val_acc_label: 0.5560, source_val_label_loss: 0.1603, target_val_label_loss: 2.3465, \n",
      "=============================================================\n"
     ]
    },
    {
     "name": "stdout",
     "output_type": "stream",
     "text": [
      "New best\n"
     ]
    },
    {
     "name": "stdout",
     "output_type": "stream",
     "text": [
      "epoch: 3, [batch: 1 / 2078], examples_per_second: 11.1896, train_label_loss: 0.1450, \n"
     ]
    },
    {
     "name": "stdout",
     "output_type": "stream",
     "text": [
      "epoch: 3, [batch: 208 / 2078], examples_per_second: 3610.2379, train_label_loss: 0.0036, \n"
     ]
    },
    {
     "name": "stdout",
     "output_type": "stream",
     "text": [
      "epoch: 3, [batch: 416 / 2078], examples_per_second: 3616.7300, train_label_loss: 0.0206, \n"
     ]
    },
    {
     "name": "stdout",
     "output_type": "stream",
     "text": [
      "epoch: 3, [batch: 624 / 2078], examples_per_second: 3615.2214, train_label_loss: 0.4288, \n"
     ]
    },
    {
     "name": "stdout",
     "output_type": "stream",
     "text": [
      "epoch: 3, [batch: 831 / 2078], examples_per_second: 3620.1998, train_label_loss: 0.1167, \n"
     ]
    },
    {
     "name": "stdout",
     "output_type": "stream",
     "text": [
      "epoch: 3, [batch: 1039 / 2078], examples_per_second: 3612.2717, train_label_loss: 0.0081, \n"
     ]
    },
    {
     "name": "stdout",
     "output_type": "stream",
     "text": [
      "epoch: 3, [batch: 1247 / 2078], examples_per_second: 3658.7867, train_label_loss: 0.0688, \n"
     ]
    },
    {
     "name": "stdout",
     "output_type": "stream",
     "text": [
      "epoch: 3, [batch: 1454 / 2078], examples_per_second: 3603.6391, train_label_loss: 0.7579, \n"
     ]
    },
    {
     "name": "stdout",
     "output_type": "stream",
     "text": [
      "epoch: 3, [batch: 1662 / 2078], examples_per_second: 3652.3857, train_label_loss: 0.0424, \n"
     ]
    },
    {
     "name": "stdout",
     "output_type": "stream",
     "text": [
      "epoch: 3, [batch: 1870 / 2078], examples_per_second: 3582.4636, train_label_loss: 0.1056, \n"
     ]
    },
    {
     "name": "stdout",
     "output_type": "stream",
     "text": [
      "=============================================================\n",
      "epoch: 3, source_val_acc_label: 0.9703, target_val_acc_label: 0.4547, source_val_label_loss: 0.1368, target_val_label_loss: 2.3023, \n",
      "=============================================================\n"
     ]
    },
    {
     "name": "stdout",
     "output_type": "stream",
     "text": [
      "New best\n"
     ]
    },
    {
     "name": "stdout",
     "output_type": "stream",
     "text": [
      "epoch: 4, [batch: 1 / 2077], examples_per_second: 11.0654, train_label_loss: 0.0246, \n"
     ]
    },
    {
     "name": "stdout",
     "output_type": "stream",
     "text": [
      "epoch: 4, [batch: 208 / 2077], examples_per_second: 3598.5997, train_label_loss: 0.3320, \n"
     ]
    },
    {
     "name": "stdout",
     "output_type": "stream",
     "text": [
      "epoch: 4, [batch: 416 / 2077], examples_per_second: 3618.6107, train_label_loss: 0.0488, \n"
     ]
    },
    {
     "name": "stdout",
     "output_type": "stream",
     "text": [
      "epoch: 4, [batch: 623 / 2077], examples_per_second: 3627.2769, train_label_loss: 0.0098, \n"
     ]
    },
    {
     "name": "stdout",
     "output_type": "stream",
     "text": [
      "epoch: 4, [batch: 831 / 2077], examples_per_second: 3647.3053, train_label_loss: 0.0007, \n"
     ]
    },
    {
     "name": "stdout",
     "output_type": "stream",
     "text": [
      "epoch: 4, [batch: 1039 / 2077], examples_per_second: 3617.7966, train_label_loss: 0.4809, \n"
     ]
    },
    {
     "name": "stdout",
     "output_type": "stream",
     "text": [
      "epoch: 4, [batch: 1246 / 2077], examples_per_second: 3628.7691, train_label_loss: 0.4753, \n"
     ]
    },
    {
     "name": "stdout",
     "output_type": "stream",
     "text": [
      "epoch: 4, [batch: 1454 / 2077], examples_per_second: 3644.8160, train_label_loss: 0.0440, \n"
     ]
    },
    {
     "name": "stdout",
     "output_type": "stream",
     "text": [
      "epoch: 4, [batch: 1661 / 2077], examples_per_second: 3576.9886, train_label_loss: 0.2992, \n"
     ]
    },
    {
     "name": "stdout",
     "output_type": "stream",
     "text": [
      "epoch: 4, [batch: 1869 / 2077], examples_per_second: 3619.8233, train_label_loss: 0.2171, \n"
     ]
    },
    {
     "name": "stdout",
     "output_type": "stream",
     "text": [
      "=============================================================\n",
      "epoch: 4, source_val_acc_label: 0.9725, target_val_acc_label: 0.4017, source_val_label_loss: 0.1329, target_val_label_loss: 2.3697, \n",
      "=============================================================\n"
     ]
    },
    {
     "name": "stdout",
     "output_type": "stream",
     "text": [
      "epoch: 5, [batch: 1 / 2077], examples_per_second: 11.1777, train_label_loss: 0.0054, \n"
     ]
    },
    {
     "name": "stdout",
     "output_type": "stream",
     "text": [
      "epoch: 5, [batch: 208 / 2077], examples_per_second: 3609.6749, train_label_loss: 0.1260, \n"
     ]
    },
    {
     "name": "stdout",
     "output_type": "stream",
     "text": [
      "epoch: 5, [batch: 416 / 2077], examples_per_second: 3624.8277, train_label_loss: 0.0092, \n"
     ]
    },
    {
     "name": "stdout",
     "output_type": "stream",
     "text": [
      "epoch: 5, [batch: 623 / 2077], examples_per_second: 3635.8677, train_label_loss: 0.1161, \n"
     ]
    },
    {
     "name": "stdout",
     "output_type": "stream",
     "text": [
      "epoch: 5, [batch: 831 / 2077], examples_per_second: 3639.3953, train_label_loss: 0.0174, \n"
     ]
    },
    {
     "name": "stdout",
     "output_type": "stream",
     "text": [
      "epoch: 5, [batch: 1039 / 2077], examples_per_second: 3608.1851, train_label_loss: 0.6843, \n"
     ]
    },
    {
     "name": "stdout",
     "output_type": "stream",
     "text": [
      "epoch: 5, [batch: 1246 / 2077], examples_per_second: 3627.3811, train_label_loss: 0.0270, \n"
     ]
    },
    {
     "name": "stdout",
     "output_type": "stream",
     "text": [
      "epoch: 5, [batch: 1454 / 2077], examples_per_second: 3610.1351, train_label_loss: 0.1580, \n"
     ]
    },
    {
     "name": "stdout",
     "output_type": "stream",
     "text": [
      "epoch: 5, [batch: 1661 / 2077], examples_per_second: 3629.0789, train_label_loss: 0.0904, \n"
     ]
    },
    {
     "name": "stdout",
     "output_type": "stream",
     "text": [
      "epoch: 5, [batch: 1869 / 2077], examples_per_second: 3652.6150, train_label_loss: 0.0161, \n"
     ]
    },
    {
     "name": "stdout",
     "output_type": "stream",
     "text": [
      "=============================================================\n",
      "epoch: 5, source_val_acc_label: 0.9751, target_val_acc_label: 0.4035, source_val_label_loss: 0.1213, target_val_label_loss: 2.2744, \n",
      "=============================================================\n"
     ]
    },
    {
     "name": "stdout",
     "output_type": "stream",
     "text": [
      "New best\n"
     ]
    },
    {
     "name": "stdout",
     "output_type": "stream",
     "text": [
      "epoch: 6, [batch: 1 / 2080], examples_per_second: 11.0807, train_label_loss: 0.0580, \n"
     ]
    },
    {
     "name": "stdout",
     "output_type": "stream",
     "text": [
      "epoch: 6, [batch: 208 / 2080], examples_per_second: 3621.8034, train_label_loss: 0.2079, \n"
     ]
    },
    {
     "name": "stdout",
     "output_type": "stream",
     "text": [
      "epoch: 6, [batch: 416 / 2080], examples_per_second: 3636.7591, train_label_loss: 0.0024, \n"
     ]
    },
    {
     "name": "stdout",
     "output_type": "stream",
     "text": [
      "epoch: 6, [batch: 624 / 2080], examples_per_second: 3637.6161, train_label_loss: 0.0096, \n"
     ]
    },
    {
     "name": "stdout",
     "output_type": "stream",
     "text": [
      "epoch: 6, [batch: 832 / 2080], examples_per_second: 3641.9819, train_label_loss: 0.1887, \n"
     ]
    },
    {
     "name": "stdout",
     "output_type": "stream",
     "text": [
      "epoch: 6, [batch: 1040 / 2080], examples_per_second: 3629.8982, train_label_loss: 0.0103, \n"
     ]
    },
    {
     "name": "stdout",
     "output_type": "stream",
     "text": [
      "epoch: 6, [batch: 1248 / 2080], examples_per_second: 3643.1490, train_label_loss: 0.1522, \n"
     ]
    },
    {
     "name": "stdout",
     "output_type": "stream",
     "text": [
      "epoch: 6, [batch: 1456 / 2080], examples_per_second: 3605.9840, train_label_loss: 0.5259, \n"
     ]
    },
    {
     "name": "stdout",
     "output_type": "stream",
     "text": [
      "epoch: 6, [batch: 1664 / 2080], examples_per_second: 3637.3465, train_label_loss: 0.0144, \n"
     ]
    },
    {
     "name": "stdout",
     "output_type": "stream",
     "text": [
      "epoch: 6, [batch: 1872 / 2080], examples_per_second: 3647.6282, train_label_loss: 0.2501, \n"
     ]
    },
    {
     "name": "stdout",
     "output_type": "stream",
     "text": [
      "=============================================================\n",
      "epoch: 6, source_val_acc_label: 0.9775, target_val_acc_label: 0.3703, source_val_label_loss: 0.1074, target_val_label_loss: 2.3085, \n",
      "=============================================================\n"
     ]
    },
    {
     "name": "stdout",
     "output_type": "stream",
     "text": [
      "epoch: 7, [batch: 1 / 2084], examples_per_second: 11.2179, train_label_loss: 0.0071, \n"
     ]
    },
    {
     "name": "stdout",
     "output_type": "stream",
     "text": [
      "epoch: 7, [batch: 209 / 2084], examples_per_second: 3616.4652, train_label_loss: 0.0090, \n"
     ]
    },
    {
     "name": "stdout",
     "output_type": "stream",
     "text": [
      "epoch: 7, [batch: 417 / 2084], examples_per_second: 3612.2732, train_label_loss: 0.0210, \n"
     ]
    },
    {
     "name": "stdout",
     "output_type": "stream",
     "text": [
      "epoch: 7, [batch: 625 / 2084], examples_per_second: 3603.1529, train_label_loss: 0.0045, \n"
     ]
    },
    {
     "name": "stdout",
     "output_type": "stream",
     "text": [
      "epoch: 7, [batch: 834 / 2084], examples_per_second: 3611.9023, train_label_loss: 0.0029, \n"
     ]
    },
    {
     "name": "stdout",
     "output_type": "stream",
     "text": [
      "epoch: 7, [batch: 1042 / 2084], examples_per_second: 3613.7265, train_label_loss: 0.0002, \n"
     ]
    },
    {
     "name": "stdout",
     "output_type": "stream",
     "text": [
      "epoch: 7, [batch: 1250 / 2084], examples_per_second: 3626.4640, train_label_loss: 0.0142, \n"
     ]
    },
    {
     "name": "stdout",
     "output_type": "stream",
     "text": [
      "epoch: 7, [batch: 1459 / 2084], examples_per_second: 3593.1828, train_label_loss: 0.0466, \n"
     ]
    },
    {
     "name": "stdout",
     "output_type": "stream",
     "text": [
      "epoch: 7, [batch: 1667 / 2084], examples_per_second: 3648.3297, train_label_loss: 0.2498, \n"
     ]
    },
    {
     "name": "stdout",
     "output_type": "stream",
     "text": [
      "epoch: 7, [batch: 1875 / 2084], examples_per_second: 3640.9400, train_label_loss: 0.0325, \n"
     ]
    },
    {
     "name": "stdout",
     "output_type": "stream",
     "text": [
      "=============================================================\n",
      "epoch: 7, source_val_acc_label: 0.9771, target_val_acc_label: 0.3318, source_val_label_loss: 0.1075, target_val_label_loss: 2.3123, \n",
      "=============================================================\n"
     ]
    },
    {
     "name": "stdout",
     "output_type": "stream",
     "text": [
      "epoch: 8, [batch: 1 / 2082], examples_per_second: 11.1879, train_label_loss: 0.1984, \n"
     ]
    },
    {
     "name": "stdout",
     "output_type": "stream",
     "text": [
      "epoch: 8, [batch: 209 / 2082], examples_per_second: 3653.0087, train_label_loss: 0.0160, \n"
     ]
    },
    {
     "name": "stdout",
     "output_type": "stream",
     "text": [
      "epoch: 8, [batch: 417 / 2082], examples_per_second: 3636.6284, train_label_loss: 0.0315, \n"
     ]
    },
    {
     "name": "stdout",
     "output_type": "stream",
     "text": [
      "epoch: 8, [batch: 625 / 2082], examples_per_second: 3629.4061, train_label_loss: 0.0002, \n"
     ]
    },
    {
     "name": "stdout",
     "output_type": "stream",
     "text": [
      "epoch: 8, [batch: 833 / 2082], examples_per_second: 3617.5148, train_label_loss: 0.2169, \n"
     ]
    },
    {
     "name": "stdout",
     "output_type": "stream",
     "text": [
      "epoch: 8, [batch: 1041 / 2082], examples_per_second: 3615.7394, train_label_loss: 0.2166, \n"
     ]
    },
    {
     "name": "stdout",
     "output_type": "stream",
     "text": [
      "epoch: 8, [batch: 1249 / 2082], examples_per_second: 3617.4752, train_label_loss: 0.0050, \n"
     ]
    },
    {
     "name": "stdout",
     "output_type": "stream",
     "text": [
      "epoch: 8, [batch: 1457 / 2082], examples_per_second: 3645.3077, train_label_loss: 0.1080, \n"
     ]
    },
    {
     "name": "stdout",
     "output_type": "stream",
     "text": [
      "epoch: 8, [batch: 1665 / 2082], examples_per_second: 3571.7733, train_label_loss: 0.1297, \n"
     ]
    },
    {
     "name": "stdout",
     "output_type": "stream",
     "text": [
      "epoch: 8, [batch: 1873 / 2082], examples_per_second: 3637.5597, train_label_loss: 0.0834, \n"
     ]
    },
    {
     "name": "stdout",
     "output_type": "stream",
     "text": [
      "=============================================================\n",
      "epoch: 8, source_val_acc_label: 0.9777, target_val_acc_label: 0.2714, source_val_label_loss: 0.1034, target_val_label_loss: 2.3380, \n",
      "=============================================================\n"
     ]
    },
    {
     "name": "stdout",
     "output_type": "stream",
     "text": [
      "epoch: 9, [batch: 1 / 2081], examples_per_second: 11.1067, train_label_loss: 0.0014, \n"
     ]
    },
    {
     "name": "stdout",
     "output_type": "stream",
     "text": [
      "epoch: 9, [batch: 209 / 2081], examples_per_second: 3604.8620, train_label_loss: 0.0270, \n"
     ]
    },
    {
     "name": "stdout",
     "output_type": "stream",
     "text": [
      "epoch: 9, [batch: 417 / 2081], examples_per_second: 3650.0223, train_label_loss: 0.0017, \n"
     ]
    },
    {
     "name": "stdout",
     "output_type": "stream",
     "text": [
      "epoch: 9, [batch: 625 / 2081], examples_per_second: 3605.4604, train_label_loss: 0.0004, \n"
     ]
    },
    {
     "name": "stdout",
     "output_type": "stream",
     "text": [
      "epoch: 9, [batch: 833 / 2081], examples_per_second: 3636.4610, train_label_loss: 0.0127, \n"
     ]
    },
    {
     "name": "stdout",
     "output_type": "stream",
     "text": [
      "epoch: 9, [batch: 1041 / 2081], examples_per_second: 3629.3890, train_label_loss: 0.1924, \n"
     ]
    },
    {
     "name": "stdout",
     "output_type": "stream",
     "text": [
      "epoch: 9, [batch: 1249 / 2081], examples_per_second: 3647.2683, train_label_loss: 0.2138, \n"
     ]
    },
    {
     "name": "stdout",
     "output_type": "stream",
     "text": [
      "epoch: 9, [batch: 1457 / 2081], examples_per_second: 3654.7946, train_label_loss: 0.0003, \n"
     ]
    },
    {
     "name": "stdout",
     "output_type": "stream",
     "text": [
      "epoch: 9, [batch: 1665 / 2081], examples_per_second: 3587.6788, train_label_loss: 0.3902, \n"
     ]
    },
    {
     "name": "stdout",
     "output_type": "stream",
     "text": [
      "epoch: 9, [batch: 1873 / 2081], examples_per_second: 3689.1828, train_label_loss: 0.0051, \n"
     ]
    },
    {
     "name": "stdout",
     "output_type": "stream",
     "text": [
      "=============================================================\n",
      "epoch: 9, source_val_acc_label: 0.9788, target_val_acc_label: 0.3079, source_val_label_loss: 0.1055, target_val_label_loss: 2.1471, \n",
      "=============================================================\n"
     ]
    },
    {
     "name": "stdout",
     "output_type": "stream",
     "text": [
      "New best\n"
     ]
    },
    {
     "name": "stdout",
     "output_type": "stream",
     "text": [
      "epoch: 10, [batch: 1 / 2079], examples_per_second: 11.1433, train_label_loss: 0.0089, \n"
     ]
    },
    {
     "name": "stdout",
     "output_type": "stream",
     "text": [
      "epoch: 10, [batch: 208 / 2079], examples_per_second: 3612.7441, train_label_loss: 0.0031, \n"
     ]
    },
    {
     "name": "stdout",
     "output_type": "stream",
     "text": [
      "epoch: 10, [batch: 416 / 2079], examples_per_second: 3643.7279, train_label_loss: 0.0112, \n"
     ]
    },
    {
     "name": "stdout",
     "output_type": "stream",
     "text": [
      "epoch: 10, [batch: 624 / 2079], examples_per_second: 3621.3160, train_label_loss: 0.1624, \n"
     ]
    },
    {
     "name": "stdout",
     "output_type": "stream",
     "text": [
      "epoch: 10, [batch: 832 / 2079], examples_per_second: 3624.6180, train_label_loss: 0.1142, \n"
     ]
    },
    {
     "name": "stdout",
     "output_type": "stream",
     "text": [
      "epoch: 10, [batch: 1040 / 2079], examples_per_second: 3599.5756, train_label_loss: 0.0008, \n"
     ]
    },
    {
     "name": "stdout",
     "output_type": "stream",
     "text": [
      "epoch: 10, [batch: 1247 / 2079], examples_per_second: 3627.5984, train_label_loss: 0.0067, \n"
     ]
    },
    {
     "name": "stdout",
     "output_type": "stream",
     "text": [
      "epoch: 10, [batch: 1455 / 2079], examples_per_second: 3624.9576, train_label_loss: 0.4670, \n"
     ]
    },
    {
     "name": "stdout",
     "output_type": "stream",
     "text": [
      "epoch: 10, [batch: 1663 / 2079], examples_per_second: 3581.2463, train_label_loss: 0.0030, \n"
     ]
    },
    {
     "name": "stdout",
     "output_type": "stream",
     "text": [
      "epoch: 10, [batch: 1871 / 2079], examples_per_second: 3622.7721, train_label_loss: 0.0702, \n"
     ]
    },
    {
     "name": "stdout",
     "output_type": "stream",
     "text": [
      "=============================================================\n",
      "epoch: 10, source_val_acc_label: 0.9785, target_val_acc_label: 0.2712, source_val_label_loss: 0.1025, target_val_label_loss: 2.2711, \n",
      "=============================================================\n"
     ]
    },
    {
     "name": "stdout",
     "output_type": "stream",
     "text": [
      "epoch: 11, [batch: 1 / 2084], examples_per_second: 11.1526, train_label_loss: 0.0230, \n"
     ]
    },
    {
     "name": "stdout",
     "output_type": "stream",
     "text": [
      "epoch: 11, [batch: 209 / 2084], examples_per_second: 3599.7039, train_label_loss: 0.0004, \n"
     ]
    },
    {
     "name": "stdout",
     "output_type": "stream",
     "text": [
      "epoch: 11, [batch: 417 / 2084], examples_per_second: 3614.2132, train_label_loss: 0.0014, \n"
     ]
    },
    {
     "name": "stdout",
     "output_type": "stream",
     "text": [
      "epoch: 11, [batch: 625 / 2084], examples_per_second: 3631.2032, train_label_loss: 0.1478, \n"
     ]
    },
    {
     "name": "stdout",
     "output_type": "stream",
     "text": [
      "epoch: 11, [batch: 834 / 2084], examples_per_second: 3632.0589, train_label_loss: 0.0004, \n"
     ]
    },
    {
     "name": "stdout",
     "output_type": "stream",
     "text": [
      "epoch: 11, [batch: 1042 / 2084], examples_per_second: 3620.0249, train_label_loss: 0.0107, \n"
     ]
    },
    {
     "name": "stdout",
     "output_type": "stream",
     "text": [
      "epoch: 11, [batch: 1250 / 2084], examples_per_second: 3623.4326, train_label_loss: 0.1714, \n"
     ]
    },
    {
     "name": "stdout",
     "output_type": "stream",
     "text": [
      "epoch: 11, [batch: 1459 / 2084], examples_per_second: 3655.4814, train_label_loss: 0.0002, \n"
     ]
    },
    {
     "name": "stdout",
     "output_type": "stream",
     "text": [
      "epoch: 11, [batch: 1667 / 2084], examples_per_second: 3589.7494, train_label_loss: 0.1876, \n"
     ]
    },
    {
     "name": "stdout",
     "output_type": "stream",
     "text": [
      "epoch: 11, [batch: 1875 / 2084], examples_per_second: 3619.8756, train_label_loss: 0.0298, \n"
     ]
    },
    {
     "name": "stdout",
     "output_type": "stream",
     "text": [
      "=============================================================\n",
      "epoch: 11, source_val_acc_label: 0.9781, target_val_acc_label: 0.2865, source_val_label_loss: 0.1127, target_val_label_loss: 2.1084, \n",
      "=============================================================\n"
     ]
    },
    {
     "name": "stdout",
     "output_type": "stream",
     "text": [
      "New best\n"
     ]
    },
    {
     "name": "stdout",
     "output_type": "stream",
     "text": [
      "epoch: 12, [batch: 1 / 2082], examples_per_second: 11.1577, train_label_loss: 0.0055, \n"
     ]
    },
    {
     "name": "stdout",
     "output_type": "stream",
     "text": [
      "epoch: 12, [batch: 209 / 2082], examples_per_second: 3643.4206, train_label_loss: 0.0002, \n"
     ]
    },
    {
     "name": "stdout",
     "output_type": "stream",
     "text": [
      "epoch: 12, [batch: 417 / 2082], examples_per_second: 3626.6598, train_label_loss: 0.1639, \n"
     ]
    },
    {
     "name": "stdout",
     "output_type": "stream",
     "text": [
      "epoch: 12, [batch: 625 / 2082], examples_per_second: 3622.3729, train_label_loss: 0.0001, \n"
     ]
    },
    {
     "name": "stdout",
     "output_type": "stream",
     "text": [
      "epoch: 12, [batch: 833 / 2082], examples_per_second: 3635.7115, train_label_loss: 0.0059, \n"
     ]
    },
    {
     "name": "stdout",
     "output_type": "stream",
     "text": [
      "epoch: 12, [batch: 1041 / 2082], examples_per_second: 3600.5765, train_label_loss: 0.3327, \n"
     ]
    },
    {
     "name": "stdout",
     "output_type": "stream",
     "text": [
      "epoch: 12, [batch: 1249 / 2082], examples_per_second: 3613.9041, train_label_loss: 0.0265, \n"
     ]
    },
    {
     "name": "stdout",
     "output_type": "stream",
     "text": [
      "epoch: 12, [batch: 1457 / 2082], examples_per_second: 3573.1285, train_label_loss: 0.0027, \n"
     ]
    },
    {
     "name": "stdout",
     "output_type": "stream",
     "text": [
      "epoch: 12, [batch: 1665 / 2082], examples_per_second: 3621.1840, train_label_loss: 0.0058, \n"
     ]
    },
    {
     "name": "stdout",
     "output_type": "stream",
     "text": [
      "epoch: 12, [batch: 1873 / 2082], examples_per_second: 3637.0874, train_label_loss: 0.0065, \n"
     ]
    },
    {
     "name": "stdout",
     "output_type": "stream",
     "text": [
      "=============================================================\n",
      "epoch: 12, source_val_acc_label: 0.9781, target_val_acc_label: 0.2359, source_val_label_loss: 0.1089, target_val_label_loss: 2.2905, \n",
      "=============================================================\n"
     ]
    },
    {
     "name": "stdout",
     "output_type": "stream",
     "text": [
      "epoch: 13, [batch: 1 / 2078], examples_per_second: 11.1906, train_label_loss: 0.0014, \n"
     ]
    },
    {
     "name": "stdout",
     "output_type": "stream",
     "text": [
      "epoch: 13, [batch: 208 / 2078], examples_per_second: 3627.0292, train_label_loss: 0.0995, \n"
     ]
    },
    {
     "name": "stdout",
     "output_type": "stream",
     "text": [
      "epoch: 13, [batch: 416 / 2078], examples_per_second: 3614.4041, train_label_loss: 0.0047, \n"
     ]
    },
    {
     "name": "stdout",
     "output_type": "stream",
     "text": [
      "epoch: 13, [batch: 624 / 2078], examples_per_second: 3592.3955, train_label_loss: 0.0009, \n"
     ]
    },
    {
     "name": "stdout",
     "output_type": "stream",
     "text": [
      "epoch: 13, [batch: 831 / 2078], examples_per_second: 3615.3096, train_label_loss: 0.2113, \n"
     ]
    },
    {
     "name": "stdout",
     "output_type": "stream",
     "text": [
      "epoch: 13, [batch: 1039 / 2078], examples_per_second: 3610.0154, train_label_loss: 0.0006, \n"
     ]
    },
    {
     "name": "stdout",
     "output_type": "stream",
     "text": [
      "epoch: 13, [batch: 1247 / 2078], examples_per_second: 3621.2952, train_label_loss: 0.0008, \n"
     ]
    },
    {
     "name": "stdout",
     "output_type": "stream",
     "text": [
      "epoch: 13, [batch: 1454 / 2078], examples_per_second: 3640.8536, train_label_loss: 0.0094, \n"
     ]
    },
    {
     "name": "stdout",
     "output_type": "stream",
     "text": [
      "epoch: 13, [batch: 1662 / 2078], examples_per_second: 3602.1968, train_label_loss: 0.1788, \n"
     ]
    },
    {
     "name": "stdout",
     "output_type": "stream",
     "text": [
      "epoch: 13, [batch: 1870 / 2078], examples_per_second: 3674.9352, train_label_loss: 0.0413, \n"
     ]
    },
    {
     "name": "stdout",
     "output_type": "stream",
     "text": [
      "=============================================================\n",
      "epoch: 13, source_val_acc_label: 0.9780, target_val_acc_label: 0.2381, source_val_label_loss: 0.1142, target_val_label_loss: 2.2979, \n",
      "=============================================================\n"
     ]
    },
    {
     "name": "stdout",
     "output_type": "stream",
     "text": [
      "epoch: 14, [batch: 1 / 2079], examples_per_second: 11.2448, train_label_loss: 0.0450, \n"
     ]
    },
    {
     "name": "stdout",
     "output_type": "stream",
     "text": [
      "epoch: 14, [batch: 208 / 2079], examples_per_second: 3578.1732, train_label_loss: 0.0380, \n"
     ]
    },
    {
     "name": "stdout",
     "output_type": "stream",
     "text": [
      "epoch: 14, [batch: 416 / 2079], examples_per_second: 3615.9949, train_label_loss: 0.0006, \n"
     ]
    },
    {
     "name": "stdout",
     "output_type": "stream",
     "text": [
      "epoch: 14, [batch: 624 / 2079], examples_per_second: 3606.5714, train_label_loss: 0.0153, \n"
     ]
    },
    {
     "name": "stdout",
     "output_type": "stream",
     "text": [
      "epoch: 14, [batch: 832 / 2079], examples_per_second: 3634.7011, train_label_loss: 0.0081, \n"
     ]
    },
    {
     "name": "stdout",
     "output_type": "stream",
     "text": [
      "epoch: 14, [batch: 1040 / 2079], examples_per_second: 3609.8599, train_label_loss: 0.1244, \n"
     ]
    },
    {
     "name": "stdout",
     "output_type": "stream",
     "text": [
      "epoch: 14, [batch: 1247 / 2079], examples_per_second: 3608.0010, train_label_loss: 0.0634, \n"
     ]
    },
    {
     "name": "stdout",
     "output_type": "stream",
     "text": [
      "epoch: 14, [batch: 1455 / 2079], examples_per_second: 3588.4973, train_label_loss: 0.0579, \n"
     ]
    },
    {
     "name": "stdout",
     "output_type": "stream",
     "text": [
      "epoch: 14, [batch: 1663 / 2079], examples_per_second: 3613.2569, train_label_loss: 0.0362, \n"
     ]
    },
    {
     "name": "stdout",
     "output_type": "stream",
     "text": [
      "epoch: 14, [batch: 1871 / 2079], examples_per_second: 3636.6717, train_label_loss: 0.0118, \n"
     ]
    },
    {
     "name": "stdout",
     "output_type": "stream",
     "text": [
      "=============================================================\n",
      "epoch: 14, source_val_acc_label: 0.9777, target_val_acc_label: 0.2079, source_val_label_loss: 0.1189, target_val_label_loss: 2.4968, \n",
      "=============================================================\n"
     ]
    },
    {
     "name": "stdout",
     "output_type": "stream",
     "text": [
      "epoch: 15, [batch: 1 / 2078], examples_per_second: 11.1602, train_label_loss: 0.0056, \n"
     ]
    },
    {
     "name": "stdout",
     "output_type": "stream",
     "text": [
      "epoch: 15, [batch: 208 / 2078], examples_per_second: 3613.0117, train_label_loss: 0.0021, \n"
     ]
    },
    {
     "name": "stdout",
     "output_type": "stream",
     "text": [
      "epoch: 15, [batch: 416 / 2078], examples_per_second: 3631.7795, train_label_loss: 0.0437, \n"
     ]
    },
    {
     "name": "stdout",
     "output_type": "stream",
     "text": [
      "epoch: 15, [batch: 624 / 2078], examples_per_second: 3635.6639, train_label_loss: 0.1002, \n"
     ]
    },
    {
     "name": "stdout",
     "output_type": "stream",
     "text": [
      "epoch: 15, [batch: 831 / 2078], examples_per_second: 3635.5259, train_label_loss: 0.0000, \n"
     ]
    },
    {
     "name": "stdout",
     "output_type": "stream",
     "text": [
      "epoch: 15, [batch: 1039 / 2078], examples_per_second: 3624.7669, train_label_loss: 0.1878, \n"
     ]
    },
    {
     "name": "stdout",
     "output_type": "stream",
     "text": [
      "epoch: 15, [batch: 1247 / 2078], examples_per_second: 3689.9650, train_label_loss: 0.0001, \n"
     ]
    },
    {
     "name": "stdout",
     "output_type": "stream",
     "text": [
      "epoch: 15, [batch: 1454 / 2078], examples_per_second: 3660.5664, train_label_loss: 0.1467, \n"
     ]
    },
    {
     "name": "stdout",
     "output_type": "stream",
     "text": [
      "epoch: 15, [batch: 1662 / 2078], examples_per_second: 3601.3018, train_label_loss: 0.0324, \n"
     ]
    },
    {
     "name": "stdout",
     "output_type": "stream",
     "text": [
      "epoch: 15, [batch: 1870 / 2078], examples_per_second: 3656.2074, train_label_loss: 0.0018, \n"
     ]
    },
    {
     "name": "stdout",
     "output_type": "stream",
     "text": [
      "=============================================================\n",
      "epoch: 15, source_val_acc_label: 0.9757, target_val_acc_label: 0.1981, source_val_label_loss: 0.1363, target_val_label_loss: 2.5889, \n",
      "=============================================================\n"
     ]
    },
    {
     "name": "stdout",
     "output_type": "stream",
     "text": [
      "Patience (3) exhausted\n"
     ]
    }
   ],
   "source": [
    "###################################\n",
    "# train\n",
    "###################################\n",
    "jig = PTN_Train_Eval_Test_Jig(model, p.BEST_MODEL_PATH, p.device)\n",
    "\n",
    "jig.train(\n",
    "    train_iterable=datasets.source.processed.train,\n",
    "    source_val_iterable=datasets.source.processed.val,\n",
    "    target_val_iterable=datasets.target.processed.val,\n",
    "    num_epochs=p.n_epoch,\n",
    "    num_logs_per_epoch=p.NUM_LOGS_PER_EPOCH,\n",
    "    patience=p.patience,\n",
    "    optimizer=optimizer,\n",
    "    criteria_for_best=p.criteria_for_best,\n",
    ")"
   ]
  },
  {
   "cell_type": "code",
   "execution_count": 23,
   "id": "31e8fabf",
   "metadata": {
    "execution": {
     "iopub.execute_input": "2022-03-18T23:13:21.225530Z",
     "iopub.status.busy": "2022-03-18T23:13:21.225276Z",
     "iopub.status.idle": "2022-03-18T23:13:21.244544Z",
     "shell.execute_reply": "2022-03-18T23:13:21.244173Z"
    },
    "papermill": {
     "duration": 0.06569,
     "end_time": "2022-03-18T23:13:21.244636",
     "exception": false,
     "start_time": "2022-03-18T23:13:21.178946",
     "status": "completed"
    },
    "tags": []
   },
   "outputs": [],
   "source": [
    "total_experiment_time_secs = time.time() - start_time_secs"
   ]
  },
  {
   "cell_type": "code",
   "execution_count": 24,
   "id": "87b9595b",
   "metadata": {
    "execution": {
     "iopub.execute_input": "2022-03-18T23:13:21.341393Z",
     "iopub.status.busy": "2022-03-18T23:13:21.341120Z",
     "iopub.status.idle": "2022-03-18T23:14:24.003877Z",
     "shell.execute_reply": "2022-03-18T23:14:24.004287Z"
    },
    "papermill": {
     "duration": 62.710892,
     "end_time": "2022-03-18T23:14:24.004420",
     "exception": false,
     "start_time": "2022-03-18T23:13:21.293528",
     "status": "completed"
    },
    "tags": []
   },
   "outputs": [],
   "source": [
    "###################################\n",
    "# Evaluate the model\n",
    "###################################\n",
    "source_test_label_accuracy, source_test_label_loss = jig.test(datasets.source.processed.test)\n",
    "target_test_label_accuracy, target_test_label_loss = jig.test(datasets.target.processed.test)\n",
    "\n",
    "source_val_label_accuracy, source_val_label_loss = jig.test(datasets.source.processed.val)\n",
    "target_val_label_accuracy, target_val_label_loss = jig.test(datasets.target.processed.val)\n",
    "\n",
    "history = jig.get_history()\n",
    "\n",
    "total_epochs_trained = len(history[\"epoch_indices\"])\n",
    "\n",
    "val_dl = Iterable_Aggregator((datasets.source.original.val,datasets.target.original.val))\n",
    "\n",
    "confusion = ptn_confusion_by_domain_over_dataloader(model, p.device, val_dl)\n",
    "per_domain_accuracy = per_domain_accuracy_from_confusion(confusion)\n",
    "\n",
    "# Add a key to per_domain_accuracy for if it was a source domain\n",
    "for domain, accuracy in per_domain_accuracy.items():\n",
    "    per_domain_accuracy[domain] = {\n",
    "        \"accuracy\": accuracy,\n",
    "        \"source?\": domain in p.domains_source\n",
    "    }\n",
    "\n",
    "# Do an independent accuracy assesment JUST TO BE SURE!\n",
    "# _source_test_label_accuracy = independent_accuracy_assesment(model, datasets.source.processed.test, p.device)\n",
    "# _target_test_label_accuracy = independent_accuracy_assesment(model, datasets.target.processed.test, p.device)\n",
    "# _source_val_label_accuracy = independent_accuracy_assesment(model, datasets.source.processed.val, p.device)\n",
    "# _target_val_label_accuracy = independent_accuracy_assesment(model, datasets.target.processed.val, p.device)\n",
    "\n",
    "# assert(_source_test_label_accuracy == source_test_label_accuracy)\n",
    "# assert(_target_test_label_accuracy == target_test_label_accuracy)\n",
    "# assert(_source_val_label_accuracy == source_val_label_accuracy)\n",
    "# assert(_target_val_label_accuracy == target_val_label_accuracy)\n",
    "\n",
    "experiment = {\n",
    "    \"experiment_name\": p.experiment_name,\n",
    "    \"parameters\": dict(p),\n",
    "    \"results\": {\n",
    "        \"source_test_label_accuracy\": source_test_label_accuracy,\n",
    "        \"source_test_label_loss\": source_test_label_loss,\n",
    "        \"target_test_label_accuracy\": target_test_label_accuracy,\n",
    "        \"target_test_label_loss\": target_test_label_loss,\n",
    "        \"source_val_label_accuracy\": source_val_label_accuracy,\n",
    "        \"source_val_label_loss\": source_val_label_loss,\n",
    "        \"target_val_label_accuracy\": target_val_label_accuracy,\n",
    "        \"target_val_label_loss\": target_val_label_loss,\n",
    "        \"total_epochs_trained\": total_epochs_trained,\n",
    "        \"total_experiment_time_secs\": total_experiment_time_secs,\n",
    "        \"confusion\": confusion,\n",
    "        \"per_domain_accuracy\": per_domain_accuracy,\n",
    "    },\n",
    "    \"history\": history,\n",
    "    \"dataset_metrics\": get_dataset_metrics(datasets, \"ptn\"),\n",
    "}"
   ]
  },
  {
   "cell_type": "code",
   "execution_count": 25,
   "id": "54a21829",
   "metadata": {
    "execution": {
     "iopub.execute_input": "2022-03-18T23:14:24.097700Z",
     "iopub.status.busy": "2022-03-18T23:14:24.097447Z",
     "iopub.status.idle": "2022-03-18T23:14:24.225329Z",
     "shell.execute_reply": "2022-03-18T23:14:24.225741Z"
    },
    "papermill": {
     "duration": 0.173996,
     "end_time": "2022-03-18T23:14:24.225871",
     "exception": false,
     "start_time": "2022-03-18T23:14:24.051875",
     "status": "completed"
    },
    "tags": []
   },
   "outputs": [
    {
     "data": {
      "image/png": "[encoded data removed]",
      "text/plain": [
       "<Figure size 1080x504 with 1 Axes>"
      ]
     },
     "metadata": {
      "needs_background": "light"
     },
     "output_type": "display_data"
    }
   ],
   "source": [
    "ax = get_loss_curve(experiment)\n",
    "plt.show()"
   ]
  },
  {
   "cell_type": "code",
   "execution_count": 26,
   "id": "fd8a0f60",
   "metadata": {
    "execution": {
     "iopub.execute_input": "2022-03-18T23:14:24.323621Z",
     "iopub.status.busy": "2022-03-18T23:14:24.323361Z",
     "iopub.status.idle": "2022-03-18T23:14:24.466761Z",
     "shell.execute_reply": "2022-03-18T23:14:24.466997Z"
    },
    "papermill": {
     "duration": 0.190004,
     "end_time": "2022-03-18T23:14:24.467076",
     "exception": false,
     "start_time": "2022-03-18T23:14:24.277072",
     "status": "completed"
    },
    "tags": []
   },
   "outputs": [
    {
     "data": {
      "text/plain": [
       "<AxesSubplot:title={'center':'Results'}>"
      ]
     },
     "execution_count": 26,
     "metadata": {},
     "output_type": "execute_result"
    },
    {
     "data": {
      "image/png": "[encoded data removed]",
      "text/plain": [
       "<Figure size 1080x504 with 1 Axes>"
      ]
     },
     "metadata": {
      "needs_background": "light"
     },
     "output_type": "display_data"
    }
   ],
   "source": [
    "get_results_table(experiment)"
   ]
  },
  {
   "cell_type": "code",
   "execution_count": 27,
   "id": "cf8dc689",
   "metadata": {
    "execution": {
     "iopub.execute_input": "2022-03-18T23:14:24.562068Z",
     "iopub.status.busy": "2022-03-18T23:14:24.561807Z",
     "iopub.status.idle": "2022-03-18T23:14:24.723651Z",
     "shell.execute_reply": "2022-03-18T23:14:24.723192Z"
    },
    "papermill": {
     "duration": 0.209813,
     "end_time": "2022-03-18T23:14:24.723759",
     "exception": false,
     "start_time": "2022-03-18T23:14:24.513946",
     "status": "completed"
    },
    "tags": []
   },
   "outputs": [
    {
     "data": {
      "text/plain": [
       "<AxesSubplot:title={'center':'Per Domain Validation Accuracy'}, xlabel='domain'>"
      ]
     },
     "execution_count": 27,
     "metadata": {},
     "output_type": "execute_result"
    },
    {
     "data": {
      "image/png": "[encoded data removed]",
      "text/plain": [
       "<Figure size 1080x504 with 1 Axes>"
      ]
     },
     "metadata": {
      "needs_background": "light"
     },
     "output_type": "display_data"
    }
   ],
   "source": [
    "get_domain_accuracies(experiment)"
   ]
  },
  {
   "cell_type": "code",
   "execution_count": 28,
   "id": "a74ae082",
   "metadata": {
    "execution": {
     "iopub.execute_input": "2022-03-18T23:14:24.824255Z",
     "iopub.status.busy": "2022-03-18T23:14:24.823999Z",
     "iopub.status.idle": "2022-03-18T23:14:24.839914Z",
     "shell.execute_reply": "2022-03-18T23:14:24.840330Z"
    },
    "papermill": {
     "duration": 0.065686,
     "end_time": "2022-03-18T23:14:24.840458",
     "exception": false,
     "start_time": "2022-03-18T23:14:24.774772",
     "status": "completed"
    },
    "tags": []
   },
   "outputs": [
    {
     "name": "stdout",
     "output_type": "stream",
     "text": [
      "Source Test Label Accuracy: 0.9763986013986014 Target Test Label Accuracy: 0.2880859375\n",
      "Source Val Label Accuracy: 0.9781468531468531 Target Val Label Accuracy: 0.2864583333333333\n"
     ]
    }
   ],
   "source": [
    "print(\"Source Test Label Accuracy:\", experiment[\"results\"][\"source_test_label_accuracy\"], \"Target Test Label Accuracy:\", experiment[\"results\"][\"target_test_label_accuracy\"])\n",
    "print(\"Source Val Label Accuracy:\", experiment[\"results\"][\"source_val_label_accuracy\"], \"Target Val Label Accuracy:\", experiment[\"results\"][\"target_val_label_accuracy\"])"
   ]
  },
  {
   "cell_type": "code",
   "execution_count": 29,
   "id": "dacca602",
   "metadata": {
    "execution": {
     "iopub.execute_input": "2022-03-18T23:14:24.937276Z",
     "iopub.status.busy": "2022-03-18T23:14:24.937013Z",
     "iopub.status.idle": "2022-03-18T23:14:24.956166Z",
     "shell.execute_reply": "2022-03-18T23:14:24.956472Z"
    },
    "papermill": {
     "duration": 0.067859,
     "end_time": "2022-03-18T23:14:24.956572",
     "exception": false,
     "start_time": "2022-03-18T23:14:24.888713",
     "status": "completed"
    },
    "tags": [
     "experiment_json"
    ]
   },
   "outputs": [
    {
     "data": {
      "text/plain": [
       "'{\"experiment_name\": \"tl_3A:cores+wisig -> oracle.run1.framed\", \"parameters\": {\"experiment_name\": \"tl_3A:cores+wisig -> oracle.run1.framed\", \"device\": \"cuda\", \"lr\": 0.001, \"x_shape\": [2, 200], \"n_shot\": 3, \"n_query\": 2, \"train_k_factor\": 3, \"val_k_factor\": 2, \"test_k_factor\": 2, \"torch_default_dtype\": \"torch.float32\", \"n_epoch\": 50, \"patience\": 3, \"criteria_for_best\": \"target_loss\", \"x_net\": [{\"class\": \"nnReshape\", \"kargs\": {\"shape\": [-1, 1, 2, 200]}}, {\"class\": \"Conv2d\", \"kargs\": {\"in_channels\": 1, \"out_channels\": 256, \"kernel_size\": [1, 7], \"bias\": false, \"padding\": [0, 3]}}, {\"class\": \"ReLU\", \"kargs\": {\"inplace\": true}}, {\"class\": \"BatchNorm2d\", \"kargs\": {\"num_features\": 256}}, {\"class\": \"Conv2d\", \"kargs\": {\"in_channels\": 256, \"out_channels\": 80, \"kernel_size\": [2, 7], \"bias\": true, \"padding\": [0, 3]}}, {\"class\": \"ReLU\", \"kargs\": {\"inplace\": true}}, {\"class\": \"BatchNorm2d\", \"kargs\": {\"num_features\": 80}}, {\"class\": \"Flatten\", \"kargs\": {}}, {\"class\": \"Linear\", \"kargs\": {\"in_features\": 16000, \"out_features\": 256}}, {\"class\": \"ReLU\", \"kargs\": {\"inplace\": true}}, {\"class\": \"BatchNorm1d\", \"kargs\": {\"num_features\": 256}}, {\"class\": \"Linear\", \"kargs\": {\"in_features\": 256, \"out_features\": 256}}], \"NUM_LOGS_PER_EPOCH\": 10, \"BEST_MODEL_PATH\": \"./best_model.pth\", \"n_way\": 16, \"datasets\": [{\"labels\": [\"1-10.\", \"1-11.\", \"1-15.\", \"1-16.\", \"1-17.\", \"1-18.\", \"1-19.\", \"10-4.\", \"10-7.\", \"11-1.\", \"11-14.\", \"11-17.\", \"11-20.\", \"11-7.\", \"13-20.\", \"13-8.\", \"14-10.\", \"14-11.\", \"14-14.\", \"14-7.\", \"15-1.\", \"15-20.\", \"16-1.\", \"16-16.\", \"17-10.\", \"17-11.\", \"17-2.\", \"19-1.\", \"19-16.\", \"19-19.\", \"19-20.\", \"19-3.\", \"2-10.\", \"2-11.\", \"2-17.\", \"2-18.\", \"2-20.\", \"2-3.\", \"2-4.\", \"2-5.\", \"2-6.\", \"2-7.\", \"2-8.\", \"3-13.\", \"3-18.\", \"3-3.\", \"4-1.\", \"4-10.\", \"4-11.\", \"4-19.\", \"5-5.\", \"6-15.\", \"7-10.\", \"7-14.\", \"8-18.\", \"8-20.\", \"8-3.\", \"8-8.\"], \"domains\": [1, 2, 3, 4, 5], \"num_examples_per_domain_per_label\": 100, \"pickle_path\": \"/mnt/wd500GB/CSC500/csc500-main/datasets/cores.stratified_ds.2022A.pkl\", \"source_or_target_dataset\": \"source\", \"x_transforms\": [\"take_200\"], \"episode_transforms\": [], \"domain_prefix\": \"C_A_\"}, {\"labels\": [\"1-10\", \"1-12\", \"1-14\", \"1-16\", \"1-18\", \"1-19\", \"1-8\", \"10-11\", \"10-17\", \"10-4\", \"10-7\", \"11-1\", \"11-10\", \"11-19\", \"11-20\", \"11-4\", \"11-7\", \"12-19\", \"12-20\", \"12-7\", \"13-14\", \"13-18\", \"13-19\", \"13-20\", \"13-3\", \"13-7\", \"14-10\", \"14-11\", \"14-12\", \"14-13\", \"14-14\", \"14-19\", \"14-20\", \"14-7\", \"14-8\", \"14-9\", \"15-1\", \"15-19\", \"15-6\", \"16-1\", \"16-16\", \"16-19\", \"16-20\", \"17-10\", \"17-11\", \"18-1\", \"18-10\", \"18-11\", \"18-12\", \"18-13\", \"18-14\", \"18-15\", \"18-16\", \"18-17\", \"18-19\", \"18-2\", \"18-20\", \"18-4\", \"18-5\", \"18-7\", \"18-8\", \"18-9\", \"19-1\", \"19-10\", \"19-11\", \"19-12\", \"19-13\", \"19-14\", \"19-15\", \"19-19\", \"19-2\", \"19-20\", \"19-3\", \"19-4\", \"19-6\", \"19-7\", \"19-8\", \"19-9\", \"2-1\", \"2-13\", \"2-15\", \"2-3\", \"2-4\", \"2-5\", \"2-6\", \"2-7\", \"2-8\", \"20-1\", \"20-12\", \"20-14\", \"20-15\", \"20-16\", \"20-18\", \"20-19\", \"20-20\", \"20-3\", \"20-4\", \"20-5\", \"20-7\", \"20-8\", \"3-1\", \"3-13\", \"3-18\", \"3-2\", \"3-8\", \"4-1\", \"4-10\", \"4-11\", \"5-1\", \"5-5\", \"6-1\", \"6-15\", \"6-6\", \"7-10\", \"7-11\", \"7-12\", \"7-13\", \"7-14\", \"7-7\", \"7-8\", \"7-9\", \"8-1\", \"8-13\", \"8-14\", \"8-18\", \"8-20\", \"8-3\", \"8-8\", \"9-1\", \"9-7\"], \"domains\": [1, 2, 3, 4], \"num_examples_per_domain_per_label\": 100, \"pickle_path\": \"/mnt/wd500GB/CSC500/csc500-main/datasets/wisig.node3-19.stratified_ds.2022A.pkl\", \"source_or_target_dataset\": \"source\", \"x_transforms\": [\"take_200\"], \"episode_transforms\": [], \"domain_prefix\": \"W_A_\"}, {\"labels\": [\"3123D52\", \"3123D65\", \"3123D79\", \"3123D80\", \"3123D54\", \"3123D70\", \"3123D7B\", \"3123D89\", \"3123D58\", \"3123D76\", \"3123D7D\", \"3123EFE\", \"3123D64\", \"3123D78\", \"3123D7E\", \"3124E4A\"], \"domains\": [32, 38, 8, 44, 14, 50, 20, 26], \"num_examples_per_domain_per_label\": 2000, \"pickle_path\": \"/mnt/wd500GB/CSC500/csc500-main/datasets/oracle.Run1_framed_2000Examples_stratified_ds.2022A.pkl\", \"source_or_target_dataset\": \"target\", \"x_transforms\": [\"take_200\", \"resample_20Msps_to_25Msps\"], \"episode_transforms\": [], \"domain_prefix\": \"ORACLE.run1_\"}], \"seed\": 7, \"dataset_seed\": 7, \"domains_source\": [\"C_A_1\", \"C_A_2\", \"C_A_3\", \"C_A_4\", \"C_A_5\", \"W_A_1\", \"W_A_2\", \"W_A_3\", \"W_A_4\"], \"domains_target\": [\"ORACLE.run1_32\", \"ORACLE.run1_38\", \"ORACLE.run1_8\", \"ORACLE.run1_44\", \"ORACLE.run1_14\", \"ORACLE.run1_50\", \"ORACLE.run1_20\", \"ORACLE.run1_26\"]}, \"results\": {\"source_test_label_accuracy\": 0.9763986013986014, \"source_test_label_loss\": 0.12080913782119751, \"target_test_label_accuracy\": 0.2880859375, \"target_test_label_loss\": 2.109920024871826, \"source_val_label_accuracy\": 0.9781468531468531, \"source_val_label_loss\": 0.11270386725664139, \"target_val_label_accuracy\": 0.2864583333333333, \"target_val_label_loss\": 2.1083507537841797, \"total_epochs_trained\": 15, \"total_experiment_time_secs\": 854.8193266391754, \"confusion\": {\"C_A_5\": {\"26\": {\"26\": 12}, \"7\": {\"7\": 12}, \"56\": {\"56\": 12}, \"36\": {\"36\": 12}, \"47\": {\"47\": 8}, \"2\": {\"2\": 10}, \"15\": {\"15\": 12}, \"14\": {\"14\": 12}, \"27\": {\"27\": 12}, \"40\": {\"40\": 8}, \"49\": {\"49\": 12}, \"45\": {\"45\": 11, \"6\": 1}, \"46\": {\"46\": 12}, \"11\": {\"11\": 12}, \"30\": {\"30\": 12}, \"0\": {\"0\": 12}, \"10\": {\"10\": 12}, \"1\": {\"1\": 12}, \"42\": {\"42\": 12}, \"54\": {\"54\": 12}, \"55\": {\"55\": 10}, \"23\": {\"23\": 12}, \"25\": {\"25\": 8}, \"28\": {\"28\": 12}, \"32\": {\"32\": 12}, \"9\": {\"9\": 12}, \"39\": {\"39\": 12}, \"3\": {\"3\": 10}, \"29\": {\"29\": 12}, \"17\": {\"17\": 12}, \"35\": {\"35\": 12}, \"44\": {\"44\": 12}, \"5\": {\"5\": 10}, \"33\": {\"33\": 10}, \"34\": {\"34\": 12}, \"13\": {\"13\": 12}, \"41\": {\"41\": 12}, \"6\": {\"6\": 12}, \"51\": {\"51\": 10}, \"50\": {\"6\": 1, \"50\": 11}, \"37\": {\"37\": 12}, \"18\": {\"18\": 12}, \"52\": {\"52\": 10}, \"19\": {\"19\": 12}, \"4\": {\"4\": 12}, \"48\": {\"48\": 12}, \"53\": {\"53\": 10}, \"24\": {\"24\": 10}, \"12\": {\"12\": 8}, \"8\": {\"8\": 12}, \"20\": {\"20\": 12}, \"38\": {\"38\": 10}, \"43\": {\"43\": 8}, \"31\": {\"31\": 10}, \"22\": {\"22\": 10}, \"21\": {\"21\": 8}, \"57\": {\"57\": 8}, \"16\": {\"16\": 8}}, \"W_A_4\": {\"71\": {\"71\": 10}, \"17\": {\"17\": 12}, \"105\": {\"105\": 12}, \"92\": {\"92\": 12}, \"100\": {\"100\": 9, \"68\": 1, \"79\": 1, \"88\": 1}, \"6\": {\"6\": 12}, \"36\": {\"36\": 10}, \"35\": {\"35\": 12}, \"63\": {\"63\": 11, \"86\": 1}, \"104\": {\"104\": 12}, \"114\": {\"114\": 12}, \"68\": {\"68\": 11, \"12\": 1}, \"109\": {\"109\": 10}, \"27\": {\"27\": 12}, \"79\": {\"79\": 12}, \"0\": {\"0\": 12}, \"28\": {\"28\": 12}, \"4\": {\"4\": 12}, \"106\": {\"106\": 12}, \"40\": {\"40\": 12}, \"127\": {\"127\": 10, \"88\": 1, \"51\": 1}, \"57\": {\"57\": 12}, \"60\": {\"60\": 12}, \"69\": {\"69\": 10, \"49\": 1, \"83\": 1}, \"84\": {\"84\": 5, \"21\": 1}, \"24\": {\"106\": 2, \"24\": 6, \"97\": 2}, \"94\": {\"94\": 12}, \"7\": {\"7\": 12}, \"96\": {\"96\": 9, \"110\": 1}, \"116\": {\"116\": 12}, \"47\": {\"68\": 1, \"96\": 1, \"47\": 10}, \"119\": {\"119\": 12}, \"74\": {\"74\": 10}, \"93\": {\"93\": 12}, \"2\": {\"102\": 1, \"2\": 11}, \"37\": {\"37\": 12}, \"15\": {\"15\": 12}, \"102\": {\"102\": 11, \"39\": 1}, \"87\": {\"87\": 7, \"70\": 1}, \"107\": {\"107\": 12}, \"61\": {\"61\": 10, \"35\": 1, \"121\": 1}, \"78\": {\"78\": 9, \"5\": 1, \"30\": 1, \"12\": 1}, \"9\": {\"9\": 12}, \"32\": {\"32\": 12}, \"14\": {\"14\": 10}, \"62\": {\"62\": 11, \"106\": 1}, \"1\": {\"24\": 1, \"1\": 10, \"101\": 1}, \"23\": {\"24\": 1, \"23\": 8, \"101\": 1}, \"95\": {\"95\": 12}, \"56\": {\"56\": 12}, \"91\": {\"91\": 11, \"59\": 1}, \"34\": {\"34\": 12}, \"25\": {\"25\": 10}, \"3\": {\"3\": 12}, \"72\": {\"72\": 10}, \"73\": {\"73\": 12}, \"41\": {\"104\": 1, \"41\": 10, \"15\": 1}, \"70\": {\"70\": 12}, \"110\": {\"110\": 11, \"60\": 1}, \"45\": {\"45\": 12}, \"59\": {\"59\": 12}, \"55\": {\"55\": 12}, \"97\": {\"97\": 11, \"91\": 1}, \"66\": {\"66\": 12}, \"26\": {\"26\": 12}, \"53\": {\"53\": 11, \"54\": 1}, \"13\": {\"13\": 12}, \"33\": {\"33\": 12}, \"124\": {\"124\": 8}, \"85\": {\"85\": 10, \"52\": 1, \"15\": 1}, \"129\": {\"129\": 12}, \"5\": {\"5\": 12}, \"67\": {\"67\": 12}, \"101\": {\"101\": 12}, \"88\": {\"88\": 12}, \"125\": {\"125\": 12}, \"49\": {\"49\": 10, \"83\": 1, \"98\": 1}, \"86\": {\"86\": 11, \"71\": 1}, \"10\": {\"10\": 12}, \"120\": {\"120\": 12}, \"115\": {\"115\": 10, \"83\": 1, \"88\": 1}, \"31\": {\"31\": 11, \"21\": 1}, \"22\": {\"22\": 12}, \"113\": {\"113\": 12}, \"58\": {\"58\": 12}, \"75\": {\"75\": 12}, \"12\": {\"10\": 1, \"12\": 11}, \"89\": {\"89\": 12}, \"21\": {\"21\": 8, \"12\": 1, \"106\": 1}, \"99\": {\"99\": 11, \"83\": 1}, \"51\": {\"51\": 12}, \"30\": {\"30\": 11, \"10\": 1}, \"8\": {\"8\": 11, \"4\": 1}, \"39\": {\"39\": 11, \"126\": 1}, \"98\": {\"98\": 12}, \"54\": {\"86\": 1, \"54\": 11}, \"77\": {\"77\": 12}, \"43\": {\"43\": 12}, \"80\": {\"80\": 11, \"25\": 1}, \"11\": {\"11\": 12}, \"52\": {\"52\": 6}, \"50\": {\"50\": 8, \"48\": 1, \"13\": 1}, \"64\": {\"64\": 12}, \"111\": {\"111\": 12}, \"108\": {\"108\": 12}, \"19\": {\"19\": 9, \"83\": 1, \"104\": 1, \"121\": 1}, \"18\": {\"18\": 12}, \"123\": {\"123\": 12}, \"121\": {\"121\": 12}, \"81\": {\"81\": 11, \"21\": 1}, \"38\": {\"38\": 12}, \"90\": {\"90\": 12}, \"83\": {\"83\": 10, \"32\": 1, \"112\": 1}, \"65\": {\"65\": 12}, \"42\": {\"42\": 12}, \"82\": {\"82\": 6}, \"44\": {\"44\": 12}, \"16\": {\"16\": 12}, \"122\": {\"122\": 12}, \"117\": {\"117\": 12}, \"126\": {\"126\": 12}, \"76\": {\"76\": 12}, \"20\": {\"20\": 12}, \"29\": {\"29\": 12}, \"128\": {\"128\": 12}, \"46\": {\"46\": 12}, \"103\": {\"103\": 11, \"30\": 1}, \"118\": {\"118\": 12}, \"112\": {\"112\": 10}, \"48\": {\"48\": 8}}, \"C_A_1\": {\"41\": {\"41\": 12}, \"40\": {\"40\": 12}, \"45\": {\"45\": 12}, \"51\": {\"51\": 12}, \"5\": {\"5\": 12}, \"30\": {\"30\": 12}, \"42\": {\"42\": 12}, \"46\": {\"46\": 12}, \"48\": {\"48\": 10}, \"53\": {\"53\": 12}, \"47\": {\"47\": 12}, \"49\": {\"49\": 12}, \"36\": {\"36\": 12}, \"32\": {\"32\": 10}, \"34\": {\"34\": 10}, \"29\": {\"29\": 8}, \"43\": {\"43\": 12}, \"9\": {\"9\": 12}, \"44\": {\"44\": 12}, \"15\": {\"15\": 12}, \"7\": {\"7\": 12}, \"14\": {\"14\": 12}, \"24\": {\"24\": 10}, \"16\": {\"16\": 12}, \"39\": {\"39\": 10}, \"35\": {\"35\": 12}, \"57\": {\"57\": 12}, \"55\": {\"55\": 10}, \"3\": {\"3\": 12}, \"20\": {\"20\": 10}, \"17\": {\"17\": 12}, \"52\": {\"52\": 12}, \"38\": {\"38\": 12}, \"8\": {\"8\": 12}, \"4\": {\"4\": 12}, \"19\": {\"19\": 8}, \"37\": {\"37\": 10}, \"27\": {\"27\": 12}, \"12\": {\"12\": 12}, \"28\": {\"28\": 12}, \"6\": {\"6\": 12}, \"56\": {\"56\": 12}, \"50\": {\"50\": 12}, \"2\": {\"2\": 10}, \"10\": {\"10\": 8}, \"33\": {\"33\": 10}, \"54\": {\"54\": 8}, \"18\": {\"18\": 12}, \"13\": {\"13\": 10}, \"1\": {\"1\": 12}, \"21\": {\"21\": 12}, \"11\": {\"11\": 12}, \"0\": {\"0\": 8}, \"31\": {\"31\": 12}, \"26\": {\"26\": 12}, \"25\": {\"25\": 12}, \"23\": {\"23\": 4}, \"22\": {\"22\": 6}}, \"W_A_1\": {\"105\": {\"105\": 12}, \"100\": {\"100\": 12}, \"112\": {\"112\": 8, \"55\": 2}, \"123\": {\"123\": 12}, \"13\": {\"13\": 6}, \"81\": {\"81\": 10}, \"124\": {\"124\": 12}, \"122\": {\"122\": 12}, \"111\": {\"111\": 12}, \"93\": {\"93\": 12}, \"106\": {\"106\": 12}, \"113\": {\"113\": 12}, \"95\": {\"95\": 7, \"129\": 1}, \"87\": {\"87\": 12}, \"86\": {\"86\": 8}, \"67\": {\"67\": 12}, \"98\": {\"98\": 12}, \"79\": {\"79\": 12}, \"36\": {\"36\": 12}, \"91\": {\"91\": 12}, \"49\": {\"49\": 11, \"25\": 1}, \"31\": {\"31\": 12}, \"27\": {\"27\": 12}, \"52\": {\"52\": 12}, \"48\": {\"48\": 12}, \"8\": {\"8\": 6}, \"104\": {\"104\": 12}, \"110\": {\"110\": 12}, \"40\": {\"40\": 8}, \"33\": {\"33\": 12}, \"101\": {\"101\": 12}, \"28\": {\"28\": 8}, \"97\": {\"97\": 11, \"36\": 1}, \"5\": {\"5\": 12}, \"125\": {\"125\": 10}, \"121\": {\"121\": 12}, \"96\": {\"96\": 12}, \"90\": {\"90\": 12}, \"129\": {\"129\": 11, \"42\": 1}, \"84\": {\"84\": 12}, \"9\": {\"9\": 12}, \"109\": {\"109\": 12}, \"7\": {\"7\": 12}, \"26\": {\"109\": 1, \"26\": 9}, \"16\": {\"16\": 12}, \"92\": {\"92\": 12}, \"22\": {\"22\": 12}, \"70\": {\"70\": 12}, \"127\": {\"127\": 12}, \"55\": {\"55\": 10}, \"75\": {\"75\": 12}, \"23\": {\"23\": 11, \"99\": 1}, \"51\": {\"51\": 11, \"115\": 1}, \"60\": {\"60\": 11, \"128\": 1}, \"20\": {\"20\": 12}, \"94\": {\"94\": 12}, \"78\": {\"78\": 9, \"60\": 1, \"70\": 2}, \"64\": {\"64\": 12}, \"15\": {\"15\": 11, \"45\": 1}, \"61\": {\"61\": 12}, \"80\": {\"80\": 6}, \"34\": {\"34\": 11, \"14\": 1}, \"63\": {\"63\": 12}, \"108\": {\"108\": 12}, \"45\": {\"45\": 9, \"67\": 1, \"70\": 1, \"21\": 1}, \"71\": {\"71\": 12}, \"114\": {\"114\": 12}, \"69\": {\"69\": 10}, \"120\": {\"120\": 12}, \"24\": {\"24\": 12}, \"117\": {\"117\": 10}, \"25\": {\"25\": 11, \"17\": 1}, \"116\": {\"116\": 11, \"49\": 1}, \"12\": {\"12\": 12}, \"68\": {\"68\": 12}, \"50\": {\"50\": 12}, \"99\": {\"99\": 12}, \"74\": {\"74\": 12}, \"118\": {\"118\": 12}, \"1\": {\"1\": 12}, \"66\": {\"66\": 8}, \"0\": {\"0\": 11, \"25\": 1}, \"83\": {\"83\": 12}, \"32\": {\"32\": 12}, \"115\": {\"115\": 12}, \"82\": {\"82\": 12}, \"21\": {\"21\": 12}, \"85\": {\"85\": 12}, \"77\": {\"77\": 11, \"104\": 1}, \"119\": {\"119\": 12}, \"10\": {\"10\": 12}, \"76\": {\"76\": 12}, \"54\": {\"54\": 12}, \"126\": {\"126\": 12}, \"6\": {\"6\": 12}, \"4\": {\"4\": 12}, \"89\": {\"89\": 12}, \"56\": {\"56\": 12}, \"37\": {\"37\": 12}, \"72\": {\"72\": 12}, \"30\": {\"30\": 12}, \"65\": {\"65\": 7, \"63\": 2, \"12\": 1, \"57\": 2}, \"57\": {\"57\": 12}, \"62\": {\"62\": 12}, \"41\": {\"41\": 12}, \"47\": {\"47\": 12}, \"39\": {\"39\": 12}, \"19\": {\"19\": 12}, \"17\": {\"17\": 11, \"27\": 1}, \"43\": {\"43\": 10}, \"102\": {\"102\": 12}, \"42\": {\"42\": 11, \"21\": 1}, \"53\": {\"53\": 12}, \"11\": {\"11\": 12}, \"73\": {\"73\": 8}, \"35\": {\"35\": 12}, \"58\": {\"58\": 12}, \"14\": {\"14\": 12}, \"44\": {\"44\": 8}, \"107\": {\"107\": 12}, \"38\": {\"38\": 8}, \"3\": {\"3\": 12}, \"103\": {\"103\": 10}, \"59\": {\"59\": 12}, \"2\": {\"2\": 7, \"57\": 1}, \"88\": {\"88\": 8}, \"128\": {\"128\": 9, \"104\": 1}, \"46\": {\"46\": 8}, \"18\": {\"18\": 10}, \"29\": {\"29\": 8}}, \"C_A_3\": {\"1\": {\"1\": 12}, \"9\": {\"9\": 12}, \"22\": {\"22\": 12}, \"43\": {\"43\": 12}, \"49\": {\"49\": 10}, \"50\": {\"50\": 12}, \"53\": {\"53\": 10}, \"10\": {\"10\": 12}, \"48\": {\"48\": 10}, \"8\": {\"8\": 12}, \"31\": {\"31\": 12}, \"56\": {\"56\": 12}, \"25\": {\"25\": 10}, \"28\": {\"28\": 12}, \"38\": {\"38\": 12}, \"5\": {\"5\": 12}, \"34\": {\"34\": 10}, \"21\": {\"21\": 12}, \"57\": {\"57\": 12}, \"55\": {\"55\": 12}, \"47\": {\"47\": 10}, \"6\": {\"6\": 12}, \"3\": {\"3\": 6}, \"26\": {\"26\": 12}, \"16\": {\"16\": 12}, \"18\": {\"18\": 12}, \"32\": {\"32\": 12}, \"40\": {\"40\": 12}, \"2\": {\"2\": 8}, \"36\": {\"36\": 12}, \"52\": {\"52\": 12}, \"13\": {\"13\": 8}, \"42\": {\"42\": 12}, \"19\": {\"19\": 12}, \"11\": {\"11\": 10}, \"20\": {\"20\": 12}, \"17\": {\"17\": 10}, \"51\": {\"51\": 12}, \"29\": {\"29\": 10}, \"44\": {\"44\": 12}, \"27\": {\"27\": 12}, \"33\": {\"33\": 12}, \"54\": {\"54\": 12}, \"7\": {\"7\": 12}, \"14\": {\"14\": 10}, \"12\": {\"12\": 12}, \"24\": {\"24\": 12}, \"15\": {\"15\": 12}, \"35\": {\"35\": 10}, \"41\": {\"41\": 10}, \"4\": {\"4\": 12}, \"0\": {\"0\": 10}, \"39\": {\"39\": 10}, \"45\": {\"45\": 12}, \"46\": {\"46\": 10}, \"37\": {\"37\": 10}, \"23\": {\"23\": 10}, \"30\": {\"30\": 4}}, \"C_A_4\": {\"52\": {\"52\": 12}, \"6\": {\"6\": 12}, \"14\": {\"14\": 12}, \"49\": {\"49\": 12}, \"0\": {\"0\": 12}, \"46\": {\"46\": 12}, \"41\": {\"41\": 12}, \"24\": {\"24\": 12}, \"25\": {\"25\": 12}, \"40\": {\"40\": 12}, \"38\": {\"38\": 12}, \"13\": {\"13\": 12}, \"9\": {\"9\": 12}, \"45\": {\"45\": 6}, \"43\": {\"43\": 12}, \"10\": {\"10\": 12}, \"3\": {\"3\": 12}, \"32\": {\"32\": 12}, \"37\": {\"37\": 10}, \"48\": {\"48\": 12}, \"26\": {\"26\": 12}, \"30\": {\"30\": 10}, \"27\": {\"27\": 10}, \"57\": {\"57\": 12}, \"33\": {\"33\": 12}, \"21\": {\"21\": 12}, \"55\": {\"55\": 12}, \"23\": {\"23\": 12}, \"20\": {\"47\": 1, \"20\": 9}, \"19\": {\"19\": 12}, \"39\": {\"39\": 12}, \"47\": {\"47\": 10}, \"50\": {\"50\": 12}, \"1\": {\"1\": 12}, \"42\": {\"42\": 10}, \"8\": {\"8\": 8}, \"53\": {\"53\": 12}, \"4\": {\"4\": 12}, \"54\": {\"54\": 10}, \"31\": {\"31\": 12}, \"11\": {\"11\": 8}, \"5\": {\"5\": 12}, \"18\": {\"18\": 8}, \"7\": {\"7\": 12}, \"15\": {\"15\": 10}, \"17\": {\"17\": 12}, \"2\": {\"2\": 12}, \"35\": {\"35\": 10}, \"22\": {\"22\": 10}, \"34\": {\"34\": 10}, \"56\": {\"56\": 12}, \"12\": {\"12\": 12}, \"16\": {\"16\": 12}, \"51\": {\"51\": 8}, \"28\": {\"28\": 10}, \"29\": {\"29\": 12}, \"44\": {\"44\": 6}, \"36\": {\"36\": 8}}, \"C_A_2\": {\"11\": {\"11\": 12}, \"21\": {\"21\": 10}, \"19\": {\"19\": 8}, \"20\": {\"20\": 12}, \"9\": {\"9\": 10}, \"10\": {\"10\": 12}, \"37\": {\"37\": 10}, \"32\": {\"32\": 12}, \"3\": {\"3\": 12}, \"39\": {\"39\": 12}, \"45\": {\"45\": 12}, \"50\": {\"50\": 12}, \"40\": {\"40\": 12}, \"46\": {\"46\": 12}, \"12\": {\"12\": 12}, \"13\": {\"13\": 12}, \"18\": {\"18\": 8}, \"28\": {\"28\": 12}, \"57\": {\"57\": 12}, \"7\": {\"7\": 12}, \"15\": {\"15\": 12}, \"0\": {\"0\": 12}, \"36\": {\"36\": 12}, \"53\": {\"53\": 12}, \"49\": {\"49\": 12}, \"25\": {\"25\": 12}, \"29\": {\"29\": 10}, \"56\": {\"56\": 12}, \"2\": {\"2\": 10}, \"31\": {\"31\": 10}, \"54\": {\"54\": 8}, \"8\": {\"8\": 10}, \"55\": {\"55\": 12}, \"26\": {\"26\": 12}, \"24\": {\"24\": 10}, \"42\": {\"42\": 12}, \"27\": {\"27\": 6}, \"41\": {\"41\": 12}, \"43\": {\"43\": 10}, \"47\": {\"47\": 12}, \"38\": {\"38\": 12}, \"16\": {\"16\": 12}, \"34\": {\"34\": 12}, \"35\": {\"35\": 10}, \"44\": {\"44\": 12}, \"23\": {\"23\": 12}, \"52\": {\"52\": 12}, \"48\": {\"48\": 12}, \"33\": {\"33\": 12}, \"1\": {\"1\": 10}, \"14\": {\"14\": 12}, \"22\": {\"22\": 8}, \"4\": {\"4\": 12}, \"5\": {\"5\": 12}, \"51\": {\"51\": 10}, \"30\": {\"30\": 10}, \"17\": {\"17\": 8}, \"6\": {\"6\": 8}}, \"W_A_2\": {\"3\": {\"3\": 12}, \"127\": {\"127\": 12}, \"58\": {\"58\": 12}, \"114\": {\"114\": 12}, \"111\": {\"111\": 12}, \"105\": {\"105\": 11, \"21\": 1}, \"118\": {\"118\": 10, \"71\": 1, \"59\": 1}, \"23\": {\"23\": 10, \"75\": 1, \"87\": 1}, \"21\": {\"21\": 12}, \"20\": {\"20\": 12}, \"75\": {\"114\": 1, \"75\": 11}, \"86\": {\"86\": 12}, \"60\": {\"60\": 8, \"23\": 1, \"53\": 1, \"71\": 1, \"3\": 1}, \"69\": {\"69\": 12}, \"99\": {\"99\": 8}, \"14\": {\"14\": 10, \"104\": 1, \"30\": 1}, \"110\": {\"110\": 11, \"12\": 1}, \"0\": {\"0\": 12}, \"28\": {\"28\": 12}, \"124\": {\"124\": 11, \"75\": 1}, \"47\": {\"47\": 10, \"27\": 1, \"49\": 1}, \"89\": {\"89\": 11, \"65\": 1}, \"5\": {\"5\": 12}, \"83\": {\"83\": 12}, \"34\": {\"34\": 12}, \"8\": {\"8\": 12}, \"64\": {\"64\": 12}, \"73\": {\"73\": 10}, \"116\": {\"116\": 12}, \"19\": {\"19\": 12}, \"25\": {\"25\": 12}, \"55\": {\"55\": 12}, \"66\": {\"66\": 12}, \"36\": {\"36\": 11, \"27\": 1}, \"35\": {\"35\": 10, \"83\": 1, \"74\": 1}, \"6\": {\"6\": 12}, \"117\": {\"117\": 11, \"81\": 1}, \"1\": {\"1\": 12}, \"129\": {\"129\": 8}, \"45\": {\"45\": 10, \"46\": 1, \"129\": 1}, \"15\": {\"15\": 11, \"107\": 1}, \"4\": {\"4\": 12}, \"76\": {\"76\": 12}, \"103\": {\"103\": 12}, \"125\": {\"125\": 12}, \"31\": {\"31\": 12}, \"39\": {\"39\": 12}, \"88\": {\"88\": 10, \"122\": 1, \"126\": 1}, \"30\": {\"4\": 1, \"30\": 10, \"27\": 1}, \"102\": {\"102\": 12}, \"33\": {\"33\": 12}, \"93\": {\"93\": 12}, \"82\": {\"82\": 12}, \"17\": {\"17\": 9, \"45\": 1}, \"101\": {\"101\": 12}, \"9\": {\"9\": 12}, \"100\": {\"100\": 11, \"85\": 1}, \"32\": {\"32\": 12}, \"80\": {\"80\": 11, \"121\": 1}, \"51\": {\"51\": 11, \"90\": 1}, \"70\": {\"70\": 11, \"15\": 1}, \"37\": {\"37\": 6, \"105\": 1, \"12\": 1}, \"126\": {\"126\": 12}, \"62\": {\"62\": 12}, \"96\": {\"96\": 12}, \"74\": {\"74\": 8}, \"68\": {\"68\": 12}, \"98\": {\"98\": 12}, \"43\": {\"43\": 10, \"11\": 1, \"88\": 1}, \"40\": {\"40\": 11, \"84\": 1}, \"41\": {\"41\": 12}, \"54\": {\"54\": 12}, \"81\": {\"81\": 12}, \"27\": {\"21\": 1, \"109\": 1, \"27\": 7, \"36\": 3}, \"29\": {\"29\": 12}, \"109\": {\"109\": 11, \"70\": 1}, \"121\": {\"121\": 6}, \"91\": {\"91\": 11, \"77\": 1}, \"16\": {\"16\": 12}, \"42\": {\"42\": 12}, \"18\": {\"18\": 12}, \"78\": {\"78\": 12}, \"48\": {\"48\": 12}, \"72\": {\"72\": 12}, \"123\": {\"123\": 12}, \"44\": {\"44\": 12}, \"63\": {\"63\": 10}, \"26\": {\"26\": 12}, \"50\": {\"50\": 9, \"97\": 1}, \"10\": {\"10\": 12}, \"61\": {\"61\": 9, \"12\": 1, \"40\": 1, \"24\": 1}, \"97\": {\"97\": 9, \"51\": 1}, \"67\": {\"67\": 8}, \"113\": {\"113\": 12}, \"7\": {\"7\": 9, \"126\": 1}, \"71\": {\"71\": 11, \"21\": 1}, \"2\": {\"2\": 12}, \"57\": {\"57\": 10, \"24\": 1, \"84\": 1}, \"59\": {\"59\": 7, \"71\": 1, \"25\": 1, \"12\": 1}, \"112\": {\"112\": 7, \"45\": 1}, \"79\": {\"79\": 12}, \"52\": {\"52\": 10, \"85\": 1, \"88\": 1}, \"13\": {\"13\": 10, \"29\": 1, \"85\": 1}, \"128\": {\"128\": 10}, \"120\": {\"120\": 12}, \"94\": {\"94\": 9, \"71\": 1, \"46\": 1, \"36\": 1}, \"85\": {\"85\": 12}, \"46\": {\"46\": 11, \"17\": 1}, \"22\": {\"22\": 12}, \"90\": {\"90\": 12}, \"77\": {\"77\": 10, \"110\": 1, \"4\": 1}, \"106\": {\"106\": 12}, \"104\": {\"104\": 9, \"112\": 1}, \"95\": {\"95\": 12}, \"12\": {\"12\": 12}, \"49\": {\"49\": 12}, \"87\": {\"87\": 10, \"43\": 1, \"104\": 1}, \"65\": {\"65\": 8}, \"84\": {\"5\": 1, \"84\": 11}, \"38\": {\"38\": 12}, \"53\": {\"53\": 10, \"38\": 1, \"24\": 1}, \"122\": {\"122\": 12}, \"119\": {\"119\": 12}, \"108\": {\"108\": 10}, \"107\": {\"107\": 12}, \"24\": {\"24\": 12}, \"115\": {\"115\": 10, \"38\": 1, \"53\": 1}, \"56\": {\"56\": 12}, \"11\": {\"11\": 10}, \"92\": {\"92\": 12}}, \"W_A_3\": {\"106\": {\"106\": 11, \"92\": 1}, \"129\": {\"129\": 12}, \"77\": {\"77\": 12}, \"53\": {\"53\": 12}, \"3\": {\"3\": 12}, \"76\": {\"76\": 12}, \"22\": {\"22\": 12}, \"108\": {\"108\": 12}, \"39\": {\"39\": 12}, \"107\": {\"107\": 12}, \"112\": {\"112\": 12}, \"113\": {\"113\": 12}, \"11\": {\"11\": 10}, \"128\": {\"128\": 12}, \"44\": {\"44\": 12}, \"28\": {\"28\": 10}, \"43\": {\"43\": 12}, \"94\": {\"94\": 12}, \"102\": {\"102\": 12}, \"30\": {\"30\": 12}, \"35\": {\"35\": 11, \"52\": 1}, \"123\": {\"123\": 11, \"82\": 1}, \"58\": {\"58\": 12}, \"119\": {\"119\": 12}, \"21\": {\"21\": 10, \"24\": 1, \"32\": 1}, \"79\": {\"79\": 12}, \"117\": {\"117\": 12}, \"121\": {\"121\": 11, \"64\": 1}, \"63\": {\"63\": 12}, \"96\": {\"96\": 12}, \"31\": {\"31\": 12}, \"13\": {\"13\": 9, \"70\": 1, \"78\": 1, \"69\": 1}, \"51\": {\"51\": 11, \"13\": 1}, \"56\": {\"56\": 6}, \"87\": {\"87\": 12}, \"14\": {\"14\": 8}, \"48\": {\"48\": 12}, \"25\": {\"25\": 12}, \"17\": {\"17\": 12}, \"70\": {\"70\": 12}, \"26\": {\"26\": 10}, \"92\": {\"92\": 11, \"114\": 1}, \"45\": {\"45\": 12}, \"105\": {\"105\": 12}, \"61\": {\"61\": 12}, \"36\": {\"36\": 11, \"43\": 1}, \"0\": {\"0\": 12}, \"27\": {\"27\": 6}, \"67\": {\"67\": 12}, \"97\": {\"97\": 11, \"41\": 1}, \"46\": {\"46\": 10}, \"9\": {\"9\": 12}, \"12\": {\"12\": 10}, \"18\": {\"18\": 8}, \"127\": {\"127\": 12}, \"52\": {\"52\": 12}, \"54\": {\"54\": 10}, \"55\": {\"55\": 12}, \"57\": {\"57\": 12}, \"15\": {\"15\": 12}, \"74\": {\"74\": 8}, \"5\": {\"5\": 12}, \"114\": {\"114\": 12}, \"69\": {\"69\": 12}, \"16\": {\"51\": 1, \"16\": 11}, \"38\": {\"38\": 12}, \"124\": {\"124\": 12}, \"125\": {\"125\": 12}, \"41\": {\"41\": 8}, \"80\": {\"80\": 12}, \"82\": {\"82\": 12}, \"84\": {\"84\": 12}, \"93\": {\"93\": 10}, \"29\": {\"29\": 10}, \"33\": {\"33\": 10}, \"120\": {\"120\": 12}, \"66\": {\"120\": 1, \"66\": 8, \"44\": 1}, \"89\": {\"89\": 12}, \"101\": {\"101\": 12}, \"64\": {\"64\": 12}, \"100\": {\"100\": 12}, \"86\": {\"86\": 12}, \"60\": {\"60\": 12}, \"78\": {\"78\": 10, \"51\": 1, \"81\": 1}, \"73\": {\"73\": 12}, \"19\": {\"19\": 10}, \"122\": {\"122\": 10, \"23\": 1, \"70\": 1}, \"4\": {\"4\": 12}, \"104\": {\"104\": 10}, \"118\": {\"118\": 12}, \"42\": {\"42\": 12}, \"83\": {\"83\": 10, \"12\": 1, \"21\": 1}, \"91\": {\"91\": 12}, \"62\": {\"62\": 12}, \"2\": {\"2\": 12}, \"1\": {\"1\": 12}, \"90\": {\"90\": 10}, \"34\": {\"34\": 11, \"85\": 1}, \"75\": {\"75\": 12}, \"81\": {\"81\": 12}, \"109\": {\"109\": 12}, \"103\": {\"103\": 12}, \"110\": {\"110\": 12}, \"71\": {\"71\": 12}, \"65\": {\"65\": 12}, \"99\": {\"99\": 12}, \"7\": {\"7\": 7, \"105\": 1}, \"98\": {\"98\": 12}, \"68\": {\"68\": 12}, \"24\": {\"24\": 12}, \"6\": {\"6\": 12}, \"115\": {\"115\": 10}, \"40\": {\"40\": 8}, \"20\": {\"20\": 12}, \"95\": {\"95\": 12}, \"10\": {\"10\": 12}, \"126\": {\"126\": 12}, \"72\": {\"72\": 9, \"128\": 1}, \"49\": {\"49\": 12}, \"111\": {\"111\": 10}, \"37\": {\"37\": 8, \"47\": 1, \"74\": 1}, \"88\": {\"34\": 1, \"88\": 9}, \"32\": {\"32\": 12}, \"47\": {\"47\": 12}, \"59\": {\"59\": 12}, \"23\": {\"23\": 10}, \"116\": {\"116\": 12}, \"85\": {\"85\": 8}, \"8\": {\"8\": 8}, \"50\": {\"50\": 6}}, \"ORACLE.run1_26\": {\"0\": {\"9\": 10, \"6\": 13, \"10\": 46, \"12\": 13, \"3\": 6, \"14\": 32, \"0\": 36, \"5\": 9, \"8\": 18, \"15\": 19, \"2\": 22, \"7\": 10, \"1\": 6}, \"4\": {\"7\": 15, \"3\": 52, \"4\": 101, \"13\": 38, \"9\": 17, \"12\": 8, \"8\": 6, \"2\": 3}, \"14\": {\"10\": 38, \"1\": 24, \"14\": 35, \"5\": 20, \"6\": 29, \"0\": 34, \"8\": 4, \"15\": 33, \"2\": 10, \"7\": 4, \"9\": 4, \"11\": 3, \"12\": 2}, \"12\": {\"9\": 32, \"12\": 44, \"7\": 36, \"3\": 35, \"13\": 23, \"8\": 30, \"0\": 12, \"2\": 20, \"14\": 4, \"15\": 1, \"10\": 3}, \"8\": {\"13\": 24, \"9\": 39, \"7\": 36, \"12\": 25, \"8\": 23, \"2\": 32, \"0\": 21, \"3\": 25, \"14\": 8, \"10\": 4, \"15\": 1, \"4\": 2}, \"7\": {\"0\": 6, \"9\": 35, \"7\": 45, \"8\": 36, \"2\": 22, \"3\": 36, \"12\": 31, \"13\": 22, \"10\": 5, \"4\": 2}, \"13\": {\"3\": 31, \"7\": 27, \"8\": 27, \"9\": 35, \"12\": 33, \"13\": 45, \"0\": 5, \"4\": 20, \"14\": 1, \"2\": 15, \"10\": 1}, \"5\": {\"10\": 26, \"15\": 32, \"14\": 18, \"5\": 47, \"1\": 43, \"6\": 44, \"0\": 8, \"2\": 1, \"11\": 21}, \"15\": {\"6\": 40, \"1\": 27, \"10\": 32, \"14\": 26, \"15\": 46, \"5\": 36, \"0\": 17, \"2\": 2, \"11\": 11, \"9\": 1, \"7\": 1, \"8\": 1}, \"10\": {\"5\": 15, \"10\": 43, \"14\": 35, \"0\": 35, \"6\": 35, \"8\": 5, \"7\": 2, \"15\": 39, \"1\": 13, \"2\": 11, \"11\": 3, \"9\": 2, \"13\": 1, \"12\": 1}, \"3\": {\"13\": 36, \"9\": 37, \"12\": 28, \"7\": 44, \"3\": 39, \"2\": 14, \"8\": 25, \"0\": 4, \"4\": 13}, \"9\": {\"9\": 42, \"7\": 31, \"3\": 35, \"12\": 33, \"2\": 19, \"13\": 33, \"8\": 29, \"6\": 1, \"0\": 8, \"4\": 4, \"15\": 3, \"10\": 2}, \"6\": {\"14\": 26, \"15\": 41, \"10\": 34, \"5\": 30, \"6\": 42, \"0\": 14, \"1\": 37, \"11\": 15, \"2\": 1}, \"1\": {\"14\": 21, \"11\": 29, \"1\": 41, \"10\": 31, \"15\": 32, \"6\": 31, \"5\": 39, \"0\": 14, \"2\": 2}, \"11\": {\"14\": 7, \"5\": 41, \"11\": 65, \"1\": 43, \"6\": 43, \"15\": 31, \"10\": 9, \"0\": 1}, \"2\": {\"14\": 13, \"9\": 32, \"8\": 31, \"12\": 29, \"3\": 19, \"7\": 37, \"2\": 28, \"0\": 16, \"10\": 10, \"13\": 18, \"6\": 2, \"15\": 2, \"5\": 2, \"11\": 1}}, \"ORACLE.run1_44\": {\"1\": {\"1\": 68, \"2\": 61, \"12\": 1, \"15\": 10, \"0\": 49, \"8\": 20, \"5\": 11, \"14\": 5, \"4\": 3, \"7\": 2, \"3\": 2, \"10\": 7, \"9\": 1}, \"11\": {\"11\": 214, \"13\": 23, \"6\": 3}, \"3\": {\"12\": 111, \"0\": 19, \"3\": 102, \"1\": 6, \"2\": 1, \"8\": 1}, \"6\": {\"7\": 29, \"13\": 64, \"6\": 74, \"9\": 39, \"10\": 11, \"4\": 17, \"14\": 2, \"5\": 3, \"15\": 1}, \"7\": {\"9\": 48, \"4\": 34, \"7\": 42, \"14\": 25, \"10\": 34, \"5\": 19, \"15\": 15, \"6\": 11, \"2\": 8, \"13\": 4}, \"5\": {\"15\": 37, \"7\": 22, \"5\": 28, \"8\": 20, \"4\": 38, \"14\": 33, \"10\": 23, \"1\": 8, \"9\": 21, \"2\": 6, \"0\": 2, \"6\": 1, \"13\": 1}, \"2\": {\"10\": 11, \"2\": 68, \"4\": 7, \"1\": 52, \"8\": 23, \"14\": 6, \"5\": 17, \"0\": 21, \"15\": 24, \"7\": 6, \"9\": 5}, \"15\": {\"15\": 37, \"14\": 32, \"2\": 18, \"1\": 17, \"8\": 31, \"10\": 17, \"4\": 25, \"7\": 13, \"5\": 32, \"0\": 9, \"9\": 8, \"6\": 1}, \"10\": {\"7\": 44, \"9\": 34, \"4\": 29, \"8\": 2, \"5\": 24, \"6\": 12, \"10\": 35, \"15\": 13, \"14\": 32, \"13\": 2, \"2\": 8, \"1\": 4, \"0\": 1}, \"13\": {\"9\": 23, \"6\": 68, \"13\": 111, \"4\": 10, \"7\": 11, \"11\": 15, \"10\": 1, \"5\": 1}, \"8\": {\"0\": 43, \"2\": 22, \"8\": 60, \"1\": 30, \"5\": 18, \"14\": 12, \"15\": 35, \"7\": 4, \"10\": 2, \"4\": 9, \"3\": 2, \"9\": 3}, \"4\": {\"5\": 33, \"15\": 15, \"2\": 13, \"10\": 28, \"9\": 24, \"4\": 28, \"6\": 19, \"7\": 28, \"14\": 27, \"1\": 6, \"8\": 9, \"13\": 7, \"0\": 3}, \"9\": {\"14\": 18, \"6\": 38, \"7\": 32, \"10\": 38, \"9\": 27, \"4\": 19, \"5\": 13, \"13\": 34, \"2\": 9, \"8\": 2, \"15\": 6, \"11\": 3, \"1\": 1}, \"14\": {\"15\": 23, \"4\": 34, \"14\": 33, \"8\": 15, \"0\": 1, \"7\": 27, \"6\": 3, \"10\": 26, \"5\": 41, \"9\": 25, \"2\": 8, \"1\": 3, \"13\": 1}, \"0\": {\"0\": 78, \"8\": 54, \"2\": 32, \"1\": 35, \"14\": 6, \"15\": 18, \"12\": 3, \"4\": 4, \"5\": 4, \"3\": 5, \"10\": 1}, \"12\": {\"3\": 104, \"12\": 125, \"0\": 5, \"1\": 5, \"2\": 1}}, \"ORACLE.run1_50\": {\"15\": {\"12\": 50, \"9\": 35, \"5\": 36, \"11\": 21, \"6\": 34, \"3\": 21, \"15\": 38, \"7\": 2, \"4\": 3}, \"4\": {\"4\": 84, \"7\": 83, \"9\": 13, \"15\": 8, \"5\": 38, \"6\": 5, \"3\": 5, \"12\": 4}, \"6\": {\"15\": 42, \"6\": 34, \"7\": 2, \"11\": 24, \"9\": 35, \"12\": 29, \"5\": 28, \"3\": 35, \"4\": 9, \"13\": 2}, \"2\": {\"14\": 75, \"2\": 76, \"0\": 56, \"10\": 29, \"8\": 2, \"1\": 2}, \"5\": {\"15\": 26, \"7\": 32, \"11\": 16, \"12\": 13, \"4\": 35, \"3\": 20, \"5\": 42, \"9\": 24, \"6\": 20, \"13\": 12}, \"9\": {\"15\": 50, \"12\": 32, \"9\": 54, \"5\": 29, \"7\": 9, \"11\": 19, \"3\": 11, \"6\": 28, \"4\": 8}, \"8\": {\"8\": 81, \"13\": 40, \"1\": 57, \"0\": 12, \"11\": 2, \"10\": 47, \"2\": 1}, \"12\": {\"9\": 26, \"12\": 48, \"3\": 19, \"15\": 43, \"6\": 44, \"5\": 16, \"13\": 4, \"11\": 34, \"7\": 1, \"4\": 4, \"1\": 1}, \"10\": {\"0\": 33, \"2\": 31, \"10\": 73, \"1\": 33, \"8\": 47, \"13\": 3, \"14\": 20}, \"1\": {\"13\": 50, \"1\": 81, \"12\": 4, \"8\": 61, \"2\": 2, \"10\": 23, \"14\": 3, \"11\": 12, \"3\": 1, \"6\": 2, \"0\": 1}, \"0\": {\"14\": 60, \"10\": 45, \"0\": 52, \"2\": 67, \"8\": 11, \"1\": 5}, \"3\": {\"12\": 30, \"15\": 33, \"7\": 4, \"3\": 45, \"5\": 30, \"9\": 21, \"6\": 34, \"11\": 31, \"13\": 5, \"4\": 7}, \"13\": {\"1\": 65, \"13\": 65, \"12\": 14, \"3\": 9, \"8\": 31, \"11\": 34, \"15\": 7, \"6\": 7, \"5\": 3, \"9\": 3, \"10\": 2}, \"11\": {\"15\": 31, \"12\": 47, \"11\": 53, \"9\": 17, \"13\": 27, \"6\": 28, \"3\": 20, \"5\": 13, \"1\": 4}, \"7\": {\"7\": 88, \"3\": 3, \"4\": 74, \"15\": 11, \"9\": 12, \"5\": 38, \"12\": 4, \"6\": 10}, \"14\": {\"14\": 86, \"2\": 84, \"10\": 17, \"0\": 53}}, \"ORACLE.run1_38\": {\"15\": {\"8\": 26, \"12\": 45, \"15\": 87, \"5\": 28, \"1\": 33, \"6\": 16, \"9\": 5}, \"11\": {\"11\": 173, \"3\": 67}, \"10\": {\"13\": 44, \"4\": 28, \"0\": 66, \"10\": 92, \"3\": 6, \"11\": 1, \"14\": 2, \"2\": 1}, \"14\": {\"5\": 10, \"10\": 3, \"4\": 26, \"14\": 56, \"2\": 36, \"7\": 42, \"0\": 13, \"9\": 33, \"8\": 8, \"13\": 12, \"12\": 1}, \"6\": {\"1\": 113, \"15\": 16, \"6\": 111}, \"4\": {\"4\": 71, \"0\": 37, \"7\": 16, \"10\": 31, \"13\": 46, \"2\": 10, \"9\": 3, \"14\": 26}, \"13\": {\"10\": 41, \"0\": 63, \"4\": 43, \"7\": 8, \"13\": 58, \"2\": 13, \"14\": 12, \"9\": 1, \"3\": 1}, \"3\": {\"3\": 180, \"11\": 50, \"0\": 2, \"10\": 7, \"13\": 1}, \"7\": {\"5\": 11, \"14\": 39, \"4\": 15, \"7\": 65, \"9\": 33, \"8\": 12, \"2\": 54, \"13\": 6, \"0\": 5}, \"8\": {\"8\": 40, \"5\": 39, \"7\": 26, \"12\": 35, \"14\": 16, \"2\": 23, \"15\": 20, \"9\": 36, \"13\": 3, \"4\": 1, \"0\": 1}, \"1\": {\"15\": 23, \"1\": 113, \"6\": 101, \"8\": 1, \"12\": 2}, \"5\": {\"12\": 37, \"6\": 1, \"15\": 20, \"7\": 18, \"14\": 15, \"5\": 45, \"8\": 43, \"9\": 38, \"2\": 21, \"4\": 2}, \"0\": {\"3\": 10, \"0\": 54, \"9\": 3, \"10\": 61, \"14\": 20, \"13\": 41, \"4\": 29, \"7\": 10, \"2\": 11, \"11\": 1}, \"2\": {\"4\": 13, \"7\": 42, \"2\": 60, \"14\": 47, \"8\": 11, \"5\": 7, \"13\": 14, \"0\": 13, \"9\": 32, \"12\": 1}, \"12\": {\"12\": 99, \"5\": 51, \"15\": 39, \"8\": 40, \"9\": 8, \"2\": 1, \"14\": 1, \"7\": 1}, \"9\": {\"2\": 33, \"5\": 35, \"4\": 2, \"8\": 25, \"9\": 72, \"7\": 40, \"14\": 29, \"13\": 1, \"15\": 1, \"0\": 2}}, \"ORACLE.run1_20\": {\"10\": {\"12\": 25, \"4\": 43, \"13\": 27, \"7\": 18, \"10\": 65, \"2\": 19, \"9\": 4, \"15\": 9, \"6\": 24, \"5\": 3, \"3\": 1, \"1\": 2}, \"7\": {\"4\": 26, \"12\": 18, \"7\": 30, \"9\": 18, \"5\": 15, \"14\": 12, \"2\": 24, \"15\": 19, \"6\": 21, \"1\": 20, \"13\": 13, \"3\": 12, \"8\": 8, \"10\": 3, \"0\": 1}, \"4\": {\"14\": 5, \"4\": 31, \"9\": 17, \"10\": 21, \"13\": 21, \"6\": 34, \"5\": 6, \"15\": 15, \"1\": 14, \"2\": 31, \"12\": 22, \"7\": 16, \"8\": 3, \"3\": 4}, \"13\": {\"13\": 38, \"12\": 34, \"4\": 33, \"10\": 22, \"1\": 14, \"15\": 16, \"7\": 14, \"5\": 5, \"9\": 13, \"2\": 28, \"3\": 1, \"6\": 21, \"14\": 1}, \"1\": {\"13\": 10, \"1\": 26, \"15\": 26, \"9\": 17, \"4\": 13, \"5\": 32, \"3\": 22, \"12\": 26, \"2\": 15, \"0\": 2, \"6\": 12, \"8\": 8, \"7\": 23, \"14\": 7, \"10\": 1}, \"0\": {\"8\": 34, \"11\": 74, \"0\": 84, \"14\": 14, \"3\": 14, \"5\": 12, \"1\": 5, \"9\": 2, \"7\": 1}, \"12\": {\"13\": 22, \"5\": 11, \"7\": 34, \"14\": 7, \"15\": 21, \"6\": 16, \"4\": 24, \"9\": 25, \"12\": 21, \"1\": 16, \"10\": 14, \"2\": 25, \"8\": 2, \"3\": 2}, \"5\": {\"3\": 21, \"12\": 12, \"5\": 36, \"13\": 5, \"14\": 18, \"8\": 24, \"15\": 23, \"9\": 27, \"2\": 11, \"1\": 34, \"7\": 14, \"4\": 5, \"6\": 9, \"0\": 1}, \"6\": {\"7\": 27, \"10\": 13, \"14\": 14, \"4\": 31, \"13\": 8, \"12\": 21, \"8\": 9, \"15\": 11, \"3\": 9, \"6\": 39, \"9\": 13, \"5\": 12, \"1\": 9, \"2\": 23, \"0\": 1}, \"2\": {\"10\": 2, \"12\": 26, \"14\": 7, \"4\": 32, \"6\": 19, \"15\": 29, \"13\": 17, \"8\": 5, \"7\": 28, \"2\": 28, \"9\": 18, \"5\": 11, \"1\": 14, \"3\": 3, \"0\": 1}, \"8\": {\"13\": 3, \"0\": 24, \"1\": 23, \"9\": 24, \"5\": 27, \"3\": 28, \"12\": 4, \"8\": 33, \"14\": 37, \"11\": 4, \"15\": 4, \"2\": 4, \"6\": 10, \"7\": 9, \"4\": 6}, \"11\": {\"11\": 114, \"0\": 81, \"14\": 10, \"8\": 23, \"5\": 3, \"3\": 7, \"7\": 1, \"1\": 1}, \"9\": {\"5\": 28, \"13\": 7, \"9\": 28, \"7\": 19, \"1\": 24, \"2\": 16, \"8\": 18, \"15\": 15, \"3\": 21, \"4\": 16, \"12\": 14, \"14\": 15, \"6\": 16, \"0\": 2, \"10\": 1}, \"14\": {\"14\": 38, \"8\": 37, \"1\": 25, \"0\": 6, \"4\": 8, \"3\": 25, \"6\": 16, \"5\": 30, \"7\": 16, \"9\": 23, \"2\": 5, \"12\": 4, \"15\": 2, \"13\": 2, \"11\": 3}, \"15\": {\"12\": 28, \"7\": 22, \"13\": 27, \"4\": 21, \"15\": 21, \"1\": 21, \"6\": 17, \"10\": 4, \"9\": 16, \"5\": 22, \"2\": 24, \"3\": 11, \"14\": 4, \"8\": 2}, \"3\": {\"5\": 22, \"13\": 2, \"14\": 27, \"3\": 33, \"0\": 6, \"9\": 28, \"1\": 28, \"8\": 27, \"4\": 10, \"2\": 16, \"12\": 7, \"7\": 14, \"15\": 9, \"11\": 2, \"6\": 9}}, \"ORACLE.run1_14\": {\"14\": {\"13\": 20, \"12\": 12, \"0\": 42, \"14\": 39, \"5\": 21, \"8\": 22, \"7\": 21, \"6\": 15, \"3\": 16, \"2\": 30, \"4\": 2}, \"0\": {\"0\": 37, \"7\": 22, \"8\": 19, \"14\": 34, \"4\": 9, \"13\": 19, \"2\": 21, \"3\": 26, \"5\": 25, \"12\": 13, \"6\": 14, \"10\": 1}, \"4\": {\"5\": 32, \"10\": 42, \"13\": 5, \"4\": 84, \"8\": 9, \"2\": 23, \"12\": 17, \"14\": 4, \"9\": 13, \"0\": 5, \"7\": 2, \"1\": 4}, \"11\": {\"11\": 236, \"9\": 3, \"1\": 1}, \"13\": {\"13\": 25, \"0\": 15, \"4\": 10, \"14\": 20, \"5\": 15, \"3\": 28, \"2\": 22, \"6\": 50, \"15\": 9, \"7\": 25, \"8\": 19, \"10\": 1, \"12\": 1}, \"9\": {\"4\": 18, \"10\": 72, \"9\": 93, \"1\": 49, \"12\": 5, \"5\": 2, \"2\": 1}, \"3\": {\"13\": 28, \"0\": 33, \"3\": 34, \"14\": 26, \"2\": 15, \"7\": 41, \"5\": 9, \"12\": 3, \"6\": 41, \"8\": 10}, \"6\": {\"13\": 43, \"3\": 54, \"7\": 24, \"6\": 54, \"14\": 21, \"5\": 8, \"2\": 11, \"0\": 19, \"8\": 6}, \"1\": {\"10\": 50, \"1\": 113, \"9\": 65, \"4\": 11, \"2\": 1}, \"5\": {\"13\": 6, \"12\": 22, \"5\": 58, \"7\": 24, \"14\": 26, \"0\": 21, \"2\": 31, \"4\": 16, \"3\": 5, \"8\": 27, \"6\": 3, \"10\": 1}, \"12\": {\"0\": 19, \"13\": 5, \"14\": 16, \"12\": 64, \"5\": 36, \"8\": 46, \"10\": 4, \"2\": 26, \"4\": 9, \"3\": 7, \"7\": 5, \"6\": 3}, \"10\": {\"10\": 85, \"1\": 36, \"2\": 9, \"4\": 51, \"5\": 9, \"9\": 37, \"12\": 5, \"7\": 1, \"8\": 6, \"0\": 1}, \"8\": {\"0\": 31, \"5\": 39, \"8\": 47, \"7\": 22, \"13\": 8, \"12\": 35, \"10\": 1, \"3\": 10, \"2\": 22, \"14\": 18, \"6\": 4, \"4\": 3}, \"7\": {\"13\": 25, \"8\": 23, \"14\": 26, \"5\": 21, \"3\": 30, \"0\": 35, \"7\": 39, \"6\": 17, \"4\": 3, \"2\": 14, \"12\": 7}, \"15\": {\"15\": 238, \"13\": 2}, \"2\": {\"13\": 13, \"5\": 34, \"7\": 22, \"8\": 17, \"6\": 11, \"4\": 28, \"3\": 11, \"0\": 24, \"14\": 20, \"2\": 38, \"12\": 16, \"10\": 6}}, \"ORACLE.run1_32\": {\"11\": {\"9\": 47, \"11\": 107, \"13\": 30, \"3\": 15, \"4\": 6, \"12\": 30, \"10\": 3, \"2\": 2}, \"1\": {\"13\": 8, \"1\": 88, \"2\": 55, \"4\": 35, \"8\": 20, \"7\": 7, \"5\": 2, \"14\": 11, \"3\": 6, \"15\": 2, \"0\": 6}, \"2\": {\"2\": 56, \"4\": 52, \"8\": 22, \"14\": 18, \"3\": 29, \"1\": 27, \"13\": 15, \"11\": 1, \"9\": 2, \"0\": 15, \"7\": 3}, \"0\": {\"0\": 45, \"15\": 24, \"14\": 41, \"5\": 34, \"7\": 43, \"1\": 2, \"8\": 45, \"2\": 4, \"4\": 2}, \"3\": {\"4\": 49, \"9\": 14, \"13\": 61, \"3\": 74, \"2\": 26, \"1\": 2, \"14\": 2, \"11\": 9, \"8\": 3}, \"8\": {\"8\": 51, \"4\": 8, \"5\": 28, \"14\": 36, \"2\": 20, \"15\": 23, \"1\": 7, \"0\": 31, \"7\": 27, \"3\": 6, \"13\": 3}, \"12\": {\"10\": 52, \"12\": 97, \"9\": 37, \"11\": 43, \"6\": 3, \"13\": 8}, \"5\": {\"0\": 36, \"15\": 36, \"7\": 58, \"5\": 57, \"14\": 33, \"8\": 18, \"2\": 1, \"4\": 1}, \"15\": {\"15\": 66, \"7\": 42, \"14\": 23, \"5\": 40, \"0\": 32, \"2\": 2, \"8\": 35}, \"7\": {\"15\": 26, \"5\": 46, \"14\": 46, \"7\": 51, \"8\": 35, \"0\": 34, \"1\": 1, \"2\": 1}, \"4\": {\"13\": 40, \"4\": 64, \"3\": 48, \"2\": 41, \"8\": 15, \"1\": 15, \"14\": 6, \"11\": 1, \"9\": 7, \"0\": 3}, \"14\": {\"15\": 25, \"2\": 15, \"5\": 23, \"4\": 6, \"7\": 44, \"0\": 40, \"8\": 38, \"14\": 39, \"1\": 8, \"13\": 1, \"3\": 1}, \"10\": {\"10\": 105, \"6\": 43, \"12\": 68, \"9\": 8, \"11\": 16}, \"6\": {\"6\": 147, \"10\": 71, \"12\": 18, \"11\": 3, \"9\": 1}, \"13\": {\"9\": 37, \"13\": 56, \"3\": 53, \"2\": 22, \"4\": 45, \"11\": 20, \"1\": 2, \"12\": 2, \"8\": 3}, \"9\": {\"9\": 61, \"11\": 55, \"12\": 35, \"13\": 31, \"3\": 20, \"2\": 6, \"4\": 19, \"10\": 4, \"1\": 9}}, \"ORACLE.run1_8\": {\"9\": {\"9\": 210, \"3\": 30}, \"11\": {\"8\": 35, \"6\": 33, \"10\": 22, \"4\": 36, \"7\": 23, \"11\": 41, \"13\": 15, \"5\": 11, \"1\": 19, \"14\": 5}, \"8\": {\"14\": 27, \"8\": 72, \"11\": 44, \"7\": 9, \"4\": 51, \"6\": 21, \"1\": 10, \"13\": 2, \"10\": 3, \"5\": 1}, \"4\": {\"4\": 67, \"8\": 56, \"10\": 5, \"6\": 24, \"11\": 34, \"7\": 11, \"14\": 27, \"13\": 3, \"1\": 10, \"5\": 3}, \"13\": {\"10\": 54, \"6\": 21, \"5\": 43, \"1\": 27, \"13\": 57, \"7\": 27, \"4\": 2, \"11\": 7, \"15\": 2}, \"14\": {\"8\": 42, \"4\": 60, \"0\": 2, \"14\": 113, \"11\": 14, \"1\": 1, \"6\": 5, \"10\": 2, \"7\": 1}, \"2\": {\"2\": 72, \"12\": 52, \"15\": 57, \"3\": 50, \"9\": 6, \"13\": 1, \"5\": 2}, \"3\": {\"3\": 168, \"9\": 19, \"2\": 41, \"15\": 11, \"12\": 1}, \"1\": {\"5\": 28, \"4\": 13, \"1\": 33, \"6\": 39, \"7\": 33, \"11\": 24, \"10\": 41, \"14\": 3, \"13\": 16, \"8\": 10}, \"0\": {\"0\": 235, \"14\": 5}, \"5\": {\"13\": 60, \"5\": 47, \"1\": 23, \"6\": 18, \"7\": 25, \"10\": 45, \"11\": 6, \"15\": 2, \"8\": 2, \"12\": 6, \"14\": 4, \"2\": 1, \"4\": 1}, \"15\": {\"2\": 76, \"12\": 72, \"15\": 90, \"3\": 2}, \"10\": {\"5\": 44, \"7\": 20, \"10\": 48, \"1\": 32, \"6\": 27, \"13\": 47, \"11\": 17, \"8\": 1, \"12\": 1, \"4\": 3}, \"12\": {\"15\": 88, \"12\": 109, \"2\": 43}, \"6\": {\"6\": 43, \"11\": 34, \"1\": 40, \"10\": 26, \"4\": 16, \"7\": 32, \"14\": 4, \"5\": 9, \"8\": 20, \"13\": 16}, \"7\": {\"10\": 41, \"5\": 22, \"11\": 23, \"6\": 36, \"1\": 32, \"7\": 54, \"13\": 17, \"4\": 5, \"8\": 10}}}, \"per_domain_accuracy\": {\"C_A_5\": {\"accuracy\": 0.996875, \"source?\": true}, \"W_A_4\": {\"accuracy\": 0.9587765957446809, \"source?\": true}, \"C_A_1\": {\"accuracy\": 1.0, \"source?\": true}, \"W_A_1\": {\"accuracy\": 0.9789402173913043, \"source?\": true}, \"C_A_3\": {\"accuracy\": 1.0, \"source?\": true}, \"C_A_4\": {\"accuracy\": 0.9984375, \"source?\": true}, \"C_A_2\": {\"accuracy\": 1.0, \"source?\": true}, \"W_A_2\": {\"accuracy\": 0.949468085106383, \"source?\": true}, \"W_A_3\": {\"accuracy\": 0.9809782608695652, \"source?\": true}, \"ORACLE.run1_26\": {\"accuracy\": 0.18802083333333333, \"source?\": false}, \"ORACLE.run1_44\": {\"accuracy\": 0.2942708333333333, \"source?\": false}, \"ORACLE.run1_50\": {\"accuracy\": 0.2604166666666667, \"source?\": false}, \"ORACLE.run1_38\": {\"accuracy\": 0.35833333333333334, \"source?\": false}, \"ORACLE.run1_20\": {\"accuracy\": 0.17317708333333334, \"source?\": false}, \"ORACLE.run1_14\": {\"accuracy\": 0.334375, \"source?\": false}, \"ORACLE.run1_32\": {\"accuracy\": 0.303125, \"source?\": false}, \"ORACLE.run1_8\": {\"accuracy\": 0.37994791666666666, \"source?\": false}}}, \"history\": {\"epoch_indices\": [1, 2, 3, 4, 5, 6, 7, 8, 9, 10, 11, 12, 13, 14, 15], \"train_label_loss\": [0.3065988808598941, 0.19481128077076487, 0.14360595918507296, 0.12531041549079555, 0.10590448486877227, 0.09376423694785321, 0.08646216397755081, 0.07857743094392389, 0.06749978059036658, 0.06567621509245103, 0.056634653512025096, 0.051559913718479566, 0.04320148308910513, 0.04026720449609458, 0.032883438516619554], \"source_val_label_loss\": [0.23788684606552124, 0.16034413874149323, 0.1368035078048706, 0.1329127848148346, 0.1213095560669899, 0.10739199072122574, 0.10749728232622147, 0.10340695828199387, 0.10554484277963638, 0.10250022262334824, 0.1127038523554802, 0.10893149673938751, 0.11415713280439377, 0.11893937736749649, 0.13629071414470673], \"target_val_label_loss\": [2.4646549224853516, 2.346526622772217, 2.3023266792297363, 2.3697493076324463, 2.2744088172912598, 2.3084781169891357, 2.3123464584350586, 2.3380024433135986, 2.147143840789795, 2.2711117267608643, 2.1083507537841797, 2.290461301803589, 2.297877311706543, 2.496835231781006, 2.588880777359009], \"source_val_acc_label\": [0.9451486013986014, 0.9624125874125874, 0.9702797202797203, 0.972465034965035, 0.9750874125874126, 0.9774912587412588, 0.9770541958041958, 0.9777097902097902, 0.9788024475524476, 0.9784746503496503, 0.9781468531468531, 0.9781468531468531, 0.9780375874125874, 0.9777097902097902, 0.975743006993007], \"target_val_acc_label\": [0.5306966145833333, 0.5560221354166667, 0.4547200520833333, 0.40166015625, 0.4034505208333333, 0.3703125, 0.3318359375, 0.27141927083333334, 0.3079427083333333, 0.27119140625, 0.2864583333333333, 0.23590494791666666, 0.2380859375, 0.20791015625, 0.19811197916666667]}, \"dataset_metrics\": {\"source\": {\"train\": {\"n_unique_x\": 56700, \"n_unique_y\": 130, \"n_batch/episode\": 2078}, \"val\": {\"n_unique_x\": 12104, \"n_unique_y\": 130, \"n_batch/episode\": 286}, \"test\": {\"n_unique_x\": 12104, \"n_unique_y\": 130, \"n_batch/episode\": 286}}, \"target\": {\"train\": {\"n_unique_x\": 179200, \"n_unique_y\": 16, \"n_batch/episode\": 6720}, \"val\": {\"n_unique_x\": 38400, \"n_unique_y\": 16, \"n_batch/episode\": 960}, \"test\": {\"n_unique_x\": 38400, \"n_unique_y\": 16, \"n_batch/episode\": 960}}}}'"
      ]
     },
     "execution_count": 29,
     "metadata": {},
     "output_type": "execute_result"
    }
   ],
   "source": [
    "json.dumps(experiment)"
   ]
  }
 ],
 "metadata": {
  "celltoolbar": "Tags",
  "kernelspec": {
   "display_name": "Python 3 (ipykernel)",
   "language": "python",
   "name": "python3"
  },
  "language_info": {
   "codemirror_mode": {
    "name": "ipython",
    "version": 3
   },
   "file_extension": ".py",
   "mimetype": "text/x-python",
   "name": "python",
   "nbconvert_exporter": "python",
   "pygments_lexer": "ipython3",
   "version": "3.8.10"
  },
  "papermill": {
   "default_parameters": {},
   "duration": 921.588147,
   "end_time": "2022-03-18T23:14:26.116062",
   "environment_variables": {},
   "exception": null,
   "input_path": "/mnt/wd500GB/CSC500/csc500-main/csc500-notebooks/templates/tl_ptn_template.ipynb",
   "output_path": "trial.ipynb",
   "parameters": {
    "parameters": {
     "BEST_MODEL_PATH": "./best_model.pth",
     "NUM_LOGS_PER_EPOCH": 10,
     "criteria_for_best": "target_loss",
     "dataset_seed": 7,
     "datasets": [
      {
       "domain_prefix": "C_A_",
       "domains": [
        1,
        2,
        3,
        4,
        5
       ],
       "episode_transforms": [],
       "labels": [
        "1-10.",
        "1-11.",
        "1-15.",
        "1-16.",
        "1-17.",
        "1-18.",
        "1-19.",
        "10-4.",
        "10-7.",
        "11-1.",
        "11-14.",
        "11-17.",
        "11-20.",
        "11-7.",
        "13-20.",
        "13-8.",
        "14-10.",
        "14-11.",
        "14-14.",
        "14-7.",
        "15-1.",
        "15-20.",
        "16-1.",
        "16-16.",
        "17-10.",
        "17-11.",
        "17-2.",
        "19-1.",
        "19-16.",
        "19-19.",
        "19-20.",
        "19-3.",
        "2-10.",
        "2-11.",
        "2-17.",
        "2-18.",
        "2-20.",
        "2-3.",
        "2-4.",
        "2-5.",
        "2-6.",
        "2-7.",
        "2-8.",
        "3-13.",
        "3-18.",
        "3-3.",
        "4-1.",
        "4-10.",
        "4-11.",
        "4-19.",
        "5-5.",
        "6-15.",
        "7-10.",
        "7-14.",
        "8-18.",
        "8-20.",
        "8-3.",
        "8-8."
       ],
       "num_examples_per_domain_per_label": 100,
       "pickle_path": "/mnt/wd500GB/CSC500/csc500-main/datasets/cores.stratified_ds.2022A.pkl",
       "source_or_target_dataset": "source",
       "x_transforms": [
        "take_200"
       ]
      },
      {
       "domain_prefix": "W_A_",
       "domains": [
        1,
        2,
        3,
        4
       ],
       "episode_transforms": [],
       "labels": [
        "1-10",
        "1-12",
        "1-14",
        "1-16",
        "1-18",
        "1-19",
        "1-8",
        "10-11",
        "10-17",
        "10-4",
        "10-7",
        "11-1",
        "11-10",
        "11-19",
        "11-20",
        "11-4",
        "11-7",
        "12-19",
        "12-20",
        "12-7",
        "13-14",
        "13-18",
        "13-19",
        "13-20",
        "13-3",
        "13-7",
        "14-10",
        "14-11",
        "14-12",
        "14-13",
        "14-14",
        "14-19",
        "14-20",
        "14-7",
        "14-8",
        "14-9",
        "15-1",
        "15-19",
        "15-6",
        "16-1",
        "16-16",
        "16-19",
        "16-20",
        "17-10",
        "17-11",
        "18-1",
        "18-10",
        "18-11",
        "18-12",
        "18-13",
        "18-14",
        "18-15",
        "18-16",
        "18-17",
        "18-19",
        "18-2",
        "18-20",
        "18-4",
        "18-5",
        "18-7",
        "18-8",
        "18-9",
        "19-1",
        "19-10",
        "19-11",
        "19-12",
        "19-13",
        "19-14",
        "19-15",
        "19-19",
        "19-2",
        "19-20",
        "19-3",
        "19-4",
        "19-6",
        "19-7",
        "19-8",
        "19-9",
        "2-1",
        "2-13",
        "2-15",
        "2-3",
        "2-4",
        "2-5",
        "2-6",
        "2-7",
        "2-8",
        "20-1",
        "20-12",
        "20-14",
        "20-15",
        "20-16",
        "20-18",
        "20-19",
        "20-20",
        "20-3",
        "20-4",
        "20-5",
        "20-7",
        "20-8",
        "3-1",
        "3-13",
        "3-18",
        "3-2",
        "3-8",
        "4-1",
        "4-10",
        "4-11",
        "5-1",
        "5-5",
        "6-1",
        "6-15",
        "6-6",
        "7-10",
        "7-11",
        "7-12",
        "7-13",
        "7-14",
        "7-7",
        "7-8",
        "7-9",
        "8-1",
        "8-13",
        "8-14",
        "8-18",
        "8-20",
        "8-3",
        "8-8",
        "9-1",
        "9-7"
       ],
       "num_examples_per_domain_per_label": 100,
       "pickle_path": "/mnt/wd500GB/CSC500/csc500-main/datasets/wisig.node3-19.stratified_ds.2022A.pkl",
       "source_or_target_dataset": "source",
       "x_transforms": [
        "take_200"
       ]
      },
      {
       "domain_prefix": "ORACLE.run1_",
       "domains": [
        32,
        38,
        8,
        44,
        14,
        50,
        20,
        26
       ],
       "episode_transforms": [],
       "labels": [
        "3123D52",
        "3123D65",
        "3123D79",
        "3123D80",
        "3123D54",
        "3123D70",
        "3123D7B",
        "3123D89",
        "3123D58",
        "3123D76",
        "3123D7D",
        "3123EFE",
        "3123D64",
        "3123D78",
        "3123D7E",
        "3124E4A"
       ],
       "num_examples_per_domain_per_label": 2000,
       "pickle_path": "/mnt/wd500GB/CSC500/csc500-main/datasets/oracle.Run1_framed_2000Examples_stratified_ds.2022A.pkl",
       "source_or_target_dataset": "target",
       "x_transforms": [
        "take_200",
        "resample_20Msps_to_25Msps"
       ]
      }
     ],
     "device": "cuda",
     "experiment_name": "tl_3A:cores+wisig -> oracle.run1.framed",
     "lr": 0.001,
     "n_epoch": 50,
     "n_query": 2,
     "n_shot": 3,
     "n_way": 16,
     "patience": 3,
     "seed": 7,
     "test_k_factor": 2,
     "torch_default_dtype": "torch.float32",
     "train_k_factor": 3,
     "val_k_factor": 2,
     "x_net": [
      {
       "class": "nnReshape",
       "kargs": {
        "shape": [
         -1,
         1,
         2,
         200
        ]
       }
      },
      {
       "class": "Conv2d",
       "kargs": {
        "bias": false,
        "in_channels": 1,
        "kernel_size": [
         1,
         7
        ],
        "out_channels": 256,
        "padding": [
         0,
         3
        ]
       }
      },
      {
       "class": "ReLU",
       "kargs": {
        "inplace": true
       }
      },
      {
       "class": "BatchNorm2d",
       "kargs": {
        "num_features": 256
       }
      },
      {
       "class": "Conv2d",
       "kargs": {
        "bias": true,
        "in_channels": 256,
        "kernel_size": [
         2,
         7
        ],
        "out_channels": 80,
        "padding": [
         0,
         3
        ]
       }
      },
      {
       "class": "ReLU",
       "kargs": {
        "inplace": true
       }
      },
      {
       "class": "BatchNorm2d",
       "kargs": {
        "num_features": 80
       }
      },
      {
       "class": "Flatten",
       "kargs": {}
      },
      {
       "class": "Linear",
       "kargs": {
        "in_features": 16000,
        "out_features": 256
       }
      },
      {
       "class": "ReLU",
       "kargs": {
        "inplace": true
       }
      },
      {
       "class": "BatchNorm1d",
       "kargs": {
        "num_features": 256
       }
      },
      {
       "class": "Linear",
       "kargs": {
        "in_features": 256,
        "out_features": 256
       }
      }
     ],
     "x_shape": [
      2,
      200
     ]
    }
   },
   "start_time": "2022-03-18T22:59:04.527915",
   "version": "2.3.4"
  }
 },
 "nbformat": 4,
 "nbformat_minor": 5
}