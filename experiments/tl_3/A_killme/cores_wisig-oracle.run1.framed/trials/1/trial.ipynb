{
 "cells": [
  {
   "cell_type": "markdown",
   "id": "9fea5f46",
   "metadata": {
    "papermill": {
     "duration": 0.018012,
     "end_time": "2022-03-18T21:28:42.406567",
     "exception": false,
     "start_time": "2022-03-18T21:28:42.388555",
     "status": "completed"
    },
    "tags": []
   },
   "source": [
    "# Transfer Learning Template"
   ]
  },
  {
   "cell_type": "code",
   "execution_count": 1,
   "id": "0902182a",
   "metadata": {
    "execution": {
     "iopub.execute_input": "2022-03-18T21:28:42.446934Z",
     "iopub.status.busy": "2022-03-18T21:28:42.446428Z",
     "iopub.status.idle": "2022-03-18T21:28:43.347910Z",
     "shell.execute_reply": "2022-03-18T21:28:43.347381Z"
    },
    "papermill": {
     "duration": 0.929002,
     "end_time": "2022-03-18T21:28:43.348023",
     "exception": false,
     "start_time": "2022-03-18T21:28:42.419021",
     "status": "completed"
    },
    "tags": []
   },
   "outputs": [],
   "source": [
    "%load_ext autoreload\n",
    "%autoreload 2\n",
    "%matplotlib inline\n",
    "\n",
    "    \n",
    "import os, json, sys, time, random\n",
    "import numpy as np\n",
    "import torch\n",
    "from torch.optim import Adam\n",
    "from  easydict import EasyDict\n",
    "import matplotlib.pyplot as plt\n",
    "\n",
    "from steves_models.steves_ptn import Steves_Prototypical_Network\n",
    "\n",
    "from steves_utils.lazy_iterable_wrapper import Lazy_Iterable_Wrapper\n",
    "from steves_utils.iterable_aggregator import Iterable_Aggregator\n",
    "from steves_utils.ptn_train_eval_test_jig import  PTN_Train_Eval_Test_Jig\n",
    "from steves_utils.torch_sequential_builder import build_sequential\n",
    "from steves_utils.torch_utils import get_dataset_metrics, ptn_confusion_by_domain_over_dataloader\n",
    "from steves_utils.utils_v2 import (per_domain_accuracy_from_confusion, get_datasets_base_path)\n",
    "from steves_utils.PTN.utils import independent_accuracy_assesment\n",
    "\n",
    "from torch.utils.data import DataLoader\n",
    "\n",
    "from steves_utils.stratified_dataset.episodic_accessor import Episodic_Accessor_Factory\n",
    "\n",
    "from steves_utils.ptn_do_report import (\n",
    "    get_loss_curve,\n",
    "    get_results_table,\n",
    "    get_parameters_table,\n",
    "    get_domain_accuracies,\n",
    ")\n",
    "\n",
    "from steves_utils.transforms import get_chained_transform"
   ]
  },
  {
   "cell_type": "markdown",
   "id": "41c840b4",
   "metadata": {
    "papermill": {
     "duration": 0.012502,
     "end_time": "2022-03-18T21:28:43.377552",
     "exception": false,
     "start_time": "2022-03-18T21:28:43.365050",
     "status": "completed"
    },
    "tags": []
   },
   "source": [
    "# Allowed Parameters\n",
    "These are allowed parameters, not defaults\n",
    "Each of these values need to be present in the injected parameters (the notebook will raise an exception if they are not present)\n",
    "\n",
    "Papermill uses the cell tag \"parameters\" to inject the real parameters below this cell.\n",
    "Enable tags to see what I mean"
   ]
  },
  {
   "cell_type": "code",
   "execution_count": 2,
   "id": "fd44eb83",
   "metadata": {
    "execution": {
     "iopub.execute_input": "2022-03-18T21:28:43.404696Z",
     "iopub.status.busy": "2022-03-18T21:28:43.404431Z",
     "iopub.status.idle": "2022-03-18T21:28:43.415104Z",
     "shell.execute_reply": "2022-03-18T21:28:43.414854Z"
    },
    "papermill": {
     "duration": 0.025046,
     "end_time": "2022-03-18T21:28:43.415154",
     "exception": false,
     "start_time": "2022-03-18T21:28:43.390108",
     "status": "completed"
    },
    "tags": []
   },
   "outputs": [],
   "source": [
    "required_parameters = {\n",
    "    \"experiment_name\",\n",
    "    \"lr\",\n",
    "    \"device\",\n",
    "    \"seed\",\n",
    "    \"dataset_seed\",\n",
    "    \"n_shot\",\n",
    "    \"n_query\",\n",
    "    \"n_way\",\n",
    "    \"train_k_factor\",\n",
    "    \"val_k_factor\",\n",
    "    \"test_k_factor\",\n",
    "    \"n_epoch\",\n",
    "    \"patience\",\n",
    "    \"criteria_for_best\",\n",
    "    \"x_net\",\n",
    "    \"datasets\",\n",
    "    \"torch_default_dtype\",\n",
    "    \"NUM_LOGS_PER_EPOCH\",\n",
    "    \"BEST_MODEL_PATH\",\n",
    "    \"x_shape\",\n",
    "}"
   ]
  },
  {
   "cell_type": "code",
   "execution_count": 3,
   "id": "fa3f0049",
   "metadata": {
    "execution": {
     "iopub.execute_input": "2022-03-18T21:28:43.449386Z",
     "iopub.status.busy": "2022-03-18T21:28:43.448788Z",
     "iopub.status.idle": "2022-03-18T21:28:43.461634Z",
     "shell.execute_reply": "2022-03-18T21:28:43.461187Z"
    },
    "papermill": {
     "duration": 0.031569,
     "end_time": "2022-03-18T21:28:43.461722",
     "exception": false,
     "start_time": "2022-03-18T21:28:43.430153",
     "status": "completed"
    },
    "tags": [
     "parameters"
    ]
   },
   "outputs": [],
   "source": [
    "from steves_utils.CORES.utils import (\n",
    "    ALL_NODES,\n",
    "    ALL_NODES_MINIMUM_1000_EXAMPLES,\n",
    "    ALL_DAYS\n",
    ")\n",
    "\n",
    "from steves_utils.ORACLE.utils_v2 import (\n",
    "    ALL_DISTANCES_FEET_NARROWED,\n",
    "    ALL_RUNS,\n",
    "    ALL_SERIAL_NUMBERS,\n",
    ")\n",
    "\n",
    "standalone_parameters = {}\n",
    "standalone_parameters[\"experiment_name\"] = \"STANDALONE PTN\"\n",
    "standalone_parameters[\"lr\"] = 0.001\n",
    "standalone_parameters[\"device\"] = \"cuda\"\n",
    "\n",
    "standalone_parameters[\"seed\"] = 1337\n",
    "standalone_parameters[\"dataset_seed\"] = 1337\n",
    "\n",
    "standalone_parameters[\"n_way\"] = 8\n",
    "standalone_parameters[\"n_shot\"] = 3\n",
    "standalone_parameters[\"n_query\"]  = 2\n",
    "standalone_parameters[\"train_k_factor\"] = 1\n",
    "standalone_parameters[\"val_k_factor\"] = 2\n",
    "standalone_parameters[\"test_k_factor\"] = 2\n",
    "\n",
    "\n",
    "standalone_parameters[\"n_epoch\"] = 50\n",
    "\n",
    "standalone_parameters[\"patience\"] = 10\n",
    "standalone_parameters[\"criteria_for_best\"] = \"source_loss\"\n",
    "\n",
    "standalone_parameters[\"datasets\"] = [\n",
    "    {\n",
    "        \"labels\": ALL_SERIAL_NUMBERS,\n",
    "        \"domains\": ALL_DISTANCES_FEET_NARROWED,\n",
    "        \"num_examples_per_domain_per_label\": 100,\n",
    "        \"pickle_path\": os.path.join(get_datasets_base_path(), \"oracle.Run1_framed_2000Examples_stratified_ds.2022A.pkl\"),\n",
    "        \"source_or_target_dataset\": \"source\",\n",
    "        \"x_transforms\": [\"unit_mag\", \"minus_two\"],\n",
    "        \"episode_transforms\": [],\n",
    "        \"domain_prefix\": \"ORACLE_\"\n",
    "    },\n",
    "    {\n",
    "        \"labels\": ALL_NODES,\n",
    "        \"domains\": ALL_DAYS,\n",
    "        \"num_examples_per_domain_per_label\": 100,\n",
    "        \"pickle_path\": os.path.join(get_datasets_base_path(), \"cores.stratified_ds.2022A.pkl\"),\n",
    "        \"source_or_target_dataset\": \"target\",\n",
    "        \"x_transforms\": [\"unit_power\", \"times_zero\"],\n",
    "        \"episode_transforms\": [],\n",
    "        \"domain_prefix\": \"CORES_\"\n",
    "    }   \n",
    "]\n",
    "\n",
    "standalone_parameters[\"torch_default_dtype\"] = \"torch.float32\" \n",
    "\n",
    "\n",
    "\n",
    "standalone_parameters[\"x_net\"] =     [\n",
    "    {\"class\": \"nnReshape\", \"kargs\": {\"shape\":[-1, 1, 2, 256]}},\n",
    "    {\"class\": \"Conv2d\", \"kargs\": { \"in_channels\":1, \"out_channels\":256, \"kernel_size\":(1,7), \"bias\":False, \"padding\":(0,3), },},\n",
    "    {\"class\": \"ReLU\", \"kargs\": {\"inplace\": True}},\n",
    "    {\"class\": \"BatchNorm2d\", \"kargs\": {\"num_features\":256}},\n",
    "\n",
    "    {\"class\": \"Conv2d\", \"kargs\": { \"in_channels\":256, \"out_channels\":80, \"kernel_size\":(2,7), \"bias\":True, \"padding\":(0,3), },},\n",
    "    {\"class\": \"ReLU\", \"kargs\": {\"inplace\": True}},\n",
    "    {\"class\": \"BatchNorm2d\", \"kargs\": {\"num_features\":80}},\n",
    "    {\"class\": \"Flatten\", \"kargs\": {}},\n",
    "\n",
    "    {\"class\": \"Linear\", \"kargs\": {\"in_features\": 80*256, \"out_features\": 256}}, # 80 units per IQ pair\n",
    "    {\"class\": \"ReLU\", \"kargs\": {\"inplace\": True}},\n",
    "    {\"class\": \"BatchNorm1d\", \"kargs\": {\"num_features\":256}},\n",
    "\n",
    "    {\"class\": \"Linear\", \"kargs\": {\"in_features\": 256, \"out_features\": 256}},\n",
    "]\n",
    "\n",
    "# Parameters relevant to results\n",
    "# These parameters will basically never need to change\n",
    "standalone_parameters[\"NUM_LOGS_PER_EPOCH\"] = 10\n",
    "standalone_parameters[\"BEST_MODEL_PATH\"] = \"./best_model.pth\"\n",
    "\n",
    "\n",
    "\n",
    "\n"
   ]
  },
  {
   "cell_type": "code",
   "execution_count": 4,
   "id": "8591a3bf",
   "metadata": {
    "execution": {
     "iopub.execute_input": "2022-03-18T21:28:43.505834Z",
     "iopub.status.busy": "2022-03-18T21:28:43.505479Z",
     "iopub.status.idle": "2022-03-18T21:28:43.518929Z",
     "shell.execute_reply": "2022-03-18T21:28:43.518480Z"
    },
    "papermill": {
     "duration": 0.040055,
     "end_time": "2022-03-18T21:28:43.519018",
     "exception": false,
     "start_time": "2022-03-18T21:28:43.478963",
     "status": "completed"
    },
    "tags": [
     "injected-parameters"
    ]
   },
   "outputs": [],
   "source": [
    "# Parameters\n",
    "parameters = {\n",
    "    \"experiment_name\": \"tl_3A:cores+wisig -> oracle.run1.framed\",\n",
    "    \"device\": \"cuda\",\n",
    "    \"lr\": 0.001,\n",
    "    \"x_shape\": [2, 200],\n",
    "    \"n_shot\": 3,\n",
    "    \"n_query\": 2,\n",
    "    \"train_k_factor\": 3,\n",
    "    \"val_k_factor\": 2,\n",
    "    \"test_k_factor\": 2,\n",
    "    \"torch_default_dtype\": \"torch.float32\",\n",
    "    \"n_epoch\": 50,\n",
    "    \"patience\": 3,\n",
    "    \"criteria_for_best\": \"target_loss\",\n",
    "    \"x_net\": [\n",
    "        {\"class\": \"nnReshape\", \"kargs\": {\"shape\": [-1, 1, 2, 200]}},\n",
    "        {\n",
    "            \"class\": \"Conv2d\",\n",
    "            \"kargs\": {\n",
    "                \"in_channels\": 1,\n",
    "                \"out_channels\": 256,\n",
    "                \"kernel_size\": [1, 7],\n",
    "                \"bias\": False,\n",
    "                \"padding\": [0, 3],\n",
    "            },\n",
    "        },\n",
    "        {\"class\": \"ReLU\", \"kargs\": {\"inplace\": True}},\n",
    "        {\"class\": \"BatchNorm2d\", \"kargs\": {\"num_features\": 256}},\n",
    "        {\n",
    "            \"class\": \"Conv2d\",\n",
    "            \"kargs\": {\n",
    "                \"in_channels\": 256,\n",
    "                \"out_channels\": 80,\n",
    "                \"kernel_size\": [2, 7],\n",
    "                \"bias\": True,\n",
    "                \"padding\": [0, 3],\n",
    "            },\n",
    "        },\n",
    "        {\"class\": \"ReLU\", \"kargs\": {\"inplace\": True}},\n",
    "        {\"class\": \"BatchNorm2d\", \"kargs\": {\"num_features\": 80}},\n",
    "        {\"class\": \"Flatten\", \"kargs\": {}},\n",
    "        {\"class\": \"Linear\", \"kargs\": {\"in_features\": 16000, \"out_features\": 256}},\n",
    "        {\"class\": \"ReLU\", \"kargs\": {\"inplace\": True}},\n",
    "        {\"class\": \"BatchNorm1d\", \"kargs\": {\"num_features\": 256}},\n",
    "        {\"class\": \"Linear\", \"kargs\": {\"in_features\": 256, \"out_features\": 256}},\n",
    "    ],\n",
    "    \"NUM_LOGS_PER_EPOCH\": 10,\n",
    "    \"BEST_MODEL_PATH\": \"./best_model.pth\",\n",
    "    \"n_way\": 16,\n",
    "    \"datasets\": [\n",
    "        {\n",
    "            \"labels\": [\n",
    "                \"1-10.\",\n",
    "                \"1-11.\",\n",
    "                \"1-15.\",\n",
    "                \"1-16.\",\n",
    "                \"1-17.\",\n",
    "                \"1-18.\",\n",
    "                \"1-19.\",\n",
    "                \"10-4.\",\n",
    "                \"10-7.\",\n",
    "                \"11-1.\",\n",
    "                \"11-14.\",\n",
    "                \"11-17.\",\n",
    "                \"11-20.\",\n",
    "                \"11-7.\",\n",
    "                \"13-20.\",\n",
    "                \"13-8.\",\n",
    "                \"14-10.\",\n",
    "                \"14-11.\",\n",
    "                \"14-14.\",\n",
    "                \"14-7.\",\n",
    "                \"15-1.\",\n",
    "                \"15-20.\",\n",
    "                \"16-1.\",\n",
    "                \"16-16.\",\n",
    "                \"17-10.\",\n",
    "                \"17-11.\",\n",
    "                \"17-2.\",\n",
    "                \"19-1.\",\n",
    "                \"19-16.\",\n",
    "                \"19-19.\",\n",
    "                \"19-20.\",\n",
    "                \"19-3.\",\n",
    "                \"2-10.\",\n",
    "                \"2-11.\",\n",
    "                \"2-17.\",\n",
    "                \"2-18.\",\n",
    "                \"2-20.\",\n",
    "                \"2-3.\",\n",
    "                \"2-4.\",\n",
    "                \"2-5.\",\n",
    "                \"2-6.\",\n",
    "                \"2-7.\",\n",
    "                \"2-8.\",\n",
    "                \"3-13.\",\n",
    "                \"3-18.\",\n",
    "                \"3-3.\",\n",
    "                \"4-1.\",\n",
    "                \"4-10.\",\n",
    "                \"4-11.\",\n",
    "                \"4-19.\",\n",
    "                \"5-5.\",\n",
    "                \"6-15.\",\n",
    "                \"7-10.\",\n",
    "                \"7-14.\",\n",
    "                \"8-18.\",\n",
    "                \"8-20.\",\n",
    "                \"8-3.\",\n",
    "                \"8-8.\",\n",
    "            ],\n",
    "            \"domains\": [1, 2, 3, 4, 5],\n",
    "            \"num_examples_per_domain_per_label\": 100,\n",
    "            \"pickle_path\": \"/mnt/wd500GB/CSC500/csc500-main/datasets/cores.stratified_ds.2022A.pkl\",\n",
    "            \"source_or_target_dataset\": \"source\",\n",
    "            \"x_transforms\": [\"unit_mag\", \"take_200\"],\n",
    "            \"episode_transforms\": [],\n",
    "            \"domain_prefix\": \"C_A_\",\n",
    "        },\n",
    "        {\n",
    "            \"labels\": [\n",
    "                \"1-10\",\n",
    "                \"1-12\",\n",
    "                \"1-14\",\n",
    "                \"1-16\",\n",
    "                \"1-18\",\n",
    "                \"1-19\",\n",
    "                \"1-8\",\n",
    "                \"10-11\",\n",
    "                \"10-17\",\n",
    "                \"10-4\",\n",
    "                \"10-7\",\n",
    "                \"11-1\",\n",
    "                \"11-10\",\n",
    "                \"11-19\",\n",
    "                \"11-20\",\n",
    "                \"11-4\",\n",
    "                \"11-7\",\n",
    "                \"12-19\",\n",
    "                \"12-20\",\n",
    "                \"12-7\",\n",
    "                \"13-14\",\n",
    "                \"13-18\",\n",
    "                \"13-19\",\n",
    "                \"13-20\",\n",
    "                \"13-3\",\n",
    "                \"13-7\",\n",
    "                \"14-10\",\n",
    "                \"14-11\",\n",
    "                \"14-12\",\n",
    "                \"14-13\",\n",
    "                \"14-14\",\n",
    "                \"14-19\",\n",
    "                \"14-20\",\n",
    "                \"14-7\",\n",
    "                \"14-8\",\n",
    "                \"14-9\",\n",
    "                \"15-1\",\n",
    "                \"15-19\",\n",
    "                \"15-6\",\n",
    "                \"16-1\",\n",
    "                \"16-16\",\n",
    "                \"16-19\",\n",
    "                \"16-20\",\n",
    "                \"17-10\",\n",
    "                \"17-11\",\n",
    "                \"18-1\",\n",
    "                \"18-10\",\n",
    "                \"18-11\",\n",
    "                \"18-12\",\n",
    "                \"18-13\",\n",
    "                \"18-14\",\n",
    "                \"18-15\",\n",
    "                \"18-16\",\n",
    "                \"18-17\",\n",
    "                \"18-19\",\n",
    "                \"18-2\",\n",
    "                \"18-20\",\n",
    "                \"18-4\",\n",
    "                \"18-5\",\n",
    "                \"18-7\",\n",
    "                \"18-8\",\n",
    "                \"18-9\",\n",
    "                \"19-1\",\n",
    "                \"19-10\",\n",
    "                \"19-11\",\n",
    "                \"19-12\",\n",
    "                \"19-13\",\n",
    "                \"19-14\",\n",
    "                \"19-15\",\n",
    "                \"19-19\",\n",
    "                \"19-2\",\n",
    "                \"19-20\",\n",
    "                \"19-3\",\n",
    "                \"19-4\",\n",
    "                \"19-6\",\n",
    "                \"19-7\",\n",
    "                \"19-8\",\n",
    "                \"19-9\",\n",
    "                \"2-1\",\n",
    "                \"2-13\",\n",
    "                \"2-15\",\n",
    "                \"2-3\",\n",
    "                \"2-4\",\n",
    "                \"2-5\",\n",
    "                \"2-6\",\n",
    "                \"2-7\",\n",
    "                \"2-8\",\n",
    "                \"20-1\",\n",
    "                \"20-12\",\n",
    "                \"20-14\",\n",
    "                \"20-15\",\n",
    "                \"20-16\",\n",
    "                \"20-18\",\n",
    "                \"20-19\",\n",
    "                \"20-20\",\n",
    "                \"20-3\",\n",
    "                \"20-4\",\n",
    "                \"20-5\",\n",
    "                \"20-7\",\n",
    "                \"20-8\",\n",
    "                \"3-1\",\n",
    "                \"3-13\",\n",
    "                \"3-18\",\n",
    "                \"3-2\",\n",
    "                \"3-8\",\n",
    "                \"4-1\",\n",
    "                \"4-10\",\n",
    "                \"4-11\",\n",
    "                \"5-1\",\n",
    "                \"5-5\",\n",
    "                \"6-1\",\n",
    "                \"6-15\",\n",
    "                \"6-6\",\n",
    "                \"7-10\",\n",
    "                \"7-11\",\n",
    "                \"7-12\",\n",
    "                \"7-13\",\n",
    "                \"7-14\",\n",
    "                \"7-7\",\n",
    "                \"7-8\",\n",
    "                \"7-9\",\n",
    "                \"8-1\",\n",
    "                \"8-13\",\n",
    "                \"8-14\",\n",
    "                \"8-18\",\n",
    "                \"8-20\",\n",
    "                \"8-3\",\n",
    "                \"8-8\",\n",
    "                \"9-1\",\n",
    "                \"9-7\",\n",
    "            ],\n",
    "            \"domains\": [1, 2, 3, 4],\n",
    "            \"num_examples_per_domain_per_label\": 100,\n",
    "            \"pickle_path\": \"/mnt/wd500GB/CSC500/csc500-main/datasets/wisig.node3-19.stratified_ds.2022A.pkl\",\n",
    "            \"source_or_target_dataset\": \"source\",\n",
    "            \"x_transforms\": [\"unit_mag\", \"take_200\"],\n",
    "            \"episode_transforms\": [],\n",
    "            \"domain_prefix\": \"W_A_\",\n",
    "        },\n",
    "        {\n",
    "            \"labels\": [\n",
    "                \"3123D52\",\n",
    "                \"3123D65\",\n",
    "                \"3123D79\",\n",
    "                \"3123D80\",\n",
    "                \"3123D54\",\n",
    "                \"3123D70\",\n",
    "                \"3123D7B\",\n",
    "                \"3123D89\",\n",
    "                \"3123D58\",\n",
    "                \"3123D76\",\n",
    "                \"3123D7D\",\n",
    "                \"3123EFE\",\n",
    "                \"3123D64\",\n",
    "                \"3123D78\",\n",
    "                \"3123D7E\",\n",
    "                \"3124E4A\",\n",
    "            ],\n",
    "            \"domains\": [32, 38, 8, 44, 14, 50, 20, 26],\n",
    "            \"num_examples_per_domain_per_label\": 2000,\n",
    "            \"pickle_path\": \"/mnt/wd500GB/CSC500/csc500-main/datasets/oracle.Run1_framed_2000Examples_stratified_ds.2022A.pkl\",\n",
    "            \"source_or_target_dataset\": \"target\",\n",
    "            \"x_transforms\": [\"unit_mag\", \"take_200\", \"resample_20Msps_to_25Msps\"],\n",
    "            \"episode_transforms\": [],\n",
    "            \"domain_prefix\": \"ORACLE.run1_\",\n",
    "        },\n",
    "    ],\n",
    "    \"seed\": 1337,\n",
    "    \"dataset_seed\": 1337,\n",
    "}\n"
   ]
  },
  {
   "cell_type": "code",
   "execution_count": 5,
   "id": "8fa1cc33",
   "metadata": {
    "execution": {
     "iopub.execute_input": "2022-03-18T21:28:43.556656Z",
     "iopub.status.busy": "2022-03-18T21:28:43.552145Z",
     "iopub.status.idle": "2022-03-18T21:28:43.566548Z",
     "shell.execute_reply": "2022-03-18T21:28:43.566980Z"
    },
    "papermill": {
     "duration": 0.031385,
     "end_time": "2022-03-18T21:28:43.567097",
     "exception": false,
     "start_time": "2022-03-18T21:28:43.535712",
     "status": "completed"
    },
    "tags": []
   },
   "outputs": [],
   "source": [
    "# Set this to True if you want to run this template directly\n",
    "STANDALONE = False\n",
    "if STANDALONE:\n",
    "    print(\"parameters not injected, running with standalone_parameters\")\n",
    "    parameters = standalone_parameters\n",
    "\n",
    "if not 'parameters' in locals() and not 'parameters' in globals():\n",
    "    raise Exception(\"Parameter injection failed\")\n",
    "\n",
    "#Use an easy dict for all the parameters\n",
    "p = EasyDict(parameters)\n",
    "\n",
    "if \"x_shape\" not in p:\n",
    "    p.x_shape = [2,256] # Default to this if we dont supply x_shape\n",
    "\n",
    "\n",
    "supplied_keys = set(p.keys())\n",
    "\n",
    "if  supplied_keys != required_parameters:\n",
    "    print(\"Parameters are incorrect\")\n",
    "    if len(supplied_keys - required_parameters)>0: print(\"Shouldn't have:\", str(supplied_keys - required_parameters))\n",
    "    if len(required_parameters - supplied_keys)>0: print(\"Need to have:\", str(required_parameters - supplied_keys))\n",
    "    raise RuntimeError(\"Parameters are incorrect\")"
   ]
  },
  {
   "cell_type": "code",
   "execution_count": 6,
   "id": "3a028d58",
   "metadata": {
    "execution": {
     "iopub.execute_input": "2022-03-18T21:28:43.599562Z",
     "iopub.status.busy": "2022-03-18T21:28:43.599160Z",
     "iopub.status.idle": "2022-03-18T21:28:43.613668Z",
     "shell.execute_reply": "2022-03-18T21:28:43.613277Z"
    },
    "papermill": {
     "duration": 0.029715,
     "end_time": "2022-03-18T21:28:43.613756",
     "exception": false,
     "start_time": "2022-03-18T21:28:43.584041",
     "status": "completed"
    },
    "tags": []
   },
   "outputs": [],
   "source": [
    "###################################\n",
    "# Set the RNGs and make it all deterministic\n",
    "###################################\n",
    "np.random.seed(p.seed)\n",
    "random.seed(p.seed)\n",
    "torch.manual_seed(p.seed)\n",
    "\n",
    "torch.use_deterministic_algorithms(True) "
   ]
  },
  {
   "cell_type": "code",
   "execution_count": 7,
   "id": "b691acf6",
   "metadata": {
    "execution": {
     "iopub.execute_input": "2022-03-18T21:28:43.654894Z",
     "iopub.status.busy": "2022-03-18T21:28:43.651350Z",
     "iopub.status.idle": "2022-03-18T21:28:43.661249Z",
     "shell.execute_reply": "2022-03-18T21:28:43.660778Z"
    },
    "papermill": {
     "duration": 0.03024,
     "end_time": "2022-03-18T21:28:43.661341",
     "exception": false,
     "start_time": "2022-03-18T21:28:43.631101",
     "status": "completed"
    },
    "tags": []
   },
   "outputs": [],
   "source": [
    "###########################################\n",
    "# The stratified datasets honor this\n",
    "###########################################\n",
    "torch.set_default_dtype(eval(p.torch_default_dtype))"
   ]
  },
  {
   "cell_type": "code",
   "execution_count": 8,
   "id": "b5fba671",
   "metadata": {
    "execution": {
     "iopub.execute_input": "2022-03-18T21:28:43.693402Z",
     "iopub.status.busy": "2022-03-18T21:28:43.693154Z",
     "iopub.status.idle": "2022-03-18T21:28:43.728678Z",
     "shell.execute_reply": "2022-03-18T21:28:43.728285Z"
    },
    "papermill": {
     "duration": 0.049684,
     "end_time": "2022-03-18T21:28:43.728764",
     "exception": false,
     "start_time": "2022-03-18T21:28:43.679080",
     "status": "completed"
    },
    "tags": []
   },
   "outputs": [],
   "source": [
    "###################################\n",
    "# Build the network(s)\n",
    "# Note: It's critical to do this AFTER setting the RNG\n",
    "###################################\n",
    "x_net = build_sequential(p.x_net)"
   ]
  },
  {
   "cell_type": "code",
   "execution_count": 9,
   "id": "5d7e61cc",
   "metadata": {
    "execution": {
     "iopub.execute_input": "2022-03-18T21:28:43.762148Z",
     "iopub.status.busy": "2022-03-18T21:28:43.761900Z",
     "iopub.status.idle": "2022-03-18T21:28:43.777547Z",
     "shell.execute_reply": "2022-03-18T21:28:43.777101Z"
    },
    "papermill": {
     "duration": 0.030766,
     "end_time": "2022-03-18T21:28:43.777635",
     "exception": false,
     "start_time": "2022-03-18T21:28:43.746869",
     "status": "completed"
    },
    "tags": []
   },
   "outputs": [],
   "source": [
    "start_time_secs = time.time()"
   ]
  },
  {
   "cell_type": "code",
   "execution_count": 10,
   "id": "c6b67dfd",
   "metadata": {
    "execution": {
     "iopub.execute_input": "2022-03-18T21:28:43.815870Z",
     "iopub.status.busy": "2022-03-18T21:28:43.810929Z",
     "iopub.status.idle": "2022-03-18T21:28:43.825473Z",
     "shell.execute_reply": "2022-03-18T21:28:43.825062Z"
    },
    "papermill": {
     "duration": 0.03022,
     "end_time": "2022-03-18T21:28:43.825564",
     "exception": false,
     "start_time": "2022-03-18T21:28:43.795344",
     "status": "completed"
    },
    "tags": []
   },
   "outputs": [],
   "source": [
    "p.domains_source = []\n",
    "p.domains_target = []\n",
    "\n",
    "\n",
    "train_original_source = []\n",
    "val_original_source   = []\n",
    "test_original_source  = []\n",
    "\n",
    "train_original_target = []\n",
    "val_original_target   = []\n",
    "test_original_target  = []"
   ]
  },
  {
   "cell_type": "code",
   "execution_count": 11,
   "id": "e3d9c3d3",
   "metadata": {
    "execution": {
     "iopub.execute_input": "2022-03-18T21:28:43.858053Z",
     "iopub.status.busy": "2022-03-18T21:28:43.857802Z",
     "iopub.status.idle": "2022-03-18T21:28:43.868139Z",
     "shell.execute_reply": "2022-03-18T21:28:43.867770Z"
    },
    "papermill": {
     "duration": 0.02465,
     "end_time": "2022-03-18T21:28:43.868226",
     "exception": false,
     "start_time": "2022-03-18T21:28:43.843576",
     "status": "completed"
    },
    "tags": []
   },
   "outputs": [],
   "source": [
    "# global_x_transform_func = lambda x: normalize(x.to(torch.get_default_dtype()), \"unit_power\") # unit_power, unit_mag\n",
    "# global_x_transform_func = lambda x: normalize(x, \"unit_power\") # unit_power, unit_mag"
   ]
  },
  {
   "cell_type": "code",
   "execution_count": 12,
   "id": "acb78fd2",
   "metadata": {
    "execution": {
     "iopub.execute_input": "2022-03-18T21:28:43.906745Z",
     "iopub.status.busy": "2022-03-18T21:28:43.906338Z",
     "iopub.status.idle": "2022-03-18T21:28:43.920245Z",
     "shell.execute_reply": "2022-03-18T21:28:43.919853Z"
    },
    "papermill": {
     "duration": 0.033405,
     "end_time": "2022-03-18T21:28:43.920333",
     "exception": false,
     "start_time": "2022-03-18T21:28:43.886928",
     "status": "completed"
    },
    "tags": []
   },
   "outputs": [],
   "source": [
    "def add_dataset(\n",
    "    labels,\n",
    "    domains,\n",
    "    pickle_path,\n",
    "    x_transforms,\n",
    "    episode_transforms,\n",
    "    domain_prefix,\n",
    "    num_examples_per_domain_per_label,\n",
    "    source_or_target_dataset:str,\n",
    "    iterator_seed=p.seed,\n",
    "    dataset_seed=p.dataset_seed,\n",
    "    n_shot=p.n_shot,\n",
    "    n_way=p.n_way,\n",
    "    n_query=p.n_query,\n",
    "    train_val_test_k_factors=(p.train_k_factor,p.val_k_factor,p.test_k_factor),\n",
    "):\n",
    "   \n",
    "    if x_transforms == []: x_transform = None\n",
    "    else: x_transform = get_chained_transform(x_transforms)\n",
    "    \n",
    "    if episode_transforms == []: episode_transform = None\n",
    "    else: raise Exception(\"episode_transforms not implemented\")\n",
    "    \n",
    "    episode_transform = lambda tup, _prefix=domain_prefix: (_prefix + str(tup[0]), tup[1])\n",
    "\n",
    "\n",
    "    eaf = Episodic_Accessor_Factory(\n",
    "        labels=labels,\n",
    "        domains=domains,\n",
    "        num_examples_per_domain_per_label=num_examples_per_domain_per_label,\n",
    "        iterator_seed=iterator_seed,\n",
    "        dataset_seed=dataset_seed,\n",
    "        n_shot=n_shot,\n",
    "        n_way=n_way,\n",
    "        n_query=n_query,\n",
    "        train_val_test_k_factors=train_val_test_k_factors,\n",
    "        pickle_path=pickle_path,\n",
    "        x_transform_func=x_transform,\n",
    "    )\n",
    "\n",
    "    train, val, test = eaf.get_train(), eaf.get_val(), eaf.get_test()\n",
    "    train = Lazy_Iterable_Wrapper(train, episode_transform)\n",
    "    val = Lazy_Iterable_Wrapper(val, episode_transform)\n",
    "    test = Lazy_Iterable_Wrapper(test, episode_transform)\n",
    "\n",
    "    if source_or_target_dataset==\"source\":\n",
    "        train_original_source.append(train)\n",
    "        val_original_source.append(val)\n",
    "        test_original_source.append(test)\n",
    "\n",
    "        p.domains_source.extend(\n",
    "            [domain_prefix + str(u) for u in domains]\n",
    "        )\n",
    "    elif source_or_target_dataset==\"target\":\n",
    "        train_original_target.append(train)\n",
    "        val_original_target.append(val)\n",
    "        test_original_target.append(test)\n",
    "        p.domains_target.extend(\n",
    "            [domain_prefix + str(u) for u in domains]\n",
    "        )\n",
    "    else:\n",
    "        raise Exception(f\"invalid source_or_target_dataset: {source_or_target_dataset}\")\n",
    "    "
   ]
  },
  {
   "cell_type": "code",
   "execution_count": 13,
   "id": "fe266617",
   "metadata": {
    "execution": {
     "iopub.execute_input": "2022-03-18T21:28:43.964302Z",
     "iopub.status.busy": "2022-03-18T21:28:43.959698Z",
     "iopub.status.idle": "2022-03-18T21:29:21.317311Z",
     "shell.execute_reply": "2022-03-18T21:29:21.316880Z"
    },
    "papermill": {
     "duration": 37.378869,
     "end_time": "2022-03-18T21:29:21.317412",
     "exception": false,
     "start_time": "2022-03-18T21:28:43.938543",
     "status": "completed"
    },
    "tags": []
   },
   "outputs": [],
   "source": [
    "for ds in p.datasets:\n",
    "    add_dataset(**ds)"
   ]
  },
  {
   "cell_type": "code",
   "execution_count": 14,
   "id": "b90d65ac",
   "metadata": {
    "execution": {
     "iopub.execute_input": "2022-03-18T21:29:21.351303Z",
     "iopub.status.busy": "2022-03-18T21:29:21.351021Z",
     "iopub.status.idle": "2022-03-18T21:29:21.366288Z",
     "shell.execute_reply": "2022-03-18T21:29:21.365820Z"
    },
    "papermill": {
     "duration": 0.030609,
     "end_time": "2022-03-18T21:29:21.366380",
     "exception": false,
     "start_time": "2022-03-18T21:29:21.335771",
     "status": "completed"
    },
    "tags": []
   },
   "outputs": [],
   "source": [
    "# from steves_utils.CORES.utils import (\n",
    "#     ALL_NODES,\n",
    "#     ALL_NODES_MINIMUM_1000_EXAMPLES,\n",
    "#     ALL_DAYS\n",
    "# )\n",
    "\n",
    "# add_dataset(\n",
    "#     labels=ALL_NODES,\n",
    "#     domains = ALL_DAYS,\n",
    "#     num_examples_per_domain_per_label=100,\n",
    "#     pickle_path=os.path.join(get_datasets_base_path(), \"cores.stratified_ds.2022A.pkl\"),\n",
    "#     source_or_target_dataset=\"target\",\n",
    "#     x_transform_func=global_x_transform_func,\n",
    "#     domain_modifier=lambda u: f\"cores_{u}\"\n",
    "# )"
   ]
  },
  {
   "cell_type": "code",
   "execution_count": 15,
   "id": "76db484d",
   "metadata": {
    "execution": {
     "iopub.execute_input": "2022-03-18T21:29:21.399415Z",
     "iopub.status.busy": "2022-03-18T21:29:21.398448Z",
     "iopub.status.idle": "2022-03-18T21:29:21.413415Z",
     "shell.execute_reply": "2022-03-18T21:29:21.412961Z"
    },
    "papermill": {
     "duration": 0.02959,
     "end_time": "2022-03-18T21:29:21.413506",
     "exception": false,
     "start_time": "2022-03-18T21:29:21.383916",
     "status": "completed"
    },
    "tags": []
   },
   "outputs": [],
   "source": [
    "# from steves_utils.ORACLE.utils_v2 import (\n",
    "#     ALL_DISTANCES_FEET,\n",
    "#     ALL_RUNS,\n",
    "#     ALL_SERIAL_NUMBERS,\n",
    "# )\n",
    "\n",
    "\n",
    "# add_dataset(\n",
    "#     labels=ALL_SERIAL_NUMBERS,\n",
    "#     domains = list(set(ALL_DISTANCES_FEET) - {2,62}),\n",
    "#     num_examples_per_domain_per_label=100,\n",
    "#     pickle_path=os.path.join(get_datasets_base_path(), \"oracle.Run2_framed_2000Examples_stratified_ds.2022A.pkl\"),\n",
    "#     source_or_target_dataset=\"source\",\n",
    "#     x_transform_func=global_x_transform_func,\n",
    "#     domain_modifier=lambda u: f\"oracle1_{u}\"\n",
    "# )\n"
   ]
  },
  {
   "cell_type": "code",
   "execution_count": 16,
   "id": "97dea9d2",
   "metadata": {
    "execution": {
     "iopub.execute_input": "2022-03-18T21:29:21.447639Z",
     "iopub.status.busy": "2022-03-18T21:29:21.446984Z",
     "iopub.status.idle": "2022-03-18T21:29:21.461499Z",
     "shell.execute_reply": "2022-03-18T21:29:21.461047Z"
    },
    "papermill": {
     "duration": 0.030045,
     "end_time": "2022-03-18T21:29:21.461588",
     "exception": false,
     "start_time": "2022-03-18T21:29:21.431543",
     "status": "completed"
    },
    "tags": []
   },
   "outputs": [],
   "source": [
    "# from steves_utils.ORACLE.utils_v2 import (\n",
    "#     ALL_DISTANCES_FEET,\n",
    "#     ALL_RUNS,\n",
    "#     ALL_SERIAL_NUMBERS,\n",
    "# )\n",
    "\n",
    "\n",
    "# add_dataset(\n",
    "#     labels=ALL_SERIAL_NUMBERS,\n",
    "#     domains = list(set(ALL_DISTANCES_FEET) - {2,62,56}),\n",
    "#     num_examples_per_domain_per_label=100,\n",
    "#     pickle_path=os.path.join(get_datasets_base_path(), \"oracle.Run2_framed_2000Examples_stratified_ds.2022A.pkl\"),\n",
    "#     source_or_target_dataset=\"source\",\n",
    "#     x_transform_func=global_x_transform_func,\n",
    "#     domain_modifier=lambda u: f\"oracle2_{u}\"\n",
    "# )"
   ]
  },
  {
   "cell_type": "code",
   "execution_count": 17,
   "id": "6f289866",
   "metadata": {
    "execution": {
     "iopub.execute_input": "2022-03-18T21:29:21.494917Z",
     "iopub.status.busy": "2022-03-18T21:29:21.494638Z",
     "iopub.status.idle": "2022-03-18T21:29:21.509390Z",
     "shell.execute_reply": "2022-03-18T21:29:21.508932Z"
    },
    "papermill": {
     "duration": 0.029727,
     "end_time": "2022-03-18T21:29:21.509480",
     "exception": false,
     "start_time": "2022-03-18T21:29:21.479753",
     "status": "completed"
    },
    "tags": []
   },
   "outputs": [],
   "source": [
    "# add_dataset(\n",
    "#     labels=list(range(19)),\n",
    "#     domains = [0,1,2],\n",
    "#     num_examples_per_domain_per_label=100,\n",
    "#     pickle_path=os.path.join(get_datasets_base_path(), \"metehan.stratified_ds.2022A.pkl\"),\n",
    "#     source_or_target_dataset=\"target\",\n",
    "#     x_transform_func=global_x_transform_func,\n",
    "#     domain_modifier=lambda u: f\"met_{u}\"\n",
    "# )"
   ]
  },
  {
   "cell_type": "code",
   "execution_count": 18,
   "id": "86a863c3",
   "metadata": {
    "execution": {
     "iopub.execute_input": "2022-03-18T21:29:21.544659Z",
     "iopub.status.busy": "2022-03-18T21:29:21.543064Z",
     "iopub.status.idle": "2022-03-18T21:29:21.557494Z",
     "shell.execute_reply": "2022-03-18T21:29:21.557040Z"
    },
    "papermill": {
     "duration": 0.029829,
     "end_time": "2022-03-18T21:29:21.557584",
     "exception": false,
     "start_time": "2022-03-18T21:29:21.527755",
     "status": "completed"
    },
    "tags": []
   },
   "outputs": [],
   "source": [
    "# # from steves_utils.wisig.utils import (\n",
    "# #     ALL_NODES_MINIMUM_100_EXAMPLES,\n",
    "# #     ALL_NODES_MINIMUM_500_EXAMPLES,\n",
    "# #     ALL_NODES_MINIMUM_1000_EXAMPLES,\n",
    "# #     ALL_DAYS\n",
    "# # )\n",
    "\n",
    "# import steves_utils.wisig.utils as wisig\n",
    "\n",
    "\n",
    "# add_dataset(\n",
    "#     labels=wisig.ALL_NODES_MINIMUM_100_EXAMPLES,\n",
    "#     domains = wisig.ALL_DAYS,\n",
    "#     num_examples_per_domain_per_label=100,\n",
    "#     pickle_path=os.path.join(get_datasets_base_path(), \"wisig.node3-19.stratified_ds.2022A.pkl\"),\n",
    "#     source_or_target_dataset=\"target\",\n",
    "#     x_transform_func=global_x_transform_func,\n",
    "#     domain_modifier=lambda u: f\"wisig_{u}\"\n",
    "# )"
   ]
  },
  {
   "cell_type": "code",
   "execution_count": 19,
   "id": "fd5442bc",
   "metadata": {
    "execution": {
     "iopub.execute_input": "2022-03-18T21:29:21.595123Z",
     "iopub.status.busy": "2022-03-18T21:29:21.594220Z",
     "iopub.status.idle": "2022-03-18T21:29:21.608272Z",
     "shell.execute_reply": "2022-03-18T21:29:21.607868Z"
    },
    "papermill": {
     "duration": 0.032458,
     "end_time": "2022-03-18T21:29:21.608364",
     "exception": false,
     "start_time": "2022-03-18T21:29:21.575906",
     "status": "completed"
    },
    "tags": []
   },
   "outputs": [],
   "source": [
    "###################################\n",
    "# Build the dataset\n",
    "###################################\n",
    "train_original_source = Iterable_Aggregator(train_original_source, p.seed)\n",
    "val_original_source = Iterable_Aggregator(val_original_source, p.seed)\n",
    "test_original_source = Iterable_Aggregator(test_original_source, p.seed)\n",
    "\n",
    "\n",
    "train_original_target = Iterable_Aggregator(train_original_target, p.seed)\n",
    "val_original_target = Iterable_Aggregator(val_original_target, p.seed)\n",
    "test_original_target = Iterable_Aggregator(test_original_target, p.seed)\n",
    "\n",
    "# For CNN We only use X and Y. And we only train on the source.\n",
    "# Properly form the data using a transform lambda and Lazy_Iterable_Wrapper. Finally wrap them in a dataloader\n",
    "\n",
    "transform_lambda = lambda ex: ex[1] # Original is (<domain>, <episode>) so we strip down to episode only\n",
    "\n",
    "train_processed_source = Lazy_Iterable_Wrapper(train_original_source, transform_lambda)\n",
    "val_processed_source   = Lazy_Iterable_Wrapper(val_original_source, transform_lambda)\n",
    "test_processed_source  = Lazy_Iterable_Wrapper(test_original_source, transform_lambda)\n",
    "\n",
    "train_processed_target = Lazy_Iterable_Wrapper(train_original_target, transform_lambda)\n",
    "val_processed_target   = Lazy_Iterable_Wrapper(val_original_target, transform_lambda)\n",
    "test_processed_target  = Lazy_Iterable_Wrapper(test_original_target, transform_lambda)\n",
    "\n",
    "datasets = EasyDict({\n",
    "    \"source\": {\n",
    "        \"original\": {\"train\":train_original_source, \"val\":val_original_source, \"test\":test_original_source},\n",
    "        \"processed\": {\"train\":train_processed_source, \"val\":val_processed_source, \"test\":test_processed_source}\n",
    "    },\n",
    "    \"target\": {\n",
    "        \"original\": {\"train\":train_original_target, \"val\":val_original_target, \"test\":test_original_target},\n",
    "        \"processed\": {\"train\":train_processed_target, \"val\":val_processed_target, \"test\":test_processed_target}\n",
    "    },\n",
    "})"
   ]
  },
  {
   "cell_type": "code",
   "execution_count": 20,
   "id": "5b3c01fc",
   "metadata": {
    "execution": {
     "iopub.execute_input": "2022-03-18T21:29:21.644201Z",
     "iopub.status.busy": "2022-03-18T21:29:21.643867Z",
     "iopub.status.idle": "2022-03-18T21:29:26.434603Z",
     "shell.execute_reply": "2022-03-18T21:29:26.434859Z"
    },
    "papermill": {
     "duration": 4.807518,
     "end_time": "2022-03-18T21:29:26.434952",
     "exception": false,
     "start_time": "2022-03-18T21:29:21.627434",
     "status": "completed"
    },
    "tags": []
   },
   "outputs": [
    {
     "name": "stdout",
     "output_type": "stream",
     "text": [
      "{'W_A_3', 'W_A_1', 'C_A_5', 'C_A_1', 'W_A_2', 'W_A_4', 'C_A_4', 'C_A_2', 'C_A_3'}\n"
     ]
    },
    {
     "name": "stdout",
     "output_type": "stream",
     "text": [
      "{'ORACLE.run1_26', 'ORACLE.run1_50', 'ORACLE.run1_32', 'ORACLE.run1_8', 'ORACLE.run1_20', 'ORACLE.run1_38', 'ORACLE.run1_14', 'ORACLE.run1_44'}\n"
     ]
    },
    {
     "name": "stdout",
     "output_type": "stream",
     "text": [
      "tensor([[[-1.2538, -0.5585, -0.0228,  ...,  0.0980, -1.1330, -0.5198],\n",
      "         [ 0.4970,  0.0046, -0.1322,  ...,  0.5973, -0.3442, -0.5152]],\n",
      "\n",
      "        [[-0.7260,  1.4881,  0.5930,  ..., -0.7891,  0.3472,  0.5591],\n",
      "         [-1.6526,  0.1127,  1.4948,  ..., -0.7395, -1.5985,  0.5817]],\n",
      "\n",
      "        [[-0.9125,  0.3484,  0.5192,  ...,  0.9215,  0.6990, -0.0202],\n",
      "         [-0.4720, -0.5079, -0.8293,  ..., -0.8451, -0.2944,  1.0721]],\n",
      "\n",
      "        ...,\n",
      "\n",
      "        [[ 0.5673, -0.6881, -0.2704,  ..., -0.7920,  0.4995,  0.8406],\n",
      "         [ 0.5467,  0.3345, -0.4413,  ..., -0.8104, -1.0683, -0.0162]],\n",
      "\n",
      "        [[-0.1979,  0.2339, -0.4310,  ..., -1.3349, -0.9535, -0.1749],\n",
      "         [-0.1468, -0.1051, -0.1684,  ...,  0.4181, -0.7218, -0.7693]],\n",
      "\n",
      "        [[ 0.1359,  0.6467, -0.9171,  ..., -0.4319, -1.2051, -0.5189],\n",
      "         [-0.8250,  0.2894,  0.4947,  ...,  0.7439, -0.0723, -0.9215]]])\n"
     ]
    }
   ],
   "source": [
    "from steves_utils.transforms import get_average_magnitude, get_average_power\n",
    "\n",
    "print(set([u for u,_ in val_original_source]))\n",
    "print(set([u for u,_ in val_original_target]))\n",
    "\n",
    "s_x, s_y, q_x, q_y, _ = next(iter(train_processed_source))\n",
    "print(s_x)\n",
    "\n",
    "# for ds in [\n",
    "#     train_processed_source,\n",
    "#     val_processed_source,\n",
    "#     test_processed_source,\n",
    "#     train_processed_target,\n",
    "#     val_processed_target,\n",
    "#     test_processed_target\n",
    "# ]:\n",
    "#     for s_x, s_y, q_x, q_y, _ in ds:\n",
    "#         for X in (s_x, q_x):\n",
    "#             for x in X:\n",
    "#                 assert np.isclose(get_average_magnitude(x.numpy()), 1.0)\n",
    "#                 assert np.isclose(get_average_power(x.numpy()), 1.0)\n",
    "                "
   ]
  },
  {
   "cell_type": "code",
   "execution_count": 21,
   "id": "bbdacba1",
   "metadata": {
    "execution": {
     "iopub.execute_input": "2022-03-18T21:29:26.480061Z",
     "iopub.status.busy": "2022-03-18T21:29:26.479715Z",
     "iopub.status.idle": "2022-03-18T21:29:26.529330Z",
     "shell.execute_reply": "2022-03-18T21:29:26.528837Z"
    },
    "papermill": {
     "duration": 0.071234,
     "end_time": "2022-03-18T21:29:26.529435",
     "exception": false,
     "start_time": "2022-03-18T21:29:26.458201",
     "status": "completed"
    },
    "tags": []
   },
   "outputs": [
    {
     "name": "stdout",
     "output_type": "stream",
     "text": [
      "(2, 200)\n"
     ]
    }
   ],
   "source": [
    "###################################\n",
    "# Build the model\n",
    "###################################\n",
    "# easfsl only wants a tuple for the shape\n",
    "model = Steves_Prototypical_Network(x_net, device=p.device, x_shape=tuple(p.x_shape))\n",
    "optimizer = Adam(params=model.parameters(), lr=p.lr)"
   ]
  },
  {
   "cell_type": "code",
   "execution_count": 22,
   "id": "22b39ac5",
   "metadata": {
    "execution": {
     "iopub.execute_input": "2022-03-18T21:29:26.564510Z",
     "iopub.status.busy": "2022-03-18T21:29:26.564256Z",
     "iopub.status.idle": "2022-03-18T21:35:56.394914Z",
     "shell.execute_reply": "2022-03-18T21:35:56.394514Z"
    },
    "papermill": {
     "duration": 389.847678,
     "end_time": "2022-03-18T21:35:56.395016",
     "exception": false,
     "start_time": "2022-03-18T21:29:26.547338",
     "status": "completed"
    },
    "tags": []
   },
   "outputs": [
    {
     "name": "stdout",
     "output_type": "stream",
     "text": [
      "epoch: 1, [batch: 1 / 2081], examples_per_second: 128.0142, train_label_loss: 2.9063, \n"
     ]
    },
    {
     "name": "stdout",
     "output_type": "stream",
     "text": [
      "epoch: 1, [batch: 209 / 2081], examples_per_second: 3611.0866, train_label_loss: 0.0659, \n"
     ]
    },
    {
     "name": "stdout",
     "output_type": "stream",
     "text": [
      "epoch: 1, [batch: 417 / 2081], examples_per_second: 3609.9656, train_label_loss: 0.9062, \n"
     ]
    },
    {
     "name": "stdout",
     "output_type": "stream",
     "text": [
      "epoch: 1, [batch: 625 / 2081], examples_per_second: 3635.0398, train_label_loss: 0.0115, \n"
     ]
    },
    {
     "name": "stdout",
     "output_type": "stream",
     "text": [
      "epoch: 1, [batch: 833 / 2081], examples_per_second: 3638.4669, train_label_loss: 0.8702, \n"
     ]
    },
    {
     "name": "stdout",
     "output_type": "stream",
     "text": [
      "epoch: 1, [batch: 1041 / 2081], examples_per_second: 3609.5826, train_label_loss: 0.0701, \n"
     ]
    },
    {
     "name": "stdout",
     "output_type": "stream",
     "text": [
      "epoch: 1, [batch: 1249 / 2081], examples_per_second: 3651.6618, train_label_loss: 0.5217, \n"
     ]
    },
    {
     "name": "stdout",
     "output_type": "stream",
     "text": [
      "epoch: 1, [batch: 1457 / 2081], examples_per_second: 3609.9023, train_label_loss: 0.4312, \n"
     ]
    },
    {
     "name": "stdout",
     "output_type": "stream",
     "text": [
      "epoch: 1, [batch: 1665 / 2081], examples_per_second: 3618.0618, train_label_loss: 0.0863, \n"
     ]
    },
    {
     "name": "stdout",
     "output_type": "stream",
     "text": [
      "epoch: 1, [batch: 1873 / 2081], examples_per_second: 3628.2939, train_label_loss: 0.3516, \n"
     ]
    },
    {
     "name": "stdout",
     "output_type": "stream",
     "text": [
      "=============================================================\n",
      "epoch: 1, source_val_acc_label: 0.9408, target_val_acc_label: 0.1757, source_val_label_loss: 0.2445, target_val_label_loss: 2.5695, \n",
      "=============================================================\n"
     ]
    },
    {
     "name": "stdout",
     "output_type": "stream",
     "text": [
      "New best\n"
     ]
    },
    {
     "name": "stdout",
     "output_type": "stream",
     "text": [
      "epoch: 2, [batch: 1 / 2079], examples_per_second: 11.2029, train_label_loss: 0.1113, \n"
     ]
    },
    {
     "name": "stdout",
     "output_type": "stream",
     "text": [
      "epoch: 2, [batch: 208 / 2079], examples_per_second: 3594.3330, train_label_loss: 0.2707, \n"
     ]
    },
    {
     "name": "stdout",
     "output_type": "stream",
     "text": [
      "epoch: 2, [batch: 416 / 2079], examples_per_second: 3605.8762, train_label_loss: 0.0108, \n"
     ]
    },
    {
     "name": "stdout",
     "output_type": "stream",
     "text": [
      "epoch: 2, [batch: 624 / 2079], examples_per_second: 3622.5340, train_label_loss: 0.0776, \n"
     ]
    },
    {
     "name": "stdout",
     "output_type": "stream",
     "text": [
      "epoch: 2, [batch: 832 / 2079], examples_per_second: 3635.8645, train_label_loss: 0.2744, \n"
     ]
    },
    {
     "name": "stdout",
     "output_type": "stream",
     "text": [
      "epoch: 2, [batch: 1040 / 2079], examples_per_second: 3613.0521, train_label_loss: 0.2990, \n"
     ]
    },
    {
     "name": "stdout",
     "output_type": "stream",
     "text": [
      "epoch: 2, [batch: 1247 / 2079], examples_per_second: 3631.0440, train_label_loss: 0.0030, \n"
     ]
    },
    {
     "name": "stdout",
     "output_type": "stream",
     "text": [
      "epoch: 2, [batch: 1455 / 2079], examples_per_second: 3597.8627, train_label_loss: 0.2744, \n"
     ]
    },
    {
     "name": "stdout",
     "output_type": "stream",
     "text": [
      "epoch: 2, [batch: 1663 / 2079], examples_per_second: 3613.1609, train_label_loss: 0.0461, \n"
     ]
    },
    {
     "name": "stdout",
     "output_type": "stream",
     "text": [
      "epoch: 2, [batch: 1871 / 2079], examples_per_second: 3620.9754, train_label_loss: 0.0556, \n"
     ]
    },
    {
     "name": "stdout",
     "output_type": "stream",
     "text": [
      "=============================================================\n",
      "epoch: 2, source_val_acc_label: 0.9664, target_val_acc_label: 0.1615, source_val_label_loss: 0.1687, target_val_label_loss: 2.6252, \n",
      "=============================================================\n"
     ]
    },
    {
     "name": "stdout",
     "output_type": "stream",
     "text": [
      "epoch: 3, [batch: 1 / 2082], examples_per_second: 11.2398, train_label_loss: 0.2201, \n"
     ]
    },
    {
     "name": "stdout",
     "output_type": "stream",
     "text": [
      "epoch: 3, [batch: 209 / 2082], examples_per_second: 3586.3821, train_label_loss: 0.7440, \n"
     ]
    },
    {
     "name": "stdout",
     "output_type": "stream",
     "text": [
      "epoch: 3, [batch: 417 / 2082], examples_per_second: 3599.3365, train_label_loss: 0.3771, \n"
     ]
    },
    {
     "name": "stdout",
     "output_type": "stream",
     "text": [
      "epoch: 3, [batch: 625 / 2082], examples_per_second: 3603.5065, train_label_loss: 0.3984, \n"
     ]
    },
    {
     "name": "stdout",
     "output_type": "stream",
     "text": [
      "epoch: 3, [batch: 833 / 2082], examples_per_second: 3629.4186, train_label_loss: 0.3055, \n"
     ]
    },
    {
     "name": "stdout",
     "output_type": "stream",
     "text": [
      "epoch: 3, [batch: 1041 / 2082], examples_per_second: 3589.9084, train_label_loss: 0.0025, \n"
     ]
    },
    {
     "name": "stdout",
     "output_type": "stream",
     "text": [
      "epoch: 3, [batch: 1249 / 2082], examples_per_second: 3607.7060, train_label_loss: 0.0047, \n"
     ]
    },
    {
     "name": "stdout",
     "output_type": "stream",
     "text": [
      "epoch: 3, [batch: 1457 / 2082], examples_per_second: 3582.6359, train_label_loss: 0.0193, \n"
     ]
    },
    {
     "name": "stdout",
     "output_type": "stream",
     "text": [
      "epoch: 3, [batch: 1665 / 2082], examples_per_second: 3618.3636, train_label_loss: 0.0114, \n"
     ]
    },
    {
     "name": "stdout",
     "output_type": "stream",
     "text": [
      "epoch: 3, [batch: 1873 / 2082], examples_per_second: 3643.1210, train_label_loss: 0.1538, \n"
     ]
    },
    {
     "name": "stdout",
     "output_type": "stream",
     "text": [
      "=============================================================\n",
      "epoch: 3, source_val_acc_label: 0.9690, target_val_acc_label: 0.1811, source_val_label_loss: 0.1441, target_val_label_loss: 2.5635, \n",
      "=============================================================\n"
     ]
    },
    {
     "name": "stdout",
     "output_type": "stream",
     "text": [
      "New best\n"
     ]
    },
    {
     "name": "stdout",
     "output_type": "stream",
     "text": [
      "epoch: 4, [batch: 1 / 2080], examples_per_second: 11.1837, train_label_loss: 0.2065, \n"
     ]
    },
    {
     "name": "stdout",
     "output_type": "stream",
     "text": [
      "epoch: 4, [batch: 208 / 2080], examples_per_second: 3594.5017, train_label_loss: 0.1224, \n"
     ]
    },
    {
     "name": "stdout",
     "output_type": "stream",
     "text": [
      "epoch: 4, [batch: 416 / 2080], examples_per_second: 3626.2048, train_label_loss: 0.0271, \n"
     ]
    },
    {
     "name": "stdout",
     "output_type": "stream",
     "text": [
      "epoch: 4, [batch: 624 / 2080], examples_per_second: 3638.9775, train_label_loss: 0.0090, \n"
     ]
    },
    {
     "name": "stdout",
     "output_type": "stream",
     "text": [
      "epoch: 4, [batch: 832 / 2080], examples_per_second: 3647.8572, train_label_loss: 0.0718, \n"
     ]
    },
    {
     "name": "stdout",
     "output_type": "stream",
     "text": [
      "epoch: 4, [batch: 1040 / 2080], examples_per_second: 3619.8646, train_label_loss: 0.0224, \n"
     ]
    },
    {
     "name": "stdout",
     "output_type": "stream",
     "text": [
      "epoch: 4, [batch: 1248 / 2080], examples_per_second: 3640.2049, train_label_loss: 0.0030, \n"
     ]
    },
    {
     "name": "stdout",
     "output_type": "stream",
     "text": [
      "epoch: 4, [batch: 1456 / 2080], examples_per_second: 3600.1469, train_label_loss: 0.0947, \n"
     ]
    },
    {
     "name": "stdout",
     "output_type": "stream",
     "text": [
      "epoch: 4, [batch: 1664 / 2080], examples_per_second: 3637.3539, train_label_loss: 0.0223, \n"
     ]
    },
    {
     "name": "stdout",
     "output_type": "stream",
     "text": [
      "epoch: 4, [batch: 1872 / 2080], examples_per_second: 3652.3010, train_label_loss: 0.2947, \n"
     ]
    },
    {
     "name": "stdout",
     "output_type": "stream",
     "text": [
      "=============================================================\n",
      "epoch: 4, source_val_acc_label: 0.9713, target_val_acc_label: 0.1772, source_val_label_loss: 0.1347, target_val_label_loss: 2.5997, \n",
      "=============================================================\n"
     ]
    },
    {
     "name": "stdout",
     "output_type": "stream",
     "text": [
      "epoch: 5, [batch: 1 / 2079], examples_per_second: 11.2071, train_label_loss: 0.0291, \n"
     ]
    },
    {
     "name": "stdout",
     "output_type": "stream",
     "text": [
      "epoch: 5, [batch: 208 / 2079], examples_per_second: 3602.7852, train_label_loss: 0.0758, \n"
     ]
    },
    {
     "name": "stdout",
     "output_type": "stream",
     "text": [
      "epoch: 5, [batch: 416 / 2079], examples_per_second: 3632.6194, train_label_loss: 0.0407, \n"
     ]
    },
    {
     "name": "stdout",
     "output_type": "stream",
     "text": [
      "epoch: 5, [batch: 624 / 2079], examples_per_second: 3633.2578, train_label_loss: 0.0044, \n"
     ]
    },
    {
     "name": "stdout",
     "output_type": "stream",
     "text": [
      "epoch: 5, [batch: 832 / 2079], examples_per_second: 3632.5744, train_label_loss: 0.0103, \n"
     ]
    },
    {
     "name": "stdout",
     "output_type": "stream",
     "text": [
      "epoch: 5, [batch: 1040 / 2079], examples_per_second: 3629.3812, train_label_loss: 0.4179, \n"
     ]
    },
    {
     "name": "stdout",
     "output_type": "stream",
     "text": [
      "epoch: 5, [batch: 1247 / 2079], examples_per_second: 3626.4323, train_label_loss: 0.1756, \n"
     ]
    },
    {
     "name": "stdout",
     "output_type": "stream",
     "text": [
      "epoch: 5, [batch: 1455 / 2079], examples_per_second: 3595.6521, train_label_loss: 0.2732, \n"
     ]
    },
    {
     "name": "stdout",
     "output_type": "stream",
     "text": [
      "epoch: 5, [batch: 1663 / 2079], examples_per_second: 3627.0283, train_label_loss: 0.0151, \n"
     ]
    },
    {
     "name": "stdout",
     "output_type": "stream",
     "text": [
      "epoch: 5, [batch: 1871 / 2079], examples_per_second: 3630.2607, train_label_loss: 0.0871, \n"
     ]
    },
    {
     "name": "stdout",
     "output_type": "stream",
     "text": [
      "=============================================================\n",
      "epoch: 5, source_val_acc_label: 0.9741, target_val_acc_label: 0.1854, source_val_label_loss: 0.1306, target_val_label_loss: 2.5989, \n",
      "=============================================================\n"
     ]
    },
    {
     "name": "stdout",
     "output_type": "stream",
     "text": [
      "epoch: 6, [batch: 1 / 2081], examples_per_second: 11.1865, train_label_loss: 0.1154, \n"
     ]
    },
    {
     "name": "stdout",
     "output_type": "stream",
     "text": [
      "epoch: 6, [batch: 209 / 2081], examples_per_second: 3578.4610, train_label_loss: 0.0009, \n"
     ]
    },
    {
     "name": "stdout",
     "output_type": "stream",
     "text": [
      "epoch: 6, [batch: 417 / 2081], examples_per_second: 3564.9385, train_label_loss: 0.0313, \n"
     ]
    },
    {
     "name": "stdout",
     "output_type": "stream",
     "text": [
      "epoch: 6, [batch: 625 / 2081], examples_per_second: 3584.7929, train_label_loss: 0.0400, \n"
     ]
    },
    {
     "name": "stdout",
     "output_type": "stream",
     "text": [
      "epoch: 6, [batch: 833 / 2081], examples_per_second: 3603.4676, train_label_loss: 0.0099, \n"
     ]
    },
    {
     "name": "stdout",
     "output_type": "stream",
     "text": [
      "epoch: 6, [batch: 1041 / 2081], examples_per_second: 3586.2238, train_label_loss: 0.1491, \n"
     ]
    },
    {
     "name": "stdout",
     "output_type": "stream",
     "text": [
      "epoch: 6, [batch: 1249 / 2081], examples_per_second: 3615.0847, train_label_loss: 0.0652, \n"
     ]
    },
    {
     "name": "stdout",
     "output_type": "stream",
     "text": [
      "epoch: 6, [batch: 1457 / 2081], examples_per_second: 3637.5778, train_label_loss: 0.0004, \n"
     ]
    },
    {
     "name": "stdout",
     "output_type": "stream",
     "text": [
      "epoch: 6, [batch: 1665 / 2081], examples_per_second: 3586.5273, train_label_loss: 0.0056, \n"
     ]
    },
    {
     "name": "stdout",
     "output_type": "stream",
     "text": [
      "epoch: 6, [batch: 1873 / 2081], examples_per_second: 3629.9124, train_label_loss: 0.0090, \n"
     ]
    },
    {
     "name": "stdout",
     "output_type": "stream",
     "text": [
      "=============================================================\n",
      "epoch: 6, source_val_acc_label: 0.9738, target_val_acc_label: 0.1792, source_val_label_loss: 0.1268, target_val_label_loss: 2.6583, \n",
      "=============================================================\n"
     ]
    },
    {
     "name": "stdout",
     "output_type": "stream",
     "text": [
      "epoch: 7, [batch: 1 / 2075], examples_per_second: 11.1764, train_label_loss: 0.0091, \n"
     ]
    },
    {
     "name": "stdout",
     "output_type": "stream",
     "text": [
      "epoch: 7, [batch: 208 / 2075], examples_per_second: 3577.8728, train_label_loss: 0.0208, \n"
     ]
    },
    {
     "name": "stdout",
     "output_type": "stream",
     "text": [
      "epoch: 7, [batch: 415 / 2075], examples_per_second: 3607.0031, train_label_loss: 0.0004, \n"
     ]
    },
    {
     "name": "stdout",
     "output_type": "stream",
     "text": [
      "epoch: 7, [batch: 623 / 2075], examples_per_second: 3626.1207, train_label_loss: 0.1812, \n"
     ]
    },
    {
     "name": "stdout",
     "output_type": "stream",
     "text": [
      "epoch: 7, [batch: 830 / 2075], examples_per_second: 3639.6387, train_label_loss: 0.0315, \n"
     ]
    },
    {
     "name": "stdout",
     "output_type": "stream",
     "text": [
      "epoch: 7, [batch: 1038 / 2075], examples_per_second: 3614.4217, train_label_loss: 0.0065, \n"
     ]
    },
    {
     "name": "stdout",
     "output_type": "stream",
     "text": [
      "epoch: 7, [batch: 1245 / 2075], examples_per_second: 3633.2189, train_label_loss: 0.0001, \n"
     ]
    },
    {
     "name": "stdout",
     "output_type": "stream",
     "text": [
      "epoch: 7, [batch: 1452 / 2075], examples_per_second: 3599.9223, train_label_loss: 0.0495, \n"
     ]
    },
    {
     "name": "stdout",
     "output_type": "stream",
     "text": [
      "epoch: 7, [batch: 1660 / 2075], examples_per_second: 3631.6149, train_label_loss: 0.2433, \n"
     ]
    },
    {
     "name": "stdout",
     "output_type": "stream",
     "text": [
      "epoch: 7, [batch: 1867 / 2075], examples_per_second: 3638.9905, train_label_loss: 0.0183, \n"
     ]
    },
    {
     "name": "stdout",
     "output_type": "stream",
     "text": [
      "=============================================================\n",
      "epoch: 7, source_val_acc_label: 0.9726, target_val_acc_label: 0.1950, source_val_label_loss: 0.1415, target_val_label_loss: 2.6410, \n",
      "=============================================================\n"
     ]
    },
    {
     "name": "stdout",
     "output_type": "stream",
     "text": [
      "Patience (3) exhausted\n"
     ]
    }
   ],
   "source": [
    "###################################\n",
    "# train\n",
    "###################################\n",
    "jig = PTN_Train_Eval_Test_Jig(model, p.BEST_MODEL_PATH, p.device)\n",
    "\n",
    "jig.train(\n",
    "    train_iterable=datasets.source.processed.train,\n",
    "    source_val_iterable=datasets.source.processed.val,\n",
    "    target_val_iterable=datasets.target.processed.val,\n",
    "    num_epochs=p.n_epoch,\n",
    "    num_logs_per_epoch=p.NUM_LOGS_PER_EPOCH,\n",
    "    patience=p.patience,\n",
    "    optimizer=optimizer,\n",
    "    criteria_for_best=p.criteria_for_best,\n",
    ")"
   ]
  },
  {
   "cell_type": "code",
   "execution_count": 23,
   "id": "31e8fabf",
   "metadata": {
    "execution": {
     "iopub.execute_input": "2022-03-18T21:35:56.457386Z",
     "iopub.status.busy": "2022-03-18T21:35:56.456981Z",
     "iopub.status.idle": "2022-03-18T21:35:56.472872Z",
     "shell.execute_reply": "2022-03-18T21:35:56.472424Z"
    },
    "papermill": {
     "duration": 0.045768,
     "end_time": "2022-03-18T21:35:56.472962",
     "exception": false,
     "start_time": "2022-03-18T21:35:56.427194",
     "status": "completed"
    },
    "tags": []
   },
   "outputs": [],
   "source": [
    "total_experiment_time_secs = time.time() - start_time_secs"
   ]
  },
  {
   "cell_type": "code",
   "execution_count": 24,
   "id": "87b9595b",
   "metadata": {
    "execution": {
     "iopub.execute_input": "2022-03-18T21:35:56.537188Z",
     "iopub.status.busy": "2022-03-18T21:35:56.536925Z",
     "iopub.status.idle": "2022-03-18T21:36:59.047164Z",
     "shell.execute_reply": "2022-03-18T21:36:59.047593Z"
    },
    "papermill": {
     "duration": 62.541726,
     "end_time": "2022-03-18T21:36:59.047723",
     "exception": false,
     "start_time": "2022-03-18T21:35:56.505997",
     "status": "completed"
    },
    "tags": []
   },
   "outputs": [],
   "source": [
    "###################################\n",
    "# Evaluate the model\n",
    "###################################\n",
    "source_test_label_accuracy, source_test_label_loss = jig.test(datasets.source.processed.test)\n",
    "target_test_label_accuracy, target_test_label_loss = jig.test(datasets.target.processed.test)\n",
    "\n",
    "source_val_label_accuracy, source_val_label_loss = jig.test(datasets.source.processed.val)\n",
    "target_val_label_accuracy, target_val_label_loss = jig.test(datasets.target.processed.val)\n",
    "\n",
    "history = jig.get_history()\n",
    "\n",
    "total_epochs_trained = len(history[\"epoch_indices\"])\n",
    "\n",
    "val_dl = Iterable_Aggregator((datasets.source.original.val,datasets.target.original.val))\n",
    "\n",
    "confusion = ptn_confusion_by_domain_over_dataloader(model, p.device, val_dl)\n",
    "per_domain_accuracy = per_domain_accuracy_from_confusion(confusion)\n",
    "\n",
    "# Add a key to per_domain_accuracy for if it was a source domain\n",
    "for domain, accuracy in per_domain_accuracy.items():\n",
    "    per_domain_accuracy[domain] = {\n",
    "        \"accuracy\": accuracy,\n",
    "        \"source?\": domain in p.domains_source\n",
    "    }\n",
    "\n",
    "# Do an independent accuracy assesment JUST TO BE SURE!\n",
    "# _source_test_label_accuracy = independent_accuracy_assesment(model, datasets.source.processed.test, p.device)\n",
    "# _target_test_label_accuracy = independent_accuracy_assesment(model, datasets.target.processed.test, p.device)\n",
    "# _source_val_label_accuracy = independent_accuracy_assesment(model, datasets.source.processed.val, p.device)\n",
    "# _target_val_label_accuracy = independent_accuracy_assesment(model, datasets.target.processed.val, p.device)\n",
    "\n",
    "# assert(_source_test_label_accuracy == source_test_label_accuracy)\n",
    "# assert(_target_test_label_accuracy == target_test_label_accuracy)\n",
    "# assert(_source_val_label_accuracy == source_val_label_accuracy)\n",
    "# assert(_target_val_label_accuracy == target_val_label_accuracy)\n",
    "\n",
    "experiment = {\n",
    "    \"experiment_name\": p.experiment_name,\n",
    "    \"parameters\": dict(p),\n",
    "    \"results\": {\n",
    "        \"source_test_label_accuracy\": source_test_label_accuracy,\n",
    "        \"source_test_label_loss\": source_test_label_loss,\n",
    "        \"target_test_label_accuracy\": target_test_label_accuracy,\n",
    "        \"target_test_label_loss\": target_test_label_loss,\n",
    "        \"source_val_label_accuracy\": source_val_label_accuracy,\n",
    "        \"source_val_label_loss\": source_val_label_loss,\n",
    "        \"target_val_label_accuracy\": target_val_label_accuracy,\n",
    "        \"target_val_label_loss\": target_val_label_loss,\n",
    "        \"total_epochs_trained\": total_epochs_trained,\n",
    "        \"total_experiment_time_secs\": total_experiment_time_secs,\n",
    "        \"confusion\": confusion,\n",
    "        \"per_domain_accuracy\": per_domain_accuracy,\n",
    "    },\n",
    "    \"history\": history,\n",
    "    \"dataset_metrics\": get_dataset_metrics(datasets, \"ptn\"),\n",
    "}"
   ]
  },
  {
   "cell_type": "code",
   "execution_count": 25,
   "id": "54a21829",
   "metadata": {
    "execution": {
     "iopub.execute_input": "2022-03-18T21:36:59.112131Z",
     "iopub.status.busy": "2022-03-18T21:36:59.111878Z",
     "iopub.status.idle": "2022-03-18T21:36:59.233137Z",
     "shell.execute_reply": "2022-03-18T21:36:59.233514Z"
    },
    "papermill": {
     "duration": 0.151829,
     "end_time": "2022-03-18T21:36:59.233620",
     "exception": false,
     "start_time": "2022-03-18T21:36:59.081791",
     "status": "completed"
    },
    "tags": []
   },
   "outputs": [
    {
     "data": {
      "image/png": "[encoded data removed]",
      "text/plain": [
       "<Figure size 1080x504 with 1 Axes>"
      ]
     },
     "metadata": {
      "needs_background": "light"
     },
     "output_type": "display_data"
    }
   ],
   "source": [
    "ax = get_loss_curve(experiment)\n",
    "plt.show()"
   ]
  },
  {
   "cell_type": "code",
   "execution_count": 26,
   "id": "fd8a0f60",
   "metadata": {
    "execution": {
     "iopub.execute_input": "2022-03-18T21:36:59.298164Z",
     "iopub.status.busy": "2022-03-18T21:36:59.297404Z",
     "iopub.status.idle": "2022-03-18T21:36:59.441293Z",
     "shell.execute_reply": "2022-03-18T21:36:59.441068Z"
    },
    "papermill": {
     "duration": 0.174169,
     "end_time": "2022-03-18T21:36:59.441344",
     "exception": false,
     "start_time": "2022-03-18T21:36:59.267175",
     "status": "completed"
    },
    "tags": []
   },
   "outputs": [
    {
     "data": {
      "text/plain": [
       "<AxesSubplot:title={'center':'Results'}>"
      ]
     },
     "execution_count": 26,
     "metadata": {},
     "output_type": "execute_result"
    },
    {
     "data": {
      "image/png": "[encoded data removed]",
      "text/plain": [
       "<Figure size 1080x504 with 1 Axes>"
      ]
     },
     "metadata": {
      "needs_background": "light"
     },
     "output_type": "display_data"
    }
   ],
   "source": [
    "get_results_table(experiment)"
   ]
  },
  {
   "cell_type": "code",
   "execution_count": 27,
   "id": "cf8dc689",
   "metadata": {
    "execution": {
     "iopub.execute_input": "2022-03-18T21:36:59.504877Z",
     "iopub.status.busy": "2022-03-18T21:36:59.504622Z",
     "iopub.status.idle": "2022-03-18T21:36:59.666397Z",
     "shell.execute_reply": "2022-03-18T21:36:59.665944Z"
    },
    "papermill": {
     "duration": 0.19425,
     "end_time": "2022-03-18T21:36:59.666488",
     "exception": false,
     "start_time": "2022-03-18T21:36:59.472238",
     "status": "completed"
    },
    "tags": []
   },
   "outputs": [
    {
     "data": {
      "text/plain": [
       "<AxesSubplot:title={'center':'Per Domain Validation Accuracy'}, xlabel='domain'>"
      ]
     },
     "execution_count": 27,
     "metadata": {},
     "output_type": "execute_result"
    },
    {
     "data": {
      "image/png": "[encoded data removed]",
      "text/plain": [
       "<Figure size 1080x504 with 1 Axes>"
      ]
     },
     "metadata": {
      "needs_background": "light"
     },
     "output_type": "display_data"
    }
   ],
   "source": [
    "get_domain_accuracies(experiment)"
   ]
  },
  {
   "cell_type": "code",
   "execution_count": 28,
   "id": "a74ae082",
   "metadata": {
    "execution": {
     "iopub.execute_input": "2022-03-18T21:36:59.735547Z",
     "iopub.status.busy": "2022-03-18T21:36:59.735293Z",
     "iopub.status.idle": "2022-03-18T21:36:59.751431Z",
     "shell.execute_reply": "2022-03-18T21:36:59.750958Z"
    },
    "papermill": {
     "duration": 0.049735,
     "end_time": "2022-03-18T21:36:59.751522",
     "exception": false,
     "start_time": "2022-03-18T21:36:59.701787",
     "status": "completed"
    },
    "tags": []
   },
   "outputs": [
    {
     "name": "stdout",
     "output_type": "stream",
     "text": [
      "Source Test Label Accuracy: 0.9628638698630136 Target Test Label Accuracy: 0.18720703125\n",
      "Source Val Label Accuracy: 0.9689640410958904 Target Val Label Accuracy: 0.18108723958333334\n"
     ]
    }
   ],
   "source": [
    "print(\"Source Test Label Accuracy:\", experiment[\"results\"][\"source_test_label_accuracy\"], \"Target Test Label Accuracy:\", experiment[\"results\"][\"target_test_label_accuracy\"])\n",
    "print(\"Source Val Label Accuracy:\", experiment[\"results\"][\"source_val_label_accuracy\"], \"Target Val Label Accuracy:\", experiment[\"results\"][\"target_val_label_accuracy\"])"
   ]
  },
  {
   "cell_type": "code",
   "execution_count": 29,
   "id": "dacca602",
   "metadata": {
    "execution": {
     "iopub.execute_input": "2022-03-18T21:36:59.819623Z",
     "iopub.status.busy": "2022-03-18T21:36:59.819374Z",
     "iopub.status.idle": "2022-03-18T21:36:59.832616Z",
     "shell.execute_reply": "2022-03-18T21:36:59.832222Z"
    },
    "papermill": {
     "duration": 0.046009,
     "end_time": "2022-03-18T21:36:59.832705",
     "exception": false,
     "start_time": "2022-03-18T21:36:59.786696",
     "status": "completed"
    },
    "tags": [
     "experiment_json"
    ]
   },
   "outputs": [
    {
     "data": {
      "text/plain": [
       "'{\"experiment_name\": \"tl_3A:cores+wisig -> oracle.run1.framed\", \"parameters\": {\"experiment_name\": \"tl_3A:cores+wisig -> oracle.run1.framed\", \"device\": \"cuda\", \"lr\": 0.001, \"x_shape\": [2, 200], \"n_shot\": 3, \"n_query\": 2, \"train_k_factor\": 3, \"val_k_factor\": 2, \"test_k_factor\": 2, \"torch_default_dtype\": \"torch.float32\", \"n_epoch\": 50, \"patience\": 3, \"criteria_for_best\": \"target_loss\", \"x_net\": [{\"class\": \"nnReshape\", \"kargs\": {\"shape\": [-1, 1, 2, 200]}}, {\"class\": \"Conv2d\", \"kargs\": {\"in_channels\": 1, \"out_channels\": 256, \"kernel_size\": [1, 7], \"bias\": false, \"padding\": [0, 3]}}, {\"class\": \"ReLU\", \"kargs\": {\"inplace\": true}}, {\"class\": \"BatchNorm2d\", \"kargs\": {\"num_features\": 256}}, {\"class\": \"Conv2d\", \"kargs\": {\"in_channels\": 256, \"out_channels\": 80, \"kernel_size\": [2, 7], \"bias\": true, \"padding\": [0, 3]}}, {\"class\": \"ReLU\", \"kargs\": {\"inplace\": true}}, {\"class\": \"BatchNorm2d\", \"kargs\": {\"num_features\": 80}}, {\"class\": \"Flatten\", \"kargs\": {}}, {\"class\": \"Linear\", \"kargs\": {\"in_features\": 16000, \"out_features\": 256}}, {\"class\": \"ReLU\", \"kargs\": {\"inplace\": true}}, {\"class\": \"BatchNorm1d\", \"kargs\": {\"num_features\": 256}}, {\"class\": \"Linear\", \"kargs\": {\"in_features\": 256, \"out_features\": 256}}], \"NUM_LOGS_PER_EPOCH\": 10, \"BEST_MODEL_PATH\": \"./best_model.pth\", \"n_way\": 16, \"datasets\": [{\"labels\": [\"1-10.\", \"1-11.\", \"1-15.\", \"1-16.\", \"1-17.\", \"1-18.\", \"1-19.\", \"10-4.\", \"10-7.\", \"11-1.\", \"11-14.\", \"11-17.\", \"11-20.\", \"11-7.\", \"13-20.\", \"13-8.\", \"14-10.\", \"14-11.\", \"14-14.\", \"14-7.\", \"15-1.\", \"15-20.\", \"16-1.\", \"16-16.\", \"17-10.\", \"17-11.\", \"17-2.\", \"19-1.\", \"19-16.\", \"19-19.\", \"19-20.\", \"19-3.\", \"2-10.\", \"2-11.\", \"2-17.\", \"2-18.\", \"2-20.\", \"2-3.\", \"2-4.\", \"2-5.\", \"2-6.\", \"2-7.\", \"2-8.\", \"3-13.\", \"3-18.\", \"3-3.\", \"4-1.\", \"4-10.\", \"4-11.\", \"4-19.\", \"5-5.\", \"6-15.\", \"7-10.\", \"7-14.\", \"8-18.\", \"8-20.\", \"8-3.\", \"8-8.\"], \"domains\": [1, 2, 3, 4, 5], \"num_examples_per_domain_per_label\": 100, \"pickle_path\": \"/mnt/wd500GB/CSC500/csc500-main/datasets/cores.stratified_ds.2022A.pkl\", \"source_or_target_dataset\": \"source\", \"x_transforms\": [\"unit_mag\", \"take_200\"], \"episode_transforms\": [], \"domain_prefix\": \"C_A_\"}, {\"labels\": [\"1-10\", \"1-12\", \"1-14\", \"1-16\", \"1-18\", \"1-19\", \"1-8\", \"10-11\", \"10-17\", \"10-4\", \"10-7\", \"11-1\", \"11-10\", \"11-19\", \"11-20\", \"11-4\", \"11-7\", \"12-19\", \"12-20\", \"12-7\", \"13-14\", \"13-18\", \"13-19\", \"13-20\", \"13-3\", \"13-7\", \"14-10\", \"14-11\", \"14-12\", \"14-13\", \"14-14\", \"14-19\", \"14-20\", \"14-7\", \"14-8\", \"14-9\", \"15-1\", \"15-19\", \"15-6\", \"16-1\", \"16-16\", \"16-19\", \"16-20\", \"17-10\", \"17-11\", \"18-1\", \"18-10\", \"18-11\", \"18-12\", \"18-13\", \"18-14\", \"18-15\", \"18-16\", \"18-17\", \"18-19\", \"18-2\", \"18-20\", \"18-4\", \"18-5\", \"18-7\", \"18-8\", \"18-9\", \"19-1\", \"19-10\", \"19-11\", \"19-12\", \"19-13\", \"19-14\", \"19-15\", \"19-19\", \"19-2\", \"19-20\", \"19-3\", \"19-4\", \"19-6\", \"19-7\", \"19-8\", \"19-9\", \"2-1\", \"2-13\", \"2-15\", \"2-3\", \"2-4\", \"2-5\", \"2-6\", \"2-7\", \"2-8\", \"20-1\", \"20-12\", \"20-14\", \"20-15\", \"20-16\", \"20-18\", \"20-19\", \"20-20\", \"20-3\", \"20-4\", \"20-5\", \"20-7\", \"20-8\", \"3-1\", \"3-13\", \"3-18\", \"3-2\", \"3-8\", \"4-1\", \"4-10\", \"4-11\", \"5-1\", \"5-5\", \"6-1\", \"6-15\", \"6-6\", \"7-10\", \"7-11\", \"7-12\", \"7-13\", \"7-14\", \"7-7\", \"7-8\", \"7-9\", \"8-1\", \"8-13\", \"8-14\", \"8-18\", \"8-20\", \"8-3\", \"8-8\", \"9-1\", \"9-7\"], \"domains\": [1, 2, 3, 4], \"num_examples_per_domain_per_label\": 100, \"pickle_path\": \"/mnt/wd500GB/CSC500/csc500-main/datasets/wisig.node3-19.stratified_ds.2022A.pkl\", \"source_or_target_dataset\": \"source\", \"x_transforms\": [\"unit_mag\", \"take_200\"], \"episode_transforms\": [], \"domain_prefix\": \"W_A_\"}, {\"labels\": [\"3123D52\", \"3123D65\", \"3123D79\", \"3123D80\", \"3123D54\", \"3123D70\", \"3123D7B\", \"3123D89\", \"3123D58\", \"3123D76\", \"3123D7D\", \"3123EFE\", \"3123D64\", \"3123D78\", \"3123D7E\", \"3124E4A\"], \"domains\": [32, 38, 8, 44, 14, 50, 20, 26], \"num_examples_per_domain_per_label\": 2000, \"pickle_path\": \"/mnt/wd500GB/CSC500/csc500-main/datasets/oracle.Run1_framed_2000Examples_stratified_ds.2022A.pkl\", \"source_or_target_dataset\": \"target\", \"x_transforms\": [\"unit_mag\", \"take_200\", \"resample_20Msps_to_25Msps\"], \"episode_transforms\": [], \"domain_prefix\": \"ORACLE.run1_\"}], \"seed\": 1337, \"dataset_seed\": 1337, \"domains_source\": [\"C_A_1\", \"C_A_2\", \"C_A_3\", \"C_A_4\", \"C_A_5\", \"W_A_1\", \"W_A_2\", \"W_A_3\", \"W_A_4\"], \"domains_target\": [\"ORACLE.run1_32\", \"ORACLE.run1_38\", \"ORACLE.run1_8\", \"ORACLE.run1_44\", \"ORACLE.run1_14\", \"ORACLE.run1_50\", \"ORACLE.run1_20\", \"ORACLE.run1_26\"]}, \"results\": {\"source_test_label_accuracy\": 0.9628638698630136, \"source_test_label_loss\": 0.16639797389507294, \"target_test_label_accuracy\": 0.18720703125, \"target_test_label_loss\": 2.5537638664245605, \"source_val_label_accuracy\": 0.9689640410958904, \"source_val_label_loss\": 0.14411328732967377, \"target_val_label_accuracy\": 0.18108723958333334, \"target_val_label_loss\": 2.563539743423462, \"total_epochs_trained\": 7, \"total_experiment_time_secs\": 432.695232629776, \"confusion\": {\"C_A_3\": {\"43\": {\"43\": 12}, \"9\": {\"9\": 12}, \"6\": {\"6\": 10}, \"3\": {\"3\": 12}, \"16\": {\"16\": 12}, \"51\": {\"51\": 12}, \"31\": {\"31\": 12}, \"46\": {\"46\": 10}, \"19\": {\"19\": 8}, \"8\": {\"8\": 12}, \"18\": {\"18\": 12}, \"37\": {\"37\": 12}, \"24\": {\"24\": 12}, \"10\": {\"10\": 12}, \"44\": {\"44\": 10}, \"14\": {\"14\": 12}, \"38\": {\"38\": 10}, \"53\": {\"53\": 12}, \"20\": {\"20\": 12}, \"32\": {\"32\": 12}, \"36\": {\"36\": 10}, \"33\": {\"33\": 12}, \"56\": {\"56\": 12}, \"23\": {\"23\": 12}, \"54\": {\"54\": 10}, \"34\": {\"34\": 12}, \"13\": {\"13\": 12}, \"2\": {\"2\": 12}, \"55\": {\"55\": 10}, \"21\": {\"21\": 10}, \"49\": {\"49\": 10}, \"25\": {\"25\": 12}, \"5\": {\"5\": 12}, \"50\": {\"50\": 8}, \"40\": {\"40\": 12}, \"57\": {\"57\": 8}, \"22\": {\"22\": 9, \"56\": 1}, \"1\": {\"1\": 10}, \"17\": {\"17\": 12}, \"41\": {\"41\": 12}, \"4\": {\"4\": 10}, \"7\": {\"7\": 10}, \"26\": {\"26\": 10}, \"29\": {\"57\": 2, \"29\": 10}, \"52\": {\"52\": 12}, \"15\": {\"15\": 12}, \"35\": {\"35\": 12}, \"42\": {\"42\": 12}, \"30\": {\"30\": 10}, \"27\": {\"27\": 8}, \"45\": {\"45\": 10}, \"0\": {\"0\": 12}, \"28\": {\"28\": 12}, \"47\": {\"47\": 12}, \"11\": {\"11\": 10}, \"39\": {\"39\": 10}, \"48\": {\"48\": 12}, \"12\": {\"12\": 8}}, \"C_A_4\": {\"35\": {\"35\": 10}, \"25\": {\"25\": 12}, \"24\": {\"24\": 10}, \"48\": {\"48\": 12}, \"51\": {\"51\": 12}, \"13\": {\"13\": 12}, \"14\": {\"38\": 1, \"14\": 7}, \"32\": {\"0\": 1, \"32\": 11}, \"30\": {\"30\": 12}, \"34\": {\"34\": 10}, \"9\": {\"9\": 12}, \"1\": {\"1\": 12}, \"0\": {\"1\": 1, \"0\": 11}, \"38\": {\"38\": 12}, \"22\": {\"22\": 8}, \"40\": {\"40\": 12}, \"39\": {\"39\": 12}, \"46\": {\"46\": 12}, \"36\": {\"36\": 12}, \"50\": {\"50\": 11, \"3\": 1}, \"49\": {\"49\": 12}, \"17\": {\"17\": 12}, \"45\": {\"45\": 11, \"17\": 1}, \"6\": {\"6\": 12}, \"8\": {\"8\": 12}, \"5\": {\"5\": 10}, \"33\": {\"33\": 12}, \"31\": {\"31\": 12}, \"37\": {\"37\": 10}, \"47\": {\"47\": 8}, \"15\": {\"15\": 10}, \"7\": {\"7\": 12}, \"20\": {\"20\": 12}, \"4\": {\"4\": 12}, \"54\": {\"54\": 12}, \"44\": {\"44\": 12}, \"3\": {\"3\": 12}, \"11\": {\"11\": 10}, \"27\": {\"27\": 10}, \"19\": {\"19\": 12}, \"55\": {\"55\": 12}, \"16\": {\"16\": 12}, \"2\": {\"2\": 10}, \"52\": {\"52\": 10}, \"42\": {\"42\": 10}, \"26\": {\"26\": 12}, \"10\": {\"10\": 12}, \"53\": {\"53\": 10}, \"28\": {\"28\": 12}, \"21\": {\"21\": 10}, \"57\": {\"57\": 10}, \"23\": {\"23\": 8}, \"43\": {\"43\": 10}, \"12\": {\"12\": 12}, \"41\": {\"41\": 12}, \"56\": {\"56\": 8}, \"18\": {\"18\": 10}, \"29\": {\"29\": 8}}, \"W_A_3\": {\"109\": {\"109\": 12}, \"127\": {\"127\": 12}, \"14\": {\"14\": 12}, \"7\": {\"7\": 12}, \"129\": {\"129\": 12}, \"57\": {\"57\": 12}, \"84\": {\"84\": 12}, \"114\": {\"114\": 12}, \"44\": {\"44\": 9, \"28\": 2, \"29\": 1}, \"21\": {\"21\": 12}, \"46\": {\"46\": 12}, \"100\": {\"100\": 12}, \"63\": {\"63\": 8, \"100\": 1, \"47\": 1, \"43\": 1, \"21\": 1}, \"24\": {\"24\": 9, \"21\": 1, \"94\": 1, \"27\": 1}, \"107\": {\"107\": 12}, \"35\": {\"109\": 1, \"35\": 8, \"27\": 1}, \"81\": {\"81\": 12}, \"64\": {\"64\": 12}, \"59\": {\"59\": 12}, \"33\": {\"33\": 12}, \"34\": {\"34\": 12}, \"36\": {\"36\": 12}, \"79\": {\"79\": 12}, \"80\": {\"80\": 11, \"110\": 1}, \"77\": {\"77\": 12}, \"22\": {\"22\": 12}, \"124\": {\"124\": 12}, \"2\": {\"2\": 12}, \"87\": {\"87\": 12}, \"105\": {\"105\": 12}, \"95\": {\"95\": 12}, \"43\": {\"43\": 11, \"33\": 1}, \"56\": {\"56\": 10}, \"18\": {\"18\": 12}, \"85\": {\"85\": 12}, \"113\": {\"113\": 12}, \"97\": {\"97\": 12}, \"86\": {\"86\": 12}, \"128\": {\"86\": 1, \"46\": 1, \"128\": 10}, \"123\": {\"123\": 12}, \"8\": {\"8\": 12}, \"110\": {\"110\": 12}, \"126\": {\"113\": 1, \"126\": 10, \"39\": 1}, \"101\": {\"101\": 12}, \"115\": {\"115\": 12}, \"49\": {\"49\": 12}, \"45\": {\"45\": 12}, \"78\": {\"78\": 10, \"40\": 1, \"13\": 1}, \"65\": {\"65\": 10}, \"54\": {\"54\": 12}, \"31\": {\"31\": 10}, \"42\": {\"42\": 11, \"82\": 1}, \"68\": {\"68\": 12}, \"15\": {\"15\": 12}, \"69\": {\"69\": 12}, \"17\": {\"17\": 9, \"104\": 1}, \"73\": {\"73\": 12}, \"121\": {\"121\": 12}, \"102\": {\"102\": 12}, \"48\": {\"48\": 11, \"37\": 1}, \"23\": {\"23\": 10, \"106\": 1, \"59\": 1}, \"108\": {\"108\": 12}, \"53\": {\"53\": 12}, \"94\": {\"94\": 10}, \"41\": {\"41\": 12}, \"58\": {\"58\": 12}, \"29\": {\"29\": 12}, \"116\": {\"116\": 12}, \"60\": {\"60\": 12}, \"104\": {\"104\": 12}, \"106\": {\"106\": 11, \"12\": 1}, \"66\": {\"66\": 12}, \"47\": {\"47\": 12}, \"40\": {\"40\": 12}, \"82\": {\"82\": 11, \"128\": 1}, \"13\": {\"13\": 9, \"10\": 1, \"19\": 1, \"100\": 1}, \"19\": {\"19\": 12}, \"72\": {\"72\": 12}, \"9\": {\"9\": 12}, \"67\": {\"67\": 12}, \"11\": {\"11\": 12}, \"125\": {\"125\": 12}, \"76\": {\"76\": 8}, \"83\": {\"83\": 12}, \"74\": {\"74\": 11, \"24\": 1}, \"20\": {\"20\": 12}, \"119\": {\"119\": 12}, \"1\": {\"1\": 12}, \"16\": {\"16\": 12}, \"25\": {\"25\": 11, \"74\": 1}, \"90\": {\"90\": 8}, \"39\": {\"39\": 12}, \"28\": {\"28\": 12}, \"55\": {\"55\": 12}, \"117\": {\"117\": 12}, \"112\": {\"112\": 12}, \"38\": {\"38\": 12}, \"37\": {\"37\": 12}, \"120\": {\"120\": 12}, \"122\": {\"122\": 12}, \"50\": {\"50\": 12}, \"10\": {\"10\": 11, \"34\": 1}, \"5\": {\"5\": 12}, \"51\": {\"51\": 12}, \"3\": {\"3\": 10, \"70\": 1, \"122\": 1}, \"98\": {\"98\": 12}, \"70\": {\"70\": 12}, \"96\": {\"96\": 12}, \"12\": {\"12\": 12}, \"99\": {\"99\": 11, \"86\": 1}, \"52\": {\"52\": 12}, \"71\": {\"71\": 9, \"82\": 1, \"61\": 1, \"3\": 1}, \"89\": {\"89\": 12}, \"0\": {\"0\": 12}, \"4\": {\"4\": 9, \"118\": 1, \"100\": 1, \"71\": 1}, \"93\": {\"93\": 12}, \"6\": {\"6\": 10}, \"75\": {\"75\": 11, \"51\": 1}, \"62\": {\"62\": 12}, \"103\": {\"103\": 12}, \"30\": {\"30\": 12}, \"91\": {\"91\": 11, \"103\": 1}, \"27\": {\"27\": 12}, \"26\": {\"26\": 12}, \"61\": {\"61\": 12}, \"118\": {\"118\": 12}, \"92\": {\"92\": 12}, \"111\": {\"111\": 12}, \"32\": {\"32\": 12}, \"88\": {\"88\": 10}}, \"C_A_5\": {\"47\": {\"47\": 10}, \"53\": {\"53\": 12}, \"29\": {\"29\": 10, \"34\": 1, \"44\": 1}, \"52\": {\"52\": 12}, \"55\": {\"55\": 12}, \"17\": {\"17\": 12}, \"42\": {\"42\": 12}, \"33\": {\"33\": 10}, \"11\": {\"11\": 12}, \"19\": {\"19\": 8}, \"1\": {\"1\": 12}, \"44\": {\"44\": 12}, \"49\": {\"49\": 12}, \"4\": {\"4\": 12}, \"6\": {\"6\": 12}, \"39\": {\"39\": 12}, \"13\": {\"13\": 12}, \"5\": {\"5\": 10}, \"16\": {\"16\": 10}, \"25\": {\"25\": 12}, \"45\": {\"45\": 12}, \"7\": {\"7\": 10}, \"22\": {\"22\": 12}, \"40\": {\"40\": 12}, \"38\": {\"38\": 12}, \"35\": {\"35\": 8}, \"56\": {\"56\": 12}, \"50\": {\"50\": 10}, \"0\": {\"0\": 12}, \"10\": {\"10\": 12}, \"27\": {\"27\": 12}, \"20\": {\"20\": 10}, \"36\": {\"36\": 8}, \"34\": {\"34\": 12}, \"30\": {\"30\": 12}, \"2\": {\"2\": 10}, \"15\": {\"15\": 10, \"11\": 2}, \"18\": {\"18\": 12}, \"32\": {\"32\": 12}, \"31\": {\"31\": 12}, \"57\": {\"57\": 12}, \"48\": {\"48\": 8}, \"28\": {\"28\": 10}, \"14\": {\"14\": 11, \"31\": 1}, \"3\": {\"3\": 12}, \"8\": {\"8\": 12}, \"9\": {\"9\": 12}, \"21\": {\"21\": 10}, \"41\": {\"41\": 12}, \"24\": {\"24\": 12}, \"46\": {\"46\": 10}, \"43\": {\"43\": 10}, \"54\": {\"54\": 10}, \"23\": {\"23\": 10}, \"37\": {\"37\": 10}, \"12\": {\"12\": 10}, \"26\": {\"26\": 10}, \"51\": {\"51\": 6}}, \"C_A_1\": {\"46\": {\"46\": 12}, \"16\": {\"16\": 12}, \"26\": {\"26\": 12}, \"10\": {\"10\": 12}, \"9\": {\"9\": 10}, \"28\": {\"28\": 12}, \"51\": {\"51\": 12}, \"1\": {\"1\": 11, \"57\": 1}, \"55\": {\"55\": 12}, \"27\": {\"27\": 10}, \"22\": {\"22\": 12}, \"52\": {\"52\": 12}, \"3\": {\"3\": 12}, \"33\": {\"33\": 8}, \"47\": {\"47\": 12}, \"42\": {\"42\": 12}, \"12\": {\"12\": 4}, \"23\": {\"23\": 12}, \"49\": {\"49\": 10}, \"7\": {\"7\": 12}, \"4\": {\"4\": 12}, \"50\": {\"50\": 12}, \"19\": {\"19\": 12}, \"11\": {\"11\": 12}, \"31\": {\"31\": 10}, \"41\": {\"41\": 12}, \"56\": {\"56\": 10}, \"0\": {\"0\": 12}, \"57\": {\"57\": 12}, \"53\": {\"53\": 12}, \"43\": {\"43\": 12}, \"37\": {\"37\": 12}, \"2\": {\"2\": 8}, \"6\": {\"6\": 12}, \"18\": {\"18\": 12}, \"38\": {\"38\": 12}, \"15\": {\"15\": 12}, \"36\": {\"36\": 12}, \"39\": {\"39\": 8}, \"44\": {\"44\": 12}, \"8\": {\"8\": 11, \"30\": 1}, \"17\": {\"17\": 10}, \"5\": {\"5\": 12}, \"13\": {\"13\": 10}, \"40\": {\"40\": 10}, \"29\": {\"29\": 11, \"56\": 1}, \"48\": {\"48\": 12}, \"32\": {\"32\": 12}, \"30\": {\"30\": 12}, \"35\": {\"35\": 12}, \"25\": {\"25\": 12}, \"14\": {\"14\": 10, \"6\": 1, \"30\": 1}, \"54\": {\"54\": 10}, \"20\": {\"20\": 8}, \"21\": {\"21\": 10}, \"45\": {\"45\": 8}, \"24\": {\"24\": 6, \"22\": 2}, \"34\": {\"34\": 8}}, \"W_A_4\": {\"28\": {\"28\": 12}, \"4\": {\"4\": 11, \"56\": 1}, \"72\": {\"72\": 12}, \"111\": {\"111\": 12}, \"108\": {\"108\": 12}, \"43\": {\"43\": 10}, \"96\": {\"96\": 12}, \"89\": {\"89\": 11, \"22\": 1}, \"31\": {\"31\": 12}, \"45\": {\"45\": 12}, \"2\": {\"2\": 12}, \"114\": {\"114\": 12}, \"11\": {\"11\": 12}, \"12\": {\"12\": 12}, \"14\": {\"14\": 12}, \"90\": {\"90\": 12}, \"10\": {\"10\": 8, \"24\": 2, \"27\": 1, \"94\": 1}, \"63\": {\"3\": 1, \"63\": 10, \"80\": 1}, \"85\": {\"85\": 11, \"91\": 1}, \"64\": {\"64\": 12}, \"82\": {\"82\": 10, \"57\": 1, \"72\": 1}, \"58\": {\"58\": 12}, \"3\": {\"3\": 12}, \"54\": {\"54\": 12}, \"121\": {\"121\": 10, \"48\": 1, \"7\": 1}, \"42\": {\"42\": 11, \"8\": 1}, \"98\": {\"98\": 12}, \"123\": {\"123\": 11, \"113\": 1}, \"91\": {\"91\": 11, \"63\": 1}, \"66\": {\"66\": 11, \"90\": 1}, \"102\": {\"102\": 12}, \"122\": {\"122\": 9, \"110\": 1, \"100\": 1, \"70\": 1}, \"1\": {\"1\": 12}, \"15\": {\"15\": 12}, \"97\": {\"97\": 10, \"12\": 1, \"15\": 1}, \"75\": {\"75\": 12}, \"95\": {\"95\": 12}, \"57\": {\"57\": 12}, \"68\": {\"68\": 12}, \"125\": {\"125\": 12}, \"62\": {\"62\": 10}, \"27\": {\"27\": 10, \"78\": 1, \"80\": 1}, \"120\": {\"120\": 9, \"103\": 1, \"64\": 2}, \"26\": {\"26\": 12}, \"55\": {\"55\": 12}, \"71\": {\"71\": 12}, \"22\": {\"22\": 12}, \"99\": {\"99\": 11, \"51\": 1}, \"84\": {\"84\": 11, \"43\": 1}, \"37\": {\"37\": 12}, \"83\": {\"83\": 12}, \"46\": {\"46\": 12}, \"35\": {\"35\": 12}, \"13\": {\"13\": 12}, \"53\": {\"53\": 10, \"69\": 1, \"78\": 1}, \"127\": {\"127\": 12}, \"69\": {\"115\": 1, \"69\": 10, \"78\": 1}, \"48\": {\"48\": 11, \"85\": 1}, \"16\": {\"16\": 12}, \"0\": {\"0\": 12}, \"8\": {\"8\": 10, \"53\": 1, \"100\": 1}, \"9\": {\"9\": 12}, \"115\": {\"115\": 11, \"9\": 1}, \"70\": {\"70\": 10, \"78\": 1, \"100\": 1}, \"119\": {\"119\": 12}, \"59\": {\"59\": 11, \"52\": 1}, \"52\": {\"52\": 12}, \"60\": {\"60\": 12}, \"44\": {\"44\": 11, \"90\": 1}, \"51\": {\"51\": 11, \"95\": 1}, \"6\": {\"6\": 12}, \"73\": {\"73\": 12}, \"78\": {\"78\": 8, \"87\": 3, \"77\": 1}, \"92\": {\"92\": 12}, \"20\": {\"20\": 11, \"5\": 1}, \"17\": {\"17\": 12}, \"74\": {\"74\": 12}, \"19\": {\"19\": 12}, \"50\": {\"50\": 12}, \"34\": {\"34\": 10, \"119\": 2}, \"104\": {\"104\": 8}, \"33\": {\"33\": 10, \"105\": 1, \"51\": 1}, \"5\": {\"5\": 12}, \"7\": {\"7\": 10, \"128\": 1, \"69\": 1}, \"29\": {\"29\": 12}, \"25\": {\"25\": 12}, \"124\": {\"124\": 12}, \"117\": {\"117\": 10, \"59\": 1, \"80\": 1}, \"88\": {\"88\": 10, \"122\": 1, \"18\": 1}, \"61\": {\"61\": 11, \"88\": 1}, \"86\": {\"86\": 12}, \"116\": {\"116\": 12}, \"24\": {\"24\": 10, \"36\": 2}, \"128\": {\"128\": 8, \"21\": 1, \"20\": 1, \"9\": 1, \"86\": 1}, \"101\": {\"101\": 12}, \"65\": {\"65\": 9, \"23\": 1}, \"36\": {\"36\": 11, \"24\": 1}, \"21\": {\"21\": 9, \"100\": 1, \"24\": 1, \"78\": 1}, \"106\": {\"106\": 12}, \"118\": {\"118\": 10, \"19\": 1, \"57\": 1}, \"113\": {\"26\": 1, \"113\": 9, \"51\": 1, \"39\": 1}, \"40\": {\"40\": 12}, \"93\": {\"93\": 8}, \"94\": {\"94\": 9, \"36\": 3}, \"103\": {\"103\": 8, \"77\": 2, \"5\": 1, \"49\": 1}, \"110\": {\"110\": 12}, \"56\": {\"56\": 12}, \"39\": {\"39\": 11, \"81\": 1}, \"109\": {\"31\": 1, \"109\": 11}, \"67\": {\"67\": 11, \"27\": 1}, \"129\": {\"129\": 12}, \"30\": {\"30\": 12}, \"126\": {\"126\": 10, \"5\": 1, \"108\": 1}, \"87\": {\"51\": 1, \"87\": 11}, \"112\": {\"112\": 12}, \"100\": {\"100\": 12}, \"79\": {\"79\": 10}, \"81\": {\"81\": 11, \"12\": 1}, \"76\": {\"76\": 10}, \"47\": {\"47\": 11, \"100\": 1}, \"77\": {\"77\": 12}, \"23\": {\"103\": 1, \"86\": 1, \"23\": 4, \"49\": 1, \"106\": 2, \"115\": 1, \"69\": 1, \"21\": 1}, \"18\": {\"18\": 12}, \"49\": {\"49\": 11, \"80\": 1}, \"41\": {\"41\": 10, \"47\": 1, \"116\": 1}, \"32\": {\"115\": 1, \"32\": 10, \"62\": 1}, \"107\": {\"107\": 10}, \"80\": {\"80\": 11, \"20\": 1}, \"105\": {\"105\": 8, \"87\": 1, \"113\": 1}, \"38\": {\"38\": 10}}, \"W_A_1\": {\"108\": {\"108\": 10}, \"40\": {\"40\": 12}, \"68\": {\"68\": 12}, \"23\": {\"23\": 10, \"12\": 2}, \"26\": {\"70\": 1, \"26\": 11}, \"64\": {\"64\": 12}, \"22\": {\"22\": 12}, \"3\": {\"3\": 12}, \"4\": {\"4\": 11, \"50\": 1}, \"70\": {\"70\": 11, \"21\": 1}, \"57\": {\"57\": 12}, \"79\": {\"79\": 12}, \"9\": {\"9\": 12}, \"89\": {\"89\": 12}, \"110\": {\"110\": 12}, \"102\": {\"102\": 12}, \"31\": {\"31\": 12}, \"58\": {\"58\": 12}, \"47\": {\"47\": 12}, \"24\": {\"24\": 11, \"97\": 1}, \"19\": {\"19\": 12}, \"11\": {\"11\": 12}, \"52\": {\"52\": 12}, \"17\": {\"17\": 12}, \"25\": {\"25\": 12}, \"69\": {\"69\": 12}, \"96\": {\"96\": 12}, \"109\": {\"109\": 12}, \"115\": {\"115\": 12}, \"83\": {\"83\": 12}, \"84\": {\"84\": 12}, \"119\": {\"119\": 10}, \"122\": {\"122\": 10}, \"99\": {\"99\": 12}, \"1\": {\"1\": 12}, \"74\": {\"74\": 10, \"127\": 1, \"68\": 1}, \"85\": {\"85\": 12}, \"127\": {\"127\": 12}, \"111\": {\"111\": 12}, \"53\": {\"53\": 12}, \"88\": {\"88\": 9, \"36\": 2, \"94\": 1}, \"65\": {\"65\": 8, \"60\": 1, \"83\": 1}, \"7\": {\"7\": 12}, \"16\": {\"16\": 11, \"122\": 1}, \"128\": {\"128\": 12}, \"34\": {\"34\": 12}, \"129\": {\"129\": 12}, \"43\": {\"43\": 12}, \"92\": {\"92\": 12}, \"28\": {\"28\": 12}, \"27\": {\"27\": 12}, \"114\": {\"114\": 12}, \"73\": {\"73\": 12}, \"0\": {\"0\": 12}, \"104\": {\"104\": 12}, \"118\": {\"118\": 12}, \"41\": {\"41\": 12}, \"49\": {\"49\": 12}, \"14\": {\"14\": 12}, \"46\": {\"76\": 1, \"46\": 7, \"45\": 1, \"51\": 1, \"104\": 2}, \"33\": {\"33\": 12}, \"76\": {\"76\": 12}, \"125\": {\"125\": 12}, \"86\": {\"86\": 10}, \"66\": {\"66\": 11, \"96\": 1}, \"5\": {\"5\": 12}, \"117\": {\"117\": 12}, \"75\": {\"75\": 12}, \"61\": {\"61\": 12}, \"50\": {\"50\": 11, \"12\": 1}, \"67\": {\"67\": 10}, \"18\": {\"18\": 12}, \"98\": {\"98\": 12}, \"55\": {\"55\": 9, \"93\": 1}, \"32\": {\"32\": 12}, \"120\": {\"120\": 12}, \"97\": {\"97\": 10, \"88\": 1, \"70\": 1}, \"126\": {\"126\": 12}, \"45\": {\"45\": 10, \"20\": 1, \"23\": 1}, \"78\": {\"78\": 9, \"43\": 1}, \"100\": {\"100\": 12}, \"107\": {\"107\": 12}, \"93\": {\"93\": 12}, \"77\": {\"77\": 12}, \"63\": {\"63\": 12}, \"112\": {\"112\": 12}, \"113\": {\"113\": 12}, \"103\": {\"103\": 10}, \"71\": {\"71\": 12}, \"30\": {\"30\": 12}, \"90\": {\"90\": 12}, \"37\": {\"65\": 1, \"37\": 11}, \"60\": {\"60\": 8, \"86\": 1, \"2\": 1, \"49\": 1, \"81\": 1}, \"15\": {\"15\": 11, \"111\": 1}, \"39\": {\"39\": 12}, \"72\": {\"72\": 12}, \"54\": {\"54\": 12}, \"35\": {\"35\": 12}, \"2\": {\"2\": 12}, \"94\": {\"94\": 11, \"109\": 1}, \"42\": {\"42\": 10, \"83\": 1, \"109\": 1}, \"81\": {\"81\": 12}, \"8\": {\"8\": 11, \"29\": 1}, \"87\": {\"87\": 12}, \"6\": {\"6\": 12}, \"36\": {\"36\": 12}, \"91\": {\"91\": 12}, \"56\": {\"56\": 12}, \"80\": {\"80\": 11, \"18\": 1}, \"124\": {\"124\": 10}, \"44\": {\"44\": 12}, \"13\": {\"13\": 12}, \"10\": {\"10\": 10, \"78\": 1, \"43\": 1}, \"59\": {\"56\": 1, \"59\": 11}, \"95\": {\"95\": 12}, \"105\": {\"105\": 11, \"66\": 1}, \"101\": {\"101\": 12}, \"20\": {\"20\": 12}, \"48\": {\"28\": 1, \"48\": 10, \"123\": 1}, \"106\": {\"106\": 12}, \"51\": {\"51\": 12}, \"21\": {\"21\": 9, \"55\": 1, \"23\": 1, \"106\": 1}, \"123\": {\"123\": 12}, \"121\": {\"121\": 12}, \"38\": {\"38\": 12}, \"62\": {\"62\": 12}, \"29\": {\"29\": 12}, \"82\": {\"82\": 12}, \"116\": {\"116\": 12}, \"12\": {\"12\": 8}}, \"W_A_2\": {\"91\": {\"91\": 12}, \"12\": {\"12\": 11, \"69\": 1}, \"101\": {\"101\": 10}, \"121\": {\"121\": 11, \"110\": 1}, \"118\": {\"118\": 11, \"31\": 1}, \"10\": {\"10\": 12}, \"117\": {\"117\": 12}, \"110\": {\"110\": 9, \"10\": 1, \"43\": 1, \"14\": 1}, \"97\": {\"97\": 9, \"12\": 1, \"15\": 1, \"119\": 1}, \"28\": {\"17\": 1, \"28\": 8, \"124\": 1, \"22\": 1, \"60\": 1}, \"88\": {\"110\": 1, \"88\": 10, \"84\": 1}, \"17\": {\"17\": 12}, \"126\": {\"126\": 11, \"129\": 1}, \"33\": {\"33\": 12}, \"86\": {\"86\": 12}, \"106\": {\"106\": 12}, \"54\": {\"54\": 12}, \"125\": {\"125\": 12}, \"83\": {\"83\": 12}, \"98\": {\"98\": 12}, \"11\": {\"11\": 11, \"27\": 1}, \"32\": {\"32\": 12}, \"42\": {\"42\": 12}, \"103\": {\"103\": 12}, \"87\": {\"87\": 12}, \"61\": {\"61\": 11, \"102\": 1}, \"13\": {\"13\": 12}, \"4\": {\"4\": 12}, \"15\": {\"15\": 10}, \"120\": {\"120\": 12}, \"80\": {\"80\": 12}, \"72\": {\"72\": 10}, \"64\": {\"64\": 12}, \"81\": {\"81\": 12}, \"102\": {\"102\": 12}, \"76\": {\"76\": 12}, \"49\": {\"49\": 9, \"21\": 1}, \"129\": {\"129\": 12}, \"89\": {\"89\": 12}, \"52\": {\"52\": 12}, \"35\": {\"35\": 12}, \"53\": {\"53\": 10, \"122\": 1, \"128\": 1}, \"112\": {\"112\": 11, \"3\": 1}, \"105\": {\"105\": 12}, \"100\": {\"100\": 12}, \"9\": {\"9\": 12}, \"82\": {\"82\": 12}, \"51\": {\"51\": 12}, \"21\": {\"21\": 12}, \"92\": {\"92\": 11, \"84\": 1}, \"69\": {\"69\": 12}, \"77\": {\"77\": 12}, \"50\": {\"50\": 11, \"46\": 1}, \"36\": {\"36\": 12}, \"16\": {\"16\": 10, \"24\": 1, \"36\": 1}, \"8\": {\"18\": 1, \"8\": 10, \"120\": 1}, \"127\": {\"127\": 12}, \"46\": {\"46\": 10}, \"84\": {\"84\": 12}, \"18\": {\"18\": 12}, \"123\": {\"123\": 10}, \"56\": {\"56\": 11, \"15\": 1}, \"26\": {\"26\": 12}, \"14\": {\"71\": 1, \"14\": 9, \"120\": 1, \"128\": 1}, \"109\": {\"109\": 12}, \"66\": {\"66\": 12}, \"24\": {\"24\": 10, \"43\": 1, \"94\": 1}, \"71\": {\"24\": 1, \"71\": 11}, \"65\": {\"65\": 10, \"113\": 1, \"51\": 1}, \"75\": {\"75\": 11, \"49\": 1}, \"111\": {\"111\": 12}, \"30\": {\"30\": 11, \"42\": 1}, \"85\": {\"85\": 12}, \"113\": {\"113\": 9, \"46\": 1}, \"45\": {\"45\": 12}, \"29\": {\"29\": 11, \"61\": 1}, \"20\": {\"20\": 12}, \"25\": {\"25\": 12}, \"0\": {\"0\": 12}, \"68\": {\"68\": 12}, \"119\": {\"119\": 12}, \"90\": {\"90\": 12}, \"38\": {\"38\": 12}, \"99\": {\"99\": 12}, \"1\": {\"1\": 12}, \"67\": {\"67\": 10, \"109\": 1, \"75\": 1}, \"63\": {\"63\": 12}, \"34\": {\"34\": 10, \"32\": 1, \"115\": 1}, \"108\": {\"108\": 12}, \"40\": {\"40\": 12}, \"47\": {\"47\": 11, \"59\": 1}, \"37\": {\"37\": 12}, \"78\": {\"78\": 12}, \"96\": {\"96\": 12}, \"43\": {\"43\": 9, \"21\": 1, \"70\": 2}, \"5\": {\"5\": 10}, \"124\": {\"124\": 12}, \"44\": {\"44\": 12}, \"41\": {\"41\": 11, \"17\": 1}, \"116\": {\"116\": 11, \"120\": 1}, \"19\": {\"19\": 10, \"112\": 1, \"47\": 1}, \"115\": {\"115\": 12}, \"95\": {\"95\": 12}, \"3\": {\"3\": 10}, \"59\": {\"59\": 12}, \"55\": {\"55\": 12}, \"70\": {\"70\": 10, \"87\": 2}, \"6\": {\"6\": 12}, \"2\": {\"2\": 12}, \"48\": {\"48\": 12}, \"23\": {\"23\": 10, \"19\": 1, \"52\": 1}, \"7\": {\"7\": 12}, \"122\": {\"122\": 12}, \"57\": {\"57\": 9, \"42\": 1, \"96\": 1, \"71\": 1}, \"39\": {\"39\": 8, \"84\": 1, \"69\": 1}, \"79\": {\"79\": 12}, \"27\": {\"27\": 10}, \"74\": {\"74\": 9, \"79\": 1, \"78\": 1, \"51\": 1}, \"73\": {\"73\": 12}, \"62\": {\"62\": 12}, \"107\": {\"107\": 12}, \"128\": {\"5\": 1, \"128\": 11}, \"60\": {\"60\": 11, \"83\": 1}, \"114\": {\"114\": 12}, \"22\": {\"22\": 12}, \"93\": {\"93\": 12}, \"94\": {\"94\": 11, \"68\": 1}, \"31\": {\"31\": 10}, \"104\": {\"104\": 12}, \"58\": {\"58\": 12}}, \"C_A_2\": {\"14\": {\"14\": 12}, \"22\": {\"22\": 11, \"56\": 1}, \"9\": {\"9\": 12}, \"47\": {\"47\": 12}, \"13\": {\"13\": 12}, \"8\": {\"8\": 12}, \"7\": {\"7\": 12}, \"49\": {\"49\": 12}, \"20\": {\"20\": 12}, \"16\": {\"16\": 12}, \"34\": {\"34\": 10, \"2\": 1, \"30\": 1}, \"56\": {\"56\": 11, \"22\": 1}, \"38\": {\"38\": 10}, \"4\": {\"4\": 12}, \"43\": {\"43\": 10}, \"26\": {\"26\": 10}, \"35\": {\"35\": 12}, \"31\": {\"31\": 12}, \"1\": {\"1\": 12}, \"39\": {\"39\": 12}, \"5\": {\"5\": 12}, \"24\": {\"24\": 12}, \"54\": {\"54\": 10}, \"23\": {\"23\": 12}, \"51\": {\"51\": 12}, \"27\": {\"27\": 10}, \"15\": {\"15\": 11, \"11\": 1}, \"0\": {\"0\": 12}, \"19\": {\"19\": 10}, \"18\": {\"18\": 8}, \"30\": {\"30\": 12}, \"55\": {\"55\": 9, \"28\": 1}, \"57\": {\"57\": 12}, \"2\": {\"2\": 12}, \"12\": {\"12\": 8}, \"41\": {\"41\": 12}, \"42\": {\"42\": 12}, \"48\": {\"48\": 12}, \"37\": {\"37\": 12}, \"6\": {\"6\": 10}, \"11\": {\"11\": 10}, \"45\": {\"45\": 8}, \"21\": {\"21\": 12}, \"46\": {\"46\": 10}, \"25\": {\"25\": 12}, \"36\": {\"36\": 10}, \"53\": {\"53\": 12}, \"28\": {\"28\": 12}, \"40\": {\"40\": 10}, \"33\": {\"33\": 10}, \"44\": {\"44\": 10}, \"3\": {\"3\": 12}, \"17\": {\"17\": 12}, \"32\": {\"32\": 10}, \"10\": {\"10\": 10}, \"52\": {\"52\": 10}, \"50\": {\"50\": 8}, \"29\": {\"29\": 6}}, \"ORACLE.run1_14\": {\"15\": {\"5\": 21, \"2\": 21, \"15\": 51, \"7\": 59, \"13\": 15, \"4\": 21, \"1\": 20, \"14\": 7, \"10\": 2, \"3\": 6, \"6\": 16, \"8\": 1}, \"3\": {\"5\": 21, \"14\": 17, \"0\": 20, \"1\": 26, \"3\": 27, \"10\": 23, \"15\": 2, \"2\": 18, \"13\": 10, \"7\": 7, \"4\": 31, \"6\": 14, \"11\": 14, \"9\": 2, \"8\": 7, \"12\": 1}, \"6\": {\"6\": 34, \"4\": 14, \"3\": 12, \"2\": 32, \"14\": 38, \"0\": 7, \"15\": 18, \"5\": 19, \"13\": 33, \"1\": 11, \"10\": 14, \"11\": 3, \"7\": 5}, \"1\": {\"3\": 21, \"6\": 4, \"2\": 21, \"4\": 19, \"7\": 27, \"10\": 18, \"5\": 31, \"0\": 8, \"14\": 13, \"1\": 40, \"8\": 11, \"13\": 8, \"15\": 6, \"11\": 13}, \"8\": {\"8\": 66, \"9\": 34, \"11\": 14, \"4\": 18, \"7\": 14, \"3\": 16, \"5\": 11, \"0\": 22, \"14\": 4, \"1\": 26, \"10\": 7, \"12\": 7, \"2\": 1}, \"10\": {\"0\": 24, \"4\": 23, \"2\": 16, \"10\": 32, \"1\": 17, \"3\": 30, \"14\": 24, \"5\": 17, \"11\": 22, \"13\": 9, \"6\": 8, \"8\": 4, \"7\": 2, \"9\": 7, \"15\": 3, \"12\": 2}, \"9\": {\"9\": 53, \"0\": 25, \"11\": 32, \"10\": 12, \"5\": 4, \"8\": 39, \"12\": 51, \"4\": 3, \"3\": 10, \"1\": 8, \"2\": 2, \"14\": 1}, \"13\": {\"7\": 12, \"10\": 15, \"6\": 37, \"13\": 30, \"3\": 15, \"1\": 12, \"15\": 11, \"4\": 18, \"2\": 32, \"14\": 32, \"11\": 3, \"5\": 15, \"0\": 7, \"8\": 1}, \"12\": {\"11\": 29, \"12\": 87, \"9\": 85, \"0\": 10, \"8\": 23, \"1\": 2, \"10\": 3, \"2\": 1}, \"5\": {\"7\": 26, \"0\": 20, \"4\": 24, \"2\": 16, \"15\": 15, \"6\": 9, \"1\": 29, \"5\": 32, \"13\": 13, \"3\": 15, \"10\": 21, \"11\": 8, \"8\": 1, \"14\": 11}, \"0\": {\"5\": 15, \"14\": 23, \"3\": 22, \"4\": 19, \"8\": 8, \"10\": 37, \"7\": 5, \"11\": 27, \"0\": 30, \"2\": 13, \"1\": 17, \"13\": 6, \"9\": 14, \"12\": 2, \"6\": 2}, \"2\": {\"14\": 30, \"2\": 30, \"6\": 24, \"10\": 15, \"4\": 19, \"5\": 21, \"3\": 11, \"15\": 9, \"1\": 20, \"11\": 10, \"13\": 24, \"0\": 15, \"7\": 9, \"8\": 2, \"9\": 1}, \"11\": {\"11\": 44, \"9\": 29, \"10\": 38, \"0\": 29, \"14\": 13, \"3\": 22, \"1\": 9, \"5\": 7, \"8\": 12, \"4\": 9, \"2\": 8, \"13\": 5, \"12\": 11, \"6\": 4}, \"14\": {\"4\": 15, \"5\": 28, \"10\": 21, \"3\": 15, \"13\": 17, \"14\": 38, \"15\": 6, \"6\": 21, \"2\": 20, \"0\": 15, \"11\": 22, \"7\": 2, \"9\": 3, \"1\": 16, \"8\": 1}, \"7\": {\"5\": 27, \"3\": 10, \"4\": 19, \"15\": 39, \"6\": 8, \"0\": 7, \"1\": 34, \"14\": 14, \"13\": 15, \"2\": 13, \"7\": 47, \"10\": 6, \"8\": 1}, \"4\": {\"6\": 13, \"5\": 24, \"15\": 10, \"7\": 23, \"13\": 15, \"4\": 30, \"10\": 18, \"1\": 19, \"3\": 19, \"2\": 25, \"14\": 13, \"9\": 3, \"0\": 14, \"11\": 8, \"8\": 6}}, \"ORACLE.run1_20\": {\"3\": {\"13\": 19, \"6\": 14, \"9\": 21, \"2\": 20, \"5\": 14, \"14\": 14, \"4\": 12, \"11\": 13, \"7\": 13, \"8\": 10, \"12\": 17, \"10\": 11, \"3\": 19, \"15\": 18, \"1\": 12, \"0\": 13}, \"15\": {\"11\": 8, \"15\": 26, \"7\": 16, \"8\": 13, \"12\": 20, \"3\": 19, \"1\": 21, \"9\": 17, \"5\": 17, \"14\": 2, \"2\": 20, \"13\": 19, \"0\": 17, \"4\": 16, \"6\": 7, \"10\": 2}, \"8\": {\"4\": 14, \"10\": 15, \"6\": 24, \"8\": 24, \"12\": 7, \"15\": 7, \"5\": 17, \"14\": 19, \"2\": 15, \"0\": 12, \"11\": 9, \"3\": 20, \"7\": 26, \"13\": 7, \"9\": 17, \"1\": 7}, \"4\": {\"6\": 18, \"5\": 10, \"1\": 14, \"10\": 15, \"3\": 15, \"11\": 6, \"9\": 17, \"7\": 17, \"8\": 18, \"12\": 17, \"15\": 10, \"14\": 17, \"13\": 16, \"4\": 27, \"2\": 12, \"0\": 11}, \"14\": {\"14\": 32, \"4\": 28, \"3\": 13, \"10\": 26, \"8\": 22, \"7\": 18, \"13\": 5, \"9\": 13, \"12\": 20, \"0\": 5, \"15\": 5, \"5\": 10, \"6\": 25, \"11\": 9, \"2\": 8, \"1\": 1}, \"0\": {\"4\": 14, \"15\": 24, \"12\": 17, \"2\": 7, \"8\": 17, \"3\": 19, \"14\": 9, \"13\": 28, \"5\": 24, \"9\": 16, \"0\": 21, \"7\": 14, \"1\": 10, \"11\": 6, \"6\": 9, \"10\": 5}, \"7\": {\"3\": 20, \"5\": 16, \"15\": 9, \"6\": 19, \"10\": 8, \"13\": 10, \"7\": 19, \"2\": 22, \"11\": 19, \"14\": 13, \"12\": 16, \"9\": 16, \"4\": 17, \"8\": 14, \"0\": 10, \"1\": 12}, \"6\": {\"14\": 27, \"1\": 9, \"0\": 14, \"8\": 22, \"9\": 14, \"2\": 9, \"3\": 14, \"15\": 9, \"5\": 5, \"11\": 21, \"4\": 20, \"10\": 20, \"6\": 22, \"7\": 20, \"12\": 9, \"13\": 5}, \"10\": {\"14\": 24, \"7\": 18, \"1\": 6, \"6\": 23, \"5\": 17, \"0\": 7, \"10\": 32, \"8\": 24, \"2\": 18, \"4\": 19, \"9\": 17, \"3\": 14, \"12\": 13, \"15\": 2, \"13\": 2, \"11\": 4}, \"5\": {\"4\": 13, \"14\": 9, \"0\": 13, \"9\": 14, \"7\": 20, \"1\": 22, \"8\": 21, \"13\": 12, \"12\": 17, \"5\": 26, \"15\": 12, \"11\": 14, \"6\": 9, \"3\": 16, \"2\": 13, \"10\": 9}, \"2\": {\"1\": 16, \"14\": 9, \"2\": 16, \"7\": 19, \"11\": 21, \"5\": 15, \"12\": 19, \"9\": 18, \"13\": 17, \"10\": 8, \"4\": 13, \"6\": 10, \"0\": 14, \"8\": 12, \"15\": 15, \"3\": 18}, \"12\": {\"14\": 11, \"11\": 9, \"15\": 15, \"10\": 12, \"1\": 14, \"13\": 21, \"8\": 21, \"7\": 17, \"2\": 26, \"3\": 13, \"12\": 18, \"0\": 14, \"5\": 17, \"9\": 15, \"4\": 10, \"6\": 7}, \"9\": {\"4\": 12, \"12\": 22, \"7\": 19, \"15\": 24, \"2\": 18, \"1\": 16, \"9\": 18, \"0\": 10, \"5\": 19, \"6\": 11, \"10\": 9, \"8\": 11, \"13\": 16, \"14\": 9, \"3\": 15, \"11\": 11}, \"1\": {\"5\": 15, \"9\": 23, \"10\": 5, \"15\": 17, \"1\": 20, \"14\": 7, \"3\": 18, \"4\": 13, \"13\": 17, \"11\": 14, \"8\": 18, \"12\": 20, \"0\": 16, \"6\": 6, \"2\": 14, \"7\": 17}, \"11\": {\"11\": 52, \"3\": 13, \"1\": 11, \"14\": 10, \"9\": 18, \"10\": 7, \"5\": 15, \"7\": 23, \"6\": 9, \"2\": 12, \"12\": 17, \"15\": 7, \"8\": 13, \"4\": 5, \"13\": 17, \"0\": 11}, \"13\": {\"13\": 20, \"10\": 1, \"0\": 22, \"9\": 20, \"15\": 23, \"3\": 21, \"14\": 7, \"2\": 19, \"12\": 22, \"5\": 20, \"7\": 14, \"11\": 16, \"8\": 6, \"1\": 22, \"6\": 4, \"4\": 3}}, \"ORACLE.run1_38\": {\"5\": {\"5\": 28, \"1\": 13, \"10\": 19, \"8\": 31, \"9\": 22, \"3\": 14, \"0\": 18, \"6\": 33, \"2\": 2, \"14\": 7, \"7\": 15, \"13\": 17, \"12\": 6, \"15\": 13, \"11\": 2}, \"8\": {\"10\": 22, \"5\": 23, \"15\": 15, \"8\": 28, \"0\": 18, \"6\": 30, \"2\": 7, \"12\": 10, \"3\": 11, \"1\": 15, \"7\": 27, \"13\": 12, \"9\": 15, \"14\": 5, \"4\": 2}, \"11\": {\"11\": 75, \"0\": 9, \"2\": 12, \"4\": 10, \"14\": 62, \"10\": 25, \"5\": 4, \"12\": 14, \"13\": 9, \"8\": 5, \"7\": 5, \"6\": 1, \"1\": 3, \"15\": 6}, \"1\": {\"15\": 39, \"6\": 25, \"13\": 27, \"10\": 15, \"1\": 53, \"2\": 26, \"9\": 15, \"5\": 17, \"7\": 2, \"14\": 3, \"8\": 12, \"0\": 6}, \"10\": {\"13\": 27, \"0\": 19, \"10\": 23, \"5\": 17, \"9\": 7, \"3\": 4, \"7\": 19, \"12\": 19, \"15\": 23, \"14\": 18, \"1\": 9, \"8\": 15, \"11\": 12, \"2\": 16, \"6\": 8, \"4\": 4}, \"15\": {\"13\": 27, \"7\": 5, \"15\": 45, \"1\": 33, \"2\": 25, \"8\": 19, \"9\": 8, \"14\": 21, \"0\": 10, \"6\": 14, \"12\": 3, \"5\": 14, \"10\": 14, \"11\": 2}, \"3\": {\"9\": 45, \"15\": 6, \"8\": 12, \"0\": 21, \"3\": 88, \"7\": 23, \"5\": 17, \"6\": 15, \"10\": 4, \"13\": 6, \"4\": 2, \"2\": 1}, \"7\": {\"9\": 21, \"5\": 31, \"8\": 23, \"10\": 19, \"7\": 45, \"14\": 6, \"15\": 9, \"0\": 33, \"12\": 18, \"6\": 4, \"4\": 15, \"13\": 7, \"3\": 7, \"2\": 2}, \"4\": {\"12\": 56, \"4\": 111, \"7\": 26, \"2\": 1, \"11\": 4, \"0\": 17, \"10\": 11, \"5\": 4, \"14\": 7, \"15\": 2, \"13\": 1}, \"14\": {\"5\": 3, \"15\": 29, \"7\": 3, \"1\": 6, \"2\": 34, \"10\": 20, \"14\": 76, \"6\": 2, \"11\": 26, \"8\": 5, \"12\": 18, \"13\": 11, \"0\": 6, \"4\": 1}, \"9\": {\"9\": 53, \"8\": 11, \"15\": 13, \"6\": 28, \"0\": 23, \"5\": 30, \"3\": 40, \"13\": 16, \"1\": 8, \"10\": 7, \"7\": 8, \"2\": 2, \"12\": 1}, \"12\": {\"4\": 43, \"8\": 9, \"10\": 32, \"0\": 10, \"12\": 94, \"7\": 19, \"5\": 4, \"14\": 18, \"13\": 2, \"11\": 2, \"15\": 4, \"2\": 2, \"1\": 1}, \"6\": {\"6\": 41, \"10\": 8, \"15\": 23, \"1\": 22, \"13\": 15, \"5\": 22, \"9\": 48, \"0\": 18, \"8\": 17, \"3\": 9, \"7\": 14, \"2\": 2, \"14\": 1}, \"2\": {\"14\": 40, \"11\": 7, \"13\": 34, \"2\": 54, \"10\": 19, \"5\": 6, \"1\": 31, \"15\": 30, \"6\": 3, \"0\": 2, \"8\": 7, \"12\": 3, \"9\": 2, \"7\": 2}, \"0\": {\"5\": 17, \"10\": 14, \"1\": 7, \"8\": 25, \"9\": 21, \"7\": 24, \"4\": 3, \"0\": 25, \"6\": 23, \"15\": 13, \"3\": 28, \"13\": 11, \"2\": 6, \"14\": 7, \"12\": 15, \"11\": 1}, \"13\": {\"13\": 31, \"1\": 44, \"0\": 17, \"6\": 19, \"15\": 23, \"10\": 12, \"2\": 32, \"11\": 6, \"14\": 9, \"8\": 17, \"5\": 14, \"9\": 6, \"7\": 5, \"3\": 4, \"12\": 1}}, \"ORACLE.run1_8\": {\"9\": {\"7\": 8, \"9\": 132, \"13\": 14, \"5\": 26, \"11\": 1, \"4\": 9, \"10\": 15, \"1\": 7, \"14\": 18, \"6\": 1, \"0\": 8, \"2\": 1}, \"10\": {\"14\": 20, \"10\": 18, \"7\": 23, \"5\": 25, \"4\": 28, \"13\": 27, \"1\": 18, \"11\": 22, \"8\": 5, \"0\": 26, \"6\": 14, \"2\": 5, \"12\": 2, \"15\": 2, \"3\": 2, \"9\": 3}, \"13\": {\"6\": 21, \"11\": 19, \"4\": 20, \"5\": 27, \"3\": 5, \"9\": 2, \"1\": 15, \"8\": 11, \"14\": 17, \"0\": 19, \"13\": 23, \"2\": 9, \"7\": 20, \"15\": 6, \"10\": 22, \"12\": 4}, \"0\": {\"1\": 15, \"7\": 27, \"6\": 30, \"11\": 11, \"13\": 33, \"10\": 15, \"2\": 15, \"0\": 26, \"14\": 20, \"4\": 11, \"5\": 15, \"15\": 4, \"3\": 8, \"8\": 7, \"12\": 3}, \"1\": {\"15\": 16, \"7\": 15, \"13\": 18, \"6\": 22, \"1\": 30, \"5\": 22, \"8\": 22, \"14\": 22, \"4\": 21, \"11\": 18, \"3\": 2, \"10\": 16, \"12\": 7, \"0\": 6, \"2\": 3}, \"15\": {\"15\": 33, \"7\": 17, \"5\": 2, \"8\": 31, \"0\": 13, \"14\": 13, \"10\": 5, \"3\": 25, \"6\": 15, \"11\": 12, \"2\": 18, \"12\": 26, \"1\": 11, \"13\": 10, \"4\": 9}, \"5\": {\"4\": 16, \"5\": 26, \"14\": 19, \"13\": 27, \"10\": 26, \"0\": 27, \"6\": 19, \"9\": 7, \"11\": 20, \"7\": 18, \"8\": 8, \"12\": 2, \"1\": 22, \"15\": 3}, \"3\": {\"7\": 14, \"5\": 2, \"12\": 30, \"2\": 40, \"10\": 5, \"13\": 11, \"1\": 5, \"0\": 10, \"4\": 5, \"3\": 46, \"14\": 5, \"15\": 28, \"6\": 15, \"8\": 21, \"11\": 3}, \"6\": {\"7\": 22, \"6\": 27, \"0\": 22, \"13\": 21, \"2\": 19, \"1\": 15, \"11\": 9, \"4\": 16, \"5\": 15, \"14\": 21, \"12\": 11, \"3\": 6, \"15\": 6, \"10\": 12, \"8\": 18}, \"11\": {\"3\": 3, \"14\": 25, \"5\": 25, \"0\": 11, \"10\": 17, \"4\": 20, \"2\": 6, \"8\": 23, \"15\": 8, \"1\": 24, \"11\": 30, \"13\": 14, \"7\": 15, \"12\": 7, \"6\": 12}, \"8\": {\"12\": 18, \"14\": 11, \"10\": 10, \"8\": 26, \"11\": 28, \"6\": 16, \"2\": 11, \"3\": 16, \"15\": 15, \"4\": 22, \"5\": 8, \"7\": 21, \"1\": 18, \"0\": 6, \"13\": 14}, \"4\": {\"10\": 17, \"12\": 4, \"5\": 21, \"0\": 18, \"4\": 27, \"14\": 18, \"13\": 24, \"2\": 12, \"11\": 15, \"1\": 19, \"7\": 22, \"6\": 15, \"8\": 14, \"15\": 9, \"3\": 3, \"9\": 2}, \"12\": {\"8\": 36, \"12\": 39, \"7\": 22, \"2\": 29, \"11\": 8, \"15\": 22, \"3\": 29, \"13\": 6, \"4\": 4, \"0\": 16, \"10\": 3, \"1\": 5, \"6\": 12, \"14\": 7, \"5\": 2}, \"14\": {\"14\": 21, \"15\": 9, \"7\": 21, \"0\": 18, \"11\": 16, \"10\": 23, \"8\": 14, \"6\": 17, \"13\": 25, \"4\": 18, \"1\": 21, \"2\": 8, \"5\": 24, \"9\": 2, \"12\": 2, \"3\": 1}, \"2\": {\"3\": 34, \"7\": 23, \"8\": 11, \"12\": 19, \"2\": 46, \"11\": 8, \"6\": 17, \"10\": 9, \"4\": 15, \"13\": 8, \"0\": 16, \"15\": 19, \"1\": 6, \"14\": 7, \"5\": 2}, \"7\": {\"3\": 11, \"7\": 29, \"13\": 15, \"5\": 7, \"10\": 23, \"0\": 19, \"2\": 25, \"8\": 20, \"1\": 12, \"15\": 10, \"12\": 5, \"14\": 15, \"6\": 23, \"4\": 15, \"11\": 11}}, \"ORACLE.run1_50\": {\"7\": {\"5\": 26, \"2\": 9, \"14\": 4, \"13\": 34, \"8\": 9, \"0\": 24, \"10\": 26, \"15\": 14, \"7\": 30, \"6\": 33, \"4\": 13, \"3\": 7, \"11\": 2, \"1\": 7, \"9\": 2}, \"3\": {\"3\": 100, \"13\": 12, \"6\": 5, \"8\": 63, \"10\": 28, \"0\": 8, \"2\": 2, \"7\": 16, \"5\": 5, \"1\": 1}, \"8\": {\"10\": 37, \"8\": 68, \"13\": 9, \"0\": 24, \"2\": 17, \"3\": 51, \"5\": 5, \"7\": 18, \"6\": 9, \"4\": 1, \"1\": 1}, \"2\": {\"10\": 24, \"14\": 30, \"8\": 15, \"1\": 16, \"2\": 53, \"13\": 6, \"0\": 33, \"5\": 13, \"12\": 14, \"6\": 10, \"7\": 9, \"15\": 4, \"4\": 5, \"3\": 2, \"11\": 6}, \"14\": {\"0\": 11, \"11\": 25, \"14\": 61, \"12\": 32, \"5\": 15, \"15\": 11, \"9\": 16, \"2\": 18, \"1\": 12, \"13\": 6, \"6\": 16, \"10\": 3, \"4\": 11, \"8\": 1, \"7\": 2}, \"4\": {\"11\": 14, \"1\": 30, \"15\": 32, \"9\": 10, \"5\": 23, \"2\": 7, \"12\": 6, \"4\": 35, \"7\": 19, \"0\": 3, \"14\": 15, \"6\": 23, \"13\": 14, \"8\": 2, \"10\": 7}, \"6\": {\"1\": 25, \"15\": 23, \"4\": 32, \"6\": 41, \"9\": 6, \"13\": 23, \"11\": 10, \"2\": 6, \"7\": 21, \"5\": 21, \"10\": 7, \"3\": 2, \"14\": 8, \"8\": 4, \"0\": 10, \"12\": 1}, \"15\": {\"15\": 37, \"1\": 27, \"14\": 15, \"6\": 27, \"11\": 29, \"5\": 28, \"12\": 9, \"4\": 25, \"13\": 13, \"9\": 15, \"7\": 7, \"2\": 3, \"0\": 4, \"10\": 1}, \"10\": {\"8\": 20, \"2\": 21, \"13\": 21, \"5\": 22, \"6\": 15, \"1\": 6, \"7\": 32, \"0\": 41, \"3\": 9, \"14\": 3, \"10\": 37, \"4\": 7, \"15\": 5, \"12\": 1}, \"11\": {\"1\": 24, \"9\": 47, \"11\": 38, \"15\": 17, \"14\": 16, \"4\": 18, \"13\": 6, \"12\": 39, \"6\": 19, \"5\": 10, \"7\": 1, \"0\": 2, \"10\": 2, \"2\": 1}, \"13\": {\"5\": 36, \"13\": 31, \"6\": 30, \"7\": 29, \"1\": 16, \"14\": 9, \"15\": 17, \"10\": 14, \"8\": 8, \"4\": 16, \"0\": 16, \"3\": 2, \"2\": 13, \"12\": 2, \"11\": 1}, \"9\": {\"14\": 22, \"12\": 35, \"11\": 44, \"9\": 60, \"6\": 4, \"15\": 22, \"5\": 9, \"4\": 11, \"1\": 25, \"2\": 4, \"7\": 1, \"0\": 2, \"13\": 1}, \"0\": {\"8\": 24, \"0\": 37, \"7\": 19, \"14\": 11, \"10\": 36, \"5\": 15, \"2\": 32, \"13\": 19, \"12\": 1, \"6\": 12, \"4\": 10, \"11\": 4, \"1\": 13, \"3\": 4, \"15\": 3}, \"1\": {\"15\": 31, \"6\": 37, \"5\": 25, \"14\": 21, \"10\": 11, \"7\": 13, \"12\": 8, \"1\": 17, \"4\": 23, \"0\": 11, \"9\": 9, \"2\": 9, \"11\": 14, \"13\": 11}, \"12\": {\"14\": 39, \"2\": 20, \"11\": 32, \"12\": 73, \"9\": 29, \"5\": 3, \"15\": 7, \"7\": 3, \"6\": 11, \"4\": 10, \"1\": 10, \"13\": 1, \"0\": 1, \"10\": 1}, \"5\": {\"1\": 25, \"14\": 12, \"10\": 15, \"15\": 19, \"6\": 32, \"8\": 3, \"0\": 10, \"13\": 35, \"2\": 10, \"4\": 15, \"5\": 23, \"11\": 8, \"3\": 3, \"7\": 27, \"9\": 2, \"12\": 1}}, \"ORACLE.run1_32\": {\"8\": {\"2\": 8, \"4\": 14, \"7\": 19, \"13\": 31, \"5\": 30, \"8\": 44, \"14\": 25, \"11\": 15, \"0\": 23, \"3\": 25, \"15\": 6}, \"14\": {\"11\": 50, \"4\": 21, \"5\": 18, \"0\": 24, \"2\": 20, \"14\": 38, \"13\": 19, \"7\": 23, \"3\": 11, \"8\": 13, \"9\": 3}, \"2\": {\"9\": 8, \"4\": 41, \"0\": 28, \"2\": 44, \"11\": 19, \"14\": 26, \"7\": 29, \"5\": 23, \"13\": 12, \"12\": 2, \"3\": 3, \"8\": 5}, \"0\": {\"13\": 28, \"3\": 8, \"0\": 39, \"14\": 18, \"11\": 22, \"7\": 25, \"9\": 6, \"5\": 29, \"8\": 19, \"4\": 25, \"2\": 20, \"12\": 1}, \"1\": {\"1\": 119, \"10\": 77, \"6\": 38, \"12\": 6}, \"10\": {\"10\": 118, \"1\": 62, \"9\": 3, \"6\": 35, \"12\": 22}, \"11\": {\"0\": 23, \"2\": 14, \"8\": 17, \"13\": 16, \"3\": 11, \"14\": 37, \"11\": 49, \"9\": 2, \"4\": 18, \"7\": 36, \"5\": 17}, \"5\": {\"5\": 32, \"0\": 24, \"7\": 35, \"8\": 27, \"13\": 27, \"3\": 19, \"11\": 22, \"4\": 16, \"14\": 22, \"2\": 13, \"15\": 3}, \"15\": {\"15\": 136, \"3\": 45, \"8\": 26, \"5\": 8, \"13\": 15, \"7\": 2, \"0\": 5, \"11\": 3}, \"3\": {\"4\": 9, \"13\": 30, \"8\": 39, \"14\": 19, \"5\": 36, \"0\": 11, \"15\": 18, \"3\": 39, \"7\": 13, \"11\": 25, \"2\": 1}, \"12\": {\"12\": 112, \"10\": 35, \"9\": 55, \"6\": 29, \"1\": 3, \"2\": 2, \"4\": 1, \"0\": 2, \"13\": 1}, \"7\": {\"14\": 29, \"5\": 22, \"4\": 27, \"13\": 17, \"11\": 41, \"3\": 3, \"7\": 37, \"0\": 23, \"2\": 28, \"8\": 10, \"15\": 1, \"9\": 1, \"12\": 1}, \"13\": {\"8\": 37, \"3\": 16, \"5\": 38, \"14\": 23, \"0\": 22, \"13\": 35, \"7\": 23, \"4\": 17, \"11\": 8, \"2\": 16, \"15\": 4, \"12\": 1}, \"6\": {\"6\": 139, \"12\": 23, \"9\": 17, \"10\": 39, \"1\": 22}, \"4\": {\"11\": 18, \"8\": 14, \"4\": 43, \"0\": 27, \"9\": 8, \"7\": 27, \"5\": 28, \"3\": 8, \"2\": 33, \"14\": 15, \"13\": 19}, \"9\": {\"9\": 90, \"12\": 75, \"13\": 3, \"4\": 15, \"2\": 28, \"10\": 4, \"0\": 8, \"6\": 11, \"5\": 2, \"11\": 1, \"8\": 1, \"14\": 1, \"7\": 1}}, \"ORACLE.run1_26\": {\"4\": {\"15\": 17, \"1\": 16, \"4\": 24, \"8\": 23, \"2\": 18, \"0\": 16, \"9\": 11, \"14\": 28, \"3\": 12, \"7\": 23, \"6\": 13, \"5\": 7, \"13\": 6, \"10\": 23, \"12\": 3}, \"12\": {\"13\": 16, \"10\": 20, \"12\": 58, \"11\": 24, \"7\": 3, \"5\": 14, \"14\": 6, \"6\": 22, \"4\": 7, \"8\": 15, \"0\": 14, \"15\": 17, \"9\": 11, \"3\": 4, \"2\": 5, \"1\": 4}, \"10\": {\"5\": 12, \"1\": 21, \"13\": 10, \"15\": 8, \"2\": 15, \"10\": 13, \"14\": 30, \"7\": 24, \"0\": 22, \"9\": 9, \"3\": 13, \"8\": 27, \"4\": 14, \"12\": 8, \"6\": 13, \"11\": 1}, \"0\": {\"1\": 19, \"4\": 29, \"8\": 26, \"10\": 20, \"9\": 9, \"14\": 32, \"2\": 12, \"6\": 14, \"7\": 14, \"5\": 8, \"13\": 7, \"15\": 14, \"12\": 3, \"0\": 20, \"3\": 13}, \"13\": {\"1\": 5, \"9\": 16, \"15\": 21, \"0\": 11, \"4\": 10, \"11\": 10, \"3\": 16, \"10\": 12, \"6\": 19, \"14\": 7, \"13\": 36, \"8\": 18, \"5\": 25, \"2\": 16, \"12\": 12, \"7\": 6}, \"9\": {\"6\": 17, \"4\": 16, \"3\": 13, \"15\": 16, \"10\": 20, \"1\": 9, \"13\": 23, \"14\": 15, \"9\": 24, \"8\": 14, \"0\": 11, \"12\": 8, \"5\": 23, \"11\": 1, \"2\": 10, \"7\": 20}, \"3\": {\"8\": 24, \"10\": 15, \"15\": 16, \"4\": 20, \"9\": 13, \"6\": 7, \"5\": 15, \"13\": 14, \"2\": 29, \"7\": 25, \"14\": 20, \"0\": 9, \"3\": 15, \"1\": 17, \"12\": 1}, \"2\": {\"13\": 14, \"3\": 22, \"12\": 3, \"2\": 26, \"14\": 24, \"5\": 14, \"8\": 21, \"9\": 21, \"4\": 15, \"6\": 7, \"10\": 15, \"15\": 13, \"7\": 19, \"1\": 14, \"0\": 11, \"11\": 1}, \"5\": {\"6\": 18, \"2\": 22, \"15\": 14, \"10\": 11, \"9\": 28, \"5\": 28, \"8\": 15, \"4\": 10, \"13\": 21, \"0\": 18, \"1\": 7, \"7\": 13, \"3\": 15, \"12\": 4, \"14\": 13, \"11\": 3}, \"14\": {\"1\": 27, \"13\": 9, \"0\": 16, \"12\": 3, \"2\": 16, \"10\": 14, \"15\": 13, \"8\": 23, \"14\": 24, \"9\": 8, \"6\": 15, \"7\": 26, \"4\": 32, \"3\": 11, \"5\": 3}, \"8\": {\"7\": 27, \"4\": 19, \"12\": 5, \"8\": 20, \"13\": 15, \"14\": 20, \"15\": 22, \"2\": 16, \"3\": 14, \"5\": 8, \"0\": 11, \"1\": 17, \"6\": 21, \"10\": 13, \"9\": 11, \"11\": 1}, \"7\": {\"13\": 9, \"14\": 14, \"12\": 4, \"6\": 16, \"1\": 22, \"4\": 22, \"3\": 30, \"15\": 7, \"10\": 17, \"0\": 21, \"7\": 25, \"8\": 12, \"5\": 13, \"2\": 15, \"9\": 13}, \"6\": {\"6\": 19, \"12\": 14, \"2\": 8, \"4\": 13, \"13\": 21, \"9\": 14, \"15\": 27, \"14\": 17, \"1\": 9, \"0\": 22, \"8\": 17, \"3\": 14, \"10\": 12, \"7\": 15, \"5\": 15, \"11\": 3}, \"11\": {\"13\": 27, \"9\": 11, \"8\": 10, \"15\": 7, \"11\": 77, \"6\": 12, \"5\": 17, \"10\": 9, \"0\": 5, \"12\": 55, \"4\": 2, \"7\": 3, \"2\": 4, \"1\": 1}, \"15\": {\"8\": 20, \"5\": 21, \"1\": 15, \"10\": 16, \"9\": 10, \"3\": 13, \"6\": 19, \"15\": 18, \"14\": 14, \"0\": 15, \"2\": 16, \"13\": 27, \"7\": 18, \"4\": 11, \"12\": 4, \"11\": 3}, \"1\": {\"1\": 28, \"10\": 18, \"4\": 27, \"13\": 9, \"7\": 28, \"14\": 21, \"6\": 8, \"9\": 6, \"8\": 14, \"2\": 15, \"3\": 14, \"0\": 29, \"5\": 11, \"15\": 12}}, \"ORACLE.run1_44\": {\"12\": {\"12\": 40, \"9\": 12, \"3\": 33, \"10\": 48, \"7\": 19, \"1\": 46, \"2\": 32, \"6\": 6, \"11\": 1, \"13\": 3}, \"7\": {\"3\": 14, \"7\": 28, \"12\": 20, \"11\": 17, \"9\": 27, \"1\": 24, \"13\": 25, \"2\": 28, \"6\": 27, \"10\": 23, \"4\": 7}, \"5\": {\"5\": 55, \"0\": 40, \"8\": 48, \"4\": 25, \"14\": 34, \"15\": 35, \"9\": 1, \"1\": 1, \"2\": 1}, \"15\": {\"14\": 33, \"4\": 22, \"8\": 52, \"15\": 54, \"5\": 40, \"0\": 37, \"9\": 1, \"13\": 1}, \"8\": {\"0\": 57, \"8\": 64, \"15\": 49, \"5\": 43, \"1\": 1, \"14\": 15, \"4\": 11}, \"2\": {\"2\": 36, \"7\": 32, \"6\": 35, \"13\": 27, \"1\": 21, \"12\": 19, \"10\": 24, \"3\": 12, \"9\": 24, \"11\": 9, \"4\": 1}, \"13\": {\"13\": 41, \"11\": 26, \"6\": 34, \"9\": 44, \"2\": 25, \"12\": 13, \"7\": 21, \"1\": 10, \"4\": 7, \"10\": 9, \"14\": 3, \"3\": 7}, \"4\": {\"7\": 7, \"5\": 27, \"0\": 16, \"10\": 1, \"4\": 63, \"14\": 51, \"8\": 11, \"9\": 13, \"2\": 2, \"15\": 23, \"13\": 13, \"1\": 2, \"6\": 3, \"3\": 8}, \"0\": {\"15\": 37, \"8\": 69, \"5\": 50, \"14\": 22, \"0\": 53, \"4\": 9}, \"6\": {\"7\": 24, \"11\": 35, \"9\": 33, \"2\": 18, \"6\": 53, \"13\": 36, \"10\": 8, \"1\": 14, \"3\": 5, \"12\": 9, \"4\": 4, \"14\": 1}, \"9\": {\"9\": 25, \"7\": 35, \"13\": 36, \"11\": 22, \"2\": 30, \"3\": 20, \"6\": 26, \"12\": 10, \"14\": 2, \"1\": 20, \"10\": 9, \"4\": 5}, \"11\": {\"6\": 31, \"13\": 35, \"9\": 20, \"2\": 22, \"12\": 8, \"10\": 17, \"11\": 59, \"3\": 7, \"7\": 32, \"4\": 2, \"1\": 7}, \"10\": {\"1\": 33, \"9\": 19, \"2\": 44, \"13\": 10, \"6\": 13, \"10\": 47, \"12\": 31, \"11\": 7, \"3\": 9, \"7\": 27}, \"14\": {\"5\": 41, \"14\": 45, \"9\": 8, \"8\": 22, \"4\": 46, \"15\": 34, \"1\": 2, \"0\": 20, \"13\": 9, \"3\": 4, \"7\": 2, \"12\": 1, \"6\": 3, \"2\": 1, \"11\": 2}, \"1\": {\"12\": 47, \"7\": 20, \"13\": 5, \"9\": 20, \"10\": 30, \"1\": 32, \"3\": 33, \"11\": 6, \"2\": 31, \"6\": 10, \"8\": 1, \"4\": 4, \"14\": 1}, \"3\": {\"1\": 50, \"4\": 8, \"9\": 25, \"13\": 9, \"3\": 46, \"11\": 4, \"10\": 19, \"2\": 25, \"7\": 12, \"12\": 35, \"6\": 3, \"14\": 3, \"15\": 1}}}, \"per_domain_accuracy\": {\"C_A_3\": {\"accuracy\": 0.9953125, \"source?\": true}, \"C_A_4\": {\"accuracy\": 0.9921875, \"source?\": true}, \"W_A_3\": {\"accuracy\": 0.9713541666666666, \"source?\": true}, \"C_A_5\": {\"accuracy\": 0.9921875, \"source?\": true}, \"C_A_1\": {\"accuracy\": 0.9890625, \"source?\": true}, \"W_A_4\": {\"accuracy\": 0.931640625, \"source?\": true}, \"W_A_1\": {\"accuracy\": 0.9694010416666666, \"source?\": true}, \"W_A_2\": {\"accuracy\": 0.9557291666666666, \"source?\": true}, \"C_A_2\": {\"accuracy\": 0.990625, \"source?\": true}, \"ORACLE.run1_14\": {\"accuracy\": 0.17473958333333334, \"source?\": false}, \"ORACLE.run1_20\": {\"accuracy\": 0.10208333333333333, \"source?\": false}, \"ORACLE.run1_38\": {\"accuracy\": 0.2265625, \"source?\": false}, \"ORACLE.run1_8\": {\"accuracy\": 0.15078125, \"source?\": false}, \"ORACLE.run1_50\": {\"accuracy\": 0.19296875, \"source?\": false}, \"ORACLE.run1_32\": {\"accuracy\": 0.29010416666666666, \"source?\": false}, \"ORACLE.run1_26\": {\"accuracy\": 0.11848958333333333, \"source?\": false}, \"ORACLE.run1_44\": {\"accuracy\": 0.19296875, \"source?\": false}}}, \"history\": {\"epoch_indices\": [1, 2, 3, 4, 5, 6, 7], \"train_label_loss\": [0.3381841742218343, 0.17217013424246388, 0.13214342739718232, 0.10178109474072698, 0.08515395380044428, 0.07414828783960653, 0.0588830061068973], \"source_val_label_loss\": [0.2444738894701004, 0.16865594685077667, 0.14411327242851257, 0.13470111787319183, 0.13063977658748627, 0.12677763402462006, 0.14152252674102783], \"target_val_label_loss\": [2.5694801807403564, 2.6251606941223145, 2.563539743423462, 2.599721908569336, 2.5989179611206055, 2.658273935317993, 2.6410393714904785], \"source_val_acc_label\": [0.9408176369863014, 0.9663955479452054, 0.9689640410958904, 0.971318493150685, 0.9741010273972602, 0.9737799657534246, 0.9726027397260274], \"target_val_acc_label\": [0.17574869791666667, 0.16145833333333334, 0.18108723958333334, 0.17724609375, 0.18538411458333334, 0.17919921875, 0.19501953125]}, \"dataset_metrics\": {\"source\": {\"train\": {\"n_unique_x\": 56700, \"n_unique_y\": 130, \"n_batch/episode\": 2082}, \"val\": {\"n_unique_x\": 12132, \"n_unique_y\": 130, \"n_batch/episode\": 292}, \"test\": {\"n_unique_x\": 12132, \"n_unique_y\": 130, \"n_batch/episode\": 292}}, \"target\": {\"train\": {\"n_unique_x\": 179200, \"n_unique_y\": 16, \"n_batch/episode\": 6720}, \"val\": {\"n_unique_x\": 38400, \"n_unique_y\": 16, \"n_batch/episode\": 960}, \"test\": {\"n_unique_x\": 38400, \"n_unique_y\": 16, \"n_batch/episode\": 960}}}}'"
      ]
     },
     "execution_count": 29,
     "metadata": {},
     "output_type": "execute_result"
    }
   ],
   "source": [
    "json.dumps(experiment)"
   ]
  }
 ],
 "metadata": {
  "celltoolbar": "Tags",
  "kernelspec": {
   "display_name": "Python 3 (ipykernel)",
   "language": "python",
   "name": "python3"
  },
  "language_info": {
   "codemirror_mode": {
    "name": "ipython",
    "version": 3
   },
   "file_extension": ".py",
   "mimetype": "text/x-python",
   "name": "python",
   "nbconvert_exporter": "python",
   "pygments_lexer": "ipython3",
   "version": "3.8.10"
  },
  "papermill": {
   "default_parameters": {},
   "duration": 499.326791,
   "end_time": "2022-03-18T21:37:00.874193",
   "environment_variables": {},
   "exception": null,
   "input_path": "/mnt/wd500GB/CSC500/csc500-main/csc500-notebooks/templates/tl_ptn_template.ipynb",
   "output_path": "trial.ipynb",
   "parameters": {
    "parameters": {
     "BEST_MODEL_PATH": "./best_model.pth",
     "NUM_LOGS_PER_EPOCH": 10,
     "criteria_for_best": "target_loss",
     "dataset_seed": 1337,
     "datasets": [
      {
       "domain_prefix": "C_A_",
       "domains": [
        1,
        2,
        3,
        4,
        5
       ],
       "episode_transforms": [],
       "labels": [
        "1-10.",
        "1-11.",
        "1-15.",
        "1-16.",
        "1-17.",
        "1-18.",
        "1-19.",
        "10-4.",
        "10-7.",
        "11-1.",
        "11-14.",
        "11-17.",
        "11-20.",
        "11-7.",
        "13-20.",
        "13-8.",
        "14-10.",
        "14-11.",
        "14-14.",
        "14-7.",
        "15-1.",
        "15-20.",
        "16-1.",
        "16-16.",
        "17-10.",
        "17-11.",
        "17-2.",
        "19-1.",
        "19-16.",
        "19-19.",
        "19-20.",
        "19-3.",
        "2-10.",
        "2-11.",
        "2-17.",
        "2-18.",
        "2-20.",
        "2-3.",
        "2-4.",
        "2-5.",
        "2-6.",
        "2-7.",
        "2-8.",
        "3-13.",
        "3-18.",
        "3-3.",
        "4-1.",
        "4-10.",
        "4-11.",
        "4-19.",
        "5-5.",
        "6-15.",
        "7-10.",
        "7-14.",
        "8-18.",
        "8-20.",
        "8-3.",
        "8-8."
       ],
       "num_examples_per_domain_per_label": 100,
       "pickle_path": "/mnt/wd500GB/CSC500/csc500-main/datasets/cores.stratified_ds.2022A.pkl",
       "source_or_target_dataset": "source",
       "x_transforms": [
        "unit_mag",
        "take_200"
       ]
      },
      {
       "domain_prefix": "W_A_",
       "domains": [
        1,
        2,
        3,
        4
       ],
       "episode_transforms": [],
       "labels": [
        "1-10",
        "1-12",
        "1-14",
        "1-16",
        "1-18",
        "1-19",
        "1-8",
        "10-11",
        "10-17",
        "10-4",
        "10-7",
        "11-1",
        "11-10",
        "11-19",
        "11-20",
        "11-4",
        "11-7",
        "12-19",
        "12-20",
        "12-7",
        "13-14",
        "13-18",
        "13-19",
        "13-20",
        "13-3",
        "13-7",
        "14-10",
        "14-11",
        "14-12",
        "14-13",
        "14-14",
        "14-19",
        "14-20",
        "14-7",
        "14-8",
        "14-9",
        "15-1",
        "15-19",
        "15-6",
        "16-1",
        "16-16",
        "16-19",
        "16-20",
        "17-10",
        "17-11",
        "18-1",
        "18-10",
        "18-11",
        "18-12",
        "18-13",
        "18-14",
        "18-15",
        "18-16",
        "18-17",
        "18-19",
        "18-2",
        "18-20",
        "18-4",
        "18-5",
        "18-7",
        "18-8",
        "18-9",
        "19-1",
        "19-10",
        "19-11",
        "19-12",
        "19-13",
        "19-14",
        "19-15",
        "19-19",
        "19-2",
        "19-20",
        "19-3",
        "19-4",
        "19-6",
        "19-7",
        "19-8",
        "19-9",
        "2-1",
        "2-13",
        "2-15",
        "2-3",
        "2-4",
        "2-5",
        "2-6",
        "2-7",
        "2-8",
        "20-1",
        "20-12",
        "20-14",
        "20-15",
        "20-16",
        "20-18",
        "20-19",
        "20-20",
        "20-3",
        "20-4",
        "20-5",
        "20-7",
        "20-8",
        "3-1",
        "3-13",
        "3-18",
        "3-2",
        "3-8",
        "4-1",
        "4-10",
        "4-11",
        "5-1",
        "5-5",
        "6-1",
        "6-15",
        "6-6",
        "7-10",
        "7-11",
        "7-12",
        "7-13",
        "7-14",
        "7-7",
        "7-8",
        "7-9",
        "8-1",
        "8-13",
        "8-14",
        "8-18",
        "8-20",
        "8-3",
        "8-8",
        "9-1",
        "9-7"
       ],
       "num_examples_per_domain_per_label": 100,
       "pickle_path": "/mnt/wd500GB/CSC500/csc500-main/datasets/wisig.node3-19.stratified_ds.2022A.pkl",
       "source_or_target_dataset": "source",
       "x_transforms": [
        "unit_mag",
        "take_200"
       ]
      },
      {
       "domain_prefix": "ORACLE.run1_",
       "domains": [
        32,
        38,
        8,
        44,
        14,
        50,
        20,
        26
       ],
       "episode_transforms": [],
       "labels": [
        "3123D52",
        "3123D65",
        "3123D79",
        "3123D80",
        "3123D54",
        "3123D70",
        "3123D7B",
        "3123D89",
        "3123D58",
        "3123D76",
        "3123D7D",
        "3123EFE",
        "3123D64",
        "3123D78",
        "3123D7E",
        "3124E4A"
       ],
       "num_examples_per_domain_per_label": 2000,
       "pickle_path": "/mnt/wd500GB/CSC500/csc500-main/datasets/oracle.Run1_framed_2000Examples_stratified_ds.2022A.pkl",
       "source_or_target_dataset": "target",
       "x_transforms": [
        "unit_mag",
        "take_200",
        "resample_20Msps_to_25Msps"
       ]
      }
     ],
     "device": "cuda",
     "experiment_name": "tl_3A:cores+wisig -> oracle.run1.framed",
     "lr": 0.001,
     "n_epoch": 50,
     "n_query": 2,
     "n_shot": 3,
     "n_way": 16,
     "patience": 3,
     "seed": 1337,
     "test_k_factor": 2,
     "torch_default_dtype": "torch.float32",
     "train_k_factor": 3,
     "val_k_factor": 2,
     "x_net": [
      {
       "class": "nnReshape",
       "kargs": {
        "shape": [
         -1,
         1,
         2,
         200
        ]
       }
      },
      {
       "class": "Conv2d",
       "kargs": {
        "bias": false,
        "in_channels": 1,
        "kernel_size": [
         1,
         7
        ],
        "out_channels": 256,
        "padding": [
         0,
         3
        ]
       }
      },
      {
       "class": "ReLU",
       "kargs": {
        "inplace": true
       }
      },
      {
       "class": "BatchNorm2d",
       "kargs": {
        "num_features": 256
       }
      },
      {
       "class": "Conv2d",
       "kargs": {
        "bias": true,
        "in_channels": 256,
        "kernel_size": [
         2,
         7
        ],
        "out_channels": 80,
        "padding": [
         0,
         3
        ]
       }
      },
      {
       "class": "ReLU",
       "kargs": {
        "inplace": true
       }
      },
      {
       "class": "BatchNorm2d",
       "kargs": {
        "num_features": 80
       }
      },
      {
       "class": "Flatten",
       "kargs": {}
      },
      {
       "class": "Linear",
       "kargs": {
        "in_features": 16000,
        "out_features": 256
       }
      },
      {
       "class": "ReLU",
       "kargs": {
        "inplace": true
       }
      },
      {
       "class": "BatchNorm1d",
       "kargs": {
        "num_features": 256
       }
      },
      {
       "class": "Linear",
       "kargs": {
        "in_features": 256,
        "out_features": 256
       }
      }
     ],
     "x_shape": [
      2,
      200
     ]
    }
   },
   "start_time": "2022-03-18T21:28:41.547402",
   "version": "2.3.4"
  }
 },
 "nbformat": 4,
 "nbformat_minor": 5
}