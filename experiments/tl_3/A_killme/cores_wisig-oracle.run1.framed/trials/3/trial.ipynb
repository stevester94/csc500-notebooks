{
 "cells": [
  {
   "cell_type": "markdown",
   "id": "9fea5f46",
   "metadata": {
    "papermill": {
     "duration": 0.017867,
     "end_time": "2022-03-18T21:47:43.418793",
     "exception": false,
     "start_time": "2022-03-18T21:47:43.400926",
     "status": "completed"
    },
    "tags": []
   },
   "source": [
    "# Transfer Learning Template"
   ]
  },
  {
   "cell_type": "code",
   "execution_count": 1,
   "id": "0902182a",
   "metadata": {
    "execution": {
     "iopub.execute_input": "2022-03-18T21:47:43.459053Z",
     "iopub.status.busy": "2022-03-18T21:47:43.458580Z",
     "iopub.status.idle": "2022-03-18T21:47:44.362332Z",
     "shell.execute_reply": "2022-03-18T21:47:44.362543Z"
    },
    "papermill": {
     "duration": 0.931242,
     "end_time": "2022-03-18T21:47:44.362632",
     "exception": false,
     "start_time": "2022-03-18T21:47:43.431390",
     "status": "completed"
    },
    "tags": []
   },
   "outputs": [],
   "source": [
    "%load_ext autoreload\n",
    "%autoreload 2\n",
    "%matplotlib inline\n",
    "\n",
    "    \n",
    "import os, json, sys, time, random\n",
    "import numpy as np\n",
    "import torch\n",
    "from torch.optim import Adam\n",
    "from  easydict import EasyDict\n",
    "import matplotlib.pyplot as plt\n",
    "\n",
    "from steves_models.steves_ptn import Steves_Prototypical_Network\n",
    "\n",
    "from steves_utils.lazy_iterable_wrapper import Lazy_Iterable_Wrapper\n",
    "from steves_utils.iterable_aggregator import Iterable_Aggregator\n",
    "from steves_utils.ptn_train_eval_test_jig import  PTN_Train_Eval_Test_Jig\n",
    "from steves_utils.torch_sequential_builder import build_sequential\n",
    "from steves_utils.torch_utils import get_dataset_metrics, ptn_confusion_by_domain_over_dataloader\n",
    "from steves_utils.utils_v2 import (per_domain_accuracy_from_confusion, get_datasets_base_path)\n",
    "from steves_utils.PTN.utils import independent_accuracy_assesment\n",
    "\n",
    "from torch.utils.data import DataLoader\n",
    "\n",
    "from steves_utils.stratified_dataset.episodic_accessor import Episodic_Accessor_Factory\n",
    "\n",
    "from steves_utils.ptn_do_report import (\n",
    "    get_loss_curve,\n",
    "    get_results_table,\n",
    "    get_parameters_table,\n",
    "    get_domain_accuracies,\n",
    ")\n",
    "\n",
    "from steves_utils.transforms import get_chained_transform"
   ]
  },
  {
   "cell_type": "markdown",
   "id": "41c840b4",
   "metadata": {
    "papermill": {
     "duration": 0.012547,
     "end_time": "2022-03-18T21:47:44.388249",
     "exception": false,
     "start_time": "2022-03-18T21:47:44.375702",
     "status": "completed"
    },
    "tags": []
   },
   "source": [
    "# Allowed Parameters\n",
    "These are allowed parameters, not defaults\n",
    "Each of these values need to be present in the injected parameters (the notebook will raise an exception if they are not present)\n",
    "\n",
    "Papermill uses the cell tag \"parameters\" to inject the real parameters below this cell.\n",
    "Enable tags to see what I mean"
   ]
  },
  {
   "cell_type": "code",
   "execution_count": 2,
   "id": "fd44eb83",
   "metadata": {
    "execution": {
     "iopub.execute_input": "2022-03-18T21:47:44.415573Z",
     "iopub.status.busy": "2022-03-18T21:47:44.415316Z",
     "iopub.status.idle": "2022-03-18T21:47:44.426179Z",
     "shell.execute_reply": "2022-03-18T21:47:44.425866Z"
    },
    "papermill": {
     "duration": 0.025348,
     "end_time": "2022-03-18T21:47:44.426250",
     "exception": false,
     "start_time": "2022-03-18T21:47:44.400902",
     "status": "completed"
    },
    "tags": []
   },
   "outputs": [],
   "source": [
    "required_parameters = {\n",
    "    \"experiment_name\",\n",
    "    \"lr\",\n",
    "    \"device\",\n",
    "    \"seed\",\n",
    "    \"dataset_seed\",\n",
    "    \"n_shot\",\n",
    "    \"n_query\",\n",
    "    \"n_way\",\n",
    "    \"train_k_factor\",\n",
    "    \"val_k_factor\",\n",
    "    \"test_k_factor\",\n",
    "    \"n_epoch\",\n",
    "    \"patience\",\n",
    "    \"criteria_for_best\",\n",
    "    \"x_net\",\n",
    "    \"datasets\",\n",
    "    \"torch_default_dtype\",\n",
    "    \"NUM_LOGS_PER_EPOCH\",\n",
    "    \"BEST_MODEL_PATH\",\n",
    "    \"x_shape\",\n",
    "}"
   ]
  },
  {
   "cell_type": "code",
   "execution_count": 3,
   "id": "fa3f0049",
   "metadata": {
    "execution": {
     "iopub.execute_input": "2022-03-18T21:47:44.464155Z",
     "iopub.status.busy": "2022-03-18T21:47:44.457173Z",
     "iopub.status.idle": "2022-03-18T21:47:44.477452Z",
     "shell.execute_reply": "2022-03-18T21:47:44.477010Z"
    },
    "papermill": {
     "duration": 0.034562,
     "end_time": "2022-03-18T21:47:44.477540",
     "exception": false,
     "start_time": "2022-03-18T21:47:44.442978",
     "status": "completed"
    },
    "tags": [
     "parameters"
    ]
   },
   "outputs": [],
   "source": [
    "from steves_utils.CORES.utils import (\n",
    "    ALL_NODES,\n",
    "    ALL_NODES_MINIMUM_1000_EXAMPLES,\n",
    "    ALL_DAYS\n",
    ")\n",
    "\n",
    "from steves_utils.ORACLE.utils_v2 import (\n",
    "    ALL_DISTANCES_FEET_NARROWED,\n",
    "    ALL_RUNS,\n",
    "    ALL_SERIAL_NUMBERS,\n",
    ")\n",
    "\n",
    "standalone_parameters = {}\n",
    "standalone_parameters[\"experiment_name\"] = \"STANDALONE PTN\"\n",
    "standalone_parameters[\"lr\"] = 0.001\n",
    "standalone_parameters[\"device\"] = \"cuda\"\n",
    "\n",
    "standalone_parameters[\"seed\"] = 1337\n",
    "standalone_parameters[\"dataset_seed\"] = 1337\n",
    "\n",
    "standalone_parameters[\"n_way\"] = 8\n",
    "standalone_parameters[\"n_shot\"] = 3\n",
    "standalone_parameters[\"n_query\"]  = 2\n",
    "standalone_parameters[\"train_k_factor\"] = 1\n",
    "standalone_parameters[\"val_k_factor\"] = 2\n",
    "standalone_parameters[\"test_k_factor\"] = 2\n",
    "\n",
    "\n",
    "standalone_parameters[\"n_epoch\"] = 50\n",
    "\n",
    "standalone_parameters[\"patience\"] = 10\n",
    "standalone_parameters[\"criteria_for_best\"] = \"source_loss\"\n",
    "\n",
    "standalone_parameters[\"datasets\"] = [\n",
    "    {\n",
    "        \"labels\": ALL_SERIAL_NUMBERS,\n",
    "        \"domains\": ALL_DISTANCES_FEET_NARROWED,\n",
    "        \"num_examples_per_domain_per_label\": 100,\n",
    "        \"pickle_path\": os.path.join(get_datasets_base_path(), \"oracle.Run1_framed_2000Examples_stratified_ds.2022A.pkl\"),\n",
    "        \"source_or_target_dataset\": \"source\",\n",
    "        \"x_transforms\": [\"unit_mag\", \"minus_two\"],\n",
    "        \"episode_transforms\": [],\n",
    "        \"domain_prefix\": \"ORACLE_\"\n",
    "    },\n",
    "    {\n",
    "        \"labels\": ALL_NODES,\n",
    "        \"domains\": ALL_DAYS,\n",
    "        \"num_examples_per_domain_per_label\": 100,\n",
    "        \"pickle_path\": os.path.join(get_datasets_base_path(), \"cores.stratified_ds.2022A.pkl\"),\n",
    "        \"source_or_target_dataset\": \"target\",\n",
    "        \"x_transforms\": [\"unit_power\", \"times_zero\"],\n",
    "        \"episode_transforms\": [],\n",
    "        \"domain_prefix\": \"CORES_\"\n",
    "    }   \n",
    "]\n",
    "\n",
    "standalone_parameters[\"torch_default_dtype\"] = \"torch.float32\" \n",
    "\n",
    "\n",
    "\n",
    "standalone_parameters[\"x_net\"] =     [\n",
    "    {\"class\": \"nnReshape\", \"kargs\": {\"shape\":[-1, 1, 2, 256]}},\n",
    "    {\"class\": \"Conv2d\", \"kargs\": { \"in_channels\":1, \"out_channels\":256, \"kernel_size\":(1,7), \"bias\":False, \"padding\":(0,3), },},\n",
    "    {\"class\": \"ReLU\", \"kargs\": {\"inplace\": True}},\n",
    "    {\"class\": \"BatchNorm2d\", \"kargs\": {\"num_features\":256}},\n",
    "\n",
    "    {\"class\": \"Conv2d\", \"kargs\": { \"in_channels\":256, \"out_channels\":80, \"kernel_size\":(2,7), \"bias\":True, \"padding\":(0,3), },},\n",
    "    {\"class\": \"ReLU\", \"kargs\": {\"inplace\": True}},\n",
    "    {\"class\": \"BatchNorm2d\", \"kargs\": {\"num_features\":80}},\n",
    "    {\"class\": \"Flatten\", \"kargs\": {}},\n",
    "\n",
    "    {\"class\": \"Linear\", \"kargs\": {\"in_features\": 80*256, \"out_features\": 256}}, # 80 units per IQ pair\n",
    "    {\"class\": \"ReLU\", \"kargs\": {\"inplace\": True}},\n",
    "    {\"class\": \"BatchNorm1d\", \"kargs\": {\"num_features\":256}},\n",
    "\n",
    "    {\"class\": \"Linear\", \"kargs\": {\"in_features\": 256, \"out_features\": 256}},\n",
    "]\n",
    "\n",
    "# Parameters relevant to results\n",
    "# These parameters will basically never need to change\n",
    "standalone_parameters[\"NUM_LOGS_PER_EPOCH\"] = 10\n",
    "standalone_parameters[\"BEST_MODEL_PATH\"] = \"./best_model.pth\"\n",
    "\n",
    "\n",
    "\n",
    "\n"
   ]
  },
  {
   "cell_type": "code",
   "execution_count": 4,
   "id": "284c738a",
   "metadata": {
    "execution": {
     "iopub.execute_input": "2022-03-18T21:47:44.521913Z",
     "iopub.status.busy": "2022-03-18T21:47:44.521590Z",
     "iopub.status.idle": "2022-03-18T21:47:44.534808Z",
     "shell.execute_reply": "2022-03-18T21:47:44.534366Z"
    },
    "papermill": {
     "duration": 0.039713,
     "end_time": "2022-03-18T21:47:44.534896",
     "exception": false,
     "start_time": "2022-03-18T21:47:44.495183",
     "status": "completed"
    },
    "tags": [
     "injected-parameters"
    ]
   },
   "outputs": [],
   "source": [
    "# Parameters\n",
    "parameters = {\n",
    "    \"experiment_name\": \"tl_3A:cores+wisig -> oracle.run1.framed\",\n",
    "    \"device\": \"cuda\",\n",
    "    \"lr\": 0.001,\n",
    "    \"x_shape\": [2, 200],\n",
    "    \"n_shot\": 3,\n",
    "    \"n_query\": 2,\n",
    "    \"train_k_factor\": 3,\n",
    "    \"val_k_factor\": 2,\n",
    "    \"test_k_factor\": 2,\n",
    "    \"torch_default_dtype\": \"torch.float32\",\n",
    "    \"n_epoch\": 50,\n",
    "    \"patience\": 3,\n",
    "    \"criteria_for_best\": \"target_loss\",\n",
    "    \"x_net\": [\n",
    "        {\"class\": \"nnReshape\", \"kargs\": {\"shape\": [-1, 1, 2, 200]}},\n",
    "        {\n",
    "            \"class\": \"Conv2d\",\n",
    "            \"kargs\": {\n",
    "                \"in_channels\": 1,\n",
    "                \"out_channels\": 256,\n",
    "                \"kernel_size\": [1, 7],\n",
    "                \"bias\": False,\n",
    "                \"padding\": [0, 3],\n",
    "            },\n",
    "        },\n",
    "        {\"class\": \"ReLU\", \"kargs\": {\"inplace\": True}},\n",
    "        {\"class\": \"BatchNorm2d\", \"kargs\": {\"num_features\": 256}},\n",
    "        {\n",
    "            \"class\": \"Conv2d\",\n",
    "            \"kargs\": {\n",
    "                \"in_channels\": 256,\n",
    "                \"out_channels\": 80,\n",
    "                \"kernel_size\": [2, 7],\n",
    "                \"bias\": True,\n",
    "                \"padding\": [0, 3],\n",
    "            },\n",
    "        },\n",
    "        {\"class\": \"ReLU\", \"kargs\": {\"inplace\": True}},\n",
    "        {\"class\": \"BatchNorm2d\", \"kargs\": {\"num_features\": 80}},\n",
    "        {\"class\": \"Flatten\", \"kargs\": {}},\n",
    "        {\"class\": \"Linear\", \"kargs\": {\"in_features\": 16000, \"out_features\": 256}},\n",
    "        {\"class\": \"ReLU\", \"kargs\": {\"inplace\": True}},\n",
    "        {\"class\": \"BatchNorm1d\", \"kargs\": {\"num_features\": 256}},\n",
    "        {\"class\": \"Linear\", \"kargs\": {\"in_features\": 256, \"out_features\": 256}},\n",
    "    ],\n",
    "    \"NUM_LOGS_PER_EPOCH\": 10,\n",
    "    \"BEST_MODEL_PATH\": \"./best_model.pth\",\n",
    "    \"n_way\": 16,\n",
    "    \"datasets\": [\n",
    "        {\n",
    "            \"labels\": [\n",
    "                \"1-10.\",\n",
    "                \"1-11.\",\n",
    "                \"1-15.\",\n",
    "                \"1-16.\",\n",
    "                \"1-17.\",\n",
    "                \"1-18.\",\n",
    "                \"1-19.\",\n",
    "                \"10-4.\",\n",
    "                \"10-7.\",\n",
    "                \"11-1.\",\n",
    "                \"11-14.\",\n",
    "                \"11-17.\",\n",
    "                \"11-20.\",\n",
    "                \"11-7.\",\n",
    "                \"13-20.\",\n",
    "                \"13-8.\",\n",
    "                \"14-10.\",\n",
    "                \"14-11.\",\n",
    "                \"14-14.\",\n",
    "                \"14-7.\",\n",
    "                \"15-1.\",\n",
    "                \"15-20.\",\n",
    "                \"16-1.\",\n",
    "                \"16-16.\",\n",
    "                \"17-10.\",\n",
    "                \"17-11.\",\n",
    "                \"17-2.\",\n",
    "                \"19-1.\",\n",
    "                \"19-16.\",\n",
    "                \"19-19.\",\n",
    "                \"19-20.\",\n",
    "                \"19-3.\",\n",
    "                \"2-10.\",\n",
    "                \"2-11.\",\n",
    "                \"2-17.\",\n",
    "                \"2-18.\",\n",
    "                \"2-20.\",\n",
    "                \"2-3.\",\n",
    "                \"2-4.\",\n",
    "                \"2-5.\",\n",
    "                \"2-6.\",\n",
    "                \"2-7.\",\n",
    "                \"2-8.\",\n",
    "                \"3-13.\",\n",
    "                \"3-18.\",\n",
    "                \"3-3.\",\n",
    "                \"4-1.\",\n",
    "                \"4-10.\",\n",
    "                \"4-11.\",\n",
    "                \"4-19.\",\n",
    "                \"5-5.\",\n",
    "                \"6-15.\",\n",
    "                \"7-10.\",\n",
    "                \"7-14.\",\n",
    "                \"8-18.\",\n",
    "                \"8-20.\",\n",
    "                \"8-3.\",\n",
    "                \"8-8.\",\n",
    "            ],\n",
    "            \"domains\": [1, 2, 3, 4, 5],\n",
    "            \"num_examples_per_domain_per_label\": 100,\n",
    "            \"pickle_path\": \"/mnt/wd500GB/CSC500/csc500-main/datasets/cores.stratified_ds.2022A.pkl\",\n",
    "            \"source_or_target_dataset\": \"source\",\n",
    "            \"x_transforms\": [\"unit_power\", \"take_200\"],\n",
    "            \"episode_transforms\": [],\n",
    "            \"domain_prefix\": \"C_A_\",\n",
    "        },\n",
    "        {\n",
    "            \"labels\": [\n",
    "                \"1-10\",\n",
    "                \"1-12\",\n",
    "                \"1-14\",\n",
    "                \"1-16\",\n",
    "                \"1-18\",\n",
    "                \"1-19\",\n",
    "                \"1-8\",\n",
    "                \"10-11\",\n",
    "                \"10-17\",\n",
    "                \"10-4\",\n",
    "                \"10-7\",\n",
    "                \"11-1\",\n",
    "                \"11-10\",\n",
    "                \"11-19\",\n",
    "                \"11-20\",\n",
    "                \"11-4\",\n",
    "                \"11-7\",\n",
    "                \"12-19\",\n",
    "                \"12-20\",\n",
    "                \"12-7\",\n",
    "                \"13-14\",\n",
    "                \"13-18\",\n",
    "                \"13-19\",\n",
    "                \"13-20\",\n",
    "                \"13-3\",\n",
    "                \"13-7\",\n",
    "                \"14-10\",\n",
    "                \"14-11\",\n",
    "                \"14-12\",\n",
    "                \"14-13\",\n",
    "                \"14-14\",\n",
    "                \"14-19\",\n",
    "                \"14-20\",\n",
    "                \"14-7\",\n",
    "                \"14-8\",\n",
    "                \"14-9\",\n",
    "                \"15-1\",\n",
    "                \"15-19\",\n",
    "                \"15-6\",\n",
    "                \"16-1\",\n",
    "                \"16-16\",\n",
    "                \"16-19\",\n",
    "                \"16-20\",\n",
    "                \"17-10\",\n",
    "                \"17-11\",\n",
    "                \"18-1\",\n",
    "                \"18-10\",\n",
    "                \"18-11\",\n",
    "                \"18-12\",\n",
    "                \"18-13\",\n",
    "                \"18-14\",\n",
    "                \"18-15\",\n",
    "                \"18-16\",\n",
    "                \"18-17\",\n",
    "                \"18-19\",\n",
    "                \"18-2\",\n",
    "                \"18-20\",\n",
    "                \"18-4\",\n",
    "                \"18-5\",\n",
    "                \"18-7\",\n",
    "                \"18-8\",\n",
    "                \"18-9\",\n",
    "                \"19-1\",\n",
    "                \"19-10\",\n",
    "                \"19-11\",\n",
    "                \"19-12\",\n",
    "                \"19-13\",\n",
    "                \"19-14\",\n",
    "                \"19-15\",\n",
    "                \"19-19\",\n",
    "                \"19-2\",\n",
    "                \"19-20\",\n",
    "                \"19-3\",\n",
    "                \"19-4\",\n",
    "                \"19-6\",\n",
    "                \"19-7\",\n",
    "                \"19-8\",\n",
    "                \"19-9\",\n",
    "                \"2-1\",\n",
    "                \"2-13\",\n",
    "                \"2-15\",\n",
    "                \"2-3\",\n",
    "                \"2-4\",\n",
    "                \"2-5\",\n",
    "                \"2-6\",\n",
    "                \"2-7\",\n",
    "                \"2-8\",\n",
    "                \"20-1\",\n",
    "                \"20-12\",\n",
    "                \"20-14\",\n",
    "                \"20-15\",\n",
    "                \"20-16\",\n",
    "                \"20-18\",\n",
    "                \"20-19\",\n",
    "                \"20-20\",\n",
    "                \"20-3\",\n",
    "                \"20-4\",\n",
    "                \"20-5\",\n",
    "                \"20-7\",\n",
    "                \"20-8\",\n",
    "                \"3-1\",\n",
    "                \"3-13\",\n",
    "                \"3-18\",\n",
    "                \"3-2\",\n",
    "                \"3-8\",\n",
    "                \"4-1\",\n",
    "                \"4-10\",\n",
    "                \"4-11\",\n",
    "                \"5-1\",\n",
    "                \"5-5\",\n",
    "                \"6-1\",\n",
    "                \"6-15\",\n",
    "                \"6-6\",\n",
    "                \"7-10\",\n",
    "                \"7-11\",\n",
    "                \"7-12\",\n",
    "                \"7-13\",\n",
    "                \"7-14\",\n",
    "                \"7-7\",\n",
    "                \"7-8\",\n",
    "                \"7-9\",\n",
    "                \"8-1\",\n",
    "                \"8-13\",\n",
    "                \"8-14\",\n",
    "                \"8-18\",\n",
    "                \"8-20\",\n",
    "                \"8-3\",\n",
    "                \"8-8\",\n",
    "                \"9-1\",\n",
    "                \"9-7\",\n",
    "            ],\n",
    "            \"domains\": [1, 2, 3, 4],\n",
    "            \"num_examples_per_domain_per_label\": 100,\n",
    "            \"pickle_path\": \"/mnt/wd500GB/CSC500/csc500-main/datasets/wisig.node3-19.stratified_ds.2022A.pkl\",\n",
    "            \"source_or_target_dataset\": \"source\",\n",
    "            \"x_transforms\": [\"unit_power\", \"take_200\"],\n",
    "            \"episode_transforms\": [],\n",
    "            \"domain_prefix\": \"W_A_\",\n",
    "        },\n",
    "        {\n",
    "            \"labels\": [\n",
    "                \"3123D52\",\n",
    "                \"3123D65\",\n",
    "                \"3123D79\",\n",
    "                \"3123D80\",\n",
    "                \"3123D54\",\n",
    "                \"3123D70\",\n",
    "                \"3123D7B\",\n",
    "                \"3123D89\",\n",
    "                \"3123D58\",\n",
    "                \"3123D76\",\n",
    "                \"3123D7D\",\n",
    "                \"3123EFE\",\n",
    "                \"3123D64\",\n",
    "                \"3123D78\",\n",
    "                \"3123D7E\",\n",
    "                \"3124E4A\",\n",
    "            ],\n",
    "            \"domains\": [32, 38, 8, 44, 14, 50, 20, 26],\n",
    "            \"num_examples_per_domain_per_label\": 2000,\n",
    "            \"pickle_path\": \"/mnt/wd500GB/CSC500/csc500-main/datasets/oracle.Run1_framed_2000Examples_stratified_ds.2022A.pkl\",\n",
    "            \"source_or_target_dataset\": \"target\",\n",
    "            \"x_transforms\": [\"unit_power\", \"take_200\", \"resample_20Msps_to_25Msps\"],\n",
    "            \"episode_transforms\": [],\n",
    "            \"domain_prefix\": \"ORACLE.run1_\",\n",
    "        },\n",
    "    ],\n",
    "    \"seed\": 420,\n",
    "    \"dataset_seed\": 420,\n",
    "}\n"
   ]
  },
  {
   "cell_type": "code",
   "execution_count": 5,
   "id": "8fa1cc33",
   "metadata": {
    "execution": {
     "iopub.execute_input": "2022-03-18T21:47:44.569030Z",
     "iopub.status.busy": "2022-03-18T21:47:44.568178Z",
     "iopub.status.idle": "2022-03-18T21:47:44.582622Z",
     "shell.execute_reply": "2022-03-18T21:47:44.582181Z"
    },
    "papermill": {
     "duration": 0.031065,
     "end_time": "2022-03-18T21:47:44.582710",
     "exception": false,
     "start_time": "2022-03-18T21:47:44.551645",
     "status": "completed"
    },
    "tags": []
   },
   "outputs": [],
   "source": [
    "# Set this to True if you want to run this template directly\n",
    "STANDALONE = False\n",
    "if STANDALONE:\n",
    "    print(\"parameters not injected, running with standalone_parameters\")\n",
    "    parameters = standalone_parameters\n",
    "\n",
    "if not 'parameters' in locals() and not 'parameters' in globals():\n",
    "    raise Exception(\"Parameter injection failed\")\n",
    "\n",
    "#Use an easy dict for all the parameters\n",
    "p = EasyDict(parameters)\n",
    "\n",
    "if \"x_shape\" not in p:\n",
    "    p.x_shape = [2,256] # Default to this if we dont supply x_shape\n",
    "\n",
    "\n",
    "supplied_keys = set(p.keys())\n",
    "\n",
    "if  supplied_keys != required_parameters:\n",
    "    print(\"Parameters are incorrect\")\n",
    "    if len(supplied_keys - required_parameters)>0: print(\"Shouldn't have:\", str(supplied_keys - required_parameters))\n",
    "    if len(required_parameters - supplied_keys)>0: print(\"Need to have:\", str(required_parameters - supplied_keys))\n",
    "    raise RuntimeError(\"Parameters are incorrect\")"
   ]
  },
  {
   "cell_type": "code",
   "execution_count": 6,
   "id": "3a028d58",
   "metadata": {
    "execution": {
     "iopub.execute_input": "2022-03-18T21:47:44.615831Z",
     "iopub.status.busy": "2022-03-18T21:47:44.615584Z",
     "iopub.status.idle": "2022-03-18T21:47:44.629735Z",
     "shell.execute_reply": "2022-03-18T21:47:44.629288Z"
    },
    "papermill": {
     "duration": 0.03012,
     "end_time": "2022-03-18T21:47:44.629824",
     "exception": false,
     "start_time": "2022-03-18T21:47:44.599704",
     "status": "completed"
    },
    "tags": []
   },
   "outputs": [],
   "source": [
    "###################################\n",
    "# Set the RNGs and make it all deterministic\n",
    "###################################\n",
    "np.random.seed(p.seed)\n",
    "random.seed(p.seed)\n",
    "torch.manual_seed(p.seed)\n",
    "\n",
    "torch.use_deterministic_algorithms(True) "
   ]
  },
  {
   "cell_type": "code",
   "execution_count": 7,
   "id": "b691acf6",
   "metadata": {
    "execution": {
     "iopub.execute_input": "2022-03-18T21:47:44.661771Z",
     "iopub.status.busy": "2022-03-18T21:47:44.661526Z",
     "iopub.status.idle": "2022-03-18T21:47:44.671427Z",
     "shell.execute_reply": "2022-03-18T21:47:44.671207Z"
    },
    "papermill": {
     "duration": 0.024138,
     "end_time": "2022-03-18T21:47:44.671476",
     "exception": false,
     "start_time": "2022-03-18T21:47:44.647338",
     "status": "completed"
    },
    "tags": []
   },
   "outputs": [],
   "source": [
    "###########################################\n",
    "# The stratified datasets honor this\n",
    "###########################################\n",
    "torch.set_default_dtype(eval(p.torch_default_dtype))"
   ]
  },
  {
   "cell_type": "code",
   "execution_count": 8,
   "id": "b5fba671",
   "metadata": {
    "execution": {
     "iopub.execute_input": "2022-03-18T21:47:44.702869Z",
     "iopub.status.busy": "2022-03-18T21:47:44.702624Z",
     "iopub.status.idle": "2022-03-18T21:47:44.733958Z",
     "shell.execute_reply": "2022-03-18T21:47:44.733511Z"
    },
    "papermill": {
     "duration": 0.046081,
     "end_time": "2022-03-18T21:47:44.734046",
     "exception": false,
     "start_time": "2022-03-18T21:47:44.687965",
     "status": "completed"
    },
    "tags": []
   },
   "outputs": [],
   "source": [
    "###################################\n",
    "# Build the network(s)\n",
    "# Note: It's critical to do this AFTER setting the RNG\n",
    "###################################\n",
    "x_net = build_sequential(p.x_net)"
   ]
  },
  {
   "cell_type": "code",
   "execution_count": 9,
   "id": "5d7e61cc",
   "metadata": {
    "execution": {
     "iopub.execute_input": "2022-03-18T21:47:44.767373Z",
     "iopub.status.busy": "2022-03-18T21:47:44.767112Z",
     "iopub.status.idle": "2022-03-18T21:47:44.778046Z",
     "shell.execute_reply": "2022-03-18T21:47:44.777662Z"
    },
    "papermill": {
     "duration": 0.026339,
     "end_time": "2022-03-18T21:47:44.778134",
     "exception": false,
     "start_time": "2022-03-18T21:47:44.751795",
     "status": "completed"
    },
    "tags": []
   },
   "outputs": [],
   "source": [
    "start_time_secs = time.time()"
   ]
  },
  {
   "cell_type": "code",
   "execution_count": 10,
   "id": "c6b67dfd",
   "metadata": {
    "execution": {
     "iopub.execute_input": "2022-03-18T21:47:44.809598Z",
     "iopub.status.busy": "2022-03-18T21:47:44.809350Z",
     "iopub.status.idle": "2022-03-18T21:47:44.819839Z",
     "shell.execute_reply": "2022-03-18T21:47:44.819452Z"
    },
    "papermill": {
     "duration": 0.025881,
     "end_time": "2022-03-18T21:47:44.819926",
     "exception": false,
     "start_time": "2022-03-18T21:47:44.794045",
     "status": "completed"
    },
    "tags": []
   },
   "outputs": [],
   "source": [
    "p.domains_source = []\n",
    "p.domains_target = []\n",
    "\n",
    "\n",
    "train_original_source = []\n",
    "val_original_source   = []\n",
    "test_original_source  = []\n",
    "\n",
    "train_original_target = []\n",
    "val_original_target   = []\n",
    "test_original_target  = []"
   ]
  },
  {
   "cell_type": "code",
   "execution_count": 11,
   "id": "e3d9c3d3",
   "metadata": {
    "execution": {
     "iopub.execute_input": "2022-03-18T21:47:44.850525Z",
     "iopub.status.busy": "2022-03-18T21:47:44.850278Z",
     "iopub.status.idle": "2022-03-18T21:47:44.859703Z",
     "shell.execute_reply": "2022-03-18T21:47:44.859453Z"
    },
    "papermill": {
     "duration": 0.024876,
     "end_time": "2022-03-18T21:47:44.859751",
     "exception": false,
     "start_time": "2022-03-18T21:47:44.834875",
     "status": "completed"
    },
    "tags": []
   },
   "outputs": [],
   "source": [
    "# global_x_transform_func = lambda x: normalize(x.to(torch.get_default_dtype()), \"unit_power\") # unit_power, unit_mag\n",
    "# global_x_transform_func = lambda x: normalize(x, \"unit_power\") # unit_power, unit_mag"
   ]
  },
  {
   "cell_type": "code",
   "execution_count": 12,
   "id": "acb78fd2",
   "metadata": {
    "execution": {
     "iopub.execute_input": "2022-03-18T21:47:44.893410Z",
     "iopub.status.busy": "2022-03-18T21:47:44.893150Z",
     "iopub.status.idle": "2022-03-18T21:47:44.903860Z",
     "shell.execute_reply": "2022-03-18T21:47:44.903613Z"
    },
    "papermill": {
     "duration": 0.0283,
     "end_time": "2022-03-18T21:47:44.903951",
     "exception": false,
     "start_time": "2022-03-18T21:47:44.875651",
     "status": "completed"
    },
    "tags": []
   },
   "outputs": [],
   "source": [
    "def add_dataset(\n",
    "    labels,\n",
    "    domains,\n",
    "    pickle_path,\n",
    "    x_transforms,\n",
    "    episode_transforms,\n",
    "    domain_prefix,\n",
    "    num_examples_per_domain_per_label,\n",
    "    source_or_target_dataset:str,\n",
    "    iterator_seed=p.seed,\n",
    "    dataset_seed=p.dataset_seed,\n",
    "    n_shot=p.n_shot,\n",
    "    n_way=p.n_way,\n",
    "    n_query=p.n_query,\n",
    "    train_val_test_k_factors=(p.train_k_factor,p.val_k_factor,p.test_k_factor),\n",
    "):\n",
    "   \n",
    "    if x_transforms == []: x_transform = None\n",
    "    else: x_transform = get_chained_transform(x_transforms)\n",
    "    \n",
    "    if episode_transforms == []: episode_transform = None\n",
    "    else: raise Exception(\"episode_transforms not implemented\")\n",
    "    \n",
    "    episode_transform = lambda tup, _prefix=domain_prefix: (_prefix + str(tup[0]), tup[1])\n",
    "\n",
    "\n",
    "    eaf = Episodic_Accessor_Factory(\n",
    "        labels=labels,\n",
    "        domains=domains,\n",
    "        num_examples_per_domain_per_label=num_examples_per_domain_per_label,\n",
    "        iterator_seed=iterator_seed,\n",
    "        dataset_seed=dataset_seed,\n",
    "        n_shot=n_shot,\n",
    "        n_way=n_way,\n",
    "        n_query=n_query,\n",
    "        train_val_test_k_factors=train_val_test_k_factors,\n",
    "        pickle_path=pickle_path,\n",
    "        x_transform_func=x_transform,\n",
    "    )\n",
    "\n",
    "    train, val, test = eaf.get_train(), eaf.get_val(), eaf.get_test()\n",
    "    train = Lazy_Iterable_Wrapper(train, episode_transform)\n",
    "    val = Lazy_Iterable_Wrapper(val, episode_transform)\n",
    "    test = Lazy_Iterable_Wrapper(test, episode_transform)\n",
    "\n",
    "    if source_or_target_dataset==\"source\":\n",
    "        train_original_source.append(train)\n",
    "        val_original_source.append(val)\n",
    "        test_original_source.append(test)\n",
    "\n",
    "        p.domains_source.extend(\n",
    "            [domain_prefix + str(u) for u in domains]\n",
    "        )\n",
    "    elif source_or_target_dataset==\"target\":\n",
    "        train_original_target.append(train)\n",
    "        val_original_target.append(val)\n",
    "        test_original_target.append(test)\n",
    "        p.domains_target.extend(\n",
    "            [domain_prefix + str(u) for u in domains]\n",
    "        )\n",
    "    else:\n",
    "        raise Exception(f\"invalid source_or_target_dataset: {source_or_target_dataset}\")\n",
    "    "
   ]
  },
  {
   "cell_type": "code",
   "execution_count": 13,
   "id": "fe266617",
   "metadata": {
    "execution": {
     "iopub.execute_input": "2022-03-18T21:47:44.937924Z",
     "iopub.status.busy": "2022-03-18T21:47:44.937677Z",
     "iopub.status.idle": "2022-03-18T21:48:23.729844Z",
     "shell.execute_reply": "2022-03-18T21:48:23.729353Z"
    },
    "papermill": {
     "duration": 38.807239,
     "end_time": "2022-03-18T21:48:23.729946",
     "exception": false,
     "start_time": "2022-03-18T21:47:44.922707",
     "status": "completed"
    },
    "tags": []
   },
   "outputs": [],
   "source": [
    "for ds in p.datasets:\n",
    "    add_dataset(**ds)"
   ]
  },
  {
   "cell_type": "code",
   "execution_count": 14,
   "id": "b90d65ac",
   "metadata": {
    "execution": {
     "iopub.execute_input": "2022-03-18T21:48:23.768259Z",
     "iopub.status.busy": "2022-03-18T21:48:23.765741Z",
     "iopub.status.idle": "2022-03-18T21:48:23.781519Z",
     "shell.execute_reply": "2022-03-18T21:48:23.781051Z"
    },
    "papermill": {
     "duration": 0.031648,
     "end_time": "2022-03-18T21:48:23.781611",
     "exception": false,
     "start_time": "2022-03-18T21:48:23.749963",
     "status": "completed"
    },
    "tags": []
   },
   "outputs": [],
   "source": [
    "# from steves_utils.CORES.utils import (\n",
    "#     ALL_NODES,\n",
    "#     ALL_NODES_MINIMUM_1000_EXAMPLES,\n",
    "#     ALL_DAYS\n",
    "# )\n",
    "\n",
    "# add_dataset(\n",
    "#     labels=ALL_NODES,\n",
    "#     domains = ALL_DAYS,\n",
    "#     num_examples_per_domain_per_label=100,\n",
    "#     pickle_path=os.path.join(get_datasets_base_path(), \"cores.stratified_ds.2022A.pkl\"),\n",
    "#     source_or_target_dataset=\"target\",\n",
    "#     x_transform_func=global_x_transform_func,\n",
    "#     domain_modifier=lambda u: f\"cores_{u}\"\n",
    "# )"
   ]
  },
  {
   "cell_type": "code",
   "execution_count": 15,
   "id": "76db484d",
   "metadata": {
    "execution": {
     "iopub.execute_input": "2022-03-18T21:48:23.822693Z",
     "iopub.status.busy": "2022-03-18T21:48:23.822191Z",
     "iopub.status.idle": "2022-03-18T21:48:23.829301Z",
     "shell.execute_reply": "2022-03-18T21:48:23.829686Z"
    },
    "papermill": {
     "duration": 0.030092,
     "end_time": "2022-03-18T21:48:23.829802",
     "exception": false,
     "start_time": "2022-03-18T21:48:23.799710",
     "status": "completed"
    },
    "tags": []
   },
   "outputs": [],
   "source": [
    "# from steves_utils.ORACLE.utils_v2 import (\n",
    "#     ALL_DISTANCES_FEET,\n",
    "#     ALL_RUNS,\n",
    "#     ALL_SERIAL_NUMBERS,\n",
    "# )\n",
    "\n",
    "\n",
    "# add_dataset(\n",
    "#     labels=ALL_SERIAL_NUMBERS,\n",
    "#     domains = list(set(ALL_DISTANCES_FEET) - {2,62}),\n",
    "#     num_examples_per_domain_per_label=100,\n",
    "#     pickle_path=os.path.join(get_datasets_base_path(), \"oracle.Run2_framed_2000Examples_stratified_ds.2022A.pkl\"),\n",
    "#     source_or_target_dataset=\"source\",\n",
    "#     x_transform_func=global_x_transform_func,\n",
    "#     domain_modifier=lambda u: f\"oracle1_{u}\"\n",
    "# )\n"
   ]
  },
  {
   "cell_type": "code",
   "execution_count": 16,
   "id": "97dea9d2",
   "metadata": {
    "execution": {
     "iopub.execute_input": "2022-03-18T21:48:23.863550Z",
     "iopub.status.busy": "2022-03-18T21:48:23.863298Z",
     "iopub.status.idle": "2022-03-18T21:48:23.872632Z",
     "shell.execute_reply": "2022-03-18T21:48:23.872382Z"
    },
    "papermill": {
     "duration": 0.024568,
     "end_time": "2022-03-18T21:48:23.872682",
     "exception": false,
     "start_time": "2022-03-18T21:48:23.848114",
     "status": "completed"
    },
    "tags": []
   },
   "outputs": [],
   "source": [
    "# from steves_utils.ORACLE.utils_v2 import (\n",
    "#     ALL_DISTANCES_FEET,\n",
    "#     ALL_RUNS,\n",
    "#     ALL_SERIAL_NUMBERS,\n",
    "# )\n",
    "\n",
    "\n",
    "# add_dataset(\n",
    "#     labels=ALL_SERIAL_NUMBERS,\n",
    "#     domains = list(set(ALL_DISTANCES_FEET) - {2,62,56}),\n",
    "#     num_examples_per_domain_per_label=100,\n",
    "#     pickle_path=os.path.join(get_datasets_base_path(), \"oracle.Run2_framed_2000Examples_stratified_ds.2022A.pkl\"),\n",
    "#     source_or_target_dataset=\"source\",\n",
    "#     x_transform_func=global_x_transform_func,\n",
    "#     domain_modifier=lambda u: f\"oracle2_{u}\"\n",
    "# )"
   ]
  },
  {
   "cell_type": "code",
   "execution_count": 17,
   "id": "6f289866",
   "metadata": {
    "execution": {
     "iopub.execute_input": "2022-03-18T21:48:23.915853Z",
     "iopub.status.busy": "2022-03-18T21:48:23.915418Z",
     "iopub.status.idle": "2022-03-18T21:48:23.921812Z",
     "shell.execute_reply": "2022-03-18T21:48:23.921569Z"
    },
    "papermill": {
     "duration": 0.030401,
     "end_time": "2022-03-18T21:48:23.921875",
     "exception": false,
     "start_time": "2022-03-18T21:48:23.891474",
     "status": "completed"
    },
    "tags": []
   },
   "outputs": [],
   "source": [
    "# add_dataset(\n",
    "#     labels=list(range(19)),\n",
    "#     domains = [0,1,2],\n",
    "#     num_examples_per_domain_per_label=100,\n",
    "#     pickle_path=os.path.join(get_datasets_base_path(), \"metehan.stratified_ds.2022A.pkl\"),\n",
    "#     source_or_target_dataset=\"target\",\n",
    "#     x_transform_func=global_x_transform_func,\n",
    "#     domain_modifier=lambda u: f\"met_{u}\"\n",
    "# )"
   ]
  },
  {
   "cell_type": "code",
   "execution_count": 18,
   "id": "86a863c3",
   "metadata": {
    "execution": {
     "iopub.execute_input": "2022-03-18T21:48:23.952644Z",
     "iopub.status.busy": "2022-03-18T21:48:23.952013Z",
     "iopub.status.idle": "2022-03-18T21:48:23.963474Z",
     "shell.execute_reply": "2022-03-18T21:48:23.963214Z"
    },
    "papermill": {
     "duration": 0.027175,
     "end_time": "2022-03-18T21:48:23.963534",
     "exception": false,
     "start_time": "2022-03-18T21:48:23.936359",
     "status": "completed"
    },
    "tags": []
   },
   "outputs": [],
   "source": [
    "# # from steves_utils.wisig.utils import (\n",
    "# #     ALL_NODES_MINIMUM_100_EXAMPLES,\n",
    "# #     ALL_NODES_MINIMUM_500_EXAMPLES,\n",
    "# #     ALL_NODES_MINIMUM_1000_EXAMPLES,\n",
    "# #     ALL_DAYS\n",
    "# # )\n",
    "\n",
    "# import steves_utils.wisig.utils as wisig\n",
    "\n",
    "\n",
    "# add_dataset(\n",
    "#     labels=wisig.ALL_NODES_MINIMUM_100_EXAMPLES,\n",
    "#     domains = wisig.ALL_DAYS,\n",
    "#     num_examples_per_domain_per_label=100,\n",
    "#     pickle_path=os.path.join(get_datasets_base_path(), \"wisig.node3-19.stratified_ds.2022A.pkl\"),\n",
    "#     source_or_target_dataset=\"target\",\n",
    "#     x_transform_func=global_x_transform_func,\n",
    "#     domain_modifier=lambda u: f\"wisig_{u}\"\n",
    "# )"
   ]
  },
  {
   "cell_type": "code",
   "execution_count": 19,
   "id": "fd5442bc",
   "metadata": {
    "execution": {
     "iopub.execute_input": "2022-03-18T21:48:23.997600Z",
     "iopub.status.busy": "2022-03-18T21:48:23.997171Z",
     "iopub.status.idle": "2022-03-18T21:48:24.011642Z",
     "shell.execute_reply": "2022-03-18T21:48:24.011400Z"
    },
    "papermill": {
     "duration": 0.032508,
     "end_time": "2022-03-18T21:48:24.011703",
     "exception": false,
     "start_time": "2022-03-18T21:48:23.979195",
     "status": "completed"
    },
    "tags": []
   },
   "outputs": [],
   "source": [
    "###################################\n",
    "# Build the dataset\n",
    "###################################\n",
    "train_original_source = Iterable_Aggregator(train_original_source, p.seed)\n",
    "val_original_source = Iterable_Aggregator(val_original_source, p.seed)\n",
    "test_original_source = Iterable_Aggregator(test_original_source, p.seed)\n",
    "\n",
    "\n",
    "train_original_target = Iterable_Aggregator(train_original_target, p.seed)\n",
    "val_original_target = Iterable_Aggregator(val_original_target, p.seed)\n",
    "test_original_target = Iterable_Aggregator(test_original_target, p.seed)\n",
    "\n",
    "# For CNN We only use X and Y. And we only train on the source.\n",
    "# Properly form the data using a transform lambda and Lazy_Iterable_Wrapper. Finally wrap them in a dataloader\n",
    "\n",
    "transform_lambda = lambda ex: ex[1] # Original is (<domain>, <episode>) so we strip down to episode only\n",
    "\n",
    "train_processed_source = Lazy_Iterable_Wrapper(train_original_source, transform_lambda)\n",
    "val_processed_source   = Lazy_Iterable_Wrapper(val_original_source, transform_lambda)\n",
    "test_processed_source  = Lazy_Iterable_Wrapper(test_original_source, transform_lambda)\n",
    "\n",
    "train_processed_target = Lazy_Iterable_Wrapper(train_original_target, transform_lambda)\n",
    "val_processed_target   = Lazy_Iterable_Wrapper(val_original_target, transform_lambda)\n",
    "test_processed_target  = Lazy_Iterable_Wrapper(test_original_target, transform_lambda)\n",
    "\n",
    "datasets = EasyDict({\n",
    "    \"source\": {\n",
    "        \"original\": {\"train\":train_original_source, \"val\":val_original_source, \"test\":test_original_source},\n",
    "        \"processed\": {\"train\":train_processed_source, \"val\":val_processed_source, \"test\":test_processed_source}\n",
    "    },\n",
    "    \"target\": {\n",
    "        \"original\": {\"train\":train_original_target, \"val\":val_original_target, \"test\":test_original_target},\n",
    "        \"processed\": {\"train\":train_processed_target, \"val\":val_processed_target, \"test\":test_processed_target}\n",
    "    },\n",
    "})"
   ]
  },
  {
   "cell_type": "code",
   "execution_count": 20,
   "id": "5b3c01fc",
   "metadata": {
    "execution": {
     "iopub.execute_input": "2022-03-18T21:48:24.045045Z",
     "iopub.status.busy": "2022-03-18T21:48:24.044634Z",
     "iopub.status.idle": "2022-03-18T21:48:28.974256Z",
     "shell.execute_reply": "2022-03-18T21:48:28.974582Z"
    },
    "papermill": {
     "duration": 4.947236,
     "end_time": "2022-03-18T21:48:28.974675",
     "exception": false,
     "start_time": "2022-03-18T21:48:24.027439",
     "status": "completed"
    },
    "tags": []
   },
   "outputs": [
    {
     "name": "stdout",
     "output_type": "stream",
     "text": [
      "{'W_A_1', 'C_A_3', 'W_A_4', 'C_A_2', 'W_A_3', 'C_A_4', 'W_A_2', 'C_A_5', 'C_A_1'}\n"
     ]
    },
    {
     "name": "stdout",
     "output_type": "stream",
     "text": [
      "{'ORACLE.run1_8', 'ORACLE.run1_14', 'ORACLE.run1_26', 'ORACLE.run1_44', 'ORACLE.run1_38', 'ORACLE.run1_50', 'ORACLE.run1_32', 'ORACLE.run1_20'}\n"
     ]
    },
    {
     "name": "stdout",
     "output_type": "stream",
     "text": [
      "tensor([[[ 0.3188, -0.2835, -1.2751,  ...,  1.0850, -0.2651, -0.5824],\n",
      "         [ 0.2222,  1.1632, -0.3724,  ...,  1.3885,  1.2398, -0.6146]],\n",
      "\n",
      "        [[-0.0867, -1.2071,  0.0106,  ..., -0.0593, -0.6765,  0.8772],\n",
      "         [ 1.4382, -0.1353, -1.2542,  ...,  1.0186, -0.8285, -0.4941]],\n",
      "\n",
      "        [[-0.0120, -0.0901, -0.1682,  ..., -1.0843,  1.0332, -0.8890],\n",
      "         [-0.0390, -0.0751,  0.1051,  ...,  0.1532, -0.5887,  1.0032]],\n",
      "\n",
      "        ...,\n",
      "\n",
      "        [[-0.2794, -0.8145, -0.5170,  ..., -1.5550,  0.3251, -1.1975],\n",
      "         [ 0.3798, -0.1553, -0.6550,  ..., -0.3951, -0.2463,  1.0335]],\n",
      "\n",
      "        [[ 0.0298,  1.0104, -0.1113,  ...,  1.7264, -0.0132,  0.4153],\n",
      "         [-0.7844,  0.3352,  0.9079,  ...,  0.3986,  1.2077, -0.5666]],\n",
      "\n",
      "        [[-0.3170,  0.4050,  0.5969,  ...,  0.9529,  1.5752, -0.3543],\n",
      "         [-0.4027, -0.5875,  0.4743,  ..., -1.4321,  0.8656,  1.2900]]])\n"
     ]
    }
   ],
   "source": [
    "from steves_utils.transforms import get_average_magnitude, get_average_power\n",
    "\n",
    "print(set([u for u,_ in val_original_source]))\n",
    "print(set([u for u,_ in val_original_target]))\n",
    "\n",
    "s_x, s_y, q_x, q_y, _ = next(iter(train_processed_source))\n",
    "print(s_x)\n",
    "\n",
    "# for ds in [\n",
    "#     train_processed_source,\n",
    "#     val_processed_source,\n",
    "#     test_processed_source,\n",
    "#     train_processed_target,\n",
    "#     val_processed_target,\n",
    "#     test_processed_target\n",
    "# ]:\n",
    "#     for s_x, s_y, q_x, q_y, _ in ds:\n",
    "#         for X in (s_x, q_x):\n",
    "#             for x in X:\n",
    "#                 assert np.isclose(get_average_magnitude(x.numpy()), 1.0)\n",
    "#                 assert np.isclose(get_average_power(x.numpy()), 1.0)\n",
    "                "
   ]
  },
  {
   "cell_type": "code",
   "execution_count": 21,
   "id": "bbdacba1",
   "metadata": {
    "execution": {
     "iopub.execute_input": "2022-03-18T21:48:29.017089Z",
     "iopub.status.busy": "2022-03-18T21:48:29.016716Z",
     "iopub.status.idle": "2022-03-18T21:48:29.066146Z",
     "shell.execute_reply": "2022-03-18T21:48:29.065866Z"
    },
    "papermill": {
     "duration": 0.070231,
     "end_time": "2022-03-18T21:48:29.066209",
     "exception": false,
     "start_time": "2022-03-18T21:48:28.995978",
     "status": "completed"
    },
    "tags": []
   },
   "outputs": [
    {
     "name": "stdout",
     "output_type": "stream",
     "text": [
      "(2, 200)\n"
     ]
    }
   ],
   "source": [
    "###################################\n",
    "# Build the model\n",
    "###################################\n",
    "# easfsl only wants a tuple for the shape\n",
    "model = Steves_Prototypical_Network(x_net, device=p.device, x_shape=tuple(p.x_shape))\n",
    "optimizer = Adam(params=model.parameters(), lr=p.lr)"
   ]
  },
  {
   "cell_type": "code",
   "execution_count": 22,
   "id": "22b39ac5",
   "metadata": {
    "execution": {
     "iopub.execute_input": "2022-03-18T21:48:29.100194Z",
     "iopub.status.busy": "2022-03-18T21:48:29.099802Z",
     "iopub.status.idle": "2022-03-18T21:54:03.595559Z",
     "shell.execute_reply": "2022-03-18T21:54:03.595331Z"
    },
    "papermill": {
     "duration": 334.512811,
     "end_time": "2022-03-18T21:54:03.595617",
     "exception": false,
     "start_time": "2022-03-18T21:48:29.082806",
     "status": "completed"
    },
    "tags": []
   },
   "outputs": [
    {
     "name": "stdout",
     "output_type": "stream",
     "text": [
      "epoch: 1, [batch: 1 / 2080], examples_per_second: 123.9863, train_label_loss: 2.6813, \n"
     ]
    },
    {
     "name": "stdout",
     "output_type": "stream",
     "text": [
      "epoch: 1, [batch: 208 / 2080], examples_per_second: 3574.2996, train_label_loss: 0.3398, \n"
     ]
    },
    {
     "name": "stdout",
     "output_type": "stream",
     "text": [
      "epoch: 1, [batch: 416 / 2080], examples_per_second: 3591.2171, train_label_loss: 1.0221, \n"
     ]
    },
    {
     "name": "stdout",
     "output_type": "stream",
     "text": [
      "epoch: 1, [batch: 624 / 2080], examples_per_second: 3637.6828, train_label_loss: 0.0069, \n"
     ]
    },
    {
     "name": "stdout",
     "output_type": "stream",
     "text": [
      "epoch: 1, [batch: 832 / 2080], examples_per_second: 3635.9567, train_label_loss: 0.1880, \n"
     ]
    },
    {
     "name": "stdout",
     "output_type": "stream",
     "text": [
      "epoch: 1, [batch: 1040 / 2080], examples_per_second: 3629.2833, train_label_loss: 0.1861, \n"
     ]
    },
    {
     "name": "stdout",
     "output_type": "stream",
     "text": [
      "epoch: 1, [batch: 1248 / 2080], examples_per_second: 3643.8267, train_label_loss: 0.0471, \n"
     ]
    },
    {
     "name": "stdout",
     "output_type": "stream",
     "text": [
      "epoch: 1, [batch: 1456 / 2080], examples_per_second: 3651.5026, train_label_loss: 0.0073, \n"
     ]
    },
    {
     "name": "stdout",
     "output_type": "stream",
     "text": [
      "epoch: 1, [batch: 1664 / 2080], examples_per_second: 3626.5275, train_label_loss: 0.3529, \n"
     ]
    },
    {
     "name": "stdout",
     "output_type": "stream",
     "text": [
      "epoch: 1, [batch: 1872 / 2080], examples_per_second: 3640.6471, train_label_loss: 0.0856, \n"
     ]
    },
    {
     "name": "stdout",
     "output_type": "stream",
     "text": [
      "=============================================================\n",
      "epoch: 1, source_val_acc_label: 0.9404, target_val_acc_label: 0.1580, source_val_label_loss: 0.2559, target_val_label_loss: 2.7739, \n",
      "=============================================================\n"
     ]
    },
    {
     "name": "stdout",
     "output_type": "stream",
     "text": [
      "New best\n"
     ]
    },
    {
     "name": "stdout",
     "output_type": "stream",
     "text": [
      "epoch: 2, [batch: 1 / 2081], examples_per_second: 11.2865, train_label_loss: 0.0817, \n"
     ]
    },
    {
     "name": "stdout",
     "output_type": "stream",
     "text": [
      "epoch: 2, [batch: 209 / 2081], examples_per_second: 3580.7778, train_label_loss: 0.0205, \n"
     ]
    },
    {
     "name": "stdout",
     "output_type": "stream",
     "text": [
      "epoch: 2, [batch: 417 / 2081], examples_per_second: 3603.9125, train_label_loss: 0.0194, \n"
     ]
    },
    {
     "name": "stdout",
     "output_type": "stream",
     "text": [
      "epoch: 2, [batch: 625 / 2081], examples_per_second: 3629.2057, train_label_loss: 0.1762, \n"
     ]
    },
    {
     "name": "stdout",
     "output_type": "stream",
     "text": [
      "epoch: 2, [batch: 833 / 2081], examples_per_second: 3627.2643, train_label_loss: 0.0080, \n"
     ]
    },
    {
     "name": "stdout",
     "output_type": "stream",
     "text": [
      "epoch: 2, [batch: 1041 / 2081], examples_per_second: 3608.0939, train_label_loss: 0.6978, \n"
     ]
    },
    {
     "name": "stdout",
     "output_type": "stream",
     "text": [
      "epoch: 2, [batch: 1249 / 2081], examples_per_second: 3609.3484, train_label_loss: 0.0022, \n"
     ]
    },
    {
     "name": "stdout",
     "output_type": "stream",
     "text": [
      "epoch: 2, [batch: 1457 / 2081], examples_per_second: 3622.8355, train_label_loss: 0.3152, \n"
     ]
    },
    {
     "name": "stdout",
     "output_type": "stream",
     "text": [
      "epoch: 2, [batch: 1665 / 2081], examples_per_second: 3554.1249, train_label_loss: 0.0900, \n"
     ]
    },
    {
     "name": "stdout",
     "output_type": "stream",
     "text": [
      "epoch: 2, [batch: 1873 / 2081], examples_per_second: 3600.4723, train_label_loss: 0.1878, \n"
     ]
    },
    {
     "name": "stdout",
     "output_type": "stream",
     "text": [
      "=============================================================\n",
      "epoch: 2, source_val_acc_label: 0.9578, target_val_acc_label: 0.1914, source_val_label_loss: 0.1865, target_val_label_loss: 2.4968, \n",
      "=============================================================\n"
     ]
    },
    {
     "name": "stdout",
     "output_type": "stream",
     "text": [
      "New best\n"
     ]
    },
    {
     "name": "stdout",
     "output_type": "stream",
     "text": [
      "epoch: 3, [batch: 1 / 2080], examples_per_second: 11.1502, train_label_loss: 0.0946, \n"
     ]
    },
    {
     "name": "stdout",
     "output_type": "stream",
     "text": [
      "epoch: 3, [batch: 208 / 2080], examples_per_second: 3609.4440, train_label_loss: 0.0176, \n"
     ]
    },
    {
     "name": "stdout",
     "output_type": "stream",
     "text": [
      "epoch: 3, [batch: 416 / 2080], examples_per_second: 3618.1901, train_label_loss: 0.0047, \n"
     ]
    },
    {
     "name": "stdout",
     "output_type": "stream",
     "text": [
      "epoch: 3, [batch: 624 / 2080], examples_per_second: 3610.0134, train_label_loss: 0.0069, \n"
     ]
    },
    {
     "name": "stdout",
     "output_type": "stream",
     "text": [
      "epoch: 3, [batch: 832 / 2080], examples_per_second: 3603.9233, train_label_loss: 0.3624, \n"
     ]
    },
    {
     "name": "stdout",
     "output_type": "stream",
     "text": [
      "epoch: 3, [batch: 1040 / 2080], examples_per_second: 3594.5560, train_label_loss: 0.0059, \n"
     ]
    },
    {
     "name": "stdout",
     "output_type": "stream",
     "text": [
      "epoch: 3, [batch: 1248 / 2080], examples_per_second: 3610.0535, train_label_loss: 0.0031, \n"
     ]
    },
    {
     "name": "stdout",
     "output_type": "stream",
     "text": [
      "epoch: 3, [batch: 1456 / 2080], examples_per_second: 3584.4784, train_label_loss: 0.5245, \n"
     ]
    },
    {
     "name": "stdout",
     "output_type": "stream",
     "text": [
      "epoch: 3, [batch: 1664 / 2080], examples_per_second: 3634.4507, train_label_loss: 0.1797, \n"
     ]
    },
    {
     "name": "stdout",
     "output_type": "stream",
     "text": [
      "epoch: 3, [batch: 1872 / 2080], examples_per_second: 3620.4307, train_label_loss: 0.1431, \n"
     ]
    },
    {
     "name": "stdout",
     "output_type": "stream",
     "text": [
      "=============================================================\n",
      "epoch: 3, source_val_acc_label: 0.9675, target_val_acc_label: 0.1837, source_val_label_loss: 0.1451, target_val_label_loss: 2.5798, \n",
      "=============================================================\n"
     ]
    },
    {
     "name": "stdout",
     "output_type": "stream",
     "text": [
      "epoch: 4, [batch: 1 / 2080], examples_per_second: 11.2148, train_label_loss: 0.0206, \n"
     ]
    },
    {
     "name": "stdout",
     "output_type": "stream",
     "text": [
      "epoch: 4, [batch: 208 / 2080], examples_per_second: 3599.0387, train_label_loss: 0.1530, \n"
     ]
    },
    {
     "name": "stdout",
     "output_type": "stream",
     "text": [
      "epoch: 4, [batch: 416 / 2080], examples_per_second: 3620.3806, train_label_loss: 0.0129, \n"
     ]
    },
    {
     "name": "stdout",
     "output_type": "stream",
     "text": [
      "epoch: 4, [batch: 624 / 2080], examples_per_second: 3629.6647, train_label_loss: 0.0898, \n"
     ]
    },
    {
     "name": "stdout",
     "output_type": "stream",
     "text": [
      "epoch: 4, [batch: 832 / 2080], examples_per_second: 3638.6997, train_label_loss: 0.0245, \n"
     ]
    },
    {
     "name": "stdout",
     "output_type": "stream",
     "text": [
      "epoch: 4, [batch: 1040 / 2080], examples_per_second: 3614.2347, train_label_loss: 0.0041, \n"
     ]
    },
    {
     "name": "stdout",
     "output_type": "stream",
     "text": [
      "epoch: 4, [batch: 1248 / 2080], examples_per_second: 3632.0528, train_label_loss: 0.0194, \n"
     ]
    },
    {
     "name": "stdout",
     "output_type": "stream",
     "text": [
      "epoch: 4, [batch: 1456 / 2080], examples_per_second: 3629.9951, train_label_loss: 0.1207, \n"
     ]
    },
    {
     "name": "stdout",
     "output_type": "stream",
     "text": [
      "epoch: 4, [batch: 1664 / 2080], examples_per_second: 3595.3832, train_label_loss: 0.0547, \n"
     ]
    },
    {
     "name": "stdout",
     "output_type": "stream",
     "text": [
      "epoch: 4, [batch: 1872 / 2080], examples_per_second: 3638.8291, train_label_loss: 0.2182, \n"
     ]
    },
    {
     "name": "stdout",
     "output_type": "stream",
     "text": [
      "=============================================================\n",
      "epoch: 4, source_val_acc_label: 0.9674, target_val_acc_label: 0.1634, source_val_label_loss: 0.1542, target_val_label_loss: 2.7364, \n",
      "=============================================================\n"
     ]
    },
    {
     "name": "stdout",
     "output_type": "stream",
     "text": [
      "epoch: 5, [batch: 1 / 2078], examples_per_second: 11.1692, train_label_loss: 0.0243, \n"
     ]
    },
    {
     "name": "stdout",
     "output_type": "stream",
     "text": [
      "epoch: 5, [batch: 208 / 2078], examples_per_second: 3575.0171, train_label_loss: 0.0091, \n"
     ]
    },
    {
     "name": "stdout",
     "output_type": "stream",
     "text": [
      "epoch: 5, [batch: 416 / 2078], examples_per_second: 3621.7229, train_label_loss: 0.0082, \n"
     ]
    },
    {
     "name": "stdout",
     "output_type": "stream",
     "text": [
      "epoch: 5, [batch: 624 / 2078], examples_per_second: 3615.6785, train_label_loss: 0.0209, \n"
     ]
    },
    {
     "name": "stdout",
     "output_type": "stream",
     "text": [
      "epoch: 5, [batch: 831 / 2078], examples_per_second: 3615.3088, train_label_loss: 0.0009, \n"
     ]
    },
    {
     "name": "stdout",
     "output_type": "stream",
     "text": [
      "epoch: 5, [batch: 1039 / 2078], examples_per_second: 3594.9306, train_label_loss: 0.0042, \n"
     ]
    },
    {
     "name": "stdout",
     "output_type": "stream",
     "text": [
      "epoch: 5, [batch: 1247 / 2078], examples_per_second: 3615.6336, train_label_loss: 0.0018, \n"
     ]
    },
    {
     "name": "stdout",
     "output_type": "stream",
     "text": [
      "epoch: 5, [batch: 1454 / 2078], examples_per_second: 3624.5480, train_label_loss: 0.0001, \n"
     ]
    },
    {
     "name": "stdout",
     "output_type": "stream",
     "text": [
      "epoch: 5, [batch: 1662 / 2078], examples_per_second: 3560.3762, train_label_loss: 0.0855, \n"
     ]
    },
    {
     "name": "stdout",
     "output_type": "stream",
     "text": [
      "epoch: 5, [batch: 1870 / 2078], examples_per_second: 3617.4431, train_label_loss: 0.1579, \n"
     ]
    },
    {
     "name": "stdout",
     "output_type": "stream",
     "text": [
      "=============================================================\n",
      "epoch: 5, source_val_acc_label: 0.9686, target_val_acc_label: 0.1877, source_val_label_loss: 0.1327, target_val_label_loss: 2.6956, \n",
      "=============================================================\n"
     ]
    },
    {
     "name": "stdout",
     "output_type": "stream",
     "text": [
      "epoch: 6, [batch: 1 / 2083], examples_per_second: 11.1787, train_label_loss: 0.0175, \n"
     ]
    },
    {
     "name": "stdout",
     "output_type": "stream",
     "text": [
      "epoch: 6, [batch: 209 / 2083], examples_per_second: 3587.7565, train_label_loss: 0.0012, \n"
     ]
    },
    {
     "name": "stdout",
     "output_type": "stream",
     "text": [
      "epoch: 6, [batch: 417 / 2083], examples_per_second: 3608.8066, train_label_loss: 0.0002, \n"
     ]
    },
    {
     "name": "stdout",
     "output_type": "stream",
     "text": [
      "epoch: 6, [batch: 625 / 2083], examples_per_second: 3597.0179, train_label_loss: 0.0109, \n"
     ]
    },
    {
     "name": "stdout",
     "output_type": "stream",
     "text": [
      "epoch: 6, [batch: 833 / 2083], examples_per_second: 3616.7392, train_label_loss: 0.0030, \n"
     ]
    },
    {
     "name": "stdout",
     "output_type": "stream",
     "text": [
      "epoch: 6, [batch: 1042 / 2083], examples_per_second: 3602.3635, train_label_loss: 0.0136, \n"
     ]
    },
    {
     "name": "stdout",
     "output_type": "stream",
     "text": [
      "epoch: 6, [batch: 1250 / 2083], examples_per_second: 3618.0867, train_label_loss: 0.0001, \n"
     ]
    },
    {
     "name": "stdout",
     "output_type": "stream",
     "text": [
      "epoch: 6, [batch: 1458 / 2083], examples_per_second: 3583.7590, train_label_loss: 0.0883, \n"
     ]
    },
    {
     "name": "stdout",
     "output_type": "stream",
     "text": [
      "epoch: 6, [batch: 1666 / 2083], examples_per_second: 3616.4810, train_label_loss: 0.0564, \n"
     ]
    },
    {
     "name": "stdout",
     "output_type": "stream",
     "text": [
      "epoch: 6, [batch: 1874 / 2083], examples_per_second: 3628.0404, train_label_loss: 0.2595, \n"
     ]
    },
    {
     "name": "stdout",
     "output_type": "stream",
     "text": [
      "=============================================================\n",
      "epoch: 6, source_val_acc_label: 0.9712, target_val_acc_label: 0.1922, source_val_label_loss: 0.1275, target_val_label_loss: 2.6546, \n",
      "=============================================================\n"
     ]
    },
    {
     "name": "stdout",
     "output_type": "stream",
     "text": [
      "Patience (3) exhausted\n"
     ]
    }
   ],
   "source": [
    "###################################\n",
    "# train\n",
    "###################################\n",
    "jig = PTN_Train_Eval_Test_Jig(model, p.BEST_MODEL_PATH, p.device)\n",
    "\n",
    "jig.train(\n",
    "    train_iterable=datasets.source.processed.train,\n",
    "    source_val_iterable=datasets.source.processed.val,\n",
    "    target_val_iterable=datasets.target.processed.val,\n",
    "    num_epochs=p.n_epoch,\n",
    "    num_logs_per_epoch=p.NUM_LOGS_PER_EPOCH,\n",
    "    patience=p.patience,\n",
    "    optimizer=optimizer,\n",
    "    criteria_for_best=p.criteria_for_best,\n",
    ")"
   ]
  },
  {
   "cell_type": "code",
   "execution_count": 23,
   "id": "31e8fabf",
   "metadata": {
    "execution": {
     "iopub.execute_input": "2022-03-18T21:54:03.651465Z",
     "iopub.status.busy": "2022-03-18T21:54:03.651185Z",
     "iopub.status.idle": "2022-03-18T21:54:03.670109Z",
     "shell.execute_reply": "2022-03-18T21:54:03.669738Z"
    },
    "papermill": {
     "duration": 0.048193,
     "end_time": "2022-03-18T21:54:03.670201",
     "exception": false,
     "start_time": "2022-03-18T21:54:03.622008",
     "status": "completed"
    },
    "tags": []
   },
   "outputs": [],
   "source": [
    "total_experiment_time_secs = time.time() - start_time_secs"
   ]
  },
  {
   "cell_type": "code",
   "execution_count": 24,
   "id": "87b9595b",
   "metadata": {
    "execution": {
     "iopub.execute_input": "2022-03-18T21:54:03.732427Z",
     "iopub.status.busy": "2022-03-18T21:54:03.732166Z",
     "iopub.status.idle": "2022-03-18T21:55:06.646883Z",
     "shell.execute_reply": "2022-03-18T21:55:06.647297Z"
    },
    "papermill": {
     "duration": 62.946796,
     "end_time": "2022-03-18T21:55:06.647437",
     "exception": false,
     "start_time": "2022-03-18T21:54:03.700641",
     "status": "completed"
    },
    "tags": []
   },
   "outputs": [],
   "source": [
    "###################################\n",
    "# Evaluate the model\n",
    "###################################\n",
    "source_test_label_accuracy, source_test_label_loss = jig.test(datasets.source.processed.test)\n",
    "target_test_label_accuracy, target_test_label_loss = jig.test(datasets.target.processed.test)\n",
    "\n",
    "source_val_label_accuracy, source_val_label_loss = jig.test(datasets.source.processed.val)\n",
    "target_val_label_accuracy, target_val_label_loss = jig.test(datasets.target.processed.val)\n",
    "\n",
    "history = jig.get_history()\n",
    "\n",
    "total_epochs_trained = len(history[\"epoch_indices\"])\n",
    "\n",
    "val_dl = Iterable_Aggregator((datasets.source.original.val,datasets.target.original.val))\n",
    "\n",
    "confusion = ptn_confusion_by_domain_over_dataloader(model, p.device, val_dl)\n",
    "per_domain_accuracy = per_domain_accuracy_from_confusion(confusion)\n",
    "\n",
    "# Add a key to per_domain_accuracy for if it was a source domain\n",
    "for domain, accuracy in per_domain_accuracy.items():\n",
    "    per_domain_accuracy[domain] = {\n",
    "        \"accuracy\": accuracy,\n",
    "        \"source?\": domain in p.domains_source\n",
    "    }\n",
    "\n",
    "# Do an independent accuracy assesment JUST TO BE SURE!\n",
    "# _source_test_label_accuracy = independent_accuracy_assesment(model, datasets.source.processed.test, p.device)\n",
    "# _target_test_label_accuracy = independent_accuracy_assesment(model, datasets.target.processed.test, p.device)\n",
    "# _source_val_label_accuracy = independent_accuracy_assesment(model, datasets.source.processed.val, p.device)\n",
    "# _target_val_label_accuracy = independent_accuracy_assesment(model, datasets.target.processed.val, p.device)\n",
    "\n",
    "# assert(_source_test_label_accuracy == source_test_label_accuracy)\n",
    "# assert(_target_test_label_accuracy == target_test_label_accuracy)\n",
    "# assert(_source_val_label_accuracy == source_val_label_accuracy)\n",
    "# assert(_target_val_label_accuracy == target_val_label_accuracy)\n",
    "\n",
    "experiment = {\n",
    "    \"experiment_name\": p.experiment_name,\n",
    "    \"parameters\": dict(p),\n",
    "    \"results\": {\n",
    "        \"source_test_label_accuracy\": source_test_label_accuracy,\n",
    "        \"source_test_label_loss\": source_test_label_loss,\n",
    "        \"target_test_label_accuracy\": target_test_label_accuracy,\n",
    "        \"target_test_label_loss\": target_test_label_loss,\n",
    "        \"source_val_label_accuracy\": source_val_label_accuracy,\n",
    "        \"source_val_label_loss\": source_val_label_loss,\n",
    "        \"target_val_label_accuracy\": target_val_label_accuracy,\n",
    "        \"target_val_label_loss\": target_val_label_loss,\n",
    "        \"total_epochs_trained\": total_epochs_trained,\n",
    "        \"total_experiment_time_secs\": total_experiment_time_secs,\n",
    "        \"confusion\": confusion,\n",
    "        \"per_domain_accuracy\": per_domain_accuracy,\n",
    "    },\n",
    "    \"history\": history,\n",
    "    \"dataset_metrics\": get_dataset_metrics(datasets, \"ptn\"),\n",
    "}"
   ]
  },
  {
   "cell_type": "code",
   "execution_count": 25,
   "id": "54a21829",
   "metadata": {
    "execution": {
     "iopub.execute_input": "2022-03-18T21:55:06.707681Z",
     "iopub.status.busy": "2022-03-18T21:55:06.707290Z",
     "iopub.status.idle": "2022-03-18T21:55:06.826588Z",
     "shell.execute_reply": "2022-03-18T21:55:06.826345Z"
    },
    "papermill": {
     "duration": 0.148014,
     "end_time": "2022-03-18T21:55:06.826654",
     "exception": false,
     "start_time": "2022-03-18T21:55:06.678640",
     "status": "completed"
    },
    "tags": []
   },
   "outputs": [
    {
     "data": {
      "image/png": "[encoded data removed]",
      "text/plain": [
       "<Figure size 1080x504 with 1 Axes>"
      ]
     },
     "metadata": {
      "needs_background": "light"
     },
     "output_type": "display_data"
    }
   ],
   "source": [
    "ax = get_loss_curve(experiment)\n",
    "plt.show()"
   ]
  },
  {
   "cell_type": "code",
   "execution_count": 26,
   "id": "fd8a0f60",
   "metadata": {
    "execution": {
     "iopub.execute_input": "2022-03-18T21:55:06.883862Z",
     "iopub.status.busy": "2022-03-18T21:55:06.883458Z",
     "iopub.status.idle": "2022-03-18T21:55:07.026001Z",
     "shell.execute_reply": "2022-03-18T21:55:07.025754Z"
    },
    "papermill": {
     "duration": 0.171984,
     "end_time": "2022-03-18T21:55:07.026065",
     "exception": false,
     "start_time": "2022-03-18T21:55:06.854081",
     "status": "completed"
    },
    "tags": []
   },
   "outputs": [
    {
     "data": {
      "text/plain": [
       "<AxesSubplot:title={'center':'Results'}>"
      ]
     },
     "execution_count": 26,
     "metadata": {},
     "output_type": "execute_result"
    },
    {
     "data": {
      "image/png": "[encoded data removed]",
      "text/plain": [
       "<Figure size 1080x504 with 1 Axes>"
      ]
     },
     "metadata": {
      "needs_background": "light"
     },
     "output_type": "display_data"
    }
   ],
   "source": [
    "get_results_table(experiment)"
   ]
  },
  {
   "cell_type": "code",
   "execution_count": 27,
   "id": "cf8dc689",
   "metadata": {
    "execution": {
     "iopub.execute_input": "2022-03-18T21:55:07.088130Z",
     "iopub.status.busy": "2022-03-18T21:55:07.087874Z",
     "iopub.status.idle": "2022-03-18T21:55:07.245636Z",
     "shell.execute_reply": "2022-03-18T21:55:07.246040Z"
    },
    "papermill": {
     "duration": 0.188969,
     "end_time": "2022-03-18T21:55:07.246170",
     "exception": false,
     "start_time": "2022-03-18T21:55:07.057201",
     "status": "completed"
    },
    "tags": []
   },
   "outputs": [
    {
     "data": {
      "text/plain": [
       "<AxesSubplot:title={'center':'Per Domain Validation Accuracy'}, xlabel='domain'>"
      ]
     },
     "execution_count": 27,
     "metadata": {},
     "output_type": "execute_result"
    },
    {
     "data": {
      "image/png": "[encoded data removed]",
      "text/plain": [
       "<Figure size 1080x504 with 1 Axes>"
      ]
     },
     "metadata": {
      "needs_background": "light"
     },
     "output_type": "display_data"
    }
   ],
   "source": [
    "get_domain_accuracies(experiment)"
   ]
  },
  {
   "cell_type": "code",
   "execution_count": 28,
   "id": "a74ae082",
   "metadata": {
    "execution": {
     "iopub.execute_input": "2022-03-18T21:55:07.314473Z",
     "iopub.status.busy": "2022-03-18T21:55:07.313180Z",
     "iopub.status.idle": "2022-03-18T21:55:07.329084Z",
     "shell.execute_reply": "2022-03-18T21:55:07.328563Z"
    },
    "papermill": {
     "duration": 0.048326,
     "end_time": "2022-03-18T21:55:07.329192",
     "exception": false,
     "start_time": "2022-03-18T21:55:07.280866",
     "status": "completed"
    },
    "tags": []
   },
   "outputs": [
    {
     "name": "stdout",
     "output_type": "stream",
     "text": [
      "Source Test Label Accuracy: 0.9574742268041238 Target Test Label Accuracy: 0.19114583333333332\n",
      "Source Val Label Accuracy: 0.9577963917525774 Target Val Label Accuracy: 0.19137369791666667\n"
     ]
    }
   ],
   "source": [
    "print(\"Source Test Label Accuracy:\", experiment[\"results\"][\"source_test_label_accuracy\"], \"Target Test Label Accuracy:\", experiment[\"results\"][\"target_test_label_accuracy\"])\n",
    "print(\"Source Val Label Accuracy:\", experiment[\"results\"][\"source_val_label_accuracy\"], \"Target Val Label Accuracy:\", experiment[\"results\"][\"target_val_label_accuracy\"])"
   ]
  },
  {
   "cell_type": "code",
   "execution_count": 29,
   "id": "dacca602",
   "metadata": {
    "execution": {
     "iopub.execute_input": "2022-03-18T21:55:07.396478Z",
     "iopub.status.busy": "2022-03-18T21:55:07.395943Z",
     "iopub.status.idle": "2022-03-18T21:55:07.415203Z",
     "shell.execute_reply": "2022-03-18T21:55:07.415639Z"
    },
    "papermill": {
     "duration": 0.05112,
     "end_time": "2022-03-18T21:55:07.415761",
     "exception": false,
     "start_time": "2022-03-18T21:55:07.364641",
     "status": "completed"
    },
    "tags": [
     "experiment_json"
    ]
   },
   "outputs": [
    {
     "data": {
      "text/plain": [
       "'{\"experiment_name\": \"tl_3A:cores+wisig -> oracle.run1.framed\", \"parameters\": {\"experiment_name\": \"tl_3A:cores+wisig -> oracle.run1.framed\", \"device\": \"cuda\", \"lr\": 0.001, \"x_shape\": [2, 200], \"n_shot\": 3, \"n_query\": 2, \"train_k_factor\": 3, \"val_k_factor\": 2, \"test_k_factor\": 2, \"torch_default_dtype\": \"torch.float32\", \"n_epoch\": 50, \"patience\": 3, \"criteria_for_best\": \"target_loss\", \"x_net\": [{\"class\": \"nnReshape\", \"kargs\": {\"shape\": [-1, 1, 2, 200]}}, {\"class\": \"Conv2d\", \"kargs\": {\"in_channels\": 1, \"out_channels\": 256, \"kernel_size\": [1, 7], \"bias\": false, \"padding\": [0, 3]}}, {\"class\": \"ReLU\", \"kargs\": {\"inplace\": true}}, {\"class\": \"BatchNorm2d\", \"kargs\": {\"num_features\": 256}}, {\"class\": \"Conv2d\", \"kargs\": {\"in_channels\": 256, \"out_channels\": 80, \"kernel_size\": [2, 7], \"bias\": true, \"padding\": [0, 3]}}, {\"class\": \"ReLU\", \"kargs\": {\"inplace\": true}}, {\"class\": \"BatchNorm2d\", \"kargs\": {\"num_features\": 80}}, {\"class\": \"Flatten\", \"kargs\": {}}, {\"class\": \"Linear\", \"kargs\": {\"in_features\": 16000, \"out_features\": 256}}, {\"class\": \"ReLU\", \"kargs\": {\"inplace\": true}}, {\"class\": \"BatchNorm1d\", \"kargs\": {\"num_features\": 256}}, {\"class\": \"Linear\", \"kargs\": {\"in_features\": 256, \"out_features\": 256}}], \"NUM_LOGS_PER_EPOCH\": 10, \"BEST_MODEL_PATH\": \"./best_model.pth\", \"n_way\": 16, \"datasets\": [{\"labels\": [\"1-10.\", \"1-11.\", \"1-15.\", \"1-16.\", \"1-17.\", \"1-18.\", \"1-19.\", \"10-4.\", \"10-7.\", \"11-1.\", \"11-14.\", \"11-17.\", \"11-20.\", \"11-7.\", \"13-20.\", \"13-8.\", \"14-10.\", \"14-11.\", \"14-14.\", \"14-7.\", \"15-1.\", \"15-20.\", \"16-1.\", \"16-16.\", \"17-10.\", \"17-11.\", \"17-2.\", \"19-1.\", \"19-16.\", \"19-19.\", \"19-20.\", \"19-3.\", \"2-10.\", \"2-11.\", \"2-17.\", \"2-18.\", \"2-20.\", \"2-3.\", \"2-4.\", \"2-5.\", \"2-6.\", \"2-7.\", \"2-8.\", \"3-13.\", \"3-18.\", \"3-3.\", \"4-1.\", \"4-10.\", \"4-11.\", \"4-19.\", \"5-5.\", \"6-15.\", \"7-10.\", \"7-14.\", \"8-18.\", \"8-20.\", \"8-3.\", \"8-8.\"], \"domains\": [1, 2, 3, 4, 5], \"num_examples_per_domain_per_label\": 100, \"pickle_path\": \"/mnt/wd500GB/CSC500/csc500-main/datasets/cores.stratified_ds.2022A.pkl\", \"source_or_target_dataset\": \"source\", \"x_transforms\": [\"unit_power\", \"take_200\"], \"episode_transforms\": [], \"domain_prefix\": \"C_A_\"}, {\"labels\": [\"1-10\", \"1-12\", \"1-14\", \"1-16\", \"1-18\", \"1-19\", \"1-8\", \"10-11\", \"10-17\", \"10-4\", \"10-7\", \"11-1\", \"11-10\", \"11-19\", \"11-20\", \"11-4\", \"11-7\", \"12-19\", \"12-20\", \"12-7\", \"13-14\", \"13-18\", \"13-19\", \"13-20\", \"13-3\", \"13-7\", \"14-10\", \"14-11\", \"14-12\", \"14-13\", \"14-14\", \"14-19\", \"14-20\", \"14-7\", \"14-8\", \"14-9\", \"15-1\", \"15-19\", \"15-6\", \"16-1\", \"16-16\", \"16-19\", \"16-20\", \"17-10\", \"17-11\", \"18-1\", \"18-10\", \"18-11\", \"18-12\", \"18-13\", \"18-14\", \"18-15\", \"18-16\", \"18-17\", \"18-19\", \"18-2\", \"18-20\", \"18-4\", \"18-5\", \"18-7\", \"18-8\", \"18-9\", \"19-1\", \"19-10\", \"19-11\", \"19-12\", \"19-13\", \"19-14\", \"19-15\", \"19-19\", \"19-2\", \"19-20\", \"19-3\", \"19-4\", \"19-6\", \"19-7\", \"19-8\", \"19-9\", \"2-1\", \"2-13\", \"2-15\", \"2-3\", \"2-4\", \"2-5\", \"2-6\", \"2-7\", \"2-8\", \"20-1\", \"20-12\", \"20-14\", \"20-15\", \"20-16\", \"20-18\", \"20-19\", \"20-20\", \"20-3\", \"20-4\", \"20-5\", \"20-7\", \"20-8\", \"3-1\", \"3-13\", \"3-18\", \"3-2\", \"3-8\", \"4-1\", \"4-10\", \"4-11\", \"5-1\", \"5-5\", \"6-1\", \"6-15\", \"6-6\", \"7-10\", \"7-11\", \"7-12\", \"7-13\", \"7-14\", \"7-7\", \"7-8\", \"7-9\", \"8-1\", \"8-13\", \"8-14\", \"8-18\", \"8-20\", \"8-3\", \"8-8\", \"9-1\", \"9-7\"], \"domains\": [1, 2, 3, 4], \"num_examples_per_domain_per_label\": 100, \"pickle_path\": \"/mnt/wd500GB/CSC500/csc500-main/datasets/wisig.node3-19.stratified_ds.2022A.pkl\", \"source_or_target_dataset\": \"source\", \"x_transforms\": [\"unit_power\", \"take_200\"], \"episode_transforms\": [], \"domain_prefix\": \"W_A_\"}, {\"labels\": [\"3123D52\", \"3123D65\", \"3123D79\", \"3123D80\", \"3123D54\", \"3123D70\", \"3123D7B\", \"3123D89\", \"3123D58\", \"3123D76\", \"3123D7D\", \"3123EFE\", \"3123D64\", \"3123D78\", \"3123D7E\", \"3124E4A\"], \"domains\": [32, 38, 8, 44, 14, 50, 20, 26], \"num_examples_per_domain_per_label\": 2000, \"pickle_path\": \"/mnt/wd500GB/CSC500/csc500-main/datasets/oracle.Run1_framed_2000Examples_stratified_ds.2022A.pkl\", \"source_or_target_dataset\": \"target\", \"x_transforms\": [\"unit_power\", \"take_200\", \"resample_20Msps_to_25Msps\"], \"episode_transforms\": [], \"domain_prefix\": \"ORACLE.run1_\"}], \"seed\": 420, \"dataset_seed\": 420, \"domains_source\": [\"C_A_1\", \"C_A_2\", \"C_A_3\", \"C_A_4\", \"C_A_5\", \"W_A_1\", \"W_A_2\", \"W_A_3\", \"W_A_4\"], \"domains_target\": [\"ORACLE.run1_32\", \"ORACLE.run1_38\", \"ORACLE.run1_8\", \"ORACLE.run1_44\", \"ORACLE.run1_14\", \"ORACLE.run1_50\", \"ORACLE.run1_20\", \"ORACLE.run1_26\"]}, \"results\": {\"source_test_label_accuracy\": 0.9574742268041238, \"source_test_label_loss\": 0.1770658642053604, \"target_test_label_accuracy\": 0.19114583333333332, \"target_test_label_loss\": 2.501439094543457, \"source_val_label_accuracy\": 0.9577963917525774, \"source_val_label_loss\": 0.18648827075958252, \"target_val_label_accuracy\": 0.19137369791666667, \"target_val_label_loss\": 2.4968221187591553, \"total_epochs_trained\": 6, \"total_experiment_time_secs\": 378.89184188842773, \"confusion\": {\"W_A_3\": {\"110\": {\"110\": 11, \"60\": 1}, \"1\": {\"1\": 10}, \"2\": {\"2\": 10, \"13\": 2}, \"94\": {\"94\": 12}, \"64\": {\"64\": 12}, \"78\": {\"78\": 9, \"122\": 1, \"68\": 1, \"107\": 1}, \"47\": {\"47\": 12}, \"127\": {\"127\": 12}, \"89\": {\"89\": 12}, \"79\": {\"79\": 12}, \"22\": {\"22\": 12}, \"117\": {\"117\": 12}, \"49\": {\"49\": 12}, \"14\": {\"14\": 12}, \"103\": {\"103\": 12}, \"123\": {\"123\": 12}, \"80\": {\"80\": 12}, \"63\": {\"63\": 12}, \"27\": {\"27\": 11, \"36\": 1}, \"17\": {\"63\": 1, \"17\": 9, \"67\": 1, \"43\": 1}, \"105\": {\"105\": 12}, \"40\": {\"40\": 12}, \"93\": {\"93\": 12}, \"98\": {\"98\": 12}, \"10\": {\"10\": 12}, \"3\": {\"3\": 12}, \"19\": {\"31\": 1, \"19\": 11}, \"31\": {\"31\": 12}, \"0\": {\"0\": 12}, \"118\": {\"118\": 12}, \"87\": {\"87\": 11, \"21\": 1}, \"58\": {\"58\": 12}, \"72\": {\"72\": 12}, \"129\": {\"129\": 12}, \"92\": {\"92\": 12}, \"39\": {\"39\": 8, \"123\": 1, \"81\": 1}, \"28\": {\"28\": 12}, \"29\": {\"29\": 12}, \"84\": {\"84\": 12}, \"102\": {\"102\": 12}, \"71\": {\"71\": 12}, \"100\": {\"100\": 12}, \"73\": {\"73\": 10, \"30\": 1, \"13\": 1}, \"16\": {\"16\": 12}, \"125\": {\"125\": 12}, \"21\": {\"21\": 12}, \"96\": {\"96\": 12}, \"4\": {\"4\": 12}, \"57\": {\"57\": 12}, \"126\": {\"126\": 12}, \"101\": {\"101\": 12}, \"122\": {\"122\": 12}, \"77\": {\"77\": 12}, \"56\": {\"56\": 12}, \"85\": {\"85\": 12}, \"70\": {\"70\": 12}, \"69\": {\"69\": 11, \"121\": 1}, \"106\": {\"106\": 12}, \"42\": {\"42\": 10, \"49\": 1, \"83\": 1}, \"24\": {\"24\": 12}, \"120\": {\"91\": 1, \"120\": 9}, \"108\": {\"108\": 10}, \"61\": {\"24\": 1, \"61\": 11}, \"91\": {\"91\": 10, \"6\": 2}, \"30\": {\"30\": 12}, \"114\": {\"114\": 10, \"5\": 2}, \"46\": {\"46\": 10}, \"124\": {\"124\": 10}, \"38\": {\"38\": 11, \"86\": 1}, \"51\": {\"51\": 12}, \"88\": {\"88\": 12}, \"112\": {\"112\": 11, \"43\": 1}, \"37\": {\"37\": 12}, \"36\": {\"36\": 11, \"27\": 1}, \"26\": {\"26\": 12}, \"45\": {\"45\": 11, \"82\": 1}, \"23\": {\"23\": 11, \"122\": 1}, \"43\": {\"21\": 1, \"43\": 7, \"121\": 1, \"33\": 1}, \"119\": {\"119\": 12}, \"95\": {\"95\": 12}, \"62\": {\"62\": 11, \"101\": 1}, \"7\": {\"7\": 12}, \"41\": {\"41\": 12}, \"67\": {\"67\": 10, \"25\": 1, \"70\": 1}, \"50\": {\"50\": 12}, \"9\": {\"9\": 12}, \"82\": {\"82\": 11, \"61\": 1}, \"81\": {\"81\": 11, \"80\": 1}, \"97\": {\"97\": 12}, \"13\": {\"13\": 8, \"19\": 2, \"80\": 1, \"78\": 1}, \"55\": {\"55\": 12}, \"75\": {\"75\": 12}, \"53\": {\"53\": 11, \"121\": 1}, \"111\": {\"111\": 11, \"47\": 1}, \"44\": {\"44\": 12}, \"35\": {\"35\": 12}, \"5\": {\"5\": 12}, \"90\": {\"90\": 10}, \"33\": {\"33\": 12}, \"83\": {\"83\": 12}, \"65\": {\"65\": 11, \"37\": 1}, \"8\": {\"8\": 10}, \"60\": {\"60\": 12}, \"34\": {\"34\": 12}, \"109\": {\"109\": 12}, \"76\": {\"76\": 11, \"65\": 1}, \"32\": {\"32\": 11, \"55\": 1}, \"68\": {\"68\": 12}, \"18\": {\"18\": 12}, \"116\": {\"116\": 11, \"28\": 1}, \"128\": {\"128\": 12}, \"115\": {\"115\": 10}, \"113\": {\"113\": 7, \"67\": 1}, \"48\": {\"48\": 11, \"95\": 1}, \"104\": {\"104\": 10, \"25\": 2}, \"121\": {\"60\": 1, \"121\": 11}, \"107\": {\"107\": 12}, \"25\": {\"25\": 12}, \"12\": {\"12\": 11, \"15\": 1}, \"6\": {\"6\": 11, \"125\": 1}, \"54\": {\"54\": 12}, \"11\": {\"11\": 12}, \"59\": {\"59\": 12}, \"86\": {\"86\": 10, \"4\": 2}, \"66\": {\"66\": 12}, \"99\": {\"99\": 12}, \"15\": {\"15\": 11, \"97\": 1}, \"74\": {\"74\": 11, \"32\": 1}, \"20\": {\"20\": 12}, \"52\": {\"52\": 12}}, \"W_A_4\": {\"113\": {\"113\": 12}, \"85\": {\"85\": 12}, \"34\": {\"34\": 11, \"96\": 1}, \"55\": {\"55\": 12}, \"42\": {\"42\": 11, \"13\": 1}, \"13\": {\"13\": 11, \"65\": 1}, \"69\": {\"69\": 12}, \"35\": {\"35\": 12}, \"83\": {\"83\": 10, \"21\": 1, \"108\": 1}, \"51\": {\"51\": 8, \"125\": 1, \"78\": 1, \"10\": 2}, \"72\": {\"72\": 12}, \"24\": {\"24\": 10, \"97\": 2}, \"53\": {\"51\": 1, \"53\": 10, \"88\": 1}, \"8\": {\"8\": 12}, \"49\": {\"49\": 12}, \"21\": {\"21\": 12}, \"18\": {\"18\": 12}, \"114\": {\"114\": 12}, \"58\": {\"58\": 10, \"91\": 2}, \"56\": {\"56\": 12}, \"80\": {\"80\": 12}, \"11\": {\"11\": 12}, \"15\": {\"15\": 12}, \"50\": {\"50\": 10, \"21\": 1, \"96\": 1}, \"111\": {\"111\": 12}, \"108\": {\"108\": 9, \"58\": 1, \"93\": 2}, \"104\": {\"104\": 11, \"76\": 1}, \"32\": {\"32\": 7, \"56\": 1}, \"68\": {\"68\": 12}, \"73\": {\"73\": 10}, \"92\": {\"21\": 1, \"92\": 11}, \"57\": {\"34\": 1, \"57\": 11}, \"40\": {\"40\": 12}, \"71\": {\"71\": 12}, \"121\": {\"83\": 2, \"121\": 8, \"28\": 1, \"89\": 1}, \"62\": {\"62\": 10, \"89\": 1, \"113\": 1}, \"39\": {\"39\": 12}, \"107\": {\"107\": 10}, \"109\": {\"109\": 12}, \"103\": {\"60\": 1, \"103\": 10, \"78\": 1}, \"101\": {\"101\": 12}, \"23\": {\"86\": 1, \"23\": 8, \"121\": 1, \"105\": 1, \"7\": 1}, \"60\": {\"60\": 12}, \"123\": {\"123\": 12}, \"19\": {\"19\": 12}, \"0\": {\"0\": 12}, \"31\": {\"31\": 12}, \"81\": {\"81\": 12}, \"61\": {\"61\": 12}, \"86\": {\"86\": 12}, \"94\": {\"94\": 11, \"126\": 1}, \"99\": {\"99\": 12}, \"47\": {\"47\": 12}, \"112\": {\"112\": 10, \"55\": 1, \"49\": 1}, \"87\": {\"87\": 12}, \"76\": {\"76\": 12}, \"36\": {\"94\": 1, \"36\": 9, \"15\": 1, \"97\": 1}, \"102\": {\"102\": 12}, \"44\": {\"99\": 1, \"87\": 1, \"44\": 9, \"80\": 1}, \"16\": {\"16\": 12}, \"33\": {\"33\": 12}, \"9\": {\"9\": 12}, \"30\": {\"30\": 10, \"22\": 1, \"21\": 1}, \"4\": {\"4\": 12}, \"88\": {\"88\": 10, \"73\": 1, \"108\": 1}, \"20\": {\"20\": 11, \"108\": 1}, \"3\": {\"3\": 11, \"21\": 1}, \"66\": {\"88\": 1, \"66\": 10, \"24\": 1}, \"1\": {\"1\": 10, \"13\": 1, \"44\": 1}, \"25\": {\"25\": 12}, \"77\": {\"77\": 12}, \"79\": {\"79\": 12}, \"7\": {\"7\": 12}, \"100\": {\"100\": 9, \"20\": 1, \"23\": 1, \"116\": 1}, \"126\": {\"126\": 11, \"39\": 1}, \"54\": {\"54\": 11, \"94\": 1}, \"82\": {\"82\": 9, \"6\": 1, \"122\": 1, \"85\": 1}, \"97\": {\"24\": 1, \"97\": 11}, \"105\": {\"87\": 2, \"105\": 9, \"82\": 1}, \"127\": {\"127\": 12}, \"89\": {\"89\": 12}, \"98\": {\"98\": 10}, \"46\": {\"19\": 1, \"46\": 9, \"5\": 1, \"23\": 1}, \"116\": {\"89\": 3, \"116\": 6, \"122\": 1, \"78\": 1, \"74\": 1}, \"37\": {\"37\": 12}, \"17\": {\"17\": 12}, \"90\": {\"90\": 12}, \"52\": {\"52\": 12}, \"6\": {\"6\": 12}, \"67\": {\"67\": 9, \"32\": 1, \"123\": 2}, \"5\": {\"5\": 12}, \"125\": {\"125\": 12}, \"128\": {\"128\": 11, \"22\": 1}, \"129\": {\"129\": 8, \"121\": 1, \"93\": 1, \"19\": 1, \"2\": 1}, \"75\": {\"75\": 12}, \"84\": {\"84\": 11, \"10\": 1}, \"74\": {\"74\": 11, \"46\": 1}, \"22\": {\"22\": 12}, \"10\": {\"30\": 3, \"22\": 1, \"10\": 6, \"27\": 1, \"85\": 1}, \"96\": {\"96\": 9, \"22\": 1, \"65\": 1, \"39\": 1}, \"29\": {\"29\": 12}, \"28\": {\"28\": 12}, \"45\": {\"45\": 12}, \"117\": {\"117\": 12}, \"63\": {\"63\": 12}, \"41\": {\"41\": 12}, \"12\": {\"12\": 12}, \"95\": {\"95\": 11, \"127\": 1}, \"119\": {\"119\": 12}, \"27\": {\"27\": 8}, \"2\": {\"2\": 11, \"81\": 1}, \"122\": {\"122\": 11, \"78\": 1}, \"26\": {\"26\": 12}, \"78\": {\"122\": 1, \"78\": 10, \"62\": 1}, \"93\": {\"93\": 12}, \"118\": {\"118\": 12}, \"124\": {\"124\": 12}, \"14\": {\"14\": 12}, \"48\": {\"48\": 12}, \"65\": {\"65\": 12}, \"120\": {\"120\": 12}, \"43\": {\"43\": 12}, \"106\": {\"78\": 1, \"106\": 10, \"44\": 1}, \"110\": {\"110\": 9, \"78\": 1, \"43\": 2}, \"64\": {\"64\": 12}, \"38\": {\"38\": 10}, \"115\": {\"115\": 5, \"64\": 1, \"91\": 1, \"50\": 1, \"72\": 2}, \"70\": {\"70\": 10}, \"59\": {\"59\": 10}, \"91\": {\"91\": 8, \"37\": 1, \"108\": 1}}, \"C_A_4\": {\"42\": {\"42\": 12}, \"0\": {\"0\": 10}, \"1\": {\"1\": 12}, \"39\": {\"39\": 12}, \"28\": {\"28\": 10}, \"53\": {\"53\": 12}, \"19\": {\"19\": 12}, \"34\": {\"34\": 12}, \"33\": {\"33\": 12}, \"32\": {\"32\": 12}, \"10\": {\"10\": 12}, \"46\": {\"46\": 9, \"47\": 3}, \"20\": {\"20\": 8}, \"5\": {\"5\": 10}, \"40\": {\"40\": 12}, \"51\": {\"51\": 12}, \"37\": {\"37\": 12}, \"17\": {\"17\": 12}, \"45\": {\"45\": 12}, \"13\": {\"13\": 12}, \"27\": {\"27\": 12}, \"24\": {\"24\": 8}, \"30\": {\"30\": 12}, \"31\": {\"31\": 10}, \"41\": {\"41\": 10}, \"36\": {\"36\": 12}, \"16\": {\"16\": 10}, \"22\": {\"22\": 12}, \"44\": {\"44\": 12}, \"9\": {\"9\": 12}, \"57\": {\"57\": 11, \"29\": 1}, \"8\": {\"8\": 10}, \"23\": {\"23\": 10}, \"47\": {\"47\": 12}, \"43\": {\"43\": 12}, \"49\": {\"49\": 12}, \"3\": {\"3\": 11, \"6\": 1}, \"12\": {\"12\": 12}, \"38\": {\"38\": 12}, \"7\": {\"7\": 12}, \"26\": {\"26\": 12}, \"29\": {\"29\": 12}, \"48\": {\"48\": 10}, \"56\": {\"56\": 12}, \"15\": {\"15\": 11, \"11\": 1}, \"50\": {\"50\": 12}, \"2\": {\"2\": 10}, \"55\": {\"55\": 10}, \"21\": {\"21\": 12}, \"52\": {\"52\": 12}, \"18\": {\"18\": 12}, \"14\": {\"14\": 11, \"38\": 1}, \"35\": {\"35\": 8}, \"4\": {\"4\": 10}, \"25\": {\"25\": 8}, \"11\": {\"11\": 6}, \"54\": {\"54\": 6}, \"6\": {\"6\": 7, \"3\": 1}}, \"W_A_2\": {\"115\": {\"115\": 11, \"24\": 1}, \"34\": {\"34\": 9, \"66\": 1}, \"97\": {\"97\": 12}, \"100\": {\"100\": 11, \"7\": 1}, \"129\": {\"129\": 10}, \"90\": {\"90\": 12}, \"125\": {\"125\": 12}, \"7\": {\"7\": 12}, \"92\": {\"92\": 11, \"89\": 1}, \"114\": {\"114\": 8, \"7\": 1, \"128\": 1, \"5\": 1, \"39\": 1}, \"80\": {\"80\": 12}, \"16\": {\"16\": 11, \"94\": 1}, \"69\": {\"69\": 9, \"7\": 1, \"84\": 1, \"14\": 1}, \"102\": {\"102\": 10, \"26\": 2}, \"33\": {\"33\": 12}, \"17\": {\"17\": 9, \"21\": 1, \"43\": 1, \"22\": 1}, \"61\": {\"61\": 10, \"22\": 2}, \"48\": {\"48\": 12}, \"91\": {\"79\": 1, \"91\": 11}, \"84\": {\"84\": 12}, \"50\": {\"50\": 10, \"42\": 1, \"2\": 1}, \"2\": {\"2\": 10, \"93\": 1, \"128\": 1}, \"46\": {\"46\": 12}, \"56\": {\"56\": 12}, \"86\": {\"86\": 12}, \"11\": {\"11\": 11, \"43\": 1}, \"118\": {\"118\": 11, \"87\": 1}, \"79\": {\"79\": 12}, \"22\": {\"22\": 11, \"70\": 1}, \"109\": {\"109\": 12}, \"62\": {\"62\": 11, \"21\": 1}, \"8\": {\"8\": 12}, \"24\": {\"36\": 4, \"24\": 8}, \"10\": {\"10\": 12}, \"87\": {\"87\": 10, \"7\": 1, \"94\": 1}, \"4\": {\"4\": 12}, \"105\": {\"105\": 12}, \"20\": {\"20\": 12}, \"28\": {\"28\": 12}, \"27\": {\"24\": 1, \"36\": 2, \"27\": 9}, \"89\": {\"89\": 12}, \"36\": {\"27\": 1, \"36\": 9, \"24\": 1, \"107\": 1}, \"45\": {\"10\": 1, \"45\": 10, \"23\": 1}, \"31\": {\"31\": 12}, \"110\": {\"107\": 2, \"110\": 8, \"12\": 1, \"112\": 1}, \"3\": {\"3\": 8}, \"107\": {\"107\": 12}, \"117\": {\"81\": 1, \"117\": 11}, \"21\": {\"21\": 12}, \"66\": {\"66\": 11, \"14\": 1}, \"82\": {\"82\": 8}, \"99\": {\"99\": 11, \"10\": 1}, \"81\": {\"81\": 12}, \"42\": {\"42\": 11, \"7\": 1}, \"26\": {\"26\": 11, \"102\": 1}, \"64\": {\"64\": 12}, \"74\": {\"74\": 12}, \"119\": {\"119\": 9, \"11\": 2, \"88\": 1}, \"71\": {\"71\": 12}, \"93\": {\"93\": 12}, \"18\": {\"18\": 11, \"88\": 1}, \"30\": {\"30\": 12}, \"96\": {\"96\": 12}, \"25\": {\"25\": 12}, \"88\": {\"88\": 9, \"40\": 1}, \"103\": {\"103\": 12}, \"116\": {\"116\": 12}, \"67\": {\"67\": 10, \"61\": 1, \"113\": 1}, \"1\": {\"1\": 12}, \"101\": {\"101\": 12}, \"23\": {\"23\": 10, \"61\": 1, \"7\": 1}, \"57\": {\"57\": 12}, \"83\": {\"83\": 12}, \"122\": {\"122\": 10, \"4\": 1, \"128\": 1}, \"127\": {\"127\": 12}, \"108\": {\"108\": 12}, \"124\": {\"124\": 12}, \"112\": {\"108\": 1, \"112\": 8, \"53\": 1, \"73\": 1, \"47\": 1}, \"70\": {\"70\": 9, \"43\": 1, \"21\": 2}, \"14\": {\"14\": 11, \"69\": 1}, \"53\": {\"53\": 12}, \"121\": {\"121\": 11, \"41\": 1}, \"40\": {\"40\": 11, \"41\": 1}, \"15\": {\"15\": 12}, \"37\": {\"37\": 12}, \"73\": {\"73\": 12}, \"52\": {\"52\": 10, \"14\": 1, \"22\": 1}, \"123\": {\"123\": 12}, \"44\": {\"44\": 12}, \"111\": {\"111\": 12}, \"43\": {\"43\": 10, \"88\": 1, \"122\": 1}, \"19\": {\"19\": 12}, \"38\": {\"38\": 11, \"49\": 1}, \"39\": {\"39\": 12}, \"59\": {\"59\": 12}, \"6\": {\"6\": 11, \"58\": 1}, \"47\": {\"61\": 1, \"47\": 8, \"59\": 1, \"107\": 1, \"128\": 1}, \"58\": {\"58\": 11, \"59\": 1}, \"51\": {\"51\": 9, \"22\": 1, \"116\": 1, \"9\": 1}, \"60\": {\"60\": 10, \"116\": 2}, \"12\": {\"12\": 10, \"106\": 1, \"122\": 1}, \"98\": {\"98\": 12}, \"0\": {\"0\": 11, \"6\": 1}, \"128\": {\"128\": 11, \"59\": 1}, \"29\": {\"29\": 10, \"14\": 1, \"109\": 1}, \"13\": {\"13\": 12}, \"72\": {\"72\": 9, \"24\": 1, \"95\": 1, \"78\": 1}, \"104\": {\"104\": 12}, \"5\": {\"5\": 12}, \"49\": {\"49\": 12}, \"77\": {\"77\": 12}, \"106\": {\"106\": 12}, \"120\": {\"120\": 12}, \"41\": {\"41\": 12}, \"55\": {\"55\": 12}, \"113\": {\"113\": 12}, \"68\": {\"68\": 12}, \"9\": {\"9\": 12}, \"95\": {\"95\": 11, \"113\": 1}, \"63\": {\"63\": 10, \"49\": 1, \"39\": 1}, \"85\": {\"85\": 12}, \"65\": {\"65\": 10, \"23\": 1, \"78\": 1}, \"126\": {\"126\": 12}, \"78\": {\"78\": 11, \"60\": 1}, \"32\": {\"28\": 1, \"32\": 11}, \"35\": {\"35\": 12}, \"54\": {\"54\": 12}, \"76\": {\"76\": 10}, \"94\": {\"94\": 9, \"118\": 1}, \"75\": {\"75\": 6}}, \"C_A_5\": {\"43\": {\"43\": 6}, \"35\": {\"35\": 12}, \"54\": {\"54\": 12}, \"22\": {\"22\": 12}, \"16\": {\"16\": 8}, \"5\": {\"5\": 12}, \"28\": {\"28\": 12}, \"14\": {\"14\": 9, \"43\": 1, \"41\": 1, \"31\": 1}, \"51\": {\"51\": 8}, \"19\": {\"19\": 12}, \"31\": {\"31\": 12}, \"10\": {\"10\": 12}, \"21\": {\"21\": 12}, \"3\": {\"3\": 12}, \"57\": {\"57\": 12}, \"9\": {\"9\": 12}, \"8\": {\"8\": 12}, \"46\": {\"46\": 10}, \"23\": {\"23\": 12}, \"37\": {\"37\": 12}, \"34\": {\"34\": 12}, \"4\": {\"4\": 12}, \"6\": {\"6\": 11, \"23\": 1}, \"48\": {\"48\": 12}, \"44\": {\"44\": 11, \"28\": 1}, \"40\": {\"40\": 12}, \"12\": {\"12\": 12}, \"30\": {\"30\": 12}, \"39\": {\"39\": 10}, \"45\": {\"45\": 12}, \"36\": {\"36\": 12}, \"27\": {\"27\": 12}, \"32\": {\"32\": 10}, \"52\": {\"52\": 12}, \"0\": {\"0\": 12}, \"26\": {\"26\": 8}, \"47\": {\"47\": 12}, \"17\": {\"17\": 10}, \"2\": {\"2\": 10}, \"56\": {\"56\": 8}, \"38\": {\"38\": 12}, \"50\": {\"50\": 8, \"25\": 1, \"26\": 1}, \"20\": {\"20\": 12}, \"1\": {\"1\": 12}, \"24\": {\"24\": 12}, \"33\": {\"33\": 8}, \"13\": {\"13\": 12}, \"41\": {\"41\": 12}, \"49\": {\"49\": 12}, \"11\": {\"11\": 10}, \"42\": {\"42\": 12}, \"7\": {\"7\": 12}, \"29\": {\"29\": 8, \"31\": 2, \"44\": 2}, \"18\": {\"18\": 8}, \"55\": {\"55\": 8}, \"53\": {\"53\": 9, \"21\": 1}, \"25\": {\"25\": 10}, \"15\": {\"15\": 7, \"11\": 1}}, \"W_A_1\": {\"0\": {\"0\": 12}, \"93\": {\"93\": 11, \"28\": 1}, \"18\": {\"83\": 1, \"18\": 11}, \"111\": {\"111\": 12}, \"108\": {\"108\": 12}, \"8\": {\"8\": 10, \"52\": 1, \"78\": 1}, \"64\": {\"64\": 12}, \"83\": {\"83\": 12}, \"32\": {\"32\": 12}, \"69\": {\"69\": 10}, \"7\": {\"7\": 10}, \"70\": {\"70\": 11, \"21\": 1}, \"88\": {\"88\": 11, \"97\": 1}, \"107\": {\"107\": 10}, \"60\": {\"83\": 2, \"2\": 1, \"60\": 7, \"42\": 1, \"35\": 1}, \"85\": {\"85\": 12}, \"91\": {\"91\": 11, \"58\": 1}, \"109\": {\"109\": 12}, \"105\": {\"105\": 8, \"4\": 2, \"40\": 2}, \"129\": {\"115\": 1, \"129\": 11}, \"92\": {\"92\": 12}, \"9\": {\"9\": 12}, \"103\": {\"103\": 12}, \"14\": {\"14\": 10, \"97\": 1, \"88\": 1}, \"115\": {\"115\": 10, \"92\": 1, \"41\": 1}, \"5\": {\"5\": 10, \"28\": 1, \"24\": 1}, \"84\": {\"84\": 12}, \"49\": {\"49\": 11, \"46\": 1}, \"87\": {\"87\": 11, \"4\": 1}, \"42\": {\"42\": 9, \"2\": 1, \"60\": 1, \"115\": 1}, \"2\": {\"2\": 12}, \"20\": {\"20\": 12}, \"75\": {\"75\": 11, \"59\": 1}, \"59\": {\"2\": 1, \"59\": 8, \"92\": 1}, \"22\": {\"85\": 1, \"22\": 11}, \"38\": {\"38\": 12}, \"63\": {\"63\": 12}, \"101\": {\"101\": 12}, \"15\": {\"15\": 10, \"68\": 1, \"94\": 1}, \"53\": {\"53\": 12}, \"110\": {\"110\": 12}, \"78\": {\"78\": 12}, \"10\": {\"10\": 12}, \"55\": {\"55\": 12}, \"94\": {\"94\": 11, \"86\": 1}, \"39\": {\"39\": 12}, \"58\": {\"58\": 8, \"54\": 1, \"56\": 1, \"12\": 1, \"125\": 1}, \"40\": {\"40\": 11, \"105\": 1}, \"46\": {\"46\": 10, \"94\": 1, \"91\": 1}, \"35\": {\"35\": 12}, \"68\": {\"68\": 12}, \"114\": {\"114\": 12}, \"56\": {\"56\": 11, \"30\": 1}, \"37\": {\"37\": 12}, \"57\": {\"57\": 12}, \"43\": {\"43\": 8}, \"82\": {\"82\": 12}, \"30\": {\"30\": 12}, \"31\": {\"31\": 12}, \"12\": {\"12\": 12}, \"89\": {\"89\": 12}, \"21\": {\"21\": 9, \"83\": 1, \"87\": 1, \"65\": 1}, \"116\": {\"116\": 12}, \"34\": {\"83\": 2, \"34\": 9, \"98\": 1}, \"73\": {\"73\": 10}, \"102\": {\"102\": 11, \"122\": 1}, \"26\": {\"26\": 12}, \"121\": {\"121\": 12}, \"72\": {\"72\": 12}, \"61\": {\"61\": 12}, \"90\": {\"90\": 12}, \"86\": {\"86\": 12}, \"23\": {\"23\": 10, \"32\": 2}, \"28\": {\"28\": 12}, \"54\": {\"54\": 12}, \"29\": {\"29\": 12}, \"66\": {\"66\": 10}, \"127\": {\"127\": 12}, \"24\": {\"24\": 12}, \"47\": {\"47\": 11, \"100\": 1}, \"19\": {\"45\": 1, \"19\": 9, \"104\": 2}, \"106\": {\"106\": 12}, \"45\": {\"45\": 8, \"61\": 1, \"23\": 1, \"65\": 1, \"22\": 1}, \"117\": {\"117\": 12}, \"25\": {\"25\": 12}, \"118\": {\"118\": 12}, \"6\": {\"6\": 12}, \"3\": {\"3\": 12}, \"11\": {\"11\": 12}, \"33\": {\"33\": 12}, \"81\": {\"81\": 12}, \"125\": {\"125\": 12}, \"98\": {\"98\": 12}, \"65\": {\"60\": 2, \"65\": 6, \"30\": 1, \"57\": 1, \"122\": 2}, \"119\": {\"119\": 12}, \"128\": {\"128\": 12}, \"71\": {\"71\": 7, \"76\": 1}, \"123\": {\"123\": 8}, \"4\": {\"4\": 12}, \"41\": {\"41\": 12}, \"67\": {\"67\": 11, \"80\": 1}, \"95\": {\"95\": 12}, \"100\": {\"100\": 12}, \"17\": {\"17\": 12}, \"113\": {\"113\": 12}, \"122\": {\"122\": 12}, \"27\": {\"27\": 11, \"88\": 1}, \"79\": {\"79\": 12}, \"16\": {\"16\": 12}, \"112\": {\"112\": 11, \"92\": 1}, \"1\": {\"1\": 12}, \"124\": {\"124\": 12}, \"36\": {\"36\": 8}, \"76\": {\"76\": 12}, \"96\": {\"96\": 12}, \"80\": {\"80\": 10, \"67\": 2}, \"74\": {\"74\": 11, \"55\": 1}, \"99\": {\"99\": 12}, \"51\": {\"51\": 12}, \"126\": {\"126\": 10}, \"104\": {\"104\": 10}, \"97\": {\"97\": 9, \"88\": 1, \"73\": 1, \"27\": 1}, \"50\": {\"50\": 12}, \"52\": {\"52\": 12}, \"48\": {\"48\": 12}, \"77\": {\"77\": 8}, \"120\": {\"120\": 8}, \"44\": {\"44\": 8}, \"13\": {\"13\": 6}, \"62\": {\"62\": 6}}, \"C_A_2\": {\"49\": {\"49\": 10}, \"13\": {\"13\": 10}, \"37\": {\"37\": 12}, \"41\": {\"41\": 10}, \"15\": {\"15\": 12}, \"56\": {\"56\": 12}, \"14\": {\"14\": 12}, \"3\": {\"3\": 12}, \"38\": {\"38\": 12}, \"43\": {\"43\": 12}, \"33\": {\"33\": 12}, \"47\": {\"47\": 12}, \"30\": {\"30\": 12}, \"39\": {\"39\": 12}, \"12\": {\"12\": 11, \"6\": 1}, \"6\": {\"6\": 10, \"15\": 2}, \"51\": {\"51\": 10}, \"5\": {\"5\": 12}, \"34\": {\"5\": 2, \"34\": 10}, \"35\": {\"35\": 12}, \"0\": {\"0\": 12}, \"7\": {\"7\": 8}, \"24\": {\"24\": 12}, \"8\": {\"8\": 10}, \"20\": {\"20\": 10}, \"36\": {\"36\": 12}, \"42\": {\"42\": 12}, \"1\": {\"1\": 12}, \"4\": {\"4\": 8}, \"28\": {\"28\": 12}, \"50\": {\"50\": 10}, \"45\": {\"45\": 10}, \"18\": {\"18\": 12}, \"57\": {\"57\": 10}, \"46\": {\"46\": 9, \"15\": 1}, \"48\": {\"48\": 8}, \"22\": {\"22\": 12}, \"31\": {\"31\": 12}, \"44\": {\"44\": 12}, \"2\": {\"2\": 12}, \"55\": {\"55\": 12}, \"32\": {\"32\": 10}, \"9\": {\"9\": 12}, \"27\": {\"27\": 12}, \"52\": {\"52\": 12}, \"40\": {\"40\": 10}, \"23\": {\"23\": 11, \"2\": 1}, \"17\": {\"17\": 12}, \"10\": {\"10\": 12}, \"26\": {\"26\": 12}, \"11\": {\"11\": 10}, \"53\": {\"53\": 10}, \"16\": {\"16\": 12}, \"25\": {\"25\": 9, \"49\": 1}, \"21\": {\"21\": 8}, \"54\": {\"54\": 10}, \"19\": {\"19\": 8}, \"29\": {\"29\": 8}}, \"C_A_1\": {\"57\": {\"57\": 12}, \"24\": {\"24\": 11, \"22\": 1}, \"22\": {\"22\": 12}, \"17\": {\"17\": 12}, \"39\": {\"39\": 12}, \"12\": {\"12\": 12}, \"14\": {\"6\": 2, \"14\": 9, \"30\": 1}, \"35\": {\"35\": 12}, \"46\": {\"46\": 12}, \"27\": {\"27\": 12}, \"19\": {\"19\": 12}, \"10\": {\"10\": 11, \"11\": 1}, \"11\": {\"11\": 12}, \"18\": {\"18\": 8}, \"6\": {\"6\": 11, \"2\": 1}, \"30\": {\"30\": 12}, \"45\": {\"45\": 12}, \"8\": {\"8\": 12}, \"9\": {\"9\": 12}, \"33\": {\"33\": 10}, \"56\": {\"56\": 12}, \"52\": {\"52\": 12}, \"53\": {\"53\": 12}, \"41\": {\"41\": 12}, \"32\": {\"32\": 12}, \"7\": {\"7\": 8}, \"3\": {\"3\": 9, \"55\": 1}, \"49\": {\"49\": 10}, \"54\": {\"54\": 12}, \"44\": {\"44\": 10}, \"28\": {\"28\": 10}, \"51\": {\"51\": 12}, \"21\": {\"21\": 10}, \"4\": {\"4\": 6}, \"43\": {\"43\": 12}, \"47\": {\"47\": 10}, \"23\": {\"23\": 12}, \"36\": {\"36\": 12}, \"48\": {\"48\": 12}, \"29\": {\"29\": 10}, \"31\": {\"31\": 12}, \"20\": {\"20\": 12}, \"5\": {\"5\": 10}, \"50\": {\"50\": 8}, \"38\": {\"38\": 10}, \"1\": {\"1\": 10}, \"37\": {\"37\": 12}, \"25\": {\"25\": 12}, \"26\": {\"26\": 12}, \"34\": {\"34\": 12}, \"55\": {\"55\": 10}, \"16\": {\"16\": 12}, \"42\": {\"42\": 10}, \"40\": {\"40\": 10}, \"15\": {\"15\": 8}, \"2\": {\"2\": 10}, \"0\": {\"0\": 10}, \"13\": {\"13\": 10}}, \"C_A_3\": {\"20\": {\"20\": 10}, \"24\": {\"24\": 12}, \"6\": {\"6\": 12}, \"10\": {\"10\": 10}, \"52\": {\"52\": 12}, \"46\": {\"46\": 12}, \"35\": {\"35\": 12}, \"15\": {\"15\": 12}, \"5\": {\"5\": 12}, \"53\": {\"53\": 10}, \"37\": {\"37\": 12}, \"1\": {\"1\": 12}, \"3\": {\"3\": 12}, \"33\": {\"33\": 12}, \"0\": {\"0\": 11, \"34\": 1}, \"56\": {\"56\": 12}, \"45\": {\"45\": 12}, \"9\": {\"9\": 11, \"30\": 1}, \"43\": {\"43\": 12}, \"57\": {\"29\": 2, \"57\": 10}, \"54\": {\"54\": 12}, \"48\": {\"48\": 10}, \"38\": {\"38\": 12}, \"29\": {\"29\": 10}, \"47\": {\"47\": 12}, \"19\": {\"19\": 12}, \"17\": {\"17\": 12}, \"27\": {\"27\": 10}, \"42\": {\"42\": 10}, \"44\": {\"44\": 10}, \"49\": {\"49\": 12}, \"4\": {\"4\": 12}, \"41\": {\"41\": 12}, \"8\": {\"8\": 10}, \"13\": {\"13\": 12}, \"55\": {\"55\": 10}, \"7\": {\"7\": 10}, \"14\": {\"14\": 12}, \"26\": {\"26\": 12}, \"30\": {\"30\": 12}, \"34\": {\"34\": 10}, \"11\": {\"11\": 8}, \"40\": {\"40\": 10}, \"2\": {\"2\": 10}, \"51\": {\"51\": 12}, \"16\": {\"16\": 10}, \"36\": {\"36\": 10}, \"31\": {\"31\": 8}, \"21\": {\"21\": 12}, \"12\": {\"12\": 11, \"2\": 1}, \"22\": {\"22\": 12}, \"18\": {\"18\": 12}, \"32\": {\"32\": 12}, \"50\": {\"50\": 10}, \"25\": {\"25\": 8}, \"39\": {\"39\": 10}, \"28\": {\"28\": 10}, \"23\": {\"23\": 6}}, \"ORACLE.run1_14\": {\"15\": {\"7\": 43, \"15\": 65, \"2\": 13, \"1\": 17, \"5\": 10, \"6\": 17, \"13\": 23, \"14\": 7, \"4\": 27, \"0\": 5, \"10\": 3, \"3\": 9, \"8\": 1}, \"5\": {\"1\": 17, \"13\": 19, \"9\": 7, \"5\": 23, \"6\": 13, \"4\": 30, \"15\": 17, \"7\": 24, \"10\": 13, \"8\": 16, \"0\": 15, \"3\": 20, \"2\": 12, \"14\": 11, \"11\": 3}, \"7\": {\"15\": 50, \"3\": 12, \"5\": 21, \"7\": 55, \"6\": 9, \"4\": 26, \"8\": 6, \"13\": 7, \"10\": 3, \"1\": 27, \"11\": 1, \"2\": 9, \"0\": 6, \"9\": 1, \"14\": 7}, \"4\": {\"11\": 2, \"2\": 15, \"7\": 28, \"4\": 31, \"1\": 20, \"5\": 31, \"6\": 11, \"10\": 16, \"15\": 12, \"13\": 14, \"9\": 6, \"3\": 23, \"14\": 9, \"0\": 11, \"8\": 9, \"12\": 2}, \"10\": {\"13\": 15, \"3\": 28, \"10\": 27, \"9\": 22, \"15\": 1, \"0\": 16, \"5\": 16, \"12\": 6, \"11\": 26, \"1\": 12, \"4\": 19, \"2\": 18, \"6\": 13, \"14\": 8, \"8\": 11, \"7\": 2}, \"11\": {\"1\": 2, \"11\": 49, \"6\": 8, \"3\": 18, \"9\": 25, \"14\": 18, \"12\": 23, \"0\": 41, \"10\": 21, \"2\": 9, \"8\": 10, \"5\": 6, \"13\": 7, \"4\": 2, \"7\": 1}, \"12\": {\"11\": 41, \"12\": 92, \"3\": 5, \"9\": 55, \"8\": 17, \"10\": 11, \"0\": 16, \"4\": 1, \"1\": 1, \"2\": 1}, \"0\": {\"0\": 32, \"10\": 31, \"9\": 23, \"3\": 14, \"8\": 13, \"11\": 28, \"4\": 22, \"14\": 13, \"6\": 7, \"1\": 8, \"2\": 19, \"13\": 12, \"5\": 7, \"12\": 10, \"7\": 1}, \"14\": {\"5\": 12, \"14\": 34, \"6\": 23, \"2\": 34, \"15\": 3, \"0\": 25, \"1\": 8, \"13\": 24, \"3\": 15, \"11\": 12, \"4\": 16, \"10\": 24, \"7\": 5, \"9\": 3, \"12\": 2}, \"8\": {\"2\": 3, \"4\": 20, \"8\": 79, \"5\": 15, \"1\": 27, \"0\": 16, \"3\": 9, \"9\": 32, \"11\": 13, \"12\": 13, \"10\": 6, \"13\": 1, \"14\": 1, \"15\": 2, \"7\": 3}, \"13\": {\"13\": 49, \"15\": 7, \"4\": 18, \"14\": 33, \"2\": 30, \"3\": 19, \"6\": 26, \"5\": 13, \"11\": 4, \"0\": 9, \"10\": 13, \"7\": 10, \"9\": 2, \"1\": 5, \"8\": 2}, \"6\": {\"0\": 8, \"5\": 14, \"6\": 50, \"4\": 13, \"1\": 8, \"3\": 19, \"14\": 28, \"2\": 35, \"7\": 5, \"10\": 15, \"13\": 34, \"11\": 2, \"15\": 9}, \"1\": {\"1\": 41, \"8\": 22, \"0\": 9, \"10\": 12, \"4\": 24, \"7\": 20, \"15\": 16, \"2\": 16, \"5\": 24, \"3\": 27, \"14\": 9, \"13\": 6, \"6\": 11, \"9\": 2, \"11\": 1}, \"3\": {\"0\": 17, \"14\": 21, \"7\": 8, \"11\": 11, \"15\": 5, \"2\": 17, \"4\": 21, \"5\": 27, \"6\": 9, \"1\": 22, \"13\": 19, \"10\": 22, \"3\": 30, \"8\": 5, \"9\": 4, \"12\": 2}, \"9\": {\"11\": 34, \"9\": 54, \"12\": 61, \"8\": 17, \"10\": 18, \"0\": 25, \"4\": 10, \"3\": 8, \"1\": 4, \"5\": 4, \"2\": 4, \"14\": 1}, \"2\": {\"13\": 21, \"2\": 24, \"6\": 25, \"10\": 19, \"1\": 14, \"4\": 18, \"3\": 21, \"0\": 13, \"5\": 30, \"14\": 25, \"7\": 9, \"11\": 6, \"8\": 4, \"15\": 7, \"9\": 4}}, \"ORACLE.run1_20\": {\"4\": {\"10\": 27, \"14\": 28, \"5\": 13, \"3\": 15, \"6\": 19, \"4\": 28, \"12\": 20, \"0\": 10, \"11\": 5, \"15\": 9, \"9\": 12, \"8\": 17, \"13\": 7, \"7\": 14, \"1\": 11, \"2\": 5}, \"10\": {\"14\": 24, \"5\": 14, \"10\": 31, \"4\": 27, \"6\": 21, \"12\": 11, \"0\": 13, \"3\": 13, \"15\": 5, \"1\": 5, \"7\": 23, \"8\": 30, \"13\": 9, \"9\": 10, \"2\": 4}, \"15\": {\"2\": 17, \"15\": 26, \"7\": 11, \"1\": 28, \"14\": 6, \"11\": 7, \"13\": 18, \"5\": 16, \"0\": 19, \"12\": 23, \"8\": 14, \"3\": 14, \"4\": 11, \"10\": 5, \"9\": 18, \"6\": 7}, \"0\": {\"2\": 16, \"10\": 9, \"15\": 21, \"4\": 14, \"1\": 23, \"11\": 5, \"7\": 17, \"5\": 20, \"3\": 14, \"0\": 24, \"8\": 12, \"9\": 21, \"13\": 16, \"6\": 8, \"12\": 13, \"14\": 7}, \"6\": {\"10\": 30, \"14\": 28, \"1\": 12, \"5\": 7, \"8\": 20, \"0\": 8, \"7\": 22, \"11\": 7, \"9\": 11, \"6\": 26, \"13\": 9, \"12\": 16, \"4\": 17, \"2\": 11, \"3\": 12, \"15\": 4}, \"3\": {\"8\": 12, \"10\": 15, \"5\": 13, \"2\": 18, \"7\": 13, \"4\": 17, \"11\": 6, \"0\": 11, \"13\": 14, \"9\": 27, \"15\": 16, \"1\": 18, \"3\": 18, \"6\": 9, \"14\": 12, \"12\": 21}, \"7\": {\"8\": 16, \"1\": 11, \"5\": 14, \"14\": 10, \"10\": 14, \"3\": 25, \"6\": 16, \"4\": 9, \"2\": 21, \"11\": 15, \"0\": 13, \"7\": 14, \"9\": 24, \"15\": 12, \"12\": 14, \"13\": 12}, \"2\": {\"1\": 18, \"11\": 18, \"5\": 13, \"6\": 13, \"3\": 16, \"12\": 22, \"10\": 11, \"2\": 19, \"7\": 20, \"9\": 18, \"8\": 11, \"0\": 14, \"4\": 15, \"13\": 14, \"15\": 14, \"14\": 4}, \"8\": {\"6\": 18, \"10\": 24, \"2\": 12, \"14\": 14, \"11\": 10, \"4\": 28, \"0\": 17, \"8\": 19, \"5\": 16, \"1\": 5, \"12\": 19, \"13\": 6, \"7\": 15, \"15\": 10, \"9\": 10, \"3\": 17}, \"11\": {\"6\": 21, \"1\": 18, \"2\": 24, \"7\": 17, \"11\": 41, \"5\": 11, \"0\": 12, \"13\": 23, \"8\": 7, \"9\": 17, \"15\": 17, \"4\": 5, \"12\": 12, \"14\": 6, \"3\": 7, \"10\": 2}, \"14\": {\"4\": 22, \"2\": 10, \"10\": 30, \"6\": 27, \"8\": 20, \"11\": 4, \"7\": 19, \"14\": 29, \"9\": 16, \"0\": 10, \"3\": 16, \"13\": 7, \"5\": 8, \"15\": 6, \"12\": 9, \"1\": 7}, \"12\": {\"14\": 7, \"9\": 15, \"12\": 20, \"5\": 20, \"3\": 18, \"7\": 20, \"13\": 20, \"2\": 23, \"1\": 19, \"11\": 9, \"10\": 10, \"6\": 16, \"15\": 15, \"8\": 6, \"0\": 9, \"4\": 13}, \"13\": {\"9\": 19, \"11\": 18, \"13\": 24, \"3\": 18, \"8\": 10, \"10\": 6, \"7\": 16, \"0\": 13, \"2\": 23, \"5\": 14, \"6\": 12, \"1\": 22, \"12\": 18, \"15\": 21, \"14\": 3, \"4\": 3}, \"9\": {\"10\": 11, \"2\": 17, \"11\": 15, \"4\": 13, \"7\": 16, \"12\": 24, \"1\": 14, \"15\": 12, \"13\": 17, \"5\": 16, \"9\": 21, \"3\": 17, \"8\": 11, \"0\": 16, \"6\": 16, \"14\": 4}, \"5\": {\"2\": 19, \"1\": 22, \"5\": 18, \"3\": 12, \"6\": 8, \"13\": 20, \"11\": 12, \"0\": 22, \"12\": 16, \"15\": 18, \"7\": 13, \"9\": 17, \"4\": 9, \"8\": 12, \"10\": 15, \"14\": 7}, \"1\": {\"2\": 13, \"10\": 4, \"15\": 22, \"13\": 26, \"14\": 6, \"5\": 22, \"9\": 19, \"1\": 21, \"11\": 8, \"3\": 16, \"0\": 25, \"7\": 20, \"12\": 17, \"4\": 5, \"6\": 8, \"8\": 8}}, \"ORACLE.run1_50\": {\"5\": {\"10\": 16, \"12\": 3, \"7\": 27, \"5\": 32, \"3\": 10, \"4\": 24, \"13\": 34, \"6\": 24, \"15\": 13, \"0\": 6, \"9\": 6, \"1\": 22, \"14\": 4, \"8\": 7, \"11\": 7, \"2\": 5}, \"12\": {\"14\": 50, \"11\": 28, \"7\": 1, \"2\": 13, \"12\": 71, \"6\": 7, \"4\": 7, \"5\": 4, \"9\": 36, \"15\": 4, \"0\": 5, \"10\": 2, \"1\": 11, \"8\": 1}, \"14\": {\"14\": 56, \"6\": 7, \"0\": 13, \"4\": 15, \"12\": 40, \"9\": 20, \"2\": 24, \"1\": 22, \"11\": 22, \"15\": 7, \"10\": 5, \"13\": 2, \"5\": 5, \"7\": 2}, \"4\": {\"1\": 26, \"7\": 17, \"13\": 22, \"4\": 37, \"5\": 27, \"15\": 31, \"10\": 9, \"9\": 12, \"2\": 6, \"14\": 7, \"6\": 18, \"11\": 17, \"0\": 6, \"3\": 1, \"12\": 4}, \"13\": {\"10\": 15, \"5\": 32, \"8\": 9, \"9\": 2, \"1\": 24, \"7\": 33, \"13\": 27, \"0\": 13, \"6\": 21, \"14\": 4, \"4\": 23, \"15\": 21, \"11\": 4, \"2\": 6, \"3\": 6}, \"10\": {\"0\": 34, \"10\": 37, \"8\": 41, \"6\": 10, \"2\": 21, \"1\": 11, \"3\": 18, \"7\": 22, \"4\": 10, \"14\": 1, \"5\": 12, \"13\": 18, \"9\": 1, \"12\": 2, \"15\": 1, \"11\": 1}, \"9\": {\"12\": 45, \"9\": 47, \"11\": 34, \"14\": 33, \"1\": 24, \"5\": 4, \"10\": 1, \"15\": 15, \"2\": 8, \"4\": 21, \"0\": 4, \"6\": 3, \"7\": 1}, \"15\": {\"10\": 8, \"1\": 37, \"15\": 40, \"5\": 21, \"4\": 30, \"9\": 11, \"6\": 25, \"11\": 23, \"14\": 9, \"7\": 15, \"0\": 2, \"13\": 14, \"2\": 2, \"12\": 3}, \"6\": {\"11\": 14, \"13\": 34, \"1\": 24, \"6\": 37, \"4\": 29, \"10\": 9, \"15\": 17, \"14\": 7, \"5\": 20, \"2\": 3, \"7\": 22, \"0\": 11, \"8\": 9, \"12\": 2, \"9\": 2}, \"2\": {\"2\": 59, \"14\": 28, \"10\": 25, \"5\": 3, \"8\": 12, \"11\": 3, \"7\": 7, \"0\": 49, \"15\": 3, \"4\": 6, \"1\": 18, \"6\": 4, \"12\": 17, \"13\": 3, \"3\": 1, \"9\": 2}, \"0\": {\"14\": 16, \"11\": 2, \"0\": 48, \"2\": 41, \"12\": 7, \"4\": 6, \"10\": 33, \"1\": 18, \"5\": 9, \"7\": 10, \"13\": 8, \"3\": 7, \"8\": 24, \"6\": 9, \"15\": 1, \"9\": 1}, \"11\": {\"11\": 45, \"1\": 26, \"9\": 33, \"12\": 24, \"4\": 14, \"15\": 30, \"5\": 12, \"14\": 25, \"7\": 1, \"13\": 13, \"10\": 4, \"6\": 7, \"2\": 4, \"0\": 2}, \"3\": {\"10\": 32, \"2\": 4, \"3\": 92, \"5\": 5, \"8\": 63, \"7\": 14, \"0\": 8, \"13\": 14, \"1\": 1, \"6\": 7}, \"8\": {\"3\": 42, \"2\": 18, \"10\": 36, \"0\": 35, \"1\": 9, \"7\": 10, \"8\": 57, \"4\": 4, \"6\": 8, \"5\": 6, \"13\": 12, \"12\": 1, \"15\": 1, \"14\": 1}, \"7\": {\"7\": 47, \"4\": 22, \"15\": 10, \"5\": 25, \"13\": 36, \"1\": 11, \"6\": 31, \"14\": 1, \"10\": 18, \"3\": 8, \"2\": 8, \"0\": 10, \"11\": 6, \"8\": 6, \"9\": 1}, \"1\": {\"0\": 19, \"1\": 30, \"5\": 17, \"9\": 12, \"10\": 6, \"2\": 13, \"11\": 19, \"14\": 21, \"13\": 24, \"4\": 22, \"15\": 22, \"6\": 17, \"7\": 10, \"8\": 1, \"12\": 7}}, \"ORACLE.run1_26\": {\"7\": {\"7\": 19, \"9\": 20, \"15\": 14, \"6\": 10, \"0\": 20, \"8\": 14, \"14\": 23, \"10\": 32, \"4\": 18, \"1\": 14, \"2\": 19, \"13\": 5, \"3\": 16, \"5\": 15, \"12\": 1}, \"6\": {\"7\": 22, \"6\": 18, \"1\": 13, \"9\": 19, \"10\": 17, \"3\": 13, \"4\": 10, \"15\": 16, \"11\": 9, \"5\": 11, \"14\": 20, \"0\": 19, \"13\": 12, \"2\": 10, \"8\": 13, \"12\": 18}, \"14\": {\"0\": 21, \"4\": 26, \"2\": 8, \"7\": 25, \"6\": 19, \"8\": 24, \"1\": 23, \"14\": 22, \"3\": 11, \"9\": 10, \"5\": 3, \"15\": 11, \"13\": 7, \"10\": 26, \"12\": 4}, \"15\": {\"13\": 22, \"8\": 18, \"2\": 19, \"15\": 30, \"7\": 11, \"9\": 16, \"11\": 3, \"3\": 19, \"5\": 21, \"1\": 11, \"4\": 15, \"6\": 11, \"14\": 10, \"0\": 16, \"10\": 16, \"12\": 2}, \"5\": {\"11\": 7, \"13\": 34, \"6\": 21, \"5\": 24, \"2\": 22, \"7\": 13, \"15\": 15, \"3\": 17, \"0\": 9, \"14\": 9, \"9\": 30, \"1\": 7, \"8\": 9, \"10\": 9, \"12\": 6, \"4\": 8}, \"10\": {\"0\": 28, \"7\": 14, \"14\": 27, \"10\": 28, \"8\": 22, \"9\": 10, \"6\": 22, \"2\": 13, \"3\": 14, \"4\": 18, \"15\": 10, \"1\": 10, \"12\": 12, \"13\": 4, \"5\": 8}, \"4\": {\"6\": 15, \"14\": 24, \"3\": 24, \"1\": 18, \"15\": 14, \"8\": 21, \"4\": 27, \"10\": 25, \"0\": 25, \"7\": 16, \"5\": 10, \"2\": 10, \"13\": 4, \"9\": 6, \"12\": 1}, \"11\": {\"11\": 84, \"2\": 4, \"6\": 12, \"13\": 38, \"10\": 7, \"0\": 3, \"12\": 41, \"5\": 13, \"7\": 3, \"9\": 8, \"15\": 13, \"8\": 8, \"4\": 3, \"14\": 3}, \"13\": {\"13\": 42, \"8\": 22, \"15\": 18, \"5\": 30, \"2\": 23, \"6\": 12, \"3\": 19, \"7\": 10, \"11\": 17, \"0\": 2, \"12\": 5, \"14\": 6, \"4\": 3, \"1\": 6, \"9\": 18, \"10\": 7}, \"2\": {\"2\": 24, \"1\": 10, \"5\": 24, \"13\": 19, \"10\": 14, \"6\": 9, \"14\": 9, \"7\": 23, \"9\": 21, \"3\": 22, \"8\": 21, \"12\": 2, \"4\": 14, \"15\": 17, \"0\": 9, \"11\": 2}, \"0\": {\"15\": 12, \"12\": 10, \"1\": 19, \"0\": 27, \"10\": 34, \"4\": 25, \"3\": 18, \"6\": 13, \"8\": 10, \"13\": 6, \"14\": 23, \"7\": 24, \"2\": 10, \"5\": 4, \"11\": 2, \"9\": 3}, \"12\": {\"12\": 66, \"6\": 34, \"5\": 11, \"15\": 11, \"14\": 9, \"4\": 8, \"8\": 15, \"0\": 13, \"11\": 16, \"10\": 16, \"2\": 4, \"9\": 16, \"13\": 11, \"1\": 4, \"7\": 6}, \"3\": {\"3\": 32, \"0\": 11, \"15\": 15, \"2\": 26, \"5\": 25, \"8\": 22, \"1\": 17, \"6\": 10, \"9\": 12, \"10\": 17, \"4\": 11, \"14\": 15, \"13\": 14, \"7\": 12, \"12\": 1}, \"9\": {\"8\": 21, \"2\": 19, \"1\": 12, \"5\": 22, \"13\": 26, \"9\": 28, \"10\": 14, \"15\": 15, \"3\": 18, \"14\": 9, \"6\": 15, \"11\": 6, \"0\": 5, \"12\": 7, \"4\": 13, \"7\": 10}, \"8\": {\"7\": 17, \"2\": 17, \"14\": 21, \"4\": 19, \"6\": 13, \"5\": 12, \"9\": 12, \"15\": 19, \"0\": 22, \"8\": 23, \"10\": 27, \"1\": 18, \"13\": 5, \"12\": 9, \"3\": 5, \"11\": 1}, \"1\": {\"6\": 15, \"8\": 21, \"4\": 22, \"3\": 14, \"15\": 7, \"5\": 10, \"13\": 8, \"7\": 15, \"9\": 13, \"14\": 17, \"10\": 25, \"1\": 25, \"12\": 7, \"0\": 24, \"2\": 16, \"11\": 1}}, \"ORACLE.run1_32\": {\"7\": {\"8\": 25, \"7\": 32, \"11\": 31, \"5\": 24, \"4\": 22, \"2\": 25, \"0\": 23, \"14\": 32, \"13\": 19, \"9\": 4, \"3\": 3}, \"2\": {\"2\": 48, \"9\": 14, \"0\": 25, \"8\": 16, \"4\": 27, \"13\": 12, \"5\": 23, \"11\": 18, \"14\": 23, \"7\": 33, \"12\": 1}, \"5\": {\"5\": 29, \"4\": 33, \"0\": 22, \"11\": 11, \"14\": 25, \"2\": 17, \"8\": 24, \"7\": 28, \"3\": 21, \"13\": 19, \"15\": 8, \"9\": 3}, \"6\": {\"6\": 104, \"1\": 46, \"9\": 19, \"10\": 37, \"2\": 3, \"12\": 30, \"0\": 1}, \"13\": {\"4\": 35, \"2\": 9, \"13\": 34, \"7\": 17, \"0\": 21, \"5\": 19, \"14\": 12, \"11\": 13, \"8\": 41, \"3\": 29, \"15\": 10}, \"4\": {\"2\": 27, \"3\": 10, \"0\": 26, \"11\": 15, \"8\": 18, \"14\": 20, \"4\": 44, \"7\": 28, \"5\": 27, \"9\": 5, \"13\": 18, \"12\": 1, \"15\": 1}, \"3\": {\"3\": 54, \"5\": 31, \"11\": 13, \"13\": 31, \"8\": 36, \"7\": 14, \"4\": 14, \"14\": 9, \"15\": 30, \"0\": 5, \"2\": 2, \"12\": 1}, \"0\": {\"8\": 21, \"0\": 37, \"13\": 27, \"11\": 24, \"5\": 17, \"4\": 24, \"14\": 23, \"2\": 30, \"7\": 21, \"9\": 5, \"3\": 6, \"15\": 5}, \"9\": {\"6\": 13, \"2\": 23, \"9\": 91, \"12\": 59, \"13\": 5, \"0\": 17, \"4\": 13, \"5\": 3, \"7\": 8, \"8\": 2, \"10\": 3, \"14\": 3}, \"12\": {\"12\": 105, \"10\": 34, \"9\": 51, \"6\": 31, \"1\": 10, \"2\": 4, \"13\": 2, \"0\": 2, \"5\": 1}, \"8\": {\"13\": 36, \"2\": 16, \"11\": 15, \"4\": 23, \"3\": 24, \"0\": 22, \"14\": 16, \"7\": 20, \"5\": 25, \"8\": 29, \"15\": 12, \"9\": 2}, \"14\": {\"2\": 17, \"13\": 15, \"14\": 48, \"8\": 16, \"5\": 16, \"0\": 21, \"11\": 44, \"4\": 16, \"7\": 32, \"3\": 13, \"9\": 2}, \"15\": {\"11\": 2, \"15\": 147, \"4\": 4, \"14\": 1, \"13\": 12, \"0\": 4, \"8\": 20, \"3\": 41, \"5\": 9}, \"11\": {\"11\": 59, \"7\": 38, \"14\": 33, \"2\": 15, \"0\": 28, \"8\": 11, \"5\": 18, \"3\": 14, \"4\": 17, \"13\": 5, \"15\": 2}, \"10\": {\"1\": 65, \"6\": 27, \"12\": 36, \"10\": 108, \"9\": 4}, \"1\": {\"6\": 23, \"1\": 134, \"10\": 74, \"12\": 9}}, \"ORACLE.run1_44\": {\"11\": {\"13\": 50, \"7\": 27, \"11\": 65, \"6\": 42, \"9\": 25, \"1\": 4, \"10\": 5, \"4\": 6, \"2\": 11, \"14\": 4, \"15\": 1}, \"7\": {\"10\": 22, \"9\": 34, \"13\": 30, \"3\": 12, \"2\": 36, \"1\": 16, \"12\": 11, \"7\": 34, \"6\": 21, \"11\": 17, \"4\": 7}, \"6\": {\"13\": 45, \"6\": 59, \"11\": 49, \"7\": 31, \"9\": 25, \"1\": 6, \"2\": 15, \"4\": 3, \"10\": 6, \"3\": 1}, \"12\": {\"10\": 37, \"12\": 56, \"3\": 55, \"7\": 9, \"1\": 46, \"2\": 21, \"9\": 8, \"13\": 2, \"11\": 2, \"6\": 4}, \"4\": {\"4\": 72, \"14\": 37, \"13\": 10, \"2\": 5, \"0\": 13, \"5\": 27, \"9\": 12, \"15\": 24, \"11\": 9, \"1\": 2, \"7\": 12, \"3\": 4, \"6\": 4, \"8\": 7, \"10\": 1, \"12\": 1}, \"13\": {\"13\": 51, \"7\": 23, \"6\": 50, \"9\": 41, \"11\": 31, \"2\": 18, \"12\": 2, \"5\": 2, \"4\": 8, \"10\": 4, \"14\": 4, \"15\": 2, \"1\": 3, \"3\": 1}, \"8\": {\"5\": 31, \"15\": 48, \"14\": 21, \"0\": 64, \"8\": 63, \"4\": 11, \"2\": 1, \"3\": 1}, \"5\": {\"4\": 33, \"14\": 41, \"5\": 61, \"0\": 35, \"15\": 33, \"8\": 31, \"1\": 1, \"9\": 3, \"13\": 1, \"11\": 1}, \"14\": {\"14\": 45, \"4\": 44, \"0\": 21, \"15\": 41, \"3\": 6, \"5\": 43, \"11\": 2, \"8\": 19, \"6\": 4, \"13\": 5, \"9\": 5, \"7\": 3, \"10\": 1, \"12\": 1}, \"3\": {\"7\": 9, \"3\": 75, \"1\": 43, \"12\": 47, \"4\": 10, \"2\": 14, \"10\": 22, \"6\": 2, \"14\": 3, \"13\": 4, \"11\": 3, \"9\": 6, \"15\": 2}, \"10\": {\"9\": 18, \"10\": 49, \"12\": 45, \"1\": 31, \"2\": 36, \"7\": 27, \"3\": 12, \"13\": 11, \"6\": 8, \"11\": 3}, \"1\": {\"2\": 19, \"3\": 45, \"10\": 35, \"12\": 39, \"9\": 8, \"1\": 62, \"7\": 23, \"14\": 2, \"13\": 2, \"5\": 1, \"4\": 2, \"11\": 1, \"6\": 1}, \"2\": {\"9\": 29, \"11\": 10, \"7\": 29, \"3\": 12, \"13\": 23, \"2\": 48, \"6\": 10, \"1\": 30, \"12\": 20, \"10\": 29}, \"15\": {\"14\": 34, \"8\": 35, \"15\": 58, \"4\": 23, \"0\": 49, \"5\": 32, \"1\": 2, \"3\": 4, \"7\": 2, \"2\": 1}, \"9\": {\"9\": 28, \"12\": 7, \"10\": 18, \"11\": 26, \"6\": 35, \"7\": 29, \"1\": 8, \"3\": 10, \"2\": 32, \"14\": 8, \"13\": 27, \"4\": 11, \"5\": 1}, \"0\": {\"0\": 49, \"14\": 40, \"15\": 38, \"8\": 56, \"4\": 12, \"5\": 45}}, \"ORACLE.run1_8\": {\"10\": {\"1\": 16, \"11\": 15, \"8\": 13, \"4\": 24, \"15\": 12, \"5\": 16, \"7\": 23, \"13\": 15, \"0\": 16, \"6\": 17, \"2\": 11, \"14\": 23, \"10\": 23, \"12\": 9, \"3\": 4, \"9\": 3}, \"6\": {\"1\": 14, \"14\": 22, \"0\": 18, \"4\": 15, \"11\": 12, \"15\": 13, \"7\": 12, \"8\": 15, \"6\": 22, \"13\": 28, \"2\": 13, \"5\": 19, \"12\": 9, \"3\": 14, \"10\": 13, \"9\": 1}, \"13\": {\"1\": 9, \"7\": 21, \"8\": 5, \"15\": 13, \"13\": 19, \"4\": 19, \"5\": 20, \"11\": 17, \"6\": 29, \"10\": 21, \"9\": 6, \"14\": 24, \"3\": 5, \"2\": 10, \"0\": 19, \"12\": 3}, \"3\": {\"3\": 39, \"7\": 21, \"12\": 28, \"15\": 22, \"5\": 1, \"4\": 12, \"8\": 22, \"6\": 18, \"10\": 8, \"2\": 32, \"13\": 10, \"1\": 4, \"0\": 15, \"14\": 6, \"11\": 2}, \"9\": {\"9\": 100, \"5\": 27, \"14\": 14, \"4\": 11, \"10\": 22, \"1\": 6, \"13\": 23, \"0\": 16, \"7\": 9, \"6\": 5, \"11\": 3, \"8\": 1, \"2\": 3}, \"1\": {\"3\": 4, \"1\": 32, \"13\": 16, \"14\": 18, \"6\": 15, \"8\": 25, \"4\": 14, \"5\": 25, \"15\": 12, \"10\": 17, \"7\": 19, \"0\": 14, \"11\": 20, \"12\": 7, \"2\": 2}, \"5\": {\"1\": 24, \"5\": 30, \"8\": 10, \"10\": 23, \"11\": 24, \"7\": 13, \"0\": 17, \"13\": 21, \"14\": 31, \"6\": 19, \"9\": 5, \"4\": 14, \"12\": 4, \"15\": 2, \"2\": 2, \"3\": 1}, \"11\": {\"1\": 24, \"3\": 8, \"15\": 20, \"8\": 31, \"4\": 22, \"11\": 29, \"7\": 15, \"6\": 16, \"14\": 21, \"0\": 13, \"10\": 16, \"13\": 4, \"5\": 14, \"12\": 7}, \"4\": {\"14\": 29, \"8\": 16, \"4\": 22, \"5\": 12, \"11\": 13, \"0\": 16, \"13\": 12, \"6\": 21, \"10\": 24, \"7\": 20, \"1\": 18, \"2\": 9, \"3\": 8, \"15\": 9, \"12\": 10, \"9\": 1}, \"14\": {\"11\": 21, \"2\": 8, \"6\": 28, \"1\": 16, \"4\": 23, \"12\": 5, \"15\": 11, \"7\": 17, \"0\": 17, \"10\": 20, \"13\": 15, \"5\": 16, \"14\": 21, \"9\": 6, \"8\": 13, \"3\": 3}, \"12\": {\"12\": 37, \"8\": 28, \"0\": 14, \"15\": 30, \"1\": 8, \"6\": 18, \"14\": 6, \"4\": 7, \"10\": 12, \"2\": 16, \"7\": 22, \"3\": 21, \"11\": 13, \"13\": 3, \"5\": 5}, \"7\": {\"5\": 19, \"7\": 21, \"4\": 22, \"15\": 12, \"2\": 24, \"10\": 20, \"14\": 14, \"13\": 17, \"12\": 8, \"0\": 24, \"3\": 13, \"6\": 13, \"1\": 8, \"8\": 16, \"11\": 9}, \"0\": {\"1\": 7, \"14\": 16, \"4\": 21, \"5\": 26, \"6\": 21, \"0\": 30, \"12\": 8, \"13\": 21, \"2\": 17, \"8\": 3, \"3\": 9, \"7\": 25, \"9\": 3, \"11\": 7, \"10\": 18, \"15\": 8}, \"15\": {\"1\": 12, \"12\": 34, \"3\": 21, \"15\": 31, \"4\": 10, \"11\": 8, \"5\": 4, \"6\": 18, \"13\": 11, \"8\": 28, \"7\": 23, \"2\": 20, \"14\": 13, \"0\": 5, \"10\": 2}, \"2\": {\"12\": 26, \"0\": 25, \"15\": 18, \"5\": 3, \"6\": 24, \"8\": 14, \"3\": 36, \"2\": 34, \"7\": 18, \"4\": 12, \"10\": 10, \"13\": 7, \"14\": 7, \"1\": 3, \"11\": 3}, \"8\": {\"13\": 10, \"7\": 18, \"6\": 11, \"5\": 9, \"15\": 25, \"4\": 14, \"11\": 28, \"1\": 17, \"12\": 20, \"10\": 14, \"8\": 37, \"0\": 7, \"2\": 8, \"14\": 14, \"3\": 8}}, \"ORACLE.run1_38\": {\"4\": {\"12\": 81, \"7\": 6, \"4\": 132, \"11\": 7, \"0\": 5, \"14\": 5, \"10\": 4}, \"7\": {\"1\": 1, \"5\": 22, \"15\": 10, \"7\": 55, \"4\": 8, \"8\": 31, \"2\": 2, \"9\": 12, \"13\": 7, \"3\": 12, \"12\": 14, \"0\": 34, \"10\": 19, \"11\": 1, \"6\": 7, \"14\": 5}, \"12\": {\"12\": 121, \"14\": 18, \"4\": 54, \"10\": 18, \"8\": 3, \"5\": 4, \"11\": 8, \"7\": 8, \"0\": 4, \"13\": 1, \"3\": 1}, \"10\": {\"3\": 4, \"15\": 19, \"14\": 18, \"8\": 21, \"13\": 15, \"2\": 16, \"9\": 3, \"10\": 41, \"7\": 27, \"11\": 14, \"6\": 7, \"0\": 15, \"12\": 17, \"5\": 17, \"1\": 4, \"4\": 2}, \"0\": {\"3\": 22, \"8\": 31, \"10\": 14, \"7\": 28, \"12\": 12, \"15\": 12, \"5\": 21, \"13\": 14, \"6\": 16, \"0\": 39, \"14\": 7, \"11\": 2, \"2\": 5, \"9\": 5, \"4\": 6, \"1\": 6}, \"1\": {\"8\": 22, \"1\": 44, \"6\": 41, \"13\": 27, \"5\": 14, \"2\": 15, \"15\": 42, \"3\": 5, \"10\": 6, \"7\": 4, \"9\": 17, \"0\": 3}, \"5\": {\"8\": 32, \"13\": 16, \"6\": 31, \"5\": 20, \"7\": 21, \"15\": 19, \"0\": 25, \"9\": 19, \"11\": 2, \"1\": 18, \"10\": 20, \"2\": 6, \"3\": 8, \"12\": 2, \"14\": 1}, \"15\": {\"1\": 27, \"6\": 16, \"5\": 16, \"12\": 1, \"3\": 3, \"2\": 25, \"15\": 49, \"0\": 16, \"10\": 20, \"14\": 4, \"13\": 21, \"9\": 10, \"7\": 6, \"8\": 20, \"11\": 5, \"4\": 1}, \"9\": {\"9\": 65, \"6\": 52, \"5\": 21, \"0\": 7, \"1\": 18, \"8\": 19, \"7\": 11, \"10\": 6, \"3\": 22, \"13\": 8, \"15\": 9, \"2\": 2}, \"11\": {\"14\": 66, \"11\": 87, \"15\": 9, \"4\": 10, \"10\": 22, \"2\": 15, \"5\": 3, \"7\": 4, \"13\": 6, \"12\": 11, \"3\": 1, \"8\": 4, \"1\": 2}, \"14\": {\"2\": 32, \"10\": 32, \"11\": 46, \"14\": 66, \"12\": 16, \"0\": 8, \"4\": 3, \"15\": 19, \"5\": 3, \"8\": 5, \"13\": 7, \"7\": 2, \"1\": 1}, \"6\": {\"8\": 18, \"1\": 27, \"15\": 18, \"5\": 25, \"7\": 9, \"9\": 49, \"6\": 55, \"3\": 16, \"10\": 4, \"0\": 8, \"13\": 10, \"14\": 1}, \"8\": {\"1\": 12, \"0\": 24, \"8\": 38, \"7\": 28, \"13\": 13, \"15\": 27, \"6\": 17, \"11\": 2, \"5\": 32, \"10\": 17, \"9\": 11, \"14\": 3, \"3\": 9, \"2\": 5, \"12\": 2}, \"3\": {\"5\": 20, \"9\": 31, \"14\": 1, \"10\": 2, \"8\": 26, \"6\": 16, \"7\": 23, \"0\": 35, \"1\": 6, \"3\": 72, \"12\": 1, \"15\": 2, \"13\": 3, \"2\": 1, \"4\": 1}, \"2\": {\"13\": 38, \"1\": 23, \"11\": 17, \"2\": 60, \"8\": 11, \"5\": 6, \"15\": 32, \"10\": 26, \"6\": 1, \"14\": 17, \"0\": 4, \"7\": 2, \"12\": 1, \"9\": 2}, \"13\": {\"1\": 38, \"15\": 41, \"2\": 21, \"8\": 22, \"0\": 8, \"10\": 13, \"13\": 35, \"5\": 20, \"9\": 5, \"7\": 4, \"6\": 21, \"11\": 2, \"3\": 2, \"14\": 8}}}, \"per_domain_accuracy\": {\"W_A_3\": {\"accuracy\": 0.9615885416666666, \"source?\": true}, \"W_A_4\": {\"accuracy\": 0.9270833333333334, \"source?\": true}, \"C_A_4\": {\"accuracy\": 0.9875, \"source?\": true}, \"W_A_2\": {\"accuracy\": 0.931640625, \"source?\": true}, \"C_A_5\": {\"accuracy\": 0.9796875, \"source?\": true}, \"W_A_1\": {\"accuracy\": 0.949468085106383, \"source?\": true}, \"C_A_2\": {\"accuracy\": 0.9875, \"source?\": true}, \"C_A_1\": {\"accuracy\": 0.9890625, \"source?\": true}, \"C_A_3\": {\"accuracy\": 0.9921875, \"source?\": true}, \"ORACLE.run1_14\": {\"accuracy\": 0.19140625, \"source?\": false}, \"ORACLE.run1_20\": {\"accuracy\": 0.09869791666666666, \"source?\": false}, \"ORACLE.run1_50\": {\"accuracy\": 0.1984375, \"source?\": false}, \"ORACLE.run1_26\": {\"accuracy\": 0.13515625, \"source?\": false}, \"ORACLE.run1_32\": {\"accuracy\": 0.2872395833333333, \"source?\": false}, \"ORACLE.run1_44\": {\"accuracy\": 0.22786458333333334, \"source?\": false}, \"ORACLE.run1_8\": {\"accuracy\": 0.13723958333333333, \"source?\": false}, \"ORACLE.run1_38\": {\"accuracy\": 0.25494791666666666, \"source?\": false}}}, \"history\": {\"epoch_indices\": [1, 2, 3, 4, 5, 6], \"train_label_loss\": [0.36068548313745014, 0.18417973524627856, 0.1383615785856119, 0.11123940894372726, 0.09161580831746606, 0.07626751672332276], \"source_val_label_loss\": [0.2559299170970917, 0.18648827075958252, 0.1451006382703781, 0.15415039658546448, 0.13269378244876862, 0.12750563025474548], \"target_val_label_loss\": [2.773911476135254, 2.4968221187591553, 2.579780101776123, 2.7363576889038086, 2.695589780807495, 2.6545984745025635], \"source_val_acc_label\": [0.9403994845360825, 0.9577963917525774, 0.9674613402061856, 0.9673539518900344, 0.9686426116838488, 0.9712199312714777], \"target_val_acc_label\": [0.1580078125, 0.19137369791666667, 0.18365885416666666, 0.16341145833333334, 0.18766276041666666, 0.1921875]}, \"dataset_metrics\": {\"source\": {\"train\": {\"n_unique_x\": 56696, \"n_unique_y\": 130, \"n_batch/episode\": 2080}, \"val\": {\"n_unique_x\": 12121, \"n_unique_y\": 130, \"n_batch/episode\": 291}, \"test\": {\"n_unique_x\": 12121, \"n_unique_y\": 130, \"n_batch/episode\": 291}}, \"target\": {\"train\": {\"n_unique_x\": 179200, \"n_unique_y\": 16, \"n_batch/episode\": 6720}, \"val\": {\"n_unique_x\": 38400, \"n_unique_y\": 16, \"n_batch/episode\": 960}, \"test\": {\"n_unique_x\": 38400, \"n_unique_y\": 16, \"n_batch/episode\": 960}}}}'"
      ]
     },
     "execution_count": 29,
     "metadata": {},
     "output_type": "execute_result"
    }
   ],
   "source": [
    "json.dumps(experiment)"
   ]
  }
 ],
 "metadata": {
  "celltoolbar": "Tags",
  "kernelspec": {
   "display_name": "Python 3 (ipykernel)",
   "language": "python",
   "name": "python3"
  },
  "language_info": {
   "codemirror_mode": {
    "name": "ipython",
    "version": 3
   },
   "file_extension": ".py",
   "mimetype": "text/x-python",
   "name": "python",
   "nbconvert_exporter": "python",
   "pygments_lexer": "ipython3",
   "version": "3.8.10"
  },
  "papermill": {
   "default_parameters": {},
   "duration": 445.589529,
   "end_time": "2022-03-18T21:55:08.458698",
   "environment_variables": {},
   "exception": null,
   "input_path": "/mnt/wd500GB/CSC500/csc500-main/csc500-notebooks/templates/tl_ptn_template.ipynb",
   "output_path": "trial.ipynb",
   "parameters": {
    "parameters": {
     "BEST_MODEL_PATH": "./best_model.pth",
     "NUM_LOGS_PER_EPOCH": 10,
     "criteria_for_best": "target_loss",
     "dataset_seed": 420,
     "datasets": [
      {
       "domain_prefix": "C_A_",
       "domains": [
        1,
        2,
        3,
        4,
        5
       ],
       "episode_transforms": [],
       "labels": [
        "1-10.",
        "1-11.",
        "1-15.",
        "1-16.",
        "1-17.",
        "1-18.",
        "1-19.",
        "10-4.",
        "10-7.",
        "11-1.",
        "11-14.",
        "11-17.",
        "11-20.",
        "11-7.",
        "13-20.",
        "13-8.",
        "14-10.",
        "14-11.",
        "14-14.",
        "14-7.",
        "15-1.",
        "15-20.",
        "16-1.",
        "16-16.",
        "17-10.",
        "17-11.",
        "17-2.",
        "19-1.",
        "19-16.",
        "19-19.",
        "19-20.",
        "19-3.",
        "2-10.",
        "2-11.",
        "2-17.",
        "2-18.",
        "2-20.",
        "2-3.",
        "2-4.",
        "2-5.",
        "2-6.",
        "2-7.",
        "2-8.",
        "3-13.",
        "3-18.",
        "3-3.",
        "4-1.",
        "4-10.",
        "4-11.",
        "4-19.",
        "5-5.",
        "6-15.",
        "7-10.",
        "7-14.",
        "8-18.",
        "8-20.",
        "8-3.",
        "8-8."
       ],
       "num_examples_per_domain_per_label": 100,
       "pickle_path": "/mnt/wd500GB/CSC500/csc500-main/datasets/cores.stratified_ds.2022A.pkl",
       "source_or_target_dataset": "source",
       "x_transforms": [
        "unit_power",
        "take_200"
       ]
      },
      {
       "domain_prefix": "W_A_",
       "domains": [
        1,
        2,
        3,
        4
       ],
       "episode_transforms": [],
       "labels": [
        "1-10",
        "1-12",
        "1-14",
        "1-16",
        "1-18",
        "1-19",
        "1-8",
        "10-11",
        "10-17",
        "10-4",
        "10-7",
        "11-1",
        "11-10",
        "11-19",
        "11-20",
        "11-4",
        "11-7",
        "12-19",
        "12-20",
        "12-7",
        "13-14",
        "13-18",
        "13-19",
        "13-20",
        "13-3",
        "13-7",
        "14-10",
        "14-11",
        "14-12",
        "14-13",
        "14-14",
        "14-19",
        "14-20",
        "14-7",
        "14-8",
        "14-9",
        "15-1",
        "15-19",
        "15-6",
        "16-1",
        "16-16",
        "16-19",
        "16-20",
        "17-10",
        "17-11",
        "18-1",
        "18-10",
        "18-11",
        "18-12",
        "18-13",
        "18-14",
        "18-15",
        "18-16",
        "18-17",
        "18-19",
        "18-2",
        "18-20",
        "18-4",
        "18-5",
        "18-7",
        "18-8",
        "18-9",
        "19-1",
        "19-10",
        "19-11",
        "19-12",
        "19-13",
        "19-14",
        "19-15",
        "19-19",
        "19-2",
        "19-20",
        "19-3",
        "19-4",
        "19-6",
        "19-7",
        "19-8",
        "19-9",
        "2-1",
        "2-13",
        "2-15",
        "2-3",
        "2-4",
        "2-5",
        "2-6",
        "2-7",
        "2-8",
        "20-1",
        "20-12",
        "20-14",
        "20-15",
        "20-16",
        "20-18",
        "20-19",
        "20-20",
        "20-3",
        "20-4",
        "20-5",
        "20-7",
        "20-8",
        "3-1",
        "3-13",
        "3-18",
        "3-2",
        "3-8",
        "4-1",
        "4-10",
        "4-11",
        "5-1",
        "5-5",
        "6-1",
        "6-15",
        "6-6",
        "7-10",
        "7-11",
        "7-12",
        "7-13",
        "7-14",
        "7-7",
        "7-8",
        "7-9",
        "8-1",
        "8-13",
        "8-14",
        "8-18",
        "8-20",
        "8-3",
        "8-8",
        "9-1",
        "9-7"
       ],
       "num_examples_per_domain_per_label": 100,
       "pickle_path": "/mnt/wd500GB/CSC500/csc500-main/datasets/wisig.node3-19.stratified_ds.2022A.pkl",
       "source_or_target_dataset": "source",
       "x_transforms": [
        "unit_power",
        "take_200"
       ]
      },
      {
       "domain_prefix": "ORACLE.run1_",
       "domains": [
        32,
        38,
        8,
        44,
        14,
        50,
        20,
        26
       ],
       "episode_transforms": [],
       "labels": [
        "3123D52",
        "3123D65",
        "3123D79",
        "3123D80",
        "3123D54",
        "3123D70",
        "3123D7B",
        "3123D89",
        "3123D58",
        "3123D76",
        "3123D7D",
        "3123EFE",
        "3123D64",
        "3123D78",
        "3123D7E",
        "3124E4A"
       ],
       "num_examples_per_domain_per_label": 2000,
       "pickle_path": "/mnt/wd500GB/CSC500/csc500-main/datasets/oracle.Run1_framed_2000Examples_stratified_ds.2022A.pkl",
       "source_or_target_dataset": "target",
       "x_transforms": [
        "unit_power",
        "take_200",
        "resample_20Msps_to_25Msps"
       ]
      }
     ],
     "device": "cuda",
     "experiment_name": "tl_3A:cores+wisig -> oracle.run1.framed",
     "lr": 0.001,
     "n_epoch": 50,
     "n_query": 2,
     "n_shot": 3,
     "n_way": 16,
     "patience": 3,
     "seed": 420,
     "test_k_factor": 2,
     "torch_default_dtype": "torch.float32",
     "train_k_factor": 3,
     "val_k_factor": 2,
     "x_net": [
      {
       "class": "nnReshape",
       "kargs": {
        "shape": [
         -1,
         1,
         2,
         200
        ]
       }
      },
      {
       "class": "Conv2d",
       "kargs": {
        "bias": false,
        "in_channels": 1,
        "kernel_size": [
         1,
         7
        ],
        "out_channels": 256,
        "padding": [
         0,
         3
        ]
       }
      },
      {
       "class": "ReLU",
       "kargs": {
        "inplace": true
       }
      },
      {
       "class": "BatchNorm2d",
       "kargs": {
        "num_features": 256
       }
      },
      {
       "class": "Conv2d",
       "kargs": {
        "bias": true,
        "in_channels": 256,
        "kernel_size": [
         2,
         7
        ],
        "out_channels": 80,
        "padding": [
         0,
         3
        ]
       }
      },
      {
       "class": "ReLU",
       "kargs": {
        "inplace": true
       }
      },
      {
       "class": "BatchNorm2d",
       "kargs": {
        "num_features": 80
       }
      },
      {
       "class": "Flatten",
       "kargs": {}
      },
      {
       "class": "Linear",
       "kargs": {
        "in_features": 16000,
        "out_features": 256
       }
      },
      {
       "class": "ReLU",
       "kargs": {
        "inplace": true
       }
      },
      {
       "class": "BatchNorm1d",
       "kargs": {
        "num_features": 256
       }
      },
      {
       "class": "Linear",
       "kargs": {
        "in_features": 256,
        "out_features": 256
       }
      }
     ],
     "x_shape": [
      2,
      200
     ]
    }
   },
   "start_time": "2022-03-18T21:47:42.869169",
   "version": "2.3.4"
  }
 },
 "nbformat": 4,
 "nbformat_minor": 5
}