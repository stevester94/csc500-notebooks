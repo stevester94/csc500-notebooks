{
 "cells": [
  {
   "cell_type": "markdown",
   "id": "9fea5f46",
   "metadata": {
    "papermill": {
     "duration": 0.01792,
     "end_time": "2022-03-18T09:33:39.055769",
     "exception": false,
     "start_time": "2022-03-18T09:33:39.037849",
     "status": "completed"
    },
    "tags": []
   },
   "source": [
    "# Transfer Learning Template"
   ]
  },
  {
   "cell_type": "code",
   "execution_count": 1,
   "id": "0902182a",
   "metadata": {
    "execution": {
     "iopub.execute_input": "2022-03-18T09:33:39.094812Z",
     "iopub.status.busy": "2022-03-18T09:33:39.088404Z",
     "iopub.status.idle": "2022-03-18T09:33:40.020846Z",
     "shell.execute_reply": "2022-03-18T09:33:40.020584Z"
    },
    "papermill": {
     "duration": 0.952199,
     "end_time": "2022-03-18T09:33:40.020908",
     "exception": false,
     "start_time": "2022-03-18T09:33:39.068709",
     "status": "completed"
    },
    "tags": []
   },
   "outputs": [],
   "source": [
    "%load_ext autoreload\n",
    "%autoreload 2\n",
    "%matplotlib inline\n",
    "\n",
    "    \n",
    "import os, json, sys, time, random\n",
    "import numpy as np\n",
    "import torch\n",
    "from torch.optim import Adam\n",
    "from  easydict import EasyDict\n",
    "import matplotlib.pyplot as plt\n",
    "\n",
    "from steves_models.steves_ptn import Steves_Prototypical_Network\n",
    "\n",
    "from steves_utils.lazy_iterable_wrapper import Lazy_Iterable_Wrapper\n",
    "from steves_utils.iterable_aggregator import Iterable_Aggregator\n",
    "from steves_utils.ptn_train_eval_test_jig import  PTN_Train_Eval_Test_Jig\n",
    "from steves_utils.torch_sequential_builder import build_sequential\n",
    "from steves_utils.torch_utils import get_dataset_metrics, ptn_confusion_by_domain_over_dataloader\n",
    "from steves_utils.utils_v2 import (per_domain_accuracy_from_confusion, get_datasets_base_path)\n",
    "from steves_utils.PTN.utils import independent_accuracy_assesment\n",
    "\n",
    "from torch.utils.data import DataLoader\n",
    "\n",
    "from steves_utils.stratified_dataset.episodic_accessor import Episodic_Accessor_Factory\n",
    "\n",
    "from steves_utils.ptn_do_report import (\n",
    "    get_loss_curve,\n",
    "    get_results_table,\n",
    "    get_parameters_table,\n",
    "    get_domain_accuracies,\n",
    ")\n",
    "\n",
    "from steves_utils.transforms import get_chained_transform"
   ]
  },
  {
   "cell_type": "markdown",
   "id": "41c840b4",
   "metadata": {
    "papermill": {
     "duration": 0.013439,
     "end_time": "2022-03-18T09:33:40.048153",
     "exception": false,
     "start_time": "2022-03-18T09:33:40.034714",
     "status": "completed"
    },
    "tags": []
   },
   "source": [
    "# Allowed Parameters\n",
    "These are allowed parameters, not defaults\n",
    "Each of these values need to be present in the injected parameters (the notebook will raise an exception if they are not present)\n",
    "\n",
    "Papermill uses the cell tag \"parameters\" to inject the real parameters below this cell.\n",
    "Enable tags to see what I mean"
   ]
  },
  {
   "cell_type": "code",
   "execution_count": 2,
   "id": "fd44eb83",
   "metadata": {
    "execution": {
     "iopub.execute_input": "2022-03-18T09:33:40.078076Z",
     "iopub.status.busy": "2022-03-18T09:33:40.076588Z",
     "iopub.status.idle": "2022-03-18T09:33:40.091244Z",
     "shell.execute_reply": "2022-03-18T09:33:40.091449Z"
    },
    "papermill": {
     "duration": 0.029888,
     "end_time": "2022-03-18T09:33:40.091510",
     "exception": false,
     "start_time": "2022-03-18T09:33:40.061622",
     "status": "completed"
    },
    "tags": []
   },
   "outputs": [],
   "source": [
    "required_parameters = {\n",
    "    \"experiment_name\",\n",
    "    \"lr\",\n",
    "    \"device\",\n",
    "    \"seed\",\n",
    "    \"dataset_seed\",\n",
    "    \"n_shot\",\n",
    "    \"n_query\",\n",
    "    \"n_way\",\n",
    "    \"train_k_factor\",\n",
    "    \"val_k_factor\",\n",
    "    \"test_k_factor\",\n",
    "    \"n_epoch\",\n",
    "    \"patience\",\n",
    "    \"criteria_for_best\",\n",
    "    \"x_net\",\n",
    "    \"datasets\",\n",
    "    \"torch_default_dtype\",\n",
    "    \"NUM_LOGS_PER_EPOCH\",\n",
    "    \"BEST_MODEL_PATH\",\n",
    "    \"x_shape\",\n",
    "}"
   ]
  },
  {
   "cell_type": "code",
   "execution_count": 3,
   "id": "fa3f0049",
   "metadata": {
    "execution": {
     "iopub.execute_input": "2022-03-18T09:33:40.126969Z",
     "iopub.status.busy": "2022-03-18T09:33:40.126691Z",
     "iopub.status.idle": "2022-03-18T09:33:40.138957Z",
     "shell.execute_reply": "2022-03-18T09:33:40.138712Z"
    },
    "papermill": {
     "duration": 0.033818,
     "end_time": "2022-03-18T09:33:40.139005",
     "exception": false,
     "start_time": "2022-03-18T09:33:40.105187",
     "status": "completed"
    },
    "tags": [
     "parameters"
    ]
   },
   "outputs": [],
   "source": [
    "from steves_utils.CORES.utils import (\n",
    "    ALL_NODES,\n",
    "    ALL_NODES_MINIMUM_1000_EXAMPLES,\n",
    "    ALL_DAYS\n",
    ")\n",
    "\n",
    "from steves_utils.ORACLE.utils_v2 import (\n",
    "    ALL_DISTANCES_FEET_NARROWED,\n",
    "    ALL_RUNS,\n",
    "    ALL_SERIAL_NUMBERS,\n",
    ")\n",
    "\n",
    "standalone_parameters = {}\n",
    "standalone_parameters[\"experiment_name\"] = \"STANDALONE PTN\"\n",
    "standalone_parameters[\"lr\"] = 0.001\n",
    "standalone_parameters[\"device\"] = \"cuda\"\n",
    "\n",
    "standalone_parameters[\"seed\"] = 1337\n",
    "standalone_parameters[\"dataset_seed\"] = 1337\n",
    "\n",
    "standalone_parameters[\"n_way\"] = 8\n",
    "standalone_parameters[\"n_shot\"] = 3\n",
    "standalone_parameters[\"n_query\"]  = 2\n",
    "standalone_parameters[\"train_k_factor\"] = 1\n",
    "standalone_parameters[\"val_k_factor\"] = 2\n",
    "standalone_parameters[\"test_k_factor\"] = 2\n",
    "\n",
    "\n",
    "standalone_parameters[\"n_epoch\"] = 50\n",
    "\n",
    "standalone_parameters[\"patience\"] = 10\n",
    "standalone_parameters[\"criteria_for_best\"] = \"source_loss\"\n",
    "\n",
    "standalone_parameters[\"datasets\"] = [\n",
    "    {\n",
    "        \"labels\": ALL_SERIAL_NUMBERS,\n",
    "        \"domains\": ALL_DISTANCES_FEET_NARROWED,\n",
    "        \"num_examples_per_domain_per_label\": 100,\n",
    "        \"pickle_path\": os.path.join(get_datasets_base_path(), \"oracle.Run1_framed_2000Examples_stratified_ds.2022A.pkl\"),\n",
    "        \"source_or_target_dataset\": \"source\",\n",
    "        \"x_transforms\": [\"unit_mag\", \"minus_two\"],\n",
    "        \"episode_transforms\": [],\n",
    "        \"domain_prefix\": \"ORACLE_\"\n",
    "    },\n",
    "    {\n",
    "        \"labels\": ALL_NODES,\n",
    "        \"domains\": ALL_DAYS,\n",
    "        \"num_examples_per_domain_per_label\": 100,\n",
    "        \"pickle_path\": os.path.join(get_datasets_base_path(), \"cores.stratified_ds.2022A.pkl\"),\n",
    "        \"source_or_target_dataset\": \"target\",\n",
    "        \"x_transforms\": [\"unit_power\", \"times_zero\"],\n",
    "        \"episode_transforms\": [],\n",
    "        \"domain_prefix\": \"CORES_\"\n",
    "    }   \n",
    "]\n",
    "\n",
    "standalone_parameters[\"torch_default_dtype\"] = \"torch.float32\" \n",
    "\n",
    "\n",
    "\n",
    "standalone_parameters[\"x_net\"] =     [\n",
    "    {\"class\": \"nnReshape\", \"kargs\": {\"shape\":[-1, 1, 2, 256]}},\n",
    "    {\"class\": \"Conv2d\", \"kargs\": { \"in_channels\":1, \"out_channels\":256, \"kernel_size\":(1,7), \"bias\":False, \"padding\":(0,3), },},\n",
    "    {\"class\": \"ReLU\", \"kargs\": {\"inplace\": True}},\n",
    "    {\"class\": \"BatchNorm2d\", \"kargs\": {\"num_features\":256}},\n",
    "\n",
    "    {\"class\": \"Conv2d\", \"kargs\": { \"in_channels\":256, \"out_channels\":80, \"kernel_size\":(2,7), \"bias\":True, \"padding\":(0,3), },},\n",
    "    {\"class\": \"ReLU\", \"kargs\": {\"inplace\": True}},\n",
    "    {\"class\": \"BatchNorm2d\", \"kargs\": {\"num_features\":80}},\n",
    "    {\"class\": \"Flatten\", \"kargs\": {}},\n",
    "\n",
    "    {\"class\": \"Linear\", \"kargs\": {\"in_features\": 80*256, \"out_features\": 256}}, # 80 units per IQ pair\n",
    "    {\"class\": \"ReLU\", \"kargs\": {\"inplace\": True}},\n",
    "    {\"class\": \"BatchNorm1d\", \"kargs\": {\"num_features\":256}},\n",
    "\n",
    "    {\"class\": \"Linear\", \"kargs\": {\"in_features\": 256, \"out_features\": 256}},\n",
    "]\n",
    "\n",
    "# Parameters relevant to results\n",
    "# These parameters will basically never need to change\n",
    "standalone_parameters[\"NUM_LOGS_PER_EPOCH\"] = 10\n",
    "standalone_parameters[\"BEST_MODEL_PATH\"] = \"./best_model.pth\"\n",
    "\n",
    "\n",
    "\n",
    "\n"
   ]
  },
  {
   "cell_type": "code",
   "execution_count": 4,
   "id": "6e103d4e",
   "metadata": {
    "execution": {
     "iopub.execute_input": "2022-03-18T09:33:40.178958Z",
     "iopub.status.busy": "2022-03-18T09:33:40.173215Z",
     "iopub.status.idle": "2022-03-18T09:33:40.191605Z",
     "shell.execute_reply": "2022-03-18T09:33:40.191387Z"
    },
    "papermill": {
     "duration": 0.038919,
     "end_time": "2022-03-18T09:33:40.191654",
     "exception": false,
     "start_time": "2022-03-18T09:33:40.152735",
     "status": "completed"
    },
    "tags": [
     "injected-parameters"
    ]
   },
   "outputs": [],
   "source": [
    "# Parameters\n",
    "parameters = {\n",
    "    \"experiment_name\": \"tl_3-jitter5:cores+wisig -> oracle.run1.framed\",\n",
    "    \"device\": \"cuda\",\n",
    "    \"lr\": 0.001,\n",
    "    \"seed\": 1337,\n",
    "    \"dataset_seed\": 1337,\n",
    "    \"n_shot\": 3,\n",
    "    \"n_query\": 2,\n",
    "    \"train_k_factor\": 3,\n",
    "    \"val_k_factor\": 2,\n",
    "    \"test_k_factor\": 2,\n",
    "    \"torch_default_dtype\": \"torch.float32\",\n",
    "    \"n_epoch\": 50,\n",
    "    \"patience\": 3,\n",
    "    \"criteria_for_best\": \"target_loss\",\n",
    "    \"x_net\": [\n",
    "        {\"class\": \"nnReshape\", \"kargs\": {\"shape\": [-1, 1, 2, 256]}},\n",
    "        {\n",
    "            \"class\": \"Conv2d\",\n",
    "            \"kargs\": {\n",
    "                \"in_channels\": 1,\n",
    "                \"out_channels\": 256,\n",
    "                \"kernel_size\": [1, 7],\n",
    "                \"bias\": False,\n",
    "                \"padding\": [0, 3],\n",
    "            },\n",
    "        },\n",
    "        {\"class\": \"ReLU\", \"kargs\": {\"inplace\": True}},\n",
    "        {\"class\": \"BatchNorm2d\", \"kargs\": {\"num_features\": 256}},\n",
    "        {\n",
    "            \"class\": \"Conv2d\",\n",
    "            \"kargs\": {\n",
    "                \"in_channels\": 256,\n",
    "                \"out_channels\": 80,\n",
    "                \"kernel_size\": [2, 7],\n",
    "                \"bias\": True,\n",
    "                \"padding\": [0, 3],\n",
    "            },\n",
    "        },\n",
    "        {\"class\": \"ReLU\", \"kargs\": {\"inplace\": True}},\n",
    "        {\"class\": \"BatchNorm2d\", \"kargs\": {\"num_features\": 80}},\n",
    "        {\"class\": \"Flatten\", \"kargs\": {}},\n",
    "        {\"class\": \"Linear\", \"kargs\": {\"in_features\": 20480, \"out_features\": 256}},\n",
    "        {\"class\": \"ReLU\", \"kargs\": {\"inplace\": True}},\n",
    "        {\"class\": \"BatchNorm1d\", \"kargs\": {\"num_features\": 256}},\n",
    "        {\"class\": \"Linear\", \"kargs\": {\"in_features\": 256, \"out_features\": 256}},\n",
    "    ],\n",
    "    \"NUM_LOGS_PER_EPOCH\": 10,\n",
    "    \"BEST_MODEL_PATH\": \"./best_model.pth\",\n",
    "    \"n_way\": 16,\n",
    "    \"datasets\": [\n",
    "        {\n",
    "            \"labels\": [\n",
    "                \"1-10.\",\n",
    "                \"1-11.\",\n",
    "                \"1-15.\",\n",
    "                \"1-16.\",\n",
    "                \"1-17.\",\n",
    "                \"1-18.\",\n",
    "                \"1-19.\",\n",
    "                \"10-4.\",\n",
    "                \"10-7.\",\n",
    "                \"11-1.\",\n",
    "                \"11-14.\",\n",
    "                \"11-17.\",\n",
    "                \"11-20.\",\n",
    "                \"11-7.\",\n",
    "                \"13-20.\",\n",
    "                \"13-8.\",\n",
    "                \"14-10.\",\n",
    "                \"14-11.\",\n",
    "                \"14-14.\",\n",
    "                \"14-7.\",\n",
    "                \"15-1.\",\n",
    "                \"15-20.\",\n",
    "                \"16-1.\",\n",
    "                \"16-16.\",\n",
    "                \"17-10.\",\n",
    "                \"17-11.\",\n",
    "                \"17-2.\",\n",
    "                \"19-1.\",\n",
    "                \"19-16.\",\n",
    "                \"19-19.\",\n",
    "                \"19-20.\",\n",
    "                \"19-3.\",\n",
    "                \"2-10.\",\n",
    "                \"2-11.\",\n",
    "                \"2-17.\",\n",
    "                \"2-18.\",\n",
    "                \"2-20.\",\n",
    "                \"2-3.\",\n",
    "                \"2-4.\",\n",
    "                \"2-5.\",\n",
    "                \"2-6.\",\n",
    "                \"2-7.\",\n",
    "                \"2-8.\",\n",
    "                \"3-13.\",\n",
    "                \"3-18.\",\n",
    "                \"3-3.\",\n",
    "                \"4-1.\",\n",
    "                \"4-10.\",\n",
    "                \"4-11.\",\n",
    "                \"4-19.\",\n",
    "                \"5-5.\",\n",
    "                \"6-15.\",\n",
    "                \"7-10.\",\n",
    "                \"7-14.\",\n",
    "                \"8-18.\",\n",
    "                \"8-20.\",\n",
    "                \"8-3.\",\n",
    "                \"8-8.\",\n",
    "            ],\n",
    "            \"domains\": [1, 2, 3, 4, 5],\n",
    "            \"num_examples_per_domain_per_label\": 100,\n",
    "            \"pickle_path\": \"/mnt/wd500GB/CSC500/csc500-main/datasets/cores.stratified_ds.2022A.pkl\",\n",
    "            \"source_or_target_dataset\": \"source\",\n",
    "            \"x_transforms\": [\"jitter_256_5\", \"take_200\"],\n",
    "            \"episode_transforms\": [],\n",
    "            \"domain_prefix\": \"C_A_\",\n",
    "        },\n",
    "        {\n",
    "            \"labels\": [\n",
    "                \"1-10\",\n",
    "                \"1-12\",\n",
    "                \"1-14\",\n",
    "                \"1-16\",\n",
    "                \"1-18\",\n",
    "                \"1-19\",\n",
    "                \"1-8\",\n",
    "                \"10-11\",\n",
    "                \"10-17\",\n",
    "                \"10-4\",\n",
    "                \"10-7\",\n",
    "                \"11-1\",\n",
    "                \"11-10\",\n",
    "                \"11-19\",\n",
    "                \"11-20\",\n",
    "                \"11-4\",\n",
    "                \"11-7\",\n",
    "                \"12-19\",\n",
    "                \"12-20\",\n",
    "                \"12-7\",\n",
    "                \"13-14\",\n",
    "                \"13-18\",\n",
    "                \"13-19\",\n",
    "                \"13-20\",\n",
    "                \"13-3\",\n",
    "                \"13-7\",\n",
    "                \"14-10\",\n",
    "                \"14-11\",\n",
    "                \"14-12\",\n",
    "                \"14-13\",\n",
    "                \"14-14\",\n",
    "                \"14-19\",\n",
    "                \"14-20\",\n",
    "                \"14-7\",\n",
    "                \"14-8\",\n",
    "                \"14-9\",\n",
    "                \"15-1\",\n",
    "                \"15-19\",\n",
    "                \"15-6\",\n",
    "                \"16-1\",\n",
    "                \"16-16\",\n",
    "                \"16-19\",\n",
    "                \"16-20\",\n",
    "                \"17-10\",\n",
    "                \"17-11\",\n",
    "                \"18-1\",\n",
    "                \"18-10\",\n",
    "                \"18-11\",\n",
    "                \"18-12\",\n",
    "                \"18-13\",\n",
    "                \"18-14\",\n",
    "                \"18-15\",\n",
    "                \"18-16\",\n",
    "                \"18-17\",\n",
    "                \"18-19\",\n",
    "                \"18-2\",\n",
    "                \"18-20\",\n",
    "                \"18-4\",\n",
    "                \"18-5\",\n",
    "                \"18-7\",\n",
    "                \"18-8\",\n",
    "                \"18-9\",\n",
    "                \"19-1\",\n",
    "                \"19-10\",\n",
    "                \"19-11\",\n",
    "                \"19-12\",\n",
    "                \"19-13\",\n",
    "                \"19-14\",\n",
    "                \"19-15\",\n",
    "                \"19-19\",\n",
    "                \"19-2\",\n",
    "                \"19-20\",\n",
    "                \"19-3\",\n",
    "                \"19-4\",\n",
    "                \"19-6\",\n",
    "                \"19-7\",\n",
    "                \"19-8\",\n",
    "                \"19-9\",\n",
    "                \"2-1\",\n",
    "                \"2-13\",\n",
    "                \"2-15\",\n",
    "                \"2-3\",\n",
    "                \"2-4\",\n",
    "                \"2-5\",\n",
    "                \"2-6\",\n",
    "                \"2-7\",\n",
    "                \"2-8\",\n",
    "                \"20-1\",\n",
    "                \"20-12\",\n",
    "                \"20-14\",\n",
    "                \"20-15\",\n",
    "                \"20-16\",\n",
    "                \"20-18\",\n",
    "                \"20-19\",\n",
    "                \"20-20\",\n",
    "                \"20-3\",\n",
    "                \"20-4\",\n",
    "                \"20-5\",\n",
    "                \"20-7\",\n",
    "                \"20-8\",\n",
    "                \"3-1\",\n",
    "                \"3-13\",\n",
    "                \"3-18\",\n",
    "                \"3-2\",\n",
    "                \"3-8\",\n",
    "                \"4-1\",\n",
    "                \"4-10\",\n",
    "                \"4-11\",\n",
    "                \"5-1\",\n",
    "                \"5-5\",\n",
    "                \"6-1\",\n",
    "                \"6-15\",\n",
    "                \"6-6\",\n",
    "                \"7-10\",\n",
    "                \"7-11\",\n",
    "                \"7-12\",\n",
    "                \"7-13\",\n",
    "                \"7-14\",\n",
    "                \"7-7\",\n",
    "                \"7-8\",\n",
    "                \"7-9\",\n",
    "                \"8-1\",\n",
    "                \"8-13\",\n",
    "                \"8-14\",\n",
    "                \"8-18\",\n",
    "                \"8-20\",\n",
    "                \"8-3\",\n",
    "                \"8-8\",\n",
    "                \"9-1\",\n",
    "                \"9-7\",\n",
    "            ],\n",
    "            \"domains\": [1, 2, 3, 4],\n",
    "            \"num_examples_per_domain_per_label\": 100,\n",
    "            \"pickle_path\": \"/mnt/wd500GB/CSC500/csc500-main/datasets/wisig.node3-19.stratified_ds.2022A.pkl\",\n",
    "            \"source_or_target_dataset\": \"source\",\n",
    "            \"x_transforms\": [\"jitter_256_5\", \"take_200\"],\n",
    "            \"episode_transforms\": [],\n",
    "            \"domain_prefix\": \"W_A_\",\n",
    "        },\n",
    "        {\n",
    "            \"labels\": [\n",
    "                \"3123D52\",\n",
    "                \"3123D65\",\n",
    "                \"3123D79\",\n",
    "                \"3123D80\",\n",
    "                \"3123D54\",\n",
    "                \"3123D70\",\n",
    "                \"3123D7B\",\n",
    "                \"3123D89\",\n",
    "                \"3123D58\",\n",
    "                \"3123D76\",\n",
    "                \"3123D7D\",\n",
    "                \"3123EFE\",\n",
    "                \"3123D64\",\n",
    "                \"3123D78\",\n",
    "                \"3123D7E\",\n",
    "                \"3124E4A\",\n",
    "            ],\n",
    "            \"domains\": [32, 38, 8, 44, 14, 50, 20, 26],\n",
    "            \"num_examples_per_domain_per_label\": 2000,\n",
    "            \"pickle_path\": \"/mnt/wd500GB/CSC500/csc500-main/datasets/oracle.Run1_framed_2000Examples_stratified_ds.2022A.pkl\",\n",
    "            \"source_or_target_dataset\": \"target\",\n",
    "            \"x_transforms\": [\"jitter_256_5\", \"take_200\", \"resample_20Msps_to_25Msps\"],\n",
    "            \"episode_transforms\": [],\n",
    "            \"domain_prefix\": \"ORACLE.run1_\",\n",
    "        },\n",
    "    ],\n",
    "}\n"
   ]
  },
  {
   "cell_type": "code",
   "execution_count": 5,
   "id": "8fa1cc33",
   "metadata": {
    "execution": {
     "iopub.execute_input": "2022-03-18T09:33:40.224462Z",
     "iopub.status.busy": "2022-03-18T09:33:40.222612Z",
     "iopub.status.idle": "2022-03-18T09:33:40.237519Z",
     "shell.execute_reply": "2022-03-18T09:33:40.237276Z"
    },
    "papermill": {
     "duration": 0.032161,
     "end_time": "2022-03-18T09:33:40.237568",
     "exception": false,
     "start_time": "2022-03-18T09:33:40.205407",
     "status": "completed"
    },
    "tags": []
   },
   "outputs": [],
   "source": [
    "# Set this to True if you want to run this template directly\n",
    "STANDALONE = False\n",
    "if STANDALONE:\n",
    "    print(\"parameters not injected, running with standalone_parameters\")\n",
    "    parameters = standalone_parameters\n",
    "\n",
    "if not 'parameters' in locals() and not 'parameters' in globals():\n",
    "    raise Exception(\"Parameter injection failed\")\n",
    "\n",
    "#Use an easy dict for all the parameters\n",
    "p = EasyDict(parameters)\n",
    "\n",
    "if \"x_shape\" not in p:\n",
    "    p.x_shape = [2,256] # Default to this if we dont supply x_shape\n",
    "\n",
    "\n",
    "supplied_keys = set(p.keys())\n",
    "\n",
    "if  supplied_keys != required_parameters:\n",
    "    print(\"Parameters are incorrect\")\n",
    "    if len(supplied_keys - required_parameters)>0: print(\"Shouldn't have:\", str(supplied_keys - required_parameters))\n",
    "    if len(required_parameters - supplied_keys)>0: print(\"Need to have:\", str(required_parameters - supplied_keys))\n",
    "    raise RuntimeError(\"Parameters are incorrect\")"
   ]
  },
  {
   "cell_type": "code",
   "execution_count": 6,
   "id": "3a028d58",
   "metadata": {
    "execution": {
     "iopub.execute_input": "2022-03-18T09:33:40.269295Z",
     "iopub.status.busy": "2022-03-18T09:33:40.268774Z",
     "iopub.status.idle": "2022-03-18T09:33:40.281532Z",
     "shell.execute_reply": "2022-03-18T09:33:40.281291Z"
    },
    "papermill": {
     "duration": 0.030224,
     "end_time": "2022-03-18T09:33:40.281580",
     "exception": false,
     "start_time": "2022-03-18T09:33:40.251356",
     "status": "completed"
    },
    "tags": []
   },
   "outputs": [],
   "source": [
    "###################################\n",
    "# Set the RNGs and make it all deterministic\n",
    "###################################\n",
    "np.random.seed(p.seed)\n",
    "random.seed(p.seed)\n",
    "torch.manual_seed(p.seed)\n",
    "\n",
    "torch.use_deterministic_algorithms(True) "
   ]
  },
  {
   "cell_type": "code",
   "execution_count": 7,
   "id": "b691acf6",
   "metadata": {
    "execution": {
     "iopub.execute_input": "2022-03-18T09:33:40.319714Z",
     "iopub.status.busy": "2022-03-18T09:33:40.319463Z",
     "iopub.status.idle": "2022-03-18T09:33:40.325613Z",
     "shell.execute_reply": "2022-03-18T09:33:40.325371Z"
    },
    "papermill": {
     "duration": 0.030312,
     "end_time": "2022-03-18T09:33:40.325662",
     "exception": false,
     "start_time": "2022-03-18T09:33:40.295350",
     "status": "completed"
    },
    "tags": []
   },
   "outputs": [],
   "source": [
    "###########################################\n",
    "# The stratified datasets honor this\n",
    "###########################################\n",
    "torch.set_default_dtype(eval(p.torch_default_dtype))"
   ]
  },
  {
   "cell_type": "code",
   "execution_count": 8,
   "id": "b5fba671",
   "metadata": {
    "execution": {
     "iopub.execute_input": "2022-03-18T09:33:40.354742Z",
     "iopub.status.busy": "2022-03-18T09:33:40.354490Z",
     "iopub.status.idle": "2022-03-18T09:33:40.390151Z",
     "shell.execute_reply": "2022-03-18T09:33:40.389896Z"
    },
    "papermill": {
     "duration": 0.050814,
     "end_time": "2022-03-18T09:33:40.390201",
     "exception": false,
     "start_time": "2022-03-18T09:33:40.339387",
     "status": "completed"
    },
    "tags": []
   },
   "outputs": [],
   "source": [
    "###################################\n",
    "# Build the network(s)\n",
    "# Note: It's critical to do this AFTER setting the RNG\n",
    "###################################\n",
    "x_net = build_sequential(p.x_net)"
   ]
  },
  {
   "cell_type": "code",
   "execution_count": 9,
   "id": "5d7e61cc",
   "metadata": {
    "execution": {
     "iopub.execute_input": "2022-03-18T09:33:40.420857Z",
     "iopub.status.busy": "2022-03-18T09:33:40.420555Z",
     "iopub.status.idle": "2022-03-18T09:33:40.436706Z",
     "shell.execute_reply": "2022-03-18T09:33:40.436462Z"
    },
    "papermill": {
     "duration": 0.032416,
     "end_time": "2022-03-18T09:33:40.436756",
     "exception": false,
     "start_time": "2022-03-18T09:33:40.404340",
     "status": "completed"
    },
    "tags": []
   },
   "outputs": [],
   "source": [
    "start_time_secs = time.time()"
   ]
  },
  {
   "cell_type": "code",
   "execution_count": 10,
   "id": "c6b67dfd",
   "metadata": {
    "execution": {
     "iopub.execute_input": "2022-03-18T09:33:40.468725Z",
     "iopub.status.busy": "2022-03-18T09:33:40.468015Z",
     "iopub.status.idle": "2022-03-18T09:33:40.479106Z",
     "shell.execute_reply": "2022-03-18T09:33:40.479318Z"
    },
    "papermill": {
     "duration": 0.028645,
     "end_time": "2022-03-18T09:33:40.479376",
     "exception": false,
     "start_time": "2022-03-18T09:33:40.450731",
     "status": "completed"
    },
    "tags": []
   },
   "outputs": [],
   "source": [
    "p.domains_source = []\n",
    "p.domains_target = []\n",
    "\n",
    "\n",
    "train_original_source = []\n",
    "val_original_source   = []\n",
    "test_original_source  = []\n",
    "\n",
    "train_original_target = []\n",
    "val_original_target   = []\n",
    "test_original_target  = []"
   ]
  },
  {
   "cell_type": "code",
   "execution_count": 11,
   "id": "e3d9c3d3",
   "metadata": {
    "execution": {
     "iopub.execute_input": "2022-03-18T09:33:40.507937Z",
     "iopub.status.busy": "2022-03-18T09:33:40.507691Z",
     "iopub.status.idle": "2022-03-18T09:33:40.520199Z",
     "shell.execute_reply": "2022-03-18T09:33:40.519957Z"
    },
    "papermill": {
     "duration": 0.027534,
     "end_time": "2022-03-18T09:33:40.520247",
     "exception": false,
     "start_time": "2022-03-18T09:33:40.492713",
     "status": "completed"
    },
    "tags": []
   },
   "outputs": [],
   "source": [
    "# global_x_transform_func = lambda x: normalize(x.to(torch.get_default_dtype()), \"unit_power\") # unit_power, unit_mag\n",
    "# global_x_transform_func = lambda x: normalize(x, \"unit_power\") # unit_power, unit_mag"
   ]
  },
  {
   "cell_type": "code",
   "execution_count": 12,
   "id": "acb78fd2",
   "metadata": {
    "execution": {
     "iopub.execute_input": "2022-03-18T09:33:40.554870Z",
     "iopub.status.busy": "2022-03-18T09:33:40.554470Z",
     "iopub.status.idle": "2022-03-18T09:33:40.565676Z",
     "shell.execute_reply": "2022-03-18T09:33:40.565429Z"
    },
    "papermill": {
     "duration": 0.031927,
     "end_time": "2022-03-18T09:33:40.565724",
     "exception": false,
     "start_time": "2022-03-18T09:33:40.533797",
     "status": "completed"
    },
    "tags": []
   },
   "outputs": [],
   "source": [
    "def add_dataset(\n",
    "    labels,\n",
    "    domains,\n",
    "    pickle_path,\n",
    "    x_transforms,\n",
    "    episode_transforms,\n",
    "    domain_prefix,\n",
    "    num_examples_per_domain_per_label,\n",
    "    source_or_target_dataset:str,\n",
    "    iterator_seed=p.seed,\n",
    "    dataset_seed=p.dataset_seed,\n",
    "    n_shot=p.n_shot,\n",
    "    n_way=p.n_way,\n",
    "    n_query=p.n_query,\n",
    "    train_val_test_k_factors=(p.train_k_factor,p.val_k_factor,p.test_k_factor),\n",
    "):\n",
    "   \n",
    "    if x_transforms == []: x_transform = None\n",
    "    else: x_transform = get_chained_transform(x_transforms)\n",
    "    \n",
    "    if episode_transforms == []: episode_transform = None\n",
    "    else: raise Exception(\"episode_transforms not implemented\")\n",
    "    \n",
    "    episode_transform = lambda tup, _prefix=domain_prefix: (_prefix + str(tup[0]), tup[1])\n",
    "\n",
    "\n",
    "    eaf = Episodic_Accessor_Factory(\n",
    "        labels=labels,\n",
    "        domains=domains,\n",
    "        num_examples_per_domain_per_label=num_examples_per_domain_per_label,\n",
    "        iterator_seed=iterator_seed,\n",
    "        dataset_seed=dataset_seed,\n",
    "        n_shot=n_shot,\n",
    "        n_way=n_way,\n",
    "        n_query=n_query,\n",
    "        train_val_test_k_factors=train_val_test_k_factors,\n",
    "        pickle_path=pickle_path,\n",
    "        x_transform_func=x_transform,\n",
    "    )\n",
    "\n",
    "    train, val, test = eaf.get_train(), eaf.get_val(), eaf.get_test()\n",
    "    train = Lazy_Iterable_Wrapper(train, episode_transform)\n",
    "    val = Lazy_Iterable_Wrapper(val, episode_transform)\n",
    "    test = Lazy_Iterable_Wrapper(test, episode_transform)\n",
    "\n",
    "    if source_or_target_dataset==\"source\":\n",
    "        train_original_source.append(train)\n",
    "        val_original_source.append(val)\n",
    "        test_original_source.append(test)\n",
    "\n",
    "        p.domains_source.extend(\n",
    "            [domain_prefix + str(u) for u in domains]\n",
    "        )\n",
    "    elif source_or_target_dataset==\"target\":\n",
    "        train_original_target.append(train)\n",
    "        val_original_target.append(val)\n",
    "        test_original_target.append(test)\n",
    "        p.domains_target.extend(\n",
    "            [domain_prefix + str(u) for u in domains]\n",
    "        )\n",
    "    else:\n",
    "        raise Exception(f\"invalid source_or_target_dataset: {source_or_target_dataset}\")\n",
    "    "
   ]
  },
  {
   "cell_type": "code",
   "execution_count": 13,
   "id": "fe266617",
   "metadata": {
    "execution": {
     "iopub.execute_input": "2022-03-18T09:33:40.603141Z",
     "iopub.status.busy": "2022-03-18T09:33:40.594513Z",
     "iopub.status.idle": "2022-03-18T09:34:16.114152Z",
     "shell.execute_reply": "2022-03-18T09:34:16.113670Z"
    },
    "papermill": {
     "duration": 35.535005,
     "end_time": "2022-03-18T09:34:16.114250",
     "exception": false,
     "start_time": "2022-03-18T09:33:40.579245",
     "status": "completed"
    },
    "tags": []
   },
   "outputs": [],
   "source": [
    "for ds in p.datasets:\n",
    "    add_dataset(**ds)"
   ]
  },
  {
   "cell_type": "code",
   "execution_count": 14,
   "id": "b90d65ac",
   "metadata": {
    "execution": {
     "iopub.execute_input": "2022-03-18T09:34:16.148834Z",
     "iopub.status.busy": "2022-03-18T09:34:16.147750Z",
     "iopub.status.idle": "2022-03-18T09:34:16.165082Z",
     "shell.execute_reply": "2022-03-18T09:34:16.164636Z"
    },
    "papermill": {
     "duration": 0.032414,
     "end_time": "2022-03-18T09:34:16.165170",
     "exception": false,
     "start_time": "2022-03-18T09:34:16.132756",
     "status": "completed"
    },
    "tags": []
   },
   "outputs": [],
   "source": [
    "# from steves_utils.CORES.utils import (\n",
    "#     ALL_NODES,\n",
    "#     ALL_NODES_MINIMUM_1000_EXAMPLES,\n",
    "#     ALL_DAYS\n",
    "# )\n",
    "\n",
    "# add_dataset(\n",
    "#     labels=ALL_NODES,\n",
    "#     domains = ALL_DAYS,\n",
    "#     num_examples_per_domain_per_label=100,\n",
    "#     pickle_path=os.path.join(get_datasets_base_path(), \"cores.stratified_ds.2022A.pkl\"),\n",
    "#     source_or_target_dataset=\"target\",\n",
    "#     x_transform_func=global_x_transform_func,\n",
    "#     domain_modifier=lambda u: f\"cores_{u}\"\n",
    "# )"
   ]
  },
  {
   "cell_type": "code",
   "execution_count": 15,
   "id": "76db484d",
   "metadata": {
    "execution": {
     "iopub.execute_input": "2022-03-18T09:34:16.204601Z",
     "iopub.status.busy": "2022-03-18T09:34:16.204348Z",
     "iopub.status.idle": "2022-03-18T09:34:16.215141Z",
     "shell.execute_reply": "2022-03-18T09:34:16.214718Z"
    },
    "papermill": {
     "duration": 0.031447,
     "end_time": "2022-03-18T09:34:16.215266",
     "exception": false,
     "start_time": "2022-03-18T09:34:16.183819",
     "status": "completed"
    },
    "tags": []
   },
   "outputs": [],
   "source": [
    "# from steves_utils.ORACLE.utils_v2 import (\n",
    "#     ALL_DISTANCES_FEET,\n",
    "#     ALL_RUNS,\n",
    "#     ALL_SERIAL_NUMBERS,\n",
    "# )\n",
    "\n",
    "\n",
    "# add_dataset(\n",
    "#     labels=ALL_SERIAL_NUMBERS,\n",
    "#     domains = list(set(ALL_DISTANCES_FEET) - {2,62}),\n",
    "#     num_examples_per_domain_per_label=100,\n",
    "#     pickle_path=os.path.join(get_datasets_base_path(), \"oracle.Run2_framed_2000Examples_stratified_ds.2022A.pkl\"),\n",
    "#     source_or_target_dataset=\"source\",\n",
    "#     x_transform_func=global_x_transform_func,\n",
    "#     domain_modifier=lambda u: f\"oracle1_{u}\"\n",
    "# )\n"
   ]
  },
  {
   "cell_type": "code",
   "execution_count": 16,
   "id": "97dea9d2",
   "metadata": {
    "execution": {
     "iopub.execute_input": "2022-03-18T09:34:16.256494Z",
     "iopub.status.busy": "2022-03-18T09:34:16.256012Z",
     "iopub.status.idle": "2022-03-18T09:34:16.266154Z",
     "shell.execute_reply": "2022-03-18T09:34:16.265809Z"
    },
    "papermill": {
     "duration": 0.030578,
     "end_time": "2022-03-18T09:34:16.266224",
     "exception": false,
     "start_time": "2022-03-18T09:34:16.235646",
     "status": "completed"
    },
    "tags": []
   },
   "outputs": [],
   "source": [
    "# from steves_utils.ORACLE.utils_v2 import (\n",
    "#     ALL_DISTANCES_FEET,\n",
    "#     ALL_RUNS,\n",
    "#     ALL_SERIAL_NUMBERS,\n",
    "# )\n",
    "\n",
    "\n",
    "# add_dataset(\n",
    "#     labels=ALL_SERIAL_NUMBERS,\n",
    "#     domains = list(set(ALL_DISTANCES_FEET) - {2,62,56}),\n",
    "#     num_examples_per_domain_per_label=100,\n",
    "#     pickle_path=os.path.join(get_datasets_base_path(), \"oracle.Run2_framed_2000Examples_stratified_ds.2022A.pkl\"),\n",
    "#     source_or_target_dataset=\"source\",\n",
    "#     x_transform_func=global_x_transform_func,\n",
    "#     domain_modifier=lambda u: f\"oracle2_{u}\"\n",
    "# )"
   ]
  },
  {
   "cell_type": "code",
   "execution_count": 17,
   "id": "6f289866",
   "metadata": {
    "execution": {
     "iopub.execute_input": "2022-03-18T09:34:16.308138Z",
     "iopub.status.busy": "2022-03-18T09:34:16.303581Z",
     "iopub.status.idle": "2022-03-18T09:34:16.314367Z",
     "shell.execute_reply": "2022-03-18T09:34:16.313859Z"
    },
    "papermill": {
     "duration": 0.030276,
     "end_time": "2022-03-18T09:34:16.314468",
     "exception": false,
     "start_time": "2022-03-18T09:34:16.284192",
     "status": "completed"
    },
    "tags": []
   },
   "outputs": [],
   "source": [
    "# add_dataset(\n",
    "#     labels=list(range(19)),\n",
    "#     domains = [0,1,2],\n",
    "#     num_examples_per_domain_per_label=100,\n",
    "#     pickle_path=os.path.join(get_datasets_base_path(), \"metehan.stratified_ds.2022A.pkl\"),\n",
    "#     source_or_target_dataset=\"target\",\n",
    "#     x_transform_func=global_x_transform_func,\n",
    "#     domain_modifier=lambda u: f\"met_{u}\"\n",
    "# )"
   ]
  },
  {
   "cell_type": "code",
   "execution_count": 18,
   "id": "86a863c3",
   "metadata": {
    "execution": {
     "iopub.execute_input": "2022-03-18T09:34:16.347756Z",
     "iopub.status.busy": "2022-03-18T09:34:16.347503Z",
     "iopub.status.idle": "2022-03-18T09:34:16.360887Z",
     "shell.execute_reply": "2022-03-18T09:34:16.360549Z"
    },
    "papermill": {
     "duration": 0.030359,
     "end_time": "2022-03-18T09:34:16.360974",
     "exception": false,
     "start_time": "2022-03-18T09:34:16.330615",
     "status": "completed"
    },
    "tags": []
   },
   "outputs": [],
   "source": [
    "# # from steves_utils.wisig.utils import (\n",
    "# #     ALL_NODES_MINIMUM_100_EXAMPLES,\n",
    "# #     ALL_NODES_MINIMUM_500_EXAMPLES,\n",
    "# #     ALL_NODES_MINIMUM_1000_EXAMPLES,\n",
    "# #     ALL_DAYS\n",
    "# # )\n",
    "\n",
    "# import steves_utils.wisig.utils as wisig\n",
    "\n",
    "\n",
    "# add_dataset(\n",
    "#     labels=wisig.ALL_NODES_MINIMUM_100_EXAMPLES,\n",
    "#     domains = wisig.ALL_DAYS,\n",
    "#     num_examples_per_domain_per_label=100,\n",
    "#     pickle_path=os.path.join(get_datasets_base_path(), \"wisig.node3-19.stratified_ds.2022A.pkl\"),\n",
    "#     source_or_target_dataset=\"target\",\n",
    "#     x_transform_func=global_x_transform_func,\n",
    "#     domain_modifier=lambda u: f\"wisig_{u}\"\n",
    "# )"
   ]
  },
  {
   "cell_type": "code",
   "execution_count": 19,
   "id": "fd5442bc",
   "metadata": {
    "execution": {
     "iopub.execute_input": "2022-03-18T09:34:16.398603Z",
     "iopub.status.busy": "2022-03-18T09:34:16.398347Z",
     "iopub.status.idle": "2022-03-18T09:34:16.412206Z",
     "shell.execute_reply": "2022-03-18T09:34:16.411764Z"
    },
    "papermill": {
     "duration": 0.032576,
     "end_time": "2022-03-18T09:34:16.412294",
     "exception": false,
     "start_time": "2022-03-18T09:34:16.379718",
     "status": "completed"
    },
    "tags": []
   },
   "outputs": [],
   "source": [
    "###################################\n",
    "# Build the dataset\n",
    "###################################\n",
    "train_original_source = Iterable_Aggregator(train_original_source, p.seed)\n",
    "val_original_source = Iterable_Aggregator(val_original_source, p.seed)\n",
    "test_original_source = Iterable_Aggregator(test_original_source, p.seed)\n",
    "\n",
    "\n",
    "train_original_target = Iterable_Aggregator(train_original_target, p.seed)\n",
    "val_original_target = Iterable_Aggregator(val_original_target, p.seed)\n",
    "test_original_target = Iterable_Aggregator(test_original_target, p.seed)\n",
    "\n",
    "# For CNN We only use X and Y. And we only train on the source.\n",
    "# Properly form the data using a transform lambda and Lazy_Iterable_Wrapper. Finally wrap them in a dataloader\n",
    "\n",
    "transform_lambda = lambda ex: ex[1] # Original is (<domain>, <episode>) so we strip down to episode only\n",
    "\n",
    "train_processed_source = Lazy_Iterable_Wrapper(train_original_source, transform_lambda)\n",
    "val_processed_source   = Lazy_Iterable_Wrapper(val_original_source, transform_lambda)\n",
    "test_processed_source  = Lazy_Iterable_Wrapper(test_original_source, transform_lambda)\n",
    "\n",
    "train_processed_target = Lazy_Iterable_Wrapper(train_original_target, transform_lambda)\n",
    "val_processed_target   = Lazy_Iterable_Wrapper(val_original_target, transform_lambda)\n",
    "test_processed_target  = Lazy_Iterable_Wrapper(test_original_target, transform_lambda)\n",
    "\n",
    "datasets = EasyDict({\n",
    "    \"source\": {\n",
    "        \"original\": {\"train\":train_original_source, \"val\":val_original_source, \"test\":test_original_source},\n",
    "        \"processed\": {\"train\":train_processed_source, \"val\":val_processed_source, \"test\":test_processed_source}\n",
    "    },\n",
    "    \"target\": {\n",
    "        \"original\": {\"train\":train_original_target, \"val\":val_original_target, \"test\":test_original_target},\n",
    "        \"processed\": {\"train\":train_processed_target, \"val\":val_processed_target, \"test\":test_processed_target}\n",
    "    },\n",
    "})"
   ]
  },
  {
   "cell_type": "code",
   "execution_count": 20,
   "id": "5b3c01fc",
   "metadata": {
    "execution": {
     "iopub.execute_input": "2022-03-18T09:34:16.486517Z",
     "iopub.status.busy": "2022-03-18T09:34:16.448304Z",
     "iopub.status.idle": "2022-03-18T09:34:21.245242Z",
     "shell.execute_reply": "2022-03-18T09:34:21.245667Z"
    },
    "papermill": {
     "duration": 4.814386,
     "end_time": "2022-03-18T09:34:21.245791",
     "exception": false,
     "start_time": "2022-03-18T09:34:16.431405",
     "status": "completed"
    },
    "tags": []
   },
   "outputs": [
    {
     "name": "stdout",
     "output_type": "stream",
     "text": [
      "{'C_A_4', 'W_A_4', 'C_A_3', 'W_A_3', 'C_A_5', 'C_A_1', 'C_A_2', 'W_A_2', 'W_A_1'}\n"
     ]
    },
    {
     "name": "stdout",
     "output_type": "stream",
     "text": [
      "{'ORACLE.run1_50', 'ORACLE.run1_14', 'ORACLE.run1_20', 'ORACLE.run1_32', 'ORACLE.run1_8', 'ORACLE.run1_44', 'ORACLE.run1_26', 'ORACLE.run1_38'}\n"
     ]
    },
    {
     "name": "stdout",
     "output_type": "stream",
     "text": [
      "tensor([[[0., 0., 0.,  ..., 0., 0., 0.],\n",
      "         [0., 0., 0.,  ..., 0., 0., 0.]],\n",
      "\n",
      "        [[0., 0., 0.,  ..., 0., 0., 0.],\n",
      "         [0., 0., 0.,  ..., 0., 0., 0.]],\n",
      "\n",
      "        [[0., 0., 0.,  ..., 0., 0., 0.],\n",
      "         [0., 0., 0.,  ..., 0., 0., 0.]],\n",
      "\n",
      "        ...,\n",
      "\n",
      "        [[0., 0., 0.,  ..., 0., 0., 0.],\n",
      "         [0., 0., 0.,  ..., 0., 0., 0.]],\n",
      "\n",
      "        [[0., 0., 0.,  ..., 0., 0., 0.],\n",
      "         [0., 0., 0.,  ..., 0., 0., 0.]],\n",
      "\n",
      "        [[0., 0., 0.,  ..., 0., 0., 0.],\n",
      "         [0., 0., 0.,  ..., 0., 0., 0.]]])\n"
     ]
    }
   ],
   "source": [
    "from steves_utils.transforms import get_average_magnitude, get_average_power\n",
    "\n",
    "print(set([u for u,_ in val_original_source]))\n",
    "print(set([u for u,_ in val_original_target]))\n",
    "\n",
    "s_x, s_y, q_x, q_y, _ = next(iter(train_processed_source))\n",
    "print(s_x)\n",
    "\n",
    "# for ds in [\n",
    "#     train_processed_source,\n",
    "#     val_processed_source,\n",
    "#     test_processed_source,\n",
    "#     train_processed_target,\n",
    "#     val_processed_target,\n",
    "#     test_processed_target\n",
    "# ]:\n",
    "#     for s_x, s_y, q_x, q_y, _ in ds:\n",
    "#         for X in (s_x, q_x):\n",
    "#             for x in X:\n",
    "#                 assert np.isclose(get_average_magnitude(x.numpy()), 1.0)\n",
    "#                 assert np.isclose(get_average_power(x.numpy()), 1.0)\n",
    "                "
   ]
  },
  {
   "cell_type": "code",
   "execution_count": 21,
   "id": "bbdacba1",
   "metadata": {
    "execution": {
     "iopub.execute_input": "2022-03-18T09:34:21.281237Z",
     "iopub.status.busy": "2022-03-18T09:34:21.280972Z",
     "iopub.status.idle": "2022-03-18T09:34:21.344537Z",
     "shell.execute_reply": "2022-03-18T09:34:21.344767Z"
    },
    "papermill": {
     "duration": 0.082208,
     "end_time": "2022-03-18T09:34:21.344849",
     "exception": false,
     "start_time": "2022-03-18T09:34:21.262641",
     "status": "completed"
    },
    "tags": []
   },
   "outputs": [
    {
     "name": "stdout",
     "output_type": "stream",
     "text": [
      "(2, 256)\n"
     ]
    }
   ],
   "source": [
    "###################################\n",
    "# Build the model\n",
    "###################################\n",
    "# easfsl only wants a tuple for the shape\n",
    "model = Steves_Prototypical_Network(x_net, device=p.device, x_shape=tuple(p.x_shape))\n",
    "optimizer = Adam(params=model.parameters(), lr=p.lr)"
   ]
  },
  {
   "cell_type": "code",
   "execution_count": 22,
   "id": "22b39ac5",
   "metadata": {
    "execution": {
     "iopub.execute_input": "2022-03-18T09:34:21.377288Z",
     "iopub.status.busy": "2022-03-18T09:34:21.377032Z",
     "iopub.status.idle": "2022-03-18T09:44:38.624454Z",
     "shell.execute_reply": "2022-03-18T09:44:38.623965Z"
    },
    "papermill": {
     "duration": 617.264419,
     "end_time": "2022-03-18T09:44:38.624559",
     "exception": false,
     "start_time": "2022-03-18T09:34:21.360140",
     "status": "completed"
    },
    "tags": []
   },
   "outputs": [
    {
     "name": "stdout",
     "output_type": "stream",
     "text": [
      "epoch: 1, [batch: 1 / 2081], examples_per_second: 126.2218, train_label_loss: 1.7236, \n"
     ]
    },
    {
     "name": "stdout",
     "output_type": "stream",
     "text": [
      "epoch: 1, [batch: 209 / 2081], examples_per_second: 3165.2794, train_label_loss: 0.2404, \n"
     ]
    },
    {
     "name": "stdout",
     "output_type": "stream",
     "text": [
      "epoch: 1, [batch: 417 / 2081], examples_per_second: 3215.8479, train_label_loss: 0.8847, \n"
     ]
    },
    {
     "name": "stdout",
     "output_type": "stream",
     "text": [
      "epoch: 1, [batch: 625 / 2081], examples_per_second: 3231.0930, train_label_loss: 0.0150, \n"
     ]
    },
    {
     "name": "stdout",
     "output_type": "stream",
     "text": [
      "epoch: 1, [batch: 833 / 2081], examples_per_second: 3256.9618, train_label_loss: 0.5792, \n"
     ]
    },
    {
     "name": "stdout",
     "output_type": "stream",
     "text": [
      "epoch: 1, [batch: 1041 / 2081], examples_per_second: 3218.0034, train_label_loss: 0.2272, \n"
     ]
    },
    {
     "name": "stdout",
     "output_type": "stream",
     "text": [
      "epoch: 1, [batch: 1249 / 2081], examples_per_second: 3234.2981, train_label_loss: 0.7285, \n"
     ]
    },
    {
     "name": "stdout",
     "output_type": "stream",
     "text": [
      "epoch: 1, [batch: 1457 / 2081], examples_per_second: 3202.6669, train_label_loss: 0.7798, \n"
     ]
    },
    {
     "name": "stdout",
     "output_type": "stream",
     "text": [
      "epoch: 1, [batch: 1665 / 2081], examples_per_second: 3212.8877, train_label_loss: 0.2302, \n"
     ]
    },
    {
     "name": "stdout",
     "output_type": "stream",
     "text": [
      "epoch: 1, [batch: 1873 / 2081], examples_per_second: 3207.1196, train_label_loss: 0.3535, \n"
     ]
    },
    {
     "name": "stdout",
     "output_type": "stream",
     "text": [
      "=============================================================\n",
      "epoch: 1, source_val_acc_label: 0.9330, target_val_acc_label: 0.2937, source_val_label_loss: 0.3639, target_val_label_loss: 10.2045, \n",
      "=============================================================\n"
     ]
    },
    {
     "name": "stdout",
     "output_type": "stream",
     "text": [
      "New best\n"
     ]
    },
    {
     "name": "stdout",
     "output_type": "stream",
     "text": [
      "epoch: 2, [batch: 1 / 2079], examples_per_second: 10.4724, train_label_loss: 0.1150, \n"
     ]
    },
    {
     "name": "stdout",
     "output_type": "stream",
     "text": [
      "epoch: 2, [batch: 208 / 2079], examples_per_second: 3196.8711, train_label_loss: 1.7996, \n"
     ]
    },
    {
     "name": "stdout",
     "output_type": "stream",
     "text": [
      "epoch: 2, [batch: 416 / 2079], examples_per_second: 3225.4640, train_label_loss: 0.1311, \n"
     ]
    },
    {
     "name": "stdout",
     "output_type": "stream",
     "text": [
      "epoch: 2, [batch: 624 / 2079], examples_per_second: 3235.4452, train_label_loss: 0.7357, \n"
     ]
    },
    {
     "name": "stdout",
     "output_type": "stream",
     "text": [
      "epoch: 2, [batch: 832 / 2079], examples_per_second: 3240.7824, train_label_loss: 0.1142, \n"
     ]
    },
    {
     "name": "stdout",
     "output_type": "stream",
     "text": [
      "epoch: 2, [batch: 1040 / 2079], examples_per_second: 3239.2946, train_label_loss: 0.4626, \n"
     ]
    },
    {
     "name": "stdout",
     "output_type": "stream",
     "text": [
      "epoch: 2, [batch: 1247 / 2079], examples_per_second: 3244.0485, train_label_loss: 0.0537, \n"
     ]
    },
    {
     "name": "stdout",
     "output_type": "stream",
     "text": [
      "epoch: 2, [batch: 1455 / 2079], examples_per_second: 3218.3264, train_label_loss: 0.4802, \n"
     ]
    },
    {
     "name": "stdout",
     "output_type": "stream",
     "text": [
      "epoch: 2, [batch: 1663 / 2079], examples_per_second: 3258.0691, train_label_loss: 0.1592, \n"
     ]
    },
    {
     "name": "stdout",
     "output_type": "stream",
     "text": [
      "epoch: 2, [batch: 1871 / 2079], examples_per_second: 3244.5469, train_label_loss: 0.2366, \n"
     ]
    },
    {
     "name": "stdout",
     "output_type": "stream",
     "text": [
      "=============================================================\n",
      "epoch: 2, source_val_acc_label: 0.9448, target_val_acc_label: 0.5090, source_val_label_loss: 0.2674, target_val_label_loss: 2.4083, \n",
      "=============================================================\n"
     ]
    },
    {
     "name": "stdout",
     "output_type": "stream",
     "text": [
      "New best\n"
     ]
    },
    {
     "name": "stdout",
     "output_type": "stream",
     "text": [
      "epoch: 3, [batch: 1 / 2082], examples_per_second: 10.4810, train_label_loss: 0.4482, \n"
     ]
    },
    {
     "name": "stdout",
     "output_type": "stream",
     "text": [
      "epoch: 3, [batch: 209 / 2082], examples_per_second: 3186.9975, train_label_loss: 0.6397, \n"
     ]
    },
    {
     "name": "stdout",
     "output_type": "stream",
     "text": [
      "epoch: 3, [batch: 417 / 2082], examples_per_second: 3221.9225, train_label_loss: 0.4900, \n"
     ]
    },
    {
     "name": "stdout",
     "output_type": "stream",
     "text": [
      "epoch: 3, [batch: 625 / 2082], examples_per_second: 3224.5496, train_label_loss: 0.4260, \n"
     ]
    },
    {
     "name": "stdout",
     "output_type": "stream",
     "text": [
      "epoch: 3, [batch: 833 / 2082], examples_per_second: 3239.4523, train_label_loss: 0.4021, \n"
     ]
    },
    {
     "name": "stdout",
     "output_type": "stream",
     "text": [
      "epoch: 3, [batch: 1041 / 2082], examples_per_second: 3224.9476, train_label_loss: 0.1186, \n"
     ]
    },
    {
     "name": "stdout",
     "output_type": "stream",
     "text": [
      "epoch: 3, [batch: 1249 / 2082], examples_per_second: 3252.1339, train_label_loss: 0.0249, \n"
     ]
    },
    {
     "name": "stdout",
     "output_type": "stream",
     "text": [
      "epoch: 3, [batch: 1457 / 2082], examples_per_second: 3208.5900, train_label_loss: 0.1413, \n"
     ]
    },
    {
     "name": "stdout",
     "output_type": "stream",
     "text": [
      "epoch: 3, [batch: 1665 / 2082], examples_per_second: 3219.0208, train_label_loss: 0.0788, \n"
     ]
    },
    {
     "name": "stdout",
     "output_type": "stream",
     "text": [
      "epoch: 3, [batch: 1873 / 2082], examples_per_second: 3240.0397, train_label_loss: 0.3177, \n"
     ]
    },
    {
     "name": "stdout",
     "output_type": "stream",
     "text": [
      "=============================================================\n",
      "epoch: 3, source_val_acc_label: 0.9325, target_val_acc_label: 0.4691, source_val_label_loss: 0.3180, target_val_label_loss: 2.4309, \n",
      "=============================================================\n"
     ]
    },
    {
     "name": "stdout",
     "output_type": "stream",
     "text": [
      "epoch: 4, [batch: 1 / 2080], examples_per_second: 10.5260, train_label_loss: 0.5286, \n"
     ]
    },
    {
     "name": "stdout",
     "output_type": "stream",
     "text": [
      "epoch: 4, [batch: 208 / 2080], examples_per_second: 3180.6327, train_label_loss: 0.4864, \n"
     ]
    },
    {
     "name": "stdout",
     "output_type": "stream",
     "text": [
      "epoch: 4, [batch: 416 / 2080], examples_per_second: 3213.8046, train_label_loss: 0.0989, \n"
     ]
    },
    {
     "name": "stdout",
     "output_type": "stream",
     "text": [
      "epoch: 4, [batch: 624 / 2080], examples_per_second: 3211.5986, train_label_loss: 0.0415, \n"
     ]
    },
    {
     "name": "stdout",
     "output_type": "stream",
     "text": [
      "epoch: 4, [batch: 832 / 2080], examples_per_second: 3229.8887, train_label_loss: 0.2166, \n"
     ]
    },
    {
     "name": "stdout",
     "output_type": "stream",
     "text": [
      "epoch: 4, [batch: 1040 / 2080], examples_per_second: 3211.9131, train_label_loss: 0.0294, \n"
     ]
    },
    {
     "name": "stdout",
     "output_type": "stream",
     "text": [
      "epoch: 4, [batch: 1248 / 2080], examples_per_second: 3223.8235, train_label_loss: 0.0718, \n"
     ]
    },
    {
     "name": "stdout",
     "output_type": "stream",
     "text": [
      "epoch: 4, [batch: 1456 / 2080], examples_per_second: 3201.0651, train_label_loss: 0.1831, \n"
     ]
    },
    {
     "name": "stdout",
     "output_type": "stream",
     "text": [
      "epoch: 4, [batch: 1664 / 2080], examples_per_second: 3261.6985, train_label_loss: 0.1831, \n"
     ]
    },
    {
     "name": "stdout",
     "output_type": "stream",
     "text": [
      "epoch: 4, [batch: 1872 / 2080], examples_per_second: 3232.8154, train_label_loss: 0.3649, \n"
     ]
    },
    {
     "name": "stdout",
     "output_type": "stream",
     "text": [
      "=============================================================\n",
      "epoch: 4, source_val_acc_label: 0.9580, target_val_acc_label: 0.4632, source_val_label_loss: 0.2048, target_val_label_loss: 2.2536, \n",
      "=============================================================\n"
     ]
    },
    {
     "name": "stdout",
     "output_type": "stream",
     "text": [
      "New best\n"
     ]
    },
    {
     "name": "stdout",
     "output_type": "stream",
     "text": [
      "epoch: 5, [batch: 1 / 2079], examples_per_second: 10.3951, train_label_loss: 0.1038, \n"
     ]
    },
    {
     "name": "stdout",
     "output_type": "stream",
     "text": [
      "epoch: 5, [batch: 208 / 2079], examples_per_second: 3184.0553, train_label_loss: 0.2923, \n"
     ]
    },
    {
     "name": "stdout",
     "output_type": "stream",
     "text": [
      "epoch: 5, [batch: 416 / 2079], examples_per_second: 3228.7942, train_label_loss: 0.2517, \n"
     ]
    },
    {
     "name": "stdout",
     "output_type": "stream",
     "text": [
      "epoch: 5, [batch: 624 / 2079], examples_per_second: 3220.0341, train_label_loss: 0.1210, \n"
     ]
    },
    {
     "name": "stdout",
     "output_type": "stream",
     "text": [
      "epoch: 5, [batch: 832 / 2079], examples_per_second: 3223.4332, train_label_loss: 0.0207, \n"
     ]
    },
    {
     "name": "stdout",
     "output_type": "stream",
     "text": [
      "epoch: 5, [batch: 1040 / 2079], examples_per_second: 3227.1791, train_label_loss: 0.4470, \n"
     ]
    },
    {
     "name": "stdout",
     "output_type": "stream",
     "text": [
      "epoch: 5, [batch: 1247 / 2079], examples_per_second: 3204.1796, train_label_loss: 0.3849, \n"
     ]
    },
    {
     "name": "stdout",
     "output_type": "stream",
     "text": [
      "epoch: 5, [batch: 1455 / 2079], examples_per_second: 3200.0625, train_label_loss: 0.2992, \n"
     ]
    },
    {
     "name": "stdout",
     "output_type": "stream",
     "text": [
      "epoch: 5, [batch: 1663 / 2079], examples_per_second: 3236.7210, train_label_loss: 0.1188, \n"
     ]
    },
    {
     "name": "stdout",
     "output_type": "stream",
     "text": [
      "epoch: 5, [batch: 1871 / 2079], examples_per_second: 3226.3525, train_label_loss: 0.4268, \n"
     ]
    },
    {
     "name": "stdout",
     "output_type": "stream",
     "text": [
      "=============================================================\n",
      "epoch: 5, source_val_acc_label: 0.9595, target_val_acc_label: 0.4523, source_val_label_loss: 0.2145, target_val_label_loss: 2.1206, \n",
      "=============================================================\n"
     ]
    },
    {
     "name": "stdout",
     "output_type": "stream",
     "text": [
      "New best\n"
     ]
    },
    {
     "name": "stdout",
     "output_type": "stream",
     "text": [
      "epoch: 6, [batch: 1 / 2081], examples_per_second: 10.5030, train_label_loss: 0.5895, \n"
     ]
    },
    {
     "name": "stdout",
     "output_type": "stream",
     "text": [
      "epoch: 6, [batch: 209 / 2081], examples_per_second: 3187.8069, train_label_loss: 0.0476, \n"
     ]
    },
    {
     "name": "stdout",
     "output_type": "stream",
     "text": [
      "epoch: 6, [batch: 417 / 2081], examples_per_second: 3209.5050, train_label_loss: 0.2246, \n"
     ]
    },
    {
     "name": "stdout",
     "output_type": "stream",
     "text": [
      "epoch: 6, [batch: 625 / 2081], examples_per_second: 3218.1550, train_label_loss: 0.0103, \n"
     ]
    },
    {
     "name": "stdout",
     "output_type": "stream",
     "text": [
      "epoch: 6, [batch: 833 / 2081], examples_per_second: 3227.1993, train_label_loss: 0.0216, \n"
     ]
    },
    {
     "name": "stdout",
     "output_type": "stream",
     "text": [
      "epoch: 6, [batch: 1041 / 2081], examples_per_second: 3200.6123, train_label_loss: 0.3102, \n"
     ]
    },
    {
     "name": "stdout",
     "output_type": "stream",
     "text": [
      "epoch: 6, [batch: 1249 / 2081], examples_per_second: 3211.5527, train_label_loss: 0.0648, \n"
     ]
    },
    {
     "name": "stdout",
     "output_type": "stream",
     "text": [
      "epoch: 6, [batch: 1457 / 2081], examples_per_second: 3219.7666, train_label_loss: 0.0016, \n"
     ]
    },
    {
     "name": "stdout",
     "output_type": "stream",
     "text": [
      "epoch: 6, [batch: 1665 / 2081], examples_per_second: 3179.2867, train_label_loss: 0.0509, \n"
     ]
    },
    {
     "name": "stdout",
     "output_type": "stream",
     "text": [
      "epoch: 6, [batch: 1873 / 2081], examples_per_second: 3216.9688, train_label_loss: 0.0783, \n"
     ]
    },
    {
     "name": "stdout",
     "output_type": "stream",
     "text": [
      "=============================================================\n",
      "epoch: 6, source_val_acc_label: 0.9669, target_val_acc_label: 0.4254, source_val_label_loss: 0.1606, target_val_label_loss: 2.0672, \n",
      "=============================================================\n"
     ]
    },
    {
     "name": "stdout",
     "output_type": "stream",
     "text": [
      "New best\n"
     ]
    },
    {
     "name": "stdout",
     "output_type": "stream",
     "text": [
      "epoch: 7, [batch: 1 / 2075], examples_per_second: 10.4195, train_label_loss: 0.0499, \n"
     ]
    },
    {
     "name": "stdout",
     "output_type": "stream",
     "text": [
      "epoch: 7, [batch: 208 / 2075], examples_per_second: 3162.5082, train_label_loss: 0.0022, \n"
     ]
    },
    {
     "name": "stdout",
     "output_type": "stream",
     "text": [
      "epoch: 7, [batch: 415 / 2075], examples_per_second: 3245.8952, train_label_loss: 0.0142, \n"
     ]
    },
    {
     "name": "stdout",
     "output_type": "stream",
     "text": [
      "epoch: 7, [batch: 623 / 2075], examples_per_second: 3235.2640, train_label_loss: 0.5470, \n"
     ]
    },
    {
     "name": "stdout",
     "output_type": "stream",
     "text": [
      "epoch: 7, [batch: 830 / 2075], examples_per_second: 3218.2849, train_label_loss: 0.1558, \n"
     ]
    },
    {
     "name": "stdout",
     "output_type": "stream",
     "text": [
      "epoch: 7, [batch: 1038 / 2075], examples_per_second: 3215.4539, train_label_loss: 0.0654, \n"
     ]
    },
    {
     "name": "stdout",
     "output_type": "stream",
     "text": [
      "epoch: 7, [batch: 1245 / 2075], examples_per_second: 3232.4568, train_label_loss: 0.0369, \n"
     ]
    },
    {
     "name": "stdout",
     "output_type": "stream",
     "text": [
      "epoch: 7, [batch: 1452 / 2075], examples_per_second: 3217.2839, train_label_loss: 0.3728, \n"
     ]
    },
    {
     "name": "stdout",
     "output_type": "stream",
     "text": [
      "epoch: 7, [batch: 1660 / 2075], examples_per_second: 3237.3205, train_label_loss: 0.3882, \n"
     ]
    },
    {
     "name": "stdout",
     "output_type": "stream",
     "text": [
      "epoch: 7, [batch: 1867 / 2075], examples_per_second: 3228.3498, train_label_loss: 0.0456, \n"
     ]
    },
    {
     "name": "stdout",
     "output_type": "stream",
     "text": [
      "=============================================================\n",
      "epoch: 7, source_val_acc_label: 0.9571, target_val_acc_label: 0.4677, source_val_label_loss: 0.2009, target_val_label_loss: 2.1266, \n",
      "=============================================================\n"
     ]
    },
    {
     "name": "stdout",
     "output_type": "stream",
     "text": [
      "epoch: 8, [batch: 1 / 2082], examples_per_second: 10.5246, train_label_loss: 0.1614, \n"
     ]
    },
    {
     "name": "stdout",
     "output_type": "stream",
     "text": [
      "epoch: 8, [batch: 209 / 2082], examples_per_second: 3194.3570, train_label_loss: 0.0607, \n"
     ]
    },
    {
     "name": "stdout",
     "output_type": "stream",
     "text": [
      "epoch: 8, [batch: 417 / 2082], examples_per_second: 3222.1594, train_label_loss: 0.2571, \n"
     ]
    },
    {
     "name": "stdout",
     "output_type": "stream",
     "text": [
      "epoch: 8, [batch: 625 / 2082], examples_per_second: 3220.5693, train_label_loss: 0.5380, \n"
     ]
    },
    {
     "name": "stdout",
     "output_type": "stream",
     "text": [
      "epoch: 8, [batch: 833 / 2082], examples_per_second: 3259.6941, train_label_loss: 0.0025, \n"
     ]
    },
    {
     "name": "stdout",
     "output_type": "stream",
     "text": [
      "epoch: 8, [batch: 1041 / 2082], examples_per_second: 3205.7277, train_label_loss: 0.0366, \n"
     ]
    },
    {
     "name": "stdout",
     "output_type": "stream",
     "text": [
      "epoch: 8, [batch: 1249 / 2082], examples_per_second: 3252.3963, train_label_loss: 0.0227, \n"
     ]
    },
    {
     "name": "stdout",
     "output_type": "stream",
     "text": [
      "epoch: 8, [batch: 1457 / 2082], examples_per_second: 3240.1141, train_label_loss: 0.0272, \n"
     ]
    },
    {
     "name": "stdout",
     "output_type": "stream",
     "text": [
      "epoch: 8, [batch: 1665 / 2082], examples_per_second: 3201.2558, train_label_loss: 0.2575, \n"
     ]
    },
    {
     "name": "stdout",
     "output_type": "stream",
     "text": [
      "epoch: 8, [batch: 1873 / 2082], examples_per_second: 3238.9834, train_label_loss: 0.2139, \n"
     ]
    },
    {
     "name": "stdout",
     "output_type": "stream",
     "text": [
      "=============================================================\n",
      "epoch: 8, source_val_acc_label: 0.9633, target_val_acc_label: 0.4730, source_val_label_loss: 0.1734, target_val_label_loss: 2.1195, \n",
      "=============================================================\n"
     ]
    },
    {
     "name": "stdout",
     "output_type": "stream",
     "text": [
      "epoch: 9, [batch: 1 / 2079], examples_per_second: 10.4712, train_label_loss: 0.2695, \n"
     ]
    },
    {
     "name": "stdout",
     "output_type": "stream",
     "text": [
      "epoch: 9, [batch: 208 / 2079], examples_per_second: 3175.9748, train_label_loss: 0.0067, \n"
     ]
    },
    {
     "name": "stdout",
     "output_type": "stream",
     "text": [
      "epoch: 9, [batch: 416 / 2079], examples_per_second: 3232.0638, train_label_loss: 0.0720, \n"
     ]
    },
    {
     "name": "stdout",
     "output_type": "stream",
     "text": [
      "epoch: 9, [batch: 624 / 2079], examples_per_second: 3248.7163, train_label_loss: 0.0798, \n"
     ]
    },
    {
     "name": "stdout",
     "output_type": "stream",
     "text": [
      "epoch: 9, [batch: 832 / 2079], examples_per_second: 3250.6273, train_label_loss: 0.1354, \n"
     ]
    },
    {
     "name": "stdout",
     "output_type": "stream",
     "text": [
      "epoch: 9, [batch: 1040 / 2079], examples_per_second: 3217.0253, train_label_loss: 0.0854, \n"
     ]
    },
    {
     "name": "stdout",
     "output_type": "stream",
     "text": [
      "epoch: 9, [batch: 1247 / 2079], examples_per_second: 3235.0607, train_label_loss: 0.0065, \n"
     ]
    },
    {
     "name": "stdout",
     "output_type": "stream",
     "text": [
      "epoch: 9, [batch: 1455 / 2079], examples_per_second: 3244.6969, train_label_loss: 0.0258, \n"
     ]
    },
    {
     "name": "stdout",
     "output_type": "stream",
     "text": [
      "epoch: 9, [batch: 1663 / 2079], examples_per_second: 3199.4128, train_label_loss: 0.1648, \n"
     ]
    },
    {
     "name": "stdout",
     "output_type": "stream",
     "text": [
      "epoch: 9, [batch: 1871 / 2079], examples_per_second: 3210.8385, train_label_loss: 0.0783, \n"
     ]
    },
    {
     "name": "stdout",
     "output_type": "stream",
     "text": [
      "=============================================================\n",
      "epoch: 9, source_val_acc_label: 0.9675, target_val_acc_label: 0.4704, source_val_label_loss: 0.1432, target_val_label_loss: 2.1530, \n",
      "=============================================================\n"
     ]
    },
    {
     "name": "stdout",
     "output_type": "stream",
     "text": [
      "epoch: 10, [batch: 1 / 2078], examples_per_second: 10.4848, train_label_loss: 0.0746, \n"
     ]
    },
    {
     "name": "stdout",
     "output_type": "stream",
     "text": [
      "epoch: 10, [batch: 208 / 2078], examples_per_second: 3176.8245, train_label_loss: 0.0071, \n"
     ]
    },
    {
     "name": "stdout",
     "output_type": "stream",
     "text": [
      "epoch: 10, [batch: 416 / 2078], examples_per_second: 3234.4791, train_label_loss: 0.3433, \n"
     ]
    },
    {
     "name": "stdout",
     "output_type": "stream",
     "text": [
      "epoch: 10, [batch: 624 / 2078], examples_per_second: 3228.6922, train_label_loss: 0.1122, \n"
     ]
    },
    {
     "name": "stdout",
     "output_type": "stream",
     "text": [
      "epoch: 10, [batch: 831 / 2078], examples_per_second: 3224.4609, train_label_loss: 0.2941, \n"
     ]
    },
    {
     "name": "stdout",
     "output_type": "stream",
     "text": [
      "epoch: 10, [batch: 1039 / 2078], examples_per_second: 3217.4318, train_label_loss: 0.0013, \n"
     ]
    },
    {
     "name": "stdout",
     "output_type": "stream",
     "text": [
      "epoch: 10, [batch: 1247 / 2078], examples_per_second: 3227.6949, train_label_loss: 0.2888, \n"
     ]
    },
    {
     "name": "stdout",
     "output_type": "stream",
     "text": [
      "epoch: 10, [batch: 1454 / 2078], examples_per_second: 3236.9449, train_label_loss: 0.7077, \n"
     ]
    },
    {
     "name": "stdout",
     "output_type": "stream",
     "text": [
      "epoch: 10, [batch: 1662 / 2078], examples_per_second: 3216.5437, train_label_loss: 0.3166, \n"
     ]
    },
    {
     "name": "stdout",
     "output_type": "stream",
     "text": [
      "epoch: 10, [batch: 1870 / 2078], examples_per_second: 3240.6174, train_label_loss: 0.6063, \n"
     ]
    },
    {
     "name": "stdout",
     "output_type": "stream",
     "text": [
      "=============================================================\n",
      "epoch: 10, source_val_acc_label: 0.9622, target_val_acc_label: 0.4866, source_val_label_loss: 0.1686, target_val_label_loss: 2.2190, \n",
      "=============================================================\n"
     ]
    },
    {
     "name": "stdout",
     "output_type": "stream",
     "text": [
      "Patience (3) exhausted\n"
     ]
    }
   ],
   "source": [
    "###################################\n",
    "# train\n",
    "###################################\n",
    "jig = PTN_Train_Eval_Test_Jig(model, p.BEST_MODEL_PATH, p.device)\n",
    "\n",
    "jig.train(\n",
    "    train_iterable=datasets.source.processed.train,\n",
    "    source_val_iterable=datasets.source.processed.val,\n",
    "    target_val_iterable=datasets.target.processed.val,\n",
    "    num_epochs=p.n_epoch,\n",
    "    num_logs_per_epoch=p.NUM_LOGS_PER_EPOCH,\n",
    "    patience=p.patience,\n",
    "    optimizer=optimizer,\n",
    "    criteria_for_best=p.criteria_for_best,\n",
    ")"
   ]
  },
  {
   "cell_type": "code",
   "execution_count": 23,
   "id": "31e8fabf",
   "metadata": {
    "execution": {
     "iopub.execute_input": "2022-03-18T09:44:38.701948Z",
     "iopub.status.busy": "2022-03-18T09:44:38.701699Z",
     "iopub.status.idle": "2022-03-18T09:44:38.720549Z",
     "shell.execute_reply": "2022-03-18T09:44:38.720118Z"
    },
    "papermill": {
     "duration": 0.056295,
     "end_time": "2022-03-18T09:44:38.720658",
     "exception": false,
     "start_time": "2022-03-18T09:44:38.664363",
     "status": "completed"
    },
    "tags": []
   },
   "outputs": [],
   "source": [
    "total_experiment_time_secs = time.time() - start_time_secs"
   ]
  },
  {
   "cell_type": "code",
   "execution_count": 24,
   "id": "87b9595b",
   "metadata": {
    "execution": {
     "iopub.execute_input": "2022-03-18T09:44:38.802671Z",
     "iopub.status.busy": "2022-03-18T09:44:38.802409Z",
     "iopub.status.idle": "2022-03-18T09:45:43.556548Z",
     "shell.execute_reply": "2022-03-18T09:45:43.556291Z"
    },
    "papermill": {
     "duration": 64.795494,
     "end_time": "2022-03-18T09:45:43.556618",
     "exception": false,
     "start_time": "2022-03-18T09:44:38.761124",
     "status": "completed"
    },
    "tags": []
   },
   "outputs": [],
   "source": [
    "###################################\n",
    "# Evaluate the model\n",
    "###################################\n",
    "source_test_label_accuracy, source_test_label_loss = jig.test(datasets.source.processed.test)\n",
    "target_test_label_accuracy, target_test_label_loss = jig.test(datasets.target.processed.test)\n",
    "\n",
    "source_val_label_accuracy, source_val_label_loss = jig.test(datasets.source.processed.val)\n",
    "target_val_label_accuracy, target_val_label_loss = jig.test(datasets.target.processed.val)\n",
    "\n",
    "history = jig.get_history()\n",
    "\n",
    "total_epochs_trained = len(history[\"epoch_indices\"])\n",
    "\n",
    "val_dl = Iterable_Aggregator((datasets.source.original.val,datasets.target.original.val))\n",
    "\n",
    "confusion = ptn_confusion_by_domain_over_dataloader(model, p.device, val_dl)\n",
    "per_domain_accuracy = per_domain_accuracy_from_confusion(confusion)\n",
    "\n",
    "# Add a key to per_domain_accuracy for if it was a source domain\n",
    "for domain, accuracy in per_domain_accuracy.items():\n",
    "    per_domain_accuracy[domain] = {\n",
    "        \"accuracy\": accuracy,\n",
    "        \"source?\": domain in p.domains_source\n",
    "    }\n",
    "\n",
    "# Do an independent accuracy assesment JUST TO BE SURE!\n",
    "# _source_test_label_accuracy = independent_accuracy_assesment(model, datasets.source.processed.test, p.device)\n",
    "# _target_test_label_accuracy = independent_accuracy_assesment(model, datasets.target.processed.test, p.device)\n",
    "# _source_val_label_accuracy = independent_accuracy_assesment(model, datasets.source.processed.val, p.device)\n",
    "# _target_val_label_accuracy = independent_accuracy_assesment(model, datasets.target.processed.val, p.device)\n",
    "\n",
    "# assert(_source_test_label_accuracy == source_test_label_accuracy)\n",
    "# assert(_target_test_label_accuracy == target_test_label_accuracy)\n",
    "# assert(_source_val_label_accuracy == source_val_label_accuracy)\n",
    "# assert(_target_val_label_accuracy == target_val_label_accuracy)\n",
    "\n",
    "experiment = {\n",
    "    \"experiment_name\": p.experiment_name,\n",
    "    \"parameters\": dict(p),\n",
    "    \"results\": {\n",
    "        \"source_test_label_accuracy\": source_test_label_accuracy,\n",
    "        \"source_test_label_loss\": source_test_label_loss,\n",
    "        \"target_test_label_accuracy\": target_test_label_accuracy,\n",
    "        \"target_test_label_loss\": target_test_label_loss,\n",
    "        \"source_val_label_accuracy\": source_val_label_accuracy,\n",
    "        \"source_val_label_loss\": source_val_label_loss,\n",
    "        \"target_val_label_accuracy\": target_val_label_accuracy,\n",
    "        \"target_val_label_loss\": target_val_label_loss,\n",
    "        \"total_epochs_trained\": total_epochs_trained,\n",
    "        \"total_experiment_time_secs\": total_experiment_time_secs,\n",
    "        \"confusion\": confusion,\n",
    "        \"per_domain_accuracy\": per_domain_accuracy,\n",
    "    },\n",
    "    \"history\": history,\n",
    "    \"dataset_metrics\": get_dataset_metrics(datasets, \"ptn\"),\n",
    "}"
   ]
  },
  {
   "cell_type": "code",
   "execution_count": 25,
   "id": "54a21829",
   "metadata": {
    "execution": {
     "iopub.execute_input": "2022-03-18T09:45:43.634945Z",
     "iopub.status.busy": "2022-03-18T09:45:43.634686Z",
     "iopub.status.idle": "2022-03-18T09:45:43.753009Z",
     "shell.execute_reply": "2022-03-18T09:45:43.753367Z"
    },
    "papermill": {
     "duration": 0.156117,
     "end_time": "2022-03-18T09:45:43.753482",
     "exception": false,
     "start_time": "2022-03-18T09:45:43.597365",
     "status": "completed"
    },
    "tags": []
   },
   "outputs": [
    {
     "data": {
      "image/png": "[encoded data removed]",
      "text/plain": [
       "<Figure size 1080x504 with 1 Axes>"
      ]
     },
     "metadata": {
      "needs_background": "light"
     },
     "output_type": "display_data"
    }
   ],
   "source": [
    "ax = get_loss_curve(experiment)\n",
    "plt.show()"
   ]
  },
  {
   "cell_type": "code",
   "execution_count": 26,
   "id": "fd8a0f60",
   "metadata": {
    "execution": {
     "iopub.execute_input": "2022-03-18T09:45:43.832655Z",
     "iopub.status.busy": "2022-03-18T09:45:43.832404Z",
     "iopub.status.idle": "2022-03-18T09:45:43.974702Z",
     "shell.execute_reply": "2022-03-18T09:45:43.974479Z"
    },
    "papermill": {
     "duration": 0.180623,
     "end_time": "2022-03-18T09:45:43.974754",
     "exception": false,
     "start_time": "2022-03-18T09:45:43.794131",
     "status": "completed"
    },
    "tags": []
   },
   "outputs": [
    {
     "data": {
      "text/plain": [
       "<AxesSubplot:title={'center':'Results'}>"
      ]
     },
     "execution_count": 26,
     "metadata": {},
     "output_type": "execute_result"
    },
    {
     "data": {
      "image/png": "[encoded data removed]",
      "text/plain": [
       "<Figure size 1080x504 with 1 Axes>"
      ]
     },
     "metadata": {
      "needs_background": "light"
     },
     "output_type": "display_data"
    }
   ],
   "source": [
    "get_results_table(experiment)"
   ]
  },
  {
   "cell_type": "code",
   "execution_count": 27,
   "id": "cf8dc689",
   "metadata": {
    "execution": {
     "iopub.execute_input": "2022-03-18T09:45:44.052712Z",
     "iopub.status.busy": "2022-03-18T09:45:44.052458Z",
     "iopub.status.idle": "2022-03-18T09:45:44.211427Z",
     "shell.execute_reply": "2022-03-18T09:45:44.210957Z"
    },
    "papermill": {
     "duration": 0.198325,
     "end_time": "2022-03-18T09:45:44.211517",
     "exception": false,
     "start_time": "2022-03-18T09:45:44.013192",
     "status": "completed"
    },
    "tags": []
   },
   "outputs": [
    {
     "data": {
      "text/plain": [
       "<AxesSubplot:title={'center':'Per Domain Validation Accuracy'}, xlabel='domain'>"
      ]
     },
     "execution_count": 27,
     "metadata": {},
     "output_type": "execute_result"
    },
    {
     "data": {
      "image/png": "[encoded data removed]",
      "text/plain": [
       "<Figure size 1080x504 with 1 Axes>"
      ]
     },
     "metadata": {
      "needs_background": "light"
     },
     "output_type": "display_data"
    }
   ],
   "source": [
    "get_domain_accuracies(experiment)"
   ]
  },
  {
   "cell_type": "code",
   "execution_count": 28,
   "id": "a74ae082",
   "metadata": {
    "execution": {
     "iopub.execute_input": "2022-03-18T09:45:44.294306Z",
     "iopub.status.busy": "2022-03-18T09:45:44.294057Z",
     "iopub.status.idle": "2022-03-18T09:45:44.310718Z",
     "shell.execute_reply": "2022-03-18T09:45:44.310279Z"
    },
    "papermill": {
     "duration": 0.057102,
     "end_time": "2022-03-18T09:45:44.310808",
     "exception": false,
     "start_time": "2022-03-18T09:45:44.253706",
     "status": "completed"
    },
    "tags": []
   },
   "outputs": [
    {
     "name": "stdout",
     "output_type": "stream",
     "text": [
      "Source Test Label Accuracy: 0.9632919520547946 Target Test Label Accuracy: 0.42900390625\n",
      "Source Val Label Accuracy: 0.9669306506849316 Target Val Label Accuracy: 0.4254231770833333\n"
     ]
    }
   ],
   "source": [
    "print(\"Source Test Label Accuracy:\", experiment[\"results\"][\"source_test_label_accuracy\"], \"Target Test Label Accuracy:\", experiment[\"results\"][\"target_test_label_accuracy\"])\n",
    "print(\"Source Val Label Accuracy:\", experiment[\"results\"][\"source_val_label_accuracy\"], \"Target Val Label Accuracy:\", experiment[\"results\"][\"target_val_label_accuracy\"])"
   ]
  },
  {
   "cell_type": "code",
   "execution_count": 29,
   "id": "dacca602",
   "metadata": {
    "execution": {
     "iopub.execute_input": "2022-03-18T09:45:44.394048Z",
     "iopub.status.busy": "2022-03-18T09:45:44.393804Z",
     "iopub.status.idle": "2022-03-18T09:45:44.411291Z",
     "shell.execute_reply": "2022-03-18T09:45:44.411659Z"
    },
    "papermill": {
     "duration": 0.058313,
     "end_time": "2022-03-18T09:45:44.411763",
     "exception": false,
     "start_time": "2022-03-18T09:45:44.353450",
     "status": "completed"
    },
    "tags": [
     "experiment_json"
    ]
   },
   "outputs": [
    {
     "data": {
      "text/plain": [
       "'{\"experiment_name\": \"tl_3-jitter5:cores+wisig -> oracle.run1.framed\", \"parameters\": {\"experiment_name\": \"tl_3-jitter5:cores+wisig -> oracle.run1.framed\", \"device\": \"cuda\", \"lr\": 0.001, \"seed\": 1337, \"dataset_seed\": 1337, \"n_shot\": 3, \"n_query\": 2, \"train_k_factor\": 3, \"val_k_factor\": 2, \"test_k_factor\": 2, \"torch_default_dtype\": \"torch.float32\", \"n_epoch\": 50, \"patience\": 3, \"criteria_for_best\": \"target_loss\", \"x_net\": [{\"class\": \"nnReshape\", \"kargs\": {\"shape\": [-1, 1, 2, 256]}}, {\"class\": \"Conv2d\", \"kargs\": {\"in_channels\": 1, \"out_channels\": 256, \"kernel_size\": [1, 7], \"bias\": false, \"padding\": [0, 3]}}, {\"class\": \"ReLU\", \"kargs\": {\"inplace\": true}}, {\"class\": \"BatchNorm2d\", \"kargs\": {\"num_features\": 256}}, {\"class\": \"Conv2d\", \"kargs\": {\"in_channels\": 256, \"out_channels\": 80, \"kernel_size\": [2, 7], \"bias\": true, \"padding\": [0, 3]}}, {\"class\": \"ReLU\", \"kargs\": {\"inplace\": true}}, {\"class\": \"BatchNorm2d\", \"kargs\": {\"num_features\": 80}}, {\"class\": \"Flatten\", \"kargs\": {}}, {\"class\": \"Linear\", \"kargs\": {\"in_features\": 20480, \"out_features\": 256}}, {\"class\": \"ReLU\", \"kargs\": {\"inplace\": true}}, {\"class\": \"BatchNorm1d\", \"kargs\": {\"num_features\": 256}}, {\"class\": \"Linear\", \"kargs\": {\"in_features\": 256, \"out_features\": 256}}], \"NUM_LOGS_PER_EPOCH\": 10, \"BEST_MODEL_PATH\": \"./best_model.pth\", \"n_way\": 16, \"datasets\": [{\"labels\": [\"1-10.\", \"1-11.\", \"1-15.\", \"1-16.\", \"1-17.\", \"1-18.\", \"1-19.\", \"10-4.\", \"10-7.\", \"11-1.\", \"11-14.\", \"11-17.\", \"11-20.\", \"11-7.\", \"13-20.\", \"13-8.\", \"14-10.\", \"14-11.\", \"14-14.\", \"14-7.\", \"15-1.\", \"15-20.\", \"16-1.\", \"16-16.\", \"17-10.\", \"17-11.\", \"17-2.\", \"19-1.\", \"19-16.\", \"19-19.\", \"19-20.\", \"19-3.\", \"2-10.\", \"2-11.\", \"2-17.\", \"2-18.\", \"2-20.\", \"2-3.\", \"2-4.\", \"2-5.\", \"2-6.\", \"2-7.\", \"2-8.\", \"3-13.\", \"3-18.\", \"3-3.\", \"4-1.\", \"4-10.\", \"4-11.\", \"4-19.\", \"5-5.\", \"6-15.\", \"7-10.\", \"7-14.\", \"8-18.\", \"8-20.\", \"8-3.\", \"8-8.\"], \"domains\": [1, 2, 3, 4, 5], \"num_examples_per_domain_per_label\": 100, \"pickle_path\": \"/mnt/wd500GB/CSC500/csc500-main/datasets/cores.stratified_ds.2022A.pkl\", \"source_or_target_dataset\": \"source\", \"x_transforms\": [\"jitter_256_5\", \"take_200\"], \"episode_transforms\": [], \"domain_prefix\": \"C_A_\"}, {\"labels\": [\"1-10\", \"1-12\", \"1-14\", \"1-16\", \"1-18\", \"1-19\", \"1-8\", \"10-11\", \"10-17\", \"10-4\", \"10-7\", \"11-1\", \"11-10\", \"11-19\", \"11-20\", \"11-4\", \"11-7\", \"12-19\", \"12-20\", \"12-7\", \"13-14\", \"13-18\", \"13-19\", \"13-20\", \"13-3\", \"13-7\", \"14-10\", \"14-11\", \"14-12\", \"14-13\", \"14-14\", \"14-19\", \"14-20\", \"14-7\", \"14-8\", \"14-9\", \"15-1\", \"15-19\", \"15-6\", \"16-1\", \"16-16\", \"16-19\", \"16-20\", \"17-10\", \"17-11\", \"18-1\", \"18-10\", \"18-11\", \"18-12\", \"18-13\", \"18-14\", \"18-15\", \"18-16\", \"18-17\", \"18-19\", \"18-2\", \"18-20\", \"18-4\", \"18-5\", \"18-7\", \"18-8\", \"18-9\", \"19-1\", \"19-10\", \"19-11\", \"19-12\", \"19-13\", \"19-14\", \"19-15\", \"19-19\", \"19-2\", \"19-20\", \"19-3\", \"19-4\", \"19-6\", \"19-7\", \"19-8\", \"19-9\", \"2-1\", \"2-13\", \"2-15\", \"2-3\", \"2-4\", \"2-5\", \"2-6\", \"2-7\", \"2-8\", \"20-1\", \"20-12\", \"20-14\", \"20-15\", \"20-16\", \"20-18\", \"20-19\", \"20-20\", \"20-3\", \"20-4\", \"20-5\", \"20-7\", \"20-8\", \"3-1\", \"3-13\", \"3-18\", \"3-2\", \"3-8\", \"4-1\", \"4-10\", \"4-11\", \"5-1\", \"5-5\", \"6-1\", \"6-15\", \"6-6\", \"7-10\", \"7-11\", \"7-12\", \"7-13\", \"7-14\", \"7-7\", \"7-8\", \"7-9\", \"8-1\", \"8-13\", \"8-14\", \"8-18\", \"8-20\", \"8-3\", \"8-8\", \"9-1\", \"9-7\"], \"domains\": [1, 2, 3, 4], \"num_examples_per_domain_per_label\": 100, \"pickle_path\": \"/mnt/wd500GB/CSC500/csc500-main/datasets/wisig.node3-19.stratified_ds.2022A.pkl\", \"source_or_target_dataset\": \"source\", \"x_transforms\": [\"jitter_256_5\", \"take_200\"], \"episode_transforms\": [], \"domain_prefix\": \"W_A_\"}, {\"labels\": [\"3123D52\", \"3123D65\", \"3123D79\", \"3123D80\", \"3123D54\", \"3123D70\", \"3123D7B\", \"3123D89\", \"3123D58\", \"3123D76\", \"3123D7D\", \"3123EFE\", \"3123D64\", \"3123D78\", \"3123D7E\", \"3124E4A\"], \"domains\": [32, 38, 8, 44, 14, 50, 20, 26], \"num_examples_per_domain_per_label\": 2000, \"pickle_path\": \"/mnt/wd500GB/CSC500/csc500-main/datasets/oracle.Run1_framed_2000Examples_stratified_ds.2022A.pkl\", \"source_or_target_dataset\": \"target\", \"x_transforms\": [\"jitter_256_5\", \"take_200\", \"resample_20Msps_to_25Msps\"], \"episode_transforms\": [], \"domain_prefix\": \"ORACLE.run1_\"}], \"x_shape\": [2, 256], \"domains_source\": [\"C_A_1\", \"C_A_2\", \"C_A_3\", \"C_A_4\", \"C_A_5\", \"W_A_1\", \"W_A_2\", \"W_A_3\", \"W_A_4\"], \"domains_target\": [\"ORACLE.run1_32\", \"ORACLE.run1_38\", \"ORACLE.run1_8\", \"ORACLE.run1_44\", \"ORACLE.run1_14\", \"ORACLE.run1_50\", \"ORACLE.run1_20\", \"ORACLE.run1_26\"]}, \"results\": {\"source_test_label_accuracy\": 0.9632919520547946, \"source_test_label_loss\": 0.1697724312543869, \"target_test_label_accuracy\": 0.42900390625, \"target_test_label_loss\": 2.0657904148101807, \"source_val_label_accuracy\": 0.9669306506849316, \"source_val_label_loss\": 0.16055673360824585, \"target_val_label_accuracy\": 0.4254231770833333, \"target_val_label_loss\": 2.0672452449798584, \"total_epochs_trained\": 10, \"total_experiment_time_secs\": 658.2830901145935, \"confusion\": {\"W_A_3\": {\"109\": {\"109\": 12}, \"127\": {\"127\": 12}, \"14\": {\"14\": 12}, \"7\": {\"7\": 12}, \"129\": {\"129\": 12}, \"57\": {\"57\": 11, \"17\": 1}, \"84\": {\"84\": 12}, \"114\": {\"114\": 12}, \"44\": {\"44\": 10, \"100\": 1, \"29\": 1}, \"21\": {\"21\": 12}, \"46\": {\"46\": 12}, \"100\": {\"100\": 12}, \"63\": {\"63\": 8, \"57\": 1, \"6\": 1, \"62\": 1, \"54\": 1}, \"24\": {\"24\": 9, \"21\": 1, \"79\": 1, \"36\": 1}, \"107\": {\"107\": 12}, \"35\": {\"57\": 1, \"35\": 8, \"106\": 1}, \"81\": {\"81\": 12}, \"64\": {\"64\": 11, \"121\": 1}, \"59\": {\"36\": 1, \"59\": 11}, \"33\": {\"33\": 12}, \"34\": {\"34\": 11, \"75\": 1}, \"36\": {\"36\": 12}, \"79\": {\"79\": 12}, \"80\": {\"80\": 11, \"31\": 1}, \"77\": {\"77\": 12}, \"22\": {\"22\": 12}, \"124\": {\"124\": 12}, \"2\": {\"64\": 1, \"2\": 10, \"117\": 1}, \"87\": {\"87\": 11, \"106\": 1}, \"105\": {\"105\": 12}, \"95\": {\"95\": 12}, \"43\": {\"43\": 12}, \"56\": {\"56\": 10}, \"18\": {\"18\": 12}, \"85\": {\"85\": 11, \"112\": 1}, \"113\": {\"113\": 12}, \"97\": {\"97\": 12}, \"86\": {\"86\": 12}, \"128\": {\"56\": 1, \"128\": 11}, \"123\": {\"123\": 12}, \"8\": {\"8\": 12}, \"110\": {\"110\": 12}, \"126\": {\"126\": 10, \"39\": 2}, \"101\": {\"101\": 12}, \"115\": {\"115\": 12}, \"49\": {\"49\": 12}, \"45\": {\"45\": 11, \"115\": 1}, \"78\": {\"78\": 10, \"121\": 1, \"13\": 1}, \"65\": {\"65\": 9, \"81\": 1}, \"54\": {\"54\": 12}, \"31\": {\"31\": 9, \"116\": 1}, \"42\": {\"42\": 11, \"82\": 1}, \"68\": {\"68\": 12}, \"15\": {\"15\": 12}, \"69\": {\"69\": 12}, \"17\": {\"48\": 1, \"17\": 5, \"104\": 1, \"80\": 1, \"37\": 2}, \"73\": {\"73\": 12}, \"121\": {\"121\": 12}, \"102\": {\"102\": 12}, \"48\": {\"48\": 9, \"104\": 2, \"86\": 1}, \"23\": {\"23\": 12}, \"108\": {\"108\": 11, \"36\": 1}, \"53\": {\"53\": 12}, \"94\": {\"94\": 10}, \"41\": {\"41\": 12}, \"58\": {\"58\": 12}, \"29\": {\"29\": 12}, \"116\": {\"116\": 12}, \"60\": {\"60\": 11, \"23\": 1}, \"104\": {\"104\": 12}, \"106\": {\"106\": 12}, \"66\": {\"66\": 12}, \"47\": {\"47\": 12}, \"40\": {\"40\": 12}, \"82\": {\"82\": 11, \"30\": 1}, \"13\": {\"17\": 2, \"31\": 1, \"13\": 7, \"29\": 1, \"110\": 1}, \"19\": {\"19\": 11, \"100\": 1}, \"72\": {\"72\": 12}, \"9\": {\"9\": 12}, \"67\": {\"67\": 11, \"17\": 1}, \"11\": {\"11\": 12}, \"125\": {\"125\": 12}, \"76\": {\"76\": 8}, \"83\": {\"83\": 12}, \"74\": {\"74\": 12}, \"20\": {\"20\": 12}, \"119\": {\"119\": 11, \"48\": 1}, \"1\": {\"1\": 12}, \"16\": {\"16\": 12}, \"25\": {\"25\": 11, \"74\": 1}, \"90\": {\"90\": 8}, \"39\": {\"39\": 12}, \"28\": {\"28\": 12}, \"55\": {\"55\": 12}, \"117\": {\"117\": 12}, \"112\": {\"112\": 11, \"53\": 1}, \"38\": {\"38\": 11, \"55\": 1}, \"37\": {\"37\": 12}, \"120\": {\"117\": 1, \"120\": 8, \"13\": 2, \"121\": 1}, \"122\": {\"122\": 12}, \"50\": {\"50\": 12}, \"10\": {\"10\": 12}, \"5\": {\"5\": 12}, \"51\": {\"51\": 11, \"72\": 1}, \"3\": {\"3\": 10, \"70\": 1, \"5\": 1}, \"98\": {\"98\": 11, \"21\": 1}, \"70\": {\"70\": 12}, \"96\": {\"96\": 12}, \"12\": {\"12\": 12}, \"99\": {\"99\": 12}, \"52\": {\"52\": 12}, \"71\": {\"71\": 8, \"86\": 1, \"120\": 1, \"3\": 2}, \"89\": {\"89\": 12}, \"0\": {\"0\": 12}, \"4\": {\"4\": 9, \"88\": 1, \"79\": 1, \"23\": 1}, \"93\": {\"93\": 12}, \"6\": {\"6\": 9, \"77\": 1}, \"75\": {\"75\": 12}, \"62\": {\"62\": 12}, \"103\": {\"103\": 12}, \"30\": {\"30\": 12}, \"91\": {\"91\": 9, \"19\": 1, \"46\": 1, \"77\": 1}, \"27\": {\"27\": 12}, \"26\": {\"26\": 12}, \"61\": {\"61\": 12}, \"118\": {\"118\": 12}, \"92\": {\"92\": 12}, \"111\": {\"111\": 12}, \"32\": {\"32\": 10, \"98\": 1, \"100\": 1}, \"88\": {\"88\": 10}}, \"C_A_3\": {\"43\": {\"43\": 12}, \"9\": {\"9\": 12}, \"6\": {\"6\": 10}, \"3\": {\"3\": 12}, \"16\": {\"16\": 12}, \"51\": {\"51\": 12}, \"31\": {\"31\": 12}, \"46\": {\"46\": 10}, \"19\": {\"19\": 8}, \"8\": {\"8\": 12}, \"18\": {\"18\": 12}, \"37\": {\"37\": 12}, \"24\": {\"24\": 12}, \"10\": {\"10\": 12}, \"44\": {\"44\": 10}, \"14\": {\"14\": 12}, \"38\": {\"38\": 10}, \"53\": {\"53\": 12}, \"20\": {\"20\": 12}, \"32\": {\"32\": 12}, \"36\": {\"36\": 10}, \"33\": {\"33\": 12}, \"56\": {\"56\": 12}, \"23\": {\"23\": 12}, \"54\": {\"54\": 10}, \"34\": {\"34\": 12}, \"13\": {\"13\": 12}, \"2\": {\"2\": 12}, \"55\": {\"55\": 10}, \"21\": {\"21\": 10}, \"49\": {\"49\": 9, \"13\": 1}, \"25\": {\"25\": 12}, \"5\": {\"5\": 12}, \"50\": {\"50\": 8}, \"40\": {\"40\": 12}, \"57\": {\"57\": 8}, \"22\": {\"22\": 10}, \"1\": {\"1\": 10}, \"17\": {\"17\": 12}, \"41\": {\"41\": 12}, \"4\": {\"4\": 10}, \"7\": {\"7\": 10}, \"26\": {\"26\": 10}, \"29\": {\"29\": 12}, \"52\": {\"52\": 12}, \"15\": {\"15\": 12}, \"35\": {\"35\": 12}, \"42\": {\"42\": 12}, \"30\": {\"30\": 10}, \"27\": {\"27\": 8}, \"45\": {\"45\": 10}, \"0\": {\"0\": 12}, \"28\": {\"28\": 12}, \"47\": {\"47\": 12}, \"11\": {\"11\": 10}, \"39\": {\"39\": 10}, \"48\": {\"48\": 12}, \"12\": {\"12\": 8}}, \"C_A_4\": {\"35\": {\"35\": 10}, \"25\": {\"25\": 12}, \"24\": {\"24\": 10}, \"48\": {\"48\": 12}, \"51\": {\"51\": 12}, \"13\": {\"13\": 12}, \"14\": {\"14\": 7, \"2\": 1}, \"32\": {\"32\": 12}, \"30\": {\"30\": 12}, \"34\": {\"34\": 10}, \"9\": {\"9\": 12}, \"1\": {\"1\": 12}, \"0\": {\"0\": 12}, \"38\": {\"38\": 12}, \"22\": {\"22\": 8}, \"40\": {\"40\": 12}, \"39\": {\"39\": 12}, \"46\": {\"46\": 12}, \"36\": {\"36\": 12}, \"50\": {\"50\": 12}, \"49\": {\"49\": 10, \"7\": 2}, \"17\": {\"17\": 12}, \"45\": {\"45\": 12}, \"6\": {\"6\": 12}, \"8\": {\"8\": 12}, \"5\": {\"5\": 10}, \"33\": {\"33\": 12}, \"31\": {\"31\": 12}, \"37\": {\"37\": 10}, \"47\": {\"47\": 8}, \"15\": {\"15\": 10}, \"7\": {\"7\": 12}, \"20\": {\"20\": 12}, \"4\": {\"4\": 12}, \"54\": {\"54\": 12}, \"44\": {\"44\": 12}, \"3\": {\"3\": 12}, \"11\": {\"11\": 10}, \"27\": {\"27\": 10}, \"19\": {\"19\": 12}, \"55\": {\"55\": 12}, \"16\": {\"16\": 12}, \"2\": {\"2\": 10}, \"52\": {\"52\": 10}, \"42\": {\"42\": 10}, \"26\": {\"26\": 11, \"34\": 1}, \"10\": {\"10\": 12}, \"53\": {\"53\": 10}, \"28\": {\"28\": 12}, \"21\": {\"21\": 10}, \"57\": {\"57\": 10}, \"23\": {\"23\": 8}, \"43\": {\"43\": 10}, \"12\": {\"12\": 12}, \"41\": {\"41\": 12}, \"56\": {\"56\": 8}, \"18\": {\"18\": 10}, \"29\": {\"29\": 8}}, \"W_A_4\": {\"28\": {\"28\": 12}, \"4\": {\"4\": 12}, \"72\": {\"72\": 12}, \"111\": {\"111\": 12}, \"108\": {\"108\": 11, \"10\": 1}, \"43\": {\"43\": 10}, \"96\": {\"96\": 12}, \"89\": {\"89\": 12}, \"31\": {\"31\": 12}, \"45\": {\"45\": 12}, \"2\": {\"90\": 1, \"2\": 10, \"63\": 1}, \"114\": {\"114\": 12}, \"11\": {\"11\": 12}, \"12\": {\"12\": 12}, \"14\": {\"14\": 12}, \"90\": {\"90\": 12}, \"10\": {\"10\": 10, \"27\": 1, \"108\": 1}, \"63\": {\"64\": 1, \"63\": 10, \"82\": 1}, \"85\": {\"85\": 11, \"121\": 1}, \"64\": {\"64\": 12}, \"82\": {\"82\": 10, \"57\": 1, \"63\": 1}, \"58\": {\"58\": 12}, \"3\": {\"3\": 12}, \"54\": {\"54\": 12}, \"121\": {\"121\": 11, \"90\": 1}, \"42\": {\"42\": 12}, \"98\": {\"98\": 12}, \"123\": {\"123\": 11, \"90\": 1}, \"91\": {\"91\": 11, \"42\": 1}, \"66\": {\"66\": 10, \"90\": 2}, \"102\": {\"102\": 12}, \"122\": {\"122\": 10, \"110\": 1, \"43\": 1}, \"1\": {\"1\": 12}, \"15\": {\"15\": 11, \"8\": 1}, \"97\": {\"108\": 1, \"97\": 10, \"115\": 1}, \"75\": {\"75\": 12}, \"95\": {\"95\": 12}, \"57\": {\"66\": 1, \"57\": 11}, \"68\": {\"68\": 12}, \"125\": {\"125\": 12}, \"62\": {\"62\": 10}, \"27\": {\"27\": 10, \"21\": 1, \"37\": 1}, \"120\": {\"120\": 11, \"103\": 1}, \"26\": {\"26\": 12}, \"55\": {\"55\": 12}, \"71\": {\"71\": 11, \"88\": 1}, \"22\": {\"22\": 12}, \"99\": {\"99\": 11, \"21\": 1}, \"84\": {\"84\": 10, \"103\": 1, \"0\": 1}, \"37\": {\"37\": 12}, \"83\": {\"83\": 12}, \"46\": {\"46\": 11, \"119\": 1}, \"35\": {\"35\": 12}, \"13\": {\"13\": 12}, \"53\": {\"53\": 10, \"88\": 1, \"21\": 1}, \"127\": {\"127\": 12}, \"69\": {\"115\": 1, \"69\": 10, \"35\": 1}, \"48\": {\"48\": 11, \"46\": 1}, \"16\": {\"16\": 12}, \"0\": {\"0\": 11, \"129\": 1}, \"8\": {\"8\": 10, \"115\": 1, \"100\": 1}, \"9\": {\"9\": 12}, \"115\": {\"57\": 2, \"115\": 9, \"64\": 1}, \"70\": {\"70\": 9, \"92\": 1, \"36\": 2}, \"119\": {\"119\": 12}, \"59\": {\"59\": 12}, \"52\": {\"52\": 12}, \"60\": {\"60\": 12}, \"44\": {\"44\": 11, \"90\": 1}, \"51\": {\"51\": 8, \"6\": 1, \"47\": 1, \"122\": 1, \"127\": 1}, \"6\": {\"6\": 10, \"59\": 2}, \"73\": {\"73\": 12}, \"78\": {\"78\": 12}, \"92\": {\"92\": 12}, \"20\": {\"20\": 11, \"23\": 1}, \"17\": {\"17\": 12}, \"74\": {\"74\": 12}, \"19\": {\"19\": 12}, \"50\": {\"50\": 12}, \"34\": {\"34\": 10, \"76\": 1, \"59\": 1}, \"104\": {\"104\": 7, \"17\": 1}, \"33\": {\"33\": 11, \"51\": 1}, \"5\": {\"5\": 12}, \"7\": {\"7\": 11, \"120\": 1}, \"29\": {\"29\": 12}, \"25\": {\"25\": 12}, \"124\": {\"124\": 12}, \"117\": {\"117\": 10, \"113\": 1, \"61\": 1}, \"88\": {\"88\": 11, \"47\": 1}, \"61\": {\"61\": 11, \"88\": 1}, \"86\": {\"86\": 12}, \"116\": {\"116\": 12}, \"24\": {\"24\": 12}, \"128\": {\"128\": 10, \"21\": 1, \"100\": 1}, \"101\": {\"101\": 12}, \"65\": {\"65\": 9, \"86\": 1}, \"36\": {\"36\": 12}, \"21\": {\"21\": 12}, \"106\": {\"106\": 12}, \"118\": {\"118\": 10, \"88\": 1, \"57\": 1}, \"113\": {\"113\": 11, \"51\": 1}, \"40\": {\"40\": 12}, \"93\": {\"93\": 8}, \"94\": {\"94\": 10, \"36\": 2}, \"103\": {\"103\": 7, \"77\": 2, \"115\": 1, \"50\": 1, \"120\": 1}, \"110\": {\"110\": 12}, \"56\": {\"56\": 12}, \"39\": {\"39\": 12}, \"109\": {\"109\": 12}, \"67\": {\"67\": 10, \"48\": 1, \"88\": 1}, \"129\": {\"129\": 11, \"42\": 1}, \"30\": {\"30\": 12}, \"126\": {\"126\": 10, \"23\": 1, \"50\": 1}, \"87\": {\"21\": 1, \"87\": 11}, \"112\": {\"112\": 12}, \"100\": {\"100\": 10, \"20\": 1, \"46\": 1}, \"79\": {\"79\": 10}, \"81\": {\"81\": 11, \"61\": 1}, \"76\": {\"76\": 10}, \"47\": {\"47\": 11, \"21\": 1}, \"77\": {\"77\": 12}, \"23\": {\"103\": 1, \"0\": 2, \"23\": 3, \"121\": 2, \"106\": 2, \"120\": 1, \"21\": 1}, \"18\": {\"18\": 12}, \"49\": {\"49\": 12}, \"41\": {\"41\": 10, \"125\": 1, \"4\": 1}, \"32\": {\"76\": 1, \"32\": 11}, \"107\": {\"107\": 10}, \"80\": {\"80\": 11, \"38\": 1}, \"105\": {\"105\": 9, \"113\": 1}, \"38\": {\"38\": 10}}, \"W_A_1\": {\"108\": {\"108\": 10}, \"40\": {\"40\": 11, \"105\": 1}, \"68\": {\"68\": 12}, \"23\": {\"110\": 1, \"23\": 9, \"60\": 2}, \"26\": {\"70\": 1, \"26\": 11}, \"64\": {\"64\": 12}, \"22\": {\"22\": 12}, \"3\": {\"3\": 12}, \"4\": {\"4\": 11, \"26\": 1}, \"70\": {\"70\": 12}, \"57\": {\"57\": 12}, \"79\": {\"79\": 12}, \"9\": {\"9\": 11, \"47\": 1}, \"89\": {\"89\": 12}, \"110\": {\"110\": 12}, \"102\": {\"102\": 12}, \"31\": {\"31\": 12}, \"58\": {\"58\": 12}, \"47\": {\"47\": 12}, \"24\": {\"24\": 12}, \"19\": {\"19\": 12}, \"11\": {\"11\": 12}, \"52\": {\"52\": 12}, \"17\": {\"17\": 12}, \"25\": {\"25\": 12}, \"69\": {\"69\": 12}, \"96\": {\"96\": 12}, \"109\": {\"109\": 12}, \"115\": {\"115\": 12}, \"83\": {\"83\": 7, \"81\": 1, \"106\": 1, \"104\": 2, \"98\": 1}, \"84\": {\"84\": 12}, \"119\": {\"119\": 10}, \"122\": {\"122\": 10}, \"99\": {\"99\": 12}, \"1\": {\"1\": 12}, \"74\": {\"74\": 10, \"88\": 1, \"129\": 1}, \"85\": {\"85\": 12}, \"127\": {\"127\": 12}, \"111\": {\"111\": 12}, \"53\": {\"53\": 12}, \"88\": {\"88\": 12}, \"65\": {\"65\": 8, \"129\": 1, \"124\": 1}, \"7\": {\"7\": 12}, \"16\": {\"16\": 11, \"95\": 1}, \"128\": {\"128\": 11, \"61\": 1}, \"34\": {\"34\": 12}, \"129\": {\"129\": 12}, \"43\": {\"43\": 12}, \"92\": {\"92\": 12}, \"28\": {\"28\": 12}, \"27\": {\"27\": 12}, \"114\": {\"114\": 12}, \"73\": {\"73\": 12}, \"0\": {\"0\": 12}, \"104\": {\"104\": 12}, \"118\": {\"118\": 12}, \"41\": {\"41\": 12}, \"49\": {\"49\": 12}, \"14\": {\"14\": 12}, \"46\": {\"66\": 1, \"46\": 9, \"109\": 1, \"91\": 1}, \"33\": {\"33\": 12}, \"76\": {\"76\": 12}, \"125\": {\"125\": 12}, \"86\": {\"86\": 10}, \"66\": {\"66\": 10, \"61\": 1, \"51\": 1}, \"5\": {\"5\": 12}, \"117\": {\"117\": 12}, \"75\": {\"75\": 12}, \"61\": {\"61\": 12}, \"50\": {\"50\": 11, \"6\": 1}, \"67\": {\"67\": 10}, \"18\": {\"18\": 12}, \"98\": {\"98\": 12}, \"55\": {\"55\": 10}, \"32\": {\"32\": 12}, \"120\": {\"120\": 12}, \"97\": {\"97\": 11, \"126\": 1}, \"126\": {\"126\": 12}, \"45\": {\"45\": 12}, \"78\": {\"78\": 8, \"21\": 1, \"11\": 1}, \"100\": {\"100\": 12}, \"107\": {\"107\": 12}, \"93\": {\"93\": 12}, \"77\": {\"77\": 12}, \"63\": {\"63\": 12}, \"112\": {\"112\": 12}, \"113\": {\"113\": 12}, \"103\": {\"103\": 10}, \"71\": {\"71\": 11, \"127\": 1}, \"30\": {\"30\": 12}, \"90\": {\"90\": 12}, \"37\": {\"65\": 1, \"37\": 11}, \"60\": {\"60\": 11, \"70\": 1}, \"15\": {\"15\": 12}, \"39\": {\"39\": 12}, \"72\": {\"72\": 12}, \"54\": {\"54\": 12}, \"35\": {\"35\": 12}, \"2\": {\"2\": 12}, \"94\": {\"94\": 11, \"109\": 1}, \"42\": {\"42\": 11, \"83\": 1}, \"81\": {\"81\": 12}, \"8\": {\"8\": 12}, \"87\": {\"87\": 12}, \"6\": {\"6\": 11, \"42\": 1}, \"36\": {\"36\": 12}, \"91\": {\"91\": 11, \"42\": 1}, \"56\": {\"56\": 12}, \"80\": {\"80\": 11, \"23\": 1}, \"124\": {\"124\": 10}, \"44\": {\"44\": 12}, \"13\": {\"13\": 12}, \"10\": {\"10\": 10, \"21\": 1, \"41\": 1}, \"59\": {\"59\": 11, \"66\": 1}, \"95\": {\"95\": 12}, \"105\": {\"105\": 11, \"38\": 1}, \"101\": {\"101\": 12}, \"20\": {\"20\": 12}, \"48\": {\"48\": 11, \"123\": 1}, \"106\": {\"106\": 12}, \"51\": {\"51\": 12}, \"21\": {\"21\": 11, \"70\": 1}, \"123\": {\"123\": 12}, \"121\": {\"121\": 12}, \"38\": {\"38\": 12}, \"62\": {\"62\": 12}, \"29\": {\"29\": 12}, \"82\": {\"82\": 12}, \"116\": {\"116\": 12}, \"12\": {\"12\": 8}}, \"C_A_5\": {\"47\": {\"47\": 10}, \"53\": {\"53\": 12}, \"29\": {\"29\": 12}, \"52\": {\"52\": 12}, \"55\": {\"55\": 12}, \"17\": {\"17\": 12}, \"42\": {\"42\": 12}, \"33\": {\"33\": 10}, \"11\": {\"11\": 12}, \"19\": {\"19\": 8}, \"1\": {\"1\": 12}, \"44\": {\"44\": 12}, \"49\": {\"49\": 12}, \"4\": {\"4\": 12}, \"6\": {\"6\": 11, \"45\": 1}, \"39\": {\"39\": 12}, \"13\": {\"13\": 12}, \"5\": {\"5\": 10}, \"16\": {\"16\": 10}, \"25\": {\"25\": 12}, \"45\": {\"45\": 12}, \"7\": {\"7\": 10}, \"22\": {\"22\": 11, \"56\": 1}, \"40\": {\"40\": 12}, \"38\": {\"38\": 12}, \"35\": {\"35\": 8}, \"56\": {\"56\": 12}, \"50\": {\"50\": 10}, \"0\": {\"0\": 12}, \"10\": {\"10\": 12}, \"27\": {\"27\": 12}, \"20\": {\"20\": 10}, \"36\": {\"36\": 8}, \"34\": {\"34\": 12}, \"30\": {\"30\": 12}, \"2\": {\"2\": 10}, \"15\": {\"15\": 12}, \"18\": {\"18\": 12}, \"32\": {\"32\": 12}, \"31\": {\"31\": 12}, \"57\": {\"57\": 12}, \"48\": {\"48\": 8}, \"28\": {\"28\": 10}, \"14\": {\"14\": 10, \"29\": 2}, \"3\": {\"3\": 12}, \"8\": {\"8\": 12}, \"9\": {\"9\": 12}, \"21\": {\"21\": 10}, \"41\": {\"41\": 11, \"8\": 1}, \"24\": {\"24\": 12}, \"46\": {\"46\": 10}, \"43\": {\"43\": 10}, \"54\": {\"54\": 10}, \"23\": {\"23\": 10}, \"37\": {\"37\": 10}, \"12\": {\"12\": 10}, \"26\": {\"26\": 10}, \"51\": {\"51\": 6}}, \"C_A_1\": {\"46\": {\"46\": 12}, \"16\": {\"16\": 12}, \"26\": {\"26\": 12}, \"10\": {\"10\": 12}, \"9\": {\"9\": 10}, \"28\": {\"28\": 12}, \"51\": {\"51\": 12}, \"1\": {\"1\": 12}, \"55\": {\"55\": 12}, \"27\": {\"27\": 10}, \"22\": {\"22\": 12}, \"52\": {\"52\": 12}, \"3\": {\"3\": 12}, \"33\": {\"33\": 8}, \"47\": {\"47\": 12}, \"42\": {\"42\": 12}, \"12\": {\"12\": 4}, \"23\": {\"23\": 12}, \"49\": {\"49\": 10}, \"7\": {\"7\": 12}, \"4\": {\"4\": 12}, \"50\": {\"50\": 12}, \"19\": {\"19\": 12}, \"11\": {\"11\": 12}, \"31\": {\"31\": 10}, \"41\": {\"41\": 12}, \"56\": {\"56\": 10}, \"0\": {\"0\": 12}, \"57\": {\"57\": 12}, \"53\": {\"53\": 12}, \"43\": {\"43\": 12}, \"37\": {\"37\": 12}, \"2\": {\"2\": 8}, \"6\": {\"6\": 12}, \"18\": {\"18\": 12}, \"38\": {\"38\": 11, \"32\": 1}, \"15\": {\"15\": 12}, \"36\": {\"36\": 12}, \"39\": {\"39\": 8}, \"44\": {\"44\": 12}, \"8\": {\"8\": 12}, \"17\": {\"17\": 10}, \"5\": {\"5\": 12}, \"13\": {\"13\": 10}, \"40\": {\"40\": 10}, \"29\": {\"29\": 12}, \"48\": {\"48\": 12}, \"32\": {\"32\": 12}, \"30\": {\"30\": 12}, \"35\": {\"35\": 12}, \"25\": {\"25\": 12}, \"14\": {\"14\": 5, \"30\": 7}, \"54\": {\"54\": 10}, \"20\": {\"20\": 8}, \"21\": {\"21\": 10}, \"45\": {\"45\": 8}, \"24\": {\"24\": 8}, \"34\": {\"34\": 8}}, \"W_A_2\": {\"91\": {\"91\": 11, \"77\": 1}, \"12\": {\"12\": 11, \"67\": 1}, \"101\": {\"101\": 9, \"0\": 1}, \"121\": {\"121\": 11, \"72\": 1}, \"118\": {\"118\": 12}, \"10\": {\"10\": 12}, \"117\": {\"117\": 12}, \"110\": {\"110\": 11, \"101\": 1}, \"97\": {\"97\": 8, \"88\": 1, \"106\": 2, \"37\": 1}, \"28\": {\"17\": 1, \"28\": 8, \"41\": 1, \"110\": 1, \"37\": 1}, \"88\": {\"88\": 12}, \"17\": {\"17\": 11, \"79\": 1}, \"126\": {\"126\": 12}, \"33\": {\"33\": 12}, \"86\": {\"86\": 12}, \"106\": {\"106\": 12}, \"54\": {\"54\": 12}, \"125\": {\"125\": 12}, \"83\": {\"83\": 12}, \"98\": {\"98\": 12}, \"11\": {\"11\": 9, \"8\": 2, \"115\": 1}, \"32\": {\"98\": 1, \"32\": 7, \"34\": 2, \"58\": 1, \"46\": 1}, \"42\": {\"42\": 12}, \"103\": {\"103\": 12}, \"87\": {\"87\": 12}, \"61\": {\"118\": 1, \"61\": 10, \"65\": 1}, \"13\": {\"13\": 12}, \"4\": {\"4\": 12}, \"15\": {\"15\": 10}, \"120\": {\"120\": 12}, \"80\": {\"80\": 12}, \"72\": {\"72\": 10}, \"64\": {\"64\": 12}, \"81\": {\"81\": 12}, \"102\": {\"102\": 12}, \"76\": {\"76\": 12}, \"49\": {\"49\": 9, \"21\": 1}, \"129\": {\"129\": 12}, \"89\": {\"89\": 12}, \"52\": {\"52\": 12}, \"35\": {\"35\": 11, \"107\": 1}, \"53\": {\"53\": 11, \"5\": 1}, \"112\": {\"112\": 12}, \"105\": {\"105\": 12}, \"100\": {\"100\": 12}, \"9\": {\"9\": 12}, \"82\": {\"82\": 12}, \"51\": {\"51\": 11, \"127\": 1}, \"21\": {\"21\": 12}, \"92\": {\"92\": 11, \"84\": 1}, \"69\": {\"69\": 12}, \"77\": {\"77\": 12}, \"50\": {\"50\": 11, \"13\": 1}, \"36\": {\"36\": 12}, \"16\": {\"16\": 10, \"28\": 1, \"5\": 1}, \"8\": {\"8\": 11, \"12\": 1}, \"127\": {\"127\": 12}, \"46\": {\"46\": 10}, \"84\": {\"84\": 12}, \"18\": {\"18\": 12}, \"123\": {\"123\": 10}, \"56\": {\"56\": 10, \"107\": 1, \"71\": 1}, \"26\": {\"26\": 12}, \"14\": {\"88\": 1, \"14\": 9, \"28\": 1, \"115\": 1}, \"109\": {\"109\": 10, \"78\": 2}, \"66\": {\"66\": 12}, \"24\": {\"24\": 11, \"28\": 1}, \"71\": {\"36\": 1, \"71\": 11}, \"65\": {\"65\": 10, \"110\": 1, \"74\": 1}, \"75\": {\"75\": 11, \"21\": 1}, \"111\": {\"111\": 12}, \"30\": {\"30\": 11, \"59\": 1}, \"85\": {\"85\": 12}, \"113\": {\"113\": 9, \"21\": 1}, \"45\": {\"45\": 12}, \"29\": {\"29\": 11, \"67\": 1}, \"20\": {\"20\": 12}, \"25\": {\"25\": 12}, \"0\": {\"0\": 12}, \"68\": {\"68\": 12}, \"119\": {\"119\": 12}, \"90\": {\"90\": 12}, \"38\": {\"38\": 12}, \"99\": {\"99\": 12}, \"1\": {\"1\": 12}, \"67\": {\"67\": 10, \"109\": 1, \"106\": 1}, \"63\": {\"63\": 12}, \"34\": {\"34\": 12}, \"108\": {\"108\": 12}, \"40\": {\"40\": 12}, \"47\": {\"47\": 8, \"5\": 1, \"73\": 1, \"129\": 2}, \"37\": {\"37\": 12}, \"78\": {\"78\": 12}, \"96\": {\"96\": 12}, \"43\": {\"43\": 11, \"21\": 1}, \"5\": {\"5\": 10}, \"124\": {\"124\": 12}, \"44\": {\"44\": 12}, \"41\": {\"5\": 2, \"41\": 8, \"121\": 1, \"59\": 1}, \"116\": {\"116\": 10, \"119\": 2}, \"19\": {\"19\": 10, \"47\": 2}, \"115\": {\"115\": 12}, \"95\": {\"95\": 10, \"6\": 1, \"7\": 1}, \"3\": {\"3\": 10}, \"59\": {\"59\": 12}, \"55\": {\"55\": 12}, \"70\": {\"70\": 11, \"109\": 1}, \"6\": {\"6\": 12}, \"2\": {\"2\": 11, \"117\": 1}, \"48\": {\"48\": 12}, \"23\": {\"23\": 11, \"122\": 1}, \"7\": {\"7\": 12}, \"122\": {\"122\": 12}, \"57\": {\"57\": 10, \"42\": 1, \"59\": 1}, \"39\": {\"39\": 9, \"53\": 1}, \"79\": {\"79\": 12}, \"27\": {\"27\": 10}, \"74\": {\"74\": 9, \"17\": 1, \"5\": 1, \"51\": 1}, \"73\": {\"73\": 11, \"53\": 1}, \"62\": {\"62\": 12}, \"107\": {\"107\": 12}, \"128\": {\"128\": 10, \"53\": 2}, \"60\": {\"60\": 12}, \"114\": {\"114\": 12}, \"22\": {\"22\": 12}, \"93\": {\"93\": 12}, \"94\": {\"94\": 11, \"110\": 1}, \"31\": {\"31\": 10}, \"104\": {\"104\": 12}, \"58\": {\"58\": 12}}, \"C_A_2\": {\"14\": {\"14\": 12}, \"22\": {\"22\": 12}, \"9\": {\"9\": 12}, \"47\": {\"47\": 12}, \"13\": {\"13\": 12}, \"8\": {\"8\": 12}, \"7\": {\"7\": 12}, \"49\": {\"49\": 12}, \"20\": {\"20\": 12}, \"16\": {\"16\": 12}, \"34\": {\"34\": 12}, \"56\": {\"56\": 12}, \"38\": {\"38\": 10}, \"4\": {\"4\": 12}, \"43\": {\"43\": 10}, \"26\": {\"26\": 10}, \"35\": {\"35\": 12}, \"31\": {\"31\": 12}, \"1\": {\"1\": 11, \"47\": 1}, \"39\": {\"39\": 12}, \"5\": {\"5\": 12}, \"24\": {\"24\": 12}, \"54\": {\"54\": 10}, \"23\": {\"23\": 12}, \"51\": {\"51\": 12}, \"27\": {\"27\": 10}, \"15\": {\"15\": 12}, \"0\": {\"0\": 12}, \"19\": {\"19\": 10}, \"18\": {\"18\": 8}, \"30\": {\"30\": 12}, \"55\": {\"55\": 10}, \"57\": {\"57\": 12}, \"2\": {\"2\": 12}, \"12\": {\"12\": 8}, \"41\": {\"41\": 11, \"47\": 1}, \"42\": {\"42\": 12}, \"48\": {\"48\": 12}, \"37\": {\"37\": 12}, \"6\": {\"6\": 10}, \"11\": {\"11\": 10}, \"45\": {\"45\": 8}, \"21\": {\"21\": 12}, \"46\": {\"46\": 10}, \"25\": {\"25\": 12}, \"36\": {\"36\": 10}, \"53\": {\"53\": 12}, \"28\": {\"28\": 12}, \"40\": {\"40\": 10}, \"33\": {\"33\": 10}, \"44\": {\"44\": 10}, \"3\": {\"3\": 12}, \"17\": {\"17\": 12}, \"32\": {\"32\": 10}, \"10\": {\"10\": 10}, \"52\": {\"52\": 10}, \"50\": {\"3\": 1, \"50\": 7}, \"29\": {\"29\": 6}}, \"ORACLE.run1_14\": {\"15\": {\"15\": 240}, \"3\": {\"3\": 78, \"6\": 47, \"2\": 7, \"7\": 41, \"14\": 19, \"0\": 22, \"13\": 24, \"5\": 2}, \"6\": {\"6\": 97, \"3\": 41, \"13\": 69, \"0\": 7, \"2\": 7, \"14\": 16, \"15\": 1, \"7\": 2}, \"1\": {\"9\": 60, \"1\": 158, \"10\": 21, \"4\": 1}, \"8\": {\"8\": 114, \"5\": 33, \"12\": 35, \"3\": 6, \"4\": 13, \"0\": 17, \"14\": 3, \"2\": 5, \"7\": 14}, \"10\": {\"10\": 130, \"4\": 60, \"12\": 9, \"9\": 20, \"1\": 18, \"5\": 1, \"2\": 2}, \"9\": {\"9\": 143, \"1\": 72, \"10\": 20, \"12\": 3, \"4\": 2}, \"13\": {\"3\": 21, \"0\": 10, \"14\": 21, \"2\": 27, \"6\": 57, \"15\": 19, \"13\": 46, \"4\": 15, \"12\": 5, \"5\": 15, \"7\": 4}, \"12\": {\"12\": 130, \"2\": 3, \"8\": 53, \"5\": 11, \"4\": 32, \"9\": 1, \"10\": 7, \"0\": 2, \"7\": 1}, \"5\": {\"4\": 19, \"0\": 33, \"7\": 7, \"2\": 47, \"5\": 83, \"12\": 7, \"8\": 16, \"14\": 21, \"3\": 5, \"13\": 2}, \"0\": {\"2\": 25, \"0\": 43, \"7\": 24, \"3\": 29, \"5\": 48, \"4\": 10, \"14\": 21, \"12\": 12, \"8\": 8, \"6\": 12, \"13\": 8}, \"2\": {\"5\": 45, \"4\": 34, \"14\": 32, \"3\": 19, \"2\": 42, \"6\": 11, \"0\": 21, \"8\": 2, \"13\": 22, \"10\": 2, \"12\": 6, \"7\": 4}, \"11\": {\"11\": 236, \"1\": 2, \"9\": 2}, \"14\": {\"14\": 74, \"2\": 28, \"13\": 15, \"3\": 36, \"5\": 31, \"0\": 33, \"7\": 7, \"6\": 15, \"8\": 1}, \"7\": {\"2\": 13, \"7\": 90, \"6\": 8, \"3\": 51, \"5\": 21, \"14\": 19, \"0\": 18, \"8\": 7, \"13\": 13}, \"4\": {\"4\": 126, \"10\": 46, \"12\": 28, \"5\": 20, \"2\": 10, \"8\": 3, \"0\": 1, \"14\": 1, \"9\": 2, \"13\": 2, \"3\": 1}}, \"ORACLE.run1_20\": {\"3\": {\"9\": 28, \"1\": 35, \"14\": 34, \"8\": 45, \"7\": 15, \"5\": 32, \"2\": 4, \"3\": 34, \"11\": 2, \"12\": 1, \"6\": 5, \"4\": 2, \"0\": 3}, \"15\": {\"13\": 35, \"1\": 15, \"10\": 4, \"12\": 42, \"15\": 43, \"2\": 33, \"6\": 10, \"4\": 11, \"9\": 19, \"7\": 13, \"3\": 6, \"5\": 4, \"14\": 1, \"8\": 4}, \"8\": {\"8\": 76, \"5\": 29, \"9\": 12, \"7\": 4, \"3\": 41, \"1\": 9, \"14\": 42, \"0\": 23, \"15\": 2, \"6\": 1, \"12\": 1}, \"4\": {\"12\": 28, \"2\": 18, \"4\": 73, \"7\": 13, \"6\": 31, \"15\": 16, \"10\": 25, \"5\": 2, \"1\": 6, \"13\": 21, \"9\": 4, \"8\": 1, \"3\": 2}, \"14\": {\"8\": 54, \"3\": 45, \"7\": 6, \"0\": 6, \"14\": 61, \"5\": 27, \"1\": 13, \"9\": 16, \"6\": 10, \"12\": 1, \"2\": 1}, \"0\": {\"8\": 27, \"0\": 116, \"11\": 79, \"1\": 3, \"9\": 2, \"3\": 5, \"14\": 6, \"5\": 2}, \"7\": {\"4\": 14, \"15\": 19, \"2\": 22, \"14\": 4, \"7\": 27, \"3\": 11, \"6\": 45, \"1\": 23, \"12\": 21, \"9\": 28, \"5\": 14, \"10\": 3, \"13\": 4, \"8\": 5}, \"6\": {\"15\": 9, \"4\": 29, \"6\": 57, \"5\": 12, \"9\": 18, \"7\": 21, \"2\": 28, \"10\": 8, \"3\": 7, \"14\": 9, \"12\": 23, \"1\": 14, \"13\": 3, \"8\": 2}, \"10\": {\"13\": 18, \"10\": 168, \"6\": 4, \"4\": 38, \"7\": 1, \"2\": 5, \"5\": 1, \"12\": 3, \"9\": 1, \"15\": 1}, \"5\": {\"8\": 24, \"1\": 29, \"5\": 48, \"7\": 21, \"9\": 31, \"15\": 10, \"4\": 4, \"3\": 32, \"2\": 5, \"6\": 6, \"14\": 19, \"12\": 8, \"11\": 1, \"0\": 2}, \"2\": {\"12\": 44, \"15\": 29, \"2\": 43, \"13\": 24, \"1\": 21, \"9\": 11, \"4\": 17, \"6\": 17, \"7\": 20, \"3\": 3, \"5\": 2, \"8\": 3, \"10\": 5, \"14\": 1}, \"12\": {\"5\": 5, \"13\": 23, \"15\": 36, \"2\": 42, \"4\": 20, \"12\": 34, \"7\": 20, \"3\": 3, \"10\": 10, \"6\": 20, \"9\": 15, \"1\": 10, \"14\": 1, \"8\": 1}, \"9\": {\"5\": 37, \"2\": 19, \"4\": 5, \"3\": 27, \"15\": 8, \"9\": 31, \"7\": 16, \"1\": 43, \"14\": 10, \"6\": 19, \"8\": 12, \"12\": 11, \"0\": 2}, \"1\": {\"9\": 25, \"1\": 38, \"7\": 21, \"2\": 20, \"5\": 43, \"15\": 15, \"4\": 3, \"3\": 36, \"14\": 4, \"12\": 15, \"6\": 8, \"8\": 11, \"0\": 1}, \"11\": {\"0\": 84, \"11\": 156}, \"13\": {\"13\": 111, \"12\": 13, \"15\": 32, \"2\": 24, \"7\": 3, \"6\": 7, \"4\": 10, \"10\": 39, \"1\": 1}}, \"ORACLE.run1_38\": {\"5\": {\"5\": 72, \"12\": 33, \"9\": 47, \"8\": 46, \"15\": 24, \"14\": 6, \"2\": 10, \"7\": 1, \"6\": 1}, \"8\": {\"9\": 30, \"5\": 55, \"8\": 44, \"12\": 38, \"7\": 12, \"15\": 30, \"14\": 9, \"2\": 21, \"0\": 1}, \"11\": {\"11\": 229, \"3\": 11}, \"1\": {\"1\": 122, \"6\": 114, \"15\": 4}, \"10\": {\"10\": 134, \"4\": 20, \"3\": 10, \"0\": 56, \"13\": 20}, \"15\": {\"15\": 178, \"5\": 19, \"12\": 15, \"8\": 8, \"6\": 13, \"1\": 7}, \"3\": {\"3\": 229, \"10\": 2, \"11\": 9}, \"7\": {\"14\": 77, \"7\": 70, \"8\": 11, \"2\": 46, \"13\": 8, \"9\": 14, \"5\": 8, \"0\": 3, \"4\": 3}, \"4\": {\"4\": 185, \"0\": 17, \"10\": 19, \"13\": 16, \"7\": 1, \"14\": 2}, \"14\": {\"8\": 3, \"7\": 58, \"14\": 97, \"2\": 47, \"0\": 6, \"13\": 14, \"9\": 6, \"4\": 6, \"5\": 2, \"10\": 1}, \"9\": {\"5\": 39, \"9\": 101, \"2\": 47, \"8\": 38, \"7\": 13, \"14\": 1, \"12\": 1}, \"12\": {\"12\": 183, \"5\": 24, \"15\": 9, \"8\": 24}, \"6\": {\"1\": 112, \"6\": 124, \"15\": 4}, \"2\": {\"14\": 34, \"9\": 34, \"2\": 89, \"7\": 46, \"8\": 17, \"13\": 5, \"5\": 11, \"0\": 3, \"4\": 1}, \"0\": {\"13\": 71, \"2\": 7, \"14\": 10, \"0\": 51, \"4\": 14, \"10\": 64, \"3\": 11, \"7\": 12}, \"13\": {\"13\": 132, \"14\": 10, \"0\": 59, \"10\": 18, \"7\": 8, \"2\": 5, \"4\": 7, \"8\": 1}}, \"ORACLE.run1_8\": {\"9\": {\"9\": 208, \"3\": 31, \"2\": 1}, \"10\": {\"10\": 48, \"5\": 54, \"6\": 33, \"13\": 43, \"1\": 19, \"7\": 30, \"11\": 9, \"4\": 1, \"8\": 2, \"12\": 1}, \"13\": {\"10\": 48, \"5\": 47, \"7\": 44, \"13\": 70, \"6\": 15, \"1\": 11, \"12\": 2, \"11\": 3}, \"0\": {\"0\": 240}, \"1\": {\"6\": 50, \"7\": 19, \"11\": 28, \"1\": 56, \"13\": 20, \"5\": 24, \"10\": 18, \"8\": 15, \"4\": 10}, \"15\": {\"12\": 81, \"15\": 118, \"2\": 41}, \"5\": {\"10\": 57, \"7\": 27, \"13\": 58, \"5\": 44, \"6\": 23, \"11\": 7, \"1\": 17, \"4\": 2, \"12\": 4, \"8\": 1}, \"3\": {\"3\": 215, \"9\": 16, \"2\": 9}, \"6\": {\"11\": 22, \"7\": 43, \"1\": 47, \"4\": 7, \"8\": 15, \"10\": 22, \"6\": 52, \"5\": 28, \"13\": 4}, \"11\": {\"5\": 13, \"11\": 49, \"4\": 34, \"1\": 40, \"7\": 15, \"6\": 32, \"8\": 29, \"14\": 13, \"10\": 10, \"13\": 5}, \"8\": {\"14\": 25, \"8\": 88, \"4\": 51, \"11\": 37, \"1\": 16, \"6\": 14, \"10\": 3, \"7\": 6}, \"4\": {\"14\": 35, \"4\": 105, \"11\": 33, \"8\": 44, \"1\": 12, \"13\": 1, \"5\": 2, \"6\": 7, \"10\": 1}, \"12\": {\"12\": 141, \"15\": 91, \"2\": 8}, \"14\": {\"14\": 177, \"4\": 39, \"11\": 7, \"8\": 13, \"1\": 1, \"0\": 1, \"6\": 2}, \"2\": {\"2\": 130, \"12\": 16, \"3\": 55, \"15\": 39}, \"7\": {\"1\": 18, \"7\": 57, \"6\": 44, \"13\": 40, \"5\": 32, \"10\": 37, \"11\": 8, \"8\": 2, \"4\": 2}}, \"ORACLE.run1_50\": {\"7\": {\"4\": 96, \"5\": 32, \"7\": 110, \"9\": 1, \"15\": 1}, \"3\": {\"3\": 60, \"5\": 12, \"12\": 17, \"15\": 26, \"6\": 52, \"11\": 49, \"9\": 17, \"13\": 5, \"7\": 1, \"1\": 1}, \"8\": {\"10\": 26, \"8\": 146, \"1\": 62, \"13\": 6}, \"2\": {\"14\": 109, \"2\": 83, \"0\": 38, \"10\": 10}, \"14\": {\"2\": 71, \"0\": 55, \"14\": 108, \"10\": 5, \"8\": 1}, \"4\": {\"4\": 97, \"7\": 109, \"5\": 30, \"15\": 3, \"6\": 1}, \"6\": {\"9\": 40, \"6\": 69, \"5\": 32, \"15\": 49, \"12\": 12, \"3\": 27, \"11\": 9, \"7\": 1, \"4\": 1}, \"15\": {\"6\": 44, \"15\": 64, \"5\": 41, \"9\": 43, \"11\": 12, \"3\": 21, \"12\": 10, \"7\": 3, \"4\": 2}, \"10\": {\"8\": 36, \"0\": 43, \"10\": 149, \"2\": 5, \"1\": 7}, \"11\": {\"3\": 42, \"13\": 17, \"11\": 113, \"12\": 36, \"9\": 12, \"15\": 8, \"6\": 7, \"5\": 4, \"1\": 1}, \"13\": {\"13\": 168, \"11\": 23, \"8\": 2, \"1\": 41, \"3\": 5, \"12\": 1}, \"9\": {\"6\": 46, \"15\": 43, \"5\": 28, \"9\": 48, \"3\": 25, \"12\": 24, \"11\": 21, \"7\": 4, \"4\": 1}, \"0\": {\"14\": 50, \"10\": 44, \"0\": 108, \"2\": 34, \"8\": 4}, \"1\": {\"8\": 58, \"1\": 97, \"13\": 59, \"11\": 3, \"10\": 20, \"0\": 3}, \"12\": {\"12\": 116, \"6\": 18, \"9\": 22, \"11\": 42, \"15\": 9, \"3\": 27, \"13\": 5, \"5\": 1}, \"5\": {\"5\": 68, \"9\": 14, \"4\": 41, \"6\": 23, \"15\": 26, \"11\": 16, \"7\": 30, \"1\": 1, \"13\": 7, \"3\": 11, \"12\": 3}}, \"ORACLE.run1_32\": {\"8\": {\"1\": 11, \"8\": 78, \"5\": 17, \"7\": 20, \"2\": 9, \"14\": 35, \"0\": 62, \"15\": 3, \"4\": 4, \"3\": 1}, \"14\": {\"0\": 56, \"7\": 35, \"2\": 23, \"14\": 62, \"8\": 37, \"1\": 5, \"15\": 1, \"5\": 16, \"4\": 3, \"3\": 2}, \"2\": {\"2\": 77, \"4\": 60, \"3\": 11, \"1\": 64, \"14\": 7, \"8\": 10, \"13\": 9, \"11\": 1, \"7\": 1}, \"0\": {\"7\": 46, \"0\": 64, \"8\": 44, \"5\": 28, \"14\": 49, \"2\": 5, \"15\": 3, \"4\": 1}, \"1\": {\"4\": 51, \"13\": 7, \"2\": 49, \"8\": 10, \"3\": 16, \"1\": 98, \"14\": 6, \"0\": 2, \"9\": 1}, \"10\": {\"10\": 196, \"12\": 36, \"6\": 8}, \"11\": {\"9\": 91, \"13\": 14, \"11\": 113, \"12\": 20, \"4\": 2}, \"5\": {\"5\": 85, \"7\": 55, \"8\": 21, \"0\": 36, \"1\": 1, \"15\": 31, \"14\": 9, \"2\": 2}, \"15\": {\"15\": 176, \"0\": 7, \"8\": 10, \"5\": 41, \"7\": 5, \"14\": 1}, \"3\": {\"4\": 42, \"13\": 57, \"2\": 24, \"8\": 2, \"3\": 82, \"14\": 3, \"1\": 26, \"9\": 2, \"11\": 2}, \"12\": {\"12\": 185, \"11\": 12, \"9\": 14, \"10\": 29}, \"7\": {\"0\": 53, \"7\": 91, \"14\": 23, \"8\": 13, \"5\": 51, \"15\": 7, \"4\": 1, \"2\": 1}, \"13\": {\"11\": 30, \"4\": 24, \"13\": 97, \"3\": 39, \"2\": 10, \"1\": 14, \"9\": 26}, \"6\": {\"6\": 226, \"10\": 14}, \"4\": {\"1\": 35, \"14\": 7, \"4\": 83, \"2\": 50, \"13\": 29, \"3\": 30, \"8\": 2, \"9\": 2, \"11\": 2}, \"9\": {\"12\": 49, \"11\": 50, \"9\": 82, \"13\": 47, \"4\": 4, \"10\": 3, \"3\": 3, \"1\": 2}}, \"ORACLE.run1_26\": {\"4\": {\"4\": 203, \"13\": 22, \"12\": 1, \"3\": 12, \"7\": 2}, \"12\": {\"12\": 70, \"13\": 23, \"0\": 6, \"9\": 47, \"3\": 28, \"8\": 32, \"2\": 20, \"7\": 14}, \"10\": {\"1\": 2, \"14\": 65, \"15\": 25, \"5\": 8, \"0\": 62, \"2\": 3, \"10\": 53, \"6\": 21, \"8\": 1}, \"0\": {\"2\": 42, \"0\": 93, \"10\": 41, \"8\": 6, \"6\": 3, \"7\": 7, \"14\": 33, \"5\": 1, \"1\": 1, \"9\": 4, \"15\": 8, \"12\": 1}, \"13\": {\"9\": 15, \"4\": 41, \"13\": 77, \"3\": 45, \"12\": 32, \"0\": 4, \"7\": 9, \"2\": 11, \"14\": 1, \"8\": 5}, \"9\": {\"9\": 47, \"12\": 31, \"13\": 11, \"7\": 21, \"2\": 43, \"8\": 27, \"3\": 32, \"0\": 19, \"4\": 2, \"10\": 4, \"15\": 2, \"14\": 1}, \"3\": {\"4\": 12, \"3\": 91, \"13\": 37, \"9\": 22, \"7\": 28, \"8\": 22, \"2\": 12, \"12\": 15, \"0\": 1}, \"2\": {\"2\": 71, \"0\": 42, \"9\": 26, \"8\": 38, \"7\": 28, \"10\": 13, \"12\": 12, \"14\": 3, \"5\": 1, \"13\": 2, \"3\": 4}, \"5\": {\"6\": 44, \"15\": 46, \"11\": 41, \"5\": 68, \"14\": 13, \"1\": 24, \"10\": 4}, \"14\": {\"14\": 58, \"10\": 67, \"0\": 41, \"6\": 27, \"5\": 7, \"1\": 14, \"15\": 22, \"8\": 1, \"2\": 2, \"11\": 1}, \"8\": {\"3\": 24, \"7\": 47, \"2\": 44, \"9\": 35, \"8\": 53, \"0\": 9, \"13\": 10, \"12\": 13, \"4\": 1, \"10\": 3, \"14\": 1}, \"7\": {\"8\": 39, \"7\": 57, \"0\": 5, \"9\": 32, \"3\": 49, \"12\": 11, \"2\": 37, \"13\": 9, \"10\": 1}, \"6\": {\"5\": 38, \"15\": 47, \"11\": 18, \"1\": 31, \"6\": 45, \"14\": 23, \"10\": 33, \"0\": 5}, \"11\": {\"11\": 137, \"15\": 11, \"5\": 44, \"6\": 20, \"1\": 25, \"14\": 3}, \"15\": {\"10\": 39, \"5\": 47, \"6\": 44, \"15\": 44, \"1\": 16, \"11\": 9, \"0\": 17, \"14\": 22, \"2\": 2}, \"1\": {\"5\": 28, \"1\": 97, \"11\": 31, \"10\": 10, \"14\": 22, \"6\": 35, \"15\": 15, \"0\": 2}}, \"ORACLE.run1_44\": {\"12\": {\"3\": 101, \"12\": 136, \"0\": 3}, \"7\": {\"9\": 45, \"10\": 51, \"7\": 86, \"4\": 28, \"14\": 13, \"6\": 7, \"5\": 9, \"13\": 1}, \"5\": {\"14\": 55, \"5\": 44, \"15\": 35, \"1\": 11, \"4\": 29, \"10\": 25, \"7\": 13, \"8\": 6, \"9\": 4, \"2\": 15, \"6\": 1, \"13\": 1, \"11\": 1}, \"15\": {\"2\": 18, \"14\": 33, \"15\": 65, \"0\": 6, \"4\": 17, \"5\": 30, \"1\": 34, \"8\": 33, \"10\": 3, \"9\": 1}, \"8\": {\"0\": 48, \"8\": 82, \"5\": 8, \"14\": 4, \"12\": 3, \"15\": 44, \"1\": 38, \"2\": 7, \"3\": 5, \"7\": 1}, \"2\": {\"1\": 51, \"5\": 22, \"4\": 6, \"15\": 21, \"2\": 112, \"14\": 13, \"8\": 10, \"10\": 3, \"0\": 2}, \"13\": {\"6\": 80, \"13\": 143, \"11\": 6, \"9\": 9, \"4\": 2}, \"4\": {\"7\": 28, \"4\": 42, \"10\": 42, \"15\": 14, \"8\": 3, \"6\": 12, \"5\": 26, \"1\": 7, \"9\": 20, \"2\": 16, \"14\": 26, \"0\": 2, \"13\": 2}, \"0\": {\"0\": 155, \"8\": 39, \"3\": 14, \"1\": 27, \"12\": 2, \"15\": 2, \"14\": 1}, \"6\": {\"13\": 66, \"9\": 33, \"6\": 134, \"4\": 2, \"7\": 3, \"10\": 2}, \"9\": {\"4\": 23, \"10\": 32, \"2\": 5, \"9\": 31, \"7\": 52, \"5\": 13, \"6\": 36, \"13\": 32, \"15\": 1, \"14\": 13, \"11\": 2}, \"11\": {\"11\": 238, \"13\": 2}, \"10\": {\"9\": 37, \"7\": 55, \"2\": 4, \"10\": 53, \"4\": 29, \"5\": 23, \"6\": 8, \"14\": 22, \"1\": 8, \"15\": 1}, \"14\": {\"4\": 45, \"10\": 17, \"14\": 64, \"5\": 56, \"7\": 16, \"15\": 19, \"2\": 11, \"9\": 8, \"6\": 1, \"1\": 2, \"8\": 1}, \"1\": {\"1\": 113, \"4\": 2, \"5\": 8, \"2\": 33, \"0\": 34, \"8\": 27, \"15\": 23}, \"3\": {\"3\": 124, \"12\": 106, \"0\": 10}}}, \"per_domain_accuracy\": {\"W_A_3\": {\"accuracy\": 0.953125, \"source?\": true}, \"C_A_3\": {\"accuracy\": 0.9984375, \"source?\": true}, \"C_A_4\": {\"accuracy\": 0.99375, \"source?\": true}, \"W_A_4\": {\"accuracy\": 0.9368489583333334, \"source?\": true}, \"W_A_1\": {\"accuracy\": 0.9733072916666666, \"source?\": true}, \"C_A_5\": {\"accuracy\": 0.9921875, \"source?\": true}, \"C_A_1\": {\"accuracy\": 0.9875, \"source?\": true}, \"W_A_2\": {\"accuracy\": 0.94921875, \"source?\": true}, \"C_A_2\": {\"accuracy\": 0.9953125, \"source?\": true}, \"ORACLE.run1_14\": {\"accuracy\": 0.4765625, \"source?\": false}, \"ORACLE.run1_20\": {\"accuracy\": 0.290625, \"source?\": false}, \"ORACLE.run1_38\": {\"accuracy\": 0.53125, \"source?\": false}, \"ORACLE.run1_8\": {\"accuracy\": 0.46822916666666664, \"source?\": false}, \"ORACLE.run1_50\": {\"accuracy\": 0.41770833333333335, \"source?\": false}, \"ORACLE.run1_32\": {\"accuracy\": 0.4674479166666667, \"source?\": false}, \"ORACLE.run1_26\": {\"accuracy\": 0.32916666666666666, \"source?\": false}, \"ORACLE.run1_44\": {\"accuracy\": 0.42239583333333336, \"source?\": false}}}, \"history\": {\"epoch_indices\": [1, 2, 3, 4, 5, 6, 7, 8, 9, 10], \"train_label_loss\": [0.37390821035289024, 1.1217775595644977, 0.26821778022214915, 0.22442974461144052, 0.1746445805179412, 0.1548237872069656, 0.2707258955045065, 0.16115431089602433, 0.1383805454101305, 0.15412228403157113], \"source_val_label_loss\": [0.3638885021209717, 0.2674410939216614, 0.31795403361320496, 0.20484334230422974, 0.21451379358768463, 0.16055671870708466, 0.20090053975582123, 0.17338170111179352, 0.14321957528591156, 0.16858462989330292], \"target_val_label_loss\": [10.204495429992676, 2.4082589149475098, 2.430911064147949, 2.2535946369171143, 2.120582342147827, 2.0672452449798584, 2.1266355514526367, 2.1194934844970703, 2.1530075073242188, 2.218984603881836], \"source_val_acc_label\": [0.9330051369863014, 0.944777397260274, 0.9324700342465754, 0.9580479452054794, 0.9595462328767124, 0.9669306506849316, 0.9570847602739726, 0.9632919520547946, 0.9674657534246576, 0.9622217465753424], \"target_val_acc_label\": [0.29368489583333335, 0.508984375, 0.4691080729166667, 0.4632486979166667, 0.4523111979166667, 0.4254231770833333, 0.46770833333333334, 0.473046875, 0.4703776041666667, 0.48655598958333335]}, \"dataset_metrics\": {\"source\": {\"train\": {\"n_unique_x\": 56695, \"n_unique_y\": 130, \"n_batch/episode\": 2075}, \"val\": {\"n_unique_x\": 12132, \"n_unique_y\": 130, \"n_batch/episode\": 292}, \"test\": {\"n_unique_x\": 12132, \"n_unique_y\": 130, \"n_batch/episode\": 292}}, \"target\": {\"train\": {\"n_unique_x\": 179200, \"n_unique_y\": 16, \"n_batch/episode\": 6720}, \"val\": {\"n_unique_x\": 38400, \"n_unique_y\": 16, \"n_batch/episode\": 960}, \"test\": {\"n_unique_x\": 38400, \"n_unique_y\": 16, \"n_batch/episode\": 960}}}}'"
      ]
     },
     "execution_count": 29,
     "metadata": {},
     "output_type": "execute_result"
    }
   ],
   "source": [
    "json.dumps(experiment)"
   ]
  }
 ],
 "metadata": {
  "celltoolbar": "Tags",
  "kernelspec": {
   "display_name": "Python 3 (ipykernel)",
   "language": "python",
   "name": "python3"
  },
  "language_info": {
   "codemirror_mode": {
    "name": "ipython",
    "version": 3
   },
   "file_extension": ".py",
   "mimetype": "text/x-python",
   "name": "python",
   "nbconvert_exporter": "python",
   "pygments_lexer": "ipython3",
   "version": "3.8.10"
  },
  "papermill": {
   "default_parameters": {},
   "duration": 727.017849,
   "end_time": "2022-03-18T09:45:45.460173",
   "environment_variables": {},
   "exception": null,
   "input_path": "/mnt/wd500GB/CSC500/csc500-main/csc500-notebooks/templates/tl_ptn_template.ipynb",
   "output_path": "trial.ipynb",
   "parameters": {
    "parameters": {
     "BEST_MODEL_PATH": "./best_model.pth",
     "NUM_LOGS_PER_EPOCH": 10,
     "criteria_for_best": "target_loss",
     "dataset_seed": 1337,
     "datasets": [
      {
       "domain_prefix": "C_A_",
       "domains": [
        1,
        2,
        3,
        4,
        5
       ],
       "episode_transforms": [],
       "labels": [
        "1-10.",
        "1-11.",
        "1-15.",
        "1-16.",
        "1-17.",
        "1-18.",
        "1-19.",
        "10-4.",
        "10-7.",
        "11-1.",
        "11-14.",
        "11-17.",
        "11-20.",
        "11-7.",
        "13-20.",
        "13-8.",
        "14-10.",
        "14-11.",
        "14-14.",
        "14-7.",
        "15-1.",
        "15-20.",
        "16-1.",
        "16-16.",
        "17-10.",
        "17-11.",
        "17-2.",
        "19-1.",
        "19-16.",
        "19-19.",
        "19-20.",
        "19-3.",
        "2-10.",
        "2-11.",
        "2-17.",
        "2-18.",
        "2-20.",
        "2-3.",
        "2-4.",
        "2-5.",
        "2-6.",
        "2-7.",
        "2-8.",
        "3-13.",
        "3-18.",
        "3-3.",
        "4-1.",
        "4-10.",
        "4-11.",
        "4-19.",
        "5-5.",
        "6-15.",
        "7-10.",
        "7-14.",
        "8-18.",
        "8-20.",
        "8-3.",
        "8-8."
       ],
       "num_examples_per_domain_per_label": 100,
       "pickle_path": "/mnt/wd500GB/CSC500/csc500-main/datasets/cores.stratified_ds.2022A.pkl",
       "source_or_target_dataset": "source",
       "x_transforms": [
        "jitter_256_5",
        "take_200"
       ]
      },
      {
       "domain_prefix": "W_A_",
       "domains": [
        1,
        2,
        3,
        4
       ],
       "episode_transforms": [],
       "labels": [
        "1-10",
        "1-12",
        "1-14",
        "1-16",
        "1-18",
        "1-19",
        "1-8",
        "10-11",
        "10-17",
        "10-4",
        "10-7",
        "11-1",
        "11-10",
        "11-19",
        "11-20",
        "11-4",
        "11-7",
        "12-19",
        "12-20",
        "12-7",
        "13-14",
        "13-18",
        "13-19",
        "13-20",
        "13-3",
        "13-7",
        "14-10",
        "14-11",
        "14-12",
        "14-13",
        "14-14",
        "14-19",
        "14-20",
        "14-7",
        "14-8",
        "14-9",
        "15-1",
        "15-19",
        "15-6",
        "16-1",
        "16-16",
        "16-19",
        "16-20",
        "17-10",
        "17-11",
        "18-1",
        "18-10",
        "18-11",
        "18-12",
        "18-13",
        "18-14",
        "18-15",
        "18-16",
        "18-17",
        "18-19",
        "18-2",
        "18-20",
        "18-4",
        "18-5",
        "18-7",
        "18-8",
        "18-9",
        "19-1",
        "19-10",
        "19-11",
        "19-12",
        "19-13",
        "19-14",
        "19-15",
        "19-19",
        "19-2",
        "19-20",
        "19-3",
        "19-4",
        "19-6",
        "19-7",
        "19-8",
        "19-9",
        "2-1",
        "2-13",
        "2-15",
        "2-3",
        "2-4",
        "2-5",
        "2-6",
        "2-7",
        "2-8",
        "20-1",
        "20-12",
        "20-14",
        "20-15",
        "20-16",
        "20-18",
        "20-19",
        "20-20",
        "20-3",
        "20-4",
        "20-5",
        "20-7",
        "20-8",
        "3-1",
        "3-13",
        "3-18",
        "3-2",
        "3-8",
        "4-1",
        "4-10",
        "4-11",
        "5-1",
        "5-5",
        "6-1",
        "6-15",
        "6-6",
        "7-10",
        "7-11",
        "7-12",
        "7-13",
        "7-14",
        "7-7",
        "7-8",
        "7-9",
        "8-1",
        "8-13",
        "8-14",
        "8-18",
        "8-20",
        "8-3",
        "8-8",
        "9-1",
        "9-7"
       ],
       "num_examples_per_domain_per_label": 100,
       "pickle_path": "/mnt/wd500GB/CSC500/csc500-main/datasets/wisig.node3-19.stratified_ds.2022A.pkl",
       "source_or_target_dataset": "source",
       "x_transforms": [
        "jitter_256_5",
        "take_200"
       ]
      },
      {
       "domain_prefix": "ORACLE.run1_",
       "domains": [
        32,
        38,
        8,
        44,
        14,
        50,
        20,
        26
       ],
       "episode_transforms": [],
       "labels": [
        "3123D52",
        "3123D65",
        "3123D79",
        "3123D80",
        "3123D54",
        "3123D70",
        "3123D7B",
        "3123D89",
        "3123D58",
        "3123D76",
        "3123D7D",
        "3123EFE",
        "3123D64",
        "3123D78",
        "3123D7E",
        "3124E4A"
       ],
       "num_examples_per_domain_per_label": 2000,
       "pickle_path": "/mnt/wd500GB/CSC500/csc500-main/datasets/oracle.Run1_framed_2000Examples_stratified_ds.2022A.pkl",
       "source_or_target_dataset": "target",
       "x_transforms": [
        "jitter_256_5",
        "take_200",
        "resample_20Msps_to_25Msps"
       ]
      }
     ],
     "device": "cuda",
     "experiment_name": "tl_3-jitter5:cores+wisig -> oracle.run1.framed",
     "lr": 0.001,
     "n_epoch": 50,
     "n_query": 2,
     "n_shot": 3,
     "n_way": 16,
     "patience": 3,
     "seed": 1337,
     "test_k_factor": 2,
     "torch_default_dtype": "torch.float32",
     "train_k_factor": 3,
     "val_k_factor": 2,
     "x_net": [
      {
       "class": "nnReshape",
       "kargs": {
        "shape": [
         -1,
         1,
         2,
         256
        ]
       }
      },
      {
       "class": "Conv2d",
       "kargs": {
        "bias": false,
        "in_channels": 1,
        "kernel_size": [
         1,
         7
        ],
        "out_channels": 256,
        "padding": [
         0,
         3
        ]
       }
      },
      {
       "class": "ReLU",
       "kargs": {
        "inplace": true
       }
      },
      {
       "class": "BatchNorm2d",
       "kargs": {
        "num_features": 256
       }
      },
      {
       "class": "Conv2d",
       "kargs": {
        "bias": true,
        "in_channels": 256,
        "kernel_size": [
         2,
         7
        ],
        "out_channels": 80,
        "padding": [
         0,
         3
        ]
       }
      },
      {
       "class": "ReLU",
       "kargs": {
        "inplace": true
       }
      },
      {
       "class": "BatchNorm2d",
       "kargs": {
        "num_features": 80
       }
      },
      {
       "class": "Flatten",
       "kargs": {}
      },
      {
       "class": "Linear",
       "kargs": {
        "in_features": 20480,
        "out_features": 256
       }
      },
      {
       "class": "ReLU",
       "kargs": {
        "inplace": true
       }
      },
      {
       "class": "BatchNorm1d",
       "kargs": {
        "num_features": 256
       }
      },
      {
       "class": "Linear",
       "kargs": {
        "in_features": 256,
        "out_features": 256
       }
      }
     ]
    }
   },
   "start_time": "2022-03-18T09:33:38.442324",
   "version": "2.3.4"
  }
 },
 "nbformat": 4,
 "nbformat_minor": 5
}