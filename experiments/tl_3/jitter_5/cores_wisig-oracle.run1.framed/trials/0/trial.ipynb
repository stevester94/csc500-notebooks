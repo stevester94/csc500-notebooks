{
 "cells": [
  {
   "cell_type": "markdown",
   "id": "9fea5f46",
   "metadata": {
    "papermill": {
     "duration": 0.017554,
     "end_time": "2022-03-18T09:09:44.900616",
     "exception": false,
     "start_time": "2022-03-18T09:09:44.883062",
     "status": "completed"
    },
    "tags": []
   },
   "source": [
    "# Transfer Learning Template"
   ]
  },
  {
   "cell_type": "code",
   "execution_count": 1,
   "id": "0902182a",
   "metadata": {
    "execution": {
     "iopub.execute_input": "2022-03-18T09:09:44.937349Z",
     "iopub.status.busy": "2022-03-18T09:09:44.936930Z",
     "iopub.status.idle": "2022-03-18T09:09:45.847753Z",
     "shell.execute_reply": "2022-03-18T09:09:45.847450Z"
    },
    "papermill": {
     "duration": 0.934519,
     "end_time": "2022-03-18T09:09:45.847824",
     "exception": false,
     "start_time": "2022-03-18T09:09:44.913305",
     "status": "completed"
    },
    "tags": []
   },
   "outputs": [],
   "source": [
    "%load_ext autoreload\n",
    "%autoreload 2\n",
    "%matplotlib inline\n",
    "\n",
    "    \n",
    "import os, json, sys, time, random\n",
    "import numpy as np\n",
    "import torch\n",
    "from torch.optim import Adam\n",
    "from  easydict import EasyDict\n",
    "import matplotlib.pyplot as plt\n",
    "\n",
    "from steves_models.steves_ptn import Steves_Prototypical_Network\n",
    "\n",
    "from steves_utils.lazy_iterable_wrapper import Lazy_Iterable_Wrapper\n",
    "from steves_utils.iterable_aggregator import Iterable_Aggregator\n",
    "from steves_utils.ptn_train_eval_test_jig import  PTN_Train_Eval_Test_Jig\n",
    "from steves_utils.torch_sequential_builder import build_sequential\n",
    "from steves_utils.torch_utils import get_dataset_metrics, ptn_confusion_by_domain_over_dataloader\n",
    "from steves_utils.utils_v2 import (per_domain_accuracy_from_confusion, get_datasets_base_path)\n",
    "from steves_utils.PTN.utils import independent_accuracy_assesment\n",
    "\n",
    "from torch.utils.data import DataLoader\n",
    "\n",
    "from steves_utils.stratified_dataset.episodic_accessor import Episodic_Accessor_Factory\n",
    "\n",
    "from steves_utils.ptn_do_report import (\n",
    "    get_loss_curve,\n",
    "    get_results_table,\n",
    "    get_parameters_table,\n",
    "    get_domain_accuracies,\n",
    ")\n",
    "\n",
    "from steves_utils.transforms import get_chained_transform"
   ]
  },
  {
   "cell_type": "markdown",
   "id": "41c840b4",
   "metadata": {
    "papermill": {
     "duration": 0.012776,
     "end_time": "2022-03-18T09:09:45.879865",
     "exception": false,
     "start_time": "2022-03-18T09:09:45.867089",
     "status": "completed"
    },
    "tags": []
   },
   "source": [
    "# Allowed Parameters\n",
    "These are allowed parameters, not defaults\n",
    "Each of these values need to be present in the injected parameters (the notebook will raise an exception if they are not present)\n",
    "\n",
    "Papermill uses the cell tag \"parameters\" to inject the real parameters below this cell.\n",
    "Enable tags to see what I mean"
   ]
  },
  {
   "cell_type": "code",
   "execution_count": 2,
   "id": "fd44eb83",
   "metadata": {
    "execution": {
     "iopub.execute_input": "2022-03-18T09:09:45.913075Z",
     "iopub.status.busy": "2022-03-18T09:09:45.912769Z",
     "iopub.status.idle": "2022-03-18T09:09:45.919745Z",
     "shell.execute_reply": "2022-03-18T09:09:45.920148Z"
    },
    "papermill": {
     "duration": 0.027419,
     "end_time": "2022-03-18T09:09:45.920271",
     "exception": false,
     "start_time": "2022-03-18T09:09:45.892852",
     "status": "completed"
    },
    "tags": []
   },
   "outputs": [],
   "source": [
    "required_parameters = {\n",
    "    \"experiment_name\",\n",
    "    \"lr\",\n",
    "    \"device\",\n",
    "    \"seed\",\n",
    "    \"dataset_seed\",\n",
    "    \"n_shot\",\n",
    "    \"n_query\",\n",
    "    \"n_way\",\n",
    "    \"train_k_factor\",\n",
    "    \"val_k_factor\",\n",
    "    \"test_k_factor\",\n",
    "    \"n_epoch\",\n",
    "    \"patience\",\n",
    "    \"criteria_for_best\",\n",
    "    \"x_net\",\n",
    "    \"datasets\",\n",
    "    \"torch_default_dtype\",\n",
    "    \"NUM_LOGS_PER_EPOCH\",\n",
    "    \"BEST_MODEL_PATH\",\n",
    "    \"x_shape\",\n",
    "}"
   ]
  },
  {
   "cell_type": "code",
   "execution_count": 3,
   "id": "fa3f0049",
   "metadata": {
    "execution": {
     "iopub.execute_input": "2022-03-18T09:09:45.958612Z",
     "iopub.status.busy": "2022-03-18T09:09:45.958326Z",
     "iopub.status.idle": "2022-03-18T09:09:45.972257Z",
     "shell.execute_reply": "2022-03-18T09:09:45.971818Z"
    },
    "papermill": {
     "duration": 0.035148,
     "end_time": "2022-03-18T09:09:45.972359",
     "exception": false,
     "start_time": "2022-03-18T09:09:45.937211",
     "status": "completed"
    },
    "tags": [
     "parameters"
    ]
   },
   "outputs": [],
   "source": [
    "from steves_utils.CORES.utils import (\n",
    "    ALL_NODES,\n",
    "    ALL_NODES_MINIMUM_1000_EXAMPLES,\n",
    "    ALL_DAYS\n",
    ")\n",
    "\n",
    "from steves_utils.ORACLE.utils_v2 import (\n",
    "    ALL_DISTANCES_FEET_NARROWED,\n",
    "    ALL_RUNS,\n",
    "    ALL_SERIAL_NUMBERS,\n",
    ")\n",
    "\n",
    "standalone_parameters = {}\n",
    "standalone_parameters[\"experiment_name\"] = \"STANDALONE PTN\"\n",
    "standalone_parameters[\"lr\"] = 0.001\n",
    "standalone_parameters[\"device\"] = \"cuda\"\n",
    "\n",
    "standalone_parameters[\"seed\"] = 1337\n",
    "standalone_parameters[\"dataset_seed\"] = 1337\n",
    "\n",
    "standalone_parameters[\"n_way\"] = 8\n",
    "standalone_parameters[\"n_shot\"] = 3\n",
    "standalone_parameters[\"n_query\"]  = 2\n",
    "standalone_parameters[\"train_k_factor\"] = 1\n",
    "standalone_parameters[\"val_k_factor\"] = 2\n",
    "standalone_parameters[\"test_k_factor\"] = 2\n",
    "\n",
    "\n",
    "standalone_parameters[\"n_epoch\"] = 50\n",
    "\n",
    "standalone_parameters[\"patience\"] = 10\n",
    "standalone_parameters[\"criteria_for_best\"] = \"source_loss\"\n",
    "\n",
    "standalone_parameters[\"datasets\"] = [\n",
    "    {\n",
    "        \"labels\": ALL_SERIAL_NUMBERS,\n",
    "        \"domains\": ALL_DISTANCES_FEET_NARROWED,\n",
    "        \"num_examples_per_domain_per_label\": 100,\n",
    "        \"pickle_path\": os.path.join(get_datasets_base_path(), \"oracle.Run1_framed_2000Examples_stratified_ds.2022A.pkl\"),\n",
    "        \"source_or_target_dataset\": \"source\",\n",
    "        \"x_transforms\": [\"unit_mag\", \"minus_two\"],\n",
    "        \"episode_transforms\": [],\n",
    "        \"domain_prefix\": \"ORACLE_\"\n",
    "    },\n",
    "    {\n",
    "        \"labels\": ALL_NODES,\n",
    "        \"domains\": ALL_DAYS,\n",
    "        \"num_examples_per_domain_per_label\": 100,\n",
    "        \"pickle_path\": os.path.join(get_datasets_base_path(), \"cores.stratified_ds.2022A.pkl\"),\n",
    "        \"source_or_target_dataset\": \"target\",\n",
    "        \"x_transforms\": [\"unit_power\", \"times_zero\"],\n",
    "        \"episode_transforms\": [],\n",
    "        \"domain_prefix\": \"CORES_\"\n",
    "    }   \n",
    "]\n",
    "\n",
    "standalone_parameters[\"torch_default_dtype\"] = \"torch.float32\" \n",
    "\n",
    "\n",
    "\n",
    "standalone_parameters[\"x_net\"] =     [\n",
    "    {\"class\": \"nnReshape\", \"kargs\": {\"shape\":[-1, 1, 2, 256]}},\n",
    "    {\"class\": \"Conv2d\", \"kargs\": { \"in_channels\":1, \"out_channels\":256, \"kernel_size\":(1,7), \"bias\":False, \"padding\":(0,3), },},\n",
    "    {\"class\": \"ReLU\", \"kargs\": {\"inplace\": True}},\n",
    "    {\"class\": \"BatchNorm2d\", \"kargs\": {\"num_features\":256}},\n",
    "\n",
    "    {\"class\": \"Conv2d\", \"kargs\": { \"in_channels\":256, \"out_channels\":80, \"kernel_size\":(2,7), \"bias\":True, \"padding\":(0,3), },},\n",
    "    {\"class\": \"ReLU\", \"kargs\": {\"inplace\": True}},\n",
    "    {\"class\": \"BatchNorm2d\", \"kargs\": {\"num_features\":80}},\n",
    "    {\"class\": \"Flatten\", \"kargs\": {}},\n",
    "\n",
    "    {\"class\": \"Linear\", \"kargs\": {\"in_features\": 80*256, \"out_features\": 256}}, # 80 units per IQ pair\n",
    "    {\"class\": \"ReLU\", \"kargs\": {\"inplace\": True}},\n",
    "    {\"class\": \"BatchNorm1d\", \"kargs\": {\"num_features\":256}},\n",
    "\n",
    "    {\"class\": \"Linear\", \"kargs\": {\"in_features\": 256, \"out_features\": 256}},\n",
    "]\n",
    "\n",
    "# Parameters relevant to results\n",
    "# These parameters will basically never need to change\n",
    "standalone_parameters[\"NUM_LOGS_PER_EPOCH\"] = 10\n",
    "standalone_parameters[\"BEST_MODEL_PATH\"] = \"./best_model.pth\"\n",
    "\n",
    "\n",
    "\n",
    "\n"
   ]
  },
  {
   "cell_type": "code",
   "execution_count": 4,
   "id": "e9c37ab4",
   "metadata": {
    "execution": {
     "iopub.execute_input": "2022-03-18T09:09:46.013977Z",
     "iopub.status.busy": "2022-03-18T09:09:46.004231Z",
     "iopub.status.idle": "2022-03-18T09:09:46.027809Z",
     "shell.execute_reply": "2022-03-18T09:09:46.027336Z"
    },
    "papermill": {
     "duration": 0.038522,
     "end_time": "2022-03-18T09:09:46.027912",
     "exception": false,
     "start_time": "2022-03-18T09:09:45.989390",
     "status": "completed"
    },
    "tags": [
     "injected-parameters"
    ]
   },
   "outputs": [],
   "source": [
    "# Parameters\n",
    "parameters = {\n",
    "    \"experiment_name\": \"tl_3-jitter5:cores+wisig -> oracle.run1.framed\",\n",
    "    \"device\": \"cuda\",\n",
    "    \"lr\": 0.001,\n",
    "    \"seed\": 1337,\n",
    "    \"dataset_seed\": 1337,\n",
    "    \"n_shot\": 3,\n",
    "    \"n_query\": 2,\n",
    "    \"train_k_factor\": 3,\n",
    "    \"val_k_factor\": 2,\n",
    "    \"test_k_factor\": 2,\n",
    "    \"torch_default_dtype\": \"torch.float32\",\n",
    "    \"n_epoch\": 50,\n",
    "    \"patience\": 3,\n",
    "    \"criteria_for_best\": \"target_loss\",\n",
    "    \"x_net\": [\n",
    "        {\"class\": \"nnReshape\", \"kargs\": {\"shape\": [-1, 1, 2, 256]}},\n",
    "        {\n",
    "            \"class\": \"Conv2d\",\n",
    "            \"kargs\": {\n",
    "                \"in_channels\": 1,\n",
    "                \"out_channels\": 256,\n",
    "                \"kernel_size\": [1, 7],\n",
    "                \"bias\": False,\n",
    "                \"padding\": [0, 3],\n",
    "            },\n",
    "        },\n",
    "        {\"class\": \"ReLU\", \"kargs\": {\"inplace\": True}},\n",
    "        {\"class\": \"BatchNorm2d\", \"kargs\": {\"num_features\": 256}},\n",
    "        {\n",
    "            \"class\": \"Conv2d\",\n",
    "            \"kargs\": {\n",
    "                \"in_channels\": 256,\n",
    "                \"out_channels\": 80,\n",
    "                \"kernel_size\": [2, 7],\n",
    "                \"bias\": True,\n",
    "                \"padding\": [0, 3],\n",
    "            },\n",
    "        },\n",
    "        {\"class\": \"ReLU\", \"kargs\": {\"inplace\": True}},\n",
    "        {\"class\": \"BatchNorm2d\", \"kargs\": {\"num_features\": 80}},\n",
    "        {\"class\": \"Flatten\", \"kargs\": {}},\n",
    "        {\"class\": \"Linear\", \"kargs\": {\"in_features\": 20480, \"out_features\": 256}},\n",
    "        {\"class\": \"ReLU\", \"kargs\": {\"inplace\": True}},\n",
    "        {\"class\": \"BatchNorm1d\", \"kargs\": {\"num_features\": 256}},\n",
    "        {\"class\": \"Linear\", \"kargs\": {\"in_features\": 256, \"out_features\": 256}},\n",
    "    ],\n",
    "    \"NUM_LOGS_PER_EPOCH\": 10,\n",
    "    \"BEST_MODEL_PATH\": \"./best_model.pth\",\n",
    "    \"n_way\": 16,\n",
    "    \"datasets\": [\n",
    "        {\n",
    "            \"labels\": [\n",
    "                \"1-10.\",\n",
    "                \"1-11.\",\n",
    "                \"1-15.\",\n",
    "                \"1-16.\",\n",
    "                \"1-17.\",\n",
    "                \"1-18.\",\n",
    "                \"1-19.\",\n",
    "                \"10-4.\",\n",
    "                \"10-7.\",\n",
    "                \"11-1.\",\n",
    "                \"11-14.\",\n",
    "                \"11-17.\",\n",
    "                \"11-20.\",\n",
    "                \"11-7.\",\n",
    "                \"13-20.\",\n",
    "                \"13-8.\",\n",
    "                \"14-10.\",\n",
    "                \"14-11.\",\n",
    "                \"14-14.\",\n",
    "                \"14-7.\",\n",
    "                \"15-1.\",\n",
    "                \"15-20.\",\n",
    "                \"16-1.\",\n",
    "                \"16-16.\",\n",
    "                \"17-10.\",\n",
    "                \"17-11.\",\n",
    "                \"17-2.\",\n",
    "                \"19-1.\",\n",
    "                \"19-16.\",\n",
    "                \"19-19.\",\n",
    "                \"19-20.\",\n",
    "                \"19-3.\",\n",
    "                \"2-10.\",\n",
    "                \"2-11.\",\n",
    "                \"2-17.\",\n",
    "                \"2-18.\",\n",
    "                \"2-20.\",\n",
    "                \"2-3.\",\n",
    "                \"2-4.\",\n",
    "                \"2-5.\",\n",
    "                \"2-6.\",\n",
    "                \"2-7.\",\n",
    "                \"2-8.\",\n",
    "                \"3-13.\",\n",
    "                \"3-18.\",\n",
    "                \"3-3.\",\n",
    "                \"4-1.\",\n",
    "                \"4-10.\",\n",
    "                \"4-11.\",\n",
    "                \"4-19.\",\n",
    "                \"5-5.\",\n",
    "                \"6-15.\",\n",
    "                \"7-10.\",\n",
    "                \"7-14.\",\n",
    "                \"8-18.\",\n",
    "                \"8-20.\",\n",
    "                \"8-3.\",\n",
    "                \"8-8.\",\n",
    "            ],\n",
    "            \"domains\": [1, 2, 3, 4, 5],\n",
    "            \"num_examples_per_domain_per_label\": 100,\n",
    "            \"pickle_path\": \"/mnt/wd500GB/CSC500/csc500-main/datasets/cores.stratified_ds.2022A.pkl\",\n",
    "            \"source_or_target_dataset\": \"source\",\n",
    "            \"x_transforms\": [\"unit_power\", \"jitter_256_5\", \"take_200\"],\n",
    "            \"episode_transforms\": [],\n",
    "            \"domain_prefix\": \"C_A_\",\n",
    "        },\n",
    "        {\n",
    "            \"labels\": [\n",
    "                \"1-10\",\n",
    "                \"1-12\",\n",
    "                \"1-14\",\n",
    "                \"1-16\",\n",
    "                \"1-18\",\n",
    "                \"1-19\",\n",
    "                \"1-8\",\n",
    "                \"10-11\",\n",
    "                \"10-17\",\n",
    "                \"10-4\",\n",
    "                \"10-7\",\n",
    "                \"11-1\",\n",
    "                \"11-10\",\n",
    "                \"11-19\",\n",
    "                \"11-20\",\n",
    "                \"11-4\",\n",
    "                \"11-7\",\n",
    "                \"12-19\",\n",
    "                \"12-20\",\n",
    "                \"12-7\",\n",
    "                \"13-14\",\n",
    "                \"13-18\",\n",
    "                \"13-19\",\n",
    "                \"13-20\",\n",
    "                \"13-3\",\n",
    "                \"13-7\",\n",
    "                \"14-10\",\n",
    "                \"14-11\",\n",
    "                \"14-12\",\n",
    "                \"14-13\",\n",
    "                \"14-14\",\n",
    "                \"14-19\",\n",
    "                \"14-20\",\n",
    "                \"14-7\",\n",
    "                \"14-8\",\n",
    "                \"14-9\",\n",
    "                \"15-1\",\n",
    "                \"15-19\",\n",
    "                \"15-6\",\n",
    "                \"16-1\",\n",
    "                \"16-16\",\n",
    "                \"16-19\",\n",
    "                \"16-20\",\n",
    "                \"17-10\",\n",
    "                \"17-11\",\n",
    "                \"18-1\",\n",
    "                \"18-10\",\n",
    "                \"18-11\",\n",
    "                \"18-12\",\n",
    "                \"18-13\",\n",
    "                \"18-14\",\n",
    "                \"18-15\",\n",
    "                \"18-16\",\n",
    "                \"18-17\",\n",
    "                \"18-19\",\n",
    "                \"18-2\",\n",
    "                \"18-20\",\n",
    "                \"18-4\",\n",
    "                \"18-5\",\n",
    "                \"18-7\",\n",
    "                \"18-8\",\n",
    "                \"18-9\",\n",
    "                \"19-1\",\n",
    "                \"19-10\",\n",
    "                \"19-11\",\n",
    "                \"19-12\",\n",
    "                \"19-13\",\n",
    "                \"19-14\",\n",
    "                \"19-15\",\n",
    "                \"19-19\",\n",
    "                \"19-2\",\n",
    "                \"19-20\",\n",
    "                \"19-3\",\n",
    "                \"19-4\",\n",
    "                \"19-6\",\n",
    "                \"19-7\",\n",
    "                \"19-8\",\n",
    "                \"19-9\",\n",
    "                \"2-1\",\n",
    "                \"2-13\",\n",
    "                \"2-15\",\n",
    "                \"2-3\",\n",
    "                \"2-4\",\n",
    "                \"2-5\",\n",
    "                \"2-6\",\n",
    "                \"2-7\",\n",
    "                \"2-8\",\n",
    "                \"20-1\",\n",
    "                \"20-12\",\n",
    "                \"20-14\",\n",
    "                \"20-15\",\n",
    "                \"20-16\",\n",
    "                \"20-18\",\n",
    "                \"20-19\",\n",
    "                \"20-20\",\n",
    "                \"20-3\",\n",
    "                \"20-4\",\n",
    "                \"20-5\",\n",
    "                \"20-7\",\n",
    "                \"20-8\",\n",
    "                \"3-1\",\n",
    "                \"3-13\",\n",
    "                \"3-18\",\n",
    "                \"3-2\",\n",
    "                \"3-8\",\n",
    "                \"4-1\",\n",
    "                \"4-10\",\n",
    "                \"4-11\",\n",
    "                \"5-1\",\n",
    "                \"5-5\",\n",
    "                \"6-1\",\n",
    "                \"6-15\",\n",
    "                \"6-6\",\n",
    "                \"7-10\",\n",
    "                \"7-11\",\n",
    "                \"7-12\",\n",
    "                \"7-13\",\n",
    "                \"7-14\",\n",
    "                \"7-7\",\n",
    "                \"7-8\",\n",
    "                \"7-9\",\n",
    "                \"8-1\",\n",
    "                \"8-13\",\n",
    "                \"8-14\",\n",
    "                \"8-18\",\n",
    "                \"8-20\",\n",
    "                \"8-3\",\n",
    "                \"8-8\",\n",
    "                \"9-1\",\n",
    "                \"9-7\",\n",
    "            ],\n",
    "            \"domains\": [1, 2, 3, 4],\n",
    "            \"num_examples_per_domain_per_label\": 100,\n",
    "            \"pickle_path\": \"/mnt/wd500GB/CSC500/csc500-main/datasets/wisig.node3-19.stratified_ds.2022A.pkl\",\n",
    "            \"source_or_target_dataset\": \"source\",\n",
    "            \"x_transforms\": [\"unit_power\", \"jitter_256_5\", \"take_200\"],\n",
    "            \"episode_transforms\": [],\n",
    "            \"domain_prefix\": \"W_A_\",\n",
    "        },\n",
    "        {\n",
    "            \"labels\": [\n",
    "                \"3123D52\",\n",
    "                \"3123D65\",\n",
    "                \"3123D79\",\n",
    "                \"3123D80\",\n",
    "                \"3123D54\",\n",
    "                \"3123D70\",\n",
    "                \"3123D7B\",\n",
    "                \"3123D89\",\n",
    "                \"3123D58\",\n",
    "                \"3123D76\",\n",
    "                \"3123D7D\",\n",
    "                \"3123EFE\",\n",
    "                \"3123D64\",\n",
    "                \"3123D78\",\n",
    "                \"3123D7E\",\n",
    "                \"3124E4A\",\n",
    "            ],\n",
    "            \"domains\": [32, 38, 8, 44, 14, 50, 20, 26],\n",
    "            \"num_examples_per_domain_per_label\": 2000,\n",
    "            \"pickle_path\": \"/mnt/wd500GB/CSC500/csc500-main/datasets/oracle.Run1_framed_2000Examples_stratified_ds.2022A.pkl\",\n",
    "            \"source_or_target_dataset\": \"target\",\n",
    "            \"x_transforms\": [\n",
    "                \"unit_power\",\n",
    "                \"jitter_256_5\",\n",
    "                \"take_200\",\n",
    "                \"resample_20Msps_to_25Msps\",\n",
    "            ],\n",
    "            \"episode_transforms\": [],\n",
    "            \"domain_prefix\": \"ORACLE.run1_\",\n",
    "        },\n",
    "    ],\n",
    "}\n"
   ]
  },
  {
   "cell_type": "code",
   "execution_count": 5,
   "id": "8fa1cc33",
   "metadata": {
    "execution": {
     "iopub.execute_input": "2022-03-18T09:09:46.064404Z",
     "iopub.status.busy": "2022-03-18T09:09:46.064044Z",
     "iopub.status.idle": "2022-03-18T09:09:46.078912Z",
     "shell.execute_reply": "2022-03-18T09:09:46.078464Z"
    },
    "papermill": {
     "duration": 0.032081,
     "end_time": "2022-03-18T09:09:46.079011",
     "exception": false,
     "start_time": "2022-03-18T09:09:46.046930",
     "status": "completed"
    },
    "tags": []
   },
   "outputs": [],
   "source": [
    "# Set this to True if you want to run this template directly\n",
    "STANDALONE = False\n",
    "if STANDALONE:\n",
    "    print(\"parameters not injected, running with standalone_parameters\")\n",
    "    parameters = standalone_parameters\n",
    "\n",
    "if not 'parameters' in locals() and not 'parameters' in globals():\n",
    "    raise Exception(\"Parameter injection failed\")\n",
    "\n",
    "#Use an easy dict for all the parameters\n",
    "p = EasyDict(parameters)\n",
    "\n",
    "if \"x_shape\" not in p:\n",
    "    p.x_shape = [2,256] # Default to this if we dont supply x_shape\n",
    "\n",
    "\n",
    "supplied_keys = set(p.keys())\n",
    "\n",
    "if  supplied_keys != required_parameters:\n",
    "    print(\"Parameters are incorrect\")\n",
    "    if len(supplied_keys - required_parameters)>0: print(\"Shouldn't have:\", str(supplied_keys - required_parameters))\n",
    "    if len(required_parameters - supplied_keys)>0: print(\"Need to have:\", str(required_parameters - supplied_keys))\n",
    "    raise RuntimeError(\"Parameters are incorrect\")"
   ]
  },
  {
   "cell_type": "code",
   "execution_count": 6,
   "id": "3a028d58",
   "metadata": {
    "execution": {
     "iopub.execute_input": "2022-03-18T09:09:46.117804Z",
     "iopub.status.busy": "2022-03-18T09:09:46.115880Z",
     "iopub.status.idle": "2022-03-18T09:09:46.127412Z",
     "shell.execute_reply": "2022-03-18T09:09:46.126907Z"
    },
    "papermill": {
     "duration": 0.030179,
     "end_time": "2022-03-18T09:09:46.127518",
     "exception": false,
     "start_time": "2022-03-18T09:09:46.097339",
     "status": "completed"
    },
    "tags": []
   },
   "outputs": [],
   "source": [
    "###################################\n",
    "# Set the RNGs and make it all deterministic\n",
    "###################################\n",
    "np.random.seed(p.seed)\n",
    "random.seed(p.seed)\n",
    "torch.manual_seed(p.seed)\n",
    "\n",
    "torch.use_deterministic_algorithms(True) "
   ]
  },
  {
   "cell_type": "code",
   "execution_count": 7,
   "id": "b691acf6",
   "metadata": {
    "execution": {
     "iopub.execute_input": "2022-03-18T09:09:46.163647Z",
     "iopub.status.busy": "2022-03-18T09:09:46.161145Z",
     "iopub.status.idle": "2022-03-18T09:09:46.174176Z",
     "shell.execute_reply": "2022-03-18T09:09:46.174568Z"
    },
    "papermill": {
     "duration": 0.030092,
     "end_time": "2022-03-18T09:09:46.174688",
     "exception": false,
     "start_time": "2022-03-18T09:09:46.144596",
     "status": "completed"
    },
    "tags": []
   },
   "outputs": [],
   "source": [
    "###########################################\n",
    "# The stratified datasets honor this\n",
    "###########################################\n",
    "torch.set_default_dtype(eval(p.torch_default_dtype))"
   ]
  },
  {
   "cell_type": "code",
   "execution_count": 8,
   "id": "b5fba671",
   "metadata": {
    "execution": {
     "iopub.execute_input": "2022-03-18T09:09:46.220485Z",
     "iopub.status.busy": "2022-03-18T09:09:46.215935Z",
     "iopub.status.idle": "2022-03-18T09:09:46.249235Z",
     "shell.execute_reply": "2022-03-18T09:09:46.249649Z"
    },
    "papermill": {
     "duration": 0.05745,
     "end_time": "2022-03-18T09:09:46.249783",
     "exception": false,
     "start_time": "2022-03-18T09:09:46.192333",
     "status": "completed"
    },
    "tags": []
   },
   "outputs": [],
   "source": [
    "###################################\n",
    "# Build the network(s)\n",
    "# Note: It's critical to do this AFTER setting the RNG\n",
    "###################################\n",
    "x_net = build_sequential(p.x_net)"
   ]
  },
  {
   "cell_type": "code",
   "execution_count": 9,
   "id": "5d7e61cc",
   "metadata": {
    "execution": {
     "iopub.execute_input": "2022-03-18T09:09:46.287644Z",
     "iopub.status.busy": "2022-03-18T09:09:46.286525Z",
     "iopub.status.idle": "2022-03-18T09:09:46.302022Z",
     "shell.execute_reply": "2022-03-18T09:09:46.301597Z"
    },
    "papermill": {
     "duration": 0.031947,
     "end_time": "2022-03-18T09:09:46.302120",
     "exception": false,
     "start_time": "2022-03-18T09:09:46.270173",
     "status": "completed"
    },
    "tags": []
   },
   "outputs": [],
   "source": [
    "start_time_secs = time.time()"
   ]
  },
  {
   "cell_type": "code",
   "execution_count": 10,
   "id": "c6b67dfd",
   "metadata": {
    "execution": {
     "iopub.execute_input": "2022-03-18T09:09:46.337245Z",
     "iopub.status.busy": "2022-03-18T09:09:46.336493Z",
     "iopub.status.idle": "2022-03-18T09:09:46.353763Z",
     "shell.execute_reply": "2022-03-18T09:09:46.353270Z"
    },
    "papermill": {
     "duration": 0.033524,
     "end_time": "2022-03-18T09:09:46.353863",
     "exception": false,
     "start_time": "2022-03-18T09:09:46.320339",
     "status": "completed"
    },
    "tags": []
   },
   "outputs": [],
   "source": [
    "p.domains_source = []\n",
    "p.domains_target = []\n",
    "\n",
    "\n",
    "train_original_source = []\n",
    "val_original_source   = []\n",
    "test_original_source  = []\n",
    "\n",
    "train_original_target = []\n",
    "val_original_target   = []\n",
    "test_original_target  = []"
   ]
  },
  {
   "cell_type": "code",
   "execution_count": 11,
   "id": "e3d9c3d3",
   "metadata": {
    "execution": {
     "iopub.execute_input": "2022-03-18T09:09:46.396590Z",
     "iopub.status.busy": "2022-03-18T09:09:46.385712Z",
     "iopub.status.idle": "2022-03-18T09:09:46.401438Z",
     "shell.execute_reply": "2022-03-18T09:09:46.401017Z"
    },
    "papermill": {
     "duration": 0.031033,
     "end_time": "2022-03-18T09:09:46.401538",
     "exception": false,
     "start_time": "2022-03-18T09:09:46.370505",
     "status": "completed"
    },
    "tags": []
   },
   "outputs": [],
   "source": [
    "# global_x_transform_func = lambda x: normalize(x.to(torch.get_default_dtype()), \"unit_power\") # unit_power, unit_mag\n",
    "# global_x_transform_func = lambda x: normalize(x, \"unit_power\") # unit_power, unit_mag"
   ]
  },
  {
   "cell_type": "code",
   "execution_count": 12,
   "id": "acb78fd2",
   "metadata": {
    "execution": {
     "iopub.execute_input": "2022-03-18T09:09:46.441320Z",
     "iopub.status.busy": "2022-03-18T09:09:46.441048Z",
     "iopub.status.idle": "2022-03-18T09:09:46.454651Z",
     "shell.execute_reply": "2022-03-18T09:09:46.454199Z"
    },
    "papermill": {
     "duration": 0.03456,
     "end_time": "2022-03-18T09:09:46.454750",
     "exception": false,
     "start_time": "2022-03-18T09:09:46.420190",
     "status": "completed"
    },
    "tags": []
   },
   "outputs": [],
   "source": [
    "def add_dataset(\n",
    "    labels,\n",
    "    domains,\n",
    "    pickle_path,\n",
    "    x_transforms,\n",
    "    episode_transforms,\n",
    "    domain_prefix,\n",
    "    num_examples_per_domain_per_label,\n",
    "    source_or_target_dataset:str,\n",
    "    iterator_seed=p.seed,\n",
    "    dataset_seed=p.dataset_seed,\n",
    "    n_shot=p.n_shot,\n",
    "    n_way=p.n_way,\n",
    "    n_query=p.n_query,\n",
    "    train_val_test_k_factors=(p.train_k_factor,p.val_k_factor,p.test_k_factor),\n",
    "):\n",
    "   \n",
    "    if x_transforms == []: x_transform = None\n",
    "    else: x_transform = get_chained_transform(x_transforms)\n",
    "    \n",
    "    if episode_transforms == []: episode_transform = None\n",
    "    else: raise Exception(\"episode_transforms not implemented\")\n",
    "    \n",
    "    episode_transform = lambda tup, _prefix=domain_prefix: (_prefix + str(tup[0]), tup[1])\n",
    "\n",
    "\n",
    "    eaf = Episodic_Accessor_Factory(\n",
    "        labels=labels,\n",
    "        domains=domains,\n",
    "        num_examples_per_domain_per_label=num_examples_per_domain_per_label,\n",
    "        iterator_seed=iterator_seed,\n",
    "        dataset_seed=dataset_seed,\n",
    "        n_shot=n_shot,\n",
    "        n_way=n_way,\n",
    "        n_query=n_query,\n",
    "        train_val_test_k_factors=train_val_test_k_factors,\n",
    "        pickle_path=pickle_path,\n",
    "        x_transform_func=x_transform,\n",
    "    )\n",
    "\n",
    "    train, val, test = eaf.get_train(), eaf.get_val(), eaf.get_test()\n",
    "    train = Lazy_Iterable_Wrapper(train, episode_transform)\n",
    "    val = Lazy_Iterable_Wrapper(val, episode_transform)\n",
    "    test = Lazy_Iterable_Wrapper(test, episode_transform)\n",
    "\n",
    "    if source_or_target_dataset==\"source\":\n",
    "        train_original_source.append(train)\n",
    "        val_original_source.append(val)\n",
    "        test_original_source.append(test)\n",
    "\n",
    "        p.domains_source.extend(\n",
    "            [domain_prefix + str(u) for u in domains]\n",
    "        )\n",
    "    elif source_or_target_dataset==\"target\":\n",
    "        train_original_target.append(train)\n",
    "        val_original_target.append(val)\n",
    "        test_original_target.append(test)\n",
    "        p.domains_target.extend(\n",
    "            [domain_prefix + str(u) for u in domains]\n",
    "        )\n",
    "    else:\n",
    "        raise Exception(f\"invalid source_or_target_dataset: {source_or_target_dataset}\")\n",
    "    "
   ]
  },
  {
   "cell_type": "code",
   "execution_count": 13,
   "id": "fe266617",
   "metadata": {
    "execution": {
     "iopub.execute_input": "2022-03-18T09:09:46.495700Z",
     "iopub.status.busy": "2022-03-18T09:09:46.491340Z",
     "iopub.status.idle": "2022-03-18T09:10:45.075258Z",
     "shell.execute_reply": "2022-03-18T09:10:45.074723Z"
    },
    "papermill": {
     "duration": 58.600383,
     "end_time": "2022-03-18T09:10:45.075366",
     "exception": false,
     "start_time": "2022-03-18T09:09:46.474983",
     "status": "completed"
    },
    "tags": []
   },
   "outputs": [],
   "source": [
    "for ds in p.datasets:\n",
    "    add_dataset(**ds)"
   ]
  },
  {
   "cell_type": "code",
   "execution_count": 14,
   "id": "b90d65ac",
   "metadata": {
    "execution": {
     "iopub.execute_input": "2022-03-18T09:10:45.119553Z",
     "iopub.status.busy": "2022-03-18T09:10:45.111425Z",
     "iopub.status.idle": "2022-03-18T09:10:45.126800Z",
     "shell.execute_reply": "2022-03-18T09:10:45.126348Z"
    },
    "papermill": {
     "duration": 0.031758,
     "end_time": "2022-03-18T09:10:45.126901",
     "exception": false,
     "start_time": "2022-03-18T09:10:45.095143",
     "status": "completed"
    },
    "tags": []
   },
   "outputs": [],
   "source": [
    "# from steves_utils.CORES.utils import (\n",
    "#     ALL_NODES,\n",
    "#     ALL_NODES_MINIMUM_1000_EXAMPLES,\n",
    "#     ALL_DAYS\n",
    "# )\n",
    "\n",
    "# add_dataset(\n",
    "#     labels=ALL_NODES,\n",
    "#     domains = ALL_DAYS,\n",
    "#     num_examples_per_domain_per_label=100,\n",
    "#     pickle_path=os.path.join(get_datasets_base_path(), \"cores.stratified_ds.2022A.pkl\"),\n",
    "#     source_or_target_dataset=\"target\",\n",
    "#     x_transform_func=global_x_transform_func,\n",
    "#     domain_modifier=lambda u: f\"cores_{u}\"\n",
    "# )"
   ]
  },
  {
   "cell_type": "code",
   "execution_count": 15,
   "id": "76db484d",
   "metadata": {
    "execution": {
     "iopub.execute_input": "2022-03-18T09:10:45.160559Z",
     "iopub.status.busy": "2022-03-18T09:10:45.160301Z",
     "iopub.status.idle": "2022-03-18T09:10:45.171869Z",
     "shell.execute_reply": "2022-03-18T09:10:45.171389Z"
    },
    "papermill": {
     "duration": 0.026758,
     "end_time": "2022-03-18T09:10:45.171968",
     "exception": false,
     "start_time": "2022-03-18T09:10:45.145210",
     "status": "completed"
    },
    "tags": []
   },
   "outputs": [],
   "source": [
    "# from steves_utils.ORACLE.utils_v2 import (\n",
    "#     ALL_DISTANCES_FEET,\n",
    "#     ALL_RUNS,\n",
    "#     ALL_SERIAL_NUMBERS,\n",
    "# )\n",
    "\n",
    "\n",
    "# add_dataset(\n",
    "#     labels=ALL_SERIAL_NUMBERS,\n",
    "#     domains = list(set(ALL_DISTANCES_FEET) - {2,62}),\n",
    "#     num_examples_per_domain_per_label=100,\n",
    "#     pickle_path=os.path.join(get_datasets_base_path(), \"oracle.Run2_framed_2000Examples_stratified_ds.2022A.pkl\"),\n",
    "#     source_or_target_dataset=\"source\",\n",
    "#     x_transform_func=global_x_transform_func,\n",
    "#     domain_modifier=lambda u: f\"oracle1_{u}\"\n",
    "# )\n"
   ]
  },
  {
   "cell_type": "code",
   "execution_count": 16,
   "id": "97dea9d2",
   "metadata": {
    "execution": {
     "iopub.execute_input": "2022-03-18T09:10:45.213208Z",
     "iopub.status.busy": "2022-03-18T09:10:45.205687Z",
     "iopub.status.idle": "2022-03-18T09:10:45.225521Z",
     "shell.execute_reply": "2022-03-18T09:10:45.225043Z"
    },
    "papermill": {
     "duration": 0.036021,
     "end_time": "2022-03-18T09:10:45.225619",
     "exception": false,
     "start_time": "2022-03-18T09:10:45.189598",
     "status": "completed"
    },
    "tags": []
   },
   "outputs": [],
   "source": [
    "# from steves_utils.ORACLE.utils_v2 import (\n",
    "#     ALL_DISTANCES_FEET,\n",
    "#     ALL_RUNS,\n",
    "#     ALL_SERIAL_NUMBERS,\n",
    "# )\n",
    "\n",
    "\n",
    "# add_dataset(\n",
    "#     labels=ALL_SERIAL_NUMBERS,\n",
    "#     domains = list(set(ALL_DISTANCES_FEET) - {2,62,56}),\n",
    "#     num_examples_per_domain_per_label=100,\n",
    "#     pickle_path=os.path.join(get_datasets_base_path(), \"oracle.Run2_framed_2000Examples_stratified_ds.2022A.pkl\"),\n",
    "#     source_or_target_dataset=\"source\",\n",
    "#     x_transform_func=global_x_transform_func,\n",
    "#     domain_modifier=lambda u: f\"oracle2_{u}\"\n",
    "# )"
   ]
  },
  {
   "cell_type": "code",
   "execution_count": 17,
   "id": "6f289866",
   "metadata": {
    "execution": {
     "iopub.execute_input": "2022-03-18T09:10:45.265283Z",
     "iopub.status.busy": "2022-03-18T09:10:45.260195Z",
     "iopub.status.idle": "2022-03-18T09:10:45.275322Z",
     "shell.execute_reply": "2022-03-18T09:10:45.274868Z"
    },
    "papermill": {
     "duration": 0.030882,
     "end_time": "2022-03-18T09:10:45.275420",
     "exception": false,
     "start_time": "2022-03-18T09:10:45.244538",
     "status": "completed"
    },
    "tags": []
   },
   "outputs": [],
   "source": [
    "# add_dataset(\n",
    "#     labels=list(range(19)),\n",
    "#     domains = [0,1,2],\n",
    "#     num_examples_per_domain_per_label=100,\n",
    "#     pickle_path=os.path.join(get_datasets_base_path(), \"metehan.stratified_ds.2022A.pkl\"),\n",
    "#     source_or_target_dataset=\"target\",\n",
    "#     x_transform_func=global_x_transform_func,\n",
    "#     domain_modifier=lambda u: f\"met_{u}\"\n",
    "# )"
   ]
  },
  {
   "cell_type": "code",
   "execution_count": 18,
   "id": "86a863c3",
   "metadata": {
    "execution": {
     "iopub.execute_input": "2022-03-18T09:10:45.316592Z",
     "iopub.status.busy": "2022-03-18T09:10:45.309549Z",
     "iopub.status.idle": "2022-03-18T09:10:45.323815Z",
     "shell.execute_reply": "2022-03-18T09:10:45.323593Z"
    },
    "papermill": {
     "duration": 0.030148,
     "end_time": "2022-03-18T09:10:45.323874",
     "exception": false,
     "start_time": "2022-03-18T09:10:45.293726",
     "status": "completed"
    },
    "tags": []
   },
   "outputs": [],
   "source": [
    "# # from steves_utils.wisig.utils import (\n",
    "# #     ALL_NODES_MINIMUM_100_EXAMPLES,\n",
    "# #     ALL_NODES_MINIMUM_500_EXAMPLES,\n",
    "# #     ALL_NODES_MINIMUM_1000_EXAMPLES,\n",
    "# #     ALL_DAYS\n",
    "# # )\n",
    "\n",
    "# import steves_utils.wisig.utils as wisig\n",
    "\n",
    "\n",
    "# add_dataset(\n",
    "#     labels=wisig.ALL_NODES_MINIMUM_100_EXAMPLES,\n",
    "#     domains = wisig.ALL_DAYS,\n",
    "#     num_examples_per_domain_per_label=100,\n",
    "#     pickle_path=os.path.join(get_datasets_base_path(), \"wisig.node3-19.stratified_ds.2022A.pkl\"),\n",
    "#     source_or_target_dataset=\"target\",\n",
    "#     x_transform_func=global_x_transform_func,\n",
    "#     domain_modifier=lambda u: f\"wisig_{u}\"\n",
    "# )"
   ]
  },
  {
   "cell_type": "code",
   "execution_count": 19,
   "id": "fd5442bc",
   "metadata": {
    "execution": {
     "iopub.execute_input": "2022-03-18T09:10:45.358569Z",
     "iopub.status.busy": "2022-03-18T09:10:45.357947Z",
     "iopub.status.idle": "2022-03-18T09:10:45.370661Z",
     "shell.execute_reply": "2022-03-18T09:10:45.370411Z"
    },
    "papermill": {
     "duration": 0.030407,
     "end_time": "2022-03-18T09:10:45.370720",
     "exception": false,
     "start_time": "2022-03-18T09:10:45.340313",
     "status": "completed"
    },
    "tags": []
   },
   "outputs": [],
   "source": [
    "###################################\n",
    "# Build the dataset\n",
    "###################################\n",
    "train_original_source = Iterable_Aggregator(train_original_source, p.seed)\n",
    "val_original_source = Iterable_Aggregator(val_original_source, p.seed)\n",
    "test_original_source = Iterable_Aggregator(test_original_source, p.seed)\n",
    "\n",
    "\n",
    "train_original_target = Iterable_Aggregator(train_original_target, p.seed)\n",
    "val_original_target = Iterable_Aggregator(val_original_target, p.seed)\n",
    "test_original_target = Iterable_Aggregator(test_original_target, p.seed)\n",
    "\n",
    "# For CNN We only use X and Y. And we only train on the source.\n",
    "# Properly form the data using a transform lambda and Lazy_Iterable_Wrapper. Finally wrap them in a dataloader\n",
    "\n",
    "transform_lambda = lambda ex: ex[1] # Original is (<domain>, <episode>) so we strip down to episode only\n",
    "\n",
    "train_processed_source = Lazy_Iterable_Wrapper(train_original_source, transform_lambda)\n",
    "val_processed_source   = Lazy_Iterable_Wrapper(val_original_source, transform_lambda)\n",
    "test_processed_source  = Lazy_Iterable_Wrapper(test_original_source, transform_lambda)\n",
    "\n",
    "train_processed_target = Lazy_Iterable_Wrapper(train_original_target, transform_lambda)\n",
    "val_processed_target   = Lazy_Iterable_Wrapper(val_original_target, transform_lambda)\n",
    "test_processed_target  = Lazy_Iterable_Wrapper(test_original_target, transform_lambda)\n",
    "\n",
    "datasets = EasyDict({\n",
    "    \"source\": {\n",
    "        \"original\": {\"train\":train_original_source, \"val\":val_original_source, \"test\":test_original_source},\n",
    "        \"processed\": {\"train\":train_processed_source, \"val\":val_processed_source, \"test\":test_processed_source}\n",
    "    },\n",
    "    \"target\": {\n",
    "        \"original\": {\"train\":train_original_target, \"val\":val_original_target, \"test\":test_original_target},\n",
    "        \"processed\": {\"train\":train_processed_target, \"val\":val_processed_target, \"test\":test_processed_target}\n",
    "    },\n",
    "})"
   ]
  },
  {
   "cell_type": "code",
   "execution_count": 20,
   "id": "5b3c01fc",
   "metadata": {
    "execution": {
     "iopub.execute_input": "2022-03-18T09:10:45.405438Z",
     "iopub.status.busy": "2022-03-18T09:10:45.405183Z",
     "iopub.status.idle": "2022-03-18T09:10:50.238211Z",
     "shell.execute_reply": "2022-03-18T09:10:50.238667Z"
    },
    "papermill": {
     "duration": 4.852497,
     "end_time": "2022-03-18T09:10:50.238803",
     "exception": false,
     "start_time": "2022-03-18T09:10:45.386306",
     "status": "completed"
    },
    "tags": []
   },
   "outputs": [
    {
     "name": "stdout",
     "output_type": "stream",
     "text": [
      "{'C_A_4', 'W_A_2', 'C_A_2', 'C_A_1', 'C_A_3', 'W_A_4', 'W_A_3', 'C_A_5', 'W_A_1'}\n"
     ]
    },
    {
     "name": "stdout",
     "output_type": "stream",
     "text": [
      "{'ORACLE.run1_38', 'ORACLE.run1_8', 'ORACLE.run1_44', 'ORACLE.run1_20', 'ORACLE.run1_26', 'ORACLE.run1_14', 'ORACLE.run1_32', 'ORACLE.run1_50'}\n"
     ]
    },
    {
     "name": "stdout",
     "output_type": "stream",
     "text": [
      "tensor([[[0., 0., 0.,  ..., 0., 0., 0.],\n",
      "         [0., 0., 0.,  ..., 0., 0., 0.]],\n",
      "\n",
      "        [[0., 0., 0.,  ..., 0., 0., 0.],\n",
      "         [0., 0., 0.,  ..., 0., 0., 0.]],\n",
      "\n",
      "        [[0., 0., 0.,  ..., 0., 0., 0.],\n",
      "         [0., 0., 0.,  ..., 0., 0., 0.]],\n",
      "\n",
      "        ...,\n",
      "\n",
      "        [[0., 0., 0.,  ..., 0., 0., 0.],\n",
      "         [0., 0., 0.,  ..., 0., 0., 0.]],\n",
      "\n",
      "        [[0., 0., 0.,  ..., 0., 0., 0.],\n",
      "         [0., 0., 0.,  ..., 0., 0., 0.]],\n",
      "\n",
      "        [[0., 0., 0.,  ..., 0., 0., 0.],\n",
      "         [0., 0., 0.,  ..., 0., 0., 0.]]])\n"
     ]
    }
   ],
   "source": [
    "from steves_utils.transforms import get_average_magnitude, get_average_power\n",
    "\n",
    "print(set([u for u,_ in val_original_source]))\n",
    "print(set([u for u,_ in val_original_target]))\n",
    "\n",
    "s_x, s_y, q_x, q_y, _ = next(iter(train_processed_source))\n",
    "print(s_x)\n",
    "\n",
    "# for ds in [\n",
    "#     train_processed_source,\n",
    "#     val_processed_source,\n",
    "#     test_processed_source,\n",
    "#     train_processed_target,\n",
    "#     val_processed_target,\n",
    "#     test_processed_target\n",
    "# ]:\n",
    "#     for s_x, s_y, q_x, q_y, _ in ds:\n",
    "#         for X in (s_x, q_x):\n",
    "#             for x in X:\n",
    "#                 assert np.isclose(get_average_magnitude(x.numpy()), 1.0)\n",
    "#                 assert np.isclose(get_average_power(x.numpy()), 1.0)\n",
    "                "
   ]
  },
  {
   "cell_type": "code",
   "execution_count": 21,
   "id": "bbdacba1",
   "metadata": {
    "execution": {
     "iopub.execute_input": "2022-03-18T09:10:50.274649Z",
     "iopub.status.busy": "2022-03-18T09:10:50.274300Z",
     "iopub.status.idle": "2022-03-18T09:10:50.340506Z",
     "shell.execute_reply": "2022-03-18T09:10:50.340245Z"
    },
    "papermill": {
     "duration": 0.084171,
     "end_time": "2022-03-18T09:10:50.340571",
     "exception": false,
     "start_time": "2022-03-18T09:10:50.256400",
     "status": "completed"
    },
    "tags": []
   },
   "outputs": [
    {
     "name": "stdout",
     "output_type": "stream",
     "text": [
      "(2, 256)\n"
     ]
    }
   ],
   "source": [
    "###################################\n",
    "# Build the model\n",
    "###################################\n",
    "# easfsl only wants a tuple for the shape\n",
    "model = Steves_Prototypical_Network(x_net, device=p.device, x_shape=tuple(p.x_shape))\n",
    "optimizer = Adam(params=model.parameters(), lr=p.lr)"
   ]
  },
  {
   "cell_type": "code",
   "execution_count": 22,
   "id": "22b39ac5",
   "metadata": {
    "execution": {
     "iopub.execute_input": "2022-03-18T09:10:50.376145Z",
     "iopub.status.busy": "2022-03-18T09:10:50.375762Z",
     "iopub.status.idle": "2022-03-18T09:19:02.600255Z",
     "shell.execute_reply": "2022-03-18T09:19:02.600641Z"
    },
    "papermill": {
     "duration": 492.242011,
     "end_time": "2022-03-18T09:19:02.600761",
     "exception": false,
     "start_time": "2022-03-18T09:10:50.358750",
     "status": "completed"
    },
    "tags": []
   },
   "outputs": [
    {
     "name": "stdout",
     "output_type": "stream",
     "text": [
      "epoch: 1, [batch: 1 / 2081], examples_per_second: 126.6142, train_label_loss: 2.6971, \n"
     ]
    },
    {
     "name": "stdout",
     "output_type": "stream",
     "text": [
      "epoch: 1, [batch: 209 / 2081], examples_per_second: 3197.7449, train_label_loss: 0.2197, \n"
     ]
    },
    {
     "name": "stdout",
     "output_type": "stream",
     "text": [
      "epoch: 1, [batch: 417 / 2081], examples_per_second: 3231.8203, train_label_loss: 1.0255, \n"
     ]
    },
    {
     "name": "stdout",
     "output_type": "stream",
     "text": [
      "epoch: 1, [batch: 625 / 2081], examples_per_second: 3220.4852, train_label_loss: 0.1712, \n"
     ]
    },
    {
     "name": "stdout",
     "output_type": "stream",
     "text": [
      "epoch: 1, [batch: 833 / 2081], examples_per_second: 3234.5983, train_label_loss: 1.3080, \n"
     ]
    },
    {
     "name": "stdout",
     "output_type": "stream",
     "text": [
      "epoch: 1, [batch: 1041 / 2081], examples_per_second: 3214.6549, train_label_loss: 0.1213, \n"
     ]
    },
    {
     "name": "stdout",
     "output_type": "stream",
     "text": [
      "epoch: 1, [batch: 1249 / 2081], examples_per_second: 3241.6525, train_label_loss: 0.4948, \n"
     ]
    },
    {
     "name": "stdout",
     "output_type": "stream",
     "text": [
      "epoch: 1, [batch: 1457 / 2081], examples_per_second: 3214.3182, train_label_loss: 0.6500, \n"
     ]
    },
    {
     "name": "stdout",
     "output_type": "stream",
     "text": [
      "epoch: 1, [batch: 1665 / 2081], examples_per_second: 3223.6403, train_label_loss: 0.1731, \n"
     ]
    },
    {
     "name": "stdout",
     "output_type": "stream",
     "text": [
      "epoch: 1, [batch: 1873 / 2081], examples_per_second: 3202.6159, train_label_loss: 0.2512, \n"
     ]
    },
    {
     "name": "stdout",
     "output_type": "stream",
     "text": [
      "=============================================================\n",
      "epoch: 1, source_val_acc_label: 0.9084, target_val_acc_label: 0.1868, source_val_label_loss: 0.8045, target_val_label_loss: 2.4554, \n",
      "=============================================================\n"
     ]
    },
    {
     "name": "stdout",
     "output_type": "stream",
     "text": [
      "New best\n"
     ]
    },
    {
     "name": "stdout",
     "output_type": "stream",
     "text": [
      "epoch: 2, [batch: 1 / 2079], examples_per_second: 10.5433, train_label_loss: 0.0841, \n"
     ]
    },
    {
     "name": "stdout",
     "output_type": "stream",
     "text": [
      "epoch: 2, [batch: 208 / 2079], examples_per_second: 3210.6638, train_label_loss: 1.2031, \n"
     ]
    },
    {
     "name": "stdout",
     "output_type": "stream",
     "text": [
      "epoch: 2, [batch: 416 / 2079], examples_per_second: 3250.0087, train_label_loss: 0.4284, \n"
     ]
    },
    {
     "name": "stdout",
     "output_type": "stream",
     "text": [
      "epoch: 2, [batch: 624 / 2079], examples_per_second: 3251.3321, train_label_loss: 0.5529, \n"
     ]
    },
    {
     "name": "stdout",
     "output_type": "stream",
     "text": [
      "epoch: 2, [batch: 832 / 2079], examples_per_second: 3271.9702, train_label_loss: 1.0289, \n"
     ]
    },
    {
     "name": "stdout",
     "output_type": "stream",
     "text": [
      "epoch: 2, [batch: 1040 / 2079], examples_per_second: 3240.0445, train_label_loss: 0.4459, \n"
     ]
    },
    {
     "name": "stdout",
     "output_type": "stream",
     "text": [
      "epoch: 2, [batch: 1247 / 2079], examples_per_second: 3251.0121, train_label_loss: 0.0686, \n"
     ]
    },
    {
     "name": "stdout",
     "output_type": "stream",
     "text": [
      "epoch: 2, [batch: 1455 / 2079], examples_per_second: 3218.5990, train_label_loss: 0.8912, \n"
     ]
    },
    {
     "name": "stdout",
     "output_type": "stream",
     "text": [
      "epoch: 2, [batch: 1663 / 2079], examples_per_second: 3229.7506, train_label_loss: 0.6071, \n"
     ]
    },
    {
     "name": "stdout",
     "output_type": "stream",
     "text": [
      "epoch: 2, [batch: 1871 / 2079], examples_per_second: 3268.6549, train_label_loss: 0.1948, \n"
     ]
    },
    {
     "name": "stdout",
     "output_type": "stream",
     "text": [
      "=============================================================\n",
      "epoch: 2, source_val_acc_label: 0.9269, target_val_acc_label: 0.2655, source_val_label_loss: 0.3409, target_val_label_loss: 2.2654, \n",
      "=============================================================\n"
     ]
    },
    {
     "name": "stdout",
     "output_type": "stream",
     "text": [
      "New best\n"
     ]
    },
    {
     "name": "stdout",
     "output_type": "stream",
     "text": [
      "epoch: 3, [batch: 1 / 2082], examples_per_second: 10.5493, train_label_loss: 0.4930, \n"
     ]
    },
    {
     "name": "stdout",
     "output_type": "stream",
     "text": [
      "epoch: 3, [batch: 209 / 2082], examples_per_second: 3225.8875, train_label_loss: 1.0859, \n"
     ]
    },
    {
     "name": "stdout",
     "output_type": "stream",
     "text": [
      "epoch: 3, [batch: 417 / 2082], examples_per_second: 3278.6775, train_label_loss: 0.7383, \n"
     ]
    },
    {
     "name": "stdout",
     "output_type": "stream",
     "text": [
      "epoch: 3, [batch: 625 / 2082], examples_per_second: 3251.2482, train_label_loss: 0.5919, \n"
     ]
    },
    {
     "name": "stdout",
     "output_type": "stream",
     "text": [
      "epoch: 3, [batch: 833 / 2082], examples_per_second: 3249.9866, train_label_loss: 0.5116, \n"
     ]
    },
    {
     "name": "stdout",
     "output_type": "stream",
     "text": [
      "epoch: 3, [batch: 1041 / 2082], examples_per_second: 3233.5535, train_label_loss: 0.0308, \n"
     ]
    },
    {
     "name": "stdout",
     "output_type": "stream",
     "text": [
      "epoch: 3, [batch: 1249 / 2082], examples_per_second: 3254.6459, train_label_loss: 0.0403, \n"
     ]
    },
    {
     "name": "stdout",
     "output_type": "stream",
     "text": [
      "epoch: 3, [batch: 1457 / 2082], examples_per_second: 3211.0538, train_label_loss: 0.1297, \n"
     ]
    },
    {
     "name": "stdout",
     "output_type": "stream",
     "text": [
      "epoch: 3, [batch: 1665 / 2082], examples_per_second: 3248.6696, train_label_loss: 0.1674, \n"
     ]
    },
    {
     "name": "stdout",
     "output_type": "stream",
     "text": [
      "epoch: 3, [batch: 1873 / 2082], examples_per_second: 3274.9029, train_label_loss: 0.3859, \n"
     ]
    },
    {
     "name": "stdout",
     "output_type": "stream",
     "text": [
      "=============================================================\n",
      "epoch: 3, source_val_acc_label: 0.9356, target_val_acc_label: 0.2430, source_val_label_loss: 0.2848, target_val_label_loss: 2.2361, \n",
      "=============================================================\n"
     ]
    },
    {
     "name": "stdout",
     "output_type": "stream",
     "text": [
      "New best\n"
     ]
    },
    {
     "name": "stdout",
     "output_type": "stream",
     "text": [
      "epoch: 4, [batch: 1 / 2080], examples_per_second: 10.4755, train_label_loss: 0.4804, \n"
     ]
    },
    {
     "name": "stdout",
     "output_type": "stream",
     "text": [
      "epoch: 4, [batch: 208 / 2080], examples_per_second: 3206.3724, train_label_loss: 0.1870, \n"
     ]
    },
    {
     "name": "stdout",
     "output_type": "stream",
     "text": [
      "epoch: 4, [batch: 416 / 2080], examples_per_second: 3231.0341, train_label_loss: 0.3290, \n"
     ]
    },
    {
     "name": "stdout",
     "output_type": "stream",
     "text": [
      "epoch: 4, [batch: 624 / 2080], examples_per_second: 3231.4554, train_label_loss: 0.0357, \n"
     ]
    },
    {
     "name": "stdout",
     "output_type": "stream",
     "text": [
      "epoch: 4, [batch: 832 / 2080], examples_per_second: 3232.4234, train_label_loss: 0.1736, \n"
     ]
    },
    {
     "name": "stdout",
     "output_type": "stream",
     "text": [
      "epoch: 4, [batch: 1040 / 2080], examples_per_second: 3226.9502, train_label_loss: 0.0252, \n"
     ]
    },
    {
     "name": "stdout",
     "output_type": "stream",
     "text": [
      "epoch: 4, [batch: 1248 / 2080], examples_per_second: 3238.2266, train_label_loss: 0.0111, \n"
     ]
    },
    {
     "name": "stdout",
     "output_type": "stream",
     "text": [
      "epoch: 4, [batch: 1456 / 2080], examples_per_second: 3221.0103, train_label_loss: 0.1471, \n"
     ]
    },
    {
     "name": "stdout",
     "output_type": "stream",
     "text": [
      "epoch: 4, [batch: 1664 / 2080], examples_per_second: 3231.1509, train_label_loss: 0.1857, \n"
     ]
    },
    {
     "name": "stdout",
     "output_type": "stream",
     "text": [
      "epoch: 4, [batch: 1872 / 2080], examples_per_second: 3237.5323, train_label_loss: 0.4124, \n"
     ]
    },
    {
     "name": "stdout",
     "output_type": "stream",
     "text": [
      "=============================================================\n",
      "epoch: 4, source_val_acc_label: 0.9476, target_val_acc_label: 0.2552, source_val_label_loss: 0.2333, target_val_label_loss: 2.2171, \n",
      "=============================================================\n"
     ]
    },
    {
     "name": "stdout",
     "output_type": "stream",
     "text": [
      "New best\n"
     ]
    },
    {
     "name": "stdout",
     "output_type": "stream",
     "text": [
      "epoch: 5, [batch: 1 / 2079], examples_per_second: 10.4417, train_label_loss: 0.0489, \n"
     ]
    },
    {
     "name": "stdout",
     "output_type": "stream",
     "text": [
      "epoch: 5, [batch: 208 / 2079], examples_per_second: 3202.5498, train_label_loss: 0.1741, \n"
     ]
    },
    {
     "name": "stdout",
     "output_type": "stream",
     "text": [
      "epoch: 5, [batch: 416 / 2079], examples_per_second: 3240.3294, train_label_loss: 0.2821, \n"
     ]
    },
    {
     "name": "stdout",
     "output_type": "stream",
     "text": [
      "epoch: 5, [batch: 624 / 2079], examples_per_second: 3239.1208, train_label_loss: 0.2819, \n"
     ]
    },
    {
     "name": "stdout",
     "output_type": "stream",
     "text": [
      "epoch: 5, [batch: 832 / 2079], examples_per_second: 3242.9570, train_label_loss: 0.0071, \n"
     ]
    },
    {
     "name": "stdout",
     "output_type": "stream",
     "text": [
      "epoch: 5, [batch: 1040 / 2079], examples_per_second: 3231.3409, train_label_loss: 0.7940, \n"
     ]
    },
    {
     "name": "stdout",
     "output_type": "stream",
     "text": [
      "epoch: 5, [batch: 1247 / 2079], examples_per_second: 3252.2119, train_label_loss: 0.6122, \n"
     ]
    },
    {
     "name": "stdout",
     "output_type": "stream",
     "text": [
      "epoch: 5, [batch: 1455 / 2079], examples_per_second: 3214.1972, train_label_loss: 0.4172, \n"
     ]
    },
    {
     "name": "stdout",
     "output_type": "stream",
     "text": [
      "epoch: 5, [batch: 1663 / 2079], examples_per_second: 3252.0625, train_label_loss: 0.2389, \n"
     ]
    },
    {
     "name": "stdout",
     "output_type": "stream",
     "text": [
      "epoch: 5, [batch: 1871 / 2079], examples_per_second: 3241.8636, train_label_loss: 0.2203, \n"
     ]
    },
    {
     "name": "stdout",
     "output_type": "stream",
     "text": [
      "=============================================================\n",
      "epoch: 5, source_val_acc_label: 0.9510, target_val_acc_label: 0.2479, source_val_label_loss: 0.2196, target_val_label_loss: 2.2356, \n",
      "=============================================================\n"
     ]
    },
    {
     "name": "stdout",
     "output_type": "stream",
     "text": [
      "epoch: 6, [batch: 1 / 2081], examples_per_second: 10.5536, train_label_loss: 0.4181, \n"
     ]
    },
    {
     "name": "stdout",
     "output_type": "stream",
     "text": [
      "epoch: 6, [batch: 209 / 2081], examples_per_second: 3221.1139, train_label_loss: 0.0174, \n"
     ]
    },
    {
     "name": "stdout",
     "output_type": "stream",
     "text": [
      "epoch: 6, [batch: 417 / 2081], examples_per_second: 3231.0830, train_label_loss: 0.1703, \n"
     ]
    },
    {
     "name": "stdout",
     "output_type": "stream",
     "text": [
      "epoch: 6, [batch: 625 / 2081], examples_per_second: 3233.0539, train_label_loss: 0.0209, \n"
     ]
    },
    {
     "name": "stdout",
     "output_type": "stream",
     "text": [
      "epoch: 6, [batch: 833 / 2081], examples_per_second: 3234.3306, train_label_loss: 0.0163, \n"
     ]
    },
    {
     "name": "stdout",
     "output_type": "stream",
     "text": [
      "epoch: 6, [batch: 1041 / 2081], examples_per_second: 3228.2937, train_label_loss: 0.1873, \n"
     ]
    },
    {
     "name": "stdout",
     "output_type": "stream",
     "text": [
      "epoch: 6, [batch: 1249 / 2081], examples_per_second: 3229.4998, train_label_loss: 0.2830, \n"
     ]
    },
    {
     "name": "stdout",
     "output_type": "stream",
     "text": [
      "epoch: 6, [batch: 1457 / 2081], examples_per_second: 3237.7493, train_label_loss: 0.0015, \n"
     ]
    },
    {
     "name": "stdout",
     "output_type": "stream",
     "text": [
      "epoch: 6, [batch: 1665 / 2081], examples_per_second: 3204.3020, train_label_loss: 0.1326, \n"
     ]
    },
    {
     "name": "stdout",
     "output_type": "stream",
     "text": [
      "epoch: 6, [batch: 1873 / 2081], examples_per_second: 3235.0604, train_label_loss: 0.0440, \n"
     ]
    },
    {
     "name": "stdout",
     "output_type": "stream",
     "text": [
      "=============================================================\n",
      "epoch: 6, source_val_acc_label: 0.9582, target_val_acc_label: 0.2301, source_val_label_loss: 0.1862, target_val_label_loss: 2.2667, \n",
      "=============================================================\n"
     ]
    },
    {
     "name": "stdout",
     "output_type": "stream",
     "text": [
      "epoch: 7, [batch: 1 / 2075], examples_per_second: 10.6223, train_label_loss: 0.0405, \n"
     ]
    },
    {
     "name": "stdout",
     "output_type": "stream",
     "text": [
      "epoch: 7, [batch: 208 / 2075], examples_per_second: 3204.5121, train_label_loss: 0.0303, \n"
     ]
    },
    {
     "name": "stdout",
     "output_type": "stream",
     "text": [
      "epoch: 7, [batch: 415 / 2075], examples_per_second: 3226.2733, train_label_loss: 0.0019, \n"
     ]
    },
    {
     "name": "stdout",
     "output_type": "stream",
     "text": [
      "epoch: 7, [batch: 623 / 2075], examples_per_second: 3199.5653, train_label_loss: 0.5552, \n"
     ]
    },
    {
     "name": "stdout",
     "output_type": "stream",
     "text": [
      "epoch: 7, [batch: 830 / 2075], examples_per_second: 3229.6879, train_label_loss: 0.0869, \n"
     ]
    },
    {
     "name": "stdout",
     "output_type": "stream",
     "text": [
      "epoch: 7, [batch: 1038 / 2075], examples_per_second: 3203.8458, train_label_loss: 0.0078, \n"
     ]
    },
    {
     "name": "stdout",
     "output_type": "stream",
     "text": [
      "epoch: 7, [batch: 1245 / 2075], examples_per_second: 3226.9099, train_label_loss: 0.0018, \n"
     ]
    },
    {
     "name": "stdout",
     "output_type": "stream",
     "text": [
      "epoch: 7, [batch: 1452 / 2075], examples_per_second: 3204.6973, train_label_loss: 0.0648, \n"
     ]
    },
    {
     "name": "stdout",
     "output_type": "stream",
     "text": [
      "epoch: 7, [batch: 1660 / 2075], examples_per_second: 3205.6526, train_label_loss: 0.3778, \n"
     ]
    },
    {
     "name": "stdout",
     "output_type": "stream",
     "text": [
      "epoch: 7, [batch: 1867 / 2075], examples_per_second: 3225.1245, train_label_loss: 0.1284, \n"
     ]
    },
    {
     "name": "stdout",
     "output_type": "stream",
     "text": [
      "=============================================================\n",
      "epoch: 7, source_val_acc_label: 0.9494, target_val_acc_label: 0.2172, source_val_label_loss: 0.2166, target_val_label_loss: 2.3267, \n",
      "=============================================================\n"
     ]
    },
    {
     "name": "stdout",
     "output_type": "stream",
     "text": [
      "epoch: 8, [batch: 1 / 2082], examples_per_second: 10.5325, train_label_loss: 0.1236, \n"
     ]
    },
    {
     "name": "stdout",
     "output_type": "stream",
     "text": [
      "epoch: 8, [batch: 209 / 2082], examples_per_second: 3207.6780, train_label_loss: 0.0987, \n"
     ]
    },
    {
     "name": "stdout",
     "output_type": "stream",
     "text": [
      "epoch: 8, [batch: 417 / 2082], examples_per_second: 3221.8501, train_label_loss: 0.2030, \n"
     ]
    },
    {
     "name": "stdout",
     "output_type": "stream",
     "text": [
      "epoch: 8, [batch: 625 / 2082], examples_per_second: 3226.1169, train_label_loss: 0.3472, \n"
     ]
    },
    {
     "name": "stdout",
     "output_type": "stream",
     "text": [
      "epoch: 8, [batch: 833 / 2082], examples_per_second: 3239.6166, train_label_loss: 0.0047, \n"
     ]
    },
    {
     "name": "stdout",
     "output_type": "stream",
     "text": [
      "epoch: 8, [batch: 1041 / 2082], examples_per_second: 3216.6251, train_label_loss: 0.0114, \n"
     ]
    },
    {
     "name": "stdout",
     "output_type": "stream",
     "text": [
      "epoch: 8, [batch: 1249 / 2082], examples_per_second: 3232.6063, train_label_loss: 0.0184, \n"
     ]
    },
    {
     "name": "stdout",
     "output_type": "stream",
     "text": [
      "epoch: 8, [batch: 1457 / 2082], examples_per_second: 3226.0073, train_label_loss: 0.0024, \n"
     ]
    },
    {
     "name": "stdout",
     "output_type": "stream",
     "text": [
      "epoch: 8, [batch: 1665 / 2082], examples_per_second: 3211.6543, train_label_loss: 0.1079, \n"
     ]
    },
    {
     "name": "stdout",
     "output_type": "stream",
     "text": [
      "epoch: 8, [batch: 1873 / 2082], examples_per_second: 3238.7860, train_label_loss: 0.3603, \n"
     ]
    },
    {
     "name": "stdout",
     "output_type": "stream",
     "text": [
      "=============================================================\n",
      "epoch: 8, source_val_acc_label: 0.9634, target_val_acc_label: 0.2354, source_val_label_loss: 0.1681, target_val_label_loss: 2.2551, \n",
      "=============================================================\n"
     ]
    },
    {
     "name": "stdout",
     "output_type": "stream",
     "text": [
      "Patience (3) exhausted\n"
     ]
    }
   ],
   "source": [
    "###################################\n",
    "# train\n",
    "###################################\n",
    "jig = PTN_Train_Eval_Test_Jig(model, p.BEST_MODEL_PATH, p.device)\n",
    "\n",
    "jig.train(\n",
    "    train_iterable=datasets.source.processed.train,\n",
    "    source_val_iterable=datasets.source.processed.val,\n",
    "    target_val_iterable=datasets.target.processed.val,\n",
    "    num_epochs=p.n_epoch,\n",
    "    num_logs_per_epoch=p.NUM_LOGS_PER_EPOCH,\n",
    "    patience=p.patience,\n",
    "    optimizer=optimizer,\n",
    "    criteria_for_best=p.criteria_for_best,\n",
    ")"
   ]
  },
  {
   "cell_type": "code",
   "execution_count": 23,
   "id": "31e8fabf",
   "metadata": {
    "execution": {
     "iopub.execute_input": "2022-03-18T09:19:02.668919Z",
     "iopub.status.busy": "2022-03-18T09:19:02.668667Z",
     "iopub.status.idle": "2022-03-18T09:19:02.686923Z",
     "shell.execute_reply": "2022-03-18T09:19:02.687294Z"
    },
    "papermill": {
     "duration": 0.052483,
     "end_time": "2022-03-18T09:19:02.687401",
     "exception": false,
     "start_time": "2022-03-18T09:19:02.634918",
     "status": "completed"
    },
    "tags": []
   },
   "outputs": [],
   "source": [
    "total_experiment_time_secs = time.time() - start_time_secs"
   ]
  },
  {
   "cell_type": "code",
   "execution_count": 24,
   "id": "87b9595b",
   "metadata": {
    "execution": {
     "iopub.execute_input": "2022-03-18T09:19:02.761523Z",
     "iopub.status.busy": "2022-03-18T09:19:02.761251Z",
     "iopub.status.idle": "2022-03-18T09:20:06.973735Z",
     "shell.execute_reply": "2022-03-18T09:20:06.973968Z"
    },
    "papermill": {
     "duration": 64.249184,
     "end_time": "2022-03-18T09:20:06.974057",
     "exception": false,
     "start_time": "2022-03-18T09:19:02.724873",
     "status": "completed"
    },
    "tags": []
   },
   "outputs": [],
   "source": [
    "###################################\n",
    "# Evaluate the model\n",
    "###################################\n",
    "source_test_label_accuracy, source_test_label_loss = jig.test(datasets.source.processed.test)\n",
    "target_test_label_accuracy, target_test_label_loss = jig.test(datasets.target.processed.test)\n",
    "\n",
    "source_val_label_accuracy, source_val_label_loss = jig.test(datasets.source.processed.val)\n",
    "target_val_label_accuracy, target_val_label_loss = jig.test(datasets.target.processed.val)\n",
    "\n",
    "history = jig.get_history()\n",
    "\n",
    "total_epochs_trained = len(history[\"epoch_indices\"])\n",
    "\n",
    "val_dl = Iterable_Aggregator((datasets.source.original.val,datasets.target.original.val))\n",
    "\n",
    "confusion = ptn_confusion_by_domain_over_dataloader(model, p.device, val_dl)\n",
    "per_domain_accuracy = per_domain_accuracy_from_confusion(confusion)\n",
    "\n",
    "# Add a key to per_domain_accuracy for if it was a source domain\n",
    "for domain, accuracy in per_domain_accuracy.items():\n",
    "    per_domain_accuracy[domain] = {\n",
    "        \"accuracy\": accuracy,\n",
    "        \"source?\": domain in p.domains_source\n",
    "    }\n",
    "\n",
    "# Do an independent accuracy assesment JUST TO BE SURE!\n",
    "# _source_test_label_accuracy = independent_accuracy_assesment(model, datasets.source.processed.test, p.device)\n",
    "# _target_test_label_accuracy = independent_accuracy_assesment(model, datasets.target.processed.test, p.device)\n",
    "# _source_val_label_accuracy = independent_accuracy_assesment(model, datasets.source.processed.val, p.device)\n",
    "# _target_val_label_accuracy = independent_accuracy_assesment(model, datasets.target.processed.val, p.device)\n",
    "\n",
    "# assert(_source_test_label_accuracy == source_test_label_accuracy)\n",
    "# assert(_target_test_label_accuracy == target_test_label_accuracy)\n",
    "# assert(_source_val_label_accuracy == source_val_label_accuracy)\n",
    "# assert(_target_val_label_accuracy == target_val_label_accuracy)\n",
    "\n",
    "experiment = {\n",
    "    \"experiment_name\": p.experiment_name,\n",
    "    \"parameters\": dict(p),\n",
    "    \"results\": {\n",
    "        \"source_test_label_accuracy\": source_test_label_accuracy,\n",
    "        \"source_test_label_loss\": source_test_label_loss,\n",
    "        \"target_test_label_accuracy\": target_test_label_accuracy,\n",
    "        \"target_test_label_loss\": target_test_label_loss,\n",
    "        \"source_val_label_accuracy\": source_val_label_accuracy,\n",
    "        \"source_val_label_loss\": source_val_label_loss,\n",
    "        \"target_val_label_accuracy\": target_val_label_accuracy,\n",
    "        \"target_val_label_loss\": target_val_label_loss,\n",
    "        \"total_epochs_trained\": total_epochs_trained,\n",
    "        \"total_experiment_time_secs\": total_experiment_time_secs,\n",
    "        \"confusion\": confusion,\n",
    "        \"per_domain_accuracy\": per_domain_accuracy,\n",
    "    },\n",
    "    \"history\": history,\n",
    "    \"dataset_metrics\": get_dataset_metrics(datasets, \"ptn\"),\n",
    "}"
   ]
  },
  {
   "cell_type": "code",
   "execution_count": 25,
   "id": "54a21829",
   "metadata": {
    "execution": {
     "iopub.execute_input": "2022-03-18T09:20:07.049930Z",
     "iopub.status.busy": "2022-03-18T09:20:07.049673Z",
     "iopub.status.idle": "2022-03-18T09:20:07.177773Z",
     "shell.execute_reply": "2022-03-18T09:20:07.178153Z"
    },
    "papermill": {
     "duration": 0.17004,
     "end_time": "2022-03-18T09:20:07.178260",
     "exception": false,
     "start_time": "2022-03-18T09:20:07.008220",
     "status": "completed"
    },
    "tags": []
   },
   "outputs": [
    {
     "data": {
      "image/png": "[encoded data removed]",
      "text/plain": [
       "<Figure size 1080x504 with 1 Axes>"
      ]
     },
     "metadata": {
      "needs_background": "light"
     },
     "output_type": "display_data"
    }
   ],
   "source": [
    "ax = get_loss_curve(experiment)\n",
    "plt.show()"
   ]
  },
  {
   "cell_type": "code",
   "execution_count": 26,
   "id": "fd8a0f60",
   "metadata": {
    "execution": {
     "iopub.execute_input": "2022-03-18T09:20:07.251139Z",
     "iopub.status.busy": "2022-03-18T09:20:07.250887Z",
     "iopub.status.idle": "2022-03-18T09:20:07.393042Z",
     "shell.execute_reply": "2022-03-18T09:20:07.393325Z"
    },
    "papermill": {
     "duration": 0.176672,
     "end_time": "2022-03-18T09:20:07.393402",
     "exception": false,
     "start_time": "2022-03-18T09:20:07.216730",
     "status": "completed"
    },
    "tags": []
   },
   "outputs": [
    {
     "data": {
      "text/plain": [
       "<AxesSubplot:title={'center':'Results'}>"
      ]
     },
     "execution_count": 26,
     "metadata": {},
     "output_type": "execute_result"
    },
    {
     "data": {
      "image/png": "[encoded data removed]",
      "text/plain": [
       "<Figure size 1080x504 with 1 Axes>"
      ]
     },
     "metadata": {
      "needs_background": "light"
     },
     "output_type": "display_data"
    }
   ],
   "source": [
    "get_results_table(experiment)"
   ]
  },
  {
   "cell_type": "code",
   "execution_count": 27,
   "id": "cf8dc689",
   "metadata": {
    "execution": {
     "iopub.execute_input": "2022-03-18T09:20:07.474161Z",
     "iopub.status.busy": "2022-03-18T09:20:07.473901Z",
     "iopub.status.idle": "2022-03-18T09:20:07.635022Z",
     "shell.execute_reply": "2022-03-18T09:20:07.634598Z"
    },
    "papermill": {
     "duration": 0.19746,
     "end_time": "2022-03-18T09:20:07.635117",
     "exception": false,
     "start_time": "2022-03-18T09:20:07.437657",
     "status": "completed"
    },
    "tags": []
   },
   "outputs": [
    {
     "data": {
      "text/plain": [
       "<AxesSubplot:title={'center':'Per Domain Validation Accuracy'}, xlabel='domain'>"
      ]
     },
     "execution_count": 27,
     "metadata": {},
     "output_type": "execute_result"
    },
    {
     "data": {
      "image/png": "[encoded data removed]",
      "text/plain": [
       "<Figure size 1080x504 with 1 Axes>"
      ]
     },
     "metadata": {
      "needs_background": "light"
     },
     "output_type": "display_data"
    }
   ],
   "source": [
    "get_domain_accuracies(experiment)"
   ]
  },
  {
   "cell_type": "code",
   "execution_count": 28,
   "id": "a74ae082",
   "metadata": {
    "execution": {
     "iopub.execute_input": "2022-03-18T09:20:07.710832Z",
     "iopub.status.busy": "2022-03-18T09:20:07.710572Z",
     "iopub.status.idle": "2022-03-18T09:20:07.726646Z",
     "shell.execute_reply": "2022-03-18T09:20:07.727010Z"
    },
    "papermill": {
     "duration": 0.053494,
     "end_time": "2022-03-18T09:20:07.727120",
     "exception": false,
     "start_time": "2022-03-18T09:20:07.673626",
     "status": "completed"
    },
    "tags": []
   },
   "outputs": [
    {
     "name": "stdout",
     "output_type": "stream",
     "text": [
      "Source Test Label Accuracy: 0.9443493150684932 Target Test Label Accuracy: 0.26100260416666665\n",
      "Source Val Label Accuracy: 0.9475599315068494 Target Val Label Accuracy: 0.25517578125\n"
     ]
    }
   ],
   "source": [
    "print(\"Source Test Label Accuracy:\", experiment[\"results\"][\"source_test_label_accuracy\"], \"Target Test Label Accuracy:\", experiment[\"results\"][\"target_test_label_accuracy\"])\n",
    "print(\"Source Val Label Accuracy:\", experiment[\"results\"][\"source_val_label_accuracy\"], \"Target Val Label Accuracy:\", experiment[\"results\"][\"target_val_label_accuracy\"])"
   ]
  },
  {
   "cell_type": "code",
   "execution_count": 29,
   "id": "dacca602",
   "metadata": {
    "execution": {
     "iopub.execute_input": "2022-03-18T09:20:07.802446Z",
     "iopub.status.busy": "2022-03-18T09:20:07.802198Z",
     "iopub.status.idle": "2022-03-18T09:20:07.814833Z",
     "shell.execute_reply": "2022-03-18T09:20:07.815206Z"
    },
    "papermill": {
     "duration": 0.049976,
     "end_time": "2022-03-18T09:20:07.815322",
     "exception": false,
     "start_time": "2022-03-18T09:20:07.765346",
     "status": "completed"
    },
    "tags": [
     "experiment_json"
    ]
   },
   "outputs": [
    {
     "data": {
      "text/plain": [
       "'{\"experiment_name\": \"tl_3-jitter5:cores+wisig -> oracle.run1.framed\", \"parameters\": {\"experiment_name\": \"tl_3-jitter5:cores+wisig -> oracle.run1.framed\", \"device\": \"cuda\", \"lr\": 0.001, \"seed\": 1337, \"dataset_seed\": 1337, \"n_shot\": 3, \"n_query\": 2, \"train_k_factor\": 3, \"val_k_factor\": 2, \"test_k_factor\": 2, \"torch_default_dtype\": \"torch.float32\", \"n_epoch\": 50, \"patience\": 3, \"criteria_for_best\": \"target_loss\", \"x_net\": [{\"class\": \"nnReshape\", \"kargs\": {\"shape\": [-1, 1, 2, 256]}}, {\"class\": \"Conv2d\", \"kargs\": {\"in_channels\": 1, \"out_channels\": 256, \"kernel_size\": [1, 7], \"bias\": false, \"padding\": [0, 3]}}, {\"class\": \"ReLU\", \"kargs\": {\"inplace\": true}}, {\"class\": \"BatchNorm2d\", \"kargs\": {\"num_features\": 256}}, {\"class\": \"Conv2d\", \"kargs\": {\"in_channels\": 256, \"out_channels\": 80, \"kernel_size\": [2, 7], \"bias\": true, \"padding\": [0, 3]}}, {\"class\": \"ReLU\", \"kargs\": {\"inplace\": true}}, {\"class\": \"BatchNorm2d\", \"kargs\": {\"num_features\": 80}}, {\"class\": \"Flatten\", \"kargs\": {}}, {\"class\": \"Linear\", \"kargs\": {\"in_features\": 20480, \"out_features\": 256}}, {\"class\": \"ReLU\", \"kargs\": {\"inplace\": true}}, {\"class\": \"BatchNorm1d\", \"kargs\": {\"num_features\": 256}}, {\"class\": \"Linear\", \"kargs\": {\"in_features\": 256, \"out_features\": 256}}], \"NUM_LOGS_PER_EPOCH\": 10, \"BEST_MODEL_PATH\": \"./best_model.pth\", \"n_way\": 16, \"datasets\": [{\"labels\": [\"1-10.\", \"1-11.\", \"1-15.\", \"1-16.\", \"1-17.\", \"1-18.\", \"1-19.\", \"10-4.\", \"10-7.\", \"11-1.\", \"11-14.\", \"11-17.\", \"11-20.\", \"11-7.\", \"13-20.\", \"13-8.\", \"14-10.\", \"14-11.\", \"14-14.\", \"14-7.\", \"15-1.\", \"15-20.\", \"16-1.\", \"16-16.\", \"17-10.\", \"17-11.\", \"17-2.\", \"19-1.\", \"19-16.\", \"19-19.\", \"19-20.\", \"19-3.\", \"2-10.\", \"2-11.\", \"2-17.\", \"2-18.\", \"2-20.\", \"2-3.\", \"2-4.\", \"2-5.\", \"2-6.\", \"2-7.\", \"2-8.\", \"3-13.\", \"3-18.\", \"3-3.\", \"4-1.\", \"4-10.\", \"4-11.\", \"4-19.\", \"5-5.\", \"6-15.\", \"7-10.\", \"7-14.\", \"8-18.\", \"8-20.\", \"8-3.\", \"8-8.\"], \"domains\": [1, 2, 3, 4, 5], \"num_examples_per_domain_per_label\": 100, \"pickle_path\": \"/mnt/wd500GB/CSC500/csc500-main/datasets/cores.stratified_ds.2022A.pkl\", \"source_or_target_dataset\": \"source\", \"x_transforms\": [\"unit_power\", \"jitter_256_5\", \"take_200\"], \"episode_transforms\": [], \"domain_prefix\": \"C_A_\"}, {\"labels\": [\"1-10\", \"1-12\", \"1-14\", \"1-16\", \"1-18\", \"1-19\", \"1-8\", \"10-11\", \"10-17\", \"10-4\", \"10-7\", \"11-1\", \"11-10\", \"11-19\", \"11-20\", \"11-4\", \"11-7\", \"12-19\", \"12-20\", \"12-7\", \"13-14\", \"13-18\", \"13-19\", \"13-20\", \"13-3\", \"13-7\", \"14-10\", \"14-11\", \"14-12\", \"14-13\", \"14-14\", \"14-19\", \"14-20\", \"14-7\", \"14-8\", \"14-9\", \"15-1\", \"15-19\", \"15-6\", \"16-1\", \"16-16\", \"16-19\", \"16-20\", \"17-10\", \"17-11\", \"18-1\", \"18-10\", \"18-11\", \"18-12\", \"18-13\", \"18-14\", \"18-15\", \"18-16\", \"18-17\", \"18-19\", \"18-2\", \"18-20\", \"18-4\", \"18-5\", \"18-7\", \"18-8\", \"18-9\", \"19-1\", \"19-10\", \"19-11\", \"19-12\", \"19-13\", \"19-14\", \"19-15\", \"19-19\", \"19-2\", \"19-20\", \"19-3\", \"19-4\", \"19-6\", \"19-7\", \"19-8\", \"19-9\", \"2-1\", \"2-13\", \"2-15\", \"2-3\", \"2-4\", \"2-5\", \"2-6\", \"2-7\", \"2-8\", \"20-1\", \"20-12\", \"20-14\", \"20-15\", \"20-16\", \"20-18\", \"20-19\", \"20-20\", \"20-3\", \"20-4\", \"20-5\", \"20-7\", \"20-8\", \"3-1\", \"3-13\", \"3-18\", \"3-2\", \"3-8\", \"4-1\", \"4-10\", \"4-11\", \"5-1\", \"5-5\", \"6-1\", \"6-15\", \"6-6\", \"7-10\", \"7-11\", \"7-12\", \"7-13\", \"7-14\", \"7-7\", \"7-8\", \"7-9\", \"8-1\", \"8-13\", \"8-14\", \"8-18\", \"8-20\", \"8-3\", \"8-8\", \"9-1\", \"9-7\"], \"domains\": [1, 2, 3, 4], \"num_examples_per_domain_per_label\": 100, \"pickle_path\": \"/mnt/wd500GB/CSC500/csc500-main/datasets/wisig.node3-19.stratified_ds.2022A.pkl\", \"source_or_target_dataset\": \"source\", \"x_transforms\": [\"unit_power\", \"jitter_256_5\", \"take_200\"], \"episode_transforms\": [], \"domain_prefix\": \"W_A_\"}, {\"labels\": [\"3123D52\", \"3123D65\", \"3123D79\", \"3123D80\", \"3123D54\", \"3123D70\", \"3123D7B\", \"3123D89\", \"3123D58\", \"3123D76\", \"3123D7D\", \"3123EFE\", \"3123D64\", \"3123D78\", \"3123D7E\", \"3124E4A\"], \"domains\": [32, 38, 8, 44, 14, 50, 20, 26], \"num_examples_per_domain_per_label\": 2000, \"pickle_path\": \"/mnt/wd500GB/CSC500/csc500-main/datasets/oracle.Run1_framed_2000Examples_stratified_ds.2022A.pkl\", \"source_or_target_dataset\": \"target\", \"x_transforms\": [\"unit_power\", \"jitter_256_5\", \"take_200\", \"resample_20Msps_to_25Msps\"], \"episode_transforms\": [], \"domain_prefix\": \"ORACLE.run1_\"}], \"x_shape\": [2, 256], \"domains_source\": [\"C_A_1\", \"C_A_2\", \"C_A_3\", \"C_A_4\", \"C_A_5\", \"W_A_1\", \"W_A_2\", \"W_A_3\", \"W_A_4\"], \"domains_target\": [\"ORACLE.run1_32\", \"ORACLE.run1_38\", \"ORACLE.run1_8\", \"ORACLE.run1_44\", \"ORACLE.run1_14\", \"ORACLE.run1_50\", \"ORACLE.run1_20\", \"ORACLE.run1_26\"]}, \"results\": {\"source_test_label_accuracy\": 0.9443493150684932, \"source_test_label_loss\": 0.24856708943843842, \"target_test_label_accuracy\": 0.26100260416666665, \"target_test_label_loss\": 2.213519334793091, \"source_val_label_accuracy\": 0.9475599315068494, \"source_val_label_loss\": 0.23328067362308502, \"target_val_label_accuracy\": 0.25517578125, \"target_val_label_loss\": 2.2170708179473877, \"total_epochs_trained\": 8, \"total_experiment_time_secs\": 556.3846809864044, \"confusion\": {\"W_A_3\": {\"109\": {\"109\": 12}, \"127\": {\"127\": 12}, \"14\": {\"14\": 12}, \"7\": {\"7\": 12}, \"129\": {\"129\": 12}, \"57\": {\"57\": 12}, \"84\": {\"84\": 12}, \"114\": {\"114\": 12}, \"44\": {\"44\": 7, \"100\": 2, \"3\": 1, \"60\": 1, \"113\": 1}, \"21\": {\"21\": 12}, \"46\": {\"46\": 12}, \"100\": {\"100\": 12}, \"63\": {\"63\": 9, \"46\": 1, \"70\": 1, \"97\": 1}, \"24\": {\"24\": 9, \"21\": 1, \"94\": 1, \"43\": 1}, \"107\": {\"107\": 12}, \"35\": {\"109\": 1, \"35\": 8, \"13\": 1}, \"81\": {\"81\": 12}, \"64\": {\"64\": 12}, \"59\": {\"36\": 1, \"59\": 11}, \"33\": {\"33\": 12}, \"34\": {\"34\": 11, \"75\": 1}, \"36\": {\"36\": 12}, \"79\": {\"79\": 12}, \"80\": {\"80\": 11, \"110\": 1}, \"77\": {\"77\": 12}, \"22\": {\"22\": 12}, \"124\": {\"124\": 12}, \"2\": {\"64\": 1, \"2\": 11}, \"87\": {\"87\": 11, \"73\": 1}, \"105\": {\"105\": 12}, \"95\": {\"95\": 12}, \"43\": {\"123\": 1, \"43\": 10, \"44\": 1}, \"56\": {\"56\": 10}, \"18\": {\"18\": 12}, \"85\": {\"85\": 12}, \"113\": {\"113\": 11, \"13\": 1}, \"97\": {\"97\": 12}, \"86\": {\"86\": 12}, \"128\": {\"128\": 7, \"86\": 1, \"122\": 1, \"30\": 1, \"87\": 1, \"29\": 1}, \"123\": {\"123\": 12}, \"8\": {\"8\": 12}, \"110\": {\"110\": 12}, \"126\": {\"126\": 10, \"39\": 2}, \"101\": {\"101\": 12}, \"115\": {\"115\": 12}, \"49\": {\"49\": 12}, \"45\": {\"45\": 12}, \"78\": {\"78\": 9, \"82\": 1, \"127\": 2}, \"65\": {\"65\": 6, \"35\": 2, \"0\": 1, \"81\": 1}, \"54\": {\"54\": 12}, \"31\": {\"31\": 10}, \"42\": {\"49\": 2, \"42\": 8, \"20\": 1, \"78\": 1}, \"68\": {\"68\": 12}, \"15\": {\"15\": 12}, \"69\": {\"69\": 12}, \"17\": {\"23\": 1, \"17\": 4, \"67\": 1, \"68\": 1, \"106\": 1, \"37\": 2}, \"73\": {\"73\": 12}, \"121\": {\"121\": 12}, \"102\": {\"102\": 12}, \"48\": {\"48\": 6, \"37\": 2, \"28\": 1, \"65\": 1, \"119\": 1, \"74\": 1}, \"23\": {\"121\": 2, \"23\": 3, \"128\": 3, \"67\": 2, \"8\": 2}, \"108\": {\"108\": 11, \"49\": 1}, \"53\": {\"53\": 12}, \"94\": {\"94\": 10}, \"41\": {\"41\": 12}, \"58\": {\"58\": 12}, \"29\": {\"29\": 12}, \"116\": {\"116\": 8, \"123\": 1, \"44\": 1, \"67\": 2}, \"60\": {\"60\": 11, \"70\": 1}, \"104\": {\"104\": 12}, \"106\": {\"106\": 12}, \"66\": {\"66\": 12}, \"47\": {\"47\": 12}, \"40\": {\"40\": 12}, \"82\": {\"82\": 11, \"86\": 1}, \"13\": {\"76\": 1, \"19\": 1, \"120\": 2, \"13\": 3, \"123\": 1, \"26\": 1, \"100\": 1, \"11\": 2}, \"19\": {\"72\": 1, \"19\": 6, \"128\": 2, \"100\": 1, \"28\": 2}, \"72\": {\"72\": 12}, \"9\": {\"9\": 12}, \"67\": {\"67\": 12}, \"11\": {\"19\": 1, \"11\": 11}, \"125\": {\"125\": 12}, \"76\": {\"76\": 8}, \"83\": {\"83\": 12}, \"74\": {\"74\": 11, \"24\": 1}, \"20\": {\"20\": 12}, \"119\": {\"119\": 12}, \"1\": {\"1\": 12}, \"16\": {\"16\": 12}, \"25\": {\"25\": 11, \"120\": 1}, \"90\": {\"90\": 8}, \"39\": {\"39\": 12}, \"28\": {\"28\": 11, \"90\": 1}, \"55\": {\"55\": 12}, \"117\": {\"117\": 12}, \"112\": {\"112\": 8, \"96\": 1, \"98\": 1, \"19\": 2}, \"38\": {\"38\": 12}, \"37\": {\"37\": 12}, \"120\": {\"120\": 12}, \"122\": {\"122\": 9, \"110\": 1, \"17\": 2}, \"50\": {\"50\": 12}, \"10\": {\"10\": 12}, \"5\": {\"5\": 12}, \"51\": {\"51\": 12}, \"3\": {\"3\": 10, \"70\": 1, \"106\": 1}, \"98\": {\"98\": 11, \"60\": 1}, \"70\": {\"70\": 10, \"3\": 1, \"110\": 1}, \"96\": {\"96\": 12}, \"12\": {\"12\": 12}, \"99\": {\"99\": 12}, \"52\": {\"52\": 12}, \"71\": {\"71\": 8, \"82\": 1, \"61\": 1, \"3\": 2}, \"89\": {\"89\": 12}, \"0\": {\"0\": 12}, \"4\": {\"4\": 10, \"15\": 1, \"73\": 1}, \"93\": {\"93\": 12}, \"6\": {\"6\": 8, \"75\": 1, \"77\": 1}, \"75\": {\"75\": 12}, \"62\": {\"62\": 12}, \"103\": {\"103\": 12}, \"30\": {\"30\": 12}, \"91\": {\"91\": 8, \"6\": 1, \"98\": 1, \"77\": 2}, \"27\": {\"27\": 12}, \"26\": {\"26\": 12}, \"61\": {\"61\": 12}, \"118\": {\"118\": 12}, \"92\": {\"92\": 12}, \"111\": {\"111\": 12}, \"32\": {\"32\": 11, \"116\": 1}, \"88\": {\"88\": 8, \"20\": 2}}, \"W_A_4\": {\"28\": {\"28\": 12}, \"4\": {\"4\": 11, \"95\": 1}, \"72\": {\"72\": 12}, \"111\": {\"111\": 11, \"12\": 1}, \"108\": {\"108\": 11, \"129\": 1}, \"43\": {\"43\": 6, \"115\": 1, \"128\": 1, \"105\": 1, \"33\": 1}, \"96\": {\"96\": 12}, \"89\": {\"89\": 12}, \"31\": {\"31\": 12}, \"45\": {\"45\": 12}, \"2\": {\"96\": 1, \"2\": 10, \"63\": 1}, \"114\": {\"114\": 12}, \"11\": {\"11\": 12}, \"12\": {\"12\": 12}, \"14\": {\"14\": 12}, \"90\": {\"90\": 12}, \"10\": {\"10\": 11, \"24\": 1}, \"63\": {\"82\": 2, \"63\": 10}, \"85\": {\"85\": 11, \"12\": 1}, \"64\": {\"64\": 12}, \"82\": {\"82\": 10, \"16\": 1, \"63\": 1}, \"58\": {\"58\": 12}, \"3\": {\"3\": 12}, \"54\": {\"54\": 12}, \"121\": {\"121\": 8, \"63\": 1, \"67\": 1, \"123\": 2}, \"42\": {\"42\": 12}, \"98\": {\"98\": 12}, \"123\": {\"123\": 12}, \"91\": {\"91\": 10, \"4\": 1, \"58\": 1}, \"66\": {\"66\": 12}, \"102\": {\"102\": 12}, \"122\": {\"122\": 11, \"110\": 1}, \"1\": {\"1\": 12}, \"15\": {\"15\": 12}, \"97\": {\"97\": 10, \"2\": 1, \"15\": 1}, \"75\": {\"75\": 12}, \"95\": {\"95\": 11, \"4\": 1}, \"57\": {\"57\": 12}, \"68\": {\"68\": 12}, \"125\": {\"125\": 12}, \"62\": {\"62\": 10}, \"27\": {\"27\": 10, \"78\": 1, \"3\": 1}, \"120\": {\"120\": 11, \"103\": 1}, \"26\": {\"26\": 11, \"35\": 1}, \"55\": {\"55\": 12}, \"71\": {\"71\": 11, \"118\": 1}, \"22\": {\"22\": 12}, \"99\": {\"99\": 10, \"128\": 1, \"51\": 1}, \"84\": {\"84\": 10, \"103\": 1, \"43\": 1}, \"37\": {\"37\": 12}, \"83\": {\"83\": 12}, \"46\": {\"46\": 12}, \"35\": {\"35\": 12}, \"13\": {\"13\": 12}, \"53\": {\"53\": 10, \"88\": 1, \"21\": 1}, \"127\": {\"127\": 12}, \"69\": {\"127\": 1, \"69\": 10, \"78\": 1}, \"48\": {\"48\": 11, \"46\": 1}, \"16\": {\"16\": 12}, \"0\": {\"0\": 12}, \"8\": {\"8\": 9, \"127\": 1, \"20\": 1, \"106\": 1}, \"9\": {\"9\": 12}, \"115\": {\"97\": 1, \"8\": 1, \"115\": 7, \"87\": 1, \"105\": 1, \"38\": 1}, \"70\": {\"70\": 8, \"78\": 2, \"100\": 1, \"53\": 1}, \"119\": {\"119\": 12}, \"59\": {\"59\": 12}, \"52\": {\"52\": 12}, \"60\": {\"119\": 2, \"60\": 7, \"19\": 2, \"110\": 1}, \"44\": {\"44\": 10, \"123\": 1, \"110\": 1}, \"51\": {\"51\": 8, \"52\": 1, \"47\": 1, \"91\": 1, \"43\": 1}, \"6\": {\"6\": 10, \"59\": 2}, \"73\": {\"73\": 12}, \"78\": {\"50\": 1, \"78\": 5, \"128\": 2, \"95\": 2, \"77\": 2}, \"92\": {\"92\": 12}, \"20\": {\"20\": 11, \"5\": 1}, \"17\": {\"17\": 12}, \"74\": {\"74\": 10, \"78\": 1, \"72\": 1}, \"19\": {\"19\": 11, \"78\": 1}, \"50\": {\"50\": 12}, \"34\": {\"34\": 10, \"115\": 1, \"59\": 1}, \"104\": {\"104\": 8}, \"33\": {\"33\": 11, \"70\": 1}, \"5\": {\"5\": 10, \"129\": 2}, \"7\": {\"7\": 10, \"128\": 1, \"116\": 1}, \"29\": {\"29\": 12}, \"25\": {\"25\": 12}, \"124\": {\"124\": 12}, \"117\": {\"117\": 10, \"52\": 1, \"111\": 1}, \"88\": {\"88\": 10, \"122\": 1, \"71\": 1}, \"61\": {\"61\": 11, \"89\": 1}, \"86\": {\"86\": 12}, \"116\": {\"116\": 12}, \"24\": {\"24\": 12}, \"128\": {\"60\": 2, \"128\": 5, \"78\": 1, \"20\": 2, \"23\": 2}, \"101\": {\"101\": 12}, \"65\": {\"65\": 9, \"31\": 1}, \"36\": {\"36\": 12}, \"21\": {\"21\": 11, \"111\": 1}, \"106\": {\"106\": 12}, \"118\": {\"118\": 10, \"110\": 1, \"57\": 1}, \"113\": {\"113\": 10, \"114\": 1, \"105\": 1}, \"40\": {\"40\": 12}, \"93\": {\"93\": 8}, \"94\": {\"94\": 8, \"36\": 4}, \"103\": {\"103\": 8, \"46\": 2, \"5\": 1, \"24\": 1}, \"110\": {\"110\": 12}, \"56\": {\"56\": 12}, \"39\": {\"39\": 11, \"18\": 1}, \"109\": {\"109\": 12}, \"67\": {\"67\": 9, \"92\": 1, \"76\": 1, \"115\": 1}, \"129\": {\"129\": 11, \"73\": 1}, \"30\": {\"30\": 12}, \"126\": {\"126\": 10, \"5\": 1, \"108\": 1}, \"87\": {\"51\": 1, \"87\": 10, \"40\": 1}, \"112\": {\"112\": 12}, \"100\": {\"100\": 12}, \"79\": {\"79\": 10}, \"81\": {\"81\": 11, \"111\": 1}, \"76\": {\"76\": 9, \"99\": 1}, \"47\": {\"47\": 11, \"30\": 1}, \"77\": {\"77\": 12}, \"23\": {\"103\": 1, \"85\": 1, \"23\": 3, \"41\": 2, \"106\": 1, \"110\": 1, \"116\": 1, \"21\": 1, \"53\": 1}, \"18\": {\"18\": 12}, \"49\": {\"49\": 11, \"108\": 1}, \"41\": {\"41\": 10, \"23\": 1, \"12\": 1}, \"32\": {\"76\": 1, \"32\": 11}, \"107\": {\"107\": 10}, \"80\": {\"80\": 9, \"18\": 1, \"100\": 2}, \"105\": {\"105\": 7, \"87\": 2, \"24\": 1}, \"38\": {\"38\": 10}}, \"C_A_3\": {\"43\": {\"43\": 12}, \"9\": {\"9\": 12}, \"6\": {\"6\": 10}, \"3\": {\"3\": 12}, \"16\": {\"16\": 12}, \"51\": {\"51\": 12}, \"31\": {\"31\": 12}, \"46\": {\"46\": 10}, \"19\": {\"19\": 8}, \"8\": {\"8\": 12}, \"18\": {\"18\": 12}, \"37\": {\"37\": 12}, \"24\": {\"24\": 12}, \"10\": {\"10\": 12}, \"44\": {\"44\": 10}, \"14\": {\"43\": 1, \"14\": 7, \"23\": 1, \"5\": 2, \"28\": 1}, \"38\": {\"38\": 10}, \"53\": {\"53\": 12}, \"20\": {\"20\": 12}, \"32\": {\"32\": 12}, \"36\": {\"36\": 10}, \"33\": {\"33\": 12}, \"56\": {\"56\": 12}, \"23\": {\"23\": 12}, \"54\": {\"54\": 10}, \"34\": {\"34\": 12}, \"13\": {\"13\": 12}, \"2\": {\"2\": 12}, \"55\": {\"55\": 10}, \"21\": {\"21\": 10}, \"49\": {\"49\": 10}, \"25\": {\"25\": 12}, \"5\": {\"5\": 12}, \"50\": {\"50\": 8}, \"40\": {\"40\": 12}, \"57\": {\"57\": 8}, \"22\": {\"22\": 10}, \"1\": {\"1\": 10}, \"17\": {\"17\": 12}, \"41\": {\"41\": 12}, \"4\": {\"4\": 10}, \"7\": {\"7\": 10}, \"26\": {\"26\": 10}, \"29\": {\"29\": 12}, \"52\": {\"52\": 12}, \"15\": {\"15\": 12}, \"35\": {\"35\": 12}, \"42\": {\"42\": 11, \"47\": 1}, \"30\": {\"30\": 10}, \"27\": {\"27\": 8}, \"45\": {\"45\": 10}, \"0\": {\"0\": 12}, \"28\": {\"28\": 12}, \"47\": {\"47\": 11, \"42\": 1}, \"11\": {\"11\": 10}, \"39\": {\"39\": 10}, \"48\": {\"48\": 12}, \"12\": {\"12\": 8}}, \"C_A_4\": {\"35\": {\"35\": 10}, \"25\": {\"25\": 12}, \"24\": {\"24\": 10}, \"48\": {\"48\": 12}, \"51\": {\"51\": 12}, \"13\": {\"13\": 12}, \"14\": {\"14\": 8}, \"32\": {\"32\": 12}, \"30\": {\"30\": 11, \"18\": 1}, \"34\": {\"34\": 10}, \"9\": {\"9\": 12}, \"1\": {\"1\": 12}, \"0\": {\"0\": 12}, \"38\": {\"38\": 12}, \"22\": {\"22\": 8}, \"40\": {\"40\": 12}, \"39\": {\"39\": 12}, \"46\": {\"46\": 10, \"11\": 1, \"31\": 1}, \"36\": {\"36\": 12}, \"50\": {\"50\": 12}, \"49\": {\"49\": 12}, \"17\": {\"17\": 12}, \"45\": {\"17\": 1, \"45\": 11}, \"6\": {\"6\": 12}, \"8\": {\"8\": 12}, \"5\": {\"5\": 10}, \"33\": {\"33\": 12}, \"31\": {\"31\": 12}, \"37\": {\"37\": 10}, \"47\": {\"47\": 8}, \"15\": {\"15\": 10}, \"7\": {\"7\": 12}, \"20\": {\"20\": 12}, \"4\": {\"4\": 12}, \"54\": {\"54\": 12}, \"44\": {\"44\": 12}, \"3\": {\"3\": 12}, \"11\": {\"11\": 10}, \"27\": {\"27\": 10}, \"19\": {\"19\": 12}, \"55\": {\"55\": 12}, \"16\": {\"16\": 12}, \"2\": {\"2\": 10}, \"52\": {\"52\": 10}, \"42\": {\"42\": 10}, \"26\": {\"26\": 12}, \"10\": {\"10\": 12}, \"53\": {\"53\": 10}, \"28\": {\"28\": 12}, \"21\": {\"21\": 10}, \"57\": {\"57\": 10}, \"23\": {\"23\": 8}, \"43\": {\"43\": 10}, \"12\": {\"12\": 12}, \"41\": {\"41\": 12}, \"56\": {\"56\": 8}, \"18\": {\"18\": 10}, \"29\": {\"29\": 8}}, \"W_A_1\": {\"108\": {\"108\": 10}, \"40\": {\"40\": 12}, \"68\": {\"68\": 12}, \"23\": {\"23\": 9, \"86\": 1, \"6\": 2}, \"26\": {\"70\": 1, \"26\": 11}, \"64\": {\"64\": 12}, \"22\": {\"22\": 12}, \"3\": {\"3\": 12}, \"4\": {\"40\": 2, \"4\": 9, \"50\": 1}, \"70\": {\"70\": 12}, \"57\": {\"57\": 12}, \"79\": {\"79\": 12}, \"9\": {\"9\": 11, \"124\": 1}, \"89\": {\"89\": 12}, \"110\": {\"110\": 12}, \"102\": {\"102\": 12}, \"31\": {\"31\": 12}, \"58\": {\"58\": 12}, \"47\": {\"47\": 12}, \"24\": {\"24\": 11, \"36\": 1}, \"19\": {\"109\": 2, \"19\": 7, \"22\": 1, \"129\": 1, \"21\": 1}, \"11\": {\"11\": 12}, \"52\": {\"52\": 12}, \"17\": {\"17\": 12}, \"25\": {\"25\": 12}, \"69\": {\"69\": 12}, \"96\": {\"96\": 12}, \"109\": {\"109\": 9, \"73\": 1, \"104\": 2}, \"115\": {\"115\": 12}, \"83\": {\"83\": 11, \"109\": 1}, \"84\": {\"84\": 12}, \"119\": {\"119\": 10}, \"122\": {\"122\": 10}, \"99\": {\"99\": 12}, \"1\": {\"1\": 12}, \"74\": {\"74\": 10, \"23\": 1, \"61\": 1}, \"85\": {\"85\": 12}, \"127\": {\"127\": 12}, \"111\": {\"111\": 12}, \"53\": {\"53\": 12}, \"88\": {\"88\": 8, \"124\": 1, \"36\": 2, \"49\": 1}, \"65\": {\"65\": 6, \"63\": 2, \"121\": 2}, \"7\": {\"7\": 12}, \"16\": {\"16\": 11, \"127\": 1}, \"128\": {\"128\": 12}, \"34\": {\"34\": 11, \"9\": 1}, \"129\": {\"129\": 12}, \"43\": {\"43\": 11, \"61\": 1}, \"92\": {\"92\": 12}, \"28\": {\"28\": 11, \"48\": 1}, \"27\": {\"53\": 1, \"27\": 11}, \"114\": {\"114\": 12}, \"73\": {\"73\": 12}, \"0\": {\"0\": 12}, \"104\": {\"104\": 12}, \"118\": {\"118\": 12}, \"41\": {\"41\": 12}, \"49\": {\"49\": 10, \"97\": 1, \"53\": 1}, \"14\": {\"14\": 12}, \"46\": {\"76\": 1, \"46\": 5, \"97\": 2, \"51\": 1, \"49\": 1, \"83\": 2}, \"33\": {\"33\": 12}, \"76\": {\"76\": 12}, \"125\": {\"125\": 12}, \"86\": {\"86\": 10}, \"66\": {\"66\": 11, \"100\": 1}, \"5\": {\"5\": 12}, \"117\": {\"117\": 12}, \"75\": {\"75\": 12}, \"61\": {\"61\": 12}, \"50\": {\"50\": 12}, \"67\": {\"67\": 10}, \"18\": {\"18\": 12}, \"98\": {\"98\": 12}, \"55\": {\"55\": 10}, \"32\": {\"32\": 12}, \"120\": {\"120\": 12}, \"97\": {\"97\": 10, \"46\": 1, \"88\": 1}, \"126\": {\"126\": 12}, \"45\": {\"104\": 1, \"45\": 9, \"23\": 2}, \"78\": {\"78\": 6, \"43\": 3, \"22\": 1}, \"100\": {\"100\": 12}, \"107\": {\"107\": 12}, \"93\": {\"93\": 10, \"107\": 1, \"110\": 1}, \"77\": {\"77\": 12}, \"63\": {\"63\": 12}, \"112\": {\"112\": 12}, \"113\": {\"113\": 12}, \"103\": {\"103\": 10}, \"71\": {\"71\": 12}, \"30\": {\"30\": 12}, \"90\": {\"90\": 12}, \"37\": {\"129\": 1, \"37\": 11}, \"60\": {\"60\": 9, \"119\": 1, \"11\": 1, \"23\": 1}, \"15\": {\"15\": 11, \"111\": 1}, \"39\": {\"39\": 11, \"28\": 1}, \"72\": {\"72\": 12}, \"54\": {\"54\": 12}, \"35\": {\"35\": 12}, \"2\": {\"72\": 1, \"2\": 11}, \"94\": {\"94\": 11, \"106\": 1}, \"42\": {\"42\": 7, \"100\": 1, \"44\": 1, \"19\": 1, \"109\": 1, \"128\": 1}, \"81\": {\"81\": 12}, \"8\": {\"42\": 1, \"8\": 10, \"21\": 1}, \"87\": {\"87\": 12}, \"6\": {\"6\": 11, \"98\": 1}, \"36\": {\"36\": 11, \"88\": 1}, \"91\": {\"91\": 11, \"32\": 1}, \"56\": {\"56\": 12}, \"80\": {\"80\": 11, \"55\": 1}, \"124\": {\"124\": 10}, \"44\": {\"44\": 12}, \"13\": {\"13\": 12}, \"10\": {\"10\": 10, \"21\": 1, \"111\": 1}, \"59\": {\"59\": 8, \"27\": 1, \"123\": 2, \"51\": 1}, \"95\": {\"95\": 12}, \"105\": {\"105\": 11, \"66\": 1}, \"101\": {\"101\": 12}, \"20\": {\"20\": 12}, \"48\": {\"28\": 2, \"48\": 9, \"123\": 1}, \"106\": {\"106\": 12}, \"51\": {\"51\": 12}, \"21\": {\"91\": 1, \"11\": 1, \"87\": 1, \"52\": 1, \"21\": 4, \"112\": 1, \"70\": 1, \"54\": 2}, \"123\": {\"123\": 12}, \"121\": {\"121\": 12}, \"38\": {\"38\": 12}, \"62\": {\"62\": 12}, \"29\": {\"29\": 12}, \"82\": {\"82\": 12}, \"116\": {\"116\": 10, \"33\": 1, \"11\": 1}, \"12\": {\"12\": 8}}, \"C_A_5\": {\"47\": {\"47\": 10}, \"53\": {\"53\": 12}, \"29\": {\"29\": 12}, \"52\": {\"52\": 12}, \"55\": {\"55\": 12}, \"17\": {\"17\": 12}, \"42\": {\"42\": 12}, \"33\": {\"33\": 10}, \"11\": {\"11\": 12}, \"19\": {\"19\": 8}, \"1\": {\"1\": 12}, \"44\": {\"44\": 12}, \"49\": {\"49\": 11, \"24\": 1}, \"4\": {\"4\": 12}, \"6\": {\"6\": 12}, \"39\": {\"39\": 12}, \"13\": {\"13\": 12}, \"5\": {\"5\": 10}, \"16\": {\"16\": 10}, \"25\": {\"25\": 12}, \"45\": {\"45\": 12}, \"7\": {\"7\": 10}, \"22\": {\"22\": 12}, \"40\": {\"40\": 12}, \"38\": {\"38\": 12}, \"35\": {\"35\": 8}, \"56\": {\"56\": 12}, \"50\": {\"50\": 10}, \"0\": {\"0\": 12}, \"10\": {\"10\": 12}, \"27\": {\"27\": 12}, \"20\": {\"20\": 10}, \"36\": {\"36\": 8}, \"34\": {\"34\": 12}, \"30\": {\"30\": 12}, \"2\": {\"2\": 10}, \"15\": {\"15\": 11, \"11\": 1}, \"18\": {\"18\": 12}, \"32\": {\"32\": 12}, \"31\": {\"31\": 12}, \"57\": {\"57\": 12}, \"48\": {\"48\": 8}, \"28\": {\"28\": 10}, \"14\": {\"14\": 10, \"46\": 2}, \"3\": {\"3\": 12}, \"8\": {\"8\": 12}, \"9\": {\"9\": 12}, \"21\": {\"21\": 10}, \"41\": {\"41\": 12}, \"24\": {\"24\": 12}, \"46\": {\"46\": 10}, \"43\": {\"43\": 10}, \"54\": {\"54\": 10}, \"23\": {\"23\": 10}, \"37\": {\"37\": 10}, \"12\": {\"12\": 10}, \"26\": {\"26\": 10}, \"51\": {\"51\": 6}}, \"C_A_1\": {\"46\": {\"46\": 12}, \"16\": {\"16\": 12}, \"26\": {\"26\": 12}, \"10\": {\"10\": 12}, \"9\": {\"9\": 10}, \"28\": {\"28\": 12}, \"51\": {\"51\": 12}, \"1\": {\"1\": 12}, \"55\": {\"55\": 12}, \"27\": {\"27\": 10}, \"22\": {\"22\": 8, \"11\": 1, \"24\": 2, \"21\": 1}, \"52\": {\"52\": 12}, \"3\": {\"3\": 12}, \"33\": {\"33\": 8}, \"47\": {\"47\": 12}, \"42\": {\"42\": 12}, \"12\": {\"12\": 4}, \"23\": {\"23\": 12}, \"49\": {\"49\": 10}, \"7\": {\"7\": 12}, \"4\": {\"4\": 12}, \"50\": {\"50\": 12}, \"19\": {\"19\": 12}, \"11\": {\"11\": 12}, \"31\": {\"31\": 10}, \"41\": {\"41\": 12}, \"56\": {\"56\": 10}, \"0\": {\"0\": 12}, \"57\": {\"57\": 10, \"1\": 2}, \"53\": {\"53\": 12}, \"43\": {\"43\": 12}, \"37\": {\"37\": 12}, \"2\": {\"2\": 8}, \"6\": {\"6\": 11, \"5\": 1}, \"18\": {\"18\": 12}, \"38\": {\"38\": 12}, \"15\": {\"15\": 12}, \"36\": {\"36\": 12}, \"39\": {\"39\": 8}, \"44\": {\"44\": 12}, \"8\": {\"8\": 12}, \"17\": {\"17\": 10}, \"5\": {\"5\": 12}, \"13\": {\"13\": 10}, \"40\": {\"40\": 10}, \"29\": {\"29\": 12}, \"48\": {\"48\": 12}, \"32\": {\"32\": 12}, \"30\": {\"30\": 12}, \"35\": {\"35\": 12}, \"25\": {\"25\": 12}, \"14\": {\"14\": 8, \"6\": 1, \"30\": 3}, \"54\": {\"54\": 10}, \"20\": {\"20\": 8}, \"21\": {\"21\": 10}, \"45\": {\"45\": 8}, \"24\": {\"24\": 8}, \"34\": {\"34\": 8}}, \"W_A_2\": {\"91\": {\"91\": 11, \"17\": 1}, \"12\": {\"12\": 9, \"97\": 1, \"85\": 1, \"41\": 1}, \"101\": {\"101\": 10}, \"121\": {\"121\": 11, \"110\": 1}, \"118\": {\"118\": 12}, \"10\": {\"10\": 12}, \"117\": {\"117\": 12}, \"110\": {\"110\": 9, \"10\": 1, \"103\": 1, \"43\": 1}, \"97\": {\"97\": 9, \"121\": 1, \"15\": 1, \"22\": 1}, \"28\": {\"88\": 1, \"28\": 8, \"106\": 1, \"97\": 1, \"70\": 1}, \"88\": {\"88\": 12}, \"17\": {\"17\": 12}, \"126\": {\"126\": 11, \"11\": 1}, \"33\": {\"33\": 12}, \"86\": {\"86\": 12}, \"106\": {\"106\": 12}, \"54\": {\"54\": 12}, \"125\": {\"125\": 12}, \"83\": {\"83\": 12}, \"98\": {\"98\": 12}, \"11\": {\"11\": 11, \"14\": 1}, \"32\": {\"11\": 1, \"32\": 9, \"123\": 2}, \"42\": {\"42\": 9, \"44\": 1, \"112\": 2}, \"103\": {\"103\": 12}, \"87\": {\"87\": 10, \"23\": 1, \"33\": 1}, \"61\": {\"106\": 1, \"61\": 10, \"102\": 1}, \"13\": {\"13\": 12}, \"4\": {\"4\": 12}, \"15\": {\"15\": 10}, \"120\": {\"120\": 12}, \"80\": {\"80\": 12}, \"72\": {\"81\": 1, \"72\": 9}, \"64\": {\"64\": 12}, \"81\": {\"81\": 12}, \"102\": {\"102\": 12}, \"76\": {\"76\": 12}, \"49\": {\"49\": 7, \"98\": 1, \"126\": 1, \"21\": 1}, \"129\": {\"129\": 12}, \"89\": {\"89\": 12}, \"52\": {\"52\": 12}, \"35\": {\"35\": 11, \"101\": 1}, \"53\": {\"53\": 10, \"40\": 1, \"33\": 1}, \"112\": {\"112\": 9, \"44\": 2, \"11\": 1}, \"105\": {\"105\": 12}, \"100\": {\"100\": 12}, \"9\": {\"9\": 12}, \"82\": {\"82\": 12}, \"51\": {\"51\": 12}, \"21\": {\"21\": 12}, \"92\": {\"92\": 11, \"84\": 1}, \"69\": {\"69\": 12}, \"77\": {\"77\": 12}, \"50\": {\"50\": 11, \"88\": 1}, \"36\": {\"36\": 12}, \"16\": {\"16\": 10, \"28\": 1, \"78\": 1}, \"8\": {\"18\": 1, \"8\": 10, \"120\": 1}, \"127\": {\"127\": 12}, \"46\": {\"46\": 10}, \"84\": {\"84\": 12}, \"18\": {\"18\": 12}, \"123\": {\"123\": 10}, \"56\": {\"56\": 11, \"27\": 1}, \"26\": {\"26\": 12}, \"14\": {\"87\": 1, \"14\": 7, \"72\": 2, \"43\": 1, \"128\": 1}, \"109\": {\"109\": 12}, \"66\": {\"66\": 12}, \"24\": {\"24\": 10, \"28\": 1, \"94\": 1}, \"71\": {\"76\": 1, \"71\": 11}, \"65\": {\"65\": 10, \"92\": 1, \"17\": 1}, \"75\": {\"75\": 11, \"21\": 1}, \"111\": {\"111\": 12}, \"30\": {\"30\": 11, \"71\": 1}, \"85\": {\"85\": 12}, \"113\": {\"113\": 9, \"107\": 1}, \"45\": {\"45\": 12}, \"29\": {\"29\": 9, \"128\": 2, \"16\": 1}, \"20\": {\"20\": 12}, \"25\": {\"25\": 12}, \"0\": {\"0\": 12}, \"68\": {\"68\": 12}, \"119\": {\"119\": 12}, \"90\": {\"90\": 12}, \"38\": {\"38\": 12}, \"99\": {\"99\": 12}, \"1\": {\"1\": 12}, \"67\": {\"67\": 10, \"51\": 1, \"97\": 1}, \"63\": {\"63\": 12}, \"34\": {\"34\": 11, \"91\": 1}, \"108\": {\"108\": 12}, \"40\": {\"40\": 12}, \"47\": {\"47\": 9, \"127\": 1, \"93\": 2}, \"37\": {\"37\": 12}, \"78\": {\"98\": 1, \"21\": 2, \"78\": 7, \"4\": 1, \"7\": 1}, \"96\": {\"96\": 12}, \"43\": {\"43\": 9, \"21\": 1, \"33\": 2}, \"5\": {\"5\": 10}, \"124\": {\"124\": 12}, \"44\": {\"44\": 12}, \"41\": {\"41\": 11, \"47\": 1}, \"116\": {\"116\": 12}, \"19\": {\"116\": 1, \"19\": 9, \"96\": 1, \"60\": 1}, \"115\": {\"115\": 11, \"68\": 1}, \"95\": {\"95\": 11, \"70\": 1}, \"3\": {\"3\": 10}, \"59\": {\"59\": 12}, \"55\": {\"55\": 12}, \"70\": {\"70\": 11, \"19\": 1}, \"6\": {\"6\": 12}, \"2\": {\"2\": 7, \"16\": 2, \"93\": 2, \"117\": 1}, \"48\": {\"48\": 12}, \"23\": {\"57\": 1, \"41\": 1, \"129\": 1, \"23\": 6, \"115\": 1, \"52\": 1, \"3\": 1}, \"7\": {\"7\": 12}, \"122\": {\"122\": 12}, \"57\": {\"57\": 10, \"108\": 1, \"71\": 1}, \"39\": {\"39\": 9, \"70\": 1}, \"79\": {\"79\": 12}, \"27\": {\"27\": 10}, \"74\": {\"74\": 9, \"70\": 1, \"78\": 1, \"17\": 1}, \"73\": {\"73\": 12}, \"62\": {\"62\": 12}, \"107\": {\"107\": 12}, \"128\": {\"128\": 10, \"59\": 1, \"71\": 1}, \"60\": {\"116\": 3, \"60\": 7, \"1\": 1, \"85\": 1}, \"114\": {\"114\": 12}, \"22\": {\"22\": 12}, \"93\": {\"93\": 12}, \"94\": {\"94\": 10, \"24\": 1, \"110\": 1}, \"31\": {\"31\": 10}, \"104\": {\"104\": 12}, \"58\": {\"58\": 12}}, \"C_A_2\": {\"14\": {\"14\": 11, \"43\": 1}, \"22\": {\"22\": 12}, \"9\": {\"9\": 11, \"40\": 1}, \"47\": {\"47\": 11, \"42\": 1}, \"13\": {\"13\": 12}, \"8\": {\"8\": 12}, \"7\": {\"7\": 12}, \"49\": {\"49\": 12}, \"20\": {\"20\": 12}, \"16\": {\"16\": 12}, \"34\": {\"34\": 12}, \"56\": {\"56\": 9, \"22\": 3}, \"38\": {\"38\": 10}, \"4\": {\"4\": 12}, \"43\": {\"43\": 10}, \"26\": {\"26\": 10}, \"35\": {\"35\": 12}, \"31\": {\"31\": 12}, \"1\": {\"1\": 12}, \"39\": {\"39\": 12}, \"5\": {\"5\": 12}, \"24\": {\"24\": 12}, \"54\": {\"54\": 10}, \"23\": {\"23\": 11, \"2\": 1}, \"51\": {\"51\": 12}, \"27\": {\"27\": 10}, \"15\": {\"15\": 11, \"28\": 1}, \"0\": {\"0\": 12}, \"19\": {\"19\": 10}, \"18\": {\"18\": 8}, \"30\": {\"30\": 12}, \"55\": {\"55\": 10}, \"57\": {\"57\": 12}, \"2\": {\"2\": 10, \"23\": 2}, \"12\": {\"12\": 8}, \"41\": {\"41\": 12}, \"42\": {\"42\": 12}, \"48\": {\"48\": 12}, \"37\": {\"37\": 12}, \"6\": {\"6\": 10}, \"11\": {\"11\": 10}, \"45\": {\"45\": 8}, \"21\": {\"21\": 12}, \"46\": {\"46\": 10}, \"25\": {\"25\": 12}, \"36\": {\"36\": 10}, \"53\": {\"53\": 12}, \"28\": {\"28\": 12}, \"40\": {\"40\": 10}, \"33\": {\"33\": 10}, \"44\": {\"44\": 10}, \"3\": {\"3\": 12}, \"17\": {\"17\": 12}, \"32\": {\"32\": 10}, \"10\": {\"10\": 10}, \"52\": {\"52\": 10}, \"50\": {\"53\": 1, \"50\": 6, \"17\": 1}, \"29\": {\"29\": 6}}, \"ORACLE.run1_14\": {\"15\": {\"7\": 71, \"15\": 133, \"1\": 6, \"5\": 6, \"13\": 3, \"4\": 12, \"2\": 2, \"6\": 5, \"14\": 1, \"3\": 1}, \"3\": {\"10\": 24, \"4\": 27, \"0\": 25, \"5\": 17, \"14\": 18, \"9\": 3, \"2\": 16, \"1\": 30, \"7\": 7, \"3\": 38, \"6\": 7, \"11\": 13, \"8\": 2, \"13\": 13}, \"6\": {\"10\": 14, \"14\": 29, \"2\": 38, \"6\": 58, \"13\": 57, \"5\": 17, \"3\": 9, \"15\": 5, \"11\": 1, \"1\": 5, \"4\": 4, \"0\": 2, \"7\": 1}, \"1\": {\"0\": 12, \"7\": 29, \"5\": 45, \"3\": 23, \"1\": 48, \"8\": 17, \"4\": 25, \"10\": 8, \"9\": 6, \"6\": 5, \"2\": 11, \"15\": 5, \"13\": 2, \"14\": 2, \"11\": 2}, \"8\": {\"8\": 124, \"1\": 30, \"4\": 15, \"7\": 8, \"9\": 21, \"2\": 1, \"5\": 11, \"3\": 13, \"12\": 3, \"10\": 2, \"0\": 9, \"11\": 3}, \"10\": {\"0\": 30, \"4\": 15, \"11\": 25, \"14\": 29, \"10\": 43, \"3\": 26, \"13\": 16, \"2\": 21, \"1\": 8, \"5\": 14, \"15\": 1, \"8\": 1, \"6\": 6, \"9\": 5}, \"9\": {\"12\": 73, \"11\": 27, \"9\": 85, \"10\": 2, \"0\": 26, \"1\": 3, \"3\": 7, \"8\": 12, \"5\": 3, \"2\": 2}, \"13\": {\"4\": 15, \"10\": 12, \"5\": 21, \"3\": 11, \"13\": 49, \"6\": 55, \"2\": 24, \"14\": 28, \"7\": 4, \"1\": 8, \"15\": 9, \"0\": 3, \"11\": 1}, \"12\": {\"11\": 23, \"12\": 130, \"0\": 9, \"9\": 73, \"3\": 1, \"10\": 1, \"8\": 3}, \"5\": {\"3\": 17, \"0\": 11, \"5\": 32, \"6\": 10, \"2\": 20, \"4\": 30, \"1\": 50, \"7\": 19, \"10\": 12, \"13\": 13, \"15\": 7, \"8\": 11, \"14\": 7, \"11\": 1}, \"0\": {\"0\": 46, \"9\": 28, \"3\": 25, \"14\": 15, \"10\": 31, \"8\": 5, \"4\": 8, \"11\": 48, \"2\": 11, \"1\": 6, \"5\": 5, \"12\": 6, \"6\": 5, \"13\": 1}, \"2\": {\"6\": 29, \"14\": 30, \"3\": 25, \"0\": 11, \"11\": 4, \"2\": 28, \"13\": 35, \"5\": 20, \"1\": 12, \"10\": 20, \"4\": 13, \"7\": 5, \"15\": 6, \"9\": 2}, \"11\": {\"0\": 49, \"11\": 79, \"10\": 20, \"9\": 41, \"8\": 1, \"12\": 21, \"14\": 7, \"4\": 3, \"2\": 5, \"3\": 8, \"6\": 3, \"5\": 3}, \"14\": {\"14\": 59, \"2\": 28, \"5\": 5, \"3\": 21, \"6\": 24, \"11\": 18, \"10\": 35, \"4\": 5, \"0\": 23, \"13\": 18, \"1\": 2, \"15\": 1, \"9\": 1}, \"7\": {\"15\": 61, \"7\": 73, \"4\": 25, \"5\": 27, \"1\": 26, \"13\": 8, \"8\": 9, \"2\": 2, \"6\": 4, \"3\": 5}, \"4\": {\"7\": 19, \"5\": 35, \"6\": 7, \"3\": 23, \"15\": 9, \"14\": 8, \"4\": 34, \"1\": 41, \"2\": 21, \"10\": 15, \"13\": 13, \"8\": 8, \"0\": 5, \"11\": 2}}, \"ORACLE.run1_20\": {\"3\": {\"8\": 17, \"3\": 18, \"2\": 15, \"14\": 5, \"13\": 10, \"15\": 15, \"9\": 17, \"11\": 8, \"5\": 19, \"4\": 13, \"1\": 30, \"12\": 20, \"7\": 19, \"6\": 10, \"10\": 12, \"0\": 12}, \"15\": {\"12\": 25, \"3\": 9, \"7\": 10, \"5\": 17, \"13\": 30, \"2\": 20, \"15\": 37, \"8\": 11, \"9\": 14, \"1\": 20, \"14\": 1, \"11\": 6, \"0\": 30, \"4\": 6, \"10\": 2, \"6\": 2}, \"8\": {\"8\": 28, \"10\": 22, \"1\": 8, \"7\": 16, \"14\": 21, \"5\": 20, \"11\": 3, \"6\": 22, \"4\": 32, \"0\": 13, \"3\": 12, \"9\": 5, \"2\": 10, \"15\": 13, \"12\": 9, \"13\": 6}, \"4\": {\"13\": 4, \"15\": 10, \"5\": 17, \"0\": 15, \"9\": 14, \"6\": 17, \"14\": 24, \"8\": 22, \"7\": 11, \"4\": 31, \"10\": 34, \"3\": 12, \"1\": 8, \"2\": 9, \"12\": 11, \"11\": 1}, \"14\": {\"10\": 41, \"14\": 33, \"15\": 5, \"4\": 32, \"1\": 4, \"8\": 35, \"11\": 2, \"6\": 36, \"0\": 6, \"12\": 6, \"7\": 10, \"5\": 5, \"3\": 14, \"9\": 7, \"2\": 4}, \"0\": {\"8\": 20, \"15\": 24, \"1\": 19, \"7\": 14, \"10\": 7, \"13\": 17, \"12\": 15, \"0\": 31, \"9\": 15, \"3\": 14, \"5\": 32, \"14\": 6, \"4\": 13, \"6\": 8, \"2\": 3, \"11\": 2}, \"7\": {\"4\": 8, \"6\": 18, \"15\": 13, \"2\": 17, \"12\": 22, \"11\": 8, \"10\": 14, \"8\": 15, \"1\": 13, \"13\": 17, \"3\": 18, \"7\": 22, \"14\": 12, \"9\": 13, \"5\": 17, \"0\": 13}, \"6\": {\"8\": 13, \"11\": 5, \"15\": 8, \"10\": 32, \"6\": 32, \"14\": 28, \"4\": 26, \"0\": 8, \"3\": 13, \"5\": 7, \"7\": 19, \"9\": 17, \"2\": 11, \"12\": 11, \"13\": 3, \"1\": 7}, \"10\": {\"9\": 11, \"8\": 25, \"15\": 7, \"7\": 17, \"10\": 44, \"4\": 30, \"3\": 15, \"6\": 26, \"5\": 8, \"1\": 3, \"0\": 5, \"14\": 38, \"11\": 1, \"2\": 4, \"12\": 5, \"13\": 1}, \"5\": {\"7\": 12, \"8\": 23, \"13\": 11, \"12\": 18, \"5\": 29, \"4\": 15, \"15\": 23, \"1\": 22, \"2\": 10, \"3\": 18, \"0\": 20, \"14\": 7, \"9\": 19, \"11\": 3, \"10\": 7, \"6\": 3}, \"2\": {\"1\": 24, \"7\": 16, \"14\": 7, \"4\": 8, \"9\": 31, \"11\": 15, \"10\": 10, \"0\": 15, \"12\": 22, \"8\": 9, \"13\": 16, \"2\": 16, \"3\": 18, \"15\": 18, \"5\": 11, \"6\": 4}, \"12\": {\"9\": 23, \"5\": 16, \"15\": 17, \"12\": 16, \"1\": 19, \"13\": 21, \"7\": 14, \"0\": 17, \"11\": 13, \"3\": 23, \"4\": 14, \"2\": 16, \"10\": 7, \"8\": 10, \"6\": 10, \"14\": 4}, \"9\": {\"9\": 21, \"5\": 8, \"7\": 20, \"1\": 15, \"2\": 23, \"15\": 11, \"8\": 5, \"11\": 22, \"4\": 14, \"6\": 14, \"12\": 23, \"13\": 18, \"0\": 13, \"3\": 19, \"10\": 10, \"14\": 4}, \"1\": {\"0\": 27, \"10\": 6, \"11\": 9, \"4\": 7, \"7\": 15, \"15\": 17, \"1\": 27, \"12\": 18, \"13\": 24, \"5\": 17, \"2\": 18, \"3\": 18, \"9\": 17, \"8\": 12, \"14\": 4, \"6\": 4}, \"11\": {\"11\": 119, \"13\": 22, \"7\": 13, \"5\": 6, \"9\": 17, \"4\": 1, \"2\": 21, \"12\": 6, \"6\": 8, \"15\": 5, \"0\": 5, \"8\": 1, \"3\": 6, \"14\": 1, \"1\": 7, \"10\": 2}, \"13\": {\"13\": 35, \"2\": 23, \"5\": 15, \"9\": 18, \"4\": 5, \"8\": 12, \"7\": 8, \"0\": 23, \"12\": 24, \"15\": 26, \"6\": 2, \"1\": 19, \"3\": 12, \"14\": 3, \"11\": 14, \"10\": 1}}, \"ORACLE.run1_38\": {\"5\": {\"8\": 37, \"7\": 21, \"5\": 33, \"6\": 31, \"0\": 22, \"1\": 8, \"15\": 25, \"13\": 18, \"9\": 15, \"10\": 17, \"2\": 4, \"3\": 6, \"11\": 1, \"14\": 2}, \"8\": {\"5\": 24, \"0\": 41, \"10\": 27, \"13\": 19, \"15\": 12, \"6\": 19, \"8\": 37, \"14\": 3, \"7\": 26, \"1\": 5, \"9\": 10, \"3\": 7, \"2\": 7, \"12\": 1, \"11\": 2}, \"11\": {\"11\": 78, \"14\": 78, \"2\": 11, \"10\": 26, \"12\": 25, \"8\": 4, \"4\": 7, \"13\": 4, \"7\": 2, \"5\": 2, \"15\": 3}, \"1\": {\"1\": 68, \"13\": 24, \"15\": 50, \"0\": 7, \"6\": 27, \"5\": 18, \"10\": 9, \"8\": 12, \"2\": 16, \"14\": 1, \"9\": 7, \"7\": 1}, \"10\": {\"0\": 28, \"10\": 50, \"8\": 29, \"12\": 8, \"14\": 16, \"2\": 19, \"11\": 15, \"7\": 16, \"15\": 24, \"6\": 4, \"13\": 13, \"5\": 11, \"4\": 1, \"1\": 5, \"3\": 1}, \"15\": {\"13\": 33, \"14\": 6, \"2\": 37, \"15\": 40, \"1\": 33, \"8\": 19, \"6\": 9, \"5\": 19, \"10\": 22, \"0\": 11, \"9\": 5, \"7\": 5, \"11\": 1}, \"3\": {\"3\": 106, \"9\": 68, \"7\": 10, \"6\": 26, \"0\": 8, \"13\": 2, \"15\": 3, \"5\": 13, \"1\": 1, \"8\": 3}, \"7\": {\"9\": 5, \"7\": 72, \"5\": 27, \"10\": 32, \"6\": 4, \"3\": 14, \"15\": 4, \"0\": 36, \"8\": 31, \"4\": 5, \"13\": 5, \"1\": 3, \"11\": 1, \"12\": 1}, \"4\": {\"4\": 130, \"12\": 90, \"7\": 5, \"11\": 5, \"10\": 6, \"0\": 2, \"14\": 1, \"3\": 1}, \"14\": {\"11\": 59, \"14\": 102, \"10\": 19, \"2\": 29, \"12\": 20, \"13\": 3, \"15\": 6, \"5\": 1, \"8\": 1}, \"9\": {\"9\": 111, \"6\": 47, \"5\": 10, \"3\": 53, \"13\": 2, \"0\": 5, \"2\": 1, \"7\": 4, \"1\": 4, \"8\": 2, \"15\": 1}, \"12\": {\"12\": 145, \"4\": 51, \"10\": 9, \"11\": 10, \"14\": 13, \"2\": 1, \"7\": 3, \"0\": 6, \"8\": 2}, \"6\": {\"9\": 59, \"5\": 15, \"10\": 2, \"3\": 21, \"6\": 76, \"15\": 9, \"13\": 13, \"1\": 23, \"8\": 12, \"2\": 1, \"0\": 8, \"7\": 1}, \"2\": {\"14\": 36, \"13\": 22, \"2\": 96, \"8\": 8, \"1\": 14, \"15\": 23, \"11\": 18, \"10\": 15, \"9\": 1, \"7\": 3, \"5\": 3, \"0\": 1}, \"0\": {\"0\": 38, \"7\": 31, \"2\": 5, \"5\": 25, \"1\": 8, \"10\": 24, \"6\": 17, \"8\": 32, \"12\": 3, \"3\": 16, \"13\": 14, \"14\": 3, \"9\": 9, \"15\": 14, \"4\": 1}, \"13\": {\"15\": 40, \"10\": 19, \"5\": 26, \"0\": 18, \"9\": 9, \"2\": 21, \"7\": 5, \"6\": 17, \"1\": 25, \"13\": 40, \"8\": 14, \"14\": 3, \"3\": 1, \"11\": 2}}, \"ORACLE.run1_8\": {\"9\": {\"13\": 1, \"9\": 203, \"5\": 5, \"0\": 13, \"14\": 5, \"10\": 7, \"2\": 2, \"4\": 1, \"6\": 2, \"7\": 1}, \"10\": {\"1\": 11, \"14\": 34, \"4\": 24, \"6\": 26, \"10\": 27, \"0\": 19, \"5\": 19, \"7\": 20, \"11\": 11, \"13\": 28, \"2\": 4, \"3\": 7, \"15\": 5, \"8\": 5}, \"13\": {\"2\": 5, \"13\": 23, \"4\": 25, \"11\": 14, \"6\": 30, \"1\": 15, \"9\": 1, \"14\": 28, \"10\": 22, \"3\": 3, \"7\": 20, \"15\": 7, \"0\": 25, \"5\": 12, \"8\": 6, \"12\": 4}, \"0\": {\"14\": 17, \"4\": 20, \"2\": 24, \"7\": 26, \"0\": 44, \"6\": 15, \"3\": 13, \"13\": 27, \"10\": 29, \"9\": 2, \"11\": 5, \"8\": 3, \"1\": 5, \"15\": 2, \"5\": 4, \"12\": 4}, \"1\": {\"11\": 30, \"1\": 49, \"12\": 7, \"3\": 4, \"6\": 8, \"5\": 29, \"8\": 32, \"10\": 14, \"4\": 5, \"13\": 14, \"15\": 13, \"7\": 12, \"0\": 3, \"14\": 19, \"2\": 1}, \"15\": {\"8\": 36, \"3\": 23, \"15\": 54, \"12\": 40, \"7\": 8, \"11\": 16, \"0\": 2, \"1\": 11, \"5\": 3, \"2\": 11, \"14\": 8, \"6\": 7, \"4\": 11, \"13\": 6, \"10\": 4}, \"5\": {\"11\": 25, \"7\": 7, \"6\": 19, \"0\": 8, \"5\": 50, \"14\": 23, \"1\": 27, \"10\": 22, \"13\": 16, \"4\": 22, \"8\": 12, \"9\": 3, \"15\": 4, \"3\": 1, \"12\": 1}, \"3\": {\"4\": 5, \"7\": 19, \"3\": 60, \"12\": 27, \"2\": 64, \"15\": 18, \"0\": 16, \"13\": 3, \"6\": 10, \"14\": 5, \"10\": 4, \"11\": 2, \"8\": 6, \"5\": 1}, \"6\": {\"4\": 29, \"3\": 14, \"13\": 18, \"7\": 31, \"6\": 23, \"12\": 6, \"11\": 9, \"1\": 21, \"15\": 4, \"0\": 16, \"10\": 26, \"2\": 7, \"5\": 13, \"14\": 15, \"8\": 8}, \"11\": {\"1\": 45, \"13\": 7, \"11\": 49, \"5\": 28, \"8\": 33, \"6\": 5, \"4\": 11, \"3\": 2, \"14\": 16, \"12\": 8, \"7\": 6, \"15\": 20, \"10\": 5, \"0\": 3, \"9\": 1, \"2\": 1}, \"8\": {\"1\": 27, \"14\": 21, \"4\": 13, \"15\": 37, \"7\": 10, \"12\": 27, \"0\": 4, \"13\": 9, \"6\": 9, \"8\": 33, \"3\": 5, \"10\": 3, \"11\": 30, \"5\": 10, \"2\": 2}, \"4\": {\"15\": 11, \"6\": 20, \"14\": 29, \"11\": 13, \"1\": 12, \"13\": 22, \"7\": 28, \"0\": 18, \"4\": 21, \"10\": 19, \"2\": 9, \"8\": 8, \"12\": 7, \"5\": 16, \"3\": 7}, \"12\": {\"2\": 18, \"3\": 25, \"12\": 50, \"8\": 37, \"13\": 4, \"10\": 2, \"6\": 11, \"11\": 13, \"15\": 38, \"14\": 9, \"7\": 11, \"4\": 7, \"1\": 10, \"0\": 3, \"5\": 2}, \"14\": {\"13\": 27, \"5\": 27, \"6\": 17, \"4\": 29, \"1\": 23, \"10\": 21, \"14\": 21, \"8\": 8, \"0\": 10, \"7\": 18, \"15\": 5, \"11\": 21, \"2\": 5, \"3\": 5, \"9\": 1, \"12\": 2}, \"2\": {\"3\": 63, \"8\": 5, \"10\": 5, \"6\": 11, \"2\": 67, \"0\": 13, \"12\": 19, \"7\": 27, \"15\": 10, \"13\": 9, \"11\": 1, \"5\": 1, \"4\": 5, \"14\": 3, \"1\": 1}, \"7\": {\"4\": 21, \"11\": 9, \"12\": 10, \"0\": 31, \"14\": 15, \"7\": 24, \"13\": 22, \"3\": 22, \"6\": 23, \"1\": 3, \"2\": 19, \"15\": 13, \"10\": 18, \"5\": 9, \"8\": 1}}, \"ORACLE.run1_50\": {\"7\": {\"3\": 8, \"13\": 43, \"5\": 33, \"1\": 18, \"10\": 26, \"15\": 9, \"0\": 6, \"7\": 35, \"4\": 16, \"6\": 32, \"9\": 2, \"8\": 6, \"2\": 3, \"14\": 1, \"11\": 2}, \"3\": {\"3\": 125, \"8\": 59, \"10\": 22, \"5\": 9, \"0\": 5, \"13\": 6, \"7\": 11, \"2\": 3}, \"8\": {\"3\": 51, \"10\": 33, \"0\": 32, \"8\": 78, \"13\": 2, \"7\": 10, \"1\": 1, \"2\": 17, \"11\": 1, \"14\": 6, \"6\": 5, \"5\": 4}, \"2\": {\"10\": 23, \"2\": 84, \"1\": 4, \"8\": 10, \"7\": 2, \"14\": 31, \"0\": 46, \"6\": 7, \"4\": 3, \"12\": 18, \"13\": 5, \"11\": 1, \"9\": 4, \"5\": 2}, \"14\": {\"14\": 73, \"12\": 41, \"9\": 20, \"0\": 13, \"1\": 19, \"6\": 2, \"11\": 20, \"2\": 29, \"5\": 3, \"4\": 4, \"10\": 5, \"13\": 3, \"15\": 7, \"7\": 1}, \"4\": {\"15\": 26, \"4\": 35, \"11\": 23, \"0\": 5, \"6\": 26, \"2\": 3, \"5\": 22, \"10\": 6, \"13\": 24, \"7\": 23, \"14\": 9, \"8\": 2, \"9\": 7, \"12\": 1, \"1\": 28}, \"6\": {\"1\": 25, \"15\": 17, \"4\": 25, \"6\": 41, \"5\": 19, \"10\": 23, \"13\": 31, \"7\": 30, \"11\": 7, \"14\": 9, \"0\": 9, \"2\": 3, \"9\": 1}, \"15\": {\"15\": 60, \"1\": 31, \"4\": 30, \"14\": 8, \"9\": 10, \"6\": 23, \"11\": 24, \"13\": 15, \"10\": 5, \"5\": 24, \"0\": 2, \"7\": 7, \"2\": 1}, \"10\": {\"7\": 21, \"3\": 16, \"10\": 53, \"5\": 13, \"0\": 45, \"8\": 29, \"13\": 17, \"4\": 3, \"6\": 17, \"2\": 14, \"1\": 5, \"14\": 6, \"15\": 1}, \"11\": {\"12\": 20, \"9\": 60, \"11\": 57, \"6\": 7, \"4\": 22, \"15\": 24, \"5\": 7, \"2\": 2, \"14\": 12, \"1\": 23, \"0\": 3, \"13\": 1, \"10\": 1, \"7\": 1}, \"13\": {\"11\": 4, \"13\": 50, \"5\": 34, \"6\": 25, \"1\": 23, \"4\": 19, \"7\": 37, \"10\": 14, \"0\": 7, \"15\": 13, \"14\": 3, \"3\": 5, \"8\": 4, \"2\": 2}, \"9\": {\"11\": 52, \"9\": 95, \"14\": 24, \"12\": 41, \"4\": 9, \"15\": 5, \"1\": 12, \"2\": 1, \"6\": 1}, \"0\": {\"13\": 9, \"10\": 31, \"14\": 20, \"0\": 60, \"1\": 8, \"2\": 43, \"8\": 25, \"9\": 3, \"6\": 8, \"5\": 8, \"15\": 1, \"7\": 7, \"4\": 9, \"12\": 4, \"3\": 1, \"11\": 3}, \"1\": {\"4\": 36, \"5\": 16, \"9\": 8, \"11\": 22, \"13\": 21, \"0\": 10, \"7\": 19, \"14\": 16, \"10\": 7, \"1\": 27, \"6\": 22, \"15\": 29, \"12\": 1, \"2\": 4, \"3\": 1, \"8\": 1}, \"12\": {\"12\": 118, \"2\": 10, \"9\": 37, \"14\": 39, \"11\": 23, \"0\": 1, \"1\": 6, \"13\": 2, \"4\": 3, \"5\": 1}, \"5\": {\"13\": 39, \"7\": 32, \"5\": 33, \"10\": 19, \"4\": 18, \"6\": 26, \"15\": 21, \"11\": 7, \"0\": 9, \"1\": 11, \"2\": 7, \"3\": 5, \"14\": 7, \"9\": 3, \"12\": 1, \"8\": 2}}, \"ORACLE.run1_32\": {\"8\": {\"2\": 9, \"14\": 7, \"8\": 44, \"3\": 39, \"0\": 33, \"13\": 38, \"5\": 24, \"7\": 14, \"11\": 7, \"4\": 19, \"15\": 6}, \"14\": {\"11\": 64, \"0\": 19, \"3\": 11, \"14\": 51, \"13\": 7, \"7\": 38, \"2\": 14, \"5\": 16, \"8\": 11, \"4\": 8, \"15\": 1}, \"2\": {\"9\": 18, \"4\": 64, \"2\": 55, \"14\": 9, \"0\": 22, \"7\": 26, \"8\": 7, \"5\": 20, \"13\": 12, \"11\": 7}, \"0\": {\"8\": 22, \"14\": 24, \"4\": 25, \"13\": 28, \"7\": 28, \"11\": 20, \"3\": 10, \"2\": 33, \"5\": 17, \"0\": 32, \"9\": 1}, \"1\": {\"1\": 174, \"10\": 49, \"12\": 6, \"6\": 10, \"9\": 1}, \"10\": {\"1\": 68, \"12\": 23, \"10\": 139, \"6\": 10}, \"11\": {\"11\": 99, \"14\": 51, \"0\": 12, \"3\": 18, \"7\": 28, \"4\": 5, \"8\": 8, \"5\": 14, \"13\": 3, \"2\": 2}, \"5\": {\"5\": 33, \"2\": 20, \"4\": 22, \"8\": 36, \"7\": 24, \"14\": 17, \"11\": 15, \"13\": 26, \"0\": 22, \"3\": 21, \"15\": 3, \"9\": 1}, \"15\": {\"15\": 182, \"3\": 23, \"8\": 24, \"5\": 3, \"0\": 4, \"13\": 3, \"14\": 1}, \"3\": {\"3\": 81, \"5\": 36, \"15\": 8, \"13\": 21, \"8\": 32, \"0\": 8, \"11\": 25, \"14\": 17, \"4\": 5, \"7\": 6, \"2\": 1}, \"12\": {\"12\": 140, \"6\": 20, \"9\": 44, \"1\": 2, \"10\": 34}, \"7\": {\"14\": 38, \"0\": 24, \"2\": 18, \"11\": 35, \"8\": 17, \"7\": 35, \"5\": 24, \"4\": 29, \"13\": 15, \"3\": 2, \"9\": 3}, \"13\": {\"8\": 31, \"2\": 22, \"3\": 28, \"4\": 30, \"13\": 47, \"0\": 23, \"5\": 29, \"14\": 9, \"7\": 14, \"11\": 2, \"9\": 3, \"12\": 1, \"15\": 1}, \"6\": {\"12\": 17, \"6\": 188, \"10\": 14, \"9\": 10, \"1\": 11}, \"4\": {\"7\": 23, \"0\": 30, \"2\": 38, \"13\": 27, \"8\": 14, \"9\": 10, \"4\": 53, \"5\": 25, \"3\": 5, \"14\": 10, \"11\": 5}, \"9\": {\"9\": 145, \"12\": 53, \"2\": 12, \"4\": 11, \"6\": 11, \"13\": 3, \"0\": 3, \"7\": 1, \"8\": 1}}, \"ORACLE.run1_26\": {\"4\": {\"1\": 30, \"4\": 24, \"9\": 7, \"8\": 20, \"14\": 32, \"7\": 16, \"5\": 5, \"0\": 21, \"10\": 31, \"2\": 14, \"12\": 3, \"13\": 4, \"6\": 13, \"3\": 13, \"15\": 7}, \"12\": {\"11\": 18, \"12\": 109, \"15\": 14, \"7\": 4, \"5\": 3, \"4\": 2, \"0\": 13, \"14\": 8, \"6\": 34, \"9\": 12, \"13\": 5, \"10\": 9, \"8\": 7, \"2\": 2}, \"10\": {\"8\": 24, \"9\": 11, \"7\": 16, \"6\": 23, \"3\": 7, \"12\": 13, \"10\": 24, \"5\": 5, \"1\": 15, \"4\": 21, \"13\": 7, \"14\": 28, \"15\": 9, \"0\": 28, \"2\": 8, \"11\": 1}, \"0\": {\"14\": 24, \"4\": 33, \"6\": 20, \"8\": 25, \"10\": 21, \"12\": 13, \"3\": 6, \"0\": 24, \"15\": 13, \"2\": 6, \"1\": 22, \"7\": 18, \"9\": 7, \"13\": 3, \"5\": 4, \"11\": 1}, \"13\": {\"8\": 8, \"2\": 21, \"5\": 61, \"13\": 38, \"9\": 25, \"6\": 7, \"15\": 24, \"12\": 3, \"7\": 3, \"11\": 19, \"3\": 19, \"0\": 2, \"4\": 3, \"10\": 4, \"14\": 1, \"1\": 2}, \"9\": {\"9\": 22, \"10\": 11, \"3\": 19, \"2\": 23, \"5\": 34, \"8\": 15, \"15\": 34, \"13\": 18, \"7\": 16, \"4\": 5, \"12\": 8, \"1\": 6, \"0\": 9, \"6\": 16, \"14\": 3, \"11\": 1}, \"3\": {\"5\": 28, \"15\": 12, \"9\": 14, \"10\": 11, \"3\": 48, \"1\": 18, \"7\": 19, \"2\": 35, \"8\": 13, \"4\": 8, \"14\": 8, \"6\": 5, \"12\": 1, \"13\": 13, \"0\": 7}, \"2\": {\"3\": 37, \"1\": 17, \"0\": 8, \"9\": 20, \"4\": 7, \"2\": 31, \"10\": 6, \"7\": 23, \"6\": 10, \"8\": 7, \"5\": 38, \"11\": 2, \"13\": 17, \"14\": 5, \"15\": 12}, \"5\": {\"8\": 7, \"6\": 5, \"10\": 8, \"5\": 39, \"9\": 22, \"3\": 31, \"1\": 2, \"2\": 32, \"11\": 8, \"13\": 46, \"7\": 13, \"14\": 1, \"0\": 3, \"15\": 19, \"4\": 3, \"12\": 1}, \"14\": {\"10\": 25, \"0\": 20, \"1\": 26, \"4\": 34, \"7\": 13, \"14\": 34, \"9\": 9, \"8\": 30, \"6\": 17, \"15\": 7, \"2\": 3, \"3\": 9, \"12\": 6, \"5\": 6, \"13\": 1}, \"8\": {\"1\": 15, \"10\": 29, \"12\": 11, \"4\": 19, \"3\": 11, \"7\": 15, \"14\": 27, \"0\": 18, \"15\": 20, \"2\": 8, \"6\": 17, \"8\": 24, \"5\": 8, \"9\": 10, \"11\": 2, \"13\": 6}, \"7\": {\"4\": 18, \"1\": 12, \"5\": 13, \"8\": 22, \"7\": 21, \"3\": 27, \"15\": 18, \"9\": 17, \"2\": 23, \"0\": 16, \"6\": 18, \"14\": 11, \"10\": 14, \"13\": 9, \"11\": 1}, \"6\": {\"9\": 19, \"10\": 22, \"12\": 30, \"3\": 7, \"7\": 13, \"4\": 19, \"0\": 17, \"2\": 7, \"8\": 25, \"11\": 6, \"6\": 26, \"15\": 17, \"5\": 7, \"1\": 3, \"13\": 9, \"14\": 13}, \"11\": {\"13\": 27, \"6\": 9, \"11\": 144, \"12\": 25, \"2\": 2, \"15\": 12, \"5\": 7, \"9\": 5, \"1\": 1, \"10\": 5, \"0\": 1, \"3\": 1, \"4\": 1}, \"15\": {\"10\": 20, \"15\": 33, \"12\": 18, \"3\": 12, \"0\": 13, \"2\": 12, \"14\": 7, \"13\": 25, \"5\": 15, \"4\": 9, \"9\": 22, \"11\": 5, \"7\": 9, \"8\": 17, \"6\": 19, \"1\": 4}, \"1\": {\"1\": 42, \"3\": 18, \"2\": 21, \"5\": 6, \"4\": 34, \"8\": 13, \"14\": 23, \"6\": 9, \"15\": 3, \"7\": 28, \"9\": 9, \"12\": 2, \"10\": 14, \"0\": 18}}, \"ORACLE.run1_44\": {\"12\": {\"12\": 67, \"7\": 11, \"1\": 60, \"10\": 48, \"3\": 38, \"9\": 5, \"2\": 11}, \"7\": {\"1\": 20, \"7\": 32, \"9\": 33, \"2\": 50, \"6\": 21, \"14\": 3, \"13\": 18, \"10\": 20, \"12\": 7, \"11\": 13, \"3\": 18, \"4\": 5}, \"5\": {\"5\": 99, \"15\": 29, \"4\": 31, \"0\": 29, \"14\": 31, \"8\": 20, \"13\": 1}, \"15\": {\"14\": 35, \"4\": 30, \"5\": 31, \"0\": 48, \"8\": 37, \"15\": 53, \"3\": 6}, \"8\": {\"8\": 75, \"0\": 72, \"15\": 44, \"5\": 35, \"4\": 4, \"14\": 9, \"3\": 1}, \"2\": {\"7\": 34, \"1\": 27, \"10\": 35, \"12\": 19, \"2\": 41, \"9\": 37, \"6\": 14, \"3\": 6, \"13\": 17, \"11\": 7, \"4\": 2, \"14\": 1}, \"13\": {\"13\": 61, \"7\": 36, \"6\": 50, \"11\": 29, \"9\": 39, \"10\": 1, \"12\": 3, \"4\": 6, \"1\": 1, \"2\": 12, \"14\": 2}, \"4\": {\"14\": 64, \"4\": 82, \"3\": 7, \"13\": 10, \"15\": 26, \"0\": 9, \"5\": 24, \"8\": 2, \"9\": 6, \"7\": 3, \"11\": 1, \"6\": 3, \"2\": 2, \"1\": 1}, \"0\": {\"15\": 47, \"8\": 71, \"0\": 58, \"14\": 21, \"5\": 31, \"4\": 12}, \"6\": {\"9\": 22, \"6\": 76, \"2\": 14, \"13\": 54, \"7\": 27, \"11\": 40, \"4\": 4, \"14\": 1, \"10\": 2}, \"9\": {\"9\": 47, \"7\": 46, \"1\": 6, \"13\": 36, \"6\": 30, \"11\": 21, \"12\": 3, \"4\": 10, \"2\": 23, \"10\": 10, \"3\": 6, \"14\": 1, \"5\": 1}, \"11\": {\"11\": 72, \"6\": 58, \"13\": 38, \"2\": 25, \"9\": 15, \"7\": 17, \"10\": 8, \"12\": 3, \"14\": 2, \"3\": 1, \"1\": 1}, \"10\": {\"3\": 21, \"2\": 35, \"10\": 45, \"7\": 21, \"13\": 4, \"12\": 56, \"9\": 11, \"1\": 42, \"6\": 5}, \"14\": {\"4\": 60, \"15\": 30, \"14\": 57, \"3\": 6, \"5\": 45, \"13\": 5, \"8\": 4, \"9\": 5, \"2\": 1, \"6\": 4, \"0\": 14, \"7\": 4, \"1\": 5}, \"1\": {\"1\": 58, \"3\": 45, \"13\": 3, \"2\": 22, \"12\": 49, \"7\": 19, \"10\": 34, \"9\": 5, \"4\": 1, \"15\": 2, \"11\": 1, \"6\": 1}, \"3\": {\"3\": 93, \"7\": 16, \"12\": 43, \"1\": 57, \"2\": 7, \"4\": 3, \"10\": 11, \"9\": 8, \"15\": 1, \"6\": 1}}}, \"per_domain_accuracy\": {\"W_A_3\": {\"accuracy\": 0.9264322916666666, \"source?\": true}, \"W_A_4\": {\"accuracy\": 0.9095052083333334, \"source?\": true}, \"C_A_3\": {\"accuracy\": 0.9890625, \"source?\": true}, \"C_A_4\": {\"accuracy\": 0.99375, \"source?\": true}, \"W_A_1\": {\"accuracy\": 0.939453125, \"source?\": true}, \"C_A_5\": {\"accuracy\": 0.99375, \"source?\": true}, \"C_A_1\": {\"accuracy\": 0.9828125, \"source?\": true}, \"W_A_2\": {\"accuracy\": 0.9303385416666666, \"source?\": true}, \"C_A_2\": {\"accuracy\": 0.98125, \"source?\": true}, \"ORACLE.run1_14\": {\"accuracy\": 0.27578125, \"source?\": false}, \"ORACLE.run1_20\": {\"accuracy\": 0.14036458333333332, \"source?\": false}, \"ORACLE.run1_38\": {\"accuracy\": 0.3182291666666667, \"source?\": false}, \"ORACLE.run1_8\": {\"accuracy\": 0.2078125, \"source?\": false}, \"ORACLE.run1_50\": {\"accuracy\": 0.26666666666666666, \"source?\": false}, \"ORACLE.run1_32\": {\"accuracy\": 0.39010416666666664, \"source?\": false}, \"ORACLE.run1_26\": {\"accuracy\": 0.17786458333333333, \"source?\": false}, \"ORACLE.run1_44\": {\"accuracy\": 0.26458333333333334, \"source?\": false}}}, \"history\": {\"epoch_indices\": [1, 2, 3, 4, 5, 6, 7, 8], \"train_label_loss\": [0.46916788379175717, 0.4709493407380228, 0.28652642017839197, 0.21977160351310046, 0.18507154332045506, 0.1638652353457391, 0.16241348849729417, 0.12763663805881859], \"source_val_label_loss\": [0.8045122623443604, 0.34093767404556274, 0.2847887873649597, 0.23328064382076263, 0.21959128975868225, 0.18620866537094116, 0.21663247048854828, 0.16806377470493317], \"target_val_label_loss\": [2.455402135848999, 2.265352487564087, 2.236074924468994, 2.2170708179473877, 2.2355940341949463, 2.266664743423462, 2.326709032058716, 2.2551302909851074], \"source_val_acc_label\": [0.9083904109589042, 0.9269049657534246, 0.9355736301369864, 0.9475599315068494, 0.9509845890410958, 0.9581549657534246, 0.9493792808219178, 0.9633989726027398], \"target_val_acc_label\": [0.18681640625, 0.26552734375, 0.24303385416666667, 0.25517578125, 0.24794921875, 0.23014322916666666, 0.21715494791666667, 0.23544921875]}, \"dataset_metrics\": {\"source\": {\"train\": {\"n_unique_x\": 56700, \"n_unique_y\": 130, \"n_batch/episode\": 2079}, \"val\": {\"n_unique_x\": 12132, \"n_unique_y\": 130, \"n_batch/episode\": 292}, \"test\": {\"n_unique_x\": 12132, \"n_unique_y\": 130, \"n_batch/episode\": 292}}, \"target\": {\"train\": {\"n_unique_x\": 179200, \"n_unique_y\": 16, \"n_batch/episode\": 6720}, \"val\": {\"n_unique_x\": 38400, \"n_unique_y\": 16, \"n_batch/episode\": 960}, \"test\": {\"n_unique_x\": 38400, \"n_unique_y\": 16, \"n_batch/episode\": 960}}}}'"
      ]
     },
     "execution_count": 29,
     "metadata": {},
     "output_type": "execute_result"
    }
   ],
   "source": [
    "json.dumps(experiment)"
   ]
  }
 ],
 "metadata": {
  "celltoolbar": "Tags",
  "kernelspec": {
   "display_name": "Python 3 (ipykernel)",
   "language": "python",
   "name": "python3"
  },
  "language_info": {
   "codemirror_mode": {
    "name": "ipython",
    "version": 3
   },
   "file_extension": ".py",
   "mimetype": "text/x-python",
   "name": "python",
   "nbconvert_exporter": "python",
   "pygments_lexer": "ipython3",
   "version": "3.8.10"
  },
  "papermill": {
   "default_parameters": {},
   "duration": 624.719228,
   "end_time": "2022-03-18T09:20:08.861269",
   "environment_variables": {},
   "exception": null,
   "input_path": "/mnt/wd500GB/CSC500/csc500-main/csc500-notebooks/templates/tl_ptn_template.ipynb",
   "output_path": "trial.ipynb",
   "parameters": {
    "parameters": {
     "BEST_MODEL_PATH": "./best_model.pth",
     "NUM_LOGS_PER_EPOCH": 10,
     "criteria_for_best": "target_loss",
     "dataset_seed": 1337,
     "datasets": [
      {
       "domain_prefix": "C_A_",
       "domains": [
        1,
        2,
        3,
        4,
        5
       ],
       "episode_transforms": [],
       "labels": [
        "1-10.",
        "1-11.",
        "1-15.",
        "1-16.",
        "1-17.",
        "1-18.",
        "1-19.",
        "10-4.",
        "10-7.",
        "11-1.",
        "11-14.",
        "11-17.",
        "11-20.",
        "11-7.",
        "13-20.",
        "13-8.",
        "14-10.",
        "14-11.",
        "14-14.",
        "14-7.",
        "15-1.",
        "15-20.",
        "16-1.",
        "16-16.",
        "17-10.",
        "17-11.",
        "17-2.",
        "19-1.",
        "19-16.",
        "19-19.",
        "19-20.",
        "19-3.",
        "2-10.",
        "2-11.",
        "2-17.",
        "2-18.",
        "2-20.",
        "2-3.",
        "2-4.",
        "2-5.",
        "2-6.",
        "2-7.",
        "2-8.",
        "3-13.",
        "3-18.",
        "3-3.",
        "4-1.",
        "4-10.",
        "4-11.",
        "4-19.",
        "5-5.",
        "6-15.",
        "7-10.",
        "7-14.",
        "8-18.",
        "8-20.",
        "8-3.",
        "8-8."
       ],
       "num_examples_per_domain_per_label": 100,
       "pickle_path": "/mnt/wd500GB/CSC500/csc500-main/datasets/cores.stratified_ds.2022A.pkl",
       "source_or_target_dataset": "source",
       "x_transforms": [
        "unit_power",
        "jitter_256_5",
        "take_200"
       ]
      },
      {
       "domain_prefix": "W_A_",
       "domains": [
        1,
        2,
        3,
        4
       ],
       "episode_transforms": [],
       "labels": [
        "1-10",
        "1-12",
        "1-14",
        "1-16",
        "1-18",
        "1-19",
        "1-8",
        "10-11",
        "10-17",
        "10-4",
        "10-7",
        "11-1",
        "11-10",
        "11-19",
        "11-20",
        "11-4",
        "11-7",
        "12-19",
        "12-20",
        "12-7",
        "13-14",
        "13-18",
        "13-19",
        "13-20",
        "13-3",
        "13-7",
        "14-10",
        "14-11",
        "14-12",
        "14-13",
        "14-14",
        "14-19",
        "14-20",
        "14-7",
        "14-8",
        "14-9",
        "15-1",
        "15-19",
        "15-6",
        "16-1",
        "16-16",
        "16-19",
        "16-20",
        "17-10",
        "17-11",
        "18-1",
        "18-10",
        "18-11",
        "18-12",
        "18-13",
        "18-14",
        "18-15",
        "18-16",
        "18-17",
        "18-19",
        "18-2",
        "18-20",
        "18-4",
        "18-5",
        "18-7",
        "18-8",
        "18-9",
        "19-1",
        "19-10",
        "19-11",
        "19-12",
        "19-13",
        "19-14",
        "19-15",
        "19-19",
        "19-2",
        "19-20",
        "19-3",
        "19-4",
        "19-6",
        "19-7",
        "19-8",
        "19-9",
        "2-1",
        "2-13",
        "2-15",
        "2-3",
        "2-4",
        "2-5",
        "2-6",
        "2-7",
        "2-8",
        "20-1",
        "20-12",
        "20-14",
        "20-15",
        "20-16",
        "20-18",
        "20-19",
        "20-20",
        "20-3",
        "20-4",
        "20-5",
        "20-7",
        "20-8",
        "3-1",
        "3-13",
        "3-18",
        "3-2",
        "3-8",
        "4-1",
        "4-10",
        "4-11",
        "5-1",
        "5-5",
        "6-1",
        "6-15",
        "6-6",
        "7-10",
        "7-11",
        "7-12",
        "7-13",
        "7-14",
        "7-7",
        "7-8",
        "7-9",
        "8-1",
        "8-13",
        "8-14",
        "8-18",
        "8-20",
        "8-3",
        "8-8",
        "9-1",
        "9-7"
       ],
       "num_examples_per_domain_per_label": 100,
       "pickle_path": "/mnt/wd500GB/CSC500/csc500-main/datasets/wisig.node3-19.stratified_ds.2022A.pkl",
       "source_or_target_dataset": "source",
       "x_transforms": [
        "unit_power",
        "jitter_256_5",
        "take_200"
       ]
      },
      {
       "domain_prefix": "ORACLE.run1_",
       "domains": [
        32,
        38,
        8,
        44,
        14,
        50,
        20,
        26
       ],
       "episode_transforms": [],
       "labels": [
        "3123D52",
        "3123D65",
        "3123D79",
        "3123D80",
        "3123D54",
        "3123D70",
        "3123D7B",
        "3123D89",
        "3123D58",
        "3123D76",
        "3123D7D",
        "3123EFE",
        "3123D64",
        "3123D78",
        "3123D7E",
        "3124E4A"
       ],
       "num_examples_per_domain_per_label": 2000,
       "pickle_path": "/mnt/wd500GB/CSC500/csc500-main/datasets/oracle.Run1_framed_2000Examples_stratified_ds.2022A.pkl",
       "source_or_target_dataset": "target",
       "x_transforms": [
        "unit_power",
        "jitter_256_5",
        "take_200",
        "resample_20Msps_to_25Msps"
       ]
      }
     ],
     "device": "cuda",
     "experiment_name": "tl_3-jitter5:cores+wisig -> oracle.run1.framed",
     "lr": 0.001,
     "n_epoch": 50,
     "n_query": 2,
     "n_shot": 3,
     "n_way": 16,
     "patience": 3,
     "seed": 1337,
     "test_k_factor": 2,
     "torch_default_dtype": "torch.float32",
     "train_k_factor": 3,
     "val_k_factor": 2,
     "x_net": [
      {
       "class": "nnReshape",
       "kargs": {
        "shape": [
         -1,
         1,
         2,
         256
        ]
       }
      },
      {
       "class": "Conv2d",
       "kargs": {
        "bias": false,
        "in_channels": 1,
        "kernel_size": [
         1,
         7
        ],
        "out_channels": 256,
        "padding": [
         0,
         3
        ]
       }
      },
      {
       "class": "ReLU",
       "kargs": {
        "inplace": true
       }
      },
      {
       "class": "BatchNorm2d",
       "kargs": {
        "num_features": 256
       }
      },
      {
       "class": "Conv2d",
       "kargs": {
        "bias": true,
        "in_channels": 256,
        "kernel_size": [
         2,
         7
        ],
        "out_channels": 80,
        "padding": [
         0,
         3
        ]
       }
      },
      {
       "class": "ReLU",
       "kargs": {
        "inplace": true
       }
      },
      {
       "class": "BatchNorm2d",
       "kargs": {
        "num_features": 80
       }
      },
      {
       "class": "Flatten",
       "kargs": {}
      },
      {
       "class": "Linear",
       "kargs": {
        "in_features": 20480,
        "out_features": 256
       }
      },
      {
       "class": "ReLU",
       "kargs": {
        "inplace": true
       }
      },
      {
       "class": "BatchNorm1d",
       "kargs": {
        "num_features": 256
       }
      },
      {
       "class": "Linear",
       "kargs": {
        "in_features": 256,
        "out_features": 256
       }
      }
     ]
    }
   },
   "start_time": "2022-03-18T09:09:44.142041",
   "version": "2.3.4"
  }
 },
 "nbformat": 4,
 "nbformat_minor": 5
}