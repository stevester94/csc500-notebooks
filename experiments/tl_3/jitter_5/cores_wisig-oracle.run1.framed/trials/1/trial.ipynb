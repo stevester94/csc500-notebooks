{
 "cells": [
  {
   "cell_type": "markdown",
   "id": "9fea5f46",
   "metadata": {
    "papermill": {
     "duration": 0.014013,
     "end_time": "2022-03-18T09:20:09.555196",
     "exception": false,
     "start_time": "2022-03-18T09:20:09.541183",
     "status": "completed"
    },
    "tags": []
   },
   "source": [
    "# Transfer Learning Template"
   ]
  },
  {
   "cell_type": "code",
   "execution_count": 1,
   "id": "0902182a",
   "metadata": {
    "execution": {
     "iopub.execute_input": "2022-03-18T09:20:09.593422Z",
     "iopub.status.busy": "2022-03-18T09:20:09.587851Z",
     "iopub.status.idle": "2022-03-18T09:20:10.500117Z",
     "shell.execute_reply": "2022-03-18T09:20:10.500344Z"
    },
    "papermill": {
     "duration": 0.932257,
     "end_time": "2022-03-18T09:20:10.500455",
     "exception": false,
     "start_time": "2022-03-18T09:20:09.568198",
     "status": "completed"
    },
    "tags": []
   },
   "outputs": [],
   "source": [
    "%load_ext autoreload\n",
    "%autoreload 2\n",
    "%matplotlib inline\n",
    "\n",
    "    \n",
    "import os, json, sys, time, random\n",
    "import numpy as np\n",
    "import torch\n",
    "from torch.optim import Adam\n",
    "from  easydict import EasyDict\n",
    "import matplotlib.pyplot as plt\n",
    "\n",
    "from steves_models.steves_ptn import Steves_Prototypical_Network\n",
    "\n",
    "from steves_utils.lazy_iterable_wrapper import Lazy_Iterable_Wrapper\n",
    "from steves_utils.iterable_aggregator import Iterable_Aggregator\n",
    "from steves_utils.ptn_train_eval_test_jig import  PTN_Train_Eval_Test_Jig\n",
    "from steves_utils.torch_sequential_builder import build_sequential\n",
    "from steves_utils.torch_utils import get_dataset_metrics, ptn_confusion_by_domain_over_dataloader\n",
    "from steves_utils.utils_v2 import (per_domain_accuracy_from_confusion, get_datasets_base_path)\n",
    "from steves_utils.PTN.utils import independent_accuracy_assesment\n",
    "\n",
    "from torch.utils.data import DataLoader\n",
    "\n",
    "from steves_utils.stratified_dataset.episodic_accessor import Episodic_Accessor_Factory\n",
    "\n",
    "from steves_utils.ptn_do_report import (\n",
    "    get_loss_curve,\n",
    "    get_results_table,\n",
    "    get_parameters_table,\n",
    "    get_domain_accuracies,\n",
    ")\n",
    "\n",
    "from steves_utils.transforms import get_chained_transform"
   ]
  },
  {
   "cell_type": "markdown",
   "id": "41c840b4",
   "metadata": {
    "papermill": {
     "duration": 0.013243,
     "end_time": "2022-03-18T09:20:10.527376",
     "exception": false,
     "start_time": "2022-03-18T09:20:10.514133",
     "status": "completed"
    },
    "tags": []
   },
   "source": [
    "# Allowed Parameters\n",
    "These are allowed parameters, not defaults\n",
    "Each of these values need to be present in the injected parameters (the notebook will raise an exception if they are not present)\n",
    "\n",
    "Papermill uses the cell tag \"parameters\" to inject the real parameters below this cell.\n",
    "Enable tags to see what I mean"
   ]
  },
  {
   "cell_type": "code",
   "execution_count": 2,
   "id": "fd44eb83",
   "metadata": {
    "execution": {
     "iopub.execute_input": "2022-03-18T09:20:10.558354Z",
     "iopub.status.busy": "2022-03-18T09:20:10.558070Z",
     "iopub.status.idle": "2022-03-18T09:20:10.571220Z",
     "shell.execute_reply": "2022-03-18T09:20:10.571601Z"
    },
    "papermill": {
     "duration": 0.029863,
     "end_time": "2022-03-18T09:20:10.571709",
     "exception": false,
     "start_time": "2022-03-18T09:20:10.541846",
     "status": "completed"
    },
    "tags": []
   },
   "outputs": [],
   "source": [
    "required_parameters = {\n",
    "    \"experiment_name\",\n",
    "    \"lr\",\n",
    "    \"device\",\n",
    "    \"seed\",\n",
    "    \"dataset_seed\",\n",
    "    \"n_shot\",\n",
    "    \"n_query\",\n",
    "    \"n_way\",\n",
    "    \"train_k_factor\",\n",
    "    \"val_k_factor\",\n",
    "    \"test_k_factor\",\n",
    "    \"n_epoch\",\n",
    "    \"patience\",\n",
    "    \"criteria_for_best\",\n",
    "    \"x_net\",\n",
    "    \"datasets\",\n",
    "    \"torch_default_dtype\",\n",
    "    \"NUM_LOGS_PER_EPOCH\",\n",
    "    \"BEST_MODEL_PATH\",\n",
    "    \"x_shape\",\n",
    "}"
   ]
  },
  {
   "cell_type": "code",
   "execution_count": 3,
   "id": "fa3f0049",
   "metadata": {
    "execution": {
     "iopub.execute_input": "2022-03-18T09:20:10.609768Z",
     "iopub.status.busy": "2022-03-18T09:20:10.609493Z",
     "iopub.status.idle": "2022-03-18T09:20:10.622254Z",
     "shell.execute_reply": "2022-03-18T09:20:10.621883Z"
    },
    "papermill": {
     "duration": 0.034214,
     "end_time": "2022-03-18T09:20:10.622344",
     "exception": false,
     "start_time": "2022-03-18T09:20:10.588130",
     "status": "completed"
    },
    "tags": [
     "parameters"
    ]
   },
   "outputs": [],
   "source": [
    "from steves_utils.CORES.utils import (\n",
    "    ALL_NODES,\n",
    "    ALL_NODES_MINIMUM_1000_EXAMPLES,\n",
    "    ALL_DAYS\n",
    ")\n",
    "\n",
    "from steves_utils.ORACLE.utils_v2 import (\n",
    "    ALL_DISTANCES_FEET_NARROWED,\n",
    "    ALL_RUNS,\n",
    "    ALL_SERIAL_NUMBERS,\n",
    ")\n",
    "\n",
    "standalone_parameters = {}\n",
    "standalone_parameters[\"experiment_name\"] = \"STANDALONE PTN\"\n",
    "standalone_parameters[\"lr\"] = 0.001\n",
    "standalone_parameters[\"device\"] = \"cuda\"\n",
    "\n",
    "standalone_parameters[\"seed\"] = 1337\n",
    "standalone_parameters[\"dataset_seed\"] = 1337\n",
    "\n",
    "standalone_parameters[\"n_way\"] = 8\n",
    "standalone_parameters[\"n_shot\"] = 3\n",
    "standalone_parameters[\"n_query\"]  = 2\n",
    "standalone_parameters[\"train_k_factor\"] = 1\n",
    "standalone_parameters[\"val_k_factor\"] = 2\n",
    "standalone_parameters[\"test_k_factor\"] = 2\n",
    "\n",
    "\n",
    "standalone_parameters[\"n_epoch\"] = 50\n",
    "\n",
    "standalone_parameters[\"patience\"] = 10\n",
    "standalone_parameters[\"criteria_for_best\"] = \"source_loss\"\n",
    "\n",
    "standalone_parameters[\"datasets\"] = [\n",
    "    {\n",
    "        \"labels\": ALL_SERIAL_NUMBERS,\n",
    "        \"domains\": ALL_DISTANCES_FEET_NARROWED,\n",
    "        \"num_examples_per_domain_per_label\": 100,\n",
    "        \"pickle_path\": os.path.join(get_datasets_base_path(), \"oracle.Run1_framed_2000Examples_stratified_ds.2022A.pkl\"),\n",
    "        \"source_or_target_dataset\": \"source\",\n",
    "        \"x_transforms\": [\"unit_mag\", \"minus_two\"],\n",
    "        \"episode_transforms\": [],\n",
    "        \"domain_prefix\": \"ORACLE_\"\n",
    "    },\n",
    "    {\n",
    "        \"labels\": ALL_NODES,\n",
    "        \"domains\": ALL_DAYS,\n",
    "        \"num_examples_per_domain_per_label\": 100,\n",
    "        \"pickle_path\": os.path.join(get_datasets_base_path(), \"cores.stratified_ds.2022A.pkl\"),\n",
    "        \"source_or_target_dataset\": \"target\",\n",
    "        \"x_transforms\": [\"unit_power\", \"times_zero\"],\n",
    "        \"episode_transforms\": [],\n",
    "        \"domain_prefix\": \"CORES_\"\n",
    "    }   \n",
    "]\n",
    "\n",
    "standalone_parameters[\"torch_default_dtype\"] = \"torch.float32\" \n",
    "\n",
    "\n",
    "\n",
    "standalone_parameters[\"x_net\"] =     [\n",
    "    {\"class\": \"nnReshape\", \"kargs\": {\"shape\":[-1, 1, 2, 256]}},\n",
    "    {\"class\": \"Conv2d\", \"kargs\": { \"in_channels\":1, \"out_channels\":256, \"kernel_size\":(1,7), \"bias\":False, \"padding\":(0,3), },},\n",
    "    {\"class\": \"ReLU\", \"kargs\": {\"inplace\": True}},\n",
    "    {\"class\": \"BatchNorm2d\", \"kargs\": {\"num_features\":256}},\n",
    "\n",
    "    {\"class\": \"Conv2d\", \"kargs\": { \"in_channels\":256, \"out_channels\":80, \"kernel_size\":(2,7), \"bias\":True, \"padding\":(0,3), },},\n",
    "    {\"class\": \"ReLU\", \"kargs\": {\"inplace\": True}},\n",
    "    {\"class\": \"BatchNorm2d\", \"kargs\": {\"num_features\":80}},\n",
    "    {\"class\": \"Flatten\", \"kargs\": {}},\n",
    "\n",
    "    {\"class\": \"Linear\", \"kargs\": {\"in_features\": 80*256, \"out_features\": 256}}, # 80 units per IQ pair\n",
    "    {\"class\": \"ReLU\", \"kargs\": {\"inplace\": True}},\n",
    "    {\"class\": \"BatchNorm1d\", \"kargs\": {\"num_features\":256}},\n",
    "\n",
    "    {\"class\": \"Linear\", \"kargs\": {\"in_features\": 256, \"out_features\": 256}},\n",
    "]\n",
    "\n",
    "# Parameters relevant to results\n",
    "# These parameters will basically never need to change\n",
    "standalone_parameters[\"NUM_LOGS_PER_EPOCH\"] = 10\n",
    "standalone_parameters[\"BEST_MODEL_PATH\"] = \"./best_model.pth\"\n",
    "\n",
    "\n",
    "\n",
    "\n"
   ]
  },
  {
   "cell_type": "code",
   "execution_count": 4,
   "id": "8a7ae954",
   "metadata": {
    "execution": {
     "iopub.execute_input": "2022-03-18T09:20:10.665381Z",
     "iopub.status.busy": "2022-03-18T09:20:10.665063Z",
     "iopub.status.idle": "2022-03-18T09:20:10.678274Z",
     "shell.execute_reply": "2022-03-18T09:20:10.677885Z"
    },
    "papermill": {
     "duration": 0.038701,
     "end_time": "2022-03-18T09:20:10.678361",
     "exception": false,
     "start_time": "2022-03-18T09:20:10.639660",
     "status": "completed"
    },
    "tags": [
     "injected-parameters"
    ]
   },
   "outputs": [],
   "source": [
    "# Parameters\n",
    "parameters = {\n",
    "    \"experiment_name\": \"tl_3-jitter5:cores+wisig -> oracle.run1.framed\",\n",
    "    \"device\": \"cuda\",\n",
    "    \"lr\": 0.001,\n",
    "    \"seed\": 1337,\n",
    "    \"dataset_seed\": 1337,\n",
    "    \"n_shot\": 3,\n",
    "    \"n_query\": 2,\n",
    "    \"train_k_factor\": 3,\n",
    "    \"val_k_factor\": 2,\n",
    "    \"test_k_factor\": 2,\n",
    "    \"torch_default_dtype\": \"torch.float32\",\n",
    "    \"n_epoch\": 50,\n",
    "    \"patience\": 3,\n",
    "    \"criteria_for_best\": \"target_loss\",\n",
    "    \"x_net\": [\n",
    "        {\"class\": \"nnReshape\", \"kargs\": {\"shape\": [-1, 1, 2, 256]}},\n",
    "        {\n",
    "            \"class\": \"Conv2d\",\n",
    "            \"kargs\": {\n",
    "                \"in_channels\": 1,\n",
    "                \"out_channels\": 256,\n",
    "                \"kernel_size\": [1, 7],\n",
    "                \"bias\": False,\n",
    "                \"padding\": [0, 3],\n",
    "            },\n",
    "        },\n",
    "        {\"class\": \"ReLU\", \"kargs\": {\"inplace\": True}},\n",
    "        {\"class\": \"BatchNorm2d\", \"kargs\": {\"num_features\": 256}},\n",
    "        {\n",
    "            \"class\": \"Conv2d\",\n",
    "            \"kargs\": {\n",
    "                \"in_channels\": 256,\n",
    "                \"out_channels\": 80,\n",
    "                \"kernel_size\": [2, 7],\n",
    "                \"bias\": True,\n",
    "                \"padding\": [0, 3],\n",
    "            },\n",
    "        },\n",
    "        {\"class\": \"ReLU\", \"kargs\": {\"inplace\": True}},\n",
    "        {\"class\": \"BatchNorm2d\", \"kargs\": {\"num_features\": 80}},\n",
    "        {\"class\": \"Flatten\", \"kargs\": {}},\n",
    "        {\"class\": \"Linear\", \"kargs\": {\"in_features\": 20480, \"out_features\": 256}},\n",
    "        {\"class\": \"ReLU\", \"kargs\": {\"inplace\": True}},\n",
    "        {\"class\": \"BatchNorm1d\", \"kargs\": {\"num_features\": 256}},\n",
    "        {\"class\": \"Linear\", \"kargs\": {\"in_features\": 256, \"out_features\": 256}},\n",
    "    ],\n",
    "    \"NUM_LOGS_PER_EPOCH\": 10,\n",
    "    \"BEST_MODEL_PATH\": \"./best_model.pth\",\n",
    "    \"n_way\": 16,\n",
    "    \"datasets\": [\n",
    "        {\n",
    "            \"labels\": [\n",
    "                \"1-10.\",\n",
    "                \"1-11.\",\n",
    "                \"1-15.\",\n",
    "                \"1-16.\",\n",
    "                \"1-17.\",\n",
    "                \"1-18.\",\n",
    "                \"1-19.\",\n",
    "                \"10-4.\",\n",
    "                \"10-7.\",\n",
    "                \"11-1.\",\n",
    "                \"11-14.\",\n",
    "                \"11-17.\",\n",
    "                \"11-20.\",\n",
    "                \"11-7.\",\n",
    "                \"13-20.\",\n",
    "                \"13-8.\",\n",
    "                \"14-10.\",\n",
    "                \"14-11.\",\n",
    "                \"14-14.\",\n",
    "                \"14-7.\",\n",
    "                \"15-1.\",\n",
    "                \"15-20.\",\n",
    "                \"16-1.\",\n",
    "                \"16-16.\",\n",
    "                \"17-10.\",\n",
    "                \"17-11.\",\n",
    "                \"17-2.\",\n",
    "                \"19-1.\",\n",
    "                \"19-16.\",\n",
    "                \"19-19.\",\n",
    "                \"19-20.\",\n",
    "                \"19-3.\",\n",
    "                \"2-10.\",\n",
    "                \"2-11.\",\n",
    "                \"2-17.\",\n",
    "                \"2-18.\",\n",
    "                \"2-20.\",\n",
    "                \"2-3.\",\n",
    "                \"2-4.\",\n",
    "                \"2-5.\",\n",
    "                \"2-6.\",\n",
    "                \"2-7.\",\n",
    "                \"2-8.\",\n",
    "                \"3-13.\",\n",
    "                \"3-18.\",\n",
    "                \"3-3.\",\n",
    "                \"4-1.\",\n",
    "                \"4-10.\",\n",
    "                \"4-11.\",\n",
    "                \"4-19.\",\n",
    "                \"5-5.\",\n",
    "                \"6-15.\",\n",
    "                \"7-10.\",\n",
    "                \"7-14.\",\n",
    "                \"8-18.\",\n",
    "                \"8-20.\",\n",
    "                \"8-3.\",\n",
    "                \"8-8.\",\n",
    "            ],\n",
    "            \"domains\": [1, 2, 3, 4, 5],\n",
    "            \"num_examples_per_domain_per_label\": 100,\n",
    "            \"pickle_path\": \"/mnt/wd500GB/CSC500/csc500-main/datasets/cores.stratified_ds.2022A.pkl\",\n",
    "            \"source_or_target_dataset\": \"source\",\n",
    "            \"x_transforms\": [\"unit_mag\", \"jitter_256_5\", \"take_200\"],\n",
    "            \"episode_transforms\": [],\n",
    "            \"domain_prefix\": \"C_A_\",\n",
    "        },\n",
    "        {\n",
    "            \"labels\": [\n",
    "                \"1-10\",\n",
    "                \"1-12\",\n",
    "                \"1-14\",\n",
    "                \"1-16\",\n",
    "                \"1-18\",\n",
    "                \"1-19\",\n",
    "                \"1-8\",\n",
    "                \"10-11\",\n",
    "                \"10-17\",\n",
    "                \"10-4\",\n",
    "                \"10-7\",\n",
    "                \"11-1\",\n",
    "                \"11-10\",\n",
    "                \"11-19\",\n",
    "                \"11-20\",\n",
    "                \"11-4\",\n",
    "                \"11-7\",\n",
    "                \"12-19\",\n",
    "                \"12-20\",\n",
    "                \"12-7\",\n",
    "                \"13-14\",\n",
    "                \"13-18\",\n",
    "                \"13-19\",\n",
    "                \"13-20\",\n",
    "                \"13-3\",\n",
    "                \"13-7\",\n",
    "                \"14-10\",\n",
    "                \"14-11\",\n",
    "                \"14-12\",\n",
    "                \"14-13\",\n",
    "                \"14-14\",\n",
    "                \"14-19\",\n",
    "                \"14-20\",\n",
    "                \"14-7\",\n",
    "                \"14-8\",\n",
    "                \"14-9\",\n",
    "                \"15-1\",\n",
    "                \"15-19\",\n",
    "                \"15-6\",\n",
    "                \"16-1\",\n",
    "                \"16-16\",\n",
    "                \"16-19\",\n",
    "                \"16-20\",\n",
    "                \"17-10\",\n",
    "                \"17-11\",\n",
    "                \"18-1\",\n",
    "                \"18-10\",\n",
    "                \"18-11\",\n",
    "                \"18-12\",\n",
    "                \"18-13\",\n",
    "                \"18-14\",\n",
    "                \"18-15\",\n",
    "                \"18-16\",\n",
    "                \"18-17\",\n",
    "                \"18-19\",\n",
    "                \"18-2\",\n",
    "                \"18-20\",\n",
    "                \"18-4\",\n",
    "                \"18-5\",\n",
    "                \"18-7\",\n",
    "                \"18-8\",\n",
    "                \"18-9\",\n",
    "                \"19-1\",\n",
    "                \"19-10\",\n",
    "                \"19-11\",\n",
    "                \"19-12\",\n",
    "                \"19-13\",\n",
    "                \"19-14\",\n",
    "                \"19-15\",\n",
    "                \"19-19\",\n",
    "                \"19-2\",\n",
    "                \"19-20\",\n",
    "                \"19-3\",\n",
    "                \"19-4\",\n",
    "                \"19-6\",\n",
    "                \"19-7\",\n",
    "                \"19-8\",\n",
    "                \"19-9\",\n",
    "                \"2-1\",\n",
    "                \"2-13\",\n",
    "                \"2-15\",\n",
    "                \"2-3\",\n",
    "                \"2-4\",\n",
    "                \"2-5\",\n",
    "                \"2-6\",\n",
    "                \"2-7\",\n",
    "                \"2-8\",\n",
    "                \"20-1\",\n",
    "                \"20-12\",\n",
    "                \"20-14\",\n",
    "                \"20-15\",\n",
    "                \"20-16\",\n",
    "                \"20-18\",\n",
    "                \"20-19\",\n",
    "                \"20-20\",\n",
    "                \"20-3\",\n",
    "                \"20-4\",\n",
    "                \"20-5\",\n",
    "                \"20-7\",\n",
    "                \"20-8\",\n",
    "                \"3-1\",\n",
    "                \"3-13\",\n",
    "                \"3-18\",\n",
    "                \"3-2\",\n",
    "                \"3-8\",\n",
    "                \"4-1\",\n",
    "                \"4-10\",\n",
    "                \"4-11\",\n",
    "                \"5-1\",\n",
    "                \"5-5\",\n",
    "                \"6-1\",\n",
    "                \"6-15\",\n",
    "                \"6-6\",\n",
    "                \"7-10\",\n",
    "                \"7-11\",\n",
    "                \"7-12\",\n",
    "                \"7-13\",\n",
    "                \"7-14\",\n",
    "                \"7-7\",\n",
    "                \"7-8\",\n",
    "                \"7-9\",\n",
    "                \"8-1\",\n",
    "                \"8-13\",\n",
    "                \"8-14\",\n",
    "                \"8-18\",\n",
    "                \"8-20\",\n",
    "                \"8-3\",\n",
    "                \"8-8\",\n",
    "                \"9-1\",\n",
    "                \"9-7\",\n",
    "            ],\n",
    "            \"domains\": [1, 2, 3, 4],\n",
    "            \"num_examples_per_domain_per_label\": 100,\n",
    "            \"pickle_path\": \"/mnt/wd500GB/CSC500/csc500-main/datasets/wisig.node3-19.stratified_ds.2022A.pkl\",\n",
    "            \"source_or_target_dataset\": \"source\",\n",
    "            \"x_transforms\": [\"unit_mag\", \"jitter_256_5\", \"take_200\"],\n",
    "            \"episode_transforms\": [],\n",
    "            \"domain_prefix\": \"W_A_\",\n",
    "        },\n",
    "        {\n",
    "            \"labels\": [\n",
    "                \"3123D52\",\n",
    "                \"3123D65\",\n",
    "                \"3123D79\",\n",
    "                \"3123D80\",\n",
    "                \"3123D54\",\n",
    "                \"3123D70\",\n",
    "                \"3123D7B\",\n",
    "                \"3123D89\",\n",
    "                \"3123D58\",\n",
    "                \"3123D76\",\n",
    "                \"3123D7D\",\n",
    "                \"3123EFE\",\n",
    "                \"3123D64\",\n",
    "                \"3123D78\",\n",
    "                \"3123D7E\",\n",
    "                \"3124E4A\",\n",
    "            ],\n",
    "            \"domains\": [32, 38, 8, 44, 14, 50, 20, 26],\n",
    "            \"num_examples_per_domain_per_label\": 2000,\n",
    "            \"pickle_path\": \"/mnt/wd500GB/CSC500/csc500-main/datasets/oracle.Run1_framed_2000Examples_stratified_ds.2022A.pkl\",\n",
    "            \"source_or_target_dataset\": \"target\",\n",
    "            \"x_transforms\": [\n",
    "                \"unit_mag\",\n",
    "                \"jitter_256_5\",\n",
    "                \"take_200\",\n",
    "                \"resample_20Msps_to_25Msps\",\n",
    "            ],\n",
    "            \"episode_transforms\": [],\n",
    "            \"domain_prefix\": \"ORACLE.run1_\",\n",
    "        },\n",
    "    ],\n",
    "}\n"
   ]
  },
  {
   "cell_type": "code",
   "execution_count": 5,
   "id": "8fa1cc33",
   "metadata": {
    "execution": {
     "iopub.execute_input": "2022-03-18T09:20:10.712321Z",
     "iopub.status.busy": "2022-03-18T09:20:10.712058Z",
     "iopub.status.idle": "2022-03-18T09:20:10.727946Z",
     "shell.execute_reply": "2022-03-18T09:20:10.727501Z"
    },
    "papermill": {
     "duration": 0.032552,
     "end_time": "2022-03-18T09:20:10.728045",
     "exception": false,
     "start_time": "2022-03-18T09:20:10.695493",
     "status": "completed"
    },
    "tags": []
   },
   "outputs": [],
   "source": [
    "# Set this to True if you want to run this template directly\n",
    "STANDALONE = False\n",
    "if STANDALONE:\n",
    "    print(\"parameters not injected, running with standalone_parameters\")\n",
    "    parameters = standalone_parameters\n",
    "\n",
    "if not 'parameters' in locals() and not 'parameters' in globals():\n",
    "    raise Exception(\"Parameter injection failed\")\n",
    "\n",
    "#Use an easy dict for all the parameters\n",
    "p = EasyDict(parameters)\n",
    "\n",
    "if \"x_shape\" not in p:\n",
    "    p.x_shape = [2,256] # Default to this if we dont supply x_shape\n",
    "\n",
    "\n",
    "supplied_keys = set(p.keys())\n",
    "\n",
    "if  supplied_keys != required_parameters:\n",
    "    print(\"Parameters are incorrect\")\n",
    "    if len(supplied_keys - required_parameters)>0: print(\"Shouldn't have:\", str(supplied_keys - required_parameters))\n",
    "    if len(required_parameters - supplied_keys)>0: print(\"Need to have:\", str(required_parameters - supplied_keys))\n",
    "    raise RuntimeError(\"Parameters are incorrect\")"
   ]
  },
  {
   "cell_type": "code",
   "execution_count": 6,
   "id": "3a028d58",
   "metadata": {
    "execution": {
     "iopub.execute_input": "2022-03-18T09:20:10.763317Z",
     "iopub.status.busy": "2022-03-18T09:20:10.763040Z",
     "iopub.status.idle": "2022-03-18T09:20:10.775828Z",
     "shell.execute_reply": "2022-03-18T09:20:10.775526Z"
    },
    "papermill": {
     "duration": 0.028569,
     "end_time": "2022-03-18T09:20:10.775896",
     "exception": false,
     "start_time": "2022-03-18T09:20:10.747327",
     "status": "completed"
    },
    "tags": []
   },
   "outputs": [],
   "source": [
    "###################################\n",
    "# Set the RNGs and make it all deterministic\n",
    "###################################\n",
    "np.random.seed(p.seed)\n",
    "random.seed(p.seed)\n",
    "torch.manual_seed(p.seed)\n",
    "\n",
    "torch.use_deterministic_algorithms(True) "
   ]
  },
  {
   "cell_type": "code",
   "execution_count": 7,
   "id": "b691acf6",
   "metadata": {
    "execution": {
     "iopub.execute_input": "2022-03-18T09:20:10.809402Z",
     "iopub.status.busy": "2022-03-18T09:20:10.809155Z",
     "iopub.status.idle": "2022-03-18T09:20:10.825720Z",
     "shell.execute_reply": "2022-03-18T09:20:10.825301Z"
    },
    "papermill": {
     "duration": 0.031922,
     "end_time": "2022-03-18T09:20:10.825813",
     "exception": false,
     "start_time": "2022-03-18T09:20:10.793891",
     "status": "completed"
    },
    "tags": []
   },
   "outputs": [],
   "source": [
    "###########################################\n",
    "# The stratified datasets honor this\n",
    "###########################################\n",
    "torch.set_default_dtype(eval(p.torch_default_dtype))"
   ]
  },
  {
   "cell_type": "code",
   "execution_count": 8,
   "id": "b5fba671",
   "metadata": {
    "execution": {
     "iopub.execute_input": "2022-03-18T09:20:10.859224Z",
     "iopub.status.busy": "2022-03-18T09:20:10.858979Z",
     "iopub.status.idle": "2022-03-18T09:20:10.899143Z",
     "shell.execute_reply": "2022-03-18T09:20:10.898696Z"
    },
    "papermill": {
     "duration": 0.055471,
     "end_time": "2022-03-18T09:20:10.899250",
     "exception": false,
     "start_time": "2022-03-18T09:20:10.843779",
     "status": "completed"
    },
    "tags": []
   },
   "outputs": [],
   "source": [
    "###################################\n",
    "# Build the network(s)\n",
    "# Note: It's critical to do this AFTER setting the RNG\n",
    "###################################\n",
    "x_net = build_sequential(p.x_net)"
   ]
  },
  {
   "cell_type": "code",
   "execution_count": 9,
   "id": "5d7e61cc",
   "metadata": {
    "execution": {
     "iopub.execute_input": "2022-03-18T09:20:10.934605Z",
     "iopub.status.busy": "2022-03-18T09:20:10.934355Z",
     "iopub.status.idle": "2022-03-18T09:20:10.949087Z",
     "shell.execute_reply": "2022-03-18T09:20:10.948646Z"
    },
    "papermill": {
     "duration": 0.030503,
     "end_time": "2022-03-18T09:20:10.949175",
     "exception": false,
     "start_time": "2022-03-18T09:20:10.918672",
     "status": "completed"
    },
    "tags": []
   },
   "outputs": [],
   "source": [
    "start_time_secs = time.time()"
   ]
  },
  {
   "cell_type": "code",
   "execution_count": 10,
   "id": "c6b67dfd",
   "metadata": {
    "execution": {
     "iopub.execute_input": "2022-03-18T09:20:10.982920Z",
     "iopub.status.busy": "2022-03-18T09:20:10.982668Z",
     "iopub.status.idle": "2022-03-18T09:20:10.997087Z",
     "shell.execute_reply": "2022-03-18T09:20:10.996644Z"
    },
    "papermill": {
     "duration": 0.030087,
     "end_time": "2022-03-18T09:20:10.997175",
     "exception": false,
     "start_time": "2022-03-18T09:20:10.967088",
     "status": "completed"
    },
    "tags": []
   },
   "outputs": [],
   "source": [
    "p.domains_source = []\n",
    "p.domains_target = []\n",
    "\n",
    "\n",
    "train_original_source = []\n",
    "val_original_source   = []\n",
    "test_original_source  = []\n",
    "\n",
    "train_original_target = []\n",
    "val_original_target   = []\n",
    "test_original_target  = []"
   ]
  },
  {
   "cell_type": "code",
   "execution_count": 11,
   "id": "e3d9c3d3",
   "metadata": {
    "execution": {
     "iopub.execute_input": "2022-03-18T09:20:11.030790Z",
     "iopub.status.busy": "2022-03-18T09:20:11.030414Z",
     "iopub.status.idle": "2022-03-18T09:20:11.044203Z",
     "shell.execute_reply": "2022-03-18T09:20:11.043761Z"
    },
    "papermill": {
     "duration": 0.029002,
     "end_time": "2022-03-18T09:20:11.044302",
     "exception": false,
     "start_time": "2022-03-18T09:20:11.015300",
     "status": "completed"
    },
    "tags": []
   },
   "outputs": [],
   "source": [
    "# global_x_transform_func = lambda x: normalize(x.to(torch.get_default_dtype()), \"unit_power\") # unit_power, unit_mag\n",
    "# global_x_transform_func = lambda x: normalize(x, \"unit_power\") # unit_power, unit_mag"
   ]
  },
  {
   "cell_type": "code",
   "execution_count": 12,
   "id": "acb78fd2",
   "metadata": {
    "execution": {
     "iopub.execute_input": "2022-03-18T09:20:11.077737Z",
     "iopub.status.busy": "2022-03-18T09:20:11.077454Z",
     "iopub.status.idle": "2022-03-18T09:20:11.088528Z",
     "shell.execute_reply": "2022-03-18T09:20:11.088093Z"
    },
    "papermill": {
     "duration": 0.029047,
     "end_time": "2022-03-18T09:20:11.088615",
     "exception": false,
     "start_time": "2022-03-18T09:20:11.059568",
     "status": "completed"
    },
    "tags": []
   },
   "outputs": [],
   "source": [
    "def add_dataset(\n",
    "    labels,\n",
    "    domains,\n",
    "    pickle_path,\n",
    "    x_transforms,\n",
    "    episode_transforms,\n",
    "    domain_prefix,\n",
    "    num_examples_per_domain_per_label,\n",
    "    source_or_target_dataset:str,\n",
    "    iterator_seed=p.seed,\n",
    "    dataset_seed=p.dataset_seed,\n",
    "    n_shot=p.n_shot,\n",
    "    n_way=p.n_way,\n",
    "    n_query=p.n_query,\n",
    "    train_val_test_k_factors=(p.train_k_factor,p.val_k_factor,p.test_k_factor),\n",
    "):\n",
    "   \n",
    "    if x_transforms == []: x_transform = None\n",
    "    else: x_transform = get_chained_transform(x_transforms)\n",
    "    \n",
    "    if episode_transforms == []: episode_transform = None\n",
    "    else: raise Exception(\"episode_transforms not implemented\")\n",
    "    \n",
    "    episode_transform = lambda tup, _prefix=domain_prefix: (_prefix + str(tup[0]), tup[1])\n",
    "\n",
    "\n",
    "    eaf = Episodic_Accessor_Factory(\n",
    "        labels=labels,\n",
    "        domains=domains,\n",
    "        num_examples_per_domain_per_label=num_examples_per_domain_per_label,\n",
    "        iterator_seed=iterator_seed,\n",
    "        dataset_seed=dataset_seed,\n",
    "        n_shot=n_shot,\n",
    "        n_way=n_way,\n",
    "        n_query=n_query,\n",
    "        train_val_test_k_factors=train_val_test_k_factors,\n",
    "        pickle_path=pickle_path,\n",
    "        x_transform_func=x_transform,\n",
    "    )\n",
    "\n",
    "    train, val, test = eaf.get_train(), eaf.get_val(), eaf.get_test()\n",
    "    train = Lazy_Iterable_Wrapper(train, episode_transform)\n",
    "    val = Lazy_Iterable_Wrapper(val, episode_transform)\n",
    "    test = Lazy_Iterable_Wrapper(test, episode_transform)\n",
    "\n",
    "    if source_or_target_dataset==\"source\":\n",
    "        train_original_source.append(train)\n",
    "        val_original_source.append(val)\n",
    "        test_original_source.append(test)\n",
    "\n",
    "        p.domains_source.extend(\n",
    "            [domain_prefix + str(u) for u in domains]\n",
    "        )\n",
    "    elif source_or_target_dataset==\"target\":\n",
    "        train_original_target.append(train)\n",
    "        val_original_target.append(val)\n",
    "        test_original_target.append(test)\n",
    "        p.domains_target.extend(\n",
    "            [domain_prefix + str(u) for u in domains]\n",
    "        )\n",
    "    else:\n",
    "        raise Exception(f\"invalid source_or_target_dataset: {source_or_target_dataset}\")\n",
    "    "
   ]
  },
  {
   "cell_type": "code",
   "execution_count": 13,
   "id": "fe266617",
   "metadata": {
    "execution": {
     "iopub.execute_input": "2022-03-18T09:20:11.122730Z",
     "iopub.status.busy": "2022-03-18T09:20:11.122487Z",
     "iopub.status.idle": "2022-03-18T09:21:08.537353Z",
     "shell.execute_reply": "2022-03-18T09:21:08.536862Z"
    },
    "papermill": {
     "duration": 57.430333,
     "end_time": "2022-03-18T09:21:08.537452",
     "exception": false,
     "start_time": "2022-03-18T09:20:11.107119",
     "status": "completed"
    },
    "tags": []
   },
   "outputs": [],
   "source": [
    "for ds in p.datasets:\n",
    "    add_dataset(**ds)"
   ]
  },
  {
   "cell_type": "code",
   "execution_count": 14,
   "id": "b90d65ac",
   "metadata": {
    "execution": {
     "iopub.execute_input": "2022-03-18T09:21:08.572004Z",
     "iopub.status.busy": "2022-03-18T09:21:08.571743Z",
     "iopub.status.idle": "2022-03-18T09:21:08.582842Z",
     "shell.execute_reply": "2022-03-18T09:21:08.582393Z"
    },
    "papermill": {
     "duration": 0.026781,
     "end_time": "2022-03-18T09:21:08.582931",
     "exception": false,
     "start_time": "2022-03-18T09:21:08.556150",
     "status": "completed"
    },
    "tags": []
   },
   "outputs": [],
   "source": [
    "# from steves_utils.CORES.utils import (\n",
    "#     ALL_NODES,\n",
    "#     ALL_NODES_MINIMUM_1000_EXAMPLES,\n",
    "#     ALL_DAYS\n",
    "# )\n",
    "\n",
    "# add_dataset(\n",
    "#     labels=ALL_NODES,\n",
    "#     domains = ALL_DAYS,\n",
    "#     num_examples_per_domain_per_label=100,\n",
    "#     pickle_path=os.path.join(get_datasets_base_path(), \"cores.stratified_ds.2022A.pkl\"),\n",
    "#     source_or_target_dataset=\"target\",\n",
    "#     x_transform_func=global_x_transform_func,\n",
    "#     domain_modifier=lambda u: f\"cores_{u}\"\n",
    "# )"
   ]
  },
  {
   "cell_type": "code",
   "execution_count": 15,
   "id": "76db484d",
   "metadata": {
    "execution": {
     "iopub.execute_input": "2022-03-18T09:21:08.615999Z",
     "iopub.status.busy": "2022-03-18T09:21:08.615749Z",
     "iopub.status.idle": "2022-03-18T09:21:08.625771Z",
     "shell.execute_reply": "2022-03-18T09:21:08.625325Z"
    },
    "papermill": {
     "duration": 0.025286,
     "end_time": "2022-03-18T09:21:08.625857",
     "exception": false,
     "start_time": "2022-03-18T09:21:08.600571",
     "status": "completed"
    },
    "tags": []
   },
   "outputs": [],
   "source": [
    "# from steves_utils.ORACLE.utils_v2 import (\n",
    "#     ALL_DISTANCES_FEET,\n",
    "#     ALL_RUNS,\n",
    "#     ALL_SERIAL_NUMBERS,\n",
    "# )\n",
    "\n",
    "\n",
    "# add_dataset(\n",
    "#     labels=ALL_SERIAL_NUMBERS,\n",
    "#     domains = list(set(ALL_DISTANCES_FEET) - {2,62}),\n",
    "#     num_examples_per_domain_per_label=100,\n",
    "#     pickle_path=os.path.join(get_datasets_base_path(), \"oracle.Run2_framed_2000Examples_stratified_ds.2022A.pkl\"),\n",
    "#     source_or_target_dataset=\"source\",\n",
    "#     x_transform_func=global_x_transform_func,\n",
    "#     domain_modifier=lambda u: f\"oracle1_{u}\"\n",
    "# )\n"
   ]
  },
  {
   "cell_type": "code",
   "execution_count": 16,
   "id": "97dea9d2",
   "metadata": {
    "execution": {
     "iopub.execute_input": "2022-03-18T09:21:08.659118Z",
     "iopub.status.busy": "2022-03-18T09:21:08.658863Z",
     "iopub.status.idle": "2022-03-18T09:21:08.672329Z",
     "shell.execute_reply": "2022-03-18T09:21:08.672087Z"
    },
    "papermill": {
     "duration": 0.030031,
     "end_time": "2022-03-18T09:21:08.672377",
     "exception": false,
     "start_time": "2022-03-18T09:21:08.642346",
     "status": "completed"
    },
    "tags": []
   },
   "outputs": [],
   "source": [
    "# from steves_utils.ORACLE.utils_v2 import (\n",
    "#     ALL_DISTANCES_FEET,\n",
    "#     ALL_RUNS,\n",
    "#     ALL_SERIAL_NUMBERS,\n",
    "# )\n",
    "\n",
    "\n",
    "# add_dataset(\n",
    "#     labels=ALL_SERIAL_NUMBERS,\n",
    "#     domains = list(set(ALL_DISTANCES_FEET) - {2,62,56}),\n",
    "#     num_examples_per_domain_per_label=100,\n",
    "#     pickle_path=os.path.join(get_datasets_base_path(), \"oracle.Run2_framed_2000Examples_stratified_ds.2022A.pkl\"),\n",
    "#     source_or_target_dataset=\"source\",\n",
    "#     x_transform_func=global_x_transform_func,\n",
    "#     domain_modifier=lambda u: f\"oracle2_{u}\"\n",
    "# )"
   ]
  },
  {
   "cell_type": "code",
   "execution_count": 17,
   "id": "6f289866",
   "metadata": {
    "execution": {
     "iopub.execute_input": "2022-03-18T09:21:08.707468Z",
     "iopub.status.busy": "2022-03-18T09:21:08.707209Z",
     "iopub.status.idle": "2022-03-18T09:21:08.719831Z",
     "shell.execute_reply": "2022-03-18T09:21:08.719476Z"
    },
    "papermill": {
     "duration": 0.028235,
     "end_time": "2022-03-18T09:21:08.719899",
     "exception": false,
     "start_time": "2022-03-18T09:21:08.691664",
     "status": "completed"
    },
    "tags": []
   },
   "outputs": [],
   "source": [
    "# add_dataset(\n",
    "#     labels=list(range(19)),\n",
    "#     domains = [0,1,2],\n",
    "#     num_examples_per_domain_per_label=100,\n",
    "#     pickle_path=os.path.join(get_datasets_base_path(), \"metehan.stratified_ds.2022A.pkl\"),\n",
    "#     source_or_target_dataset=\"target\",\n",
    "#     x_transform_func=global_x_transform_func,\n",
    "#     domain_modifier=lambda u: f\"met_{u}\"\n",
    "# )"
   ]
  },
  {
   "cell_type": "code",
   "execution_count": 18,
   "id": "86a863c3",
   "metadata": {
    "execution": {
     "iopub.execute_input": "2022-03-18T09:21:08.754701Z",
     "iopub.status.busy": "2022-03-18T09:21:08.754451Z",
     "iopub.status.idle": "2022-03-18T09:21:08.764269Z",
     "shell.execute_reply": "2022-03-18T09:21:08.763920Z"
    },
    "papermill": {
     "duration": 0.025177,
     "end_time": "2022-03-18T09:21:08.764338",
     "exception": false,
     "start_time": "2022-03-18T09:21:08.739161",
     "status": "completed"
    },
    "tags": []
   },
   "outputs": [],
   "source": [
    "# # from steves_utils.wisig.utils import (\n",
    "# #     ALL_NODES_MINIMUM_100_EXAMPLES,\n",
    "# #     ALL_NODES_MINIMUM_500_EXAMPLES,\n",
    "# #     ALL_NODES_MINIMUM_1000_EXAMPLES,\n",
    "# #     ALL_DAYS\n",
    "# # )\n",
    "\n",
    "# import steves_utils.wisig.utils as wisig\n",
    "\n",
    "\n",
    "# add_dataset(\n",
    "#     labels=wisig.ALL_NODES_MINIMUM_100_EXAMPLES,\n",
    "#     domains = wisig.ALL_DAYS,\n",
    "#     num_examples_per_domain_per_label=100,\n",
    "#     pickle_path=os.path.join(get_datasets_base_path(), \"wisig.node3-19.stratified_ds.2022A.pkl\"),\n",
    "#     source_or_target_dataset=\"target\",\n",
    "#     x_transform_func=global_x_transform_func,\n",
    "#     domain_modifier=lambda u: f\"wisig_{u}\"\n",
    "# )"
   ]
  },
  {
   "cell_type": "code",
   "execution_count": 19,
   "id": "fd5442bc",
   "metadata": {
    "execution": {
     "iopub.execute_input": "2022-03-18T09:21:08.800829Z",
     "iopub.status.busy": "2022-03-18T09:21:08.800575Z",
     "iopub.status.idle": "2022-03-18T09:21:08.811491Z",
     "shell.execute_reply": "2022-03-18T09:21:08.811279Z"
    },
    "papermill": {
     "duration": 0.02857,
     "end_time": "2022-03-18T09:21:08.811573",
     "exception": false,
     "start_time": "2022-03-18T09:21:08.783003",
     "status": "completed"
    },
    "tags": []
   },
   "outputs": [],
   "source": [
    "###################################\n",
    "# Build the dataset\n",
    "###################################\n",
    "train_original_source = Iterable_Aggregator(train_original_source, p.seed)\n",
    "val_original_source = Iterable_Aggregator(val_original_source, p.seed)\n",
    "test_original_source = Iterable_Aggregator(test_original_source, p.seed)\n",
    "\n",
    "\n",
    "train_original_target = Iterable_Aggregator(train_original_target, p.seed)\n",
    "val_original_target = Iterable_Aggregator(val_original_target, p.seed)\n",
    "test_original_target = Iterable_Aggregator(test_original_target, p.seed)\n",
    "\n",
    "# For CNN We only use X and Y. And we only train on the source.\n",
    "# Properly form the data using a transform lambda and Lazy_Iterable_Wrapper. Finally wrap them in a dataloader\n",
    "\n",
    "transform_lambda = lambda ex: ex[1] # Original is (<domain>, <episode>) so we strip down to episode only\n",
    "\n",
    "train_processed_source = Lazy_Iterable_Wrapper(train_original_source, transform_lambda)\n",
    "val_processed_source   = Lazy_Iterable_Wrapper(val_original_source, transform_lambda)\n",
    "test_processed_source  = Lazy_Iterable_Wrapper(test_original_source, transform_lambda)\n",
    "\n",
    "train_processed_target = Lazy_Iterable_Wrapper(train_original_target, transform_lambda)\n",
    "val_processed_target   = Lazy_Iterable_Wrapper(val_original_target, transform_lambda)\n",
    "test_processed_target  = Lazy_Iterable_Wrapper(test_original_target, transform_lambda)\n",
    "\n",
    "datasets = EasyDict({\n",
    "    \"source\": {\n",
    "        \"original\": {\"train\":train_original_source, \"val\":val_original_source, \"test\":test_original_source},\n",
    "        \"processed\": {\"train\":train_processed_source, \"val\":val_processed_source, \"test\":test_processed_source}\n",
    "    },\n",
    "    \"target\": {\n",
    "        \"original\": {\"train\":train_original_target, \"val\":val_original_target, \"test\":test_original_target},\n",
    "        \"processed\": {\"train\":train_processed_target, \"val\":val_processed_target, \"test\":test_processed_target}\n",
    "    },\n",
    "})"
   ]
  },
  {
   "cell_type": "code",
   "execution_count": 20,
   "id": "5b3c01fc",
   "metadata": {
    "execution": {
     "iopub.execute_input": "2022-03-18T09:21:08.847604Z",
     "iopub.status.busy": "2022-03-18T09:21:08.847355Z",
     "iopub.status.idle": "2022-03-18T09:21:13.643049Z",
     "shell.execute_reply": "2022-03-18T09:21:13.643601Z"
    },
    "papermill": {
     "duration": 4.812407,
     "end_time": "2022-03-18T09:21:13.643766",
     "exception": false,
     "start_time": "2022-03-18T09:21:08.831359",
     "status": "completed"
    },
    "tags": []
   },
   "outputs": [
    {
     "name": "stdout",
     "output_type": "stream",
     "text": [
      "{'W_A_1', 'W_A_3', 'C_A_1', 'C_A_2', 'C_A_5', 'C_A_3', 'C_A_4', 'W_A_2', 'W_A_4'}\n"
     ]
    },
    {
     "name": "stdout",
     "output_type": "stream",
     "text": [
      "{'ORACLE.run1_32', 'ORACLE.run1_20', 'ORACLE.run1_8', 'ORACLE.run1_50', 'ORACLE.run1_14', 'ORACLE.run1_38', 'ORACLE.run1_26', 'ORACLE.run1_44'}\n"
     ]
    },
    {
     "name": "stdout",
     "output_type": "stream",
     "text": [
      "tensor([[[0., 0., 0.,  ..., 0., 0., 0.],\n",
      "         [0., 0., 0.,  ..., 0., 0., 0.]],\n",
      "\n",
      "        [[0., 0., 0.,  ..., 0., 0., 0.],\n",
      "         [0., 0., 0.,  ..., 0., 0., 0.]],\n",
      "\n",
      "        [[0., 0., 0.,  ..., 0., 0., 0.],\n",
      "         [0., 0., 0.,  ..., 0., 0., 0.]],\n",
      "\n",
      "        ...,\n",
      "\n",
      "        [[0., 0., 0.,  ..., 0., 0., 0.],\n",
      "         [0., 0., 0.,  ..., 0., 0., 0.]],\n",
      "\n",
      "        [[0., 0., 0.,  ..., 0., 0., 0.],\n",
      "         [0., 0., 0.,  ..., 0., 0., 0.]],\n",
      "\n",
      "        [[0., 0., 0.,  ..., 0., 0., 0.],\n",
      "         [0., 0., 0.,  ..., 0., 0., 0.]]])\n"
     ]
    }
   ],
   "source": [
    "from steves_utils.transforms import get_average_magnitude, get_average_power\n",
    "\n",
    "print(set([u for u,_ in val_original_source]))\n",
    "print(set([u for u,_ in val_original_target]))\n",
    "\n",
    "s_x, s_y, q_x, q_y, _ = next(iter(train_processed_source))\n",
    "print(s_x)\n",
    "\n",
    "# for ds in [\n",
    "#     train_processed_source,\n",
    "#     val_processed_source,\n",
    "#     test_processed_source,\n",
    "#     train_processed_target,\n",
    "#     val_processed_target,\n",
    "#     test_processed_target\n",
    "# ]:\n",
    "#     for s_x, s_y, q_x, q_y, _ in ds:\n",
    "#         for X in (s_x, q_x):\n",
    "#             for x in X:\n",
    "#                 assert np.isclose(get_average_magnitude(x.numpy()), 1.0)\n",
    "#                 assert np.isclose(get_average_power(x.numpy()), 1.0)\n",
    "                "
   ]
  },
  {
   "cell_type": "code",
   "execution_count": 21,
   "id": "bbdacba1",
   "metadata": {
    "execution": {
     "iopub.execute_input": "2022-03-18T09:21:13.691263Z",
     "iopub.status.busy": "2022-03-18T09:21:13.688691Z",
     "iopub.status.idle": "2022-03-18T09:21:13.751952Z",
     "shell.execute_reply": "2022-03-18T09:21:13.752355Z"
    },
    "papermill": {
     "duration": 0.084824,
     "end_time": "2022-03-18T09:21:13.752483",
     "exception": false,
     "start_time": "2022-03-18T09:21:13.667659",
     "status": "completed"
    },
    "tags": []
   },
   "outputs": [
    {
     "name": "stdout",
     "output_type": "stream",
     "text": [
      "(2, 256)"
     ]
    },
    {
     "name": "stdout",
     "output_type": "stream",
     "text": [
      "\n"
     ]
    }
   ],
   "source": [
    "###################################\n",
    "# Build the model\n",
    "###################################\n",
    "# easfsl only wants a tuple for the shape\n",
    "model = Steves_Prototypical_Network(x_net, device=p.device, x_shape=tuple(p.x_shape))\n",
    "optimizer = Adam(params=model.parameters(), lr=p.lr)"
   ]
  },
  {
   "cell_type": "code",
   "execution_count": 22,
   "id": "22b39ac5",
   "metadata": {
    "execution": {
     "iopub.execute_input": "2022-03-18T09:21:13.798180Z",
     "iopub.status.busy": "2022-03-18T09:21:13.790675Z",
     "iopub.status.idle": "2022-03-18T09:32:30.998501Z",
     "shell.execute_reply": "2022-03-18T09:32:30.998870Z"
    },
    "papermill": {
     "duration": 677.225526,
     "end_time": "2022-03-18T09:32:30.998996",
     "exception": false,
     "start_time": "2022-03-18T09:21:13.773470",
     "status": "completed"
    },
    "tags": []
   },
   "outputs": [
    {
     "name": "stdout",
     "output_type": "stream",
     "text": [
      "epoch: 1, [batch: 1 / 2081], examples_per_second: 126.7391, train_label_loss: 2.7022, \n"
     ]
    },
    {
     "name": "stdout",
     "output_type": "stream",
     "text": [
      "epoch: 1, [batch: 209 / 2081], examples_per_second: 3192.0900, train_label_loss: 0.1636, \n"
     ]
    },
    {
     "name": "stdout",
     "output_type": "stream",
     "text": [
      "epoch: 1, [batch: 417 / 2081], examples_per_second: 3231.8829, train_label_loss: 1.2104, \n"
     ]
    },
    {
     "name": "stdout",
     "output_type": "stream",
     "text": [
      "epoch: 1, [batch: 625 / 2081], examples_per_second: 3232.1679, train_label_loss: 0.1088, \n"
     ]
    },
    {
     "name": "stdout",
     "output_type": "stream",
     "text": [
      "epoch: 1, [batch: 833 / 2081], examples_per_second: 3233.3379, train_label_loss: 1.0815, \n"
     ]
    },
    {
     "name": "stdout",
     "output_type": "stream",
     "text": [
      "epoch: 1, [batch: 1041 / 2081], examples_per_second: 3212.2115, train_label_loss: 0.1306, \n"
     ]
    },
    {
     "name": "stdout",
     "output_type": "stream",
     "text": [
      "epoch: 1, [batch: 1249 / 2081], examples_per_second: 3236.3271, train_label_loss: 0.5240, \n"
     ]
    },
    {
     "name": "stdout",
     "output_type": "stream",
     "text": [
      "epoch: 1, [batch: 1457 / 2081], examples_per_second: 3198.9368, train_label_loss: 0.6131, \n"
     ]
    },
    {
     "name": "stdout",
     "output_type": "stream",
     "text": [
      "epoch: 1, [batch: 1665 / 2081], examples_per_second: 3196.2203, train_label_loss: 0.1851, \n"
     ]
    },
    {
     "name": "stdout",
     "output_type": "stream",
     "text": [
      "epoch: 1, [batch: 1873 / 2081], examples_per_second: 3192.8999, train_label_loss: 0.3265, \n"
     ]
    },
    {
     "name": "stdout",
     "output_type": "stream",
     "text": [
      "=============================================================\n",
      "epoch: 1, source_val_acc_label: 0.9166, target_val_acc_label: 0.1731, source_val_label_loss: 0.4662, target_val_label_loss: 2.4949, \n",
      "=============================================================\n"
     ]
    },
    {
     "name": "stdout",
     "output_type": "stream",
     "text": [
      "New best\n"
     ]
    },
    {
     "name": "stdout",
     "output_type": "stream",
     "text": [
      "epoch: 2, [batch: 1 / 2079], examples_per_second: 10.4583, train_label_loss: 0.1425, \n"
     ]
    },
    {
     "name": "stdout",
     "output_type": "stream",
     "text": [
      "epoch: 2, [batch: 208 / 2079], examples_per_second: 3212.9950, train_label_loss: 0.3637, \n"
     ]
    },
    {
     "name": "stdout",
     "output_type": "stream",
     "text": [
      "epoch: 2, [batch: 416 / 2079], examples_per_second: 3226.7658, train_label_loss: 0.0295, \n"
     ]
    },
    {
     "name": "stdout",
     "output_type": "stream",
     "text": [
      "epoch: 2, [batch: 624 / 2079], examples_per_second: 3239.1381, train_label_loss: 0.2409, \n"
     ]
    },
    {
     "name": "stdout",
     "output_type": "stream",
     "text": [
      "epoch: 2, [batch: 832 / 2079], examples_per_second: 3244.5121, train_label_loss: 1.0900, \n"
     ]
    },
    {
     "name": "stdout",
     "output_type": "stream",
     "text": [
      "epoch: 2, [batch: 1040 / 2079], examples_per_second: 3237.2809, train_label_loss: 0.3443, \n"
     ]
    },
    {
     "name": "stdout",
     "output_type": "stream",
     "text": [
      "epoch: 2, [batch: 1247 / 2079], examples_per_second: 3236.8195, train_label_loss: 0.0116, \n"
     ]
    },
    {
     "name": "stdout",
     "output_type": "stream",
     "text": [
      "epoch: 2, [batch: 1455 / 2079], examples_per_second: 3215.4360, train_label_loss: 0.6586, \n"
     ]
    },
    {
     "name": "stdout",
     "output_type": "stream",
     "text": [
      "epoch: 2, [batch: 1663 / 2079], examples_per_second: 3243.2524, train_label_loss: 0.1123, \n"
     ]
    },
    {
     "name": "stdout",
     "output_type": "stream",
     "text": [
      "epoch: 2, [batch: 1871 / 2079], examples_per_second: 3235.8232, train_label_loss: 0.1116, \n"
     ]
    },
    {
     "name": "stdout",
     "output_type": "stream",
     "text": [
      "=============================================================\n",
      "epoch: 2, source_val_acc_label: 0.9510, target_val_acc_label: 0.2538, source_val_label_loss: 0.2309, target_val_label_loss: 2.2881, \n",
      "=============================================================\n"
     ]
    },
    {
     "name": "stdout",
     "output_type": "stream",
     "text": [
      "New best\n"
     ]
    },
    {
     "name": "stdout",
     "output_type": "stream",
     "text": [
      "epoch: 3, [batch: 1 / 2082], examples_per_second: 10.5080, train_label_loss: 0.3389, \n"
     ]
    },
    {
     "name": "stdout",
     "output_type": "stream",
     "text": [
      "epoch: 3, [batch: 209 / 2082], examples_per_second: 3226.5383, train_label_loss: 0.7080, \n"
     ]
    },
    {
     "name": "stdout",
     "output_type": "stream",
     "text": [
      "epoch: 3, [batch: 417 / 2082], examples_per_second: 3251.7826, train_label_loss: 0.4143, \n"
     ]
    },
    {
     "name": "stdout",
     "output_type": "stream",
     "text": [
      "epoch: 3, [batch: 625 / 2082], examples_per_second: 3243.1089, train_label_loss: 0.4112, \n"
     ]
    },
    {
     "name": "stdout",
     "output_type": "stream",
     "text": [
      "epoch: 3, [batch: 833 / 2082], examples_per_second: 3252.7297, train_label_loss: 0.3832, \n"
     ]
    },
    {
     "name": "stdout",
     "output_type": "stream",
     "text": [
      "epoch: 3, [batch: 1041 / 2082], examples_per_second: 3227.3642, train_label_loss: 0.0103, \n"
     ]
    },
    {
     "name": "stdout",
     "output_type": "stream",
     "text": [
      "epoch: 3, [batch: 1249 / 2082], examples_per_second: 3240.2492, train_label_loss: 0.0227, \n"
     ]
    },
    {
     "name": "stdout",
     "output_type": "stream",
     "text": [
      "epoch: 3, [batch: 1457 / 2082], examples_per_second: 3205.8683, train_label_loss: 0.1463, \n"
     ]
    },
    {
     "name": "stdout",
     "output_type": "stream",
     "text": [
      "epoch: 3, [batch: 1665 / 2082], examples_per_second: 3228.6753, train_label_loss: 0.1627, \n"
     ]
    },
    {
     "name": "stdout",
     "output_type": "stream",
     "text": [
      "epoch: 3, [batch: 1873 / 2082], examples_per_second: 3258.9971, train_label_loss: 0.2262, \n"
     ]
    },
    {
     "name": "stdout",
     "output_type": "stream",
     "text": [
      "=============================================================\n",
      "epoch: 3, source_val_acc_label: 0.9622, target_val_acc_label: 0.2686, source_val_label_loss: 0.1703, target_val_label_loss: 2.1510, \n",
      "=============================================================\n"
     ]
    },
    {
     "name": "stdout",
     "output_type": "stream",
     "text": [
      "New best\n"
     ]
    },
    {
     "name": "stdout",
     "output_type": "stream",
     "text": [
      "epoch: 4, [batch: 1 / 2080], examples_per_second: 10.4847, train_label_loss: 0.2089, \n"
     ]
    },
    {
     "name": "stdout",
     "output_type": "stream",
     "text": [
      "epoch: 4, [batch: 208 / 2080], examples_per_second: 3246.9593, train_label_loss: 0.4122, \n"
     ]
    },
    {
     "name": "stdout",
     "output_type": "stream",
     "text": [
      "epoch: 4, [batch: 416 / 2080], examples_per_second: 3236.5073, train_label_loss: 0.0744, \n"
     ]
    },
    {
     "name": "stdout",
     "output_type": "stream",
     "text": [
      "epoch: 4, [batch: 624 / 2080], examples_per_second: 3230.9749, train_label_loss: 0.0118, \n"
     ]
    },
    {
     "name": "stdout",
     "output_type": "stream",
     "text": [
      "epoch: 4, [batch: 832 / 2080], examples_per_second: 3245.0229, train_label_loss: 0.1287, \n"
     ]
    },
    {
     "name": "stdout",
     "output_type": "stream",
     "text": [
      "epoch: 4, [batch: 1040 / 2080], examples_per_second: 3235.9332, train_label_loss: 0.0365, \n"
     ]
    },
    {
     "name": "stdout",
     "output_type": "stream",
     "text": [
      "epoch: 4, [batch: 1248 / 2080], examples_per_second: 3241.4997, train_label_loss: 0.0088, \n"
     ]
    },
    {
     "name": "stdout",
     "output_type": "stream",
     "text": [
      "epoch: 4, [batch: 1456 / 2080], examples_per_second: 3202.8755, train_label_loss: 0.0370, \n"
     ]
    },
    {
     "name": "stdout",
     "output_type": "stream",
     "text": [
      "epoch: 4, [batch: 1664 / 2080], examples_per_second: 3237.9963, train_label_loss: 0.0664, \n"
     ]
    },
    {
     "name": "stdout",
     "output_type": "stream",
     "text": [
      "epoch: 4, [batch: 1872 / 2080], examples_per_second: 3240.7892, train_label_loss: 0.4505, \n"
     ]
    },
    {
     "name": "stdout",
     "output_type": "stream",
     "text": [
      "=============================================================\n",
      "epoch: 4, source_val_acc_label: 0.9651, target_val_acc_label: 0.2665, source_val_label_loss: 0.1614, target_val_label_loss: 2.1328, \n",
      "=============================================================\n"
     ]
    },
    {
     "name": "stdout",
     "output_type": "stream",
     "text": [
      "New best\n"
     ]
    },
    {
     "name": "stdout",
     "output_type": "stream",
     "text": [
      "epoch: 5, [batch: 1 / 2079], examples_per_second: 10.4867, train_label_loss: 0.0053, \n"
     ]
    },
    {
     "name": "stdout",
     "output_type": "stream",
     "text": [
      "epoch: 5, [batch: 208 / 2079], examples_per_second: 3218.5439, train_label_loss: 0.0688, \n"
     ]
    },
    {
     "name": "stdout",
     "output_type": "stream",
     "text": [
      "epoch: 5, [batch: 416 / 2079], examples_per_second: 3236.0324, train_label_loss: 0.0908, \n"
     ]
    },
    {
     "name": "stdout",
     "output_type": "stream",
     "text": [
      "epoch: 5, [batch: 624 / 2079], examples_per_second: 3232.4885, train_label_loss: 0.0731, \n"
     ]
    },
    {
     "name": "stdout",
     "output_type": "stream",
     "text": [
      "epoch: 5, [batch: 832 / 2079], examples_per_second: 3248.5339, train_label_loss: 0.0062, \n"
     ]
    },
    {
     "name": "stdout",
     "output_type": "stream",
     "text": [
      "epoch: 5, [batch: 1040 / 2079], examples_per_second: 3230.5820, train_label_loss: 0.3366, \n"
     ]
    },
    {
     "name": "stdout",
     "output_type": "stream",
     "text": [
      "epoch: 5, [batch: 1247 / 2079], examples_per_second: 3242.4672, train_label_loss: 0.1344, \n"
     ]
    },
    {
     "name": "stdout",
     "output_type": "stream",
     "text": [
      "epoch: 5, [batch: 1455 / 2079], examples_per_second: 3211.8205, train_label_loss: 0.4998, \n"
     ]
    },
    {
     "name": "stdout",
     "output_type": "stream",
     "text": [
      "epoch: 5, [batch: 1663 / 2079], examples_per_second: 3234.2495, train_label_loss: 0.1365, \n"
     ]
    },
    {
     "name": "stdout",
     "output_type": "stream",
     "text": [
      "epoch: 5, [batch: 1871 / 2079], examples_per_second: 3243.1819, train_label_loss: 0.1577, \n"
     ]
    },
    {
     "name": "stdout",
     "output_type": "stream",
     "text": [
      "=============================================================\n",
      "epoch: 5, source_val_acc_label: 0.9650, target_val_acc_label: 0.2581, source_val_label_loss: 0.1553, target_val_label_loss: 2.1467, \n",
      "=============================================================\n"
     ]
    },
    {
     "name": "stdout",
     "output_type": "stream",
     "text": [
      "epoch: 6, [batch: 1 / 2081], examples_per_second: 10.5312, train_label_loss: 0.2684, \n"
     ]
    },
    {
     "name": "stdout",
     "output_type": "stream",
     "text": [
      "epoch: 6, [batch: 209 / 2081], examples_per_second: 3208.0690, train_label_loss: 0.0164, \n"
     ]
    },
    {
     "name": "stdout",
     "output_type": "stream",
     "text": [
      "epoch: 6, [batch: 417 / 2081], examples_per_second: 3227.3506, train_label_loss: 0.0761, \n"
     ]
    },
    {
     "name": "stdout",
     "output_type": "stream",
     "text": [
      "epoch: 6, [batch: 625 / 2081], examples_per_second: 3229.2859, train_label_loss: 0.0008, \n"
     ]
    },
    {
     "name": "stdout",
     "output_type": "stream",
     "text": [
      "epoch: 6, [batch: 833 / 2081], examples_per_second: 3238.5376, train_label_loss: 0.0035, \n"
     ]
    },
    {
     "name": "stdout",
     "output_type": "stream",
     "text": [
      "epoch: 6, [batch: 1041 / 2081], examples_per_second: 3218.3693, train_label_loss: 0.1255, \n"
     ]
    },
    {
     "name": "stdout",
     "output_type": "stream",
     "text": [
      "epoch: 6, [batch: 1249 / 2081], examples_per_second: 3228.1606, train_label_loss: 0.1280, \n"
     ]
    },
    {
     "name": "stdout",
     "output_type": "stream",
     "text": [
      "epoch: 6, [batch: 1457 / 2081], examples_per_second: 3237.1069, train_label_loss: 0.0011, \n"
     ]
    },
    {
     "name": "stdout",
     "output_type": "stream",
     "text": [
      "epoch: 6, [batch: 1665 / 2081], examples_per_second: 3205.9953, train_label_loss: 0.0064, \n"
     ]
    },
    {
     "name": "stdout",
     "output_type": "stream",
     "text": [
      "epoch: 6, [batch: 1873 / 2081], examples_per_second: 3239.3890, train_label_loss: 0.1134, \n"
     ]
    },
    {
     "name": "stdout",
     "output_type": "stream",
     "text": [
      "=============================================================\n",
      "epoch: 6, source_val_acc_label: 0.9513, target_val_acc_label: 0.1944, source_val_label_loss: 0.2069, target_val_label_loss: 2.3610, \n",
      "=============================================================\n"
     ]
    },
    {
     "name": "stdout",
     "output_type": "stream",
     "text": [
      "epoch: 7, [batch: 1 / 2075], examples_per_second: 10.5586, train_label_loss: 0.0676, \n"
     ]
    },
    {
     "name": "stdout",
     "output_type": "stream",
     "text": [
      "epoch: 7, [batch: 208 / 2075], examples_per_second: 3216.6517, train_label_loss: 0.0599, \n"
     ]
    },
    {
     "name": "stdout",
     "output_type": "stream",
     "text": [
      "epoch: 7, [batch: 415 / 2075], examples_per_second: 3237.1831, train_label_loss: 0.0147, \n"
     ]
    },
    {
     "name": "stdout",
     "output_type": "stream",
     "text": [
      "epoch: 7, [batch: 623 / 2075], examples_per_second: 3221.1762, train_label_loss: 0.7458, \n"
     ]
    },
    {
     "name": "stdout",
     "output_type": "stream",
     "text": [
      "epoch: 7, [batch: 830 / 2075], examples_per_second: 3227.6925, train_label_loss: 0.0893, \n"
     ]
    },
    {
     "name": "stdout",
     "output_type": "stream",
     "text": [
      "epoch: 7, [batch: 1038 / 2075], examples_per_second: 3227.9190, train_label_loss: 0.0186, \n"
     ]
    },
    {
     "name": "stdout",
     "output_type": "stream",
     "text": [
      "epoch: 7, [batch: 1245 / 2075], examples_per_second: 3235.3944, train_label_loss: 0.0037, \n"
     ]
    },
    {
     "name": "stdout",
     "output_type": "stream",
     "text": [
      "epoch: 7, [batch: 1452 / 2075], examples_per_second: 3203.7235, train_label_loss: 0.1504, \n"
     ]
    },
    {
     "name": "stdout",
     "output_type": "stream",
     "text": [
      "epoch: 7, [batch: 1660 / 2075], examples_per_second: 3226.2351, train_label_loss: 0.2472, \n"
     ]
    },
    {
     "name": "stdout",
     "output_type": "stream",
     "text": [
      "epoch: 7, [batch: 1867 / 2075], examples_per_second: 3244.7182, train_label_loss: 0.1587, \n"
     ]
    },
    {
     "name": "stdout",
     "output_type": "stream",
     "text": [
      "=============================================================\n",
      "epoch: 7, source_val_acc_label: 0.9680, target_val_acc_label: 0.2820, source_val_label_loss: 0.1562, target_val_label_loss: 2.0721, \n",
      "=============================================================\n"
     ]
    },
    {
     "name": "stdout",
     "output_type": "stream",
     "text": [
      "New best\n"
     ]
    },
    {
     "name": "stdout",
     "output_type": "stream",
     "text": [
      "epoch: 8, [batch: 1 / 2082], examples_per_second: 10.4521, train_label_loss: 0.0992, \n"
     ]
    },
    {
     "name": "stdout",
     "output_type": "stream",
     "text": [
      "epoch: 8, [batch: 209 / 2082], examples_per_second: 3204.3204, train_label_loss: 0.0320, \n"
     ]
    },
    {
     "name": "stdout",
     "output_type": "stream",
     "text": [
      "epoch: 8, [batch: 417 / 2082], examples_per_second: 3233.0864, train_label_loss: 0.0625, \n"
     ]
    },
    {
     "name": "stdout",
     "output_type": "stream",
     "text": [
      "epoch: 8, [batch: 625 / 2082], examples_per_second: 3243.2054, train_label_loss: 0.3357, \n"
     ]
    },
    {
     "name": "stdout",
     "output_type": "stream",
     "text": [
      "epoch: 8, [batch: 833 / 2082], examples_per_second: 3229.0695, train_label_loss: 0.0009, \n"
     ]
    },
    {
     "name": "stdout",
     "output_type": "stream",
     "text": [
      "epoch: 8, [batch: 1041 / 2082], examples_per_second: 3215.1483, train_label_loss: 0.0016, \n"
     ]
    },
    {
     "name": "stdout",
     "output_type": "stream",
     "text": [
      "epoch: 8, [batch: 1249 / 2082], examples_per_second: 3231.5501, train_label_loss: 0.0034, \n"
     ]
    },
    {
     "name": "stdout",
     "output_type": "stream",
     "text": [
      "epoch: 8, [batch: 1457 / 2082], examples_per_second: 3253.3421, train_label_loss: 0.0024, \n"
     ]
    },
    {
     "name": "stdout",
     "output_type": "stream",
     "text": [
      "epoch: 8, [batch: 1665 / 2082], examples_per_second: 3216.8015, train_label_loss: 0.0349, \n"
     ]
    },
    {
     "name": "stdout",
     "output_type": "stream",
     "text": [
      "epoch: 8, [batch: 1873 / 2082], examples_per_second: 3247.5557, train_label_loss: 0.2708, \n"
     ]
    },
    {
     "name": "stdout",
     "output_type": "stream",
     "text": [
      "=============================================================\n",
      "epoch: 8, source_val_acc_label: 0.9661, target_val_acc_label: 0.2731, source_val_label_loss: 0.1644, target_val_label_loss: 2.0859, \n",
      "=============================================================\n"
     ]
    },
    {
     "name": "stdout",
     "output_type": "stream",
     "text": [
      "epoch: 9, [batch: 1 / 2079], examples_per_second: 10.5680, train_label_loss: 0.3226, \n"
     ]
    },
    {
     "name": "stdout",
     "output_type": "stream",
     "text": [
      "epoch: 9, [batch: 208 / 2079], examples_per_second: 3194.4400, train_label_loss: 0.0153, \n"
     ]
    },
    {
     "name": "stdout",
     "output_type": "stream",
     "text": [
      "epoch: 9, [batch: 416 / 2079], examples_per_second: 3226.0620, train_label_loss: 0.0013, \n"
     ]
    },
    {
     "name": "stdout",
     "output_type": "stream",
     "text": [
      "epoch: 9, [batch: 624 / 2079], examples_per_second: 3218.7738, train_label_loss: 0.1075, \n"
     ]
    },
    {
     "name": "stdout",
     "output_type": "stream",
     "text": [
      "epoch: 9, [batch: 832 / 2079], examples_per_second: 3229.9381, train_label_loss: 0.0485, \n"
     ]
    },
    {
     "name": "stdout",
     "output_type": "stream",
     "text": [
      "epoch: 9, [batch: 1040 / 2079], examples_per_second: 3227.6580, train_label_loss: 0.0064, \n"
     ]
    },
    {
     "name": "stdout",
     "output_type": "stream",
     "text": [
      "epoch: 9, [batch: 1247 / 2079], examples_per_second: 3234.5400, train_label_loss: 0.0027, \n"
     ]
    },
    {
     "name": "stdout",
     "output_type": "stream",
     "text": [
      "epoch: 9, [batch: 1455 / 2079], examples_per_second: 3223.6393, train_label_loss: 0.0257, \n"
     ]
    },
    {
     "name": "stdout",
     "output_type": "stream",
     "text": [
      "epoch: 9, [batch: 1663 / 2079], examples_per_second: 3201.6925, train_label_loss: 0.0501, \n"
     ]
    },
    {
     "name": "stdout",
     "output_type": "stream",
     "text": [
      "epoch: 9, [batch: 1871 / 2079], examples_per_second: 3265.1946, train_label_loss: 0.1183, \n"
     ]
    },
    {
     "name": "stdout",
     "output_type": "stream",
     "text": [
      "=============================================================\n",
      "epoch: 9, source_val_acc_label: 0.9651, target_val_acc_label: 0.2579, source_val_label_loss: 0.1828, target_val_label_loss: 2.1592, \n",
      "=============================================================\n"
     ]
    },
    {
     "name": "stdout",
     "output_type": "stream",
     "text": [
      "epoch: 10, [batch: 1 / 2078], examples_per_second: 10.5507, train_label_loss: 0.0489, \n"
     ]
    },
    {
     "name": "stdout",
     "output_type": "stream",
     "text": [
      "epoch: 10, [batch: 208 / 2078], examples_per_second: 3214.2158, train_label_loss: 0.0010, \n"
     ]
    },
    {
     "name": "stdout",
     "output_type": "stream",
     "text": [
      "epoch: 10, [batch: 416 / 2078], examples_per_second: 3251.9978, train_label_loss: 0.0110, \n"
     ]
    },
    {
     "name": "stdout",
     "output_type": "stream",
     "text": [
      "epoch: 10, [batch: 624 / 2078], examples_per_second: 3241.3124, train_label_loss: 0.0955, \n"
     ]
    },
    {
     "name": "stdout",
     "output_type": "stream",
     "text": [
      "epoch: 10, [batch: 831 / 2078], examples_per_second: 3220.1774, train_label_loss: 0.1016, \n"
     ]
    },
    {
     "name": "stdout",
     "output_type": "stream",
     "text": [
      "epoch: 10, [batch: 1039 / 2078], examples_per_second: 3216.5185, train_label_loss: 0.0080, \n"
     ]
    },
    {
     "name": "stdout",
     "output_type": "stream",
     "text": [
      "epoch: 10, [batch: 1247 / 2078], examples_per_second: 3225.8956, train_label_loss: 0.0434, \n"
     ]
    },
    {
     "name": "stdout",
     "output_type": "stream",
     "text": [
      "epoch: 10, [batch: 1454 / 2078], examples_per_second: 3229.4069, train_label_loss: 0.4030, \n"
     ]
    },
    {
     "name": "stdout",
     "output_type": "stream",
     "text": [
      "epoch: 10, [batch: 1662 / 2078], examples_per_second: 3212.7615, train_label_loss: 0.0179, \n"
     ]
    },
    {
     "name": "stdout",
     "output_type": "stream",
     "text": [
      "epoch: 10, [batch: 1870 / 2078], examples_per_second: 3235.6417, train_label_loss: 0.4592, \n"
     ]
    },
    {
     "name": "stdout",
     "output_type": "stream",
     "text": [
      "=============================================================\n",
      "epoch: 10, source_val_acc_label: 0.9719, target_val_acc_label: 0.2720, source_val_label_loss: 0.1431, target_val_label_loss: 2.1062, \n",
      "=============================================================\n"
     ]
    },
    {
     "name": "stdout",
     "output_type": "stream",
     "text": [
      "epoch: 11, [batch: 1 / 2075], examples_per_second: 10.4758, train_label_loss: 0.0007, \n"
     ]
    },
    {
     "name": "stdout",
     "output_type": "stream",
     "text": [
      "epoch: 11, [batch: 208 / 2075], examples_per_second: 3210.3051, train_label_loss: 0.0029, \n"
     ]
    },
    {
     "name": "stdout",
     "output_type": "stream",
     "text": [
      "epoch: 11, [batch: 415 / 2075], examples_per_second: 3230.7985, train_label_loss: 0.1047, \n"
     ]
    },
    {
     "name": "stdout",
     "output_type": "stream",
     "text": [
      "epoch: 11, [batch: 623 / 2075], examples_per_second: 3250.3777, train_label_loss: 0.0002, \n"
     ]
    },
    {
     "name": "stdout",
     "output_type": "stream",
     "text": [
      "epoch: 11, [batch: 830 / 2075], examples_per_second: 3245.2447, train_label_loss: 0.1668, \n"
     ]
    },
    {
     "name": "stdout",
     "output_type": "stream",
     "text": [
      "epoch: 11, [batch: 1038 / 2075], examples_per_second: 3228.0344, train_label_loss: 0.0025, \n"
     ]
    },
    {
     "name": "stdout",
     "output_type": "stream",
     "text": [
      "epoch: 11, [batch: 1245 / 2075], examples_per_second: 3228.1867, train_label_loss: 0.1064, \n"
     ]
    },
    {
     "name": "stdout",
     "output_type": "stream",
     "text": [
      "epoch: 11, [batch: 1452 / 2075], examples_per_second: 3237.8862, train_label_loss: 0.1675, \n"
     ]
    },
    {
     "name": "stdout",
     "output_type": "stream",
     "text": [
      "epoch: 11, [batch: 1660 / 2075], examples_per_second: 3210.4119, train_label_loss: 0.0098, \n"
     ]
    },
    {
     "name": "stdout",
     "output_type": "stream",
     "text": [
      "epoch: 11, [batch: 1867 / 2075], examples_per_second: 3245.5896, train_label_loss: 0.0177, \n"
     ]
    },
    {
     "name": "stdout",
     "output_type": "stream",
     "text": [
      "=============================================================\n",
      "epoch: 11, source_val_acc_label: 0.9408, target_val_acc_label: 0.1434, source_val_label_loss: 0.2448, target_val_label_loss: 2.5776, \n",
      "=============================================================\n"
     ]
    },
    {
     "name": "stdout",
     "output_type": "stream",
     "text": [
      "Patience (3) exhausted\n"
     ]
    }
   ],
   "source": [
    "###################################\n",
    "# train\n",
    "###################################\n",
    "jig = PTN_Train_Eval_Test_Jig(model, p.BEST_MODEL_PATH, p.device)\n",
    "\n",
    "jig.train(\n",
    "    train_iterable=datasets.source.processed.train,\n",
    "    source_val_iterable=datasets.source.processed.val,\n",
    "    target_val_iterable=datasets.target.processed.val,\n",
    "    num_epochs=p.n_epoch,\n",
    "    num_logs_per_epoch=p.NUM_LOGS_PER_EPOCH,\n",
    "    patience=p.patience,\n",
    "    optimizer=optimizer,\n",
    "    criteria_for_best=p.criteria_for_best,\n",
    ")"
   ]
  },
  {
   "cell_type": "code",
   "execution_count": 23,
   "id": "31e8fabf",
   "metadata": {
    "execution": {
     "iopub.execute_input": "2022-03-18T09:32:31.080481Z",
     "iopub.status.busy": "2022-03-18T09:32:31.080229Z",
     "iopub.status.idle": "2022-03-18T09:32:31.100019Z",
     "shell.execute_reply": "2022-03-18T09:32:31.099577Z"
    },
    "papermill": {
     "duration": 0.059956,
     "end_time": "2022-03-18T09:32:31.100108",
     "exception": false,
     "start_time": "2022-03-18T09:32:31.040152",
     "status": "completed"
    },
    "tags": []
   },
   "outputs": [],
   "source": [
    "total_experiment_time_secs = time.time() - start_time_secs"
   ]
  },
  {
   "cell_type": "code",
   "execution_count": 24,
   "id": "87b9595b",
   "metadata": {
    "execution": {
     "iopub.execute_input": "2022-03-18T09:32:31.182197Z",
     "iopub.status.busy": "2022-03-18T09:32:31.181929Z",
     "iopub.status.idle": "2022-03-18T09:33:36.347817Z",
     "shell.execute_reply": "2022-03-18T09:33:36.348215Z"
    },
    "papermill": {
     "duration": 65.207533,
     "end_time": "2022-03-18T09:33:36.348345",
     "exception": false,
     "start_time": "2022-03-18T09:32:31.140812",
     "status": "completed"
    },
    "tags": []
   },
   "outputs": [],
   "source": [
    "###################################\n",
    "# Evaluate the model\n",
    "###################################\n",
    "source_test_label_accuracy, source_test_label_loss = jig.test(datasets.source.processed.test)\n",
    "target_test_label_accuracy, target_test_label_loss = jig.test(datasets.target.processed.test)\n",
    "\n",
    "source_val_label_accuracy, source_val_label_loss = jig.test(datasets.source.processed.val)\n",
    "target_val_label_accuracy, target_val_label_loss = jig.test(datasets.target.processed.val)\n",
    "\n",
    "history = jig.get_history()\n",
    "\n",
    "total_epochs_trained = len(history[\"epoch_indices\"])\n",
    "\n",
    "val_dl = Iterable_Aggregator((datasets.source.original.val,datasets.target.original.val))\n",
    "\n",
    "confusion = ptn_confusion_by_domain_over_dataloader(model, p.device, val_dl)\n",
    "per_domain_accuracy = per_domain_accuracy_from_confusion(confusion)\n",
    "\n",
    "# Add a key to per_domain_accuracy for if it was a source domain\n",
    "for domain, accuracy in per_domain_accuracy.items():\n",
    "    per_domain_accuracy[domain] = {\n",
    "        \"accuracy\": accuracy,\n",
    "        \"source?\": domain in p.domains_source\n",
    "    }\n",
    "\n",
    "# Do an independent accuracy assesment JUST TO BE SURE!\n",
    "# _source_test_label_accuracy = independent_accuracy_assesment(model, datasets.source.processed.test, p.device)\n",
    "# _target_test_label_accuracy = independent_accuracy_assesment(model, datasets.target.processed.test, p.device)\n",
    "# _source_val_label_accuracy = independent_accuracy_assesment(model, datasets.source.processed.val, p.device)\n",
    "# _target_val_label_accuracy = independent_accuracy_assesment(model, datasets.target.processed.val, p.device)\n",
    "\n",
    "# assert(_source_test_label_accuracy == source_test_label_accuracy)\n",
    "# assert(_target_test_label_accuracy == target_test_label_accuracy)\n",
    "# assert(_source_val_label_accuracy == source_val_label_accuracy)\n",
    "# assert(_target_val_label_accuracy == target_val_label_accuracy)\n",
    "\n",
    "experiment = {\n",
    "    \"experiment_name\": p.experiment_name,\n",
    "    \"parameters\": dict(p),\n",
    "    \"results\": {\n",
    "        \"source_test_label_accuracy\": source_test_label_accuracy,\n",
    "        \"source_test_label_loss\": source_test_label_loss,\n",
    "        \"target_test_label_accuracy\": target_test_label_accuracy,\n",
    "        \"target_test_label_loss\": target_test_label_loss,\n",
    "        \"source_val_label_accuracy\": source_val_label_accuracy,\n",
    "        \"source_val_label_loss\": source_val_label_loss,\n",
    "        \"target_val_label_accuracy\": target_val_label_accuracy,\n",
    "        \"target_val_label_loss\": target_val_label_loss,\n",
    "        \"total_epochs_trained\": total_epochs_trained,\n",
    "        \"total_experiment_time_secs\": total_experiment_time_secs,\n",
    "        \"confusion\": confusion,\n",
    "        \"per_domain_accuracy\": per_domain_accuracy,\n",
    "    },\n",
    "    \"history\": history,\n",
    "    \"dataset_metrics\": get_dataset_metrics(datasets, \"ptn\"),\n",
    "}"
   ]
  },
  {
   "cell_type": "code",
   "execution_count": 25,
   "id": "54a21829",
   "metadata": {
    "execution": {
     "iopub.execute_input": "2022-03-18T09:33:36.430220Z",
     "iopub.status.busy": "2022-03-18T09:33:36.429965Z",
     "iopub.status.idle": "2022-03-18T09:33:36.553331Z",
     "shell.execute_reply": "2022-03-18T09:33:36.553687Z"
    },
    "papermill": {
     "duration": 0.163152,
     "end_time": "2022-03-18T09:33:36.553798",
     "exception": false,
     "start_time": "2022-03-18T09:33:36.390646",
     "status": "completed"
    },
    "tags": []
   },
   "outputs": [
    {
     "data": {
      "image/png": "[encoded data removed]",
      "text/plain": [
       "<Figure size 1080x504 with 1 Axes>"
      ]
     },
     "metadata": {
      "needs_background": "light"
     },
     "output_type": "display_data"
    }
   ],
   "source": [
    "ax = get_loss_curve(experiment)\n",
    "plt.show()"
   ]
  },
  {
   "cell_type": "code",
   "execution_count": 26,
   "id": "fd8a0f60",
   "metadata": {
    "execution": {
     "iopub.execute_input": "2022-03-18T09:33:36.636670Z",
     "iopub.status.busy": "2022-03-18T09:33:36.636419Z",
     "iopub.status.idle": "2022-03-18T09:33:36.779187Z",
     "shell.execute_reply": "2022-03-18T09:33:36.778961Z"
    },
    "papermill": {
     "duration": 0.182863,
     "end_time": "2022-03-18T09:33:36.779247",
     "exception": false,
     "start_time": "2022-03-18T09:33:36.596384",
     "status": "completed"
    },
    "tags": []
   },
   "outputs": [
    {
     "data": {
      "text/plain": [
       "<AxesSubplot:title={'center':'Results'}>"
      ]
     },
     "execution_count": 26,
     "metadata": {},
     "output_type": "execute_result"
    },
    {
     "data": {
      "image/png": "[encoded data removed]",
      "text/plain": [
       "<Figure size 1080x504 with 1 Axes>"
      ]
     },
     "metadata": {
      "needs_background": "light"
     },
     "output_type": "display_data"
    }
   ],
   "source": [
    "get_results_table(experiment)"
   ]
  },
  {
   "cell_type": "code",
   "execution_count": 27,
   "id": "cf8dc689",
   "metadata": {
    "execution": {
     "iopub.execute_input": "2022-03-18T09:33:36.861220Z",
     "iopub.status.busy": "2022-03-18T09:33:36.860969Z",
     "iopub.status.idle": "2022-03-18T09:33:37.023613Z",
     "shell.execute_reply": "2022-03-18T09:33:37.023152Z"
    },
    "papermill": {
     "duration": 0.204586,
     "end_time": "2022-03-18T09:33:37.023703",
     "exception": false,
     "start_time": "2022-03-18T09:33:36.819117",
     "status": "completed"
    },
    "tags": []
   },
   "outputs": [
    {
     "data": {
      "text/plain": [
       "<AxesSubplot:title={'center':'Per Domain Validation Accuracy'}, xlabel='domain'>"
      ]
     },
     "execution_count": 27,
     "metadata": {},
     "output_type": "execute_result"
    },
    {
     "data": {
      "image/png": "[encoded data removed]",
      "text/plain": [
       "<Figure size 1080x504 with 1 Axes>"
      ]
     },
     "metadata": {
      "needs_background": "light"
     },
     "output_type": "display_data"
    }
   ],
   "source": [
    "get_domain_accuracies(experiment)"
   ]
  },
  {
   "cell_type": "code",
   "execution_count": 28,
   "id": "a74ae082",
   "metadata": {
    "execution": {
     "iopub.execute_input": "2022-03-18T09:33:37.110342Z",
     "iopub.status.busy": "2022-03-18T09:33:37.110085Z",
     "iopub.status.idle": "2022-03-18T09:33:37.122525Z",
     "shell.execute_reply": "2022-03-18T09:33:37.122884Z"
    },
    "papermill": {
     "duration": 0.054958,
     "end_time": "2022-03-18T09:33:37.122993",
     "exception": false,
     "start_time": "2022-03-18T09:33:37.068035",
     "status": "completed"
    },
    "tags": []
   },
   "outputs": [
    {
     "name": "stdout",
     "output_type": "stream",
     "text": [
      "Source Test Label Accuracy: 0.9624357876712328 Target Test Label Accuracy: 0.2862630208333333\n",
      "Source Val Label Accuracy: 0.9680008561643836 Target Val Label Accuracy: 0.28203125\n"
     ]
    }
   ],
   "source": [
    "print(\"Source Test Label Accuracy:\", experiment[\"results\"][\"source_test_label_accuracy\"], \"Target Test Label Accuracy:\", experiment[\"results\"][\"target_test_label_accuracy\"])\n",
    "print(\"Source Val Label Accuracy:\", experiment[\"results\"][\"source_val_label_accuracy\"], \"Target Val Label Accuracy:\", experiment[\"results\"][\"target_val_label_accuracy\"])"
   ]
  },
  {
   "cell_type": "code",
   "execution_count": 29,
   "id": "dacca602",
   "metadata": {
    "execution": {
     "iopub.execute_input": "2022-03-18T09:33:37.234804Z",
     "iopub.status.busy": "2022-03-18T09:33:37.234551Z",
     "iopub.status.idle": "2022-03-18T09:33:37.252243Z",
     "shell.execute_reply": "2022-03-18T09:33:37.252537Z"
    },
    "papermill": {
     "duration": 0.06099,
     "end_time": "2022-03-18T09:33:37.252622",
     "exception": false,
     "start_time": "2022-03-18T09:33:37.191632",
     "status": "completed"
    },
    "tags": [
     "experiment_json"
    ]
   },
   "outputs": [
    {
     "data": {
      "text/plain": [
       "'{\"experiment_name\": \"tl_3-jitter5:cores+wisig -> oracle.run1.framed\", \"parameters\": {\"experiment_name\": \"tl_3-jitter5:cores+wisig -> oracle.run1.framed\", \"device\": \"cuda\", \"lr\": 0.001, \"seed\": 1337, \"dataset_seed\": 1337, \"n_shot\": 3, \"n_query\": 2, \"train_k_factor\": 3, \"val_k_factor\": 2, \"test_k_factor\": 2, \"torch_default_dtype\": \"torch.float32\", \"n_epoch\": 50, \"patience\": 3, \"criteria_for_best\": \"target_loss\", \"x_net\": [{\"class\": \"nnReshape\", \"kargs\": {\"shape\": [-1, 1, 2, 256]}}, {\"class\": \"Conv2d\", \"kargs\": {\"in_channels\": 1, \"out_channels\": 256, \"kernel_size\": [1, 7], \"bias\": false, \"padding\": [0, 3]}}, {\"class\": \"ReLU\", \"kargs\": {\"inplace\": true}}, {\"class\": \"BatchNorm2d\", \"kargs\": {\"num_features\": 256}}, {\"class\": \"Conv2d\", \"kargs\": {\"in_channels\": 256, \"out_channels\": 80, \"kernel_size\": [2, 7], \"bias\": true, \"padding\": [0, 3]}}, {\"class\": \"ReLU\", \"kargs\": {\"inplace\": true}}, {\"class\": \"BatchNorm2d\", \"kargs\": {\"num_features\": 80}}, {\"class\": \"Flatten\", \"kargs\": {}}, {\"class\": \"Linear\", \"kargs\": {\"in_features\": 20480, \"out_features\": 256}}, {\"class\": \"ReLU\", \"kargs\": {\"inplace\": true}}, {\"class\": \"BatchNorm1d\", \"kargs\": {\"num_features\": 256}}, {\"class\": \"Linear\", \"kargs\": {\"in_features\": 256, \"out_features\": 256}}], \"NUM_LOGS_PER_EPOCH\": 10, \"BEST_MODEL_PATH\": \"./best_model.pth\", \"n_way\": 16, \"datasets\": [{\"labels\": [\"1-10.\", \"1-11.\", \"1-15.\", \"1-16.\", \"1-17.\", \"1-18.\", \"1-19.\", \"10-4.\", \"10-7.\", \"11-1.\", \"11-14.\", \"11-17.\", \"11-20.\", \"11-7.\", \"13-20.\", \"13-8.\", \"14-10.\", \"14-11.\", \"14-14.\", \"14-7.\", \"15-1.\", \"15-20.\", \"16-1.\", \"16-16.\", \"17-10.\", \"17-11.\", \"17-2.\", \"19-1.\", \"19-16.\", \"19-19.\", \"19-20.\", \"19-3.\", \"2-10.\", \"2-11.\", \"2-17.\", \"2-18.\", \"2-20.\", \"2-3.\", \"2-4.\", \"2-5.\", \"2-6.\", \"2-7.\", \"2-8.\", \"3-13.\", \"3-18.\", \"3-3.\", \"4-1.\", \"4-10.\", \"4-11.\", \"4-19.\", \"5-5.\", \"6-15.\", \"7-10.\", \"7-14.\", \"8-18.\", \"8-20.\", \"8-3.\", \"8-8.\"], \"domains\": [1, 2, 3, 4, 5], \"num_examples_per_domain_per_label\": 100, \"pickle_path\": \"/mnt/wd500GB/CSC500/csc500-main/datasets/cores.stratified_ds.2022A.pkl\", \"source_or_target_dataset\": \"source\", \"x_transforms\": [\"unit_mag\", \"jitter_256_5\", \"take_200\"], \"episode_transforms\": [], \"domain_prefix\": \"C_A_\"}, {\"labels\": [\"1-10\", \"1-12\", \"1-14\", \"1-16\", \"1-18\", \"1-19\", \"1-8\", \"10-11\", \"10-17\", \"10-4\", \"10-7\", \"11-1\", \"11-10\", \"11-19\", \"11-20\", \"11-4\", \"11-7\", \"12-19\", \"12-20\", \"12-7\", \"13-14\", \"13-18\", \"13-19\", \"13-20\", \"13-3\", \"13-7\", \"14-10\", \"14-11\", \"14-12\", \"14-13\", \"14-14\", \"14-19\", \"14-20\", \"14-7\", \"14-8\", \"14-9\", \"15-1\", \"15-19\", \"15-6\", \"16-1\", \"16-16\", \"16-19\", \"16-20\", \"17-10\", \"17-11\", \"18-1\", \"18-10\", \"18-11\", \"18-12\", \"18-13\", \"18-14\", \"18-15\", \"18-16\", \"18-17\", \"18-19\", \"18-2\", \"18-20\", \"18-4\", \"18-5\", \"18-7\", \"18-8\", \"18-9\", \"19-1\", \"19-10\", \"19-11\", \"19-12\", \"19-13\", \"19-14\", \"19-15\", \"19-19\", \"19-2\", \"19-20\", \"19-3\", \"19-4\", \"19-6\", \"19-7\", \"19-8\", \"19-9\", \"2-1\", \"2-13\", \"2-15\", \"2-3\", \"2-4\", \"2-5\", \"2-6\", \"2-7\", \"2-8\", \"20-1\", \"20-12\", \"20-14\", \"20-15\", \"20-16\", \"20-18\", \"20-19\", \"20-20\", \"20-3\", \"20-4\", \"20-5\", \"20-7\", \"20-8\", \"3-1\", \"3-13\", \"3-18\", \"3-2\", \"3-8\", \"4-1\", \"4-10\", \"4-11\", \"5-1\", \"5-5\", \"6-1\", \"6-15\", \"6-6\", \"7-10\", \"7-11\", \"7-12\", \"7-13\", \"7-14\", \"7-7\", \"7-8\", \"7-9\", \"8-1\", \"8-13\", \"8-14\", \"8-18\", \"8-20\", \"8-3\", \"8-8\", \"9-1\", \"9-7\"], \"domains\": [1, 2, 3, 4], \"num_examples_per_domain_per_label\": 100, \"pickle_path\": \"/mnt/wd500GB/CSC500/csc500-main/datasets/wisig.node3-19.stratified_ds.2022A.pkl\", \"source_or_target_dataset\": \"source\", \"x_transforms\": [\"unit_mag\", \"jitter_256_5\", \"take_200\"], \"episode_transforms\": [], \"domain_prefix\": \"W_A_\"}, {\"labels\": [\"3123D52\", \"3123D65\", \"3123D79\", \"3123D80\", \"3123D54\", \"3123D70\", \"3123D7B\", \"3123D89\", \"3123D58\", \"3123D76\", \"3123D7D\", \"3123EFE\", \"3123D64\", \"3123D78\", \"3123D7E\", \"3124E4A\"], \"domains\": [32, 38, 8, 44, 14, 50, 20, 26], \"num_examples_per_domain_per_label\": 2000, \"pickle_path\": \"/mnt/wd500GB/CSC500/csc500-main/datasets/oracle.Run1_framed_2000Examples_stratified_ds.2022A.pkl\", \"source_or_target_dataset\": \"target\", \"x_transforms\": [\"unit_mag\", \"jitter_256_5\", \"take_200\", \"resample_20Msps_to_25Msps\"], \"episode_transforms\": [], \"domain_prefix\": \"ORACLE.run1_\"}], \"x_shape\": [2, 256], \"domains_source\": [\"C_A_1\", \"C_A_2\", \"C_A_3\", \"C_A_4\", \"C_A_5\", \"W_A_1\", \"W_A_2\", \"W_A_3\", \"W_A_4\"], \"domains_target\": [\"ORACLE.run1_32\", \"ORACLE.run1_38\", \"ORACLE.run1_8\", \"ORACLE.run1_44\", \"ORACLE.run1_14\", \"ORACLE.run1_50\", \"ORACLE.run1_20\", \"ORACLE.run1_26\"]}, \"results\": {\"source_test_label_accuracy\": 0.9624357876712328, \"source_test_label_loss\": 0.17706701159477234, \"target_test_label_accuracy\": 0.2862630208333333, \"target_test_label_loss\": 2.061095714569092, \"source_val_label_accuracy\": 0.9680008561643836, \"source_val_label_loss\": 0.15617655217647552, \"target_val_label_accuracy\": 0.28203125, \"target_val_label_loss\": 2.0720603466033936, \"total_epochs_trained\": 11, \"total_experiment_time_secs\": 740.1508455276489, \"confusion\": {\"C_A_3\": {\"43\": {\"43\": 12}, \"9\": {\"9\": 12}, \"6\": {\"6\": 10}, \"3\": {\"3\": 12}, \"16\": {\"16\": 12}, \"51\": {\"51\": 12}, \"31\": {\"31\": 12}, \"46\": {\"46\": 9, \"20\": 1}, \"19\": {\"19\": 8}, \"8\": {\"8\": 12}, \"18\": {\"18\": 12}, \"37\": {\"37\": 12}, \"24\": {\"24\": 12}, \"10\": {\"10\": 12}, \"44\": {\"44\": 10}, \"14\": {\"14\": 12}, \"38\": {\"38\": 10}, \"53\": {\"53\": 12}, \"20\": {\"20\": 12}, \"32\": {\"32\": 12}, \"36\": {\"36\": 10}, \"33\": {\"33\": 12}, \"56\": {\"56\": 12}, \"23\": {\"23\": 12}, \"54\": {\"54\": 10}, \"34\": {\"34\": 12}, \"13\": {\"13\": 12}, \"2\": {\"2\": 12}, \"55\": {\"55\": 10}, \"21\": {\"21\": 10}, \"49\": {\"49\": 10}, \"25\": {\"25\": 12}, \"5\": {\"5\": 11, \"43\": 1}, \"50\": {\"50\": 8}, \"40\": {\"40\": 12}, \"57\": {\"57\": 8}, \"22\": {\"22\": 10}, \"1\": {\"1\": 10}, \"17\": {\"17\": 12}, \"41\": {\"41\": 12}, \"4\": {\"4\": 10}, \"7\": {\"7\": 10}, \"26\": {\"26\": 10}, \"29\": {\"29\": 12}, \"52\": {\"52\": 12}, \"15\": {\"15\": 12}, \"35\": {\"35\": 12}, \"42\": {\"42\": 12}, \"30\": {\"30\": 10}, \"27\": {\"27\": 8}, \"45\": {\"45\": 10}, \"0\": {\"0\": 12}, \"28\": {\"28\": 12}, \"47\": {\"47\": 12}, \"11\": {\"11\": 10}, \"39\": {\"39\": 10}, \"48\": {\"48\": 12}, \"12\": {\"12\": 8}}, \"W_A_3\": {\"109\": {\"109\": 12}, \"127\": {\"127\": 12}, \"14\": {\"14\": 12}, \"7\": {\"7\": 12}, \"129\": {\"129\": 12}, \"57\": {\"57\": 12}, \"84\": {\"84\": 10, \"7\": 1, \"121\": 1}, \"114\": {\"114\": 12}, \"44\": {\"44\": 10, \"28\": 2}, \"21\": {\"21\": 12}, \"46\": {\"46\": 12}, \"100\": {\"100\": 11, \"107\": 1}, \"63\": {\"63\": 8, \"129\": 1, \"111\": 1, \"47\": 1, \"21\": 1}, \"24\": {\"24\": 9, \"63\": 1, \"94\": 1, \"43\": 1}, \"107\": {\"107\": 12}, \"35\": {\"57\": 1, \"35\": 8, \"72\": 1}, \"81\": {\"81\": 12}, \"64\": {\"64\": 12}, \"59\": {\"36\": 1, \"59\": 11}, \"33\": {\"33\": 12}, \"34\": {\"34\": 10, \"91\": 1, \"75\": 1}, \"36\": {\"36\": 12}, \"79\": {\"79\": 12}, \"80\": {\"80\": 11, \"110\": 1}, \"77\": {\"77\": 12}, \"22\": {\"22\": 12}, \"124\": {\"124\": 12}, \"2\": {\"2\": 12}, \"87\": {\"87\": 11, \"67\": 1}, \"105\": {\"105\": 12}, \"95\": {\"95\": 12}, \"43\": {\"43\": 10, \"14\": 1, \"33\": 1}, \"56\": {\"56\": 10}, \"18\": {\"18\": 12}, \"85\": {\"85\": 12}, \"113\": {\"113\": 12}, \"97\": {\"97\": 12}, \"86\": {\"86\": 12}, \"128\": {\"128\": 9, \"56\": 1, \"60\": 2}, \"123\": {\"123\": 11, \"63\": 1}, \"8\": {\"8\": 12}, \"110\": {\"110\": 12}, \"126\": {\"126\": 12}, \"101\": {\"101\": 12}, \"115\": {\"115\": 12}, \"49\": {\"49\": 12}, \"45\": {\"45\": 12}, \"78\": {\"78\": 7, \"123\": 1, \"13\": 1, \"82\": 1, \"76\": 2}, \"65\": {\"65\": 9, \"81\": 1}, \"54\": {\"54\": 12}, \"31\": {\"31\": 10}, \"42\": {\"42\": 11, \"82\": 1}, \"68\": {\"68\": 12}, \"15\": {\"15\": 12}, \"69\": {\"69\": 12}, \"17\": {\"17\": 6, \"41\": 1, \"104\": 1, \"42\": 1, \"76\": 1}, \"73\": {\"73\": 12}, \"121\": {\"121\": 12}, \"102\": {\"102\": 12}, \"48\": {\"48\": 12}, \"23\": {\"23\": 9, \"67\": 1, \"71\": 2}, \"108\": {\"108\": 12}, \"53\": {\"53\": 12}, \"94\": {\"94\": 10}, \"41\": {\"41\": 12}, \"58\": {\"58\": 12}, \"29\": {\"29\": 12}, \"116\": {\"116\": 12}, \"60\": {\"60\": 11, \"70\": 1}, \"104\": {\"104\": 12}, \"106\": {\"106\": 12}, \"66\": {\"66\": 12}, \"47\": {\"47\": 12}, \"40\": {\"40\": 12}, \"82\": {\"82\": 12}, \"13\": {\"13\": 10, \"51\": 1, \"100\": 1}, \"19\": {\"19\": 12}, \"72\": {\"72\": 12}, \"9\": {\"9\": 12}, \"67\": {\"67\": 12}, \"11\": {\"11\": 12}, \"125\": {\"125\": 12}, \"76\": {\"76\": 8}, \"83\": {\"83\": 12}, \"74\": {\"74\": 11, \"24\": 1}, \"20\": {\"20\": 12}, \"119\": {\"119\": 12}, \"1\": {\"1\": 12}, \"16\": {\"16\": 12}, \"25\": {\"25\": 11, \"37\": 1}, \"90\": {\"90\": 8}, \"39\": {\"39\": 12}, \"28\": {\"28\": 12}, \"55\": {\"55\": 12}, \"117\": {\"117\": 11, \"89\": 1}, \"112\": {\"112\": 12}, \"38\": {\"38\": 12}, \"37\": {\"37\": 12}, \"120\": {\"120\": 12}, \"122\": {\"122\": 11, \"87\": 1}, \"50\": {\"50\": 12}, \"10\": {\"10\": 12}, \"5\": {\"5\": 12}, \"51\": {\"51\": 12}, \"3\": {\"3\": 10, \"70\": 1, \"89\": 1}, \"98\": {\"98\": 11, \"60\": 1}, \"70\": {\"49\": 2, \"70\": 10}, \"96\": {\"96\": 12}, \"12\": {\"12\": 12}, \"99\": {\"99\": 12}, \"52\": {\"52\": 12}, \"71\": {\"71\": 10, \"82\": 1, \"61\": 1}, \"89\": {\"89\": 12}, \"0\": {\"0\": 12}, \"4\": {\"4\": 9, \"116\": 1, \"121\": 1, \"2\": 1}, \"93\": {\"93\": 12}, \"6\": {\"6\": 8, \"75\": 1, \"58\": 1}, \"75\": {\"75\": 12}, \"62\": {\"62\": 12}, \"103\": {\"103\": 12}, \"30\": {\"30\": 12}, \"91\": {\"91\": 10, \"103\": 1, \"77\": 1}, \"27\": {\"27\": 12}, \"26\": {\"26\": 12}, \"61\": {\"61\": 12}, \"118\": {\"118\": 12}, \"92\": {\"92\": 12}, \"111\": {\"111\": 12}, \"32\": {\"32\": 12}, \"88\": {\"88\": 10}}, \"C_A_4\": {\"35\": {\"35\": 10}, \"25\": {\"25\": 12}, \"24\": {\"24\": 10}, \"48\": {\"48\": 12}, \"51\": {\"51\": 12}, \"13\": {\"13\": 12}, \"14\": {\"14\": 7, \"34\": 1}, \"32\": {\"32\": 12}, \"30\": {\"30\": 12}, \"34\": {\"34\": 10}, \"9\": {\"9\": 12}, \"1\": {\"1\": 12}, \"0\": {\"0\": 12}, \"38\": {\"38\": 12}, \"22\": {\"22\": 8}, \"40\": {\"40\": 12}, \"39\": {\"39\": 12}, \"46\": {\"46\": 10, \"5\": 1, \"11\": 1}, \"36\": {\"36\": 12}, \"50\": {\"50\": 12}, \"49\": {\"49\": 12}, \"17\": {\"17\": 12}, \"45\": {\"45\": 12}, \"6\": {\"6\": 12}, \"8\": {\"8\": 12}, \"5\": {\"5\": 9, \"46\": 1}, \"33\": {\"33\": 12}, \"31\": {\"31\": 12}, \"37\": {\"37\": 10}, \"47\": {\"47\": 8}, \"15\": {\"15\": 10}, \"7\": {\"7\": 12}, \"20\": {\"20\": 12}, \"4\": {\"4\": 12}, \"54\": {\"54\": 12}, \"44\": {\"44\": 12}, \"3\": {\"3\": 11, \"50\": 1}, \"11\": {\"11\": 10}, \"27\": {\"27\": 10}, \"19\": {\"19\": 12}, \"55\": {\"55\": 12}, \"16\": {\"16\": 12}, \"2\": {\"2\": 10}, \"52\": {\"52\": 10}, \"42\": {\"42\": 10}, \"26\": {\"26\": 12}, \"10\": {\"10\": 12}, \"53\": {\"53\": 10}, \"28\": {\"28\": 12}, \"21\": {\"21\": 10}, \"57\": {\"57\": 10}, \"23\": {\"23\": 8}, \"43\": {\"43\": 10}, \"12\": {\"12\": 12}, \"41\": {\"41\": 12}, \"56\": {\"56\": 8}, \"18\": {\"18\": 10}, \"29\": {\"29\": 8}}, \"C_A_5\": {\"47\": {\"47\": 10}, \"53\": {\"53\": 12}, \"29\": {\"29\": 12}, \"52\": {\"52\": 12}, \"55\": {\"55\": 12}, \"17\": {\"17\": 12}, \"42\": {\"42\": 12}, \"33\": {\"33\": 10}, \"11\": {\"11\": 9, \"15\": 3}, \"19\": {\"19\": 8}, \"1\": {\"1\": 12}, \"44\": {\"44\": 12}, \"49\": {\"49\": 12}, \"4\": {\"4\": 12}, \"6\": {\"6\": 11, \"17\": 1}, \"39\": {\"39\": 12}, \"13\": {\"13\": 12}, \"5\": {\"5\": 10}, \"16\": {\"16\": 10}, \"25\": {\"25\": 12}, \"45\": {\"45\": 12}, \"7\": {\"7\": 10}, \"22\": {\"22\": 12}, \"40\": {\"40\": 12}, \"38\": {\"38\": 12}, \"35\": {\"35\": 8}, \"56\": {\"56\": 12}, \"50\": {\"50\": 10}, \"0\": {\"0\": 12}, \"10\": {\"10\": 12}, \"27\": {\"27\": 12}, \"20\": {\"20\": 10}, \"36\": {\"36\": 8}, \"34\": {\"34\": 12}, \"30\": {\"30\": 12}, \"2\": {\"2\": 10}, \"15\": {\"15\": 12}, \"18\": {\"18\": 12}, \"32\": {\"32\": 12}, \"31\": {\"31\": 12}, \"57\": {\"57\": 12}, \"48\": {\"48\": 8}, \"28\": {\"28\": 10}, \"14\": {\"14\": 10, \"37\": 1, \"49\": 1}, \"3\": {\"3\": 12}, \"8\": {\"8\": 12}, \"9\": {\"9\": 12}, \"21\": {\"21\": 10}, \"41\": {\"41\": 12}, \"24\": {\"24\": 12}, \"46\": {\"46\": 10}, \"43\": {\"43\": 10}, \"54\": {\"54\": 10}, \"23\": {\"23\": 10}, \"37\": {\"37\": 10}, \"12\": {\"12\": 10}, \"26\": {\"26\": 10}, \"51\": {\"51\": 6}}, \"C_A_1\": {\"46\": {\"46\": 11, \"50\": 1}, \"16\": {\"16\": 12}, \"26\": {\"26\": 12}, \"10\": {\"10\": 12}, \"9\": {\"9\": 10}, \"28\": {\"28\": 12}, \"51\": {\"51\": 12}, \"1\": {\"1\": 12}, \"55\": {\"55\": 12}, \"27\": {\"27\": 10}, \"22\": {\"22\": 12}, \"52\": {\"52\": 12}, \"3\": {\"3\": 12}, \"33\": {\"33\": 8}, \"47\": {\"47\": 12}, \"42\": {\"42\": 12}, \"12\": {\"12\": 4}, \"23\": {\"23\": 12}, \"49\": {\"49\": 10}, \"7\": {\"7\": 12}, \"4\": {\"4\": 12}, \"50\": {\"50\": 12}, \"19\": {\"19\": 12}, \"11\": {\"11\": 12}, \"31\": {\"31\": 10}, \"41\": {\"41\": 12}, \"56\": {\"56\": 10}, \"0\": {\"0\": 12}, \"57\": {\"57\": 12}, \"53\": {\"53\": 12}, \"43\": {\"43\": 12}, \"37\": {\"37\": 12}, \"2\": {\"2\": 8}, \"6\": {\"6\": 12}, \"18\": {\"18\": 12}, \"38\": {\"38\": 12}, \"15\": {\"15\": 12}, \"36\": {\"36\": 12}, \"39\": {\"39\": 8}, \"44\": {\"44\": 12}, \"8\": {\"8\": 12}, \"17\": {\"17\": 10}, \"5\": {\"5\": 12}, \"13\": {\"13\": 10}, \"40\": {\"40\": 10}, \"29\": {\"29\": 12}, \"48\": {\"48\": 12}, \"32\": {\"32\": 12}, \"30\": {\"30\": 12}, \"35\": {\"35\": 12}, \"25\": {\"25\": 12}, \"14\": {\"14\": 9, \"6\": 1, \"2\": 1, \"48\": 1}, \"54\": {\"54\": 10}, \"20\": {\"20\": 8}, \"21\": {\"21\": 10}, \"45\": {\"45\": 8}, \"24\": {\"24\": 8}, \"34\": {\"34\": 8}}, \"W_A_4\": {\"28\": {\"28\": 12}, \"4\": {\"4\": 12}, \"72\": {\"72\": 12}, \"111\": {\"111\": 12}, \"108\": {\"108\": 12}, \"43\": {\"43\": 8, \"105\": 1, \"122\": 1}, \"96\": {\"96\": 12}, \"89\": {\"89\": 12}, \"31\": {\"31\": 12}, \"45\": {\"45\": 12}, \"2\": {\"2\": 12}, \"114\": {\"114\": 12}, \"11\": {\"11\": 12}, \"12\": {\"12\": 12}, \"14\": {\"14\": 12}, \"90\": {\"90\": 12}, \"10\": {\"10\": 9, \"24\": 2, \"94\": 1}, \"63\": {\"82\": 1, \"63\": 10, \"72\": 1}, \"85\": {\"85\": 11, \"3\": 1}, \"64\": {\"64\": 12}, \"82\": {\"82\": 10, \"16\": 1, \"63\": 1}, \"58\": {\"58\": 12}, \"3\": {\"3\": 12}, \"54\": {\"54\": 12}, \"121\": {\"121\": 11, \"22\": 1}, \"42\": {\"42\": 12}, \"98\": {\"98\": 12}, \"123\": {\"123\": 11, \"113\": 1}, \"91\": {\"91\": 10, \"98\": 1, \"85\": 1}, \"66\": {\"66\": 12}, \"102\": {\"102\": 12}, \"122\": {\"122\": 11, \"51\": 1}, \"1\": {\"1\": 12}, \"15\": {\"15\": 12}, \"97\": {\"97\": 10, \"29\": 1, \"52\": 1}, \"75\": {\"75\": 12}, \"95\": {\"95\": 12}, \"57\": {\"57\": 12}, \"68\": {\"68\": 12}, \"125\": {\"125\": 12}, \"62\": {\"62\": 10}, \"27\": {\"27\": 10, \"21\": 1, \"80\": 1}, \"120\": {\"120\": 11, \"23\": 1}, \"26\": {\"26\": 12}, \"55\": {\"55\": 12}, \"71\": {\"71\": 11, \"103\": 1}, \"22\": {\"22\": 12}, \"99\": {\"99\": 12}, \"84\": {\"84\": 10, \"23\": 1, \"43\": 1}, \"37\": {\"37\": 12}, \"83\": {\"83\": 12}, \"46\": {\"46\": 12}, \"35\": {\"35\": 12}, \"13\": {\"13\": 12}, \"53\": {\"53\": 10, \"57\": 1, \"23\": 1}, \"127\": {\"127\": 12}, \"69\": {\"54\": 1, \"69\": 10, \"98\": 1}, \"48\": {\"48\": 11, \"60\": 1}, \"16\": {\"16\": 12}, \"0\": {\"0\": 11, \"129\": 1}, \"8\": {\"8\": 9, \"16\": 1, \"103\": 1, \"100\": 1}, \"9\": {\"9\": 12}, \"115\": {\"57\": 2, \"115\": 10}, \"70\": {\"70\": 9, \"78\": 1, \"53\": 2}, \"119\": {\"119\": 12}, \"59\": {\"59\": 12}, \"52\": {\"52\": 12}, \"60\": {\"60\": 12}, \"44\": {\"44\": 11, \"90\": 1}, \"51\": {\"51\": 8, \"12\": 1, \"70\": 2, \"127\": 1}, \"6\": {\"6\": 11, \"34\": 1}, \"73\": {\"73\": 12}, \"78\": {\"50\": 1, \"78\": 10, \"87\": 1}, \"92\": {\"92\": 12}, \"20\": {\"20\": 10, \"73\": 1, \"5\": 1}, \"17\": {\"17\": 12}, \"74\": {\"74\": 12}, \"19\": {\"19\": 12}, \"50\": {\"50\": 12}, \"34\": {\"34\": 10, \"6\": 1, \"59\": 1}, \"104\": {\"104\": 8}, \"33\": {\"33\": 11, \"51\": 1}, \"5\": {\"5\": 12}, \"7\": {\"7\": 11, \"23\": 1}, \"29\": {\"29\": 12}, \"25\": {\"25\": 12}, \"124\": {\"124\": 12}, \"117\": {\"117\": 10, \"59\": 1, \"61\": 1}, \"88\": {\"88\": 10, \"122\": 1, \"67\": 1}, \"61\": {\"61\": 11, \"88\": 1}, \"86\": {\"86\": 12}, \"116\": {\"116\": 12}, \"24\": {\"24\": 11, \"36\": 1}, \"128\": {\"128\": 11, \"21\": 1}, \"101\": {\"101\": 12}, \"65\": {\"65\": 9, \"0\": 1}, \"36\": {\"24\": 2, \"36\": 10}, \"21\": {\"21\": 11, \"51\": 1}, \"106\": {\"106\": 12}, \"118\": {\"118\": 10, \"103\": 1, \"60\": 1}, \"113\": {\"113\": 11, \"48\": 1}, \"40\": {\"40\": 12}, \"93\": {\"93\": 8}, \"94\": {\"94\": 9, \"36\": 3}, \"103\": {\"103\": 8, \"77\": 2, \"5\": 1, \"129\": 1}, \"110\": {\"110\": 12}, \"56\": {\"56\": 12}, \"39\": {\"39\": 10, \"81\": 2}, \"109\": {\"39\": 1, \"109\": 9, \"110\": 1, \"118\": 1}, \"67\": {\"67\": 10, \"76\": 1, \"88\": 1}, \"129\": {\"129\": 11, \"108\": 1}, \"30\": {\"30\": 12}, \"126\": {\"126\": 10, \"5\": 1, \"108\": 1}, \"87\": {\"51\": 1, \"87\": 10, \"78\": 1}, \"112\": {\"112\": 12}, \"100\": {\"100\": 12}, \"79\": {\"79\": 10}, \"81\": {\"81\": 11, \"12\": 1}, \"76\": {\"76\": 10}, \"47\": {\"47\": 11, \"51\": 1}, \"77\": {\"77\": 12}, \"23\": {\"103\": 1, \"86\": 1, \"23\": 4, \"123\": 1, \"77\": 1, \"9\": 1, \"98\": 1, \"65\": 1, \"78\": 1}, \"18\": {\"18\": 12}, \"49\": {\"49\": 12}, \"41\": {\"41\": 10, \"30\": 1, \"111\": 1}, \"32\": {\"32\": 12}, \"107\": {\"107\": 10}, \"80\": {\"80\": 11, \"126\": 1}, \"105\": {\"105\": 7, \"87\": 2, \"113\": 1}, \"38\": {\"38\": 10}}, \"W_A_1\": {\"108\": {\"108\": 10}, \"40\": {\"40\": 12}, \"68\": {\"68\": 12}, \"23\": {\"23\": 10, \"12\": 1, \"37\": 1}, \"26\": {\"3\": 1, \"26\": 11}, \"64\": {\"64\": 12}, \"22\": {\"22\": 12}, \"3\": {\"3\": 12}, \"4\": {\"4\": 11, \"30\": 1}, \"70\": {\"70\": 11, \"89\": 1}, \"57\": {\"57\": 12}, \"79\": {\"79\": 12}, \"9\": {\"9\": 11, \"104\": 1}, \"89\": {\"89\": 12}, \"110\": {\"110\": 12}, \"102\": {\"102\": 12}, \"31\": {\"31\": 12}, \"58\": {\"58\": 12}, \"47\": {\"47\": 12}, \"24\": {\"24\": 11, \"36\": 1}, \"19\": {\"19\": 11, \"73\": 1}, \"11\": {\"11\": 12}, \"52\": {\"52\": 12}, \"17\": {\"17\": 12}, \"25\": {\"25\": 12}, \"69\": {\"69\": 12}, \"96\": {\"96\": 12}, \"109\": {\"109\": 12}, \"115\": {\"115\": 12}, \"83\": {\"83\": 11, \"102\": 1}, \"84\": {\"84\": 12}, \"119\": {\"119\": 10}, \"122\": {\"122\": 10}, \"99\": {\"99\": 12}, \"1\": {\"1\": 12}, \"74\": {\"74\": 10, \"122\": 1, \"80\": 1}, \"85\": {\"85\": 12}, \"127\": {\"111\": 1, \"127\": 11}, \"111\": {\"111\": 12}, \"53\": {\"53\": 12}, \"88\": {\"88\": 10, \"36\": 2}, \"65\": {\"65\": 7, \"129\": 1, \"13\": 1, \"83\": 1}, \"7\": {\"7\": 12}, \"16\": {\"16\": 11, \"95\": 1}, \"128\": {\"128\": 12}, \"34\": {\"53\": 1, \"34\": 10, \"98\": 1}, \"129\": {\"129\": 12}, \"43\": {\"43\": 12}, \"92\": {\"92\": 12}, \"28\": {\"28\": 12}, \"27\": {\"27\": 12}, \"114\": {\"114\": 12}, \"73\": {\"73\": 12}, \"0\": {\"0\": 12}, \"104\": {\"104\": 12}, \"118\": {\"118\": 12}, \"41\": {\"41\": 12}, \"49\": {\"49\": 12}, \"14\": {\"14\": 12}, \"46\": {\"76\": 1, \"46\": 7, \"97\": 1, \"54\": 1, \"125\": 2}, \"33\": {\"33\": 12}, \"76\": {\"76\": 12}, \"125\": {\"125\": 12}, \"86\": {\"86\": 10}, \"66\": {\"66\": 11, \"108\": 1}, \"5\": {\"5\": 12}, \"117\": {\"117\": 12}, \"75\": {\"75\": 12}, \"61\": {\"61\": 12}, \"50\": {\"50\": 11, \"12\": 1}, \"67\": {\"67\": 10}, \"18\": {\"18\": 12}, \"98\": {\"98\": 12}, \"55\": {\"55\": 10}, \"32\": {\"32\": 12}, \"120\": {\"120\": 12}, \"97\": {\"97\": 11, \"88\": 1}, \"126\": {\"126\": 12}, \"45\": {\"109\": 1, \"45\": 7, \"20\": 2, \"108\": 2}, \"78\": {\"78\": 6, \"43\": 2, \"21\": 1, \"22\": 1}, \"100\": {\"100\": 12}, \"107\": {\"107\": 12}, \"93\": {\"93\": 11, \"107\": 1}, \"77\": {\"77\": 12}, \"63\": {\"63\": 12}, \"112\": {\"112\": 12}, \"113\": {\"113\": 12}, \"103\": {\"103\": 10}, \"71\": {\"71\": 12}, \"30\": {\"30\": 11, \"12\": 1}, \"90\": {\"90\": 12}, \"37\": {\"30\": 1, \"37\": 11}, \"60\": {\"60\": 9, \"70\": 1, \"81\": 2}, \"15\": {\"15\": 12}, \"39\": {\"39\": 12}, \"72\": {\"72\": 12}, \"54\": {\"54\": 12}, \"35\": {\"35\": 12}, \"2\": {\"2\": 12}, \"94\": {\"94\": 11, \"67\": 1}, \"42\": {\"42\": 10, \"83\": 1, \"115\": 1}, \"81\": {\"81\": 12}, \"8\": {\"8\": 12}, \"87\": {\"87\": 12}, \"6\": {\"6\": 11, \"53\": 1}, \"36\": {\"36\": 10, \"88\": 2}, \"91\": {\"91\": 12}, \"56\": {\"56\": 12}, \"80\": {\"80\": 11, \"21\": 1}, \"124\": {\"124\": 10}, \"44\": {\"44\": 12}, \"13\": {\"13\": 12}, \"10\": {\"10\": 10, \"56\": 1, \"95\": 1}, \"59\": {\"59\": 11, \"66\": 1}, \"95\": {\"95\": 12}, \"105\": {\"105\": 11, \"66\": 1}, \"101\": {\"101\": 12}, \"20\": {\"20\": 12}, \"48\": {\"48\": 11, \"123\": 1}, \"106\": {\"106\": 12}, \"51\": {\"51\": 12}, \"21\": {\"21\": 10, \"112\": 1, \"14\": 1}, \"123\": {\"123\": 12}, \"121\": {\"121\": 12}, \"38\": {\"38\": 12}, \"62\": {\"62\": 12}, \"29\": {\"29\": 12}, \"82\": {\"82\": 12}, \"116\": {\"116\": 12}, \"12\": {\"12\": 8}}, \"W_A_2\": {\"91\": {\"91\": 12}, \"12\": {\"12\": 11, \"67\": 1}, \"101\": {\"101\": 10}, \"121\": {\"121\": 11, \"72\": 1}, \"118\": {\"118\": 12}, \"10\": {\"118\": 1, \"10\": 11}, \"117\": {\"117\": 12}, \"110\": {\"110\": 11, \"101\": 1}, \"97\": {\"97\": 8, \"118\": 1, \"106\": 2, \"14\": 1}, \"28\": {\"12\": 1, \"28\": 8, \"43\": 1, \"2\": 1, \"96\": 1}, \"88\": {\"88\": 12}, \"17\": {\"17\": 11, \"7\": 1}, \"126\": {\"126\": 12}, \"33\": {\"33\": 12}, \"86\": {\"86\": 12}, \"106\": {\"106\": 12}, \"54\": {\"54\": 12}, \"125\": {\"125\": 12}, \"83\": {\"83\": 12}, \"98\": {\"98\": 12}, \"11\": {\"11\": 12}, \"32\": {\"32\": 12}, \"42\": {\"42\": 12}, \"103\": {\"103\": 12}, \"87\": {\"87\": 12}, \"61\": {\"118\": 1, \"61\": 10, \"93\": 1}, \"13\": {\"13\": 12}, \"4\": {\"4\": 12}, \"15\": {\"15\": 10}, \"120\": {\"120\": 12}, \"80\": {\"80\": 12}, \"72\": {\"72\": 10}, \"64\": {\"64\": 12}, \"81\": {\"81\": 12}, \"102\": {\"102\": 12}, \"76\": {\"76\": 12}, \"49\": {\"49\": 9, \"67\": 1}, \"129\": {\"129\": 12}, \"89\": {\"89\": 12}, \"52\": {\"52\": 12}, \"35\": {\"35\": 12}, \"53\": {\"53\": 10, \"60\": 1, \"69\": 1}, \"112\": {\"112\": 11, \"3\": 1}, \"105\": {\"105\": 12}, \"100\": {\"100\": 12}, \"9\": {\"9\": 12}, \"82\": {\"82\": 12}, \"51\": {\"51\": 11, \"125\": 1}, \"21\": {\"21\": 11, \"78\": 1}, \"92\": {\"92\": 11, \"84\": 1}, \"69\": {\"69\": 12}, \"77\": {\"77\": 12}, \"50\": {\"50\": 11, \"82\": 1}, \"36\": {\"36\": 12}, \"16\": {\"16\": 10, \"41\": 1, \"22\": 1}, \"8\": {\"16\": 1, \"8\": 10, \"120\": 1}, \"127\": {\"127\": 12}, \"46\": {\"46\": 10}, \"84\": {\"84\": 11, \"87\": 1}, \"18\": {\"18\": 12}, \"123\": {\"123\": 10}, \"56\": {\"56\": 11, \"15\": 1}, \"26\": {\"26\": 12}, \"14\": {\"87\": 1, \"14\": 9, \"2\": 1, \"117\": 1}, \"109\": {\"109\": 12}, \"66\": {\"66\": 12}, \"24\": {\"24\": 10, \"28\": 1, \"94\": 1}, \"71\": {\"36\": 1, \"71\": 11}, \"65\": {\"65\": 10, \"110\": 1, \"102\": 1}, \"75\": {\"75\": 11, \"21\": 1}, \"111\": {\"111\": 11, \"127\": 1}, \"30\": {\"30\": 11, \"71\": 1}, \"85\": {\"85\": 12}, \"113\": {\"113\": 10}, \"45\": {\"45\": 12}, \"29\": {\"29\": 11, \"21\": 1}, \"20\": {\"20\": 11, \"47\": 1}, \"25\": {\"25\": 12}, \"0\": {\"0\": 12}, \"68\": {\"68\": 12}, \"119\": {\"119\": 12}, \"90\": {\"90\": 12}, \"38\": {\"38\": 12}, \"99\": {\"99\": 12}, \"1\": {\"1\": 12}, \"67\": {\"67\": 10, \"109\": 1, \"106\": 1}, \"63\": {\"63\": 12}, \"34\": {\"34\": 11, \"91\": 1}, \"108\": {\"108\": 12}, \"40\": {\"40\": 12}, \"47\": {\"47\": 10, \"5\": 1, \"93\": 1}, \"37\": {\"37\": 12}, \"78\": {\"96\": 1, \"43\": 1, \"78\": 10}, \"96\": {\"96\": 12}, \"43\": {\"43\": 11, \"98\": 1}, \"5\": {\"5\": 10}, \"124\": {\"124\": 12}, \"44\": {\"44\": 12}, \"41\": {\"41\": 11, \"47\": 1}, \"116\": {\"116\": 12}, \"19\": {\"19\": 12}, \"115\": {\"115\": 12}, \"95\": {\"95\": 11, \"126\": 1}, \"3\": {\"3\": 10}, \"59\": {\"59\": 12}, \"55\": {\"55\": 12}, \"70\": {\"70\": 12}, \"6\": {\"6\": 12}, \"2\": {\"2\": 12}, \"48\": {\"48\": 12}, \"23\": {\"23\": 10, \"122\": 1, \"52\": 1}, \"7\": {\"7\": 12}, \"122\": {\"122\": 11, \"107\": 1}, \"57\": {\"57\": 11, \"71\": 1}, \"39\": {\"39\": 9, \"53\": 1}, \"79\": {\"79\": 12}, \"27\": {\"27\": 9, \"94\": 1}, \"74\": {\"74\": 9, \"129\": 1, \"36\": 1, \"47\": 1}, \"73\": {\"73\": 12}, \"62\": {\"62\": 12}, \"107\": {\"107\": 12}, \"128\": {\"128\": 10, \"71\": 2}, \"60\": {\"60\": 11, \"83\": 1}, \"114\": {\"114\": 12}, \"22\": {\"22\": 12}, \"93\": {\"93\": 12}, \"94\": {\"94\": 11, \"20\": 1}, \"31\": {\"31\": 10}, \"104\": {\"104\": 12}, \"58\": {\"58\": 12}}, \"C_A_2\": {\"14\": {\"14\": 12}, \"22\": {\"22\": 12}, \"9\": {\"9\": 12}, \"47\": {\"47\": 12}, \"13\": {\"13\": 12}, \"8\": {\"8\": 12}, \"7\": {\"7\": 12}, \"49\": {\"49\": 12}, \"20\": {\"20\": 12}, \"16\": {\"16\": 12}, \"34\": {\"34\": 12}, \"56\": {\"56\": 12}, \"38\": {\"38\": 10}, \"4\": {\"4\": 12}, \"43\": {\"43\": 10}, \"26\": {\"26\": 10}, \"35\": {\"35\": 12}, \"31\": {\"31\": 12}, \"1\": {\"1\": 12}, \"39\": {\"39\": 12}, \"5\": {\"5\": 12}, \"24\": {\"24\": 12}, \"54\": {\"54\": 10}, \"23\": {\"23\": 12}, \"51\": {\"51\": 12}, \"27\": {\"27\": 10}, \"15\": {\"15\": 12}, \"0\": {\"0\": 12}, \"19\": {\"19\": 10}, \"18\": {\"18\": 8}, \"30\": {\"30\": 12}, \"55\": {\"55\": 10}, \"57\": {\"57\": 12}, \"2\": {\"2\": 12}, \"12\": {\"12\": 8}, \"41\": {\"41\": 12}, \"42\": {\"42\": 12}, \"48\": {\"48\": 12}, \"37\": {\"37\": 12}, \"6\": {\"6\": 10}, \"11\": {\"11\": 10}, \"45\": {\"45\": 8}, \"21\": {\"21\": 12}, \"46\": {\"46\": 10}, \"25\": {\"25\": 12}, \"36\": {\"36\": 10}, \"53\": {\"53\": 12}, \"28\": {\"28\": 12}, \"40\": {\"40\": 10}, \"33\": {\"33\": 10}, \"44\": {\"44\": 10}, \"3\": {\"3\": 12}, \"17\": {\"17\": 12}, \"32\": {\"32\": 10}, \"10\": {\"10\": 10}, \"52\": {\"52\": 10}, \"50\": {\"50\": 8}, \"29\": {\"29\": 6}}, \"ORACLE.run1_14\": {\"15\": {\"7\": 61, \"15\": 111, \"1\": 8, \"13\": 14, \"5\": 7, \"4\": 11, \"6\": 15, \"14\": 4, \"2\": 6, \"3\": 3}, \"3\": {\"6\": 8, \"0\": 34, \"11\": 9, \"4\": 39, \"3\": 44, \"5\": 19, \"10\": 21, \"14\": 18, \"1\": 24, \"7\": 2, \"8\": 2, \"13\": 8, \"2\": 12}, \"6\": {\"5\": 20, \"14\": 28, \"15\": 23, \"13\": 55, \"4\": 14, \"2\": 21, \"6\": 47, \"1\": 9, \"7\": 10, \"3\": 8, \"0\": 1, \"10\": 4}, \"1\": {\"10\": 7, \"5\": 32, \"1\": 63, \"11\": 1, \"15\": 5, \"8\": 11, \"3\": 30, \"7\": 19, \"4\": 45, \"2\": 10, \"0\": 6, \"14\": 7, \"6\": 2, \"13\": 2}, \"8\": {\"8\": 158, \"4\": 5, \"1\": 12, \"9\": 21, \"0\": 16, \"5\": 4, \"3\": 13, \"11\": 4, \"10\": 5, \"12\": 2}, \"10\": {\"10\": 62, \"4\": 17, \"11\": 22, \"14\": 13, \"3\": 41, \"0\": 41, \"13\": 5, \"5\": 10, \"6\": 6, \"1\": 5, \"2\": 5, \"8\": 4, \"9\": 7, \"7\": 1, \"12\": 1}, \"9\": {\"8\": 17, \"12\": 61, \"11\": 44, \"0\": 11, \"9\": 100, \"3\": 3, \"10\": 4}, \"13\": {\"6\": 61, \"13\": 49, \"3\": 7, \"2\": 27, \"7\": 12, \"5\": 11, \"4\": 17, \"14\": 35, \"15\": 16, \"1\": 2, \"10\": 3}, \"12\": {\"12\": 135, \"11\": 15, \"9\": 85, \"8\": 3, \"0\": 2}, \"5\": {\"3\": 27, \"10\": 7, \"15\": 6, \"14\": 17, \"1\": 31, \"5\": 33, \"13\": 12, \"4\": 47, \"7\": 26, \"8\": 3, \"0\": 7, \"6\": 8, \"2\": 14, \"11\": 2}, \"0\": {\"9\": 15, \"4\": 14, \"10\": 31, \"11\": 51, \"1\": 7, \"3\": 22, \"2\": 7, \"0\": 59, \"8\": 11, \"5\": 9, \"14\": 9, \"6\": 2, \"13\": 1, \"7\": 1, \"12\": 1}, \"2\": {\"4\": 19, \"13\": 23, \"5\": 26, \"1\": 18, \"10\": 12, \"14\": 28, \"15\": 9, \"3\": 26, \"7\": 6, \"6\": 36, \"2\": 28, \"11\": 2, \"0\": 7}, \"11\": {\"9\": 38, \"11\": 96, \"12\": 11, \"0\": 43, \"10\": 22, \"3\": 12, \"8\": 8, \"6\": 1, \"14\": 6, \"4\": 1, \"2\": 1, \"1\": 1}, \"14\": {\"14\": 66, \"2\": 40, \"13\": 24, \"6\": 18, \"10\": 11, \"3\": 20, \"1\": 7, \"5\": 19, \"4\": 14, \"0\": 11, \"7\": 4, \"15\": 3, \"11\": 3}, \"7\": {\"13\": 9, \"7\": 72, \"2\": 23, \"15\": 52, \"10\": 2, \"1\": 20, \"5\": 25, \"14\": 7, \"4\": 13, \"0\": 4, \"3\": 5, \"6\": 8}, \"4\": {\"3\": 33, \"1\": 25, \"5\": 32, \"7\": 16, \"14\": 13, \"2\": 19, \"13\": 9, \"4\": 44, \"15\": 7, \"10\": 20, \"6\": 8, \"0\": 7, \"8\": 5, \"11\": 2}}, \"ORACLE.run1_20\": {\"3\": {\"1\": 15, \"2\": 22, \"9\": 30, \"6\": 8, \"7\": 24, \"3\": 20, \"0\": 15, \"12\": 18, \"5\": 11, \"13\": 16, \"14\": 8, \"15\": 18, \"4\": 11, \"8\": 17, \"10\": 3, \"11\": 4}, \"15\": {\"9\": 15, \"15\": 44, \"12\": 17, \"2\": 21, \"0\": 21, \"5\": 25, \"13\": 22, \"3\": 20, \"7\": 9, \"14\": 2, \"4\": 8, \"1\": 25, \"6\": 2, \"8\": 4, \"10\": 4, \"11\": 1}, \"8\": {\"14\": 25, \"9\": 15, \"2\": 12, \"8\": 39, \"13\": 10, \"6\": 19, \"4\": 20, \"7\": 13, \"0\": 16, \"1\": 14, \"3\": 8, \"5\": 15, \"10\": 11, \"11\": 6, \"12\": 13, \"15\": 4}, \"4\": {\"1\": 11, \"15\": 11, \"6\": 13, \"5\": 11, \"9\": 13, \"14\": 19, \"12\": 13, \"0\": 11, \"4\": 35, \"10\": 16, \"8\": 19, \"7\": 28, \"13\": 8, \"3\": 19, \"2\": 11, \"11\": 2}, \"14\": {\"3\": 9, \"7\": 19, \"10\": 26, \"8\": 33, \"6\": 43, \"14\": 59, \"9\": 8, \"5\": 5, \"2\": 7, \"12\": 5, \"4\": 14, \"0\": 5, \"11\": 5, \"1\": 2}, \"0\": {\"3\": 15, \"5\": 21, \"9\": 20, \"2\": 18, \"0\": 40, \"15\": 25, \"1\": 23, \"13\": 20, \"12\": 20, \"7\": 8, \"6\": 1, \"4\": 9, \"8\": 9, \"10\": 2, \"14\": 5, \"11\": 4}, \"7\": {\"15\": 4, \"9\": 21, \"11\": 14, \"6\": 22, \"3\": 25, \"13\": 11, \"12\": 15, \"5\": 13, \"10\": 12, \"8\": 17, \"7\": 13, \"2\": 13, \"14\": 12, \"0\": 14, \"1\": 15, \"4\": 19}, \"6\": {\"7\": 20, \"2\": 6, \"14\": 47, \"9\": 15, \"6\": 45, \"3\": 5, \"8\": 26, \"10\": 28, \"11\": 12, \"4\": 16, \"12\": 4, \"0\": 8, \"1\": 4, \"13\": 2, \"15\": 1, \"5\": 1}, \"10\": {\"3\": 16, \"4\": 25, \"1\": 3, \"8\": 25, \"7\": 20, \"14\": 41, \"12\": 9, \"6\": 40, \"9\": 3, \"5\": 2, \"10\": 41, \"0\": 3, \"11\": 3, \"2\": 2, \"13\": 3, \"15\": 4}, \"5\": {\"15\": 25, \"12\": 18, \"13\": 25, \"2\": 14, \"0\": 26, \"9\": 11, \"8\": 9, \"6\": 5, \"5\": 26, \"4\": 13, \"1\": 25, \"10\": 6, \"7\": 13, \"3\": 18, \"14\": 2, \"11\": 4}, \"2\": {\"1\": 21, \"12\": 24, \"2\": 23, \"7\": 22, \"15\": 12, \"9\": 24, \"13\": 24, \"5\": 20, \"10\": 2, \"3\": 14, \"4\": 6, \"11\": 18, \"6\": 6, \"14\": 4, \"0\": 14, \"8\": 6}, \"12\": {\"6\": 8, \"1\": 31, \"2\": 19, \"5\": 22, \"4\": 9, \"3\": 18, \"8\": 9, \"9\": 16, \"13\": 19, \"0\": 15, \"11\": 11, \"15\": 19, \"7\": 17, \"12\": 22, \"10\": 4, \"14\": 1}, \"9\": {\"9\": 25, \"13\": 14, \"2\": 18, \"3\": 17, \"12\": 27, \"0\": 8, \"7\": 29, \"6\": 5, \"4\": 10, \"5\": 20, \"14\": 5, \"1\": 22, \"11\": 10, \"10\": 6, \"15\": 14, \"8\": 10}, \"1\": {\"13\": 25, \"5\": 22, \"3\": 16, \"11\": 9, \"0\": 27, \"7\": 10, \"12\": 23, \"9\": 14, \"4\": 5, \"2\": 18, \"15\": 26, \"1\": 34, \"8\": 7, \"14\": 2, \"6\": 1, \"10\": 1}, \"11\": {\"11\": 91, \"9\": 22, \"2\": 19, \"1\": 10, \"7\": 18, \"3\": 11, \"5\": 6, \"8\": 12, \"14\": 8, \"6\": 17, \"15\": 3, \"13\": 11, \"12\": 2, \"4\": 2, \"0\": 7, \"10\": 1}, \"13\": {\"13\": 30, \"1\": 26, \"2\": 25, \"0\": 17, \"14\": 2, \"15\": 28, \"3\": 20, \"9\": 19, \"10\": 1, \"12\": 16, \"8\": 4, \"4\": 11, \"5\": 19, \"11\": 11, \"7\": 11}}, \"ORACLE.run1_38\": {\"5\": {\"5\": 34, \"6\": 35, \"0\": 18, \"8\": 42, \"3\": 11, \"10\": 20, \"9\": 31, \"1\": 7, \"11\": 3, \"2\": 1, \"14\": 1, \"13\": 14, \"7\": 16, \"15\": 7}, \"8\": {\"6\": 18, \"7\": 25, \"8\": 49, \"15\": 18, \"13\": 13, \"5\": 33, \"10\": 24, \"9\": 8, \"0\": 30, \"1\": 12, \"3\": 5, \"12\": 3, \"2\": 2}, \"11\": {\"12\": 7, \"2\": 24, \"14\": 61, \"11\": 89, \"10\": 28, \"13\": 11, \"15\": 9, \"5\": 1, \"0\": 2, \"8\": 5, \"4\": 1, \"7\": 1, \"3\": 1}, \"1\": {\"13\": 41, \"5\": 10, \"1\": 82, \"15\": 45, \"10\": 11, \"9\": 4, \"6\": 15, \"8\": 9, \"2\": 16, \"0\": 6, \"11\": 1}, \"10\": {\"5\": 18, \"8\": 38, \"10\": 52, \"0\": 17, \"13\": 28, \"4\": 2, \"6\": 6, \"7\": 9, \"14\": 18, \"15\": 21, \"2\": 7, \"12\": 6, \"11\": 13, \"9\": 2, \"1\": 3}, \"15\": {\"15\": 60, \"8\": 25, \"6\": 6, \"11\": 2, \"1\": 38, \"2\": 21, \"13\": 36, \"10\": 21, \"5\": 14, \"9\": 2, \"7\": 3, \"0\": 5, \"14\": 7}, \"3\": {\"7\": 19, \"3\": 138, \"9\": 27, \"6\": 14, \"0\": 20, \"5\": 16, \"10\": 1, \"8\": 4, \"4\": 1}, \"7\": {\"9\": 11, \"7\": 60, \"6\": 10, \"3\": 19, \"0\": 44, \"8\": 30, \"4\": 13, \"5\": 30, \"10\": 12, \"15\": 4, \"12\": 6, \"13\": 1}, \"4\": {\"4\": 159, \"12\": 57, \"7\": 16, \"14\": 1, \"0\": 2, \"8\": 2, \"5\": 1, \"11\": 1, \"10\": 1}, \"14\": {\"14\": 108, \"2\": 39, \"11\": 52, \"10\": 17, \"15\": 10, \"1\": 1, \"13\": 8, \"8\": 1, \"12\": 4}, \"9\": {\"0\": 16, \"6\": 59, \"9\": 78, \"3\": 29, \"1\": 5, \"13\": 5, \"10\": 2, \"5\": 24, \"7\": 10, \"8\": 10, \"15\": 2}, \"12\": {\"4\": 39, \"12\": 161, \"10\": 6, \"14\": 9, \"13\": 1, \"15\": 3, \"0\": 6, \"8\": 5, \"7\": 7, \"11\": 2, \"5\": 1}, \"6\": {\"6\": 73, \"13\": 5, \"1\": 15, \"5\": 35, \"15\": 15, \"3\": 8, \"9\": 54, \"10\": 3, \"7\": 6, \"0\": 7, \"8\": 19}, \"2\": {\"14\": 38, \"15\": 29, \"2\": 99, \"13\": 37, \"1\": 16, \"11\": 14, \"10\": 2, \"8\": 3, \"12\": 2}, \"0\": {\"8\": 39, \"7\": 32, \"0\": 58, \"15\": 7, \"3\": 27, \"13\": 8, \"5\": 29, \"4\": 5, \"9\": 6, \"1\": 4, \"10\": 15, \"12\": 2, \"6\": 6, \"14\": 1, \"11\": 1}, \"13\": {\"13\": 61, \"10\": 18, \"0\": 4, \"8\": 22, \"1\": 36, \"15\": 26, \"9\": 5, \"5\": 9, \"6\": 8, \"2\": 31, \"14\": 11, \"3\": 1, \"11\": 5, \"7\": 3}}, \"ORACLE.run1_8\": {\"9\": {\"9\": 218, \"5\": 12, \"4\": 1, \"13\": 2, \"1\": 2, \"6\": 1, \"10\": 3, \"14\": 1}, \"10\": {\"5\": 21, \"7\": 13, \"10\": 36, \"6\": 11, \"4\": 28, \"11\": 21, \"1\": 23, \"14\": 21, \"13\": 30, \"0\": 28, \"8\": 5, \"9\": 2, \"15\": 1}, \"13\": {\"13\": 22, \"0\": 31, \"2\": 9, \"11\": 5, \"6\": 16, \"4\": 40, \"1\": 12, \"14\": 25, \"7\": 16, \"10\": 34, \"8\": 10, \"5\": 18, \"15\": 1, \"9\": 1}, \"0\": {\"14\": 20, \"7\": 23, \"13\": 35, \"5\": 11, \"0\": 44, \"6\": 22, \"4\": 29, \"1\": 9, \"10\": 23, \"11\": 4, \"8\": 4, \"15\": 5, \"3\": 3, \"2\": 6, \"12\": 1, \"9\": 1}, \"1\": {\"0\": 9, \"4\": 16, \"11\": 46, \"13\": 15, \"14\": 18, \"6\": 13, \"10\": 27, \"8\": 11, \"5\": 24, \"7\": 9, \"1\": 47, \"12\": 2, \"15\": 3}, \"15\": {\"8\": 35, \"15\": 59, \"7\": 24, \"12\": 51, \"6\": 10, \"3\": 17, \"13\": 6, \"0\": 3, \"11\": 4, \"2\": 17, \"4\": 5, \"10\": 3, \"1\": 5, \"14\": 1}, \"5\": {\"10\": 32, \"5\": 50, \"11\": 34, \"6\": 7, \"1\": 26, \"14\": 32, \"13\": 22, \"9\": 8, \"0\": 15, \"4\": 11, \"7\": 2, \"8\": 1}, \"3\": {\"3\": 80, \"8\": 11, \"2\": 43, \"12\": 54, \"6\": 4, \"7\": 9, \"15\": 36, \"0\": 3}, \"6\": {\"3\": 7, \"11\": 14, \"0\": 25, \"14\": 20, \"5\": 11, \"1\": 8, \"15\": 15, \"8\": 13, \"6\": 22, \"10\": 15, \"7\": 27, \"2\": 6, \"13\": 25, \"4\": 26, \"12\": 6}, \"11\": {\"11\": 57, \"5\": 15, \"14\": 31, \"1\": 43, \"13\": 11, \"0\": 7, \"7\": 6, \"8\": 15, \"4\": 22, \"6\": 5, \"10\": 20, \"12\": 3, \"15\": 5}, \"8\": {\"11\": 20, \"10\": 3, \"8\": 50, \"2\": 12, \"12\": 34, \"1\": 13, \"15\": 38, \"6\": 15, \"7\": 20, \"14\": 8, \"0\": 8, \"13\": 4, \"4\": 8, \"5\": 2, \"3\": 5}, \"4\": {\"0\": 22, \"13\": 22, \"8\": 10, \"6\": 23, \"11\": 18, \"7\": 22, \"9\": 1, \"1\": 21, \"5\": 13, \"10\": 18, \"14\": 21, \"4\": 33, \"15\": 6, \"2\": 7, \"12\": 2, \"3\": 1}, \"12\": {\"3\": 46, \"2\": 32, \"4\": 4, \"0\": 4, \"12\": 73, \"15\": 38, \"6\": 6, \"8\": 27, \"7\": 8, \"10\": 1, \"14\": 1}, \"14\": {\"0\": 21, \"14\": 32, \"5\": 21, \"11\": 14, \"1\": 22, \"13\": 17, \"7\": 15, \"2\": 3, \"10\": 28, \"4\": 24, \"6\": 22, \"8\": 15, \"12\": 3, \"15\": 3}, \"2\": {\"2\": 80, \"0\": 10, \"3\": 57, \"15\": 9, \"7\": 22, \"12\": 31, \"8\": 13, \"6\": 10, \"14\": 1, \"1\": 1, \"13\": 3, \"4\": 2, \"11\": 1}, \"7\": {\"0\": 23, \"11\": 12, \"4\": 27, \"7\": 42, \"12\": 9, \"15\": 10, \"8\": 13, \"6\": 25, \"1\": 12, \"10\": 16, \"13\": 24, \"14\": 9, \"2\": 11, \"3\": 3, \"5\": 4}}, \"ORACLE.run1_50\": {\"7\": {\"7\": 57, \"5\": 29, \"0\": 9, \"13\": 48, \"10\": 32, \"1\": 8, \"6\": 22, \"15\": 8, \"8\": 6, \"2\": 5, \"3\": 5, \"4\": 10, \"14\": 1}, \"3\": {\"3\": 139, \"8\": 73, \"10\": 16, \"13\": 2, \"0\": 5, \"7\": 3, \"2\": 1, \"4\": 1}, \"8\": {\"8\": 106, \"0\": 23, \"3\": 49, \"10\": 38, \"2\": 8, \"7\": 9, \"5\": 2, \"13\": 5}, \"2\": {\"0\": 57, \"2\": 101, \"1\": 6, \"14\": 19, \"10\": 26, \"11\": 2, \"7\": 1, \"12\": 3, \"8\": 7, \"13\": 6, \"9\": 1, \"5\": 2, \"6\": 5, \"4\": 4}, \"14\": {\"2\": 13, \"14\": 106, \"12\": 37, \"1\": 19, \"6\": 14, \"0\": 9, \"11\": 20, \"15\": 3, \"4\": 5, \"9\": 10, \"10\": 2, \"13\": 1, \"5\": 1}, \"4\": {\"9\": 9, \"6\": 25, \"15\": 37, \"1\": 47, \"10\": 4, \"4\": 35, \"7\": 13, \"5\": 17, \"14\": 11, \"11\": 16, \"13\": 15, \"12\": 6, \"3\": 1, \"0\": 3, \"2\": 1}, \"6\": {\"6\": 41, \"13\": 25, \"15\": 19, \"5\": 36, \"1\": 38, \"0\": 4, \"2\": 8, \"4\": 30, \"7\": 23, \"10\": 8, \"14\": 4, \"11\": 3, \"12\": 1}, \"15\": {\"11\": 40, \"4\": 34, \"6\": 15, \"14\": 13, \"9\": 10, \"12\": 6, \"15\": 57, \"1\": 39, \"5\": 10, \"13\": 12, \"7\": 4}, \"10\": {\"5\": 18, \"3\": 10, \"7\": 28, \"8\": 37, \"0\": 42, \"10\": 64, \"2\": 10, \"13\": 21, \"1\": 4, \"6\": 5, \"4\": 1}, \"11\": {\"11\": 66, \"1\": 19, \"9\": 46, \"6\": 4, \"15\": 40, \"12\": 24, \"4\": 18, \"7\": 1, \"14\": 20, \"5\": 2}, \"13\": {\"6\": 29, \"7\": 47, \"13\": 46, \"10\": 19, \"8\": 4, \"5\": 40, \"4\": 15, \"1\": 7, \"3\": 2, \"0\": 17, \"2\": 3, \"15\": 9, \"12\": 1, \"14\": 1}, \"9\": {\"9\": 81, \"11\": 74, \"12\": 37, \"1\": 9, \"15\": 11, \"4\": 11, \"5\": 1, \"14\": 13, \"2\": 1, \"6\": 1, \"13\": 1}, \"0\": {\"6\": 9, \"10\": 47, \"0\": 64, \"13\": 9, \"8\": 22, \"7\": 8, \"2\": 57, \"3\": 4, \"5\": 9, \"14\": 4, \"4\": 1, \"12\": 1, \"1\": 5}, \"1\": {\"15\": 31, \"4\": 33, \"10\": 7, \"14\": 31, \"6\": 39, \"1\": 37, \"0\": 10, \"7\": 4, \"13\": 8, \"12\": 6, \"9\": 6, \"5\": 9, \"11\": 14, \"2\": 5}, \"12\": {\"11\": 35, \"9\": 45, \"12\": 100, \"14\": 48, \"4\": 3, \"1\": 5, \"6\": 1, \"2\": 1, \"15\": 2}, \"5\": {\"5\": 36, \"1\": 14, \"4\": 36, \"13\": 44, \"14\": 6, \"6\": 23, \"7\": 33, \"15\": 12, \"0\": 14, \"10\": 13, \"2\": 3, \"8\": 2, \"11\": 2, \"12\": 1, \"3\": 1}}, \"ORACLE.run1_32\": {\"8\": {\"4\": 6, \"14\": 13, \"8\": 37, \"13\": 39, \"5\": 39, \"11\": 20, \"0\": 22, \"7\": 23, \"3\": 32, \"15\": 4, \"9\": 1, \"2\": 4}, \"14\": {\"4\": 19, \"11\": 41, \"7\": 33, \"0\": 28, \"8\": 16, \"5\": 14, \"3\": 12, \"14\": 49, \"13\": 11, \"2\": 17}, \"2\": {\"2\": 81, \"4\": 47, \"13\": 13, \"0\": 25, \"7\": 29, \"5\": 15, \"14\": 11, \"9\": 10, \"3\": 1, \"11\": 6, \"8\": 2}, \"0\": {\"7\": 44, \"0\": 44, \"13\": 22, \"2\": 32, \"4\": 31, \"11\": 8, \"9\": 4, \"5\": 14, \"14\": 25, \"15\": 1, \"8\": 10, \"3\": 5}, \"1\": {\"1\": 153, \"10\": 75, \"6\": 12}, \"10\": {\"10\": 152, \"12\": 11, \"1\": 58, \"6\": 19}, \"11\": {\"11\": 63, \"7\": 28, \"5\": 18, \"0\": 15, \"3\": 21, \"14\": 49, \"13\": 21, \"4\": 4, \"8\": 16, \"2\": 4, \"15\": 1}, \"5\": {\"0\": 18, \"14\": 20, \"13\": 23, \"8\": 29, \"5\": 41, \"3\": 21, \"4\": 22, \"11\": 14, \"7\": 34, \"15\": 4, \"2\": 14}, \"15\": {\"15\": 171, \"5\": 3, \"3\": 42, \"8\": 13, \"13\": 9, \"14\": 1, \"7\": 1}, \"3\": {\"11\": 24, \"3\": 92, \"8\": 41, \"5\": 21, \"7\": 6, \"13\": 27, \"15\": 12, \"0\": 6, \"4\": 2, \"14\": 9}, \"12\": {\"12\": 170, \"9\": 45, \"6\": 17, \"10\": 8}, \"7\": {\"14\": 27, \"5\": 21, \"4\": 30, \"11\": 25, \"13\": 14, \"7\": 38, \"0\": 33, \"8\": 18, \"2\": 25, \"3\": 9}, \"13\": {\"8\": 39, \"7\": 28, \"11\": 8, \"3\": 16, \"5\": 28, \"4\": 25, \"13\": 51, \"14\": 14, \"9\": 1, \"0\": 20, \"2\": 8, \"15\": 2}, \"6\": {\"6\": 188, \"12\": 21, \"10\": 18, \"1\": 13}, \"4\": {\"0\": 34, \"5\": 24, \"4\": 61, \"7\": 31, \"2\": 40, \"13\": 20, \"14\": 15, \"8\": 7, \"11\": 5, \"9\": 2, \"3\": 1}, \"9\": {\"9\": 177, \"12\": 46, \"2\": 12, \"4\": 2, \"6\": 1, \"7\": 1, \"8\": 1}}, \"ORACLE.run1_26\": {\"4\": {\"5\": 8, \"14\": 24, \"3\": 19, \"8\": 23, \"7\": 28, \"10\": 24, \"15\": 15, \"2\": 8, \"4\": 30, \"13\": 5, \"1\": 20, \"6\": 4, \"0\": 20, \"9\": 12}, \"12\": {\"12\": 132, \"11\": 42, \"14\": 2, \"6\": 21, \"8\": 7, \"13\": 7, \"10\": 5, \"9\": 7, \"15\": 9, \"5\": 5, \"2\": 1, \"0\": 2}, \"10\": {\"0\": 21, \"14\": 16, \"10\": 23, \"7\": 11, \"3\": 10, \"6\": 23, \"2\": 14, \"5\": 15, \"4\": 20, \"9\": 12, \"15\": 20, \"8\": 23, \"1\": 21, \"13\": 9, \"12\": 2}, \"0\": {\"13\": 5, \"4\": 26, \"1\": 23, \"3\": 12, \"10\": 28, \"7\": 16, \"6\": 14, \"8\": 21, \"5\": 10, \"15\": 20, \"0\": 24, \"9\": 13, \"2\": 12, \"14\": 14, \"11\": 1, \"12\": 1}, \"13\": {\"5\": 39, \"6\": 21, \"2\": 12, \"15\": 24, \"9\": 19, \"8\": 14, \"0\": 6, \"10\": 7, \"13\": 61, \"11\": 9, \"14\": 7, \"1\": 3, \"3\": 8, \"7\": 6, \"4\": 3, \"12\": 1}, \"9\": {\"5\": 19, \"9\": 34, \"7\": 10, \"6\": 29, \"3\": 15, \"14\": 7, \"1\": 5, \"8\": 16, \"0\": 21, \"13\": 23, \"2\": 19, \"15\": 19, \"12\": 7, \"4\": 6, \"11\": 1, \"10\": 9}, \"3\": {\"9\": 7, \"5\": 10, \"1\": 19, \"7\": 31, \"4\": 20, \"14\": 17, \"10\": 15, \"3\": 31, \"8\": 17, \"2\": 35, \"15\": 15, \"0\": 15, \"13\": 3, \"6\": 5}, \"2\": {\"9\": 15, \"7\": 18, \"10\": 11, \"1\": 14, \"8\": 14, \"13\": 15, \"3\": 37, \"5\": 30, \"2\": 32, \"14\": 16, \"4\": 10, \"15\": 12, \"0\": 11, \"6\": 5}, \"5\": {\"6\": 17, \"1\": 2, \"10\": 13, \"9\": 20, \"14\": 6, \"13\": 58, \"8\": 15, \"2\": 21, \"5\": 32, \"15\": 19, \"0\": 5, \"3\": 15, \"7\": 9, \"12\": 2, \"11\": 2, \"4\": 4}, \"14\": {\"14\": 24, \"0\": 29, \"1\": 31, \"8\": 18, \"9\": 11, \"7\": 23, \"6\": 7, \"4\": 36, \"15\": 10, \"10\": 23, \"5\": 8, \"3\": 12, \"2\": 5, \"13\": 3}, \"8\": {\"13\": 12, \"3\": 13, \"5\": 17, \"9\": 13, \"0\": 23, \"2\": 20, \"4\": 10, \"10\": 22, \"15\": 18, \"14\": 18, \"7\": 21, \"1\": 16, \"8\": 23, \"6\": 12, \"12\": 2}, \"7\": {\"4\": 26, \"2\": 22, \"7\": 22, \"5\": 9, \"14\": 18, \"1\": 21, \"13\": 5, \"6\": 16, \"3\": 30, \"15\": 7, \"9\": 18, \"10\": 12, \"8\": 17, \"0\": 17}, \"6\": {\"14\": 14, \"10\": 16, \"6\": 35, \"9\": 23, \"8\": 18, \"7\": 14, \"1\": 5, \"4\": 9, \"13\": 17, \"2\": 7, \"0\": 19, \"12\": 17, \"15\": 20, \"5\": 16, \"11\": 2, \"3\": 8}, \"11\": {\"12\": 52, \"11\": 163, \"13\": 11, \"9\": 4, \"15\": 3, \"8\": 2, \"6\": 3, \"5\": 1, \"0\": 1}, \"15\": {\"5\": 21, \"6\": 24, \"2\": 20, \"13\": 26, \"0\": 22, \"4\": 15, \"10\": 15, \"15\": 20, \"7\": 20, \"14\": 13, \"8\": 14, \"9\": 13, \"1\": 8, \"3\": 5, \"12\": 3, \"11\": 1}, \"1\": {\"8\": 16, \"0\": 22, \"2\": 12, \"10\": 29, \"4\": 24, \"15\": 8, \"14\": 28, \"1\": 31, \"3\": 25, \"9\": 11, \"7\": 20, \"5\": 3, \"6\": 6, \"13\": 5}}, \"ORACLE.run1_44\": {\"12\": {\"12\": 65, \"10\": 36, \"3\": 30, \"2\": 28, \"9\": 5, \"7\": 12, \"1\": 58, \"11\": 2, \"13\": 2, \"6\": 2}, \"7\": {\"1\": 16, \"11\": 12, \"9\": 40, \"2\": 33, \"6\": 21, \"7\": 46, \"3\": 21, \"12\": 12, \"10\": 16, \"13\": 23}, \"5\": {\"5\": 78, \"0\": 37, \"15\": 39, \"8\": 30, \"4\": 20, \"14\": 36}, \"15\": {\"14\": 40, \"4\": 13, \"0\": 39, \"15\": 76, \"5\": 36, \"8\": 36}, \"8\": {\"0\": 63, \"8\": 111, \"15\": 27, \"5\": 35, \"14\": 4}, \"2\": {\"2\": 50, \"10\": 36, \"12\": 26, \"9\": 19, \"1\": 28, \"6\": 19, \"7\": 31, \"3\": 7, \"11\": 10, \"13\": 14}, \"13\": {\"11\": 32, \"6\": 44, \"9\": 38, \"13\": 65, \"3\": 5, \"2\": 12, \"1\": 5, \"10\": 3, \"7\": 30, \"4\": 5, \"14\": 1}, \"4\": {\"4\": 110, \"14\": 70, \"9\": 3, \"5\": 21, \"15\": 18, \"13\": 3, \"3\": 4, \"0\": 9, \"7\": 2}, \"0\": {\"8\": 78, \"15\": 45, \"0\": 63, \"14\": 10, \"5\": 40, \"4\": 4}, \"6\": {\"9\": 41, \"7\": 26, \"2\": 16, \"13\": 49, \"6\": 67, \"12\": 2, \"11\": 28, \"10\": 3, \"3\": 4, \"1\": 3, \"4\": 1}, \"9\": {\"11\": 17, \"13\": 50, \"9\": 50, \"7\": 35, \"6\": 27, \"2\": 23, \"12\": 7, \"10\": 8, \"4\": 8, \"3\": 11, \"14\": 2, \"1\": 2}, \"11\": {\"6\": 39, \"11\": 93, \"9\": 19, \"7\": 16, \"12\": 2, \"10\": 9, \"2\": 14, \"13\": 39, \"1\": 6, \"3\": 3}, \"10\": {\"9\": 10, \"10\": 66, \"12\": 45, \"3\": 11, \"7\": 21, \"2\": 36, \"6\": 10, \"1\": 40, \"13\": 1}, \"14\": {\"4\": 79, \"0\": 13, \"14\": 81, \"15\": 22, \"5\": 36, \"8\": 3, \"3\": 3, \"7\": 2, \"9\": 1}, \"1\": {\"3\": 38, \"2\": 28, \"9\": 10, \"12\": 45, \"6\": 3, \"7\": 17, \"1\": 62, \"11\": 1, \"10\": 35, \"13\": 1}, \"3\": {\"1\": 43, \"7\": 16, \"9\": 16, \"3\": 100, \"12\": 33, \"2\": 20, \"10\": 7, \"13\": 3, \"11\": 1, \"4\": 1}}}, \"per_domain_accuracy\": {\"C_A_3\": {\"accuracy\": 0.996875, \"source?\": true}, \"W_A_3\": {\"accuracy\": 0.9609375, \"source?\": true}, \"C_A_4\": {\"accuracy\": 0.9921875, \"source?\": true}, \"C_A_5\": {\"accuracy\": 0.990625, \"source?\": true}, \"C_A_1\": {\"accuracy\": 0.99375, \"source?\": true}, \"W_A_4\": {\"accuracy\": 0.9348958333333334, \"source?\": true}, \"W_A_1\": {\"accuracy\": 0.962890625, \"source?\": true}, \"W_A_2\": {\"accuracy\": 0.9576822916666666, \"source?\": true}, \"C_A_2\": {\"accuracy\": 1.0, \"source?\": true}, \"ORACLE.run1_14\": {\"accuracy\": 0.30390625, \"source?\": false}, \"ORACLE.run1_20\": {\"accuracy\": 0.15286458333333333, \"source?\": false}, \"ORACLE.run1_38\": {\"accuracy\": 0.35442708333333334, \"source?\": false}, \"ORACLE.run1_8\": {\"accuracy\": 0.24609375, \"source?\": false}, \"ORACLE.run1_50\": {\"accuracy\": 0.29583333333333334, \"source?\": false}, \"ORACLE.run1_32\": {\"accuracy\": 0.4083333333333333, \"source?\": false}, \"ORACLE.run1_26\": {\"accuracy\": 0.18671875, \"source?\": false}, \"ORACLE.run1_44\": {\"accuracy\": 0.30807291666666664, \"source?\": false}}}, \"history\": {\"epoch_indices\": [1, 2, 3, 4, 5, 6, 7, 8, 9, 10, 11], \"train_label_loss\": [0.4524945464007134, 0.2628201006964555, 0.17725200819489134, 0.1671549744605867, 0.1168805496496749, 0.12994921242186497, 0.19534095544734806, 0.09040974374457636, 0.07474124851739788, 0.07167808672540801, 0.06990831626151045], \"source_val_label_loss\": [0.4661661982536316, 0.23089173436164856, 0.17027920484542847, 0.16140678524971008, 0.1553187370300293, 0.2069161981344223, 0.15617655217647552, 0.16438141465187073, 0.18284252285957336, 0.14312344789505005, 0.24480868875980377], \"target_val_label_loss\": [2.4948770999908447, 2.2880642414093018, 2.1509556770324707, 2.132758855819702, 2.1466996669769287, 2.3610410690307617, 2.0720603466033936, 2.085881471633911, 2.1591832637786865, 2.1062467098236084, 2.577608585357666], \"source_val_acc_label\": [0.916630993150685, 0.9509845890410958, 0.9622217465753424, 0.965111301369863, 0.9650042808219178, 0.9513056506849316, 0.9680008561643836, 0.9660744863013698, 0.965111301369863, 0.971853595890411, 0.9408176369863014], \"target_val_acc_label\": [0.17314453125, 0.25380859375, 0.26858723958333336, 0.26650390625, 0.2581380208333333, 0.19436848958333333, 0.28203125, 0.27314453125, 0.2579427083333333, 0.27203776041666666, 0.14339192708333334]}, \"dataset_metrics\": {\"source\": {\"train\": {\"n_unique_x\": 56700, \"n_unique_y\": 130, \"n_batch/episode\": 2081}, \"val\": {\"n_unique_x\": 12132, \"n_unique_y\": 130, \"n_batch/episode\": 292}, \"test\": {\"n_unique_x\": 12132, \"n_unique_y\": 130, \"n_batch/episode\": 292}}, \"target\": {\"train\": {\"n_unique_x\": 179200, \"n_unique_y\": 16, \"n_batch/episode\": 6720}, \"val\": {\"n_unique_x\": 38400, \"n_unique_y\": 16, \"n_batch/episode\": 960}, \"test\": {\"n_unique_x\": 38400, \"n_unique_y\": 16, \"n_batch/episode\": 960}}}}'"
      ]
     },
     "execution_count": 29,
     "metadata": {},
     "output_type": "execute_result"
    }
   ],
   "source": [
    "json.dumps(experiment)"
   ]
  }
 ],
 "metadata": {
  "celltoolbar": "Tags",
  "kernelspec": {
   "display_name": "Python 3 (ipykernel)",
   "language": "python",
   "name": "python3"
  },
  "language_info": {
   "codemirror_mode": {
    "name": "ipython",
    "version": 3
   },
   "file_extension": ".py",
   "mimetype": "text/x-python",
   "name": "python",
   "nbconvert_exporter": "python",
   "pygments_lexer": "ipython3",
   "version": "3.8.10"
  },
  "papermill": {
   "default_parameters": {},
   "duration": 809.319085,
   "end_time": "2022-03-18T09:33:38.304412",
   "environment_variables": {},
   "exception": null,
   "input_path": "/mnt/wd500GB/CSC500/csc500-main/csc500-notebooks/templates/tl_ptn_template.ipynb",
   "output_path": "trial.ipynb",
   "parameters": {
    "parameters": {
     "BEST_MODEL_PATH": "./best_model.pth",
     "NUM_LOGS_PER_EPOCH": 10,
     "criteria_for_best": "target_loss",
     "dataset_seed": 1337,
     "datasets": [
      {
       "domain_prefix": "C_A_",
       "domains": [
        1,
        2,
        3,
        4,
        5
       ],
       "episode_transforms": [],
       "labels": [
        "1-10.",
        "1-11.",
        "1-15.",
        "1-16.",
        "1-17.",
        "1-18.",
        "1-19.",
        "10-4.",
        "10-7.",
        "11-1.",
        "11-14.",
        "11-17.",
        "11-20.",
        "11-7.",
        "13-20.",
        "13-8.",
        "14-10.",
        "14-11.",
        "14-14.",
        "14-7.",
        "15-1.",
        "15-20.",
        "16-1.",
        "16-16.",
        "17-10.",
        "17-11.",
        "17-2.",
        "19-1.",
        "19-16.",
        "19-19.",
        "19-20.",
        "19-3.",
        "2-10.",
        "2-11.",
        "2-17.",
        "2-18.",
        "2-20.",
        "2-3.",
        "2-4.",
        "2-5.",
        "2-6.",
        "2-7.",
        "2-8.",
        "3-13.",
        "3-18.",
        "3-3.",
        "4-1.",
        "4-10.",
        "4-11.",
        "4-19.",
        "5-5.",
        "6-15.",
        "7-10.",
        "7-14.",
        "8-18.",
        "8-20.",
        "8-3.",
        "8-8."
       ],
       "num_examples_per_domain_per_label": 100,
       "pickle_path": "/mnt/wd500GB/CSC500/csc500-main/datasets/cores.stratified_ds.2022A.pkl",
       "source_or_target_dataset": "source",
       "x_transforms": [
        "unit_mag",
        "jitter_256_5",
        "take_200"
       ]
      },
      {
       "domain_prefix": "W_A_",
       "domains": [
        1,
        2,
        3,
        4
       ],
       "episode_transforms": [],
       "labels": [
        "1-10",
        "1-12",
        "1-14",
        "1-16",
        "1-18",
        "1-19",
        "1-8",
        "10-11",
        "10-17",
        "10-4",
        "10-7",
        "11-1",
        "11-10",
        "11-19",
        "11-20",
        "11-4",
        "11-7",
        "12-19",
        "12-20",
        "12-7",
        "13-14",
        "13-18",
        "13-19",
        "13-20",
        "13-3",
        "13-7",
        "14-10",
        "14-11",
        "14-12",
        "14-13",
        "14-14",
        "14-19",
        "14-20",
        "14-7",
        "14-8",
        "14-9",
        "15-1",
        "15-19",
        "15-6",
        "16-1",
        "16-16",
        "16-19",
        "16-20",
        "17-10",
        "17-11",
        "18-1",
        "18-10",
        "18-11",
        "18-12",
        "18-13",
        "18-14",
        "18-15",
        "18-16",
        "18-17",
        "18-19",
        "18-2",
        "18-20",
        "18-4",
        "18-5",
        "18-7",
        "18-8",
        "18-9",
        "19-1",
        "19-10",
        "19-11",
        "19-12",
        "19-13",
        "19-14",
        "19-15",
        "19-19",
        "19-2",
        "19-20",
        "19-3",
        "19-4",
        "19-6",
        "19-7",
        "19-8",
        "19-9",
        "2-1",
        "2-13",
        "2-15",
        "2-3",
        "2-4",
        "2-5",
        "2-6",
        "2-7",
        "2-8",
        "20-1",
        "20-12",
        "20-14",
        "20-15",
        "20-16",
        "20-18",
        "20-19",
        "20-20",
        "20-3",
        "20-4",
        "20-5",
        "20-7",
        "20-8",
        "3-1",
        "3-13",
        "3-18",
        "3-2",
        "3-8",
        "4-1",
        "4-10",
        "4-11",
        "5-1",
        "5-5",
        "6-1",
        "6-15",
        "6-6",
        "7-10",
        "7-11",
        "7-12",
        "7-13",
        "7-14",
        "7-7",
        "7-8",
        "7-9",
        "8-1",
        "8-13",
        "8-14",
        "8-18",
        "8-20",
        "8-3",
        "8-8",
        "9-1",
        "9-7"
       ],
       "num_examples_per_domain_per_label": 100,
       "pickle_path": "/mnt/wd500GB/CSC500/csc500-main/datasets/wisig.node3-19.stratified_ds.2022A.pkl",
       "source_or_target_dataset": "source",
       "x_transforms": [
        "unit_mag",
        "jitter_256_5",
        "take_200"
       ]
      },
      {
       "domain_prefix": "ORACLE.run1_",
       "domains": [
        32,
        38,
        8,
        44,
        14,
        50,
        20,
        26
       ],
       "episode_transforms": [],
       "labels": [
        "3123D52",
        "3123D65",
        "3123D79",
        "3123D80",
        "3123D54",
        "3123D70",
        "3123D7B",
        "3123D89",
        "3123D58",
        "3123D76",
        "3123D7D",
        "3123EFE",
        "3123D64",
        "3123D78",
        "3123D7E",
        "3124E4A"
       ],
       "num_examples_per_domain_per_label": 2000,
       "pickle_path": "/mnt/wd500GB/CSC500/csc500-main/datasets/oracle.Run1_framed_2000Examples_stratified_ds.2022A.pkl",
       "source_or_target_dataset": "target",
       "x_transforms": [
        "unit_mag",
        "jitter_256_5",
        "take_200",
        "resample_20Msps_to_25Msps"
       ]
      }
     ],
     "device": "cuda",
     "experiment_name": "tl_3-jitter5:cores+wisig -> oracle.run1.framed",
     "lr": 0.001,
     "n_epoch": 50,
     "n_query": 2,
     "n_shot": 3,
     "n_way": 16,
     "patience": 3,
     "seed": 1337,
     "test_k_factor": 2,
     "torch_default_dtype": "torch.float32",
     "train_k_factor": 3,
     "val_k_factor": 2,
     "x_net": [
      {
       "class": "nnReshape",
       "kargs": {
        "shape": [
         -1,
         1,
         2,
         256
        ]
       }
      },
      {
       "class": "Conv2d",
       "kargs": {
        "bias": false,
        "in_channels": 1,
        "kernel_size": [
         1,
         7
        ],
        "out_channels": 256,
        "padding": [
         0,
         3
        ]
       }
      },
      {
       "class": "ReLU",
       "kargs": {
        "inplace": true
       }
      },
      {
       "class": "BatchNorm2d",
       "kargs": {
        "num_features": 256
       }
      },
      {
       "class": "Conv2d",
       "kargs": {
        "bias": true,
        "in_channels": 256,
        "kernel_size": [
         2,
         7
        ],
        "out_channels": 80,
        "padding": [
         0,
         3
        ]
       }
      },
      {
       "class": "ReLU",
       "kargs": {
        "inplace": true
       }
      },
      {
       "class": "BatchNorm2d",
       "kargs": {
        "num_features": 80
       }
      },
      {
       "class": "Flatten",
       "kargs": {}
      },
      {
       "class": "Linear",
       "kargs": {
        "in_features": 20480,
        "out_features": 256
       }
      },
      {
       "class": "ReLU",
       "kargs": {
        "inplace": true
       }
      },
      {
       "class": "BatchNorm1d",
       "kargs": {
        "num_features": 256
       }
      },
      {
       "class": "Linear",
       "kargs": {
        "in_features": 256,
        "out_features": 256
       }
      }
     ]
    }
   },
   "start_time": "2022-03-18T09:20:08.985327",
   "version": "2.3.4"
  }
 },
 "nbformat": 4,
 "nbformat_minor": 5
}