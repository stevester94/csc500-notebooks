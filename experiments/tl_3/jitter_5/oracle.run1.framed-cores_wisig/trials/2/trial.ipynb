{
 "cells": [
  {
   "cell_type": "markdown",
   "id": "9fea5f46",
   "metadata": {
    "papermill": {
     "duration": 0.018282,
     "end_time": "2022-03-18T08:47:01.727060",
     "exception": false,
     "start_time": "2022-03-18T08:47:01.708778",
     "status": "completed"
    },
    "tags": []
   },
   "source": [
    "# Transfer Learning Template"
   ]
  },
  {
   "cell_type": "code",
   "execution_count": 1,
   "id": "0902182a",
   "metadata": {
    "execution": {
     "iopub.execute_input": "2022-03-18T08:47:01.763872Z",
     "iopub.status.busy": "2022-03-18T08:47:01.763539Z",
     "iopub.status.idle": "2022-03-18T08:47:02.663640Z",
     "shell.execute_reply": "2022-03-18T08:47:02.663888Z"
    },
    "papermill": {
     "duration": 0.924202,
     "end_time": "2022-03-18T08:47:02.664016",
     "exception": false,
     "start_time": "2022-03-18T08:47:01.739814",
     "status": "completed"
    },
    "tags": []
   },
   "outputs": [],
   "source": [
    "%load_ext autoreload\n",
    "%autoreload 2\n",
    "%matplotlib inline\n",
    "\n",
    "    \n",
    "import os, json, sys, time, random\n",
    "import numpy as np\n",
    "import torch\n",
    "from torch.optim import Adam\n",
    "from  easydict import EasyDict\n",
    "import matplotlib.pyplot as plt\n",
    "\n",
    "from steves_models.steves_ptn import Steves_Prototypical_Network\n",
    "\n",
    "from steves_utils.lazy_iterable_wrapper import Lazy_Iterable_Wrapper\n",
    "from steves_utils.iterable_aggregator import Iterable_Aggregator\n",
    "from steves_utils.ptn_train_eval_test_jig import  PTN_Train_Eval_Test_Jig\n",
    "from steves_utils.torch_sequential_builder import build_sequential\n",
    "from steves_utils.torch_utils import get_dataset_metrics, ptn_confusion_by_domain_over_dataloader\n",
    "from steves_utils.utils_v2 import (per_domain_accuracy_from_confusion, get_datasets_base_path)\n",
    "from steves_utils.PTN.utils import independent_accuracy_assesment\n",
    "\n",
    "from torch.utils.data import DataLoader\n",
    "\n",
    "from steves_utils.stratified_dataset.episodic_accessor import Episodic_Accessor_Factory\n",
    "\n",
    "from steves_utils.ptn_do_report import (\n",
    "    get_loss_curve,\n",
    "    get_results_table,\n",
    "    get_parameters_table,\n",
    "    get_domain_accuracies,\n",
    ")\n",
    "\n",
    "from steves_utils.transforms import get_chained_transform"
   ]
  },
  {
   "cell_type": "markdown",
   "id": "41c840b4",
   "metadata": {
    "papermill": {
     "duration": 0.013556,
     "end_time": "2022-03-18T08:47:02.691985",
     "exception": false,
     "start_time": "2022-03-18T08:47:02.678429",
     "status": "completed"
    },
    "tags": []
   },
   "source": [
    "# Allowed Parameters\n",
    "These are allowed parameters, not defaults\n",
    "Each of these values need to be present in the injected parameters (the notebook will raise an exception if they are not present)\n",
    "\n",
    "Papermill uses the cell tag \"parameters\" to inject the real parameters below this cell.\n",
    "Enable tags to see what I mean"
   ]
  },
  {
   "cell_type": "code",
   "execution_count": 2,
   "id": "fd44eb83",
   "metadata": {
    "execution": {
     "iopub.execute_input": "2022-03-18T08:47:02.721228Z",
     "iopub.status.busy": "2022-03-18T08:47:02.720940Z",
     "iopub.status.idle": "2022-03-18T08:47:02.731625Z",
     "shell.execute_reply": "2022-03-18T08:47:02.731848Z"
    },
    "papermill": {
     "duration": 0.026436,
     "end_time": "2022-03-18T08:47:02.731923",
     "exception": false,
     "start_time": "2022-03-18T08:47:02.705487",
     "status": "completed"
    },
    "tags": []
   },
   "outputs": [],
   "source": [
    "required_parameters = {\n",
    "    \"experiment_name\",\n",
    "    \"lr\",\n",
    "    \"device\",\n",
    "    \"seed\",\n",
    "    \"dataset_seed\",\n",
    "    \"n_shot\",\n",
    "    \"n_query\",\n",
    "    \"n_way\",\n",
    "    \"train_k_factor\",\n",
    "    \"val_k_factor\",\n",
    "    \"test_k_factor\",\n",
    "    \"n_epoch\",\n",
    "    \"patience\",\n",
    "    \"criteria_for_best\",\n",
    "    \"x_net\",\n",
    "    \"datasets\",\n",
    "    \"torch_default_dtype\",\n",
    "    \"NUM_LOGS_PER_EPOCH\",\n",
    "    \"BEST_MODEL_PATH\",\n",
    "    \"x_shape\",\n",
    "}"
   ]
  },
  {
   "cell_type": "code",
   "execution_count": 3,
   "id": "fa3f0049",
   "metadata": {
    "execution": {
     "iopub.execute_input": "2022-03-18T08:47:02.770342Z",
     "iopub.status.busy": "2022-03-18T08:47:02.770039Z",
     "iopub.status.idle": "2022-03-18T08:47:02.783188Z",
     "shell.execute_reply": "2022-03-18T08:47:02.782756Z"
    },
    "papermill": {
     "duration": 0.032365,
     "end_time": "2022-03-18T08:47:02.783316",
     "exception": false,
     "start_time": "2022-03-18T08:47:02.750951",
     "status": "completed"
    },
    "tags": [
     "parameters"
    ]
   },
   "outputs": [],
   "source": [
    "from steves_utils.CORES.utils import (\n",
    "    ALL_NODES,\n",
    "    ALL_NODES_MINIMUM_1000_EXAMPLES,\n",
    "    ALL_DAYS\n",
    ")\n",
    "\n",
    "from steves_utils.ORACLE.utils_v2 import (\n",
    "    ALL_DISTANCES_FEET_NARROWED,\n",
    "    ALL_RUNS,\n",
    "    ALL_SERIAL_NUMBERS,\n",
    ")\n",
    "\n",
    "standalone_parameters = {}\n",
    "standalone_parameters[\"experiment_name\"] = \"STANDALONE PTN\"\n",
    "standalone_parameters[\"lr\"] = 0.001\n",
    "standalone_parameters[\"device\"] = \"cuda\"\n",
    "\n",
    "standalone_parameters[\"seed\"] = 1337\n",
    "standalone_parameters[\"dataset_seed\"] = 1337\n",
    "\n",
    "standalone_parameters[\"n_way\"] = 8\n",
    "standalone_parameters[\"n_shot\"] = 3\n",
    "standalone_parameters[\"n_query\"]  = 2\n",
    "standalone_parameters[\"train_k_factor\"] = 1\n",
    "standalone_parameters[\"val_k_factor\"] = 2\n",
    "standalone_parameters[\"test_k_factor\"] = 2\n",
    "\n",
    "\n",
    "standalone_parameters[\"n_epoch\"] = 50\n",
    "\n",
    "standalone_parameters[\"patience\"] = 10\n",
    "standalone_parameters[\"criteria_for_best\"] = \"source_loss\"\n",
    "\n",
    "standalone_parameters[\"datasets\"] = [\n",
    "    {\n",
    "        \"labels\": ALL_SERIAL_NUMBERS,\n",
    "        \"domains\": ALL_DISTANCES_FEET_NARROWED,\n",
    "        \"num_examples_per_domain_per_label\": 100,\n",
    "        \"pickle_path\": os.path.join(get_datasets_base_path(), \"oracle.Run1_framed_2000Examples_stratified_ds.2022A.pkl\"),\n",
    "        \"source_or_target_dataset\": \"source\",\n",
    "        \"x_transforms\": [\"unit_mag\", \"minus_two\"],\n",
    "        \"episode_transforms\": [],\n",
    "        \"domain_prefix\": \"ORACLE_\"\n",
    "    },\n",
    "    {\n",
    "        \"labels\": ALL_NODES,\n",
    "        \"domains\": ALL_DAYS,\n",
    "        \"num_examples_per_domain_per_label\": 100,\n",
    "        \"pickle_path\": os.path.join(get_datasets_base_path(), \"cores.stratified_ds.2022A.pkl\"),\n",
    "        \"source_or_target_dataset\": \"target\",\n",
    "        \"x_transforms\": [\"unit_power\", \"times_zero\"],\n",
    "        \"episode_transforms\": [],\n",
    "        \"domain_prefix\": \"CORES_\"\n",
    "    }   \n",
    "]\n",
    "\n",
    "standalone_parameters[\"torch_default_dtype\"] = \"torch.float32\" \n",
    "\n",
    "\n",
    "\n",
    "standalone_parameters[\"x_net\"] =     [\n",
    "    {\"class\": \"nnReshape\", \"kargs\": {\"shape\":[-1, 1, 2, 256]}},\n",
    "    {\"class\": \"Conv2d\", \"kargs\": { \"in_channels\":1, \"out_channels\":256, \"kernel_size\":(1,7), \"bias\":False, \"padding\":(0,3), },},\n",
    "    {\"class\": \"ReLU\", \"kargs\": {\"inplace\": True}},\n",
    "    {\"class\": \"BatchNorm2d\", \"kargs\": {\"num_features\":256}},\n",
    "\n",
    "    {\"class\": \"Conv2d\", \"kargs\": { \"in_channels\":256, \"out_channels\":80, \"kernel_size\":(2,7), \"bias\":True, \"padding\":(0,3), },},\n",
    "    {\"class\": \"ReLU\", \"kargs\": {\"inplace\": True}},\n",
    "    {\"class\": \"BatchNorm2d\", \"kargs\": {\"num_features\":80}},\n",
    "    {\"class\": \"Flatten\", \"kargs\": {}},\n",
    "\n",
    "    {\"class\": \"Linear\", \"kargs\": {\"in_features\": 80*256, \"out_features\": 256}}, # 80 units per IQ pair\n",
    "    {\"class\": \"ReLU\", \"kargs\": {\"inplace\": True}},\n",
    "    {\"class\": \"BatchNorm1d\", \"kargs\": {\"num_features\":256}},\n",
    "\n",
    "    {\"class\": \"Linear\", \"kargs\": {\"in_features\": 256, \"out_features\": 256}},\n",
    "]\n",
    "\n",
    "# Parameters relevant to results\n",
    "# These parameters will basically never need to change\n",
    "standalone_parameters[\"NUM_LOGS_PER_EPOCH\"] = 10\n",
    "standalone_parameters[\"BEST_MODEL_PATH\"] = \"./best_model.pth\"\n",
    "\n",
    "\n",
    "\n",
    "\n"
   ]
  },
  {
   "cell_type": "code",
   "execution_count": 4,
   "id": "9e42cb71",
   "metadata": {
    "execution": {
     "iopub.execute_input": "2022-03-18T08:47:02.827122Z",
     "iopub.status.busy": "2022-03-18T08:47:02.820996Z",
     "iopub.status.idle": "2022-03-18T08:47:02.840108Z",
     "shell.execute_reply": "2022-03-18T08:47:02.840493Z"
    },
    "papermill": {
     "duration": 0.039721,
     "end_time": "2022-03-18T08:47:02.840625",
     "exception": false,
     "start_time": "2022-03-18T08:47:02.800904",
     "status": "completed"
    },
    "tags": [
     "injected-parameters"
    ]
   },
   "outputs": [],
   "source": [
    "# Parameters\n",
    "parameters = {\n",
    "    \"experiment_name\": \"tl_3-jitter5:oracle.run1.framed -> cores+wisig\",\n",
    "    \"device\": \"cuda\",\n",
    "    \"lr\": 0.001,\n",
    "    \"seed\": 1337,\n",
    "    \"dataset_seed\": 1337,\n",
    "    \"n_shot\": 3,\n",
    "    \"n_query\": 2,\n",
    "    \"train_k_factor\": 3,\n",
    "    \"val_k_factor\": 2,\n",
    "    \"test_k_factor\": 2,\n",
    "    \"torch_default_dtype\": \"torch.float32\",\n",
    "    \"n_epoch\": 50,\n",
    "    \"patience\": 3,\n",
    "    \"criteria_for_best\": \"target_loss\",\n",
    "    \"x_net\": [\n",
    "        {\"class\": \"nnReshape\", \"kargs\": {\"shape\": [-1, 1, 2, 256]}},\n",
    "        {\n",
    "            \"class\": \"Conv2d\",\n",
    "            \"kargs\": {\n",
    "                \"in_channels\": 1,\n",
    "                \"out_channels\": 256,\n",
    "                \"kernel_size\": [1, 7],\n",
    "                \"bias\": False,\n",
    "                \"padding\": [0, 3],\n",
    "            },\n",
    "        },\n",
    "        {\"class\": \"ReLU\", \"kargs\": {\"inplace\": True}},\n",
    "        {\"class\": \"BatchNorm2d\", \"kargs\": {\"num_features\": 256}},\n",
    "        {\n",
    "            \"class\": \"Conv2d\",\n",
    "            \"kargs\": {\n",
    "                \"in_channels\": 256,\n",
    "                \"out_channels\": 80,\n",
    "                \"kernel_size\": [2, 7],\n",
    "                \"bias\": True,\n",
    "                \"padding\": [0, 3],\n",
    "            },\n",
    "        },\n",
    "        {\"class\": \"ReLU\", \"kargs\": {\"inplace\": True}},\n",
    "        {\"class\": \"BatchNorm2d\", \"kargs\": {\"num_features\": 80}},\n",
    "        {\"class\": \"Flatten\", \"kargs\": {}},\n",
    "        {\"class\": \"Linear\", \"kargs\": {\"in_features\": 20480, \"out_features\": 256}},\n",
    "        {\"class\": \"ReLU\", \"kargs\": {\"inplace\": True}},\n",
    "        {\"class\": \"BatchNorm1d\", \"kargs\": {\"num_features\": 256}},\n",
    "        {\"class\": \"Linear\", \"kargs\": {\"in_features\": 256, \"out_features\": 256}},\n",
    "    ],\n",
    "    \"NUM_LOGS_PER_EPOCH\": 10,\n",
    "    \"BEST_MODEL_PATH\": \"./best_model.pth\",\n",
    "    \"n_way\": 16,\n",
    "    \"datasets\": [\n",
    "        {\n",
    "            \"labels\": [\n",
    "                \"1-10.\",\n",
    "                \"1-11.\",\n",
    "                \"1-15.\",\n",
    "                \"1-16.\",\n",
    "                \"1-17.\",\n",
    "                \"1-18.\",\n",
    "                \"1-19.\",\n",
    "                \"10-4.\",\n",
    "                \"10-7.\",\n",
    "                \"11-1.\",\n",
    "                \"11-14.\",\n",
    "                \"11-17.\",\n",
    "                \"11-20.\",\n",
    "                \"11-7.\",\n",
    "                \"13-20.\",\n",
    "                \"13-8.\",\n",
    "                \"14-10.\",\n",
    "                \"14-11.\",\n",
    "                \"14-14.\",\n",
    "                \"14-7.\",\n",
    "                \"15-1.\",\n",
    "                \"15-20.\",\n",
    "                \"16-1.\",\n",
    "                \"16-16.\",\n",
    "                \"17-10.\",\n",
    "                \"17-11.\",\n",
    "                \"17-2.\",\n",
    "                \"19-1.\",\n",
    "                \"19-16.\",\n",
    "                \"19-19.\",\n",
    "                \"19-20.\",\n",
    "                \"19-3.\",\n",
    "                \"2-10.\",\n",
    "                \"2-11.\",\n",
    "                \"2-17.\",\n",
    "                \"2-18.\",\n",
    "                \"2-20.\",\n",
    "                \"2-3.\",\n",
    "                \"2-4.\",\n",
    "                \"2-5.\",\n",
    "                \"2-6.\",\n",
    "                \"2-7.\",\n",
    "                \"2-8.\",\n",
    "                \"3-13.\",\n",
    "                \"3-18.\",\n",
    "                \"3-3.\",\n",
    "                \"4-1.\",\n",
    "                \"4-10.\",\n",
    "                \"4-11.\",\n",
    "                \"4-19.\",\n",
    "                \"5-5.\",\n",
    "                \"6-15.\",\n",
    "                \"7-10.\",\n",
    "                \"7-14.\",\n",
    "                \"8-18.\",\n",
    "                \"8-20.\",\n",
    "                \"8-3.\",\n",
    "                \"8-8.\",\n",
    "            ],\n",
    "            \"domains\": [1, 2, 3, 4, 5],\n",
    "            \"num_examples_per_domain_per_label\": 100,\n",
    "            \"pickle_path\": \"/mnt/wd500GB/CSC500/csc500-main/datasets/cores.stratified_ds.2022A.pkl\",\n",
    "            \"source_or_target_dataset\": \"target\",\n",
    "            \"x_transforms\": [\"jitter_256_5\", \"take_200\"],\n",
    "            \"episode_transforms\": [],\n",
    "            \"domain_prefix\": \"C_A_\",\n",
    "        },\n",
    "        {\n",
    "            \"labels\": [\n",
    "                \"1-10\",\n",
    "                \"1-12\",\n",
    "                \"1-14\",\n",
    "                \"1-16\",\n",
    "                \"1-18\",\n",
    "                \"1-19\",\n",
    "                \"1-8\",\n",
    "                \"10-11\",\n",
    "                \"10-17\",\n",
    "                \"10-4\",\n",
    "                \"10-7\",\n",
    "                \"11-1\",\n",
    "                \"11-10\",\n",
    "                \"11-19\",\n",
    "                \"11-20\",\n",
    "                \"11-4\",\n",
    "                \"11-7\",\n",
    "                \"12-19\",\n",
    "                \"12-20\",\n",
    "                \"12-7\",\n",
    "                \"13-14\",\n",
    "                \"13-18\",\n",
    "                \"13-19\",\n",
    "                \"13-20\",\n",
    "                \"13-3\",\n",
    "                \"13-7\",\n",
    "                \"14-10\",\n",
    "                \"14-11\",\n",
    "                \"14-12\",\n",
    "                \"14-13\",\n",
    "                \"14-14\",\n",
    "                \"14-19\",\n",
    "                \"14-20\",\n",
    "                \"14-7\",\n",
    "                \"14-8\",\n",
    "                \"14-9\",\n",
    "                \"15-1\",\n",
    "                \"15-19\",\n",
    "                \"15-6\",\n",
    "                \"16-1\",\n",
    "                \"16-16\",\n",
    "                \"16-19\",\n",
    "                \"16-20\",\n",
    "                \"17-10\",\n",
    "                \"17-11\",\n",
    "                \"18-1\",\n",
    "                \"18-10\",\n",
    "                \"18-11\",\n",
    "                \"18-12\",\n",
    "                \"18-13\",\n",
    "                \"18-14\",\n",
    "                \"18-15\",\n",
    "                \"18-16\",\n",
    "                \"18-17\",\n",
    "                \"18-19\",\n",
    "                \"18-2\",\n",
    "                \"18-20\",\n",
    "                \"18-4\",\n",
    "                \"18-5\",\n",
    "                \"18-7\",\n",
    "                \"18-8\",\n",
    "                \"18-9\",\n",
    "                \"19-1\",\n",
    "                \"19-10\",\n",
    "                \"19-11\",\n",
    "                \"19-12\",\n",
    "                \"19-13\",\n",
    "                \"19-14\",\n",
    "                \"19-15\",\n",
    "                \"19-19\",\n",
    "                \"19-2\",\n",
    "                \"19-20\",\n",
    "                \"19-3\",\n",
    "                \"19-4\",\n",
    "                \"19-6\",\n",
    "                \"19-7\",\n",
    "                \"19-8\",\n",
    "                \"19-9\",\n",
    "                \"2-1\",\n",
    "                \"2-13\",\n",
    "                \"2-15\",\n",
    "                \"2-3\",\n",
    "                \"2-4\",\n",
    "                \"2-5\",\n",
    "                \"2-6\",\n",
    "                \"2-7\",\n",
    "                \"2-8\",\n",
    "                \"20-1\",\n",
    "                \"20-12\",\n",
    "                \"20-14\",\n",
    "                \"20-15\",\n",
    "                \"20-16\",\n",
    "                \"20-18\",\n",
    "                \"20-19\",\n",
    "                \"20-20\",\n",
    "                \"20-3\",\n",
    "                \"20-4\",\n",
    "                \"20-5\",\n",
    "                \"20-7\",\n",
    "                \"20-8\",\n",
    "                \"3-1\",\n",
    "                \"3-13\",\n",
    "                \"3-18\",\n",
    "                \"3-2\",\n",
    "                \"3-8\",\n",
    "                \"4-1\",\n",
    "                \"4-10\",\n",
    "                \"4-11\",\n",
    "                \"5-1\",\n",
    "                \"5-5\",\n",
    "                \"6-1\",\n",
    "                \"6-15\",\n",
    "                \"6-6\",\n",
    "                \"7-10\",\n",
    "                \"7-11\",\n",
    "                \"7-12\",\n",
    "                \"7-13\",\n",
    "                \"7-14\",\n",
    "                \"7-7\",\n",
    "                \"7-8\",\n",
    "                \"7-9\",\n",
    "                \"8-1\",\n",
    "                \"8-13\",\n",
    "                \"8-14\",\n",
    "                \"8-18\",\n",
    "                \"8-20\",\n",
    "                \"8-3\",\n",
    "                \"8-8\",\n",
    "                \"9-1\",\n",
    "                \"9-7\",\n",
    "            ],\n",
    "            \"domains\": [1, 2, 3, 4],\n",
    "            \"num_examples_per_domain_per_label\": 100,\n",
    "            \"pickle_path\": \"/mnt/wd500GB/CSC500/csc500-main/datasets/wisig.node3-19.stratified_ds.2022A.pkl\",\n",
    "            \"source_or_target_dataset\": \"target\",\n",
    "            \"x_transforms\": [\"jitter_256_5\", \"take_200\"],\n",
    "            \"episode_transforms\": [],\n",
    "            \"domain_prefix\": \"W_A_\",\n",
    "        },\n",
    "        {\n",
    "            \"labels\": [\n",
    "                \"3123D52\",\n",
    "                \"3123D65\",\n",
    "                \"3123D79\",\n",
    "                \"3123D80\",\n",
    "                \"3123D54\",\n",
    "                \"3123D70\",\n",
    "                \"3123D7B\",\n",
    "                \"3123D89\",\n",
    "                \"3123D58\",\n",
    "                \"3123D76\",\n",
    "                \"3123D7D\",\n",
    "                \"3123EFE\",\n",
    "                \"3123D64\",\n",
    "                \"3123D78\",\n",
    "                \"3123D7E\",\n",
    "                \"3124E4A\",\n",
    "            ],\n",
    "            \"domains\": [32, 38, 8, 44, 14, 50, 20, 26],\n",
    "            \"num_examples_per_domain_per_label\": 2000,\n",
    "            \"pickle_path\": \"/mnt/wd500GB/CSC500/csc500-main/datasets/oracle.Run1_framed_2000Examples_stratified_ds.2022A.pkl\",\n",
    "            \"source_or_target_dataset\": \"source\",\n",
    "            \"x_transforms\": [\"jitter_256_5\", \"take_200\", \"resample_20Msps_to_25Msps\"],\n",
    "            \"episode_transforms\": [],\n",
    "            \"domain_prefix\": \"ORACLE.run1_\",\n",
    "        },\n",
    "    ],\n",
    "}\n"
   ]
  },
  {
   "cell_type": "code",
   "execution_count": 5,
   "id": "8fa1cc33",
   "metadata": {
    "execution": {
     "iopub.execute_input": "2022-03-18T08:47:02.876562Z",
     "iopub.status.busy": "2022-03-18T08:47:02.876298Z",
     "iopub.status.idle": "2022-03-18T08:47:02.890996Z",
     "shell.execute_reply": "2022-03-18T08:47:02.891399Z"
    },
    "papermill": {
     "duration": 0.031911,
     "end_time": "2022-03-18T08:47:02.891526",
     "exception": false,
     "start_time": "2022-03-18T08:47:02.859615",
     "status": "completed"
    },
    "tags": []
   },
   "outputs": [],
   "source": [
    "# Set this to True if you want to run this template directly\n",
    "STANDALONE = False\n",
    "if STANDALONE:\n",
    "    print(\"parameters not injected, running with standalone_parameters\")\n",
    "    parameters = standalone_parameters\n",
    "\n",
    "if not 'parameters' in locals() and not 'parameters' in globals():\n",
    "    raise Exception(\"Parameter injection failed\")\n",
    "\n",
    "#Use an easy dict for all the parameters\n",
    "p = EasyDict(parameters)\n",
    "\n",
    "if \"x_shape\" not in p:\n",
    "    p.x_shape = [2,256] # Default to this if we dont supply x_shape\n",
    "\n",
    "\n",
    "supplied_keys = set(p.keys())\n",
    "\n",
    "if  supplied_keys != required_parameters:\n",
    "    print(\"Parameters are incorrect\")\n",
    "    if len(supplied_keys - required_parameters)>0: print(\"Shouldn't have:\", str(supplied_keys - required_parameters))\n",
    "    if len(required_parameters - supplied_keys)>0: print(\"Need to have:\", str(required_parameters - supplied_keys))\n",
    "    raise RuntimeError(\"Parameters are incorrect\")"
   ]
  },
  {
   "cell_type": "code",
   "execution_count": 6,
   "id": "3a028d58",
   "metadata": {
    "execution": {
     "iopub.execute_input": "2022-03-18T08:47:02.926118Z",
     "iopub.status.busy": "2022-03-18T08:47:02.925862Z",
     "iopub.status.idle": "2022-03-18T08:47:02.937283Z",
     "shell.execute_reply": "2022-03-18T08:47:02.936874Z"
    },
    "papermill": {
     "duration": 0.026855,
     "end_time": "2022-03-18T08:47:02.937388",
     "exception": false,
     "start_time": "2022-03-18T08:47:02.910533",
     "status": "completed"
    },
    "tags": []
   },
   "outputs": [],
   "source": [
    "###################################\n",
    "# Set the RNGs and make it all deterministic\n",
    "###################################\n",
    "np.random.seed(p.seed)\n",
    "random.seed(p.seed)\n",
    "torch.manual_seed(p.seed)\n",
    "\n",
    "torch.use_deterministic_algorithms(True) "
   ]
  },
  {
   "cell_type": "code",
   "execution_count": 7,
   "id": "b691acf6",
   "metadata": {
    "execution": {
     "iopub.execute_input": "2022-03-18T08:47:02.973282Z",
     "iopub.status.busy": "2022-03-18T08:47:02.973023Z",
     "iopub.status.idle": "2022-03-18T08:47:02.987281Z",
     "shell.execute_reply": "2022-03-18T08:47:02.986785Z"
    },
    "papermill": {
     "duration": 0.02958,
     "end_time": "2022-03-18T08:47:02.987386",
     "exception": false,
     "start_time": "2022-03-18T08:47:02.957806",
     "status": "completed"
    },
    "tags": []
   },
   "outputs": [],
   "source": [
    "###########################################\n",
    "# The stratified datasets honor this\n",
    "###########################################\n",
    "torch.set_default_dtype(eval(p.torch_default_dtype))"
   ]
  },
  {
   "cell_type": "code",
   "execution_count": 8,
   "id": "b5fba671",
   "metadata": {
    "execution": {
     "iopub.execute_input": "2022-03-18T08:47:03.018191Z",
     "iopub.status.busy": "2022-03-18T08:47:03.017815Z",
     "iopub.status.idle": "2022-03-18T08:47:03.056140Z",
     "shell.execute_reply": "2022-03-18T08:47:03.055693Z"
    },
    "papermill": {
     "duration": 0.053462,
     "end_time": "2022-03-18T08:47:03.056252",
     "exception": false,
     "start_time": "2022-03-18T08:47:03.002790",
     "status": "completed"
    },
    "tags": []
   },
   "outputs": [],
   "source": [
    "###################################\n",
    "# Build the network(s)\n",
    "# Note: It's critical to do this AFTER setting the RNG\n",
    "###################################\n",
    "x_net = build_sequential(p.x_net)"
   ]
  },
  {
   "cell_type": "code",
   "execution_count": 9,
   "id": "5d7e61cc",
   "metadata": {
    "execution": {
     "iopub.execute_input": "2022-03-18T08:47:03.089309Z",
     "iopub.status.busy": "2022-03-18T08:47:03.089056Z",
     "iopub.status.idle": "2022-03-18T08:47:03.102937Z",
     "shell.execute_reply": "2022-03-18T08:47:03.102515Z"
    },
    "papermill": {
     "duration": 0.029283,
     "end_time": "2022-03-18T08:47:03.103040",
     "exception": false,
     "start_time": "2022-03-18T08:47:03.073757",
     "status": "completed"
    },
    "tags": []
   },
   "outputs": [],
   "source": [
    "start_time_secs = time.time()"
   ]
  },
  {
   "cell_type": "code",
   "execution_count": 10,
   "id": "c6b67dfd",
   "metadata": {
    "execution": {
     "iopub.execute_input": "2022-03-18T08:47:03.136512Z",
     "iopub.status.busy": "2022-03-18T08:47:03.136264Z",
     "iopub.status.idle": "2022-03-18T08:47:03.151436Z",
     "shell.execute_reply": "2022-03-18T08:47:03.150958Z"
    },
    "papermill": {
     "duration": 0.030418,
     "end_time": "2022-03-18T08:47:03.151548",
     "exception": false,
     "start_time": "2022-03-18T08:47:03.121130",
     "status": "completed"
    },
    "tags": []
   },
   "outputs": [],
   "source": [
    "p.domains_source = []\n",
    "p.domains_target = []\n",
    "\n",
    "\n",
    "train_original_source = []\n",
    "val_original_source   = []\n",
    "test_original_source  = []\n",
    "\n",
    "train_original_target = []\n",
    "val_original_target   = []\n",
    "test_original_target  = []"
   ]
  },
  {
   "cell_type": "code",
   "execution_count": 11,
   "id": "e3d9c3d3",
   "metadata": {
    "execution": {
     "iopub.execute_input": "2022-03-18T08:47:03.187187Z",
     "iopub.status.busy": "2022-03-18T08:47:03.186940Z",
     "iopub.status.idle": "2022-03-18T08:47:03.202051Z",
     "shell.execute_reply": "2022-03-18T08:47:03.201563Z"
    },
    "papermill": {
     "duration": 0.030514,
     "end_time": "2022-03-18T08:47:03.202152",
     "exception": false,
     "start_time": "2022-03-18T08:47:03.171638",
     "status": "completed"
    },
    "tags": []
   },
   "outputs": [],
   "source": [
    "# global_x_transform_func = lambda x: normalize(x.to(torch.get_default_dtype()), \"unit_power\") # unit_power, unit_mag\n",
    "# global_x_transform_func = lambda x: normalize(x, \"unit_power\") # unit_power, unit_mag"
   ]
  },
  {
   "cell_type": "code",
   "execution_count": 12,
   "id": "acb78fd2",
   "metadata": {
    "execution": {
     "iopub.execute_input": "2022-03-18T08:47:03.241725Z",
     "iopub.status.busy": "2022-03-18T08:47:03.241468Z",
     "iopub.status.idle": "2022-03-18T08:47:03.255137Z",
     "shell.execute_reply": "2022-03-18T08:47:03.254708Z"
    },
    "papermill": {
     "duration": 0.034326,
     "end_time": "2022-03-18T08:47:03.255255",
     "exception": false,
     "start_time": "2022-03-18T08:47:03.220929",
     "status": "completed"
    },
    "tags": []
   },
   "outputs": [],
   "source": [
    "def add_dataset(\n",
    "    labels,\n",
    "    domains,\n",
    "    pickle_path,\n",
    "    x_transforms,\n",
    "    episode_transforms,\n",
    "    domain_prefix,\n",
    "    num_examples_per_domain_per_label,\n",
    "    source_or_target_dataset:str,\n",
    "    iterator_seed=p.seed,\n",
    "    dataset_seed=p.dataset_seed,\n",
    "    n_shot=p.n_shot,\n",
    "    n_way=p.n_way,\n",
    "    n_query=p.n_query,\n",
    "    train_val_test_k_factors=(p.train_k_factor,p.val_k_factor,p.test_k_factor),\n",
    "):\n",
    "   \n",
    "    if x_transforms == []: x_transform = None\n",
    "    else: x_transform = get_chained_transform(x_transforms)\n",
    "    \n",
    "    if episode_transforms == []: episode_transform = None\n",
    "    else: raise Exception(\"episode_transforms not implemented\")\n",
    "    \n",
    "    episode_transform = lambda tup, _prefix=domain_prefix: (_prefix + str(tup[0]), tup[1])\n",
    "\n",
    "\n",
    "    eaf = Episodic_Accessor_Factory(\n",
    "        labels=labels,\n",
    "        domains=domains,\n",
    "        num_examples_per_domain_per_label=num_examples_per_domain_per_label,\n",
    "        iterator_seed=iterator_seed,\n",
    "        dataset_seed=dataset_seed,\n",
    "        n_shot=n_shot,\n",
    "        n_way=n_way,\n",
    "        n_query=n_query,\n",
    "        train_val_test_k_factors=train_val_test_k_factors,\n",
    "        pickle_path=pickle_path,\n",
    "        x_transform_func=x_transform,\n",
    "    )\n",
    "\n",
    "    train, val, test = eaf.get_train(), eaf.get_val(), eaf.get_test()\n",
    "    train = Lazy_Iterable_Wrapper(train, episode_transform)\n",
    "    val = Lazy_Iterable_Wrapper(val, episode_transform)\n",
    "    test = Lazy_Iterable_Wrapper(test, episode_transform)\n",
    "\n",
    "    if source_or_target_dataset==\"source\":\n",
    "        train_original_source.append(train)\n",
    "        val_original_source.append(val)\n",
    "        test_original_source.append(test)\n",
    "\n",
    "        p.domains_source.extend(\n",
    "            [domain_prefix + str(u) for u in domains]\n",
    "        )\n",
    "    elif source_or_target_dataset==\"target\":\n",
    "        train_original_target.append(train)\n",
    "        val_original_target.append(val)\n",
    "        test_original_target.append(test)\n",
    "        p.domains_target.extend(\n",
    "            [domain_prefix + str(u) for u in domains]\n",
    "        )\n",
    "    else:\n",
    "        raise Exception(f\"invalid source_or_target_dataset: {source_or_target_dataset}\")\n",
    "    "
   ]
  },
  {
   "cell_type": "code",
   "execution_count": 13,
   "id": "fe266617",
   "metadata": {
    "execution": {
     "iopub.execute_input": "2022-03-18T08:47:03.289352Z",
     "iopub.status.busy": "2022-03-18T08:47:03.289106Z",
     "iopub.status.idle": "2022-03-18T08:47:37.945833Z",
     "shell.execute_reply": "2022-03-18T08:47:37.945353Z"
    },
    "papermill": {
     "duration": 34.672406,
     "end_time": "2022-03-18T08:47:37.945944",
     "exception": false,
     "start_time": "2022-03-18T08:47:03.273538",
     "status": "completed"
    },
    "tags": []
   },
   "outputs": [],
   "source": [
    "for ds in p.datasets:\n",
    "    add_dataset(**ds)"
   ]
  },
  {
   "cell_type": "code",
   "execution_count": 14,
   "id": "b90d65ac",
   "metadata": {
    "execution": {
     "iopub.execute_input": "2022-03-18T08:47:37.980185Z",
     "iopub.status.busy": "2022-03-18T08:47:37.979918Z",
     "iopub.status.idle": "2022-03-18T08:47:37.996659Z",
     "shell.execute_reply": "2022-03-18T08:47:37.997032Z"
    },
    "papermill": {
     "duration": 0.032708,
     "end_time": "2022-03-18T08:47:37.997157",
     "exception": false,
     "start_time": "2022-03-18T08:47:37.964449",
     "status": "completed"
    },
    "tags": []
   },
   "outputs": [],
   "source": [
    "# from steves_utils.CORES.utils import (\n",
    "#     ALL_NODES,\n",
    "#     ALL_NODES_MINIMUM_1000_EXAMPLES,\n",
    "#     ALL_DAYS\n",
    "# )\n",
    "\n",
    "# add_dataset(\n",
    "#     labels=ALL_NODES,\n",
    "#     domains = ALL_DAYS,\n",
    "#     num_examples_per_domain_per_label=100,\n",
    "#     pickle_path=os.path.join(get_datasets_base_path(), \"cores.stratified_ds.2022A.pkl\"),\n",
    "#     source_or_target_dataset=\"target\",\n",
    "#     x_transform_func=global_x_transform_func,\n",
    "#     domain_modifier=lambda u: f\"cores_{u}\"\n",
    "# )"
   ]
  },
  {
   "cell_type": "code",
   "execution_count": 15,
   "id": "76db484d",
   "metadata": {
    "execution": {
     "iopub.execute_input": "2022-03-18T08:47:38.029803Z",
     "iopub.status.busy": "2022-03-18T08:47:38.029538Z",
     "iopub.status.idle": "2022-03-18T08:47:38.044060Z",
     "shell.execute_reply": "2022-03-18T08:47:38.044458Z"
    },
    "papermill": {
     "duration": 0.030309,
     "end_time": "2022-03-18T08:47:38.044580",
     "exception": false,
     "start_time": "2022-03-18T08:47:38.014271",
     "status": "completed"
    },
    "tags": []
   },
   "outputs": [],
   "source": [
    "# from steves_utils.ORACLE.utils_v2 import (\n",
    "#     ALL_DISTANCES_FEET,\n",
    "#     ALL_RUNS,\n",
    "#     ALL_SERIAL_NUMBERS,\n",
    "# )\n",
    "\n",
    "\n",
    "# add_dataset(\n",
    "#     labels=ALL_SERIAL_NUMBERS,\n",
    "#     domains = list(set(ALL_DISTANCES_FEET) - {2,62}),\n",
    "#     num_examples_per_domain_per_label=100,\n",
    "#     pickle_path=os.path.join(get_datasets_base_path(), \"oracle.Run2_framed_2000Examples_stratified_ds.2022A.pkl\"),\n",
    "#     source_or_target_dataset=\"source\",\n",
    "#     x_transform_func=global_x_transform_func,\n",
    "#     domain_modifier=lambda u: f\"oracle1_{u}\"\n",
    "# )\n"
   ]
  },
  {
   "cell_type": "code",
   "execution_count": 16,
   "id": "97dea9d2",
   "metadata": {
    "execution": {
     "iopub.execute_input": "2022-03-18T08:47:38.079769Z",
     "iopub.status.busy": "2022-03-18T08:47:38.079498Z",
     "iopub.status.idle": "2022-03-18T08:47:38.093535Z",
     "shell.execute_reply": "2022-03-18T08:47:38.093124Z"
    },
    "papermill": {
     "duration": 0.029439,
     "end_time": "2022-03-18T08:47:38.093642",
     "exception": false,
     "start_time": "2022-03-18T08:47:38.064203",
     "status": "completed"
    },
    "tags": []
   },
   "outputs": [],
   "source": [
    "# from steves_utils.ORACLE.utils_v2 import (\n",
    "#     ALL_DISTANCES_FEET,\n",
    "#     ALL_RUNS,\n",
    "#     ALL_SERIAL_NUMBERS,\n",
    "# )\n",
    "\n",
    "\n",
    "# add_dataset(\n",
    "#     labels=ALL_SERIAL_NUMBERS,\n",
    "#     domains = list(set(ALL_DISTANCES_FEET) - {2,62,56}),\n",
    "#     num_examples_per_domain_per_label=100,\n",
    "#     pickle_path=os.path.join(get_datasets_base_path(), \"oracle.Run2_framed_2000Examples_stratified_ds.2022A.pkl\"),\n",
    "#     source_or_target_dataset=\"source\",\n",
    "#     x_transform_func=global_x_transform_func,\n",
    "#     domain_modifier=lambda u: f\"oracle2_{u}\"\n",
    "# )"
   ]
  },
  {
   "cell_type": "code",
   "execution_count": 17,
   "id": "6f289866",
   "metadata": {
    "execution": {
     "iopub.execute_input": "2022-03-18T08:47:38.128561Z",
     "iopub.status.busy": "2022-03-18T08:47:38.128297Z",
     "iopub.status.idle": "2022-03-18T08:47:38.145238Z",
     "shell.execute_reply": "2022-03-18T08:47:38.144820Z"
    },
    "papermill": {
     "duration": 0.032163,
     "end_time": "2022-03-18T08:47:38.145345",
     "exception": false,
     "start_time": "2022-03-18T08:47:38.113182",
     "status": "completed"
    },
    "tags": []
   },
   "outputs": [],
   "source": [
    "# add_dataset(\n",
    "#     labels=list(range(19)),\n",
    "#     domains = [0,1,2],\n",
    "#     num_examples_per_domain_per_label=100,\n",
    "#     pickle_path=os.path.join(get_datasets_base_path(), \"metehan.stratified_ds.2022A.pkl\"),\n",
    "#     source_or_target_dataset=\"target\",\n",
    "#     x_transform_func=global_x_transform_func,\n",
    "#     domain_modifier=lambda u: f\"met_{u}\"\n",
    "# )"
   ]
  },
  {
   "cell_type": "code",
   "execution_count": 18,
   "id": "86a863c3",
   "metadata": {
    "execution": {
     "iopub.execute_input": "2022-03-18T08:47:38.180545Z",
     "iopub.status.busy": "2022-03-18T08:47:38.180290Z",
     "iopub.status.idle": "2022-03-18T08:47:38.190700Z",
     "shell.execute_reply": "2022-03-18T08:47:38.190906Z"
    },
    "papermill": {
     "duration": 0.026183,
     "end_time": "2022-03-18T08:47:38.190974",
     "exception": false,
     "start_time": "2022-03-18T08:47:38.164791",
     "status": "completed"
    },
    "tags": []
   },
   "outputs": [],
   "source": [
    "# # from steves_utils.wisig.utils import (\n",
    "# #     ALL_NODES_MINIMUM_100_EXAMPLES,\n",
    "# #     ALL_NODES_MINIMUM_500_EXAMPLES,\n",
    "# #     ALL_NODES_MINIMUM_1000_EXAMPLES,\n",
    "# #     ALL_DAYS\n",
    "# # )\n",
    "\n",
    "# import steves_utils.wisig.utils as wisig\n",
    "\n",
    "\n",
    "# add_dataset(\n",
    "#     labels=wisig.ALL_NODES_MINIMUM_100_EXAMPLES,\n",
    "#     domains = wisig.ALL_DAYS,\n",
    "#     num_examples_per_domain_per_label=100,\n",
    "#     pickle_path=os.path.join(get_datasets_base_path(), \"wisig.node3-19.stratified_ds.2022A.pkl\"),\n",
    "#     source_or_target_dataset=\"target\",\n",
    "#     x_transform_func=global_x_transform_func,\n",
    "#     domain_modifier=lambda u: f\"wisig_{u}\"\n",
    "# )"
   ]
  },
  {
   "cell_type": "code",
   "execution_count": 19,
   "id": "fd5442bc",
   "metadata": {
    "execution": {
     "iopub.execute_input": "2022-03-18T08:47:38.227908Z",
     "iopub.status.busy": "2022-03-18T08:47:38.227610Z",
     "iopub.status.idle": "2022-03-18T08:47:38.241632Z",
     "shell.execute_reply": "2022-03-18T08:47:38.241209Z"
    },
    "papermill": {
     "duration": 0.03268,
     "end_time": "2022-03-18T08:47:38.241733",
     "exception": false,
     "start_time": "2022-03-18T08:47:38.209053",
     "status": "completed"
    },
    "tags": []
   },
   "outputs": [],
   "source": [
    "###################################\n",
    "# Build the dataset\n",
    "###################################\n",
    "train_original_source = Iterable_Aggregator(train_original_source, p.seed)\n",
    "val_original_source = Iterable_Aggregator(val_original_source, p.seed)\n",
    "test_original_source = Iterable_Aggregator(test_original_source, p.seed)\n",
    "\n",
    "\n",
    "train_original_target = Iterable_Aggregator(train_original_target, p.seed)\n",
    "val_original_target = Iterable_Aggregator(val_original_target, p.seed)\n",
    "test_original_target = Iterable_Aggregator(test_original_target, p.seed)\n",
    "\n",
    "# For CNN We only use X and Y. And we only train on the source.\n",
    "# Properly form the data using a transform lambda and Lazy_Iterable_Wrapper. Finally wrap them in a dataloader\n",
    "\n",
    "transform_lambda = lambda ex: ex[1] # Original is (<domain>, <episode>) so we strip down to episode only\n",
    "\n",
    "train_processed_source = Lazy_Iterable_Wrapper(train_original_source, transform_lambda)\n",
    "val_processed_source   = Lazy_Iterable_Wrapper(val_original_source, transform_lambda)\n",
    "test_processed_source  = Lazy_Iterable_Wrapper(test_original_source, transform_lambda)\n",
    "\n",
    "train_processed_target = Lazy_Iterable_Wrapper(train_original_target, transform_lambda)\n",
    "val_processed_target   = Lazy_Iterable_Wrapper(val_original_target, transform_lambda)\n",
    "test_processed_target  = Lazy_Iterable_Wrapper(test_original_target, transform_lambda)\n",
    "\n",
    "datasets = EasyDict({\n",
    "    \"source\": {\n",
    "        \"original\": {\"train\":train_original_source, \"val\":val_original_source, \"test\":test_original_source},\n",
    "        \"processed\": {\"train\":train_processed_source, \"val\":val_processed_source, \"test\":test_processed_source}\n",
    "    },\n",
    "    \"target\": {\n",
    "        \"original\": {\"train\":train_original_target, \"val\":val_original_target, \"test\":test_original_target},\n",
    "        \"processed\": {\"train\":train_processed_target, \"val\":val_processed_target, \"test\":test_processed_target}\n",
    "    },\n",
    "})"
   ]
  },
  {
   "cell_type": "code",
   "execution_count": 20,
   "id": "5b3c01fc",
   "metadata": {
    "execution": {
     "iopub.execute_input": "2022-03-18T08:47:38.278112Z",
     "iopub.status.busy": "2022-03-18T08:47:38.277606Z",
     "iopub.status.idle": "2022-03-18T08:47:43.166261Z",
     "shell.execute_reply": "2022-03-18T08:47:43.166508Z"
    },
    "papermill": {
     "duration": 4.906859,
     "end_time": "2022-03-18T08:47:43.166610",
     "exception": false,
     "start_time": "2022-03-18T08:47:38.259751",
     "status": "completed"
    },
    "tags": []
   },
   "outputs": [
    {
     "name": "stdout",
     "output_type": "stream",
     "text": [
      "{'ORACLE.run1_14', 'ORACLE.run1_20', 'ORACLE.run1_50', 'ORACLE.run1_26', 'ORACLE.run1_38', 'ORACLE.run1_8', 'ORACLE.run1_44', 'ORACLE.run1_32'}\n"
     ]
    },
    {
     "name": "stdout",
     "output_type": "stream",
     "text": [
      "{'W_A_3', 'C_A_2', 'W_A_2', 'C_A_1', 'C_A_5', 'W_A_1', 'C_A_3', 'W_A_4', 'C_A_4'}\n"
     ]
    },
    {
     "name": "stdout",
     "output_type": "stream",
     "text": [
      "tensor([[[0., 0., 0.,  ..., 0., 0., 0.],\n",
      "         [0., 0., 0.,  ..., 0., 0., 0.]],\n",
      "\n",
      "        [[0., 0., 0.,  ..., 0., 0., 0.],\n",
      "         [0., 0., 0.,  ..., 0., 0., 0.]],\n",
      "\n",
      "        [[0., 0., 0.,  ..., 0., 0., 0.],\n",
      "         [0., 0., 0.,  ..., 0., 0., 0.]],\n",
      "\n",
      "        ...,\n",
      "\n",
      "        [[0., 0., 0.,  ..., 0., 0., 0.],\n",
      "         [0., 0., 0.,  ..., 0., 0., 0.]],\n",
      "\n",
      "        [[0., 0., 0.,  ..., 0., 0., 0.],\n",
      "         [0., 0., 0.,  ..., 0., 0., 0.]],\n",
      "\n",
      "        [[0., 0., 0.,  ..., 0., 0., 0.],\n",
      "         [0., 0., 0.,  ..., 0., 0., 0.]]])\n"
     ]
    }
   ],
   "source": [
    "from steves_utils.transforms import get_average_magnitude, get_average_power\n",
    "\n",
    "print(set([u for u,_ in val_original_source]))\n",
    "print(set([u for u,_ in val_original_target]))\n",
    "\n",
    "s_x, s_y, q_x, q_y, _ = next(iter(train_processed_source))\n",
    "print(s_x)\n",
    "\n",
    "# for ds in [\n",
    "#     train_processed_source,\n",
    "#     val_processed_source,\n",
    "#     test_processed_source,\n",
    "#     train_processed_target,\n",
    "#     val_processed_target,\n",
    "#     test_processed_target\n",
    "# ]:\n",
    "#     for s_x, s_y, q_x, q_y, _ in ds:\n",
    "#         for X in (s_x, q_x):\n",
    "#             for x in X:\n",
    "#                 assert np.isclose(get_average_magnitude(x.numpy()), 1.0)\n",
    "#                 assert np.isclose(get_average_power(x.numpy()), 1.0)\n",
    "                "
   ]
  },
  {
   "cell_type": "code",
   "execution_count": 21,
   "id": "bbdacba1",
   "metadata": {
    "execution": {
     "iopub.execute_input": "2022-03-18T08:47:43.206164Z",
     "iopub.status.busy": "2022-03-18T08:47:43.205433Z",
     "iopub.status.idle": "2022-03-18T08:47:43.267211Z",
     "shell.execute_reply": "2022-03-18T08:47:43.266878Z"
    },
    "papermill": {
     "duration": 0.079745,
     "end_time": "2022-03-18T08:47:43.267311",
     "exception": false,
     "start_time": "2022-03-18T08:47:43.187566",
     "status": "completed"
    },
    "tags": []
   },
   "outputs": [
    {
     "name": "stdout",
     "output_type": "stream",
     "text": [
      "(2, 256)\n"
     ]
    }
   ],
   "source": [
    "###################################\n",
    "# Build the model\n",
    "###################################\n",
    "# easfsl only wants a tuple for the shape\n",
    "model = Steves_Prototypical_Network(x_net, device=p.device, x_shape=tuple(p.x_shape))\n",
    "optimizer = Adam(params=model.parameters(), lr=p.lr)"
   ]
  },
  {
   "cell_type": "code",
   "execution_count": 22,
   "id": "22b39ac5",
   "metadata": {
    "execution": {
     "iopub.execute_input": "2022-03-18T08:47:43.304153Z",
     "iopub.status.busy": "2022-03-18T08:47:43.303900Z",
     "iopub.status.idle": "2022-03-18T09:08:36.928629Z",
     "shell.execute_reply": "2022-03-18T09:08:36.928393Z"
    },
    "papermill": {
     "duration": 1253.642335,
     "end_time": "2022-03-18T09:08:36.928690",
     "exception": false,
     "start_time": "2022-03-18T08:47:43.286355",
     "status": "completed"
    },
    "tags": []
   },
   "outputs": [
    {
     "name": "stdout",
     "output_type": "stream",
     "text": [
      "epoch: 1, [batch: 1 / 6720], examples_per_second: 47.7496, train_label_loss: 2.6517, \n"
     ]
    },
    {
     "name": "stdout",
     "output_type": "stream",
     "text": [
      "epoch: 1, [batch: 672 / 6720], examples_per_second: 3205.5980, train_label_loss: 1.2168, \n"
     ]
    },
    {
     "name": "stdout",
     "output_type": "stream",
     "text": [
      "epoch: 1, [batch: 1344 / 6720], examples_per_second: 3225.1878, train_label_loss: 0.6029, \n"
     ]
    },
    {
     "name": "stdout",
     "output_type": "stream",
     "text": [
      "epoch: 1, [batch: 2016 / 6720], examples_per_second: 3193.2720, train_label_loss: 0.3881, \n"
     ]
    },
    {
     "name": "stdout",
     "output_type": "stream",
     "text": [
      "epoch: 1, [batch: 2688 / 6720], examples_per_second: 3185.9170, train_label_loss: 0.6844, \n"
     ]
    },
    {
     "name": "stdout",
     "output_type": "stream",
     "text": [
      "epoch: 1, [batch: 3360 / 6720], examples_per_second: 3197.5624, train_label_loss: 0.6233, \n"
     ]
    },
    {
     "name": "stdout",
     "output_type": "stream",
     "text": [
      "epoch: 1, [batch: 4032 / 6720], examples_per_second: 3189.8916, train_label_loss: 0.4239, \n"
     ]
    },
    {
     "name": "stdout",
     "output_type": "stream",
     "text": [
      "epoch: 1, [batch: 4704 / 6720], examples_per_second: 3193.2095, train_label_loss: 0.6096, \n"
     ]
    },
    {
     "name": "stdout",
     "output_type": "stream",
     "text": [
      "epoch: 1, [batch: 5376 / 6720], examples_per_second: 3196.2169, train_label_loss: 0.2396, \n"
     ]
    },
    {
     "name": "stdout",
     "output_type": "stream",
     "text": [
      "epoch: 1, [batch: 6048 / 6720], examples_per_second: 3198.0488, train_label_loss: 0.4752, \n"
     ]
    },
    {
     "name": "stdout",
     "output_type": "stream",
     "text": [
      "=============================================================\n",
      "epoch: 1, source_val_acc_label: 0.4773, target_val_acc_label: 0.5360, source_val_label_loss: 448.2678, target_val_label_loss: 55242.4609, \n",
      "=============================================================\n"
     ]
    },
    {
     "name": "stdout",
     "output_type": "stream",
     "text": [
      "New best\n"
     ]
    },
    {
     "name": "stdout",
     "output_type": "stream",
     "text": [
      "epoch: 2, [batch: 1 / 6720], examples_per_second: 5.5133, train_label_loss: 1537.0179, \n"
     ]
    },
    {
     "name": "stdout",
     "output_type": "stream",
     "text": [
      "epoch: 2, [batch: 672 / 6720], examples_per_second: 3215.9600, train_label_loss: 1.5298, \n"
     ]
    },
    {
     "name": "stdout",
     "output_type": "stream",
     "text": [
      "epoch: 2, [batch: 1344 / 6720], examples_per_second: 3227.1947, train_label_loss: 1.5591, \n"
     ]
    },
    {
     "name": "stdout",
     "output_type": "stream",
     "text": [
      "epoch: 2, [batch: 2016 / 6720], examples_per_second: 3217.2924, train_label_loss: 1.1920, \n"
     ]
    },
    {
     "name": "stdout",
     "output_type": "stream",
     "text": [
      "epoch: 2, [batch: 2688 / 6720], examples_per_second: 3205.9618, train_label_loss: 1.2286, \n"
     ]
    },
    {
     "name": "stdout",
     "output_type": "stream",
     "text": [
      "epoch: 2, [batch: 3360 / 6720], examples_per_second: 3228.6113, train_label_loss: 1.1650, \n"
     ]
    },
    {
     "name": "stdout",
     "output_type": "stream",
     "text": [
      "epoch: 2, [batch: 4032 / 6720], examples_per_second: 3233.6860, train_label_loss: 0.7243, \n"
     ]
    },
    {
     "name": "stdout",
     "output_type": "stream",
     "text": [
      "epoch: 2, [batch: 4704 / 6720], examples_per_second: 3229.1929, train_label_loss: 0.8451, \n"
     ]
    },
    {
     "name": "stdout",
     "output_type": "stream",
     "text": [
      "epoch: 2, [batch: 5376 / 6720], examples_per_second: 3234.6360, train_label_loss: 0.9755, \n"
     ]
    },
    {
     "name": "stdout",
     "output_type": "stream",
     "text": [
      "epoch: 2, [batch: 6048 / 6720], examples_per_second: 3232.6473, train_label_loss: 1.3028, \n"
     ]
    },
    {
     "name": "stdout",
     "output_type": "stream",
     "text": [
      "=============================================================\n",
      "epoch: 2, source_val_acc_label: 0.6922, target_val_acc_label: 0.6235, source_val_label_loss: 0.8256, target_val_label_loss: 7141.3779, \n",
      "=============================================================\n"
     ]
    },
    {
     "name": "stdout",
     "output_type": "stream",
     "text": [
      "New best\n"
     ]
    },
    {
     "name": "stdout",
     "output_type": "stream",
     "text": [
      "epoch: 3, [batch: 1 / 6720], examples_per_second: 5.5529, train_label_loss: 0.8319, \n"
     ]
    },
    {
     "name": "stdout",
     "output_type": "stream",
     "text": [
      "epoch: 3, [batch: 672 / 6720], examples_per_second: 3210.4155, train_label_loss: 0.8168, \n"
     ]
    },
    {
     "name": "stdout",
     "output_type": "stream",
     "text": [
      "epoch: 3, [batch: 1344 / 6720], examples_per_second: 3239.3905, train_label_loss: 0.6087, \n"
     ]
    },
    {
     "name": "stdout",
     "output_type": "stream",
     "text": [
      "epoch: 3, [batch: 2016 / 6720], examples_per_second: 3222.2558, train_label_loss: 1.4692, \n"
     ]
    },
    {
     "name": "stdout",
     "output_type": "stream",
     "text": [
      "epoch: 3, [batch: 2688 / 6720], examples_per_second: 3223.9654, train_label_loss: 0.3948, \n"
     ]
    },
    {
     "name": "stdout",
     "output_type": "stream",
     "text": [
      "epoch: 3, [batch: 3360 / 6720], examples_per_second: 3238.9065, train_label_loss: 0.9077, \n"
     ]
    },
    {
     "name": "stdout",
     "output_type": "stream",
     "text": [
      "epoch: 3, [batch: 4032 / 6720], examples_per_second: 3226.4289, train_label_loss: 0.7494, \n"
     ]
    },
    {
     "name": "stdout",
     "output_type": "stream",
     "text": [
      "epoch: 3, [batch: 4704 / 6720], examples_per_second: 3207.2671, train_label_loss: 0.6157, \n"
     ]
    },
    {
     "name": "stdout",
     "output_type": "stream",
     "text": [
      "epoch: 3, [batch: 5376 / 6720], examples_per_second: 3212.4422, train_label_loss: 1.4360, \n"
     ]
    },
    {
     "name": "stdout",
     "output_type": "stream",
     "text": [
      "epoch: 3, [batch: 6048 / 6720], examples_per_second: 3212.7907, train_label_loss: 2.2339, \n"
     ]
    },
    {
     "name": "stdout",
     "output_type": "stream",
     "text": [
      "=============================================================\n",
      "epoch: 3, source_val_acc_label: 0.5447, target_val_acc_label: 0.6976, source_val_label_loss: 1.4823, target_val_label_loss: 5366.9922, \n",
      "=============================================================\n"
     ]
    },
    {
     "name": "stdout",
     "output_type": "stream",
     "text": [
      "New best\n"
     ]
    },
    {
     "name": "stdout",
     "output_type": "stream",
     "text": [
      "epoch: 4, [batch: 1 / 6720], examples_per_second: 5.5633, train_label_loss: 1.1898, \n"
     ]
    },
    {
     "name": "stdout",
     "output_type": "stream",
     "text": [
      "epoch: 4, [batch: 672 / 6720], examples_per_second: 3204.2186, train_label_loss: 0.9033, \n"
     ]
    },
    {
     "name": "stdout",
     "output_type": "stream",
     "text": [
      "epoch: 4, [batch: 1344 / 6720], examples_per_second: 3239.1810, train_label_loss: 1.0304, \n"
     ]
    },
    {
     "name": "stdout",
     "output_type": "stream",
     "text": [
      "epoch: 4, [batch: 2016 / 6720], examples_per_second: 3234.4328, train_label_loss: 1.5902, \n"
     ]
    },
    {
     "name": "stdout",
     "output_type": "stream",
     "text": [
      "epoch: 4, [batch: 2688 / 6720], examples_per_second: 3211.4705, train_label_loss: 0.9032, \n"
     ]
    },
    {
     "name": "stdout",
     "output_type": "stream",
     "text": [
      "epoch: 4, [batch: 3360 / 6720], examples_per_second: 3228.7351, train_label_loss: 0.5323, \n"
     ]
    },
    {
     "name": "stdout",
     "output_type": "stream",
     "text": [
      "epoch: 4, [batch: 4032 / 6720], examples_per_second: 3235.5714, train_label_loss: 0.7010, \n"
     ]
    },
    {
     "name": "stdout",
     "output_type": "stream",
     "text": [
      "epoch: 4, [batch: 4704 / 6720], examples_per_second: 3228.9039, train_label_loss: 0.8576, \n"
     ]
    },
    {
     "name": "stdout",
     "output_type": "stream",
     "text": [
      "epoch: 4, [batch: 5376 / 6720], examples_per_second: 3222.5391, train_label_loss: 0.7200, \n"
     ]
    },
    {
     "name": "stdout",
     "output_type": "stream",
     "text": [
      "epoch: 4, [batch: 6048 / 6720], examples_per_second: 3235.8185, train_label_loss: 0.8033, \n"
     ]
    },
    {
     "name": "stdout",
     "output_type": "stream",
     "text": [
      "=============================================================\n",
      "epoch: 4, source_val_acc_label: 0.6996, target_val_acc_label: 0.6731, source_val_label_loss: 0.8150, target_val_label_loss: 5421.9707, \n",
      "=============================================================\n"
     ]
    },
    {
     "name": "stdout",
     "output_type": "stream",
     "text": [
      "epoch: 5, [batch: 1 / 6720], examples_per_second: 5.5153, train_label_loss: 0.6206, \n"
     ]
    },
    {
     "name": "stdout",
     "output_type": "stream",
     "text": [
      "epoch: 5, [batch: 672 / 6720], examples_per_second: 3209.0595, train_label_loss: 0.8747, \n"
     ]
    },
    {
     "name": "stdout",
     "output_type": "stream",
     "text": [
      "epoch: 5, [batch: 1344 / 6720], examples_per_second: 3226.5717, train_label_loss: 1.3575, \n"
     ]
    },
    {
     "name": "stdout",
     "output_type": "stream",
     "text": [
      "epoch: 5, [batch: 2016 / 6720], examples_per_second: 3227.1182, train_label_loss: 1.1865, \n"
     ]
    },
    {
     "name": "stdout",
     "output_type": "stream",
     "text": [
      "epoch: 5, [batch: 2688 / 6720], examples_per_second: 3198.9572, train_label_loss: 0.4752, \n"
     ]
    },
    {
     "name": "stdout",
     "output_type": "stream",
     "text": [
      "epoch: 5, [batch: 3360 / 6720], examples_per_second: 3216.6067, train_label_loss: 1.1061, \n"
     ]
    },
    {
     "name": "stdout",
     "output_type": "stream",
     "text": [
      "epoch: 5, [batch: 4032 / 6720], examples_per_second: 3230.8604, train_label_loss: 0.8585, \n"
     ]
    },
    {
     "name": "stdout",
     "output_type": "stream",
     "text": [
      "epoch: 5, [batch: 4704 / 6720], examples_per_second: 3244.7749, train_label_loss: 0.4725, \n"
     ]
    },
    {
     "name": "stdout",
     "output_type": "stream",
     "text": [
      "epoch: 5, [batch: 5376 / 6720], examples_per_second: 3231.3271, train_label_loss: 0.9504, \n"
     ]
    },
    {
     "name": "stdout",
     "output_type": "stream",
     "text": [
      "epoch: 5, [batch: 6048 / 6720], examples_per_second: 3223.7920, train_label_loss: 1.2370, \n"
     ]
    },
    {
     "name": "stdout",
     "output_type": "stream",
     "text": [
      "=============================================================\n",
      "epoch: 5, source_val_acc_label: 0.6806, target_val_acc_label: 0.6726, source_val_label_loss: 0.8578, target_val_label_loss: 20515.8848, \n",
      "=============================================================\n"
     ]
    },
    {
     "name": "stdout",
     "output_type": "stream",
     "text": [
      "epoch: 6, [batch: 1 / 6720], examples_per_second: 5.5459, train_label_loss: 0.6448, \n"
     ]
    },
    {
     "name": "stdout",
     "output_type": "stream",
     "text": [
      "epoch: 6, [batch: 672 / 6720], examples_per_second: 3204.0176, train_label_loss: 0.6641, \n"
     ]
    },
    {
     "name": "stdout",
     "output_type": "stream",
     "text": [
      "epoch: 6, [batch: 1344 / 6720], examples_per_second: 3248.0674, train_label_loss: 0.9947, \n"
     ]
    },
    {
     "name": "stdout",
     "output_type": "stream",
     "text": [
      "epoch: 6, [batch: 2016 / 6720], examples_per_second: 3241.0428, train_label_loss: 0.7244, \n"
     ]
    },
    {
     "name": "stdout",
     "output_type": "stream",
     "text": [
      "epoch: 6, [batch: 2688 / 6720], examples_per_second: 3214.8216, train_label_loss: 1.0233, \n"
     ]
    },
    {
     "name": "stdout",
     "output_type": "stream",
     "text": [
      "epoch: 6, [batch: 3360 / 6720], examples_per_second: 3235.8598, train_label_loss: 0.9531, \n"
     ]
    },
    {
     "name": "stdout",
     "output_type": "stream",
     "text": [
      "epoch: 6, [batch: 4032 / 6720], examples_per_second: 3217.4561, train_label_loss: 0.5550, \n"
     ]
    },
    {
     "name": "stdout",
     "output_type": "stream",
     "text": [
      "epoch: 6, [batch: 4704 / 6720], examples_per_second: 3230.5960, train_label_loss: 1.0852, \n"
     ]
    },
    {
     "name": "stdout",
     "output_type": "stream",
     "text": [
      "epoch: 6, [batch: 5376 / 6720], examples_per_second: 3225.6585, train_label_loss: 0.9480, \n"
     ]
    },
    {
     "name": "stdout",
     "output_type": "stream",
     "text": [
      "epoch: 6, [batch: 6048 / 6720], examples_per_second: 3232.5813, train_label_loss: 0.6550, \n"
     ]
    },
    {
     "name": "stdout",
     "output_type": "stream",
     "text": [
      "=============================================================\n",
      "epoch: 6, source_val_acc_label: 0.7255, target_val_acc_label: 0.6619, source_val_label_loss: 0.7596, target_val_label_loss: 16222.5771, \n",
      "=============================================================\n"
     ]
    },
    {
     "name": "stdout",
     "output_type": "stream",
     "text": [
      "epoch: 7, [batch: 1 / 6720], examples_per_second: 5.5697, train_label_loss: 0.6469, \n"
     ]
    },
    {
     "name": "stdout",
     "output_type": "stream",
     "text": [
      "epoch: 7, [batch: 672 / 6720], examples_per_second: 3210.7797, train_label_loss: 0.9367, \n"
     ]
    },
    {
     "name": "stdout",
     "output_type": "stream",
     "text": [
      "epoch: 7, [batch: 1344 / 6720], examples_per_second: 3234.3539, train_label_loss: 0.3482, \n"
     ]
    },
    {
     "name": "stdout",
     "output_type": "stream",
     "text": [
      "epoch: 7, [batch: 2016 / 6720], examples_per_second: 3243.8260, train_label_loss: 0.8668, \n"
     ]
    },
    {
     "name": "stdout",
     "output_type": "stream",
     "text": [
      "epoch: 7, [batch: 2688 / 6720], examples_per_second: 3220.8922, train_label_loss: 0.8286, \n"
     ]
    },
    {
     "name": "stdout",
     "output_type": "stream",
     "text": [
      "epoch: 7, [batch: 3360 / 6720], examples_per_second: 3213.5819, train_label_loss: 0.8618, \n"
     ]
    },
    {
     "name": "stdout",
     "output_type": "stream",
     "text": [
      "epoch: 7, [batch: 4032 / 6720], examples_per_second: 3212.8314, train_label_loss: 0.3936, \n"
     ]
    },
    {
     "name": "stdout",
     "output_type": "stream",
     "text": [
      "epoch: 7, [batch: 4704 / 6720], examples_per_second: 3206.4831, train_label_loss: 1.2292, \n"
     ]
    },
    {
     "name": "stdout",
     "output_type": "stream",
     "text": [
      "epoch: 7, [batch: 5376 / 6720], examples_per_second: 3216.8347, train_label_loss: 0.7806, \n"
     ]
    },
    {
     "name": "stdout",
     "output_type": "stream",
     "text": [
      "epoch: 7, [batch: 6048 / 6720], examples_per_second: 3218.8212, train_label_loss: 0.3091, \n"
     ]
    },
    {
     "name": "stdout",
     "output_type": "stream",
     "text": [
      "=============================================================\n",
      "epoch: 7, source_val_acc_label: 0.7278, target_val_acc_label: 0.6667, source_val_label_loss: 0.7490, target_val_label_loss: 17786.7227, \n",
      "=============================================================\n"
     ]
    },
    {
     "name": "stdout",
     "output_type": "stream",
     "text": [
      "Patience (3) exhausted\n"
     ]
    }
   ],
   "source": [
    "###################################\n",
    "# train\n",
    "###################################\n",
    "jig = PTN_Train_Eval_Test_Jig(model, p.BEST_MODEL_PATH, p.device)\n",
    "\n",
    "jig.train(\n",
    "    train_iterable=datasets.source.processed.train,\n",
    "    source_val_iterable=datasets.source.processed.val,\n",
    "    target_val_iterable=datasets.target.processed.val,\n",
    "    num_epochs=p.n_epoch,\n",
    "    num_logs_per_epoch=p.NUM_LOGS_PER_EPOCH,\n",
    "    patience=p.patience,\n",
    "    optimizer=optimizer,\n",
    "    criteria_for_best=p.criteria_for_best,\n",
    ")"
   ]
  },
  {
   "cell_type": "code",
   "execution_count": 23,
   "id": "31e8fabf",
   "metadata": {
    "execution": {
     "iopub.execute_input": "2022-03-18T09:08:36.989545Z",
     "iopub.status.busy": "2022-03-18T09:08:36.989285Z",
     "iopub.status.idle": "2022-03-18T09:08:37.007898Z",
     "shell.execute_reply": "2022-03-18T09:08:37.008306Z"
    },
    "papermill": {
     "duration": 0.050592,
     "end_time": "2022-03-18T09:08:37.008442",
     "exception": false,
     "start_time": "2022-03-18T09:08:36.957850",
     "status": "completed"
    },
    "tags": []
   },
   "outputs": [],
   "source": [
    "total_experiment_time_secs = time.time() - start_time_secs"
   ]
  },
  {
   "cell_type": "code",
   "execution_count": 24,
   "id": "87b9595b",
   "metadata": {
    "execution": {
     "iopub.execute_input": "2022-03-18T09:08:37.078902Z",
     "iopub.status.busy": "2022-03-18T09:08:37.078625Z",
     "iopub.status.idle": "2022-03-18T09:09:41.871771Z",
     "shell.execute_reply": "2022-03-18T09:09:41.871320Z"
    },
    "papermill": {
     "duration": 64.82894,
     "end_time": "2022-03-18T09:09:41.871888",
     "exception": false,
     "start_time": "2022-03-18T09:08:37.042948",
     "status": "completed"
    },
    "tags": []
   },
   "outputs": [],
   "source": [
    "###################################\n",
    "# Evaluate the model\n",
    "###################################\n",
    "source_test_label_accuracy, source_test_label_loss = jig.test(datasets.source.processed.test)\n",
    "target_test_label_accuracy, target_test_label_loss = jig.test(datasets.target.processed.test)\n",
    "\n",
    "source_val_label_accuracy, source_val_label_loss = jig.test(datasets.source.processed.val)\n",
    "target_val_label_accuracy, target_val_label_loss = jig.test(datasets.target.processed.val)\n",
    "\n",
    "history = jig.get_history()\n",
    "\n",
    "total_epochs_trained = len(history[\"epoch_indices\"])\n",
    "\n",
    "val_dl = Iterable_Aggregator((datasets.source.original.val,datasets.target.original.val))\n",
    "\n",
    "confusion = ptn_confusion_by_domain_over_dataloader(model, p.device, val_dl)\n",
    "per_domain_accuracy = per_domain_accuracy_from_confusion(confusion)\n",
    "\n",
    "# Add a key to per_domain_accuracy for if it was a source domain\n",
    "for domain, accuracy in per_domain_accuracy.items():\n",
    "    per_domain_accuracy[domain] = {\n",
    "        \"accuracy\": accuracy,\n",
    "        \"source?\": domain in p.domains_source\n",
    "    }\n",
    "\n",
    "# Do an independent accuracy assesment JUST TO BE SURE!\n",
    "# _source_test_label_accuracy = independent_accuracy_assesment(model, datasets.source.processed.test, p.device)\n",
    "# _target_test_label_accuracy = independent_accuracy_assesment(model, datasets.target.processed.test, p.device)\n",
    "# _source_val_label_accuracy = independent_accuracy_assesment(model, datasets.source.processed.val, p.device)\n",
    "# _target_val_label_accuracy = independent_accuracy_assesment(model, datasets.target.processed.val, p.device)\n",
    "\n",
    "# assert(_source_test_label_accuracy == source_test_label_accuracy)\n",
    "# assert(_target_test_label_accuracy == target_test_label_accuracy)\n",
    "# assert(_source_val_label_accuracy == source_val_label_accuracy)\n",
    "# assert(_target_val_label_accuracy == target_val_label_accuracy)\n",
    "\n",
    "experiment = {\n",
    "    \"experiment_name\": p.experiment_name,\n",
    "    \"parameters\": dict(p),\n",
    "    \"results\": {\n",
    "        \"source_test_label_accuracy\": source_test_label_accuracy,\n",
    "        \"source_test_label_loss\": source_test_label_loss,\n",
    "        \"target_test_label_accuracy\": target_test_label_accuracy,\n",
    "        \"target_test_label_loss\": target_test_label_loss,\n",
    "        \"source_val_label_accuracy\": source_val_label_accuracy,\n",
    "        \"source_val_label_loss\": source_val_label_loss,\n",
    "        \"target_val_label_accuracy\": target_val_label_accuracy,\n",
    "        \"target_val_label_loss\": target_val_label_loss,\n",
    "        \"total_epochs_trained\": total_epochs_trained,\n",
    "        \"total_experiment_time_secs\": total_experiment_time_secs,\n",
    "        \"confusion\": confusion,\n",
    "        \"per_domain_accuracy\": per_domain_accuracy,\n",
    "    },\n",
    "    \"history\": history,\n",
    "    \"dataset_metrics\": get_dataset_metrics(datasets, \"ptn\"),\n",
    "}"
   ]
  },
  {
   "cell_type": "code",
   "execution_count": 25,
   "id": "54a21829",
   "metadata": {
    "execution": {
     "iopub.execute_input": "2022-03-18T09:09:41.937833Z",
     "iopub.status.busy": "2022-03-18T09:09:41.937577Z",
     "iopub.status.idle": "2022-03-18T09:09:42.058677Z",
     "shell.execute_reply": "2022-03-18T09:09:42.058259Z"
    },
    "papermill": {
     "duration": 0.151623,
     "end_time": "2022-03-18T09:09:42.058773",
     "exception": false,
     "start_time": "2022-03-18T09:09:41.907150",
     "status": "completed"
    },
    "tags": []
   },
   "outputs": [
    {
     "data": {
      "image/png": "[encoded data removed]",
      "text/plain": [
       "<Figure size 1080x504 with 1 Axes>"
      ]
     },
     "metadata": {
      "needs_background": "light"
     },
     "output_type": "display_data"
    }
   ],
   "source": [
    "ax = get_loss_curve(experiment)\n",
    "plt.show()"
   ]
  },
  {
   "cell_type": "code",
   "execution_count": 26,
   "id": "fd8a0f60",
   "metadata": {
    "execution": {
     "iopub.execute_input": "2022-03-18T09:09:42.123998Z",
     "iopub.status.busy": "2022-03-18T09:09:42.123750Z",
     "iopub.status.idle": "2022-03-18T09:09:42.266474Z",
     "shell.execute_reply": "2022-03-18T09:09:42.266756Z"
    },
    "papermill": {
     "duration": 0.174716,
     "end_time": "2022-03-18T09:09:42.266845",
     "exception": false,
     "start_time": "2022-03-18T09:09:42.092129",
     "status": "completed"
    },
    "tags": []
   },
   "outputs": [
    {
     "data": {
      "text/plain": [
       "<AxesSubplot:title={'center':'Results'}>"
      ]
     },
     "execution_count": 26,
     "metadata": {},
     "output_type": "execute_result"
    },
    {
     "data": {
      "image/png": "[encoded data removed]",
      "text/plain": [
       "<Figure size 1080x504 with 1 Axes>"
      ]
     },
     "metadata": {
      "needs_background": "light"
     },
     "output_type": "display_data"
    }
   ],
   "source": [
    "get_results_table(experiment)"
   ]
  },
  {
   "cell_type": "code",
   "execution_count": 27,
   "id": "cf8dc689",
   "metadata": {
    "execution": {
     "iopub.execute_input": "2022-03-18T09:09:42.337388Z",
     "iopub.status.busy": "2022-03-18T09:09:42.337109Z",
     "iopub.status.idle": "2022-03-18T09:09:42.495928Z",
     "shell.execute_reply": "2022-03-18T09:09:42.495677Z"
    },
    "papermill": {
     "duration": 0.191727,
     "end_time": "2022-03-18T09:09:42.495983",
     "exception": false,
     "start_time": "2022-03-18T09:09:42.304256",
     "status": "completed"
    },
    "tags": []
   },
   "outputs": [
    {
     "data": {
      "text/plain": [
       "<AxesSubplot:title={'center':'Per Domain Validation Accuracy'}, xlabel='domain'>"
      ]
     },
     "execution_count": 27,
     "metadata": {},
     "output_type": "execute_result"
    },
    {
     "data": {
      "image/png": "[encoded data removed]",
      "text/plain": [
       "<Figure size 1080x504 with 1 Axes>"
      ]
     },
     "metadata": {
      "needs_background": "light"
     },
     "output_type": "display_data"
    }
   ],
   "source": [
    "get_domain_accuracies(experiment)"
   ]
  },
  {
   "cell_type": "code",
   "execution_count": 28,
   "id": "a74ae082",
   "metadata": {
    "execution": {
     "iopub.execute_input": "2022-03-18T09:09:42.561462Z",
     "iopub.status.busy": "2022-03-18T09:09:42.561213Z",
     "iopub.status.idle": "2022-03-18T09:09:42.575543Z",
     "shell.execute_reply": "2022-03-18T09:09:42.575299Z"
    },
    "papermill": {
     "duration": 0.048126,
     "end_time": "2022-03-18T09:09:42.575594",
     "exception": false,
     "start_time": "2022-03-18T09:09:42.527468",
     "status": "completed"
    },
    "tags": []
   },
   "outputs": [
    {
     "name": "stdout",
     "output_type": "stream",
     "text": [
      "Source Test Label Accuracy: 0.54873046875 Target Test Label Accuracy: 0.6925299657534246\n",
      "Source Val Label Accuracy: 0.5446940104166667 Target Val Label Accuracy: 0.6975599315068494\n"
     ]
    }
   ],
   "source": [
    "print(\"Source Test Label Accuracy:\", experiment[\"results\"][\"source_test_label_accuracy\"], \"Target Test Label Accuracy:\", experiment[\"results\"][\"target_test_label_accuracy\"])\n",
    "print(\"Source Val Label Accuracy:\", experiment[\"results\"][\"source_val_label_accuracy\"], \"Target Val Label Accuracy:\", experiment[\"results\"][\"target_val_label_accuracy\"])"
   ]
  },
  {
   "cell_type": "code",
   "execution_count": 29,
   "id": "dacca602",
   "metadata": {
    "execution": {
     "iopub.execute_input": "2022-03-18T09:09:42.641071Z",
     "iopub.status.busy": "2022-03-18T09:09:42.640820Z",
     "iopub.status.idle": "2022-03-18T09:09:42.652867Z",
     "shell.execute_reply": "2022-03-18T09:09:42.653071Z"
    },
    "papermill": {
     "duration": 0.046031,
     "end_time": "2022-03-18T09:09:42.653137",
     "exception": false,
     "start_time": "2022-03-18T09:09:42.607106",
     "status": "completed"
    },
    "tags": [
     "experiment_json"
    ]
   },
   "outputs": [
    {
     "data": {
      "text/plain": [
       "'{\"experiment_name\": \"tl_3-jitter5:oracle.run1.framed -> cores+wisig\", \"parameters\": {\"experiment_name\": \"tl_3-jitter5:oracle.run1.framed -> cores+wisig\", \"device\": \"cuda\", \"lr\": 0.001, \"seed\": 1337, \"dataset_seed\": 1337, \"n_shot\": 3, \"n_query\": 2, \"train_k_factor\": 3, \"val_k_factor\": 2, \"test_k_factor\": 2, \"torch_default_dtype\": \"torch.float32\", \"n_epoch\": 50, \"patience\": 3, \"criteria_for_best\": \"target_loss\", \"x_net\": [{\"class\": \"nnReshape\", \"kargs\": {\"shape\": [-1, 1, 2, 256]}}, {\"class\": \"Conv2d\", \"kargs\": {\"in_channels\": 1, \"out_channels\": 256, \"kernel_size\": [1, 7], \"bias\": false, \"padding\": [0, 3]}}, {\"class\": \"ReLU\", \"kargs\": {\"inplace\": true}}, {\"class\": \"BatchNorm2d\", \"kargs\": {\"num_features\": 256}}, {\"class\": \"Conv2d\", \"kargs\": {\"in_channels\": 256, \"out_channels\": 80, \"kernel_size\": [2, 7], \"bias\": true, \"padding\": [0, 3]}}, {\"class\": \"ReLU\", \"kargs\": {\"inplace\": true}}, {\"class\": \"BatchNorm2d\", \"kargs\": {\"num_features\": 80}}, {\"class\": \"Flatten\", \"kargs\": {}}, {\"class\": \"Linear\", \"kargs\": {\"in_features\": 20480, \"out_features\": 256}}, {\"class\": \"ReLU\", \"kargs\": {\"inplace\": true}}, {\"class\": \"BatchNorm1d\", \"kargs\": {\"num_features\": 256}}, {\"class\": \"Linear\", \"kargs\": {\"in_features\": 256, \"out_features\": 256}}], \"NUM_LOGS_PER_EPOCH\": 10, \"BEST_MODEL_PATH\": \"./best_model.pth\", \"n_way\": 16, \"datasets\": [{\"labels\": [\"1-10.\", \"1-11.\", \"1-15.\", \"1-16.\", \"1-17.\", \"1-18.\", \"1-19.\", \"10-4.\", \"10-7.\", \"11-1.\", \"11-14.\", \"11-17.\", \"11-20.\", \"11-7.\", \"13-20.\", \"13-8.\", \"14-10.\", \"14-11.\", \"14-14.\", \"14-7.\", \"15-1.\", \"15-20.\", \"16-1.\", \"16-16.\", \"17-10.\", \"17-11.\", \"17-2.\", \"19-1.\", \"19-16.\", \"19-19.\", \"19-20.\", \"19-3.\", \"2-10.\", \"2-11.\", \"2-17.\", \"2-18.\", \"2-20.\", \"2-3.\", \"2-4.\", \"2-5.\", \"2-6.\", \"2-7.\", \"2-8.\", \"3-13.\", \"3-18.\", \"3-3.\", \"4-1.\", \"4-10.\", \"4-11.\", \"4-19.\", \"5-5.\", \"6-15.\", \"7-10.\", \"7-14.\", \"8-18.\", \"8-20.\", \"8-3.\", \"8-8.\"], \"domains\": [1, 2, 3, 4, 5], \"num_examples_per_domain_per_label\": 100, \"pickle_path\": \"/mnt/wd500GB/CSC500/csc500-main/datasets/cores.stratified_ds.2022A.pkl\", \"source_or_target_dataset\": \"target\", \"x_transforms\": [\"jitter_256_5\", \"take_200\"], \"episode_transforms\": [], \"domain_prefix\": \"C_A_\"}, {\"labels\": [\"1-10\", \"1-12\", \"1-14\", \"1-16\", \"1-18\", \"1-19\", \"1-8\", \"10-11\", \"10-17\", \"10-4\", \"10-7\", \"11-1\", \"11-10\", \"11-19\", \"11-20\", \"11-4\", \"11-7\", \"12-19\", \"12-20\", \"12-7\", \"13-14\", \"13-18\", \"13-19\", \"13-20\", \"13-3\", \"13-7\", \"14-10\", \"14-11\", \"14-12\", \"14-13\", \"14-14\", \"14-19\", \"14-20\", \"14-7\", \"14-8\", \"14-9\", \"15-1\", \"15-19\", \"15-6\", \"16-1\", \"16-16\", \"16-19\", \"16-20\", \"17-10\", \"17-11\", \"18-1\", \"18-10\", \"18-11\", \"18-12\", \"18-13\", \"18-14\", \"18-15\", \"18-16\", \"18-17\", \"18-19\", \"18-2\", \"18-20\", \"18-4\", \"18-5\", \"18-7\", \"18-8\", \"18-9\", \"19-1\", \"19-10\", \"19-11\", \"19-12\", \"19-13\", \"19-14\", \"19-15\", \"19-19\", \"19-2\", \"19-20\", \"19-3\", \"19-4\", \"19-6\", \"19-7\", \"19-8\", \"19-9\", \"2-1\", \"2-13\", \"2-15\", \"2-3\", \"2-4\", \"2-5\", \"2-6\", \"2-7\", \"2-8\", \"20-1\", \"20-12\", \"20-14\", \"20-15\", \"20-16\", \"20-18\", \"20-19\", \"20-20\", \"20-3\", \"20-4\", \"20-5\", \"20-7\", \"20-8\", \"3-1\", \"3-13\", \"3-18\", \"3-2\", \"3-8\", \"4-1\", \"4-10\", \"4-11\", \"5-1\", \"5-5\", \"6-1\", \"6-15\", \"6-6\", \"7-10\", \"7-11\", \"7-12\", \"7-13\", \"7-14\", \"7-7\", \"7-8\", \"7-9\", \"8-1\", \"8-13\", \"8-14\", \"8-18\", \"8-20\", \"8-3\", \"8-8\", \"9-1\", \"9-7\"], \"domains\": [1, 2, 3, 4], \"num_examples_per_domain_per_label\": 100, \"pickle_path\": \"/mnt/wd500GB/CSC500/csc500-main/datasets/wisig.node3-19.stratified_ds.2022A.pkl\", \"source_or_target_dataset\": \"target\", \"x_transforms\": [\"jitter_256_5\", \"take_200\"], \"episode_transforms\": [], \"domain_prefix\": \"W_A_\"}, {\"labels\": [\"3123D52\", \"3123D65\", \"3123D79\", \"3123D80\", \"3123D54\", \"3123D70\", \"3123D7B\", \"3123D89\", \"3123D58\", \"3123D76\", \"3123D7D\", \"3123EFE\", \"3123D64\", \"3123D78\", \"3123D7E\", \"3124E4A\"], \"domains\": [32, 38, 8, 44, 14, 50, 20, 26], \"num_examples_per_domain_per_label\": 2000, \"pickle_path\": \"/mnt/wd500GB/CSC500/csc500-main/datasets/oracle.Run1_framed_2000Examples_stratified_ds.2022A.pkl\", \"source_or_target_dataset\": \"source\", \"x_transforms\": [\"jitter_256_5\", \"take_200\", \"resample_20Msps_to_25Msps\"], \"episode_transforms\": [], \"domain_prefix\": \"ORACLE.run1_\"}], \"x_shape\": [2, 256], \"domains_source\": [\"ORACLE.run1_32\", \"ORACLE.run1_38\", \"ORACLE.run1_8\", \"ORACLE.run1_44\", \"ORACLE.run1_14\", \"ORACLE.run1_50\", \"ORACLE.run1_20\", \"ORACLE.run1_26\"], \"domains_target\": [\"C_A_1\", \"C_A_2\", \"C_A_3\", \"C_A_4\", \"C_A_5\", \"W_A_1\", \"W_A_2\", \"W_A_3\", \"W_A_4\"]}, \"results\": {\"source_test_label_accuracy\": 0.54873046875, \"source_test_label_loss\": 1.4776524305343628, \"target_test_label_accuracy\": 0.6925299657534246, \"target_test_label_loss\": 5495.904296875, \"source_val_label_accuracy\": 0.5446940104166667, \"source_val_label_loss\": 1.4823194742202759, \"target_val_label_accuracy\": 0.6975599315068494, \"target_val_label_loss\": 5366.9921875, \"total_epochs_trained\": 7, \"total_experiment_time_secs\": 1293.9052436351776, \"confusion\": {\"ORACLE.run1_14\": {\"15\": {\"15\": 240}, \"3\": {\"3\": 149, \"2\": 24, \"0\": 61, \"5\": 1, \"13\": 2, \"6\": 2, \"14\": 1}, \"6\": {\"6\": 163, \"2\": 5, \"13\": 42, \"14\": 22, \"3\": 8}, \"1\": {\"1\": 206, \"9\": 34}, \"8\": {\"8\": 227, \"7\": 12, \"12\": 1}, \"10\": {\"10\": 237, \"4\": 2, \"2\": 1}, \"9\": {\"1\": 109, \"9\": 131}, \"13\": {\"14\": 31, \"13\": 44, \"2\": 37, \"6\": 87, \"15\": 22, \"0\": 16, \"10\": 3}, \"12\": {\"12\": 110, \"4\": 89, \"5\": 40, \"0\": 1}, \"5\": {\"5\": 182, \"12\": 19, \"0\": 30, \"2\": 7, \"7\": 2}, \"0\": {\"0\": 107, \"5\": 12, \"3\": 42, \"2\": 58, \"12\": 3, \"14\": 8, \"4\": 6, \"6\": 2, \"13\": 2}, \"2\": {\"4\": 6, \"13\": 17, \"2\": 78, \"0\": 73, \"14\": 17, \"10\": 5, \"3\": 28, \"5\": 6, \"6\": 6, \"12\": 4}, \"11\": {\"11\": 240}, \"14\": {\"14\": 108, \"6\": 26, \"2\": 38, \"13\": 39, \"0\": 25, \"3\": 4}, \"7\": {\"7\": 223, \"8\": 6, \"5\": 9, \"3\": 1, \"0\": 1}, \"4\": {\"4\": 194, \"12\": 42, \"5\": 2, \"10\": 2}}, \"ORACLE.run1_20\": {\"3\": {\"1\": 55, \"3\": 107, \"5\": 54, \"0\": 1, \"8\": 12, \"7\": 2, \"9\": 8, \"6\": 1}, \"15\": {\"2\": 125, \"12\": 23, \"1\": 33, \"7\": 16, \"13\": 11, \"15\": 26, \"9\": 4, \"6\": 2}, \"8\": {\"8\": 161, \"3\": 35, \"5\": 9, \"14\": 31, \"0\": 3, \"1\": 1}, \"4\": {\"4\": 205, \"7\": 1, \"10\": 12, \"6\": 15, \"2\": 3, \"12\": 4}, \"14\": {\"8\": 88, \"14\": 143, \"3\": 7, \"5\": 2}, \"0\": {\"0\": 219, \"1\": 2, \"3\": 11, \"5\": 3, \"8\": 3, \"9\": 1, \"11\": 1}, \"7\": {\"1\": 111, \"6\": 19, \"12\": 7, \"7\": 44, \"9\": 9, \"2\": 32, \"5\": 12, \"3\": 3, \"15\": 1, \"4\": 2}, \"6\": {\"6\": 115, \"4\": 42, \"5\": 22, \"7\": 20, \"2\": 8, \"1\": 15, \"3\": 7, \"12\": 11}, \"10\": {\"10\": 200, \"4\": 40}, \"5\": {\"3\": 91, \"1\": 82, \"5\": 44, \"9\": 10, \"8\": 3, \"6\": 6, \"7\": 3, \"2\": 1}, \"2\": {\"2\": 147, \"1\": 23, \"7\": 23, \"12\": 15, \"13\": 3, \"15\": 25, \"9\": 3, \"6\": 1}, \"12\": {\"1\": 21, \"2\": 116, \"7\": 44, \"12\": 31, \"6\": 18, \"9\": 2, \"4\": 2, \"15\": 6}, \"9\": {\"1\": 144, \"2\": 16, \"7\": 26, \"9\": 23, \"3\": 9, \"5\": 19, \"6\": 1, \"15\": 2}, \"1\": {\"1\": 164, \"9\": 14, \"5\": 18, \"3\": 13, \"7\": 13, \"2\": 14, \"6\": 3, \"15\": 1}, \"11\": {\"11\": 239, \"0\": 1}, \"13\": {\"13\": 202, \"2\": 28, \"12\": 3, \"15\": 7}}, \"ORACLE.run1_38\": {\"5\": {\"2\": 56, \"5\": 126, \"8\": 25, \"9\": 11, \"15\": 15, \"7\": 5, \"0\": 2}, \"8\": {\"2\": 75, \"8\": 46, \"5\": 80, \"7\": 12, \"15\": 19, \"13\": 1, \"0\": 4, \"14\": 1, \"9\": 2}, \"11\": {\"11\": 229, \"3\": 11}, \"1\": {\"6\": 64, \"1\": 176}, \"10\": {\"0\": 106, \"10\": 120, \"13\": 6, \"7\": 2, \"2\": 2, \"3\": 1, \"4\": 2, \"14\": 1}, \"15\": {\"15\": 155, \"8\": 20, \"1\": 7, \"5\": 57, \"6\": 1}, \"3\": {\"3\": 231, \"0\": 7, \"11\": 2}, \"7\": {\"2\": 118, \"8\": 5, \"7\": 57, \"0\": 25, \"14\": 32, \"5\": 1, \"13\": 2}, \"4\": {\"4\": 234, \"14\": 5, \"10\": 1}, \"14\": {\"7\": 69, \"2\": 31, \"14\": 112, \"0\": 13, \"4\": 9, \"8\": 2, \"10\": 4}, \"9\": {\"9\": 184, \"5\": 37, \"2\": 16, \"8\": 3}, \"12\": {\"12\": 238, \"8\": 2}, \"6\": {\"1\": 184, \"6\": 56}, \"2\": {\"7\": 32, \"2\": 152, \"5\": 9, \"0\": 37, \"8\": 6, \"13\": 2, \"9\": 1, \"14\": 1}, \"0\": {\"2\": 30, \"0\": 122, \"7\": 12, \"10\": 40, \"3\": 7, \"13\": 23, \"8\": 2, \"14\": 2, \"5\": 2}, \"13\": {\"13\": 80, \"0\": 126, \"2\": 19, \"9\": 2, \"3\": 1, \"7\": 6, \"10\": 5, \"8\": 1}}, \"ORACLE.run1_8\": {\"9\": {\"9\": 240}, \"10\": {\"13\": 35, \"5\": 36, \"7\": 82, \"6\": 52, \"10\": 35}, \"13\": {\"10\": 64, \"5\": 25, \"13\": 71, \"7\": 72, \"6\": 8}, \"0\": {\"0\": 240}, \"1\": {\"1\": 183, \"11\": 37, \"8\": 10, \"6\": 2, \"5\": 8}, \"15\": {\"12\": 117, \"15\": 123}, \"5\": {\"5\": 130, \"10\": 22, \"7\": 16, \"6\": 20, \"1\": 26, \"13\": 17, \"8\": 1, \"4\": 4, \"11\": 2, \"12\": 2}, \"3\": {\"3\": 239, \"2\": 1}, \"6\": {\"6\": 154, \"7\": 41, \"5\": 24, \"13\": 2, \"4\": 4, \"10\": 9, \"1\": 5, \"11\": 1}, \"11\": {\"11\": 48, \"1\": 103, \"8\": 85, \"14\": 1, \"4\": 1, \"5\": 2}, \"8\": {\"8\": 175, \"11\": 38, \"1\": 25, \"4\": 2}, \"4\": {\"4\": 235, \"11\": 1, \"14\": 3, \"6\": 1}, \"12\": {\"12\": 191, \"15\": 48, \"2\": 1}, \"14\": {\"14\": 180, \"4\": 57, \"8\": 3}, \"2\": {\"2\": 202, \"3\": 34, \"5\": 1, \"15\": 1, \"12\": 2}, \"7\": {\"7\": 114, \"13\": 7, \"5\": 31, \"6\": 53, \"10\": 35}}, \"ORACLE.run1_50\": {\"7\": {\"4\": 164, \"7\": 38, \"3\": 4, \"5\": 30, \"6\": 3, \"15\": 1}, \"3\": {\"3\": 168, \"9\": 5, \"6\": 31, \"5\": 26, \"15\": 5, \"11\": 3, \"1\": 1, \"4\": 1}, \"8\": {\"1\": 104, \"8\": 121, \"13\": 2, \"10\": 11, \"0\": 2}, \"2\": {\"2\": 134, \"14\": 60, \"0\": 46}, \"14\": {\"14\": 51, \"2\": 116, \"0\": 73}, \"4\": {\"4\": 153, \"7\": 46, \"5\": 29, \"6\": 4, \"3\": 5, \"15\": 2, \"9\": 1}, \"6\": {\"3\": 167, \"9\": 5, \"5\": 34, \"15\": 4, \"6\": 22, \"11\": 4, \"4\": 4}, \"15\": {\"3\": 158, \"6\": 26, \"5\": 49, \"9\": 1, \"11\": 3, \"4\": 3}, \"10\": {\"8\": 69, \"0\": 27, \"10\": 102, \"1\": 41, \"13\": 1}, \"11\": {\"3\": 96, \"6\": 42, \"11\": 48, \"9\": 44, \"13\": 2, \"5\": 1, \"15\": 2, \"12\": 1, \"1\": 4}, \"13\": {\"3\": 26, \"13\": 83, \"1\": 107, \"5\": 1, \"11\": 17, \"6\": 3, \"8\": 3}, \"9\": {\"6\": 28, \"3\": 48, \"9\": 133, \"12\": 6, \"5\": 11, \"11\": 11, \"15\": 1, \"4\": 2}, \"0\": {\"0\": 181, \"2\": 25, \"14\": 21, \"10\": 13}, \"1\": {\"13\": 16, \"1\": 170, \"8\": 42, \"10\": 8, \"11\": 3, \"0\": 1}, \"12\": {\"9\": 66, \"12\": 162, \"11\": 10, \"6\": 2}, \"5\": {\"5\": 64, \"3\": 76, \"7\": 16, \"6\": 24, \"11\": 2, \"4\": 47, \"1\": 2, \"13\": 1, \"9\": 3, \"15\": 5}}, \"ORACLE.run1_32\": {\"8\": {\"2\": 3, \"0\": 124, \"8\": 62, \"5\": 24, \"1\": 24, \"3\": 1, \"7\": 2}, \"14\": {\"7\": 57, \"0\": 63, \"2\": 43, \"14\": 55, \"5\": 14, \"4\": 6, \"8\": 1, \"13\": 1}, \"2\": {\"2\": 151, \"4\": 62, \"14\": 3, \"0\": 6, \"3\": 12, \"13\": 3, \"1\": 2, \"9\": 1}, \"0\": {\"8\": 16, \"0\": 139, \"5\": 52, \"7\": 23, \"14\": 9, \"2\": 1}, \"1\": {\"3\": 31, \"13\": 3, \"1\": 191, \"8\": 9, \"0\": 4, \"2\": 2}, \"10\": {\"10\": 232, \"12\": 8}, \"11\": {\"11\": 186, \"9\": 51, \"13\": 1, \"4\": 2}, \"5\": {\"5\": 87, \"0\": 116, \"8\": 17, \"7\": 15, \"14\": 5}, \"15\": {\"15\": 233, \"8\": 6, \"5\": 1}, \"3\": {\"3\": 100, \"2\": 19, \"1\": 76, \"13\": 21, \"4\": 23, \"9\": 1}, \"12\": {\"9\": 17, \"12\": 203, \"10\": 19, \"11\": 1}, \"7\": {\"0\": 91, \"7\": 88, \"14\": 27, \"5\": 28, \"8\": 5, \"2\": 1}, \"13\": {\"3\": 95, \"2\": 12, \"1\": 32, \"13\": 38, \"9\": 17, \"4\": 44, \"0\": 1, \"11\": 1}, \"6\": {\"6\": 240}, \"4\": {\"2\": 118, \"4\": 44, \"1\": 15, \"3\": 49, \"13\": 12, \"14\": 1, \"0\": 1}, \"9\": {\"9\": 113, \"4\": 16, \"12\": 13, \"11\": 24, \"3\": 38, \"13\": 33, \"2\": 3}}, \"ORACLE.run1_26\": {\"4\": {\"4\": 239, \"3\": 1}, \"12\": {\"8\": 29, \"7\": 56, \"3\": 75, \"2\": 40, \"9\": 18, \"12\": 22}, \"10\": {\"14\": 26, \"1\": 21, \"0\": 82, \"6\": 23, \"10\": 87, \"15\": 1}, \"0\": {\"7\": 3, \"0\": 148, \"1\": 2, \"10\": 53, \"14\": 18, \"2\": 1, \"6\": 4, \"8\": 11}, \"13\": {\"2\": 12, \"13\": 197, \"9\": 12, \"3\": 19}, \"9\": {\"2\": 90, \"9\": 48, \"8\": 7, \"3\": 72, \"12\": 9, \"7\": 11, \"0\": 1, \"13\": 2}, \"3\": {\"12\": 20, \"9\": 29, \"3\": 130, \"2\": 34, \"7\": 21, \"4\": 1, \"8\": 5}, \"2\": {\"2\": 138, \"8\": 14, \"3\": 21, \"7\": 24, \"9\": 30, \"0\": 4, \"15\": 4, \"12\": 4, \"5\": 1}, \"5\": {\"6\": 14, \"5\": 139, \"11\": 44, \"15\": 43}, \"14\": {\"0\": 78, \"1\": 34, \"14\": 66, \"10\": 55, \"6\": 7}, \"8\": {\"7\": 102, \"3\": 11, \"0\": 4, \"2\": 37, \"8\": 59, \"12\": 21, \"9\": 6}, \"7\": {\"8\": 38, \"9\": 14, \"2\": 53, \"3\": 36, \"12\": 19, \"7\": 79, \"0\": 1}, \"6\": {\"5\": 36, \"6\": 122, \"1\": 20, \"15\": 25, \"14\": 8, \"10\": 21, \"0\": 8}, \"11\": {\"11\": 128, \"6\": 2, \"5\": 107, \"15\": 3}, \"15\": {\"15\": 71, \"6\": 47, \"5\": 104, \"10\": 6, \"0\": 4, \"11\": 6, \"1\": 2}, \"1\": {\"1\": 183, \"14\": 23, \"10\": 17, \"6\": 9, \"15\": 1, \"0\": 7}}, \"ORACLE.run1_44\": {\"12\": {\"12\": 78, \"3\": 155, \"0\": 7}, \"7\": {\"2\": 33, \"4\": 96, \"13\": 1, \"7\": 58, \"5\": 23, \"9\": 16, \"10\": 7, \"6\": 6}, \"5\": {\"2\": 74, \"4\": 73, \"9\": 1, \"14\": 4, \"10\": 4, \"1\": 61, \"0\": 2, \"5\": 20, \"15\": 1}, \"15\": {\"15\": 43, \"1\": 112, \"4\": 6, \"0\": 35, \"14\": 7, \"8\": 16, \"5\": 17, \"2\": 4}, \"8\": {\"0\": 107, \"8\": 66, \"1\": 49, \"15\": 14, \"14\": 1, \"5\": 2, \"3\": 1}, \"2\": {\"2\": 155, \"4\": 22, \"1\": 44, \"5\": 12, \"9\": 3, \"14\": 2, \"7\": 1, \"10\": 1}, \"13\": {\"6\": 165, \"9\": 19, \"13\": 50, \"7\": 4, \"10\": 2}, \"4\": {\"7\": 17, \"2\": 52, \"4\": 102, \"1\": 35, \"5\": 22, \"9\": 3, \"10\": 7, \"6\": 1, \"0\": 1}, \"0\": {\"8\": 27, \"1\": 36, \"0\": 174, \"15\": 2, \"12\": 1}, \"6\": {\"9\": 21, \"13\": 29, \"6\": 184, \"10\": 1, \"4\": 3, \"7\": 2}, \"9\": {\"2\": 35, \"9\": 25, \"10\": 11, \"6\": 39, \"13\": 11, \"5\": 20, \"7\": 32, \"4\": 64, \"1\": 3}, \"11\": {\"11\": 234, \"6\": 3, \"13\": 3}, \"10\": {\"4\": 137, \"2\": 46, \"9\": 3, \"5\": 19, \"14\": 4, \"7\": 12, \"8\": 1, \"10\": 6, \"1\": 11, \"0\": 1}, \"14\": {\"2\": 97, \"4\": 62, \"1\": 44, \"9\": 2, \"10\": 5, \"5\": 25, \"7\": 3, \"14\": 2}, \"1\": {\"0\": 87, \"1\": 120, \"5\": 6, \"4\": 1, \"2\": 9, \"15\": 3, \"8\": 11, \"10\": 1, \"14\": 2}, \"3\": {\"12\": 45, \"3\": 181, \"0\": 14}}, \"C_A_3\": {\"43\": {\"31\": 2, \"49\": 1, \"43\": 7, \"23\": 2}, \"9\": {\"9\": 12}, \"6\": {\"6\": 8, \"3\": 2}, \"3\": {\"3\": 12}, \"16\": {\"16\": 12}, \"51\": {\"51\": 8, \"33\": 4}, \"31\": {\"43\": 1, \"31\": 10, \"23\": 1}, \"46\": {\"46\": 10}, \"19\": {\"19\": 8}, \"8\": {\"9\": 3, \"8\": 7, \"4\": 1, \"48\": 1}, \"18\": {\"18\": 12}, \"37\": {\"37\": 10, \"39\": 1, \"13\": 1}, \"24\": {\"24\": 11, \"43\": 1}, \"10\": {\"10\": 12}, \"44\": {\"44\": 10}, \"14\": {\"14\": 1, \"51\": 2, \"17\": 1, \"37\": 1, \"36\": 1, \"35\": 1, \"2\": 2, \"13\": 1, \"39\": 2}, \"38\": {\"38\": 8, \"36\": 2}, \"53\": {\"53\": 10, \"34\": 2}, \"20\": {\"20\": 12}, \"32\": {\"32\": 11, \"29\": 1}, \"36\": {\"38\": 4, \"36\": 6}, \"33\": {\"33\": 9, \"38\": 2, \"57\": 1}, \"56\": {\"56\": 12}, \"23\": {\"23\": 9, \"31\": 2, \"53\": 1}, \"54\": {\"54\": 9, \"35\": 1}, \"34\": {\"55\": 2, \"37\": 3, \"34\": 6, \"42\": 1}, \"13\": {\"13\": 12}, \"2\": {\"2\": 11, \"17\": 1}, \"55\": {\"55\": 10}, \"21\": {\"21\": 10}, \"49\": {\"49\": 5, \"34\": 1, \"31\": 1, \"42\": 2, \"7\": 1}, \"25\": {\"25\": 9, \"16\": 2, \"11\": 1}, \"5\": {\"5\": 12}, \"50\": {\"46\": 1, \"50\": 6, \"3\": 1}, \"40\": {\"40\": 11, \"20\": 1}, \"57\": {\"57\": 5, \"36\": 1, \"33\": 1, \"1\": 1}, \"22\": {\"22\": 10}, \"1\": {\"1\": 8, \"41\": 1, \"48\": 1}, \"17\": {\"17\": 9, \"2\": 2, \"39\": 1}, \"41\": {\"41\": 7, \"40\": 1, \"48\": 1, \"47\": 1, \"1\": 2}, \"4\": {\"4\": 7, \"8\": 3}, \"7\": {\"37\": 3, \"42\": 1, \"7\": 4, \"35\": 1, \"17\": 1}, \"26\": {\"26\": 10}, \"29\": {\"29\": 10, \"57\": 1, \"41\": 1}, \"52\": {\"52\": 8, \"0\": 1, \"20\": 1, \"47\": 1, \"46\": 1}, \"15\": {\"15\": 10, \"11\": 1, \"16\": 1}, \"35\": {\"42\": 1, \"35\": 5, \"17\": 1, \"13\": 2, \"34\": 1, \"7\": 2}, \"42\": {\"42\": 12}, \"30\": {\"30\": 10}, \"27\": {\"27\": 7, \"29\": 1}, \"45\": {\"45\": 10}, \"0\": {\"0\": 12}, \"28\": {\"28\": 12}, \"47\": {\"47\": 8, \"48\": 2, \"41\": 1, \"9\": 1}, \"11\": {\"11\": 10}, \"39\": {\"39\": 9, \"14\": 1}, \"48\": {\"47\": 1, \"48\": 10, \"8\": 1}, \"12\": {\"12\": 7, \"50\": 1}}, \"C_A_4\": {\"35\": {\"13\": 1, \"32\": 3, \"49\": 2, \"35\": 1, \"37\": 2, \"2\": 1}, \"25\": {\"25\": 8, \"15\": 1, \"28\": 2, \"34\": 1}, \"24\": {\"34\": 1, \"24\": 9}, \"48\": {\"48\": 12}, \"51\": {\"51\": 12}, \"13\": {\"13\": 12}, \"14\": {\"51\": 1, \"1\": 1, \"14\": 4, \"33\": 1, \"2\": 1}, \"32\": {\"32\": 4, \"49\": 2, \"31\": 1, \"33\": 1, \"7\": 2, \"37\": 2}, \"30\": {\"30\": 11, \"44\": 1}, \"34\": {\"25\": 2, \"32\": 1, \"34\": 3, \"38\": 1, \"19\": 1, \"41\": 1, \"35\": 1}, \"9\": {\"9\": 8, \"8\": 1, \"48\": 3}, \"1\": {\"1\": 10, \"29\": 1, \"47\": 1}, \"0\": {\"0\": 12}, \"38\": {\"13\": 2, \"32\": 1, \"33\": 4, \"38\": 1, \"54\": 1, \"41\": 1, \"35\": 2}, \"22\": {\"0\": 1, \"22\": 7}, \"40\": {\"40\": 10, \"44\": 2}, \"39\": {\"39\": 11, \"36\": 1}, \"46\": {\"46\": 12}, \"36\": {\"36\": 11, \"14\": 1}, \"50\": {\"50\": 11, \"6\": 1}, \"49\": {\"14\": 2, \"54\": 4, \"49\": 2, \"23\": 2, \"43\": 1, \"37\": 1}, \"17\": {\"17\": 12}, \"45\": {\"45\": 12}, \"6\": {\"6\": 12}, \"8\": {\"8\": 9, \"4\": 3}, \"5\": {\"5\": 10}, \"33\": {\"35\": 1, \"33\": 11}, \"31\": {\"31\": 8, \"41\": 1, \"24\": 2, \"23\": 1}, \"37\": {\"33\": 3, \"2\": 1, \"57\": 1, \"37\": 5}, \"47\": {\"47\": 7, \"1\": 1}, \"15\": {\"15\": 10}, \"7\": {\"33\": 1, \"32\": 1, \"7\": 2, \"42\": 3, \"13\": 3, \"2\": 2}, \"20\": {\"20\": 11, \"12\": 1}, \"4\": {\"4\": 5, \"8\": 3, \"9\": 2, \"48\": 2}, \"54\": {\"33\": 2, \"54\": 10}, \"44\": {\"44\": 12}, \"3\": {\"3\": 12}, \"11\": {\"11\": 6, \"10\": 2, \"15\": 2}, \"27\": {\"27\": 10}, \"19\": {\"38\": 2, \"19\": 8, \"31\": 2}, \"55\": {\"55\": 11, \"41\": 1}, \"16\": {\"16\": 9, \"15\": 2, \"10\": 1}, \"2\": {\"37\": 3, \"2\": 7}, \"52\": {\"52\": 10}, \"42\": {\"19\": 1, \"42\": 5, \"43\": 1, \"26\": 1, \"41\": 2}, \"26\": {\"26\": 8, \"53\": 2, \"23\": 1, \"2\": 1}, \"10\": {\"10\": 12}, \"53\": {\"53\": 8, \"26\": 1, \"43\": 1}, \"28\": {\"28\": 12}, \"21\": {\"21\": 10}, \"57\": {\"57\": 10}, \"23\": {\"23\": 7, \"41\": 1}, \"43\": {\"43\": 7, \"23\": 1, \"49\": 1, \"42\": 1}, \"12\": {\"12\": 12}, \"41\": {\"41\": 11, \"38\": 1}, \"56\": {\"56\": 7, \"1\": 1}, \"18\": {\"18\": 10}, \"29\": {\"29\": 8}}, \"W_A_3\": {\"109\": {\"109\": 12}, \"127\": {\"127\": 11, \"31\": 1}, \"14\": {\"7\": 2, \"97\": 1, \"101\": 1, \"14\": 6, \"69\": 2}, \"7\": {\"7\": 11, \"101\": 1}, \"129\": {\"129\": 8, \"41\": 2, \"119\": 1, \"77\": 1}, \"57\": {\"100\": 1, \"57\": 7, \"64\": 1, \"48\": 1, \"19\": 2}, \"84\": {\"84\": 10, \"93\": 1, \"30\": 1}, \"114\": {\"44\": 2, \"114\": 10}, \"44\": {\"44\": 9, \"114\": 1, \"1\": 1, \"51\": 1}, \"21\": {\"109\": 2, \"21\": 10}, \"46\": {\"46\": 7, \"45\": 2, \"34\": 1, \"29\": 2}, \"100\": {\"57\": 2, \"19\": 1, \"75\": 1, \"44\": 2, \"76\": 2, \"65\": 2, \"121\": 1, \"100\": 1}, \"63\": {\"63\": 8, \"57\": 1, \"6\": 1, \"111\": 1, \"75\": 1}, \"24\": {\"24\": 6, \"21\": 1, \"108\": 2, \"118\": 1, \"10\": 2}, \"107\": {\"35\": 1, \"114\": 1, \"107\": 9, \"100\": 1}, \"35\": {\"114\": 2, \"35\": 5, \"47\": 2, \"44\": 1}, \"81\": {\"36\": 1, \"81\": 3, \"94\": 3, \"18\": 1, \"26\": 1, \"62\": 1, \"84\": 2}, \"64\": {\"64\": 9, \"91\": 1, \"102\": 1, \"92\": 1}, \"59\": {\"33\": 1, \"59\": 9, \"86\": 2}, \"33\": {\"33\": 11, \"69\": 1}, \"34\": {\"34\": 8, \"3\": 2, \"54\": 2}, \"36\": {\"36\": 10, \"30\": 1, \"122\": 1}, \"79\": {\"79\": 8, \"59\": 1, \"104\": 1, \"68\": 2}, \"80\": {\"22\": 1, \"80\": 10, \"10\": 1}, \"77\": {\"77\": 7, \"50\": 2, \"129\": 2, \"42\": 1}, \"22\": {\"124\": 1, \"22\": 6, \"68\": 1, \"5\": 1, \"41\": 1, \"119\": 1, \"48\": 1}, \"124\": {\"124\": 10, \"115\": 1, \"5\": 1}, \"2\": {\"34\": 1, \"57\": 1, \"90\": 1, \"2\": 5, \"45\": 2, \"50\": 2}, \"87\": {\"87\": 11, \"96\": 1}, \"105\": {\"105\": 12}, \"95\": {\"97\": 1, \"56\": 1, \"95\": 5, \"3\": 1, \"65\": 1, \"82\": 1, \"66\": 1, \"53\": 1}, \"43\": {\"43\": 11, \"39\": 1}, \"56\": {\"56\": 7, \"75\": 2, \"90\": 1}, \"18\": {\"18\": 11, \"93\": 1}, \"85\": {\"85\": 5, \"29\": 1, \"50\": 1, \"91\": 2, \"25\": 1, \"112\": 1, \"75\": 1}, \"113\": {\"113\": 12}, \"97\": {\"97\": 8, \"84\": 2, \"7\": 1, \"94\": 1}, \"86\": {\"59\": 4, \"86\": 7, \"79\": 1}, \"128\": {\"56\": 2, \"112\": 2, \"128\": 2, \"82\": 1, \"9\": 2, \"100\": 1, \"75\": 1, \"29\": 1}, \"123\": {\"95\": 2, \"29\": 2, \"121\": 1, \"123\": 4, \"22\": 1, \"58\": 1, \"55\": 1}, \"8\": {\"8\": 12}, \"110\": {\"110\": 10, \"30\": 1, \"122\": 1}, \"126\": {\"21\": 2, \"126\": 8, \"39\": 2}, \"101\": {\"101\": 9, \"7\": 3}, \"115\": {\"42\": 1, \"115\": 6, \"79\": 2, \"58\": 1, \"119\": 1, \"41\": 1}, \"49\": {\"49\": 11, \"15\": 1}, \"45\": {\"65\": 1, \"45\": 7, \"54\": 1, \"2\": 1, \"41\": 1, \"55\": 1}, \"78\": {\"78\": 9, \"11\": 1, \"88\": 2}, \"65\": {\"45\": 1, \"65\": 7, \"50\": 1, \"95\": 1}, \"54\": {\"54\": 7, \"112\": 2, \"34\": 1, \"75\": 2}, \"31\": {\"31\": 6, \"14\": 1, \"127\": 2, \"89\": 1}, \"42\": {\"42\": 2, \"45\": 1, \"67\": 1, \"73\": 1, \"22\": 2, \"77\": 1, \"85\": 1, \"124\": 1, \"78\": 1, \"129\": 1}, \"68\": {\"68\": 12}, \"15\": {\"15\": 10, \"60\": 1, \"0\": 1}, \"69\": {\"69\": 10, \"62\": 1, \"106\": 1}, \"17\": {\"48\": 1, \"17\": 4, \"104\": 1, \"125\": 1, \"11\": 1, \"124\": 1, \"59\": 1}, \"73\": {\"41\": 2, \"73\": 4, \"42\": 1, \"25\": 2, \"22\": 1, \"85\": 2}, \"121\": {\"31\": 1, \"121\": 6, \"83\": 1, \"61\": 2, \"64\": 1, \"92\": 1}, \"102\": {\"102\": 11, \"48\": 1}, \"48\": {\"102\": 1, \"77\": 1, \"56\": 1, \"104\": 1, \"48\": 3, \"37\": 1, \"6\": 1, \"22\": 1, \"58\": 1, \"79\": 1}, \"23\": {\"108\": 2, \"23\": 3, \"96\": 1, \"16\": 2, \"122\": 2, \"8\": 2}, \"108\": {\"108\": 11, \"87\": 1}, \"53\": {\"34\": 1, \"53\": 4, \"100\": 1, \"44\": 1, \"3\": 1, \"71\": 1, \"76\": 1, \"107\": 2}, \"94\": {\"94\": 9, \"15\": 1}, \"41\": {\"48\": 1, \"77\": 1, \"13\": 1, \"5\": 1, \"41\": 4, \"38\": 1, \"115\": 1, \"129\": 1, \"79\": 1}, \"58\": {\"29\": 1, \"58\": 9, \"123\": 1, \"95\": 1}, \"29\": {\"29\": 10, \"2\": 2}, \"116\": {\"82\": 1, \"29\": 1, \"116\": 6, \"65\": 1, \"67\": 2, \"90\": 1}, \"60\": {\"60\": 10, \"15\": 1, \"96\": 1}, \"104\": {\"104\": 6, \"68\": 1, \"73\": 1, \"79\": 2, \"58\": 2}, \"106\": {\"106\": 10, \"51\": 1, \"12\": 1}, \"66\": {\"82\": 2, \"54\": 2, \"52\": 1, \"46\": 1, \"75\": 2, \"58\": 1, \"66\": 2, \"95\": 1}, \"47\": {\"47\": 10, \"99\": 1, \"35\": 1}, \"40\": {\"40\": 8, \"101\": 1, \"105\": 1, \"0\": 1, \"44\": 1}, \"82\": {\"82\": 3, \"72\": 1, \"36\": 1, \"128\": 1, \"9\": 1, \"29\": 1, \"95\": 1, \"67\": 1, \"2\": 1, \"89\": 1}, \"13\": {\"104\": 1, \"68\": 1, \"113\": 1, \"5\": 1, \"6\": 2, \"22\": 1, \"109\": 1, \"13\": 3, \"62\": 1}, \"19\": {\"9\": 1, \"76\": 1, \"128\": 2, \"19\": 3, \"64\": 1, \"38\": 2, \"112\": 1, \"54\": 1}, \"72\": {\"19\": 4, \"75\": 2, \"72\": 2, \"51\": 1, \"95\": 2, \"47\": 1}, \"9\": {\"19\": 2, \"89\": 1, \"9\": 5, \"56\": 1, \"51\": 1, \"128\": 1, \"77\": 1}, \"67\": {\"67\": 8, \"104\": 1, \"95\": 1, \"64\": 1, \"89\": 1}, \"11\": {\"11\": 10, \"113\": 1, \"43\": 1}, \"125\": {\"125\": 11, \"4\": 1}, \"76\": {\"76\": 6, \"64\": 1, \"107\": 1}, \"83\": {\"54\": 2, \"83\": 5, \"89\": 1, \"35\": 1, \"72\": 1, \"47\": 1, \"34\": 1}, \"74\": {\"74\": 8, \"102\": 1, \"57\": 1, \"76\": 2}, \"20\": {\"83\": 1, \"40\": 1, \"3\": 2, \"20\": 2, \"99\": 1, \"81\": 1, \"105\": 1, \"32\": 1, \"64\": 1, \"14\": 1}, \"119\": {\"102\": 1, \"119\": 2, \"82\": 3, \"124\": 1, \"85\": 1, \"63\": 1, \"45\": 1, \"77\": 1, \"115\": 1}, \"1\": {\"1\": 8, \"3\": 3, \"106\": 1}, \"16\": {\"16\": 11, \"60\": 1}, \"25\": {\"25\": 5, \"115\": 1, \"73\": 1, \"28\": 1, \"29\": 2, \"65\": 2}, \"90\": {\"90\": 4, \"54\": 1, \"50\": 1, \"56\": 1, \"116\": 1}, \"39\": {\"39\": 10, \"21\": 2}, \"28\": {\"28\": 4, \"117\": 1, \"116\": 2, \"38\": 2, \"50\": 1, \"29\": 1, \"32\": 1}, \"55\": {\"45\": 2, \"55\": 5, \"90\": 1, \"89\": 1, \"103\": 1, \"41\": 1, \"58\": 1}, \"117\": {\"117\": 9, \"56\": 1, \"92\": 1, \"20\": 1}, \"112\": {\"112\": 3, \"98\": 2, \"95\": 2, \"55\": 1, \"45\": 1, \"66\": 2, \"48\": 1}, \"38\": {\"38\": 8, \"100\": 1, \"64\": 1, \"19\": 1, \"127\": 1}, \"37\": {\"104\": 2, \"52\": 2, \"37\": 4, \"48\": 1, \"6\": 1, \"68\": 1, \"17\": 1}, \"120\": {\"37\": 1, \"64\": 1, \"120\": 4, \"55\": 1, \"63\": 1, \"65\": 1, \"121\": 1, \"92\": 2}, \"122\": {\"122\": 10, \"87\": 1, \"96\": 1}, \"50\": {\"90\": 1, \"41\": 1, \"50\": 3, \"65\": 2, \"28\": 1, \"2\": 1, \"25\": 1, \"53\": 1, \"58\": 1}, \"10\": {\"10\": 11, \"70\": 1}, \"5\": {\"5\": 9, \"13\": 1, \"85\": 1, \"37\": 1}, \"51\": {\"51\": 7, \"127\": 1, \"82\": 1, \"106\": 3}, \"3\": {\"3\": 10, \"39\": 1, \"108\": 1}, \"98\": {\"42\": 2, \"98\": 5, \"29\": 1, \"95\": 1, \"2\": 1, \"55\": 1, \"34\": 1}, \"70\": {\"39\": 2, \"109\": 1, \"70\": 7, \"78\": 2}, \"96\": {\"113\": 1, \"96\": 8, \"118\": 2, \"16\": 1}, \"12\": {\"12\": 11, \"106\": 1}, \"99\": {\"99\": 3, \"53\": 1, \"20\": 1, \"47\": 1, \"114\": 1, \"121\": 1, \"40\": 1, \"57\": 1, \"44\": 2}, \"52\": {\"52\": 6, \"55\": 1, \"29\": 1, \"25\": 1, \"75\": 1, \"58\": 1, \"89\": 1}, \"71\": {\"71\": 8, \"36\": 1, \"83\": 1, \"3\": 2}, \"89\": {\"9\": 2, \"89\": 4, \"92\": 1, \"50\": 1, \"47\": 1, \"56\": 1, \"107\": 1, \"64\": 1}, \"0\": {\"8\": 2, \"0\": 9, \"16\": 1}, \"4\": {\"4\": 9, \"10\": 1, \"24\": 1, \"23\": 1}, \"93\": {\"93\": 12}, \"6\": {\"79\": 1, \"6\": 7, \"63\": 1, \"111\": 1}, \"75\": {\"56\": 2, \"19\": 2, \"32\": 2, \"100\": 1, \"117\": 2, \"29\": 1, \"123\": 1, \"75\": 1}, \"62\": {\"62\": 10, \"0\": 1, \"60\": 1}, \"103\": {\"103\": 5, \"95\": 2, \"116\": 1, \"55\": 1, \"66\": 1, \"98\": 2}, \"30\": {\"30\": 10, \"110\": 2}, \"91\": {\"91\": 7, \"41\": 2, \"5\": 1, \"129\": 2}, \"27\": {\"27\": 11, \"11\": 1}, \"26\": {\"26\": 11, \"93\": 1}, \"61\": {\"61\": 12}, \"118\": {\"118\": 11, \"109\": 1}, \"92\": {\"92\": 8, \"120\": 2, \"64\": 1, \"38\": 1}, \"111\": {\"111\": 10, \"17\": 2}, \"32\": {\"32\": 9, \"83\": 1, \"72\": 1, \"100\": 1}, \"88\": {\"70\": 1, \"88\": 6, \"78\": 2, \"109\": 1}}, \"C_A_5\": {\"47\": {\"47\": 7, \"52\": 3}, \"53\": {\"53\": 11, \"23\": 1}, \"29\": {\"29\": 12}, \"52\": {\"52\": 12}, \"55\": {\"55\": 9, \"33\": 1, \"35\": 1, \"54\": 1}, \"17\": {\"17\": 11, \"36\": 1}, \"42\": {\"19\": 1, \"42\": 11}, \"33\": {\"33\": 9, \"54\": 1}, \"11\": {\"11\": 11, \"18\": 1}, \"19\": {\"19\": 8}, \"1\": {\"1\": 12}, \"44\": {\"44\": 10, \"3\": 2}, \"49\": {\"49\": 12}, \"4\": {\"4\": 10, \"1\": 2}, \"6\": {\"6\": 10, \"45\": 1, \"50\": 1}, \"39\": {\"39\": 10, \"29\": 2}, \"13\": {\"13\": 11, \"54\": 1}, \"5\": {\"5\": 9, \"50\": 1}, \"16\": {\"16\": 10}, \"25\": {\"25\": 10, \"16\": 2}, \"45\": {\"45\": 11, \"6\": 1}, \"7\": {\"7\": 9, \"8\": 1}, \"22\": {\"22\": 11, \"56\": 1}, \"40\": {\"44\": 2, \"40\": 10}, \"38\": {\"7\": 1, \"38\": 5, \"48\": 1, \"27\": 3, \"8\": 1, \"32\": 1}, \"35\": {\"35\": 5, \"41\": 1, \"54\": 1, \"24\": 1}, \"56\": {\"56\": 12}, \"50\": {\"50\": 10}, \"0\": {\"0\": 11, \"22\": 1}, \"10\": {\"10\": 11, \"15\": 1}, \"27\": {\"27\": 12}, \"20\": {\"20\": 7, \"1\": 1, \"40\": 2}, \"36\": {\"36\": 4, \"41\": 2, \"14\": 2}, \"34\": {\"34\": 12}, \"30\": {\"30\": 12}, \"2\": {\"2\": 6, \"54\": 2, \"43\": 2}, \"15\": {\"15\": 10, \"10\": 1, \"16\": 1}, \"18\": {\"18\": 11, \"11\": 1}, \"32\": {\"32\": 10, \"14\": 1, \"29\": 1}, \"31\": {\"31\": 10, \"28\": 1, \"24\": 1}, \"57\": {\"57\": 12}, \"48\": {\"48\": 8}, \"28\": {\"28\": 8, \"25\": 2}, \"14\": {\"14\": 5, \"39\": 2, \"7\": 1, \"32\": 2, \"29\": 1, \"51\": 1}, \"3\": {\"3\": 12}, \"8\": {\"8\": 12}, \"9\": {\"9\": 12}, \"21\": {\"21\": 10}, \"41\": {\"41\": 8, \"32\": 1, \"37\": 1, \"39\": 1, \"29\": 1}, \"24\": {\"24\": 11, \"31\": 1}, \"46\": {\"40\": 1, \"46\": 9}, \"43\": {\"43\": 8, \"2\": 2}, \"54\": {\"55\": 1, \"54\": 7, \"41\": 1, \"33\": 1}, \"23\": {\"35\": 1, \"23\": 9}, \"37\": {\"37\": 5, \"14\": 1, \"54\": 1, \"13\": 2, \"8\": 1}, \"12\": {\"12\": 10}, \"26\": {\"41\": 1, \"23\": 1, \"26\": 5, \"17\": 1, \"51\": 1, \"39\": 1}, \"51\": {\"51\": 5, \"32\": 1}}, \"C_A_1\": {\"46\": {\"46\": 12}, \"16\": {\"16\": 11, \"28\": 1}, \"26\": {\"26\": 6, \"19\": 2, \"39\": 1, \"53\": 1, \"15\": 1, \"23\": 1}, \"10\": {\"10\": 12}, \"9\": {\"9\": 10}, \"28\": {\"28\": 11, \"16\": 1}, \"51\": {\"27\": 1, \"51\": 9, \"36\": 1, \"41\": 1}, \"1\": {\"1\": 11, \"29\": 1}, \"55\": {\"55\": 12}, \"27\": {\"27\": 9, \"36\": 1}, \"22\": {\"22\": 9, \"44\": 2, \"0\": 1}, \"52\": {\"52\": 10, \"22\": 2}, \"3\": {\"3\": 11, \"44\": 1}, \"33\": {\"33\": 8}, \"47\": {\"47\": 11, \"27\": 1}, \"42\": {\"42\": 12}, \"12\": {\"12\": 4}, \"23\": {\"23\": 11, \"26\": 1}, \"49\": {\"49\": 9, \"42\": 1}, \"7\": {\"7\": 9, \"36\": 1, \"32\": 1, \"51\": 1}, \"4\": {\"4\": 9, \"50\": 1, \"14\": 2}, \"50\": {\"50\": 12}, \"19\": {\"19\": 9, \"35\": 3}, \"11\": {\"11\": 12}, \"31\": {\"31\": 9, \"54\": 1}, \"41\": {\"7\": 1, \"41\": 5, \"36\": 2, \"57\": 1, \"29\": 1, \"51\": 2}, \"56\": {\"56\": 10}, \"0\": {\"0\": 12}, \"57\": {\"57\": 9, \"13\": 1, \"14\": 2}, \"53\": {\"53\": 10, \"26\": 2}, \"43\": {\"43\": 11, \"49\": 1}, \"37\": {\"37\": 7, \"32\": 4, \"17\": 1}, \"2\": {\"2\": 7, \"48\": 1}, \"6\": {\"6\": 12}, \"18\": {\"18\": 12}, \"38\": {\"38\": 6, \"42\": 1, \"37\": 1, \"32\": 2, \"55\": 1, \"33\": 1}, \"15\": {\"15\": 12}, \"36\": {\"36\": 11, \"51\": 1}, \"39\": {\"36\": 1, \"39\": 5, \"38\": 1, \"33\": 1}, \"44\": {\"44\": 12}, \"8\": {\"8\": 12}, \"17\": {\"17\": 10}, \"5\": {\"5\": 12}, \"13\": {\"13\": 10}, \"40\": {\"40\": 10}, \"29\": {\"57\": 1, \"29\": 10, \"9\": 1}, \"48\": {\"48\": 12}, \"32\": {\"38\": 1, \"32\": 11}, \"30\": {\"30\": 12}, \"35\": {\"35\": 5, \"25\": 1, \"19\": 3, \"26\": 1, \"24\": 2}, \"25\": {\"25\": 12}, \"14\": {\"14\": 7, \"30\": 5}, \"54\": {\"54\": 9, \"39\": 1}, \"20\": {\"20\": 8}, \"21\": {\"21\": 10}, \"45\": {\"45\": 7, \"56\": 1}, \"24\": {\"24\": 8}, \"34\": {\"24\": 4, \"23\": 2, \"34\": 2}}, \"W_A_4\": {\"28\": {\"2\": 1, \"90\": 1, \"28\": 3, \"128\": 2, \"9\": 2, \"67\": 1, \"92\": 2}, \"4\": {\"4\": 12}, \"72\": {\"96\": 1, \"14\": 1, \"72\": 3, \"49\": 1, \"18\": 2, \"8\": 1, \"71\": 1, \"23\": 1, \"106\": 1}, \"111\": {\"111\": 11, \"6\": 1}, \"108\": {\"108\": 12}, \"43\": {\"43\": 9, \"97\": 1}, \"96\": {\"96\": 6, \"43\": 1, \"88\": 1, \"36\": 1, \"97\": 1, \"122\": 1, \"11\": 1}, \"89\": {\"89\": 9, \"90\": 1, \"92\": 1, \"45\": 1}, \"31\": {\"89\": 1, \"28\": 1, \"31\": 6, \"2\": 1, \"19\": 1, \"52\": 1, \"65\": 1}, \"45\": {\"28\": 1, \"45\": 9, \"31\": 1, \"57\": 1}, \"2\": {\"28\": 1, \"2\": 9, \"64\": 1, \"63\": 1}, \"114\": {\"114\": 12}, \"11\": {\"11\": 10, \"96\": 1, \"93\": 1}, \"12\": {\"12\": 10, \"99\": 2}, \"14\": {\"14\": 10, \"101\": 2}, \"90\": {\"31\": 2, \"19\": 2, \"90\": 7, \"123\": 1}, \"10\": {\"10\": 8, \"24\": 2, \"78\": 1, \"108\": 1}, \"63\": {\"91\": 1, \"123\": 1, \"63\": 9, \"42\": 1}, \"85\": {\"85\": 8, \"10\": 1, \"34\": 3}, \"64\": {\"98\": 3, \"128\": 1, \"64\": 2, \"19\": 1, \"103\": 1, \"95\": 1, \"117\": 2, \"41\": 1}, \"82\": {\"91\": 2, \"95\": 3, \"89\": 1, \"57\": 1, \"82\": 4, \"48\": 1}, \"58\": {\"91\": 1, \"98\": 1, \"58\": 9, \"41\": 1}, \"3\": {\"3\": 9, \"1\": 1, \"127\": 2}, \"54\": {\"54\": 7, \"53\": 1, \"37\": 1, \"120\": 1, \"79\": 1, \"52\": 1}, \"121\": {\"121\": 2, \"12\": 1, \"67\": 1, \"99\": 1, \"7\": 1, \"49\": 1, \"74\": 2, \"5\": 1, \"9\": 1, \"72\": 1}, \"42\": {\"58\": 1, \"98\": 1, \"29\": 1, \"91\": 1, \"75\": 1, \"25\": 1, \"42\": 2, \"2\": 1, \"47\": 1, \"129\": 1, \"123\": 1}, \"98\": {\"91\": 1, \"98\": 6, \"25\": 2, \"41\": 1, \"75\": 1, \"77\": 1}, \"123\": {\"123\": 6, \"91\": 1, \"34\": 2, \"129\": 1, \"116\": 2}, \"91\": {\"42\": 3, \"13\": 1, \"91\": 1, \"25\": 3, \"29\": 2, \"58\": 2}, \"66\": {\"66\": 1, \"95\": 1, \"65\": 1, \"28\": 1, \"56\": 1, \"31\": 1, \"19\": 1, \"112\": 1, \"34\": 1, \"85\": 1, \"98\": 1, \"77\": 1}, \"102\": {\"102\": 11, \"104\": 1}, \"122\": {\"122\": 10, \"70\": 1, \"43\": 1}, \"1\": {\"1\": 11, \"40\": 1}, \"15\": {\"15\": 10, \"0\": 2}, \"97\": {\"108\": 1, \"122\": 1, \"97\": 9, \"98\": 1}, \"75\": {\"75\": 5, \"91\": 2, \"42\": 1, \"77\": 2, \"129\": 1, \"64\": 1}, \"95\": {\"95\": 4, \"1\": 1, \"46\": 2, \"85\": 1, \"34\": 1, \"53\": 1, \"44\": 1, \"38\": 1}, \"57\": {\"82\": 2, \"57\": 5, \"51\": 1, \"123\": 1, \"45\": 1, \"65\": 2}, \"68\": {\"68\": 11, \"124\": 1}, \"125\": {\"125\": 12}, \"62\": {\"62\": 10}, \"27\": {\"27\": 9, \"21\": 1, \"97\": 1, \"126\": 1}, \"120\": {\"120\": 8, \"103\": 1, \"31\": 1, \"64\": 2}, \"26\": {\"26\": 11, \"118\": 1}, \"55\": {\"120\": 1, \"55\": 5, \"64\": 2, \"25\": 2, \"73\": 1, \"116\": 1}, \"71\": {\"71\": 9, \"88\": 1, \"3\": 2}, \"22\": {\"91\": 1, \"22\": 5, \"41\": 2, \"116\": 1, \"77\": 2, \"55\": 1}, \"99\": {\"71\": 2, \"14\": 1, \"127\": 1, \"101\": 2, \"21\": 1, \"12\": 1, \"51\": 2, \"40\": 1, \"69\": 1}, \"84\": {\"84\": 9, \"103\": 1, \"43\": 1, \"7\": 1}, \"37\": {\"37\": 8, \"68\": 2, \"79\": 1, \"102\": 1}, \"83\": {\"83\": 2, \"71\": 1, \"114\": 2, \"19\": 2, \"74\": 2, \"105\": 1, \"52\": 2}, \"46\": {\"120\": 1, \"83\": 1, \"95\": 2, \"77\": 1, \"13\": 1, \"54\": 1, \"46\": 3, \"92\": 1, \"119\": 1}, \"35\": {\"35\": 8, \"84\": 1, \"69\": 3}, \"13\": {\"37\": 2, \"13\": 2, \"55\": 1, \"6\": 2, \"29\": 2, \"42\": 1, \"79\": 2}, \"53\": {\"127\": 1, \"9\": 1, \"51\": 2, \"88\": 1, \"53\": 1, \"74\": 2, \"21\": 1, \"23\": 1, \"89\": 1, \"107\": 1}, \"127\": {\"127\": 8, \"99\": 1, \"1\": 1, \"49\": 2}, \"69\": {\"43\": 1, \"69\": 6, \"35\": 2, \"81\": 2, \"78\": 1}, \"48\": {\"48\": 4, \"51\": 1, \"129\": 1, \"47\": 1, \"22\": 1, \"75\": 2, \"112\": 1, \"29\": 1}, \"16\": {\"16\": 12}, \"0\": {\"8\": 1, \"0\": 10, \"15\": 1}, \"8\": {\"0\": 1, \"43\": 1, \"8\": 9, \"97\": 1}, \"9\": {\"53\": 2, \"19\": 1, \"9\": 4, \"33\": 1, \"114\": 2, \"95\": 1, \"128\": 1}, \"115\": {\"48\": 2, \"68\": 2, \"115\": 6, \"119\": 1, \"95\": 1}, \"70\": {\"70\": 8, \"17\": 1, \"36\": 2, \"78\": 1}, \"119\": {\"6\": 1, \"68\": 1, \"102\": 4, \"119\": 6}, \"59\": {\"59\": 10, \"115\": 2}, \"52\": {\"51\": 1, \"46\": 1, \"52\": 3, \"28\": 1, \"83\": 1, \"45\": 1, \"31\": 2, \"73\": 1, \"34\": 1}, \"60\": {\"60\": 9, \"101\": 1, \"94\": 1, \"96\": 1}, \"44\": {\"44\": 9, \"71\": 2, \"99\": 1}, \"51\": {\"127\": 1, \"70\": 1, \"73\": 1, \"51\": 3, \"112\": 1, \"57\": 1, \"56\": 1, \"68\": 1, \"107\": 1, \"53\": 1}, \"6\": {\"68\": 2, \"6\": 6, \"119\": 2, \"111\": 1, \"17\": 1}, \"73\": {\"45\": 1, \"98\": 2, \"33\": 1, \"73\": 6, \"81\": 1, \"23\": 1}, \"78\": {\"78\": 8, \"21\": 2, \"109\": 2}, \"92\": {\"92\": 10, \"34\": 1, \"100\": 1}, \"20\": {\"20\": 10, \"105\": 1, \"109\": 1}, \"17\": {\"104\": 3, \"17\": 7, \"80\": 1, \"86\": 1}, \"74\": {\"34\": 2, \"74\": 9, \"53\": 1}, \"19\": {\"98\": 1, \"34\": 1, \"31\": 4, \"19\": 1, \"103\": 1, \"33\": 2, \"112\": 1, \"107\": 1}, \"50\": {\"50\": 3, \"104\": 1, \"51\": 2, \"47\": 2, \"13\": 1, \"29\": 1, \"58\": 1, \"129\": 1}, \"34\": {\"20\": 2, \"34\": 2, \"85\": 2, \"6\": 1, \"52\": 2, \"92\": 1, \"1\": 1, \"119\": 1}, \"104\": {\"104\": 3, \"50\": 2, \"75\": 1, \"119\": 1, \"129\": 1}, \"33\": {\"33\": 8, \"5\": 1, \"114\": 1, \"107\": 1, \"39\": 1}, \"5\": {\"5\": 7, \"71\": 1, \"76\": 2, \"38\": 1, \"121\": 1}, \"7\": {\"7\": 9, \"18\": 1, \"0\": 1, \"23\": 1}, \"29\": {\"42\": 1, \"29\": 11}, \"25\": {\"25\": 7, \"31\": 1, \"104\": 1, \"55\": 2, \"53\": 1}, \"124\": {\"124\": 9, \"116\": 1, \"59\": 1, \"29\": 1}, \"117\": {\"117\": 8, \"88\": 1, \"108\": 1, \"53\": 2}, \"88\": {\"88\": 9, \"122\": 1, \"27\": 1, \"39\": 1}, \"61\": {\"69\": 1, \"88\": 1, \"61\": 7, \"72\": 1, \"81\": 2}, \"86\": {\"86\": 12}, \"116\": {\"124\": 2, \"116\": 4, \"129\": 1, \"112\": 1, \"47\": 1, \"25\": 1, \"41\": 2}, \"24\": {\"24\": 12}, \"128\": {\"66\": 1, \"52\": 2, \"9\": 1, \"21\": 1, \"100\": 1, \"128\": 3, \"73\": 1, \"95\": 1, \"57\": 1}, \"101\": {\"101\": 10, \"84\": 2}, \"65\": {\"65\": 9, \"25\": 1}, \"36\": {\"36\": 8, \"24\": 2, \"30\": 1, \"62\": 1}, \"21\": {\"21\": 11, \"24\": 1}, \"106\": {\"106\": 11, \"72\": 1}, \"118\": {\"118\": 6, \"88\": 1, \"87\": 2, \"30\": 1, \"110\": 1, \"109\": 1}, \"113\": {\"88\": 2, \"113\": 7, \"24\": 1, \"39\": 1, \"78\": 1}, \"40\": {\"40\": 8, \"49\": 1, \"5\": 2, \"1\": 1}, \"93\": {\"93\": 8}, \"94\": {\"94\": 8, \"16\": 2, \"60\": 2}, \"103\": {\"103\": 5, \"120\": 3, \"129\": 1, \"108\": 1, \"87\": 1, \"54\": 1}, \"110\": {\"118\": 4, \"110\": 7, \"30\": 1}, \"56\": {\"56\": 6, \"112\": 2, \"100\": 2, \"64\": 1, \"73\": 1}, \"39\": {\"39\": 12}, \"109\": {\"39\": 1, \"109\": 9, \"88\": 2}, \"67\": {\"123\": 2, \"90\": 3, \"55\": 2, \"67\": 2, \"107\": 1, \"88\": 1, \"63\": 1}, \"129\": {\"51\": 1, \"129\": 9, \"102\": 1, \"77\": 1}, \"30\": {\"30\": 12}, \"126\": {\"126\": 10, \"109\": 2}, \"87\": {\"21\": 1, \"87\": 8, \"110\": 2, \"0\": 1}, \"112\": {\"112\": 6, \"128\": 1, \"22\": 1, \"90\": 1, \"75\": 1, \"48\": 2}, \"100\": {\"112\": 1, \"51\": 1, \"100\": 5, \"99\": 1, \"105\": 2, \"5\": 1, \"95\": 1}, \"79\": {\"79\": 10}, \"81\": {\"101\": 2, \"121\": 1, \"84\": 1, \"76\": 1, \"81\": 4, \"40\": 1, \"108\": 2}, \"76\": {\"51\": 1, \"76\": 8, \"14\": 1}, \"47\": {\"47\": 6, \"70\": 1, \"116\": 1, \"29\": 1, \"124\": 2, \"42\": 1}, \"77\": {\"77\": 11, \"41\": 1}, \"23\": {\"103\": 1, \"18\": 3, \"23\": 3, \"109\": 1, \"110\": 1, \"0\": 2, \"21\": 1}, \"18\": {\"18\": 11, \"7\": 1}, \"49\": {\"49\": 10, \"105\": 1, \"127\": 1}, \"41\": {\"41\": 6, \"125\": 1, \"80\": 1, \"112\": 1, \"75\": 1, \"4\": 1, \"116\": 1}, \"32\": {\"67\": 1, \"32\": 8, \"107\": 1, \"95\": 1, \"33\": 1}, \"107\": {\"107\": 9, \"33\": 1}, \"80\": {\"80\": 8, \"38\": 1, \"37\": 1, \"79\": 1, \"111\": 1}, \"105\": {\"105\": 8, \"61\": 1, \"24\": 1}, \"38\": {\"38\": 5, \"5\": 1, \"107\": 2, \"40\": 1, \"9\": 1}}, \"W_A_1\": {\"108\": {\"108\": 10}, \"40\": {\"40\": 6, \"110\": 1, \"50\": 1, \"71\": 1, \"33\": 1, \"20\": 1, \"105\": 1}, \"68\": {\"64\": 1, \"68\": 3, \"58\": 1, \"41\": 2, \"129\": 1, \"80\": 1, \"5\": 2, \"112\": 1}, \"23\": {\"26\": 1, \"23\": 4, \"84\": 1, \"16\": 1, \"7\": 1, \"94\": 2, \"60\": 2}, \"26\": {\"70\": 1, \"26\": 11}, \"64\": {\"102\": 1, \"64\": 3, \"85\": 1, \"103\": 1, \"66\": 2, \"61\": 1, \"129\": 1, \"2\": 2}, \"22\": {\"22\": 6, \"57\": 2, \"129\": 1, \"17\": 1, \"63\": 1, \"46\": 1}, \"3\": {\"110\": 3, \"3\": 6, \"76\": 1, \"96\": 1, \"35\": 1}, \"4\": {\"4\": 11, \"11\": 1}, \"70\": {\"70\": 11, \"21\": 1}, \"57\": {\"102\": 2, \"58\": 1, \"57\": 7, \"13\": 1, \"91\": 1}, \"79\": {\"79\": 9, \"111\": 3}, \"9\": {\"9\": 5, \"89\": 1, \"34\": 1, \"114\": 2, \"128\": 1, \"99\": 2}, \"89\": {\"89\": 9, \"64\": 1, \"107\": 1, \"32\": 1}, \"110\": {\"110\": 11, \"96\": 1}, \"102\": {\"102\": 9, \"45\": 1, \"129\": 2}, \"31\": {\"31\": 4, \"96\": 1, \"50\": 2, \"101\": 1, \"71\": 1, \"0\": 1, \"14\": 1, \"99\": 1}, \"58\": {\"58\": 9, \"57\": 1, \"13\": 2}, \"47\": {\"52\": 2, \"31\": 1, \"72\": 2, \"47\": 4, \"9\": 1, \"99\": 2}, \"24\": {\"24\": 10, \"97\": 1, \"88\": 1}, \"19\": {\"52\": 2, \"47\": 1, \"75\": 1, \"73\": 1, \"72\": 1, \"100\": 1, \"19\": 2, \"49\": 1, \"31\": 2}, \"11\": {\"11\": 11, \"21\": 1}, \"52\": {\"52\": 11, \"32\": 1}, \"17\": {\"68\": 2, \"17\": 5, \"48\": 1, \"13\": 1, \"58\": 1, \"5\": 2}, \"25\": {\"19\": 2, \"25\": 2, \"42\": 6, \"107\": 1, \"82\": 1}, \"69\": {\"69\": 10, \"60\": 2}, \"96\": {\"24\": 1, \"69\": 1, \"96\": 4, \"118\": 1, \"84\": 1, \"97\": 1, \"26\": 2, \"43\": 1}, \"109\": {\"109\": 12}, \"115\": {\"115\": 11, \"48\": 1}, \"83\": {\"25\": 1, \"19\": 1, \"32\": 1, \"81\": 1, \"56\": 1, \"4\": 1, \"13\": 2, \"31\": 1, \"83\": 1, \"99\": 1, \"103\": 1}, \"84\": {\"84\": 11, \"23\": 1}, \"119\": {\"65\": 2, \"119\": 5, \"2\": 1, \"98\": 1, \"54\": 1}, \"122\": {\"122\": 10}, \"99\": {\"84\": 1, \"99\": 6, \"12\": 1, \"50\": 1, \"31\": 2, \"14\": 1}, \"1\": {\"1\": 9, \"74\": 1, \"44\": 1, \"81\": 1}, \"74\": {\"1\": 1, \"111\": 1, \"74\": 8, \"34\": 1, \"48\": 1}, \"85\": {\"85\": 9, \"104\": 1, \"64\": 1, \"46\": 1}, \"127\": {\"127\": 9, \"20\": 1, \"100\": 2}, \"111\": {\"111\": 7, \"112\": 2, \"79\": 2, \"17\": 1}, \"53\": {\"53\": 9, \"73\": 1, \"75\": 1, \"32\": 1}, \"88\": {\"88\": 7, \"10\": 3, \"108\": 2}, \"65\": {\"65\": 7, \"92\": 1, \"85\": 1, \"98\": 1}, \"7\": {\"23\": 1, \"7\": 10, \"62\": 1}, \"16\": {\"16\": 9, \"10\": 1, \"18\": 2}, \"128\": {\"128\": 9, \"34\": 1, \"66\": 1, \"107\": 1}, \"34\": {\"128\": 1, \"0\": 1, \"19\": 1, \"117\": 1, \"3\": 2, \"44\": 1, \"61\": 1, \"34\": 1, \"40\": 1, \"89\": 1, \"127\": 1}, \"129\": {\"104\": 3, \"92\": 2, \"129\": 5, \"64\": 1, \"105\": 1}, \"43\": {\"43\": 12}, \"92\": {\"92\": 10, \"85\": 2}, \"28\": {\"73\": 1, \"17\": 1, \"28\": 5, \"82\": 2, \"63\": 1, \"116\": 1, \"61\": 1}, \"27\": {\"27\": 10, \"30\": 1, \"8\": 1}, \"114\": {\"114\": 9, \"81\": 1, \"75\": 2}, \"73\": {\"53\": 4, \"61\": 2, \"32\": 2, \"73\": 4}, \"0\": {\"0\": 12}, \"104\": {\"104\": 9, \"92\": 2, \"41\": 1}, \"118\": {\"118\": 10, \"43\": 1, \"93\": 1}, \"41\": {\"68\": 2, \"41\": 5, \"119\": 1, \"45\": 2, \"111\": 1, \"46\": 1}, \"49\": {\"89\": 1, \"49\": 5, \"72\": 1, \"19\": 3, \"9\": 1, \"107\": 1}, \"14\": {\"14\": 7, \"20\": 1, \"44\": 2, \"95\": 2}, \"46\": {\"49\": 1, \"129\": 1, \"58\": 1, \"126\": 1, \"46\": 4, \"17\": 2, \"57\": 2}, \"33\": {\"40\": 3, \"33\": 8, \"20\": 1}, \"76\": {\"76\": 10, \"3\": 1, \"110\": 1}, \"125\": {\"125\": 12}, \"86\": {\"5\": 1, \"125\": 1, \"86\": 6, \"124\": 1, \"83\": 1}, \"66\": {\"92\": 1, \"66\": 5, \"64\": 1, \"38\": 1, \"2\": 1, \"123\": 1, \"82\": 1, \"51\": 1}, \"5\": {\"5\": 11, \"58\": 1}, \"117\": {\"117\": 8, \"67\": 3, \"54\": 1}, \"75\": {\"50\": 1, \"73\": 1, \"51\": 2, \"72\": 1, \"83\": 1, \"56\": 1, \"75\": 2, \"117\": 2, \"31\": 1}, \"61\": {\"61\": 10, \"120\": 2}, \"50\": {\"50\": 5, \"34\": 1, \"44\": 1, \"81\": 1, \"30\": 1, \"90\": 1, \"101\": 1, \"73\": 1}, \"67\": {\"61\": 1, \"117\": 2, \"123\": 1, \"51\": 1, \"46\": 1, \"67\": 2, \"82\": 1, \"104\": 1}, \"18\": {\"18\": 10, \"16\": 2}, \"98\": {\"98\": 9, \"2\": 1, \"104\": 1, \"103\": 1}, \"55\": {\"55\": 8, \"58\": 2}, \"32\": {\"73\": 1, \"32\": 4, \"42\": 2, \"83\": 1, \"52\": 2, \"53\": 2}, \"120\": {\"120\": 10, \"82\": 2}, \"97\": {\"97\": 8, \"93\": 1, \"26\": 1, \"87\": 2}, \"126\": {\"126\": 11, \"30\": 1}, \"45\": {\"104\": 2, \"45\": 6, \"77\": 1, \"63\": 1, \"22\": 1, \"92\": 1}, \"78\": {\"70\": 3, \"21\": 2, \"78\": 4, \"11\": 1}, \"100\": {\"34\": 1, \"107\": 1, \"1\": 2, \"49\": 1, \"81\": 1, \"44\": 1, \"114\": 1, \"31\": 2, \"50\": 1, \"74\": 1}, \"107\": {\"107\": 9, \"51\": 1, \"49\": 1, \"38\": 1}, \"93\": {\"93\": 10, \"24\": 1, \"118\": 1}, \"77\": {\"77\": 11, \"116\": 1}, \"63\": {\"77\": 1, \"112\": 3, \"119\": 1, \"63\": 3, \"42\": 1, \"22\": 1, \"55\": 1, \"92\": 1}, \"112\": {\"112\": 4, \"6\": 1, \"45\": 1, \"59\": 2, \"80\": 2, \"68\": 2}, \"113\": {\"113\": 11, \"108\": 1}, \"103\": {\"103\": 3, \"56\": 1, \"120\": 1, \"98\": 1, \"83\": 1, \"52\": 3}, \"71\": {\"71\": 10, \"40\": 1, \"127\": 1}, \"30\": {\"30\": 8, \"93\": 1, \"27\": 2, \"43\": 1}, \"90\": {\"90\": 8, \"38\": 3, \"107\": 1}, \"37\": {\"103\": 1, \"37\": 7, \"124\": 1, \"112\": 1, \"5\": 2}, \"60\": {\"60\": 7, \"15\": 1, \"118\": 1, \"27\": 1, \"36\": 2}, \"15\": {\"15\": 9, \"94\": 1, \"36\": 2}, \"39\": {\"39\": 12}, \"72\": {\"72\": 10, \"49\": 1, \"29\": 1}, \"54\": {\"2\": 2, \"98\": 2, \"82\": 1, \"54\": 3, \"13\": 1, \"53\": 1, \"47\": 1, \"65\": 1}, \"35\": {\"35\": 10, \"44\": 2}, \"2\": {\"2\": 6, \"54\": 1, \"61\": 4, \"45\": 1}, \"94\": {\"15\": 1, \"94\": 6, \"110\": 1, \"60\": 2, \"23\": 1, \"109\": 1}, \"42\": {\"42\": 5, \"53\": 1, \"83\": 1, \"32\": 1, \"25\": 4}, \"81\": {\"114\": 1, \"81\": 2, \"105\": 1, \"12\": 2, \"34\": 2, \"50\": 2, \"83\": 2}, \"8\": {\"87\": 1, \"8\": 9, \"93\": 1, \"88\": 1}, \"87\": {\"8\": 2, \"87\": 8, \"118\": 1, \"97\": 1}, \"6\": {\"6\": 7, \"111\": 1, \"59\": 1, \"55\": 1, \"79\": 2}, \"36\": {\"36\": 9, \"110\": 1, \"60\": 1, \"7\": 1}, \"91\": {\"91\": 5, \"42\": 1, \"102\": 1, \"13\": 1, \"85\": 2, \"2\": 1, \"77\": 1}, \"56\": {\"25\": 2, \"56\": 7, \"83\": 1, \"53\": 2}, \"80\": {\"80\": 7, \"111\": 2, \"79\": 2, \"56\": 1}, \"124\": {\"37\": 2, \"124\": 6, \"79\": 1, \"5\": 1}, \"44\": {\"44\": 9, \"14\": 1, \"35\": 2}, \"13\": {\"119\": 1, \"41\": 1, \"13\": 3, \"67\": 1, \"55\": 1, \"61\": 2, \"54\": 2, \"104\": 1}, \"10\": {\"10\": 10, \"88\": 1, \"21\": 1}, \"59\": {\"59\": 8, \"48\": 1, \"82\": 1, \"33\": 1, \"115\": 1}, \"95\": {\"105\": 2, \"95\": 9, \"107\": 1}, \"105\": {\"105\": 7, \"44\": 2, \"111\": 1, \"33\": 1, \"15\": 1}, \"101\": {\"101\": 10, \"106\": 1, \"14\": 1}, \"20\": {\"100\": 2, \"20\": 8, \"127\": 1, \"81\": 1}, \"48\": {\"48\": 11, \"66\": 1}, \"106\": {\"106\": 12}, \"51\": {\"28\": 1, \"75\": 1, \"51\": 9, \"25\": 1}, \"21\": {\"21\": 10, \"70\": 2}, \"123\": {\"123\": 6, \"2\": 1, \"67\": 1, \"55\": 1, \"25\": 1, \"91\": 1, \"66\": 1}, \"121\": {\"20\": 2, \"121\": 6, \"75\": 2, \"51\": 1, \"74\": 1}, \"38\": {\"128\": 1, \"38\": 7, \"82\": 1, \"107\": 1, \"120\": 1, \"89\": 1}, \"62\": {\"62\": 10, \"7\": 1, \"0\": 1}, \"29\": {\"29\": 11, \"72\": 1}, \"82\": {\"38\": 3, \"107\": 1, \"82\": 6, \"51\": 2}, \"116\": {\"102\": 1, \"13\": 1, \"61\": 1, \"2\": 2, \"116\": 5, \"98\": 1, \"119\": 1}, \"12\": {\"12\": 6, \"35\": 1, \"101\": 1}}, \"W_A_2\": {\"91\": {\"91\": 2, \"17\": 1, \"111\": 1, \"37\": 1, \"124\": 2, \"29\": 2, \"77\": 1, \"48\": 1, \"59\": 1}, \"12\": {\"12\": 10, \"97\": 1, \"109\": 1}, \"101\": {\"101\": 9, \"1\": 1}, \"121\": {\"33\": 1, \"12\": 1, \"72\": 1, \"81\": 1, \"3\": 1, \"55\": 1, \"74\": 1, \"61\": 1, \"121\": 1, \"84\": 1, \"32\": 1, \"71\": 1}, \"118\": {\"118\": 12}, \"10\": {\"126\": 2, \"10\": 8, \"24\": 2}, \"117\": {\"117\": 6, \"90\": 3, \"63\": 2, \"121\": 1}, \"110\": {\"110\": 8, \"106\": 1, \"94\": 1, \"93\": 2}, \"97\": {\"97\": 8, \"28\": 1, \"15\": 1, \"73\": 1, \"93\": 1}, \"28\": {\"88\": 1, \"28\": 3, \"46\": 1, \"67\": 1, \"5\": 1, \"54\": 1, \"22\": 1, \"73\": 1, \"112\": 1, \"37\": 1}, \"88\": {\"88\": 10, \"109\": 2}, \"17\": {\"86\": 1, \"91\": 1, \"125\": 1, \"17\": 3, \"79\": 1, \"115\": 1, \"78\": 1, \"4\": 1, \"59\": 2}, \"126\": {\"126\": 8, \"10\": 1, \"109\": 1, \"87\": 2}, \"33\": {\"33\": 12}, \"86\": {\"86\": 11, \"6\": 1}, \"106\": {\"106\": 12}, \"54\": {\"54\": 7, \"9\": 2, \"19\": 1, \"56\": 2}, \"125\": {\"125\": 12}, \"83\": {\"83\": 8, \"107\": 1, \"44\": 2, \"84\": 1}, \"98\": {\"98\": 8, \"37\": 1, \"85\": 1, \"19\": 1, \"54\": 1}, \"11\": {\"11\": 10, \"8\": 1, \"27\": 1}, \"32\": {\"32\": 6, \"51\": 2, \"114\": 2, \"100\": 2}, \"42\": {\"13\": 1, \"61\": 1, \"5\": 1, \"42\": 3, \"25\": 1, \"41\": 1, \"129\": 2, \"80\": 1, \"48\": 1}, \"103\": {\"61\": 1, \"98\": 1, \"103\": 4, \"123\": 1, \"28\": 1, \"124\": 1, \"37\": 1, \"85\": 1, \"111\": 1}, \"87\": {\"87\": 10, \"88\": 1, \"113\": 1}, \"61\": {\"87\": 1, \"54\": 1, \"107\": 2, \"53\": 1, \"89\": 1, \"74\": 1, \"59\": 1, \"61\": 1, \"95\": 1, \"57\": 2}, \"13\": {\"13\": 8, \"103\": 2, \"48\": 1, \"22\": 1}, \"4\": {\"4\": 12}, \"15\": {\"15\": 9, \"72\": 1}, \"120\": {\"81\": 2, \"19\": 1, \"120\": 6, \"74\": 1, \"9\": 1, \"33\": 1}, \"80\": {\"80\": 12}, \"72\": {\"72\": 8, \"110\": 1, \"69\": 1}, \"64\": {\"89\": 2, \"52\": 1, \"92\": 2, \"82\": 1, \"64\": 2, \"45\": 1, \"61\": 2, \"63\": 1}, \"81\": {\"81\": 7, \"72\": 1, \"69\": 1, \"93\": 2, \"74\": 1}, \"102\": {\"102\": 11, \"91\": 1}, \"76\": {\"89\": 1, \"76\": 5, \"75\": 1, \"83\": 1, \"120\": 2, \"107\": 1, \"73\": 1}, \"49\": {\"89\": 1, \"76\": 1, \"107\": 1, \"47\": 2, \"114\": 1, \"49\": 2, \"55\": 1, \"21\": 1}, \"129\": {\"129\": 7, \"17\": 2, \"91\": 1, \"42\": 2}, \"89\": {\"89\": 10, \"76\": 1, \"61\": 1}, \"52\": {\"52\": 3, \"98\": 1, \"50\": 2, \"107\": 2, \"112\": 2, \"73\": 2}, \"35\": {\"35\": 11, \"74\": 1}, \"53\": {\"64\": 1, \"53\": 4, \"34\": 1, \"16\": 1, \"61\": 2, \"128\": 2, \"70\": 1}, \"112\": {\"64\": 1, \"77\": 1, \"112\": 8, \"45\": 1, \"52\": 1}, \"105\": {\"105\": 11, \"0\": 1}, \"100\": {\"64\": 1, \"100\": 5, \"35\": 2, \"7\": 1, \"32\": 2, \"40\": 1}, \"9\": {\"9\": 7, \"54\": 2, \"29\": 1, \"58\": 1, \"51\": 1}, \"82\": {\"92\": 1, \"82\": 8, \"73\": 1, \"63\": 2}, \"51\": {\"9\": 1, \"112\": 1, \"34\": 1, \"46\": 1, \"66\": 1, \"127\": 1, \"19\": 1, \"51\": 4, \"64\": 1}, \"21\": {\"21\": 12}, \"92\": {\"92\": 4, \"64\": 1, \"75\": 2, \"32\": 1, \"19\": 1, \"31\": 1, \"45\": 1, \"84\": 1}, \"69\": {\"69\": 9, \"0\": 2, \"23\": 1}, \"77\": {\"17\": 2, \"116\": 1, \"77\": 6, \"104\": 1, \"48\": 1, \"29\": 1}, \"50\": {\"46\": 1, \"50\": 2, \"73\": 2, \"123\": 2, \"102\": 1, \"45\": 2, \"52\": 1, \"129\": 1}, \"36\": {\"36\": 11, \"8\": 1}, \"16\": {\"8\": 1, \"16\": 7, \"24\": 1, \"122\": 2, \"78\": 1}, \"8\": {\"15\": 1, \"8\": 8, \"16\": 1, \"11\": 1, \"12\": 1}, \"127\": {\"127\": 12}, \"46\": {\"46\": 9, \"54\": 1}, \"84\": {\"15\": 2, \"84\": 7, \"7\": 1, \"62\": 1, \"18\": 1}, \"18\": {\"18\": 12}, \"123\": {\"46\": 2, \"123\": 4, \"77\": 1, \"42\": 1, \"56\": 1, \"73\": 1}, \"56\": {\"56\": 6, \"51\": 1, \"76\": 2, \"58\": 1, \"90\": 1, \"73\": 1}, \"26\": {\"26\": 10, \"16\": 2}, \"14\": {\"88\": 1, \"14\": 6, \"3\": 1, \"72\": 1, \"69\": 1, \"43\": 1, \"27\": 1}, \"109\": {\"88\": 1, \"109\": 7, \"108\": 2, \"78\": 2}, \"66\": {\"66\": 4, \"56\": 1, \"19\": 2, \"58\": 1, \"48\": 1, \"22\": 1, \"52\": 2}, \"24\": {\"24\": 9, \"88\": 1, \"10\": 1, \"78\": 1}, \"71\": {\"26\": 1, \"71\": 5, \"99\": 1, \"95\": 2, \"83\": 1, \"40\": 2}, \"65\": {\"75\": 2, \"65\": 6, \"25\": 1, \"52\": 1, \"64\": 1, \"17\": 1}, \"75\": {\"56\": 1, \"75\": 3, \"45\": 1, \"19\": 1, \"112\": 1, \"117\": 2, \"34\": 2, \"21\": 1}, \"111\": {\"80\": 2, \"111\": 10}, \"30\": {\"30\": 12}, \"85\": {\"29\": 1, \"25\": 1, \"90\": 1, \"85\": 6, \"56\": 2, \"48\": 1}, \"113\": {\"113\": 9, \"88\": 1}, \"45\": {\"45\": 4, \"112\": 4, \"85\": 2, \"28\": 1, \"128\": 1}, \"29\": {\"85\": 1, \"29\": 8, \"58\": 2, \"55\": 1}, \"20\": {\"18\": 2, \"20\": 2, \"0\": 3, \"16\": 3, \"110\": 1, \"97\": 1}, \"25\": {\"25\": 5, \"28\": 2, \"102\": 2, \"48\": 2, \"112\": 1}, \"0\": {\"0\": 11, \"105\": 1}, \"68\": {\"38\": 1, \"68\": 4, \"116\": 1, \"58\": 2, \"119\": 2, \"85\": 2}, \"119\": {\"67\": 1, \"38\": 1, \"119\": 3, \"68\": 2, \"73\": 3, \"13\": 2}, \"90\": {\"90\": 9, \"56\": 1, \"53\": 1, \"58\": 1}, \"38\": {\"90\": 2, \"38\": 6, \"55\": 2, \"2\": 1, \"116\": 1}, \"99\": {\"99\": 8, \"127\": 1, \"32\": 1, \"33\": 1, \"60\": 1}, \"1\": {\"99\": 2, \"1\": 6, \"72\": 1, \"40\": 2, \"71\": 1}, \"67\": {\"68\": 1, \"38\": 1, \"67\": 3, \"80\": 1, \"103\": 1, \"51\": 1, \"123\": 1, \"109\": 1, \"111\": 1, \"102\": 1}, \"63\": {\"90\": 1, \"63\": 9, \"92\": 1, \"117\": 1}, \"34\": {\"46\": 1, \"34\": 2, \"51\": 2, \"2\": 1, \"114\": 1, \"75\": 1, \"89\": 2, \"52\": 1, \"82\": 1}, \"108\": {\"108\": 10, \"43\": 2}, \"40\": {\"40\": 6, \"49\": 1, \"47\": 1, \"1\": 2, \"14\": 1, \"100\": 1}, \"47\": {\"47\": 5, \"66\": 1, \"32\": 1, \"68\": 1, \"51\": 2, \"35\": 1, \"81\": 1}, \"37\": {\"37\": 7, \"102\": 1, \"48\": 1, \"116\": 2, \"22\": 1}, \"78\": {\"78\": 10, \"21\": 2}, \"96\": {\"96\": 8, \"72\": 2, \"23\": 2}, \"43\": {\"43\": 11, \"21\": 1}, \"5\": {\"5\": 7, \"42\": 1, \"59\": 1, \"22\": 1}, \"124\": {\"124\": 11, \"42\": 1}, \"44\": {\"44\": 11, \"83\": 1}, \"41\": {\"124\": 5, \"41\": 3, \"25\": 1, \"116\": 1, \"8\": 1, \"59\": 1}, \"116\": {\"116\": 5, \"112\": 1, \"37\": 2, \"5\": 1, \"68\": 1, \"50\": 1, \"103\": 1}, \"19\": {\"89\": 2, \"54\": 2, \"19\": 5, \"51\": 2, \"38\": 1}, \"115\": {\"115\": 10, \"79\": 2}, \"95\": {\"3\": 3, \"95\": 4, \"70\": 1, \"89\": 1, \"40\": 2, \"83\": 1}, \"3\": {\"3\": 9, \"106\": 1}, \"59\": {\"86\": 2, \"59\": 8, \"80\": 1, \"115\": 1}, \"55\": {\"92\": 1, \"51\": 1, \"38\": 1, \"55\": 7, \"95\": 1, \"66\": 1}, \"70\": {\"70\": 11, \"109\": 1}, \"6\": {\"6\": 11, \"59\": 1}, \"2\": {\"38\": 1, \"2\": 2, \"73\": 1, \"116\": 1, \"45\": 1, \"56\": 1, \"34\": 2, \"37\": 1, \"128\": 1, \"68\": 1}, \"48\": {\"86\": 1, \"77\": 1, \"48\": 4, \"104\": 2, \"29\": 1, \"42\": 1, \"59\": 1, \"68\": 1}, \"23\": {\"122\": 2, \"23\": 6, \"96\": 1, \"39\": 1, \"87\": 1, \"60\": 1}, \"7\": {\"84\": 1, \"7\": 10, \"12\": 1}, \"122\": {\"122\": 8, \"16\": 2, \"118\": 1, \"60\": 1}, \"57\": {\"57\": 9, \"108\": 1, \"89\": 1, \"30\": 1}, \"39\": {\"39\": 8, \"70\": 1, \"21\": 1}, \"79\": {\"79\": 12}, \"27\": {\"27\": 10}, \"74\": {\"74\": 3, \"70\": 1, \"76\": 1, \"128\": 2, \"31\": 2, \"78\": 1, \"8\": 1, \"61\": 1}, \"73\": {\"52\": 3, \"73\": 6, \"128\": 1, \"107\": 2}, \"62\": {\"62\": 9, \"94\": 1, \"105\": 2}, \"107\": {\"107\": 8, \"120\": 1, \"76\": 2, \"32\": 1}, \"128\": {\"34\": 1, \"128\": 6, \"9\": 2, \"57\": 3}, \"60\": {\"60\": 9, \"93\": 1, \"23\": 2}, \"114\": {\"114\": 9, \"53\": 1, \"47\": 1, \"32\": 1}, \"22\": {\"68\": 2, \"48\": 3, \"104\": 1, \"22\": 2, \"116\": 1, \"103\": 1, \"13\": 1, \"98\": 1}, \"93\": {\"93\": 11, \"26\": 1}, \"94\": {\"60\": 2, \"94\": 6, \"62\": 1, \"12\": 1, \"88\": 1, \"110\": 1}, \"31\": {\"31\": 9, \"74\": 1}, \"104\": {\"111\": 1, \"104\": 6, \"22\": 2, \"124\": 2, \"42\": 1}, \"58\": {\"107\": 1, \"58\": 8, \"9\": 1, \"128\": 1, \"86\": 1}}, \"C_A_2\": {\"14\": {\"56\": 1, \"14\": 7, \"41\": 2, \"36\": 1, \"35\": 1}, \"22\": {\"22\": 9, \"0\": 3}, \"9\": {\"8\": 2, \"9\": 10}, \"47\": {\"47\": 7, \"22\": 1, \"1\": 1, \"57\": 2, \"48\": 1}, \"13\": {\"13\": 10, \"38\": 2}, \"8\": {\"8\": 12}, \"7\": {\"7\": 6, \"49\": 1, \"23\": 1, \"39\": 2, \"17\": 2}, \"49\": {\"49\": 7, \"41\": 1, \"54\": 1, \"39\": 1, \"23\": 1, \"43\": 1}, \"20\": {\"20\": 12}, \"16\": {\"16\": 9, \"11\": 2, \"10\": 1}, \"34\": {\"34\": 7, \"24\": 1, \"19\": 1, \"25\": 1, \"28\": 1, \"49\": 1}, \"56\": {\"56\": 6, \"22\": 2, \"57\": 2, \"51\": 2}, \"38\": {\"13\": 2, \"38\": 8}, \"4\": {\"4\": 11, \"40\": 1}, \"43\": {\"43\": 9, \"24\": 1}, \"26\": {\"14\": 1, \"26\": 6, \"53\": 3}, \"35\": {\"54\": 2, \"17\": 1, \"2\": 1, \"35\": 3, \"39\": 1, \"14\": 2, \"33\": 2}, \"31\": {\"31\": 11, \"42\": 1}, \"1\": {\"1\": 10, \"6\": 1, \"44\": 1}, \"39\": {\"39\": 11, \"55\": 1}, \"5\": {\"5\": 12}, \"24\": {\"24\": 12}, \"54\": {\"54\": 9, \"17\": 1}, \"23\": {\"31\": 2, \"23\": 7, \"53\": 1, \"43\": 1, \"26\": 1}, \"51\": {\"51\": 12}, \"27\": {\"27\": 10}, \"15\": {\"15\": 9, \"11\": 3}, \"0\": {\"0\": 12}, \"19\": {\"19\": 8, \"49\": 2}, \"18\": {\"18\": 8}, \"30\": {\"30\": 10, \"40\": 2}, \"55\": {\"55\": 10}, \"57\": {\"57\": 12}, \"2\": {\"2\": 12}, \"12\": {\"12\": 8}, \"41\": {\"41\": 9, \"45\": 1, \"46\": 1, \"51\": 1}, \"42\": {\"42\": 8, \"34\": 3, \"49\": 1}, \"48\": {\"48\": 11, \"40\": 1}, \"37\": {\"37\": 9, \"39\": 1, \"33\": 1, \"13\": 1}, \"6\": {\"6\": 10}, \"11\": {\"11\": 8, \"10\": 2}, \"45\": {\"45\": 8}, \"21\": {\"21\": 12}, \"46\": {\"46\": 9, \"5\": 1}, \"25\": {\"25\": 9, \"28\": 1, \"16\": 1, \"15\": 1}, \"36\": {\"36\": 8, \"33\": 2}, \"53\": {\"53\": 10, \"55\": 1, \"31\": 1}, \"28\": {\"28\": 12}, \"40\": {\"40\": 10}, \"33\": {\"51\": 2, \"41\": 2, \"33\": 5, \"17\": 1}, \"44\": {\"44\": 9, \"21\": 1}, \"3\": {\"3\": 11, \"6\": 1}, \"17\": {\"17\": 12}, \"32\": {\"32\": 9, \"36\": 1}, \"10\": {\"10\": 10}, \"52\": {\"52\": 10}, \"50\": {\"50\": 8}, \"29\": {\"29\": 4, \"57\": 2}}}, \"per_domain_accuracy\": {\"ORACLE.run1_14\": {\"accuracy\": 0.6872395833333333, \"source?\": true}, \"ORACLE.run1_20\": {\"accuracy\": 0.5390625, \"source?\": true}, \"ORACLE.run1_38\": {\"accuracy\": 0.6036458333333333, \"source?\": true}, \"ORACLE.run1_8\": {\"accuracy\": 0.6666666666666666, \"source?\": true}, \"ORACLE.run1_50\": {\"accuracy\": 0.4244791666666667, \"source?\": true}, \"ORACLE.run1_32\": {\"accuracy\": 0.5630208333333333, \"source?\": true}, \"ORACLE.run1_26\": {\"accuracy\": 0.48333333333333334, \"source?\": true}, \"ORACLE.run1_44\": {\"accuracy\": 0.39010416666666664, \"source?\": true}, \"C_A_3\": {\"accuracy\": 0.825, \"source?\": false}, \"C_A_4\": {\"accuracy\": 0.7921875, \"source?\": false}, \"W_A_3\": {\"accuracy\": 0.6315104166666666, \"source?\": false}, \"C_A_5\": {\"accuracy\": 0.859375, \"source?\": false}, \"C_A_1\": {\"accuracy\": 0.86875, \"source?\": false}, \"W_A_4\": {\"accuracy\": 0.6197916666666666, \"source?\": false}, \"W_A_1\": {\"accuracy\": 0.6341145833333334, \"source?\": false}, \"W_A_2\": {\"accuracy\": 0.6171875, \"source?\": false}, \"C_A_2\": {\"accuracy\": 0.8328125, \"source?\": false}}}, \"history\": {\"epoch_indices\": [1, 2, 3, 4, 5, 6, 7], \"train_label_loss\": [0.7076915008204413, 7.745678782267939, 1.212685874707642, 1.011056420546291, 0.8619399279666443, 0.7753059572606746, 0.7583728116260664], \"source_val_label_loss\": [448.26776123046875, 0.825603187084198, 1.4823194742202759, 0.8149734139442444, 0.8578351736068726, 0.7596315741539001, 0.749030590057373], \"target_val_label_loss\": [55242.4609375, 7141.3779296875, 5366.9921875, 5421.970703125, 20515.884765625, 16222.5771484375, 17786.72265625], \"source_val_acc_label\": [0.47727864583333335, 0.6922200520833334, 0.5446940104166667, 0.6996419270833333, 0.6806315104166667, 0.7255208333333333, 0.7277669270833333], \"target_val_acc_label\": [0.535958904109589, 0.6235017123287672, 0.6975599315068494, 0.6730522260273972, 0.6726241438356164, 0.6619220890410958, 0.6667380136986302]}, \"dataset_metrics\": {\"source\": {\"train\": {\"n_unique_x\": 179200, \"n_unique_y\": 16, \"n_batch/episode\": 6720}, \"val\": {\"n_unique_x\": 38400, \"n_unique_y\": 16, \"n_batch/episode\": 960}, \"test\": {\"n_unique_x\": 38400, \"n_unique_y\": 16, \"n_batch/episode\": 960}}, \"target\": {\"train\": {\"n_unique_x\": 56700, \"n_unique_y\": 130, \"n_batch/episode\": 2080}, \"val\": {\"n_unique_x\": 12132, \"n_unique_y\": 130, \"n_batch/episode\": 292}, \"test\": {\"n_unique_x\": 12132, \"n_unique_y\": 130, \"n_batch/episode\": 292}}}}'"
      ]
     },
     "execution_count": 29,
     "metadata": {},
     "output_type": "execute_result"
    }
   ],
   "source": [
    "json.dumps(experiment)"
   ]
  }
 ],
 "metadata": {
  "celltoolbar": "Tags",
  "kernelspec": {
   "display_name": "Python 3 (ipykernel)",
   "language": "python",
   "name": "python3"
  },
  "language_info": {
   "codemirror_mode": {
    "name": "ipython",
    "version": 3
   },
   "file_extension": ".py",
   "mimetype": "text/x-python",
   "name": "python",
   "nbconvert_exporter": "python",
   "pygments_lexer": "ipython3",
   "version": "3.8.10"
  },
  "papermill": {
   "default_parameters": {},
   "duration": 1362.534717,
   "end_time": "2022-03-18T09:09:43.695869",
   "environment_variables": {},
   "exception": null,
   "input_path": "/mnt/wd500GB/CSC500/csc500-main/csc500-notebooks/templates/tl_ptn_template.ipynb",
   "output_path": "trial.ipynb",
   "parameters": {
    "parameters": {
     "BEST_MODEL_PATH": "./best_model.pth",
     "NUM_LOGS_PER_EPOCH": 10,
     "criteria_for_best": "target_loss",
     "dataset_seed": 1337,
     "datasets": [
      {
       "domain_prefix": "C_A_",
       "domains": [
        1,
        2,
        3,
        4,
        5
       ],
       "episode_transforms": [],
       "labels": [
        "1-10.",
        "1-11.",
        "1-15.",
        "1-16.",
        "1-17.",
        "1-18.",
        "1-19.",
        "10-4.",
        "10-7.",
        "11-1.",
        "11-14.",
        "11-17.",
        "11-20.",
        "11-7.",
        "13-20.",
        "13-8.",
        "14-10.",
        "14-11.",
        "14-14.",
        "14-7.",
        "15-1.",
        "15-20.",
        "16-1.",
        "16-16.",
        "17-10.",
        "17-11.",
        "17-2.",
        "19-1.",
        "19-16.",
        "19-19.",
        "19-20.",
        "19-3.",
        "2-10.",
        "2-11.",
        "2-17.",
        "2-18.",
        "2-20.",
        "2-3.",
        "2-4.",
        "2-5.",
        "2-6.",
        "2-7.",
        "2-8.",
        "3-13.",
        "3-18.",
        "3-3.",
        "4-1.",
        "4-10.",
        "4-11.",
        "4-19.",
        "5-5.",
        "6-15.",
        "7-10.",
        "7-14.",
        "8-18.",
        "8-20.",
        "8-3.",
        "8-8."
       ],
       "num_examples_per_domain_per_label": 100,
       "pickle_path": "/mnt/wd500GB/CSC500/csc500-main/datasets/cores.stratified_ds.2022A.pkl",
       "source_or_target_dataset": "target",
       "x_transforms": [
        "jitter_256_5",
        "take_200"
       ]
      },
      {
       "domain_prefix": "W_A_",
       "domains": [
        1,
        2,
        3,
        4
       ],
       "episode_transforms": [],
       "labels": [
        "1-10",
        "1-12",
        "1-14",
        "1-16",
        "1-18",
        "1-19",
        "1-8",
        "10-11",
        "10-17",
        "10-4",
        "10-7",
        "11-1",
        "11-10",
        "11-19",
        "11-20",
        "11-4",
        "11-7",
        "12-19",
        "12-20",
        "12-7",
        "13-14",
        "13-18",
        "13-19",
        "13-20",
        "13-3",
        "13-7",
        "14-10",
        "14-11",
        "14-12",
        "14-13",
        "14-14",
        "14-19",
        "14-20",
        "14-7",
        "14-8",
        "14-9",
        "15-1",
        "15-19",
        "15-6",
        "16-1",
        "16-16",
        "16-19",
        "16-20",
        "17-10",
        "17-11",
        "18-1",
        "18-10",
        "18-11",
        "18-12",
        "18-13",
        "18-14",
        "18-15",
        "18-16",
        "18-17",
        "18-19",
        "18-2",
        "18-20",
        "18-4",
        "18-5",
        "18-7",
        "18-8",
        "18-9",
        "19-1",
        "19-10",
        "19-11",
        "19-12",
        "19-13",
        "19-14",
        "19-15",
        "19-19",
        "19-2",
        "19-20",
        "19-3",
        "19-4",
        "19-6",
        "19-7",
        "19-8",
        "19-9",
        "2-1",
        "2-13",
        "2-15",
        "2-3",
        "2-4",
        "2-5",
        "2-6",
        "2-7",
        "2-8",
        "20-1",
        "20-12",
        "20-14",
        "20-15",
        "20-16",
        "20-18",
        "20-19",
        "20-20",
        "20-3",
        "20-4",
        "20-5",
        "20-7",
        "20-8",
        "3-1",
        "3-13",
        "3-18",
        "3-2",
        "3-8",
        "4-1",
        "4-10",
        "4-11",
        "5-1",
        "5-5",
        "6-1",
        "6-15",
        "6-6",
        "7-10",
        "7-11",
        "7-12",
        "7-13",
        "7-14",
        "7-7",
        "7-8",
        "7-9",
        "8-1",
        "8-13",
        "8-14",
        "8-18",
        "8-20",
        "8-3",
        "8-8",
        "9-1",
        "9-7"
       ],
       "num_examples_per_domain_per_label": 100,
       "pickle_path": "/mnt/wd500GB/CSC500/csc500-main/datasets/wisig.node3-19.stratified_ds.2022A.pkl",
       "source_or_target_dataset": "target",
       "x_transforms": [
        "jitter_256_5",
        "take_200"
       ]
      },
      {
       "domain_prefix": "ORACLE.run1_",
       "domains": [
        32,
        38,
        8,
        44,
        14,
        50,
        20,
        26
       ],
       "episode_transforms": [],
       "labels": [
        "3123D52",
        "3123D65",
        "3123D79",
        "3123D80",
        "3123D54",
        "3123D70",
        "3123D7B",
        "3123D89",
        "3123D58",
        "3123D76",
        "3123D7D",
        "3123EFE",
        "3123D64",
        "3123D78",
        "3123D7E",
        "3124E4A"
       ],
       "num_examples_per_domain_per_label": 2000,
       "pickle_path": "/mnt/wd500GB/CSC500/csc500-main/datasets/oracle.Run1_framed_2000Examples_stratified_ds.2022A.pkl",
       "source_or_target_dataset": "source",
       "x_transforms": [
        "jitter_256_5",
        "take_200",
        "resample_20Msps_to_25Msps"
       ]
      }
     ],
     "device": "cuda",
     "experiment_name": "tl_3-jitter5:oracle.run1.framed -> cores+wisig",
     "lr": 0.001,
     "n_epoch": 50,
     "n_query": 2,
     "n_shot": 3,
     "n_way": 16,
     "patience": 3,
     "seed": 1337,
     "test_k_factor": 2,
     "torch_default_dtype": "torch.float32",
     "train_k_factor": 3,
     "val_k_factor": 2,
     "x_net": [
      {
       "class": "nnReshape",
       "kargs": {
        "shape": [
         -1,
         1,
         2,
         256
        ]
       }
      },
      {
       "class": "Conv2d",
       "kargs": {
        "bias": false,
        "in_channels": 1,
        "kernel_size": [
         1,
         7
        ],
        "out_channels": 256,
        "padding": [
         0,
         3
        ]
       }
      },
      {
       "class": "ReLU",
       "kargs": {
        "inplace": true
       }
      },
      {
       "class": "BatchNorm2d",
       "kargs": {
        "num_features": 256
       }
      },
      {
       "class": "Conv2d",
       "kargs": {
        "bias": true,
        "in_channels": 256,
        "kernel_size": [
         2,
         7
        ],
        "out_channels": 80,
        "padding": [
         0,
         3
        ]
       }
      },
      {
       "class": "ReLU",
       "kargs": {
        "inplace": true
       }
      },
      {
       "class": "BatchNorm2d",
       "kargs": {
        "num_features": 80
       }
      },
      {
       "class": "Flatten",
       "kargs": {}
      },
      {
       "class": "Linear",
       "kargs": {
        "in_features": 20480,
        "out_features": 256
       }
      },
      {
       "class": "ReLU",
       "kargs": {
        "inplace": true
       }
      },
      {
       "class": "BatchNorm1d",
       "kargs": {
        "num_features": 256
       }
      },
      {
       "class": "Linear",
       "kargs": {
        "in_features": 256,
        "out_features": 256
       }
      }
     ]
    }
   },
   "start_time": "2022-03-18T08:47:01.161152",
   "version": "2.3.4"
  }
 },
 "nbformat": 4,
 "nbformat_minor": 5
}