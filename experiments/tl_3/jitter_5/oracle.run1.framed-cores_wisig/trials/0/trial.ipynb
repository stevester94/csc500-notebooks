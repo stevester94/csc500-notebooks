{
 "cells": [
  {
   "cell_type": "markdown",
   "id": "9fea5f46",
   "metadata": {
    "papermill": {
     "duration": 0.018747,
     "end_time": "2022-03-18T07:55:06.572774",
     "exception": false,
     "start_time": "2022-03-18T07:55:06.554027",
     "status": "completed"
    },
    "tags": []
   },
   "source": [
    "# Transfer Learning Template"
   ]
  },
  {
   "cell_type": "code",
   "execution_count": 1,
   "id": "0902182a",
   "metadata": {
    "execution": {
     "iopub.execute_input": "2022-03-18T07:55:06.612228Z",
     "iopub.status.busy": "2022-03-18T07:55:06.605925Z",
     "iopub.status.idle": "2022-03-18T07:55:07.515426Z",
     "shell.execute_reply": "2022-03-18T07:55:07.515111Z"
    },
    "papermill": {
     "duration": 0.929956,
     "end_time": "2022-03-18T07:55:07.515499",
     "exception": false,
     "start_time": "2022-03-18T07:55:06.585543",
     "status": "completed"
    },
    "tags": []
   },
   "outputs": [],
   "source": [
    "%load_ext autoreload\n",
    "%autoreload 2\n",
    "%matplotlib inline\n",
    "\n",
    "    \n",
    "import os, json, sys, time, random\n",
    "import numpy as np\n",
    "import torch\n",
    "from torch.optim import Adam\n",
    "from  easydict import EasyDict\n",
    "import matplotlib.pyplot as plt\n",
    "\n",
    "from steves_models.steves_ptn import Steves_Prototypical_Network\n",
    "\n",
    "from steves_utils.lazy_iterable_wrapper import Lazy_Iterable_Wrapper\n",
    "from steves_utils.iterable_aggregator import Iterable_Aggregator\n",
    "from steves_utils.ptn_train_eval_test_jig import  PTN_Train_Eval_Test_Jig\n",
    "from steves_utils.torch_sequential_builder import build_sequential\n",
    "from steves_utils.torch_utils import get_dataset_metrics, ptn_confusion_by_domain_over_dataloader\n",
    "from steves_utils.utils_v2 import (per_domain_accuracy_from_confusion, get_datasets_base_path)\n",
    "from steves_utils.PTN.utils import independent_accuracy_assesment\n",
    "\n",
    "from torch.utils.data import DataLoader\n",
    "\n",
    "from steves_utils.stratified_dataset.episodic_accessor import Episodic_Accessor_Factory\n",
    "\n",
    "from steves_utils.ptn_do_report import (\n",
    "    get_loss_curve,\n",
    "    get_results_table,\n",
    "    get_parameters_table,\n",
    "    get_domain_accuracies,\n",
    ")\n",
    "\n",
    "from steves_utils.transforms import get_chained_transform"
   ]
  },
  {
   "cell_type": "markdown",
   "id": "41c840b4",
   "metadata": {
    "papermill": {
     "duration": 0.013466,
     "end_time": "2022-03-18T07:55:07.542885",
     "exception": false,
     "start_time": "2022-03-18T07:55:07.529419",
     "status": "completed"
    },
    "tags": []
   },
   "source": [
    "# Allowed Parameters\n",
    "These are allowed parameters, not defaults\n",
    "Each of these values need to be present in the injected parameters (the notebook will raise an exception if they are not present)\n",
    "\n",
    "Papermill uses the cell tag \"parameters\" to inject the real parameters below this cell.\n",
    "Enable tags to see what I mean"
   ]
  },
  {
   "cell_type": "code",
   "execution_count": 2,
   "id": "fd44eb83",
   "metadata": {
    "execution": {
     "iopub.execute_input": "2022-03-18T07:55:07.573241Z",
     "iopub.status.busy": "2022-03-18T07:55:07.572971Z",
     "iopub.status.idle": "2022-03-18T07:55:07.587675Z",
     "shell.execute_reply": "2022-03-18T07:55:07.587169Z"
    },
    "papermill": {
     "duration": 0.03135,
     "end_time": "2022-03-18T07:55:07.587779",
     "exception": false,
     "start_time": "2022-03-18T07:55:07.556429",
     "status": "completed"
    },
    "tags": []
   },
   "outputs": [],
   "source": [
    "required_parameters = {\n",
    "    \"experiment_name\",\n",
    "    \"lr\",\n",
    "    \"device\",\n",
    "    \"seed\",\n",
    "    \"dataset_seed\",\n",
    "    \"n_shot\",\n",
    "    \"n_query\",\n",
    "    \"n_way\",\n",
    "    \"train_k_factor\",\n",
    "    \"val_k_factor\",\n",
    "    \"test_k_factor\",\n",
    "    \"n_epoch\",\n",
    "    \"patience\",\n",
    "    \"criteria_for_best\",\n",
    "    \"x_net\",\n",
    "    \"datasets\",\n",
    "    \"torch_default_dtype\",\n",
    "    \"NUM_LOGS_PER_EPOCH\",\n",
    "    \"BEST_MODEL_PATH\",\n",
    "    \"x_shape\",\n",
    "}"
   ]
  },
  {
   "cell_type": "code",
   "execution_count": 3,
   "id": "fa3f0049",
   "metadata": {
    "execution": {
     "iopub.execute_input": "2022-03-18T07:55:07.626390Z",
     "iopub.status.busy": "2022-03-18T07:55:07.626095Z",
     "iopub.status.idle": "2022-03-18T07:55:07.643532Z",
     "shell.execute_reply": "2022-03-18T07:55:07.643081Z"
    },
    "papermill": {
     "duration": 0.038188,
     "end_time": "2022-03-18T07:55:07.643643",
     "exception": false,
     "start_time": "2022-03-18T07:55:07.605455",
     "status": "completed"
    },
    "tags": [
     "parameters"
    ]
   },
   "outputs": [],
   "source": [
    "from steves_utils.CORES.utils import (\n",
    "    ALL_NODES,\n",
    "    ALL_NODES_MINIMUM_1000_EXAMPLES,\n",
    "    ALL_DAYS\n",
    ")\n",
    "\n",
    "from steves_utils.ORACLE.utils_v2 import (\n",
    "    ALL_DISTANCES_FEET_NARROWED,\n",
    "    ALL_RUNS,\n",
    "    ALL_SERIAL_NUMBERS,\n",
    ")\n",
    "\n",
    "standalone_parameters = {}\n",
    "standalone_parameters[\"experiment_name\"] = \"STANDALONE PTN\"\n",
    "standalone_parameters[\"lr\"] = 0.001\n",
    "standalone_parameters[\"device\"] = \"cuda\"\n",
    "\n",
    "standalone_parameters[\"seed\"] = 1337\n",
    "standalone_parameters[\"dataset_seed\"] = 1337\n",
    "\n",
    "standalone_parameters[\"n_way\"] = 8\n",
    "standalone_parameters[\"n_shot\"] = 3\n",
    "standalone_parameters[\"n_query\"]  = 2\n",
    "standalone_parameters[\"train_k_factor\"] = 1\n",
    "standalone_parameters[\"val_k_factor\"] = 2\n",
    "standalone_parameters[\"test_k_factor\"] = 2\n",
    "\n",
    "\n",
    "standalone_parameters[\"n_epoch\"] = 50\n",
    "\n",
    "standalone_parameters[\"patience\"] = 10\n",
    "standalone_parameters[\"criteria_for_best\"] = \"source_loss\"\n",
    "\n",
    "standalone_parameters[\"datasets\"] = [\n",
    "    {\n",
    "        \"labels\": ALL_SERIAL_NUMBERS,\n",
    "        \"domains\": ALL_DISTANCES_FEET_NARROWED,\n",
    "        \"num_examples_per_domain_per_label\": 100,\n",
    "        \"pickle_path\": os.path.join(get_datasets_base_path(), \"oracle.Run1_framed_2000Examples_stratified_ds.2022A.pkl\"),\n",
    "        \"source_or_target_dataset\": \"source\",\n",
    "        \"x_transforms\": [\"unit_mag\", \"minus_two\"],\n",
    "        \"episode_transforms\": [],\n",
    "        \"domain_prefix\": \"ORACLE_\"\n",
    "    },\n",
    "    {\n",
    "        \"labels\": ALL_NODES,\n",
    "        \"domains\": ALL_DAYS,\n",
    "        \"num_examples_per_domain_per_label\": 100,\n",
    "        \"pickle_path\": os.path.join(get_datasets_base_path(), \"cores.stratified_ds.2022A.pkl\"),\n",
    "        \"source_or_target_dataset\": \"target\",\n",
    "        \"x_transforms\": [\"unit_power\", \"times_zero\"],\n",
    "        \"episode_transforms\": [],\n",
    "        \"domain_prefix\": \"CORES_\"\n",
    "    }   \n",
    "]\n",
    "\n",
    "standalone_parameters[\"torch_default_dtype\"] = \"torch.float32\" \n",
    "\n",
    "\n",
    "\n",
    "standalone_parameters[\"x_net\"] =     [\n",
    "    {\"class\": \"nnReshape\", \"kargs\": {\"shape\":[-1, 1, 2, 256]}},\n",
    "    {\"class\": \"Conv2d\", \"kargs\": { \"in_channels\":1, \"out_channels\":256, \"kernel_size\":(1,7), \"bias\":False, \"padding\":(0,3), },},\n",
    "    {\"class\": \"ReLU\", \"kargs\": {\"inplace\": True}},\n",
    "    {\"class\": \"BatchNorm2d\", \"kargs\": {\"num_features\":256}},\n",
    "\n",
    "    {\"class\": \"Conv2d\", \"kargs\": { \"in_channels\":256, \"out_channels\":80, \"kernel_size\":(2,7), \"bias\":True, \"padding\":(0,3), },},\n",
    "    {\"class\": \"ReLU\", \"kargs\": {\"inplace\": True}},\n",
    "    {\"class\": \"BatchNorm2d\", \"kargs\": {\"num_features\":80}},\n",
    "    {\"class\": \"Flatten\", \"kargs\": {}},\n",
    "\n",
    "    {\"class\": \"Linear\", \"kargs\": {\"in_features\": 80*256, \"out_features\": 256}}, # 80 units per IQ pair\n",
    "    {\"class\": \"ReLU\", \"kargs\": {\"inplace\": True}},\n",
    "    {\"class\": \"BatchNorm1d\", \"kargs\": {\"num_features\":256}},\n",
    "\n",
    "    {\"class\": \"Linear\", \"kargs\": {\"in_features\": 256, \"out_features\": 256}},\n",
    "]\n",
    "\n",
    "# Parameters relevant to results\n",
    "# These parameters will basically never need to change\n",
    "standalone_parameters[\"NUM_LOGS_PER_EPOCH\"] = 10\n",
    "standalone_parameters[\"BEST_MODEL_PATH\"] = \"./best_model.pth\"\n",
    "\n",
    "\n",
    "\n",
    "\n"
   ]
  },
  {
   "cell_type": "code",
   "execution_count": 4,
   "id": "417cfd1a",
   "metadata": {
    "execution": {
     "iopub.execute_input": "2022-03-18T07:55:07.689784Z",
     "iopub.status.busy": "2022-03-18T07:55:07.684219Z",
     "iopub.status.idle": "2022-03-18T07:55:07.703801Z",
     "shell.execute_reply": "2022-03-18T07:55:07.703363Z"
    },
    "papermill": {
     "duration": 0.040052,
     "end_time": "2022-03-18T07:55:07.703906",
     "exception": false,
     "start_time": "2022-03-18T07:55:07.663854",
     "status": "completed"
    },
    "tags": [
     "injected-parameters"
    ]
   },
   "outputs": [],
   "source": [
    "# Parameters\n",
    "parameters = {\n",
    "    \"experiment_name\": \"tl_3-jitter5:oracle.run1.framed -> cores+wisig\",\n",
    "    \"device\": \"cuda\",\n",
    "    \"lr\": 0.001,\n",
    "    \"seed\": 1337,\n",
    "    \"dataset_seed\": 1337,\n",
    "    \"n_shot\": 3,\n",
    "    \"n_query\": 2,\n",
    "    \"train_k_factor\": 3,\n",
    "    \"val_k_factor\": 2,\n",
    "    \"test_k_factor\": 2,\n",
    "    \"torch_default_dtype\": \"torch.float32\",\n",
    "    \"n_epoch\": 50,\n",
    "    \"patience\": 3,\n",
    "    \"criteria_for_best\": \"target_loss\",\n",
    "    \"x_net\": [\n",
    "        {\"class\": \"nnReshape\", \"kargs\": {\"shape\": [-1, 1, 2, 256]}},\n",
    "        {\n",
    "            \"class\": \"Conv2d\",\n",
    "            \"kargs\": {\n",
    "                \"in_channels\": 1,\n",
    "                \"out_channels\": 256,\n",
    "                \"kernel_size\": [1, 7],\n",
    "                \"bias\": False,\n",
    "                \"padding\": [0, 3],\n",
    "            },\n",
    "        },\n",
    "        {\"class\": \"ReLU\", \"kargs\": {\"inplace\": True}},\n",
    "        {\"class\": \"BatchNorm2d\", \"kargs\": {\"num_features\": 256}},\n",
    "        {\n",
    "            \"class\": \"Conv2d\",\n",
    "            \"kargs\": {\n",
    "                \"in_channels\": 256,\n",
    "                \"out_channels\": 80,\n",
    "                \"kernel_size\": [2, 7],\n",
    "                \"bias\": True,\n",
    "                \"padding\": [0, 3],\n",
    "            },\n",
    "        },\n",
    "        {\"class\": \"ReLU\", \"kargs\": {\"inplace\": True}},\n",
    "        {\"class\": \"BatchNorm2d\", \"kargs\": {\"num_features\": 80}},\n",
    "        {\"class\": \"Flatten\", \"kargs\": {}},\n",
    "        {\"class\": \"Linear\", \"kargs\": {\"in_features\": 20480, \"out_features\": 256}},\n",
    "        {\"class\": \"ReLU\", \"kargs\": {\"inplace\": True}},\n",
    "        {\"class\": \"BatchNorm1d\", \"kargs\": {\"num_features\": 256}},\n",
    "        {\"class\": \"Linear\", \"kargs\": {\"in_features\": 256, \"out_features\": 256}},\n",
    "    ],\n",
    "    \"NUM_LOGS_PER_EPOCH\": 10,\n",
    "    \"BEST_MODEL_PATH\": \"./best_model.pth\",\n",
    "    \"n_way\": 16,\n",
    "    \"datasets\": [\n",
    "        {\n",
    "            \"labels\": [\n",
    "                \"1-10.\",\n",
    "                \"1-11.\",\n",
    "                \"1-15.\",\n",
    "                \"1-16.\",\n",
    "                \"1-17.\",\n",
    "                \"1-18.\",\n",
    "                \"1-19.\",\n",
    "                \"10-4.\",\n",
    "                \"10-7.\",\n",
    "                \"11-1.\",\n",
    "                \"11-14.\",\n",
    "                \"11-17.\",\n",
    "                \"11-20.\",\n",
    "                \"11-7.\",\n",
    "                \"13-20.\",\n",
    "                \"13-8.\",\n",
    "                \"14-10.\",\n",
    "                \"14-11.\",\n",
    "                \"14-14.\",\n",
    "                \"14-7.\",\n",
    "                \"15-1.\",\n",
    "                \"15-20.\",\n",
    "                \"16-1.\",\n",
    "                \"16-16.\",\n",
    "                \"17-10.\",\n",
    "                \"17-11.\",\n",
    "                \"17-2.\",\n",
    "                \"19-1.\",\n",
    "                \"19-16.\",\n",
    "                \"19-19.\",\n",
    "                \"19-20.\",\n",
    "                \"19-3.\",\n",
    "                \"2-10.\",\n",
    "                \"2-11.\",\n",
    "                \"2-17.\",\n",
    "                \"2-18.\",\n",
    "                \"2-20.\",\n",
    "                \"2-3.\",\n",
    "                \"2-4.\",\n",
    "                \"2-5.\",\n",
    "                \"2-6.\",\n",
    "                \"2-7.\",\n",
    "                \"2-8.\",\n",
    "                \"3-13.\",\n",
    "                \"3-18.\",\n",
    "                \"3-3.\",\n",
    "                \"4-1.\",\n",
    "                \"4-10.\",\n",
    "                \"4-11.\",\n",
    "                \"4-19.\",\n",
    "                \"5-5.\",\n",
    "                \"6-15.\",\n",
    "                \"7-10.\",\n",
    "                \"7-14.\",\n",
    "                \"8-18.\",\n",
    "                \"8-20.\",\n",
    "                \"8-3.\",\n",
    "                \"8-8.\",\n",
    "            ],\n",
    "            \"domains\": [1, 2, 3, 4, 5],\n",
    "            \"num_examples_per_domain_per_label\": 100,\n",
    "            \"pickle_path\": \"/mnt/wd500GB/CSC500/csc500-main/datasets/cores.stratified_ds.2022A.pkl\",\n",
    "            \"source_or_target_dataset\": \"target\",\n",
    "            \"x_transforms\": [\"unit_power\", \"jitter_256_5\", \"take_200\"],\n",
    "            \"episode_transforms\": [],\n",
    "            \"domain_prefix\": \"C_A_\",\n",
    "        },\n",
    "        {\n",
    "            \"labels\": [\n",
    "                \"1-10\",\n",
    "                \"1-12\",\n",
    "                \"1-14\",\n",
    "                \"1-16\",\n",
    "                \"1-18\",\n",
    "                \"1-19\",\n",
    "                \"1-8\",\n",
    "                \"10-11\",\n",
    "                \"10-17\",\n",
    "                \"10-4\",\n",
    "                \"10-7\",\n",
    "                \"11-1\",\n",
    "                \"11-10\",\n",
    "                \"11-19\",\n",
    "                \"11-20\",\n",
    "                \"11-4\",\n",
    "                \"11-7\",\n",
    "                \"12-19\",\n",
    "                \"12-20\",\n",
    "                \"12-7\",\n",
    "                \"13-14\",\n",
    "                \"13-18\",\n",
    "                \"13-19\",\n",
    "                \"13-20\",\n",
    "                \"13-3\",\n",
    "                \"13-7\",\n",
    "                \"14-10\",\n",
    "                \"14-11\",\n",
    "                \"14-12\",\n",
    "                \"14-13\",\n",
    "                \"14-14\",\n",
    "                \"14-19\",\n",
    "                \"14-20\",\n",
    "                \"14-7\",\n",
    "                \"14-8\",\n",
    "                \"14-9\",\n",
    "                \"15-1\",\n",
    "                \"15-19\",\n",
    "                \"15-6\",\n",
    "                \"16-1\",\n",
    "                \"16-16\",\n",
    "                \"16-19\",\n",
    "                \"16-20\",\n",
    "                \"17-10\",\n",
    "                \"17-11\",\n",
    "                \"18-1\",\n",
    "                \"18-10\",\n",
    "                \"18-11\",\n",
    "                \"18-12\",\n",
    "                \"18-13\",\n",
    "                \"18-14\",\n",
    "                \"18-15\",\n",
    "                \"18-16\",\n",
    "                \"18-17\",\n",
    "                \"18-19\",\n",
    "                \"18-2\",\n",
    "                \"18-20\",\n",
    "                \"18-4\",\n",
    "                \"18-5\",\n",
    "                \"18-7\",\n",
    "                \"18-8\",\n",
    "                \"18-9\",\n",
    "                \"19-1\",\n",
    "                \"19-10\",\n",
    "                \"19-11\",\n",
    "                \"19-12\",\n",
    "                \"19-13\",\n",
    "                \"19-14\",\n",
    "                \"19-15\",\n",
    "                \"19-19\",\n",
    "                \"19-2\",\n",
    "                \"19-20\",\n",
    "                \"19-3\",\n",
    "                \"19-4\",\n",
    "                \"19-6\",\n",
    "                \"19-7\",\n",
    "                \"19-8\",\n",
    "                \"19-9\",\n",
    "                \"2-1\",\n",
    "                \"2-13\",\n",
    "                \"2-15\",\n",
    "                \"2-3\",\n",
    "                \"2-4\",\n",
    "                \"2-5\",\n",
    "                \"2-6\",\n",
    "                \"2-7\",\n",
    "                \"2-8\",\n",
    "                \"20-1\",\n",
    "                \"20-12\",\n",
    "                \"20-14\",\n",
    "                \"20-15\",\n",
    "                \"20-16\",\n",
    "                \"20-18\",\n",
    "                \"20-19\",\n",
    "                \"20-20\",\n",
    "                \"20-3\",\n",
    "                \"20-4\",\n",
    "                \"20-5\",\n",
    "                \"20-7\",\n",
    "                \"20-8\",\n",
    "                \"3-1\",\n",
    "                \"3-13\",\n",
    "                \"3-18\",\n",
    "                \"3-2\",\n",
    "                \"3-8\",\n",
    "                \"4-1\",\n",
    "                \"4-10\",\n",
    "                \"4-11\",\n",
    "                \"5-1\",\n",
    "                \"5-5\",\n",
    "                \"6-1\",\n",
    "                \"6-15\",\n",
    "                \"6-6\",\n",
    "                \"7-10\",\n",
    "                \"7-11\",\n",
    "                \"7-12\",\n",
    "                \"7-13\",\n",
    "                \"7-14\",\n",
    "                \"7-7\",\n",
    "                \"7-8\",\n",
    "                \"7-9\",\n",
    "                \"8-1\",\n",
    "                \"8-13\",\n",
    "                \"8-14\",\n",
    "                \"8-18\",\n",
    "                \"8-20\",\n",
    "                \"8-3\",\n",
    "                \"8-8\",\n",
    "                \"9-1\",\n",
    "                \"9-7\",\n",
    "            ],\n",
    "            \"domains\": [1, 2, 3, 4],\n",
    "            \"num_examples_per_domain_per_label\": 100,\n",
    "            \"pickle_path\": \"/mnt/wd500GB/CSC500/csc500-main/datasets/wisig.node3-19.stratified_ds.2022A.pkl\",\n",
    "            \"source_or_target_dataset\": \"target\",\n",
    "            \"x_transforms\": [\"unit_power\", \"jitter_256_5\", \"take_200\"],\n",
    "            \"episode_transforms\": [],\n",
    "            \"domain_prefix\": \"W_A_\",\n",
    "        },\n",
    "        {\n",
    "            \"labels\": [\n",
    "                \"3123D52\",\n",
    "                \"3123D65\",\n",
    "                \"3123D79\",\n",
    "                \"3123D80\",\n",
    "                \"3123D54\",\n",
    "                \"3123D70\",\n",
    "                \"3123D7B\",\n",
    "                \"3123D89\",\n",
    "                \"3123D58\",\n",
    "                \"3123D76\",\n",
    "                \"3123D7D\",\n",
    "                \"3123EFE\",\n",
    "                \"3123D64\",\n",
    "                \"3123D78\",\n",
    "                \"3123D7E\",\n",
    "                \"3124E4A\",\n",
    "            ],\n",
    "            \"domains\": [32, 38, 8, 44, 14, 50, 20, 26],\n",
    "            \"num_examples_per_domain_per_label\": 2000,\n",
    "            \"pickle_path\": \"/mnt/wd500GB/CSC500/csc500-main/datasets/oracle.Run1_framed_2000Examples_stratified_ds.2022A.pkl\",\n",
    "            \"source_or_target_dataset\": \"source\",\n",
    "            \"x_transforms\": [\n",
    "                \"unit_power\",\n",
    "                \"jitter_256_5\",\n",
    "                \"take_200\",\n",
    "                \"resample_20Msps_to_25Msps\",\n",
    "            ],\n",
    "            \"episode_transforms\": [],\n",
    "            \"domain_prefix\": \"ORACLE.run1_\",\n",
    "        },\n",
    "    ],\n",
    "}\n"
   ]
  },
  {
   "cell_type": "code",
   "execution_count": 5,
   "id": "8fa1cc33",
   "metadata": {
    "execution": {
     "iopub.execute_input": "2022-03-18T07:55:07.742911Z",
     "iopub.status.busy": "2022-03-18T07:55:07.737832Z",
     "iopub.status.idle": "2022-03-18T07:55:07.752754Z",
     "shell.execute_reply": "2022-03-18T07:55:07.752259Z"
    },
    "papermill": {
     "duration": 0.03304,
     "end_time": "2022-03-18T07:55:07.752856",
     "exception": false,
     "start_time": "2022-03-18T07:55:07.719816",
     "status": "completed"
    },
    "tags": []
   },
   "outputs": [],
   "source": [
    "# Set this to True if you want to run this template directly\n",
    "STANDALONE = False\n",
    "if STANDALONE:\n",
    "    print(\"parameters not injected, running with standalone_parameters\")\n",
    "    parameters = standalone_parameters\n",
    "\n",
    "if not 'parameters' in locals() and not 'parameters' in globals():\n",
    "    raise Exception(\"Parameter injection failed\")\n",
    "\n",
    "#Use an easy dict for all the parameters\n",
    "p = EasyDict(parameters)\n",
    "\n",
    "if \"x_shape\" not in p:\n",
    "    p.x_shape = [2,256] # Default to this if we dont supply x_shape\n",
    "\n",
    "\n",
    "supplied_keys = set(p.keys())\n",
    "\n",
    "if  supplied_keys != required_parameters:\n",
    "    print(\"Parameters are incorrect\")\n",
    "    if len(supplied_keys - required_parameters)>0: print(\"Shouldn't have:\", str(supplied_keys - required_parameters))\n",
    "    if len(required_parameters - supplied_keys)>0: print(\"Need to have:\", str(required_parameters - supplied_keys))\n",
    "    raise RuntimeError(\"Parameters are incorrect\")"
   ]
  },
  {
   "cell_type": "code",
   "execution_count": 6,
   "id": "3a028d58",
   "metadata": {
    "execution": {
     "iopub.execute_input": "2022-03-18T07:55:07.788930Z",
     "iopub.status.busy": "2022-03-18T07:55:07.788502Z",
     "iopub.status.idle": "2022-03-18T07:55:07.803967Z",
     "shell.execute_reply": "2022-03-18T07:55:07.803530Z"
    },
    "papermill": {
     "duration": 0.03203,
     "end_time": "2022-03-18T07:55:07.804073",
     "exception": false,
     "start_time": "2022-03-18T07:55:07.772043",
     "status": "completed"
    },
    "tags": []
   },
   "outputs": [],
   "source": [
    "###################################\n",
    "# Set the RNGs and make it all deterministic\n",
    "###################################\n",
    "np.random.seed(p.seed)\n",
    "random.seed(p.seed)\n",
    "torch.manual_seed(p.seed)\n",
    "\n",
    "torch.use_deterministic_algorithms(True) "
   ]
  },
  {
   "cell_type": "code",
   "execution_count": 7,
   "id": "b691acf6",
   "metadata": {
    "execution": {
     "iopub.execute_input": "2022-03-18T07:55:07.837895Z",
     "iopub.status.busy": "2022-03-18T07:55:07.837556Z",
     "iopub.status.idle": "2022-03-18T07:55:07.854092Z",
     "shell.execute_reply": "2022-03-18T07:55:07.853656Z"
    },
    "papermill": {
     "duration": 0.032505,
     "end_time": "2022-03-18T07:55:07.854194",
     "exception": false,
     "start_time": "2022-03-18T07:55:07.821689",
     "status": "completed"
    },
    "tags": []
   },
   "outputs": [],
   "source": [
    "###########################################\n",
    "# The stratified datasets honor this\n",
    "###########################################\n",
    "torch.set_default_dtype(eval(p.torch_default_dtype))"
   ]
  },
  {
   "cell_type": "code",
   "execution_count": 8,
   "id": "b5fba671",
   "metadata": {
    "execution": {
     "iopub.execute_input": "2022-03-18T07:55:07.888913Z",
     "iopub.status.busy": "2022-03-18T07:55:07.888590Z",
     "iopub.status.idle": "2022-03-18T07:55:07.928663Z",
     "shell.execute_reply": "2022-03-18T07:55:07.928210Z"
    },
    "papermill": {
     "duration": 0.055938,
     "end_time": "2022-03-18T07:55:07.928776",
     "exception": false,
     "start_time": "2022-03-18T07:55:07.872838",
     "status": "completed"
    },
    "tags": []
   },
   "outputs": [],
   "source": [
    "###################################\n",
    "# Build the network(s)\n",
    "# Note: It's critical to do this AFTER setting the RNG\n",
    "###################################\n",
    "x_net = build_sequential(p.x_net)"
   ]
  },
  {
   "cell_type": "code",
   "execution_count": 9,
   "id": "5d7e61cc",
   "metadata": {
    "execution": {
     "iopub.execute_input": "2022-03-18T07:55:07.964147Z",
     "iopub.status.busy": "2022-03-18T07:55:07.963891Z",
     "iopub.status.idle": "2022-03-18T07:55:07.975893Z",
     "shell.execute_reply": "2022-03-18T07:55:07.975464Z"
    },
    "papermill": {
     "duration": 0.02774,
     "end_time": "2022-03-18T07:55:07.975998",
     "exception": false,
     "start_time": "2022-03-18T07:55:07.948258",
     "status": "completed"
    },
    "tags": []
   },
   "outputs": [],
   "source": [
    "start_time_secs = time.time()"
   ]
  },
  {
   "cell_type": "code",
   "execution_count": 10,
   "id": "c6b67dfd",
   "metadata": {
    "execution": {
     "iopub.execute_input": "2022-03-18T07:55:08.008970Z",
     "iopub.status.busy": "2022-03-18T07:55:08.008713Z",
     "iopub.status.idle": "2022-03-18T07:55:08.025767Z",
     "shell.execute_reply": "2022-03-18T07:55:08.025356Z"
    },
    "papermill": {
     "duration": 0.033738,
     "end_time": "2022-03-18T07:55:08.025873",
     "exception": false,
     "start_time": "2022-03-18T07:55:07.992135",
     "status": "completed"
    },
    "tags": []
   },
   "outputs": [],
   "source": [
    "p.domains_source = []\n",
    "p.domains_target = []\n",
    "\n",
    "\n",
    "train_original_source = []\n",
    "val_original_source   = []\n",
    "test_original_source  = []\n",
    "\n",
    "train_original_target = []\n",
    "val_original_target   = []\n",
    "test_original_target  = []"
   ]
  },
  {
   "cell_type": "code",
   "execution_count": 11,
   "id": "e3d9c3d3",
   "metadata": {
    "execution": {
     "iopub.execute_input": "2022-03-18T07:55:08.061419Z",
     "iopub.status.busy": "2022-03-18T07:55:08.061101Z",
     "iopub.status.idle": "2022-03-18T07:55:08.077594Z",
     "shell.execute_reply": "2022-03-18T07:55:08.077101Z"
    },
    "papermill": {
     "duration": 0.032506,
     "end_time": "2022-03-18T07:55:08.077696",
     "exception": false,
     "start_time": "2022-03-18T07:55:08.045190",
     "status": "completed"
    },
    "tags": []
   },
   "outputs": [],
   "source": [
    "# global_x_transform_func = lambda x: normalize(x.to(torch.get_default_dtype()), \"unit_power\") # unit_power, unit_mag\n",
    "# global_x_transform_func = lambda x: normalize(x, \"unit_power\") # unit_power, unit_mag"
   ]
  },
  {
   "cell_type": "code",
   "execution_count": 12,
   "id": "acb78fd2",
   "metadata": {
    "execution": {
     "iopub.execute_input": "2022-03-18T07:55:08.121420Z",
     "iopub.status.busy": "2022-03-18T07:55:08.118992Z",
     "iopub.status.idle": "2022-03-18T07:55:08.132425Z",
     "shell.execute_reply": "2022-03-18T07:55:08.131992Z"
    },
    "papermill": {
     "duration": 0.035458,
     "end_time": "2022-03-18T07:55:08.132529",
     "exception": false,
     "start_time": "2022-03-18T07:55:08.097071",
     "status": "completed"
    },
    "tags": []
   },
   "outputs": [],
   "source": [
    "def add_dataset(\n",
    "    labels,\n",
    "    domains,\n",
    "    pickle_path,\n",
    "    x_transforms,\n",
    "    episode_transforms,\n",
    "    domain_prefix,\n",
    "    num_examples_per_domain_per_label,\n",
    "    source_or_target_dataset:str,\n",
    "    iterator_seed=p.seed,\n",
    "    dataset_seed=p.dataset_seed,\n",
    "    n_shot=p.n_shot,\n",
    "    n_way=p.n_way,\n",
    "    n_query=p.n_query,\n",
    "    train_val_test_k_factors=(p.train_k_factor,p.val_k_factor,p.test_k_factor),\n",
    "):\n",
    "   \n",
    "    if x_transforms == []: x_transform = None\n",
    "    else: x_transform = get_chained_transform(x_transforms)\n",
    "    \n",
    "    if episode_transforms == []: episode_transform = None\n",
    "    else: raise Exception(\"episode_transforms not implemented\")\n",
    "    \n",
    "    episode_transform = lambda tup, _prefix=domain_prefix: (_prefix + str(tup[0]), tup[1])\n",
    "\n",
    "\n",
    "    eaf = Episodic_Accessor_Factory(\n",
    "        labels=labels,\n",
    "        domains=domains,\n",
    "        num_examples_per_domain_per_label=num_examples_per_domain_per_label,\n",
    "        iterator_seed=iterator_seed,\n",
    "        dataset_seed=dataset_seed,\n",
    "        n_shot=n_shot,\n",
    "        n_way=n_way,\n",
    "        n_query=n_query,\n",
    "        train_val_test_k_factors=train_val_test_k_factors,\n",
    "        pickle_path=pickle_path,\n",
    "        x_transform_func=x_transform,\n",
    "    )\n",
    "\n",
    "    train, val, test = eaf.get_train(), eaf.get_val(), eaf.get_test()\n",
    "    train = Lazy_Iterable_Wrapper(train, episode_transform)\n",
    "    val = Lazy_Iterable_Wrapper(val, episode_transform)\n",
    "    test = Lazy_Iterable_Wrapper(test, episode_transform)\n",
    "\n",
    "    if source_or_target_dataset==\"source\":\n",
    "        train_original_source.append(train)\n",
    "        val_original_source.append(val)\n",
    "        test_original_source.append(test)\n",
    "\n",
    "        p.domains_source.extend(\n",
    "            [domain_prefix + str(u) for u in domains]\n",
    "        )\n",
    "    elif source_or_target_dataset==\"target\":\n",
    "        train_original_target.append(train)\n",
    "        val_original_target.append(val)\n",
    "        test_original_target.append(test)\n",
    "        p.domains_target.extend(\n",
    "            [domain_prefix + str(u) for u in domains]\n",
    "        )\n",
    "    else:\n",
    "        raise Exception(f\"invalid source_or_target_dataset: {source_or_target_dataset}\")\n",
    "    "
   ]
  },
  {
   "cell_type": "code",
   "execution_count": 13,
   "id": "fe266617",
   "metadata": {
    "execution": {
     "iopub.execute_input": "2022-03-18T07:55:08.169098Z",
     "iopub.status.busy": "2022-03-18T07:55:08.168784Z",
     "iopub.status.idle": "2022-03-18T07:56:08.318671Z",
     "shell.execute_reply": "2022-03-18T07:56:08.318139Z"
    },
    "papermill": {
     "duration": 60.16649,
     "end_time": "2022-03-18T07:56:08.318782",
     "exception": false,
     "start_time": "2022-03-18T07:55:08.152292",
     "status": "completed"
    },
    "tags": []
   },
   "outputs": [],
   "source": [
    "for ds in p.datasets:\n",
    "    add_dataset(**ds)"
   ]
  },
  {
   "cell_type": "code",
   "execution_count": 14,
   "id": "b90d65ac",
   "metadata": {
    "execution": {
     "iopub.execute_input": "2022-03-18T07:56:08.353487Z",
     "iopub.status.busy": "2022-03-18T07:56:08.353224Z",
     "iopub.status.idle": "2022-03-18T07:56:08.368087Z",
     "shell.execute_reply": "2022-03-18T07:56:08.367595Z"
    },
    "papermill": {
     "duration": 0.031159,
     "end_time": "2022-03-18T07:56:08.368190",
     "exception": false,
     "start_time": "2022-03-18T07:56:08.337031",
     "status": "completed"
    },
    "tags": []
   },
   "outputs": [],
   "source": [
    "# from steves_utils.CORES.utils import (\n",
    "#     ALL_NODES,\n",
    "#     ALL_NODES_MINIMUM_1000_EXAMPLES,\n",
    "#     ALL_DAYS\n",
    "# )\n",
    "\n",
    "# add_dataset(\n",
    "#     labels=ALL_NODES,\n",
    "#     domains = ALL_DAYS,\n",
    "#     num_examples_per_domain_per_label=100,\n",
    "#     pickle_path=os.path.join(get_datasets_base_path(), \"cores.stratified_ds.2022A.pkl\"),\n",
    "#     source_or_target_dataset=\"target\",\n",
    "#     x_transform_func=global_x_transform_func,\n",
    "#     domain_modifier=lambda u: f\"cores_{u}\"\n",
    "# )"
   ]
  },
  {
   "cell_type": "code",
   "execution_count": 15,
   "id": "76db484d",
   "metadata": {
    "execution": {
     "iopub.execute_input": "2022-03-18T07:56:08.407728Z",
     "iopub.status.busy": "2022-03-18T07:56:08.403900Z",
     "iopub.status.idle": "2022-03-18T07:56:08.418621Z",
     "shell.execute_reply": "2022-03-18T07:56:08.419004Z"
    },
    "papermill": {
     "duration": 0.031797,
     "end_time": "2022-03-18T07:56:08.419129",
     "exception": false,
     "start_time": "2022-03-18T07:56:08.387332",
     "status": "completed"
    },
    "tags": []
   },
   "outputs": [],
   "source": [
    "# from steves_utils.ORACLE.utils_v2 import (\n",
    "#     ALL_DISTANCES_FEET,\n",
    "#     ALL_RUNS,\n",
    "#     ALL_SERIAL_NUMBERS,\n",
    "# )\n",
    "\n",
    "\n",
    "# add_dataset(\n",
    "#     labels=ALL_SERIAL_NUMBERS,\n",
    "#     domains = list(set(ALL_DISTANCES_FEET) - {2,62}),\n",
    "#     num_examples_per_domain_per_label=100,\n",
    "#     pickle_path=os.path.join(get_datasets_base_path(), \"oracle.Run2_framed_2000Examples_stratified_ds.2022A.pkl\"),\n",
    "#     source_or_target_dataset=\"source\",\n",
    "#     x_transform_func=global_x_transform_func,\n",
    "#     domain_modifier=lambda u: f\"oracle1_{u}\"\n",
    "# )\n"
   ]
  },
  {
   "cell_type": "code",
   "execution_count": 16,
   "id": "97dea9d2",
   "metadata": {
    "execution": {
     "iopub.execute_input": "2022-03-18T07:56:08.455024Z",
     "iopub.status.busy": "2022-03-18T07:56:08.454766Z",
     "iopub.status.idle": "2022-03-18T07:56:08.465809Z",
     "shell.execute_reply": "2022-03-18T07:56:08.465476Z"
    },
    "papermill": {
     "duration": 0.026921,
     "end_time": "2022-03-18T07:56:08.465887",
     "exception": false,
     "start_time": "2022-03-18T07:56:08.438966",
     "status": "completed"
    },
    "tags": []
   },
   "outputs": [],
   "source": [
    "# from steves_utils.ORACLE.utils_v2 import (\n",
    "#     ALL_DISTANCES_FEET,\n",
    "#     ALL_RUNS,\n",
    "#     ALL_SERIAL_NUMBERS,\n",
    "# )\n",
    "\n",
    "\n",
    "# add_dataset(\n",
    "#     labels=ALL_SERIAL_NUMBERS,\n",
    "#     domains = list(set(ALL_DISTANCES_FEET) - {2,62,56}),\n",
    "#     num_examples_per_domain_per_label=100,\n",
    "#     pickle_path=os.path.join(get_datasets_base_path(), \"oracle.Run2_framed_2000Examples_stratified_ds.2022A.pkl\"),\n",
    "#     source_or_target_dataset=\"source\",\n",
    "#     x_transform_func=global_x_transform_func,\n",
    "#     domain_modifier=lambda u: f\"oracle2_{u}\"\n",
    "# )"
   ]
  },
  {
   "cell_type": "code",
   "execution_count": 17,
   "id": "6f289866",
   "metadata": {
    "execution": {
     "iopub.execute_input": "2022-03-18T07:56:08.507184Z",
     "iopub.status.busy": "2022-03-18T07:56:08.500452Z",
     "iopub.status.idle": "2022-03-18T07:56:08.517309Z",
     "shell.execute_reply": "2022-03-18T07:56:08.516869Z"
    },
    "papermill": {
     "duration": 0.032667,
     "end_time": "2022-03-18T07:56:08.517408",
     "exception": false,
     "start_time": "2022-03-18T07:56:08.484741",
     "status": "completed"
    },
    "tags": []
   },
   "outputs": [],
   "source": [
    "# add_dataset(\n",
    "#     labels=list(range(19)),\n",
    "#     domains = [0,1,2],\n",
    "#     num_examples_per_domain_per_label=100,\n",
    "#     pickle_path=os.path.join(get_datasets_base_path(), \"metehan.stratified_ds.2022A.pkl\"),\n",
    "#     source_or_target_dataset=\"target\",\n",
    "#     x_transform_func=global_x_transform_func,\n",
    "#     domain_modifier=lambda u: f\"met_{u}\"\n",
    "# )"
   ]
  },
  {
   "cell_type": "code",
   "execution_count": 18,
   "id": "86a863c3",
   "metadata": {
    "execution": {
     "iopub.execute_input": "2022-03-18T07:56:08.560196Z",
     "iopub.status.busy": "2022-03-18T07:56:08.556071Z",
     "iopub.status.idle": "2022-03-18T07:56:08.568186Z",
     "shell.execute_reply": "2022-03-18T07:56:08.567807Z"
    },
    "papermill": {
     "duration": 0.031576,
     "end_time": "2022-03-18T07:56:08.568283",
     "exception": false,
     "start_time": "2022-03-18T07:56:08.536707",
     "status": "completed"
    },
    "tags": []
   },
   "outputs": [],
   "source": [
    "# # from steves_utils.wisig.utils import (\n",
    "# #     ALL_NODES_MINIMUM_100_EXAMPLES,\n",
    "# #     ALL_NODES_MINIMUM_500_EXAMPLES,\n",
    "# #     ALL_NODES_MINIMUM_1000_EXAMPLES,\n",
    "# #     ALL_DAYS\n",
    "# # )\n",
    "\n",
    "# import steves_utils.wisig.utils as wisig\n",
    "\n",
    "\n",
    "# add_dataset(\n",
    "#     labels=wisig.ALL_NODES_MINIMUM_100_EXAMPLES,\n",
    "#     domains = wisig.ALL_DAYS,\n",
    "#     num_examples_per_domain_per_label=100,\n",
    "#     pickle_path=os.path.join(get_datasets_base_path(), \"wisig.node3-19.stratified_ds.2022A.pkl\"),\n",
    "#     source_or_target_dataset=\"target\",\n",
    "#     x_transform_func=global_x_transform_func,\n",
    "#     domain_modifier=lambda u: f\"wisig_{u}\"\n",
    "# )"
   ]
  },
  {
   "cell_type": "code",
   "execution_count": 19,
   "id": "fd5442bc",
   "metadata": {
    "execution": {
     "iopub.execute_input": "2022-03-18T07:56:08.612154Z",
     "iopub.status.busy": "2022-03-18T07:56:08.611558Z",
     "iopub.status.idle": "2022-03-18T07:56:08.621544Z",
     "shell.execute_reply": "2022-03-18T07:56:08.621117Z"
    },
    "papermill": {
     "duration": 0.03412,
     "end_time": "2022-03-18T07:56:08.621648",
     "exception": false,
     "start_time": "2022-03-18T07:56:08.587528",
     "status": "completed"
    },
    "tags": []
   },
   "outputs": [],
   "source": [
    "###################################\n",
    "# Build the dataset\n",
    "###################################\n",
    "train_original_source = Iterable_Aggregator(train_original_source, p.seed)\n",
    "val_original_source = Iterable_Aggregator(val_original_source, p.seed)\n",
    "test_original_source = Iterable_Aggregator(test_original_source, p.seed)\n",
    "\n",
    "\n",
    "train_original_target = Iterable_Aggregator(train_original_target, p.seed)\n",
    "val_original_target = Iterable_Aggregator(val_original_target, p.seed)\n",
    "test_original_target = Iterable_Aggregator(test_original_target, p.seed)\n",
    "\n",
    "# For CNN We only use X and Y. And we only train on the source.\n",
    "# Properly form the data using a transform lambda and Lazy_Iterable_Wrapper. Finally wrap them in a dataloader\n",
    "\n",
    "transform_lambda = lambda ex: ex[1] # Original is (<domain>, <episode>) so we strip down to episode only\n",
    "\n",
    "train_processed_source = Lazy_Iterable_Wrapper(train_original_source, transform_lambda)\n",
    "val_processed_source   = Lazy_Iterable_Wrapper(val_original_source, transform_lambda)\n",
    "test_processed_source  = Lazy_Iterable_Wrapper(test_original_source, transform_lambda)\n",
    "\n",
    "train_processed_target = Lazy_Iterable_Wrapper(train_original_target, transform_lambda)\n",
    "val_processed_target   = Lazy_Iterable_Wrapper(val_original_target, transform_lambda)\n",
    "test_processed_target  = Lazy_Iterable_Wrapper(test_original_target, transform_lambda)\n",
    "\n",
    "datasets = EasyDict({\n",
    "    \"source\": {\n",
    "        \"original\": {\"train\":train_original_source, \"val\":val_original_source, \"test\":test_original_source},\n",
    "        \"processed\": {\"train\":train_processed_source, \"val\":val_processed_source, \"test\":test_processed_source}\n",
    "    },\n",
    "    \"target\": {\n",
    "        \"original\": {\"train\":train_original_target, \"val\":val_original_target, \"test\":test_original_target},\n",
    "        \"processed\": {\"train\":train_processed_target, \"val\":val_processed_target, \"test\":test_processed_target}\n",
    "    },\n",
    "})"
   ]
  },
  {
   "cell_type": "code",
   "execution_count": 20,
   "id": "5b3c01fc",
   "metadata": {
    "execution": {
     "iopub.execute_input": "2022-03-18T07:56:08.657191Z",
     "iopub.status.busy": "2022-03-18T07:56:08.656930Z",
     "iopub.status.idle": "2022-03-18T07:56:13.514080Z",
     "shell.execute_reply": "2022-03-18T07:56:13.514517Z"
    },
    "papermill": {
     "duration": 4.87406,
     "end_time": "2022-03-18T07:56:13.514631",
     "exception": false,
     "start_time": "2022-03-18T07:56:08.640571",
     "status": "completed"
    },
    "tags": []
   },
   "outputs": [
    {
     "name": "stdout",
     "output_type": "stream",
     "text": [
      "{'ORACLE.run1_32', 'ORACLE.run1_20', 'ORACLE.run1_8', 'ORACLE.run1_14', 'ORACLE.run1_26', 'ORACLE.run1_44', 'ORACLE.run1_38', 'ORACLE.run1_50'}\n"
     ]
    },
    {
     "name": "stdout",
     "output_type": "stream",
     "text": [
      "{'W_A_2', 'C_A_1', 'W_A_3', 'W_A_1', 'W_A_4', 'C_A_2', 'C_A_3', 'C_A_5', 'C_A_4'}\n"
     ]
    },
    {
     "name": "stdout",
     "output_type": "stream",
     "text": [
      "tensor([[[0., 0., 0.,  ..., 0., 0., 0.],\n",
      "         [0., 0., 0.,  ..., 0., 0., 0.]],\n",
      "\n",
      "        [[0., 0., 0.,  ..., 0., 0., 0.],\n",
      "         [0., 0., 0.,  ..., 0., 0., 0.]],\n",
      "\n",
      "        [[0., 0., 0.,  ..., 0., 0., 0.],\n",
      "         [0., 0., 0.,  ..., 0., 0., 0.]],\n",
      "\n",
      "        ...,\n",
      "\n",
      "        [[0., 0., 0.,  ..., 0., 0., 0.],\n",
      "         [0., 0., 0.,  ..., 0., 0., 0.]],\n",
      "\n",
      "        [[0., 0., 0.,  ..., 0., 0., 0.],\n",
      "         [0., 0., 0.,  ..., 0., 0., 0.]],\n",
      "\n",
      "        [[0., 0., 0.,  ..., 0., 0., 0.],\n",
      "         [0., 0., 0.,  ..., 0., 0., 0.]]])\n"
     ]
    }
   ],
   "source": [
    "from steves_utils.transforms import get_average_magnitude, get_average_power\n",
    "\n",
    "print(set([u for u,_ in val_original_source]))\n",
    "print(set([u for u,_ in val_original_target]))\n",
    "\n",
    "s_x, s_y, q_x, q_y, _ = next(iter(train_processed_source))\n",
    "print(s_x)\n",
    "\n",
    "# for ds in [\n",
    "#     train_processed_source,\n",
    "#     val_processed_source,\n",
    "#     test_processed_source,\n",
    "#     train_processed_target,\n",
    "#     val_processed_target,\n",
    "#     test_processed_target\n",
    "# ]:\n",
    "#     for s_x, s_y, q_x, q_y, _ in ds:\n",
    "#         for X in (s_x, q_x):\n",
    "#             for x in X:\n",
    "#                 assert np.isclose(get_average_magnitude(x.numpy()), 1.0)\n",
    "#                 assert np.isclose(get_average_power(x.numpy()), 1.0)\n",
    "                "
   ]
  },
  {
   "cell_type": "code",
   "execution_count": 21,
   "id": "bbdacba1",
   "metadata": {
    "execution": {
     "iopub.execute_input": "2022-03-18T07:56:13.564807Z",
     "iopub.status.busy": "2022-03-18T07:56:13.560093Z",
     "iopub.status.idle": "2022-03-18T07:56:13.619308Z",
     "shell.execute_reply": "2022-03-18T07:56:13.619506Z"
    },
    "papermill": {
     "duration": 0.082613,
     "end_time": "2022-03-18T07:56:13.619573",
     "exception": false,
     "start_time": "2022-03-18T07:56:13.536960",
     "status": "completed"
    },
    "tags": []
   },
   "outputs": [
    {
     "name": "stdout",
     "output_type": "stream",
     "text": [
      "(2, 256)\n"
     ]
    }
   ],
   "source": [
    "###################################\n",
    "# Build the model\n",
    "###################################\n",
    "# easfsl only wants a tuple for the shape\n",
    "model = Steves_Prototypical_Network(x_net, device=p.device, x_shape=tuple(p.x_shape))\n",
    "optimizer = Adam(params=model.parameters(), lr=p.lr)"
   ]
  },
  {
   "cell_type": "code",
   "execution_count": 22,
   "id": "22b39ac5",
   "metadata": {
    "execution": {
     "iopub.execute_input": "2022-03-18T07:56:13.652789Z",
     "iopub.status.busy": "2022-03-18T07:56:13.650600Z",
     "iopub.status.idle": "2022-03-18T08:19:56.246948Z",
     "shell.execute_reply": "2022-03-18T08:19:56.246718Z"
    },
    "papermill": {
     "duration": 1422.61287,
     "end_time": "2022-03-18T08:19:56.247008",
     "exception": false,
     "start_time": "2022-03-18T07:56:13.634138",
     "status": "completed"
    },
    "tags": []
   },
   "outputs": [
    {
     "name": "stdout",
     "output_type": "stream",
     "text": [
      "epoch: 1, [batch: 1 / 6720], examples_per_second: 50.0306, train_label_loss: 2.7598, \n"
     ]
    },
    {
     "name": "stdout",
     "output_type": "stream",
     "text": [
      "epoch: 1, [batch: 672 / 6720], examples_per_second: 3219.3688, train_label_loss: 2.8522, \n"
     ]
    },
    {
     "name": "stdout",
     "output_type": "stream",
     "text": [
      "epoch: 1, [batch: 1344 / 6720], examples_per_second: 3239.6609, train_label_loss: 2.7740, \n"
     ]
    },
    {
     "name": "stdout",
     "output_type": "stream",
     "text": [
      "epoch: 1, [batch: 2016 / 6720], examples_per_second: 3223.0999, train_label_loss: 1.4315, \n"
     ]
    },
    {
     "name": "stdout",
     "output_type": "stream",
     "text": [
      "epoch: 1, [batch: 2688 / 6720], examples_per_second: 3209.6140, train_label_loss: 1.8513, \n"
     ]
    },
    {
     "name": "stdout",
     "output_type": "stream",
     "text": [
      "epoch: 1, [batch: 3360 / 6720], examples_per_second: 3216.6990, train_label_loss: 1.4369, \n"
     ]
    },
    {
     "name": "stdout",
     "output_type": "stream",
     "text": [
      "epoch: 1, [batch: 4032 / 6720], examples_per_second: 3219.6191, train_label_loss: 1.4025, \n"
     ]
    },
    {
     "name": "stdout",
     "output_type": "stream",
     "text": [
      "epoch: 1, [batch: 4704 / 6720], examples_per_second: 3206.3768, train_label_loss: 0.7732, \n"
     ]
    },
    {
     "name": "stdout",
     "output_type": "stream",
     "text": [
      "epoch: 1, [batch: 5376 / 6720], examples_per_second: 3213.2345, train_label_loss: 0.8495, \n"
     ]
    },
    {
     "name": "stdout",
     "output_type": "stream",
     "text": [
      "epoch: 1, [batch: 6048 / 6720], examples_per_second: 3217.1282, train_label_loss: 0.9878, \n"
     ]
    },
    {
     "name": "stdout",
     "output_type": "stream",
     "text": [
      "=============================================================\n",
      "epoch: 1, source_val_acc_label: 0.6324, target_val_acc_label: 0.5319, source_val_label_loss: 1.1468, target_val_label_loss: 2693.8955, \n",
      "=============================================================\n"
     ]
    },
    {
     "name": "stdout",
     "output_type": "stream",
     "text": [
      "New best\n"
     ]
    },
    {
     "name": "stdout",
     "output_type": "stream",
     "text": [
      "epoch: 2, [batch: 1 / 6720], examples_per_second: 5.5650, train_label_loss: 1.5516, \n"
     ]
    },
    {
     "name": "stdout",
     "output_type": "stream",
     "text": [
      "epoch: 2, [batch: 672 / 6720], examples_per_second: 3259.4233, train_label_loss: 0.8831, \n"
     ]
    },
    {
     "name": "stdout",
     "output_type": "stream",
     "text": [
      "epoch: 2, [batch: 1344 / 6720], examples_per_second: 3268.9560, train_label_loss: 0.6929, \n"
     ]
    },
    {
     "name": "stdout",
     "output_type": "stream",
     "text": [
      "epoch: 2, [batch: 2016 / 6720], examples_per_second: 3255.1524, train_label_loss: 1.3243, \n"
     ]
    },
    {
     "name": "stdout",
     "output_type": "stream",
     "text": [
      "epoch: 2, [batch: 2688 / 6720], examples_per_second: 3244.8262, train_label_loss: 0.8835, \n"
     ]
    },
    {
     "name": "stdout",
     "output_type": "stream",
     "text": [
      "epoch: 2, [batch: 3360 / 6720], examples_per_second: 3255.2738, train_label_loss: 0.9754, \n"
     ]
    },
    {
     "name": "stdout",
     "output_type": "stream",
     "text": [
      "epoch: 2, [batch: 4032 / 6720], examples_per_second: 3246.2106, train_label_loss: 0.7787, \n"
     ]
    },
    {
     "name": "stdout",
     "output_type": "stream",
     "text": [
      "epoch: 2, [batch: 4704 / 6720], examples_per_second: 3246.9316, train_label_loss: 1.2039, \n"
     ]
    },
    {
     "name": "stdout",
     "output_type": "stream",
     "text": [
      "epoch: 2, [batch: 5376 / 6720], examples_per_second: 3252.8602, train_label_loss: 1.1828, \n"
     ]
    },
    {
     "name": "stdout",
     "output_type": "stream",
     "text": [
      "epoch: 2, [batch: 6048 / 6720], examples_per_second: 3246.2646, train_label_loss: 0.7320, \n"
     ]
    },
    {
     "name": "stdout",
     "output_type": "stream",
     "text": [
      "=============================================================\n",
      "epoch: 2, source_val_acc_label: 0.6445, target_val_acc_label: 0.7051, source_val_label_loss: 0.9563, target_val_label_loss: 817.9019, \n",
      "=============================================================\n"
     ]
    },
    {
     "name": "stdout",
     "output_type": "stream",
     "text": [
      "New best\n"
     ]
    },
    {
     "name": "stdout",
     "output_type": "stream",
     "text": [
      "epoch: 3, [batch: 1 / 6720], examples_per_second: 5.6015, train_label_loss: 1.2177, \n"
     ]
    },
    {
     "name": "stdout",
     "output_type": "stream",
     "text": [
      "epoch: 3, [batch: 672 / 6720], examples_per_second: 3235.9019, train_label_loss: 0.5652, \n"
     ]
    },
    {
     "name": "stdout",
     "output_type": "stream",
     "text": [
      "epoch: 3, [batch: 1344 / 6720], examples_per_second: 3258.6007, train_label_loss: 0.6685, \n"
     ]
    },
    {
     "name": "stdout",
     "output_type": "stream",
     "text": [
      "epoch: 3, [batch: 2016 / 6720], examples_per_second: 3251.9003, train_label_loss: 0.5410, \n"
     ]
    },
    {
     "name": "stdout",
     "output_type": "stream",
     "text": [
      "epoch: 3, [batch: 2688 / 6720], examples_per_second: 3246.9434, train_label_loss: 0.8075, \n"
     ]
    },
    {
     "name": "stdout",
     "output_type": "stream",
     "text": [
      "epoch: 3, [batch: 3360 / 6720], examples_per_second: 3248.4183, train_label_loss: 1.1120, \n"
     ]
    },
    {
     "name": "stdout",
     "output_type": "stream",
     "text": [
      "epoch: 3, [batch: 4032 / 6720], examples_per_second: 3242.6184, train_label_loss: 1.2377, \n"
     ]
    },
    {
     "name": "stdout",
     "output_type": "stream",
     "text": [
      "epoch: 3, [batch: 4704 / 6720], examples_per_second: 3243.7332, train_label_loss: 0.6630, \n"
     ]
    },
    {
     "name": "stdout",
     "output_type": "stream",
     "text": [
      "epoch: 3, [batch: 5376 / 6720], examples_per_second: 3247.3487, train_label_loss: 0.9325, \n"
     ]
    },
    {
     "name": "stdout",
     "output_type": "stream",
     "text": [
      "epoch: 3, [batch: 6048 / 6720], examples_per_second: 3253.5984, train_label_loss: 0.5438, \n"
     ]
    },
    {
     "name": "stdout",
     "output_type": "stream",
     "text": [
      "=============================================================\n",
      "epoch: 3, source_val_acc_label: 0.6769, target_val_acc_label: 0.6712, source_val_label_loss: 0.9062, target_val_label_loss: 1202.5134, \n",
      "=============================================================\n"
     ]
    },
    {
     "name": "stdout",
     "output_type": "stream",
     "text": [
      "epoch: 4, [batch: 1 / 6720], examples_per_second: 5.6252, train_label_loss: 1.2131, \n"
     ]
    },
    {
     "name": "stdout",
     "output_type": "stream",
     "text": [
      "epoch: 4, [batch: 672 / 6720], examples_per_second: 3263.3912, train_label_loss: 0.6751, \n"
     ]
    },
    {
     "name": "stdout",
     "output_type": "stream",
     "text": [
      "epoch: 4, [batch: 1344 / 6720], examples_per_second: 3250.6279, train_label_loss: 1.2972, \n"
     ]
    },
    {
     "name": "stdout",
     "output_type": "stream",
     "text": [
      "epoch: 4, [batch: 2016 / 6720], examples_per_second: 3241.9904, train_label_loss: 0.9640, \n"
     ]
    },
    {
     "name": "stdout",
     "output_type": "stream",
     "text": [
      "epoch: 4, [batch: 2688 / 6720], examples_per_second: 3254.7492, train_label_loss: 0.8169, \n"
     ]
    },
    {
     "name": "stdout",
     "output_type": "stream",
     "text": [
      "epoch: 4, [batch: 3360 / 6720], examples_per_second: 3264.3699, train_label_loss: 0.6189, \n"
     ]
    },
    {
     "name": "stdout",
     "output_type": "stream",
     "text": [
      "epoch: 4, [batch: 4032 / 6720], examples_per_second: 3253.8941, train_label_loss: 1.2252, \n"
     ]
    },
    {
     "name": "stdout",
     "output_type": "stream",
     "text": [
      "epoch: 4, [batch: 4704 / 6720], examples_per_second: 3239.4869, train_label_loss: 0.5901, \n"
     ]
    },
    {
     "name": "stdout",
     "output_type": "stream",
     "text": [
      "epoch: 4, [batch: 5376 / 6720], examples_per_second: 3240.3959, train_label_loss: 1.1249, \n"
     ]
    },
    {
     "name": "stdout",
     "output_type": "stream",
     "text": [
      "epoch: 4, [batch: 6048 / 6720], examples_per_second: 3250.2532, train_label_loss: 0.7416, \n"
     ]
    },
    {
     "name": "stdout",
     "output_type": "stream",
     "text": [
      "=============================================================\n",
      "epoch: 4, source_val_acc_label: 0.6737, target_val_acc_label: 0.6954, source_val_label_loss: 0.8999, target_val_label_loss: 233.4438, \n",
      "=============================================================\n"
     ]
    },
    {
     "name": "stdout",
     "output_type": "stream",
     "text": [
      "New best\n"
     ]
    },
    {
     "name": "stdout",
     "output_type": "stream",
     "text": [
      "epoch: 5, [batch: 1 / 6720], examples_per_second: 5.5835, train_label_loss: 0.7137, \n"
     ]
    },
    {
     "name": "stdout",
     "output_type": "stream",
     "text": [
      "epoch: 5, [batch: 672 / 6720], examples_per_second: 3237.1432, train_label_loss: 0.7212, \n"
     ]
    },
    {
     "name": "stdout",
     "output_type": "stream",
     "text": [
      "epoch: 5, [batch: 1344 / 6720], examples_per_second: 3236.4427, train_label_loss: 0.6033, \n"
     ]
    },
    {
     "name": "stdout",
     "output_type": "stream",
     "text": [
      "epoch: 5, [batch: 2016 / 6720], examples_per_second: 3253.6228, train_label_loss: 1.1254, \n"
     ]
    },
    {
     "name": "stdout",
     "output_type": "stream",
     "text": [
      "epoch: 5, [batch: 2688 / 6720], examples_per_second: 3241.1455, train_label_loss: 0.7581, \n"
     ]
    },
    {
     "name": "stdout",
     "output_type": "stream",
     "text": [
      "epoch: 5, [batch: 3360 / 6720], examples_per_second: 3249.2195, train_label_loss: 0.6139, \n"
     ]
    },
    {
     "name": "stdout",
     "output_type": "stream",
     "text": [
      "epoch: 5, [batch: 4032 / 6720], examples_per_second: 3238.5469, train_label_loss: 0.6941, \n"
     ]
    },
    {
     "name": "stdout",
     "output_type": "stream",
     "text": [
      "epoch: 5, [batch: 4704 / 6720], examples_per_second: 3234.9046, train_label_loss: 0.8038, \n"
     ]
    },
    {
     "name": "stdout",
     "output_type": "stream",
     "text": [
      "epoch: 5, [batch: 5376 / 6720], examples_per_second: 3250.6931, train_label_loss: 1.2160, \n"
     ]
    },
    {
     "name": "stdout",
     "output_type": "stream",
     "text": [
      "epoch: 5, [batch: 6048 / 6720], examples_per_second: 3240.8472, train_label_loss: 0.4969, \n"
     ]
    },
    {
     "name": "stdout",
     "output_type": "stream",
     "text": [
      "=============================================================\n",
      "epoch: 5, source_val_acc_label: 0.6745, target_val_acc_label: 0.6050, source_val_label_loss: 0.8813, target_val_label_loss: 1490.5822, \n",
      "=============================================================\n"
     ]
    },
    {
     "name": "stdout",
     "output_type": "stream",
     "text": [
      "epoch: 6, [batch: 1 / 6720], examples_per_second: 5.5831, train_label_loss: 0.6931, \n"
     ]
    },
    {
     "name": "stdout",
     "output_type": "stream",
     "text": [
      "epoch: 6, [batch: 672 / 6720], examples_per_second: 3242.1940, train_label_loss: 1.2163, \n"
     ]
    },
    {
     "name": "stdout",
     "output_type": "stream",
     "text": [
      "epoch: 6, [batch: 1344 / 6720], examples_per_second: 3243.5057, train_label_loss: 1.2754, \n"
     ]
    },
    {
     "name": "stdout",
     "output_type": "stream",
     "text": [
      "epoch: 6, [batch: 2016 / 6720], examples_per_second: 3244.7671, train_label_loss: 0.7310, \n"
     ]
    },
    {
     "name": "stdout",
     "output_type": "stream",
     "text": [
      "epoch: 6, [batch: 2688 / 6720], examples_per_second: 3224.1332, train_label_loss: 0.4985, \n"
     ]
    },
    {
     "name": "stdout",
     "output_type": "stream",
     "text": [
      "epoch: 6, [batch: 3360 / 6720], examples_per_second: 3238.6412, train_label_loss: 0.4071, \n"
     ]
    },
    {
     "name": "stdout",
     "output_type": "stream",
     "text": [
      "epoch: 6, [batch: 4032 / 6720], examples_per_second: 3240.6616, train_label_loss: 0.7341, \n"
     ]
    },
    {
     "name": "stdout",
     "output_type": "stream",
     "text": [
      "epoch: 6, [batch: 4704 / 6720], examples_per_second: 3234.8431, train_label_loss: 0.9005, \n"
     ]
    },
    {
     "name": "stdout",
     "output_type": "stream",
     "text": [
      "epoch: 6, [batch: 5376 / 6720], examples_per_second: 3248.4328, train_label_loss: 0.7772, \n"
     ]
    },
    {
     "name": "stdout",
     "output_type": "stream",
     "text": [
      "epoch: 6, [batch: 6048 / 6720], examples_per_second: 3252.9671, train_label_loss: 0.8850, \n"
     ]
    },
    {
     "name": "stdout",
     "output_type": "stream",
     "text": [
      "=============================================================\n",
      "epoch: 6, source_val_acc_label: 0.6998, target_val_acc_label: 0.5980, source_val_label_loss: 0.8132, target_val_label_loss: 918.0700, \n",
      "=============================================================\n"
     ]
    },
    {
     "name": "stdout",
     "output_type": "stream",
     "text": [
      "epoch: 7, [batch: 1 / 6720], examples_per_second: 5.5904, train_label_loss: 0.4321, \n"
     ]
    },
    {
     "name": "stdout",
     "output_type": "stream",
     "text": [
      "epoch: 7, [batch: 672 / 6720], examples_per_second: 3238.1195, train_label_loss: 1.1833, \n"
     ]
    },
    {
     "name": "stdout",
     "output_type": "stream",
     "text": [
      "epoch: 7, [batch: 1344 / 6720], examples_per_second: 3232.9938, train_label_loss: 0.6068, \n"
     ]
    },
    {
     "name": "stdout",
     "output_type": "stream",
     "text": [
      "epoch: 7, [batch: 2016 / 6720], examples_per_second: 3236.9512, train_label_loss: 1.0922, \n"
     ]
    },
    {
     "name": "stdout",
     "output_type": "stream",
     "text": [
      "epoch: 7, [batch: 2688 / 6720], examples_per_second: 3248.5115, train_label_loss: 0.7272, \n"
     ]
    },
    {
     "name": "stdout",
     "output_type": "stream",
     "text": [
      "epoch: 7, [batch: 3360 / 6720], examples_per_second: 3250.4182, train_label_loss: 1.8424, \n"
     ]
    },
    {
     "name": "stdout",
     "output_type": "stream",
     "text": [
      "epoch: 7, [batch: 4032 / 6720], examples_per_second: 3249.7977, train_label_loss: 0.7838, \n"
     ]
    },
    {
     "name": "stdout",
     "output_type": "stream",
     "text": [
      "epoch: 7, [batch: 4704 / 6720], examples_per_second: 3233.6121, train_label_loss: 0.7251, \n"
     ]
    },
    {
     "name": "stdout",
     "output_type": "stream",
     "text": [
      "epoch: 7, [batch: 5376 / 6720], examples_per_second: 3247.5782, train_label_loss: 0.7730, \n"
     ]
    },
    {
     "name": "stdout",
     "output_type": "stream",
     "text": [
      "epoch: 7, [batch: 6048 / 6720], examples_per_second: 3254.8989, train_label_loss: 0.7525, \n"
     ]
    },
    {
     "name": "stdout",
     "output_type": "stream",
     "text": [
      "=============================================================\n",
      "epoch: 7, source_val_acc_label: 0.6552, target_val_acc_label: 0.6833, source_val_label_loss: 0.9390, target_val_label_loss: 3695.3721, \n",
      "=============================================================\n"
     ]
    },
    {
     "name": "stdout",
     "output_type": "stream",
     "text": [
      "epoch: 8, [batch: 1 / 6720], examples_per_second: 5.5995, train_label_loss: 1.3030, \n"
     ]
    },
    {
     "name": "stdout",
     "output_type": "stream",
     "text": [
      "epoch: 8, [batch: 672 / 6720], examples_per_second: 3260.2893, train_label_loss: 1.1709, \n"
     ]
    },
    {
     "name": "stdout",
     "output_type": "stream",
     "text": [
      "epoch: 8, [batch: 1344 / 6720], examples_per_second: 3251.5937, train_label_loss: 1.1826, \n"
     ]
    },
    {
     "name": "stdout",
     "output_type": "stream",
     "text": [
      "epoch: 8, [batch: 2016 / 6720], examples_per_second: 3249.9811, train_label_loss: 0.4363, \n"
     ]
    },
    {
     "name": "stdout",
     "output_type": "stream",
     "text": [
      "epoch: 8, [batch: 2688 / 6720], examples_per_second: 3223.2919, train_label_loss: 0.7060, \n"
     ]
    },
    {
     "name": "stdout",
     "output_type": "stream",
     "text": [
      "epoch: 8, [batch: 3360 / 6720], examples_per_second: 3240.4639, train_label_loss: 0.8778, \n"
     ]
    },
    {
     "name": "stdout",
     "output_type": "stream",
     "text": [
      "epoch: 8, [batch: 4032 / 6720], examples_per_second: 3237.2540, train_label_loss: 0.9378, \n"
     ]
    },
    {
     "name": "stdout",
     "output_type": "stream",
     "text": [
      "epoch: 8, [batch: 4704 / 6720], examples_per_second: 3234.4266, train_label_loss: 0.5063, \n"
     ]
    },
    {
     "name": "stdout",
     "output_type": "stream",
     "text": [
      "epoch: 8, [batch: 5376 / 6720], examples_per_second: 3232.0080, train_label_loss: 1.0570, \n"
     ]
    },
    {
     "name": "stdout",
     "output_type": "stream",
     "text": [
      "epoch: 8, [batch: 6048 / 6720], examples_per_second: 3235.7995, train_label_loss: 1.1098, \n"
     ]
    },
    {
     "name": "stdout",
     "output_type": "stream",
     "text": [
      "=============================================================\n",
      "epoch: 8, source_val_acc_label: 0.7187, target_val_acc_label: 0.6640, source_val_label_loss: 0.7779, target_val_label_loss: 827.0401, \n",
      "=============================================================\n"
     ]
    },
    {
     "name": "stdout",
     "output_type": "stream",
     "text": [
      "Patience (3) exhausted\n"
     ]
    }
   ],
   "source": [
    "###################################\n",
    "# train\n",
    "###################################\n",
    "jig = PTN_Train_Eval_Test_Jig(model, p.BEST_MODEL_PATH, p.device)\n",
    "\n",
    "jig.train(\n",
    "    train_iterable=datasets.source.processed.train,\n",
    "    source_val_iterable=datasets.source.processed.val,\n",
    "    target_val_iterable=datasets.target.processed.val,\n",
    "    num_epochs=p.n_epoch,\n",
    "    num_logs_per_epoch=p.NUM_LOGS_PER_EPOCH,\n",
    "    patience=p.patience,\n",
    "    optimizer=optimizer,\n",
    "    criteria_for_best=p.criteria_for_best,\n",
    ")"
   ]
  },
  {
   "cell_type": "code",
   "execution_count": 23,
   "id": "31e8fabf",
   "metadata": {
    "execution": {
     "iopub.execute_input": "2022-03-18T08:19:56.309708Z",
     "iopub.status.busy": "2022-03-18T08:19:56.309452Z",
     "iopub.status.idle": "2022-03-18T08:19:56.324556Z",
     "shell.execute_reply": "2022-03-18T08:19:56.324160Z"
    },
    "papermill": {
     "duration": 0.047159,
     "end_time": "2022-03-18T08:19:56.324649",
     "exception": false,
     "start_time": "2022-03-18T08:19:56.277490",
     "status": "completed"
    },
    "tags": []
   },
   "outputs": [],
   "source": [
    "total_experiment_time_secs = time.time() - start_time_secs"
   ]
  },
  {
   "cell_type": "code",
   "execution_count": 24,
   "id": "87b9595b",
   "metadata": {
    "execution": {
     "iopub.execute_input": "2022-03-18T08:19:56.395123Z",
     "iopub.status.busy": "2022-03-18T08:19:56.394847Z",
     "iopub.status.idle": "2022-03-18T08:21:00.633436Z",
     "shell.execute_reply": "2022-03-18T08:21:00.632984Z"
    },
    "papermill": {
     "duration": 64.273842,
     "end_time": "2022-03-18T08:21:00.633555",
     "exception": false,
     "start_time": "2022-03-18T08:19:56.359713",
     "status": "completed"
    },
    "tags": []
   },
   "outputs": [],
   "source": [
    "###################################\n",
    "# Evaluate the model\n",
    "###################################\n",
    "source_test_label_accuracy, source_test_label_loss = jig.test(datasets.source.processed.test)\n",
    "target_test_label_accuracy, target_test_label_loss = jig.test(datasets.target.processed.test)\n",
    "\n",
    "source_val_label_accuracy, source_val_label_loss = jig.test(datasets.source.processed.val)\n",
    "target_val_label_accuracy, target_val_label_loss = jig.test(datasets.target.processed.val)\n",
    "\n",
    "history = jig.get_history()\n",
    "\n",
    "total_epochs_trained = len(history[\"epoch_indices\"])\n",
    "\n",
    "val_dl = Iterable_Aggregator((datasets.source.original.val,datasets.target.original.val))\n",
    "\n",
    "confusion = ptn_confusion_by_domain_over_dataloader(model, p.device, val_dl)\n",
    "per_domain_accuracy = per_domain_accuracy_from_confusion(confusion)\n",
    "\n",
    "# Add a key to per_domain_accuracy for if it was a source domain\n",
    "for domain, accuracy in per_domain_accuracy.items():\n",
    "    per_domain_accuracy[domain] = {\n",
    "        \"accuracy\": accuracy,\n",
    "        \"source?\": domain in p.domains_source\n",
    "    }\n",
    "\n",
    "# Do an independent accuracy assesment JUST TO BE SURE!\n",
    "# _source_test_label_accuracy = independent_accuracy_assesment(model, datasets.source.processed.test, p.device)\n",
    "# _target_test_label_accuracy = independent_accuracy_assesment(model, datasets.target.processed.test, p.device)\n",
    "# _source_val_label_accuracy = independent_accuracy_assesment(model, datasets.source.processed.val, p.device)\n",
    "# _target_val_label_accuracy = independent_accuracy_assesment(model, datasets.target.processed.val, p.device)\n",
    "\n",
    "# assert(_source_test_label_accuracy == source_test_label_accuracy)\n",
    "# assert(_target_test_label_accuracy == target_test_label_accuracy)\n",
    "# assert(_source_val_label_accuracy == source_val_label_accuracy)\n",
    "# assert(_target_val_label_accuracy == target_val_label_accuracy)\n",
    "\n",
    "experiment = {\n",
    "    \"experiment_name\": p.experiment_name,\n",
    "    \"parameters\": dict(p),\n",
    "    \"results\": {\n",
    "        \"source_test_label_accuracy\": source_test_label_accuracy,\n",
    "        \"source_test_label_loss\": source_test_label_loss,\n",
    "        \"target_test_label_accuracy\": target_test_label_accuracy,\n",
    "        \"target_test_label_loss\": target_test_label_loss,\n",
    "        \"source_val_label_accuracy\": source_val_label_accuracy,\n",
    "        \"source_val_label_loss\": source_val_label_loss,\n",
    "        \"target_val_label_accuracy\": target_val_label_accuracy,\n",
    "        \"target_val_label_loss\": target_val_label_loss,\n",
    "        \"total_epochs_trained\": total_epochs_trained,\n",
    "        \"total_experiment_time_secs\": total_experiment_time_secs,\n",
    "        \"confusion\": confusion,\n",
    "        \"per_domain_accuracy\": per_domain_accuracy,\n",
    "    },\n",
    "    \"history\": history,\n",
    "    \"dataset_metrics\": get_dataset_metrics(datasets, \"ptn\"),\n",
    "}"
   ]
  },
  {
   "cell_type": "code",
   "execution_count": 25,
   "id": "54a21829",
   "metadata": {
    "execution": {
     "iopub.execute_input": "2022-03-18T08:21:00.712365Z",
     "iopub.status.busy": "2022-03-18T08:21:00.703198Z",
     "iopub.status.idle": "2022-03-18T08:21:00.832143Z",
     "shell.execute_reply": "2022-03-18T08:21:00.832535Z"
    },
    "papermill": {
     "duration": 0.163323,
     "end_time": "2022-03-18T08:21:00.832646",
     "exception": false,
     "start_time": "2022-03-18T08:21:00.669323",
     "status": "completed"
    },
    "tags": []
   },
   "outputs": [
    {
     "data": {
      "image/png": "[encoded data removed]",
      "text/plain": [
       "<Figure size 1080x504 with 1 Axes>"
      ]
     },
     "metadata": {
      "needs_background": "light"
     },
     "output_type": "display_data"
    }
   ],
   "source": [
    "ax = get_loss_curve(experiment)\n",
    "plt.show()"
   ]
  },
  {
   "cell_type": "code",
   "execution_count": 26,
   "id": "fd8a0f60",
   "metadata": {
    "execution": {
     "iopub.execute_input": "2022-03-18T08:21:00.902039Z",
     "iopub.status.busy": "2022-03-18T08:21:00.901344Z",
     "iopub.status.idle": "2022-03-18T08:21:01.045460Z",
     "shell.execute_reply": "2022-03-18T08:21:01.045219Z"
    },
    "papermill": {
     "duration": 0.177731,
     "end_time": "2022-03-18T08:21:01.045514",
     "exception": false,
     "start_time": "2022-03-18T08:21:00.867783",
     "status": "completed"
    },
    "tags": []
   },
   "outputs": [
    {
     "data": {
      "text/plain": [
       "<AxesSubplot:title={'center':'Results'}>"
      ]
     },
     "execution_count": 26,
     "metadata": {},
     "output_type": "execute_result"
    },
    {
     "data": {
      "image/png": "[encoded data removed]",
      "text/plain": [
       "<Figure size 1080x504 with 1 Axes>"
      ]
     },
     "metadata": {
      "needs_background": "light"
     },
     "output_type": "display_data"
    }
   ],
   "source": [
    "get_results_table(experiment)"
   ]
  },
  {
   "cell_type": "code",
   "execution_count": 27,
   "id": "cf8dc689",
   "metadata": {
    "execution": {
     "iopub.execute_input": "2022-03-18T08:21:01.114418Z",
     "iopub.status.busy": "2022-03-18T08:21:01.114163Z",
     "iopub.status.idle": "2022-03-18T08:21:01.274945Z",
     "shell.execute_reply": "2022-03-18T08:21:01.274694Z"
    },
    "papermill": {
     "duration": 0.196121,
     "end_time": "2022-03-18T08:21:01.274997",
     "exception": false,
     "start_time": "2022-03-18T08:21:01.078876",
     "status": "completed"
    },
    "tags": []
   },
   "outputs": [
    {
     "data": {
      "text/plain": [
       "<AxesSubplot:title={'center':'Per Domain Validation Accuracy'}, xlabel='domain'>"
      ]
     },
     "execution_count": 27,
     "metadata": {},
     "output_type": "execute_result"
    },
    {
     "data": {
      "image/png": "[encoded data removed]",
      "text/plain": [
       "<Figure size 1080x504 with 1 Axes>"
      ]
     },
     "metadata": {
      "needs_background": "light"
     },
     "output_type": "display_data"
    }
   ],
   "source": [
    "get_domain_accuracies(experiment)"
   ]
  },
  {
   "cell_type": "code",
   "execution_count": 28,
   "id": "a74ae082",
   "metadata": {
    "execution": {
     "iopub.execute_input": "2022-03-18T08:21:01.345847Z",
     "iopub.status.busy": "2022-03-18T08:21:01.345589Z",
     "iopub.status.idle": "2022-03-18T08:21:01.362063Z",
     "shell.execute_reply": "2022-03-18T08:21:01.362269Z"
    },
    "papermill": {
     "duration": 0.053584,
     "end_time": "2022-03-18T08:21:01.362328",
     "exception": false,
     "start_time": "2022-03-18T08:21:01.308744",
     "status": "completed"
    },
    "tags": []
   },
   "outputs": [
    {
     "name": "stdout",
     "output_type": "stream",
     "text": [
      "Source Test Label Accuracy: 0.6766927083333333 Target Test Label Accuracy: 0.6907106164383562\n",
      "Source Val Label Accuracy: 0.6736979166666667 Target Val Label Accuracy: 0.6954195205479452\n"
     ]
    }
   ],
   "source": [
    "print(\"Source Test Label Accuracy:\", experiment[\"results\"][\"source_test_label_accuracy\"], \"Target Test Label Accuracy:\", experiment[\"results\"][\"target_test_label_accuracy\"])\n",
    "print(\"Source Val Label Accuracy:\", experiment[\"results\"][\"source_val_label_accuracy\"], \"Target Val Label Accuracy:\", experiment[\"results\"][\"target_val_label_accuracy\"])"
   ]
  },
  {
   "cell_type": "code",
   "execution_count": 29,
   "id": "dacca602",
   "metadata": {
    "execution": {
     "iopub.execute_input": "2022-03-18T08:21:01.432807Z",
     "iopub.status.busy": "2022-03-18T08:21:01.432555Z",
     "iopub.status.idle": "2022-03-18T08:21:01.452254Z",
     "shell.execute_reply": "2022-03-18T08:21:01.452630Z"
    },
    "papermill": {
     "duration": 0.056429,
     "end_time": "2022-03-18T08:21:01.452736",
     "exception": false,
     "start_time": "2022-03-18T08:21:01.396307",
     "status": "completed"
    },
    "tags": [
     "experiment_json"
    ]
   },
   "outputs": [
    {
     "data": {
      "text/plain": [
       "'{\"experiment_name\": \"tl_3-jitter5:oracle.run1.framed -> cores+wisig\", \"parameters\": {\"experiment_name\": \"tl_3-jitter5:oracle.run1.framed -> cores+wisig\", \"device\": \"cuda\", \"lr\": 0.001, \"seed\": 1337, \"dataset_seed\": 1337, \"n_shot\": 3, \"n_query\": 2, \"train_k_factor\": 3, \"val_k_factor\": 2, \"test_k_factor\": 2, \"torch_default_dtype\": \"torch.float32\", \"n_epoch\": 50, \"patience\": 3, \"criteria_for_best\": \"target_loss\", \"x_net\": [{\"class\": \"nnReshape\", \"kargs\": {\"shape\": [-1, 1, 2, 256]}}, {\"class\": \"Conv2d\", \"kargs\": {\"in_channels\": 1, \"out_channels\": 256, \"kernel_size\": [1, 7], \"bias\": false, \"padding\": [0, 3]}}, {\"class\": \"ReLU\", \"kargs\": {\"inplace\": true}}, {\"class\": \"BatchNorm2d\", \"kargs\": {\"num_features\": 256}}, {\"class\": \"Conv2d\", \"kargs\": {\"in_channels\": 256, \"out_channels\": 80, \"kernel_size\": [2, 7], \"bias\": true, \"padding\": [0, 3]}}, {\"class\": \"ReLU\", \"kargs\": {\"inplace\": true}}, {\"class\": \"BatchNorm2d\", \"kargs\": {\"num_features\": 80}}, {\"class\": \"Flatten\", \"kargs\": {}}, {\"class\": \"Linear\", \"kargs\": {\"in_features\": 20480, \"out_features\": 256}}, {\"class\": \"ReLU\", \"kargs\": {\"inplace\": true}}, {\"class\": \"BatchNorm1d\", \"kargs\": {\"num_features\": 256}}, {\"class\": \"Linear\", \"kargs\": {\"in_features\": 256, \"out_features\": 256}}], \"NUM_LOGS_PER_EPOCH\": 10, \"BEST_MODEL_PATH\": \"./best_model.pth\", \"n_way\": 16, \"datasets\": [{\"labels\": [\"1-10.\", \"1-11.\", \"1-15.\", \"1-16.\", \"1-17.\", \"1-18.\", \"1-19.\", \"10-4.\", \"10-7.\", \"11-1.\", \"11-14.\", \"11-17.\", \"11-20.\", \"11-7.\", \"13-20.\", \"13-8.\", \"14-10.\", \"14-11.\", \"14-14.\", \"14-7.\", \"15-1.\", \"15-20.\", \"16-1.\", \"16-16.\", \"17-10.\", \"17-11.\", \"17-2.\", \"19-1.\", \"19-16.\", \"19-19.\", \"19-20.\", \"19-3.\", \"2-10.\", \"2-11.\", \"2-17.\", \"2-18.\", \"2-20.\", \"2-3.\", \"2-4.\", \"2-5.\", \"2-6.\", \"2-7.\", \"2-8.\", \"3-13.\", \"3-18.\", \"3-3.\", \"4-1.\", \"4-10.\", \"4-11.\", \"4-19.\", \"5-5.\", \"6-15.\", \"7-10.\", \"7-14.\", \"8-18.\", \"8-20.\", \"8-3.\", \"8-8.\"], \"domains\": [1, 2, 3, 4, 5], \"num_examples_per_domain_per_label\": 100, \"pickle_path\": \"/mnt/wd500GB/CSC500/csc500-main/datasets/cores.stratified_ds.2022A.pkl\", \"source_or_target_dataset\": \"target\", \"x_transforms\": [\"unit_power\", \"jitter_256_5\", \"take_200\"], \"episode_transforms\": [], \"domain_prefix\": \"C_A_\"}, {\"labels\": [\"1-10\", \"1-12\", \"1-14\", \"1-16\", \"1-18\", \"1-19\", \"1-8\", \"10-11\", \"10-17\", \"10-4\", \"10-7\", \"11-1\", \"11-10\", \"11-19\", \"11-20\", \"11-4\", \"11-7\", \"12-19\", \"12-20\", \"12-7\", \"13-14\", \"13-18\", \"13-19\", \"13-20\", \"13-3\", \"13-7\", \"14-10\", \"14-11\", \"14-12\", \"14-13\", \"14-14\", \"14-19\", \"14-20\", \"14-7\", \"14-8\", \"14-9\", \"15-1\", \"15-19\", \"15-6\", \"16-1\", \"16-16\", \"16-19\", \"16-20\", \"17-10\", \"17-11\", \"18-1\", \"18-10\", \"18-11\", \"18-12\", \"18-13\", \"18-14\", \"18-15\", \"18-16\", \"18-17\", \"18-19\", \"18-2\", \"18-20\", \"18-4\", \"18-5\", \"18-7\", \"18-8\", \"18-9\", \"19-1\", \"19-10\", \"19-11\", \"19-12\", \"19-13\", \"19-14\", \"19-15\", \"19-19\", \"19-2\", \"19-20\", \"19-3\", \"19-4\", \"19-6\", \"19-7\", \"19-8\", \"19-9\", \"2-1\", \"2-13\", \"2-15\", \"2-3\", \"2-4\", \"2-5\", \"2-6\", \"2-7\", \"2-8\", \"20-1\", \"20-12\", \"20-14\", \"20-15\", \"20-16\", \"20-18\", \"20-19\", \"20-20\", \"20-3\", \"20-4\", \"20-5\", \"20-7\", \"20-8\", \"3-1\", \"3-13\", \"3-18\", \"3-2\", \"3-8\", \"4-1\", \"4-10\", \"4-11\", \"5-1\", \"5-5\", \"6-1\", \"6-15\", \"6-6\", \"7-10\", \"7-11\", \"7-12\", \"7-13\", \"7-14\", \"7-7\", \"7-8\", \"7-9\", \"8-1\", \"8-13\", \"8-14\", \"8-18\", \"8-20\", \"8-3\", \"8-8\", \"9-1\", \"9-7\"], \"domains\": [1, 2, 3, 4], \"num_examples_per_domain_per_label\": 100, \"pickle_path\": \"/mnt/wd500GB/CSC500/csc500-main/datasets/wisig.node3-19.stratified_ds.2022A.pkl\", \"source_or_target_dataset\": \"target\", \"x_transforms\": [\"unit_power\", \"jitter_256_5\", \"take_200\"], \"episode_transforms\": [], \"domain_prefix\": \"W_A_\"}, {\"labels\": [\"3123D52\", \"3123D65\", \"3123D79\", \"3123D80\", \"3123D54\", \"3123D70\", \"3123D7B\", \"3123D89\", \"3123D58\", \"3123D76\", \"3123D7D\", \"3123EFE\", \"3123D64\", \"3123D78\", \"3123D7E\", \"3124E4A\"], \"domains\": [32, 38, 8, 44, 14, 50, 20, 26], \"num_examples_per_domain_per_label\": 2000, \"pickle_path\": \"/mnt/wd500GB/CSC500/csc500-main/datasets/oracle.Run1_framed_2000Examples_stratified_ds.2022A.pkl\", \"source_or_target_dataset\": \"source\", \"x_transforms\": [\"unit_power\", \"jitter_256_5\", \"take_200\", \"resample_20Msps_to_25Msps\"], \"episode_transforms\": [], \"domain_prefix\": \"ORACLE.run1_\"}], \"x_shape\": [2, 256], \"domains_source\": [\"ORACLE.run1_32\", \"ORACLE.run1_38\", \"ORACLE.run1_8\", \"ORACLE.run1_44\", \"ORACLE.run1_14\", \"ORACLE.run1_50\", \"ORACLE.run1_20\", \"ORACLE.run1_26\"], \"domains_target\": [\"C_A_1\", \"C_A_2\", \"C_A_3\", \"C_A_4\", \"C_A_5\", \"W_A_1\", \"W_A_2\", \"W_A_3\", \"W_A_4\"]}, \"results\": {\"source_test_label_accuracy\": 0.6766927083333333, \"source_test_label_loss\": 0.8914042115211487, \"target_test_label_accuracy\": 0.6907106164383562, \"target_test_label_loss\": 275.9150085449219, \"source_val_label_accuracy\": 0.6736979166666667, \"source_val_label_loss\": 0.8998690843582153, \"target_val_label_accuracy\": 0.6954195205479452, \"target_val_label_loss\": 233.44375610351562, \"total_epochs_trained\": 8, \"total_experiment_time_secs\": 1488.3489663600922, \"confusion\": {\"ORACLE.run1_14\": {\"15\": {\"15\": 228, \"7\": 12}, \"3\": {\"3\": 213, \"4\": 16, \"14\": 6, \"5\": 1, \"2\": 4}, \"6\": {\"6\": 141, \"13\": 72, \"14\": 15, \"2\": 12}, \"1\": {\"1\": 205, \"5\": 31, \"4\": 4}, \"8\": {\"8\": 240}, \"10\": {\"10\": 199, \"0\": 39, \"3\": 2}, \"9\": {\"9\": 236, \"11\": 4}, \"13\": {\"14\": 85, \"2\": 25, \"13\": 50, \"6\": 78, \"5\": 1, \"3\": 1}, \"12\": {\"12\": 240}, \"5\": {\"5\": 135, \"1\": 38, \"4\": 55, \"3\": 3, \"2\": 6, \"13\": 1, \"6\": 1, \"7\": 1}, \"0\": {\"0\": 156, \"10\": 73, \"11\": 8, \"3\": 2, \"8\": 1}, \"2\": {\"2\": 108, \"6\": 28, \"5\": 24, \"4\": 12, \"14\": 37, \"13\": 22, \"15\": 6, \"3\": 3}, \"11\": {\"11\": 189, \"10\": 12, \"9\": 30, \"0\": 9}, \"14\": {\"14\": 173, \"6\": 16, \"13\": 32, \"2\": 12, \"3\": 7}, \"7\": {\"7\": 230, \"15\": 10}, \"4\": {\"4\": 176, \"1\": 12, \"5\": 39, \"2\": 8, \"3\": 5}}, \"ORACLE.run1_20\": {\"3\": {\"12\": 42, \"9\": 19, \"3\": 126, \"5\": 4, \"4\": 9, \"0\": 5, \"8\": 11, \"2\": 8, \"7\": 15, \"1\": 1}, \"15\": {\"15\": 118, \"1\": 59, \"5\": 13, \"0\": 36, \"3\": 1, \"13\": 7, \"12\": 5, \"2\": 1}, \"8\": {\"8\": 160, \"10\": 19, \"6\": 1, \"4\": 30, \"14\": 3, \"7\": 11, \"3\": 14, \"9\": 2}, \"4\": {\"4\": 185, \"3\": 15, \"8\": 36, \"10\": 2, \"5\": 2}, \"14\": {\"6\": 20, \"14\": 168, \"10\": 48, \"8\": 4}, \"0\": {\"1\": 45, \"5\": 56, \"0\": 73, \"15\": 39, \"12\": 16, \"9\": 1, \"3\": 9, \"13\": 1}, \"7\": {\"7\": 158, \"9\": 29, \"8\": 13, \"2\": 35, \"3\": 5}, \"6\": {\"6\": 225, \"14\": 13, \"10\": 2}, \"10\": {\"14\": 48, \"10\": 177, \"4\": 2, \"8\": 13}, \"5\": {\"5\": 108, \"12\": 28, \"1\": 29, \"0\": 50, \"4\": 6, \"15\": 7, \"3\": 12}, \"2\": {\"7\": 35, \"2\": 86, \"9\": 66, \"13\": 26, \"3\": 11, \"12\": 14, \"15\": 1, \"1\": 1}, \"12\": {\"12\": 89, \"3\": 54, \"1\": 27, \"2\": 11, \"0\": 15, \"5\": 23, \"9\": 14, \"15\": 6, \"7\": 1}, \"9\": {\"9\": 85, \"13\": 13, \"7\": 41, \"12\": 12, \"2\": 68, \"3\": 19, \"15\": 1, \"8\": 1}, \"1\": {\"15\": 43, \"5\": 49, \"1\": 73, \"0\": 50, \"12\": 21, \"13\": 3, \"2\": 1}, \"11\": {\"11\": 238, \"2\": 1, \"7\": 1}, \"13\": {\"2\": 21, \"13\": 202, \"1\": 3, \"9\": 11, \"7\": 1, \"15\": 2}}, \"ORACLE.run1_38\": {\"5\": {\"8\": 70, \"0\": 24, \"9\": 8, \"5\": 93, \"15\": 12, \"1\": 1, \"3\": 8, \"7\": 13, \"6\": 9, \"13\": 2}, \"8\": {\"8\": 140, \"7\": 10, \"0\": 35, \"15\": 5, \"10\": 7, \"5\": 40, \"13\": 2, \"1\": 1}, \"11\": {\"11\": 208, \"14\": 25, \"12\": 7}, \"1\": {\"1\": 228, \"15\": 12}, \"10\": {\"10\": 173, \"12\": 30, \"0\": 6, \"13\": 18, \"2\": 1, \"5\": 1, \"7\": 2, \"8\": 6, \"15\": 1, \"14\": 2}, \"15\": {\"13\": 75, \"15\": 136, \"8\": 6, \"1\": 16, \"2\": 2, \"5\": 5}, \"3\": {\"3\": 194, \"5\": 4, \"7\": 18, \"9\": 19, \"0\": 5}, \"7\": {\"7\": 147, \"0\": 69, \"5\": 9, \"3\": 9, \"10\": 1, \"8\": 5}, \"4\": {\"4\": 225, \"12\": 15}, \"14\": {\"14\": 205, \"2\": 18, \"10\": 2, \"11\": 14, \"12\": 1}, \"9\": {\"9\": 154, \"6\": 70, \"3\": 13, \"5\": 3}, \"12\": {\"12\": 207, \"10\": 18, \"4\": 13, \"11\": 2}, \"6\": {\"6\": 184, \"9\": 54, \"5\": 2}, \"2\": {\"2\": 226, \"14\": 13, \"13\": 1}, \"0\": {\"8\": 49, \"7\": 61, \"0\": 81, \"10\": 12, \"3\": 12, \"5\": 19, \"13\": 4, \"9\": 2}, \"13\": {\"13\": 150, \"15\": 63, \"10\": 12, \"2\": 9, \"8\": 4, \"1\": 2}}, \"ORACLE.run1_8\": {\"9\": {\"9\": 240}, \"10\": {\"5\": 6, \"10\": 150, \"4\": 11, \"14\": 59, \"13\": 14}, \"13\": {\"4\": 41, \"10\": 16, \"0\": 45, \"6\": 15, \"13\": 91, \"14\": 28, \"7\": 3, \"11\": 1}, \"0\": {\"0\": 188, \"7\": 7, \"13\": 29, \"6\": 10, \"4\": 4, \"14\": 1, \"10\": 1}, \"1\": {\"1\": 147, \"11\": 82, \"14\": 4, \"5\": 7}, \"15\": {\"15\": 192, \"12\": 42, \"8\": 6}, \"5\": {\"5\": 206, \"1\": 11, \"10\": 13, \"11\": 7, \"14\": 3}, \"3\": {\"3\": 210, \"2\": 26, \"12\": 4}, \"6\": {\"7\": 45, \"4\": 26, \"6\": 155, \"0\": 4, \"13\": 8, \"14\": 2}, \"11\": {\"11\": 137, \"1\": 91, \"5\": 10, \"14\": 2}, \"8\": {\"8\": 232, \"15\": 7, \"12\": 1}, \"4\": {\"10\": 8, \"13\": 55, \"4\": 113, \"6\": 32, \"14\": 30, \"0\": 2}, \"12\": {\"12\": 118, \"15\": 71, \"3\": 46, \"8\": 5}, \"14\": {\"14\": 127, \"13\": 14, \"4\": 30, \"1\": 11, \"10\": 56, \"11\": 2}, \"2\": {\"2\": 191, \"3\": 36, \"7\": 11, \"15\": 1, \"12\": 1}, \"7\": {\"7\": 192, \"6\": 41, \"13\": 3, \"4\": 1, \"0\": 3}}, \"ORACLE.run1_50\": {\"7\": {\"5\": 40, \"13\": 47, \"7\": 146, \"10\": 5, \"6\": 1, \"4\": 1}, \"3\": {\"3\": 231, \"8\": 9}, \"8\": {\"8\": 232, \"10\": 5, \"3\": 3}, \"2\": {\"2\": 212, \"0\": 28}, \"14\": {\"14\": 229, \"9\": 1, \"11\": 4, \"12\": 6}, \"4\": {\"15\": 60, \"4\": 91, \"1\": 26, \"7\": 5, \"5\": 17, \"6\": 40, \"13\": 1}, \"6\": {\"6\": 125, \"15\": 3, \"4\": 34, \"1\": 10, \"13\": 25, \"5\": 41, \"7\": 2}, \"15\": {\"15\": 157, \"1\": 37, \"4\": 38, \"11\": 7, \"6\": 1}, \"10\": {\"10\": 221, \"7\": 3, \"8\": 8, \"0\": 7, \"13\": 1}, \"11\": {\"11\": 203, \"9\": 22, \"15\": 6, \"12\": 8, \"14\": 1}, \"13\": {\"7\": 50, \"5\": 34, \"13\": 131, \"6\": 19, \"10\": 4, \"0\": 1, \"4\": 1}, \"9\": {\"11\": 33, \"9\": 177, \"12\": 30}, \"0\": {\"10\": 20, \"0\": 194, \"2\": 25, \"13\": 1}, \"1\": {\"15\": 34, \"1\": 158, \"4\": 20, \"6\": 21, \"11\": 3, \"2\": 1, \"14\": 1, \"0\": 1, \"5\": 1}, \"12\": {\"12\": 205, \"9\": 16, \"14\": 14, \"11\": 5}, \"5\": {\"5\": 65, \"6\": 55, \"7\": 59, \"13\": 32, \"4\": 17, \"1\": 11, \"10\": 1}}, \"ORACLE.run1_32\": {\"8\": {\"13\": 29, \"8\": 152, \"5\": 34, \"0\": 16, \"7\": 4, \"3\": 4, \"4\": 1}, \"14\": {\"14\": 82, \"11\": 46, \"3\": 11, \"0\": 3, \"7\": 60, \"13\": 25, \"2\": 2, \"4\": 5, \"5\": 6}, \"2\": {\"2\": 185, \"4\": 44, \"0\": 8, \"7\": 2, \"14\": 1}, \"0\": {\"2\": 8, \"0\": 117, \"4\": 54, \"5\": 18, \"13\": 13, \"8\": 13, \"7\": 16, \"14\": 1}, \"1\": {\"1\": 230, \"10\": 10}, \"10\": {\"10\": 232, \"1\": 8}, \"11\": {\"11\": 205, \"14\": 30, \"7\": 2, \"13\": 1, \"3\": 1, \"5\": 1}, \"5\": {\"4\": 19, \"11\": 2, \"13\": 43, \"3\": 15, \"5\": 48, \"14\": 16, \"7\": 29, \"8\": 37, \"0\": 30, \"2\": 1}, \"15\": {\"15\": 239, \"8\": 1}, \"3\": {\"3\": 224, \"13\": 9, \"14\": 2, \"5\": 3, \"11\": 2}, \"12\": {\"12\": 240}, \"7\": {\"5\": 15, \"4\": 50, \"0\": 11, \"7\": 87, \"14\": 47, \"13\": 20, \"2\": 4, \"8\": 4, \"3\": 1, \"11\": 1}, \"13\": {\"5\": 58, \"13\": 82, \"3\": 9, \"0\": 14, \"8\": 20, \"7\": 26, \"4\": 5, \"14\": 24, \"11\": 2}, \"6\": {\"6\": 240}, \"4\": {\"0\": 51, \"2\": 41, \"4\": 108, \"7\": 30, \"13\": 2, \"5\": 5, \"14\": 3}, \"9\": {\"9\": 238, \"12\": 2}}, \"ORACLE.run1_26\": {\"4\": {\"4\": 104, \"0\": 22, \"10\": 14, \"8\": 40, \"14\": 18, \"7\": 18, \"1\": 23, \"9\": 1}, \"12\": {\"12\": 233, \"11\": 7}, \"10\": {\"14\": 21, \"10\": 85, \"0\": 65, \"8\": 37, \"6\": 18, \"9\": 1, \"4\": 8, \"1\": 3, \"15\": 2}, \"0\": {\"8\": 23, \"4\": 34, \"14\": 41, \"0\": 59, \"6\": 5, \"10\": 58, \"1\": 17, \"15\": 3}, \"13\": {\"13\": 176, \"5\": 39, \"9\": 19, \"15\": 4, \"2\": 2}, \"9\": {\"5\": 30, \"6\": 16, \"15\": 72, \"9\": 93, \"8\": 7, \"7\": 3, \"13\": 14, \"10\": 3, \"2\": 2}, \"3\": {\"3\": 155, \"2\": 63, \"7\": 20, \"4\": 1, \"15\": 1}, \"2\": {\"2\": 77, \"7\": 35, \"3\": 84, \"15\": 14, \"5\": 23, \"8\": 4, \"9\": 2, \"13\": 1}, \"5\": {\"8\": 2, \"13\": 31, \"15\": 48, \"5\": 106, \"2\": 15, \"7\": 8, \"9\": 30}, \"14\": {\"4\": 35, \"1\": 62, \"14\": 85, \"0\": 35, \"10\": 16, \"8\": 7}, \"8\": {\"8\": 99, \"7\": 19, \"14\": 2, \"4\": 32, \"0\": 19, \"10\": 31, \"15\": 16, \"6\": 12, \"2\": 3, \"9\": 6, \"1\": 1}, \"7\": {\"8\": 11, \"3\": 22, \"7\": 144, \"2\": 27, \"5\": 1, \"4\": 23, \"15\": 8, \"9\": 1, \"0\": 1, \"14\": 1, \"1\": 1}, \"6\": {\"6\": 180, \"8\": 10, \"10\": 18, \"9\": 16, \"15\": 11, \"0\": 4, \"4\": 1}, \"11\": {\"11\": 229, \"12\": 11}, \"15\": {\"15\": 77, \"5\": 31, \"9\": 64, \"8\": 31, \"13\": 14, \"7\": 7, \"2\": 4, \"0\": 1, \"10\": 4, \"6\": 7}, \"1\": {\"4\": 27, \"14\": 81, \"1\": 101, \"0\": 13, \"10\": 8, \"8\": 2, \"7\": 8}}, \"ORACLE.run1_44\": {\"12\": {\"12\": 187, \"1\": 46, \"10\": 7}, \"7\": {\"7\": 152, \"2\": 44, \"9\": 37, \"6\": 6, \"3\": 1}, \"5\": {\"5\": 186, \"15\": 11, \"0\": 21, \"14\": 9, \"4\": 5, \"8\": 8}, \"15\": {\"15\": 181, \"14\": 17, \"5\": 13, \"4\": 3, \"0\": 17, \"8\": 9}, \"8\": {\"8\": 132, \"0\": 99, \"15\": 4, \"5\": 5}, \"2\": {\"1\": 6, \"2\": 166, \"7\": 41, \"10\": 25, \"9\": 1, \"3\": 1}, \"13\": {\"6\": 36, \"13\": 150, \"11\": 23, \"9\": 30, \"7\": 1}, \"4\": {\"4\": 165, \"14\": 72, \"15\": 2, \"5\": 1}, \"0\": {\"8\": 81, \"0\": 132, \"5\": 18, \"15\": 9}, \"6\": {\"9\": 33, \"6\": 155, \"13\": 30, \"11\": 15, \"7\": 7}, \"9\": {\"13\": 28, \"7\": 45, \"9\": 145, \"6\": 18, \"2\": 2, \"3\": 2}, \"11\": {\"6\": 14, \"11\": 197, \"13\": 29}, \"10\": {\"1\": 23, \"10\": 176, \"2\": 27, \"12\": 13, \"3\": 1}, \"14\": {\"4\": 93, \"14\": 122, \"15\": 16, \"5\": 9}, \"1\": {\"1\": 125, \"12\": 59, \"3\": 25, \"2\": 18, \"10\": 13}, \"3\": {\"3\": 206, \"1\": 32, \"2\": 2}}, \"W_A_3\": {\"109\": {\"57\": 2, \"64\": 1, \"81\": 3, \"4\": 1, \"96\": 1, \"123\": 1, \"109\": 2, \"119\": 1}, \"127\": {\"127\": 10, \"5\": 1, \"4\": 1}, \"14\": {\"84\": 1, \"14\": 3, \"44\": 4, \"20\": 2, \"115\": 1, \"86\": 1}, \"7\": {\"129\": 2, \"7\": 8, \"55\": 2}, \"129\": {\"7\": 1, \"129\": 7, \"49\": 1, \"87\": 1, \"103\": 2}, \"57\": {\"57\": 8, \"80\": 2, \"31\": 2}, \"84\": {\"44\": 3, \"107\": 1, \"32\": 1, \"93\": 1, \"16\": 1, \"49\": 1, \"62\": 1, \"10\": 1, \"84\": 2}, \"114\": {\"129\": 1, \"114\": 7, \"68\": 1, \"105\": 1, \"1\": 1, \"95\": 1}, \"44\": {\"44\": 7, \"57\": 1, \"32\": 2, \"116\": 1, \"43\": 1}, \"21\": {\"21\": 12}, \"46\": {\"46\": 11, \"35\": 1}, \"100\": {\"100\": 7, \"107\": 2, \"32\": 1, \"40\": 2}, \"63\": {\"84\": 1, \"24\": 1, \"113\": 2, \"63\": 2, \"6\": 1, \"16\": 1, \"43\": 2, \"54\": 1, \"123\": 1}, \"24\": {\"24\": 5, \"21\": 1, \"54\": 1, \"94\": 1, \"36\": 2, \"64\": 1, \"112\": 1}, \"107\": {\"107\": 10, \"14\": 1, \"84\": 1}, \"35\": {\"84\": 1, \"46\": 3, \"35\": 4, \"4\": 1, \"114\": 1}, \"81\": {\"64\": 1, \"81\": 1, \"119\": 2, \"122\": 2, \"26\": 2, \"123\": 2, \"88\": 2}, \"64\": {\"64\": 7, \"118\": 2, \"120\": 1, \"109\": 2}, \"59\": {\"36\": 1, \"59\": 9, \"73\": 2}, \"33\": {\"22\": 1, \"33\": 9, \"28\": 1, \"90\": 1}, \"34\": {\"34\": 8, \"73\": 1, \"22\": 2, \"58\": 1}, \"36\": {\"36\": 11, \"25\": 1}, \"79\": {\"79\": 5, \"115\": 2, \"90\": 2, \"107\": 2, \"32\": 1}, \"80\": {\"57\": 1, \"80\": 7, \"17\": 1, \"31\": 1, \"113\": 1, \"28\": 1}, \"77\": {\"77\": 11, \"91\": 1}, \"22\": {\"33\": 2, \"81\": 1, \"22\": 4, \"66\": 2, \"74\": 2, \"48\": 1}, \"124\": {\"124\": 10, \"98\": 1, \"85\": 1}, \"2\": {\"109\": 1, \"64\": 1, \"43\": 3, \"2\": 2, \"118\": 1, \"67\": 2, \"120\": 1, \"11\": 1}, \"87\": {\"105\": 2, \"67\": 1, \"49\": 1, \"55\": 2, \"107\": 2, \"86\": 1, \"19\": 1, \"129\": 2}, \"105\": {\"105\": 12}, \"95\": {\"95\": 10, \"48\": 1, \"55\": 1}, \"43\": {\"43\": 6, \"68\": 1, \"28\": 1, \"102\": 1, \"96\": 1, \"113\": 1, \"56\": 1}, \"56\": {\"86\": 1, \"110\": 1, \"56\": 4, \"103\": 4}, \"18\": {\"123\": 3, \"54\": 2, \"67\": 2, \"18\": 1, \"127\": 1, \"70\": 1, \"78\": 1, \"81\": 1}, \"85\": {\"85\": 11, \"47\": 1}, \"113\": {\"123\": 2, \"113\": 8, \"28\": 2}, \"97\": {\"59\": 1, \"97\": 9, \"52\": 2}, \"86\": {\"86\": 11, \"56\": 1}, \"128\": {\"110\": 2, \"128\": 3, \"38\": 1, \"115\": 1, \"124\": 1, \"107\": 2, \"32\": 1, \"60\": 1}, \"123\": {\"123\": 10, \"67\": 2}, \"8\": {\"8\": 9, \"83\": 1, \"0\": 1, \"42\": 1}, \"110\": {\"110\": 6, \"10\": 2, \"55\": 1, \"99\": 1, \"41\": 1, \"115\": 1}, \"126\": {\"21\": 3, \"95\": 1, \"64\": 2, \"126\": 4, \"118\": 2}, \"101\": {\"101\": 9, \"72\": 3}, \"115\": {\"44\": 2, \"90\": 1, \"79\": 3, \"115\": 6}, \"49\": {\"115\": 2, \"42\": 1, \"49\": 7, \"72\": 1, \"0\": 1}, \"45\": {\"115\": 4, \"2\": 1, \"39\": 1, \"5\": 1, \"45\": 2, \"74\": 2, \"44\": 1}, \"78\": {\"78\": 4, \"123\": 2, \"13\": 1, \"40\": 1, \"50\": 2, \"53\": 2}, \"65\": {\"65\": 5, \"1\": 1, \"10\": 1, \"110\": 2, \"95\": 1}, \"54\": {\"54\": 11, \"94\": 1}, \"31\": {\"31\": 7, \"57\": 1, \"116\": 1, \"17\": 1}, \"42\": {\"49\": 2, \"42\": 2, \"108\": 1, \"106\": 1, \"15\": 1, \"30\": 1, \"73\": 1, \"88\": 1, \"78\": 1, \"94\": 1}, \"68\": {\"68\": 11, \"46\": 1}, \"15\": {\"15\": 11, \"106\": 1}, \"69\": {\"69\": 2, \"41\": 1, \"62\": 1, \"116\": 1, \"4\": 1, \"57\": 1, \"126\": 1, \"5\": 1, \"117\": 1, \"76\": 1, \"37\": 1}, \"17\": {\"31\": 1, \"41\": 1, \"67\": 2, \"9\": 1, \"1\": 1, \"60\": 2, \"116\": 1, \"56\": 1}, \"73\": {\"73\": 11, \"6\": 1}, \"121\": {\"31\": 2, \"121\": 1, \"66\": 1, \"119\": 2, \"118\": 2, \"16\": 2, \"64\": 1, \"120\": 1}, \"102\": {\"69\": 1, \"48\": 1, \"102\": 6, \"74\": 1, \"28\": 2, \"44\": 1}, \"48\": {\"31\": 2, \"16\": 1, \"104\": 1, \"48\": 2, \"100\": 1, \"37\": 1, \"65\": 1, \"119\": 1, \"116\": 1, \"86\": 1}, \"23\": {\"31\": 2, \"55\": 1, \"107\": 1, \"99\": 1, \"113\": 1, \"91\": 1, \"128\": 1, \"67\": 2, \"7\": 1, \"40\": 1}, \"108\": {\"108\": 5, \"42\": 1, \"112\": 2, \"12\": 3, \"0\": 1}, \"53\": {\"53\": 8, \"48\": 1, \"100\": 1, \"116\": 1, \"107\": 1}, \"94\": {\"94\": 7, \"15\": 1, \"25\": 2}, \"41\": {\"41\": 11, \"7\": 1}, \"58\": {\"58\": 11, \"72\": 1}, \"29\": {\"29\": 9, \"28\": 2, \"60\": 1}, \"116\": {\"121\": 1, \"116\": 7, \"92\": 2, \"11\": 2}, \"60\": {\"66\": 2, \"22\": 1, \"39\": 1, \"122\": 1, \"60\": 3, \"32\": 1, \"7\": 2, \"107\": 1}, \"104\": {\"104\": 10, \"19\": 1, \"53\": 1}, \"106\": {\"106\": 12}, \"66\": {\"66\": 10, \"55\": 1, \"65\": 1}, \"47\": {\"47\": 12}, \"40\": {\"40\": 10, \"9\": 1, \"129\": 1}, \"82\": {\"82\": 3, \"29\": 3, \"66\": 2, \"119\": 1, \"115\": 1, \"48\": 2}, \"13\": {\"11\": 1, \"78\": 1, \"113\": 2, \"127\": 1, \"93\": 1, \"79\": 1, \"105\": 1, \"13\": 1, \"16\": 1, \"63\": 1, \"4\": 1}, \"19\": {\"72\": 1, \"19\": 2, \"115\": 1, \"128\": 1, \"107\": 1, \"20\": 2, \"12\": 2, \"87\": 1, \"38\": 1}, \"72\": {\"58\": 3, \"72\": 8, \"35\": 1}, \"9\": {\"9\": 12}, \"67\": {\"17\": 1, \"67\": 6, \"39\": 2, \"126\": 1, \"64\": 1, \"109\": 1}, \"11\": {\"67\": 2, \"11\": 5, \"119\": 2, \"82\": 1, \"43\": 1, \"116\": 1}, \"125\": {\"125\": 12}, \"76\": {\"67\": 1, \"11\": 1, \"28\": 2, \"31\": 2, \"107\": 2}, \"83\": {\"83\": 12}, \"74\": {\"74\": 6, \"54\": 1, \"28\": 1, \"105\": 1, \"48\": 1, \"116\": 1, \"31\": 1}, \"20\": {\"20\": 12}, \"119\": {\"119\": 12}, \"1\": {\"1\": 11, \"114\": 1}, \"16\": {\"80\": 2, \"16\": 8, \"62\": 2}, \"25\": {\"25\": 9, \"120\": 1, \"59\": 2}, \"90\": {\"90\": 8}, \"39\": {\"43\": 1, \"21\": 1, \"39\": 4, \"5\": 1, \"80\": 2, \"111\": 1, \"122\": 2}, \"28\": {\"28\": 6, \"74\": 1, \"16\": 1, \"102\": 1, \"44\": 2, \"29\": 1}, \"55\": {\"55\": 11, \"103\": 1}, \"117\": {\"43\": 1, \"45\": 1, \"38\": 1, \"37\": 1, \"117\": 5, \"123\": 1, \"21\": 1, \"116\": 1}, \"112\": {\"112\": 8, \"12\": 2, \"8\": 2}, \"38\": {\"28\": 1, \"56\": 1, \"38\": 1, \"128\": 1, \"33\": 1, \"105\": 2, \"19\": 1, \"45\": 1, \"115\": 1, \"44\": 2}, \"37\": {\"56\": 2, \"37\": 8, \"3\": 2}, \"120\": {\"120\": 9, \"113\": 2, \"63\": 1}, \"122\": {\"55\": 1, \"10\": 1, \"53\": 1, \"38\": 1, \"29\": 2, \"110\": 1, \"44\": 1, \"60\": 2, \"90\": 2}, \"50\": {\"127\": 1, \"87\": 1, \"99\": 2, \"50\": 5, \"40\": 2, \"34\": 1}, \"10\": {\"41\": 2, \"48\": 1, \"10\": 2, \"32\": 1, \"1\": 1, \"103\": 1, \"3\": 2, \"65\": 1, \"88\": 1}, \"5\": {\"5\": 11, \"127\": 1}, \"51\": {\"51\": 8, \"72\": 1, \"12\": 1, \"98\": 2}, \"3\": {\"3\": 8, \"70\": 1, \"103\": 1, \"46\": 1, \"64\": 1}, \"98\": {\"34\": 1, \"49\": 1, \"124\": 1, \"98\": 8, \"123\": 1}, \"70\": {\"16\": 1, \"34\": 1, \"96\": 2, \"85\": 1, \"70\": 2, \"23\": 1, \"51\": 1, \"49\": 1, \"28\": 1, \"41\": 1}, \"96\": {\"113\": 1, \"96\": 9, \"118\": 2}, \"12\": {\"12\": 7, \"0\": 3, \"51\": 1, \"124\": 1}, \"99\": {\"99\": 12}, \"52\": {\"52\": 10, \"58\": 1, \"12\": 1}, \"71\": {\"71\": 5, \"4\": 1, \"119\": 1, \"25\": 1, \"95\": 1, \"35\": 1, \"3\": 2}, \"89\": {\"96\": 1, \"89\": 3, \"93\": 1, \"50\": 2, \"63\": 1, \"43\": 1, \"127\": 1, \"78\": 1, \"37\": 1}, \"0\": {\"8\": 2, \"0\": 7, \"85\": 1, \"12\": 2}, \"4\": {\"4\": 7, \"114\": 2, \"118\": 1, \"64\": 1, \"23\": 1}, \"93\": {\"93\": 11, \"119\": 1}, \"6\": {\"6\": 7, \"30\": 1, \"125\": 1, \"36\": 1}, \"75\": {\"75\": 12}, \"62\": {\"62\": 6, \"90\": 1, \"84\": 2, \"33\": 2, \"105\": 1}, \"103\": {\"103\": 11, \"1\": 1}, \"30\": {\"30\": 11, \"59\": 1}, \"91\": {\"91\": 5, \"41\": 1, \"85\": 1, \"128\": 1, \"46\": 2, \"77\": 2}, \"27\": {\"27\": 10, \"24\": 1, \"83\": 1}, \"26\": {\"39\": 2, \"93\": 1, \"26\": 3, \"118\": 3, \"81\": 1, \"96\": 1, \"15\": 1}, \"61\": {\"95\": 1, \"119\": 1, \"61\": 6, \"116\": 1, \"117\": 1, \"76\": 1, \"89\": 1}, \"118\": {\"120\": 1, \"118\": 7, \"123\": 1, \"26\": 1, \"43\": 2}, \"92\": {\"92\": 10, \"119\": 2}, \"111\": {\"111\": 12}, \"32\": {\"32\": 8, \"50\": 1, \"19\": 1, \"79\": 2}, \"88\": {\"70\": 1, \"88\": 3, \"47\": 1, \"118\": 1, \"123\": 2, \"78\": 2}}, \"W_A_4\": {\"28\": {\"28\": 8, \"60\": 1, \"128\": 1, \"79\": 2}, \"4\": {\"4\": 12}, \"72\": {\"72\": 10, \"66\": 1, \"44\": 1}, \"111\": {\"111\": 12}, \"108\": {\"108\": 2, \"28\": 1, \"57\": 1, \"122\": 1, \"7\": 2, \"83\": 1, \"5\": 1, \"64\": 1, \"119\": 1, \"93\": 1}, \"43\": {\"72\": 1, \"89\": 1, \"57\": 1, \"115\": 1, \"80\": 1, \"129\": 1, \"84\": 2, \"1\": 1, \"43\": 1}, \"96\": {\"90\": 2, \"53\": 1, \"96\": 5, \"38\": 2, \"43\": 1, \"84\": 1}, \"89\": {\"89\": 9, \"82\": 1, \"17\": 2}, \"31\": {\"72\": 1, \"108\": 1, \"90\": 1, \"113\": 1, \"109\": 1, \"31\": 1, \"13\": 2, \"14\": 2, \"78\": 1, \"37\": 1}, \"45\": {\"72\": 1, \"43\": 1, \"69\": 2, \"45\": 3, \"32\": 2, \"76\": 1, \"99\": 1, \"102\": 1}, \"2\": {\"90\": 2, \"96\": 2, \"33\": 2, \"105\": 1, \"115\": 1, \"48\": 1, \"21\": 1, \"2\": 2}, \"114\": {\"114\": 11, \"40\": 1}, \"11\": {\"11\": 5, \"28\": 3, \"7\": 1, \"119\": 2, \"93\": 1}, \"12\": {\"12\": 11, \"111\": 1}, \"14\": {\"28\": 1, \"43\": 1, \"60\": 1, \"14\": 3, \"64\": 2, \"7\": 1, \"20\": 1, \"5\": 1, \"76\": 1}, \"90\": {\"72\": 2, \"90\": 7, \"22\": 2, \"62\": 1}, \"10\": {\"42\": 1, \"54\": 1, \"36\": 1, \"10\": 6, \"27\": 1, \"6\": 2}, \"63\": {\"121\": 2, \"63\": 6, \"71\": 1, \"44\": 1, \"57\": 2}, \"85\": {\"85\": 8, \"121\": 1, \"124\": 1, \"87\": 2}, \"64\": {\"11\": 2, \"64\": 7, \"71\": 1, \"86\": 1, \"75\": 1}, \"82\": {\"82\": 9, \"57\": 1, \"2\": 1, \"17\": 1}, \"58\": {\"12\": 2, \"58\": 9, \"91\": 1}, \"3\": {\"3\": 7, \"4\": 1, \"89\": 1, \"114\": 1, \"105\": 1, \"129\": 1}, \"54\": {\"54\": 12}, \"121\": {\"121\": 4, \"84\": 2, \"123\": 2, \"108\": 1, \"113\": 1, \"20\": 1, \"72\": 1}, \"42\": {\"42\": 7, \"98\": 1, \"8\": 2, \"101\": 1, \"28\": 1}, \"98\": {\"98\": 7, \"91\": 3, \"0\": 2}, \"123\": {\"63\": 1, \"121\": 1, \"67\": 2, \"123\": 3, \"113\": 1, \"120\": 2, \"78\": 2}, \"91\": {\"12\": 2, \"54\": 1, \"37\": 3, \"98\": 2, \"128\": 2, \"87\": 1, \"91\": 1}, \"66\": {\"66\": 9, \"124\": 1, \"84\": 1, \"62\": 1}, \"102\": {\"82\": 1, \"122\": 1, \"102\": 3, \"56\": 1, \"73\": 2, \"45\": 2, \"60\": 2}, \"122\": {\"122\": 4, \"118\": 2, \"74\": 1, \"67\": 1, \"28\": 1, \"72\": 1, \"40\": 1, \"99\": 1}, \"1\": {\"4\": 1, \"1\": 8, \"86\": 1, \"114\": 1, \"55\": 1}, \"15\": {\"15\": 9, \"125\": 1, \"9\": 1, \"8\": 1}, \"97\": {\"97\": 6, \"54\": 1, \"59\": 2, \"108\": 1, \"15\": 1, \"8\": 1}, \"75\": {\"75\": 12}, \"95\": {\"95\": 9, \"1\": 1, \"87\": 1, \"86\": 1}, \"57\": {\"72\": 1, \"62\": 1, \"57\": 4, \"69\": 2, \"32\": 1, \"66\": 1, \"118\": 1, \"110\": 1}, \"68\": {\"68\": 12}, \"125\": {\"125\": 12}, \"62\": {\"62\": 6, \"60\": 1, \"90\": 2, \"44\": 1}, \"27\": {\"27\": 7, \"9\": 1, \"21\": 1, \"47\": 2, \"113\": 1}, \"120\": {\"83\": 2, \"119\": 1, \"120\": 4, \"103\": 1, \"71\": 1, \"49\": 1, \"98\": 2}, \"26\": {\"71\": 1, \"63\": 1, \"93\": 1, \"1\": 1, \"118\": 1, \"117\": 1, \"31\": 1, \"4\": 1, \"102\": 1, \"113\": 1, \"108\": 1, \"94\": 1}, \"55\": {\"55\": 12}, \"71\": {\"55\": 2, \"71\": 5, \"88\": 1, \"56\": 2, \"95\": 2}, \"22\": {\"22\": 7, \"55\": 1, \"23\": 2, \"60\": 2}, \"99\": {\"99\": 7, \"14\": 1, \"60\": 1, \"21\": 1, \"7\": 1, \"44\": 1}, \"84\": {\"84\": 6, \"103\": 1, \"72\": 1, \"90\": 2, \"62\": 1, \"13\": 1}, \"37\": {\"91\": 1, \"37\": 10, \"5\": 1}, \"83\": {\"83\": 12}, \"46\": {\"46\": 12}, \"35\": {\"71\": 2, \"35\": 3, \"96\": 1, \"118\": 2, \"13\": 1, \"57\": 2, \"109\": 1}, \"13\": {\"13\": 5, \"118\": 3, \"65\": 1, \"72\": 2, \"84\": 1}, \"53\": {\"53\": 10, \"88\": 1, \"21\": 1}, \"127\": {\"115\": 2, \"127\": 8, \"51\": 2}, \"69\": {\"57\": 1, \"48\": 1, \"104\": 1, \"69\": 7, \"78\": 1, \"16\": 1}, \"48\": {\"57\": 1, \"115\": 1, \"44\": 2, \"110\": 2, \"84\": 1, \"67\": 1, \"66\": 1, \"48\": 1, \"10\": 1, \"60\": 1}, \"16\": {\"57\": 2, \"98\": 2, \"67\": 2, \"56\": 1, \"71\": 1, \"90\": 2, \"66\": 2}, \"0\": {\"115\": 1, \"0\": 2, \"42\": 1, \"119\": 1, \"46\": 1, \"49\": 1, \"34\": 2, \"120\": 1, \"37\": 2}, \"8\": {\"8\": 7, \"57\": 1, \"103\": 1, \"53\": 2, \"100\": 1}, \"9\": {\"9\": 8, \"70\": 2, \"106\": 2}, \"115\": {\"43\": 2, \"44\": 1, \"115\": 4, \"87\": 1, \"74\": 1, \"105\": 1, \"72\": 1, \"128\": 1}, \"70\": {\"52\": 1, \"70\": 4, \"63\": 1, \"9\": 1, \"51\": 2, \"42\": 1, \"68\": 1, \"58\": 1}, \"119\": {\"119\": 11, \"11\": 1}, \"59\": {\"59\": 12}, \"52\": {\"52\": 9, \"51\": 1, \"34\": 2}, \"60\": {\"95\": 1, \"44\": 1, \"128\": 1, \"65\": 1, \"60\": 3, \"99\": 1, \"19\": 2, \"46\": 2}, \"44\": {\"44\": 6, \"74\": 2, \"67\": 1, \"72\": 2, \"38\": 1}, \"51\": {\"52\": 1, \"70\": 1, \"30\": 2, \"47\": 2, \"111\": 1, \"12\": 1, \"68\": 2, \"53\": 2}, \"6\": {\"15\": 3, \"6\": 9}, \"73\": {\"17\": 2, \"104\": 1, \"5\": 2, \"73\": 7}, \"78\": {\"104\": 1, \"63\": 1, \"64\": 2, \"87\": 1, \"93\": 1, \"32\": 2, \"0\": 1, \"37\": 1, \"119\": 2}, \"92\": {\"69\": 2, \"16\": 1, \"75\": 1, \"44\": 1, \"67\": 1, \"72\": 1, \"92\": 1, \"118\": 2, \"66\": 1, \"35\": 1}, \"20\": {\"20\": 7, \"78\": 1, \"5\": 1, \"19\": 2, \"37\": 1}, \"17\": {\"17\": 8, \"50\": 1, \"73\": 3}, \"74\": {\"74\": 11, \"72\": 1}, \"19\": {\"98\": 1, \"69\": 1, \"31\": 1, \"45\": 1, \"110\": 1, \"29\": 1, \"13\": 2, \"60\": 2, \"41\": 1, \"90\": 1}, \"50\": {\"17\": 2, \"50\": 9, \"89\": 1}, \"34\": {\"73\": 2, \"34\": 5, \"6\": 1, \"30\": 1, \"43\": 1, \"59\": 2}, \"104\": {\"104\": 3, \"75\": 1, \"56\": 1, \"16\": 1, \"50\": 2}, \"33\": {\"33\": 8, \"5\": 1, \"104\": 2, \"122\": 1}, \"5\": {\"5\": 6, \"124\": 1, \"129\": 2, \"115\": 2, \"73\": 1}, \"7\": {\"7\": 5, \"5\": 1, \"40\": 1, \"102\": 1, \"128\": 1, \"33\": 1, \"120\": 1, \"64\": 1}, \"29\": {\"29\": 11, \"124\": 1}, \"25\": {\"25\": 12}, \"124\": {\"91\": 2, \"124\": 4, \"101\": 2, \"79\": 1, \"100\": 1, \"85\": 1, \"29\": 1}, \"117\": {\"61\": 1, \"57\": 1, \"113\": 2, \"88\": 1, \"71\": 1, \"22\": 1, \"96\": 1, \"17\": 1, \"80\": 1, \"117\": 1, \"86\": 1}, \"88\": {\"88\": 4, \"93\": 1, \"118\": 1, \"63\": 2, \"119\": 2, \"94\": 1, \"39\": 1}, \"61\": {\"88\": 2, \"127\": 2, \"38\": 1, \"61\": 3, \"31\": 1, \"65\": 1, \"92\": 1, \"80\": 1}, \"86\": {\"86\": 12}, \"116\": {\"28\": 1, \"57\": 2, \"80\": 2, \"129\": 1, \"62\": 2, \"122\": 1, \"64\": 2, \"69\": 1}, \"24\": {\"10\": 2, \"36\": 3, \"30\": 1, \"6\": 2, \"24\": 2, \"51\": 1, \"25\": 1}, \"128\": {\"101\": 2, \"128\": 1, \"21\": 1, \"100\": 2, \"28\": 2, \"9\": 2, \"91\": 1, \"116\": 1}, \"101\": {\"101\": 7, \"100\": 2, \"91\": 2, \"95\": 1}, \"65\": {\"65\": 2, \"38\": 1, \"87\": 1, \"103\": 2, \"23\": 2, \"57\": 1, \"60\": 1}, \"36\": {\"10\": 1, \"36\": 8, \"25\": 1, \"8\": 1, \"24\": 1}, \"21\": {\"21\": 12}, \"106\": {\"9\": 1, \"106\": 10, \"77\": 1}, \"118\": {\"96\": 1, \"64\": 1, \"88\": 1, \"110\": 1, \"118\": 5, \"22\": 2, \"57\": 1}, \"113\": {\"93\": 2, \"113\": 5, \"126\": 1, \"81\": 2, \"123\": 1, \"39\": 1}, \"40\": {\"40\": 10, \"87\": 2}, \"93\": {\"31\": 1, \"45\": 1, \"93\": 3, \"110\": 3}, \"94\": {\"94\": 6, \"36\": 1, \"25\": 1, \"6\": 3, \"24\": 1}, \"103\": {\"29\": 3, \"46\": 2, \"103\": 5, \"5\": 1, \"54\": 1}, \"110\": {\"118\": 2, \"14\": 1, \"115\": 2, \"93\": 1, \"110\": 2, \"72\": 1, \"44\": 1, \"48\": 1, \"60\": 1}, \"56\": {\"56\": 12}, \"39\": {\"33\": 2, \"78\": 2, \"67\": 1, \"7\": 1, \"39\": 2, \"21\": 1, \"20\": 1, \"122\": 2}, \"109\": {\"33\": 1, \"75\": 1, \"123\": 1, \"40\": 1, \"5\": 1, \"80\": 1, \"57\": 2, \"118\": 2, \"93\": 2}, \"67\": {\"74\": 2, \"121\": 2, \"115\": 1, \"67\": 2, \"19\": 1, \"20\": 1, \"71\": 1, \"63\": 1, \"28\": 1}, \"129\": {\"129\": 4, \"114\": 1, \"103\": 1, \"105\": 1, \"3\": 1, \"49\": 1, \"41\": 1, \"11\": 2}, \"30\": {\"30\": 8, \"125\": 1, \"9\": 1, \"15\": 2}, \"126\": {\"126\": 2, \"5\": 2, \"38\": 2, \"113\": 2, \"45\": 2, \"108\": 2}, \"87\": {\"21\": 1, \"56\": 1, \"119\": 1, \"93\": 1, \"116\": 1, \"87\": 1, \"3\": 1, \"13\": 1, \"37\": 1, \"86\": 1, \"1\": 1, \"76\": 1}, \"112\": {\"112\": 12}, \"100\": {\"79\": 2, \"100\": 7, \"124\": 1, \"46\": 2}, \"79\": {\"79\": 8, \"37\": 2}, \"81\": {\"56\": 1, \"113\": 1, \"121\": 1, \"86\": 1, \"67\": 3, \"81\": 1, \"80\": 2, \"123\": 1, \"120\": 1}, \"76\": {\"76\": 7, \"115\": 1, \"32\": 1, \"5\": 1}, \"47\": {\"47\": 9, \"51\": 1, \"59\": 2}, \"77\": {\"77\": 12}, \"23\": {\"103\": 1, \"49\": 2, \"123\": 1, \"41\": 1, \"129\": 1, \"121\": 1, \"95\": 1, \"120\": 1, \"0\": 1, \"21\": 1, \"37\": 1}, \"18\": {\"23\": 1, \"18\": 3, \"5\": 2, \"63\": 1, \"14\": 1, \"95\": 1, \"92\": 1, \"107\": 2}, \"49\": {\"120\": 2, \"30\": 1, \"47\": 1, \"128\": 1, \"77\": 1, \"49\": 2, \"37\": 1, \"53\": 3}, \"41\": {\"101\": 1, \"41\": 9, \"125\": 1, \"111\": 1}, \"32\": {\"76\": 5, \"20\": 1, \"116\": 1, \"32\": 4, \"122\": 1}, \"107\": {\"128\": 2, \"107\": 6, \"33\": 2}, \"80\": {\"80\": 7, \"38\": 2, \"18\": 1, \"20\": 2}, \"105\": {\"105\": 7, \"87\": 2, \"113\": 1}, \"38\": {\"38\": 10}}, \"C_A_3\": {\"43\": {\"43\": 12}, \"9\": {\"9\": 12}, \"6\": {\"6\": 9, \"30\": 1}, \"3\": {\"51\": 1, \"3\": 11}, \"16\": {\"16\": 12}, \"51\": {\"51\": 12}, \"31\": {\"31\": 12}, \"46\": {\"46\": 10}, \"19\": {\"19\": 8}, \"8\": {\"8\": 11, \"38\": 1}, \"18\": {\"18\": 12}, \"37\": {\"37\": 12}, \"24\": {\"24\": 12}, \"10\": {\"10\": 12}, \"44\": {\"44\": 10}, \"14\": {\"31\": 1, \"14\": 3, \"1\": 1, \"22\": 1, \"57\": 3, \"29\": 2, \"28\": 1}, \"38\": {\"8\": 2, \"38\": 8}, \"53\": {\"53\": 10, \"51\": 1, \"20\": 1}, \"20\": {\"20\": 12}, \"32\": {\"32\": 12}, \"36\": {\"36\": 10}, \"33\": {\"33\": 12}, \"56\": {\"56\": 12}, \"23\": {\"23\": 12}, \"54\": {\"54\": 10}, \"34\": {\"34\": 12}, \"13\": {\"13\": 12}, \"2\": {\"2\": 12}, \"55\": {\"55\": 10}, \"21\": {\"21\": 9, \"50\": 1}, \"49\": {\"49\": 10}, \"25\": {\"25\": 11, \"6\": 1}, \"5\": {\"5\": 10, \"47\": 1, \"39\": 1}, \"50\": {\"25\": 1, \"50\": 7}, \"40\": {\"40\": 12}, \"57\": {\"57\": 7, \"35\": 1}, \"22\": {\"22\": 9, \"56\": 1}, \"1\": {\"1\": 7, \"34\": 1, \"14\": 2}, \"17\": {\"17\": 12}, \"41\": {\"41\": 12}, \"4\": {\"4\": 10}, \"7\": {\"7\": 10}, \"26\": {\"26\": 10}, \"29\": {\"29\": 12}, \"52\": {\"52\": 12}, \"15\": {\"15\": 12}, \"35\": {\"35\": 12}, \"42\": {\"42\": 12}, \"30\": {\"30\": 10}, \"27\": {\"27\": 8}, \"45\": {\"45\": 8, \"52\": 1, \"17\": 1}, \"0\": {\"0\": 12}, \"28\": {\"28\": 12}, \"47\": {\"47\": 11, \"5\": 1}, \"11\": {\"11\": 10}, \"39\": {\"39\": 10}, \"48\": {\"48\": 12}, \"12\": {\"12\": 8}}, \"C_A_4\": {\"35\": {\"35\": 10}, \"25\": {\"25\": 12}, \"24\": {\"24\": 10}, \"48\": {\"48\": 11, \"34\": 1}, \"51\": {\"51\": 11, \"53\": 1}, \"13\": {\"13\": 12}, \"14\": {\"14\": 6, \"56\": 2}, \"32\": {\"32\": 12}, \"30\": {\"30\": 11, \"21\": 1}, \"34\": {\"34\": 10}, \"9\": {\"9\": 12}, \"1\": {\"1\": 12}, \"0\": {\"38\": 2, \"0\": 9, \"47\": 1}, \"38\": {\"38\": 11, \"0\": 1}, \"22\": {\"22\": 8}, \"40\": {\"40\": 12}, \"39\": {\"39\": 12}, \"46\": {\"32\": 1, \"46\": 9, \"38\": 1, \"47\": 1}, \"36\": {\"36\": 11, \"3\": 1}, \"50\": {\"50\": 10, \"36\": 1, \"21\": 1}, \"49\": {\"49\": 9, \"7\": 3}, \"17\": {\"34\": 2, \"17\": 8, \"54\": 2}, \"45\": {\"45\": 5, \"17\": 2, \"4\": 2, \"40\": 2, \"13\": 1}, \"6\": {\"50\": 1, \"6\": 4, \"8\": 1, \"20\": 3, \"53\": 3}, \"8\": {\"8\": 12}, \"5\": {\"46\": 2, \"5\": 5, \"39\": 1, \"28\": 1, \"41\": 1}, \"33\": {\"33\": 12}, \"31\": {\"31\": 12}, \"37\": {\"37\": 10}, \"47\": {\"47\": 8}, \"15\": {\"15\": 10}, \"7\": {\"7\": 8, \"49\": 4}, \"20\": {\"20\": 12}, \"4\": {\"4\": 12}, \"54\": {\"34\": 1, \"54\": 8, \"26\": 3}, \"44\": {\"44\": 9, \"28\": 2, \"2\": 1}, \"3\": {\"25\": 1, \"3\": 10, \"36\": 1}, \"11\": {\"11\": 9, \"43\": 1}, \"27\": {\"27\": 8, \"26\": 2}, \"19\": {\"19\": 12}, \"55\": {\"55\": 8, \"42\": 4}, \"16\": {\"16\": 12}, \"2\": {\"2\": 10}, \"52\": {\"52\": 10}, \"42\": {\"55\": 3, \"42\": 7}, \"26\": {\"26\": 12}, \"10\": {\"10\": 12}, \"53\": {\"53\": 8, \"6\": 2}, \"28\": {\"28\": 12}, \"21\": {\"21\": 10}, \"57\": {\"57\": 10}, \"23\": {\"23\": 8}, \"43\": {\"43\": 8, \"11\": 2}, \"12\": {\"12\": 12}, \"41\": {\"41\": 12}, \"56\": {\"56\": 8}, \"18\": {\"18\": 8, \"23\": 2}, \"29\": {\"29\": 7, \"19\": 1}}, \"W_A_1\": {\"108\": {\"70\": 2, \"108\": 7, \"44\": 1}, \"40\": {\"40\": 10, \"85\": 1, \"114\": 1}, \"68\": {\"68\": 12}, \"23\": {\"9\": 1, \"64\": 1, \"122\": 1, \"23\": 1, \"104\": 1, \"33\": 1, \"56\": 1, \"7\": 1, \"22\": 1, \"11\": 1, \"37\": 1, \"73\": 1}, \"26\": {\"4\": 3, \"10\": 1, \"26\": 4, \"94\": 1, \"110\": 1, \"123\": 2}, \"64\": {\"64\": 10, \"41\": 1, \"20\": 1}, \"22\": {\"22\": 10, \"87\": 2}, \"3\": {\"64\": 3, \"22\": 1, \"3\": 7, \"33\": 1}, \"4\": {\"110\": 2, \"4\": 9, \"126\": 1}, \"70\": {\"4\": 1, \"9\": 1, \"70\": 3, \"77\": 1, \"72\": 2, \"78\": 1, \"11\": 1, \"29\": 2}, \"57\": {\"57\": 8, \"102\": 1, \"11\": 2, \"28\": 1}, \"79\": {\"79\": 7, \"40\": 1, \"93\": 1, \"124\": 1, \"43\": 1, \"54\": 1}, \"9\": {\"9\": 5, \"73\": 3, \"128\": 1, \"91\": 1, \"31\": 2}, \"89\": {\"89\": 12}, \"110\": {\"110\": 7, \"37\": 2, \"55\": 2, \"114\": 1}, \"102\": {\"57\": 1, \"102\": 7, \"82\": 1, \"116\": 1, \"7\": 1, \"50\": 1}, \"31\": {\"47\": 1, \"31\": 8, \"73\": 1, \"98\": 2}, \"58\": {\"58\": 12}, \"47\": {\"47\": 9, \"72\": 1, \"98\": 1, \"106\": 1}, \"24\": {\"24\": 10, \"27\": 1, \"88\": 1}, \"19\": {\"31\": 1, \"83\": 1, \"3\": 1, \"19\": 3, \"25\": 2, \"54\": 1, \"129\": 1, \"128\": 2}, \"11\": {\"57\": 1, \"11\": 5, \"99\": 1, \"28\": 2, \"45\": 1, \"116\": 2}, \"52\": {\"52\": 12}, \"17\": {\"17\": 12}, \"25\": {\"25\": 10, \"42\": 1, \"20\": 1}, \"69\": {\"57\": 2, \"60\": 1, \"69\": 9}, \"96\": {\"96\": 7, \"11\": 1, \"64\": 1, \"100\": 1, \"79\": 1, \"10\": 1}, \"109\": {\"109\": 8, \"61\": 1, \"50\": 2, \"7\": 1}, \"115\": {\"115\": 12}, \"83\": {\"11\": 1, \"83\": 4, \"81\": 3, \"50\": 1, \"75\": 1, \"116\": 1, \"99\": 1}, \"84\": {\"84\": 11, \"1\": 1}, \"119\": {\"119\": 10}, \"122\": {\"23\": 1, \"84\": 1, \"115\": 2, \"3\": 1, \"45\": 1, \"25\": 1, \"122\": 2, \"99\": 1}, \"99\": {\"7\": 1, \"74\": 2, \"11\": 1, \"99\": 6, \"82\": 1, \"65\": 1}, \"1\": {\"1\": 10, \"84\": 1, \"35\": 1}, \"74\": {\"74\": 3, \"23\": 1, \"81\": 1, \"69\": 2, \"76\": 1, \"44\": 1, \"50\": 1, \"90\": 2}, \"85\": {\"85\": 12}, \"127\": {\"127\": 10, \"5\": 1, \"111\": 1}, \"111\": {\"111\": 11, \"127\": 1}, \"53\": {\"53\": 12}, \"88\": {\"88\": 4, \"36\": 3, \"94\": 1, \"97\": 2, \"108\": 2}, \"65\": {\"65\": 5, \"99\": 2, \"90\": 1, \"60\": 1, \"119\": 1}, \"7\": {\"7\": 8, \"74\": 1, \"102\": 1, \"81\": 2}, \"16\": {\"119\": 2, \"10\": 2, \"11\": 2, \"57\": 1, \"39\": 2, \"18\": 2, \"16\": 1}, \"128\": {\"73\": 1, \"28\": 1, \"38\": 1, \"5\": 1, \"48\": 2, \"42\": 2, \"100\": 2, \"57\": 2}, \"34\": {\"68\": 2, \"41\": 1, \"75\": 2, \"122\": 2, \"80\": 1, \"37\": 1, \"3\": 1, \"49\": 1, \"84\": 1}, \"129\": {\"28\": 1, \"129\": 3, \"76\": 4, \"86\": 1, \"19\": 2, \"38\": 1}, \"43\": {\"43\": 6, \"4\": 2, \"0\": 1, \"54\": 1, \"120\": 1, \"113\": 1}, \"92\": {\"92\": 12}, \"28\": {\"28\": 11, \"116\": 1}, \"27\": {\"27\": 10, \"30\": 1, \"52\": 1}, \"114\": {\"114\": 10, \"40\": 2}, \"73\": {\"73\": 12}, \"0\": {\"17\": 1, \"0\": 11}, \"104\": {\"104\": 12}, \"118\": {\"28\": 2, \"69\": 1, \"118\": 3, \"117\": 1, \"35\": 1, \"67\": 1, \"82\": 1, \"39\": 2}, \"41\": {\"41\": 11, \"80\": 1}, \"49\": {\"49\": 11, \"72\": 1}, \"14\": {\"14\": 8, \"46\": 1, \"43\": 1, \"20\": 1, \"48\": 1}, \"46\": {\"66\": 1, \"46\": 3, \"104\": 1, \"97\": 1, \"125\": 2, \"22\": 2, \"41\": 2}, \"33\": {\"33\": 11, \"3\": 1}, \"76\": {\"76\": 10, \"50\": 1, \"65\": 1}, \"125\": {\"125\": 11, \"51\": 1}, \"86\": {\"46\": 1, \"14\": 3, \"86\": 6}, \"66\": {\"66\": 7, \"76\": 1, \"61\": 2, \"100\": 1, \"15\": 1}, \"5\": {\"5\": 12}, \"117\": {\"61\": 1, \"75\": 1, \"35\": 1, \"117\": 3, \"18\": 1, \"62\": 1, \"67\": 1, \"82\": 1, \"55\": 1, \"63\": 1}, \"75\": {\"9\": 1, \"75\": 9, \"72\": 2}, \"61\": {\"61\": 10, \"76\": 2}, \"50\": {\"67\": 2, \"50\": 4, \"7\": 2, \"100\": 1, \"74\": 1, \"102\": 1, \"64\": 1}, \"67\": {\"67\": 3, \"61\": 1, \"69\": 1, \"43\": 1, \"82\": 2, \"90\": 1, \"36\": 1}, \"18\": {\"61\": 2, \"18\": 8, \"121\": 2}, \"98\": {\"98\": 11, \"47\": 1}, \"55\": {\"55\": 10}, \"32\": {\"32\": 3, \"58\": 1, \"1\": 1, \"72\": 1, \"105\": 2, \"85\": 2, \"17\": 2}, \"120\": {\"45\": 1, \"50\": 1, \"120\": 7, \"90\": 1, \"110\": 1, \"100\": 1}, \"97\": {\"97\": 10, \"88\": 2}, \"126\": {\"104\": 1, \"109\": 1, \"126\": 8, \"8\": 1, \"77\": 1}, \"45\": {\"50\": 2, \"45\": 5, \"120\": 1, \"20\": 2, \"11\": 2}, \"78\": {\"115\": 2, \"54\": 1, \"0\": 1, \"10\": 1, \"21\": 1, \"22\": 1, \"11\": 1, \"78\": 2}, \"100\": {\"100\": 10, \"7\": 1, \"120\": 1}, \"107\": {\"107\": 12}, \"93\": {\"107\": 4, \"93\": 3, \"96\": 2, \"85\": 1, \"55\": 2}, \"77\": {\"77\": 10, \"47\": 1, \"9\": 1}, \"63\": {\"63\": 6, \"7\": 1, \"114\": 1, \"69\": 2, \"87\": 2}, \"112\": {\"112\": 9, \"111\": 1, \"6\": 1, \"12\": 1}, \"113\": {\"63\": 1, \"113\": 5, \"39\": 1, \"114\": 1, \"116\": 2, \"46\": 1, \"109\": 1}, \"103\": {\"103\": 7, \"71\": 1, \"98\": 2}, \"71\": {\"71\": 12}, \"30\": {\"30\": 7, \"15\": 1, \"59\": 1, \"24\": 1, \"6\": 1, \"94\": 1}, \"90\": {\"90\": 10, \"28\": 1, \"50\": 1}, \"37\": {\"15\": 1, \"37\": 9, \"110\": 2}, \"60\": {\"69\": 1, \"129\": 1, \"63\": 1, \"49\": 1, \"84\": 1, \"60\": 2, \"90\": 1, \"23\": 1, \"50\": 1, \"1\": 2}, \"15\": {\"15\": 7, \"71\": 1, \"53\": 1, \"6\": 2, \"27\": 1}, \"39\": {\"39\": 5, \"81\": 1, \"50\": 2, \"69\": 2, \"18\": 1, \"32\": 1}, \"72\": {\"72\": 9, \"47\": 1, \"58\": 1, \"75\": 1}, \"54\": {\"54\": 7, \"93\": 1, \"19\": 1, \"23\": 1, \"14\": 2}, \"35\": {\"35\": 8, \"60\": 1, \"87\": 1, \"1\": 1, \"115\": 1}, \"2\": {\"7\": 1, \"39\": 1, \"61\": 4, \"116\": 2, \"66\": 2, \"2\": 1, \"78\": 1}, \"94\": {\"15\": 2, \"94\": 6, \"88\": 1, \"75\": 2, \"109\": 1}, \"42\": {\"74\": 1, \"25\": 2, \"19\": 1, \"100\": 2, \"20\": 1, \"28\": 1, \"45\": 1, \"122\": 1, \"76\": 1, \"42\": 1}, \"81\": {\"114\": 2, \"7\": 2, \"81\": 2, \"82\": 1, \"76\": 1, \"64\": 1, \"50\": 2, \"4\": 1}, \"8\": {\"8\": 9, \"54\": 2, \"44\": 1}, \"87\": {\"114\": 2, \"1\": 2, \"110\": 2, \"40\": 2, \"115\": 2, \"129\": 1, \"85\": 1}, \"6\": {\"15\": 1, \"53\": 3, \"97\": 2, \"6\": 3, \"59\": 1, \"75\": 1, \"111\": 1}, \"36\": {\"36\": 12}, \"91\": {\"32\": 1, \"19\": 1, \"91\": 5, \"56\": 2, \"35\": 1, \"77\": 1, \"47\": 1}, \"56\": {\"56\": 11, \"85\": 1}, \"80\": {\"80\": 5, \"48\": 3, \"129\": 1, \"7\": 1, \"112\": 1, \"41\": 1}, \"124\": {\"124\": 9, \"103\": 1}, \"44\": {\"44\": 12}, \"13\": {\"119\": 2, \"94\": 1, \"83\": 1, \"69\": 2, \"13\": 4, \"99\": 1, \"109\": 1}, \"10\": {\"115\": 2, \"79\": 2, \"8\": 1, \"38\": 1, \"121\": 1, \"23\": 1, \"42\": 1, \"10\": 1, \"13\": 1, \"43\": 1}, \"59\": {\"59\": 8, \"30\": 1, \"123\": 1, \"82\": 1, \"51\": 1}, \"95\": {\"57\": 2, \"95\": 3, \"62\": 1, \"110\": 1, \"39\": 2, \"13\": 1, \"106\": 1, \"121\": 1}, \"105\": {\"105\": 8, \"15\": 1, \"85\": 1, \"32\": 2}, \"101\": {\"101\": 12}, \"20\": {\"1\": 1, \"20\": 6, \"80\": 1, \"128\": 1, \"81\": 1, \"3\": 1, \"46\": 1}, \"48\": {\"84\": 1, \"28\": 1, \"48\": 8, \"129\": 1, \"123\": 1}, \"106\": {\"106\": 11, \"58\": 1}, \"51\": {\"51\": 8, \"125\": 4}, \"21\": {\"96\": 2, \"87\": 1, \"8\": 1, \"125\": 1, \"21\": 4, \"112\": 1, \"14\": 1, \"101\": 1}, \"123\": {\"11\": 2, \"82\": 2, \"116\": 1, \"123\": 6, \"59\": 1}, \"121\": {\"61\": 2, \"94\": 1, \"121\": 8, \"105\": 1}, \"38\": {\"38\": 5, \"45\": 1, \"82\": 2, \"64\": 2, \"57\": 1, \"120\": 1}, \"62\": {\"48\": 1, \"10\": 1, \"102\": 1, \"90\": 1, \"82\": 1, \"120\": 1, \"62\": 1, \"7\": 1, \"50\": 1, \"113\": 1, \"99\": 2}, \"29\": {\"29\": 12}, \"82\": {\"82\": 12}, \"116\": {\"20\": 2, \"102\": 1, \"2\": 1, \"116\": 2, \"120\": 2, \"86\": 1, \"64\": 1, \"99\": 1, \"65\": 1}, \"12\": {\"51\": 2, \"12\": 4, \"111\": 1, \"6\": 1}}, \"C_A_5\": {\"47\": {\"47\": 10}, \"53\": {\"53\": 12}, \"29\": {\"29\": 12}, \"52\": {\"52\": 12}, \"55\": {\"55\": 12}, \"17\": {\"17\": 12}, \"42\": {\"42\": 12}, \"33\": {\"33\": 10}, \"11\": {\"11\": 12}, \"19\": {\"19\": 8}, \"1\": {\"1\": 12}, \"44\": {\"44\": 10, \"29\": 2}, \"49\": {\"49\": 12}, \"4\": {\"4\": 9, \"27\": 3}, \"6\": {\"6\": 11, \"55\": 1}, \"39\": {\"39\": 12}, \"13\": {\"13\": 12}, \"5\": {\"5\": 10}, \"16\": {\"16\": 10}, \"25\": {\"25\": 12}, \"45\": {\"45\": 5, \"17\": 1, \"18\": 1, \"48\": 1, \"15\": 1, \"30\": 2, \"25\": 1}, \"7\": {\"7\": 9, \"12\": 1}, \"22\": {\"22\": 12}, \"40\": {\"5\": 1, \"40\": 11}, \"38\": {\"38\": 8, \"6\": 2, \"55\": 2}, \"35\": {\"35\": 8}, \"56\": {\"56\": 12}, \"50\": {\"20\": 3, \"53\": 1, \"7\": 2, \"50\": 3, \"25\": 1}, \"0\": {\"0\": 12}, \"10\": {\"10\": 12}, \"27\": {\"27\": 12}, \"20\": {\"50\": 1, \"20\": 9}, \"36\": {\"36\": 8}, \"34\": {\"34\": 12}, \"30\": {\"30\": 12}, \"2\": {\"2\": 10}, \"15\": {\"15\": 12}, \"18\": {\"18\": 12}, \"32\": {\"32\": 12}, \"31\": {\"31\": 12}, \"57\": {\"57\": 12}, \"48\": {\"48\": 8}, \"28\": {\"28\": 10}, \"14\": {\"3\": 1, \"57\": 2, \"14\": 1, \"36\": 2, \"28\": 1, \"39\": 1, \"31\": 1, \"2\": 2, \"46\": 1}, \"3\": {\"3\": 6, \"42\": 1, \"49\": 2, \"2\": 2, \"47\": 1}, \"8\": {\"8\": 12}, \"9\": {\"9\": 12}, \"21\": {\"21\": 10}, \"41\": {\"41\": 10, \"54\": 2}, \"24\": {\"24\": 12}, \"46\": {\"46\": 9, \"2\": 1}, \"43\": {\"43\": 10}, \"54\": {\"54\": 10}, \"23\": {\"23\": 10}, \"37\": {\"37\": 10}, \"12\": {\"12\": 10}, \"26\": {\"26\": 10}, \"51\": {\"51\": 6}}, \"C_A_1\": {\"46\": {\"46\": 12}, \"16\": {\"16\": 12}, \"26\": {\"26\": 10, \"14\": 2}, \"10\": {\"10\": 12}, \"9\": {\"9\": 10}, \"28\": {\"28\": 12}, \"51\": {\"51\": 12}, \"1\": {\"1\": 11, \"56\": 1}, \"55\": {\"55\": 12}, \"27\": {\"27\": 10}, \"22\": {\"22\": 10, \"11\": 2}, \"52\": {\"52\": 10, \"23\": 2}, \"3\": {\"3\": 12}, \"33\": {\"33\": 8}, \"47\": {\"47\": 12}, \"42\": {\"42\": 12}, \"12\": {\"12\": 4}, \"23\": {\"23\": 10, \"52\": 2}, \"49\": {\"49\": 10}, \"7\": {\"7\": 12}, \"4\": {\"4\": 5, \"40\": 3, \"2\": 2, \"54\": 2}, \"50\": {\"50\": 12}, \"19\": {\"19\": 12}, \"11\": {\"11\": 12}, \"31\": {\"31\": 10}, \"41\": {\"41\": 10, \"53\": 2}, \"56\": {\"56\": 9, \"1\": 1}, \"0\": {\"0\": 11, \"38\": 1}, \"57\": {\"57\": 12}, \"53\": {\"53\": 12}, \"43\": {\"43\": 12}, \"37\": {\"37\": 10, \"25\": 2}, \"2\": {\"2\": 8}, \"6\": {\"6\": 10, \"48\": 1, \"5\": 1}, \"18\": {\"18\": 12}, \"38\": {\"38\": 12}, \"15\": {\"15\": 12}, \"36\": {\"36\": 12}, \"39\": {\"39\": 8}, \"44\": {\"44\": 12}, \"8\": {\"8\": 12}, \"17\": {\"17\": 10}, \"5\": {\"5\": 12}, \"13\": {\"13\": 10}, \"40\": {\"40\": 7, \"19\": 2, \"42\": 1}, \"29\": {\"29\": 12}, \"48\": {\"48\": 12}, \"32\": {\"32\": 12}, \"30\": {\"30\": 12}, \"35\": {\"35\": 12}, \"25\": {\"25\": 10, \"37\": 2}, \"14\": {\"14\": 1, \"53\": 1, \"5\": 3, \"41\": 4, \"30\": 1, \"7\": 1, \"46\": 1}, \"54\": {\"54\": 10}, \"20\": {\"20\": 8}, \"21\": {\"21\": 10}, \"45\": {\"45\": 8}, \"24\": {\"24\": 6, \"21\": 1, \"22\": 1}, \"34\": {\"34\": 8}}, \"W_A_2\": {\"91\": {\"12\": 2, \"91\": 2, \"78\": 1, \"0\": 1, \"7\": 2, \"77\": 1, \"34\": 1, \"115\": 1, \"53\": 1}, \"12\": {\"12\": 9, \"99\": 1, \"0\": 1, \"41\": 1}, \"101\": {\"106\": 1, \"101\": 8, \"9\": 1}, \"121\": {\"17\": 2, \"120\": 1, \"89\": 1, \"23\": 2, \"81\": 1, \"65\": 1, \"90\": 1, \"45\": 1, \"71\": 1, \"113\": 1}, \"118\": {\"88\": 1, \"118\": 3, \"87\": 2, \"45\": 1, \"48\": 1, \"38\": 1, \"100\": 1, \"90\": 1, \"31\": 1}, \"10\": {\"118\": 2, \"105\": 1, \"64\": 1, \"10\": 2, \"29\": 1, \"115\": 1, \"34\": 1, \"84\": 1, \"33\": 2}, \"117\": {\"126\": 1, \"117\": 4, \"21\": 1, \"96\": 1, \"63\": 1, \"75\": 1, \"80\": 1, \"45\": 1, \"31\": 1}, \"110\": {\"110\": 9, \"106\": 1, \"73\": 2}, \"97\": {\"97\": 5, \"88\": 1, \"11\": 2, \"9\": 1, \"30\": 1, \"93\": 1, \"106\": 1}, \"28\": {\"17\": 1, \"28\": 5, \"67\": 1, \"106\": 1, \"110\": 1, \"116\": 1, \"44\": 1, \"25\": 1}, \"88\": {\"17\": 1, \"118\": 2, \"88\": 2, \"109\": 2, \"119\": 2, \"20\": 1, \"83\": 1, \"31\": 1}, \"17\": {\"110\": 1, \"91\": 1, \"105\": 2, \"129\": 4, \"17\": 3, \"114\": 1}, \"126\": {\"126\": 6, \"67\": 1, \"70\": 1, \"82\": 1, \"44\": 1, \"32\": 2}, \"33\": {\"33\": 12}, \"86\": {\"86\": 12}, \"106\": {\"106\": 11, \"58\": 1}, \"54\": {\"54\": 11, \"103\": 1}, \"125\": {\"125\": 12}, \"83\": {\"83\": 12}, \"98\": {\"98\": 8, \"0\": 1, \"91\": 1, \"54\": 2}, \"11\": {\"42\": 1, \"11\": 5, \"106\": 1, \"8\": 1, \"0\": 2, \"108\": 1, \"80\": 1}, \"32\": {\"42\": 1, \"87\": 1, \"32\": 2, \"78\": 1, \"34\": 1, \"19\": 1, \"29\": 1, \"123\": 2, \"113\": 1, \"60\": 1}, \"42\": {\"42\": 8, \"108\": 1, \"19\": 1, \"53\": 2}, \"103\": {\"103\": 11, \"54\": 1}, \"87\": {\"83\": 1, \"87\": 4, \"46\": 1, \"16\": 1, \"65\": 1, \"23\": 1, \"119\": 1, \"33\": 1, \"90\": 1}, \"61\": {\"118\": 1, \"87\": 1, \"61\": 7, \"99\": 1, \"22\": 2}, \"13\": {\"61\": 1, \"83\": 2, \"82\": 1, \"16\": 1, \"120\": 1, \"13\": 4, \"4\": 1, \"87\": 1}, \"4\": {\"4\": 12}, \"15\": {\"125\": 1, \"15\": 9}, \"120\": {\"120\": 8, \"99\": 2, \"109\": 2}, \"80\": {\"80\": 6, \"102\": 1, \"14\": 2, \"46\": 1, \"105\": 1, \"84\": 1}, \"72\": {\"102\": 1, \"76\": 1, \"31\": 1, \"93\": 1, \"57\": 2, \"87\": 1, \"69\": 1, \"5\": 1, \"72\": 1}, \"64\": {\"76\": 2, \"64\": 6, \"116\": 1, \"15\": 1, \"74\": 1, \"61\": 1}, \"81\": {\"120\": 1, \"102\": 1, \"1\": 1, \"67\": 1, \"48\": 2, \"109\": 1, \"26\": 1, \"65\": 1, \"64\": 1, \"63\": 2}, \"102\": {\"76\": 2, \"102\": 5, \"31\": 1, \"61\": 4}, \"76\": {\"76\": 10, \"70\": 1, \"45\": 1}, \"49\": {\"98\": 1, \"49\": 5, \"114\": 1, \"52\": 1, \"11\": 1, \"21\": 1}, \"129\": {\"129\": 9, \"110\": 1, \"35\": 1, \"1\": 1}, \"89\": {\"76\": 1, \"102\": 1, \"13\": 1, \"120\": 1, \"31\": 2, \"50\": 1, \"89\": 1, \"82\": 1, \"95\": 1, \"90\": 1, \"55\": 1}, \"52\": {\"52\": 11, \"112\": 1}, \"35\": {\"35\": 7, \"127\": 1, \"79\": 3, \"34\": 1}, \"53\": {\"53\": 7, \"79\": 1, \"29\": 2, \"33\": 1, \"58\": 1}, \"112\": {\"54\": 2, \"112\": 5, \"124\": 1, \"34\": 1, \"52\": 2, \"103\": 1}, \"105\": {\"105\": 10, \"7\": 1, \"1\": 1}, \"100\": {\"64\": 1, \"100\": 9, \"116\": 2}, \"9\": {\"9\": 12}, \"82\": {\"10\": 1, \"17\": 1, \"16\": 2, \"96\": 3, \"126\": 2, \"50\": 2, \"63\": 1}, \"51\": {\"51\": 5, \"125\": 2, \"127\": 2, \"77\": 1, \"8\": 2}, \"21\": {\"17\": 1, \"21\": 10, \"113\": 1}, \"92\": {\"21\": 1, \"100\": 1, \"118\": 2, \"55\": 2, \"31\": 1, \"102\": 1, \"76\": 1, \"45\": 1, \"53\": 1, \"57\": 1}, \"69\": {\"21\": 1, \"10\": 1, \"99\": 1, \"119\": 1, \"90\": 1, \"4\": 1, \"127\": 1, \"110\": 1, \"50\": 1, \"82\": 1, \"69\": 1, \"13\": 1}, \"77\": {\"77\": 9, \"30\": 1, \"98\": 2}, \"50\": {\"46\": 1, \"16\": 1, \"100\": 1, \"74\": 2, \"62\": 2, \"22\": 1, \"50\": 2, \"44\": 1, \"125\": 1}, \"36\": {\"36\": 11, \"24\": 1}, \"16\": {\"16\": 7, \"43\": 1, \"11\": 1, \"115\": 1, \"10\": 1, \"120\": 1}, \"8\": {\"88\": 1, \"8\": 9, \"108\": 1, \"120\": 1}, \"127\": {\"127\": 12}, \"46\": {\"46\": 9, \"80\": 1}, \"84\": {\"46\": 2, \"84\": 6, \"80\": 2, \"66\": 2}, \"18\": {\"50\": 1, \"82\": 1, \"18\": 5, \"65\": 1, \"115\": 1, \"16\": 1, \"83\": 1, \"59\": 1}, \"123\": {\"123\": 7, \"46\": 1, \"59\": 1, \"100\": 1}, \"56\": {\"71\": 2, \"56\": 4, \"1\": 2, \"107\": 1, \"73\": 2, \"15\": 1}, \"26\": {\"65\": 2, \"87\": 1, \"78\": 1, \"26\": 2, \"63\": 1, \"109\": 2, \"120\": 1, \"13\": 1, \"23\": 1}, \"14\": {\"109\": 1, \"14\": 5, \"107\": 1, \"59\": 1, \"38\": 1, \"129\": 1, \"120\": 1, \"80\": 1}, \"109\": {\"87\": 1, \"109\": 5, \"99\": 1, \"90\": 2, \"63\": 1, \"78\": 2}, \"66\": {\"66\": 9, \"74\": 1, \"53\": 2}, \"24\": {\"24\": 4, \"25\": 1, \"28\": 1, \"20\": 1, \"94\": 1, \"109\": 1, \"47\": 1, \"0\": 2}, \"71\": {\"109\": 1, \"71\": 5, \"54\": 2, \"91\": 2, \"5\": 1, \"73\": 1}, \"65\": {\"65\": 4, \"92\": 1, \"25\": 1, \"18\": 2, \"14\": 1, \"8\": 1, \"83\": 1, \"13\": 1}, \"75\": {\"75\": 8, \"15\": 2, \"6\": 1, \"21\": 1}, \"111\": {\"111\": 12}, \"30\": {\"30\": 4, \"127\": 1, \"34\": 1, \"77\": 2, \"91\": 1, \"97\": 2, \"59\": 1}, \"85\": {\"85\": 9, \"59\": 1, \"7\": 1, \"19\": 1}, \"113\": {\"92\": 2, \"39\": 2, \"21\": 2, \"118\": 1, \"111\": 1, \"113\": 2}, \"45\": {\"45\": 5, \"19\": 1, \"70\": 2, \"14\": 1, \"80\": 1, \"64\": 2}, \"29\": {\"29\": 9, \"59\": 2, \"55\": 1}, \"20\": {\"92\": 2, \"20\": 8, \"88\": 2}, \"25\": {\"25\": 8, \"106\": 4}, \"0\": {\"0\": 10, \"11\": 2}, \"68\": {\"68\": 9, \"95\": 1, \"110\": 1, \"115\": 1}, \"119\": {\"119\": 9, \"90\": 2, \"48\": 1}, \"90\": {\"90\": 11, \"102\": 1}, \"38\": {\"38\": 12}, \"99\": {\"99\": 9, \"65\": 1, \"39\": 2}, \"1\": {\"1\": 8, \"40\": 3, \"68\": 1}, \"67\": {\"38\": 1, \"69\": 1, \"67\": 6, \"125\": 1, \"81\": 1, \"61\": 1, \"75\": 1}, \"63\": {\"63\": 9, \"92\": 1, \"120\": 2}, \"34\": {\"34\": 6, \"19\": 2, \"79\": 2, \"7\": 1, \"129\": 1}, \"108\": {\"108\": 10, \"17\": 1, \"42\": 1}, \"40\": {\"56\": 3, \"40\": 5, \"1\": 4}, \"47\": {\"78\": 1, \"33\": 1, \"127\": 1, \"66\": 4, \"47\": 3, \"74\": 2}, \"37\": {\"37\": 5, \"102\": 1, \"126\": 1, \"14\": 1, \"28\": 1, \"10\": 1, \"76\": 2}, \"78\": {\"21\": 1, \"98\": 1, \"65\": 1, \"78\": 2, \"22\": 2, \"7\": 1, \"17\": 1, \"67\": 1, \"63\": 1, \"120\": 1}, \"96\": {\"102\": 1, \"90\": 1, \"96\": 3, \"62\": 1, \"57\": 1, \"72\": 1, \"17\": 1, \"109\": 1, \"82\": 1, \"55\": 1}, \"43\": {\"33\": 1, \"111\": 1, \"44\": 1, \"43\": 2, \"64\": 1, \"19\": 1, \"62\": 1, \"93\": 2, \"22\": 1, \"73\": 1}, \"5\": {\"5\": 9, \"114\": 1}, \"124\": {\"124\": 11, \"34\": 1}, \"44\": {\"44\": 11, \"10\": 1}, \"41\": {\"124\": 2, \"41\": 9, \"17\": 1}, \"116\": {\"45\": 1, \"116\": 2, \"62\": 2, \"55\": 1, \"119\": 3, \"50\": 1, \"37\": 1, \"38\": 1}, \"19\": {\"45\": 1, \"19\": 5, \"86\": 1, \"34\": 1, \"123\": 2, \"47\": 1, \"84\": 1}, \"115\": {\"95\": 4, \"115\": 3, \"129\": 1, \"110\": 1, \"68\": 1, \"105\": 2}, \"95\": {\"95\": 8, \"126\": 1, \"122\": 1, \"68\": 2}, \"3\": {\"95\": 1, \"41\": 1, \"122\": 1, \"68\": 1, \"3\": 6}, \"59\": {\"66\": 2, \"59\": 7, \"29\": 1, \"53\": 2}, \"55\": {\"55\": 6, \"46\": 1, \"66\": 2, \"29\": 1, \"60\": 1, \"33\": 1}, \"70\": {\"46\": 1, \"126\": 1, \"70\": 1, \"1\": 1, \"93\": 1, \"104\": 1, \"109\": 1, \"67\": 1, \"60\": 1, \"33\": 3}, \"6\": {\"6\": 10, \"25\": 1, \"94\": 1}, \"2\": {\"48\": 1, \"2\": 2, \"16\": 2, \"115\": 2, \"83\": 1, \"63\": 1, \"120\": 1, \"117\": 1, \"80\": 1}, \"48\": {\"95\": 1, \"48\": 4, \"119\": 1, \"31\": 2, \"87\": 1, \"105\": 1, \"57\": 1, \"68\": 1}, \"23\": {\"63\": 1, \"44\": 1, \"52\": 1, \"96\": 1, \"23\": 4, \"122\": 1, \"14\": 1, \"34\": 1, \"3\": 1}, \"7\": {\"84\": 1, \"7\": 9, \"73\": 1, \"40\": 1}, \"122\": {\"41\": 2, \"7\": 2, \"128\": 1, \"95\": 2, \"122\": 3, \"46\": 1, \"56\": 1}, \"57\": {\"127\": 1, \"42\": 1, \"61\": 1, \"57\": 5, \"72\": 1, \"59\": 1, \"87\": 2}, \"39\": {\"96\": 1, \"82\": 1, \"31\": 1, \"39\": 3, \"68\": 1, \"98\": 1, \"53\": 1, \"88\": 1}, \"79\": {\"79\": 8, \"56\": 2, \"77\": 1, \"34\": 1}, \"27\": {\"27\": 9, \"15\": 1}, \"74\": {\"74\": 4, \"108\": 1, \"60\": 1, \"62\": 2, \"9\": 1, \"78\": 1, \"120\": 1, \"8\": 1}, \"73\": {\"107\": 3, \"73\": 8, \"56\": 1}, \"62\": {\"100\": 1, \"74\": 1, \"62\": 7, \"60\": 1, \"80\": 1, \"84\": 1}, \"107\": {\"107\": 9, \"68\": 1, \"122\": 1, \"5\": 1}, \"128\": {\"7\": 2, \"128\": 3, \"58\": 1, \"14\": 2, \"86\": 1, \"115\": 1, \"33\": 2}, \"60\": {\"62\": 1, \"60\": 3, \"76\": 1, \"104\": 2, \"38\": 1, \"84\": 1, \"33\": 1, \"100\": 1, \"32\": 1}, \"114\": {\"114\": 12}, \"22\": {\"22\": 12}, \"93\": {\"93\": 8, \"119\": 3, \"48\": 1}, \"94\": {\"94\": 9, \"9\": 2, \"88\": 1}, \"31\": {\"57\": 2, \"22\": 1, \"31\": 6, \"90\": 1}, \"104\": {\"104\": 7, \"107\": 1, \"58\": 1, \"43\": 2, \"26\": 1}, \"58\": {\"58\": 10, \"9\": 2}}, \"C_A_2\": {\"14\": {\"14\": 7, \"56\": 1, \"19\": 1, \"1\": 1, \"0\": 1, \"22\": 1}, \"22\": {\"22\": 12}, \"9\": {\"9\": 12}, \"47\": {\"47\": 12}, \"13\": {\"13\": 12}, \"8\": {\"8\": 12}, \"7\": {\"7\": 11, \"18\": 1}, \"49\": {\"49\": 12}, \"20\": {\"20\": 12}, \"16\": {\"16\": 12}, \"34\": {\"34\": 12}, \"56\": {\"56\": 11, \"22\": 1}, \"38\": {\"38\": 9, \"16\": 1}, \"4\": {\"4\": 5, \"13\": 1, \"19\": 4, \"40\": 2}, \"43\": {\"43\": 10}, \"26\": {\"26\": 10}, \"35\": {\"35\": 9, \"17\": 1, \"40\": 1, \"10\": 1}, \"31\": {\"31\": 11, \"23\": 1}, \"1\": {\"1\": 11, \"0\": 1}, \"39\": {\"39\": 12}, \"5\": {\"5\": 12}, \"24\": {\"24\": 12}, \"54\": {\"54\": 10}, \"23\": {\"23\": 12}, \"51\": {\"51\": 12}, \"27\": {\"27\": 10}, \"15\": {\"15\": 12}, \"0\": {\"0\": 10, \"14\": 2}, \"19\": {\"19\": 10}, \"18\": {\"18\": 8}, \"30\": {\"30\": 12}, \"55\": {\"55\": 10}, \"57\": {\"57\": 12}, \"2\": {\"2\": 12}, \"12\": {\"12\": 8}, \"41\": {\"41\": 12}, \"42\": {\"42\": 12}, \"48\": {\"48\": 11, \"42\": 1}, \"37\": {\"37\": 12}, \"6\": {\"6\": 7, \"50\": 1, \"25\": 2}, \"11\": {\"11\": 10}, \"45\": {\"45\": 6, \"32\": 2}, \"21\": {\"21\": 12}, \"46\": {\"46\": 10}, \"25\": {\"25\": 11, \"6\": 1}, \"36\": {\"36\": 10}, \"53\": {\"53\": 10, \"51\": 1, \"50\": 1}, \"28\": {\"28\": 12}, \"40\": {\"11\": 1, \"40\": 7, \"9\": 2}, \"33\": {\"33\": 10}, \"44\": {\"44\": 10}, \"3\": {\"3\": 12}, \"17\": {\"17\": 12}, \"32\": {\"32\": 10}, \"10\": {\"10\": 10}, \"52\": {\"52\": 10}, \"50\": {\"6\": 1, \"50\": 5, \"53\": 1, \"25\": 1}, \"29\": {\"29\": 5, \"19\": 1}}}, \"per_domain_accuracy\": {\"ORACLE.run1_14\": {\"accuracy\": 0.76015625, \"source?\": true}, \"ORACLE.run1_20\": {\"accuracy\": 0.59140625, \"source?\": true}, \"ORACLE.run1_38\": {\"accuracy\": 0.71640625, \"source?\": true}, \"ORACLE.run1_8\": {\"accuracy\": 0.7002604166666667, \"source?\": true}, \"ORACLE.run1_50\": {\"accuracy\": 0.7231770833333333, \"source?\": true}, \"ORACLE.run1_32\": {\"accuracy\": 0.70546875, \"source?\": true}, \"ORACLE.run1_26\": {\"accuracy\": 0.5216145833333333, \"source?\": true}, \"ORACLE.run1_44\": {\"accuracy\": 0.67109375, \"source?\": true}, \"W_A_3\": {\"accuracy\": 0.5924479166666666, \"source?\": false}, \"W_A_4\": {\"accuracy\": 0.5227864583333334, \"source?\": false}, \"C_A_3\": {\"accuracy\": 0.9546875, \"source?\": false}, \"C_A_4\": {\"accuracy\": 0.8875, \"source?\": false}, \"W_A_1\": {\"accuracy\": 0.6217447916666666, \"source?\": false}, \"C_A_5\": {\"accuracy\": 0.9265625, \"source?\": false}, \"C_A_1\": {\"accuracy\": 0.934375, \"source?\": false}, \"W_A_2\": {\"accuracy\": 0.55859375, \"source?\": false}, \"C_A_2\": {\"accuracy\": 0.940625, \"source?\": false}}}, \"history\": {\"epoch_indices\": [1, 2, 3, 4, 5, 6, 7, 8], \"train_label_loss\": [1.6761364296921306, 0.9329937163784745, 0.8825249277676145, 0.8501156764947587, 0.8196176803027767, 0.8475932172810038, 0.9062655384474921, 0.8150271398902295], \"source_val_label_loss\": [1.1467862129211426, 0.9563299417495728, 0.9062342047691345, 0.8998690843582153, 0.8812938928604126, 0.8132421970367432, 0.9390369653701782, 0.7779081463813782], \"target_val_label_loss\": [2693.8955078125, 817.9019165039062, 1202.513427734375, 233.44375610351562, 1490.5821533203125, 918.0700073242188, 3695.3720703125, 827.0401000976562], \"source_val_acc_label\": [0.6323893229166667, 0.6444986979166667, 0.6768880208333333, 0.6736979166666667, 0.6745442708333333, 0.6998046875, 0.6552083333333333, 0.7187174479166667], \"target_val_acc_label\": [0.5318921232876712, 0.7050513698630136, 0.6712328767123288, 0.6954195205479452, 0.6049871575342466, 0.5980308219178082, 0.683326198630137, 0.6639554794520548]}, \"dataset_metrics\": {\"source\": {\"train\": {\"n_unique_x\": 179200, \"n_unique_y\": 16, \"n_batch/episode\": 6720}, \"val\": {\"n_unique_x\": 38400, \"n_unique_y\": 16, \"n_batch/episode\": 960}, \"test\": {\"n_unique_x\": 38400, \"n_unique_y\": 16, \"n_batch/episode\": 960}}, \"target\": {\"train\": {\"n_unique_x\": 56700, \"n_unique_y\": 130, \"n_batch/episode\": 2080}, \"val\": {\"n_unique_x\": 12132, \"n_unique_y\": 130, \"n_batch/episode\": 292}, \"test\": {\"n_unique_x\": 12132, \"n_unique_y\": 130, \"n_batch/episode\": 292}}}}'"
      ]
     },
     "execution_count": 29,
     "metadata": {},
     "output_type": "execute_result"
    }
   ],
   "source": [
    "json.dumps(experiment)"
   ]
  }
 ],
 "metadata": {
  "celltoolbar": "Tags",
  "kernelspec": {
   "display_name": "Python 3 (ipykernel)",
   "language": "python",
   "name": "python3"
  },
  "language_info": {
   "codemirror_mode": {
    "name": "ipython",
    "version": 3
   },
   "file_extension": ".py",
   "mimetype": "text/x-python",
   "name": "python",
   "nbconvert_exporter": "python",
   "pygments_lexer": "ipython3",
   "version": "3.8.10"
  },
  "papermill": {
   "default_parameters": {},
   "duration": 1556.586698,
   "end_time": "2022-03-18T08:21:02.400040",
   "environment_variables": {},
   "exception": null,
   "input_path": "/mnt/wd500GB/CSC500/csc500-main/csc500-notebooks/templates/tl_ptn_template.ipynb",
   "output_path": "trial.ipynb",
   "parameters": {
    "parameters": {
     "BEST_MODEL_PATH": "./best_model.pth",
     "NUM_LOGS_PER_EPOCH": 10,
     "criteria_for_best": "target_loss",
     "dataset_seed": 1337,
     "datasets": [
      {
       "domain_prefix": "C_A_",
       "domains": [
        1,
        2,
        3,
        4,
        5
       ],
       "episode_transforms": [],
       "labels": [
        "1-10.",
        "1-11.",
        "1-15.",
        "1-16.",
        "1-17.",
        "1-18.",
        "1-19.",
        "10-4.",
        "10-7.",
        "11-1.",
        "11-14.",
        "11-17.",
        "11-20.",
        "11-7.",
        "13-20.",
        "13-8.",
        "14-10.",
        "14-11.",
        "14-14.",
        "14-7.",
        "15-1.",
        "15-20.",
        "16-1.",
        "16-16.",
        "17-10.",
        "17-11.",
        "17-2.",
        "19-1.",
        "19-16.",
        "19-19.",
        "19-20.",
        "19-3.",
        "2-10.",
        "2-11.",
        "2-17.",
        "2-18.",
        "2-20.",
        "2-3.",
        "2-4.",
        "2-5.",
        "2-6.",
        "2-7.",
        "2-8.",
        "3-13.",
        "3-18.",
        "3-3.",
        "4-1.",
        "4-10.",
        "4-11.",
        "4-19.",
        "5-5.",
        "6-15.",
        "7-10.",
        "7-14.",
        "8-18.",
        "8-20.",
        "8-3.",
        "8-8."
       ],
       "num_examples_per_domain_per_label": 100,
       "pickle_path": "/mnt/wd500GB/CSC500/csc500-main/datasets/cores.stratified_ds.2022A.pkl",
       "source_or_target_dataset": "target",
       "x_transforms": [
        "unit_power",
        "jitter_256_5",
        "take_200"
       ]
      },
      {
       "domain_prefix": "W_A_",
       "domains": [
        1,
        2,
        3,
        4
       ],
       "episode_transforms": [],
       "labels": [
        "1-10",
        "1-12",
        "1-14",
        "1-16",
        "1-18",
        "1-19",
        "1-8",
        "10-11",
        "10-17",
        "10-4",
        "10-7",
        "11-1",
        "11-10",
        "11-19",
        "11-20",
        "11-4",
        "11-7",
        "12-19",
        "12-20",
        "12-7",
        "13-14",
        "13-18",
        "13-19",
        "13-20",
        "13-3",
        "13-7",
        "14-10",
        "14-11",
        "14-12",
        "14-13",
        "14-14",
        "14-19",
        "14-20",
        "14-7",
        "14-8",
        "14-9",
        "15-1",
        "15-19",
        "15-6",
        "16-1",
        "16-16",
        "16-19",
        "16-20",
        "17-10",
        "17-11",
        "18-1",
        "18-10",
        "18-11",
        "18-12",
        "18-13",
        "18-14",
        "18-15",
        "18-16",
        "18-17",
        "18-19",
        "18-2",
        "18-20",
        "18-4",
        "18-5",
        "18-7",
        "18-8",
        "18-9",
        "19-1",
        "19-10",
        "19-11",
        "19-12",
        "19-13",
        "19-14",
        "19-15",
        "19-19",
        "19-2",
        "19-20",
        "19-3",
        "19-4",
        "19-6",
        "19-7",
        "19-8",
        "19-9",
        "2-1",
        "2-13",
        "2-15",
        "2-3",
        "2-4",
        "2-5",
        "2-6",
        "2-7",
        "2-8",
        "20-1",
        "20-12",
        "20-14",
        "20-15",
        "20-16",
        "20-18",
        "20-19",
        "20-20",
        "20-3",
        "20-4",
        "20-5",
        "20-7",
        "20-8",
        "3-1",
        "3-13",
        "3-18",
        "3-2",
        "3-8",
        "4-1",
        "4-10",
        "4-11",
        "5-1",
        "5-5",
        "6-1",
        "6-15",
        "6-6",
        "7-10",
        "7-11",
        "7-12",
        "7-13",
        "7-14",
        "7-7",
        "7-8",
        "7-9",
        "8-1",
        "8-13",
        "8-14",
        "8-18",
        "8-20",
        "8-3",
        "8-8",
        "9-1",
        "9-7"
       ],
       "num_examples_per_domain_per_label": 100,
       "pickle_path": "/mnt/wd500GB/CSC500/csc500-main/datasets/wisig.node3-19.stratified_ds.2022A.pkl",
       "source_or_target_dataset": "target",
       "x_transforms": [
        "unit_power",
        "jitter_256_5",
        "take_200"
       ]
      },
      {
       "domain_prefix": "ORACLE.run1_",
       "domains": [
        32,
        38,
        8,
        44,
        14,
        50,
        20,
        26
       ],
       "episode_transforms": [],
       "labels": [
        "3123D52",
        "3123D65",
        "3123D79",
        "3123D80",
        "3123D54",
        "3123D70",
        "3123D7B",
        "3123D89",
        "3123D58",
        "3123D76",
        "3123D7D",
        "3123EFE",
        "3123D64",
        "3123D78",
        "3123D7E",
        "3124E4A"
       ],
       "num_examples_per_domain_per_label": 2000,
       "pickle_path": "/mnt/wd500GB/CSC500/csc500-main/datasets/oracle.Run1_framed_2000Examples_stratified_ds.2022A.pkl",
       "source_or_target_dataset": "source",
       "x_transforms": [
        "unit_power",
        "jitter_256_5",
        "take_200",
        "resample_20Msps_to_25Msps"
       ]
      }
     ],
     "device": "cuda",
     "experiment_name": "tl_3-jitter5:oracle.run1.framed -> cores+wisig",
     "lr": 0.001,
     "n_epoch": 50,
     "n_query": 2,
     "n_shot": 3,
     "n_way": 16,
     "patience": 3,
     "seed": 1337,
     "test_k_factor": 2,
     "torch_default_dtype": "torch.float32",
     "train_k_factor": 3,
     "val_k_factor": 2,
     "x_net": [
      {
       "class": "nnReshape",
       "kargs": {
        "shape": [
         -1,
         1,
         2,
         256
        ]
       }
      },
      {
       "class": "Conv2d",
       "kargs": {
        "bias": false,
        "in_channels": 1,
        "kernel_size": [
         1,
         7
        ],
        "out_channels": 256,
        "padding": [
         0,
         3
        ]
       }
      },
      {
       "class": "ReLU",
       "kargs": {
        "inplace": true
       }
      },
      {
       "class": "BatchNorm2d",
       "kargs": {
        "num_features": 256
       }
      },
      {
       "class": "Conv2d",
       "kargs": {
        "bias": true,
        "in_channels": 256,
        "kernel_size": [
         2,
         7
        ],
        "out_channels": 80,
        "padding": [
         0,
         3
        ]
       }
      },
      {
       "class": "ReLU",
       "kargs": {
        "inplace": true
       }
      },
      {
       "class": "BatchNorm2d",
       "kargs": {
        "num_features": 80
       }
      },
      {
       "class": "Flatten",
       "kargs": {}
      },
      {
       "class": "Linear",
       "kargs": {
        "in_features": 20480,
        "out_features": 256
       }
      },
      {
       "class": "ReLU",
       "kargs": {
        "inplace": true
       }
      },
      {
       "class": "BatchNorm1d",
       "kargs": {
        "num_features": 256
       }
      },
      {
       "class": "Linear",
       "kargs": {
        "in_features": 256,
        "out_features": 256
       }
      }
     ]
    }
   },
   "start_time": "2022-03-18T07:55:05.813342",
   "version": "2.3.4"
  }
 },
 "nbformat": 4,
 "nbformat_minor": 5
}