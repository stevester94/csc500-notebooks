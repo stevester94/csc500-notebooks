{
 "cells": [
  {
   "cell_type": "markdown",
   "id": "9fea5f46",
   "metadata": {
    "papermill": {
     "duration": 0.018315,
     "end_time": "2022-03-18T08:21:03.219755",
     "exception": false,
     "start_time": "2022-03-18T08:21:03.201440",
     "status": "completed"
    },
    "tags": []
   },
   "source": [
    "# Transfer Learning Template"
   ]
  },
  {
   "cell_type": "code",
   "execution_count": 1,
   "id": "0902182a",
   "metadata": {
    "execution": {
     "iopub.execute_input": "2022-03-18T08:21:03.258477Z",
     "iopub.status.busy": "2022-03-18T08:21:03.256672Z",
     "iopub.status.idle": "2022-03-18T08:21:04.154840Z",
     "shell.execute_reply": "2022-03-18T08:21:04.154532Z"
    },
    "papermill": {
     "duration": 0.922611,
     "end_time": "2022-03-18T08:21:04.154914",
     "exception": false,
     "start_time": "2022-03-18T08:21:03.232303",
     "status": "completed"
    },
    "tags": []
   },
   "outputs": [],
   "source": [
    "%load_ext autoreload\n",
    "%autoreload 2\n",
    "%matplotlib inline\n",
    "\n",
    "    \n",
    "import os, json, sys, time, random\n",
    "import numpy as np\n",
    "import torch\n",
    "from torch.optim import Adam\n",
    "from  easydict import EasyDict\n",
    "import matplotlib.pyplot as plt\n",
    "\n",
    "from steves_models.steves_ptn import Steves_Prototypical_Network\n",
    "\n",
    "from steves_utils.lazy_iterable_wrapper import Lazy_Iterable_Wrapper\n",
    "from steves_utils.iterable_aggregator import Iterable_Aggregator\n",
    "from steves_utils.ptn_train_eval_test_jig import  PTN_Train_Eval_Test_Jig\n",
    "from steves_utils.torch_sequential_builder import build_sequential\n",
    "from steves_utils.torch_utils import get_dataset_metrics, ptn_confusion_by_domain_over_dataloader\n",
    "from steves_utils.utils_v2 import (per_domain_accuracy_from_confusion, get_datasets_base_path)\n",
    "from steves_utils.PTN.utils import independent_accuracy_assesment\n",
    "\n",
    "from torch.utils.data import DataLoader\n",
    "\n",
    "from steves_utils.stratified_dataset.episodic_accessor import Episodic_Accessor_Factory\n",
    "\n",
    "from steves_utils.ptn_do_report import (\n",
    "    get_loss_curve,\n",
    "    get_results_table,\n",
    "    get_parameters_table,\n",
    "    get_domain_accuracies,\n",
    ")\n",
    "\n",
    "from steves_utils.transforms import get_chained_transform"
   ]
  },
  {
   "cell_type": "markdown",
   "id": "41c840b4",
   "metadata": {
    "papermill": {
     "duration": 0.012894,
     "end_time": "2022-03-18T08:21:04.181221",
     "exception": false,
     "start_time": "2022-03-18T08:21:04.168327",
     "status": "completed"
    },
    "tags": []
   },
   "source": [
    "# Allowed Parameters\n",
    "These are allowed parameters, not defaults\n",
    "Each of these values need to be present in the injected parameters (the notebook will raise an exception if they are not present)\n",
    "\n",
    "Papermill uses the cell tag \"parameters\" to inject the real parameters below this cell.\n",
    "Enable tags to see what I mean"
   ]
  },
  {
   "cell_type": "code",
   "execution_count": 2,
   "id": "fd44eb83",
   "metadata": {
    "execution": {
     "iopub.execute_input": "2022-03-18T08:21:04.208523Z",
     "iopub.status.busy": "2022-03-18T08:21:04.208256Z",
     "iopub.status.idle": "2022-03-18T08:21:04.219441Z",
     "shell.execute_reply": "2022-03-18T08:21:04.219171Z"
    },
    "papermill": {
     "duration": 0.025702,
     "end_time": "2022-03-18T08:21:04.219500",
     "exception": false,
     "start_time": "2022-03-18T08:21:04.193798",
     "status": "completed"
    },
    "tags": []
   },
   "outputs": [],
   "source": [
    "required_parameters = {\n",
    "    \"experiment_name\",\n",
    "    \"lr\",\n",
    "    \"device\",\n",
    "    \"seed\",\n",
    "    \"dataset_seed\",\n",
    "    \"n_shot\",\n",
    "    \"n_query\",\n",
    "    \"n_way\",\n",
    "    \"train_k_factor\",\n",
    "    \"val_k_factor\",\n",
    "    \"test_k_factor\",\n",
    "    \"n_epoch\",\n",
    "    \"patience\",\n",
    "    \"criteria_for_best\",\n",
    "    \"x_net\",\n",
    "    \"datasets\",\n",
    "    \"torch_default_dtype\",\n",
    "    \"NUM_LOGS_PER_EPOCH\",\n",
    "    \"BEST_MODEL_PATH\",\n",
    "    \"x_shape\",\n",
    "}"
   ]
  },
  {
   "cell_type": "code",
   "execution_count": 3,
   "id": "fa3f0049",
   "metadata": {
    "execution": {
     "iopub.execute_input": "2022-03-18T08:21:04.258343Z",
     "iopub.status.busy": "2022-03-18T08:21:04.257771Z",
     "iopub.status.idle": "2022-03-18T08:21:04.271195Z",
     "shell.execute_reply": "2022-03-18T08:21:04.270779Z"
    },
    "papermill": {
     "duration": 0.035087,
     "end_time": "2022-03-18T08:21:04.271313",
     "exception": false,
     "start_time": "2022-03-18T08:21:04.236226",
     "status": "completed"
    },
    "tags": [
     "parameters"
    ]
   },
   "outputs": [],
   "source": [
    "from steves_utils.CORES.utils import (\n",
    "    ALL_NODES,\n",
    "    ALL_NODES_MINIMUM_1000_EXAMPLES,\n",
    "    ALL_DAYS\n",
    ")\n",
    "\n",
    "from steves_utils.ORACLE.utils_v2 import (\n",
    "    ALL_DISTANCES_FEET_NARROWED,\n",
    "    ALL_RUNS,\n",
    "    ALL_SERIAL_NUMBERS,\n",
    ")\n",
    "\n",
    "standalone_parameters = {}\n",
    "standalone_parameters[\"experiment_name\"] = \"STANDALONE PTN\"\n",
    "standalone_parameters[\"lr\"] = 0.001\n",
    "standalone_parameters[\"device\"] = \"cuda\"\n",
    "\n",
    "standalone_parameters[\"seed\"] = 1337\n",
    "standalone_parameters[\"dataset_seed\"] = 1337\n",
    "\n",
    "standalone_parameters[\"n_way\"] = 8\n",
    "standalone_parameters[\"n_shot\"] = 3\n",
    "standalone_parameters[\"n_query\"]  = 2\n",
    "standalone_parameters[\"train_k_factor\"] = 1\n",
    "standalone_parameters[\"val_k_factor\"] = 2\n",
    "standalone_parameters[\"test_k_factor\"] = 2\n",
    "\n",
    "\n",
    "standalone_parameters[\"n_epoch\"] = 50\n",
    "\n",
    "standalone_parameters[\"patience\"] = 10\n",
    "standalone_parameters[\"criteria_for_best\"] = \"source_loss\"\n",
    "\n",
    "standalone_parameters[\"datasets\"] = [\n",
    "    {\n",
    "        \"labels\": ALL_SERIAL_NUMBERS,\n",
    "        \"domains\": ALL_DISTANCES_FEET_NARROWED,\n",
    "        \"num_examples_per_domain_per_label\": 100,\n",
    "        \"pickle_path\": os.path.join(get_datasets_base_path(), \"oracle.Run1_framed_2000Examples_stratified_ds.2022A.pkl\"),\n",
    "        \"source_or_target_dataset\": \"source\",\n",
    "        \"x_transforms\": [\"unit_mag\", \"minus_two\"],\n",
    "        \"episode_transforms\": [],\n",
    "        \"domain_prefix\": \"ORACLE_\"\n",
    "    },\n",
    "    {\n",
    "        \"labels\": ALL_NODES,\n",
    "        \"domains\": ALL_DAYS,\n",
    "        \"num_examples_per_domain_per_label\": 100,\n",
    "        \"pickle_path\": os.path.join(get_datasets_base_path(), \"cores.stratified_ds.2022A.pkl\"),\n",
    "        \"source_or_target_dataset\": \"target\",\n",
    "        \"x_transforms\": [\"unit_power\", \"times_zero\"],\n",
    "        \"episode_transforms\": [],\n",
    "        \"domain_prefix\": \"CORES_\"\n",
    "    }   \n",
    "]\n",
    "\n",
    "standalone_parameters[\"torch_default_dtype\"] = \"torch.float32\" \n",
    "\n",
    "\n",
    "\n",
    "standalone_parameters[\"x_net\"] =     [\n",
    "    {\"class\": \"nnReshape\", \"kargs\": {\"shape\":[-1, 1, 2, 256]}},\n",
    "    {\"class\": \"Conv2d\", \"kargs\": { \"in_channels\":1, \"out_channels\":256, \"kernel_size\":(1,7), \"bias\":False, \"padding\":(0,3), },},\n",
    "    {\"class\": \"ReLU\", \"kargs\": {\"inplace\": True}},\n",
    "    {\"class\": \"BatchNorm2d\", \"kargs\": {\"num_features\":256}},\n",
    "\n",
    "    {\"class\": \"Conv2d\", \"kargs\": { \"in_channels\":256, \"out_channels\":80, \"kernel_size\":(2,7), \"bias\":True, \"padding\":(0,3), },},\n",
    "    {\"class\": \"ReLU\", \"kargs\": {\"inplace\": True}},\n",
    "    {\"class\": \"BatchNorm2d\", \"kargs\": {\"num_features\":80}},\n",
    "    {\"class\": \"Flatten\", \"kargs\": {}},\n",
    "\n",
    "    {\"class\": \"Linear\", \"kargs\": {\"in_features\": 80*256, \"out_features\": 256}}, # 80 units per IQ pair\n",
    "    {\"class\": \"ReLU\", \"kargs\": {\"inplace\": True}},\n",
    "    {\"class\": \"BatchNorm1d\", \"kargs\": {\"num_features\":256}},\n",
    "\n",
    "    {\"class\": \"Linear\", \"kargs\": {\"in_features\": 256, \"out_features\": 256}},\n",
    "]\n",
    "\n",
    "# Parameters relevant to results\n",
    "# These parameters will basically never need to change\n",
    "standalone_parameters[\"NUM_LOGS_PER_EPOCH\"] = 10\n",
    "standalone_parameters[\"BEST_MODEL_PATH\"] = \"./best_model.pth\"\n",
    "\n",
    "\n",
    "\n",
    "\n"
   ]
  },
  {
   "cell_type": "code",
   "execution_count": 4,
   "id": "6fe19b78",
   "metadata": {
    "execution": {
     "iopub.execute_input": "2022-03-18T08:21:04.315347Z",
     "iopub.status.busy": "2022-03-18T08:21:04.314853Z",
     "iopub.status.idle": "2022-03-18T08:21:04.327863Z",
     "shell.execute_reply": "2022-03-18T08:21:04.327450Z"
    },
    "papermill": {
     "duration": 0.039447,
     "end_time": "2022-03-18T08:21:04.327960",
     "exception": false,
     "start_time": "2022-03-18T08:21:04.288513",
     "status": "completed"
    },
    "tags": [
     "injected-parameters"
    ]
   },
   "outputs": [],
   "source": [
    "# Parameters\n",
    "parameters = {\n",
    "    \"experiment_name\": \"tl_3-jitter5:oracle.run1.framed -> cores+wisig\",\n",
    "    \"device\": \"cuda\",\n",
    "    \"lr\": 0.001,\n",
    "    \"seed\": 1337,\n",
    "    \"dataset_seed\": 1337,\n",
    "    \"n_shot\": 3,\n",
    "    \"n_query\": 2,\n",
    "    \"train_k_factor\": 3,\n",
    "    \"val_k_factor\": 2,\n",
    "    \"test_k_factor\": 2,\n",
    "    \"torch_default_dtype\": \"torch.float32\",\n",
    "    \"n_epoch\": 50,\n",
    "    \"patience\": 3,\n",
    "    \"criteria_for_best\": \"target_loss\",\n",
    "    \"x_net\": [\n",
    "        {\"class\": \"nnReshape\", \"kargs\": {\"shape\": [-1, 1, 2, 256]}},\n",
    "        {\n",
    "            \"class\": \"Conv2d\",\n",
    "            \"kargs\": {\n",
    "                \"in_channels\": 1,\n",
    "                \"out_channels\": 256,\n",
    "                \"kernel_size\": [1, 7],\n",
    "                \"bias\": False,\n",
    "                \"padding\": [0, 3],\n",
    "            },\n",
    "        },\n",
    "        {\"class\": \"ReLU\", \"kargs\": {\"inplace\": True}},\n",
    "        {\"class\": \"BatchNorm2d\", \"kargs\": {\"num_features\": 256}},\n",
    "        {\n",
    "            \"class\": \"Conv2d\",\n",
    "            \"kargs\": {\n",
    "                \"in_channels\": 256,\n",
    "                \"out_channels\": 80,\n",
    "                \"kernel_size\": [2, 7],\n",
    "                \"bias\": True,\n",
    "                \"padding\": [0, 3],\n",
    "            },\n",
    "        },\n",
    "        {\"class\": \"ReLU\", \"kargs\": {\"inplace\": True}},\n",
    "        {\"class\": \"BatchNorm2d\", \"kargs\": {\"num_features\": 80}},\n",
    "        {\"class\": \"Flatten\", \"kargs\": {}},\n",
    "        {\"class\": \"Linear\", \"kargs\": {\"in_features\": 20480, \"out_features\": 256}},\n",
    "        {\"class\": \"ReLU\", \"kargs\": {\"inplace\": True}},\n",
    "        {\"class\": \"BatchNorm1d\", \"kargs\": {\"num_features\": 256}},\n",
    "        {\"class\": \"Linear\", \"kargs\": {\"in_features\": 256, \"out_features\": 256}},\n",
    "    ],\n",
    "    \"NUM_LOGS_PER_EPOCH\": 10,\n",
    "    \"BEST_MODEL_PATH\": \"./best_model.pth\",\n",
    "    \"n_way\": 16,\n",
    "    \"datasets\": [\n",
    "        {\n",
    "            \"labels\": [\n",
    "                \"1-10.\",\n",
    "                \"1-11.\",\n",
    "                \"1-15.\",\n",
    "                \"1-16.\",\n",
    "                \"1-17.\",\n",
    "                \"1-18.\",\n",
    "                \"1-19.\",\n",
    "                \"10-4.\",\n",
    "                \"10-7.\",\n",
    "                \"11-1.\",\n",
    "                \"11-14.\",\n",
    "                \"11-17.\",\n",
    "                \"11-20.\",\n",
    "                \"11-7.\",\n",
    "                \"13-20.\",\n",
    "                \"13-8.\",\n",
    "                \"14-10.\",\n",
    "                \"14-11.\",\n",
    "                \"14-14.\",\n",
    "                \"14-7.\",\n",
    "                \"15-1.\",\n",
    "                \"15-20.\",\n",
    "                \"16-1.\",\n",
    "                \"16-16.\",\n",
    "                \"17-10.\",\n",
    "                \"17-11.\",\n",
    "                \"17-2.\",\n",
    "                \"19-1.\",\n",
    "                \"19-16.\",\n",
    "                \"19-19.\",\n",
    "                \"19-20.\",\n",
    "                \"19-3.\",\n",
    "                \"2-10.\",\n",
    "                \"2-11.\",\n",
    "                \"2-17.\",\n",
    "                \"2-18.\",\n",
    "                \"2-20.\",\n",
    "                \"2-3.\",\n",
    "                \"2-4.\",\n",
    "                \"2-5.\",\n",
    "                \"2-6.\",\n",
    "                \"2-7.\",\n",
    "                \"2-8.\",\n",
    "                \"3-13.\",\n",
    "                \"3-18.\",\n",
    "                \"3-3.\",\n",
    "                \"4-1.\",\n",
    "                \"4-10.\",\n",
    "                \"4-11.\",\n",
    "                \"4-19.\",\n",
    "                \"5-5.\",\n",
    "                \"6-15.\",\n",
    "                \"7-10.\",\n",
    "                \"7-14.\",\n",
    "                \"8-18.\",\n",
    "                \"8-20.\",\n",
    "                \"8-3.\",\n",
    "                \"8-8.\",\n",
    "            ],\n",
    "            \"domains\": [1, 2, 3, 4, 5],\n",
    "            \"num_examples_per_domain_per_label\": 100,\n",
    "            \"pickle_path\": \"/mnt/wd500GB/CSC500/csc500-main/datasets/cores.stratified_ds.2022A.pkl\",\n",
    "            \"source_or_target_dataset\": \"target\",\n",
    "            \"x_transforms\": [\"unit_mag\", \"jitter_256_5\", \"take_200\"],\n",
    "            \"episode_transforms\": [],\n",
    "            \"domain_prefix\": \"C_A_\",\n",
    "        },\n",
    "        {\n",
    "            \"labels\": [\n",
    "                \"1-10\",\n",
    "                \"1-12\",\n",
    "                \"1-14\",\n",
    "                \"1-16\",\n",
    "                \"1-18\",\n",
    "                \"1-19\",\n",
    "                \"1-8\",\n",
    "                \"10-11\",\n",
    "                \"10-17\",\n",
    "                \"10-4\",\n",
    "                \"10-7\",\n",
    "                \"11-1\",\n",
    "                \"11-10\",\n",
    "                \"11-19\",\n",
    "                \"11-20\",\n",
    "                \"11-4\",\n",
    "                \"11-7\",\n",
    "                \"12-19\",\n",
    "                \"12-20\",\n",
    "                \"12-7\",\n",
    "                \"13-14\",\n",
    "                \"13-18\",\n",
    "                \"13-19\",\n",
    "                \"13-20\",\n",
    "                \"13-3\",\n",
    "                \"13-7\",\n",
    "                \"14-10\",\n",
    "                \"14-11\",\n",
    "                \"14-12\",\n",
    "                \"14-13\",\n",
    "                \"14-14\",\n",
    "                \"14-19\",\n",
    "                \"14-20\",\n",
    "                \"14-7\",\n",
    "                \"14-8\",\n",
    "                \"14-9\",\n",
    "                \"15-1\",\n",
    "                \"15-19\",\n",
    "                \"15-6\",\n",
    "                \"16-1\",\n",
    "                \"16-16\",\n",
    "                \"16-19\",\n",
    "                \"16-20\",\n",
    "                \"17-10\",\n",
    "                \"17-11\",\n",
    "                \"18-1\",\n",
    "                \"18-10\",\n",
    "                \"18-11\",\n",
    "                \"18-12\",\n",
    "                \"18-13\",\n",
    "                \"18-14\",\n",
    "                \"18-15\",\n",
    "                \"18-16\",\n",
    "                \"18-17\",\n",
    "                \"18-19\",\n",
    "                \"18-2\",\n",
    "                \"18-20\",\n",
    "                \"18-4\",\n",
    "                \"18-5\",\n",
    "                \"18-7\",\n",
    "                \"18-8\",\n",
    "                \"18-9\",\n",
    "                \"19-1\",\n",
    "                \"19-10\",\n",
    "                \"19-11\",\n",
    "                \"19-12\",\n",
    "                \"19-13\",\n",
    "                \"19-14\",\n",
    "                \"19-15\",\n",
    "                \"19-19\",\n",
    "                \"19-2\",\n",
    "                \"19-20\",\n",
    "                \"19-3\",\n",
    "                \"19-4\",\n",
    "                \"19-6\",\n",
    "                \"19-7\",\n",
    "                \"19-8\",\n",
    "                \"19-9\",\n",
    "                \"2-1\",\n",
    "                \"2-13\",\n",
    "                \"2-15\",\n",
    "                \"2-3\",\n",
    "                \"2-4\",\n",
    "                \"2-5\",\n",
    "                \"2-6\",\n",
    "                \"2-7\",\n",
    "                \"2-8\",\n",
    "                \"20-1\",\n",
    "                \"20-12\",\n",
    "                \"20-14\",\n",
    "                \"20-15\",\n",
    "                \"20-16\",\n",
    "                \"20-18\",\n",
    "                \"20-19\",\n",
    "                \"20-20\",\n",
    "                \"20-3\",\n",
    "                \"20-4\",\n",
    "                \"20-5\",\n",
    "                \"20-7\",\n",
    "                \"20-8\",\n",
    "                \"3-1\",\n",
    "                \"3-13\",\n",
    "                \"3-18\",\n",
    "                \"3-2\",\n",
    "                \"3-8\",\n",
    "                \"4-1\",\n",
    "                \"4-10\",\n",
    "                \"4-11\",\n",
    "                \"5-1\",\n",
    "                \"5-5\",\n",
    "                \"6-1\",\n",
    "                \"6-15\",\n",
    "                \"6-6\",\n",
    "                \"7-10\",\n",
    "                \"7-11\",\n",
    "                \"7-12\",\n",
    "                \"7-13\",\n",
    "                \"7-14\",\n",
    "                \"7-7\",\n",
    "                \"7-8\",\n",
    "                \"7-9\",\n",
    "                \"8-1\",\n",
    "                \"8-13\",\n",
    "                \"8-14\",\n",
    "                \"8-18\",\n",
    "                \"8-20\",\n",
    "                \"8-3\",\n",
    "                \"8-8\",\n",
    "                \"9-1\",\n",
    "                \"9-7\",\n",
    "            ],\n",
    "            \"domains\": [1, 2, 3, 4],\n",
    "            \"num_examples_per_domain_per_label\": 100,\n",
    "            \"pickle_path\": \"/mnt/wd500GB/CSC500/csc500-main/datasets/wisig.node3-19.stratified_ds.2022A.pkl\",\n",
    "            \"source_or_target_dataset\": \"target\",\n",
    "            \"x_transforms\": [\"unit_mag\", \"jitter_256_5\", \"take_200\"],\n",
    "            \"episode_transforms\": [],\n",
    "            \"domain_prefix\": \"W_A_\",\n",
    "        },\n",
    "        {\n",
    "            \"labels\": [\n",
    "                \"3123D52\",\n",
    "                \"3123D65\",\n",
    "                \"3123D79\",\n",
    "                \"3123D80\",\n",
    "                \"3123D54\",\n",
    "                \"3123D70\",\n",
    "                \"3123D7B\",\n",
    "                \"3123D89\",\n",
    "                \"3123D58\",\n",
    "                \"3123D76\",\n",
    "                \"3123D7D\",\n",
    "                \"3123EFE\",\n",
    "                \"3123D64\",\n",
    "                \"3123D78\",\n",
    "                \"3123D7E\",\n",
    "                \"3124E4A\",\n",
    "            ],\n",
    "            \"domains\": [32, 38, 8, 44, 14, 50, 20, 26],\n",
    "            \"num_examples_per_domain_per_label\": 2000,\n",
    "            \"pickle_path\": \"/mnt/wd500GB/CSC500/csc500-main/datasets/oracle.Run1_framed_2000Examples_stratified_ds.2022A.pkl\",\n",
    "            \"source_or_target_dataset\": \"source\",\n",
    "            \"x_transforms\": [\n",
    "                \"unit_mag\",\n",
    "                \"jitter_256_5\",\n",
    "                \"take_200\",\n",
    "                \"resample_20Msps_to_25Msps\",\n",
    "            ],\n",
    "            \"episode_transforms\": [],\n",
    "            \"domain_prefix\": \"ORACLE.run1_\",\n",
    "        },\n",
    "    ],\n",
    "}\n"
   ]
  },
  {
   "cell_type": "code",
   "execution_count": 5,
   "id": "8fa1cc33",
   "metadata": {
    "execution": {
     "iopub.execute_input": "2022-03-18T08:21:04.360532Z",
     "iopub.status.busy": "2022-03-18T08:21:04.360205Z",
     "iopub.status.idle": "2022-03-18T08:21:04.373362Z",
     "shell.execute_reply": "2022-03-18T08:21:04.372884Z"
    },
    "papermill": {
     "duration": 0.029054,
     "end_time": "2022-03-18T08:21:04.373458",
     "exception": false,
     "start_time": "2022-03-18T08:21:04.344404",
     "status": "completed"
    },
    "tags": []
   },
   "outputs": [],
   "source": [
    "# Set this to True if you want to run this template directly\n",
    "STANDALONE = False\n",
    "if STANDALONE:\n",
    "    print(\"parameters not injected, running with standalone_parameters\")\n",
    "    parameters = standalone_parameters\n",
    "\n",
    "if not 'parameters' in locals() and not 'parameters' in globals():\n",
    "    raise Exception(\"Parameter injection failed\")\n",
    "\n",
    "#Use an easy dict for all the parameters\n",
    "p = EasyDict(parameters)\n",
    "\n",
    "if \"x_shape\" not in p:\n",
    "    p.x_shape = [2,256] # Default to this if we dont supply x_shape\n",
    "\n",
    "\n",
    "supplied_keys = set(p.keys())\n",
    "\n",
    "if  supplied_keys != required_parameters:\n",
    "    print(\"Parameters are incorrect\")\n",
    "    if len(supplied_keys - required_parameters)>0: print(\"Shouldn't have:\", str(supplied_keys - required_parameters))\n",
    "    if len(required_parameters - supplied_keys)>0: print(\"Need to have:\", str(required_parameters - supplied_keys))\n",
    "    raise RuntimeError(\"Parameters are incorrect\")"
   ]
  },
  {
   "cell_type": "code",
   "execution_count": 6,
   "id": "3a028d58",
   "metadata": {
    "execution": {
     "iopub.execute_input": "2022-03-18T08:21:04.408734Z",
     "iopub.status.busy": "2022-03-18T08:21:04.407023Z",
     "iopub.status.idle": "2022-03-18T08:21:04.422464Z",
     "shell.execute_reply": "2022-03-18T08:21:04.422059Z"
    },
    "papermill": {
     "duration": 0.030529,
     "end_time": "2022-03-18T08:21:04.422557",
     "exception": false,
     "start_time": "2022-03-18T08:21:04.392028",
     "status": "completed"
    },
    "tags": []
   },
   "outputs": [],
   "source": [
    "###################################\n",
    "# Set the RNGs and make it all deterministic\n",
    "###################################\n",
    "np.random.seed(p.seed)\n",
    "random.seed(p.seed)\n",
    "torch.manual_seed(p.seed)\n",
    "\n",
    "torch.use_deterministic_algorithms(True) "
   ]
  },
  {
   "cell_type": "code",
   "execution_count": 7,
   "id": "b691acf6",
   "metadata": {
    "execution": {
     "iopub.execute_input": "2022-03-18T08:21:04.464107Z",
     "iopub.status.busy": "2022-03-18T08:21:04.463861Z",
     "iopub.status.idle": "2022-03-18T08:21:04.470282Z",
     "shell.execute_reply": "2022-03-18T08:21:04.469846Z"
    },
    "papermill": {
     "duration": 0.030464,
     "end_time": "2022-03-18T08:21:04.470381",
     "exception": false,
     "start_time": "2022-03-18T08:21:04.439917",
     "status": "completed"
    },
    "tags": []
   },
   "outputs": [],
   "source": [
    "###########################################\n",
    "# The stratified datasets honor this\n",
    "###########################################\n",
    "torch.set_default_dtype(eval(p.torch_default_dtype))"
   ]
  },
  {
   "cell_type": "code",
   "execution_count": 8,
   "id": "b5fba671",
   "metadata": {
    "execution": {
     "iopub.execute_input": "2022-03-18T08:21:04.503466Z",
     "iopub.status.busy": "2022-03-18T08:21:04.503175Z",
     "iopub.status.idle": "2022-03-18T08:21:04.539897Z",
     "shell.execute_reply": "2022-03-18T08:21:04.539438Z"
    },
    "papermill": {
     "duration": 0.051396,
     "end_time": "2022-03-18T08:21:04.540000",
     "exception": false,
     "start_time": "2022-03-18T08:21:04.488604",
     "status": "completed"
    },
    "tags": []
   },
   "outputs": [],
   "source": [
    "###################################\n",
    "# Build the network(s)\n",
    "# Note: It's critical to do this AFTER setting the RNG\n",
    "###################################\n",
    "x_net = build_sequential(p.x_net)"
   ]
  },
  {
   "cell_type": "code",
   "execution_count": 9,
   "id": "5d7e61cc",
   "metadata": {
    "execution": {
     "iopub.execute_input": "2022-03-18T08:21:04.572944Z",
     "iopub.status.busy": "2022-03-18T08:21:04.571843Z",
     "iopub.status.idle": "2022-03-18T08:21:04.588365Z",
     "shell.execute_reply": "2022-03-18T08:21:04.588142Z"
    },
    "papermill": {
     "duration": 0.030836,
     "end_time": "2022-03-18T08:21:04.588457",
     "exception": false,
     "start_time": "2022-03-18T08:21:04.557621",
     "status": "completed"
    },
    "tags": []
   },
   "outputs": [],
   "source": [
    "start_time_secs = time.time()"
   ]
  },
  {
   "cell_type": "code",
   "execution_count": 10,
   "id": "c6b67dfd",
   "metadata": {
    "execution": {
     "iopub.execute_input": "2022-03-18T08:21:04.622873Z",
     "iopub.status.busy": "2022-03-18T08:21:04.622396Z",
     "iopub.status.idle": "2022-03-18T08:21:04.637016Z",
     "shell.execute_reply": "2022-03-18T08:21:04.636679Z"
    },
    "papermill": {
     "duration": 0.030118,
     "end_time": "2022-03-18T08:21:04.637088",
     "exception": false,
     "start_time": "2022-03-18T08:21:04.606970",
     "status": "completed"
    },
    "tags": []
   },
   "outputs": [],
   "source": [
    "p.domains_source = []\n",
    "p.domains_target = []\n",
    "\n",
    "\n",
    "train_original_source = []\n",
    "val_original_source   = []\n",
    "test_original_source  = []\n",
    "\n",
    "train_original_target = []\n",
    "val_original_target   = []\n",
    "test_original_target  = []"
   ]
  },
  {
   "cell_type": "code",
   "execution_count": 11,
   "id": "e3d9c3d3",
   "metadata": {
    "execution": {
     "iopub.execute_input": "2022-03-18T08:21:04.671390Z",
     "iopub.status.busy": "2022-03-18T08:21:04.670288Z",
     "iopub.status.idle": "2022-03-18T08:21:04.684708Z",
     "shell.execute_reply": "2022-03-18T08:21:04.684255Z"
    },
    "papermill": {
     "duration": 0.0294,
     "end_time": "2022-03-18T08:21:04.684797",
     "exception": false,
     "start_time": "2022-03-18T08:21:04.655397",
     "status": "completed"
    },
    "tags": []
   },
   "outputs": [],
   "source": [
    "# global_x_transform_func = lambda x: normalize(x.to(torch.get_default_dtype()), \"unit_power\") # unit_power, unit_mag\n",
    "# global_x_transform_func = lambda x: normalize(x, \"unit_power\") # unit_power, unit_mag"
   ]
  },
  {
   "cell_type": "code",
   "execution_count": 12,
   "id": "acb78fd2",
   "metadata": {
    "execution": {
     "iopub.execute_input": "2022-03-18T08:21:04.720663Z",
     "iopub.status.busy": "2022-03-18T08:21:04.720370Z",
     "iopub.status.idle": "2022-03-18T08:21:04.731219Z",
     "shell.execute_reply": "2022-03-18T08:21:04.730906Z"
    },
    "papermill": {
     "duration": 0.028365,
     "end_time": "2022-03-18T08:21:04.731314",
     "exception": false,
     "start_time": "2022-03-18T08:21:04.702949",
     "status": "completed"
    },
    "tags": []
   },
   "outputs": [],
   "source": [
    "def add_dataset(\n",
    "    labels,\n",
    "    domains,\n",
    "    pickle_path,\n",
    "    x_transforms,\n",
    "    episode_transforms,\n",
    "    domain_prefix,\n",
    "    num_examples_per_domain_per_label,\n",
    "    source_or_target_dataset:str,\n",
    "    iterator_seed=p.seed,\n",
    "    dataset_seed=p.dataset_seed,\n",
    "    n_shot=p.n_shot,\n",
    "    n_way=p.n_way,\n",
    "    n_query=p.n_query,\n",
    "    train_val_test_k_factors=(p.train_k_factor,p.val_k_factor,p.test_k_factor),\n",
    "):\n",
    "   \n",
    "    if x_transforms == []: x_transform = None\n",
    "    else: x_transform = get_chained_transform(x_transforms)\n",
    "    \n",
    "    if episode_transforms == []: episode_transform = None\n",
    "    else: raise Exception(\"episode_transforms not implemented\")\n",
    "    \n",
    "    episode_transform = lambda tup, _prefix=domain_prefix: (_prefix + str(tup[0]), tup[1])\n",
    "\n",
    "\n",
    "    eaf = Episodic_Accessor_Factory(\n",
    "        labels=labels,\n",
    "        domains=domains,\n",
    "        num_examples_per_domain_per_label=num_examples_per_domain_per_label,\n",
    "        iterator_seed=iterator_seed,\n",
    "        dataset_seed=dataset_seed,\n",
    "        n_shot=n_shot,\n",
    "        n_way=n_way,\n",
    "        n_query=n_query,\n",
    "        train_val_test_k_factors=train_val_test_k_factors,\n",
    "        pickle_path=pickle_path,\n",
    "        x_transform_func=x_transform,\n",
    "    )\n",
    "\n",
    "    train, val, test = eaf.get_train(), eaf.get_val(), eaf.get_test()\n",
    "    train = Lazy_Iterable_Wrapper(train, episode_transform)\n",
    "    val = Lazy_Iterable_Wrapper(val, episode_transform)\n",
    "    test = Lazy_Iterable_Wrapper(test, episode_transform)\n",
    "\n",
    "    if source_or_target_dataset==\"source\":\n",
    "        train_original_source.append(train)\n",
    "        val_original_source.append(val)\n",
    "        test_original_source.append(test)\n",
    "\n",
    "        p.domains_source.extend(\n",
    "            [domain_prefix + str(u) for u in domains]\n",
    "        )\n",
    "    elif source_or_target_dataset==\"target\":\n",
    "        train_original_target.append(train)\n",
    "        val_original_target.append(val)\n",
    "        test_original_target.append(test)\n",
    "        p.domains_target.extend(\n",
    "            [domain_prefix + str(u) for u in domains]\n",
    "        )\n",
    "    else:\n",
    "        raise Exception(f\"invalid source_or_target_dataset: {source_or_target_dataset}\")\n",
    "    "
   ]
  },
  {
   "cell_type": "code",
   "execution_count": 13,
   "id": "fe266617",
   "metadata": {
    "execution": {
     "iopub.execute_input": "2022-03-18T08:21:04.765569Z",
     "iopub.status.busy": "2022-03-18T08:21:04.765241Z",
     "iopub.status.idle": "2022-03-18T08:22:03.751787Z",
     "shell.execute_reply": "2022-03-18T08:22:03.751308Z"
    },
    "papermill": {
     "duration": 59.001834,
     "end_time": "2022-03-18T08:22:03.751899",
     "exception": false,
     "start_time": "2022-03-18T08:21:04.750065",
     "status": "completed"
    },
    "tags": []
   },
   "outputs": [],
   "source": [
    "for ds in p.datasets:\n",
    "    add_dataset(**ds)"
   ]
  },
  {
   "cell_type": "code",
   "execution_count": 14,
   "id": "b90d65ac",
   "metadata": {
    "execution": {
     "iopub.execute_input": "2022-03-18T08:22:03.786047Z",
     "iopub.status.busy": "2022-03-18T08:22:03.785770Z",
     "iopub.status.idle": "2022-03-18T08:22:03.801423Z",
     "shell.execute_reply": "2022-03-18T08:22:03.801832Z"
    },
    "papermill": {
     "duration": 0.032036,
     "end_time": "2022-03-18T08:22:03.801966",
     "exception": false,
     "start_time": "2022-03-18T08:22:03.769930",
     "status": "completed"
    },
    "tags": []
   },
   "outputs": [],
   "source": [
    "# from steves_utils.CORES.utils import (\n",
    "#     ALL_NODES,\n",
    "#     ALL_NODES_MINIMUM_1000_EXAMPLES,\n",
    "#     ALL_DAYS\n",
    "# )\n",
    "\n",
    "# add_dataset(\n",
    "#     labels=ALL_NODES,\n",
    "#     domains = ALL_DAYS,\n",
    "#     num_examples_per_domain_per_label=100,\n",
    "#     pickle_path=os.path.join(get_datasets_base_path(), \"cores.stratified_ds.2022A.pkl\"),\n",
    "#     source_or_target_dataset=\"target\",\n",
    "#     x_transform_func=global_x_transform_func,\n",
    "#     domain_modifier=lambda u: f\"cores_{u}\"\n",
    "# )"
   ]
  },
  {
   "cell_type": "code",
   "execution_count": 15,
   "id": "76db484d",
   "metadata": {
    "execution": {
     "iopub.execute_input": "2022-03-18T08:22:03.836527Z",
     "iopub.status.busy": "2022-03-18T08:22:03.836256Z",
     "iopub.status.idle": "2022-03-18T08:22:03.851005Z",
     "shell.execute_reply": "2022-03-18T08:22:03.851436Z"
    },
    "papermill": {
     "duration": 0.030332,
     "end_time": "2022-03-18T08:22:03.851571",
     "exception": false,
     "start_time": "2022-03-18T08:22:03.821239",
     "status": "completed"
    },
    "tags": []
   },
   "outputs": [],
   "source": [
    "# from steves_utils.ORACLE.utils_v2 import (\n",
    "#     ALL_DISTANCES_FEET,\n",
    "#     ALL_RUNS,\n",
    "#     ALL_SERIAL_NUMBERS,\n",
    "# )\n",
    "\n",
    "\n",
    "# add_dataset(\n",
    "#     labels=ALL_SERIAL_NUMBERS,\n",
    "#     domains = list(set(ALL_DISTANCES_FEET) - {2,62}),\n",
    "#     num_examples_per_domain_per_label=100,\n",
    "#     pickle_path=os.path.join(get_datasets_base_path(), \"oracle.Run2_framed_2000Examples_stratified_ds.2022A.pkl\"),\n",
    "#     source_or_target_dataset=\"source\",\n",
    "#     x_transform_func=global_x_transform_func,\n",
    "#     domain_modifier=lambda u: f\"oracle1_{u}\"\n",
    "# )\n"
   ]
  },
  {
   "cell_type": "code",
   "execution_count": 16,
   "id": "97dea9d2",
   "metadata": {
    "execution": {
     "iopub.execute_input": "2022-03-18T08:22:03.887199Z",
     "iopub.status.busy": "2022-03-18T08:22:03.886926Z",
     "iopub.status.idle": "2022-03-18T08:22:03.901802Z",
     "shell.execute_reply": "2022-03-18T08:22:03.902205Z"
    },
    "papermill": {
     "duration": 0.030793,
     "end_time": "2022-03-18T08:22:03.902339",
     "exception": false,
     "start_time": "2022-03-18T08:22:03.871546",
     "status": "completed"
    },
    "tags": []
   },
   "outputs": [],
   "source": [
    "# from steves_utils.ORACLE.utils_v2 import (\n",
    "#     ALL_DISTANCES_FEET,\n",
    "#     ALL_RUNS,\n",
    "#     ALL_SERIAL_NUMBERS,\n",
    "# )\n",
    "\n",
    "\n",
    "# add_dataset(\n",
    "#     labels=ALL_SERIAL_NUMBERS,\n",
    "#     domains = list(set(ALL_DISTANCES_FEET) - {2,62,56}),\n",
    "#     num_examples_per_domain_per_label=100,\n",
    "#     pickle_path=os.path.join(get_datasets_base_path(), \"oracle.Run2_framed_2000Examples_stratified_ds.2022A.pkl\"),\n",
    "#     source_or_target_dataset=\"source\",\n",
    "#     x_transform_func=global_x_transform_func,\n",
    "#     domain_modifier=lambda u: f\"oracle2_{u}\"\n",
    "# )"
   ]
  },
  {
   "cell_type": "code",
   "execution_count": 17,
   "id": "6f289866",
   "metadata": {
    "execution": {
     "iopub.execute_input": "2022-03-18T08:22:03.937300Z",
     "iopub.status.busy": "2022-03-18T08:22:03.936645Z",
     "iopub.status.idle": "2022-03-18T08:22:03.952685Z",
     "shell.execute_reply": "2022-03-18T08:22:03.953084Z"
    },
    "papermill": {
     "duration": 0.03171,
     "end_time": "2022-03-18T08:22:03.953213",
     "exception": false,
     "start_time": "2022-03-18T08:22:03.921503",
     "status": "completed"
    },
    "tags": []
   },
   "outputs": [],
   "source": [
    "# add_dataset(\n",
    "#     labels=list(range(19)),\n",
    "#     domains = [0,1,2],\n",
    "#     num_examples_per_domain_per_label=100,\n",
    "#     pickle_path=os.path.join(get_datasets_base_path(), \"metehan.stratified_ds.2022A.pkl\"),\n",
    "#     source_or_target_dataset=\"target\",\n",
    "#     x_transform_func=global_x_transform_func,\n",
    "#     domain_modifier=lambda u: f\"met_{u}\"\n",
    "# )"
   ]
  },
  {
   "cell_type": "code",
   "execution_count": 18,
   "id": "86a863c3",
   "metadata": {
    "execution": {
     "iopub.execute_input": "2022-03-18T08:22:03.989676Z",
     "iopub.status.busy": "2022-03-18T08:22:03.989138Z",
     "iopub.status.idle": "2022-03-18T08:22:04.003395Z",
     "shell.execute_reply": "2022-03-18T08:22:04.003800Z"
    },
    "papermill": {
     "duration": 0.030975,
     "end_time": "2022-03-18T08:22:04.003939",
     "exception": false,
     "start_time": "2022-03-18T08:22:03.972964",
     "status": "completed"
    },
    "tags": []
   },
   "outputs": [],
   "source": [
    "# # from steves_utils.wisig.utils import (\n",
    "# #     ALL_NODES_MINIMUM_100_EXAMPLES,\n",
    "# #     ALL_NODES_MINIMUM_500_EXAMPLES,\n",
    "# #     ALL_NODES_MINIMUM_1000_EXAMPLES,\n",
    "# #     ALL_DAYS\n",
    "# # )\n",
    "\n",
    "# import steves_utils.wisig.utils as wisig\n",
    "\n",
    "\n",
    "# add_dataset(\n",
    "#     labels=wisig.ALL_NODES_MINIMUM_100_EXAMPLES,\n",
    "#     domains = wisig.ALL_DAYS,\n",
    "#     num_examples_per_domain_per_label=100,\n",
    "#     pickle_path=os.path.join(get_datasets_base_path(), \"wisig.node3-19.stratified_ds.2022A.pkl\"),\n",
    "#     source_or_target_dataset=\"target\",\n",
    "#     x_transform_func=global_x_transform_func,\n",
    "#     domain_modifier=lambda u: f\"wisig_{u}\"\n",
    "# )"
   ]
  },
  {
   "cell_type": "code",
   "execution_count": 19,
   "id": "fd5442bc",
   "metadata": {
    "execution": {
     "iopub.execute_input": "2022-03-18T08:22:04.043686Z",
     "iopub.status.busy": "2022-03-18T08:22:04.043419Z",
     "iopub.status.idle": "2022-03-18T08:22:04.056255Z",
     "shell.execute_reply": "2022-03-18T08:22:04.056661Z"
    },
    "papermill": {
     "duration": 0.032527,
     "end_time": "2022-03-18T08:22:04.056775",
     "exception": false,
     "start_time": "2022-03-18T08:22:04.024248",
     "status": "completed"
    },
    "tags": []
   },
   "outputs": [],
   "source": [
    "###################################\n",
    "# Build the dataset\n",
    "###################################\n",
    "train_original_source = Iterable_Aggregator(train_original_source, p.seed)\n",
    "val_original_source = Iterable_Aggregator(val_original_source, p.seed)\n",
    "test_original_source = Iterable_Aggregator(test_original_source, p.seed)\n",
    "\n",
    "\n",
    "train_original_target = Iterable_Aggregator(train_original_target, p.seed)\n",
    "val_original_target = Iterable_Aggregator(val_original_target, p.seed)\n",
    "test_original_target = Iterable_Aggregator(test_original_target, p.seed)\n",
    "\n",
    "# For CNN We only use X and Y. And we only train on the source.\n",
    "# Properly form the data using a transform lambda and Lazy_Iterable_Wrapper. Finally wrap them in a dataloader\n",
    "\n",
    "transform_lambda = lambda ex: ex[1] # Original is (<domain>, <episode>) so we strip down to episode only\n",
    "\n",
    "train_processed_source = Lazy_Iterable_Wrapper(train_original_source, transform_lambda)\n",
    "val_processed_source   = Lazy_Iterable_Wrapper(val_original_source, transform_lambda)\n",
    "test_processed_source  = Lazy_Iterable_Wrapper(test_original_source, transform_lambda)\n",
    "\n",
    "train_processed_target = Lazy_Iterable_Wrapper(train_original_target, transform_lambda)\n",
    "val_processed_target   = Lazy_Iterable_Wrapper(val_original_target, transform_lambda)\n",
    "test_processed_target  = Lazy_Iterable_Wrapper(test_original_target, transform_lambda)\n",
    "\n",
    "datasets = EasyDict({\n",
    "    \"source\": {\n",
    "        \"original\": {\"train\":train_original_source, \"val\":val_original_source, \"test\":test_original_source},\n",
    "        \"processed\": {\"train\":train_processed_source, \"val\":val_processed_source, \"test\":test_processed_source}\n",
    "    },\n",
    "    \"target\": {\n",
    "        \"original\": {\"train\":train_original_target, \"val\":val_original_target, \"test\":test_original_target},\n",
    "        \"processed\": {\"train\":train_processed_target, \"val\":val_processed_target, \"test\":test_processed_target}\n",
    "    },\n",
    "})"
   ]
  },
  {
   "cell_type": "code",
   "execution_count": 20,
   "id": "5b3c01fc",
   "metadata": {
    "execution": {
     "iopub.execute_input": "2022-03-18T08:22:04.093812Z",
     "iopub.status.busy": "2022-03-18T08:22:04.093552Z",
     "iopub.status.idle": "2022-03-18T08:22:09.009504Z",
     "shell.execute_reply": "2022-03-18T08:22:09.009932Z"
    },
    "papermill": {
     "duration": 4.933525,
     "end_time": "2022-03-18T08:22:09.010067",
     "exception": false,
     "start_time": "2022-03-18T08:22:04.076542",
     "status": "completed"
    },
    "tags": []
   },
   "outputs": [
    {
     "name": "stdout",
     "output_type": "stream",
     "text": [
      "{'ORACLE.run1_50', 'ORACLE.run1_14', 'ORACLE.run1_38', 'ORACLE.run1_26', 'ORACLE.run1_32', 'ORACLE.run1_44', 'ORACLE.run1_20', 'ORACLE.run1_8'}\n"
     ]
    },
    {
     "name": "stdout",
     "output_type": "stream",
     "text": [
      "{'C_A_1', 'W_A_1', 'W_A_3', 'W_A_4', 'W_A_2', 'C_A_3', 'C_A_5', 'C_A_4', 'C_A_2'}\n"
     ]
    },
    {
     "name": "stdout",
     "output_type": "stream",
     "text": [
      "tensor([[[0., 0., 0.,  ..., 0., 0., 0.],\n",
      "         [0., 0., 0.,  ..., 0., 0., 0.]],\n",
      "\n",
      "        [[0., 0., 0.,  ..., 0., 0., 0.],\n",
      "         [0., 0., 0.,  ..., 0., 0., 0.]],\n",
      "\n",
      "        [[0., 0., 0.,  ..., 0., 0., 0.],\n",
      "         [0., 0., 0.,  ..., 0., 0., 0.]],\n",
      "\n",
      "        ...,\n",
      "\n",
      "        [[0., 0., 0.,  ..., 0., 0., 0.],\n",
      "         [0., 0., 0.,  ..., 0., 0., 0.]],\n",
      "\n",
      "        [[0., 0., 0.,  ..., 0., 0., 0.],\n",
      "         [0., 0., 0.,  ..., 0., 0., 0.]],\n",
      "\n",
      "        [[0., 0., 0.,  ..., 0., 0., 0.],\n",
      "         [0., 0., 0.,  ..., 0., 0., 0.]]])\n"
     ]
    }
   ],
   "source": [
    "from steves_utils.transforms import get_average_magnitude, get_average_power\n",
    "\n",
    "print(set([u for u,_ in val_original_source]))\n",
    "print(set([u for u,_ in val_original_target]))\n",
    "\n",
    "s_x, s_y, q_x, q_y, _ = next(iter(train_processed_source))\n",
    "print(s_x)\n",
    "\n",
    "# for ds in [\n",
    "#     train_processed_source,\n",
    "#     val_processed_source,\n",
    "#     test_processed_source,\n",
    "#     train_processed_target,\n",
    "#     val_processed_target,\n",
    "#     test_processed_target\n",
    "# ]:\n",
    "#     for s_x, s_y, q_x, q_y, _ in ds:\n",
    "#         for X in (s_x, q_x):\n",
    "#             for x in X:\n",
    "#                 assert np.isclose(get_average_magnitude(x.numpy()), 1.0)\n",
    "#                 assert np.isclose(get_average_power(x.numpy()), 1.0)\n",
    "                "
   ]
  },
  {
   "cell_type": "code",
   "execution_count": 21,
   "id": "bbdacba1",
   "metadata": {
    "execution": {
     "iopub.execute_input": "2022-03-18T08:22:09.052843Z",
     "iopub.status.busy": "2022-03-18T08:22:09.052584Z",
     "iopub.status.idle": "2022-03-18T08:22:09.114529Z",
     "shell.execute_reply": "2022-03-18T08:22:09.114827Z"
    },
    "papermill": {
     "duration": 0.08043,
     "end_time": "2022-03-18T08:22:09.114930",
     "exception": false,
     "start_time": "2022-03-18T08:22:09.034500",
     "status": "completed"
    },
    "tags": []
   },
   "outputs": [
    {
     "name": "stdout",
     "output_type": "stream",
     "text": [
      "(2, 256)\n"
     ]
    }
   ],
   "source": [
    "###################################\n",
    "# Build the model\n",
    "###################################\n",
    "# easfsl only wants a tuple for the shape\n",
    "model = Steves_Prototypical_Network(x_net, device=p.device, x_shape=tuple(p.x_shape))\n",
    "optimizer = Adam(params=model.parameters(), lr=p.lr)"
   ]
  },
  {
   "cell_type": "code",
   "execution_count": 22,
   "id": "22b39ac5",
   "metadata": {
    "execution": {
     "iopub.execute_input": "2022-03-18T08:22:09.150421Z",
     "iopub.status.busy": "2022-03-18T08:22:09.150146Z",
     "iopub.status.idle": "2022-03-18T08:45:54.763954Z",
     "shell.execute_reply": "2022-03-18T08:45:54.763711Z"
    },
    "papermill": {
     "duration": 1425.630953,
     "end_time": "2022-03-18T08:45:54.764018",
     "exception": false,
     "start_time": "2022-03-18T08:22:09.133065",
     "status": "completed"
    },
    "tags": []
   },
   "outputs": [
    {
     "name": "stdout",
     "output_type": "stream",
     "text": [
      "epoch: 1, [batch: 1 / 6720], examples_per_second: 48.0256, train_label_loss: 2.8286, \n"
     ]
    },
    {
     "name": "stdout",
     "output_type": "stream",
     "text": [
      "epoch: 1, [batch: 672 / 6720], examples_per_second: 3202.0305, train_label_loss: 2.8426, \n"
     ]
    },
    {
     "name": "stdout",
     "output_type": "stream",
     "text": [
      "epoch: 1, [batch: 1344 / 6720], examples_per_second: 3243.2823, train_label_loss: 2.7559, \n"
     ]
    },
    {
     "name": "stdout",
     "output_type": "stream",
     "text": [
      "epoch: 1, [batch: 2016 / 6720], examples_per_second: 3237.0453, train_label_loss: 2.7968, \n"
     ]
    },
    {
     "name": "stdout",
     "output_type": "stream",
     "text": [
      "epoch: 1, [batch: 2688 / 6720], examples_per_second: 3206.4120, train_label_loss: 2.8255, \n"
     ]
    },
    {
     "name": "stdout",
     "output_type": "stream",
     "text": [
      "epoch: 1, [batch: 3360 / 6720], examples_per_second: 3221.0450, train_label_loss: 2.7851, \n"
     ]
    },
    {
     "name": "stdout",
     "output_type": "stream",
     "text": [
      "epoch: 1, [batch: 4032 / 6720], examples_per_second: 3211.3459, train_label_loss: 2.7203, \n"
     ]
    },
    {
     "name": "stdout",
     "output_type": "stream",
     "text": [
      "epoch: 1, [batch: 4704 / 6720], examples_per_second: 3195.1720, train_label_loss: 1.3928, \n"
     ]
    },
    {
     "name": "stdout",
     "output_type": "stream",
     "text": [
      "epoch: 1, [batch: 5376 / 6720], examples_per_second: 3232.8131, train_label_loss: 1.4542, \n"
     ]
    },
    {
     "name": "stdout",
     "output_type": "stream",
     "text": [
      "epoch: 1, [batch: 6048 / 6720], examples_per_second: 3212.2390, train_label_loss: 1.6853, \n"
     ]
    },
    {
     "name": "stdout",
     "output_type": "stream",
     "text": [
      "=============================================================\n",
      "epoch: 1, source_val_acc_label: 0.4018, target_val_acc_label: 0.4464, source_val_label_loss: 1.8365, target_val_label_loss: 46.2985, \n",
      "=============================================================\n"
     ]
    },
    {
     "name": "stdout",
     "output_type": "stream",
     "text": [
      "New best\n"
     ]
    },
    {
     "name": "stdout",
     "output_type": "stream",
     "text": [
      "epoch: 2, [batch: 1 / 6720], examples_per_second: 5.5455, train_label_loss: 1.6679, \n"
     ]
    },
    {
     "name": "stdout",
     "output_type": "stream",
     "text": [
      "epoch: 2, [batch: 672 / 6720], examples_per_second: 3232.0013, train_label_loss: 1.0771, \n"
     ]
    },
    {
     "name": "stdout",
     "output_type": "stream",
     "text": [
      "epoch: 2, [batch: 1344 / 6720], examples_per_second: 3250.3790, train_label_loss: 1.2817, \n"
     ]
    },
    {
     "name": "stdout",
     "output_type": "stream",
     "text": [
      "epoch: 2, [batch: 2016 / 6720], examples_per_second: 3233.6732, train_label_loss: 1.6874, \n"
     ]
    },
    {
     "name": "stdout",
     "output_type": "stream",
     "text": [
      "epoch: 2, [batch: 2688 / 6720], examples_per_second: 3235.0172, train_label_loss: 1.2102, \n"
     ]
    },
    {
     "name": "stdout",
     "output_type": "stream",
     "text": [
      "epoch: 2, [batch: 3360 / 6720], examples_per_second: 3240.5638, train_label_loss: 1.1287, \n"
     ]
    },
    {
     "name": "stdout",
     "output_type": "stream",
     "text": [
      "epoch: 2, [batch: 4032 / 6720], examples_per_second: 3246.9111, train_label_loss: 0.9832, \n"
     ]
    },
    {
     "name": "stdout",
     "output_type": "stream",
     "text": [
      "epoch: 2, [batch: 4704 / 6720], examples_per_second: 3232.4739, train_label_loss: 1.1734, \n"
     ]
    },
    {
     "name": "stdout",
     "output_type": "stream",
     "text": [
      "epoch: 2, [batch: 5376 / 6720], examples_per_second: 3240.3907, train_label_loss: 1.4357, \n"
     ]
    },
    {
     "name": "stdout",
     "output_type": "stream",
     "text": [
      "epoch: 2, [batch: 6048 / 6720], examples_per_second: 3249.1397, train_label_loss: 0.7346, \n"
     ]
    },
    {
     "name": "stdout",
     "output_type": "stream",
     "text": [
      "=============================================================\n",
      "epoch: 2, source_val_acc_label: 0.6319, target_val_acc_label: 0.7731, source_val_label_loss: 0.9924, target_val_label_loss: 2.8966, \n",
      "=============================================================\n"
     ]
    },
    {
     "name": "stdout",
     "output_type": "stream",
     "text": [
      "New best\n"
     ]
    },
    {
     "name": "stdout",
     "output_type": "stream",
     "text": [
      "epoch: 3, [batch: 1 / 6720], examples_per_second: 5.6007, train_label_loss: 1.2519, \n"
     ]
    },
    {
     "name": "stdout",
     "output_type": "stream",
     "text": [
      "epoch: 3, [batch: 672 / 6720], examples_per_second: 3242.0175, train_label_loss: 0.5505, \n"
     ]
    },
    {
     "name": "stdout",
     "output_type": "stream",
     "text": [
      "epoch: 3, [batch: 1344 / 6720], examples_per_second: 3247.9340, train_label_loss: 0.6720, \n"
     ]
    },
    {
     "name": "stdout",
     "output_type": "stream",
     "text": [
      "epoch: 3, [batch: 2016 / 6720], examples_per_second: 3243.5290, train_label_loss: 0.7651, \n"
     ]
    },
    {
     "name": "stdout",
     "output_type": "stream",
     "text": [
      "epoch: 3, [batch: 2688 / 6720], examples_per_second: 3234.3624, train_label_loss: 0.8588, \n"
     ]
    },
    {
     "name": "stdout",
     "output_type": "stream",
     "text": [
      "epoch: 3, [batch: 3360 / 6720], examples_per_second: 3254.4484, train_label_loss: 1.2972, \n"
     ]
    },
    {
     "name": "stdout",
     "output_type": "stream",
     "text": [
      "epoch: 3, [batch: 4032 / 6720], examples_per_second: 3234.3352, train_label_loss: 1.2807, \n"
     ]
    },
    {
     "name": "stdout",
     "output_type": "stream",
     "text": [
      "epoch: 3, [batch: 4704 / 6720], examples_per_second: 3239.7864, train_label_loss: 0.6608, \n"
     ]
    },
    {
     "name": "stdout",
     "output_type": "stream",
     "text": [
      "epoch: 3, [batch: 5376 / 6720], examples_per_second: 3257.6509, train_label_loss: 0.9306, \n"
     ]
    },
    {
     "name": "stdout",
     "output_type": "stream",
     "text": [
      "epoch: 3, [batch: 6048 / 6720], examples_per_second: 3247.5035, train_label_loss: 0.5810, \n"
     ]
    },
    {
     "name": "stdout",
     "output_type": "stream",
     "text": [
      "=============================================================\n",
      "epoch: 3, source_val_acc_label: 0.6564, target_val_acc_label: 0.7621, source_val_label_loss: 0.9432, target_val_label_loss: 2.4775, \n",
      "=============================================================\n"
     ]
    },
    {
     "name": "stdout",
     "output_type": "stream",
     "text": [
      "New best\n"
     ]
    },
    {
     "name": "stdout",
     "output_type": "stream",
     "text": [
      "epoch: 4, [batch: 1 / 6720], examples_per_second: 5.5977, train_label_loss: 0.9366, \n"
     ]
    },
    {
     "name": "stdout",
     "output_type": "stream",
     "text": [
      "epoch: 4, [batch: 672 / 6720], examples_per_second: 3206.1916, train_label_loss: 0.6277, \n"
     ]
    },
    {
     "name": "stdout",
     "output_type": "stream",
     "text": [
      "epoch: 4, [batch: 1344 / 6720], examples_per_second: 3260.2464, train_label_loss: 1.2315, \n"
     ]
    },
    {
     "name": "stdout",
     "output_type": "stream",
     "text": [
      "epoch: 4, [batch: 2016 / 6720], examples_per_second: 3243.4590, train_label_loss: 1.0901, \n"
     ]
    },
    {
     "name": "stdout",
     "output_type": "stream",
     "text": [
      "epoch: 4, [batch: 2688 / 6720], examples_per_second: 3238.0166, train_label_loss: 0.8919, \n"
     ]
    },
    {
     "name": "stdout",
     "output_type": "stream",
     "text": [
      "epoch: 4, [batch: 3360 / 6720], examples_per_second: 3248.3229, train_label_loss: 0.6067, \n"
     ]
    },
    {
     "name": "stdout",
     "output_type": "stream",
     "text": [
      "epoch: 4, [batch: 4032 / 6720], examples_per_second: 3261.7976, train_label_loss: 1.3161, \n"
     ]
    },
    {
     "name": "stdout",
     "output_type": "stream",
     "text": [
      "epoch: 4, [batch: 4704 / 6720], examples_per_second: 3230.9456, train_label_loss: 0.7750, \n"
     ]
    },
    {
     "name": "stdout",
     "output_type": "stream",
     "text": [
      "epoch: 4, [batch: 5376 / 6720], examples_per_second: 3242.3139, train_label_loss: 1.1396, \n"
     ]
    },
    {
     "name": "stdout",
     "output_type": "stream",
     "text": [
      "epoch: 4, [batch: 6048 / 6720], examples_per_second: 3210.5442, train_label_loss: 0.8118, \n"
     ]
    },
    {
     "name": "stdout",
     "output_type": "stream",
     "text": [
      "=============================================================\n",
      "epoch: 4, source_val_acc_label: 0.6685, target_val_acc_label: 0.7822, source_val_label_loss: 0.9191, target_val_label_loss: 2.2664, \n",
      "=============================================================\n"
     ]
    },
    {
     "name": "stdout",
     "output_type": "stream",
     "text": [
      "New best\n"
     ]
    },
    {
     "name": "stdout",
     "output_type": "stream",
     "text": [
      "epoch: 5, [batch: 1 / 6720], examples_per_second: 5.5648, train_label_loss: 0.7057, \n"
     ]
    },
    {
     "name": "stdout",
     "output_type": "stream",
     "text": [
      "epoch: 5, [batch: 672 / 6720], examples_per_second: 3216.0068, train_label_loss: 0.7195, \n"
     ]
    },
    {
     "name": "stdout",
     "output_type": "stream",
     "text": [
      "epoch: 5, [batch: 1344 / 6720], examples_per_second: 3236.4909, train_label_loss: 0.5846, \n"
     ]
    },
    {
     "name": "stdout",
     "output_type": "stream",
     "text": [
      "epoch: 5, [batch: 2016 / 6720], examples_per_second: 3234.2216, train_label_loss: 1.2455, \n"
     ]
    },
    {
     "name": "stdout",
     "output_type": "stream",
     "text": [
      "epoch: 5, [batch: 2688 / 6720], examples_per_second: 3212.4948, train_label_loss: 0.7587, \n"
     ]
    },
    {
     "name": "stdout",
     "output_type": "stream",
     "text": [
      "epoch: 5, [batch: 3360 / 6720], examples_per_second: 3213.6070, train_label_loss: 0.6378, \n"
     ]
    },
    {
     "name": "stdout",
     "output_type": "stream",
     "text": [
      "epoch: 5, [batch: 4032 / 6720], examples_per_second: 3226.0292, train_label_loss: 0.7561, \n"
     ]
    },
    {
     "name": "stdout",
     "output_type": "stream",
     "text": [
      "epoch: 5, [batch: 4704 / 6720], examples_per_second: 3230.6070, train_label_loss: 0.7003, \n"
     ]
    },
    {
     "name": "stdout",
     "output_type": "stream",
     "text": [
      "epoch: 5, [batch: 5376 / 6720], examples_per_second: 3246.9638, train_label_loss: 1.1998, \n"
     ]
    },
    {
     "name": "stdout",
     "output_type": "stream",
     "text": [
      "epoch: 5, [batch: 6048 / 6720], examples_per_second: 3246.1715, train_label_loss: 0.5110, \n"
     ]
    },
    {
     "name": "stdout",
     "output_type": "stream",
     "text": [
      "=============================================================\n",
      "epoch: 5, source_val_acc_label: 0.6784, target_val_acc_label: 0.7790, source_val_label_loss: 0.8799, target_val_label_loss: 2.7360, \n",
      "=============================================================\n"
     ]
    },
    {
     "name": "stdout",
     "output_type": "stream",
     "text": [
      "epoch: 6, [batch: 1 / 6720], examples_per_second: 5.6175, train_label_loss: 0.6602, \n"
     ]
    },
    {
     "name": "stdout",
     "output_type": "stream",
     "text": [
      "epoch: 6, [batch: 672 / 6720], examples_per_second: 3234.4078, train_label_loss: 1.0349, \n"
     ]
    },
    {
     "name": "stdout",
     "output_type": "stream",
     "text": [
      "epoch: 6, [batch: 1344 / 6720], examples_per_second: 3231.7549, train_label_loss: 1.2060, \n"
     ]
    },
    {
     "name": "stdout",
     "output_type": "stream",
     "text": [
      "epoch: 6, [batch: 2016 / 6720], examples_per_second: 3240.0740, train_label_loss: 0.8194, \n"
     ]
    },
    {
     "name": "stdout",
     "output_type": "stream",
     "text": [
      "epoch: 6, [batch: 2688 / 6720], examples_per_second: 3242.1949, train_label_loss: 0.5022, \n"
     ]
    },
    {
     "name": "stdout",
     "output_type": "stream",
     "text": [
      "epoch: 6, [batch: 3360 / 6720], examples_per_second: 3244.5746, train_label_loss: 0.4062, \n"
     ]
    },
    {
     "name": "stdout",
     "output_type": "stream",
     "text": [
      "epoch: 6, [batch: 4032 / 6720], examples_per_second: 3235.9701, train_label_loss: 0.7336, \n"
     ]
    },
    {
     "name": "stdout",
     "output_type": "stream",
     "text": [
      "epoch: 6, [batch: 4704 / 6720], examples_per_second: 3231.7023, train_label_loss: 1.2762, \n"
     ]
    },
    {
     "name": "stdout",
     "output_type": "stream",
     "text": [
      "epoch: 6, [batch: 5376 / 6720], examples_per_second: 3240.8175, train_label_loss: 0.8126, \n"
     ]
    },
    {
     "name": "stdout",
     "output_type": "stream",
     "text": [
      "epoch: 6, [batch: 6048 / 6720], examples_per_second: 3236.4410, train_label_loss: 0.8644, \n"
     ]
    },
    {
     "name": "stdout",
     "output_type": "stream",
     "text": [
      "=============================================================\n",
      "epoch: 6, source_val_acc_label: 0.6949, target_val_acc_label: 0.7629, source_val_label_loss: 0.8439, target_val_label_loss: 3.2234, \n",
      "=============================================================\n"
     ]
    },
    {
     "name": "stdout",
     "output_type": "stream",
     "text": [
      "epoch: 7, [batch: 1 / 6720], examples_per_second: 5.5848, train_label_loss: 0.3991, \n"
     ]
    },
    {
     "name": "stdout",
     "output_type": "stream",
     "text": [
      "epoch: 7, [batch: 672 / 6720], examples_per_second: 3230.9299, train_label_loss: 1.2523, \n"
     ]
    },
    {
     "name": "stdout",
     "output_type": "stream",
     "text": [
      "epoch: 7, [batch: 1344 / 6720], examples_per_second: 3242.3262, train_label_loss: 0.7285, \n"
     ]
    },
    {
     "name": "stdout",
     "output_type": "stream",
     "text": [
      "epoch: 7, [batch: 2016 / 6720], examples_per_second: 3241.8799, train_label_loss: 1.1502, \n"
     ]
    },
    {
     "name": "stdout",
     "output_type": "stream",
     "text": [
      "epoch: 7, [batch: 2688 / 6720], examples_per_second: 3236.9173, train_label_loss: 0.6802, \n"
     ]
    },
    {
     "name": "stdout",
     "output_type": "stream",
     "text": [
      "epoch: 7, [batch: 3360 / 6720], examples_per_second: 3241.3307, train_label_loss: 1.3459, \n"
     ]
    },
    {
     "name": "stdout",
     "output_type": "stream",
     "text": [
      "epoch: 7, [batch: 4032 / 6720], examples_per_second: 3238.7873, train_label_loss: 0.6433, \n"
     ]
    },
    {
     "name": "stdout",
     "output_type": "stream",
     "text": [
      "epoch: 7, [batch: 4704 / 6720], examples_per_second: 3234.1211, train_label_loss: 0.5127, \n"
     ]
    },
    {
     "name": "stdout",
     "output_type": "stream",
     "text": [
      "epoch: 7, [batch: 5376 / 6720], examples_per_second: 3247.5335, train_label_loss: 0.5575, \n"
     ]
    },
    {
     "name": "stdout",
     "output_type": "stream",
     "text": [
      "epoch: 7, [batch: 6048 / 6720], examples_per_second: 3236.8712, train_label_loss: 0.6461, \n"
     ]
    },
    {
     "name": "stdout",
     "output_type": "stream",
     "text": [
      "=============================================================\n",
      "epoch: 7, source_val_acc_label: 0.6850, target_val_acc_label: 0.7649, source_val_label_loss: 0.8602, target_val_label_loss: 2.7640, \n",
      "=============================================================\n"
     ]
    },
    {
     "name": "stdout",
     "output_type": "stream",
     "text": [
      "epoch: 8, [batch: 1 / 6720], examples_per_second: 5.5818, train_label_loss: 1.0680, \n"
     ]
    },
    {
     "name": "stdout",
     "output_type": "stream",
     "text": [
      "epoch: 8, [batch: 672 / 6720], examples_per_second: 3239.7887, train_label_loss: 1.2062, \n"
     ]
    },
    {
     "name": "stdout",
     "output_type": "stream",
     "text": [
      "epoch: 8, [batch: 1344 / 6720], examples_per_second: 3249.8525, train_label_loss: 1.1350, \n"
     ]
    },
    {
     "name": "stdout",
     "output_type": "stream",
     "text": [
      "epoch: 8, [batch: 2016 / 6720], examples_per_second: 3251.0013, train_label_loss: 0.4604, \n"
     ]
    },
    {
     "name": "stdout",
     "output_type": "stream",
     "text": [
      "epoch: 8, [batch: 2688 / 6720], examples_per_second: 3229.1967, train_label_loss: 0.7329, \n"
     ]
    },
    {
     "name": "stdout",
     "output_type": "stream",
     "text": [
      "epoch: 8, [batch: 3360 / 6720], examples_per_second: 3244.0350, train_label_loss: 1.0536, \n"
     ]
    },
    {
     "name": "stdout",
     "output_type": "stream",
     "text": [
      "epoch: 8, [batch: 4032 / 6720], examples_per_second: 3237.2501, train_label_loss: 1.2239, \n"
     ]
    },
    {
     "name": "stdout",
     "output_type": "stream",
     "text": [
      "epoch: 8, [batch: 4704 / 6720], examples_per_second: 3223.1495, train_label_loss: 0.7030, \n"
     ]
    },
    {
     "name": "stdout",
     "output_type": "stream",
     "text": [
      "epoch: 8, [batch: 5376 / 6720], examples_per_second: 3232.4700, train_label_loss: 1.1940, \n"
     ]
    },
    {
     "name": "stdout",
     "output_type": "stream",
     "text": [
      "epoch: 8, [batch: 6048 / 6720], examples_per_second: 3221.1579, train_label_loss: 0.8841, \n"
     ]
    },
    {
     "name": "stdout",
     "output_type": "stream",
     "text": [
      "=============================================================\n",
      "epoch: 8, source_val_acc_label: 0.7035, target_val_acc_label: 0.7587, source_val_label_loss: 0.8165, target_val_label_loss: 3.4292, \n",
      "=============================================================\n"
     ]
    },
    {
     "name": "stdout",
     "output_type": "stream",
     "text": [
      "Patience (3) exhausted\n"
     ]
    }
   ],
   "source": [
    "###################################\n",
    "# train\n",
    "###################################\n",
    "jig = PTN_Train_Eval_Test_Jig(model, p.BEST_MODEL_PATH, p.device)\n",
    "\n",
    "jig.train(\n",
    "    train_iterable=datasets.source.processed.train,\n",
    "    source_val_iterable=datasets.source.processed.val,\n",
    "    target_val_iterable=datasets.target.processed.val,\n",
    "    num_epochs=p.n_epoch,\n",
    "    num_logs_per_epoch=p.NUM_LOGS_PER_EPOCH,\n",
    "    patience=p.patience,\n",
    "    optimizer=optimizer,\n",
    "    criteria_for_best=p.criteria_for_best,\n",
    ")"
   ]
  },
  {
   "cell_type": "code",
   "execution_count": 23,
   "id": "31e8fabf",
   "metadata": {
    "execution": {
     "iopub.execute_input": "2022-03-18T08:45:54.830087Z",
     "iopub.status.busy": "2022-03-18T08:45:54.829685Z",
     "iopub.status.idle": "2022-03-18T08:45:54.845370Z",
     "shell.execute_reply": "2022-03-18T08:45:54.845111Z"
    },
    "papermill": {
     "duration": 0.049175,
     "end_time": "2022-03-18T08:45:54.845442",
     "exception": false,
     "start_time": "2022-03-18T08:45:54.796267",
     "status": "completed"
    },
    "tags": []
   },
   "outputs": [],
   "source": [
    "total_experiment_time_secs = time.time() - start_time_secs"
   ]
  },
  {
   "cell_type": "code",
   "execution_count": 24,
   "id": "87b9595b",
   "metadata": {
    "execution": {
     "iopub.execute_input": "2022-03-18T08:45:54.914735Z",
     "iopub.status.busy": "2022-03-18T08:45:54.914424Z",
     "iopub.status.idle": "2022-03-18T08:46:59.262181Z",
     "shell.execute_reply": "2022-03-18T08:46:59.262585Z"
    },
    "papermill": {
     "duration": 64.385063,
     "end_time": "2022-03-18T08:46:59.262720",
     "exception": false,
     "start_time": "2022-03-18T08:45:54.877657",
     "status": "completed"
    },
    "tags": []
   },
   "outputs": [],
   "source": [
    "###################################\n",
    "# Evaluate the model\n",
    "###################################\n",
    "source_test_label_accuracy, source_test_label_loss = jig.test(datasets.source.processed.test)\n",
    "target_test_label_accuracy, target_test_label_loss = jig.test(datasets.target.processed.test)\n",
    "\n",
    "source_val_label_accuracy, source_val_label_loss = jig.test(datasets.source.processed.val)\n",
    "target_val_label_accuracy, target_val_label_loss = jig.test(datasets.target.processed.val)\n",
    "\n",
    "history = jig.get_history()\n",
    "\n",
    "total_epochs_trained = len(history[\"epoch_indices\"])\n",
    "\n",
    "val_dl = Iterable_Aggregator((datasets.source.original.val,datasets.target.original.val))\n",
    "\n",
    "confusion = ptn_confusion_by_domain_over_dataloader(model, p.device, val_dl)\n",
    "per_domain_accuracy = per_domain_accuracy_from_confusion(confusion)\n",
    "\n",
    "# Add a key to per_domain_accuracy for if it was a source domain\n",
    "for domain, accuracy in per_domain_accuracy.items():\n",
    "    per_domain_accuracy[domain] = {\n",
    "        \"accuracy\": accuracy,\n",
    "        \"source?\": domain in p.domains_source\n",
    "    }\n",
    "\n",
    "# Do an independent accuracy assesment JUST TO BE SURE!\n",
    "# _source_test_label_accuracy = independent_accuracy_assesment(model, datasets.source.processed.test, p.device)\n",
    "# _target_test_label_accuracy = independent_accuracy_assesment(model, datasets.target.processed.test, p.device)\n",
    "# _source_val_label_accuracy = independent_accuracy_assesment(model, datasets.source.processed.val, p.device)\n",
    "# _target_val_label_accuracy = independent_accuracy_assesment(model, datasets.target.processed.val, p.device)\n",
    "\n",
    "# assert(_source_test_label_accuracy == source_test_label_accuracy)\n",
    "# assert(_target_test_label_accuracy == target_test_label_accuracy)\n",
    "# assert(_source_val_label_accuracy == source_val_label_accuracy)\n",
    "# assert(_target_val_label_accuracy == target_val_label_accuracy)\n",
    "\n",
    "experiment = {\n",
    "    \"experiment_name\": p.experiment_name,\n",
    "    \"parameters\": dict(p),\n",
    "    \"results\": {\n",
    "        \"source_test_label_accuracy\": source_test_label_accuracy,\n",
    "        \"source_test_label_loss\": source_test_label_loss,\n",
    "        \"target_test_label_accuracy\": target_test_label_accuracy,\n",
    "        \"target_test_label_loss\": target_test_label_loss,\n",
    "        \"source_val_label_accuracy\": source_val_label_accuracy,\n",
    "        \"source_val_label_loss\": source_val_label_loss,\n",
    "        \"target_val_label_accuracy\": target_val_label_accuracy,\n",
    "        \"target_val_label_loss\": target_val_label_loss,\n",
    "        \"total_epochs_trained\": total_epochs_trained,\n",
    "        \"total_experiment_time_secs\": total_experiment_time_secs,\n",
    "        \"confusion\": confusion,\n",
    "        \"per_domain_accuracy\": per_domain_accuracy,\n",
    "    },\n",
    "    \"history\": history,\n",
    "    \"dataset_metrics\": get_dataset_metrics(datasets, \"ptn\"),\n",
    "}"
   ]
  },
  {
   "cell_type": "code",
   "execution_count": 25,
   "id": "54a21829",
   "metadata": {
    "execution": {
     "iopub.execute_input": "2022-03-18T08:46:59.332929Z",
     "iopub.status.busy": "2022-03-18T08:46:59.332666Z",
     "iopub.status.idle": "2022-03-18T08:46:59.453577Z",
     "shell.execute_reply": "2022-03-18T08:46:59.453167Z"
    },
    "papermill": {
     "duration": 0.154163,
     "end_time": "2022-03-18T08:46:59.453675",
     "exception": false,
     "start_time": "2022-03-18T08:46:59.299512",
     "status": "completed"
    },
    "tags": []
   },
   "outputs": [
    {
     "data": {
      "image/png": "[encoded data removed]",
      "text/plain": [
       "<Figure size 1080x504 with 1 Axes>"
      ]
     },
     "metadata": {
      "needs_background": "light"
     },
     "output_type": "display_data"
    }
   ],
   "source": [
    "ax = get_loss_curve(experiment)\n",
    "plt.show()"
   ]
  },
  {
   "cell_type": "code",
   "execution_count": 26,
   "id": "fd8a0f60",
   "metadata": {
    "execution": {
     "iopub.execute_input": "2022-03-18T08:46:59.523707Z",
     "iopub.status.busy": "2022-03-18T08:46:59.523448Z",
     "iopub.status.idle": "2022-03-18T08:46:59.664963Z",
     "shell.execute_reply": "2022-03-18T08:46:59.665249Z"
    },
    "papermill": {
     "duration": 0.176905,
     "end_time": "2022-03-18T08:46:59.665335",
     "exception": false,
     "start_time": "2022-03-18T08:46:59.488430",
     "status": "completed"
    },
    "tags": []
   },
   "outputs": [
    {
     "data": {
      "text/plain": [
       "<AxesSubplot:title={'center':'Results'}>"
      ]
     },
     "execution_count": 26,
     "metadata": {},
     "output_type": "execute_result"
    },
    {
     "data": {
      "image/png": "[encoded data removed]",
      "text/plain": [
       "<Figure size 1080x504 with 1 Axes>"
      ]
     },
     "metadata": {
      "needs_background": "light"
     },
     "output_type": "display_data"
    }
   ],
   "source": [
    "get_results_table(experiment)"
   ]
  },
  {
   "cell_type": "code",
   "execution_count": 27,
   "id": "cf8dc689",
   "metadata": {
    "execution": {
     "iopub.execute_input": "2022-03-18T08:46:59.744999Z",
     "iopub.status.busy": "2022-03-18T08:46:59.744742Z",
     "iopub.status.idle": "2022-03-18T08:46:59.908131Z",
     "shell.execute_reply": "2022-03-18T08:46:59.908509Z"
    },
    "papermill": {
     "duration": 0.19973,
     "end_time": "2022-03-18T08:46:59.908622",
     "exception": false,
     "start_time": "2022-03-18T08:46:59.708892",
     "status": "completed"
    },
    "tags": []
   },
   "outputs": [
    {
     "data": {
      "text/plain": [
       "<AxesSubplot:title={'center':'Per Domain Validation Accuracy'}, xlabel='domain'>"
      ]
     },
     "execution_count": 27,
     "metadata": {},
     "output_type": "execute_result"
    },
    {
     "data": {
      "image/png": "[encoded data removed]",
      "text/plain": [
       "<Figure size 1080x504 with 1 Axes>"
      ]
     },
     "metadata": {
      "needs_background": "light"
     },
     "output_type": "display_data"
    }
   ],
   "source": [
    "get_domain_accuracies(experiment)"
   ]
  },
  {
   "cell_type": "code",
   "execution_count": 28,
   "id": "a74ae082",
   "metadata": {
    "execution": {
     "iopub.execute_input": "2022-03-18T08:46:59.983557Z",
     "iopub.status.busy": "2022-03-18T08:46:59.983299Z",
     "iopub.status.idle": "2022-03-18T08:46:59.998905Z",
     "shell.execute_reply": "2022-03-18T08:46:59.998488Z"
    },
    "papermill": {
     "duration": 0.052599,
     "end_time": "2022-03-18T08:46:59.998998",
     "exception": false,
     "start_time": "2022-03-18T08:46:59.946399",
     "status": "completed"
    },
    "tags": []
   },
   "outputs": [
    {
     "name": "stdout",
     "output_type": "stream",
     "text": [
      "Source Test Label Accuracy: 0.6745768229166667 Target Test Label Accuracy: 0.7778253424657534\n",
      "Source Val Label Accuracy: 0.6685221354166667 Target Val Label Accuracy: 0.7822131849315068\n"
     ]
    }
   ],
   "source": [
    "print(\"Source Test Label Accuracy:\", experiment[\"results\"][\"source_test_label_accuracy\"], \"Target Test Label Accuracy:\", experiment[\"results\"][\"target_test_label_accuracy\"])\n",
    "print(\"Source Val Label Accuracy:\", experiment[\"results\"][\"source_val_label_accuracy\"], \"Target Val Label Accuracy:\", experiment[\"results\"][\"target_val_label_accuracy\"])"
   ]
  },
  {
   "cell_type": "code",
   "execution_count": 29,
   "id": "dacca602",
   "metadata": {
    "execution": {
     "iopub.execute_input": "2022-03-18T08:47:00.074262Z",
     "iopub.status.busy": "2022-03-18T08:47:00.074006Z",
     "iopub.status.idle": "2022-03-18T08:47:00.091465Z",
     "shell.execute_reply": "2022-03-18T08:47:00.091674Z"
    },
    "papermill": {
     "duration": 0.054262,
     "end_time": "2022-03-18T08:47:00.091738",
     "exception": false,
     "start_time": "2022-03-18T08:47:00.037476",
     "status": "completed"
    },
    "tags": [
     "experiment_json"
    ]
   },
   "outputs": [
    {
     "data": {
      "text/plain": [
       "'{\"experiment_name\": \"tl_3-jitter5:oracle.run1.framed -> cores+wisig\", \"parameters\": {\"experiment_name\": \"tl_3-jitter5:oracle.run1.framed -> cores+wisig\", \"device\": \"cuda\", \"lr\": 0.001, \"seed\": 1337, \"dataset_seed\": 1337, \"n_shot\": 3, \"n_query\": 2, \"train_k_factor\": 3, \"val_k_factor\": 2, \"test_k_factor\": 2, \"torch_default_dtype\": \"torch.float32\", \"n_epoch\": 50, \"patience\": 3, \"criteria_for_best\": \"target_loss\", \"x_net\": [{\"class\": \"nnReshape\", \"kargs\": {\"shape\": [-1, 1, 2, 256]}}, {\"class\": \"Conv2d\", \"kargs\": {\"in_channels\": 1, \"out_channels\": 256, \"kernel_size\": [1, 7], \"bias\": false, \"padding\": [0, 3]}}, {\"class\": \"ReLU\", \"kargs\": {\"inplace\": true}}, {\"class\": \"BatchNorm2d\", \"kargs\": {\"num_features\": 256}}, {\"class\": \"Conv2d\", \"kargs\": {\"in_channels\": 256, \"out_channels\": 80, \"kernel_size\": [2, 7], \"bias\": true, \"padding\": [0, 3]}}, {\"class\": \"ReLU\", \"kargs\": {\"inplace\": true}}, {\"class\": \"BatchNorm2d\", \"kargs\": {\"num_features\": 80}}, {\"class\": \"Flatten\", \"kargs\": {}}, {\"class\": \"Linear\", \"kargs\": {\"in_features\": 20480, \"out_features\": 256}}, {\"class\": \"ReLU\", \"kargs\": {\"inplace\": true}}, {\"class\": \"BatchNorm1d\", \"kargs\": {\"num_features\": 256}}, {\"class\": \"Linear\", \"kargs\": {\"in_features\": 256, \"out_features\": 256}}], \"NUM_LOGS_PER_EPOCH\": 10, \"BEST_MODEL_PATH\": \"./best_model.pth\", \"n_way\": 16, \"datasets\": [{\"labels\": [\"1-10.\", \"1-11.\", \"1-15.\", \"1-16.\", \"1-17.\", \"1-18.\", \"1-19.\", \"10-4.\", \"10-7.\", \"11-1.\", \"11-14.\", \"11-17.\", \"11-20.\", \"11-7.\", \"13-20.\", \"13-8.\", \"14-10.\", \"14-11.\", \"14-14.\", \"14-7.\", \"15-1.\", \"15-20.\", \"16-1.\", \"16-16.\", \"17-10.\", \"17-11.\", \"17-2.\", \"19-1.\", \"19-16.\", \"19-19.\", \"19-20.\", \"19-3.\", \"2-10.\", \"2-11.\", \"2-17.\", \"2-18.\", \"2-20.\", \"2-3.\", \"2-4.\", \"2-5.\", \"2-6.\", \"2-7.\", \"2-8.\", \"3-13.\", \"3-18.\", \"3-3.\", \"4-1.\", \"4-10.\", \"4-11.\", \"4-19.\", \"5-5.\", \"6-15.\", \"7-10.\", \"7-14.\", \"8-18.\", \"8-20.\", \"8-3.\", \"8-8.\"], \"domains\": [1, 2, 3, 4, 5], \"num_examples_per_domain_per_label\": 100, \"pickle_path\": \"/mnt/wd500GB/CSC500/csc500-main/datasets/cores.stratified_ds.2022A.pkl\", \"source_or_target_dataset\": \"target\", \"x_transforms\": [\"unit_mag\", \"jitter_256_5\", \"take_200\"], \"episode_transforms\": [], \"domain_prefix\": \"C_A_\"}, {\"labels\": [\"1-10\", \"1-12\", \"1-14\", \"1-16\", \"1-18\", \"1-19\", \"1-8\", \"10-11\", \"10-17\", \"10-4\", \"10-7\", \"11-1\", \"11-10\", \"11-19\", \"11-20\", \"11-4\", \"11-7\", \"12-19\", \"12-20\", \"12-7\", \"13-14\", \"13-18\", \"13-19\", \"13-20\", \"13-3\", \"13-7\", \"14-10\", \"14-11\", \"14-12\", \"14-13\", \"14-14\", \"14-19\", \"14-20\", \"14-7\", \"14-8\", \"14-9\", \"15-1\", \"15-19\", \"15-6\", \"16-1\", \"16-16\", \"16-19\", \"16-20\", \"17-10\", \"17-11\", \"18-1\", \"18-10\", \"18-11\", \"18-12\", \"18-13\", \"18-14\", \"18-15\", \"18-16\", \"18-17\", \"18-19\", \"18-2\", \"18-20\", \"18-4\", \"18-5\", \"18-7\", \"18-8\", \"18-9\", \"19-1\", \"19-10\", \"19-11\", \"19-12\", \"19-13\", \"19-14\", \"19-15\", \"19-19\", \"19-2\", \"19-20\", \"19-3\", \"19-4\", \"19-6\", \"19-7\", \"19-8\", \"19-9\", \"2-1\", \"2-13\", \"2-15\", \"2-3\", \"2-4\", \"2-5\", \"2-6\", \"2-7\", \"2-8\", \"20-1\", \"20-12\", \"20-14\", \"20-15\", \"20-16\", \"20-18\", \"20-19\", \"20-20\", \"20-3\", \"20-4\", \"20-5\", \"20-7\", \"20-8\", \"3-1\", \"3-13\", \"3-18\", \"3-2\", \"3-8\", \"4-1\", \"4-10\", \"4-11\", \"5-1\", \"5-5\", \"6-1\", \"6-15\", \"6-6\", \"7-10\", \"7-11\", \"7-12\", \"7-13\", \"7-14\", \"7-7\", \"7-8\", \"7-9\", \"8-1\", \"8-13\", \"8-14\", \"8-18\", \"8-20\", \"8-3\", \"8-8\", \"9-1\", \"9-7\"], \"domains\": [1, 2, 3, 4], \"num_examples_per_domain_per_label\": 100, \"pickle_path\": \"/mnt/wd500GB/CSC500/csc500-main/datasets/wisig.node3-19.stratified_ds.2022A.pkl\", \"source_or_target_dataset\": \"target\", \"x_transforms\": [\"unit_mag\", \"jitter_256_5\", \"take_200\"], \"episode_transforms\": [], \"domain_prefix\": \"W_A_\"}, {\"labels\": [\"3123D52\", \"3123D65\", \"3123D79\", \"3123D80\", \"3123D54\", \"3123D70\", \"3123D7B\", \"3123D89\", \"3123D58\", \"3123D76\", \"3123D7D\", \"3123EFE\", \"3123D64\", \"3123D78\", \"3123D7E\", \"3124E4A\"], \"domains\": [32, 38, 8, 44, 14, 50, 20, 26], \"num_examples_per_domain_per_label\": 2000, \"pickle_path\": \"/mnt/wd500GB/CSC500/csc500-main/datasets/oracle.Run1_framed_2000Examples_stratified_ds.2022A.pkl\", \"source_or_target_dataset\": \"source\", \"x_transforms\": [\"unit_mag\", \"jitter_256_5\", \"take_200\", \"resample_20Msps_to_25Msps\"], \"episode_transforms\": [], \"domain_prefix\": \"ORACLE.run1_\"}], \"x_shape\": [2, 256], \"domains_source\": [\"ORACLE.run1_32\", \"ORACLE.run1_38\", \"ORACLE.run1_8\", \"ORACLE.run1_44\", \"ORACLE.run1_14\", \"ORACLE.run1_50\", \"ORACLE.run1_20\", \"ORACLE.run1_26\"], \"domains_target\": [\"C_A_1\", \"C_A_2\", \"C_A_3\", \"C_A_4\", \"C_A_5\", \"W_A_1\", \"W_A_2\", \"W_A_3\", \"W_A_4\"]}, \"results\": {\"source_test_label_accuracy\": 0.6745768229166667, \"source_test_label_loss\": 0.909895122051239, \"target_test_label_accuracy\": 0.7778253424657534, \"target_test_label_loss\": 2.878044366836548, \"source_val_label_accuracy\": 0.6685221354166667, \"source_val_label_loss\": 0.9190628528594971, \"target_val_label_accuracy\": 0.7822131849315068, \"target_val_label_loss\": 2.2663726806640625, \"total_epochs_trained\": 8, \"total_experiment_time_secs\": 1490.256340265274, \"confusion\": {\"ORACLE.run1_14\": {\"15\": {\"7\": 21, \"15\": 219}, \"3\": {\"3\": 220, \"4\": 10, \"14\": 7, \"2\": 3}, \"6\": {\"13\": 72, \"6\": 125, \"14\": 26, \"2\": 17}, \"1\": {\"1\": 205, \"4\": 6, \"5\": 29}, \"8\": {\"8\": 240}, \"10\": {\"10\": 215, \"0\": 25}, \"9\": {\"9\": 239, \"11\": 1}, \"13\": {\"14\": 83, \"6\": 86, \"5\": 3, \"13\": 44, \"2\": 21, \"15\": 2, \"4\": 1}, \"12\": {\"12\": 240}, \"5\": {\"1\": 30, \"5\": 146, \"4\": 57, \"3\": 1, \"2\": 5, \"6\": 1}, \"0\": {\"0\": 164, \"10\": 71, \"11\": 3, \"3\": 2}, \"2\": {\"2\": 101, \"6\": 39, \"3\": 8, \"4\": 15, \"14\": 38, \"13\": 12, \"5\": 24, \"15\": 3}, \"11\": {\"11\": 208, \"10\": 13, \"9\": 17, \"0\": 2}, \"14\": {\"14\": 169, \"13\": 40, \"6\": 15, \"2\": 13, \"3\": 2, \"10\": 1}, \"7\": {\"7\": 224, \"15\": 15, \"1\": 1}, \"4\": {\"4\": 179, \"3\": 7, \"1\": 11, \"5\": 34, \"2\": 9}}, \"ORACLE.run1_20\": {\"3\": {\"12\": 54, \"9\": 28, \"3\": 119, \"7\": 9, \"8\": 9, \"2\": 11, \"5\": 3, \"4\": 5, \"1\": 2}, \"15\": {\"15\": 141, \"1\": 40, \"0\": 40, \"5\": 11, \"12\": 3, \"13\": 4, \"9\": 1}, \"8\": {\"8\": 165, \"7\": 12, \"4\": 29, \"14\": 2, \"10\": 15, \"3\": 14, \"9\": 1, \"2\": 2}, \"4\": {\"4\": 195, \"3\": 11, \"8\": 26, \"10\": 6, \"12\": 1, \"5\": 1}, \"14\": {\"14\": 172, \"10\": 47, \"6\": 20, \"8\": 1}, \"0\": {\"12\": 19, \"1\": 53, \"3\": 8, \"0\": 68, \"5\": 51, \"15\": 38, \"9\": 1, \"13\": 2}, \"7\": {\"7\": 167, \"9\": 26, \"2\": 29, \"8\": 9, \"3\": 9}, \"6\": {\"6\": 221, \"14\": 16, \"8\": 1, \"10\": 1, \"7\": 1}, \"10\": {\"6\": 2, \"10\": 186, \"14\": 38, \"8\": 13, \"4\": 1}, \"5\": {\"5\": 107, \"1\": 28, \"0\": 61, \"12\": 29, \"15\": 8, \"3\": 7}, \"2\": {\"7\": 32, \"3\": 13, \"9\": 75, \"2\": 82, \"13\": 22, \"12\": 15, \"1\": 1}, \"12\": {\"12\": 119, \"3\": 45, \"1\": 21, \"0\": 10, \"2\": 6, \"5\": 19, \"13\": 2, \"9\": 14, \"15\": 4}, \"9\": {\"9\": 101, \"13\": 12, \"7\": 31, \"2\": 63, \"3\": 24, \"12\": 8, \"8\": 1}, \"1\": {\"1\": 82, \"5\": 54, \"0\": 40, \"15\": 34, \"12\": 27, \"3\": 2, \"2\": 1}, \"11\": {\"11\": 240}, \"13\": {\"13\": 206, \"2\": 21, \"1\": 2, \"9\": 6, \"12\": 2, \"15\": 1, \"5\": 1, \"3\": 1}}, \"ORACLE.run1_38\": {\"5\": {\"8\": 65, \"7\": 16, \"9\": 4, \"3\": 12, \"15\": 9, \"5\": 83, \"1\": 8, \"0\": 26, \"6\": 15, \"13\": 2}, \"8\": {\"8\": 140, \"7\": 15, \"1\": 2, \"15\": 4, \"10\": 8, \"5\": 35, \"0\": 33, \"13\": 3}, \"11\": {\"11\": 170, \"14\": 65, \"2\": 1, \"12\": 3, \"10\": 1}, \"1\": {\"1\": 229, \"15\": 10, \"13\": 1}, \"10\": {\"10\": 156, \"8\": 17, \"12\": 32, \"0\": 4, \"2\": 1, \"7\": 2, \"15\": 2, \"13\": 22, \"11\": 1, \"14\": 2, \"4\": 1}, \"15\": {\"13\": 78, \"15\": 129, \"8\": 9, \"10\": 1, \"1\": 18, \"5\": 4, \"2\": 1}, \"3\": {\"3\": 183, \"9\": 32, \"5\": 8, \"6\": 5, \"7\": 11, \"0\": 1}, \"7\": {\"7\": 162, \"0\": 56, \"5\": 12, \"3\": 5, \"8\": 5}, \"4\": {\"4\": 219, \"12\": 21}, \"14\": {\"11\": 50, \"14\": 171, \"10\": 3, \"2\": 15, \"12\": 1}, \"9\": {\"9\": 126, \"6\": 92, \"3\": 21, \"5\": 1}, \"12\": {\"12\": 209, \"4\": 19, \"10\": 11, \"11\": 1}, \"6\": {\"6\": 173, \"9\": 64, \"5\": 3}, \"2\": {\"2\": 220, \"14\": 15, \"11\": 1, \"13\": 3, \"10\": 1}, \"0\": {\"8\": 52, \"7\": 67, \"0\": 57, \"5\": 37, \"3\": 9, \"15\": 4, \"10\": 8, \"13\": 2, \"9\": 2, \"6\": 2}, \"13\": {\"13\": 133, \"15\": 75, \"10\": 16, \"2\": 8, \"1\": 6, \"8\": 1, \"5\": 1}}, \"ORACLE.run1_8\": {\"9\": {\"9\": 240}, \"10\": {\"10\": 149, \"14\": 69, \"13\": 11, \"5\": 3, \"4\": 8}, \"13\": {\"4\": 39, \"10\": 22, \"0\": 49, \"13\": 103, \"6\": 7, \"14\": 20}, \"0\": {\"0\": 177, \"6\": 3, \"7\": 15, \"13\": 40, \"10\": 1, \"4\": 4}, \"1\": {\"1\": 157, \"11\": 74, \"5\": 6, \"10\": 1, \"14\": 2}, \"15\": {\"15\": 210, \"8\": 3, \"12\": 27}, \"5\": {\"5\": 210, \"11\": 5, \"10\": 10, \"1\": 12, \"14\": 3}, \"3\": {\"3\": 214, \"2\": 17, \"12\": 9}, \"6\": {\"13\": 9, \"4\": 10, \"6\": 168, \"7\": 43, \"0\": 8, \"8\": 2}, \"11\": {\"11\": 121, \"1\": 99, \"5\": 16, \"14\": 3, \"10\": 1}, \"8\": {\"8\": 237, \"15\": 3}, \"4\": {\"4\": 137, \"13\": 60, \"14\": 23, \"6\": 14, \"10\": 3, \"0\": 3}, \"12\": {\"12\": 120, \"15\": 68, \"3\": 44, \"2\": 5, \"8\": 3}, \"14\": {\"10\": 81, \"14\": 108, \"13\": 12, \"4\": 29, \"1\": 9, \"11\": 1}, \"2\": {\"2\": 191, \"3\": 37, \"7\": 6, \"15\": 5, \"12\": 1}, \"7\": {\"7\": 195, \"0\": 6, \"6\": 37, \"13\": 2}}, \"ORACLE.run1_50\": {\"7\": {\"5\": 30, \"10\": 25, \"7\": 133, \"13\": 50, \"4\": 1, \"6\": 1}, \"3\": {\"3\": 237, \"8\": 3}, \"8\": {\"8\": 230, \"10\": 7, \"3\": 3}, \"2\": {\"2\": 217, \"0\": 22, \"1\": 1}, \"14\": {\"14\": 234, \"11\": 2, \"12\": 4}, \"4\": {\"15\": 52, \"4\": 80, \"1\": 44, \"13\": 8, \"5\": 13, \"7\": 5, \"6\": 38}, \"6\": {\"6\": 125, \"15\": 2, \"5\": 33, \"1\": 16, \"13\": 23, \"4\": 39, \"0\": 2}, \"15\": {\"15\": 155, \"1\": 51, \"4\": 24, \"11\": 10}, \"10\": {\"10\": 218, \"13\": 3, \"8\": 6, \"7\": 6, \"0\": 7}, \"11\": {\"11\": 200, \"9\": 29, \"1\": 1, \"12\": 2, \"14\": 4, \"15\": 4}, \"13\": {\"13\": 110, \"7\": 44, \"5\": 55, \"10\": 6, \"6\": 23, \"0\": 2}, \"9\": {\"11\": 32, \"9\": 185, \"12\": 23}, \"0\": {\"0\": 194, \"10\": 22, \"2\": 22, \"13\": 1, \"6\": 1}, \"1\": {\"15\": 47, \"1\": 128, \"4\": 36, \"6\": 24, \"2\": 2, \"11\": 2, \"14\": 1}, \"12\": {\"12\": 211, \"14\": 12, \"9\": 14, \"11\": 3}, \"5\": {\"5\": 58, \"6\": 47, \"7\": 57, \"13\": 41, \"4\": 23, \"1\": 12, \"10\": 2}}, \"ORACLE.run1_32\": {\"8\": {\"13\": 41, \"8\": 159, \"5\": 25, \"0\": 6, \"7\": 3, \"4\": 4, \"14\": 1, \"3\": 1}, \"14\": {\"14\": 80, \"11\": 60, \"4\": 8, \"7\": 59, \"13\": 16, \"0\": 3, \"3\": 4, \"5\": 8, \"2\": 2}, \"2\": {\"2\": 195, \"0\": 8, \"4\": 36, \"7\": 1}, \"0\": {\"2\": 12, \"0\": 104, \"4\": 66, \"7\": 16, \"5\": 18, \"8\": 14, \"13\": 9, \"14\": 1}, \"1\": {\"1\": 235, \"10\": 5}, \"10\": {\"10\": 238, \"1\": 2}, \"11\": {\"11\": 166, \"14\": 64, \"5\": 3, \"7\": 4, \"3\": 2, \"13\": 1}, \"5\": {\"4\": 14, \"11\": 4, \"13\": 54, \"3\": 23, \"7\": 30, \"8\": 32, \"5\": 43, \"14\": 18, \"0\": 19, \"2\": 3}, \"15\": {\"15\": 239, \"8\": 1}, \"3\": {\"3\": 220, \"13\": 2, \"14\": 3, \"5\": 10, \"11\": 3, \"8\": 2}, \"12\": {\"12\": 240}, \"7\": {\"5\": 18, \"7\": 104, \"4\": 34, \"14\": 45, \"11\": 10, \"13\": 12, \"0\": 11, \"2\": 3, \"3\": 1, \"8\": 2}, \"13\": {\"8\": 27, \"13\": 90, \"3\": 13, \"5\": 67, \"14\": 10, \"4\": 9, \"7\": 10, \"0\": 13, \"11\": 1}, \"6\": {\"6\": 240}, \"4\": {\"0\": 68, \"2\": 43, \"7\": 29, \"4\": 89, \"5\": 6, \"13\": 2, \"14\": 3}, \"9\": {\"9\": 239, \"12\": 1}}, \"ORACLE.run1_26\": {\"4\": {\"4\": 98, \"0\": 25, \"14\": 24, \"8\": 31, \"10\": 7, \"1\": 38, \"7\": 15, \"9\": 1, \"15\": 1}, \"12\": {\"12\": 235, \"11\": 5}, \"10\": {\"0\": 59, \"8\": 32, \"10\": 92, \"14\": 23, \"1\": 8, \"6\": 11, \"9\": 1, \"4\": 10, \"15\": 4}, \"0\": {\"8\": 30, \"4\": 39, \"1\": 21, \"0\": 55, \"6\": 5, \"10\": 53, \"14\": 32, \"7\": 3, \"9\": 2}, \"13\": {\"13\": 146, \"5\": 52, \"9\": 17, \"15\": 19, \"2\": 3, \"6\": 3}, \"9\": {\"5\": 25, \"15\": 84, \"9\": 88, \"8\": 8, \"7\": 3, \"6\": 21, \"10\": 2, \"0\": 1, \"13\": 8}, \"3\": {\"3\": 155, \"2\": 60, \"7\": 23, \"5\": 1, \"4\": 1}, \"2\": {\"2\": 85, \"7\": 25, \"3\": 82, \"5\": 25, \"9\": 7, \"8\": 5, \"15\": 8, \"13\": 3}, \"5\": {\"2\": 11, \"13\": 22, \"15\": 50, \"5\": 131, \"9\": 18, \"8\": 1, \"7\": 4, \"6\": 1, \"3\": 2}, \"14\": {\"8\": 13, \"4\": 37, \"1\": 58, \"14\": 71, \"10\": 17, \"0\": 42, \"15\": 1, \"7\": 1}, \"8\": {\"8\": 96, \"7\": 17, \"14\": 13, \"4\": 25, \"0\": 18, \"10\": 35, \"15\": 13, \"9\": 10, \"1\": 2, \"2\": 4, \"6\": 7}, \"7\": {\"7\": 147, \"8\": 14, \"15\": 4, \"2\": 28, \"3\": 20, \"5\": 2, \"4\": 19, \"1\": 3, \"0\": 2, \"14\": 1}, \"6\": {\"6\": 179, \"8\": 4, \"0\": 3, \"15\": 8, \"10\": 23, \"13\": 3, \"9\": 20}, \"11\": {\"11\": 230, \"12\": 10}, \"15\": {\"9\": 75, \"15\": 70, \"13\": 21, \"8\": 23, \"5\": 36, \"7\": 1, \"2\": 3, \"14\": 1, \"6\": 5, \"10\": 4, \"3\": 1}, \"1\": {\"4\": 47, \"14\": 64, \"1\": 100, \"0\": 14, \"10\": 7, \"7\": 6, \"8\": 2}}, \"ORACLE.run1_44\": {\"12\": {\"12\": 181, \"1\": 38, \"10\": 21}, \"7\": {\"7\": 149, \"2\": 37, \"9\": 40, \"3\": 4, \"6\": 10}, \"5\": {\"5\": 179, \"15\": 8, \"8\": 9, \"0\": 29, \"14\": 11, \"4\": 4}, \"15\": {\"15\": 192, \"4\": 3, \"0\": 15, \"14\": 14, \"5\": 12, \"8\": 4}, \"8\": {\"8\": 154, \"0\": 75, \"15\": 6, \"5\": 5}, \"2\": {\"2\": 169, \"1\": 12, \"7\": 36, \"10\": 19, \"3\": 1, \"9\": 2, \"12\": 1}, \"13\": {\"6\": 33, \"13\": 144, \"9\": 34, \"7\": 4, \"11\": 25}, \"4\": {\"4\": 160, \"14\": 77, \"15\": 3}, \"0\": {\"8\": 65, \"0\": 133, \"15\": 15, \"5\": 27}, \"6\": {\"9\": 33, \"6\": 155, \"13\": 26, \"7\": 10, \"11\": 16}, \"9\": {\"13\": 24, \"7\": 55, \"9\": 138, \"6\": 22, \"3\": 1}, \"11\": {\"6\": 17, \"11\": 186, \"13\": 36, \"9\": 1}, \"10\": {\"1\": 26, \"10\": 168, \"2\": 22, \"12\": 24}, \"14\": {\"4\": 88, \"14\": 125, \"5\": 9, \"15\": 18}, \"1\": {\"3\": 34, \"1\": 118, \"2\": 11, \"12\": 59, \"10\": 18}, \"3\": {\"3\": 206, \"1\": 32, \"7\": 2}}, \"W_A_3\": {\"109\": {\"109\": 7, \"2\": 2, \"89\": 1, \"118\": 1, \"67\": 1}, \"127\": {\"127\": 11, \"3\": 1}, \"14\": {\"14\": 5, \"84\": 1, \"115\": 3, \"93\": 2, \"79\": 1}, \"7\": {\"7\": 10, \"86\": 1, \"41\": 1}, \"129\": {\"129\": 10, \"49\": 1, \"77\": 1}, \"57\": {\"57\": 12}, \"84\": {\"84\": 9, \"31\": 1, \"93\": 1, \"49\": 1}, \"114\": {\"129\": 2, \"114\": 9, \"77\": 1}, \"44\": {\"100\": 2, \"14\": 1, \"44\": 7, \"32\": 1, \"29\": 1}, \"21\": {\"21\": 12}, \"46\": {\"46\": 7, \"35\": 1, \"85\": 2, \"72\": 2}, \"100\": {\"100\": 6, \"107\": 2, \"32\": 1, \"50\": 1, \"65\": 2}, \"63\": {\"63\": 7, \"24\": 1, \"6\": 1, \"11\": 1, \"89\": 1, \"54\": 1}, \"24\": {\"24\": 6, \"21\": 1, \"94\": 2, \"43\": 1, \"36\": 2}, \"107\": {\"107\": 8, \"38\": 2, \"122\": 2}, \"35\": {\"14\": 1, \"127\": 1, \"35\": 7, \"13\": 1}, \"81\": {\"81\": 12}, \"64\": {\"64\": 9, \"62\": 1, \"102\": 1, \"82\": 1}, \"59\": {\"36\": 1, \"59\": 9, \"73\": 2}, \"33\": {\"33\": 11, \"116\": 1}, \"34\": {\"34\": 7, \"73\": 2, \"60\": 2, \"98\": 1}, \"36\": {\"36\": 12}, \"79\": {\"79\": 9, \"80\": 1, \"23\": 2}, \"80\": {\"80\": 9, \"10\": 1, \"23\": 2}, \"77\": {\"77\": 12}, \"22\": {\"57\": 3, \"87\": 1, \"22\": 4, \"82\": 2, \"104\": 2}, \"124\": {\"59\": 1, \"124\": 7, \"12\": 1, \"73\": 1, \"0\": 2}, \"2\": {\"64\": 1, \"81\": 1, \"43\": 4, \"2\": 4, \"45\": 2}, \"87\": {\"80\": 3, \"11\": 1, \"90\": 2, \"79\": 1, \"23\": 1, \"87\": 4}, \"105\": {\"105\": 11, \"99\": 1}, \"95\": {\"128\": 1, \"95\": 9, \"48\": 1, \"65\": 1}, \"43\": {\"43\": 9, \"14\": 2, \"64\": 1}, \"56\": {\"56\": 10}, \"18\": {\"18\": 11, \"81\": 1}, \"85\": {\"85\": 11, \"46\": 1}, \"113\": {\"113\": 11, \"23\": 1}, \"97\": {\"59\": 1, \"97\": 6, \"52\": 2, \"30\": 1, \"101\": 1, \"8\": 1}, \"86\": {\"86\": 11, \"103\": 1}, \"128\": {\"56\": 2, \"128\": 2, \"60\": 1, \"115\": 1, \"71\": 1, \"107\": 1, \"104\": 1, \"100\": 1, \"80\": 1, \"35\": 1}, \"123\": {\"123\": 12}, \"8\": {\"8\": 7, \"125\": 1, \"83\": 2, \"94\": 1, \"59\": 1}, \"110\": {\"110\": 8, \"10\": 2, \"114\": 1, \"122\": 1}, \"126\": {\"18\": 2, \"126\": 7, \"117\": 1, \"39\": 2}, \"101\": {\"101\": 7, \"72\": 2, \"58\": 1, \"73\": 1, \"98\": 1}, \"115\": {\"115\": 9, \"31\": 1, \"92\": 1, \"14\": 1}, \"49\": {\"49\": 8, \"108\": 1, \"15\": 2, \"46\": 1}, \"45\": {\"45\": 10, \"93\": 2}, \"78\": {\"78\": 5, \"121\": 2, \"40\": 1, \"100\": 2, \"9\": 2}, \"65\": {\"65\": 5, \"4\": 2, \"105\": 2, \"81\": 1}, \"54\": {\"54\": 11, \"94\": 1}, \"31\": {\"31\": 9, \"80\": 1}, \"42\": {\"42\": 2, \"97\": 1, \"106\": 2, \"15\": 1, \"49\": 1, \"30\": 1, \"112\": 1, \"88\": 1, \"78\": 1, \"94\": 1}, \"68\": {\"68\": 12}, \"15\": {\"15\": 11, \"73\": 1}, \"69\": {\"69\": 12}, \"17\": {\"69\": 1, \"41\": 1, \"76\": 1, \"9\": 1, \"1\": 1, \"11\": 1, \"60\": 2, \"116\": 1, \"56\": 1}, \"73\": {\"73\": 11, \"59\": 1}, \"121\": {\"121\": 11, \"69\": 1}, \"102\": {\"102\": 10, \"48\": 1, \"64\": 1}, \"48\": {\"121\": 2, \"48\": 4, \"56\": 1, \"77\": 1, \"37\": 1, \"65\": 1, \"67\": 1, \"41\": 1}, \"23\": {\"121\": 2, \"55\": 2, \"128\": 2, \"63\": 1, \"91\": 1, \"117\": 2, \"71\": 1, \"25\": 1}, \"108\": {\"108\": 5, \"73\": 3, \"49\": 1, \"52\": 2, \"124\": 1}, \"53\": {\"53\": 9, \"23\": 1, \"74\": 2}, \"94\": {\"94\": 9, \"25\": 1}, \"41\": {\"41\": 10, \"5\": 1, \"103\": 1}, \"58\": {\"58\": 9, \"101\": 1, \"72\": 1, \"34\": 1}, \"29\": {\"29\": 12}, \"116\": {\"82\": 2, \"102\": 2, \"116\": 6, \"48\": 1, \"76\": 1}, \"60\": {\"60\": 8, \"16\": 1, \"29\": 2, \"122\": 1}, \"104\": {\"29\": 1, \"40\": 3, \"28\": 2, \"104\": 5, \"84\": 1}, \"106\": {\"15\": 1, \"106\": 11}, \"66\": {\"66\": 12}, \"47\": {\"47\": 9, \"10\": 3}, \"40\": {\"40\": 11, \"65\": 1}, \"82\": {\"82\": 9, \"119\": 1, \"48\": 1, \"63\": 1}, \"13\": {\"104\": 2, \"13\": 3, \"62\": 3, \"26\": 1, \"100\": 1, \"113\": 2}, \"19\": {\"72\": 1, \"19\": 3, \"128\": 2, \"107\": 1, \"29\": 2, \"49\": 1, \"12\": 1, \"8\": 1}, \"72\": {\"72\": 12}, \"9\": {\"9\": 11, \"1\": 1}, \"67\": {\"67\": 12}, \"11\": {\"11\": 11, \"31\": 1}, \"125\": {\"125\": 12}, \"76\": {\"76\": 8}, \"83\": {\"83\": 12}, \"74\": {\"74\": 8, \"94\": 1, \"33\": 1, \"116\": 2}, \"20\": {\"20\": 12}, \"119\": {\"102\": 1, \"119\": 10, \"64\": 1}, \"1\": {\"1\": 12}, \"16\": {\"16\": 12}, \"25\": {\"54\": 2, \"25\": 7, \"120\": 1, \"8\": 2}, \"90\": {\"90\": 8}, \"39\": {\"39\": 10, \"26\": 1, \"89\": 1}, \"28\": {\"28\": 9, \"104\": 1, \"100\": 1, \"29\": 1}, \"55\": {\"55\": 12}, \"117\": {\"117\": 11, \"39\": 1}, \"112\": {\"112\": 8, \"124\": 2, \"8\": 2}, \"38\": {\"38\": 5, \"64\": 1, \"62\": 1, \"33\": 1, \"115\": 2, \"92\": 2}, \"37\": {\"56\": 2, \"37\": 8, \"3\": 2}, \"120\": {\"120\": 11, \"16\": 1}, \"122\": {\"122\": 3, \"10\": 1, \"60\": 3, \"53\": 1, \"29\": 2, \"80\": 1, \"90\": 1}, \"50\": {\"31\": 1, \"50\": 9, \"32\": 1, \"44\": 1}, \"10\": {\"127\": 3, \"95\": 2, \"10\": 2, \"88\": 2, \"103\": 1, \"3\": 2}, \"5\": {\"5\": 12}, \"51\": {\"51\": 9, \"68\": 1, \"35\": 2}, \"3\": {\"10\": 1, \"42\": 1, \"3\": 7, \"35\": 2, \"37\": 1}, \"98\": {\"3\": 2, \"98\": 7, \"0\": 1, \"101\": 1, \"34\": 1}, \"70\": {\"42\": 1, \"15\": 2, \"70\": 6, \"6\": 1, \"87\": 1, \"112\": 1}, \"96\": {\"23\": 1, \"96\": 9, \"45\": 1, \"102\": 1}, \"12\": {\"12\": 11, \"0\": 1}, \"99\": {\"99\": 10, \"86\": 2}, \"52\": {\"52\": 12}, \"71\": {\"71\": 6, \"119\": 1, \"81\": 1, \"35\": 2, \"3\": 2}, \"89\": {\"89\": 12}, \"0\": {\"52\": 1, \"12\": 1, \"0\": 7, \"46\": 1, \"111\": 2}, \"4\": {\"4\": 6, \"99\": 2, \"88\": 1, \"79\": 1, \"2\": 1, \"7\": 1}, \"93\": {\"93\": 9, \"45\": 3}, \"6\": {\"6\": 9, \"73\": 1}, \"75\": {\"75\": 11, \"6\": 1}, \"62\": {\"62\": 10, \"33\": 1, \"82\": 1}, \"103\": {\"103\": 8, \"91\": 1, \"3\": 1, \"41\": 1, \"5\": 1}, \"30\": {\"30\": 10, \"112\": 1, \"97\": 1}, \"91\": {\"91\": 4, \"98\": 2, \"0\": 1, \"128\": 1, \"34\": 1, \"68\": 1, \"77\": 2}, \"27\": {\"27\": 12}, \"26\": {\"26\": 11, \"89\": 1}, \"61\": {\"61\": 12}, \"118\": {\"118\": 8, \"69\": 1, \"109\": 2, \"121\": 1}, \"92\": {\"92\": 12}, \"111\": {\"111\": 11, \"98\": 1}, \"32\": {\"32\": 5, \"84\": 1, \"28\": 2, \"65\": 2, \"87\": 1, \"60\": 1}, \"88\": {\"85\": 1, \"88\": 4, \"10\": 1, \"93\": 2, \"78\": 2}}, \"W_A_4\": {\"28\": {\"28\": 8, \"43\": 1, \"60\": 3}, \"4\": {\"4\": 10, \"55\": 2}, \"72\": {\"72\": 9, \"66\": 1, \"122\": 1, \"44\": 1}, \"111\": {\"12\": 2, \"111\": 8, \"58\": 2}, \"108\": {\"108\": 4, \"11\": 1, \"97\": 1, \"93\": 3, \"83\": 1, \"5\": 1, \"73\": 1}, \"43\": {\"43\": 5, \"89\": 2, \"82\": 1, \"107\": 1, \"79\": 1}, \"96\": {\"96\": 11, \"45\": 1}, \"89\": {\"89\": 12}, \"31\": {\"31\": 11, \"67\": 1}, \"45\": {\"96\": 1, \"45\": 11}, \"2\": {\"45\": 1, \"2\": 6, \"96\": 1, \"13\": 1, \"121\": 2, \"63\": 1}, \"114\": {\"114\": 10, \"1\": 1, \"85\": 1}, \"11\": {\"11\": 8, \"28\": 2, \"32\": 1, \"14\": 1}, \"12\": {\"111\": 4, \"12\": 6, \"98\": 2}, \"14\": {\"72\": 1, \"43\": 1, \"28\": 1, \"66\": 1, \"110\": 1, \"14\": 6, \"104\": 1}, \"90\": {\"72\": 2, \"90\": 5, \"99\": 1, \"66\": 1, \"120\": 2, \"44\": 1}, \"10\": {\"10\": 8, \"24\": 1, \"36\": 1, \"9\": 1, \"6\": 1}, \"63\": {\"64\": 1, \"63\": 10, \"44\": 1}, \"85\": {\"85\": 8, \"10\": 1, \"29\": 1, \"127\": 2}, \"64\": {\"64\": 9, \"96\": 1, \"118\": 2}, \"82\": {\"82\": 10, \"16\": 1, \"63\": 1}, \"58\": {\"98\": 2, \"58\": 6, \"75\": 1, \"111\": 3}, \"3\": {\"91\": 2, \"3\": 6, \"1\": 1, \"114\": 2, \"129\": 1}, \"54\": {\"54\": 12}, \"121\": {\"121\": 8, \"63\": 1, \"2\": 2, \"113\": 1}, \"42\": {\"58\": 1, \"42\": 7, \"75\": 1, \"8\": 1, \"47\": 1, \"46\": 1}, \"98\": {\"98\": 7, \"68\": 2, \"12\": 1, \"75\": 1, \"41\": 1}, \"123\": {\"123\": 8, \"63\": 1, \"16\": 3}, \"91\": {\"12\": 2, \"54\": 1, \"91\": 2, \"124\": 2, \"103\": 1, \"101\": 1, \"128\": 2, \"1\": 1}, \"66\": {\"72\": 2, \"66\": 9, \"44\": 1}, \"102\": {\"102\": 12}, \"122\": {\"66\": 1, \"72\": 2, \"110\": 1, \"118\": 1, \"44\": 2, \"28\": 1, \"116\": 1, \"99\": 1, \"39\": 1, \"84\": 1}, \"1\": {\"1\": 11, \"19\": 1}, \"15\": {\"15\": 8, \"54\": 2, \"6\": 1, \"97\": 1}, \"97\": {\"15\": 2, \"9\": 1, \"97\": 8, \"115\": 1}, \"75\": {\"75\": 12}, \"95\": {\"95\": 8, \"4\": 1, \"127\": 1, \"85\": 1, \"86\": 1}, \"57\": {\"102\": 1, \"122\": 2, \"57\": 7, \"110\": 2}, \"68\": {\"68\": 12}, \"125\": {\"125\": 12}, \"62\": {\"62\": 10}, \"27\": {\"27\": 7, \"9\": 1, \"21\": 1, \"47\": 2, \"20\": 1}, \"120\": {\"120\": 9, \"103\": 1, \"23\": 2}, \"26\": {\"26\": 12}, \"55\": {\"55\": 12}, \"71\": {\"91\": 2, \"55\": 1, \"71\": 4, \"88\": 1, \"115\": 1, \"124\": 1, \"101\": 2}, \"22\": {\"22\": 9, \"38\": 1, \"90\": 2}, \"99\": {\"99\": 4, \"22\": 1, \"66\": 1, \"60\": 1, \"21\": 1, \"122\": 1, \"33\": 1, \"44\": 2}, \"84\": {\"84\": 10, \"103\": 1, \"92\": 1}, \"37\": {\"37\": 12}, \"83\": {\"83\": 11, \"79\": 1}, \"46\": {\"46\": 11, \"34\": 1}, \"35\": {\"35\": 12}, \"13\": {\"13\": 12}, \"53\": {\"53\": 10, \"88\": 1, \"21\": 1}, \"127\": {\"53\": 4, \"127\": 8}, \"69\": {\"43\": 1, \"69\": 10, \"78\": 1}, \"48\": {\"48\": 5, \"113\": 2, \"121\": 2, \"84\": 2, \"10\": 1}, \"16\": {\"16\": 10, \"92\": 1, \"63\": 1}, \"0\": {\"53\": 1, \"127\": 1, \"42\": 1, \"119\": 1, \"85\": 1, \"46\": 1, \"55\": 2, \"120\": 1, \"0\": 1, \"73\": 2}, \"8\": {\"8\": 7, \"43\": 1, \"112\": 1, \"53\": 1, \"106\": 1, \"100\": 1}, \"9\": {\"9\": 8, \"70\": 2, \"106\": 2}, \"115\": {\"57\": 2, \"44\": 1, \"119\": 2, \"110\": 2, \"115\": 3, \"105\": 1, \"38\": 1}, \"70\": {\"53\": 1, \"70\": 1, \"45\": 1, \"9\": 1, \"51\": 2, \"112\": 1, \"42\": 1, \"71\": 1, \"68\": 1, \"94\": 1, \"58\": 1}, \"119\": {\"119\": 12}, \"59\": {\"59\": 7, \"52\": 2, \"27\": 2, \"6\": 1}, \"52\": {\"51\": 2, \"52\": 10}, \"60\": {\"119\": 3, \"120\": 1, \"124\": 1, \"14\": 1, \"90\": 1, \"60\": 3, \"79\": 2}, \"44\": {\"44\": 9, \"104\": 1, \"72\": 1, \"38\": 1}, \"51\": {\"68\": 3, \"70\": 1, \"30\": 3, \"101\": 1, \"25\": 1, \"12\": 1, \"53\": 2}, \"6\": {\"6\": 9, \"59\": 1, \"15\": 2}, \"73\": {\"73\": 10, \"5\": 2}, \"78\": {\"74\": 1, \"78\": 2, \"37\": 3, \"87\": 1, \"1\": 2, \"0\": 1, \"119\": 2}, \"92\": {\"92\": 9, \"123\": 2, \"13\": 1}, \"20\": {\"20\": 7, \"45\": 1, \"5\": 1, \"19\": 2, \"79\": 1}, \"17\": {\"17\": 12}, \"74\": {\"74\": 10, \"37\": 1, \"107\": 1}, \"19\": {\"70\": 1, \"74\": 1, \"90\": 3, \"14\": 1, \"103\": 1, \"50\": 2, \"60\": 2, \"75\": 1}, \"50\": {\"50\": 12}, \"34\": {\"73\": 2, \"34\": 3, \"6\": 1, \"52\": 2, \"15\": 1, \"1\": 1, \"59\": 2}, \"104\": {\"104\": 5, \"50\": 1, \"66\": 1, \"44\": 1}, \"33\": {\"33\": 8, \"66\": 2, \"60\": 1, \"51\": 1}, \"5\": {\"5\": 7, \"129\": 2, \"83\": 2, \"73\": 1}, \"7\": {\"7\": 5, \"128\": 1, \"105\": 1, \"56\": 3, \"120\": 1, \"23\": 1}, \"29\": {\"29\": 12}, \"25\": {\"25\": 12}, \"124\": {\"124\": 12}, \"117\": {\"117\": 10, \"88\": 1, \"61\": 1}, \"88\": {\"88\": 6, \"83\": 1, \"113\": 1, \"71\": 2, \"46\": 2}, \"61\": {\"35\": 1, \"88\": 1, \"61\": 8, \"117\": 2}, \"86\": {\"86\": 10, \"95\": 1, \"55\": 1}, \"116\": {\"57\": 2, \"28\": 1, \"116\": 2, \"22\": 1, \"62\": 2, \"40\": 1, \"64\": 2, \"69\": 1}, \"24\": {\"24\": 9, \"6\": 1, \"9\": 1, \"36\": 1}, \"128\": {\"124\": 2, \"128\": 2, \"21\": 1, \"100\": 2, \"5\": 2, \"23\": 1, \"95\": 1, \"40\": 1}, \"101\": {\"101\": 7, \"111\": 2, \"29\": 2, \"127\": 1}, \"65\": {\"65\": 9, \"102\": 1}, \"36\": {\"36\": 12}, \"21\": {\"21\": 12}, \"106\": {\"106\": 12}, \"118\": {\"96\": 1, \"118\": 2, \"88\": 2, \"64\": 1, \"113\": 2, \"84\": 2, \"109\": 1, \"102\": 1}, \"113\": {\"113\": 7, \"126\": 1, \"16\": 1, \"121\": 2, \"109\": 1}, \"40\": {\"40\": 12}, \"93\": {\"93\": 5, \"110\": 1, \"11\": 1, \"32\": 1}, \"94\": {\"94\": 6, \"25\": 2, \"36\": 1, \"6\": 2, \"10\": 1}, \"103\": {\"71\": 2, \"85\": 2, \"103\": 3, \"5\": 1, \"101\": 1, \"87\": 1, \"52\": 1, \"77\": 1}, \"110\": {\"110\": 5, \"14\": 1, \"87\": 1, \"32\": 1, \"115\": 1, \"90\": 1, \"60\": 2}, \"56\": {\"56\": 12}, \"39\": {\"39\": 8, \"78\": 1, \"18\": 1, \"26\": 2}, \"109\": {\"39\": 1, \"109\": 10, \"121\": 1}, \"67\": {\"67\": 5, \"121\": 2, \"76\": 1, \"62\": 1, \"84\": 1, \"71\": 1, \"38\": 1}, \"129\": {\"129\": 2, \"111\": 1, \"103\": 3, \"20\": 1, \"49\": 1, \"0\": 1, \"23\": 1, \"11\": 2}, \"30\": {\"30\": 8, \"9\": 1, \"54\": 2, \"15\": 1}, \"126\": {\"126\": 10, \"5\": 1, \"108\": 1}, \"87\": {\"21\": 1, \"87\": 4, \"115\": 1, \"93\": 1, \"32\": 1, \"50\": 1, \"103\": 1, \"37\": 1, \"99\": 1}, \"112\": {\"112\": 12}, \"100\": {\"79\": 1, \"87\": 1, \"100\": 6, \"3\": 2, \"46\": 2}, \"79\": {\"79\": 8, \"105\": 1, \"5\": 1}, \"81\": {\"81\": 9, \"121\": 2, \"61\": 1}, \"76\": {\"118\": 1, \"76\": 7, \"116\": 1, \"44\": 1}, \"47\": {\"47\": 9, \"51\": 1, \"124\": 2}, \"77\": {\"77\": 12}, \"23\": {\"103\": 1, \"46\": 1, \"49\": 2, \"108\": 1, \"41\": 2, \"9\": 1, \"68\": 1, \"120\": 1, \"0\": 1, \"21\": 1}, \"18\": {\"18\": 12}, \"49\": {\"120\": 2, \"47\": 2, \"20\": 1, \"77\": 1, \"49\": 2, \"37\": 1, \"53\": 3}, \"41\": {\"101\": 1, \"41\": 9, \"30\": 1, \"12\": 1}, \"32\": {\"76\": 1, \"110\": 1, \"80\": 2, \"38\": 1, \"32\": 1, \"72\": 2, \"45\": 1, \"66\": 1, \"14\": 2}, \"107\": {\"107\": 9, \"87\": 1}, \"80\": {\"80\": 9, \"126\": 1, \"14\": 2}, \"105\": {\"105\": 7, \"87\": 2, \"49\": 1}, \"38\": {\"38\": 9, \"76\": 1}}, \"C_A_3\": {\"43\": {\"43\": 10, \"49\": 2}, \"9\": {\"19\": 1, \"9\": 11}, \"6\": {\"6\": 10}, \"3\": {\"3\": 12}, \"16\": {\"16\": 12}, \"51\": {\"51\": 12}, \"31\": {\"31\": 12}, \"46\": {\"46\": 10}, \"19\": {\"44\": 3, \"19\": 5}, \"8\": {\"8\": 12}, \"18\": {\"18\": 10, \"41\": 2}, \"37\": {\"37\": 12}, \"24\": {\"24\": 11, \"49\": 1}, \"10\": {\"10\": 12}, \"44\": {\"44\": 10}, \"14\": {\"31\": 1, \"9\": 1, \"14\": 3, \"22\": 1, \"29\": 3, \"1\": 1, \"57\": 2}, \"38\": {\"38\": 6, \"25\": 4}, \"53\": {\"53\": 11, \"20\": 1}, \"20\": {\"53\": 1, \"20\": 10, \"12\": 1}, \"32\": {\"32\": 12}, \"36\": {\"36\": 10}, \"33\": {\"33\": 12}, \"56\": {\"56\": 12}, \"23\": {\"23\": 12}, \"54\": {\"54\": 10}, \"34\": {\"34\": 12}, \"13\": {\"13\": 12}, \"2\": {\"2\": 12}, \"55\": {\"55\": 10}, \"21\": {\"21\": 10}, \"49\": {\"49\": 10}, \"25\": {\"38\": 1, \"50\": 3, \"25\": 5, \"2\": 1, \"12\": 2}, \"5\": {\"5\": 11, \"39\": 1}, \"50\": {\"50\": 8}, \"40\": {\"40\": 9, \"4\": 3}, \"57\": {\"57\": 8}, \"22\": {\"22\": 10}, \"1\": {\"1\": 9, \"34\": 1}, \"17\": {\"17\": 12}, \"41\": {\"18\": 1, \"41\": 10, \"30\": 1}, \"4\": {\"4\": 10}, \"7\": {\"7\": 10}, \"26\": {\"26\": 10}, \"29\": {\"29\": 12}, \"52\": {\"52\": 12}, \"15\": {\"15\": 12}, \"35\": {\"57\": 1, \"35\": 11}, \"42\": {\"42\": 12}, \"30\": {\"30\": 10}, \"27\": {\"27\": 8}, \"45\": {\"45\": 10}, \"0\": {\"0\": 12}, \"28\": {\"28\": 12}, \"47\": {\"47\": 12}, \"11\": {\"11\": 10}, \"39\": {\"39\": 8, \"47\": 2}, \"48\": {\"48\": 11, \"55\": 1}, \"12\": {\"12\": 8}}, \"C_A_4\": {\"35\": {\"14\": 2, \"35\": 8}, \"25\": {\"25\": 9, \"50\": 1, \"30\": 1, \"21\": 1}, \"24\": {\"24\": 10}, \"48\": {\"48\": 10, \"28\": 1, \"54\": 1}, \"51\": {\"51\": 12}, \"13\": {\"13\": 12}, \"14\": {\"35\": 3, \"14\": 1, \"38\": 2, \"56\": 2}, \"32\": {\"32\": 12}, \"30\": {\"30\": 10, \"8\": 2}, \"34\": {\"34\": 10}, \"9\": {\"9\": 12}, \"1\": {\"1\": 12}, \"0\": {\"38\": 3, \"0\": 9}, \"38\": {\"38\": 12}, \"22\": {\"22\": 8}, \"40\": {\"40\": 11, \"4\": 1}, \"39\": {\"39\": 9, \"5\": 1, \"23\": 2}, \"46\": {\"32\": 1, \"46\": 11}, \"36\": {\"36\": 12}, \"50\": {\"50\": 8, \"25\": 2, \"36\": 2}, \"49\": {\"49\": 12}, \"17\": {\"17\": 12}, \"45\": {\"45\": 12}, \"6\": {\"6\": 11, \"51\": 1}, \"8\": {\"8\": 11, \"21\": 1}, \"5\": {\"5\": 8, \"39\": 2}, \"33\": {\"33\": 11, \"4\": 1}, \"31\": {\"31\": 12}, \"37\": {\"37\": 10}, \"47\": {\"47\": 8}, \"15\": {\"15\": 10}, \"7\": {\"7\": 10, \"49\": 2}, \"20\": {\"20\": 12}, \"4\": {\"4\": 12}, \"54\": {\"34\": 1, \"54\": 9, \"28\": 1, \"26\": 1}, \"44\": {\"44\": 11, \"19\": 1}, \"3\": {\"3\": 11, \"36\": 1}, \"11\": {\"11\": 10}, \"27\": {\"27\": 10}, \"19\": {\"19\": 12}, \"55\": {\"55\": 12}, \"16\": {\"16\": 12}, \"2\": {\"2\": 10}, \"52\": {\"52\": 10}, \"42\": {\"42\": 9, \"55\": 1}, \"26\": {\"26\": 12}, \"10\": {\"10\": 12}, \"53\": {\"53\": 10}, \"28\": {\"28\": 11, \"48\": 1}, \"21\": {\"21\": 9, \"25\": 1}, \"57\": {\"57\": 9, \"14\": 1}, \"23\": {\"23\": 8}, \"43\": {\"43\": 10}, \"12\": {\"12\": 12}, \"41\": {\"41\": 10, \"52\": 1, \"5\": 1}, \"56\": {\"56\": 8}, \"18\": {\"18\": 10}, \"29\": {\"29\": 8}}, \"W_A_1\": {\"108\": {\"70\": 2, \"108\": 5, \"125\": 1, \"44\": 1, \"15\": 1}, \"40\": {\"40\": 11, \"105\": 1}, \"68\": {\"68\": 10, \"75\": 1, \"112\": 1}, \"23\": {\"110\": 1, \"64\": 1, \"1\": 1, \"84\": 2, \"86\": 1, \"129\": 1, \"55\": 1, \"7\": 1, \"22\": 2, \"37\": 1}, \"26\": {\"4\": 1, \"26\": 9, \"123\": 2}, \"64\": {\"64\": 9, \"129\": 1, \"44\": 1, \"20\": 1}, \"22\": {\"22\": 10, \"57\": 1, \"105\": 1}, \"3\": {\"64\": 3, \"22\": 1, \"3\": 8}, \"4\": {\"110\": 2, \"4\": 9, \"113\": 1}, \"70\": {\"4\": 1, \"89\": 2, \"112\": 2, \"72\": 2, \"78\": 1, \"70\": 2, \"11\": 1, \"29\": 1}, \"57\": {\"57\": 12}, \"79\": {\"79\": 10, \"3\": 1, \"96\": 1}, \"9\": {\"9\": 10, \"75\": 1, \"101\": 1}, \"89\": {\"89\": 10, \"53\": 1, \"49\": 1}, \"110\": {\"110\": 9, \"37\": 1, \"5\": 2}, \"102\": {\"102\": 12}, \"31\": {\"58\": 1, \"31\": 8, \"29\": 2, \"98\": 1}, \"58\": {\"68\": 1, \"58\": 7, \"59\": 1, \"72\": 2, \"106\": 1}, \"47\": {\"47\": 11, \"9\": 1}, \"24\": {\"24\": 11, \"36\": 1}, \"19\": {\"96\": 1, \"25\": 1, \"3\": 1, \"73\": 1, \"42\": 1, \"87\": 3, \"105\": 1, \"129\": 1, \"128\": 2}, \"11\": {\"11\": 12}, \"52\": {\"52\": 12}, \"17\": {\"17\": 12}, \"25\": {\"25\": 6, \"42\": 4, \"46\": 2}, \"69\": {\"69\": 10, \"67\": 1, \"63\": 1}, \"96\": {\"96\": 10, \"79\": 2}, \"109\": {\"96\": 1, \"109\": 6, \"46\": 2, \"59\": 1, \"83\": 1, \"60\": 1}, \"115\": {\"115\": 12}, \"83\": {\"83\": 5, \"42\": 2, \"75\": 1, \"7\": 2, \"122\": 2}, \"84\": {\"1\": 3, \"84\": 9}, \"119\": {\"119\": 10}, \"122\": {\"122\": 6, \"7\": 1, \"3\": 1, \"105\": 1, \"99\": 1}, \"99\": {\"99\": 10, \"122\": 1, \"81\": 1}, \"1\": {\"1\": 10, \"19\": 1, \"34\": 1}, \"74\": {\"74\": 10, \"127\": 1, \"0\": 1}, \"85\": {\"85\": 9, \"56\": 2, \"92\": 1}, \"127\": {\"127\": 10, \"112\": 1, \"111\": 1}, \"111\": {\"111\": 10, \"127\": 2}, \"53\": {\"53\": 10, \"49\": 1, \"75\": 1}, \"88\": {\"88\": 10, \"94\": 1, \"36\": 1}, \"65\": {\"65\": 4, \"63\": 1, \"60\": 1, \"102\": 2, \"116\": 1, \"99\": 1}, \"7\": {\"7\": 11, \"90\": 1}, \"16\": {\"16\": 9, \"10\": 1, \"18\": 2}, \"128\": {\"68\": 1, \"28\": 1, \"80\": 1, \"127\": 1, \"128\": 2, \"25\": 1, \"42\": 1, \"100\": 2, \"57\": 2}, \"34\": {\"68\": 2, \"129\": 1, \"98\": 2, \"3\": 2, \"122\": 1, \"80\": 1, \"111\": 1, \"127\": 1, \"84\": 1}, \"129\": {\"28\": 1, \"114\": 3, \"33\": 2, \"81\": 2, \"54\": 2, \"115\": 1, \"38\": 1}, \"43\": {\"43\": 10, \"14\": 1, \"38\": 1}, \"92\": {\"92\": 11, \"85\": 1}, \"28\": {\"28\": 12}, \"27\": {\"27\": 12}, \"114\": {\"114\": 10, \"35\": 2}, \"73\": {\"73\": 12}, \"0\": {\"17\": 1, \"0\": 8, \"107\": 2, \"77\": 1}, \"104\": {\"104\": 12}, \"118\": {\"118\": 11, \"16\": 1}, \"41\": {\"41\": 12}, \"49\": {\"49\": 8, \"89\": 1, \"72\": 2, \"53\": 1}, \"14\": {\"129\": 1, \"46\": 1, \"20\": 1, \"14\": 8, \"122\": 1}, \"46\": {\"76\": 1, \"46\": 2, \"50\": 1, \"97\": 1, \"125\": 2, \"25\": 1, \"22\": 2, \"83\": 1, \"99\": 1}, \"33\": {\"33\": 9, \"82\": 2, \"116\": 1}, \"76\": {\"76\": 11, \"65\": 1}, \"125\": {\"125\": 12}, \"86\": {\"86\": 10}, \"66\": {\"66\": 9, \"80\": 2, \"108\": 1}, \"5\": {\"5\": 11, \"77\": 1}, \"117\": {\"117\": 12}, \"75\": {\"75\": 8, \"106\": 2, \"59\": 1, \"70\": 1}, \"61\": {\"61\": 12}, \"50\": {\"50\": 8, \"81\": 2, \"12\": 1, \"65\": 1}, \"67\": {\"67\": 7, \"69\": 1, \"62\": 2}, \"18\": {\"18\": 10, \"119\": 1, \"39\": 1}, \"98\": {\"98\": 9, \"106\": 1, \"75\": 1, \"52\": 1}, \"55\": {\"55\": 10}, \"32\": {\"32\": 5, \"58\": 1, \"56\": 1, \"72\": 1, \"92\": 2, \"17\": 2}, \"120\": {\"120\": 12}, \"97\": {\"97\": 9, \"88\": 2, \"125\": 1}, \"126\": {\"126\": 12}, \"45\": {\"46\": 1, \"50\": 1, \"120\": 1, \"45\": 5, \"38\": 1, \"11\": 1, \"22\": 2}, \"78\": {\"3\": 2, \"43\": 2, \"7\": 1, \"21\": 1, \"22\": 1, \"78\": 3}, \"100\": {\"100\": 12}, \"107\": {\"107\": 12}, \"93\": {\"107\": 4, \"93\": 3, \"96\": 2, \"85\": 1, \"55\": 2}, \"77\": {\"77\": 12}, \"63\": {\"63\": 10, \"69\": 2}, \"112\": {\"112\": 10, \"127\": 1, \"68\": 1}, \"113\": {\"113\": 12}, \"103\": {\"15\": 2, \"103\": 6, \"9\": 2}, \"71\": {\"71\": 12}, \"30\": {\"30\": 10, \"15\": 1, \"27\": 1}, \"90\": {\"90\": 12}, \"37\": {\"30\": 1, \"37\": 9, \"77\": 2}, \"60\": {\"69\": 1, \"64\": 1, \"63\": 1, \"49\": 1, \"60\": 5, \"67\": 1, \"23\": 1, \"120\": 1}, \"15\": {\"30\": 1, \"15\": 7, \"6\": 3, \"9\": 1}, \"39\": {\"39\": 6, \"117\": 1, \"63\": 1, \"16\": 3, \"95\": 1}, \"72\": {\"72\": 6, \"49\": 1, \"75\": 1, \"58\": 2, \"53\": 2}, \"54\": {\"54\": 11, \"93\": 1}, \"35\": {\"86\": 2, \"35\": 7, \"84\": 1, \"114\": 2}, \"2\": {\"7\": 1, \"39\": 1, \"2\": 6, \"120\": 4}, \"94\": {\"94\": 8, \"6\": 1, \"75\": 2, \"109\": 1}, \"42\": {\"42\": 5, \"25\": 6, \"45\": 1}, \"81\": {\"81\": 7, \"100\": 4, \"99\": 1}, \"8\": {\"8\": 9, \"54\": 1, \"20\": 1, \"25\": 1}, \"87\": {\"114\": 2, \"1\": 1, \"35\": 1, \"10\": 2, \"40\": 2, \"87\": 2, \"14\": 1, \"129\": 1}, \"6\": {\"15\": 1, \"53\": 3, \"97\": 2, \"6\": 3, \"59\": 2, \"30\": 1}, \"36\": {\"36\": 11, \"88\": 1}, \"91\": {\"91\": 9, \"106\": 1, \"77\": 1, \"112\": 1}, \"56\": {\"56\": 12}, \"80\": {\"80\": 8, \"62\": 2, \"74\": 1, \"70\": 1}, \"124\": {\"124\": 8, \"83\": 1, \"79\": 1}, \"44\": {\"44\": 10, \"124\": 2}, \"13\": {\"13\": 12}, \"10\": {\"56\": 2, \"77\": 2, \"8\": 2, \"21\": 1, \"23\": 1, \"25\": 1, \"10\": 1, \"95\": 1, \"107\": 1}, \"59\": {\"59\": 7, \"71\": 1, \"52\": 1, \"123\": 2, \"51\": 1}, \"95\": {\"95\": 11, \"26\": 1}, \"105\": {\"105\": 8, \"15\": 1, \"40\": 1, \"54\": 2}, \"101\": {\"101\": 10, \"59\": 1, \"12\": 1}, \"20\": {\"20\": 10, \"64\": 1, \"129\": 1}, \"48\": {\"35\": 1, \"84\": 1, \"48\": 9, \"123\": 1}, \"106\": {\"51\": 1, \"106\": 9, \"111\": 2}, \"51\": {\"51\": 12}, \"21\": {\"84\": 2, \"87\": 1, \"8\": 1, \"51\": 1, \"78\": 1, \"70\": 1, \"23\": 1, \"21\": 2, \"54\": 1, \"101\": 1}, \"123\": {\"123\": 11, \"16\": 1}, \"121\": {\"121\": 11, \"26\": 1}, \"38\": {\"38\": 10, \"81\": 1, \"2\": 1}, \"62\": {\"62\": 11, \"50\": 1}, \"29\": {\"29\": 12}, \"82\": {\"33\": 2, \"82\": 9, \"66\": 1}, \"116\": {\"116\": 5, \"102\": 1, \"61\": 1, \"2\": 1, \"62\": 1, \"28\": 1, \"50\": 1, \"78\": 1}, \"12\": {\"51\": 2, \"12\": 3, \"6\": 1, \"111\": 1, \"101\": 1}}, \"C_A_5\": {\"47\": {\"47\": 10}, \"53\": {\"53\": 12}, \"29\": {\"29\": 9, \"44\": 3}, \"52\": {\"52\": 12}, \"55\": {\"55\": 10, \"30\": 2}, \"17\": {\"17\": 12}, \"42\": {\"42\": 12}, \"33\": {\"33\": 10}, \"11\": {\"11\": 12}, \"19\": {\"19\": 8}, \"1\": {\"1\": 11, \"41\": 1}, \"44\": {\"44\": 11, \"29\": 1}, \"49\": {\"49\": 12}, \"4\": {\"4\": 12}, \"6\": {\"6\": 12}, \"39\": {\"39\": 12}, \"13\": {\"13\": 12}, \"5\": {\"5\": 10}, \"16\": {\"16\": 10}, \"25\": {\"25\": 8, \"53\": 1, \"8\": 3}, \"45\": {\"45\": 7, \"55\": 1, \"27\": 1, \"48\": 1, \"17\": 1, \"9\": 1}, \"7\": {\"7\": 10}, \"22\": {\"22\": 12}, \"40\": {\"40\": 12}, \"38\": {\"38\": 12}, \"35\": {\"35\": 7, \"0\": 1}, \"56\": {\"56\": 12}, \"50\": {\"50\": 6, \"20\": 3, \"25\": 1}, \"0\": {\"0\": 11, \"56\": 1}, \"10\": {\"10\": 12}, \"27\": {\"27\": 11, \"32\": 1}, \"20\": {\"20\": 8, \"50\": 2}, \"36\": {\"36\": 8}, \"34\": {\"34\": 10, \"28\": 2}, \"30\": {\"30\": 12}, \"2\": {\"2\": 10}, \"15\": {\"15\": 12}, \"18\": {\"18\": 12}, \"32\": {\"32\": 12}, \"31\": {\"31\": 12}, \"57\": {\"57\": 12}, \"48\": {\"48\": 8}, \"28\": {\"28\": 10}, \"14\": {\"3\": 1, \"14\": 3, \"19\": 1, \"36\": 2, \"1\": 2, \"46\": 3}, \"3\": {\"3\": 12}, \"8\": {\"8\": 12}, \"9\": {\"9\": 12}, \"21\": {\"21\": 10}, \"41\": {\"41\": 11, \"1\": 1}, \"24\": {\"24\": 12}, \"46\": {\"46\": 10}, \"43\": {\"43\": 10}, \"54\": {\"54\": 9, \"41\": 1}, \"23\": {\"23\": 10}, \"37\": {\"37\": 10}, \"12\": {\"12\": 10}, \"26\": {\"26\": 10}, \"51\": {\"51\": 6}}, \"C_A_1\": {\"46\": {\"46\": 11, \"13\": 1}, \"16\": {\"16\": 12}, \"26\": {\"26\": 12}, \"10\": {\"10\": 12}, \"9\": {\"9\": 10}, \"28\": {\"28\": 12}, \"51\": {\"51\": 12}, \"1\": {\"1\": 9, \"57\": 2, \"56\": 1}, \"55\": {\"55\": 11, \"54\": 1}, \"27\": {\"27\": 10}, \"22\": {\"22\": 8, \"10\": 1, \"11\": 3}, \"52\": {\"52\": 12}, \"3\": {\"3\": 12}, \"33\": {\"33\": 8}, \"47\": {\"47\": 12}, \"42\": {\"42\": 12}, \"12\": {\"12\": 4}, \"23\": {\"23\": 12}, \"49\": {\"11\": 1, \"49\": 9}, \"7\": {\"7\": 12}, \"4\": {\"4\": 12}, \"50\": {\"50\": 12}, \"19\": {\"19\": 10, \"56\": 1, \"29\": 1}, \"11\": {\"11\": 11, \"22\": 1}, \"31\": {\"31\": 10}, \"41\": {\"41\": 12}, \"56\": {\"56\": 9, \"1\": 1}, \"0\": {\"0\": 12}, \"57\": {\"57\": 11, \"29\": 1}, \"53\": {\"53\": 12}, \"43\": {\"43\": 12}, \"37\": {\"37\": 12}, \"2\": {\"2\": 7, \"8\": 1}, \"6\": {\"6\": 10, \"2\": 1, \"48\": 1}, \"18\": {\"18\": 12}, \"38\": {\"38\": 12}, \"15\": {\"15\": 12}, \"36\": {\"36\": 12}, \"39\": {\"39\": 8}, \"44\": {\"44\": 10, \"35\": 2}, \"8\": {\"8\": 12}, \"17\": {\"17\": 10}, \"5\": {\"5\": 12}, \"13\": {\"13\": 10}, \"40\": {\"40\": 8, \"4\": 2}, \"29\": {\"29\": 12}, \"48\": {\"48\": 9, \"6\": 3}, \"32\": {\"32\": 12}, \"30\": {\"30\": 12}, \"35\": {\"35\": 8, \"44\": 4}, \"25\": {\"25\": 12}, \"14\": {\"17\": 1, \"53\": 1, \"51\": 2, \"25\": 2, \"18\": 1, \"30\": 1, \"7\": 1, \"13\": 1, \"41\": 2}, \"54\": {\"54\": 9, \"55\": 1}, \"20\": {\"20\": 8}, \"21\": {\"21\": 7, \"22\": 3}, \"45\": {\"45\": 8}, \"24\": {\"21\": 1, \"24\": 7}, \"34\": {\"34\": 8}}, \"W_A_2\": {\"91\": {\"12\": 2, \"111\": 1, \"91\": 5, \"41\": 1, \"29\": 2, \"127\": 1}, \"12\": {\"12\": 7, \"97\": 1, \"67\": 1, \"0\": 1, \"54\": 1, \"59\": 1}, \"101\": {\"106\": 1, \"101\": 9}, \"121\": {\"121\": 7, \"72\": 1, \"81\": 2, \"92\": 1, \"113\": 1}, \"118\": {\"118\": 8, \"61\": 2, \"90\": 2}, \"10\": {\"126\": 1, \"28\": 1, \"105\": 2, \"10\": 3, \"85\": 1, \"110\": 1, \"38\": 3}, \"117\": {\"117\": 12}, \"110\": {\"110\": 7, \"106\": 1, \"29\": 2, \"73\": 2}, \"97\": {\"97\": 5, \"118\": 1, \"98\": 1, \"11\": 1, \"77\": 1, \"111\": 1, \"37\": 1, \"106\": 1}, \"28\": {\"17\": 1, \"28\": 4, \"43\": 1, \"106\": 1, \"50\": 1, \"97\": 1, \"14\": 1, \"60\": 1, \"112\": 1}, \"88\": {\"126\": 1, \"88\": 4, \"109\": 2, \"119\": 2, \"57\": 1, \"118\": 1, \"46\": 1}, \"17\": {\"91\": 1, \"110\": 1, \"54\": 2, \"56\": 2, \"17\": 3, \"7\": 1, \"59\": 2}, \"126\": {\"126\": 6, \"17\": 1, \"67\": 1, \"86\": 1, \"44\": 1, \"32\": 2}, \"33\": {\"33\": 10, \"90\": 1, \"55\": 1}, \"86\": {\"86\": 12}, \"106\": {\"106\": 9, \"15\": 2, \"58\": 1}, \"54\": {\"54\": 10, \"77\": 2}, \"125\": {\"125\": 12}, \"83\": {\"83\": 11, \"61\": 1}, \"98\": {\"98\": 8, \"111\": 2, \"54\": 2}, \"11\": {\"11\": 5, \"106\": 1, \"8\": 2, \"0\": 2, \"117\": 1, \"58\": 1}, \"32\": {\"4\": 1, \"32\": 5, \"19\": 1, \"86\": 1, \"29\": 1, \"78\": 1, \"123\": 2}, \"42\": {\"42\": 7, \"19\": 2, \"129\": 1, \"53\": 2}, \"103\": {\"54\": 3, \"97\": 1, \"35\": 2, \"103\": 5, \"52\": 1}, \"87\": {\"83\": 1, \"32\": 1, \"50\": 1, \"88\": 3, \"87\": 3, \"33\": 1, \"118\": 1, \"90\": 1}, \"61\": {\"118\": 1, \"32\": 1, \"61\": 6, \"121\": 1, \"55\": 1, \"22\": 2}, \"13\": {\"13\": 9, \"99\": 3}, \"4\": {\"4\": 12}, \"15\": {\"106\": 3, \"15\": 7}, \"120\": {\"120\": 12}, \"80\": {\"80\": 12}, \"72\": {\"89\": 1, \"64\": 1, \"72\": 8}, \"64\": {\"64\": 11, \"69\": 1}, \"81\": {\"81\": 10, \"2\": 1, \"26\": 1}, \"102\": {\"102\": 11, \"31\": 1}, \"76\": {\"76\": 9, \"31\": 2, \"118\": 1}, \"49\": {\"52\": 4, \"49\": 4, \"97\": 1, \"21\": 1}, \"129\": {\"129\": 11, \"85\": 1}, \"89\": {\"89\": 10, \"13\": 1, \"69\": 1}, \"52\": {\"52\": 12}, \"35\": {\"35\": 7, \"127\": 1, \"79\": 2, \"34\": 2}, \"53\": {\"53\": 6, \"129\": 1, \"114\": 1, \"29\": 2, \"128\": 1, \"58\": 1}, \"112\": {\"9\": 1, \"125\": 1, \"77\": 1, \"112\": 5, \"124\": 1, \"11\": 1, \"34\": 1, \"103\": 1}, \"105\": {\"105\": 11, \"40\": 1}, \"100\": {\"100\": 12}, \"9\": {\"9\": 10, \"58\": 1, \"51\": 1}, \"82\": {\"82\": 10, \"16\": 2}, \"51\": {\"51\": 6, \"127\": 2, \"77\": 1, \"6\": 1, \"8\": 1, \"41\": 1}, \"21\": {\"21\": 12}, \"92\": {\"69\": 2, \"65\": 2, \"99\": 4, \"92\": 3, \"45\": 1}, \"69\": {\"69\": 10, \"99\": 1, \"13\": 1}, \"77\": {\"77\": 11, \"12\": 1}, \"50\": {\"87\": 1, \"50\": 7, \"62\": 4}, \"36\": {\"36\": 12}, \"16\": {\"16\": 10, \"11\": 1, \"78\": 1}, \"8\": {\"18\": 1, \"8\": 7, \"124\": 2, \"108\": 1, \"109\": 1}, \"127\": {\"127\": 9, \"35\": 1, \"111\": 1, \"79\": 1}, \"46\": {\"46\": 10}, \"84\": {\"50\": 2, \"84\": 8, \"90\": 2}, \"18\": {\"18\": 12}, \"123\": {\"123\": 9, \"42\": 1}, \"56\": {\"56\": 8, \"1\": 1, \"107\": 2, \"15\": 1}, \"26\": {\"26\": 10, \"81\": 2}, \"14\": {\"109\": 1, \"14\": 5, \"29\": 2, \"50\": 1, \"44\": 1, \"43\": 1, \"2\": 1}, \"109\": {\"76\": 1, \"109\": 5, \"99\": 1, \"102\": 1, \"69\": 1, \"96\": 1, \"67\": 2}, \"66\": {\"66\": 11, \"14\": 1}, \"24\": {\"36\": 1, \"24\": 7, \"25\": 1, \"11\": 2, \"94\": 1}, \"71\": {\"109\": 1, \"71\": 4, \"54\": 2, \"77\": 1, \"91\": 2, \"5\": 2}, \"65\": {\"65\": 10, \"25\": 1, \"8\": 1}, \"75\": {\"75\": 9, \"77\": 2, \"21\": 1}, \"111\": {\"111\": 12}, \"30\": {\"75\": 1, \"30\": 3, \"127\": 2, \"6\": 2, \"91\": 1, \"97\": 1, \"111\": 1, \"71\": 1}, \"85\": {\"85\": 12}, \"113\": {\"113\": 9, \"21\": 1}, \"45\": {\"45\": 7, \"93\": 2, \"96\": 1, \"37\": 2}, \"29\": {\"29\": 9, \"59\": 1, \"107\": 1, \"20\": 1}, \"20\": {\"118\": 1, \"65\": 1, \"102\": 1, \"20\": 6, \"16\": 1, \"57\": 2}, \"25\": {\"25\": 8, \"106\": 4}, \"0\": {\"0\": 9, \"9\": 2, \"101\": 1}, \"68\": {\"68\": 12}, \"119\": {\"119\": 12}, \"90\": {\"90\": 10, \"33\": 1, \"87\": 1}, \"38\": {\"38\": 8, \"105\": 2, \"60\": 2}, \"99\": {\"99\": 11, \"69\": 1}, \"1\": {\"1\": 11, \"14\": 1}, \"67\": {\"90\": 1, \"67\": 7, \"51\": 1, \"109\": 1, \"102\": 1, \"75\": 1}, \"63\": {\"63\": 11, \"120\": 1}, \"34\": {\"34\": 5, \"86\": 1, \"19\": 1, \"79\": 2, \"53\": 1, \"44\": 1, \"124\": 1}, \"108\": {\"108\": 6, \"51\": 1, \"6\": 1, \"129\": 1, \"8\": 1, \"11\": 1, \"42\": 1}, \"40\": {\"40\": 10, \"1\": 1, \"56\": 1}, \"47\": {\"78\": 2, \"127\": 1, \"47\": 7, \"129\": 1, \"74\": 1}, \"37\": {\"37\": 11, \"116\": 1}, \"78\": {\"96\": 1, \"47\": 1, \"3\": 1, \"78\": 5, \"66\": 2, \"17\": 1, \"7\": 1}, \"96\": {\"96\": 10, \"82\": 1, \"109\": 1}, \"43\": {\"33\": 1, \"21\": 1, \"43\": 5, \"62\": 1, \"93\": 2, \"14\": 1, \"73\": 1}, \"5\": {\"5\": 9, \"122\": 1}, \"124\": {\"124\": 11, \"8\": 1}, \"44\": {\"44\": 11, \"10\": 1}, \"41\": {\"103\": 2, \"41\": 9, \"121\": 1}, \"116\": {\"43\": 1, \"45\": 1, \"62\": 2, \"116\": 3, \"23\": 1, \"28\": 1, \"37\": 3}, \"19\": {\"43\": 1, \"112\": 1, \"19\": 5, \"42\": 2, \"124\": 1, \"35\": 1, \"85\": 1}, \"115\": {\"91\": 5, \"68\": 3, \"115\": 3, \"79\": 1}, \"95\": {\"95\": 7, \"126\": 1, \"7\": 1, \"115\": 1, \"85\": 1, \"68\": 1}, \"3\": {\"41\": 1, \"91\": 1, \"124\": 1, \"3\": 4, \"59\": 1, \"23\": 1, \"35\": 1}, \"59\": {\"5\": 2, \"59\": 8, \"91\": 2}, \"55\": {\"55\": 8, \"116\": 1, \"90\": 2, \"33\": 1}, \"70\": {\"46\": 1, \"70\": 1, \"1\": 3, \"53\": 1, \"109\": 1, \"43\": 1, \"60\": 1, \"44\": 1, \"33\": 2}, \"6\": {\"6\": 6, \"30\": 1, \"25\": 1, \"11\": 2, \"9\": 2}, \"2\": {\"48\": 1, \"2\": 4, \"16\": 2, \"76\": 1, \"18\": 2, \"120\": 1, \"117\": 1}, \"48\": {\"48\": 11, \"13\": 1}, \"23\": {\"63\": 1, \"19\": 1, \"73\": 1, \"39\": 1, \"121\": 1, \"68\": 1, \"65\": 1, \"129\": 1, \"26\": 2, \"3\": 1, \"44\": 1}, \"7\": {\"122\": 1, \"7\": 11}, \"122\": {\"122\": 4, \"60\": 1, \"128\": 1, \"7\": 1, \"68\": 1, \"73\": 2, \"46\": 1, \"5\": 1}, \"57\": {\"57\": 10, \"42\": 1, \"71\": 1}, \"39\": {\"39\": 6, \"48\": 2, \"53\": 1, \"113\": 1}, \"79\": {\"79\": 5, \"114\": 2, \"115\": 1, \"127\": 1, \"75\": 1, \"34\": 2}, \"27\": {\"27\": 10}, \"74\": {\"74\": 7, \"108\": 1, \"60\": 1, \"104\": 1, \"78\": 1, \"8\": 1}, \"73\": {\"73\": 10, \"35\": 1, \"128\": 1}, \"62\": {\"62\": 9, \"50\": 1, \"80\": 1, \"84\": 1}, \"107\": {\"107\": 12}, \"128\": {\"73\": 2, \"9\": 3, \"14\": 1, \"1\": 1, \"86\": 1, \"115\": 1, \"128\": 1, \"33\": 2}, \"60\": {\"62\": 1, \"60\": 3, \"83\": 2, \"1\": 2, \"84\": 1, \"33\": 1, \"38\": 1, \"32\": 1}, \"114\": {\"114\": 10, \"111\": 1, \"79\": 1}, \"22\": {\"22\": 10, \"84\": 1, \"33\": 1}, \"93\": {\"93\": 12}, \"94\": {\"94\": 9, \"58\": 2, \"88\": 1}, \"31\": {\"31\": 5, \"57\": 1, \"76\": 1, \"64\": 1, \"118\": 2}, \"104\": {\"104\": 9, \"1\": 1, \"74\": 1, \"70\": 1}, \"58\": {\"58\": 10, \"15\": 2}}, \"C_A_2\": {\"14\": {\"9\": 1, \"22\": 2, \"14\": 6, \"19\": 2, \"42\": 1}, \"22\": {\"22\": 12}, \"9\": {\"9\": 12}, \"47\": {\"47\": 12}, \"13\": {\"13\": 12}, \"8\": {\"8\": 12}, \"7\": {\"7\": 12}, \"49\": {\"49\": 12}, \"20\": {\"20\": 12}, \"16\": {\"16\": 12}, \"34\": {\"34\": 12}, \"56\": {\"56\": 11, \"22\": 1}, \"38\": {\"38\": 9, \"24\": 1}, \"4\": {\"4\": 11, \"40\": 1}, \"43\": {\"43\": 10}, \"26\": {\"26\": 10}, \"35\": {\"35\": 11, \"45\": 1}, \"31\": {\"31\": 12}, \"1\": {\"1\": 11, \"55\": 1}, \"39\": {\"23\": 2, \"39\": 10}, \"5\": {\"5\": 10, \"47\": 2}, \"24\": {\"24\": 12}, \"54\": {\"27\": 2, \"54\": 8}, \"23\": {\"23\": 12}, \"51\": {\"51\": 12}, \"27\": {\"27\": 10}, \"15\": {\"15\": 12}, \"0\": {\"0\": 12}, \"19\": {\"19\": 10}, \"18\": {\"18\": 8}, \"30\": {\"30\": 12}, \"55\": {\"55\": 10}, \"57\": {\"57\": 12}, \"2\": {\"2\": 11, \"48\": 1}, \"12\": {\"12\": 7, \"8\": 1}, \"41\": {\"41\": 12}, \"42\": {\"42\": 12}, \"48\": {\"48\": 12}, \"37\": {\"37\": 12}, \"6\": {\"6\": 10}, \"11\": {\"11\": 10}, \"45\": {\"45\": 5, \"35\": 3}, \"21\": {\"21\": 12}, \"46\": {\"46\": 9, \"52\": 1}, \"25\": {\"25\": 9, \"36\": 2, \"8\": 1}, \"36\": {\"36\": 10}, \"53\": {\"53\": 12}, \"28\": {\"28\": 12}, \"40\": {\"40\": 8, \"4\": 2}, \"33\": {\"33\": 10}, \"44\": {\"44\": 9, \"19\": 1}, \"3\": {\"3\": 12}, \"17\": {\"17\": 12}, \"32\": {\"32\": 10}, \"10\": {\"10\": 10}, \"52\": {\"52\": 10}, \"50\": {\"50\": 7, \"25\": 1}, \"29\": {\"29\": 6}}}, \"per_domain_accuracy\": {\"ORACLE.run1_14\": {\"accuracy\": 0.7651041666666667, \"source?\": true}, \"ORACLE.run1_20\": {\"accuracy\": 0.6174479166666667, \"source?\": true}, \"ORACLE.run1_38\": {\"accuracy\": 0.6666666666666666, \"source?\": true}, \"ORACLE.run1_8\": {\"accuracy\": 0.7127604166666667, \"source?\": true}, \"ORACLE.run1_50\": {\"accuracy\": 0.70703125, \"source?\": true}, \"ORACLE.run1_32\": {\"accuracy\": 0.6981770833333333, \"source?\": true}, \"ORACLE.run1_26\": {\"accuracy\": 0.5151041666666667, \"source?\": true}, \"ORACLE.run1_44\": {\"accuracy\": 0.6658854166666667, \"source?\": true}, \"W_A_3\": {\"accuracy\": 0.7291666666666666, \"source?\": false}, \"W_A_4\": {\"accuracy\": 0.666015625, \"source?\": false}, \"C_A_3\": {\"accuracy\": 0.9328125, \"source?\": false}, \"C_A_4\": {\"accuracy\": 0.928125, \"source?\": false}, \"W_A_1\": {\"accuracy\": 0.7311197916666666, \"source?\": false}, \"C_A_5\": {\"accuracy\": 0.940625, \"source?\": false}, \"C_A_1\": {\"accuracy\": 0.928125, \"source?\": false}, \"W_A_2\": {\"accuracy\": 0.6809895833333334, \"source?\": false}, \"C_A_2\": {\"accuracy\": 0.953125, \"source?\": false}}}, \"history\": {\"epoch_indices\": [1, 2, 3, 4, 5, 6, 7, 8], \"train_label_loss\": [2.348877719204341, 1.2261381833015808, 0.9253059925112341, 0.8872846379299604, 0.8651395743890178, 0.8397980504757947, 0.820972087307434, 0.8072591312340505], \"source_val_label_loss\": [1.8364567756652832, 0.9923791885375977, 0.943248450756073, 0.9190628528594971, 0.8798838257789612, 0.8438627123832703, 0.8602114915847778, 0.8164966106414795], \"target_val_label_loss\": [46.2984504699707, 2.8966290950775146, 2.477454423904419, 2.2663726806640625, 2.736004590988159, 3.223437786102295, 2.7640445232391357, 3.429194688796997], \"source_val_acc_label\": [0.4017578125, 0.6318684895833333, 0.6564127604166666, 0.6685221354166667, 0.6783528645833333, 0.6948567708333333, 0.6849934895833333, 0.7034505208333334], \"target_val_acc_label\": [0.4463827054794521, 0.7731164383561644, 0.7620933219178082, 0.7822131849315068, 0.7790025684931506, 0.7629494863013698, 0.7648758561643836, 0.7586686643835616]}, \"dataset_metrics\": {\"source\": {\"train\": {\"n_unique_x\": 179200, \"n_unique_y\": 16, \"n_batch/episode\": 6720}, \"val\": {\"n_unique_x\": 38400, \"n_unique_y\": 16, \"n_batch/episode\": 960}, \"test\": {\"n_unique_x\": 38400, \"n_unique_y\": 16, \"n_batch/episode\": 960}}, \"target\": {\"train\": {\"n_unique_x\": 56700, \"n_unique_y\": 130, \"n_batch/episode\": 2080}, \"val\": {\"n_unique_x\": 12132, \"n_unique_y\": 130, \"n_batch/episode\": 292}, \"test\": {\"n_unique_x\": 12132, \"n_unique_y\": 130, \"n_batch/episode\": 292}}}}'"
      ]
     },
     "execution_count": 29,
     "metadata": {},
     "output_type": "execute_result"
    }
   ],
   "source": [
    "json.dumps(experiment)"
   ]
  }
 ],
 "metadata": {
  "celltoolbar": "Tags",
  "kernelspec": {
   "display_name": "Python 3 (ipykernel)",
   "language": "python",
   "name": "python3"
  },
  "language_info": {
   "codemirror_mode": {
    "name": "ipython",
    "version": 3
   },
   "file_extension": ".py",
   "mimetype": "text/x-python",
   "name": "python",
   "nbconvert_exporter": "python",
   "pygments_lexer": "ipython3",
   "version": "3.8.10"
  },
  "papermill": {
   "default_parameters": {},
   "duration": 1558.512536,
   "end_time": "2022-03-18T08:47:01.036046",
   "environment_variables": {},
   "exception": null,
   "input_path": "/mnt/wd500GB/CSC500/csc500-main/csc500-notebooks/templates/tl_ptn_template.ipynb",
   "output_path": "trial.ipynb",
   "parameters": {
    "parameters": {
     "BEST_MODEL_PATH": "./best_model.pth",
     "NUM_LOGS_PER_EPOCH": 10,
     "criteria_for_best": "target_loss",
     "dataset_seed": 1337,
     "datasets": [
      {
       "domain_prefix": "C_A_",
       "domains": [
        1,
        2,
        3,
        4,
        5
       ],
       "episode_transforms": [],
       "labels": [
        "1-10.",
        "1-11.",
        "1-15.",
        "1-16.",
        "1-17.",
        "1-18.",
        "1-19.",
        "10-4.",
        "10-7.",
        "11-1.",
        "11-14.",
        "11-17.",
        "11-20.",
        "11-7.",
        "13-20.",
        "13-8.",
        "14-10.",
        "14-11.",
        "14-14.",
        "14-7.",
        "15-1.",
        "15-20.",
        "16-1.",
        "16-16.",
        "17-10.",
        "17-11.",
        "17-2.",
        "19-1.",
        "19-16.",
        "19-19.",
        "19-20.",
        "19-3.",
        "2-10.",
        "2-11.",
        "2-17.",
        "2-18.",
        "2-20.",
        "2-3.",
        "2-4.",
        "2-5.",
        "2-6.",
        "2-7.",
        "2-8.",
        "3-13.",
        "3-18.",
        "3-3.",
        "4-1.",
        "4-10.",
        "4-11.",
        "4-19.",
        "5-5.",
        "6-15.",
        "7-10.",
        "7-14.",
        "8-18.",
        "8-20.",
        "8-3.",
        "8-8."
       ],
       "num_examples_per_domain_per_label": 100,
       "pickle_path": "/mnt/wd500GB/CSC500/csc500-main/datasets/cores.stratified_ds.2022A.pkl",
       "source_or_target_dataset": "target",
       "x_transforms": [
        "unit_mag",
        "jitter_256_5",
        "take_200"
       ]
      },
      {
       "domain_prefix": "W_A_",
       "domains": [
        1,
        2,
        3,
        4
       ],
       "episode_transforms": [],
       "labels": [
        "1-10",
        "1-12",
        "1-14",
        "1-16",
        "1-18",
        "1-19",
        "1-8",
        "10-11",
        "10-17",
        "10-4",
        "10-7",
        "11-1",
        "11-10",
        "11-19",
        "11-20",
        "11-4",
        "11-7",
        "12-19",
        "12-20",
        "12-7",
        "13-14",
        "13-18",
        "13-19",
        "13-20",
        "13-3",
        "13-7",
        "14-10",
        "14-11",
        "14-12",
        "14-13",
        "14-14",
        "14-19",
        "14-20",
        "14-7",
        "14-8",
        "14-9",
        "15-1",
        "15-19",
        "15-6",
        "16-1",
        "16-16",
        "16-19",
        "16-20",
        "17-10",
        "17-11",
        "18-1",
        "18-10",
        "18-11",
        "18-12",
        "18-13",
        "18-14",
        "18-15",
        "18-16",
        "18-17",
        "18-19",
        "18-2",
        "18-20",
        "18-4",
        "18-5",
        "18-7",
        "18-8",
        "18-9",
        "19-1",
        "19-10",
        "19-11",
        "19-12",
        "19-13",
        "19-14",
        "19-15",
        "19-19",
        "19-2",
        "19-20",
        "19-3",
        "19-4",
        "19-6",
        "19-7",
        "19-8",
        "19-9",
        "2-1",
        "2-13",
        "2-15",
        "2-3",
        "2-4",
        "2-5",
        "2-6",
        "2-7",
        "2-8",
        "20-1",
        "20-12",
        "20-14",
        "20-15",
        "20-16",
        "20-18",
        "20-19",
        "20-20",
        "20-3",
        "20-4",
        "20-5",
        "20-7",
        "20-8",
        "3-1",
        "3-13",
        "3-18",
        "3-2",
        "3-8",
        "4-1",
        "4-10",
        "4-11",
        "5-1",
        "5-5",
        "6-1",
        "6-15",
        "6-6",
        "7-10",
        "7-11",
        "7-12",
        "7-13",
        "7-14",
        "7-7",
        "7-8",
        "7-9",
        "8-1",
        "8-13",
        "8-14",
        "8-18",
        "8-20",
        "8-3",
        "8-8",
        "9-1",
        "9-7"
       ],
       "num_examples_per_domain_per_label": 100,
       "pickle_path": "/mnt/wd500GB/CSC500/csc500-main/datasets/wisig.node3-19.stratified_ds.2022A.pkl",
       "source_or_target_dataset": "target",
       "x_transforms": [
        "unit_mag",
        "jitter_256_5",
        "take_200"
       ]
      },
      {
       "domain_prefix": "ORACLE.run1_",
       "domains": [
        32,
        38,
        8,
        44,
        14,
        50,
        20,
        26
       ],
       "episode_transforms": [],
       "labels": [
        "3123D52",
        "3123D65",
        "3123D79",
        "3123D80",
        "3123D54",
        "3123D70",
        "3123D7B",
        "3123D89",
        "3123D58",
        "3123D76",
        "3123D7D",
        "3123EFE",
        "3123D64",
        "3123D78",
        "3123D7E",
        "3124E4A"
       ],
       "num_examples_per_domain_per_label": 2000,
       "pickle_path": "/mnt/wd500GB/CSC500/csc500-main/datasets/oracle.Run1_framed_2000Examples_stratified_ds.2022A.pkl",
       "source_or_target_dataset": "source",
       "x_transforms": [
        "unit_mag",
        "jitter_256_5",
        "take_200",
        "resample_20Msps_to_25Msps"
       ]
      }
     ],
     "device": "cuda",
     "experiment_name": "tl_3-jitter5:oracle.run1.framed -> cores+wisig",
     "lr": 0.001,
     "n_epoch": 50,
     "n_query": 2,
     "n_shot": 3,
     "n_way": 16,
     "patience": 3,
     "seed": 1337,
     "test_k_factor": 2,
     "torch_default_dtype": "torch.float32",
     "train_k_factor": 3,
     "val_k_factor": 2,
     "x_net": [
      {
       "class": "nnReshape",
       "kargs": {
        "shape": [
         -1,
         1,
         2,
         256
        ]
       }
      },
      {
       "class": "Conv2d",
       "kargs": {
        "bias": false,
        "in_channels": 1,
        "kernel_size": [
         1,
         7
        ],
        "out_channels": 256,
        "padding": [
         0,
         3
        ]
       }
      },
      {
       "class": "ReLU",
       "kargs": {
        "inplace": true
       }
      },
      {
       "class": "BatchNorm2d",
       "kargs": {
        "num_features": 256
       }
      },
      {
       "class": "Conv2d",
       "kargs": {
        "bias": true,
        "in_channels": 256,
        "kernel_size": [
         2,
         7
        ],
        "out_channels": 80,
        "padding": [
         0,
         3
        ]
       }
      },
      {
       "class": "ReLU",
       "kargs": {
        "inplace": true
       }
      },
      {
       "class": "BatchNorm2d",
       "kargs": {
        "num_features": 80
       }
      },
      {
       "class": "Flatten",
       "kargs": {}
      },
      {
       "class": "Linear",
       "kargs": {
        "in_features": 20480,
        "out_features": 256
       }
      },
      {
       "class": "ReLU",
       "kargs": {
        "inplace": true
       }
      },
      {
       "class": "BatchNorm1d",
       "kargs": {
        "num_features": 256
       }
      },
      {
       "class": "Linear",
       "kargs": {
        "in_features": 256,
        "out_features": 256
       }
      }
     ]
    }
   },
   "start_time": "2022-03-18T08:21:02.523510",
   "version": "2.3.4"
  }
 },
 "nbformat": 4,
 "nbformat_minor": 5
}