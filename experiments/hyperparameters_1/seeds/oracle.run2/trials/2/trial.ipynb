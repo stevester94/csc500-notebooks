{
 "cells": [
  {
   "cell_type": "markdown",
   "id": "9fea5f46",
   "metadata": {
    "papermill": {
     "duration": 0.014448,
     "end_time": "2022-03-04T01:57:34.872167",
     "exception": false,
     "start_time": "2022-03-04T01:57:34.857719",
     "status": "completed"
    },
    "tags": []
   },
   "source": [
    "# PTN Template\n",
    "This notebook serves as a template for single dataset PTN experiments  \n",
    "It can be run on its own by setting STANDALONE to True (do a find for \"STANDALONE\" to see where)  \n",
    "But it is intended to be executed as part of a *papermill.py script. See any of the   \n",
    "experimentes with a papermill script to get started with that workflow.  "
   ]
  },
  {
   "cell_type": "code",
   "execution_count": 1,
   "id": "0902182a",
   "metadata": {
    "execution": {
     "iopub.execute_input": "2022-03-04T01:57:34.905180Z",
     "iopub.status.busy": "2022-03-04T01:57:34.902776Z",
     "iopub.status.idle": "2022-03-04T01:57:35.678610Z",
     "shell.execute_reply": "2022-03-04T01:57:35.678988Z"
    },
    "papermill": {
     "duration": 0.797536,
     "end_time": "2022-03-04T01:57:35.679158",
     "exception": false,
     "start_time": "2022-03-04T01:57:34.881622",
     "status": "completed"
    },
    "tags": []
   },
   "outputs": [],
   "source": [
    "%load_ext autoreload\n",
    "%autoreload 2\n",
    "%matplotlib inline\n",
    "\n",
    "    \n",
    "import os, json, sys, time, random\n",
    "import numpy as np\n",
    "import torch\n",
    "from torch.optim import Adam\n",
    "from  easydict import EasyDict\n",
    "import matplotlib.pyplot as plt\n",
    "\n",
    "from steves_models.steves_ptn import Steves_Prototypical_Network\n",
    "\n",
    "from steves_utils.lazy_iterable_wrapper import Lazy_Iterable_Wrapper\n",
    "from steves_utils.iterable_aggregator import Iterable_Aggregator\n",
    "from steves_utils.ptn_train_eval_test_jig import  PTN_Train_Eval_Test_Jig\n",
    "from steves_utils.torch_sequential_builder import build_sequential\n",
    "from steves_utils.torch_utils import get_dataset_metrics, ptn_confusion_by_domain_over_dataloader\n",
    "from steves_utils.utils_v2 import (per_domain_accuracy_from_confusion, get_datasets_base_path)\n",
    "from steves_utils.PTN.utils import independent_accuracy_assesment\n",
    "\n",
    "from steves_utils.stratified_dataset.episodic_accessor import Episodic_Accessor_Factory\n",
    "\n",
    "from steves_utils.ptn_do_report import (\n",
    "    get_loss_curve,\n",
    "    get_results_table,\n",
    "    get_parameters_table,\n",
    "    get_domain_accuracies,\n",
    ")\n",
    "\n",
    "from steves_utils.transforms import get_chained_transform"
   ]
  },
  {
   "cell_type": "markdown",
   "id": "41c840b4",
   "metadata": {
    "papermill": {
     "duration": 0.012254,
     "end_time": "2022-03-04T01:57:35.707919",
     "exception": false,
     "start_time": "2022-03-04T01:57:35.695665",
     "status": "completed"
    },
    "tags": []
   },
   "source": [
    "# Required Parameters\n",
    "These are allowed parameters, not defaults\n",
    "Each of these values need to be present in the injected parameters (the notebook will raise an exception if they are not present)\n",
    "\n",
    "Papermill uses the cell tag \"parameters\" to inject the real parameters below this cell.\n",
    "Enable tags to see what I mean"
   ]
  },
  {
   "cell_type": "code",
   "execution_count": 2,
   "id": "fd44eb83",
   "metadata": {
    "execution": {
     "iopub.execute_input": "2022-03-04T01:57:35.731915Z",
     "iopub.status.busy": "2022-03-04T01:57:35.731641Z",
     "iopub.status.idle": "2022-03-04T01:57:35.744592Z",
     "shell.execute_reply": "2022-03-04T01:57:35.744176Z"
    },
    "papermill": {
     "duration": 0.027378,
     "end_time": "2022-03-04T01:57:35.744687",
     "exception": false,
     "start_time": "2022-03-04T01:57:35.717309",
     "status": "completed"
    },
    "tags": []
   },
   "outputs": [],
   "source": [
    "required_parameters = {\n",
    "    \"experiment_name\",\n",
    "    \"lr\",\n",
    "    \"device\",\n",
    "    \"seed\",\n",
    "    \"dataset_seed\",\n",
    "    \"labels_source\",\n",
    "    \"labels_target\",\n",
    "    \"domains_source\",\n",
    "    \"domains_target\",\n",
    "    \"num_examples_per_domain_per_label_source\",\n",
    "    \"num_examples_per_domain_per_label_target\",\n",
    "    \"n_shot\",\n",
    "    \"n_way\",\n",
    "    \"n_query\",\n",
    "    \"train_k_factor\",\n",
    "    \"val_k_factor\",\n",
    "    \"test_k_factor\",\n",
    "    \"n_epoch\",\n",
    "    \"patience\",\n",
    "    \"criteria_for_best\",\n",
    "    \"x_transforms_source\",\n",
    "    \"x_transforms_target\",\n",
    "    \"episode_transforms_source\",\n",
    "    \"episode_transforms_target\",\n",
    "    \"pickle_name\",\n",
    "    \"x_net\",\n",
    "    \"NUM_LOGS_PER_EPOCH\",\n",
    "    \"BEST_MODEL_PATH\",\n",
    "    \"torch_default_dtype\"\n",
    "}"
   ]
  },
  {
   "cell_type": "code",
   "execution_count": 3,
   "id": "fa3f0049",
   "metadata": {
    "execution": {
     "iopub.execute_input": "2022-03-04T01:57:35.775106Z",
     "iopub.status.busy": "2022-03-04T01:57:35.774813Z",
     "iopub.status.idle": "2022-03-04T01:57:35.785365Z",
     "shell.execute_reply": "2022-03-04T01:57:35.784953Z"
    },
    "papermill": {
     "duration": 0.026074,
     "end_time": "2022-03-04T01:57:35.785458",
     "exception": false,
     "start_time": "2022-03-04T01:57:35.759384",
     "status": "completed"
    },
    "tags": [
     "parameters"
    ]
   },
   "outputs": [],
   "source": [
    "\n",
    "\n",
    "standalone_parameters = {}\n",
    "standalone_parameters[\"experiment_name\"] = \"STANDALONE PTN\"\n",
    "standalone_parameters[\"lr\"] = 0.0001\n",
    "standalone_parameters[\"device\"] = \"cuda\"\n",
    "\n",
    "standalone_parameters[\"seed\"] = 1337\n",
    "standalone_parameters[\"dataset_seed\"] = 1337\n",
    "\n",
    "\n",
    "standalone_parameters[\"num_examples_per_domain_per_label_source\"]=100\n",
    "standalone_parameters[\"num_examples_per_domain_per_label_target\"]=100\n",
    "\n",
    "standalone_parameters[\"n_shot\"] = 3\n",
    "standalone_parameters[\"n_query\"]  = 2\n",
    "standalone_parameters[\"train_k_factor\"] = 1\n",
    "standalone_parameters[\"val_k_factor\"] = 2\n",
    "standalone_parameters[\"test_k_factor\"] = 2\n",
    "\n",
    "\n",
    "standalone_parameters[\"n_epoch\"] = 100\n",
    "\n",
    "standalone_parameters[\"patience\"] = 10\n",
    "standalone_parameters[\"criteria_for_best\"] = \"target_accuracy\"\n",
    "\n",
    "standalone_parameters[\"x_transforms_source\"] = [\"unit_power\"]\n",
    "standalone_parameters[\"x_transforms_target\"] = [\"unit_power\"]\n",
    "standalone_parameters[\"episode_transforms_source\"] = []\n",
    "standalone_parameters[\"episode_transforms_target\"] = []\n",
    "\n",
    "standalone_parameters[\"torch_default_dtype\"] = \"torch.float32\" \n",
    "\n",
    "\n",
    "\n",
    "standalone_parameters[\"x_net\"] =     [\n",
    "    {\"class\": \"nnReshape\", \"kargs\": {\"shape\":[-1, 1, 2, 256]}},\n",
    "    {\"class\": \"Conv2d\", \"kargs\": { \"in_channels\":1, \"out_channels\":256, \"kernel_size\":(1,7), \"bias\":False, \"padding\":(0,3), },},\n",
    "    {\"class\": \"ReLU\", \"kargs\": {\"inplace\": True}},\n",
    "    {\"class\": \"BatchNorm2d\", \"kargs\": {\"num_features\":256}},\n",
    "\n",
    "    {\"class\": \"Conv2d\", \"kargs\": { \"in_channels\":256, \"out_channels\":80, \"kernel_size\":(2,7), \"bias\":True, \"padding\":(0,3), },},\n",
    "    {\"class\": \"ReLU\", \"kargs\": {\"inplace\": True}},\n",
    "    {\"class\": \"BatchNorm2d\", \"kargs\": {\"num_features\":80}},\n",
    "    {\"class\": \"Flatten\", \"kargs\": {}},\n",
    "\n",
    "    {\"class\": \"Linear\", \"kargs\": {\"in_features\": 80*256, \"out_features\": 256}}, # 80 units per IQ pair\n",
    "    {\"class\": \"ReLU\", \"kargs\": {\"inplace\": True}},\n",
    "    {\"class\": \"BatchNorm1d\", \"kargs\": {\"num_features\":256}},\n",
    "\n",
    "    {\"class\": \"Linear\", \"kargs\": {\"in_features\": 256, \"out_features\": 256}},\n",
    "]\n",
    "\n",
    "# Parameters relevant to results\n",
    "# These parameters will basically never need to change\n",
    "standalone_parameters[\"NUM_LOGS_PER_EPOCH\"] = 10\n",
    "standalone_parameters[\"BEST_MODEL_PATH\"] = \"./best_model.pth\"\n",
    "\n",
    "# uncomment for CORES dataset\n",
    "from steves_utils.CORES.utils import (\n",
    "    ALL_NODES,\n",
    "    ALL_NODES_MINIMUM_1000_EXAMPLES,\n",
    "    ALL_DAYS\n",
    ")\n",
    "\n",
    "\n",
    "standalone_parameters[\"labels_source\"] = ALL_NODES\n",
    "standalone_parameters[\"labels_target\"] = ALL_NODES\n",
    "\n",
    "standalone_parameters[\"domains_source\"] = [1]\n",
    "standalone_parameters[\"domains_target\"] = [2,3,4,5]\n",
    "\n",
    "standalone_parameters[\"pickle_name\"] = \"cores.stratified_ds.2022A.pkl\"\n",
    "\n",
    "\n",
    "# Uncomment these for ORACLE dataset\n",
    "# from steves_utils.ORACLE.utils_v2 import (\n",
    "#     ALL_DISTANCES_FEET,\n",
    "#     ALL_RUNS,\n",
    "#     ALL_SERIAL_NUMBERS,\n",
    "# )\n",
    "# standalone_parameters[\"labels_source\"] = ALL_SERIAL_NUMBERS\n",
    "# standalone_parameters[\"labels_target\"] = ALL_SERIAL_NUMBERS\n",
    "# standalone_parameters[\"domains_source\"] = [8,20, 38,50]\n",
    "# standalone_parameters[\"domains_target\"] = [14, 26, 32, 44, 56]\n",
    "# standalone_parameters[\"pickle_name\"] = \"oracle.frame_indexed.stratified_ds.2022A.pkl\"\n",
    "# standalone_parameters[\"num_examples_per_domain_per_label_source\"]=1000\n",
    "# standalone_parameters[\"num_examples_per_domain_per_label_target\"]=1000\n",
    "\n",
    "# Uncomment these for Metahan dataset\n",
    "# standalone_parameters[\"labels_source\"] = list(range(19))\n",
    "# standalone_parameters[\"labels_target\"] = list(range(19))\n",
    "# standalone_parameters[\"domains_source\"] = [0]\n",
    "# standalone_parameters[\"domains_target\"] = [1]\n",
    "# standalone_parameters[\"pickle_name\"] = \"metehan.stratified_ds.2022A.pkl\"\n",
    "# standalone_parameters[\"n_way\"]  = len(standalone_parameters[\"labels_source\"])\n",
    "# standalone_parameters[\"num_examples_per_domain_per_label_source\"]=200\n",
    "# standalone_parameters[\"num_examples_per_domain_per_label_target\"]=100\n",
    "\n",
    "\n",
    "standalone_parameters[\"n_way\"]  = len(standalone_parameters[\"labels_source\"])"
   ]
  },
  {
   "cell_type": "code",
   "execution_count": 4,
   "id": "157490e4",
   "metadata": {
    "execution": {
     "iopub.execute_input": "2022-03-04T01:57:35.815853Z",
     "iopub.status.busy": "2022-03-04T01:57:35.815566Z",
     "iopub.status.idle": "2022-03-04T01:57:35.825372Z",
     "shell.execute_reply": "2022-03-04T01:57:35.824977Z"
    },
    "papermill": {
     "duration": 0.027462,
     "end_time": "2022-03-04T01:57:35.825469",
     "exception": false,
     "start_time": "2022-03-04T01:57:35.798007",
     "status": "completed"
    },
    "tags": [
     "injected-parameters"
    ]
   },
   "outputs": [],
   "source": [
    "# Parameters\n",
    "parameters = {\n",
    "    \"experiment_name\": \"seeds_oracle.run2\",\n",
    "    \"lr\": 0.001,\n",
    "    \"device\": \"cuda\",\n",
    "    \"seed\": 2020,\n",
    "    \"dataset_seed\": 1337,\n",
    "    \"labels_source\": [\n",
    "        \"3123D52\",\n",
    "        \"3123D65\",\n",
    "        \"3123D79\",\n",
    "        \"3123D80\",\n",
    "        \"3123D54\",\n",
    "        \"3123D70\",\n",
    "        \"3123D7B\",\n",
    "        \"3123D89\",\n",
    "        \"3123D58\",\n",
    "        \"3123D76\",\n",
    "        \"3123D7D\",\n",
    "        \"3123EFE\",\n",
    "        \"3123D64\",\n",
    "        \"3123D78\",\n",
    "        \"3123D7E\",\n",
    "        \"3124E4A\",\n",
    "    ],\n",
    "    \"labels_target\": [\n",
    "        \"3123D52\",\n",
    "        \"3123D65\",\n",
    "        \"3123D79\",\n",
    "        \"3123D80\",\n",
    "        \"3123D54\",\n",
    "        \"3123D70\",\n",
    "        \"3123D7B\",\n",
    "        \"3123D89\",\n",
    "        \"3123D58\",\n",
    "        \"3123D76\",\n",
    "        \"3123D7D\",\n",
    "        \"3123EFE\",\n",
    "        \"3123D64\",\n",
    "        \"3123D78\",\n",
    "        \"3123D7E\",\n",
    "        \"3124E4A\",\n",
    "    ],\n",
    "    \"x_transforms_source\": [],\n",
    "    \"x_transforms_target\": [],\n",
    "    \"episode_transforms_source\": [],\n",
    "    \"episode_transforms_target\": [],\n",
    "    \"num_examples_per_domain_per_label_source\": 1000,\n",
    "    \"num_examples_per_domain_per_label_target\": 1000,\n",
    "    \"n_shot\": 3,\n",
    "    \"n_way\": 16,\n",
    "    \"n_query\": 2,\n",
    "    \"train_k_factor\": 1,\n",
    "    \"val_k_factor\": 2,\n",
    "    \"test_k_factor\": 2,\n",
    "    \"torch_default_dtype\": \"torch.float32\",\n",
    "    \"n_epoch\": 50,\n",
    "    \"patience\": 3,\n",
    "    \"criteria_for_best\": \"target_loss\",\n",
    "    \"x_net\": [\n",
    "        {\"class\": \"nnReshape\", \"kargs\": {\"shape\": [-1, 1, 2, 256]}},\n",
    "        {\n",
    "            \"class\": \"Conv2d\",\n",
    "            \"kargs\": {\n",
    "                \"in_channels\": 1,\n",
    "                \"out_channels\": 256,\n",
    "                \"kernel_size\": [1, 7],\n",
    "                \"bias\": False,\n",
    "                \"padding\": [0, 3],\n",
    "            },\n",
    "        },\n",
    "        {\"class\": \"ReLU\", \"kargs\": {\"inplace\": True}},\n",
    "        {\"class\": \"BatchNorm2d\", \"kargs\": {\"num_features\": 256}},\n",
    "        {\n",
    "            \"class\": \"Conv2d\",\n",
    "            \"kargs\": {\n",
    "                \"in_channels\": 256,\n",
    "                \"out_channels\": 80,\n",
    "                \"kernel_size\": [2, 7],\n",
    "                \"bias\": True,\n",
    "                \"padding\": [0, 3],\n",
    "            },\n",
    "        },\n",
    "        {\"class\": \"ReLU\", \"kargs\": {\"inplace\": True}},\n",
    "        {\"class\": \"BatchNorm2d\", \"kargs\": {\"num_features\": 80}},\n",
    "        {\"class\": \"Flatten\", \"kargs\": {}},\n",
    "        {\"class\": \"Linear\", \"kargs\": {\"in_features\": 20480, \"out_features\": 256}},\n",
    "        {\"class\": \"ReLU\", \"kargs\": {\"inplace\": True}},\n",
    "        {\"class\": \"BatchNorm1d\", \"kargs\": {\"num_features\": 256}},\n",
    "        {\"class\": \"Linear\", \"kargs\": {\"in_features\": 256, \"out_features\": 256}},\n",
    "    ],\n",
    "    \"NUM_LOGS_PER_EPOCH\": 10,\n",
    "    \"BEST_MODEL_PATH\": \"./best_model.pth\",\n",
    "    \"pickle_name\": \"oracle.Run2_10kExamples_stratified_ds.2022A.pkl\",\n",
    "    \"domains_source\": [8, 32, 50],\n",
    "    \"domains_target\": [14, 20, 26, 38, 44],\n",
    "}\n"
   ]
  },
  {
   "cell_type": "code",
   "execution_count": 5,
   "id": "8fa1cc33",
   "metadata": {
    "execution": {
     "iopub.execute_input": "2022-03-04T01:57:35.854881Z",
     "iopub.status.busy": "2022-03-04T01:57:35.854603Z",
     "iopub.status.idle": "2022-03-04T01:57:35.866680Z",
     "shell.execute_reply": "2022-03-04T01:57:35.866370Z"
    },
    "papermill": {
     "duration": 0.026757,
     "end_time": "2022-03-04T01:57:35.866771",
     "exception": false,
     "start_time": "2022-03-04T01:57:35.840014",
     "status": "completed"
    },
    "tags": []
   },
   "outputs": [],
   "source": [
    "# Set this to True if you want to run this template directly\n",
    "STANDALONE = False\n",
    "if STANDALONE:\n",
    "    print(\"parameters not injected, running with standalone_parameters\")\n",
    "    parameters = standalone_parameters\n",
    "\n",
    "if not 'parameters' in locals() and not 'parameters' in globals():\n",
    "    raise Exception(\"Parameter injection failed\")\n",
    "\n",
    "#Use an easy dict for all the parameters\n",
    "p = EasyDict(parameters)\n",
    "\n",
    "supplied_keys = set(p.keys())\n",
    "\n",
    "if  supplied_keys != required_parameters:\n",
    "    print(\"Parameters are incorrect\")\n",
    "    if len(supplied_keys - required_parameters)>0: print(\"Shouldn't have:\", str(supplied_keys - required_parameters))\n",
    "    if len(required_parameters - supplied_keys)>0: print(\"Need to have:\", str(required_parameters - supplied_keys))\n",
    "    raise RuntimeError(\"Parameters are incorrect\")\n",
    "\n"
   ]
  },
  {
   "cell_type": "code",
   "execution_count": 6,
   "id": "3a028d58",
   "metadata": {
    "execution": {
     "iopub.execute_input": "2022-03-04T01:57:35.894002Z",
     "iopub.status.busy": "2022-03-04T01:57:35.893590Z",
     "iopub.status.idle": "2022-03-04T01:57:35.902941Z",
     "shell.execute_reply": "2022-03-04T01:57:35.903148Z"
    },
    "papermill": {
     "duration": 0.020973,
     "end_time": "2022-03-04T01:57:35.903224",
     "exception": false,
     "start_time": "2022-03-04T01:57:35.882251",
     "status": "completed"
    },
    "tags": []
   },
   "outputs": [],
   "source": [
    "###################################\n",
    "# Set the RNGs and make it all deterministic\n",
    "###################################\n",
    "np.random.seed(p.seed)\n",
    "random.seed(p.seed)\n",
    "torch.manual_seed(p.seed)\n",
    "\n",
    "torch.use_deterministic_algorithms(True) "
   ]
  },
  {
   "cell_type": "code",
   "execution_count": 7,
   "id": "b691acf6",
   "metadata": {
    "execution": {
     "iopub.execute_input": "2022-03-04T01:57:35.925214Z",
     "iopub.status.busy": "2022-03-04T01:57:35.924811Z",
     "iopub.status.idle": "2022-03-04T01:57:35.934190Z",
     "shell.execute_reply": "2022-03-04T01:57:35.933955Z"
    },
    "papermill": {
     "duration": 0.021081,
     "end_time": "2022-03-04T01:57:35.934248",
     "exception": false,
     "start_time": "2022-03-04T01:57:35.913167",
     "status": "completed"
    },
    "tags": []
   },
   "outputs": [],
   "source": [
    "###########################################\n",
    "# The stratified datasets honor this\n",
    "###########################################\n",
    "torch.set_default_dtype(eval(p.torch_default_dtype))"
   ]
  },
  {
   "cell_type": "code",
   "execution_count": 8,
   "id": "b5fba671",
   "metadata": {
    "execution": {
     "iopub.execute_input": "2022-03-04T01:57:35.956304Z",
     "iopub.status.busy": "2022-03-04T01:57:35.955900Z",
     "iopub.status.idle": "2022-03-04T01:57:35.991291Z",
     "shell.execute_reply": "2022-03-04T01:57:35.991031Z"
    },
    "papermill": {
     "duration": 0.04718,
     "end_time": "2022-03-04T01:57:35.991357",
     "exception": false,
     "start_time": "2022-03-04T01:57:35.944177",
     "status": "completed"
    },
    "tags": []
   },
   "outputs": [],
   "source": [
    "###################################\n",
    "# Build the network(s)\n",
    "# Note: It's critical to do this AFTER setting the RNG\n",
    "# (This is due to the randomized initial weights)\n",
    "###################################\n",
    "x_net = build_sequential(p.x_net)"
   ]
  },
  {
   "cell_type": "code",
   "execution_count": 9,
   "id": "5d7e61cc",
   "metadata": {
    "execution": {
     "iopub.execute_input": "2022-03-04T01:57:36.014956Z",
     "iopub.status.busy": "2022-03-04T01:57:36.014550Z",
     "iopub.status.idle": "2022-03-04T01:57:36.024889Z",
     "shell.execute_reply": "2022-03-04T01:57:36.025096Z"
    },
    "papermill": {
     "duration": 0.022458,
     "end_time": "2022-03-04T01:57:36.025173",
     "exception": false,
     "start_time": "2022-03-04T01:57:36.002715",
     "status": "completed"
    },
    "tags": []
   },
   "outputs": [],
   "source": [
    "start_time_secs = time.time()"
   ]
  },
  {
   "cell_type": "code",
   "execution_count": 10,
   "id": "fd5442bc",
   "metadata": {
    "execution": {
     "iopub.execute_input": "2022-03-04T01:57:36.051223Z",
     "iopub.status.busy": "2022-03-04T01:57:36.050795Z",
     "iopub.status.idle": "2022-03-04T01:57:39.120564Z",
     "shell.execute_reply": "2022-03-04T01:57:39.120037Z"
    },
    "papermill": {
     "duration": 3.085442,
     "end_time": "2022-03-04T01:57:39.120673",
     "exception": false,
     "start_time": "2022-03-04T01:57:36.035231",
     "status": "completed"
    },
    "tags": []
   },
   "outputs": [],
   "source": [
    "###################################\n",
    "# Build the dataset\n",
    "###################################\n",
    "\n",
    "if p.x_transforms_source == []: x_transform_source = None\n",
    "else: x_transform_source = get_chained_transform(p.x_transforms_source) \n",
    "\n",
    "if p.x_transforms_target == []: x_transform_target = None\n",
    "else: x_transform_target = get_chained_transform(p.x_transforms_target)\n",
    "\n",
    "if p.episode_transforms_source == []: episode_transform_source = None\n",
    "else: raise Exception(\"episode_transform_source not implemented\")\n",
    "\n",
    "if p.episode_transforms_target == []: episode_transform_target = None\n",
    "else: raise Exception(\"episode_transform_target not implemented\")\n",
    "\n",
    "\n",
    "eaf_source = Episodic_Accessor_Factory(\n",
    "    labels=p.labels_source,\n",
    "    domains=p.domains_source,\n",
    "    num_examples_per_domain_per_label=p.num_examples_per_domain_per_label_source,\n",
    "    iterator_seed=p.seed,\n",
    "    dataset_seed=p.dataset_seed,\n",
    "    n_shot=p.n_shot,\n",
    "    n_way=p.n_way,\n",
    "    n_query=p.n_query,\n",
    "    train_val_test_k_factors=(p.train_k_factor,p.val_k_factor,p.test_k_factor),\n",
    "    pickle_path=os.path.join(get_datasets_base_path(), p.pickle_name),\n",
    "    x_transform_func=x_transform_source,\n",
    "    example_transform_func=episode_transform_source,\n",
    "    \n",
    ")\n",
    "train_original_source, val_original_source, test_original_source = eaf_source.get_train(), eaf_source.get_val(), eaf_source.get_test()\n",
    "\n",
    "\n",
    "eaf_target = Episodic_Accessor_Factory(\n",
    "    labels=p.labels_target,\n",
    "    domains=p.domains_target,\n",
    "    num_examples_per_domain_per_label=p.num_examples_per_domain_per_label_target,\n",
    "    iterator_seed=p.seed,\n",
    "    dataset_seed=p.dataset_seed,\n",
    "    n_shot=p.n_shot,\n",
    "    n_way=p.n_way,\n",
    "    n_query=p.n_query,\n",
    "    train_val_test_k_factors=(p.train_k_factor,p.val_k_factor,p.test_k_factor),\n",
    "    pickle_path=os.path.join(get_datasets_base_path(), p.pickle_name),\n",
    "    x_transform_func=x_transform_target,\n",
    "    example_transform_func=episode_transform_target,\n",
    ")\n",
    "train_original_target, val_original_target, test_original_target = eaf_target.get_train(), eaf_target.get_val(), eaf_target.get_test()\n",
    "\n",
    "\n",
    "transform_lambda = lambda ex: ex[1] # Original is (<domain>, <episode>) so we strip down to episode only\n",
    "\n",
    "train_processed_source = Lazy_Iterable_Wrapper(train_original_source, transform_lambda)\n",
    "val_processed_source   = Lazy_Iterable_Wrapper(val_original_source, transform_lambda)\n",
    "test_processed_source  = Lazy_Iterable_Wrapper(test_original_source, transform_lambda)\n",
    "\n",
    "train_processed_target = Lazy_Iterable_Wrapper(train_original_target, transform_lambda)\n",
    "val_processed_target   = Lazy_Iterable_Wrapper(val_original_target, transform_lambda)\n",
    "test_processed_target  = Lazy_Iterable_Wrapper(test_original_target, transform_lambda)\n",
    "\n",
    "datasets = EasyDict({\n",
    "    \"source\": {\n",
    "        \"original\": {\"train\":train_original_source, \"val\":val_original_source, \"test\":test_original_source},\n",
    "        \"processed\": {\"train\":train_processed_source, \"val\":val_processed_source, \"test\":test_processed_source}\n",
    "    },\n",
    "    \"target\": {\n",
    "        \"original\": {\"train\":train_original_target, \"val\":val_original_target, \"test\":test_original_target},\n",
    "        \"processed\": {\"train\":train_processed_target, \"val\":val_processed_target, \"test\":test_processed_target}\n",
    "    },\n",
    "})"
   ]
  },
  {
   "cell_type": "code",
   "execution_count": 11,
   "id": "296189d9",
   "metadata": {
    "execution": {
     "iopub.execute_input": "2022-03-04T01:57:39.153660Z",
     "iopub.status.busy": "2022-03-04T01:57:39.153239Z",
     "iopub.status.idle": "2022-03-04T01:57:41.719188Z",
     "shell.execute_reply": "2022-03-04T01:57:41.718544Z"
    },
    "papermill": {
     "duration": 2.583664,
     "end_time": "2022-03-04T01:57:41.719319",
     "exception": false,
     "start_time": "2022-03-04T01:57:39.135655",
     "status": "completed"
    },
    "tags": []
   },
   "outputs": [
    {
     "name": "stdout",
     "output_type": "stream",
     "text": [
      "Visually inspect these to see if they line up with expected values given the transforms\n",
      "x_transforms_source []\n",
      "x_transforms_target []\n",
      "Average magnitude, source: 0.0019635798\n",
      "Average power, source: 4.7170693e-06\n"
     ]
    },
    {
     "name": "stdout",
     "output_type": "stream",
     "text": [
      "Average magnitude, target: 0.0021661068\n",
      "Average power, target: 5.898677e-06\n"
     ]
    }
   ],
   "source": [
    "# Some quick unit tests on the data\n",
    "from steves_utils.transforms import get_average_power, get_average_magnitude\n",
    "\n",
    "q_x, q_y, s_x, s_y, truth = next(iter(train_processed_source))\n",
    "\n",
    "assert q_x.dtype == eval(p.torch_default_dtype)\n",
    "assert s_x.dtype == eval(p.torch_default_dtype)\n",
    "\n",
    "print(\"Visually inspect these to see if they line up with expected values given the transforms\")\n",
    "print('x_transforms_source', p.x_transforms_source)\n",
    "print('x_transforms_target', p.x_transforms_target)\n",
    "print(\"Average magnitude, source:\", get_average_magnitude(q_x[0].numpy()))\n",
    "print(\"Average power, source:\", get_average_power(q_x[0].numpy()))\n",
    "\n",
    "q_x, q_y, s_x, s_y, truth = next(iter(train_processed_target))\n",
    "print(\"Average magnitude, target:\", get_average_magnitude(q_x[0].numpy()))\n",
    "print(\"Average power, target:\", get_average_power(q_x[0].numpy()))\n"
   ]
  },
  {
   "cell_type": "code",
   "execution_count": 12,
   "id": "bbdacba1",
   "metadata": {
    "execution": {
     "iopub.execute_input": "2022-03-04T01:57:41.747953Z",
     "iopub.status.busy": "2022-03-04T01:57:41.747690Z",
     "iopub.status.idle": "2022-03-04T01:57:41.807457Z",
     "shell.execute_reply": "2022-03-04T01:57:41.807856Z"
    },
    "papermill": {
     "duration": 0.073845,
     "end_time": "2022-03-04T01:57:41.807974",
     "exception": false,
     "start_time": "2022-03-04T01:57:41.734129",
     "status": "completed"
    },
    "tags": []
   },
   "outputs": [
    {
     "name": "stdout",
     "output_type": "stream",
     "text": [
      "(2, 256)\n"
     ]
    }
   ],
   "source": [
    "###################################\n",
    "# Build the model\n",
    "###################################\n",
    "model = Steves_Prototypical_Network(x_net, device=p.device, x_shape=(2,256))\n",
    "optimizer = Adam(params=model.parameters(), lr=p.lr)"
   ]
  },
  {
   "cell_type": "code",
   "execution_count": 13,
   "id": "22b39ac5",
   "metadata": {
    "execution": {
     "iopub.execute_input": "2022-03-04T01:57:41.836157Z",
     "iopub.status.busy": "2022-03-04T01:57:41.835899Z",
     "iopub.status.idle": "2022-03-04T02:07:19.701559Z",
     "shell.execute_reply": "2022-03-04T02:07:19.701324Z"
    },
    "papermill": {
     "duration": 577.879353,
     "end_time": "2022-03-04T02:07:19.701618",
     "exception": false,
     "start_time": "2022-03-04T01:57:41.822265",
     "status": "completed"
    },
    "tags": []
   },
   "outputs": [
    {
     "name": "stdout",
     "output_type": "stream",
     "text": [
      "epoch: 1, [batch: 1 / 420], examples_per_second: 9.4551, train_label_loss: 2.4441, \n"
     ]
    },
    {
     "name": "stdout",
     "output_type": "stream",
     "text": [
      "epoch: 1, [batch: 42 / 420], examples_per_second: 799.1902, train_label_loss: 1.3098, \n"
     ]
    },
    {
     "name": "stdout",
     "output_type": "stream",
     "text": [
      "epoch: 1, [batch: 84 / 420], examples_per_second: 842.2954, train_label_loss: 1.1491, \n"
     ]
    },
    {
     "name": "stdout",
     "output_type": "stream",
     "text": [
      "epoch: 1, [batch: 126 / 420], examples_per_second: 891.1798, train_label_loss: 1.2244, \n"
     ]
    },
    {
     "name": "stdout",
     "output_type": "stream",
     "text": [
      "epoch: 1, [batch: 168 / 420], examples_per_second: 986.5875, train_label_loss: 1.1813, \n"
     ]
    },
    {
     "name": "stdout",
     "output_type": "stream",
     "text": [
      "epoch: 1, [batch: 210 / 420], examples_per_second: 1032.6600, train_label_loss: 1.2730, \n"
     ]
    },
    {
     "name": "stdout",
     "output_type": "stream",
     "text": [
      "epoch: 1, [batch: 252 / 420], examples_per_second: 1058.3451, train_label_loss: 1.0638, \n"
     ]
    },
    {
     "name": "stdout",
     "output_type": "stream",
     "text": [
      "epoch: 1, [batch: 294 / 420], examples_per_second: 1363.7831, train_label_loss: 1.2793, \n"
     ]
    },
    {
     "name": "stdout",
     "output_type": "stream",
     "text": [
      "epoch: 1, [batch: 336 / 420], examples_per_second: 1665.1948, train_label_loss: 1.3116, \n"
     ]
    },
    {
     "name": "stdout",
     "output_type": "stream",
     "text": [
      "epoch: 1, [batch: 378 / 420], examples_per_second: 2179.9141, train_label_loss: 1.0682, \n"
     ]
    },
    {
     "name": "stdout",
     "output_type": "stream",
     "text": [
      "=============================================================\n",
      "epoch: 1, source_val_acc_label: 0.4601, target_val_acc_label: 0.3951, source_val_label_loss: 1.6406, target_val_label_loss: 1.7468, \n",
      "=============================================================\n"
     ]
    },
    {
     "name": "stdout",
     "output_type": "stream",
     "text": [
      "New best\n"
     ]
    },
    {
     "name": "stdout",
     "output_type": "stream",
     "text": [
      "epoch: 2, [batch: 1 / 420], examples_per_second: 5.1938, train_label_loss: 1.8542, \n"
     ]
    },
    {
     "name": "stdout",
     "output_type": "stream",
     "text": [
      "epoch: 2, [batch: 42 / 420], examples_per_second: 779.6928, train_label_loss: 1.3119, \n"
     ]
    },
    {
     "name": "stdout",
     "output_type": "stream",
     "text": [
      "epoch: 2, [batch: 84 / 420], examples_per_second: 823.8977, train_label_loss: 1.4474, \n"
     ]
    },
    {
     "name": "stdout",
     "output_type": "stream",
     "text": [
      "epoch: 2, [batch: 126 / 420], examples_per_second: 908.3189, train_label_loss: 1.2693, \n"
     ]
    },
    {
     "name": "stdout",
     "output_type": "stream",
     "text": [
      "epoch: 2, [batch: 168 / 420], examples_per_second: 958.5018, train_label_loss: 1.6839, \n"
     ]
    },
    {
     "name": "stdout",
     "output_type": "stream",
     "text": [
      "epoch: 2, [batch: 210 / 420], examples_per_second: 1034.6039, train_label_loss: 1.1634, \n"
     ]
    },
    {
     "name": "stdout",
     "output_type": "stream",
     "text": [
      "epoch: 2, [batch: 252 / 420], examples_per_second: 1077.2500, train_label_loss: 1.1201, \n"
     ]
    },
    {
     "name": "stdout",
     "output_type": "stream",
     "text": [
      "epoch: 2, [batch: 294 / 420], examples_per_second: 1287.8561, train_label_loss: 1.4645, \n"
     ]
    },
    {
     "name": "stdout",
     "output_type": "stream",
     "text": [
      "epoch: 2, [batch: 336 / 420], examples_per_second: 1617.0380, train_label_loss: 1.2383, \n"
     ]
    },
    {
     "name": "stdout",
     "output_type": "stream",
     "text": [
      "epoch: 2, [batch: 378 / 420], examples_per_second: 2259.7342, train_label_loss: 1.2966, \n"
     ]
    },
    {
     "name": "stdout",
     "output_type": "stream",
     "text": [
      "=============================================================\n",
      "epoch: 2, source_val_acc_label: 0.4832, target_val_acc_label: 0.3967, source_val_label_loss: 1.2595, target_val_label_loss: 1.8647, \n",
      "=============================================================\n"
     ]
    },
    {
     "name": "stdout",
     "output_type": "stream",
     "text": [
      "epoch: 3, [batch: 1 / 420], examples_per_second: 5.1848, train_label_loss: 1.2599, \n"
     ]
    },
    {
     "name": "stdout",
     "output_type": "stream",
     "text": [
      "epoch: 3, [batch: 42 / 420], examples_per_second: 784.5604, train_label_loss: 1.4060, \n"
     ]
    },
    {
     "name": "stdout",
     "output_type": "stream",
     "text": [
      "epoch: 3, [batch: 84 / 420], examples_per_second: 836.5626, train_label_loss: 1.1781, \n"
     ]
    },
    {
     "name": "stdout",
     "output_type": "stream",
     "text": [
      "epoch: 3, [batch: 126 / 420], examples_per_second: 936.5497, train_label_loss: 1.0726, \n"
     ]
    },
    {
     "name": "stdout",
     "output_type": "stream",
     "text": [
      "epoch: 3, [batch: 168 / 420], examples_per_second: 966.1671, train_label_loss: 1.2773, \n"
     ]
    },
    {
     "name": "stdout",
     "output_type": "stream",
     "text": [
      "epoch: 3, [batch: 210 / 420], examples_per_second: 1023.3665, train_label_loss: 1.1783, \n"
     ]
    },
    {
     "name": "stdout",
     "output_type": "stream",
     "text": [
      "epoch: 3, [batch: 252 / 420], examples_per_second: 1128.7164, train_label_loss: 1.3469, \n"
     ]
    },
    {
     "name": "stdout",
     "output_type": "stream",
     "text": [
      "epoch: 3, [batch: 294 / 420], examples_per_second: 1221.8743, train_label_loss: 1.1728, \n"
     ]
    },
    {
     "name": "stdout",
     "output_type": "stream",
     "text": [
      "epoch: 3, [batch: 336 / 420], examples_per_second: 1563.8263, train_label_loss: 1.1217, \n"
     ]
    },
    {
     "name": "stdout",
     "output_type": "stream",
     "text": [
      "epoch: 3, [batch: 378 / 420], examples_per_second: 1993.3879, train_label_loss: 1.4264, \n"
     ]
    },
    {
     "name": "stdout",
     "output_type": "stream",
     "text": [
      "=============================================================\n",
      "epoch: 3, source_val_acc_label: 0.4911, target_val_acc_label: 0.4110, source_val_label_loss: 1.2618, target_val_label_loss: 1.6499, \n",
      "=============================================================\n"
     ]
    },
    {
     "name": "stdout",
     "output_type": "stream",
     "text": [
      "New best\n"
     ]
    },
    {
     "name": "stdout",
     "output_type": "stream",
     "text": [
      "epoch: 4, [batch: 1 / 420], examples_per_second: 5.1076, train_label_loss: 1.1316, \n"
     ]
    },
    {
     "name": "stdout",
     "output_type": "stream",
     "text": [
      "epoch: 4, [batch: 42 / 420], examples_per_second: 788.6674, train_label_loss: 1.2396, \n"
     ]
    },
    {
     "name": "stdout",
     "output_type": "stream",
     "text": [
      "epoch: 4, [batch: 84 / 420], examples_per_second: 822.3152, train_label_loss: 1.4495, \n"
     ]
    },
    {
     "name": "stdout",
     "output_type": "stream",
     "text": [
      "epoch: 4, [batch: 126 / 420], examples_per_second: 876.1029, train_label_loss: 1.1858, \n"
     ]
    },
    {
     "name": "stdout",
     "output_type": "stream",
     "text": [
      "epoch: 4, [batch: 168 / 420], examples_per_second: 987.8672, train_label_loss: 1.0466, \n"
     ]
    },
    {
     "name": "stdout",
     "output_type": "stream",
     "text": [
      "epoch: 4, [batch: 210 / 420], examples_per_second: 1231.2942, train_label_loss: 0.8656, \n"
     ]
    },
    {
     "name": "stdout",
     "output_type": "stream",
     "text": [
      "epoch: 4, [batch: 252 / 420], examples_per_second: 1379.1112, train_label_loss: 0.5687, \n"
     ]
    },
    {
     "name": "stdout",
     "output_type": "stream",
     "text": [
      "epoch: 4, [batch: 294 / 420], examples_per_second: 1588.6969, train_label_loss: 0.5401, \n"
     ]
    },
    {
     "name": "stdout",
     "output_type": "stream",
     "text": [
      "epoch: 4, [batch: 336 / 420], examples_per_second: 1854.1687, train_label_loss: 0.8863, \n"
     ]
    },
    {
     "name": "stdout",
     "output_type": "stream",
     "text": [
      "epoch: 4, [batch: 378 / 420], examples_per_second: 2288.7508, train_label_loss: 0.8857, \n"
     ]
    },
    {
     "name": "stdout",
     "output_type": "stream",
     "text": [
      "=============================================================\n",
      "epoch: 4, source_val_acc_label: 0.6818, target_val_acc_label: 0.5260, source_val_label_loss: 0.8430, target_val_label_loss: 1.7046, \n",
      "=============================================================\n"
     ]
    },
    {
     "name": "stdout",
     "output_type": "stream",
     "text": [
      "epoch: 5, [batch: 1 / 420], examples_per_second: 5.2649, train_label_loss: 1.0597, \n"
     ]
    },
    {
     "name": "stdout",
     "output_type": "stream",
     "text": [
      "epoch: 5, [batch: 42 / 420], examples_per_second: 831.8682, train_label_loss: 0.4904, \n"
     ]
    },
    {
     "name": "stdout",
     "output_type": "stream",
     "text": [
      "epoch: 5, [batch: 84 / 420], examples_per_second: 901.4385, train_label_loss: 0.4039, \n"
     ]
    },
    {
     "name": "stdout",
     "output_type": "stream",
     "text": [
      "epoch: 5, [batch: 126 / 420], examples_per_second: 966.8991, train_label_loss: 0.5252, \n"
     ]
    },
    {
     "name": "stdout",
     "output_type": "stream",
     "text": [
      "epoch: 5, [batch: 168 / 420], examples_per_second: 1087.8498, train_label_loss: 1.0717, \n"
     ]
    },
    {
     "name": "stdout",
     "output_type": "stream",
     "text": [
      "epoch: 5, [batch: 210 / 420], examples_per_second: 1190.9156, train_label_loss: 0.6944, \n"
     ]
    },
    {
     "name": "stdout",
     "output_type": "stream",
     "text": [
      "epoch: 5, [batch: 252 / 420], examples_per_second: 1345.6250, train_label_loss: 0.6954, \n"
     ]
    },
    {
     "name": "stdout",
     "output_type": "stream",
     "text": [
      "epoch: 5, [batch: 294 / 420], examples_per_second: 1531.9317, train_label_loss: 0.6136, \n"
     ]
    },
    {
     "name": "stdout",
     "output_type": "stream",
     "text": [
      "epoch: 5, [batch: 336 / 420], examples_per_second: 1832.6361, train_label_loss: 0.8465, \n"
     ]
    },
    {
     "name": "stdout",
     "output_type": "stream",
     "text": [
      "epoch: 5, [batch: 378 / 420], examples_per_second: 2281.9983, train_label_loss: 0.7953, \n"
     ]
    },
    {
     "name": "stdout",
     "output_type": "stream",
     "text": [
      "=============================================================\n",
      "epoch: 5, source_val_acc_label: 0.7406, target_val_acc_label: 0.5815, source_val_label_loss: 0.7085, target_val_label_loss: 1.4740, \n",
      "=============================================================\n"
     ]
    },
    {
     "name": "stdout",
     "output_type": "stream",
     "text": [
      "New best\n"
     ]
    },
    {
     "name": "stdout",
     "output_type": "stream",
     "text": [
      "epoch: 6, [batch: 1 / 420], examples_per_second: 5.3425, train_label_loss: 1.0024, \n"
     ]
    },
    {
     "name": "stdout",
     "output_type": "stream",
     "text": [
      "epoch: 6, [batch: 42 / 420], examples_per_second: 761.2240, train_label_loss: 0.3809, \n"
     ]
    },
    {
     "name": "stdout",
     "output_type": "stream",
     "text": [
      "epoch: 6, [batch: 84 / 420], examples_per_second: 820.1347, train_label_loss: 0.7910, \n"
     ]
    },
    {
     "name": "stdout",
     "output_type": "stream",
     "text": [
      "epoch: 6, [batch: 126 / 420], examples_per_second: 849.7214, train_label_loss: 0.6166, \n"
     ]
    },
    {
     "name": "stdout",
     "output_type": "stream",
     "text": [
      "epoch: 6, [batch: 168 / 420], examples_per_second: 978.8098, train_label_loss: 0.5211, \n"
     ]
    },
    {
     "name": "stdout",
     "output_type": "stream",
     "text": [
      "epoch: 6, [batch: 210 / 420], examples_per_second: 1177.3725, train_label_loss: 0.3477, \n"
     ]
    },
    {
     "name": "stdout",
     "output_type": "stream",
     "text": [
      "epoch: 6, [batch: 252 / 420], examples_per_second: 1215.6471, train_label_loss: 1.1133, \n"
     ]
    },
    {
     "name": "stdout",
     "output_type": "stream",
     "text": [
      "epoch: 6, [batch: 294 / 420], examples_per_second: 1397.2933, train_label_loss: 0.3625, \n"
     ]
    },
    {
     "name": "stdout",
     "output_type": "stream",
     "text": [
      "epoch: 6, [batch: 336 / 420], examples_per_second: 1899.2107, train_label_loss: 0.4391, \n"
     ]
    },
    {
     "name": "stdout",
     "output_type": "stream",
     "text": [
      "epoch: 6, [batch: 378 / 420], examples_per_second: 2170.2911, train_label_loss: 0.5567, \n"
     ]
    },
    {
     "name": "stdout",
     "output_type": "stream",
     "text": [
      "=============================================================\n",
      "epoch: 6, source_val_acc_label: 0.7604, target_val_acc_label: 0.6025, source_val_label_loss: 0.6714, target_val_label_loss: 1.2334, \n",
      "=============================================================\n"
     ]
    },
    {
     "name": "stdout",
     "output_type": "stream",
     "text": [
      "New best\n"
     ]
    },
    {
     "name": "stdout",
     "output_type": "stream",
     "text": [
      "epoch: 7, [batch: 1 / 420], examples_per_second: 5.2529, train_label_loss: 0.7010, \n"
     ]
    },
    {
     "name": "stdout",
     "output_type": "stream",
     "text": [
      "epoch: 7, [batch: 42 / 420], examples_per_second: 761.4233, train_label_loss: 0.6281, \n"
     ]
    },
    {
     "name": "stdout",
     "output_type": "stream",
     "text": [
      "epoch: 7, [batch: 84 / 420], examples_per_second: 825.9358, train_label_loss: 0.3204, \n"
     ]
    },
    {
     "name": "stdout",
     "output_type": "stream",
     "text": [
      "epoch: 7, [batch: 126 / 420], examples_per_second: 863.6056, train_label_loss: 0.5290, \n"
     ]
    },
    {
     "name": "stdout",
     "output_type": "stream",
     "text": [
      "epoch: 7, [batch: 168 / 420], examples_per_second: 934.5629, train_label_loss: 0.7462, \n"
     ]
    },
    {
     "name": "stdout",
     "output_type": "stream",
     "text": [
      "epoch: 7, [batch: 210 / 420], examples_per_second: 1157.1808, train_label_loss: 0.5496, \n"
     ]
    },
    {
     "name": "stdout",
     "output_type": "stream",
     "text": [
      "epoch: 7, [batch: 252 / 420], examples_per_second: 1255.2282, train_label_loss: 0.2472, \n"
     ]
    },
    {
     "name": "stdout",
     "output_type": "stream",
     "text": [
      "epoch: 7, [batch: 294 / 420], examples_per_second: 1411.7059, train_label_loss: 0.5829, \n"
     ]
    },
    {
     "name": "stdout",
     "output_type": "stream",
     "text": [
      "epoch: 7, [batch: 336 / 420], examples_per_second: 1738.3940, train_label_loss: 0.2190, \n"
     ]
    },
    {
     "name": "stdout",
     "output_type": "stream",
     "text": [
      "epoch: 7, [batch: 378 / 420], examples_per_second: 2223.1402, train_label_loss: 0.5747, \n"
     ]
    },
    {
     "name": "stdout",
     "output_type": "stream",
     "text": [
      "=============================================================\n",
      "epoch: 7, source_val_acc_label: 0.7688, target_val_acc_label: 0.6126, source_val_label_loss: 0.6220, target_val_label_loss: 1.4184, \n",
      "=============================================================\n"
     ]
    },
    {
     "name": "stdout",
     "output_type": "stream",
     "text": [
      "epoch: 8, [batch: 1 / 420], examples_per_second: 5.3219, train_label_loss: 0.4505, \n"
     ]
    },
    {
     "name": "stdout",
     "output_type": "stream",
     "text": [
      "epoch: 8, [batch: 42 / 420], examples_per_second: 773.6449, train_label_loss: 0.5069, \n"
     ]
    },
    {
     "name": "stdout",
     "output_type": "stream",
     "text": [
      "epoch: 8, [batch: 84 / 420], examples_per_second: 813.9278, train_label_loss: 0.5730, \n"
     ]
    },
    {
     "name": "stdout",
     "output_type": "stream",
     "text": [
      "epoch: 8, [batch: 126 / 420], examples_per_second: 855.3106, train_label_loss: 0.2672, \n"
     ]
    },
    {
     "name": "stdout",
     "output_type": "stream",
     "text": [
      "epoch: 8, [batch: 168 / 420], examples_per_second: 915.0527, train_label_loss: 0.7475, \n"
     ]
    },
    {
     "name": "stdout",
     "output_type": "stream",
     "text": [
      "epoch: 8, [batch: 210 / 420], examples_per_second: 1088.0297, train_label_loss: 0.7407, \n"
     ]
    },
    {
     "name": "stdout",
     "output_type": "stream",
     "text": [
      "epoch: 8, [batch: 252 / 420], examples_per_second: 1340.5473, train_label_loss: 0.6001, \n"
     ]
    },
    {
     "name": "stdout",
     "output_type": "stream",
     "text": [
      "epoch: 8, [batch: 294 / 420], examples_per_second: 1380.3007, train_label_loss: 0.5759, \n"
     ]
    },
    {
     "name": "stdout",
     "output_type": "stream",
     "text": [
      "epoch: 8, [batch: 336 / 420], examples_per_second: 1541.0678, train_label_loss: 0.6679, \n"
     ]
    },
    {
     "name": "stdout",
     "output_type": "stream",
     "text": [
      "epoch: 8, [batch: 378 / 420], examples_per_second: 2247.9016, train_label_loss: 0.3931, \n"
     ]
    },
    {
     "name": "stdout",
     "output_type": "stream",
     "text": [
      "=============================================================\n",
      "epoch: 8, source_val_acc_label: 0.7795, target_val_acc_label: 0.6205, source_val_label_loss: 0.5925, target_val_label_loss: 1.3836, \n",
      "=============================================================\n"
     ]
    },
    {
     "name": "stdout",
     "output_type": "stream",
     "text": [
      "epoch: 9, [batch: 1 / 420], examples_per_second: 5.2741, train_label_loss: 0.3881, \n"
     ]
    },
    {
     "name": "stdout",
     "output_type": "stream",
     "text": [
      "epoch: 9, [batch: 42 / 420], examples_per_second: 768.3111, train_label_loss: 0.6348, \n"
     ]
    },
    {
     "name": "stdout",
     "output_type": "stream",
     "text": [
      "epoch: 9, [batch: 84 / 420], examples_per_second: 829.3768, train_label_loss: 0.3844, \n"
     ]
    },
    {
     "name": "stdout",
     "output_type": "stream",
     "text": [
      "epoch: 9, [batch: 126 / 420], examples_per_second: 881.4491, train_label_loss: 0.5436, \n"
     ]
    },
    {
     "name": "stdout",
     "output_type": "stream",
     "text": [
      "epoch: 9, [batch: 168 / 420], examples_per_second: 895.4507, train_label_loss: 0.3309, \n"
     ]
    },
    {
     "name": "stdout",
     "output_type": "stream",
     "text": [
      "epoch: 9, [batch: 210 / 420], examples_per_second: 1065.6673, train_label_loss: 0.6772, \n"
     ]
    },
    {
     "name": "stdout",
     "output_type": "stream",
     "text": [
      "epoch: 9, [batch: 252 / 420], examples_per_second: 1301.1049, train_label_loss: 0.3334, \n"
     ]
    },
    {
     "name": "stdout",
     "output_type": "stream",
     "text": [
      "epoch: 9, [batch: 294 / 420], examples_per_second: 1408.4411, train_label_loss: 0.5244, \n"
     ]
    },
    {
     "name": "stdout",
     "output_type": "stream",
     "text": [
      "epoch: 9, [batch: 336 / 420], examples_per_second: 1607.2383, train_label_loss: 0.4374, \n"
     ]
    },
    {
     "name": "stdout",
     "output_type": "stream",
     "text": [
      "epoch: 9, [batch: 378 / 420], examples_per_second: 1852.0298, train_label_loss: 0.5585, \n"
     ]
    },
    {
     "name": "stdout",
     "output_type": "stream",
     "text": [
      "=============================================================\n",
      "epoch: 9, source_val_acc_label: 0.7889, target_val_acc_label: 0.6314, source_val_label_loss: 0.5950, target_val_label_loss: 1.3800, \n",
      "=============================================================\n"
     ]
    },
    {
     "name": "stdout",
     "output_type": "stream",
     "text": [
      "epoch: 10, [batch: 1 / 420], examples_per_second: 5.2590, train_label_loss: 0.8016, \n"
     ]
    },
    {
     "name": "stdout",
     "output_type": "stream",
     "text": [
      "epoch: 10, [batch: 42 / 420], examples_per_second: 771.8727, train_label_loss: 0.2707, \n"
     ]
    },
    {
     "name": "stdout",
     "output_type": "stream",
     "text": [
      "epoch: 10, [batch: 84 / 420], examples_per_second: 822.8330, train_label_loss: 0.3460, \n"
     ]
    },
    {
     "name": "stdout",
     "output_type": "stream",
     "text": [
      "epoch: 10, [batch: 126 / 420], examples_per_second: 880.5462, train_label_loss: 0.4204, \n"
     ]
    },
    {
     "name": "stdout",
     "output_type": "stream",
     "text": [
      "epoch: 10, [batch: 168 / 420], examples_per_second: 915.1126, train_label_loss: 0.5152, \n"
     ]
    },
    {
     "name": "stdout",
     "output_type": "stream",
     "text": [
      "epoch: 10, [batch: 210 / 420], examples_per_second: 1003.8568, train_label_loss: 0.5266, \n"
     ]
    },
    {
     "name": "stdout",
     "output_type": "stream",
     "text": [
      "epoch: 10, [batch: 252 / 420], examples_per_second: 1230.6497, train_label_loss: 0.4094, \n"
     ]
    },
    {
     "name": "stdout",
     "output_type": "stream",
     "text": [
      "epoch: 10, [batch: 294 / 420], examples_per_second: 1544.7616, train_label_loss: 0.3099, \n"
     ]
    },
    {
     "name": "stdout",
     "output_type": "stream",
     "text": [
      "epoch: 10, [batch: 336 / 420], examples_per_second: 1553.6662, train_label_loss: 0.3219, \n"
     ]
    },
    {
     "name": "stdout",
     "output_type": "stream",
     "text": [
      "epoch: 10, [batch: 378 / 420], examples_per_second: 1971.6428, train_label_loss: 0.3094, \n"
     ]
    },
    {
     "name": "stdout",
     "output_type": "stream",
     "text": [
      "=============================================================\n",
      "epoch: 10, source_val_acc_label: 0.7957, target_val_acc_label: 0.6282, source_val_label_loss: 0.5792, target_val_label_loss: 1.3305, \n",
      "=============================================================\n"
     ]
    },
    {
     "name": "stdout",
     "output_type": "stream",
     "text": [
      "Patience (3) exhausted\n"
     ]
    }
   ],
   "source": [
    "###################################\n",
    "# train\n",
    "###################################\n",
    "jig = PTN_Train_Eval_Test_Jig(model, p.BEST_MODEL_PATH, p.device)\n",
    "\n",
    "jig.train(\n",
    "    train_iterable=datasets.source.processed.train,\n",
    "    source_val_iterable=datasets.source.processed.val,\n",
    "    target_val_iterable=datasets.target.processed.val,\n",
    "    num_epochs=p.n_epoch,\n",
    "    num_logs_per_epoch=p.NUM_LOGS_PER_EPOCH,\n",
    "    patience=p.patience,\n",
    "    optimizer=optimizer,\n",
    "    criteria_for_best=p.criteria_for_best,\n",
    ")"
   ]
  },
  {
   "cell_type": "code",
   "execution_count": 14,
   "id": "31e8fabf",
   "metadata": {
    "execution": {
     "iopub.execute_input": "2022-03-04T02:07:19.767340Z",
     "iopub.status.busy": "2022-03-04T02:07:19.767084Z",
     "iopub.status.idle": "2022-03-04T02:07:19.784871Z",
     "shell.execute_reply": "2022-03-04T02:07:19.784536Z"
    },
    "papermill": {
     "duration": 0.052069,
     "end_time": "2022-03-04T02:07:19.784955",
     "exception": false,
     "start_time": "2022-03-04T02:07:19.732886",
     "status": "completed"
    },
    "tags": []
   },
   "outputs": [],
   "source": [
    "total_experiment_time_secs = time.time() - start_time_secs"
   ]
  },
  {
   "cell_type": "code",
   "execution_count": 15,
   "id": "87b9595b",
   "metadata": {
    "execution": {
     "iopub.execute_input": "2022-03-04T02:07:19.883844Z",
     "iopub.status.busy": "2022-03-04T02:07:19.877416Z",
     "iopub.status.idle": "2022-03-04T02:08:55.104502Z",
     "shell.execute_reply": "2022-03-04T02:08:55.104903Z"
    },
    "papermill": {
     "duration": 95.26014,
     "end_time": "2022-03-04T02:08:55.105039",
     "exception": false,
     "start_time": "2022-03-04T02:07:19.844899",
     "status": "completed"
    },
    "tags": []
   },
   "outputs": [],
   "source": [
    "###################################\n",
    "# Evaluate the model\n",
    "###################################\n",
    "source_test_label_accuracy, source_test_label_loss = jig.test(datasets.source.processed.test)\n",
    "target_test_label_accuracy, target_test_label_loss = jig.test(datasets.target.processed.test)\n",
    "\n",
    "source_val_label_accuracy, source_val_label_loss = jig.test(datasets.source.processed.val)\n",
    "target_val_label_accuracy, target_val_label_loss = jig.test(datasets.target.processed.val)\n",
    "\n",
    "history = jig.get_history()\n",
    "\n",
    "total_epochs_trained = len(history[\"epoch_indices\"])\n",
    "\n",
    "val_dl = Iterable_Aggregator((datasets.source.original.val,datasets.target.original.val))\n",
    "\n",
    "confusion = ptn_confusion_by_domain_over_dataloader(model, p.device, val_dl)\n",
    "per_domain_accuracy = per_domain_accuracy_from_confusion(confusion)\n",
    "\n",
    "# Add a key to per_domain_accuracy for if it was a source domain\n",
    "for domain, accuracy in per_domain_accuracy.items():\n",
    "    per_domain_accuracy[domain] = {\n",
    "        \"accuracy\": accuracy,\n",
    "        \"source?\": domain in p.domains_source\n",
    "    }\n",
    "\n",
    "# Do an independent accuracy assesment JUST TO BE SURE!\n",
    "# _source_test_label_accuracy = independent_accuracy_assesment(model, datasets.source.processed.test, p.device)\n",
    "# _target_test_label_accuracy = independent_accuracy_assesment(model, datasets.target.processed.test, p.device)\n",
    "# _source_val_label_accuracy = independent_accuracy_assesment(model, datasets.source.processed.val, p.device)\n",
    "# _target_val_label_accuracy = independent_accuracy_assesment(model, datasets.target.processed.val, p.device)\n",
    "\n",
    "# assert(_source_test_label_accuracy == source_test_label_accuracy)\n",
    "# assert(_target_test_label_accuracy == target_test_label_accuracy)\n",
    "# assert(_source_val_label_accuracy == source_val_label_accuracy)\n",
    "# assert(_target_val_label_accuracy == target_val_label_accuracy)\n",
    "\n",
    "experiment = {\n",
    "    \"experiment_name\": p.experiment_name,\n",
    "    \"parameters\": dict(p),\n",
    "    \"results\": {\n",
    "        \"source_test_label_accuracy\": source_test_label_accuracy,\n",
    "        \"source_test_label_loss\": source_test_label_loss,\n",
    "        \"target_test_label_accuracy\": target_test_label_accuracy,\n",
    "        \"target_test_label_loss\": target_test_label_loss,\n",
    "        \"source_val_label_accuracy\": source_val_label_accuracy,\n",
    "        \"source_val_label_loss\": source_val_label_loss,\n",
    "        \"target_val_label_accuracy\": target_val_label_accuracy,\n",
    "        \"target_val_label_loss\": target_val_label_loss,\n",
    "        \"total_epochs_trained\": total_epochs_trained,\n",
    "        \"total_experiment_time_secs\": total_experiment_time_secs,\n",
    "        \"confusion\": confusion,\n",
    "        \"per_domain_accuracy\": per_domain_accuracy,\n",
    "    },\n",
    "    \"history\": history,\n",
    "    \"dataset_metrics\": get_dataset_metrics(datasets, \"ptn\"),\n",
    "}"
   ]
  },
  {
   "cell_type": "code",
   "execution_count": 16,
   "id": "54a21829",
   "metadata": {
    "execution": {
     "iopub.execute_input": "2022-03-04T02:08:55.176145Z",
     "iopub.status.busy": "2022-03-04T02:08:55.175880Z",
     "iopub.status.idle": "2022-03-04T02:08:55.368334Z",
     "shell.execute_reply": "2022-03-04T02:08:55.368752Z"
    },
    "papermill": {
     "duration": 0.227314,
     "end_time": "2022-03-04T02:08:55.368885",
     "exception": false,
     "start_time": "2022-03-04T02:08:55.141571",
     "status": "completed"
    },
    "tags": []
   },
   "outputs": [
    {
     "data": {
      "image/png": "[encoded data removed]",
      "text/plain": [
       "<Figure size 1080x504 with 1 Axes>"
      ]
     },
     "metadata": {
      "needs_background": "light"
     },
     "output_type": "display_data"
    }
   ],
   "source": [
    "ax = get_loss_curve(experiment)\n",
    "plt.show()"
   ]
  },
  {
   "cell_type": "code",
   "execution_count": 17,
   "id": "fd8a0f60",
   "metadata": {
    "execution": {
     "iopub.execute_input": "2022-03-04T02:08:55.439508Z",
     "iopub.status.busy": "2022-03-04T02:08:55.439254Z",
     "iopub.status.idle": "2022-03-04T02:08:55.724081Z",
     "shell.execute_reply": "2022-03-04T02:08:55.724524Z"
    },
    "papermill": {
     "duration": 0.320313,
     "end_time": "2022-03-04T02:08:55.724661",
     "exception": false,
     "start_time": "2022-03-04T02:08:55.404348",
     "status": "completed"
    },
    "tags": []
   },
   "outputs": [
    {
     "data": {
      "text/plain": [
       "<matplotlib.axes._subplots.AxesSubplot at 0x7efdd8235340>"
      ]
     },
     "execution_count": 17,
     "metadata": {},
     "output_type": "execute_result"
    },
    {
     "data": {
      "image/png": "[encoded data removed]",
      "text/plain": [
       "<Figure size 1080x504 with 1 Axes>"
      ]
     },
     "metadata": {
      "needs_background": "light"
     },
     "output_type": "display_data"
    }
   ],
   "source": [
    "get_results_table(experiment)"
   ]
  },
  {
   "cell_type": "code",
   "execution_count": 18,
   "id": "cf8dc689",
   "metadata": {
    "execution": {
     "iopub.execute_input": "2022-03-04T02:08:55.804540Z",
     "iopub.status.busy": "2022-03-04T02:08:55.804034Z",
     "iopub.status.idle": "2022-03-04T02:08:55.984237Z",
     "shell.execute_reply": "2022-03-04T02:08:55.984666Z"
    },
    "papermill": {
     "duration": 0.219259,
     "end_time": "2022-03-04T02:08:55.984798",
     "exception": false,
     "start_time": "2022-03-04T02:08:55.765539",
     "status": "completed"
    },
    "tags": []
   },
   "outputs": [
    {
     "data": {
      "text/plain": [
       "<matplotlib.axes._subplots.AxesSubplot at 0x7efdd8259460>"
      ]
     },
     "execution_count": 18,
     "metadata": {},
     "output_type": "execute_result"
    },
    {
     "data": {
      "image/png": "[encoded data removed]",
      "text/plain": [
       "<Figure size 1080x504 with 1 Axes>"
      ]
     },
     "metadata": {
      "needs_background": "light"
     },
     "output_type": "display_data"
    }
   ],
   "source": [
    "get_domain_accuracies(experiment)"
   ]
  },
  {
   "cell_type": "code",
   "execution_count": 19,
   "id": "a74ae082",
   "metadata": {
    "execution": {
     "iopub.execute_input": "2022-03-04T02:08:56.064614Z",
     "iopub.status.busy": "2022-03-04T02:08:56.064302Z",
     "iopub.status.idle": "2022-03-04T02:08:56.081111Z",
     "shell.execute_reply": "2022-03-04T02:08:56.080652Z"
    },
    "papermill": {
     "duration": 0.056414,
     "end_time": "2022-03-04T02:08:56.081219",
     "exception": false,
     "start_time": "2022-03-04T02:08:56.024805",
     "status": "completed"
    },
    "tags": []
   },
   "outputs": [
    {
     "name": "stdout",
     "output_type": "stream",
     "text": [
      "Source Test Label Accuracy: 0.7553819444444444 Target Test Label Accuracy: 0.598125\n",
      "Source Val Label Accuracy: 0.7604166666666666 Target Val Label Accuracy: 0.6025\n"
     ]
    }
   ],
   "source": [
    "print(\"Source Test Label Accuracy:\", experiment[\"results\"][\"source_test_label_accuracy\"], \"Target Test Label Accuracy:\", experiment[\"results\"][\"target_test_label_accuracy\"])\n",
    "print(\"Source Val Label Accuracy:\", experiment[\"results\"][\"source_val_label_accuracy\"], \"Target Val Label Accuracy:\", experiment[\"results\"][\"target_val_label_accuracy\"])"
   ]
  },
  {
   "cell_type": "code",
   "execution_count": 20,
   "id": "dacca602",
   "metadata": {
    "execution": {
     "iopub.execute_input": "2022-03-04T02:08:56.159447Z",
     "iopub.status.busy": "2022-03-04T02:08:56.158894Z",
     "iopub.status.idle": "2022-03-04T02:08:56.172270Z",
     "shell.execute_reply": "2022-03-04T02:08:56.172695Z"
    },
    "papermill": {
     "duration": 0.051004,
     "end_time": "2022-03-04T02:08:56.172826",
     "exception": false,
     "start_time": "2022-03-04T02:08:56.121822",
     "status": "completed"
    },
    "tags": [
     "experiment_json"
    ]
   },
   "outputs": [
    {
     "data": {
      "text/plain": [
       "'{\"experiment_name\": \"seeds_oracle.run2\", \"parameters\": {\"experiment_name\": \"seeds_oracle.run2\", \"lr\": 0.001, \"device\": \"cuda\", \"seed\": 2020, \"dataset_seed\": 1337, \"labels_source\": [\"3123D52\", \"3123D65\", \"3123D79\", \"3123D80\", \"3123D54\", \"3123D70\", \"3123D7B\", \"3123D89\", \"3123D58\", \"3123D76\", \"3123D7D\", \"3123EFE\", \"3123D64\", \"3123D78\", \"3123D7E\", \"3124E4A\"], \"labels_target\": [\"3123D52\", \"3123D65\", \"3123D79\", \"3123D80\", \"3123D54\", \"3123D70\", \"3123D7B\", \"3123D89\", \"3123D58\", \"3123D76\", \"3123D7D\", \"3123EFE\", \"3123D64\", \"3123D78\", \"3123D7E\", \"3124E4A\"], \"x_transforms_source\": [], \"x_transforms_target\": [], \"episode_transforms_source\": [], \"episode_transforms_target\": [], \"num_examples_per_domain_per_label_source\": 1000, \"num_examples_per_domain_per_label_target\": 1000, \"n_shot\": 3, \"n_way\": 16, \"n_query\": 2, \"train_k_factor\": 1, \"val_k_factor\": 2, \"test_k_factor\": 2, \"torch_default_dtype\": \"torch.float32\", \"n_epoch\": 50, \"patience\": 3, \"criteria_for_best\": \"target_loss\", \"x_net\": [{\"class\": \"nnReshape\", \"kargs\": {\"shape\": [-1, 1, 2, 256]}}, {\"class\": \"Conv2d\", \"kargs\": {\"in_channels\": 1, \"out_channels\": 256, \"kernel_size\": [1, 7], \"bias\": false, \"padding\": [0, 3]}}, {\"class\": \"ReLU\", \"kargs\": {\"inplace\": true}}, {\"class\": \"BatchNorm2d\", \"kargs\": {\"num_features\": 256}}, {\"class\": \"Conv2d\", \"kargs\": {\"in_channels\": 256, \"out_channels\": 80, \"kernel_size\": [2, 7], \"bias\": true, \"padding\": [0, 3]}}, {\"class\": \"ReLU\", \"kargs\": {\"inplace\": true}}, {\"class\": \"BatchNorm2d\", \"kargs\": {\"num_features\": 80}}, {\"class\": \"Flatten\", \"kargs\": {}}, {\"class\": \"Linear\", \"kargs\": {\"in_features\": 20480, \"out_features\": 256}}, {\"class\": \"ReLU\", \"kargs\": {\"inplace\": true}}, {\"class\": \"BatchNorm1d\", \"kargs\": {\"num_features\": 256}}, {\"class\": \"Linear\", \"kargs\": {\"in_features\": 256, \"out_features\": 256}}], \"NUM_LOGS_PER_EPOCH\": 10, \"BEST_MODEL_PATH\": \"./best_model.pth\", \"pickle_name\": \"oracle.Run2_10kExamples_stratified_ds.2022A.pkl\", \"domains_source\": [8, 32, 50], \"domains_target\": [14, 20, 26, 38, 44]}, \"results\": {\"source_test_label_accuracy\": 0.7553819444444444, \"source_test_label_loss\": 0.6578197479248047, \"target_test_label_accuracy\": 0.598125, \"target_test_label_loss\": 1.1869900226593018, \"source_val_label_accuracy\": 0.7604166666666666, \"source_val_label_loss\": 0.6714219450950623, \"target_val_label_accuracy\": 0.6025, \"target_val_label_loss\": 1.2333590984344482, \"total_epochs_trained\": 10, \"total_experiment_time_secs\": 583.7589435577393, \"confusion\": {\"32\": {\"15\": {\"15\": 110, \"7\": 2, \"5\": 7, \"8\": 1}, \"3\": {\"3\": 102, \"13\": 15, \"11\": 1, \"4\": 2}, \"2\": {\"7\": 19, \"14\": 31, \"2\": 57, \"0\": 11, \"8\": 2}, \"13\": {\"13\": 81, \"3\": 19, \"11\": 16, \"4\": 4}, \"8\": {\"0\": 18, \"8\": 73, \"7\": 25, \"2\": 4}, \"7\": {\"7\": 45, \"0\": 18, \"4\": 2, \"8\": 32, \"2\": 20, \"14\": 2, \"15\": 1}, \"4\": {\"11\": 28, \"13\": 2, \"4\": 85, \"0\": 4, \"3\": 1}, \"1\": {\"1\": 120}, \"6\": {\"6\": 120}, \"0\": {\"8\": 6, \"4\": 6, \"7\": 20, \"0\": 67, \"2\": 16, \"11\": 3, \"14\": 2}, \"11\": {\"4\": 53, \"11\": 33, \"13\": 30, \"3\": 2, \"0\": 1, \"8\": 1}, \"9\": {\"9\": 119, \"11\": 1}, \"5\": {\"5\": 95, \"14\": 5, \"15\": 18, \"2\": 1, \"8\": 1}, \"12\": {\"12\": 119, \"9\": 1}, \"10\": {\"10\": 120}, \"14\": {\"14\": 68, \"2\": 39, \"7\": 6, \"0\": 6, \"11\": 1}}, \"8\": {\"5\": {\"5\": 68, \"13\": 10, \"10\": 23, \"1\": 16, \"4\": 2, \"7\": 1}, \"9\": {\"9\": 120}, \"0\": {\"0\": 120}, \"12\": {\"2\": 14, \"12\": 99, \"15\": 7}, \"4\": {\"7\": 36, \"11\": 2, \"4\": 49, \"1\": 19, \"6\": 6, \"8\": 4, \"14\": 2, \"5\": 2}, \"15\": {\"15\": 98, \"2\": 7, \"3\": 2, \"12\": 13}, \"2\": {\"2\": 111, \"15\": 7, \"12\": 2}, \"6\": {\"6\": 61, \"8\": 16, \"14\": 40, \"11\": 1, \"4\": 2}, \"10\": {\"13\": 16, \"10\": 63, \"5\": 34, \"1\": 3, \"7\": 4}, \"7\": {\"13\": 3, \"11\": 5, \"7\": 69, \"5\": 9, \"10\": 2, \"4\": 27, \"1\": 4, \"8\": 1}, \"13\": {\"13\": 92, \"10\": 27, \"5\": 1}, \"14\": {\"14\": 77, \"6\": 36, \"1\": 5, \"4\": 1, \"8\": 1}, \"8\": {\"8\": 80, \"6\": 22, \"11\": 9, \"4\": 4, \"14\": 4, \"7\": 1}, \"11\": {\"8\": 27, \"11\": 58, \"7\": 12, \"6\": 13, \"1\": 1, \"13\": 4, \"12\": 3, \"14\": 1, \"4\": 1}, \"1\": {\"1\": 58, \"7\": 8, \"6\": 4, \"10\": 7, \"4\": 20, \"13\": 5, \"5\": 12, \"14\": 6}, \"3\": {\"3\": 120}}, \"50\": {\"8\": {\"8\": 120}, \"6\": {\"6\": 83, \"15\": 17, \"5\": 15, \"4\": 3, \"12\": 2}, \"15\": {\"15\": 95, \"9\": 12, \"6\": 6, \"12\": 4, \"4\": 3}, \"9\": {\"9\": 103, \"15\": 14, \"12\": 3}, \"5\": {\"5\": 65, \"4\": 30, \"7\": 10, \"6\": 12, \"15\": 3}, \"12\": {\"12\": 94, \"15\": 5, \"11\": 13, \"9\": 8}, \"14\": {\"14\": 118, \"2\": 2}, \"3\": {\"3\": 120}, \"13\": {\"13\": 114, \"1\": 3, \"6\": 1, \"8\": 2}, \"1\": {\"1\": 105, \"11\": 7, \"13\": 8}, \"2\": {\"2\": 106, \"0\": 10, \"14\": 4}, \"0\": {\"10\": 9, \"0\": 96, \"2\": 13, \"14\": 2}, \"10\": {\"10\": 111, \"0\": 8, \"1\": 1}, \"7\": {\"7\": 106, \"5\": 5, \"4\": 9}, \"4\": {\"4\": 85, \"7\": 13, \"6\": 1, \"15\": 3, \"5\": 18}, \"11\": {\"11\": 102, \"12\": 18}}, \"38\": {\"15\": {\"1\": 27, \"6\": 34, \"15\": 57, \"5\": 2}, \"3\": {\"10\": 30, \"3\": 45, \"4\": 22, \"13\": 21, \"11\": 2}, \"2\": {\"2\": 102, \"14\": 17, \"8\": 1}, \"13\": {\"13\": 82, \"10\": 13, \"3\": 21, \"4\": 4}, \"8\": {\"8\": 93, \"12\": 12, \"5\": 7, \"0\": 2, \"7\": 2, \"9\": 4}, \"7\": {\"7\": 94, \"14\": 2, \"8\": 3, \"0\": 20, \"4\": 1}, \"4\": {\"4\": 81, \"3\": 17, \"10\": 19, \"7\": 1, \"13\": 2}, \"1\": {\"1\": 97, \"15\": 23}, \"6\": {\"6\": 110, \"15\": 9, \"1\": 1}, \"0\": {\"0\": 102, \"7\": 16, \"8\": 2}, \"11\": {\"11\": 120}, \"9\": {\"9\": 92, \"5\": 16, \"12\": 11, \"8\": 1}, \"5\": {\"12\": 41, \"5\": 36, \"8\": 31, \"9\": 11, \"7\": 1}, \"12\": {\"8\": 11, \"9\": 12, \"5\": 30, \"12\": 65, \"2\": 2}, \"10\": {\"10\": 53, \"13\": 14, \"3\": 23, \"4\": 30}, \"14\": {\"14\": 58, \"7\": 16, \"2\": 32, \"8\": 7, \"12\": 3, \"13\": 2, \"4\": 1, \"5\": 1}}, \"20\": {\"5\": {\"5\": 27, \"1\": 24, \"9\": 14, \"4\": 3, \"3\": 15, \"2\": 20, \"7\": 5, \"15\": 6, \"11\": 1, \"13\": 1, \"8\": 2, \"14\": 2}, \"9\": {\"12\": 1, \"7\": 7, \"3\": 13, \"15\": 25, \"9\": 18, \"5\": 15, \"2\": 15, \"1\": 8, \"4\": 12, \"13\": 6}, \"0\": {\"0\": 89, \"11\": 13, \"1\": 8, \"8\": 8, \"5\": 2}, \"12\": {\"12\": 56, \"13\": 49, \"10\": 8, \"7\": 3, \"15\": 1, \"9\": 1, \"4\": 2}, \"4\": {\"5\": 11, \"9\": 12, \"13\": 4, \"3\": 16, \"4\": 22, \"15\": 15, \"2\": 9, \"7\": 25, \"1\": 2, \"12\": 1, \"10\": 2, \"6\": 1}, \"15\": {\"12\": 5, \"2\": 14, \"4\": 12, \"3\": 10, \"15\": 29, \"5\": 16, \"9\": 10, \"1\": 7, \"7\": 6, \"13\": 9, \"10\": 2}, \"2\": {\"1\": 19, \"3\": 16, \"2\": 16, \"9\": 22, \"5\": 11, \"8\": 2, \"15\": 17, \"4\": 11, \"7\": 5, \"12\": 1}, \"6\": {\"6\": 75, \"10\": 22, \"7\": 18, \"4\": 4, \"3\": 1}, \"10\": {\"4\": 2, \"7\": 19, \"10\": 69, \"6\": 17, \"12\": 7, \"13\": 1, \"15\": 3, \"3\": 2}, \"7\": {\"7\": 43, \"10\": 13, \"12\": 4, \"3\": 17, \"15\": 1, \"4\": 15, \"9\": 7, \"6\": 12, \"2\": 2, \"14\": 3, \"13\": 2, \"5\": 1}, \"13\": {\"12\": 55, \"15\": 6, \"7\": 2, \"13\": 49, \"3\": 2, \"10\": 4, \"4\": 2}, \"14\": {\"14\": 62, \"11\": 21, \"8\": 28, \"1\": 1, \"5\": 6, \"0\": 1, \"7\": 1}, \"8\": {\"14\": 38, \"8\": 30, \"0\": 7, \"11\": 41, \"1\": 1, \"5\": 1, \"2\": 2}, \"11\": {\"8\": 41, \"11\": 42, \"14\": 18, \"0\": 19}, \"1\": {\"1\": 78, \"2\": 15, \"15\": 5, \"5\": 12, \"0\": 2, \"3\": 1, \"14\": 1, \"9\": 3, \"8\": 2, \"4\": 1}, \"3\": {\"5\": 10, \"4\": 19, \"3\": 19, \"1\": 4, \"2\": 12, \"9\": 19, \"12\": 3, \"7\": 16, \"13\": 5, \"15\": 10, \"14\": 1, \"10\": 2}}, \"26\": {\"8\": {\"2\": 29, \"7\": 4, \"15\": 10, \"8\": 39, \"9\": 29, \"0\": 4, \"13\": 4, \"10\": 1}, \"6\": {\"5\": 53, \"6\": 50, \"1\": 6, \"14\": 9, \"0\": 1, \"10\": 1}, \"15\": {\"15\": 57, \"0\": 26, \"8\": 8, \"10\": 14, \"9\": 1, \"14\": 5, \"2\": 9}, \"9\": {\"8\": 25, \"2\": 19, \"0\": 1, \"9\": 48, \"13\": 17, \"7\": 6, \"10\": 1, \"3\": 2, \"15\": 1}, \"5\": {\"5\": 42, \"6\": 35, \"0\": 5, \"14\": 8, \"1\": 25, \"10\": 5}, \"12\": {\"12\": 119, \"9\": 1}, \"14\": {\"0\": 18, \"14\": 50, \"15\": 9, \"5\": 10, \"10\": 22, \"1\": 5, \"6\": 5, \"8\": 1}, \"3\": {\"3\": 85, \"7\": 25, \"4\": 4, \"2\": 2, \"13\": 4}, \"13\": {\"13\": 74, \"9\": 18, \"7\": 16, \"3\": 3, \"8\": 6, \"2\": 1, \"12\": 2}, \"1\": {\"5\": 18, \"14\": 3, \"6\": 9, \"1\": 89, \"10\": 1}, \"2\": {\"2\": 41, \"9\": 21, \"3\": 2, \"7\": 16, \"15\": 12, \"8\": 24, \"10\": 2, \"13\": 2}, \"0\": {\"10\": 30, \"0\": 39, \"15\": 28, \"14\": 13, \"9\": 2, \"5\": 3, \"8\": 2, \"2\": 3}, \"10\": {\"10\": 27, \"15\": 13, \"0\": 22, \"14\": 21, \"5\": 6, \"6\": 7, \"2\": 7, \"1\": 8, \"8\": 3, \"9\": 5, \"12\": 1}, \"7\": {\"9\": 10, \"3\": 33, \"13\": 16, \"7\": 45, \"2\": 13, \"8\": 3}, \"4\": {\"4\": 117, \"3\": 3}, \"11\": {\"11\": 120}}, \"44\": {\"0\": {\"0\": 81, \"8\": 31, \"5\": 2, \"15\": 6}, \"5\": {\"14\": 10, \"15\": 11, \"5\": 88, \"8\": 10, \"4\": 1}, \"11\": {\"11\": 120}, \"9\": {\"9\": 71, \"7\": 42, \"6\": 5, \"10\": 1, \"4\": 1}, \"1\": {\"1\": 87, \"3\": 1, \"2\": 32}, \"7\": {\"7\": 68, \"9\": 38, \"10\": 8, \"6\": 6}, \"15\": {\"15\": 82, \"5\": 22, \"8\": 10, \"0\": 2, \"14\": 3, \"4\": 1}, \"8\": {\"0\": 11, \"8\": 96, \"5\": 12, \"15\": 1}, \"13\": {\"13\": 113, \"4\": 2, \"6\": 5}, \"12\": {\"12\": 102, \"3\": 18}, \"3\": {\"3\": 97, \"12\": 23}, \"4\": {\"4\": 86, \"5\": 1, \"14\": 31, \"7\": 1, \"9\": 1}, \"6\": {\"6\": 110, \"10\": 2, \"13\": 5, \"7\": 2, \"9\": 1}, \"14\": {\"14\": 89, \"4\": 18, \"5\": 12, \"15\": 1}, \"10\": {\"10\": 103, \"6\": 7, \"9\": 2, \"7\": 8}, \"2\": {\"2\": 95, \"1\": 25}}, \"14\": {\"9\": {\"9\": 116, \"8\": 1, \"12\": 3}, \"11\": {\"11\": 120}, \"3\": {\"3\": 101, \"6\": 11, \"14\": 2, \"2\": 3, \"12\": 1, \"7\": 1, \"10\": 1}, \"13\": {\"6\": 47, \"13\": 70, \"7\": 2, \"3\": 1}, \"5\": {\"5\": 57, \"2\": 19, \"0\": 3, \"14\": 26, \"10\": 3, \"4\": 11, \"7\": 1}, \"14\": {\"14\": 37, \"2\": 27, \"7\": 16, \"10\": 3, \"5\": 30, \"4\": 1, \"3\": 6}, \"4\": {\"4\": 93, \"0\": 23, \"5\": 2, \"10\": 1, \"2\": 1}, \"15\": {\"15\": 120}, \"2\": {\"2\": 22, \"14\": 29, \"5\": 29, \"3\": 6, \"7\": 28, \"6\": 3, \"10\": 1, \"4\": 2}, \"12\": {\"12\": 45, \"9\": 22, \"11\": 4, \"8\": 12, \"10\": 6, \"15\": 17, \"3\": 7, \"1\": 3, \"4\": 3, \"6\": 1}, \"6\": {\"6\": 66, \"13\": 41, \"3\": 13}, \"10\": {\"10\": 50, \"0\": 19, \"8\": 26, \"3\": 10, \"12\": 5, \"4\": 1, \"5\": 3, \"14\": 4, \"2\": 1, \"6\": 1}, \"8\": {\"8\": 76, \"10\": 27, \"0\": 16, \"14\": 1}, \"0\": {\"0\": 69, \"8\": 21, \"10\": 12, \"4\": 15, \"5\": 2, \"9\": 1}, \"7\": {\"7\": 81, \"2\": 23, \"5\": 1, \"13\": 2, \"3\": 3, \"14\": 8, \"6\": 2}, \"1\": {\"1\": 120}}}, \"per_domain_accuracy\": {\"32\": {\"accuracy\": 0.7364583333333333, \"source?\": true}, \"8\": {\"accuracy\": 0.6994791666666667, \"source?\": true}, \"50\": {\"accuracy\": 0.8453125, \"source?\": true}, \"38\": {\"accuracy\": 0.6703125, \"source?\": false}, \"20\": {\"accuracy\": 0.3770833333333333, \"source?\": false}, \"26\": {\"accuracy\": 0.5427083333333333, \"source?\": false}, \"44\": {\"accuracy\": 0.775, \"source?\": false}, \"14\": {\"accuracy\": 0.6473958333333333, \"source?\": false}}}, \"history\": {\"epoch_indices\": [1, 2, 3, 4, 5, 6, 7, 8, 9, 10], \"train_label_loss\": [1.2687907519794646, 1.2952444258190337, 1.2390886064086641, 1.025242898151988, 0.737834685544173, 0.6313650061332045, 0.5669227690214202, 0.5138261376037484, 0.48556156570003145, 0.449732547466244], \"source_val_label_loss\": [1.6405988931655884, 1.2594642639160156, 1.2618398666381836, 0.8430099487304688, 0.7085286378860474, 0.6714219450950623, 0.6219984889030457, 0.5925381183624268, 0.5949844717979431, 0.5792356133460999], \"target_val_label_loss\": [1.746799349784851, 1.8647210597991943, 1.6498725414276123, 1.7046294212341309, 1.4739813804626465, 1.2333590984344482, 1.4183623790740967, 1.3836175203323364, 1.3799697160720825, 1.3304669857025146], \"source_val_acc_label\": [0.4600694444444444, 0.4831597222222222, 0.49114583333333334, 0.6817708333333333, 0.740625, 0.7604166666666666, 0.76875, 0.7795138888888888, 0.7888888888888889, 0.7956597222222223], \"target_val_acc_label\": [0.39510416666666665, 0.39666666666666667, 0.4110416666666667, 0.5260416666666666, 0.5814583333333333, 0.6025, 0.6126041666666666, 0.6205208333333333, 0.6313541666666667, 0.6282291666666666]}, \"dataset_metrics\": {\"source\": {\"train\": {\"n_unique_x\": 33600, \"n_unique_y\": 16, \"n_batch/episode\": 420}, \"val\": {\"n_unique_x\": 7200, \"n_unique_y\": 16, \"n_batch/episode\": 180}, \"test\": {\"n_unique_x\": 7200, \"n_unique_y\": 16, \"n_batch/episode\": 180}}, \"target\": {\"train\": {\"n_unique_x\": 56000, \"n_unique_y\": 16, \"n_batch/episode\": 700}, \"val\": {\"n_unique_x\": 12000, \"n_unique_y\": 16, \"n_batch/episode\": 300}, \"test\": {\"n_unique_x\": 12000, \"n_unique_y\": 16, \"n_batch/episode\": 300}}}}'"
      ]
     },
     "execution_count": 20,
     "metadata": {},
     "output_type": "execute_result"
    }
   ],
   "source": [
    "json.dumps(experiment)"
   ]
  }
 ],
 "metadata": {
  "celltoolbar": "Tags",
  "kernelspec": {
   "display_name": "Python 3 (ipykernel)",
   "language": "python",
   "name": "python3"
  },
  "language_info": {
   "codemirror_mode": {
    "name": "ipython",
    "version": 3
   },
   "file_extension": ".py",
   "mimetype": "text/x-python",
   "name": "python",
   "nbconvert_exporter": "python",
   "pygments_lexer": "ipython3",
   "version": "3.8.10"
  },
  "papermill": {
   "default_parameters": {},
   "duration": 682.387876,
   "end_time": "2022-03-04T02:08:56.720109",
   "environment_variables": {},
   "exception": null,
   "input_path": "/mnt/wd500GB/CSC500/csc500-main/csc500-notebooks/templates/ptn_template.ipynb",
   "output_path": "trial.ipynb",
   "parameters": {
    "parameters": {
     "BEST_MODEL_PATH": "./best_model.pth",
     "NUM_LOGS_PER_EPOCH": 10,
     "criteria_for_best": "target_loss",
     "dataset_seed": 1337,
     "device": "cuda",
     "domains_source": [
      8,
      32,
      50
     ],
     "domains_target": [
      14,
      20,
      26,
      38,
      44
     ],
     "episode_transforms_source": [],
     "episode_transforms_target": [],
     "experiment_name": "seeds_oracle.run2",
     "labels_source": [
      "3123D52",
      "3123D65",
      "3123D79",
      "3123D80",
      "3123D54",
      "3123D70",
      "3123D7B",
      "3123D89",
      "3123D58",
      "3123D76",
      "3123D7D",
      "3123EFE",
      "3123D64",
      "3123D78",
      "3123D7E",
      "3124E4A"
     ],
     "labels_target": [
      "3123D52",
      "3123D65",
      "3123D79",
      "3123D80",
      "3123D54",
      "3123D70",
      "3123D7B",
      "3123D89",
      "3123D58",
      "3123D76",
      "3123D7D",
      "3123EFE",
      "3123D64",
      "3123D78",
      "3123D7E",
      "3124E4A"
     ],
     "lr": 0.001,
     "n_epoch": 50,
     "n_query": 2,
     "n_shot": 3,
     "n_way": 16,
     "num_examples_per_domain_per_label_source": 1000,
     "num_examples_per_domain_per_label_target": 1000,
     "patience": 3,
     "pickle_name": "oracle.Run2_10kExamples_stratified_ds.2022A.pkl",
     "seed": 2020,
     "test_k_factor": 2,
     "torch_default_dtype": "torch.float32",
     "train_k_factor": 1,
     "val_k_factor": 2,
     "x_net": [
      {
       "class": "nnReshape",
       "kargs": {
        "shape": [
         -1,
         1,
         2,
         256
        ]
       }
      },
      {
       "class": "Conv2d",
       "kargs": {
        "bias": false,
        "in_channels": 1,
        "kernel_size": [
         1,
         7
        ],
        "out_channels": 256,
        "padding": [
         0,
         3
        ]
       }
      },
      {
       "class": "ReLU",
       "kargs": {
        "inplace": true
       }
      },
      {
       "class": "BatchNorm2d",
       "kargs": {
        "num_features": 256
       }
      },
      {
       "class": "Conv2d",
       "kargs": {
        "bias": true,
        "in_channels": 256,
        "kernel_size": [
         2,
         7
        ],
        "out_channels": 80,
        "padding": [
         0,
         3
        ]
       }
      },
      {
       "class": "ReLU",
       "kargs": {
        "inplace": true
       }
      },
      {
       "class": "BatchNorm2d",
       "kargs": {
        "num_features": 80
       }
      },
      {
       "class": "Flatten",
       "kargs": {}
      },
      {
       "class": "Linear",
       "kargs": {
        "in_features": 20480,
        "out_features": 256
       }
      },
      {
       "class": "ReLU",
       "kargs": {
        "inplace": true
       }
      },
      {
       "class": "BatchNorm1d",
       "kargs": {
        "num_features": 256
       }
      },
      {
       "class": "Linear",
       "kargs": {
        "in_features": 256,
        "out_features": 256
       }
      }
     ],
     "x_transforms_source": [],
     "x_transforms_target": []
    }
   },
   "start_time": "2022-03-04T01:57:34.332233",
   "version": "2.3.4"
  }
 },
 "nbformat": 4,
 "nbformat_minor": 5
}