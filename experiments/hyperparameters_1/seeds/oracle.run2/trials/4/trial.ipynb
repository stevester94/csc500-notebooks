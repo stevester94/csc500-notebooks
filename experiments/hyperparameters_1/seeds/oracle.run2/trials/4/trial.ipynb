{
 "cells": [
  {
   "cell_type": "markdown",
   "id": "9fea5f46",
   "metadata": {
    "papermill": {
     "duration": 0.014549,
     "end_time": "2022-03-04T02:26:20.560395",
     "exception": false,
     "start_time": "2022-03-04T02:26:20.545846",
     "status": "completed"
    },
    "tags": []
   },
   "source": [
    "# PTN Template\n",
    "This notebook serves as a template for single dataset PTN experiments  \n",
    "It can be run on its own by setting STANDALONE to True (do a find for \"STANDALONE\" to see where)  \n",
    "But it is intended to be executed as part of a *papermill.py script. See any of the   \n",
    "experimentes with a papermill script to get started with that workflow.  "
   ]
  },
  {
   "cell_type": "code",
   "execution_count": 1,
   "id": "0902182a",
   "metadata": {
    "execution": {
     "iopub.execute_input": "2022-03-04T02:26:20.594805Z",
     "iopub.status.busy": "2022-03-04T02:26:20.594355Z",
     "iopub.status.idle": "2022-03-04T02:26:21.385602Z",
     "shell.execute_reply": "2022-03-04T02:26:21.386002Z"
    },
    "papermill": {
     "duration": 0.81514,
     "end_time": "2022-03-04T02:26:21.386198",
     "exception": false,
     "start_time": "2022-03-04T02:26:20.571058",
     "status": "completed"
    },
    "tags": []
   },
   "outputs": [],
   "source": [
    "%load_ext autoreload\n",
    "%autoreload 2\n",
    "%matplotlib inline\n",
    "\n",
    "    \n",
    "import os, json, sys, time, random\n",
    "import numpy as np\n",
    "import torch\n",
    "from torch.optim import Adam\n",
    "from  easydict import EasyDict\n",
    "import matplotlib.pyplot as plt\n",
    "\n",
    "from steves_models.steves_ptn import Steves_Prototypical_Network\n",
    "\n",
    "from steves_utils.lazy_iterable_wrapper import Lazy_Iterable_Wrapper\n",
    "from steves_utils.iterable_aggregator import Iterable_Aggregator\n",
    "from steves_utils.ptn_train_eval_test_jig import  PTN_Train_Eval_Test_Jig\n",
    "from steves_utils.torch_sequential_builder import build_sequential\n",
    "from steves_utils.torch_utils import get_dataset_metrics, ptn_confusion_by_domain_over_dataloader\n",
    "from steves_utils.utils_v2 import (per_domain_accuracy_from_confusion, get_datasets_base_path)\n",
    "from steves_utils.PTN.utils import independent_accuracy_assesment\n",
    "\n",
    "from steves_utils.stratified_dataset.episodic_accessor import Episodic_Accessor_Factory\n",
    "\n",
    "from steves_utils.ptn_do_report import (\n",
    "    get_loss_curve,\n",
    "    get_results_table,\n",
    "    get_parameters_table,\n",
    "    get_domain_accuracies,\n",
    ")\n",
    "\n",
    "from steves_utils.transforms import get_chained_transform"
   ]
  },
  {
   "cell_type": "markdown",
   "id": "41c840b4",
   "metadata": {
    "papermill": {
     "duration": 0.010467,
     "end_time": "2022-03-04T02:26:21.411003",
     "exception": false,
     "start_time": "2022-03-04T02:26:21.400536",
     "status": "completed"
    },
    "tags": []
   },
   "source": [
    "# Required Parameters\n",
    "These are allowed parameters, not defaults\n",
    "Each of these values need to be present in the injected parameters (the notebook will raise an exception if they are not present)\n",
    "\n",
    "Papermill uses the cell tag \"parameters\" to inject the real parameters below this cell.\n",
    "Enable tags to see what I mean"
   ]
  },
  {
   "cell_type": "code",
   "execution_count": 2,
   "id": "fd44eb83",
   "metadata": {
    "execution": {
     "iopub.execute_input": "2022-03-04T02:26:21.433288Z",
     "iopub.status.busy": "2022-03-04T02:26:21.433021Z",
     "iopub.status.idle": "2022-03-04T02:26:21.446249Z",
     "shell.execute_reply": "2022-03-04T02:26:21.445801Z"
    },
    "papermill": {
     "duration": 0.025931,
     "end_time": "2022-03-04T02:26:21.446348",
     "exception": false,
     "start_time": "2022-03-04T02:26:21.420417",
     "status": "completed"
    },
    "tags": []
   },
   "outputs": [],
   "source": [
    "required_parameters = {\n",
    "    \"experiment_name\",\n",
    "    \"lr\",\n",
    "    \"device\",\n",
    "    \"seed\",\n",
    "    \"dataset_seed\",\n",
    "    \"labels_source\",\n",
    "    \"labels_target\",\n",
    "    \"domains_source\",\n",
    "    \"domains_target\",\n",
    "    \"num_examples_per_domain_per_label_source\",\n",
    "    \"num_examples_per_domain_per_label_target\",\n",
    "    \"n_shot\",\n",
    "    \"n_way\",\n",
    "    \"n_query\",\n",
    "    \"train_k_factor\",\n",
    "    \"val_k_factor\",\n",
    "    \"test_k_factor\",\n",
    "    \"n_epoch\",\n",
    "    \"patience\",\n",
    "    \"criteria_for_best\",\n",
    "    \"x_transforms_source\",\n",
    "    \"x_transforms_target\",\n",
    "    \"episode_transforms_source\",\n",
    "    \"episode_transforms_target\",\n",
    "    \"pickle_name\",\n",
    "    \"x_net\",\n",
    "    \"NUM_LOGS_PER_EPOCH\",\n",
    "    \"BEST_MODEL_PATH\",\n",
    "    \"torch_default_dtype\"\n",
    "}"
   ]
  },
  {
   "cell_type": "code",
   "execution_count": 3,
   "id": "fa3f0049",
   "metadata": {
    "execution": {
     "iopub.execute_input": "2022-03-04T02:26:21.479011Z",
     "iopub.status.busy": "2022-03-04T02:26:21.478705Z",
     "iopub.status.idle": "2022-03-04T02:26:21.489912Z",
     "shell.execute_reply": "2022-03-04T02:26:21.489505Z"
    },
    "papermill": {
     "duration": 0.029847,
     "end_time": "2022-03-04T02:26:21.490014",
     "exception": false,
     "start_time": "2022-03-04T02:26:21.460167",
     "status": "completed"
    },
    "tags": [
     "parameters"
    ]
   },
   "outputs": [],
   "source": [
    "\n",
    "\n",
    "standalone_parameters = {}\n",
    "standalone_parameters[\"experiment_name\"] = \"STANDALONE PTN\"\n",
    "standalone_parameters[\"lr\"] = 0.0001\n",
    "standalone_parameters[\"device\"] = \"cuda\"\n",
    "\n",
    "standalone_parameters[\"seed\"] = 1337\n",
    "standalone_parameters[\"dataset_seed\"] = 1337\n",
    "\n",
    "\n",
    "standalone_parameters[\"num_examples_per_domain_per_label_source\"]=100\n",
    "standalone_parameters[\"num_examples_per_domain_per_label_target\"]=100\n",
    "\n",
    "standalone_parameters[\"n_shot\"] = 3\n",
    "standalone_parameters[\"n_query\"]  = 2\n",
    "standalone_parameters[\"train_k_factor\"] = 1\n",
    "standalone_parameters[\"val_k_factor\"] = 2\n",
    "standalone_parameters[\"test_k_factor\"] = 2\n",
    "\n",
    "\n",
    "standalone_parameters[\"n_epoch\"] = 100\n",
    "\n",
    "standalone_parameters[\"patience\"] = 10\n",
    "standalone_parameters[\"criteria_for_best\"] = \"target_accuracy\"\n",
    "\n",
    "standalone_parameters[\"x_transforms_source\"] = [\"unit_power\"]\n",
    "standalone_parameters[\"x_transforms_target\"] = [\"unit_power\"]\n",
    "standalone_parameters[\"episode_transforms_source\"] = []\n",
    "standalone_parameters[\"episode_transforms_target\"] = []\n",
    "\n",
    "standalone_parameters[\"torch_default_dtype\"] = \"torch.float32\" \n",
    "\n",
    "\n",
    "\n",
    "standalone_parameters[\"x_net\"] =     [\n",
    "    {\"class\": \"nnReshape\", \"kargs\": {\"shape\":[-1, 1, 2, 256]}},\n",
    "    {\"class\": \"Conv2d\", \"kargs\": { \"in_channels\":1, \"out_channels\":256, \"kernel_size\":(1,7), \"bias\":False, \"padding\":(0,3), },},\n",
    "    {\"class\": \"ReLU\", \"kargs\": {\"inplace\": True}},\n",
    "    {\"class\": \"BatchNorm2d\", \"kargs\": {\"num_features\":256}},\n",
    "\n",
    "    {\"class\": \"Conv2d\", \"kargs\": { \"in_channels\":256, \"out_channels\":80, \"kernel_size\":(2,7), \"bias\":True, \"padding\":(0,3), },},\n",
    "    {\"class\": \"ReLU\", \"kargs\": {\"inplace\": True}},\n",
    "    {\"class\": \"BatchNorm2d\", \"kargs\": {\"num_features\":80}},\n",
    "    {\"class\": \"Flatten\", \"kargs\": {}},\n",
    "\n",
    "    {\"class\": \"Linear\", \"kargs\": {\"in_features\": 80*256, \"out_features\": 256}}, # 80 units per IQ pair\n",
    "    {\"class\": \"ReLU\", \"kargs\": {\"inplace\": True}},\n",
    "    {\"class\": \"BatchNorm1d\", \"kargs\": {\"num_features\":256}},\n",
    "\n",
    "    {\"class\": \"Linear\", \"kargs\": {\"in_features\": 256, \"out_features\": 256}},\n",
    "]\n",
    "\n",
    "# Parameters relevant to results\n",
    "# These parameters will basically never need to change\n",
    "standalone_parameters[\"NUM_LOGS_PER_EPOCH\"] = 10\n",
    "standalone_parameters[\"BEST_MODEL_PATH\"] = \"./best_model.pth\"\n",
    "\n",
    "# uncomment for CORES dataset\n",
    "from steves_utils.CORES.utils import (\n",
    "    ALL_NODES,\n",
    "    ALL_NODES_MINIMUM_1000_EXAMPLES,\n",
    "    ALL_DAYS\n",
    ")\n",
    "\n",
    "\n",
    "standalone_parameters[\"labels_source\"] = ALL_NODES\n",
    "standalone_parameters[\"labels_target\"] = ALL_NODES\n",
    "\n",
    "standalone_parameters[\"domains_source\"] = [1]\n",
    "standalone_parameters[\"domains_target\"] = [2,3,4,5]\n",
    "\n",
    "standalone_parameters[\"pickle_name\"] = \"cores.stratified_ds.2022A.pkl\"\n",
    "\n",
    "\n",
    "# Uncomment these for ORACLE dataset\n",
    "# from steves_utils.ORACLE.utils_v2 import (\n",
    "#     ALL_DISTANCES_FEET,\n",
    "#     ALL_RUNS,\n",
    "#     ALL_SERIAL_NUMBERS,\n",
    "# )\n",
    "# standalone_parameters[\"labels_source\"] = ALL_SERIAL_NUMBERS\n",
    "# standalone_parameters[\"labels_target\"] = ALL_SERIAL_NUMBERS\n",
    "# standalone_parameters[\"domains_source\"] = [8,20, 38,50]\n",
    "# standalone_parameters[\"domains_target\"] = [14, 26, 32, 44, 56]\n",
    "# standalone_parameters[\"pickle_name\"] = \"oracle.frame_indexed.stratified_ds.2022A.pkl\"\n",
    "# standalone_parameters[\"num_examples_per_domain_per_label_source\"]=1000\n",
    "# standalone_parameters[\"num_examples_per_domain_per_label_target\"]=1000\n",
    "\n",
    "# Uncomment these for Metahan dataset\n",
    "# standalone_parameters[\"labels_source\"] = list(range(19))\n",
    "# standalone_parameters[\"labels_target\"] = list(range(19))\n",
    "# standalone_parameters[\"domains_source\"] = [0]\n",
    "# standalone_parameters[\"domains_target\"] = [1]\n",
    "# standalone_parameters[\"pickle_name\"] = \"metehan.stratified_ds.2022A.pkl\"\n",
    "# standalone_parameters[\"n_way\"]  = len(standalone_parameters[\"labels_source\"])\n",
    "# standalone_parameters[\"num_examples_per_domain_per_label_source\"]=200\n",
    "# standalone_parameters[\"num_examples_per_domain_per_label_target\"]=100\n",
    "\n",
    "\n",
    "standalone_parameters[\"n_way\"]  = len(standalone_parameters[\"labels_source\"])"
   ]
  },
  {
   "cell_type": "code",
   "execution_count": 4,
   "id": "a6f1e664",
   "metadata": {
    "execution": {
     "iopub.execute_input": "2022-03-04T02:26:21.522041Z",
     "iopub.status.busy": "2022-03-04T02:26:21.520154Z",
     "iopub.status.idle": "2022-03-04T02:26:21.535710Z",
     "shell.execute_reply": "2022-03-04T02:26:21.535469Z"
    },
    "papermill": {
     "duration": 0.031768,
     "end_time": "2022-03-04T02:26:21.535769",
     "exception": false,
     "start_time": "2022-03-04T02:26:21.504001",
     "status": "completed"
    },
    "tags": [
     "injected-parameters"
    ]
   },
   "outputs": [],
   "source": [
    "# Parameters\n",
    "parameters = {\n",
    "    \"experiment_name\": \"seeds_oracle.run2\",\n",
    "    \"lr\": 0.001,\n",
    "    \"device\": \"cuda\",\n",
    "    \"seed\": 12341234,\n",
    "    \"dataset_seed\": 1337,\n",
    "    \"labels_source\": [\n",
    "        \"3123D52\",\n",
    "        \"3123D65\",\n",
    "        \"3123D79\",\n",
    "        \"3123D80\",\n",
    "        \"3123D54\",\n",
    "        \"3123D70\",\n",
    "        \"3123D7B\",\n",
    "        \"3123D89\",\n",
    "        \"3123D58\",\n",
    "        \"3123D76\",\n",
    "        \"3123D7D\",\n",
    "        \"3123EFE\",\n",
    "        \"3123D64\",\n",
    "        \"3123D78\",\n",
    "        \"3123D7E\",\n",
    "        \"3124E4A\",\n",
    "    ],\n",
    "    \"labels_target\": [\n",
    "        \"3123D52\",\n",
    "        \"3123D65\",\n",
    "        \"3123D79\",\n",
    "        \"3123D80\",\n",
    "        \"3123D54\",\n",
    "        \"3123D70\",\n",
    "        \"3123D7B\",\n",
    "        \"3123D89\",\n",
    "        \"3123D58\",\n",
    "        \"3123D76\",\n",
    "        \"3123D7D\",\n",
    "        \"3123EFE\",\n",
    "        \"3123D64\",\n",
    "        \"3123D78\",\n",
    "        \"3123D7E\",\n",
    "        \"3124E4A\",\n",
    "    ],\n",
    "    \"x_transforms_source\": [],\n",
    "    \"x_transforms_target\": [],\n",
    "    \"episode_transforms_source\": [],\n",
    "    \"episode_transforms_target\": [],\n",
    "    \"num_examples_per_domain_per_label_source\": 1000,\n",
    "    \"num_examples_per_domain_per_label_target\": 1000,\n",
    "    \"n_shot\": 3,\n",
    "    \"n_way\": 16,\n",
    "    \"n_query\": 2,\n",
    "    \"train_k_factor\": 1,\n",
    "    \"val_k_factor\": 2,\n",
    "    \"test_k_factor\": 2,\n",
    "    \"torch_default_dtype\": \"torch.float32\",\n",
    "    \"n_epoch\": 50,\n",
    "    \"patience\": 3,\n",
    "    \"criteria_for_best\": \"target_loss\",\n",
    "    \"x_net\": [\n",
    "        {\"class\": \"nnReshape\", \"kargs\": {\"shape\": [-1, 1, 2, 256]}},\n",
    "        {\n",
    "            \"class\": \"Conv2d\",\n",
    "            \"kargs\": {\n",
    "                \"in_channels\": 1,\n",
    "                \"out_channels\": 256,\n",
    "                \"kernel_size\": [1, 7],\n",
    "                \"bias\": False,\n",
    "                \"padding\": [0, 3],\n",
    "            },\n",
    "        },\n",
    "        {\"class\": \"ReLU\", \"kargs\": {\"inplace\": True}},\n",
    "        {\"class\": \"BatchNorm2d\", \"kargs\": {\"num_features\": 256}},\n",
    "        {\n",
    "            \"class\": \"Conv2d\",\n",
    "            \"kargs\": {\n",
    "                \"in_channels\": 256,\n",
    "                \"out_channels\": 80,\n",
    "                \"kernel_size\": [2, 7],\n",
    "                \"bias\": True,\n",
    "                \"padding\": [0, 3],\n",
    "            },\n",
    "        },\n",
    "        {\"class\": \"ReLU\", \"kargs\": {\"inplace\": True}},\n",
    "        {\"class\": \"BatchNorm2d\", \"kargs\": {\"num_features\": 80}},\n",
    "        {\"class\": \"Flatten\", \"kargs\": {}},\n",
    "        {\"class\": \"Linear\", \"kargs\": {\"in_features\": 20480, \"out_features\": 256}},\n",
    "        {\"class\": \"ReLU\", \"kargs\": {\"inplace\": True}},\n",
    "        {\"class\": \"BatchNorm1d\", \"kargs\": {\"num_features\": 256}},\n",
    "        {\"class\": \"Linear\", \"kargs\": {\"in_features\": 256, \"out_features\": 256}},\n",
    "    ],\n",
    "    \"NUM_LOGS_PER_EPOCH\": 10,\n",
    "    \"BEST_MODEL_PATH\": \"./best_model.pth\",\n",
    "    \"pickle_name\": \"oracle.Run2_10kExamples_stratified_ds.2022A.pkl\",\n",
    "    \"domains_source\": [8, 32, 50],\n",
    "    \"domains_target\": [14, 20, 26, 38, 44],\n",
    "}\n"
   ]
  },
  {
   "cell_type": "code",
   "execution_count": 5,
   "id": "8fa1cc33",
   "metadata": {
    "execution": {
     "iopub.execute_input": "2022-03-04T02:26:21.566544Z",
     "iopub.status.busy": "2022-03-04T02:26:21.566281Z",
     "iopub.status.idle": "2022-03-04T02:26:21.578356Z",
     "shell.execute_reply": "2022-03-04T02:26:21.577920Z"
    },
    "papermill": {
     "duration": 0.025245,
     "end_time": "2022-03-04T02:26:21.578458",
     "exception": false,
     "start_time": "2022-03-04T02:26:21.553213",
     "status": "completed"
    },
    "tags": []
   },
   "outputs": [],
   "source": [
    "# Set this to True if you want to run this template directly\n",
    "STANDALONE = False\n",
    "if STANDALONE:\n",
    "    print(\"parameters not injected, running with standalone_parameters\")\n",
    "    parameters = standalone_parameters\n",
    "\n",
    "if not 'parameters' in locals() and not 'parameters' in globals():\n",
    "    raise Exception(\"Parameter injection failed\")\n",
    "\n",
    "#Use an easy dict for all the parameters\n",
    "p = EasyDict(parameters)\n",
    "\n",
    "supplied_keys = set(p.keys())\n",
    "\n",
    "if  supplied_keys != required_parameters:\n",
    "    print(\"Parameters are incorrect\")\n",
    "    if len(supplied_keys - required_parameters)>0: print(\"Shouldn't have:\", str(supplied_keys - required_parameters))\n",
    "    if len(required_parameters - supplied_keys)>0: print(\"Need to have:\", str(required_parameters - supplied_keys))\n",
    "    raise RuntimeError(\"Parameters are incorrect\")\n",
    "\n"
   ]
  },
  {
   "cell_type": "code",
   "execution_count": 6,
   "id": "3a028d58",
   "metadata": {
    "execution": {
     "iopub.execute_input": "2022-03-04T02:26:21.604639Z",
     "iopub.status.busy": "2022-03-04T02:26:21.604373Z",
     "iopub.status.idle": "2022-03-04T02:26:21.619235Z",
     "shell.execute_reply": "2022-03-04T02:26:21.618790Z"
    },
    "papermill": {
     "duration": 0.026777,
     "end_time": "2022-03-04T02:26:21.619341",
     "exception": false,
     "start_time": "2022-03-04T02:26:21.592564",
     "status": "completed"
    },
    "tags": []
   },
   "outputs": [],
   "source": [
    "###################################\n",
    "# Set the RNGs and make it all deterministic\n",
    "###################################\n",
    "np.random.seed(p.seed)\n",
    "random.seed(p.seed)\n",
    "torch.manual_seed(p.seed)\n",
    "\n",
    "torch.use_deterministic_algorithms(True) "
   ]
  },
  {
   "cell_type": "code",
   "execution_count": 7,
   "id": "b691acf6",
   "metadata": {
    "execution": {
     "iopub.execute_input": "2022-03-04T02:26:21.648126Z",
     "iopub.status.busy": "2022-03-04T02:26:21.647526Z",
     "iopub.status.idle": "2022-03-04T02:26:21.658750Z",
     "shell.execute_reply": "2022-03-04T02:26:21.658978Z"
    },
    "papermill": {
     "duration": 0.023782,
     "end_time": "2022-03-04T02:26:21.659060",
     "exception": false,
     "start_time": "2022-03-04T02:26:21.635278",
     "status": "completed"
    },
    "tags": []
   },
   "outputs": [],
   "source": [
    "###########################################\n",
    "# The stratified datasets honor this\n",
    "###########################################\n",
    "torch.set_default_dtype(eval(p.torch_default_dtype))"
   ]
  },
  {
   "cell_type": "code",
   "execution_count": 8,
   "id": "b5fba671",
   "metadata": {
    "execution": {
     "iopub.execute_input": "2022-03-04T02:26:21.680996Z",
     "iopub.status.busy": "2022-03-04T02:26:21.680474Z",
     "iopub.status.idle": "2022-03-04T02:26:21.720199Z",
     "shell.execute_reply": "2022-03-04T02:26:21.720631Z"
    },
    "papermill": {
     "duration": 0.051694,
     "end_time": "2022-03-04T02:26:21.720766",
     "exception": false,
     "start_time": "2022-03-04T02:26:21.669072",
     "status": "completed"
    },
    "tags": []
   },
   "outputs": [],
   "source": [
    "###################################\n",
    "# Build the network(s)\n",
    "# Note: It's critical to do this AFTER setting the RNG\n",
    "# (This is due to the randomized initial weights)\n",
    "###################################\n",
    "x_net = build_sequential(p.x_net)"
   ]
  },
  {
   "cell_type": "code",
   "execution_count": 9,
   "id": "5d7e61cc",
   "metadata": {
    "execution": {
     "iopub.execute_input": "2022-03-04T02:26:21.748122Z",
     "iopub.status.busy": "2022-03-04T02:26:21.747862Z",
     "iopub.status.idle": "2022-03-04T02:26:21.760441Z",
     "shell.execute_reply": "2022-03-04T02:26:21.760848Z"
    },
    "papermill": {
     "duration": 0.024985,
     "end_time": "2022-03-04T02:26:21.760972",
     "exception": false,
     "start_time": "2022-03-04T02:26:21.735987",
     "status": "completed"
    },
    "tags": []
   },
   "outputs": [],
   "source": [
    "start_time_secs = time.time()"
   ]
  },
  {
   "cell_type": "code",
   "execution_count": 10,
   "id": "fd5442bc",
   "metadata": {
    "execution": {
     "iopub.execute_input": "2022-03-04T02:26:21.794964Z",
     "iopub.status.busy": "2022-03-04T02:26:21.787168Z",
     "iopub.status.idle": "2022-03-04T02:26:24.980934Z",
     "shell.execute_reply": "2022-03-04T02:26:24.981258Z"
    },
    "papermill": {
     "duration": 3.205261,
     "end_time": "2022-03-04T02:26:24.981364",
     "exception": false,
     "start_time": "2022-03-04T02:26:21.776103",
     "status": "completed"
    },
    "tags": []
   },
   "outputs": [],
   "source": [
    "###################################\n",
    "# Build the dataset\n",
    "###################################\n",
    "\n",
    "if p.x_transforms_source == []: x_transform_source = None\n",
    "else: x_transform_source = get_chained_transform(p.x_transforms_source) \n",
    "\n",
    "if p.x_transforms_target == []: x_transform_target = None\n",
    "else: x_transform_target = get_chained_transform(p.x_transforms_target)\n",
    "\n",
    "if p.episode_transforms_source == []: episode_transform_source = None\n",
    "else: raise Exception(\"episode_transform_source not implemented\")\n",
    "\n",
    "if p.episode_transforms_target == []: episode_transform_target = None\n",
    "else: raise Exception(\"episode_transform_target not implemented\")\n",
    "\n",
    "\n",
    "eaf_source = Episodic_Accessor_Factory(\n",
    "    labels=p.labels_source,\n",
    "    domains=p.domains_source,\n",
    "    num_examples_per_domain_per_label=p.num_examples_per_domain_per_label_source,\n",
    "    iterator_seed=p.seed,\n",
    "    dataset_seed=p.dataset_seed,\n",
    "    n_shot=p.n_shot,\n",
    "    n_way=p.n_way,\n",
    "    n_query=p.n_query,\n",
    "    train_val_test_k_factors=(p.train_k_factor,p.val_k_factor,p.test_k_factor),\n",
    "    pickle_path=os.path.join(get_datasets_base_path(), p.pickle_name),\n",
    "    x_transform_func=x_transform_source,\n",
    "    example_transform_func=episode_transform_source,\n",
    "    \n",
    ")\n",
    "train_original_source, val_original_source, test_original_source = eaf_source.get_train(), eaf_source.get_val(), eaf_source.get_test()\n",
    "\n",
    "\n",
    "eaf_target = Episodic_Accessor_Factory(\n",
    "    labels=p.labels_target,\n",
    "    domains=p.domains_target,\n",
    "    num_examples_per_domain_per_label=p.num_examples_per_domain_per_label_target,\n",
    "    iterator_seed=p.seed,\n",
    "    dataset_seed=p.dataset_seed,\n",
    "    n_shot=p.n_shot,\n",
    "    n_way=p.n_way,\n",
    "    n_query=p.n_query,\n",
    "    train_val_test_k_factors=(p.train_k_factor,p.val_k_factor,p.test_k_factor),\n",
    "    pickle_path=os.path.join(get_datasets_base_path(), p.pickle_name),\n",
    "    x_transform_func=x_transform_target,\n",
    "    example_transform_func=episode_transform_target,\n",
    ")\n",
    "train_original_target, val_original_target, test_original_target = eaf_target.get_train(), eaf_target.get_val(), eaf_target.get_test()\n",
    "\n",
    "\n",
    "transform_lambda = lambda ex: ex[1] # Original is (<domain>, <episode>) so we strip down to episode only\n",
    "\n",
    "train_processed_source = Lazy_Iterable_Wrapper(train_original_source, transform_lambda)\n",
    "val_processed_source   = Lazy_Iterable_Wrapper(val_original_source, transform_lambda)\n",
    "test_processed_source  = Lazy_Iterable_Wrapper(test_original_source, transform_lambda)\n",
    "\n",
    "train_processed_target = Lazy_Iterable_Wrapper(train_original_target, transform_lambda)\n",
    "val_processed_target   = Lazy_Iterable_Wrapper(val_original_target, transform_lambda)\n",
    "test_processed_target  = Lazy_Iterable_Wrapper(test_original_target, transform_lambda)\n",
    "\n",
    "datasets = EasyDict({\n",
    "    \"source\": {\n",
    "        \"original\": {\"train\":train_original_source, \"val\":val_original_source, \"test\":test_original_source},\n",
    "        \"processed\": {\"train\":train_processed_source, \"val\":val_processed_source, \"test\":test_processed_source}\n",
    "    },\n",
    "    \"target\": {\n",
    "        \"original\": {\"train\":train_original_target, \"val\":val_original_target, \"test\":test_original_target},\n",
    "        \"processed\": {\"train\":train_processed_target, \"val\":val_processed_target, \"test\":test_processed_target}\n",
    "    },\n",
    "})"
   ]
  },
  {
   "cell_type": "code",
   "execution_count": 11,
   "id": "296189d9",
   "metadata": {
    "execution": {
     "iopub.execute_input": "2022-03-04T02:26:25.011019Z",
     "iopub.status.busy": "2022-03-04T02:26:25.010451Z",
     "iopub.status.idle": "2022-03-04T02:26:27.759231Z",
     "shell.execute_reply": "2022-03-04T02:26:27.759629Z"
    },
    "papermill": {
     "duration": 2.764045,
     "end_time": "2022-03-04T02:26:27.759778",
     "exception": false,
     "start_time": "2022-03-04T02:26:24.995733",
     "status": "completed"
    },
    "tags": []
   },
   "outputs": [
    {
     "name": "stdout",
     "output_type": "stream",
     "text": [
      "Visually inspect these to see if they line up with expected values given the transforms\n",
      "x_transforms_source []\n",
      "x_transforms_target []\n",
      "Average magnitude, source: 0.0022560963\n",
      "Average power, source: 6.4779515e-06\n"
     ]
    },
    {
     "name": "stdout",
     "output_type": "stream",
     "text": [
      "Average magnitude, target: 0.0013172686\n",
      "Average power, target: 2.25026e-06\n"
     ]
    }
   ],
   "source": [
    "# Some quick unit tests on the data\n",
    "from steves_utils.transforms import get_average_power, get_average_magnitude\n",
    "\n",
    "q_x, q_y, s_x, s_y, truth = next(iter(train_processed_source))\n",
    "\n",
    "assert q_x.dtype == eval(p.torch_default_dtype)\n",
    "assert s_x.dtype == eval(p.torch_default_dtype)\n",
    "\n",
    "print(\"Visually inspect these to see if they line up with expected values given the transforms\")\n",
    "print('x_transforms_source', p.x_transforms_source)\n",
    "print('x_transforms_target', p.x_transforms_target)\n",
    "print(\"Average magnitude, source:\", get_average_magnitude(q_x[0].numpy()))\n",
    "print(\"Average power, source:\", get_average_power(q_x[0].numpy()))\n",
    "\n",
    "q_x, q_y, s_x, s_y, truth = next(iter(train_processed_target))\n",
    "print(\"Average magnitude, target:\", get_average_magnitude(q_x[0].numpy()))\n",
    "print(\"Average power, target:\", get_average_power(q_x[0].numpy()))\n"
   ]
  },
  {
   "cell_type": "code",
   "execution_count": 12,
   "id": "bbdacba1",
   "metadata": {
    "execution": {
     "iopub.execute_input": "2022-03-04T02:26:27.789760Z",
     "iopub.status.busy": "2022-03-04T02:26:27.789502Z",
     "iopub.status.idle": "2022-03-04T02:26:27.850366Z",
     "shell.execute_reply": "2022-03-04T02:26:27.850777Z"
    },
    "papermill": {
     "duration": 0.074785,
     "end_time": "2022-03-04T02:26:27.850912",
     "exception": false,
     "start_time": "2022-03-04T02:26:27.776127",
     "status": "completed"
    },
    "tags": []
   },
   "outputs": [
    {
     "name": "stdout",
     "output_type": "stream",
     "text": [
      "(2, 256)\n"
     ]
    }
   ],
   "source": [
    "###################################\n",
    "# Build the model\n",
    "###################################\n",
    "model = Steves_Prototypical_Network(x_net, device=p.device, x_shape=(2,256))\n",
    "optimizer = Adam(params=model.parameters(), lr=p.lr)"
   ]
  },
  {
   "cell_type": "code",
   "execution_count": 13,
   "id": "22b39ac5",
   "metadata": {
    "execution": {
     "iopub.execute_input": "2022-03-04T02:26:27.880789Z",
     "iopub.status.busy": "2022-03-04T02:26:27.880519Z",
     "iopub.status.idle": "2022-03-04T02:34:59.258208Z",
     "shell.execute_reply": "2022-03-04T02:34:59.258430Z"
    },
    "papermill": {
     "duration": 511.391964,
     "end_time": "2022-03-04T02:34:59.258512",
     "exception": false,
     "start_time": "2022-03-04T02:26:27.866548",
     "status": "completed"
    },
    "tags": []
   },
   "outputs": [
    {
     "name": "stdout",
     "output_type": "stream",
     "text": [
      "epoch: 1, [batch: 1 / 420], examples_per_second: 9.4365, train_label_loss: 2.2879, \n"
     ]
    },
    {
     "name": "stdout",
     "output_type": "stream",
     "text": [
      "epoch: 1, [batch: 42 / 420], examples_per_second: 749.0482, train_label_loss: 1.4252, \n"
     ]
    },
    {
     "name": "stdout",
     "output_type": "stream",
     "text": [
      "epoch: 1, [batch: 84 / 420], examples_per_second: 803.9964, train_label_loss: 1.3788, \n"
     ]
    },
    {
     "name": "stdout",
     "output_type": "stream",
     "text": [
      "epoch: 1, [batch: 126 / 420], examples_per_second: 934.6929, train_label_loss: 1.0074, \n"
     ]
    },
    {
     "name": "stdout",
     "output_type": "stream",
     "text": [
      "epoch: 1, [batch: 168 / 420], examples_per_second: 1077.8825, train_label_loss: 1.0986, \n"
     ]
    },
    {
     "name": "stdout",
     "output_type": "stream",
     "text": [
      "epoch: 1, [batch: 210 / 420], examples_per_second: 1185.9725, train_label_loss: 1.0613, \n"
     ]
    },
    {
     "name": "stdout",
     "output_type": "stream",
     "text": [
      "epoch: 1, [batch: 252 / 420], examples_per_second: 1358.2650, train_label_loss: 1.2325, \n"
     ]
    },
    {
     "name": "stdout",
     "output_type": "stream",
     "text": [
      "epoch: 1, [batch: 294 / 420], examples_per_second: 1578.0651, train_label_loss: 1.1679, \n"
     ]
    },
    {
     "name": "stdout",
     "output_type": "stream",
     "text": [
      "epoch: 1, [batch: 336 / 420], examples_per_second: 1841.2026, train_label_loss: 1.0745, \n"
     ]
    },
    {
     "name": "stdout",
     "output_type": "stream",
     "text": [
      "epoch: 1, [batch: 378 / 420], examples_per_second: 2219.8779, train_label_loss: 1.2028, \n"
     ]
    },
    {
     "name": "stdout",
     "output_type": "stream",
     "text": [
      "=============================================================\n",
      "epoch: 1, source_val_acc_label: 0.4714, target_val_acc_label: 0.3787, source_val_label_loss: 1.7111, target_val_label_loss: 2.1151, \n",
      "=============================================================\n"
     ]
    },
    {
     "name": "stdout",
     "output_type": "stream",
     "text": [
      "New best\n"
     ]
    },
    {
     "name": "stdout",
     "output_type": "stream",
     "text": [
      "epoch: 2, [batch: 1 / 420], examples_per_second: 5.2639, train_label_loss: 1.0780, \n"
     ]
    },
    {
     "name": "stdout",
     "output_type": "stream",
     "text": [
      "epoch: 2, [batch: 42 / 420], examples_per_second: 828.9110, train_label_loss: 1.7747, \n"
     ]
    },
    {
     "name": "stdout",
     "output_type": "stream",
     "text": [
      "epoch: 2, [batch: 84 / 420], examples_per_second: 893.3820, train_label_loss: 0.9493, \n"
     ]
    },
    {
     "name": "stdout",
     "output_type": "stream",
     "text": [
      "epoch: 2, [batch: 126 / 420], examples_per_second: 939.3685, train_label_loss: 1.4492, \n"
     ]
    },
    {
     "name": "stdout",
     "output_type": "stream",
     "text": [
      "epoch: 2, [batch: 168 / 420], examples_per_second: 1055.2593, train_label_loss: 1.1988, \n"
     ]
    },
    {
     "name": "stdout",
     "output_type": "stream",
     "text": [
      "epoch: 2, [batch: 210 / 420], examples_per_second: 1199.1424, train_label_loss: 1.3379, \n"
     ]
    },
    {
     "name": "stdout",
     "output_type": "stream",
     "text": [
      "epoch: 2, [batch: 252 / 420], examples_per_second: 1366.5785, train_label_loss: 1.3264, \n"
     ]
    },
    {
     "name": "stdout",
     "output_type": "stream",
     "text": [
      "epoch: 2, [batch: 294 / 420], examples_per_second: 1594.1015, train_label_loss: 1.1887, \n"
     ]
    },
    {
     "name": "stdout",
     "output_type": "stream",
     "text": [
      "epoch: 2, [batch: 336 / 420], examples_per_second: 1843.7254, train_label_loss: 1.1486, \n"
     ]
    },
    {
     "name": "stdout",
     "output_type": "stream",
     "text": [
      "epoch: 2, [batch: 378 / 420], examples_per_second: 2294.7531, train_label_loss: 1.3057, \n"
     ]
    },
    {
     "name": "stdout",
     "output_type": "stream",
     "text": [
      "=============================================================\n",
      "epoch: 2, source_val_acc_label: 0.4825, target_val_acc_label: 0.3831, source_val_label_loss: 1.2868, target_val_label_loss: 1.7473, \n",
      "=============================================================\n"
     ]
    },
    {
     "name": "stdout",
     "output_type": "stream",
     "text": [
      "New best\n"
     ]
    },
    {
     "name": "stdout",
     "output_type": "stream",
     "text": [
      "epoch: 3, [batch: 1 / 420], examples_per_second: 5.2377, train_label_loss: 0.9791, \n"
     ]
    },
    {
     "name": "stdout",
     "output_type": "stream",
     "text": [
      "epoch: 3, [batch: 42 / 420], examples_per_second: 758.3232, train_label_loss: 1.1220, \n"
     ]
    },
    {
     "name": "stdout",
     "output_type": "stream",
     "text": [
      "epoch: 3, [batch: 84 / 420], examples_per_second: 771.9891, train_label_loss: 1.2575, \n"
     ]
    },
    {
     "name": "stdout",
     "output_type": "stream",
     "text": [
      "epoch: 3, [batch: 126 / 420], examples_per_second: 955.6319, train_label_loss: 1.1565, \n"
     ]
    },
    {
     "name": "stdout",
     "output_type": "stream",
     "text": [
      "epoch: 3, [batch: 168 / 420], examples_per_second: 992.2409, train_label_loss: 1.4832, \n"
     ]
    },
    {
     "name": "stdout",
     "output_type": "stream",
     "text": [
      "epoch: 3, [batch: 210 / 420], examples_per_second: 1130.3791, train_label_loss: 1.3042, \n"
     ]
    },
    {
     "name": "stdout",
     "output_type": "stream",
     "text": [
      "epoch: 3, [batch: 252 / 420], examples_per_second: 1368.3187, train_label_loss: 0.4963, \n"
     ]
    },
    {
     "name": "stdout",
     "output_type": "stream",
     "text": [
      "epoch: 3, [batch: 294 / 420], examples_per_second: 1543.1246, train_label_loss: 1.0745, \n"
     ]
    },
    {
     "name": "stdout",
     "output_type": "stream",
     "text": [
      "epoch: 3, [batch: 336 / 420], examples_per_second: 1851.0966, train_label_loss: 1.2759, \n"
     ]
    },
    {
     "name": "stdout",
     "output_type": "stream",
     "text": [
      "epoch: 3, [batch: 378 / 420], examples_per_second: 2264.3463, train_label_loss: 0.5841, \n"
     ]
    },
    {
     "name": "stdout",
     "output_type": "stream",
     "text": [
      "=============================================================\n",
      "epoch: 3, source_val_acc_label: 0.7078, target_val_acc_label: 0.5451, source_val_label_loss: 0.7799, target_val_label_loss: 1.4479, \n",
      "=============================================================\n"
     ]
    },
    {
     "name": "stdout",
     "output_type": "stream",
     "text": [
      "New best\n"
     ]
    },
    {
     "name": "stdout",
     "output_type": "stream",
     "text": [
      "epoch: 4, [batch: 1 / 420], examples_per_second: 5.2465, train_label_loss: 0.4393, \n"
     ]
    },
    {
     "name": "stdout",
     "output_type": "stream",
     "text": [
      "epoch: 4, [batch: 42 / 420], examples_per_second: 750.9413, train_label_loss: 0.4558, \n"
     ]
    },
    {
     "name": "stdout",
     "output_type": "stream",
     "text": [
      "epoch: 4, [batch: 84 / 420], examples_per_second: 791.3814, train_label_loss: 0.7847, \n"
     ]
    },
    {
     "name": "stdout",
     "output_type": "stream",
     "text": [
      "epoch: 4, [batch: 126 / 420], examples_per_second: 951.5756, train_label_loss: 0.9771, \n"
     ]
    },
    {
     "name": "stdout",
     "output_type": "stream",
     "text": [
      "epoch: 4, [batch: 168 / 420], examples_per_second: 996.0192, train_label_loss: 0.8285, \n"
     ]
    },
    {
     "name": "stdout",
     "output_type": "stream",
     "text": [
      "epoch: 4, [batch: 210 / 420], examples_per_second: 1148.2180, train_label_loss: 0.4243, \n"
     ]
    },
    {
     "name": "stdout",
     "output_type": "stream",
     "text": [
      "epoch: 4, [batch: 252 / 420], examples_per_second: 1359.3314, train_label_loss: 0.5877, \n"
     ]
    },
    {
     "name": "stdout",
     "output_type": "stream",
     "text": [
      "epoch: 4, [batch: 294 / 420], examples_per_second: 1576.3702, train_label_loss: 0.6808, \n"
     ]
    },
    {
     "name": "stdout",
     "output_type": "stream",
     "text": [
      "epoch: 4, [batch: 336 / 420], examples_per_second: 1848.3968, train_label_loss: 0.5276, \n"
     ]
    },
    {
     "name": "stdout",
     "output_type": "stream",
     "text": [
      "epoch: 4, [batch: 378 / 420], examples_per_second: 2195.1033, train_label_loss: 0.4241, \n"
     ]
    },
    {
     "name": "stdout",
     "output_type": "stream",
     "text": [
      "=============================================================\n",
      "epoch: 4, source_val_acc_label: 0.7354, target_val_acc_label: 0.5621, source_val_label_loss: 0.7152, target_val_label_loss: 1.3420, \n",
      "=============================================================\n"
     ]
    },
    {
     "name": "stdout",
     "output_type": "stream",
     "text": [
      "New best\n"
     ]
    },
    {
     "name": "stdout",
     "output_type": "stream",
     "text": [
      "epoch: 5, [batch: 1 / 420], examples_per_second: 5.2375, train_label_loss: 1.2582, \n"
     ]
    },
    {
     "name": "stdout",
     "output_type": "stream",
     "text": [
      "epoch: 5, [batch: 42 / 420], examples_per_second: 730.6225, train_label_loss: 0.8410, \n"
     ]
    },
    {
     "name": "stdout",
     "output_type": "stream",
     "text": [
      "epoch: 5, [batch: 84 / 420], examples_per_second: 796.2933, train_label_loss: 0.6219, \n"
     ]
    },
    {
     "name": "stdout",
     "output_type": "stream",
     "text": [
      "epoch: 5, [batch: 126 / 420], examples_per_second: 949.8558, train_label_loss: 0.3978, \n"
     ]
    },
    {
     "name": "stdout",
     "output_type": "stream",
     "text": [
      "epoch: 5, [batch: 168 / 420], examples_per_second: 982.0664, train_label_loss: 1.0440, \n"
     ]
    },
    {
     "name": "stdout",
     "output_type": "stream",
     "text": [
      "epoch: 5, [batch: 210 / 420], examples_per_second: 1158.6042, train_label_loss: 0.9982, \n"
     ]
    },
    {
     "name": "stdout",
     "output_type": "stream",
     "text": [
      "epoch: 5, [batch: 252 / 420], examples_per_second: 1353.5637, train_label_loss: 0.6922, \n"
     ]
    },
    {
     "name": "stdout",
     "output_type": "stream",
     "text": [
      "epoch: 5, [batch: 294 / 420], examples_per_second: 1563.9675, train_label_loss: 0.7675, \n"
     ]
    },
    {
     "name": "stdout",
     "output_type": "stream",
     "text": [
      "epoch: 5, [batch: 336 / 420], examples_per_second: 1783.8245, train_label_loss: 0.3972, \n"
     ]
    },
    {
     "name": "stdout",
     "output_type": "stream",
     "text": [
      "epoch: 5, [batch: 378 / 420], examples_per_second: 2208.8903, train_label_loss: 0.3343, \n"
     ]
    },
    {
     "name": "stdout",
     "output_type": "stream",
     "text": [
      "=============================================================\n",
      "epoch: 5, source_val_acc_label: 0.7545, target_val_acc_label: 0.5886, source_val_label_loss: 0.6386, target_val_label_loss: 1.2329, \n",
      "=============================================================\n"
     ]
    },
    {
     "name": "stdout",
     "output_type": "stream",
     "text": [
      "New best\n"
     ]
    },
    {
     "name": "stdout",
     "output_type": "stream",
     "text": [
      "epoch: 6, [batch: 1 / 420], examples_per_second: 5.2313, train_label_loss: 0.6570, \n"
     ]
    },
    {
     "name": "stdout",
     "output_type": "stream",
     "text": [
      "epoch: 6, [batch: 42 / 420], examples_per_second: 735.8541, train_label_loss: 0.8988, \n"
     ]
    },
    {
     "name": "stdout",
     "output_type": "stream",
     "text": [
      "epoch: 6, [batch: 84 / 420], examples_per_second: 797.7432, train_label_loss: 0.7996, \n"
     ]
    },
    {
     "name": "stdout",
     "output_type": "stream",
     "text": [
      "epoch: 6, [batch: 126 / 420], examples_per_second: 940.3872, train_label_loss: 0.7197, \n"
     ]
    },
    {
     "name": "stdout",
     "output_type": "stream",
     "text": [
      "epoch: 6, [batch: 168 / 420], examples_per_second: 974.4173, train_label_loss: 0.3821, \n"
     ]
    },
    {
     "name": "stdout",
     "output_type": "stream",
     "text": [
      "epoch: 6, [batch: 210 / 420], examples_per_second: 1153.5459, train_label_loss: 0.7295, \n"
     ]
    },
    {
     "name": "stdout",
     "output_type": "stream",
     "text": [
      "epoch: 6, [batch: 252 / 420], examples_per_second: 1361.1471, train_label_loss: 0.6516, \n"
     ]
    },
    {
     "name": "stdout",
     "output_type": "stream",
     "text": [
      "epoch: 6, [batch: 294 / 420], examples_per_second: 1556.8005, train_label_loss: 0.2495, \n"
     ]
    },
    {
     "name": "stdout",
     "output_type": "stream",
     "text": [
      "epoch: 6, [batch: 336 / 420], examples_per_second: 1832.0664, train_label_loss: 0.5288, \n"
     ]
    },
    {
     "name": "stdout",
     "output_type": "stream",
     "text": [
      "epoch: 6, [batch: 378 / 420], examples_per_second: 2242.6535, train_label_loss: 0.5794, \n"
     ]
    },
    {
     "name": "stdout",
     "output_type": "stream",
     "text": [
      "=============================================================\n",
      "epoch: 6, source_val_acc_label: 0.7708, target_val_acc_label: 0.6011, source_val_label_loss: 0.6151, target_val_label_loss: 1.2530, \n",
      "=============================================================\n"
     ]
    },
    {
     "name": "stdout",
     "output_type": "stream",
     "text": [
      "epoch: 7, [batch: 1 / 420], examples_per_second: 5.2588, train_label_loss: 0.6207, \n"
     ]
    },
    {
     "name": "stdout",
     "output_type": "stream",
     "text": [
      "epoch: 7, [batch: 42 / 420], examples_per_second: 742.1873, train_label_loss: 0.2561, \n"
     ]
    },
    {
     "name": "stdout",
     "output_type": "stream",
     "text": [
      "epoch: 7, [batch: 84 / 420], examples_per_second: 794.4656, train_label_loss: 0.5187, \n"
     ]
    },
    {
     "name": "stdout",
     "output_type": "stream",
     "text": [
      "epoch: 7, [batch: 126 / 420], examples_per_second: 944.1361, train_label_loss: 0.3891, \n"
     ]
    },
    {
     "name": "stdout",
     "output_type": "stream",
     "text": [
      "epoch: 7, [batch: 168 / 420], examples_per_second: 988.6090, train_label_loss: 0.2532, \n"
     ]
    },
    {
     "name": "stdout",
     "output_type": "stream",
     "text": [
      "epoch: 7, [batch: 210 / 420], examples_per_second: 1152.3409, train_label_loss: 0.3723, \n"
     ]
    },
    {
     "name": "stdout",
     "output_type": "stream",
     "text": [
      "epoch: 7, [batch: 252 / 420], examples_per_second: 1366.0355, train_label_loss: 0.2438, \n"
     ]
    },
    {
     "name": "stdout",
     "output_type": "stream",
     "text": [
      "epoch: 7, [batch: 294 / 420], examples_per_second: 1575.9390, train_label_loss: 0.5201, \n"
     ]
    },
    {
     "name": "stdout",
     "output_type": "stream",
     "text": [
      "epoch: 7, [batch: 336 / 420], examples_per_second: 1870.4903, train_label_loss: 0.6084, \n"
     ]
    },
    {
     "name": "stdout",
     "output_type": "stream",
     "text": [
      "epoch: 7, [batch: 378 / 420], examples_per_second: 2178.4628, train_label_loss: 0.6887, \n"
     ]
    },
    {
     "name": "stdout",
     "output_type": "stream",
     "text": [
      "=============================================================\n",
      "epoch: 7, source_val_acc_label: 0.7693, target_val_acc_label: 0.6046, source_val_label_loss: 0.6197, target_val_label_loss: 1.3174, \n",
      "=============================================================\n"
     ]
    },
    {
     "name": "stdout",
     "output_type": "stream",
     "text": [
      "epoch: 8, [batch: 1 / 420], examples_per_second: 5.2290, train_label_loss: 0.5690, \n"
     ]
    },
    {
     "name": "stdout",
     "output_type": "stream",
     "text": [
      "epoch: 8, [batch: 42 / 420], examples_per_second: 742.9666, train_label_loss: 0.6723, \n"
     ]
    },
    {
     "name": "stdout",
     "output_type": "stream",
     "text": [
      "epoch: 8, [batch: 84 / 420], examples_per_second: 795.9584, train_label_loss: 0.4564, \n"
     ]
    },
    {
     "name": "stdout",
     "output_type": "stream",
     "text": [
      "epoch: 8, [batch: 126 / 420], examples_per_second: 944.2427, train_label_loss: 0.1180, \n"
     ]
    },
    {
     "name": "stdout",
     "output_type": "stream",
     "text": [
      "epoch: 8, [batch: 168 / 420], examples_per_second: 987.8775, train_label_loss: 0.6837, \n"
     ]
    },
    {
     "name": "stdout",
     "output_type": "stream",
     "text": [
      "epoch: 8, [batch: 210 / 420], examples_per_second: 1171.6177, train_label_loss: 0.3750, \n"
     ]
    },
    {
     "name": "stdout",
     "output_type": "stream",
     "text": [
      "epoch: 8, [batch: 252 / 420], examples_per_second: 1345.3057, train_label_loss: 0.6728, \n"
     ]
    },
    {
     "name": "stdout",
     "output_type": "stream",
     "text": [
      "epoch: 8, [batch: 294 / 420], examples_per_second: 1544.8708, train_label_loss: 0.8353, \n"
     ]
    },
    {
     "name": "stdout",
     "output_type": "stream",
     "text": [
      "epoch: 8, [batch: 336 / 420], examples_per_second: 1832.5527, train_label_loss: 0.5902, \n"
     ]
    },
    {
     "name": "stdout",
     "output_type": "stream",
     "text": [
      "epoch: 8, [batch: 378 / 420], examples_per_second: 2238.6187, train_label_loss: 0.3825, \n"
     ]
    },
    {
     "name": "stdout",
     "output_type": "stream",
     "text": [
      "=============================================================\n",
      "epoch: 8, source_val_acc_label: 0.7708, target_val_acc_label: 0.6099, source_val_label_loss: 0.6311, target_val_label_loss: 1.3293, \n",
      "=============================================================\n"
     ]
    },
    {
     "name": "stdout",
     "output_type": "stream",
     "text": [
      "epoch: 9, [batch: 1 / 420], examples_per_second: 5.2065, train_label_loss: 0.4896, \n"
     ]
    },
    {
     "name": "stdout",
     "output_type": "stream",
     "text": [
      "epoch: 9, [batch: 42 / 420], examples_per_second: 713.3086, train_label_loss: 0.4424, \n"
     ]
    },
    {
     "name": "stdout",
     "output_type": "stream",
     "text": [
      "epoch: 9, [batch: 84 / 420], examples_per_second: 802.9068, train_label_loss: 0.4534, \n"
     ]
    },
    {
     "name": "stdout",
     "output_type": "stream",
     "text": [
      "epoch: 9, [batch: 126 / 420], examples_per_second: 950.1785, train_label_loss: 0.4991, \n"
     ]
    },
    {
     "name": "stdout",
     "output_type": "stream",
     "text": [
      "epoch: 9, [batch: 168 / 420], examples_per_second: 961.8370, train_label_loss: 0.6761, \n"
     ]
    },
    {
     "name": "stdout",
     "output_type": "stream",
     "text": [
      "epoch: 9, [batch: 210 / 420], examples_per_second: 1188.0225, train_label_loss: 0.3716, \n"
     ]
    },
    {
     "name": "stdout",
     "output_type": "stream",
     "text": [
      "epoch: 9, [batch: 252 / 420], examples_per_second: 1370.3668, train_label_loss: 0.6565, \n"
     ]
    },
    {
     "name": "stdout",
     "output_type": "stream",
     "text": [
      "epoch: 9, [batch: 294 / 420], examples_per_second: 1549.9664, train_label_loss: 0.2609, \n"
     ]
    },
    {
     "name": "stdout",
     "output_type": "stream",
     "text": [
      "epoch: 9, [batch: 336 / 420], examples_per_second: 1860.8171, train_label_loss: 0.5895, \n"
     ]
    },
    {
     "name": "stdout",
     "output_type": "stream",
     "text": [
      "epoch: 9, [batch: 378 / 420], examples_per_second: 2268.6008, train_label_loss: 0.5214, \n"
     ]
    },
    {
     "name": "stdout",
     "output_type": "stream",
     "text": [
      "=============================================================\n",
      "epoch: 9, source_val_acc_label: 0.7661, target_val_acc_label: 0.6100, source_val_label_loss: 0.6376, target_val_label_loss: 1.3341, \n",
      "=============================================================\n"
     ]
    },
    {
     "name": "stdout",
     "output_type": "stream",
     "text": [
      "Patience (3) exhausted\n"
     ]
    }
   ],
   "source": [
    "###################################\n",
    "# train\n",
    "###################################\n",
    "jig = PTN_Train_Eval_Test_Jig(model, p.BEST_MODEL_PATH, p.device)\n",
    "\n",
    "jig.train(\n",
    "    train_iterable=datasets.source.processed.train,\n",
    "    source_val_iterable=datasets.source.processed.val,\n",
    "    target_val_iterable=datasets.target.processed.val,\n",
    "    num_epochs=p.n_epoch,\n",
    "    num_logs_per_epoch=p.NUM_LOGS_PER_EPOCH,\n",
    "    patience=p.patience,\n",
    "    optimizer=optimizer,\n",
    "    criteria_for_best=p.criteria_for_best,\n",
    ")"
   ]
  },
  {
   "cell_type": "code",
   "execution_count": 14,
   "id": "31e8fabf",
   "metadata": {
    "execution": {
     "iopub.execute_input": "2022-03-04T02:34:59.322613Z",
     "iopub.status.busy": "2022-03-04T02:34:59.322353Z",
     "iopub.status.idle": "2022-03-04T02:34:59.338664Z",
     "shell.execute_reply": "2022-03-04T02:34:59.339083Z"
    },
    "papermill": {
     "duration": 0.050051,
     "end_time": "2022-03-04T02:34:59.339219",
     "exception": false,
     "start_time": "2022-03-04T02:34:59.289168",
     "status": "completed"
    },
    "tags": []
   },
   "outputs": [],
   "source": [
    "total_experiment_time_secs = time.time() - start_time_secs"
   ]
  },
  {
   "cell_type": "code",
   "execution_count": 15,
   "id": "87b9595b",
   "metadata": {
    "execution": {
     "iopub.execute_input": "2022-03-04T02:34:59.408927Z",
     "iopub.status.busy": "2022-03-04T02:34:59.408645Z",
     "iopub.status.idle": "2022-03-04T02:36:33.975768Z",
     "shell.execute_reply": "2022-03-04T02:36:33.975990Z"
    },
    "papermill": {
     "duration": 94.601417,
     "end_time": "2022-03-04T02:36:33.976078",
     "exception": false,
     "start_time": "2022-03-04T02:34:59.374661",
     "status": "completed"
    },
    "tags": []
   },
   "outputs": [],
   "source": [
    "###################################\n",
    "# Evaluate the model\n",
    "###################################\n",
    "source_test_label_accuracy, source_test_label_loss = jig.test(datasets.source.processed.test)\n",
    "target_test_label_accuracy, target_test_label_loss = jig.test(datasets.target.processed.test)\n",
    "\n",
    "source_val_label_accuracy, source_val_label_loss = jig.test(datasets.source.processed.val)\n",
    "target_val_label_accuracy, target_val_label_loss = jig.test(datasets.target.processed.val)\n",
    "\n",
    "history = jig.get_history()\n",
    "\n",
    "total_epochs_trained = len(history[\"epoch_indices\"])\n",
    "\n",
    "val_dl = Iterable_Aggregator((datasets.source.original.val,datasets.target.original.val))\n",
    "\n",
    "confusion = ptn_confusion_by_domain_over_dataloader(model, p.device, val_dl)\n",
    "per_domain_accuracy = per_domain_accuracy_from_confusion(confusion)\n",
    "\n",
    "# Add a key to per_domain_accuracy for if it was a source domain\n",
    "for domain, accuracy in per_domain_accuracy.items():\n",
    "    per_domain_accuracy[domain] = {\n",
    "        \"accuracy\": accuracy,\n",
    "        \"source?\": domain in p.domains_source\n",
    "    }\n",
    "\n",
    "# Do an independent accuracy assesment JUST TO BE SURE!\n",
    "# _source_test_label_accuracy = independent_accuracy_assesment(model, datasets.source.processed.test, p.device)\n",
    "# _target_test_label_accuracy = independent_accuracy_assesment(model, datasets.target.processed.test, p.device)\n",
    "# _source_val_label_accuracy = independent_accuracy_assesment(model, datasets.source.processed.val, p.device)\n",
    "# _target_val_label_accuracy = independent_accuracy_assesment(model, datasets.target.processed.val, p.device)\n",
    "\n",
    "# assert(_source_test_label_accuracy == source_test_label_accuracy)\n",
    "# assert(_target_test_label_accuracy == target_test_label_accuracy)\n",
    "# assert(_source_val_label_accuracy == source_val_label_accuracy)\n",
    "# assert(_target_val_label_accuracy == target_val_label_accuracy)\n",
    "\n",
    "experiment = {\n",
    "    \"experiment_name\": p.experiment_name,\n",
    "    \"parameters\": dict(p),\n",
    "    \"results\": {\n",
    "        \"source_test_label_accuracy\": source_test_label_accuracy,\n",
    "        \"source_test_label_loss\": source_test_label_loss,\n",
    "        \"target_test_label_accuracy\": target_test_label_accuracy,\n",
    "        \"target_test_label_loss\": target_test_label_loss,\n",
    "        \"source_val_label_accuracy\": source_val_label_accuracy,\n",
    "        \"source_val_label_loss\": source_val_label_loss,\n",
    "        \"target_val_label_accuracy\": target_val_label_accuracy,\n",
    "        \"target_val_label_loss\": target_val_label_loss,\n",
    "        \"total_epochs_trained\": total_epochs_trained,\n",
    "        \"total_experiment_time_secs\": total_experiment_time_secs,\n",
    "        \"confusion\": confusion,\n",
    "        \"per_domain_accuracy\": per_domain_accuracy,\n",
    "    },\n",
    "    \"history\": history,\n",
    "    \"dataset_metrics\": get_dataset_metrics(datasets, \"ptn\"),\n",
    "}"
   ]
  },
  {
   "cell_type": "code",
   "execution_count": 16,
   "id": "54a21829",
   "metadata": {
    "execution": {
     "iopub.execute_input": "2022-03-04T02:36:34.040648Z",
     "iopub.status.busy": "2022-03-04T02:36:34.040145Z",
     "iopub.status.idle": "2022-03-04T02:36:34.224613Z",
     "shell.execute_reply": "2022-03-04T02:36:34.224833Z"
    },
    "papermill": {
     "duration": 0.217721,
     "end_time": "2022-03-04T02:36:34.224910",
     "exception": false,
     "start_time": "2022-03-04T02:36:34.007189",
     "status": "completed"
    },
    "tags": []
   },
   "outputs": [
    {
     "data": {
      "image/png": "[encoded data removed]",
      "text/plain": [
       "<Figure size 1080x504 with 1 Axes>"
      ]
     },
     "metadata": {
      "needs_background": "light"
     },
     "output_type": "display_data"
    }
   ],
   "source": [
    "ax = get_loss_curve(experiment)\n",
    "plt.show()"
   ]
  },
  {
   "cell_type": "code",
   "execution_count": 17,
   "id": "fd8a0f60",
   "metadata": {
    "execution": {
     "iopub.execute_input": "2022-03-04T02:36:34.291559Z",
     "iopub.status.busy": "2022-03-04T02:36:34.291289Z",
     "iopub.status.idle": "2022-03-04T02:36:34.566913Z",
     "shell.execute_reply": "2022-03-04T02:36:34.567138Z"
    },
    "papermill": {
     "duration": 0.309959,
     "end_time": "2022-03-04T02:36:34.567216",
     "exception": false,
     "start_time": "2022-03-04T02:36:34.257257",
     "status": "completed"
    },
    "tags": []
   },
   "outputs": [
    {
     "data": {
      "text/plain": [
       "<matplotlib.axes._subplots.AxesSubplot at 0x7f4eb4b64970>"
      ]
     },
     "execution_count": 17,
     "metadata": {},
     "output_type": "execute_result"
    },
    {
     "data": {
      "image/png": "[encoded data removed]",
      "text/plain": [
       "<Figure size 1080x504 with 1 Axes>"
      ]
     },
     "metadata": {
      "needs_background": "light"
     },
     "output_type": "display_data"
    }
   ],
   "source": [
    "get_results_table(experiment)"
   ]
  },
  {
   "cell_type": "code",
   "execution_count": 18,
   "id": "cf8dc689",
   "metadata": {
    "execution": {
     "iopub.execute_input": "2022-03-04T02:36:34.634351Z",
     "iopub.status.busy": "2022-03-04T02:36:34.633941Z",
     "iopub.status.idle": "2022-03-04T02:36:34.807423Z",
     "shell.execute_reply": "2022-03-04T02:36:34.806981Z"
    },
    "papermill": {
     "duration": 0.207646,
     "end_time": "2022-03-04T02:36:34.807530",
     "exception": false,
     "start_time": "2022-03-04T02:36:34.599884",
     "status": "completed"
    },
    "tags": []
   },
   "outputs": [
    {
     "data": {
      "text/plain": [
       "<matplotlib.axes._subplots.AxesSubplot at 0x7f4eb4d4d8b0>"
      ]
     },
     "execution_count": 18,
     "metadata": {},
     "output_type": "execute_result"
    },
    {
     "data": {
      "image/png": "[encoded data removed]",
      "text/plain": [
       "<Figure size 1080x504 with 1 Axes>"
      ]
     },
     "metadata": {
      "needs_background": "light"
     },
     "output_type": "display_data"
    }
   ],
   "source": [
    "get_domain_accuracies(experiment)"
   ]
  },
  {
   "cell_type": "code",
   "execution_count": 19,
   "id": "a74ae082",
   "metadata": {
    "execution": {
     "iopub.execute_input": "2022-03-04T02:36:34.879325Z",
     "iopub.status.busy": "2022-03-04T02:36:34.879056Z",
     "iopub.status.idle": "2022-03-04T02:36:34.888726Z",
     "shell.execute_reply": "2022-03-04T02:36:34.889042Z"
    },
    "papermill": {
     "duration": 0.045167,
     "end_time": "2022-03-04T02:36:34.889144",
     "exception": false,
     "start_time": "2022-03-04T02:36:34.843977",
     "status": "completed"
    },
    "tags": []
   },
   "outputs": [
    {
     "name": "stdout",
     "output_type": "stream",
     "text": [
      "Source Test Label Accuracy: 0.7473958333333334 Target Test Label Accuracy: 0.5934375\n",
      "Source Val Label Accuracy: 0.7545138888888889 Target Val Label Accuracy: 0.5886458333333333\n"
     ]
    }
   ],
   "source": [
    "print(\"Source Test Label Accuracy:\", experiment[\"results\"][\"source_test_label_accuracy\"], \"Target Test Label Accuracy:\", experiment[\"results\"][\"target_test_label_accuracy\"])\n",
    "print(\"Source Val Label Accuracy:\", experiment[\"results\"][\"source_val_label_accuracy\"], \"Target Val Label Accuracy:\", experiment[\"results\"][\"target_val_label_accuracy\"])"
   ]
  },
  {
   "cell_type": "code",
   "execution_count": 20,
   "id": "dacca602",
   "metadata": {
    "execution": {
     "iopub.execute_input": "2022-03-04T02:36:34.963210Z",
     "iopub.status.busy": "2022-03-04T02:36:34.962314Z",
     "iopub.status.idle": "2022-03-04T02:36:34.977854Z",
     "shell.execute_reply": "2022-03-04T02:36:34.978263Z"
    },
    "papermill": {
     "duration": 0.052004,
     "end_time": "2022-03-04T02:36:34.978389",
     "exception": false,
     "start_time": "2022-03-04T02:36:34.926385",
     "status": "completed"
    },
    "tags": [
     "experiment_json"
    ]
   },
   "outputs": [
    {
     "data": {
      "text/plain": [
       "'{\"experiment_name\": \"seeds_oracle.run2\", \"parameters\": {\"experiment_name\": \"seeds_oracle.run2\", \"lr\": 0.001, \"device\": \"cuda\", \"seed\": 12341234, \"dataset_seed\": 1337, \"labels_source\": [\"3123D52\", \"3123D65\", \"3123D79\", \"3123D80\", \"3123D54\", \"3123D70\", \"3123D7B\", \"3123D89\", \"3123D58\", \"3123D76\", \"3123D7D\", \"3123EFE\", \"3123D64\", \"3123D78\", \"3123D7E\", \"3124E4A\"], \"labels_target\": [\"3123D52\", \"3123D65\", \"3123D79\", \"3123D80\", \"3123D54\", \"3123D70\", \"3123D7B\", \"3123D89\", \"3123D58\", \"3123D76\", \"3123D7D\", \"3123EFE\", \"3123D64\", \"3123D78\", \"3123D7E\", \"3124E4A\"], \"x_transforms_source\": [], \"x_transforms_target\": [], \"episode_transforms_source\": [], \"episode_transforms_target\": [], \"num_examples_per_domain_per_label_source\": 1000, \"num_examples_per_domain_per_label_target\": 1000, \"n_shot\": 3, \"n_way\": 16, \"n_query\": 2, \"train_k_factor\": 1, \"val_k_factor\": 2, \"test_k_factor\": 2, \"torch_default_dtype\": \"torch.float32\", \"n_epoch\": 50, \"patience\": 3, \"criteria_for_best\": \"target_loss\", \"x_net\": [{\"class\": \"nnReshape\", \"kargs\": {\"shape\": [-1, 1, 2, 256]}}, {\"class\": \"Conv2d\", \"kargs\": {\"in_channels\": 1, \"out_channels\": 256, \"kernel_size\": [1, 7], \"bias\": false, \"padding\": [0, 3]}}, {\"class\": \"ReLU\", \"kargs\": {\"inplace\": true}}, {\"class\": \"BatchNorm2d\", \"kargs\": {\"num_features\": 256}}, {\"class\": \"Conv2d\", \"kargs\": {\"in_channels\": 256, \"out_channels\": 80, \"kernel_size\": [2, 7], \"bias\": true, \"padding\": [0, 3]}}, {\"class\": \"ReLU\", \"kargs\": {\"inplace\": true}}, {\"class\": \"BatchNorm2d\", \"kargs\": {\"num_features\": 80}}, {\"class\": \"Flatten\", \"kargs\": {}}, {\"class\": \"Linear\", \"kargs\": {\"in_features\": 20480, \"out_features\": 256}}, {\"class\": \"ReLU\", \"kargs\": {\"inplace\": true}}, {\"class\": \"BatchNorm1d\", \"kargs\": {\"num_features\": 256}}, {\"class\": \"Linear\", \"kargs\": {\"in_features\": 256, \"out_features\": 256}}], \"NUM_LOGS_PER_EPOCH\": 10, \"BEST_MODEL_PATH\": \"./best_model.pth\", \"pickle_name\": \"oracle.Run2_10kExamples_stratified_ds.2022A.pkl\", \"domains_source\": [8, 32, 50], \"domains_target\": [14, 20, 26, 38, 44]}, \"results\": {\"source_test_label_accuracy\": 0.7473958333333334, \"source_test_label_loss\": 0.6664477586746216, \"target_test_label_accuracy\": 0.5934375, \"target_test_label_loss\": 1.1907000541687012, \"source_val_label_accuracy\": 0.7545138888888889, \"source_val_label_loss\": 0.6385512948036194, \"target_val_label_accuracy\": 0.5886458333333333, \"target_val_label_loss\": 1.232947826385498, \"total_epochs_trained\": 9, \"total_experiment_time_secs\": 517.5778684616089, \"confusion\": {\"32\": {\"13\": {\"13\": 85, \"11\": 16, \"4\": 5, \"3\": 14}, \"2\": {\"2\": 59, \"14\": 36, \"7\": 12, \"0\": 9, \"8\": 4}, \"3\": {\"3\": 107, \"13\": 9, \"4\": 2, \"11\": 2}, \"9\": {\"9\": 118, \"13\": 1, \"12\": 1}, \"11\": {\"13\": 23, \"4\": 47, \"11\": 44, \"0\": 3, \"3\": 3}, \"8\": {\"8\": 64, \"7\": 29, \"0\": 26, \"2\": 1}, \"10\": {\"10\": 118, \"12\": 2}, \"0\": {\"7\": 27, \"14\": 8, \"2\": 17, \"0\": 47, \"8\": 12, \"4\": 9}, \"14\": {\"2\": 35, \"0\": 5, \"14\": 74, \"5\": 2, \"7\": 3, \"8\": 1}, \"1\": {\"1\": 120}, \"5\": {\"5\": 102, \"15\": 16, \"2\": 2}, \"7\": {\"2\": 15, \"7\": 55, \"8\": 32, \"0\": 12, \"15\": 1, \"5\": 2, \"14\": 3}, \"15\": {\"15\": 101, \"5\": 17, \"8\": 2}, \"12\": {\"12\": 117, \"9\": 2, \"10\": 1}, \"6\": {\"6\": 120}, \"4\": {\"4\": 89, \"11\": 26, \"0\": 3, \"8\": 1, \"13\": 1}}, \"8\": {\"4\": {\"8\": 5, \"4\": 51, \"11\": 5, \"7\": 25, \"1\": 22, \"14\": 4, \"10\": 1, \"6\": 5, \"5\": 2}, \"2\": {\"15\": 13, \"2\": 100, \"12\": 6, \"13\": 1}, \"10\": {\"10\": 46, \"5\": 43, \"13\": 25, \"7\": 3, \"1\": 3}, \"15\": {\"15\": 96, \"12\": 15, \"2\": 9}, \"7\": {\"4\": 24, \"7\": 77, \"11\": 4, \"1\": 8, \"13\": 4, \"5\": 1, \"8\": 1, \"10\": 1}, \"0\": {\"0\": 120}, \"5\": {\"5\": 58, \"13\": 12, \"10\": 34, \"1\": 14, \"7\": 1, \"4\": 1}, \"1\": {\"1\": 58, \"4\": 18, \"6\": 2, \"13\": 8, \"7\": 5, \"5\": 14, \"14\": 8, \"10\": 7}, \"11\": {\"11\": 54, \"8\": 35, \"7\": 16, \"13\": 1, \"4\": 6, \"6\": 5, \"14\": 1, \"12\": 2}, \"12\": {\"12\": 96, \"2\": 12, \"15\": 12}, \"3\": {\"3\": 120}, \"14\": {\"6\": 36, \"14\": 65, \"1\": 10, \"8\": 4, \"4\": 5}, \"13\": {\"10\": 30, \"13\": 85, \"5\": 2, \"7\": 3}, \"8\": {\"6\": 19, \"8\": 73, \"11\": 18, \"4\": 7, \"14\": 3}, \"9\": {\"9\": 120}, \"6\": {\"6\": 53, \"14\": 37, \"8\": 26, \"11\": 1, \"4\": 1, \"1\": 2}}, \"50\": {\"7\": {\"5\": 2, \"7\": 114, \"4\": 4}, \"0\": {\"0\": 90, \"10\": 12, \"2\": 18}, \"4\": {\"7\": 8, \"4\": 82, \"5\": 30}, \"1\": {\"1\": 113, \"13\": 4, \"11\": 3}, \"14\": {\"14\": 120}, \"5\": {\"5\": 62, \"6\": 12, \"4\": 30, \"7\": 16}, \"12\": {\"12\": 89, \"11\": 13, \"9\": 11, \"6\": 3, \"15\": 4}, \"11\": {\"11\": 101, \"1\": 2, \"12\": 17}, \"2\": {\"2\": 113, \"0\": 7}, \"8\": {\"8\": 120}, \"13\": {\"13\": 118, \"10\": 1, \"1\": 1}, \"10\": {\"10\": 109, \"1\": 4, \"0\": 3, \"13\": 3, \"8\": 1}, \"15\": {\"12\": 6, \"15\": 95, \"9\": 6, \"6\": 12, \"5\": 1}, \"6\": {\"6\": 101, \"15\": 6, \"5\": 11, \"12\": 1, \"4\": 1}, \"9\": {\"12\": 5, \"9\": 107, \"15\": 8}, \"3\": {\"3\": 120}}, \"38\": {\"13\": {\"13\": 64, \"10\": 28, \"4\": 4, \"3\": 24}, \"2\": {\"2\": 110, \"14\": 9, \"8\": 1}, \"3\": {\"3\": 39, \"10\": 39, \"13\": 20, \"4\": 22}, \"9\": {\"9\": 99, \"5\": 12, \"12\": 6, \"8\": 3}, \"11\": {\"11\": 120}, \"8\": {\"8\": 94, \"7\": 4, \"5\": 9, \"14\": 3, \"12\": 6, \"0\": 3, \"9\": 1}, \"10\": {\"10\": 61, \"4\": 26, \"13\": 9, \"3\": 24}, \"0\": {\"7\": 17, \"0\": 102, \"8\": 1}, \"14\": {\"2\": 40, \"14\": 62, \"7\": 4, \"3\": 1, \"8\": 3, \"10\": 2, \"4\": 3, \"12\": 2, \"5\": 1, \"13\": 2}, \"1\": {\"1\": 105, \"15\": 15}, \"5\": {\"5\": 28, \"12\": 38, \"8\": 36, \"9\": 17, \"7\": 1}, \"7\": {\"7\": 106, \"0\": 11, \"8\": 1, \"4\": 2}, \"15\": {\"1\": 45, \"15\": 51, \"6\": 21, \"9\": 1, \"5\": 2}, \"12\": {\"5\": 38, \"8\": 4, \"12\": 69, \"9\": 9}, \"6\": {\"6\": 108, \"1\": 2, \"15\": 10}, \"4\": {\"4\": 78, \"10\": 32, \"3\": 4, \"7\": 4, \"13\": 2}}, \"14\": {\"4\": {\"4\": 89, \"0\": 24, \"2\": 1, \"5\": 3, \"10\": 1, \"14\": 2}, \"2\": {\"5\": 29, \"14\": 27, \"3\": 9, \"2\": 25, \"6\": 1, \"7\": 26, \"4\": 2, \"10\": 1}, \"10\": {\"0\": 21, \"8\": 34, \"5\": 8, \"10\": 50, \"14\": 2, \"3\": 4, \"4\": 1}, \"15\": {\"15\": 120}, \"7\": {\"7\": 83, \"14\": 13, \"6\": 5, \"2\": 14, \"5\": 1, \"3\": 4}, \"0\": {\"0\": 60, \"4\": 14, \"10\": 20, \"8\": 20, \"2\": 1, \"5\": 1, \"14\": 1, \"9\": 3}, \"5\": {\"5\": 43, \"14\": 34, \"4\": 5, \"2\": 23, \"10\": 5, \"7\": 6, \"0\": 4}, \"1\": {\"1\": 120}, \"11\": {\"11\": 120}, \"12\": {\"9\": 22, \"15\": 10, \"1\": 4, \"12\": 46, \"8\": 20, \"11\": 4, \"3\": 10, \"10\": 2, \"4\": 1, \"6\": 1}, \"3\": {\"2\": 5, \"3\": 99, \"6\": 8, \"7\": 5, \"5\": 1, \"14\": 1, \"10\": 1}, \"14\": {\"14\": 42, \"2\": 19, \"4\": 2, \"5\": 31, \"7\": 15, \"3\": 8, \"10\": 2, \"0\": 1}, \"13\": {\"6\": 47, \"13\": 68, \"7\": 3, \"3\": 2}, \"8\": {\"0\": 15, \"8\": 75, \"10\": 28, \"9\": 1, \"12\": 1}, \"9\": {\"9\": 115, \"8\": 1, \"12\": 3, \"0\": 1}, \"6\": {\"6\": 57, \"3\": 13, \"13\": 47, \"7\": 3}}, \"20\": {\"14\": {\"11\": 10, \"14\": 63, \"8\": 36, \"5\": 6, \"3\": 5}, \"7\": {\"10\": 11, \"7\": 50, \"3\": 9, \"6\": 18, \"14\": 1, \"12\": 3, \"5\": 2, \"4\": 9, \"13\": 3, \"2\": 3, \"15\": 2, \"9\": 9}, \"13\": {\"13\": 62, \"10\": 3, \"12\": 41, \"15\": 5, \"9\": 1, \"6\": 1, \"2\": 2, \"4\": 3, \"7\": 2}, \"6\": {\"6\": 72, \"10\": 26, \"7\": 18, \"4\": 1, \"9\": 1, \"3\": 2}, \"2\": {\"15\": 26, \"7\": 6, \"4\": 14, \"2\": 21, \"3\": 9, \"5\": 17, \"1\": 8, \"9\": 13, \"0\": 2, \"13\": 2, \"14\": 1, \"6\": 1}, \"1\": {\"2\": 14, \"15\": 5, \"0\": 10, \"1\": 69, \"9\": 5, \"8\": 2, \"14\": 2, \"5\": 12, \"11\": 1}, \"8\": {\"11\": 35, \"14\": 31, \"0\": 13, \"8\": 36, \"5\": 4, \"1\": 1}, \"5\": {\"5\": 31, \"9\": 6, \"4\": 8, \"3\": 16, \"0\": 2, \"1\": 23, \"2\": 13, \"14\": 4, \"7\": 6, \"15\": 5, \"8\": 3, \"13\": 2, \"12\": 1}, \"3\": {\"4\": 19, \"15\": 13, \"13\": 4, \"7\": 15, \"3\": 16, \"5\": 12, \"6\": 2, \"2\": 16, \"1\": 2, \"9\": 17, \"12\": 3, \"10\": 1}, \"4\": {\"3\": 20, \"15\": 17, \"7\": 19, \"4\": 24, \"14\": 2, \"2\": 10, \"6\": 2, \"12\": 3, \"9\": 10, \"10\": 2, \"5\": 7, \"13\": 3, \"1\": 1}, \"10\": {\"10\": 59, \"6\": 27, \"12\": 8, \"13\": 4, \"7\": 15, \"4\": 4, \"3\": 3}, \"15\": {\"13\": 4, \"3\": 17, \"4\": 25, \"15\": 17, \"9\": 16, \"2\": 23, \"1\": 8, \"12\": 3, \"5\": 6, \"7\": 1}, \"9\": {\"4\": 16, \"5\": 16, \"1\": 12, \"12\": 2, \"3\": 13, \"13\": 3, \"9\": 14, \"2\": 24, \"7\": 5, \"15\": 13, \"14\": 1, \"10\": 1}, \"11\": {\"11\": 49, \"8\": 34, \"0\": 26, \"14\": 9, \"5\": 2}, \"12\": {\"13\": 46, \"15\": 8, \"12\": 50, \"6\": 1, \"10\": 8, \"4\": 3, \"9\": 2, \"3\": 1, \"7\": 1}, \"0\": {\"0\": 93, \"11\": 14, \"1\": 9, \"8\": 4}}, \"26\": {\"4\": {\"4\": 118, \"3\": 1, \"7\": 1}, \"13\": {\"2\": 7, \"9\": 26, \"13\": 51, \"7\": 22, \"8\": 8, \"3\": 6}, \"8\": {\"15\": 7, \"8\": 29, \"13\": 7, \"9\": 28, \"7\": 7, \"2\": 29, \"10\": 7, \"0\": 5, \"12\": 1}, \"14\": {\"0\": 17, \"14\": 49, \"6\": 9, \"5\": 17, \"15\": 8, \"10\": 18, \"1\": 2}, \"15\": {\"0\": 27, \"15\": 46, \"10\": 12, \"2\": 11, \"14\": 5, \"7\": 1, \"8\": 16, \"9\": 2}, \"5\": {\"5\": 31, \"6\": 41, \"14\": 14, \"1\": 20, \"15\": 1, \"10\": 7, \"12\": 5, \"0\": 1}, \"9\": {\"9\": 34, \"8\": 38, \"13\": 22, \"2\": 18, \"15\": 2, \"0\": 1, \"10\": 2, \"7\": 3}, \"12\": {\"12\": 116, \"10\": 2, \"8\": 1, \"9\": 1}, \"3\": {\"3\": 70, \"7\": 34, \"4\": 12, \"13\": 3, \"2\": 1}, \"10\": {\"10\": 20, \"2\": 3, \"15\": 13, \"14\": 31, \"0\": 24, \"6\": 3, \"1\": 6, \"5\": 5, \"8\": 11, \"9\": 4}, \"7\": {\"13\": 14, \"4\": 2, \"3\": 34, \"2\": 11, \"7\": 47, \"8\": 6, \"9\": 5, \"15\": 1}, \"11\": {\"11\": 119, \"6\": 1}, \"2\": {\"9\": 20, \"2\": 50, \"7\": 21, \"8\": 18, \"15\": 5, \"12\": 1, \"13\": 4, \"0\": 1}, \"6\": {\"0\": 3, \"10\": 7, \"5\": 43, \"6\": 55, \"14\": 6, \"12\": 1, \"1\": 5}, \"1\": {\"1\": 78, \"6\": 13, \"14\": 6, \"5\": 22, \"10\": 1}, \"0\": {\"14\": 19, \"0\": 33, \"15\": 24, \"10\": 26, \"2\": 6, \"8\": 5, \"12\": 3, \"5\": 1, \"7\": 1, \"9\": 1, \"1\": 1}}, \"44\": {\"9\": {\"6\": 4, \"9\": 66, \"7\": 49, \"4\": 1}, \"6\": {\"6\": 106, \"7\": 6, \"10\": 2, \"13\": 5, \"9\": 1}, \"0\": {\"0\": 90, \"8\": 23, \"15\": 4, \"5\": 3}, \"11\": {\"11\": 120}, \"1\": {\"1\": 86, \"2\": 33, \"3\": 1}, \"7\": {\"9\": 43, \"7\": 68, \"6\": 6, \"10\": 3}, \"13\": {\"13\": 113, \"6\": 4, \"4\": 3}, \"3\": {\"3\": 100, \"12\": 20}, \"5\": {\"15\": 17, \"5\": 70, \"8\": 22, \"14\": 10, \"0\": 1}, \"2\": {\"2\": 98, \"1\": 22}, \"8\": {\"8\": 87, \"0\": 16, \"5\": 17}, \"12\": {\"12\": 99, \"3\": 21}, \"15\": {\"15\": 90, \"5\": 22, \"8\": 4, \"4\": 1, \"0\": 3}, \"4\": {\"4\": 88, \"14\": 31, \"9\": 1}, \"14\": {\"14\": 89, \"4\": 27, \"5\": 4}, \"10\": {\"7\": 9, \"6\": 7, \"10\": 101, \"9\": 3}}}, \"per_domain_accuracy\": {\"32\": {\"accuracy\": 0.7395833333333334, \"source?\": true}, \"8\": {\"accuracy\": 0.6625, \"source?\": true}, \"50\": {\"accuracy\": 0.8614583333333333, \"source?\": true}, \"38\": {\"accuracy\": 0.675, \"source?\": false}, \"14\": {\"accuracy\": 0.63125, \"source?\": false}, \"20\": {\"accuracy\": 0.378125, \"source?\": false}, \"26\": {\"accuracy\": 0.49270833333333336, \"source?\": false}, \"44\": {\"accuracy\": 0.7661458333333333, \"source?\": false}}}, \"history\": {\"epoch_indices\": [1, 2, 3, 4, 5, 6, 7, 8, 9], \"train_label_loss\": [1.2775908998080663, 1.3235789266370592, 0.9755139333861215, 0.7141393216592925, 0.6158550903201103, 0.556702878751925, 0.5170594618611393, 0.47782833391711826, 0.44210723760936943], \"source_val_label_loss\": [1.7111135721206665, 1.2868211269378662, 0.7799447178840637, 0.7152112722396851, 0.6385512948036194, 0.6151393055915833, 0.6196856498718262, 0.6311489939689636, 0.637596845626831], \"target_val_label_loss\": [2.115115165710449, 1.7473440170288086, 1.447933554649353, 1.3419532775878906, 1.232947826385498, 1.253019094467163, 1.3173651695251465, 1.3293421268463135, 1.3340518474578857], \"source_val_acc_label\": [0.4713541666666667, 0.48246527777777776, 0.7078125, 0.7354166666666667, 0.7545138888888889, 0.7708333333333334, 0.7692708333333333, 0.7708333333333334, 0.7661458333333333], \"target_val_acc_label\": [0.37875, 0.383125, 0.5451041666666666, 0.5620833333333334, 0.5886458333333333, 0.6011458333333334, 0.6045833333333334, 0.6098958333333333, 0.61]}, \"dataset_metrics\": {\"source\": {\"train\": {\"n_unique_x\": 33600, \"n_unique_y\": 16, \"n_batch/episode\": 420}, \"val\": {\"n_unique_x\": 7200, \"n_unique_y\": 16, \"n_batch/episode\": 180}, \"test\": {\"n_unique_x\": 7200, \"n_unique_y\": 16, \"n_batch/episode\": 180}}, \"target\": {\"train\": {\"n_unique_x\": 56000, \"n_unique_y\": 16, \"n_batch/episode\": 700}, \"val\": {\"n_unique_x\": 12000, \"n_unique_y\": 16, \"n_batch/episode\": 300}, \"test\": {\"n_unique_x\": 12000, \"n_unique_y\": 16, \"n_batch/episode\": 300}}}}'"
      ]
     },
     "execution_count": 20,
     "metadata": {},
     "output_type": "execute_result"
    }
   ],
   "source": [
    "json.dumps(experiment)"
   ]
  }
 ],
 "metadata": {
  "celltoolbar": "Tags",
  "kernelspec": {
   "display_name": "Python 3 (ipykernel)",
   "language": "python",
   "name": "python3"
  },
  "language_info": {
   "codemirror_mode": {
    "name": "ipython",
    "version": 3
   },
   "file_extension": ".py",
   "mimetype": "text/x-python",
   "name": "python",
   "nbconvert_exporter": "python",
   "pygments_lexer": "ipython3",
   "version": "3.8.10"
  },
  "papermill": {
   "default_parameters": {},
   "duration": 615.575657,
   "end_time": "2022-03-04T02:36:35.523139",
   "environment_variables": {},
   "exception": null,
   "input_path": "/mnt/wd500GB/CSC500/csc500-main/csc500-notebooks/templates/ptn_template.ipynb",
   "output_path": "trial.ipynb",
   "parameters": {
    "parameters": {
     "BEST_MODEL_PATH": "./best_model.pth",
     "NUM_LOGS_PER_EPOCH": 10,
     "criteria_for_best": "target_loss",
     "dataset_seed": 1337,
     "device": "cuda",
     "domains_source": [
      8,
      32,
      50
     ],
     "domains_target": [
      14,
      20,
      26,
      38,
      44
     ],
     "episode_transforms_source": [],
     "episode_transforms_target": [],
     "experiment_name": "seeds_oracle.run2",
     "labels_source": [
      "3123D52",
      "3123D65",
      "3123D79",
      "3123D80",
      "3123D54",
      "3123D70",
      "3123D7B",
      "3123D89",
      "3123D58",
      "3123D76",
      "3123D7D",
      "3123EFE",
      "3123D64",
      "3123D78",
      "3123D7E",
      "3124E4A"
     ],
     "labels_target": [
      "3123D52",
      "3123D65",
      "3123D79",
      "3123D80",
      "3123D54",
      "3123D70",
      "3123D7B",
      "3123D89",
      "3123D58",
      "3123D76",
      "3123D7D",
      "3123EFE",
      "3123D64",
      "3123D78",
      "3123D7E",
      "3124E4A"
     ],
     "lr": 0.001,
     "n_epoch": 50,
     "n_query": 2,
     "n_shot": 3,
     "n_way": 16,
     "num_examples_per_domain_per_label_source": 1000,
     "num_examples_per_domain_per_label_target": 1000,
     "patience": 3,
     "pickle_name": "oracle.Run2_10kExamples_stratified_ds.2022A.pkl",
     "seed": 12341234,
     "test_k_factor": 2,
     "torch_default_dtype": "torch.float32",
     "train_k_factor": 1,
     "val_k_factor": 2,
     "x_net": [
      {
       "class": "nnReshape",
       "kargs": {
        "shape": [
         -1,
         1,
         2,
         256
        ]
       }
      },
      {
       "class": "Conv2d",
       "kargs": {
        "bias": false,
        "in_channels": 1,
        "kernel_size": [
         1,
         7
        ],
        "out_channels": 256,
        "padding": [
         0,
         3
        ]
       }
      },
      {
       "class": "ReLU",
       "kargs": {
        "inplace": true
       }
      },
      {
       "class": "BatchNorm2d",
       "kargs": {
        "num_features": 256
       }
      },
      {
       "class": "Conv2d",
       "kargs": {
        "bias": true,
        "in_channels": 256,
        "kernel_size": [
         2,
         7
        ],
        "out_channels": 80,
        "padding": [
         0,
         3
        ]
       }
      },
      {
       "class": "ReLU",
       "kargs": {
        "inplace": true
       }
      },
      {
       "class": "BatchNorm2d",
       "kargs": {
        "num_features": 80
       }
      },
      {
       "class": "Flatten",
       "kargs": {}
      },
      {
       "class": "Linear",
       "kargs": {
        "in_features": 20480,
        "out_features": 256
       }
      },
      {
       "class": "ReLU",
       "kargs": {
        "inplace": true
       }
      },
      {
       "class": "BatchNorm1d",
       "kargs": {
        "num_features": 256
       }
      },
      {
       "class": "Linear",
       "kargs": {
        "in_features": 256,
        "out_features": 256
       }
      }
     ],
     "x_transforms_source": [],
     "x_transforms_target": []
    }
   },
   "start_time": "2022-03-04T02:26:19.947482",
   "version": "2.3.4"
  }
 },
 "nbformat": 4,
 "nbformat_minor": 5
}