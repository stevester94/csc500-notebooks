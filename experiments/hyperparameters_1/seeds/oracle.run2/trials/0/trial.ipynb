{
 "cells": [
  {
   "cell_type": "markdown",
   "id": "9fea5f46",
   "metadata": {
    "papermill": {
     "duration": 0.013287,
     "end_time": "2022-03-04T01:31:46.231883",
     "exception": false,
     "start_time": "2022-03-04T01:31:46.218596",
     "status": "completed"
    },
    "tags": []
   },
   "source": [
    "# PTN Template\n",
    "This notebook serves as a template for single dataset PTN experiments  \n",
    "It can be run on its own by setting STANDALONE to True (do a find for \"STANDALONE\" to see where)  \n",
    "But it is intended to be executed as part of a *papermill.py script. See any of the   \n",
    "experimentes with a papermill script to get started with that workflow.  "
   ]
  },
  {
   "cell_type": "code",
   "execution_count": 1,
   "id": "0902182a",
   "metadata": {
    "execution": {
     "iopub.execute_input": "2022-03-04T01:31:46.259829Z",
     "iopub.status.busy": "2022-03-04T01:31:46.259313Z",
     "iopub.status.idle": "2022-03-04T01:31:47.002943Z",
     "shell.execute_reply": "2022-03-04T01:31:47.002434Z"
    },
    "papermill": {
     "duration": 0.761998,
     "end_time": "2022-03-04T01:31:47.003063",
     "exception": false,
     "start_time": "2022-03-04T01:31:46.241065",
     "status": "completed"
    },
    "tags": []
   },
   "outputs": [],
   "source": [
    "%load_ext autoreload\n",
    "%autoreload 2\n",
    "%matplotlib inline\n",
    "\n",
    "    \n",
    "import os, json, sys, time, random\n",
    "import numpy as np\n",
    "import torch\n",
    "from torch.optim import Adam\n",
    "from  easydict import EasyDict\n",
    "import matplotlib.pyplot as plt\n",
    "\n",
    "from steves_models.steves_ptn import Steves_Prototypical_Network\n",
    "\n",
    "from steves_utils.lazy_iterable_wrapper import Lazy_Iterable_Wrapper\n",
    "from steves_utils.iterable_aggregator import Iterable_Aggregator\n",
    "from steves_utils.ptn_train_eval_test_jig import  PTN_Train_Eval_Test_Jig\n",
    "from steves_utils.torch_sequential_builder import build_sequential\n",
    "from steves_utils.torch_utils import get_dataset_metrics, ptn_confusion_by_domain_over_dataloader\n",
    "from steves_utils.utils_v2 import (per_domain_accuracy_from_confusion, get_datasets_base_path)\n",
    "from steves_utils.PTN.utils import independent_accuracy_assesment\n",
    "\n",
    "from steves_utils.stratified_dataset.episodic_accessor import Episodic_Accessor_Factory\n",
    "\n",
    "from steves_utils.ptn_do_report import (\n",
    "    get_loss_curve,\n",
    "    get_results_table,\n",
    "    get_parameters_table,\n",
    "    get_domain_accuracies,\n",
    ")\n",
    "\n",
    "from steves_utils.transforms import get_chained_transform"
   ]
  },
  {
   "cell_type": "markdown",
   "id": "41c840b4",
   "metadata": {
    "papermill": {
     "duration": 0.00895,
     "end_time": "2022-03-04T01:31:47.025446",
     "exception": false,
     "start_time": "2022-03-04T01:31:47.016496",
     "status": "completed"
    },
    "tags": []
   },
   "source": [
    "# Required Parameters\n",
    "These are allowed parameters, not defaults\n",
    "Each of these values need to be present in the injected parameters (the notebook will raise an exception if they are not present)\n",
    "\n",
    "Papermill uses the cell tag \"parameters\" to inject the real parameters below this cell.\n",
    "Enable tags to see what I mean"
   ]
  },
  {
   "cell_type": "code",
   "execution_count": 2,
   "id": "fd44eb83",
   "metadata": {
    "execution": {
     "iopub.execute_input": "2022-03-04T01:31:47.047587Z",
     "iopub.status.busy": "2022-03-04T01:31:47.047314Z",
     "iopub.status.idle": "2022-03-04T01:31:47.062390Z",
     "shell.execute_reply": "2022-03-04T01:31:47.062002Z"
    },
    "papermill": {
     "duration": 0.028013,
     "end_time": "2022-03-04T01:31:47.062487",
     "exception": false,
     "start_time": "2022-03-04T01:31:47.034474",
     "status": "completed"
    },
    "tags": []
   },
   "outputs": [],
   "source": [
    "required_parameters = {\n",
    "    \"experiment_name\",\n",
    "    \"lr\",\n",
    "    \"device\",\n",
    "    \"seed\",\n",
    "    \"dataset_seed\",\n",
    "    \"labels_source\",\n",
    "    \"labels_target\",\n",
    "    \"domains_source\",\n",
    "    \"domains_target\",\n",
    "    \"num_examples_per_domain_per_label_source\",\n",
    "    \"num_examples_per_domain_per_label_target\",\n",
    "    \"n_shot\",\n",
    "    \"n_way\",\n",
    "    \"n_query\",\n",
    "    \"train_k_factor\",\n",
    "    \"val_k_factor\",\n",
    "    \"test_k_factor\",\n",
    "    \"n_epoch\",\n",
    "    \"patience\",\n",
    "    \"criteria_for_best\",\n",
    "    \"x_transforms_source\",\n",
    "    \"x_transforms_target\",\n",
    "    \"episode_transforms_source\",\n",
    "    \"episode_transforms_target\",\n",
    "    \"pickle_name\",\n",
    "    \"x_net\",\n",
    "    \"NUM_LOGS_PER_EPOCH\",\n",
    "    \"BEST_MODEL_PATH\",\n",
    "    \"torch_default_dtype\"\n",
    "}"
   ]
  },
  {
   "cell_type": "code",
   "execution_count": 3,
   "id": "fa3f0049",
   "metadata": {
    "execution": {
     "iopub.execute_input": "2022-03-04T01:31:47.091608Z",
     "iopub.status.busy": "2022-03-04T01:31:47.091314Z",
     "iopub.status.idle": "2022-03-04T01:31:47.102828Z",
     "shell.execute_reply": "2022-03-04T01:31:47.102407Z"
    },
    "papermill": {
     "duration": 0.026972,
     "end_time": "2022-03-04T01:31:47.102921",
     "exception": false,
     "start_time": "2022-03-04T01:31:47.075949",
     "status": "completed"
    },
    "tags": [
     "parameters"
    ]
   },
   "outputs": [],
   "source": [
    "\n",
    "\n",
    "standalone_parameters = {}\n",
    "standalone_parameters[\"experiment_name\"] = \"STANDALONE PTN\"\n",
    "standalone_parameters[\"lr\"] = 0.0001\n",
    "standalone_parameters[\"device\"] = \"cuda\"\n",
    "\n",
    "standalone_parameters[\"seed\"] = 1337\n",
    "standalone_parameters[\"dataset_seed\"] = 1337\n",
    "\n",
    "\n",
    "standalone_parameters[\"num_examples_per_domain_per_label_source\"]=100\n",
    "standalone_parameters[\"num_examples_per_domain_per_label_target\"]=100\n",
    "\n",
    "standalone_parameters[\"n_shot\"] = 3\n",
    "standalone_parameters[\"n_query\"]  = 2\n",
    "standalone_parameters[\"train_k_factor\"] = 1\n",
    "standalone_parameters[\"val_k_factor\"] = 2\n",
    "standalone_parameters[\"test_k_factor\"] = 2\n",
    "\n",
    "\n",
    "standalone_parameters[\"n_epoch\"] = 100\n",
    "\n",
    "standalone_parameters[\"patience\"] = 10\n",
    "standalone_parameters[\"criteria_for_best\"] = \"target_accuracy\"\n",
    "\n",
    "standalone_parameters[\"x_transforms_source\"] = [\"unit_power\"]\n",
    "standalone_parameters[\"x_transforms_target\"] = [\"unit_power\"]\n",
    "standalone_parameters[\"episode_transforms_source\"] = []\n",
    "standalone_parameters[\"episode_transforms_target\"] = []\n",
    "\n",
    "standalone_parameters[\"torch_default_dtype\"] = \"torch.float32\" \n",
    "\n",
    "\n",
    "\n",
    "standalone_parameters[\"x_net\"] =     [\n",
    "    {\"class\": \"nnReshape\", \"kargs\": {\"shape\":[-1, 1, 2, 256]}},\n",
    "    {\"class\": \"Conv2d\", \"kargs\": { \"in_channels\":1, \"out_channels\":256, \"kernel_size\":(1,7), \"bias\":False, \"padding\":(0,3), },},\n",
    "    {\"class\": \"ReLU\", \"kargs\": {\"inplace\": True}},\n",
    "    {\"class\": \"BatchNorm2d\", \"kargs\": {\"num_features\":256}},\n",
    "\n",
    "    {\"class\": \"Conv2d\", \"kargs\": { \"in_channels\":256, \"out_channels\":80, \"kernel_size\":(2,7), \"bias\":True, \"padding\":(0,3), },},\n",
    "    {\"class\": \"ReLU\", \"kargs\": {\"inplace\": True}},\n",
    "    {\"class\": \"BatchNorm2d\", \"kargs\": {\"num_features\":80}},\n",
    "    {\"class\": \"Flatten\", \"kargs\": {}},\n",
    "\n",
    "    {\"class\": \"Linear\", \"kargs\": {\"in_features\": 80*256, \"out_features\": 256}}, # 80 units per IQ pair\n",
    "    {\"class\": \"ReLU\", \"kargs\": {\"inplace\": True}},\n",
    "    {\"class\": \"BatchNorm1d\", \"kargs\": {\"num_features\":256}},\n",
    "\n",
    "    {\"class\": \"Linear\", \"kargs\": {\"in_features\": 256, \"out_features\": 256}},\n",
    "]\n",
    "\n",
    "# Parameters relevant to results\n",
    "# These parameters will basically never need to change\n",
    "standalone_parameters[\"NUM_LOGS_PER_EPOCH\"] = 10\n",
    "standalone_parameters[\"BEST_MODEL_PATH\"] = \"./best_model.pth\"\n",
    "\n",
    "# uncomment for CORES dataset\n",
    "from steves_utils.CORES.utils import (\n",
    "    ALL_NODES,\n",
    "    ALL_NODES_MINIMUM_1000_EXAMPLES,\n",
    "    ALL_DAYS\n",
    ")\n",
    "\n",
    "\n",
    "standalone_parameters[\"labels_source\"] = ALL_NODES\n",
    "standalone_parameters[\"labels_target\"] = ALL_NODES\n",
    "\n",
    "standalone_parameters[\"domains_source\"] = [1]\n",
    "standalone_parameters[\"domains_target\"] = [2,3,4,5]\n",
    "\n",
    "standalone_parameters[\"pickle_name\"] = \"cores.stratified_ds.2022A.pkl\"\n",
    "\n",
    "\n",
    "# Uncomment these for ORACLE dataset\n",
    "# from steves_utils.ORACLE.utils_v2 import (\n",
    "#     ALL_DISTANCES_FEET,\n",
    "#     ALL_RUNS,\n",
    "#     ALL_SERIAL_NUMBERS,\n",
    "# )\n",
    "# standalone_parameters[\"labels_source\"] = ALL_SERIAL_NUMBERS\n",
    "# standalone_parameters[\"labels_target\"] = ALL_SERIAL_NUMBERS\n",
    "# standalone_parameters[\"domains_source\"] = [8,20, 38,50]\n",
    "# standalone_parameters[\"domains_target\"] = [14, 26, 32, 44, 56]\n",
    "# standalone_parameters[\"pickle_name\"] = \"oracle.frame_indexed.stratified_ds.2022A.pkl\"\n",
    "# standalone_parameters[\"num_examples_per_domain_per_label_source\"]=1000\n",
    "# standalone_parameters[\"num_examples_per_domain_per_label_target\"]=1000\n",
    "\n",
    "# Uncomment these for Metahan dataset\n",
    "# standalone_parameters[\"labels_source\"] = list(range(19))\n",
    "# standalone_parameters[\"labels_target\"] = list(range(19))\n",
    "# standalone_parameters[\"domains_source\"] = [0]\n",
    "# standalone_parameters[\"domains_target\"] = [1]\n",
    "# standalone_parameters[\"pickle_name\"] = \"metehan.stratified_ds.2022A.pkl\"\n",
    "# standalone_parameters[\"n_way\"]  = len(standalone_parameters[\"labels_source\"])\n",
    "# standalone_parameters[\"num_examples_per_domain_per_label_source\"]=200\n",
    "# standalone_parameters[\"num_examples_per_domain_per_label_target\"]=100\n",
    "\n",
    "\n",
    "standalone_parameters[\"n_way\"]  = len(standalone_parameters[\"labels_source\"])"
   ]
  },
  {
   "cell_type": "code",
   "execution_count": 4,
   "id": "eb25f672",
   "metadata": {
    "execution": {
     "iopub.execute_input": "2022-03-04T01:31:47.131990Z",
     "iopub.status.busy": "2022-03-04T01:31:47.131717Z",
     "iopub.status.idle": "2022-03-04T01:31:47.142025Z",
     "shell.execute_reply": "2022-03-04T01:31:47.141630Z"
    },
    "papermill": {
     "duration": 0.02423,
     "end_time": "2022-03-04T01:31:47.142114",
     "exception": false,
     "start_time": "2022-03-04T01:31:47.117884",
     "status": "completed"
    },
    "tags": [
     "injected-parameters"
    ]
   },
   "outputs": [],
   "source": [
    "# Parameters\n",
    "parameters = {\n",
    "    \"experiment_name\": \"seeds_oracle.run2\",\n",
    "    \"lr\": 0.001,\n",
    "    \"device\": \"cuda\",\n",
    "    \"seed\": 42,\n",
    "    \"dataset_seed\": 1337,\n",
    "    \"labels_source\": [\n",
    "        \"3123D52\",\n",
    "        \"3123D65\",\n",
    "        \"3123D79\",\n",
    "        \"3123D80\",\n",
    "        \"3123D54\",\n",
    "        \"3123D70\",\n",
    "        \"3123D7B\",\n",
    "        \"3123D89\",\n",
    "        \"3123D58\",\n",
    "        \"3123D76\",\n",
    "        \"3123D7D\",\n",
    "        \"3123EFE\",\n",
    "        \"3123D64\",\n",
    "        \"3123D78\",\n",
    "        \"3123D7E\",\n",
    "        \"3124E4A\",\n",
    "    ],\n",
    "    \"labels_target\": [\n",
    "        \"3123D52\",\n",
    "        \"3123D65\",\n",
    "        \"3123D79\",\n",
    "        \"3123D80\",\n",
    "        \"3123D54\",\n",
    "        \"3123D70\",\n",
    "        \"3123D7B\",\n",
    "        \"3123D89\",\n",
    "        \"3123D58\",\n",
    "        \"3123D76\",\n",
    "        \"3123D7D\",\n",
    "        \"3123EFE\",\n",
    "        \"3123D64\",\n",
    "        \"3123D78\",\n",
    "        \"3123D7E\",\n",
    "        \"3124E4A\",\n",
    "    ],\n",
    "    \"x_transforms_source\": [],\n",
    "    \"x_transforms_target\": [],\n",
    "    \"episode_transforms_source\": [],\n",
    "    \"episode_transforms_target\": [],\n",
    "    \"num_examples_per_domain_per_label_source\": 1000,\n",
    "    \"num_examples_per_domain_per_label_target\": 1000,\n",
    "    \"n_shot\": 3,\n",
    "    \"n_way\": 16,\n",
    "    \"n_query\": 2,\n",
    "    \"train_k_factor\": 1,\n",
    "    \"val_k_factor\": 2,\n",
    "    \"test_k_factor\": 2,\n",
    "    \"torch_default_dtype\": \"torch.float32\",\n",
    "    \"n_epoch\": 50,\n",
    "    \"patience\": 3,\n",
    "    \"criteria_for_best\": \"target_loss\",\n",
    "    \"x_net\": [\n",
    "        {\"class\": \"nnReshape\", \"kargs\": {\"shape\": [-1, 1, 2, 256]}},\n",
    "        {\n",
    "            \"class\": \"Conv2d\",\n",
    "            \"kargs\": {\n",
    "                \"in_channels\": 1,\n",
    "                \"out_channels\": 256,\n",
    "                \"kernel_size\": [1, 7],\n",
    "                \"bias\": False,\n",
    "                \"padding\": [0, 3],\n",
    "            },\n",
    "        },\n",
    "        {\"class\": \"ReLU\", \"kargs\": {\"inplace\": True}},\n",
    "        {\"class\": \"BatchNorm2d\", \"kargs\": {\"num_features\": 256}},\n",
    "        {\n",
    "            \"class\": \"Conv2d\",\n",
    "            \"kargs\": {\n",
    "                \"in_channels\": 256,\n",
    "                \"out_channels\": 80,\n",
    "                \"kernel_size\": [2, 7],\n",
    "                \"bias\": True,\n",
    "                \"padding\": [0, 3],\n",
    "            },\n",
    "        },\n",
    "        {\"class\": \"ReLU\", \"kargs\": {\"inplace\": True}},\n",
    "        {\"class\": \"BatchNorm2d\", \"kargs\": {\"num_features\": 80}},\n",
    "        {\"class\": \"Flatten\", \"kargs\": {}},\n",
    "        {\"class\": \"Linear\", \"kargs\": {\"in_features\": 20480, \"out_features\": 256}},\n",
    "        {\"class\": \"ReLU\", \"kargs\": {\"inplace\": True}},\n",
    "        {\"class\": \"BatchNorm1d\", \"kargs\": {\"num_features\": 256}},\n",
    "        {\"class\": \"Linear\", \"kargs\": {\"in_features\": 256, \"out_features\": 256}},\n",
    "    ],\n",
    "    \"NUM_LOGS_PER_EPOCH\": 10,\n",
    "    \"BEST_MODEL_PATH\": \"./best_model.pth\",\n",
    "    \"pickle_name\": \"oracle.Run2_10kExamples_stratified_ds.2022A.pkl\",\n",
    "    \"domains_source\": [8, 32, 50],\n",
    "    \"domains_target\": [14, 20, 26, 38, 44],\n",
    "}\n"
   ]
  },
  {
   "cell_type": "code",
   "execution_count": 5,
   "id": "8fa1cc33",
   "metadata": {
    "execution": {
     "iopub.execute_input": "2022-03-04T01:31:47.167717Z",
     "iopub.status.busy": "2022-03-04T01:31:47.167463Z",
     "iopub.status.idle": "2022-03-04T01:31:47.177285Z",
     "shell.execute_reply": "2022-03-04T01:31:47.177040Z"
    },
    "papermill": {
     "duration": 0.021627,
     "end_time": "2022-03-04T01:31:47.177335",
     "exception": false,
     "start_time": "2022-03-04T01:31:47.155708",
     "status": "completed"
    },
    "tags": []
   },
   "outputs": [],
   "source": [
    "# Set this to True if you want to run this template directly\n",
    "STANDALONE = False\n",
    "if STANDALONE:\n",
    "    print(\"parameters not injected, running with standalone_parameters\")\n",
    "    parameters = standalone_parameters\n",
    "\n",
    "if not 'parameters' in locals() and not 'parameters' in globals():\n",
    "    raise Exception(\"Parameter injection failed\")\n",
    "\n",
    "#Use an easy dict for all the parameters\n",
    "p = EasyDict(parameters)\n",
    "\n",
    "supplied_keys = set(p.keys())\n",
    "\n",
    "if  supplied_keys != required_parameters:\n",
    "    print(\"Parameters are incorrect\")\n",
    "    if len(supplied_keys - required_parameters)>0: print(\"Shouldn't have:\", str(supplied_keys - required_parameters))\n",
    "    if len(required_parameters - supplied_keys)>0: print(\"Need to have:\", str(required_parameters - supplied_keys))\n",
    "    raise RuntimeError(\"Parameters are incorrect\")\n",
    "\n"
   ]
  },
  {
   "cell_type": "code",
   "execution_count": 6,
   "id": "3a028d58",
   "metadata": {
    "execution": {
     "iopub.execute_input": "2022-03-04T01:31:47.209604Z",
     "iopub.status.busy": "2022-03-04T01:31:47.204398Z",
     "iopub.status.idle": "2022-03-04T01:31:47.211545Z",
     "shell.execute_reply": "2022-03-04T01:31:47.211300Z"
    },
    "papermill": {
     "duration": 0.025044,
     "end_time": "2022-03-04T01:31:47.211596",
     "exception": false,
     "start_time": "2022-03-04T01:31:47.186552",
     "status": "completed"
    },
    "tags": []
   },
   "outputs": [],
   "source": [
    "###################################\n",
    "# Set the RNGs and make it all deterministic\n",
    "###################################\n",
    "np.random.seed(p.seed)\n",
    "random.seed(p.seed)\n",
    "torch.manual_seed(p.seed)\n",
    "\n",
    "torch.use_deterministic_algorithms(True) "
   ]
  },
  {
   "cell_type": "code",
   "execution_count": 7,
   "id": "b691acf6",
   "metadata": {
    "execution": {
     "iopub.execute_input": "2022-03-04T01:31:47.232810Z",
     "iopub.status.busy": "2022-03-04T01:31:47.232467Z",
     "iopub.status.idle": "2022-03-04T01:31:47.244506Z",
     "shell.execute_reply": "2022-03-04T01:31:47.244273Z"
    },
    "papermill": {
     "duration": 0.023581,
     "end_time": "2022-03-04T01:31:47.244560",
     "exception": false,
     "start_time": "2022-03-04T01:31:47.220979",
     "status": "completed"
    },
    "tags": []
   },
   "outputs": [],
   "source": [
    "###########################################\n",
    "# The stratified datasets honor this\n",
    "###########################################\n",
    "torch.set_default_dtype(eval(p.torch_default_dtype))"
   ]
  },
  {
   "cell_type": "code",
   "execution_count": 8,
   "id": "b5fba671",
   "metadata": {
    "execution": {
     "iopub.execute_input": "2022-03-04T01:31:47.270107Z",
     "iopub.status.busy": "2022-03-04T01:31:47.269733Z",
     "iopub.status.idle": "2022-03-04T01:31:47.304003Z",
     "shell.execute_reply": "2022-03-04T01:31:47.303548Z"
    },
    "papermill": {
     "duration": 0.045099,
     "end_time": "2022-03-04T01:31:47.304093",
     "exception": false,
     "start_time": "2022-03-04T01:31:47.258994",
     "status": "completed"
    },
    "tags": []
   },
   "outputs": [],
   "source": [
    "###################################\n",
    "# Build the network(s)\n",
    "# Note: It's critical to do this AFTER setting the RNG\n",
    "# (This is due to the randomized initial weights)\n",
    "###################################\n",
    "x_net = build_sequential(p.x_net)"
   ]
  },
  {
   "cell_type": "code",
   "execution_count": 9,
   "id": "5d7e61cc",
   "metadata": {
    "execution": {
     "iopub.execute_input": "2022-03-04T01:31:47.330641Z",
     "iopub.status.busy": "2022-03-04T01:31:47.330161Z",
     "iopub.status.idle": "2022-03-04T01:31:47.342363Z",
     "shell.execute_reply": "2022-03-04T01:31:47.341921Z"
    },
    "papermill": {
     "duration": 0.023827,
     "end_time": "2022-03-04T01:31:47.342453",
     "exception": false,
     "start_time": "2022-03-04T01:31:47.318626",
     "status": "completed"
    },
    "tags": []
   },
   "outputs": [],
   "source": [
    "start_time_secs = time.time()"
   ]
  },
  {
   "cell_type": "code",
   "execution_count": 10,
   "id": "fd5442bc",
   "metadata": {
    "execution": {
     "iopub.execute_input": "2022-03-04T01:31:47.374215Z",
     "iopub.status.busy": "2022-03-04T01:31:47.372792Z",
     "iopub.status.idle": "2022-03-04T01:31:50.468439Z",
     "shell.execute_reply": "2022-03-04T01:31:50.468176Z"
    },
    "papermill": {
     "duration": 3.111809,
     "end_time": "2022-03-04T01:31:50.468507",
     "exception": false,
     "start_time": "2022-03-04T01:31:47.356698",
     "status": "completed"
    },
    "tags": []
   },
   "outputs": [],
   "source": [
    "###################################\n",
    "# Build the dataset\n",
    "###################################\n",
    "\n",
    "if p.x_transforms_source == []: x_transform_source = None\n",
    "else: x_transform_source = get_chained_transform(p.x_transforms_source) \n",
    "\n",
    "if p.x_transforms_target == []: x_transform_target = None\n",
    "else: x_transform_target = get_chained_transform(p.x_transforms_target)\n",
    "\n",
    "if p.episode_transforms_source == []: episode_transform_source = None\n",
    "else: raise Exception(\"episode_transform_source not implemented\")\n",
    "\n",
    "if p.episode_transforms_target == []: episode_transform_target = None\n",
    "else: raise Exception(\"episode_transform_target not implemented\")\n",
    "\n",
    "\n",
    "eaf_source = Episodic_Accessor_Factory(\n",
    "    labels=p.labels_source,\n",
    "    domains=p.domains_source,\n",
    "    num_examples_per_domain_per_label=p.num_examples_per_domain_per_label_source,\n",
    "    iterator_seed=p.seed,\n",
    "    dataset_seed=p.dataset_seed,\n",
    "    n_shot=p.n_shot,\n",
    "    n_way=p.n_way,\n",
    "    n_query=p.n_query,\n",
    "    train_val_test_k_factors=(p.train_k_factor,p.val_k_factor,p.test_k_factor),\n",
    "    pickle_path=os.path.join(get_datasets_base_path(), p.pickle_name),\n",
    "    x_transform_func=x_transform_source,\n",
    "    example_transform_func=episode_transform_source,\n",
    "    \n",
    ")\n",
    "train_original_source, val_original_source, test_original_source = eaf_source.get_train(), eaf_source.get_val(), eaf_source.get_test()\n",
    "\n",
    "\n",
    "eaf_target = Episodic_Accessor_Factory(\n",
    "    labels=p.labels_target,\n",
    "    domains=p.domains_target,\n",
    "    num_examples_per_domain_per_label=p.num_examples_per_domain_per_label_target,\n",
    "    iterator_seed=p.seed,\n",
    "    dataset_seed=p.dataset_seed,\n",
    "    n_shot=p.n_shot,\n",
    "    n_way=p.n_way,\n",
    "    n_query=p.n_query,\n",
    "    train_val_test_k_factors=(p.train_k_factor,p.val_k_factor,p.test_k_factor),\n",
    "    pickle_path=os.path.join(get_datasets_base_path(), p.pickle_name),\n",
    "    x_transform_func=x_transform_target,\n",
    "    example_transform_func=episode_transform_target,\n",
    ")\n",
    "train_original_target, val_original_target, test_original_target = eaf_target.get_train(), eaf_target.get_val(), eaf_target.get_test()\n",
    "\n",
    "\n",
    "transform_lambda = lambda ex: ex[1] # Original is (<domain>, <episode>) so we strip down to episode only\n",
    "\n",
    "train_processed_source = Lazy_Iterable_Wrapper(train_original_source, transform_lambda)\n",
    "val_processed_source   = Lazy_Iterable_Wrapper(val_original_source, transform_lambda)\n",
    "test_processed_source  = Lazy_Iterable_Wrapper(test_original_source, transform_lambda)\n",
    "\n",
    "train_processed_target = Lazy_Iterable_Wrapper(train_original_target, transform_lambda)\n",
    "val_processed_target   = Lazy_Iterable_Wrapper(val_original_target, transform_lambda)\n",
    "test_processed_target  = Lazy_Iterable_Wrapper(test_original_target, transform_lambda)\n",
    "\n",
    "datasets = EasyDict({\n",
    "    \"source\": {\n",
    "        \"original\": {\"train\":train_original_source, \"val\":val_original_source, \"test\":test_original_source},\n",
    "        \"processed\": {\"train\":train_processed_source, \"val\":val_processed_source, \"test\":test_processed_source}\n",
    "    },\n",
    "    \"target\": {\n",
    "        \"original\": {\"train\":train_original_target, \"val\":val_original_target, \"test\":test_original_target},\n",
    "        \"processed\": {\"train\":train_processed_target, \"val\":val_processed_target, \"test\":test_processed_target}\n",
    "    },\n",
    "})"
   ]
  },
  {
   "cell_type": "code",
   "execution_count": 11,
   "id": "296189d9",
   "metadata": {
    "execution": {
     "iopub.execute_input": "2022-03-04T01:31:50.499066Z",
     "iopub.status.busy": "2022-03-04T01:31:50.498768Z",
     "iopub.status.idle": "2022-03-04T01:31:53.023230Z",
     "shell.execute_reply": "2022-03-04T01:31:53.023448Z"
    },
    "papermill": {
     "duration": 2.539986,
     "end_time": "2022-03-04T01:31:53.023526",
     "exception": false,
     "start_time": "2022-03-04T01:31:50.483540",
     "status": "completed"
    },
    "tags": []
   },
   "outputs": [
    {
     "name": "stdout",
     "output_type": "stream",
     "text": [
      "Visually inspect these to see if they line up with expected values given the transforms\n",
      "x_transforms_source []\n",
      "x_transforms_target []\n",
      "Average magnitude, source: 0.0023024231\n",
      "Average power, source: 6.4541828e-06\n"
     ]
    },
    {
     "name": "stdout",
     "output_type": "stream",
     "text": [
      "Average magnitude, target: 0.0013594606\n",
      "Average power, target: 2.4355281e-06\n"
     ]
    }
   ],
   "source": [
    "# Some quick unit tests on the data\n",
    "from steves_utils.transforms import get_average_power, get_average_magnitude\n",
    "\n",
    "q_x, q_y, s_x, s_y, truth = next(iter(train_processed_source))\n",
    "\n",
    "assert q_x.dtype == eval(p.torch_default_dtype)\n",
    "assert s_x.dtype == eval(p.torch_default_dtype)\n",
    "\n",
    "print(\"Visually inspect these to see if they line up with expected values given the transforms\")\n",
    "print('x_transforms_source', p.x_transforms_source)\n",
    "print('x_transforms_target', p.x_transforms_target)\n",
    "print(\"Average magnitude, source:\", get_average_magnitude(q_x[0].numpy()))\n",
    "print(\"Average power, source:\", get_average_power(q_x[0].numpy()))\n",
    "\n",
    "q_x, q_y, s_x, s_y, truth = next(iter(train_processed_target))\n",
    "print(\"Average magnitude, target:\", get_average_magnitude(q_x[0].numpy()))\n",
    "print(\"Average power, target:\", get_average_power(q_x[0].numpy()))\n"
   ]
  },
  {
   "cell_type": "code",
   "execution_count": 12,
   "id": "bbdacba1",
   "metadata": {
    "execution": {
     "iopub.execute_input": "2022-03-04T01:31:53.046498Z",
     "iopub.status.busy": "2022-03-04T01:31:53.046099Z",
     "iopub.status.idle": "2022-03-04T01:31:53.102908Z",
     "shell.execute_reply": "2022-03-04T01:31:53.102655Z"
    },
    "papermill": {
     "duration": 0.069166,
     "end_time": "2022-03-04T01:31:53.102968",
     "exception": false,
     "start_time": "2022-03-04T01:31:53.033802",
     "status": "completed"
    },
    "tags": []
   },
   "outputs": [
    {
     "name": "stdout",
     "output_type": "stream",
     "text": [
      "(2, 256)\n"
     ]
    }
   ],
   "source": [
    "###################################\n",
    "# Build the model\n",
    "###################################\n",
    "model = Steves_Prototypical_Network(x_net, device=p.device, x_shape=(2,256))\n",
    "optimizer = Adam(params=model.parameters(), lr=p.lr)"
   ]
  },
  {
   "cell_type": "code",
   "execution_count": 13,
   "id": "22b39ac5",
   "metadata": {
    "execution": {
     "iopub.execute_input": "2022-03-04T01:31:53.128482Z",
     "iopub.status.busy": "2022-03-04T01:31:53.128085Z",
     "iopub.status.idle": "2022-03-04T01:42:56.647196Z",
     "shell.execute_reply": "2022-03-04T01:42:56.646948Z"
    },
    "papermill": {
     "duration": 663.532208,
     "end_time": "2022-03-04T01:42:56.647258",
     "exception": false,
     "start_time": "2022-03-04T01:31:53.115050",
     "status": "completed"
    },
    "tags": []
   },
   "outputs": [
    {
     "name": "stdout",
     "output_type": "stream",
     "text": [
      "epoch: 1, [batch: 1 / 420], examples_per_second: 9.6040, train_label_loss: 2.4339, \n"
     ]
    },
    {
     "name": "stdout",
     "output_type": "stream",
     "text": [
      "epoch: 1, [batch: 42 / 420], examples_per_second: 831.9055, train_label_loss: 1.2913, \n"
     ]
    },
    {
     "name": "stdout",
     "output_type": "stream",
     "text": [
      "epoch: 1, [batch: 84 / 420], examples_per_second: 900.1161, train_label_loss: 1.5701, \n"
     ]
    },
    {
     "name": "stdout",
     "output_type": "stream",
     "text": [
      "epoch: 1, [batch: 126 / 420], examples_per_second: 979.5617, train_label_loss: 1.4031, \n"
     ]
    },
    {
     "name": "stdout",
     "output_type": "stream",
     "text": [
      "epoch: 1, [batch: 168 / 420], examples_per_second: 1104.3885, train_label_loss: 0.9827, \n"
     ]
    },
    {
     "name": "stdout",
     "output_type": "stream",
     "text": [
      "epoch: 1, [batch: 210 / 420], examples_per_second: 1242.3416, train_label_loss: 1.1489, \n"
     ]
    },
    {
     "name": "stdout",
     "output_type": "stream",
     "text": [
      "epoch: 1, [batch: 252 / 420], examples_per_second: 1393.0026, train_label_loss: 1.1591, \n"
     ]
    },
    {
     "name": "stdout",
     "output_type": "stream",
     "text": [
      "epoch: 1, [batch: 294 / 420], examples_per_second: 1557.1655, train_label_loss: 1.1526, \n"
     ]
    },
    {
     "name": "stdout",
     "output_type": "stream",
     "text": [
      "epoch: 1, [batch: 336 / 420], examples_per_second: 1831.1956, train_label_loss: 1.3405, \n"
     ]
    },
    {
     "name": "stdout",
     "output_type": "stream",
     "text": [
      "epoch: 1, [batch: 378 / 420], examples_per_second: 2334.1301, train_label_loss: 1.4245, \n"
     ]
    },
    {
     "name": "stdout",
     "output_type": "stream",
     "text": [
      "=============================================================\n",
      "epoch: 1, source_val_acc_label: 0.4837, target_val_acc_label: 0.3929, source_val_label_loss: 1.6553, target_val_label_loss: 1.9801, \n",
      "=============================================================\n"
     ]
    },
    {
     "name": "stdout",
     "output_type": "stream",
     "text": [
      "New best\n"
     ]
    },
    {
     "name": "stdout",
     "output_type": "stream",
     "text": [
      "epoch: 2, [batch: 1 / 420], examples_per_second: 5.3436, train_label_loss: 1.2319, \n"
     ]
    },
    {
     "name": "stdout",
     "output_type": "stream",
     "text": [
      "epoch: 2, [batch: 42 / 420], examples_per_second: 842.2049, train_label_loss: 2.0747, \n"
     ]
    },
    {
     "name": "stdout",
     "output_type": "stream",
     "text": [
      "epoch: 2, [batch: 84 / 420], examples_per_second: 929.6298, train_label_loss: 1.4481, \n"
     ]
    },
    {
     "name": "stdout",
     "output_type": "stream",
     "text": [
      "epoch: 2, [batch: 126 / 420], examples_per_second: 958.9927, train_label_loss: 1.4042, \n"
     ]
    },
    {
     "name": "stdout",
     "output_type": "stream",
     "text": [
      "epoch: 2, [batch: 168 / 420], examples_per_second: 1043.4346, train_label_loss: 1.4567, \n"
     ]
    },
    {
     "name": "stdout",
     "output_type": "stream",
     "text": [
      "epoch: 2, [batch: 210 / 420], examples_per_second: 1151.2140, train_label_loss: 1.5398, \n"
     ]
    },
    {
     "name": "stdout",
     "output_type": "stream",
     "text": [
      "epoch: 2, [batch: 252 / 420], examples_per_second: 1334.7296, train_label_loss: 1.3507, \n"
     ]
    },
    {
     "name": "stdout",
     "output_type": "stream",
     "text": [
      "epoch: 2, [batch: 294 / 420], examples_per_second: 1538.5663, train_label_loss: 1.3293, \n"
     ]
    },
    {
     "name": "stdout",
     "output_type": "stream",
     "text": [
      "epoch: 2, [batch: 336 / 420], examples_per_second: 1768.6458, train_label_loss: 1.4992, \n"
     ]
    },
    {
     "name": "stdout",
     "output_type": "stream",
     "text": [
      "epoch: 2, [batch: 378 / 420], examples_per_second: 2043.7066, train_label_loss: 1.0179, \n"
     ]
    },
    {
     "name": "stdout",
     "output_type": "stream",
     "text": [
      "=============================================================\n",
      "epoch: 2, source_val_acc_label: 0.4750, target_val_acc_label: 0.3846, source_val_label_loss: 1.2830, target_val_label_loss: 1.6923, \n",
      "=============================================================\n"
     ]
    },
    {
     "name": "stdout",
     "output_type": "stream",
     "text": [
      "New best\n"
     ]
    },
    {
     "name": "stdout",
     "output_type": "stream",
     "text": [
      "epoch: 3, [batch: 1 / 420], examples_per_second: 5.1017, train_label_loss: 1.0844, \n"
     ]
    },
    {
     "name": "stdout",
     "output_type": "stream",
     "text": [
      "epoch: 3, [batch: 42 / 420], examples_per_second: 857.7760, train_label_loss: 1.1502, \n"
     ]
    },
    {
     "name": "stdout",
     "output_type": "stream",
     "text": [
      "epoch: 3, [batch: 84 / 420], examples_per_second: 918.3386, train_label_loss: 1.0655, \n"
     ]
    },
    {
     "name": "stdout",
     "output_type": "stream",
     "text": [
      "epoch: 3, [batch: 126 / 420], examples_per_second: 1019.9044, train_label_loss: 1.3482, \n"
     ]
    },
    {
     "name": "stdout",
     "output_type": "stream",
     "text": [
      "epoch: 3, [batch: 168 / 420], examples_per_second: 1123.0529, train_label_loss: 1.2125, \n"
     ]
    },
    {
     "name": "stdout",
     "output_type": "stream",
     "text": [
      "epoch: 3, [batch: 210 / 420], examples_per_second: 1240.8673, train_label_loss: 1.0725, \n"
     ]
    },
    {
     "name": "stdout",
     "output_type": "stream",
     "text": [
      "epoch: 3, [batch: 252 / 420], examples_per_second: 1420.2850, train_label_loss: 1.2725, \n"
     ]
    },
    {
     "name": "stdout",
     "output_type": "stream",
     "text": [
      "epoch: 3, [batch: 294 / 420], examples_per_second: 1621.0266, train_label_loss: 1.3445, \n"
     ]
    },
    {
     "name": "stdout",
     "output_type": "stream",
     "text": [
      "epoch: 3, [batch: 336 / 420], examples_per_second: 1904.7833, train_label_loss: 0.8979, \n"
     ]
    },
    {
     "name": "stdout",
     "output_type": "stream",
     "text": [
      "epoch: 3, [batch: 378 / 420], examples_per_second: 2378.1864, train_label_loss: 1.1816, \n"
     ]
    },
    {
     "name": "stdout",
     "output_type": "stream",
     "text": [
      "=============================================================\n",
      "epoch: 3, source_val_acc_label: 0.6413, target_val_acc_label: 0.5058, source_val_label_loss: 0.9344, target_val_label_loss: 1.4424, \n",
      "=============================================================\n"
     ]
    },
    {
     "name": "stdout",
     "output_type": "stream",
     "text": [
      "New best\n"
     ]
    },
    {
     "name": "stdout",
     "output_type": "stream",
     "text": [
      "epoch: 4, [batch: 1 / 420], examples_per_second: 5.4393, train_label_loss: 1.2716, \n"
     ]
    },
    {
     "name": "stdout",
     "output_type": "stream",
     "text": [
      "epoch: 4, [batch: 42 / 420], examples_per_second: 865.6089, train_label_loss: 0.5102, \n"
     ]
    },
    {
     "name": "stdout",
     "output_type": "stream",
     "text": [
      "epoch: 4, [batch: 84 / 420], examples_per_second: 938.4594, train_label_loss: 1.2472, \n"
     ]
    },
    {
     "name": "stdout",
     "output_type": "stream",
     "text": [
      "epoch: 4, [batch: 126 / 420], examples_per_second: 1008.1238, train_label_loss: 0.5380, \n"
     ]
    },
    {
     "name": "stdout",
     "output_type": "stream",
     "text": [
      "epoch: 4, [batch: 168 / 420], examples_per_second: 1112.9017, train_label_loss: 0.7809, \n"
     ]
    },
    {
     "name": "stdout",
     "output_type": "stream",
     "text": [
      "epoch: 4, [batch: 210 / 420], examples_per_second: 1256.4903, train_label_loss: 0.8294, \n"
     ]
    },
    {
     "name": "stdout",
     "output_type": "stream",
     "text": [
      "epoch: 4, [batch: 252 / 420], examples_per_second: 1288.0606, train_label_loss: 0.8804, \n"
     ]
    },
    {
     "name": "stdout",
     "output_type": "stream",
     "text": [
      "epoch: 4, [batch: 294 / 420], examples_per_second: 1522.2099, train_label_loss: 0.7716, \n"
     ]
    },
    {
     "name": "stdout",
     "output_type": "stream",
     "text": [
      "epoch: 4, [batch: 336 / 420], examples_per_second: 1923.4465, train_label_loss: 0.5967, \n"
     ]
    },
    {
     "name": "stdout",
     "output_type": "stream",
     "text": [
      "epoch: 4, [batch: 378 / 420], examples_per_second: 2119.5578, train_label_loss: 0.5733, \n"
     ]
    },
    {
     "name": "stdout",
     "output_type": "stream",
     "text": [
      "=============================================================\n",
      "epoch: 4, source_val_acc_label: 0.7302, target_val_acc_label: 0.5682, source_val_label_loss: 0.7531, target_val_label_loss: 1.2414, \n",
      "=============================================================\n"
     ]
    },
    {
     "name": "stdout",
     "output_type": "stream",
     "text": [
      "New best\n"
     ]
    },
    {
     "name": "stdout",
     "output_type": "stream",
     "text": [
      "epoch: 5, [batch: 1 / 420], examples_per_second: 5.3574, train_label_loss: 0.7489, \n"
     ]
    },
    {
     "name": "stdout",
     "output_type": "stream",
     "text": [
      "epoch: 5, [batch: 42 / 420], examples_per_second: 854.9545, train_label_loss: 0.7671, \n"
     ]
    },
    {
     "name": "stdout",
     "output_type": "stream",
     "text": [
      "epoch: 5, [batch: 84 / 420], examples_per_second: 920.0022, train_label_loss: 0.3957, \n"
     ]
    },
    {
     "name": "stdout",
     "output_type": "stream",
     "text": [
      "epoch: 5, [batch: 126 / 420], examples_per_second: 1004.2238, train_label_loss: 0.3579, \n"
     ]
    },
    {
     "name": "stdout",
     "output_type": "stream",
     "text": [
      "epoch: 5, [batch: 168 / 420], examples_per_second: 1096.9561, train_label_loss: 0.3379, \n"
     ]
    },
    {
     "name": "stdout",
     "output_type": "stream",
     "text": [
      "epoch: 5, [batch: 210 / 420], examples_per_second: 1237.1375, train_label_loss: 0.6964, \n"
     ]
    },
    {
     "name": "stdout",
     "output_type": "stream",
     "text": [
      "epoch: 5, [batch: 252 / 420], examples_per_second: 1385.4084, train_label_loss: 1.2311, \n"
     ]
    },
    {
     "name": "stdout",
     "output_type": "stream",
     "text": [
      "epoch: 5, [batch: 294 / 420], examples_per_second: 1619.1913, train_label_loss: 0.8623, \n"
     ]
    },
    {
     "name": "stdout",
     "output_type": "stream",
     "text": [
      "epoch: 5, [batch: 336 / 420], examples_per_second: 1952.0872, train_label_loss: 0.3071, \n"
     ]
    },
    {
     "name": "stdout",
     "output_type": "stream",
     "text": [
      "epoch: 5, [batch: 378 / 420], examples_per_second: 2238.4811, train_label_loss: 0.7100, \n"
     ]
    },
    {
     "name": "stdout",
     "output_type": "stream",
     "text": [
      "=============================================================\n",
      "epoch: 5, source_val_acc_label: 0.7441, target_val_acc_label: 0.5857, source_val_label_loss: 0.7067, target_val_label_loss: 1.2343, \n",
      "=============================================================\n"
     ]
    },
    {
     "name": "stdout",
     "output_type": "stream",
     "text": [
      "New best\n"
     ]
    },
    {
     "name": "stdout",
     "output_type": "stream",
     "text": [
      "epoch: 6, [batch: 1 / 420], examples_per_second: 5.2321, train_label_loss: 1.2152, \n"
     ]
    },
    {
     "name": "stdout",
     "output_type": "stream",
     "text": [
      "epoch: 6, [batch: 42 / 420], examples_per_second: 769.8967, train_label_loss: 0.5221, \n"
     ]
    },
    {
     "name": "stdout",
     "output_type": "stream",
     "text": [
      "epoch: 6, [batch: 84 / 420], examples_per_second: 885.9614, train_label_loss: 0.5587, \n"
     ]
    },
    {
     "name": "stdout",
     "output_type": "stream",
     "text": [
      "epoch: 6, [batch: 126 / 420], examples_per_second: 930.9428, train_label_loss: 0.7204, \n"
     ]
    },
    {
     "name": "stdout",
     "output_type": "stream",
     "text": [
      "epoch: 6, [batch: 168 / 420], examples_per_second: 1080.6427, train_label_loss: 0.4241, \n"
     ]
    },
    {
     "name": "stdout",
     "output_type": "stream",
     "text": [
      "epoch: 6, [batch: 210 / 420], examples_per_second: 1231.2068, train_label_loss: 0.1121, \n"
     ]
    },
    {
     "name": "stdout",
     "output_type": "stream",
     "text": [
      "epoch: 6, [batch: 252 / 420], examples_per_second: 1394.2485, train_label_loss: 0.2371, \n"
     ]
    },
    {
     "name": "stdout",
     "output_type": "stream",
     "text": [
      "epoch: 6, [batch: 294 / 420], examples_per_second: 1617.0124, train_label_loss: 0.9177, \n"
     ]
    },
    {
     "name": "stdout",
     "output_type": "stream",
     "text": [
      "epoch: 6, [batch: 336 / 420], examples_per_second: 1907.3946, train_label_loss: 0.1773, \n"
     ]
    },
    {
     "name": "stdout",
     "output_type": "stream",
     "text": [
      "epoch: 6, [batch: 378 / 420], examples_per_second: 2310.8192, train_label_loss: 0.5736, \n"
     ]
    },
    {
     "name": "stdout",
     "output_type": "stream",
     "text": [
      "=============================================================\n",
      "epoch: 6, source_val_acc_label: 0.7594, target_val_acc_label: 0.5984, source_val_label_loss: 0.6532, target_val_label_loss: 1.2042, \n",
      "=============================================================\n"
     ]
    },
    {
     "name": "stdout",
     "output_type": "stream",
     "text": [
      "New best\n"
     ]
    },
    {
     "name": "stdout",
     "output_type": "stream",
     "text": [
      "epoch: 7, [batch: 1 / 420], examples_per_second: 5.2786, train_label_loss: 0.3361, \n"
     ]
    },
    {
     "name": "stdout",
     "output_type": "stream",
     "text": [
      "epoch: 7, [batch: 42 / 420], examples_per_second: 765.1118, train_label_loss: 0.6368, \n"
     ]
    },
    {
     "name": "stdout",
     "output_type": "stream",
     "text": [
      "epoch: 7, [batch: 84 / 420], examples_per_second: 891.1538, train_label_loss: 0.3121, \n"
     ]
    },
    {
     "name": "stdout",
     "output_type": "stream",
     "text": [
      "epoch: 7, [batch: 126 / 420], examples_per_second: 922.5450, train_label_loss: 0.2032, \n"
     ]
    },
    {
     "name": "stdout",
     "output_type": "stream",
     "text": [
      "epoch: 7, [batch: 168 / 420], examples_per_second: 1097.2919, train_label_loss: 0.1565, \n"
     ]
    },
    {
     "name": "stdout",
     "output_type": "stream",
     "text": [
      "epoch: 7, [batch: 210 / 420], examples_per_second: 1236.9493, train_label_loss: 0.7109, \n"
     ]
    },
    {
     "name": "stdout",
     "output_type": "stream",
     "text": [
      "epoch: 7, [batch: 252 / 420], examples_per_second: 1399.1625, train_label_loss: 0.2449, \n"
     ]
    },
    {
     "name": "stdout",
     "output_type": "stream",
     "text": [
      "epoch: 7, [batch: 294 / 420], examples_per_second: 1655.1511, train_label_loss: 0.7894, \n"
     ]
    },
    {
     "name": "stdout",
     "output_type": "stream",
     "text": [
      "epoch: 7, [batch: 336 / 420], examples_per_second: 1916.6678, train_label_loss: 0.6234, \n"
     ]
    },
    {
     "name": "stdout",
     "output_type": "stream",
     "text": [
      "epoch: 7, [batch: 378 / 420], examples_per_second: 2333.7710, train_label_loss: 0.5857, \n"
     ]
    },
    {
     "name": "stdout",
     "output_type": "stream",
     "text": [
      "=============================================================\n",
      "epoch: 7, source_val_acc_label: 0.7674, target_val_acc_label: 0.6116, source_val_label_loss: 0.6590, target_val_label_loss: 1.2758, \n",
      "=============================================================\n"
     ]
    },
    {
     "name": "stdout",
     "output_type": "stream",
     "text": [
      "epoch: 8, [batch: 1 / 420], examples_per_second: 5.2419, train_label_loss: 0.2112, \n"
     ]
    },
    {
     "name": "stdout",
     "output_type": "stream",
     "text": [
      "epoch: 8, [batch: 42 / 420], examples_per_second: 752.6535, train_label_loss: 0.5156, \n"
     ]
    },
    {
     "name": "stdout",
     "output_type": "stream",
     "text": [
      "epoch: 8, [batch: 84 / 420], examples_per_second: 885.5792, train_label_loss: 0.6840, \n"
     ]
    },
    {
     "name": "stdout",
     "output_type": "stream",
     "text": [
      "epoch: 8, [batch: 126 / 420], examples_per_second: 939.2264, train_label_loss: 0.3108, \n"
     ]
    },
    {
     "name": "stdout",
     "output_type": "stream",
     "text": [
      "epoch: 8, [batch: 168 / 420], examples_per_second: 1063.1514, train_label_loss: 0.1994, \n"
     ]
    },
    {
     "name": "stdout",
     "output_type": "stream",
     "text": [
      "epoch: 8, [batch: 210 / 420], examples_per_second: 1246.0220, train_label_loss: 0.5601, \n"
     ]
    },
    {
     "name": "stdout",
     "output_type": "stream",
     "text": [
      "epoch: 8, [batch: 252 / 420], examples_per_second: 1396.7679, train_label_loss: 0.4327, \n"
     ]
    },
    {
     "name": "stdout",
     "output_type": "stream",
     "text": [
      "epoch: 8, [batch: 294 / 420], examples_per_second: 1635.9927, train_label_loss: 0.5282, \n"
     ]
    },
    {
     "name": "stdout",
     "output_type": "stream",
     "text": [
      "epoch: 8, [batch: 336 / 420], examples_per_second: 1903.1124, train_label_loss: 0.9610, \n"
     ]
    },
    {
     "name": "stdout",
     "output_type": "stream",
     "text": [
      "epoch: 8, [batch: 378 / 420], examples_per_second: 2312.5950, train_label_loss: 0.5839, \n"
     ]
    },
    {
     "name": "stdout",
     "output_type": "stream",
     "text": [
      "=============================================================\n",
      "epoch: 8, source_val_acc_label: 0.7583, target_val_acc_label: 0.6204, source_val_label_loss: 0.6392, target_val_label_loss: 1.1550, \n",
      "=============================================================\n"
     ]
    },
    {
     "name": "stdout",
     "output_type": "stream",
     "text": [
      "New best\n"
     ]
    },
    {
     "name": "stdout",
     "output_type": "stream",
     "text": [
      "epoch: 9, [batch: 1 / 420], examples_per_second: 5.2265, train_label_loss: 0.4834, \n"
     ]
    },
    {
     "name": "stdout",
     "output_type": "stream",
     "text": [
      "epoch: 9, [batch: 42 / 420], examples_per_second: 764.3551, train_label_loss: 0.4456, \n"
     ]
    },
    {
     "name": "stdout",
     "output_type": "stream",
     "text": [
      "epoch: 9, [batch: 84 / 420], examples_per_second: 890.6197, train_label_loss: 0.8884, \n"
     ]
    },
    {
     "name": "stdout",
     "output_type": "stream",
     "text": [
      "epoch: 9, [batch: 126 / 420], examples_per_second: 927.1910, train_label_loss: 0.3276, \n"
     ]
    },
    {
     "name": "stdout",
     "output_type": "stream",
     "text": [
      "epoch: 9, [batch: 168 / 420], examples_per_second: 1101.2761, train_label_loss: 0.6422, \n"
     ]
    },
    {
     "name": "stdout",
     "output_type": "stream",
     "text": [
      "epoch: 9, [batch: 210 / 420], examples_per_second: 1257.6436, train_label_loss: 0.8041, \n"
     ]
    },
    {
     "name": "stdout",
     "output_type": "stream",
     "text": [
      "epoch: 9, [batch: 252 / 420], examples_per_second: 1394.7249, train_label_loss: 0.6373, \n"
     ]
    },
    {
     "name": "stdout",
     "output_type": "stream",
     "text": [
      "epoch: 9, [batch: 294 / 420], examples_per_second: 1634.7787, train_label_loss: 0.5492, \n"
     ]
    },
    {
     "name": "stdout",
     "output_type": "stream",
     "text": [
      "epoch: 9, [batch: 336 / 420], examples_per_second: 2034.8369, train_label_loss: 0.6003, \n"
     ]
    },
    {
     "name": "stdout",
     "output_type": "stream",
     "text": [
      "epoch: 9, [batch: 378 / 420], examples_per_second: 2091.1223, train_label_loss: 0.3306, \n"
     ]
    },
    {
     "name": "stdout",
     "output_type": "stream",
     "text": [
      "=============================================================\n",
      "epoch: 9, source_val_acc_label: 0.7689, target_val_acc_label: 0.6259, source_val_label_loss: 0.6237, target_val_label_loss: 1.1638, \n",
      "=============================================================\n"
     ]
    },
    {
     "name": "stdout",
     "output_type": "stream",
     "text": [
      "epoch: 10, [batch: 1 / 420], examples_per_second: 5.2820, train_label_loss: 0.3452, \n"
     ]
    },
    {
     "name": "stdout",
     "output_type": "stream",
     "text": [
      "epoch: 10, [batch: 42 / 420], examples_per_second: 748.9283, train_label_loss: 0.4800, \n"
     ]
    },
    {
     "name": "stdout",
     "output_type": "stream",
     "text": [
      "epoch: 10, [batch: 84 / 420], examples_per_second: 889.2405, train_label_loss: 0.3338, \n"
     ]
    },
    {
     "name": "stdout",
     "output_type": "stream",
     "text": [
      "epoch: 10, [batch: 126 / 420], examples_per_second: 930.5407, train_label_loss: 0.1680, \n"
     ]
    },
    {
     "name": "stdout",
     "output_type": "stream",
     "text": [
      "epoch: 10, [batch: 168 / 420], examples_per_second: 1084.3234, train_label_loss: 0.1907, \n"
     ]
    },
    {
     "name": "stdout",
     "output_type": "stream",
     "text": [
      "epoch: 10, [batch: 210 / 420], examples_per_second: 1263.5795, train_label_loss: 0.1347, \n"
     ]
    },
    {
     "name": "stdout",
     "output_type": "stream",
     "text": [
      "epoch: 10, [batch: 252 / 420], examples_per_second: 1388.1837, train_label_loss: 0.3757, \n"
     ]
    },
    {
     "name": "stdout",
     "output_type": "stream",
     "text": [
      "epoch: 10, [batch: 294 / 420], examples_per_second: 1644.1446, train_label_loss: 0.6486, \n"
     ]
    },
    {
     "name": "stdout",
     "output_type": "stream",
     "text": [
      "epoch: 10, [batch: 336 / 420], examples_per_second: 1904.7429, train_label_loss: 0.2378, \n"
     ]
    },
    {
     "name": "stdout",
     "output_type": "stream",
     "text": [
      "epoch: 10, [batch: 378 / 420], examples_per_second: 2171.6650, train_label_loss: 0.3039, \n"
     ]
    },
    {
     "name": "stdout",
     "output_type": "stream",
     "text": [
      "=============================================================\n",
      "epoch: 10, source_val_acc_label: 0.7705, target_val_acc_label: 0.6065, source_val_label_loss: 0.6326, target_val_label_loss: 1.1563, \n",
      "=============================================================\n"
     ]
    },
    {
     "name": "stdout",
     "output_type": "stream",
     "text": [
      "epoch: 11, [batch: 1 / 420], examples_per_second: 5.2345, train_label_loss: 0.3742, \n"
     ]
    },
    {
     "name": "stdout",
     "output_type": "stream",
     "text": [
      "epoch: 11, [batch: 42 / 420], examples_per_second: 744.4583, train_label_loss: 0.2653, \n"
     ]
    },
    {
     "name": "stdout",
     "output_type": "stream",
     "text": [
      "epoch: 11, [batch: 84 / 420], examples_per_second: 892.2933, train_label_loss: 0.4174, \n"
     ]
    },
    {
     "name": "stdout",
     "output_type": "stream",
     "text": [
      "epoch: 11, [batch: 126 / 420], examples_per_second: 931.3820, train_label_loss: 0.2457, \n"
     ]
    },
    {
     "name": "stdout",
     "output_type": "stream",
     "text": [
      "epoch: 11, [batch: 168 / 420], examples_per_second: 1083.1952, train_label_loss: 0.3310, \n"
     ]
    },
    {
     "name": "stdout",
     "output_type": "stream",
     "text": [
      "epoch: 11, [batch: 210 / 420], examples_per_second: 1229.8723, train_label_loss: 0.2006, \n"
     ]
    },
    {
     "name": "stdout",
     "output_type": "stream",
     "text": [
      "epoch: 11, [batch: 252 / 420], examples_per_second: 1408.0265, train_label_loss: 0.2001, \n"
     ]
    },
    {
     "name": "stdout",
     "output_type": "stream",
     "text": [
      "epoch: 11, [batch: 294 / 420], examples_per_second: 1670.3336, train_label_loss: 0.4126, \n"
     ]
    },
    {
     "name": "stdout",
     "output_type": "stream",
     "text": [
      "epoch: 11, [batch: 336 / 420], examples_per_second: 1946.1426, train_label_loss: 0.3213, \n"
     ]
    },
    {
     "name": "stdout",
     "output_type": "stream",
     "text": [
      "epoch: 11, [batch: 378 / 420], examples_per_second: 2320.2407, train_label_loss: 0.7740, \n"
     ]
    },
    {
     "name": "stdout",
     "output_type": "stream",
     "text": [
      "=============================================================\n",
      "epoch: 11, source_val_acc_label: 0.7774, target_val_acc_label: 0.6141, source_val_label_loss: 0.6047, target_val_label_loss: 1.2120, \n",
      "=============================================================\n"
     ]
    },
    {
     "name": "stdout",
     "output_type": "stream",
     "text": [
      "epoch: 12, [batch: 1 / 420], examples_per_second: 5.2337, train_label_loss: 0.4678, \n"
     ]
    },
    {
     "name": "stdout",
     "output_type": "stream",
     "text": [
      "epoch: 12, [batch: 42 / 420], examples_per_second: 747.9382, train_label_loss: 0.4659, \n"
     ]
    },
    {
     "name": "stdout",
     "output_type": "stream",
     "text": [
      "epoch: 12, [batch: 84 / 420], examples_per_second: 882.3273, train_label_loss: 0.4393, \n"
     ]
    },
    {
     "name": "stdout",
     "output_type": "stream",
     "text": [
      "epoch: 12, [batch: 126 / 420], examples_per_second: 933.7613, train_label_loss: 0.3031, \n"
     ]
    },
    {
     "name": "stdout",
     "output_type": "stream",
     "text": [
      "epoch: 12, [batch: 168 / 420], examples_per_second: 1104.4366, train_label_loss: 0.3507, \n"
     ]
    },
    {
     "name": "stdout",
     "output_type": "stream",
     "text": [
      "epoch: 12, [batch: 210 / 420], examples_per_second: 1249.1195, train_label_loss: 0.3306, \n"
     ]
    },
    {
     "name": "stdout",
     "output_type": "stream",
     "text": [
      "epoch: 12, [batch: 252 / 420], examples_per_second: 1398.5968, train_label_loss: 0.1130, \n"
     ]
    },
    {
     "name": "stdout",
     "output_type": "stream",
     "text": [
      "epoch: 12, [batch: 294 / 420], examples_per_second: 1634.8919, train_label_loss: 0.3790, \n"
     ]
    },
    {
     "name": "stdout",
     "output_type": "stream",
     "text": [
      "epoch: 12, [batch: 336 / 420], examples_per_second: 1954.1685, train_label_loss: 0.1733, \n"
     ]
    },
    {
     "name": "stdout",
     "output_type": "stream",
     "text": [
      "epoch: 12, [batch: 378 / 420], examples_per_second: 2345.0425, train_label_loss: 0.4684, \n"
     ]
    },
    {
     "name": "stdout",
     "output_type": "stream",
     "text": [
      "=============================================================\n",
      "epoch: 12, source_val_acc_label: 0.7726, target_val_acc_label: 0.6126, source_val_label_loss: 0.6333, target_val_label_loss: 1.3331, \n",
      "=============================================================\n"
     ]
    },
    {
     "name": "stdout",
     "output_type": "stream",
     "text": [
      "Patience (3) exhausted\n"
     ]
    }
   ],
   "source": [
    "###################################\n",
    "# train\n",
    "###################################\n",
    "jig = PTN_Train_Eval_Test_Jig(model, p.BEST_MODEL_PATH, p.device)\n",
    "\n",
    "jig.train(\n",
    "    train_iterable=datasets.source.processed.train,\n",
    "    source_val_iterable=datasets.source.processed.val,\n",
    "    target_val_iterable=datasets.target.processed.val,\n",
    "    num_epochs=p.n_epoch,\n",
    "    num_logs_per_epoch=p.NUM_LOGS_PER_EPOCH,\n",
    "    patience=p.patience,\n",
    "    optimizer=optimizer,\n",
    "    criteria_for_best=p.criteria_for_best,\n",
    ")"
   ]
  },
  {
   "cell_type": "code",
   "execution_count": 14,
   "id": "31e8fabf",
   "metadata": {
    "execution": {
     "iopub.execute_input": "2022-03-04T01:42:56.726897Z",
     "iopub.status.busy": "2022-03-04T01:42:56.726615Z",
     "iopub.status.idle": "2022-03-04T01:42:56.742645Z",
     "shell.execute_reply": "2022-03-04T01:42:56.743075Z"
    },
    "papermill": {
     "duration": 0.054612,
     "end_time": "2022-03-04T01:42:56.743190",
     "exception": false,
     "start_time": "2022-03-04T01:42:56.688578",
     "status": "completed"
    },
    "tags": []
   },
   "outputs": [],
   "source": [
    "total_experiment_time_secs = time.time() - start_time_secs"
   ]
  },
  {
   "cell_type": "code",
   "execution_count": 15,
   "id": "87b9595b",
   "metadata": {
    "execution": {
     "iopub.execute_input": "2022-03-04T01:42:56.830379Z",
     "iopub.status.busy": "2022-03-04T01:42:56.830096Z",
     "iopub.status.idle": "2022-03-04T01:44:30.292376Z",
     "shell.execute_reply": "2022-03-04T01:44:30.292780Z"
    },
    "papermill": {
     "duration": 93.502025,
     "end_time": "2022-03-04T01:44:30.292914",
     "exception": false,
     "start_time": "2022-03-04T01:42:56.790889",
     "status": "completed"
    },
    "tags": []
   },
   "outputs": [],
   "source": [
    "###################################\n",
    "# Evaluate the model\n",
    "###################################\n",
    "source_test_label_accuracy, source_test_label_loss = jig.test(datasets.source.processed.test)\n",
    "target_test_label_accuracy, target_test_label_loss = jig.test(datasets.target.processed.test)\n",
    "\n",
    "source_val_label_accuracy, source_val_label_loss = jig.test(datasets.source.processed.val)\n",
    "target_val_label_accuracy, target_val_label_loss = jig.test(datasets.target.processed.val)\n",
    "\n",
    "history = jig.get_history()\n",
    "\n",
    "total_epochs_trained = len(history[\"epoch_indices\"])\n",
    "\n",
    "val_dl = Iterable_Aggregator((datasets.source.original.val,datasets.target.original.val))\n",
    "\n",
    "confusion = ptn_confusion_by_domain_over_dataloader(model, p.device, val_dl)\n",
    "per_domain_accuracy = per_domain_accuracy_from_confusion(confusion)\n",
    "\n",
    "# Add a key to per_domain_accuracy for if it was a source domain\n",
    "for domain, accuracy in per_domain_accuracy.items():\n",
    "    per_domain_accuracy[domain] = {\n",
    "        \"accuracy\": accuracy,\n",
    "        \"source?\": domain in p.domains_source\n",
    "    }\n",
    "\n",
    "# Do an independent accuracy assesment JUST TO BE SURE!\n",
    "# _source_test_label_accuracy = independent_accuracy_assesment(model, datasets.source.processed.test, p.device)\n",
    "# _target_test_label_accuracy = independent_accuracy_assesment(model, datasets.target.processed.test, p.device)\n",
    "# _source_val_label_accuracy = independent_accuracy_assesment(model, datasets.source.processed.val, p.device)\n",
    "# _target_val_label_accuracy = independent_accuracy_assesment(model, datasets.target.processed.val, p.device)\n",
    "\n",
    "# assert(_source_test_label_accuracy == source_test_label_accuracy)\n",
    "# assert(_target_test_label_accuracy == target_test_label_accuracy)\n",
    "# assert(_source_val_label_accuracy == source_val_label_accuracy)\n",
    "# assert(_target_val_label_accuracy == target_val_label_accuracy)\n",
    "\n",
    "experiment = {\n",
    "    \"experiment_name\": p.experiment_name,\n",
    "    \"parameters\": dict(p),\n",
    "    \"results\": {\n",
    "        \"source_test_label_accuracy\": source_test_label_accuracy,\n",
    "        \"source_test_label_loss\": source_test_label_loss,\n",
    "        \"target_test_label_accuracy\": target_test_label_accuracy,\n",
    "        \"target_test_label_loss\": target_test_label_loss,\n",
    "        \"source_val_label_accuracy\": source_val_label_accuracy,\n",
    "        \"source_val_label_loss\": source_val_label_loss,\n",
    "        \"target_val_label_accuracy\": target_val_label_accuracy,\n",
    "        \"target_val_label_loss\": target_val_label_loss,\n",
    "        \"total_epochs_trained\": total_epochs_trained,\n",
    "        \"total_experiment_time_secs\": total_experiment_time_secs,\n",
    "        \"confusion\": confusion,\n",
    "        \"per_domain_accuracy\": per_domain_accuracy,\n",
    "    },\n",
    "    \"history\": history,\n",
    "    \"dataset_metrics\": get_dataset_metrics(datasets, \"ptn\"),\n",
    "}"
   ]
  },
  {
   "cell_type": "code",
   "execution_count": 16,
   "id": "54a21829",
   "metadata": {
    "execution": {
     "iopub.execute_input": "2022-03-04T01:44:30.368651Z",
     "iopub.status.busy": "2022-03-04T01:44:30.368395Z",
     "iopub.status.idle": "2022-03-04T01:44:30.559826Z",
     "shell.execute_reply": "2022-03-04T01:44:30.560243Z"
    },
    "papermill": {
     "duration": 0.229442,
     "end_time": "2022-03-04T01:44:30.560368",
     "exception": false,
     "start_time": "2022-03-04T01:44:30.330926",
     "status": "completed"
    },
    "tags": []
   },
   "outputs": [
    {
     "data": {
      "image/png": "[encoded data removed]",
      "text/plain": [
       "<Figure size 1080x504 with 1 Axes>"
      ]
     },
     "metadata": {
      "needs_background": "light"
     },
     "output_type": "display_data"
    }
   ],
   "source": [
    "ax = get_loss_curve(experiment)\n",
    "plt.show()"
   ]
  },
  {
   "cell_type": "code",
   "execution_count": 17,
   "id": "fd8a0f60",
   "metadata": {
    "execution": {
     "iopub.execute_input": "2022-03-04T01:44:30.640913Z",
     "iopub.status.busy": "2022-03-04T01:44:30.640656Z",
     "iopub.status.idle": "2022-03-04T01:44:30.918473Z",
     "shell.execute_reply": "2022-03-04T01:44:30.918765Z"
    },
    "papermill": {
     "duration": 0.316676,
     "end_time": "2022-03-04T01:44:30.918849",
     "exception": false,
     "start_time": "2022-03-04T01:44:30.602173",
     "status": "completed"
    },
    "tags": []
   },
   "outputs": [
    {
     "data": {
      "text/plain": [
       "<matplotlib.axes._subplots.AxesSubplot at 0x7f25420fd8b0>"
      ]
     },
     "execution_count": 17,
     "metadata": {},
     "output_type": "execute_result"
    },
    {
     "data": {
      "image/png": "[encoded data removed]",
      "text/plain": [
       "<Figure size 1080x504 with 1 Axes>"
      ]
     },
     "metadata": {
      "needs_background": "light"
     },
     "output_type": "display_data"
    }
   ],
   "source": [
    "get_results_table(experiment)"
   ]
  },
  {
   "cell_type": "code",
   "execution_count": 18,
   "id": "cf8dc689",
   "metadata": {
    "execution": {
     "iopub.execute_input": "2022-03-04T01:44:31.004183Z",
     "iopub.status.busy": "2022-03-04T01:44:31.003931Z",
     "iopub.status.idle": "2022-03-04T01:44:31.185226Z",
     "shell.execute_reply": "2022-03-04T01:44:31.184797Z"
    },
    "papermill": {
     "duration": 0.220765,
     "end_time": "2022-03-04T01:44:31.185324",
     "exception": false,
     "start_time": "2022-03-04T01:44:30.964559",
     "status": "completed"
    },
    "tags": []
   },
   "outputs": [
    {
     "data": {
      "text/plain": [
       "<matplotlib.axes._subplots.AxesSubplot at 0x7f25420e6880>"
      ]
     },
     "execution_count": 18,
     "metadata": {},
     "output_type": "execute_result"
    },
    {
     "data": {
      "image/png": "[encoded data removed]",
      "text/plain": [
       "<Figure size 1080x504 with 1 Axes>"
      ]
     },
     "metadata": {
      "needs_background": "light"
     },
     "output_type": "display_data"
    }
   ],
   "source": [
    "get_domain_accuracies(experiment)"
   ]
  },
  {
   "cell_type": "code",
   "execution_count": 19,
   "id": "a74ae082",
   "metadata": {
    "execution": {
     "iopub.execute_input": "2022-03-04T01:44:31.276770Z",
     "iopub.status.busy": "2022-03-04T01:44:31.276503Z",
     "iopub.status.idle": "2022-03-04T01:44:31.292781Z",
     "shell.execute_reply": "2022-03-04T01:44:31.292355Z"
    },
    "papermill": {
     "duration": 0.06121,
     "end_time": "2022-03-04T01:44:31.292889",
     "exception": false,
     "start_time": "2022-03-04T01:44:31.231679",
     "status": "completed"
    },
    "tags": []
   },
   "outputs": [
    {
     "name": "stdout",
     "output_type": "stream",
     "text": [
      "Source Test Label Accuracy: 0.7722222222222223 Target Test Label Accuracy: 0.6140625\n",
      "Source Val Label Accuracy: 0.7583333333333333 Target Val Label Accuracy: 0.6204166666666666\n"
     ]
    }
   ],
   "source": [
    "print(\"Source Test Label Accuracy:\", experiment[\"results\"][\"source_test_label_accuracy\"], \"Target Test Label Accuracy:\", experiment[\"results\"][\"target_test_label_accuracy\"])\n",
    "print(\"Source Val Label Accuracy:\", experiment[\"results\"][\"source_val_label_accuracy\"], \"Target Val Label Accuracy:\", experiment[\"results\"][\"target_val_label_accuracy\"])"
   ]
  },
  {
   "cell_type": "code",
   "execution_count": 20,
   "id": "dacca602",
   "metadata": {
    "execution": {
     "iopub.execute_input": "2022-03-04T01:44:31.375765Z",
     "iopub.status.busy": "2022-03-04T01:44:31.375510Z",
     "iopub.status.idle": "2022-03-04T01:44:31.389554Z",
     "shell.execute_reply": "2022-03-04T01:44:31.389963Z"
    },
    "papermill": {
     "duration": 0.054377,
     "end_time": "2022-03-04T01:44:31.390085",
     "exception": false,
     "start_time": "2022-03-04T01:44:31.335708",
     "status": "completed"
    },
    "tags": [
     "experiment_json"
    ]
   },
   "outputs": [
    {
     "data": {
      "text/plain": [
       "'{\"experiment_name\": \"seeds_oracle.run2\", \"parameters\": {\"experiment_name\": \"seeds_oracle.run2\", \"lr\": 0.001, \"device\": \"cuda\", \"seed\": 42, \"dataset_seed\": 1337, \"labels_source\": [\"3123D52\", \"3123D65\", \"3123D79\", \"3123D80\", \"3123D54\", \"3123D70\", \"3123D7B\", \"3123D89\", \"3123D58\", \"3123D76\", \"3123D7D\", \"3123EFE\", \"3123D64\", \"3123D78\", \"3123D7E\", \"3124E4A\"], \"labels_target\": [\"3123D52\", \"3123D65\", \"3123D79\", \"3123D80\", \"3123D54\", \"3123D70\", \"3123D7B\", \"3123D89\", \"3123D58\", \"3123D76\", \"3123D7D\", \"3123EFE\", \"3123D64\", \"3123D78\", \"3123D7E\", \"3124E4A\"], \"x_transforms_source\": [], \"x_transforms_target\": [], \"episode_transforms_source\": [], \"episode_transforms_target\": [], \"num_examples_per_domain_per_label_source\": 1000, \"num_examples_per_domain_per_label_target\": 1000, \"n_shot\": 3, \"n_way\": 16, \"n_query\": 2, \"train_k_factor\": 1, \"val_k_factor\": 2, \"test_k_factor\": 2, \"torch_default_dtype\": \"torch.float32\", \"n_epoch\": 50, \"patience\": 3, \"criteria_for_best\": \"target_loss\", \"x_net\": [{\"class\": \"nnReshape\", \"kargs\": {\"shape\": [-1, 1, 2, 256]}}, {\"class\": \"Conv2d\", \"kargs\": {\"in_channels\": 1, \"out_channels\": 256, \"kernel_size\": [1, 7], \"bias\": false, \"padding\": [0, 3]}}, {\"class\": \"ReLU\", \"kargs\": {\"inplace\": true}}, {\"class\": \"BatchNorm2d\", \"kargs\": {\"num_features\": 256}}, {\"class\": \"Conv2d\", \"kargs\": {\"in_channels\": 256, \"out_channels\": 80, \"kernel_size\": [2, 7], \"bias\": true, \"padding\": [0, 3]}}, {\"class\": \"ReLU\", \"kargs\": {\"inplace\": true}}, {\"class\": \"BatchNorm2d\", \"kargs\": {\"num_features\": 80}}, {\"class\": \"Flatten\", \"kargs\": {}}, {\"class\": \"Linear\", \"kargs\": {\"in_features\": 20480, \"out_features\": 256}}, {\"class\": \"ReLU\", \"kargs\": {\"inplace\": true}}, {\"class\": \"BatchNorm1d\", \"kargs\": {\"num_features\": 256}}, {\"class\": \"Linear\", \"kargs\": {\"in_features\": 256, \"out_features\": 256}}], \"NUM_LOGS_PER_EPOCH\": 10, \"BEST_MODEL_PATH\": \"./best_model.pth\", \"pickle_name\": \"oracle.Run2_10kExamples_stratified_ds.2022A.pkl\", \"domains_source\": [8, 32, 50], \"domains_target\": [14, 20, 26, 38, 44]}, \"results\": {\"source_test_label_accuracy\": 0.7722222222222223, \"source_test_label_loss\": 0.626746416091919, \"target_test_label_accuracy\": 0.6140625, \"target_test_label_loss\": 1.1260253190994263, \"source_val_label_accuracy\": 0.7583333333333333, \"source_val_label_loss\": 0.6392400860786438, \"target_val_label_accuracy\": 0.6204166666666666, \"target_val_label_loss\": 1.1550112962722778, \"total_epochs_trained\": 12, \"total_experiment_time_secs\": 669.4001126289368, \"confusion\": {\"32\": {\"3\": {\"3\": 104, \"13\": 12, \"4\": 3, \"11\": 1}, \"0\": {\"0\": 46, \"8\": 21, \"7\": 24, \"4\": 9, \"14\": 5, \"2\": 13, \"11\": 1, \"15\": 1}, \"9\": {\"9\": 119, \"12\": 1}, \"12\": {\"12\": 120}, \"7\": {\"8\": 31, \"7\": 50, \"14\": 2, \"2\": 21, \"0\": 15, \"4\": 1}, \"2\": {\"0\": 13, \"14\": 41, \"7\": 12, \"2\": 54}, \"10\": {\"10\": 120}, \"13\": {\"13\": 79, \"3\": 18, \"11\": 19, \"4\": 4}, \"15\": {\"15\": 110, \"5\": 10}, \"14\": {\"14\": 71, \"2\": 44, \"0\": 4, \"5\": 1}, \"4\": {\"4\": 81, \"0\": 5, \"3\": 4, \"11\": 28, \"13\": 2}, \"6\": {\"6\": 120}, \"5\": {\"5\": 95, \"2\": 6, \"15\": 16, \"7\": 2, \"14\": 1}, \"11\": {\"13\": 23, \"4\": 44, \"0\": 3, \"11\": 48, \"8\": 1, \"3\": 1}, \"1\": {\"1\": 120}, \"8\": {\"7\": 31, \"0\": 12, \"8\": 74, \"15\": 1, \"2\": 1, \"4\": 1}}, \"8\": {\"8\": {\"8\": 61, \"6\": 29, \"4\": 9, \"11\": 20, \"14\": 1}, \"0\": {\"0\": 120}, \"14\": {\"14\": 74, \"6\": 37, \"4\": 3, \"1\": 6}, \"4\": {\"4\": 56, \"7\": 26, \"1\": 23, \"8\": 5, \"6\": 5, \"11\": 2, \"5\": 2, \"14\": 1}, \"6\": {\"8\": 14, \"6\": 71, \"14\": 34, \"4\": 1}, \"13\": {\"10\": 28, \"13\": 82, \"1\": 2, \"7\": 5, \"5\": 3}, \"2\": {\"2\": 109, \"12\": 6, \"15\": 5}, \"7\": {\"4\": 26, \"1\": 10, \"7\": 67, \"5\": 5, \"10\": 3, \"11\": 5, \"13\": 4}, \"15\": {\"15\": 100, \"12\": 11, \"2\": 9}, \"11\": {\"7\": 19, \"8\": 34, \"11\": 53, \"13\": 2, \"12\": 3, \"6\": 6, \"4\": 3}, \"3\": {\"3\": 120}, \"1\": {\"1\": 54, \"14\": 6, \"5\": 14, \"7\": 9, \"4\": 21, \"10\": 10, \"13\": 6}, \"12\": {\"12\": 101, \"15\": 11, \"2\": 8}, \"5\": {\"1\": 17, \"13\": 9, \"5\": 64, \"10\": 29, \"7\": 1}, \"9\": {\"9\": 120}, \"10\": {\"1\": 5, \"5\": 31, \"10\": 51, \"13\": 31, \"7\": 2}}, \"50\": {\"5\": {\"7\": 13, \"5\": 67, \"4\": 30, \"6\": 10}, \"10\": {\"10\": 108, \"0\": 8, \"13\": 4}, \"13\": {\"13\": 115, \"1\": 5}, \"3\": {\"3\": 120}, \"0\": {\"0\": 90, \"2\": 16, \"10\": 14}, \"8\": {\"8\": 120}, \"1\": {\"1\": 114, \"11\": 2, \"13\": 4}, \"7\": {\"7\": 105, \"4\": 10, \"5\": 5}, \"2\": {\"2\": 108, \"0\": 12}, \"4\": {\"4\": 90, \"5\": 21, \"7\": 8, \"6\": 1}, \"9\": {\"9\": 110, \"15\": 7, \"12\": 3}, \"15\": {\"15\": 84, \"4\": 5, \"12\": 11, \"9\": 11, \"6\": 9}, \"11\": {\"11\": 101, \"12\": 15, \"1\": 4}, \"6\": {\"6\": 99, \"15\": 10, \"5\": 10, \"4\": 1}, \"14\": {\"14\": 119, \"2\": 1}, \"12\": {\"12\": 104, \"11\": 7, \"15\": 7, \"9\": 2}}, \"38\": {\"3\": {\"4\": 16, \"3\": 47, \"10\": 32, \"13\": 24, \"11\": 1}, \"0\": {\"0\": 108, \"7\": 12}, \"9\": {\"9\": 98, \"5\": 13, \"12\": 7, \"8\": 2}, \"12\": {\"5\": 47, \"9\": 4, \"12\": 61, \"8\": 8}, \"7\": {\"7\": 104, \"0\": 10, \"14\": 4, \"4\": 2}, \"2\": {\"2\": 100, \"14\": 19, \"5\": 1}, \"10\": {\"10\": 52, \"3\": 23, \"13\": 13, \"4\": 32}, \"13\": {\"3\": 25, \"13\": 76, \"4\": 2, \"10\": 17}, \"15\": {\"6\": 16, \"1\": 31, \"15\": 72, \"5\": 1}, \"14\": {\"14\": 65, \"7\": 4, \"2\": 40, \"5\": 5, \"4\": 3, \"13\": 1, \"12\": 1, \"8\": 1}, \"4\": {\"4\": 78, \"7\": 8, \"10\": 26, \"3\": 8}, \"6\": {\"6\": 107, \"15\": 12, \"1\": 1}, \"5\": {\"5\": 33, \"9\": 9, \"8\": 32, \"12\": 45, \"0\": 1}, \"11\": {\"11\": 120}, \"1\": {\"1\": 108, \"15\": 12}, \"8\": {\"8\": 98, \"5\": 11, \"7\": 2, \"12\": 4, \"9\": 5}}, \"14\": {\"8\": {\"0\": 9, \"10\": 19, \"8\": 91, \"14\": 1}, \"0\": {\"0\": 78, \"4\": 13, \"10\": 12, \"8\": 9, \"9\": 6, \"5\": 2}, \"14\": {\"10\": 2, \"2\": 26, \"5\": 44, \"7\": 18, \"14\": 28, \"3\": 2}, \"4\": {\"2\": 1, \"4\": 97, \"0\": 17, \"5\": 2, \"10\": 2, \"14\": 1}, \"6\": {\"13\": 34, \"3\": 9, \"6\": 76, \"2\": 1}, \"13\": {\"13\": 76, \"6\": 43, \"7\": 1}, \"2\": {\"14\": 23, \"5\": 29, \"7\": 28, \"3\": 6, \"10\": 3, \"2\": 25, \"4\": 3, \"6\": 2, \"8\": 1}, \"7\": {\"14\": 13, \"7\": 71, \"2\": 23, \"3\": 4, \"5\": 7, \"13\": 1, \"6\": 1}, \"15\": {\"15\": 120}, \"11\": {\"11\": 120}, \"3\": {\"10\": 4, \"3\": 104, \"2\": 4, \"6\": 3, \"14\": 2, \"7\": 2, \"13\": 1}, \"1\": {\"1\": 118, \"9\": 1, \"4\": 1}, \"12\": {\"8\": 14, \"3\": 13, \"9\": 19, \"15\": 18, \"12\": 40, \"10\": 2, \"11\": 8, \"4\": 2, \"0\": 2, \"1\": 2}, \"5\": {\"0\": 5, \"2\": 19, \"5\": 54, \"14\": 30, \"10\": 8, \"8\": 1, \"4\": 3}, \"9\": {\"9\": 116, \"0\": 3, \"8\": 1}, \"10\": {\"5\": 7, \"0\": 25, \"10\": 25, \"8\": 36, \"2\": 1, \"12\": 4, \"3\": 12, \"4\": 3, \"14\": 7}}, \"44\": {\"11\": {\"11\": 120}, \"3\": {\"3\": 100, \"12\": 18, \"1\": 2}, \"6\": {\"6\": 109, \"7\": 8, \"9\": 1, \"13\": 1, \"10\": 1}, \"1\": {\"1\": 97, \"2\": 20, \"3\": 3}, \"8\": {\"8\": 96, \"0\": 15, \"5\": 6, \"15\": 3}, \"13\": {\"13\": 110, \"6\": 4, \"4\": 6}, \"7\": {\"9\": 38, \"7\": 75, \"10\": 6, \"6\": 1}, \"9\": {\"9\": 61, \"7\": 55, \"6\": 4}, \"12\": {\"3\": 25, \"12\": 95}, \"5\": {\"5\": 88, \"15\": 15, \"14\": 7, \"8\": 10}, \"4\": {\"4\": 93, \"14\": 27}, \"15\": {\"15\": 85, \"5\": 27, \"8\": 2, \"0\": 3, \"4\": 1, \"14\": 2}, \"10\": {\"10\": 110, \"7\": 6, \"9\": 1, \"6\": 3}, \"14\": {\"14\": 92, \"4\": 18, \"5\": 8, \"15\": 2}, \"2\": {\"2\": 90, \"1\": 30}, \"0\": {\"0\": 91, \"8\": 26, \"5\": 1, \"15\": 2}}, \"26\": {\"5\": {\"6\": 41, \"5\": 43, \"10\": 5, \"1\": 18, \"14\": 11, \"0\": 1, \"15\": 1}, \"10\": {\"10\": 25, \"9\": 9, \"5\": 7, \"14\": 15, \"2\": 6, \"1\": 8, \"0\": 17, \"8\": 10, \"15\": 18, \"6\": 5}, \"13\": {\"13\": 81, \"12\": 1, \"9\": 19, \"7\": 11, \"2\": 4, \"8\": 3, \"3\": 1}, \"3\": {\"3\": 75, \"2\": 4, \"7\": 29, \"13\": 3, \"4\": 9}, \"0\": {\"10\": 30, \"0\": 37, \"14\": 12, \"15\": 32, \"9\": 1, \"2\": 4, \"5\": 2, \"8\": 2}, \"8\": {\"8\": 26, \"2\": 32, \"9\": 37, \"7\": 6, \"13\": 3, \"15\": 11, \"10\": 2, \"3\": 1, \"0\": 2}, \"1\": {\"6\": 11, \"1\": 89, \"5\": 17, \"14\": 3}, \"7\": {\"9\": 11, \"7\": 49, \"3\": 34, \"15\": 1, \"13\": 7, \"2\": 16, \"8\": 2}, \"2\": {\"3\": 6, \"9\": 21, \"8\": 27, \"7\": 8, \"2\": 49, \"15\": 8, \"13\": 1}, \"4\": {\"4\": 116, \"3\": 4}, \"9\": {\"8\": 32, \"9\": 46, \"7\": 7, \"2\": 17, \"13\": 16, \"10\": 1, \"15\": 1}, \"15\": {\"0\": 21, \"8\": 12, \"15\": 65, \"2\": 8, \"10\": 9, \"9\": 1, \"14\": 4}, \"11\": {\"11\": 120}, \"6\": {\"5\": 36, \"14\": 9, \"6\": 67, \"10\": 4, \"1\": 4}, \"14\": {\"15\": 5, \"14\": 50, \"10\": 19, \"5\": 13, \"0\": 17, \"1\": 8, \"6\": 4, \"8\": 3, \"2\": 1}, \"12\": {\"12\": 118, \"9\": 1, \"8\": 1}}, \"20\": {\"3\": {\"5\": 16, \"9\": 20, \"4\": 16, \"3\": 26, \"7\": 14, \"2\": 8, \"15\": 9, \"13\": 1, \"1\": 7, \"14\": 1, \"12\": 2}, \"15\": {\"15\": 34, \"9\": 21, \"5\": 12, \"12\": 5, \"2\": 15, \"1\": 8, \"4\": 9, \"3\": 8, \"13\": 6, \"7\": 2}, \"0\": {\"0\": 83, \"11\": 22, \"8\": 8, \"1\": 7}, \"11\": {\"14\": 9, \"11\": 57, \"8\": 36, \"0\": 17, \"5\": 1}, \"7\": {\"7\": 46, \"9\": 5, \"6\": 9, \"12\": 4, \"3\": 14, \"13\": 3, \"4\": 13, \"14\": 2, \"10\": 10, \"15\": 8, \"2\": 4, \"5\": 2}, \"2\": {\"9\": 21, \"7\": 6, \"15\": 16, \"2\": 22, \"3\": 10, \"5\": 22, \"1\": 14, \"4\": 9}, \"5\": {\"2\": 24, \"3\": 5, \"5\": 31, \"9\": 14, \"6\": 2, \"8\": 4, \"4\": 10, \"1\": 19, \"7\": 4, \"11\": 1, \"14\": 2, \"0\": 2, \"15\": 2}, \"4\": {\"4\": 28, \"7\": 20, \"2\": 8, \"3\": 29, \"9\": 10, \"15\": 11, \"12\": 4, \"13\": 3, \"10\": 3, \"5\": 3, \"14\": 1}, \"8\": {\"11\": 40, \"8\": 54, \"14\": 19, \"0\": 5, \"5\": 2}, \"14\": {\"14\": 82, \"11\": 9, \"4\": 1, \"6\": 1, \"8\": 22, \"3\": 1, \"5\": 3, \"0\": 1}, \"12\": {\"13\": 52, \"12\": 43, \"10\": 6, \"15\": 4, \"4\": 5, \"3\": 5, \"7\": 1, \"6\": 1, \"9\": 3}, \"6\": {\"6\": 83, \"7\": 13, \"10\": 23, \"3\": 1}, \"9\": {\"4\": 20, \"3\": 14, \"9\": 23, \"5\": 8, \"2\": 18, \"15\": 24, \"1\": 4, \"7\": 3, \"13\": 3, \"12\": 3}, \"1\": {\"1\": 81, \"0\": 8, \"9\": 3, \"2\": 4, \"5\": 17, \"15\": 4, \"11\": 3}, \"13\": {\"13\": 58, \"12\": 47, \"10\": 1, \"9\": 4, \"4\": 2, \"15\": 6, \"3\": 1, \"7\": 1}, \"10\": {\"7\": 17, \"10\": 71, \"12\": 5, \"6\": 17, \"13\": 7, \"4\": 2, \"2\": 1}}}, \"per_domain_accuracy\": {\"32\": {\"accuracy\": 0.7348958333333333, \"source?\": true}, \"8\": {\"accuracy\": 0.6786458333333333, \"source?\": true}, \"50\": {\"accuracy\": 0.8614583333333333, \"source?\": true}, \"38\": {\"accuracy\": 0.6911458333333333, \"source?\": false}, \"14\": {\"accuracy\": 0.6453125, \"source?\": false}, \"44\": {\"accuracy\": 0.7875, \"source?\": false}, \"26\": {\"accuracy\": 0.55, \"source?\": false}, \"20\": {\"accuracy\": 0.428125, \"source?\": false}}}, \"history\": {\"epoch_indices\": [1, 2, 3, 4, 5, 6, 7, 8, 9, 10, 11, 12], \"train_label_loss\": [1.2623861087220056, 1.3201674580574037, 1.1525445554937634, 0.7807853398578507, 0.6574003061013562, 0.5697795591184072, 0.5232588697402251, 0.47455611580184526, 0.4407991879575309, 0.40560774783648196, 0.3867300091666125, 0.3484330496617726], \"source_val_label_loss\": [1.6553443670272827, 1.2830392122268677, 0.9343888163566589, 0.7530708312988281, 0.7067252993583679, 0.6531806588172913, 0.6590268015861511, 0.6392400860786438, 0.6236678957939148, 0.6325752139091492, 0.6047243475914001, 0.6332576274871826], \"target_val_label_loss\": [1.9801315069198608, 1.6922940015792847, 1.442430019378662, 1.241377592086792, 1.2343165874481201, 1.204183578491211, 1.2757914066314697, 1.1550112962722778, 1.1638376712799072, 1.1563323736190796, 1.2120084762573242, 1.3330527544021606], \"source_val_acc_label\": [0.48368055555555556, 0.475, 0.6413194444444444, 0.7302083333333333, 0.7440972222222222, 0.759375, 0.7673611111111112, 0.7583333333333333, 0.7689236111111111, 0.7704861111111111, 0.7774305555555555, 0.7725694444444444], \"target_val_acc_label\": [0.3929166666666667, 0.38458333333333333, 0.5058333333333334, 0.5682291666666667, 0.5857291666666666, 0.5984375, 0.6115625, 0.6204166666666666, 0.6259375, 0.6064583333333333, 0.6140625, 0.6126041666666666]}, \"dataset_metrics\": {\"source\": {\"train\": {\"n_unique_x\": 33600, \"n_unique_y\": 16, \"n_batch/episode\": 420}, \"val\": {\"n_unique_x\": 7200, \"n_unique_y\": 16, \"n_batch/episode\": 180}, \"test\": {\"n_unique_x\": 7200, \"n_unique_y\": 16, \"n_batch/episode\": 180}}, \"target\": {\"train\": {\"n_unique_x\": 56000, \"n_unique_y\": 16, \"n_batch/episode\": 700}, \"val\": {\"n_unique_x\": 12000, \"n_unique_y\": 16, \"n_batch/episode\": 300}, \"test\": {\"n_unique_x\": 12000, \"n_unique_y\": 16, \"n_batch/episode\": 300}}}}'"
      ]
     },
     "execution_count": 20,
     "metadata": {},
     "output_type": "execute_result"
    }
   ],
   "source": [
    "json.dumps(experiment)"
   ]
  }
 ],
 "metadata": {
  "celltoolbar": "Tags",
  "kernelspec": {
   "display_name": "Python 3 (ipykernel)",
   "language": "python",
   "name": "python3"
  },
  "language_info": {
   "codemirror_mode": {
    "name": "ipython",
    "version": 3
   },
   "file_extension": ".py",
   "mimetype": "text/x-python",
   "name": "python",
   "nbconvert_exporter": "python",
   "pygments_lexer": "ipython3",
   "version": "3.8.10"
  },
  "papermill": {
   "default_parameters": {},
   "duration": 766.67675,
   "end_time": "2022-03-04T01:44:31.939480",
   "environment_variables": {},
   "exception": null,
   "input_path": "/mnt/wd500GB/CSC500/csc500-main/csc500-notebooks/templates/ptn_template.ipynb",
   "output_path": "trial.ipynb",
   "parameters": {
    "parameters": {
     "BEST_MODEL_PATH": "./best_model.pth",
     "NUM_LOGS_PER_EPOCH": 10,
     "criteria_for_best": "target_loss",
     "dataset_seed": 1337,
     "device": "cuda",
     "domains_source": [
      8,
      32,
      50
     ],
     "domains_target": [
      14,
      20,
      26,
      38,
      44
     ],
     "episode_transforms_source": [],
     "episode_transforms_target": [],
     "experiment_name": "seeds_oracle.run2",
     "labels_source": [
      "3123D52",
      "3123D65",
      "3123D79",
      "3123D80",
      "3123D54",
      "3123D70",
      "3123D7B",
      "3123D89",
      "3123D58",
      "3123D76",
      "3123D7D",
      "3123EFE",
      "3123D64",
      "3123D78",
      "3123D7E",
      "3124E4A"
     ],
     "labels_target": [
      "3123D52",
      "3123D65",
      "3123D79",
      "3123D80",
      "3123D54",
      "3123D70",
      "3123D7B",
      "3123D89",
      "3123D58",
      "3123D76",
      "3123D7D",
      "3123EFE",
      "3123D64",
      "3123D78",
      "3123D7E",
      "3124E4A"
     ],
     "lr": 0.001,
     "n_epoch": 50,
     "n_query": 2,
     "n_shot": 3,
     "n_way": 16,
     "num_examples_per_domain_per_label_source": 1000,
     "num_examples_per_domain_per_label_target": 1000,
     "patience": 3,
     "pickle_name": "oracle.Run2_10kExamples_stratified_ds.2022A.pkl",
     "seed": 42,
     "test_k_factor": 2,
     "torch_default_dtype": "torch.float32",
     "train_k_factor": 1,
     "val_k_factor": 2,
     "x_net": [
      {
       "class": "nnReshape",
       "kargs": {
        "shape": [
         -1,
         1,
         2,
         256
        ]
       }
      },
      {
       "class": "Conv2d",
       "kargs": {
        "bias": false,
        "in_channels": 1,
        "kernel_size": [
         1,
         7
        ],
        "out_channels": 256,
        "padding": [
         0,
         3
        ]
       }
      },
      {
       "class": "ReLU",
       "kargs": {
        "inplace": true
       }
      },
      {
       "class": "BatchNorm2d",
       "kargs": {
        "num_features": 256
       }
      },
      {
       "class": "Conv2d",
       "kargs": {
        "bias": true,
        "in_channels": 256,
        "kernel_size": [
         2,
         7
        ],
        "out_channels": 80,
        "padding": [
         0,
         3
        ]
       }
      },
      {
       "class": "ReLU",
       "kargs": {
        "inplace": true
       }
      },
      {
       "class": "BatchNorm2d",
       "kargs": {
        "num_features": 80
       }
      },
      {
       "class": "Flatten",
       "kargs": {}
      },
      {
       "class": "Linear",
       "kargs": {
        "in_features": 20480,
        "out_features": 256
       }
      },
      {
       "class": "ReLU",
       "kargs": {
        "inplace": true
       }
      },
      {
       "class": "BatchNorm1d",
       "kargs": {
        "num_features": 256
       }
      },
      {
       "class": "Linear",
       "kargs": {
        "in_features": 256,
        "out_features": 256
       }
      }
     ],
     "x_transforms_source": [],
     "x_transforms_target": []
    }
   },
   "start_time": "2022-03-04T01:31:45.262730",
   "version": "2.3.4"
  }
 },
 "nbformat": 4,
 "nbformat_minor": 5
}