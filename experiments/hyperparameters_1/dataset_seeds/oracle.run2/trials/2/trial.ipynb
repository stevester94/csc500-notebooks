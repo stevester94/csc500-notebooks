{
 "cells": [
  {
   "cell_type": "markdown",
   "id": "9fea5f46",
   "metadata": {
    "papermill": {
     "duration": 0.013753,
     "end_time": "2022-03-04T02:02:08.125256",
     "exception": false,
     "start_time": "2022-03-04T02:02:08.111503",
     "status": "completed"
    },
    "tags": []
   },
   "source": [
    "# PTN Template\n",
    "This notebook serves as a template for single dataset PTN experiments  \n",
    "It can be run on its own by setting STANDALONE to True (do a find for \"STANDALONE\" to see where)  \n",
    "But it is intended to be executed as part of a *papermill.py script. See any of the   \n",
    "experimentes with a papermill script to get started with that workflow.  "
   ]
  },
  {
   "cell_type": "code",
   "execution_count": 1,
   "id": "0902182a",
   "metadata": {
    "execution": {
     "iopub.execute_input": "2022-03-04T02:02:08.152155Z",
     "iopub.status.busy": "2022-03-04T02:02:08.151711Z",
     "iopub.status.idle": "2022-03-04T02:02:08.971082Z",
     "shell.execute_reply": "2022-03-04T02:02:08.971490Z"
    },
    "papermill": {
     "duration": 0.836675,
     "end_time": "2022-03-04T02:02:08.971686",
     "exception": false,
     "start_time": "2022-03-04T02:02:08.135011",
     "status": "completed"
    },
    "tags": []
   },
   "outputs": [],
   "source": [
    "%load_ext autoreload\n",
    "%autoreload 2\n",
    "%matplotlib inline\n",
    "\n",
    "    \n",
    "import os, json, sys, time, random\n",
    "import numpy as np\n",
    "import torch\n",
    "from torch.optim import Adam\n",
    "from  easydict import EasyDict\n",
    "import matplotlib.pyplot as plt\n",
    "\n",
    "from steves_models.steves_ptn import Steves_Prototypical_Network\n",
    "\n",
    "from steves_utils.lazy_iterable_wrapper import Lazy_Iterable_Wrapper\n",
    "from steves_utils.iterable_aggregator import Iterable_Aggregator\n",
    "from steves_utils.ptn_train_eval_test_jig import  PTN_Train_Eval_Test_Jig\n",
    "from steves_utils.torch_sequential_builder import build_sequential\n",
    "from steves_utils.torch_utils import get_dataset_metrics, ptn_confusion_by_domain_over_dataloader\n",
    "from steves_utils.utils_v2 import (per_domain_accuracy_from_confusion, get_datasets_base_path)\n",
    "from steves_utils.PTN.utils import independent_accuracy_assesment\n",
    "\n",
    "from steves_utils.stratified_dataset.episodic_accessor import Episodic_Accessor_Factory\n",
    "\n",
    "from steves_utils.ptn_do_report import (\n",
    "    get_loss_curve,\n",
    "    get_results_table,\n",
    "    get_parameters_table,\n",
    "    get_domain_accuracies,\n",
    ")\n",
    "\n",
    "from steves_utils.transforms import get_chained_transform"
   ]
  },
  {
   "cell_type": "markdown",
   "id": "41c840b4",
   "metadata": {
    "papermill": {
     "duration": 0.009287,
     "end_time": "2022-03-04T02:02:08.994628",
     "exception": false,
     "start_time": "2022-03-04T02:02:08.985341",
     "status": "completed"
    },
    "tags": []
   },
   "source": [
    "# Required Parameters\n",
    "These are allowed parameters, not defaults\n",
    "Each of these values need to be present in the injected parameters (the notebook will raise an exception if they are not present)\n",
    "\n",
    "Papermill uses the cell tag \"parameters\" to inject the real parameters below this cell.\n",
    "Enable tags to see what I mean"
   ]
  },
  {
   "cell_type": "code",
   "execution_count": 2,
   "id": "fd44eb83",
   "metadata": {
    "execution": {
     "iopub.execute_input": "2022-03-04T02:02:09.016727Z",
     "iopub.status.busy": "2022-03-04T02:02:09.016459Z",
     "iopub.status.idle": "2022-03-04T02:02:09.031465Z",
     "shell.execute_reply": "2022-03-04T02:02:09.030973Z"
    },
    "papermill": {
     "duration": 0.027517,
     "end_time": "2022-03-04T02:02:09.031563",
     "exception": false,
     "start_time": "2022-03-04T02:02:09.004046",
     "status": "completed"
    },
    "tags": []
   },
   "outputs": [],
   "source": [
    "required_parameters = {\n",
    "    \"experiment_name\",\n",
    "    \"lr\",\n",
    "    \"device\",\n",
    "    \"seed\",\n",
    "    \"dataset_seed\",\n",
    "    \"labels_source\",\n",
    "    \"labels_target\",\n",
    "    \"domains_source\",\n",
    "    \"domains_target\",\n",
    "    \"num_examples_per_domain_per_label_source\",\n",
    "    \"num_examples_per_domain_per_label_target\",\n",
    "    \"n_shot\",\n",
    "    \"n_way\",\n",
    "    \"n_query\",\n",
    "    \"train_k_factor\",\n",
    "    \"val_k_factor\",\n",
    "    \"test_k_factor\",\n",
    "    \"n_epoch\",\n",
    "    \"patience\",\n",
    "    \"criteria_for_best\",\n",
    "    \"x_transforms_source\",\n",
    "    \"x_transforms_target\",\n",
    "    \"episode_transforms_source\",\n",
    "    \"episode_transforms_target\",\n",
    "    \"pickle_name\",\n",
    "    \"x_net\",\n",
    "    \"NUM_LOGS_PER_EPOCH\",\n",
    "    \"BEST_MODEL_PATH\",\n",
    "    \"torch_default_dtype\"\n",
    "}"
   ]
  },
  {
   "cell_type": "code",
   "execution_count": 3,
   "id": "fa3f0049",
   "metadata": {
    "execution": {
     "iopub.execute_input": "2022-03-04T02:02:09.071112Z",
     "iopub.status.busy": "2022-03-04T02:02:09.070546Z",
     "iopub.status.idle": "2022-03-04T02:02:09.075880Z",
     "shell.execute_reply": "2022-03-04T02:02:09.076265Z"
    },
    "papermill": {
     "duration": 0.031127,
     "end_time": "2022-03-04T02:02:09.076379",
     "exception": false,
     "start_time": "2022-03-04T02:02:09.045252",
     "status": "completed"
    },
    "tags": [
     "parameters"
    ]
   },
   "outputs": [],
   "source": [
    "\n",
    "\n",
    "standalone_parameters = {}\n",
    "standalone_parameters[\"experiment_name\"] = \"STANDALONE PTN\"\n",
    "standalone_parameters[\"lr\"] = 0.0001\n",
    "standalone_parameters[\"device\"] = \"cuda\"\n",
    "\n",
    "standalone_parameters[\"seed\"] = 1337\n",
    "standalone_parameters[\"dataset_seed\"] = 1337\n",
    "\n",
    "\n",
    "standalone_parameters[\"num_examples_per_domain_per_label_source\"]=100\n",
    "standalone_parameters[\"num_examples_per_domain_per_label_target\"]=100\n",
    "\n",
    "standalone_parameters[\"n_shot\"] = 3\n",
    "standalone_parameters[\"n_query\"]  = 2\n",
    "standalone_parameters[\"train_k_factor\"] = 1\n",
    "standalone_parameters[\"val_k_factor\"] = 2\n",
    "standalone_parameters[\"test_k_factor\"] = 2\n",
    "\n",
    "\n",
    "standalone_parameters[\"n_epoch\"] = 100\n",
    "\n",
    "standalone_parameters[\"patience\"] = 10\n",
    "standalone_parameters[\"criteria_for_best\"] = \"target_accuracy\"\n",
    "\n",
    "standalone_parameters[\"x_transforms_source\"] = [\"unit_power\"]\n",
    "standalone_parameters[\"x_transforms_target\"] = [\"unit_power\"]\n",
    "standalone_parameters[\"episode_transforms_source\"] = []\n",
    "standalone_parameters[\"episode_transforms_target\"] = []\n",
    "\n",
    "standalone_parameters[\"torch_default_dtype\"] = \"torch.float32\" \n",
    "\n",
    "\n",
    "\n",
    "standalone_parameters[\"x_net\"] =     [\n",
    "    {\"class\": \"nnReshape\", \"kargs\": {\"shape\":[-1, 1, 2, 256]}},\n",
    "    {\"class\": \"Conv2d\", \"kargs\": { \"in_channels\":1, \"out_channels\":256, \"kernel_size\":(1,7), \"bias\":False, \"padding\":(0,3), },},\n",
    "    {\"class\": \"ReLU\", \"kargs\": {\"inplace\": True}},\n",
    "    {\"class\": \"BatchNorm2d\", \"kargs\": {\"num_features\":256}},\n",
    "\n",
    "    {\"class\": \"Conv2d\", \"kargs\": { \"in_channels\":256, \"out_channels\":80, \"kernel_size\":(2,7), \"bias\":True, \"padding\":(0,3), },},\n",
    "    {\"class\": \"ReLU\", \"kargs\": {\"inplace\": True}},\n",
    "    {\"class\": \"BatchNorm2d\", \"kargs\": {\"num_features\":80}},\n",
    "    {\"class\": \"Flatten\", \"kargs\": {}},\n",
    "\n",
    "    {\"class\": \"Linear\", \"kargs\": {\"in_features\": 80*256, \"out_features\": 256}}, # 80 units per IQ pair\n",
    "    {\"class\": \"ReLU\", \"kargs\": {\"inplace\": True}},\n",
    "    {\"class\": \"BatchNorm1d\", \"kargs\": {\"num_features\":256}},\n",
    "\n",
    "    {\"class\": \"Linear\", \"kargs\": {\"in_features\": 256, \"out_features\": 256}},\n",
    "]\n",
    "\n",
    "# Parameters relevant to results\n",
    "# These parameters will basically never need to change\n",
    "standalone_parameters[\"NUM_LOGS_PER_EPOCH\"] = 10\n",
    "standalone_parameters[\"BEST_MODEL_PATH\"] = \"./best_model.pth\"\n",
    "\n",
    "# uncomment for CORES dataset\n",
    "from steves_utils.CORES.utils import (\n",
    "    ALL_NODES,\n",
    "    ALL_NODES_MINIMUM_1000_EXAMPLES,\n",
    "    ALL_DAYS\n",
    ")\n",
    "\n",
    "\n",
    "standalone_parameters[\"labels_source\"] = ALL_NODES\n",
    "standalone_parameters[\"labels_target\"] = ALL_NODES\n",
    "\n",
    "standalone_parameters[\"domains_source\"] = [1]\n",
    "standalone_parameters[\"domains_target\"] = [2,3,4,5]\n",
    "\n",
    "standalone_parameters[\"pickle_name\"] = \"cores.stratified_ds.2022A.pkl\"\n",
    "\n",
    "\n",
    "# Uncomment these for ORACLE dataset\n",
    "# from steves_utils.ORACLE.utils_v2 import (\n",
    "#     ALL_DISTANCES_FEET,\n",
    "#     ALL_RUNS,\n",
    "#     ALL_SERIAL_NUMBERS,\n",
    "# )\n",
    "# standalone_parameters[\"labels_source\"] = ALL_SERIAL_NUMBERS\n",
    "# standalone_parameters[\"labels_target\"] = ALL_SERIAL_NUMBERS\n",
    "# standalone_parameters[\"domains_source\"] = [8,20, 38,50]\n",
    "# standalone_parameters[\"domains_target\"] = [14, 26, 32, 44, 56]\n",
    "# standalone_parameters[\"pickle_name\"] = \"oracle.frame_indexed.stratified_ds.2022A.pkl\"\n",
    "# standalone_parameters[\"num_examples_per_domain_per_label_source\"]=1000\n",
    "# standalone_parameters[\"num_examples_per_domain_per_label_target\"]=1000\n",
    "\n",
    "# Uncomment these for Metahan dataset\n",
    "# standalone_parameters[\"labels_source\"] = list(range(19))\n",
    "# standalone_parameters[\"labels_target\"] = list(range(19))\n",
    "# standalone_parameters[\"domains_source\"] = [0]\n",
    "# standalone_parameters[\"domains_target\"] = [1]\n",
    "# standalone_parameters[\"pickle_name\"] = \"metehan.stratified_ds.2022A.pkl\"\n",
    "# standalone_parameters[\"n_way\"]  = len(standalone_parameters[\"labels_source\"])\n",
    "# standalone_parameters[\"num_examples_per_domain_per_label_source\"]=200\n",
    "# standalone_parameters[\"num_examples_per_domain_per_label_target\"]=100\n",
    "\n",
    "\n",
    "standalone_parameters[\"n_way\"]  = len(standalone_parameters[\"labels_source\"])"
   ]
  },
  {
   "cell_type": "code",
   "execution_count": 4,
   "id": "bc191fd5",
   "metadata": {
    "execution": {
     "iopub.execute_input": "2022-03-04T02:02:09.106059Z",
     "iopub.status.busy": "2022-03-04T02:02:09.105775Z",
     "iopub.status.idle": "2022-03-04T02:02:09.115954Z",
     "shell.execute_reply": "2022-03-04T02:02:09.116356Z"
    },
    "papermill": {
     "duration": 0.024933,
     "end_time": "2022-03-04T02:02:09.116474",
     "exception": false,
     "start_time": "2022-03-04T02:02:09.091541",
     "status": "completed"
    },
    "tags": [
     "injected-parameters"
    ]
   },
   "outputs": [],
   "source": [
    "# Parameters\n",
    "parameters = {\n",
    "    \"experiment_name\": \"dataset_seeds_oracle.run2\",\n",
    "    \"lr\": 0.001,\n",
    "    \"device\": \"cuda\",\n",
    "    \"seed\": 1337,\n",
    "    \"dataset_seed\": 2020,\n",
    "    \"labels_source\": [\n",
    "        \"3123D52\",\n",
    "        \"3123D65\",\n",
    "        \"3123D79\",\n",
    "        \"3123D80\",\n",
    "        \"3123D54\",\n",
    "        \"3123D70\",\n",
    "        \"3123D7B\",\n",
    "        \"3123D89\",\n",
    "        \"3123D58\",\n",
    "        \"3123D76\",\n",
    "        \"3123D7D\",\n",
    "        \"3123EFE\",\n",
    "        \"3123D64\",\n",
    "        \"3123D78\",\n",
    "        \"3123D7E\",\n",
    "        \"3124E4A\",\n",
    "    ],\n",
    "    \"labels_target\": [\n",
    "        \"3123D52\",\n",
    "        \"3123D65\",\n",
    "        \"3123D79\",\n",
    "        \"3123D80\",\n",
    "        \"3123D54\",\n",
    "        \"3123D70\",\n",
    "        \"3123D7B\",\n",
    "        \"3123D89\",\n",
    "        \"3123D58\",\n",
    "        \"3123D76\",\n",
    "        \"3123D7D\",\n",
    "        \"3123EFE\",\n",
    "        \"3123D64\",\n",
    "        \"3123D78\",\n",
    "        \"3123D7E\",\n",
    "        \"3124E4A\",\n",
    "    ],\n",
    "    \"x_transforms_source\": [],\n",
    "    \"x_transforms_target\": [],\n",
    "    \"episode_transforms_source\": [],\n",
    "    \"episode_transforms_target\": [],\n",
    "    \"num_examples_per_domain_per_label_source\": 1000,\n",
    "    \"num_examples_per_domain_per_label_target\": 1000,\n",
    "    \"n_shot\": 3,\n",
    "    \"n_way\": 16,\n",
    "    \"n_query\": 2,\n",
    "    \"train_k_factor\": 1,\n",
    "    \"val_k_factor\": 2,\n",
    "    \"test_k_factor\": 2,\n",
    "    \"torch_default_dtype\": \"torch.float32\",\n",
    "    \"n_epoch\": 50,\n",
    "    \"patience\": 3,\n",
    "    \"criteria_for_best\": \"target_loss\",\n",
    "    \"x_net\": [\n",
    "        {\"class\": \"nnReshape\", \"kargs\": {\"shape\": [-1, 1, 2, 256]}},\n",
    "        {\n",
    "            \"class\": \"Conv2d\",\n",
    "            \"kargs\": {\n",
    "                \"in_channels\": 1,\n",
    "                \"out_channels\": 256,\n",
    "                \"kernel_size\": [1, 7],\n",
    "                \"bias\": False,\n",
    "                \"padding\": [0, 3],\n",
    "            },\n",
    "        },\n",
    "        {\"class\": \"ReLU\", \"kargs\": {\"inplace\": True}},\n",
    "        {\"class\": \"BatchNorm2d\", \"kargs\": {\"num_features\": 256}},\n",
    "        {\n",
    "            \"class\": \"Conv2d\",\n",
    "            \"kargs\": {\n",
    "                \"in_channels\": 256,\n",
    "                \"out_channels\": 80,\n",
    "                \"kernel_size\": [2, 7],\n",
    "                \"bias\": True,\n",
    "                \"padding\": [0, 3],\n",
    "            },\n",
    "        },\n",
    "        {\"class\": \"ReLU\", \"kargs\": {\"inplace\": True}},\n",
    "        {\"class\": \"BatchNorm2d\", \"kargs\": {\"num_features\": 80}},\n",
    "        {\"class\": \"Flatten\", \"kargs\": {}},\n",
    "        {\"class\": \"Linear\", \"kargs\": {\"in_features\": 20480, \"out_features\": 256}},\n",
    "        {\"class\": \"ReLU\", \"kargs\": {\"inplace\": True}},\n",
    "        {\"class\": \"BatchNorm1d\", \"kargs\": {\"num_features\": 256}},\n",
    "        {\"class\": \"Linear\", \"kargs\": {\"in_features\": 256, \"out_features\": 256}},\n",
    "    ],\n",
    "    \"NUM_LOGS_PER_EPOCH\": 10,\n",
    "    \"BEST_MODEL_PATH\": \"./best_model.pth\",\n",
    "    \"pickle_name\": \"oracle.Run2_10kExamples_stratified_ds.2022A.pkl\",\n",
    "    \"domains_source\": [8, 32, 50],\n",
    "    \"domains_target\": [14, 20, 26, 38, 44],\n",
    "}\n"
   ]
  },
  {
   "cell_type": "code",
   "execution_count": 5,
   "id": "8fa1cc33",
   "metadata": {
    "execution": {
     "iopub.execute_input": "2022-03-04T02:02:09.143957Z",
     "iopub.status.busy": "2022-03-04T02:02:09.143700Z",
     "iopub.status.idle": "2022-03-04T02:02:09.156424Z",
     "shell.execute_reply": "2022-03-04T02:02:09.155884Z"
    },
    "papermill": {
     "duration": 0.025366,
     "end_time": "2022-03-04T02:02:09.156564",
     "exception": false,
     "start_time": "2022-03-04T02:02:09.131198",
     "status": "completed"
    },
    "tags": []
   },
   "outputs": [],
   "source": [
    "# Set this to True if you want to run this template directly\n",
    "STANDALONE = False\n",
    "if STANDALONE:\n",
    "    print(\"parameters not injected, running with standalone_parameters\")\n",
    "    parameters = standalone_parameters\n",
    "\n",
    "if not 'parameters' in locals() and not 'parameters' in globals():\n",
    "    raise Exception(\"Parameter injection failed\")\n",
    "\n",
    "#Use an easy dict for all the parameters\n",
    "p = EasyDict(parameters)\n",
    "\n",
    "supplied_keys = set(p.keys())\n",
    "\n",
    "if  supplied_keys != required_parameters:\n",
    "    print(\"Parameters are incorrect\")\n",
    "    if len(supplied_keys - required_parameters)>0: print(\"Shouldn't have:\", str(supplied_keys - required_parameters))\n",
    "    if len(required_parameters - supplied_keys)>0: print(\"Need to have:\", str(required_parameters - supplied_keys))\n",
    "    raise RuntimeError(\"Parameters are incorrect\")\n",
    "\n"
   ]
  },
  {
   "cell_type": "code",
   "execution_count": 6,
   "id": "3a028d58",
   "metadata": {
    "execution": {
     "iopub.execute_input": "2022-03-04T02:02:09.183451Z",
     "iopub.status.busy": "2022-03-04T02:02:09.183195Z",
     "iopub.status.idle": "2022-03-04T02:02:09.195936Z",
     "shell.execute_reply": "2022-03-04T02:02:09.195454Z"
    },
    "papermill": {
     "duration": 0.024867,
     "end_time": "2022-03-04T02:02:09.196034",
     "exception": false,
     "start_time": "2022-03-04T02:02:09.171167",
     "status": "completed"
    },
    "tags": []
   },
   "outputs": [],
   "source": [
    "###################################\n",
    "# Set the RNGs and make it all deterministic\n",
    "###################################\n",
    "np.random.seed(p.seed)\n",
    "random.seed(p.seed)\n",
    "torch.manual_seed(p.seed)\n",
    "\n",
    "torch.use_deterministic_algorithms(True) "
   ]
  },
  {
   "cell_type": "code",
   "execution_count": 7,
   "id": "b691acf6",
   "metadata": {
    "execution": {
     "iopub.execute_input": "2022-03-04T02:02:09.224298Z",
     "iopub.status.busy": "2022-03-04T02:02:09.223887Z",
     "iopub.status.idle": "2022-03-04T02:02:09.234015Z",
     "shell.execute_reply": "2022-03-04T02:02:09.233743Z"
    },
    "papermill": {
     "duration": 0.022592,
     "end_time": "2022-03-04T02:02:09.234076",
     "exception": false,
     "start_time": "2022-03-04T02:02:09.211484",
     "status": "completed"
    },
    "tags": []
   },
   "outputs": [],
   "source": [
    "###########################################\n",
    "# The stratified datasets honor this\n",
    "###########################################\n",
    "torch.set_default_dtype(eval(p.torch_default_dtype))"
   ]
  },
  {
   "cell_type": "code",
   "execution_count": 8,
   "id": "b5fba671",
   "metadata": {
    "execution": {
     "iopub.execute_input": "2022-03-04T02:02:09.262979Z",
     "iopub.status.busy": "2022-03-04T02:02:09.259475Z",
     "iopub.status.idle": "2022-03-04T02:02:09.300277Z",
     "shell.execute_reply": "2022-03-04T02:02:09.299838Z"
    },
    "papermill": {
     "duration": 0.053999,
     "end_time": "2022-03-04T02:02:09.300383",
     "exception": false,
     "start_time": "2022-03-04T02:02:09.246384",
     "status": "completed"
    },
    "tags": []
   },
   "outputs": [],
   "source": [
    "###################################\n",
    "# Build the network(s)\n",
    "# Note: It's critical to do this AFTER setting the RNG\n",
    "# (This is due to the randomized initial weights)\n",
    "###################################\n",
    "x_net = build_sequential(p.x_net)"
   ]
  },
  {
   "cell_type": "code",
   "execution_count": 9,
   "id": "5d7e61cc",
   "metadata": {
    "execution": {
     "iopub.execute_input": "2022-03-04T02:02:09.328458Z",
     "iopub.status.busy": "2022-03-04T02:02:09.328204Z",
     "iopub.status.idle": "2022-03-04T02:02:09.339723Z",
     "shell.execute_reply": "2022-03-04T02:02:09.339933Z"
    },
    "papermill": {
     "duration": 0.023929,
     "end_time": "2022-03-04T02:02:09.339999",
     "exception": false,
     "start_time": "2022-03-04T02:02:09.316070",
     "status": "completed"
    },
    "tags": []
   },
   "outputs": [],
   "source": [
    "start_time_secs = time.time()"
   ]
  },
  {
   "cell_type": "code",
   "execution_count": 10,
   "id": "fd5442bc",
   "metadata": {
    "execution": {
     "iopub.execute_input": "2022-03-04T02:02:09.368049Z",
     "iopub.status.busy": "2022-03-04T02:02:09.366351Z",
     "iopub.status.idle": "2022-03-04T02:02:12.468958Z",
     "shell.execute_reply": "2022-03-04T02:02:12.468484Z"
    },
    "papermill": {
     "duration": 3.119058,
     "end_time": "2022-03-04T02:02:12.469064",
     "exception": false,
     "start_time": "2022-03-04T02:02:09.350006",
     "status": "completed"
    },
    "tags": []
   },
   "outputs": [],
   "source": [
    "###################################\n",
    "# Build the dataset\n",
    "###################################\n",
    "\n",
    "if p.x_transforms_source == []: x_transform_source = None\n",
    "else: x_transform_source = get_chained_transform(p.x_transforms_source) \n",
    "\n",
    "if p.x_transforms_target == []: x_transform_target = None\n",
    "else: x_transform_target = get_chained_transform(p.x_transforms_target)\n",
    "\n",
    "if p.episode_transforms_source == []: episode_transform_source = None\n",
    "else: raise Exception(\"episode_transform_source not implemented\")\n",
    "\n",
    "if p.episode_transforms_target == []: episode_transform_target = None\n",
    "else: raise Exception(\"episode_transform_target not implemented\")\n",
    "\n",
    "\n",
    "eaf_source = Episodic_Accessor_Factory(\n",
    "    labels=p.labels_source,\n",
    "    domains=p.domains_source,\n",
    "    num_examples_per_domain_per_label=p.num_examples_per_domain_per_label_source,\n",
    "    iterator_seed=p.seed,\n",
    "    dataset_seed=p.dataset_seed,\n",
    "    n_shot=p.n_shot,\n",
    "    n_way=p.n_way,\n",
    "    n_query=p.n_query,\n",
    "    train_val_test_k_factors=(p.train_k_factor,p.val_k_factor,p.test_k_factor),\n",
    "    pickle_path=os.path.join(get_datasets_base_path(), p.pickle_name),\n",
    "    x_transform_func=x_transform_source,\n",
    "    example_transform_func=episode_transform_source,\n",
    "    \n",
    ")\n",
    "train_original_source, val_original_source, test_original_source = eaf_source.get_train(), eaf_source.get_val(), eaf_source.get_test()\n",
    "\n",
    "\n",
    "eaf_target = Episodic_Accessor_Factory(\n",
    "    labels=p.labels_target,\n",
    "    domains=p.domains_target,\n",
    "    num_examples_per_domain_per_label=p.num_examples_per_domain_per_label_target,\n",
    "    iterator_seed=p.seed,\n",
    "    dataset_seed=p.dataset_seed,\n",
    "    n_shot=p.n_shot,\n",
    "    n_way=p.n_way,\n",
    "    n_query=p.n_query,\n",
    "    train_val_test_k_factors=(p.train_k_factor,p.val_k_factor,p.test_k_factor),\n",
    "    pickle_path=os.path.join(get_datasets_base_path(), p.pickle_name),\n",
    "    x_transform_func=x_transform_target,\n",
    "    example_transform_func=episode_transform_target,\n",
    ")\n",
    "train_original_target, val_original_target, test_original_target = eaf_target.get_train(), eaf_target.get_val(), eaf_target.get_test()\n",
    "\n",
    "\n",
    "transform_lambda = lambda ex: ex[1] # Original is (<domain>, <episode>) so we strip down to episode only\n",
    "\n",
    "train_processed_source = Lazy_Iterable_Wrapper(train_original_source, transform_lambda)\n",
    "val_processed_source   = Lazy_Iterable_Wrapper(val_original_source, transform_lambda)\n",
    "test_processed_source  = Lazy_Iterable_Wrapper(test_original_source, transform_lambda)\n",
    "\n",
    "train_processed_target = Lazy_Iterable_Wrapper(train_original_target, transform_lambda)\n",
    "val_processed_target   = Lazy_Iterable_Wrapper(val_original_target, transform_lambda)\n",
    "test_processed_target  = Lazy_Iterable_Wrapper(test_original_target, transform_lambda)\n",
    "\n",
    "datasets = EasyDict({\n",
    "    \"source\": {\n",
    "        \"original\": {\"train\":train_original_source, \"val\":val_original_source, \"test\":test_original_source},\n",
    "        \"processed\": {\"train\":train_processed_source, \"val\":val_processed_source, \"test\":test_processed_source}\n",
    "    },\n",
    "    \"target\": {\n",
    "        \"original\": {\"train\":train_original_target, \"val\":val_original_target, \"test\":test_original_target},\n",
    "        \"processed\": {\"train\":train_processed_target, \"val\":val_processed_target, \"test\":test_processed_target}\n",
    "    },\n",
    "})"
   ]
  },
  {
   "cell_type": "code",
   "execution_count": 11,
   "id": "296189d9",
   "metadata": {
    "execution": {
     "iopub.execute_input": "2022-03-04T02:02:12.497432Z",
     "iopub.status.busy": "2022-03-04T02:02:12.497165Z",
     "iopub.status.idle": "2022-03-04T02:02:15.382719Z",
     "shell.execute_reply": "2022-03-04T02:02:15.382961Z"
    },
    "papermill": {
     "duration": 2.898677,
     "end_time": "2022-03-04T02:02:15.383041",
     "exception": false,
     "start_time": "2022-03-04T02:02:12.484364",
     "status": "completed"
    },
    "tags": []
   },
   "outputs": [
    {
     "name": "stdout",
     "output_type": "stream",
     "text": [
      "Visually inspect these to see if they line up with expected values given the transforms\n",
      "x_transforms_source []\n",
      "x_transforms_target []\n",
      "Average magnitude, source: 0.0046330215\n",
      "Average power, source: 2.6936235e-05\n"
     ]
    },
    {
     "name": "stdout",
     "output_type": "stream",
     "text": [
      "Average magnitude, target: 0.0028556203\n",
      "Average power, target: 1.0219481e-05\n"
     ]
    }
   ],
   "source": [
    "# Some quick unit tests on the data\n",
    "from steves_utils.transforms import get_average_power, get_average_magnitude\n",
    "\n",
    "q_x, q_y, s_x, s_y, truth = next(iter(train_processed_source))\n",
    "\n",
    "assert q_x.dtype == eval(p.torch_default_dtype)\n",
    "assert s_x.dtype == eval(p.torch_default_dtype)\n",
    "\n",
    "print(\"Visually inspect these to see if they line up with expected values given the transforms\")\n",
    "print('x_transforms_source', p.x_transforms_source)\n",
    "print('x_transforms_target', p.x_transforms_target)\n",
    "print(\"Average magnitude, source:\", get_average_magnitude(q_x[0].numpy()))\n",
    "print(\"Average power, source:\", get_average_power(q_x[0].numpy()))\n",
    "\n",
    "q_x, q_y, s_x, s_y, truth = next(iter(train_processed_target))\n",
    "print(\"Average magnitude, target:\", get_average_magnitude(q_x[0].numpy()))\n",
    "print(\"Average power, target:\", get_average_power(q_x[0].numpy()))\n"
   ]
  },
  {
   "cell_type": "code",
   "execution_count": 12,
   "id": "bbdacba1",
   "metadata": {
    "execution": {
     "iopub.execute_input": "2022-03-04T02:02:15.408008Z",
     "iopub.status.busy": "2022-03-04T02:02:15.407737Z",
     "iopub.status.idle": "2022-03-04T02:02:15.465519Z",
     "shell.execute_reply": "2022-03-04T02:02:15.465741Z"
    },
    "papermill": {
     "duration": 0.07147,
     "end_time": "2022-03-04T02:02:15.465815",
     "exception": false,
     "start_time": "2022-03-04T02:02:15.394345",
     "status": "completed"
    },
    "tags": []
   },
   "outputs": [
    {
     "name": "stdout",
     "output_type": "stream",
     "text": [
      "(2, 256)\n"
     ]
    }
   ],
   "source": [
    "###################################\n",
    "# Build the model\n",
    "###################################\n",
    "model = Steves_Prototypical_Network(x_net, device=p.device, x_shape=(2,256))\n",
    "optimizer = Adam(params=model.parameters(), lr=p.lr)"
   ]
  },
  {
   "cell_type": "code",
   "execution_count": 13,
   "id": "22b39ac5",
   "metadata": {
    "execution": {
     "iopub.execute_input": "2022-03-04T02:02:15.496481Z",
     "iopub.status.busy": "2022-03-04T02:02:15.496222Z",
     "iopub.status.idle": "2022-03-04T02:15:01.497699Z",
     "shell.execute_reply": "2022-03-04T02:15:01.498090Z"
    },
    "papermill": {
     "duration": 766.016117,
     "end_time": "2022-03-04T02:15:01.498222",
     "exception": false,
     "start_time": "2022-03-04T02:02:15.482105",
     "status": "completed"
    },
    "tags": []
   },
   "outputs": [
    {
     "name": "stdout",
     "output_type": "stream",
     "text": [
      "epoch: 1, [batch: 1 / 420], examples_per_second: 9.3386, train_label_loss: 2.4275, \n"
     ]
    },
    {
     "name": "stdout",
     "output_type": "stream",
     "text": [
      "epoch: 1, [batch: 42 / 420], examples_per_second: 836.6758, train_label_loss: 1.4772, \n"
     ]
    },
    {
     "name": "stdout",
     "output_type": "stream",
     "text": [
      "epoch: 1, [batch: 84 / 420], examples_per_second: 902.9603, train_label_loss: 1.3621, \n"
     ]
    },
    {
     "name": "stdout",
     "output_type": "stream",
     "text": [
      "epoch: 1, [batch: 126 / 420], examples_per_second: 988.1947, train_label_loss: 1.5421, \n"
     ]
    },
    {
     "name": "stdout",
     "output_type": "stream",
     "text": [
      "epoch: 1, [batch: 168 / 420], examples_per_second: 1104.1921, train_label_loss: 1.1629, \n"
     ]
    },
    {
     "name": "stdout",
     "output_type": "stream",
     "text": [
      "epoch: 1, [batch: 210 / 420], examples_per_second: 1105.2237, train_label_loss: 1.0496, \n"
     ]
    },
    {
     "name": "stdout",
     "output_type": "stream",
     "text": [
      "epoch: 1, [batch: 252 / 420], examples_per_second: 1267.3343, train_label_loss: 1.2535, \n"
     ]
    },
    {
     "name": "stdout",
     "output_type": "stream",
     "text": [
      "epoch: 1, [batch: 294 / 420], examples_per_second: 1373.2788, train_label_loss: 1.1269, \n"
     ]
    },
    {
     "name": "stdout",
     "output_type": "stream",
     "text": [
      "epoch: 1, [batch: 336 / 420], examples_per_second: 1600.6959, train_label_loss: 1.2514, \n"
     ]
    },
    {
     "name": "stdout",
     "output_type": "stream",
     "text": [
      "epoch: 1, [batch: 378 / 420], examples_per_second: 1851.0706, train_label_loss: 1.3711, \n"
     ]
    },
    {
     "name": "stdout",
     "output_type": "stream",
     "text": [
      "=============================================================\n",
      "epoch: 1, source_val_acc_label: 0.4734, target_val_acc_label: 0.3939, source_val_label_loss: 1.6748, target_val_label_loss: 1.7880, \n",
      "=============================================================\n"
     ]
    },
    {
     "name": "stdout",
     "output_type": "stream",
     "text": [
      "New best\n"
     ]
    },
    {
     "name": "stdout",
     "output_type": "stream",
     "text": [
      "epoch: 2, [batch: 1 / 420], examples_per_second: 4.9660, train_label_loss: 1.4369, \n"
     ]
    },
    {
     "name": "stdout",
     "output_type": "stream",
     "text": [
      "epoch: 2, [batch: 42 / 420], examples_per_second: 822.5980, train_label_loss: 1.3378, \n"
     ]
    },
    {
     "name": "stdout",
     "output_type": "stream",
     "text": [
      "epoch: 2, [batch: 84 / 420], examples_per_second: 897.9819, train_label_loss: 1.2826, \n"
     ]
    },
    {
     "name": "stdout",
     "output_type": "stream",
     "text": [
      "epoch: 2, [batch: 126 / 420], examples_per_second: 990.4887, train_label_loss: 1.1643, \n"
     ]
    },
    {
     "name": "stdout",
     "output_type": "stream",
     "text": [
      "epoch: 2, [batch: 168 / 420], examples_per_second: 1066.8860, train_label_loss: 1.5145, \n"
     ]
    },
    {
     "name": "stdout",
     "output_type": "stream",
     "text": [
      "epoch: 2, [batch: 210 / 420], examples_per_second: 1126.9698, train_label_loss: 1.5242, \n"
     ]
    },
    {
     "name": "stdout",
     "output_type": "stream",
     "text": [
      "epoch: 2, [batch: 252 / 420], examples_per_second: 1251.8926, train_label_loss: 1.2456, \n"
     ]
    },
    {
     "name": "stdout",
     "output_type": "stream",
     "text": [
      "epoch: 2, [batch: 294 / 420], examples_per_second: 1401.5200, train_label_loss: 1.4222, \n"
     ]
    },
    {
     "name": "stdout",
     "output_type": "stream",
     "text": [
      "epoch: 2, [batch: 336 / 420], examples_per_second: 1606.6197, train_label_loss: 1.3605, \n"
     ]
    },
    {
     "name": "stdout",
     "output_type": "stream",
     "text": [
      "epoch: 2, [batch: 378 / 420], examples_per_second: 1890.1978, train_label_loss: 1.3201, \n"
     ]
    },
    {
     "name": "stdout",
     "output_type": "stream",
     "text": [
      "=============================================================\n",
      "epoch: 2, source_val_acc_label: 0.4856, target_val_acc_label: 0.3977, source_val_label_loss: 1.2884, target_val_label_loss: 1.8340, \n",
      "=============================================================\n"
     ]
    },
    {
     "name": "stdout",
     "output_type": "stream",
     "text": [
      "epoch: 3, [batch: 1 / 420], examples_per_second: 4.9368, train_label_loss: 1.5996, \n"
     ]
    },
    {
     "name": "stdout",
     "output_type": "stream",
     "text": [
      "epoch: 3, [batch: 42 / 420], examples_per_second: 823.9423, train_label_loss: 1.0974, \n"
     ]
    },
    {
     "name": "stdout",
     "output_type": "stream",
     "text": [
      "epoch: 3, [batch: 84 / 420], examples_per_second: 910.1112, train_label_loss: 1.3729, \n"
     ]
    },
    {
     "name": "stdout",
     "output_type": "stream",
     "text": [
      "epoch: 3, [batch: 126 / 420], examples_per_second: 976.8300, train_label_loss: 1.3186, \n"
     ]
    },
    {
     "name": "stdout",
     "output_type": "stream",
     "text": [
      "epoch: 3, [batch: 168 / 420], examples_per_second: 1037.6400, train_label_loss: 1.2122, \n"
     ]
    },
    {
     "name": "stdout",
     "output_type": "stream",
     "text": [
      "epoch: 3, [batch: 210 / 420], examples_per_second: 1107.3246, train_label_loss: 1.3719, \n"
     ]
    },
    {
     "name": "stdout",
     "output_type": "stream",
     "text": [
      "epoch: 3, [batch: 252 / 420], examples_per_second: 1230.8330, train_label_loss: 1.0721, \n"
     ]
    },
    {
     "name": "stdout",
     "output_type": "stream",
     "text": [
      "epoch: 3, [batch: 294 / 420], examples_per_second: 1366.5466, train_label_loss: 1.4380, \n"
     ]
    },
    {
     "name": "stdout",
     "output_type": "stream",
     "text": [
      "epoch: 3, [batch: 336 / 420], examples_per_second: 1591.1503, train_label_loss: 1.2620, \n"
     ]
    },
    {
     "name": "stdout",
     "output_type": "stream",
     "text": [
      "epoch: 3, [batch: 378 / 420], examples_per_second: 1879.2990, train_label_loss: 0.6396, \n"
     ]
    },
    {
     "name": "stdout",
     "output_type": "stream",
     "text": [
      "=============================================================\n",
      "epoch: 3, source_val_acc_label: 0.6224, target_val_acc_label: 0.5004, source_val_label_loss: 0.9886, target_val_label_loss: 1.7404, \n",
      "=============================================================\n"
     ]
    },
    {
     "name": "stdout",
     "output_type": "stream",
     "text": [
      "New best\n"
     ]
    },
    {
     "name": "stdout",
     "output_type": "stream",
     "text": [
      "epoch: 4, [batch: 1 / 420], examples_per_second: 4.9413, train_label_loss: 1.0834, \n"
     ]
    },
    {
     "name": "stdout",
     "output_type": "stream",
     "text": [
      "epoch: 4, [batch: 42 / 420], examples_per_second: 828.3460, train_label_loss: 0.9973, \n"
     ]
    },
    {
     "name": "stdout",
     "output_type": "stream",
     "text": [
      "epoch: 4, [batch: 84 / 420], examples_per_second: 894.3081, train_label_loss: 0.7394, \n"
     ]
    },
    {
     "name": "stdout",
     "output_type": "stream",
     "text": [
      "epoch: 4, [batch: 126 / 420], examples_per_second: 998.3352, train_label_loss: 0.9697, \n"
     ]
    },
    {
     "name": "stdout",
     "output_type": "stream",
     "text": [
      "epoch: 4, [batch: 168 / 420], examples_per_second: 995.1232, train_label_loss: 1.1267, \n"
     ]
    },
    {
     "name": "stdout",
     "output_type": "stream",
     "text": [
      "epoch: 4, [batch: 210 / 420], examples_per_second: 1123.4956, train_label_loss: 0.2871, \n"
     ]
    },
    {
     "name": "stdout",
     "output_type": "stream",
     "text": [
      "epoch: 4, [batch: 252 / 420], examples_per_second: 1212.5284, train_label_loss: 1.1136, \n"
     ]
    },
    {
     "name": "stdout",
     "output_type": "stream",
     "text": [
      "epoch: 4, [batch: 294 / 420], examples_per_second: 1383.1318, train_label_loss: 0.9629, \n"
     ]
    },
    {
     "name": "stdout",
     "output_type": "stream",
     "text": [
      "epoch: 4, [batch: 336 / 420], examples_per_second: 1646.9753, train_label_loss: 1.1754, \n"
     ]
    },
    {
     "name": "stdout",
     "output_type": "stream",
     "text": [
      "epoch: 4, [batch: 378 / 420], examples_per_second: 1812.0674, train_label_loss: 1.3620, \n"
     ]
    },
    {
     "name": "stdout",
     "output_type": "stream",
     "text": [
      "=============================================================\n",
      "epoch: 4, source_val_acc_label: 0.6990, target_val_acc_label: 0.5697, source_val_label_loss: 0.7896, target_val_label_loss: 1.2841, \n",
      "=============================================================\n"
     ]
    },
    {
     "name": "stdout",
     "output_type": "stream",
     "text": [
      "New best\n"
     ]
    },
    {
     "name": "stdout",
     "output_type": "stream",
     "text": [
      "epoch: 5, [batch: 1 / 420], examples_per_second: 4.8600, train_label_loss: 0.5385, \n"
     ]
    },
    {
     "name": "stdout",
     "output_type": "stream",
     "text": [
      "epoch: 5, [batch: 42 / 420], examples_per_second: 814.2068, train_label_loss: 0.9267, \n"
     ]
    },
    {
     "name": "stdout",
     "output_type": "stream",
     "text": [
      "epoch: 5, [batch: 84 / 420], examples_per_second: 897.4968, train_label_loss: 0.3675, \n"
     ]
    },
    {
     "name": "stdout",
     "output_type": "stream",
     "text": [
      "epoch: 5, [batch: 126 / 420], examples_per_second: 959.0365, train_label_loss: 0.4766, \n"
     ]
    },
    {
     "name": "stdout",
     "output_type": "stream",
     "text": [
      "epoch: 5, [batch: 168 / 420], examples_per_second: 992.6515, train_label_loss: 1.0253, \n"
     ]
    },
    {
     "name": "stdout",
     "output_type": "stream",
     "text": [
      "epoch: 5, [batch: 210 / 420], examples_per_second: 1074.4112, train_label_loss: 0.8096, \n"
     ]
    },
    {
     "name": "stdout",
     "output_type": "stream",
     "text": [
      "epoch: 5, [batch: 252 / 420], examples_per_second: 1200.6602, train_label_loss: 0.2898, \n"
     ]
    },
    {
     "name": "stdout",
     "output_type": "stream",
     "text": [
      "epoch: 5, [batch: 294 / 420], examples_per_second: 1372.2983, train_label_loss: 0.5290, \n"
     ]
    },
    {
     "name": "stdout",
     "output_type": "stream",
     "text": [
      "epoch: 5, [batch: 336 / 420], examples_per_second: 1544.5686, train_label_loss: 0.6778, \n"
     ]
    },
    {
     "name": "stdout",
     "output_type": "stream",
     "text": [
      "epoch: 5, [batch: 378 / 420], examples_per_second: 1924.7726, train_label_loss: 0.7463, \n"
     ]
    },
    {
     "name": "stdout",
     "output_type": "stream",
     "text": [
      "=============================================================\n",
      "epoch: 5, source_val_acc_label: 0.7316, target_val_acc_label: 0.5889, source_val_label_loss: 0.7295, target_val_label_loss: 1.2053, \n",
      "=============================================================\n"
     ]
    },
    {
     "name": "stdout",
     "output_type": "stream",
     "text": [
      "New best\n"
     ]
    },
    {
     "name": "stdout",
     "output_type": "stream",
     "text": [
      "epoch: 6, [batch: 1 / 420], examples_per_second: 4.8397, train_label_loss: 0.5312, \n"
     ]
    },
    {
     "name": "stdout",
     "output_type": "stream",
     "text": [
      "epoch: 6, [batch: 42 / 420], examples_per_second: 792.7742, train_label_loss: 0.4451, \n"
     ]
    },
    {
     "name": "stdout",
     "output_type": "stream",
     "text": [
      "epoch: 6, [batch: 84 / 420], examples_per_second: 822.7819, train_label_loss: 0.8038, \n"
     ]
    },
    {
     "name": "stdout",
     "output_type": "stream",
     "text": [
      "epoch: 6, [batch: 126 / 420], examples_per_second: 918.4055, train_label_loss: 0.2475, \n"
     ]
    },
    {
     "name": "stdout",
     "output_type": "stream",
     "text": [
      "epoch: 6, [batch: 168 / 420], examples_per_second: 1005.1737, train_label_loss: 0.8813, \n"
     ]
    },
    {
     "name": "stdout",
     "output_type": "stream",
     "text": [
      "epoch: 6, [batch: 210 / 420], examples_per_second: 1169.6160, train_label_loss: 0.6003, \n"
     ]
    },
    {
     "name": "stdout",
     "output_type": "stream",
     "text": [
      "epoch: 6, [batch: 252 / 420], examples_per_second: 1145.2580, train_label_loss: 0.4894, \n"
     ]
    },
    {
     "name": "stdout",
     "output_type": "stream",
     "text": [
      "epoch: 6, [batch: 294 / 420], examples_per_second: 1320.0958, train_label_loss: 0.5228, \n"
     ]
    },
    {
     "name": "stdout",
     "output_type": "stream",
     "text": [
      "epoch: 6, [batch: 336 / 420], examples_per_second: 1450.1904, train_label_loss: 0.9842, \n"
     ]
    },
    {
     "name": "stdout",
     "output_type": "stream",
     "text": [
      "epoch: 6, [batch: 378 / 420], examples_per_second: 1803.6455, train_label_loss: 0.8613, \n"
     ]
    },
    {
     "name": "stdout",
     "output_type": "stream",
     "text": [
      "=============================================================\n",
      "epoch: 6, source_val_acc_label: 0.7470, target_val_acc_label: 0.6096, source_val_label_loss: 0.6920, target_val_label_loss: 1.1788, \n",
      "=============================================================\n"
     ]
    },
    {
     "name": "stdout",
     "output_type": "stream",
     "text": [
      "New best\n"
     ]
    },
    {
     "name": "stdout",
     "output_type": "stream",
     "text": [
      "epoch: 7, [batch: 1 / 420], examples_per_second: 5.0801, train_label_loss: 0.3431, \n"
     ]
    },
    {
     "name": "stdout",
     "output_type": "stream",
     "text": [
      "epoch: 7, [batch: 42 / 420], examples_per_second: 829.6677, train_label_loss: 0.5528, \n"
     ]
    },
    {
     "name": "stdout",
     "output_type": "stream",
     "text": [
      "epoch: 7, [batch: 84 / 420], examples_per_second: 897.8425, train_label_loss: 0.6073, \n"
     ]
    },
    {
     "name": "stdout",
     "output_type": "stream",
     "text": [
      "epoch: 7, [batch: 126 / 420], examples_per_second: 981.7281, train_label_loss: 0.6704, \n"
     ]
    },
    {
     "name": "stdout",
     "output_type": "stream",
     "text": [
      "epoch: 7, [batch: 168 / 420], examples_per_second: 1072.8918, train_label_loss: 0.3612, \n"
     ]
    },
    {
     "name": "stdout",
     "output_type": "stream",
     "text": [
      "epoch: 7, [batch: 210 / 420], examples_per_second: 1215.2893, train_label_loss: 0.3564, \n"
     ]
    },
    {
     "name": "stdout",
     "output_type": "stream",
     "text": [
      "epoch: 7, [batch: 252 / 420], examples_per_second: 1337.2500, train_label_loss: 0.4038, \n"
     ]
    },
    {
     "name": "stdout",
     "output_type": "stream",
     "text": [
      "epoch: 7, [batch: 294 / 420], examples_per_second: 1545.0800, train_label_loss: 0.3728, \n"
     ]
    },
    {
     "name": "stdout",
     "output_type": "stream",
     "text": [
      "epoch: 7, [batch: 336 / 420], examples_per_second: 1830.7196, train_label_loss: 0.6535, \n"
     ]
    },
    {
     "name": "stdout",
     "output_type": "stream",
     "text": [
      "epoch: 7, [batch: 378 / 420], examples_per_second: 2267.2027, train_label_loss: 0.4859, \n"
     ]
    },
    {
     "name": "stdout",
     "output_type": "stream",
     "text": [
      "=============================================================\n",
      "epoch: 7, source_val_acc_label: 0.7590, target_val_acc_label: 0.6210, source_val_label_loss: 0.6386, target_val_label_loss: 1.1683, \n",
      "=============================================================\n"
     ]
    },
    {
     "name": "stdout",
     "output_type": "stream",
     "text": [
      "New best\n"
     ]
    },
    {
     "name": "stdout",
     "output_type": "stream",
     "text": [
      "epoch: 8, [batch: 1 / 420], examples_per_second: 5.2127, train_label_loss: 0.4900, \n"
     ]
    },
    {
     "name": "stdout",
     "output_type": "stream",
     "text": [
      "epoch: 8, [batch: 42 / 420], examples_per_second: 806.7910, train_label_loss: 0.6927, \n"
     ]
    },
    {
     "name": "stdout",
     "output_type": "stream",
     "text": [
      "epoch: 8, [batch: 84 / 420], examples_per_second: 904.5762, train_label_loss: 0.2170, \n"
     ]
    },
    {
     "name": "stdout",
     "output_type": "stream",
     "text": [
      "epoch: 8, [batch: 126 / 420], examples_per_second: 939.7923, train_label_loss: 0.7055, \n"
     ]
    },
    {
     "name": "stdout",
     "output_type": "stream",
     "text": [
      "epoch: 8, [batch: 168 / 420], examples_per_second: 1064.3148, train_label_loss: 0.1970, \n"
     ]
    },
    {
     "name": "stdout",
     "output_type": "stream",
     "text": [
      "epoch: 8, [batch: 210 / 420], examples_per_second: 1178.0918, train_label_loss: 0.6411, \n"
     ]
    },
    {
     "name": "stdout",
     "output_type": "stream",
     "text": [
      "epoch: 8, [batch: 252 / 420], examples_per_second: 1291.1426, train_label_loss: 0.8170, \n"
     ]
    },
    {
     "name": "stdout",
     "output_type": "stream",
     "text": [
      "epoch: 8, [batch: 294 / 420], examples_per_second: 1382.9527, train_label_loss: 0.7708, \n"
     ]
    },
    {
     "name": "stdout",
     "output_type": "stream",
     "text": [
      "epoch: 8, [batch: 336 / 420], examples_per_second: 1442.4499, train_label_loss: 0.4800, \n"
     ]
    },
    {
     "name": "stdout",
     "output_type": "stream",
     "text": [
      "epoch: 8, [batch: 378 / 420], examples_per_second: 1463.4944, train_label_loss: 0.4937, \n"
     ]
    },
    {
     "name": "stdout",
     "output_type": "stream",
     "text": [
      "=============================================================\n",
      "epoch: 8, source_val_acc_label: 0.7677, target_val_acc_label: 0.6336, source_val_label_loss: 0.6112, target_val_label_loss: 1.1659, \n",
      "=============================================================\n"
     ]
    },
    {
     "name": "stdout",
     "output_type": "stream",
     "text": [
      "New best\n"
     ]
    },
    {
     "name": "stdout",
     "output_type": "stream",
     "text": [
      "epoch: 9, [batch: 1 / 420], examples_per_second: 4.9794, train_label_loss: 0.3584, \n"
     ]
    },
    {
     "name": "stdout",
     "output_type": "stream",
     "text": [
      "epoch: 9, [batch: 42 / 420], examples_per_second: 795.0802, train_label_loss: 0.2541, \n"
     ]
    },
    {
     "name": "stdout",
     "output_type": "stream",
     "text": [
      "epoch: 9, [batch: 84 / 420], examples_per_second: 871.0956, train_label_loss: 0.3661, \n"
     ]
    },
    {
     "name": "stdout",
     "output_type": "stream",
     "text": [
      "epoch: 9, [batch: 126 / 420], examples_per_second: 960.8496, train_label_loss: 0.6184, \n"
     ]
    },
    {
     "name": "stdout",
     "output_type": "stream",
     "text": [
      "epoch: 9, [batch: 168 / 420], examples_per_second: 1025.4637, train_label_loss: 0.4355, \n"
     ]
    },
    {
     "name": "stdout",
     "output_type": "stream",
     "text": [
      "epoch: 9, [batch: 210 / 420], examples_per_second: 1195.1719, train_label_loss: 0.2224, \n"
     ]
    },
    {
     "name": "stdout",
     "output_type": "stream",
     "text": [
      "epoch: 9, [batch: 252 / 420], examples_per_second: 1332.5325, train_label_loss: 0.4677, \n"
     ]
    },
    {
     "name": "stdout",
     "output_type": "stream",
     "text": [
      "epoch: 9, [batch: 294 / 420], examples_per_second: 1514.6020, train_label_loss: 0.4395, \n"
     ]
    },
    {
     "name": "stdout",
     "output_type": "stream",
     "text": [
      "epoch: 9, [batch: 336 / 420], examples_per_second: 1612.9125, train_label_loss: 1.0243, \n"
     ]
    },
    {
     "name": "stdout",
     "output_type": "stream",
     "text": [
      "epoch: 9, [batch: 378 / 420], examples_per_second: 1618.8807, train_label_loss: 0.6644, \n"
     ]
    },
    {
     "name": "stdout",
     "output_type": "stream",
     "text": [
      "=============================================================\n",
      "epoch: 9, source_val_acc_label: 0.7766, target_val_acc_label: 0.6328, source_val_label_loss: 0.6132, target_val_label_loss: 1.1543, \n",
      "=============================================================\n"
     ]
    },
    {
     "name": "stdout",
     "output_type": "stream",
     "text": [
      "New best\n"
     ]
    },
    {
     "name": "stdout",
     "output_type": "stream",
     "text": [
      "epoch: 10, [batch: 1 / 420], examples_per_second: 4.8966, train_label_loss: 0.4317, \n"
     ]
    },
    {
     "name": "stdout",
     "output_type": "stream",
     "text": [
      "epoch: 10, [batch: 42 / 420], examples_per_second: 835.9600, train_label_loss: 0.4231, \n"
     ]
    },
    {
     "name": "stdout",
     "output_type": "stream",
     "text": [
      "epoch: 10, [batch: 84 / 420], examples_per_second: 859.2258, train_label_loss: 0.6604, \n"
     ]
    },
    {
     "name": "stdout",
     "output_type": "stream",
     "text": [
      "epoch: 10, [batch: 126 / 420], examples_per_second: 949.7147, train_label_loss: 0.4445, \n"
     ]
    },
    {
     "name": "stdout",
     "output_type": "stream",
     "text": [
      "epoch: 10, [batch: 168 / 420], examples_per_second: 1086.4719, train_label_loss: 0.3980, \n"
     ]
    },
    {
     "name": "stdout",
     "output_type": "stream",
     "text": [
      "epoch: 10, [batch: 210 / 420], examples_per_second: 1168.7848, train_label_loss: 0.4874, \n"
     ]
    },
    {
     "name": "stdout",
     "output_type": "stream",
     "text": [
      "epoch: 10, [batch: 252 / 420], examples_per_second: 1306.4502, train_label_loss: 0.2906, \n"
     ]
    },
    {
     "name": "stdout",
     "output_type": "stream",
     "text": [
      "epoch: 10, [batch: 294 / 420], examples_per_second: 1468.5351, train_label_loss: 0.3490, \n"
     ]
    },
    {
     "name": "stdout",
     "output_type": "stream",
     "text": [
      "epoch: 10, [batch: 336 / 420], examples_per_second: 1602.5445, train_label_loss: 0.2078, \n"
     ]
    },
    {
     "name": "stdout",
     "output_type": "stream",
     "text": [
      "epoch: 10, [batch: 378 / 420], examples_per_second: 1626.9479, train_label_loss: 0.4989, \n"
     ]
    },
    {
     "name": "stdout",
     "output_type": "stream",
     "text": [
      "=============================================================\n",
      "epoch: 10, source_val_acc_label: 0.7698, target_val_acc_label: 0.6280, source_val_label_loss: 0.6203, target_val_label_loss: 1.2666, \n",
      "=============================================================\n"
     ]
    },
    {
     "name": "stdout",
     "output_type": "stream",
     "text": [
      "epoch: 11, [batch: 1 / 420], examples_per_second: 4.8475, train_label_loss: 0.5085, \n"
     ]
    },
    {
     "name": "stdout",
     "output_type": "stream",
     "text": [
      "epoch: 11, [batch: 42 / 420], examples_per_second: 812.5920, train_label_loss: 0.2487, \n"
     ]
    },
    {
     "name": "stdout",
     "output_type": "stream",
     "text": [
      "epoch: 11, [batch: 84 / 420], examples_per_second: 878.4851, train_label_loss: 0.5178, \n"
     ]
    },
    {
     "name": "stdout",
     "output_type": "stream",
     "text": [
      "epoch: 11, [batch: 126 / 420], examples_per_second: 973.7715, train_label_loss: 0.5721, \n"
     ]
    },
    {
     "name": "stdout",
     "output_type": "stream",
     "text": [
      "epoch: 11, [batch: 168 / 420], examples_per_second: 1041.8511, train_label_loss: 0.7929, \n"
     ]
    },
    {
     "name": "stdout",
     "output_type": "stream",
     "text": [
      "epoch: 11, [batch: 210 / 420], examples_per_second: 1148.6490, train_label_loss: 0.4166, \n"
     ]
    },
    {
     "name": "stdout",
     "output_type": "stream",
     "text": [
      "epoch: 11, [batch: 252 / 420], examples_per_second: 1290.0128, train_label_loss: 0.3980, \n"
     ]
    },
    {
     "name": "stdout",
     "output_type": "stream",
     "text": [
      "epoch: 11, [batch: 294 / 420], examples_per_second: 1440.0377, train_label_loss: 0.3829, \n"
     ]
    },
    {
     "name": "stdout",
     "output_type": "stream",
     "text": [
      "epoch: 11, [batch: 336 / 420], examples_per_second: 1487.6571, train_label_loss: 0.5543, \n"
     ]
    },
    {
     "name": "stdout",
     "output_type": "stream",
     "text": [
      "epoch: 11, [batch: 378 / 420], examples_per_second: 1578.4152, train_label_loss: 0.6612, \n"
     ]
    },
    {
     "name": "stdout",
     "output_type": "stream",
     "text": [
      "=============================================================\n",
      "epoch: 11, source_val_acc_label: 0.7833, target_val_acc_label: 0.6459, source_val_label_loss: 0.5988, target_val_label_loss: 1.2250, \n",
      "=============================================================\n"
     ]
    },
    {
     "name": "stdout",
     "output_type": "stream",
     "text": [
      "epoch: 12, [batch: 1 / 420], examples_per_second: 4.8650, train_label_loss: 0.7416, \n"
     ]
    },
    {
     "name": "stdout",
     "output_type": "stream",
     "text": [
      "epoch: 12, [batch: 42 / 420], examples_per_second: 800.7861, train_label_loss: 0.6326, \n"
     ]
    },
    {
     "name": "stdout",
     "output_type": "stream",
     "text": [
      "epoch: 12, [batch: 84 / 420], examples_per_second: 883.4919, train_label_loss: 0.3334, \n"
     ]
    },
    {
     "name": "stdout",
     "output_type": "stream",
     "text": [
      "epoch: 12, [batch: 126 / 420], examples_per_second: 952.7779, train_label_loss: 0.2857, \n"
     ]
    },
    {
     "name": "stdout",
     "output_type": "stream",
     "text": [
      "epoch: 12, [batch: 168 / 420], examples_per_second: 1075.8932, train_label_loss: 0.7517, \n"
     ]
    },
    {
     "name": "stdout",
     "output_type": "stream",
     "text": [
      "epoch: 12, [batch: 210 / 420], examples_per_second: 1171.5504, train_label_loss: 0.5340, \n"
     ]
    },
    {
     "name": "stdout",
     "output_type": "stream",
     "text": [
      "epoch: 12, [batch: 252 / 420], examples_per_second: 1310.9097, train_label_loss: 0.5683, \n"
     ]
    },
    {
     "name": "stdout",
     "output_type": "stream",
     "text": [
      "epoch: 12, [batch: 294 / 420], examples_per_second: 1495.9643, train_label_loss: 0.1862, \n"
     ]
    },
    {
     "name": "stdout",
     "output_type": "stream",
     "text": [
      "epoch: 12, [batch: 336 / 420], examples_per_second: 1544.2959, train_label_loss: 0.4477, \n"
     ]
    },
    {
     "name": "stdout",
     "output_type": "stream",
     "text": [
      "epoch: 12, [batch: 378 / 420], examples_per_second: 1601.2037, train_label_loss: 0.3674, \n"
     ]
    },
    {
     "name": "stdout",
     "output_type": "stream",
     "text": [
      "=============================================================\n",
      "epoch: 12, source_val_acc_label: 0.7788, target_val_acc_label: 0.6412, source_val_label_loss: 0.5974, target_val_label_loss: 1.1701, \n",
      "=============================================================\n"
     ]
    },
    {
     "name": "stdout",
     "output_type": "stream",
     "text": [
      "epoch: 13, [batch: 1 / 420], examples_per_second: 4.8872, train_label_loss: 0.8020, \n"
     ]
    },
    {
     "name": "stdout",
     "output_type": "stream",
     "text": [
      "epoch: 13, [batch: 42 / 420], examples_per_second: 826.1450, train_label_loss: 0.4316, \n"
     ]
    },
    {
     "name": "stdout",
     "output_type": "stream",
     "text": [
      "epoch: 13, [batch: 84 / 420], examples_per_second: 851.7364, train_label_loss: 0.2576, \n"
     ]
    },
    {
     "name": "stdout",
     "output_type": "stream",
     "text": [
      "epoch: 13, [batch: 126 / 420], examples_per_second: 977.5659, train_label_loss: 0.1411, \n"
     ]
    },
    {
     "name": "stdout",
     "output_type": "stream",
     "text": [
      "epoch: 13, [batch: 168 / 420], examples_per_second: 1052.6106, train_label_loss: 0.2338, \n"
     ]
    },
    {
     "name": "stdout",
     "output_type": "stream",
     "text": [
      "epoch: 13, [batch: 210 / 420], examples_per_second: 1152.1760, train_label_loss: 0.2167, \n"
     ]
    },
    {
     "name": "stdout",
     "output_type": "stream",
     "text": [
      "epoch: 13, [batch: 252 / 420], examples_per_second: 1340.9980, train_label_loss: 0.2396, \n"
     ]
    },
    {
     "name": "stdout",
     "output_type": "stream",
     "text": [
      "epoch: 13, [batch: 294 / 420], examples_per_second: 1507.8223, train_label_loss: 0.3237, \n"
     ]
    },
    {
     "name": "stdout",
     "output_type": "stream",
     "text": [
      "epoch: 13, [batch: 336 / 420], examples_per_second: 1602.9264, train_label_loss: 0.7816, \n"
     ]
    },
    {
     "name": "stdout",
     "output_type": "stream",
     "text": [
      "epoch: 13, [batch: 378 / 420], examples_per_second: 1610.6109, train_label_loss: 0.1897, \n"
     ]
    },
    {
     "name": "stdout",
     "output_type": "stream",
     "text": [
      "=============================================================\n",
      "epoch: 13, source_val_acc_label: 0.7797, target_val_acc_label: 0.6416, source_val_label_loss: 0.6105, target_val_label_loss: 1.2149, \n",
      "=============================================================\n"
     ]
    },
    {
     "name": "stdout",
     "output_type": "stream",
     "text": [
      "Patience (3) exhausted\n"
     ]
    }
   ],
   "source": [
    "###################################\n",
    "# train\n",
    "###################################\n",
    "jig = PTN_Train_Eval_Test_Jig(model, p.BEST_MODEL_PATH, p.device)\n",
    "\n",
    "jig.train(\n",
    "    train_iterable=datasets.source.processed.train,\n",
    "    source_val_iterable=datasets.source.processed.val,\n",
    "    target_val_iterable=datasets.target.processed.val,\n",
    "    num_epochs=p.n_epoch,\n",
    "    num_logs_per_epoch=p.NUM_LOGS_PER_EPOCH,\n",
    "    patience=p.patience,\n",
    "    optimizer=optimizer,\n",
    "    criteria_for_best=p.criteria_for_best,\n",
    ")"
   ]
  },
  {
   "cell_type": "code",
   "execution_count": 14,
   "id": "31e8fabf",
   "metadata": {
    "execution": {
     "iopub.execute_input": "2022-03-04T02:15:01.590258Z",
     "iopub.status.busy": "2022-03-04T02:15:01.589994Z",
     "iopub.status.idle": "2022-03-04T02:15:01.605385Z",
     "shell.execute_reply": "2022-03-04T02:15:01.605686Z"
    },
    "papermill": {
     "duration": 0.057934,
     "end_time": "2022-03-04T02:15:01.605790",
     "exception": false,
     "start_time": "2022-03-04T02:15:01.547856",
     "status": "completed"
    },
    "tags": []
   },
   "outputs": [],
   "source": [
    "total_experiment_time_secs = time.time() - start_time_secs"
   ]
  },
  {
   "cell_type": "code",
   "execution_count": 15,
   "id": "87b9595b",
   "metadata": {
    "execution": {
     "iopub.execute_input": "2022-03-04T02:15:01.695309Z",
     "iopub.status.busy": "2022-03-04T02:15:01.689561Z",
     "iopub.status.idle": "2022-03-04T02:16:35.495441Z",
     "shell.execute_reply": "2022-03-04T02:16:35.495045Z"
    },
    "papermill": {
     "duration": 93.844631,
     "end_time": "2022-03-04T02:16:35.495535",
     "exception": false,
     "start_time": "2022-03-04T02:15:01.650904",
     "status": "completed"
    },
    "tags": []
   },
   "outputs": [],
   "source": [
    "###################################\n",
    "# Evaluate the model\n",
    "###################################\n",
    "source_test_label_accuracy, source_test_label_loss = jig.test(datasets.source.processed.test)\n",
    "target_test_label_accuracy, target_test_label_loss = jig.test(datasets.target.processed.test)\n",
    "\n",
    "source_val_label_accuracy, source_val_label_loss = jig.test(datasets.source.processed.val)\n",
    "target_val_label_accuracy, target_val_label_loss = jig.test(datasets.target.processed.val)\n",
    "\n",
    "history = jig.get_history()\n",
    "\n",
    "total_epochs_trained = len(history[\"epoch_indices\"])\n",
    "\n",
    "val_dl = Iterable_Aggregator((datasets.source.original.val,datasets.target.original.val))\n",
    "\n",
    "confusion = ptn_confusion_by_domain_over_dataloader(model, p.device, val_dl)\n",
    "per_domain_accuracy = per_domain_accuracy_from_confusion(confusion)\n",
    "\n",
    "# Add a key to per_domain_accuracy for if it was a source domain\n",
    "for domain, accuracy in per_domain_accuracy.items():\n",
    "    per_domain_accuracy[domain] = {\n",
    "        \"accuracy\": accuracy,\n",
    "        \"source?\": domain in p.domains_source\n",
    "    }\n",
    "\n",
    "# Do an independent accuracy assesment JUST TO BE SURE!\n",
    "# _source_test_label_accuracy = independent_accuracy_assesment(model, datasets.source.processed.test, p.device)\n",
    "# _target_test_label_accuracy = independent_accuracy_assesment(model, datasets.target.processed.test, p.device)\n",
    "# _source_val_label_accuracy = independent_accuracy_assesment(model, datasets.source.processed.val, p.device)\n",
    "# _target_val_label_accuracy = independent_accuracy_assesment(model, datasets.target.processed.val, p.device)\n",
    "\n",
    "# assert(_source_test_label_accuracy == source_test_label_accuracy)\n",
    "# assert(_target_test_label_accuracy == target_test_label_accuracy)\n",
    "# assert(_source_val_label_accuracy == source_val_label_accuracy)\n",
    "# assert(_target_val_label_accuracy == target_val_label_accuracy)\n",
    "\n",
    "experiment = {\n",
    "    \"experiment_name\": p.experiment_name,\n",
    "    \"parameters\": dict(p),\n",
    "    \"results\": {\n",
    "        \"source_test_label_accuracy\": source_test_label_accuracy,\n",
    "        \"source_test_label_loss\": source_test_label_loss,\n",
    "        \"target_test_label_accuracy\": target_test_label_accuracy,\n",
    "        \"target_test_label_loss\": target_test_label_loss,\n",
    "        \"source_val_label_accuracy\": source_val_label_accuracy,\n",
    "        \"source_val_label_loss\": source_val_label_loss,\n",
    "        \"target_val_label_accuracy\": target_val_label_accuracy,\n",
    "        \"target_val_label_loss\": target_val_label_loss,\n",
    "        \"total_epochs_trained\": total_epochs_trained,\n",
    "        \"total_experiment_time_secs\": total_experiment_time_secs,\n",
    "        \"confusion\": confusion,\n",
    "        \"per_domain_accuracy\": per_domain_accuracy,\n",
    "    },\n",
    "    \"history\": history,\n",
    "    \"dataset_metrics\": get_dataset_metrics(datasets, \"ptn\"),\n",
    "}"
   ]
  },
  {
   "cell_type": "code",
   "execution_count": 16,
   "id": "54a21829",
   "metadata": {
    "execution": {
     "iopub.execute_input": "2022-03-04T02:16:35.580446Z",
     "iopub.status.busy": "2022-03-04T02:16:35.579711Z",
     "iopub.status.idle": "2022-03-04T02:16:35.771593Z",
     "shell.execute_reply": "2022-03-04T02:16:35.771246Z"
    },
    "papermill": {
     "duration": 0.232232,
     "end_time": "2022-03-04T02:16:35.771669",
     "exception": false,
     "start_time": "2022-03-04T02:16:35.539437",
     "status": "completed"
    },
    "tags": []
   },
   "outputs": [
    {
     "data": {
      "image/png": "[encoded data removed]",
      "text/plain": [
       "<Figure size 1080x504 with 1 Axes>"
      ]
     },
     "metadata": {
      "needs_background": "light"
     },
     "output_type": "display_data"
    }
   ],
   "source": [
    "ax = get_loss_curve(experiment)\n",
    "plt.show()"
   ]
  },
  {
   "cell_type": "code",
   "execution_count": 17,
   "id": "fd8a0f60",
   "metadata": {
    "execution": {
     "iopub.execute_input": "2022-03-04T02:16:35.863803Z",
     "iopub.status.busy": "2022-03-04T02:16:35.863543Z",
     "iopub.status.idle": "2022-03-04T02:16:36.139717Z",
     "shell.execute_reply": "2022-03-04T02:16:36.139937Z"
    },
    "papermill": {
     "duration": 0.326886,
     "end_time": "2022-03-04T02:16:36.140015",
     "exception": false,
     "start_time": "2022-03-04T02:16:35.813129",
     "status": "completed"
    },
    "tags": []
   },
   "outputs": [
    {
     "data": {
      "text/plain": [
       "<matplotlib.axes._subplots.AxesSubplot at 0x7f1f486e28e0>"
      ]
     },
     "execution_count": 17,
     "metadata": {},
     "output_type": "execute_result"
    },
    {
     "data": {
      "image/png": "[encoded data removed]",
      "text/plain": [
       "<Figure size 1080x504 with 1 Axes>"
      ]
     },
     "metadata": {
      "needs_background": "light"
     },
     "output_type": "display_data"
    }
   ],
   "source": [
    "get_results_table(experiment)"
   ]
  },
  {
   "cell_type": "code",
   "execution_count": 18,
   "id": "cf8dc689",
   "metadata": {
    "execution": {
     "iopub.execute_input": "2022-03-04T02:16:36.226000Z",
     "iopub.status.busy": "2022-03-04T02:16:36.225747Z",
     "iopub.status.idle": "2022-03-04T02:16:36.401719Z",
     "shell.execute_reply": "2022-03-04T02:16:36.402140Z"
    },
    "papermill": {
     "duration": 0.218961,
     "end_time": "2022-03-04T02:16:36.402272",
     "exception": false,
     "start_time": "2022-03-04T02:16:36.183311",
     "status": "completed"
    },
    "tags": []
   },
   "outputs": [
    {
     "data": {
      "text/plain": [
       "<matplotlib.axes._subplots.AxesSubplot at 0x7f1f4864eb50>"
      ]
     },
     "execution_count": 18,
     "metadata": {},
     "output_type": "execute_result"
    },
    {
     "data": {
      "image/png": "[encoded data removed]",
      "text/plain": [
       "<Figure size 1080x504 with 1 Axes>"
      ]
     },
     "metadata": {
      "needs_background": "light"
     },
     "output_type": "display_data"
    }
   ],
   "source": [
    "get_domain_accuracies(experiment)"
   ]
  },
  {
   "cell_type": "code",
   "execution_count": 19,
   "id": "a74ae082",
   "metadata": {
    "execution": {
     "iopub.execute_input": "2022-03-04T02:16:36.492169Z",
     "iopub.status.busy": "2022-03-04T02:16:36.491901Z",
     "iopub.status.idle": "2022-03-04T02:16:36.507458Z",
     "shell.execute_reply": "2022-03-04T02:16:36.507010Z"
    },
    "papermill": {
     "duration": 0.059145,
     "end_time": "2022-03-04T02:16:36.507561",
     "exception": false,
     "start_time": "2022-03-04T02:16:36.448416",
     "status": "completed"
    },
    "tags": []
   },
   "outputs": [
    {
     "name": "stdout",
     "output_type": "stream",
     "text": [
      "Source Test Label Accuracy: 0.7791666666666667 Target Test Label Accuracy: 0.6329166666666667\n",
      "Source Val Label Accuracy: 0.7765625 Target Val Label Accuracy: 0.6328125\n"
     ]
    }
   ],
   "source": [
    "print(\"Source Test Label Accuracy:\", experiment[\"results\"][\"source_test_label_accuracy\"], \"Target Test Label Accuracy:\", experiment[\"results\"][\"target_test_label_accuracy\"])\n",
    "print(\"Source Val Label Accuracy:\", experiment[\"results\"][\"source_val_label_accuracy\"], \"Target Val Label Accuracy:\", experiment[\"results\"][\"target_val_label_accuracy\"])"
   ]
  },
  {
   "cell_type": "code",
   "execution_count": 20,
   "id": "dacca602",
   "metadata": {
    "execution": {
     "iopub.execute_input": "2022-03-04T02:16:36.599655Z",
     "iopub.status.busy": "2022-03-04T02:16:36.599406Z",
     "iopub.status.idle": "2022-03-04T02:16:36.613223Z",
     "shell.execute_reply": "2022-03-04T02:16:36.613631Z"
    },
    "papermill": {
     "duration": 0.057605,
     "end_time": "2022-03-04T02:16:36.613754",
     "exception": false,
     "start_time": "2022-03-04T02:16:36.556149",
     "status": "completed"
    },
    "tags": [
     "experiment_json"
    ]
   },
   "outputs": [
    {
     "data": {
      "text/plain": [
       "'{\"experiment_name\": \"dataset_seeds_oracle.run2\", \"parameters\": {\"experiment_name\": \"dataset_seeds_oracle.run2\", \"lr\": 0.001, \"device\": \"cuda\", \"seed\": 1337, \"dataset_seed\": 2020, \"labels_source\": [\"3123D52\", \"3123D65\", \"3123D79\", \"3123D80\", \"3123D54\", \"3123D70\", \"3123D7B\", \"3123D89\", \"3123D58\", \"3123D76\", \"3123D7D\", \"3123EFE\", \"3123D64\", \"3123D78\", \"3123D7E\", \"3124E4A\"], \"labels_target\": [\"3123D52\", \"3123D65\", \"3123D79\", \"3123D80\", \"3123D54\", \"3123D70\", \"3123D7B\", \"3123D89\", \"3123D58\", \"3123D76\", \"3123D7D\", \"3123EFE\", \"3123D64\", \"3123D78\", \"3123D7E\", \"3124E4A\"], \"x_transforms_source\": [], \"x_transforms_target\": [], \"episode_transforms_source\": [], \"episode_transforms_target\": [], \"num_examples_per_domain_per_label_source\": 1000, \"num_examples_per_domain_per_label_target\": 1000, \"n_shot\": 3, \"n_way\": 16, \"n_query\": 2, \"train_k_factor\": 1, \"val_k_factor\": 2, \"test_k_factor\": 2, \"torch_default_dtype\": \"torch.float32\", \"n_epoch\": 50, \"patience\": 3, \"criteria_for_best\": \"target_loss\", \"x_net\": [{\"class\": \"nnReshape\", \"kargs\": {\"shape\": [-1, 1, 2, 256]}}, {\"class\": \"Conv2d\", \"kargs\": {\"in_channels\": 1, \"out_channels\": 256, \"kernel_size\": [1, 7], \"bias\": false, \"padding\": [0, 3]}}, {\"class\": \"ReLU\", \"kargs\": {\"inplace\": true}}, {\"class\": \"BatchNorm2d\", \"kargs\": {\"num_features\": 256}}, {\"class\": \"Conv2d\", \"kargs\": {\"in_channels\": 256, \"out_channels\": 80, \"kernel_size\": [2, 7], \"bias\": true, \"padding\": [0, 3]}}, {\"class\": \"ReLU\", \"kargs\": {\"inplace\": true}}, {\"class\": \"BatchNorm2d\", \"kargs\": {\"num_features\": 80}}, {\"class\": \"Flatten\", \"kargs\": {}}, {\"class\": \"Linear\", \"kargs\": {\"in_features\": 20480, \"out_features\": 256}}, {\"class\": \"ReLU\", \"kargs\": {\"inplace\": true}}, {\"class\": \"BatchNorm1d\", \"kargs\": {\"num_features\": 256}}, {\"class\": \"Linear\", \"kargs\": {\"in_features\": 256, \"out_features\": 256}}], \"NUM_LOGS_PER_EPOCH\": 10, \"BEST_MODEL_PATH\": \"./best_model.pth\", \"pickle_name\": \"oracle.Run2_10kExamples_stratified_ds.2022A.pkl\", \"domains_source\": [8, 32, 50], \"domains_target\": [14, 20, 26, 38, 44]}, \"results\": {\"source_test_label_accuracy\": 0.7791666666666667, \"source_test_label_loss\": 0.5982581973075867, \"target_test_label_accuracy\": 0.6329166666666667, \"target_test_label_loss\": 1.1728100776672363, \"source_val_label_accuracy\": 0.7765625, \"source_val_label_loss\": 0.6131722331047058, \"target_val_label_accuracy\": 0.6328125, \"target_val_label_loss\": 1.1543127298355103, \"total_epochs_trained\": 13, \"total_experiment_time_secs\": 772.2651586532593, \"confusion\": {\"8\": {\"15\": {\"15\": 104, \"2\": 7, \"12\": 9}, \"3\": {\"3\": 120}, \"6\": {\"6\": 54, \"14\": 32, \"4\": 5, \"8\": 23, \"11\": 1, \"1\": 5}, \"1\": {\"4\": 25, \"1\": 54, \"5\": 7, \"14\": 8, \"7\": 6, \"13\": 5, \"10\": 11, \"6\": 4}, \"8\": {\"8\": 76, \"11\": 20, \"6\": 17, \"4\": 5, \"14\": 2}, \"10\": {\"10\": 55, \"13\": 26, \"5\": 30, \"7\": 5, \"1\": 4}, \"9\": {\"9\": 120}, \"13\": {\"10\": 17, \"13\": 88, \"5\": 5, \"1\": 2, \"7\": 8}, \"12\": {\"12\": 107, \"2\": 4, \"15\": 9}, \"5\": {\"13\": 9, \"5\": 55, \"10\": 38, \"1\": 16, \"4\": 1, \"14\": 1}, \"0\": {\"0\": 120}, \"2\": {\"2\": 107, \"13\": 2, \"15\": 7, \"12\": 4}, \"11\": {\"11\": 51, \"6\": 8, \"12\": 3, \"7\": 25, \"8\": 32, \"14\": 1}, \"14\": {\"14\": 93, \"6\": 26, \"1\": 1}, \"7\": {\"7\": 91, \"4\": 18, \"1\": 6, \"11\": 4, \"13\": 1}, \"4\": {\"4\": 66, \"8\": 7, \"11\": 3, \"7\": 22, \"1\": 18, \"6\": 4}}, \"50\": {\"3\": {\"3\": 120}, \"15\": {\"15\": 89, \"6\": 13, \"4\": 4, \"9\": 8, \"12\": 6}, \"8\": {\"8\": 119, \"13\": 1}, \"4\": {\"5\": 31, \"4\": 78, \"6\": 2, \"15\": 3, \"7\": 6}, \"14\": {\"14\": 120}, \"0\": {\"0\": 100, \"10\": 11, \"2\": 9}, \"7\": {\"7\": 112, \"5\": 3, \"4\": 5}, \"6\": {\"15\": 9, \"6\": 99, \"4\": 3, \"5\": 9}, \"10\": {\"10\": 104, \"0\": 12, \"1\": 3, \"13\": 1}, \"5\": {\"5\": 71, \"4\": 38, \"6\": 7, \"7\": 4}, \"2\": {\"2\": 110, \"0\": 9, \"14\": 1}, \"12\": {\"15\": 5, \"12\": 102, \"11\": 10, \"9\": 1, \"6\": 2}, \"9\": {\"9\": 105, \"15\": 9, \"12\": 6}, \"1\": {\"1\": 116, \"13\": 4}, \"11\": {\"11\": 98, \"1\": 2, \"12\": 18, \"9\": 2}, \"13\": {\"1\": 2, \"13\": 118}}, \"32\": {\"5\": {\"15\": 13, \"5\": 99, \"2\": 6, \"7\": 2}, \"8\": {\"8\": 82, \"0\": 11, \"7\": 26, \"2\": 1}, \"11\": {\"4\": 41, \"13\": 25, \"2\": 2, \"11\": 49, \"0\": 3}, \"1\": {\"1\": 120}, \"10\": {\"10\": 120}, \"15\": {\"15\": 110, \"5\": 6, \"7\": 3, \"8\": 1}, \"3\": {\"3\": 110, \"4\": 2, \"13\": 6, \"11\": 2}, \"7\": {\"7\": 55, \"8\": 34, \"0\": 13, \"2\": 12, \"14\": 5, \"15\": 1}, \"4\": {\"11\": 25, \"4\": 78, \"0\": 10, \"8\": 3, \"3\": 2, \"13\": 1, \"14\": 1}, \"14\": {\"0\": 4, \"2\": 55, \"14\": 60, \"7\": 1}, \"9\": {\"9\": 117, \"11\": 1, \"12\": 1, \"14\": 1}, \"12\": {\"12\": 120}, \"6\": {\"6\": 120}, \"2\": {\"14\": 40, \"2\": 64, \"7\": 11, \"0\": 5}, \"0\": {\"4\": 9, \"0\": 67, \"7\": 15, \"2\": 12, \"8\": 10, \"14\": 6, \"11\": 1}, \"13\": {\"13\": 80, \"11\": 22, \"3\": 13, \"4\": 5}}, \"14\": {\"15\": {\"15\": 120}, \"3\": {\"3\": 106, \"7\": 6, \"6\": 4, \"10\": 1, \"2\": 2, \"14\": 1}, \"6\": {\"6\": 87, \"13\": 29, \"3\": 3, \"7\": 1}, \"1\": {\"1\": 120}, \"8\": {\"8\": 86, \"0\": 16, \"10\": 18}, \"10\": {\"10\": 41, \"8\": 42, \"3\": 9, \"4\": 2, \"0\": 20, \"14\": 1, \"5\": 5}, \"9\": {\"9\": 117, \"12\": 1, \"0\": 2}, \"13\": {\"13\": 81, \"6\": 36, \"7\": 3}, \"12\": {\"12\": 56, \"1\": 1, \"3\": 5, \"8\": 14, \"0\": 3, \"9\": 13, \"15\": 15, \"10\": 7, \"6\": 1, \"11\": 5}, \"5\": {\"5\": 61, \"2\": 18, \"14\": 29, \"4\": 4, \"0\": 2, \"10\": 4, \"7\": 1, \"8\": 1}, \"0\": {\"0\": 82, \"10\": 10, \"4\": 11, \"8\": 15, \"5\": 1, \"9\": 1}, \"2\": {\"2\": 28, \"7\": 35, \"14\": 24, \"5\": 25, \"3\": 3, \"4\": 4, \"6\": 1}, \"11\": {\"11\": 120}, \"14\": {\"5\": 34, \"7\": 13, \"14\": 33, \"2\": 31, \"4\": 1, \"0\": 3, \"3\": 4, \"10\": 1}, \"7\": {\"7\": 86, \"14\": 11, \"2\": 17, \"5\": 1, \"3\": 3, \"6\": 2}, \"4\": {\"5\": 4, \"4\": 104, \"0\": 11, \"10\": 1}}, \"20\": {\"3\": {\"7\": 17, \"3\": 27, \"9\": 18, \"10\": 4, \"2\": 11, \"1\": 1, \"4\": 18, \"8\": 1, \"13\": 4, \"5\": 9, \"15\": 10}, \"15\": {\"15\": 39, \"4\": 11, \"1\": 6, \"9\": 16, \"2\": 16, \"13\": 13, \"12\": 5, \"7\": 3, \"3\": 6, \"5\": 5}, \"8\": {\"14\": 43, \"11\": 33, \"8\": 37, \"0\": 5, \"5\": 2}, \"4\": {\"10\": 4, \"3\": 18, \"4\": 31, \"15\": 13, \"7\": 20, \"9\": 11, \"2\": 6, \"5\": 4, \"13\": 6, \"12\": 6, \"6\": 1}, \"14\": {\"14\": 81, \"8\": 33, \"5\": 1, \"11\": 3, \"3\": 1, \"1\": 1}, \"0\": {\"0\": 90, \"8\": 5, \"11\": 14, \"1\": 8, \"5\": 2, \"2\": 1}, \"7\": {\"7\": 52, \"6\": 14, \"2\": 4, \"12\": 5, \"10\": 12, \"3\": 19, \"4\": 9, \"9\": 2, \"13\": 1, \"5\": 1, \"15\": 1}, \"6\": {\"6\": 86, \"10\": 22, \"7\": 9, \"3\": 2, \"12\": 1}, \"10\": {\"7\": 13, \"6\": 21, \"10\": 76, \"12\": 6, \"3\": 3, \"4\": 1}, \"5\": {\"5\": 40, \"2\": 21, \"3\": 16, \"4\": 4, \"15\": 10, \"1\": 13, \"9\": 12, \"7\": 3, \"8\": 1}, \"2\": {\"9\": 20, \"3\": 15, \"15\": 23, \"5\": 26, \"2\": 13, \"7\": 6, \"4\": 6, \"13\": 4, \"1\": 6, \"14\": 1}, \"12\": {\"12\": 47, \"15\": 1, \"13\": 50, \"4\": 8, \"9\": 2, \"7\": 3, \"10\": 9}, \"9\": {\"3\": 10, \"2\": 16, \"5\": 19, \"15\": 26, \"4\": 16, \"9\": 20, \"1\": 5, \"7\": 5, \"13\": 2, \"10\": 1}, \"1\": {\"1\": 85, \"5\": 20, \"9\": 4, \"2\": 4, \"0\": 2, \"4\": 1, \"15\": 4}, \"11\": {\"11\": 66, \"8\": 25, \"0\": 23, \"14\": 5, \"5\": 1}, \"13\": {\"12\": 51, \"13\": 59, \"9\": 3, \"3\": 1, \"10\": 1, \"15\": 4, \"4\": 1}}, \"44\": {\"5\": {\"5\": 86, \"15\": 16, \"14\": 9, \"8\": 9}, \"8\": {\"0\": 21, \"5\": 12, \"8\": 82, \"15\": 5}, \"11\": {\"11\": 120}, \"1\": {\"1\": 80, \"2\": 40}, \"10\": {\"10\": 109, \"6\": 5, \"7\": 5, \"9\": 1}, \"15\": {\"15\": 99, \"5\": 18, \"0\": 1, \"4\": 1, \"14\": 1}, \"3\": {\"3\": 106, \"12\": 14}, \"7\": {\"7\": 75, \"9\": 42, \"6\": 2, \"10\": 1}, \"4\": {\"14\": 26, \"4\": 93, \"9\": 1}, \"14\": {\"14\": 97, \"4\": 15, \"5\": 8}, \"9\": {\"9\": 77, \"7\": 40, \"4\": 2, \"6\": 1}, \"12\": {\"3\": 23, \"12\": 97}, \"6\": {\"6\": 111, \"7\": 5, \"10\": 2, \"9\": 1, \"13\": 1}, \"2\": {\"2\": 94, \"1\": 26}, \"0\": {\"0\": 85, \"8\": 32, \"15\": 2, \"5\": 1}, \"13\": {\"13\": 110, \"6\": 7, \"4\": 3}}, \"38\": {\"14\": {\"2\": 36, \"14\": 50, \"7\": 24, \"4\": 1, \"8\": 6, \"5\": 2, \"10\": 1}, \"0\": {\"0\": 106, \"7\": 9, \"8\": 5}, \"13\": {\"3\": 22, \"13\": 79, \"10\": 17, \"4\": 2}, \"7\": {\"7\": 108, \"0\": 8, \"14\": 1, \"8\": 3}, \"9\": {\"9\": 96, \"5\": 12, \"12\": 9, \"8\": 2, \"0\": 1}, \"3\": {\"3\": 41, \"13\": 27, \"10\": 31, \"4\": 20, \"11\": 1}, \"11\": {\"11\": 120}, \"6\": {\"6\": 102, \"15\": 18}, \"8\": {\"8\": 99, \"0\": 2, \"12\": 6, \"9\": 6, \"14\": 2, \"7\": 1, \"5\": 4}, \"4\": {\"4\": 83, \"10\": 24, \"3\": 11, \"0\": 1, \"7\": 1}, \"5\": {\"12\": 36, \"8\": 40, \"5\": 30, \"0\": 2, \"9\": 11, \"7\": 1}, \"10\": {\"4\": 31, \"10\": 58, \"13\": 16, \"3\": 15}, \"1\": {\"15\": 12, \"1\": 108}, \"2\": {\"2\": 112, \"14\": 8}, \"15\": {\"15\": 61, \"6\": 23, \"1\": 34, \"9\": 1, \"5\": 1}, \"12\": {\"12\": 52, \"9\": 12, \"5\": 42, \"8\": 14}}, \"26\": {\"13\": {\"13\": 90, \"7\": 8, \"9\": 16, \"3\": 4, \"8\": 1, \"2\": 1}, \"2\": {\"7\": 17, \"9\": 18, \"8\": 25, \"2\": 46, \"15\": 9, \"3\": 4, \"10\": 1}, \"8\": {\"9\": 28, \"8\": 38, \"2\": 31, \"0\": 5, \"7\": 6, \"14\": 1, \"15\": 6, \"10\": 3, \"13\": 2}, \"9\": {\"9\": 38, \"13\": 13, \"2\": 27, \"8\": 25, \"7\": 9, \"15\": 3, \"10\": 3, \"0\": 1, \"12\": 1}, \"12\": {\"12\": 119, \"9\": 1}, \"4\": {\"4\": 119, \"3\": 1}, \"3\": {\"3\": 90, \"4\": 2, \"7\": 27, \"13\": 1}, \"15\": {\"2\": 12, \"9\": 4, \"10\": 9, \"15\": 50, \"0\": 35, \"14\": 3, \"8\": 7}, \"14\": {\"1\": 12, \"10\": 22, \"15\": 3, \"5\": 15, \"14\": 47, \"0\": 15, \"6\": 6}, \"10\": {\"10\": 34, \"14\": 33, \"6\": 5, \"1\": 2, \"8\": 4, \"0\": 20, \"15\": 10, \"2\": 2, \"5\": 6, \"9\": 4}, \"7\": {\"7\": 54, \"13\": 12, \"2\": 16, \"9\": 11, \"3\": 22, \"8\": 4, \"15\": 1}, \"11\": {\"11\": 120}, \"6\": {\"5\": 46, \"1\": 10, \"6\": 61, \"10\": 3}, \"1\": {\"6\": 12, \"1\": 97, \"5\": 8, \"14\": 3}, \"5\": {\"10\": 6, \"5\": 37, \"6\": 39, \"14\": 17, \"1\": 19, \"0\": 2}, \"0\": {\"8\": 3, \"10\": 27, \"14\": 23, \"15\": 30, \"0\": 32, \"9\": 2, \"5\": 2, \"2\": 1}}}, \"per_domain_accuracy\": {\"8\": {\"accuracy\": 0.7088541666666667, \"source?\": true}, \"50\": {\"accuracy\": 0.8651041666666667, \"source?\": true}, \"32\": {\"accuracy\": 0.7557291666666667, \"source?\": true}, \"14\": {\"accuracy\": 0.6916666666666667, \"source?\": false}, \"20\": {\"accuracy\": 0.4421875, \"source?\": false}, \"44\": {\"accuracy\": 0.7921875, \"source?\": false}, \"38\": {\"accuracy\": 0.6796875, \"source?\": false}, \"26\": {\"accuracy\": 0.5583333333333333, \"source?\": false}}}, \"history\": {\"epoch_indices\": [1, 2, 3, 4, 5, 6, 7, 8, 9, 10, 11, 12, 13], \"train_label_loss\": [1.2801741052241553, 1.3123293477864493, 1.188477079925083, 0.8032797431661969, 0.6692413626682191, 0.6037330028556642, 0.538034892295088, 0.4890547586338861, 0.45828295669385366, 0.42577039555069945, 0.42353178064028424, 0.3903172324988104, 0.3560119275181066], \"source_val_label_loss\": [1.6747612953186035, 1.2884039878845215, 0.9885538816452026, 0.7895647287368774, 0.729496419429779, 0.6919628977775574, 0.6385525465011597, 0.6111765503883362, 0.6131722331047058, 0.620313286781311, 0.5987592339515686, 0.5974004864692688, 0.6104742288589478], \"target_val_label_loss\": [1.7880325317382812, 1.8339612483978271, 1.740380048751831, 1.2840518951416016, 1.2053176164627075, 1.1788448095321655, 1.1682926416397095, 1.1659250259399414, 1.1543127298355103, 1.2666292190551758, 1.2250484228134155, 1.1701053380966187, 1.214904546737671], \"source_val_acc_label\": [0.4734375, 0.4855902777777778, 0.6223958333333334, 0.6989583333333333, 0.7315972222222222, 0.7470486111111111, 0.7590277777777777, 0.7677083333333333, 0.7765625, 0.7697916666666667, 0.7833333333333333, 0.7788194444444444, 0.7796875], \"target_val_acc_label\": [0.39385416666666667, 0.39770833333333333, 0.5004166666666666, 0.5696875, 0.5888541666666667, 0.6095833333333334, 0.6210416666666667, 0.6336458333333334, 0.6328125, 0.6280208333333334, 0.6459375, 0.64125, 0.6415625]}, \"dataset_metrics\": {\"source\": {\"train\": {\"n_unique_x\": 33600, \"n_unique_y\": 16, \"n_batch/episode\": 420}, \"val\": {\"n_unique_x\": 7200, \"n_unique_y\": 16, \"n_batch/episode\": 180}, \"test\": {\"n_unique_x\": 7200, \"n_unique_y\": 16, \"n_batch/episode\": 180}}, \"target\": {\"train\": {\"n_unique_x\": 56000, \"n_unique_y\": 16, \"n_batch/episode\": 700}, \"val\": {\"n_unique_x\": 12000, \"n_unique_y\": 16, \"n_batch/episode\": 300}, \"test\": {\"n_unique_x\": 12000, \"n_unique_y\": 16, \"n_batch/episode\": 300}}}}'"
      ]
     },
     "execution_count": 20,
     "metadata": {},
     "output_type": "execute_result"
    }
   ],
   "source": [
    "json.dumps(experiment)"
   ]
  }
 ],
 "metadata": {
  "celltoolbar": "Tags",
  "kernelspec": {
   "display_name": "Python 3 (ipykernel)",
   "language": "python",
   "name": "python3"
  },
  "language_info": {
   "codemirror_mode": {
    "name": "ipython",
    "version": 3
   },
   "file_extension": ".py",
   "mimetype": "text/x-python",
   "name": "python",
   "nbconvert_exporter": "python",
   "pygments_lexer": "ipython3",
   "version": "3.8.10"
  },
  "papermill": {
   "default_parameters": {},
   "duration": 869.587846,
   "end_time": "2022-03-04T02:16:37.167540",
   "environment_variables": {},
   "exception": null,
   "input_path": "/mnt/wd500GB/CSC500/csc500-main/csc500-notebooks/templates/ptn_template.ipynb",
   "output_path": "trial.ipynb",
   "parameters": {
    "parameters": {
     "BEST_MODEL_PATH": "./best_model.pth",
     "NUM_LOGS_PER_EPOCH": 10,
     "criteria_for_best": "target_loss",
     "dataset_seed": 2020,
     "device": "cuda",
     "domains_source": [
      8,
      32,
      50
     ],
     "domains_target": [
      14,
      20,
      26,
      38,
      44
     ],
     "episode_transforms_source": [],
     "episode_transforms_target": [],
     "experiment_name": "dataset_seeds_oracle.run2",
     "labels_source": [
      "3123D52",
      "3123D65",
      "3123D79",
      "3123D80",
      "3123D54",
      "3123D70",
      "3123D7B",
      "3123D89",
      "3123D58",
      "3123D76",
      "3123D7D",
      "3123EFE",
      "3123D64",
      "3123D78",
      "3123D7E",
      "3124E4A"
     ],
     "labels_target": [
      "3123D52",
      "3123D65",
      "3123D79",
      "3123D80",
      "3123D54",
      "3123D70",
      "3123D7B",
      "3123D89",
      "3123D58",
      "3123D76",
      "3123D7D",
      "3123EFE",
      "3123D64",
      "3123D78",
      "3123D7E",
      "3124E4A"
     ],
     "lr": 0.001,
     "n_epoch": 50,
     "n_query": 2,
     "n_shot": 3,
     "n_way": 16,
     "num_examples_per_domain_per_label_source": 1000,
     "num_examples_per_domain_per_label_target": 1000,
     "patience": 3,
     "pickle_name": "oracle.Run2_10kExamples_stratified_ds.2022A.pkl",
     "seed": 1337,
     "test_k_factor": 2,
     "torch_default_dtype": "torch.float32",
     "train_k_factor": 1,
     "val_k_factor": 2,
     "x_net": [
      {
       "class": "nnReshape",
       "kargs": {
        "shape": [
         -1,
         1,
         2,
         256
        ]
       }
      },
      {
       "class": "Conv2d",
       "kargs": {
        "bias": false,
        "in_channels": 1,
        "kernel_size": [
         1,
         7
        ],
        "out_channels": 256,
        "padding": [
         0,
         3
        ]
       }
      },
      {
       "class": "ReLU",
       "kargs": {
        "inplace": true
       }
      },
      {
       "class": "BatchNorm2d",
       "kargs": {
        "num_features": 256
       }
      },
      {
       "class": "Conv2d",
       "kargs": {
        "bias": true,
        "in_channels": 256,
        "kernel_size": [
         2,
         7
        ],
        "out_channels": 80,
        "padding": [
         0,
         3
        ]
       }
      },
      {
       "class": "ReLU",
       "kargs": {
        "inplace": true
       }
      },
      {
       "class": "BatchNorm2d",
       "kargs": {
        "num_features": 80
       }
      },
      {
       "class": "Flatten",
       "kargs": {}
      },
      {
       "class": "Linear",
       "kargs": {
        "in_features": 20480,
        "out_features": 256
       }
      },
      {
       "class": "ReLU",
       "kargs": {
        "inplace": true
       }
      },
      {
       "class": "BatchNorm1d",
       "kargs": {
        "num_features": 256
       }
      },
      {
       "class": "Linear",
       "kargs": {
        "in_features": 256,
        "out_features": 256
       }
      }
     ],
     "x_transforms_source": [],
     "x_transforms_target": []
    }
   },
   "start_time": "2022-03-04T02:02:07.579694",
   "version": "2.3.4"
  }
 },
 "nbformat": 4,
 "nbformat_minor": 5
}