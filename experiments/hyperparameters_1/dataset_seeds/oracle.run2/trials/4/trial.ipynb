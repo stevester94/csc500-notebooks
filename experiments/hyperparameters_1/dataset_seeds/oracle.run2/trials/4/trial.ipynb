{
 "cells": [
  {
   "cell_type": "markdown",
   "id": "9fea5f46",
   "metadata": {
    "papermill": {
     "duration": 0.009736,
     "end_time": "2022-03-04T02:27:53.471970",
     "exception": false,
     "start_time": "2022-03-04T02:27:53.462234",
     "status": "completed"
    },
    "tags": []
   },
   "source": [
    "# PTN Template\n",
    "This notebook serves as a template for single dataset PTN experiments  \n",
    "It can be run on its own by setting STANDALONE to True (do a find for \"STANDALONE\" to see where)  \n",
    "But it is intended to be executed as part of a *papermill.py script. See any of the   \n",
    "experimentes with a papermill script to get started with that workflow.  "
   ]
  },
  {
   "cell_type": "code",
   "execution_count": 1,
   "id": "0902182a",
   "metadata": {
    "execution": {
     "iopub.execute_input": "2022-03-04T02:27:53.504649Z",
     "iopub.status.busy": "2022-03-04T02:27:53.504108Z",
     "iopub.status.idle": "2022-03-04T02:27:54.305938Z",
     "shell.execute_reply": "2022-03-04T02:27:54.305414Z"
    },
    "papermill": {
     "duration": 0.824657,
     "end_time": "2022-03-04T02:27:54.306065",
     "exception": false,
     "start_time": "2022-03-04T02:27:53.481408",
     "status": "completed"
    },
    "tags": []
   },
   "outputs": [],
   "source": [
    "%load_ext autoreload\n",
    "%autoreload 2\n",
    "%matplotlib inline\n",
    "\n",
    "    \n",
    "import os, json, sys, time, random\n",
    "import numpy as np\n",
    "import torch\n",
    "from torch.optim import Adam\n",
    "from  easydict import EasyDict\n",
    "import matplotlib.pyplot as plt\n",
    "\n",
    "from steves_models.steves_ptn import Steves_Prototypical_Network\n",
    "\n",
    "from steves_utils.lazy_iterable_wrapper import Lazy_Iterable_Wrapper\n",
    "from steves_utils.iterable_aggregator import Iterable_Aggregator\n",
    "from steves_utils.ptn_train_eval_test_jig import  PTN_Train_Eval_Test_Jig\n",
    "from steves_utils.torch_sequential_builder import build_sequential\n",
    "from steves_utils.torch_utils import get_dataset_metrics, ptn_confusion_by_domain_over_dataloader\n",
    "from steves_utils.utils_v2 import (per_domain_accuracy_from_confusion, get_datasets_base_path)\n",
    "from steves_utils.PTN.utils import independent_accuracy_assesment\n",
    "\n",
    "from steves_utils.stratified_dataset.episodic_accessor import Episodic_Accessor_Factory\n",
    "\n",
    "from steves_utils.ptn_do_report import (\n",
    "    get_loss_curve,\n",
    "    get_results_table,\n",
    "    get_parameters_table,\n",
    "    get_domain_accuracies,\n",
    ")\n",
    "\n",
    "from steves_utils.transforms import get_chained_transform"
   ]
  },
  {
   "cell_type": "markdown",
   "id": "41c840b4",
   "metadata": {
    "papermill": {
     "duration": 0.009511,
     "end_time": "2022-03-04T02:27:54.330203",
     "exception": false,
     "start_time": "2022-03-04T02:27:54.320692",
     "status": "completed"
    },
    "tags": []
   },
   "source": [
    "# Required Parameters\n",
    "These are allowed parameters, not defaults\n",
    "Each of these values need to be present in the injected parameters (the notebook will raise an exception if they are not present)\n",
    "\n",
    "Papermill uses the cell tag \"parameters\" to inject the real parameters below this cell.\n",
    "Enable tags to see what I mean"
   ]
  },
  {
   "cell_type": "code",
   "execution_count": 2,
   "id": "fd44eb83",
   "metadata": {
    "execution": {
     "iopub.execute_input": "2022-03-04T02:27:54.354144Z",
     "iopub.status.busy": "2022-03-04T02:27:54.353878Z",
     "iopub.status.idle": "2022-03-04T02:27:54.367838Z",
     "shell.execute_reply": "2022-03-04T02:27:54.368214Z"
    },
    "papermill": {
     "duration": 0.027104,
     "end_time": "2022-03-04T02:27:54.368332",
     "exception": false,
     "start_time": "2022-03-04T02:27:54.341228",
     "status": "completed"
    },
    "tags": []
   },
   "outputs": [],
   "source": [
    "required_parameters = {\n",
    "    \"experiment_name\",\n",
    "    \"lr\",\n",
    "    \"device\",\n",
    "    \"seed\",\n",
    "    \"dataset_seed\",\n",
    "    \"labels_source\",\n",
    "    \"labels_target\",\n",
    "    \"domains_source\",\n",
    "    \"domains_target\",\n",
    "    \"num_examples_per_domain_per_label_source\",\n",
    "    \"num_examples_per_domain_per_label_target\",\n",
    "    \"n_shot\",\n",
    "    \"n_way\",\n",
    "    \"n_query\",\n",
    "    \"train_k_factor\",\n",
    "    \"val_k_factor\",\n",
    "    \"test_k_factor\",\n",
    "    \"n_epoch\",\n",
    "    \"patience\",\n",
    "    \"criteria_for_best\",\n",
    "    \"x_transforms_source\",\n",
    "    \"x_transforms_target\",\n",
    "    \"episode_transforms_source\",\n",
    "    \"episode_transforms_target\",\n",
    "    \"pickle_name\",\n",
    "    \"x_net\",\n",
    "    \"NUM_LOGS_PER_EPOCH\",\n",
    "    \"BEST_MODEL_PATH\",\n",
    "    \"torch_default_dtype\"\n",
    "}"
   ]
  },
  {
   "cell_type": "code",
   "execution_count": 3,
   "id": "fa3f0049",
   "metadata": {
    "execution": {
     "iopub.execute_input": "2022-03-04T02:27:54.401510Z",
     "iopub.status.busy": "2022-03-04T02:27:54.401090Z",
     "iopub.status.idle": "2022-03-04T02:27:54.412436Z",
     "shell.execute_reply": "2022-03-04T02:27:54.412131Z"
    },
    "papermill": {
     "duration": 0.029337,
     "end_time": "2022-03-04T02:27:54.412522",
     "exception": false,
     "start_time": "2022-03-04T02:27:54.383185",
     "status": "completed"
    },
    "tags": [
     "parameters"
    ]
   },
   "outputs": [],
   "source": [
    "\n",
    "\n",
    "standalone_parameters = {}\n",
    "standalone_parameters[\"experiment_name\"] = \"STANDALONE PTN\"\n",
    "standalone_parameters[\"lr\"] = 0.0001\n",
    "standalone_parameters[\"device\"] = \"cuda\"\n",
    "\n",
    "standalone_parameters[\"seed\"] = 1337\n",
    "standalone_parameters[\"dataset_seed\"] = 1337\n",
    "\n",
    "\n",
    "standalone_parameters[\"num_examples_per_domain_per_label_source\"]=100\n",
    "standalone_parameters[\"num_examples_per_domain_per_label_target\"]=100\n",
    "\n",
    "standalone_parameters[\"n_shot\"] = 3\n",
    "standalone_parameters[\"n_query\"]  = 2\n",
    "standalone_parameters[\"train_k_factor\"] = 1\n",
    "standalone_parameters[\"val_k_factor\"] = 2\n",
    "standalone_parameters[\"test_k_factor\"] = 2\n",
    "\n",
    "\n",
    "standalone_parameters[\"n_epoch\"] = 100\n",
    "\n",
    "standalone_parameters[\"patience\"] = 10\n",
    "standalone_parameters[\"criteria_for_best\"] = \"target_accuracy\"\n",
    "\n",
    "standalone_parameters[\"x_transforms_source\"] = [\"unit_power\"]\n",
    "standalone_parameters[\"x_transforms_target\"] = [\"unit_power\"]\n",
    "standalone_parameters[\"episode_transforms_source\"] = []\n",
    "standalone_parameters[\"episode_transforms_target\"] = []\n",
    "\n",
    "standalone_parameters[\"torch_default_dtype\"] = \"torch.float32\" \n",
    "\n",
    "\n",
    "\n",
    "standalone_parameters[\"x_net\"] =     [\n",
    "    {\"class\": \"nnReshape\", \"kargs\": {\"shape\":[-1, 1, 2, 256]}},\n",
    "    {\"class\": \"Conv2d\", \"kargs\": { \"in_channels\":1, \"out_channels\":256, \"kernel_size\":(1,7), \"bias\":False, \"padding\":(0,3), },},\n",
    "    {\"class\": \"ReLU\", \"kargs\": {\"inplace\": True}},\n",
    "    {\"class\": \"BatchNorm2d\", \"kargs\": {\"num_features\":256}},\n",
    "\n",
    "    {\"class\": \"Conv2d\", \"kargs\": { \"in_channels\":256, \"out_channels\":80, \"kernel_size\":(2,7), \"bias\":True, \"padding\":(0,3), },},\n",
    "    {\"class\": \"ReLU\", \"kargs\": {\"inplace\": True}},\n",
    "    {\"class\": \"BatchNorm2d\", \"kargs\": {\"num_features\":80}},\n",
    "    {\"class\": \"Flatten\", \"kargs\": {}},\n",
    "\n",
    "    {\"class\": \"Linear\", \"kargs\": {\"in_features\": 80*256, \"out_features\": 256}}, # 80 units per IQ pair\n",
    "    {\"class\": \"ReLU\", \"kargs\": {\"inplace\": True}},\n",
    "    {\"class\": \"BatchNorm1d\", \"kargs\": {\"num_features\":256}},\n",
    "\n",
    "    {\"class\": \"Linear\", \"kargs\": {\"in_features\": 256, \"out_features\": 256}},\n",
    "]\n",
    "\n",
    "# Parameters relevant to results\n",
    "# These parameters will basically never need to change\n",
    "standalone_parameters[\"NUM_LOGS_PER_EPOCH\"] = 10\n",
    "standalone_parameters[\"BEST_MODEL_PATH\"] = \"./best_model.pth\"\n",
    "\n",
    "# uncomment for CORES dataset\n",
    "from steves_utils.CORES.utils import (\n",
    "    ALL_NODES,\n",
    "    ALL_NODES_MINIMUM_1000_EXAMPLES,\n",
    "    ALL_DAYS\n",
    ")\n",
    "\n",
    "\n",
    "standalone_parameters[\"labels_source\"] = ALL_NODES\n",
    "standalone_parameters[\"labels_target\"] = ALL_NODES\n",
    "\n",
    "standalone_parameters[\"domains_source\"] = [1]\n",
    "standalone_parameters[\"domains_target\"] = [2,3,4,5]\n",
    "\n",
    "standalone_parameters[\"pickle_name\"] = \"cores.stratified_ds.2022A.pkl\"\n",
    "\n",
    "\n",
    "# Uncomment these for ORACLE dataset\n",
    "# from steves_utils.ORACLE.utils_v2 import (\n",
    "#     ALL_DISTANCES_FEET,\n",
    "#     ALL_RUNS,\n",
    "#     ALL_SERIAL_NUMBERS,\n",
    "# )\n",
    "# standalone_parameters[\"labels_source\"] = ALL_SERIAL_NUMBERS\n",
    "# standalone_parameters[\"labels_target\"] = ALL_SERIAL_NUMBERS\n",
    "# standalone_parameters[\"domains_source\"] = [8,20, 38,50]\n",
    "# standalone_parameters[\"domains_target\"] = [14, 26, 32, 44, 56]\n",
    "# standalone_parameters[\"pickle_name\"] = \"oracle.frame_indexed.stratified_ds.2022A.pkl\"\n",
    "# standalone_parameters[\"num_examples_per_domain_per_label_source\"]=1000\n",
    "# standalone_parameters[\"num_examples_per_domain_per_label_target\"]=1000\n",
    "\n",
    "# Uncomment these for Metahan dataset\n",
    "# standalone_parameters[\"labels_source\"] = list(range(19))\n",
    "# standalone_parameters[\"labels_target\"] = list(range(19))\n",
    "# standalone_parameters[\"domains_source\"] = [0]\n",
    "# standalone_parameters[\"domains_target\"] = [1]\n",
    "# standalone_parameters[\"pickle_name\"] = \"metehan.stratified_ds.2022A.pkl\"\n",
    "# standalone_parameters[\"n_way\"]  = len(standalone_parameters[\"labels_source\"])\n",
    "# standalone_parameters[\"num_examples_per_domain_per_label_source\"]=200\n",
    "# standalone_parameters[\"num_examples_per_domain_per_label_target\"]=100\n",
    "\n",
    "\n",
    "standalone_parameters[\"n_way\"]  = len(standalone_parameters[\"labels_source\"])"
   ]
  },
  {
   "cell_type": "code",
   "execution_count": 4,
   "id": "967fb5d3",
   "metadata": {
    "execution": {
     "iopub.execute_input": "2022-03-04T02:27:54.445151Z",
     "iopub.status.busy": "2022-03-04T02:27:54.443709Z",
     "iopub.status.idle": "2022-03-04T02:27:54.455624Z",
     "shell.execute_reply": "2022-03-04T02:27:54.456024Z"
    },
    "papermill": {
     "duration": 0.028332,
     "end_time": "2022-03-04T02:27:54.456134",
     "exception": false,
     "start_time": "2022-03-04T02:27:54.427802",
     "status": "completed"
    },
    "tags": [
     "injected-parameters"
    ]
   },
   "outputs": [],
   "source": [
    "# Parameters\n",
    "parameters = {\n",
    "    \"experiment_name\": \"dataset_seeds_oracle.run2\",\n",
    "    \"lr\": 0.001,\n",
    "    \"device\": \"cuda\",\n",
    "    \"seed\": 1337,\n",
    "    \"dataset_seed\": 12341234,\n",
    "    \"labels_source\": [\n",
    "        \"3123D52\",\n",
    "        \"3123D65\",\n",
    "        \"3123D79\",\n",
    "        \"3123D80\",\n",
    "        \"3123D54\",\n",
    "        \"3123D70\",\n",
    "        \"3123D7B\",\n",
    "        \"3123D89\",\n",
    "        \"3123D58\",\n",
    "        \"3123D76\",\n",
    "        \"3123D7D\",\n",
    "        \"3123EFE\",\n",
    "        \"3123D64\",\n",
    "        \"3123D78\",\n",
    "        \"3123D7E\",\n",
    "        \"3124E4A\",\n",
    "    ],\n",
    "    \"labels_target\": [\n",
    "        \"3123D52\",\n",
    "        \"3123D65\",\n",
    "        \"3123D79\",\n",
    "        \"3123D80\",\n",
    "        \"3123D54\",\n",
    "        \"3123D70\",\n",
    "        \"3123D7B\",\n",
    "        \"3123D89\",\n",
    "        \"3123D58\",\n",
    "        \"3123D76\",\n",
    "        \"3123D7D\",\n",
    "        \"3123EFE\",\n",
    "        \"3123D64\",\n",
    "        \"3123D78\",\n",
    "        \"3123D7E\",\n",
    "        \"3124E4A\",\n",
    "    ],\n",
    "    \"x_transforms_source\": [],\n",
    "    \"x_transforms_target\": [],\n",
    "    \"episode_transforms_source\": [],\n",
    "    \"episode_transforms_target\": [],\n",
    "    \"num_examples_per_domain_per_label_source\": 1000,\n",
    "    \"num_examples_per_domain_per_label_target\": 1000,\n",
    "    \"n_shot\": 3,\n",
    "    \"n_way\": 16,\n",
    "    \"n_query\": 2,\n",
    "    \"train_k_factor\": 1,\n",
    "    \"val_k_factor\": 2,\n",
    "    \"test_k_factor\": 2,\n",
    "    \"torch_default_dtype\": \"torch.float32\",\n",
    "    \"n_epoch\": 50,\n",
    "    \"patience\": 3,\n",
    "    \"criteria_for_best\": \"target_loss\",\n",
    "    \"x_net\": [\n",
    "        {\"class\": \"nnReshape\", \"kargs\": {\"shape\": [-1, 1, 2, 256]}},\n",
    "        {\n",
    "            \"class\": \"Conv2d\",\n",
    "            \"kargs\": {\n",
    "                \"in_channels\": 1,\n",
    "                \"out_channels\": 256,\n",
    "                \"kernel_size\": [1, 7],\n",
    "                \"bias\": False,\n",
    "                \"padding\": [0, 3],\n",
    "            },\n",
    "        },\n",
    "        {\"class\": \"ReLU\", \"kargs\": {\"inplace\": True}},\n",
    "        {\"class\": \"BatchNorm2d\", \"kargs\": {\"num_features\": 256}},\n",
    "        {\n",
    "            \"class\": \"Conv2d\",\n",
    "            \"kargs\": {\n",
    "                \"in_channels\": 256,\n",
    "                \"out_channels\": 80,\n",
    "                \"kernel_size\": [2, 7],\n",
    "                \"bias\": True,\n",
    "                \"padding\": [0, 3],\n",
    "            },\n",
    "        },\n",
    "        {\"class\": \"ReLU\", \"kargs\": {\"inplace\": True}},\n",
    "        {\"class\": \"BatchNorm2d\", \"kargs\": {\"num_features\": 80}},\n",
    "        {\"class\": \"Flatten\", \"kargs\": {}},\n",
    "        {\"class\": \"Linear\", \"kargs\": {\"in_features\": 20480, \"out_features\": 256}},\n",
    "        {\"class\": \"ReLU\", \"kargs\": {\"inplace\": True}},\n",
    "        {\"class\": \"BatchNorm1d\", \"kargs\": {\"num_features\": 256}},\n",
    "        {\"class\": \"Linear\", \"kargs\": {\"in_features\": 256, \"out_features\": 256}},\n",
    "    ],\n",
    "    \"NUM_LOGS_PER_EPOCH\": 10,\n",
    "    \"BEST_MODEL_PATH\": \"./best_model.pth\",\n",
    "    \"pickle_name\": \"oracle.Run2_10kExamples_stratified_ds.2022A.pkl\",\n",
    "    \"domains_source\": [8, 32, 50],\n",
    "    \"domains_target\": [14, 20, 26, 38, 44],\n",
    "}\n"
   ]
  },
  {
   "cell_type": "code",
   "execution_count": 5,
   "id": "8fa1cc33",
   "metadata": {
    "execution": {
     "iopub.execute_input": "2022-03-04T02:27:54.484621Z",
     "iopub.status.busy": "2022-03-04T02:27:54.484369Z",
     "iopub.status.idle": "2022-03-04T02:27:54.495424Z",
     "shell.execute_reply": "2022-03-04T02:27:54.494978Z"
    },
    "papermill": {
     "duration": 0.024633,
     "end_time": "2022-03-04T02:27:54.495524",
     "exception": false,
     "start_time": "2022-03-04T02:27:54.470891",
     "status": "completed"
    },
    "tags": []
   },
   "outputs": [],
   "source": [
    "# Set this to True if you want to run this template directly\n",
    "STANDALONE = False\n",
    "if STANDALONE:\n",
    "    print(\"parameters not injected, running with standalone_parameters\")\n",
    "    parameters = standalone_parameters\n",
    "\n",
    "if not 'parameters' in locals() and not 'parameters' in globals():\n",
    "    raise Exception(\"Parameter injection failed\")\n",
    "\n",
    "#Use an easy dict for all the parameters\n",
    "p = EasyDict(parameters)\n",
    "\n",
    "supplied_keys = set(p.keys())\n",
    "\n",
    "if  supplied_keys != required_parameters:\n",
    "    print(\"Parameters are incorrect\")\n",
    "    if len(supplied_keys - required_parameters)>0: print(\"Shouldn't have:\", str(supplied_keys - required_parameters))\n",
    "    if len(required_parameters - supplied_keys)>0: print(\"Need to have:\", str(required_parameters - supplied_keys))\n",
    "    raise RuntimeError(\"Parameters are incorrect\")\n",
    "\n"
   ]
  },
  {
   "cell_type": "code",
   "execution_count": 6,
   "id": "3a028d58",
   "metadata": {
    "execution": {
     "iopub.execute_input": "2022-03-04T02:27:54.519130Z",
     "iopub.status.busy": "2022-03-04T02:27:54.518879Z",
     "iopub.status.idle": "2022-03-04T02:27:54.531737Z",
     "shell.execute_reply": "2022-03-04T02:27:54.531339Z"
    },
    "papermill": {
     "duration": 0.024523,
     "end_time": "2022-03-04T02:27:54.531832",
     "exception": false,
     "start_time": "2022-03-04T02:27:54.507309",
     "status": "completed"
    },
    "tags": []
   },
   "outputs": [],
   "source": [
    "###################################\n",
    "# Set the RNGs and make it all deterministic\n",
    "###################################\n",
    "np.random.seed(p.seed)\n",
    "random.seed(p.seed)\n",
    "torch.manual_seed(p.seed)\n",
    "\n",
    "torch.use_deterministic_algorithms(True) "
   ]
  },
  {
   "cell_type": "code",
   "execution_count": 7,
   "id": "b691acf6",
   "metadata": {
    "execution": {
     "iopub.execute_input": "2022-03-04T02:27:54.559311Z",
     "iopub.status.busy": "2022-03-04T02:27:54.559057Z",
     "iopub.status.idle": "2022-03-04T02:27:54.570185Z",
     "shell.execute_reply": "2022-03-04T02:27:54.569737Z"
    },
    "papermill": {
     "duration": 0.023288,
     "end_time": "2022-03-04T02:27:54.570295",
     "exception": false,
     "start_time": "2022-03-04T02:27:54.547007",
     "status": "completed"
    },
    "tags": []
   },
   "outputs": [],
   "source": [
    "###########################################\n",
    "# The stratified datasets honor this\n",
    "###########################################\n",
    "torch.set_default_dtype(eval(p.torch_default_dtype))"
   ]
  },
  {
   "cell_type": "code",
   "execution_count": 8,
   "id": "b5fba671",
   "metadata": {
    "execution": {
     "iopub.execute_input": "2022-03-04T02:27:54.595704Z",
     "iopub.status.busy": "2022-03-04T02:27:54.595445Z",
     "iopub.status.idle": "2022-03-04T02:27:54.634524Z",
     "shell.execute_reply": "2022-03-04T02:27:54.634977Z"
    },
    "papermill": {
     "duration": 0.052068,
     "end_time": "2022-03-04T02:27:54.635110",
     "exception": false,
     "start_time": "2022-03-04T02:27:54.583042",
     "status": "completed"
    },
    "tags": []
   },
   "outputs": [],
   "source": [
    "###################################\n",
    "# Build the network(s)\n",
    "# Note: It's critical to do this AFTER setting the RNG\n",
    "# (This is due to the randomized initial weights)\n",
    "###################################\n",
    "x_net = build_sequential(p.x_net)"
   ]
  },
  {
   "cell_type": "code",
   "execution_count": 9,
   "id": "5d7e61cc",
   "metadata": {
    "execution": {
     "iopub.execute_input": "2022-03-04T02:27:54.662285Z",
     "iopub.status.busy": "2022-03-04T02:27:54.661494Z",
     "iopub.status.idle": "2022-03-04T02:27:54.675809Z",
     "shell.execute_reply": "2022-03-04T02:27:54.676201Z"
    },
    "papermill": {
     "duration": 0.026419,
     "end_time": "2022-03-04T02:27:54.676330",
     "exception": false,
     "start_time": "2022-03-04T02:27:54.649911",
     "status": "completed"
    },
    "tags": []
   },
   "outputs": [],
   "source": [
    "start_time_secs = time.time()"
   ]
  },
  {
   "cell_type": "code",
   "execution_count": 10,
   "id": "fd5442bc",
   "metadata": {
    "execution": {
     "iopub.execute_input": "2022-03-04T02:27:54.708614Z",
     "iopub.status.busy": "2022-03-04T02:27:54.702806Z",
     "iopub.status.idle": "2022-03-04T02:27:57.836629Z",
     "shell.execute_reply": "2022-03-04T02:27:57.836136Z"
    },
    "papermill": {
     "duration": 3.145139,
     "end_time": "2022-03-04T02:27:57.836740",
     "exception": false,
     "start_time": "2022-03-04T02:27:54.691601",
     "status": "completed"
    },
    "tags": []
   },
   "outputs": [],
   "source": [
    "###################################\n",
    "# Build the dataset\n",
    "###################################\n",
    "\n",
    "if p.x_transforms_source == []: x_transform_source = None\n",
    "else: x_transform_source = get_chained_transform(p.x_transforms_source) \n",
    "\n",
    "if p.x_transforms_target == []: x_transform_target = None\n",
    "else: x_transform_target = get_chained_transform(p.x_transforms_target)\n",
    "\n",
    "if p.episode_transforms_source == []: episode_transform_source = None\n",
    "else: raise Exception(\"episode_transform_source not implemented\")\n",
    "\n",
    "if p.episode_transforms_target == []: episode_transform_target = None\n",
    "else: raise Exception(\"episode_transform_target not implemented\")\n",
    "\n",
    "\n",
    "eaf_source = Episodic_Accessor_Factory(\n",
    "    labels=p.labels_source,\n",
    "    domains=p.domains_source,\n",
    "    num_examples_per_domain_per_label=p.num_examples_per_domain_per_label_source,\n",
    "    iterator_seed=p.seed,\n",
    "    dataset_seed=p.dataset_seed,\n",
    "    n_shot=p.n_shot,\n",
    "    n_way=p.n_way,\n",
    "    n_query=p.n_query,\n",
    "    train_val_test_k_factors=(p.train_k_factor,p.val_k_factor,p.test_k_factor),\n",
    "    pickle_path=os.path.join(get_datasets_base_path(), p.pickle_name),\n",
    "    x_transform_func=x_transform_source,\n",
    "    example_transform_func=episode_transform_source,\n",
    "    \n",
    ")\n",
    "train_original_source, val_original_source, test_original_source = eaf_source.get_train(), eaf_source.get_val(), eaf_source.get_test()\n",
    "\n",
    "\n",
    "eaf_target = Episodic_Accessor_Factory(\n",
    "    labels=p.labels_target,\n",
    "    domains=p.domains_target,\n",
    "    num_examples_per_domain_per_label=p.num_examples_per_domain_per_label_target,\n",
    "    iterator_seed=p.seed,\n",
    "    dataset_seed=p.dataset_seed,\n",
    "    n_shot=p.n_shot,\n",
    "    n_way=p.n_way,\n",
    "    n_query=p.n_query,\n",
    "    train_val_test_k_factors=(p.train_k_factor,p.val_k_factor,p.test_k_factor),\n",
    "    pickle_path=os.path.join(get_datasets_base_path(), p.pickle_name),\n",
    "    x_transform_func=x_transform_target,\n",
    "    example_transform_func=episode_transform_target,\n",
    ")\n",
    "train_original_target, val_original_target, test_original_target = eaf_target.get_train(), eaf_target.get_val(), eaf_target.get_test()\n",
    "\n",
    "\n",
    "transform_lambda = lambda ex: ex[1] # Original is (<domain>, <episode>) so we strip down to episode only\n",
    "\n",
    "train_processed_source = Lazy_Iterable_Wrapper(train_original_source, transform_lambda)\n",
    "val_processed_source   = Lazy_Iterable_Wrapper(val_original_source, transform_lambda)\n",
    "test_processed_source  = Lazy_Iterable_Wrapper(test_original_source, transform_lambda)\n",
    "\n",
    "train_processed_target = Lazy_Iterable_Wrapper(train_original_target, transform_lambda)\n",
    "val_processed_target   = Lazy_Iterable_Wrapper(val_original_target, transform_lambda)\n",
    "test_processed_target  = Lazy_Iterable_Wrapper(test_original_target, transform_lambda)\n",
    "\n",
    "datasets = EasyDict({\n",
    "    \"source\": {\n",
    "        \"original\": {\"train\":train_original_source, \"val\":val_original_source, \"test\":test_original_source},\n",
    "        \"processed\": {\"train\":train_processed_source, \"val\":val_processed_source, \"test\":test_processed_source}\n",
    "    },\n",
    "    \"target\": {\n",
    "        \"original\": {\"train\":train_original_target, \"val\":val_original_target, \"test\":test_original_target},\n",
    "        \"processed\": {\"train\":train_processed_target, \"val\":val_processed_target, \"test\":test_processed_target}\n",
    "    },\n",
    "})"
   ]
  },
  {
   "cell_type": "code",
   "execution_count": 11,
   "id": "296189d9",
   "metadata": {
    "execution": {
     "iopub.execute_input": "2022-03-04T02:27:57.869699Z",
     "iopub.status.busy": "2022-03-04T02:27:57.869427Z",
     "iopub.status.idle": "2022-03-04T02:28:00.633043Z",
     "shell.execute_reply": "2022-03-04T02:28:00.632523Z"
    },
    "papermill": {
     "duration": 2.778892,
     "end_time": "2022-03-04T02:28:00.633159",
     "exception": false,
     "start_time": "2022-03-04T02:27:57.854267",
     "status": "completed"
    },
    "tags": []
   },
   "outputs": [
    {
     "name": "stdout",
     "output_type": "stream",
     "text": [
      "Visually inspect these to see if they line up with expected values given the transforms\n",
      "x_transforms_source []\n",
      "x_transforms_target []\n",
      "Average magnitude, source: 0.004676534\n",
      "Average power, source: 2.7930395e-05\n"
     ]
    },
    {
     "name": "stdout",
     "output_type": "stream",
     "text": [
      "Average magnitude, target: 0.0029711262\n",
      "Average power, target: 1.154846e-05\n"
     ]
    }
   ],
   "source": [
    "# Some quick unit tests on the data\n",
    "from steves_utils.transforms import get_average_power, get_average_magnitude\n",
    "\n",
    "q_x, q_y, s_x, s_y, truth = next(iter(train_processed_source))\n",
    "\n",
    "assert q_x.dtype == eval(p.torch_default_dtype)\n",
    "assert s_x.dtype == eval(p.torch_default_dtype)\n",
    "\n",
    "print(\"Visually inspect these to see if they line up with expected values given the transforms\")\n",
    "print('x_transforms_source', p.x_transforms_source)\n",
    "print('x_transforms_target', p.x_transforms_target)\n",
    "print(\"Average magnitude, source:\", get_average_magnitude(q_x[0].numpy()))\n",
    "print(\"Average power, source:\", get_average_power(q_x[0].numpy()))\n",
    "\n",
    "q_x, q_y, s_x, s_y, truth = next(iter(train_processed_target))\n",
    "print(\"Average magnitude, target:\", get_average_magnitude(q_x[0].numpy()))\n",
    "print(\"Average power, target:\", get_average_power(q_x[0].numpy()))\n"
   ]
  },
  {
   "cell_type": "code",
   "execution_count": 12,
   "id": "bbdacba1",
   "metadata": {
    "execution": {
     "iopub.execute_input": "2022-03-04T02:28:00.667442Z",
     "iopub.status.busy": "2022-03-04T02:28:00.667131Z",
     "iopub.status.idle": "2022-03-04T02:28:00.722666Z",
     "shell.execute_reply": "2022-03-04T02:28:00.722148Z"
    },
    "papermill": {
     "duration": 0.074821,
     "end_time": "2022-03-04T02:28:00.722798",
     "exception": false,
     "start_time": "2022-03-04T02:28:00.647977",
     "status": "completed"
    },
    "tags": []
   },
   "outputs": [
    {
     "name": "stdout",
     "output_type": "stream",
     "text": [
      "(2, 256)\n"
     ]
    }
   ],
   "source": [
    "###################################\n",
    "# Build the model\n",
    "###################################\n",
    "model = Steves_Prototypical_Network(x_net, device=p.device, x_shape=(2,256))\n",
    "optimizer = Adam(params=model.parameters(), lr=p.lr)"
   ]
  },
  {
   "cell_type": "code",
   "execution_count": 13,
   "id": "22b39ac5",
   "metadata": {
    "execution": {
     "iopub.execute_input": "2022-03-04T02:28:00.754276Z",
     "iopub.status.busy": "2022-03-04T02:28:00.754002Z",
     "iopub.status.idle": "2022-03-04T02:38:18.364087Z",
     "shell.execute_reply": "2022-03-04T02:38:18.363579Z"
    },
    "papermill": {
     "duration": 617.623267,
     "end_time": "2022-03-04T02:38:18.364193",
     "exception": false,
     "start_time": "2022-03-04T02:28:00.740926",
     "status": "completed"
    },
    "tags": []
   },
   "outputs": [
    {
     "name": "stdout",
     "output_type": "stream",
     "text": [
      "epoch: 1, [batch: 1 / 420], examples_per_second: 9.5228, train_label_loss: 2.3317, \n"
     ]
    },
    {
     "name": "stdout",
     "output_type": "stream",
     "text": [
      "epoch: 1, [batch: 42 / 420], examples_per_second: 850.0017, train_label_loss: 1.2861, \n"
     ]
    },
    {
     "name": "stdout",
     "output_type": "stream",
     "text": [
      "epoch: 1, [batch: 84 / 420], examples_per_second: 923.4182, train_label_loss: 1.2115, \n"
     ]
    },
    {
     "name": "stdout",
     "output_type": "stream",
     "text": [
      "epoch: 1, [batch: 126 / 420], examples_per_second: 996.7774, train_label_loss: 1.3198, \n"
     ]
    },
    {
     "name": "stdout",
     "output_type": "stream",
     "text": [
      "epoch: 1, [batch: 168 / 420], examples_per_second: 1104.0041, train_label_loss: 1.0922, \n"
     ]
    },
    {
     "name": "stdout",
     "output_type": "stream",
     "text": [
      "epoch: 1, [batch: 210 / 420], examples_per_second: 1210.5777, train_label_loss: 1.2817, \n"
     ]
    },
    {
     "name": "stdout",
     "output_type": "stream",
     "text": [
      "epoch: 1, [batch: 252 / 420], examples_per_second: 1416.1613, train_label_loss: 1.1639, \n"
     ]
    },
    {
     "name": "stdout",
     "output_type": "stream",
     "text": [
      "epoch: 1, [batch: 294 / 420], examples_per_second: 1471.8957, train_label_loss: 1.1389, \n"
     ]
    },
    {
     "name": "stdout",
     "output_type": "stream",
     "text": [
      "epoch: 1, [batch: 336 / 420], examples_per_second: 1648.6541, train_label_loss: 0.9937, \n"
     ]
    },
    {
     "name": "stdout",
     "output_type": "stream",
     "text": [
      "epoch: 1, [batch: 378 / 420], examples_per_second: 1881.5409, train_label_loss: 1.3090, \n"
     ]
    },
    {
     "name": "stdout",
     "output_type": "stream",
     "text": [
      "=============================================================\n",
      "epoch: 1, source_val_acc_label: 0.4719, target_val_acc_label: 0.3936, source_val_label_loss: 1.6044, target_val_label_loss: 1.7674, \n",
      "=============================================================\n"
     ]
    },
    {
     "name": "stdout",
     "output_type": "stream",
     "text": [
      "New best\n"
     ]
    },
    {
     "name": "stdout",
     "output_type": "stream",
     "text": [
      "epoch: 2, [batch: 1 / 420], examples_per_second: 5.1201, train_label_loss: 1.5091, \n"
     ]
    },
    {
     "name": "stdout",
     "output_type": "stream",
     "text": [
      "epoch: 2, [batch: 42 / 420], examples_per_second: 829.4676, train_label_loss: 1.2332, \n"
     ]
    },
    {
     "name": "stdout",
     "output_type": "stream",
     "text": [
      "epoch: 2, [batch: 84 / 420], examples_per_second: 899.3579, train_label_loss: 1.6104, \n"
     ]
    },
    {
     "name": "stdout",
     "output_type": "stream",
     "text": [
      "epoch: 2, [batch: 126 / 420], examples_per_second: 984.1578, train_label_loss: 1.4158, \n"
     ]
    },
    {
     "name": "stdout",
     "output_type": "stream",
     "text": [
      "epoch: 2, [batch: 168 / 420], examples_per_second: 1084.3207, train_label_loss: 1.6450, \n"
     ]
    },
    {
     "name": "stdout",
     "output_type": "stream",
     "text": [
      "epoch: 2, [batch: 210 / 420], examples_per_second: 1234.3864, train_label_loss: 1.3179, \n"
     ]
    },
    {
     "name": "stdout",
     "output_type": "stream",
     "text": [
      "epoch: 2, [batch: 252 / 420], examples_per_second: 1392.9598, train_label_loss: 1.2451, \n"
     ]
    },
    {
     "name": "stdout",
     "output_type": "stream",
     "text": [
      "epoch: 2, [batch: 294 / 420], examples_per_second: 1509.1994, train_label_loss: 1.3077, \n"
     ]
    },
    {
     "name": "stdout",
     "output_type": "stream",
     "text": [
      "epoch: 2, [batch: 336 / 420], examples_per_second: 1647.9086, train_label_loss: 1.4601, \n"
     ]
    },
    {
     "name": "stdout",
     "output_type": "stream",
     "text": [
      "epoch: 2, [batch: 378 / 420], examples_per_second: 1880.3251, train_label_loss: 1.4914, \n"
     ]
    },
    {
     "name": "stdout",
     "output_type": "stream",
     "text": [
      "=============================================================\n",
      "epoch: 2, source_val_acc_label: 0.4766, target_val_acc_label: 0.3839, source_val_label_loss: 1.3017, target_val_label_loss: 1.9343, \n",
      "=============================================================\n"
     ]
    },
    {
     "name": "stdout",
     "output_type": "stream",
     "text": [
      "epoch: 3, [batch: 1 / 420], examples_per_second: 5.0920, train_label_loss: 1.3872, \n"
     ]
    },
    {
     "name": "stdout",
     "output_type": "stream",
     "text": [
      "epoch: 3, [batch: 42 / 420], examples_per_second: 839.3050, train_label_loss: 1.4522, \n"
     ]
    },
    {
     "name": "stdout",
     "output_type": "stream",
     "text": [
      "epoch: 3, [batch: 84 / 420], examples_per_second: 918.8055, train_label_loss: 1.1777, \n"
     ]
    },
    {
     "name": "stdout",
     "output_type": "stream",
     "text": [
      "epoch: 3, [batch: 126 / 420], examples_per_second: 987.4829, train_label_loss: 1.1656, \n"
     ]
    },
    {
     "name": "stdout",
     "output_type": "stream",
     "text": [
      "epoch: 3, [batch: 168 / 420], examples_per_second: 1105.8370, train_label_loss: 1.2683, \n"
     ]
    },
    {
     "name": "stdout",
     "output_type": "stream",
     "text": [
      "epoch: 3, [batch: 210 / 420], examples_per_second: 1209.8159, train_label_loss: 1.3719, \n"
     ]
    },
    {
     "name": "stdout",
     "output_type": "stream",
     "text": [
      "epoch: 3, [batch: 252 / 420], examples_per_second: 1363.6985, train_label_loss: 1.4945, \n"
     ]
    },
    {
     "name": "stdout",
     "output_type": "stream",
     "text": [
      "epoch: 3, [batch: 294 / 420], examples_per_second: 1487.3706, train_label_loss: 1.1219, \n"
     ]
    },
    {
     "name": "stdout",
     "output_type": "stream",
     "text": [
      "epoch: 3, [batch: 336 / 420], examples_per_second: 1636.3785, train_label_loss: 1.2559, \n"
     ]
    },
    {
     "name": "stdout",
     "output_type": "stream",
     "text": [
      "epoch: 3, [batch: 378 / 420], examples_per_second: 1927.1333, train_label_loss: 1.0845, \n"
     ]
    },
    {
     "name": "stdout",
     "output_type": "stream",
     "text": [
      "=============================================================\n",
      "epoch: 3, source_val_acc_label: 0.4889, target_val_acc_label: 0.4072, source_val_label_loss: 1.2124, target_val_label_loss: 1.7496, \n",
      "=============================================================\n"
     ]
    },
    {
     "name": "stdout",
     "output_type": "stream",
     "text": [
      "New best\n"
     ]
    },
    {
     "name": "stdout",
     "output_type": "stream",
     "text": [
      "epoch: 4, [batch: 1 / 420], examples_per_second: 5.0638, train_label_loss: 1.4342, \n"
     ]
    },
    {
     "name": "stdout",
     "output_type": "stream",
     "text": [
      "epoch: 4, [batch: 42 / 420], examples_per_second: 833.9766, train_label_loss: 1.4673, \n"
     ]
    },
    {
     "name": "stdout",
     "output_type": "stream",
     "text": [
      "epoch: 4, [batch: 84 / 420], examples_per_second: 907.6859, train_label_loss: 1.3930, \n"
     ]
    },
    {
     "name": "stdout",
     "output_type": "stream",
     "text": [
      "epoch: 4, [batch: 126 / 420], examples_per_second: 1008.1463, train_label_loss: 1.1389, \n"
     ]
    },
    {
     "name": "stdout",
     "output_type": "stream",
     "text": [
      "epoch: 4, [batch: 168 / 420], examples_per_second: 1090.0489, train_label_loss: 1.2265, \n"
     ]
    },
    {
     "name": "stdout",
     "output_type": "stream",
     "text": [
      "epoch: 4, [batch: 210 / 420], examples_per_second: 1230.4403, train_label_loss: 1.1951, \n"
     ]
    },
    {
     "name": "stdout",
     "output_type": "stream",
     "text": [
      "epoch: 4, [batch: 252 / 420], examples_per_second: 1386.7644, train_label_loss: 1.4096, \n"
     ]
    },
    {
     "name": "stdout",
     "output_type": "stream",
     "text": [
      "epoch: 4, [batch: 294 / 420], examples_per_second: 1529.3041, train_label_loss: 0.9913, \n"
     ]
    },
    {
     "name": "stdout",
     "output_type": "stream",
     "text": [
      "epoch: 4, [batch: 336 / 420], examples_per_second: 1642.6006, train_label_loss: 1.1851, \n"
     ]
    },
    {
     "name": "stdout",
     "output_type": "stream",
     "text": [
      "epoch: 4, [batch: 378 / 420], examples_per_second: 1909.9051, train_label_loss: 1.3351, \n"
     ]
    },
    {
     "name": "stdout",
     "output_type": "stream",
     "text": [
      "=============================================================\n",
      "epoch: 4, source_val_acc_label: 0.6559, target_val_acc_label: 0.5230, source_val_label_loss: 0.8869, target_val_label_loss: 1.4823, \n",
      "=============================================================\n"
     ]
    },
    {
     "name": "stdout",
     "output_type": "stream",
     "text": [
      "New best\n"
     ]
    },
    {
     "name": "stdout",
     "output_type": "stream",
     "text": [
      "epoch: 5, [batch: 1 / 420], examples_per_second: 5.0500, train_label_loss: 0.4964, \n"
     ]
    },
    {
     "name": "stdout",
     "output_type": "stream",
     "text": [
      "epoch: 5, [batch: 42 / 420], examples_per_second: 821.6626, train_label_loss: 1.0201, \n"
     ]
    },
    {
     "name": "stdout",
     "output_type": "stream",
     "text": [
      "epoch: 5, [batch: 84 / 420], examples_per_second: 917.1690, train_label_loss: 0.4050, \n"
     ]
    },
    {
     "name": "stdout",
     "output_type": "stream",
     "text": [
      "epoch: 5, [batch: 126 / 420], examples_per_second: 1001.9838, train_label_loss: 0.6025, \n"
     ]
    },
    {
     "name": "stdout",
     "output_type": "stream",
     "text": [
      "epoch: 5, [batch: 168 / 420], examples_per_second: 1103.2556, train_label_loss: 0.7552, \n"
     ]
    },
    {
     "name": "stdout",
     "output_type": "stream",
     "text": [
      "epoch: 5, [batch: 210 / 420], examples_per_second: 1209.2933, train_label_loss: 0.8384, \n"
     ]
    },
    {
     "name": "stdout",
     "output_type": "stream",
     "text": [
      "epoch: 5, [batch: 252 / 420], examples_per_second: 1370.6179, train_label_loss: 0.3823, \n"
     ]
    },
    {
     "name": "stdout",
     "output_type": "stream",
     "text": [
      "epoch: 5, [batch: 294 / 420], examples_per_second: 1513.3352, train_label_loss: 0.9858, \n"
     ]
    },
    {
     "name": "stdout",
     "output_type": "stream",
     "text": [
      "epoch: 5, [batch: 336 / 420], examples_per_second: 1632.9023, train_label_loss: 0.8326, \n"
     ]
    },
    {
     "name": "stdout",
     "output_type": "stream",
     "text": [
      "epoch: 5, [batch: 378 / 420], examples_per_second: 1925.6926, train_label_loss: 1.2051, \n"
     ]
    },
    {
     "name": "stdout",
     "output_type": "stream",
     "text": [
      "=============================================================\n",
      "epoch: 5, source_val_acc_label: 0.7280, target_val_acc_label: 0.5758, source_val_label_loss: 0.7491, target_val_label_loss: 1.3301, \n",
      "=============================================================\n"
     ]
    },
    {
     "name": "stdout",
     "output_type": "stream",
     "text": [
      "New best\n"
     ]
    },
    {
     "name": "stdout",
     "output_type": "stream",
     "text": [
      "epoch: 6, [batch: 1 / 420], examples_per_second: 5.0632, train_label_loss: 0.5713, \n"
     ]
    },
    {
     "name": "stdout",
     "output_type": "stream",
     "text": [
      "epoch: 6, [batch: 42 / 420], examples_per_second: 820.7109, train_label_loss: 0.3798, \n"
     ]
    },
    {
     "name": "stdout",
     "output_type": "stream",
     "text": [
      "epoch: 6, [batch: 84 / 420], examples_per_second: 905.7262, train_label_loss: 0.6545, \n"
     ]
    },
    {
     "name": "stdout",
     "output_type": "stream",
     "text": [
      "epoch: 6, [batch: 126 / 420], examples_per_second: 995.8441, train_label_loss: 0.3277, \n"
     ]
    },
    {
     "name": "stdout",
     "output_type": "stream",
     "text": [
      "epoch: 6, [batch: 168 / 420], examples_per_second: 1093.7421, train_label_loss: 0.4965, \n"
     ]
    },
    {
     "name": "stdout",
     "output_type": "stream",
     "text": [
      "epoch: 6, [batch: 210 / 420], examples_per_second: 1222.6395, train_label_loss: 0.4458, \n"
     ]
    },
    {
     "name": "stdout",
     "output_type": "stream",
     "text": [
      "epoch: 6, [batch: 252 / 420], examples_per_second: 1363.7834, train_label_loss: 0.8094, \n"
     ]
    },
    {
     "name": "stdout",
     "output_type": "stream",
     "text": [
      "epoch: 6, [batch: 294 / 420], examples_per_second: 1523.4989, train_label_loss: 0.4454, \n"
     ]
    },
    {
     "name": "stdout",
     "output_type": "stream",
     "text": [
      "epoch: 6, [batch: 336 / 420], examples_per_second: 1633.8155, train_label_loss: 0.6501, \n"
     ]
    },
    {
     "name": "stdout",
     "output_type": "stream",
     "text": [
      "epoch: 6, [batch: 378 / 420], examples_per_second: 1893.0718, train_label_loss: 0.7108, \n"
     ]
    },
    {
     "name": "stdout",
     "output_type": "stream",
     "text": [
      "=============================================================\n",
      "epoch: 6, source_val_acc_label: 0.7479, target_val_acc_label: 0.6080, source_val_label_loss: 0.6624, target_val_label_loss: 1.2513, \n",
      "=============================================================\n"
     ]
    },
    {
     "name": "stdout",
     "output_type": "stream",
     "text": [
      "New best\n"
     ]
    },
    {
     "name": "stdout",
     "output_type": "stream",
     "text": [
      "epoch: 7, [batch: 1 / 420], examples_per_second: 5.0754, train_label_loss: 0.3195, \n"
     ]
    },
    {
     "name": "stdout",
     "output_type": "stream",
     "text": [
      "epoch: 7, [batch: 42 / 420], examples_per_second: 832.6265, train_label_loss: 0.8742, \n"
     ]
    },
    {
     "name": "stdout",
     "output_type": "stream",
     "text": [
      "epoch: 7, [batch: 84 / 420], examples_per_second: 908.3846, train_label_loss: 0.5976, \n"
     ]
    },
    {
     "name": "stdout",
     "output_type": "stream",
     "text": [
      "epoch: 7, [batch: 126 / 420], examples_per_second: 997.3100, train_label_loss: 0.7979, \n"
     ]
    },
    {
     "name": "stdout",
     "output_type": "stream",
     "text": [
      "epoch: 7, [batch: 168 / 420], examples_per_second: 1094.9866, train_label_loss: 0.2698, \n"
     ]
    },
    {
     "name": "stdout",
     "output_type": "stream",
     "text": [
      "epoch: 7, [batch: 210 / 420], examples_per_second: 1214.8740, train_label_loss: 0.1392, \n"
     ]
    },
    {
     "name": "stdout",
     "output_type": "stream",
     "text": [
      "epoch: 7, [batch: 252 / 420], examples_per_second: 1326.9847, train_label_loss: 0.8556, \n"
     ]
    },
    {
     "name": "stdout",
     "output_type": "stream",
     "text": [
      "epoch: 7, [batch: 294 / 420], examples_per_second: 1500.5863, train_label_loss: 0.7499, \n"
     ]
    },
    {
     "name": "stdout",
     "output_type": "stream",
     "text": [
      "epoch: 7, [batch: 336 / 420], examples_per_second: 1636.7210, train_label_loss: 0.6062, \n"
     ]
    },
    {
     "name": "stdout",
     "output_type": "stream",
     "text": [
      "epoch: 7, [batch: 378 / 420], examples_per_second: 1919.9971, train_label_loss: 0.5519, \n"
     ]
    },
    {
     "name": "stdout",
     "output_type": "stream",
     "text": [
      "=============================================================\n",
      "epoch: 7, source_val_acc_label: 0.7622, target_val_acc_label: 0.6179, source_val_label_loss: 0.6214, target_val_label_loss: 1.1796, \n",
      "=============================================================\n"
     ]
    },
    {
     "name": "stdout",
     "output_type": "stream",
     "text": [
      "New best\n"
     ]
    },
    {
     "name": "stdout",
     "output_type": "stream",
     "text": [
      "epoch: 8, [batch: 1 / 420], examples_per_second: 5.0898, train_label_loss: 0.3892, \n"
     ]
    },
    {
     "name": "stdout",
     "output_type": "stream",
     "text": [
      "epoch: 8, [batch: 42 / 420], examples_per_second: 828.0041, train_label_loss: 0.4850, \n"
     ]
    },
    {
     "name": "stdout",
     "output_type": "stream",
     "text": [
      "epoch: 8, [batch: 84 / 420], examples_per_second: 866.4516, train_label_loss: 0.1454, \n"
     ]
    },
    {
     "name": "stdout",
     "output_type": "stream",
     "text": [
      "epoch: 8, [batch: 126 / 420], examples_per_second: 946.3208, train_label_loss: 1.1555, \n"
     ]
    },
    {
     "name": "stdout",
     "output_type": "stream",
     "text": [
      "epoch: 8, [batch: 168 / 420], examples_per_second: 1039.1384, train_label_loss: 0.4659, \n"
     ]
    },
    {
     "name": "stdout",
     "output_type": "stream",
     "text": [
      "epoch: 8, [batch: 210 / 420], examples_per_second: 1250.9508, train_label_loss: 0.5349, \n"
     ]
    },
    {
     "name": "stdout",
     "output_type": "stream",
     "text": [
      "epoch: 8, [batch: 252 / 420], examples_per_second: 1243.0602, train_label_loss: 0.9213, \n"
     ]
    },
    {
     "name": "stdout",
     "output_type": "stream",
     "text": [
      "epoch: 8, [batch: 294 / 420], examples_per_second: 1529.8579, train_label_loss: 0.5432, \n"
     ]
    },
    {
     "name": "stdout",
     "output_type": "stream",
     "text": [
      "epoch: 8, [batch: 336 / 420], examples_per_second: 1618.1572, train_label_loss: 0.6063, \n"
     ]
    },
    {
     "name": "stdout",
     "output_type": "stream",
     "text": [
      "epoch: 8, [batch: 378 / 420], examples_per_second: 1767.8176, train_label_loss: 0.8287, \n"
     ]
    },
    {
     "name": "stdout",
     "output_type": "stream",
     "text": [
      "=============================================================\n",
      "epoch: 8, source_val_acc_label: 0.7870, target_val_acc_label: 0.6164, source_val_label_loss: 0.5816, target_val_label_loss: 1.2181, \n",
      "=============================================================\n"
     ]
    },
    {
     "name": "stdout",
     "output_type": "stream",
     "text": [
      "epoch: 9, [batch: 1 / 420], examples_per_second: 5.1000, train_label_loss: 0.4974, \n"
     ]
    },
    {
     "name": "stdout",
     "output_type": "stream",
     "text": [
      "epoch: 9, [batch: 42 / 420], examples_per_second: 827.5443, train_label_loss: 0.4343, \n"
     ]
    },
    {
     "name": "stdout",
     "output_type": "stream",
     "text": [
      "epoch: 9, [batch: 84 / 420], examples_per_second: 905.1341, train_label_loss: 0.3056, \n"
     ]
    },
    {
     "name": "stdout",
     "output_type": "stream",
     "text": [
      "epoch: 9, [batch: 126 / 420], examples_per_second: 970.6214, train_label_loss: 0.4960, \n"
     ]
    },
    {
     "name": "stdout",
     "output_type": "stream",
     "text": [
      "epoch: 9, [batch: 168 / 420], examples_per_second: 1060.2693, train_label_loss: 0.6360, \n"
     ]
    },
    {
     "name": "stdout",
     "output_type": "stream",
     "text": [
      "epoch: 9, [batch: 210 / 420], examples_per_second: 1206.3432, train_label_loss: 0.2672, \n"
     ]
    },
    {
     "name": "stdout",
     "output_type": "stream",
     "text": [
      "epoch: 9, [batch: 252 / 420], examples_per_second: 1362.2584, train_label_loss: 0.4883, \n"
     ]
    },
    {
     "name": "stdout",
     "output_type": "stream",
     "text": [
      "epoch: 9, [batch: 294 / 420], examples_per_second: 1585.2858, train_label_loss: 0.7094, \n"
     ]
    },
    {
     "name": "stdout",
     "output_type": "stream",
     "text": [
      "epoch: 9, [batch: 336 / 420], examples_per_second: 1822.6960, train_label_loss: 0.7285, \n"
     ]
    },
    {
     "name": "stdout",
     "output_type": "stream",
     "text": [
      "epoch: 9, [batch: 378 / 420], examples_per_second: 2274.7802, train_label_loss: 0.9196, \n"
     ]
    },
    {
     "name": "stdout",
     "output_type": "stream",
     "text": [
      "=============================================================\n",
      "epoch: 9, source_val_acc_label: 0.7814, target_val_acc_label: 0.6229, source_val_label_loss: 0.5893, target_val_label_loss: 1.2323, \n",
      "=============================================================\n"
     ]
    },
    {
     "name": "stdout",
     "output_type": "stream",
     "text": [
      "epoch: 10, [batch: 1 / 420], examples_per_second: 5.3415, train_label_loss: 0.5124, \n"
     ]
    },
    {
     "name": "stdout",
     "output_type": "stream",
     "text": [
      "epoch: 10, [batch: 42 / 420], examples_per_second: 862.4184, train_label_loss: 0.4675, \n"
     ]
    },
    {
     "name": "stdout",
     "output_type": "stream",
     "text": [
      "epoch: 10, [batch: 84 / 420], examples_per_second: 928.8500, train_label_loss: 0.6311, \n"
     ]
    },
    {
     "name": "stdout",
     "output_type": "stream",
     "text": [
      "epoch: 10, [batch: 126 / 420], examples_per_second: 997.4984, train_label_loss: 0.5629, \n"
     ]
    },
    {
     "name": "stdout",
     "output_type": "stream",
     "text": [
      "epoch: 10, [batch: 168 / 420], examples_per_second: 1135.4147, train_label_loss: 0.6150, \n"
     ]
    },
    {
     "name": "stdout",
     "output_type": "stream",
     "text": [
      "epoch: 10, [batch: 210 / 420], examples_per_second: 1238.4530, train_label_loss: 0.4959, \n"
     ]
    },
    {
     "name": "stdout",
     "output_type": "stream",
     "text": [
      "epoch: 10, [batch: 252 / 420], examples_per_second: 1393.8484, train_label_loss: 0.5341, \n"
     ]
    },
    {
     "name": "stdout",
     "output_type": "stream",
     "text": [
      "epoch: 10, [batch: 294 / 420], examples_per_second: 1627.5882, train_label_loss: 0.2893, \n"
     ]
    },
    {
     "name": "stdout",
     "output_type": "stream",
     "text": [
      "epoch: 10, [batch: 336 / 420], examples_per_second: 1895.1489, train_label_loss: 0.3883, \n"
     ]
    },
    {
     "name": "stdout",
     "output_type": "stream",
     "text": [
      "epoch: 10, [batch: 378 / 420], examples_per_second: 2334.9593, train_label_loss: 0.4638, \n"
     ]
    },
    {
     "name": "stdout",
     "output_type": "stream",
     "text": [
      "=============================================================\n",
      "epoch: 10, source_val_acc_label: 0.7859, target_val_acc_label: 0.6300, source_val_label_loss: 0.5805, target_val_label_loss: 1.3513, \n",
      "=============================================================\n"
     ]
    },
    {
     "name": "stdout",
     "output_type": "stream",
     "text": [
      "epoch: 11, [batch: 1 / 420], examples_per_second: 5.4236, train_label_loss: 0.6148, \n"
     ]
    },
    {
     "name": "stdout",
     "output_type": "stream",
     "text": [
      "epoch: 11, [batch: 42 / 420], examples_per_second: 860.3399, train_label_loss: 0.2033, \n"
     ]
    },
    {
     "name": "stdout",
     "output_type": "stream",
     "text": [
      "epoch: 11, [batch: 84 / 420], examples_per_second: 941.4130, train_label_loss: 0.6787, \n"
     ]
    },
    {
     "name": "stdout",
     "output_type": "stream",
     "text": [
      "epoch: 11, [batch: 126 / 420], examples_per_second: 1031.1713, train_label_loss: 0.5687, \n"
     ]
    },
    {
     "name": "stdout",
     "output_type": "stream",
     "text": [
      "epoch: 11, [batch: 168 / 420], examples_per_second: 1118.0902, train_label_loss: 0.3660, \n"
     ]
    },
    {
     "name": "stdout",
     "output_type": "stream",
     "text": [
      "epoch: 11, [batch: 210 / 420], examples_per_second: 1258.0316, train_label_loss: 0.6080, \n"
     ]
    },
    {
     "name": "stdout",
     "output_type": "stream",
     "text": [
      "epoch: 11, [batch: 252 / 420], examples_per_second: 1409.9666, train_label_loss: 0.1071, \n"
     ]
    },
    {
     "name": "stdout",
     "output_type": "stream",
     "text": [
      "epoch: 11, [batch: 294 / 420], examples_per_second: 1630.2384, train_label_loss: 0.3001, \n"
     ]
    },
    {
     "name": "stdout",
     "output_type": "stream",
     "text": [
      "epoch: 11, [batch: 336 / 420], examples_per_second: 1878.4418, train_label_loss: 0.6936, \n"
     ]
    },
    {
     "name": "stdout",
     "output_type": "stream",
     "text": [
      "epoch: 11, [batch: 378 / 420], examples_per_second: 2269.7569, train_label_loss: 0.4507, \n"
     ]
    },
    {
     "name": "stdout",
     "output_type": "stream",
     "text": [
      "=============================================================\n",
      "epoch: 11, source_val_acc_label: 0.7795, target_val_acc_label: 0.6303, source_val_label_loss: 0.5932, target_val_label_loss: 1.3103, \n",
      "=============================================================\n"
     ]
    },
    {
     "name": "stdout",
     "output_type": "stream",
     "text": [
      "Patience (3) exhausted\n"
     ]
    }
   ],
   "source": [
    "###################################\n",
    "# train\n",
    "###################################\n",
    "jig = PTN_Train_Eval_Test_Jig(model, p.BEST_MODEL_PATH, p.device)\n",
    "\n",
    "jig.train(\n",
    "    train_iterable=datasets.source.processed.train,\n",
    "    source_val_iterable=datasets.source.processed.val,\n",
    "    target_val_iterable=datasets.target.processed.val,\n",
    "    num_epochs=p.n_epoch,\n",
    "    num_logs_per_epoch=p.NUM_LOGS_PER_EPOCH,\n",
    "    patience=p.patience,\n",
    "    optimizer=optimizer,\n",
    "    criteria_for_best=p.criteria_for_best,\n",
    ")"
   ]
  },
  {
   "cell_type": "code",
   "execution_count": 14,
   "id": "31e8fabf",
   "metadata": {
    "execution": {
     "iopub.execute_input": "2022-03-04T02:38:18.439676Z",
     "iopub.status.busy": "2022-03-04T02:38:18.439418Z",
     "iopub.status.idle": "2022-03-04T02:38:18.454331Z",
     "shell.execute_reply": "2022-03-04T02:38:18.453821Z"
    },
    "papermill": {
     "duration": 0.051924,
     "end_time": "2022-03-04T02:38:18.454437",
     "exception": false,
     "start_time": "2022-03-04T02:38:18.402513",
     "status": "completed"
    },
    "tags": []
   },
   "outputs": [],
   "source": [
    "total_experiment_time_secs = time.time() - start_time_secs"
   ]
  },
  {
   "cell_type": "code",
   "execution_count": 15,
   "id": "87b9595b",
   "metadata": {
    "execution": {
     "iopub.execute_input": "2022-03-04T02:38:18.532231Z",
     "iopub.status.busy": "2022-03-04T02:38:18.531175Z",
     "iopub.status.idle": "2022-03-04T02:39:45.886943Z",
     "shell.execute_reply": "2022-03-04T02:39:45.887174Z"
    },
    "papermill": {
     "duration": 87.395582,
     "end_time": "2022-03-04T02:39:45.887255",
     "exception": false,
     "start_time": "2022-03-04T02:38:18.491673",
     "status": "completed"
    },
    "tags": []
   },
   "outputs": [],
   "source": [
    "###################################\n",
    "# Evaluate the model\n",
    "###################################\n",
    "source_test_label_accuracy, source_test_label_loss = jig.test(datasets.source.processed.test)\n",
    "target_test_label_accuracy, target_test_label_loss = jig.test(datasets.target.processed.test)\n",
    "\n",
    "source_val_label_accuracy, source_val_label_loss = jig.test(datasets.source.processed.val)\n",
    "target_val_label_accuracy, target_val_label_loss = jig.test(datasets.target.processed.val)\n",
    "\n",
    "history = jig.get_history()\n",
    "\n",
    "total_epochs_trained = len(history[\"epoch_indices\"])\n",
    "\n",
    "val_dl = Iterable_Aggregator((datasets.source.original.val,datasets.target.original.val))\n",
    "\n",
    "confusion = ptn_confusion_by_domain_over_dataloader(model, p.device, val_dl)\n",
    "per_domain_accuracy = per_domain_accuracy_from_confusion(confusion)\n",
    "\n",
    "# Add a key to per_domain_accuracy for if it was a source domain\n",
    "for domain, accuracy in per_domain_accuracy.items():\n",
    "    per_domain_accuracy[domain] = {\n",
    "        \"accuracy\": accuracy,\n",
    "        \"source?\": domain in p.domains_source\n",
    "    }\n",
    "\n",
    "# Do an independent accuracy assesment JUST TO BE SURE!\n",
    "# _source_test_label_accuracy = independent_accuracy_assesment(model, datasets.source.processed.test, p.device)\n",
    "# _target_test_label_accuracy = independent_accuracy_assesment(model, datasets.target.processed.test, p.device)\n",
    "# _source_val_label_accuracy = independent_accuracy_assesment(model, datasets.source.processed.val, p.device)\n",
    "# _target_val_label_accuracy = independent_accuracy_assesment(model, datasets.target.processed.val, p.device)\n",
    "\n",
    "# assert(_source_test_label_accuracy == source_test_label_accuracy)\n",
    "# assert(_target_test_label_accuracy == target_test_label_accuracy)\n",
    "# assert(_source_val_label_accuracy == source_val_label_accuracy)\n",
    "# assert(_target_val_label_accuracy == target_val_label_accuracy)\n",
    "\n",
    "experiment = {\n",
    "    \"experiment_name\": p.experiment_name,\n",
    "    \"parameters\": dict(p),\n",
    "    \"results\": {\n",
    "        \"source_test_label_accuracy\": source_test_label_accuracy,\n",
    "        \"source_test_label_loss\": source_test_label_loss,\n",
    "        \"target_test_label_accuracy\": target_test_label_accuracy,\n",
    "        \"target_test_label_loss\": target_test_label_loss,\n",
    "        \"source_val_label_accuracy\": source_val_label_accuracy,\n",
    "        \"source_val_label_loss\": source_val_label_loss,\n",
    "        \"target_val_label_accuracy\": target_val_label_accuracy,\n",
    "        \"target_val_label_loss\": target_val_label_loss,\n",
    "        \"total_epochs_trained\": total_epochs_trained,\n",
    "        \"total_experiment_time_secs\": total_experiment_time_secs,\n",
    "        \"confusion\": confusion,\n",
    "        \"per_domain_accuracy\": per_domain_accuracy,\n",
    "    },\n",
    "    \"history\": history,\n",
    "    \"dataset_metrics\": get_dataset_metrics(datasets, \"ptn\"),\n",
    "}"
   ]
  },
  {
   "cell_type": "code",
   "execution_count": 16,
   "id": "54a21829",
   "metadata": {
    "execution": {
     "iopub.execute_input": "2022-03-04T02:39:45.963849Z",
     "iopub.status.busy": "2022-03-04T02:39:45.955883Z",
     "iopub.status.idle": "2022-03-04T02:39:46.138890Z",
     "shell.execute_reply": "2022-03-04T02:39:46.138405Z"
    },
    "papermill": {
     "duration": 0.218872,
     "end_time": "2022-03-04T02:39:46.138984",
     "exception": false,
     "start_time": "2022-03-04T02:39:45.920112",
     "status": "completed"
    },
    "tags": []
   },
   "outputs": [
    {
     "data": {
      "image/png": "[encoded data removed]",
      "text/plain": [
       "<Figure size 1080x504 with 1 Axes>"
      ]
     },
     "metadata": {
      "needs_background": "light"
     },
     "output_type": "display_data"
    }
   ],
   "source": [
    "ax = get_loss_curve(experiment)\n",
    "plt.show()"
   ]
  },
  {
   "cell_type": "code",
   "execution_count": 17,
   "id": "fd8a0f60",
   "metadata": {
    "execution": {
     "iopub.execute_input": "2022-03-04T02:39:46.224362Z",
     "iopub.status.busy": "2022-03-04T02:39:46.221299Z",
     "iopub.status.idle": "2022-03-04T02:39:46.466820Z",
     "shell.execute_reply": "2022-03-04T02:39:46.467240Z"
    },
    "papermill": {
     "duration": 0.290771,
     "end_time": "2022-03-04T02:39:46.467368",
     "exception": false,
     "start_time": "2022-03-04T02:39:46.176597",
     "status": "completed"
    },
    "tags": []
   },
   "outputs": [
    {
     "data": {
      "text/plain": [
       "<matplotlib.axes._subplots.AxesSubplot at 0x7fa28d3ad1c0>"
      ]
     },
     "execution_count": 17,
     "metadata": {},
     "output_type": "execute_result"
    },
    {
     "data": {
      "image/png": "[encoded data removed]",
      "text/plain": [
       "<Figure size 1080x504 with 1 Axes>"
      ]
     },
     "metadata": {
      "needs_background": "light"
     },
     "output_type": "display_data"
    }
   ],
   "source": [
    "get_results_table(experiment)"
   ]
  },
  {
   "cell_type": "code",
   "execution_count": 18,
   "id": "cf8dc689",
   "metadata": {
    "execution": {
     "iopub.execute_input": "2022-03-04T02:39:46.544505Z",
     "iopub.status.busy": "2022-03-04T02:39:46.544153Z",
     "iopub.status.idle": "2022-03-04T02:39:46.714391Z",
     "shell.execute_reply": "2022-03-04T02:39:46.713939Z"
    },
    "papermill": {
     "duration": 0.207341,
     "end_time": "2022-03-04T02:39:46.714483",
     "exception": false,
     "start_time": "2022-03-04T02:39:46.507142",
     "status": "completed"
    },
    "tags": []
   },
   "outputs": [
    {
     "data": {
      "text/plain": [
       "<matplotlib.axes._subplots.AxesSubplot at 0x7fa3103959d0>"
      ]
     },
     "execution_count": 18,
     "metadata": {},
     "output_type": "execute_result"
    },
    {
     "data": {
      "image/png": "[encoded data removed]",
      "text/plain": [
       "<Figure size 1080x504 with 1 Axes>"
      ]
     },
     "metadata": {
      "needs_background": "light"
     },
     "output_type": "display_data"
    }
   ],
   "source": [
    "get_domain_accuracies(experiment)"
   ]
  },
  {
   "cell_type": "code",
   "execution_count": 19,
   "id": "a74ae082",
   "metadata": {
    "execution": {
     "iopub.execute_input": "2022-03-04T02:39:46.799284Z",
     "iopub.status.busy": "2022-03-04T02:39:46.798906Z",
     "iopub.status.idle": "2022-03-04T02:39:46.805722Z",
     "shell.execute_reply": "2022-03-04T02:39:46.806153Z"
    },
    "papermill": {
     "duration": 0.051665,
     "end_time": "2022-03-04T02:39:46.806273",
     "exception": false,
     "start_time": "2022-03-04T02:39:46.754608",
     "status": "completed"
    },
    "tags": []
   },
   "outputs": [
    {
     "name": "stdout",
     "output_type": "stream",
     "text": [
      "Source Test Label Accuracy: 0.7612847222222222 Target Test Label Accuracy: 0.6098958333333333\n",
      "Source Val Label Accuracy: 0.7621527777777778 Target Val Label Accuracy: 0.6179166666666667\n"
     ]
    }
   ],
   "source": [
    "print(\"Source Test Label Accuracy:\", experiment[\"results\"][\"source_test_label_accuracy\"], \"Target Test Label Accuracy:\", experiment[\"results\"][\"target_test_label_accuracy\"])\n",
    "print(\"Source Val Label Accuracy:\", experiment[\"results\"][\"source_val_label_accuracy\"], \"Target Val Label Accuracy:\", experiment[\"results\"][\"target_val_label_accuracy\"])"
   ]
  },
  {
   "cell_type": "code",
   "execution_count": 20,
   "id": "dacca602",
   "metadata": {
    "execution": {
     "iopub.execute_input": "2022-03-04T02:39:46.896192Z",
     "iopub.status.busy": "2022-03-04T02:39:46.895837Z",
     "iopub.status.idle": "2022-03-04T02:39:46.898798Z",
     "shell.execute_reply": "2022-03-04T02:39:46.899103Z"
    },
    "papermill": {
     "duration": 0.051258,
     "end_time": "2022-03-04T02:39:46.899192",
     "exception": false,
     "start_time": "2022-03-04T02:39:46.847934",
     "status": "completed"
    },
    "tags": [
     "experiment_json"
    ]
   },
   "outputs": [
    {
     "data": {
      "text/plain": [
       "'{\"experiment_name\": \"dataset_seeds_oracle.run2\", \"parameters\": {\"experiment_name\": \"dataset_seeds_oracle.run2\", \"lr\": 0.001, \"device\": \"cuda\", \"seed\": 1337, \"dataset_seed\": 12341234, \"labels_source\": [\"3123D52\", \"3123D65\", \"3123D79\", \"3123D80\", \"3123D54\", \"3123D70\", \"3123D7B\", \"3123D89\", \"3123D58\", \"3123D76\", \"3123D7D\", \"3123EFE\", \"3123D64\", \"3123D78\", \"3123D7E\", \"3124E4A\"], \"labels_target\": [\"3123D52\", \"3123D65\", \"3123D79\", \"3123D80\", \"3123D54\", \"3123D70\", \"3123D7B\", \"3123D89\", \"3123D58\", \"3123D76\", \"3123D7D\", \"3123EFE\", \"3123D64\", \"3123D78\", \"3123D7E\", \"3124E4A\"], \"x_transforms_source\": [], \"x_transforms_target\": [], \"episode_transforms_source\": [], \"episode_transforms_target\": [], \"num_examples_per_domain_per_label_source\": 1000, \"num_examples_per_domain_per_label_target\": 1000, \"n_shot\": 3, \"n_way\": 16, \"n_query\": 2, \"train_k_factor\": 1, \"val_k_factor\": 2, \"test_k_factor\": 2, \"torch_default_dtype\": \"torch.float32\", \"n_epoch\": 50, \"patience\": 3, \"criteria_for_best\": \"target_loss\", \"x_net\": [{\"class\": \"nnReshape\", \"kargs\": {\"shape\": [-1, 1, 2, 256]}}, {\"class\": \"Conv2d\", \"kargs\": {\"in_channels\": 1, \"out_channels\": 256, \"kernel_size\": [1, 7], \"bias\": false, \"padding\": [0, 3]}}, {\"class\": \"ReLU\", \"kargs\": {\"inplace\": true}}, {\"class\": \"BatchNorm2d\", \"kargs\": {\"num_features\": 256}}, {\"class\": \"Conv2d\", \"kargs\": {\"in_channels\": 256, \"out_channels\": 80, \"kernel_size\": [2, 7], \"bias\": true, \"padding\": [0, 3]}}, {\"class\": \"ReLU\", \"kargs\": {\"inplace\": true}}, {\"class\": \"BatchNorm2d\", \"kargs\": {\"num_features\": 80}}, {\"class\": \"Flatten\", \"kargs\": {}}, {\"class\": \"Linear\", \"kargs\": {\"in_features\": 20480, \"out_features\": 256}}, {\"class\": \"ReLU\", \"kargs\": {\"inplace\": true}}, {\"class\": \"BatchNorm1d\", \"kargs\": {\"num_features\": 256}}, {\"class\": \"Linear\", \"kargs\": {\"in_features\": 256, \"out_features\": 256}}], \"NUM_LOGS_PER_EPOCH\": 10, \"BEST_MODEL_PATH\": \"./best_model.pth\", \"pickle_name\": \"oracle.Run2_10kExamples_stratified_ds.2022A.pkl\", \"domains_source\": [8, 32, 50], \"domains_target\": [14, 20, 26, 38, 44]}, \"results\": {\"source_test_label_accuracy\": 0.7612847222222222, \"source_test_label_loss\": 0.6194108128547668, \"target_test_label_accuracy\": 0.6098958333333333, \"target_test_label_loss\": 1.1555966138839722, \"source_val_label_accuracy\": 0.7621527777777778, \"source_val_label_loss\": 0.6214427351951599, \"target_val_label_accuracy\": 0.6179166666666667, \"target_val_label_loss\": 1.1796108484268188, \"total_epochs_trained\": 11, \"total_experiment_time_secs\": 623.7777757644653, \"confusion\": {\"8\": {\"15\": {\"2\": 8, \"15\": 100, \"12\": 11, \"3\": 1}, \"3\": {\"3\": 120}, \"6\": {\"14\": 51, \"6\": 47, \"8\": 16, \"1\": 2, \"4\": 3, \"11\": 1}, \"1\": {\"4\": 24, \"1\": 59, \"5\": 7, \"14\": 6, \"10\": 5, \"7\": 12, \"13\": 6, \"6\": 1}, \"8\": {\"4\": 2, \"8\": 64, \"11\": 23, \"14\": 9, \"6\": 22}, \"10\": {\"10\": 54, \"5\": 38, \"13\": 26, \"1\": 2}, \"9\": {\"9\": 120}, \"13\": {\"13\": 78, \"7\": 7, \"5\": 4, \"10\": 27, \"1\": 4}, \"12\": {\"12\": 103, \"2\": 8, \"15\": 9}, \"5\": {\"10\": 34, \"5\": 67, \"4\": 2, \"1\": 11, \"13\": 5, \"7\": 1}, \"0\": {\"0\": 120}, \"2\": {\"2\": 106, \"13\": 2, \"12\": 8, \"15\": 4}, \"11\": {\"11\": 61, \"8\": 40, \"7\": 9, \"6\": 6, \"4\": 1, \"14\": 2, \"12\": 1}, \"14\": {\"14\": 63, \"4\": 4, \"6\": 43, \"8\": 5, \"1\": 4, \"7\": 1}, \"7\": {\"7\": 73, \"11\": 5, \"1\": 15, \"4\": 25, \"13\": 1, \"10\": 1}, \"4\": {\"4\": 50, \"8\": 3, \"10\": 1, \"7\": 33, \"1\": 21, \"11\": 2, \"14\": 4, \"6\": 5, \"13\": 1}}, \"50\": {\"3\": {\"3\": 120}, \"15\": {\"15\": 98, \"12\": 4, \"9\": 10, \"6\": 6, \"4\": 1, \"5\": 1}, \"8\": {\"8\": 119, \"13\": 1}, \"4\": {\"4\": 75, \"5\": 33, \"15\": 3, \"7\": 9}, \"14\": {\"2\": 1, \"14\": 119}, \"0\": {\"0\": 95, \"2\": 15, \"10\": 10}, \"7\": {\"5\": 3, \"7\": 110, \"4\": 7}, \"6\": {\"6\": 101, \"12\": 2, \"4\": 3, \"15\": 5, \"5\": 9}, \"10\": {\"10\": 110, \"0\": 9, \"13\": 1}, \"5\": {\"5\": 67, \"15\": 1, \"4\": 39, \"6\": 7, \"7\": 6}, \"2\": {\"2\": 104, \"0\": 14, \"14\": 2}, \"12\": {\"11\": 18, \"12\": 86, \"15\": 9, \"6\": 5, \"9\": 2}, \"9\": {\"9\": 109, \"15\": 10, \"12\": 1}, \"1\": {\"1\": 113, \"13\": 4, \"11\": 3}, \"11\": {\"11\": 94, \"12\": 20, \"1\": 6}, \"13\": {\"13\": 116, \"10\": 1, \"8\": 2, \"1\": 1}}, \"32\": {\"5\": {\"5\": 100, \"15\": 14, \"2\": 4, \"7\": 1, \"14\": 1}, \"8\": {\"8\": 75, \"0\": 13, \"7\": 25, \"2\": 6, \"14\": 1}, \"11\": {\"11\": 48, \"4\": 39, \"13\": 28, \"3\": 1, \"8\": 2, \"0\": 2}, \"1\": {\"1\": 120}, \"10\": {\"10\": 120}, \"15\": {\"15\": 107, \"5\": 7, \"8\": 2, \"7\": 4}, \"3\": {\"3\": 109, \"13\": 6, \"4\": 3, \"11\": 2}, \"7\": {\"7\": 64, \"2\": 11, \"8\": 22, \"0\": 18, \"14\": 3, \"5\": 1, \"15\": 1}, \"4\": {\"0\": 4, \"4\": 87, \"11\": 25, \"3\": 2, \"13\": 2}, \"14\": {\"14\": 76, \"5\": 2, \"2\": 40, \"0\": 1, \"4\": 1}, \"9\": {\"9\": 116, \"12\": 2, \"11\": 1, \"13\": 1}, \"12\": {\"12\": 120}, \"6\": {\"6\": 120}, \"2\": {\"14\": 38, \"7\": 9, \"2\": 65, \"0\": 8}, \"0\": {\"0\": 62, \"2\": 10, \"8\": 15, \"7\": 21, \"4\": 6, \"14\": 5, \"11\": 1}, \"13\": {\"4\": 3, \"13\": 80, \"11\": 24, \"3\": 13}}, \"14\": {\"15\": {\"15\": 120}, \"3\": {\"3\": 91, \"2\": 3, \"13\": 5, \"6\": 11, \"14\": 4, \"7\": 5, \"10\": 1}, \"6\": {\"6\": 55, \"13\": 37, \"3\": 20, \"7\": 7, \"2\": 1}, \"1\": {\"1\": 120}, \"8\": {\"8\": 82, \"0\": 8, \"10\": 26, \"5\": 1, \"14\": 1, \"9\": 1, \"12\": 1}, \"10\": {\"14\": 3, \"0\": 26, \"10\": 46, \"9\": 1, \"3\": 7, \"8\": 25, \"12\": 3, \"5\": 7, \"2\": 1, \"13\": 1}, \"9\": {\"9\": 117, \"0\": 2, \"4\": 1}, \"13\": {\"13\": 78, \"6\": 34, \"3\": 3, \"7\": 5}, \"12\": {\"12\": 51, \"15\": 18, \"8\": 19, \"14\": 2, \"3\": 9, \"0\": 2, \"9\": 4, \"1\": 5, \"11\": 5, \"4\": 3, \"10\": 2}, \"5\": {\"5\": 55, \"14\": 35, \"8\": 1, \"2\": 20, \"0\": 2, \"4\": 3, \"10\": 3, \"7\": 1}, \"0\": {\"0\": 79, \"10\": 12, \"8\": 8, \"14\": 2, \"9\": 5, \"4\": 12, \"5\": 2}, \"2\": {\"5\": 26, \"4\": 8, \"2\": 20, \"14\": 26, \"7\": 28, \"3\": 5, \"6\": 4, \"0\": 1, \"10\": 2}, \"11\": {\"11\": 120}, \"14\": {\"14\": 41, \"5\": 34, \"7\": 15, \"2\": 24, \"3\": 3, \"4\": 1, \"10\": 2}, \"7\": {\"7\": 86, \"2\": 17, \"14\": 13, \"5\": 2, \"6\": 2}, \"4\": {\"4\": 100, \"0\": 18, \"5\": 2}}, \"20\": {\"3\": {\"4\": 23, \"3\": 23, \"2\": 17, \"6\": 4, \"9\": 10, \"12\": 3, \"15\": 6, \"7\": 17, \"10\": 4, \"5\": 9, \"14\": 1, \"1\": 1, \"13\": 2}, \"15\": {\"15\": 39, \"4\": 13, \"3\": 12, \"1\": 5, \"2\": 16, \"12\": 5, \"9\": 15, \"5\": 8, \"7\": 3, \"13\": 4}, \"8\": {\"0\": 6, \"8\": 55, \"11\": 32, \"14\": 24, \"1\": 2, \"5\": 1}, \"4\": {\"4\": 28, \"12\": 5, \"2\": 6, \"7\": 22, \"5\": 5, \"13\": 4, \"15\": 20, \"9\": 5, \"3\": 15, \"1\": 3, \"10\": 5, \"6\": 2}, \"14\": {\"14\": 65, \"8\": 46, \"11\": 5, \"7\": 1, \"2\": 2, \"3\": 1}, \"0\": {\"0\": 84, \"11\": 22, \"8\": 7, \"1\": 6, \"5\": 1}, \"7\": {\"6\": 9, \"3\": 15, \"4\": 24, \"10\": 11, \"7\": 47, \"13\": 3, \"15\": 1, \"9\": 2, \"12\": 3, \"5\": 3, \"2\": 2}, \"6\": {\"10\": 15, \"6\": 94, \"7\": 9, \"4\": 2}, \"10\": {\"6\": 28, \"10\": 63, \"12\": 6, \"13\": 4, \"4\": 2, \"7\": 17}, \"5\": {\"3\": 11, \"9\": 9, \"5\": 38, \"4\": 6, \"15\": 9, \"2\": 16, \"1\": 20, \"7\": 8, \"11\": 1, \"14\": 2}, \"2\": {\"2\": 22, \"15\": 21, \"9\": 16, \"3\": 11, \"4\": 12, \"5\": 27, \"7\": 5, \"1\": 6}, \"12\": {\"13\": 53, \"10\": 14, \"3\": 2, \"12\": 39, \"7\": 5, \"4\": 2, \"9\": 2, \"15\": 2, \"2\": 1}, \"9\": {\"3\": 15, \"9\": 25, \"2\": 22, \"5\": 11, \"4\": 14, \"15\": 18, \"1\": 7, \"7\": 5, \"13\": 3}, \"1\": {\"15\": 6, \"1\": 72, \"8\": 3, \"9\": 7, \"5\": 17, \"2\": 10, \"11\": 2, \"0\": 3}, \"11\": {\"11\": 61, \"0\": 20, \"8\": 32, \"14\": 7}, \"13\": {\"13\": 53, \"3\": 6, \"12\": 49, \"9\": 3, \"15\": 3, \"10\": 4, \"4\": 2}}, \"44\": {\"5\": {\"5\": 77, \"8\": 12, \"15\": 21, \"14\": 10}, \"8\": {\"8\": 82, \"5\": 15, \"15\": 2, \"0\": 21}, \"11\": {\"11\": 120}, \"1\": {\"1\": 89, \"2\": 31}, \"10\": {\"10\": 100, \"6\": 11, \"7\": 7, \"9\": 2}, \"15\": {\"15\": 91, \"5\": 23, \"8\": 4, \"0\": 1, \"4\": 1}, \"3\": {\"3\": 105, \"12\": 14, \"1\": 1}, \"7\": {\"7\": 74, \"9\": 39, \"4\": 1, \"10\": 5, \"6\": 1}, \"4\": {\"4\": 96, \"14\": 24}, \"14\": {\"14\": 85, \"4\": 27, \"5\": 8}, \"9\": {\"9\": 84, \"7\": 32, \"6\": 4}, \"12\": {\"12\": 98, \"3\": 22}, \"6\": {\"6\": 110, \"10\": 2, \"13\": 4, \"7\": 4}, \"2\": {\"2\": 97, \"1\": 22, \"15\": 1}, \"0\": {\"8\": 21, \"0\": 96, \"5\": 1, \"15\": 2}, \"13\": {\"13\": 116, \"6\": 3, \"11\": 1}}, \"38\": {\"14\": {\"2\": 41, \"14\": 50, \"8\": 7, \"4\": 2, \"7\": 12, \"10\": 2, \"12\": 2, \"5\": 4}, \"0\": {\"0\": 104, \"4\": 2, \"7\": 14}, \"13\": {\"3\": 26, \"10\": 23, \"13\": 70, \"4\": 1}, \"7\": {\"7\": 103, \"4\": 2, \"14\": 2, \"0\": 11, \"8\": 2}, \"9\": {\"9\": 96, \"5\": 8, \"12\": 8, \"8\": 8}, \"3\": {\"10\": 19, \"13\": 36, \"3\": 49, \"4\": 13, \"11\": 3}, \"11\": {\"11\": 120}, \"6\": {\"6\": 111, \"15\": 9}, \"8\": {\"8\": 96, \"9\": 4, \"5\": 6, \"7\": 2, \"14\": 3, \"12\": 8, \"0\": 1}, \"4\": {\"4\": 83, \"3\": 11, \"10\": 24, \"0\": 1, \"13\": 1}, \"5\": {\"8\": 20, \"9\": 7, \"12\": 50, \"5\": 41, \"0\": 2}, \"10\": {\"3\": 19, \"10\": 61, \"4\": 27, \"13\": 13}, \"1\": {\"1\": 109, \"15\": 11}, \"2\": {\"2\": 104, \"14\": 16}, \"15\": {\"6\": 22, \"15\": 69, \"1\": 26, \"12\": 1, \"5\": 2}, \"12\": {\"12\": 65, \"5\": 36, \"9\": 12, \"8\": 5, \"2\": 2}}, \"26\": {\"13\": {\"9\": 18, \"7\": 10, \"13\": 79, \"2\": 8, \"8\": 2, \"3\": 2, \"12\": 1}, \"2\": {\"2\": 40, \"9\": 13, \"8\": 16, \"7\": 20, \"10\": 5, \"3\": 3, \"13\": 13, \"15\": 9, \"0\": 1}, \"8\": {\"8\": 32, \"13\": 2, \"2\": 20, \"9\": 35, \"15\": 8, \"7\": 5, \"10\": 8, \"0\": 9, \"5\": 1}, \"9\": {\"9\": 38, \"13\": 16, \"8\": 32, \"7\": 6, \"0\": 4, \"2\": 15, \"15\": 3, \"3\": 1, \"10\": 3, \"12\": 2}, \"12\": {\"12\": 118, \"13\": 2}, \"4\": {\"4\": 114, \"3\": 6}, \"3\": {\"3\": 84, \"7\": 29, \"4\": 5, \"2\": 2}, \"15\": {\"8\": 11, \"15\": 46, \"10\": 17, \"0\": 25, \"7\": 1, \"2\": 11, \"3\": 2, \"9\": 2, \"5\": 1, \"14\": 4}, \"14\": {\"0\": 27, \"15\": 7, \"14\": 44, \"10\": 17, \"5\": 13, \"6\": 10, \"1\": 2}, \"10\": {\"14\": 20, \"15\": 13, \"6\": 6, \"2\": 2, \"10\": 26, \"0\": 24, \"8\": 10, \"1\": 5, \"12\": 1, \"9\": 5, \"5\": 8}, \"7\": {\"2\": 14, \"3\": 26, \"7\": 53, \"8\": 4, \"13\": 19, \"9\": 2, \"15\": 2}, \"11\": {\"11\": 120}, \"6\": {\"6\": 65, \"5\": 38, \"1\": 11, \"14\": 5, \"10\": 1}, \"1\": {\"10\": 3, \"1\": 84, \"6\": 9, \"5\": 20, \"14\": 4}, \"5\": {\"6\": 54, \"1\": 24, \"5\": 28, \"14\": 11, \"10\": 1, \"0\": 2}, \"0\": {\"0\": 41, \"15\": 25, \"8\": 6, \"14\": 23, \"5\": 3, \"10\": 20, \"9\": 2}}}, \"per_domain_accuracy\": {\"8\": {\"accuracy\": 0.6692708333333334, \"source?\": true}, \"50\": {\"accuracy\": 0.8520833333333333, \"source?\": true}, \"32\": {\"accuracy\": 0.7651041666666667, \"source?\": true}, \"14\": {\"accuracy\": 0.6567708333333333, \"source?\": false}, \"20\": {\"accuracy\": 0.42083333333333334, \"source?\": false}, \"44\": {\"accuracy\": 0.7916666666666666, \"source?\": false}, \"38\": {\"accuracy\": 0.6932291666666667, \"source?\": false}, \"26\": {\"accuracy\": 0.5270833333333333, \"source?\": false}}}, \"history\": {\"epoch_indices\": [1, 2, 3, 4, 5, 6, 7, 8, 9, 10, 11], \"train_label_loss\": [1.2603043615818024, 1.3167890147084282, 1.24487472815173, 1.0910832278785252, 0.7575551744018282, 0.6073634009276118, 0.551451890755977, 0.4954033544730572, 0.4614943973542679, 0.419405765441202, 0.39266772516781373], \"source_val_label_loss\": [1.6044330596923828, 1.3017498254776, 1.2124019861221313, 0.8869076371192932, 0.7490909099578857, 0.6623930335044861, 0.6214427351951599, 0.5816006064414978, 0.5893363356590271, 0.5804780125617981, 0.5931568741798401], \"target_val_label_loss\": [1.7674046754837036, 1.9343488216400146, 1.7496285438537598, 1.4822553396224976, 1.3301111459732056, 1.2513082027435303, 1.1796108484268188, 1.2181004285812378, 1.2323497533798218, 1.351269006729126, 1.3103325366973877], \"source_val_acc_label\": [0.471875, 0.4765625, 0.4888888888888889, 0.6559027777777777, 0.7279513888888889, 0.7479166666666667, 0.7621527777777778, 0.7869791666666667, 0.7814236111111111, 0.7859375, 0.7795138888888888], \"target_val_acc_label\": [0.3936458333333333, 0.38385416666666666, 0.4071875, 0.5230208333333334, 0.5758333333333333, 0.6080208333333333, 0.6179166666666667, 0.6163541666666666, 0.6229166666666667, 0.63, 0.6303125]}, \"dataset_metrics\": {\"source\": {\"train\": {\"n_unique_x\": 33600, \"n_unique_y\": 16, \"n_batch/episode\": 420}, \"val\": {\"n_unique_x\": 7200, \"n_unique_y\": 16, \"n_batch/episode\": 180}, \"test\": {\"n_unique_x\": 7200, \"n_unique_y\": 16, \"n_batch/episode\": 180}}, \"target\": {\"train\": {\"n_unique_x\": 56000, \"n_unique_y\": 16, \"n_batch/episode\": 700}, \"val\": {\"n_unique_x\": 12000, \"n_unique_y\": 16, \"n_batch/episode\": 300}, \"test\": {\"n_unique_x\": 12000, \"n_unique_y\": 16, \"n_batch/episode\": 300}}}}'"
      ]
     },
     "execution_count": 20,
     "metadata": {},
     "output_type": "execute_result"
    }
   ],
   "source": [
    "json.dumps(experiment)"
   ]
  }
 ],
 "metadata": {
  "celltoolbar": "Tags",
  "kernelspec": {
   "display_name": "Python 3 (ipykernel)",
   "language": "python",
   "name": "python3"
  },
  "language_info": {
   "codemirror_mode": {
    "name": "ipython",
    "version": 3
   },
   "file_extension": ".py",
   "mimetype": "text/x-python",
   "name": "python",
   "nbconvert_exporter": "python",
   "pygments_lexer": "ipython3",
   "version": "3.8.10"
  },
  "papermill": {
   "default_parameters": {},
   "duration": 714.713316,
   "end_time": "2022-03-04T02:39:47.447747",
   "environment_variables": {},
   "exception": null,
   "input_path": "/mnt/wd500GB/CSC500/csc500-main/csc500-notebooks/templates/ptn_template.ipynb",
   "output_path": "trial.ipynb",
   "parameters": {
    "parameters": {
     "BEST_MODEL_PATH": "./best_model.pth",
     "NUM_LOGS_PER_EPOCH": 10,
     "criteria_for_best": "target_loss",
     "dataset_seed": 12341234,
     "device": "cuda",
     "domains_source": [
      8,
      32,
      50
     ],
     "domains_target": [
      14,
      20,
      26,
      38,
      44
     ],
     "episode_transforms_source": [],
     "episode_transforms_target": [],
     "experiment_name": "dataset_seeds_oracle.run2",
     "labels_source": [
      "3123D52",
      "3123D65",
      "3123D79",
      "3123D80",
      "3123D54",
      "3123D70",
      "3123D7B",
      "3123D89",
      "3123D58",
      "3123D76",
      "3123D7D",
      "3123EFE",
      "3123D64",
      "3123D78",
      "3123D7E",
      "3124E4A"
     ],
     "labels_target": [
      "3123D52",
      "3123D65",
      "3123D79",
      "3123D80",
      "3123D54",
      "3123D70",
      "3123D7B",
      "3123D89",
      "3123D58",
      "3123D76",
      "3123D7D",
      "3123EFE",
      "3123D64",
      "3123D78",
      "3123D7E",
      "3124E4A"
     ],
     "lr": 0.001,
     "n_epoch": 50,
     "n_query": 2,
     "n_shot": 3,
     "n_way": 16,
     "num_examples_per_domain_per_label_source": 1000,
     "num_examples_per_domain_per_label_target": 1000,
     "patience": 3,
     "pickle_name": "oracle.Run2_10kExamples_stratified_ds.2022A.pkl",
     "seed": 1337,
     "test_k_factor": 2,
     "torch_default_dtype": "torch.float32",
     "train_k_factor": 1,
     "val_k_factor": 2,
     "x_net": [
      {
       "class": "nnReshape",
       "kargs": {
        "shape": [
         -1,
         1,
         2,
         256
        ]
       }
      },
      {
       "class": "Conv2d",
       "kargs": {
        "bias": false,
        "in_channels": 1,
        "kernel_size": [
         1,
         7
        ],
        "out_channels": 256,
        "padding": [
         0,
         3
        ]
       }
      },
      {
       "class": "ReLU",
       "kargs": {
        "inplace": true
       }
      },
      {
       "class": "BatchNorm2d",
       "kargs": {
        "num_features": 256
       }
      },
      {
       "class": "Conv2d",
       "kargs": {
        "bias": true,
        "in_channels": 256,
        "kernel_size": [
         2,
         7
        ],
        "out_channels": 80,
        "padding": [
         0,
         3
        ]
       }
      },
      {
       "class": "ReLU",
       "kargs": {
        "inplace": true
       }
      },
      {
       "class": "BatchNorm2d",
       "kargs": {
        "num_features": 80
       }
      },
      {
       "class": "Flatten",
       "kargs": {}
      },
      {
       "class": "Linear",
       "kargs": {
        "in_features": 20480,
        "out_features": 256
       }
      },
      {
       "class": "ReLU",
       "kargs": {
        "inplace": true
       }
      },
      {
       "class": "BatchNorm1d",
       "kargs": {
        "num_features": 256
       }
      },
      {
       "class": "Linear",
       "kargs": {
        "in_features": 256,
        "out_features": 256
       }
      }
     ],
     "x_transforms_source": [],
     "x_transforms_target": []
    }
   },
   "start_time": "2022-03-04T02:27:52.734431",
   "version": "2.3.4"
  }
 },
 "nbformat": 4,
 "nbformat_minor": 5
}