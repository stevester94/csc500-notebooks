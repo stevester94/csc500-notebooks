{
 "cells": [
  {
   "cell_type": "markdown",
   "id": "9fea5f46",
   "metadata": {
    "papermill": {
     "duration": 0.015733,
     "end_time": "2022-03-04T02:16:37.821617",
     "exception": false,
     "start_time": "2022-03-04T02:16:37.805884",
     "status": "completed"
    },
    "tags": []
   },
   "source": [
    "# PTN Template\n",
    "This notebook serves as a template for single dataset PTN experiments  \n",
    "It can be run on its own by setting STANDALONE to True (do a find for \"STANDALONE\" to see where)  \n",
    "But it is intended to be executed as part of a *papermill.py script. See any of the   \n",
    "experimentes with a papermill script to get started with that workflow.  "
   ]
  },
  {
   "cell_type": "code",
   "execution_count": 1,
   "id": "0902182a",
   "metadata": {
    "execution": {
     "iopub.execute_input": "2022-03-04T02:16:37.853442Z",
     "iopub.status.busy": "2022-03-04T02:16:37.852906Z",
     "iopub.status.idle": "2022-03-04T02:16:38.640840Z",
     "shell.execute_reply": "2022-03-04T02:16:38.641445Z"
    },
    "papermill": {
     "duration": 0.809407,
     "end_time": "2022-03-04T02:16:38.641709",
     "exception": false,
     "start_time": "2022-03-04T02:16:37.832302",
     "status": "completed"
    },
    "tags": []
   },
   "outputs": [],
   "source": [
    "%load_ext autoreload\n",
    "%autoreload 2\n",
    "%matplotlib inline\n",
    "\n",
    "    \n",
    "import os, json, sys, time, random\n",
    "import numpy as np\n",
    "import torch\n",
    "from torch.optim import Adam\n",
    "from  easydict import EasyDict\n",
    "import matplotlib.pyplot as plt\n",
    "\n",
    "from steves_models.steves_ptn import Steves_Prototypical_Network\n",
    "\n",
    "from steves_utils.lazy_iterable_wrapper import Lazy_Iterable_Wrapper\n",
    "from steves_utils.iterable_aggregator import Iterable_Aggregator\n",
    "from steves_utils.ptn_train_eval_test_jig import  PTN_Train_Eval_Test_Jig\n",
    "from steves_utils.torch_sequential_builder import build_sequential\n",
    "from steves_utils.torch_utils import get_dataset_metrics, ptn_confusion_by_domain_over_dataloader\n",
    "from steves_utils.utils_v2 import (per_domain_accuracy_from_confusion, get_datasets_base_path)\n",
    "from steves_utils.PTN.utils import independent_accuracy_assesment\n",
    "\n",
    "from steves_utils.stratified_dataset.episodic_accessor import Episodic_Accessor_Factory\n",
    "\n",
    "from steves_utils.ptn_do_report import (\n",
    "    get_loss_curve,\n",
    "    get_results_table,\n",
    "    get_parameters_table,\n",
    "    get_domain_accuracies,\n",
    ")\n",
    "\n",
    "from steves_utils.transforms import get_chained_transform"
   ]
  },
  {
   "cell_type": "markdown",
   "id": "41c840b4",
   "metadata": {
    "papermill": {
     "duration": 0.009494,
     "end_time": "2022-03-04T02:16:38.665923",
     "exception": false,
     "start_time": "2022-03-04T02:16:38.656429",
     "status": "completed"
    },
    "tags": []
   },
   "source": [
    "# Required Parameters\n",
    "These are allowed parameters, not defaults\n",
    "Each of these values need to be present in the injected parameters (the notebook will raise an exception if they are not present)\n",
    "\n",
    "Papermill uses the cell tag \"parameters\" to inject the real parameters below this cell.\n",
    "Enable tags to see what I mean"
   ]
  },
  {
   "cell_type": "code",
   "execution_count": 2,
   "id": "fd44eb83",
   "metadata": {
    "execution": {
     "iopub.execute_input": "2022-03-04T02:16:38.688318Z",
     "iopub.status.busy": "2022-03-04T02:16:38.688040Z",
     "iopub.status.idle": "2022-03-04T02:16:38.700246Z",
     "shell.execute_reply": "2022-03-04T02:16:38.700522Z"
    },
    "papermill": {
     "duration": 0.025343,
     "end_time": "2022-03-04T02:16:38.700615",
     "exception": false,
     "start_time": "2022-03-04T02:16:38.675272",
     "status": "completed"
    },
    "tags": []
   },
   "outputs": [],
   "source": [
    "required_parameters = {\n",
    "    \"experiment_name\",\n",
    "    \"lr\",\n",
    "    \"device\",\n",
    "    \"seed\",\n",
    "    \"dataset_seed\",\n",
    "    \"labels_source\",\n",
    "    \"labels_target\",\n",
    "    \"domains_source\",\n",
    "    \"domains_target\",\n",
    "    \"num_examples_per_domain_per_label_source\",\n",
    "    \"num_examples_per_domain_per_label_target\",\n",
    "    \"n_shot\",\n",
    "    \"n_way\",\n",
    "    \"n_query\",\n",
    "    \"train_k_factor\",\n",
    "    \"val_k_factor\",\n",
    "    \"test_k_factor\",\n",
    "    \"n_epoch\",\n",
    "    \"patience\",\n",
    "    \"criteria_for_best\",\n",
    "    \"x_transforms_source\",\n",
    "    \"x_transforms_target\",\n",
    "    \"episode_transforms_source\",\n",
    "    \"episode_transforms_target\",\n",
    "    \"pickle_name\",\n",
    "    \"x_net\",\n",
    "    \"NUM_LOGS_PER_EPOCH\",\n",
    "    \"BEST_MODEL_PATH\",\n",
    "    \"torch_default_dtype\"\n",
    "}"
   ]
  },
  {
   "cell_type": "code",
   "execution_count": 3,
   "id": "fa3f0049",
   "metadata": {
    "execution": {
     "iopub.execute_input": "2022-03-04T02:16:38.731079Z",
     "iopub.status.busy": "2022-03-04T02:16:38.730781Z",
     "iopub.status.idle": "2022-03-04T02:16:38.743692Z",
     "shell.execute_reply": "2022-03-04T02:16:38.743230Z"
    },
    "papermill": {
     "duration": 0.028414,
     "end_time": "2022-03-04T02:16:38.743800",
     "exception": false,
     "start_time": "2022-03-04T02:16:38.715386",
     "status": "completed"
    },
    "tags": [
     "parameters"
    ]
   },
   "outputs": [],
   "source": [
    "\n",
    "\n",
    "standalone_parameters = {}\n",
    "standalone_parameters[\"experiment_name\"] = \"STANDALONE PTN\"\n",
    "standalone_parameters[\"lr\"] = 0.0001\n",
    "standalone_parameters[\"device\"] = \"cuda\"\n",
    "\n",
    "standalone_parameters[\"seed\"] = 1337\n",
    "standalone_parameters[\"dataset_seed\"] = 1337\n",
    "\n",
    "\n",
    "standalone_parameters[\"num_examples_per_domain_per_label_source\"]=100\n",
    "standalone_parameters[\"num_examples_per_domain_per_label_target\"]=100\n",
    "\n",
    "standalone_parameters[\"n_shot\"] = 3\n",
    "standalone_parameters[\"n_query\"]  = 2\n",
    "standalone_parameters[\"train_k_factor\"] = 1\n",
    "standalone_parameters[\"val_k_factor\"] = 2\n",
    "standalone_parameters[\"test_k_factor\"] = 2\n",
    "\n",
    "\n",
    "standalone_parameters[\"n_epoch\"] = 100\n",
    "\n",
    "standalone_parameters[\"patience\"] = 10\n",
    "standalone_parameters[\"criteria_for_best\"] = \"target_accuracy\"\n",
    "\n",
    "standalone_parameters[\"x_transforms_source\"] = [\"unit_power\"]\n",
    "standalone_parameters[\"x_transforms_target\"] = [\"unit_power\"]\n",
    "standalone_parameters[\"episode_transforms_source\"] = []\n",
    "standalone_parameters[\"episode_transforms_target\"] = []\n",
    "\n",
    "standalone_parameters[\"torch_default_dtype\"] = \"torch.float32\" \n",
    "\n",
    "\n",
    "\n",
    "standalone_parameters[\"x_net\"] =     [\n",
    "    {\"class\": \"nnReshape\", \"kargs\": {\"shape\":[-1, 1, 2, 256]}},\n",
    "    {\"class\": \"Conv2d\", \"kargs\": { \"in_channels\":1, \"out_channels\":256, \"kernel_size\":(1,7), \"bias\":False, \"padding\":(0,3), },},\n",
    "    {\"class\": \"ReLU\", \"kargs\": {\"inplace\": True}},\n",
    "    {\"class\": \"BatchNorm2d\", \"kargs\": {\"num_features\":256}},\n",
    "\n",
    "    {\"class\": \"Conv2d\", \"kargs\": { \"in_channels\":256, \"out_channels\":80, \"kernel_size\":(2,7), \"bias\":True, \"padding\":(0,3), },},\n",
    "    {\"class\": \"ReLU\", \"kargs\": {\"inplace\": True}},\n",
    "    {\"class\": \"BatchNorm2d\", \"kargs\": {\"num_features\":80}},\n",
    "    {\"class\": \"Flatten\", \"kargs\": {}},\n",
    "\n",
    "    {\"class\": \"Linear\", \"kargs\": {\"in_features\": 80*256, \"out_features\": 256}}, # 80 units per IQ pair\n",
    "    {\"class\": \"ReLU\", \"kargs\": {\"inplace\": True}},\n",
    "    {\"class\": \"BatchNorm1d\", \"kargs\": {\"num_features\":256}},\n",
    "\n",
    "    {\"class\": \"Linear\", \"kargs\": {\"in_features\": 256, \"out_features\": 256}},\n",
    "]\n",
    "\n",
    "# Parameters relevant to results\n",
    "# These parameters will basically never need to change\n",
    "standalone_parameters[\"NUM_LOGS_PER_EPOCH\"] = 10\n",
    "standalone_parameters[\"BEST_MODEL_PATH\"] = \"./best_model.pth\"\n",
    "\n",
    "# uncomment for CORES dataset\n",
    "from steves_utils.CORES.utils import (\n",
    "    ALL_NODES,\n",
    "    ALL_NODES_MINIMUM_1000_EXAMPLES,\n",
    "    ALL_DAYS\n",
    ")\n",
    "\n",
    "\n",
    "standalone_parameters[\"labels_source\"] = ALL_NODES\n",
    "standalone_parameters[\"labels_target\"] = ALL_NODES\n",
    "\n",
    "standalone_parameters[\"domains_source\"] = [1]\n",
    "standalone_parameters[\"domains_target\"] = [2,3,4,5]\n",
    "\n",
    "standalone_parameters[\"pickle_name\"] = \"cores.stratified_ds.2022A.pkl\"\n",
    "\n",
    "\n",
    "# Uncomment these for ORACLE dataset\n",
    "# from steves_utils.ORACLE.utils_v2 import (\n",
    "#     ALL_DISTANCES_FEET,\n",
    "#     ALL_RUNS,\n",
    "#     ALL_SERIAL_NUMBERS,\n",
    "# )\n",
    "# standalone_parameters[\"labels_source\"] = ALL_SERIAL_NUMBERS\n",
    "# standalone_parameters[\"labels_target\"] = ALL_SERIAL_NUMBERS\n",
    "# standalone_parameters[\"domains_source\"] = [8,20, 38,50]\n",
    "# standalone_parameters[\"domains_target\"] = [14, 26, 32, 44, 56]\n",
    "# standalone_parameters[\"pickle_name\"] = \"oracle.frame_indexed.stratified_ds.2022A.pkl\"\n",
    "# standalone_parameters[\"num_examples_per_domain_per_label_source\"]=1000\n",
    "# standalone_parameters[\"num_examples_per_domain_per_label_target\"]=1000\n",
    "\n",
    "# Uncomment these for Metahan dataset\n",
    "# standalone_parameters[\"labels_source\"] = list(range(19))\n",
    "# standalone_parameters[\"labels_target\"] = list(range(19))\n",
    "# standalone_parameters[\"domains_source\"] = [0]\n",
    "# standalone_parameters[\"domains_target\"] = [1]\n",
    "# standalone_parameters[\"pickle_name\"] = \"metehan.stratified_ds.2022A.pkl\"\n",
    "# standalone_parameters[\"n_way\"]  = len(standalone_parameters[\"labels_source\"])\n",
    "# standalone_parameters[\"num_examples_per_domain_per_label_source\"]=200\n",
    "# standalone_parameters[\"num_examples_per_domain_per_label_target\"]=100\n",
    "\n",
    "\n",
    "standalone_parameters[\"n_way\"]  = len(standalone_parameters[\"labels_source\"])"
   ]
  },
  {
   "cell_type": "code",
   "execution_count": 4,
   "id": "036b371c",
   "metadata": {
    "execution": {
     "iopub.execute_input": "2022-03-04T02:16:38.771664Z",
     "iopub.status.busy": "2022-03-04T02:16:38.771383Z",
     "iopub.status.idle": "2022-03-04T02:16:38.781302Z",
     "shell.execute_reply": "2022-03-04T02:16:38.781036Z"
    },
    "papermill": {
     "duration": 0.024015,
     "end_time": "2022-03-04T02:16:38.781406",
     "exception": false,
     "start_time": "2022-03-04T02:16:38.757391",
     "status": "completed"
    },
    "tags": [
     "injected-parameters"
    ]
   },
   "outputs": [],
   "source": [
    "# Parameters\n",
    "parameters = {\n",
    "    \"experiment_name\": \"dataset_seeds_oracle.run2\",\n",
    "    \"lr\": 0.001,\n",
    "    \"device\": \"cuda\",\n",
    "    \"seed\": 1337,\n",
    "    \"dataset_seed\": 1984,\n",
    "    \"labels_source\": [\n",
    "        \"3123D52\",\n",
    "        \"3123D65\",\n",
    "        \"3123D79\",\n",
    "        \"3123D80\",\n",
    "        \"3123D54\",\n",
    "        \"3123D70\",\n",
    "        \"3123D7B\",\n",
    "        \"3123D89\",\n",
    "        \"3123D58\",\n",
    "        \"3123D76\",\n",
    "        \"3123D7D\",\n",
    "        \"3123EFE\",\n",
    "        \"3123D64\",\n",
    "        \"3123D78\",\n",
    "        \"3123D7E\",\n",
    "        \"3124E4A\",\n",
    "    ],\n",
    "    \"labels_target\": [\n",
    "        \"3123D52\",\n",
    "        \"3123D65\",\n",
    "        \"3123D79\",\n",
    "        \"3123D80\",\n",
    "        \"3123D54\",\n",
    "        \"3123D70\",\n",
    "        \"3123D7B\",\n",
    "        \"3123D89\",\n",
    "        \"3123D58\",\n",
    "        \"3123D76\",\n",
    "        \"3123D7D\",\n",
    "        \"3123EFE\",\n",
    "        \"3123D64\",\n",
    "        \"3123D78\",\n",
    "        \"3123D7E\",\n",
    "        \"3124E4A\",\n",
    "    ],\n",
    "    \"x_transforms_source\": [],\n",
    "    \"x_transforms_target\": [],\n",
    "    \"episode_transforms_source\": [],\n",
    "    \"episode_transforms_target\": [],\n",
    "    \"num_examples_per_domain_per_label_source\": 1000,\n",
    "    \"num_examples_per_domain_per_label_target\": 1000,\n",
    "    \"n_shot\": 3,\n",
    "    \"n_way\": 16,\n",
    "    \"n_query\": 2,\n",
    "    \"train_k_factor\": 1,\n",
    "    \"val_k_factor\": 2,\n",
    "    \"test_k_factor\": 2,\n",
    "    \"torch_default_dtype\": \"torch.float32\",\n",
    "    \"n_epoch\": 50,\n",
    "    \"patience\": 3,\n",
    "    \"criteria_for_best\": \"target_loss\",\n",
    "    \"x_net\": [\n",
    "        {\"class\": \"nnReshape\", \"kargs\": {\"shape\": [-1, 1, 2, 256]}},\n",
    "        {\n",
    "            \"class\": \"Conv2d\",\n",
    "            \"kargs\": {\n",
    "                \"in_channels\": 1,\n",
    "                \"out_channels\": 256,\n",
    "                \"kernel_size\": [1, 7],\n",
    "                \"bias\": False,\n",
    "                \"padding\": [0, 3],\n",
    "            },\n",
    "        },\n",
    "        {\"class\": \"ReLU\", \"kargs\": {\"inplace\": True}},\n",
    "        {\"class\": \"BatchNorm2d\", \"kargs\": {\"num_features\": 256}},\n",
    "        {\n",
    "            \"class\": \"Conv2d\",\n",
    "            \"kargs\": {\n",
    "                \"in_channels\": 256,\n",
    "                \"out_channels\": 80,\n",
    "                \"kernel_size\": [2, 7],\n",
    "                \"bias\": True,\n",
    "                \"padding\": [0, 3],\n",
    "            },\n",
    "        },\n",
    "        {\"class\": \"ReLU\", \"kargs\": {\"inplace\": True}},\n",
    "        {\"class\": \"BatchNorm2d\", \"kargs\": {\"num_features\": 80}},\n",
    "        {\"class\": \"Flatten\", \"kargs\": {}},\n",
    "        {\"class\": \"Linear\", \"kargs\": {\"in_features\": 20480, \"out_features\": 256}},\n",
    "        {\"class\": \"ReLU\", \"kargs\": {\"inplace\": True}},\n",
    "        {\"class\": \"BatchNorm1d\", \"kargs\": {\"num_features\": 256}},\n",
    "        {\"class\": \"Linear\", \"kargs\": {\"in_features\": 256, \"out_features\": 256}},\n",
    "    ],\n",
    "    \"NUM_LOGS_PER_EPOCH\": 10,\n",
    "    \"BEST_MODEL_PATH\": \"./best_model.pth\",\n",
    "    \"pickle_name\": \"oracle.Run2_10kExamples_stratified_ds.2022A.pkl\",\n",
    "    \"domains_source\": [8, 32, 50],\n",
    "    \"domains_target\": [14, 20, 26, 38, 44],\n",
    "}\n"
   ]
  },
  {
   "cell_type": "code",
   "execution_count": 5,
   "id": "8fa1cc33",
   "metadata": {
    "execution": {
     "iopub.execute_input": "2022-03-04T02:16:38.808170Z",
     "iopub.status.busy": "2022-03-04T02:16:38.807914Z",
     "iopub.status.idle": "2022-03-04T02:16:38.817028Z",
     "shell.execute_reply": "2022-03-04T02:16:38.816662Z"
    },
    "papermill": {
     "duration": 0.021167,
     "end_time": "2022-03-04T02:16:38.817101",
     "exception": false,
     "start_time": "2022-03-04T02:16:38.795934",
     "status": "completed"
    },
    "tags": []
   },
   "outputs": [],
   "source": [
    "# Set this to True if you want to run this template directly\n",
    "STANDALONE = False\n",
    "if STANDALONE:\n",
    "    print(\"parameters not injected, running with standalone_parameters\")\n",
    "    parameters = standalone_parameters\n",
    "\n",
    "if not 'parameters' in locals() and not 'parameters' in globals():\n",
    "    raise Exception(\"Parameter injection failed\")\n",
    "\n",
    "#Use an easy dict for all the parameters\n",
    "p = EasyDict(parameters)\n",
    "\n",
    "supplied_keys = set(p.keys())\n",
    "\n",
    "if  supplied_keys != required_parameters:\n",
    "    print(\"Parameters are incorrect\")\n",
    "    if len(supplied_keys - required_parameters)>0: print(\"Shouldn't have:\", str(supplied_keys - required_parameters))\n",
    "    if len(required_parameters - supplied_keys)>0: print(\"Need to have:\", str(required_parameters - supplied_keys))\n",
    "    raise RuntimeError(\"Parameters are incorrect\")\n",
    "\n"
   ]
  },
  {
   "cell_type": "code",
   "execution_count": 6,
   "id": "3a028d58",
   "metadata": {
    "execution": {
     "iopub.execute_input": "2022-03-04T02:16:38.840935Z",
     "iopub.status.busy": "2022-03-04T02:16:38.840677Z",
     "iopub.status.idle": "2022-03-04T02:16:38.849151Z",
     "shell.execute_reply": "2022-03-04T02:16:38.849360Z"
    },
    "papermill": {
     "duration": 0.020239,
     "end_time": "2022-03-04T02:16:38.849426",
     "exception": false,
     "start_time": "2022-03-04T02:16:38.829187",
     "status": "completed"
    },
    "tags": []
   },
   "outputs": [],
   "source": [
    "###################################\n",
    "# Set the RNGs and make it all deterministic\n",
    "###################################\n",
    "np.random.seed(p.seed)\n",
    "random.seed(p.seed)\n",
    "torch.manual_seed(p.seed)\n",
    "\n",
    "torch.use_deterministic_algorithms(True) "
   ]
  },
  {
   "cell_type": "code",
   "execution_count": 7,
   "id": "b691acf6",
   "metadata": {
    "execution": {
     "iopub.execute_input": "2022-03-04T02:16:38.876001Z",
     "iopub.status.busy": "2022-03-04T02:16:38.875366Z",
     "iopub.status.idle": "2022-03-04T02:16:38.890447Z",
     "shell.execute_reply": "2022-03-04T02:16:38.889934Z"
    },
    "papermill": {
     "duration": 0.029509,
     "end_time": "2022-03-04T02:16:38.890555",
     "exception": false,
     "start_time": "2022-03-04T02:16:38.861046",
     "status": "completed"
    },
    "tags": []
   },
   "outputs": [],
   "source": [
    "###########################################\n",
    "# The stratified datasets honor this\n",
    "###########################################\n",
    "torch.set_default_dtype(eval(p.torch_default_dtype))"
   ]
  },
  {
   "cell_type": "code",
   "execution_count": 8,
   "id": "b5fba671",
   "metadata": {
    "execution": {
     "iopub.execute_input": "2022-03-04T02:16:38.917005Z",
     "iopub.status.busy": "2022-03-04T02:16:38.916647Z",
     "iopub.status.idle": "2022-03-04T02:16:38.962366Z",
     "shell.execute_reply": "2022-03-04T02:16:38.962661Z"
    },
    "papermill": {
     "duration": 0.058135,
     "end_time": "2022-03-04T02:16:38.962786",
     "exception": false,
     "start_time": "2022-03-04T02:16:38.904651",
     "status": "completed"
    },
    "tags": []
   },
   "outputs": [],
   "source": [
    "###################################\n",
    "# Build the network(s)\n",
    "# Note: It's critical to do this AFTER setting the RNG\n",
    "# (This is due to the randomized initial weights)\n",
    "###################################\n",
    "x_net = build_sequential(p.x_net)"
   ]
  },
  {
   "cell_type": "code",
   "execution_count": 9,
   "id": "5d7e61cc",
   "metadata": {
    "execution": {
     "iopub.execute_input": "2022-03-04T02:16:38.991598Z",
     "iopub.status.busy": "2022-03-04T02:16:38.991195Z",
     "iopub.status.idle": "2022-03-04T02:16:39.000099Z",
     "shell.execute_reply": "2022-03-04T02:16:39.000435Z"
    },
    "papermill": {
     "duration": 0.02593,
     "end_time": "2022-03-04T02:16:39.000528",
     "exception": false,
     "start_time": "2022-03-04T02:16:38.974598",
     "status": "completed"
    },
    "tags": []
   },
   "outputs": [],
   "source": [
    "start_time_secs = time.time()"
   ]
  },
  {
   "cell_type": "code",
   "execution_count": 10,
   "id": "fd5442bc",
   "metadata": {
    "execution": {
     "iopub.execute_input": "2022-03-04T02:16:39.035371Z",
     "iopub.status.busy": "2022-03-04T02:16:39.034192Z",
     "iopub.status.idle": "2022-03-04T02:16:42.171082Z",
     "shell.execute_reply": "2022-03-04T02:16:42.171302Z"
    },
    "papermill": {
     "duration": 3.154044,
     "end_time": "2022-03-04T02:16:42.171383",
     "exception": false,
     "start_time": "2022-03-04T02:16:39.017339",
     "status": "completed"
    },
    "tags": []
   },
   "outputs": [],
   "source": [
    "###################################\n",
    "# Build the dataset\n",
    "###################################\n",
    "\n",
    "if p.x_transforms_source == []: x_transform_source = None\n",
    "else: x_transform_source = get_chained_transform(p.x_transforms_source) \n",
    "\n",
    "if p.x_transforms_target == []: x_transform_target = None\n",
    "else: x_transform_target = get_chained_transform(p.x_transforms_target)\n",
    "\n",
    "if p.episode_transforms_source == []: episode_transform_source = None\n",
    "else: raise Exception(\"episode_transform_source not implemented\")\n",
    "\n",
    "if p.episode_transforms_target == []: episode_transform_target = None\n",
    "else: raise Exception(\"episode_transform_target not implemented\")\n",
    "\n",
    "\n",
    "eaf_source = Episodic_Accessor_Factory(\n",
    "    labels=p.labels_source,\n",
    "    domains=p.domains_source,\n",
    "    num_examples_per_domain_per_label=p.num_examples_per_domain_per_label_source,\n",
    "    iterator_seed=p.seed,\n",
    "    dataset_seed=p.dataset_seed,\n",
    "    n_shot=p.n_shot,\n",
    "    n_way=p.n_way,\n",
    "    n_query=p.n_query,\n",
    "    train_val_test_k_factors=(p.train_k_factor,p.val_k_factor,p.test_k_factor),\n",
    "    pickle_path=os.path.join(get_datasets_base_path(), p.pickle_name),\n",
    "    x_transform_func=x_transform_source,\n",
    "    example_transform_func=episode_transform_source,\n",
    "    \n",
    ")\n",
    "train_original_source, val_original_source, test_original_source = eaf_source.get_train(), eaf_source.get_val(), eaf_source.get_test()\n",
    "\n",
    "\n",
    "eaf_target = Episodic_Accessor_Factory(\n",
    "    labels=p.labels_target,\n",
    "    domains=p.domains_target,\n",
    "    num_examples_per_domain_per_label=p.num_examples_per_domain_per_label_target,\n",
    "    iterator_seed=p.seed,\n",
    "    dataset_seed=p.dataset_seed,\n",
    "    n_shot=p.n_shot,\n",
    "    n_way=p.n_way,\n",
    "    n_query=p.n_query,\n",
    "    train_val_test_k_factors=(p.train_k_factor,p.val_k_factor,p.test_k_factor),\n",
    "    pickle_path=os.path.join(get_datasets_base_path(), p.pickle_name),\n",
    "    x_transform_func=x_transform_target,\n",
    "    example_transform_func=episode_transform_target,\n",
    ")\n",
    "train_original_target, val_original_target, test_original_target = eaf_target.get_train(), eaf_target.get_val(), eaf_target.get_test()\n",
    "\n",
    "\n",
    "transform_lambda = lambda ex: ex[1] # Original is (<domain>, <episode>) so we strip down to episode only\n",
    "\n",
    "train_processed_source = Lazy_Iterable_Wrapper(train_original_source, transform_lambda)\n",
    "val_processed_source   = Lazy_Iterable_Wrapper(val_original_source, transform_lambda)\n",
    "test_processed_source  = Lazy_Iterable_Wrapper(test_original_source, transform_lambda)\n",
    "\n",
    "train_processed_target = Lazy_Iterable_Wrapper(train_original_target, transform_lambda)\n",
    "val_processed_target   = Lazy_Iterable_Wrapper(val_original_target, transform_lambda)\n",
    "test_processed_target  = Lazy_Iterable_Wrapper(test_original_target, transform_lambda)\n",
    "\n",
    "datasets = EasyDict({\n",
    "    \"source\": {\n",
    "        \"original\": {\"train\":train_original_source, \"val\":val_original_source, \"test\":test_original_source},\n",
    "        \"processed\": {\"train\":train_processed_source, \"val\":val_processed_source, \"test\":test_processed_source}\n",
    "    },\n",
    "    \"target\": {\n",
    "        \"original\": {\"train\":train_original_target, \"val\":val_original_target, \"test\":test_original_target},\n",
    "        \"processed\": {\"train\":train_processed_target, \"val\":val_processed_target, \"test\":test_processed_target}\n",
    "    },\n",
    "})"
   ]
  },
  {
   "cell_type": "code",
   "execution_count": 11,
   "id": "296189d9",
   "metadata": {
    "execution": {
     "iopub.execute_input": "2022-03-04T02:16:42.194411Z",
     "iopub.status.busy": "2022-03-04T02:16:42.194150Z",
     "iopub.status.idle": "2022-03-04T02:16:44.960735Z",
     "shell.execute_reply": "2022-03-04T02:16:44.960491Z"
    },
    "papermill": {
     "duration": 2.779292,
     "end_time": "2022-03-04T02:16:44.960800",
     "exception": false,
     "start_time": "2022-03-04T02:16:42.181508",
     "status": "completed"
    },
    "tags": []
   },
   "outputs": [
    {
     "name": "stdout",
     "output_type": "stream",
     "text": [
      "Visually inspect these to see if they line up with expected values given the transforms\n",
      "x_transforms_source []\n",
      "x_transforms_target []\n",
      "Average magnitude, source: 0.0047975658\n",
      "Average power, source: 2.8940221e-05\n"
     ]
    },
    {
     "name": "stdout",
     "output_type": "stream",
     "text": [
      "Average magnitude, target: 0.00298539\n",
      "Average power, target: 1.1229129e-05\n"
     ]
    }
   ],
   "source": [
    "# Some quick unit tests on the data\n",
    "from steves_utils.transforms import get_average_power, get_average_magnitude\n",
    "\n",
    "q_x, q_y, s_x, s_y, truth = next(iter(train_processed_source))\n",
    "\n",
    "assert q_x.dtype == eval(p.torch_default_dtype)\n",
    "assert s_x.dtype == eval(p.torch_default_dtype)\n",
    "\n",
    "print(\"Visually inspect these to see if they line up with expected values given the transforms\")\n",
    "print('x_transforms_source', p.x_transforms_source)\n",
    "print('x_transforms_target', p.x_transforms_target)\n",
    "print(\"Average magnitude, source:\", get_average_magnitude(q_x[0].numpy()))\n",
    "print(\"Average power, source:\", get_average_power(q_x[0].numpy()))\n",
    "\n",
    "q_x, q_y, s_x, s_y, truth = next(iter(train_processed_target))\n",
    "print(\"Average magnitude, target:\", get_average_magnitude(q_x[0].numpy()))\n",
    "print(\"Average power, target:\", get_average_power(q_x[0].numpy()))\n"
   ]
  },
  {
   "cell_type": "code",
   "execution_count": 12,
   "id": "bbdacba1",
   "metadata": {
    "execution": {
     "iopub.execute_input": "2022-03-04T02:16:44.985370Z",
     "iopub.status.busy": "2022-03-04T02:16:44.984817Z",
     "iopub.status.idle": "2022-03-04T02:16:45.041775Z",
     "shell.execute_reply": "2022-03-04T02:16:45.041990Z"
    },
    "papermill": {
     "duration": 0.070342,
     "end_time": "2022-03-04T02:16:45.042071",
     "exception": false,
     "start_time": "2022-03-04T02:16:44.971729",
     "status": "completed"
    },
    "tags": []
   },
   "outputs": [
    {
     "name": "stdout",
     "output_type": "stream",
     "text": [
      "(2, 256)\n"
     ]
    }
   ],
   "source": [
    "###################################\n",
    "# Build the model\n",
    "###################################\n",
    "model = Steves_Prototypical_Network(x_net, device=p.device, x_shape=(2,256))\n",
    "optimizer = Adam(params=model.parameters(), lr=p.lr)"
   ]
  },
  {
   "cell_type": "code",
   "execution_count": 13,
   "id": "22b39ac5",
   "metadata": {
    "execution": {
     "iopub.execute_input": "2022-03-04T02:16:45.066205Z",
     "iopub.status.busy": "2022-03-04T02:16:45.065797Z",
     "iopub.status.idle": "2022-03-04T02:26:19.280163Z",
     "shell.execute_reply": "2022-03-04T02:26:19.279924Z"
    },
    "papermill": {
     "duration": 574.227317,
     "end_time": "2022-03-04T02:26:19.280220",
     "exception": false,
     "start_time": "2022-03-04T02:16:45.052903",
     "status": "completed"
    },
    "tags": []
   },
   "outputs": [
    {
     "name": "stdout",
     "output_type": "stream",
     "text": [
      "epoch: 1, [batch: 1 / 420], examples_per_second: 9.5637, train_label_loss: 2.3329, \n"
     ]
    },
    {
     "name": "stdout",
     "output_type": "stream",
     "text": [
      "epoch: 1, [batch: 42 / 420], examples_per_second: 853.5589, train_label_loss: 1.4776, \n"
     ]
    },
    {
     "name": "stdout",
     "output_type": "stream",
     "text": [
      "epoch: 1, [batch: 84 / 420], examples_per_second: 923.9865, train_label_loss: 1.5889, \n"
     ]
    },
    {
     "name": "stdout",
     "output_type": "stream",
     "text": [
      "epoch: 1, [batch: 126 / 420], examples_per_second: 976.4557, train_label_loss: 1.4104, \n"
     ]
    },
    {
     "name": "stdout",
     "output_type": "stream",
     "text": [
      "epoch: 1, [batch: 168 / 420], examples_per_second: 1041.9884, train_label_loss: 1.3058, \n"
     ]
    },
    {
     "name": "stdout",
     "output_type": "stream",
     "text": [
      "epoch: 1, [batch: 210 / 420], examples_per_second: 1106.1745, train_label_loss: 1.4056, \n"
     ]
    },
    {
     "name": "stdout",
     "output_type": "stream",
     "text": [
      "epoch: 1, [batch: 252 / 420], examples_per_second: 1287.8476, train_label_loss: 1.2126, \n"
     ]
    },
    {
     "name": "stdout",
     "output_type": "stream",
     "text": [
      "epoch: 1, [batch: 294 / 420], examples_per_second: 1383.2753, train_label_loss: 0.9959, \n"
     ]
    },
    {
     "name": "stdout",
     "output_type": "stream",
     "text": [
      "epoch: 1, [batch: 336 / 420], examples_per_second: 1576.6250, train_label_loss: 1.1812, \n"
     ]
    },
    {
     "name": "stdout",
     "output_type": "stream",
     "text": [
      "epoch: 1, [batch: 378 / 420], examples_per_second: 1847.6538, train_label_loss: 1.0908, \n"
     ]
    },
    {
     "name": "stdout",
     "output_type": "stream",
     "text": [
      "=============================================================\n",
      "epoch: 1, source_val_acc_label: 0.4681, target_val_acc_label: 0.3960, source_val_label_loss: 1.6664, target_val_label_loss: 1.7517, \n",
      "=============================================================\n"
     ]
    },
    {
     "name": "stdout",
     "output_type": "stream",
     "text": [
      "New best\n"
     ]
    },
    {
     "name": "stdout",
     "output_type": "stream",
     "text": [
      "epoch: 2, [batch: 1 / 420], examples_per_second: 5.0118, train_label_loss: 1.4351, \n"
     ]
    },
    {
     "name": "stdout",
     "output_type": "stream",
     "text": [
      "epoch: 2, [batch: 42 / 420], examples_per_second: 840.4006, train_label_loss: 1.3851, \n"
     ]
    },
    {
     "name": "stdout",
     "output_type": "stream",
     "text": [
      "epoch: 2, [batch: 84 / 420], examples_per_second: 926.9568, train_label_loss: 1.6949, \n"
     ]
    },
    {
     "name": "stdout",
     "output_type": "stream",
     "text": [
      "epoch: 2, [batch: 126 / 420], examples_per_second: 1015.8832, train_label_loss: 1.0853, \n"
     ]
    },
    {
     "name": "stdout",
     "output_type": "stream",
     "text": [
      "epoch: 2, [batch: 168 / 420], examples_per_second: 1033.3636, train_label_loss: 2.1739, \n"
     ]
    },
    {
     "name": "stdout",
     "output_type": "stream",
     "text": [
      "epoch: 2, [batch: 210 / 420], examples_per_second: 1131.0097, train_label_loss: 1.2721, \n"
     ]
    },
    {
     "name": "stdout",
     "output_type": "stream",
     "text": [
      "epoch: 2, [batch: 252 / 420], examples_per_second: 1231.4589, train_label_loss: 1.2071, \n"
     ]
    },
    {
     "name": "stdout",
     "output_type": "stream",
     "text": [
      "epoch: 2, [batch: 294 / 420], examples_per_second: 1427.2929, train_label_loss: 1.2574, \n"
     ]
    },
    {
     "name": "stdout",
     "output_type": "stream",
     "text": [
      "epoch: 2, [batch: 336 / 420], examples_per_second: 1622.5144, train_label_loss: 1.3949, \n"
     ]
    },
    {
     "name": "stdout",
     "output_type": "stream",
     "text": [
      "epoch: 2, [batch: 378 / 420], examples_per_second: 1895.2875, train_label_loss: 1.3760, \n"
     ]
    },
    {
     "name": "stdout",
     "output_type": "stream",
     "text": [
      "=============================================================\n",
      "epoch: 2, source_val_acc_label: 0.4877, target_val_acc_label: 0.3925, source_val_label_loss: 1.3236, target_val_label_loss: 1.8790, \n",
      "=============================================================\n"
     ]
    },
    {
     "name": "stdout",
     "output_type": "stream",
     "text": [
      "epoch: 3, [batch: 1 / 420], examples_per_second: 4.9737, train_label_loss: 1.6219, \n"
     ]
    },
    {
     "name": "stdout",
     "output_type": "stream",
     "text": [
      "epoch: 3, [batch: 42 / 420], examples_per_second: 835.3098, train_label_loss: 1.0821, \n"
     ]
    },
    {
     "name": "stdout",
     "output_type": "stream",
     "text": [
      "epoch: 3, [batch: 84 / 420], examples_per_second: 917.8581, train_label_loss: 1.3124, \n"
     ]
    },
    {
     "name": "stdout",
     "output_type": "stream",
     "text": [
      "epoch: 3, [batch: 126 / 420], examples_per_second: 989.9754, train_label_loss: 1.2181, \n"
     ]
    },
    {
     "name": "stdout",
     "output_type": "stream",
     "text": [
      "epoch: 3, [batch: 168 / 420], examples_per_second: 1035.7856, train_label_loss: 1.3097, \n"
     ]
    },
    {
     "name": "stdout",
     "output_type": "stream",
     "text": [
      "epoch: 3, [batch: 210 / 420], examples_per_second: 1104.0026, train_label_loss: 1.2078, \n"
     ]
    },
    {
     "name": "stdout",
     "output_type": "stream",
     "text": [
      "epoch: 3, [batch: 252 / 420], examples_per_second: 1232.8596, train_label_loss: 1.2004, \n"
     ]
    },
    {
     "name": "stdout",
     "output_type": "stream",
     "text": [
      "epoch: 3, [batch: 294 / 420], examples_per_second: 1403.9562, train_label_loss: 1.3623, \n"
     ]
    },
    {
     "name": "stdout",
     "output_type": "stream",
     "text": [
      "epoch: 3, [batch: 336 / 420], examples_per_second: 1612.0116, train_label_loss: 1.3022, \n"
     ]
    },
    {
     "name": "stdout",
     "output_type": "stream",
     "text": [
      "epoch: 3, [batch: 378 / 420], examples_per_second: 1855.4552, train_label_loss: 0.6008, \n"
     ]
    },
    {
     "name": "stdout",
     "output_type": "stream",
     "text": [
      "=============================================================\n",
      "epoch: 3, source_val_acc_label: 0.6503, target_val_acc_label: 0.5210, source_val_label_loss: 0.9065, target_val_label_loss: 1.4852, \n",
      "=============================================================\n"
     ]
    },
    {
     "name": "stdout",
     "output_type": "stream",
     "text": [
      "New best\n"
     ]
    },
    {
     "name": "stdout",
     "output_type": "stream",
     "text": [
      "epoch: 4, [batch: 1 / 420], examples_per_second: 5.0340, train_label_loss: 1.0330, \n"
     ]
    },
    {
     "name": "stdout",
     "output_type": "stream",
     "text": [
      "epoch: 4, [batch: 42 / 420], examples_per_second: 851.4115, train_label_loss: 1.6819, \n"
     ]
    },
    {
     "name": "stdout",
     "output_type": "stream",
     "text": [
      "epoch: 4, [batch: 84 / 420], examples_per_second: 920.8510, train_label_loss: 0.8251, \n"
     ]
    },
    {
     "name": "stdout",
     "output_type": "stream",
     "text": [
      "epoch: 4, [batch: 126 / 420], examples_per_second: 1024.9621, train_label_loss: 0.9438, \n"
     ]
    },
    {
     "name": "stdout",
     "output_type": "stream",
     "text": [
      "epoch: 4, [batch: 168 / 420], examples_per_second: 1067.3918, train_label_loss: 1.0853, \n"
     ]
    },
    {
     "name": "stdout",
     "output_type": "stream",
     "text": [
      "epoch: 4, [batch: 210 / 420], examples_per_second: 1154.5046, train_label_loss: 0.3269, \n"
     ]
    },
    {
     "name": "stdout",
     "output_type": "stream",
     "text": [
      "epoch: 4, [batch: 252 / 420], examples_per_second: 1278.0680, train_label_loss: 1.0574, \n"
     ]
    },
    {
     "name": "stdout",
     "output_type": "stream",
     "text": [
      "epoch: 4, [batch: 294 / 420], examples_per_second: 1419.5465, train_label_loss: 0.9799, \n"
     ]
    },
    {
     "name": "stdout",
     "output_type": "stream",
     "text": [
      "epoch: 4, [batch: 336 / 420], examples_per_second: 1692.9653, train_label_loss: 0.9429, \n"
     ]
    },
    {
     "name": "stdout",
     "output_type": "stream",
     "text": [
      "epoch: 4, [batch: 378 / 420], examples_per_second: 1914.1072, train_label_loss: 0.8704, \n"
     ]
    },
    {
     "name": "stdout",
     "output_type": "stream",
     "text": [
      "=============================================================\n",
      "epoch: 4, source_val_acc_label: 0.7075, target_val_acc_label: 0.5601, source_val_label_loss: 0.7668, target_val_label_loss: 1.3745, \n",
      "=============================================================\n"
     ]
    },
    {
     "name": "stdout",
     "output_type": "stream",
     "text": [
      "New best\n"
     ]
    },
    {
     "name": "stdout",
     "output_type": "stream",
     "text": [
      "epoch: 5, [batch: 1 / 420], examples_per_second: 5.0037, train_label_loss: 0.5923, \n"
     ]
    },
    {
     "name": "stdout",
     "output_type": "stream",
     "text": [
      "epoch: 5, [batch: 42 / 420], examples_per_second: 841.4689, train_label_loss: 0.8145, \n"
     ]
    },
    {
     "name": "stdout",
     "output_type": "stream",
     "text": [
      "epoch: 5, [batch: 84 / 420], examples_per_second: 925.0610, train_label_loss: 0.3859, \n"
     ]
    },
    {
     "name": "stdout",
     "output_type": "stream",
     "text": [
      "epoch: 5, [batch: 126 / 420], examples_per_second: 1005.2616, train_label_loss: 0.4034, \n"
     ]
    },
    {
     "name": "stdout",
     "output_type": "stream",
     "text": [
      "epoch: 5, [batch: 168 / 420], examples_per_second: 1074.9091, train_label_loss: 0.8858, \n"
     ]
    },
    {
     "name": "stdout",
     "output_type": "stream",
     "text": [
      "epoch: 5, [batch: 210 / 420], examples_per_second: 1117.6036, train_label_loss: 1.0800, \n"
     ]
    },
    {
     "name": "stdout",
     "output_type": "stream",
     "text": [
      "epoch: 5, [batch: 252 / 420], examples_per_second: 1261.6799, train_label_loss: 0.1959, \n"
     ]
    },
    {
     "name": "stdout",
     "output_type": "stream",
     "text": [
      "epoch: 5, [batch: 294 / 420], examples_per_second: 1411.7625, train_label_loss: 1.0425, \n"
     ]
    },
    {
     "name": "stdout",
     "output_type": "stream",
     "text": [
      "epoch: 5, [batch: 336 / 420], examples_per_second: 1661.1262, train_label_loss: 0.8110, \n"
     ]
    },
    {
     "name": "stdout",
     "output_type": "stream",
     "text": [
      "epoch: 5, [batch: 378 / 420], examples_per_second: 1949.2061, train_label_loss: 0.7154, \n"
     ]
    },
    {
     "name": "stdout",
     "output_type": "stream",
     "text": [
      "=============================================================\n",
      "epoch: 5, source_val_acc_label: 0.7470, target_val_acc_label: 0.5943, source_val_label_loss: 0.6852, target_val_label_loss: 1.2023, \n",
      "=============================================================\n"
     ]
    },
    {
     "name": "stdout",
     "output_type": "stream",
     "text": [
      "New best\n"
     ]
    },
    {
     "name": "stdout",
     "output_type": "stream",
     "text": [
      "epoch: 6, [batch: 1 / 420], examples_per_second: 5.0168, train_label_loss: 0.3807, \n"
     ]
    },
    {
     "name": "stdout",
     "output_type": "stream",
     "text": [
      "epoch: 6, [batch: 42 / 420], examples_per_second: 832.2542, train_label_loss: 0.2967, \n"
     ]
    },
    {
     "name": "stdout",
     "output_type": "stream",
     "text": [
      "epoch: 6, [batch: 84 / 420], examples_per_second: 909.4477, train_label_loss: 0.4449, \n"
     ]
    },
    {
     "name": "stdout",
     "output_type": "stream",
     "text": [
      "epoch: 6, [batch: 126 / 420], examples_per_second: 1003.2869, train_label_loss: 0.1573, \n"
     ]
    },
    {
     "name": "stdout",
     "output_type": "stream",
     "text": [
      "epoch: 6, [batch: 168 / 420], examples_per_second: 1080.9168, train_label_loss: 0.6674, \n"
     ]
    },
    {
     "name": "stdout",
     "output_type": "stream",
     "text": [
      "epoch: 6, [batch: 210 / 420], examples_per_second: 1127.3565, train_label_loss: 0.9925, \n"
     ]
    },
    {
     "name": "stdout",
     "output_type": "stream",
     "text": [
      "epoch: 6, [batch: 252 / 420], examples_per_second: 1243.9599, train_label_loss: 0.3726, \n"
     ]
    },
    {
     "name": "stdout",
     "output_type": "stream",
     "text": [
      "epoch: 6, [batch: 294 / 420], examples_per_second: 1478.9896, train_label_loss: 0.7662, \n"
     ]
    },
    {
     "name": "stdout",
     "output_type": "stream",
     "text": [
      "epoch: 6, [batch: 336 / 420], examples_per_second: 1685.1563, train_label_loss: 0.8624, \n"
     ]
    },
    {
     "name": "stdout",
     "output_type": "stream",
     "text": [
      "epoch: 6, [batch: 378 / 420], examples_per_second: 1902.9122, train_label_loss: 0.7557, \n"
     ]
    },
    {
     "name": "stdout",
     "output_type": "stream",
     "text": [
      "=============================================================\n",
      "epoch: 6, source_val_acc_label: 0.7523, target_val_acc_label: 0.6024, source_val_label_loss: 0.6616, target_val_label_loss: 1.1799, \n",
      "=============================================================\n"
     ]
    },
    {
     "name": "stdout",
     "output_type": "stream",
     "text": [
      "New best\n"
     ]
    },
    {
     "name": "stdout",
     "output_type": "stream",
     "text": [
      "epoch: 7, [batch: 1 / 420], examples_per_second: 5.0341, train_label_loss: 0.5379, \n"
     ]
    },
    {
     "name": "stdout",
     "output_type": "stream",
     "text": [
      "epoch: 7, [batch: 42 / 420], examples_per_second: 852.0698, train_label_loss: 0.5210, \n"
     ]
    },
    {
     "name": "stdout",
     "output_type": "stream",
     "text": [
      "epoch: 7, [batch: 84 / 420], examples_per_second: 920.4645, train_label_loss: 0.5396, \n"
     ]
    },
    {
     "name": "stdout",
     "output_type": "stream",
     "text": [
      "epoch: 7, [batch: 126 / 420], examples_per_second: 1009.7028, train_label_loss: 0.8763, \n"
     ]
    },
    {
     "name": "stdout",
     "output_type": "stream",
     "text": [
      "epoch: 7, [batch: 168 / 420], examples_per_second: 1101.7325, train_label_loss: 0.1503, \n"
     ]
    },
    {
     "name": "stdout",
     "output_type": "stream",
     "text": [
      "epoch: 7, [batch: 210 / 420], examples_per_second: 1157.4397, train_label_loss: 0.2470, \n"
     ]
    },
    {
     "name": "stdout",
     "output_type": "stream",
     "text": [
      "epoch: 7, [batch: 252 / 420], examples_per_second: 1219.5603, train_label_loss: 1.0008, \n"
     ]
    },
    {
     "name": "stdout",
     "output_type": "stream",
     "text": [
      "epoch: 7, [batch: 294 / 420], examples_per_second: 1440.2898, train_label_loss: 0.4802, \n"
     ]
    },
    {
     "name": "stdout",
     "output_type": "stream",
     "text": [
      "epoch: 7, [batch: 336 / 420], examples_per_second: 1633.6722, train_label_loss: 0.6193, \n"
     ]
    },
    {
     "name": "stdout",
     "output_type": "stream",
     "text": [
      "epoch: 7, [batch: 378 / 420], examples_per_second: 1921.1896, train_label_loss: 0.8548, \n"
     ]
    },
    {
     "name": "stdout",
     "output_type": "stream",
     "text": [
      "=============================================================\n",
      "epoch: 7, source_val_acc_label: 0.7675, target_val_acc_label: 0.6234, source_val_label_loss: 0.6274, target_val_label_loss: 1.1824, \n",
      "=============================================================\n"
     ]
    },
    {
     "name": "stdout",
     "output_type": "stream",
     "text": [
      "epoch: 8, [batch: 1 / 420], examples_per_second: 5.1100, train_label_loss: 0.3463, \n"
     ]
    },
    {
     "name": "stdout",
     "output_type": "stream",
     "text": [
      "epoch: 8, [batch: 42 / 420], examples_per_second: 856.0332, train_label_loss: 0.7249, \n"
     ]
    },
    {
     "name": "stdout",
     "output_type": "stream",
     "text": [
      "epoch: 8, [batch: 84 / 420], examples_per_second: 923.8271, train_label_loss: 0.3024, \n"
     ]
    },
    {
     "name": "stdout",
     "output_type": "stream",
     "text": [
      "epoch: 8, [batch: 126 / 420], examples_per_second: 994.2162, train_label_loss: 0.5562, \n"
     ]
    },
    {
     "name": "stdout",
     "output_type": "stream",
     "text": [
      "epoch: 8, [batch: 168 / 420], examples_per_second: 1152.3815, train_label_loss: 0.1218, \n"
     ]
    },
    {
     "name": "stdout",
     "output_type": "stream",
     "text": [
      "epoch: 8, [batch: 210 / 420], examples_per_second: 1199.7775, train_label_loss: 0.8716, \n"
     ]
    },
    {
     "name": "stdout",
     "output_type": "stream",
     "text": [
      "epoch: 8, [batch: 252 / 420], examples_per_second: 1284.1697, train_label_loss: 0.2812, \n"
     ]
    },
    {
     "name": "stdout",
     "output_type": "stream",
     "text": [
      "epoch: 8, [batch: 294 / 420], examples_per_second: 1396.8570, train_label_loss: 0.4829, \n"
     ]
    },
    {
     "name": "stdout",
     "output_type": "stream",
     "text": [
      "epoch: 8, [batch: 336 / 420], examples_per_second: 1630.8864, train_label_loss: 0.6399, \n"
     ]
    },
    {
     "name": "stdout",
     "output_type": "stream",
     "text": [
      "epoch: 8, [batch: 378 / 420], examples_per_second: 1799.3417, train_label_loss: 0.8332, \n"
     ]
    },
    {
     "name": "stdout",
     "output_type": "stream",
     "text": [
      "=============================================================\n",
      "epoch: 8, source_val_acc_label: 0.7781, target_val_acc_label: 0.6267, source_val_label_loss: 0.6209, target_val_label_loss: 1.2258, \n",
      "=============================================================\n"
     ]
    },
    {
     "name": "stdout",
     "output_type": "stream",
     "text": [
      "epoch: 9, [batch: 1 / 420], examples_per_second: 5.0490, train_label_loss: 0.4373, \n"
     ]
    },
    {
     "name": "stdout",
     "output_type": "stream",
     "text": [
      "epoch: 9, [batch: 42 / 420], examples_per_second: 823.5330, train_label_loss: 0.4281, \n"
     ]
    },
    {
     "name": "stdout",
     "output_type": "stream",
     "text": [
      "epoch: 9, [batch: 84 / 420], examples_per_second: 847.8812, train_label_loss: 0.2399, \n"
     ]
    },
    {
     "name": "stdout",
     "output_type": "stream",
     "text": [
      "epoch: 9, [batch: 126 / 420], examples_per_second: 975.0599, train_label_loss: 0.4479, \n"
     ]
    },
    {
     "name": "stdout",
     "output_type": "stream",
     "text": [
      "epoch: 9, [batch: 168 / 420], examples_per_second: 995.5267, train_label_loss: 0.3825, \n"
     ]
    },
    {
     "name": "stdout",
     "output_type": "stream",
     "text": [
      "epoch: 9, [batch: 210 / 420], examples_per_second: 1184.7119, train_label_loss: 0.2420, \n"
     ]
    },
    {
     "name": "stdout",
     "output_type": "stream",
     "text": [
      "epoch: 9, [batch: 252 / 420], examples_per_second: 1225.7530, train_label_loss: 0.3589, \n"
     ]
    },
    {
     "name": "stdout",
     "output_type": "stream",
     "text": [
      "epoch: 9, [batch: 294 / 420], examples_per_second: 1402.8504, train_label_loss: 0.2808, \n"
     ]
    },
    {
     "name": "stdout",
     "output_type": "stream",
     "text": [
      "epoch: 9, [batch: 336 / 420], examples_per_second: 1860.7518, train_label_loss: 0.2645, \n"
     ]
    },
    {
     "name": "stdout",
     "output_type": "stream",
     "text": [
      "epoch: 9, [batch: 378 / 420], examples_per_second: 2086.8219, train_label_loss: 0.6125, \n"
     ]
    },
    {
     "name": "stdout",
     "output_type": "stream",
     "text": [
      "=============================================================\n",
      "epoch: 9, source_val_acc_label: 0.7818, target_val_acc_label: 0.6358, source_val_label_loss: 0.5850, target_val_label_loss: 1.1980, \n",
      "=============================================================\n"
     ]
    },
    {
     "name": "stdout",
     "output_type": "stream",
     "text": [
      "epoch: 10, [batch: 1 / 420], examples_per_second: 5.0088, train_label_loss: 0.4064, \n"
     ]
    },
    {
     "name": "stdout",
     "output_type": "stream",
     "text": [
      "epoch: 10, [batch: 42 / 420], examples_per_second: 827.7856, train_label_loss: 0.3635, \n"
     ]
    },
    {
     "name": "stdout",
     "output_type": "stream",
     "text": [
      "epoch: 10, [batch: 84 / 420], examples_per_second: 898.2963, train_label_loss: 0.4649, \n"
     ]
    },
    {
     "name": "stdout",
     "output_type": "stream",
     "text": [
      "epoch: 10, [batch: 126 / 420], examples_per_second: 955.7018, train_label_loss: 0.4579, \n"
     ]
    },
    {
     "name": "stdout",
     "output_type": "stream",
     "text": [
      "epoch: 10, [batch: 168 / 420], examples_per_second: 1087.5847, train_label_loss: 0.3789, \n"
     ]
    },
    {
     "name": "stdout",
     "output_type": "stream",
     "text": [
      "epoch: 10, [batch: 210 / 420], examples_per_second: 1197.8915, train_label_loss: 0.2529, \n"
     ]
    },
    {
     "name": "stdout",
     "output_type": "stream",
     "text": [
      "epoch: 10, [batch: 252 / 420], examples_per_second: 1371.2840, train_label_loss: 0.7837, \n"
     ]
    },
    {
     "name": "stdout",
     "output_type": "stream",
     "text": [
      "epoch: 10, [batch: 294 / 420], examples_per_second: 1593.5369, train_label_loss: 0.1862, \n"
     ]
    },
    {
     "name": "stdout",
     "output_type": "stream",
     "text": [
      "epoch: 10, [batch: 336 / 420], examples_per_second: 1866.3812, train_label_loss: 0.1460, \n"
     ]
    },
    {
     "name": "stdout",
     "output_type": "stream",
     "text": [
      "epoch: 10, [batch: 378 / 420], examples_per_second: 2344.4059, train_label_loss: 0.3994, \n"
     ]
    },
    {
     "name": "stdout",
     "output_type": "stream",
     "text": [
      "=============================================================\n",
      "epoch: 10, source_val_acc_label: 0.7870, target_val_acc_label: 0.6349, source_val_label_loss: 0.5884, target_val_label_loss: 1.2218, \n",
      "=============================================================\n"
     ]
    },
    {
     "name": "stdout",
     "output_type": "stream",
     "text": [
      "Patience (3) exhausted\n"
     ]
    }
   ],
   "source": [
    "###################################\n",
    "# train\n",
    "###################################\n",
    "jig = PTN_Train_Eval_Test_Jig(model, p.BEST_MODEL_PATH, p.device)\n",
    "\n",
    "jig.train(\n",
    "    train_iterable=datasets.source.processed.train,\n",
    "    source_val_iterable=datasets.source.processed.val,\n",
    "    target_val_iterable=datasets.target.processed.val,\n",
    "    num_epochs=p.n_epoch,\n",
    "    num_logs_per_epoch=p.NUM_LOGS_PER_EPOCH,\n",
    "    patience=p.patience,\n",
    "    optimizer=optimizer,\n",
    "    criteria_for_best=p.criteria_for_best,\n",
    ")"
   ]
  },
  {
   "cell_type": "code",
   "execution_count": 14,
   "id": "31e8fabf",
   "metadata": {
    "execution": {
     "iopub.execute_input": "2022-03-04T02:26:19.346847Z",
     "iopub.status.busy": "2022-03-04T02:26:19.346575Z",
     "iopub.status.idle": "2022-03-04T02:26:19.360218Z",
     "shell.execute_reply": "2022-03-04T02:26:19.360665Z"
    },
    "papermill": {
     "duration": 0.049027,
     "end_time": "2022-03-04T02:26:19.360809",
     "exception": false,
     "start_time": "2022-03-04T02:26:19.311782",
     "status": "completed"
    },
    "tags": []
   },
   "outputs": [],
   "source": [
    "total_experiment_time_secs = time.time() - start_time_secs"
   ]
  },
  {
   "cell_type": "code",
   "execution_count": 15,
   "id": "87b9595b",
   "metadata": {
    "execution": {
     "iopub.execute_input": "2022-03-04T02:26:19.434544Z",
     "iopub.status.busy": "2022-03-04T02:26:19.434243Z",
     "iopub.status.idle": "2022-03-04T02:27:50.978720Z",
     "shell.execute_reply": "2022-03-04T02:27:50.978951Z"
    },
    "papermill": {
     "duration": 91.582947,
     "end_time": "2022-03-04T02:27:50.979038",
     "exception": false,
     "start_time": "2022-03-04T02:26:19.396091",
     "status": "completed"
    },
    "tags": []
   },
   "outputs": [],
   "source": [
    "###################################\n",
    "# Evaluate the model\n",
    "###################################\n",
    "source_test_label_accuracy, source_test_label_loss = jig.test(datasets.source.processed.test)\n",
    "target_test_label_accuracy, target_test_label_loss = jig.test(datasets.target.processed.test)\n",
    "\n",
    "source_val_label_accuracy, source_val_label_loss = jig.test(datasets.source.processed.val)\n",
    "target_val_label_accuracy, target_val_label_loss = jig.test(datasets.target.processed.val)\n",
    "\n",
    "history = jig.get_history()\n",
    "\n",
    "total_epochs_trained = len(history[\"epoch_indices\"])\n",
    "\n",
    "val_dl = Iterable_Aggregator((datasets.source.original.val,datasets.target.original.val))\n",
    "\n",
    "confusion = ptn_confusion_by_domain_over_dataloader(model, p.device, val_dl)\n",
    "per_domain_accuracy = per_domain_accuracy_from_confusion(confusion)\n",
    "\n",
    "# Add a key to per_domain_accuracy for if it was a source domain\n",
    "for domain, accuracy in per_domain_accuracy.items():\n",
    "    per_domain_accuracy[domain] = {\n",
    "        \"accuracy\": accuracy,\n",
    "        \"source?\": domain in p.domains_source\n",
    "    }\n",
    "\n",
    "# Do an independent accuracy assesment JUST TO BE SURE!\n",
    "# _source_test_label_accuracy = independent_accuracy_assesment(model, datasets.source.processed.test, p.device)\n",
    "# _target_test_label_accuracy = independent_accuracy_assesment(model, datasets.target.processed.test, p.device)\n",
    "# _source_val_label_accuracy = independent_accuracy_assesment(model, datasets.source.processed.val, p.device)\n",
    "# _target_val_label_accuracy = independent_accuracy_assesment(model, datasets.target.processed.val, p.device)\n",
    "\n",
    "# assert(_source_test_label_accuracy == source_test_label_accuracy)\n",
    "# assert(_target_test_label_accuracy == target_test_label_accuracy)\n",
    "# assert(_source_val_label_accuracy == source_val_label_accuracy)\n",
    "# assert(_target_val_label_accuracy == target_val_label_accuracy)\n",
    "\n",
    "experiment = {\n",
    "    \"experiment_name\": p.experiment_name,\n",
    "    \"parameters\": dict(p),\n",
    "    \"results\": {\n",
    "        \"source_test_label_accuracy\": source_test_label_accuracy,\n",
    "        \"source_test_label_loss\": source_test_label_loss,\n",
    "        \"target_test_label_accuracy\": target_test_label_accuracy,\n",
    "        \"target_test_label_loss\": target_test_label_loss,\n",
    "        \"source_val_label_accuracy\": source_val_label_accuracy,\n",
    "        \"source_val_label_loss\": source_val_label_loss,\n",
    "        \"target_val_label_accuracy\": target_val_label_accuracy,\n",
    "        \"target_val_label_loss\": target_val_label_loss,\n",
    "        \"total_epochs_trained\": total_epochs_trained,\n",
    "        \"total_experiment_time_secs\": total_experiment_time_secs,\n",
    "        \"confusion\": confusion,\n",
    "        \"per_domain_accuracy\": per_domain_accuracy,\n",
    "    },\n",
    "    \"history\": history,\n",
    "    \"dataset_metrics\": get_dataset_metrics(datasets, \"ptn\"),\n",
    "}"
   ]
  },
  {
   "cell_type": "code",
   "execution_count": 16,
   "id": "54a21829",
   "metadata": {
    "execution": {
     "iopub.execute_input": "2022-03-04T02:27:51.046766Z",
     "iopub.status.busy": "2022-03-04T02:27:51.046488Z",
     "iopub.status.idle": "2022-03-04T02:27:51.236121Z",
     "shell.execute_reply": "2022-03-04T02:27:51.236579Z"
    },
    "papermill": {
     "duration": 0.225708,
     "end_time": "2022-03-04T02:27:51.236713",
     "exception": false,
     "start_time": "2022-03-04T02:27:51.011005",
     "status": "completed"
    },
    "tags": []
   },
   "outputs": [
    {
     "data": {
      "image/png": "[encoded data removed]",
      "text/plain": [
       "<Figure size 1080x504 with 1 Axes>"
      ]
     },
     "metadata": {
      "needs_background": "light"
     },
     "output_type": "display_data"
    }
   ],
   "source": [
    "ax = get_loss_curve(experiment)\n",
    "plt.show()"
   ]
  },
  {
   "cell_type": "code",
   "execution_count": 17,
   "id": "fd8a0f60",
   "metadata": {
    "execution": {
     "iopub.execute_input": "2022-03-04T02:27:51.309086Z",
     "iopub.status.busy": "2022-03-04T02:27:51.308821Z",
     "iopub.status.idle": "2022-03-04T02:27:51.562836Z",
     "shell.execute_reply": "2022-03-04T02:27:51.563141Z"
    },
    "papermill": {
     "duration": 0.289066,
     "end_time": "2022-03-04T02:27:51.563236",
     "exception": false,
     "start_time": "2022-03-04T02:27:51.274170",
     "status": "completed"
    },
    "tags": []
   },
   "outputs": [
    {
     "data": {
      "text/plain": [
       "<matplotlib.axes._subplots.AxesSubplot at 0x7fa6ca53df70>"
      ]
     },
     "execution_count": 17,
     "metadata": {},
     "output_type": "execute_result"
    },
    {
     "data": {
      "image/png": "[encoded data removed]",
      "text/plain": [
       "<Figure size 1080x504 with 1 Axes>"
      ]
     },
     "metadata": {
      "needs_background": "light"
     },
     "output_type": "display_data"
    }
   ],
   "source": [
    "get_results_table(experiment)"
   ]
  },
  {
   "cell_type": "code",
   "execution_count": 18,
   "id": "cf8dc689",
   "metadata": {
    "execution": {
     "iopub.execute_input": "2022-03-04T02:27:51.637379Z",
     "iopub.status.busy": "2022-03-04T02:27:51.637120Z",
     "iopub.status.idle": "2022-03-04T02:27:51.807133Z",
     "shell.execute_reply": "2022-03-04T02:27:51.806622Z"
    },
    "papermill": {
     "duration": 0.205404,
     "end_time": "2022-03-04T02:27:51.807238",
     "exception": false,
     "start_time": "2022-03-04T02:27:51.601834",
     "status": "completed"
    },
    "tags": []
   },
   "outputs": [
    {
     "data": {
      "text/plain": [
       "<matplotlib.axes._subplots.AxesSubplot at 0x7fa6ca5b2ac0>"
      ]
     },
     "execution_count": 18,
     "metadata": {},
     "output_type": "execute_result"
    },
    {
     "data": {
      "image/png": "[encoded data removed]",
      "text/plain": [
       "<Figure size 1080x504 with 1 Axes>"
      ]
     },
     "metadata": {
      "needs_background": "light"
     },
     "output_type": "display_data"
    }
   ],
   "source": [
    "get_domain_accuracies(experiment)"
   ]
  },
  {
   "cell_type": "code",
   "execution_count": 19,
   "id": "a74ae082",
   "metadata": {
    "execution": {
     "iopub.execute_input": "2022-03-04T02:27:51.883045Z",
     "iopub.status.busy": "2022-03-04T02:27:51.882714Z",
     "iopub.status.idle": "2022-03-04T02:27:51.895589Z",
     "shell.execute_reply": "2022-03-04T02:27:51.895333Z"
    },
    "papermill": {
     "duration": 0.049765,
     "end_time": "2022-03-04T02:27:51.895645",
     "exception": false,
     "start_time": "2022-03-04T02:27:51.845880",
     "status": "completed"
    },
    "tags": []
   },
   "outputs": [
    {
     "name": "stdout",
     "output_type": "stream",
     "text": [
      "Source Test Label Accuracy: 0.7581597222222223 Target Test Label Accuracy: 0.5929166666666666\n",
      "Source Val Label Accuracy: 0.7522569444444445 Target Val Label Accuracy: 0.6023958333333334\n"
     ]
    }
   ],
   "source": [
    "print(\"Source Test Label Accuracy:\", experiment[\"results\"][\"source_test_label_accuracy\"], \"Target Test Label Accuracy:\", experiment[\"results\"][\"target_test_label_accuracy\"])\n",
    "print(\"Source Val Label Accuracy:\", experiment[\"results\"][\"source_val_label_accuracy\"], \"Target Val Label Accuracy:\", experiment[\"results\"][\"target_val_label_accuracy\"])"
   ]
  },
  {
   "cell_type": "code",
   "execution_count": 20,
   "id": "dacca602",
   "metadata": {
    "execution": {
     "iopub.execute_input": "2022-03-04T02:27:51.972288Z",
     "iopub.status.busy": "2022-03-04T02:27:51.967278Z",
     "iopub.status.idle": "2022-03-04T02:27:51.981284Z",
     "shell.execute_reply": "2022-03-04T02:27:51.981024Z"
    },
    "papermill": {
     "duration": 0.050947,
     "end_time": "2022-03-04T02:27:51.981340",
     "exception": false,
     "start_time": "2022-03-04T02:27:51.930393",
     "status": "completed"
    },
    "tags": [
     "experiment_json"
    ]
   },
   "outputs": [
    {
     "data": {
      "text/plain": [
       "'{\"experiment_name\": \"dataset_seeds_oracle.run2\", \"parameters\": {\"experiment_name\": \"dataset_seeds_oracle.run2\", \"lr\": 0.001, \"device\": \"cuda\", \"seed\": 1337, \"dataset_seed\": 1984, \"labels_source\": [\"3123D52\", \"3123D65\", \"3123D79\", \"3123D80\", \"3123D54\", \"3123D70\", \"3123D7B\", \"3123D89\", \"3123D58\", \"3123D76\", \"3123D7D\", \"3123EFE\", \"3123D64\", \"3123D78\", \"3123D7E\", \"3124E4A\"], \"labels_target\": [\"3123D52\", \"3123D65\", \"3123D79\", \"3123D80\", \"3123D54\", \"3123D70\", \"3123D7B\", \"3123D89\", \"3123D58\", \"3123D76\", \"3123D7D\", \"3123EFE\", \"3123D64\", \"3123D78\", \"3123D7E\", \"3124E4A\"], \"x_transforms_source\": [], \"x_transforms_target\": [], \"episode_transforms_source\": [], \"episode_transforms_target\": [], \"num_examples_per_domain_per_label_source\": 1000, \"num_examples_per_domain_per_label_target\": 1000, \"n_shot\": 3, \"n_way\": 16, \"n_query\": 2, \"train_k_factor\": 1, \"val_k_factor\": 2, \"test_k_factor\": 2, \"torch_default_dtype\": \"torch.float32\", \"n_epoch\": 50, \"patience\": 3, \"criteria_for_best\": \"target_loss\", \"x_net\": [{\"class\": \"nnReshape\", \"kargs\": {\"shape\": [-1, 1, 2, 256]}}, {\"class\": \"Conv2d\", \"kargs\": {\"in_channels\": 1, \"out_channels\": 256, \"kernel_size\": [1, 7], \"bias\": false, \"padding\": [0, 3]}}, {\"class\": \"ReLU\", \"kargs\": {\"inplace\": true}}, {\"class\": \"BatchNorm2d\", \"kargs\": {\"num_features\": 256}}, {\"class\": \"Conv2d\", \"kargs\": {\"in_channels\": 256, \"out_channels\": 80, \"kernel_size\": [2, 7], \"bias\": true, \"padding\": [0, 3]}}, {\"class\": \"ReLU\", \"kargs\": {\"inplace\": true}}, {\"class\": \"BatchNorm2d\", \"kargs\": {\"num_features\": 80}}, {\"class\": \"Flatten\", \"kargs\": {}}, {\"class\": \"Linear\", \"kargs\": {\"in_features\": 20480, \"out_features\": 256}}, {\"class\": \"ReLU\", \"kargs\": {\"inplace\": true}}, {\"class\": \"BatchNorm1d\", \"kargs\": {\"num_features\": 256}}, {\"class\": \"Linear\", \"kargs\": {\"in_features\": 256, \"out_features\": 256}}], \"NUM_LOGS_PER_EPOCH\": 10, \"BEST_MODEL_PATH\": \"./best_model.pth\", \"pickle_name\": \"oracle.Run2_10kExamples_stratified_ds.2022A.pkl\", \"domains_source\": [8, 32, 50], \"domains_target\": [14, 20, 26, 38, 44]}, \"results\": {\"source_test_label_accuracy\": 0.7581597222222223, \"source_test_label_loss\": 0.6587225198745728, \"target_test_label_accuracy\": 0.5929166666666666, \"target_test_label_loss\": 1.1575510501861572, \"source_val_label_accuracy\": 0.7522569444444445, \"source_val_label_loss\": 0.6616294384002686, \"target_val_label_accuracy\": 0.6023958333333334, \"target_val_label_loss\": 1.1798754930496216, \"total_epochs_trained\": 10, \"total_experiment_time_secs\": 580.3595688343048, \"confusion\": {\"8\": {\"15\": {\"15\": 102, \"2\": 6, \"12\": 12}, \"3\": {\"3\": 120}, \"6\": {\"6\": 57, \"14\": 34, \"8\": 17, \"11\": 6, \"4\": 4, \"1\": 2}, \"1\": {\"7\": 4, \"6\": 5, \"1\": 65, \"5\": 11, \"14\": 6, \"10\": 7, \"4\": 15, \"13\": 6, \"8\": 1}, \"8\": {\"11\": 18, \"8\": 69, \"6\": 26, \"4\": 1, \"14\": 6}, \"10\": {\"13\": 36, \"10\": 40, \"5\": 36, \"7\": 5, \"4\": 1, \"1\": 2}, \"9\": {\"9\": 120}, \"13\": {\"13\": 79, \"10\": 24, \"7\": 12, \"5\": 5}, \"12\": {\"12\": 106, \"2\": 7, \"15\": 7}, \"5\": {\"10\": 45, \"5\": 47, \"13\": 10, \"1\": 12, \"7\": 5, \"4\": 1}, \"0\": {\"0\": 120}, \"2\": {\"2\": 109, \"12\": 6, \"15\": 5}, \"11\": {\"8\": 37, \"13\": 2, \"11\": 48, \"6\": 11, \"7\": 13, \"4\": 4, \"12\": 5}, \"14\": {\"6\": 39, \"14\": 71, \"1\": 6, \"8\": 3, \"4\": 1}, \"7\": {\"11\": 4, \"7\": 74, \"1\": 10, \"4\": 24, \"10\": 3, \"13\": 2, \"5\": 3}, \"4\": {\"1\": 22, \"4\": 69, \"7\": 17, \"8\": 3, \"6\": 3, \"14\": 2, \"11\": 4}}, \"50\": {\"3\": {\"3\": 120}, \"15\": {\"15\": 94, \"6\": 8, \"9\": 9, \"4\": 3, \"12\": 5, \"5\": 1}, \"8\": {\"8\": 120}, \"4\": {\"4\": 78, \"5\": 36, \"7\": 5, \"15\": 1}, \"14\": {\"14\": 118, \"2\": 2}, \"0\": {\"0\": 97, \"10\": 10, \"2\": 13}, \"7\": {\"7\": 102, \"4\": 11, \"5\": 7}, \"6\": {\"5\": 8, \"6\": 88, \"15\": 19, \"4\": 4, \"12\": 1}, \"10\": {\"10\": 109, \"0\": 10, \"13\": 1}, \"5\": {\"4\": 33, \"5\": 65, \"7\": 13, \"6\": 8, \"15\": 1}, \"2\": {\"2\": 104, \"0\": 16}, \"12\": {\"12\": 91, \"6\": 2, \"9\": 5, \"15\": 8, \"11\": 14}, \"9\": {\"9\": 109, \"12\": 3, \"15\": 8}, \"1\": {\"13\": 11, \"1\": 108, \"11\": 1}, \"11\": {\"11\": 99, \"12\": 19, \"9\": 1, \"1\": 1}, \"13\": {\"13\": 113, \"10\": 2, \"8\": 2, \"1\": 3}}, \"32\": {\"5\": {\"5\": 83, \"15\": 18, \"14\": 4, \"2\": 11, \"7\": 4}, \"8\": {\"0\": 16, \"8\": 80, \"4\": 3, \"7\": 20, \"15\": 1}, \"11\": {\"13\": 32, \"11\": 41, \"4\": 40, \"0\": 6, \"3\": 1}, \"1\": {\"1\": 120}, \"10\": {\"10\": 120}, \"15\": {\"15\": 103, \"5\": 16, \"8\": 1}, \"3\": {\"13\": 9, \"3\": 107, \"4\": 4}, \"7\": {\"8\": 34, \"7\": 49, \"0\": 16, \"2\": 17, \"14\": 3, \"15\": 1}, \"4\": {\"4\": 86, \"8\": 3, \"11\": 19, \"0\": 7, \"3\": 3, \"14\": 1, \"7\": 1}, \"14\": {\"2\": 43, \"14\": 70, \"0\": 4, \"11\": 1, \"7\": 1, \"5\": 1}, \"9\": {\"9\": 118, \"11\": 2}, \"12\": {\"12\": 117, \"9\": 3}, \"6\": {\"6\": 120}, \"2\": {\"8\": 1, \"2\": 73, \"14\": 24, \"7\": 11, \"0\": 11}, \"0\": {\"8\": 20, \"0\": 52, \"4\": 11, \"2\": 11, \"7\": 20, \"14\": 4, \"11\": 2}, \"13\": {\"3\": 17, \"13\": 83, \"11\": 15, \"4\": 5}}, \"14\": {\"15\": {\"15\": 120}, \"3\": {\"3\": 101, \"5\": 1, \"6\": 11, \"2\": 1, \"7\": 3, \"14\": 3}, \"6\": {\"6\": 63, \"7\": 6, \"13\": 44, \"3\": 6, \"2\": 1}, \"1\": {\"1\": 120}, \"8\": {\"8\": 84, \"10\": 27, \"0\": 8, \"9\": 1}, \"10\": {\"8\": 28, \"4\": 4, \"14\": 3, \"0\": 27, \"10\": 41, \"3\": 10, \"5\": 5, \"9\": 1, \"12\": 1}, \"9\": {\"9\": 116, \"0\": 4}, \"13\": {\"13\": 61, \"6\": 55, \"7\": 1, \"3\": 3}, \"12\": {\"9\": 21, \"15\": 12, \"1\": 4, \"12\": 56, \"8\": 15, \"11\": 2, \"0\": 3, \"6\": 1, \"3\": 6}, \"5\": {\"5\": 64, \"14\": 27, \"2\": 21, \"8\": 1, \"4\": 3, \"10\": 3, \"7\": 1}, \"0\": {\"0\": 82, \"4\": 15, \"8\": 6, \"10\": 14, \"9\": 2, \"5\": 1}, \"2\": {\"14\": 26, \"7\": 33, \"10\": 1, \"5\": 24, \"2\": 28, \"3\": 2, \"4\": 3, \"6\": 1, \"0\": 1, \"8\": 1}, \"11\": {\"11\": 120}, \"14\": {\"2\": 28, \"14\": 30, \"5\": 41, \"7\": 16, \"10\": 1, \"3\": 3, \"4\": 1}, \"7\": {\"7\": 75, \"14\": 16, \"2\": 24, \"6\": 2, \"3\": 2, \"13\": 1}, \"4\": {\"4\": 97, \"0\": 21, \"5\": 2}}, \"20\": {\"3\": {\"13\": 2, \"1\": 5, \"3\": 23, \"5\": 13, \"4\": 19, \"7\": 17, \"12\": 5, \"9\": 16, \"2\": 10, \"15\": 7, \"6\": 2, \"10\": 1}, \"15\": {\"4\": 15, \"15\": 33, \"5\": 6, \"2\": 17, \"7\": 4, \"9\": 21, \"1\": 3, \"3\": 8, \"12\": 5, \"13\": 8}, \"8\": {\"14\": 27, \"8\": 47, \"0\": 6, \"11\": 38, \"5\": 1, \"2\": 1}, \"4\": {\"12\": 3, \"7\": 18, \"15\": 21, \"4\": 14, \"2\": 10, \"5\": 8, \"13\": 2, \"3\": 22, \"9\": 13, \"6\": 4, \"1\": 2, \"10\": 3}, \"14\": {\"2\": 1, \"14\": 65, \"8\": 38, \"11\": 14, \"6\": 1, \"5\": 1}, \"0\": {\"0\": 97, \"11\": 15, \"1\": 5, \"8\": 2, \"14\": 1}, \"7\": {\"7\": 45, \"2\": 8, \"10\": 9, \"6\": 17, \"15\": 3, \"3\": 13, \"9\": 2, \"4\": 14, \"13\": 1, \"12\": 5, \"5\": 3}, \"6\": {\"10\": 27, \"6\": 85, \"3\": 2, \"7\": 6}, \"10\": {\"10\": 63, \"6\": 27, \"4\": 1, \"3\": 4, \"7\": 11, \"12\": 7, \"13\": 7}, \"5\": {\"11\": 1, \"5\": 34, \"1\": 19, \"2\": 23, \"3\": 7, \"4\": 10, \"9\": 10, \"7\": 3, \"15\": 11, \"14\": 1, \"8\": 1}, \"2\": {\"2\": 20, \"5\": 22, \"15\": 17, \"1\": 7, \"7\": 8, \"9\": 15, \"4\": 15, \"3\": 13, \"12\": 3}, \"12\": {\"12\": 46, \"10\": 12, \"13\": 43, \"15\": 3, \"3\": 5, \"4\": 6, \"6\": 1, \"9\": 1, \"7\": 3}, \"9\": {\"15\": 27, \"5\": 14, \"9\": 27, \"4\": 11, \"2\": 22, \"1\": 5, \"3\": 9, \"12\": 2, \"14\": 1, \"7\": 2}, \"1\": {\"5\": 25, \"15\": 8, \"1\": 66, \"3\": 1, \"0\": 2, \"2\": 14, \"9\": 4}, \"11\": {\"8\": 36, \"11\": 52, \"14\": 8, \"0\": 21, \"1\": 3}, \"13\": {\"12\": 63, \"13\": 44, \"4\": 2, \"15\": 8, \"10\": 1, \"9\": 1, \"7\": 1}}, \"44\": {\"5\": {\"5\": 74, \"14\": 5, \"8\": 18, \"15\": 23}, \"8\": {\"0\": 28, \"8\": 76, \"5\": 16}, \"11\": {\"11\": 120}, \"1\": {\"2\": 27, \"1\": 91, \"12\": 2}, \"10\": {\"10\": 114, \"6\": 4, \"7\": 2}, \"15\": {\"15\": 79, \"5\": 27, \"8\": 8, \"14\": 2, \"0\": 4}, \"3\": {\"3\": 97, \"12\": 23}, \"7\": {\"7\": 81, \"9\": 29, \"6\": 7, \"10\": 3}, \"4\": {\"14\": 23, \"4\": 95, \"9\": 2}, \"14\": {\"14\": 95, \"5\": 10, \"4\": 15}, \"9\": {\"9\": 74, \"10\": 4, \"7\": 36, \"6\": 5, \"4\": 1}, \"12\": {\"12\": 98, \"3\": 22}, \"6\": {\"6\": 108, \"13\": 3, \"7\": 3, \"10\": 3, \"9\": 3}, \"2\": {\"2\": 90, \"1\": 30}, \"0\": {\"0\": 85, \"8\": 31, \"5\": 2, \"15\": 2}, \"13\": {\"13\": 111, \"6\": 4, \"4\": 4, \"9\": 1}}, \"38\": {\"14\": {\"14\": 45, \"4\": 1, \"2\": 42, \"7\": 21, \"8\": 4, \"5\": 3, \"10\": 2, \"13\": 2}, \"0\": {\"7\": 19, \"0\": 99, \"8\": 2}, \"13\": {\"13\": 79, \"10\": 17, \"3\": 22, \"4\": 2}, \"7\": {\"7\": 95, \"0\": 23, \"4\": 1, \"14\": 1}, \"9\": {\"9\": 90, \"8\": 3, \"5\": 12, \"12\": 15}, \"3\": {\"10\": 26, \"13\": 20, \"3\": 52, \"4\": 20, \"11\": 2}, \"11\": {\"11\": 120}, \"6\": {\"6\": 105, \"15\": 15}, \"8\": {\"8\": 90, \"5\": 12, \"0\": 7, \"7\": 1, \"14\": 2, \"2\": 1, \"12\": 4, \"9\": 3}, \"4\": {\"10\": 30, \"4\": 78, \"13\": 2, \"3\": 9, \"7\": 1}, \"5\": {\"12\": 46, \"8\": 31, \"5\": 33, \"9\": 8, \"14\": 1, \"2\": 1}, \"10\": {\"10\": 57, \"4\": 35, \"13\": 12, \"3\": 16}, \"1\": {\"1\": 102, \"15\": 18}, \"2\": {\"2\": 106, \"14\": 14}, \"15\": {\"1\": 32, \"6\": 29, \"5\": 4, \"15\": 52, \"9\": 2, \"12\": 1}, \"12\": {\"12\": 50, \"2\": 1, \"5\": 36, \"9\": 21, \"8\": 12}}, \"26\": {\"13\": {\"13\": 74, \"2\": 8, \"9\": 22, \"7\": 15, \"10\": 1}, \"2\": {\"2\": 49, \"13\": 4, \"8\": 16, \"7\": 15, \"15\": 6, \"9\": 17, \"3\": 6, \"0\": 5, \"10\": 2}, \"8\": {\"9\": 35, \"10\": 10, \"2\": 21, \"7\": 5, \"8\": 34, \"15\": 4, \"13\": 8, \"0\": 3}, \"9\": {\"10\": 3, \"9\": 47, \"8\": 16, \"2\": 18, \"0\": 2, \"13\": 18, \"7\": 13, \"15\": 2, \"12\": 1}, \"12\": {\"12\": 119, \"9\": 1}, \"4\": {\"4\": 111, \"7\": 3, \"3\": 6}, \"3\": {\"3\": 76, \"7\": 32, \"4\": 4, \"2\": 6, \"8\": 1, \"13\": 1}, \"15\": {\"0\": 26, \"8\": 9, \"15\": 66, \"9\": 2, \"10\": 4, \"2\": 9, \"3\": 1, \"14\": 2, \"13\": 1}, \"14\": {\"1\": 11, \"5\": 19, \"10\": 29, \"14\": 40, \"0\": 16, \"6\": 5}, \"10\": {\"14\": 20, \"10\": 31, \"15\": 10, \"7\": 2, \"5\": 13, \"6\": 8, \"0\": 18, \"2\": 2, \"12\": 1, \"9\": 5, \"1\": 5, \"8\": 4, \"13\": 1}, \"7\": {\"7\": 40, \"8\": 10, \"15\": 1, \"2\": 19, \"3\": 32, \"13\": 8, \"0\": 1, \"9\": 9}, \"11\": {\"11\": 120}, \"6\": {\"6\": 64, \"5\": 40, \"14\": 8, \"10\": 1, \"1\": 7}, \"1\": {\"1\": 75, \"5\": 16, \"6\": 16, \"14\": 12, \"0\": 1}, \"5\": {\"6\": 49, \"1\": 10, \"5\": 34, \"14\": 18, \"10\": 8, \"0\": 1}, \"0\": {\"15\": 30, \"0\": 43, \"10\": 17, \"14\": 13, \"5\": 3, \"8\": 6, \"2\": 3, \"9\": 3, \"6\": 1, \"3\": 1}}}, \"per_domain_accuracy\": {\"8\": {\"accuracy\": 0.675, \"source?\": true}, \"50\": {\"accuracy\": 0.8411458333333334, \"source?\": true}, \"32\": {\"accuracy\": 0.740625, \"source?\": true}, \"14\": {\"accuracy\": 0.6552083333333333, \"source?\": false}, \"20\": {\"accuracy\": 0.3963541666666667, \"source?\": false}, \"44\": {\"accuracy\": 0.775, \"source?\": false}, \"38\": {\"accuracy\": 0.6526041666666667, \"source?\": false}, \"26\": {\"accuracy\": 0.5328125, \"source?\": false}}}, \"history\": {\"epoch_indices\": [1, 2, 3, 4, 5, 6, 7, 8, 9, 10], \"train_label_loss\": [1.2666906481697446, 1.3127220803783053, 1.17003430553845, 0.7973874650540806, 0.6584410544662248, 0.5785843510003317, 0.5281275488258828, 0.4785190243451368, 0.4513657643326691, 0.41090273321384474], \"source_val_label_loss\": [1.6663974523544312, 1.3235582113265991, 0.906478226184845, 0.7667930722236633, 0.6852167248725891, 0.6616294384002686, 0.6274492144584656, 0.6209197044372559, 0.584958016872406, 0.5883552432060242], \"target_val_label_loss\": [1.7516591548919678, 1.8789933919906616, 1.4851773977279663, 1.3744606971740723, 1.202336311340332, 1.1798754930496216, 1.1824134588241577, 1.225766897201538, 1.197953224182129, 1.2218493223190308], \"source_val_acc_label\": [0.46805555555555556, 0.4876736111111111, 0.6503472222222222, 0.7074652777777778, 0.7470486111111111, 0.7522569444444445, 0.7675347222222222, 0.778125, 0.7817708333333333, 0.7869791666666667], \"target_val_acc_label\": [0.3960416666666667, 0.3925, 0.5210416666666666, 0.5601041666666666, 0.5942708333333333, 0.6023958333333334, 0.6234375, 0.6266666666666667, 0.6358333333333334, 0.6348958333333333]}, \"dataset_metrics\": {\"source\": {\"train\": {\"n_unique_x\": 33600, \"n_unique_y\": 16, \"n_batch/episode\": 420}, \"val\": {\"n_unique_x\": 7200, \"n_unique_y\": 16, \"n_batch/episode\": 180}, \"test\": {\"n_unique_x\": 7200, \"n_unique_y\": 16, \"n_batch/episode\": 180}}, \"target\": {\"train\": {\"n_unique_x\": 56000, \"n_unique_y\": 16, \"n_batch/episode\": 700}, \"val\": {\"n_unique_x\": 12000, \"n_unique_y\": 16, \"n_batch/episode\": 300}, \"test\": {\"n_unique_x\": 12000, \"n_unique_y\": 16, \"n_batch/episode\": 300}}}}'"
      ]
     },
     "execution_count": 20,
     "metadata": {},
     "output_type": "execute_result"
    }
   ],
   "source": [
    "json.dumps(experiment)"
   ]
  }
 ],
 "metadata": {
  "celltoolbar": "Tags",
  "kernelspec": {
   "display_name": "Python 3 (ipykernel)",
   "language": "python",
   "name": "python3"
  },
  "language_info": {
   "codemirror_mode": {
    "name": "ipython",
    "version": 3
   },
   "file_extension": ".py",
   "mimetype": "text/x-python",
   "name": "python",
   "nbconvert_exporter": "python",
   "pygments_lexer": "ipython3",
   "version": "3.8.10"
  },
  "papermill": {
   "default_parameters": {},
   "duration": 675.34914,
   "end_time": "2022-03-04T02:27:52.632558",
   "environment_variables": {},
   "exception": null,
   "input_path": "/mnt/wd500GB/CSC500/csc500-main/csc500-notebooks/templates/ptn_template.ipynb",
   "output_path": "trial.ipynb",
   "parameters": {
    "parameters": {
     "BEST_MODEL_PATH": "./best_model.pth",
     "NUM_LOGS_PER_EPOCH": 10,
     "criteria_for_best": "target_loss",
     "dataset_seed": 1984,
     "device": "cuda",
     "domains_source": [
      8,
      32,
      50
     ],
     "domains_target": [
      14,
      20,
      26,
      38,
      44
     ],
     "episode_transforms_source": [],
     "episode_transforms_target": [],
     "experiment_name": "dataset_seeds_oracle.run2",
     "labels_source": [
      "3123D52",
      "3123D65",
      "3123D79",
      "3123D80",
      "3123D54",
      "3123D70",
      "3123D7B",
      "3123D89",
      "3123D58",
      "3123D76",
      "3123D7D",
      "3123EFE",
      "3123D64",
      "3123D78",
      "3123D7E",
      "3124E4A"
     ],
     "labels_target": [
      "3123D52",
      "3123D65",
      "3123D79",
      "3123D80",
      "3123D54",
      "3123D70",
      "3123D7B",
      "3123D89",
      "3123D58",
      "3123D76",
      "3123D7D",
      "3123EFE",
      "3123D64",
      "3123D78",
      "3123D7E",
      "3124E4A"
     ],
     "lr": 0.001,
     "n_epoch": 50,
     "n_query": 2,
     "n_shot": 3,
     "n_way": 16,
     "num_examples_per_domain_per_label_source": 1000,
     "num_examples_per_domain_per_label_target": 1000,
     "patience": 3,
     "pickle_name": "oracle.Run2_10kExamples_stratified_ds.2022A.pkl",
     "seed": 1337,
     "test_k_factor": 2,
     "torch_default_dtype": "torch.float32",
     "train_k_factor": 1,
     "val_k_factor": 2,
     "x_net": [
      {
       "class": "nnReshape",
       "kargs": {
        "shape": [
         -1,
         1,
         2,
         256
        ]
       }
      },
      {
       "class": "Conv2d",
       "kargs": {
        "bias": false,
        "in_channels": 1,
        "kernel_size": [
         1,
         7
        ],
        "out_channels": 256,
        "padding": [
         0,
         3
        ]
       }
      },
      {
       "class": "ReLU",
       "kargs": {
        "inplace": true
       }
      },
      {
       "class": "BatchNorm2d",
       "kargs": {
        "num_features": 256
       }
      },
      {
       "class": "Conv2d",
       "kargs": {
        "bias": true,
        "in_channels": 256,
        "kernel_size": [
         2,
         7
        ],
        "out_channels": 80,
        "padding": [
         0,
         3
        ]
       }
      },
      {
       "class": "ReLU",
       "kargs": {
        "inplace": true
       }
      },
      {
       "class": "BatchNorm2d",
       "kargs": {
        "num_features": 80
       }
      },
      {
       "class": "Flatten",
       "kargs": {}
      },
      {
       "class": "Linear",
       "kargs": {
        "in_features": 20480,
        "out_features": 256
       }
      },
      {
       "class": "ReLU",
       "kargs": {
        "inplace": true
       }
      },
      {
       "class": "BatchNorm1d",
       "kargs": {
        "num_features": 256
       }
      },
      {
       "class": "Linear",
       "kargs": {
        "in_features": 256,
        "out_features": 256
       }
      }
     ],
     "x_transforms_source": [],
     "x_transforms_target": []
    }
   },
   "start_time": "2022-03-04T02:16:37.283418",
   "version": "2.3.4"
  }
 },
 "nbformat": 4,
 "nbformat_minor": 5
}