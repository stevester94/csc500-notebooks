{
 "cells": [
  {
   "cell_type": "markdown",
   "id": "9fea5f46",
   "metadata": {
    "papermill": {
     "duration": 0.013835,
     "end_time": "2022-03-04T01:35:56.649543",
     "exception": false,
     "start_time": "2022-03-04T01:35:56.635708",
     "status": "completed"
    },
    "tags": []
   },
   "source": [
    "# PTN Template\n",
    "This notebook serves as a template for single dataset PTN experiments  \n",
    "It can be run on its own by setting STANDALONE to True (do a find for \"STANDALONE\" to see where)  \n",
    "But it is intended to be executed as part of a *papermill.py script. See any of the   \n",
    "experimentes with a papermill script to get started with that workflow.  "
   ]
  },
  {
   "cell_type": "code",
   "execution_count": 1,
   "id": "0902182a",
   "metadata": {
    "execution": {
     "iopub.execute_input": "2022-03-04T01:35:56.677830Z",
     "iopub.status.busy": "2022-03-04T01:35:56.677567Z",
     "iopub.status.idle": "2022-03-04T01:35:57.473774Z",
     "shell.execute_reply": "2022-03-04T01:35:57.474219Z"
    },
    "papermill": {
     "duration": 0.815582,
     "end_time": "2022-03-04T01:35:57.474456",
     "exception": false,
     "start_time": "2022-03-04T01:35:56.658874",
     "status": "completed"
    },
    "tags": []
   },
   "outputs": [],
   "source": [
    "%load_ext autoreload\n",
    "%autoreload 2\n",
    "%matplotlib inline\n",
    "\n",
    "    \n",
    "import os, json, sys, time, random\n",
    "import numpy as np\n",
    "import torch\n",
    "from torch.optim import Adam\n",
    "from  easydict import EasyDict\n",
    "import matplotlib.pyplot as plt\n",
    "\n",
    "from steves_models.steves_ptn import Steves_Prototypical_Network\n",
    "\n",
    "from steves_utils.lazy_iterable_wrapper import Lazy_Iterable_Wrapper\n",
    "from steves_utils.iterable_aggregator import Iterable_Aggregator\n",
    "from steves_utils.ptn_train_eval_test_jig import  PTN_Train_Eval_Test_Jig\n",
    "from steves_utils.torch_sequential_builder import build_sequential\n",
    "from steves_utils.torch_utils import get_dataset_metrics, ptn_confusion_by_domain_over_dataloader\n",
    "from steves_utils.utils_v2 import (per_domain_accuracy_from_confusion, get_datasets_base_path)\n",
    "from steves_utils.PTN.utils import independent_accuracy_assesment\n",
    "\n",
    "from steves_utils.stratified_dataset.episodic_accessor import Episodic_Accessor_Factory\n",
    "\n",
    "from steves_utils.ptn_do_report import (\n",
    "    get_loss_curve,\n",
    "    get_results_table,\n",
    "    get_parameters_table,\n",
    "    get_domain_accuracies,\n",
    ")\n",
    "\n",
    "from steves_utils.transforms import get_chained_transform"
   ]
  },
  {
   "cell_type": "markdown",
   "id": "41c840b4",
   "metadata": {
    "papermill": {
     "duration": 0.0096,
     "end_time": "2022-03-04T01:35:57.498504",
     "exception": false,
     "start_time": "2022-03-04T01:35:57.488904",
     "status": "completed"
    },
    "tags": []
   },
   "source": [
    "# Required Parameters\n",
    "These are allowed parameters, not defaults\n",
    "Each of these values need to be present in the injected parameters (the notebook will raise an exception if they are not present)\n",
    "\n",
    "Papermill uses the cell tag \"parameters\" to inject the real parameters below this cell.\n",
    "Enable tags to see what I mean"
   ]
  },
  {
   "cell_type": "code",
   "execution_count": 2,
   "id": "fd44eb83",
   "metadata": {
    "execution": {
     "iopub.execute_input": "2022-03-04T01:35:57.520928Z",
     "iopub.status.busy": "2022-03-04T01:35:57.520657Z",
     "iopub.status.idle": "2022-03-04T01:35:57.534066Z",
     "shell.execute_reply": "2022-03-04T01:35:57.533533Z"
    },
    "papermill": {
     "duration": 0.026114,
     "end_time": "2022-03-04T01:35:57.534171",
     "exception": false,
     "start_time": "2022-03-04T01:35:57.508057",
     "status": "completed"
    },
    "tags": []
   },
   "outputs": [],
   "source": [
    "required_parameters = {\n",
    "    \"experiment_name\",\n",
    "    \"lr\",\n",
    "    \"device\",\n",
    "    \"seed\",\n",
    "    \"dataset_seed\",\n",
    "    \"labels_source\",\n",
    "    \"labels_target\",\n",
    "    \"domains_source\",\n",
    "    \"domains_target\",\n",
    "    \"num_examples_per_domain_per_label_source\",\n",
    "    \"num_examples_per_domain_per_label_target\",\n",
    "    \"n_shot\",\n",
    "    \"n_way\",\n",
    "    \"n_query\",\n",
    "    \"train_k_factor\",\n",
    "    \"val_k_factor\",\n",
    "    \"test_k_factor\",\n",
    "    \"n_epoch\",\n",
    "    \"patience\",\n",
    "    \"criteria_for_best\",\n",
    "    \"x_transforms_source\",\n",
    "    \"x_transforms_target\",\n",
    "    \"episode_transforms_source\",\n",
    "    \"episode_transforms_target\",\n",
    "    \"pickle_name\",\n",
    "    \"x_net\",\n",
    "    \"NUM_LOGS_PER_EPOCH\",\n",
    "    \"BEST_MODEL_PATH\",\n",
    "    \"torch_default_dtype\"\n",
    "}"
   ]
  },
  {
   "cell_type": "code",
   "execution_count": 3,
   "id": "fa3f0049",
   "metadata": {
    "execution": {
     "iopub.execute_input": "2022-03-04T01:35:57.565460Z",
     "iopub.status.busy": "2022-03-04T01:35:57.565171Z",
     "iopub.status.idle": "2022-03-04T01:35:57.578248Z",
     "shell.execute_reply": "2022-03-04T01:35:57.577847Z"
    },
    "papermill": {
     "duration": 0.030544,
     "end_time": "2022-03-04T01:35:57.578337",
     "exception": false,
     "start_time": "2022-03-04T01:35:57.547793",
     "status": "completed"
    },
    "tags": [
     "parameters"
    ]
   },
   "outputs": [],
   "source": [
    "\n",
    "\n",
    "standalone_parameters = {}\n",
    "standalone_parameters[\"experiment_name\"] = \"STANDALONE PTN\"\n",
    "standalone_parameters[\"lr\"] = 0.0001\n",
    "standalone_parameters[\"device\"] = \"cuda\"\n",
    "\n",
    "standalone_parameters[\"seed\"] = 1337\n",
    "standalone_parameters[\"dataset_seed\"] = 1337\n",
    "\n",
    "\n",
    "standalone_parameters[\"num_examples_per_domain_per_label_source\"]=100\n",
    "standalone_parameters[\"num_examples_per_domain_per_label_target\"]=100\n",
    "\n",
    "standalone_parameters[\"n_shot\"] = 3\n",
    "standalone_parameters[\"n_query\"]  = 2\n",
    "standalone_parameters[\"train_k_factor\"] = 1\n",
    "standalone_parameters[\"val_k_factor\"] = 2\n",
    "standalone_parameters[\"test_k_factor\"] = 2\n",
    "\n",
    "\n",
    "standalone_parameters[\"n_epoch\"] = 100\n",
    "\n",
    "standalone_parameters[\"patience\"] = 10\n",
    "standalone_parameters[\"criteria_for_best\"] = \"target_accuracy\"\n",
    "\n",
    "standalone_parameters[\"x_transforms_source\"] = [\"unit_power\"]\n",
    "standalone_parameters[\"x_transforms_target\"] = [\"unit_power\"]\n",
    "standalone_parameters[\"episode_transforms_source\"] = []\n",
    "standalone_parameters[\"episode_transforms_target\"] = []\n",
    "\n",
    "standalone_parameters[\"torch_default_dtype\"] = \"torch.float32\" \n",
    "\n",
    "\n",
    "\n",
    "standalone_parameters[\"x_net\"] =     [\n",
    "    {\"class\": \"nnReshape\", \"kargs\": {\"shape\":[-1, 1, 2, 256]}},\n",
    "    {\"class\": \"Conv2d\", \"kargs\": { \"in_channels\":1, \"out_channels\":256, \"kernel_size\":(1,7), \"bias\":False, \"padding\":(0,3), },},\n",
    "    {\"class\": \"ReLU\", \"kargs\": {\"inplace\": True}},\n",
    "    {\"class\": \"BatchNorm2d\", \"kargs\": {\"num_features\":256}},\n",
    "\n",
    "    {\"class\": \"Conv2d\", \"kargs\": { \"in_channels\":256, \"out_channels\":80, \"kernel_size\":(2,7), \"bias\":True, \"padding\":(0,3), },},\n",
    "    {\"class\": \"ReLU\", \"kargs\": {\"inplace\": True}},\n",
    "    {\"class\": \"BatchNorm2d\", \"kargs\": {\"num_features\":80}},\n",
    "    {\"class\": \"Flatten\", \"kargs\": {}},\n",
    "\n",
    "    {\"class\": \"Linear\", \"kargs\": {\"in_features\": 80*256, \"out_features\": 256}}, # 80 units per IQ pair\n",
    "    {\"class\": \"ReLU\", \"kargs\": {\"inplace\": True}},\n",
    "    {\"class\": \"BatchNorm1d\", \"kargs\": {\"num_features\":256}},\n",
    "\n",
    "    {\"class\": \"Linear\", \"kargs\": {\"in_features\": 256, \"out_features\": 256}},\n",
    "]\n",
    "\n",
    "# Parameters relevant to results\n",
    "# These parameters will basically never need to change\n",
    "standalone_parameters[\"NUM_LOGS_PER_EPOCH\"] = 10\n",
    "standalone_parameters[\"BEST_MODEL_PATH\"] = \"./best_model.pth\"\n",
    "\n",
    "# uncomment for CORES dataset\n",
    "from steves_utils.CORES.utils import (\n",
    "    ALL_NODES,\n",
    "    ALL_NODES_MINIMUM_1000_EXAMPLES,\n",
    "    ALL_DAYS\n",
    ")\n",
    "\n",
    "\n",
    "standalone_parameters[\"labels_source\"] = ALL_NODES\n",
    "standalone_parameters[\"labels_target\"] = ALL_NODES\n",
    "\n",
    "standalone_parameters[\"domains_source\"] = [1]\n",
    "standalone_parameters[\"domains_target\"] = [2,3,4,5]\n",
    "\n",
    "standalone_parameters[\"pickle_name\"] = \"cores.stratified_ds.2022A.pkl\"\n",
    "\n",
    "\n",
    "# Uncomment these for ORACLE dataset\n",
    "# from steves_utils.ORACLE.utils_v2 import (\n",
    "#     ALL_DISTANCES_FEET,\n",
    "#     ALL_RUNS,\n",
    "#     ALL_SERIAL_NUMBERS,\n",
    "# )\n",
    "# standalone_parameters[\"labels_source\"] = ALL_SERIAL_NUMBERS\n",
    "# standalone_parameters[\"labels_target\"] = ALL_SERIAL_NUMBERS\n",
    "# standalone_parameters[\"domains_source\"] = [8,20, 38,50]\n",
    "# standalone_parameters[\"domains_target\"] = [14, 26, 32, 44, 56]\n",
    "# standalone_parameters[\"pickle_name\"] = \"oracle.frame_indexed.stratified_ds.2022A.pkl\"\n",
    "# standalone_parameters[\"num_examples_per_domain_per_label_source\"]=1000\n",
    "# standalone_parameters[\"num_examples_per_domain_per_label_target\"]=1000\n",
    "\n",
    "# Uncomment these for Metahan dataset\n",
    "# standalone_parameters[\"labels_source\"] = list(range(19))\n",
    "# standalone_parameters[\"labels_target\"] = list(range(19))\n",
    "# standalone_parameters[\"domains_source\"] = [0]\n",
    "# standalone_parameters[\"domains_target\"] = [1]\n",
    "# standalone_parameters[\"pickle_name\"] = \"metehan.stratified_ds.2022A.pkl\"\n",
    "# standalone_parameters[\"n_way\"]  = len(standalone_parameters[\"labels_source\"])\n",
    "# standalone_parameters[\"num_examples_per_domain_per_label_source\"]=200\n",
    "# standalone_parameters[\"num_examples_per_domain_per_label_target\"]=100\n",
    "\n",
    "\n",
    "standalone_parameters[\"n_way\"]  = len(standalone_parameters[\"labels_source\"])"
   ]
  },
  {
   "cell_type": "code",
   "execution_count": 4,
   "id": "07ac9c69",
   "metadata": {
    "execution": {
     "iopub.execute_input": "2022-03-04T01:35:57.609252Z",
     "iopub.status.busy": "2022-03-04T01:35:57.608963Z",
     "iopub.status.idle": "2022-03-04T01:35:57.619156Z",
     "shell.execute_reply": "2022-03-04T01:35:57.619530Z"
    },
    "papermill": {
     "duration": 0.027896,
     "end_time": "2022-03-04T01:35:57.619632",
     "exception": false,
     "start_time": "2022-03-04T01:35:57.591736",
     "status": "completed"
    },
    "tags": [
     "injected-parameters"
    ]
   },
   "outputs": [],
   "source": [
    "# Parameters\n",
    "parameters = {\n",
    "    \"experiment_name\": \"dataset_seeds_oracle.run2\",\n",
    "    \"lr\": 0.001,\n",
    "    \"device\": \"cuda\",\n",
    "    \"seed\": 1337,\n",
    "    \"dataset_seed\": 42,\n",
    "    \"labels_source\": [\n",
    "        \"3123D52\",\n",
    "        \"3123D65\",\n",
    "        \"3123D79\",\n",
    "        \"3123D80\",\n",
    "        \"3123D54\",\n",
    "        \"3123D70\",\n",
    "        \"3123D7B\",\n",
    "        \"3123D89\",\n",
    "        \"3123D58\",\n",
    "        \"3123D76\",\n",
    "        \"3123D7D\",\n",
    "        \"3123EFE\",\n",
    "        \"3123D64\",\n",
    "        \"3123D78\",\n",
    "        \"3123D7E\",\n",
    "        \"3124E4A\",\n",
    "    ],\n",
    "    \"labels_target\": [\n",
    "        \"3123D52\",\n",
    "        \"3123D65\",\n",
    "        \"3123D79\",\n",
    "        \"3123D80\",\n",
    "        \"3123D54\",\n",
    "        \"3123D70\",\n",
    "        \"3123D7B\",\n",
    "        \"3123D89\",\n",
    "        \"3123D58\",\n",
    "        \"3123D76\",\n",
    "        \"3123D7D\",\n",
    "        \"3123EFE\",\n",
    "        \"3123D64\",\n",
    "        \"3123D78\",\n",
    "        \"3123D7E\",\n",
    "        \"3124E4A\",\n",
    "    ],\n",
    "    \"x_transforms_source\": [],\n",
    "    \"x_transforms_target\": [],\n",
    "    \"episode_transforms_source\": [],\n",
    "    \"episode_transforms_target\": [],\n",
    "    \"num_examples_per_domain_per_label_source\": 1000,\n",
    "    \"num_examples_per_domain_per_label_target\": 1000,\n",
    "    \"n_shot\": 3,\n",
    "    \"n_way\": 16,\n",
    "    \"n_query\": 2,\n",
    "    \"train_k_factor\": 1,\n",
    "    \"val_k_factor\": 2,\n",
    "    \"test_k_factor\": 2,\n",
    "    \"torch_default_dtype\": \"torch.float32\",\n",
    "    \"n_epoch\": 50,\n",
    "    \"patience\": 3,\n",
    "    \"criteria_for_best\": \"target_loss\",\n",
    "    \"x_net\": [\n",
    "        {\"class\": \"nnReshape\", \"kargs\": {\"shape\": [-1, 1, 2, 256]}},\n",
    "        {\n",
    "            \"class\": \"Conv2d\",\n",
    "            \"kargs\": {\n",
    "                \"in_channels\": 1,\n",
    "                \"out_channels\": 256,\n",
    "                \"kernel_size\": [1, 7],\n",
    "                \"bias\": False,\n",
    "                \"padding\": [0, 3],\n",
    "            },\n",
    "        },\n",
    "        {\"class\": \"ReLU\", \"kargs\": {\"inplace\": True}},\n",
    "        {\"class\": \"BatchNorm2d\", \"kargs\": {\"num_features\": 256}},\n",
    "        {\n",
    "            \"class\": \"Conv2d\",\n",
    "            \"kargs\": {\n",
    "                \"in_channels\": 256,\n",
    "                \"out_channels\": 80,\n",
    "                \"kernel_size\": [2, 7],\n",
    "                \"bias\": True,\n",
    "                \"padding\": [0, 3],\n",
    "            },\n",
    "        },\n",
    "        {\"class\": \"ReLU\", \"kargs\": {\"inplace\": True}},\n",
    "        {\"class\": \"BatchNorm2d\", \"kargs\": {\"num_features\": 80}},\n",
    "        {\"class\": \"Flatten\", \"kargs\": {}},\n",
    "        {\"class\": \"Linear\", \"kargs\": {\"in_features\": 20480, \"out_features\": 256}},\n",
    "        {\"class\": \"ReLU\", \"kargs\": {\"inplace\": True}},\n",
    "        {\"class\": \"BatchNorm1d\", \"kargs\": {\"num_features\": 256}},\n",
    "        {\"class\": \"Linear\", \"kargs\": {\"in_features\": 256, \"out_features\": 256}},\n",
    "    ],\n",
    "    \"NUM_LOGS_PER_EPOCH\": 10,\n",
    "    \"BEST_MODEL_PATH\": \"./best_model.pth\",\n",
    "    \"pickle_name\": \"oracle.Run2_10kExamples_stratified_ds.2022A.pkl\",\n",
    "    \"domains_source\": [8, 32, 50],\n",
    "    \"domains_target\": [14, 20, 26, 38, 44],\n",
    "}\n"
   ]
  },
  {
   "cell_type": "code",
   "execution_count": 5,
   "id": "8fa1cc33",
   "metadata": {
    "execution": {
     "iopub.execute_input": "2022-03-04T01:35:57.646215Z",
     "iopub.status.busy": "2022-03-04T01:35:57.645954Z",
     "iopub.status.idle": "2022-03-04T01:35:57.655369Z",
     "shell.execute_reply": "2022-03-04T01:35:57.655739Z"
    },
    "papermill": {
     "duration": 0.022035,
     "end_time": "2022-03-04T01:35:57.655842",
     "exception": false,
     "start_time": "2022-03-04T01:35:57.633807",
     "status": "completed"
    },
    "tags": []
   },
   "outputs": [],
   "source": [
    "# Set this to True if you want to run this template directly\n",
    "STANDALONE = False\n",
    "if STANDALONE:\n",
    "    print(\"parameters not injected, running with standalone_parameters\")\n",
    "    parameters = standalone_parameters\n",
    "\n",
    "if not 'parameters' in locals() and not 'parameters' in globals():\n",
    "    raise Exception(\"Parameter injection failed\")\n",
    "\n",
    "#Use an easy dict for all the parameters\n",
    "p = EasyDict(parameters)\n",
    "\n",
    "supplied_keys = set(p.keys())\n",
    "\n",
    "if  supplied_keys != required_parameters:\n",
    "    print(\"Parameters are incorrect\")\n",
    "    if len(supplied_keys - required_parameters)>0: print(\"Shouldn't have:\", str(supplied_keys - required_parameters))\n",
    "    if len(required_parameters - supplied_keys)>0: print(\"Need to have:\", str(required_parameters - supplied_keys))\n",
    "    raise RuntimeError(\"Parameters are incorrect\")\n",
    "\n"
   ]
  },
  {
   "cell_type": "code",
   "execution_count": 6,
   "id": "3a028d58",
   "metadata": {
    "execution": {
     "iopub.execute_input": "2022-03-04T01:35:57.680797Z",
     "iopub.status.busy": "2022-03-04T01:35:57.679865Z",
     "iopub.status.idle": "2022-03-04T01:35:57.694523Z",
     "shell.execute_reply": "2022-03-04T01:35:57.694117Z"
    },
    "papermill": {
     "duration": 0.02581,
     "end_time": "2022-03-04T01:35:57.694613",
     "exception": false,
     "start_time": "2022-03-04T01:35:57.668803",
     "status": "completed"
    },
    "tags": []
   },
   "outputs": [],
   "source": [
    "###################################\n",
    "# Set the RNGs and make it all deterministic\n",
    "###################################\n",
    "np.random.seed(p.seed)\n",
    "random.seed(p.seed)\n",
    "torch.manual_seed(p.seed)\n",
    "\n",
    "torch.use_deterministic_algorithms(True) "
   ]
  },
  {
   "cell_type": "code",
   "execution_count": 7,
   "id": "b691acf6",
   "metadata": {
    "execution": {
     "iopub.execute_input": "2022-03-04T01:35:57.720701Z",
     "iopub.status.busy": "2022-03-04T01:35:57.720444Z",
     "iopub.status.idle": "2022-03-04T01:35:57.730826Z",
     "shell.execute_reply": "2022-03-04T01:35:57.731033Z"
    },
    "papermill": {
     "duration": 0.022468,
     "end_time": "2022-03-04T01:35:57.731097",
     "exception": false,
     "start_time": "2022-03-04T01:35:57.708629",
     "status": "completed"
    },
    "tags": []
   },
   "outputs": [],
   "source": [
    "###########################################\n",
    "# The stratified datasets honor this\n",
    "###########################################\n",
    "torch.set_default_dtype(eval(p.torch_default_dtype))"
   ]
  },
  {
   "cell_type": "code",
   "execution_count": 8,
   "id": "b5fba671",
   "metadata": {
    "execution": {
     "iopub.execute_input": "2022-03-04T01:35:57.754651Z",
     "iopub.status.busy": "2022-03-04T01:35:57.754399Z",
     "iopub.status.idle": "2022-03-04T01:35:57.789377Z",
     "shell.execute_reply": "2022-03-04T01:35:57.788918Z"
    },
    "papermill": {
     "duration": 0.04638,
     "end_time": "2022-03-04T01:35:57.789481",
     "exception": false,
     "start_time": "2022-03-04T01:35:57.743101",
     "status": "completed"
    },
    "tags": []
   },
   "outputs": [],
   "source": [
    "###################################\n",
    "# Build the network(s)\n",
    "# Note: It's critical to do this AFTER setting the RNG\n",
    "# (This is due to the randomized initial weights)\n",
    "###################################\n",
    "x_net = build_sequential(p.x_net)"
   ]
  },
  {
   "cell_type": "code",
   "execution_count": 9,
   "id": "5d7e61cc",
   "metadata": {
    "execution": {
     "iopub.execute_input": "2022-03-04T01:35:57.815793Z",
     "iopub.status.busy": "2022-03-04T01:35:57.815540Z",
     "iopub.status.idle": "2022-03-04T01:35:57.824509Z",
     "shell.execute_reply": "2022-03-04T01:35:57.824815Z"
    },
    "papermill": {
     "duration": 0.020931,
     "end_time": "2022-03-04T01:35:57.824908",
     "exception": false,
     "start_time": "2022-03-04T01:35:57.803977",
     "status": "completed"
    },
    "tags": []
   },
   "outputs": [],
   "source": [
    "start_time_secs = time.time()"
   ]
  },
  {
   "cell_type": "code",
   "execution_count": 10,
   "id": "fd5442bc",
   "metadata": {
    "execution": {
     "iopub.execute_input": "2022-03-04T01:35:57.852136Z",
     "iopub.status.busy": "2022-03-04T01:35:57.851869Z",
     "iopub.status.idle": "2022-03-04T01:36:00.907707Z",
     "shell.execute_reply": "2022-03-04T01:36:00.907245Z"
    },
    "papermill": {
     "duration": 3.070662,
     "end_time": "2022-03-04T01:36:00.907812",
     "exception": false,
     "start_time": "2022-03-04T01:35:57.837150",
     "status": "completed"
    },
    "tags": []
   },
   "outputs": [],
   "source": [
    "###################################\n",
    "# Build the dataset\n",
    "###################################\n",
    "\n",
    "if p.x_transforms_source == []: x_transform_source = None\n",
    "else: x_transform_source = get_chained_transform(p.x_transforms_source) \n",
    "\n",
    "if p.x_transforms_target == []: x_transform_target = None\n",
    "else: x_transform_target = get_chained_transform(p.x_transforms_target)\n",
    "\n",
    "if p.episode_transforms_source == []: episode_transform_source = None\n",
    "else: raise Exception(\"episode_transform_source not implemented\")\n",
    "\n",
    "if p.episode_transforms_target == []: episode_transform_target = None\n",
    "else: raise Exception(\"episode_transform_target not implemented\")\n",
    "\n",
    "\n",
    "eaf_source = Episodic_Accessor_Factory(\n",
    "    labels=p.labels_source,\n",
    "    domains=p.domains_source,\n",
    "    num_examples_per_domain_per_label=p.num_examples_per_domain_per_label_source,\n",
    "    iterator_seed=p.seed,\n",
    "    dataset_seed=p.dataset_seed,\n",
    "    n_shot=p.n_shot,\n",
    "    n_way=p.n_way,\n",
    "    n_query=p.n_query,\n",
    "    train_val_test_k_factors=(p.train_k_factor,p.val_k_factor,p.test_k_factor),\n",
    "    pickle_path=os.path.join(get_datasets_base_path(), p.pickle_name),\n",
    "    x_transform_func=x_transform_source,\n",
    "    example_transform_func=episode_transform_source,\n",
    "    \n",
    ")\n",
    "train_original_source, val_original_source, test_original_source = eaf_source.get_train(), eaf_source.get_val(), eaf_source.get_test()\n",
    "\n",
    "\n",
    "eaf_target = Episodic_Accessor_Factory(\n",
    "    labels=p.labels_target,\n",
    "    domains=p.domains_target,\n",
    "    num_examples_per_domain_per_label=p.num_examples_per_domain_per_label_target,\n",
    "    iterator_seed=p.seed,\n",
    "    dataset_seed=p.dataset_seed,\n",
    "    n_shot=p.n_shot,\n",
    "    n_way=p.n_way,\n",
    "    n_query=p.n_query,\n",
    "    train_val_test_k_factors=(p.train_k_factor,p.val_k_factor,p.test_k_factor),\n",
    "    pickle_path=os.path.join(get_datasets_base_path(), p.pickle_name),\n",
    "    x_transform_func=x_transform_target,\n",
    "    example_transform_func=episode_transform_target,\n",
    ")\n",
    "train_original_target, val_original_target, test_original_target = eaf_target.get_train(), eaf_target.get_val(), eaf_target.get_test()\n",
    "\n",
    "\n",
    "transform_lambda = lambda ex: ex[1] # Original is (<domain>, <episode>) so we strip down to episode only\n",
    "\n",
    "train_processed_source = Lazy_Iterable_Wrapper(train_original_source, transform_lambda)\n",
    "val_processed_source   = Lazy_Iterable_Wrapper(val_original_source, transform_lambda)\n",
    "test_processed_source  = Lazy_Iterable_Wrapper(test_original_source, transform_lambda)\n",
    "\n",
    "train_processed_target = Lazy_Iterable_Wrapper(train_original_target, transform_lambda)\n",
    "val_processed_target   = Lazy_Iterable_Wrapper(val_original_target, transform_lambda)\n",
    "test_processed_target  = Lazy_Iterable_Wrapper(test_original_target, transform_lambda)\n",
    "\n",
    "datasets = EasyDict({\n",
    "    \"source\": {\n",
    "        \"original\": {\"train\":train_original_source, \"val\":val_original_source, \"test\":test_original_source},\n",
    "        \"processed\": {\"train\":train_processed_source, \"val\":val_processed_source, \"test\":test_processed_source}\n",
    "    },\n",
    "    \"target\": {\n",
    "        \"original\": {\"train\":train_original_target, \"val\":val_original_target, \"test\":test_original_target},\n",
    "        \"processed\": {\"train\":train_processed_target, \"val\":val_processed_target, \"test\":test_processed_target}\n",
    "    },\n",
    "})"
   ]
  },
  {
   "cell_type": "code",
   "execution_count": 11,
   "id": "296189d9",
   "metadata": {
    "execution": {
     "iopub.execute_input": "2022-03-04T01:36:00.945634Z",
     "iopub.status.busy": "2022-03-04T01:36:00.939891Z",
     "iopub.status.idle": "2022-03-04T01:36:03.640263Z",
     "shell.execute_reply": "2022-03-04T01:36:03.640478Z"
    },
    "papermill": {
     "duration": 2.714278,
     "end_time": "2022-03-04T01:36:03.640555",
     "exception": false,
     "start_time": "2022-03-04T01:36:00.926277",
     "status": "completed"
    },
    "tags": []
   },
   "outputs": [
    {
     "name": "stdout",
     "output_type": "stream",
     "text": [
      "Visually inspect these to see if they line up with expected values given the transforms\n",
      "x_transforms_source []\n",
      "x_transforms_target []\n",
      "Average magnitude, source: 0.0046251854\n",
      "Average power, source: 2.8884446e-05\n"
     ]
    },
    {
     "name": "stdout",
     "output_type": "stream",
     "text": [
      "Average magnitude, target: 0.002931744\n",
      "Average power, target: 1.0877974e-05\n"
     ]
    }
   ],
   "source": [
    "# Some quick unit tests on the data\n",
    "from steves_utils.transforms import get_average_power, get_average_magnitude\n",
    "\n",
    "q_x, q_y, s_x, s_y, truth = next(iter(train_processed_source))\n",
    "\n",
    "assert q_x.dtype == eval(p.torch_default_dtype)\n",
    "assert s_x.dtype == eval(p.torch_default_dtype)\n",
    "\n",
    "print(\"Visually inspect these to see if they line up with expected values given the transforms\")\n",
    "print('x_transforms_source', p.x_transforms_source)\n",
    "print('x_transforms_target', p.x_transforms_target)\n",
    "print(\"Average magnitude, source:\", get_average_magnitude(q_x[0].numpy()))\n",
    "print(\"Average power, source:\", get_average_power(q_x[0].numpy()))\n",
    "\n",
    "q_x, q_y, s_x, s_y, truth = next(iter(train_processed_target))\n",
    "print(\"Average magnitude, target:\", get_average_magnitude(q_x[0].numpy()))\n",
    "print(\"Average power, target:\", get_average_power(q_x[0].numpy()))\n"
   ]
  },
  {
   "cell_type": "code",
   "execution_count": 12,
   "id": "bbdacba1",
   "metadata": {
    "execution": {
     "iopub.execute_input": "2022-03-04T01:36:03.665351Z",
     "iopub.status.busy": "2022-03-04T01:36:03.665084Z",
     "iopub.status.idle": "2022-03-04T01:36:03.723548Z",
     "shell.execute_reply": "2022-03-04T01:36:03.723959Z"
    },
    "papermill": {
     "duration": 0.073045,
     "end_time": "2022-03-04T01:36:03.724083",
     "exception": false,
     "start_time": "2022-03-04T01:36:03.651038",
     "status": "completed"
    },
    "tags": []
   },
   "outputs": [
    {
     "name": "stdout",
     "output_type": "stream",
     "text": [
      "(2, 256)\n"
     ]
    }
   ],
   "source": [
    "###################################\n",
    "# Build the model\n",
    "###################################\n",
    "model = Steves_Prototypical_Network(x_net, device=p.device, x_shape=(2,256))\n",
    "optimizer = Adam(params=model.parameters(), lr=p.lr)"
   ]
  },
  {
   "cell_type": "code",
   "execution_count": 13,
   "id": "22b39ac5",
   "metadata": {
    "execution": {
     "iopub.execute_input": "2022-03-04T01:36:03.751983Z",
     "iopub.status.busy": "2022-03-04T01:36:03.751605Z",
     "iopub.status.idle": "2022-03-04T01:47:19.995659Z",
     "shell.execute_reply": "2022-03-04T01:47:19.995423Z"
    },
    "papermill": {
     "duration": 676.257349,
     "end_time": "2022-03-04T01:47:19.995718",
     "exception": false,
     "start_time": "2022-03-04T01:36:03.738369",
     "status": "completed"
    },
    "tags": []
   },
   "outputs": [
    {
     "name": "stdout",
     "output_type": "stream",
     "text": [
      "epoch: 1, [batch: 1 / 420], examples_per_second: 9.4668, train_label_loss: 2.2697, \n"
     ]
    },
    {
     "name": "stdout",
     "output_type": "stream",
     "text": [
      "epoch: 1, [batch: 42 / 420], examples_per_second: 785.4810, train_label_loss: 1.4075, \n"
     ]
    },
    {
     "name": "stdout",
     "output_type": "stream",
     "text": [
      "epoch: 1, [batch: 84 / 420], examples_per_second: 924.1295, train_label_loss: 1.2138, \n"
     ]
    },
    {
     "name": "stdout",
     "output_type": "stream",
     "text": [
      "epoch: 1, [batch: 126 / 420], examples_per_second: 1013.0235, train_label_loss: 1.5577, \n"
     ]
    },
    {
     "name": "stdout",
     "output_type": "stream",
     "text": [
      "epoch: 1, [batch: 168 / 420], examples_per_second: 1136.0495, train_label_loss: 1.2029, \n"
     ]
    },
    {
     "name": "stdout",
     "output_type": "stream",
     "text": [
      "epoch: 1, [batch: 210 / 420], examples_per_second: 1251.4146, train_label_loss: 0.9994, \n"
     ]
    },
    {
     "name": "stdout",
     "output_type": "stream",
     "text": [
      "epoch: 1, [batch: 252 / 420], examples_per_second: 1455.5699, train_label_loss: 1.3338, \n"
     ]
    },
    {
     "name": "stdout",
     "output_type": "stream",
     "text": [
      "epoch: 1, [batch: 294 / 420], examples_per_second: 1617.7811, train_label_loss: 1.2675, \n"
     ]
    },
    {
     "name": "stdout",
     "output_type": "stream",
     "text": [
      "epoch: 1, [batch: 336 / 420], examples_per_second: 1892.6162, train_label_loss: 1.1725, \n"
     ]
    },
    {
     "name": "stdout",
     "output_type": "stream",
     "text": [
      "epoch: 1, [batch: 378 / 420], examples_per_second: 2031.4582, train_label_loss: 1.3312, \n"
     ]
    },
    {
     "name": "stdout",
     "output_type": "stream",
     "text": [
      "=============================================================\n",
      "epoch: 1, source_val_acc_label: 0.4750, target_val_acc_label: 0.3922, source_val_label_loss: 1.5642, target_val_label_loss: 1.7204, \n",
      "=============================================================\n"
     ]
    },
    {
     "name": "stdout",
     "output_type": "stream",
     "text": [
      "New best\n"
     ]
    },
    {
     "name": "stdout",
     "output_type": "stream",
     "text": [
      "epoch: 2, [batch: 1 / 420], examples_per_second: 5.1812, train_label_loss: 1.3118, \n"
     ]
    },
    {
     "name": "stdout",
     "output_type": "stream",
     "text": [
      "epoch: 2, [batch: 42 / 420], examples_per_second: 796.8790, train_label_loss: 1.3184, \n"
     ]
    },
    {
     "name": "stdout",
     "output_type": "stream",
     "text": [
      "epoch: 2, [batch: 84 / 420], examples_per_second: 934.9831, train_label_loss: 1.5603, \n"
     ]
    },
    {
     "name": "stdout",
     "output_type": "stream",
     "text": [
      "epoch: 2, [batch: 126 / 420], examples_per_second: 1031.7188, train_label_loss: 0.9653, \n"
     ]
    },
    {
     "name": "stdout",
     "output_type": "stream",
     "text": [
      "epoch: 2, [batch: 168 / 420], examples_per_second: 1129.4928, train_label_loss: 1.3279, \n"
     ]
    },
    {
     "name": "stdout",
     "output_type": "stream",
     "text": [
      "epoch: 2, [batch: 210 / 420], examples_per_second: 1263.5525, train_label_loss: 1.1896, \n"
     ]
    },
    {
     "name": "stdout",
     "output_type": "stream",
     "text": [
      "epoch: 2, [batch: 252 / 420], examples_per_second: 1415.1919, train_label_loss: 1.2111, \n"
     ]
    },
    {
     "name": "stdout",
     "output_type": "stream",
     "text": [
      "epoch: 2, [batch: 294 / 420], examples_per_second: 1615.7473, train_label_loss: 1.4269, \n"
     ]
    },
    {
     "name": "stdout",
     "output_type": "stream",
     "text": [
      "epoch: 2, [batch: 336 / 420], examples_per_second: 1928.0333, train_label_loss: 1.2504, \n"
     ]
    },
    {
     "name": "stdout",
     "output_type": "stream",
     "text": [
      "epoch: 2, [batch: 378 / 420], examples_per_second: 2082.2340, train_label_loss: 1.2872, \n"
     ]
    },
    {
     "name": "stdout",
     "output_type": "stream",
     "text": [
      "=============================================================\n",
      "epoch: 2, source_val_acc_label: 0.4733, target_val_acc_label: 0.3920, source_val_label_loss: 1.2894, target_val_label_loss: 1.8649, \n",
      "=============================================================\n"
     ]
    },
    {
     "name": "stdout",
     "output_type": "stream",
     "text": [
      "epoch: 3, [batch: 1 / 420], examples_per_second: 5.1539, train_label_loss: 1.3205, \n"
     ]
    },
    {
     "name": "stdout",
     "output_type": "stream",
     "text": [
      "epoch: 3, [batch: 42 / 420], examples_per_second: 792.0411, train_label_loss: 1.0310, \n"
     ]
    },
    {
     "name": "stdout",
     "output_type": "stream",
     "text": [
      "epoch: 3, [batch: 84 / 420], examples_per_second: 931.0572, train_label_loss: 1.2313, \n"
     ]
    },
    {
     "name": "stdout",
     "output_type": "stream",
     "text": [
      "epoch: 3, [batch: 126 / 420], examples_per_second: 991.9017, train_label_loss: 1.3129, \n"
     ]
    },
    {
     "name": "stdout",
     "output_type": "stream",
     "text": [
      "epoch: 3, [batch: 168 / 420], examples_per_second: 1114.6573, train_label_loss: 1.1508, \n"
     ]
    },
    {
     "name": "stdout",
     "output_type": "stream",
     "text": [
      "epoch: 3, [batch: 210 / 420], examples_per_second: 1222.2934, train_label_loss: 1.0533, \n"
     ]
    },
    {
     "name": "stdout",
     "output_type": "stream",
     "text": [
      "epoch: 3, [batch: 252 / 420], examples_per_second: 1401.8148, train_label_loss: 1.4305, \n"
     ]
    },
    {
     "name": "stdout",
     "output_type": "stream",
     "text": [
      "epoch: 3, [batch: 294 / 420], examples_per_second: 1606.3203, train_label_loss: 1.3211, \n"
     ]
    },
    {
     "name": "stdout",
     "output_type": "stream",
     "text": [
      "epoch: 3, [batch: 336 / 420], examples_per_second: 1922.5685, train_label_loss: 1.2600, \n"
     ]
    },
    {
     "name": "stdout",
     "output_type": "stream",
     "text": [
      "epoch: 3, [batch: 378 / 420], examples_per_second: 2082.9218, train_label_loss: 0.6536, \n"
     ]
    },
    {
     "name": "stdout",
     "output_type": "stream",
     "text": [
      "=============================================================\n",
      "epoch: 3, source_val_acc_label: 0.6316, target_val_acc_label: 0.4940, source_val_label_loss: 0.9600, target_val_label_loss: 1.6287, \n",
      "=============================================================\n"
     ]
    },
    {
     "name": "stdout",
     "output_type": "stream",
     "text": [
      "New best\n"
     ]
    },
    {
     "name": "stdout",
     "output_type": "stream",
     "text": [
      "epoch: 4, [batch: 1 / 420], examples_per_second: 5.1628, train_label_loss: 0.9382, \n"
     ]
    },
    {
     "name": "stdout",
     "output_type": "stream",
     "text": [
      "epoch: 4, [batch: 42 / 420], examples_per_second: 795.8794, train_label_loss: 1.2033, \n"
     ]
    },
    {
     "name": "stdout",
     "output_type": "stream",
     "text": [
      "epoch: 4, [batch: 84 / 420], examples_per_second: 921.4978, train_label_loss: 0.8279, \n"
     ]
    },
    {
     "name": "stdout",
     "output_type": "stream",
     "text": [
      "epoch: 4, [batch: 126 / 420], examples_per_second: 1016.8834, train_label_loss: 1.2352, \n"
     ]
    },
    {
     "name": "stdout",
     "output_type": "stream",
     "text": [
      "epoch: 4, [batch: 168 / 420], examples_per_second: 1100.9200, train_label_loss: 1.3241, \n"
     ]
    },
    {
     "name": "stdout",
     "output_type": "stream",
     "text": [
      "epoch: 4, [batch: 210 / 420], examples_per_second: 1245.6486, train_label_loss: 0.5572, \n"
     ]
    },
    {
     "name": "stdout",
     "output_type": "stream",
     "text": [
      "epoch: 4, [batch: 252 / 420], examples_per_second: 1404.4411, train_label_loss: 1.1965, \n"
     ]
    },
    {
     "name": "stdout",
     "output_type": "stream",
     "text": [
      "epoch: 4, [batch: 294 / 420], examples_per_second: 1602.8347, train_label_loss: 0.9686, \n"
     ]
    },
    {
     "name": "stdout",
     "output_type": "stream",
     "text": [
      "epoch: 4, [batch: 336 / 420], examples_per_second: 1974.1155, train_label_loss: 1.0047, \n"
     ]
    },
    {
     "name": "stdout",
     "output_type": "stream",
     "text": [
      "epoch: 4, [batch: 378 / 420], examples_per_second: 2126.9926, train_label_loss: 0.8054, \n"
     ]
    },
    {
     "name": "stdout",
     "output_type": "stream",
     "text": [
      "=============================================================\n",
      "epoch: 4, source_val_acc_label: 0.7146, target_val_acc_label: 0.5587, source_val_label_loss: 0.7533, target_val_label_loss: 1.3018, \n",
      "=============================================================\n"
     ]
    },
    {
     "name": "stdout",
     "output_type": "stream",
     "text": [
      "New best\n"
     ]
    },
    {
     "name": "stdout",
     "output_type": "stream",
     "text": [
      "epoch: 5, [batch: 1 / 420], examples_per_second: 5.1453, train_label_loss: 0.6436, \n"
     ]
    },
    {
     "name": "stdout",
     "output_type": "stream",
     "text": [
      "epoch: 5, [batch: 42 / 420], examples_per_second: 790.5913, train_label_loss: 0.7441, \n"
     ]
    },
    {
     "name": "stdout",
     "output_type": "stream",
     "text": [
      "epoch: 5, [batch: 84 / 420], examples_per_second: 920.8359, train_label_loss: 0.4894, \n"
     ]
    },
    {
     "name": "stdout",
     "output_type": "stream",
     "text": [
      "epoch: 5, [batch: 126 / 420], examples_per_second: 1007.5735, train_label_loss: 0.4507, \n"
     ]
    },
    {
     "name": "stdout",
     "output_type": "stream",
     "text": [
      "epoch: 5, [batch: 168 / 420], examples_per_second: 1113.7150, train_label_loss: 0.6572, \n"
     ]
    },
    {
     "name": "stdout",
     "output_type": "stream",
     "text": [
      "epoch: 5, [batch: 210 / 420], examples_per_second: 1242.2370, train_label_loss: 1.2435, \n"
     ]
    },
    {
     "name": "stdout",
     "output_type": "stream",
     "text": [
      "epoch: 5, [batch: 252 / 420], examples_per_second: 1411.3825, train_label_loss: 0.4555, \n"
     ]
    },
    {
     "name": "stdout",
     "output_type": "stream",
     "text": [
      "epoch: 5, [batch: 294 / 420], examples_per_second: 1626.3765, train_label_loss: 0.8121, \n"
     ]
    },
    {
     "name": "stdout",
     "output_type": "stream",
     "text": [
      "epoch: 5, [batch: 336 / 420], examples_per_second: 1912.0432, train_label_loss: 0.7061, \n"
     ]
    },
    {
     "name": "stdout",
     "output_type": "stream",
     "text": [
      "epoch: 5, [batch: 378 / 420], examples_per_second: 2126.4444, train_label_loss: 0.7210, \n"
     ]
    },
    {
     "name": "stdout",
     "output_type": "stream",
     "text": [
      "=============================================================\n",
      "epoch: 5, source_val_acc_label: 0.7550, target_val_acc_label: 0.5878, source_val_label_loss: 0.6579, target_val_label_loss: 1.2099, \n",
      "=============================================================\n"
     ]
    },
    {
     "name": "stdout",
     "output_type": "stream",
     "text": [
      "New best\n"
     ]
    },
    {
     "name": "stdout",
     "output_type": "stream",
     "text": [
      "epoch: 6, [batch: 1 / 420], examples_per_second: 5.1591, train_label_loss: 0.2519, \n"
     ]
    },
    {
     "name": "stdout",
     "output_type": "stream",
     "text": [
      "epoch: 6, [batch: 42 / 420], examples_per_second: 772.2421, train_label_loss: 0.4886, \n"
     ]
    },
    {
     "name": "stdout",
     "output_type": "stream",
     "text": [
      "epoch: 6, [batch: 84 / 420], examples_per_second: 908.4453, train_label_loss: 0.4678, \n"
     ]
    },
    {
     "name": "stdout",
     "output_type": "stream",
     "text": [
      "epoch: 6, [batch: 126 / 420], examples_per_second: 1007.4952, train_label_loss: 0.3190, \n"
     ]
    },
    {
     "name": "stdout",
     "output_type": "stream",
     "text": [
      "epoch: 6, [batch: 168 / 420], examples_per_second: 1101.5529, train_label_loss: 0.5648, \n"
     ]
    },
    {
     "name": "stdout",
     "output_type": "stream",
     "text": [
      "epoch: 6, [batch: 210 / 420], examples_per_second: 1231.5942, train_label_loss: 1.0354, \n"
     ]
    },
    {
     "name": "stdout",
     "output_type": "stream",
     "text": [
      "epoch: 6, [batch: 252 / 420], examples_per_second: 1389.6508, train_label_loss: 0.5191, \n"
     ]
    },
    {
     "name": "stdout",
     "output_type": "stream",
     "text": [
      "epoch: 6, [batch: 294 / 420], examples_per_second: 1649.8996, train_label_loss: 0.5556, \n"
     ]
    },
    {
     "name": "stdout",
     "output_type": "stream",
     "text": [
      "epoch: 6, [batch: 336 / 420], examples_per_second: 1881.1719, train_label_loss: 0.5168, \n"
     ]
    },
    {
     "name": "stdout",
     "output_type": "stream",
     "text": [
      "epoch: 6, [batch: 378 / 420], examples_per_second: 2029.1542, train_label_loss: 1.0026, \n"
     ]
    },
    {
     "name": "stdout",
     "output_type": "stream",
     "text": [
      "=============================================================\n",
      "epoch: 6, source_val_acc_label: 0.7601, target_val_acc_label: 0.6048, source_val_label_loss: 0.6312, target_val_label_loss: 1.1481, \n",
      "=============================================================\n"
     ]
    },
    {
     "name": "stdout",
     "output_type": "stream",
     "text": [
      "New best\n"
     ]
    },
    {
     "name": "stdout",
     "output_type": "stream",
     "text": [
      "epoch: 7, [batch: 1 / 420], examples_per_second: 5.1290, train_label_loss: 0.4470, \n"
     ]
    },
    {
     "name": "stdout",
     "output_type": "stream",
     "text": [
      "epoch: 7, [batch: 42 / 420], examples_per_second: 795.9119, train_label_loss: 0.5905, \n"
     ]
    },
    {
     "name": "stdout",
     "output_type": "stream",
     "text": [
      "epoch: 7, [batch: 84 / 420], examples_per_second: 909.2243, train_label_loss: 0.4358, \n"
     ]
    },
    {
     "name": "stdout",
     "output_type": "stream",
     "text": [
      "epoch: 7, [batch: 126 / 420], examples_per_second: 1010.2323, train_label_loss: 0.5295, \n"
     ]
    },
    {
     "name": "stdout",
     "output_type": "stream",
     "text": [
      "epoch: 7, [batch: 168 / 420], examples_per_second: 1107.8968, train_label_loss: 0.1967, \n"
     ]
    },
    {
     "name": "stdout",
     "output_type": "stream",
     "text": [
      "epoch: 7, [batch: 210 / 420], examples_per_second: 1253.1811, train_label_loss: 0.3574, \n"
     ]
    },
    {
     "name": "stdout",
     "output_type": "stream",
     "text": [
      "epoch: 7, [batch: 252 / 420], examples_per_second: 1379.5362, train_label_loss: 0.7604, \n"
     ]
    },
    {
     "name": "stdout",
     "output_type": "stream",
     "text": [
      "epoch: 7, [batch: 294 / 420], examples_per_second: 1607.9942, train_label_loss: 0.8525, \n"
     ]
    },
    {
     "name": "stdout",
     "output_type": "stream",
     "text": [
      "epoch: 7, [batch: 336 / 420], examples_per_second: 1913.7379, train_label_loss: 0.4563, \n"
     ]
    },
    {
     "name": "stdout",
     "output_type": "stream",
     "text": [
      "epoch: 7, [batch: 378 / 420], examples_per_second: 2108.7347, train_label_loss: 0.6649, \n"
     ]
    },
    {
     "name": "stdout",
     "output_type": "stream",
     "text": [
      "=============================================================\n",
      "epoch: 7, source_val_acc_label: 0.7759, target_val_acc_label: 0.6099, source_val_label_loss: 0.6059, target_val_label_loss: 1.1762, \n",
      "=============================================================\n"
     ]
    },
    {
     "name": "stdout",
     "output_type": "stream",
     "text": [
      "epoch: 8, [batch: 1 / 420], examples_per_second: 5.1810, train_label_loss: 0.2566, \n"
     ]
    },
    {
     "name": "stdout",
     "output_type": "stream",
     "text": [
      "epoch: 8, [batch: 42 / 420], examples_per_second: 800.4392, train_label_loss: 0.6212, \n"
     ]
    },
    {
     "name": "stdout",
     "output_type": "stream",
     "text": [
      "epoch: 8, [batch: 84 / 420], examples_per_second: 918.2863, train_label_loss: 0.3089, \n"
     ]
    },
    {
     "name": "stdout",
     "output_type": "stream",
     "text": [
      "epoch: 8, [batch: 126 / 420], examples_per_second: 955.7351, train_label_loss: 0.4510, \n"
     ]
    },
    {
     "name": "stdout",
     "output_type": "stream",
     "text": [
      "epoch: 8, [batch: 168 / 420], examples_per_second: 1065.4163, train_label_loss: 0.2163, \n"
     ]
    },
    {
     "name": "stdout",
     "output_type": "stream",
     "text": [
      "epoch: 8, [batch: 210 / 420], examples_per_second: 1171.4358, train_label_loss: 0.9641, \n"
     ]
    },
    {
     "name": "stdout",
     "output_type": "stream",
     "text": [
      "epoch: 8, [batch: 252 / 420], examples_per_second: 1391.2467, train_label_loss: 0.5043, \n"
     ]
    },
    {
     "name": "stdout",
     "output_type": "stream",
     "text": [
      "epoch: 8, [batch: 294 / 420], examples_per_second: 1432.1108, train_label_loss: 0.5443, \n"
     ]
    },
    {
     "name": "stdout",
     "output_type": "stream",
     "text": [
      "epoch: 8, [batch: 336 / 420], examples_per_second: 1798.7030, train_label_loss: 0.6026, \n"
     ]
    },
    {
     "name": "stdout",
     "output_type": "stream",
     "text": [
      "epoch: 8, [batch: 378 / 420], examples_per_second: 1942.4112, train_label_loss: 0.5408, \n"
     ]
    },
    {
     "name": "stdout",
     "output_type": "stream",
     "text": [
      "=============================================================\n",
      "epoch: 8, source_val_acc_label: 0.7780, target_val_acc_label: 0.6249, source_val_label_loss: 0.5996, target_val_label_loss: 1.1051, \n",
      "=============================================================\n"
     ]
    },
    {
     "name": "stdout",
     "output_type": "stream",
     "text": [
      "New best\n"
     ]
    },
    {
     "name": "stdout",
     "output_type": "stream",
     "text": [
      "epoch: 9, [batch: 1 / 420], examples_per_second: 5.0753, train_label_loss: 0.4157, \n"
     ]
    },
    {
     "name": "stdout",
     "output_type": "stream",
     "text": [
      "epoch: 9, [batch: 42 / 420], examples_per_second: 831.5878, train_label_loss: 0.5795, \n"
     ]
    },
    {
     "name": "stdout",
     "output_type": "stream",
     "text": [
      "epoch: 9, [batch: 84 / 420], examples_per_second: 902.4190, train_label_loss: 0.4737, \n"
     ]
    },
    {
     "name": "stdout",
     "output_type": "stream",
     "text": [
      "epoch: 9, [batch: 126 / 420], examples_per_second: 971.5489, train_label_loss: 0.6063, \n"
     ]
    },
    {
     "name": "stdout",
     "output_type": "stream",
     "text": [
      "epoch: 9, [batch: 168 / 420], examples_per_second: 1064.7250, train_label_loss: 0.6324, \n"
     ]
    },
    {
     "name": "stdout",
     "output_type": "stream",
     "text": [
      "epoch: 9, [batch: 210 / 420], examples_per_second: 1198.0704, train_label_loss: 0.2541, \n"
     ]
    },
    {
     "name": "stdout",
     "output_type": "stream",
     "text": [
      "epoch: 9, [batch: 252 / 420], examples_per_second: 1347.8024, train_label_loss: 0.5027, \n"
     ]
    },
    {
     "name": "stdout",
     "output_type": "stream",
     "text": [
      "epoch: 9, [batch: 294 / 420], examples_per_second: 1587.5587, train_label_loss: 0.5436, \n"
     ]
    },
    {
     "name": "stdout",
     "output_type": "stream",
     "text": [
      "epoch: 9, [batch: 336 / 420], examples_per_second: 1900.1900, train_label_loss: 0.5299, \n"
     ]
    },
    {
     "name": "stdout",
     "output_type": "stream",
     "text": [
      "epoch: 9, [batch: 378 / 420], examples_per_second: 2323.8578, train_label_loss: 0.7001, \n"
     ]
    },
    {
     "name": "stdout",
     "output_type": "stream",
     "text": [
      "=============================================================\n",
      "epoch: 9, source_val_acc_label: 0.7830, target_val_acc_label: 0.6210, source_val_label_loss: 0.5947, target_val_label_loss: 1.1633, \n",
      "=============================================================\n"
     ]
    },
    {
     "name": "stdout",
     "output_type": "stream",
     "text": [
      "epoch: 10, [batch: 1 / 420], examples_per_second: 5.3107, train_label_loss: 0.5138, \n"
     ]
    },
    {
     "name": "stdout",
     "output_type": "stream",
     "text": [
      "epoch: 10, [batch: 42 / 420], examples_per_second: 832.8120, train_label_loss: 0.5762, \n"
     ]
    },
    {
     "name": "stdout",
     "output_type": "stream",
     "text": [
      "epoch: 10, [batch: 84 / 420], examples_per_second: 889.1240, train_label_loss: 0.7613, \n"
     ]
    },
    {
     "name": "stdout",
     "output_type": "stream",
     "text": [
      "epoch: 10, [batch: 126 / 420], examples_per_second: 951.3516, train_label_loss: 0.4112, \n"
     ]
    },
    {
     "name": "stdout",
     "output_type": "stream",
     "text": [
      "epoch: 10, [batch: 168 / 420], examples_per_second: 1061.2433, train_label_loss: 0.3674, \n"
     ]
    },
    {
     "name": "stdout",
     "output_type": "stream",
     "text": [
      "epoch: 10, [batch: 210 / 420], examples_per_second: 1119.7749, train_label_loss: 0.3910, \n"
     ]
    },
    {
     "name": "stdout",
     "output_type": "stream",
     "text": [
      "epoch: 10, [batch: 252 / 420], examples_per_second: 1229.9719, train_label_loss: 0.6884, \n"
     ]
    },
    {
     "name": "stdout",
     "output_type": "stream",
     "text": [
      "epoch: 10, [batch: 294 / 420], examples_per_second: 1428.3500, train_label_loss: 0.1505, \n"
     ]
    },
    {
     "name": "stdout",
     "output_type": "stream",
     "text": [
      "epoch: 10, [batch: 336 / 420], examples_per_second: 1644.1937, train_label_loss: 0.2516, \n"
     ]
    },
    {
     "name": "stdout",
     "output_type": "stream",
     "text": [
      "epoch: 10, [batch: 378 / 420], examples_per_second: 1930.8223, train_label_loss: 0.7963, \n"
     ]
    },
    {
     "name": "stdout",
     "output_type": "stream",
     "text": [
      "=============================================================\n",
      "epoch: 10, source_val_acc_label: 0.7793, target_val_acc_label: 0.6249, source_val_label_loss: 0.5892, target_val_label_loss: 1.1802, \n",
      "=============================================================\n"
     ]
    },
    {
     "name": "stdout",
     "output_type": "stream",
     "text": [
      "epoch: 11, [batch: 1 / 420], examples_per_second: 5.0406, train_label_loss: 0.1521, \n"
     ]
    },
    {
     "name": "stdout",
     "output_type": "stream",
     "text": [
      "epoch: 11, [batch: 42 / 420], examples_per_second: 839.5108, train_label_loss: 0.2355, \n"
     ]
    },
    {
     "name": "stdout",
     "output_type": "stream",
     "text": [
      "epoch: 11, [batch: 84 / 420], examples_per_second: 909.0629, train_label_loss: 0.2787, \n"
     ]
    },
    {
     "name": "stdout",
     "output_type": "stream",
     "text": [
      "epoch: 11, [batch: 126 / 420], examples_per_second: 985.2597, train_label_loss: 0.4811, \n"
     ]
    },
    {
     "name": "stdout",
     "output_type": "stream",
     "text": [
      "epoch: 11, [batch: 168 / 420], examples_per_second: 1038.8396, train_label_loss: 0.3604, \n"
     ]
    },
    {
     "name": "stdout",
     "output_type": "stream",
     "text": [
      "epoch: 11, [batch: 210 / 420], examples_per_second: 1107.6614, train_label_loss: 0.2889, \n"
     ]
    },
    {
     "name": "stdout",
     "output_type": "stream",
     "text": [
      "epoch: 11, [batch: 252 / 420], examples_per_second: 1239.1688, train_label_loss: 0.2011, \n"
     ]
    },
    {
     "name": "stdout",
     "output_type": "stream",
     "text": [
      "epoch: 11, [batch: 294 / 420], examples_per_second: 1409.2825, train_label_loss: 0.6597, \n"
     ]
    },
    {
     "name": "stdout",
     "output_type": "stream",
     "text": [
      "epoch: 11, [batch: 336 / 420], examples_per_second: 1592.1045, train_label_loss: 0.5557, \n"
     ]
    },
    {
     "name": "stdout",
     "output_type": "stream",
     "text": [
      "epoch: 11, [batch: 378 / 420], examples_per_second: 1867.0730, train_label_loss: 0.6631, \n"
     ]
    },
    {
     "name": "stdout",
     "output_type": "stream",
     "text": [
      "=============================================================\n",
      "epoch: 11, source_val_acc_label: 0.7854, target_val_acc_label: 0.6288, source_val_label_loss: 0.6107, target_val_label_loss: 1.2996, \n",
      "=============================================================\n"
     ]
    },
    {
     "name": "stdout",
     "output_type": "stream",
     "text": [
      "epoch: 12, [batch: 1 / 420], examples_per_second: 4.9854, train_label_loss: 0.3297, \n"
     ]
    },
    {
     "name": "stdout",
     "output_type": "stream",
     "text": [
      "epoch: 12, [batch: 42 / 420], examples_per_second: 827.5291, train_label_loss: 0.3264, \n"
     ]
    },
    {
     "name": "stdout",
     "output_type": "stream",
     "text": [
      "epoch: 12, [batch: 84 / 420], examples_per_second: 902.4475, train_label_loss: 0.1757, \n"
     ]
    },
    {
     "name": "stdout",
     "output_type": "stream",
     "text": [
      "epoch: 12, [batch: 126 / 420], examples_per_second: 1005.0087, train_label_loss: 0.6309, \n"
     ]
    },
    {
     "name": "stdout",
     "output_type": "stream",
     "text": [
      "epoch: 12, [batch: 168 / 420], examples_per_second: 1072.6711, train_label_loss: 0.4378, \n"
     ]
    },
    {
     "name": "stdout",
     "output_type": "stream",
     "text": [
      "epoch: 12, [batch: 210 / 420], examples_per_second: 1110.5267, train_label_loss: 0.6067, \n"
     ]
    },
    {
     "name": "stdout",
     "output_type": "stream",
     "text": [
      "epoch: 12, [batch: 252 / 420], examples_per_second: 1253.1191, train_label_loss: 0.3748, \n"
     ]
    },
    {
     "name": "stdout",
     "output_type": "stream",
     "text": [
      "epoch: 12, [batch: 294 / 420], examples_per_second: 1403.4433, train_label_loss: 0.2930, \n"
     ]
    },
    {
     "name": "stdout",
     "output_type": "stream",
     "text": [
      "epoch: 12, [batch: 336 / 420], examples_per_second: 1668.3287, train_label_loss: 0.2458, \n"
     ]
    },
    {
     "name": "stdout",
     "output_type": "stream",
     "text": [
      "epoch: 12, [batch: 378 / 420], examples_per_second: 1907.4452, train_label_loss: 0.2093, \n"
     ]
    },
    {
     "name": "stdout",
     "output_type": "stream",
     "text": [
      "=============================================================\n",
      "epoch: 12, source_val_acc_label: 0.7802, target_val_acc_label: 0.6168, source_val_label_loss: 0.5976, target_val_label_loss: 1.1453, \n",
      "=============================================================\n"
     ]
    },
    {
     "name": "stdout",
     "output_type": "stream",
     "text": [
      "Patience (3) exhausted\n"
     ]
    }
   ],
   "source": [
    "###################################\n",
    "# train\n",
    "###################################\n",
    "jig = PTN_Train_Eval_Test_Jig(model, p.BEST_MODEL_PATH, p.device)\n",
    "\n",
    "jig.train(\n",
    "    train_iterable=datasets.source.processed.train,\n",
    "    source_val_iterable=datasets.source.processed.val,\n",
    "    target_val_iterable=datasets.target.processed.val,\n",
    "    num_epochs=p.n_epoch,\n",
    "    num_logs_per_epoch=p.NUM_LOGS_PER_EPOCH,\n",
    "    patience=p.patience,\n",
    "    optimizer=optimizer,\n",
    "    criteria_for_best=p.criteria_for_best,\n",
    ")"
   ]
  },
  {
   "cell_type": "code",
   "execution_count": 14,
   "id": "31e8fabf",
   "metadata": {
    "execution": {
     "iopub.execute_input": "2022-03-04T01:47:20.078535Z",
     "iopub.status.busy": "2022-03-04T01:47:20.078276Z",
     "iopub.status.idle": "2022-03-04T01:47:20.092953Z",
     "shell.execute_reply": "2022-03-04T01:47:20.092549Z"
    },
    "papermill": {
     "duration": 0.059088,
     "end_time": "2022-03-04T01:47:20.093052",
     "exception": false,
     "start_time": "2022-03-04T01:47:20.033964",
     "status": "completed"
    },
    "tags": []
   },
   "outputs": [],
   "source": [
    "total_experiment_time_secs = time.time() - start_time_secs"
   ]
  },
  {
   "cell_type": "code",
   "execution_count": 15,
   "id": "87b9595b",
   "metadata": {
    "execution": {
     "iopub.execute_input": "2022-03-04T01:47:20.186411Z",
     "iopub.status.busy": "2022-03-04T01:47:20.185869Z",
     "iopub.status.idle": "2022-03-04T01:48:52.070240Z",
     "shell.execute_reply": "2022-03-04T01:48:52.069762Z"
    },
    "papermill": {
     "duration": 91.931564,
     "end_time": "2022-03-04T01:48:52.070350",
     "exception": false,
     "start_time": "2022-03-04T01:47:20.138786",
     "status": "completed"
    },
    "tags": []
   },
   "outputs": [],
   "source": [
    "###################################\n",
    "# Evaluate the model\n",
    "###################################\n",
    "source_test_label_accuracy, source_test_label_loss = jig.test(datasets.source.processed.test)\n",
    "target_test_label_accuracy, target_test_label_loss = jig.test(datasets.target.processed.test)\n",
    "\n",
    "source_val_label_accuracy, source_val_label_loss = jig.test(datasets.source.processed.val)\n",
    "target_val_label_accuracy, target_val_label_loss = jig.test(datasets.target.processed.val)\n",
    "\n",
    "history = jig.get_history()\n",
    "\n",
    "total_epochs_trained = len(history[\"epoch_indices\"])\n",
    "\n",
    "val_dl = Iterable_Aggregator((datasets.source.original.val,datasets.target.original.val))\n",
    "\n",
    "confusion = ptn_confusion_by_domain_over_dataloader(model, p.device, val_dl)\n",
    "per_domain_accuracy = per_domain_accuracy_from_confusion(confusion)\n",
    "\n",
    "# Add a key to per_domain_accuracy for if it was a source domain\n",
    "for domain, accuracy in per_domain_accuracy.items():\n",
    "    per_domain_accuracy[domain] = {\n",
    "        \"accuracy\": accuracy,\n",
    "        \"source?\": domain in p.domains_source\n",
    "    }\n",
    "\n",
    "# Do an independent accuracy assesment JUST TO BE SURE!\n",
    "# _source_test_label_accuracy = independent_accuracy_assesment(model, datasets.source.processed.test, p.device)\n",
    "# _target_test_label_accuracy = independent_accuracy_assesment(model, datasets.target.processed.test, p.device)\n",
    "# _source_val_label_accuracy = independent_accuracy_assesment(model, datasets.source.processed.val, p.device)\n",
    "# _target_val_label_accuracy = independent_accuracy_assesment(model, datasets.target.processed.val, p.device)\n",
    "\n",
    "# assert(_source_test_label_accuracy == source_test_label_accuracy)\n",
    "# assert(_target_test_label_accuracy == target_test_label_accuracy)\n",
    "# assert(_source_val_label_accuracy == source_val_label_accuracy)\n",
    "# assert(_target_val_label_accuracy == target_val_label_accuracy)\n",
    "\n",
    "experiment = {\n",
    "    \"experiment_name\": p.experiment_name,\n",
    "    \"parameters\": dict(p),\n",
    "    \"results\": {\n",
    "        \"source_test_label_accuracy\": source_test_label_accuracy,\n",
    "        \"source_test_label_loss\": source_test_label_loss,\n",
    "        \"target_test_label_accuracy\": target_test_label_accuracy,\n",
    "        \"target_test_label_loss\": target_test_label_loss,\n",
    "        \"source_val_label_accuracy\": source_val_label_accuracy,\n",
    "        \"source_val_label_loss\": source_val_label_loss,\n",
    "        \"target_val_label_accuracy\": target_val_label_accuracy,\n",
    "        \"target_val_label_loss\": target_val_label_loss,\n",
    "        \"total_epochs_trained\": total_epochs_trained,\n",
    "        \"total_experiment_time_secs\": total_experiment_time_secs,\n",
    "        \"confusion\": confusion,\n",
    "        \"per_domain_accuracy\": per_domain_accuracy,\n",
    "    },\n",
    "    \"history\": history,\n",
    "    \"dataset_metrics\": get_dataset_metrics(datasets, \"ptn\"),\n",
    "}"
   ]
  },
  {
   "cell_type": "code",
   "execution_count": 16,
   "id": "54a21829",
   "metadata": {
    "execution": {
     "iopub.execute_input": "2022-03-04T01:48:52.147820Z",
     "iopub.status.busy": "2022-03-04T01:48:52.147551Z",
     "iopub.status.idle": "2022-03-04T01:48:52.331207Z",
     "shell.execute_reply": "2022-03-04T01:48:52.331524Z"
    },
    "papermill": {
     "duration": 0.222773,
     "end_time": "2022-03-04T01:48:52.331625",
     "exception": false,
     "start_time": "2022-03-04T01:48:52.108852",
     "status": "completed"
    },
    "tags": []
   },
   "outputs": [
    {
     "data": {
      "image/png": "[encoded data removed]",
      "text/plain": [
       "<Figure size 1080x504 with 1 Axes>"
      ]
     },
     "metadata": {
      "needs_background": "light"
     },
     "output_type": "display_data"
    }
   ],
   "source": [
    "ax = get_loss_curve(experiment)\n",
    "plt.show()"
   ]
  },
  {
   "cell_type": "code",
   "execution_count": 17,
   "id": "fd8a0f60",
   "metadata": {
    "execution": {
     "iopub.execute_input": "2022-03-04T01:48:52.410550Z",
     "iopub.status.busy": "2022-03-04T01:48:52.409693Z",
     "iopub.status.idle": "2022-03-04T01:48:52.666843Z",
     "shell.execute_reply": "2022-03-04T01:48:52.667282Z"
    },
    "papermill": {
     "duration": 0.296003,
     "end_time": "2022-03-04T01:48:52.667416",
     "exception": false,
     "start_time": "2022-03-04T01:48:52.371413",
     "status": "completed"
    },
    "tags": []
   },
   "outputs": [
    {
     "data": {
      "text/plain": [
       "<matplotlib.axes._subplots.AxesSubplot at 0x7fa5f84db100>"
      ]
     },
     "execution_count": 17,
     "metadata": {},
     "output_type": "execute_result"
    },
    {
     "data": {
      "image/png": "[encoded data removed]",
      "text/plain": [
       "<Figure size 1080x504 with 1 Axes>"
      ]
     },
     "metadata": {
      "needs_background": "light"
     },
     "output_type": "display_data"
    }
   ],
   "source": [
    "get_results_table(experiment)"
   ]
  },
  {
   "cell_type": "code",
   "execution_count": 18,
   "id": "cf8dc689",
   "metadata": {
    "execution": {
     "iopub.execute_input": "2022-03-04T01:48:52.755648Z",
     "iopub.status.busy": "2022-03-04T01:48:52.755376Z",
     "iopub.status.idle": "2022-03-04T01:48:52.934425Z",
     "shell.execute_reply": "2022-03-04T01:48:52.933957Z"
    },
    "papermill": {
     "duration": 0.219683,
     "end_time": "2022-03-04T01:48:52.934529",
     "exception": false,
     "start_time": "2022-03-04T01:48:52.714846",
     "status": "completed"
    },
    "tags": []
   },
   "outputs": [
    {
     "data": {
      "text/plain": [
       "<matplotlib.axes._subplots.AxesSubplot at 0x7fa5f83b2df0>"
      ]
     },
     "execution_count": 18,
     "metadata": {},
     "output_type": "execute_result"
    },
    {
     "data": {
      "image/png": "[encoded data removed]",
      "text/plain": [
       "<Figure size 1080x504 with 1 Axes>"
      ]
     },
     "metadata": {
      "needs_background": "light"
     },
     "output_type": "display_data"
    }
   ],
   "source": [
    "get_domain_accuracies(experiment)"
   ]
  },
  {
   "cell_type": "code",
   "execution_count": 19,
   "id": "a74ae082",
   "metadata": {
    "execution": {
     "iopub.execute_input": "2022-03-04T01:48:53.025424Z",
     "iopub.status.busy": "2022-03-04T01:48:53.025154Z",
     "iopub.status.idle": "2022-03-04T01:48:53.039702Z",
     "shell.execute_reply": "2022-03-04T01:48:53.039209Z"
    },
    "papermill": {
     "duration": 0.056243,
     "end_time": "2022-03-04T01:48:53.039799",
     "exception": false,
     "start_time": "2022-03-04T01:48:52.983556",
     "status": "completed"
    },
    "tags": []
   },
   "outputs": [
    {
     "name": "stdout",
     "output_type": "stream",
     "text": [
      "Source Test Label Accuracy: 0.7729166666666667 Target Test Label Accuracy: 0.6194791666666667\n",
      "Source Val Label Accuracy: 0.7779513888888889 Target Val Label Accuracy: 0.6248958333333333\n"
     ]
    }
   ],
   "source": [
    "print(\"Source Test Label Accuracy:\", experiment[\"results\"][\"source_test_label_accuracy\"], \"Target Test Label Accuracy:\", experiment[\"results\"][\"target_test_label_accuracy\"])\n",
    "print(\"Source Val Label Accuracy:\", experiment[\"results\"][\"source_val_label_accuracy\"], \"Target Val Label Accuracy:\", experiment[\"results\"][\"target_val_label_accuracy\"])"
   ]
  },
  {
   "cell_type": "code",
   "execution_count": 20,
   "id": "dacca602",
   "metadata": {
    "execution": {
     "iopub.execute_input": "2022-03-04T01:48:53.127635Z",
     "iopub.status.busy": "2022-03-04T01:48:53.127272Z",
     "iopub.status.idle": "2022-03-04T01:48:53.141130Z",
     "shell.execute_reply": "2022-03-04T01:48:53.141354Z"
    },
    "papermill": {
     "duration": 0.055209,
     "end_time": "2022-03-04T01:48:53.141434",
     "exception": false,
     "start_time": "2022-03-04T01:48:53.086225",
     "status": "completed"
    },
    "tags": [
     "experiment_json"
    ]
   },
   "outputs": [
    {
     "data": {
      "text/plain": [
       "'{\"experiment_name\": \"dataset_seeds_oracle.run2\", \"parameters\": {\"experiment_name\": \"dataset_seeds_oracle.run2\", \"lr\": 0.001, \"device\": \"cuda\", \"seed\": 1337, \"dataset_seed\": 42, \"labels_source\": [\"3123D52\", \"3123D65\", \"3123D79\", \"3123D80\", \"3123D54\", \"3123D70\", \"3123D7B\", \"3123D89\", \"3123D58\", \"3123D76\", \"3123D7D\", \"3123EFE\", \"3123D64\", \"3123D78\", \"3123D7E\", \"3124E4A\"], \"labels_target\": [\"3123D52\", \"3123D65\", \"3123D79\", \"3123D80\", \"3123D54\", \"3123D70\", \"3123D7B\", \"3123D89\", \"3123D58\", \"3123D76\", \"3123D7D\", \"3123EFE\", \"3123D64\", \"3123D78\", \"3123D7E\", \"3124E4A\"], \"x_transforms_source\": [], \"x_transforms_target\": [], \"episode_transforms_source\": [], \"episode_transforms_target\": [], \"num_examples_per_domain_per_label_source\": 1000, \"num_examples_per_domain_per_label_target\": 1000, \"n_shot\": 3, \"n_way\": 16, \"n_query\": 2, \"train_k_factor\": 1, \"val_k_factor\": 2, \"test_k_factor\": 2, \"torch_default_dtype\": \"torch.float32\", \"n_epoch\": 50, \"patience\": 3, \"criteria_for_best\": \"target_loss\", \"x_net\": [{\"class\": \"nnReshape\", \"kargs\": {\"shape\": [-1, 1, 2, 256]}}, {\"class\": \"Conv2d\", \"kargs\": {\"in_channels\": 1, \"out_channels\": 256, \"kernel_size\": [1, 7], \"bias\": false, \"padding\": [0, 3]}}, {\"class\": \"ReLU\", \"kargs\": {\"inplace\": true}}, {\"class\": \"BatchNorm2d\", \"kargs\": {\"num_features\": 256}}, {\"class\": \"Conv2d\", \"kargs\": {\"in_channels\": 256, \"out_channels\": 80, \"kernel_size\": [2, 7], \"bias\": true, \"padding\": [0, 3]}}, {\"class\": \"ReLU\", \"kargs\": {\"inplace\": true}}, {\"class\": \"BatchNorm2d\", \"kargs\": {\"num_features\": 80}}, {\"class\": \"Flatten\", \"kargs\": {}}, {\"class\": \"Linear\", \"kargs\": {\"in_features\": 20480, \"out_features\": 256}}, {\"class\": \"ReLU\", \"kargs\": {\"inplace\": true}}, {\"class\": \"BatchNorm1d\", \"kargs\": {\"num_features\": 256}}, {\"class\": \"Linear\", \"kargs\": {\"in_features\": 256, \"out_features\": 256}}], \"NUM_LOGS_PER_EPOCH\": 10, \"BEST_MODEL_PATH\": \"./best_model.pth\", \"pickle_name\": \"oracle.Run2_10kExamples_stratified_ds.2022A.pkl\", \"domains_source\": [8, 32, 50], \"domains_target\": [14, 20, 26, 38, 44]}, \"results\": {\"source_test_label_accuracy\": 0.7729166666666667, \"source_test_label_loss\": 0.6062469482421875, \"target_test_label_accuracy\": 0.6194791666666667, \"target_test_label_loss\": 1.159671664237976, \"source_val_label_accuracy\": 0.7779513888888889, \"source_val_label_loss\": 0.5996285080909729, \"target_val_label_accuracy\": 0.6248958333333333, \"target_val_label_loss\": 1.1051291227340698, \"total_epochs_trained\": 12, \"total_experiment_time_secs\": 682.2677526473999, \"confusion\": {\"8\": {\"15\": {\"15\": 106, \"2\": 4, \"12\": 10}, \"3\": {\"3\": 120}, \"6\": {\"6\": 64, \"14\": 34, \"8\": 21, \"4\": 1}, \"1\": {\"4\": 20, \"10\": 8, \"1\": 63, \"13\": 3, \"14\": 8, \"5\": 13, \"6\": 3, \"7\": 2}, \"8\": {\"6\": 20, \"8\": 69, \"11\": 23, \"7\": 1, \"14\": 5, \"4\": 2}, \"10\": {\"10\": 74, \"5\": 21, \"13\": 20, \"1\": 2, \"7\": 3}, \"9\": {\"9\": 120}, \"13\": {\"13\": 89, \"5\": 3, \"10\": 22, \"4\": 1, \"7\": 5}, \"12\": {\"12\": 109, \"15\": 9, \"2\": 2}, \"5\": {\"10\": 35, \"5\": 71, \"4\": 2, \"1\": 7, \"13\": 3, \"14\": 1, \"7\": 1}, \"0\": {\"0\": 120}, \"2\": {\"2\": 111, \"15\": 6, \"12\": 3}, \"11\": {\"11\": 68, \"8\": 35, \"6\": 9, \"7\": 5, \"14\": 1, \"13\": 1, \"4\": 1}, \"14\": {\"14\": 83, \"1\": 6, \"6\": 29, \"4\": 2}, \"7\": {\"7\": 81, \"4\": 28, \"11\": 2, \"1\": 7, \"8\": 1, \"6\": 1}, \"4\": {\"1\": 19, \"4\": 55, \"11\": 1, \"7\": 35, \"8\": 2, \"6\": 5, \"5\": 1, \"14\": 2}}, \"50\": {\"3\": {\"3\": 120}, \"15\": {\"6\": 13, \"15\": 86, \"9\": 11, \"12\": 10}, \"8\": {\"8\": 119, \"13\": 1}, \"4\": {\"4\": 72, \"5\": 38, \"7\": 5, \"15\": 2, \"6\": 3}, \"14\": {\"14\": 118, \"2\": 2}, \"0\": {\"0\": 100, \"2\": 13, \"10\": 7}, \"7\": {\"7\": 102, \"4\": 12, \"5\": 6}, \"6\": {\"6\": 100, \"5\": 7, \"15\": 10, \"12\": 2, \"4\": 1}, \"10\": {\"0\": 6, \"10\": 112, \"13\": 2}, \"5\": {\"4\": 30, \"5\": 77, \"6\": 9, \"7\": 4}, \"2\": {\"2\": 108, \"14\": 1, \"0\": 11}, \"12\": {\"12\": 94, \"11\": 16, \"15\": 6, \"9\": 3, \"6\": 1}, \"9\": {\"9\": 103, \"15\": 11, \"12\": 6}, \"1\": {\"1\": 112, \"13\": 7, \"11\": 1}, \"11\": {\"11\": 105, \"12\": 14, \"1\": 1}, \"13\": {\"13\": 120}}, \"32\": {\"5\": {\"5\": 96, \"15\": 16, \"2\": 7, \"7\": 1}, \"8\": {\"7\": 31, \"8\": 71, \"0\": 14, \"15\": 1, \"4\": 2, \"2\": 1}, \"11\": {\"13\": 21, \"11\": 41, \"3\": 2, \"4\": 49, \"0\": 6, \"2\": 1}, \"1\": {\"1\": 120}, \"10\": {\"10\": 119, \"12\": 1}, \"15\": {\"15\": 107, \"5\": 11, \"7\": 2}, \"3\": {\"3\": 108, \"4\": 3, \"13\": 8, \"11\": 1}, \"7\": {\"8\": 33, \"2\": 14, \"0\": 15, \"7\": 56, \"5\": 1, \"14\": 1}, \"4\": {\"4\": 80, \"11\": 23, \"0\": 10, \"13\": 4, \"8\": 2, \"3\": 1}, \"14\": {\"14\": 69, \"2\": 43, \"0\": 6, \"7\": 1, \"5\": 1}, \"9\": {\"9\": 120}, \"12\": {\"12\": 120}, \"6\": {\"6\": 120}, \"2\": {\"14\": 41, \"2\": 61, \"0\": 11, \"7\": 7}, \"0\": {\"0\": 63, \"14\": 9, \"8\": 13, \"7\": 16, \"4\": 7, \"2\": 8, \"11\": 3, \"5\": 1}, \"13\": {\"13\": 79, \"4\": 6, \"3\": 15, \"11\": 20}}, \"14\": {\"15\": {\"15\": 120}, \"3\": {\"14\": 5, \"3\": 96, \"2\": 3, \"6\": 6, \"10\": 4, \"7\": 6}, \"6\": {\"6\": 62, \"13\": 42, \"3\": 11, \"7\": 5}, \"1\": {\"1\": 120}, \"8\": {\"8\": 80, \"10\": 31, \"0\": 8, \"9\": 1}, \"10\": {\"0\": 26, \"10\": 35, \"3\": 12, \"8\": 32, \"5\": 9, \"14\": 4, \"12\": 2}, \"9\": {\"9\": 116, \"0\": 3, \"10\": 1}, \"13\": {\"13\": 65, \"6\": 52, \"7\": 2, \"3\": 1}, \"12\": {\"11\": 2, \"9\": 17, \"3\": 6, \"12\": 56, \"8\": 14, \"1\": 2, \"10\": 5, \"15\": 13, \"0\": 3, \"4\": 2}, \"5\": {\"5\": 43, \"14\": 29, \"2\": 28, \"10\": 6, \"0\": 4, \"7\": 4, \"4\": 6}, \"0\": {\"0\": 74, \"4\": 23, \"10\": 16, \"9\": 4, \"8\": 3}, \"2\": {\"7\": 29, \"2\": 42, \"14\": 17, \"5\": 24, \"10\": 1, \"3\": 4, \"8\": 1, \"4\": 1, \"6\": 1}, \"11\": {\"11\": 120}, \"14\": {\"5\": 39, \"7\": 15, \"10\": 5, \"14\": 26, \"2\": 30, \"0\": 3, \"4\": 1, \"3\": 1}, \"7\": {\"7\": 75, \"2\": 20, \"6\": 6, \"14\": 11, \"13\": 2, \"3\": 3, \"5\": 3}, \"4\": {\"4\": 98, \"0\": 15, \"5\": 4, \"2\": 2, \"14\": 1}}, \"20\": {\"3\": {\"9\": 9, \"5\": 10, \"2\": 21, \"6\": 1, \"4\": 11, \"7\": 17, \"3\": 33, \"15\": 9, \"1\": 3, \"13\": 1, \"12\": 3, \"10\": 1, \"14\": 1}, \"15\": {\"5\": 13, \"9\": 13, \"15\": 35, \"12\": 4, \"3\": 7, \"1\": 10, \"2\": 13, \"4\": 20, \"13\": 4, \"7\": 1}, \"8\": {\"11\": 35, \"0\": 3, \"8\": 49, \"14\": 31, \"2\": 1, \"1\": 1}, \"4\": {\"9\": 13, \"4\": 28, \"7\": 14, \"2\": 16, \"5\": 5, \"3\": 24, \"13\": 5, \"15\": 10, \"12\": 3, \"1\": 2}, \"14\": {\"14\": 81, \"8\": 27, \"6\": 1, \"11\": 8, \"5\": 3}, \"0\": {\"0\": 86, \"11\": 16, \"1\": 9, \"5\": 3, \"8\": 4, \"14\": 1, \"2\": 1}, \"7\": {\"7\": 62, \"10\": 13, \"6\": 9, \"12\": 3, \"2\": 5, \"3\": 13, \"4\": 7, \"13\": 3, \"5\": 2, \"15\": 2, \"9\": 1}, \"6\": {\"6\": 90, \"7\": 9, \"10\": 20, \"14\": 1}, \"10\": {\"10\": 85, \"6\": 18, \"7\": 8, \"13\": 2, \"12\": 5, \"3\": 1, \"15\": 1}, \"5\": {\"4\": 10, \"9\": 15, \"5\": 30, \"2\": 22, \"3\": 13, \"15\": 7, \"1\": 19, \"14\": 1, \"8\": 2, \"7\": 1}, \"2\": {\"7\": 5, \"5\": 20, \"15\": 15, \"4\": 6, \"2\": 22, \"9\": 19, \"3\": 18, \"12\": 1, \"1\": 11, \"8\": 1, \"13\": 2}, \"12\": {\"3\": 2, \"13\": 41, \"12\": 59, \"4\": 11, \"7\": 2, \"10\": 1, \"15\": 3, \"2\": 1}, \"9\": {\"2\": 20, \"9\": 21, \"15\": 17, \"1\": 11, \"7\": 6, \"13\": 3, \"5\": 16, \"4\": 11, \"3\": 14, \"12\": 1}, \"1\": {\"2\": 8, \"1\": 87, \"0\": 7, \"15\": 5, \"5\": 8, \"9\": 3, \"8\": 1, \"11\": 1}, \"11\": {\"11\": 69, \"8\": 29, \"14\": 7, \"0\": 14, \"1\": 1}, \"13\": {\"13\": 66, \"3\": 5, \"9\": 4, \"12\": 36, \"15\": 5, \"4\": 4}}, \"44\": {\"5\": {\"5\": 80, \"8\": 14, \"15\": 13, \"14\": 10, \"4\": 3}, \"8\": {\"0\": 19, \"8\": 83, \"15\": 7, \"5\": 11}, \"11\": {\"11\": 120}, \"1\": {\"1\": 83, \"2\": 37}, \"10\": {\"10\": 109, \"6\": 5, \"7\": 6}, \"15\": {\"15\": 96, \"5\": 14, \"0\": 6, \"8\": 3, \"14\": 1}, \"3\": {\"3\": 100, \"12\": 19, \"1\": 1}, \"7\": {\"10\": 3, \"7\": 72, \"9\": 42, \"6\": 3}, \"4\": {\"4\": 107, \"14\": 13}, \"14\": {\"14\": 94, \"4\": 22, \"5\": 4}, \"9\": {\"7\": 46, \"9\": 70, \"4\": 2, \"6\": 1, \"13\": 1}, \"12\": {\"12\": 100, \"3\": 20}, \"6\": {\"6\": 110, \"13\": 5, \"9\": 2, \"7\": 3}, \"2\": {\"2\": 103, \"1\": 17}, \"0\": {\"8\": 32, \"5\": 2, \"0\": 85, \"15\": 1}, \"13\": {\"13\": 113, \"4\": 2, \"9\": 1, \"6\": 4}}, \"38\": {\"14\": {\"2\": 48, \"14\": 53, \"7\": 10, \"8\": 5, \"12\": 3, \"13\": 1}, \"0\": {\"0\": 105, \"7\": 14, \"8\": 1}, \"13\": {\"13\": 76, \"10\": 28, \"3\": 12, \"4\": 4}, \"7\": {\"7\": 95, \"0\": 18, \"14\": 4, \"8\": 3}, \"9\": {\"9\": 86, \"12\": 14, \"8\": 4, \"5\": 16}, \"3\": {\"3\": 49, \"13\": 27, \"10\": 30, \"4\": 14}, \"11\": {\"11\": 120}, \"6\": {\"6\": 100, \"15\": 20}, \"8\": {\"8\": 91, \"7\": 5, \"5\": 8, \"12\": 9, \"14\": 1, \"9\": 2, \"0\": 2, \"2\": 2}, \"4\": {\"10\": 27, \"4\": 77, \"3\": 14, \"0\": 1, \"13\": 1}, \"5\": {\"9\": 21, \"8\": 27, \"5\": 40, \"12\": 28, \"0\": 3, \"15\": 1}, \"10\": {\"10\": 61, \"4\": 28, \"3\": 22, \"13\": 9}, \"1\": {\"1\": 111, \"15\": 9}, \"2\": {\"2\": 107, \"14\": 12, \"8\": 1}, \"15\": {\"1\": 36, \"6\": 24, \"15\": 60}, \"12\": {\"5\": 40, \"12\": 59, \"8\": 12, \"9\": 8, \"14\": 1}}, \"26\": {\"13\": {\"13\": 75, \"9\": 19, \"7\": 11, \"12\": 2, \"2\": 6, \"8\": 4, \"3\": 3}, \"2\": {\"2\": 39, \"3\": 8, \"8\": 33, \"9\": 12, \"15\": 10, \"0\": 3, \"7\": 14, \"10\": 1}, \"8\": {\"8\": 34, \"2\": 33, \"15\": 7, \"13\": 5, \"9\": 32, \"10\": 2, \"0\": 4, \"7\": 3}, \"9\": {\"9\": 53, \"0\": 2, \"8\": 23, \"7\": 8, \"13\": 15, \"3\": 1, \"2\": 12, \"12\": 2, \"15\": 3, \"10\": 1}, \"12\": {\"12\": 120}, \"4\": {\"4\": 118, \"3\": 2}, \"3\": {\"7\": 29, \"3\": 86, \"4\": 4, \"2\": 1}, \"15\": {\"14\": 3, \"2\": 9, \"15\": 56, \"0\": 32, \"8\": 10, \"10\": 9, \"7\": 1}, \"14\": {\"0\": 14, \"10\": 32, \"15\": 5, \"14\": 44, \"1\": 6, \"5\": 18, \"6\": 1}, \"10\": {\"0\": 23, \"1\": 7, \"14\": 24, \"8\": 9, \"6\": 12, \"10\": 27, \"2\": 2, \"5\": 6, \"9\": 5, \"13\": 1, \"15\": 3, \"12\": 1}, \"7\": {\"2\": 17, \"9\": 10, \"3\": 29, \"7\": 49, \"13\": 9, \"8\": 6}, \"11\": {\"11\": 120}, \"6\": {\"5\": 39, \"6\": 64, \"14\": 4, \"1\": 12, \"0\": 1}, \"1\": {\"1\": 87, \"6\": 11, \"5\": 13, \"10\": 3, \"14\": 5, \"0\": 1}, \"5\": {\"5\": 31, \"6\": 49, \"14\": 13, \"1\": 18, \"10\": 5, \"0\": 3, \"15\": 1}, \"0\": {\"0\": 50, \"15\": 28, \"14\": 16, \"2\": 2, \"10\": 20, \"7\": 1, \"8\": 2, \"5\": 1}}}, \"per_domain_accuracy\": {\"8\": {\"accuracy\": 0.7307291666666667, \"source?\": true}, \"50\": {\"accuracy\": 0.8583333333333333, \"source?\": true}, \"32\": {\"accuracy\": 0.7447916666666666, \"source?\": true}, \"14\": {\"accuracy\": 0.6395833333333333, \"source?\": false}, \"20\": {\"accuracy\": 0.4703125, \"source?\": false}, \"44\": {\"accuracy\": 0.7942708333333334, \"source?\": false}, \"38\": {\"accuracy\": 0.671875, \"source?\": false}, \"26\": {\"accuracy\": 0.5484375, \"source?\": false}}}, \"history\": {\"epoch_indices\": [1, 2, 3, 4, 5, 6, 7, 8, 9, 10, 11, 12], \"train_label_loss\": [1.267747286671684, 1.3161680064031056, 1.1853952308495839, 0.8227680166562398, 0.6711474035467421, 0.5964915210647243, 0.5300057611827339, 0.5030528064285006, 0.4535209731686683, 0.43091686133827484, 0.39655263101061183, 0.38252501344042167], \"source_val_label_loss\": [1.5641883611679077, 1.2893807888031006, 0.9600260853767395, 0.7533071041107178, 0.657897412776947, 0.6312224268913269, 0.6059058904647827, 0.5996285080909729, 0.5946553945541382, 0.5892086029052734, 0.6107461452484131, 0.5976285338401794], \"target_val_label_loss\": [1.7204408645629883, 1.8648991584777832, 1.6286946535110474, 1.3017888069152832, 1.2098637819290161, 1.1481494903564453, 1.1761760711669922, 1.1051291227340698, 1.1633062362670898, 1.180191993713379, 1.2995926141738892, 1.1453107595443726], \"source_val_acc_label\": [0.475, 0.4732638888888889, 0.6315972222222223, 0.7145833333333333, 0.7550347222222222, 0.7600694444444445, 0.7758680555555556, 0.7779513888888889, 0.7829861111111112, 0.7793402777777778, 0.7854166666666667, 0.7802083333333333], \"target_val_acc_label\": [0.3921875, 0.39197916666666666, 0.49395833333333333, 0.55875, 0.5878125, 0.6047916666666666, 0.6098958333333333, 0.6248958333333333, 0.6210416666666667, 0.6248958333333333, 0.62875, 0.6167708333333334]}, \"dataset_metrics\": {\"source\": {\"train\": {\"n_unique_x\": 33600, \"n_unique_y\": 16, \"n_batch/episode\": 420}, \"val\": {\"n_unique_x\": 7200, \"n_unique_y\": 16, \"n_batch/episode\": 180}, \"test\": {\"n_unique_x\": 7200, \"n_unique_y\": 16, \"n_batch/episode\": 180}}, \"target\": {\"train\": {\"n_unique_x\": 56000, \"n_unique_y\": 16, \"n_batch/episode\": 700}, \"val\": {\"n_unique_x\": 12000, \"n_unique_y\": 16, \"n_batch/episode\": 300}, \"test\": {\"n_unique_x\": 12000, \"n_unique_y\": 16, \"n_batch/episode\": 300}}}}'"
      ]
     },
     "execution_count": 20,
     "metadata": {},
     "output_type": "execute_result"
    }
   ],
   "source": [
    "json.dumps(experiment)"
   ]
  }
 ],
 "metadata": {
  "celltoolbar": "Tags",
  "kernelspec": {
   "display_name": "Python 3 (ipykernel)",
   "language": "python",
   "name": "python3"
  },
  "language_info": {
   "codemirror_mode": {
    "name": "ipython",
    "version": 3
   },
   "file_extension": ".py",
   "mimetype": "text/x-python",
   "name": "python",
   "nbconvert_exporter": "python",
   "pygments_lexer": "ipython3",
   "version": "3.8.10"
  },
  "papermill": {
   "default_parameters": {},
   "duration": 778.011854,
   "end_time": "2022-03-04T01:48:53.689362",
   "environment_variables": {},
   "exception": null,
   "input_path": "/mnt/wd500GB/CSC500/csc500-main/csc500-notebooks/templates/ptn_template.ipynb",
   "output_path": "trial.ipynb",
   "parameters": {
    "parameters": {
     "BEST_MODEL_PATH": "./best_model.pth",
     "NUM_LOGS_PER_EPOCH": 10,
     "criteria_for_best": "target_loss",
     "dataset_seed": 42,
     "device": "cuda",
     "domains_source": [
      8,
      32,
      50
     ],
     "domains_target": [
      14,
      20,
      26,
      38,
      44
     ],
     "episode_transforms_source": [],
     "episode_transforms_target": [],
     "experiment_name": "dataset_seeds_oracle.run2",
     "labels_source": [
      "3123D52",
      "3123D65",
      "3123D79",
      "3123D80",
      "3123D54",
      "3123D70",
      "3123D7B",
      "3123D89",
      "3123D58",
      "3123D76",
      "3123D7D",
      "3123EFE",
      "3123D64",
      "3123D78",
      "3123D7E",
      "3124E4A"
     ],
     "labels_target": [
      "3123D52",
      "3123D65",
      "3123D79",
      "3123D80",
      "3123D54",
      "3123D70",
      "3123D7B",
      "3123D89",
      "3123D58",
      "3123D76",
      "3123D7D",
      "3123EFE",
      "3123D64",
      "3123D78",
      "3123D7E",
      "3124E4A"
     ],
     "lr": 0.001,
     "n_epoch": 50,
     "n_query": 2,
     "n_shot": 3,
     "n_way": 16,
     "num_examples_per_domain_per_label_source": 1000,
     "num_examples_per_domain_per_label_target": 1000,
     "patience": 3,
     "pickle_name": "oracle.Run2_10kExamples_stratified_ds.2022A.pkl",
     "seed": 1337,
     "test_k_factor": 2,
     "torch_default_dtype": "torch.float32",
     "train_k_factor": 1,
     "val_k_factor": 2,
     "x_net": [
      {
       "class": "nnReshape",
       "kargs": {
        "shape": [
         -1,
         1,
         2,
         256
        ]
       }
      },
      {
       "class": "Conv2d",
       "kargs": {
        "bias": false,
        "in_channels": 1,
        "kernel_size": [
         1,
         7
        ],
        "out_channels": 256,
        "padding": [
         0,
         3
        ]
       }
      },
      {
       "class": "ReLU",
       "kargs": {
        "inplace": true
       }
      },
      {
       "class": "BatchNorm2d",
       "kargs": {
        "num_features": 256
       }
      },
      {
       "class": "Conv2d",
       "kargs": {
        "bias": true,
        "in_channels": 256,
        "kernel_size": [
         2,
         7
        ],
        "out_channels": 80,
        "padding": [
         0,
         3
        ]
       }
      },
      {
       "class": "ReLU",
       "kargs": {
        "inplace": true
       }
      },
      {
       "class": "BatchNorm2d",
       "kargs": {
        "num_features": 80
       }
      },
      {
       "class": "Flatten",
       "kargs": {}
      },
      {
       "class": "Linear",
       "kargs": {
        "in_features": 20480,
        "out_features": 256
       }
      },
      {
       "class": "ReLU",
       "kargs": {
        "inplace": true
       }
      },
      {
       "class": "BatchNorm1d",
       "kargs": {
        "num_features": 256
       }
      },
      {
       "class": "Linear",
       "kargs": {
        "in_features": 256,
        "out_features": 256
       }
      }
     ],
     "x_transforms_source": [],
     "x_transforms_target": []
    }
   },
   "start_time": "2022-03-04T01:35:55.677508",
   "version": "2.3.4"
  }
 },
 "nbformat": 4,
 "nbformat_minor": 5
}