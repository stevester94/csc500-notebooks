{
 "cells": [
  {
   "cell_type": "markdown",
   "id": "9fea5f46",
   "metadata": {
    "papermill": {
     "duration": 0.015673,
     "end_time": "2022-03-22T16:34:35.368352",
     "exception": false,
     "start_time": "2022-03-22T16:34:35.352679",
     "status": "completed"
    },
    "tags": []
   },
   "source": [
    "# PTN Template\n",
    "This notebook serves as a template for single dataset PTN experiments  \n",
    "It can be run on its own by setting STANDALONE to True (do a find for \"STANDALONE\" to see where)  \n",
    "But it is intended to be executed as part of a *papermill.py script. See any of the   \n",
    "experimentes with a papermill script to get started with that workflow.  "
   ]
  },
  {
   "cell_type": "code",
   "execution_count": 1,
   "id": "0902182a",
   "metadata": {
    "execution": {
     "iopub.execute_input": "2022-03-22T16:34:35.396308Z",
     "iopub.status.busy": "2022-03-22T16:34:35.396043Z",
     "iopub.status.idle": "2022-03-22T16:34:36.345435Z",
     "shell.execute_reply": "2022-03-22T16:34:36.345146Z"
    },
    "papermill": {
     "duration": 0.967696,
     "end_time": "2022-03-22T16:34:36.345506",
     "exception": false,
     "start_time": "2022-03-22T16:34:35.377810",
     "status": "completed"
    },
    "tags": []
   },
   "outputs": [],
   "source": [
    "%load_ext autoreload\n",
    "%autoreload 2\n",
    "%matplotlib inline\n",
    "\n",
    "    \n",
    "import os, json, sys, time, random\n",
    "import numpy as np\n",
    "import torch\n",
    "from torch.optim import Adam\n",
    "from  easydict import EasyDict\n",
    "import matplotlib.pyplot as plt\n",
    "\n",
    "from steves_models.steves_ptn import Steves_Prototypical_Network\n",
    "\n",
    "from steves_utils.lazy_iterable_wrapper import Lazy_Iterable_Wrapper\n",
    "from steves_utils.iterable_aggregator import Iterable_Aggregator\n",
    "from steves_utils.ptn_train_eval_test_jig import  PTN_Train_Eval_Test_Jig\n",
    "from steves_utils.torch_sequential_builder import build_sequential\n",
    "from steves_utils.torch_utils import get_dataset_metrics, ptn_confusion_by_domain_over_dataloader\n",
    "from steves_utils.utils_v2 import (per_domain_accuracy_from_confusion, get_datasets_base_path)\n",
    "from steves_utils.PTN.utils import independent_accuracy_assesment\n",
    "\n",
    "from steves_utils.stratified_dataset.episodic_accessor import Episodic_Accessor_Factory\n",
    "\n",
    "from steves_utils.ptn_do_report import (\n",
    "    get_loss_curve,\n",
    "    get_results_table,\n",
    "    get_parameters_table,\n",
    "    get_domain_accuracies,\n",
    ")\n",
    "\n",
    "from steves_utils.transforms import get_chained_transform"
   ]
  },
  {
   "cell_type": "markdown",
   "id": "41c840b4",
   "metadata": {
    "papermill": {
     "duration": 0.009252,
     "end_time": "2022-03-22T16:34:36.367292",
     "exception": false,
     "start_time": "2022-03-22T16:34:36.358040",
     "status": "completed"
    },
    "tags": []
   },
   "source": [
    "# Required Parameters\n",
    "These are allowed parameters, not defaults\n",
    "Each of these values need to be present in the injected parameters (the notebook will raise an exception if they are not present)\n",
    "\n",
    "Papermill uses the cell tag \"parameters\" to inject the real parameters below this cell.\n",
    "Enable tags to see what I mean"
   ]
  },
  {
   "cell_type": "code",
   "execution_count": 2,
   "id": "fd44eb83",
   "metadata": {
    "execution": {
     "iopub.execute_input": "2022-03-22T16:34:36.388974Z",
     "iopub.status.busy": "2022-03-22T16:34:36.388696Z",
     "iopub.status.idle": "2022-03-22T16:34:36.402454Z",
     "shell.execute_reply": "2022-03-22T16:34:36.402869Z"
    },
    "papermill": {
     "duration": 0.026523,
     "end_time": "2022-03-22T16:34:36.402983",
     "exception": false,
     "start_time": "2022-03-22T16:34:36.376460",
     "status": "completed"
    },
    "tags": []
   },
   "outputs": [],
   "source": [
    "required_parameters = {\n",
    "    \"experiment_name\",\n",
    "    \"lr\",\n",
    "    \"device\",\n",
    "    \"seed\",\n",
    "    \"dataset_seed\",\n",
    "    \"labels_source\",\n",
    "    \"labels_target\",\n",
    "    \"domains_source\",\n",
    "    \"domains_target\",\n",
    "    \"num_examples_per_domain_per_label_source\",\n",
    "    \"num_examples_per_domain_per_label_target\",\n",
    "    \"n_shot\",\n",
    "    \"n_way\",\n",
    "    \"n_query\",\n",
    "    \"train_k_factor\",\n",
    "    \"val_k_factor\",\n",
    "    \"test_k_factor\",\n",
    "    \"n_epoch\",\n",
    "    \"patience\",\n",
    "    \"criteria_for_best\",\n",
    "    \"x_transforms_source\",\n",
    "    \"x_transforms_target\",\n",
    "    \"episode_transforms_source\",\n",
    "    \"episode_transforms_target\",\n",
    "    \"pickle_name\",\n",
    "    \"x_net\",\n",
    "    \"NUM_LOGS_PER_EPOCH\",\n",
    "    \"BEST_MODEL_PATH\",\n",
    "    \"torch_default_dtype\"\n",
    "}"
   ]
  },
  {
   "cell_type": "code",
   "execution_count": 3,
   "id": "fa3f0049",
   "metadata": {
    "execution": {
     "iopub.execute_input": "2022-03-22T16:34:36.430274Z",
     "iopub.status.busy": "2022-03-22T16:34:36.429993Z",
     "iopub.status.idle": "2022-03-22T16:34:36.441924Z",
     "shell.execute_reply": "2022-03-22T16:34:36.442311Z"
    },
    "papermill": {
     "duration": 0.027593,
     "end_time": "2022-03-22T16:34:36.442419",
     "exception": false,
     "start_time": "2022-03-22T16:34:36.414826",
     "status": "completed"
    },
    "tags": [
     "parameters"
    ]
   },
   "outputs": [],
   "source": [
    "\n",
    "\n",
    "standalone_parameters = {}\n",
    "standalone_parameters[\"experiment_name\"] = \"STANDALONE PTN\"\n",
    "standalone_parameters[\"lr\"] = 0.0001\n",
    "standalone_parameters[\"device\"] = \"cuda\"\n",
    "\n",
    "standalone_parameters[\"seed\"] = 1337\n",
    "standalone_parameters[\"dataset_seed\"] = 1337\n",
    "\n",
    "\n",
    "standalone_parameters[\"num_examples_per_domain_per_label_source\"]=100\n",
    "standalone_parameters[\"num_examples_per_domain_per_label_target\"]=100\n",
    "\n",
    "standalone_parameters[\"n_shot\"] = 3\n",
    "standalone_parameters[\"n_query\"]  = 2\n",
    "standalone_parameters[\"train_k_factor\"] = 1\n",
    "standalone_parameters[\"val_k_factor\"] = 2\n",
    "standalone_parameters[\"test_k_factor\"] = 2\n",
    "\n",
    "\n",
    "standalone_parameters[\"n_epoch\"] = 100\n",
    "\n",
    "standalone_parameters[\"patience\"] = 10\n",
    "standalone_parameters[\"criteria_for_best\"] = \"target_accuracy\"\n",
    "\n",
    "standalone_parameters[\"x_transforms_source\"] = [\"unit_power\"]\n",
    "standalone_parameters[\"x_transforms_target\"] = [\"unit_power\"]\n",
    "standalone_parameters[\"episode_transforms_source\"] = []\n",
    "standalone_parameters[\"episode_transforms_target\"] = []\n",
    "\n",
    "standalone_parameters[\"torch_default_dtype\"] = \"torch.float32\" \n",
    "\n",
    "\n",
    "\n",
    "standalone_parameters[\"x_net\"] =     [\n",
    "    {\"class\": \"nnReshape\", \"kargs\": {\"shape\":[-1, 1, 2, 256]}},\n",
    "    {\"class\": \"Conv2d\", \"kargs\": { \"in_channels\":1, \"out_channels\":256, \"kernel_size\":(1,7), \"bias\":False, \"padding\":(0,3), },},\n",
    "    {\"class\": \"ReLU\", \"kargs\": {\"inplace\": True}},\n",
    "    {\"class\": \"BatchNorm2d\", \"kargs\": {\"num_features\":256}},\n",
    "\n",
    "    {\"class\": \"Conv2d\", \"kargs\": { \"in_channels\":256, \"out_channels\":80, \"kernel_size\":(2,7), \"bias\":True, \"padding\":(0,3), },},\n",
    "    {\"class\": \"ReLU\", \"kargs\": {\"inplace\": True}},\n",
    "    {\"class\": \"BatchNorm2d\", \"kargs\": {\"num_features\":80}},\n",
    "    {\"class\": \"Flatten\", \"kargs\": {}},\n",
    "\n",
    "    {\"class\": \"Linear\", \"kargs\": {\"in_features\": 80*256, \"out_features\": 256}}, # 80 units per IQ pair\n",
    "    {\"class\": \"ReLU\", \"kargs\": {\"inplace\": True}},\n",
    "    {\"class\": \"BatchNorm1d\", \"kargs\": {\"num_features\":256}},\n",
    "\n",
    "    {\"class\": \"Linear\", \"kargs\": {\"in_features\": 256, \"out_features\": 256}},\n",
    "]\n",
    "\n",
    "# Parameters relevant to results\n",
    "# These parameters will basically never need to change\n",
    "standalone_parameters[\"NUM_LOGS_PER_EPOCH\"] = 10\n",
    "standalone_parameters[\"BEST_MODEL_PATH\"] = \"./best_model.pth\"\n",
    "\n",
    "# uncomment for CORES dataset\n",
    "from steves_utils.CORES.utils import (\n",
    "    ALL_NODES,\n",
    "    ALL_NODES_MINIMUM_1000_EXAMPLES,\n",
    "    ALL_DAYS\n",
    ")\n",
    "\n",
    "\n",
    "standalone_parameters[\"labels_source\"] = ALL_NODES\n",
    "standalone_parameters[\"labels_target\"] = ALL_NODES\n",
    "\n",
    "standalone_parameters[\"domains_source\"] = [1]\n",
    "standalone_parameters[\"domains_target\"] = [2,3,4,5]\n",
    "\n",
    "standalone_parameters[\"pickle_name\"] = \"cores.stratified_ds.2022A.pkl\"\n",
    "\n",
    "\n",
    "# Uncomment these for ORACLE dataset\n",
    "# from steves_utils.ORACLE.utils_v2 import (\n",
    "#     ALL_DISTANCES_FEET,\n",
    "#     ALL_RUNS,\n",
    "#     ALL_SERIAL_NUMBERS,\n",
    "# )\n",
    "# standalone_parameters[\"labels_source\"] = ALL_SERIAL_NUMBERS\n",
    "# standalone_parameters[\"labels_target\"] = ALL_SERIAL_NUMBERS\n",
    "# standalone_parameters[\"domains_source\"] = [8,20, 38,50]\n",
    "# standalone_parameters[\"domains_target\"] = [14, 26, 32, 44, 56]\n",
    "# standalone_parameters[\"pickle_name\"] = \"oracle.frame_indexed.stratified_ds.2022A.pkl\"\n",
    "# standalone_parameters[\"num_examples_per_domain_per_label_source\"]=1000\n",
    "# standalone_parameters[\"num_examples_per_domain_per_label_target\"]=1000\n",
    "\n",
    "# Uncomment these for Metahan dataset\n",
    "# standalone_parameters[\"labels_source\"] = list(range(19))\n",
    "# standalone_parameters[\"labels_target\"] = list(range(19))\n",
    "# standalone_parameters[\"domains_source\"] = [0]\n",
    "# standalone_parameters[\"domains_target\"] = [1]\n",
    "# standalone_parameters[\"pickle_name\"] = \"metehan.stratified_ds.2022A.pkl\"\n",
    "# standalone_parameters[\"n_way\"]  = len(standalone_parameters[\"labels_source\"])\n",
    "# standalone_parameters[\"num_examples_per_domain_per_label_source\"]=200\n",
    "# standalone_parameters[\"num_examples_per_domain_per_label_target\"]=100\n",
    "\n",
    "\n",
    "standalone_parameters[\"n_way\"]  = len(standalone_parameters[\"labels_source\"])"
   ]
  },
  {
   "cell_type": "code",
   "execution_count": 4,
   "id": "28ec2129",
   "metadata": {
    "execution": {
     "iopub.execute_input": "2022-03-22T16:34:36.472514Z",
     "iopub.status.busy": "2022-03-22T16:34:36.472187Z",
     "iopub.status.idle": "2022-03-22T16:34:36.485230Z",
     "shell.execute_reply": "2022-03-22T16:34:36.484824Z"
    },
    "papermill": {
     "duration": 0.03094,
     "end_time": "2022-03-22T16:34:36.485322",
     "exception": false,
     "start_time": "2022-03-22T16:34:36.454382",
     "status": "completed"
    },
    "tags": [
     "injected-parameters"
    ]
   },
   "outputs": [],
   "source": [
    "# Parameters\n",
    "parameters = {\n",
    "    \"experiment_name\": \"tuned_1v2:wisig\",\n",
    "    \"device\": \"cuda\",\n",
    "    \"lr\": 0.0001,\n",
    "    \"labels_source\": [\n",
    "        \"1-10\",\n",
    "        \"1-12\",\n",
    "        \"1-14\",\n",
    "        \"1-16\",\n",
    "        \"1-18\",\n",
    "        \"1-19\",\n",
    "        \"1-8\",\n",
    "        \"10-11\",\n",
    "        \"10-17\",\n",
    "        \"10-4\",\n",
    "        \"10-7\",\n",
    "        \"11-1\",\n",
    "        \"11-10\",\n",
    "        \"11-19\",\n",
    "        \"11-20\",\n",
    "        \"11-4\",\n",
    "        \"11-7\",\n",
    "        \"12-19\",\n",
    "        \"12-20\",\n",
    "        \"12-7\",\n",
    "        \"13-14\",\n",
    "        \"13-18\",\n",
    "        \"13-19\",\n",
    "        \"13-20\",\n",
    "        \"13-3\",\n",
    "        \"13-7\",\n",
    "        \"14-10\",\n",
    "        \"14-11\",\n",
    "        \"14-12\",\n",
    "        \"14-13\",\n",
    "        \"14-14\",\n",
    "        \"14-19\",\n",
    "        \"14-20\",\n",
    "        \"14-7\",\n",
    "        \"14-8\",\n",
    "        \"14-9\",\n",
    "        \"15-1\",\n",
    "        \"15-19\",\n",
    "        \"15-6\",\n",
    "        \"16-1\",\n",
    "        \"16-16\",\n",
    "        \"16-19\",\n",
    "        \"16-20\",\n",
    "        \"17-10\",\n",
    "        \"17-11\",\n",
    "        \"18-1\",\n",
    "        \"18-10\",\n",
    "        \"18-11\",\n",
    "        \"18-12\",\n",
    "        \"18-13\",\n",
    "        \"18-14\",\n",
    "        \"18-15\",\n",
    "        \"18-16\",\n",
    "        \"18-17\",\n",
    "        \"18-19\",\n",
    "        \"18-2\",\n",
    "        \"18-20\",\n",
    "        \"18-4\",\n",
    "        \"18-5\",\n",
    "        \"18-7\",\n",
    "        \"18-8\",\n",
    "        \"18-9\",\n",
    "        \"19-1\",\n",
    "        \"19-10\",\n",
    "        \"19-11\",\n",
    "        \"19-12\",\n",
    "        \"19-13\",\n",
    "        \"19-14\",\n",
    "        \"19-15\",\n",
    "        \"19-19\",\n",
    "        \"19-2\",\n",
    "        \"19-20\",\n",
    "        \"19-3\",\n",
    "        \"19-4\",\n",
    "        \"19-6\",\n",
    "        \"19-7\",\n",
    "        \"19-8\",\n",
    "        \"19-9\",\n",
    "        \"2-1\",\n",
    "        \"2-13\",\n",
    "        \"2-15\",\n",
    "        \"2-3\",\n",
    "        \"2-4\",\n",
    "        \"2-5\",\n",
    "        \"2-6\",\n",
    "        \"2-7\",\n",
    "        \"2-8\",\n",
    "        \"20-1\",\n",
    "        \"20-12\",\n",
    "        \"20-14\",\n",
    "        \"20-15\",\n",
    "        \"20-16\",\n",
    "        \"20-18\",\n",
    "        \"20-19\",\n",
    "        \"20-20\",\n",
    "        \"20-3\",\n",
    "        \"20-4\",\n",
    "        \"20-5\",\n",
    "        \"20-7\",\n",
    "        \"20-8\",\n",
    "        \"3-1\",\n",
    "        \"3-13\",\n",
    "        \"3-18\",\n",
    "        \"3-2\",\n",
    "        \"3-8\",\n",
    "        \"4-1\",\n",
    "        \"4-10\",\n",
    "        \"4-11\",\n",
    "        \"5-1\",\n",
    "        \"5-5\",\n",
    "        \"6-1\",\n",
    "        \"6-15\",\n",
    "        \"6-6\",\n",
    "        \"7-10\",\n",
    "        \"7-11\",\n",
    "        \"7-12\",\n",
    "        \"7-13\",\n",
    "        \"7-14\",\n",
    "        \"7-7\",\n",
    "        \"7-8\",\n",
    "        \"7-9\",\n",
    "        \"8-1\",\n",
    "        \"8-13\",\n",
    "        \"8-14\",\n",
    "        \"8-18\",\n",
    "        \"8-20\",\n",
    "        \"8-3\",\n",
    "        \"8-8\",\n",
    "        \"9-1\",\n",
    "        \"9-7\",\n",
    "    ],\n",
    "    \"labels_target\": [\n",
    "        \"1-10\",\n",
    "        \"1-12\",\n",
    "        \"1-14\",\n",
    "        \"1-16\",\n",
    "        \"1-18\",\n",
    "        \"1-19\",\n",
    "        \"1-8\",\n",
    "        \"10-11\",\n",
    "        \"10-17\",\n",
    "        \"10-4\",\n",
    "        \"10-7\",\n",
    "        \"11-1\",\n",
    "        \"11-10\",\n",
    "        \"11-19\",\n",
    "        \"11-20\",\n",
    "        \"11-4\",\n",
    "        \"11-7\",\n",
    "        \"12-19\",\n",
    "        \"12-20\",\n",
    "        \"12-7\",\n",
    "        \"13-14\",\n",
    "        \"13-18\",\n",
    "        \"13-19\",\n",
    "        \"13-20\",\n",
    "        \"13-3\",\n",
    "        \"13-7\",\n",
    "        \"14-10\",\n",
    "        \"14-11\",\n",
    "        \"14-12\",\n",
    "        \"14-13\",\n",
    "        \"14-14\",\n",
    "        \"14-19\",\n",
    "        \"14-20\",\n",
    "        \"14-7\",\n",
    "        \"14-8\",\n",
    "        \"14-9\",\n",
    "        \"15-1\",\n",
    "        \"15-19\",\n",
    "        \"15-6\",\n",
    "        \"16-1\",\n",
    "        \"16-16\",\n",
    "        \"16-19\",\n",
    "        \"16-20\",\n",
    "        \"17-10\",\n",
    "        \"17-11\",\n",
    "        \"18-1\",\n",
    "        \"18-10\",\n",
    "        \"18-11\",\n",
    "        \"18-12\",\n",
    "        \"18-13\",\n",
    "        \"18-14\",\n",
    "        \"18-15\",\n",
    "        \"18-16\",\n",
    "        \"18-17\",\n",
    "        \"18-19\",\n",
    "        \"18-2\",\n",
    "        \"18-20\",\n",
    "        \"18-4\",\n",
    "        \"18-5\",\n",
    "        \"18-7\",\n",
    "        \"18-8\",\n",
    "        \"18-9\",\n",
    "        \"19-1\",\n",
    "        \"19-10\",\n",
    "        \"19-11\",\n",
    "        \"19-12\",\n",
    "        \"19-13\",\n",
    "        \"19-14\",\n",
    "        \"19-15\",\n",
    "        \"19-19\",\n",
    "        \"19-2\",\n",
    "        \"19-20\",\n",
    "        \"19-3\",\n",
    "        \"19-4\",\n",
    "        \"19-6\",\n",
    "        \"19-7\",\n",
    "        \"19-8\",\n",
    "        \"19-9\",\n",
    "        \"2-1\",\n",
    "        \"2-13\",\n",
    "        \"2-15\",\n",
    "        \"2-3\",\n",
    "        \"2-4\",\n",
    "        \"2-5\",\n",
    "        \"2-6\",\n",
    "        \"2-7\",\n",
    "        \"2-8\",\n",
    "        \"20-1\",\n",
    "        \"20-12\",\n",
    "        \"20-14\",\n",
    "        \"20-15\",\n",
    "        \"20-16\",\n",
    "        \"20-18\",\n",
    "        \"20-19\",\n",
    "        \"20-20\",\n",
    "        \"20-3\",\n",
    "        \"20-4\",\n",
    "        \"20-5\",\n",
    "        \"20-7\",\n",
    "        \"20-8\",\n",
    "        \"3-1\",\n",
    "        \"3-13\",\n",
    "        \"3-18\",\n",
    "        \"3-2\",\n",
    "        \"3-8\",\n",
    "        \"4-1\",\n",
    "        \"4-10\",\n",
    "        \"4-11\",\n",
    "        \"5-1\",\n",
    "        \"5-5\",\n",
    "        \"6-1\",\n",
    "        \"6-15\",\n",
    "        \"6-6\",\n",
    "        \"7-10\",\n",
    "        \"7-11\",\n",
    "        \"7-12\",\n",
    "        \"7-13\",\n",
    "        \"7-14\",\n",
    "        \"7-7\",\n",
    "        \"7-8\",\n",
    "        \"7-9\",\n",
    "        \"8-1\",\n",
    "        \"8-13\",\n",
    "        \"8-14\",\n",
    "        \"8-18\",\n",
    "        \"8-20\",\n",
    "        \"8-3\",\n",
    "        \"8-8\",\n",
    "        \"9-1\",\n",
    "        \"9-7\",\n",
    "    ],\n",
    "    \"episode_transforms_source\": [],\n",
    "    \"episode_transforms_target\": [],\n",
    "    \"domains_source\": [3],\n",
    "    \"domains_target\": [1, 2, 4],\n",
    "    \"num_examples_per_domain_per_label_source\": -1,\n",
    "    \"num_examples_per_domain_per_label_target\": -1,\n",
    "    \"n_shot\": 3,\n",
    "    \"n_way\": 130,\n",
    "    \"n_query\": 2,\n",
    "    \"train_k_factor\": 3,\n",
    "    \"val_k_factor\": 2,\n",
    "    \"test_k_factor\": 2,\n",
    "    \"torch_default_dtype\": \"torch.float32\",\n",
    "    \"n_epoch\": 50,\n",
    "    \"patience\": 3,\n",
    "    \"criteria_for_best\": \"target_accuracy\",\n",
    "    \"x_net\": [\n",
    "        {\"class\": \"nnReshape\", \"kargs\": {\"shape\": [-1, 1, 2, 256]}},\n",
    "        {\n",
    "            \"class\": \"Conv2d\",\n",
    "            \"kargs\": {\n",
    "                \"in_channels\": 1,\n",
    "                \"out_channels\": 256,\n",
    "                \"kernel_size\": [1, 7],\n",
    "                \"bias\": False,\n",
    "                \"padding\": [0, 3],\n",
    "            },\n",
    "        },\n",
    "        {\"class\": \"ReLU\", \"kargs\": {\"inplace\": True}},\n",
    "        {\"class\": \"BatchNorm2d\", \"kargs\": {\"num_features\": 256}},\n",
    "        {\n",
    "            \"class\": \"Conv2d\",\n",
    "            \"kargs\": {\n",
    "                \"in_channels\": 256,\n",
    "                \"out_channels\": 80,\n",
    "                \"kernel_size\": [2, 7],\n",
    "                \"bias\": True,\n",
    "                \"padding\": [0, 3],\n",
    "            },\n",
    "        },\n",
    "        {\"class\": \"ReLU\", \"kargs\": {\"inplace\": True}},\n",
    "        {\"class\": \"BatchNorm2d\", \"kargs\": {\"num_features\": 80}},\n",
    "        {\"class\": \"Flatten\", \"kargs\": {}},\n",
    "        {\"class\": \"Linear\", \"kargs\": {\"in_features\": 20480, \"out_features\": 256}},\n",
    "        {\"class\": \"ReLU\", \"kargs\": {\"inplace\": True}},\n",
    "        {\"class\": \"BatchNorm1d\", \"kargs\": {\"num_features\": 256}},\n",
    "        {\"class\": \"Linear\", \"kargs\": {\"in_features\": 256, \"out_features\": 256}},\n",
    "    ],\n",
    "    \"NUM_LOGS_PER_EPOCH\": 10,\n",
    "    \"BEST_MODEL_PATH\": \"./best_model.pth\",\n",
    "    \"pickle_name\": \"wisig.node3-19.stratified_ds.2022A.pkl\",\n",
    "    \"x_transforms_source\": [],\n",
    "    \"x_transforms_target\": [],\n",
    "    \"dataset_seed\": 1337,\n",
    "    \"seed\": 1337,\n",
    "}\n"
   ]
  },
  {
   "cell_type": "code",
   "execution_count": 5,
   "id": "8fa1cc33",
   "metadata": {
    "execution": {
     "iopub.execute_input": "2022-03-22T16:34:36.514462Z",
     "iopub.status.busy": "2022-03-22T16:34:36.514183Z",
     "iopub.status.idle": "2022-03-22T16:34:36.527420Z",
     "shell.execute_reply": "2022-03-22T16:34:36.527791Z"
    },
    "papermill": {
     "duration": 0.027066,
     "end_time": "2022-03-22T16:34:36.527895",
     "exception": false,
     "start_time": "2022-03-22T16:34:36.500829",
     "status": "completed"
    },
    "tags": []
   },
   "outputs": [],
   "source": [
    "# Set this to True if you want to run this template directly\n",
    "STANDALONE = False\n",
    "if STANDALONE:\n",
    "    print(\"parameters not injected, running with standalone_parameters\")\n",
    "    parameters = standalone_parameters\n",
    "\n",
    "if not 'parameters' in locals() and not 'parameters' in globals():\n",
    "    raise Exception(\"Parameter injection failed\")\n",
    "\n",
    "#Use an easy dict for all the parameters\n",
    "p = EasyDict(parameters)\n",
    "\n",
    "supplied_keys = set(p.keys())\n",
    "\n",
    "if  supplied_keys != required_parameters:\n",
    "    print(\"Parameters are incorrect\")\n",
    "    if len(supplied_keys - required_parameters)>0: print(\"Shouldn't have:\", str(supplied_keys - required_parameters))\n",
    "    if len(required_parameters - supplied_keys)>0: print(\"Need to have:\", str(required_parameters - supplied_keys))\n",
    "    raise RuntimeError(\"Parameters are incorrect\")\n",
    "\n"
   ]
  },
  {
   "cell_type": "code",
   "execution_count": 6,
   "id": "3a028d58",
   "metadata": {
    "execution": {
     "iopub.execute_input": "2022-03-22T16:34:36.555022Z",
     "iopub.status.busy": "2022-03-22T16:34:36.554772Z",
     "iopub.status.idle": "2022-03-22T16:34:36.569834Z",
     "shell.execute_reply": "2022-03-22T16:34:36.569388Z"
    },
    "papermill": {
     "duration": 0.027091,
     "end_time": "2022-03-22T16:34:36.569924",
     "exception": false,
     "start_time": "2022-03-22T16:34:36.542833",
     "status": "completed"
    },
    "tags": []
   },
   "outputs": [],
   "source": [
    "###################################\n",
    "# Set the RNGs and make it all deterministic\n",
    "###################################\n",
    "np.random.seed(p.seed)\n",
    "random.seed(p.seed)\n",
    "torch.manual_seed(p.seed)\n",
    "\n",
    "torch.use_deterministic_algorithms(True) "
   ]
  },
  {
   "cell_type": "code",
   "execution_count": 7,
   "id": "b691acf6",
   "metadata": {
    "execution": {
     "iopub.execute_input": "2022-03-22T16:34:36.595763Z",
     "iopub.status.busy": "2022-03-22T16:34:36.595516Z",
     "iopub.status.idle": "2022-03-22T16:34:36.607769Z",
     "shell.execute_reply": "2022-03-22T16:34:36.607463Z"
    },
    "papermill": {
     "duration": 0.023913,
     "end_time": "2022-03-22T16:34:36.607838",
     "exception": false,
     "start_time": "2022-03-22T16:34:36.583925",
     "status": "completed"
    },
    "tags": []
   },
   "outputs": [],
   "source": [
    "###########################################\n",
    "# The stratified datasets honor this\n",
    "###########################################\n",
    "torch.set_default_dtype(eval(p.torch_default_dtype))"
   ]
  },
  {
   "cell_type": "code",
   "execution_count": 8,
   "id": "b5fba671",
   "metadata": {
    "execution": {
     "iopub.execute_input": "2022-03-22T16:34:36.632577Z",
     "iopub.status.busy": "2022-03-22T16:34:36.632322Z",
     "iopub.status.idle": "2022-03-22T16:34:36.669703Z",
     "shell.execute_reply": "2022-03-22T16:34:36.669235Z"
    },
    "papermill": {
     "duration": 0.048572,
     "end_time": "2022-03-22T16:34:36.669797",
     "exception": false,
     "start_time": "2022-03-22T16:34:36.621225",
     "status": "completed"
    },
    "tags": []
   },
   "outputs": [],
   "source": [
    "###################################\n",
    "# Build the network(s)\n",
    "# Note: It's critical to do this AFTER setting the RNG\n",
    "# (This is due to the randomized initial weights)\n",
    "###################################\n",
    "x_net = build_sequential(p.x_net)"
   ]
  },
  {
   "cell_type": "code",
   "execution_count": 9,
   "id": "5d7e61cc",
   "metadata": {
    "execution": {
     "iopub.execute_input": "2022-03-22T16:34:36.696474Z",
     "iopub.status.busy": "2022-03-22T16:34:36.696222Z",
     "iopub.status.idle": "2022-03-22T16:34:36.706947Z",
     "shell.execute_reply": "2022-03-22T16:34:36.706605Z"
    },
    "papermill": {
     "duration": 0.022521,
     "end_time": "2022-03-22T16:34:36.707016",
     "exception": false,
     "start_time": "2022-03-22T16:34:36.684495",
     "status": "completed"
    },
    "tags": []
   },
   "outputs": [],
   "source": [
    "start_time_secs = time.time()"
   ]
  },
  {
   "cell_type": "code",
   "execution_count": 10,
   "id": "fd5442bc",
   "metadata": {
    "execution": {
     "iopub.execute_input": "2022-03-22T16:34:36.738970Z",
     "iopub.status.busy": "2022-03-22T16:34:36.738703Z",
     "iopub.status.idle": "2022-03-22T16:34:38.214750Z",
     "shell.execute_reply": "2022-03-22T16:34:38.214287Z"
    },
    "papermill": {
     "duration": 1.493994,
     "end_time": "2022-03-22T16:34:38.214842",
     "exception": false,
     "start_time": "2022-03-22T16:34:36.720848",
     "status": "completed"
    },
    "tags": []
   },
   "outputs": [],
   "source": [
    "###################################\n",
    "# Build the dataset\n",
    "###################################\n",
    "\n",
    "if p.x_transforms_source == []: x_transform_source = None\n",
    "else: x_transform_source = get_chained_transform(p.x_transforms_source) \n",
    "\n",
    "if p.x_transforms_target == []: x_transform_target = None\n",
    "else: x_transform_target = get_chained_transform(p.x_transforms_target)\n",
    "\n",
    "if p.episode_transforms_source == []: episode_transform_source = None\n",
    "else: raise Exception(\"episode_transform_source not implemented\")\n",
    "\n",
    "if p.episode_transforms_target == []: episode_transform_target = None\n",
    "else: raise Exception(\"episode_transform_target not implemented\")\n",
    "\n",
    "\n",
    "eaf_source = Episodic_Accessor_Factory(\n",
    "    labels=p.labels_source,\n",
    "    domains=p.domains_source,\n",
    "    num_examples_per_domain_per_label=p.num_examples_per_domain_per_label_source,\n",
    "    iterator_seed=p.seed,\n",
    "    dataset_seed=p.dataset_seed,\n",
    "    n_shot=p.n_shot,\n",
    "    n_way=p.n_way,\n",
    "    n_query=p.n_query,\n",
    "    train_val_test_k_factors=(p.train_k_factor,p.val_k_factor,p.test_k_factor),\n",
    "    pickle_path=os.path.join(get_datasets_base_path(), p.pickle_name),\n",
    "    x_transform_func=x_transform_source,\n",
    "    example_transform_func=episode_transform_source,\n",
    "    \n",
    ")\n",
    "train_original_source, val_original_source, test_original_source = eaf_source.get_train(), eaf_source.get_val(), eaf_source.get_test()\n",
    "\n",
    "\n",
    "eaf_target = Episodic_Accessor_Factory(\n",
    "    labels=p.labels_target,\n",
    "    domains=p.domains_target,\n",
    "    num_examples_per_domain_per_label=p.num_examples_per_domain_per_label_target,\n",
    "    iterator_seed=p.seed,\n",
    "    dataset_seed=p.dataset_seed,\n",
    "    n_shot=p.n_shot,\n",
    "    n_way=p.n_way,\n",
    "    n_query=p.n_query,\n",
    "    train_val_test_k_factors=(p.train_k_factor,p.val_k_factor,p.test_k_factor),\n",
    "    pickle_path=os.path.join(get_datasets_base_path(), p.pickle_name),\n",
    "    x_transform_func=x_transform_target,\n",
    "    example_transform_func=episode_transform_target,\n",
    ")\n",
    "train_original_target, val_original_target, test_original_target = eaf_target.get_train(), eaf_target.get_val(), eaf_target.get_test()\n",
    "\n",
    "\n",
    "transform_lambda = lambda ex: ex[1] # Original is (<domain>, <episode>) so we strip down to episode only\n",
    "\n",
    "train_processed_source = Lazy_Iterable_Wrapper(train_original_source, transform_lambda)\n",
    "val_processed_source   = Lazy_Iterable_Wrapper(val_original_source, transform_lambda)\n",
    "test_processed_source  = Lazy_Iterable_Wrapper(test_original_source, transform_lambda)\n",
    "\n",
    "train_processed_target = Lazy_Iterable_Wrapper(train_original_target, transform_lambda)\n",
    "val_processed_target   = Lazy_Iterable_Wrapper(val_original_target, transform_lambda)\n",
    "test_processed_target  = Lazy_Iterable_Wrapper(test_original_target, transform_lambda)\n",
    "\n",
    "datasets = EasyDict({\n",
    "    \"source\": {\n",
    "        \"original\": {\"train\":train_original_source, \"val\":val_original_source, \"test\":test_original_source},\n",
    "        \"processed\": {\"train\":train_processed_source, \"val\":val_processed_source, \"test\":test_processed_source}\n",
    "    },\n",
    "    \"target\": {\n",
    "        \"original\": {\"train\":train_original_target, \"val\":val_original_target, \"test\":test_original_target},\n",
    "        \"processed\": {\"train\":train_processed_target, \"val\":val_processed_target, \"test\":test_processed_target}\n",
    "    },\n",
    "})"
   ]
  },
  {
   "cell_type": "code",
   "execution_count": 11,
   "id": "296189d9",
   "metadata": {
    "execution": {
     "iopub.execute_input": "2022-03-22T16:34:38.249293Z",
     "iopub.status.busy": "2022-03-22T16:34:38.249038Z",
     "iopub.status.idle": "2022-03-22T16:34:39.982882Z",
     "shell.execute_reply": "2022-03-22T16:34:39.983409Z"
    },
    "papermill": {
     "duration": 1.74794,
     "end_time": "2022-03-22T16:34:39.983557",
     "exception": false,
     "start_time": "2022-03-22T16:34:38.235617",
     "status": "completed"
    },
    "tags": []
   },
   "outputs": [
    {
     "name": "stdout",
     "output_type": "stream",
     "text": [
      "Visually inspect these to see if they line up with expected values given the transforms\n",
      "x_transforms_source []\n",
      "x_transforms_target []\n",
      "Average magnitude, source: 0.07243775\n",
      "Average power, source: 0.0063471547\n"
     ]
    },
    {
     "name": "stdout",
     "output_type": "stream",
     "text": [
      "Average magnitude, target: 0.081900135\n",
      "Average power, target: 0.009168604\n"
     ]
    }
   ],
   "source": [
    "# Some quick unit tests on the data\n",
    "from steves_utils.transforms import get_average_power, get_average_magnitude\n",
    "\n",
    "q_x, q_y, s_x, s_y, truth = next(iter(train_processed_source))\n",
    "\n",
    "assert q_x.dtype == eval(p.torch_default_dtype)\n",
    "assert s_x.dtype == eval(p.torch_default_dtype)\n",
    "\n",
    "print(\"Visually inspect these to see if they line up with expected values given the transforms\")\n",
    "print('x_transforms_source', p.x_transforms_source)\n",
    "print('x_transforms_target', p.x_transforms_target)\n",
    "print(\"Average magnitude, source:\", get_average_magnitude(q_x[0].numpy()))\n",
    "print(\"Average power, source:\", get_average_power(q_x[0].numpy()))\n",
    "\n",
    "q_x, q_y, s_x, s_y, truth = next(iter(train_processed_target))\n",
    "print(\"Average magnitude, target:\", get_average_magnitude(q_x[0].numpy()))\n",
    "print(\"Average power, target:\", get_average_power(q_x[0].numpy()))\n"
   ]
  },
  {
   "cell_type": "code",
   "execution_count": 12,
   "id": "bbdacba1",
   "metadata": {
    "execution": {
     "iopub.execute_input": "2022-03-22T16:34:40.015170Z",
     "iopub.status.busy": "2022-03-22T16:34:40.014900Z",
     "iopub.status.idle": "2022-03-22T16:34:40.080432Z",
     "shell.execute_reply": "2022-03-22T16:34:40.080805Z"
    },
    "papermill": {
     "duration": 0.081854,
     "end_time": "2022-03-22T16:34:40.080928",
     "exception": false,
     "start_time": "2022-03-22T16:34:39.999074",
     "status": "completed"
    },
    "tags": []
   },
   "outputs": [
    {
     "name": "stdout",
     "output_type": "stream",
     "text": [
      "(2, 256)\n"
     ]
    }
   ],
   "source": [
    "###################################\n",
    "# Build the model\n",
    "###################################\n",
    "model = Steves_Prototypical_Network(x_net, device=p.device, x_shape=(2,256))\n",
    "optimizer = Adam(params=model.parameters(), lr=p.lr)"
   ]
  },
  {
   "cell_type": "code",
   "execution_count": 13,
   "id": "22b39ac5",
   "metadata": {
    "execution": {
     "iopub.execute_input": "2022-03-22T16:34:40.110231Z",
     "iopub.status.busy": "2022-03-22T16:34:40.109967Z",
     "iopub.status.idle": "2022-03-22T16:37:52.979610Z",
     "shell.execute_reply": "2022-03-22T16:37:52.979126Z"
    },
    "papermill": {
     "duration": 192.883145,
     "end_time": "2022-03-22T16:37:52.979717",
     "exception": false,
     "start_time": "2022-03-22T16:34:40.096572",
     "status": "completed"
    },
    "tags": []
   },
   "outputs": [
    {
     "name": "stdout",
     "output_type": "stream",
     "text": [
      "epoch: 1, [batch: 1 / 45], examples_per_second: 1987.6841, train_label_loss: 4.0432, \n"
     ]
    },
    {
     "name": "stdout",
     "output_type": "stream",
     "text": [
      "epoch: 1, [batch: 5 / 45], examples_per_second: 3942.8046, train_label_loss: 3.4801, \n"
     ]
    },
    {
     "name": "stdout",
     "output_type": "stream",
     "text": [
      "epoch: 1, [batch: 9 / 45], examples_per_second: 4039.9125, train_label_loss: 3.1273, \n"
     ]
    },
    {
     "name": "stdout",
     "output_type": "stream",
     "text": [
      "epoch: 1, [batch: 14 / 45], examples_per_second: 4037.6291, train_label_loss: 2.8792, \n"
     ]
    },
    {
     "name": "stdout",
     "output_type": "stream",
     "text": [
      "epoch: 1, [batch: 18 / 45], examples_per_second: 4031.9230, train_label_loss: 2.5601, \n"
     ]
    },
    {
     "name": "stdout",
     "output_type": "stream",
     "text": [
      "epoch: 1, [batch: 23 / 45], examples_per_second: 3972.9299, train_label_loss: 2.2283, \n"
     ]
    },
    {
     "name": "stdout",
     "output_type": "stream",
     "text": [
      "epoch: 1, [batch: 27 / 45], examples_per_second: 4036.5016, train_label_loss: 1.9554, \n"
     ]
    },
    {
     "name": "stdout",
     "output_type": "stream",
     "text": [
      "epoch: 1, [batch: 31 / 45], examples_per_second: 4032.8936, train_label_loss: 1.7752, \n"
     ]
    },
    {
     "name": "stdout",
     "output_type": "stream",
     "text": [
      "epoch: 1, [batch: 36 / 45], examples_per_second: 4070.6635, train_label_loss: 1.5621, \n"
     ]
    },
    {
     "name": "stdout",
     "output_type": "stream",
     "text": [
      "epoch: 1, [batch: 40 / 45], examples_per_second: 4132.0108, train_label_loss: 1.4583, \n"
     ]
    },
    {
     "name": "stdout",
     "output_type": "stream",
     "text": [
      "=============================================================\n",
      "epoch: 1, source_val_acc_label: 0.8090, target_val_acc_label: 0.7603, source_val_label_loss: 1.2730, target_val_label_loss: 1.5634, \n",
      "=============================================================\n"
     ]
    },
    {
     "name": "stdout",
     "output_type": "stream",
     "text": [
      "New best\n"
     ]
    },
    {
     "name": "stdout",
     "output_type": "stream",
     "text": [
      "epoch: 2, [batch: 1 / 45], examples_per_second: 503.8310, train_label_loss: 1.2431, \n"
     ]
    },
    {
     "name": "stdout",
     "output_type": "stream",
     "text": [
      "epoch: 2, [batch: 5 / 45], examples_per_second: 4014.9278, train_label_loss: 1.0271, \n"
     ]
    },
    {
     "name": "stdout",
     "output_type": "stream",
     "text": [
      "epoch: 2, [batch: 9 / 45], examples_per_second: 4113.3361, train_label_loss: 1.1404, \n"
     ]
    },
    {
     "name": "stdout",
     "output_type": "stream",
     "text": [
      "epoch: 2, [batch: 14 / 45], examples_per_second: 4121.0806, train_label_loss: 1.0086, \n"
     ]
    },
    {
     "name": "stdout",
     "output_type": "stream",
     "text": [
      "epoch: 2, [batch: 18 / 45], examples_per_second: 4117.8078, train_label_loss: 0.7872, \n"
     ]
    },
    {
     "name": "stdout",
     "output_type": "stream",
     "text": [
      "epoch: 2, [batch: 23 / 45], examples_per_second: 4038.5621, train_label_loss: 1.0573, \n"
     ]
    },
    {
     "name": "stdout",
     "output_type": "stream",
     "text": [
      "epoch: 2, [batch: 27 / 45], examples_per_second: 4120.2893, train_label_loss: 1.0713, \n"
     ]
    },
    {
     "name": "stdout",
     "output_type": "stream",
     "text": [
      "epoch: 2, [batch: 31 / 45], examples_per_second: 4117.2808, train_label_loss: 0.7112, \n"
     ]
    },
    {
     "name": "stdout",
     "output_type": "stream",
     "text": [
      "epoch: 2, [batch: 36 / 45], examples_per_second: 4159.1420, train_label_loss: 0.7243, \n"
     ]
    },
    {
     "name": "stdout",
     "output_type": "stream",
     "text": [
      "epoch: 2, [batch: 40 / 45], examples_per_second: 4214.2390, train_label_loss: 0.9454, \n"
     ]
    },
    {
     "name": "stdout",
     "output_type": "stream",
     "text": [
      "=============================================================\n",
      "epoch: 2, source_val_acc_label: 0.8750, target_val_acc_label: 0.7991, source_val_label_loss: 0.7090, target_val_label_loss: 1.1198, \n",
      "=============================================================\n"
     ]
    },
    {
     "name": "stdout",
     "output_type": "stream",
     "text": [
      "New best\n"
     ]
    },
    {
     "name": "stdout",
     "output_type": "stream",
     "text": [
      "epoch: 3, [batch: 1 / 45], examples_per_second: 497.6757, train_label_loss: 0.8542, \n"
     ]
    },
    {
     "name": "stdout",
     "output_type": "stream",
     "text": [
      "epoch: 3, [batch: 5 / 45], examples_per_second: 4022.8308, train_label_loss: 0.7413, \n"
     ]
    },
    {
     "name": "stdout",
     "output_type": "stream",
     "text": [
      "epoch: 3, [batch: 9 / 45], examples_per_second: 4125.3722, train_label_loss: 0.5586, \n"
     ]
    },
    {
     "name": "stdout",
     "output_type": "stream",
     "text": [
      "epoch: 3, [batch: 14 / 45], examples_per_second: 4114.9811, train_label_loss: 0.8599, \n"
     ]
    },
    {
     "name": "stdout",
     "output_type": "stream",
     "text": [
      "epoch: 3, [batch: 18 / 45], examples_per_second: 4125.2536, train_label_loss: 0.5030, \n"
     ]
    },
    {
     "name": "stdout",
     "output_type": "stream",
     "text": [
      "epoch: 3, [batch: 23 / 45], examples_per_second: 4048.0078, train_label_loss: 0.4952, \n"
     ]
    },
    {
     "name": "stdout",
     "output_type": "stream",
     "text": [
      "epoch: 3, [batch: 27 / 45], examples_per_second: 4123.0700, train_label_loss: 0.5954, \n"
     ]
    },
    {
     "name": "stdout",
     "output_type": "stream",
     "text": [
      "epoch: 3, [batch: 31 / 45], examples_per_second: 4117.7503, train_label_loss: 0.6897, \n"
     ]
    },
    {
     "name": "stdout",
     "output_type": "stream",
     "text": [
      "epoch: 3, [batch: 36 / 45], examples_per_second: 4165.1441, train_label_loss: 0.6995, \n"
     ]
    },
    {
     "name": "stdout",
     "output_type": "stream",
     "text": [
      "epoch: 3, [batch: 40 / 45], examples_per_second: 4210.2755, train_label_loss: 0.6047, \n"
     ]
    },
    {
     "name": "stdout",
     "output_type": "stream",
     "text": [
      "=============================================================\n",
      "epoch: 3, source_val_acc_label: 0.9083, target_val_acc_label: 0.8239, source_val_label_loss: 0.5331, target_val_label_loss: 0.9727, \n",
      "=============================================================\n"
     ]
    },
    {
     "name": "stdout",
     "output_type": "stream",
     "text": [
      "New best\n"
     ]
    },
    {
     "name": "stdout",
     "output_type": "stream",
     "text": [
      "epoch: 4, [batch: 1 / 45], examples_per_second: 499.8333, train_label_loss: 0.6848, \n"
     ]
    },
    {
     "name": "stdout",
     "output_type": "stream",
     "text": [
      "epoch: 4, [batch: 5 / 45], examples_per_second: 4007.3812, train_label_loss: 0.6182, \n"
     ]
    },
    {
     "name": "stdout",
     "output_type": "stream",
     "text": [
      "epoch: 4, [batch: 9 / 45], examples_per_second: 4102.3359, train_label_loss: 0.6506, \n"
     ]
    },
    {
     "name": "stdout",
     "output_type": "stream",
     "text": [
      "epoch: 4, [batch: 14 / 45], examples_per_second: 4107.9288, train_label_loss: 0.6395, \n"
     ]
    },
    {
     "name": "stdout",
     "output_type": "stream",
     "text": [
      "epoch: 4, [batch: 18 / 45], examples_per_second: 4106.5069, train_label_loss: 0.4991, \n"
     ]
    },
    {
     "name": "stdout",
     "output_type": "stream",
     "text": [
      "epoch: 4, [batch: 23 / 45], examples_per_second: 4026.8669, train_label_loss: 0.4166, \n"
     ]
    },
    {
     "name": "stdout",
     "output_type": "stream",
     "text": [
      "epoch: 4, [batch: 27 / 45], examples_per_second: 4108.5739, train_label_loss: 0.4878, \n"
     ]
    },
    {
     "name": "stdout",
     "output_type": "stream",
     "text": [
      "epoch: 4, [batch: 31 / 45], examples_per_second: 4110.1379, train_label_loss: 0.3047, \n"
     ]
    },
    {
     "name": "stdout",
     "output_type": "stream",
     "text": [
      "epoch: 4, [batch: 36 / 45], examples_per_second: 4148.0766, train_label_loss: 0.5042, \n"
     ]
    },
    {
     "name": "stdout",
     "output_type": "stream",
     "text": [
      "epoch: 4, [batch: 40 / 45], examples_per_second: 4205.0284, train_label_loss: 0.3723, \n"
     ]
    },
    {
     "name": "stdout",
     "output_type": "stream",
     "text": [
      "=============================================================\n",
      "epoch: 4, source_val_acc_label: 0.9186, target_val_acc_label: 0.8419, source_val_label_loss: 0.4497, target_val_label_loss: 0.8856, \n",
      "=============================================================\n"
     ]
    },
    {
     "name": "stdout",
     "output_type": "stream",
     "text": [
      "New best\n"
     ]
    },
    {
     "name": "stdout",
     "output_type": "stream",
     "text": [
      "epoch: 5, [batch: 1 / 45], examples_per_second: 497.8918, train_label_loss: 0.4738, \n"
     ]
    },
    {
     "name": "stdout",
     "output_type": "stream",
     "text": [
      "epoch: 5, [batch: 5 / 45], examples_per_second: 4014.6115, train_label_loss: 0.4978, \n"
     ]
    },
    {
     "name": "stdout",
     "output_type": "stream",
     "text": [
      "epoch: 5, [batch: 9 / 45], examples_per_second: 4106.4048, train_label_loss: 0.3748, \n"
     ]
    },
    {
     "name": "stdout",
     "output_type": "stream",
     "text": [
      "epoch: 5, [batch: 14 / 45], examples_per_second: 4114.0447, train_label_loss: 0.6448, \n"
     ]
    },
    {
     "name": "stdout",
     "output_type": "stream",
     "text": [
      "epoch: 5, [batch: 18 / 45], examples_per_second: 4119.9298, train_label_loss: 0.5381, \n"
     ]
    },
    {
     "name": "stdout",
     "output_type": "stream",
     "text": [
      "epoch: 5, [batch: 23 / 45], examples_per_second: 4045.1884, train_label_loss: 0.5514, \n"
     ]
    },
    {
     "name": "stdout",
     "output_type": "stream",
     "text": [
      "epoch: 5, [batch: 27 / 45], examples_per_second: 4114.0717, train_label_loss: 0.4394, \n"
     ]
    },
    {
     "name": "stdout",
     "output_type": "stream",
     "text": [
      "epoch: 5, [batch: 31 / 45], examples_per_second: 4121.5943, train_label_loss: 0.6202, \n"
     ]
    },
    {
     "name": "stdout",
     "output_type": "stream",
     "text": [
      "epoch: 5, [batch: 36 / 45], examples_per_second: 4151.3560, train_label_loss: 0.3682, \n"
     ]
    },
    {
     "name": "stdout",
     "output_type": "stream",
     "text": [
      "epoch: 5, [batch: 40 / 45], examples_per_second: 4207.8338, train_label_loss: 0.4124, \n"
     ]
    },
    {
     "name": "stdout",
     "output_type": "stream",
     "text": [
      "=============================================================\n",
      "epoch: 5, source_val_acc_label: 0.9346, target_val_acc_label: 0.8553, source_val_label_loss: 0.3969, target_val_label_loss: 0.8316, \n",
      "=============================================================\n"
     ]
    },
    {
     "name": "stdout",
     "output_type": "stream",
     "text": [
      "New best\n"
     ]
    },
    {
     "name": "stdout",
     "output_type": "stream",
     "text": [
      "epoch: 6, [batch: 1 / 45], examples_per_second: 497.8549, train_label_loss: 0.2424, \n"
     ]
    },
    {
     "name": "stdout",
     "output_type": "stream",
     "text": [
      "epoch: 6, [batch: 5 / 45], examples_per_second: 4008.5936, train_label_loss: 0.3242, \n"
     ]
    },
    {
     "name": "stdout",
     "output_type": "stream",
     "text": [
      "epoch: 6, [batch: 9 / 45], examples_per_second: 4107.3421, train_label_loss: 0.2404, \n"
     ]
    },
    {
     "name": "stdout",
     "output_type": "stream",
     "text": [
      "epoch: 6, [batch: 14 / 45], examples_per_second: 4101.8224, train_label_loss: 0.3176, \n"
     ]
    },
    {
     "name": "stdout",
     "output_type": "stream",
     "text": [
      "epoch: 6, [batch: 18 / 45], examples_per_second: 4122.2970, train_label_loss: 0.2572, \n"
     ]
    },
    {
     "name": "stdout",
     "output_type": "stream",
     "text": [
      "epoch: 6, [batch: 23 / 45], examples_per_second: 4040.9314, train_label_loss: 0.4218, \n"
     ]
    },
    {
     "name": "stdout",
     "output_type": "stream",
     "text": [
      "epoch: 6, [batch: 27 / 45], examples_per_second: 4116.0577, train_label_loss: 0.3803, \n"
     ]
    },
    {
     "name": "stdout",
     "output_type": "stream",
     "text": [
      "epoch: 6, [batch: 31 / 45], examples_per_second: 4116.3125, train_label_loss: 0.4030, \n"
     ]
    },
    {
     "name": "stdout",
     "output_type": "stream",
     "text": [
      "epoch: 6, [batch: 36 / 45], examples_per_second: 4158.9808, train_label_loss: 0.2016, \n"
     ]
    },
    {
     "name": "stdout",
     "output_type": "stream",
     "text": [
      "epoch: 6, [batch: 40 / 45], examples_per_second: 4209.5539, train_label_loss: 0.2859, \n"
     ]
    },
    {
     "name": "stdout",
     "output_type": "stream",
     "text": [
      "=============================================================\n",
      "epoch: 6, source_val_acc_label: 0.9481, target_val_acc_label: 0.8624, source_val_label_loss: 0.3582, target_val_label_loss: 0.8219, \n",
      "=============================================================\n"
     ]
    },
    {
     "name": "stdout",
     "output_type": "stream",
     "text": [
      "New best\n"
     ]
    },
    {
     "name": "stdout",
     "output_type": "stream",
     "text": [
      "epoch: 7, [batch: 1 / 45], examples_per_second: 497.3260, train_label_loss: 0.5271, \n"
     ]
    },
    {
     "name": "stdout",
     "output_type": "stream",
     "text": [
      "epoch: 7, [batch: 5 / 45], examples_per_second: 4008.8824, train_label_loss: 0.3183, \n"
     ]
    },
    {
     "name": "stdout",
     "output_type": "stream",
     "text": [
      "epoch: 7, [batch: 9 / 45], examples_per_second: 4104.3956, train_label_loss: 0.3685, \n"
     ]
    },
    {
     "name": "stdout",
     "output_type": "stream",
     "text": [
      "epoch: 7, [batch: 14 / 45], examples_per_second: 4106.6430, train_label_loss: 0.2723, \n"
     ]
    },
    {
     "name": "stdout",
     "output_type": "stream",
     "text": [
      "epoch: 7, [batch: 18 / 45], examples_per_second: 4103.0336, train_label_loss: 0.2852, \n"
     ]
    },
    {
     "name": "stdout",
     "output_type": "stream",
     "text": [
      "epoch: 7, [batch: 23 / 45], examples_per_second: 4030.7498, train_label_loss: 0.4531, \n"
     ]
    },
    {
     "name": "stdout",
     "output_type": "stream",
     "text": [
      "epoch: 7, [batch: 27 / 45], examples_per_second: 4105.1852, train_label_loss: 0.3265, \n"
     ]
    },
    {
     "name": "stdout",
     "output_type": "stream",
     "text": [
      "epoch: 7, [batch: 31 / 45], examples_per_second: 4108.2241, train_label_loss: 0.3772, \n"
     ]
    },
    {
     "name": "stdout",
     "output_type": "stream",
     "text": [
      "epoch: 7, [batch: 36 / 45], examples_per_second: 4145.7881, train_label_loss: 0.2004, \n"
     ]
    },
    {
     "name": "stdout",
     "output_type": "stream",
     "text": [
      "epoch: 7, [batch: 40 / 45], examples_per_second: 4207.6455, train_label_loss: 0.4974, \n"
     ]
    },
    {
     "name": "stdout",
     "output_type": "stream",
     "text": [
      "=============================================================\n",
      "epoch: 7, source_val_acc_label: 0.9506, target_val_acc_label: 0.8697, source_val_label_loss: 0.3195, target_val_label_loss: 0.7548, \n",
      "=============================================================\n"
     ]
    },
    {
     "name": "stdout",
     "output_type": "stream",
     "text": [
      "New best\n"
     ]
    },
    {
     "name": "stdout",
     "output_type": "stream",
     "text": [
      "epoch: 8, [batch: 1 / 45], examples_per_second: 495.5200, train_label_loss: 0.3866, \n"
     ]
    },
    {
     "name": "stdout",
     "output_type": "stream",
     "text": [
      "epoch: 8, [batch: 5 / 45], examples_per_second: 4010.7873, train_label_loss: 0.2257, \n"
     ]
    },
    {
     "name": "stdout",
     "output_type": "stream",
     "text": [
      "epoch: 8, [batch: 9 / 45], examples_per_second: 4115.5917, train_label_loss: 0.4134, \n"
     ]
    },
    {
     "name": "stdout",
     "output_type": "stream",
     "text": [
      "epoch: 8, [batch: 14 / 45], examples_per_second: 4126.8822, train_label_loss: 0.2755, \n"
     ]
    },
    {
     "name": "stdout",
     "output_type": "stream",
     "text": [
      "epoch: 8, [batch: 18 / 45], examples_per_second: 4112.8506, train_label_loss: 0.3658, \n"
     ]
    },
    {
     "name": "stdout",
     "output_type": "stream",
     "text": [
      "epoch: 8, [batch: 23 / 45], examples_per_second: 4039.1389, train_label_loss: 0.3171, \n"
     ]
    },
    {
     "name": "stdout",
     "output_type": "stream",
     "text": [
      "epoch: 8, [batch: 27 / 45], examples_per_second: 4113.3998, train_label_loss: 0.2559, \n"
     ]
    },
    {
     "name": "stdout",
     "output_type": "stream",
     "text": [
      "epoch: 8, [batch: 31 / 45], examples_per_second: 4116.0608, train_label_loss: 0.3190, \n"
     ]
    },
    {
     "name": "stdout",
     "output_type": "stream",
     "text": [
      "epoch: 8, [batch: 36 / 45], examples_per_second: 4144.0564, train_label_loss: 0.2238, \n"
     ]
    },
    {
     "name": "stdout",
     "output_type": "stream",
     "text": [
      "epoch: 8, [batch: 40 / 45], examples_per_second: 4204.9182, train_label_loss: 0.4240, \n"
     ]
    },
    {
     "name": "stdout",
     "output_type": "stream",
     "text": [
      "=============================================================\n",
      "epoch: 8, source_val_acc_label: 0.9577, target_val_acc_label: 0.8699, source_val_label_loss: 0.2934, target_val_label_loss: 0.7538, \n",
      "=============================================================\n"
     ]
    },
    {
     "name": "stdout",
     "output_type": "stream",
     "text": [
      "New best\n"
     ]
    },
    {
     "name": "stdout",
     "output_type": "stream",
     "text": [
      "epoch: 9, [batch: 1 / 45], examples_per_second: 495.3183, train_label_loss: 0.3050, \n"
     ]
    },
    {
     "name": "stdout",
     "output_type": "stream",
     "text": [
      "epoch: 9, [batch: 5 / 45], examples_per_second: 4013.1474, train_label_loss: 0.2968, \n"
     ]
    },
    {
     "name": "stdout",
     "output_type": "stream",
     "text": [
      "epoch: 9, [batch: 9 / 45], examples_per_second: 4115.4100, train_label_loss: 0.2314, \n"
     ]
    },
    {
     "name": "stdout",
     "output_type": "stream",
     "text": [
      "epoch: 9, [batch: 14 / 45], examples_per_second: 4118.0504, train_label_loss: 0.3090, \n"
     ]
    },
    {
     "name": "stdout",
     "output_type": "stream",
     "text": [
      "epoch: 9, [batch: 18 / 45], examples_per_second: 4112.3233, train_label_loss: 0.3863, \n"
     ]
    },
    {
     "name": "stdout",
     "output_type": "stream",
     "text": [
      "epoch: 9, [batch: 23 / 45], examples_per_second: 4042.7602, train_label_loss: 0.2360, \n"
     ]
    },
    {
     "name": "stdout",
     "output_type": "stream",
     "text": [
      "epoch: 9, [batch: 27 / 45], examples_per_second: 4117.6306, train_label_loss: 0.1423, \n"
     ]
    },
    {
     "name": "stdout",
     "output_type": "stream",
     "text": [
      "epoch: 9, [batch: 31 / 45], examples_per_second: 4119.7803, train_label_loss: 0.3239, \n"
     ]
    },
    {
     "name": "stdout",
     "output_type": "stream",
     "text": [
      "epoch: 9, [batch: 36 / 45], examples_per_second: 4145.8398, train_label_loss: 0.1793, \n"
     ]
    },
    {
     "name": "stdout",
     "output_type": "stream",
     "text": [
      "epoch: 9, [batch: 40 / 45], examples_per_second: 4208.3307, train_label_loss: 0.1326, \n"
     ]
    },
    {
     "name": "stdout",
     "output_type": "stream",
     "text": [
      "=============================================================\n",
      "epoch: 9, source_val_acc_label: 0.9590, target_val_acc_label: 0.8729, source_val_label_loss: 0.2795, target_val_label_loss: 0.7307, \n",
      "=============================================================\n"
     ]
    },
    {
     "name": "stdout",
     "output_type": "stream",
     "text": [
      "New best\n"
     ]
    },
    {
     "name": "stdout",
     "output_type": "stream",
     "text": [
      "epoch: 10, [batch: 1 / 45], examples_per_second: 497.4278, train_label_loss: 0.4212, \n"
     ]
    },
    {
     "name": "stdout",
     "output_type": "stream",
     "text": [
      "epoch: 10, [batch: 5 / 45], examples_per_second: 4015.6316, train_label_loss: 0.1928, \n"
     ]
    },
    {
     "name": "stdout",
     "output_type": "stream",
     "text": [
      "epoch: 10, [batch: 9 / 45], examples_per_second: 4121.1364, train_label_loss: 0.3777, \n"
     ]
    },
    {
     "name": "stdout",
     "output_type": "stream",
     "text": [
      "epoch: 10, [batch: 14 / 45], examples_per_second: 4122.2820, train_label_loss: 0.2131, \n"
     ]
    },
    {
     "name": "stdout",
     "output_type": "stream",
     "text": [
      "epoch: 10, [batch: 18 / 45], examples_per_second: 4118.0410, train_label_loss: 0.2108, \n"
     ]
    },
    {
     "name": "stdout",
     "output_type": "stream",
     "text": [
      "epoch: 10, [batch: 23 / 45], examples_per_second: 4035.4692, train_label_loss: 0.2389, \n"
     ]
    },
    {
     "name": "stdout",
     "output_type": "stream",
     "text": [
      "epoch: 10, [batch: 27 / 45], examples_per_second: 4121.1738, train_label_loss: 0.2611, \n"
     ]
    },
    {
     "name": "stdout",
     "output_type": "stream",
     "text": [
      "epoch: 10, [batch: 31 / 45], examples_per_second: 4124.5655, train_label_loss: 0.1559, \n"
     ]
    },
    {
     "name": "stdout",
     "output_type": "stream",
     "text": [
      "epoch: 10, [batch: 36 / 45], examples_per_second: 4150.2665, train_label_loss: 0.2384, \n"
     ]
    },
    {
     "name": "stdout",
     "output_type": "stream",
     "text": [
      "epoch: 10, [batch: 40 / 45], examples_per_second: 4201.5306, train_label_loss: 0.2158, \n"
     ]
    },
    {
     "name": "stdout",
     "output_type": "stream",
     "text": [
      "=============================================================\n",
      "epoch: 10, source_val_acc_label: 0.9609, target_val_acc_label: 0.8825, source_val_label_loss: 0.2556, target_val_label_loss: 0.6960, \n",
      "=============================================================\n"
     ]
    },
    {
     "name": "stdout",
     "output_type": "stream",
     "text": [
      "New best\n"
     ]
    },
    {
     "name": "stdout",
     "output_type": "stream",
     "text": [
      "epoch: 11, [batch: 1 / 45], examples_per_second: 497.1905, train_label_loss: 0.2775, \n"
     ]
    },
    {
     "name": "stdout",
     "output_type": "stream",
     "text": [
      "epoch: 11, [batch: 5 / 45], examples_per_second: 4000.0214, train_label_loss: 0.2024, \n"
     ]
    },
    {
     "name": "stdout",
     "output_type": "stream",
     "text": [
      "epoch: 11, [batch: 9 / 45], examples_per_second: 4089.7680, train_label_loss: 0.2445, \n"
     ]
    },
    {
     "name": "stdout",
     "output_type": "stream",
     "text": [
      "epoch: 11, [batch: 14 / 45], examples_per_second: 4093.6125, train_label_loss: 0.1461, \n"
     ]
    },
    {
     "name": "stdout",
     "output_type": "stream",
     "text": [
      "epoch: 11, [batch: 18 / 45], examples_per_second: 4087.8884, train_label_loss: 0.2508, \n"
     ]
    },
    {
     "name": "stdout",
     "output_type": "stream",
     "text": [
      "epoch: 11, [batch: 23 / 45], examples_per_second: 4030.7319, train_label_loss: 0.2041, \n"
     ]
    },
    {
     "name": "stdout",
     "output_type": "stream",
     "text": [
      "epoch: 11, [batch: 27 / 45], examples_per_second: 4098.0056, train_label_loss: 0.1565, \n"
     ]
    },
    {
     "name": "stdout",
     "output_type": "stream",
     "text": [
      "epoch: 11, [batch: 31 / 45], examples_per_second: 4109.1591, train_label_loss: 0.3117, \n"
     ]
    },
    {
     "name": "stdout",
     "output_type": "stream",
     "text": [
      "epoch: 11, [batch: 36 / 45], examples_per_second: 4141.2124, train_label_loss: 0.1878, \n"
     ]
    },
    {
     "name": "stdout",
     "output_type": "stream",
     "text": [
      "epoch: 11, [batch: 40 / 45], examples_per_second: 4201.7702, train_label_loss: 0.3121, \n"
     ]
    },
    {
     "name": "stdout",
     "output_type": "stream",
     "text": [
      "=============================================================\n",
      "epoch: 11, source_val_acc_label: 0.9622, target_val_acc_label: 0.8825, source_val_label_loss: 0.2464, target_val_label_loss: 0.6713, \n",
      "=============================================================\n"
     ]
    },
    {
     "name": "stdout",
     "output_type": "stream",
     "text": [
      "epoch: 12, [batch: 1 / 45], examples_per_second: 506.2374, train_label_loss: 0.2212, \n"
     ]
    },
    {
     "name": "stdout",
     "output_type": "stream",
     "text": [
      "epoch: 12, [batch: 5 / 45], examples_per_second: 4010.0897, train_label_loss: 0.2018, \n"
     ]
    },
    {
     "name": "stdout",
     "output_type": "stream",
     "text": [
      "epoch: 12, [batch: 9 / 45], examples_per_second: 4102.4131, train_label_loss: 0.3042, \n"
     ]
    },
    {
     "name": "stdout",
     "output_type": "stream",
     "text": [
      "epoch: 12, [batch: 14 / 45], examples_per_second: 4110.3417, train_label_loss: 0.2541, \n"
     ]
    },
    {
     "name": "stdout",
     "output_type": "stream",
     "text": [
      "epoch: 12, [batch: 18 / 45], examples_per_second: 4099.8652, train_label_loss: 0.2134, \n"
     ]
    },
    {
     "name": "stdout",
     "output_type": "stream",
     "text": [
      "epoch: 12, [batch: 23 / 45], examples_per_second: 4031.6058, train_label_loss: 0.3243, \n"
     ]
    },
    {
     "name": "stdout",
     "output_type": "stream",
     "text": [
      "epoch: 12, [batch: 27 / 45], examples_per_second: 4105.9410, train_label_loss: 0.1768, \n"
     ]
    },
    {
     "name": "stdout",
     "output_type": "stream",
     "text": [
      "epoch: 12, [batch: 31 / 45], examples_per_second: 4103.7207, train_label_loss: 0.2063, \n"
     ]
    },
    {
     "name": "stdout",
     "output_type": "stream",
     "text": [
      "epoch: 12, [batch: 36 / 45], examples_per_second: 4143.7162, train_label_loss: 0.1781, \n"
     ]
    },
    {
     "name": "stdout",
     "output_type": "stream",
     "text": [
      "epoch: 12, [batch: 40 / 45], examples_per_second: 4206.7365, train_label_loss: 0.3272, \n"
     ]
    },
    {
     "name": "stdout",
     "output_type": "stream",
     "text": [
      "=============================================================\n",
      "epoch: 12, source_val_acc_label: 0.9660, target_val_acc_label: 0.8878, source_val_label_loss: 0.2344, target_val_label_loss: 0.6425, \n",
      "=============================================================\n"
     ]
    },
    {
     "name": "stdout",
     "output_type": "stream",
     "text": [
      "New best\n"
     ]
    },
    {
     "name": "stdout",
     "output_type": "stream",
     "text": [
      "epoch: 13, [batch: 1 / 45], examples_per_second: 493.0264, train_label_loss: 0.2354, \n"
     ]
    },
    {
     "name": "stdout",
     "output_type": "stream",
     "text": [
      "epoch: 13, [batch: 5 / 45], examples_per_second: 4029.7432, train_label_loss: 0.1690, \n"
     ]
    },
    {
     "name": "stdout",
     "output_type": "stream",
     "text": [
      "epoch: 13, [batch: 9 / 45], examples_per_second: 4119.2061, train_label_loss: 0.3720, \n"
     ]
    },
    {
     "name": "stdout",
     "output_type": "stream",
     "text": [
      "epoch: 13, [batch: 14 / 45], examples_per_second: 4120.5363, train_label_loss: 0.2478, \n"
     ]
    },
    {
     "name": "stdout",
     "output_type": "stream",
     "text": [
      "epoch: 13, [batch: 18 / 45], examples_per_second: 4115.5948, train_label_loss: 0.3426, \n"
     ]
    },
    {
     "name": "stdout",
     "output_type": "stream",
     "text": [
      "epoch: 13, [batch: 23 / 45], examples_per_second: 4037.0467, train_label_loss: 0.2911, \n"
     ]
    },
    {
     "name": "stdout",
     "output_type": "stream",
     "text": [
      "epoch: 13, [batch: 27 / 45], examples_per_second: 4119.4317, train_label_loss: 0.4031, \n"
     ]
    },
    {
     "name": "stdout",
     "output_type": "stream",
     "text": [
      "epoch: 13, [batch: 31 / 45], examples_per_second: 4118.5170, train_label_loss: 0.1608, \n"
     ]
    },
    {
     "name": "stdout",
     "output_type": "stream",
     "text": [
      "epoch: 13, [batch: 36 / 45], examples_per_second: 4150.4131, train_label_loss: 0.3063, \n"
     ]
    },
    {
     "name": "stdout",
     "output_type": "stream",
     "text": [
      "epoch: 13, [batch: 40 / 45], examples_per_second: 4211.9814, train_label_loss: 0.1300, \n"
     ]
    },
    {
     "name": "stdout",
     "output_type": "stream",
     "text": [
      "=============================================================\n",
      "epoch: 13, source_val_acc_label: 0.9609, target_val_acc_label: 0.8833, source_val_label_loss: 0.2438, target_val_label_loss: 0.7003, \n",
      "=============================================================\n"
     ]
    },
    {
     "name": "stdout",
     "output_type": "stream",
     "text": [
      "epoch: 14, [batch: 1 / 45], examples_per_second: 510.4117, train_label_loss: 0.2520, \n"
     ]
    },
    {
     "name": "stdout",
     "output_type": "stream",
     "text": [
      "epoch: 14, [batch: 5 / 45], examples_per_second: 4026.3138, train_label_loss: 0.2319, \n"
     ]
    },
    {
     "name": "stdout",
     "output_type": "stream",
     "text": [
      "epoch: 14, [batch: 9 / 45], examples_per_second: 4110.1115, train_label_loss: 0.3410, \n"
     ]
    },
    {
     "name": "stdout",
     "output_type": "stream",
     "text": [
      "epoch: 14, [batch: 14 / 45], examples_per_second: 4121.1753, train_label_loss: 0.1465, \n"
     ]
    },
    {
     "name": "stdout",
     "output_type": "stream",
     "text": [
      "epoch: 14, [batch: 18 / 45], examples_per_second: 4119.0039, train_label_loss: 0.1568, \n"
     ]
    },
    {
     "name": "stdout",
     "output_type": "stream",
     "text": [
      "epoch: 14, [batch: 23 / 45], examples_per_second: 4046.0937, train_label_loss: 0.2521, \n"
     ]
    },
    {
     "name": "stdout",
     "output_type": "stream",
     "text": [
      "epoch: 14, [batch: 27 / 45], examples_per_second: 4119.0147, train_label_loss: 0.3263, \n"
     ]
    },
    {
     "name": "stdout",
     "output_type": "stream",
     "text": [
      "epoch: 14, [batch: 31 / 45], examples_per_second: 4120.4014, train_label_loss: 0.2417, \n"
     ]
    },
    {
     "name": "stdout",
     "output_type": "stream",
     "text": [
      "epoch: 14, [batch: 36 / 45], examples_per_second: 4152.9268, train_label_loss: 0.2557, \n"
     ]
    },
    {
     "name": "stdout",
     "output_type": "stream",
     "text": [
      "epoch: 14, [batch: 40 / 45], examples_per_second: 4207.1049, train_label_loss: 0.1796, \n"
     ]
    },
    {
     "name": "stdout",
     "output_type": "stream",
     "text": [
      "=============================================================\n",
      "epoch: 14, source_val_acc_label: 0.9596, target_val_acc_label: 0.8857, source_val_label_loss: 0.2549, target_val_label_loss: 0.6691, \n",
      "=============================================================\n"
     ]
    },
    {
     "name": "stdout",
     "output_type": "stream",
     "text": [
      "epoch: 15, [batch: 1 / 45], examples_per_second: 512.5003, train_label_loss: 0.1120, \n"
     ]
    },
    {
     "name": "stdout",
     "output_type": "stream",
     "text": [
      "epoch: 15, [batch: 5 / 45], examples_per_second: 4024.4119, train_label_loss: 0.2107, \n"
     ]
    },
    {
     "name": "stdout",
     "output_type": "stream",
     "text": [
      "epoch: 15, [batch: 9 / 45], examples_per_second: 4116.8891, train_label_loss: 0.3426, \n"
     ]
    },
    {
     "name": "stdout",
     "output_type": "stream",
     "text": [
      "epoch: 15, [batch: 14 / 45], examples_per_second: 4113.2229, train_label_loss: 0.2297, \n"
     ]
    },
    {
     "name": "stdout",
     "output_type": "stream",
     "text": [
      "epoch: 15, [batch: 18 / 45], examples_per_second: 4119.5127, train_label_loss: 0.3729, \n"
     ]
    },
    {
     "name": "stdout",
     "output_type": "stream",
     "text": [
      "epoch: 15, [batch: 23 / 45], examples_per_second: 4042.0170, train_label_loss: 0.2944, \n"
     ]
    },
    {
     "name": "stdout",
     "output_type": "stream",
     "text": [
      "epoch: 15, [batch: 27 / 45], examples_per_second: 4112.2597, train_label_loss: 0.2525, \n"
     ]
    },
    {
     "name": "stdout",
     "output_type": "stream",
     "text": [
      "epoch: 15, [batch: 31 / 45], examples_per_second: 4112.6831, train_label_loss: 0.3857, \n"
     ]
    },
    {
     "name": "stdout",
     "output_type": "stream",
     "text": [
      "epoch: 15, [batch: 36 / 45], examples_per_second: 4152.4537, train_label_loss: 0.4230, \n"
     ]
    },
    {
     "name": "stdout",
     "output_type": "stream",
     "text": [
      "epoch: 15, [batch: 40 / 45], examples_per_second: 4211.3307, train_label_loss: 0.0824, \n"
     ]
    },
    {
     "name": "stdout",
     "output_type": "stream",
     "text": [
      "=============================================================\n",
      "epoch: 15, source_val_acc_label: 0.9705, target_val_acc_label: 0.8889, source_val_label_loss: 0.2210, target_val_label_loss: 0.6621, \n",
      "=============================================================\n"
     ]
    },
    {
     "name": "stdout",
     "output_type": "stream",
     "text": [
      "New best\n"
     ]
    },
    {
     "name": "stdout",
     "output_type": "stream",
     "text": [
      "epoch: 16, [batch: 1 / 45], examples_per_second: 499.2210, train_label_loss: 0.1934, \n"
     ]
    },
    {
     "name": "stdout",
     "output_type": "stream",
     "text": [
      "epoch: 16, [batch: 5 / 45], examples_per_second: 4000.1975, train_label_loss: 0.1865, \n"
     ]
    },
    {
     "name": "stdout",
     "output_type": "stream",
     "text": [
      "epoch: 16, [batch: 9 / 45], examples_per_second: 4105.1357, train_label_loss: 0.1360, \n"
     ]
    },
    {
     "name": "stdout",
     "output_type": "stream",
     "text": [
      "epoch: 16, [batch: 14 / 45], examples_per_second: 4111.3943, train_label_loss: 0.1719, \n"
     ]
    },
    {
     "name": "stdout",
     "output_type": "stream",
     "text": [
      "epoch: 16, [batch: 18 / 45], examples_per_second: 4105.0940, train_label_loss: 0.1675, \n"
     ]
    },
    {
     "name": "stdout",
     "output_type": "stream",
     "text": [
      "epoch: 16, [batch: 23 / 45], examples_per_second: 4037.6829, train_label_loss: 0.1822, \n"
     ]
    },
    {
     "name": "stdout",
     "output_type": "stream",
     "text": [
      "epoch: 16, [batch: 27 / 45], examples_per_second: 4109.6778, train_label_loss: 0.1765, \n"
     ]
    },
    {
     "name": "stdout",
     "output_type": "stream",
     "text": [
      "epoch: 16, [batch: 31 / 45], examples_per_second: 4115.0513, train_label_loss: 0.2471, \n"
     ]
    },
    {
     "name": "stdout",
     "output_type": "stream",
     "text": [
      "epoch: 16, [batch: 36 / 45], examples_per_second: 4147.9024, train_label_loss: 0.1265, \n"
     ]
    },
    {
     "name": "stdout",
     "output_type": "stream",
     "text": [
      "epoch: 16, [batch: 40 / 45], examples_per_second: 4215.8486, train_label_loss: 0.2722, \n"
     ]
    },
    {
     "name": "stdout",
     "output_type": "stream",
     "text": [
      "=============================================================\n",
      "epoch: 16, source_val_acc_label: 0.9705, target_val_acc_label: 0.8929, source_val_label_loss: 0.2156, target_val_label_loss: 0.6170, \n",
      "=============================================================\n"
     ]
    },
    {
     "name": "stdout",
     "output_type": "stream",
     "text": [
      "New best\n"
     ]
    },
    {
     "name": "stdout",
     "output_type": "stream",
     "text": [
      "epoch: 17, [batch: 1 / 45], examples_per_second: 502.0373, train_label_loss: 0.1315, \n"
     ]
    },
    {
     "name": "stdout",
     "output_type": "stream",
     "text": [
      "epoch: 17, [batch: 5 / 45], examples_per_second: 4023.6160, train_label_loss: 0.1378, \n"
     ]
    },
    {
     "name": "stdout",
     "output_type": "stream",
     "text": [
      "epoch: 17, [batch: 9 / 45], examples_per_second: 4113.6527, train_label_loss: 0.2107, \n"
     ]
    },
    {
     "name": "stdout",
     "output_type": "stream",
     "text": [
      "epoch: 17, [batch: 14 / 45], examples_per_second: 4120.3158, train_label_loss: 0.3136, \n"
     ]
    },
    {
     "name": "stdout",
     "output_type": "stream",
     "text": [
      "epoch: 17, [batch: 18 / 45], examples_per_second: 4117.7425, train_label_loss: 0.2543, \n"
     ]
    },
    {
     "name": "stdout",
     "output_type": "stream",
     "text": [
      "epoch: 17, [batch: 23 / 45], examples_per_second: 4039.8847, train_label_loss: 0.1716, \n"
     ]
    },
    {
     "name": "stdout",
     "output_type": "stream",
     "text": [
      "epoch: 17, [batch: 27 / 45], examples_per_second: 4116.7803, train_label_loss: 0.1681, \n"
     ]
    },
    {
     "name": "stdout",
     "output_type": "stream",
     "text": [
      "epoch: 17, [batch: 31 / 45], examples_per_second: 4120.6365, train_label_loss: 0.2033, \n"
     ]
    },
    {
     "name": "stdout",
     "output_type": "stream",
     "text": [
      "epoch: 17, [batch: 36 / 45], examples_per_second: 4148.0589, train_label_loss: 0.2617, \n"
     ]
    },
    {
     "name": "stdout",
     "output_type": "stream",
     "text": [
      "epoch: 17, [batch: 40 / 45], examples_per_second: 4203.1776, train_label_loss: 0.1592, \n"
     ]
    },
    {
     "name": "stdout",
     "output_type": "stream",
     "text": [
      "=============================================================\n",
      "epoch: 17, source_val_acc_label: 0.9692, target_val_acc_label: 0.8917, source_val_label_loss: 0.2238, target_val_label_loss: 0.6410, \n",
      "=============================================================\n"
     ]
    },
    {
     "name": "stdout",
     "output_type": "stream",
     "text": [
      "epoch: 18, [batch: 1 / 45], examples_per_second: 513.5732, train_label_loss: 0.1848, \n"
     ]
    },
    {
     "name": "stdout",
     "output_type": "stream",
     "text": [
      "epoch: 18, [batch: 5 / 45], examples_per_second: 4021.9584, train_label_loss: 0.2713, \n"
     ]
    },
    {
     "name": "stdout",
     "output_type": "stream",
     "text": [
      "epoch: 18, [batch: 9 / 45], examples_per_second: 4118.3567, train_label_loss: 0.0732, \n"
     ]
    },
    {
     "name": "stdout",
     "output_type": "stream",
     "text": [
      "epoch: 18, [batch: 14 / 45], examples_per_second: 4116.6936, train_label_loss: 0.2873, \n"
     ]
    },
    {
     "name": "stdout",
     "output_type": "stream",
     "text": [
      "epoch: 18, [batch: 18 / 45], examples_per_second: 4111.6519, train_label_loss: 0.1551, \n"
     ]
    },
    {
     "name": "stdout",
     "output_type": "stream",
     "text": [
      "epoch: 18, [batch: 23 / 45], examples_per_second: 4041.6359, train_label_loss: 0.1514, \n"
     ]
    },
    {
     "name": "stdout",
     "output_type": "stream",
     "text": [
      "epoch: 18, [batch: 27 / 45], examples_per_second: 4114.7221, train_label_loss: 0.1380, \n"
     ]
    },
    {
     "name": "stdout",
     "output_type": "stream",
     "text": [
      "epoch: 18, [batch: 31 / 45], examples_per_second: 4118.2401, train_label_loss: 0.2465, \n"
     ]
    },
    {
     "name": "stdout",
     "output_type": "stream",
     "text": [
      "epoch: 18, [batch: 36 / 45], examples_per_second: 4146.5536, train_label_loss: 0.0969, \n"
     ]
    },
    {
     "name": "stdout",
     "output_type": "stream",
     "text": [
      "epoch: 18, [batch: 40 / 45], examples_per_second: 4206.4152, train_label_loss: 0.1171, \n"
     ]
    },
    {
     "name": "stdout",
     "output_type": "stream",
     "text": [
      "=============================================================\n",
      "epoch: 18, source_val_acc_label: 0.9744, target_val_acc_label: 0.8955, source_val_label_loss: 0.2069, target_val_label_loss: 0.6189, \n",
      "=============================================================\n"
     ]
    },
    {
     "name": "stdout",
     "output_type": "stream",
     "text": [
      "New best\n"
     ]
    },
    {
     "name": "stdout",
     "output_type": "stream",
     "text": [
      "epoch: 19, [batch: 1 / 45], examples_per_second: 498.4816, train_label_loss: 0.1938, \n"
     ]
    },
    {
     "name": "stdout",
     "output_type": "stream",
     "text": [
      "epoch: 19, [batch: 5 / 45], examples_per_second: 4006.6127, train_label_loss: 0.2250, \n"
     ]
    },
    {
     "name": "stdout",
     "output_type": "stream",
     "text": [
      "epoch: 19, [batch: 9 / 45], examples_per_second: 4116.2457, train_label_loss: 0.1860, \n"
     ]
    },
    {
     "name": "stdout",
     "output_type": "stream",
     "text": [
      "epoch: 19, [batch: 14 / 45], examples_per_second: 4115.8483, train_label_loss: 0.2405, \n"
     ]
    },
    {
     "name": "stdout",
     "output_type": "stream",
     "text": [
      "epoch: 19, [batch: 18 / 45], examples_per_second: 4115.8900, train_label_loss: 0.1959, \n"
     ]
    },
    {
     "name": "stdout",
     "output_type": "stream",
     "text": [
      "epoch: 19, [batch: 23 / 45], examples_per_second: 4041.0356, train_label_loss: 0.1600, \n"
     ]
    },
    {
     "name": "stdout",
     "output_type": "stream",
     "text": [
      "epoch: 19, [batch: 27 / 45], examples_per_second: 4104.4404, train_label_loss: 0.1633, \n"
     ]
    },
    {
     "name": "stdout",
     "output_type": "stream",
     "text": [
      "epoch: 19, [batch: 31 / 45], examples_per_second: 4120.5400, train_label_loss: 0.1412, \n"
     ]
    },
    {
     "name": "stdout",
     "output_type": "stream",
     "text": [
      "epoch: 19, [batch: 36 / 45], examples_per_second: 4156.7361, train_label_loss: 0.2152, \n"
     ]
    },
    {
     "name": "stdout",
     "output_type": "stream",
     "text": [
      "epoch: 19, [batch: 40 / 45], examples_per_second: 4208.4834, train_label_loss: 0.1844, \n"
     ]
    },
    {
     "name": "stdout",
     "output_type": "stream",
     "text": [
      "=============================================================\n",
      "epoch: 19, source_val_acc_label: 0.9744, target_val_acc_label: 0.8923, source_val_label_loss: 0.2179, target_val_label_loss: 0.6153, \n",
      "=============================================================\n"
     ]
    },
    {
     "name": "stdout",
     "output_type": "stream",
     "text": [
      "epoch: 20, [batch: 1 / 45], examples_per_second: 508.8468, train_label_loss: 0.1655, \n"
     ]
    },
    {
     "name": "stdout",
     "output_type": "stream",
     "text": [
      "epoch: 20, [batch: 5 / 45], examples_per_second: 4022.2388, train_label_loss: 0.2167, \n"
     ]
    },
    {
     "name": "stdout",
     "output_type": "stream",
     "text": [
      "epoch: 20, [batch: 9 / 45], examples_per_second: 4123.7779, train_label_loss: 0.2024, \n"
     ]
    },
    {
     "name": "stdout",
     "output_type": "stream",
     "text": [
      "epoch: 20, [batch: 14 / 45], examples_per_second: 4124.7668, train_label_loss: 0.1522, \n"
     ]
    },
    {
     "name": "stdout",
     "output_type": "stream",
     "text": [
      "epoch: 20, [batch: 18 / 45], examples_per_second: 4115.6772, train_label_loss: 0.1303, \n"
     ]
    },
    {
     "name": "stdout",
     "output_type": "stream",
     "text": [
      "epoch: 20, [batch: 23 / 45], examples_per_second: 4040.9697, train_label_loss: 0.0803, \n"
     ]
    },
    {
     "name": "stdout",
     "output_type": "stream",
     "text": [
      "epoch: 20, [batch: 27 / 45], examples_per_second: 4116.2784, train_label_loss: 0.1115, \n"
     ]
    },
    {
     "name": "stdout",
     "output_type": "stream",
     "text": [
      "epoch: 20, [batch: 31 / 45], examples_per_second: 4120.1337, train_label_loss: 0.1605, \n"
     ]
    },
    {
     "name": "stdout",
     "output_type": "stream",
     "text": [
      "epoch: 20, [batch: 36 / 45], examples_per_second: 4152.0995, train_label_loss: 0.1418, \n"
     ]
    },
    {
     "name": "stdout",
     "output_type": "stream",
     "text": [
      "epoch: 20, [batch: 40 / 45], examples_per_second: 4204.7415, train_label_loss: 0.1462, \n"
     ]
    },
    {
     "name": "stdout",
     "output_type": "stream",
     "text": [
      "=============================================================\n",
      "epoch: 20, source_val_acc_label: 0.9712, target_val_acc_label: 0.8932, source_val_label_loss: 0.1973, target_val_label_loss: 0.6071, \n",
      "=============================================================\n"
     ]
    },
    {
     "name": "stdout",
     "output_type": "stream",
     "text": [
      "epoch: 21, [batch: 1 / 45], examples_per_second: 510.4456, train_label_loss: 0.1381, \n"
     ]
    },
    {
     "name": "stdout",
     "output_type": "stream",
     "text": [
      "epoch: 21, [batch: 5 / 45], examples_per_second: 4013.0810, train_label_loss: 0.1572, \n"
     ]
    },
    {
     "name": "stdout",
     "output_type": "stream",
     "text": [
      "epoch: 21, [batch: 9 / 45], examples_per_second: 4113.6294, train_label_loss: 0.0990, \n"
     ]
    },
    {
     "name": "stdout",
     "output_type": "stream",
     "text": [
      "epoch: 21, [batch: 14 / 45], examples_per_second: 4111.0074, train_label_loss: 0.1199, \n"
     ]
    },
    {
     "name": "stdout",
     "output_type": "stream",
     "text": [
      "epoch: 21, [batch: 18 / 45], examples_per_second: 4113.0802, train_label_loss: 0.1472, \n"
     ]
    },
    {
     "name": "stdout",
     "output_type": "stream",
     "text": [
      "epoch: 21, [batch: 23 / 45], examples_per_second: 4038.0094, train_label_loss: 0.1167, \n"
     ]
    },
    {
     "name": "stdout",
     "output_type": "stream",
     "text": [
      "epoch: 21, [batch: 27 / 45], examples_per_second: 4111.5573, train_label_loss: 0.1883, \n"
     ]
    },
    {
     "name": "stdout",
     "output_type": "stream",
     "text": [
      "epoch: 21, [batch: 31 / 45], examples_per_second: 4114.4396, train_label_loss: 0.0529, \n"
     ]
    },
    {
     "name": "stdout",
     "output_type": "stream",
     "text": [
      "epoch: 21, [batch: 36 / 45], examples_per_second: 4148.1371, train_label_loss: 0.1508, \n"
     ]
    },
    {
     "name": "stdout",
     "output_type": "stream",
     "text": [
      "epoch: 21, [batch: 40 / 45], examples_per_second: 4207.5984, train_label_loss: 0.2627, \n"
     ]
    },
    {
     "name": "stdout",
     "output_type": "stream",
     "text": [
      "=============================================================\n",
      "epoch: 21, source_val_acc_label: 0.9724, target_val_acc_label: 0.8915, source_val_label_loss: 0.2044, target_val_label_loss: 0.6304, \n",
      "=============================================================\n"
     ]
    },
    {
     "name": "stdout",
     "output_type": "stream",
     "text": [
      "epoch: 22, [batch: 1 / 45], examples_per_second: 509.5638, train_label_loss: 0.2374, \n"
     ]
    },
    {
     "name": "stdout",
     "output_type": "stream",
     "text": [
      "epoch: 22, [batch: 5 / 45], examples_per_second: 4011.5619, train_label_loss: 0.2724, \n"
     ]
    },
    {
     "name": "stdout",
     "output_type": "stream",
     "text": [
      "epoch: 22, [batch: 9 / 45], examples_per_second: 4100.6129, train_label_loss: 0.2365, \n"
     ]
    },
    {
     "name": "stdout",
     "output_type": "stream",
     "text": [
      "epoch: 22, [batch: 14 / 45], examples_per_second: 4107.8632, train_label_loss: 0.1683, \n"
     ]
    },
    {
     "name": "stdout",
     "output_type": "stream",
     "text": [
      "epoch: 22, [batch: 18 / 45], examples_per_second: 4101.0817, train_label_loss: 0.2667, \n"
     ]
    },
    {
     "name": "stdout",
     "output_type": "stream",
     "text": [
      "epoch: 22, [batch: 23 / 45], examples_per_second: 4039.9458, train_label_loss: 0.2366, \n"
     ]
    },
    {
     "name": "stdout",
     "output_type": "stream",
     "text": [
      "epoch: 22, [batch: 27 / 45], examples_per_second: 4103.8782, train_label_loss: 0.1538, \n"
     ]
    },
    {
     "name": "stdout",
     "output_type": "stream",
     "text": [
      "epoch: 22, [batch: 31 / 45], examples_per_second: 4103.8211, train_label_loss: 0.1213, \n"
     ]
    },
    {
     "name": "stdout",
     "output_type": "stream",
     "text": [
      "epoch: 22, [batch: 36 / 45], examples_per_second: 4147.1616, train_label_loss: 0.2362, \n"
     ]
    },
    {
     "name": "stdout",
     "output_type": "stream",
     "text": [
      "epoch: 22, [batch: 40 / 45], examples_per_second: 4210.6364, train_label_loss: 0.0978, \n"
     ]
    },
    {
     "name": "stdout",
     "output_type": "stream",
     "text": [
      "=============================================================\n",
      "epoch: 22, source_val_acc_label: 0.9737, target_val_acc_label: 0.8947, source_val_label_loss: 0.2048, target_val_label_loss: 0.6190, \n",
      "=============================================================\n"
     ]
    },
    {
     "name": "stdout",
     "output_type": "stream",
     "text": [
      "Patience (3) exhausted\n"
     ]
    }
   ],
   "source": [
    "###################################\n",
    "# train\n",
    "###################################\n",
    "jig = PTN_Train_Eval_Test_Jig(model, p.BEST_MODEL_PATH, p.device)\n",
    "\n",
    "jig.train(\n",
    "    train_iterable=datasets.source.processed.train,\n",
    "    source_val_iterable=datasets.source.processed.val,\n",
    "    target_val_iterable=datasets.target.processed.val,\n",
    "    num_epochs=p.n_epoch,\n",
    "    num_logs_per_epoch=p.NUM_LOGS_PER_EPOCH,\n",
    "    patience=p.patience,\n",
    "    optimizer=optimizer,\n",
    "    criteria_for_best=p.criteria_for_best,\n",
    ")"
   ]
  },
  {
   "cell_type": "code",
   "execution_count": 14,
   "id": "31e8fabf",
   "metadata": {
    "execution": {
     "iopub.execute_input": "2022-03-22T16:37:53.094841Z",
     "iopub.status.busy": "2022-03-22T16:37:53.094572Z",
     "iopub.status.idle": "2022-03-22T16:37:53.114103Z",
     "shell.execute_reply": "2022-03-22T16:37:53.114511Z"
    },
    "papermill": {
     "duration": 0.076225,
     "end_time": "2022-03-22T16:37:53.114641",
     "exception": false,
     "start_time": "2022-03-22T16:37:53.038416",
     "status": "completed"
    },
    "tags": []
   },
   "outputs": [],
   "source": [
    "total_experiment_time_secs = time.time() - start_time_secs"
   ]
  },
  {
   "cell_type": "code",
   "execution_count": 15,
   "id": "87b9595b",
   "metadata": {
    "execution": {
     "iopub.execute_input": "2022-03-22T16:37:53.231684Z",
     "iopub.status.busy": "2022-03-22T16:37:53.231402Z",
     "iopub.status.idle": "2022-03-22T16:38:00.451823Z",
     "shell.execute_reply": "2022-03-22T16:38:00.452054Z"
    },
    "papermill": {
     "duration": 7.27822,
     "end_time": "2022-03-22T16:38:00.452139",
     "exception": false,
     "start_time": "2022-03-22T16:37:53.173919",
     "status": "completed"
    },
    "tags": []
   },
   "outputs": [],
   "source": [
    "###################################\n",
    "# Evaluate the model\n",
    "###################################\n",
    "source_test_label_accuracy, source_test_label_loss = jig.test(datasets.source.processed.test)\n",
    "target_test_label_accuracy, target_test_label_loss = jig.test(datasets.target.processed.test)\n",
    "\n",
    "source_val_label_accuracy, source_val_label_loss = jig.test(datasets.source.processed.val)\n",
    "target_val_label_accuracy, target_val_label_loss = jig.test(datasets.target.processed.val)\n",
    "\n",
    "history = jig.get_history()\n",
    "\n",
    "total_epochs_trained = len(history[\"epoch_indices\"])\n",
    "\n",
    "val_dl = Iterable_Aggregator((datasets.source.original.val,datasets.target.original.val))\n",
    "\n",
    "confusion = ptn_confusion_by_domain_over_dataloader(model, p.device, val_dl)\n",
    "per_domain_accuracy = per_domain_accuracy_from_confusion(confusion)\n",
    "\n",
    "# Add a key to per_domain_accuracy for if it was a source domain\n",
    "for domain, accuracy in per_domain_accuracy.items():\n",
    "    per_domain_accuracy[domain] = {\n",
    "        \"accuracy\": accuracy,\n",
    "        \"source?\": domain in p.domains_source\n",
    "    }\n",
    "\n",
    "# Do an independent accuracy assesment JUST TO BE SURE!\n",
    "# _source_test_label_accuracy = independent_accuracy_assesment(model, datasets.source.processed.test, p.device)\n",
    "# _target_test_label_accuracy = independent_accuracy_assesment(model, datasets.target.processed.test, p.device)\n",
    "# _source_val_label_accuracy = independent_accuracy_assesment(model, datasets.source.processed.val, p.device)\n",
    "# _target_val_label_accuracy = independent_accuracy_assesment(model, datasets.target.processed.val, p.device)\n",
    "\n",
    "# assert(_source_test_label_accuracy == source_test_label_accuracy)\n",
    "# assert(_target_test_label_accuracy == target_test_label_accuracy)\n",
    "# assert(_source_val_label_accuracy == source_val_label_accuracy)\n",
    "# assert(_target_val_label_accuracy == target_val_label_accuracy)\n",
    "\n",
    "experiment = {\n",
    "    \"experiment_name\": p.experiment_name,\n",
    "    \"parameters\": dict(p),\n",
    "    \"results\": {\n",
    "        \"source_test_label_accuracy\": source_test_label_accuracy,\n",
    "        \"source_test_label_loss\": source_test_label_loss,\n",
    "        \"target_test_label_accuracy\": target_test_label_accuracy,\n",
    "        \"target_test_label_loss\": target_test_label_loss,\n",
    "        \"source_val_label_accuracy\": source_val_label_accuracy,\n",
    "        \"source_val_label_loss\": source_val_label_loss,\n",
    "        \"target_val_label_accuracy\": target_val_label_accuracy,\n",
    "        \"target_val_label_loss\": target_val_label_loss,\n",
    "        \"total_epochs_trained\": total_epochs_trained,\n",
    "        \"total_experiment_time_secs\": total_experiment_time_secs,\n",
    "        \"confusion\": confusion,\n",
    "        \"per_domain_accuracy\": per_domain_accuracy,\n",
    "    },\n",
    "    \"history\": history,\n",
    "    \"dataset_metrics\": get_dataset_metrics(datasets, \"ptn\"),\n",
    "}"
   ]
  },
  {
   "cell_type": "code",
   "execution_count": 16,
   "id": "54a21829",
   "metadata": {
    "execution": {
     "iopub.execute_input": "2022-03-22T16:38:00.565181Z",
     "iopub.status.busy": "2022-03-22T16:38:00.564794Z",
     "iopub.status.idle": "2022-03-22T16:38:00.679564Z",
     "shell.execute_reply": "2022-03-22T16:38:00.679778Z"
    },
    "papermill": {
     "duration": 0.170902,
     "end_time": "2022-03-22T16:38:00.679864",
     "exception": false,
     "start_time": "2022-03-22T16:38:00.508962",
     "status": "completed"
    },
    "tags": []
   },
   "outputs": [
    {
     "data": {
      "image/png": "[encoded data removed]",
      "text/plain": [
       "<Figure size 1080x504 with 1 Axes>"
      ]
     },
     "metadata": {
      "needs_background": "light"
     },
     "output_type": "display_data"
    }
   ],
   "source": [
    "ax = get_loss_curve(experiment)\n",
    "plt.show()"
   ]
  },
  {
   "cell_type": "code",
   "execution_count": 17,
   "id": "fd8a0f60",
   "metadata": {
    "execution": {
     "iopub.execute_input": "2022-03-22T16:38:00.793293Z",
     "iopub.status.busy": "2022-03-22T16:38:00.792901Z",
     "iopub.status.idle": "2022-03-22T16:38:00.933393Z",
     "shell.execute_reply": "2022-03-22T16:38:00.933624Z"
    },
    "papermill": {
     "duration": 0.197663,
     "end_time": "2022-03-22T16:38:00.933709",
     "exception": false,
     "start_time": "2022-03-22T16:38:00.736046",
     "status": "completed"
    },
    "tags": []
   },
   "outputs": [
    {
     "data": {
      "text/plain": [
       "<AxesSubplot:title={'center':'Results'}>"
      ]
     },
     "execution_count": 17,
     "metadata": {},
     "output_type": "execute_result"
    },
    {
     "data": {
      "image/png": "[encoded data removed]",
      "text/plain": [
       "<Figure size 1080x504 with 1 Axes>"
      ]
     },
     "metadata": {
      "needs_background": "light"
     },
     "output_type": "display_data"
    }
   ],
   "source": [
    "get_results_table(experiment)"
   ]
  },
  {
   "cell_type": "code",
   "execution_count": 18,
   "id": "cf8dc689",
   "metadata": {
    "execution": {
     "iopub.execute_input": "2022-03-22T16:38:01.052725Z",
     "iopub.status.busy": "2022-03-22T16:38:01.052324Z",
     "iopub.status.idle": "2022-03-22T16:38:01.152543Z",
     "shell.execute_reply": "2022-03-22T16:38:01.152758Z"
    },
    "papermill": {
     "duration": 0.159245,
     "end_time": "2022-03-22T16:38:01.152839",
     "exception": false,
     "start_time": "2022-03-22T16:38:00.993594",
     "status": "completed"
    },
    "tags": []
   },
   "outputs": [
    {
     "data": {
      "text/plain": [
       "<AxesSubplot:title={'center':'Per Domain Validation Accuracy'}, xlabel='domain'>"
      ]
     },
     "execution_count": 18,
     "metadata": {},
     "output_type": "execute_result"
    },
    {
     "data": {
      "image/png": "[encoded data removed]",
      "text/plain": [
       "<Figure size 1080x504 with 1 Axes>"
      ]
     },
     "metadata": {
      "needs_background": "light"
     },
     "output_type": "display_data"
    }
   ],
   "source": [
    "get_domain_accuracies(experiment)"
   ]
  },
  {
   "cell_type": "code",
   "execution_count": 19,
   "id": "a74ae082",
   "metadata": {
    "execution": {
     "iopub.execute_input": "2022-03-22T16:38:01.270521Z",
     "iopub.status.busy": "2022-03-22T16:38:01.270114Z",
     "iopub.status.idle": "2022-03-22T16:38:01.283034Z",
     "shell.execute_reply": "2022-03-22T16:38:01.283425Z"
    },
    "papermill": {
     "duration": 0.07219,
     "end_time": "2022-03-22T16:38:01.283556",
     "exception": false,
     "start_time": "2022-03-22T16:38:01.211366",
     "status": "completed"
    },
    "tags": []
   },
   "outputs": [
    {
     "name": "stdout",
     "output_type": "stream",
     "text": [
      "Source Test Label Accuracy: 0.9628205128205128 Target Test Label Accuracy: 0.9051282051282051\n",
      "Source Val Label Accuracy: 0.9743589743589743 Target Val Label Accuracy: 0.8955128205128206\n"
     ]
    }
   ],
   "source": [
    "print(\"Source Test Label Accuracy:\", experiment[\"results\"][\"source_test_label_accuracy\"], \"Target Test Label Accuracy:\", experiment[\"results\"][\"target_test_label_accuracy\"])\n",
    "print(\"Source Val Label Accuracy:\", experiment[\"results\"][\"source_val_label_accuracy\"], \"Target Val Label Accuracy:\", experiment[\"results\"][\"target_val_label_accuracy\"])"
   ]
  },
  {
   "cell_type": "code",
   "execution_count": 20,
   "id": "dacca602",
   "metadata": {
    "execution": {
     "iopub.execute_input": "2022-03-22T16:38:01.408083Z",
     "iopub.status.busy": "2022-03-22T16:38:01.407829Z",
     "iopub.status.idle": "2022-03-22T16:38:01.423749Z",
     "shell.execute_reply": "2022-03-22T16:38:01.423498Z"
    },
    "papermill": {
     "duration": 0.075253,
     "end_time": "2022-03-22T16:38:01.423801",
     "exception": false,
     "start_time": "2022-03-22T16:38:01.348548",
     "status": "completed"
    },
    "tags": [
     "experiment_json"
    ]
   },
   "outputs": [
    {
     "data": {
      "text/plain": [
       "'{\"experiment_name\": \"tuned_1v2:wisig\", \"parameters\": {\"experiment_name\": \"tuned_1v2:wisig\", \"device\": \"cuda\", \"lr\": 0.0001, \"labels_source\": [\"1-10\", \"1-12\", \"1-14\", \"1-16\", \"1-18\", \"1-19\", \"1-8\", \"10-11\", \"10-17\", \"10-4\", \"10-7\", \"11-1\", \"11-10\", \"11-19\", \"11-20\", \"11-4\", \"11-7\", \"12-19\", \"12-20\", \"12-7\", \"13-14\", \"13-18\", \"13-19\", \"13-20\", \"13-3\", \"13-7\", \"14-10\", \"14-11\", \"14-12\", \"14-13\", \"14-14\", \"14-19\", \"14-20\", \"14-7\", \"14-8\", \"14-9\", \"15-1\", \"15-19\", \"15-6\", \"16-1\", \"16-16\", \"16-19\", \"16-20\", \"17-10\", \"17-11\", \"18-1\", \"18-10\", \"18-11\", \"18-12\", \"18-13\", \"18-14\", \"18-15\", \"18-16\", \"18-17\", \"18-19\", \"18-2\", \"18-20\", \"18-4\", \"18-5\", \"18-7\", \"18-8\", \"18-9\", \"19-1\", \"19-10\", \"19-11\", \"19-12\", \"19-13\", \"19-14\", \"19-15\", \"19-19\", \"19-2\", \"19-20\", \"19-3\", \"19-4\", \"19-6\", \"19-7\", \"19-8\", \"19-9\", \"2-1\", \"2-13\", \"2-15\", \"2-3\", \"2-4\", \"2-5\", \"2-6\", \"2-7\", \"2-8\", \"20-1\", \"20-12\", \"20-14\", \"20-15\", \"20-16\", \"20-18\", \"20-19\", \"20-20\", \"20-3\", \"20-4\", \"20-5\", \"20-7\", \"20-8\", \"3-1\", \"3-13\", \"3-18\", \"3-2\", \"3-8\", \"4-1\", \"4-10\", \"4-11\", \"5-1\", \"5-5\", \"6-1\", \"6-15\", \"6-6\", \"7-10\", \"7-11\", \"7-12\", \"7-13\", \"7-14\", \"7-7\", \"7-8\", \"7-9\", \"8-1\", \"8-13\", \"8-14\", \"8-18\", \"8-20\", \"8-3\", \"8-8\", \"9-1\", \"9-7\"], \"labels_target\": [\"1-10\", \"1-12\", \"1-14\", \"1-16\", \"1-18\", \"1-19\", \"1-8\", \"10-11\", \"10-17\", \"10-4\", \"10-7\", \"11-1\", \"11-10\", \"11-19\", \"11-20\", \"11-4\", \"11-7\", \"12-19\", \"12-20\", \"12-7\", \"13-14\", \"13-18\", \"13-19\", \"13-20\", \"13-3\", \"13-7\", \"14-10\", \"14-11\", \"14-12\", \"14-13\", \"14-14\", \"14-19\", \"14-20\", \"14-7\", \"14-8\", \"14-9\", \"15-1\", \"15-19\", \"15-6\", \"16-1\", \"16-16\", \"16-19\", \"16-20\", \"17-10\", \"17-11\", \"18-1\", \"18-10\", \"18-11\", \"18-12\", \"18-13\", \"18-14\", \"18-15\", \"18-16\", \"18-17\", \"18-19\", \"18-2\", \"18-20\", \"18-4\", \"18-5\", \"18-7\", \"18-8\", \"18-9\", \"19-1\", \"19-10\", \"19-11\", \"19-12\", \"19-13\", \"19-14\", \"19-15\", \"19-19\", \"19-2\", \"19-20\", \"19-3\", \"19-4\", \"19-6\", \"19-7\", \"19-8\", \"19-9\", \"2-1\", \"2-13\", \"2-15\", \"2-3\", \"2-4\", \"2-5\", \"2-6\", \"2-7\", \"2-8\", \"20-1\", \"20-12\", \"20-14\", \"20-15\", \"20-16\", \"20-18\", \"20-19\", \"20-20\", \"20-3\", \"20-4\", \"20-5\", \"20-7\", \"20-8\", \"3-1\", \"3-13\", \"3-18\", \"3-2\", \"3-8\", \"4-1\", \"4-10\", \"4-11\", \"5-1\", \"5-5\", \"6-1\", \"6-15\", \"6-6\", \"7-10\", \"7-11\", \"7-12\", \"7-13\", \"7-14\", \"7-7\", \"7-8\", \"7-9\", \"8-1\", \"8-13\", \"8-14\", \"8-18\", \"8-20\", \"8-3\", \"8-8\", \"9-1\", \"9-7\"], \"episode_transforms_source\": [], \"episode_transforms_target\": [], \"domains_source\": [3], \"domains_target\": [1, 2, 4], \"num_examples_per_domain_per_label_source\": -1, \"num_examples_per_domain_per_label_target\": -1, \"n_shot\": 3, \"n_way\": 130, \"n_query\": 2, \"train_k_factor\": 3, \"val_k_factor\": 2, \"test_k_factor\": 2, \"torch_default_dtype\": \"torch.float32\", \"n_epoch\": 50, \"patience\": 3, \"criteria_for_best\": \"target_accuracy\", \"x_net\": [{\"class\": \"nnReshape\", \"kargs\": {\"shape\": [-1, 1, 2, 256]}}, {\"class\": \"Conv2d\", \"kargs\": {\"in_channels\": 1, \"out_channels\": 256, \"kernel_size\": [1, 7], \"bias\": false, \"padding\": [0, 3]}}, {\"class\": \"ReLU\", \"kargs\": {\"inplace\": true}}, {\"class\": \"BatchNorm2d\", \"kargs\": {\"num_features\": 256}}, {\"class\": \"Conv2d\", \"kargs\": {\"in_channels\": 256, \"out_channels\": 80, \"kernel_size\": [2, 7], \"bias\": true, \"padding\": [0, 3]}}, {\"class\": \"ReLU\", \"kargs\": {\"inplace\": true}}, {\"class\": \"BatchNorm2d\", \"kargs\": {\"num_features\": 80}}, {\"class\": \"Flatten\", \"kargs\": {}}, {\"class\": \"Linear\", \"kargs\": {\"in_features\": 20480, \"out_features\": 256}}, {\"class\": \"ReLU\", \"kargs\": {\"inplace\": true}}, {\"class\": \"BatchNorm1d\", \"kargs\": {\"num_features\": 256}}, {\"class\": \"Linear\", \"kargs\": {\"in_features\": 256, \"out_features\": 256}}], \"NUM_LOGS_PER_EPOCH\": 10, \"BEST_MODEL_PATH\": \"./best_model.pth\", \"pickle_name\": \"wisig.node3-19.stratified_ds.2022A.pkl\", \"x_transforms_source\": [], \"x_transforms_target\": [], \"dataset_seed\": 1337, \"seed\": 1337}, \"results\": {\"source_test_label_accuracy\": 0.9628205128205128, \"source_test_label_loss\": 0.23951345682144165, \"target_test_label_accuracy\": 0.9051282051282051, \"target_test_label_loss\": 0.5564470887184143, \"source_val_label_accuracy\": 0.9743589743589743, \"source_val_label_loss\": 0.20694229006767273, \"target_val_label_accuracy\": 0.8955128205128206, \"target_val_label_loss\": 0.6189402937889099, \"total_epochs_trained\": 22, \"total_experiment_time_secs\": 196.40700507164001, \"confusion\": {\"3\": {\"29\": {\"29\": 12}, \"123\": {\"123\": 12}, \"116\": {\"116\": 12}, \"25\": {\"25\": 12}, \"60\": {\"60\": 12}, \"88\": {\"88\": 12}, \"0\": {\"0\": 12}, \"77\": {\"77\": 12}, \"96\": {\"96\": 12}, \"3\": {\"3\": 12}, \"5\": {\"5\": 12}, \"89\": {\"89\": 12}, \"117\": {\"117\": 12}, \"78\": {\"78\": 11, \"13\": 1}, \"57\": {\"57\": 12}, \"90\": {\"90\": 11, \"61\": 1}, \"43\": {\"87\": 2, \"43\": 9, \"11\": 1}, \"50\": {\"50\": 12}, \"49\": {\"49\": 11, \"59\": 1}, \"61\": {\"61\": 12}, \"4\": {\"4\": 12}, \"67\": {\"67\": 12}, \"59\": {\"59\": 12}, \"118\": {\"118\": 12}, \"80\": {\"80\": 12}, \"75\": {\"75\": 12}, \"99\": {\"99\": 12}, \"111\": {\"111\": 12}, \"11\": {\"11\": 12}, \"76\": {\"76\": 12}, \"102\": {\"102\": 12}, \"44\": {\"44\": 12}, \"30\": {\"30\": 12}, \"6\": {\"6\": 12}, \"16\": {\"16\": 11, \"24\": 1}, \"79\": {\"79\": 12}, \"39\": {\"39\": 12}, \"101\": {\"101\": 11, \"21\": 1}, \"9\": {\"9\": 11, \"25\": 1}, \"109\": {\"109\": 12}, \"91\": {\"91\": 10, \"88\": 1, \"112\": 1}, \"129\": {\"129\": 12}, \"33\": {\"33\": 12}, \"113\": {\"113\": 12}, \"7\": {\"7\": 12}, \"82\": {\"82\": 12}, \"52\": {\"52\": 12}, \"93\": {\"93\": 11, \"96\": 1}, \"24\": {\"24\": 12}, \"26\": {\"26\": 12}, \"28\": {\"28\": 12}, \"85\": {\"85\": 12}, \"110\": {\"110\": 12}, \"119\": {\"119\": 12}, \"108\": {\"108\": 12}, \"53\": {\"53\": 12}, \"105\": {\"105\": 12}, \"103\": {\"103\": 12}, \"69\": {\"69\": 12}, \"23\": {\"23\": 12}, \"2\": {\"2\": 12}, \"66\": {\"66\": 12}, \"71\": {\"71\": 12}, \"122\": {\"122\": 10, \"87\": 2}, \"87\": {\"87\": 11, \"21\": 1}, \"8\": {\"8\": 12}, \"127\": {\"127\": 12}, \"40\": {\"84\": 1, \"40\": 11}, \"126\": {\"126\": 11, \"39\": 1}, \"12\": {\"12\": 12}, \"83\": {\"83\": 12}, \"81\": {\"81\": 12}, \"19\": {\"19\": 12}, \"125\": {\"125\": 12}, \"128\": {\"128\": 12}, \"22\": {\"22\": 12}, \"21\": {\"21\": 12}, \"42\": {\"42\": 12}, \"38\": {\"38\": 12}, \"72\": {\"72\": 12}, \"86\": {\"86\": 12}, \"1\": {\"1\": 12}, \"58\": {\"58\": 12}, \"46\": {\"46\": 12}, \"48\": {\"48\": 11, \"21\": 1}, \"34\": {\"34\": 12}, \"55\": {\"55\": 12}, \"94\": {\"94\": 12}, \"114\": {\"114\": 12}, \"97\": {\"97\": 10, \"106\": 2}, \"107\": {\"107\": 12}, \"68\": {\"68\": 12}, \"64\": {\"64\": 12}, \"13\": {\"13\": 10, \"75\": 1, \"21\": 1}, \"115\": {\"115\": 12}, \"62\": {\"62\": 12}, \"51\": {\"51\": 11, \"58\": 1}, \"98\": {\"98\": 10, \"121\": 1, \"11\": 1}, \"45\": {\"45\": 12}, \"74\": {\"74\": 11, \"52\": 1}, \"112\": {\"112\": 10, \"125\": 1, \"70\": 1}, \"41\": {\"41\": 12}, \"32\": {\"32\": 12}, \"104\": {\"104\": 12}, \"65\": {\"65\": 9, \"88\": 1, \"66\": 2}, \"54\": {\"54\": 11, \"61\": 1}, \"20\": {\"20\": 12}, \"124\": {\"124\": 12}, \"121\": {\"121\": 12}, \"106\": {\"106\": 12}, \"18\": {\"18\": 12}, \"17\": {\"17\": 12}, \"73\": {\"73\": 12}, \"70\": {\"70\": 11, \"122\": 1}, \"92\": {\"92\": 12}, \"15\": {\"15\": 12}, \"14\": {\"14\": 12}, \"84\": {\"84\": 12}, \"37\": {\"21\": 2, \"37\": 10}, \"120\": {\"120\": 10, \"121\": 2}, \"27\": {\"27\": 10, \"24\": 2}, \"35\": {\"35\": 11, \"25\": 1}, \"95\": {\"95\": 12}, \"31\": {\"31\": 12}, \"63\": {\"63\": 12}, \"47\": {\"47\": 12}, \"100\": {\"100\": 12}, \"56\": {\"56\": 12}, \"36\": {\"36\": 12}, \"10\": {\"10\": 12}}, \"2\": {\"117\": {\"117\": 12}, \"78\": {\"78\": 9, \"109\": 1, \"70\": 2}, \"88\": {\"88\": 12}, \"5\": {\"5\": 12}, \"89\": {\"89\": 10, \"69\": 1, \"26\": 1}, \"25\": {\"25\": 12}, \"61\": {\"60\": 1, \"61\": 10, \"24\": 1}, \"0\": {\"0\": 11, \"21\": 1}, \"103\": {\"103\": 11, \"21\": 1}, \"28\": {\"28\": 11, \"124\": 1}, \"3\": {\"3\": 12}, \"43\": {\"43\": 11, \"88\": 1}, \"30\": {\"30\": 11, \"0\": 1}, \"59\": {\"59\": 10, \"24\": 1, \"111\": 1}, \"79\": {\"79\": 11, \"58\": 1}, \"83\": {\"83\": 12}, \"115\": {\"115\": 12}, \"62\": {\"62\": 11, \"21\": 1}, \"26\": {\"26\": 9, \"113\": 3}, \"50\": {\"70\": 1, \"50\": 11}, \"40\": {\"40\": 11, \"24\": 1}, \"4\": {\"4\": 12}, \"68\": {\"68\": 11, \"21\": 1}, \"49\": {\"49\": 9, \"98\": 3}, \"51\": {\"51\": 2, \"75\": 7, \"58\": 2, \"97\": 1}, \"44\": {\"44\": 12}, \"76\": {\"76\": 12}, \"127\": {\"127\": 12}, \"97\": {\"101\": 1, \"0\": 1, \"97\": 10}, \"119\": {\"119\": 12}, \"77\": {\"77\": 10, \"21\": 2}, \"33\": {\"33\": 12}, \"99\": {\"99\": 11, \"20\": 1}, \"124\": {\"124\": 12}, \"6\": {\"6\": 12}, \"112\": {\"114\": 2, \"42\": 2, \"19\": 1, \"29\": 2, \"112\": 3, \"46\": 1, \"97\": 1}, \"53\": {\"53\": 12}, \"110\": {\"110\": 9, \"122\": 3}, \"11\": {\"11\": 12}, \"9\": {\"9\": 12}, \"20\": {\"99\": 3, \"20\": 9}, \"114\": {\"114\": 12}, \"10\": {\"10\": 9, \"24\": 1, \"36\": 1, \"105\": 1}, \"86\": {\"86\": 12}, \"118\": {\"118\": 9, \"21\": 1, \"70\": 1, \"88\": 1}, \"7\": {\"7\": 12}, \"92\": {\"92\": 11, \"21\": 1}, \"18\": {\"18\": 10, \"26\": 1, \"21\": 1}, \"94\": {\"94\": 11, \"24\": 1}, \"60\": {\"60\": 11, \"96\": 1}, \"81\": {\"81\": 11, \"39\": 1}, \"29\": {\"29\": 12}, \"109\": {\"39\": 4, \"21\": 1, \"109\": 6, \"121\": 1}, \"80\": {\"80\": 11, \"67\": 1}, \"120\": {\"120\": 12}, \"122\": {\"122\": 9, \"0\": 2, \"121\": 1}, \"106\": {\"106\": 12}, \"55\": {\"55\": 12}, \"104\": {\"104\": 12}, \"70\": {\"70\": 10, \"109\": 1, \"24\": 1}, \"24\": {\"24\": 12}, \"2\": {\"2\": 12}, \"67\": {\"21\": 1, \"67\": 8, \"66\": 1, \"80\": 2}, \"72\": {\"72\": 12}, \"91\": {\"91\": 7, \"77\": 5}, \"116\": {\"116\": 12}, \"8\": {\"8\": 11, \"0\": 1}, \"128\": {\"128\": 11, \"114\": 1}, \"41\": {\"41\": 10, \"116\": 1, \"29\": 1}, \"113\": {\"113\": 12}, \"12\": {\"12\": 9, \"110\": 1, \"24\": 1, \"21\": 1}, \"90\": {\"90\": 12}, \"82\": {\"82\": 12}, \"111\": {\"111\": 11, \"59\": 1}, \"85\": {\"85\": 11, \"53\": 1}, \"37\": {\"37\": 12}, \"23\": {\"122\": 3, \"23\": 8, \"93\": 1}, \"22\": {\"22\": 12}, \"102\": {\"102\": 12}, \"39\": {\"39\": 10, \"109\": 2}, \"101\": {\"101\": 12}, \"87\": {\"87\": 10, \"21\": 2}, \"1\": {\"1\": 12}, \"58\": {\"21\": 1, \"58\": 10, \"51\": 1}, \"47\": {\"47\": 8, \"121\": 1, \"79\": 1, \"1\": 1, \"29\": 1}, \"126\": {\"126\": 12}, \"34\": {\"34\": 9, \"49\": 1, \"91\": 1, \"56\": 1}, \"56\": {\"56\": 12}, \"95\": {\"95\": 10, \"21\": 1, \"40\": 1}, \"65\": {\"65\": 10, \"21\": 2}, \"98\": {\"98\": 12}, \"123\": {\"123\": 12}, \"69\": {\"69\": 12}, \"108\": {\"108\": 12}, \"13\": {\"13\": 9, \"24\": 2, \"120\": 1}, \"15\": {\"15\": 11, \"21\": 1}, \"125\": {\"125\": 12}, \"52\": {\"52\": 10, \"49\": 1, \"47\": 1}, \"46\": {\"46\": 12}, \"45\": {\"21\": 1, \"45\": 10, \"47\": 1}, \"75\": {\"51\": 2, \"75\": 9, \"21\": 1}, \"73\": {\"73\": 11, \"19\": 1}, \"42\": {\"42\": 12}, \"32\": {\"32\": 10, \"19\": 2}, \"105\": {\"105\": 12}, \"66\": {\"66\": 11, \"88\": 1}, \"54\": {\"54\": 12}, \"21\": {\"21\": 11, \"24\": 1}, \"64\": {\"64\": 10, \"66\": 1, \"88\": 1}, \"35\": {\"35\": 11, \"62\": 1}, \"107\": {\"107\": 11, \"21\": 1}, \"19\": {\"19\": 12}, \"17\": {\"17\": 9, \"24\": 1, \"4\": 1, \"21\": 1}, \"74\": {\"74\": 10, \"121\": 1, \"24\": 1}, \"71\": {\"71\": 12}, \"93\": {\"93\": 12}, \"16\": {\"16\": 10, \"60\": 1, \"24\": 1}, \"14\": {\"14\": 9, \"21\": 3}, \"84\": {\"84\": 11, \"78\": 1}, \"38\": {\"38\": 12}, \"121\": {\"121\": 12}, \"27\": {\"27\": 9, \"24\": 1, \"36\": 1, \"22\": 1}, \"129\": {\"82\": 1, \"129\": 6, \"73\": 2, \"124\": 2, \"19\": 1}, \"96\": {\"96\": 11, \"93\": 1}, \"31\": {\"31\": 11, \"23\": 1}, \"63\": {\"63\": 12}, \"48\": {\"48\": 12}, \"100\": {\"100\": 12}, \"57\": {\"57\": 10, \"21\": 1, \"24\": 1}, \"36\": {\"36\": 10, \"27\": 2}}, \"4\": {\"73\": {\"73\": 9, \"46\": 3}, \"29\": {\"29\": 12}, \"60\": {\"60\": 11, \"103\": 1}, \"50\": {\"50\": 10, \"4\": 2}, \"96\": {\"96\": 12}, \"64\": {\"64\": 12}, \"99\": {\"99\": 11, \"96\": 1}, \"0\": {\"0\": 11, \"88\": 1}, \"20\": {\"20\": 11, \"119\": 1}, \"51\": {\"34\": 1, \"62\": 1, \"75\": 2, \"23\": 2, \"28\": 1, \"88\": 1, \"51\": 3, \"35\": 1}, \"123\": {\"123\": 12}, \"83\": {\"83\": 12}, \"57\": {\"97\": 1, \"57\": 10, \"10\": 1}, \"33\": {\"33\": 12}, \"17\": {\"17\": 12}, \"62\": {\"118\": 2, \"62\": 8, \"23\": 2}, \"4\": {\"4\": 11, \"88\": 1}, \"18\": {\"18\": 11, \"88\": 1}, \"10\": {\"10\": 9, \"97\": 2, \"24\": 1}, \"102\": {\"102\": 12}, \"110\": {\"110\": 12}, \"68\": {\"68\": 12}, \"70\": {\"70\": 10, \"108\": 1, \"27\": 1}, \"86\": {\"86\": 12}, \"107\": {\"107\": 12}, \"21\": {\"21\": 12}, \"119\": {\"23\": 1, \"119\": 10, \"39\": 1}, \"85\": {\"85\": 11, \"51\": 1}, \"66\": {\"66\": 11, \"38\": 1}, \"124\": {\"124\": 12}, \"116\": {\"116\": 12}, \"71\": {\"71\": 12}, \"129\": {\"129\": 12}, \"105\": {\"105\": 12}, \"93\": {\"93\": 11, \"11\": 1}, \"48\": {\"48\": 12}, \"30\": {\"30\": 11, \"23\": 1}, \"36\": {\"62\": 1, \"36\": 10, \"97\": 1}, \"103\": {\"124\": 2, \"103\": 7, \"1\": 1, \"34\": 2}, \"67\": {\"123\": 1, \"54\": 1, \"67\": 5, \"80\": 2, \"102\": 2, \"121\": 1}, \"42\": {\"42\": 9, \"88\": 2, \"103\": 1}, \"100\": {\"100\": 11, \"20\": 1}, \"28\": {\"28\": 12}, \"23\": {\"51\": 1, \"62\": 1, \"11\": 1, \"30\": 2, \"0\": 2, \"101\": 1, \"21\": 1, \"78\": 1, \"110\": 1, \"23\": 1}, \"49\": {\"49\": 11, \"106\": 1}, \"38\": {\"38\": 11, \"74\": 1}, \"128\": {\"128\": 7, \"77\": 3, \"127\": 1, \"41\": 1}, \"118\": {\"118\": 12}, \"101\": {\"101\": 12}, \"79\": {\"79\": 12}, \"52\": {\"52\": 5, \"88\": 1, \"41\": 3, \"34\": 1, \"91\": 2}, \"6\": {\"6\": 11, \"59\": 1}, \"95\": {\"95\": 12}, \"54\": {\"54\": 12}, \"26\": {\"26\": 12}, \"69\": {\"69\": 11, \"88\": 1}, \"114\": {\"114\": 12}, \"97\": {\"24\": 7, \"28\": 1, \"97\": 3, \"70\": 1}, \"87\": {\"87\": 11, \"122\": 1}, \"1\": {\"1\": 8, \"21\": 1, \"33\": 1, \"100\": 1, \"82\": 1}, \"34\": {\"34\": 9, \"75\": 1, \"51\": 1, \"82\": 1}, \"19\": {\"19\": 12}, \"27\": {\"27\": 12}, \"5\": {\"5\": 11, \"78\": 1}, \"24\": {\"24\": 8, \"27\": 1, \"97\": 3}, \"126\": {\"126\": 12}, \"56\": {\"56\": 11, \"23\": 1}, \"59\": {\"59\": 12}, \"127\": {\"127\": 12}, \"44\": {\"44\": 12}, \"77\": {\"77\": 11, \"41\": 1}, \"80\": {\"80\": 12}, \"98\": {\"98\": 12}, \"122\": {\"110\": 1, \"122\": 11}, \"108\": {\"108\": 10, \"78\": 1, \"88\": 1}, \"61\": {\"61\": 10, \"35\": 2}, \"22\": {\"22\": 12}, \"63\": {\"63\": 10, \"30\": 2}, \"39\": {\"39\": 11, \"78\": 1}, \"25\": {\"25\": 11, \"88\": 1}, \"3\": {\"3\": 12}, \"78\": {\"21\": 4, \"62\": 1, \"88\": 2, \"78\": 5}, \"31\": {\"31\": 11, \"92\": 1}, \"35\": {\"35\": 10, \"61\": 2}, \"91\": {\"91\": 9, \"41\": 1, \"23\": 1, \"77\": 1}, \"37\": {\"37\": 12}, \"13\": {\"13\": 12}, \"53\": {\"53\": 10, \"51\": 1, \"52\": 1}, \"82\": {\"82\": 10, \"63\": 1, \"40\": 1}, \"92\": {\"92\": 10, \"88\": 1, \"69\": 1}, \"90\": {\"90\": 12}, \"8\": {\"8\": 12}, \"88\": {\"88\": 11, \"70\": 1}, \"16\": {\"16\": 12}, \"45\": {\"45\": 12}, \"89\": {\"89\": 11, \"32\": 1}, \"43\": {\"122\": 1, \"43\": 11}, \"65\": {\"65\": 12}, \"117\": {\"117\": 12}, \"40\": {\"40\": 12}, \"12\": {\"12\": 12}, \"7\": {\"7\": 12}, \"75\": {\"75\": 12}, \"41\": {\"37\": 1, \"41\": 9, \"77\": 1, \"28\": 1}, \"76\": {\"76\": 12}, \"9\": {\"9\": 12}, \"125\": {\"125\": 12}, \"120\": {\"120\": 10, \"64\": 1, \"28\": 1}, \"11\": {\"11\": 12}, \"115\": {\"86\": 2, \"115\": 6, \"102\": 1, \"4\": 2, \"88\": 1}, \"2\": {\"2\": 12}, \"113\": {\"113\": 11, \"78\": 1}, \"112\": {\"112\": 10, \"83\": 1, \"42\": 1}, \"94\": {\"94\": 9, \"77\": 1, \"36\": 1, \"15\": 1}, \"109\": {\"109\": 12}, \"74\": {\"74\": 12}, \"111\": {\"111\": 12}, \"55\": {\"55\": 12}, \"15\": {\"15\": 12}, \"14\": {\"14\": 12}, \"104\": {\"104\": 12}, \"47\": {\"47\": 11, \"9\": 1}, \"58\": {\"88\": 1, \"58\": 11}, \"106\": {\"106\": 11, \"12\": 1}, \"121\": {\"121\": 10, \"88\": 2}, \"81\": {\"81\": 11, \"52\": 1}, \"84\": {\"84\": 11, \"78\": 1}, \"32\": {\"32\": 11, \"107\": 1}, \"72\": {\"72\": 10, \"88\": 1, \"60\": 1}, \"46\": {\"46\": 9, \"100\": 2, \"114\": 1}}, \"1\": {\"49\": {\"31\": 1, \"49\": 5, \"52\": 1, \"89\": 2, \"53\": 2, \"46\": 1}, \"1\": {\"1\": 12}, \"119\": {\"119\": 12}, \"28\": {\"28\": 9, \"31\": 1, \"83\": 1, \"116\": 1}, \"20\": {\"20\": 12}, \"17\": {\"17\": 10, \"55\": 1, \"4\": 1}, \"103\": {\"103\": 11, \"47\": 1}, \"85\": {\"85\": 12}, \"87\": {\"11\": 1, \"87\": 9, \"93\": 2}, \"84\": {\"84\": 12}, \"34\": {\"34\": 8, \"89\": 3, \"31\": 1}, \"16\": {\"16\": 12}, \"6\": {\"6\": 12}, \"31\": {\"31\": 11, \"49\": 1}, \"92\": {\"92\": 12}, \"96\": {\"96\": 5, \"126\": 3, \"46\": 1, \"70\": 2, \"28\": 1}, \"64\": {\"64\": 12}, \"40\": {\"40\": 9, \"105\": 2, \"35\": 1}, \"69\": {\"69\": 12}, \"99\": {\"9\": 2, \"99\": 10}, \"3\": {\"34\": 1, \"3\": 10, \"65\": 1}, \"50\": {\"50\": 12}, \"21\": {\"70\": 2, \"21\": 8, \"128\": 1, \"82\": 1}, \"7\": {\"7\": 12}, \"0\": {\"0\": 12}, \"44\": {\"44\": 12}, \"19\": {\"19\": 9, \"82\": 2, \"29\": 1}, \"22\": {\"22\": 10, \"116\": 2}, \"32\": {\"32\": 10, \"56\": 1, \"75\": 1}, \"125\": {\"125\": 11, \"6\": 1}, \"82\": {\"82\": 12}, \"33\": {\"33\": 12}, \"45\": {\"45\": 4, \"21\": 3, \"129\": 1, \"115\": 3, \"25\": 1}, \"109\": {\"109\": 12}, \"105\": {\"105\": 11, \"88\": 1}, \"76\": {\"76\": 12}, \"59\": {\"59\": 9, \"13\": 1, \"111\": 2}, \"120\": {\"120\": 12}, \"41\": {\"41\": 12}, \"26\": {\"16\": 2, \"26\": 10}, \"42\": {\"42\": 8, \"91\": 1, \"104\": 1, \"25\": 2}, \"79\": {\"79\": 12}, \"97\": {\"24\": 3, \"97\": 8, \"55\": 1}, \"110\": {\"110\": 12}, \"128\": {\"128\": 8, \"54\": 2, \"80\": 1, \"29\": 1}, \"55\": {\"55\": 12}, \"23\": {\"21\": 2, \"23\": 3, \"44\": 4, \"110\": 3}, \"4\": {\"4\": 12}, \"14\": {\"14\": 12}, \"126\": {\"126\": 12}, \"111\": {\"111\": 12}, \"39\": {\"39\": 12}, \"35\": {\"35\": 11, \"30\": 1}, \"102\": {\"102\": 12}, \"113\": {\"113\": 12}, \"89\": {\"89\": 12}, \"46\": {\"46\": 7, \"86\": 1, \"124\": 3, \"53\": 1}, \"91\": {\"91\": 12}, \"83\": {\"83\": 12}, \"81\": {\"81\": 11, \"33\": 1}, \"88\": {\"88\": 12}, \"95\": {\"95\": 12}, \"53\": {\"53\": 11, \"98\": 1}, \"75\": {\"75\": 9, \"127\": 3}, \"122\": {\"43\": 4, \"122\": 8}, \"107\": {\"107\": 12}, \"104\": {\"104\": 11, \"23\": 1}, \"12\": {\"12\": 11, \"106\": 1}, \"112\": {\"112\": 10, \"75\": 1, \"70\": 1}, \"63\": {\"63\": 12}, \"30\": {\"30\": 12}, \"9\": {\"9\": 12}, \"78\": {\"78\": 9, \"21\": 2, \"93\": 1}, \"18\": {\"18\": 12}, \"116\": {\"116\": 11, \"61\": 1}, \"36\": {\"36\": 12}, \"100\": {\"100\": 11, \"9\": 1}, \"74\": {\"74\": 12}, \"61\": {\"61\": 11, \"70\": 1}, \"8\": {\"8\": 11, \"21\": 1}, \"70\": {\"70\": 12}, \"108\": {\"108\": 11, \"109\": 1}, \"77\": {\"77\": 12}, \"93\": {\"93\": 12}, \"37\": {\"37\": 12}, \"118\": {\"118\": 12}, \"80\": {\"80\": 12}, \"106\": {\"106\": 12}, \"58\": {\"53\": 3, \"58\": 9}, \"56\": {\"56\": 11, \"32\": 1}, \"86\": {\"86\": 10, \"6\": 1, \"70\": 1}, \"90\": {\"90\": 12}, \"123\": {\"123\": 12}, \"94\": {\"94\": 12}, \"52\": {\"52\": 12}, \"47\": {\"47\": 9, \"29\": 1, \"103\": 2}, \"117\": {\"117\": 12}, \"124\": {\"124\": 12}, \"71\": {\"71\": 10, \"21\": 1, \"63\": 1}, \"67\": {\"67\": 12}, \"15\": {\"15\": 10, \"30\": 1, \"23\": 1}, \"5\": {\"5\": 12}, \"24\": {\"24\": 11, \"108\": 1}, \"62\": {\"62\": 11, \"21\": 1}, \"13\": {\"13\": 12}, \"101\": {\"101\": 11, \"21\": 1}, \"51\": {\"51\": 11, \"71\": 1}, \"129\": {\"129\": 11, \"82\": 1}, \"65\": {\"65\": 9, \"57\": 1, \"21\": 1, \"28\": 1}, \"121\": {\"121\": 12}, \"43\": {\"43\": 9, \"15\": 1, \"122\": 2}, \"73\": {\"73\": 12}, \"68\": {\"68\": 11, \"45\": 1}, \"66\": {\"66\": 12}, \"60\": {\"60\": 7, \"23\": 3, \"95\": 1, \"87\": 1}, \"115\": {\"115\": 12}, \"38\": {\"38\": 12}, \"2\": {\"45\": 2, \"128\": 1, \"2\": 7, \"123\": 1, \"21\": 1}, \"127\": {\"127\": 11, \"21\": 1}, \"54\": {\"54\": 11, \"68\": 1}, \"72\": {\"72\": 8, \"101\": 3, \"19\": 1}, \"27\": {\"27\": 11, \"88\": 1}, \"57\": {\"57\": 11, \"35\": 1}, \"48\": {\"48\": 10, \"123\": 2}, \"114\": {\"114\": 12}, \"25\": {\"25\": 11, \"45\": 1}, \"11\": {\"11\": 12}, \"29\": {\"29\": 12}, \"98\": {\"98\": 11, \"54\": 1}, \"10\": {\"10\": 10, \"0\": 2}}}, \"per_domain_accuracy\": {\"3\": {\"accuracy\": 0.9743589743589743, \"source?\": true}, \"2\": {\"accuracy\": 0.8948717948717949, \"source?\": false}, \"4\": {\"accuracy\": 0.892948717948718, \"source?\": false}, \"1\": {\"accuracy\": 0.8987179487179487, \"source?\": false}}}, \"history\": {\"epoch_indices\": [1, 2, 3, 4, 5, 6, 7, 8, 9, 10, 11, 12, 13, 14, 15, 16, 17, 18, 19, 20, 21, 22], \"train_label_loss\": [2.4365881469514634, 0.9437701013353136, 0.6284492757585314, 0.5083925147851308, 0.43917962974972197, 0.36720532178878784, 0.3417710622151693, 0.30672615832752653, 0.27322108381324345, 0.25299317671193017, 0.2378175695737203, 0.22777084741327497, 0.2615429860022333, 0.23140840977430344, 0.21411011517047882, 0.18057364920775096, 0.20318177855677075, 0.1891715074578921, 0.18040850344631407, 0.17530450266268519, 0.16884460217422909, 0.18866296062866847], \"source_val_label_loss\": [1.2729592323303223, 0.7090136408805847, 0.5330555438995361, 0.44969114661216736, 0.39687013626098633, 0.3582088351249695, 0.31951215863227844, 0.29337358474731445, 0.2795155644416809, 0.2556396424770355, 0.24644190073013306, 0.23436681926250458, 0.24377179145812988, 0.25490227341651917, 0.22099387645721436, 0.21555230021476746, 0.22375738620758057, 0.20694229006767273, 0.21790724992752075, 0.19727569818496704, 0.20438115298748016, 0.20482218265533447], \"target_val_label_loss\": [1.5633903741836548, 1.1198068857192993, 0.9727466702461243, 0.8855723738670349, 0.8315628170967102, 0.8218902945518494, 0.7548205256462097, 0.7537617087364197, 0.7306878566741943, 0.6960228085517883, 0.6712710857391357, 0.6424668431282043, 0.7002817988395691, 0.6691120862960815, 0.662133514881134, 0.6169747114181519, 0.6409795880317688, 0.6189402937889099, 0.6153298616409302, 0.607135534286499, 0.630369246006012, 0.6189696788787842], \"source_val_acc_label\": [0.808974358974359, 0.875, 0.9083333333333333, 0.9185897435897435, 0.9346153846153846, 0.948076923076923, 0.9506410256410256, 0.9576923076923077, 0.958974358974359, 0.9608974358974359, 0.9621794871794872, 0.966025641025641, 0.9608974358974359, 0.9596153846153846, 0.9705128205128205, 0.9705128205128205, 0.9692307692307692, 0.9743589743589743, 0.9743589743589743, 0.9711538461538461, 0.9724358974358974, 0.9737179487179487], \"target_val_acc_label\": [0.7602564102564102, 0.7991452991452992, 0.8239316239316239, 0.8418803418803419, 0.8553418803418803, 0.8623931623931624, 0.8696581196581197, 0.8698717948717949, 0.8728632478632479, 0.8824786324786325, 0.8824786324786325, 0.8878205128205128, 0.8833333333333333, 0.8856837606837606, 0.8888888888888888, 0.892948717948718, 0.8916666666666667, 0.8955128205128206, 0.8923076923076924, 0.8931623931623932, 0.8914529914529915, 0.8946581196581197]}, \"dataset_metrics\": {\"source\": {\"train\": {\"n_unique_x\": 19722, \"n_unique_y\": 130, \"n_batch/episode\": 45}, \"val\": {\"n_unique_x\": 3153, \"n_unique_y\": 130, \"n_batch/episode\": 6}, \"test\": {\"n_unique_x\": 3209, \"n_unique_y\": 130, \"n_batch/episode\": 6}}, \"target\": {\"train\": {\"n_unique_x\": 60353, \"n_unique_y\": 130, \"n_batch/episode\": 138}, \"val\": {\"n_unique_x\": 9462, \"n_unique_y\": 130, \"n_batch/episode\": 18}, \"test\": {\"n_unique_x\": 9574, \"n_unique_y\": 130, \"n_batch/episode\": 18}}}}'"
      ]
     },
     "execution_count": 20,
     "metadata": {},
     "output_type": "execute_result"
    }
   ],
   "source": [
    "json.dumps(experiment)"
   ]
  }
 ],
 "metadata": {
  "celltoolbar": "Tags",
  "kernelspec": {
   "display_name": "Python 3 (ipykernel)",
   "language": "python",
   "name": "python3"
  },
  "language_info": {
   "codemirror_mode": {
    "name": "ipython",
    "version": 3
   },
   "file_extension": ".py",
   "mimetype": "text/x-python",
   "name": "python",
   "nbconvert_exporter": "python",
   "pygments_lexer": "ipython3",
   "version": "3.8.10"
  },
  "papermill": {
   "default_parameters": {},
   "duration": 207.563257,
   "end_time": "2022-03-22T16:38:02.189023",
   "environment_variables": {},
   "exception": null,
   "input_path": "/mnt/wd500GB/CSC500/csc500-main/csc500-notebooks/templates/ptn_template.ipynb",
   "output_path": "trial.ipynb",
   "parameters": {
    "parameters": {
     "BEST_MODEL_PATH": "./best_model.pth",
     "NUM_LOGS_PER_EPOCH": 10,
     "criteria_for_best": "target_accuracy",
     "dataset_seed": 1337,
     "device": "cuda",
     "domains_source": [
      3
     ],
     "domains_target": [
      1,
      2,
      4
     ],
     "episode_transforms_source": [],
     "episode_transforms_target": [],
     "experiment_name": "tuned_1v2:wisig",
     "labels_source": [
      "1-10",
      "1-12",
      "1-14",
      "1-16",
      "1-18",
      "1-19",
      "1-8",
      "10-11",
      "10-17",
      "10-4",
      "10-7",
      "11-1",
      "11-10",
      "11-19",
      "11-20",
      "11-4",
      "11-7",
      "12-19",
      "12-20",
      "12-7",
      "13-14",
      "13-18",
      "13-19",
      "13-20",
      "13-3",
      "13-7",
      "14-10",
      "14-11",
      "14-12",
      "14-13",
      "14-14",
      "14-19",
      "14-20",
      "14-7",
      "14-8",
      "14-9",
      "15-1",
      "15-19",
      "15-6",
      "16-1",
      "16-16",
      "16-19",
      "16-20",
      "17-10",
      "17-11",
      "18-1",
      "18-10",
      "18-11",
      "18-12",
      "18-13",
      "18-14",
      "18-15",
      "18-16",
      "18-17",
      "18-19",
      "18-2",
      "18-20",
      "18-4",
      "18-5",
      "18-7",
      "18-8",
      "18-9",
      "19-1",
      "19-10",
      "19-11",
      "19-12",
      "19-13",
      "19-14",
      "19-15",
      "19-19",
      "19-2",
      "19-20",
      "19-3",
      "19-4",
      "19-6",
      "19-7",
      "19-8",
      "19-9",
      "2-1",
      "2-13",
      "2-15",
      "2-3",
      "2-4",
      "2-5",
      "2-6",
      "2-7",
      "2-8",
      "20-1",
      "20-12",
      "20-14",
      "20-15",
      "20-16",
      "20-18",
      "20-19",
      "20-20",
      "20-3",
      "20-4",
      "20-5",
      "20-7",
      "20-8",
      "3-1",
      "3-13",
      "3-18",
      "3-2",
      "3-8",
      "4-1",
      "4-10",
      "4-11",
      "5-1",
      "5-5",
      "6-1",
      "6-15",
      "6-6",
      "7-10",
      "7-11",
      "7-12",
      "7-13",
      "7-14",
      "7-7",
      "7-8",
      "7-9",
      "8-1",
      "8-13",
      "8-14",
      "8-18",
      "8-20",
      "8-3",
      "8-8",
      "9-1",
      "9-7"
     ],
     "labels_target": [
      "1-10",
      "1-12",
      "1-14",
      "1-16",
      "1-18",
      "1-19",
      "1-8",
      "10-11",
      "10-17",
      "10-4",
      "10-7",
      "11-1",
      "11-10",
      "11-19",
      "11-20",
      "11-4",
      "11-7",
      "12-19",
      "12-20",
      "12-7",
      "13-14",
      "13-18",
      "13-19",
      "13-20",
      "13-3",
      "13-7",
      "14-10",
      "14-11",
      "14-12",
      "14-13",
      "14-14",
      "14-19",
      "14-20",
      "14-7",
      "14-8",
      "14-9",
      "15-1",
      "15-19",
      "15-6",
      "16-1",
      "16-16",
      "16-19",
      "16-20",
      "17-10",
      "17-11",
      "18-1",
      "18-10",
      "18-11",
      "18-12",
      "18-13",
      "18-14",
      "18-15",
      "18-16",
      "18-17",
      "18-19",
      "18-2",
      "18-20",
      "18-4",
      "18-5",
      "18-7",
      "18-8",
      "18-9",
      "19-1",
      "19-10",
      "19-11",
      "19-12",
      "19-13",
      "19-14",
      "19-15",
      "19-19",
      "19-2",
      "19-20",
      "19-3",
      "19-4",
      "19-6",
      "19-7",
      "19-8",
      "19-9",
      "2-1",
      "2-13",
      "2-15",
      "2-3",
      "2-4",
      "2-5",
      "2-6",
      "2-7",
      "2-8",
      "20-1",
      "20-12",
      "20-14",
      "20-15",
      "20-16",
      "20-18",
      "20-19",
      "20-20",
      "20-3",
      "20-4",
      "20-5",
      "20-7",
      "20-8",
      "3-1",
      "3-13",
      "3-18",
      "3-2",
      "3-8",
      "4-1",
      "4-10",
      "4-11",
      "5-1",
      "5-5",
      "6-1",
      "6-15",
      "6-6",
      "7-10",
      "7-11",
      "7-12",
      "7-13",
      "7-14",
      "7-7",
      "7-8",
      "7-9",
      "8-1",
      "8-13",
      "8-14",
      "8-18",
      "8-20",
      "8-3",
      "8-8",
      "9-1",
      "9-7"
     ],
     "lr": 0.0001,
     "n_epoch": 50,
     "n_query": 2,
     "n_shot": 3,
     "n_way": 130,
     "num_examples_per_domain_per_label_source": -1,
     "num_examples_per_domain_per_label_target": -1,
     "patience": 3,
     "pickle_name": "wisig.node3-19.stratified_ds.2022A.pkl",
     "seed": 1337,
     "test_k_factor": 2,
     "torch_default_dtype": "torch.float32",
     "train_k_factor": 3,
     "val_k_factor": 2,
     "x_net": [
      {
       "class": "nnReshape",
       "kargs": {
        "shape": [
         -1,
         1,
         2,
         256
        ]
       }
      },
      {
       "class": "Conv2d",
       "kargs": {
        "bias": false,
        "in_channels": 1,
        "kernel_size": [
         1,
         7
        ],
        "out_channels": 256,
        "padding": [
         0,
         3
        ]
       }
      },
      {
       "class": "ReLU",
       "kargs": {
        "inplace": true
       }
      },
      {
       "class": "BatchNorm2d",
       "kargs": {
        "num_features": 256
       }
      },
      {
       "class": "Conv2d",
       "kargs": {
        "bias": true,
        "in_channels": 256,
        "kernel_size": [
         2,
         7
        ],
        "out_channels": 80,
        "padding": [
         0,
         3
        ]
       }
      },
      {
       "class": "ReLU",
       "kargs": {
        "inplace": true
       }
      },
      {
       "class": "BatchNorm2d",
       "kargs": {
        "num_features": 80
       }
      },
      {
       "class": "Flatten",
       "kargs": {}
      },
      {
       "class": "Linear",
       "kargs": {
        "in_features": 20480,
        "out_features": 256
       }
      },
      {
       "class": "ReLU",
       "kargs": {
        "inplace": true
       }
      },
      {
       "class": "BatchNorm1d",
       "kargs": {
        "num_features": 256
       }
      },
      {
       "class": "Linear",
       "kargs": {
        "in_features": 256,
        "out_features": 256
       }
      }
     ],
     "x_transforms_source": [],
     "x_transforms_target": []
    }
   },
   "start_time": "2022-03-22T16:34:34.625766",
   "version": "2.3.4"
  }
 },
 "nbformat": 4,
 "nbformat_minor": 5
}