{
 "cells": [
  {
   "cell_type": "markdown",
   "id": "9fea5f46",
   "metadata": {
    "papermill": {
     "duration": 0.013886,
     "end_time": "2022-03-22T17:04:08.568613",
     "exception": false,
     "start_time": "2022-03-22T17:04:08.554727",
     "status": "completed"
    },
    "tags": []
   },
   "source": [
    "# PTN Template\n",
    "This notebook serves as a template for single dataset PTN experiments  \n",
    "It can be run on its own by setting STANDALONE to True (do a find for \"STANDALONE\" to see where)  \n",
    "But it is intended to be executed as part of a *papermill.py script. See any of the   \n",
    "experimentes with a papermill script to get started with that workflow.  "
   ]
  },
  {
   "cell_type": "code",
   "execution_count": 1,
   "id": "0902182a",
   "metadata": {
    "execution": {
     "iopub.execute_input": "2022-03-22T17:04:08.599339Z",
     "iopub.status.busy": "2022-03-22T17:04:08.599049Z",
     "iopub.status.idle": "2022-03-22T17:04:09.569768Z",
     "shell.execute_reply": "2022-03-22T17:04:09.569996Z"
    },
    "papermill": {
     "duration": 0.991733,
     "end_time": "2022-03-22T17:04:09.570112",
     "exception": false,
     "start_time": "2022-03-22T17:04:08.578379",
     "status": "completed"
    },
    "tags": []
   },
   "outputs": [],
   "source": [
    "%load_ext autoreload\n",
    "%autoreload 2\n",
    "%matplotlib inline\n",
    "\n",
    "    \n",
    "import os, json, sys, time, random\n",
    "import numpy as np\n",
    "import torch\n",
    "from torch.optim import Adam\n",
    "from  easydict import EasyDict\n",
    "import matplotlib.pyplot as plt\n",
    "\n",
    "from steves_models.steves_ptn import Steves_Prototypical_Network\n",
    "\n",
    "from steves_utils.lazy_iterable_wrapper import Lazy_Iterable_Wrapper\n",
    "from steves_utils.iterable_aggregator import Iterable_Aggregator\n",
    "from steves_utils.ptn_train_eval_test_jig import  PTN_Train_Eval_Test_Jig\n",
    "from steves_utils.torch_sequential_builder import build_sequential\n",
    "from steves_utils.torch_utils import get_dataset_metrics, ptn_confusion_by_domain_over_dataloader\n",
    "from steves_utils.utils_v2 import (per_domain_accuracy_from_confusion, get_datasets_base_path)\n",
    "from steves_utils.PTN.utils import independent_accuracy_assesment\n",
    "\n",
    "from steves_utils.stratified_dataset.episodic_accessor import Episodic_Accessor_Factory\n",
    "\n",
    "from steves_utils.ptn_do_report import (\n",
    "    get_loss_curve,\n",
    "    get_results_table,\n",
    "    get_parameters_table,\n",
    "    get_domain_accuracies,\n",
    ")\n",
    "\n",
    "from steves_utils.transforms import get_chained_transform"
   ]
  },
  {
   "cell_type": "markdown",
   "id": "41c840b4",
   "metadata": {
    "papermill": {
     "duration": 0.009306,
     "end_time": "2022-03-22T17:04:09.589533",
     "exception": false,
     "start_time": "2022-03-22T17:04:09.580227",
     "status": "completed"
    },
    "tags": []
   },
   "source": [
    "# Required Parameters\n",
    "These are allowed parameters, not defaults\n",
    "Each of these values need to be present in the injected parameters (the notebook will raise an exception if they are not present)\n",
    "\n",
    "Papermill uses the cell tag \"parameters\" to inject the real parameters below this cell.\n",
    "Enable tags to see what I mean"
   ]
  },
  {
   "cell_type": "code",
   "execution_count": 2,
   "id": "fd44eb83",
   "metadata": {
    "execution": {
     "iopub.execute_input": "2022-03-22T17:04:09.612099Z",
     "iopub.status.busy": "2022-03-22T17:04:09.611830Z",
     "iopub.status.idle": "2022-03-22T17:04:09.626371Z",
     "shell.execute_reply": "2022-03-22T17:04:09.625963Z"
    },
    "papermill": {
     "duration": 0.027523,
     "end_time": "2022-03-22T17:04:09.626460",
     "exception": false,
     "start_time": "2022-03-22T17:04:09.598937",
     "status": "completed"
    },
    "tags": []
   },
   "outputs": [],
   "source": [
    "required_parameters = {\n",
    "    \"experiment_name\",\n",
    "    \"lr\",\n",
    "    \"device\",\n",
    "    \"seed\",\n",
    "    \"dataset_seed\",\n",
    "    \"labels_source\",\n",
    "    \"labels_target\",\n",
    "    \"domains_source\",\n",
    "    \"domains_target\",\n",
    "    \"num_examples_per_domain_per_label_source\",\n",
    "    \"num_examples_per_domain_per_label_target\",\n",
    "    \"n_shot\",\n",
    "    \"n_way\",\n",
    "    \"n_query\",\n",
    "    \"train_k_factor\",\n",
    "    \"val_k_factor\",\n",
    "    \"test_k_factor\",\n",
    "    \"n_epoch\",\n",
    "    \"patience\",\n",
    "    \"criteria_for_best\",\n",
    "    \"x_transforms_source\",\n",
    "    \"x_transforms_target\",\n",
    "    \"episode_transforms_source\",\n",
    "    \"episode_transforms_target\",\n",
    "    \"pickle_name\",\n",
    "    \"x_net\",\n",
    "    \"NUM_LOGS_PER_EPOCH\",\n",
    "    \"BEST_MODEL_PATH\",\n",
    "    \"torch_default_dtype\"\n",
    "}"
   ]
  },
  {
   "cell_type": "code",
   "execution_count": 3,
   "id": "fa3f0049",
   "metadata": {
    "execution": {
     "iopub.execute_input": "2022-03-22T17:04:09.655406Z",
     "iopub.status.busy": "2022-03-22T17:04:09.655111Z",
     "iopub.status.idle": "2022-03-22T17:04:09.667151Z",
     "shell.execute_reply": "2022-03-22T17:04:09.666764Z"
    },
    "papermill": {
     "duration": 0.02725,
     "end_time": "2022-03-22T17:04:09.667263",
     "exception": false,
     "start_time": "2022-03-22T17:04:09.640013",
     "status": "completed"
    },
    "tags": [
     "parameters"
    ]
   },
   "outputs": [],
   "source": [
    "\n",
    "\n",
    "standalone_parameters = {}\n",
    "standalone_parameters[\"experiment_name\"] = \"STANDALONE PTN\"\n",
    "standalone_parameters[\"lr\"] = 0.0001\n",
    "standalone_parameters[\"device\"] = \"cuda\"\n",
    "\n",
    "standalone_parameters[\"seed\"] = 1337\n",
    "standalone_parameters[\"dataset_seed\"] = 1337\n",
    "\n",
    "\n",
    "standalone_parameters[\"num_examples_per_domain_per_label_source\"]=100\n",
    "standalone_parameters[\"num_examples_per_domain_per_label_target\"]=100\n",
    "\n",
    "standalone_parameters[\"n_shot\"] = 3\n",
    "standalone_parameters[\"n_query\"]  = 2\n",
    "standalone_parameters[\"train_k_factor\"] = 1\n",
    "standalone_parameters[\"val_k_factor\"] = 2\n",
    "standalone_parameters[\"test_k_factor\"] = 2\n",
    "\n",
    "\n",
    "standalone_parameters[\"n_epoch\"] = 100\n",
    "\n",
    "standalone_parameters[\"patience\"] = 10\n",
    "standalone_parameters[\"criteria_for_best\"] = \"target_accuracy\"\n",
    "\n",
    "standalone_parameters[\"x_transforms_source\"] = [\"unit_power\"]\n",
    "standalone_parameters[\"x_transforms_target\"] = [\"unit_power\"]\n",
    "standalone_parameters[\"episode_transforms_source\"] = []\n",
    "standalone_parameters[\"episode_transforms_target\"] = []\n",
    "\n",
    "standalone_parameters[\"torch_default_dtype\"] = \"torch.float32\" \n",
    "\n",
    "\n",
    "\n",
    "standalone_parameters[\"x_net\"] =     [\n",
    "    {\"class\": \"nnReshape\", \"kargs\": {\"shape\":[-1, 1, 2, 256]}},\n",
    "    {\"class\": \"Conv2d\", \"kargs\": { \"in_channels\":1, \"out_channels\":256, \"kernel_size\":(1,7), \"bias\":False, \"padding\":(0,3), },},\n",
    "    {\"class\": \"ReLU\", \"kargs\": {\"inplace\": True}},\n",
    "    {\"class\": \"BatchNorm2d\", \"kargs\": {\"num_features\":256}},\n",
    "\n",
    "    {\"class\": \"Conv2d\", \"kargs\": { \"in_channels\":256, \"out_channels\":80, \"kernel_size\":(2,7), \"bias\":True, \"padding\":(0,3), },},\n",
    "    {\"class\": \"ReLU\", \"kargs\": {\"inplace\": True}},\n",
    "    {\"class\": \"BatchNorm2d\", \"kargs\": {\"num_features\":80}},\n",
    "    {\"class\": \"Flatten\", \"kargs\": {}},\n",
    "\n",
    "    {\"class\": \"Linear\", \"kargs\": {\"in_features\": 80*256, \"out_features\": 256}}, # 80 units per IQ pair\n",
    "    {\"class\": \"ReLU\", \"kargs\": {\"inplace\": True}},\n",
    "    {\"class\": \"BatchNorm1d\", \"kargs\": {\"num_features\":256}},\n",
    "\n",
    "    {\"class\": \"Linear\", \"kargs\": {\"in_features\": 256, \"out_features\": 256}},\n",
    "]\n",
    "\n",
    "# Parameters relevant to results\n",
    "# These parameters will basically never need to change\n",
    "standalone_parameters[\"NUM_LOGS_PER_EPOCH\"] = 10\n",
    "standalone_parameters[\"BEST_MODEL_PATH\"] = \"./best_model.pth\"\n",
    "\n",
    "# uncomment for CORES dataset\n",
    "from steves_utils.CORES.utils import (\n",
    "    ALL_NODES,\n",
    "    ALL_NODES_MINIMUM_1000_EXAMPLES,\n",
    "    ALL_DAYS\n",
    ")\n",
    "\n",
    "\n",
    "standalone_parameters[\"labels_source\"] = ALL_NODES\n",
    "standalone_parameters[\"labels_target\"] = ALL_NODES\n",
    "\n",
    "standalone_parameters[\"domains_source\"] = [1]\n",
    "standalone_parameters[\"domains_target\"] = [2,3,4,5]\n",
    "\n",
    "standalone_parameters[\"pickle_name\"] = \"cores.stratified_ds.2022A.pkl\"\n",
    "\n",
    "\n",
    "# Uncomment these for ORACLE dataset\n",
    "# from steves_utils.ORACLE.utils_v2 import (\n",
    "#     ALL_DISTANCES_FEET,\n",
    "#     ALL_RUNS,\n",
    "#     ALL_SERIAL_NUMBERS,\n",
    "# )\n",
    "# standalone_parameters[\"labels_source\"] = ALL_SERIAL_NUMBERS\n",
    "# standalone_parameters[\"labels_target\"] = ALL_SERIAL_NUMBERS\n",
    "# standalone_parameters[\"domains_source\"] = [8,20, 38,50]\n",
    "# standalone_parameters[\"domains_target\"] = [14, 26, 32, 44, 56]\n",
    "# standalone_parameters[\"pickle_name\"] = \"oracle.frame_indexed.stratified_ds.2022A.pkl\"\n",
    "# standalone_parameters[\"num_examples_per_domain_per_label_source\"]=1000\n",
    "# standalone_parameters[\"num_examples_per_domain_per_label_target\"]=1000\n",
    "\n",
    "# Uncomment these for Metahan dataset\n",
    "# standalone_parameters[\"labels_source\"] = list(range(19))\n",
    "# standalone_parameters[\"labels_target\"] = list(range(19))\n",
    "# standalone_parameters[\"domains_source\"] = [0]\n",
    "# standalone_parameters[\"domains_target\"] = [1]\n",
    "# standalone_parameters[\"pickle_name\"] = \"metehan.stratified_ds.2022A.pkl\"\n",
    "# standalone_parameters[\"n_way\"]  = len(standalone_parameters[\"labels_source\"])\n",
    "# standalone_parameters[\"num_examples_per_domain_per_label_source\"]=200\n",
    "# standalone_parameters[\"num_examples_per_domain_per_label_target\"]=100\n",
    "\n",
    "\n",
    "standalone_parameters[\"n_way\"]  = len(standalone_parameters[\"labels_source\"])"
   ]
  },
  {
   "cell_type": "code",
   "execution_count": 4,
   "id": "559b01df",
   "metadata": {
    "execution": {
     "iopub.execute_input": "2022-03-22T17:04:09.701449Z",
     "iopub.status.busy": "2022-03-22T17:04:09.700855Z",
     "iopub.status.idle": "2022-03-22T17:04:09.713330Z",
     "shell.execute_reply": "2022-03-22T17:04:09.712884Z"
    },
    "papermill": {
     "duration": 0.030958,
     "end_time": "2022-03-22T17:04:09.713419",
     "exception": false,
     "start_time": "2022-03-22T17:04:09.682461",
     "status": "completed"
    },
    "tags": [
     "injected-parameters"
    ]
   },
   "outputs": [],
   "source": [
    "# Parameters\n",
    "parameters = {\n",
    "    \"experiment_name\": \"tuned_1v2:wisig\",\n",
    "    \"device\": \"cuda\",\n",
    "    \"lr\": 0.0001,\n",
    "    \"labels_source\": [\n",
    "        \"1-10\",\n",
    "        \"1-12\",\n",
    "        \"1-14\",\n",
    "        \"1-16\",\n",
    "        \"1-18\",\n",
    "        \"1-19\",\n",
    "        \"1-8\",\n",
    "        \"10-11\",\n",
    "        \"10-17\",\n",
    "        \"10-4\",\n",
    "        \"10-7\",\n",
    "        \"11-1\",\n",
    "        \"11-10\",\n",
    "        \"11-19\",\n",
    "        \"11-20\",\n",
    "        \"11-4\",\n",
    "        \"11-7\",\n",
    "        \"12-19\",\n",
    "        \"12-20\",\n",
    "        \"12-7\",\n",
    "        \"13-14\",\n",
    "        \"13-18\",\n",
    "        \"13-19\",\n",
    "        \"13-20\",\n",
    "        \"13-3\",\n",
    "        \"13-7\",\n",
    "        \"14-10\",\n",
    "        \"14-11\",\n",
    "        \"14-12\",\n",
    "        \"14-13\",\n",
    "        \"14-14\",\n",
    "        \"14-19\",\n",
    "        \"14-20\",\n",
    "        \"14-7\",\n",
    "        \"14-8\",\n",
    "        \"14-9\",\n",
    "        \"15-1\",\n",
    "        \"15-19\",\n",
    "        \"15-6\",\n",
    "        \"16-1\",\n",
    "        \"16-16\",\n",
    "        \"16-19\",\n",
    "        \"16-20\",\n",
    "        \"17-10\",\n",
    "        \"17-11\",\n",
    "        \"18-1\",\n",
    "        \"18-10\",\n",
    "        \"18-11\",\n",
    "        \"18-12\",\n",
    "        \"18-13\",\n",
    "        \"18-14\",\n",
    "        \"18-15\",\n",
    "        \"18-16\",\n",
    "        \"18-17\",\n",
    "        \"18-19\",\n",
    "        \"18-2\",\n",
    "        \"18-20\",\n",
    "        \"18-4\",\n",
    "        \"18-5\",\n",
    "        \"18-7\",\n",
    "        \"18-8\",\n",
    "        \"18-9\",\n",
    "        \"19-1\",\n",
    "        \"19-10\",\n",
    "        \"19-11\",\n",
    "        \"19-12\",\n",
    "        \"19-13\",\n",
    "        \"19-14\",\n",
    "        \"19-15\",\n",
    "        \"19-19\",\n",
    "        \"19-2\",\n",
    "        \"19-20\",\n",
    "        \"19-3\",\n",
    "        \"19-4\",\n",
    "        \"19-6\",\n",
    "        \"19-7\",\n",
    "        \"19-8\",\n",
    "        \"19-9\",\n",
    "        \"2-1\",\n",
    "        \"2-13\",\n",
    "        \"2-15\",\n",
    "        \"2-3\",\n",
    "        \"2-4\",\n",
    "        \"2-5\",\n",
    "        \"2-6\",\n",
    "        \"2-7\",\n",
    "        \"2-8\",\n",
    "        \"20-1\",\n",
    "        \"20-12\",\n",
    "        \"20-14\",\n",
    "        \"20-15\",\n",
    "        \"20-16\",\n",
    "        \"20-18\",\n",
    "        \"20-19\",\n",
    "        \"20-20\",\n",
    "        \"20-3\",\n",
    "        \"20-4\",\n",
    "        \"20-5\",\n",
    "        \"20-7\",\n",
    "        \"20-8\",\n",
    "        \"3-1\",\n",
    "        \"3-13\",\n",
    "        \"3-18\",\n",
    "        \"3-2\",\n",
    "        \"3-8\",\n",
    "        \"4-1\",\n",
    "        \"4-10\",\n",
    "        \"4-11\",\n",
    "        \"5-1\",\n",
    "        \"5-5\",\n",
    "        \"6-1\",\n",
    "        \"6-15\",\n",
    "        \"6-6\",\n",
    "        \"7-10\",\n",
    "        \"7-11\",\n",
    "        \"7-12\",\n",
    "        \"7-13\",\n",
    "        \"7-14\",\n",
    "        \"7-7\",\n",
    "        \"7-8\",\n",
    "        \"7-9\",\n",
    "        \"8-1\",\n",
    "        \"8-13\",\n",
    "        \"8-14\",\n",
    "        \"8-18\",\n",
    "        \"8-20\",\n",
    "        \"8-3\",\n",
    "        \"8-8\",\n",
    "        \"9-1\",\n",
    "        \"9-7\",\n",
    "    ],\n",
    "    \"labels_target\": [\n",
    "        \"1-10\",\n",
    "        \"1-12\",\n",
    "        \"1-14\",\n",
    "        \"1-16\",\n",
    "        \"1-18\",\n",
    "        \"1-19\",\n",
    "        \"1-8\",\n",
    "        \"10-11\",\n",
    "        \"10-17\",\n",
    "        \"10-4\",\n",
    "        \"10-7\",\n",
    "        \"11-1\",\n",
    "        \"11-10\",\n",
    "        \"11-19\",\n",
    "        \"11-20\",\n",
    "        \"11-4\",\n",
    "        \"11-7\",\n",
    "        \"12-19\",\n",
    "        \"12-20\",\n",
    "        \"12-7\",\n",
    "        \"13-14\",\n",
    "        \"13-18\",\n",
    "        \"13-19\",\n",
    "        \"13-20\",\n",
    "        \"13-3\",\n",
    "        \"13-7\",\n",
    "        \"14-10\",\n",
    "        \"14-11\",\n",
    "        \"14-12\",\n",
    "        \"14-13\",\n",
    "        \"14-14\",\n",
    "        \"14-19\",\n",
    "        \"14-20\",\n",
    "        \"14-7\",\n",
    "        \"14-8\",\n",
    "        \"14-9\",\n",
    "        \"15-1\",\n",
    "        \"15-19\",\n",
    "        \"15-6\",\n",
    "        \"16-1\",\n",
    "        \"16-16\",\n",
    "        \"16-19\",\n",
    "        \"16-20\",\n",
    "        \"17-10\",\n",
    "        \"17-11\",\n",
    "        \"18-1\",\n",
    "        \"18-10\",\n",
    "        \"18-11\",\n",
    "        \"18-12\",\n",
    "        \"18-13\",\n",
    "        \"18-14\",\n",
    "        \"18-15\",\n",
    "        \"18-16\",\n",
    "        \"18-17\",\n",
    "        \"18-19\",\n",
    "        \"18-2\",\n",
    "        \"18-20\",\n",
    "        \"18-4\",\n",
    "        \"18-5\",\n",
    "        \"18-7\",\n",
    "        \"18-8\",\n",
    "        \"18-9\",\n",
    "        \"19-1\",\n",
    "        \"19-10\",\n",
    "        \"19-11\",\n",
    "        \"19-12\",\n",
    "        \"19-13\",\n",
    "        \"19-14\",\n",
    "        \"19-15\",\n",
    "        \"19-19\",\n",
    "        \"19-2\",\n",
    "        \"19-20\",\n",
    "        \"19-3\",\n",
    "        \"19-4\",\n",
    "        \"19-6\",\n",
    "        \"19-7\",\n",
    "        \"19-8\",\n",
    "        \"19-9\",\n",
    "        \"2-1\",\n",
    "        \"2-13\",\n",
    "        \"2-15\",\n",
    "        \"2-3\",\n",
    "        \"2-4\",\n",
    "        \"2-5\",\n",
    "        \"2-6\",\n",
    "        \"2-7\",\n",
    "        \"2-8\",\n",
    "        \"20-1\",\n",
    "        \"20-12\",\n",
    "        \"20-14\",\n",
    "        \"20-15\",\n",
    "        \"20-16\",\n",
    "        \"20-18\",\n",
    "        \"20-19\",\n",
    "        \"20-20\",\n",
    "        \"20-3\",\n",
    "        \"20-4\",\n",
    "        \"20-5\",\n",
    "        \"20-7\",\n",
    "        \"20-8\",\n",
    "        \"3-1\",\n",
    "        \"3-13\",\n",
    "        \"3-18\",\n",
    "        \"3-2\",\n",
    "        \"3-8\",\n",
    "        \"4-1\",\n",
    "        \"4-10\",\n",
    "        \"4-11\",\n",
    "        \"5-1\",\n",
    "        \"5-5\",\n",
    "        \"6-1\",\n",
    "        \"6-15\",\n",
    "        \"6-6\",\n",
    "        \"7-10\",\n",
    "        \"7-11\",\n",
    "        \"7-12\",\n",
    "        \"7-13\",\n",
    "        \"7-14\",\n",
    "        \"7-7\",\n",
    "        \"7-8\",\n",
    "        \"7-9\",\n",
    "        \"8-1\",\n",
    "        \"8-13\",\n",
    "        \"8-14\",\n",
    "        \"8-18\",\n",
    "        \"8-20\",\n",
    "        \"8-3\",\n",
    "        \"8-8\",\n",
    "        \"9-1\",\n",
    "        \"9-7\",\n",
    "    ],\n",
    "    \"episode_transforms_source\": [],\n",
    "    \"episode_transforms_target\": [],\n",
    "    \"domains_source\": [3],\n",
    "    \"domains_target\": [1, 2, 4],\n",
    "    \"num_examples_per_domain_per_label_source\": -1,\n",
    "    \"num_examples_per_domain_per_label_target\": -1,\n",
    "    \"n_shot\": 3,\n",
    "    \"n_way\": 130,\n",
    "    \"n_query\": 2,\n",
    "    \"train_k_factor\": 3,\n",
    "    \"val_k_factor\": 2,\n",
    "    \"test_k_factor\": 2,\n",
    "    \"torch_default_dtype\": \"torch.float32\",\n",
    "    \"n_epoch\": 50,\n",
    "    \"patience\": 3,\n",
    "    \"criteria_for_best\": \"target_accuracy\",\n",
    "    \"x_net\": [\n",
    "        {\"class\": \"nnReshape\", \"kargs\": {\"shape\": [-1, 1, 2, 256]}},\n",
    "        {\n",
    "            \"class\": \"Conv2d\",\n",
    "            \"kargs\": {\n",
    "                \"in_channels\": 1,\n",
    "                \"out_channels\": 256,\n",
    "                \"kernel_size\": [1, 7],\n",
    "                \"bias\": False,\n",
    "                \"padding\": [0, 3],\n",
    "            },\n",
    "        },\n",
    "        {\"class\": \"ReLU\", \"kargs\": {\"inplace\": True}},\n",
    "        {\"class\": \"BatchNorm2d\", \"kargs\": {\"num_features\": 256}},\n",
    "        {\n",
    "            \"class\": \"Conv2d\",\n",
    "            \"kargs\": {\n",
    "                \"in_channels\": 256,\n",
    "                \"out_channels\": 80,\n",
    "                \"kernel_size\": [2, 7],\n",
    "                \"bias\": True,\n",
    "                \"padding\": [0, 3],\n",
    "            },\n",
    "        },\n",
    "        {\"class\": \"ReLU\", \"kargs\": {\"inplace\": True}},\n",
    "        {\"class\": \"BatchNorm2d\", \"kargs\": {\"num_features\": 80}},\n",
    "        {\"class\": \"Flatten\", \"kargs\": {}},\n",
    "        {\"class\": \"Linear\", \"kargs\": {\"in_features\": 20480, \"out_features\": 256}},\n",
    "        {\"class\": \"ReLU\", \"kargs\": {\"inplace\": True}},\n",
    "        {\"class\": \"BatchNorm1d\", \"kargs\": {\"num_features\": 256}},\n",
    "        {\"class\": \"Linear\", \"kargs\": {\"in_features\": 256, \"out_features\": 256}},\n",
    "    ],\n",
    "    \"NUM_LOGS_PER_EPOCH\": 10,\n",
    "    \"BEST_MODEL_PATH\": \"./best_model.pth\",\n",
    "    \"pickle_name\": \"wisig.node3-19.stratified_ds.2022A.pkl\",\n",
    "    \"x_transforms_source\": [\"unit_power\"],\n",
    "    \"x_transforms_target\": [\"unit_power\"],\n",
    "    \"dataset_seed\": 1337,\n",
    "    \"seed\": 1337,\n",
    "}\n"
   ]
  },
  {
   "cell_type": "code",
   "execution_count": 5,
   "id": "8fa1cc33",
   "metadata": {
    "execution": {
     "iopub.execute_input": "2022-03-22T17:04:09.748769Z",
     "iopub.status.busy": "2022-03-22T17:04:09.740957Z",
     "iopub.status.idle": "2022-03-22T17:04:09.755373Z",
     "shell.execute_reply": "2022-03-22T17:04:09.755774Z"
    },
    "papermill": {
     "duration": 0.028401,
     "end_time": "2022-03-22T17:04:09.755895",
     "exception": false,
     "start_time": "2022-03-22T17:04:09.727494",
     "status": "completed"
    },
    "tags": []
   },
   "outputs": [],
   "source": [
    "# Set this to True if you want to run this template directly\n",
    "STANDALONE = False\n",
    "if STANDALONE:\n",
    "    print(\"parameters not injected, running with standalone_parameters\")\n",
    "    parameters = standalone_parameters\n",
    "\n",
    "if not 'parameters' in locals() and not 'parameters' in globals():\n",
    "    raise Exception(\"Parameter injection failed\")\n",
    "\n",
    "#Use an easy dict for all the parameters\n",
    "p = EasyDict(parameters)\n",
    "\n",
    "supplied_keys = set(p.keys())\n",
    "\n",
    "if  supplied_keys != required_parameters:\n",
    "    print(\"Parameters are incorrect\")\n",
    "    if len(supplied_keys - required_parameters)>0: print(\"Shouldn't have:\", str(supplied_keys - required_parameters))\n",
    "    if len(required_parameters - supplied_keys)>0: print(\"Need to have:\", str(required_parameters - supplied_keys))\n",
    "    raise RuntimeError(\"Parameters are incorrect\")\n",
    "\n"
   ]
  },
  {
   "cell_type": "code",
   "execution_count": 6,
   "id": "3a028d58",
   "metadata": {
    "execution": {
     "iopub.execute_input": "2022-03-22T17:04:09.783064Z",
     "iopub.status.busy": "2022-03-22T17:04:09.782716Z",
     "iopub.status.idle": "2022-03-22T17:04:09.797507Z",
     "shell.execute_reply": "2022-03-22T17:04:09.797159Z"
    },
    "papermill": {
     "duration": 0.026674,
     "end_time": "2022-03-22T17:04:09.797577",
     "exception": false,
     "start_time": "2022-03-22T17:04:09.770903",
     "status": "completed"
    },
    "tags": []
   },
   "outputs": [],
   "source": [
    "###################################\n",
    "# Set the RNGs and make it all deterministic\n",
    "###################################\n",
    "np.random.seed(p.seed)\n",
    "random.seed(p.seed)\n",
    "torch.manual_seed(p.seed)\n",
    "\n",
    "torch.use_deterministic_algorithms(True) "
   ]
  },
  {
   "cell_type": "code",
   "execution_count": 7,
   "id": "b691acf6",
   "metadata": {
    "execution": {
     "iopub.execute_input": "2022-03-22T17:04:09.823699Z",
     "iopub.status.busy": "2022-03-22T17:04:09.823364Z",
     "iopub.status.idle": "2022-03-22T17:04:09.835881Z",
     "shell.execute_reply": "2022-03-22T17:04:09.836305Z"
    },
    "papermill": {
     "duration": 0.024935,
     "end_time": "2022-03-22T17:04:09.836423",
     "exception": false,
     "start_time": "2022-03-22T17:04:09.811488",
     "status": "completed"
    },
    "tags": []
   },
   "outputs": [],
   "source": [
    "###########################################\n",
    "# The stratified datasets honor this\n",
    "###########################################\n",
    "torch.set_default_dtype(eval(p.torch_default_dtype))"
   ]
  },
  {
   "cell_type": "code",
   "execution_count": 8,
   "id": "b5fba671",
   "metadata": {
    "execution": {
     "iopub.execute_input": "2022-03-22T17:04:09.862922Z",
     "iopub.status.busy": "2022-03-22T17:04:09.862677Z",
     "iopub.status.idle": "2022-03-22T17:04:09.898523Z",
     "shell.execute_reply": "2022-03-22T17:04:09.898137Z"
    },
    "papermill": {
     "duration": 0.047212,
     "end_time": "2022-03-22T17:04:09.898611",
     "exception": false,
     "start_time": "2022-03-22T17:04:09.851399",
     "status": "completed"
    },
    "tags": []
   },
   "outputs": [],
   "source": [
    "###################################\n",
    "# Build the network(s)\n",
    "# Note: It's critical to do this AFTER setting the RNG\n",
    "# (This is due to the randomized initial weights)\n",
    "###################################\n",
    "x_net = build_sequential(p.x_net)"
   ]
  },
  {
   "cell_type": "code",
   "execution_count": 9,
   "id": "5d7e61cc",
   "metadata": {
    "execution": {
     "iopub.execute_input": "2022-03-22T17:04:09.927442Z",
     "iopub.status.busy": "2022-03-22T17:04:09.927151Z",
     "iopub.status.idle": "2022-03-22T17:04:09.942671Z",
     "shell.execute_reply": "2022-03-22T17:04:09.942159Z"
    },
    "papermill": {
     "duration": 0.028796,
     "end_time": "2022-03-22T17:04:09.942780",
     "exception": false,
     "start_time": "2022-03-22T17:04:09.913984",
     "status": "completed"
    },
    "tags": []
   },
   "outputs": [],
   "source": [
    "start_time_secs = time.time()"
   ]
  },
  {
   "cell_type": "code",
   "execution_count": 10,
   "id": "fd5442bc",
   "metadata": {
    "execution": {
     "iopub.execute_input": "2022-03-22T17:04:09.972908Z",
     "iopub.status.busy": "2022-03-22T17:04:09.972196Z",
     "iopub.status.idle": "2022-03-22T17:04:26.972298Z",
     "shell.execute_reply": "2022-03-22T17:04:26.971850Z"
    },
    "papermill": {
     "duration": 17.015311,
     "end_time": "2022-03-22T17:04:26.972399",
     "exception": false,
     "start_time": "2022-03-22T17:04:09.957088",
     "status": "completed"
    },
    "tags": []
   },
   "outputs": [],
   "source": [
    "###################################\n",
    "# Build the dataset\n",
    "###################################\n",
    "\n",
    "if p.x_transforms_source == []: x_transform_source = None\n",
    "else: x_transform_source = get_chained_transform(p.x_transforms_source) \n",
    "\n",
    "if p.x_transforms_target == []: x_transform_target = None\n",
    "else: x_transform_target = get_chained_transform(p.x_transforms_target)\n",
    "\n",
    "if p.episode_transforms_source == []: episode_transform_source = None\n",
    "else: raise Exception(\"episode_transform_source not implemented\")\n",
    "\n",
    "if p.episode_transforms_target == []: episode_transform_target = None\n",
    "else: raise Exception(\"episode_transform_target not implemented\")\n",
    "\n",
    "\n",
    "eaf_source = Episodic_Accessor_Factory(\n",
    "    labels=p.labels_source,\n",
    "    domains=p.domains_source,\n",
    "    num_examples_per_domain_per_label=p.num_examples_per_domain_per_label_source,\n",
    "    iterator_seed=p.seed,\n",
    "    dataset_seed=p.dataset_seed,\n",
    "    n_shot=p.n_shot,\n",
    "    n_way=p.n_way,\n",
    "    n_query=p.n_query,\n",
    "    train_val_test_k_factors=(p.train_k_factor,p.val_k_factor,p.test_k_factor),\n",
    "    pickle_path=os.path.join(get_datasets_base_path(), p.pickle_name),\n",
    "    x_transform_func=x_transform_source,\n",
    "    example_transform_func=episode_transform_source,\n",
    "    \n",
    ")\n",
    "train_original_source, val_original_source, test_original_source = eaf_source.get_train(), eaf_source.get_val(), eaf_source.get_test()\n",
    "\n",
    "\n",
    "eaf_target = Episodic_Accessor_Factory(\n",
    "    labels=p.labels_target,\n",
    "    domains=p.domains_target,\n",
    "    num_examples_per_domain_per_label=p.num_examples_per_domain_per_label_target,\n",
    "    iterator_seed=p.seed,\n",
    "    dataset_seed=p.dataset_seed,\n",
    "    n_shot=p.n_shot,\n",
    "    n_way=p.n_way,\n",
    "    n_query=p.n_query,\n",
    "    train_val_test_k_factors=(p.train_k_factor,p.val_k_factor,p.test_k_factor),\n",
    "    pickle_path=os.path.join(get_datasets_base_path(), p.pickle_name),\n",
    "    x_transform_func=x_transform_target,\n",
    "    example_transform_func=episode_transform_target,\n",
    ")\n",
    "train_original_target, val_original_target, test_original_target = eaf_target.get_train(), eaf_target.get_val(), eaf_target.get_test()\n",
    "\n",
    "\n",
    "transform_lambda = lambda ex: ex[1] # Original is (<domain>, <episode>) so we strip down to episode only\n",
    "\n",
    "train_processed_source = Lazy_Iterable_Wrapper(train_original_source, transform_lambda)\n",
    "val_processed_source   = Lazy_Iterable_Wrapper(val_original_source, transform_lambda)\n",
    "test_processed_source  = Lazy_Iterable_Wrapper(test_original_source, transform_lambda)\n",
    "\n",
    "train_processed_target = Lazy_Iterable_Wrapper(train_original_target, transform_lambda)\n",
    "val_processed_target   = Lazy_Iterable_Wrapper(val_original_target, transform_lambda)\n",
    "test_processed_target  = Lazy_Iterable_Wrapper(test_original_target, transform_lambda)\n",
    "\n",
    "datasets = EasyDict({\n",
    "    \"source\": {\n",
    "        \"original\": {\"train\":train_original_source, \"val\":val_original_source, \"test\":test_original_source},\n",
    "        \"processed\": {\"train\":train_processed_source, \"val\":val_processed_source, \"test\":test_processed_source}\n",
    "    },\n",
    "    \"target\": {\n",
    "        \"original\": {\"train\":train_original_target, \"val\":val_original_target, \"test\":test_original_target},\n",
    "        \"processed\": {\"train\":train_processed_target, \"val\":val_processed_target, \"test\":test_processed_target}\n",
    "    },\n",
    "})"
   ]
  },
  {
   "cell_type": "code",
   "execution_count": 11,
   "id": "296189d9",
   "metadata": {
    "execution": {
     "iopub.execute_input": "2022-03-22T17:04:27.000818Z",
     "iopub.status.busy": "2022-03-22T17:04:27.000217Z",
     "iopub.status.idle": "2022-03-22T17:04:28.784317Z",
     "shell.execute_reply": "2022-03-22T17:04:28.784687Z"
    },
    "papermill": {
     "duration": 1.798018,
     "end_time": "2022-03-22T17:04:28.784818",
     "exception": false,
     "start_time": "2022-03-22T17:04:26.986800",
     "status": "completed"
    },
    "tags": []
   },
   "outputs": [
    {
     "name": "stdout",
     "output_type": "stream",
     "text": [
      "Visually inspect these to see if they line up with expected values given the transforms\n",
      "x_transforms_source ['unit_power']\n",
      "x_transforms_target ['unit_power']\n",
      "Average magnitude, source: 0.90923333\n",
      "Average power, source: 1.0\n"
     ]
    },
    {
     "name": "stdout",
     "output_type": "stream",
     "text": [
      "Average magnitude, target: 0.8553287\n",
      "Average power, target: 1.0\n"
     ]
    }
   ],
   "source": [
    "# Some quick unit tests on the data\n",
    "from steves_utils.transforms import get_average_power, get_average_magnitude\n",
    "\n",
    "q_x, q_y, s_x, s_y, truth = next(iter(train_processed_source))\n",
    "\n",
    "assert q_x.dtype == eval(p.torch_default_dtype)\n",
    "assert s_x.dtype == eval(p.torch_default_dtype)\n",
    "\n",
    "print(\"Visually inspect these to see if they line up with expected values given the transforms\")\n",
    "print('x_transforms_source', p.x_transforms_source)\n",
    "print('x_transforms_target', p.x_transforms_target)\n",
    "print(\"Average magnitude, source:\", get_average_magnitude(q_x[0].numpy()))\n",
    "print(\"Average power, source:\", get_average_power(q_x[0].numpy()))\n",
    "\n",
    "q_x, q_y, s_x, s_y, truth = next(iter(train_processed_target))\n",
    "print(\"Average magnitude, target:\", get_average_magnitude(q_x[0].numpy()))\n",
    "print(\"Average power, target:\", get_average_power(q_x[0].numpy()))\n"
   ]
  },
  {
   "cell_type": "code",
   "execution_count": 12,
   "id": "bbdacba1",
   "metadata": {
    "execution": {
     "iopub.execute_input": "2022-03-22T17:04:28.820094Z",
     "iopub.status.busy": "2022-03-22T17:04:28.819792Z",
     "iopub.status.idle": "2022-03-22T17:04:28.886560Z",
     "shell.execute_reply": "2022-03-22T17:04:28.886090Z"
    },
    "papermill": {
     "duration": 0.085585,
     "end_time": "2022-03-22T17:04:28.886660",
     "exception": false,
     "start_time": "2022-03-22T17:04:28.801075",
     "status": "completed"
    },
    "tags": []
   },
   "outputs": [
    {
     "name": "stdout",
     "output_type": "stream",
     "text": [
      "(2, 256)\n"
     ]
    }
   ],
   "source": [
    "###################################\n",
    "# Build the model\n",
    "###################################\n",
    "model = Steves_Prototypical_Network(x_net, device=p.device, x_shape=(2,256))\n",
    "optimizer = Adam(params=model.parameters(), lr=p.lr)"
   ]
  },
  {
   "cell_type": "code",
   "execution_count": 13,
   "id": "22b39ac5",
   "metadata": {
    "execution": {
     "iopub.execute_input": "2022-03-22T17:04:28.912663Z",
     "iopub.status.busy": "2022-03-22T17:04:28.912407Z",
     "iopub.status.idle": "2022-03-22T17:08:36.275731Z",
     "shell.execute_reply": "2022-03-22T17:08:36.275497Z"
    },
    "papermill": {
     "duration": 247.375923,
     "end_time": "2022-03-22T17:08:36.275790",
     "exception": false,
     "start_time": "2022-03-22T17:04:28.899867",
     "status": "completed"
    },
    "tags": []
   },
   "outputs": [
    {
     "name": "stdout",
     "output_type": "stream",
     "text": [
      "epoch: 1, [batch: 1 / 45], examples_per_second: 1974.9125, train_label_loss: 4.6196, \n"
     ]
    },
    {
     "name": "stdout",
     "output_type": "stream",
     "text": [
      "epoch: 1, [batch: 5 / 45], examples_per_second: 3930.0150, train_label_loss: 4.1876, \n"
     ]
    },
    {
     "name": "stdout",
     "output_type": "stream",
     "text": [
      "epoch: 1, [batch: 9 / 45], examples_per_second: 4027.4142, train_label_loss: 3.5192, \n"
     ]
    },
    {
     "name": "stdout",
     "output_type": "stream",
     "text": [
      "epoch: 1, [batch: 14 / 45], examples_per_second: 4025.6943, train_label_loss: 2.8488, \n"
     ]
    },
    {
     "name": "stdout",
     "output_type": "stream",
     "text": [
      "epoch: 1, [batch: 18 / 45], examples_per_second: 3988.5077, train_label_loss: 2.5288, \n"
     ]
    },
    {
     "name": "stdout",
     "output_type": "stream",
     "text": [
      "epoch: 1, [batch: 23 / 45], examples_per_second: 3957.2156, train_label_loss: 2.1442, \n"
     ]
    },
    {
     "name": "stdout",
     "output_type": "stream",
     "text": [
      "epoch: 1, [batch: 27 / 45], examples_per_second: 4021.3148, train_label_loss: 1.8538, \n"
     ]
    },
    {
     "name": "stdout",
     "output_type": "stream",
     "text": [
      "epoch: 1, [batch: 31 / 45], examples_per_second: 4049.3648, train_label_loss: 1.8110, \n"
     ]
    },
    {
     "name": "stdout",
     "output_type": "stream",
     "text": [
      "epoch: 1, [batch: 36 / 45], examples_per_second: 4106.2966, train_label_loss: 1.6702, \n"
     ]
    },
    {
     "name": "stdout",
     "output_type": "stream",
     "text": [
      "epoch: 1, [batch: 40 / 45], examples_per_second: 4162.5009, train_label_loss: 1.5955, \n"
     ]
    },
    {
     "name": "stdout",
     "output_type": "stream",
     "text": [
      "=============================================================\n",
      "epoch: 1, source_val_acc_label: 0.7712, target_val_acc_label: 0.7079, source_val_label_loss: 1.4131, target_val_label_loss: 1.6553, \n",
      "=============================================================\n"
     ]
    },
    {
     "name": "stdout",
     "output_type": "stream",
     "text": [
      "New best\n"
     ]
    },
    {
     "name": "stdout",
     "output_type": "stream",
     "text": [
      "epoch: 2, [batch: 1 / 45], examples_per_second: 497.2390, train_label_loss: 1.2839, \n"
     ]
    },
    {
     "name": "stdout",
     "output_type": "stream",
     "text": [
      "epoch: 2, [batch: 5 / 45], examples_per_second: 3995.0918, train_label_loss: 1.1727, \n"
     ]
    },
    {
     "name": "stdout",
     "output_type": "stream",
     "text": [
      "epoch: 2, [batch: 9 / 45], examples_per_second: 4090.2358, train_label_loss: 1.3283, \n"
     ]
    },
    {
     "name": "stdout",
     "output_type": "stream",
     "text": [
      "epoch: 2, [batch: 14 / 45], examples_per_second: 4087.7312, train_label_loss: 1.2261, \n"
     ]
    },
    {
     "name": "stdout",
     "output_type": "stream",
     "text": [
      "epoch: 2, [batch: 18 / 45], examples_per_second: 4080.3767, train_label_loss: 0.9835, \n"
     ]
    },
    {
     "name": "stdout",
     "output_type": "stream",
     "text": [
      "epoch: 2, [batch: 23 / 45], examples_per_second: 4041.6035, train_label_loss: 1.2913, \n"
     ]
    },
    {
     "name": "stdout",
     "output_type": "stream",
     "text": [
      "epoch: 2, [batch: 27 / 45], examples_per_second: 4136.9562, train_label_loss: 1.2404, \n"
     ]
    },
    {
     "name": "stdout",
     "output_type": "stream",
     "text": [
      "epoch: 2, [batch: 31 / 45], examples_per_second: 4137.0755, train_label_loss: 0.8966, \n"
     ]
    },
    {
     "name": "stdout",
     "output_type": "stream",
     "text": [
      "epoch: 2, [batch: 36 / 45], examples_per_second: 4172.7929, train_label_loss: 0.8594, \n"
     ]
    },
    {
     "name": "stdout",
     "output_type": "stream",
     "text": [
      "epoch: 2, [batch: 40 / 45], examples_per_second: 4232.7915, train_label_loss: 1.0818, \n"
     ]
    },
    {
     "name": "stdout",
     "output_type": "stream",
     "text": [
      "=============================================================\n",
      "epoch: 2, source_val_acc_label: 0.8308, target_val_acc_label: 0.7699, source_val_label_loss: 0.9340, target_val_label_loss: 1.2729, \n",
      "=============================================================\n"
     ]
    },
    {
     "name": "stdout",
     "output_type": "stream",
     "text": [
      "New best\n"
     ]
    },
    {
     "name": "stdout",
     "output_type": "stream",
     "text": [
      "epoch: 3, [batch: 1 / 45], examples_per_second: 494.7388, train_label_loss: 1.0586, \n"
     ]
    },
    {
     "name": "stdout",
     "output_type": "stream",
     "text": [
      "epoch: 3, [batch: 5 / 45], examples_per_second: 3991.3704, train_label_loss: 0.8720, \n"
     ]
    },
    {
     "name": "stdout",
     "output_type": "stream",
     "text": [
      "epoch: 3, [batch: 9 / 45], examples_per_second: 4092.1743, train_label_loss: 0.7415, \n"
     ]
    },
    {
     "name": "stdout",
     "output_type": "stream",
     "text": [
      "epoch: 3, [batch: 14 / 45], examples_per_second: 4091.4451, train_label_loss: 0.9470, \n"
     ]
    },
    {
     "name": "stdout",
     "output_type": "stream",
     "text": [
      "epoch: 3, [batch: 18 / 45], examples_per_second: 4091.6661, train_label_loss: 0.6145, \n"
     ]
    },
    {
     "name": "stdout",
     "output_type": "stream",
     "text": [
      "epoch: 3, [batch: 23 / 45], examples_per_second: 4043.2111, train_label_loss: 0.6484, \n"
     ]
    },
    {
     "name": "stdout",
     "output_type": "stream",
     "text": [
      "epoch: 3, [batch: 27 / 45], examples_per_second: 4143.2559, train_label_loss: 0.6583, \n"
     ]
    },
    {
     "name": "stdout",
     "output_type": "stream",
     "text": [
      "epoch: 3, [batch: 31 / 45], examples_per_second: 4146.8860, train_label_loss: 0.7516, \n"
     ]
    },
    {
     "name": "stdout",
     "output_type": "stream",
     "text": [
      "epoch: 3, [batch: 36 / 45], examples_per_second: 4179.7828, train_label_loss: 0.7370, \n"
     ]
    },
    {
     "name": "stdout",
     "output_type": "stream",
     "text": [
      "epoch: 3, [batch: 40 / 45], examples_per_second: 4237.4329, train_label_loss: 0.5880, \n"
     ]
    },
    {
     "name": "stdout",
     "output_type": "stream",
     "text": [
      "=============================================================\n",
      "epoch: 3, source_val_acc_label: 0.8705, target_val_acc_label: 0.7953, source_val_label_loss: 0.6658, target_val_label_loss: 1.0975, \n",
      "=============================================================\n"
     ]
    },
    {
     "name": "stdout",
     "output_type": "stream",
     "text": [
      "New best\n"
     ]
    },
    {
     "name": "stdout",
     "output_type": "stream",
     "text": [
      "epoch: 4, [batch: 1 / 45], examples_per_second: 494.4246, train_label_loss: 0.7797, \n"
     ]
    },
    {
     "name": "stdout",
     "output_type": "stream",
     "text": [
      "epoch: 4, [batch: 5 / 45], examples_per_second: 3984.2745, train_label_loss: 0.6898, \n"
     ]
    },
    {
     "name": "stdout",
     "output_type": "stream",
     "text": [
      "epoch: 4, [batch: 9 / 45], examples_per_second: 4080.4454, train_label_loss: 0.7324, \n"
     ]
    },
    {
     "name": "stdout",
     "output_type": "stream",
     "text": [
      "epoch: 4, [batch: 14 / 45], examples_per_second: 4085.8651, train_label_loss: 0.7499, \n"
     ]
    },
    {
     "name": "stdout",
     "output_type": "stream",
     "text": [
      "epoch: 4, [batch: 18 / 45], examples_per_second: 4088.4248, train_label_loss: 0.5034, \n"
     ]
    },
    {
     "name": "stdout",
     "output_type": "stream",
     "text": [
      "epoch: 4, [batch: 23 / 45], examples_per_second: 4028.6711, train_label_loss: 0.4422, \n"
     ]
    },
    {
     "name": "stdout",
     "output_type": "stream",
     "text": [
      "epoch: 4, [batch: 27 / 45], examples_per_second: 4119.6014, train_label_loss: 0.5628, \n"
     ]
    },
    {
     "name": "stdout",
     "output_type": "stream",
     "text": [
      "epoch: 4, [batch: 31 / 45], examples_per_second: 4131.7509, train_label_loss: 0.3467, \n"
     ]
    },
    {
     "name": "stdout",
     "output_type": "stream",
     "text": [
      "epoch: 4, [batch: 36 / 45], examples_per_second: 4168.1766, train_label_loss: 0.5542, \n"
     ]
    },
    {
     "name": "stdout",
     "output_type": "stream",
     "text": [
      "epoch: 4, [batch: 40 / 45], examples_per_second: 4236.9357, train_label_loss: 0.4026, \n"
     ]
    },
    {
     "name": "stdout",
     "output_type": "stream",
     "text": [
      "=============================================================\n",
      "epoch: 4, source_val_acc_label: 0.8917, target_val_acc_label: 0.8171, source_val_label_loss: 0.5017, target_val_label_loss: 0.9741, \n",
      "=============================================================\n"
     ]
    },
    {
     "name": "stdout",
     "output_type": "stream",
     "text": [
      "New best\n"
     ]
    },
    {
     "name": "stdout",
     "output_type": "stream",
     "text": [
      "epoch: 5, [batch: 1 / 45], examples_per_second: 489.5513, train_label_loss: 0.4439, \n"
     ]
    },
    {
     "name": "stdout",
     "output_type": "stream",
     "text": [
      "epoch: 5, [batch: 5 / 45], examples_per_second: 3985.9405, train_label_loss: 0.5370, \n"
     ]
    },
    {
     "name": "stdout",
     "output_type": "stream",
     "text": [
      "epoch: 5, [batch: 9 / 45], examples_per_second: 4089.4459, train_label_loss: 0.2912, \n"
     ]
    },
    {
     "name": "stdout",
     "output_type": "stream",
     "text": [
      "epoch: 5, [batch: 14 / 45], examples_per_second: 4085.1256, train_label_loss: 0.5796, \n"
     ]
    },
    {
     "name": "stdout",
     "output_type": "stream",
     "text": [
      "epoch: 5, [batch: 18 / 45], examples_per_second: 4093.7981, train_label_loss: 0.5310, \n"
     ]
    },
    {
     "name": "stdout",
     "output_type": "stream",
     "text": [
      "epoch: 5, [batch: 23 / 45], examples_per_second: 4035.9172, train_label_loss: 0.5659, \n"
     ]
    },
    {
     "name": "stdout",
     "output_type": "stream",
     "text": [
      "epoch: 5, [batch: 27 / 45], examples_per_second: 4140.4212, train_label_loss: 0.3834, \n"
     ]
    },
    {
     "name": "stdout",
     "output_type": "stream",
     "text": [
      "epoch: 5, [batch: 31 / 45], examples_per_second: 4136.7915, train_label_loss: 0.4578, \n"
     ]
    },
    {
     "name": "stdout",
     "output_type": "stream",
     "text": [
      "epoch: 5, [batch: 36 / 45], examples_per_second: 4170.7144, train_label_loss: 0.3505, \n"
     ]
    },
    {
     "name": "stdout",
     "output_type": "stream",
     "text": [
      "epoch: 5, [batch: 40 / 45], examples_per_second: 4219.6870, train_label_loss: 0.4375, \n"
     ]
    },
    {
     "name": "stdout",
     "output_type": "stream",
     "text": [
      "=============================================================\n",
      "epoch: 5, source_val_acc_label: 0.9231, target_val_acc_label: 0.8263, source_val_label_loss: 0.4050, target_val_label_loss: 0.9337, \n",
      "=============================================================\n"
     ]
    },
    {
     "name": "stdout",
     "output_type": "stream",
     "text": [
      "New best\n"
     ]
    },
    {
     "name": "stdout",
     "output_type": "stream",
     "text": [
      "epoch: 6, [batch: 1 / 45], examples_per_second: 485.5085, train_label_loss: 0.3089, \n"
     ]
    },
    {
     "name": "stdout",
     "output_type": "stream",
     "text": [
      "epoch: 6, [batch: 5 / 45], examples_per_second: 3974.1528, train_label_loss: 0.2951, \n"
     ]
    },
    {
     "name": "stdout",
     "output_type": "stream",
     "text": [
      "epoch: 6, [batch: 9 / 45], examples_per_second: 4081.0349, train_label_loss: 0.2258, \n"
     ]
    },
    {
     "name": "stdout",
     "output_type": "stream",
     "text": [
      "epoch: 6, [batch: 14 / 45], examples_per_second: 4091.4230, train_label_loss: 0.2753, \n"
     ]
    },
    {
     "name": "stdout",
     "output_type": "stream",
     "text": [
      "epoch: 6, [batch: 18 / 45], examples_per_second: 4072.1504, train_label_loss: 0.2190, \n"
     ]
    },
    {
     "name": "stdout",
     "output_type": "stream",
     "text": [
      "epoch: 6, [batch: 23 / 45], examples_per_second: 4022.0086, train_label_loss: 0.3536, \n"
     ]
    },
    {
     "name": "stdout",
     "output_type": "stream",
     "text": [
      "epoch: 6, [batch: 27 / 45], examples_per_second: 4136.8291, train_label_loss: 0.3352, \n"
     ]
    },
    {
     "name": "stdout",
     "output_type": "stream",
     "text": [
      "epoch: 6, [batch: 31 / 45], examples_per_second: 4130.5130, train_label_loss: 0.3142, \n"
     ]
    },
    {
     "name": "stdout",
     "output_type": "stream",
     "text": [
      "epoch: 6, [batch: 36 / 45], examples_per_second: 4133.9596, train_label_loss: 0.1789, \n"
     ]
    },
    {
     "name": "stdout",
     "output_type": "stream",
     "text": [
      "epoch: 6, [batch: 40 / 45], examples_per_second: 4228.4864, train_label_loss: 0.2142, \n"
     ]
    },
    {
     "name": "stdout",
     "output_type": "stream",
     "text": [
      "=============================================================\n",
      "epoch: 6, source_val_acc_label: 0.9442, target_val_acc_label: 0.8429, source_val_label_loss: 0.3294, target_val_label_loss: 0.8551, \n",
      "=============================================================\n"
     ]
    },
    {
     "name": "stdout",
     "output_type": "stream",
     "text": [
      "New best\n"
     ]
    },
    {
     "name": "stdout",
     "output_type": "stream",
     "text": [
      "epoch: 7, [batch: 1 / 45], examples_per_second: 492.7806, train_label_loss: 0.4200, \n"
     ]
    },
    {
     "name": "stdout",
     "output_type": "stream",
     "text": [
      "epoch: 7, [batch: 5 / 45], examples_per_second: 3963.7970, train_label_loss: 0.2693, \n"
     ]
    },
    {
     "name": "stdout",
     "output_type": "stream",
     "text": [
      "epoch: 7, [batch: 9 / 45], examples_per_second: 4072.5230, train_label_loss: 0.2945, \n"
     ]
    },
    {
     "name": "stdout",
     "output_type": "stream",
     "text": [
      "epoch: 7, [batch: 14 / 45], examples_per_second: 4078.5241, train_label_loss: 0.2243, \n"
     ]
    },
    {
     "name": "stdout",
     "output_type": "stream",
     "text": [
      "epoch: 7, [batch: 18 / 45], examples_per_second: 4070.1777, train_label_loss: 0.2472, \n"
     ]
    },
    {
     "name": "stdout",
     "output_type": "stream",
     "text": [
      "epoch: 7, [batch: 23 / 45], examples_per_second: 4019.8393, train_label_loss: 0.3317, \n"
     ]
    },
    {
     "name": "stdout",
     "output_type": "stream",
     "text": [
      "epoch: 7, [batch: 27 / 45], examples_per_second: 4119.9329, train_label_loss: 0.2223, \n"
     ]
    },
    {
     "name": "stdout",
     "output_type": "stream",
     "text": [
      "epoch: 7, [batch: 31 / 45], examples_per_second: 4113.7272, train_label_loss: 0.3049, \n"
     ]
    },
    {
     "name": "stdout",
     "output_type": "stream",
     "text": [
      "epoch: 7, [batch: 36 / 45], examples_per_second: 4158.3452, train_label_loss: 0.1677, \n"
     ]
    },
    {
     "name": "stdout",
     "output_type": "stream",
     "text": [
      "epoch: 7, [batch: 40 / 45], examples_per_second: 4218.9687, train_label_loss: 0.4558, \n"
     ]
    },
    {
     "name": "stdout",
     "output_type": "stream",
     "text": [
      "=============================================================\n",
      "epoch: 7, source_val_acc_label: 0.9500, target_val_acc_label: 0.8481, source_val_label_loss: 0.2966, target_val_label_loss: 0.8203, \n",
      "=============================================================\n"
     ]
    },
    {
     "name": "stdout",
     "output_type": "stream",
     "text": [
      "New best\n"
     ]
    },
    {
     "name": "stdout",
     "output_type": "stream",
     "text": [
      "epoch: 8, [batch: 1 / 45], examples_per_second: 488.2873, train_label_loss: 0.2953, \n"
     ]
    },
    {
     "name": "stdout",
     "output_type": "stream",
     "text": [
      "epoch: 8, [batch: 5 / 45], examples_per_second: 3945.3780, train_label_loss: 0.1482, \n"
     ]
    },
    {
     "name": "stdout",
     "output_type": "stream",
     "text": [
      "epoch: 8, [batch: 9 / 45], examples_per_second: 4070.8234, train_label_loss: 0.2533, \n"
     ]
    },
    {
     "name": "stdout",
     "output_type": "stream",
     "text": [
      "epoch: 8, [batch: 14 / 45], examples_per_second: 4074.9006, train_label_loss: 0.1964, \n"
     ]
    },
    {
     "name": "stdout",
     "output_type": "stream",
     "text": [
      "epoch: 8, [batch: 18 / 45], examples_per_second: 4069.8617, train_label_loss: 0.2802, \n"
     ]
    },
    {
     "name": "stdout",
     "output_type": "stream",
     "text": [
      "epoch: 8, [batch: 23 / 45], examples_per_second: 4019.0724, train_label_loss: 0.1861, \n"
     ]
    },
    {
     "name": "stdout",
     "output_type": "stream",
     "text": [
      "epoch: 8, [batch: 27 / 45], examples_per_second: 4120.4497, train_label_loss: 0.2128, \n"
     ]
    },
    {
     "name": "stdout",
     "output_type": "stream",
     "text": [
      "epoch: 8, [batch: 31 / 45], examples_per_second: 4131.6992, train_label_loss: 0.2665, \n"
     ]
    },
    {
     "name": "stdout",
     "output_type": "stream",
     "text": [
      "epoch: 8, [batch: 36 / 45], examples_per_second: 4169.0842, train_label_loss: 0.1685, \n"
     ]
    },
    {
     "name": "stdout",
     "output_type": "stream",
     "text": [
      "epoch: 8, [batch: 40 / 45], examples_per_second: 4217.8640, train_label_loss: 0.3054, \n"
     ]
    },
    {
     "name": "stdout",
     "output_type": "stream",
     "text": [
      "=============================================================\n",
      "epoch: 8, source_val_acc_label: 0.9590, target_val_acc_label: 0.8470, source_val_label_loss: 0.2689, target_val_label_loss: 0.8218, \n",
      "=============================================================\n"
     ]
    },
    {
     "name": "stdout",
     "output_type": "stream",
     "text": [
      "epoch: 9, [batch: 1 / 45], examples_per_second: 503.5877, train_label_loss: 0.2141, \n"
     ]
    },
    {
     "name": "stdout",
     "output_type": "stream",
     "text": [
      "epoch: 9, [batch: 5 / 45], examples_per_second: 3962.4374, train_label_loss: 0.2194, \n"
     ]
    },
    {
     "name": "stdout",
     "output_type": "stream",
     "text": [
      "epoch: 9, [batch: 9 / 45], examples_per_second: 4066.5517, train_label_loss: 0.1505, \n"
     ]
    },
    {
     "name": "stdout",
     "output_type": "stream",
     "text": [
      "epoch: 9, [batch: 14 / 45], examples_per_second: 4070.2564, train_label_loss: 0.2406, \n"
     ]
    },
    {
     "name": "stdout",
     "output_type": "stream",
     "text": [
      "epoch: 9, [batch: 18 / 45], examples_per_second: 4072.8911, train_label_loss: 0.2393, \n"
     ]
    },
    {
     "name": "stdout",
     "output_type": "stream",
     "text": [
      "epoch: 9, [batch: 23 / 45], examples_per_second: 4015.0890, train_label_loss: 0.2079, \n"
     ]
    },
    {
     "name": "stdout",
     "output_type": "stream",
     "text": [
      "epoch: 9, [batch: 27 / 45], examples_per_second: 4127.9082, train_label_loss: 0.1062, \n"
     ]
    },
    {
     "name": "stdout",
     "output_type": "stream",
     "text": [
      "epoch: 9, [batch: 31 / 45], examples_per_second: 4121.9215, train_label_loss: 0.2645, \n"
     ]
    },
    {
     "name": "stdout",
     "output_type": "stream",
     "text": [
      "epoch: 9, [batch: 36 / 45], examples_per_second: 4162.0551, train_label_loss: 0.1458, \n"
     ]
    },
    {
     "name": "stdout",
     "output_type": "stream",
     "text": [
      "epoch: 9, [batch: 40 / 45], examples_per_second: 4204.7398, train_label_loss: 0.0760, \n"
     ]
    },
    {
     "name": "stdout",
     "output_type": "stream",
     "text": [
      "=============================================================\n",
      "epoch: 9, source_val_acc_label: 0.9615, target_val_acc_label: 0.8517, source_val_label_loss: 0.2440, target_val_label_loss: 0.7921, \n",
      "=============================================================\n"
     ]
    },
    {
     "name": "stdout",
     "output_type": "stream",
     "text": [
      "New best\n"
     ]
    },
    {
     "name": "stdout",
     "output_type": "stream",
     "text": [
      "epoch: 10, [batch: 1 / 45], examples_per_second: 487.1197, train_label_loss: 0.2605, \n"
     ]
    },
    {
     "name": "stdout",
     "output_type": "stream",
     "text": [
      "epoch: 10, [batch: 5 / 45], examples_per_second: 3978.3500, train_label_loss: 0.1544, \n"
     ]
    },
    {
     "name": "stdout",
     "output_type": "stream",
     "text": [
      "epoch: 10, [batch: 9 / 45], examples_per_second: 4080.3828, train_label_loss: 0.2166, \n"
     ]
    },
    {
     "name": "stdout",
     "output_type": "stream",
     "text": [
      "epoch: 10, [batch: 14 / 45], examples_per_second: 4074.0968, train_label_loss: 0.1748, \n"
     ]
    },
    {
     "name": "stdout",
     "output_type": "stream",
     "text": [
      "epoch: 10, [batch: 18 / 45], examples_per_second: 4077.1274, train_label_loss: 0.1142, \n"
     ]
    },
    {
     "name": "stdout",
     "output_type": "stream",
     "text": [
      "epoch: 10, [batch: 23 / 45], examples_per_second: 4027.1905, train_label_loss: 0.1872, \n"
     ]
    },
    {
     "name": "stdout",
     "output_type": "stream",
     "text": [
      "epoch: 10, [batch: 27 / 45], examples_per_second: 4132.4633, train_label_loss: 0.1974, \n"
     ]
    },
    {
     "name": "stdout",
     "output_type": "stream",
     "text": [
      "epoch: 10, [batch: 31 / 45], examples_per_second: 4131.1905, train_label_loss: 0.0908, \n"
     ]
    },
    {
     "name": "stdout",
     "output_type": "stream",
     "text": [
      "epoch: 10, [batch: 36 / 45], examples_per_second: 4167.4617, train_label_loss: 0.2183, \n"
     ]
    },
    {
     "name": "stdout",
     "output_type": "stream",
     "text": [
      "epoch: 10, [batch: 40 / 45], examples_per_second: 4214.2390, train_label_loss: 0.1025, \n"
     ]
    },
    {
     "name": "stdout",
     "output_type": "stream",
     "text": [
      "=============================================================\n",
      "epoch: 10, source_val_acc_label: 0.9609, target_val_acc_label: 0.8498, source_val_label_loss: 0.2452, target_val_label_loss: 0.7995, \n",
      "=============================================================\n"
     ]
    },
    {
     "name": "stdout",
     "output_type": "stream",
     "text": [
      "epoch: 11, [batch: 1 / 45], examples_per_second: 503.8871, train_label_loss: 0.2325, \n"
     ]
    },
    {
     "name": "stdout",
     "output_type": "stream",
     "text": [
      "epoch: 11, [batch: 5 / 45], examples_per_second: 3974.9886, train_label_loss: 0.1287, \n"
     ]
    },
    {
     "name": "stdout",
     "output_type": "stream",
     "text": [
      "epoch: 11, [batch: 9 / 45], examples_per_second: 4073.0995, train_label_loss: 0.1373, \n"
     ]
    },
    {
     "name": "stdout",
     "output_type": "stream",
     "text": [
      "epoch: 11, [batch: 14 / 45], examples_per_second: 4069.5455, train_label_loss: 0.1236, \n"
     ]
    },
    {
     "name": "stdout",
     "output_type": "stream",
     "text": [
      "epoch: 11, [batch: 18 / 45], examples_per_second: 4061.6989, train_label_loss: 0.0686, \n"
     ]
    },
    {
     "name": "stdout",
     "output_type": "stream",
     "text": [
      "epoch: 11, [batch: 23 / 45], examples_per_second: 4009.5819, train_label_loss: 0.1013, \n"
     ]
    },
    {
     "name": "stdout",
     "output_type": "stream",
     "text": [
      "epoch: 11, [batch: 27 / 45], examples_per_second: 4119.1423, train_label_loss: 0.1299, \n"
     ]
    },
    {
     "name": "stdout",
     "output_type": "stream",
     "text": [
      "epoch: 11, [batch: 31 / 45], examples_per_second: 4116.7150, train_label_loss: 0.1064, \n"
     ]
    },
    {
     "name": "stdout",
     "output_type": "stream",
     "text": [
      "epoch: 11, [batch: 36 / 45], examples_per_second: 4141.6955, train_label_loss: 0.0984, \n"
     ]
    },
    {
     "name": "stdout",
     "output_type": "stream",
     "text": [
      "epoch: 11, [batch: 40 / 45], examples_per_second: 4222.7344, train_label_loss: 0.2376, \n"
     ]
    },
    {
     "name": "stdout",
     "output_type": "stream",
     "text": [
      "=============================================================\n",
      "epoch: 11, source_val_acc_label: 0.9622, target_val_acc_label: 0.8571, source_val_label_loss: 0.2272, target_val_label_loss: 0.7839, \n",
      "=============================================================\n"
     ]
    },
    {
     "name": "stdout",
     "output_type": "stream",
     "text": [
      "New best\n"
     ]
    },
    {
     "name": "stdout",
     "output_type": "stream",
     "text": [
      "epoch: 12, [batch: 1 / 45], examples_per_second: 486.5735, train_label_loss: 0.1432, \n"
     ]
    },
    {
     "name": "stdout",
     "output_type": "stream",
     "text": [
      "epoch: 12, [batch: 5 / 45], examples_per_second: 3975.1625, train_label_loss: 0.2046, \n"
     ]
    },
    {
     "name": "stdout",
     "output_type": "stream",
     "text": [
      "epoch: 12, [batch: 9 / 45], examples_per_second: 4053.4723, train_label_loss: 0.1508, \n"
     ]
    },
    {
     "name": "stdout",
     "output_type": "stream",
     "text": [
      "epoch: 12, [batch: 14 / 45], examples_per_second: 4068.6297, train_label_loss: 0.1394, \n"
     ]
    },
    {
     "name": "stdout",
     "output_type": "stream",
     "text": [
      "epoch: 12, [batch: 18 / 45], examples_per_second: 4023.6799, train_label_loss: 0.1584, \n"
     ]
    },
    {
     "name": "stdout",
     "output_type": "stream",
     "text": [
      "epoch: 12, [batch: 23 / 45], examples_per_second: 4004.2970, train_label_loss: 0.2116, \n"
     ]
    },
    {
     "name": "stdout",
     "output_type": "stream",
     "text": [
      "epoch: 12, [batch: 27 / 45], examples_per_second: 4085.7610, train_label_loss: 0.1237, \n"
     ]
    },
    {
     "name": "stdout",
     "output_type": "stream",
     "text": [
      "epoch: 12, [batch: 31 / 45], examples_per_second: 4117.2450, train_label_loss: 0.1819, \n"
     ]
    },
    {
     "name": "stdout",
     "output_type": "stream",
     "text": [
      "epoch: 12, [batch: 36 / 45], examples_per_second: 4164.3896, train_label_loss: 0.1235, \n"
     ]
    },
    {
     "name": "stdout",
     "output_type": "stream",
     "text": [
      "epoch: 12, [batch: 40 / 45], examples_per_second: 4218.1724, train_label_loss: 0.1278, \n"
     ]
    },
    {
     "name": "stdout",
     "output_type": "stream",
     "text": [
      "=============================================================\n",
      "epoch: 12, source_val_acc_label: 0.9654, target_val_acc_label: 0.8596, source_val_label_loss: 0.2266, target_val_label_loss: 0.7597, \n",
      "=============================================================\n"
     ]
    },
    {
     "name": "stdout",
     "output_type": "stream",
     "text": [
      "New best\n"
     ]
    },
    {
     "name": "stdout",
     "output_type": "stream",
     "text": [
      "epoch: 13, [batch: 1 / 45], examples_per_second: 488.6550, train_label_loss: 0.1071, \n"
     ]
    },
    {
     "name": "stdout",
     "output_type": "stream",
     "text": [
      "epoch: 13, [batch: 5 / 45], examples_per_second: 3954.6765, train_label_loss: 0.1412, \n"
     ]
    },
    {
     "name": "stdout",
     "output_type": "stream",
     "text": [
      "epoch: 13, [batch: 9 / 45], examples_per_second: 4063.9860, train_label_loss: 0.2962, \n"
     ]
    },
    {
     "name": "stdout",
     "output_type": "stream",
     "text": [
      "epoch: 13, [batch: 14 / 45], examples_per_second: 4064.3280, train_label_loss: 0.0764, \n"
     ]
    },
    {
     "name": "stdout",
     "output_type": "stream",
     "text": [
      "epoch: 13, [batch: 18 / 45], examples_per_second: 4075.2670, train_label_loss: 0.1348, \n"
     ]
    },
    {
     "name": "stdout",
     "output_type": "stream",
     "text": [
      "epoch: 13, [batch: 23 / 45], examples_per_second: 4028.9271, train_label_loss: 0.1865, \n"
     ]
    },
    {
     "name": "stdout",
     "output_type": "stream",
     "text": [
      "epoch: 13, [batch: 27 / 45], examples_per_second: 4131.9591, train_label_loss: 0.1973, \n"
     ]
    },
    {
     "name": "stdout",
     "output_type": "stream",
     "text": [
      "epoch: 13, [batch: 31 / 45], examples_per_second: 4130.2142, train_label_loss: 0.1193, \n"
     ]
    },
    {
     "name": "stdout",
     "output_type": "stream",
     "text": [
      "epoch: 13, [batch: 36 / 45], examples_per_second: 4167.9943, train_label_loss: 0.0899, \n"
     ]
    },
    {
     "name": "stdout",
     "output_type": "stream",
     "text": [
      "epoch: 13, [batch: 40 / 45], examples_per_second: 4212.4223, train_label_loss: 0.0916, \n"
     ]
    },
    {
     "name": "stdout",
     "output_type": "stream",
     "text": [
      "=============================================================\n",
      "epoch: 13, source_val_acc_label: 0.9654, target_val_acc_label: 0.8605, source_val_label_loss: 0.2203, target_val_label_loss: 0.7753, \n",
      "=============================================================\n"
     ]
    },
    {
     "name": "stdout",
     "output_type": "stream",
     "text": [
      "New best\n"
     ]
    },
    {
     "name": "stdout",
     "output_type": "stream",
     "text": [
      "epoch: 14, [batch: 1 / 45], examples_per_second: 487.6229, train_label_loss: 0.1694, \n"
     ]
    },
    {
     "name": "stdout",
     "output_type": "stream",
     "text": [
      "epoch: 14, [batch: 5 / 45], examples_per_second: 3964.4310, train_label_loss: 0.0524, \n"
     ]
    },
    {
     "name": "stdout",
     "output_type": "stream",
     "text": [
      "epoch: 14, [batch: 9 / 45], examples_per_second: 4066.5987, train_label_loss: 0.1916, \n"
     ]
    },
    {
     "name": "stdout",
     "output_type": "stream",
     "text": [
      "epoch: 14, [batch: 14 / 45], examples_per_second: 4067.7834, train_label_loss: 0.0733, \n"
     ]
    },
    {
     "name": "stdout",
     "output_type": "stream",
     "text": [
      "epoch: 14, [batch: 18 / 45], examples_per_second: 4067.1614, train_label_loss: 0.0893, \n"
     ]
    },
    {
     "name": "stdout",
     "output_type": "stream",
     "text": [
      "epoch: 14, [batch: 23 / 45], examples_per_second: 4021.7321, train_label_loss: 0.1128, \n"
     ]
    },
    {
     "name": "stdout",
     "output_type": "stream",
     "text": [
      "epoch: 14, [batch: 27 / 45], examples_per_second: 4124.2348, train_label_loss: 0.2458, \n"
     ]
    },
    {
     "name": "stdout",
     "output_type": "stream",
     "text": [
      "epoch: 14, [batch: 31 / 45], examples_per_second: 4120.9199, train_label_loss: 0.1525, \n"
     ]
    },
    {
     "name": "stdout",
     "output_type": "stream",
     "text": [
      "epoch: 14, [batch: 36 / 45], examples_per_second: 4162.6194, train_label_loss: 0.1574, \n"
     ]
    },
    {
     "name": "stdout",
     "output_type": "stream",
     "text": [
      "epoch: 14, [batch: 40 / 45], examples_per_second: 4219.8716, train_label_loss: 0.1036, \n"
     ]
    },
    {
     "name": "stdout",
     "output_type": "stream",
     "text": [
      "=============================================================\n",
      "epoch: 14, source_val_acc_label: 0.9692, target_val_acc_label: 0.8654, source_val_label_loss: 0.2044, target_val_label_loss: 0.7667, \n",
      "=============================================================\n"
     ]
    },
    {
     "name": "stdout",
     "output_type": "stream",
     "text": [
      "New best\n"
     ]
    },
    {
     "name": "stdout",
     "output_type": "stream",
     "text": [
      "epoch: 15, [batch: 1 / 45], examples_per_second: 491.1524, train_label_loss: 0.0454, \n"
     ]
    },
    {
     "name": "stdout",
     "output_type": "stream",
     "text": [
      "epoch: 15, [batch: 5 / 45], examples_per_second: 3973.0538, train_label_loss: 0.1593, \n"
     ]
    },
    {
     "name": "stdout",
     "output_type": "stream",
     "text": [
      "epoch: 15, [batch: 9 / 45], examples_per_second: 4072.9428, train_label_loss: 0.2313, \n"
     ]
    },
    {
     "name": "stdout",
     "output_type": "stream",
     "text": [
      "epoch: 15, [batch: 14 / 45], examples_per_second: 4067.3113, train_label_loss: 0.1158, \n"
     ]
    },
    {
     "name": "stdout",
     "output_type": "stream",
     "text": [
      "epoch: 15, [batch: 18 / 45], examples_per_second: 4081.2456, train_label_loss: 0.2299, \n"
     ]
    },
    {
     "name": "stdout",
     "output_type": "stream",
     "text": [
      "epoch: 15, [batch: 23 / 45], examples_per_second: 4019.0867, train_label_loss: 0.0895, \n"
     ]
    },
    {
     "name": "stdout",
     "output_type": "stream",
     "text": [
      "epoch: 15, [batch: 27 / 45], examples_per_second: 4123.0887, train_label_loss: 0.1169, \n"
     ]
    },
    {
     "name": "stdout",
     "output_type": "stream",
     "text": [
      "epoch: 15, [batch: 31 / 45], examples_per_second: 4123.7685, train_label_loss: 0.1930, \n"
     ]
    },
    {
     "name": "stdout",
     "output_type": "stream",
     "text": [
      "epoch: 15, [batch: 36 / 45], examples_per_second: 4162.4987, train_label_loss: 0.2894, \n"
     ]
    },
    {
     "name": "stdout",
     "output_type": "stream",
     "text": [
      "epoch: 15, [batch: 40 / 45], examples_per_second: 4211.1193, train_label_loss: 0.0571, \n"
     ]
    },
    {
     "name": "stdout",
     "output_type": "stream",
     "text": [
      "=============================================================\n",
      "epoch: 15, source_val_acc_label: 0.9647, target_val_acc_label: 0.8660, source_val_label_loss: 0.2155, target_val_label_loss: 0.7654, \n",
      "=============================================================\n"
     ]
    },
    {
     "name": "stdout",
     "output_type": "stream",
     "text": [
      "New best\n"
     ]
    },
    {
     "name": "stdout",
     "output_type": "stream",
     "text": [
      "epoch: 16, [batch: 1 / 45], examples_per_second: 484.4050, train_label_loss: 0.1592, \n"
     ]
    },
    {
     "name": "stdout",
     "output_type": "stream",
     "text": [
      "epoch: 16, [batch: 5 / 45], examples_per_second: 3974.2744, train_label_loss: 0.1230, \n"
     ]
    },
    {
     "name": "stdout",
     "output_type": "stream",
     "text": [
      "epoch: 16, [batch: 9 / 45], examples_per_second: 4068.6227, train_label_loss: 0.0601, \n"
     ]
    },
    {
     "name": "stdout",
     "output_type": "stream",
     "text": [
      "epoch: 16, [batch: 14 / 45], examples_per_second: 4062.8986, train_label_loss: 0.1204, \n"
     ]
    },
    {
     "name": "stdout",
     "output_type": "stream",
     "text": [
      "epoch: 16, [batch: 18 / 45], examples_per_second: 4076.4248, train_label_loss: 0.0688, \n"
     ]
    },
    {
     "name": "stdout",
     "output_type": "stream",
     "text": [
      "epoch: 16, [batch: 23 / 45], examples_per_second: 4011.7414, train_label_loss: 0.0739, \n"
     ]
    },
    {
     "name": "stdout",
     "output_type": "stream",
     "text": [
      "epoch: 16, [batch: 27 / 45], examples_per_second: 4121.4728, train_label_loss: 0.0748, \n"
     ]
    },
    {
     "name": "stdout",
     "output_type": "stream",
     "text": [
      "epoch: 16, [batch: 31 / 45], examples_per_second: 4115.8480, train_label_loss: 0.1927, \n"
     ]
    },
    {
     "name": "stdout",
     "output_type": "stream",
     "text": [
      "epoch: 16, [batch: 36 / 45], examples_per_second: 4154.6596, train_label_loss: 0.1116, \n"
     ]
    },
    {
     "name": "stdout",
     "output_type": "stream",
     "text": [
      "epoch: 16, [batch: 40 / 45], examples_per_second: 4208.8699, train_label_loss: 0.0913, \n"
     ]
    },
    {
     "name": "stdout",
     "output_type": "stream",
     "text": [
      "=============================================================\n",
      "epoch: 16, source_val_acc_label: 0.9654, target_val_acc_label: 0.8650, source_val_label_loss: 0.2096, target_val_label_loss: 0.7504, \n",
      "=============================================================\n"
     ]
    },
    {
     "name": "stdout",
     "output_type": "stream",
     "text": [
      "epoch: 17, [batch: 1 / 45], examples_per_second: 504.2173, train_label_loss: 0.0896, \n"
     ]
    },
    {
     "name": "stdout",
     "output_type": "stream",
     "text": [
      "epoch: 17, [batch: 5 / 45], examples_per_second: 3967.0457, train_label_loss: 0.0841, \n"
     ]
    },
    {
     "name": "stdout",
     "output_type": "stream",
     "text": [
      "epoch: 17, [batch: 9 / 45], examples_per_second: 4062.1271, train_label_loss: 0.1310, \n"
     ]
    },
    {
     "name": "stdout",
     "output_type": "stream",
     "text": [
      "epoch: 17, [batch: 14 / 45], examples_per_second: 4072.3016, train_label_loss: 0.1035, \n"
     ]
    },
    {
     "name": "stdout",
     "output_type": "stream",
     "text": [
      "epoch: 17, [batch: 18 / 45], examples_per_second: 4078.3990, train_label_loss: 0.1323, \n"
     ]
    },
    {
     "name": "stdout",
     "output_type": "stream",
     "text": [
      "epoch: 17, [batch: 23 / 45], examples_per_second: 4012.3554, train_label_loss: 0.0780, \n"
     ]
    },
    {
     "name": "stdout",
     "output_type": "stream",
     "text": [
      "epoch: 17, [batch: 27 / 45], examples_per_second: 4121.6940, train_label_loss: 0.0561, \n"
     ]
    },
    {
     "name": "stdout",
     "output_type": "stream",
     "text": [
      "epoch: 17, [batch: 31 / 45], examples_per_second: 4124.8385, train_label_loss: 0.0713, \n"
     ]
    },
    {
     "name": "stdout",
     "output_type": "stream",
     "text": [
      "epoch: 17, [batch: 36 / 45], examples_per_second: 4152.9331, train_label_loss: 0.1474, \n"
     ]
    },
    {
     "name": "stdout",
     "output_type": "stream",
     "text": [
      "epoch: 17, [batch: 40 / 45], examples_per_second: 4218.7566, train_label_loss: 0.0457, \n"
     ]
    },
    {
     "name": "stdout",
     "output_type": "stream",
     "text": [
      "=============================================================\n",
      "epoch: 17, source_val_acc_label: 0.9660, target_val_acc_label: 0.8645, source_val_label_loss: 0.2101, target_val_label_loss: 0.7629, \n",
      "=============================================================\n"
     ]
    },
    {
     "name": "stdout",
     "output_type": "stream",
     "text": [
      "epoch: 18, [batch: 1 / 45], examples_per_second: 505.0252, train_label_loss: 0.1045, \n"
     ]
    },
    {
     "name": "stdout",
     "output_type": "stream",
     "text": [
      "epoch: 18, [batch: 5 / 45], examples_per_second: 3959.2236, train_label_loss: 0.1317, \n"
     ]
    },
    {
     "name": "stdout",
     "output_type": "stream",
     "text": [
      "epoch: 18, [batch: 9 / 45], examples_per_second: 4079.2320, train_label_loss: 0.0276, \n"
     ]
    },
    {
     "name": "stdout",
     "output_type": "stream",
     "text": [
      "epoch: 18, [batch: 14 / 45], examples_per_second: 4070.5772, train_label_loss: 0.1947, \n"
     ]
    },
    {
     "name": "stdout",
     "output_type": "stream",
     "text": [
      "epoch: 18, [batch: 18 / 45], examples_per_second: 4071.0711, train_label_loss: 0.1183, \n"
     ]
    },
    {
     "name": "stdout",
     "output_type": "stream",
     "text": [
      "epoch: 18, [batch: 23 / 45], examples_per_second: 4009.2081, train_label_loss: 0.0663, \n"
     ]
    },
    {
     "name": "stdout",
     "output_type": "stream",
     "text": [
      "epoch: 18, [batch: 27 / 45], examples_per_second: 4115.0435, train_label_loss: 0.0879, \n"
     ]
    },
    {
     "name": "stdout",
     "output_type": "stream",
     "text": [
      "epoch: 18, [batch: 31 / 45], examples_per_second: 4123.5081, train_label_loss: 0.1754, \n"
     ]
    },
    {
     "name": "stdout",
     "output_type": "stream",
     "text": [
      "epoch: 18, [batch: 36 / 45], examples_per_second: 4149.2647, train_label_loss: 0.0416, \n"
     ]
    },
    {
     "name": "stdout",
     "output_type": "stream",
     "text": [
      "epoch: 18, [batch: 40 / 45], examples_per_second: 4204.2114, train_label_loss: 0.0751, \n"
     ]
    },
    {
     "name": "stdout",
     "output_type": "stream",
     "text": [
      "=============================================================\n",
      "epoch: 18, source_val_acc_label: 0.9692, target_val_acc_label: 0.8669, source_val_label_loss: 0.2020, target_val_label_loss: 0.7466, \n",
      "=============================================================\n"
     ]
    },
    {
     "name": "stdout",
     "output_type": "stream",
     "text": [
      "New best\n"
     ]
    },
    {
     "name": "stdout",
     "output_type": "stream",
     "text": [
      "epoch: 19, [batch: 1 / 45], examples_per_second: 488.7041, train_label_loss: 0.1169, \n"
     ]
    },
    {
     "name": "stdout",
     "output_type": "stream",
     "text": [
      "epoch: 19, [batch: 5 / 45], examples_per_second: 3975.9263, train_label_loss: 0.1345, \n"
     ]
    },
    {
     "name": "stdout",
     "output_type": "stream",
     "text": [
      "epoch: 19, [batch: 9 / 45], examples_per_second: 4068.5969, train_label_loss: 0.0995, \n"
     ]
    },
    {
     "name": "stdout",
     "output_type": "stream",
     "text": [
      "epoch: 19, [batch: 14 / 45], examples_per_second: 4076.0253, train_label_loss: 0.0666, \n"
     ]
    },
    {
     "name": "stdout",
     "output_type": "stream",
     "text": [
      "epoch: 19, [batch: 18 / 45], examples_per_second: 4067.1447, train_label_loss: 0.1256, \n"
     ]
    },
    {
     "name": "stdout",
     "output_type": "stream",
     "text": [
      "epoch: 19, [batch: 23 / 45], examples_per_second: 4009.3874, train_label_loss: 0.1017, \n"
     ]
    },
    {
     "name": "stdout",
     "output_type": "stream",
     "text": [
      "epoch: 19, [batch: 27 / 45], examples_per_second: 4119.4131, train_label_loss: 0.0731, \n"
     ]
    },
    {
     "name": "stdout",
     "output_type": "stream",
     "text": [
      "epoch: 19, [batch: 31 / 45], examples_per_second: 4107.7799, train_label_loss: 0.0474, \n"
     ]
    },
    {
     "name": "stdout",
     "output_type": "stream",
     "text": [
      "epoch: 19, [batch: 36 / 45], examples_per_second: 4160.2819, train_label_loss: 0.1606, \n"
     ]
    },
    {
     "name": "stdout",
     "output_type": "stream",
     "text": [
      "epoch: 19, [batch: 40 / 45], examples_per_second: 4214.8188, train_label_loss: 0.0956, \n"
     ]
    },
    {
     "name": "stdout",
     "output_type": "stream",
     "text": [
      "=============================================================\n",
      "epoch: 19, source_val_acc_label: 0.9705, target_val_acc_label: 0.8665, source_val_label_loss: 0.2071, target_val_label_loss: 0.7530, \n",
      "=============================================================\n"
     ]
    },
    {
     "name": "stdout",
     "output_type": "stream",
     "text": [
      "epoch: 20, [batch: 1 / 45], examples_per_second: 502.1068, train_label_loss: 0.0378, \n"
     ]
    },
    {
     "name": "stdout",
     "output_type": "stream",
     "text": [
      "epoch: 20, [batch: 5 / 45], examples_per_second: 3963.3216, train_label_loss: 0.0851, \n"
     ]
    },
    {
     "name": "stdout",
     "output_type": "stream",
     "text": [
      "epoch: 20, [batch: 9 / 45], examples_per_second: 4062.0908, train_label_loss: 0.1113, \n"
     ]
    },
    {
     "name": "stdout",
     "output_type": "stream",
     "text": [
      "epoch: 20, [batch: 14 / 45], examples_per_second: 4059.5446, train_label_loss: 0.1009, \n"
     ]
    },
    {
     "name": "stdout",
     "output_type": "stream",
     "text": [
      "epoch: 20, [batch: 18 / 45], examples_per_second: 4060.0128, train_label_loss: 0.0565, \n"
     ]
    },
    {
     "name": "stdout",
     "output_type": "stream",
     "text": [
      "epoch: 20, [batch: 23 / 45], examples_per_second: 4007.1303, train_label_loss: 0.0557, \n"
     ]
    },
    {
     "name": "stdout",
     "output_type": "stream",
     "text": [
      "epoch: 20, [batch: 27 / 45], examples_per_second: 4107.9904, train_label_loss: 0.0938, \n"
     ]
    },
    {
     "name": "stdout",
     "output_type": "stream",
     "text": [
      "epoch: 20, [batch: 31 / 45], examples_per_second: 4117.4502, train_label_loss: 0.1514, \n"
     ]
    },
    {
     "name": "stdout",
     "output_type": "stream",
     "text": [
      "epoch: 20, [batch: 36 / 45], examples_per_second: 4140.2074, train_label_loss: 0.0654, \n"
     ]
    },
    {
     "name": "stdout",
     "output_type": "stream",
     "text": [
      "epoch: 20, [batch: 40 / 45], examples_per_second: 4219.6021, train_label_loss: 0.0975, \n"
     ]
    },
    {
     "name": "stdout",
     "output_type": "stream",
     "text": [
      "=============================================================\n",
      "epoch: 20, source_val_acc_label: 0.9686, target_val_acc_label: 0.8682, source_val_label_loss: 0.2063, target_val_label_loss: 0.7489, \n",
      "=============================================================\n"
     ]
    },
    {
     "name": "stdout",
     "output_type": "stream",
     "text": [
      "New best\n"
     ]
    },
    {
     "name": "stdout",
     "output_type": "stream",
     "text": [
      "epoch: 21, [batch: 1 / 45], examples_per_second: 489.0971, train_label_loss: 0.0508, \n"
     ]
    },
    {
     "name": "stdout",
     "output_type": "stream",
     "text": [
      "epoch: 21, [batch: 5 / 45], examples_per_second: 3975.4508, train_label_loss: 0.1257, \n"
     ]
    },
    {
     "name": "stdout",
     "output_type": "stream",
     "text": [
      "epoch: 21, [batch: 9 / 45], examples_per_second: 4072.7633, train_label_loss: 0.0305, \n"
     ]
    },
    {
     "name": "stdout",
     "output_type": "stream",
     "text": [
      "epoch: 21, [batch: 14 / 45], examples_per_second: 4067.9000, train_label_loss: 0.0502, \n"
     ]
    },
    {
     "name": "stdout",
     "output_type": "stream",
     "text": [
      "epoch: 21, [batch: 18 / 45], examples_per_second: 4073.0082, train_label_loss: 0.0886, \n"
     ]
    },
    {
     "name": "stdout",
     "output_type": "stream",
     "text": [
      "epoch: 21, [batch: 23 / 45], examples_per_second: 4016.3631, train_label_loss: 0.0374, \n"
     ]
    },
    {
     "name": "stdout",
     "output_type": "stream",
     "text": [
      "epoch: 21, [batch: 27 / 45], examples_per_second: 4128.6193, train_label_loss: 0.1491, \n"
     ]
    },
    {
     "name": "stdout",
     "output_type": "stream",
     "text": [
      "epoch: 21, [batch: 31 / 45], examples_per_second: 4123.0155, train_label_loss: 0.0301, \n"
     ]
    },
    {
     "name": "stdout",
     "output_type": "stream",
     "text": [
      "epoch: 21, [batch: 36 / 45], examples_per_second: 4162.4694, train_label_loss: 0.0947, \n"
     ]
    },
    {
     "name": "stdout",
     "output_type": "stream",
     "text": [
      "epoch: 21, [batch: 40 / 45], examples_per_second: 4214.3660, train_label_loss: 0.0701, \n"
     ]
    },
    {
     "name": "stdout",
     "output_type": "stream",
     "text": [
      "=============================================================\n",
      "epoch: 21, source_val_acc_label: 0.9712, target_val_acc_label: 0.8705, source_val_label_loss: 0.2042, target_val_label_loss: 0.7617, \n",
      "=============================================================\n"
     ]
    },
    {
     "name": "stdout",
     "output_type": "stream",
     "text": [
      "New best\n"
     ]
    },
    {
     "name": "stdout",
     "output_type": "stream",
     "text": [
      "epoch: 22, [batch: 1 / 45], examples_per_second: 489.9847, train_label_loss: 0.1401, \n"
     ]
    },
    {
     "name": "stdout",
     "output_type": "stream",
     "text": [
      "epoch: 22, [batch: 5 / 45], examples_per_second: 3971.5114, train_label_loss: 0.1313, \n"
     ]
    },
    {
     "name": "stdout",
     "output_type": "stream",
     "text": [
      "epoch: 22, [batch: 9 / 45], examples_per_second: 4073.2669, train_label_loss: 0.1061, \n"
     ]
    },
    {
     "name": "stdout",
     "output_type": "stream",
     "text": [
      "epoch: 22, [batch: 14 / 45], examples_per_second: 4081.9132, train_label_loss: 0.0619, \n"
     ]
    },
    {
     "name": "stdout",
     "output_type": "stream",
     "text": [
      "epoch: 22, [batch: 18 / 45], examples_per_second: 4073.6929, train_label_loss: 0.1320, \n"
     ]
    },
    {
     "name": "stdout",
     "output_type": "stream",
     "text": [
      "epoch: 22, [batch: 23 / 45], examples_per_second: 4020.5672, train_label_loss: 0.1187, \n"
     ]
    },
    {
     "name": "stdout",
     "output_type": "stream",
     "text": [
      "epoch: 22, [batch: 27 / 45], examples_per_second: 4132.1986, train_label_loss: 0.0652, \n"
     ]
    },
    {
     "name": "stdout",
     "output_type": "stream",
     "text": [
      "epoch: 22, [batch: 31 / 45], examples_per_second: 4124.9010, train_label_loss: 0.0558, \n"
     ]
    },
    {
     "name": "stdout",
     "output_type": "stream",
     "text": [
      "epoch: 22, [batch: 36 / 45], examples_per_second: 4162.1619, train_label_loss: 0.1396, \n"
     ]
    },
    {
     "name": "stdout",
     "output_type": "stream",
     "text": [
      "epoch: 22, [batch: 40 / 45], examples_per_second: 4216.7762, train_label_loss: 0.0670, \n"
     ]
    },
    {
     "name": "stdout",
     "output_type": "stream",
     "text": [
      "=============================================================\n",
      "epoch: 22, source_val_acc_label: 0.9692, target_val_acc_label: 0.8720, source_val_label_loss: 0.1909, target_val_label_loss: 0.7376, \n",
      "=============================================================\n"
     ]
    },
    {
     "name": "stdout",
     "output_type": "stream",
     "text": [
      "New best\n"
     ]
    },
    {
     "name": "stdout",
     "output_type": "stream",
     "text": [
      "epoch: 23, [batch: 1 / 45], examples_per_second: 486.7428, train_label_loss: 0.0662, \n"
     ]
    },
    {
     "name": "stdout",
     "output_type": "stream",
     "text": [
      "epoch: 23, [batch: 5 / 45], examples_per_second: 3963.5435, train_label_loss: 0.0487, \n"
     ]
    },
    {
     "name": "stdout",
     "output_type": "stream",
     "text": [
      "epoch: 23, [batch: 9 / 45], examples_per_second: 4069.8799, train_label_loss: 0.0799, \n"
     ]
    },
    {
     "name": "stdout",
     "output_type": "stream",
     "text": [
      "epoch: 23, [batch: 14 / 45], examples_per_second: 4063.7695, train_label_loss: 0.0450, \n"
     ]
    },
    {
     "name": "stdout",
     "output_type": "stream",
     "text": [
      "epoch: 23, [batch: 18 / 45], examples_per_second: 4064.0118, train_label_loss: 0.0559, \n"
     ]
    },
    {
     "name": "stdout",
     "output_type": "stream",
     "text": [
      "epoch: 23, [batch: 23 / 45], examples_per_second: 4007.8537, train_label_loss: 0.0259, \n"
     ]
    },
    {
     "name": "stdout",
     "output_type": "stream",
     "text": [
      "epoch: 23, [batch: 27 / 45], examples_per_second: 4126.8194, train_label_loss: 0.1446, \n"
     ]
    },
    {
     "name": "stdout",
     "output_type": "stream",
     "text": [
      "epoch: 23, [batch: 31 / 45], examples_per_second: 4124.1662, train_label_loss: 0.0402, \n"
     ]
    },
    {
     "name": "stdout",
     "output_type": "stream",
     "text": [
      "epoch: 23, [batch: 36 / 45], examples_per_second: 4167.3177, train_label_loss: 0.1328, \n"
     ]
    },
    {
     "name": "stdout",
     "output_type": "stream",
     "text": [
      "epoch: 23, [batch: 40 / 45], examples_per_second: 4211.4234, train_label_loss: 0.0281, \n"
     ]
    },
    {
     "name": "stdout",
     "output_type": "stream",
     "text": [
      "=============================================================\n",
      "epoch: 23, source_val_acc_label: 0.9712, target_val_acc_label: 0.8718, source_val_label_loss: 0.2018, target_val_label_loss: 0.7502, \n",
      "=============================================================\n"
     ]
    },
    {
     "name": "stdout",
     "output_type": "stream",
     "text": [
      "epoch: 24, [batch: 1 / 45], examples_per_second: 500.6871, train_label_loss: 0.0616, \n"
     ]
    },
    {
     "name": "stdout",
     "output_type": "stream",
     "text": [
      "epoch: 24, [batch: 5 / 45], examples_per_second: 3963.6990, train_label_loss: 0.1439, \n"
     ]
    },
    {
     "name": "stdout",
     "output_type": "stream",
     "text": [
      "epoch: 24, [batch: 9 / 45], examples_per_second: 4063.8800, train_label_loss: 0.1101, \n"
     ]
    },
    {
     "name": "stdout",
     "output_type": "stream",
     "text": [
      "epoch: 24, [batch: 14 / 45], examples_per_second: 4052.4411, train_label_loss: 0.1418, \n"
     ]
    },
    {
     "name": "stdout",
     "output_type": "stream",
     "text": [
      "epoch: 24, [batch: 18 / 45], examples_per_second: 4068.5210, train_label_loss: 0.0985, \n"
     ]
    },
    {
     "name": "stdout",
     "output_type": "stream",
     "text": [
      "epoch: 24, [batch: 23 / 45], examples_per_second: 4011.8571, train_label_loss: 0.0458, \n"
     ]
    },
    {
     "name": "stdout",
     "output_type": "stream",
     "text": [
      "epoch: 24, [batch: 27 / 45], examples_per_second: 4120.9044, train_label_loss: 0.0950, \n"
     ]
    },
    {
     "name": "stdout",
     "output_type": "stream",
     "text": [
      "epoch: 24, [batch: 31 / 45], examples_per_second: 4111.2628, train_label_loss: 0.0716, \n"
     ]
    },
    {
     "name": "stdout",
     "output_type": "stream",
     "text": [
      "epoch: 24, [batch: 36 / 45], examples_per_second: 4154.4152, train_label_loss: 0.1469, \n"
     ]
    },
    {
     "name": "stdout",
     "output_type": "stream",
     "text": [
      "epoch: 24, [batch: 40 / 45], examples_per_second: 4206.4266, train_label_loss: 0.0843, \n"
     ]
    },
    {
     "name": "stdout",
     "output_type": "stream",
     "text": [
      "=============================================================\n",
      "epoch: 24, source_val_acc_label: 0.9686, target_val_acc_label: 0.8746, source_val_label_loss: 0.1926, target_val_label_loss: 0.7420, \n",
      "=============================================================\n"
     ]
    },
    {
     "name": "stdout",
     "output_type": "stream",
     "text": [
      "New best\n"
     ]
    },
    {
     "name": "stdout",
     "output_type": "stream",
     "text": [
      "epoch: 25, [batch: 1 / 45], examples_per_second: 490.6320, train_label_loss: 0.0755, \n"
     ]
    },
    {
     "name": "stdout",
     "output_type": "stream",
     "text": [
      "epoch: 25, [batch: 5 / 45], examples_per_second: 3976.7077, train_label_loss: 0.1343, \n"
     ]
    },
    {
     "name": "stdout",
     "output_type": "stream",
     "text": [
      "epoch: 25, [batch: 9 / 45], examples_per_second: 4067.0310, train_label_loss: 0.2230, \n"
     ]
    },
    {
     "name": "stdout",
     "output_type": "stream",
     "text": [
      "epoch: 25, [batch: 14 / 45], examples_per_second: 4065.3693, train_label_loss: 0.0591, \n"
     ]
    },
    {
     "name": "stdout",
     "output_type": "stream",
     "text": [
      "epoch: 25, [batch: 18 / 45], examples_per_second: 4073.8284, train_label_loss: 0.0943, \n"
     ]
    },
    {
     "name": "stdout",
     "output_type": "stream",
     "text": [
      "epoch: 25, [batch: 23 / 45], examples_per_second: 4029.3153, train_label_loss: 0.0375, \n"
     ]
    },
    {
     "name": "stdout",
     "output_type": "stream",
     "text": [
      "epoch: 25, [batch: 27 / 45], examples_per_second: 4124.2801, train_label_loss: 0.1255, \n"
     ]
    },
    {
     "name": "stdout",
     "output_type": "stream",
     "text": [
      "epoch: 25, [batch: 31 / 45], examples_per_second: 4120.1243, train_label_loss: 0.0671, \n"
     ]
    },
    {
     "name": "stdout",
     "output_type": "stream",
     "text": [
      "epoch: 25, [batch: 36 / 45], examples_per_second: 4161.1353, train_label_loss: 0.1783, \n"
     ]
    },
    {
     "name": "stdout",
     "output_type": "stream",
     "text": [
      "epoch: 25, [batch: 40 / 45], examples_per_second: 4216.4534, train_label_loss: 0.0847, \n"
     ]
    },
    {
     "name": "stdout",
     "output_type": "stream",
     "text": [
      "=============================================================\n",
      "epoch: 25, source_val_acc_label: 0.9673, target_val_acc_label: 0.8718, source_val_label_loss: 0.2171, target_val_label_loss: 0.7445, \n",
      "=============================================================\n"
     ]
    },
    {
     "name": "stdout",
     "output_type": "stream",
     "text": [
      "epoch: 26, [batch: 1 / 45], examples_per_second: 503.5973, train_label_loss: 0.1049, \n"
     ]
    },
    {
     "name": "stdout",
     "output_type": "stream",
     "text": [
      "epoch: 26, [batch: 5 / 45], examples_per_second: 3969.9253, train_label_loss: 0.0430, \n"
     ]
    },
    {
     "name": "stdout",
     "output_type": "stream",
     "text": [
      "epoch: 26, [batch: 9 / 45], examples_per_second: 4057.5097, train_label_loss: 0.0411, \n"
     ]
    },
    {
     "name": "stdout",
     "output_type": "stream",
     "text": [
      "epoch: 26, [batch: 14 / 45], examples_per_second: 4068.9576, train_label_loss: 0.1228, \n"
     ]
    },
    {
     "name": "stdout",
     "output_type": "stream",
     "text": [
      "epoch: 26, [batch: 18 / 45], examples_per_second: 4065.2571, train_label_loss: 0.0781, \n"
     ]
    },
    {
     "name": "stdout",
     "output_type": "stream",
     "text": [
      "epoch: 26, [batch: 23 / 45], examples_per_second: 4014.3842, train_label_loss: 0.1099, \n"
     ]
    },
    {
     "name": "stdout",
     "output_type": "stream",
     "text": [
      "epoch: 26, [batch: 27 / 45], examples_per_second: 4127.6363, train_label_loss: 0.1700, \n"
     ]
    },
    {
     "name": "stdout",
     "output_type": "stream",
     "text": [
      "epoch: 26, [batch: 31 / 45], examples_per_second: 4117.0834, train_label_loss: 0.0544, \n"
     ]
    },
    {
     "name": "stdout",
     "output_type": "stream",
     "text": [
      "epoch: 26, [batch: 36 / 45], examples_per_second: 4150.5205, train_label_loss: 0.0960, \n"
     ]
    },
    {
     "name": "stdout",
     "output_type": "stream",
     "text": [
      "epoch: 26, [batch: 40 / 45], examples_per_second: 4216.2773, train_label_loss: 0.1024, \n"
     ]
    },
    {
     "name": "stdout",
     "output_type": "stream",
     "text": [
      "=============================================================\n",
      "epoch: 26, source_val_acc_label: 0.9692, target_val_acc_label: 0.8737, source_val_label_loss: 0.2001, target_val_label_loss: 0.7338, \n",
      "=============================================================\n"
     ]
    },
    {
     "name": "stdout",
     "output_type": "stream",
     "text": [
      "epoch: 27, [batch: 1 / 45], examples_per_second: 499.7374, train_label_loss: 0.1175, \n"
     ]
    },
    {
     "name": "stdout",
     "output_type": "stream",
     "text": [
      "epoch: 27, [batch: 5 / 45], examples_per_second: 3966.0112, train_label_loss: 0.0233, \n"
     ]
    },
    {
     "name": "stdout",
     "output_type": "stream",
     "text": [
      "epoch: 27, [batch: 9 / 45], examples_per_second: 4057.9310, train_label_loss: 0.0425, \n"
     ]
    },
    {
     "name": "stdout",
     "output_type": "stream",
     "text": [
      "epoch: 27, [batch: 14 / 45], examples_per_second: 4061.2112, train_label_loss: 0.1583, \n"
     ]
    },
    {
     "name": "stdout",
     "output_type": "stream",
     "text": [
      "epoch: 27, [batch: 18 / 45], examples_per_second: 4071.8053, train_label_loss: 0.0582, \n"
     ]
    },
    {
     "name": "stdout",
     "output_type": "stream",
     "text": [
      "epoch: 27, [batch: 23 / 45], examples_per_second: 3994.4102, train_label_loss: 0.0586, \n"
     ]
    },
    {
     "name": "stdout",
     "output_type": "stream",
     "text": [
      "epoch: 27, [batch: 27 / 45], examples_per_second: 4123.1137, train_label_loss: 0.0639, \n"
     ]
    },
    {
     "name": "stdout",
     "output_type": "stream",
     "text": [
      "epoch: 27, [batch: 31 / 45], examples_per_second: 4120.6941, train_label_loss: 0.0614, \n"
     ]
    },
    {
     "name": "stdout",
     "output_type": "stream",
     "text": [
      "epoch: 27, [batch: 36 / 45], examples_per_second: 4158.5088, train_label_loss: 0.0823, \n"
     ]
    },
    {
     "name": "stdout",
     "output_type": "stream",
     "text": [
      "epoch: 27, [batch: 40 / 45], examples_per_second: 4209.8838, train_label_loss: 0.0288, \n"
     ]
    },
    {
     "name": "stdout",
     "output_type": "stream",
     "text": [
      "=============================================================\n",
      "epoch: 27, source_val_acc_label: 0.9699, target_val_acc_label: 0.8724, source_val_label_loss: 0.2070, target_val_label_loss: 0.7555, \n",
      "=============================================================\n"
     ]
    },
    {
     "name": "stdout",
     "output_type": "stream",
     "text": [
      "epoch: 28, [batch: 1 / 45], examples_per_second: 503.5830, train_label_loss: 0.0767, \n"
     ]
    },
    {
     "name": "stdout",
     "output_type": "stream",
     "text": [
      "epoch: 28, [batch: 5 / 45], examples_per_second: 3958.3627, train_label_loss: 0.0790, \n"
     ]
    },
    {
     "name": "stdout",
     "output_type": "stream",
     "text": [
      "epoch: 28, [batch: 9 / 45], examples_per_second: 4054.5710, train_label_loss: 0.0544, \n"
     ]
    },
    {
     "name": "stdout",
     "output_type": "stream",
     "text": [
      "epoch: 28, [batch: 14 / 45], examples_per_second: 4064.4747, train_label_loss: 0.0621, \n"
     ]
    },
    {
     "name": "stdout",
     "output_type": "stream",
     "text": [
      "epoch: 28, [batch: 18 / 45], examples_per_second: 4077.1746, train_label_loss: 0.0624, \n"
     ]
    },
    {
     "name": "stdout",
     "output_type": "stream",
     "text": [
      "epoch: 28, [batch: 23 / 45], examples_per_second: 4024.0876, train_label_loss: 0.0180, \n"
     ]
    },
    {
     "name": "stdout",
     "output_type": "stream",
     "text": [
      "epoch: 28, [batch: 27 / 45], examples_per_second: 4122.4263, train_label_loss: 0.0717, \n"
     ]
    },
    {
     "name": "stdout",
     "output_type": "stream",
     "text": [
      "epoch: 28, [batch: 31 / 45], examples_per_second: 4122.8191, train_label_loss: 0.1663, \n"
     ]
    },
    {
     "name": "stdout",
     "output_type": "stream",
     "text": [
      "epoch: 28, [batch: 36 / 45], examples_per_second: 4159.5468, train_label_loss: 0.0319, \n"
     ]
    },
    {
     "name": "stdout",
     "output_type": "stream",
     "text": [
      "epoch: 28, [batch: 40 / 45], examples_per_second: 4217.6683, train_label_loss: 0.0250, \n"
     ]
    },
    {
     "name": "stdout",
     "output_type": "stream",
     "text": [
      "=============================================================\n",
      "epoch: 28, source_val_acc_label: 0.9686, target_val_acc_label: 0.8699, source_val_label_loss: 0.1908, target_val_label_loss: 0.7546, \n",
      "=============================================================\n"
     ]
    },
    {
     "name": "stdout",
     "output_type": "stream",
     "text": [
      "Patience (3) exhausted\n"
     ]
    }
   ],
   "source": [
    "###################################\n",
    "# train\n",
    "###################################\n",
    "jig = PTN_Train_Eval_Test_Jig(model, p.BEST_MODEL_PATH, p.device)\n",
    "\n",
    "jig.train(\n",
    "    train_iterable=datasets.source.processed.train,\n",
    "    source_val_iterable=datasets.source.processed.val,\n",
    "    target_val_iterable=datasets.target.processed.val,\n",
    "    num_epochs=p.n_epoch,\n",
    "    num_logs_per_epoch=p.NUM_LOGS_PER_EPOCH,\n",
    "    patience=p.patience,\n",
    "    optimizer=optimizer,\n",
    "    criteria_for_best=p.criteria_for_best,\n",
    ")"
   ]
  },
  {
   "cell_type": "code",
   "execution_count": 14,
   "id": "31e8fabf",
   "metadata": {
    "execution": {
     "iopub.execute_input": "2022-03-22T17:08:36.415097Z",
     "iopub.status.busy": "2022-03-22T17:08:36.414830Z",
     "iopub.status.idle": "2022-03-22T17:08:36.434062Z",
     "shell.execute_reply": "2022-03-22T17:08:36.433625Z"
    },
    "papermill": {
     "duration": 0.091642,
     "end_time": "2022-03-22T17:08:36.434169",
     "exception": false,
     "start_time": "2022-03-22T17:08:36.342527",
     "status": "completed"
    },
    "tags": []
   },
   "outputs": [],
   "source": [
    "total_experiment_time_secs = time.time() - start_time_secs"
   ]
  },
  {
   "cell_type": "code",
   "execution_count": 15,
   "id": "87b9595b",
   "metadata": {
    "execution": {
     "iopub.execute_input": "2022-03-22T17:08:36.581552Z",
     "iopub.status.busy": "2022-03-22T17:08:36.581168Z",
     "iopub.status.idle": "2022-03-22T17:08:44.059715Z",
     "shell.execute_reply": "2022-03-22T17:08:44.060089Z"
    },
    "papermill": {
     "duration": 7.553322,
     "end_time": "2022-03-22T17:08:44.060224",
     "exception": false,
     "start_time": "2022-03-22T17:08:36.506902",
     "status": "completed"
    },
    "tags": []
   },
   "outputs": [],
   "source": [
    "###################################\n",
    "# Evaluate the model\n",
    "###################################\n",
    "source_test_label_accuracy, source_test_label_loss = jig.test(datasets.source.processed.test)\n",
    "target_test_label_accuracy, target_test_label_loss = jig.test(datasets.target.processed.test)\n",
    "\n",
    "source_val_label_accuracy, source_val_label_loss = jig.test(datasets.source.processed.val)\n",
    "target_val_label_accuracy, target_val_label_loss = jig.test(datasets.target.processed.val)\n",
    "\n",
    "history = jig.get_history()\n",
    "\n",
    "total_epochs_trained = len(history[\"epoch_indices\"])\n",
    "\n",
    "val_dl = Iterable_Aggregator((datasets.source.original.val,datasets.target.original.val))\n",
    "\n",
    "confusion = ptn_confusion_by_domain_over_dataloader(model, p.device, val_dl)\n",
    "per_domain_accuracy = per_domain_accuracy_from_confusion(confusion)\n",
    "\n",
    "# Add a key to per_domain_accuracy for if it was a source domain\n",
    "for domain, accuracy in per_domain_accuracy.items():\n",
    "    per_domain_accuracy[domain] = {\n",
    "        \"accuracy\": accuracy,\n",
    "        \"source?\": domain in p.domains_source\n",
    "    }\n",
    "\n",
    "# Do an independent accuracy assesment JUST TO BE SURE!\n",
    "# _source_test_label_accuracy = independent_accuracy_assesment(model, datasets.source.processed.test, p.device)\n",
    "# _target_test_label_accuracy = independent_accuracy_assesment(model, datasets.target.processed.test, p.device)\n",
    "# _source_val_label_accuracy = independent_accuracy_assesment(model, datasets.source.processed.val, p.device)\n",
    "# _target_val_label_accuracy = independent_accuracy_assesment(model, datasets.target.processed.val, p.device)\n",
    "\n",
    "# assert(_source_test_label_accuracy == source_test_label_accuracy)\n",
    "# assert(_target_test_label_accuracy == target_test_label_accuracy)\n",
    "# assert(_source_val_label_accuracy == source_val_label_accuracy)\n",
    "# assert(_target_val_label_accuracy == target_val_label_accuracy)\n",
    "\n",
    "experiment = {\n",
    "    \"experiment_name\": p.experiment_name,\n",
    "    \"parameters\": dict(p),\n",
    "    \"results\": {\n",
    "        \"source_test_label_accuracy\": source_test_label_accuracy,\n",
    "        \"source_test_label_loss\": source_test_label_loss,\n",
    "        \"target_test_label_accuracy\": target_test_label_accuracy,\n",
    "        \"target_test_label_loss\": target_test_label_loss,\n",
    "        \"source_val_label_accuracy\": source_val_label_accuracy,\n",
    "        \"source_val_label_loss\": source_val_label_loss,\n",
    "        \"target_val_label_accuracy\": target_val_label_accuracy,\n",
    "        \"target_val_label_loss\": target_val_label_loss,\n",
    "        \"total_epochs_trained\": total_epochs_trained,\n",
    "        \"total_experiment_time_secs\": total_experiment_time_secs,\n",
    "        \"confusion\": confusion,\n",
    "        \"per_domain_accuracy\": per_domain_accuracy,\n",
    "    },\n",
    "    \"history\": history,\n",
    "    \"dataset_metrics\": get_dataset_metrics(datasets, \"ptn\"),\n",
    "}"
   ]
  },
  {
   "cell_type": "code",
   "execution_count": 16,
   "id": "54a21829",
   "metadata": {
    "execution": {
     "iopub.execute_input": "2022-03-22T17:08:44.200732Z",
     "iopub.status.busy": "2022-03-22T17:08:44.199773Z",
     "iopub.status.idle": "2022-03-22T17:08:44.325006Z",
     "shell.execute_reply": "2022-03-22T17:08:44.325441Z"
    },
    "papermill": {
     "duration": 0.19468,
     "end_time": "2022-03-22T17:08:44.325582",
     "exception": false,
     "start_time": "2022-03-22T17:08:44.130902",
     "status": "completed"
    },
    "tags": []
   },
   "outputs": [
    {
     "data": {
      "image/png": "[encoded data removed]",
      "text/plain": [
       "<Figure size 1080x504 with 1 Axes>"
      ]
     },
     "metadata": {
      "needs_background": "light"
     },
     "output_type": "display_data"
    }
   ],
   "source": [
    "ax = get_loss_curve(experiment)\n",
    "plt.show()"
   ]
  },
  {
   "cell_type": "code",
   "execution_count": 17,
   "id": "fd8a0f60",
   "metadata": {
    "execution": {
     "iopub.execute_input": "2022-03-22T17:08:44.468217Z",
     "iopub.status.busy": "2022-03-22T17:08:44.467952Z",
     "iopub.status.idle": "2022-03-22T17:08:44.614481Z",
     "shell.execute_reply": "2022-03-22T17:08:44.614708Z"
    },
    "papermill": {
     "duration": 0.217613,
     "end_time": "2022-03-22T17:08:44.614792",
     "exception": false,
     "start_time": "2022-03-22T17:08:44.397179",
     "status": "completed"
    },
    "tags": []
   },
   "outputs": [
    {
     "data": {
      "text/plain": [
       "<AxesSubplot:title={'center':'Results'}>"
      ]
     },
     "execution_count": 17,
     "metadata": {},
     "output_type": "execute_result"
    },
    {
     "data": {
      "image/png": "[encoded data removed]",
      "text/plain": [
       "<Figure size 1080x504 with 1 Axes>"
      ]
     },
     "metadata": {
      "needs_background": "light"
     },
     "output_type": "display_data"
    }
   ],
   "source": [
    "get_results_table(experiment)"
   ]
  },
  {
   "cell_type": "code",
   "execution_count": 18,
   "id": "cf8dc689",
   "metadata": {
    "execution": {
     "iopub.execute_input": "2022-03-22T17:08:44.760297Z",
     "iopub.status.busy": "2022-03-22T17:08:44.760028Z",
     "iopub.status.idle": "2022-03-22T17:08:44.861757Z",
     "shell.execute_reply": "2022-03-22T17:08:44.862189Z"
    },
    "papermill": {
     "duration": 0.173859,
     "end_time": "2022-03-22T17:08:44.862335",
     "exception": false,
     "start_time": "2022-03-22T17:08:44.688476",
     "status": "completed"
    },
    "tags": []
   },
   "outputs": [
    {
     "data": {
      "text/plain": [
       "<AxesSubplot:title={'center':'Per Domain Validation Accuracy'}, xlabel='domain'>"
      ]
     },
     "execution_count": 18,
     "metadata": {},
     "output_type": "execute_result"
    },
    {
     "data": {
      "image/png": "[encoded data removed]",
      "text/plain": [
       "<Figure size 1080x504 with 1 Axes>"
      ]
     },
     "metadata": {
      "needs_background": "light"
     },
     "output_type": "display_data"
    }
   ],
   "source": [
    "get_domain_accuracies(experiment)"
   ]
  },
  {
   "cell_type": "code",
   "execution_count": 19,
   "id": "a74ae082",
   "metadata": {
    "execution": {
     "iopub.execute_input": "2022-03-22T17:08:45.010439Z",
     "iopub.status.busy": "2022-03-22T17:08:45.010168Z",
     "iopub.status.idle": "2022-03-22T17:08:45.027550Z",
     "shell.execute_reply": "2022-03-22T17:08:45.027943Z"
    },
    "papermill": {
     "duration": 0.089875,
     "end_time": "2022-03-22T17:08:45.028042",
     "exception": false,
     "start_time": "2022-03-22T17:08:44.938167",
     "status": "completed"
    },
    "tags": []
   },
   "outputs": [
    {
     "name": "stdout",
     "output_type": "stream",
     "text": [
      "Source Test Label Accuracy: 0.958974358974359 Target Test Label Accuracy: 0.879059829059829\n",
      "Source Val Label Accuracy: 0.9685897435897436 Target Val Label Accuracy: 0.8745726495726496\n"
     ]
    }
   ],
   "source": [
    "print(\"Source Test Label Accuracy:\", experiment[\"results\"][\"source_test_label_accuracy\"], \"Target Test Label Accuracy:\", experiment[\"results\"][\"target_test_label_accuracy\"])\n",
    "print(\"Source Val Label Accuracy:\", experiment[\"results\"][\"source_val_label_accuracy\"], \"Target Val Label Accuracy:\", experiment[\"results\"][\"target_val_label_accuracy\"])"
   ]
  },
  {
   "cell_type": "code",
   "execution_count": 20,
   "id": "dacca602",
   "metadata": {
    "execution": {
     "iopub.execute_input": "2022-03-22T17:08:45.178108Z",
     "iopub.status.busy": "2022-03-22T17:08:45.177847Z",
     "iopub.status.idle": "2022-03-22T17:08:45.190800Z",
     "shell.execute_reply": "2022-03-22T17:08:45.191207Z"
    },
    "papermill": {
     "duration": 0.084537,
     "end_time": "2022-03-22T17:08:45.191349",
     "exception": false,
     "start_time": "2022-03-22T17:08:45.106812",
     "status": "completed"
    },
    "tags": [
     "experiment_json"
    ]
   },
   "outputs": [
    {
     "data": {
      "text/plain": [
       "'{\"experiment_name\": \"tuned_1v2:wisig\", \"parameters\": {\"experiment_name\": \"tuned_1v2:wisig\", \"device\": \"cuda\", \"lr\": 0.0001, \"labels_source\": [\"1-10\", \"1-12\", \"1-14\", \"1-16\", \"1-18\", \"1-19\", \"1-8\", \"10-11\", \"10-17\", \"10-4\", \"10-7\", \"11-1\", \"11-10\", \"11-19\", \"11-20\", \"11-4\", \"11-7\", \"12-19\", \"12-20\", \"12-7\", \"13-14\", \"13-18\", \"13-19\", \"13-20\", \"13-3\", \"13-7\", \"14-10\", \"14-11\", \"14-12\", \"14-13\", \"14-14\", \"14-19\", \"14-20\", \"14-7\", \"14-8\", \"14-9\", \"15-1\", \"15-19\", \"15-6\", \"16-1\", \"16-16\", \"16-19\", \"16-20\", \"17-10\", \"17-11\", \"18-1\", \"18-10\", \"18-11\", \"18-12\", \"18-13\", \"18-14\", \"18-15\", \"18-16\", \"18-17\", \"18-19\", \"18-2\", \"18-20\", \"18-4\", \"18-5\", \"18-7\", \"18-8\", \"18-9\", \"19-1\", \"19-10\", \"19-11\", \"19-12\", \"19-13\", \"19-14\", \"19-15\", \"19-19\", \"19-2\", \"19-20\", \"19-3\", \"19-4\", \"19-6\", \"19-7\", \"19-8\", \"19-9\", \"2-1\", \"2-13\", \"2-15\", \"2-3\", \"2-4\", \"2-5\", \"2-6\", \"2-7\", \"2-8\", \"20-1\", \"20-12\", \"20-14\", \"20-15\", \"20-16\", \"20-18\", \"20-19\", \"20-20\", \"20-3\", \"20-4\", \"20-5\", \"20-7\", \"20-8\", \"3-1\", \"3-13\", \"3-18\", \"3-2\", \"3-8\", \"4-1\", \"4-10\", \"4-11\", \"5-1\", \"5-5\", \"6-1\", \"6-15\", \"6-6\", \"7-10\", \"7-11\", \"7-12\", \"7-13\", \"7-14\", \"7-7\", \"7-8\", \"7-9\", \"8-1\", \"8-13\", \"8-14\", \"8-18\", \"8-20\", \"8-3\", \"8-8\", \"9-1\", \"9-7\"], \"labels_target\": [\"1-10\", \"1-12\", \"1-14\", \"1-16\", \"1-18\", \"1-19\", \"1-8\", \"10-11\", \"10-17\", \"10-4\", \"10-7\", \"11-1\", \"11-10\", \"11-19\", \"11-20\", \"11-4\", \"11-7\", \"12-19\", \"12-20\", \"12-7\", \"13-14\", \"13-18\", \"13-19\", \"13-20\", \"13-3\", \"13-7\", \"14-10\", \"14-11\", \"14-12\", \"14-13\", \"14-14\", \"14-19\", \"14-20\", \"14-7\", \"14-8\", \"14-9\", \"15-1\", \"15-19\", \"15-6\", \"16-1\", \"16-16\", \"16-19\", \"16-20\", \"17-10\", \"17-11\", \"18-1\", \"18-10\", \"18-11\", \"18-12\", \"18-13\", \"18-14\", \"18-15\", \"18-16\", \"18-17\", \"18-19\", \"18-2\", \"18-20\", \"18-4\", \"18-5\", \"18-7\", \"18-8\", \"18-9\", \"19-1\", \"19-10\", \"19-11\", \"19-12\", \"19-13\", \"19-14\", \"19-15\", \"19-19\", \"19-2\", \"19-20\", \"19-3\", \"19-4\", \"19-6\", \"19-7\", \"19-8\", \"19-9\", \"2-1\", \"2-13\", \"2-15\", \"2-3\", \"2-4\", \"2-5\", \"2-6\", \"2-7\", \"2-8\", \"20-1\", \"20-12\", \"20-14\", \"20-15\", \"20-16\", \"20-18\", \"20-19\", \"20-20\", \"20-3\", \"20-4\", \"20-5\", \"20-7\", \"20-8\", \"3-1\", \"3-13\", \"3-18\", \"3-2\", \"3-8\", \"4-1\", \"4-10\", \"4-11\", \"5-1\", \"5-5\", \"6-1\", \"6-15\", \"6-6\", \"7-10\", \"7-11\", \"7-12\", \"7-13\", \"7-14\", \"7-7\", \"7-8\", \"7-9\", \"8-1\", \"8-13\", \"8-14\", \"8-18\", \"8-20\", \"8-3\", \"8-8\", \"9-1\", \"9-7\"], \"episode_transforms_source\": [], \"episode_transforms_target\": [], \"domains_source\": [3], \"domains_target\": [1, 2, 4], \"num_examples_per_domain_per_label_source\": -1, \"num_examples_per_domain_per_label_target\": -1, \"n_shot\": 3, \"n_way\": 130, \"n_query\": 2, \"train_k_factor\": 3, \"val_k_factor\": 2, \"test_k_factor\": 2, \"torch_default_dtype\": \"torch.float32\", \"n_epoch\": 50, \"patience\": 3, \"criteria_for_best\": \"target_accuracy\", \"x_net\": [{\"class\": \"nnReshape\", \"kargs\": {\"shape\": [-1, 1, 2, 256]}}, {\"class\": \"Conv2d\", \"kargs\": {\"in_channels\": 1, \"out_channels\": 256, \"kernel_size\": [1, 7], \"bias\": false, \"padding\": [0, 3]}}, {\"class\": \"ReLU\", \"kargs\": {\"inplace\": true}}, {\"class\": \"BatchNorm2d\", \"kargs\": {\"num_features\": 256}}, {\"class\": \"Conv2d\", \"kargs\": {\"in_channels\": 256, \"out_channels\": 80, \"kernel_size\": [2, 7], \"bias\": true, \"padding\": [0, 3]}}, {\"class\": \"ReLU\", \"kargs\": {\"inplace\": true}}, {\"class\": \"BatchNorm2d\", \"kargs\": {\"num_features\": 80}}, {\"class\": \"Flatten\", \"kargs\": {}}, {\"class\": \"Linear\", \"kargs\": {\"in_features\": 20480, \"out_features\": 256}}, {\"class\": \"ReLU\", \"kargs\": {\"inplace\": true}}, {\"class\": \"BatchNorm1d\", \"kargs\": {\"num_features\": 256}}, {\"class\": \"Linear\", \"kargs\": {\"in_features\": 256, \"out_features\": 256}}], \"NUM_LOGS_PER_EPOCH\": 10, \"BEST_MODEL_PATH\": \"./best_model.pth\", \"pickle_name\": \"wisig.node3-19.stratified_ds.2022A.pkl\", \"x_transforms_source\": [\"unit_power\"], \"x_transforms_target\": [\"unit_power\"], \"dataset_seed\": 1337, \"seed\": 1337}, \"results\": {\"source_test_label_accuracy\": 0.958974358974359, \"source_test_label_loss\": 0.2581739127635956, \"target_test_label_accuracy\": 0.879059829059829, \"target_test_label_loss\": 0.6490450501441956, \"source_val_label_accuracy\": 0.9685897435897436, \"source_val_label_loss\": 0.1925668567419052, \"target_val_label_accuracy\": 0.8745726495726496, \"target_val_label_loss\": 0.7419765591621399, \"total_epochs_trained\": 28, \"total_experiment_time_secs\": 266.4914503097534, \"confusion\": {\"3\": {\"29\": {\"29\": 12}, \"123\": {\"123\": 12}, \"116\": {\"116\": 12}, \"25\": {\"25\": 12}, \"60\": {\"60\": 11, \"70\": 1}, \"88\": {\"88\": 12}, \"0\": {\"0\": 12}, \"77\": {\"77\": 12}, \"96\": {\"96\": 12}, \"3\": {\"3\": 12}, \"5\": {\"5\": 12}, \"89\": {\"89\": 10, \"76\": 2}, \"117\": {\"117\": 12}, \"78\": {\"78\": 9, \"21\": 2, \"87\": 1}, \"57\": {\"57\": 12}, \"90\": {\"90\": 11, \"112\": 1}, \"43\": {\"43\": 12}, \"50\": {\"50\": 12}, \"49\": {\"49\": 10, \"103\": 1, \"70\": 1}, \"61\": {\"61\": 12}, \"4\": {\"4\": 12}, \"67\": {\"67\": 12}, \"59\": {\"59\": 12}, \"118\": {\"118\": 12}, \"80\": {\"80\": 12}, \"75\": {\"75\": 12}, \"99\": {\"99\": 12}, \"111\": {\"111\": 12}, \"11\": {\"11\": 12}, \"76\": {\"76\": 12}, \"102\": {\"102\": 12}, \"44\": {\"44\": 12}, \"30\": {\"30\": 12}, \"6\": {\"6\": 12}, \"16\": {\"16\": 11, \"118\": 1}, \"79\": {\"79\": 12}, \"39\": {\"39\": 12}, \"101\": {\"101\": 11, \"112\": 1}, \"9\": {\"9\": 11, \"65\": 1}, \"109\": {\"109\": 12}, \"91\": {\"91\": 10, \"108\": 1, \"64\": 1}, \"129\": {\"129\": 12}, \"33\": {\"33\": 12}, \"113\": {\"113\": 12}, \"7\": {\"7\": 12}, \"82\": {\"82\": 12}, \"52\": {\"52\": 12}, \"93\": {\"93\": 12}, \"24\": {\"24\": 11, \"27\": 1}, \"26\": {\"26\": 12}, \"28\": {\"28\": 12}, \"85\": {\"85\": 12}, \"110\": {\"110\": 12}, \"119\": {\"119\": 12}, \"108\": {\"108\": 12}, \"53\": {\"53\": 12}, \"105\": {\"105\": 12}, \"103\": {\"103\": 12}, \"69\": {\"69\": 12}, \"23\": {\"23\": 12}, \"2\": {\"2\": 12}, \"66\": {\"66\": 12}, \"71\": {\"71\": 12}, \"122\": {\"122\": 9, \"128\": 1, \"105\": 1, \"110\": 1}, \"87\": {\"43\": 1, \"87\": 10, \"88\": 1}, \"8\": {\"8\": 12}, \"127\": {\"127\": 12}, \"40\": {\"40\": 12}, \"126\": {\"126\": 9, \"39\": 3}, \"12\": {\"12\": 12}, \"83\": {\"83\": 12}, \"81\": {\"81\": 12}, \"19\": {\"19\": 12}, \"125\": {\"125\": 12}, \"128\": {\"128\": 12}, \"22\": {\"22\": 12}, \"21\": {\"21\": 10, \"30\": 1, \"128\": 1}, \"42\": {\"42\": 12}, \"38\": {\"38\": 12}, \"72\": {\"72\": 12}, \"86\": {\"86\": 12}, \"1\": {\"1\": 12}, \"58\": {\"58\": 12}, \"46\": {\"46\": 12}, \"48\": {\"48\": 11, \"17\": 1}, \"34\": {\"34\": 12}, \"55\": {\"55\": 12}, \"94\": {\"94\": 12}, \"114\": {\"114\": 12}, \"97\": {\"97\": 10, \"106\": 1, \"15\": 1}, \"107\": {\"107\": 12}, \"68\": {\"68\": 12}, \"64\": {\"64\": 12}, \"13\": {\"13\": 10, \"75\": 1, \"21\": 1}, \"115\": {\"115\": 12}, \"62\": {\"62\": 12}, \"51\": {\"51\": 11, \"111\": 1}, \"98\": {\"98\": 10, \"48\": 1, \"44\": 1}, \"45\": {\"45\": 12}, \"74\": {\"74\": 11, \"52\": 1}, \"112\": {\"112\": 10, \"49\": 1, \"43\": 1}, \"41\": {\"41\": 12}, \"32\": {\"32\": 12}, \"104\": {\"104\": 12}, \"65\": {\"65\": 11, \"30\": 1}, \"54\": {\"54\": 11, \"112\": 1}, \"20\": {\"20\": 12}, \"124\": {\"124\": 12}, \"121\": {\"121\": 11, \"20\": 1}, \"106\": {\"106\": 12}, \"18\": {\"18\": 12}, \"17\": {\"17\": 12}, \"73\": {\"73\": 12}, \"70\": {\"70\": 10, \"21\": 1, \"13\": 1}, \"92\": {\"92\": 12}, \"15\": {\"15\": 12}, \"14\": {\"14\": 12}, \"84\": {\"84\": 12}, \"37\": {\"71\": 1, \"37\": 10, \"17\": 1}, \"120\": {\"120\": 10, \"116\": 2}, \"27\": {\"27\": 11, \"36\": 1}, \"35\": {\"35\": 11, \"112\": 1}, \"95\": {\"95\": 12}, \"31\": {\"31\": 12}, \"63\": {\"63\": 12}, \"47\": {\"47\": 12}, \"100\": {\"100\": 12}, \"56\": {\"56\": 12}, \"36\": {\"36\": 10, \"27\": 2}, \"10\": {\"10\": 12}}, \"2\": {\"117\": {\"117\": 12}, \"78\": {\"107\": 2, \"70\": 2, \"78\": 4, \"43\": 3, \"21\": 1}, \"88\": {\"88\": 11, \"14\": 1}, \"5\": {\"5\": 12}, \"89\": {\"89\": 9, \"26\": 2, \"92\": 1}, \"25\": {\"25\": 12}, \"61\": {\"128\": 1, \"61\": 9, \"24\": 1, \"22\": 1}, \"0\": {\"0\": 10, \"101\": 1, \"110\": 1}, \"103\": {\"103\": 11, \"21\": 1}, \"28\": {\"28\": 12}, \"3\": {\"3\": 12}, \"43\": {\"78\": 3, \"43\": 8, \"110\": 1}, \"30\": {\"30\": 11, \"97\": 1}, \"59\": {\"59\": 10, \"24\": 1, \"128\": 1}, \"79\": {\"79\": 11, \"21\": 1}, \"83\": {\"83\": 12}, \"115\": {\"115\": 12}, \"62\": {\"62\": 11, \"78\": 1}, \"26\": {\"26\": 12}, \"50\": {\"70\": 1, \"50\": 11}, \"40\": {\"40\": 10, \"105\": 1, \"126\": 1}, \"4\": {\"4\": 12}, \"68\": {\"68\": 11, \"78\": 1}, \"49\": {\"49\": 6, \"11\": 3, \"59\": 1, \"24\": 1, \"101\": 1}, \"51\": {\"51\": 3, \"98\": 3, \"6\": 2, \"75\": 1, \"58\": 2, \"97\": 1}, \"44\": {\"44\": 12}, \"76\": {\"76\": 12}, \"127\": {\"127\": 12}, \"97\": {\"97\": 12}, \"119\": {\"119\": 12}, \"77\": {\"77\": 9, \"24\": 1, \"91\": 1, \"110\": 1}, \"33\": {\"33\": 12}, \"99\": {\"99\": 12}, \"124\": {\"124\": 12}, \"6\": {\"6\": 11, \"51\": 1}, \"112\": {\"112\": 3, \"126\": 1, \"128\": 2, \"53\": 1, \"3\": 2, \"42\": 2, \"17\": 1}, \"53\": {\"53\": 12}, \"110\": {\"110\": 8, \"122\": 4}, \"11\": {\"11\": 11, \"98\": 1}, \"9\": {\"9\": 12}, \"20\": {\"20\": 11, \"99\": 1}, \"114\": {\"114\": 12}, \"10\": {\"10\": 7, \"24\": 1, \"36\": 1, \"70\": 1, \"21\": 1, \"61\": 1}, \"86\": {\"86\": 12}, \"118\": {\"118\": 9, \"24\": 3}, \"7\": {\"7\": 12}, \"92\": {\"89\": 3, \"92\": 8, \"95\": 1}, \"18\": {\"18\": 10, \"39\": 1, \"21\": 1}, \"94\": {\"94\": 11, \"126\": 1}, \"60\": {\"123\": 1, \"60\": 8, \"57\": 1, \"116\": 2}, \"81\": {\"81\": 11, \"40\": 1}, \"29\": {\"29\": 12}, \"109\": {\"39\": 2, \"81\": 1, \"24\": 1, \"109\": 5, \"31\": 2, \"121\": 1}, \"80\": {\"80\": 11, \"14\": 1}, \"120\": {\"120\": 12}, \"122\": {\"110\": 4, \"122\": 5, \"5\": 1, \"121\": 1, \"128\": 1}, \"106\": {\"106\": 12}, \"55\": {\"55\": 12}, \"104\": {\"104\": 12}, \"70\": {\"70\": 9, \"21\": 1, \"33\": 1, \"126\": 1}, \"24\": {\"24\": 6, \"49\": 1, \"27\": 1, \"94\": 1, \"36\": 3}, \"2\": {\"2\": 12}, \"67\": {\"70\": 1, \"67\": 10, \"82\": 1}, \"72\": {\"72\": 12}, \"91\": {\"91\": 9, \"77\": 3}, \"116\": {\"116\": 12}, \"8\": {\"8\": 12}, \"128\": {\"128\": 6, \"101\": 1, \"71\": 3, \"29\": 1, \"12\": 1}, \"41\": {\"41\": 11, \"29\": 1}, \"113\": {\"113\": 12}, \"12\": {\"12\": 10, \"24\": 1, \"21\": 1}, \"90\": {\"90\": 12}, \"82\": {\"82\": 12}, \"111\": {\"111\": 12}, \"85\": {\"85\": 12}, \"37\": {\"37\": 11, \"91\": 1}, \"23\": {\"23\": 11, \"59\": 1}, \"22\": {\"22\": 12}, \"102\": {\"102\": 12}, \"39\": {\"39\": 11, \"109\": 1}, \"101\": {\"101\": 11, \"0\": 1}, \"87\": {\"87\": 10, \"70\": 1, \"24\": 1}, \"1\": {\"1\": 12}, \"58\": {\"21\": 1, \"58\": 11}, \"47\": {\"47\": 8, \"61\": 1, \"91\": 1, \"88\": 1, \"41\": 1}, \"126\": {\"49\": 1, \"126\": 11}, \"34\": {\"34\": 7, \"124\": 1, \"19\": 1, \"66\": 1, \"91\": 1, \"86\": 1}, \"56\": {\"56\": 12}, \"95\": {\"95\": 11, \"21\": 1}, \"65\": {\"65\": 9, \"23\": 1, \"16\": 1, \"47\": 1}, \"98\": {\"98\": 12}, \"123\": {\"123\": 11, \"83\": 1}, \"69\": {\"69\": 12}, \"108\": {\"108\": 12}, \"13\": {\"13\": 9, \"24\": 1, \"27\": 1, \"70\": 1}, \"15\": {\"15\": 10, \"126\": 1, \"51\": 1}, \"125\": {\"125\": 12}, \"52\": {\"52\": 11, \"83\": 1}, \"46\": {\"46\": 12}, \"45\": {\"36\": 1, \"45\": 11}, \"75\": {\"75\": 11, \"59\": 1}, \"73\": {\"73\": 12}, \"42\": {\"42\": 12}, \"32\": {\"32\": 7, \"52\": 1, \"79\": 1, \"70\": 1, \"14\": 1, \"74\": 1}, \"105\": {\"105\": 12}, \"66\": {\"66\": 10, \"24\": 2}, \"54\": {\"54\": 12}, \"21\": {\"21\": 7, \"115\": 1, \"27\": 1, \"43\": 1, \"78\": 2}, \"64\": {\"64\": 10, \"86\": 1, \"24\": 1}, \"35\": {\"35\": 11, \"62\": 1}, \"107\": {\"107\": 11, \"24\": 1}, \"19\": {\"19\": 12}, \"17\": {\"17\": 10, \"27\": 1, \"21\": 1}, \"74\": {\"74\": 10, \"61\": 1, \"21\": 1}, \"71\": {\"71\": 12}, \"93\": {\"93\": 12}, \"16\": {\"16\": 10, \"93\": 1, \"27\": 1}, \"14\": {\"14\": 9, \"21\": 2, \"24\": 1}, \"84\": {\"84\": 11, \"78\": 1}, \"38\": {\"38\": 12}, \"121\": {\"121\": 9, \"96\": 3}, \"27\": {\"27\": 10, \"36\": 1, \"62\": 1}, \"129\": {\"129\": 12}, \"96\": {\"96\": 9, \"88\": 2, \"72\": 1}, \"31\": {\"31\": 12}, \"63\": {\"63\": 12}, \"48\": {\"48\": 12}, \"100\": {\"100\": 12}, \"57\": {\"57\": 10, \"2\": 1, \"126\": 1}, \"36\": {\"36\": 11, \"27\": 1}}, \"4\": {\"73\": {\"73\": 8, \"108\": 1, \"46\": 3}, \"29\": {\"29\": 12}, \"60\": {\"60\": 7, \"74\": 4, \"115\": 1}, \"50\": {\"50\": 12}, \"96\": {\"96\": 12}, \"64\": {\"64\": 12}, \"99\": {\"99\": 10, \"96\": 1, \"116\": 1}, \"0\": {\"0\": 10, \"73\": 1, \"101\": 1}, \"20\": {\"20\": 12}, \"51\": {\"58\": 1, \"62\": 1, \"29\": 1, \"23\": 3, \"128\": 1, \"69\": 1, \"125\": 3, \"91\": 1}, \"123\": {\"123\": 12}, \"83\": {\"83\": 12}, \"57\": {\"36\": 1, \"57\": 8, \"51\": 1, \"78\": 1, \"74\": 1}, \"33\": {\"33\": 12}, \"17\": {\"17\": 12}, \"62\": {\"118\": 2, \"62\": 8, \"23\": 1, \"17\": 1}, \"4\": {\"4\": 9, \"95\": 1, \"127\": 1, \"9\": 1}, \"18\": {\"18\": 11, \"73\": 1}, \"10\": {\"30\": 4, \"10\": 4, \"36\": 1, \"58\": 1, \"24\": 1, \"97\": 1}, \"102\": {\"102\": 12}, \"110\": {\"110\": 12}, \"68\": {\"68\": 12}, \"70\": {\"70\": 9, \"88\": 2, \"5\": 1}, \"86\": {\"86\": 12}, \"107\": {\"107\": 12}, \"21\": {\"21\": 11, \"39\": 1}, \"119\": {\"60\": 1, \"119\": 11}, \"85\": {\"85\": 11, \"70\": 1}, \"66\": {\"66\": 10, \"90\": 2}, \"124\": {\"124\": 12}, \"116\": {\"99\": 1, \"116\": 9, \"89\": 1, \"34\": 1}, \"71\": {\"71\": 12}, \"129\": {\"129\": 11, \"73\": 1}, \"105\": {\"105\": 7, \"87\": 5}, \"93\": {\"93\": 12}, \"48\": {\"48\": 12}, \"30\": {\"30\": 10, \"23\": 1, \"10\": 1}, \"36\": {\"122\": 1, \"24\": 2, \"36\": 7, \"97\": 2}, \"103\": {\"103\": 12}, \"67\": {\"23\": 1, \"29\": 1, \"67\": 5, \"80\": 1, \"63\": 1, \"69\": 2, \"44\": 1}, \"42\": {\"42\": 9, \"91\": 1, \"108\": 2}, \"100\": {\"100\": 12}, \"28\": {\"28\": 12}, \"23\": {\"62\": 2, \"113\": 1, \"123\": 3, \"52\": 2, \"23\": 2, \"82\": 1, \"60\": 1}, \"49\": {\"49\": 9, \"53\": 3}, \"38\": {\"38\": 11, \"90\": 1}, \"128\": {\"128\": 9, \"86\": 1, \"7\": 2}, \"118\": {\"118\": 12}, \"101\": {\"101\": 10, \"0\": 2}, \"79\": {\"79\": 12}, \"52\": {\"52\": 7, \"41\": 2, \"9\": 1, \"70\": 1, \"53\": 1}, \"6\": {\"6\": 11, \"51\": 1}, \"95\": {\"95\": 12}, \"54\": {\"54\": 10, \"36\": 1, \"97\": 1}, \"26\": {\"26\": 12}, \"69\": {\"69\": 11, \"82\": 1}, \"114\": {\"114\": 12}, \"97\": {\"24\": 3, \"128\": 1, \"36\": 2, \"97\": 3, \"94\": 1, \"48\": 1, \"54\": 1}, \"87\": {\"87\": 6, \"43\": 2, \"105\": 3, \"78\": 1}, \"1\": {\"1\": 8, \"14\": 1, \"33\": 1, \"19\": 1, \"23\": 1}, \"34\": {\"34\": 10, \"47\": 1, \"23\": 1}, \"19\": {\"19\": 12}, \"27\": {\"70\": 1, \"24\": 1, \"27\": 10}, \"5\": {\"5\": 11, \"78\": 1}, \"24\": {\"24\": 8, \"70\": 1, \"36\": 1, \"97\": 1, \"10\": 1}, \"126\": {\"126\": 12}, \"56\": {\"56\": 11, \"9\": 1}, \"59\": {\"59\": 11, \"53\": 1}, \"127\": {\"127\": 12}, \"44\": {\"44\": 12}, \"77\": {\"77\": 11, \"6\": 1}, \"80\": {\"80\": 12}, \"98\": {\"98\": 12}, \"122\": {\"122\": 12}, \"108\": {\"108\": 9, \"78\": 1, \"93\": 1, \"82\": 1}, \"61\": {\"35\": 4, \"61\": 8}, \"22\": {\"22\": 12}, \"63\": {\"63\": 10, \"99\": 2}, \"39\": {\"39\": 9, \"126\": 1, \"24\": 1, \"113\": 1}, \"25\": {\"25\": 10, \"59\": 1, \"9\": 1}, \"3\": {\"3\": 12}, \"78\": {\"78\": 4, \"62\": 1, \"9\": 1, \"61\": 1, \"43\": 4, \"50\": 1}, \"31\": {\"31\": 12}, \"35\": {\"61\": 4, \"35\": 8}, \"91\": {\"91\": 11, \"82\": 1}, \"37\": {\"37\": 12}, \"13\": {\"13\": 12}, \"53\": {\"53\": 12}, \"82\": {\"82\": 10, \"105\": 1, \"118\": 1}, \"92\": {\"92\": 9, \"29\": 1, \"69\": 2}, \"90\": {\"90\": 12}, \"8\": {\"8\": 12}, \"88\": {\"88\": 8, \"129\": 1, \"70\": 1, \"52\": 1, \"73\": 1}, \"16\": {\"16\": 12}, \"45\": {\"45\": 12}, \"89\": {\"89\": 11, \"32\": 1}, \"43\": {\"78\": 3, \"43\": 6, \"122\": 1, \"99\": 1, \"50\": 1}, \"65\": {\"65\": 12}, \"117\": {\"117\": 12}, \"40\": {\"40\": 12}, \"12\": {\"12\": 12}, \"7\": {\"7\": 12}, \"75\": {\"75\": 12}, \"41\": {\"41\": 12}, \"76\": {\"76\": 12}, \"9\": {\"9\": 11, \"27\": 1}, \"125\": {\"125\": 12}, \"120\": {\"120\": 11, \"124\": 1}, \"11\": {\"11\": 12}, \"115\": {\"86\": 3, \"115\": 5, \"67\": 1, \"9\": 1, \"78\": 2}, \"2\": {\"2\": 12}, \"113\": {\"113\": 11, \"78\": 1}, \"112\": {\"112\": 12}, \"94\": {\"94\": 8, \"82\": 1, \"24\": 1, \"36\": 2}, \"109\": {\"109\": 12}, \"74\": {\"100\": 1, \"74\": 11}, \"111\": {\"111\": 12}, \"55\": {\"55\": 12}, \"15\": {\"15\": 11, \"30\": 1}, \"14\": {\"14\": 12}, \"104\": {\"104\": 12}, \"47\": {\"47\": 11, \"112\": 1}, \"58\": {\"29\": 1, \"58\": 11}, \"106\": {\"106\": 12}, \"121\": {\"121\": 7, \"89\": 1, \"20\": 2, \"48\": 1, \"52\": 1}, \"81\": {\"81\": 11, \"52\": 1}, \"84\": {\"84\": 11, \"78\": 1}, \"32\": {\"32\": 11, \"120\": 1}, \"72\": {\"72\": 10, \"9\": 1, \"60\": 1}, \"46\": {\"46\": 12}}, \"1\": {\"49\": {\"53\": 2, \"49\": 4, \"58\": 2, \"31\": 1, \"23\": 1, \"44\": 1, \"104\": 1}, \"1\": {\"1\": 12}, \"119\": {\"119\": 12}, \"28\": {\"28\": 11, \"86\": 1}, \"20\": {\"20\": 12}, \"17\": {\"17\": 10, \"106\": 2}, \"103\": {\"103\": 11, \"9\": 1}, \"85\": {\"85\": 11, \"0\": 1}, \"87\": {\"128\": 1, \"87\": 11}, \"84\": {\"84\": 12}, \"34\": {\"34\": 9, \"125\": 3}, \"16\": {\"16\": 12}, \"6\": {\"6\": 12}, \"31\": {\"31\": 12}, \"92\": {\"92\": 12}, \"96\": {\"126\": 2, \"108\": 2, \"96\": 5, \"47\": 1, \"17\": 1, \"20\": 1}, \"64\": {\"64\": 12}, \"40\": {\"40\": 11, \"93\": 1}, \"69\": {\"69\": 12}, \"99\": {\"99\": 12}, \"3\": {\"83\": 1, \"3\": 10, \"27\": 1}, \"50\": {\"50\": 12}, \"21\": {\"83\": 1, \"11\": 1, \"21\": 5, \"108\": 1, \"2\": 1, \"17\": 1, \"78\": 1, \"20\": 1}, \"7\": {\"7\": 12}, \"0\": {\"0\": 11, \"85\": 1}, \"44\": {\"44\": 12}, \"19\": {\"19\": 12}, \"22\": {\"22\": 8, \"116\": 4}, \"32\": {\"110\": 5, \"32\": 4, \"55\": 1, \"23\": 1, \"93\": 1}, \"125\": {\"125\": 12}, \"82\": {\"82\": 12}, \"33\": {\"33\": 12}, \"45\": {\"45\": 2, \"86\": 1, \"48\": 3, \"104\": 2, \"44\": 2, \"108\": 1, \"27\": 1}, \"109\": {\"109\": 9, \"44\": 1, \"47\": 1, \"104\": 1}, \"105\": {\"105\": 11, \"69\": 1}, \"76\": {\"76\": 11, \"13\": 1}, \"59\": {\"59\": 9, \"18\": 1, \"71\": 1, \"53\": 1}, \"120\": {\"120\": 12}, \"41\": {\"7\": 2, \"41\": 10}, \"26\": {\"26\": 12}, \"42\": {\"42\": 7, \"91\": 2, \"60\": 1, \"123\": 1, \"104\": 1}, \"79\": {\"79\": 12}, \"97\": {\"97\": 4, \"27\": 2, \"88\": 3, \"24\": 2, \"23\": 1}, \"110\": {\"110\": 12}, \"128\": {\"128\": 10, \"9\": 1, \"70\": 1}, \"55\": {\"55\": 12}, \"23\": {\"70\": 1, \"23\": 6, \"49\": 2, \"58\": 1, \"44\": 1, \"87\": 1}, \"4\": {\"4\": 12}, \"14\": {\"14\": 12}, \"126\": {\"126\": 11, \"109\": 1}, \"111\": {\"111\": 12}, \"39\": {\"39\": 11, \"16\": 1}, \"35\": {\"35\": 11, \"94\": 1}, \"102\": {\"102\": 12}, \"113\": {\"113\": 12}, \"89\": {\"89\": 12}, \"46\": {\"46\": 6, \"94\": 3, \"89\": 3}, \"91\": {\"91\": 12}, \"83\": {\"83\": 12}, \"81\": {\"81\": 12}, \"88\": {\"97\": 1, \"27\": 1, \"36\": 3, \"88\": 7}, \"95\": {\"95\": 10, \"34\": 1, \"59\": 1}, \"53\": {\"53\": 11, \"98\": 1}, \"75\": {\"75\": 12}, \"122\": {\"122\": 11, \"43\": 1}, \"107\": {\"107\": 10, \"4\": 1, \"93\": 1}, \"104\": {\"104\": 11, \"21\": 1}, \"12\": {\"12\": 12}, \"112\": {\"112\": 11, \"108\": 1}, \"63\": {\"63\": 12}, \"30\": {\"30\": 12}, \"9\": {\"9\": 11, \"103\": 1}, \"78\": {\"78\": 4, \"40\": 1, \"23\": 1, \"35\": 1, \"27\": 1, \"21\": 1, \"43\": 3}, \"18\": {\"18\": 12}, \"116\": {\"22\": 1, \"116\": 8, \"61\": 3}, \"36\": {\"36\": 11, \"88\": 1}, \"100\": {\"100\": 11, \"25\": 1}, \"74\": {\"74\": 12}, \"61\": {\"65\": 1, \"61\": 10, \"21\": 1}, \"8\": {\"8\": 10, \"107\": 1, \"29\": 1}, \"70\": {\"70\": 8, \"5\": 1, \"128\": 2, \"49\": 1}, \"108\": {\"108\": 12}, \"77\": {\"77\": 12}, \"93\": {\"93\": 9, \"87\": 1, \"4\": 2}, \"37\": {\"37\": 12}, \"118\": {\"118\": 12}, \"80\": {\"80\": 12}, \"106\": {\"106\": 12}, \"58\": {\"53\": 3, \"58\": 9}, \"56\": {\"56\": 11, \"6\": 1}, \"86\": {\"86\": 11, \"52\": 1}, \"90\": {\"90\": 12}, \"123\": {\"123\": 12}, \"94\": {\"94\": 12}, \"52\": {\"52\": 12}, \"47\": {\"47\": 11, \"9\": 1}, \"117\": {\"117\": 12}, \"124\": {\"124\": 12}, \"71\": {\"71\": 10, \"78\": 1, \"113\": 1}, \"67\": {\"67\": 12}, \"15\": {\"15\": 9, \"49\": 1, \"111\": 2}, \"5\": {\"5\": 12}, \"24\": {\"24\": 11, \"108\": 1}, \"62\": {\"62\": 11, \"78\": 1}, \"13\": {\"13\": 12}, \"101\": {\"101\": 11, \"50\": 1}, \"51\": {\"51\": 8, \"98\": 3, \"6\": 1}, \"129\": {\"129\": 9, \"19\": 1, \"2\": 2}, \"65\": {\"76\": 2, \"65\": 8, \"17\": 1, \"116\": 1}, \"121\": {\"121\": 9, \"76\": 2, \"16\": 1}, \"43\": {\"43\": 8, \"71\": 1, \"78\": 3}, \"73\": {\"73\": 12}, \"68\": {\"68\": 11, \"60\": 1}, \"66\": {\"66\": 12}, \"60\": {\"60\": 5, \"123\": 3, \"34\": 3, \"57\": 1}, \"115\": {\"115\": 12}, \"38\": {\"38\": 12}, \"2\": {\"11\": 4, \"82\": 1, \"129\": 1, \"119\": 1, \"2\": 5}, \"127\": {\"127\": 11, \"17\": 1}, \"54\": {\"54\": 12}, \"72\": {\"72\": 12}, \"27\": {\"27\": 11, \"15\": 1}, \"57\": {\"57\": 11, \"61\": 1}, \"48\": {\"48\": 10, \"121\": 1, \"123\": 1}, \"114\": {\"114\": 12}, \"25\": {\"25\": 12}, \"11\": {\"11\": 12}, \"29\": {\"29\": 12}, \"98\": {\"98\": 12}, \"10\": {\"10\": 12}}}, \"per_domain_accuracy\": {\"3\": {\"accuracy\": 0.9685897435897436, \"source?\": true}, \"2\": {\"accuracy\": 0.8782051282051282, \"source?\": false}, \"4\": {\"accuracy\": 0.8660256410256411, \"source?\": false}, \"1\": {\"accuracy\": 0.8794871794871795, \"source?\": false}}}, \"history\": {\"epoch_indices\": [1, 2, 3, 4, 5, 6, 7, 8, 9, 10, 11, 12, 13, 14, 15, 16, 17, 18, 19, 20, 21, 22, 23, 24, 25, 26, 27, 28], \"train_label_loss\": [2.5586981799867416, 1.151293118794759, 0.7418156994713677, 0.546257613102595, 0.415510716703203, 0.30994693405098384, 0.2727428376674652, 0.23217088149653542, 0.20230125354395972, 0.17431034213966792, 0.1583005976345804, 0.15048233303758835, 0.14568219400114482, 0.1314900761677159, 0.12901209336188105, 0.10082568236523204, 0.12182794084979429, 0.10194100356764263, 0.10161256165140205, 0.10477810253699621, 0.09057741086516115, 0.10482920068833564, 0.07769059857560529, 0.09070850354101923, 0.08629323711825741, 0.07420133969022168, 0.07418811300562488, 0.07593158394512203], \"source_val_label_loss\": [1.4131181240081787, 0.9339852333068848, 0.6657609343528748, 0.5016589760780334, 0.40499788522720337, 0.32935237884521484, 0.29657334089279175, 0.26889878511428833, 0.24403509497642517, 0.24522742629051208, 0.22716942429542542, 0.22664205729961395, 0.22033700346946716, 0.2044130563735962, 0.21552234888076782, 0.20959874987602234, 0.21014945209026337, 0.2020154446363449, 0.20707635581493378, 0.20631246268749237, 0.20424090325832367, 0.19087859988212585, 0.20182260870933533, 0.1925668567419052, 0.21711856126785278, 0.20005512237548828, 0.2069835662841797, 0.19077378511428833], \"target_val_label_loss\": [1.65532648563385, 1.2728607654571533, 1.0975362062454224, 0.9740702509880066, 0.933737576007843, 0.855134129524231, 0.8203418254852295, 0.8217930793762207, 0.7921077609062195, 0.7995309233665466, 0.7838894128799438, 0.7597395777702332, 0.7752844095230103, 0.7667046189308167, 0.765393853187561, 0.7503920197486877, 0.7628524899482727, 0.7466109991073608, 0.752993106842041, 0.7488518357276917, 0.7617289423942566, 0.7376322150230408, 0.7502401471138, 0.7419765591621399, 0.7445135116577148, 0.7338092923164368, 0.7554653286933899, 0.7546157836914062], \"source_val_acc_label\": [0.7711538461538462, 0.8307692307692308, 0.8705128205128205, 0.8916666666666667, 0.9230769230769231, 0.9442307692307692, 0.95, 0.958974358974359, 0.9615384615384616, 0.9608974358974359, 0.9621794871794872, 0.9653846153846154, 0.9653846153846154, 0.9692307692307692, 0.9647435897435898, 0.9653846153846154, 0.966025641025641, 0.9692307692307692, 0.9705128205128205, 0.9685897435897436, 0.9711538461538461, 0.9692307692307692, 0.9711538461538461, 0.9685897435897436, 0.9673076923076923, 0.9692307692307692, 0.9698717948717949, 0.9685897435897436], \"target_val_acc_label\": [0.707905982905983, 0.7698717948717949, 0.7952991452991452, 0.8170940170940171, 0.8262820512820512, 0.842948717948718, 0.8480769230769231, 0.847008547008547, 0.8517094017094017, 0.8497863247863248, 0.857051282051282, 0.8596153846153847, 0.8604700854700855, 0.8653846153846154, 0.8660256410256411, 0.864957264957265, 0.8645299145299146, 0.8668803418803419, 0.8664529914529915, 0.8681623931623932, 0.8705128205128205, 0.872008547008547, 0.8717948717948718, 0.8745726495726496, 0.8717948717948718, 0.8737179487179487, 0.8724358974358974, 0.8698717948717949]}, \"dataset_metrics\": {\"source\": {\"train\": {\"n_unique_x\": 19768, \"n_unique_y\": 130, \"n_batch/episode\": 45}, \"val\": {\"n_unique_x\": 3153, \"n_unique_y\": 130, \"n_batch/episode\": 6}, \"test\": {\"n_unique_x\": 3209, \"n_unique_y\": 130, \"n_batch/episode\": 6}}, \"target\": {\"train\": {\"n_unique_x\": 60353, \"n_unique_y\": 130, \"n_batch/episode\": 138}, \"val\": {\"n_unique_x\": 9462, \"n_unique_y\": 130, \"n_batch/episode\": 18}, \"test\": {\"n_unique_x\": 9574, \"n_unique_y\": 130, \"n_batch/episode\": 18}}}}'"
      ]
     },
     "execution_count": 20,
     "metadata": {},
     "output_type": "execute_result"
    }
   ],
   "source": [
    "json.dumps(experiment)"
   ]
  }
 ],
 "metadata": {
  "celltoolbar": "Tags",
  "kernelspec": {
   "display_name": "Python 3 (ipykernel)",
   "language": "python",
   "name": "python3"
  },
  "language_info": {
   "codemirror_mode": {
    "name": "ipython",
    "version": 3
   },
   "file_extension": ".py",
   "mimetype": "text/x-python",
   "name": "python",
   "nbconvert_exporter": "python",
   "pygments_lexer": "ipython3",
   "version": "3.8.10"
  },
  "papermill": {
   "default_parameters": {},
   "duration": 278.318438,
   "end_time": "2022-03-22T17:08:46.271596",
   "environment_variables": {},
   "exception": null,
   "input_path": "/mnt/wd500GB/CSC500/csc500-main/csc500-notebooks/templates/ptn_template.ipynb",
   "output_path": "trial.ipynb",
   "parameters": {
    "parameters": {
     "BEST_MODEL_PATH": "./best_model.pth",
     "NUM_LOGS_PER_EPOCH": 10,
     "criteria_for_best": "target_accuracy",
     "dataset_seed": 1337,
     "device": "cuda",
     "domains_source": [
      3
     ],
     "domains_target": [
      1,
      2,
      4
     ],
     "episode_transforms_source": [],
     "episode_transforms_target": [],
     "experiment_name": "tuned_1v2:wisig",
     "labels_source": [
      "1-10",
      "1-12",
      "1-14",
      "1-16",
      "1-18",
      "1-19",
      "1-8",
      "10-11",
      "10-17",
      "10-4",
      "10-7",
      "11-1",
      "11-10",
      "11-19",
      "11-20",
      "11-4",
      "11-7",
      "12-19",
      "12-20",
      "12-7",
      "13-14",
      "13-18",
      "13-19",
      "13-20",
      "13-3",
      "13-7",
      "14-10",
      "14-11",
      "14-12",
      "14-13",
      "14-14",
      "14-19",
      "14-20",
      "14-7",
      "14-8",
      "14-9",
      "15-1",
      "15-19",
      "15-6",
      "16-1",
      "16-16",
      "16-19",
      "16-20",
      "17-10",
      "17-11",
      "18-1",
      "18-10",
      "18-11",
      "18-12",
      "18-13",
      "18-14",
      "18-15",
      "18-16",
      "18-17",
      "18-19",
      "18-2",
      "18-20",
      "18-4",
      "18-5",
      "18-7",
      "18-8",
      "18-9",
      "19-1",
      "19-10",
      "19-11",
      "19-12",
      "19-13",
      "19-14",
      "19-15",
      "19-19",
      "19-2",
      "19-20",
      "19-3",
      "19-4",
      "19-6",
      "19-7",
      "19-8",
      "19-9",
      "2-1",
      "2-13",
      "2-15",
      "2-3",
      "2-4",
      "2-5",
      "2-6",
      "2-7",
      "2-8",
      "20-1",
      "20-12",
      "20-14",
      "20-15",
      "20-16",
      "20-18",
      "20-19",
      "20-20",
      "20-3",
      "20-4",
      "20-5",
      "20-7",
      "20-8",
      "3-1",
      "3-13",
      "3-18",
      "3-2",
      "3-8",
      "4-1",
      "4-10",
      "4-11",
      "5-1",
      "5-5",
      "6-1",
      "6-15",
      "6-6",
      "7-10",
      "7-11",
      "7-12",
      "7-13",
      "7-14",
      "7-7",
      "7-8",
      "7-9",
      "8-1",
      "8-13",
      "8-14",
      "8-18",
      "8-20",
      "8-3",
      "8-8",
      "9-1",
      "9-7"
     ],
     "labels_target": [
      "1-10",
      "1-12",
      "1-14",
      "1-16",
      "1-18",
      "1-19",
      "1-8",
      "10-11",
      "10-17",
      "10-4",
      "10-7",
      "11-1",
      "11-10",
      "11-19",
      "11-20",
      "11-4",
      "11-7",
      "12-19",
      "12-20",
      "12-7",
      "13-14",
      "13-18",
      "13-19",
      "13-20",
      "13-3",
      "13-7",
      "14-10",
      "14-11",
      "14-12",
      "14-13",
      "14-14",
      "14-19",
      "14-20",
      "14-7",
      "14-8",
      "14-9",
      "15-1",
      "15-19",
      "15-6",
      "16-1",
      "16-16",
      "16-19",
      "16-20",
      "17-10",
      "17-11",
      "18-1",
      "18-10",
      "18-11",
      "18-12",
      "18-13",
      "18-14",
      "18-15",
      "18-16",
      "18-17",
      "18-19",
      "18-2",
      "18-20",
      "18-4",
      "18-5",
      "18-7",
      "18-8",
      "18-9",
      "19-1",
      "19-10",
      "19-11",
      "19-12",
      "19-13",
      "19-14",
      "19-15",
      "19-19",
      "19-2",
      "19-20",
      "19-3",
      "19-4",
      "19-6",
      "19-7",
      "19-8",
      "19-9",
      "2-1",
      "2-13",
      "2-15",
      "2-3",
      "2-4",
      "2-5",
      "2-6",
      "2-7",
      "2-8",
      "20-1",
      "20-12",
      "20-14",
      "20-15",
      "20-16",
      "20-18",
      "20-19",
      "20-20",
      "20-3",
      "20-4",
      "20-5",
      "20-7",
      "20-8",
      "3-1",
      "3-13",
      "3-18",
      "3-2",
      "3-8",
      "4-1",
      "4-10",
      "4-11",
      "5-1",
      "5-5",
      "6-1",
      "6-15",
      "6-6",
      "7-10",
      "7-11",
      "7-12",
      "7-13",
      "7-14",
      "7-7",
      "7-8",
      "7-9",
      "8-1",
      "8-13",
      "8-14",
      "8-18",
      "8-20",
      "8-3",
      "8-8",
      "9-1",
      "9-7"
     ],
     "lr": 0.0001,
     "n_epoch": 50,
     "n_query": 2,
     "n_shot": 3,
     "n_way": 130,
     "num_examples_per_domain_per_label_source": -1,
     "num_examples_per_domain_per_label_target": -1,
     "patience": 3,
     "pickle_name": "wisig.node3-19.stratified_ds.2022A.pkl",
     "seed": 1337,
     "test_k_factor": 2,
     "torch_default_dtype": "torch.float32",
     "train_k_factor": 3,
     "val_k_factor": 2,
     "x_net": [
      {
       "class": "nnReshape",
       "kargs": {
        "shape": [
         -1,
         1,
         2,
         256
        ]
       }
      },
      {
       "class": "Conv2d",
       "kargs": {
        "bias": false,
        "in_channels": 1,
        "kernel_size": [
         1,
         7
        ],
        "out_channels": 256,
        "padding": [
         0,
         3
        ]
       }
      },
      {
       "class": "ReLU",
       "kargs": {
        "inplace": true
       }
      },
      {
       "class": "BatchNorm2d",
       "kargs": {
        "num_features": 256
       }
      },
      {
       "class": "Conv2d",
       "kargs": {
        "bias": true,
        "in_channels": 256,
        "kernel_size": [
         2,
         7
        ],
        "out_channels": 80,
        "padding": [
         0,
         3
        ]
       }
      },
      {
       "class": "ReLU",
       "kargs": {
        "inplace": true
       }
      },
      {
       "class": "BatchNorm2d",
       "kargs": {
        "num_features": 80
       }
      },
      {
       "class": "Flatten",
       "kargs": {}
      },
      {
       "class": "Linear",
       "kargs": {
        "in_features": 20480,
        "out_features": 256
       }
      },
      {
       "class": "ReLU",
       "kargs": {
        "inplace": true
       }
      },
      {
       "class": "BatchNorm1d",
       "kargs": {
        "num_features": 256
       }
      },
      {
       "class": "Linear",
       "kargs": {
        "in_features": 256,
        "out_features": 256
       }
      }
     ],
     "x_transforms_source": [
      "unit_power"
     ],
     "x_transforms_target": [
      "unit_power"
     ]
    }
   },
   "start_time": "2022-03-22T17:04:07.953158",
   "version": "2.3.4"
  }
 },
 "nbformat": 4,
 "nbformat_minor": 5
}