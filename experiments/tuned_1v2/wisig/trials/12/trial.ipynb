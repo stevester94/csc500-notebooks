{
 "cells": [
  {
   "cell_type": "markdown",
   "id": "9fea5f46",
   "metadata": {
    "papermill": {
     "duration": 0.014074,
     "end_time": "2022-03-22T17:21:22.435947",
     "exception": false,
     "start_time": "2022-03-22T17:21:22.421873",
     "status": "completed"
    },
    "tags": []
   },
   "source": [
    "# PTN Template\n",
    "This notebook serves as a template for single dataset PTN experiments  \n",
    "It can be run on its own by setting STANDALONE to True (do a find for \"STANDALONE\" to see where)  \n",
    "But it is intended to be executed as part of a *papermill.py script. See any of the   \n",
    "experimentes with a papermill script to get started with that workflow.  "
   ]
  },
  {
   "cell_type": "code",
   "execution_count": 1,
   "id": "0902182a",
   "metadata": {
    "execution": {
     "iopub.execute_input": "2022-03-22T17:21:22.468447Z",
     "iopub.status.busy": "2022-03-22T17:21:22.467966Z",
     "iopub.status.idle": "2022-03-22T17:21:23.436850Z",
     "shell.execute_reply": "2022-03-22T17:21:23.437082Z"
    },
    "papermill": {
     "duration": 0.991895,
     "end_time": "2022-03-22T17:21:23.437204",
     "exception": false,
     "start_time": "2022-03-22T17:21:22.445309",
     "status": "completed"
    },
    "tags": []
   },
   "outputs": [],
   "source": [
    "%load_ext autoreload\n",
    "%autoreload 2\n",
    "%matplotlib inline\n",
    "\n",
    "    \n",
    "import os, json, sys, time, random\n",
    "import numpy as np\n",
    "import torch\n",
    "from torch.optim import Adam\n",
    "from  easydict import EasyDict\n",
    "import matplotlib.pyplot as plt\n",
    "\n",
    "from steves_models.steves_ptn import Steves_Prototypical_Network\n",
    "\n",
    "from steves_utils.lazy_iterable_wrapper import Lazy_Iterable_Wrapper\n",
    "from steves_utils.iterable_aggregator import Iterable_Aggregator\n",
    "from steves_utils.ptn_train_eval_test_jig import  PTN_Train_Eval_Test_Jig\n",
    "from steves_utils.torch_sequential_builder import build_sequential\n",
    "from steves_utils.torch_utils import get_dataset_metrics, ptn_confusion_by_domain_over_dataloader\n",
    "from steves_utils.utils_v2 import (per_domain_accuracy_from_confusion, get_datasets_base_path)\n",
    "from steves_utils.PTN.utils import independent_accuracy_assesment\n",
    "\n",
    "from steves_utils.stratified_dataset.episodic_accessor import Episodic_Accessor_Factory\n",
    "\n",
    "from steves_utils.ptn_do_report import (\n",
    "    get_loss_curve,\n",
    "    get_results_table,\n",
    "    get_parameters_table,\n",
    "    get_domain_accuracies,\n",
    ")\n",
    "\n",
    "from steves_utils.transforms import get_chained_transform"
   ]
  },
  {
   "cell_type": "markdown",
   "id": "41c840b4",
   "metadata": {
    "papermill": {
     "duration": 0.009223,
     "end_time": "2022-03-22T17:21:23.456127",
     "exception": false,
     "start_time": "2022-03-22T17:21:23.446904",
     "status": "completed"
    },
    "tags": []
   },
   "source": [
    "# Required Parameters\n",
    "These are allowed parameters, not defaults\n",
    "Each of these values need to be present in the injected parameters (the notebook will raise an exception if they are not present)\n",
    "\n",
    "Papermill uses the cell tag \"parameters\" to inject the real parameters below this cell.\n",
    "Enable tags to see what I mean"
   ]
  },
  {
   "cell_type": "code",
   "execution_count": 2,
   "id": "fd44eb83",
   "metadata": {
    "execution": {
     "iopub.execute_input": "2022-03-22T17:21:23.477860Z",
     "iopub.status.busy": "2022-03-22T17:21:23.477602Z",
     "iopub.status.idle": "2022-03-22T17:21:23.491360Z",
     "shell.execute_reply": "2022-03-22T17:21:23.491140Z"
    },
    "papermill": {
     "duration": 0.026125,
     "end_time": "2022-03-22T17:21:23.491411",
     "exception": false,
     "start_time": "2022-03-22T17:21:23.465286",
     "status": "completed"
    },
    "tags": []
   },
   "outputs": [],
   "source": [
    "required_parameters = {\n",
    "    \"experiment_name\",\n",
    "    \"lr\",\n",
    "    \"device\",\n",
    "    \"seed\",\n",
    "    \"dataset_seed\",\n",
    "    \"labels_source\",\n",
    "    \"labels_target\",\n",
    "    \"domains_source\",\n",
    "    \"domains_target\",\n",
    "    \"num_examples_per_domain_per_label_source\",\n",
    "    \"num_examples_per_domain_per_label_target\",\n",
    "    \"n_shot\",\n",
    "    \"n_way\",\n",
    "    \"n_query\",\n",
    "    \"train_k_factor\",\n",
    "    \"val_k_factor\",\n",
    "    \"test_k_factor\",\n",
    "    \"n_epoch\",\n",
    "    \"patience\",\n",
    "    \"criteria_for_best\",\n",
    "    \"x_transforms_source\",\n",
    "    \"x_transforms_target\",\n",
    "    \"episode_transforms_source\",\n",
    "    \"episode_transforms_target\",\n",
    "    \"pickle_name\",\n",
    "    \"x_net\",\n",
    "    \"NUM_LOGS_PER_EPOCH\",\n",
    "    \"BEST_MODEL_PATH\",\n",
    "    \"torch_default_dtype\"\n",
    "}"
   ]
  },
  {
   "cell_type": "code",
   "execution_count": 3,
   "id": "fa3f0049",
   "metadata": {
    "execution": {
     "iopub.execute_input": "2022-03-22T17:21:23.520060Z",
     "iopub.status.busy": "2022-03-22T17:21:23.511459Z",
     "iopub.status.idle": "2022-03-22T17:21:23.533123Z",
     "shell.execute_reply": "2022-03-22T17:21:23.533327Z"
    },
    "papermill": {
     "duration": 0.032688,
     "end_time": "2022-03-22T17:21:23.533384",
     "exception": false,
     "start_time": "2022-03-22T17:21:23.500696",
     "status": "completed"
    },
    "tags": [
     "parameters"
    ]
   },
   "outputs": [],
   "source": [
    "\n",
    "\n",
    "standalone_parameters = {}\n",
    "standalone_parameters[\"experiment_name\"] = \"STANDALONE PTN\"\n",
    "standalone_parameters[\"lr\"] = 0.0001\n",
    "standalone_parameters[\"device\"] = \"cuda\"\n",
    "\n",
    "standalone_parameters[\"seed\"] = 1337\n",
    "standalone_parameters[\"dataset_seed\"] = 1337\n",
    "\n",
    "\n",
    "standalone_parameters[\"num_examples_per_domain_per_label_source\"]=100\n",
    "standalone_parameters[\"num_examples_per_domain_per_label_target\"]=100\n",
    "\n",
    "standalone_parameters[\"n_shot\"] = 3\n",
    "standalone_parameters[\"n_query\"]  = 2\n",
    "standalone_parameters[\"train_k_factor\"] = 1\n",
    "standalone_parameters[\"val_k_factor\"] = 2\n",
    "standalone_parameters[\"test_k_factor\"] = 2\n",
    "\n",
    "\n",
    "standalone_parameters[\"n_epoch\"] = 100\n",
    "\n",
    "standalone_parameters[\"patience\"] = 10\n",
    "standalone_parameters[\"criteria_for_best\"] = \"target_accuracy\"\n",
    "\n",
    "standalone_parameters[\"x_transforms_source\"] = [\"unit_power\"]\n",
    "standalone_parameters[\"x_transforms_target\"] = [\"unit_power\"]\n",
    "standalone_parameters[\"episode_transforms_source\"] = []\n",
    "standalone_parameters[\"episode_transforms_target\"] = []\n",
    "\n",
    "standalone_parameters[\"torch_default_dtype\"] = \"torch.float32\" \n",
    "\n",
    "\n",
    "\n",
    "standalone_parameters[\"x_net\"] =     [\n",
    "    {\"class\": \"nnReshape\", \"kargs\": {\"shape\":[-1, 1, 2, 256]}},\n",
    "    {\"class\": \"Conv2d\", \"kargs\": { \"in_channels\":1, \"out_channels\":256, \"kernel_size\":(1,7), \"bias\":False, \"padding\":(0,3), },},\n",
    "    {\"class\": \"ReLU\", \"kargs\": {\"inplace\": True}},\n",
    "    {\"class\": \"BatchNorm2d\", \"kargs\": {\"num_features\":256}},\n",
    "\n",
    "    {\"class\": \"Conv2d\", \"kargs\": { \"in_channels\":256, \"out_channels\":80, \"kernel_size\":(2,7), \"bias\":True, \"padding\":(0,3), },},\n",
    "    {\"class\": \"ReLU\", \"kargs\": {\"inplace\": True}},\n",
    "    {\"class\": \"BatchNorm2d\", \"kargs\": {\"num_features\":80}},\n",
    "    {\"class\": \"Flatten\", \"kargs\": {}},\n",
    "\n",
    "    {\"class\": \"Linear\", \"kargs\": {\"in_features\": 80*256, \"out_features\": 256}}, # 80 units per IQ pair\n",
    "    {\"class\": \"ReLU\", \"kargs\": {\"inplace\": True}},\n",
    "    {\"class\": \"BatchNorm1d\", \"kargs\": {\"num_features\":256}},\n",
    "\n",
    "    {\"class\": \"Linear\", \"kargs\": {\"in_features\": 256, \"out_features\": 256}},\n",
    "]\n",
    "\n",
    "# Parameters relevant to results\n",
    "# These parameters will basically never need to change\n",
    "standalone_parameters[\"NUM_LOGS_PER_EPOCH\"] = 10\n",
    "standalone_parameters[\"BEST_MODEL_PATH\"] = \"./best_model.pth\"\n",
    "\n",
    "# uncomment for CORES dataset\n",
    "from steves_utils.CORES.utils import (\n",
    "    ALL_NODES,\n",
    "    ALL_NODES_MINIMUM_1000_EXAMPLES,\n",
    "    ALL_DAYS\n",
    ")\n",
    "\n",
    "\n",
    "standalone_parameters[\"labels_source\"] = ALL_NODES\n",
    "standalone_parameters[\"labels_target\"] = ALL_NODES\n",
    "\n",
    "standalone_parameters[\"domains_source\"] = [1]\n",
    "standalone_parameters[\"domains_target\"] = [2,3,4,5]\n",
    "\n",
    "standalone_parameters[\"pickle_name\"] = \"cores.stratified_ds.2022A.pkl\"\n",
    "\n",
    "\n",
    "# Uncomment these for ORACLE dataset\n",
    "# from steves_utils.ORACLE.utils_v2 import (\n",
    "#     ALL_DISTANCES_FEET,\n",
    "#     ALL_RUNS,\n",
    "#     ALL_SERIAL_NUMBERS,\n",
    "# )\n",
    "# standalone_parameters[\"labels_source\"] = ALL_SERIAL_NUMBERS\n",
    "# standalone_parameters[\"labels_target\"] = ALL_SERIAL_NUMBERS\n",
    "# standalone_parameters[\"domains_source\"] = [8,20, 38,50]\n",
    "# standalone_parameters[\"domains_target\"] = [14, 26, 32, 44, 56]\n",
    "# standalone_parameters[\"pickle_name\"] = \"oracle.frame_indexed.stratified_ds.2022A.pkl\"\n",
    "# standalone_parameters[\"num_examples_per_domain_per_label_source\"]=1000\n",
    "# standalone_parameters[\"num_examples_per_domain_per_label_target\"]=1000\n",
    "\n",
    "# Uncomment these for Metahan dataset\n",
    "# standalone_parameters[\"labels_source\"] = list(range(19))\n",
    "# standalone_parameters[\"labels_target\"] = list(range(19))\n",
    "# standalone_parameters[\"domains_source\"] = [0]\n",
    "# standalone_parameters[\"domains_target\"] = [1]\n",
    "# standalone_parameters[\"pickle_name\"] = \"metehan.stratified_ds.2022A.pkl\"\n",
    "# standalone_parameters[\"n_way\"]  = len(standalone_parameters[\"labels_source\"])\n",
    "# standalone_parameters[\"num_examples_per_domain_per_label_source\"]=200\n",
    "# standalone_parameters[\"num_examples_per_domain_per_label_target\"]=100\n",
    "\n",
    "\n",
    "standalone_parameters[\"n_way\"]  = len(standalone_parameters[\"labels_source\"])"
   ]
  },
  {
   "cell_type": "code",
   "execution_count": 4,
   "id": "0341392b",
   "metadata": {
    "execution": {
     "iopub.execute_input": "2022-03-22T17:21:23.562389Z",
     "iopub.status.busy": "2022-03-22T17:21:23.562043Z",
     "iopub.status.idle": "2022-03-22T17:21:23.574528Z",
     "shell.execute_reply": "2022-03-22T17:21:23.574876Z"
    },
    "papermill": {
     "duration": 0.032274,
     "end_time": "2022-03-22T17:21:23.574981",
     "exception": false,
     "start_time": "2022-03-22T17:21:23.542707",
     "status": "completed"
    },
    "tags": [
     "injected-parameters"
    ]
   },
   "outputs": [],
   "source": [
    "# Parameters\n",
    "parameters = {\n",
    "    \"experiment_name\": \"tuned_1v2:wisig\",\n",
    "    \"device\": \"cuda\",\n",
    "    \"lr\": 0.0001,\n",
    "    \"labels_source\": [\n",
    "        \"1-10\",\n",
    "        \"1-12\",\n",
    "        \"1-14\",\n",
    "        \"1-16\",\n",
    "        \"1-18\",\n",
    "        \"1-19\",\n",
    "        \"1-8\",\n",
    "        \"10-11\",\n",
    "        \"10-17\",\n",
    "        \"10-4\",\n",
    "        \"10-7\",\n",
    "        \"11-1\",\n",
    "        \"11-10\",\n",
    "        \"11-19\",\n",
    "        \"11-20\",\n",
    "        \"11-4\",\n",
    "        \"11-7\",\n",
    "        \"12-19\",\n",
    "        \"12-20\",\n",
    "        \"12-7\",\n",
    "        \"13-14\",\n",
    "        \"13-18\",\n",
    "        \"13-19\",\n",
    "        \"13-20\",\n",
    "        \"13-3\",\n",
    "        \"13-7\",\n",
    "        \"14-10\",\n",
    "        \"14-11\",\n",
    "        \"14-12\",\n",
    "        \"14-13\",\n",
    "        \"14-14\",\n",
    "        \"14-19\",\n",
    "        \"14-20\",\n",
    "        \"14-7\",\n",
    "        \"14-8\",\n",
    "        \"14-9\",\n",
    "        \"15-1\",\n",
    "        \"15-19\",\n",
    "        \"15-6\",\n",
    "        \"16-1\",\n",
    "        \"16-16\",\n",
    "        \"16-19\",\n",
    "        \"16-20\",\n",
    "        \"17-10\",\n",
    "        \"17-11\",\n",
    "        \"18-1\",\n",
    "        \"18-10\",\n",
    "        \"18-11\",\n",
    "        \"18-12\",\n",
    "        \"18-13\",\n",
    "        \"18-14\",\n",
    "        \"18-15\",\n",
    "        \"18-16\",\n",
    "        \"18-17\",\n",
    "        \"18-19\",\n",
    "        \"18-2\",\n",
    "        \"18-20\",\n",
    "        \"18-4\",\n",
    "        \"18-5\",\n",
    "        \"18-7\",\n",
    "        \"18-8\",\n",
    "        \"18-9\",\n",
    "        \"19-1\",\n",
    "        \"19-10\",\n",
    "        \"19-11\",\n",
    "        \"19-12\",\n",
    "        \"19-13\",\n",
    "        \"19-14\",\n",
    "        \"19-15\",\n",
    "        \"19-19\",\n",
    "        \"19-2\",\n",
    "        \"19-20\",\n",
    "        \"19-3\",\n",
    "        \"19-4\",\n",
    "        \"19-6\",\n",
    "        \"19-7\",\n",
    "        \"19-8\",\n",
    "        \"19-9\",\n",
    "        \"2-1\",\n",
    "        \"2-13\",\n",
    "        \"2-15\",\n",
    "        \"2-3\",\n",
    "        \"2-4\",\n",
    "        \"2-5\",\n",
    "        \"2-6\",\n",
    "        \"2-7\",\n",
    "        \"2-8\",\n",
    "        \"20-1\",\n",
    "        \"20-12\",\n",
    "        \"20-14\",\n",
    "        \"20-15\",\n",
    "        \"20-16\",\n",
    "        \"20-18\",\n",
    "        \"20-19\",\n",
    "        \"20-20\",\n",
    "        \"20-3\",\n",
    "        \"20-4\",\n",
    "        \"20-5\",\n",
    "        \"20-7\",\n",
    "        \"20-8\",\n",
    "        \"3-1\",\n",
    "        \"3-13\",\n",
    "        \"3-18\",\n",
    "        \"3-2\",\n",
    "        \"3-8\",\n",
    "        \"4-1\",\n",
    "        \"4-10\",\n",
    "        \"4-11\",\n",
    "        \"5-1\",\n",
    "        \"5-5\",\n",
    "        \"6-1\",\n",
    "        \"6-15\",\n",
    "        \"6-6\",\n",
    "        \"7-10\",\n",
    "        \"7-11\",\n",
    "        \"7-12\",\n",
    "        \"7-13\",\n",
    "        \"7-14\",\n",
    "        \"7-7\",\n",
    "        \"7-8\",\n",
    "        \"7-9\",\n",
    "        \"8-1\",\n",
    "        \"8-13\",\n",
    "        \"8-14\",\n",
    "        \"8-18\",\n",
    "        \"8-20\",\n",
    "        \"8-3\",\n",
    "        \"8-8\",\n",
    "        \"9-1\",\n",
    "        \"9-7\",\n",
    "    ],\n",
    "    \"labels_target\": [\n",
    "        \"1-10\",\n",
    "        \"1-12\",\n",
    "        \"1-14\",\n",
    "        \"1-16\",\n",
    "        \"1-18\",\n",
    "        \"1-19\",\n",
    "        \"1-8\",\n",
    "        \"10-11\",\n",
    "        \"10-17\",\n",
    "        \"10-4\",\n",
    "        \"10-7\",\n",
    "        \"11-1\",\n",
    "        \"11-10\",\n",
    "        \"11-19\",\n",
    "        \"11-20\",\n",
    "        \"11-4\",\n",
    "        \"11-7\",\n",
    "        \"12-19\",\n",
    "        \"12-20\",\n",
    "        \"12-7\",\n",
    "        \"13-14\",\n",
    "        \"13-18\",\n",
    "        \"13-19\",\n",
    "        \"13-20\",\n",
    "        \"13-3\",\n",
    "        \"13-7\",\n",
    "        \"14-10\",\n",
    "        \"14-11\",\n",
    "        \"14-12\",\n",
    "        \"14-13\",\n",
    "        \"14-14\",\n",
    "        \"14-19\",\n",
    "        \"14-20\",\n",
    "        \"14-7\",\n",
    "        \"14-8\",\n",
    "        \"14-9\",\n",
    "        \"15-1\",\n",
    "        \"15-19\",\n",
    "        \"15-6\",\n",
    "        \"16-1\",\n",
    "        \"16-16\",\n",
    "        \"16-19\",\n",
    "        \"16-20\",\n",
    "        \"17-10\",\n",
    "        \"17-11\",\n",
    "        \"18-1\",\n",
    "        \"18-10\",\n",
    "        \"18-11\",\n",
    "        \"18-12\",\n",
    "        \"18-13\",\n",
    "        \"18-14\",\n",
    "        \"18-15\",\n",
    "        \"18-16\",\n",
    "        \"18-17\",\n",
    "        \"18-19\",\n",
    "        \"18-2\",\n",
    "        \"18-20\",\n",
    "        \"18-4\",\n",
    "        \"18-5\",\n",
    "        \"18-7\",\n",
    "        \"18-8\",\n",
    "        \"18-9\",\n",
    "        \"19-1\",\n",
    "        \"19-10\",\n",
    "        \"19-11\",\n",
    "        \"19-12\",\n",
    "        \"19-13\",\n",
    "        \"19-14\",\n",
    "        \"19-15\",\n",
    "        \"19-19\",\n",
    "        \"19-2\",\n",
    "        \"19-20\",\n",
    "        \"19-3\",\n",
    "        \"19-4\",\n",
    "        \"19-6\",\n",
    "        \"19-7\",\n",
    "        \"19-8\",\n",
    "        \"19-9\",\n",
    "        \"2-1\",\n",
    "        \"2-13\",\n",
    "        \"2-15\",\n",
    "        \"2-3\",\n",
    "        \"2-4\",\n",
    "        \"2-5\",\n",
    "        \"2-6\",\n",
    "        \"2-7\",\n",
    "        \"2-8\",\n",
    "        \"20-1\",\n",
    "        \"20-12\",\n",
    "        \"20-14\",\n",
    "        \"20-15\",\n",
    "        \"20-16\",\n",
    "        \"20-18\",\n",
    "        \"20-19\",\n",
    "        \"20-20\",\n",
    "        \"20-3\",\n",
    "        \"20-4\",\n",
    "        \"20-5\",\n",
    "        \"20-7\",\n",
    "        \"20-8\",\n",
    "        \"3-1\",\n",
    "        \"3-13\",\n",
    "        \"3-18\",\n",
    "        \"3-2\",\n",
    "        \"3-8\",\n",
    "        \"4-1\",\n",
    "        \"4-10\",\n",
    "        \"4-11\",\n",
    "        \"5-1\",\n",
    "        \"5-5\",\n",
    "        \"6-1\",\n",
    "        \"6-15\",\n",
    "        \"6-6\",\n",
    "        \"7-10\",\n",
    "        \"7-11\",\n",
    "        \"7-12\",\n",
    "        \"7-13\",\n",
    "        \"7-14\",\n",
    "        \"7-7\",\n",
    "        \"7-8\",\n",
    "        \"7-9\",\n",
    "        \"8-1\",\n",
    "        \"8-13\",\n",
    "        \"8-14\",\n",
    "        \"8-18\",\n",
    "        \"8-20\",\n",
    "        \"8-3\",\n",
    "        \"8-8\",\n",
    "        \"9-1\",\n",
    "        \"9-7\",\n",
    "    ],\n",
    "    \"episode_transforms_source\": [],\n",
    "    \"episode_transforms_target\": [],\n",
    "    \"domains_source\": [3],\n",
    "    \"domains_target\": [1, 2, 4],\n",
    "    \"num_examples_per_domain_per_label_source\": -1,\n",
    "    \"num_examples_per_domain_per_label_target\": -1,\n",
    "    \"n_shot\": 3,\n",
    "    \"n_way\": 130,\n",
    "    \"n_query\": 2,\n",
    "    \"train_k_factor\": 3,\n",
    "    \"val_k_factor\": 2,\n",
    "    \"test_k_factor\": 2,\n",
    "    \"torch_default_dtype\": \"torch.float32\",\n",
    "    \"n_epoch\": 50,\n",
    "    \"patience\": 3,\n",
    "    \"criteria_for_best\": \"target_accuracy\",\n",
    "    \"x_net\": [\n",
    "        {\"class\": \"nnReshape\", \"kargs\": {\"shape\": [-1, 1, 2, 256]}},\n",
    "        {\n",
    "            \"class\": \"Conv2d\",\n",
    "            \"kargs\": {\n",
    "                \"in_channels\": 1,\n",
    "                \"out_channels\": 256,\n",
    "                \"kernel_size\": [1, 7],\n",
    "                \"bias\": False,\n",
    "                \"padding\": [0, 3],\n",
    "            },\n",
    "        },\n",
    "        {\"class\": \"ReLU\", \"kargs\": {\"inplace\": True}},\n",
    "        {\"class\": \"BatchNorm2d\", \"kargs\": {\"num_features\": 256}},\n",
    "        {\n",
    "            \"class\": \"Conv2d\",\n",
    "            \"kargs\": {\n",
    "                \"in_channels\": 256,\n",
    "                \"out_channels\": 80,\n",
    "                \"kernel_size\": [2, 7],\n",
    "                \"bias\": True,\n",
    "                \"padding\": [0, 3],\n",
    "            },\n",
    "        },\n",
    "        {\"class\": \"ReLU\", \"kargs\": {\"inplace\": True}},\n",
    "        {\"class\": \"BatchNorm2d\", \"kargs\": {\"num_features\": 80}},\n",
    "        {\"class\": \"Flatten\", \"kargs\": {}},\n",
    "        {\"class\": \"Linear\", \"kargs\": {\"in_features\": 20480, \"out_features\": 256}},\n",
    "        {\"class\": \"ReLU\", \"kargs\": {\"inplace\": True}},\n",
    "        {\"class\": \"BatchNorm1d\", \"kargs\": {\"num_features\": 256}},\n",
    "        {\"class\": \"Linear\", \"kargs\": {\"in_features\": 256, \"out_features\": 256}},\n",
    "    ],\n",
    "    \"NUM_LOGS_PER_EPOCH\": 10,\n",
    "    \"BEST_MODEL_PATH\": \"./best_model.pth\",\n",
    "    \"pickle_name\": \"wisig.node3-19.stratified_ds.2022A.pkl\",\n",
    "    \"x_transforms_source\": [\"unit_power\"],\n",
    "    \"x_transforms_target\": [\"unit_power\"],\n",
    "    \"dataset_seed\": 7,\n",
    "    \"seed\": 7,\n",
    "}\n"
   ]
  },
  {
   "cell_type": "code",
   "execution_count": 5,
   "id": "8fa1cc33",
   "metadata": {
    "execution": {
     "iopub.execute_input": "2022-03-22T17:21:23.604392Z",
     "iopub.status.busy": "2022-03-22T17:21:23.604140Z",
     "iopub.status.idle": "2022-03-22T17:21:23.618197Z",
     "shell.execute_reply": "2022-03-22T17:21:23.617894Z"
    },
    "papermill": {
     "duration": 0.027996,
     "end_time": "2022-03-22T17:21:23.618266",
     "exception": false,
     "start_time": "2022-03-22T17:21:23.590270",
     "status": "completed"
    },
    "tags": []
   },
   "outputs": [],
   "source": [
    "# Set this to True if you want to run this template directly\n",
    "STANDALONE = False\n",
    "if STANDALONE:\n",
    "    print(\"parameters not injected, running with standalone_parameters\")\n",
    "    parameters = standalone_parameters\n",
    "\n",
    "if not 'parameters' in locals() and not 'parameters' in globals():\n",
    "    raise Exception(\"Parameter injection failed\")\n",
    "\n",
    "#Use an easy dict for all the parameters\n",
    "p = EasyDict(parameters)\n",
    "\n",
    "supplied_keys = set(p.keys())\n",
    "\n",
    "if  supplied_keys != required_parameters:\n",
    "    print(\"Parameters are incorrect\")\n",
    "    if len(supplied_keys - required_parameters)>0: print(\"Shouldn't have:\", str(supplied_keys - required_parameters))\n",
    "    if len(required_parameters - supplied_keys)>0: print(\"Need to have:\", str(required_parameters - supplied_keys))\n",
    "    raise RuntimeError(\"Parameters are incorrect\")\n",
    "\n"
   ]
  },
  {
   "cell_type": "code",
   "execution_count": 6,
   "id": "3a028d58",
   "metadata": {
    "execution": {
     "iopub.execute_input": "2022-03-22T17:21:23.643126Z",
     "iopub.status.busy": "2022-03-22T17:21:23.642878Z",
     "iopub.status.idle": "2022-03-22T17:21:23.653487Z",
     "shell.execute_reply": "2022-03-22T17:21:23.653188Z"
    },
    "papermill": {
     "duration": 0.021733,
     "end_time": "2022-03-22T17:21:23.653557",
     "exception": false,
     "start_time": "2022-03-22T17:21:23.631824",
     "status": "completed"
    },
    "tags": []
   },
   "outputs": [],
   "source": [
    "###################################\n",
    "# Set the RNGs and make it all deterministic\n",
    "###################################\n",
    "np.random.seed(p.seed)\n",
    "random.seed(p.seed)\n",
    "torch.manual_seed(p.seed)\n",
    "\n",
    "torch.use_deterministic_algorithms(True) "
   ]
  },
  {
   "cell_type": "code",
   "execution_count": 7,
   "id": "b691acf6",
   "metadata": {
    "execution": {
     "iopub.execute_input": "2022-03-22T17:21:23.676937Z",
     "iopub.status.busy": "2022-03-22T17:21:23.676691Z",
     "iopub.status.idle": "2022-03-22T17:21:23.689667Z",
     "shell.execute_reply": "2022-03-22T17:21:23.690033Z"
    },
    "papermill": {
     "duration": 0.025157,
     "end_time": "2022-03-22T17:21:23.690135",
     "exception": false,
     "start_time": "2022-03-22T17:21:23.664978",
     "status": "completed"
    },
    "tags": []
   },
   "outputs": [],
   "source": [
    "###########################################\n",
    "# The stratified datasets honor this\n",
    "###########################################\n",
    "torch.set_default_dtype(eval(p.torch_default_dtype))"
   ]
  },
  {
   "cell_type": "code",
   "execution_count": 8,
   "id": "b5fba671",
   "metadata": {
    "execution": {
     "iopub.execute_input": "2022-03-22T17:21:23.715568Z",
     "iopub.status.busy": "2022-03-22T17:21:23.715309Z",
     "iopub.status.idle": "2022-03-22T17:21:23.761111Z",
     "shell.execute_reply": "2022-03-22T17:21:23.760781Z"
    },
    "papermill": {
     "duration": 0.056905,
     "end_time": "2022-03-22T17:21:23.761196",
     "exception": false,
     "start_time": "2022-03-22T17:21:23.704291",
     "status": "completed"
    },
    "tags": []
   },
   "outputs": [],
   "source": [
    "###################################\n",
    "# Build the network(s)\n",
    "# Note: It's critical to do this AFTER setting the RNG\n",
    "# (This is due to the randomized initial weights)\n",
    "###################################\n",
    "x_net = build_sequential(p.x_net)"
   ]
  },
  {
   "cell_type": "code",
   "execution_count": 9,
   "id": "5d7e61cc",
   "metadata": {
    "execution": {
     "iopub.execute_input": "2022-03-22T17:21:23.793137Z",
     "iopub.status.busy": "2022-03-22T17:21:23.792784Z",
     "iopub.status.idle": "2022-03-22T17:21:23.808219Z",
     "shell.execute_reply": "2022-03-22T17:21:23.808508Z"
    },
    "papermill": {
     "duration": 0.032789,
     "end_time": "2022-03-22T17:21:23.808620",
     "exception": false,
     "start_time": "2022-03-22T17:21:23.775831",
     "status": "completed"
    },
    "tags": []
   },
   "outputs": [],
   "source": [
    "start_time_secs = time.time()"
   ]
  },
  {
   "cell_type": "code",
   "execution_count": 10,
   "id": "fd5442bc",
   "metadata": {
    "execution": {
     "iopub.execute_input": "2022-03-22T17:21:23.839714Z",
     "iopub.status.busy": "2022-03-22T17:21:23.839439Z",
     "iopub.status.idle": "2022-03-22T17:21:41.361312Z",
     "shell.execute_reply": "2022-03-22T17:21:41.360847Z"
    },
    "papermill": {
     "duration": 17.539573,
     "end_time": "2022-03-22T17:21:41.361431",
     "exception": false,
     "start_time": "2022-03-22T17:21:23.821858",
     "status": "completed"
    },
    "tags": []
   },
   "outputs": [],
   "source": [
    "###################################\n",
    "# Build the dataset\n",
    "###################################\n",
    "\n",
    "if p.x_transforms_source == []: x_transform_source = None\n",
    "else: x_transform_source = get_chained_transform(p.x_transforms_source) \n",
    "\n",
    "if p.x_transforms_target == []: x_transform_target = None\n",
    "else: x_transform_target = get_chained_transform(p.x_transforms_target)\n",
    "\n",
    "if p.episode_transforms_source == []: episode_transform_source = None\n",
    "else: raise Exception(\"episode_transform_source not implemented\")\n",
    "\n",
    "if p.episode_transforms_target == []: episode_transform_target = None\n",
    "else: raise Exception(\"episode_transform_target not implemented\")\n",
    "\n",
    "\n",
    "eaf_source = Episodic_Accessor_Factory(\n",
    "    labels=p.labels_source,\n",
    "    domains=p.domains_source,\n",
    "    num_examples_per_domain_per_label=p.num_examples_per_domain_per_label_source,\n",
    "    iterator_seed=p.seed,\n",
    "    dataset_seed=p.dataset_seed,\n",
    "    n_shot=p.n_shot,\n",
    "    n_way=p.n_way,\n",
    "    n_query=p.n_query,\n",
    "    train_val_test_k_factors=(p.train_k_factor,p.val_k_factor,p.test_k_factor),\n",
    "    pickle_path=os.path.join(get_datasets_base_path(), p.pickle_name),\n",
    "    x_transform_func=x_transform_source,\n",
    "    example_transform_func=episode_transform_source,\n",
    "    \n",
    ")\n",
    "train_original_source, val_original_source, test_original_source = eaf_source.get_train(), eaf_source.get_val(), eaf_source.get_test()\n",
    "\n",
    "\n",
    "eaf_target = Episodic_Accessor_Factory(\n",
    "    labels=p.labels_target,\n",
    "    domains=p.domains_target,\n",
    "    num_examples_per_domain_per_label=p.num_examples_per_domain_per_label_target,\n",
    "    iterator_seed=p.seed,\n",
    "    dataset_seed=p.dataset_seed,\n",
    "    n_shot=p.n_shot,\n",
    "    n_way=p.n_way,\n",
    "    n_query=p.n_query,\n",
    "    train_val_test_k_factors=(p.train_k_factor,p.val_k_factor,p.test_k_factor),\n",
    "    pickle_path=os.path.join(get_datasets_base_path(), p.pickle_name),\n",
    "    x_transform_func=x_transform_target,\n",
    "    example_transform_func=episode_transform_target,\n",
    ")\n",
    "train_original_target, val_original_target, test_original_target = eaf_target.get_train(), eaf_target.get_val(), eaf_target.get_test()\n",
    "\n",
    "\n",
    "transform_lambda = lambda ex: ex[1] # Original is (<domain>, <episode>) so we strip down to episode only\n",
    "\n",
    "train_processed_source = Lazy_Iterable_Wrapper(train_original_source, transform_lambda)\n",
    "val_processed_source   = Lazy_Iterable_Wrapper(val_original_source, transform_lambda)\n",
    "test_processed_source  = Lazy_Iterable_Wrapper(test_original_source, transform_lambda)\n",
    "\n",
    "train_processed_target = Lazy_Iterable_Wrapper(train_original_target, transform_lambda)\n",
    "val_processed_target   = Lazy_Iterable_Wrapper(val_original_target, transform_lambda)\n",
    "test_processed_target  = Lazy_Iterable_Wrapper(test_original_target, transform_lambda)\n",
    "\n",
    "datasets = EasyDict({\n",
    "    \"source\": {\n",
    "        \"original\": {\"train\":train_original_source, \"val\":val_original_source, \"test\":test_original_source},\n",
    "        \"processed\": {\"train\":train_processed_source, \"val\":val_processed_source, \"test\":test_processed_source}\n",
    "    },\n",
    "    \"target\": {\n",
    "        \"original\": {\"train\":train_original_target, \"val\":val_original_target, \"test\":test_original_target},\n",
    "        \"processed\": {\"train\":train_processed_target, \"val\":val_processed_target, \"test\":test_processed_target}\n",
    "    },\n",
    "})"
   ]
  },
  {
   "cell_type": "code",
   "execution_count": 11,
   "id": "296189d9",
   "metadata": {
    "execution": {
     "iopub.execute_input": "2022-03-22T17:21:41.393457Z",
     "iopub.status.busy": "2022-03-22T17:21:41.393203Z",
     "iopub.status.idle": "2022-03-22T17:21:43.127326Z",
     "shell.execute_reply": "2022-03-22T17:21:43.127695Z"
    },
    "papermill": {
     "duration": 1.74827,
     "end_time": "2022-03-22T17:21:43.127800",
     "exception": false,
     "start_time": "2022-03-22T17:21:41.379530",
     "status": "completed"
    },
    "tags": []
   },
   "outputs": [
    {
     "name": "stdout",
     "output_type": "stream",
     "text": [
      "Visually inspect these to see if they line up with expected values given the transforms\n",
      "x_transforms_source ['unit_power']\n",
      "x_transforms_target ['unit_power']\n",
      "Average magnitude, source: 0.8791374\n",
      "Average power, source: 1.0\n"
     ]
    },
    {
     "name": "stdout",
     "output_type": "stream",
     "text": [
      "Average magnitude, target: 0.9112751\n",
      "Average power, target: 1.0\n"
     ]
    }
   ],
   "source": [
    "# Some quick unit tests on the data\n",
    "from steves_utils.transforms import get_average_power, get_average_magnitude\n",
    "\n",
    "q_x, q_y, s_x, s_y, truth = next(iter(train_processed_source))\n",
    "\n",
    "assert q_x.dtype == eval(p.torch_default_dtype)\n",
    "assert s_x.dtype == eval(p.torch_default_dtype)\n",
    "\n",
    "print(\"Visually inspect these to see if they line up with expected values given the transforms\")\n",
    "print('x_transforms_source', p.x_transforms_source)\n",
    "print('x_transforms_target', p.x_transforms_target)\n",
    "print(\"Average magnitude, source:\", get_average_magnitude(q_x[0].numpy()))\n",
    "print(\"Average power, source:\", get_average_power(q_x[0].numpy()))\n",
    "\n",
    "q_x, q_y, s_x, s_y, truth = next(iter(train_processed_target))\n",
    "print(\"Average magnitude, target:\", get_average_magnitude(q_x[0].numpy()))\n",
    "print(\"Average power, target:\", get_average_power(q_x[0].numpy()))\n"
   ]
  },
  {
   "cell_type": "code",
   "execution_count": 12,
   "id": "bbdacba1",
   "metadata": {
    "execution": {
     "iopub.execute_input": "2022-03-22T17:21:43.157085Z",
     "iopub.status.busy": "2022-03-22T17:21:43.156816Z",
     "iopub.status.idle": "2022-03-22T17:21:43.222815Z",
     "shell.execute_reply": "2022-03-22T17:21:43.223211Z"
    },
    "papermill": {
     "duration": 0.080404,
     "end_time": "2022-03-22T17:21:43.223344",
     "exception": false,
     "start_time": "2022-03-22T17:21:43.142940",
     "status": "completed"
    },
    "tags": []
   },
   "outputs": [
    {
     "name": "stdout",
     "output_type": "stream",
     "text": [
      "(2, 256)\n"
     ]
    }
   ],
   "source": [
    "###################################\n",
    "# Build the model\n",
    "###################################\n",
    "model = Steves_Prototypical_Network(x_net, device=p.device, x_shape=(2,256))\n",
    "optimizer = Adam(params=model.parameters(), lr=p.lr)"
   ]
  },
  {
   "cell_type": "code",
   "execution_count": 13,
   "id": "22b39ac5",
   "metadata": {
    "execution": {
     "iopub.execute_input": "2022-03-22T17:21:43.251692Z",
     "iopub.status.busy": "2022-03-22T17:21:43.251440Z",
     "iopub.status.idle": "2022-03-22T17:25:15.564051Z",
     "shell.execute_reply": "2022-03-22T17:25:15.563820Z"
    },
    "papermill": {
     "duration": 212.326219,
     "end_time": "2022-03-22T17:25:15.564107",
     "exception": false,
     "start_time": "2022-03-22T17:21:43.237888",
     "status": "completed"
    },
    "tags": []
   },
   "outputs": [
    {
     "name": "stdout",
     "output_type": "stream",
     "text": [
      "epoch: 1, [batch: 1 / 45], examples_per_second: 1954.9322, train_label_loss: 4.7056, \n"
     ]
    },
    {
     "name": "stdout",
     "output_type": "stream",
     "text": [
      "epoch: 1, [batch: 5 / 45], examples_per_second: 3902.9070, train_label_loss: 4.0895, \n"
     ]
    },
    {
     "name": "stdout",
     "output_type": "stream",
     "text": [
      "epoch: 1, [batch: 9 / 45], examples_per_second: 3999.0562, train_label_loss: 3.4904, \n"
     ]
    },
    {
     "name": "stdout",
     "output_type": "stream",
     "text": [
      "epoch: 1, [batch: 14 / 45], examples_per_second: 4002.0704, train_label_loss: 2.8133, \n"
     ]
    },
    {
     "name": "stdout",
     "output_type": "stream",
     "text": [
      "epoch: 1, [batch: 18 / 45], examples_per_second: 4005.7870, train_label_loss: 2.5676, \n"
     ]
    },
    {
     "name": "stdout",
     "output_type": "stream",
     "text": [
      "epoch: 1, [batch: 23 / 45], examples_per_second: 3954.5110, train_label_loss: 2.1522, \n"
     ]
    },
    {
     "name": "stdout",
     "output_type": "stream",
     "text": [
      "epoch: 1, [batch: 27 / 45], examples_per_second: 4058.9943, train_label_loss: 1.7946, \n"
     ]
    },
    {
     "name": "stdout",
     "output_type": "stream",
     "text": [
      "epoch: 1, [batch: 31 / 45], examples_per_second: 4050.6884, train_label_loss: 1.6499, \n"
     ]
    },
    {
     "name": "stdout",
     "output_type": "stream",
     "text": [
      "epoch: 1, [batch: 36 / 45], examples_per_second: 4093.9936, train_label_loss: 1.5790, \n"
     ]
    },
    {
     "name": "stdout",
     "output_type": "stream",
     "text": [
      "epoch: 1, [batch: 40 / 45], examples_per_second: 4144.1486, train_label_loss: 1.6572, \n"
     ]
    },
    {
     "name": "stdout",
     "output_type": "stream",
     "text": [
      "=============================================================\n",
      "epoch: 1, source_val_acc_label: 0.7808, target_val_acc_label: 0.7299, source_val_label_loss: 1.3059, target_val_label_loss: 1.5485, \n",
      "=============================================================\n"
     ]
    },
    {
     "name": "stdout",
     "output_type": "stream",
     "text": [
      "New best\n"
     ]
    },
    {
     "name": "stdout",
     "output_type": "stream",
     "text": [
      "epoch: 2, [batch: 1 / 45], examples_per_second: 496.2864, train_label_loss: 1.3033, \n"
     ]
    },
    {
     "name": "stdout",
     "output_type": "stream",
     "text": [
      "epoch: 2, [batch: 5 / 45], examples_per_second: 3974.1875, train_label_loss: 1.0994, \n"
     ]
    },
    {
     "name": "stdout",
     "output_type": "stream",
     "text": [
      "epoch: 2, [batch: 9 / 45], examples_per_second: 4073.2380, train_label_loss: 1.1523, \n"
     ]
    },
    {
     "name": "stdout",
     "output_type": "stream",
     "text": [
      "epoch: 2, [batch: 14 / 45], examples_per_second: 4076.0740, train_label_loss: 1.1892, \n"
     ]
    },
    {
     "name": "stdout",
     "output_type": "stream",
     "text": [
      "epoch: 2, [batch: 18 / 45], examples_per_second: 4080.3966, train_label_loss: 1.3430, \n"
     ]
    },
    {
     "name": "stdout",
     "output_type": "stream",
     "text": [
      "epoch: 2, [batch: 23 / 45], examples_per_second: 4031.4472, train_label_loss: 1.0632, \n"
     ]
    },
    {
     "name": "stdout",
     "output_type": "stream",
     "text": [
      "epoch: 2, [batch: 27 / 45], examples_per_second: 4130.1282, train_label_loss: 0.9832, \n"
     ]
    },
    {
     "name": "stdout",
     "output_type": "stream",
     "text": [
      "epoch: 2, [batch: 31 / 45], examples_per_second: 4128.4051, train_label_loss: 1.0246, \n"
     ]
    },
    {
     "name": "stdout",
     "output_type": "stream",
     "text": [
      "epoch: 2, [batch: 36 / 45], examples_per_second: 4156.4027, train_label_loss: 0.9818, \n"
     ]
    },
    {
     "name": "stdout",
     "output_type": "stream",
     "text": [
      "epoch: 2, [batch: 40 / 45], examples_per_second: 4226.5591, train_label_loss: 0.9857, \n"
     ]
    },
    {
     "name": "stdout",
     "output_type": "stream",
     "text": [
      "=============================================================\n",
      "epoch: 2, source_val_acc_label: 0.8590, target_val_acc_label: 0.7872, source_val_label_loss: 0.7803, target_val_label_loss: 1.0984, \n",
      "=============================================================\n"
     ]
    },
    {
     "name": "stdout",
     "output_type": "stream",
     "text": [
      "New best\n"
     ]
    },
    {
     "name": "stdout",
     "output_type": "stream",
     "text": [
      "epoch: 3, [batch: 1 / 45], examples_per_second: 489.4974, train_label_loss: 0.6734, \n"
     ]
    },
    {
     "name": "stdout",
     "output_type": "stream",
     "text": [
      "epoch: 3, [batch: 5 / 45], examples_per_second: 3985.7132, train_label_loss: 0.8116, \n"
     ]
    },
    {
     "name": "stdout",
     "output_type": "stream",
     "text": [
      "epoch: 3, [batch: 9 / 45], examples_per_second: 4074.0856, train_label_loss: 0.8188, \n"
     ]
    },
    {
     "name": "stdout",
     "output_type": "stream",
     "text": [
      "epoch: 3, [batch: 14 / 45], examples_per_second: 4070.9286, train_label_loss: 0.7016, \n"
     ]
    },
    {
     "name": "stdout",
     "output_type": "stream",
     "text": [
      "epoch: 3, [batch: 18 / 45], examples_per_second: 4091.3668, train_label_loss: 0.6254, \n"
     ]
    },
    {
     "name": "stdout",
     "output_type": "stream",
     "text": [
      "epoch: 3, [batch: 23 / 45], examples_per_second: 4040.6583, train_label_loss: 0.7654, \n"
     ]
    },
    {
     "name": "stdout",
     "output_type": "stream",
     "text": [
      "epoch: 3, [batch: 27 / 45], examples_per_second: 4130.7352, train_label_loss: 0.7402, \n"
     ]
    },
    {
     "name": "stdout",
     "output_type": "stream",
     "text": [
      "epoch: 3, [batch: 31 / 45], examples_per_second: 4142.8435, train_label_loss: 0.4111, \n"
     ]
    },
    {
     "name": "stdout",
     "output_type": "stream",
     "text": [
      "epoch: 3, [batch: 36 / 45], examples_per_second: 4166.0912, train_label_loss: 0.5351, \n"
     ]
    },
    {
     "name": "stdout",
     "output_type": "stream",
     "text": [
      "epoch: 3, [batch: 40 / 45], examples_per_second: 4221.2633, train_label_loss: 0.6195, \n"
     ]
    },
    {
     "name": "stdout",
     "output_type": "stream",
     "text": [
      "=============================================================\n",
      "epoch: 3, source_val_acc_label: 0.8968, target_val_acc_label: 0.8120, source_val_label_loss: 0.5837, target_val_label_loss: 0.9680, \n",
      "=============================================================\n"
     ]
    },
    {
     "name": "stdout",
     "output_type": "stream",
     "text": [
      "New best\n"
     ]
    },
    {
     "name": "stdout",
     "output_type": "stream",
     "text": [
      "epoch: 4, [batch: 1 / 45], examples_per_second: 488.2138, train_label_loss: 0.7611, \n"
     ]
    },
    {
     "name": "stdout",
     "output_type": "stream",
     "text": [
      "epoch: 4, [batch: 5 / 45], examples_per_second: 3980.9743, train_label_loss: 0.5472, \n"
     ]
    },
    {
     "name": "stdout",
     "output_type": "stream",
     "text": [
      "epoch: 4, [batch: 9 / 45], examples_per_second: 4075.3295, train_label_loss: 0.6146, \n"
     ]
    },
    {
     "name": "stdout",
     "output_type": "stream",
     "text": [
      "epoch: 4, [batch: 14 / 45], examples_per_second: 4081.5735, train_label_loss: 0.6522, \n"
     ]
    },
    {
     "name": "stdout",
     "output_type": "stream",
     "text": [
      "epoch: 4, [batch: 18 / 45], examples_per_second: 4087.2587, train_label_loss: 0.4943, \n"
     ]
    },
    {
     "name": "stdout",
     "output_type": "stream",
     "text": [
      "epoch: 4, [batch: 23 / 45], examples_per_second: 4019.3118, train_label_loss: 0.6968, \n"
     ]
    },
    {
     "name": "stdout",
     "output_type": "stream",
     "text": [
      "epoch: 4, [batch: 27 / 45], examples_per_second: 4132.6606, train_label_loss: 0.5164, \n"
     ]
    },
    {
     "name": "stdout",
     "output_type": "stream",
     "text": [
      "epoch: 4, [batch: 31 / 45], examples_per_second: 4134.8261, train_label_loss: 0.4503, \n"
     ]
    },
    {
     "name": "stdout",
     "output_type": "stream",
     "text": [
      "epoch: 4, [batch: 36 / 45], examples_per_second: 4163.2818, train_label_loss: 0.3697, \n"
     ]
    },
    {
     "name": "stdout",
     "output_type": "stream",
     "text": [
      "epoch: 4, [batch: 40 / 45], examples_per_second: 4228.4077, train_label_loss: 0.3875, \n"
     ]
    },
    {
     "name": "stdout",
     "output_type": "stream",
     "text": [
      "=============================================================\n",
      "epoch: 4, source_val_acc_label: 0.9179, target_val_acc_label: 0.8325, source_val_label_loss: 0.4468, target_val_label_loss: 0.8657, \n",
      "=============================================================\n"
     ]
    },
    {
     "name": "stdout",
     "output_type": "stream",
     "text": [
      "New best\n"
     ]
    },
    {
     "name": "stdout",
     "output_type": "stream",
     "text": [
      "epoch: 5, [batch: 1 / 45], examples_per_second: 487.3468, train_label_loss: 0.5479, \n"
     ]
    },
    {
     "name": "stdout",
     "output_type": "stream",
     "text": [
      "epoch: 5, [batch: 5 / 45], examples_per_second: 3964.1169, train_label_loss: 0.4636, \n"
     ]
    },
    {
     "name": "stdout",
     "output_type": "stream",
     "text": [
      "epoch: 5, [batch: 9 / 45], examples_per_second: 4074.5772, train_label_loss: 0.3035, \n"
     ]
    },
    {
     "name": "stdout",
     "output_type": "stream",
     "text": [
      "epoch: 5, [batch: 14 / 45], examples_per_second: 4079.6532, train_label_loss: 0.4162, \n"
     ]
    },
    {
     "name": "stdout",
     "output_type": "stream",
     "text": [
      "epoch: 5, [batch: 18 / 45], examples_per_second: 4086.7502, train_label_loss: 0.4773, \n"
     ]
    },
    {
     "name": "stdout",
     "output_type": "stream",
     "text": [
      "epoch: 5, [batch: 23 / 45], examples_per_second: 4015.3018, train_label_loss: 0.3393, \n"
     ]
    },
    {
     "name": "stdout",
     "output_type": "stream",
     "text": [
      "epoch: 5, [batch: 27 / 45], examples_per_second: 4125.9232, train_label_loss: 0.2872, \n"
     ]
    },
    {
     "name": "stdout",
     "output_type": "stream",
     "text": [
      "epoch: 5, [batch: 31 / 45], examples_per_second: 4128.9929, train_label_loss: 0.2899, \n"
     ]
    },
    {
     "name": "stdout",
     "output_type": "stream",
     "text": [
      "epoch: 5, [batch: 36 / 45], examples_per_second: 4159.7118, train_label_loss: 0.5661, \n"
     ]
    },
    {
     "name": "stdout",
     "output_type": "stream",
     "text": [
      "epoch: 5, [batch: 40 / 45], examples_per_second: 4222.5284, train_label_loss: 0.3313, \n"
     ]
    },
    {
     "name": "stdout",
     "output_type": "stream",
     "text": [
      "=============================================================\n",
      "epoch: 5, source_val_acc_label: 0.9417, target_val_acc_label: 0.8474, source_val_label_loss: 0.3454, target_val_label_loss: 0.7930, \n",
      "=============================================================\n"
     ]
    },
    {
     "name": "stdout",
     "output_type": "stream",
     "text": [
      "New best\n"
     ]
    },
    {
     "name": "stdout",
     "output_type": "stream",
     "text": [
      "epoch: 6, [batch: 1 / 45], examples_per_second: 490.4848, train_label_loss: 0.3685, \n"
     ]
    },
    {
     "name": "stdout",
     "output_type": "stream",
     "text": [
      "epoch: 6, [batch: 5 / 45], examples_per_second: 3956.2920, train_label_loss: 0.2571, \n"
     ]
    },
    {
     "name": "stdout",
     "output_type": "stream",
     "text": [
      "epoch: 6, [batch: 9 / 45], examples_per_second: 4068.9142, train_label_loss: 0.2521, \n"
     ]
    },
    {
     "name": "stdout",
     "output_type": "stream",
     "text": [
      "epoch: 6, [batch: 14 / 45], examples_per_second: 4089.9597, train_label_loss: 0.2969, \n"
     ]
    },
    {
     "name": "stdout",
     "output_type": "stream",
     "text": [
      "epoch: 6, [batch: 18 / 45], examples_per_second: 4078.1947, train_label_loss: 0.2803, \n"
     ]
    },
    {
     "name": "stdout",
     "output_type": "stream",
     "text": [
      "epoch: 6, [batch: 23 / 45], examples_per_second: 4021.1247, train_label_loss: 0.3569, \n"
     ]
    },
    {
     "name": "stdout",
     "output_type": "stream",
     "text": [
      "epoch: 6, [batch: 27 / 45], examples_per_second: 4136.0493, train_label_loss: 0.3784, \n"
     ]
    },
    {
     "name": "stdout",
     "output_type": "stream",
     "text": [
      "epoch: 6, [batch: 31 / 45], examples_per_second: 4134.6004, train_label_loss: 0.3760, \n"
     ]
    },
    {
     "name": "stdout",
     "output_type": "stream",
     "text": [
      "epoch: 6, [batch: 36 / 45], examples_per_second: 4159.7436, train_label_loss: 0.3461, \n"
     ]
    },
    {
     "name": "stdout",
     "output_type": "stream",
     "text": [
      "epoch: 6, [batch: 40 / 45], examples_per_second: 4218.5558, train_label_loss: 0.2021, \n"
     ]
    },
    {
     "name": "stdout",
     "output_type": "stream",
     "text": [
      "=============================================================\n",
      "epoch: 6, source_val_acc_label: 0.9474, target_val_acc_label: 0.8590, source_val_label_loss: 0.3044, target_val_label_loss: 0.7501, \n",
      "=============================================================\n"
     ]
    },
    {
     "name": "stdout",
     "output_type": "stream",
     "text": [
      "New best\n"
     ]
    },
    {
     "name": "stdout",
     "output_type": "stream",
     "text": [
      "epoch: 7, [batch: 1 / 45], examples_per_second: 486.4023, train_label_loss: 0.2953, \n"
     ]
    },
    {
     "name": "stdout",
     "output_type": "stream",
     "text": [
      "epoch: 7, [batch: 5 / 45], examples_per_second: 3964.4959, train_label_loss: 0.1283, \n"
     ]
    },
    {
     "name": "stdout",
     "output_type": "stream",
     "text": [
      "epoch: 7, [batch: 9 / 45], examples_per_second: 4074.4981, train_label_loss: 0.3369, \n"
     ]
    },
    {
     "name": "stdout",
     "output_type": "stream",
     "text": [
      "epoch: 7, [batch: 14 / 45], examples_per_second: 4075.4001, train_label_loss: 0.1340, \n"
     ]
    },
    {
     "name": "stdout",
     "output_type": "stream",
     "text": [
      "epoch: 7, [batch: 18 / 45], examples_per_second: 4074.1632, train_label_loss: 0.2839, \n"
     ]
    },
    {
     "name": "stdout",
     "output_type": "stream",
     "text": [
      "epoch: 7, [batch: 23 / 45], examples_per_second: 4021.8152, train_label_loss: 0.1988, \n"
     ]
    },
    {
     "name": "stdout",
     "output_type": "stream",
     "text": [
      "epoch: 7, [batch: 27 / 45], examples_per_second: 4117.6181, train_label_loss: 0.1917, \n"
     ]
    },
    {
     "name": "stdout",
     "output_type": "stream",
     "text": [
      "epoch: 7, [batch: 31 / 45], examples_per_second: 4114.9752, train_label_loss: 0.2253, \n"
     ]
    },
    {
     "name": "stdout",
     "output_type": "stream",
     "text": [
      "epoch: 7, [batch: 36 / 45], examples_per_second: 4159.0316, train_label_loss: 0.1997, \n"
     ]
    },
    {
     "name": "stdout",
     "output_type": "stream",
     "text": [
      "epoch: 7, [batch: 40 / 45], examples_per_second: 4212.8926, train_label_loss: 0.2454, \n"
     ]
    },
    {
     "name": "stdout",
     "output_type": "stream",
     "text": [
      "=============================================================\n",
      "epoch: 7, source_val_acc_label: 0.9564, target_val_acc_label: 0.8596, source_val_label_loss: 0.2691, target_val_label_loss: 0.7266, \n",
      "=============================================================\n"
     ]
    },
    {
     "name": "stdout",
     "output_type": "stream",
     "text": [
      "New best\n"
     ]
    },
    {
     "name": "stdout",
     "output_type": "stream",
     "text": [
      "epoch: 8, [batch: 1 / 45], examples_per_second: 485.4514, train_label_loss: 0.1424, \n"
     ]
    },
    {
     "name": "stdout",
     "output_type": "stream",
     "text": [
      "epoch: 8, [batch: 5 / 45], examples_per_second: 3954.2033, train_label_loss: 0.1998, \n"
     ]
    },
    {
     "name": "stdout",
     "output_type": "stream",
     "text": [
      "epoch: 8, [batch: 9 / 45], examples_per_second: 4069.2087, train_label_loss: 0.3237, \n"
     ]
    },
    {
     "name": "stdout",
     "output_type": "stream",
     "text": [
      "epoch: 8, [batch: 14 / 45], examples_per_second: 4066.2121, train_label_loss: 0.1985, \n"
     ]
    },
    {
     "name": "stdout",
     "output_type": "stream",
     "text": [
      "epoch: 8, [batch: 18 / 45], examples_per_second: 4064.7025, train_label_loss: 0.2760, \n"
     ]
    },
    {
     "name": "stdout",
     "output_type": "stream",
     "text": [
      "epoch: 8, [batch: 23 / 45], examples_per_second: 4005.5290, train_label_loss: 0.3216, \n"
     ]
    },
    {
     "name": "stdout",
     "output_type": "stream",
     "text": [
      "epoch: 8, [batch: 27 / 45], examples_per_second: 4108.9733, train_label_loss: 0.2520, \n"
     ]
    },
    {
     "name": "stdout",
     "output_type": "stream",
     "text": [
      "epoch: 8, [batch: 31 / 45], examples_per_second: 4112.5822, train_label_loss: 0.1735, \n"
     ]
    },
    {
     "name": "stdout",
     "output_type": "stream",
     "text": [
      "epoch: 8, [batch: 36 / 45], examples_per_second: 4153.6848, train_label_loss: 0.2592, \n"
     ]
    },
    {
     "name": "stdout",
     "output_type": "stream",
     "text": [
      "epoch: 8, [batch: 40 / 45], examples_per_second: 4209.0096, train_label_loss: 0.1253, \n"
     ]
    },
    {
     "name": "stdout",
     "output_type": "stream",
     "text": [
      "=============================================================\n",
      "epoch: 8, source_val_acc_label: 0.9558, target_val_acc_label: 0.8656, source_val_label_loss: 0.2544, target_val_label_loss: 0.7192, \n",
      "=============================================================\n"
     ]
    },
    {
     "name": "stdout",
     "output_type": "stream",
     "text": [
      "New best\n"
     ]
    },
    {
     "name": "stdout",
     "output_type": "stream",
     "text": [
      "epoch: 9, [batch: 1 / 45], examples_per_second: 489.1985, train_label_loss: 0.1913, \n"
     ]
    },
    {
     "name": "stdout",
     "output_type": "stream",
     "text": [
      "epoch: 9, [batch: 5 / 45], examples_per_second: 3972.5936, train_label_loss: 0.1399, \n"
     ]
    },
    {
     "name": "stdout",
     "output_type": "stream",
     "text": [
      "epoch: 9, [batch: 9 / 45], examples_per_second: 4081.4412, train_label_loss: 0.3323, \n"
     ]
    },
    {
     "name": "stdout",
     "output_type": "stream",
     "text": [
      "epoch: 9, [batch: 14 / 45], examples_per_second: 4077.6347, train_label_loss: 0.1733, \n"
     ]
    },
    {
     "name": "stdout",
     "output_type": "stream",
     "text": [
      "epoch: 9, [batch: 18 / 45], examples_per_second: 4064.0481, train_label_loss: 0.1819, \n"
     ]
    },
    {
     "name": "stdout",
     "output_type": "stream",
     "text": [
      "epoch: 9, [batch: 23 / 45], examples_per_second: 4016.1004, train_label_loss: 0.1915, \n"
     ]
    },
    {
     "name": "stdout",
     "output_type": "stream",
     "text": [
      "epoch: 9, [batch: 27 / 45], examples_per_second: 4126.2448, train_label_loss: 0.2640, \n"
     ]
    },
    {
     "name": "stdout",
     "output_type": "stream",
     "text": [
      "epoch: 9, [batch: 31 / 45], examples_per_second: 4121.2999, train_label_loss: 0.2202, \n"
     ]
    },
    {
     "name": "stdout",
     "output_type": "stream",
     "text": [
      "epoch: 9, [batch: 36 / 45], examples_per_second: 4149.6626, train_label_loss: 0.2681, \n"
     ]
    },
    {
     "name": "stdout",
     "output_type": "stream",
     "text": [
      "epoch: 9, [batch: 40 / 45], examples_per_second: 4214.9801, train_label_loss: 0.1326, \n"
     ]
    },
    {
     "name": "stdout",
     "output_type": "stream",
     "text": [
      "=============================================================\n",
      "epoch: 9, source_val_acc_label: 0.9571, target_val_acc_label: 0.8684, source_val_label_loss: 0.2551, target_val_label_loss: 0.7051, \n",
      "=============================================================\n"
     ]
    },
    {
     "name": "stdout",
     "output_type": "stream",
     "text": [
      "New best\n"
     ]
    },
    {
     "name": "stdout",
     "output_type": "stream",
     "text": [
      "epoch: 10, [batch: 1 / 45], examples_per_second: 489.0990, train_label_loss: 0.1391, \n"
     ]
    },
    {
     "name": "stdout",
     "output_type": "stream",
     "text": [
      "epoch: 10, [batch: 5 / 45], examples_per_second: 3975.6914, train_label_loss: 0.2272, \n"
     ]
    },
    {
     "name": "stdout",
     "output_type": "stream",
     "text": [
      "epoch: 10, [batch: 9 / 45], examples_per_second: 4067.4527, train_label_loss: 0.1102, \n"
     ]
    },
    {
     "name": "stdout",
     "output_type": "stream",
     "text": [
      "epoch: 10, [batch: 14 / 45], examples_per_second: 4055.8305, train_label_loss: 0.1341, \n"
     ]
    },
    {
     "name": "stdout",
     "output_type": "stream",
     "text": [
      "epoch: 10, [batch: 18 / 45], examples_per_second: 4057.9521, train_label_loss: 0.2451, \n"
     ]
    },
    {
     "name": "stdout",
     "output_type": "stream",
     "text": [
      "epoch: 10, [batch: 23 / 45], examples_per_second: 4003.0788, train_label_loss: 0.1089, \n"
     ]
    },
    {
     "name": "stdout",
     "output_type": "stream",
     "text": [
      "epoch: 10, [batch: 27 / 45], examples_per_second: 4107.7939, train_label_loss: 0.1401, \n"
     ]
    },
    {
     "name": "stdout",
     "output_type": "stream",
     "text": [
      "epoch: 10, [batch: 31 / 45], examples_per_second: 4110.9528, train_label_loss: 0.1740, \n"
     ]
    },
    {
     "name": "stdout",
     "output_type": "stream",
     "text": [
      "epoch: 10, [batch: 36 / 45], examples_per_second: 4156.8692, train_label_loss: 0.0914, \n"
     ]
    },
    {
     "name": "stdout",
     "output_type": "stream",
     "text": [
      "epoch: 10, [batch: 40 / 45], examples_per_second: 4211.5454, train_label_loss: 0.1931, \n"
     ]
    },
    {
     "name": "stdout",
     "output_type": "stream",
     "text": [
      "=============================================================\n",
      "epoch: 10, source_val_acc_label: 0.9596, target_val_acc_label: 0.8737, source_val_label_loss: 0.2318, target_val_label_loss: 0.6787, \n",
      "=============================================================\n"
     ]
    },
    {
     "name": "stdout",
     "output_type": "stream",
     "text": [
      "New best\n"
     ]
    },
    {
     "name": "stdout",
     "output_type": "stream",
     "text": [
      "epoch: 11, [batch: 1 / 45], examples_per_second: 491.4969, train_label_loss: 0.3204, \n"
     ]
    },
    {
     "name": "stdout",
     "output_type": "stream",
     "text": [
      "epoch: 11, [batch: 5 / 45], examples_per_second: 3965.9146, train_label_loss: 0.1587, \n"
     ]
    },
    {
     "name": "stdout",
     "output_type": "stream",
     "text": [
      "epoch: 11, [batch: 9 / 45], examples_per_second: 4066.7716, train_label_loss: 0.1564, \n"
     ]
    },
    {
     "name": "stdout",
     "output_type": "stream",
     "text": [
      "epoch: 11, [batch: 14 / 45], examples_per_second: 4066.6391, train_label_loss: 0.1223, \n"
     ]
    },
    {
     "name": "stdout",
     "output_type": "stream",
     "text": [
      "epoch: 11, [batch: 18 / 45], examples_per_second: 4068.9445, train_label_loss: 0.2349, \n"
     ]
    },
    {
     "name": "stdout",
     "output_type": "stream",
     "text": [
      "epoch: 11, [batch: 23 / 45], examples_per_second: 4013.5498, train_label_loss: 0.1443, \n"
     ]
    },
    {
     "name": "stdout",
     "output_type": "stream",
     "text": [
      "epoch: 11, [batch: 27 / 45], examples_per_second: 4118.9961, train_label_loss: 0.2125, \n"
     ]
    },
    {
     "name": "stdout",
     "output_type": "stream",
     "text": [
      "epoch: 11, [batch: 31 / 45], examples_per_second: 4116.9108, train_label_loss: 0.1532, \n"
     ]
    },
    {
     "name": "stdout",
     "output_type": "stream",
     "text": [
      "epoch: 11, [batch: 36 / 45], examples_per_second: 4152.6940, train_label_loss: 0.1869, \n"
     ]
    },
    {
     "name": "stdout",
     "output_type": "stream",
     "text": [
      "epoch: 11, [batch: 40 / 45], examples_per_second: 4214.5826, train_label_loss: 0.1567, \n"
     ]
    },
    {
     "name": "stdout",
     "output_type": "stream",
     "text": [
      "=============================================================\n",
      "epoch: 11, source_val_acc_label: 0.9577, target_val_acc_label: 0.8720, source_val_label_loss: 0.2252, target_val_label_loss: 0.6699, \n",
      "=============================================================\n"
     ]
    },
    {
     "name": "stdout",
     "output_type": "stream",
     "text": [
      "epoch: 12, [batch: 1 / 45], examples_per_second: 502.4357, train_label_loss: 0.1126, \n"
     ]
    },
    {
     "name": "stdout",
     "output_type": "stream",
     "text": [
      "epoch: 12, [batch: 5 / 45], examples_per_second: 3967.1380, train_label_loss: 0.1565, \n"
     ]
    },
    {
     "name": "stdout",
     "output_type": "stream",
     "text": [
      "epoch: 12, [batch: 9 / 45], examples_per_second: 4051.9466, train_label_loss: 0.1666, \n"
     ]
    },
    {
     "name": "stdout",
     "output_type": "stream",
     "text": [
      "epoch: 12, [batch: 14 / 45], examples_per_second: 4071.5803, train_label_loss: 0.1448, \n"
     ]
    },
    {
     "name": "stdout",
     "output_type": "stream",
     "text": [
      "epoch: 12, [batch: 18 / 45], examples_per_second: 4066.8702, train_label_loss: 0.1232, \n"
     ]
    },
    {
     "name": "stdout",
     "output_type": "stream",
     "text": [
      "epoch: 12, [batch: 23 / 45], examples_per_second: 4010.9234, train_label_loss: 0.0937, \n"
     ]
    },
    {
     "name": "stdout",
     "output_type": "stream",
     "text": [
      "epoch: 12, [batch: 27 / 45], examples_per_second: 4110.1224, train_label_loss: 0.1078, \n"
     ]
    },
    {
     "name": "stdout",
     "output_type": "stream",
     "text": [
      "epoch: 12, [batch: 31 / 45], examples_per_second: 4120.1601, train_label_loss: 0.0544, \n"
     ]
    },
    {
     "name": "stdout",
     "output_type": "stream",
     "text": [
      "epoch: 12, [batch: 36 / 45], examples_per_second: 4147.5641, train_label_loss: 0.0958, \n"
     ]
    },
    {
     "name": "stdout",
     "output_type": "stream",
     "text": [
      "epoch: 12, [batch: 40 / 45], examples_per_second: 4202.8163, train_label_loss: 0.1916, \n"
     ]
    },
    {
     "name": "stdout",
     "output_type": "stream",
     "text": [
      "=============================================================\n",
      "epoch: 12, source_val_acc_label: 0.9571, target_val_acc_label: 0.8667, source_val_label_loss: 0.2319, target_val_label_loss: 0.6799, \n",
      "=============================================================\n"
     ]
    },
    {
     "name": "stdout",
     "output_type": "stream",
     "text": [
      "epoch: 13, [batch: 1 / 45], examples_per_second: 500.4309, train_label_loss: 0.1233, \n"
     ]
    },
    {
     "name": "stdout",
     "output_type": "stream",
     "text": [
      "epoch: 13, [batch: 5 / 45], examples_per_second: 3962.7484, train_label_loss: 0.1182, \n"
     ]
    },
    {
     "name": "stdout",
     "output_type": "stream",
     "text": [
      "epoch: 13, [batch: 9 / 45], examples_per_second: 4057.1354, train_label_loss: 0.1126, \n"
     ]
    },
    {
     "name": "stdout",
     "output_type": "stream",
     "text": [
      "epoch: 13, [batch: 14 / 45], examples_per_second: 4020.2838, train_label_loss: 0.1670, \n"
     ]
    },
    {
     "name": "stdout",
     "output_type": "stream",
     "text": [
      "epoch: 13, [batch: 18 / 45], examples_per_second: 4065.9953, train_label_loss: 0.2534, \n"
     ]
    },
    {
     "name": "stdout",
     "output_type": "stream",
     "text": [
      "epoch: 13, [batch: 23 / 45], examples_per_second: 4014.9104, train_label_loss: 0.1159, \n"
     ]
    },
    {
     "name": "stdout",
     "output_type": "stream",
     "text": [
      "epoch: 13, [batch: 27 / 45], examples_per_second: 4111.2055, train_label_loss: 0.1255, \n"
     ]
    },
    {
     "name": "stdout",
     "output_type": "stream",
     "text": [
      "epoch: 13, [batch: 31 / 45], examples_per_second: 4128.0223, train_label_loss: 0.0843, \n"
     ]
    },
    {
     "name": "stdout",
     "output_type": "stream",
     "text": [
      "epoch: 13, [batch: 36 / 45], examples_per_second: 4158.2615, train_label_loss: 0.0556, \n"
     ]
    },
    {
     "name": "stdout",
     "output_type": "stream",
     "text": [
      "epoch: 13, [batch: 40 / 45], examples_per_second: 4207.3549, train_label_loss: 0.2468, \n"
     ]
    },
    {
     "name": "stdout",
     "output_type": "stream",
     "text": [
      "=============================================================\n",
      "epoch: 13, source_val_acc_label: 0.9628, target_val_acc_label: 0.8705, source_val_label_loss: 0.2173, target_val_label_loss: 0.6626, \n",
      "=============================================================\n"
     ]
    },
    {
     "name": "stdout",
     "output_type": "stream",
     "text": [
      "epoch: 14, [batch: 1 / 45], examples_per_second: 503.7595, train_label_loss: 0.1496, \n"
     ]
    },
    {
     "name": "stdout",
     "output_type": "stream",
     "text": [
      "epoch: 14, [batch: 5 / 45], examples_per_second: 3973.5894, train_label_loss: 0.1268, \n"
     ]
    },
    {
     "name": "stdout",
     "output_type": "stream",
     "text": [
      "epoch: 14, [batch: 9 / 45], examples_per_second: 4055.0746, train_label_loss: 0.1145, \n"
     ]
    },
    {
     "name": "stdout",
     "output_type": "stream",
     "text": [
      "epoch: 14, [batch: 14 / 45], examples_per_second: 4054.5445, train_label_loss: 0.1146, \n"
     ]
    },
    {
     "name": "stdout",
     "output_type": "stream",
     "text": [
      "epoch: 14, [batch: 18 / 45], examples_per_second: 4035.9474, train_label_loss: 0.1038, \n"
     ]
    },
    {
     "name": "stdout",
     "output_type": "stream",
     "text": [
      "epoch: 14, [batch: 23 / 45], examples_per_second: 4017.6687, train_label_loss: 0.1500, \n"
     ]
    },
    {
     "name": "stdout",
     "output_type": "stream",
     "text": [
      "epoch: 14, [batch: 27 / 45], examples_per_second: 4123.5175, train_label_loss: 0.1295, \n"
     ]
    },
    {
     "name": "stdout",
     "output_type": "stream",
     "text": [
      "epoch: 14, [batch: 31 / 45], examples_per_second: 4115.2687, train_label_loss: 0.1980, \n"
     ]
    },
    {
     "name": "stdout",
     "output_type": "stream",
     "text": [
      "epoch: 14, [batch: 36 / 45], examples_per_second: 4149.5097, train_label_loss: 0.1195, \n"
     ]
    },
    {
     "name": "stdout",
     "output_type": "stream",
     "text": [
      "epoch: 14, [batch: 40 / 45], examples_per_second: 4190.5551, train_label_loss: 0.0400, \n"
     ]
    },
    {
     "name": "stdout",
     "output_type": "stream",
     "text": [
      "=============================================================\n",
      "epoch: 14, source_val_acc_label: 0.9635, target_val_acc_label: 0.8750, source_val_label_loss: 0.2179, target_val_label_loss: 0.6633, \n",
      "=============================================================\n"
     ]
    },
    {
     "name": "stdout",
     "output_type": "stream",
     "text": [
      "New best\n"
     ]
    },
    {
     "name": "stdout",
     "output_type": "stream",
     "text": [
      "epoch: 15, [batch: 1 / 45], examples_per_second: 486.9885, train_label_loss: 0.1255, \n"
     ]
    },
    {
     "name": "stdout",
     "output_type": "stream",
     "text": [
      "epoch: 15, [batch: 5 / 45], examples_per_second: 3949.3244, train_label_loss: 0.2201, \n"
     ]
    },
    {
     "name": "stdout",
     "output_type": "stream",
     "text": [
      "epoch: 15, [batch: 9 / 45], examples_per_second: 4048.2779, train_label_loss: 0.0907, \n"
     ]
    },
    {
     "name": "stdout",
     "output_type": "stream",
     "text": [
      "epoch: 15, [batch: 14 / 45], examples_per_second: 4052.3086, train_label_loss: 0.1005, \n"
     ]
    },
    {
     "name": "stdout",
     "output_type": "stream",
     "text": [
      "epoch: 15, [batch: 18 / 45], examples_per_second: 4054.9494, train_label_loss: 0.0807, \n"
     ]
    },
    {
     "name": "stdout",
     "output_type": "stream",
     "text": [
      "epoch: 15, [batch: 23 / 45], examples_per_second: 4004.1688, train_label_loss: 0.2007, \n"
     ]
    },
    {
     "name": "stdout",
     "output_type": "stream",
     "text": [
      "epoch: 15, [batch: 27 / 45], examples_per_second: 4111.8674, train_label_loss: 0.0874, \n"
     ]
    },
    {
     "name": "stdout",
     "output_type": "stream",
     "text": [
      "epoch: 15, [batch: 31 / 45], examples_per_second: 4111.2783, train_label_loss: 0.0737, \n"
     ]
    },
    {
     "name": "stdout",
     "output_type": "stream",
     "text": [
      "epoch: 15, [batch: 36 / 45], examples_per_second: 4154.6862, train_label_loss: 0.0608, \n"
     ]
    },
    {
     "name": "stdout",
     "output_type": "stream",
     "text": [
      "epoch: 15, [batch: 40 / 45], examples_per_second: 4212.8128, train_label_loss: 0.0832, \n"
     ]
    },
    {
     "name": "stdout",
     "output_type": "stream",
     "text": [
      "=============================================================\n",
      "epoch: 15, source_val_acc_label: 0.9667, target_val_acc_label: 0.8756, source_val_label_loss: 0.2081, target_val_label_loss: 0.6517, \n",
      "=============================================================\n"
     ]
    },
    {
     "name": "stdout",
     "output_type": "stream",
     "text": [
      "New best\n"
     ]
    },
    {
     "name": "stdout",
     "output_type": "stream",
     "text": [
      "epoch: 16, [batch: 1 / 45], examples_per_second: 488.6975, train_label_loss: 0.0674, \n"
     ]
    },
    {
     "name": "stdout",
     "output_type": "stream",
     "text": [
      "epoch: 16, [batch: 5 / 45], examples_per_second: 3961.0356, train_label_loss: 0.0903, \n"
     ]
    },
    {
     "name": "stdout",
     "output_type": "stream",
     "text": [
      "epoch: 16, [batch: 9 / 45], examples_per_second: 4063.2108, train_label_loss: 0.1769, \n"
     ]
    },
    {
     "name": "stdout",
     "output_type": "stream",
     "text": [
      "epoch: 16, [batch: 14 / 45], examples_per_second: 4072.2712, train_label_loss: 0.0957, \n"
     ]
    },
    {
     "name": "stdout",
     "output_type": "stream",
     "text": [
      "epoch: 16, [batch: 18 / 45], examples_per_second: 4054.1203, train_label_loss: 0.1564, \n"
     ]
    },
    {
     "name": "stdout",
     "output_type": "stream",
     "text": [
      "epoch: 16, [batch: 23 / 45], examples_per_second: 4004.2335, train_label_loss: 0.1554, \n"
     ]
    },
    {
     "name": "stdout",
     "output_type": "stream",
     "text": [
      "epoch: 16, [batch: 27 / 45], examples_per_second: 4115.1879, train_label_loss: 0.1120, \n"
     ]
    },
    {
     "name": "stdout",
     "output_type": "stream",
     "text": [
      "epoch: 16, [batch: 31 / 45], examples_per_second: 4114.0375, train_label_loss: 0.0999, \n"
     ]
    },
    {
     "name": "stdout",
     "output_type": "stream",
     "text": [
      "epoch: 16, [batch: 36 / 45], examples_per_second: 4153.9531, train_label_loss: 0.0552, \n"
     ]
    },
    {
     "name": "stdout",
     "output_type": "stream",
     "text": [
      "epoch: 16, [batch: 40 / 45], examples_per_second: 4199.2236, train_label_loss: 0.0517, \n"
     ]
    },
    {
     "name": "stdout",
     "output_type": "stream",
     "text": [
      "=============================================================\n",
      "epoch: 16, source_val_acc_label: 0.9654, target_val_acc_label: 0.8799, source_val_label_loss: 0.2027, target_val_label_loss: 0.6515, \n",
      "=============================================================\n"
     ]
    },
    {
     "name": "stdout",
     "output_type": "stream",
     "text": [
      "New best\n"
     ]
    },
    {
     "name": "stdout",
     "output_type": "stream",
     "text": [
      "epoch: 17, [batch: 1 / 45], examples_per_second: 487.6757, train_label_loss: 0.0676, \n"
     ]
    },
    {
     "name": "stdout",
     "output_type": "stream",
     "text": [
      "epoch: 17, [batch: 5 / 45], examples_per_second: 3961.8774, train_label_loss: 0.1728, \n"
     ]
    },
    {
     "name": "stdout",
     "output_type": "stream",
     "text": [
      "epoch: 17, [batch: 9 / 45], examples_per_second: 4055.6145, train_label_loss: 0.0997, \n"
     ]
    },
    {
     "name": "stdout",
     "output_type": "stream",
     "text": [
      "epoch: 17, [batch: 14 / 45], examples_per_second: 4072.3089, train_label_loss: 0.1417, \n"
     ]
    },
    {
     "name": "stdout",
     "output_type": "stream",
     "text": [
      "epoch: 17, [batch: 18 / 45], examples_per_second: 4061.4266, train_label_loss: 0.1738, \n"
     ]
    },
    {
     "name": "stdout",
     "output_type": "stream",
     "text": [
      "epoch: 17, [batch: 23 / 45], examples_per_second: 4011.4746, train_label_loss: 0.0502, \n"
     ]
    },
    {
     "name": "stdout",
     "output_type": "stream",
     "text": [
      "epoch: 17, [batch: 27 / 45], examples_per_second: 4122.1754, train_label_loss: 0.0233, \n"
     ]
    },
    {
     "name": "stdout",
     "output_type": "stream",
     "text": [
      "epoch: 17, [batch: 31 / 45], examples_per_second: 4126.3822, train_label_loss: 0.0479, \n"
     ]
    },
    {
     "name": "stdout",
     "output_type": "stream",
     "text": [
      "epoch: 17, [batch: 36 / 45], examples_per_second: 4149.3253, train_label_loss: 0.1277, \n"
     ]
    },
    {
     "name": "stdout",
     "output_type": "stream",
     "text": [
      "epoch: 17, [batch: 40 / 45], examples_per_second: 4210.5828, train_label_loss: 0.0827, \n"
     ]
    },
    {
     "name": "stdout",
     "output_type": "stream",
     "text": [
      "=============================================================\n",
      "epoch: 17, source_val_acc_label: 0.9647, target_val_acc_label: 0.8754, source_val_label_loss: 0.1997, target_val_label_loss: 0.6583, \n",
      "=============================================================\n"
     ]
    },
    {
     "name": "stdout",
     "output_type": "stream",
     "text": [
      "epoch: 18, [batch: 1 / 45], examples_per_second: 500.2369, train_label_loss: 0.1861, \n"
     ]
    },
    {
     "name": "stdout",
     "output_type": "stream",
     "text": [
      "epoch: 18, [batch: 5 / 45], examples_per_second: 3953.6657, train_label_loss: 0.0599, \n"
     ]
    },
    {
     "name": "stdout",
     "output_type": "stream",
     "text": [
      "epoch: 18, [batch: 9 / 45], examples_per_second: 4026.2811, train_label_loss: 0.0315, \n"
     ]
    },
    {
     "name": "stdout",
     "output_type": "stream",
     "text": [
      "epoch: 18, [batch: 14 / 45], examples_per_second: 4061.2536, train_label_loss: 0.1002, \n"
     ]
    },
    {
     "name": "stdout",
     "output_type": "stream",
     "text": [
      "epoch: 18, [batch: 18 / 45], examples_per_second: 4055.6642, train_label_loss: 0.0460, \n"
     ]
    },
    {
     "name": "stdout",
     "output_type": "stream",
     "text": [
      "epoch: 18, [batch: 23 / 45], examples_per_second: 4001.7919, train_label_loss: 0.1446, \n"
     ]
    },
    {
     "name": "stdout",
     "output_type": "stream",
     "text": [
      "epoch: 18, [batch: 27 / 45], examples_per_second: 4109.5214, train_label_loss: 0.1235, \n"
     ]
    },
    {
     "name": "stdout",
     "output_type": "stream",
     "text": [
      "epoch: 18, [batch: 31 / 45], examples_per_second: 4107.0853, train_label_loss: 0.1081, \n"
     ]
    },
    {
     "name": "stdout",
     "output_type": "stream",
     "text": [
      "epoch: 18, [batch: 36 / 45], examples_per_second: 4146.1815, train_label_loss: 0.1065, \n"
     ]
    },
    {
     "name": "stdout",
     "output_type": "stream",
     "text": [
      "epoch: 18, [batch: 40 / 45], examples_per_second: 4205.7404, train_label_loss: 0.0750, \n"
     ]
    },
    {
     "name": "stdout",
     "output_type": "stream",
     "text": [
      "=============================================================\n",
      "epoch: 18, source_val_acc_label: 0.9615, target_val_acc_label: 0.8801, source_val_label_loss: 0.2199, target_val_label_loss: 0.6608, \n",
      "=============================================================\n"
     ]
    },
    {
     "name": "stdout",
     "output_type": "stream",
     "text": [
      "New best\n"
     ]
    },
    {
     "name": "stdout",
     "output_type": "stream",
     "text": [
      "epoch: 19, [batch: 1 / 45], examples_per_second: 489.3862, train_label_loss: 0.0524, \n"
     ]
    },
    {
     "name": "stdout",
     "output_type": "stream",
     "text": [
      "epoch: 19, [batch: 5 / 45], examples_per_second: 3953.4034, train_label_loss: 0.0680, \n"
     ]
    },
    {
     "name": "stdout",
     "output_type": "stream",
     "text": [
      "epoch: 19, [batch: 9 / 45], examples_per_second: 4061.2512, train_label_loss: 0.0654, \n"
     ]
    },
    {
     "name": "stdout",
     "output_type": "stream",
     "text": [
      "epoch: 19, [batch: 14 / 45], examples_per_second: 4068.6042, train_label_loss: 0.0578, \n"
     ]
    },
    {
     "name": "stdout",
     "output_type": "stream",
     "text": [
      "epoch: 19, [batch: 18 / 45], examples_per_second: 4072.1064, train_label_loss: 0.0561, \n"
     ]
    },
    {
     "name": "stdout",
     "output_type": "stream",
     "text": [
      "epoch: 19, [batch: 23 / 45], examples_per_second: 4000.1491, train_label_loss: 0.0175, \n"
     ]
    },
    {
     "name": "stdout",
     "output_type": "stream",
     "text": [
      "epoch: 19, [batch: 27 / 45], examples_per_second: 4114.7904, train_label_loss: 0.1396, \n"
     ]
    },
    {
     "name": "stdout",
     "output_type": "stream",
     "text": [
      "epoch: 19, [batch: 31 / 45], examples_per_second: 4116.6715, train_label_loss: 0.0264, \n"
     ]
    },
    {
     "name": "stdout",
     "output_type": "stream",
     "text": [
      "epoch: 19, [batch: 36 / 45], examples_per_second: 4155.6716, train_label_loss: 0.1561, \n"
     ]
    },
    {
     "name": "stdout",
     "output_type": "stream",
     "text": [
      "epoch: 19, [batch: 40 / 45], examples_per_second: 4203.4092, train_label_loss: 0.0493, \n"
     ]
    },
    {
     "name": "stdout",
     "output_type": "stream",
     "text": [
      "=============================================================\n",
      "epoch: 19, source_val_acc_label: 0.9628, target_val_acc_label: 0.8752, source_val_label_loss: 0.2155, target_val_label_loss: 0.6680, \n",
      "=============================================================\n"
     ]
    },
    {
     "name": "stdout",
     "output_type": "stream",
     "text": [
      "epoch: 20, [batch: 1 / 45], examples_per_second: 503.8244, train_label_loss: 0.0428, \n"
     ]
    },
    {
     "name": "stdout",
     "output_type": "stream",
     "text": [
      "epoch: 20, [batch: 5 / 45], examples_per_second: 3961.4126, train_label_loss: 0.0941, \n"
     ]
    },
    {
     "name": "stdout",
     "output_type": "stream",
     "text": [
      "epoch: 20, [batch: 9 / 45], examples_per_second: 4051.2783, train_label_loss: 0.0209, \n"
     ]
    },
    {
     "name": "stdout",
     "output_type": "stream",
     "text": [
      "epoch: 20, [batch: 14 / 45], examples_per_second: 4076.7323, train_label_loss: 0.0785, \n"
     ]
    },
    {
     "name": "stdout",
     "output_type": "stream",
     "text": [
      "epoch: 20, [batch: 18 / 45], examples_per_second: 4065.2995, train_label_loss: 0.0422, \n"
     ]
    },
    {
     "name": "stdout",
     "output_type": "stream",
     "text": [
      "epoch: 20, [batch: 23 / 45], examples_per_second: 4005.7503, train_label_loss: 0.0363, \n"
     ]
    },
    {
     "name": "stdout",
     "output_type": "stream",
     "text": [
      "epoch: 20, [batch: 27 / 45], examples_per_second: 4120.4326, train_label_loss: 0.2072, \n"
     ]
    },
    {
     "name": "stdout",
     "output_type": "stream",
     "text": [
      "epoch: 20, [batch: 31 / 45], examples_per_second: 4117.2481, train_label_loss: 0.0590, \n"
     ]
    },
    {
     "name": "stdout",
     "output_type": "stream",
     "text": [
      "epoch: 20, [batch: 36 / 45], examples_per_second: 4154.6115, train_label_loss: 0.0995, \n"
     ]
    },
    {
     "name": "stdout",
     "output_type": "stream",
     "text": [
      "epoch: 20, [batch: 40 / 45], examples_per_second: 4212.1327, train_label_loss: 0.0198, \n"
     ]
    },
    {
     "name": "stdout",
     "output_type": "stream",
     "text": [
      "=============================================================\n",
      "epoch: 20, source_val_acc_label: 0.9635, target_val_acc_label: 0.8850, source_val_label_loss: 0.2003, target_val_label_loss: 0.6429, \n",
      "=============================================================\n"
     ]
    },
    {
     "name": "stdout",
     "output_type": "stream",
     "text": [
      "New best\n"
     ]
    },
    {
     "name": "stdout",
     "output_type": "stream",
     "text": [
      "epoch: 21, [batch: 1 / 45], examples_per_second: 489.8511, train_label_loss: 0.0685, \n"
     ]
    },
    {
     "name": "stdout",
     "output_type": "stream",
     "text": [
      "epoch: 21, [batch: 5 / 45], examples_per_second: 3964.7496, train_label_loss: 0.0610, \n"
     ]
    },
    {
     "name": "stdout",
     "output_type": "stream",
     "text": [
      "epoch: 21, [batch: 9 / 45], examples_per_second: 4061.3132, train_label_loss: 0.1879, \n"
     ]
    },
    {
     "name": "stdout",
     "output_type": "stream",
     "text": [
      "epoch: 21, [batch: 14 / 45], examples_per_second: 4046.0433, train_label_loss: 0.0695, \n"
     ]
    },
    {
     "name": "stdout",
     "output_type": "stream",
     "text": [
      "epoch: 21, [batch: 18 / 45], examples_per_second: 4041.5984, train_label_loss: 0.0544, \n"
     ]
    },
    {
     "name": "stdout",
     "output_type": "stream",
     "text": [
      "epoch: 21, [batch: 23 / 45], examples_per_second: 4006.9230, train_label_loss: 0.0389, \n"
     ]
    },
    {
     "name": "stdout",
     "output_type": "stream",
     "text": [
      "epoch: 21, [batch: 27 / 45], examples_per_second: 4116.7026, train_label_loss: 0.1619, \n"
     ]
    },
    {
     "name": "stdout",
     "output_type": "stream",
     "text": [
      "epoch: 21, [batch: 31 / 45], examples_per_second: 4120.1539, train_label_loss: 0.0254, \n"
     ]
    },
    {
     "name": "stdout",
     "output_type": "stream",
     "text": [
      "epoch: 21, [batch: 36 / 45], examples_per_second: 4150.8478, train_label_loss: 0.0670, \n"
     ]
    },
    {
     "name": "stdout",
     "output_type": "stream",
     "text": [
      "epoch: 21, [batch: 40 / 45], examples_per_second: 4208.9365, train_label_loss: 0.0968, \n"
     ]
    },
    {
     "name": "stdout",
     "output_type": "stream",
     "text": [
      "=============================================================\n",
      "epoch: 21, source_val_acc_label: 0.9609, target_val_acc_label: 0.8816, source_val_label_loss: 0.2196, target_val_label_loss: 0.6509, \n",
      "=============================================================\n"
     ]
    },
    {
     "name": "stdout",
     "output_type": "stream",
     "text": [
      "epoch: 22, [batch: 1 / 45], examples_per_second: 502.4987, train_label_loss: 0.0849, \n"
     ]
    },
    {
     "name": "stdout",
     "output_type": "stream",
     "text": [
      "epoch: 22, [batch: 5 / 45], examples_per_second: 3963.7682, train_label_loss: 0.0792, \n"
     ]
    },
    {
     "name": "stdout",
     "output_type": "stream",
     "text": [
      "epoch: 22, [batch: 9 / 45], examples_per_second: 4049.3964, train_label_loss: 0.1138, \n"
     ]
    },
    {
     "name": "stdout",
     "output_type": "stream",
     "text": [
      "epoch: 22, [batch: 14 / 45], examples_per_second: 4046.2414, train_label_loss: 0.0752, \n"
     ]
    },
    {
     "name": "stdout",
     "output_type": "stream",
     "text": [
      "epoch: 22, [batch: 18 / 45], examples_per_second: 4055.3566, train_label_loss: 0.0552, \n"
     ]
    },
    {
     "name": "stdout",
     "output_type": "stream",
     "text": [
      "epoch: 22, [batch: 23 / 45], examples_per_second: 4002.5416, train_label_loss: 0.1124, \n"
     ]
    },
    {
     "name": "stdout",
     "output_type": "stream",
     "text": [
      "epoch: 22, [batch: 27 / 45], examples_per_second: 4117.2528, train_label_loss: 0.1737, \n"
     ]
    },
    {
     "name": "stdout",
     "output_type": "stream",
     "text": [
      "epoch: 22, [batch: 31 / 45], examples_per_second: 4089.2419, train_label_loss: 0.0797, \n"
     ]
    },
    {
     "name": "stdout",
     "output_type": "stream",
     "text": [
      "epoch: 22, [batch: 36 / 45], examples_per_second: 4148.9616, train_label_loss: 0.1002, \n"
     ]
    },
    {
     "name": "stdout",
     "output_type": "stream",
     "text": [
      "epoch: 22, [batch: 40 / 45], examples_per_second: 4198.7983, train_label_loss: 0.0577, \n"
     ]
    },
    {
     "name": "stdout",
     "output_type": "stream",
     "text": [
      "=============================================================\n",
      "epoch: 22, source_val_acc_label: 0.9660, target_val_acc_label: 0.8756, source_val_label_loss: 0.2106, target_val_label_loss: 0.6629, \n",
      "=============================================================\n"
     ]
    },
    {
     "name": "stdout",
     "output_type": "stream",
     "text": [
      "epoch: 23, [batch: 1 / 45], examples_per_second: 503.0412, train_label_loss: 0.0943, \n"
     ]
    },
    {
     "name": "stdout",
     "output_type": "stream",
     "text": [
      "epoch: 23, [batch: 5 / 45], examples_per_second: 3975.8741, train_label_loss: 0.0804, \n"
     ]
    },
    {
     "name": "stdout",
     "output_type": "stream",
     "text": [
      "epoch: 23, [batch: 9 / 45], examples_per_second: 4056.6222, train_label_loss: 0.0717, \n"
     ]
    },
    {
     "name": "stdout",
     "output_type": "stream",
     "text": [
      "epoch: 23, [batch: 14 / 45], examples_per_second: 4049.2367, train_label_loss: 0.0534, \n"
     ]
    },
    {
     "name": "stdout",
     "output_type": "stream",
     "text": [
      "epoch: 23, [batch: 18 / 45], examples_per_second: 4037.3295, train_label_loss: 0.0763, \n"
     ]
    },
    {
     "name": "stdout",
     "output_type": "stream",
     "text": [
      "epoch: 23, [batch: 23 / 45], examples_per_second: 3996.4514, train_label_loss: 0.1348, \n"
     ]
    },
    {
     "name": "stdout",
     "output_type": "stream",
     "text": [
      "epoch: 23, [batch: 27 / 45], examples_per_second: 4105.5947, train_label_loss: 0.0580, \n"
     ]
    },
    {
     "name": "stdout",
     "output_type": "stream",
     "text": [
      "epoch: 23, [batch: 31 / 45], examples_per_second: 4106.9291, train_label_loss: 0.0172, \n"
     ]
    },
    {
     "name": "stdout",
     "output_type": "stream",
     "text": [
      "epoch: 23, [batch: 36 / 45], examples_per_second: 4129.6089, train_label_loss: 0.0377, \n"
     ]
    },
    {
     "name": "stdout",
     "output_type": "stream",
     "text": [
      "epoch: 23, [batch: 40 / 45], examples_per_second: 4210.8559, train_label_loss: 0.1242, \n"
     ]
    },
    {
     "name": "stdout",
     "output_type": "stream",
     "text": [
      "=============================================================\n",
      "epoch: 23, source_val_acc_label: 0.9609, target_val_acc_label: 0.8786, source_val_label_loss: 0.2191, target_val_label_loss: 0.6615, \n",
      "=============================================================\n"
     ]
    },
    {
     "name": "stdout",
     "output_type": "stream",
     "text": [
      "epoch: 24, [batch: 1 / 45], examples_per_second: 504.8736, train_label_loss: 0.0618, \n"
     ]
    },
    {
     "name": "stdout",
     "output_type": "stream",
     "text": [
      "epoch: 24, [batch: 5 / 45], examples_per_second: 3958.1142, train_label_loss: 0.0896, \n"
     ]
    },
    {
     "name": "stdout",
     "output_type": "stream",
     "text": [
      "epoch: 24, [batch: 9 / 45], examples_per_second: 4057.6154, train_label_loss: 0.1402, \n"
     ]
    },
    {
     "name": "stdout",
     "output_type": "stream",
     "text": [
      "epoch: 24, [batch: 14 / 45], examples_per_second: 4060.0004, train_label_loss: 0.1175, \n"
     ]
    },
    {
     "name": "stdout",
     "output_type": "stream",
     "text": [
      "epoch: 24, [batch: 18 / 45], examples_per_second: 4048.0150, train_label_loss: 0.0798, \n"
     ]
    },
    {
     "name": "stdout",
     "output_type": "stream",
     "text": [
      "epoch: 24, [batch: 23 / 45], examples_per_second: 4013.3761, train_label_loss: 0.0724, \n"
     ]
    },
    {
     "name": "stdout",
     "output_type": "stream",
     "text": [
      "epoch: 24, [batch: 27 / 45], examples_per_second: 4113.8001, train_label_loss: 0.0990, \n"
     ]
    },
    {
     "name": "stdout",
     "output_type": "stream",
     "text": [
      "epoch: 24, [batch: 31 / 45], examples_per_second: 4108.0120, train_label_loss: 0.0819, \n"
     ]
    },
    {
     "name": "stdout",
     "output_type": "stream",
     "text": [
      "epoch: 24, [batch: 36 / 45], examples_per_second: 4156.1632, train_label_loss: 0.0874, \n"
     ]
    },
    {
     "name": "stdout",
     "output_type": "stream",
     "text": [
      "epoch: 24, [batch: 40 / 45], examples_per_second: 4210.7876, train_label_loss: 0.0986, \n"
     ]
    },
    {
     "name": "stdout",
     "output_type": "stream",
     "text": [
      "=============================================================\n",
      "epoch: 24, source_val_acc_label: 0.9641, target_val_acc_label: 0.8833, source_val_label_loss: 0.1933, target_val_label_loss: 0.6471, \n",
      "=============================================================\n"
     ]
    },
    {
     "name": "stdout",
     "output_type": "stream",
     "text": [
      "Patience (3) exhausted\n"
     ]
    }
   ],
   "source": [
    "###################################\n",
    "# train\n",
    "###################################\n",
    "jig = PTN_Train_Eval_Test_Jig(model, p.BEST_MODEL_PATH, p.device)\n",
    "\n",
    "jig.train(\n",
    "    train_iterable=datasets.source.processed.train,\n",
    "    source_val_iterable=datasets.source.processed.val,\n",
    "    target_val_iterable=datasets.target.processed.val,\n",
    "    num_epochs=p.n_epoch,\n",
    "    num_logs_per_epoch=p.NUM_LOGS_PER_EPOCH,\n",
    "    patience=p.patience,\n",
    "    optimizer=optimizer,\n",
    "    criteria_for_best=p.criteria_for_best,\n",
    ")"
   ]
  },
  {
   "cell_type": "code",
   "execution_count": 14,
   "id": "31e8fabf",
   "metadata": {
    "execution": {
     "iopub.execute_input": "2022-03-22T17:25:15.684384Z",
     "iopub.status.busy": "2022-03-22T17:25:15.684134Z",
     "iopub.status.idle": "2022-03-22T17:25:15.701706Z",
     "shell.execute_reply": "2022-03-22T17:25:15.702061Z"
    },
    "papermill": {
     "duration": 0.079506,
     "end_time": "2022-03-22T17:25:15.702172",
     "exception": false,
     "start_time": "2022-03-22T17:25:15.622666",
     "status": "completed"
    },
    "tags": []
   },
   "outputs": [],
   "source": [
    "total_experiment_time_secs = time.time() - start_time_secs"
   ]
  },
  {
   "cell_type": "code",
   "execution_count": 15,
   "id": "87b9595b",
   "metadata": {
    "execution": {
     "iopub.execute_input": "2022-03-22T17:25:15.827711Z",
     "iopub.status.busy": "2022-03-22T17:25:15.827333Z",
     "iopub.status.idle": "2022-03-22T17:25:23.303545Z",
     "shell.execute_reply": "2022-03-22T17:25:23.303107Z"
    },
    "papermill": {
     "duration": 7.538516,
     "end_time": "2022-03-22T17:25:23.303656",
     "exception": false,
     "start_time": "2022-03-22T17:25:15.765140",
     "status": "completed"
    },
    "tags": []
   },
   "outputs": [],
   "source": [
    "###################################\n",
    "# Evaluate the model\n",
    "###################################\n",
    "source_test_label_accuracy, source_test_label_loss = jig.test(datasets.source.processed.test)\n",
    "target_test_label_accuracy, target_test_label_loss = jig.test(datasets.target.processed.test)\n",
    "\n",
    "source_val_label_accuracy, source_val_label_loss = jig.test(datasets.source.processed.val)\n",
    "target_val_label_accuracy, target_val_label_loss = jig.test(datasets.target.processed.val)\n",
    "\n",
    "history = jig.get_history()\n",
    "\n",
    "total_epochs_trained = len(history[\"epoch_indices\"])\n",
    "\n",
    "val_dl = Iterable_Aggregator((datasets.source.original.val,datasets.target.original.val))\n",
    "\n",
    "confusion = ptn_confusion_by_domain_over_dataloader(model, p.device, val_dl)\n",
    "per_domain_accuracy = per_domain_accuracy_from_confusion(confusion)\n",
    "\n",
    "# Add a key to per_domain_accuracy for if it was a source domain\n",
    "for domain, accuracy in per_domain_accuracy.items():\n",
    "    per_domain_accuracy[domain] = {\n",
    "        \"accuracy\": accuracy,\n",
    "        \"source?\": domain in p.domains_source\n",
    "    }\n",
    "\n",
    "# Do an independent accuracy assesment JUST TO BE SURE!\n",
    "# _source_test_label_accuracy = independent_accuracy_assesment(model, datasets.source.processed.test, p.device)\n",
    "# _target_test_label_accuracy = independent_accuracy_assesment(model, datasets.target.processed.test, p.device)\n",
    "# _source_val_label_accuracy = independent_accuracy_assesment(model, datasets.source.processed.val, p.device)\n",
    "# _target_val_label_accuracy = independent_accuracy_assesment(model, datasets.target.processed.val, p.device)\n",
    "\n",
    "# assert(_source_test_label_accuracy == source_test_label_accuracy)\n",
    "# assert(_target_test_label_accuracy == target_test_label_accuracy)\n",
    "# assert(_source_val_label_accuracy == source_val_label_accuracy)\n",
    "# assert(_target_val_label_accuracy == target_val_label_accuracy)\n",
    "\n",
    "experiment = {\n",
    "    \"experiment_name\": p.experiment_name,\n",
    "    \"parameters\": dict(p),\n",
    "    \"results\": {\n",
    "        \"source_test_label_accuracy\": source_test_label_accuracy,\n",
    "        \"source_test_label_loss\": source_test_label_loss,\n",
    "        \"target_test_label_accuracy\": target_test_label_accuracy,\n",
    "        \"target_test_label_loss\": target_test_label_loss,\n",
    "        \"source_val_label_accuracy\": source_val_label_accuracy,\n",
    "        \"source_val_label_loss\": source_val_label_loss,\n",
    "        \"target_val_label_accuracy\": target_val_label_accuracy,\n",
    "        \"target_val_label_loss\": target_val_label_loss,\n",
    "        \"total_epochs_trained\": total_epochs_trained,\n",
    "        \"total_experiment_time_secs\": total_experiment_time_secs,\n",
    "        \"confusion\": confusion,\n",
    "        \"per_domain_accuracy\": per_domain_accuracy,\n",
    "    },\n",
    "    \"history\": history,\n",
    "    \"dataset_metrics\": get_dataset_metrics(datasets, \"ptn\"),\n",
    "}"
   ]
  },
  {
   "cell_type": "code",
   "execution_count": 16,
   "id": "54a21829",
   "metadata": {
    "execution": {
     "iopub.execute_input": "2022-03-22T17:25:23.428113Z",
     "iopub.status.busy": "2022-03-22T17:25:23.427427Z",
     "iopub.status.idle": "2022-03-22T17:25:23.550777Z",
     "shell.execute_reply": "2022-03-22T17:25:23.551178Z"
    },
    "papermill": {
     "duration": 0.185355,
     "end_time": "2022-03-22T17:25:23.551323",
     "exception": false,
     "start_time": "2022-03-22T17:25:23.365968",
     "status": "completed"
    },
    "tags": []
   },
   "outputs": [
    {
     "data": {
      "image/png": "[encoded data removed]",
      "text/plain": [
       "<Figure size 1080x504 with 1 Axes>"
      ]
     },
     "metadata": {
      "needs_background": "light"
     },
     "output_type": "display_data"
    }
   ],
   "source": [
    "ax = get_loss_curve(experiment)\n",
    "plt.show()"
   ]
  },
  {
   "cell_type": "code",
   "execution_count": 17,
   "id": "fd8a0f60",
   "metadata": {
    "execution": {
     "iopub.execute_input": "2022-03-22T17:25:23.677421Z",
     "iopub.status.busy": "2022-03-22T17:25:23.676989Z",
     "iopub.status.idle": "2022-03-22T17:25:23.821823Z",
     "shell.execute_reply": "2022-03-22T17:25:23.822032Z"
    },
    "papermill": {
     "duration": 0.20687,
     "end_time": "2022-03-22T17:25:23.822113",
     "exception": false,
     "start_time": "2022-03-22T17:25:23.615243",
     "status": "completed"
    },
    "tags": []
   },
   "outputs": [
    {
     "data": {
      "text/plain": [
       "<AxesSubplot:title={'center':'Results'}>"
      ]
     },
     "execution_count": 17,
     "metadata": {},
     "output_type": "execute_result"
    },
    {
     "data": {
      "image/png": "[encoded data removed]",
      "text/plain": [
       "<Figure size 1080x504 with 1 Axes>"
      ]
     },
     "metadata": {
      "needs_background": "light"
     },
     "output_type": "display_data"
    }
   ],
   "source": [
    "get_results_table(experiment)"
   ]
  },
  {
   "cell_type": "code",
   "execution_count": 18,
   "id": "cf8dc689",
   "metadata": {
    "execution": {
     "iopub.execute_input": "2022-03-22T17:25:23.947665Z",
     "iopub.status.busy": "2022-03-22T17:25:23.947303Z",
     "iopub.status.idle": "2022-03-22T17:25:24.062196Z",
     "shell.execute_reply": "2022-03-22T17:25:24.061735Z"
    },
    "papermill": {
     "duration": 0.178086,
     "end_time": "2022-03-22T17:25:24.062304",
     "exception": false,
     "start_time": "2022-03-22T17:25:23.884218",
     "status": "completed"
    },
    "tags": []
   },
   "outputs": [
    {
     "data": {
      "text/plain": [
       "<AxesSubplot:title={'center':'Per Domain Validation Accuracy'}, xlabel='domain'>"
      ]
     },
     "execution_count": 18,
     "metadata": {},
     "output_type": "execute_result"
    },
    {
     "data": {
      "image/png": "[encoded data removed]",
      "text/plain": [
       "<Figure size 1080x504 with 1 Axes>"
      ]
     },
     "metadata": {
      "needs_background": "light"
     },
     "output_type": "display_data"
    }
   ],
   "source": [
    "get_domain_accuracies(experiment)"
   ]
  },
  {
   "cell_type": "code",
   "execution_count": 19,
   "id": "a74ae082",
   "metadata": {
    "execution": {
     "iopub.execute_input": "2022-03-22T17:25:24.192531Z",
     "iopub.status.busy": "2022-03-22T17:25:24.192265Z",
     "iopub.status.idle": "2022-03-22T17:25:24.208035Z",
     "shell.execute_reply": "2022-03-22T17:25:24.207587Z"
    },
    "papermill": {
     "duration": 0.080186,
     "end_time": "2022-03-22T17:25:24.208137",
     "exception": false,
     "start_time": "2022-03-22T17:25:24.127951",
     "status": "completed"
    },
    "tags": []
   },
   "outputs": [
    {
     "name": "stdout",
     "output_type": "stream",
     "text": [
      "Source Test Label Accuracy: 0.9596153846153846 Target Test Label Accuracy: 0.8771367521367521\n",
      "Source Val Label Accuracy: 0.9634615384615385 Target Val Label Accuracy: 0.885042735042735\n"
     ]
    }
   ],
   "source": [
    "print(\"Source Test Label Accuracy:\", experiment[\"results\"][\"source_test_label_accuracy\"], \"Target Test Label Accuracy:\", experiment[\"results\"][\"target_test_label_accuracy\"])\n",
    "print(\"Source Val Label Accuracy:\", experiment[\"results\"][\"source_val_label_accuracy\"], \"Target Val Label Accuracy:\", experiment[\"results\"][\"target_val_label_accuracy\"])"
   ]
  },
  {
   "cell_type": "code",
   "execution_count": 20,
   "id": "dacca602",
   "metadata": {
    "execution": {
     "iopub.execute_input": "2022-03-22T17:25:24.338903Z",
     "iopub.status.busy": "2022-03-22T17:25:24.338645Z",
     "iopub.status.idle": "2022-03-22T17:25:24.355512Z",
     "shell.execute_reply": "2022-03-22T17:25:24.355917Z"
    },
    "papermill": {
     "duration": 0.081544,
     "end_time": "2022-03-22T17:25:24.356041",
     "exception": false,
     "start_time": "2022-03-22T17:25:24.274497",
     "status": "completed"
    },
    "tags": [
     "experiment_json"
    ]
   },
   "outputs": [
    {
     "data": {
      "text/plain": [
       "'{\"experiment_name\": \"tuned_1v2:wisig\", \"parameters\": {\"experiment_name\": \"tuned_1v2:wisig\", \"device\": \"cuda\", \"lr\": 0.0001, \"labels_source\": [\"1-10\", \"1-12\", \"1-14\", \"1-16\", \"1-18\", \"1-19\", \"1-8\", \"10-11\", \"10-17\", \"10-4\", \"10-7\", \"11-1\", \"11-10\", \"11-19\", \"11-20\", \"11-4\", \"11-7\", \"12-19\", \"12-20\", \"12-7\", \"13-14\", \"13-18\", \"13-19\", \"13-20\", \"13-3\", \"13-7\", \"14-10\", \"14-11\", \"14-12\", \"14-13\", \"14-14\", \"14-19\", \"14-20\", \"14-7\", \"14-8\", \"14-9\", \"15-1\", \"15-19\", \"15-6\", \"16-1\", \"16-16\", \"16-19\", \"16-20\", \"17-10\", \"17-11\", \"18-1\", \"18-10\", \"18-11\", \"18-12\", \"18-13\", \"18-14\", \"18-15\", \"18-16\", \"18-17\", \"18-19\", \"18-2\", \"18-20\", \"18-4\", \"18-5\", \"18-7\", \"18-8\", \"18-9\", \"19-1\", \"19-10\", \"19-11\", \"19-12\", \"19-13\", \"19-14\", \"19-15\", \"19-19\", \"19-2\", \"19-20\", \"19-3\", \"19-4\", \"19-6\", \"19-7\", \"19-8\", \"19-9\", \"2-1\", \"2-13\", \"2-15\", \"2-3\", \"2-4\", \"2-5\", \"2-6\", \"2-7\", \"2-8\", \"20-1\", \"20-12\", \"20-14\", \"20-15\", \"20-16\", \"20-18\", \"20-19\", \"20-20\", \"20-3\", \"20-4\", \"20-5\", \"20-7\", \"20-8\", \"3-1\", \"3-13\", \"3-18\", \"3-2\", \"3-8\", \"4-1\", \"4-10\", \"4-11\", \"5-1\", \"5-5\", \"6-1\", \"6-15\", \"6-6\", \"7-10\", \"7-11\", \"7-12\", \"7-13\", \"7-14\", \"7-7\", \"7-8\", \"7-9\", \"8-1\", \"8-13\", \"8-14\", \"8-18\", \"8-20\", \"8-3\", \"8-8\", \"9-1\", \"9-7\"], \"labels_target\": [\"1-10\", \"1-12\", \"1-14\", \"1-16\", \"1-18\", \"1-19\", \"1-8\", \"10-11\", \"10-17\", \"10-4\", \"10-7\", \"11-1\", \"11-10\", \"11-19\", \"11-20\", \"11-4\", \"11-7\", \"12-19\", \"12-20\", \"12-7\", \"13-14\", \"13-18\", \"13-19\", \"13-20\", \"13-3\", \"13-7\", \"14-10\", \"14-11\", \"14-12\", \"14-13\", \"14-14\", \"14-19\", \"14-20\", \"14-7\", \"14-8\", \"14-9\", \"15-1\", \"15-19\", \"15-6\", \"16-1\", \"16-16\", \"16-19\", \"16-20\", \"17-10\", \"17-11\", \"18-1\", \"18-10\", \"18-11\", \"18-12\", \"18-13\", \"18-14\", \"18-15\", \"18-16\", \"18-17\", \"18-19\", \"18-2\", \"18-20\", \"18-4\", \"18-5\", \"18-7\", \"18-8\", \"18-9\", \"19-1\", \"19-10\", \"19-11\", \"19-12\", \"19-13\", \"19-14\", \"19-15\", \"19-19\", \"19-2\", \"19-20\", \"19-3\", \"19-4\", \"19-6\", \"19-7\", \"19-8\", \"19-9\", \"2-1\", \"2-13\", \"2-15\", \"2-3\", \"2-4\", \"2-5\", \"2-6\", \"2-7\", \"2-8\", \"20-1\", \"20-12\", \"20-14\", \"20-15\", \"20-16\", \"20-18\", \"20-19\", \"20-20\", \"20-3\", \"20-4\", \"20-5\", \"20-7\", \"20-8\", \"3-1\", \"3-13\", \"3-18\", \"3-2\", \"3-8\", \"4-1\", \"4-10\", \"4-11\", \"5-1\", \"5-5\", \"6-1\", \"6-15\", \"6-6\", \"7-10\", \"7-11\", \"7-12\", \"7-13\", \"7-14\", \"7-7\", \"7-8\", \"7-9\", \"8-1\", \"8-13\", \"8-14\", \"8-18\", \"8-20\", \"8-3\", \"8-8\", \"9-1\", \"9-7\"], \"episode_transforms_source\": [], \"episode_transforms_target\": [], \"domains_source\": [3], \"domains_target\": [1, 2, 4], \"num_examples_per_domain_per_label_source\": -1, \"num_examples_per_domain_per_label_target\": -1, \"n_shot\": 3, \"n_way\": 130, \"n_query\": 2, \"train_k_factor\": 3, \"val_k_factor\": 2, \"test_k_factor\": 2, \"torch_default_dtype\": \"torch.float32\", \"n_epoch\": 50, \"patience\": 3, \"criteria_for_best\": \"target_accuracy\", \"x_net\": [{\"class\": \"nnReshape\", \"kargs\": {\"shape\": [-1, 1, 2, 256]}}, {\"class\": \"Conv2d\", \"kargs\": {\"in_channels\": 1, \"out_channels\": 256, \"kernel_size\": [1, 7], \"bias\": false, \"padding\": [0, 3]}}, {\"class\": \"ReLU\", \"kargs\": {\"inplace\": true}}, {\"class\": \"BatchNorm2d\", \"kargs\": {\"num_features\": 256}}, {\"class\": \"Conv2d\", \"kargs\": {\"in_channels\": 256, \"out_channels\": 80, \"kernel_size\": [2, 7], \"bias\": true, \"padding\": [0, 3]}}, {\"class\": \"ReLU\", \"kargs\": {\"inplace\": true}}, {\"class\": \"BatchNorm2d\", \"kargs\": {\"num_features\": 80}}, {\"class\": \"Flatten\", \"kargs\": {}}, {\"class\": \"Linear\", \"kargs\": {\"in_features\": 20480, \"out_features\": 256}}, {\"class\": \"ReLU\", \"kargs\": {\"inplace\": true}}, {\"class\": \"BatchNorm1d\", \"kargs\": {\"num_features\": 256}}, {\"class\": \"Linear\", \"kargs\": {\"in_features\": 256, \"out_features\": 256}}], \"NUM_LOGS_PER_EPOCH\": 10, \"BEST_MODEL_PATH\": \"./best_model.pth\", \"pickle_name\": \"wisig.node3-19.stratified_ds.2022A.pkl\", \"x_transforms_source\": [\"unit_power\"], \"x_transforms_target\": [\"unit_power\"], \"dataset_seed\": 7, \"seed\": 7}, \"results\": {\"source_test_label_accuracy\": 0.9596153846153846, \"source_test_label_loss\": 0.2778856158256531, \"target_test_label_accuracy\": 0.8771367521367521, \"target_test_label_loss\": 0.6911718845367432, \"source_val_label_accuracy\": 0.9634615384615385, \"source_val_label_loss\": 0.20025114715099335, \"target_val_label_accuracy\": 0.885042735042735, \"target_val_label_loss\": 0.6429216265678406, \"total_epochs_trained\": 24, \"total_experiment_time_secs\": 231.89375257492065, \"confusion\": {\"3\": {\"53\": {\"53\": 12}, \"8\": {\"8\": 12}, \"15\": {\"15\": 12}, \"85\": {\"85\": 12}, \"52\": {\"52\": 12}, \"35\": {\"35\": 12}, \"119\": {\"119\": 11, \"60\": 1}, \"61\": {\"61\": 11, \"86\": 1}, \"64\": {\"64\": 12}, \"62\": {\"62\": 12}, \"26\": {\"26\": 12}, \"114\": {\"114\": 12}, \"44\": {\"44\": 12}, \"123\": {\"123\": 12}, \"110\": {\"110\": 12}, \"112\": {\"78\": 1, \"112\": 11}, \"41\": {\"41\": 12}, \"83\": {\"83\": 12}, \"97\": {\"97\": 12}, \"101\": {\"101\": 11, \"25\": 1}, \"80\": {\"80\": 11, \"60\": 1}, \"122\": {\"122\": 11, \"21\": 1}, \"95\": {\"95\": 12}, \"75\": {\"75\": 12}, \"105\": {\"105\": 12}, \"45\": {\"45\": 12}, \"38\": {\"38\": 12}, \"21\": {\"21\": 9, \"89\": 1, \"78\": 1, \"6\": 1}, \"47\": {\"47\": 12}, \"121\": {\"121\": 12}, \"9\": {\"9\": 11, \"86\": 1}, \"60\": {\"60\": 12}, \"13\": {\"13\": 11, \"21\": 1}, \"84\": {\"84\": 12}, \"73\": {\"73\": 11, \"116\": 1}, \"32\": {\"32\": 12}, \"54\": {\"54\": 12}, \"29\": {\"29\": 12}, \"71\": {\"71\": 12}, \"20\": {\"20\": 12}, \"76\": {\"76\": 12}, \"113\": {\"113\": 12}, \"37\": {\"37\": 12}, \"68\": {\"68\": 11, \"104\": 1}, \"12\": {\"12\": 12}, \"67\": {\"67\": 12}, \"77\": {\"77\": 12}, \"107\": {\"107\": 12}, \"70\": {\"70\": 9, \"17\": 1, \"110\": 1, \"73\": 1}, \"43\": {\"43\": 10, \"87\": 2}, \"69\": {\"69\": 12}, \"27\": {\"27\": 11, \"36\": 1}, \"108\": {\"108\": 11, \"70\": 1}, \"104\": {\"104\": 12}, \"40\": {\"40\": 12}, \"36\": {\"36\": 9, \"27\": 3}, \"126\": {\"126\": 12}, \"78\": {\"87\": 1, \"78\": 7, \"21\": 1, \"57\": 1, \"4\": 2}, \"24\": {\"24\": 11, \"33\": 1}, \"7\": {\"7\": 12}, \"96\": {\"96\": 12}, \"65\": {\"65\": 12}, \"88\": {\"88\": 11, \"108\": 1}, \"124\": {\"124\": 12}, \"128\": {\"112\": 1, \"128\": 11}, \"116\": {\"116\": 12}, \"3\": {\"3\": 12}, \"93\": {\"93\": 12}, \"127\": {\"127\": 11, \"86\": 1}, \"22\": {\"9\": 1, \"22\": 11}, \"82\": {\"82\": 12}, \"39\": {\"39\": 10, \"118\": 1, \"9\": 1}, \"102\": {\"102\": 12}, \"90\": {\"90\": 12}, \"42\": {\"42\": 12}, \"66\": {\"66\": 12}, \"111\": {\"111\": 11, \"127\": 1}, \"2\": {\"2\": 12}, \"87\": {\"87\": 12}, \"19\": {\"19\": 12}, \"17\": {\"17\": 8, \"78\": 1, \"63\": 1, \"13\": 1, \"122\": 1}, \"33\": {\"33\": 9, \"26\": 1, \"1\": 2}, \"81\": {\"81\": 11, \"97\": 1}, \"31\": {\"31\": 12}, \"5\": {\"5\": 12}, \"48\": {\"48\": 12}, \"125\": {\"125\": 11, \"89\": 1}, \"56\": {\"56\": 12}, \"86\": {\"86\": 12}, \"117\": {\"117\": 12}, \"120\": {\"120\": 12}, \"16\": {\"16\": 12}, \"4\": {\"4\": 12}, \"106\": {\"106\": 12}, \"23\": {\"23\": 11, \"101\": 1}, \"89\": {\"89\": 10, \"78\": 1, \"17\": 1}, \"72\": {\"72\": 11, \"12\": 1}, \"18\": {\"18\": 12}, \"55\": {\"55\": 12}, \"109\": {\"109\": 11, \"21\": 1}, \"28\": {\"28\": 12}, \"58\": {\"58\": 12}, \"98\": {\"98\": 12}, \"94\": {\"94\": 12}, \"63\": {\"63\": 11, \"104\": 1}, \"100\": {\"100\": 12}, \"51\": {\"51\": 12}, \"91\": {\"91\": 12}, \"92\": {\"92\": 12}, \"14\": {\"14\": 12}, \"59\": {\"59\": 12}, \"74\": {\"74\": 12}, \"10\": {\"10\": 12}, \"99\": {\"99\": 12}, \"129\": {\"129\": 11, \"110\": 1}, \"34\": {\"34\": 11, \"6\": 1}, \"1\": {\"1\": 12}, \"79\": {\"79\": 12}, \"0\": {\"0\": 12}, \"25\": {\"25\": 12}, \"115\": {\"115\": 12}, \"118\": {\"118\": 11, \"84\": 1}, \"49\": {\"49\": 12}, \"11\": {\"11\": 12}, \"103\": {\"103\": 12}, \"50\": {\"50\": 12}, \"6\": {\"6\": 12}, \"30\": {\"30\": 11, \"97\": 1}, \"46\": {\"46\": 11, \"86\": 1}, \"57\": {\"57\": 11, \"13\": 1}}, \"4\": {\"53\": {\"53\": 11, \"49\": 1}, \"8\": {\"8\": 12}, \"111\": {\"111\": 9, \"55\": 1, \"12\": 1, \"78\": 1}, \"120\": {\"120\": 12}, \"45\": {\"45\": 12}, \"86\": {\"86\": 12}, \"25\": {\"25\": 12}, \"36\": {\"24\": 4, \"36\": 7, \"23\": 1}, \"63\": {\"63\": 12}, \"65\": {\"65\": 12}, \"54\": {\"54\": 11, \"94\": 1}, \"62\": {\"62\": 9, \"13\": 2, \"118\": 1}, \"102\": {\"102\": 11, \"78\": 1}, \"13\": {\"13\": 10, \"128\": 1, \"48\": 1}, \"11\": {\"11\": 12}, \"60\": {\"60\": 8, \"43\": 3, \"70\": 1}, \"113\": {\"113\": 12}, \"42\": {\"42\": 12}, \"32\": {\"32\": 12}, \"96\": {\"96\": 7, \"121\": 2, \"117\": 1, \"109\": 1, \"31\": 1}, \"41\": {\"41\": 12}, \"18\": {\"18\": 12}, \"69\": {\"69\": 12}, \"129\": {\"129\": 12}, \"76\": {\"76\": 12}, \"48\": {\"48\": 12}, \"106\": {\"106\": 11, \"88\": 1}, \"20\": {\"20\": 12}, \"72\": {\"72\": 12}, \"81\": {\"81\": 12}, \"122\": {\"122\": 9, \"43\": 2, \"87\": 1}, \"9\": {\"9\": 12}, \"123\": {\"123\": 12}, \"114\": {\"114\": 9, \"71\": 2, \"55\": 1}, \"85\": {\"85\": 12}, \"112\": {\"112\": 11, \"23\": 1}, \"33\": {\"33\": 12}, \"77\": {\"77\": 12}, \"29\": {\"29\": 12}, \"55\": {\"55\": 12}, \"21\": {\"21\": 8, \"0\": 3, \"122\": 1}, \"61\": {\"61\": 11, \"35\": 1}, \"15\": {\"15\": 10, \"30\": 1, \"10\": 1}, \"38\": {\"38\": 11, \"5\": 1}, \"128\": {\"128\": 3, \"29\": 1, \"60\": 5, \"28\": 2, \"103\": 1}, \"124\": {\"124\": 12}, \"125\": {\"125\": 12}, \"2\": {\"2\": 11, \"26\": 1}, \"108\": {\"93\": 2, \"108\": 8, \"2\": 1, \"88\": 1}, \"71\": {\"71\": 12}, \"44\": {\"3\": 1, \"44\": 10, \"90\": 1}, \"70\": {\"70\": 11, \"88\": 1}, \"27\": {\"27\": 11, \"97\": 1}, \"109\": {\"109\": 10, \"96\": 1, \"23\": 1}, \"95\": {\"95\": 12}, \"40\": {\"78\": 1, \"40\": 11}, \"37\": {\"37\": 12}, \"127\": {\"4\": 2, \"127\": 9, \"23\": 1}, \"118\": {\"118\": 9, \"23\": 1, \"62\": 2}, \"105\": {\"105\": 10, \"23\": 1, \"43\": 1}, \"7\": {\"7\": 12}, \"97\": {\"97\": 7, \"54\": 3, \"94\": 1, \"24\": 1}, \"66\": {\"66\": 12}, \"68\": {\"68\": 11, \"51\": 1}, \"24\": {\"36\": 5, \"24\": 7}, \"47\": {\"47\": 11, \"96\": 1}, \"117\": {\"117\": 12}, \"78\": {\"74\": 1, \"87\": 1, \"1\": 1, \"78\": 3, \"43\": 1, \"72\": 1, \"110\": 1, \"69\": 1, \"122\": 1, \"60\": 1}, \"89\": {\"89\": 11, \"22\": 1}, \"84\": {\"84\": 12}, \"22\": {\"22\": 12}, \"83\": {\"83\": 12}, \"39\": {\"39\": 10, \"81\": 1, \"3\": 1}, \"103\": {\"103\": 12}, \"121\": {\"121\": 10, \"20\": 1, \"122\": 1}, \"43\": {\"43\": 9, \"19\": 1, \"87\": 2}, \"67\": {\"107\": 3, \"113\": 1, \"67\": 4, \"115\": 2, \"63\": 1, \"17\": 1}, \"75\": {\"75\": 12}, \"3\": {\"3\": 10, \"53\": 1, \"71\": 1}, \"88\": {\"88\": 9, \"73\": 2, \"70\": 1}, \"98\": {\"117\": 1, \"98\": 11}, \"17\": {\"17\": 12}, \"91\": {\"91\": 11, \"23\": 1}, \"82\": {\"82\": 11, \"81\": 1}, \"31\": {\"31\": 10, \"118\": 1, \"21\": 1}, \"5\": {\"70\": 2, \"5\": 9, \"51\": 1}, \"49\": {\"49\": 10, \"53\": 2}, \"126\": {\"126\": 11, \"39\": 1}, \"115\": {\"57\": 3, \"115\": 3, \"43\": 1, \"67\": 1, \"78\": 1, \"72\": 1, \"17\": 2}, \"87\": {\"87\": 7, \"105\": 5}, \"80\": {\"80\": 12}, \"34\": {\"34\": 9, \"47\": 1, \"75\": 1, \"72\": 1}, \"16\": {\"16\": 10, \"122\": 1, \"106\": 1}, \"4\": {\"4\": 12}, \"107\": {\"107\": 12}, \"23\": {\"52\": 1, \"78\": 1, \"123\": 5, \"21\": 3, \"110\": 1, \"51\": 1}, \"90\": {\"90\": 12}, \"73\": {\"73\": 8, \"23\": 1, \"46\": 2, \"108\": 1}, \"19\": {\"19\": 11, \"78\": 1}, \"56\": {\"56\": 12}, \"110\": {\"110\": 12}, \"28\": {\"28\": 12}, \"58\": {\"58\": 12}, \"99\": {\"43\": 2, \"99\": 8, \"78\": 1, \"100\": 1}, \"94\": {\"94\": 9, \"15\": 1, \"54\": 1, \"23\": 1}, \"64\": {\"64\": 12}, \"101\": {\"101\": 10, \"0\": 2}, \"52\": {\"52\": 10, \"53\": 1, \"111\": 1}, \"92\": {\"92\": 12}, \"93\": {\"93\": 11, \"88\": 1}, \"14\": {\"14\": 12}, \"59\": {\"59\": 12}, \"74\": {\"60\": 1, \"74\": 9, \"116\": 1, \"31\": 1}, \"10\": {\"10\": 12}, \"100\": {\"100\": 11, \"23\": 1}, \"57\": {\"57\": 12}, \"35\": {\"35\": 11, \"61\": 1}, \"1\": {\"1\": 8, \"33\": 2, \"88\": 1, \"37\": 1}, \"79\": {\"79\": 12}, \"0\": {\"101\": 6, \"0\": 6}, \"26\": {\"26\": 12}, \"116\": {\"116\": 9, \"74\": 2, \"41\": 1}, \"119\": {\"119\": 10, \"38\": 1, \"66\": 1}, \"50\": {\"50\": 11, \"116\": 1}, \"12\": {\"111\": 2, \"12\": 10}, \"104\": {\"104\": 12}, \"51\": {\"58\": 5, \"5\": 1, \"23\": 2, \"51\": 3, \"59\": 1}, \"6\": {\"6\": 12}, \"30\": {\"30\": 12}, \"46\": {\"46\": 12}}, \"2\": {\"119\": {\"119\": 12}, \"54\": {\"54\": 12}, \"28\": {\"28\": 11, \"36\": 1}, \"96\": {\"96\": 9, \"88\": 1, \"123\": 1, \"61\": 1}, \"39\": {\"36\": 1, \"39\": 8, \"109\": 2, \"118\": 1}, \"38\": {\"38\": 12}, \"31\": {\"31\": 11, \"109\": 1}, \"0\": {\"0\": 9, \"101\": 2, \"49\": 1}, \"27\": {\"27\": 11, \"36\": 1}, \"47\": {\"47\": 9, \"88\": 1, \"41\": 1, \"21\": 1}, \"76\": {\"76\": 12}, \"114\": {\"114\": 12}, \"92\": {\"92\": 10, \"21\": 1, \"89\": 1}, \"111\": {\"111\": 9, \"112\": 1, \"127\": 2}, \"63\": {\"63\": 12}, \"86\": {\"86\": 12}, \"51\": {\"97\": 4, \"51\": 3, \"62\": 1, \"75\": 1, \"98\": 1, \"55\": 1, \"15\": 1}, \"122\": {\"122\": 7, \"46\": 1, \"0\": 1, \"110\": 2, \"128\": 1}, \"56\": {\"56\": 12}, \"115\": {\"115\": 10, \"54\": 1, \"27\": 1}, \"71\": {\"71\": 12}, \"103\": {\"103\": 12}, \"94\": {\"43\": 1, \"94\": 11}, \"57\": {\"57\": 12}, \"58\": {\"58\": 12}, \"29\": {\"29\": 11, \"115\": 1}, \"124\": {\"124\": 12}, \"49\": {\"49\": 7, \"10\": 1, \"21\": 1, \"83\": 1, \"11\": 1, \"53\": 1}, \"72\": {\"72\": 12}, \"9\": {\"9\": 12}, \"85\": {\"85\": 9, \"73\": 2, \"27\": 1}, \"35\": {\"35\": 10, \"115\": 2}, \"123\": {\"123\": 12}, \"46\": {\"46\": 12}, \"17\": {\"17\": 10, \"21\": 1, \"107\": 1}, \"8\": {\"8\": 11, \"17\": 1}, \"116\": {\"116\": 12}, \"82\": {\"82\": 11, \"80\": 1}, \"14\": {\"36\": 1, \"14\": 6, \"126\": 1, \"46\": 1, \"21\": 1, \"27\": 1, \"17\": 1}, \"84\": {\"84\": 12}, \"73\": {\"15\": 1, \"73\": 11}, \"120\": {\"120\": 12}, \"1\": {\"1\": 12}, \"81\": {\"81\": 11, \"123\": 1}, \"37\": {\"37\": 12}, \"2\": {\"2\": 12}, \"7\": {\"7\": 12}, \"50\": {\"50\": 11, \"40\": 1}, \"74\": {\"74\": 12}, \"70\": {\"36\": 1, \"43\": 2, \"21\": 1, \"110\": 2, \"70\": 6}, \"99\": {\"99\": 12}, \"20\": {\"20\": 11, \"70\": 1}, \"113\": {\"113\": 12}, \"110\": {\"110\": 9, \"25\": 1, \"51\": 1, \"122\": 1}, \"125\": {\"125\": 12}, \"127\": {\"127\": 11, \"12\": 1}, \"4\": {\"4\": 12}, \"43\": {\"116\": 1, \"43\": 7, \"78\": 2, \"84\": 1, \"70\": 1}, \"12\": {\"12\": 12}, \"22\": {\"22\": 12}, \"66\": {\"66\": 12}, \"121\": {\"121\": 12}, \"41\": {\"34\": 1, \"41\": 10, \"98\": 1}, \"60\": {\"60\": 12}, \"26\": {\"26\": 12}, \"24\": {\"24\": 8, \"27\": 2, \"36\": 2}, \"45\": {\"70\": 1, \"45\": 11}, \"64\": {\"64\": 12}, \"34\": {\"91\": 4, \"34\": 8}, \"65\": {\"65\": 12}, \"21\": {\"70\": 1, \"21\": 9, \"17\": 1, \"43\": 1}, \"32\": {\"32\": 8, \"14\": 1, \"8\": 2, \"50\": 1}, \"117\": {\"117\": 12}, \"19\": {\"19\": 12}, \"102\": {\"102\": 11, \"85\": 1}, \"75\": {\"75\": 12}, \"108\": {\"108\": 11, \"53\": 1}, \"69\": {\"69\": 12}, \"88\": {\"88\": 11, \"118\": 1}, \"107\": {\"107\": 11, \"7\": 1}, \"93\": {\"93\": 11, \"123\": 1}, \"33\": {\"33\": 12}, \"30\": {\"30\": 11, \"65\": 1}, \"68\": {\"68\": 11, \"21\": 1}, \"78\": {\"78\": 4, \"84\": 1, \"43\": 5, \"123\": 1, \"21\": 1}, \"13\": {\"13\": 11, \"96\": 1}, \"52\": {\"52\": 12}, \"100\": {\"100\": 12}, \"97\": {\"76\": 1, \"97\": 7, \"15\": 2, \"13\": 1, \"61\": 1}, \"61\": {\"61\": 12}, \"77\": {\"77\": 12}, \"67\": {\"67\": 10, \"55\": 1, \"10\": 1}, \"126\": {\"126\": 11, \"118\": 1}, \"128\": {\"128\": 9, \"101\": 3}, \"79\": {\"79\": 12}, \"44\": {\"44\": 12}, \"89\": {\"92\": 2, \"89\": 10}, \"55\": {\"55\": 11, \"78\": 1}, \"48\": {\"48\": 11, \"59\": 1}, \"6\": {\"6\": 12}, \"87\": {\"87\": 11, \"60\": 1}, \"62\": {\"62\": 11, \"66\": 1}, \"109\": {\"109\": 7, \"81\": 1, \"31\": 3, \"21\": 1}, \"95\": {\"95\": 11, \"53\": 1}, \"40\": {\"40\": 10, \"105\": 2}, \"3\": {\"3\": 12}, \"98\": {\"98\": 10, \"11\": 1, \"81\": 1}, \"101\": {\"101\": 10, \"0\": 1, \"49\": 1}, \"5\": {\"5\": 12}, \"36\": {\"36\": 10, \"27\": 1, \"118\": 1}, \"90\": {\"90\": 12}, \"10\": {\"10\": 12}, \"80\": {\"80\": 12}, \"11\": {\"98\": 4, \"11\": 4, \"21\": 1, \"114\": 1, \"44\": 2}, \"112\": {\"112\": 9, \"42\": 1, \"59\": 2}, \"105\": {\"105\": 12}, \"129\": {\"129\": 12}, \"15\": {\"15\": 12}, \"25\": {\"25\": 11, \"44\": 1}, \"83\": {\"83\": 12}, \"23\": {\"23\": 9, \"123\": 1, \"29\": 1, \"49\": 1}, \"118\": {\"118\": 11, \"39\": 1}, \"42\": {\"42\": 12}, \"16\": {\"16\": 10, \"93\": 1, \"49\": 1}, \"106\": {\"106\": 12}, \"59\": {\"59\": 10, \"45\": 1, \"23\": 1}, \"104\": {\"104\": 10, \"86\": 2}, \"91\": {\"91\": 10, \"28\": 1, \"51\": 1}, \"53\": {\"58\": 1, \"53\": 7, \"49\": 1, \"112\": 1, \"19\": 1, \"59\": 1}, \"18\": {\"18\": 11, \"43\": 1}}, \"1\": {\"69\": {\"69\": 12}, \"61\": {\"61\": 10, \"35\": 2}, \"17\": {\"17\": 10, \"78\": 1, \"2\": 1}, \"24\": {\"24\": 9, \"108\": 2, \"78\": 1}, \"47\": {\"47\": 11, \"9\": 1}, \"96\": {\"96\": 5, \"99\": 5, \"46\": 1, \"70\": 1}, \"88\": {\"36\": 2, \"88\": 9, \"108\": 1}, \"43\": {\"78\": 1, \"43\": 10, \"35\": 1}, \"49\": {\"49\": 7, \"44\": 1, \"12\": 2, \"23\": 2}, \"92\": {\"92\": 12}, \"123\": {\"123\": 12}, \"39\": {\"39\": 12}, \"5\": {\"5\": 11, \"78\": 1}, \"121\": {\"121\": 12}, \"104\": {\"21\": 1, \"104\": 10, \"4\": 1}, \"95\": {\"95\": 12}, \"111\": {\"111\": 12}, \"112\": {\"112\": 12}, \"1\": {\"1\": 12}, \"38\": {\"38\": 12}, \"116\": {\"116\": 12}, \"46\": {\"46\": 4, \"54\": 3, \"94\": 2, \"124\": 1, \"89\": 1, \"6\": 1}, \"18\": {\"18\": 11, \"4\": 1}, \"78\": {\"43\": 2, \"78\": 5, \"21\": 2, \"105\": 2, \"87\": 1}, \"48\": {\"48\": 12}, \"51\": {\"51\": 12}, \"65\": {\"65\": 4, \"76\": 5, \"69\": 2, \"63\": 1}, \"29\": {\"29\": 12}, \"55\": {\"55\": 12}, \"14\": {\"14\": 12}, \"91\": {\"91\": 11, \"58\": 1}, \"56\": {\"56\": 10, \"13\": 1, \"68\": 1}, \"6\": {\"6\": 11, \"59\": 1}, \"90\": {\"90\": 12}, \"2\": {\"96\": 1, \"11\": 2, \"2\": 9}, \"120\": {\"120\": 12}, \"63\": {\"63\": 12}, \"52\": {\"52\": 12}, \"58\": {\"58\": 12}, \"74\": {\"74\": 12}, \"21\": {\"21\": 7, \"128\": 1, \"78\": 3, \"45\": 1}, \"118\": {\"118\": 11, \"93\": 1}, \"59\": {\"94\": 1, \"59\": 11}, \"101\": {\"101\": 12}, \"110\": {\"110\": 12}, \"25\": {\"25\": 11, \"70\": 1}, \"73\": {\"73\": 11, \"21\": 1}, \"41\": {\"41\": 12}, \"124\": {\"124\": 10, \"25\": 1, \"80\": 1}, \"66\": {\"66\": 12}, \"125\": {\"125\": 12}, \"26\": {\"26\": 12}, \"89\": {\"89\": 10, \"80\": 1, \"60\": 1}, \"103\": {\"103\": 12}, \"115\": {\"115\": 12}, \"93\": {\"4\": 1, \"93\": 10, \"78\": 1}, \"81\": {\"81\": 12}, \"72\": {\"72\": 12}, \"98\": {\"98\": 12}, \"114\": {\"114\": 12}, \"40\": {\"40\": 12}, \"108\": {\"47\": 1, \"108\": 11}, \"50\": {\"50\": 11, \"104\": 1}, \"8\": {\"8\": 11, \"29\": 1}, \"23\": {\"23\": 3, \"21\": 1, \"60\": 2, \"58\": 1, \"35\": 2, \"123\": 2, \"49\": 1}, \"37\": {\"37\": 12}, \"4\": {\"4\": 12}, \"119\": {\"119\": 12}, \"77\": {\"77\": 12}, \"70\": {\"70\": 8, \"21\": 2, \"73\": 1, \"128\": 1}, \"44\": {\"44\": 12}, \"60\": {\"123\": 2, \"60\": 7, \"34\": 3}, \"117\": {\"117\": 12}, \"45\": {\"49\": 1, \"124\": 1, \"45\": 4, \"9\": 1, \"104\": 4, \"95\": 1}, \"10\": {\"10\": 10, \"0\": 2}, \"87\": {\"87\": 12}, \"127\": {\"127\": 11, \"111\": 1}, \"100\": {\"100\": 10, \"9\": 1, \"99\": 1}, \"15\": {\"15\": 10, \"12\": 2}, \"82\": {\"82\": 12}, \"27\": {\"27\": 12}, \"22\": {\"22\": 12}, \"71\": {\"71\": 12}, \"99\": {\"99\": 11, \"79\": 1}, \"53\": {\"53\": 12}, \"107\": {\"107\": 11, \"21\": 1}, \"106\": {\"113\": 1, \"106\": 11}, \"105\": {\"105\": 10, \"40\": 2}, \"31\": {\"31\": 12}, \"109\": {\"2\": 1, \"109\": 9, \"73\": 1, \"128\": 1}, \"128\": {\"128\": 10, \"21\": 1, \"45\": 1}, \"32\": {\"32\": 9, \"107\": 2, \"51\": 1}, \"85\": {\"85\": 12}, \"12\": {\"12\": 11, \"24\": 1}, \"76\": {\"76\": 11, \"27\": 1}, \"129\": {\"129\": 12}, \"28\": {\"28\": 11, \"21\": 1}, \"16\": {\"16\": 12}, \"3\": {\"3\": 12}, \"86\": {\"86\": 12}, \"68\": {\"68\": 12}, \"7\": {\"7\": 12}, \"102\": {\"102\": 11, \"127\": 1}, \"113\": {\"16\": 2, \"113\": 10}, \"79\": {\"79\": 12}, \"94\": {\"94\": 12}, \"30\": {\"30\": 9, \"12\": 1, \"97\": 1, \"15\": 1}, \"84\": {\"84\": 12}, \"33\": {\"33\": 12}, \"36\": {\"36\": 11, \"88\": 1}, \"20\": {\"20\": 11, \"19\": 1}, \"13\": {\"59\": 1, \"13\": 11}, \"11\": {\"11\": 12}, \"126\": {\"126\": 7, \"109\": 4, \"96\": 1}, \"83\": {\"83\": 11, \"78\": 1}, \"35\": {\"21\": 1, \"35\": 11}, \"75\": {\"75\": 12}, \"62\": {\"62\": 12}, \"80\": {\"80\": 12}, \"64\": {\"64\": 12}, \"57\": {\"57\": 11, \"74\": 1}, \"42\": {\"45\": 1, \"42\": 9, \"109\": 2}, \"34\": {\"34\": 7, \"6\": 1, \"57\": 1, \"106\": 1, \"125\": 2}, \"122\": {\"78\": 1, \"122\": 10, \"43\": 1}, \"9\": {\"9\": 11, \"47\": 1}, \"67\": {\"67\": 12}, \"97\": {\"88\": 3, \"97\": 6, \"108\": 2, \"36\": 1}, \"0\": {\"85\": 1, \"0\": 10, \"36\": 1}, \"54\": {\"54\": 12}, \"19\": {\"19\": 12}}}, \"per_domain_accuracy\": {\"3\": {\"accuracy\": 0.9634615384615385, \"source?\": true}, \"4\": {\"accuracy\": 0.8698717948717949, \"source?\": false}, \"2\": {\"accuracy\": 0.889102564102564, \"source?\": false}, \"1\": {\"accuracy\": 0.8961538461538462, \"source?\": false}}}, \"history\": {\"epoch_indices\": [1, 2, 3, 4, 5, 6, 7, 8, 9, 10, 11, 12, 13, 14, 15, 16, 17, 18, 19, 20, 21, 22, 23, 24], \"train_label_loss\": [2.5546044376161365, 1.0425466603702969, 0.697169914510515, 0.5201478295856052, 0.39226844244533116, 0.2980080078045527, 0.24893873168362513, 0.22794871760739222, 0.19751838164197075, 0.1812594226664967, 0.1629395188556777, 0.13459706314735942, 0.14706815514299604, 0.1327915333625343, 0.12321402198738522, 0.1071228477689955, 0.0962623744789097, 0.09342740347815884, 0.07598987018896473, 0.08411046527326108, 0.08311054036021233, 0.08680412599609957, 0.07442410182621743, 0.08415768628733025], \"source_val_label_loss\": [1.3058793544769287, 0.780268132686615, 0.5836846828460693, 0.4468425512313843, 0.34542202949523926, 0.30436357855796814, 0.26914942264556885, 0.25444698333740234, 0.2551196813583374, 0.23178282380104065, 0.22516590356826782, 0.23188000917434692, 0.2173105776309967, 0.21789970993995667, 0.2081083059310913, 0.20265838503837585, 0.19969907402992249, 0.21992221474647522, 0.21546411514282227, 0.20025114715099335, 0.21957425773143768, 0.21055981516838074, 0.21905705332756042, 0.19327208399772644], \"target_val_label_loss\": [1.5484592914581299, 1.0984240770339966, 0.9680311679840088, 0.8657053112983704, 0.7930009961128235, 0.7501476407051086, 0.7265923619270325, 0.7191761136054993, 0.7050637006759644, 0.6786646246910095, 0.6699231266975403, 0.679904043674469, 0.66264408826828, 0.6633120179176331, 0.6516560912132263, 0.6515280604362488, 0.6583173274993896, 0.6608226895332336, 0.6680300831794739, 0.6429216265678406, 0.6509221196174622, 0.6629088521003723, 0.6614930033683777, 0.6471384763717651], \"source_val_acc_label\": [0.7807692307692308, 0.8589743589743589, 0.8967948717948718, 0.9179487179487179, 0.9416666666666667, 0.9474358974358974, 0.9564102564102565, 0.9557692307692308, 0.9570512820512821, 0.9596153846153846, 0.9576923076923077, 0.9570512820512821, 0.9628205128205128, 0.9634615384615385, 0.9666666666666667, 0.9653846153846154, 0.9647435897435898, 0.9615384615384616, 0.9628205128205128, 0.9634615384615385, 0.9608974358974359, 0.966025641025641, 0.9608974358974359, 0.9641025641025641], \"target_val_acc_label\": [0.7299145299145299, 0.7871794871794872, 0.811965811965812, 0.8324786324786325, 0.8474358974358974, 0.8589743589743589, 0.8596153846153847, 0.8655982905982906, 0.8683760683760684, 0.8737179487179487, 0.872008547008547, 0.8666666666666667, 0.8705128205128205, 0.875, 0.8756410256410256, 0.8799145299145299, 0.8754273504273504, 0.8801282051282051, 0.8752136752136752, 0.885042735042735, 0.8816239316239316, 0.8756410256410256, 0.8786324786324786, 0.8833333333333333]}, \"dataset_metrics\": {\"source\": {\"train\": {\"n_unique_x\": 19699, \"n_unique_y\": 130, \"n_batch/episode\": 45}, \"val\": {\"n_unique_x\": 3165, \"n_unique_y\": 130, \"n_batch/episode\": 6}, \"test\": {\"n_unique_x\": 3212, \"n_unique_y\": 130, \"n_batch/episode\": 6}}, \"target\": {\"train\": {\"n_unique_x\": 60208, \"n_unique_y\": 130, \"n_batch/episode\": 138}, \"val\": {\"n_unique_x\": 9471, \"n_unique_y\": 130, \"n_batch/episode\": 18}, \"test\": {\"n_unique_x\": 9558, \"n_unique_y\": 130, \"n_batch/episode\": 18}}}}'"
      ]
     },
     "execution_count": 20,
     "metadata": {},
     "output_type": "execute_result"
    }
   ],
   "source": [
    "json.dumps(experiment)"
   ]
  }
 ],
 "metadata": {
  "celltoolbar": "Tags",
  "kernelspec": {
   "display_name": "Python 3 (ipykernel)",
   "language": "python",
   "name": "python3"
  },
  "language_info": {
   "codemirror_mode": {
    "name": "ipython",
    "version": 3
   },
   "file_extension": ".py",
   "mimetype": "text/x-python",
   "name": "python",
   "nbconvert_exporter": "python",
   "pygments_lexer": "ipython3",
   "version": "3.8.10"
  },
  "papermill": {
   "default_parameters": {},
   "duration": 243.776226,
   "end_time": "2022-03-22T17:25:25.329184",
   "environment_variables": {},
   "exception": null,
   "input_path": "/mnt/wd500GB/CSC500/csc500-main/csc500-notebooks/templates/ptn_template.ipynb",
   "output_path": "trial.ipynb",
   "parameters": {
    "parameters": {
     "BEST_MODEL_PATH": "./best_model.pth",
     "NUM_LOGS_PER_EPOCH": 10,
     "criteria_for_best": "target_accuracy",
     "dataset_seed": 7,
     "device": "cuda",
     "domains_source": [
      3
     ],
     "domains_target": [
      1,
      2,
      4
     ],
     "episode_transforms_source": [],
     "episode_transforms_target": [],
     "experiment_name": "tuned_1v2:wisig",
     "labels_source": [
      "1-10",
      "1-12",
      "1-14",
      "1-16",
      "1-18",
      "1-19",
      "1-8",
      "10-11",
      "10-17",
      "10-4",
      "10-7",
      "11-1",
      "11-10",
      "11-19",
      "11-20",
      "11-4",
      "11-7",
      "12-19",
      "12-20",
      "12-7",
      "13-14",
      "13-18",
      "13-19",
      "13-20",
      "13-3",
      "13-7",
      "14-10",
      "14-11",
      "14-12",
      "14-13",
      "14-14",
      "14-19",
      "14-20",
      "14-7",
      "14-8",
      "14-9",
      "15-1",
      "15-19",
      "15-6",
      "16-1",
      "16-16",
      "16-19",
      "16-20",
      "17-10",
      "17-11",
      "18-1",
      "18-10",
      "18-11",
      "18-12",
      "18-13",
      "18-14",
      "18-15",
      "18-16",
      "18-17",
      "18-19",
      "18-2",
      "18-20",
      "18-4",
      "18-5",
      "18-7",
      "18-8",
      "18-9",
      "19-1",
      "19-10",
      "19-11",
      "19-12",
      "19-13",
      "19-14",
      "19-15",
      "19-19",
      "19-2",
      "19-20",
      "19-3",
      "19-4",
      "19-6",
      "19-7",
      "19-8",
      "19-9",
      "2-1",
      "2-13",
      "2-15",
      "2-3",
      "2-4",
      "2-5",
      "2-6",
      "2-7",
      "2-8",
      "20-1",
      "20-12",
      "20-14",
      "20-15",
      "20-16",
      "20-18",
      "20-19",
      "20-20",
      "20-3",
      "20-4",
      "20-5",
      "20-7",
      "20-8",
      "3-1",
      "3-13",
      "3-18",
      "3-2",
      "3-8",
      "4-1",
      "4-10",
      "4-11",
      "5-1",
      "5-5",
      "6-1",
      "6-15",
      "6-6",
      "7-10",
      "7-11",
      "7-12",
      "7-13",
      "7-14",
      "7-7",
      "7-8",
      "7-9",
      "8-1",
      "8-13",
      "8-14",
      "8-18",
      "8-20",
      "8-3",
      "8-8",
      "9-1",
      "9-7"
     ],
     "labels_target": [
      "1-10",
      "1-12",
      "1-14",
      "1-16",
      "1-18",
      "1-19",
      "1-8",
      "10-11",
      "10-17",
      "10-4",
      "10-7",
      "11-1",
      "11-10",
      "11-19",
      "11-20",
      "11-4",
      "11-7",
      "12-19",
      "12-20",
      "12-7",
      "13-14",
      "13-18",
      "13-19",
      "13-20",
      "13-3",
      "13-7",
      "14-10",
      "14-11",
      "14-12",
      "14-13",
      "14-14",
      "14-19",
      "14-20",
      "14-7",
      "14-8",
      "14-9",
      "15-1",
      "15-19",
      "15-6",
      "16-1",
      "16-16",
      "16-19",
      "16-20",
      "17-10",
      "17-11",
      "18-1",
      "18-10",
      "18-11",
      "18-12",
      "18-13",
      "18-14",
      "18-15",
      "18-16",
      "18-17",
      "18-19",
      "18-2",
      "18-20",
      "18-4",
      "18-5",
      "18-7",
      "18-8",
      "18-9",
      "19-1",
      "19-10",
      "19-11",
      "19-12",
      "19-13",
      "19-14",
      "19-15",
      "19-19",
      "19-2",
      "19-20",
      "19-3",
      "19-4",
      "19-6",
      "19-7",
      "19-8",
      "19-9",
      "2-1",
      "2-13",
      "2-15",
      "2-3",
      "2-4",
      "2-5",
      "2-6",
      "2-7",
      "2-8",
      "20-1",
      "20-12",
      "20-14",
      "20-15",
      "20-16",
      "20-18",
      "20-19",
      "20-20",
      "20-3",
      "20-4",
      "20-5",
      "20-7",
      "20-8",
      "3-1",
      "3-13",
      "3-18",
      "3-2",
      "3-8",
      "4-1",
      "4-10",
      "4-11",
      "5-1",
      "5-5",
      "6-1",
      "6-15",
      "6-6",
      "7-10",
      "7-11",
      "7-12",
      "7-13",
      "7-14",
      "7-7",
      "7-8",
      "7-9",
      "8-1",
      "8-13",
      "8-14",
      "8-18",
      "8-20",
      "8-3",
      "8-8",
      "9-1",
      "9-7"
     ],
     "lr": 0.0001,
     "n_epoch": 50,
     "n_query": 2,
     "n_shot": 3,
     "n_way": 130,
     "num_examples_per_domain_per_label_source": -1,
     "num_examples_per_domain_per_label_target": -1,
     "patience": 3,
     "pickle_name": "wisig.node3-19.stratified_ds.2022A.pkl",
     "seed": 7,
     "test_k_factor": 2,
     "torch_default_dtype": "torch.float32",
     "train_k_factor": 3,
     "val_k_factor": 2,
     "x_net": [
      {
       "class": "nnReshape",
       "kargs": {
        "shape": [
         -1,
         1,
         2,
         256
        ]
       }
      },
      {
       "class": "Conv2d",
       "kargs": {
        "bias": false,
        "in_channels": 1,
        "kernel_size": [
         1,
         7
        ],
        "out_channels": 256,
        "padding": [
         0,
         3
        ]
       }
      },
      {
       "class": "ReLU",
       "kargs": {
        "inplace": true
       }
      },
      {
       "class": "BatchNorm2d",
       "kargs": {
        "num_features": 256
       }
      },
      {
       "class": "Conv2d",
       "kargs": {
        "bias": true,
        "in_channels": 256,
        "kernel_size": [
         2,
         7
        ],
        "out_channels": 80,
        "padding": [
         0,
         3
        ]
       }
      },
      {
       "class": "ReLU",
       "kargs": {
        "inplace": true
       }
      },
      {
       "class": "BatchNorm2d",
       "kargs": {
        "num_features": 80
       }
      },
      {
       "class": "Flatten",
       "kargs": {}
      },
      {
       "class": "Linear",
       "kargs": {
        "in_features": 20480,
        "out_features": 256
       }
      },
      {
       "class": "ReLU",
       "kargs": {
        "inplace": true
       }
      },
      {
       "class": "BatchNorm1d",
       "kargs": {
        "num_features": 256
       }
      },
      {
       "class": "Linear",
       "kargs": {
        "in_features": 256,
        "out_features": 256
       }
      }
     ],
     "x_transforms_source": [
      "unit_power"
     ],
     "x_transforms_target": [
      "unit_power"
     ]
    }
   },
   "start_time": "2022-03-22T17:21:21.552958",
   "version": "2.3.4"
  }
 },
 "nbformat": 4,
 "nbformat_minor": 5
}