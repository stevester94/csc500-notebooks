{
 "cells": [
  {
   "cell_type": "markdown",
   "id": "9fea5f46",
   "metadata": {
    "papermill": {
     "duration": 0.014054,
     "end_time": "2022-03-22T17:14:57.008068",
     "exception": false,
     "start_time": "2022-03-22T17:14:56.994014",
     "status": "completed"
    },
    "tags": []
   },
   "source": [
    "# PTN Template\n",
    "This notebook serves as a template for single dataset PTN experiments  \n",
    "It can be run on its own by setting STANDALONE to True (do a find for \"STANDALONE\" to see where)  \n",
    "But it is intended to be executed as part of a *papermill.py script. See any of the   \n",
    "experimentes with a papermill script to get started with that workflow.  "
   ]
  },
  {
   "cell_type": "code",
   "execution_count": 1,
   "id": "0902182a",
   "metadata": {
    "execution": {
     "iopub.execute_input": "2022-03-22T17:14:57.047622Z",
     "iopub.status.busy": "2022-03-22T17:14:57.041477Z",
     "iopub.status.idle": "2022-03-22T17:14:58.026002Z",
     "shell.execute_reply": "2022-03-22T17:14:58.026225Z"
    },
    "papermill": {
     "duration": 1.001226,
     "end_time": "2022-03-22T17:14:58.026349",
     "exception": false,
     "start_time": "2022-03-22T17:14:57.025123",
     "status": "completed"
    },
    "tags": []
   },
   "outputs": [],
   "source": [
    "%load_ext autoreload\n",
    "%autoreload 2\n",
    "%matplotlib inline\n",
    "\n",
    "    \n",
    "import os, json, sys, time, random\n",
    "import numpy as np\n",
    "import torch\n",
    "from torch.optim import Adam\n",
    "from  easydict import EasyDict\n",
    "import matplotlib.pyplot as plt\n",
    "\n",
    "from steves_models.steves_ptn import Steves_Prototypical_Network\n",
    "\n",
    "from steves_utils.lazy_iterable_wrapper import Lazy_Iterable_Wrapper\n",
    "from steves_utils.iterable_aggregator import Iterable_Aggregator\n",
    "from steves_utils.ptn_train_eval_test_jig import  PTN_Train_Eval_Test_Jig\n",
    "from steves_utils.torch_sequential_builder import build_sequential\n",
    "from steves_utils.torch_utils import get_dataset_metrics, ptn_confusion_by_domain_over_dataloader\n",
    "from steves_utils.utils_v2 import (per_domain_accuracy_from_confusion, get_datasets_base_path)\n",
    "from steves_utils.PTN.utils import independent_accuracy_assesment\n",
    "\n",
    "from steves_utils.stratified_dataset.episodic_accessor import Episodic_Accessor_Factory\n",
    "\n",
    "from steves_utils.ptn_do_report import (\n",
    "    get_loss_curve,\n",
    "    get_results_table,\n",
    "    get_parameters_table,\n",
    "    get_domain_accuracies,\n",
    ")\n",
    "\n",
    "from steves_utils.transforms import get_chained_transform"
   ]
  },
  {
   "cell_type": "markdown",
   "id": "41c840b4",
   "metadata": {
    "papermill": {
     "duration": 0.009386,
     "end_time": "2022-03-22T17:14:58.045612",
     "exception": false,
     "start_time": "2022-03-22T17:14:58.036226",
     "status": "completed"
    },
    "tags": []
   },
   "source": [
    "# Required Parameters\n",
    "These are allowed parameters, not defaults\n",
    "Each of these values need to be present in the injected parameters (the notebook will raise an exception if they are not present)\n",
    "\n",
    "Papermill uses the cell tag \"parameters\" to inject the real parameters below this cell.\n",
    "Enable tags to see what I mean"
   ]
  },
  {
   "cell_type": "code",
   "execution_count": 2,
   "id": "fd44eb83",
   "metadata": {
    "execution": {
     "iopub.execute_input": "2022-03-22T17:14:58.066621Z",
     "iopub.status.busy": "2022-03-22T17:14:58.066354Z",
     "iopub.status.idle": "2022-03-22T17:14:58.077868Z",
     "shell.execute_reply": "2022-03-22T17:14:58.078166Z"
    },
    "papermill": {
     "duration": 0.023223,
     "end_time": "2022-03-22T17:14:58.078264",
     "exception": false,
     "start_time": "2022-03-22T17:14:58.055041",
     "status": "completed"
    },
    "tags": []
   },
   "outputs": [],
   "source": [
    "required_parameters = {\n",
    "    \"experiment_name\",\n",
    "    \"lr\",\n",
    "    \"device\",\n",
    "    \"seed\",\n",
    "    \"dataset_seed\",\n",
    "    \"labels_source\",\n",
    "    \"labels_target\",\n",
    "    \"domains_source\",\n",
    "    \"domains_target\",\n",
    "    \"num_examples_per_domain_per_label_source\",\n",
    "    \"num_examples_per_domain_per_label_target\",\n",
    "    \"n_shot\",\n",
    "    \"n_way\",\n",
    "    \"n_query\",\n",
    "    \"train_k_factor\",\n",
    "    \"val_k_factor\",\n",
    "    \"test_k_factor\",\n",
    "    \"n_epoch\",\n",
    "    \"patience\",\n",
    "    \"criteria_for_best\",\n",
    "    \"x_transforms_source\",\n",
    "    \"x_transforms_target\",\n",
    "    \"episode_transforms_source\",\n",
    "    \"episode_transforms_target\",\n",
    "    \"pickle_name\",\n",
    "    \"x_net\",\n",
    "    \"NUM_LOGS_PER_EPOCH\",\n",
    "    \"BEST_MODEL_PATH\",\n",
    "    \"torch_default_dtype\"\n",
    "}"
   ]
  },
  {
   "cell_type": "code",
   "execution_count": 3,
   "id": "fa3f0049",
   "metadata": {
    "execution": {
     "iopub.execute_input": "2022-03-22T17:14:58.107937Z",
     "iopub.status.busy": "2022-03-22T17:14:58.107636Z",
     "iopub.status.idle": "2022-03-22T17:14:58.120592Z",
     "shell.execute_reply": "2022-03-22T17:14:58.120992Z"
    },
    "papermill": {
     "duration": 0.028458,
     "end_time": "2022-03-22T17:14:58.121127",
     "exception": false,
     "start_time": "2022-03-22T17:14:58.092669",
     "status": "completed"
    },
    "tags": [
     "parameters"
    ]
   },
   "outputs": [],
   "source": [
    "\n",
    "\n",
    "standalone_parameters = {}\n",
    "standalone_parameters[\"experiment_name\"] = \"STANDALONE PTN\"\n",
    "standalone_parameters[\"lr\"] = 0.0001\n",
    "standalone_parameters[\"device\"] = \"cuda\"\n",
    "\n",
    "standalone_parameters[\"seed\"] = 1337\n",
    "standalone_parameters[\"dataset_seed\"] = 1337\n",
    "\n",
    "\n",
    "standalone_parameters[\"num_examples_per_domain_per_label_source\"]=100\n",
    "standalone_parameters[\"num_examples_per_domain_per_label_target\"]=100\n",
    "\n",
    "standalone_parameters[\"n_shot\"] = 3\n",
    "standalone_parameters[\"n_query\"]  = 2\n",
    "standalone_parameters[\"train_k_factor\"] = 1\n",
    "standalone_parameters[\"val_k_factor\"] = 2\n",
    "standalone_parameters[\"test_k_factor\"] = 2\n",
    "\n",
    "\n",
    "standalone_parameters[\"n_epoch\"] = 100\n",
    "\n",
    "standalone_parameters[\"patience\"] = 10\n",
    "standalone_parameters[\"criteria_for_best\"] = \"target_accuracy\"\n",
    "\n",
    "standalone_parameters[\"x_transforms_source\"] = [\"unit_power\"]\n",
    "standalone_parameters[\"x_transforms_target\"] = [\"unit_power\"]\n",
    "standalone_parameters[\"episode_transforms_source\"] = []\n",
    "standalone_parameters[\"episode_transforms_target\"] = []\n",
    "\n",
    "standalone_parameters[\"torch_default_dtype\"] = \"torch.float32\" \n",
    "\n",
    "\n",
    "\n",
    "standalone_parameters[\"x_net\"] =     [\n",
    "    {\"class\": \"nnReshape\", \"kargs\": {\"shape\":[-1, 1, 2, 256]}},\n",
    "    {\"class\": \"Conv2d\", \"kargs\": { \"in_channels\":1, \"out_channels\":256, \"kernel_size\":(1,7), \"bias\":False, \"padding\":(0,3), },},\n",
    "    {\"class\": \"ReLU\", \"kargs\": {\"inplace\": True}},\n",
    "    {\"class\": \"BatchNorm2d\", \"kargs\": {\"num_features\":256}},\n",
    "\n",
    "    {\"class\": \"Conv2d\", \"kargs\": { \"in_channels\":256, \"out_channels\":80, \"kernel_size\":(2,7), \"bias\":True, \"padding\":(0,3), },},\n",
    "    {\"class\": \"ReLU\", \"kargs\": {\"inplace\": True}},\n",
    "    {\"class\": \"BatchNorm2d\", \"kargs\": {\"num_features\":80}},\n",
    "    {\"class\": \"Flatten\", \"kargs\": {}},\n",
    "\n",
    "    {\"class\": \"Linear\", \"kargs\": {\"in_features\": 80*256, \"out_features\": 256}}, # 80 units per IQ pair\n",
    "    {\"class\": \"ReLU\", \"kargs\": {\"inplace\": True}},\n",
    "    {\"class\": \"BatchNorm1d\", \"kargs\": {\"num_features\":256}},\n",
    "\n",
    "    {\"class\": \"Linear\", \"kargs\": {\"in_features\": 256, \"out_features\": 256}},\n",
    "]\n",
    "\n",
    "# Parameters relevant to results\n",
    "# These parameters will basically never need to change\n",
    "standalone_parameters[\"NUM_LOGS_PER_EPOCH\"] = 10\n",
    "standalone_parameters[\"BEST_MODEL_PATH\"] = \"./best_model.pth\"\n",
    "\n",
    "# uncomment for CORES dataset\n",
    "from steves_utils.CORES.utils import (\n",
    "    ALL_NODES,\n",
    "    ALL_NODES_MINIMUM_1000_EXAMPLES,\n",
    "    ALL_DAYS\n",
    ")\n",
    "\n",
    "\n",
    "standalone_parameters[\"labels_source\"] = ALL_NODES\n",
    "standalone_parameters[\"labels_target\"] = ALL_NODES\n",
    "\n",
    "standalone_parameters[\"domains_source\"] = [1]\n",
    "standalone_parameters[\"domains_target\"] = [2,3,4,5]\n",
    "\n",
    "standalone_parameters[\"pickle_name\"] = \"cores.stratified_ds.2022A.pkl\"\n",
    "\n",
    "\n",
    "# Uncomment these for ORACLE dataset\n",
    "# from steves_utils.ORACLE.utils_v2 import (\n",
    "#     ALL_DISTANCES_FEET,\n",
    "#     ALL_RUNS,\n",
    "#     ALL_SERIAL_NUMBERS,\n",
    "# )\n",
    "# standalone_parameters[\"labels_source\"] = ALL_SERIAL_NUMBERS\n",
    "# standalone_parameters[\"labels_target\"] = ALL_SERIAL_NUMBERS\n",
    "# standalone_parameters[\"domains_source\"] = [8,20, 38,50]\n",
    "# standalone_parameters[\"domains_target\"] = [14, 26, 32, 44, 56]\n",
    "# standalone_parameters[\"pickle_name\"] = \"oracle.frame_indexed.stratified_ds.2022A.pkl\"\n",
    "# standalone_parameters[\"num_examples_per_domain_per_label_source\"]=1000\n",
    "# standalone_parameters[\"num_examples_per_domain_per_label_target\"]=1000\n",
    "\n",
    "# Uncomment these for Metahan dataset\n",
    "# standalone_parameters[\"labels_source\"] = list(range(19))\n",
    "# standalone_parameters[\"labels_target\"] = list(range(19))\n",
    "# standalone_parameters[\"domains_source\"] = [0]\n",
    "# standalone_parameters[\"domains_target\"] = [1]\n",
    "# standalone_parameters[\"pickle_name\"] = \"metehan.stratified_ds.2022A.pkl\"\n",
    "# standalone_parameters[\"n_way\"]  = len(standalone_parameters[\"labels_source\"])\n",
    "# standalone_parameters[\"num_examples_per_domain_per_label_source\"]=200\n",
    "# standalone_parameters[\"num_examples_per_domain_per_label_target\"]=100\n",
    "\n",
    "\n",
    "standalone_parameters[\"n_way\"]  = len(standalone_parameters[\"labels_source\"])"
   ]
  },
  {
   "cell_type": "code",
   "execution_count": 4,
   "id": "2a57025b",
   "metadata": {
    "execution": {
     "iopub.execute_input": "2022-03-22T17:14:58.155278Z",
     "iopub.status.busy": "2022-03-22T17:14:58.154783Z",
     "iopub.status.idle": "2022-03-22T17:14:58.167496Z",
     "shell.execute_reply": "2022-03-22T17:14:58.167885Z"
    },
    "papermill": {
     "duration": 0.031703,
     "end_time": "2022-03-22T17:14:58.168014",
     "exception": false,
     "start_time": "2022-03-22T17:14:58.136311",
     "status": "completed"
    },
    "tags": [
     "injected-parameters"
    ]
   },
   "outputs": [],
   "source": [
    "# Parameters\n",
    "parameters = {\n",
    "    \"experiment_name\": \"tuned_1v2:wisig\",\n",
    "    \"device\": \"cuda\",\n",
    "    \"lr\": 0.0001,\n",
    "    \"labels_source\": [\n",
    "        \"1-10\",\n",
    "        \"1-12\",\n",
    "        \"1-14\",\n",
    "        \"1-16\",\n",
    "        \"1-18\",\n",
    "        \"1-19\",\n",
    "        \"1-8\",\n",
    "        \"10-11\",\n",
    "        \"10-17\",\n",
    "        \"10-4\",\n",
    "        \"10-7\",\n",
    "        \"11-1\",\n",
    "        \"11-10\",\n",
    "        \"11-19\",\n",
    "        \"11-20\",\n",
    "        \"11-4\",\n",
    "        \"11-7\",\n",
    "        \"12-19\",\n",
    "        \"12-20\",\n",
    "        \"12-7\",\n",
    "        \"13-14\",\n",
    "        \"13-18\",\n",
    "        \"13-19\",\n",
    "        \"13-20\",\n",
    "        \"13-3\",\n",
    "        \"13-7\",\n",
    "        \"14-10\",\n",
    "        \"14-11\",\n",
    "        \"14-12\",\n",
    "        \"14-13\",\n",
    "        \"14-14\",\n",
    "        \"14-19\",\n",
    "        \"14-20\",\n",
    "        \"14-7\",\n",
    "        \"14-8\",\n",
    "        \"14-9\",\n",
    "        \"15-1\",\n",
    "        \"15-19\",\n",
    "        \"15-6\",\n",
    "        \"16-1\",\n",
    "        \"16-16\",\n",
    "        \"16-19\",\n",
    "        \"16-20\",\n",
    "        \"17-10\",\n",
    "        \"17-11\",\n",
    "        \"18-1\",\n",
    "        \"18-10\",\n",
    "        \"18-11\",\n",
    "        \"18-12\",\n",
    "        \"18-13\",\n",
    "        \"18-14\",\n",
    "        \"18-15\",\n",
    "        \"18-16\",\n",
    "        \"18-17\",\n",
    "        \"18-19\",\n",
    "        \"18-2\",\n",
    "        \"18-20\",\n",
    "        \"18-4\",\n",
    "        \"18-5\",\n",
    "        \"18-7\",\n",
    "        \"18-8\",\n",
    "        \"18-9\",\n",
    "        \"19-1\",\n",
    "        \"19-10\",\n",
    "        \"19-11\",\n",
    "        \"19-12\",\n",
    "        \"19-13\",\n",
    "        \"19-14\",\n",
    "        \"19-15\",\n",
    "        \"19-19\",\n",
    "        \"19-2\",\n",
    "        \"19-20\",\n",
    "        \"19-3\",\n",
    "        \"19-4\",\n",
    "        \"19-6\",\n",
    "        \"19-7\",\n",
    "        \"19-8\",\n",
    "        \"19-9\",\n",
    "        \"2-1\",\n",
    "        \"2-13\",\n",
    "        \"2-15\",\n",
    "        \"2-3\",\n",
    "        \"2-4\",\n",
    "        \"2-5\",\n",
    "        \"2-6\",\n",
    "        \"2-7\",\n",
    "        \"2-8\",\n",
    "        \"20-1\",\n",
    "        \"20-12\",\n",
    "        \"20-14\",\n",
    "        \"20-15\",\n",
    "        \"20-16\",\n",
    "        \"20-18\",\n",
    "        \"20-19\",\n",
    "        \"20-20\",\n",
    "        \"20-3\",\n",
    "        \"20-4\",\n",
    "        \"20-5\",\n",
    "        \"20-7\",\n",
    "        \"20-8\",\n",
    "        \"3-1\",\n",
    "        \"3-13\",\n",
    "        \"3-18\",\n",
    "        \"3-2\",\n",
    "        \"3-8\",\n",
    "        \"4-1\",\n",
    "        \"4-10\",\n",
    "        \"4-11\",\n",
    "        \"5-1\",\n",
    "        \"5-5\",\n",
    "        \"6-1\",\n",
    "        \"6-15\",\n",
    "        \"6-6\",\n",
    "        \"7-10\",\n",
    "        \"7-11\",\n",
    "        \"7-12\",\n",
    "        \"7-13\",\n",
    "        \"7-14\",\n",
    "        \"7-7\",\n",
    "        \"7-8\",\n",
    "        \"7-9\",\n",
    "        \"8-1\",\n",
    "        \"8-13\",\n",
    "        \"8-14\",\n",
    "        \"8-18\",\n",
    "        \"8-20\",\n",
    "        \"8-3\",\n",
    "        \"8-8\",\n",
    "        \"9-1\",\n",
    "        \"9-7\",\n",
    "    ],\n",
    "    \"labels_target\": [\n",
    "        \"1-10\",\n",
    "        \"1-12\",\n",
    "        \"1-14\",\n",
    "        \"1-16\",\n",
    "        \"1-18\",\n",
    "        \"1-19\",\n",
    "        \"1-8\",\n",
    "        \"10-11\",\n",
    "        \"10-17\",\n",
    "        \"10-4\",\n",
    "        \"10-7\",\n",
    "        \"11-1\",\n",
    "        \"11-10\",\n",
    "        \"11-19\",\n",
    "        \"11-20\",\n",
    "        \"11-4\",\n",
    "        \"11-7\",\n",
    "        \"12-19\",\n",
    "        \"12-20\",\n",
    "        \"12-7\",\n",
    "        \"13-14\",\n",
    "        \"13-18\",\n",
    "        \"13-19\",\n",
    "        \"13-20\",\n",
    "        \"13-3\",\n",
    "        \"13-7\",\n",
    "        \"14-10\",\n",
    "        \"14-11\",\n",
    "        \"14-12\",\n",
    "        \"14-13\",\n",
    "        \"14-14\",\n",
    "        \"14-19\",\n",
    "        \"14-20\",\n",
    "        \"14-7\",\n",
    "        \"14-8\",\n",
    "        \"14-9\",\n",
    "        \"15-1\",\n",
    "        \"15-19\",\n",
    "        \"15-6\",\n",
    "        \"16-1\",\n",
    "        \"16-16\",\n",
    "        \"16-19\",\n",
    "        \"16-20\",\n",
    "        \"17-10\",\n",
    "        \"17-11\",\n",
    "        \"18-1\",\n",
    "        \"18-10\",\n",
    "        \"18-11\",\n",
    "        \"18-12\",\n",
    "        \"18-13\",\n",
    "        \"18-14\",\n",
    "        \"18-15\",\n",
    "        \"18-16\",\n",
    "        \"18-17\",\n",
    "        \"18-19\",\n",
    "        \"18-2\",\n",
    "        \"18-20\",\n",
    "        \"18-4\",\n",
    "        \"18-5\",\n",
    "        \"18-7\",\n",
    "        \"18-8\",\n",
    "        \"18-9\",\n",
    "        \"19-1\",\n",
    "        \"19-10\",\n",
    "        \"19-11\",\n",
    "        \"19-12\",\n",
    "        \"19-13\",\n",
    "        \"19-14\",\n",
    "        \"19-15\",\n",
    "        \"19-19\",\n",
    "        \"19-2\",\n",
    "        \"19-20\",\n",
    "        \"19-3\",\n",
    "        \"19-4\",\n",
    "        \"19-6\",\n",
    "        \"19-7\",\n",
    "        \"19-8\",\n",
    "        \"19-9\",\n",
    "        \"2-1\",\n",
    "        \"2-13\",\n",
    "        \"2-15\",\n",
    "        \"2-3\",\n",
    "        \"2-4\",\n",
    "        \"2-5\",\n",
    "        \"2-6\",\n",
    "        \"2-7\",\n",
    "        \"2-8\",\n",
    "        \"20-1\",\n",
    "        \"20-12\",\n",
    "        \"20-14\",\n",
    "        \"20-15\",\n",
    "        \"20-16\",\n",
    "        \"20-18\",\n",
    "        \"20-19\",\n",
    "        \"20-20\",\n",
    "        \"20-3\",\n",
    "        \"20-4\",\n",
    "        \"20-5\",\n",
    "        \"20-7\",\n",
    "        \"20-8\",\n",
    "        \"3-1\",\n",
    "        \"3-13\",\n",
    "        \"3-18\",\n",
    "        \"3-2\",\n",
    "        \"3-8\",\n",
    "        \"4-1\",\n",
    "        \"4-10\",\n",
    "        \"4-11\",\n",
    "        \"5-1\",\n",
    "        \"5-5\",\n",
    "        \"6-1\",\n",
    "        \"6-15\",\n",
    "        \"6-6\",\n",
    "        \"7-10\",\n",
    "        \"7-11\",\n",
    "        \"7-12\",\n",
    "        \"7-13\",\n",
    "        \"7-14\",\n",
    "        \"7-7\",\n",
    "        \"7-8\",\n",
    "        \"7-9\",\n",
    "        \"8-1\",\n",
    "        \"8-13\",\n",
    "        \"8-14\",\n",
    "        \"8-18\",\n",
    "        \"8-20\",\n",
    "        \"8-3\",\n",
    "        \"8-8\",\n",
    "        \"9-1\",\n",
    "        \"9-7\",\n",
    "    ],\n",
    "    \"episode_transforms_source\": [],\n",
    "    \"episode_transforms_target\": [],\n",
    "    \"domains_source\": [3],\n",
    "    \"domains_target\": [1, 2, 4],\n",
    "    \"num_examples_per_domain_per_label_source\": -1,\n",
    "    \"num_examples_per_domain_per_label_target\": -1,\n",
    "    \"n_shot\": 3,\n",
    "    \"n_way\": 130,\n",
    "    \"n_query\": 2,\n",
    "    \"train_k_factor\": 3,\n",
    "    \"val_k_factor\": 2,\n",
    "    \"test_k_factor\": 2,\n",
    "    \"torch_default_dtype\": \"torch.float32\",\n",
    "    \"n_epoch\": 50,\n",
    "    \"patience\": 3,\n",
    "    \"criteria_for_best\": \"target_accuracy\",\n",
    "    \"x_net\": [\n",
    "        {\"class\": \"nnReshape\", \"kargs\": {\"shape\": [-1, 1, 2, 256]}},\n",
    "        {\n",
    "            \"class\": \"Conv2d\",\n",
    "            \"kargs\": {\n",
    "                \"in_channels\": 1,\n",
    "                \"out_channels\": 256,\n",
    "                \"kernel_size\": [1, 7],\n",
    "                \"bias\": False,\n",
    "                \"padding\": [0, 3],\n",
    "            },\n",
    "        },\n",
    "        {\"class\": \"ReLU\", \"kargs\": {\"inplace\": True}},\n",
    "        {\"class\": \"BatchNorm2d\", \"kargs\": {\"num_features\": 256}},\n",
    "        {\n",
    "            \"class\": \"Conv2d\",\n",
    "            \"kargs\": {\n",
    "                \"in_channels\": 256,\n",
    "                \"out_channels\": 80,\n",
    "                \"kernel_size\": [2, 7],\n",
    "                \"bias\": True,\n",
    "                \"padding\": [0, 3],\n",
    "            },\n",
    "        },\n",
    "        {\"class\": \"ReLU\", \"kargs\": {\"inplace\": True}},\n",
    "        {\"class\": \"BatchNorm2d\", \"kargs\": {\"num_features\": 80}},\n",
    "        {\"class\": \"Flatten\", \"kargs\": {}},\n",
    "        {\"class\": \"Linear\", \"kargs\": {\"in_features\": 20480, \"out_features\": 256}},\n",
    "        {\"class\": \"ReLU\", \"kargs\": {\"inplace\": True}},\n",
    "        {\"class\": \"BatchNorm1d\", \"kargs\": {\"num_features\": 256}},\n",
    "        {\"class\": \"Linear\", \"kargs\": {\"in_features\": 256, \"out_features\": 256}},\n",
    "    ],\n",
    "    \"NUM_LOGS_PER_EPOCH\": 10,\n",
    "    \"BEST_MODEL_PATH\": \"./best_model.pth\",\n",
    "    \"pickle_name\": \"wisig.node3-19.stratified_ds.2022A.pkl\",\n",
    "    \"x_transforms_source\": [\"unit_power\"],\n",
    "    \"x_transforms_target\": [\"unit_power\"],\n",
    "    \"dataset_seed\": 420,\n",
    "    \"seed\": 420,\n",
    "}\n"
   ]
  },
  {
   "cell_type": "code",
   "execution_count": 5,
   "id": "8fa1cc33",
   "metadata": {
    "execution": {
     "iopub.execute_input": "2022-03-22T17:14:58.195954Z",
     "iopub.status.busy": "2022-03-22T17:14:58.195701Z",
     "iopub.status.idle": "2022-03-22T17:14:58.211533Z",
     "shell.execute_reply": "2022-03-22T17:14:58.211107Z"
    },
    "papermill": {
     "duration": 0.030062,
     "end_time": "2022-03-22T17:14:58.211637",
     "exception": false,
     "start_time": "2022-03-22T17:14:58.181575",
     "status": "completed"
    },
    "tags": []
   },
   "outputs": [],
   "source": [
    "# Set this to True if you want to run this template directly\n",
    "STANDALONE = False\n",
    "if STANDALONE:\n",
    "    print(\"parameters not injected, running with standalone_parameters\")\n",
    "    parameters = standalone_parameters\n",
    "\n",
    "if not 'parameters' in locals() and not 'parameters' in globals():\n",
    "    raise Exception(\"Parameter injection failed\")\n",
    "\n",
    "#Use an easy dict for all the parameters\n",
    "p = EasyDict(parameters)\n",
    "\n",
    "supplied_keys = set(p.keys())\n",
    "\n",
    "if  supplied_keys != required_parameters:\n",
    "    print(\"Parameters are incorrect\")\n",
    "    if len(supplied_keys - required_parameters)>0: print(\"Shouldn't have:\", str(supplied_keys - required_parameters))\n",
    "    if len(required_parameters - supplied_keys)>0: print(\"Need to have:\", str(required_parameters - supplied_keys))\n",
    "    raise RuntimeError(\"Parameters are incorrect\")\n",
    "\n"
   ]
  },
  {
   "cell_type": "code",
   "execution_count": 6,
   "id": "3a028d58",
   "metadata": {
    "execution": {
     "iopub.execute_input": "2022-03-22T17:14:58.237828Z",
     "iopub.status.busy": "2022-03-22T17:14:58.237576Z",
     "iopub.status.idle": "2022-03-22T17:14:58.253771Z",
     "shell.execute_reply": "2022-03-22T17:14:58.253366Z"
    },
    "papermill": {
     "duration": 0.028376,
     "end_time": "2022-03-22T17:14:58.253874",
     "exception": false,
     "start_time": "2022-03-22T17:14:58.225498",
     "status": "completed"
    },
    "tags": []
   },
   "outputs": [],
   "source": [
    "###################################\n",
    "# Set the RNGs and make it all deterministic\n",
    "###################################\n",
    "np.random.seed(p.seed)\n",
    "random.seed(p.seed)\n",
    "torch.manual_seed(p.seed)\n",
    "\n",
    "torch.use_deterministic_algorithms(True) "
   ]
  },
  {
   "cell_type": "code",
   "execution_count": 7,
   "id": "b691acf6",
   "metadata": {
    "execution": {
     "iopub.execute_input": "2022-03-22T17:14:58.279974Z",
     "iopub.status.busy": "2022-03-22T17:14:58.279731Z",
     "iopub.status.idle": "2022-03-22T17:14:58.296006Z",
     "shell.execute_reply": "2022-03-22T17:14:58.295582Z"
    },
    "papermill": {
     "duration": 0.027764,
     "end_time": "2022-03-22T17:14:58.296104",
     "exception": false,
     "start_time": "2022-03-22T17:14:58.268340",
     "status": "completed"
    },
    "tags": []
   },
   "outputs": [],
   "source": [
    "###########################################\n",
    "# The stratified datasets honor this\n",
    "###########################################\n",
    "torch.set_default_dtype(eval(p.torch_default_dtype))"
   ]
  },
  {
   "cell_type": "code",
   "execution_count": 8,
   "id": "b5fba671",
   "metadata": {
    "execution": {
     "iopub.execute_input": "2022-03-22T17:14:58.319810Z",
     "iopub.status.busy": "2022-03-22T17:14:58.319563Z",
     "iopub.status.idle": "2022-03-22T17:14:58.361528Z",
     "shell.execute_reply": "2022-03-22T17:14:58.361085Z"
    },
    "papermill": {
     "duration": 0.05359,
     "end_time": "2022-03-22T17:14:58.361638",
     "exception": false,
     "start_time": "2022-03-22T17:14:58.308048",
     "status": "completed"
    },
    "tags": []
   },
   "outputs": [],
   "source": [
    "###################################\n",
    "# Build the network(s)\n",
    "# Note: It's critical to do this AFTER setting the RNG\n",
    "# (This is due to the randomized initial weights)\n",
    "###################################\n",
    "x_net = build_sequential(p.x_net)"
   ]
  },
  {
   "cell_type": "code",
   "execution_count": 9,
   "id": "5d7e61cc",
   "metadata": {
    "execution": {
     "iopub.execute_input": "2022-03-22T17:14:58.386617Z",
     "iopub.status.busy": "2022-03-22T17:14:58.386368Z",
     "iopub.status.idle": "2022-03-22T17:14:58.397716Z",
     "shell.execute_reply": "2022-03-22T17:14:58.397486Z"
    },
    "papermill": {
     "duration": 0.023038,
     "end_time": "2022-03-22T17:14:58.397819",
     "exception": false,
     "start_time": "2022-03-22T17:14:58.374781",
     "status": "completed"
    },
    "tags": []
   },
   "outputs": [],
   "source": [
    "start_time_secs = time.time()"
   ]
  },
  {
   "cell_type": "code",
   "execution_count": 10,
   "id": "fd5442bc",
   "metadata": {
    "execution": {
     "iopub.execute_input": "2022-03-22T17:14:58.431646Z",
     "iopub.status.busy": "2022-03-22T17:14:58.428995Z",
     "iopub.status.idle": "2022-03-22T17:15:15.730437Z",
     "shell.execute_reply": "2022-03-22T17:15:15.729999Z"
    },
    "papermill": {
     "duration": 17.318053,
     "end_time": "2022-03-22T17:15:15.730549",
     "exception": false,
     "start_time": "2022-03-22T17:14:58.412496",
     "status": "completed"
    },
    "tags": []
   },
   "outputs": [],
   "source": [
    "###################################\n",
    "# Build the dataset\n",
    "###################################\n",
    "\n",
    "if p.x_transforms_source == []: x_transform_source = None\n",
    "else: x_transform_source = get_chained_transform(p.x_transforms_source) \n",
    "\n",
    "if p.x_transforms_target == []: x_transform_target = None\n",
    "else: x_transform_target = get_chained_transform(p.x_transforms_target)\n",
    "\n",
    "if p.episode_transforms_source == []: episode_transform_source = None\n",
    "else: raise Exception(\"episode_transform_source not implemented\")\n",
    "\n",
    "if p.episode_transforms_target == []: episode_transform_target = None\n",
    "else: raise Exception(\"episode_transform_target not implemented\")\n",
    "\n",
    "\n",
    "eaf_source = Episodic_Accessor_Factory(\n",
    "    labels=p.labels_source,\n",
    "    domains=p.domains_source,\n",
    "    num_examples_per_domain_per_label=p.num_examples_per_domain_per_label_source,\n",
    "    iterator_seed=p.seed,\n",
    "    dataset_seed=p.dataset_seed,\n",
    "    n_shot=p.n_shot,\n",
    "    n_way=p.n_way,\n",
    "    n_query=p.n_query,\n",
    "    train_val_test_k_factors=(p.train_k_factor,p.val_k_factor,p.test_k_factor),\n",
    "    pickle_path=os.path.join(get_datasets_base_path(), p.pickle_name),\n",
    "    x_transform_func=x_transform_source,\n",
    "    example_transform_func=episode_transform_source,\n",
    "    \n",
    ")\n",
    "train_original_source, val_original_source, test_original_source = eaf_source.get_train(), eaf_source.get_val(), eaf_source.get_test()\n",
    "\n",
    "\n",
    "eaf_target = Episodic_Accessor_Factory(\n",
    "    labels=p.labels_target,\n",
    "    domains=p.domains_target,\n",
    "    num_examples_per_domain_per_label=p.num_examples_per_domain_per_label_target,\n",
    "    iterator_seed=p.seed,\n",
    "    dataset_seed=p.dataset_seed,\n",
    "    n_shot=p.n_shot,\n",
    "    n_way=p.n_way,\n",
    "    n_query=p.n_query,\n",
    "    train_val_test_k_factors=(p.train_k_factor,p.val_k_factor,p.test_k_factor),\n",
    "    pickle_path=os.path.join(get_datasets_base_path(), p.pickle_name),\n",
    "    x_transform_func=x_transform_target,\n",
    "    example_transform_func=episode_transform_target,\n",
    ")\n",
    "train_original_target, val_original_target, test_original_target = eaf_target.get_train(), eaf_target.get_val(), eaf_target.get_test()\n",
    "\n",
    "\n",
    "transform_lambda = lambda ex: ex[1] # Original is (<domain>, <episode>) so we strip down to episode only\n",
    "\n",
    "train_processed_source = Lazy_Iterable_Wrapper(train_original_source, transform_lambda)\n",
    "val_processed_source   = Lazy_Iterable_Wrapper(val_original_source, transform_lambda)\n",
    "test_processed_source  = Lazy_Iterable_Wrapper(test_original_source, transform_lambda)\n",
    "\n",
    "train_processed_target = Lazy_Iterable_Wrapper(train_original_target, transform_lambda)\n",
    "val_processed_target   = Lazy_Iterable_Wrapper(val_original_target, transform_lambda)\n",
    "test_processed_target  = Lazy_Iterable_Wrapper(test_original_target, transform_lambda)\n",
    "\n",
    "datasets = EasyDict({\n",
    "    \"source\": {\n",
    "        \"original\": {\"train\":train_original_source, \"val\":val_original_source, \"test\":test_original_source},\n",
    "        \"processed\": {\"train\":train_processed_source, \"val\":val_processed_source, \"test\":test_processed_source}\n",
    "    },\n",
    "    \"target\": {\n",
    "        \"original\": {\"train\":train_original_target, \"val\":val_original_target, \"test\":test_original_target},\n",
    "        \"processed\": {\"train\":train_processed_target, \"val\":val_processed_target, \"test\":test_processed_target}\n",
    "    },\n",
    "})"
   ]
  },
  {
   "cell_type": "code",
   "execution_count": 11,
   "id": "296189d9",
   "metadata": {
    "execution": {
     "iopub.execute_input": "2022-03-22T17:15:15.760403Z",
     "iopub.status.busy": "2022-03-22T17:15:15.760146Z",
     "iopub.status.idle": "2022-03-22T17:15:17.512762Z",
     "shell.execute_reply": "2022-03-22T17:15:17.512162Z"
    },
    "papermill": {
     "duration": 1.767261,
     "end_time": "2022-03-22T17:15:17.512885",
     "exception": false,
     "start_time": "2022-03-22T17:15:15.745624",
     "status": "completed"
    },
    "tags": []
   },
   "outputs": [
    {
     "name": "stdout",
     "output_type": "stream",
     "text": [
      "Visually inspect these to see if they line up with expected values given the transforms\n",
      "x_transforms_source ['unit_power']\n",
      "x_transforms_target ['unit_power']\n",
      "Average magnitude, source: 0.9105453\n",
      "Average power, source: 1.0\n"
     ]
    },
    {
     "name": "stdout",
     "output_type": "stream",
     "text": [
      "Average magnitude, target: 0.9017792\n",
      "Average power, target: 1.0000001\n"
     ]
    }
   ],
   "source": [
    "# Some quick unit tests on the data\n",
    "from steves_utils.transforms import get_average_power, get_average_magnitude\n",
    "\n",
    "q_x, q_y, s_x, s_y, truth = next(iter(train_processed_source))\n",
    "\n",
    "assert q_x.dtype == eval(p.torch_default_dtype)\n",
    "assert s_x.dtype == eval(p.torch_default_dtype)\n",
    "\n",
    "print(\"Visually inspect these to see if they line up with expected values given the transforms\")\n",
    "print('x_transforms_source', p.x_transforms_source)\n",
    "print('x_transforms_target', p.x_transforms_target)\n",
    "print(\"Average magnitude, source:\", get_average_magnitude(q_x[0].numpy()))\n",
    "print(\"Average power, source:\", get_average_power(q_x[0].numpy()))\n",
    "\n",
    "q_x, q_y, s_x, s_y, truth = next(iter(train_processed_target))\n",
    "print(\"Average magnitude, target:\", get_average_magnitude(q_x[0].numpy()))\n",
    "print(\"Average power, target:\", get_average_power(q_x[0].numpy()))\n"
   ]
  },
  {
   "cell_type": "code",
   "execution_count": 12,
   "id": "bbdacba1",
   "metadata": {
    "execution": {
     "iopub.execute_input": "2022-03-22T17:15:17.545031Z",
     "iopub.status.busy": "2022-03-22T17:15:17.544488Z",
     "iopub.status.idle": "2022-03-22T17:15:17.610429Z",
     "shell.execute_reply": "2022-03-22T17:15:17.610031Z"
    },
    "papermill": {
     "duration": 0.082728,
     "end_time": "2022-03-22T17:15:17.610530",
     "exception": false,
     "start_time": "2022-03-22T17:15:17.527802",
     "status": "completed"
    },
    "tags": []
   },
   "outputs": [
    {
     "name": "stdout",
     "output_type": "stream",
     "text": [
      "(2, 256)\n"
     ]
    }
   ],
   "source": [
    "###################################\n",
    "# Build the model\n",
    "###################################\n",
    "model = Steves_Prototypical_Network(x_net, device=p.device, x_shape=(2,256))\n",
    "optimizer = Adam(params=model.parameters(), lr=p.lr)"
   ]
  },
  {
   "cell_type": "code",
   "execution_count": 13,
   "id": "22b39ac5",
   "metadata": {
    "execution": {
     "iopub.execute_input": "2022-03-22T17:15:17.638530Z",
     "iopub.status.busy": "2022-03-22T17:15:17.638277Z",
     "iopub.status.idle": "2022-03-22T17:21:10.949082Z",
     "shell.execute_reply": "2022-03-22T17:21:10.948609Z"
    },
    "papermill": {
     "duration": 353.323552,
     "end_time": "2022-03-22T17:21:10.949183",
     "exception": false,
     "start_time": "2022-03-22T17:15:17.625631",
     "status": "completed"
    },
    "tags": []
   },
   "outputs": [
    {
     "name": "stdout",
     "output_type": "stream",
     "text": [
      "epoch: 1, [batch: 1 / 45], examples_per_second: 1964.4213, train_label_loss: 4.7173, \n"
     ]
    },
    {
     "name": "stdout",
     "output_type": "stream",
     "text": [
      "epoch: 1, [batch: 5 / 45], examples_per_second: 3918.8848, train_label_loss: 4.1388, \n"
     ]
    },
    {
     "name": "stdout",
     "output_type": "stream",
     "text": [
      "epoch: 1, [batch: 9 / 45], examples_per_second: 4011.4601, train_label_loss: 3.5130, \n"
     ]
    },
    {
     "name": "stdout",
     "output_type": "stream",
     "text": [
      "epoch: 1, [batch: 14 / 45], examples_per_second: 4014.9033, train_label_loss: 2.8194, \n"
     ]
    },
    {
     "name": "stdout",
     "output_type": "stream",
     "text": [
      "epoch: 1, [batch: 18 / 45], examples_per_second: 4008.1147, train_label_loss: 2.4913, \n"
     ]
    },
    {
     "name": "stdout",
     "output_type": "stream",
     "text": [
      "epoch: 1, [batch: 23 / 45], examples_per_second: 3951.4457, train_label_loss: 2.1202, \n"
     ]
    },
    {
     "name": "stdout",
     "output_type": "stream",
     "text": [
      "epoch: 1, [batch: 27 / 45], examples_per_second: 4062.4554, train_label_loss: 2.0040, \n"
     ]
    },
    {
     "name": "stdout",
     "output_type": "stream",
     "text": [
      "epoch: 1, [batch: 31 / 45], examples_per_second: 4062.1861, train_label_loss: 1.6705, \n"
     ]
    },
    {
     "name": "stdout",
     "output_type": "stream",
     "text": [
      "epoch: 1, [batch: 36 / 45], examples_per_second: 4098.1993, train_label_loss: 1.6641, \n"
     ]
    },
    {
     "name": "stdout",
     "output_type": "stream",
     "text": [
      "epoch: 1, [batch: 40 / 45], examples_per_second: 4154.8410, train_label_loss: 1.4227, \n"
     ]
    },
    {
     "name": "stdout",
     "output_type": "stream",
     "text": [
      "=============================================================\n",
      "epoch: 1, source_val_acc_label: 0.7474, target_val_acc_label: 0.7370, source_val_label_loss: 1.3955, target_val_label_loss: 1.5201, \n",
      "=============================================================\n"
     ]
    },
    {
     "name": "stdout",
     "output_type": "stream",
     "text": [
      "New best\n"
     ]
    },
    {
     "name": "stdout",
     "output_type": "stream",
     "text": [
      "epoch: 2, [batch: 1 / 45], examples_per_second: 495.9125, train_label_loss: 1.2377, \n"
     ]
    },
    {
     "name": "stdout",
     "output_type": "stream",
     "text": [
      "epoch: 2, [batch: 5 / 45], examples_per_second: 3982.7103, train_label_loss: 1.2022, \n"
     ]
    },
    {
     "name": "stdout",
     "output_type": "stream",
     "text": [
      "epoch: 2, [batch: 9 / 45], examples_per_second: 4085.6447, train_label_loss: 1.2699, \n"
     ]
    },
    {
     "name": "stdout",
     "output_type": "stream",
     "text": [
      "epoch: 2, [batch: 14 / 45], examples_per_second: 4077.2896, train_label_loss: 1.2314, \n"
     ]
    },
    {
     "name": "stdout",
     "output_type": "stream",
     "text": [
      "epoch: 2, [batch: 18 / 45], examples_per_second: 4087.8685, train_label_loss: 0.9630, \n"
     ]
    },
    {
     "name": "stdout",
     "output_type": "stream",
     "text": [
      "epoch: 2, [batch: 23 / 45], examples_per_second: 4037.3038, train_label_loss: 0.9938, \n"
     ]
    },
    {
     "name": "stdout",
     "output_type": "stream",
     "text": [
      "epoch: 2, [batch: 27 / 45], examples_per_second: 4131.7618, train_label_loss: 1.0178, \n"
     ]
    },
    {
     "name": "stdout",
     "output_type": "stream",
     "text": [
      "epoch: 2, [batch: 31 / 45], examples_per_second: 4136.9892, train_label_loss: 0.9551, \n"
     ]
    },
    {
     "name": "stdout",
     "output_type": "stream",
     "text": [
      "epoch: 2, [batch: 36 / 45], examples_per_second: 4165.6686, train_label_loss: 1.0645, \n"
     ]
    },
    {
     "name": "stdout",
     "output_type": "stream",
     "text": [
      "epoch: 2, [batch: 40 / 45], examples_per_second: 4232.7701, train_label_loss: 0.9100, \n"
     ]
    },
    {
     "name": "stdout",
     "output_type": "stream",
     "text": [
      "=============================================================\n",
      "epoch: 2, source_val_acc_label: 0.8269, target_val_acc_label: 0.7964, source_val_label_loss: 0.9238, target_val_label_loss: 1.1481, \n",
      "=============================================================\n"
     ]
    },
    {
     "name": "stdout",
     "output_type": "stream",
     "text": [
      "New best\n"
     ]
    },
    {
     "name": "stdout",
     "output_type": "stream",
     "text": [
      "epoch: 3, [batch: 1 / 45], examples_per_second: 491.6664, train_label_loss: 0.8560, \n"
     ]
    },
    {
     "name": "stdout",
     "output_type": "stream",
     "text": [
      "epoch: 3, [batch: 5 / 45], examples_per_second: 3988.5836, train_label_loss: 0.8462, \n"
     ]
    },
    {
     "name": "stdout",
     "output_type": "stream",
     "text": [
      "epoch: 3, [batch: 9 / 45], examples_per_second: 4089.1668, train_label_loss: 0.7542, \n"
     ]
    },
    {
     "name": "stdout",
     "output_type": "stream",
     "text": [
      "epoch: 3, [batch: 14 / 45], examples_per_second: 4092.8172, train_label_loss: 0.6808, \n"
     ]
    },
    {
     "name": "stdout",
     "output_type": "stream",
     "text": [
      "epoch: 3, [batch: 18 / 45], examples_per_second: 4101.6848, train_label_loss: 0.5865, \n"
     ]
    },
    {
     "name": "stdout",
     "output_type": "stream",
     "text": [
      "epoch: 3, [batch: 23 / 45], examples_per_second: 4046.5838, train_label_loss: 0.6682, \n"
     ]
    },
    {
     "name": "stdout",
     "output_type": "stream",
     "text": [
      "epoch: 3, [batch: 27 / 45], examples_per_second: 4139.4122, train_label_loss: 0.7736, \n"
     ]
    },
    {
     "name": "stdout",
     "output_type": "stream",
     "text": [
      "epoch: 3, [batch: 31 / 45], examples_per_second: 4148.6150, train_label_loss: 0.8005, \n"
     ]
    },
    {
     "name": "stdout",
     "output_type": "stream",
     "text": [
      "epoch: 3, [batch: 36 / 45], examples_per_second: 4176.1627, train_label_loss: 0.5440, \n"
     ]
    },
    {
     "name": "stdout",
     "output_type": "stream",
     "text": [
      "epoch: 3, [batch: 40 / 45], examples_per_second: 4227.7061, train_label_loss: 0.6175, \n"
     ]
    },
    {
     "name": "stdout",
     "output_type": "stream",
     "text": [
      "=============================================================\n",
      "epoch: 3, source_val_acc_label: 0.8718, target_val_acc_label: 0.8124, source_val_label_loss: 0.6730, target_val_label_loss: 0.9842, \n",
      "=============================================================\n"
     ]
    },
    {
     "name": "stdout",
     "output_type": "stream",
     "text": [
      "New best\n"
     ]
    },
    {
     "name": "stdout",
     "output_type": "stream",
     "text": [
      "epoch: 4, [batch: 1 / 45], examples_per_second: 492.0869, train_label_loss: 0.4331, \n"
     ]
    },
    {
     "name": "stdout",
     "output_type": "stream",
     "text": [
      "epoch: 4, [batch: 5 / 45], examples_per_second: 3970.3300, train_label_loss: 0.5907, \n"
     ]
    },
    {
     "name": "stdout",
     "output_type": "stream",
     "text": [
      "epoch: 4, [batch: 9 / 45], examples_per_second: 4085.4105, train_label_loss: 0.4312, \n"
     ]
    },
    {
     "name": "stdout",
     "output_type": "stream",
     "text": [
      "epoch: 4, [batch: 14 / 45], examples_per_second: 4088.9696, train_label_loss: 0.7580, \n"
     ]
    },
    {
     "name": "stdout",
     "output_type": "stream",
     "text": [
      "epoch: 4, [batch: 18 / 45], examples_per_second: 4082.6361, train_label_loss: 0.4938, \n"
     ]
    },
    {
     "name": "stdout",
     "output_type": "stream",
     "text": [
      "epoch: 4, [batch: 23 / 45], examples_per_second: 4026.6373, train_label_loss: 0.4633, \n"
     ]
    },
    {
     "name": "stdout",
     "output_type": "stream",
     "text": [
      "epoch: 4, [batch: 27 / 45], examples_per_second: 4131.2422, train_label_loss: 0.3138, \n"
     ]
    },
    {
     "name": "stdout",
     "output_type": "stream",
     "text": [
      "epoch: 4, [batch: 31 / 45], examples_per_second: 4134.6740, train_label_loss: 0.4229, \n"
     ]
    },
    {
     "name": "stdout",
     "output_type": "stream",
     "text": [
      "epoch: 4, [batch: 36 / 45], examples_per_second: 4169.2972, train_label_loss: 0.3627, \n"
     ]
    },
    {
     "name": "stdout",
     "output_type": "stream",
     "text": [
      "epoch: 4, [batch: 40 / 45], examples_per_second: 4235.3165, train_label_loss: 0.3830, \n"
     ]
    },
    {
     "name": "stdout",
     "output_type": "stream",
     "text": [
      "=============================================================\n",
      "epoch: 4, source_val_acc_label: 0.9051, target_val_acc_label: 0.8348, source_val_label_loss: 0.5191, target_val_label_loss: 0.9119, \n",
      "=============================================================\n"
     ]
    },
    {
     "name": "stdout",
     "output_type": "stream",
     "text": [
      "New best\n"
     ]
    },
    {
     "name": "stdout",
     "output_type": "stream",
     "text": [
      "epoch: 5, [batch: 1 / 45], examples_per_second: 489.4911, train_label_loss: 0.2911, \n"
     ]
    },
    {
     "name": "stdout",
     "output_type": "stream",
     "text": [
      "epoch: 5, [batch: 5 / 45], examples_per_second: 3974.6250, train_label_loss: 0.4083, \n"
     ]
    },
    {
     "name": "stdout",
     "output_type": "stream",
     "text": [
      "epoch: 5, [batch: 9 / 45], examples_per_second: 4072.5869, train_label_loss: 0.4360, \n"
     ]
    },
    {
     "name": "stdout",
     "output_type": "stream",
     "text": [
      "epoch: 5, [batch: 14 / 45], examples_per_second: 4087.3953, train_label_loss: 0.4189, \n"
     ]
    },
    {
     "name": "stdout",
     "output_type": "stream",
     "text": [
      "epoch: 5, [batch: 18 / 45], examples_per_second: 4087.3813, train_label_loss: 0.3175, \n"
     ]
    },
    {
     "name": "stdout",
     "output_type": "stream",
     "text": [
      "epoch: 5, [batch: 23 / 45], examples_per_second: 4021.2148, train_label_loss: 0.5118, \n"
     ]
    },
    {
     "name": "stdout",
     "output_type": "stream",
     "text": [
      "epoch: 5, [batch: 27 / 45], examples_per_second: 4138.1132, train_label_loss: 0.3385, \n"
     ]
    },
    {
     "name": "stdout",
     "output_type": "stream",
     "text": [
      "epoch: 5, [batch: 31 / 45], examples_per_second: 4132.7749, train_label_loss: 0.3331, \n"
     ]
    },
    {
     "name": "stdout",
     "output_type": "stream",
     "text": [
      "epoch: 5, [batch: 36 / 45], examples_per_second: 4174.5347, train_label_loss: 0.4029, \n"
     ]
    },
    {
     "name": "stdout",
     "output_type": "stream",
     "text": [
      "epoch: 5, [batch: 40 / 45], examples_per_second: 4233.4718, train_label_loss: 0.3360, \n"
     ]
    },
    {
     "name": "stdout",
     "output_type": "stream",
     "text": [
      "=============================================================\n",
      "epoch: 5, source_val_acc_label: 0.9237, target_val_acc_label: 0.8423, source_val_label_loss: 0.4262, target_val_label_loss: 0.8479, \n",
      "=============================================================\n"
     ]
    },
    {
     "name": "stdout",
     "output_type": "stream",
     "text": [
      "New best\n"
     ]
    },
    {
     "name": "stdout",
     "output_type": "stream",
     "text": [
      "epoch: 6, [batch: 1 / 45], examples_per_second: 489.0355, train_label_loss: 0.3879, \n"
     ]
    },
    {
     "name": "stdout",
     "output_type": "stream",
     "text": [
      "epoch: 6, [batch: 5 / 45], examples_per_second: 3976.8397, train_label_loss: 0.1556, \n"
     ]
    },
    {
     "name": "stdout",
     "output_type": "stream",
     "text": [
      "epoch: 6, [batch: 9 / 45], examples_per_second: 4084.8902, train_label_loss: 0.1591, \n"
     ]
    },
    {
     "name": "stdout",
     "output_type": "stream",
     "text": [
      "epoch: 6, [batch: 14 / 45], examples_per_second: 4085.6667, train_label_loss: 0.4455, \n"
     ]
    },
    {
     "name": "stdout",
     "output_type": "stream",
     "text": [
      "epoch: 6, [batch: 18 / 45], examples_per_second: 4080.7065, train_label_loss: 0.1081, \n"
     ]
    },
    {
     "name": "stdout",
     "output_type": "stream",
     "text": [
      "epoch: 6, [batch: 23 / 45], examples_per_second: 4024.2171, train_label_loss: 0.2577, \n"
     ]
    },
    {
     "name": "stdout",
     "output_type": "stream",
     "text": [
      "epoch: 6, [batch: 27 / 45], examples_per_second: 4132.8485, train_label_loss: 0.3609, \n"
     ]
    },
    {
     "name": "stdout",
     "output_type": "stream",
     "text": [
      "epoch: 6, [batch: 31 / 45], examples_per_second: 4139.6181, train_label_loss: 0.2356, \n"
     ]
    },
    {
     "name": "stdout",
     "output_type": "stream",
     "text": [
      "epoch: 6, [batch: 36 / 45], examples_per_second: 4172.0586, train_label_loss: 0.4335, \n"
     ]
    },
    {
     "name": "stdout",
     "output_type": "stream",
     "text": [
      "epoch: 6, [batch: 40 / 45], examples_per_second: 4227.0556, train_label_loss: 0.2821, \n"
     ]
    },
    {
     "name": "stdout",
     "output_type": "stream",
     "text": [
      "=============================================================\n",
      "epoch: 6, source_val_acc_label: 0.9365, target_val_acc_label: 0.8588, source_val_label_loss: 0.3628, target_val_label_loss: 0.7894, \n",
      "=============================================================\n"
     ]
    },
    {
     "name": "stdout",
     "output_type": "stream",
     "text": [
      "New best\n"
     ]
    },
    {
     "name": "stdout",
     "output_type": "stream",
     "text": [
      "epoch: 7, [batch: 1 / 45], examples_per_second: 488.7389, train_label_loss: 0.4095, \n"
     ]
    },
    {
     "name": "stdout",
     "output_type": "stream",
     "text": [
      "epoch: 7, [batch: 5 / 45], examples_per_second: 3970.7623, train_label_loss: 0.2100, \n"
     ]
    },
    {
     "name": "stdout",
     "output_type": "stream",
     "text": [
      "epoch: 7, [batch: 9 / 45], examples_per_second: 4071.9923, train_label_loss: 0.2637, \n"
     ]
    },
    {
     "name": "stdout",
     "output_type": "stream",
     "text": [
      "epoch: 7, [batch: 14 / 45], examples_per_second: 4078.0458, train_label_loss: 0.3048, \n"
     ]
    },
    {
     "name": "stdout",
     "output_type": "stream",
     "text": [
      "epoch: 7, [batch: 18 / 45], examples_per_second: 4059.5972, train_label_loss: 0.1895, \n"
     ]
    },
    {
     "name": "stdout",
     "output_type": "stream",
     "text": [
      "epoch: 7, [batch: 23 / 45], examples_per_second: 4019.4031, train_label_loss: 0.2303, \n"
     ]
    },
    {
     "name": "stdout",
     "output_type": "stream",
     "text": [
      "epoch: 7, [batch: 27 / 45], examples_per_second: 4121.0959, train_label_loss: 0.3161, \n"
     ]
    },
    {
     "name": "stdout",
     "output_type": "stream",
     "text": [
      "epoch: 7, [batch: 31 / 45], examples_per_second: 4124.0820, train_label_loss: 0.2537, \n"
     ]
    },
    {
     "name": "stdout",
     "output_type": "stream",
     "text": [
      "epoch: 7, [batch: 36 / 45], examples_per_second: 4162.6067, train_label_loss: 0.2990, \n"
     ]
    },
    {
     "name": "stdout",
     "output_type": "stream",
     "text": [
      "epoch: 7, [batch: 40 / 45], examples_per_second: 4223.8466, train_label_loss: 0.2215, \n"
     ]
    },
    {
     "name": "stdout",
     "output_type": "stream",
     "text": [
      "=============================================================\n",
      "epoch: 7, source_val_acc_label: 0.9423, target_val_acc_label: 0.8635, source_val_label_loss: 0.3428, target_val_label_loss: 0.7679, \n",
      "=============================================================\n"
     ]
    },
    {
     "name": "stdout",
     "output_type": "stream",
     "text": [
      "New best\n"
     ]
    },
    {
     "name": "stdout",
     "output_type": "stream",
     "text": [
      "epoch: 8, [batch: 1 / 45], examples_per_second: 490.0361, train_label_loss: 0.2969, \n"
     ]
    },
    {
     "name": "stdout",
     "output_type": "stream",
     "text": [
      "epoch: 8, [batch: 5 / 45], examples_per_second: 3970.6640, train_label_loss: 0.1756, \n"
     ]
    },
    {
     "name": "stdout",
     "output_type": "stream",
     "text": [
      "epoch: 8, [batch: 9 / 45], examples_per_second: 4082.0003, train_label_loss: 0.2115, \n"
     ]
    },
    {
     "name": "stdout",
     "output_type": "stream",
     "text": [
      "epoch: 8, [batch: 14 / 45], examples_per_second: 4074.3477, train_label_loss: 0.1743, \n"
     ]
    },
    {
     "name": "stdout",
     "output_type": "stream",
     "text": [
      "epoch: 8, [batch: 18 / 45], examples_per_second: 4069.3362, train_label_loss: 0.2679, \n"
     ]
    },
    {
     "name": "stdout",
     "output_type": "stream",
     "text": [
      "epoch: 8, [batch: 23 / 45], examples_per_second: 4016.0282, train_label_loss: 0.1519, \n"
     ]
    },
    {
     "name": "stdout",
     "output_type": "stream",
     "text": [
      "epoch: 8, [batch: 27 / 45], examples_per_second: 4126.6398, train_label_loss: 0.1719, \n"
     ]
    },
    {
     "name": "stdout",
     "output_type": "stream",
     "text": [
      "epoch: 8, [batch: 31 / 45], examples_per_second: 4121.6379, train_label_loss: 0.1122, \n"
     ]
    },
    {
     "name": "stdout",
     "output_type": "stream",
     "text": [
      "epoch: 8, [batch: 36 / 45], examples_per_second: 4165.1887, train_label_loss: 0.1172, \n"
     ]
    },
    {
     "name": "stdout",
     "output_type": "stream",
     "text": [
      "epoch: 8, [batch: 40 / 45], examples_per_second: 4224.1885, train_label_loss: 0.1516, \n"
     ]
    },
    {
     "name": "stdout",
     "output_type": "stream",
     "text": [
      "=============================================================\n",
      "epoch: 8, source_val_acc_label: 0.9487, target_val_acc_label: 0.8613, source_val_label_loss: 0.3218, target_val_label_loss: 0.7541, \n",
      "=============================================================\n"
     ]
    },
    {
     "name": "stdout",
     "output_type": "stream",
     "text": [
      "epoch: 9, [batch: 1 / 45], examples_per_second: 499.5447, train_label_loss: 0.1297, \n"
     ]
    },
    {
     "name": "stdout",
     "output_type": "stream",
     "text": [
      "epoch: 9, [batch: 5 / 45], examples_per_second: 3968.8851, train_label_loss: 0.1185, \n"
     ]
    },
    {
     "name": "stdout",
     "output_type": "stream",
     "text": [
      "epoch: 9, [batch: 9 / 45], examples_per_second: 4071.3979, train_label_loss: 0.2044, \n"
     ]
    },
    {
     "name": "stdout",
     "output_type": "stream",
     "text": [
      "epoch: 9, [batch: 14 / 45], examples_per_second: 4071.6144, train_label_loss: 0.2596, \n"
     ]
    },
    {
     "name": "stdout",
     "output_type": "stream",
     "text": [
      "epoch: 9, [batch: 18 / 45], examples_per_second: 4054.0661, train_label_loss: 0.1013, \n"
     ]
    },
    {
     "name": "stdout",
     "output_type": "stream",
     "text": [
      "epoch: 9, [batch: 23 / 45], examples_per_second: 4019.3379, train_label_loss: 0.2483, \n"
     ]
    },
    {
     "name": "stdout",
     "output_type": "stream",
     "text": [
      "epoch: 9, [batch: 27 / 45], examples_per_second: 4124.9915, train_label_loss: 0.2084, \n"
     ]
    },
    {
     "name": "stdout",
     "output_type": "stream",
     "text": [
      "epoch: 9, [batch: 31 / 45], examples_per_second: 4126.1995, train_label_loss: 0.2443, \n"
     ]
    },
    {
     "name": "stdout",
     "output_type": "stream",
     "text": [
      "epoch: 9, [batch: 36 / 45], examples_per_second: 4167.9395, train_label_loss: 0.2422, \n"
     ]
    },
    {
     "name": "stdout",
     "output_type": "stream",
     "text": [
      "epoch: 9, [batch: 40 / 45], examples_per_second: 4222.6117, train_label_loss: 0.1149, \n"
     ]
    },
    {
     "name": "stdout",
     "output_type": "stream",
     "text": [
      "=============================================================\n",
      "epoch: 9, source_val_acc_label: 0.9487, target_val_acc_label: 0.8652, source_val_label_loss: 0.3071, target_val_label_loss: 0.7374, \n",
      "=============================================================\n"
     ]
    },
    {
     "name": "stdout",
     "output_type": "stream",
     "text": [
      "New best\n"
     ]
    },
    {
     "name": "stdout",
     "output_type": "stream",
     "text": [
      "epoch: 10, [batch: 1 / 45], examples_per_second: 487.8049, train_label_loss: 0.1663, \n"
     ]
    },
    {
     "name": "stdout",
     "output_type": "stream",
     "text": [
      "epoch: 10, [batch: 5 / 45], examples_per_second: 3983.2485, train_label_loss: 0.1267, \n"
     ]
    },
    {
     "name": "stdout",
     "output_type": "stream",
     "text": [
      "epoch: 10, [batch: 9 / 45], examples_per_second: 4072.3390, train_label_loss: 0.2263, \n"
     ]
    },
    {
     "name": "stdout",
     "output_type": "stream",
     "text": [
      "epoch: 10, [batch: 14 / 45], examples_per_second: 4076.9323, train_label_loss: 0.2072, \n"
     ]
    },
    {
     "name": "stdout",
     "output_type": "stream",
     "text": [
      "epoch: 10, [batch: 18 / 45], examples_per_second: 4076.2937, train_label_loss: 0.1405, \n"
     ]
    },
    {
     "name": "stdout",
     "output_type": "stream",
     "text": [
      "epoch: 10, [batch: 23 / 45], examples_per_second: 4020.6657, train_label_loss: 0.1922, \n"
     ]
    },
    {
     "name": "stdout",
     "output_type": "stream",
     "text": [
      "epoch: 10, [batch: 27 / 45], examples_per_second: 4120.4886, train_label_loss: 0.2908, \n"
     ]
    },
    {
     "name": "stdout",
     "output_type": "stream",
     "text": [
      "epoch: 10, [batch: 31 / 45], examples_per_second: 4131.0841, train_label_loss: 0.1518, \n"
     ]
    },
    {
     "name": "stdout",
     "output_type": "stream",
     "text": [
      "epoch: 10, [batch: 36 / 45], examples_per_second: 4170.4707, train_label_loss: 0.2096, \n"
     ]
    },
    {
     "name": "stdout",
     "output_type": "stream",
     "text": [
      "epoch: 10, [batch: 40 / 45], examples_per_second: 4216.1241, train_label_loss: 0.0640, \n"
     ]
    },
    {
     "name": "stdout",
     "output_type": "stream",
     "text": [
      "=============================================================\n",
      "epoch: 10, source_val_acc_label: 0.9538, target_val_acc_label: 0.8716, source_val_label_loss: 0.2978, target_val_label_loss: 0.7245, \n",
      "=============================================================\n"
     ]
    },
    {
     "name": "stdout",
     "output_type": "stream",
     "text": [
      "New best\n"
     ]
    },
    {
     "name": "stdout",
     "output_type": "stream",
     "text": [
      "epoch: 11, [batch: 1 / 45], examples_per_second: 485.2245, train_label_loss: 0.0795, \n"
     ]
    },
    {
     "name": "stdout",
     "output_type": "stream",
     "text": [
      "epoch: 11, [batch: 5 / 45], examples_per_second: 3976.0843, train_label_loss: 0.1988, \n"
     ]
    },
    {
     "name": "stdout",
     "output_type": "stream",
     "text": [
      "epoch: 11, [batch: 9 / 45], examples_per_second: 4066.3091, train_label_loss: 0.1083, \n"
     ]
    },
    {
     "name": "stdout",
     "output_type": "stream",
     "text": [
      "epoch: 11, [batch: 14 / 45], examples_per_second: 4065.0977, train_label_loss: 0.1578, \n"
     ]
    },
    {
     "name": "stdout",
     "output_type": "stream",
     "text": [
      "epoch: 11, [batch: 18 / 45], examples_per_second: 4063.7831, train_label_loss: 0.1752, \n"
     ]
    },
    {
     "name": "stdout",
     "output_type": "stream",
     "text": [
      "epoch: 11, [batch: 23 / 45], examples_per_second: 4010.5245, train_label_loss: 0.0945, \n"
     ]
    },
    {
     "name": "stdout",
     "output_type": "stream",
     "text": [
      "epoch: 11, [batch: 27 / 45], examples_per_second: 4120.2893, train_label_loss: 0.0654, \n"
     ]
    },
    {
     "name": "stdout",
     "output_type": "stream",
     "text": [
      "epoch: 11, [batch: 31 / 45], examples_per_second: 4119.5656, train_label_loss: 0.1666, \n"
     ]
    },
    {
     "name": "stdout",
     "output_type": "stream",
     "text": [
      "epoch: 11, [batch: 36 / 45], examples_per_second: 4161.3106, train_label_loss: 0.1725, \n"
     ]
    },
    {
     "name": "stdout",
     "output_type": "stream",
     "text": [
      "epoch: 11, [batch: 40 / 45], examples_per_second: 4215.9187, train_label_loss: 0.0828, \n"
     ]
    },
    {
     "name": "stdout",
     "output_type": "stream",
     "text": [
      "=============================================================\n",
      "epoch: 11, source_val_acc_label: 0.9532, target_val_acc_label: 0.8665, source_val_label_loss: 0.2928, target_val_label_loss: 0.7442, \n",
      "=============================================================\n"
     ]
    },
    {
     "name": "stdout",
     "output_type": "stream",
     "text": [
      "epoch: 12, [batch: 1 / 45], examples_per_second: 499.9799, train_label_loss: 0.1218, \n"
     ]
    },
    {
     "name": "stdout",
     "output_type": "stream",
     "text": [
      "epoch: 12, [batch: 5 / 45], examples_per_second: 3970.0742, train_label_loss: 0.0976, \n"
     ]
    },
    {
     "name": "stdout",
     "output_type": "stream",
     "text": [
      "epoch: 12, [batch: 9 / 45], examples_per_second: 4064.2344, train_label_loss: 0.1493, \n"
     ]
    },
    {
     "name": "stdout",
     "output_type": "stream",
     "text": [
      "epoch: 12, [batch: 14 / 45], examples_per_second: 4063.1045, train_label_loss: 0.1908, \n"
     ]
    },
    {
     "name": "stdout",
     "output_type": "stream",
     "text": [
      "epoch: 12, [batch: 18 / 45], examples_per_second: 4073.7310, train_label_loss: 0.1569, \n"
     ]
    },
    {
     "name": "stdout",
     "output_type": "stream",
     "text": [
      "epoch: 12, [batch: 23 / 45], examples_per_second: 4012.9247, train_label_loss: 0.1337, \n"
     ]
    },
    {
     "name": "stdout",
     "output_type": "stream",
     "text": [
      "epoch: 12, [batch: 27 / 45], examples_per_second: 4121.2034, train_label_loss: 0.2079, \n"
     ]
    },
    {
     "name": "stdout",
     "output_type": "stream",
     "text": [
      "epoch: 12, [batch: 31 / 45], examples_per_second: 4109.0197, train_label_loss: 0.1393, \n"
     ]
    },
    {
     "name": "stdout",
     "output_type": "stream",
     "text": [
      "epoch: 12, [batch: 36 / 45], examples_per_second: 4160.0444, train_label_loss: 0.1489, \n"
     ]
    },
    {
     "name": "stdout",
     "output_type": "stream",
     "text": [
      "epoch: 12, [batch: 40 / 45], examples_per_second: 4218.7092, train_label_loss: 0.2085, \n"
     ]
    },
    {
     "name": "stdout",
     "output_type": "stream",
     "text": [
      "=============================================================\n",
      "epoch: 12, source_val_acc_label: 0.9506, target_val_acc_label: 0.8744, source_val_label_loss: 0.2891, target_val_label_loss: 0.7047, \n",
      "=============================================================\n"
     ]
    },
    {
     "name": "stdout",
     "output_type": "stream",
     "text": [
      "New best\n"
     ]
    },
    {
     "name": "stdout",
     "output_type": "stream",
     "text": [
      "epoch: 13, [batch: 1 / 45], examples_per_second: 488.4977, train_label_loss: 0.1131, \n"
     ]
    },
    {
     "name": "stdout",
     "output_type": "stream",
     "text": [
      "epoch: 13, [batch: 5 / 45], examples_per_second: 3962.8910, train_label_loss: 0.1229, \n"
     ]
    },
    {
     "name": "stdout",
     "output_type": "stream",
     "text": [
      "epoch: 13, [batch: 9 / 45], examples_per_second: 4069.2269, train_label_loss: 0.0590, \n"
     ]
    },
    {
     "name": "stdout",
     "output_type": "stream",
     "text": [
      "epoch: 13, [batch: 14 / 45], examples_per_second: 4066.3613, train_label_loss: 0.1765, \n"
     ]
    },
    {
     "name": "stdout",
     "output_type": "stream",
     "text": [
      "epoch: 13, [batch: 18 / 45], examples_per_second: 4066.8914, train_label_loss: 0.1392, \n"
     ]
    },
    {
     "name": "stdout",
     "output_type": "stream",
     "text": [
      "epoch: 13, [batch: 23 / 45], examples_per_second: 4016.0566, train_label_loss: 0.2339, \n"
     ]
    },
    {
     "name": "stdout",
     "output_type": "stream",
     "text": [
      "epoch: 13, [batch: 27 / 45], examples_per_second: 4122.1926, train_label_loss: 0.1724, \n"
     ]
    },
    {
     "name": "stdout",
     "output_type": "stream",
     "text": [
      "epoch: 13, [batch: 31 / 45], examples_per_second: 4125.5439, train_label_loss: 0.1075, \n"
     ]
    },
    {
     "name": "stdout",
     "output_type": "stream",
     "text": [
      "epoch: 13, [batch: 36 / 45], examples_per_second: 4150.8857, train_label_loss: 0.1324, \n"
     ]
    },
    {
     "name": "stdout",
     "output_type": "stream",
     "text": [
      "epoch: 13, [batch: 40 / 45], examples_per_second: 4211.4576, train_label_loss: 0.2078, \n"
     ]
    },
    {
     "name": "stdout",
     "output_type": "stream",
     "text": [
      "=============================================================\n",
      "epoch: 13, source_val_acc_label: 0.9519, target_val_acc_label: 0.8726, source_val_label_loss: 0.2930, target_val_label_loss: 0.7391, \n",
      "=============================================================\n"
     ]
    },
    {
     "name": "stdout",
     "output_type": "stream",
     "text": [
      "epoch: 14, [batch: 1 / 45], examples_per_second: 499.9091, train_label_loss: 0.0573, \n"
     ]
    },
    {
     "name": "stdout",
     "output_type": "stream",
     "text": [
      "epoch: 14, [batch: 5 / 45], examples_per_second: 3959.7728, train_label_loss: 0.0701, \n"
     ]
    },
    {
     "name": "stdout",
     "output_type": "stream",
     "text": [
      "epoch: 14, [batch: 9 / 45], examples_per_second: 4063.1593, train_label_loss: 0.2618, \n"
     ]
    },
    {
     "name": "stdout",
     "output_type": "stream",
     "text": [
      "epoch: 14, [batch: 14 / 45], examples_per_second: 4064.0166, train_label_loss: 0.1319, \n"
     ]
    },
    {
     "name": "stdout",
     "output_type": "stream",
     "text": [
      "epoch: 14, [batch: 18 / 45], examples_per_second: 4077.8409, train_label_loss: 0.1822, \n"
     ]
    },
    {
     "name": "stdout",
     "output_type": "stream",
     "text": [
      "epoch: 14, [batch: 23 / 45], examples_per_second: 4020.9906, train_label_loss: 0.1205, \n"
     ]
    },
    {
     "name": "stdout",
     "output_type": "stream",
     "text": [
      "epoch: 14, [batch: 27 / 45], examples_per_second: 4126.4837, train_label_loss: 0.0827, \n"
     ]
    },
    {
     "name": "stdout",
     "output_type": "stream",
     "text": [
      "epoch: 14, [batch: 31 / 45], examples_per_second: 4119.7010, train_label_loss: 0.0732, \n"
     ]
    },
    {
     "name": "stdout",
     "output_type": "stream",
     "text": [
      "epoch: 14, [batch: 36 / 45], examples_per_second: 4158.2361, train_label_loss: 0.1052, \n"
     ]
    },
    {
     "name": "stdout",
     "output_type": "stream",
     "text": [
      "epoch: 14, [batch: 40 / 45], examples_per_second: 4212.0106, train_label_loss: 0.2109, \n"
     ]
    },
    {
     "name": "stdout",
     "output_type": "stream",
     "text": [
      "=============================================================\n",
      "epoch: 14, source_val_acc_label: 0.9526, target_val_acc_label: 0.8722, source_val_label_loss: 0.2884, target_val_label_loss: 0.7324, \n",
      "=============================================================\n"
     ]
    },
    {
     "name": "stdout",
     "output_type": "stream",
     "text": [
      "epoch: 15, [batch: 1 / 45], examples_per_second: 503.4325, train_label_loss: 0.1222, \n"
     ]
    },
    {
     "name": "stdout",
     "output_type": "stream",
     "text": [
      "epoch: 15, [batch: 5 / 45], examples_per_second: 3942.2188, train_label_loss: 0.0861, \n"
     ]
    },
    {
     "name": "stdout",
     "output_type": "stream",
     "text": [
      "epoch: 15, [batch: 9 / 45], examples_per_second: 4057.3014, train_label_loss: 0.1022, \n"
     ]
    },
    {
     "name": "stdout",
     "output_type": "stream",
     "text": [
      "epoch: 15, [batch: 14 / 45], examples_per_second: 4050.7805, train_label_loss: 0.0434, \n"
     ]
    },
    {
     "name": "stdout",
     "output_type": "stream",
     "text": [
      "epoch: 15, [batch: 18 / 45], examples_per_second: 4073.0524, train_label_loss: 0.1595, \n"
     ]
    },
    {
     "name": "stdout",
     "output_type": "stream",
     "text": [
      "epoch: 15, [batch: 23 / 45], examples_per_second: 3983.0026, train_label_loss: 0.0594, \n"
     ]
    },
    {
     "name": "stdout",
     "output_type": "stream",
     "text": [
      "epoch: 15, [batch: 27 / 45], examples_per_second: 4121.2252, train_label_loss: 0.1040, \n"
     ]
    },
    {
     "name": "stdout",
     "output_type": "stream",
     "text": [
      "epoch: 15, [batch: 31 / 45], examples_per_second: 4110.6212, train_label_loss: 0.0678, \n"
     ]
    },
    {
     "name": "stdout",
     "output_type": "stream",
     "text": [
      "epoch: 15, [batch: 36 / 45], examples_per_second: 4155.5829, train_label_loss: 0.0732, \n"
     ]
    },
    {
     "name": "stdout",
     "output_type": "stream",
     "text": [
      "epoch: 15, [batch: 40 / 45], examples_per_second: 4220.0871, train_label_loss: 0.2297, \n"
     ]
    },
    {
     "name": "stdout",
     "output_type": "stream",
     "text": [
      "=============================================================\n",
      "epoch: 15, source_val_acc_label: 0.9494, target_val_acc_label: 0.8763, source_val_label_loss: 0.3020, target_val_label_loss: 0.7285, \n",
      "=============================================================\n"
     ]
    },
    {
     "name": "stdout",
     "output_type": "stream",
     "text": [
      "New best\n"
     ]
    },
    {
     "name": "stdout",
     "output_type": "stream",
     "text": [
      "epoch: 16, [batch: 1 / 45], examples_per_second: 486.1911, train_label_loss: 0.0862, \n"
     ]
    },
    {
     "name": "stdout",
     "output_type": "stream",
     "text": [
      "epoch: 16, [batch: 5 / 45], examples_per_second: 3969.7476, train_label_loss: 0.0751, \n"
     ]
    },
    {
     "name": "stdout",
     "output_type": "stream",
     "text": [
      "epoch: 16, [batch: 9 / 45], examples_per_second: 4065.4662, train_label_loss: 0.0864, \n"
     ]
    },
    {
     "name": "stdout",
     "output_type": "stream",
     "text": [
      "epoch: 16, [batch: 14 / 45], examples_per_second: 4068.6831, train_label_loss: 0.1230, \n"
     ]
    },
    {
     "name": "stdout",
     "output_type": "stream",
     "text": [
      "epoch: 16, [batch: 18 / 45], examples_per_second: 4080.0897, train_label_loss: 0.1654, \n"
     ]
    },
    {
     "name": "stdout",
     "output_type": "stream",
     "text": [
      "epoch: 16, [batch: 23 / 45], examples_per_second: 4020.6562, train_label_loss: 0.1491, \n"
     ]
    },
    {
     "name": "stdout",
     "output_type": "stream",
     "text": [
      "epoch: 16, [batch: 27 / 45], examples_per_second: 4125.8248, train_label_loss: 0.1652, \n"
     ]
    },
    {
     "name": "stdout",
     "output_type": "stream",
     "text": [
      "epoch: 16, [batch: 31 / 45], examples_per_second: 4131.0278, train_label_loss: 0.0962, \n"
     ]
    },
    {
     "name": "stdout",
     "output_type": "stream",
     "text": [
      "epoch: 16, [batch: 36 / 45], examples_per_second: 4157.6502, train_label_loss: 0.1483, \n"
     ]
    },
    {
     "name": "stdout",
     "output_type": "stream",
     "text": [
      "epoch: 16, [batch: 40 / 45], examples_per_second: 4218.1544, train_label_loss: 0.1095, \n"
     ]
    },
    {
     "name": "stdout",
     "output_type": "stream",
     "text": [
      "=============================================================\n",
      "epoch: 16, source_val_acc_label: 0.9526, target_val_acc_label: 0.8778, source_val_label_loss: 0.2817, target_val_label_loss: 0.7129, \n",
      "=============================================================\n"
     ]
    },
    {
     "name": "stdout",
     "output_type": "stream",
     "text": [
      "New best\n"
     ]
    },
    {
     "name": "stdout",
     "output_type": "stream",
     "text": [
      "epoch: 17, [batch: 1 / 45], examples_per_second: 490.2702, train_label_loss: 0.1501, \n"
     ]
    },
    {
     "name": "stdout",
     "output_type": "stream",
     "text": [
      "epoch: 17, [batch: 5 / 45], examples_per_second: 3962.5296, train_label_loss: 0.1384, \n"
     ]
    },
    {
     "name": "stdout",
     "output_type": "stream",
     "text": [
      "epoch: 17, [batch: 9 / 45], examples_per_second: 4063.1472, train_label_loss: 0.0786, \n"
     ]
    },
    {
     "name": "stdout",
     "output_type": "stream",
     "text": [
      "epoch: 17, [batch: 14 / 45], examples_per_second: 4078.3813, train_label_loss: 0.2090, \n"
     ]
    },
    {
     "name": "stdout",
     "output_type": "stream",
     "text": [
      "epoch: 17, [batch: 18 / 45], examples_per_second: 4068.9050, train_label_loss: 0.1077, \n"
     ]
    },
    {
     "name": "stdout",
     "output_type": "stream",
     "text": [
      "epoch: 17, [batch: 23 / 45], examples_per_second: 4016.3500, train_label_loss: 0.1863, \n"
     ]
    },
    {
     "name": "stdout",
     "output_type": "stream",
     "text": [
      "epoch: 17, [batch: 27 / 45], examples_per_second: 4123.4052, train_label_loss: 0.0883, \n"
     ]
    },
    {
     "name": "stdout",
     "output_type": "stream",
     "text": [
      "epoch: 17, [batch: 31 / 45], examples_per_second: 4122.6055, train_label_loss: 0.0536, \n"
     ]
    },
    {
     "name": "stdout",
     "output_type": "stream",
     "text": [
      "epoch: 17, [batch: 36 / 45], examples_per_second: 4159.7702, train_label_loss: 0.0839, \n"
     ]
    },
    {
     "name": "stdout",
     "output_type": "stream",
     "text": [
      "epoch: 17, [batch: 40 / 45], examples_per_second: 4215.3842, train_label_loss: 0.1469, \n"
     ]
    },
    {
     "name": "stdout",
     "output_type": "stream",
     "text": [
      "=============================================================\n",
      "epoch: 17, source_val_acc_label: 0.9532, target_val_acc_label: 0.8754, source_val_label_loss: 0.2840, target_val_label_loss: 0.7281, \n",
      "=============================================================\n"
     ]
    },
    {
     "name": "stdout",
     "output_type": "stream",
     "text": [
      "epoch: 18, [batch: 1 / 45], examples_per_second: 501.3545, train_label_loss: 0.0816, \n"
     ]
    },
    {
     "name": "stdout",
     "output_type": "stream",
     "text": [
      "epoch: 18, [batch: 5 / 45], examples_per_second: 3956.8662, train_label_loss: 0.1280, \n"
     ]
    },
    {
     "name": "stdout",
     "output_type": "stream",
     "text": [
      "epoch: 18, [batch: 9 / 45], examples_per_second: 4062.3268, train_label_loss: 0.1732, \n"
     ]
    },
    {
     "name": "stdout",
     "output_type": "stream",
     "text": [
      "epoch: 18, [batch: 14 / 45], examples_per_second: 4067.7421, train_label_loss: 0.1179, \n"
     ]
    },
    {
     "name": "stdout",
     "output_type": "stream",
     "text": [
      "epoch: 18, [batch: 18 / 45], examples_per_second: 4070.1169, train_label_loss: 0.0816, \n"
     ]
    },
    {
     "name": "stdout",
     "output_type": "stream",
     "text": [
      "epoch: 18, [batch: 23 / 45], examples_per_second: 4008.5420, train_label_loss: 0.1853, \n"
     ]
    },
    {
     "name": "stdout",
     "output_type": "stream",
     "text": [
      "epoch: 18, [batch: 27 / 45], examples_per_second: 4125.4299, train_label_loss: 0.1061, \n"
     ]
    },
    {
     "name": "stdout",
     "output_type": "stream",
     "text": [
      "epoch: 18, [batch: 31 / 45], examples_per_second: 4126.9350, train_label_loss: 0.0774, \n"
     ]
    },
    {
     "name": "stdout",
     "output_type": "stream",
     "text": [
      "epoch: 18, [batch: 36 / 45], examples_per_second: 4157.2419, train_label_loss: 0.1532, \n"
     ]
    },
    {
     "name": "stdout",
     "output_type": "stream",
     "text": [
      "epoch: 18, [batch: 40 / 45], examples_per_second: 4210.7990, train_label_loss: 0.1160, \n"
     ]
    },
    {
     "name": "stdout",
     "output_type": "stream",
     "text": [
      "=============================================================\n",
      "epoch: 18, source_val_acc_label: 0.9532, target_val_acc_label: 0.8786, source_val_label_loss: 0.2888, target_val_label_loss: 0.7027, \n",
      "=============================================================\n"
     ]
    },
    {
     "name": "stdout",
     "output_type": "stream",
     "text": [
      "New best\n"
     ]
    },
    {
     "name": "stdout",
     "output_type": "stream",
     "text": [
      "epoch: 19, [batch: 1 / 45], examples_per_second: 486.5101, train_label_loss: 0.0623, \n"
     ]
    },
    {
     "name": "stdout",
     "output_type": "stream",
     "text": [
      "epoch: 19, [batch: 5 / 45], examples_per_second: 3948.6537, train_label_loss: 0.1302, \n"
     ]
    },
    {
     "name": "stdout",
     "output_type": "stream",
     "text": [
      "epoch: 19, [batch: 9 / 45], examples_per_second: 4055.5089, train_label_loss: 0.0842, \n"
     ]
    },
    {
     "name": "stdout",
     "output_type": "stream",
     "text": [
      "epoch: 19, [batch: 14 / 45], examples_per_second: 4057.4651, train_label_loss: 0.1159, \n"
     ]
    },
    {
     "name": "stdout",
     "output_type": "stream",
     "text": [
      "epoch: 19, [batch: 18 / 45], examples_per_second: 4060.3378, train_label_loss: 0.0567, \n"
     ]
    },
    {
     "name": "stdout",
     "output_type": "stream",
     "text": [
      "epoch: 19, [batch: 23 / 45], examples_per_second: 4002.0563, train_label_loss: 0.0587, \n"
     ]
    },
    {
     "name": "stdout",
     "output_type": "stream",
     "text": [
      "epoch: 19, [batch: 27 / 45], examples_per_second: 4109.2969, train_label_loss: 0.1214, \n"
     ]
    },
    {
     "name": "stdout",
     "output_type": "stream",
     "text": [
      "epoch: 19, [batch: 31 / 45], examples_per_second: 4099.8020, train_label_loss: 0.0592, \n"
     ]
    },
    {
     "name": "stdout",
     "output_type": "stream",
     "text": [
      "epoch: 19, [batch: 36 / 45], examples_per_second: 4152.5308, train_label_loss: 0.0183, \n"
     ]
    },
    {
     "name": "stdout",
     "output_type": "stream",
     "text": [
      "epoch: 19, [batch: 40 / 45], examples_per_second: 4209.9196, train_label_loss: 0.1361, \n"
     ]
    },
    {
     "name": "stdout",
     "output_type": "stream",
     "text": [
      "=============================================================\n",
      "epoch: 19, source_val_acc_label: 0.9609, target_val_acc_label: 0.8786, source_val_label_loss: 0.2713, target_val_label_loss: 0.7219, \n",
      "=============================================================\n"
     ]
    },
    {
     "name": "stdout",
     "output_type": "stream",
     "text": [
      "epoch: 20, [batch: 1 / 45], examples_per_second: 500.7633, train_label_loss: 0.1129, \n"
     ]
    },
    {
     "name": "stdout",
     "output_type": "stream",
     "text": [
      "epoch: 20, [batch: 5 / 45], examples_per_second: 3964.4570, train_label_loss: 0.1001, \n"
     ]
    },
    {
     "name": "stdout",
     "output_type": "stream",
     "text": [
      "epoch: 20, [batch: 9 / 45], examples_per_second: 4058.2904, train_label_loss: 0.1050, \n"
     ]
    },
    {
     "name": "stdout",
     "output_type": "stream",
     "text": [
      "epoch: 20, [batch: 14 / 45], examples_per_second: 4069.8833, train_label_loss: 0.1075, \n"
     ]
    },
    {
     "name": "stdout",
     "output_type": "stream",
     "text": [
      "epoch: 20, [batch: 18 / 45], examples_per_second: 4063.8316, train_label_loss: 0.0627, \n"
     ]
    },
    {
     "name": "stdout",
     "output_type": "stream",
     "text": [
      "epoch: 20, [batch: 23 / 45], examples_per_second: 4009.8638, train_label_loss: 0.1659, \n"
     ]
    },
    {
     "name": "stdout",
     "output_type": "stream",
     "text": [
      "epoch: 20, [batch: 27 / 45], examples_per_second: 4114.0205, train_label_loss: 0.0721, \n"
     ]
    },
    {
     "name": "stdout",
     "output_type": "stream",
     "text": [
      "epoch: 20, [batch: 31 / 45], examples_per_second: 4119.4551, train_label_loss: 0.1530, \n"
     ]
    },
    {
     "name": "stdout",
     "output_type": "stream",
     "text": [
      "epoch: 20, [batch: 36 / 45], examples_per_second: 4155.4879, train_label_loss: 0.1314, \n"
     ]
    },
    {
     "name": "stdout",
     "output_type": "stream",
     "text": [
      "epoch: 20, [batch: 40 / 45], examples_per_second: 4210.2641, train_label_loss: 0.0800, \n"
     ]
    },
    {
     "name": "stdout",
     "output_type": "stream",
     "text": [
      "=============================================================\n",
      "epoch: 20, source_val_acc_label: 0.9532, target_val_acc_label: 0.8782, source_val_label_loss: 0.2948, target_val_label_loss: 0.7287, \n",
      "=============================================================\n"
     ]
    },
    {
     "name": "stdout",
     "output_type": "stream",
     "text": [
      "epoch: 21, [batch: 1 / 45], examples_per_second: 500.0832, train_label_loss: 0.1796, \n"
     ]
    },
    {
     "name": "stdout",
     "output_type": "stream",
     "text": [
      "epoch: 21, [batch: 5 / 45], examples_per_second: 3967.1222, train_label_loss: 0.0985, \n"
     ]
    },
    {
     "name": "stdout",
     "output_type": "stream",
     "text": [
      "epoch: 21, [batch: 9 / 45], examples_per_second: 4073.8877, train_label_loss: 0.1092, \n"
     ]
    },
    {
     "name": "stdout",
     "output_type": "stream",
     "text": [
      "epoch: 21, [batch: 14 / 45], examples_per_second: 4065.4396, train_label_loss: 0.0324, \n"
     ]
    },
    {
     "name": "stdout",
     "output_type": "stream",
     "text": [
      "epoch: 21, [batch: 18 / 45], examples_per_second: 4068.5680, train_label_loss: 0.0663, \n"
     ]
    },
    {
     "name": "stdout",
     "output_type": "stream",
     "text": [
      "epoch: 21, [batch: 23 / 45], examples_per_second: 4004.7923, train_label_loss: 0.0480, \n"
     ]
    },
    {
     "name": "stdout",
     "output_type": "stream",
     "text": [
      "epoch: 21, [batch: 27 / 45], examples_per_second: 4123.3662, train_label_loss: 0.0480, \n"
     ]
    },
    {
     "name": "stdout",
     "output_type": "stream",
     "text": [
      "epoch: 21, [batch: 31 / 45], examples_per_second: 4117.7658, train_label_loss: 0.0260, \n"
     ]
    },
    {
     "name": "stdout",
     "output_type": "stream",
     "text": [
      "epoch: 21, [batch: 36 / 45], examples_per_second: 4163.0860, train_label_loss: 0.0485, \n"
     ]
    },
    {
     "name": "stdout",
     "output_type": "stream",
     "text": [
      "epoch: 21, [batch: 40 / 45], examples_per_second: 4212.8844, train_label_loss: 0.0850, \n"
     ]
    },
    {
     "name": "stdout",
     "output_type": "stream",
     "text": [
      "=============================================================\n",
      "epoch: 21, source_val_acc_label: 0.9583, target_val_acc_label: 0.8831, source_val_label_loss: 0.2903, target_val_label_loss: 0.6902, \n",
      "=============================================================\n"
     ]
    },
    {
     "name": "stdout",
     "output_type": "stream",
     "text": [
      "New best\n"
     ]
    },
    {
     "name": "stdout",
     "output_type": "stream",
     "text": [
      "epoch: 22, [batch: 1 / 45], examples_per_second: 487.0572, train_label_loss: 0.0698, \n"
     ]
    },
    {
     "name": "stdout",
     "output_type": "stream",
     "text": [
      "epoch: 22, [batch: 5 / 45], examples_per_second: 3969.0989, train_label_loss: 0.0235, \n"
     ]
    },
    {
     "name": "stdout",
     "output_type": "stream",
     "text": [
      "epoch: 22, [batch: 9 / 45], examples_per_second: 4065.9680, train_label_loss: 0.0694, \n"
     ]
    },
    {
     "name": "stdout",
     "output_type": "stream",
     "text": [
      "epoch: 22, [batch: 14 / 45], examples_per_second: 4056.3856, train_label_loss: 0.0239, \n"
     ]
    },
    {
     "name": "stdout",
     "output_type": "stream",
     "text": [
      "epoch: 22, [batch: 18 / 45], examples_per_second: 4063.0457, train_label_loss: 0.0409, \n"
     ]
    },
    {
     "name": "stdout",
     "output_type": "stream",
     "text": [
      "epoch: 22, [batch: 23 / 45], examples_per_second: 4013.0559, train_label_loss: 0.1079, \n"
     ]
    },
    {
     "name": "stdout",
     "output_type": "stream",
     "text": [
      "epoch: 22, [batch: 27 / 45], examples_per_second: 4124.2426, train_label_loss: 0.0980, \n"
     ]
    },
    {
     "name": "stdout",
     "output_type": "stream",
     "text": [
      "epoch: 22, [batch: 31 / 45], examples_per_second: 4132.3443, train_label_loss: 0.0379, \n"
     ]
    },
    {
     "name": "stdout",
     "output_type": "stream",
     "text": [
      "epoch: 22, [batch: 36 / 45], examples_per_second: 4152.8825, train_label_loss: 0.0268, \n"
     ]
    },
    {
     "name": "stdout",
     "output_type": "stream",
     "text": [
      "epoch: 22, [batch: 40 / 45], examples_per_second: 4215.9480, train_label_loss: 0.1218, \n"
     ]
    },
    {
     "name": "stdout",
     "output_type": "stream",
     "text": [
      "=============================================================\n",
      "epoch: 22, source_val_acc_label: 0.9564, target_val_acc_label: 0.8835, source_val_label_loss: 0.2825, target_val_label_loss: 0.6942, \n",
      "=============================================================\n"
     ]
    },
    {
     "name": "stdout",
     "output_type": "stream",
     "text": [
      "New best\n"
     ]
    },
    {
     "name": "stdout",
     "output_type": "stream",
     "text": [
      "epoch: 23, [batch: 1 / 45], examples_per_second: 487.7586, train_label_loss: 0.0516, \n"
     ]
    },
    {
     "name": "stdout",
     "output_type": "stream",
     "text": [
      "epoch: 23, [batch: 5 / 45], examples_per_second: 3974.5569, train_label_loss: 0.0799, \n"
     ]
    },
    {
     "name": "stdout",
     "output_type": "stream",
     "text": [
      "epoch: 23, [batch: 9 / 45], examples_per_second: 4060.1791, train_label_loss: 0.0482, \n"
     ]
    },
    {
     "name": "stdout",
     "output_type": "stream",
     "text": [
      "epoch: 23, [batch: 14 / 45], examples_per_second: 4052.1845, train_label_loss: 0.0766, \n"
     ]
    },
    {
     "name": "stdout",
     "output_type": "stream",
     "text": [
      "epoch: 23, [batch: 18 / 45], examples_per_second: 4063.2910, train_label_loss: 0.0156, \n"
     ]
    },
    {
     "name": "stdout",
     "output_type": "stream",
     "text": [
      "epoch: 23, [batch: 23 / 45], examples_per_second: 4010.9222, train_label_loss: 0.0344, \n"
     ]
    },
    {
     "name": "stdout",
     "output_type": "stream",
     "text": [
      "epoch: 23, [batch: 27 / 45], examples_per_second: 4111.8457, train_label_loss: 0.1419, \n"
     ]
    },
    {
     "name": "stdout",
     "output_type": "stream",
     "text": [
      "epoch: 23, [batch: 31 / 45], examples_per_second: 4118.2401, train_label_loss: 0.0794, \n"
     ]
    },
    {
     "name": "stdout",
     "output_type": "stream",
     "text": [
      "epoch: 23, [batch: 36 / 45], examples_per_second: 4154.4507, train_label_loss: 0.0917, \n"
     ]
    },
    {
     "name": "stdout",
     "output_type": "stream",
     "text": [
      "epoch: 23, [batch: 40 / 45], examples_per_second: 4204.4124, train_label_loss: 0.0606, \n"
     ]
    },
    {
     "name": "stdout",
     "output_type": "stream",
     "text": [
      "=============================================================\n",
      "epoch: 23, source_val_acc_label: 0.9538, target_val_acc_label: 0.8844, source_val_label_loss: 0.2931, target_val_label_loss: 0.6965, \n",
      "=============================================================\n"
     ]
    },
    {
     "name": "stdout",
     "output_type": "stream",
     "text": [
      "New best\n"
     ]
    },
    {
     "name": "stdout",
     "output_type": "stream",
     "text": [
      "epoch: 24, [batch: 1 / 45], examples_per_second: 482.0631, train_label_loss: 0.0224, \n"
     ]
    },
    {
     "name": "stdout",
     "output_type": "stream",
     "text": [
      "epoch: 24, [batch: 5 / 45], examples_per_second: 3954.2133, train_label_loss: 0.0528, \n"
     ]
    },
    {
     "name": "stdout",
     "output_type": "stream",
     "text": [
      "epoch: 24, [batch: 9 / 45], examples_per_second: 4043.6126, train_label_loss: 0.0617, \n"
     ]
    },
    {
     "name": "stdout",
     "output_type": "stream",
     "text": [
      "epoch: 24, [batch: 14 / 45], examples_per_second: 4055.6048, train_label_loss: 0.0986, \n"
     ]
    },
    {
     "name": "stdout",
     "output_type": "stream",
     "text": [
      "epoch: 24, [batch: 18 / 45], examples_per_second: 4075.3127, train_label_loss: 0.1509, \n"
     ]
    },
    {
     "name": "stdout",
     "output_type": "stream",
     "text": [
      "epoch: 24, [batch: 23 / 45], examples_per_second: 4021.8591, train_label_loss: 0.0602, \n"
     ]
    },
    {
     "name": "stdout",
     "output_type": "stream",
     "text": [
      "epoch: 24, [batch: 27 / 45], examples_per_second: 4124.1771, train_label_loss: 0.0204, \n"
     ]
    },
    {
     "name": "stdout",
     "output_type": "stream",
     "text": [
      "epoch: 24, [batch: 31 / 45], examples_per_second: 4118.4252, train_label_loss: 0.0451, \n"
     ]
    },
    {
     "name": "stdout",
     "output_type": "stream",
     "text": [
      "epoch: 24, [batch: 36 / 45], examples_per_second: 4158.1181, train_label_loss: 0.1449, \n"
     ]
    },
    {
     "name": "stdout",
     "output_type": "stream",
     "text": [
      "epoch: 24, [batch: 40 / 45], examples_per_second: 4210.5698, train_label_loss: 0.1472, \n"
     ]
    },
    {
     "name": "stdout",
     "output_type": "stream",
     "text": [
      "=============================================================\n",
      "epoch: 24, source_val_acc_label: 0.9583, target_val_acc_label: 0.8818, source_val_label_loss: 0.2867, target_val_label_loss: 0.7180, \n",
      "=============================================================\n"
     ]
    },
    {
     "name": "stdout",
     "output_type": "stream",
     "text": [
      "epoch: 25, [batch: 1 / 45], examples_per_second: 503.1499, train_label_loss: 0.0774, \n"
     ]
    },
    {
     "name": "stdout",
     "output_type": "stream",
     "text": [
      "epoch: 25, [batch: 5 / 45], examples_per_second: 3973.1103, train_label_loss: 0.1181, \n"
     ]
    },
    {
     "name": "stdout",
     "output_type": "stream",
     "text": [
      "epoch: 25, [batch: 9 / 45], examples_per_second: 4059.7030, train_label_loss: 0.1162, \n"
     ]
    },
    {
     "name": "stdout",
     "output_type": "stream",
     "text": [
      "epoch: 25, [batch: 14 / 45], examples_per_second: 4065.0395, train_label_loss: 0.0583, \n"
     ]
    },
    {
     "name": "stdout",
     "output_type": "stream",
     "text": [
      "epoch: 25, [batch: 18 / 45], examples_per_second: 4065.9665, train_label_loss: 0.0817, \n"
     ]
    },
    {
     "name": "stdout",
     "output_type": "stream",
     "text": [
      "epoch: 25, [batch: 23 / 45], examples_per_second: 4016.0708, train_label_loss: 0.0437, \n"
     ]
    },
    {
     "name": "stdout",
     "output_type": "stream",
     "text": [
      "epoch: 25, [batch: 27 / 45], examples_per_second: 4122.8830, train_label_loss: 0.0211, \n"
     ]
    },
    {
     "name": "stdout",
     "output_type": "stream",
     "text": [
      "epoch: 25, [batch: 31 / 45], examples_per_second: 4102.9657, train_label_loss: 0.0933, \n"
     ]
    },
    {
     "name": "stdout",
     "output_type": "stream",
     "text": [
      "epoch: 25, [batch: 36 / 45], examples_per_second: 4150.4156, train_label_loss: 0.0881, \n"
     ]
    },
    {
     "name": "stdout",
     "output_type": "stream",
     "text": [
      "epoch: 25, [batch: 40 / 45], examples_per_second: 4214.6820, train_label_loss: 0.0598, \n"
     ]
    },
    {
     "name": "stdout",
     "output_type": "stream",
     "text": [
      "=============================================================\n",
      "epoch: 25, source_val_acc_label: 0.9596, target_val_acc_label: 0.8833, source_val_label_loss: 0.2850, target_val_label_loss: 0.7036, \n",
      "=============================================================\n"
     ]
    },
    {
     "name": "stdout",
     "output_type": "stream",
     "text": [
      "epoch: 26, [batch: 1 / 45], examples_per_second: 500.8410, train_label_loss: 0.0213, \n"
     ]
    },
    {
     "name": "stdout",
     "output_type": "stream",
     "text": [
      "epoch: 26, [batch: 5 / 45], examples_per_second: 3976.0002, train_label_loss: 0.0325, \n"
     ]
    },
    {
     "name": "stdout",
     "output_type": "stream",
     "text": [
      "epoch: 26, [batch: 9 / 45], examples_per_second: 4061.2587, train_label_loss: 0.1070, \n"
     ]
    },
    {
     "name": "stdout",
     "output_type": "stream",
     "text": [
      "epoch: 26, [batch: 14 / 45], examples_per_second: 4073.6951, train_label_loss: 0.0764, \n"
     ]
    },
    {
     "name": "stdout",
     "output_type": "stream",
     "text": [
      "epoch: 26, [batch: 18 / 45], examples_per_second: 4074.3748, train_label_loss: 0.0792, \n"
     ]
    },
    {
     "name": "stdout",
     "output_type": "stream",
     "text": [
      "epoch: 26, [batch: 23 / 45], examples_per_second: 4023.2253, train_label_loss: 0.1472, \n"
     ]
    },
    {
     "name": "stdout",
     "output_type": "stream",
     "text": [
      "epoch: 26, [batch: 27 / 45], examples_per_second: 4127.2676, train_label_loss: 0.1030, \n"
     ]
    },
    {
     "name": "stdout",
     "output_type": "stream",
     "text": [
      "epoch: 26, [batch: 31 / 45], examples_per_second: 4134.6866, train_label_loss: 0.0544, \n"
     ]
    },
    {
     "name": "stdout",
     "output_type": "stream",
     "text": [
      "epoch: 26, [batch: 36 / 45], examples_per_second: 4163.6277, train_label_loss: 0.0853, \n"
     ]
    },
    {
     "name": "stdout",
     "output_type": "stream",
     "text": [
      "epoch: 26, [batch: 40 / 45], examples_per_second: 4214.6005, train_label_loss: 0.0600, \n"
     ]
    },
    {
     "name": "stdout",
     "output_type": "stream",
     "text": [
      "=============================================================\n",
      "epoch: 26, source_val_acc_label: 0.9583, target_val_acc_label: 0.8846, source_val_label_loss: 0.2895, target_val_label_loss: 0.6828, \n",
      "=============================================================\n"
     ]
    },
    {
     "name": "stdout",
     "output_type": "stream",
     "text": [
      "New best\n"
     ]
    },
    {
     "name": "stdout",
     "output_type": "stream",
     "text": [
      "epoch: 27, [batch: 1 / 45], examples_per_second: 485.3784, train_label_loss: 0.0790, \n"
     ]
    },
    {
     "name": "stdout",
     "output_type": "stream",
     "text": [
      "epoch: 27, [batch: 5 / 45], examples_per_second: 3953.3331, train_label_loss: 0.1245, \n"
     ]
    },
    {
     "name": "stdout",
     "output_type": "stream",
     "text": [
      "epoch: 27, [batch: 9 / 45], examples_per_second: 4061.8759, train_label_loss: 0.0481, \n"
     ]
    },
    {
     "name": "stdout",
     "output_type": "stream",
     "text": [
      "epoch: 27, [batch: 14 / 45], examples_per_second: 4066.3770, train_label_loss: 0.0430, \n"
     ]
    },
    {
     "name": "stdout",
     "output_type": "stream",
     "text": [
      "epoch: 27, [batch: 18 / 45], examples_per_second: 4055.4652, train_label_loss: 0.0341, \n"
     ]
    },
    {
     "name": "stdout",
     "output_type": "stream",
     "text": [
      "epoch: 27, [batch: 23 / 45], examples_per_second: 4011.5796, train_label_loss: 0.0940, \n"
     ]
    },
    {
     "name": "stdout",
     "output_type": "stream",
     "text": [
      "epoch: 27, [batch: 27 / 45], examples_per_second: 4121.2221, train_label_loss: 0.0096, \n"
     ]
    },
    {
     "name": "stdout",
     "output_type": "stream",
     "text": [
      "epoch: 27, [batch: 31 / 45], examples_per_second: 4129.4353, train_label_loss: 0.1475, \n"
     ]
    },
    {
     "name": "stdout",
     "output_type": "stream",
     "text": [
      "epoch: 27, [batch: 36 / 45], examples_per_second: 4152.8117, train_label_loss: 0.0524, \n"
     ]
    },
    {
     "name": "stdout",
     "output_type": "stream",
     "text": [
      "epoch: 27, [batch: 40 / 45], examples_per_second: 4212.5687, train_label_loss: 0.0445, \n"
     ]
    },
    {
     "name": "stdout",
     "output_type": "stream",
     "text": [
      "=============================================================\n",
      "epoch: 27, source_val_acc_label: 0.9571, target_val_acc_label: 0.8806, source_val_label_loss: 0.2759, target_val_label_loss: 0.7026, \n",
      "=============================================================\n"
     ]
    },
    {
     "name": "stdout",
     "output_type": "stream",
     "text": [
      "epoch: 28, [batch: 1 / 45], examples_per_second: 502.9745, train_label_loss: 0.0597, \n"
     ]
    },
    {
     "name": "stdout",
     "output_type": "stream",
     "text": [
      "epoch: 28, [batch: 5 / 45], examples_per_second: 3954.6105, train_label_loss: 0.0875, \n"
     ]
    },
    {
     "name": "stdout",
     "output_type": "stream",
     "text": [
      "epoch: 28, [batch: 9 / 45], examples_per_second: 4039.4232, train_label_loss: 0.0171, \n"
     ]
    },
    {
     "name": "stdout",
     "output_type": "stream",
     "text": [
      "epoch: 28, [batch: 14 / 45], examples_per_second: 4066.2400, train_label_loss: 0.0763, \n"
     ]
    },
    {
     "name": "stdout",
     "output_type": "stream",
     "text": [
      "epoch: 28, [batch: 18 / 45], examples_per_second: 4075.7544, train_label_loss: 0.0650, \n"
     ]
    },
    {
     "name": "stdout",
     "output_type": "stream",
     "text": [
      "epoch: 28, [batch: 23 / 45], examples_per_second: 4015.4639, train_label_loss: 0.0489, \n"
     ]
    },
    {
     "name": "stdout",
     "output_type": "stream",
     "text": [
      "epoch: 28, [batch: 27 / 45], examples_per_second: 4117.5575, train_label_loss: 0.0246, \n"
     ]
    },
    {
     "name": "stdout",
     "output_type": "stream",
     "text": [
      "epoch: 28, [batch: 31 / 45], examples_per_second: 4117.2637, train_label_loss: 0.0367, \n"
     ]
    },
    {
     "name": "stdout",
     "output_type": "stream",
     "text": [
      "epoch: 28, [batch: 36 / 45], examples_per_second: 4147.8872, train_label_loss: 0.0461, \n"
     ]
    },
    {
     "name": "stdout",
     "output_type": "stream",
     "text": [
      "epoch: 28, [batch: 40 / 45], examples_per_second: 4210.6023, train_label_loss: 0.0564, \n"
     ]
    },
    {
     "name": "stdout",
     "output_type": "stream",
     "text": [
      "=============================================================\n",
      "epoch: 28, source_val_acc_label: 0.9571, target_val_acc_label: 0.8842, source_val_label_loss: 0.3065, target_val_label_loss: 0.7088, \n",
      "=============================================================\n"
     ]
    },
    {
     "name": "stdout",
     "output_type": "stream",
     "text": [
      "epoch: 29, [batch: 1 / 45], examples_per_second: 499.1887, train_label_loss: 0.1021, \n"
     ]
    },
    {
     "name": "stdout",
     "output_type": "stream",
     "text": [
      "epoch: 29, [batch: 5 / 45], examples_per_second: 3955.5816, train_label_loss: 0.0828, \n"
     ]
    },
    {
     "name": "stdout",
     "output_type": "stream",
     "text": [
      "epoch: 29, [batch: 9 / 45], examples_per_second: 4053.6758, train_label_loss: 0.0846, \n"
     ]
    },
    {
     "name": "stdout",
     "output_type": "stream",
     "text": [
      "epoch: 29, [batch: 14 / 45], examples_per_second: 4056.2058, train_label_loss: 0.0353, \n"
     ]
    },
    {
     "name": "stdout",
     "output_type": "stream",
     "text": [
      "epoch: 29, [batch: 18 / 45], examples_per_second: 4038.8323, train_label_loss: 0.0684, \n"
     ]
    },
    {
     "name": "stdout",
     "output_type": "stream",
     "text": [
      "epoch: 29, [batch: 23 / 45], examples_per_second: 4000.8981, train_label_loss: 0.1262, \n"
     ]
    },
    {
     "name": "stdout",
     "output_type": "stream",
     "text": [
      "epoch: 29, [batch: 27 / 45], examples_per_second: 4116.3281, train_label_loss: 0.0872, \n"
     ]
    },
    {
     "name": "stdout",
     "output_type": "stream",
     "text": [
      "epoch: 29, [batch: 31 / 45], examples_per_second: 4110.5298, train_label_loss: 0.1278, \n"
     ]
    },
    {
     "name": "stdout",
     "output_type": "stream",
     "text": [
      "epoch: 29, [batch: 36 / 45], examples_per_second: 4139.6819, train_label_loss: 0.0295, \n"
     ]
    },
    {
     "name": "stdout",
     "output_type": "stream",
     "text": [
      "epoch: 29, [batch: 40 / 45], examples_per_second: 4191.4683, train_label_loss: 0.1405, \n"
     ]
    },
    {
     "name": "stdout",
     "output_type": "stream",
     "text": [
      "=============================================================\n",
      "epoch: 29, source_val_acc_label: 0.9583, target_val_acc_label: 0.8806, source_val_label_loss: 0.2881, target_val_label_loss: 0.7010, \n",
      "=============================================================\n"
     ]
    },
    {
     "name": "stdout",
     "output_type": "stream",
     "text": [
      "epoch: 30, [batch: 1 / 45], examples_per_second: 500.8166, train_label_loss: 0.1074, \n"
     ]
    },
    {
     "name": "stdout",
     "output_type": "stream",
     "text": [
      "epoch: 30, [batch: 5 / 45], examples_per_second: 3957.0026, train_label_loss: 0.0833, \n"
     ]
    },
    {
     "name": "stdout",
     "output_type": "stream",
     "text": [
      "epoch: 30, [batch: 9 / 45], examples_per_second: 4046.2336, train_label_loss: 0.0666, \n"
     ]
    },
    {
     "name": "stdout",
     "output_type": "stream",
     "text": [
      "epoch: 30, [batch: 14 / 45], examples_per_second: 4061.7243, train_label_loss: 0.0963, \n"
     ]
    },
    {
     "name": "stdout",
     "output_type": "stream",
     "text": [
      "epoch: 30, [batch: 18 / 45], examples_per_second: 4051.6320, train_label_loss: 0.0835, \n"
     ]
    },
    {
     "name": "stdout",
     "output_type": "stream",
     "text": [
      "epoch: 30, [batch: 23 / 45], examples_per_second: 4003.0999, train_label_loss: 0.0818, \n"
     ]
    },
    {
     "name": "stdout",
     "output_type": "stream",
     "text": [
      "epoch: 30, [batch: 27 / 45], examples_per_second: 4104.9163, train_label_loss: 0.0740, \n"
     ]
    },
    {
     "name": "stdout",
     "output_type": "stream",
     "text": [
      "epoch: 30, [batch: 31 / 45], examples_per_second: 4102.9981, train_label_loss: 0.1058, \n"
     ]
    },
    {
     "name": "stdout",
     "output_type": "stream",
     "text": [
      "epoch: 30, [batch: 36 / 45], examples_per_second: 4143.6999, train_label_loss: 0.1115, \n"
     ]
    },
    {
     "name": "stdout",
     "output_type": "stream",
     "text": [
      "epoch: 30, [batch: 40 / 45], examples_per_second: 4198.3392, train_label_loss: 0.1214, \n"
     ]
    },
    {
     "name": "stdout",
     "output_type": "stream",
     "text": [
      "=============================================================\n",
      "epoch: 30, source_val_acc_label: 0.9609, target_val_acc_label: 0.8857, source_val_label_loss: 0.2997, target_val_label_loss: 0.7058, \n",
      "=============================================================\n"
     ]
    },
    {
     "name": "stdout",
     "output_type": "stream",
     "text": [
      "New best\n"
     ]
    },
    {
     "name": "stdout",
     "output_type": "stream",
     "text": [
      "epoch: 31, [batch: 1 / 45], examples_per_second: 490.9732, train_label_loss: 0.0800, \n"
     ]
    },
    {
     "name": "stdout",
     "output_type": "stream",
     "text": [
      "epoch: 31, [batch: 5 / 45], examples_per_second: 3959.6850, train_label_loss: 0.0364, \n"
     ]
    },
    {
     "name": "stdout",
     "output_type": "stream",
     "text": [
      "epoch: 31, [batch: 9 / 45], examples_per_second: 4062.8111, train_label_loss: 0.0376, \n"
     ]
    },
    {
     "name": "stdout",
     "output_type": "stream",
     "text": [
      "epoch: 31, [batch: 14 / 45], examples_per_second: 4077.2237, train_label_loss: 0.0114, \n"
     ]
    },
    {
     "name": "stdout",
     "output_type": "stream",
     "text": [
      "epoch: 31, [batch: 18 / 45], examples_per_second: 4056.4034, train_label_loss: 0.0308, \n"
     ]
    },
    {
     "name": "stdout",
     "output_type": "stream",
     "text": [
      "epoch: 31, [batch: 23 / 45], examples_per_second: 4011.7437, train_label_loss: 0.0488, \n"
     ]
    },
    {
     "name": "stdout",
     "output_type": "stream",
     "text": [
      "epoch: 31, [batch: 27 / 45], examples_per_second: 4116.7989, train_label_loss: 0.0771, \n"
     ]
    },
    {
     "name": "stdout",
     "output_type": "stream",
     "text": [
      "epoch: 31, [batch: 31 / 45], examples_per_second: 4117.8218, train_label_loss: 0.0344, \n"
     ]
    },
    {
     "name": "stdout",
     "output_type": "stream",
     "text": [
      "epoch: 31, [batch: 36 / 45], examples_per_second: 4156.4205, train_label_loss: 0.0435, \n"
     ]
    },
    {
     "name": "stdout",
     "output_type": "stream",
     "text": [
      "epoch: 31, [batch: 40 / 45], examples_per_second: 4217.2752, train_label_loss: 0.1066, \n"
     ]
    },
    {
     "name": "stdout",
     "output_type": "stream",
     "text": [
      "=============================================================\n",
      "epoch: 31, source_val_acc_label: 0.9635, target_val_acc_label: 0.8835, source_val_label_loss: 0.2815, target_val_label_loss: 0.6944, \n",
      "=============================================================\n"
     ]
    },
    {
     "name": "stdout",
     "output_type": "stream",
     "text": [
      "epoch: 32, [batch: 1 / 45], examples_per_second: 500.8143, train_label_loss: 0.0817, \n"
     ]
    },
    {
     "name": "stdout",
     "output_type": "stream",
     "text": [
      "epoch: 32, [batch: 5 / 45], examples_per_second: 3965.8079, train_label_loss: 0.0389, \n"
     ]
    },
    {
     "name": "stdout",
     "output_type": "stream",
     "text": [
      "epoch: 32, [batch: 9 / 45], examples_per_second: 4068.4329, train_label_loss: 0.0302, \n"
     ]
    },
    {
     "name": "stdout",
     "output_type": "stream",
     "text": [
      "epoch: 32, [batch: 14 / 45], examples_per_second: 4072.1763, train_label_loss: 0.0484, \n"
     ]
    },
    {
     "name": "stdout",
     "output_type": "stream",
     "text": [
      "epoch: 32, [batch: 18 / 45], examples_per_second: 4052.2418, train_label_loss: 0.0496, \n"
     ]
    },
    {
     "name": "stdout",
     "output_type": "stream",
     "text": [
      "epoch: 32, [batch: 23 / 45], examples_per_second: 4016.2672, train_label_loss: 0.0328, \n"
     ]
    },
    {
     "name": "stdout",
     "output_type": "stream",
     "text": [
      "epoch: 32, [batch: 27 / 45], examples_per_second: 4120.3952, train_label_loss: 0.0703, \n"
     ]
    },
    {
     "name": "stdout",
     "output_type": "stream",
     "text": [
      "epoch: 32, [batch: 31 / 45], examples_per_second: 4129.7762, train_label_loss: 0.0279, \n"
     ]
    },
    {
     "name": "stdout",
     "output_type": "stream",
     "text": [
      "epoch: 32, [batch: 36 / 45], examples_per_second: 4137.1716, train_label_loss: 0.0227, \n"
     ]
    },
    {
     "name": "stdout",
     "output_type": "stream",
     "text": [
      "epoch: 32, [batch: 40 / 45], examples_per_second: 4205.2749, train_label_loss: 0.1133, \n"
     ]
    },
    {
     "name": "stdout",
     "output_type": "stream",
     "text": [
      "=============================================================\n",
      "epoch: 32, source_val_acc_label: 0.9596, target_val_acc_label: 0.8842, source_val_label_loss: 0.2831, target_val_label_loss: 0.7173, \n",
      "=============================================================\n"
     ]
    },
    {
     "name": "stdout",
     "output_type": "stream",
     "text": [
      "epoch: 33, [batch: 1 / 45], examples_per_second: 499.9556, train_label_loss: 0.1277, \n"
     ]
    },
    {
     "name": "stdout",
     "output_type": "stream",
     "text": [
      "epoch: 33, [batch: 5 / 45], examples_per_second: 3970.6799, train_label_loss: 0.0824, \n"
     ]
    },
    {
     "name": "stdout",
     "output_type": "stream",
     "text": [
      "epoch: 33, [batch: 9 / 45], examples_per_second: 4063.0896, train_label_loss: 0.0452, \n"
     ]
    },
    {
     "name": "stdout",
     "output_type": "stream",
     "text": [
      "epoch: 33, [batch: 14 / 45], examples_per_second: 4066.5651, train_label_loss: 0.0828, \n"
     ]
    },
    {
     "name": "stdout",
     "output_type": "stream",
     "text": [
      "epoch: 33, [batch: 18 / 45], examples_per_second: 4062.1694, train_label_loss: 0.1814, \n"
     ]
    },
    {
     "name": "stdout",
     "output_type": "stream",
     "text": [
      "epoch: 33, [batch: 23 / 45], examples_per_second: 4005.4113, train_label_loss: 0.0425, \n"
     ]
    },
    {
     "name": "stdout",
     "output_type": "stream",
     "text": [
      "epoch: 33, [batch: 27 / 45], examples_per_second: 4129.2383, train_label_loss: 0.0529, \n"
     ]
    },
    {
     "name": "stdout",
     "output_type": "stream",
     "text": [
      "epoch: 33, [batch: 31 / 45], examples_per_second: 4118.2619, train_label_loss: 0.0724, \n"
     ]
    },
    {
     "name": "stdout",
     "output_type": "stream",
     "text": [
      "epoch: 33, [batch: 36 / 45], examples_per_second: 4151.1803, train_label_loss: 0.0474, \n"
     ]
    },
    {
     "name": "stdout",
     "output_type": "stream",
     "text": [
      "epoch: 33, [batch: 40 / 45], examples_per_second: 4208.2268, train_label_loss: 0.0074, \n"
     ]
    },
    {
     "name": "stdout",
     "output_type": "stream",
     "text": [
      "=============================================================\n",
      "epoch: 33, source_val_acc_label: 0.9603, target_val_acc_label: 0.8842, source_val_label_loss: 0.2901, target_val_label_loss: 0.7001, \n",
      "=============================================================\n"
     ]
    },
    {
     "name": "stdout",
     "output_type": "stream",
     "text": [
      "epoch: 34, [batch: 1 / 45], examples_per_second: 502.9675, train_label_loss: 0.1135, \n"
     ]
    },
    {
     "name": "stdout",
     "output_type": "stream",
     "text": [
      "epoch: 34, [batch: 5 / 45], examples_per_second: 3977.8203, train_label_loss: 0.0473, \n"
     ]
    },
    {
     "name": "stdout",
     "output_type": "stream",
     "text": [
      "epoch: 34, [batch: 9 / 45], examples_per_second: 4071.6943, train_label_loss: 0.1206, \n"
     ]
    },
    {
     "name": "stdout",
     "output_type": "stream",
     "text": [
      "epoch: 34, [batch: 14 / 45], examples_per_second: 4074.4512, train_label_loss: 0.0462, \n"
     ]
    },
    {
     "name": "stdout",
     "output_type": "stream",
     "text": [
      "epoch: 34, [batch: 18 / 45], examples_per_second: 4079.0413, train_label_loss: 0.0232, \n"
     ]
    },
    {
     "name": "stdout",
     "output_type": "stream",
     "text": [
      "epoch: 34, [batch: 23 / 45], examples_per_second: 4021.7487, train_label_loss: 0.1043, \n"
     ]
    },
    {
     "name": "stdout",
     "output_type": "stream",
     "text": [
      "epoch: 34, [batch: 27 / 45], examples_per_second: 4132.5510, train_label_loss: 0.0223, \n"
     ]
    },
    {
     "name": "stdout",
     "output_type": "stream",
     "text": [
      "epoch: 34, [batch: 31 / 45], examples_per_second: 4132.0342, train_label_loss: 0.0368, \n"
     ]
    },
    {
     "name": "stdout",
     "output_type": "stream",
     "text": [
      "epoch: 34, [batch: 36 / 45], examples_per_second: 4162.6207, train_label_loss: 0.0895, \n"
     ]
    },
    {
     "name": "stdout",
     "output_type": "stream",
     "text": [
      "epoch: 34, [batch: 40 / 45], examples_per_second: 4210.5828, train_label_loss: 0.1015, \n"
     ]
    },
    {
     "name": "stdout",
     "output_type": "stream",
     "text": [
      "=============================================================\n",
      "epoch: 34, source_val_acc_label: 0.9558, target_val_acc_label: 0.8870, source_val_label_loss: 0.3027, target_val_label_loss: 0.7103, \n",
      "=============================================================\n"
     ]
    },
    {
     "name": "stdout",
     "output_type": "stream",
     "text": [
      "New best\n"
     ]
    },
    {
     "name": "stdout",
     "output_type": "stream",
     "text": [
      "epoch: 35, [batch: 1 / 45], examples_per_second: 484.9119, train_label_loss: 0.0095, \n"
     ]
    },
    {
     "name": "stdout",
     "output_type": "stream",
     "text": [
      "epoch: 35, [batch: 5 / 45], examples_per_second: 3965.2642, train_label_loss: 0.0344, \n"
     ]
    },
    {
     "name": "stdout",
     "output_type": "stream",
     "text": [
      "epoch: 35, [batch: 9 / 45], examples_per_second: 4066.0635, train_label_loss: 0.0557, \n"
     ]
    },
    {
     "name": "stdout",
     "output_type": "stream",
     "text": [
      "epoch: 35, [batch: 14 / 45], examples_per_second: 4066.8477, train_label_loss: 0.0546, \n"
     ]
    },
    {
     "name": "stdout",
     "output_type": "stream",
     "text": [
      "epoch: 35, [batch: 18 / 45], examples_per_second: 4070.9708, train_label_loss: 0.1145, \n"
     ]
    },
    {
     "name": "stdout",
     "output_type": "stream",
     "text": [
      "epoch: 35, [batch: 23 / 45], examples_per_second: 4020.0029, train_label_loss: 0.0606, \n"
     ]
    },
    {
     "name": "stdout",
     "output_type": "stream",
     "text": [
      "epoch: 35, [batch: 27 / 45], examples_per_second: 4101.2344, train_label_loss: 0.1238, \n"
     ]
    },
    {
     "name": "stdout",
     "output_type": "stream",
     "text": [
      "epoch: 35, [batch: 31 / 45], examples_per_second: 4126.6882, train_label_loss: 0.0415, \n"
     ]
    },
    {
     "name": "stdout",
     "output_type": "stream",
     "text": [
      "epoch: 35, [batch: 36 / 45], examples_per_second: 4158.7207, train_label_loss: 0.0714, \n"
     ]
    },
    {
     "name": "stdout",
     "output_type": "stream",
     "text": [
      "epoch: 35, [batch: 40 / 45], examples_per_second: 4208.4492, train_label_loss: 0.0650, \n"
     ]
    },
    {
     "name": "stdout",
     "output_type": "stream",
     "text": [
      "=============================================================\n",
      "epoch: 35, source_val_acc_label: 0.9590, target_val_acc_label: 0.8831, source_val_label_loss: 0.2924, target_val_label_loss: 0.7073, \n",
      "=============================================================\n"
     ]
    },
    {
     "name": "stdout",
     "output_type": "stream",
     "text": [
      "epoch: 36, [batch: 1 / 45], examples_per_second: 500.9726, train_label_loss: 0.0706, \n"
     ]
    },
    {
     "name": "stdout",
     "output_type": "stream",
     "text": [
      "epoch: 36, [batch: 5 / 45], examples_per_second: 3958.4561, train_label_loss: 0.0421, \n"
     ]
    },
    {
     "name": "stdout",
     "output_type": "stream",
     "text": [
      "epoch: 36, [batch: 9 / 45], examples_per_second: 4062.9534, train_label_loss: 0.0772, \n"
     ]
    },
    {
     "name": "stdout",
     "output_type": "stream",
     "text": [
      "epoch: 36, [batch: 14 / 45], examples_per_second: 4054.0428, train_label_loss: 0.0718, \n"
     ]
    },
    {
     "name": "stdout",
     "output_type": "stream",
     "text": [
      "epoch: 36, [batch: 18 / 45], examples_per_second: 4066.5714, train_label_loss: 0.0281, \n"
     ]
    },
    {
     "name": "stdout",
     "output_type": "stream",
     "text": [
      "epoch: 36, [batch: 23 / 45], examples_per_second: 4011.2857, train_label_loss: 0.0671, \n"
     ]
    },
    {
     "name": "stdout",
     "output_type": "stream",
     "text": [
      "epoch: 36, [batch: 27 / 45], examples_per_second: 4112.6179, train_label_loss: 0.0757, \n"
     ]
    },
    {
     "name": "stdout",
     "output_type": "stream",
     "text": [
      "epoch: 36, [batch: 31 / 45], examples_per_second: 4126.7413, train_label_loss: 0.0453, \n"
     ]
    },
    {
     "name": "stdout",
     "output_type": "stream",
     "text": [
      "epoch: 36, [batch: 36 / 45], examples_per_second: 4160.6806, train_label_loss: 0.1120, \n"
     ]
    },
    {
     "name": "stdout",
     "output_type": "stream",
     "text": [
      "epoch: 36, [batch: 40 / 45], examples_per_second: 4213.5616, train_label_loss: 0.0502, \n"
     ]
    },
    {
     "name": "stdout",
     "output_type": "stream",
     "text": [
      "=============================================================\n",
      "epoch: 36, source_val_acc_label: 0.9635, target_val_acc_label: 0.8872, source_val_label_loss: 0.2929, target_val_label_loss: 0.7196, \n",
      "=============================================================\n"
     ]
    },
    {
     "name": "stdout",
     "output_type": "stream",
     "text": [
      "New best\n"
     ]
    },
    {
     "name": "stdout",
     "output_type": "stream",
     "text": [
      "epoch: 37, [batch: 1 / 45], examples_per_second: 489.4716, train_label_loss: 0.0258, \n"
     ]
    },
    {
     "name": "stdout",
     "output_type": "stream",
     "text": [
      "epoch: 37, [batch: 5 / 45], examples_per_second: 3971.1599, train_label_loss: 0.0854, \n"
     ]
    },
    {
     "name": "stdout",
     "output_type": "stream",
     "text": [
      "epoch: 37, [batch: 9 / 45], examples_per_second: 4070.9100, train_label_loss: 0.0415, \n"
     ]
    },
    {
     "name": "stdout",
     "output_type": "stream",
     "text": [
      "epoch: 37, [batch: 14 / 45], examples_per_second: 4053.4184, train_label_loss: 0.0322, \n"
     ]
    },
    {
     "name": "stdout",
     "output_type": "stream",
     "text": [
      "epoch: 37, [batch: 18 / 45], examples_per_second: 4078.0696, train_label_loss: 0.0120, \n"
     ]
    },
    {
     "name": "stdout",
     "output_type": "stream",
     "text": [
      "epoch: 37, [batch: 23 / 45], examples_per_second: 4017.8866, train_label_loss: 0.0791, \n"
     ]
    },
    {
     "name": "stdout",
     "output_type": "stream",
     "text": [
      "epoch: 37, [batch: 27 / 45], examples_per_second: 4127.7269, train_label_loss: 0.1529, \n"
     ]
    },
    {
     "name": "stdout",
     "output_type": "stream",
     "text": [
      "epoch: 37, [batch: 31 / 45], examples_per_second: 4123.9853, train_label_loss: 0.1468, \n"
     ]
    },
    {
     "name": "stdout",
     "output_type": "stream",
     "text": [
      "epoch: 37, [batch: 36 / 45], examples_per_second: 4163.2703, train_label_loss: 0.0446, \n"
     ]
    },
    {
     "name": "stdout",
     "output_type": "stream",
     "text": [
      "epoch: 37, [batch: 40 / 45], examples_per_second: 4220.5118, train_label_loss: 0.0942, \n"
     ]
    },
    {
     "name": "stdout",
     "output_type": "stream",
     "text": [
      "=============================================================\n",
      "epoch: 37, source_val_acc_label: 0.9571, target_val_acc_label: 0.8842, source_val_label_loss: 0.2992, target_val_label_loss: 0.6880, \n",
      "=============================================================\n"
     ]
    },
    {
     "name": "stdout",
     "output_type": "stream",
     "text": [
      "epoch: 38, [batch: 1 / 45], examples_per_second: 501.2860, train_label_loss: 0.0422, \n"
     ]
    },
    {
     "name": "stdout",
     "output_type": "stream",
     "text": [
      "epoch: 38, [batch: 5 / 45], examples_per_second: 3960.7637, train_label_loss: 0.0056, \n"
     ]
    },
    {
     "name": "stdout",
     "output_type": "stream",
     "text": [
      "epoch: 38, [batch: 9 / 45], examples_per_second: 4055.0429, train_label_loss: 0.0457, \n"
     ]
    },
    {
     "name": "stdout",
     "output_type": "stream",
     "text": [
      "epoch: 38, [batch: 14 / 45], examples_per_second: 4064.6250, train_label_loss: 0.0527, \n"
     ]
    },
    {
     "name": "stdout",
     "output_type": "stream",
     "text": [
      "epoch: 38, [batch: 18 / 45], examples_per_second: 4065.3950, train_label_loss: 0.0507, \n"
     ]
    },
    {
     "name": "stdout",
     "output_type": "stream",
     "text": [
      "epoch: 38, [batch: 23 / 45], examples_per_second: 4013.6018, train_label_loss: 0.0878, \n"
     ]
    },
    {
     "name": "stdout",
     "output_type": "stream",
     "text": [
      "epoch: 38, [batch: 27 / 45], examples_per_second: 4122.6913, train_label_loss: 0.0117, \n"
     ]
    },
    {
     "name": "stdout",
     "output_type": "stream",
     "text": [
      "epoch: 38, [batch: 31 / 45], examples_per_second: 4119.6200, train_label_loss: 0.0385, \n"
     ]
    },
    {
     "name": "stdout",
     "output_type": "stream",
     "text": [
      "epoch: 38, [batch: 36 / 45], examples_per_second: 4159.2080, train_label_loss: 0.0412, \n"
     ]
    },
    {
     "name": "stdout",
     "output_type": "stream",
     "text": [
      "epoch: 38, [batch: 40 / 45], examples_per_second: 4215.0290, train_label_loss: 0.0194, \n"
     ]
    },
    {
     "name": "stdout",
     "output_type": "stream",
     "text": [
      "=============================================================\n",
      "epoch: 38, source_val_acc_label: 0.9628, target_val_acc_label: 0.8848, source_val_label_loss: 0.2909, target_val_label_loss: 0.6873, \n",
      "=============================================================\n"
     ]
    },
    {
     "name": "stdout",
     "output_type": "stream",
     "text": [
      "epoch: 39, [batch: 1 / 45], examples_per_second: 502.2030, train_label_loss: 0.0478, \n"
     ]
    },
    {
     "name": "stdout",
     "output_type": "stream",
     "text": [
      "epoch: 39, [batch: 5 / 45], examples_per_second: 3966.6806, train_label_loss: 0.0525, \n"
     ]
    },
    {
     "name": "stdout",
     "output_type": "stream",
     "text": [
      "epoch: 39, [batch: 9 / 45], examples_per_second: 4068.5012, train_label_loss: 0.0294, \n"
     ]
    },
    {
     "name": "stdout",
     "output_type": "stream",
     "text": [
      "epoch: 39, [batch: 14 / 45], examples_per_second: 4076.3641, train_label_loss: 0.0743, \n"
     ]
    },
    {
     "name": "stdout",
     "output_type": "stream",
     "text": [
      "epoch: 39, [batch: 18 / 45], examples_per_second: 4067.0658, train_label_loss: 0.0204, \n"
     ]
    },
    {
     "name": "stdout",
     "output_type": "stream",
     "text": [
      "epoch: 39, [batch: 23 / 45], examples_per_second: 4017.8547, train_label_loss: 0.0594, \n"
     ]
    },
    {
     "name": "stdout",
     "output_type": "stream",
     "text": [
      "epoch: 39, [batch: 27 / 45], examples_per_second: 4126.1854, train_label_loss: 0.0417, \n"
     ]
    },
    {
     "name": "stdout",
     "output_type": "stream",
     "text": [
      "epoch: 39, [batch: 31 / 45], examples_per_second: 4123.0544, train_label_loss: 0.0765, \n"
     ]
    },
    {
     "name": "stdout",
     "output_type": "stream",
     "text": [
      "epoch: 39, [batch: 36 / 45], examples_per_second: 4166.5318, train_label_loss: 0.0344, \n"
     ]
    },
    {
     "name": "stdout",
     "output_type": "stream",
     "text": [
      "epoch: 39, [batch: 40 / 45], examples_per_second: 4207.9182, train_label_loss: 0.0083, \n"
     ]
    },
    {
     "name": "stdout",
     "output_type": "stream",
     "text": [
      "=============================================================\n",
      "epoch: 39, source_val_acc_label: 0.9577, target_val_acc_label: 0.8844, source_val_label_loss: 0.3020, target_val_label_loss: 0.6913, \n",
      "=============================================================\n"
     ]
    },
    {
     "name": "stdout",
     "output_type": "stream",
     "text": [
      "epoch: 40, [batch: 1 / 45], examples_per_second: 503.1949, train_label_loss: 0.0673, \n"
     ]
    },
    {
     "name": "stdout",
     "output_type": "stream",
     "text": [
      "epoch: 40, [batch: 5 / 45], examples_per_second: 3972.6760, train_label_loss: 0.0218, \n"
     ]
    },
    {
     "name": "stdout",
     "output_type": "stream",
     "text": [
      "epoch: 40, [batch: 9 / 45], examples_per_second: 4055.1786, train_label_loss: 0.0541, \n"
     ]
    },
    {
     "name": "stdout",
     "output_type": "stream",
     "text": [
      "epoch: 40, [batch: 14 / 45], examples_per_second: 4064.6577, train_label_loss: 0.0418, \n"
     ]
    },
    {
     "name": "stdout",
     "output_type": "stream",
     "text": [
      "epoch: 40, [batch: 18 / 45], examples_per_second: 4070.4131, train_label_loss: 0.0729, \n"
     ]
    },
    {
     "name": "stdout",
     "output_type": "stream",
     "text": [
      "epoch: 40, [batch: 23 / 45], examples_per_second: 4011.5832, train_label_loss: 0.0280, \n"
     ]
    },
    {
     "name": "stdout",
     "output_type": "stream",
     "text": [
      "epoch: 40, [batch: 27 / 45], examples_per_second: 4106.8146, train_label_loss: 0.1378, \n"
     ]
    },
    {
     "name": "stdout",
     "output_type": "stream",
     "text": [
      "epoch: 40, [batch: 31 / 45], examples_per_second: 4121.3607, train_label_loss: 0.0159, \n"
     ]
    },
    {
     "name": "stdout",
     "output_type": "stream",
     "text": [
      "epoch: 40, [batch: 36 / 45], examples_per_second: 4153.8506, train_label_loss: 0.0231, \n"
     ]
    },
    {
     "name": "stdout",
     "output_type": "stream",
     "text": [
      "epoch: 40, [batch: 40 / 45], examples_per_second: 4212.2156, train_label_loss: 0.0085, \n"
     ]
    },
    {
     "name": "stdout",
     "output_type": "stream",
     "text": [
      "=============================================================\n",
      "epoch: 40, source_val_acc_label: 0.9545, target_val_acc_label: 0.8810, source_val_label_loss: 0.3148, target_val_label_loss: 0.7113, \n",
      "=============================================================\n"
     ]
    },
    {
     "name": "stdout",
     "output_type": "stream",
     "text": [
      "Patience (3) exhausted\n"
     ]
    }
   ],
   "source": [
    "###################################\n",
    "# train\n",
    "###################################\n",
    "jig = PTN_Train_Eval_Test_Jig(model, p.BEST_MODEL_PATH, p.device)\n",
    "\n",
    "jig.train(\n",
    "    train_iterable=datasets.source.processed.train,\n",
    "    source_val_iterable=datasets.source.processed.val,\n",
    "    target_val_iterable=datasets.target.processed.val,\n",
    "    num_epochs=p.n_epoch,\n",
    "    num_logs_per_epoch=p.NUM_LOGS_PER_EPOCH,\n",
    "    patience=p.patience,\n",
    "    optimizer=optimizer,\n",
    "    criteria_for_best=p.criteria_for_best,\n",
    ")"
   ]
  },
  {
   "cell_type": "code",
   "execution_count": 14,
   "id": "31e8fabf",
   "metadata": {
    "execution": {
     "iopub.execute_input": "2022-03-22T17:21:11.134460Z",
     "iopub.status.busy": "2022-03-22T17:21:11.134202Z",
     "iopub.status.idle": "2022-03-22T17:21:11.153590Z",
     "shell.execute_reply": "2022-03-22T17:21:11.153141Z"
    },
    "papermill": {
     "duration": 0.111826,
     "end_time": "2022-03-22T17:21:11.153680",
     "exception": false,
     "start_time": "2022-03-22T17:21:11.041854",
     "status": "completed"
    },
    "tags": []
   },
   "outputs": [],
   "source": [
    "total_experiment_time_secs = time.time() - start_time_secs"
   ]
  },
  {
   "cell_type": "code",
   "execution_count": 15,
   "id": "87b9595b",
   "metadata": {
    "execution": {
     "iopub.execute_input": "2022-03-22T17:21:11.343601Z",
     "iopub.status.busy": "2022-03-22T17:21:11.343325Z",
     "iopub.status.idle": "2022-03-22T17:21:18.848713Z",
     "shell.execute_reply": "2022-03-22T17:21:18.849120Z"
    },
    "papermill": {
     "duration": 7.601546,
     "end_time": "2022-03-22T17:21:18.849252",
     "exception": false,
     "start_time": "2022-03-22T17:21:11.247706",
     "status": "completed"
    },
    "tags": []
   },
   "outputs": [],
   "source": [
    "###################################\n",
    "# Evaluate the model\n",
    "###################################\n",
    "source_test_label_accuracy, source_test_label_loss = jig.test(datasets.source.processed.test)\n",
    "target_test_label_accuracy, target_test_label_loss = jig.test(datasets.target.processed.test)\n",
    "\n",
    "source_val_label_accuracy, source_val_label_loss = jig.test(datasets.source.processed.val)\n",
    "target_val_label_accuracy, target_val_label_loss = jig.test(datasets.target.processed.val)\n",
    "\n",
    "history = jig.get_history()\n",
    "\n",
    "total_epochs_trained = len(history[\"epoch_indices\"])\n",
    "\n",
    "val_dl = Iterable_Aggregator((datasets.source.original.val,datasets.target.original.val))\n",
    "\n",
    "confusion = ptn_confusion_by_domain_over_dataloader(model, p.device, val_dl)\n",
    "per_domain_accuracy = per_domain_accuracy_from_confusion(confusion)\n",
    "\n",
    "# Add a key to per_domain_accuracy for if it was a source domain\n",
    "for domain, accuracy in per_domain_accuracy.items():\n",
    "    per_domain_accuracy[domain] = {\n",
    "        \"accuracy\": accuracy,\n",
    "        \"source?\": domain in p.domains_source\n",
    "    }\n",
    "\n",
    "# Do an independent accuracy assesment JUST TO BE SURE!\n",
    "# _source_test_label_accuracy = independent_accuracy_assesment(model, datasets.source.processed.test, p.device)\n",
    "# _target_test_label_accuracy = independent_accuracy_assesment(model, datasets.target.processed.test, p.device)\n",
    "# _source_val_label_accuracy = independent_accuracy_assesment(model, datasets.source.processed.val, p.device)\n",
    "# _target_val_label_accuracy = independent_accuracy_assesment(model, datasets.target.processed.val, p.device)\n",
    "\n",
    "# assert(_source_test_label_accuracy == source_test_label_accuracy)\n",
    "# assert(_target_test_label_accuracy == target_test_label_accuracy)\n",
    "# assert(_source_val_label_accuracy == source_val_label_accuracy)\n",
    "# assert(_target_val_label_accuracy == target_val_label_accuracy)\n",
    "\n",
    "experiment = {\n",
    "    \"experiment_name\": p.experiment_name,\n",
    "    \"parameters\": dict(p),\n",
    "    \"results\": {\n",
    "        \"source_test_label_accuracy\": source_test_label_accuracy,\n",
    "        \"source_test_label_loss\": source_test_label_loss,\n",
    "        \"target_test_label_accuracy\": target_test_label_accuracy,\n",
    "        \"target_test_label_loss\": target_test_label_loss,\n",
    "        \"source_val_label_accuracy\": source_val_label_accuracy,\n",
    "        \"source_val_label_loss\": source_val_label_loss,\n",
    "        \"target_val_label_accuracy\": target_val_label_accuracy,\n",
    "        \"target_val_label_loss\": target_val_label_loss,\n",
    "        \"total_epochs_trained\": total_epochs_trained,\n",
    "        \"total_experiment_time_secs\": total_experiment_time_secs,\n",
    "        \"confusion\": confusion,\n",
    "        \"per_domain_accuracy\": per_domain_accuracy,\n",
    "    },\n",
    "    \"history\": history,\n",
    "    \"dataset_metrics\": get_dataset_metrics(datasets, \"ptn\"),\n",
    "}"
   ]
  },
  {
   "cell_type": "code",
   "execution_count": 16,
   "id": "54a21829",
   "metadata": {
    "execution": {
     "iopub.execute_input": "2022-03-22T17:21:19.035444Z",
     "iopub.status.busy": "2022-03-22T17:21:19.035131Z",
     "iopub.status.idle": "2022-03-22T17:21:19.165823Z",
     "shell.execute_reply": "2022-03-22T17:21:19.165369Z"
    },
    "papermill": {
     "duration": 0.222575,
     "end_time": "2022-03-22T17:21:19.165915",
     "exception": false,
     "start_time": "2022-03-22T17:21:18.943340",
     "status": "completed"
    },
    "tags": []
   },
   "outputs": [
    {
     "data": {
      "image/png": "[encoded data removed]",
      "text/plain": [
       "<Figure size 1080x504 with 1 Axes>"
      ]
     },
     "metadata": {
      "needs_background": "light"
     },
     "output_type": "display_data"
    }
   ],
   "source": [
    "ax = get_loss_curve(experiment)\n",
    "plt.show()"
   ]
  },
  {
   "cell_type": "code",
   "execution_count": 17,
   "id": "fd8a0f60",
   "metadata": {
    "execution": {
     "iopub.execute_input": "2022-03-22T17:21:19.359359Z",
     "iopub.status.busy": "2022-03-22T17:21:19.359086Z",
     "iopub.status.idle": "2022-03-22T17:21:19.502746Z",
     "shell.execute_reply": "2022-03-22T17:21:19.502520Z"
    },
    "papermill": {
     "duration": 0.237488,
     "end_time": "2022-03-22T17:21:19.502801",
     "exception": false,
     "start_time": "2022-03-22T17:21:19.265313",
     "status": "completed"
    },
    "tags": []
   },
   "outputs": [
    {
     "data": {
      "text/plain": [
       "<AxesSubplot:title={'center':'Results'}>"
      ]
     },
     "execution_count": 17,
     "metadata": {},
     "output_type": "execute_result"
    },
    {
     "data": {
      "image/png": "[encoded data removed]",
      "text/plain": [
       "<Figure size 1080x504 with 1 Axes>"
      ]
     },
     "metadata": {
      "needs_background": "light"
     },
     "output_type": "display_data"
    }
   ],
   "source": [
    "get_results_table(experiment)"
   ]
  },
  {
   "cell_type": "code",
   "execution_count": 18,
   "id": "cf8dc689",
   "metadata": {
    "execution": {
     "iopub.execute_input": "2022-03-22T17:21:19.691252Z",
     "iopub.status.busy": "2022-03-22T17:21:19.689683Z",
     "iopub.status.idle": "2022-03-22T17:21:19.791408Z",
     "shell.execute_reply": "2022-03-22T17:21:19.790950Z"
    },
    "papermill": {
     "duration": 0.196019,
     "end_time": "2022-03-22T17:21:19.791501",
     "exception": false,
     "start_time": "2022-03-22T17:21:19.595482",
     "status": "completed"
    },
    "tags": []
   },
   "outputs": [
    {
     "data": {
      "text/plain": [
       "<AxesSubplot:title={'center':'Per Domain Validation Accuracy'}, xlabel='domain'>"
      ]
     },
     "execution_count": 18,
     "metadata": {},
     "output_type": "execute_result"
    },
    {
     "data": {
      "image/png": "[encoded data removed]",
      "text/plain": [
       "<Figure size 1080x504 with 1 Axes>"
      ]
     },
     "metadata": {
      "needs_background": "light"
     },
     "output_type": "display_data"
    }
   ],
   "source": [
    "get_domain_accuracies(experiment)"
   ]
  },
  {
   "cell_type": "code",
   "execution_count": 19,
   "id": "a74ae082",
   "metadata": {
    "execution": {
     "iopub.execute_input": "2022-03-22T17:21:19.983524Z",
     "iopub.status.busy": "2022-03-22T17:21:19.983260Z",
     "iopub.status.idle": "2022-03-22T17:21:19.999377Z",
     "shell.execute_reply": "2022-03-22T17:21:19.998943Z"
    },
    "papermill": {
     "duration": 0.111625,
     "end_time": "2022-03-22T17:21:19.999468",
     "exception": false,
     "start_time": "2022-03-22T17:21:19.887843",
     "status": "completed"
    },
    "tags": []
   },
   "outputs": [
    {
     "name": "stdout",
     "output_type": "stream",
     "text": [
      "Source Test Label Accuracy: 0.9557692307692308 Target Test Label Accuracy: 0.8856837606837606\n",
      "Source Val Label Accuracy: 0.9634615384615385 Target Val Label Accuracy: 0.8871794871794871\n"
     ]
    }
   ],
   "source": [
    "print(\"Source Test Label Accuracy:\", experiment[\"results\"][\"source_test_label_accuracy\"], \"Target Test Label Accuracy:\", experiment[\"results\"][\"target_test_label_accuracy\"])\n",
    "print(\"Source Val Label Accuracy:\", experiment[\"results\"][\"source_val_label_accuracy\"], \"Target Val Label Accuracy:\", experiment[\"results\"][\"target_val_label_accuracy\"])"
   ]
  },
  {
   "cell_type": "code",
   "execution_count": 20,
   "id": "dacca602",
   "metadata": {
    "execution": {
     "iopub.execute_input": "2022-03-22T17:21:20.192744Z",
     "iopub.status.busy": "2022-03-22T17:21:20.192438Z",
     "iopub.status.idle": "2022-03-22T17:21:20.209341Z",
     "shell.execute_reply": "2022-03-22T17:21:20.209768Z"
    },
    "papermill": {
     "duration": 0.112544,
     "end_time": "2022-03-22T17:21:20.209890",
     "exception": false,
     "start_time": "2022-03-22T17:21:20.097346",
     "status": "completed"
    },
    "tags": [
     "experiment_json"
    ]
   },
   "outputs": [
    {
     "data": {
      "text/plain": [
       "'{\"experiment_name\": \"tuned_1v2:wisig\", \"parameters\": {\"experiment_name\": \"tuned_1v2:wisig\", \"device\": \"cuda\", \"lr\": 0.0001, \"labels_source\": [\"1-10\", \"1-12\", \"1-14\", \"1-16\", \"1-18\", \"1-19\", \"1-8\", \"10-11\", \"10-17\", \"10-4\", \"10-7\", \"11-1\", \"11-10\", \"11-19\", \"11-20\", \"11-4\", \"11-7\", \"12-19\", \"12-20\", \"12-7\", \"13-14\", \"13-18\", \"13-19\", \"13-20\", \"13-3\", \"13-7\", \"14-10\", \"14-11\", \"14-12\", \"14-13\", \"14-14\", \"14-19\", \"14-20\", \"14-7\", \"14-8\", \"14-9\", \"15-1\", \"15-19\", \"15-6\", \"16-1\", \"16-16\", \"16-19\", \"16-20\", \"17-10\", \"17-11\", \"18-1\", \"18-10\", \"18-11\", \"18-12\", \"18-13\", \"18-14\", \"18-15\", \"18-16\", \"18-17\", \"18-19\", \"18-2\", \"18-20\", \"18-4\", \"18-5\", \"18-7\", \"18-8\", \"18-9\", \"19-1\", \"19-10\", \"19-11\", \"19-12\", \"19-13\", \"19-14\", \"19-15\", \"19-19\", \"19-2\", \"19-20\", \"19-3\", \"19-4\", \"19-6\", \"19-7\", \"19-8\", \"19-9\", \"2-1\", \"2-13\", \"2-15\", \"2-3\", \"2-4\", \"2-5\", \"2-6\", \"2-7\", \"2-8\", \"20-1\", \"20-12\", \"20-14\", \"20-15\", \"20-16\", \"20-18\", \"20-19\", \"20-20\", \"20-3\", \"20-4\", \"20-5\", \"20-7\", \"20-8\", \"3-1\", \"3-13\", \"3-18\", \"3-2\", \"3-8\", \"4-1\", \"4-10\", \"4-11\", \"5-1\", \"5-5\", \"6-1\", \"6-15\", \"6-6\", \"7-10\", \"7-11\", \"7-12\", \"7-13\", \"7-14\", \"7-7\", \"7-8\", \"7-9\", \"8-1\", \"8-13\", \"8-14\", \"8-18\", \"8-20\", \"8-3\", \"8-8\", \"9-1\", \"9-7\"], \"labels_target\": [\"1-10\", \"1-12\", \"1-14\", \"1-16\", \"1-18\", \"1-19\", \"1-8\", \"10-11\", \"10-17\", \"10-4\", \"10-7\", \"11-1\", \"11-10\", \"11-19\", \"11-20\", \"11-4\", \"11-7\", \"12-19\", \"12-20\", \"12-7\", \"13-14\", \"13-18\", \"13-19\", \"13-20\", \"13-3\", \"13-7\", \"14-10\", \"14-11\", \"14-12\", \"14-13\", \"14-14\", \"14-19\", \"14-20\", \"14-7\", \"14-8\", \"14-9\", \"15-1\", \"15-19\", \"15-6\", \"16-1\", \"16-16\", \"16-19\", \"16-20\", \"17-10\", \"17-11\", \"18-1\", \"18-10\", \"18-11\", \"18-12\", \"18-13\", \"18-14\", \"18-15\", \"18-16\", \"18-17\", \"18-19\", \"18-2\", \"18-20\", \"18-4\", \"18-5\", \"18-7\", \"18-8\", \"18-9\", \"19-1\", \"19-10\", \"19-11\", \"19-12\", \"19-13\", \"19-14\", \"19-15\", \"19-19\", \"19-2\", \"19-20\", \"19-3\", \"19-4\", \"19-6\", \"19-7\", \"19-8\", \"19-9\", \"2-1\", \"2-13\", \"2-15\", \"2-3\", \"2-4\", \"2-5\", \"2-6\", \"2-7\", \"2-8\", \"20-1\", \"20-12\", \"20-14\", \"20-15\", \"20-16\", \"20-18\", \"20-19\", \"20-20\", \"20-3\", \"20-4\", \"20-5\", \"20-7\", \"20-8\", \"3-1\", \"3-13\", \"3-18\", \"3-2\", \"3-8\", \"4-1\", \"4-10\", \"4-11\", \"5-1\", \"5-5\", \"6-1\", \"6-15\", \"6-6\", \"7-10\", \"7-11\", \"7-12\", \"7-13\", \"7-14\", \"7-7\", \"7-8\", \"7-9\", \"8-1\", \"8-13\", \"8-14\", \"8-18\", \"8-20\", \"8-3\", \"8-8\", \"9-1\", \"9-7\"], \"episode_transforms_source\": [], \"episode_transforms_target\": [], \"domains_source\": [3], \"domains_target\": [1, 2, 4], \"num_examples_per_domain_per_label_source\": -1, \"num_examples_per_domain_per_label_target\": -1, \"n_shot\": 3, \"n_way\": 130, \"n_query\": 2, \"train_k_factor\": 3, \"val_k_factor\": 2, \"test_k_factor\": 2, \"torch_default_dtype\": \"torch.float32\", \"n_epoch\": 50, \"patience\": 3, \"criteria_for_best\": \"target_accuracy\", \"x_net\": [{\"class\": \"nnReshape\", \"kargs\": {\"shape\": [-1, 1, 2, 256]}}, {\"class\": \"Conv2d\", \"kargs\": {\"in_channels\": 1, \"out_channels\": 256, \"kernel_size\": [1, 7], \"bias\": false, \"padding\": [0, 3]}}, {\"class\": \"ReLU\", \"kargs\": {\"inplace\": true}}, {\"class\": \"BatchNorm2d\", \"kargs\": {\"num_features\": 256}}, {\"class\": \"Conv2d\", \"kargs\": {\"in_channels\": 256, \"out_channels\": 80, \"kernel_size\": [2, 7], \"bias\": true, \"padding\": [0, 3]}}, {\"class\": \"ReLU\", \"kargs\": {\"inplace\": true}}, {\"class\": \"BatchNorm2d\", \"kargs\": {\"num_features\": 80}}, {\"class\": \"Flatten\", \"kargs\": {}}, {\"class\": \"Linear\", \"kargs\": {\"in_features\": 20480, \"out_features\": 256}}, {\"class\": \"ReLU\", \"kargs\": {\"inplace\": true}}, {\"class\": \"BatchNorm1d\", \"kargs\": {\"num_features\": 256}}, {\"class\": \"Linear\", \"kargs\": {\"in_features\": 256, \"out_features\": 256}}], \"NUM_LOGS_PER_EPOCH\": 10, \"BEST_MODEL_PATH\": \"./best_model.pth\", \"pickle_name\": \"wisig.node3-19.stratified_ds.2022A.pkl\", \"x_transforms_source\": [\"unit_power\"], \"x_transforms_target\": [\"unit_power\"], \"dataset_seed\": 420, \"seed\": 420}, \"results\": {\"source_test_label_accuracy\": 0.9557692307692308, \"source_test_label_loss\": 0.3076205849647522, \"target_test_label_accuracy\": 0.8856837606837606, \"target_test_label_loss\": 0.706993818283081, \"source_val_label_accuracy\": 0.9634615384615385, \"source_val_label_loss\": 0.2928923964500427, \"target_val_label_accuracy\": 0.8871794871794871, \"target_val_label_loss\": 0.7196044921875, \"total_epochs_trained\": 40, \"total_experiment_time_secs\": 372.75549602508545, \"confusion\": {\"3\": {\"68\": {\"68\": 12}, \"3\": {\"3\": 11, \"21\": 1}, \"26\": {\"26\": 12}, \"113\": {\"39\": 2, \"113\": 10}, \"71\": {\"71\": 12}, \"40\": {\"40\": 12}, \"120\": {\"120\": 12}, \"48\": {\"48\": 12}, \"123\": {\"123\": 12}, \"29\": {\"29\": 12}, \"53\": {\"53\": 11, \"108\": 1}, \"80\": {\"80\": 12}, \"96\": {\"96\": 12}, \"66\": {\"66\": 12}, \"72\": {\"72\": 11, \"68\": 1}, \"116\": {\"116\": 12}, \"64\": {\"64\": 12}, \"38\": {\"38\": 11, \"121\": 1}, \"8\": {\"8\": 12}, \"14\": {\"14\": 12}, \"88\": {\"88\": 12}, \"95\": {\"95\": 12}, \"81\": {\"81\": 12}, \"99\": {\"99\": 12}, \"45\": {\"45\": 12}, \"16\": {\"16\": 10, \"21\": 2}, \"61\": {\"61\": 12}, \"51\": {\"51\": 12}, \"0\": {\"0\": 12}, \"20\": {\"49\": 1, \"20\": 11}, \"129\": {\"129\": 12}, \"111\": {\"111\": 12}, \"128\": {\"128\": 12}, \"78\": {\"78\": 9, \"87\": 1, \"122\": 1, \"116\": 1}, \"42\": {\"42\": 12}, \"85\": {\"85\": 12}, \"7\": {\"95\": 1, \"7\": 11}, \"74\": {\"74\": 12}, \"30\": {\"30\": 11, \"70\": 1}, \"21\": {\"43\": 1, \"13\": 2, \"21\": 8, \"78\": 1}, \"15\": {\"15\": 12}, \"55\": {\"55\": 12}, \"6\": {\"6\": 12}, \"77\": {\"77\": 12}, \"27\": {\"27\": 12}, \"37\": {\"37\": 12}, \"114\": {\"114\": 12}, \"44\": {\"44\": 12}, \"75\": {\"75\": 12}, \"11\": {\"11\": 12}, \"92\": {\"92\": 10, \"13\": 1, \"70\": 1}, \"115\": {\"115\": 12}, \"83\": {\"83\": 12}, \"67\": {\"67\": 12}, \"32\": {\"32\": 11, \"115\": 1}, \"100\": {\"100\": 11, \"21\": 1}, \"93\": {\"93\": 12}, \"62\": {\"62\": 12}, \"19\": {\"19\": 12}, \"69\": {\"69\": 10, \"122\": 1, \"78\": 1}, \"56\": {\"56\": 12}, \"60\": {\"60\": 11, \"110\": 1}, \"122\": {\"122\": 10, \"128\": 2}, \"50\": {\"50\": 12}, \"103\": {\"103\": 12}, \"105\": {\"105\": 12}, \"25\": {\"25\": 12}, \"4\": {\"4\": 12}, \"39\": {\"39\": 12}, \"119\": {\"119\": 12}, \"86\": {\"86\": 12}, \"124\": {\"124\": 12}, \"107\": {\"107\": 12}, \"97\": {\"97\": 9, \"71\": 1, \"30\": 1, \"15\": 1}, \"52\": {\"52\": 12}, \"33\": {\"33\": 12}, \"106\": {\"106\": 12}, \"23\": {\"23\": 12}, \"34\": {\"34\": 12}, \"104\": {\"104\": 12}, \"101\": {\"101\": 9, \"127\": 1, \"78\": 1, \"24\": 1}, \"110\": {\"110\": 12}, \"76\": {\"76\": 12}, \"70\": {\"70\": 10, \"13\": 1, \"78\": 1}, \"63\": {\"63\": 10, \"13\": 1, \"43\": 1}, \"54\": {\"54\": 12}, \"13\": {\"13\": 11, \"101\": 1}, \"12\": {\"12\": 12}, \"5\": {\"5\": 12}, \"31\": {\"31\": 12}, \"89\": {\"89\": 12}, \"87\": {\"87\": 12}, \"17\": {\"17\": 9, \"122\": 1, \"115\": 1, \"70\": 1}, \"57\": {\"57\": 12}, \"73\": {\"62\": 1, \"73\": 11}, \"59\": {\"59\": 12}, \"82\": {\"82\": 12}, \"41\": {\"41\": 12}, \"36\": {\"36\": 11, \"17\": 1}, \"58\": {\"41\": 1, \"58\": 9, \"30\": 1, \"6\": 1}, \"125\": {\"125\": 12}, \"79\": {\"79\": 11, \"53\": 1}, \"9\": {\"9\": 11, \"21\": 1}, \"46\": {\"46\": 12}, \"28\": {\"28\": 12}, \"43\": {\"43\": 11, \"13\": 1}, \"35\": {\"35\": 12}, \"108\": {\"108\": 12}, \"49\": {\"49\": 11, \"70\": 1}, \"91\": {\"91\": 12}, \"102\": {\"102\": 12}, \"84\": {\"84\": 12}, \"90\": {\"90\": 12}, \"47\": {\"47\": 12}, \"126\": {\"126\": 12}, \"10\": {\"10\": 12}, \"24\": {\"24\": 12}, \"1\": {\"1\": 12}, \"65\": {\"65\": 11, \"21\": 1}, \"127\": {\"127\": 12}, \"118\": {\"118\": 12}, \"2\": {\"2\": 12}, \"112\": {\"21\": 1, \"112\": 10, \"59\": 1}, \"22\": {\"22\": 12}, \"109\": {\"109\": 12}, \"117\": {\"117\": 11, \"24\": 1}, \"94\": {\"94\": 11, \"122\": 1}, \"18\": {\"18\": 11, \"13\": 1}, \"98\": {\"98\": 11, \"13\": 1}, \"121\": {\"121\": 12}}, \"2\": {\"40\": {\"40\": 11, \"78\": 1}, \"95\": {\"95\": 11, \"112\": 1}, \"112\": {\"126\": 1, \"42\": 3, \"40\": 1, \"112\": 5, \"49\": 2}, \"3\": {\"3\": 12}, \"82\": {\"82\": 11, \"26\": 1}, \"75\": {\"75\": 12}, \"106\": {\"106\": 12}, \"81\": {\"81\": 12}, \"97\": {\"97\": 12}, \"78\": {\"21\": 2, \"70\": 1, \"95\": 2, \"78\": 6, \"43\": 1}, \"69\": {\"69\": 12}, \"86\": {\"86\": 12}, \"16\": {\"16\": 12}, \"70\": {\"70\": 5, \"78\": 2, \"14\": 1, \"110\": 1, \"1\": 1, \"123\": 1, \"91\": 1}, \"26\": {\"26\": 11, \"21\": 1}, \"72\": {\"72\": 11, \"96\": 1}, \"67\": {\"67\": 12}, \"65\": {\"121\": 1, \"65\": 11}, \"62\": {\"62\": 12}, \"129\": {\"129\": 12}, \"98\": {\"98\": 11, \"11\": 1}, \"89\": {\"89\": 8, \"92\": 4}, \"48\": {\"48\": 12}, \"105\": {\"105\": 12}, \"96\": {\"88\": 1, \"96\": 10, \"100\": 1}, \"104\": {\"104\": 10, \"86\": 1, \"42\": 1}, \"93\": {\"93\": 11, \"16\": 1}, \"63\": {\"63\": 12}, \"52\": {\"52\": 10, \"61\": 1, \"89\": 1}, \"0\": {\"0\": 11, \"24\": 1}, \"21\": {\"21\": 9, \"43\": 1, \"70\": 1, \"112\": 1}, \"122\": {\"122\": 9, \"68\": 1, \"110\": 2}, \"51\": {\"58\": 4, \"51\": 2, \"24\": 1, \"97\": 1, \"17\": 1, \"112\": 1, \"75\": 2}, \"7\": {\"7\": 12}, \"107\": {\"107\": 7, \"24\": 1, \"4\": 2, \"27\": 2}, \"121\": {\"121\": 11, \"13\": 1}, \"55\": {\"55\": 12}, \"8\": {\"8\": 11, \"32\": 1}, \"84\": {\"84\": 12}, \"30\": {\"36\": 1, \"30\": 9, \"127\": 2}, \"124\": {\"124\": 12}, \"15\": {\"15\": 12}, \"56\": {\"56\": 10, \"94\": 2}, \"6\": {\"6\": 12}, \"117\": {\"117\": 10, \"113\": 1, \"2\": 1}, \"27\": {\"27\": 10, \"78\": 1, \"45\": 1}, \"38\": {\"38\": 12}, \"74\": {\"74\": 12}, \"45\": {\"45\": 12}, \"76\": {\"76\": 12}, \"11\": {\"98\": 5, \"11\": 6, \"112\": 1}, \"60\": {\"60\": 9, \"126\": 1, \"123\": 1, \"83\": 1}, \"116\": {\"116\": 11, \"57\": 1}, \"87\": {\"87\": 11, \"78\": 1}, \"68\": {\"68\": 11, \"3\": 1}, \"33\": {\"33\": 12}, \"101\": {\"101\": 12}, \"58\": {\"58\": 12}, \"123\": {\"123\": 12}, \"20\": {\"20\": 8, \"116\": 1, \"42\": 1, \"43\": 1, \"70\": 1}, \"120\": {\"120\": 12}, \"115\": {\"115\": 12}, \"61\": {\"50\": 1, \"61\": 9, \"27\": 1, \"22\": 1}, \"32\": {\"116\": 1, \"32\": 7, \"14\": 3, \"74\": 1}, \"108\": {\"108\": 12}, \"114\": {\"114\": 12}, \"43\": {\"43\": 10, \"70\": 1, \"78\": 1}, \"25\": {\"25\": 12}, \"4\": {\"4\": 11, \"112\": 1}, \"39\": {\"39\": 11, \"26\": 1}, \"19\": {\"19\": 11, \"28\": 1}, \"14\": {\"14\": 11, \"36\": 1}, \"125\": {\"125\": 11, \"87\": 1}, \"49\": {\"49\": 4, \"53\": 1, \"11\": 3, \"126\": 1, \"59\": 3}, \"42\": {\"36\": 1, \"42\": 5, \"12\": 1, \"112\": 1, \"126\": 1, \"77\": 1, \"20\": 1, \"5\": 1}, \"53\": {\"53\": 12}, \"79\": {\"79\": 12}, \"36\": {\"36\": 8, \"21\": 1, \"24\": 2, \"61\": 1}, \"23\": {\"23\": 10, \"126\": 1, \"128\": 1}, \"34\": {\"34\": 9, \"37\": 2, \"28\": 1}, \"29\": {\"29\": 12}, \"102\": {\"102\": 12}, \"111\": {\"111\": 12}, \"77\": {\"77\": 12}, \"71\": {\"3\": 3, \"114\": 1, \"71\": 8}, \"64\": {\"64\": 12}, \"54\": {\"54\": 12}, \"13\": {\"13\": 9, \"21\": 1, \"1\": 1, \"80\": 1}, \"12\": {\"12\": 10, \"111\": 1, \"5\": 1}, \"5\": {\"5\": 12}, \"31\": {\"31\": 12}, \"90\": {\"90\": 12}, \"88\": {\"88\": 9, \"72\": 1, \"96\": 1, \"126\": 1}, \"17\": {\"17\": 10, \"72\": 1, \"43\": 1}, \"57\": {\"57\": 12}, \"73\": {\"73\": 10, \"71\": 1, \"112\": 1}, \"100\": {\"100\": 12}, \"83\": {\"83\": 12}, \"41\": {\"41\": 11, \"0\": 1}, \"37\": {\"37\": 12}, \"59\": {\"59\": 9, \"24\": 1, \"13\": 1, \"91\": 1}, \"126\": {\"126\": 12}, \"80\": {\"80\": 12}, \"9\": {\"9\": 12}, \"46\": {\"46\": 12}, \"28\": {\"28\": 12}, \"44\": {\"44\": 12}, \"35\": {\"35\": 10, \"47\": 1, \"19\": 1}, \"109\": {\"16\": 1, \"39\": 1, \"109\": 9, \"31\": 1}, \"50\": {\"50\": 11, \"16\": 1}, \"92\": {\"92\": 11, \"78\": 1}, \"103\": {\"103\": 12}, \"85\": {\"85\": 11, \"73\": 1}, \"91\": {\"91\": 7, \"77\": 5}, \"47\": {\"47\": 11, \"107\": 1}, \"127\": {\"127\": 12}, \"10\": {\"10\": 10, \"84\": 2}, \"24\": {\"24\": 8, \"36\": 1, \"27\": 1, \"108\": 1, \"112\": 1}, \"1\": {\"1\": 10, \"33\": 2}, \"66\": {\"66\": 12}, \"128\": {\"128\": 7, \"71\": 2, \"30\": 2, \"122\": 1}, \"119\": {\"119\": 12}, \"2\": {\"2\": 11, \"100\": 1}, \"113\": {\"113\": 12}, \"22\": {\"22\": 12}, \"110\": {\"110\": 12}, \"118\": {\"118\": 12}, \"94\": {\"94\": 12}, \"18\": {\"18\": 10, \"21\": 1, \"78\": 1}, \"99\": {\"42\": 1, \"99\": 11}}, \"4\": {\"80\": {\"80\": 12}, \"77\": {\"77\": 11, \"34\": 1}, \"68\": {\"68\": 12}, \"93\": {\"93\": 12}, \"112\": {\"112\": 12}, \"74\": {\"74\": 12}, \"12\": {\"12\": 12}, \"104\": {\"104\": 12}, \"44\": {\"44\": 12}, \"87\": {\"105\": 2, \"87\": 10}, \"58\": {\"58\": 11, \"51\": 1}, \"62\": {\"62\": 12}, \"48\": {\"48\": 11, \"112\": 1}, \"95\": {\"95\": 11, \"0\": 1}, \"121\": {\"121\": 11, \"48\": 1}, \"8\": {\"8\": 12}, \"118\": {\"118\": 11, \"62\": 1}, \"120\": {\"120\": 11, \"122\": 1}, \"79\": {\"79\": 12}, \"66\": {\"66\": 11, \"39\": 1}, \"10\": {\"30\": 2, \"10\": 7, \"15\": 1, \"24\": 1, \"97\": 1}, \"53\": {\"53\": 11, \"52\": 1}, \"54\": {\"54\": 10, \"45\": 2}, \"122\": {\"122\": 10, \"78\": 1, \"102\": 1}, \"97\": {\"36\": 6, \"97\": 4, \"15\": 1, \"24\": 1}, \"101\": {\"101\": 10, \"0\": 2}, \"63\": {\"63\": 12}, \"65\": {\"65\": 12}, \"94\": {\"94\": 12}, \"126\": {\"126\": 11, \"23\": 1}, \"42\": {\"42\": 11, \"9\": 1}, \"1\": {\"1\": 11, \"39\": 1}, \"35\": {\"35\": 10, \"61\": 1, \"88\": 1}, \"119\": {\"119\": 12}, \"9\": {\"9\": 12}, \"34\": {\"34\": 11, \"56\": 1}, \"57\": {\"57\": 12}, \"37\": {\"37\": 11, \"97\": 1}, \"24\": {\"36\": 3, \"97\": 1, \"24\": 7, \"118\": 1}, \"11\": {\"11\": 12}, \"36\": {\"36\": 9, \"24\": 2, \"69\": 1}, \"102\": {\"102\": 11, \"2\": 1}, \"127\": {\"127\": 11, \"87\": 1}, \"55\": {\"55\": 12}, \"16\": {\"16\": 11, \"27\": 1}, \"27\": {\"27\": 12}, \"20\": {\"20\": 12}, \"78\": {\"74\": 1, \"50\": 1, \"87\": 1, \"78\": 7, \"43\": 1, \"27\": 1}, \"110\": {\"110\": 12}, \"109\": {\"96\": 1, \"109\": 9, \"14\": 2}, \"51\": {\"125\": 5, \"51\": 5, \"101\": 1, \"88\": 1}, \"89\": {\"89\": 12}, \"85\": {\"85\": 12}, \"124\": {\"124\": 12}, \"64\": {\"64\": 10, \"104\": 1, \"76\": 1}, \"92\": {\"92\": 12}, \"71\": {\"71\": 12}, \"17\": {\"17\": 12}, \"128\": {\"7\": 3, \"128\": 3, \"19\": 5, \"39\": 1}, \"23\": {\"123\": 3, \"35\": 1, \"51\": 2, \"67\": 1, \"43\": 1, \"78\": 1, \"10\": 1, \"105\": 1, \"23\": 1}, \"14\": {\"14\": 12}, \"7\": {\"7\": 12}, \"25\": {\"25\": 12}, \"46\": {\"46\": 12}, \"15\": {\"15\": 11, \"36\": 1}, \"100\": {\"100\": 12}, \"6\": {\"6\": 10, \"75\": 1, \"59\": 1}, \"69\": {\"69\": 12}, \"114\": {\"114\": 12}, \"88\": {\"88\": 8, \"118\": 1, \"129\": 2, \"8\": 1}, \"45\": {\"45\": 12}, \"3\": {\"3\": 12}, \"90\": {\"90\": 12}, \"123\": {\"123\": 12}, \"61\": {\"61\": 10, \"35\": 2}, \"105\": {\"105\": 6, \"87\": 2, \"23\": 1, \"78\": 1, \"39\": 1, \"40\": 1}, \"84\": {\"84\": 12}, \"98\": {\"98\": 12}, \"31\": {\"31\": 12}, \"67\": {\"63\": 3, \"67\": 6, \"17\": 2, \"107\": 1}, \"75\": {\"75\": 12}, \"129\": {\"129\": 12}, \"108\": {\"27\": 1, \"88\": 3, \"108\": 8}, \"106\": {\"106\": 11, \"21\": 1}, \"28\": {\"28\": 12}, \"125\": {\"87\": 1, \"125\": 10, \"105\": 1}, \"56\": {\"56\": 11, \"21\": 1}, \"40\": {\"40\": 11, \"9\": 1}, \"117\": {\"117\": 12}, \"22\": {\"22\": 10, \"116\": 2}, \"91\": {\"91\": 12}, \"72\": {\"74\": 2, \"72\": 10}, \"29\": {\"29\": 12}, \"21\": {\"87\": 2, \"21\": 7, \"78\": 1, \"128\": 1, \"122\": 1}, \"70\": {\"35\": 1, \"70\": 11}, \"115\": {\"115\": 5, \"64\": 4, \"103\": 2, \"86\": 1}, \"49\": {\"53\": 3, \"49\": 7, \"70\": 1, \"126\": 1}, \"50\": {\"50\": 12}, \"99\": {\"99\": 11, \"74\": 1}, \"59\": {\"59\": 11, \"21\": 1}, \"33\": {\"33\": 11, \"12\": 1}, \"86\": {\"86\": 12}, \"81\": {\"81\": 11, \"66\": 1}, \"52\": {\"52\": 10, \"42\": 1, \"41\": 1}, \"76\": {\"76\": 12}, \"26\": {\"26\": 12}, \"107\": {\"107\": 12}, \"73\": {\"73\": 12}, \"0\": {\"0\": 9, \"88\": 1, \"23\": 1, \"72\": 1}, \"116\": {\"74\": 5, \"116\": 7}, \"30\": {\"21\": 1, \"30\": 11}, \"113\": {\"113\": 12}, \"43\": {\"87\": 2, \"43\": 6, \"78\": 4}, \"96\": {\"96\": 10, \"110\": 1, \"109\": 1}, \"103\": {\"103\": 12}, \"111\": {\"111\": 12}, \"47\": {\"47\": 9, \"84\": 1, \"122\": 1, \"70\": 1}, \"39\": {\"39\": 11, \"126\": 1}, \"41\": {\"41\": 8, \"34\": 2, \"52\": 2}, \"18\": {\"18\": 11, \"112\": 1}, \"83\": {\"83\": 12}, \"32\": {\"32\": 8, \"120\": 3, \"28\": 1}, \"82\": {\"92\": 1, \"82\": 9, \"103\": 1, \"97\": 1}, \"60\": {\"60\": 9, \"23\": 1, \"43\": 1, \"39\": 1}, \"19\": {\"19\": 11, \"103\": 1}, \"13\": {\"13\": 12}, \"38\": {\"44\": 1, \"38\": 11}, \"2\": {\"2\": 12}, \"4\": {\"4\": 12}, \"5\": {\"5\": 12}}, \"1\": {\"48\": {\"48\": 10, \"7\": 1, \"123\": 1}, \"62\": {\"62\": 12}, \"33\": {\"33\": 12}, \"113\": {\"113\": 12}, \"118\": {\"118\": 12}, \"112\": {\"112\": 12}, \"25\": {\"25\": 12}, \"31\": {\"78\": 1, \"31\": 11}, \"44\": {\"44\": 12}, \"101\": {\"101\": 12}, \"107\": {\"107\": 10, \"93\": 2}, \"20\": {\"20\": 11, \"70\": 1}, \"0\": {\"0\": 11, \"10\": 1}, \"67\": {\"67\": 12}, \"84\": {\"84\": 12}, \"1\": {\"1\": 12}, \"5\": {\"5\": 10, \"30\": 1, \"65\": 1}, \"119\": {\"119\": 12}, \"73\": {\"73\": 12}, \"72\": {\"72\": 12}, \"26\": {\"26\": 12}, \"38\": {\"38\": 12}, \"116\": {\"116\": 10, \"61\": 1, \"22\": 1}, \"123\": {\"123\": 12}, \"75\": {\"75\": 12}, \"9\": {\"9\": 12}, \"96\": {\"96\": 11, \"83\": 1}, \"51\": {\"51\": 10, \"98\": 2}, \"111\": {\"111\": 12}, \"56\": {\"56\": 12}, \"65\": {\"27\": 1, \"5\": 1, \"65\": 3, \"22\": 2, \"63\": 1, \"43\": 1, \"76\": 2, \"116\": 1}, \"68\": {\"68\": 12}, \"74\": {\"74\": 12}, \"76\": {\"76\": 11, \"27\": 1}, \"24\": {\"24\": 9, \"97\": 2, \"47\": 1}, \"69\": {\"69\": 11, \"65\": 1}, \"29\": {\"29\": 12}, \"19\": {\"72\": 1, \"19\": 11}, \"92\": {\"92\": 12}, \"81\": {\"81\": 12}, \"80\": {\"80\": 12}, \"125\": {\"125\": 12}, \"60\": {\"123\": 2, \"60\": 4, \"34\": 3, \"23\": 1, \"83\": 1, \"59\": 1}, \"83\": {\"83\": 11, \"121\": 1}, \"32\": {\"110\": 5, \"32\": 6, \"107\": 1}, \"49\": {\"49\": 7, \"86\": 1, \"31\": 1, \"6\": 1, \"53\": 1, \"23\": 1}, \"22\": {\"22\": 10, \"13\": 2}, \"89\": {\"89\": 12}, \"7\": {\"7\": 12}, \"41\": {\"41\": 12}, \"52\": {\"52\": 10, \"36\": 1, \"97\": 1}, \"100\": {\"100\": 11, \"97\": 1}, \"21\": {\"21\": 6, \"101\": 1, \"30\": 1, \"78\": 3, \"70\": 1}, \"114\": {\"114\": 12}, \"129\": {\"129\": 12}, \"17\": {\"17\": 11, \"27\": 1}, \"50\": {\"50\": 12}, \"43\": {\"78\": 3, \"43\": 9}, \"42\": {\"42\": 9, \"104\": 2, \"91\": 1}, \"127\": {\"127\": 12}, \"27\": {\"27\": 11, \"78\": 1}, \"105\": {\"105\": 11, \"55\": 1}, \"34\": {\"34\": 9, \"61\": 1, \"125\": 1, \"57\": 1}, \"63\": {\"63\": 12}, \"23\": {\"23\": 4, \"75\": 1, \"86\": 1, \"56\": 2, \"49\": 1, \"32\": 1, \"115\": 2}, \"104\": {\"104\": 12}, \"108\": {\"108\": 11, \"47\": 1}, \"117\": {\"117\": 12}, \"54\": {\"46\": 2, \"54\": 10}, \"2\": {\"11\": 3, \"2\": 6, \"22\": 1, \"100\": 1, \"13\": 1}, \"39\": {\"39\": 12}, \"86\": {\"86\": 12}, \"4\": {\"4\": 11, \"107\": 1}, \"82\": {\"82\": 12}, \"15\": {\"15\": 11, \"49\": 1}, \"3\": {\"3\": 12}, \"8\": {\"8\": 12}, \"64\": {\"64\": 12}, \"91\": {\"91\": 12}, \"90\": {\"90\": 11, \"61\": 1}, \"87\": {\"55\": 2, \"87\": 8, \"21\": 1, \"105\": 1}, \"36\": {\"36\": 12}, \"128\": {\"128\": 6, \"19\": 3, \"72\": 1, \"70\": 2}, \"122\": {\"122\": 10, \"43\": 1, \"78\": 1}, \"30\": {\"30\": 11, \"94\": 1}, \"102\": {\"102\": 11, \"78\": 1}, \"28\": {\"28\": 12}, \"79\": {\"79\": 12}, \"70\": {\"70\": 9, \"128\": 1, \"127\": 1, \"73\": 1}, \"40\": {\"40\": 11, \"105\": 1}, \"57\": {\"57\": 12}, \"99\": {\"99\": 12}, \"46\": {\"89\": 3, \"46\": 5, \"97\": 1, \"24\": 1, \"54\": 1, \"94\": 1}, \"18\": {\"18\": 11, \"63\": 1}, \"93\": {\"54\": 1, \"93\": 8, \"78\": 1, \"21\": 1, \"4\": 1}, \"6\": {\"6\": 9, \"98\": 1, \"86\": 1, \"52\": 1}, \"58\": {\"58\": 11, \"53\": 1}, \"78\": {\"78\": 4, \"21\": 2, \"122\": 1, \"43\": 2, \"93\": 2, \"116\": 1}, \"11\": {\"11\": 12}, \"110\": {\"110\": 11, \"32\": 1}, \"98\": {\"98\": 11, \"86\": 1}, \"13\": {\"13\": 12}, \"88\": {\"88\": 9, \"36\": 3}, \"124\": {\"124\": 12}, \"85\": {\"85\": 12}, \"103\": {\"99\": 1, \"103\": 9, \"97\": 1, \"124\": 1}, \"106\": {\"106\": 12}, \"16\": {\"16\": 11, \"65\": 1}, \"95\": {\"95\": 12}, \"14\": {\"14\": 12}, \"10\": {\"10\": 12}, \"71\": {\"71\": 11, \"13\": 1}, \"61\": {\"128\": 1, \"61\": 9, \"31\": 1, \"116\": 1}, \"12\": {\"12\": 10, \"5\": 1, \"70\": 1}, \"109\": {\"109\": 10, \"126\": 1, \"2\": 1}, \"97\": {\"97\": 7, \"2\": 1, \"108\": 1, \"88\": 2, \"126\": 1}, \"115\": {\"115\": 12}, \"121\": {\"121\": 12}, \"126\": {\"126\": 8, \"109\": 1, \"24\": 1, \"96\": 2}, \"77\": {\"77\": 12}, \"47\": {\"47\": 11, \"9\": 1}, \"53\": {\"53\": 12}, \"37\": {\"37\": 12}, \"35\": {\"35\": 12}, \"66\": {\"66\": 12}, \"55\": {\"55\": 12}, \"94\": {\"94\": 12}, \"59\": {\"59\": 12}, \"45\": {\"104\": 2, \"45\": 3, \"124\": 5, \"109\": 1, \"21\": 1}, \"120\": {\"120\": 12}}}, \"per_domain_accuracy\": {\"3\": {\"accuracy\": 0.9634615384615385, \"source?\": true}, \"2\": {\"accuracy\": 0.8865384615384615, \"source?\": false}, \"4\": {\"accuracy\": 0.8839743589743589, \"source?\": false}, \"1\": {\"accuracy\": 0.8910256410256411, \"source?\": false}}}, \"history\": {\"epoch_indices\": [1, 2, 3, 4, 5, 6, 7, 8, 9, 10, 11, 12, 13, 14, 15, 16, 17, 18, 19, 20, 21, 22, 23, 24, 25, 26, 27, 28, 29, 30, 31, 32, 33, 34, 35, 36, 37, 38, 39, 40], \"train_label_loss\": [2.535940925280253, 1.078887606991662, 0.705364794201321, 0.4820478346612718, 0.37689698338508604, 0.29559571858909395, 0.2662038442161348, 0.2007936982644929, 0.20597882237699297, 0.16168729795349968, 0.14839749220344756, 0.13102251845929358, 0.129935974544949, 0.1181982833892107, 0.1200023367173142, 0.11694187571605047, 0.116775607648823, 0.09939014108644592, 0.08278867482311196, 0.09660078932841619, 0.08113599767287573, 0.0732374834931559, 0.07205956826607386, 0.07229620408680704, 0.07817687417070071, 0.06701720574249824, 0.059251553234126834, 0.06486361409640974, 0.07399177516086233, 0.06272883918136359, 0.05822210369838609, 0.055152246604363124, 0.06460421266448167, 0.05947338608610961, 0.05874100219872263, 0.04992116795231898, 0.06179205197840929, 0.06043104430039724, 0.05425419020983908, 0.05376116823818949], \"source_val_label_loss\": [1.3955224752426147, 0.9237515330314636, 0.6730426549911499, 0.5190962553024292, 0.4262053966522217, 0.3627670407295227, 0.3427906632423401, 0.3217921257019043, 0.3070645034313202, 0.2977617681026459, 0.29284772276878357, 0.28913891315460205, 0.2929931879043579, 0.28837788105010986, 0.302018940448761, 0.28165602684020996, 0.28404009342193604, 0.2888253927230835, 0.2712588906288147, 0.2947899401187897, 0.2902522087097168, 0.28251224756240845, 0.2931060194969177, 0.286681592464447, 0.28501075506210327, 0.2894824147224426, 0.2758598029613495, 0.3064667284488678, 0.2880863547325134, 0.2996606230735779, 0.2814686596393585, 0.28310316801071167, 0.29014521837234497, 0.302720308303833, 0.29237186908721924, 0.2928923964500427, 0.2991756200790405, 0.29089242219924927, 0.30197203159332275, 0.314802348613739], \"target_val_label_loss\": [1.520056128501892, 1.1481081247329712, 0.9842033386230469, 0.9118563532829285, 0.8478918671607971, 0.7893829941749573, 0.7678695321083069, 0.7541249394416809, 0.7374434471130371, 0.7245431542396545, 0.744172215461731, 0.7047198414802551, 0.7390745878219604, 0.7324058413505554, 0.7284752726554871, 0.7129285931587219, 0.7281273007392883, 0.7026622891426086, 0.7218627333641052, 0.7286937832832336, 0.6901949644088745, 0.6941826343536377, 0.6965426206588745, 0.717995822429657, 0.7036473155021667, 0.6827765703201294, 0.7026298642158508, 0.7087629437446594, 0.7009523510932922, 0.7058113217353821, 0.6944135427474976, 0.7173413038253784, 0.7001030445098877, 0.7103250026702881, 0.7072993516921997, 0.7196044921875, 0.6880219578742981, 0.6873070597648621, 0.6912572979927063, 0.7112851738929749], \"source_val_acc_label\": [0.7474358974358974, 0.8269230769230769, 0.8717948717948718, 0.9051282051282051, 0.9237179487179488, 0.9365384615384615, 0.9423076923076923, 0.9487179487179487, 0.9487179487179487, 0.9538461538461539, 0.9532051282051283, 0.9506410256410256, 0.9519230769230769, 0.9525641025641025, 0.9493589743589743, 0.9525641025641025, 0.9532051282051283, 0.9532051282051283, 0.9608974358974359, 0.9532051282051283, 0.9583333333333334, 0.9564102564102565, 0.9538461538461539, 0.9583333333333334, 0.9596153846153846, 0.9583333333333334, 0.9570512820512821, 0.9570512820512821, 0.9583333333333334, 0.9608974358974359, 0.9634615384615385, 0.9596153846153846, 0.9602564102564103, 0.9557692307692308, 0.958974358974359, 0.9634615384615385, 0.9570512820512821, 0.9628205128205128, 0.9576923076923077, 0.9544871794871795], \"target_val_acc_label\": [0.736965811965812, 0.7963675213675213, 0.8123931623931624, 0.8348290598290599, 0.8423076923076923, 0.8587606837606837, 0.8634615384615385, 0.8613247863247864, 0.8651709401709402, 0.8715811965811966, 0.8664529914529915, 0.8743589743589744, 0.8726495726495727, 0.8722222222222222, 0.8762820512820513, 0.8777777777777778, 0.8754273504273504, 0.8786324786324786, 0.8786324786324786, 0.8782051282051282, 0.8831196581196581, 0.8835470085470085, 0.8844017094017094, 0.8818376068376068, 0.8833333333333333, 0.8846153846153846, 0.8805555555555555, 0.8841880341880342, 0.8805555555555555, 0.8856837606837606, 0.8835470085470085, 0.8841880341880342, 0.8841880341880342, 0.8869658119658119, 0.8831196581196581, 0.8871794871794871, 0.8841880341880342, 0.8848290598290598, 0.8844017094017094, 0.880982905982906]}, \"dataset_metrics\": {\"source\": {\"train\": {\"n_unique_x\": 19717, \"n_unique_y\": 130, \"n_batch/episode\": 45}, \"val\": {\"n_unique_x\": 3147, \"n_unique_y\": 130, \"n_batch/episode\": 6}, \"test\": {\"n_unique_x\": 3214, \"n_unique_y\": 130, \"n_batch/episode\": 6}}, \"target\": {\"train\": {\"n_unique_x\": 60264, \"n_unique_y\": 130, \"n_batch/episode\": 138}, \"val\": {\"n_unique_x\": 9492, \"n_unique_y\": 130, \"n_batch/episode\": 18}, \"test\": {\"n_unique_x\": 9627, \"n_unique_y\": 130, \"n_batch/episode\": 18}}}}'"
      ]
     },
     "execution_count": 20,
     "metadata": {},
     "output_type": "execute_result"
    }
   ],
   "source": [
    "json.dumps(experiment)"
   ]
  }
 ],
 "metadata": {
  "celltoolbar": "Tags",
  "kernelspec": {
   "display_name": "Python 3 (ipykernel)",
   "language": "python",
   "name": "python3"
  },
  "language_info": {
   "codemirror_mode": {
    "name": "ipython",
    "version": 3
   },
   "file_extension": ".py",
   "mimetype": "text/x-python",
   "name": "python",
   "nbconvert_exporter": "python",
   "pygments_lexer": "ipython3",
   "version": "3.8.10"
  },
  "papermill": {
   "default_parameters": {},
   "duration": 385.113197,
   "end_time": "2022-03-22T17:21:21.315355",
   "environment_variables": {},
   "exception": null,
   "input_path": "/mnt/wd500GB/CSC500/csc500-main/csc500-notebooks/templates/ptn_template.ipynb",
   "output_path": "trial.ipynb",
   "parameters": {
    "parameters": {
     "BEST_MODEL_PATH": "./best_model.pth",
     "NUM_LOGS_PER_EPOCH": 10,
     "criteria_for_best": "target_accuracy",
     "dataset_seed": 420,
     "device": "cuda",
     "domains_source": [
      3
     ],
     "domains_target": [
      1,
      2,
      4
     ],
     "episode_transforms_source": [],
     "episode_transforms_target": [],
     "experiment_name": "tuned_1v2:wisig",
     "labels_source": [
      "1-10",
      "1-12",
      "1-14",
      "1-16",
      "1-18",
      "1-19",
      "1-8",
      "10-11",
      "10-17",
      "10-4",
      "10-7",
      "11-1",
      "11-10",
      "11-19",
      "11-20",
      "11-4",
      "11-7",
      "12-19",
      "12-20",
      "12-7",
      "13-14",
      "13-18",
      "13-19",
      "13-20",
      "13-3",
      "13-7",
      "14-10",
      "14-11",
      "14-12",
      "14-13",
      "14-14",
      "14-19",
      "14-20",
      "14-7",
      "14-8",
      "14-9",
      "15-1",
      "15-19",
      "15-6",
      "16-1",
      "16-16",
      "16-19",
      "16-20",
      "17-10",
      "17-11",
      "18-1",
      "18-10",
      "18-11",
      "18-12",
      "18-13",
      "18-14",
      "18-15",
      "18-16",
      "18-17",
      "18-19",
      "18-2",
      "18-20",
      "18-4",
      "18-5",
      "18-7",
      "18-8",
      "18-9",
      "19-1",
      "19-10",
      "19-11",
      "19-12",
      "19-13",
      "19-14",
      "19-15",
      "19-19",
      "19-2",
      "19-20",
      "19-3",
      "19-4",
      "19-6",
      "19-7",
      "19-8",
      "19-9",
      "2-1",
      "2-13",
      "2-15",
      "2-3",
      "2-4",
      "2-5",
      "2-6",
      "2-7",
      "2-8",
      "20-1",
      "20-12",
      "20-14",
      "20-15",
      "20-16",
      "20-18",
      "20-19",
      "20-20",
      "20-3",
      "20-4",
      "20-5",
      "20-7",
      "20-8",
      "3-1",
      "3-13",
      "3-18",
      "3-2",
      "3-8",
      "4-1",
      "4-10",
      "4-11",
      "5-1",
      "5-5",
      "6-1",
      "6-15",
      "6-6",
      "7-10",
      "7-11",
      "7-12",
      "7-13",
      "7-14",
      "7-7",
      "7-8",
      "7-9",
      "8-1",
      "8-13",
      "8-14",
      "8-18",
      "8-20",
      "8-3",
      "8-8",
      "9-1",
      "9-7"
     ],
     "labels_target": [
      "1-10",
      "1-12",
      "1-14",
      "1-16",
      "1-18",
      "1-19",
      "1-8",
      "10-11",
      "10-17",
      "10-4",
      "10-7",
      "11-1",
      "11-10",
      "11-19",
      "11-20",
      "11-4",
      "11-7",
      "12-19",
      "12-20",
      "12-7",
      "13-14",
      "13-18",
      "13-19",
      "13-20",
      "13-3",
      "13-7",
      "14-10",
      "14-11",
      "14-12",
      "14-13",
      "14-14",
      "14-19",
      "14-20",
      "14-7",
      "14-8",
      "14-9",
      "15-1",
      "15-19",
      "15-6",
      "16-1",
      "16-16",
      "16-19",
      "16-20",
      "17-10",
      "17-11",
      "18-1",
      "18-10",
      "18-11",
      "18-12",
      "18-13",
      "18-14",
      "18-15",
      "18-16",
      "18-17",
      "18-19",
      "18-2",
      "18-20",
      "18-4",
      "18-5",
      "18-7",
      "18-8",
      "18-9",
      "19-1",
      "19-10",
      "19-11",
      "19-12",
      "19-13",
      "19-14",
      "19-15",
      "19-19",
      "19-2",
      "19-20",
      "19-3",
      "19-4",
      "19-6",
      "19-7",
      "19-8",
      "19-9",
      "2-1",
      "2-13",
      "2-15",
      "2-3",
      "2-4",
      "2-5",
      "2-6",
      "2-7",
      "2-8",
      "20-1",
      "20-12",
      "20-14",
      "20-15",
      "20-16",
      "20-18",
      "20-19",
      "20-20",
      "20-3",
      "20-4",
      "20-5",
      "20-7",
      "20-8",
      "3-1",
      "3-13",
      "3-18",
      "3-2",
      "3-8",
      "4-1",
      "4-10",
      "4-11",
      "5-1",
      "5-5",
      "6-1",
      "6-15",
      "6-6",
      "7-10",
      "7-11",
      "7-12",
      "7-13",
      "7-14",
      "7-7",
      "7-8",
      "7-9",
      "8-1",
      "8-13",
      "8-14",
      "8-18",
      "8-20",
      "8-3",
      "8-8",
      "9-1",
      "9-7"
     ],
     "lr": 0.0001,
     "n_epoch": 50,
     "n_query": 2,
     "n_shot": 3,
     "n_way": 130,
     "num_examples_per_domain_per_label_source": -1,
     "num_examples_per_domain_per_label_target": -1,
     "patience": 3,
     "pickle_name": "wisig.node3-19.stratified_ds.2022A.pkl",
     "seed": 420,
     "test_k_factor": 2,
     "torch_default_dtype": "torch.float32",
     "train_k_factor": 3,
     "val_k_factor": 2,
     "x_net": [
      {
       "class": "nnReshape",
       "kargs": {
        "shape": [
         -1,
         1,
         2,
         256
        ]
       }
      },
      {
       "class": "Conv2d",
       "kargs": {
        "bias": false,
        "in_channels": 1,
        "kernel_size": [
         1,
         7
        ],
        "out_channels": 256,
        "padding": [
         0,
         3
        ]
       }
      },
      {
       "class": "ReLU",
       "kargs": {
        "inplace": true
       }
      },
      {
       "class": "BatchNorm2d",
       "kargs": {
        "num_features": 256
       }
      },
      {
       "class": "Conv2d",
       "kargs": {
        "bias": true,
        "in_channels": 256,
        "kernel_size": [
         2,
         7
        ],
        "out_channels": 80,
        "padding": [
         0,
         3
        ]
       }
      },
      {
       "class": "ReLU",
       "kargs": {
        "inplace": true
       }
      },
      {
       "class": "BatchNorm2d",
       "kargs": {
        "num_features": 80
       }
      },
      {
       "class": "Flatten",
       "kargs": {}
      },
      {
       "class": "Linear",
       "kargs": {
        "in_features": 20480,
        "out_features": 256
       }
      },
      {
       "class": "ReLU",
       "kargs": {
        "inplace": true
       }
      },
      {
       "class": "BatchNorm1d",
       "kargs": {
        "num_features": 256
       }
      },
      {
       "class": "Linear",
       "kargs": {
        "in_features": 256,
        "out_features": 256
       }
      }
     ],
     "x_transforms_source": [
      "unit_power"
     ],
     "x_transforms_target": [
      "unit_power"
     ]
    }
   },
   "start_time": "2022-03-22T17:14:56.202158",
   "version": "2.3.4"
  }
 },
 "nbformat": 4,
 "nbformat_minor": 5
}