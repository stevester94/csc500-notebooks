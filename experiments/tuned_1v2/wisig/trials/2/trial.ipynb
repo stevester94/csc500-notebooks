{
 "cells": [
  {
   "cell_type": "markdown",
   "id": "9fea5f46",
   "metadata": {
    "papermill": {
     "duration": 0.013795,
     "end_time": "2022-03-22T16:38:03.128465",
     "exception": false,
     "start_time": "2022-03-22T16:38:03.114670",
     "status": "completed"
    },
    "tags": []
   },
   "source": [
    "# PTN Template\n",
    "This notebook serves as a template for single dataset PTN experiments  \n",
    "It can be run on its own by setting STANDALONE to True (do a find for \"STANDALONE\" to see where)  \n",
    "But it is intended to be executed as part of a *papermill.py script. See any of the   \n",
    "experimentes with a papermill script to get started with that workflow.  "
   ]
  },
  {
   "cell_type": "code",
   "execution_count": 1,
   "id": "0902182a",
   "metadata": {
    "execution": {
     "iopub.execute_input": "2022-03-22T16:38:03.158096Z",
     "iopub.status.busy": "2022-03-22T16:38:03.157829Z",
     "iopub.status.idle": "2022-03-22T16:38:04.089938Z",
     "shell.execute_reply": "2022-03-22T16:38:04.090389Z"
    },
    "papermill": {
     "duration": 0.951428,
     "end_time": "2022-03-22T16:38:04.090580",
     "exception": false,
     "start_time": "2022-03-22T16:38:03.139152",
     "status": "completed"
    },
    "tags": []
   },
   "outputs": [],
   "source": [
    "%load_ext autoreload\n",
    "%autoreload 2\n",
    "%matplotlib inline\n",
    "\n",
    "    \n",
    "import os, json, sys, time, random\n",
    "import numpy as np\n",
    "import torch\n",
    "from torch.optim import Adam\n",
    "from  easydict import EasyDict\n",
    "import matplotlib.pyplot as plt\n",
    "\n",
    "from steves_models.steves_ptn import Steves_Prototypical_Network\n",
    "\n",
    "from steves_utils.lazy_iterable_wrapper import Lazy_Iterable_Wrapper\n",
    "from steves_utils.iterable_aggregator import Iterable_Aggregator\n",
    "from steves_utils.ptn_train_eval_test_jig import  PTN_Train_Eval_Test_Jig\n",
    "from steves_utils.torch_sequential_builder import build_sequential\n",
    "from steves_utils.torch_utils import get_dataset_metrics, ptn_confusion_by_domain_over_dataloader\n",
    "from steves_utils.utils_v2 import (per_domain_accuracy_from_confusion, get_datasets_base_path)\n",
    "from steves_utils.PTN.utils import independent_accuracy_assesment\n",
    "\n",
    "from steves_utils.stratified_dataset.episodic_accessor import Episodic_Accessor_Factory\n",
    "\n",
    "from steves_utils.ptn_do_report import (\n",
    "    get_loss_curve,\n",
    "    get_results_table,\n",
    "    get_parameters_table,\n",
    "    get_domain_accuracies,\n",
    ")\n",
    "\n",
    "from steves_utils.transforms import get_chained_transform"
   ]
  },
  {
   "cell_type": "markdown",
   "id": "41c840b4",
   "metadata": {
    "papermill": {
     "duration": 0.009242,
     "end_time": "2022-03-22T16:38:04.114156",
     "exception": false,
     "start_time": "2022-03-22T16:38:04.104914",
     "status": "completed"
    },
    "tags": []
   },
   "source": [
    "# Required Parameters\n",
    "These are allowed parameters, not defaults\n",
    "Each of these values need to be present in the injected parameters (the notebook will raise an exception if they are not present)\n",
    "\n",
    "Papermill uses the cell tag \"parameters\" to inject the real parameters below this cell.\n",
    "Enable tags to see what I mean"
   ]
  },
  {
   "cell_type": "code",
   "execution_count": 2,
   "id": "fd44eb83",
   "metadata": {
    "execution": {
     "iopub.execute_input": "2022-03-22T16:38:04.135309Z",
     "iopub.status.busy": "2022-03-22T16:38:04.135038Z",
     "iopub.status.idle": "2022-03-22T16:38:04.146134Z",
     "shell.execute_reply": "2022-03-22T16:38:04.145784Z"
    },
    "papermill": {
     "duration": 0.022646,
     "end_time": "2022-03-22T16:38:04.146205",
     "exception": false,
     "start_time": "2022-03-22T16:38:04.123559",
     "status": "completed"
    },
    "tags": []
   },
   "outputs": [],
   "source": [
    "required_parameters = {\n",
    "    \"experiment_name\",\n",
    "    \"lr\",\n",
    "    \"device\",\n",
    "    \"seed\",\n",
    "    \"dataset_seed\",\n",
    "    \"labels_source\",\n",
    "    \"labels_target\",\n",
    "    \"domains_source\",\n",
    "    \"domains_target\",\n",
    "    \"num_examples_per_domain_per_label_source\",\n",
    "    \"num_examples_per_domain_per_label_target\",\n",
    "    \"n_shot\",\n",
    "    \"n_way\",\n",
    "    \"n_query\",\n",
    "    \"train_k_factor\",\n",
    "    \"val_k_factor\",\n",
    "    \"test_k_factor\",\n",
    "    \"n_epoch\",\n",
    "    \"patience\",\n",
    "    \"criteria_for_best\",\n",
    "    \"x_transforms_source\",\n",
    "    \"x_transforms_target\",\n",
    "    \"episode_transforms_source\",\n",
    "    \"episode_transforms_target\",\n",
    "    \"pickle_name\",\n",
    "    \"x_net\",\n",
    "    \"NUM_LOGS_PER_EPOCH\",\n",
    "    \"BEST_MODEL_PATH\",\n",
    "    \"torch_default_dtype\"\n",
    "}"
   ]
  },
  {
   "cell_type": "code",
   "execution_count": 3,
   "id": "fa3f0049",
   "metadata": {
    "execution": {
     "iopub.execute_input": "2022-03-22T16:38:04.175252Z",
     "iopub.status.busy": "2022-03-22T16:38:04.174935Z",
     "iopub.status.idle": "2022-03-22T16:38:04.187539Z",
     "shell.execute_reply": "2022-03-22T16:38:04.187106Z"
    },
    "papermill": {
     "duration": 0.027998,
     "end_time": "2022-03-22T16:38:04.187630",
     "exception": false,
     "start_time": "2022-03-22T16:38:04.159632",
     "status": "completed"
    },
    "tags": [
     "parameters"
    ]
   },
   "outputs": [],
   "source": [
    "\n",
    "\n",
    "standalone_parameters = {}\n",
    "standalone_parameters[\"experiment_name\"] = \"STANDALONE PTN\"\n",
    "standalone_parameters[\"lr\"] = 0.0001\n",
    "standalone_parameters[\"device\"] = \"cuda\"\n",
    "\n",
    "standalone_parameters[\"seed\"] = 1337\n",
    "standalone_parameters[\"dataset_seed\"] = 1337\n",
    "\n",
    "\n",
    "standalone_parameters[\"num_examples_per_domain_per_label_source\"]=100\n",
    "standalone_parameters[\"num_examples_per_domain_per_label_target\"]=100\n",
    "\n",
    "standalone_parameters[\"n_shot\"] = 3\n",
    "standalone_parameters[\"n_query\"]  = 2\n",
    "standalone_parameters[\"train_k_factor\"] = 1\n",
    "standalone_parameters[\"val_k_factor\"] = 2\n",
    "standalone_parameters[\"test_k_factor\"] = 2\n",
    "\n",
    "\n",
    "standalone_parameters[\"n_epoch\"] = 100\n",
    "\n",
    "standalone_parameters[\"patience\"] = 10\n",
    "standalone_parameters[\"criteria_for_best\"] = \"target_accuracy\"\n",
    "\n",
    "standalone_parameters[\"x_transforms_source\"] = [\"unit_power\"]\n",
    "standalone_parameters[\"x_transforms_target\"] = [\"unit_power\"]\n",
    "standalone_parameters[\"episode_transforms_source\"] = []\n",
    "standalone_parameters[\"episode_transforms_target\"] = []\n",
    "\n",
    "standalone_parameters[\"torch_default_dtype\"] = \"torch.float32\" \n",
    "\n",
    "\n",
    "\n",
    "standalone_parameters[\"x_net\"] =     [\n",
    "    {\"class\": \"nnReshape\", \"kargs\": {\"shape\":[-1, 1, 2, 256]}},\n",
    "    {\"class\": \"Conv2d\", \"kargs\": { \"in_channels\":1, \"out_channels\":256, \"kernel_size\":(1,7), \"bias\":False, \"padding\":(0,3), },},\n",
    "    {\"class\": \"ReLU\", \"kargs\": {\"inplace\": True}},\n",
    "    {\"class\": \"BatchNorm2d\", \"kargs\": {\"num_features\":256}},\n",
    "\n",
    "    {\"class\": \"Conv2d\", \"kargs\": { \"in_channels\":256, \"out_channels\":80, \"kernel_size\":(2,7), \"bias\":True, \"padding\":(0,3), },},\n",
    "    {\"class\": \"ReLU\", \"kargs\": {\"inplace\": True}},\n",
    "    {\"class\": \"BatchNorm2d\", \"kargs\": {\"num_features\":80}},\n",
    "    {\"class\": \"Flatten\", \"kargs\": {}},\n",
    "\n",
    "    {\"class\": \"Linear\", \"kargs\": {\"in_features\": 80*256, \"out_features\": 256}}, # 80 units per IQ pair\n",
    "    {\"class\": \"ReLU\", \"kargs\": {\"inplace\": True}},\n",
    "    {\"class\": \"BatchNorm1d\", \"kargs\": {\"num_features\":256}},\n",
    "\n",
    "    {\"class\": \"Linear\", \"kargs\": {\"in_features\": 256, \"out_features\": 256}},\n",
    "]\n",
    "\n",
    "# Parameters relevant to results\n",
    "# These parameters will basically never need to change\n",
    "standalone_parameters[\"NUM_LOGS_PER_EPOCH\"] = 10\n",
    "standalone_parameters[\"BEST_MODEL_PATH\"] = \"./best_model.pth\"\n",
    "\n",
    "# uncomment for CORES dataset\n",
    "from steves_utils.CORES.utils import (\n",
    "    ALL_NODES,\n",
    "    ALL_NODES_MINIMUM_1000_EXAMPLES,\n",
    "    ALL_DAYS\n",
    ")\n",
    "\n",
    "\n",
    "standalone_parameters[\"labels_source\"] = ALL_NODES\n",
    "standalone_parameters[\"labels_target\"] = ALL_NODES\n",
    "\n",
    "standalone_parameters[\"domains_source\"] = [1]\n",
    "standalone_parameters[\"domains_target\"] = [2,3,4,5]\n",
    "\n",
    "standalone_parameters[\"pickle_name\"] = \"cores.stratified_ds.2022A.pkl\"\n",
    "\n",
    "\n",
    "# Uncomment these for ORACLE dataset\n",
    "# from steves_utils.ORACLE.utils_v2 import (\n",
    "#     ALL_DISTANCES_FEET,\n",
    "#     ALL_RUNS,\n",
    "#     ALL_SERIAL_NUMBERS,\n",
    "# )\n",
    "# standalone_parameters[\"labels_source\"] = ALL_SERIAL_NUMBERS\n",
    "# standalone_parameters[\"labels_target\"] = ALL_SERIAL_NUMBERS\n",
    "# standalone_parameters[\"domains_source\"] = [8,20, 38,50]\n",
    "# standalone_parameters[\"domains_target\"] = [14, 26, 32, 44, 56]\n",
    "# standalone_parameters[\"pickle_name\"] = \"oracle.frame_indexed.stratified_ds.2022A.pkl\"\n",
    "# standalone_parameters[\"num_examples_per_domain_per_label_source\"]=1000\n",
    "# standalone_parameters[\"num_examples_per_domain_per_label_target\"]=1000\n",
    "\n",
    "# Uncomment these for Metahan dataset\n",
    "# standalone_parameters[\"labels_source\"] = list(range(19))\n",
    "# standalone_parameters[\"labels_target\"] = list(range(19))\n",
    "# standalone_parameters[\"domains_source\"] = [0]\n",
    "# standalone_parameters[\"domains_target\"] = [1]\n",
    "# standalone_parameters[\"pickle_name\"] = \"metehan.stratified_ds.2022A.pkl\"\n",
    "# standalone_parameters[\"n_way\"]  = len(standalone_parameters[\"labels_source\"])\n",
    "# standalone_parameters[\"num_examples_per_domain_per_label_source\"]=200\n",
    "# standalone_parameters[\"num_examples_per_domain_per_label_target\"]=100\n",
    "\n",
    "\n",
    "standalone_parameters[\"n_way\"]  = len(standalone_parameters[\"labels_source\"])"
   ]
  },
  {
   "cell_type": "code",
   "execution_count": 4,
   "id": "82bfc0b2",
   "metadata": {
    "execution": {
     "iopub.execute_input": "2022-03-22T16:38:04.221299Z",
     "iopub.status.busy": "2022-03-22T16:38:04.219025Z",
     "iopub.status.idle": "2022-03-22T16:38:04.233848Z",
     "shell.execute_reply": "2022-03-22T16:38:04.233397Z"
    },
    "papermill": {
     "duration": 0.031212,
     "end_time": "2022-03-22T16:38:04.233936",
     "exception": false,
     "start_time": "2022-03-22T16:38:04.202724",
     "status": "completed"
    },
    "tags": [
     "injected-parameters"
    ]
   },
   "outputs": [],
   "source": [
    "# Parameters\n",
    "parameters = {\n",
    "    \"experiment_name\": \"tuned_1v2:wisig\",\n",
    "    \"device\": \"cuda\",\n",
    "    \"lr\": 0.0001,\n",
    "    \"labels_source\": [\n",
    "        \"1-10\",\n",
    "        \"1-12\",\n",
    "        \"1-14\",\n",
    "        \"1-16\",\n",
    "        \"1-18\",\n",
    "        \"1-19\",\n",
    "        \"1-8\",\n",
    "        \"10-11\",\n",
    "        \"10-17\",\n",
    "        \"10-4\",\n",
    "        \"10-7\",\n",
    "        \"11-1\",\n",
    "        \"11-10\",\n",
    "        \"11-19\",\n",
    "        \"11-20\",\n",
    "        \"11-4\",\n",
    "        \"11-7\",\n",
    "        \"12-19\",\n",
    "        \"12-20\",\n",
    "        \"12-7\",\n",
    "        \"13-14\",\n",
    "        \"13-18\",\n",
    "        \"13-19\",\n",
    "        \"13-20\",\n",
    "        \"13-3\",\n",
    "        \"13-7\",\n",
    "        \"14-10\",\n",
    "        \"14-11\",\n",
    "        \"14-12\",\n",
    "        \"14-13\",\n",
    "        \"14-14\",\n",
    "        \"14-19\",\n",
    "        \"14-20\",\n",
    "        \"14-7\",\n",
    "        \"14-8\",\n",
    "        \"14-9\",\n",
    "        \"15-1\",\n",
    "        \"15-19\",\n",
    "        \"15-6\",\n",
    "        \"16-1\",\n",
    "        \"16-16\",\n",
    "        \"16-19\",\n",
    "        \"16-20\",\n",
    "        \"17-10\",\n",
    "        \"17-11\",\n",
    "        \"18-1\",\n",
    "        \"18-10\",\n",
    "        \"18-11\",\n",
    "        \"18-12\",\n",
    "        \"18-13\",\n",
    "        \"18-14\",\n",
    "        \"18-15\",\n",
    "        \"18-16\",\n",
    "        \"18-17\",\n",
    "        \"18-19\",\n",
    "        \"18-2\",\n",
    "        \"18-20\",\n",
    "        \"18-4\",\n",
    "        \"18-5\",\n",
    "        \"18-7\",\n",
    "        \"18-8\",\n",
    "        \"18-9\",\n",
    "        \"19-1\",\n",
    "        \"19-10\",\n",
    "        \"19-11\",\n",
    "        \"19-12\",\n",
    "        \"19-13\",\n",
    "        \"19-14\",\n",
    "        \"19-15\",\n",
    "        \"19-19\",\n",
    "        \"19-2\",\n",
    "        \"19-20\",\n",
    "        \"19-3\",\n",
    "        \"19-4\",\n",
    "        \"19-6\",\n",
    "        \"19-7\",\n",
    "        \"19-8\",\n",
    "        \"19-9\",\n",
    "        \"2-1\",\n",
    "        \"2-13\",\n",
    "        \"2-15\",\n",
    "        \"2-3\",\n",
    "        \"2-4\",\n",
    "        \"2-5\",\n",
    "        \"2-6\",\n",
    "        \"2-7\",\n",
    "        \"2-8\",\n",
    "        \"20-1\",\n",
    "        \"20-12\",\n",
    "        \"20-14\",\n",
    "        \"20-15\",\n",
    "        \"20-16\",\n",
    "        \"20-18\",\n",
    "        \"20-19\",\n",
    "        \"20-20\",\n",
    "        \"20-3\",\n",
    "        \"20-4\",\n",
    "        \"20-5\",\n",
    "        \"20-7\",\n",
    "        \"20-8\",\n",
    "        \"3-1\",\n",
    "        \"3-13\",\n",
    "        \"3-18\",\n",
    "        \"3-2\",\n",
    "        \"3-8\",\n",
    "        \"4-1\",\n",
    "        \"4-10\",\n",
    "        \"4-11\",\n",
    "        \"5-1\",\n",
    "        \"5-5\",\n",
    "        \"6-1\",\n",
    "        \"6-15\",\n",
    "        \"6-6\",\n",
    "        \"7-10\",\n",
    "        \"7-11\",\n",
    "        \"7-12\",\n",
    "        \"7-13\",\n",
    "        \"7-14\",\n",
    "        \"7-7\",\n",
    "        \"7-8\",\n",
    "        \"7-9\",\n",
    "        \"8-1\",\n",
    "        \"8-13\",\n",
    "        \"8-14\",\n",
    "        \"8-18\",\n",
    "        \"8-20\",\n",
    "        \"8-3\",\n",
    "        \"8-8\",\n",
    "        \"9-1\",\n",
    "        \"9-7\",\n",
    "    ],\n",
    "    \"labels_target\": [\n",
    "        \"1-10\",\n",
    "        \"1-12\",\n",
    "        \"1-14\",\n",
    "        \"1-16\",\n",
    "        \"1-18\",\n",
    "        \"1-19\",\n",
    "        \"1-8\",\n",
    "        \"10-11\",\n",
    "        \"10-17\",\n",
    "        \"10-4\",\n",
    "        \"10-7\",\n",
    "        \"11-1\",\n",
    "        \"11-10\",\n",
    "        \"11-19\",\n",
    "        \"11-20\",\n",
    "        \"11-4\",\n",
    "        \"11-7\",\n",
    "        \"12-19\",\n",
    "        \"12-20\",\n",
    "        \"12-7\",\n",
    "        \"13-14\",\n",
    "        \"13-18\",\n",
    "        \"13-19\",\n",
    "        \"13-20\",\n",
    "        \"13-3\",\n",
    "        \"13-7\",\n",
    "        \"14-10\",\n",
    "        \"14-11\",\n",
    "        \"14-12\",\n",
    "        \"14-13\",\n",
    "        \"14-14\",\n",
    "        \"14-19\",\n",
    "        \"14-20\",\n",
    "        \"14-7\",\n",
    "        \"14-8\",\n",
    "        \"14-9\",\n",
    "        \"15-1\",\n",
    "        \"15-19\",\n",
    "        \"15-6\",\n",
    "        \"16-1\",\n",
    "        \"16-16\",\n",
    "        \"16-19\",\n",
    "        \"16-20\",\n",
    "        \"17-10\",\n",
    "        \"17-11\",\n",
    "        \"18-1\",\n",
    "        \"18-10\",\n",
    "        \"18-11\",\n",
    "        \"18-12\",\n",
    "        \"18-13\",\n",
    "        \"18-14\",\n",
    "        \"18-15\",\n",
    "        \"18-16\",\n",
    "        \"18-17\",\n",
    "        \"18-19\",\n",
    "        \"18-2\",\n",
    "        \"18-20\",\n",
    "        \"18-4\",\n",
    "        \"18-5\",\n",
    "        \"18-7\",\n",
    "        \"18-8\",\n",
    "        \"18-9\",\n",
    "        \"19-1\",\n",
    "        \"19-10\",\n",
    "        \"19-11\",\n",
    "        \"19-12\",\n",
    "        \"19-13\",\n",
    "        \"19-14\",\n",
    "        \"19-15\",\n",
    "        \"19-19\",\n",
    "        \"19-2\",\n",
    "        \"19-20\",\n",
    "        \"19-3\",\n",
    "        \"19-4\",\n",
    "        \"19-6\",\n",
    "        \"19-7\",\n",
    "        \"19-8\",\n",
    "        \"19-9\",\n",
    "        \"2-1\",\n",
    "        \"2-13\",\n",
    "        \"2-15\",\n",
    "        \"2-3\",\n",
    "        \"2-4\",\n",
    "        \"2-5\",\n",
    "        \"2-6\",\n",
    "        \"2-7\",\n",
    "        \"2-8\",\n",
    "        \"20-1\",\n",
    "        \"20-12\",\n",
    "        \"20-14\",\n",
    "        \"20-15\",\n",
    "        \"20-16\",\n",
    "        \"20-18\",\n",
    "        \"20-19\",\n",
    "        \"20-20\",\n",
    "        \"20-3\",\n",
    "        \"20-4\",\n",
    "        \"20-5\",\n",
    "        \"20-7\",\n",
    "        \"20-8\",\n",
    "        \"3-1\",\n",
    "        \"3-13\",\n",
    "        \"3-18\",\n",
    "        \"3-2\",\n",
    "        \"3-8\",\n",
    "        \"4-1\",\n",
    "        \"4-10\",\n",
    "        \"4-11\",\n",
    "        \"5-1\",\n",
    "        \"5-5\",\n",
    "        \"6-1\",\n",
    "        \"6-15\",\n",
    "        \"6-6\",\n",
    "        \"7-10\",\n",
    "        \"7-11\",\n",
    "        \"7-12\",\n",
    "        \"7-13\",\n",
    "        \"7-14\",\n",
    "        \"7-7\",\n",
    "        \"7-8\",\n",
    "        \"7-9\",\n",
    "        \"8-1\",\n",
    "        \"8-13\",\n",
    "        \"8-14\",\n",
    "        \"8-18\",\n",
    "        \"8-20\",\n",
    "        \"8-3\",\n",
    "        \"8-8\",\n",
    "        \"9-1\",\n",
    "        \"9-7\",\n",
    "    ],\n",
    "    \"episode_transforms_source\": [],\n",
    "    \"episode_transforms_target\": [],\n",
    "    \"domains_source\": [3],\n",
    "    \"domains_target\": [1, 2, 4],\n",
    "    \"num_examples_per_domain_per_label_source\": -1,\n",
    "    \"num_examples_per_domain_per_label_target\": -1,\n",
    "    \"n_shot\": 3,\n",
    "    \"n_way\": 130,\n",
    "    \"n_query\": 2,\n",
    "    \"train_k_factor\": 3,\n",
    "    \"val_k_factor\": 2,\n",
    "    \"test_k_factor\": 2,\n",
    "    \"torch_default_dtype\": \"torch.float32\",\n",
    "    \"n_epoch\": 50,\n",
    "    \"patience\": 3,\n",
    "    \"criteria_for_best\": \"target_accuracy\",\n",
    "    \"x_net\": [\n",
    "        {\"class\": \"nnReshape\", \"kargs\": {\"shape\": [-1, 1, 2, 256]}},\n",
    "        {\n",
    "            \"class\": \"Conv2d\",\n",
    "            \"kargs\": {\n",
    "                \"in_channels\": 1,\n",
    "                \"out_channels\": 256,\n",
    "                \"kernel_size\": [1, 7],\n",
    "                \"bias\": False,\n",
    "                \"padding\": [0, 3],\n",
    "            },\n",
    "        },\n",
    "        {\"class\": \"ReLU\", \"kargs\": {\"inplace\": True}},\n",
    "        {\"class\": \"BatchNorm2d\", \"kargs\": {\"num_features\": 256}},\n",
    "        {\n",
    "            \"class\": \"Conv2d\",\n",
    "            \"kargs\": {\n",
    "                \"in_channels\": 256,\n",
    "                \"out_channels\": 80,\n",
    "                \"kernel_size\": [2, 7],\n",
    "                \"bias\": True,\n",
    "                \"padding\": [0, 3],\n",
    "            },\n",
    "        },\n",
    "        {\"class\": \"ReLU\", \"kargs\": {\"inplace\": True}},\n",
    "        {\"class\": \"BatchNorm2d\", \"kargs\": {\"num_features\": 80}},\n",
    "        {\"class\": \"Flatten\", \"kargs\": {}},\n",
    "        {\"class\": \"Linear\", \"kargs\": {\"in_features\": 20480, \"out_features\": 256}},\n",
    "        {\"class\": \"ReLU\", \"kargs\": {\"inplace\": True}},\n",
    "        {\"class\": \"BatchNorm1d\", \"kargs\": {\"num_features\": 256}},\n",
    "        {\"class\": \"Linear\", \"kargs\": {\"in_features\": 256, \"out_features\": 256}},\n",
    "    ],\n",
    "    \"NUM_LOGS_PER_EPOCH\": 10,\n",
    "    \"BEST_MODEL_PATH\": \"./best_model.pth\",\n",
    "    \"pickle_name\": \"wisig.node3-19.stratified_ds.2022A.pkl\",\n",
    "    \"x_transforms_source\": [\"unit_mag\"],\n",
    "    \"x_transforms_target\": [\"unit_mag\"],\n",
    "    \"dataset_seed\": 1337,\n",
    "    \"seed\": 1337,\n",
    "}\n"
   ]
  },
  {
   "cell_type": "code",
   "execution_count": 5,
   "id": "8fa1cc33",
   "metadata": {
    "execution": {
     "iopub.execute_input": "2022-03-22T16:38:04.260383Z",
     "iopub.status.busy": "2022-03-22T16:38:04.260127Z",
     "iopub.status.idle": "2022-03-22T16:38:04.271675Z",
     "shell.execute_reply": "2022-03-22T16:38:04.271288Z"
    },
    "papermill": {
     "duration": 0.023731,
     "end_time": "2022-03-22T16:38:04.271763",
     "exception": false,
     "start_time": "2022-03-22T16:38:04.248032",
     "status": "completed"
    },
    "tags": []
   },
   "outputs": [],
   "source": [
    "# Set this to True if you want to run this template directly\n",
    "STANDALONE = False\n",
    "if STANDALONE:\n",
    "    print(\"parameters not injected, running with standalone_parameters\")\n",
    "    parameters = standalone_parameters\n",
    "\n",
    "if not 'parameters' in locals() and not 'parameters' in globals():\n",
    "    raise Exception(\"Parameter injection failed\")\n",
    "\n",
    "#Use an easy dict for all the parameters\n",
    "p = EasyDict(parameters)\n",
    "\n",
    "supplied_keys = set(p.keys())\n",
    "\n",
    "if  supplied_keys != required_parameters:\n",
    "    print(\"Parameters are incorrect\")\n",
    "    if len(supplied_keys - required_parameters)>0: print(\"Shouldn't have:\", str(supplied_keys - required_parameters))\n",
    "    if len(required_parameters - supplied_keys)>0: print(\"Need to have:\", str(required_parameters - supplied_keys))\n",
    "    raise RuntimeError(\"Parameters are incorrect\")\n",
    "\n"
   ]
  },
  {
   "cell_type": "code",
   "execution_count": 6,
   "id": "3a028d58",
   "metadata": {
    "execution": {
     "iopub.execute_input": "2022-03-22T16:38:04.295616Z",
     "iopub.status.busy": "2022-03-22T16:38:04.295363Z",
     "iopub.status.idle": "2022-03-22T16:38:04.306145Z",
     "shell.execute_reply": "2022-03-22T16:38:04.305759Z"
    },
    "papermill": {
     "duration": 0.02278,
     "end_time": "2022-03-22T16:38:04.306234",
     "exception": false,
     "start_time": "2022-03-22T16:38:04.283454",
     "status": "completed"
    },
    "tags": []
   },
   "outputs": [],
   "source": [
    "###################################\n",
    "# Set the RNGs and make it all deterministic\n",
    "###################################\n",
    "np.random.seed(p.seed)\n",
    "random.seed(p.seed)\n",
    "torch.manual_seed(p.seed)\n",
    "\n",
    "torch.use_deterministic_algorithms(True) "
   ]
  },
  {
   "cell_type": "code",
   "execution_count": 7,
   "id": "b691acf6",
   "metadata": {
    "execution": {
     "iopub.execute_input": "2022-03-22T16:38:04.330001Z",
     "iopub.status.busy": "2022-03-22T16:38:04.329744Z",
     "iopub.status.idle": "2022-03-22T16:38:04.339957Z",
     "shell.execute_reply": "2022-03-22T16:38:04.339710Z"
    },
    "papermill": {
     "duration": 0.021343,
     "end_time": "2022-03-22T16:38:04.340007",
     "exception": false,
     "start_time": "2022-03-22T16:38:04.318664",
     "status": "completed"
    },
    "tags": []
   },
   "outputs": [],
   "source": [
    "###########################################\n",
    "# The stratified datasets honor this\n",
    "###########################################\n",
    "torch.set_default_dtype(eval(p.torch_default_dtype))"
   ]
  },
  {
   "cell_type": "code",
   "execution_count": 8,
   "id": "b5fba671",
   "metadata": {
    "execution": {
     "iopub.execute_input": "2022-03-22T16:38:04.364210Z",
     "iopub.status.busy": "2022-03-22T16:38:04.363959Z",
     "iopub.status.idle": "2022-03-22T16:38:04.400937Z",
     "shell.execute_reply": "2022-03-22T16:38:04.400545Z"
    },
    "papermill": {
     "duration": 0.048451,
     "end_time": "2022-03-22T16:38:04.401026",
     "exception": false,
     "start_time": "2022-03-22T16:38:04.352575",
     "status": "completed"
    },
    "tags": []
   },
   "outputs": [],
   "source": [
    "###################################\n",
    "# Build the network(s)\n",
    "# Note: It's critical to do this AFTER setting the RNG\n",
    "# (This is due to the randomized initial weights)\n",
    "###################################\n",
    "x_net = build_sequential(p.x_net)"
   ]
  },
  {
   "cell_type": "code",
   "execution_count": 9,
   "id": "5d7e61cc",
   "metadata": {
    "execution": {
     "iopub.execute_input": "2022-03-22T16:38:04.427703Z",
     "iopub.status.busy": "2022-03-22T16:38:04.427453Z",
     "iopub.status.idle": "2022-03-22T16:38:04.438291Z",
     "shell.execute_reply": "2022-03-22T16:38:04.438039Z"
    },
    "papermill": {
     "duration": 0.022645,
     "end_time": "2022-03-22T16:38:04.438342",
     "exception": false,
     "start_time": "2022-03-22T16:38:04.415697",
     "status": "completed"
    },
    "tags": []
   },
   "outputs": [],
   "source": [
    "start_time_secs = time.time()"
   ]
  },
  {
   "cell_type": "code",
   "execution_count": 10,
   "id": "fd5442bc",
   "metadata": {
    "execution": {
     "iopub.execute_input": "2022-03-22T16:38:04.463709Z",
     "iopub.status.busy": "2022-03-22T16:38:04.463440Z",
     "iopub.status.idle": "2022-03-22T16:38:21.208401Z",
     "shell.execute_reply": "2022-03-22T16:38:21.207987Z"
    },
    "papermill": {
     "duration": 16.760399,
     "end_time": "2022-03-22T16:38:21.208506",
     "exception": false,
     "start_time": "2022-03-22T16:38:04.448107",
     "status": "completed"
    },
    "tags": []
   },
   "outputs": [],
   "source": [
    "###################################\n",
    "# Build the dataset\n",
    "###################################\n",
    "\n",
    "if p.x_transforms_source == []: x_transform_source = None\n",
    "else: x_transform_source = get_chained_transform(p.x_transforms_source) \n",
    "\n",
    "if p.x_transforms_target == []: x_transform_target = None\n",
    "else: x_transform_target = get_chained_transform(p.x_transforms_target)\n",
    "\n",
    "if p.episode_transforms_source == []: episode_transform_source = None\n",
    "else: raise Exception(\"episode_transform_source not implemented\")\n",
    "\n",
    "if p.episode_transforms_target == []: episode_transform_target = None\n",
    "else: raise Exception(\"episode_transform_target not implemented\")\n",
    "\n",
    "\n",
    "eaf_source = Episodic_Accessor_Factory(\n",
    "    labels=p.labels_source,\n",
    "    domains=p.domains_source,\n",
    "    num_examples_per_domain_per_label=p.num_examples_per_domain_per_label_source,\n",
    "    iterator_seed=p.seed,\n",
    "    dataset_seed=p.dataset_seed,\n",
    "    n_shot=p.n_shot,\n",
    "    n_way=p.n_way,\n",
    "    n_query=p.n_query,\n",
    "    train_val_test_k_factors=(p.train_k_factor,p.val_k_factor,p.test_k_factor),\n",
    "    pickle_path=os.path.join(get_datasets_base_path(), p.pickle_name),\n",
    "    x_transform_func=x_transform_source,\n",
    "    example_transform_func=episode_transform_source,\n",
    "    \n",
    ")\n",
    "train_original_source, val_original_source, test_original_source = eaf_source.get_train(), eaf_source.get_val(), eaf_source.get_test()\n",
    "\n",
    "\n",
    "eaf_target = Episodic_Accessor_Factory(\n",
    "    labels=p.labels_target,\n",
    "    domains=p.domains_target,\n",
    "    num_examples_per_domain_per_label=p.num_examples_per_domain_per_label_target,\n",
    "    iterator_seed=p.seed,\n",
    "    dataset_seed=p.dataset_seed,\n",
    "    n_shot=p.n_shot,\n",
    "    n_way=p.n_way,\n",
    "    n_query=p.n_query,\n",
    "    train_val_test_k_factors=(p.train_k_factor,p.val_k_factor,p.test_k_factor),\n",
    "    pickle_path=os.path.join(get_datasets_base_path(), p.pickle_name),\n",
    "    x_transform_func=x_transform_target,\n",
    "    example_transform_func=episode_transform_target,\n",
    ")\n",
    "train_original_target, val_original_target, test_original_target = eaf_target.get_train(), eaf_target.get_val(), eaf_target.get_test()\n",
    "\n",
    "\n",
    "transform_lambda = lambda ex: ex[1] # Original is (<domain>, <episode>) so we strip down to episode only\n",
    "\n",
    "train_processed_source = Lazy_Iterable_Wrapper(train_original_source, transform_lambda)\n",
    "val_processed_source   = Lazy_Iterable_Wrapper(val_original_source, transform_lambda)\n",
    "test_processed_source  = Lazy_Iterable_Wrapper(test_original_source, transform_lambda)\n",
    "\n",
    "train_processed_target = Lazy_Iterable_Wrapper(train_original_target, transform_lambda)\n",
    "val_processed_target   = Lazy_Iterable_Wrapper(val_original_target, transform_lambda)\n",
    "test_processed_target  = Lazy_Iterable_Wrapper(test_original_target, transform_lambda)\n",
    "\n",
    "datasets = EasyDict({\n",
    "    \"source\": {\n",
    "        \"original\": {\"train\":train_original_source, \"val\":val_original_source, \"test\":test_original_source},\n",
    "        \"processed\": {\"train\":train_processed_source, \"val\":val_processed_source, \"test\":test_processed_source}\n",
    "    },\n",
    "    \"target\": {\n",
    "        \"original\": {\"train\":train_original_target, \"val\":val_original_target, \"test\":test_original_target},\n",
    "        \"processed\": {\"train\":train_processed_target, \"val\":val_processed_target, \"test\":test_processed_target}\n",
    "    },\n",
    "})"
   ]
  },
  {
   "cell_type": "code",
   "execution_count": 11,
   "id": "296189d9",
   "metadata": {
    "execution": {
     "iopub.execute_input": "2022-03-22T16:38:21.238867Z",
     "iopub.status.busy": "2022-03-22T16:38:21.238605Z",
     "iopub.status.idle": "2022-03-22T16:38:22.958047Z",
     "shell.execute_reply": "2022-03-22T16:38:22.958579Z"
    },
    "papermill": {
     "duration": 1.73494,
     "end_time": "2022-03-22T16:38:22.958727",
     "exception": false,
     "start_time": "2022-03-22T16:38:21.223787",
     "status": "completed"
    },
    "tags": []
   },
   "outputs": [
    {
     "name": "stdout",
     "output_type": "stream",
     "text": [
      "Visually inspect these to see if they line up with expected values given the transforms\n",
      "x_transforms_source ['unit_mag']\n",
      "x_transforms_target ['unit_mag']\n",
      "Average magnitude, source: 1.0\n",
      "Average power, source: 1.2096208\n"
     ]
    },
    {
     "name": "stdout",
     "output_type": "stream",
     "text": [
      "Average magnitude, target: 1.0\n",
      "Average power, target: 1.3668913\n"
     ]
    }
   ],
   "source": [
    "# Some quick unit tests on the data\n",
    "from steves_utils.transforms import get_average_power, get_average_magnitude\n",
    "\n",
    "q_x, q_y, s_x, s_y, truth = next(iter(train_processed_source))\n",
    "\n",
    "assert q_x.dtype == eval(p.torch_default_dtype)\n",
    "assert s_x.dtype == eval(p.torch_default_dtype)\n",
    "\n",
    "print(\"Visually inspect these to see if they line up with expected values given the transforms\")\n",
    "print('x_transforms_source', p.x_transforms_source)\n",
    "print('x_transforms_target', p.x_transforms_target)\n",
    "print(\"Average magnitude, source:\", get_average_magnitude(q_x[0].numpy()))\n",
    "print(\"Average power, source:\", get_average_power(q_x[0].numpy()))\n",
    "\n",
    "q_x, q_y, s_x, s_y, truth = next(iter(train_processed_target))\n",
    "print(\"Average magnitude, target:\", get_average_magnitude(q_x[0].numpy()))\n",
    "print(\"Average power, target:\", get_average_power(q_x[0].numpy()))\n"
   ]
  },
  {
   "cell_type": "code",
   "execution_count": 12,
   "id": "bbdacba1",
   "metadata": {
    "execution": {
     "iopub.execute_input": "2022-03-22T16:38:22.988757Z",
     "iopub.status.busy": "2022-03-22T16:38:22.987829Z",
     "iopub.status.idle": "2022-03-22T16:38:23.054937Z",
     "shell.execute_reply": "2022-03-22T16:38:23.054614Z"
    },
    "papermill": {
     "duration": 0.081488,
     "end_time": "2022-03-22T16:38:23.055023",
     "exception": false,
     "start_time": "2022-03-22T16:38:22.973535",
     "status": "completed"
    },
    "tags": []
   },
   "outputs": [
    {
     "name": "stdout",
     "output_type": "stream",
     "text": [
      "(2, 256)\n"
     ]
    }
   ],
   "source": [
    "###################################\n",
    "# Build the model\n",
    "###################################\n",
    "model = Steves_Prototypical_Network(x_net, device=p.device, x_shape=(2,256))\n",
    "optimizer = Adam(params=model.parameters(), lr=p.lr)"
   ]
  },
  {
   "cell_type": "code",
   "execution_count": 13,
   "id": "22b39ac5",
   "metadata": {
    "execution": {
     "iopub.execute_input": "2022-03-22T16:38:23.082338Z",
     "iopub.status.busy": "2022-03-22T16:38:23.082085Z",
     "iopub.status.idle": "2022-03-22T16:42:46.251760Z",
     "shell.execute_reply": "2022-03-22T16:42:46.251178Z"
    },
    "papermill": {
     "duration": 263.182254,
     "end_time": "2022-03-22T16:42:46.251871",
     "exception": false,
     "start_time": "2022-03-22T16:38:23.069617",
     "status": "completed"
    },
    "tags": []
   },
   "outputs": [
    {
     "name": "stdout",
     "output_type": "stream",
     "text": [
      "epoch: 1, [batch: 1 / 45], examples_per_second: 2015.0563, train_label_loss: 4.6138, \n"
     ]
    },
    {
     "name": "stdout",
     "output_type": "stream",
     "text": [
      "epoch: 1, [batch: 5 / 45], examples_per_second: 3973.0581, train_label_loss: 4.1563, \n"
     ]
    },
    {
     "name": "stdout",
     "output_type": "stream",
     "text": [
      "epoch: 1, [batch: 9 / 45], examples_per_second: 4037.5059, train_label_loss: 3.4876, \n"
     ]
    },
    {
     "name": "stdout",
     "output_type": "stream",
     "text": [
      "epoch: 1, [batch: 14 / 45], examples_per_second: 4059.4999, train_label_loss: 2.8434, \n"
     ]
    },
    {
     "name": "stdout",
     "output_type": "stream",
     "text": [
      "epoch: 1, [batch: 18 / 45], examples_per_second: 4059.4869, train_label_loss: 2.5183, \n"
     ]
    },
    {
     "name": "stdout",
     "output_type": "stream",
     "text": [
      "epoch: 1, [batch: 23 / 45], examples_per_second: 3982.0742, train_label_loss: 2.1496, \n"
     ]
    },
    {
     "name": "stdout",
     "output_type": "stream",
     "text": [
      "epoch: 1, [batch: 27 / 45], examples_per_second: 4054.1098, train_label_loss: 1.8584, \n"
     ]
    },
    {
     "name": "stdout",
     "output_type": "stream",
     "text": [
      "epoch: 1, [batch: 31 / 45], examples_per_second: 4064.5101, train_label_loss: 1.7960, \n"
     ]
    },
    {
     "name": "stdout",
     "output_type": "stream",
     "text": [
      "epoch: 1, [batch: 36 / 45], examples_per_second: 4097.1880, train_label_loss: 1.6500, \n"
     ]
    },
    {
     "name": "stdout",
     "output_type": "stream",
     "text": [
      "epoch: 1, [batch: 40 / 45], examples_per_second: 4151.1670, train_label_loss: 1.5961, \n"
     ]
    },
    {
     "name": "stdout",
     "output_type": "stream",
     "text": [
      "=============================================================\n",
      "epoch: 1, source_val_acc_label: 0.7712, target_val_acc_label: 0.7079, source_val_label_loss: 1.4059, target_val_label_loss: 1.6487, \n",
      "=============================================================\n"
     ]
    },
    {
     "name": "stdout",
     "output_type": "stream",
     "text": [
      "New best\n"
     ]
    },
    {
     "name": "stdout",
     "output_type": "stream",
     "text": [
      "epoch: 2, [batch: 1 / 45], examples_per_second: 500.1631, train_label_loss: 1.2987, \n"
     ]
    },
    {
     "name": "stdout",
     "output_type": "stream",
     "text": [
      "epoch: 2, [batch: 5 / 45], examples_per_second: 4020.1451, train_label_loss: 1.1731, \n"
     ]
    },
    {
     "name": "stdout",
     "output_type": "stream",
     "text": [
      "epoch: 2, [batch: 9 / 45], examples_per_second: 4127.7598, train_label_loss: 1.3254, \n"
     ]
    },
    {
     "name": "stdout",
     "output_type": "stream",
     "text": [
      "epoch: 2, [batch: 14 / 45], examples_per_second: 4122.4054, train_label_loss: 1.2142, \n"
     ]
    },
    {
     "name": "stdout",
     "output_type": "stream",
     "text": [
      "epoch: 2, [batch: 18 / 45], examples_per_second: 4124.9899, train_label_loss: 0.9838, \n"
     ]
    },
    {
     "name": "stdout",
     "output_type": "stream",
     "text": [
      "epoch: 2, [batch: 23 / 45], examples_per_second: 4039.7362, train_label_loss: 1.2520, \n"
     ]
    },
    {
     "name": "stdout",
     "output_type": "stream",
     "text": [
      "epoch: 2, [batch: 27 / 45], examples_per_second: 4127.1083, train_label_loss: 1.2598, \n"
     ]
    },
    {
     "name": "stdout",
     "output_type": "stream",
     "text": [
      "epoch: 2, [batch: 31 / 45], examples_per_second: 4123.0014, train_label_loss: 0.8894, \n"
     ]
    },
    {
     "name": "stdout",
     "output_type": "stream",
     "text": [
      "epoch: 2, [batch: 36 / 45], examples_per_second: 4163.4954, train_label_loss: 0.8586, \n"
     ]
    },
    {
     "name": "stdout",
     "output_type": "stream",
     "text": [
      "epoch: 2, [batch: 40 / 45], examples_per_second: 4223.6388, train_label_loss: 1.0362, \n"
     ]
    },
    {
     "name": "stdout",
     "output_type": "stream",
     "text": [
      "=============================================================\n",
      "epoch: 2, source_val_acc_label: 0.8308, target_val_acc_label: 0.7684, source_val_label_loss: 0.9323, target_val_label_loss: 1.2788, \n",
      "=============================================================\n"
     ]
    },
    {
     "name": "stdout",
     "output_type": "stream",
     "text": [
      "New best\n"
     ]
    },
    {
     "name": "stdout",
     "output_type": "stream",
     "text": [
      "epoch: 3, [batch: 1 / 45], examples_per_second: 492.9728, train_label_loss: 1.0507, \n"
     ]
    },
    {
     "name": "stdout",
     "output_type": "stream",
     "text": [
      "epoch: 3, [batch: 5 / 45], examples_per_second: 4024.1758, train_label_loss: 0.8643, \n"
     ]
    },
    {
     "name": "stdout",
     "output_type": "stream",
     "text": [
      "epoch: 3, [batch: 9 / 45], examples_per_second: 4138.8466, train_label_loss: 0.7330, \n"
     ]
    },
    {
     "name": "stdout",
     "output_type": "stream",
     "text": [
      "epoch: 3, [batch: 14 / 45], examples_per_second: 4129.7278, train_label_loss: 0.9635, \n"
     ]
    },
    {
     "name": "stdout",
     "output_type": "stream",
     "text": [
      "epoch: 3, [batch: 18 / 45], examples_per_second: 4133.9060, train_label_loss: 0.6141, \n"
     ]
    },
    {
     "name": "stdout",
     "output_type": "stream",
     "text": [
      "epoch: 3, [batch: 23 / 45], examples_per_second: 4046.0865, train_label_loss: 0.6541, \n"
     ]
    },
    {
     "name": "stdout",
     "output_type": "stream",
     "text": [
      "epoch: 3, [batch: 27 / 45], examples_per_second: 4128.7646, train_label_loss: 0.6392, \n"
     ]
    },
    {
     "name": "stdout",
     "output_type": "stream",
     "text": [
      "epoch: 3, [batch: 31 / 45], examples_per_second: 4136.4447, train_label_loss: 0.7489, \n"
     ]
    },
    {
     "name": "stdout",
     "output_type": "stream",
     "text": [
      "epoch: 3, [batch: 36 / 45], examples_per_second: 4161.4071, train_label_loss: 0.7416, \n"
     ]
    },
    {
     "name": "stdout",
     "output_type": "stream",
     "text": [
      "epoch: 3, [batch: 40 / 45], examples_per_second: 4224.5649, train_label_loss: 0.5613, \n"
     ]
    },
    {
     "name": "stdout",
     "output_type": "stream",
     "text": [
      "=============================================================\n",
      "epoch: 3, source_val_acc_label: 0.8744, target_val_acc_label: 0.7936, source_val_label_loss: 0.6600, target_val_label_loss: 1.1115, \n",
      "=============================================================\n"
     ]
    },
    {
     "name": "stdout",
     "output_type": "stream",
     "text": [
      "New best\n"
     ]
    },
    {
     "name": "stdout",
     "output_type": "stream",
     "text": [
      "epoch: 4, [batch: 1 / 45], examples_per_second: 493.7835, train_label_loss: 0.7634, \n"
     ]
    },
    {
     "name": "stdout",
     "output_type": "stream",
     "text": [
      "epoch: 4, [batch: 5 / 45], examples_per_second: 4036.4927, train_label_loss: 0.7020, \n"
     ]
    },
    {
     "name": "stdout",
     "output_type": "stream",
     "text": [
      "epoch: 4, [batch: 9 / 45], examples_per_second: 4131.3001, train_label_loss: 0.7168, \n"
     ]
    },
    {
     "name": "stdout",
     "output_type": "stream",
     "text": [
      "epoch: 4, [batch: 14 / 45], examples_per_second: 4128.8009, train_label_loss: 0.7155, \n"
     ]
    },
    {
     "name": "stdout",
     "output_type": "stream",
     "text": [
      "epoch: 4, [batch: 18 / 45], examples_per_second: 4131.0810, train_label_loss: 0.4968, \n"
     ]
    },
    {
     "name": "stdout",
     "output_type": "stream",
     "text": [
      "epoch: 4, [batch: 23 / 45], examples_per_second: 4053.1436, train_label_loss: 0.4598, \n"
     ]
    },
    {
     "name": "stdout",
     "output_type": "stream",
     "text": [
      "epoch: 4, [batch: 27 / 45], examples_per_second: 4125.2786, train_label_loss: 0.5369, \n"
     ]
    },
    {
     "name": "stdout",
     "output_type": "stream",
     "text": [
      "epoch: 4, [batch: 31 / 45], examples_per_second: 4133.1697, train_label_loss: 0.3426, \n"
     ]
    },
    {
     "name": "stdout",
     "output_type": "stream",
     "text": [
      "epoch: 4, [batch: 36 / 45], examples_per_second: 4162.1911, train_label_loss: 0.5520, \n"
     ]
    },
    {
     "name": "stdout",
     "output_type": "stream",
     "text": [
      "epoch: 4, [batch: 40 / 45], examples_per_second: 4211.9862, train_label_loss: 0.3877, \n"
     ]
    },
    {
     "name": "stdout",
     "output_type": "stream",
     "text": [
      "=============================================================\n",
      "epoch: 4, source_val_acc_label: 0.9038, target_val_acc_label: 0.8162, source_val_label_loss: 0.4916, target_val_label_loss: 0.9780, \n",
      "=============================================================\n"
     ]
    },
    {
     "name": "stdout",
     "output_type": "stream",
     "text": [
      "New best\n"
     ]
    },
    {
     "name": "stdout",
     "output_type": "stream",
     "text": [
      "epoch: 5, [batch: 1 / 45], examples_per_second: 496.1338, train_label_loss: 0.4767, \n"
     ]
    },
    {
     "name": "stdout",
     "output_type": "stream",
     "text": [
      "epoch: 5, [batch: 5 / 45], examples_per_second: 4007.1147, train_label_loss: 0.5406, \n"
     ]
    },
    {
     "name": "stdout",
     "output_type": "stream",
     "text": [
      "epoch: 5, [batch: 9 / 45], examples_per_second: 4108.2937, train_label_loss: 0.3067, \n"
     ]
    },
    {
     "name": "stdout",
     "output_type": "stream",
     "text": [
      "epoch: 5, [batch: 14 / 45], examples_per_second: 4118.7994, train_label_loss: 0.5820, \n"
     ]
    },
    {
     "name": "stdout",
     "output_type": "stream",
     "text": [
      "epoch: 5, [batch: 18 / 45], examples_per_second: 4118.3023, train_label_loss: 0.5102, \n"
     ]
    },
    {
     "name": "stdout",
     "output_type": "stream",
     "text": [
      "epoch: 5, [batch: 23 / 45], examples_per_second: 4041.2273, train_label_loss: 0.5668, \n"
     ]
    },
    {
     "name": "stdout",
     "output_type": "stream",
     "text": [
      "epoch: 5, [batch: 27 / 45], examples_per_second: 4120.5416, train_label_loss: 0.3783, \n"
     ]
    },
    {
     "name": "stdout",
     "output_type": "stream",
     "text": [
      "epoch: 5, [batch: 31 / 45], examples_per_second: 4112.3372, train_label_loss: 0.4377, \n"
     ]
    },
    {
     "name": "stdout",
     "output_type": "stream",
     "text": [
      "epoch: 5, [batch: 36 / 45], examples_per_second: 4161.0997, train_label_loss: 0.3585, \n"
     ]
    },
    {
     "name": "stdout",
     "output_type": "stream",
     "text": [
      "epoch: 5, [batch: 40 / 45], examples_per_second: 4219.3915, train_label_loss: 0.4308, \n"
     ]
    },
    {
     "name": "stdout",
     "output_type": "stream",
     "text": [
      "=============================================================\n",
      "epoch: 5, source_val_acc_label: 0.9224, target_val_acc_label: 0.8254, source_val_label_loss: 0.3864, target_val_label_loss: 0.9184, \n",
      "=============================================================\n"
     ]
    },
    {
     "name": "stdout",
     "output_type": "stream",
     "text": [
      "New best\n"
     ]
    },
    {
     "name": "stdout",
     "output_type": "stream",
     "text": [
      "epoch: 6, [batch: 1 / 45], examples_per_second: 495.9532, train_label_loss: 0.3007, \n"
     ]
    },
    {
     "name": "stdout",
     "output_type": "stream",
     "text": [
      "epoch: 6, [batch: 5 / 45], examples_per_second: 4037.5537, train_label_loss: 0.2931, \n"
     ]
    },
    {
     "name": "stdout",
     "output_type": "stream",
     "text": [
      "epoch: 6, [batch: 9 / 45], examples_per_second: 4131.3345, train_label_loss: 0.2192, \n"
     ]
    },
    {
     "name": "stdout",
     "output_type": "stream",
     "text": [
      "epoch: 6, [batch: 14 / 45], examples_per_second: 4133.9133, train_label_loss: 0.2751, \n"
     ]
    },
    {
     "name": "stdout",
     "output_type": "stream",
     "text": [
      "epoch: 6, [batch: 18 / 45], examples_per_second: 4133.3717, train_label_loss: 0.2243, \n"
     ]
    },
    {
     "name": "stdout",
     "output_type": "stream",
     "text": [
      "epoch: 6, [batch: 23 / 45], examples_per_second: 4057.7018, train_label_loss: 0.3210, \n"
     ]
    },
    {
     "name": "stdout",
     "output_type": "stream",
     "text": [
      "epoch: 6, [batch: 27 / 45], examples_per_second: 4128.2238, train_label_loss: 0.3052, \n"
     ]
    },
    {
     "name": "stdout",
     "output_type": "stream",
     "text": [
      "epoch: 6, [batch: 31 / 45], examples_per_second: 4133.3733, train_label_loss: 0.3133, \n"
     ]
    },
    {
     "name": "stdout",
     "output_type": "stream",
     "text": [
      "epoch: 6, [batch: 36 / 45], examples_per_second: 4159.4098, train_label_loss: 0.1853, \n"
     ]
    },
    {
     "name": "stdout",
     "output_type": "stream",
     "text": [
      "epoch: 6, [batch: 40 / 45], examples_per_second: 4223.8711, train_label_loss: 0.2052, \n"
     ]
    },
    {
     "name": "stdout",
     "output_type": "stream",
     "text": [
      "=============================================================\n",
      "epoch: 6, source_val_acc_label: 0.9429, target_val_acc_label: 0.8391, source_val_label_loss: 0.3192, target_val_label_loss: 0.8496, \n",
      "=============================================================\n"
     ]
    },
    {
     "name": "stdout",
     "output_type": "stream",
     "text": [
      "New best\n"
     ]
    },
    {
     "name": "stdout",
     "output_type": "stream",
     "text": [
      "epoch: 7, [batch: 1 / 45], examples_per_second: 497.2257, train_label_loss: 0.4210, \n"
     ]
    },
    {
     "name": "stdout",
     "output_type": "stream",
     "text": [
      "epoch: 7, [batch: 5 / 45], examples_per_second: 4025.6390, train_label_loss: 0.2706, \n"
     ]
    },
    {
     "name": "stdout",
     "output_type": "stream",
     "text": [
      "epoch: 7, [batch: 9 / 45], examples_per_second: 4122.4248, train_label_loss: 0.2940, \n"
     ]
    },
    {
     "name": "stdout",
     "output_type": "stream",
     "text": [
      "epoch: 7, [batch: 14 / 45], examples_per_second: 4126.0303, train_label_loss: 0.2109, \n"
     ]
    },
    {
     "name": "stdout",
     "output_type": "stream",
     "text": [
      "epoch: 7, [batch: 18 / 45], examples_per_second: 4123.2478, train_label_loss: 0.2517, \n"
     ]
    },
    {
     "name": "stdout",
     "output_type": "stream",
     "text": [
      "epoch: 7, [batch: 23 / 45], examples_per_second: 4044.8859, train_label_loss: 0.3267, \n"
     ]
    },
    {
     "name": "stdout",
     "output_type": "stream",
     "text": [
      "epoch: 7, [batch: 27 / 45], examples_per_second: 4122.3671, train_label_loss: 0.2093, \n"
     ]
    },
    {
     "name": "stdout",
     "output_type": "stream",
     "text": [
      "epoch: 7, [batch: 31 / 45], examples_per_second: 4121.3389, train_label_loss: 0.3012, \n"
     ]
    },
    {
     "name": "stdout",
     "output_type": "stream",
     "text": [
      "epoch: 7, [batch: 36 / 45], examples_per_second: 4156.9338, train_label_loss: 0.1536, \n"
     ]
    },
    {
     "name": "stdout",
     "output_type": "stream",
     "text": [
      "epoch: 7, [batch: 40 / 45], examples_per_second: 4171.9568, train_label_loss: 0.4406, \n"
     ]
    },
    {
     "name": "stdout",
     "output_type": "stream",
     "text": [
      "=============================================================\n",
      "epoch: 7, source_val_acc_label: 0.9506, target_val_acc_label: 0.8498, source_val_label_loss: 0.2877, target_val_label_loss: 0.8175, \n",
      "=============================================================\n"
     ]
    },
    {
     "name": "stdout",
     "output_type": "stream",
     "text": [
      "New best\n"
     ]
    },
    {
     "name": "stdout",
     "output_type": "stream",
     "text": [
      "epoch: 8, [batch: 1 / 45], examples_per_second: 495.1302, train_label_loss: 0.2863, \n"
     ]
    },
    {
     "name": "stdout",
     "output_type": "stream",
     "text": [
      "epoch: 8, [batch: 5 / 45], examples_per_second: 4020.3452, train_label_loss: 0.1485, \n"
     ]
    },
    {
     "name": "stdout",
     "output_type": "stream",
     "text": [
      "epoch: 8, [batch: 9 / 45], examples_per_second: 4118.5045, train_label_loss: 0.2540, \n"
     ]
    },
    {
     "name": "stdout",
     "output_type": "stream",
     "text": [
      "epoch: 8, [batch: 14 / 45], examples_per_second: 4120.9424, train_label_loss: 0.1794, \n"
     ]
    },
    {
     "name": "stdout",
     "output_type": "stream",
     "text": [
      "epoch: 8, [batch: 18 / 45], examples_per_second: 4120.9791, train_label_loss: 0.2709, \n"
     ]
    },
    {
     "name": "stdout",
     "output_type": "stream",
     "text": [
      "epoch: 8, [batch: 23 / 45], examples_per_second: 4043.3910, train_label_loss: 0.1924, \n"
     ]
    },
    {
     "name": "stdout",
     "output_type": "stream",
     "text": [
      "epoch: 8, [batch: 27 / 45], examples_per_second: 4121.6784, train_label_loss: 0.2153, \n"
     ]
    },
    {
     "name": "stdout",
     "output_type": "stream",
     "text": [
      "epoch: 8, [batch: 31 / 45], examples_per_second: 4111.9821, train_label_loss: 0.2722, \n"
     ]
    },
    {
     "name": "stdout",
     "output_type": "stream",
     "text": [
      "epoch: 8, [batch: 36 / 45], examples_per_second: 4155.0117, train_label_loss: 0.1688, \n"
     ]
    },
    {
     "name": "stdout",
     "output_type": "stream",
     "text": [
      "epoch: 8, [batch: 40 / 45], examples_per_second: 4214.3302, train_label_loss: 0.3248, \n"
     ]
    },
    {
     "name": "stdout",
     "output_type": "stream",
     "text": [
      "=============================================================\n",
      "epoch: 8, source_val_acc_label: 0.9532, target_val_acc_label: 0.8470, source_val_label_loss: 0.2727, target_val_label_loss: 0.8070, \n",
      "=============================================================\n"
     ]
    },
    {
     "name": "stdout",
     "output_type": "stream",
     "text": [
      "epoch: 9, [batch: 1 / 45], examples_per_second: 510.3210, train_label_loss: 0.2252, \n"
     ]
    },
    {
     "name": "stdout",
     "output_type": "stream",
     "text": [
      "epoch: 9, [batch: 5 / 45], examples_per_second: 4017.8005, train_label_loss: 0.2250, \n"
     ]
    },
    {
     "name": "stdout",
     "output_type": "stream",
     "text": [
      "epoch: 9, [batch: 9 / 45], examples_per_second: 4120.2582, train_label_loss: 0.1590, \n"
     ]
    },
    {
     "name": "stdout",
     "output_type": "stream",
     "text": [
      "epoch: 9, [batch: 14 / 45], examples_per_second: 4122.1038, train_label_loss: 0.2369, \n"
     ]
    },
    {
     "name": "stdout",
     "output_type": "stream",
     "text": [
      "epoch: 9, [batch: 18 / 45], examples_per_second: 4112.3139, train_label_loss: 0.2394, \n"
     ]
    },
    {
     "name": "stdout",
     "output_type": "stream",
     "text": [
      "epoch: 9, [batch: 23 / 45], examples_per_second: 4042.2543, train_label_loss: 0.1850, \n"
     ]
    },
    {
     "name": "stdout",
     "output_type": "stream",
     "text": [
      "epoch: 9, [batch: 27 / 45], examples_per_second: 4113.4432, train_label_loss: 0.1055, \n"
     ]
    },
    {
     "name": "stdout",
     "output_type": "stream",
     "text": [
      "epoch: 9, [batch: 31 / 45], examples_per_second: 4115.0016, train_label_loss: 0.2621, \n"
     ]
    },
    {
     "name": "stdout",
     "output_type": "stream",
     "text": [
      "epoch: 9, [batch: 36 / 45], examples_per_second: 4153.2684, train_label_loss: 0.1538, \n"
     ]
    },
    {
     "name": "stdout",
     "output_type": "stream",
     "text": [
      "epoch: 9, [batch: 40 / 45], examples_per_second: 4207.5724, train_label_loss: 0.0705, \n"
     ]
    },
    {
     "name": "stdout",
     "output_type": "stream",
     "text": [
      "=============================================================\n",
      "epoch: 9, source_val_acc_label: 0.9583, target_val_acc_label: 0.8506, source_val_label_loss: 0.2479, target_val_label_loss: 0.7868, \n",
      "=============================================================\n"
     ]
    },
    {
     "name": "stdout",
     "output_type": "stream",
     "text": [
      "New best\n"
     ]
    },
    {
     "name": "stdout",
     "output_type": "stream",
     "text": [
      "epoch: 10, [batch: 1 / 45], examples_per_second: 492.3167, train_label_loss: 0.2750, \n"
     ]
    },
    {
     "name": "stdout",
     "output_type": "stream",
     "text": [
      "epoch: 10, [batch: 5 / 45], examples_per_second: 4026.3302, train_label_loss: 0.1515, \n"
     ]
    },
    {
     "name": "stdout",
     "output_type": "stream",
     "text": [
      "epoch: 10, [batch: 9 / 45], examples_per_second: 4113.6325, train_label_loss: 0.2178, \n"
     ]
    },
    {
     "name": "stdout",
     "output_type": "stream",
     "text": [
      "epoch: 10, [batch: 14 / 45], examples_per_second: 4125.1912, train_label_loss: 0.1717, \n"
     ]
    },
    {
     "name": "stdout",
     "output_type": "stream",
     "text": [
      "epoch: 10, [batch: 18 / 45], examples_per_second: 4119.6761, train_label_loss: 0.1013, \n"
     ]
    },
    {
     "name": "stdout",
     "output_type": "stream",
     "text": [
      "epoch: 10, [batch: 23 / 45], examples_per_second: 4048.2326, train_label_loss: 0.1741, \n"
     ]
    },
    {
     "name": "stdout",
     "output_type": "stream",
     "text": [
      "epoch: 10, [batch: 27 / 45], examples_per_second: 4129.4119, train_label_loss: 0.1813, \n"
     ]
    },
    {
     "name": "stdout",
     "output_type": "stream",
     "text": [
      "epoch: 10, [batch: 31 / 45], examples_per_second: 4118.7985, train_label_loss: 0.0860, \n"
     ]
    },
    {
     "name": "stdout",
     "output_type": "stream",
     "text": [
      "epoch: 10, [batch: 36 / 45], examples_per_second: 4148.7949, train_label_loss: 0.2314, \n"
     ]
    },
    {
     "name": "stdout",
     "output_type": "stream",
     "text": [
      "epoch: 10, [batch: 40 / 45], examples_per_second: 4209.6514, train_label_loss: 0.0987, \n"
     ]
    },
    {
     "name": "stdout",
     "output_type": "stream",
     "text": [
      "=============================================================\n",
      "epoch: 10, source_val_acc_label: 0.9628, target_val_acc_label: 0.8496, source_val_label_loss: 0.2427, target_val_label_loss: 0.7907, \n",
      "=============================================================\n"
     ]
    },
    {
     "name": "stdout",
     "output_type": "stream",
     "text": [
      "epoch: 11, [batch: 1 / 45], examples_per_second: 508.6290, train_label_loss: 0.2404, \n"
     ]
    },
    {
     "name": "stdout",
     "output_type": "stream",
     "text": [
      "epoch: 11, [batch: 5 / 45], examples_per_second: 4009.6135, train_label_loss: 0.1224, \n"
     ]
    },
    {
     "name": "stdout",
     "output_type": "stream",
     "text": [
      "epoch: 11, [batch: 9 / 45], examples_per_second: 4114.1074, train_label_loss: 0.1432, \n"
     ]
    },
    {
     "name": "stdout",
     "output_type": "stream",
     "text": [
      "epoch: 11, [batch: 14 / 45], examples_per_second: 4116.0857, train_label_loss: 0.1168, \n"
     ]
    },
    {
     "name": "stdout",
     "output_type": "stream",
     "text": [
      "epoch: 11, [batch: 18 / 45], examples_per_second: 4115.8465, train_label_loss: 0.0675, \n"
     ]
    },
    {
     "name": "stdout",
     "output_type": "stream",
     "text": [
      "epoch: 11, [batch: 23 / 45], examples_per_second: 4040.6595, train_label_loss: 0.1104, \n"
     ]
    },
    {
     "name": "stdout",
     "output_type": "stream",
     "text": [
      "epoch: 11, [batch: 27 / 45], examples_per_second: 4118.6678, train_label_loss: 0.1401, \n"
     ]
    },
    {
     "name": "stdout",
     "output_type": "stream",
     "text": [
      "epoch: 11, [batch: 31 / 45], examples_per_second: 4113.5425, train_label_loss: 0.1151, \n"
     ]
    },
    {
     "name": "stdout",
     "output_type": "stream",
     "text": [
      "epoch: 11, [batch: 36 / 45], examples_per_second: 4152.8319, train_label_loss: 0.0856, \n"
     ]
    },
    {
     "name": "stdout",
     "output_type": "stream",
     "text": [
      "epoch: 11, [batch: 40 / 45], examples_per_second: 4210.9014, train_label_loss: 0.2290, \n"
     ]
    },
    {
     "name": "stdout",
     "output_type": "stream",
     "text": [
      "=============================================================\n",
      "epoch: 11, source_val_acc_label: 0.9628, target_val_acc_label: 0.8588, source_val_label_loss: 0.2254, target_val_label_loss: 0.7811, \n",
      "=============================================================\n"
     ]
    },
    {
     "name": "stdout",
     "output_type": "stream",
     "text": [
      "New best\n"
     ]
    },
    {
     "name": "stdout",
     "output_type": "stream",
     "text": [
      "epoch: 12, [batch: 1 / 45], examples_per_second: 493.1605, train_label_loss: 0.1510, \n"
     ]
    },
    {
     "name": "stdout",
     "output_type": "stream",
     "text": [
      "epoch: 12, [batch: 5 / 45], examples_per_second: 4011.5413, train_label_loss: 0.2256, \n"
     ]
    },
    {
     "name": "stdout",
     "output_type": "stream",
     "text": [
      "epoch: 12, [batch: 9 / 45], examples_per_second: 4111.4938, train_label_loss: 0.1479, \n"
     ]
    },
    {
     "name": "stdout",
     "output_type": "stream",
     "text": [
      "epoch: 12, [batch: 14 / 45], examples_per_second: 4111.4649, train_label_loss: 0.1336, \n"
     ]
    },
    {
     "name": "stdout",
     "output_type": "stream",
     "text": [
      "epoch: 12, [batch: 18 / 45], examples_per_second: 4115.7641, train_label_loss: 0.1694, \n"
     ]
    },
    {
     "name": "stdout",
     "output_type": "stream",
     "text": [
      "epoch: 12, [batch: 23 / 45], examples_per_second: 4041.2093, train_label_loss: 0.2031, \n"
     ]
    },
    {
     "name": "stdout",
     "output_type": "stream",
     "text": [
      "epoch: 12, [batch: 27 / 45], examples_per_second: 4121.7065, train_label_loss: 0.1262, \n"
     ]
    },
    {
     "name": "stdout",
     "output_type": "stream",
     "text": [
      "epoch: 12, [batch: 31 / 45], examples_per_second: 4112.5295, train_label_loss: 0.1859, \n"
     ]
    },
    {
     "name": "stdout",
     "output_type": "stream",
     "text": [
      "epoch: 12, [batch: 36 / 45], examples_per_second: 4150.5736, train_label_loss: 0.1211, \n"
     ]
    },
    {
     "name": "stdout",
     "output_type": "stream",
     "text": [
      "epoch: 12, [batch: 40 / 45], examples_per_second: 4206.8745, train_label_loss: 0.1354, \n"
     ]
    },
    {
     "name": "stdout",
     "output_type": "stream",
     "text": [
      "=============================================================\n",
      "epoch: 12, source_val_acc_label: 0.9641, target_val_acc_label: 0.8590, source_val_label_loss: 0.2231, target_val_label_loss: 0.7527, \n",
      "=============================================================\n"
     ]
    },
    {
     "name": "stdout",
     "output_type": "stream",
     "text": [
      "New best\n"
     ]
    },
    {
     "name": "stdout",
     "output_type": "stream",
     "text": [
      "epoch: 13, [batch: 1 / 45], examples_per_second: 495.4089, train_label_loss: 0.1224, \n"
     ]
    },
    {
     "name": "stdout",
     "output_type": "stream",
     "text": [
      "epoch: 13, [batch: 5 / 45], examples_per_second: 4027.1464, train_label_loss: 0.1372, \n"
     ]
    },
    {
     "name": "stdout",
     "output_type": "stream",
     "text": [
      "epoch: 13, [batch: 9 / 45], examples_per_second: 4117.9649, train_label_loss: 0.3060, \n"
     ]
    },
    {
     "name": "stdout",
     "output_type": "stream",
     "text": [
      "epoch: 13, [batch: 14 / 45], examples_per_second: 4122.5812, train_label_loss: 0.0691, \n"
     ]
    },
    {
     "name": "stdout",
     "output_type": "stream",
     "text": [
      "epoch: 13, [batch: 18 / 45], examples_per_second: 4117.1082, train_label_loss: 0.1223, \n"
     ]
    },
    {
     "name": "stdout",
     "output_type": "stream",
     "text": [
      "epoch: 13, [batch: 23 / 45], examples_per_second: 4038.5286, train_label_loss: 0.1782, \n"
     ]
    },
    {
     "name": "stdout",
     "output_type": "stream",
     "text": [
      "epoch: 13, [batch: 27 / 45], examples_per_second: 4116.3452, train_label_loss: 0.1930, \n"
     ]
    },
    {
     "name": "stdout",
     "output_type": "stream",
     "text": [
      "epoch: 13, [batch: 31 / 45], examples_per_second: 4118.3754, train_label_loss: 0.1142, \n"
     ]
    },
    {
     "name": "stdout",
     "output_type": "stream",
     "text": [
      "epoch: 13, [batch: 36 / 45], examples_per_second: 4155.9199, train_label_loss: 0.1007, \n"
     ]
    },
    {
     "name": "stdout",
     "output_type": "stream",
     "text": [
      "epoch: 13, [batch: 40 / 45], examples_per_second: 4213.7977, train_label_loss: 0.0840, \n"
     ]
    },
    {
     "name": "stdout",
     "output_type": "stream",
     "text": [
      "=============================================================\n",
      "epoch: 13, source_val_acc_label: 0.9635, target_val_acc_label: 0.8568, source_val_label_loss: 0.2203, target_val_label_loss: 0.7804, \n",
      "=============================================================\n"
     ]
    },
    {
     "name": "stdout",
     "output_type": "stream",
     "text": [
      "epoch: 14, [batch: 1 / 45], examples_per_second: 508.6071, train_label_loss: 0.1581, \n"
     ]
    },
    {
     "name": "stdout",
     "output_type": "stream",
     "text": [
      "epoch: 14, [batch: 5 / 45], examples_per_second: 4016.3444, train_label_loss: 0.0607, \n"
     ]
    },
    {
     "name": "stdout",
     "output_type": "stream",
     "text": [
      "epoch: 14, [batch: 9 / 45], examples_per_second: 4105.0847, train_label_loss: 0.2071, \n"
     ]
    },
    {
     "name": "stdout",
     "output_type": "stream",
     "text": [
      "epoch: 14, [batch: 14 / 45], examples_per_second: 4112.9598, train_label_loss: 0.0745, \n"
     ]
    },
    {
     "name": "stdout",
     "output_type": "stream",
     "text": [
      "epoch: 14, [batch: 18 / 45], examples_per_second: 4111.4953, train_label_loss: 0.0989, \n"
     ]
    },
    {
     "name": "stdout",
     "output_type": "stream",
     "text": [
      "epoch: 14, [batch: 23 / 45], examples_per_second: 4034.1567, train_label_loss: 0.0912, \n"
     ]
    },
    {
     "name": "stdout",
     "output_type": "stream",
     "text": [
      "epoch: 14, [batch: 27 / 45], examples_per_second: 4116.5332, train_label_loss: 0.2499, \n"
     ]
    },
    {
     "name": "stdout",
     "output_type": "stream",
     "text": [
      "epoch: 14, [batch: 31 / 45], examples_per_second: 4107.7846, train_label_loss: 0.1316, \n"
     ]
    },
    {
     "name": "stdout",
     "output_type": "stream",
     "text": [
      "epoch: 14, [batch: 36 / 45], examples_per_second: 4149.5337, train_label_loss: 0.1638, \n"
     ]
    },
    {
     "name": "stdout",
     "output_type": "stream",
     "text": [
      "epoch: 14, [batch: 40 / 45], examples_per_second: 4202.7774, train_label_loss: 0.1171, \n"
     ]
    },
    {
     "name": "stdout",
     "output_type": "stream",
     "text": [
      "=============================================================\n",
      "epoch: 14, source_val_acc_label: 0.9660, target_val_acc_label: 0.8590, source_val_label_loss: 0.2037, target_val_label_loss: 0.7667, \n",
      "=============================================================\n"
     ]
    },
    {
     "name": "stdout",
     "output_type": "stream",
     "text": [
      "epoch: 15, [batch: 1 / 45], examples_per_second: 504.6560, train_label_loss: 0.0527, \n"
     ]
    },
    {
     "name": "stdout",
     "output_type": "stream",
     "text": [
      "epoch: 15, [batch: 5 / 45], examples_per_second: 4020.6580, train_label_loss: 0.1682, \n"
     ]
    },
    {
     "name": "stdout",
     "output_type": "stream",
     "text": [
      "epoch: 15, [batch: 9 / 45], examples_per_second: 4123.2010, train_label_loss: 0.2189, \n"
     ]
    },
    {
     "name": "stdout",
     "output_type": "stream",
     "text": [
      "epoch: 15, [batch: 14 / 45], examples_per_second: 4127.6794, train_label_loss: 0.1272, \n"
     ]
    },
    {
     "name": "stdout",
     "output_type": "stream",
     "text": [
      "epoch: 15, [batch: 18 / 45], examples_per_second: 4114.9535, train_label_loss: 0.2136, \n"
     ]
    },
    {
     "name": "stdout",
     "output_type": "stream",
     "text": [
      "epoch: 15, [batch: 23 / 45], examples_per_second: 4043.6512, train_label_loss: 0.0883, \n"
     ]
    },
    {
     "name": "stdout",
     "output_type": "stream",
     "text": [
      "epoch: 15, [batch: 27 / 45], examples_per_second: 4107.0142, train_label_loss: 0.1238, \n"
     ]
    },
    {
     "name": "stdout",
     "output_type": "stream",
     "text": [
      "epoch: 15, [batch: 31 / 45], examples_per_second: 4120.7891, train_label_loss: 0.1857, \n"
     ]
    },
    {
     "name": "stdout",
     "output_type": "stream",
     "text": [
      "epoch: 15, [batch: 36 / 45], examples_per_second: 4149.2167, train_label_loss: 0.3032, \n"
     ]
    },
    {
     "name": "stdout",
     "output_type": "stream",
     "text": [
      "epoch: 15, [batch: 40 / 45], examples_per_second: 4202.3596, train_label_loss: 0.0499, \n"
     ]
    },
    {
     "name": "stdout",
     "output_type": "stream",
     "text": [
      "=============================================================\n",
      "epoch: 15, source_val_acc_label: 0.9641, target_val_acc_label: 0.8603, source_val_label_loss: 0.2165, target_val_label_loss: 0.7753, \n",
      "=============================================================\n"
     ]
    },
    {
     "name": "stdout",
     "output_type": "stream",
     "text": [
      "New best\n"
     ]
    },
    {
     "name": "stdout",
     "output_type": "stream",
     "text": [
      "epoch: 16, [batch: 1 / 45], examples_per_second: 490.8133, train_label_loss: 0.1519, \n"
     ]
    },
    {
     "name": "stdout",
     "output_type": "stream",
     "text": [
      "epoch: 16, [batch: 5 / 45], examples_per_second: 4014.1874, train_label_loss: 0.1259, \n"
     ]
    },
    {
     "name": "stdout",
     "output_type": "stream",
     "text": [
      "epoch: 16, [batch: 9 / 45], examples_per_second: 4111.3264, train_label_loss: 0.0570, \n"
     ]
    },
    {
     "name": "stdout",
     "output_type": "stream",
     "text": [
      "epoch: 16, [batch: 14 / 45], examples_per_second: 4105.8019, train_label_loss: 0.1106, \n"
     ]
    },
    {
     "name": "stdout",
     "output_type": "stream",
     "text": [
      "epoch: 16, [batch: 18 / 45], examples_per_second: 4108.1343, train_label_loss: 0.0785, \n"
     ]
    },
    {
     "name": "stdout",
     "output_type": "stream",
     "text": [
      "epoch: 16, [batch: 23 / 45], examples_per_second: 4034.0194, train_label_loss: 0.0767, \n"
     ]
    },
    {
     "name": "stdout",
     "output_type": "stream",
     "text": [
      "epoch: 16, [batch: 27 / 45], examples_per_second: 4107.8449, train_label_loss: 0.0760, \n"
     ]
    },
    {
     "name": "stdout",
     "output_type": "stream",
     "text": [
      "epoch: 16, [batch: 31 / 45], examples_per_second: 4107.2230, train_label_loss: 0.1954, \n"
     ]
    },
    {
     "name": "stdout",
     "output_type": "stream",
     "text": [
      "epoch: 16, [batch: 36 / 45], examples_per_second: 4141.5873, train_label_loss: 0.1257, \n"
     ]
    },
    {
     "name": "stdout",
     "output_type": "stream",
     "text": [
      "epoch: 16, [batch: 40 / 45], examples_per_second: 4201.8269, train_label_loss: 0.0810, \n"
     ]
    },
    {
     "name": "stdout",
     "output_type": "stream",
     "text": [
      "=============================================================\n",
      "epoch: 16, source_val_acc_label: 0.9647, target_val_acc_label: 0.8639, source_val_label_loss: 0.2125, target_val_label_loss: 0.7576, \n",
      "=============================================================\n"
     ]
    },
    {
     "name": "stdout",
     "output_type": "stream",
     "text": [
      "New best\n"
     ]
    },
    {
     "name": "stdout",
     "output_type": "stream",
     "text": [
      "epoch: 17, [batch: 1 / 45], examples_per_second: 493.8352, train_label_loss: 0.0837, \n"
     ]
    },
    {
     "name": "stdout",
     "output_type": "stream",
     "text": [
      "epoch: 17, [batch: 5 / 45], examples_per_second: 4020.4816, train_label_loss: 0.0940, \n"
     ]
    },
    {
     "name": "stdout",
     "output_type": "stream",
     "text": [
      "epoch: 17, [batch: 9 / 45], examples_per_second: 4120.1290, train_label_loss: 0.1385, \n"
     ]
    },
    {
     "name": "stdout",
     "output_type": "stream",
     "text": [
      "epoch: 17, [batch: 14 / 45], examples_per_second: 4120.9374, train_label_loss: 0.1012, \n"
     ]
    },
    {
     "name": "stdout",
     "output_type": "stream",
     "text": [
      "epoch: 17, [batch: 18 / 45], examples_per_second: 4106.9275, train_label_loss: 0.1204, \n"
     ]
    },
    {
     "name": "stdout",
     "output_type": "stream",
     "text": [
      "epoch: 17, [batch: 23 / 45], examples_per_second: 4038.4305, train_label_loss: 0.0907, \n"
     ]
    },
    {
     "name": "stdout",
     "output_type": "stream",
     "text": [
      "epoch: 17, [batch: 27 / 45], examples_per_second: 4115.7968, train_label_loss: 0.0612, \n"
     ]
    },
    {
     "name": "stdout",
     "output_type": "stream",
     "text": [
      "epoch: 17, [batch: 31 / 45], examples_per_second: 4123.4785, train_label_loss: 0.0688, \n"
     ]
    },
    {
     "name": "stdout",
     "output_type": "stream",
     "text": [
      "epoch: 17, [batch: 36 / 45], examples_per_second: 4143.4354, train_label_loss: 0.1556, \n"
     ]
    },
    {
     "name": "stdout",
     "output_type": "stream",
     "text": [
      "epoch: 17, [batch: 40 / 45], examples_per_second: 4204.3670, train_label_loss: 0.0437, \n"
     ]
    },
    {
     "name": "stdout",
     "output_type": "stream",
     "text": [
      "=============================================================\n",
      "epoch: 17, source_val_acc_label: 0.9712, target_val_acc_label: 0.8647, source_val_label_loss: 0.2081, target_val_label_loss: 0.7630, \n",
      "=============================================================\n"
     ]
    },
    {
     "name": "stdout",
     "output_type": "stream",
     "text": [
      "New best\n"
     ]
    },
    {
     "name": "stdout",
     "output_type": "stream",
     "text": [
      "epoch: 18, [batch: 1 / 45], examples_per_second: 488.4672, train_label_loss: 0.1078, \n"
     ]
    },
    {
     "name": "stdout",
     "output_type": "stream",
     "text": [
      "epoch: 18, [batch: 5 / 45], examples_per_second: 4013.7634, train_label_loss: 0.1526, \n"
     ]
    },
    {
     "name": "stdout",
     "output_type": "stream",
     "text": [
      "epoch: 18, [batch: 9 / 45], examples_per_second: 4121.6520, train_label_loss: 0.0294, \n"
     ]
    },
    {
     "name": "stdout",
     "output_type": "stream",
     "text": [
      "epoch: 18, [batch: 14 / 45], examples_per_second: 4104.1924, train_label_loss: 0.2031, \n"
     ]
    },
    {
     "name": "stdout",
     "output_type": "stream",
     "text": [
      "epoch: 18, [batch: 18 / 45], examples_per_second: 4109.7150, train_label_loss: 0.1146, \n"
     ]
    },
    {
     "name": "stdout",
     "output_type": "stream",
     "text": [
      "epoch: 18, [batch: 23 / 45], examples_per_second: 4040.3253, train_label_loss: 0.0590, \n"
     ]
    },
    {
     "name": "stdout",
     "output_type": "stream",
     "text": [
      "epoch: 18, [batch: 27 / 45], examples_per_second: 4109.0522, train_label_loss: 0.0903, \n"
     ]
    },
    {
     "name": "stdout",
     "output_type": "stream",
     "text": [
      "epoch: 18, [batch: 31 / 45], examples_per_second: 4114.4039, train_label_loss: 0.1839, \n"
     ]
    },
    {
     "name": "stdout",
     "output_type": "stream",
     "text": [
      "epoch: 18, [batch: 36 / 45], examples_per_second: 4145.6557, train_label_loss: 0.0496, \n"
     ]
    },
    {
     "name": "stdout",
     "output_type": "stream",
     "text": [
      "epoch: 18, [batch: 40 / 45], examples_per_second: 4198.2358, train_label_loss: 0.0761, \n"
     ]
    },
    {
     "name": "stdout",
     "output_type": "stream",
     "text": [
      "=============================================================\n",
      "epoch: 18, source_val_acc_label: 0.9705, target_val_acc_label: 0.8624, source_val_label_loss: 0.1953, target_val_label_loss: 0.7418, \n",
      "=============================================================\n"
     ]
    },
    {
     "name": "stdout",
     "output_type": "stream",
     "text": [
      "epoch: 19, [batch: 1 / 45], examples_per_second: 507.0406, train_label_loss: 0.1198, \n"
     ]
    },
    {
     "name": "stdout",
     "output_type": "stream",
     "text": [
      "epoch: 19, [batch: 5 / 45], examples_per_second: 4002.6362, train_label_loss: 0.1257, \n"
     ]
    },
    {
     "name": "stdout",
     "output_type": "stream",
     "text": [
      "epoch: 19, [batch: 9 / 45], examples_per_second: 4103.3223, train_label_loss: 0.0984, \n"
     ]
    },
    {
     "name": "stdout",
     "output_type": "stream",
     "text": [
      "epoch: 19, [batch: 14 / 45], examples_per_second: 4108.2569, train_label_loss: 0.0953, \n"
     ]
    },
    {
     "name": "stdout",
     "output_type": "stream",
     "text": [
      "epoch: 19, [batch: 18 / 45], examples_per_second: 4113.5441, train_label_loss: 0.1361, \n"
     ]
    },
    {
     "name": "stdout",
     "output_type": "stream",
     "text": [
      "epoch: 19, [batch: 23 / 45], examples_per_second: 4034.5937, train_label_loss: 0.1082, \n"
     ]
    },
    {
     "name": "stdout",
     "output_type": "stream",
     "text": [
      "epoch: 19, [batch: 27 / 45], examples_per_second: 4115.3355, train_label_loss: 0.0713, \n"
     ]
    },
    {
     "name": "stdout",
     "output_type": "stream",
     "text": [
      "epoch: 19, [batch: 31 / 45], examples_per_second: 4106.0260, train_label_loss: 0.0481, \n"
     ]
    },
    {
     "name": "stdout",
     "output_type": "stream",
     "text": [
      "epoch: 19, [batch: 36 / 45], examples_per_second: 4151.3825, train_label_loss: 0.1670, \n"
     ]
    },
    {
     "name": "stdout",
     "output_type": "stream",
     "text": [
      "epoch: 19, [batch: 40 / 45], examples_per_second: 4206.5450, train_label_loss: 0.0981, \n"
     ]
    },
    {
     "name": "stdout",
     "output_type": "stream",
     "text": [
      "=============================================================\n",
      "epoch: 19, source_val_acc_label: 0.9731, target_val_acc_label: 0.8697, source_val_label_loss: 0.1986, target_val_label_loss: 0.7403, \n",
      "=============================================================\n"
     ]
    },
    {
     "name": "stdout",
     "output_type": "stream",
     "text": [
      "New best\n"
     ]
    },
    {
     "name": "stdout",
     "output_type": "stream",
     "text": [
      "epoch: 20, [batch: 1 / 45], examples_per_second: 491.8484, train_label_loss: 0.0450, \n"
     ]
    },
    {
     "name": "stdout",
     "output_type": "stream",
     "text": [
      "epoch: 20, [batch: 5 / 45], examples_per_second: 3999.1706, train_label_loss: 0.0998, \n"
     ]
    },
    {
     "name": "stdout",
     "output_type": "stream",
     "text": [
      "epoch: 20, [batch: 9 / 45], examples_per_second: 4119.4535, train_label_loss: 0.1235, \n"
     ]
    },
    {
     "name": "stdout",
     "output_type": "stream",
     "text": [
      "epoch: 20, [batch: 14 / 45], examples_per_second: 4123.0613, train_label_loss: 0.0937, \n"
     ]
    },
    {
     "name": "stdout",
     "output_type": "stream",
     "text": [
      "epoch: 20, [batch: 18 / 45], examples_per_second: 4117.4409, train_label_loss: 0.0483, \n"
     ]
    },
    {
     "name": "stdout",
     "output_type": "stream",
     "text": [
      "epoch: 20, [batch: 23 / 45], examples_per_second: 4046.7832, train_label_loss: 0.0506, \n"
     ]
    },
    {
     "name": "stdout",
     "output_type": "stream",
     "text": [
      "epoch: 20, [batch: 27 / 45], examples_per_second: 4119.4131, train_label_loss: 0.0964, \n"
     ]
    },
    {
     "name": "stdout",
     "output_type": "stream",
     "text": [
      "epoch: 20, [batch: 31 / 45], examples_per_second: 4121.4635, train_label_loss: 0.1383, \n"
     ]
    },
    {
     "name": "stdout",
     "output_type": "stream",
     "text": [
      "epoch: 20, [batch: 36 / 45], examples_per_second: 4154.3089, train_label_loss: 0.0739, \n"
     ]
    },
    {
     "name": "stdout",
     "output_type": "stream",
     "text": [
      "epoch: 20, [batch: 40 / 45], examples_per_second: 4204.4740, train_label_loss: 0.0932, \n"
     ]
    },
    {
     "name": "stdout",
     "output_type": "stream",
     "text": [
      "=============================================================\n",
      "epoch: 20, source_val_acc_label: 0.9679, target_val_acc_label: 0.8654, source_val_label_loss: 0.2024, target_val_label_loss: 0.7510, \n",
      "=============================================================\n"
     ]
    },
    {
     "name": "stdout",
     "output_type": "stream",
     "text": [
      "epoch: 21, [batch: 1 / 45], examples_per_second: 507.3118, train_label_loss: 0.0504, \n"
     ]
    },
    {
     "name": "stdout",
     "output_type": "stream",
     "text": [
      "epoch: 21, [batch: 5 / 45], examples_per_second: 4007.6316, train_label_loss: 0.1162, \n"
     ]
    },
    {
     "name": "stdout",
     "output_type": "stream",
     "text": [
      "epoch: 21, [batch: 9 / 45], examples_per_second: 4112.5187, train_label_loss: 0.0259, \n"
     ]
    },
    {
     "name": "stdout",
     "output_type": "stream",
     "text": [
      "epoch: 21, [batch: 14 / 45], examples_per_second: 4109.4644, train_label_loss: 0.0521, \n"
     ]
    },
    {
     "name": "stdout",
     "output_type": "stream",
     "text": [
      "epoch: 21, [batch: 18 / 45], examples_per_second: 4098.1611, train_label_loss: 0.0983, \n"
     ]
    },
    {
     "name": "stdout",
     "output_type": "stream",
     "text": [
      "epoch: 21, [batch: 23 / 45], examples_per_second: 4032.9083, train_label_loss: 0.0374, \n"
     ]
    },
    {
     "name": "stdout",
     "output_type": "stream",
     "text": [
      "epoch: 21, [batch: 27 / 45], examples_per_second: 4119.5874, train_label_loss: 0.1485, \n"
     ]
    },
    {
     "name": "stdout",
     "output_type": "stream",
     "text": [
      "epoch: 21, [batch: 31 / 45], examples_per_second: 4124.2629, train_label_loss: 0.0349, \n"
     ]
    },
    {
     "name": "stdout",
     "output_type": "stream",
     "text": [
      "epoch: 21, [batch: 36 / 45], examples_per_second: 4157.0023, train_label_loss: 0.0886, \n"
     ]
    },
    {
     "name": "stdout",
     "output_type": "stream",
     "text": [
      "epoch: 21, [batch: 40 / 45], examples_per_second: 4199.0489, train_label_loss: 0.0676, \n"
     ]
    },
    {
     "name": "stdout",
     "output_type": "stream",
     "text": [
      "=============================================================\n",
      "epoch: 21, source_val_acc_label: 0.9705, target_val_acc_label: 0.8641, source_val_label_loss: 0.2014, target_val_label_loss: 0.7634, \n",
      "=============================================================\n"
     ]
    },
    {
     "name": "stdout",
     "output_type": "stream",
     "text": [
      "epoch: 22, [batch: 1 / 45], examples_per_second: 511.4074, train_label_loss: 0.1594, \n"
     ]
    },
    {
     "name": "stdout",
     "output_type": "stream",
     "text": [
      "epoch: 22, [batch: 5 / 45], examples_per_second: 4011.7021, train_label_loss: 0.1323, \n"
     ]
    },
    {
     "name": "stdout",
     "output_type": "stream",
     "text": [
      "epoch: 22, [batch: 9 / 45], examples_per_second: 4108.1947, train_label_loss: 0.1158, \n"
     ]
    },
    {
     "name": "stdout",
     "output_type": "stream",
     "text": [
      "epoch: 22, [batch: 14 / 45], examples_per_second: 4112.5491, train_label_loss: 0.0883, \n"
     ]
    },
    {
     "name": "stdout",
     "output_type": "stream",
     "text": [
      "epoch: 22, [batch: 18 / 45], examples_per_second: 4104.2721, train_label_loss: 0.1691, \n"
     ]
    },
    {
     "name": "stdout",
     "output_type": "stream",
     "text": [
      "epoch: 22, [batch: 23 / 45], examples_per_second: 4040.0475, train_label_loss: 0.1116, \n"
     ]
    },
    {
     "name": "stdout",
     "output_type": "stream",
     "text": [
      "epoch: 22, [batch: 27 / 45], examples_per_second: 4109.6035, train_label_loss: 0.0697, \n"
     ]
    },
    {
     "name": "stdout",
     "output_type": "stream",
     "text": [
      "epoch: 22, [batch: 31 / 45], examples_per_second: 4113.2648, train_label_loss: 0.0496, \n"
     ]
    },
    {
     "name": "stdout",
     "output_type": "stream",
     "text": [
      "epoch: 22, [batch: 36 / 45], examples_per_second: 4144.2113, train_label_loss: 0.1234, \n"
     ]
    },
    {
     "name": "stdout",
     "output_type": "stream",
     "text": [
      "epoch: 22, [batch: 40 / 45], examples_per_second: 4200.9383, train_label_loss: 0.0572, \n"
     ]
    },
    {
     "name": "stdout",
     "output_type": "stream",
     "text": [
      "=============================================================\n",
      "epoch: 22, source_val_acc_label: 0.9654, target_val_acc_label: 0.8701, source_val_label_loss: 0.2033, target_val_label_loss: 0.7434, \n",
      "=============================================================\n"
     ]
    },
    {
     "name": "stdout",
     "output_type": "stream",
     "text": [
      "New best\n"
     ]
    },
    {
     "name": "stdout",
     "output_type": "stream",
     "text": [
      "epoch: 23, [batch: 1 / 45], examples_per_second: 496.3381, train_label_loss: 0.0590, \n"
     ]
    },
    {
     "name": "stdout",
     "output_type": "stream",
     "text": [
      "epoch: 23, [batch: 5 / 45], examples_per_second: 4019.5865, train_label_loss: 0.0702, \n"
     ]
    },
    {
     "name": "stdout",
     "output_type": "stream",
     "text": [
      "epoch: 23, [batch: 9 / 45], examples_per_second: 4120.2473, train_label_loss: 0.0669, \n"
     ]
    },
    {
     "name": "stdout",
     "output_type": "stream",
     "text": [
      "epoch: 23, [batch: 14 / 45], examples_per_second: 4113.5506, train_label_loss: 0.0606, \n"
     ]
    },
    {
     "name": "stdout",
     "output_type": "stream",
     "text": [
      "epoch: 23, [batch: 18 / 45], examples_per_second: 4125.0882, train_label_loss: 0.0569, \n"
     ]
    },
    {
     "name": "stdout",
     "output_type": "stream",
     "text": [
      "epoch: 23, [batch: 23 / 45], examples_per_second: 4039.1617, train_label_loss: 0.0185, \n"
     ]
    },
    {
     "name": "stdout",
     "output_type": "stream",
     "text": [
      "epoch: 23, [batch: 27 / 45], examples_per_second: 4123.4224, train_label_loss: 0.1704, \n"
     ]
    },
    {
     "name": "stdout",
     "output_type": "stream",
     "text": [
      "epoch: 23, [batch: 31 / 45], examples_per_second: 4118.3894, train_label_loss: 0.0388, \n"
     ]
    },
    {
     "name": "stdout",
     "output_type": "stream",
     "text": [
      "epoch: 23, [batch: 36 / 45], examples_per_second: 4154.0671, train_label_loss: 0.1219, \n"
     ]
    },
    {
     "name": "stdout",
     "output_type": "stream",
     "text": [
      "epoch: 23, [batch: 40 / 45], examples_per_second: 4203.3331, train_label_loss: 0.0282, \n"
     ]
    },
    {
     "name": "stdout",
     "output_type": "stream",
     "text": [
      "=============================================================\n",
      "epoch: 23, source_val_acc_label: 0.9679, target_val_acc_label: 0.8671, source_val_label_loss: 0.2066, target_val_label_loss: 0.7595, \n",
      "=============================================================\n"
     ]
    },
    {
     "name": "stdout",
     "output_type": "stream",
     "text": [
      "epoch: 24, [batch: 1 / 45], examples_per_second: 508.0161, train_label_loss: 0.0508, \n"
     ]
    },
    {
     "name": "stdout",
     "output_type": "stream",
     "text": [
      "epoch: 24, [batch: 5 / 45], examples_per_second: 4017.3520, train_label_loss: 0.1627, \n"
     ]
    },
    {
     "name": "stdout",
     "output_type": "stream",
     "text": [
      "epoch: 24, [batch: 9 / 45], examples_per_second: 4107.4303, train_label_loss: 0.1056, \n"
     ]
    },
    {
     "name": "stdout",
     "output_type": "stream",
     "text": [
      "epoch: 24, [batch: 14 / 45], examples_per_second: 4104.8770, train_label_loss: 0.1354, \n"
     ]
    },
    {
     "name": "stdout",
     "output_type": "stream",
     "text": [
      "epoch: 24, [batch: 18 / 45], examples_per_second: 4115.1460, train_label_loss: 0.1063, \n"
     ]
    },
    {
     "name": "stdout",
     "output_type": "stream",
     "text": [
      "epoch: 24, [batch: 23 / 45], examples_per_second: 4028.3568, train_label_loss: 0.0499, \n"
     ]
    },
    {
     "name": "stdout",
     "output_type": "stream",
     "text": [
      "epoch: 24, [batch: 27 / 45], examples_per_second: 4114.4737, train_label_loss: 0.0939, \n"
     ]
    },
    {
     "name": "stdout",
     "output_type": "stream",
     "text": [
      "epoch: 24, [batch: 31 / 45], examples_per_second: 4108.4856, train_label_loss: 0.0690, \n"
     ]
    },
    {
     "name": "stdout",
     "output_type": "stream",
     "text": [
      "epoch: 24, [batch: 36 / 45], examples_per_second: 4150.6014, train_label_loss: 0.1431, \n"
     ]
    },
    {
     "name": "stdout",
     "output_type": "stream",
     "text": [
      "epoch: 24, [batch: 40 / 45], examples_per_second: 4207.0384, train_label_loss: 0.0733, \n"
     ]
    },
    {
     "name": "stdout",
     "output_type": "stream",
     "text": [
      "=============================================================\n",
      "epoch: 24, source_val_acc_label: 0.9673, target_val_acc_label: 0.8744, source_val_label_loss: 0.1949, target_val_label_loss: 0.7406, \n",
      "=============================================================\n"
     ]
    },
    {
     "name": "stdout",
     "output_type": "stream",
     "text": [
      "New best\n"
     ]
    },
    {
     "name": "stdout",
     "output_type": "stream",
     "text": [
      "epoch: 25, [batch: 1 / 45], examples_per_second: 492.1951, train_label_loss: 0.0947, \n"
     ]
    },
    {
     "name": "stdout",
     "output_type": "stream",
     "text": [
      "epoch: 25, [batch: 5 / 45], examples_per_second: 4013.6718, train_label_loss: 0.1337, \n"
     ]
    },
    {
     "name": "stdout",
     "output_type": "stream",
     "text": [
      "epoch: 25, [batch: 9 / 45], examples_per_second: 4124.4283, train_label_loss: 0.2180, \n"
     ]
    },
    {
     "name": "stdout",
     "output_type": "stream",
     "text": [
      "epoch: 25, [batch: 14 / 45], examples_per_second: 4118.1524, train_label_loss: 0.0668, \n"
     ]
    },
    {
     "name": "stdout",
     "output_type": "stream",
     "text": [
      "epoch: 25, [batch: 18 / 45], examples_per_second: 4123.5175, train_label_loss: 0.0798, \n"
     ]
    },
    {
     "name": "stdout",
     "output_type": "stream",
     "text": [
      "epoch: 25, [batch: 23 / 45], examples_per_second: 4048.1929, train_label_loss: 0.0356, \n"
     ]
    },
    {
     "name": "stdout",
     "output_type": "stream",
     "text": [
      "epoch: 25, [batch: 27 / 45], examples_per_second: 4115.3417, train_label_loss: 0.1288, \n"
     ]
    },
    {
     "name": "stdout",
     "output_type": "stream",
     "text": [
      "epoch: 25, [batch: 31 / 45], examples_per_second: 4108.9253, train_label_loss: 0.0604, \n"
     ]
    },
    {
     "name": "stdout",
     "output_type": "stream",
     "text": [
      "epoch: 25, [batch: 36 / 45], examples_per_second: 4141.5710, train_label_loss: 0.1569, \n"
     ]
    },
    {
     "name": "stdout",
     "output_type": "stream",
     "text": [
      "epoch: 25, [batch: 40 / 45], examples_per_second: 4140.9212, train_label_loss: 0.1051, \n"
     ]
    },
    {
     "name": "stdout",
     "output_type": "stream",
     "text": [
      "=============================================================\n",
      "epoch: 25, source_val_acc_label: 0.9667, target_val_acc_label: 0.8703, source_val_label_loss: 0.2098, target_val_label_loss: 0.7398, \n",
      "=============================================================\n"
     ]
    },
    {
     "name": "stdout",
     "output_type": "stream",
     "text": [
      "epoch: 26, [batch: 1 / 45], examples_per_second: 505.2231, train_label_loss: 0.1123, \n"
     ]
    },
    {
     "name": "stdout",
     "output_type": "stream",
     "text": [
      "epoch: 26, [batch: 5 / 45], examples_per_second: 4013.0293, train_label_loss: 0.0399, \n"
     ]
    },
    {
     "name": "stdout",
     "output_type": "stream",
     "text": [
      "epoch: 26, [batch: 9 / 45], examples_per_second: 4110.3269, train_label_loss: 0.0626, \n"
     ]
    },
    {
     "name": "stdout",
     "output_type": "stream",
     "text": [
      "epoch: 26, [batch: 14 / 45], examples_per_second: 4109.3244, train_label_loss: 0.1247, \n"
     ]
    },
    {
     "name": "stdout",
     "output_type": "stream",
     "text": [
      "epoch: 26, [batch: 18 / 45], examples_per_second: 4123.8013, train_label_loss: 0.0789, \n"
     ]
    },
    {
     "name": "stdout",
     "output_type": "stream",
     "text": [
      "epoch: 26, [batch: 23 / 45], examples_per_second: 4044.1131, train_label_loss: 0.1053, \n"
     ]
    },
    {
     "name": "stdout",
     "output_type": "stream",
     "text": [
      "epoch: 26, [batch: 27 / 45], examples_per_second: 4125.6172, train_label_loss: 0.1490, \n"
     ]
    },
    {
     "name": "stdout",
     "output_type": "stream",
     "text": [
      "epoch: 26, [batch: 31 / 45], examples_per_second: 4119.4349, train_label_loss: 0.0492, \n"
     ]
    },
    {
     "name": "stdout",
     "output_type": "stream",
     "text": [
      "epoch: 26, [batch: 36 / 45], examples_per_second: 4151.5444, train_label_loss: 0.0975, \n"
     ]
    },
    {
     "name": "stdout",
     "output_type": "stream",
     "text": [
      "epoch: 26, [batch: 40 / 45], examples_per_second: 4200.1940, train_label_loss: 0.1080, \n"
     ]
    },
    {
     "name": "stdout",
     "output_type": "stream",
     "text": [
      "=============================================================\n",
      "epoch: 26, source_val_acc_label: 0.9724, target_val_acc_label: 0.8763, source_val_label_loss: 0.1976, target_val_label_loss: 0.7299, \n",
      "=============================================================\n"
     ]
    },
    {
     "name": "stdout",
     "output_type": "stream",
     "text": [
      "New best\n"
     ]
    },
    {
     "name": "stdout",
     "output_type": "stream",
     "text": [
      "epoch: 27, [batch: 1 / 45], examples_per_second: 493.7466, train_label_loss: 0.1062, \n"
     ]
    },
    {
     "name": "stdout",
     "output_type": "stream",
     "text": [
      "epoch: 27, [batch: 5 / 45], examples_per_second: 4013.0721, train_label_loss: 0.0202, \n"
     ]
    },
    {
     "name": "stdout",
     "output_type": "stream",
     "text": [
      "epoch: 27, [batch: 9 / 45], examples_per_second: 4119.7648, train_label_loss: 0.0352, \n"
     ]
    },
    {
     "name": "stdout",
     "output_type": "stream",
     "text": [
      "epoch: 27, [batch: 14 / 45], examples_per_second: 4115.4085, train_label_loss: 0.1721, \n"
     ]
    },
    {
     "name": "stdout",
     "output_type": "stream",
     "text": [
      "epoch: 27, [batch: 18 / 45], examples_per_second: 4115.8636, train_label_loss: 0.0588, \n"
     ]
    },
    {
     "name": "stdout",
     "output_type": "stream",
     "text": [
      "epoch: 27, [batch: 23 / 45], examples_per_second: 4039.0001, train_label_loss: 0.0554, \n"
     ]
    },
    {
     "name": "stdout",
     "output_type": "stream",
     "text": [
      "epoch: 27, [batch: 27 / 45], examples_per_second: 4117.6663, train_label_loss: 0.0661, \n"
     ]
    },
    {
     "name": "stdout",
     "output_type": "stream",
     "text": [
      "epoch: 27, [batch: 31 / 45], examples_per_second: 4112.0472, train_label_loss: 0.0708, \n"
     ]
    },
    {
     "name": "stdout",
     "output_type": "stream",
     "text": [
      "epoch: 27, [batch: 36 / 45], examples_per_second: 4154.4735, train_label_loss: 0.0747, \n"
     ]
    },
    {
     "name": "stdout",
     "output_type": "stream",
     "text": [
      "epoch: 27, [batch: 40 / 45], examples_per_second: 4199.5082, train_label_loss: 0.0316, \n"
     ]
    },
    {
     "name": "stdout",
     "output_type": "stream",
     "text": [
      "=============================================================\n",
      "epoch: 27, source_val_acc_label: 0.9699, target_val_acc_label: 0.8697, source_val_label_loss: 0.2139, target_val_label_loss: 0.7629, \n",
      "=============================================================\n"
     ]
    },
    {
     "name": "stdout",
     "output_type": "stream",
     "text": [
      "epoch: 28, [batch: 1 / 45], examples_per_second: 508.1260, train_label_loss: 0.0832, \n"
     ]
    },
    {
     "name": "stdout",
     "output_type": "stream",
     "text": [
      "epoch: 28, [batch: 5 / 45], examples_per_second: 4008.3490, train_label_loss: 0.0912, \n"
     ]
    },
    {
     "name": "stdout",
     "output_type": "stream",
     "text": [
      "epoch: 28, [batch: 9 / 45], examples_per_second: 4114.9488, train_label_loss: 0.0554, \n"
     ]
    },
    {
     "name": "stdout",
     "output_type": "stream",
     "text": [
      "epoch: 28, [batch: 14 / 45], examples_per_second: 4083.1347, train_label_loss: 0.0602, \n"
     ]
    },
    {
     "name": "stdout",
     "output_type": "stream",
     "text": [
      "epoch: 28, [batch: 18 / 45], examples_per_second: 4107.9517, train_label_loss: 0.0686, \n"
     ]
    },
    {
     "name": "stdout",
     "output_type": "stream",
     "text": [
      "epoch: 28, [batch: 23 / 45], examples_per_second: 4034.0588, train_label_loss: 0.0273, \n"
     ]
    },
    {
     "name": "stdout",
     "output_type": "stream",
     "text": [
      "epoch: 28, [batch: 27 / 45], examples_per_second: 4096.1585, train_label_loss: 0.0607, \n"
     ]
    },
    {
     "name": "stdout",
     "output_type": "stream",
     "text": [
      "epoch: 28, [batch: 31 / 45], examples_per_second: 4103.7948, train_label_loss: 0.1773, \n"
     ]
    },
    {
     "name": "stdout",
     "output_type": "stream",
     "text": [
      "epoch: 28, [batch: 36 / 45], examples_per_second: 4142.8322, train_label_loss: 0.0299, \n"
     ]
    },
    {
     "name": "stdout",
     "output_type": "stream",
     "text": [
      "epoch: 28, [batch: 40 / 45], examples_per_second: 4205.1387, train_label_loss: 0.0163, \n"
     ]
    },
    {
     "name": "stdout",
     "output_type": "stream",
     "text": [
      "=============================================================\n",
      "epoch: 28, source_val_acc_label: 0.9679, target_val_acc_label: 0.8669, source_val_label_loss: 0.1959, target_val_label_loss: 0.7684, \n",
      "=============================================================\n"
     ]
    },
    {
     "name": "stdout",
     "output_type": "stream",
     "text": [
      "epoch: 29, [batch: 1 / 45], examples_per_second: 510.5586, train_label_loss: 0.0243, \n"
     ]
    },
    {
     "name": "stdout",
     "output_type": "stream",
     "text": [
      "epoch: 29, [batch: 5 / 45], examples_per_second: 4018.4327, train_label_loss: 0.0504, \n"
     ]
    },
    {
     "name": "stdout",
     "output_type": "stream",
     "text": [
      "epoch: 29, [batch: 9 / 45], examples_per_second: 4114.7594, train_label_loss: 0.0348, \n"
     ]
    },
    {
     "name": "stdout",
     "output_type": "stream",
     "text": [
      "epoch: 29, [batch: 14 / 45], examples_per_second: 4117.2618, train_label_loss: 0.0833, \n"
     ]
    },
    {
     "name": "stdout",
     "output_type": "stream",
     "text": [
      "epoch: 29, [batch: 18 / 45], examples_per_second: 4116.1882, train_label_loss: 0.1537, \n"
     ]
    },
    {
     "name": "stdout",
     "output_type": "stream",
     "text": [
      "epoch: 29, [batch: 23 / 45], examples_per_second: 4039.8775, train_label_loss: 0.0491, \n"
     ]
    },
    {
     "name": "stdout",
     "output_type": "stream",
     "text": [
      "epoch: 29, [batch: 27 / 45], examples_per_second: 4111.8162, train_label_loss: 0.0727, \n"
     ]
    },
    {
     "name": "stdout",
     "output_type": "stream",
     "text": [
      "epoch: 29, [batch: 31 / 45], examples_per_second: 4116.9730, train_label_loss: 0.1025, \n"
     ]
    },
    {
     "name": "stdout",
     "output_type": "stream",
     "text": [
      "epoch: 29, [batch: 36 / 45], examples_per_second: 4154.5988, train_label_loss: 0.0693, \n"
     ]
    },
    {
     "name": "stdout",
     "output_type": "stream",
     "text": [
      "epoch: 29, [batch: 40 / 45], examples_per_second: 4206.2270, train_label_loss: 0.0425, \n"
     ]
    },
    {
     "name": "stdout",
     "output_type": "stream",
     "text": [
      "=============================================================\n",
      "epoch: 29, source_val_acc_label: 0.9679, target_val_acc_label: 0.8718, source_val_label_loss: 0.2107, target_val_label_loss: 0.7710, \n",
      "=============================================================\n"
     ]
    },
    {
     "name": "stdout",
     "output_type": "stream",
     "text": [
      "epoch: 30, [batch: 1 / 45], examples_per_second: 510.8736, train_label_loss: 0.1112, \n"
     ]
    },
    {
     "name": "stdout",
     "output_type": "stream",
     "text": [
      "epoch: 30, [batch: 5 / 45], examples_per_second: 4013.4369, train_label_loss: 0.0773, \n"
     ]
    },
    {
     "name": "stdout",
     "output_type": "stream",
     "text": [
      "epoch: 30, [batch: 9 / 45], examples_per_second: 4104.2551, train_label_loss: 0.0308, \n"
     ]
    },
    {
     "name": "stdout",
     "output_type": "stream",
     "text": [
      "epoch: 30, [batch: 14 / 45], examples_per_second: 4107.3767, train_label_loss: 0.0962, \n"
     ]
    },
    {
     "name": "stdout",
     "output_type": "stream",
     "text": [
      "epoch: 30, [batch: 18 / 45], examples_per_second: 4110.4229, train_label_loss: 0.0726, \n"
     ]
    },
    {
     "name": "stdout",
     "output_type": "stream",
     "text": [
      "epoch: 30, [batch: 23 / 45], examples_per_second: 4027.4415, train_label_loss: 0.0801, \n"
     ]
    },
    {
     "name": "stdout",
     "output_type": "stream",
     "text": [
      "epoch: 30, [batch: 27 / 45], examples_per_second: 4108.6188, train_label_loss: 0.0654, \n"
     ]
    },
    {
     "name": "stdout",
     "output_type": "stream",
     "text": [
      "epoch: 30, [batch: 31 / 45], examples_per_second: 4098.4445, train_label_loss: 0.0371, \n"
     ]
    },
    {
     "name": "stdout",
     "output_type": "stream",
     "text": [
      "epoch: 30, [batch: 36 / 45], examples_per_second: 4150.0201, train_label_loss: 0.0461, \n"
     ]
    },
    {
     "name": "stdout",
     "output_type": "stream",
     "text": [
      "epoch: 30, [batch: 40 / 45], examples_per_second: 4201.4594, train_label_loss: 0.0970, \n"
     ]
    },
    {
     "name": "stdout",
     "output_type": "stream",
     "text": [
      "=============================================================\n",
      "epoch: 30, source_val_acc_label: 0.9699, target_val_acc_label: 0.8746, source_val_label_loss: 0.2004, target_val_label_loss: 0.7651, \n",
      "=============================================================\n"
     ]
    },
    {
     "name": "stdout",
     "output_type": "stream",
     "text": [
      "Patience (3) exhausted\n"
     ]
    }
   ],
   "source": [
    "###################################\n",
    "# train\n",
    "###################################\n",
    "jig = PTN_Train_Eval_Test_Jig(model, p.BEST_MODEL_PATH, p.device)\n",
    "\n",
    "jig.train(\n",
    "    train_iterable=datasets.source.processed.train,\n",
    "    source_val_iterable=datasets.source.processed.val,\n",
    "    target_val_iterable=datasets.target.processed.val,\n",
    "    num_epochs=p.n_epoch,\n",
    "    num_logs_per_epoch=p.NUM_LOGS_PER_EPOCH,\n",
    "    patience=p.patience,\n",
    "    optimizer=optimizer,\n",
    "    criteria_for_best=p.criteria_for_best,\n",
    ")"
   ]
  },
  {
   "cell_type": "code",
   "execution_count": 14,
   "id": "31e8fabf",
   "metadata": {
    "execution": {
     "iopub.execute_input": "2022-03-22T16:42:46.397832Z",
     "iopub.status.busy": "2022-03-22T16:42:46.397564Z",
     "iopub.status.idle": "2022-03-22T16:42:46.415478Z",
     "shell.execute_reply": "2022-03-22T16:42:46.414997Z"
    },
    "papermill": {
     "duration": 0.091711,
     "end_time": "2022-03-22T16:42:46.415585",
     "exception": false,
     "start_time": "2022-03-22T16:42:46.323874",
     "status": "completed"
    },
    "tags": []
   },
   "outputs": [],
   "source": [
    "total_experiment_time_secs = time.time() - start_time_secs"
   ]
  },
  {
   "cell_type": "code",
   "execution_count": 15,
   "id": "87b9595b",
   "metadata": {
    "execution": {
     "iopub.execute_input": "2022-03-22T16:42:46.565993Z",
     "iopub.status.busy": "2022-03-22T16:42:46.565694Z",
     "iopub.status.idle": "2022-03-22T16:42:53.902743Z",
     "shell.execute_reply": "2022-03-22T16:42:53.902273Z"
    },
    "papermill": {
     "duration": 7.413874,
     "end_time": "2022-03-22T16:42:53.902863",
     "exception": false,
     "start_time": "2022-03-22T16:42:46.488989",
     "status": "completed"
    },
    "tags": []
   },
   "outputs": [],
   "source": [
    "###################################\n",
    "# Evaluate the model\n",
    "###################################\n",
    "source_test_label_accuracy, source_test_label_loss = jig.test(datasets.source.processed.test)\n",
    "target_test_label_accuracy, target_test_label_loss = jig.test(datasets.target.processed.test)\n",
    "\n",
    "source_val_label_accuracy, source_val_label_loss = jig.test(datasets.source.processed.val)\n",
    "target_val_label_accuracy, target_val_label_loss = jig.test(datasets.target.processed.val)\n",
    "\n",
    "history = jig.get_history()\n",
    "\n",
    "total_epochs_trained = len(history[\"epoch_indices\"])\n",
    "\n",
    "val_dl = Iterable_Aggregator((datasets.source.original.val,datasets.target.original.val))\n",
    "\n",
    "confusion = ptn_confusion_by_domain_over_dataloader(model, p.device, val_dl)\n",
    "per_domain_accuracy = per_domain_accuracy_from_confusion(confusion)\n",
    "\n",
    "# Add a key to per_domain_accuracy for if it was a source domain\n",
    "for domain, accuracy in per_domain_accuracy.items():\n",
    "    per_domain_accuracy[domain] = {\n",
    "        \"accuracy\": accuracy,\n",
    "        \"source?\": domain in p.domains_source\n",
    "    }\n",
    "\n",
    "# Do an independent accuracy assesment JUST TO BE SURE!\n",
    "# _source_test_label_accuracy = independent_accuracy_assesment(model, datasets.source.processed.test, p.device)\n",
    "# _target_test_label_accuracy = independent_accuracy_assesment(model, datasets.target.processed.test, p.device)\n",
    "# _source_val_label_accuracy = independent_accuracy_assesment(model, datasets.source.processed.val, p.device)\n",
    "# _target_val_label_accuracy = independent_accuracy_assesment(model, datasets.target.processed.val, p.device)\n",
    "\n",
    "# assert(_source_test_label_accuracy == source_test_label_accuracy)\n",
    "# assert(_target_test_label_accuracy == target_test_label_accuracy)\n",
    "# assert(_source_val_label_accuracy == source_val_label_accuracy)\n",
    "# assert(_target_val_label_accuracy == target_val_label_accuracy)\n",
    "\n",
    "experiment = {\n",
    "    \"experiment_name\": p.experiment_name,\n",
    "    \"parameters\": dict(p),\n",
    "    \"results\": {\n",
    "        \"source_test_label_accuracy\": source_test_label_accuracy,\n",
    "        \"source_test_label_loss\": source_test_label_loss,\n",
    "        \"target_test_label_accuracy\": target_test_label_accuracy,\n",
    "        \"target_test_label_loss\": target_test_label_loss,\n",
    "        \"source_val_label_accuracy\": source_val_label_accuracy,\n",
    "        \"source_val_label_loss\": source_val_label_loss,\n",
    "        \"target_val_label_accuracy\": target_val_label_accuracy,\n",
    "        \"target_val_label_loss\": target_val_label_loss,\n",
    "        \"total_epochs_trained\": total_epochs_trained,\n",
    "        \"total_experiment_time_secs\": total_experiment_time_secs,\n",
    "        \"confusion\": confusion,\n",
    "        \"per_domain_accuracy\": per_domain_accuracy,\n",
    "    },\n",
    "    \"history\": history,\n",
    "    \"dataset_metrics\": get_dataset_metrics(datasets, \"ptn\"),\n",
    "}"
   ]
  },
  {
   "cell_type": "code",
   "execution_count": 16,
   "id": "54a21829",
   "metadata": {
    "execution": {
     "iopub.execute_input": "2022-03-22T16:42:54.051365Z",
     "iopub.status.busy": "2022-03-22T16:42:54.051094Z",
     "iopub.status.idle": "2022-03-22T16:42:54.175651Z",
     "shell.execute_reply": "2022-03-22T16:42:54.176069Z"
    },
    "papermill": {
     "duration": 0.19848,
     "end_time": "2022-03-22T16:42:54.176199",
     "exception": false,
     "start_time": "2022-03-22T16:42:53.977719",
     "status": "completed"
    },
    "tags": []
   },
   "outputs": [
    {
     "data": {
      "image/png": "[encoded data removed]",
      "text/plain": [
       "<Figure size 1080x504 with 1 Axes>"
      ]
     },
     "metadata": {
      "needs_background": "light"
     },
     "output_type": "display_data"
    }
   ],
   "source": [
    "ax = get_loss_curve(experiment)\n",
    "plt.show()"
   ]
  },
  {
   "cell_type": "code",
   "execution_count": 17,
   "id": "fd8a0f60",
   "metadata": {
    "execution": {
     "iopub.execute_input": "2022-03-22T16:42:54.328472Z",
     "iopub.status.busy": "2022-03-22T16:42:54.328215Z",
     "iopub.status.idle": "2022-03-22T16:42:54.471837Z",
     "shell.execute_reply": "2022-03-22T16:42:54.471602Z"
    },
    "papermill": {
     "duration": 0.218172,
     "end_time": "2022-03-22T16:42:54.471922",
     "exception": false,
     "start_time": "2022-03-22T16:42:54.253750",
     "status": "completed"
    },
    "tags": []
   },
   "outputs": [
    {
     "data": {
      "text/plain": [
       "<AxesSubplot:title={'center':'Results'}>"
      ]
     },
     "execution_count": 17,
     "metadata": {},
     "output_type": "execute_result"
    },
    {
     "data": {
      "image/png": "[encoded data removed]",
      "text/plain": [
       "<Figure size 1080x504 with 1 Axes>"
      ]
     },
     "metadata": {
      "needs_background": "light"
     },
     "output_type": "display_data"
    }
   ],
   "source": [
    "get_results_table(experiment)"
   ]
  },
  {
   "cell_type": "code",
   "execution_count": 18,
   "id": "cf8dc689",
   "metadata": {
    "execution": {
     "iopub.execute_input": "2022-03-22T16:42:54.625016Z",
     "iopub.status.busy": "2022-03-22T16:42:54.624122Z",
     "iopub.status.idle": "2022-03-22T16:42:54.730159Z",
     "shell.execute_reply": "2022-03-22T16:42:54.729743Z"
    },
    "papermill": {
     "duration": 0.180631,
     "end_time": "2022-03-22T16:42:54.730251",
     "exception": false,
     "start_time": "2022-03-22T16:42:54.549620",
     "status": "completed"
    },
    "tags": []
   },
   "outputs": [
    {
     "data": {
      "text/plain": [
       "<AxesSubplot:title={'center':'Per Domain Validation Accuracy'}, xlabel='domain'>"
      ]
     },
     "execution_count": 18,
     "metadata": {},
     "output_type": "execute_result"
    },
    {
     "data": {
      "image/png": "[encoded data removed]",
      "text/plain": [
       "<Figure size 1080x504 with 1 Axes>"
      ]
     },
     "metadata": {
      "needs_background": "light"
     },
     "output_type": "display_data"
    }
   ],
   "source": [
    "get_domain_accuracies(experiment)"
   ]
  },
  {
   "cell_type": "code",
   "execution_count": 19,
   "id": "a74ae082",
   "metadata": {
    "execution": {
     "iopub.execute_input": "2022-03-22T16:42:54.887567Z",
     "iopub.status.busy": "2022-03-22T16:42:54.887312Z",
     "iopub.status.idle": "2022-03-22T16:42:54.902914Z",
     "shell.execute_reply": "2022-03-22T16:42:54.903327Z"
    },
    "papermill": {
     "duration": 0.092735,
     "end_time": "2022-03-22T16:42:54.903437",
     "exception": false,
     "start_time": "2022-03-22T16:42:54.810702",
     "status": "completed"
    },
    "tags": []
   },
   "outputs": [
    {
     "name": "stdout",
     "output_type": "stream",
     "text": [
      "Source Test Label Accuracy: 0.9570512820512821 Target Test Label Accuracy: 0.8824786324786325\n",
      "Source Val Label Accuracy: 0.9724358974358974 Target Val Label Accuracy: 0.8762820512820513\n"
     ]
    }
   ],
   "source": [
    "print(\"Source Test Label Accuracy:\", experiment[\"results\"][\"source_test_label_accuracy\"], \"Target Test Label Accuracy:\", experiment[\"results\"][\"target_test_label_accuracy\"])\n",
    "print(\"Source Val Label Accuracy:\", experiment[\"results\"][\"source_val_label_accuracy\"], \"Target Val Label Accuracy:\", experiment[\"results\"][\"target_val_label_accuracy\"])"
   ]
  },
  {
   "cell_type": "code",
   "execution_count": 20,
   "id": "dacca602",
   "metadata": {
    "execution": {
     "iopub.execute_input": "2022-03-22T16:42:55.056166Z",
     "iopub.status.busy": "2022-03-22T16:42:55.055917Z",
     "iopub.status.idle": "2022-03-22T16:42:55.068697Z",
     "shell.execute_reply": "2022-03-22T16:42:55.068230Z"
    },
    "papermill": {
     "duration": 0.087995,
     "end_time": "2022-03-22T16:42:55.068791",
     "exception": false,
     "start_time": "2022-03-22T16:42:54.980796",
     "status": "completed"
    },
    "tags": [
     "experiment_json"
    ]
   },
   "outputs": [
    {
     "data": {
      "text/plain": [
       "'{\"experiment_name\": \"tuned_1v2:wisig\", \"parameters\": {\"experiment_name\": \"tuned_1v2:wisig\", \"device\": \"cuda\", \"lr\": 0.0001, \"labels_source\": [\"1-10\", \"1-12\", \"1-14\", \"1-16\", \"1-18\", \"1-19\", \"1-8\", \"10-11\", \"10-17\", \"10-4\", \"10-7\", \"11-1\", \"11-10\", \"11-19\", \"11-20\", \"11-4\", \"11-7\", \"12-19\", \"12-20\", \"12-7\", \"13-14\", \"13-18\", \"13-19\", \"13-20\", \"13-3\", \"13-7\", \"14-10\", \"14-11\", \"14-12\", \"14-13\", \"14-14\", \"14-19\", \"14-20\", \"14-7\", \"14-8\", \"14-9\", \"15-1\", \"15-19\", \"15-6\", \"16-1\", \"16-16\", \"16-19\", \"16-20\", \"17-10\", \"17-11\", \"18-1\", \"18-10\", \"18-11\", \"18-12\", \"18-13\", \"18-14\", \"18-15\", \"18-16\", \"18-17\", \"18-19\", \"18-2\", \"18-20\", \"18-4\", \"18-5\", \"18-7\", \"18-8\", \"18-9\", \"19-1\", \"19-10\", \"19-11\", \"19-12\", \"19-13\", \"19-14\", \"19-15\", \"19-19\", \"19-2\", \"19-20\", \"19-3\", \"19-4\", \"19-6\", \"19-7\", \"19-8\", \"19-9\", \"2-1\", \"2-13\", \"2-15\", \"2-3\", \"2-4\", \"2-5\", \"2-6\", \"2-7\", \"2-8\", \"20-1\", \"20-12\", \"20-14\", \"20-15\", \"20-16\", \"20-18\", \"20-19\", \"20-20\", \"20-3\", \"20-4\", \"20-5\", \"20-7\", \"20-8\", \"3-1\", \"3-13\", \"3-18\", \"3-2\", \"3-8\", \"4-1\", \"4-10\", \"4-11\", \"5-1\", \"5-5\", \"6-1\", \"6-15\", \"6-6\", \"7-10\", \"7-11\", \"7-12\", \"7-13\", \"7-14\", \"7-7\", \"7-8\", \"7-9\", \"8-1\", \"8-13\", \"8-14\", \"8-18\", \"8-20\", \"8-3\", \"8-8\", \"9-1\", \"9-7\"], \"labels_target\": [\"1-10\", \"1-12\", \"1-14\", \"1-16\", \"1-18\", \"1-19\", \"1-8\", \"10-11\", \"10-17\", \"10-4\", \"10-7\", \"11-1\", \"11-10\", \"11-19\", \"11-20\", \"11-4\", \"11-7\", \"12-19\", \"12-20\", \"12-7\", \"13-14\", \"13-18\", \"13-19\", \"13-20\", \"13-3\", \"13-7\", \"14-10\", \"14-11\", \"14-12\", \"14-13\", \"14-14\", \"14-19\", \"14-20\", \"14-7\", \"14-8\", \"14-9\", \"15-1\", \"15-19\", \"15-6\", \"16-1\", \"16-16\", \"16-19\", \"16-20\", \"17-10\", \"17-11\", \"18-1\", \"18-10\", \"18-11\", \"18-12\", \"18-13\", \"18-14\", \"18-15\", \"18-16\", \"18-17\", \"18-19\", \"18-2\", \"18-20\", \"18-4\", \"18-5\", \"18-7\", \"18-8\", \"18-9\", \"19-1\", \"19-10\", \"19-11\", \"19-12\", \"19-13\", \"19-14\", \"19-15\", \"19-19\", \"19-2\", \"19-20\", \"19-3\", \"19-4\", \"19-6\", \"19-7\", \"19-8\", \"19-9\", \"2-1\", \"2-13\", \"2-15\", \"2-3\", \"2-4\", \"2-5\", \"2-6\", \"2-7\", \"2-8\", \"20-1\", \"20-12\", \"20-14\", \"20-15\", \"20-16\", \"20-18\", \"20-19\", \"20-20\", \"20-3\", \"20-4\", \"20-5\", \"20-7\", \"20-8\", \"3-1\", \"3-13\", \"3-18\", \"3-2\", \"3-8\", \"4-1\", \"4-10\", \"4-11\", \"5-1\", \"5-5\", \"6-1\", \"6-15\", \"6-6\", \"7-10\", \"7-11\", \"7-12\", \"7-13\", \"7-14\", \"7-7\", \"7-8\", \"7-9\", \"8-1\", \"8-13\", \"8-14\", \"8-18\", \"8-20\", \"8-3\", \"8-8\", \"9-1\", \"9-7\"], \"episode_transforms_source\": [], \"episode_transforms_target\": [], \"domains_source\": [3], \"domains_target\": [1, 2, 4], \"num_examples_per_domain_per_label_source\": -1, \"num_examples_per_domain_per_label_target\": -1, \"n_shot\": 3, \"n_way\": 130, \"n_query\": 2, \"train_k_factor\": 3, \"val_k_factor\": 2, \"test_k_factor\": 2, \"torch_default_dtype\": \"torch.float32\", \"n_epoch\": 50, \"patience\": 3, \"criteria_for_best\": \"target_accuracy\", \"x_net\": [{\"class\": \"nnReshape\", \"kargs\": {\"shape\": [-1, 1, 2, 256]}}, {\"class\": \"Conv2d\", \"kargs\": {\"in_channels\": 1, \"out_channels\": 256, \"kernel_size\": [1, 7], \"bias\": false, \"padding\": [0, 3]}}, {\"class\": \"ReLU\", \"kargs\": {\"inplace\": true}}, {\"class\": \"BatchNorm2d\", \"kargs\": {\"num_features\": 256}}, {\"class\": \"Conv2d\", \"kargs\": {\"in_channels\": 256, \"out_channels\": 80, \"kernel_size\": [2, 7], \"bias\": true, \"padding\": [0, 3]}}, {\"class\": \"ReLU\", \"kargs\": {\"inplace\": true}}, {\"class\": \"BatchNorm2d\", \"kargs\": {\"num_features\": 80}}, {\"class\": \"Flatten\", \"kargs\": {}}, {\"class\": \"Linear\", \"kargs\": {\"in_features\": 20480, \"out_features\": 256}}, {\"class\": \"ReLU\", \"kargs\": {\"inplace\": true}}, {\"class\": \"BatchNorm1d\", \"kargs\": {\"num_features\": 256}}, {\"class\": \"Linear\", \"kargs\": {\"in_features\": 256, \"out_features\": 256}}], \"NUM_LOGS_PER_EPOCH\": 10, \"BEST_MODEL_PATH\": \"./best_model.pth\", \"pickle_name\": \"wisig.node3-19.stratified_ds.2022A.pkl\", \"x_transforms_source\": [\"unit_mag\"], \"x_transforms_target\": [\"unit_mag\"], \"dataset_seed\": 1337, \"seed\": 1337}, \"results\": {\"source_test_label_accuracy\": 0.9570512820512821, \"source_test_label_loss\": 0.2459648847579956, \"target_test_label_accuracy\": 0.8824786324786325, \"target_test_label_loss\": 0.63413006067276, \"source_val_label_accuracy\": 0.9724358974358974, \"source_val_label_loss\": 0.19760625064373016, \"target_val_label_accuracy\": 0.8762820512820513, \"target_val_label_loss\": 0.7299254536628723, \"total_epochs_trained\": 30, \"total_experiment_time_secs\": 281.97645378112793, \"confusion\": {\"3\": {\"29\": {\"29\": 12}, \"123\": {\"123\": 12}, \"116\": {\"116\": 12}, \"25\": {\"25\": 12}, \"60\": {\"60\": 12}, \"88\": {\"88\": 12}, \"0\": {\"0\": 12}, \"77\": {\"77\": 12}, \"96\": {\"96\": 12}, \"3\": {\"3\": 12}, \"5\": {\"5\": 12}, \"89\": {\"89\": 12}, \"117\": {\"117\": 12}, \"78\": {\"78\": 10, \"13\": 1, \"87\": 1}, \"57\": {\"57\": 12}, \"90\": {\"90\": 11, \"112\": 1}, \"43\": {\"43\": 12}, \"50\": {\"50\": 12}, \"49\": {\"49\": 10, \"47\": 1, \"70\": 1}, \"61\": {\"61\": 12}, \"4\": {\"4\": 12}, \"67\": {\"67\": 12}, \"59\": {\"59\": 12}, \"118\": {\"118\": 12}, \"80\": {\"80\": 12}, \"75\": {\"75\": 12}, \"99\": {\"99\": 12}, \"111\": {\"111\": 12}, \"11\": {\"11\": 12}, \"76\": {\"76\": 12}, \"102\": {\"102\": 12}, \"44\": {\"44\": 12}, \"30\": {\"30\": 12}, \"6\": {\"6\": 12}, \"16\": {\"16\": 11, \"55\": 1}, \"79\": {\"79\": 12}, \"39\": {\"39\": 12}, \"101\": {\"101\": 11, \"112\": 1}, \"9\": {\"9\": 11, \"65\": 1}, \"109\": {\"109\": 12}, \"91\": {\"91\": 10, \"78\": 1, \"64\": 1}, \"129\": {\"129\": 12}, \"33\": {\"33\": 12}, \"113\": {\"113\": 12}, \"7\": {\"7\": 12}, \"82\": {\"82\": 12}, \"52\": {\"52\": 12}, \"93\": {\"93\": 12}, \"24\": {\"24\": 12}, \"26\": {\"26\": 12}, \"28\": {\"28\": 12}, \"85\": {\"85\": 12}, \"110\": {\"110\": 12}, \"119\": {\"119\": 12}, \"108\": {\"108\": 12}, \"53\": {\"53\": 12}, \"105\": {\"105\": 12}, \"103\": {\"103\": 12}, \"69\": {\"69\": 12}, \"23\": {\"23\": 12}, \"2\": {\"2\": 12}, \"66\": {\"66\": 12}, \"71\": {\"71\": 12}, \"122\": {\"122\": 10, \"1\": 1, \"5\": 1}, \"87\": {\"87\": 11, \"78\": 1}, \"8\": {\"8\": 11, \"108\": 1}, \"127\": {\"127\": 12}, \"40\": {\"40\": 12}, \"126\": {\"126\": 10, \"39\": 2}, \"12\": {\"12\": 12}, \"83\": {\"83\": 12}, \"81\": {\"81\": 12}, \"19\": {\"19\": 12}, \"125\": {\"125\": 12}, \"128\": {\"128\": 12}, \"22\": {\"22\": 12}, \"21\": {\"21\": 11, \"128\": 1}, \"42\": {\"42\": 12}, \"38\": {\"38\": 12}, \"72\": {\"72\": 12}, \"86\": {\"86\": 12}, \"1\": {\"1\": 12}, \"58\": {\"58\": 12}, \"46\": {\"46\": 12}, \"48\": {\"48\": 11, \"65\": 1}, \"34\": {\"34\": 12}, \"55\": {\"55\": 12}, \"94\": {\"94\": 12}, \"114\": {\"114\": 12}, \"97\": {\"97\": 9, \"106\": 2, \"15\": 1}, \"107\": {\"107\": 12}, \"68\": {\"68\": 12}, \"64\": {\"64\": 12}, \"13\": {\"48\": 1, \"13\": 9, \"6\": 1, \"21\": 1}, \"115\": {\"115\": 12}, \"62\": {\"62\": 12}, \"51\": {\"51\": 12}, \"98\": {\"98\": 10, \"48\": 1, \"44\": 1}, \"45\": {\"45\": 12}, \"74\": {\"74\": 11, \"24\": 1}, \"112\": {\"112\": 9, \"49\": 2, \"122\": 1}, \"41\": {\"41\": 12}, \"32\": {\"32\": 12}, \"104\": {\"104\": 12}, \"65\": {\"65\": 10, \"30\": 1, \"39\": 1}, \"54\": {\"54\": 11, \"112\": 1}, \"20\": {\"20\": 12}, \"124\": {\"124\": 12}, \"121\": {\"121\": 12}, \"106\": {\"106\": 12}, \"18\": {\"18\": 12}, \"17\": {\"17\": 12}, \"73\": {\"73\": 12}, \"70\": {\"70\": 10, \"21\": 1, \"122\": 1}, \"92\": {\"92\": 12}, \"15\": {\"15\": 12}, \"14\": {\"14\": 12}, \"84\": {\"84\": 12}, \"37\": {\"127\": 1, \"37\": 10, \"17\": 1}, \"120\": {\"120\": 10, \"21\": 1, \"122\": 1}, \"27\": {\"27\": 10, \"36\": 2}, \"35\": {\"35\": 11, \"88\": 1}, \"95\": {\"95\": 12}, \"31\": {\"31\": 12}, \"63\": {\"63\": 12}, \"47\": {\"47\": 12}, \"100\": {\"100\": 12}, \"56\": {\"56\": 12}, \"36\": {\"36\": 11, \"27\": 1}, \"10\": {\"10\": 12}}, \"2\": {\"117\": {\"117\": 12}, \"78\": {\"40\": 1, \"70\": 2, \"43\": 3, \"78\": 5, \"107\": 1}, \"88\": {\"88\": 11, \"96\": 1}, \"5\": {\"5\": 12}, \"89\": {\"89\": 8, \"92\": 2, \"26\": 2}, \"25\": {\"25\": 12}, \"61\": {\"83\": 1, \"61\": 9, \"24\": 1, \"22\": 1}, \"0\": {\"0\": 11, \"110\": 1}, \"103\": {\"103\": 11, \"21\": 1}, \"28\": {\"28\": 12}, \"3\": {\"3\": 11, \"71\": 1}, \"43\": {\"43\": 9, \"78\": 2, \"109\": 1}, \"30\": {\"30\": 11, \"97\": 1}, \"59\": {\"59\": 10, \"27\": 1, \"29\": 1}, \"79\": {\"79\": 11, \"67\": 1}, \"83\": {\"83\": 12}, \"115\": {\"115\": 12}, \"62\": {\"62\": 11, \"78\": 1}, \"26\": {\"26\": 12}, \"50\": {\"70\": 1, \"50\": 11}, \"40\": {\"40\": 10, \"105\": 1, \"82\": 1}, \"4\": {\"4\": 12}, \"68\": {\"68\": 11, \"78\": 1}, \"49\": {\"46\": 1, \"11\": 3, \"49\": 5, \"83\": 1, \"15\": 1, \"101\": 1}, \"51\": {\"51\": 3, \"6\": 3, \"75\": 3, \"59\": 1, \"15\": 1, \"23\": 1}, \"44\": {\"44\": 12}, \"76\": {\"76\": 12}, \"127\": {\"127\": 12}, \"97\": {\"97\": 11, \"15\": 1}, \"119\": {\"119\": 12}, \"77\": {\"77\": 10, \"109\": 2}, \"33\": {\"33\": 12}, \"99\": {\"99\": 12}, \"124\": {\"124\": 12}, \"6\": {\"6\": 11, \"51\": 1}, \"112\": {\"53\": 6, \"126\": 2, \"128\": 1, \"42\": 1, \"3\": 1, \"30\": 1}, \"53\": {\"53\": 12}, \"110\": {\"110\": 8, \"122\": 4}, \"11\": {\"11\": 9, \"49\": 3}, \"9\": {\"9\": 12}, \"20\": {\"20\": 11, \"99\": 1}, \"114\": {\"114\": 12}, \"10\": {\"10\": 8, \"24\": 1, \"118\": 1, \"78\": 2}, \"86\": {\"86\": 12}, \"118\": {\"118\": 9, \"109\": 1, \"21\": 1, \"39\": 1}, \"7\": {\"7\": 12}, \"92\": {\"89\": 4, \"92\": 7, \"118\": 1}, \"18\": {\"18\": 11, \"21\": 1}, \"94\": {\"94\": 11, \"126\": 1}, \"60\": {\"60\": 9, \"57\": 1, \"123\": 1, \"116\": 1}, \"81\": {\"81\": 11, \"40\": 1}, \"29\": {\"29\": 12}, \"109\": {\"109\": 7, \"39\": 1, \"24\": 1, \"118\": 1, \"57\": 1, \"31\": 1}, \"80\": {\"80\": 12}, \"120\": {\"120\": 12}, \"122\": {\"122\": 6, \"110\": 3, \"12\": 1, \"121\": 1, \"128\": 1}, \"106\": {\"106\": 12}, \"55\": {\"55\": 12}, \"104\": {\"104\": 12}, \"70\": {\"70\": 8, \"21\": 1, \"33\": 2, \"13\": 1}, \"24\": {\"24\": 9, \"108\": 1, \"36\": 1, \"94\": 1}, \"2\": {\"2\": 12}, \"67\": {\"80\": 1, \"67\": 10, \"82\": 1}, \"72\": {\"72\": 12}, \"91\": {\"91\": 10, \"34\": 1, \"77\": 1}, \"116\": {\"116\": 12}, \"8\": {\"8\": 12}, \"128\": {\"128\": 11, \"71\": 1}, \"41\": {\"41\": 10, \"56\": 2}, \"113\": {\"113\": 12}, \"12\": {\"12\": 9, \"122\": 1, \"13\": 1, \"21\": 1}, \"90\": {\"90\": 12}, \"82\": {\"82\": 12}, \"111\": {\"111\": 12}, \"85\": {\"85\": 12}, \"37\": {\"37\": 11, \"34\": 1}, \"23\": {\"23\": 8, \"59\": 3, \"97\": 1}, \"22\": {\"22\": 12}, \"102\": {\"102\": 12}, \"39\": {\"39\": 11, \"109\": 1}, \"101\": {\"101\": 12}, \"87\": {\"87\": 10, \"24\": 2}, \"1\": {\"1\": 11, \"33\": 1}, \"58\": {\"10\": 1, \"58\": 10, \"103\": 1}, \"47\": {\"47\": 8, \"61\": 1, \"58\": 1, \"100\": 1, \"41\": 1}, \"126\": {\"126\": 12}, \"34\": {\"34\": 8, \"28\": 2, \"86\": 2}, \"56\": {\"56\": 12}, \"95\": {\"95\": 11, \"21\": 1}, \"65\": {\"65\": 8, \"23\": 1, \"109\": 1, \"120\": 1, \"10\": 1}, \"98\": {\"98\": 12}, \"123\": {\"123\": 11, \"83\": 1}, \"69\": {\"69\": 12}, \"108\": {\"108\": 12}, \"13\": {\"13\": 9, \"11\": 1, \"27\": 1, \"70\": 1}, \"15\": {\"15\": 11, \"126\": 1}, \"125\": {\"125\": 12}, \"52\": {\"52\": 11, \"83\": 1}, \"46\": {\"46\": 12}, \"45\": {\"36\": 1, \"45\": 10, \"72\": 1}, \"75\": {\"75\": 11, \"97\": 1}, \"73\": {\"73\": 12}, \"42\": {\"42\": 12}, \"32\": {\"32\": 8, \"14\": 2, \"34\": 1, \"58\": 1}, \"105\": {\"105\": 12}, \"66\": {\"66\": 10, \"27\": 2}, \"54\": {\"54\": 12}, \"21\": {\"21\": 6, \"10\": 1, \"27\": 1, \"118\": 1, \"78\": 3}, \"64\": {\"64\": 10, \"37\": 1, \"13\": 1}, \"35\": {\"35\": 11, \"92\": 1}, \"107\": {\"107\": 11, \"94\": 1}, \"19\": {\"19\": 12}, \"17\": {\"17\": 10, \"27\": 1, \"30\": 1}, \"74\": {\"74\": 10, \"61\": 1, \"21\": 1}, \"71\": {\"71\": 11, \"128\": 1}, \"93\": {\"93\": 11, \"16\": 1}, \"16\": {\"16\": 11, \"27\": 1}, \"14\": {\"14\": 9, \"109\": 1, \"21\": 2}, \"84\": {\"84\": 11, \"78\": 1}, \"38\": {\"38\": 12}, \"121\": {\"121\": 9, \"23\": 1, \"29\": 1, \"96\": 1}, \"27\": {\"27\": 8, \"126\": 1, \"36\": 2, \"92\": 1}, \"129\": {\"129\": 12}, \"96\": {\"96\": 8, \"88\": 2, \"47\": 1, \"72\": 1}, \"31\": {\"31\": 12}, \"63\": {\"63\": 12}, \"48\": {\"48\": 12}, \"100\": {\"100\": 12}, \"57\": {\"57\": 10, \"126\": 1, \"45\": 1}, \"36\": {\"36\": 12}}, \"4\": {\"73\": {\"73\": 8, \"46\": 3, \"108\": 1}, \"29\": {\"29\": 12}, \"60\": {\"60\": 10, \"64\": 1, \"74\": 1}, \"50\": {\"50\": 12}, \"96\": {\"96\": 12}, \"64\": {\"64\": 12}, \"99\": {\"99\": 10, \"89\": 1, \"116\": 1}, \"0\": {\"0\": 9, \"101\": 2, \"108\": 1}, \"20\": {\"20\": 12}, \"51\": {\"29\": 2, \"62\": 1, \"21\": 2, \"60\": 1, \"115\": 1, \"125\": 3, \"91\": 1, \"23\": 1}, \"123\": {\"123\": 12}, \"83\": {\"83\": 12}, \"57\": {\"36\": 1, \"57\": 8, \"6\": 1, \"78\": 2}, \"33\": {\"33\": 12}, \"17\": {\"17\": 12}, \"62\": {\"118\": 3, \"62\": 7, \"23\": 1, \"94\": 1}, \"4\": {\"4\": 9, \"95\": 1, \"127\": 1, \"108\": 1}, \"18\": {\"18\": 11, \"73\": 1}, \"10\": {\"30\": 4, \"36\": 2, \"10\": 3, \"15\": 1, \"24\": 1, \"97\": 1}, \"102\": {\"102\": 12}, \"110\": {\"110\": 12}, \"68\": {\"68\": 12}, \"70\": {\"70\": 9, \"88\": 2, \"5\": 1}, \"86\": {\"86\": 12}, \"107\": {\"107\": 12}, \"21\": {\"21\": 11, \"113\": 1}, \"119\": {\"60\": 1, \"119\": 11}, \"85\": {\"85\": 11, \"88\": 1}, \"66\": {\"66\": 10, \"74\": 1, \"119\": 1}, \"124\": {\"124\": 12}, \"116\": {\"99\": 2, \"116\": 8, \"89\": 2}, \"71\": {\"71\": 12}, \"129\": {\"129\": 11, \"19\": 1}, \"105\": {\"105\": 6, \"87\": 5, \"40\": 1}, \"93\": {\"93\": 11, \"100\": 1}, \"48\": {\"48\": 12}, \"30\": {\"30\": 9, \"21\": 1, \"10\": 2}, \"36\": {\"122\": 1, \"24\": 2, \"36\": 8, \"97\": 1}, \"103\": {\"103\": 11, \"115\": 1}, \"67\": {\"23\": 1, \"47\": 1, \"67\": 6, \"80\": 2, \"69\": 2}, \"42\": {\"42\": 8, \"124\": 2, \"108\": 2}, \"100\": {\"100\": 12}, \"28\": {\"28\": 12}, \"23\": {\"122\": 1, \"62\": 1, \"123\": 4, \"58\": 1, \"23\": 2, \"52\": 1, \"78\": 1, \"60\": 1}, \"49\": {\"49\": 9, \"70\": 1, \"53\": 2}, \"38\": {\"38\": 11, \"48\": 1}, \"128\": {\"128\": 8, \"86\": 2, \"115\": 2}, \"118\": {\"118\": 12}, \"101\": {\"101\": 10, \"55\": 1, \"0\": 1}, \"79\": {\"79\": 12}, \"52\": {\"52\": 8, \"32\": 1, \"53\": 1, \"41\": 2}, \"6\": {\"6\": 10, \"51\": 2}, \"95\": {\"95\": 11, \"4\": 1}, \"54\": {\"54\": 10, \"36\": 1, \"97\": 1}, \"26\": {\"26\": 12}, \"69\": {\"69\": 10, \"40\": 1, \"121\": 1}, \"114\": {\"114\": 12}, \"97\": {\"24\": 4, \"60\": 1, \"36\": 3, \"48\": 1, \"97\": 3}, \"87\": {\"87\": 9, \"105\": 2, \"43\": 1}, \"1\": {\"1\": 9, \"122\": 1, \"129\": 1, \"23\": 1}, \"34\": {\"34\": 10, \"59\": 1, \"82\": 1}, \"19\": {\"19\": 12}, \"27\": {\"27\": 10, \"70\": 1, \"24\": 1}, \"5\": {\"5\": 11, \"78\": 1}, \"24\": {\"36\": 4, \"122\": 1, \"24\": 7}, \"126\": {\"126\": 12}, \"56\": {\"56\": 11, \"23\": 1}, \"59\": {\"59\": 11, \"53\": 1}, \"127\": {\"127\": 11, \"95\": 1}, \"44\": {\"44\": 12}, \"77\": {\"77\": 11, \"51\": 1}, \"80\": {\"80\": 12}, \"98\": {\"98\": 12}, \"122\": {\"43\": 1, \"122\": 11}, \"108\": {\"108\": 9, \"78\": 1, \"93\": 1, \"82\": 1}, \"61\": {\"35\": 4, \"61\": 8}, \"22\": {\"22\": 12}, \"63\": {\"63\": 10, \"99\": 1, \"100\": 1}, \"39\": {\"39\": 10, \"78\": 1, \"117\": 1}, \"25\": {\"25\": 11, \"108\": 1}, \"3\": {\"3\": 12}, \"78\": {\"78\": 4, \"23\": 1, \"61\": 1, \"50\": 4, \"21\": 1, \"43\": 1}, \"31\": {\"31\": 12}, \"35\": {\"35\": 9, \"26\": 1, \"61\": 2}, \"91\": {\"91\": 10, \"23\": 1, \"58\": 1}, \"37\": {\"37\": 12}, \"13\": {\"13\": 12}, \"53\": {\"53\": 12}, \"82\": {\"82\": 10, \"40\": 1, \"118\": 1}, \"92\": {\"92\": 9, \"29\": 1, \"69\": 2}, \"90\": {\"90\": 12}, \"8\": {\"8\": 11, \"106\": 1}, \"88\": {\"88\": 7, \"129\": 1, \"70\": 2, \"27\": 1, \"11\": 1}, \"16\": {\"16\": 12}, \"45\": {\"45\": 11, \"28\": 1}, \"89\": {\"89\": 11, \"69\": 1}, \"43\": {\"99\": 1, \"43\": 6, \"122\": 1, \"74\": 1, \"78\": 3}, \"65\": {\"65\": 12}, \"117\": {\"117\": 12}, \"40\": {\"40\": 12}, \"12\": {\"12\": 12}, \"7\": {\"7\": 12}, \"75\": {\"75\": 12}, \"41\": {\"41\": 12}, \"76\": {\"76\": 12}, \"9\": {\"9\": 12}, \"125\": {\"125\": 12}, \"120\": {\"120\": 12}, \"11\": {\"11\": 12}, \"115\": {\"78\": 3, \"86\": 1, \"115\": 5, \"67\": 1, \"87\": 1, \"56\": 1}, \"2\": {\"2\": 12}, \"113\": {\"113\": 10, \"87\": 1, \"39\": 1}, \"112\": {\"112\": 12}, \"94\": {\"94\": 8, \"82\": 1, \"24\": 1, \"15\": 2}, \"109\": {\"109\": 12}, \"74\": {\"60\": 1, \"74\": 11}, \"111\": {\"111\": 12}, \"55\": {\"55\": 12}, \"15\": {\"15\": 11, \"30\": 1}, \"14\": {\"14\": 12}, \"104\": {\"104\": 12}, \"47\": {\"47\": 11, \"70\": 1}, \"58\": {\"29\": 1, \"58\": 11}, \"106\": {\"106\": 12}, \"121\": {\"121\": 7, \"22\": 1, \"48\": 2, \"52\": 1, \"20\": 1}, \"81\": {\"81\": 11, \"52\": 1}, \"84\": {\"84\": 11, \"78\": 1}, \"32\": {\"32\": 12}, \"72\": {\"72\": 10, \"61\": 1, \"116\": 1}, \"46\": {\"46\": 10, \"19\": 1, \"70\": 1}}, \"1\": {\"49\": {\"70\": 1, \"49\": 7, \"23\": 1, \"31\": 1, \"53\": 1, \"104\": 1}, \"1\": {\"1\": 12}, \"119\": {\"119\": 12}, \"28\": {\"28\": 11, \"86\": 1}, \"20\": {\"20\": 12}, \"17\": {\"17\": 11, \"54\": 1}, \"103\": {\"103\": 11, \"9\": 1}, \"85\": {\"85\": 11, \"0\": 1}, \"87\": {\"128\": 1, \"87\": 11}, \"84\": {\"84\": 12}, \"34\": {\"34\": 11, \"125\": 1}, \"16\": {\"16\": 12}, \"6\": {\"6\": 12}, \"31\": {\"31\": 12}, \"92\": {\"92\": 12}, \"96\": {\"126\": 4, \"88\": 1, \"96\": 4, \"30\": 1, \"20\": 1, \"27\": 1}, \"64\": {\"64\": 12}, \"40\": {\"40\": 10, \"105\": 2}, \"69\": {\"69\": 12}, \"99\": {\"99\": 12}, \"3\": {\"60\": 1, \"3\": 10, \"36\": 1}, \"50\": {\"50\": 12}, \"21\": {\"83\": 1, \"11\": 1, \"21\": 5, \"77\": 1, \"39\": 1, \"17\": 1, \"78\": 1, \"20\": 1}, \"7\": {\"7\": 12}, \"0\": {\"0\": 11, \"85\": 1}, \"44\": {\"44\": 12}, \"19\": {\"19\": 11, \"72\": 1}, \"22\": {\"22\": 9, \"116\": 3}, \"32\": {\"110\": 6, \"32\": 4, \"23\": 1, \"93\": 1}, \"125\": {\"125\": 12}, \"82\": {\"82\": 12}, \"33\": {\"33\": 12}, \"45\": {\"45\": 3, \"35\": 1, \"124\": 2, \"49\": 2, \"109\": 1, \"104\": 1, \"78\": 1, \"44\": 1}, \"109\": {\"109\": 9, \"2\": 1, \"96\": 1, \"47\": 1}, \"105\": {\"105\": 10, \"50\": 1, \"40\": 1}, \"76\": {\"76\": 11, \"22\": 1}, \"59\": {\"59\": 9, \"90\": 1, \"71\": 2}, \"120\": {\"120\": 12}, \"41\": {\"41\": 12}, \"26\": {\"26\": 12}, \"42\": {\"42\": 7, \"91\": 2, \"109\": 1, \"104\": 2}, \"79\": {\"79\": 12}, \"97\": {\"97\": 4, \"27\": 2, \"88\": 3, \"24\": 2, \"18\": 1}, \"110\": {\"110\": 12}, \"128\": {\"128\": 8, \"86\": 1, \"46\": 1, \"72\": 1, \"19\": 1}, \"55\": {\"55\": 12}, \"23\": {\"21\": 2, \"23\": 7, \"115\": 1, \"123\": 1, \"44\": 1}, \"4\": {\"4\": 12}, \"14\": {\"14\": 12}, \"126\": {\"126\": 10, \"96\": 1, \"47\": 1}, \"111\": {\"111\": 12}, \"39\": {\"39\": 12}, \"35\": {\"35\": 11, \"94\": 1}, \"102\": {\"102\": 12}, \"113\": {\"113\": 12}, \"89\": {\"89\": 12}, \"46\": {\"46\": 7, \"94\": 1, \"53\": 2, \"54\": 1, \"124\": 1}, \"91\": {\"91\": 12}, \"83\": {\"83\": 12}, \"81\": {\"81\": 12}, \"88\": {\"97\": 1, \"27\": 1, \"88\": 7, \"36\": 3}, \"95\": {\"95\": 12}, \"53\": {\"71\": 1, \"53\": 11}, \"75\": {\"75\": 12}, \"122\": {\"122\": 11, \"43\": 1}, \"107\": {\"107\": 11, \"4\": 1}, \"104\": {\"104\": 11, \"21\": 1}, \"12\": {\"12\": 12}, \"112\": {\"112\": 11, \"46\": 1}, \"63\": {\"63\": 12}, \"30\": {\"30\": 11, \"75\": 1}, \"9\": {\"9\": 12}, \"78\": {\"78\": 5, \"23\": 1, \"43\": 2, \"59\": 1, \"87\": 2, \"40\": 1}, \"18\": {\"18\": 12}, \"116\": {\"116\": 11, \"61\": 1}, \"36\": {\"36\": 12}, \"100\": {\"100\": 11, \"99\": 1}, \"74\": {\"74\": 12}, \"61\": {\"116\": 3, \"61\": 9}, \"8\": {\"8\": 10, \"107\": 1, \"58\": 1}, \"70\": {\"70\": 8, \"128\": 2, \"49\": 1, \"21\": 1}, \"108\": {\"108\": 12}, \"77\": {\"77\": 12}, \"93\": {\"93\": 7, \"87\": 1, \"4\": 2, \"107\": 1, \"55\": 1}, \"37\": {\"37\": 12}, \"118\": {\"118\": 12}, \"80\": {\"80\": 12}, \"106\": {\"106\": 12}, \"58\": {\"53\": 3, \"58\": 9}, \"56\": {\"56\": 11, \"51\": 1}, \"86\": {\"86\": 11, \"50\": 1}, \"90\": {\"90\": 12}, \"123\": {\"123\": 12}, \"94\": {\"94\": 12}, \"52\": {\"52\": 12}, \"47\": {\"47\": 12}, \"117\": {\"117\": 12}, \"124\": {\"124\": 12}, \"71\": {\"71\": 10, \"78\": 1, \"23\": 1}, \"67\": {\"67\": 12}, \"15\": {\"15\": 12}, \"5\": {\"5\": 12}, \"24\": {\"24\": 11, \"126\": 1}, \"62\": {\"62\": 11, \"78\": 1}, \"13\": {\"13\": 12}, \"101\": {\"101\": 11, \"50\": 1}, \"51\": {\"51\": 8, \"71\": 3, \"52\": 1}, \"129\": {\"129\": 9, \"1\": 1, \"2\": 2}, \"65\": {\"76\": 2, \"65\": 8, \"21\": 1, \"22\": 1}, \"121\": {\"121\": 9, \"76\": 1, \"74\": 1, \"16\": 1}, \"43\": {\"43\": 8, \"53\": 1, \"78\": 3}, \"73\": {\"73\": 12}, \"68\": {\"68\": 11, \"60\": 1}, \"66\": {\"66\": 11, \"90\": 1}, \"60\": {\"60\": 6, \"2\": 1, \"34\": 2, \"57\": 1, \"123\": 2}, \"115\": {\"115\": 12}, \"38\": {\"38\": 12}, \"2\": {\"11\": 4, \"82\": 1, \"129\": 1, \"119\": 1, \"2\": 5}, \"127\": {\"127\": 11, \"21\": 1}, \"54\": {\"54\": 12}, \"72\": {\"72\": 12}, \"27\": {\"27\": 12}, \"57\": {\"57\": 11, \"61\": 1}, \"48\": {\"41\": 2, \"48\": 8, \"123\": 2}, \"114\": {\"114\": 12}, \"25\": {\"25\": 12}, \"11\": {\"11\": 12}, \"29\": {\"29\": 12}, \"98\": {\"98\": 12}, \"10\": {\"10\": 12}}}, \"per_domain_accuracy\": {\"3\": {\"accuracy\": 0.9724358974358974, \"source?\": true}, \"2\": {\"accuracy\": 0.8788461538461538, \"source?\": false}, \"4\": {\"accuracy\": 0.8615384615384616, \"source?\": false}, \"1\": {\"accuracy\": 0.8884615384615384, \"source?\": false}}}, \"history\": {\"epoch_indices\": [1, 2, 3, 4, 5, 6, 7, 8, 9, 10, 11, 12, 13, 14, 15, 16, 17, 18, 19, 20, 21, 22, 23, 24, 25, 26, 27, 28, 29, 30], \"train_label_loss\": [2.5511954254574247, 1.1459876497586567, 0.7390125777986315, 0.5426737109820048, 0.4145272864235772, 0.307317347990142, 0.26986771060360804, 0.2275090389781528, 0.19780933244360818, 0.17128737138377295, 0.15809023396836386, 0.14924543764856127, 0.14497410423225826, 0.13384352061483595, 0.12863639502061738, 0.102654104348686, 0.12201665180424849, 0.10337796691391203, 0.10304343414803346, 0.10726791148384412, 0.08933192094167074, 0.10807881587081486, 0.08136158026754856, 0.09592028872834311, 0.0896856520531906, 0.07506046812567446, 0.07554451806677712, 0.07721580442869001, 0.06764945667237043, 0.05961857537428538], \"source_val_label_loss\": [1.405921220779419, 0.9322956800460815, 0.6600428223609924, 0.4916074275970459, 0.38635021448135376, 0.3192277252674103, 0.28770729899406433, 0.2727159857749939, 0.24786192178726196, 0.24274978041648865, 0.22540229558944702, 0.22313034534454346, 0.22025899589061737, 0.2037065029144287, 0.21653568744659424, 0.21252289414405823, 0.20810282230377197, 0.19525867700576782, 0.19863222539424896, 0.2023836225271225, 0.2014300525188446, 0.20328526198863983, 0.20657023787498474, 0.19491611421108246, 0.20981328189373016, 0.19760625064373016, 0.213912695646286, 0.19591709971427917, 0.21068380773067474, 0.20036278665065765], \"target_val_label_loss\": [1.6487494707107544, 1.27883780002594, 1.1114736795425415, 0.9779806137084961, 0.9184041619300842, 0.8496481776237488, 0.8175042271614075, 0.8070206046104431, 0.7868062853813171, 0.7906695604324341, 0.7811124920845032, 0.7526739239692688, 0.7803513407707214, 0.7667484879493713, 0.7753140926361084, 0.7576338648796082, 0.7629998922348022, 0.7418296337127686, 0.7403483390808105, 0.7510285973548889, 0.7634142637252808, 0.7433534860610962, 0.7595394253730774, 0.7406118512153625, 0.7398029565811157, 0.7299254536628723, 0.7629459500312805, 0.7684382796287537, 0.7709904909133911, 0.7650726437568665], \"source_val_acc_label\": [0.7711538461538462, 0.8307692307692308, 0.8743589743589744, 0.9038461538461539, 0.9224358974358975, 0.9429487179487179, 0.9506410256410256, 0.9532051282051283, 0.9583333333333334, 0.9628205128205128, 0.9628205128205128, 0.9641025641025641, 0.9634615384615385, 0.966025641025641, 0.9641025641025641, 0.9647435897435898, 0.9711538461538461, 0.9705128205128205, 0.9730769230769231, 0.967948717948718, 0.9705128205128205, 0.9653846153846154, 0.967948717948718, 0.9673076923076923, 0.9666666666666667, 0.9724358974358974, 0.9698717948717949, 0.967948717948718, 0.967948717948718, 0.9698717948717949], \"target_val_acc_label\": [0.707905982905983, 0.7683760683760684, 0.7935897435897435, 0.8162393162393162, 0.8254273504273504, 0.8391025641025641, 0.8497863247863248, 0.847008547008547, 0.8506410256410256, 0.8495726495726496, 0.8587606837606837, 0.8589743589743589, 0.8568376068376068, 0.8589743589743589, 0.8602564102564103, 0.8638888888888889, 0.8647435897435898, 0.8623931623931624, 0.8696581196581197, 0.8653846153846154, 0.8641025641025641, 0.8700854700854701, 0.8670940170940171, 0.8743589743589744, 0.8702991452991453, 0.8762820512820513, 0.8696581196581197, 0.8668803418803419, 0.8717948717948718, 0.8745726495726496]}, \"dataset_metrics\": {\"source\": {\"train\": {\"n_unique_x\": 19714, \"n_unique_y\": 130, \"n_batch/episode\": 45}, \"val\": {\"n_unique_x\": 3153, \"n_unique_y\": 130, \"n_batch/episode\": 6}, \"test\": {\"n_unique_x\": 3209, \"n_unique_y\": 130, \"n_batch/episode\": 6}}, \"target\": {\"train\": {\"n_unique_x\": 60353, \"n_unique_y\": 130, \"n_batch/episode\": 138}, \"val\": {\"n_unique_x\": 9462, \"n_unique_y\": 130, \"n_batch/episode\": 18}, \"test\": {\"n_unique_x\": 9574, \"n_unique_y\": 130, \"n_batch/episode\": 18}}}}'"
      ]
     },
     "execution_count": 20,
     "metadata": {},
     "output_type": "execute_result"
    }
   ],
   "source": [
    "json.dumps(experiment)"
   ]
  }
 ],
 "metadata": {
  "celltoolbar": "Tags",
  "kernelspec": {
   "display_name": "Python 3 (ipykernel)",
   "language": "python",
   "name": "python3"
  },
  "language_info": {
   "codemirror_mode": {
    "name": "ipython",
    "version": 3
   },
   "file_extension": ".py",
   "mimetype": "text/x-python",
   "name": "python",
   "nbconvert_exporter": "python",
   "pygments_lexer": "ipython3",
   "version": "3.8.10"
  },
  "papermill": {
   "default_parameters": {},
   "duration": 293.700668,
   "end_time": "2022-03-22T16:42:56.054873",
   "environment_variables": {},
   "exception": null,
   "input_path": "/mnt/wd500GB/CSC500/csc500-main/csc500-notebooks/templates/ptn_template.ipynb",
   "output_path": "trial.ipynb",
   "parameters": {
    "parameters": {
     "BEST_MODEL_PATH": "./best_model.pth",
     "NUM_LOGS_PER_EPOCH": 10,
     "criteria_for_best": "target_accuracy",
     "dataset_seed": 1337,
     "device": "cuda",
     "domains_source": [
      3
     ],
     "domains_target": [
      1,
      2,
      4
     ],
     "episode_transforms_source": [],
     "episode_transforms_target": [],
     "experiment_name": "tuned_1v2:wisig",
     "labels_source": [
      "1-10",
      "1-12",
      "1-14",
      "1-16",
      "1-18",
      "1-19",
      "1-8",
      "10-11",
      "10-17",
      "10-4",
      "10-7",
      "11-1",
      "11-10",
      "11-19",
      "11-20",
      "11-4",
      "11-7",
      "12-19",
      "12-20",
      "12-7",
      "13-14",
      "13-18",
      "13-19",
      "13-20",
      "13-3",
      "13-7",
      "14-10",
      "14-11",
      "14-12",
      "14-13",
      "14-14",
      "14-19",
      "14-20",
      "14-7",
      "14-8",
      "14-9",
      "15-1",
      "15-19",
      "15-6",
      "16-1",
      "16-16",
      "16-19",
      "16-20",
      "17-10",
      "17-11",
      "18-1",
      "18-10",
      "18-11",
      "18-12",
      "18-13",
      "18-14",
      "18-15",
      "18-16",
      "18-17",
      "18-19",
      "18-2",
      "18-20",
      "18-4",
      "18-5",
      "18-7",
      "18-8",
      "18-9",
      "19-1",
      "19-10",
      "19-11",
      "19-12",
      "19-13",
      "19-14",
      "19-15",
      "19-19",
      "19-2",
      "19-20",
      "19-3",
      "19-4",
      "19-6",
      "19-7",
      "19-8",
      "19-9",
      "2-1",
      "2-13",
      "2-15",
      "2-3",
      "2-4",
      "2-5",
      "2-6",
      "2-7",
      "2-8",
      "20-1",
      "20-12",
      "20-14",
      "20-15",
      "20-16",
      "20-18",
      "20-19",
      "20-20",
      "20-3",
      "20-4",
      "20-5",
      "20-7",
      "20-8",
      "3-1",
      "3-13",
      "3-18",
      "3-2",
      "3-8",
      "4-1",
      "4-10",
      "4-11",
      "5-1",
      "5-5",
      "6-1",
      "6-15",
      "6-6",
      "7-10",
      "7-11",
      "7-12",
      "7-13",
      "7-14",
      "7-7",
      "7-8",
      "7-9",
      "8-1",
      "8-13",
      "8-14",
      "8-18",
      "8-20",
      "8-3",
      "8-8",
      "9-1",
      "9-7"
     ],
     "labels_target": [
      "1-10",
      "1-12",
      "1-14",
      "1-16",
      "1-18",
      "1-19",
      "1-8",
      "10-11",
      "10-17",
      "10-4",
      "10-7",
      "11-1",
      "11-10",
      "11-19",
      "11-20",
      "11-4",
      "11-7",
      "12-19",
      "12-20",
      "12-7",
      "13-14",
      "13-18",
      "13-19",
      "13-20",
      "13-3",
      "13-7",
      "14-10",
      "14-11",
      "14-12",
      "14-13",
      "14-14",
      "14-19",
      "14-20",
      "14-7",
      "14-8",
      "14-9",
      "15-1",
      "15-19",
      "15-6",
      "16-1",
      "16-16",
      "16-19",
      "16-20",
      "17-10",
      "17-11",
      "18-1",
      "18-10",
      "18-11",
      "18-12",
      "18-13",
      "18-14",
      "18-15",
      "18-16",
      "18-17",
      "18-19",
      "18-2",
      "18-20",
      "18-4",
      "18-5",
      "18-7",
      "18-8",
      "18-9",
      "19-1",
      "19-10",
      "19-11",
      "19-12",
      "19-13",
      "19-14",
      "19-15",
      "19-19",
      "19-2",
      "19-20",
      "19-3",
      "19-4",
      "19-6",
      "19-7",
      "19-8",
      "19-9",
      "2-1",
      "2-13",
      "2-15",
      "2-3",
      "2-4",
      "2-5",
      "2-6",
      "2-7",
      "2-8",
      "20-1",
      "20-12",
      "20-14",
      "20-15",
      "20-16",
      "20-18",
      "20-19",
      "20-20",
      "20-3",
      "20-4",
      "20-5",
      "20-7",
      "20-8",
      "3-1",
      "3-13",
      "3-18",
      "3-2",
      "3-8",
      "4-1",
      "4-10",
      "4-11",
      "5-1",
      "5-5",
      "6-1",
      "6-15",
      "6-6",
      "7-10",
      "7-11",
      "7-12",
      "7-13",
      "7-14",
      "7-7",
      "7-8",
      "7-9",
      "8-1",
      "8-13",
      "8-14",
      "8-18",
      "8-20",
      "8-3",
      "8-8",
      "9-1",
      "9-7"
     ],
     "lr": 0.0001,
     "n_epoch": 50,
     "n_query": 2,
     "n_shot": 3,
     "n_way": 130,
     "num_examples_per_domain_per_label_source": -1,
     "num_examples_per_domain_per_label_target": -1,
     "patience": 3,
     "pickle_name": "wisig.node3-19.stratified_ds.2022A.pkl",
     "seed": 1337,
     "test_k_factor": 2,
     "torch_default_dtype": "torch.float32",
     "train_k_factor": 3,
     "val_k_factor": 2,
     "x_net": [
      {
       "class": "nnReshape",
       "kargs": {
        "shape": [
         -1,
         1,
         2,
         256
        ]
       }
      },
      {
       "class": "Conv2d",
       "kargs": {
        "bias": false,
        "in_channels": 1,
        "kernel_size": [
         1,
         7
        ],
        "out_channels": 256,
        "padding": [
         0,
         3
        ]
       }
      },
      {
       "class": "ReLU",
       "kargs": {
        "inplace": true
       }
      },
      {
       "class": "BatchNorm2d",
       "kargs": {
        "num_features": 256
       }
      },
      {
       "class": "Conv2d",
       "kargs": {
        "bias": true,
        "in_channels": 256,
        "kernel_size": [
         2,
         7
        ],
        "out_channels": 80,
        "padding": [
         0,
         3
        ]
       }
      },
      {
       "class": "ReLU",
       "kargs": {
        "inplace": true
       }
      },
      {
       "class": "BatchNorm2d",
       "kargs": {
        "num_features": 80
       }
      },
      {
       "class": "Flatten",
       "kargs": {}
      },
      {
       "class": "Linear",
       "kargs": {
        "in_features": 20480,
        "out_features": 256
       }
      },
      {
       "class": "ReLU",
       "kargs": {
        "inplace": true
       }
      },
      {
       "class": "BatchNorm1d",
       "kargs": {
        "num_features": 256
       }
      },
      {
       "class": "Linear",
       "kargs": {
        "in_features": 256,
        "out_features": 256
       }
      }
     ],
     "x_transforms_source": [
      "unit_mag"
     ],
     "x_transforms_target": [
      "unit_mag"
     ]
    }
   },
   "start_time": "2022-03-22T16:38:02.354205",
   "version": "2.3.4"
  }
 },
 "nbformat": 4,
 "nbformat_minor": 5
}