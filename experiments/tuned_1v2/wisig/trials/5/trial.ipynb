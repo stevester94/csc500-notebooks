{
 "cells": [
  {
   "cell_type": "markdown",
   "id": "9fea5f46",
   "metadata": {
    "papermill": {
     "duration": 0.014214,
     "end_time": "2022-03-22T16:51:09.397732",
     "exception": false,
     "start_time": "2022-03-22T16:51:09.383518",
     "status": "completed"
    },
    "tags": []
   },
   "source": [
    "# PTN Template\n",
    "This notebook serves as a template for single dataset PTN experiments  \n",
    "It can be run on its own by setting STANDALONE to True (do a find for \"STANDALONE\" to see where)  \n",
    "But it is intended to be executed as part of a *papermill.py script. See any of the   \n",
    "experimentes with a papermill script to get started with that workflow.  "
   ]
  },
  {
   "cell_type": "code",
   "execution_count": 1,
   "id": "0902182a",
   "metadata": {
    "execution": {
     "iopub.execute_input": "2022-03-22T16:51:09.431429Z",
     "iopub.status.busy": "2022-03-22T16:51:09.431145Z",
     "iopub.status.idle": "2022-03-22T16:51:10.373770Z",
     "shell.execute_reply": "2022-03-22T16:51:10.373482Z"
    },
    "papermill": {
     "duration": 0.966247,
     "end_time": "2022-03-22T16:51:10.373837",
     "exception": false,
     "start_time": "2022-03-22T16:51:09.407590",
     "status": "completed"
    },
    "tags": []
   },
   "outputs": [],
   "source": [
    "%load_ext autoreload\n",
    "%autoreload 2\n",
    "%matplotlib inline\n",
    "\n",
    "    \n",
    "import os, json, sys, time, random\n",
    "import numpy as np\n",
    "import torch\n",
    "from torch.optim import Adam\n",
    "from  easydict import EasyDict\n",
    "import matplotlib.pyplot as plt\n",
    "\n",
    "from steves_models.steves_ptn import Steves_Prototypical_Network\n",
    "\n",
    "from steves_utils.lazy_iterable_wrapper import Lazy_Iterable_Wrapper\n",
    "from steves_utils.iterable_aggregator import Iterable_Aggregator\n",
    "from steves_utils.ptn_train_eval_test_jig import  PTN_Train_Eval_Test_Jig\n",
    "from steves_utils.torch_sequential_builder import build_sequential\n",
    "from steves_utils.torch_utils import get_dataset_metrics, ptn_confusion_by_domain_over_dataloader\n",
    "from steves_utils.utils_v2 import (per_domain_accuracy_from_confusion, get_datasets_base_path)\n",
    "from steves_utils.PTN.utils import independent_accuracy_assesment\n",
    "\n",
    "from steves_utils.stratified_dataset.episodic_accessor import Episodic_Accessor_Factory\n",
    "\n",
    "from steves_utils.ptn_do_report import (\n",
    "    get_loss_curve,\n",
    "    get_results_table,\n",
    "    get_parameters_table,\n",
    "    get_domain_accuracies,\n",
    ")\n",
    "\n",
    "from steves_utils.transforms import get_chained_transform"
   ]
  },
  {
   "cell_type": "markdown",
   "id": "41c840b4",
   "metadata": {
    "papermill": {
     "duration": 0.009387,
     "end_time": "2022-03-22T16:51:10.396953",
     "exception": false,
     "start_time": "2022-03-22T16:51:10.387566",
     "status": "completed"
    },
    "tags": []
   },
   "source": [
    "# Required Parameters\n",
    "These are allowed parameters, not defaults\n",
    "Each of these values need to be present in the injected parameters (the notebook will raise an exception if they are not present)\n",
    "\n",
    "Papermill uses the cell tag \"parameters\" to inject the real parameters below this cell.\n",
    "Enable tags to see what I mean"
   ]
  },
  {
   "cell_type": "code",
   "execution_count": 2,
   "id": "fd44eb83",
   "metadata": {
    "execution": {
     "iopub.execute_input": "2022-03-22T16:51:10.418841Z",
     "iopub.status.busy": "2022-03-22T16:51:10.418582Z",
     "iopub.status.idle": "2022-03-22T16:51:10.433919Z",
     "shell.execute_reply": "2022-03-22T16:51:10.434322Z"
    },
    "papermill": {
     "duration": 0.028266,
     "end_time": "2022-03-22T16:51:10.434445",
     "exception": false,
     "start_time": "2022-03-22T16:51:10.406179",
     "status": "completed"
    },
    "tags": []
   },
   "outputs": [],
   "source": [
    "required_parameters = {\n",
    "    \"experiment_name\",\n",
    "    \"lr\",\n",
    "    \"device\",\n",
    "    \"seed\",\n",
    "    \"dataset_seed\",\n",
    "    \"labels_source\",\n",
    "    \"labels_target\",\n",
    "    \"domains_source\",\n",
    "    \"domains_target\",\n",
    "    \"num_examples_per_domain_per_label_source\",\n",
    "    \"num_examples_per_domain_per_label_target\",\n",
    "    \"n_shot\",\n",
    "    \"n_way\",\n",
    "    \"n_query\",\n",
    "    \"train_k_factor\",\n",
    "    \"val_k_factor\",\n",
    "    \"test_k_factor\",\n",
    "    \"n_epoch\",\n",
    "    \"patience\",\n",
    "    \"criteria_for_best\",\n",
    "    \"x_transforms_source\",\n",
    "    \"x_transforms_target\",\n",
    "    \"episode_transforms_source\",\n",
    "    \"episode_transforms_target\",\n",
    "    \"pickle_name\",\n",
    "    \"x_net\",\n",
    "    \"NUM_LOGS_PER_EPOCH\",\n",
    "    \"BEST_MODEL_PATH\",\n",
    "    \"torch_default_dtype\"\n",
    "}"
   ]
  },
  {
   "cell_type": "code",
   "execution_count": 3,
   "id": "fa3f0049",
   "metadata": {
    "execution": {
     "iopub.execute_input": "2022-03-22T16:51:10.469167Z",
     "iopub.status.busy": "2022-03-22T16:51:10.465465Z",
     "iopub.status.idle": "2022-03-22T16:51:10.481761Z",
     "shell.execute_reply": "2022-03-22T16:51:10.481337Z"
    },
    "papermill": {
     "duration": 0.032425,
     "end_time": "2022-03-22T16:51:10.481864",
     "exception": false,
     "start_time": "2022-03-22T16:51:10.449439",
     "status": "completed"
    },
    "tags": [
     "parameters"
    ]
   },
   "outputs": [],
   "source": [
    "\n",
    "\n",
    "standalone_parameters = {}\n",
    "standalone_parameters[\"experiment_name\"] = \"STANDALONE PTN\"\n",
    "standalone_parameters[\"lr\"] = 0.0001\n",
    "standalone_parameters[\"device\"] = \"cuda\"\n",
    "\n",
    "standalone_parameters[\"seed\"] = 1337\n",
    "standalone_parameters[\"dataset_seed\"] = 1337\n",
    "\n",
    "\n",
    "standalone_parameters[\"num_examples_per_domain_per_label_source\"]=100\n",
    "standalone_parameters[\"num_examples_per_domain_per_label_target\"]=100\n",
    "\n",
    "standalone_parameters[\"n_shot\"] = 3\n",
    "standalone_parameters[\"n_query\"]  = 2\n",
    "standalone_parameters[\"train_k_factor\"] = 1\n",
    "standalone_parameters[\"val_k_factor\"] = 2\n",
    "standalone_parameters[\"test_k_factor\"] = 2\n",
    "\n",
    "\n",
    "standalone_parameters[\"n_epoch\"] = 100\n",
    "\n",
    "standalone_parameters[\"patience\"] = 10\n",
    "standalone_parameters[\"criteria_for_best\"] = \"target_accuracy\"\n",
    "\n",
    "standalone_parameters[\"x_transforms_source\"] = [\"unit_power\"]\n",
    "standalone_parameters[\"x_transforms_target\"] = [\"unit_power\"]\n",
    "standalone_parameters[\"episode_transforms_source\"] = []\n",
    "standalone_parameters[\"episode_transforms_target\"] = []\n",
    "\n",
    "standalone_parameters[\"torch_default_dtype\"] = \"torch.float32\" \n",
    "\n",
    "\n",
    "\n",
    "standalone_parameters[\"x_net\"] =     [\n",
    "    {\"class\": \"nnReshape\", \"kargs\": {\"shape\":[-1, 1, 2, 256]}},\n",
    "    {\"class\": \"Conv2d\", \"kargs\": { \"in_channels\":1, \"out_channels\":256, \"kernel_size\":(1,7), \"bias\":False, \"padding\":(0,3), },},\n",
    "    {\"class\": \"ReLU\", \"kargs\": {\"inplace\": True}},\n",
    "    {\"class\": \"BatchNorm2d\", \"kargs\": {\"num_features\":256}},\n",
    "\n",
    "    {\"class\": \"Conv2d\", \"kargs\": { \"in_channels\":256, \"out_channels\":80, \"kernel_size\":(2,7), \"bias\":True, \"padding\":(0,3), },},\n",
    "    {\"class\": \"ReLU\", \"kargs\": {\"inplace\": True}},\n",
    "    {\"class\": \"BatchNorm2d\", \"kargs\": {\"num_features\":80}},\n",
    "    {\"class\": \"Flatten\", \"kargs\": {}},\n",
    "\n",
    "    {\"class\": \"Linear\", \"kargs\": {\"in_features\": 80*256, \"out_features\": 256}}, # 80 units per IQ pair\n",
    "    {\"class\": \"ReLU\", \"kargs\": {\"inplace\": True}},\n",
    "    {\"class\": \"BatchNorm1d\", \"kargs\": {\"num_features\":256}},\n",
    "\n",
    "    {\"class\": \"Linear\", \"kargs\": {\"in_features\": 256, \"out_features\": 256}},\n",
    "]\n",
    "\n",
    "# Parameters relevant to results\n",
    "# These parameters will basically never need to change\n",
    "standalone_parameters[\"NUM_LOGS_PER_EPOCH\"] = 10\n",
    "standalone_parameters[\"BEST_MODEL_PATH\"] = \"./best_model.pth\"\n",
    "\n",
    "# uncomment for CORES dataset\n",
    "from steves_utils.CORES.utils import (\n",
    "    ALL_NODES,\n",
    "    ALL_NODES_MINIMUM_1000_EXAMPLES,\n",
    "    ALL_DAYS\n",
    ")\n",
    "\n",
    "\n",
    "standalone_parameters[\"labels_source\"] = ALL_NODES\n",
    "standalone_parameters[\"labels_target\"] = ALL_NODES\n",
    "\n",
    "standalone_parameters[\"domains_source\"] = [1]\n",
    "standalone_parameters[\"domains_target\"] = [2,3,4,5]\n",
    "\n",
    "standalone_parameters[\"pickle_name\"] = \"cores.stratified_ds.2022A.pkl\"\n",
    "\n",
    "\n",
    "# Uncomment these for ORACLE dataset\n",
    "# from steves_utils.ORACLE.utils_v2 import (\n",
    "#     ALL_DISTANCES_FEET,\n",
    "#     ALL_RUNS,\n",
    "#     ALL_SERIAL_NUMBERS,\n",
    "# )\n",
    "# standalone_parameters[\"labels_source\"] = ALL_SERIAL_NUMBERS\n",
    "# standalone_parameters[\"labels_target\"] = ALL_SERIAL_NUMBERS\n",
    "# standalone_parameters[\"domains_source\"] = [8,20, 38,50]\n",
    "# standalone_parameters[\"domains_target\"] = [14, 26, 32, 44, 56]\n",
    "# standalone_parameters[\"pickle_name\"] = \"oracle.frame_indexed.stratified_ds.2022A.pkl\"\n",
    "# standalone_parameters[\"num_examples_per_domain_per_label_source\"]=1000\n",
    "# standalone_parameters[\"num_examples_per_domain_per_label_target\"]=1000\n",
    "\n",
    "# Uncomment these for Metahan dataset\n",
    "# standalone_parameters[\"labels_source\"] = list(range(19))\n",
    "# standalone_parameters[\"labels_target\"] = list(range(19))\n",
    "# standalone_parameters[\"domains_source\"] = [0]\n",
    "# standalone_parameters[\"domains_target\"] = [1]\n",
    "# standalone_parameters[\"pickle_name\"] = \"metehan.stratified_ds.2022A.pkl\"\n",
    "# standalone_parameters[\"n_way\"]  = len(standalone_parameters[\"labels_source\"])\n",
    "# standalone_parameters[\"num_examples_per_domain_per_label_source\"]=200\n",
    "# standalone_parameters[\"num_examples_per_domain_per_label_target\"]=100\n",
    "\n",
    "\n",
    "standalone_parameters[\"n_way\"]  = len(standalone_parameters[\"labels_source\"])"
   ]
  },
  {
   "cell_type": "code",
   "execution_count": 4,
   "id": "e3031239",
   "metadata": {
    "execution": {
     "iopub.execute_input": "2022-03-22T16:51:10.518454Z",
     "iopub.status.busy": "2022-03-22T16:51:10.518052Z",
     "iopub.status.idle": "2022-03-22T16:51:10.531289Z",
     "shell.execute_reply": "2022-03-22T16:51:10.530771Z"
    },
    "papermill": {
     "duration": 0.03702,
     "end_time": "2022-03-22T16:51:10.531392",
     "exception": false,
     "start_time": "2022-03-22T16:51:10.494372",
     "status": "completed"
    },
    "tags": [
     "injected-parameters"
    ]
   },
   "outputs": [],
   "source": [
    "# Parameters\n",
    "parameters = {\n",
    "    \"experiment_name\": \"tuned_1v2:wisig\",\n",
    "    \"device\": \"cuda\",\n",
    "    \"lr\": 0.0001,\n",
    "    \"labels_source\": [\n",
    "        \"1-10\",\n",
    "        \"1-12\",\n",
    "        \"1-14\",\n",
    "        \"1-16\",\n",
    "        \"1-18\",\n",
    "        \"1-19\",\n",
    "        \"1-8\",\n",
    "        \"10-11\",\n",
    "        \"10-17\",\n",
    "        \"10-4\",\n",
    "        \"10-7\",\n",
    "        \"11-1\",\n",
    "        \"11-10\",\n",
    "        \"11-19\",\n",
    "        \"11-20\",\n",
    "        \"11-4\",\n",
    "        \"11-7\",\n",
    "        \"12-19\",\n",
    "        \"12-20\",\n",
    "        \"12-7\",\n",
    "        \"13-14\",\n",
    "        \"13-18\",\n",
    "        \"13-19\",\n",
    "        \"13-20\",\n",
    "        \"13-3\",\n",
    "        \"13-7\",\n",
    "        \"14-10\",\n",
    "        \"14-11\",\n",
    "        \"14-12\",\n",
    "        \"14-13\",\n",
    "        \"14-14\",\n",
    "        \"14-19\",\n",
    "        \"14-20\",\n",
    "        \"14-7\",\n",
    "        \"14-8\",\n",
    "        \"14-9\",\n",
    "        \"15-1\",\n",
    "        \"15-19\",\n",
    "        \"15-6\",\n",
    "        \"16-1\",\n",
    "        \"16-16\",\n",
    "        \"16-19\",\n",
    "        \"16-20\",\n",
    "        \"17-10\",\n",
    "        \"17-11\",\n",
    "        \"18-1\",\n",
    "        \"18-10\",\n",
    "        \"18-11\",\n",
    "        \"18-12\",\n",
    "        \"18-13\",\n",
    "        \"18-14\",\n",
    "        \"18-15\",\n",
    "        \"18-16\",\n",
    "        \"18-17\",\n",
    "        \"18-19\",\n",
    "        \"18-2\",\n",
    "        \"18-20\",\n",
    "        \"18-4\",\n",
    "        \"18-5\",\n",
    "        \"18-7\",\n",
    "        \"18-8\",\n",
    "        \"18-9\",\n",
    "        \"19-1\",\n",
    "        \"19-10\",\n",
    "        \"19-11\",\n",
    "        \"19-12\",\n",
    "        \"19-13\",\n",
    "        \"19-14\",\n",
    "        \"19-15\",\n",
    "        \"19-19\",\n",
    "        \"19-2\",\n",
    "        \"19-20\",\n",
    "        \"19-3\",\n",
    "        \"19-4\",\n",
    "        \"19-6\",\n",
    "        \"19-7\",\n",
    "        \"19-8\",\n",
    "        \"19-9\",\n",
    "        \"2-1\",\n",
    "        \"2-13\",\n",
    "        \"2-15\",\n",
    "        \"2-3\",\n",
    "        \"2-4\",\n",
    "        \"2-5\",\n",
    "        \"2-6\",\n",
    "        \"2-7\",\n",
    "        \"2-8\",\n",
    "        \"20-1\",\n",
    "        \"20-12\",\n",
    "        \"20-14\",\n",
    "        \"20-15\",\n",
    "        \"20-16\",\n",
    "        \"20-18\",\n",
    "        \"20-19\",\n",
    "        \"20-20\",\n",
    "        \"20-3\",\n",
    "        \"20-4\",\n",
    "        \"20-5\",\n",
    "        \"20-7\",\n",
    "        \"20-8\",\n",
    "        \"3-1\",\n",
    "        \"3-13\",\n",
    "        \"3-18\",\n",
    "        \"3-2\",\n",
    "        \"3-8\",\n",
    "        \"4-1\",\n",
    "        \"4-10\",\n",
    "        \"4-11\",\n",
    "        \"5-1\",\n",
    "        \"5-5\",\n",
    "        \"6-1\",\n",
    "        \"6-15\",\n",
    "        \"6-6\",\n",
    "        \"7-10\",\n",
    "        \"7-11\",\n",
    "        \"7-12\",\n",
    "        \"7-13\",\n",
    "        \"7-14\",\n",
    "        \"7-7\",\n",
    "        \"7-8\",\n",
    "        \"7-9\",\n",
    "        \"8-1\",\n",
    "        \"8-13\",\n",
    "        \"8-14\",\n",
    "        \"8-18\",\n",
    "        \"8-20\",\n",
    "        \"8-3\",\n",
    "        \"8-8\",\n",
    "        \"9-1\",\n",
    "        \"9-7\",\n",
    "    ],\n",
    "    \"labels_target\": [\n",
    "        \"1-10\",\n",
    "        \"1-12\",\n",
    "        \"1-14\",\n",
    "        \"1-16\",\n",
    "        \"1-18\",\n",
    "        \"1-19\",\n",
    "        \"1-8\",\n",
    "        \"10-11\",\n",
    "        \"10-17\",\n",
    "        \"10-4\",\n",
    "        \"10-7\",\n",
    "        \"11-1\",\n",
    "        \"11-10\",\n",
    "        \"11-19\",\n",
    "        \"11-20\",\n",
    "        \"11-4\",\n",
    "        \"11-7\",\n",
    "        \"12-19\",\n",
    "        \"12-20\",\n",
    "        \"12-7\",\n",
    "        \"13-14\",\n",
    "        \"13-18\",\n",
    "        \"13-19\",\n",
    "        \"13-20\",\n",
    "        \"13-3\",\n",
    "        \"13-7\",\n",
    "        \"14-10\",\n",
    "        \"14-11\",\n",
    "        \"14-12\",\n",
    "        \"14-13\",\n",
    "        \"14-14\",\n",
    "        \"14-19\",\n",
    "        \"14-20\",\n",
    "        \"14-7\",\n",
    "        \"14-8\",\n",
    "        \"14-9\",\n",
    "        \"15-1\",\n",
    "        \"15-19\",\n",
    "        \"15-6\",\n",
    "        \"16-1\",\n",
    "        \"16-16\",\n",
    "        \"16-19\",\n",
    "        \"16-20\",\n",
    "        \"17-10\",\n",
    "        \"17-11\",\n",
    "        \"18-1\",\n",
    "        \"18-10\",\n",
    "        \"18-11\",\n",
    "        \"18-12\",\n",
    "        \"18-13\",\n",
    "        \"18-14\",\n",
    "        \"18-15\",\n",
    "        \"18-16\",\n",
    "        \"18-17\",\n",
    "        \"18-19\",\n",
    "        \"18-2\",\n",
    "        \"18-20\",\n",
    "        \"18-4\",\n",
    "        \"18-5\",\n",
    "        \"18-7\",\n",
    "        \"18-8\",\n",
    "        \"18-9\",\n",
    "        \"19-1\",\n",
    "        \"19-10\",\n",
    "        \"19-11\",\n",
    "        \"19-12\",\n",
    "        \"19-13\",\n",
    "        \"19-14\",\n",
    "        \"19-15\",\n",
    "        \"19-19\",\n",
    "        \"19-2\",\n",
    "        \"19-20\",\n",
    "        \"19-3\",\n",
    "        \"19-4\",\n",
    "        \"19-6\",\n",
    "        \"19-7\",\n",
    "        \"19-8\",\n",
    "        \"19-9\",\n",
    "        \"2-1\",\n",
    "        \"2-13\",\n",
    "        \"2-15\",\n",
    "        \"2-3\",\n",
    "        \"2-4\",\n",
    "        \"2-5\",\n",
    "        \"2-6\",\n",
    "        \"2-7\",\n",
    "        \"2-8\",\n",
    "        \"20-1\",\n",
    "        \"20-12\",\n",
    "        \"20-14\",\n",
    "        \"20-15\",\n",
    "        \"20-16\",\n",
    "        \"20-18\",\n",
    "        \"20-19\",\n",
    "        \"20-20\",\n",
    "        \"20-3\",\n",
    "        \"20-4\",\n",
    "        \"20-5\",\n",
    "        \"20-7\",\n",
    "        \"20-8\",\n",
    "        \"3-1\",\n",
    "        \"3-13\",\n",
    "        \"3-18\",\n",
    "        \"3-2\",\n",
    "        \"3-8\",\n",
    "        \"4-1\",\n",
    "        \"4-10\",\n",
    "        \"4-11\",\n",
    "        \"5-1\",\n",
    "        \"5-5\",\n",
    "        \"6-1\",\n",
    "        \"6-15\",\n",
    "        \"6-6\",\n",
    "        \"7-10\",\n",
    "        \"7-11\",\n",
    "        \"7-12\",\n",
    "        \"7-13\",\n",
    "        \"7-14\",\n",
    "        \"7-7\",\n",
    "        \"7-8\",\n",
    "        \"7-9\",\n",
    "        \"8-1\",\n",
    "        \"8-13\",\n",
    "        \"8-14\",\n",
    "        \"8-18\",\n",
    "        \"8-20\",\n",
    "        \"8-3\",\n",
    "        \"8-8\",\n",
    "        \"9-1\",\n",
    "        \"9-7\",\n",
    "    ],\n",
    "    \"episode_transforms_source\": [],\n",
    "    \"episode_transforms_target\": [],\n",
    "    \"domains_source\": [3],\n",
    "    \"domains_target\": [1, 2, 4],\n",
    "    \"num_examples_per_domain_per_label_source\": -1,\n",
    "    \"num_examples_per_domain_per_label_target\": -1,\n",
    "    \"n_shot\": 3,\n",
    "    \"n_way\": 130,\n",
    "    \"n_query\": 2,\n",
    "    \"train_k_factor\": 3,\n",
    "    \"val_k_factor\": 2,\n",
    "    \"test_k_factor\": 2,\n",
    "    \"torch_default_dtype\": \"torch.float32\",\n",
    "    \"n_epoch\": 50,\n",
    "    \"patience\": 3,\n",
    "    \"criteria_for_best\": \"target_accuracy\",\n",
    "    \"x_net\": [\n",
    "        {\"class\": \"nnReshape\", \"kargs\": {\"shape\": [-1, 1, 2, 256]}},\n",
    "        {\n",
    "            \"class\": \"Conv2d\",\n",
    "            \"kargs\": {\n",
    "                \"in_channels\": 1,\n",
    "                \"out_channels\": 256,\n",
    "                \"kernel_size\": [1, 7],\n",
    "                \"bias\": False,\n",
    "                \"padding\": [0, 3],\n",
    "            },\n",
    "        },\n",
    "        {\"class\": \"ReLU\", \"kargs\": {\"inplace\": True}},\n",
    "        {\"class\": \"BatchNorm2d\", \"kargs\": {\"num_features\": 256}},\n",
    "        {\n",
    "            \"class\": \"Conv2d\",\n",
    "            \"kargs\": {\n",
    "                \"in_channels\": 256,\n",
    "                \"out_channels\": 80,\n",
    "                \"kernel_size\": [2, 7],\n",
    "                \"bias\": True,\n",
    "                \"padding\": [0, 3],\n",
    "            },\n",
    "        },\n",
    "        {\"class\": \"ReLU\", \"kargs\": {\"inplace\": True}},\n",
    "        {\"class\": \"BatchNorm2d\", \"kargs\": {\"num_features\": 80}},\n",
    "        {\"class\": \"Flatten\", \"kargs\": {}},\n",
    "        {\"class\": \"Linear\", \"kargs\": {\"in_features\": 20480, \"out_features\": 256}},\n",
    "        {\"class\": \"ReLU\", \"kargs\": {\"inplace\": True}},\n",
    "        {\"class\": \"BatchNorm1d\", \"kargs\": {\"num_features\": 256}},\n",
    "        {\"class\": \"Linear\", \"kargs\": {\"in_features\": 256, \"out_features\": 256}},\n",
    "    ],\n",
    "    \"NUM_LOGS_PER_EPOCH\": 10,\n",
    "    \"BEST_MODEL_PATH\": \"./best_model.pth\",\n",
    "    \"pickle_name\": \"wisig.node3-19.stratified_ds.2022A.pkl\",\n",
    "    \"x_transforms_source\": [\"unit_mag\"],\n",
    "    \"x_transforms_target\": [\"unit_mag\"],\n",
    "    \"dataset_seed\": 154325,\n",
    "    \"seed\": 154325,\n",
    "}\n"
   ]
  },
  {
   "cell_type": "code",
   "execution_count": 5,
   "id": "8fa1cc33",
   "metadata": {
    "execution": {
     "iopub.execute_input": "2022-03-22T16:51:10.560970Z",
     "iopub.status.busy": "2022-03-22T16:51:10.560722Z",
     "iopub.status.idle": "2022-03-22T16:51:10.574831Z",
     "shell.execute_reply": "2022-03-22T16:51:10.575132Z"
    },
    "papermill": {
     "duration": 0.027845,
     "end_time": "2022-03-22T16:51:10.575226",
     "exception": false,
     "start_time": "2022-03-22T16:51:10.547381",
     "status": "completed"
    },
    "tags": []
   },
   "outputs": [],
   "source": [
    "# Set this to True if you want to run this template directly\n",
    "STANDALONE = False\n",
    "if STANDALONE:\n",
    "    print(\"parameters not injected, running with standalone_parameters\")\n",
    "    parameters = standalone_parameters\n",
    "\n",
    "if not 'parameters' in locals() and not 'parameters' in globals():\n",
    "    raise Exception(\"Parameter injection failed\")\n",
    "\n",
    "#Use an easy dict for all the parameters\n",
    "p = EasyDict(parameters)\n",
    "\n",
    "supplied_keys = set(p.keys())\n",
    "\n",
    "if  supplied_keys != required_parameters:\n",
    "    print(\"Parameters are incorrect\")\n",
    "    if len(supplied_keys - required_parameters)>0: print(\"Shouldn't have:\", str(supplied_keys - required_parameters))\n",
    "    if len(required_parameters - supplied_keys)>0: print(\"Need to have:\", str(required_parameters - supplied_keys))\n",
    "    raise RuntimeError(\"Parameters are incorrect\")\n",
    "\n"
   ]
  },
  {
   "cell_type": "code",
   "execution_count": 6,
   "id": "3a028d58",
   "metadata": {
    "execution": {
     "iopub.execute_input": "2022-03-22T16:51:10.602954Z",
     "iopub.status.busy": "2022-03-22T16:51:10.602700Z",
     "iopub.status.idle": "2022-03-22T16:51:10.616786Z",
     "shell.execute_reply": "2022-03-22T16:51:10.616420Z"
    },
    "papermill": {
     "duration": 0.025779,
     "end_time": "2022-03-22T16:51:10.616867",
     "exception": false,
     "start_time": "2022-03-22T16:51:10.591088",
     "status": "completed"
    },
    "tags": []
   },
   "outputs": [],
   "source": [
    "###################################\n",
    "# Set the RNGs and make it all deterministic\n",
    "###################################\n",
    "np.random.seed(p.seed)\n",
    "random.seed(p.seed)\n",
    "torch.manual_seed(p.seed)\n",
    "\n",
    "torch.use_deterministic_algorithms(True) "
   ]
  },
  {
   "cell_type": "code",
   "execution_count": 7,
   "id": "b691acf6",
   "metadata": {
    "execution": {
     "iopub.execute_input": "2022-03-22T16:51:10.642926Z",
     "iopub.status.busy": "2022-03-22T16:51:10.642682Z",
     "iopub.status.idle": "2022-03-22T16:51:10.656423Z",
     "shell.execute_reply": "2022-03-22T16:51:10.656805Z"
    },
    "papermill": {
     "duration": 0.025884,
     "end_time": "2022-03-22T16:51:10.656928",
     "exception": false,
     "start_time": "2022-03-22T16:51:10.631044",
     "status": "completed"
    },
    "tags": []
   },
   "outputs": [],
   "source": [
    "###########################################\n",
    "# The stratified datasets honor this\n",
    "###########################################\n",
    "torch.set_default_dtype(eval(p.torch_default_dtype))"
   ]
  },
  {
   "cell_type": "code",
   "execution_count": 8,
   "id": "b5fba671",
   "metadata": {
    "execution": {
     "iopub.execute_input": "2022-03-22T16:51:10.683527Z",
     "iopub.status.busy": "2022-03-22T16:51:10.683283Z",
     "iopub.status.idle": "2022-03-22T16:51:10.723601Z",
     "shell.execute_reply": "2022-03-22T16:51:10.723076Z"
    },
    "papermill": {
     "duration": 0.051914,
     "end_time": "2022-03-22T16:51:10.723709",
     "exception": false,
     "start_time": "2022-03-22T16:51:10.671795",
     "status": "completed"
    },
    "tags": []
   },
   "outputs": [],
   "source": [
    "###################################\n",
    "# Build the network(s)\n",
    "# Note: It's critical to do this AFTER setting the RNG\n",
    "# (This is due to the randomized initial weights)\n",
    "###################################\n",
    "x_net = build_sequential(p.x_net)"
   ]
  },
  {
   "cell_type": "code",
   "execution_count": 9,
   "id": "5d7e61cc",
   "metadata": {
    "execution": {
     "iopub.execute_input": "2022-03-22T16:51:10.749989Z",
     "iopub.status.busy": "2022-03-22T16:51:10.749747Z",
     "iopub.status.idle": "2022-03-22T16:51:10.764140Z",
     "shell.execute_reply": "2022-03-22T16:51:10.763831Z"
    },
    "papermill": {
     "duration": 0.026298,
     "end_time": "2022-03-22T16:51:10.764242",
     "exception": false,
     "start_time": "2022-03-22T16:51:10.737944",
     "status": "completed"
    },
    "tags": []
   },
   "outputs": [],
   "source": [
    "start_time_secs = time.time()"
   ]
  },
  {
   "cell_type": "code",
   "execution_count": 10,
   "id": "fd5442bc",
   "metadata": {
    "execution": {
     "iopub.execute_input": "2022-03-22T16:51:10.799815Z",
     "iopub.status.busy": "2022-03-22T16:51:10.799180Z",
     "iopub.status.idle": "2022-03-22T16:51:27.320050Z",
     "shell.execute_reply": "2022-03-22T16:51:27.320444Z"
    },
    "papermill": {
     "duration": 16.540377,
     "end_time": "2022-03-22T16:51:27.320580",
     "exception": false,
     "start_time": "2022-03-22T16:51:10.780203",
     "status": "completed"
    },
    "tags": []
   },
   "outputs": [],
   "source": [
    "###################################\n",
    "# Build the dataset\n",
    "###################################\n",
    "\n",
    "if p.x_transforms_source == []: x_transform_source = None\n",
    "else: x_transform_source = get_chained_transform(p.x_transforms_source) \n",
    "\n",
    "if p.x_transforms_target == []: x_transform_target = None\n",
    "else: x_transform_target = get_chained_transform(p.x_transforms_target)\n",
    "\n",
    "if p.episode_transforms_source == []: episode_transform_source = None\n",
    "else: raise Exception(\"episode_transform_source not implemented\")\n",
    "\n",
    "if p.episode_transforms_target == []: episode_transform_target = None\n",
    "else: raise Exception(\"episode_transform_target not implemented\")\n",
    "\n",
    "\n",
    "eaf_source = Episodic_Accessor_Factory(\n",
    "    labels=p.labels_source,\n",
    "    domains=p.domains_source,\n",
    "    num_examples_per_domain_per_label=p.num_examples_per_domain_per_label_source,\n",
    "    iterator_seed=p.seed,\n",
    "    dataset_seed=p.dataset_seed,\n",
    "    n_shot=p.n_shot,\n",
    "    n_way=p.n_way,\n",
    "    n_query=p.n_query,\n",
    "    train_val_test_k_factors=(p.train_k_factor,p.val_k_factor,p.test_k_factor),\n",
    "    pickle_path=os.path.join(get_datasets_base_path(), p.pickle_name),\n",
    "    x_transform_func=x_transform_source,\n",
    "    example_transform_func=episode_transform_source,\n",
    "    \n",
    ")\n",
    "train_original_source, val_original_source, test_original_source = eaf_source.get_train(), eaf_source.get_val(), eaf_source.get_test()\n",
    "\n",
    "\n",
    "eaf_target = Episodic_Accessor_Factory(\n",
    "    labels=p.labels_target,\n",
    "    domains=p.domains_target,\n",
    "    num_examples_per_domain_per_label=p.num_examples_per_domain_per_label_target,\n",
    "    iterator_seed=p.seed,\n",
    "    dataset_seed=p.dataset_seed,\n",
    "    n_shot=p.n_shot,\n",
    "    n_way=p.n_way,\n",
    "    n_query=p.n_query,\n",
    "    train_val_test_k_factors=(p.train_k_factor,p.val_k_factor,p.test_k_factor),\n",
    "    pickle_path=os.path.join(get_datasets_base_path(), p.pickle_name),\n",
    "    x_transform_func=x_transform_target,\n",
    "    example_transform_func=episode_transform_target,\n",
    ")\n",
    "train_original_target, val_original_target, test_original_target = eaf_target.get_train(), eaf_target.get_val(), eaf_target.get_test()\n",
    "\n",
    "\n",
    "transform_lambda = lambda ex: ex[1] # Original is (<domain>, <episode>) so we strip down to episode only\n",
    "\n",
    "train_processed_source = Lazy_Iterable_Wrapper(train_original_source, transform_lambda)\n",
    "val_processed_source   = Lazy_Iterable_Wrapper(val_original_source, transform_lambda)\n",
    "test_processed_source  = Lazy_Iterable_Wrapper(test_original_source, transform_lambda)\n",
    "\n",
    "train_processed_target = Lazy_Iterable_Wrapper(train_original_target, transform_lambda)\n",
    "val_processed_target   = Lazy_Iterable_Wrapper(val_original_target, transform_lambda)\n",
    "test_processed_target  = Lazy_Iterable_Wrapper(test_original_target, transform_lambda)\n",
    "\n",
    "datasets = EasyDict({\n",
    "    \"source\": {\n",
    "        \"original\": {\"train\":train_original_source, \"val\":val_original_source, \"test\":test_original_source},\n",
    "        \"processed\": {\"train\":train_processed_source, \"val\":val_processed_source, \"test\":test_processed_source}\n",
    "    },\n",
    "    \"target\": {\n",
    "        \"original\": {\"train\":train_original_target, \"val\":val_original_target, \"test\":test_original_target},\n",
    "        \"processed\": {\"train\":train_processed_target, \"val\":val_processed_target, \"test\":test_processed_target}\n",
    "    },\n",
    "})"
   ]
  },
  {
   "cell_type": "code",
   "execution_count": 11,
   "id": "296189d9",
   "metadata": {
    "execution": {
     "iopub.execute_input": "2022-03-22T16:51:27.351034Z",
     "iopub.status.busy": "2022-03-22T16:51:27.350745Z",
     "iopub.status.idle": "2022-03-22T16:51:29.049267Z",
     "shell.execute_reply": "2022-03-22T16:51:29.049676Z"
    },
    "papermill": {
     "duration": 1.713352,
     "end_time": "2022-03-22T16:51:29.049786",
     "exception": false,
     "start_time": "2022-03-22T16:51:27.336434",
     "status": "completed"
    },
    "tags": []
   },
   "outputs": [
    {
     "name": "stdout",
     "output_type": "stream",
     "text": [
      "Visually inspect these to see if they line up with expected values given the transforms\n",
      "x_transforms_source ['unit_mag']\n",
      "x_transforms_target ['unit_mag']\n",
      "Average magnitude, source: 1.0\n",
      "Average power, source: 1.2453165\n"
     ]
    },
    {
     "name": "stdout",
     "output_type": "stream",
     "text": [
      "Average magnitude, target: 1.0\n",
      "Average power, target: 1.1938157\n"
     ]
    }
   ],
   "source": [
    "# Some quick unit tests on the data\n",
    "from steves_utils.transforms import get_average_power, get_average_magnitude\n",
    "\n",
    "q_x, q_y, s_x, s_y, truth = next(iter(train_processed_source))\n",
    "\n",
    "assert q_x.dtype == eval(p.torch_default_dtype)\n",
    "assert s_x.dtype == eval(p.torch_default_dtype)\n",
    "\n",
    "print(\"Visually inspect these to see if they line up with expected values given the transforms\")\n",
    "print('x_transforms_source', p.x_transforms_source)\n",
    "print('x_transforms_target', p.x_transforms_target)\n",
    "print(\"Average magnitude, source:\", get_average_magnitude(q_x[0].numpy()))\n",
    "print(\"Average power, source:\", get_average_power(q_x[0].numpy()))\n",
    "\n",
    "q_x, q_y, s_x, s_y, truth = next(iter(train_processed_target))\n",
    "print(\"Average magnitude, target:\", get_average_magnitude(q_x[0].numpy()))\n",
    "print(\"Average power, target:\", get_average_power(q_x[0].numpy()))\n"
   ]
  },
  {
   "cell_type": "code",
   "execution_count": 12,
   "id": "bbdacba1",
   "metadata": {
    "execution": {
     "iopub.execute_input": "2022-03-22T16:51:29.079954Z",
     "iopub.status.busy": "2022-03-22T16:51:29.079680Z",
     "iopub.status.idle": "2022-03-22T16:51:29.147909Z",
     "shell.execute_reply": "2022-03-22T16:51:29.148298Z"
    },
    "papermill": {
     "duration": 0.083608,
     "end_time": "2022-03-22T16:51:29.148435",
     "exception": false,
     "start_time": "2022-03-22T16:51:29.064827",
     "status": "completed"
    },
    "tags": []
   },
   "outputs": [
    {
     "name": "stdout",
     "output_type": "stream",
     "text": [
      "(2, 256)\n"
     ]
    }
   ],
   "source": [
    "###################################\n",
    "# Build the model\n",
    "###################################\n",
    "model = Steves_Prototypical_Network(x_net, device=p.device, x_shape=(2,256))\n",
    "optimizer = Adam(params=model.parameters(), lr=p.lr)"
   ]
  },
  {
   "cell_type": "code",
   "execution_count": 13,
   "id": "22b39ac5",
   "metadata": {
    "execution": {
     "iopub.execute_input": "2022-03-22T16:51:29.175828Z",
     "iopub.status.busy": "2022-03-22T16:51:29.175573Z",
     "iopub.status.idle": "2022-03-22T16:53:59.029431Z",
     "shell.execute_reply": "2022-03-22T16:53:59.029863Z"
    },
    "papermill": {
     "duration": 149.867197,
     "end_time": "2022-03-22T16:53:59.030000",
     "exception": false,
     "start_time": "2022-03-22T16:51:29.162803",
     "status": "completed"
    },
    "tags": []
   },
   "outputs": [
    {
     "name": "stdout",
     "output_type": "stream",
     "text": [
      "epoch: 1, [batch: 1 / 45], examples_per_second: 2003.9491, train_label_loss: 4.6567, \n"
     ]
    },
    {
     "name": "stdout",
     "output_type": "stream",
     "text": [
      "epoch: 1, [batch: 5 / 45], examples_per_second: 3962.9011, train_label_loss: 4.1780, \n"
     ]
    },
    {
     "name": "stdout",
     "output_type": "stream",
     "text": [
      "epoch: 1, [batch: 9 / 45], examples_per_second: 4046.3357, train_label_loss: 3.4622, \n"
     ]
    },
    {
     "name": "stdout",
     "output_type": "stream",
     "text": [
      "epoch: 1, [batch: 14 / 45], examples_per_second: 4049.8093, train_label_loss: 2.6702, \n"
     ]
    },
    {
     "name": "stdout",
     "output_type": "stream",
     "text": [
      "epoch: 1, [batch: 18 / 45], examples_per_second: 4044.7314, train_label_loss: 2.4689, \n"
     ]
    },
    {
     "name": "stdout",
     "output_type": "stream",
     "text": [
      "epoch: 1, [batch: 23 / 45], examples_per_second: 3969.9355, train_label_loss: 2.0690, \n"
     ]
    },
    {
     "name": "stdout",
     "output_type": "stream",
     "text": [
      "epoch: 1, [batch: 27 / 45], examples_per_second: 4038.6004, train_label_loss: 1.7807, \n"
     ]
    },
    {
     "name": "stdout",
     "output_type": "stream",
     "text": [
      "epoch: 1, [batch: 31 / 45], examples_per_second: 4046.9979, train_label_loss: 1.5912, \n"
     ]
    },
    {
     "name": "stdout",
     "output_type": "stream",
     "text": [
      "epoch: 1, [batch: 36 / 45], examples_per_second: 4075.9643, train_label_loss: 1.5708, \n"
     ]
    },
    {
     "name": "stdout",
     "output_type": "stream",
     "text": [
      "epoch: 1, [batch: 40 / 45], examples_per_second: 4128.9209, train_label_loss: 1.5873, \n"
     ]
    },
    {
     "name": "stdout",
     "output_type": "stream",
     "text": [
      "=============================================================\n",
      "epoch: 1, source_val_acc_label: 0.7712, target_val_acc_label: 0.7312, source_val_label_loss: 1.4083, target_val_label_loss: 1.6162, \n",
      "=============================================================\n"
     ]
    },
    {
     "name": "stdout",
     "output_type": "stream",
     "text": [
      "New best\n"
     ]
    },
    {
     "name": "stdout",
     "output_type": "stream",
     "text": [
      "epoch: 2, [batch: 1 / 45], examples_per_second: 497.8018, train_label_loss: 1.3378, \n"
     ]
    },
    {
     "name": "stdout",
     "output_type": "stream",
     "text": [
      "epoch: 2, [batch: 5 / 45], examples_per_second: 4007.7951, train_label_loss: 1.1692, \n"
     ]
    },
    {
     "name": "stdout",
     "output_type": "stream",
     "text": [
      "epoch: 2, [batch: 9 / 45], examples_per_second: 4111.7232, train_label_loss: 1.0869, \n"
     ]
    },
    {
     "name": "stdout",
     "output_type": "stream",
     "text": [
      "epoch: 2, [batch: 14 / 45], examples_per_second: 4112.7625, train_label_loss: 1.1340, \n"
     ]
    },
    {
     "name": "stdout",
     "output_type": "stream",
     "text": [
      "epoch: 2, [batch: 18 / 45], examples_per_second: 4102.9456, train_label_loss: 0.9158, \n"
     ]
    },
    {
     "name": "stdout",
     "output_type": "stream",
     "text": [
      "epoch: 2, [batch: 23 / 45], examples_per_second: 4031.5533, train_label_loss: 1.0025, \n"
     ]
    },
    {
     "name": "stdout",
     "output_type": "stream",
     "text": [
      "epoch: 2, [batch: 27 / 45], examples_per_second: 4110.6739, train_label_loss: 1.0239, \n"
     ]
    },
    {
     "name": "stdout",
     "output_type": "stream",
     "text": [
      "epoch: 2, [batch: 31 / 45], examples_per_second: 4094.6666, train_label_loss: 0.8872, \n"
     ]
    },
    {
     "name": "stdout",
     "output_type": "stream",
     "text": [
      "epoch: 2, [batch: 36 / 45], examples_per_second: 4142.3790, train_label_loss: 1.0500, \n"
     ]
    },
    {
     "name": "stdout",
     "output_type": "stream",
     "text": [
      "epoch: 2, [batch: 40 / 45], examples_per_second: 4209.5133, train_label_loss: 0.9202, \n"
     ]
    },
    {
     "name": "stdout",
     "output_type": "stream",
     "text": [
      "=============================================================\n",
      "epoch: 2, source_val_acc_label: 0.8224, target_val_acc_label: 0.7799, source_val_label_loss: 0.9593, target_val_label_loss: 1.2124, \n",
      "=============================================================\n"
     ]
    },
    {
     "name": "stdout",
     "output_type": "stream",
     "text": [
      "New best\n"
     ]
    },
    {
     "name": "stdout",
     "output_type": "stream",
     "text": [
      "epoch: 3, [batch: 1 / 45], examples_per_second: 493.9223, train_label_loss: 0.9472, \n"
     ]
    },
    {
     "name": "stdout",
     "output_type": "stream",
     "text": [
      "epoch: 3, [batch: 5 / 45], examples_per_second: 4014.1785, train_label_loss: 0.9425, \n"
     ]
    },
    {
     "name": "stdout",
     "output_type": "stream",
     "text": [
      "epoch: 3, [batch: 9 / 45], examples_per_second: 4115.2159, train_label_loss: 0.8079, \n"
     ]
    },
    {
     "name": "stdout",
     "output_type": "stream",
     "text": [
      "epoch: 3, [batch: 14 / 45], examples_per_second: 4119.2998, train_label_loss: 0.9358, \n"
     ]
    },
    {
     "name": "stdout",
     "output_type": "stream",
     "text": [
      "epoch: 3, [batch: 18 / 45], examples_per_second: 4108.9113, train_label_loss: 0.8233, \n"
     ]
    },
    {
     "name": "stdout",
     "output_type": "stream",
     "text": [
      "epoch: 3, [batch: 23 / 45], examples_per_second: 4036.7515, train_label_loss: 1.0008, \n"
     ]
    },
    {
     "name": "stdout",
     "output_type": "stream",
     "text": [
      "epoch: 3, [batch: 27 / 45], examples_per_second: 4111.0815, train_label_loss: 0.6990, \n"
     ]
    },
    {
     "name": "stdout",
     "output_type": "stream",
     "text": [
      "epoch: 3, [batch: 31 / 45], examples_per_second: 4125.2146, train_label_loss: 0.7049, \n"
     ]
    },
    {
     "name": "stdout",
     "output_type": "stream",
     "text": [
      "epoch: 3, [batch: 36 / 45], examples_per_second: 4145.3632, train_label_loss: 0.5313, \n"
     ]
    },
    {
     "name": "stdout",
     "output_type": "stream",
     "text": [
      "epoch: 3, [batch: 40 / 45], examples_per_second: 4201.3396, train_label_loss: 0.6237, \n"
     ]
    },
    {
     "name": "stdout",
     "output_type": "stream",
     "text": [
      "=============================================================\n",
      "epoch: 3, source_val_acc_label: 0.8667, target_val_acc_label: 0.7989, source_val_label_loss: 0.7178, target_val_label_loss: 1.0697, \n",
      "=============================================================\n"
     ]
    },
    {
     "name": "stdout",
     "output_type": "stream",
     "text": [
      "New best\n"
     ]
    },
    {
     "name": "stdout",
     "output_type": "stream",
     "text": [
      "epoch: 4, [batch: 1 / 45], examples_per_second: 493.0155, train_label_loss: 0.8126, \n"
     ]
    },
    {
     "name": "stdout",
     "output_type": "stream",
     "text": [
      "epoch: 4, [batch: 5 / 45], examples_per_second: 4008.4226, train_label_loss: 0.8043, \n"
     ]
    },
    {
     "name": "stdout",
     "output_type": "stream",
     "text": [
      "epoch: 4, [batch: 9 / 45], examples_per_second: 4116.0003, train_label_loss: 0.6440, \n"
     ]
    },
    {
     "name": "stdout",
     "output_type": "stream",
     "text": [
      "epoch: 4, [batch: 14 / 45], examples_per_second: 4114.3762, train_label_loss: 0.7432, \n"
     ]
    },
    {
     "name": "stdout",
     "output_type": "stream",
     "text": [
      "epoch: 4, [batch: 18 / 45], examples_per_second: 4111.2737, train_label_loss: 0.7142, \n"
     ]
    },
    {
     "name": "stdout",
     "output_type": "stream",
     "text": [
      "epoch: 4, [batch: 23 / 45], examples_per_second: 4040.6822, train_label_loss: 0.5168, \n"
     ]
    },
    {
     "name": "stdout",
     "output_type": "stream",
     "text": [
      "epoch: 4, [batch: 27 / 45], examples_per_second: 4099.9885, train_label_loss: 0.5671, \n"
     ]
    },
    {
     "name": "stdout",
     "output_type": "stream",
     "text": [
      "epoch: 4, [batch: 31 / 45], examples_per_second: 4111.2349, train_label_loss: 0.6522, \n"
     ]
    },
    {
     "name": "stdout",
     "output_type": "stream",
     "text": [
      "epoch: 4, [batch: 36 / 45], examples_per_second: 4152.9281, train_label_loss: 0.5027, \n"
     ]
    },
    {
     "name": "stdout",
     "output_type": "stream",
     "text": [
      "epoch: 4, [batch: 40 / 45], examples_per_second: 4204.9020, train_label_loss: 0.6835, \n"
     ]
    },
    {
     "name": "stdout",
     "output_type": "stream",
     "text": [
      "=============================================================\n",
      "epoch: 4, source_val_acc_label: 0.9019, target_val_acc_label: 0.8162, source_val_label_loss: 0.5540, target_val_label_loss: 0.9561, \n",
      "=============================================================\n"
     ]
    },
    {
     "name": "stdout",
     "output_type": "stream",
     "text": [
      "New best\n"
     ]
    },
    {
     "name": "stdout",
     "output_type": "stream",
     "text": [
      "epoch: 5, [batch: 1 / 45], examples_per_second: 494.9212, train_label_loss: 0.4487, \n"
     ]
    },
    {
     "name": "stdout",
     "output_type": "stream",
     "text": [
      "epoch: 5, [batch: 5 / 45], examples_per_second: 4020.9337, train_label_loss: 0.3333, \n"
     ]
    },
    {
     "name": "stdout",
     "output_type": "stream",
     "text": [
      "epoch: 5, [batch: 9 / 45], examples_per_second: 4133.4438, train_label_loss: 0.4667, \n"
     ]
    },
    {
     "name": "stdout",
     "output_type": "stream",
     "text": [
      "epoch: 5, [batch: 14 / 45], examples_per_second: 4124.4947, train_label_loss: 0.3353, \n"
     ]
    },
    {
     "name": "stdout",
     "output_type": "stream",
     "text": [
      "epoch: 5, [batch: 18 / 45], examples_per_second: 4122.0305, train_label_loss: 0.4611, \n"
     ]
    },
    {
     "name": "stdout",
     "output_type": "stream",
     "text": [
      "epoch: 5, [batch: 23 / 45], examples_per_second: 4049.5855, train_label_loss: 0.3361, \n"
     ]
    },
    {
     "name": "stdout",
     "output_type": "stream",
     "text": [
      "epoch: 5, [batch: 27 / 45], examples_per_second: 4118.5854, train_label_loss: 0.3783, \n"
     ]
    },
    {
     "name": "stdout",
     "output_type": "stream",
     "text": [
      "epoch: 5, [batch: 31 / 45], examples_per_second: 4119.5002, train_label_loss: 0.3561, \n"
     ]
    },
    {
     "name": "stdout",
     "output_type": "stream",
     "text": [
      "epoch: 5, [batch: 36 / 45], examples_per_second: 4149.7497, train_label_loss: 0.3510, \n"
     ]
    },
    {
     "name": "stdout",
     "output_type": "stream",
     "text": [
      "epoch: 5, [batch: 40 / 45], examples_per_second: 4202.5960, train_label_loss: 0.3772, \n"
     ]
    },
    {
     "name": "stdout",
     "output_type": "stream",
     "text": [
      "=============================================================\n",
      "epoch: 5, source_val_acc_label: 0.9224, target_val_acc_label: 0.8335, source_val_label_loss: 0.4583, target_val_label_loss: 0.8678, \n",
      "=============================================================\n"
     ]
    },
    {
     "name": "stdout",
     "output_type": "stream",
     "text": [
      "New best\n"
     ]
    },
    {
     "name": "stdout",
     "output_type": "stream",
     "text": [
      "epoch: 6, [batch: 1 / 45], examples_per_second: 494.9610, train_label_loss: 0.2362, \n"
     ]
    },
    {
     "name": "stdout",
     "output_type": "stream",
     "text": [
      "epoch: 6, [batch: 5 / 45], examples_per_second: 4016.8770, train_label_loss: 0.2588, \n"
     ]
    },
    {
     "name": "stdout",
     "output_type": "stream",
     "text": [
      "epoch: 6, [batch: 9 / 45], examples_per_second: 4108.1978, train_label_loss: 0.4003, \n"
     ]
    },
    {
     "name": "stdout",
     "output_type": "stream",
     "text": [
      "epoch: 6, [batch: 14 / 45], examples_per_second: 4105.1008, train_label_loss: 0.4026, \n"
     ]
    },
    {
     "name": "stdout",
     "output_type": "stream",
     "text": [
      "epoch: 6, [batch: 18 / 45], examples_per_second: 4111.5418, train_label_loss: 0.3262, \n"
     ]
    },
    {
     "name": "stdout",
     "output_type": "stream",
     "text": [
      "epoch: 6, [batch: 23 / 45], examples_per_second: 4041.1434, train_label_loss: 0.3450, \n"
     ]
    },
    {
     "name": "stdout",
     "output_type": "stream",
     "text": [
      "epoch: 6, [batch: 27 / 45], examples_per_second: 4107.6670, train_label_loss: 0.3340, \n"
     ]
    },
    {
     "name": "stdout",
     "output_type": "stream",
     "text": [
      "epoch: 6, [batch: 31 / 45], examples_per_second: 4108.5336, train_label_loss: 0.2971, \n"
     ]
    },
    {
     "name": "stdout",
     "output_type": "stream",
     "text": [
      "epoch: 6, [batch: 36 / 45], examples_per_second: 4140.8866, train_label_loss: 0.3210, \n"
     ]
    },
    {
     "name": "stdout",
     "output_type": "stream",
     "text": [
      "epoch: 6, [batch: 40 / 45], examples_per_second: 4201.9127, train_label_loss: 0.3467, \n"
     ]
    },
    {
     "name": "stdout",
     "output_type": "stream",
     "text": [
      "=============================================================\n",
      "epoch: 6, source_val_acc_label: 0.9353, target_val_acc_label: 0.8466, source_val_label_loss: 0.3999, target_val_label_loss: 0.8428, \n",
      "=============================================================\n"
     ]
    },
    {
     "name": "stdout",
     "output_type": "stream",
     "text": [
      "New best\n"
     ]
    },
    {
     "name": "stdout",
     "output_type": "stream",
     "text": [
      "epoch: 7, [batch: 1 / 45], examples_per_second: 488.5887, train_label_loss: 0.4925, \n"
     ]
    },
    {
     "name": "stdout",
     "output_type": "stream",
     "text": [
      "epoch: 7, [batch: 5 / 45], examples_per_second: 4003.2695, train_label_loss: 0.2238, \n"
     ]
    },
    {
     "name": "stdout",
     "output_type": "stream",
     "text": [
      "epoch: 7, [batch: 9 / 45], examples_per_second: 4109.8079, train_label_loss: 0.2242, \n"
     ]
    },
    {
     "name": "stdout",
     "output_type": "stream",
     "text": [
      "epoch: 7, [batch: 14 / 45], examples_per_second: 4098.0897, train_label_loss: 0.2730, \n"
     ]
    },
    {
     "name": "stdout",
     "output_type": "stream",
     "text": [
      "epoch: 7, [batch: 18 / 45], examples_per_second: 4099.2718, train_label_loss: 0.2954, \n"
     ]
    },
    {
     "name": "stdout",
     "output_type": "stream",
     "text": [
      "epoch: 7, [batch: 23 / 45], examples_per_second: 4022.7172, train_label_loss: 0.2039, \n"
     ]
    },
    {
     "name": "stdout",
     "output_type": "stream",
     "text": [
      "epoch: 7, [batch: 27 / 45], examples_per_second: 4090.3493, train_label_loss: 0.2533, \n"
     ]
    },
    {
     "name": "stdout",
     "output_type": "stream",
     "text": [
      "epoch: 7, [batch: 31 / 45], examples_per_second: 4095.9877, train_label_loss: 0.2568, \n"
     ]
    },
    {
     "name": "stdout",
     "output_type": "stream",
     "text": [
      "epoch: 7, [batch: 36 / 45], examples_per_second: 4136.8062, train_label_loss: 0.2713, \n"
     ]
    },
    {
     "name": "stdout",
     "output_type": "stream",
     "text": [
      "epoch: 7, [batch: 40 / 45], examples_per_second: 4190.6903, train_label_loss: 0.2182, \n"
     ]
    },
    {
     "name": "stdout",
     "output_type": "stream",
     "text": [
      "=============================================================\n",
      "epoch: 7, source_val_acc_label: 0.9423, target_val_acc_label: 0.8543, source_val_label_loss: 0.3730, target_val_label_loss: 0.8089, \n",
      "=============================================================\n"
     ]
    },
    {
     "name": "stdout",
     "output_type": "stream",
     "text": [
      "New best\n"
     ]
    },
    {
     "name": "stdout",
     "output_type": "stream",
     "text": [
      "epoch: 8, [batch: 1 / 45], examples_per_second: 491.4940, train_label_loss: 0.2576, \n"
     ]
    },
    {
     "name": "stdout",
     "output_type": "stream",
     "text": [
      "epoch: 8, [batch: 5 / 45], examples_per_second: 4010.9629, train_label_loss: 0.1700, \n"
     ]
    },
    {
     "name": "stdout",
     "output_type": "stream",
     "text": [
      "epoch: 8, [batch: 9 / 45], examples_per_second: 4095.6831, train_label_loss: 0.0927, \n"
     ]
    },
    {
     "name": "stdout",
     "output_type": "stream",
     "text": [
      "epoch: 8, [batch: 14 / 45], examples_per_second: 4111.1227, train_label_loss: 0.2260, \n"
     ]
    },
    {
     "name": "stdout",
     "output_type": "stream",
     "text": [
      "epoch: 8, [batch: 18 / 45], examples_per_second: 4115.1413, train_label_loss: 0.1152, \n"
     ]
    },
    {
     "name": "stdout",
     "output_type": "stream",
     "text": [
      "epoch: 8, [batch: 23 / 45], examples_per_second: 4040.2391, train_label_loss: 0.1847, \n"
     ]
    },
    {
     "name": "stdout",
     "output_type": "stream",
     "text": [
      "epoch: 8, [batch: 27 / 45], examples_per_second: 4107.0343, train_label_loss: 0.1914, \n"
     ]
    },
    {
     "name": "stdout",
     "output_type": "stream",
     "text": [
      "epoch: 8, [batch: 31 / 45], examples_per_second: 4107.4009, train_label_loss: 0.1587, \n"
     ]
    },
    {
     "name": "stdout",
     "output_type": "stream",
     "text": [
      "epoch: 8, [batch: 36 / 45], examples_per_second: 4144.4432, train_label_loss: 0.2587, \n"
     ]
    },
    {
     "name": "stdout",
     "output_type": "stream",
     "text": [
      "epoch: 8, [batch: 40 / 45], examples_per_second: 4192.2627, train_label_loss: 0.1417, \n"
     ]
    },
    {
     "name": "stdout",
     "output_type": "stream",
     "text": [
      "=============================================================\n",
      "epoch: 8, source_val_acc_label: 0.9442, target_val_acc_label: 0.8579, source_val_label_loss: 0.3504, target_val_label_loss: 0.7709, \n",
      "=============================================================\n"
     ]
    },
    {
     "name": "stdout",
     "output_type": "stream",
     "text": [
      "New best\n"
     ]
    },
    {
     "name": "stdout",
     "output_type": "stream",
     "text": [
      "epoch: 9, [batch: 1 / 45], examples_per_second: 492.2723, train_label_loss: 0.0909, \n"
     ]
    },
    {
     "name": "stdout",
     "output_type": "stream",
     "text": [
      "epoch: 9, [batch: 5 / 45], examples_per_second: 3998.6676, train_label_loss: 0.2024, \n"
     ]
    },
    {
     "name": "stdout",
     "output_type": "stream",
     "text": [
      "epoch: 9, [batch: 9 / 45], examples_per_second: 4093.5630, train_label_loss: 0.1018, \n"
     ]
    },
    {
     "name": "stdout",
     "output_type": "stream",
     "text": [
      "epoch: 9, [batch: 14 / 45], examples_per_second: 4108.0452, train_label_loss: 0.0788, \n"
     ]
    },
    {
     "name": "stdout",
     "output_type": "stream",
     "text": [
      "epoch: 9, [batch: 18 / 45], examples_per_second: 4098.1134, train_label_loss: 0.1041, \n"
     ]
    },
    {
     "name": "stdout",
     "output_type": "stream",
     "text": [
      "epoch: 9, [batch: 23 / 45], examples_per_second: 4029.4761, train_label_loss: 0.1654, \n"
     ]
    },
    {
     "name": "stdout",
     "output_type": "stream",
     "text": [
      "epoch: 9, [batch: 27 / 45], examples_per_second: 4099.4121, train_label_loss: 0.3464, \n"
     ]
    },
    {
     "name": "stdout",
     "output_type": "stream",
     "text": [
      "epoch: 9, [batch: 31 / 45], examples_per_second: 4097.8531, train_label_loss: 0.1653, \n"
     ]
    },
    {
     "name": "stdout",
     "output_type": "stream",
     "text": [
      "epoch: 9, [batch: 36 / 45], examples_per_second: 4132.4883, train_label_loss: 0.1960, \n"
     ]
    },
    {
     "name": "stdout",
     "output_type": "stream",
     "text": [
      "epoch: 9, [batch: 40 / 45], examples_per_second: 4196.8447, train_label_loss: 0.1403, \n"
     ]
    },
    {
     "name": "stdout",
     "output_type": "stream",
     "text": [
      "=============================================================\n",
      "epoch: 9, source_val_acc_label: 0.9500, target_val_acc_label: 0.8590, source_val_label_loss: 0.3554, target_val_label_loss: 0.7540, \n",
      "=============================================================\n"
     ]
    },
    {
     "name": "stdout",
     "output_type": "stream",
     "text": [
      "New best\n"
     ]
    },
    {
     "name": "stdout",
     "output_type": "stream",
     "text": [
      "epoch: 10, [batch: 1 / 45], examples_per_second: 491.1179, train_label_loss: 0.2511, \n"
     ]
    },
    {
     "name": "stdout",
     "output_type": "stream",
     "text": [
      "epoch: 10, [batch: 5 / 45], examples_per_second: 4003.2093, train_label_loss: 0.1739, \n"
     ]
    },
    {
     "name": "stdout",
     "output_type": "stream",
     "text": [
      "epoch: 10, [batch: 9 / 45], examples_per_second: 4096.0785, train_label_loss: 0.2106, \n"
     ]
    },
    {
     "name": "stdout",
     "output_type": "stream",
     "text": [
      "epoch: 10, [batch: 14 / 45], examples_per_second: 4102.2187, train_label_loss: 0.1404, \n"
     ]
    },
    {
     "name": "stdout",
     "output_type": "stream",
     "text": [
      "epoch: 10, [batch: 18 / 45], examples_per_second: 4097.6653, train_label_loss: 0.1684, \n"
     ]
    },
    {
     "name": "stdout",
     "output_type": "stream",
     "text": [
      "epoch: 10, [batch: 23 / 45], examples_per_second: 4019.7658, train_label_loss: 0.2893, \n"
     ]
    },
    {
     "name": "stdout",
     "output_type": "stream",
     "text": [
      "epoch: 10, [batch: 27 / 45], examples_per_second: 4101.9764, train_label_loss: 0.1229, \n"
     ]
    },
    {
     "name": "stdout",
     "output_type": "stream",
     "text": [
      "epoch: 10, [batch: 31 / 45], examples_per_second: 4098.0379, train_label_loss: 0.2860, \n"
     ]
    },
    {
     "name": "stdout",
     "output_type": "stream",
     "text": [
      "epoch: 10, [batch: 36 / 45], examples_per_second: 4132.9908, train_label_loss: 0.0816, \n"
     ]
    },
    {
     "name": "stdout",
     "output_type": "stream",
     "text": [
      "epoch: 10, [batch: 40 / 45], examples_per_second: 4195.7483, train_label_loss: 0.2359, \n"
     ]
    },
    {
     "name": "stdout",
     "output_type": "stream",
     "text": [
      "=============================================================\n",
      "epoch: 10, source_val_acc_label: 0.9474, target_val_acc_label: 0.8641, source_val_label_loss: 0.3479, target_val_label_loss: 0.7357, \n",
      "=============================================================\n"
     ]
    },
    {
     "name": "stdout",
     "output_type": "stream",
     "text": [
      "New best\n"
     ]
    },
    {
     "name": "stdout",
     "output_type": "stream",
     "text": [
      "epoch: 11, [batch: 1 / 45], examples_per_second: 491.0874, train_label_loss: 0.2002, \n"
     ]
    },
    {
     "name": "stdout",
     "output_type": "stream",
     "text": [
      "epoch: 11, [batch: 5 / 45], examples_per_second: 3999.2586, train_label_loss: 0.1097, \n"
     ]
    },
    {
     "name": "stdout",
     "output_type": "stream",
     "text": [
      "epoch: 11, [batch: 9 / 45], examples_per_second: 4102.9425, train_label_loss: 0.2176, \n"
     ]
    },
    {
     "name": "stdout",
     "output_type": "stream",
     "text": [
      "epoch: 11, [batch: 14 / 45], examples_per_second: 4109.8386, train_label_loss: 0.1484, \n"
     ]
    },
    {
     "name": "stdout",
     "output_type": "stream",
     "text": [
      "epoch: 11, [batch: 18 / 45], examples_per_second: 4113.9677, train_label_loss: 0.3125, \n"
     ]
    },
    {
     "name": "stdout",
     "output_type": "stream",
     "text": [
      "epoch: 11, [batch: 23 / 45], examples_per_second: 4033.0598, train_label_loss: 0.1242, \n"
     ]
    },
    {
     "name": "stdout",
     "output_type": "stream",
     "text": [
      "epoch: 11, [batch: 27 / 45], examples_per_second: 4110.7932, train_label_loss: 0.1251, \n"
     ]
    },
    {
     "name": "stdout",
     "output_type": "stream",
     "text": [
      "epoch: 11, [batch: 31 / 45], examples_per_second: 4108.9748, train_label_loss: 0.1212, \n"
     ]
    },
    {
     "name": "stdout",
     "output_type": "stream",
     "text": [
      "epoch: 11, [batch: 36 / 45], examples_per_second: 4152.1729, train_label_loss: 0.0785, \n"
     ]
    },
    {
     "name": "stdout",
     "output_type": "stream",
     "text": [
      "epoch: 11, [batch: 40 / 45], examples_per_second: 4200.3185, train_label_loss: 0.2675, \n"
     ]
    },
    {
     "name": "stdout",
     "output_type": "stream",
     "text": [
      "=============================================================\n",
      "epoch: 11, source_val_acc_label: 0.9519, target_val_acc_label: 0.8665, source_val_label_loss: 0.3368, target_val_label_loss: 0.7268, \n",
      "=============================================================\n"
     ]
    },
    {
     "name": "stdout",
     "output_type": "stream",
     "text": [
      "New best\n"
     ]
    },
    {
     "name": "stdout",
     "output_type": "stream",
     "text": [
      "epoch: 12, [batch: 1 / 45], examples_per_second: 493.1113, train_label_loss: 0.1470, \n"
     ]
    },
    {
     "name": "stdout",
     "output_type": "stream",
     "text": [
      "epoch: 12, [batch: 5 / 45], examples_per_second: 4002.9653, train_label_loss: 0.1308, \n"
     ]
    },
    {
     "name": "stdout",
     "output_type": "stream",
     "text": [
      "epoch: 12, [batch: 9 / 45], examples_per_second: 4103.3717, train_label_loss: 0.3286, \n"
     ]
    },
    {
     "name": "stdout",
     "output_type": "stream",
     "text": [
      "epoch: 12, [batch: 14 / 45], examples_per_second: 4100.9413, train_label_loss: 0.2297, \n"
     ]
    },
    {
     "name": "stdout",
     "output_type": "stream",
     "text": [
      "epoch: 12, [batch: 18 / 45], examples_per_second: 4096.4601, train_label_loss: 0.1032, \n"
     ]
    },
    {
     "name": "stdout",
     "output_type": "stream",
     "text": [
      "epoch: 12, [batch: 23 / 45], examples_per_second: 4018.3260, train_label_loss: 0.2450, \n"
     ]
    },
    {
     "name": "stdout",
     "output_type": "stream",
     "text": [
      "epoch: 12, [batch: 27 / 45], examples_per_second: 4101.9918, train_label_loss: 0.1508, \n"
     ]
    },
    {
     "name": "stdout",
     "output_type": "stream",
     "text": [
      "epoch: 12, [batch: 31 / 45], examples_per_second: 4100.6221, train_label_loss: 0.0819, \n"
     ]
    },
    {
     "name": "stdout",
     "output_type": "stream",
     "text": [
      "epoch: 12, [batch: 36 / 45], examples_per_second: 4141.8680, train_label_loss: 0.2180, \n"
     ]
    },
    {
     "name": "stdout",
     "output_type": "stream",
     "text": [
      "epoch: 12, [batch: 40 / 45], examples_per_second: 4187.9898, train_label_loss: 0.1724, \n"
     ]
    },
    {
     "name": "stdout",
     "output_type": "stream",
     "text": [
      "=============================================================\n",
      "epoch: 12, source_val_acc_label: 0.9519, target_val_acc_label: 0.8692, source_val_label_loss: 0.3194, target_val_label_loss: 0.7153, \n",
      "=============================================================\n"
     ]
    },
    {
     "name": "stdout",
     "output_type": "stream",
     "text": [
      "New best\n"
     ]
    },
    {
     "name": "stdout",
     "output_type": "stream",
     "text": [
      "epoch: 13, [batch: 1 / 45], examples_per_second: 490.4797, train_label_loss: 0.0897, \n"
     ]
    },
    {
     "name": "stdout",
     "output_type": "stream",
     "text": [
      "epoch: 13, [batch: 5 / 45], examples_per_second: 4002.9859, train_label_loss: 0.1211, \n"
     ]
    },
    {
     "name": "stdout",
     "output_type": "stream",
     "text": [
      "epoch: 13, [batch: 9 / 45], examples_per_second: 4109.6902, train_label_loss: 0.1246, \n"
     ]
    },
    {
     "name": "stdout",
     "output_type": "stream",
     "text": [
      "epoch: 13, [batch: 14 / 45], examples_per_second: 4105.5570, train_label_loss: 0.1807, \n"
     ]
    },
    {
     "name": "stdout",
     "output_type": "stream",
     "text": [
      "epoch: 13, [batch: 18 / 45], examples_per_second: 4108.0368, train_label_loss: 0.1063, \n"
     ]
    },
    {
     "name": "stdout",
     "output_type": "stream",
     "text": [
      "epoch: 13, [batch: 23 / 45], examples_per_second: 4032.2402, train_label_loss: 0.1379, \n"
     ]
    },
    {
     "name": "stdout",
     "output_type": "stream",
     "text": [
      "epoch: 13, [batch: 27 / 45], examples_per_second: 4101.1511, train_label_loss: 0.2752, \n"
     ]
    },
    {
     "name": "stdout",
     "output_type": "stream",
     "text": [
      "epoch: 13, [batch: 31 / 45], examples_per_second: 4105.1713, train_label_loss: 0.0921, \n"
     ]
    },
    {
     "name": "stdout",
     "output_type": "stream",
     "text": [
      "epoch: 13, [batch: 36 / 45], examples_per_second: 4132.1063, train_label_loss: 0.0840, \n"
     ]
    },
    {
     "name": "stdout",
     "output_type": "stream",
     "text": [
      "epoch: 13, [batch: 40 / 45], examples_per_second: 4188.6397, train_label_loss: 0.2053, \n"
     ]
    },
    {
     "name": "stdout",
     "output_type": "stream",
     "text": [
      "=============================================================\n",
      "epoch: 13, source_val_acc_label: 0.9481, target_val_acc_label: 0.8756, source_val_label_loss: 0.3272, target_val_label_loss: 0.7210, \n",
      "=============================================================\n"
     ]
    },
    {
     "name": "stdout",
     "output_type": "stream",
     "text": [
      "New best\n"
     ]
    },
    {
     "name": "stdout",
     "output_type": "stream",
     "text": [
      "epoch: 14, [batch: 1 / 45], examples_per_second: 491.5439, train_label_loss: 0.0879, \n"
     ]
    },
    {
     "name": "stdout",
     "output_type": "stream",
     "text": [
      "epoch: 14, [batch: 5 / 45], examples_per_second: 3995.1489, train_label_loss: 0.0944, \n"
     ]
    },
    {
     "name": "stdout",
     "output_type": "stream",
     "text": [
      "epoch: 14, [batch: 9 / 45], examples_per_second: 4093.3540, train_label_loss: 0.1396, \n"
     ]
    },
    {
     "name": "stdout",
     "output_type": "stream",
     "text": [
      "epoch: 14, [batch: 14 / 45], examples_per_second: 4096.7669, train_label_loss: 0.0881, \n"
     ]
    },
    {
     "name": "stdout",
     "output_type": "stream",
     "text": [
      "epoch: 14, [batch: 18 / 45], examples_per_second: 4093.5707, train_label_loss: 0.0560, \n"
     ]
    },
    {
     "name": "stdout",
     "output_type": "stream",
     "text": [
      "epoch: 14, [batch: 23 / 45], examples_per_second: 4019.5797, train_label_loss: 0.1620, \n"
     ]
    },
    {
     "name": "stdout",
     "output_type": "stream",
     "text": [
      "epoch: 14, [batch: 27 / 45], examples_per_second: 4090.9539, train_label_loss: 0.1304, \n"
     ]
    },
    {
     "name": "stdout",
     "output_type": "stream",
     "text": [
      "epoch: 14, [batch: 31 / 45], examples_per_second: 4092.8470, train_label_loss: 0.1978, \n"
     ]
    },
    {
     "name": "stdout",
     "output_type": "stream",
     "text": [
      "epoch: 14, [batch: 36 / 45], examples_per_second: 4129.3062, train_label_loss: 0.0503, \n"
     ]
    },
    {
     "name": "stdout",
     "output_type": "stream",
     "text": [
      "epoch: 14, [batch: 40 / 45], examples_per_second: 4182.1388, train_label_loss: 0.1776, \n"
     ]
    },
    {
     "name": "stdout",
     "output_type": "stream",
     "text": [
      "=============================================================\n",
      "epoch: 14, source_val_acc_label: 0.9538, target_val_acc_label: 0.8650, source_val_label_loss: 0.3189, target_val_label_loss: 0.7340, \n",
      "=============================================================\n"
     ]
    },
    {
     "name": "stdout",
     "output_type": "stream",
     "text": [
      "epoch: 15, [batch: 1 / 45], examples_per_second: 506.8419, train_label_loss: 0.1108, \n"
     ]
    },
    {
     "name": "stdout",
     "output_type": "stream",
     "text": [
      "epoch: 15, [batch: 5 / 45], examples_per_second: 3989.3992, train_label_loss: 0.1485, \n"
     ]
    },
    {
     "name": "stdout",
     "output_type": "stream",
     "text": [
      "epoch: 15, [batch: 9 / 45], examples_per_second: 4096.1062, train_label_loss: 0.1203, \n"
     ]
    },
    {
     "name": "stdout",
     "output_type": "stream",
     "text": [
      "epoch: 15, [batch: 14 / 45], examples_per_second: 4083.1518, train_label_loss: 0.1793, \n"
     ]
    },
    {
     "name": "stdout",
     "output_type": "stream",
     "text": [
      "epoch: 15, [batch: 18 / 45], examples_per_second: 4093.0114, train_label_loss: 0.0817, \n"
     ]
    },
    {
     "name": "stdout",
     "output_type": "stream",
     "text": [
      "epoch: 15, [batch: 23 / 45], examples_per_second: 4017.8369, train_label_loss: 0.1154, \n"
     ]
    },
    {
     "name": "stdout",
     "output_type": "stream",
     "text": [
      "epoch: 15, [batch: 27 / 45], examples_per_second: 4095.1571, train_label_loss: 0.0396, \n"
     ]
    },
    {
     "name": "stdout",
     "output_type": "stream",
     "text": [
      "epoch: 15, [batch: 31 / 45], examples_per_second: 4082.4802, train_label_loss: 0.1061, \n"
     ]
    },
    {
     "name": "stdout",
     "output_type": "stream",
     "text": [
      "epoch: 15, [batch: 36 / 45], examples_per_second: 4131.0356, train_label_loss: 0.1122, \n"
     ]
    },
    {
     "name": "stdout",
     "output_type": "stream",
     "text": [
      "epoch: 15, [batch: 40 / 45], examples_per_second: 4188.7072, train_label_loss: 0.0839, \n"
     ]
    },
    {
     "name": "stdout",
     "output_type": "stream",
     "text": [
      "=============================================================\n",
      "epoch: 15, source_val_acc_label: 0.9526, target_val_acc_label: 0.8705, source_val_label_loss: 0.3132, target_val_label_loss: 0.7271, \n",
      "=============================================================\n"
     ]
    },
    {
     "name": "stdout",
     "output_type": "stream",
     "text": [
      "epoch: 16, [batch: 1 / 45], examples_per_second: 502.4679, train_label_loss: 0.1453, \n"
     ]
    },
    {
     "name": "stdout",
     "output_type": "stream",
     "text": [
      "epoch: 16, [batch: 5 / 45], examples_per_second: 4006.5126, train_label_loss: 0.1832, \n"
     ]
    },
    {
     "name": "stdout",
     "output_type": "stream",
     "text": [
      "epoch: 16, [batch: 9 / 45], examples_per_second: 4110.0713, train_label_loss: 0.1765, \n"
     ]
    },
    {
     "name": "stdout",
     "output_type": "stream",
     "text": [
      "epoch: 16, [batch: 14 / 45], examples_per_second: 4097.7534, train_label_loss: 0.1508, \n"
     ]
    },
    {
     "name": "stdout",
     "output_type": "stream",
     "text": [
      "epoch: 16, [batch: 18 / 45], examples_per_second: 4114.9503, train_label_loss: 0.1360, \n"
     ]
    },
    {
     "name": "stdout",
     "output_type": "stream",
     "text": [
      "epoch: 16, [batch: 23 / 45], examples_per_second: 4037.9161, train_label_loss: 0.1050, \n"
     ]
    },
    {
     "name": "stdout",
     "output_type": "stream",
     "text": [
      "epoch: 16, [batch: 27 / 45], examples_per_second: 4110.5639, train_label_loss: 0.1690, \n"
     ]
    },
    {
     "name": "stdout",
     "output_type": "stream",
     "text": [
      "epoch: 16, [batch: 31 / 45], examples_per_second: 4107.5478, train_label_loss: 0.1278, \n"
     ]
    },
    {
     "name": "stdout",
     "output_type": "stream",
     "text": [
      "epoch: 16, [batch: 36 / 45], examples_per_second: 4141.6062, train_label_loss: 0.0883, \n"
     ]
    },
    {
     "name": "stdout",
     "output_type": "stream",
     "text": [
      "epoch: 16, [batch: 40 / 45], examples_per_second: 4189.7935, train_label_loss: 0.0457, \n"
     ]
    },
    {
     "name": "stdout",
     "output_type": "stream",
     "text": [
      "=============================================================\n",
      "epoch: 16, source_val_acc_label: 0.9590, target_val_acc_label: 0.8754, source_val_label_loss: 0.3014, target_val_label_loss: 0.6996, \n",
      "=============================================================\n"
     ]
    },
    {
     "name": "stdout",
     "output_type": "stream",
     "text": [
      "epoch: 17, [batch: 1 / 45], examples_per_second: 511.5837, train_label_loss: 0.1589, \n"
     ]
    },
    {
     "name": "stdout",
     "output_type": "stream",
     "text": [
      "epoch: 17, [batch: 5 / 45], examples_per_second: 3994.0617, train_label_loss: 0.2020, \n"
     ]
    },
    {
     "name": "stdout",
     "output_type": "stream",
     "text": [
      "epoch: 17, [batch: 9 / 45], examples_per_second: 4095.5170, train_label_loss: 0.1943, \n"
     ]
    },
    {
     "name": "stdout",
     "output_type": "stream",
     "text": [
      "epoch: 17, [batch: 14 / 45], examples_per_second: 4090.7293, train_label_loss: 0.0764, \n"
     ]
    },
    {
     "name": "stdout",
     "output_type": "stream",
     "text": [
      "epoch: 17, [batch: 18 / 45], examples_per_second: 4092.2941, train_label_loss: 0.1811, \n"
     ]
    },
    {
     "name": "stdout",
     "output_type": "stream",
     "text": [
      "epoch: 17, [batch: 23 / 45], examples_per_second: 4016.0956, train_label_loss: 0.1119, \n"
     ]
    },
    {
     "name": "stdout",
     "output_type": "stream",
     "text": [
      "epoch: 17, [batch: 27 / 45], examples_per_second: 4094.0809, train_label_loss: 0.1006, \n"
     ]
    },
    {
     "name": "stdout",
     "output_type": "stream",
     "text": [
      "epoch: 17, [batch: 31 / 45], examples_per_second: 4094.7096, train_label_loss: 0.0806, \n"
     ]
    },
    {
     "name": "stdout",
     "output_type": "stream",
     "text": [
      "epoch: 17, [batch: 36 / 45], examples_per_second: 4115.2395, train_label_loss: 0.1342, \n"
     ]
    },
    {
     "name": "stdout",
     "output_type": "stream",
     "text": [
      "epoch: 17, [batch: 40 / 45], examples_per_second: 4189.2093, train_label_loss: 0.1782, \n"
     ]
    },
    {
     "name": "stdout",
     "output_type": "stream",
     "text": [
      "=============================================================\n",
      "epoch: 17, source_val_acc_label: 0.9538, target_val_acc_label: 0.8726, source_val_label_loss: 0.3182, target_val_label_loss: 0.7034, \n",
      "=============================================================\n"
     ]
    },
    {
     "name": "stdout",
     "output_type": "stream",
     "text": [
      "Patience (3) exhausted\n"
     ]
    }
   ],
   "source": [
    "###################################\n",
    "# train\n",
    "###################################\n",
    "jig = PTN_Train_Eval_Test_Jig(model, p.BEST_MODEL_PATH, p.device)\n",
    "\n",
    "jig.train(\n",
    "    train_iterable=datasets.source.processed.train,\n",
    "    source_val_iterable=datasets.source.processed.val,\n",
    "    target_val_iterable=datasets.target.processed.val,\n",
    "    num_epochs=p.n_epoch,\n",
    "    num_logs_per_epoch=p.NUM_LOGS_PER_EPOCH,\n",
    "    patience=p.patience,\n",
    "    optimizer=optimizer,\n",
    "    criteria_for_best=p.criteria_for_best,\n",
    ")"
   ]
  },
  {
   "cell_type": "code",
   "execution_count": 14,
   "id": "31e8fabf",
   "metadata": {
    "execution": {
     "iopub.execute_input": "2022-03-22T16:53:59.130239Z",
     "iopub.status.busy": "2022-03-22T16:53:59.129954Z",
     "iopub.status.idle": "2022-03-22T16:53:59.147990Z",
     "shell.execute_reply": "2022-03-22T16:53:59.148400Z"
    },
    "papermill": {
     "duration": 0.066203,
     "end_time": "2022-03-22T16:53:59.148531",
     "exception": false,
     "start_time": "2022-03-22T16:53:59.082328",
     "status": "completed"
    },
    "tags": []
   },
   "outputs": [],
   "source": [
    "total_experiment_time_secs = time.time() - start_time_secs"
   ]
  },
  {
   "cell_type": "code",
   "execution_count": 15,
   "id": "87b9595b",
   "metadata": {
    "execution": {
     "iopub.execute_input": "2022-03-22T16:53:59.253383Z",
     "iopub.status.busy": "2022-03-22T16:53:59.248809Z",
     "iopub.status.idle": "2022-03-22T16:54:06.641121Z",
     "shell.execute_reply": "2022-03-22T16:54:06.640681Z"
    },
    "papermill": {
     "duration": 7.441292,
     "end_time": "2022-03-22T16:54:06.641237",
     "exception": false,
     "start_time": "2022-03-22T16:53:59.199945",
     "status": "completed"
    },
    "tags": []
   },
   "outputs": [],
   "source": [
    "###################################\n",
    "# Evaluate the model\n",
    "###################################\n",
    "source_test_label_accuracy, source_test_label_loss = jig.test(datasets.source.processed.test)\n",
    "target_test_label_accuracy, target_test_label_loss = jig.test(datasets.target.processed.test)\n",
    "\n",
    "source_val_label_accuracy, source_val_label_loss = jig.test(datasets.source.processed.val)\n",
    "target_val_label_accuracy, target_val_label_loss = jig.test(datasets.target.processed.val)\n",
    "\n",
    "history = jig.get_history()\n",
    "\n",
    "total_epochs_trained = len(history[\"epoch_indices\"])\n",
    "\n",
    "val_dl = Iterable_Aggregator((datasets.source.original.val,datasets.target.original.val))\n",
    "\n",
    "confusion = ptn_confusion_by_domain_over_dataloader(model, p.device, val_dl)\n",
    "per_domain_accuracy = per_domain_accuracy_from_confusion(confusion)\n",
    "\n",
    "# Add a key to per_domain_accuracy for if it was a source domain\n",
    "for domain, accuracy in per_domain_accuracy.items():\n",
    "    per_domain_accuracy[domain] = {\n",
    "        \"accuracy\": accuracy,\n",
    "        \"source?\": domain in p.domains_source\n",
    "    }\n",
    "\n",
    "# Do an independent accuracy assesment JUST TO BE SURE!\n",
    "# _source_test_label_accuracy = independent_accuracy_assesment(model, datasets.source.processed.test, p.device)\n",
    "# _target_test_label_accuracy = independent_accuracy_assesment(model, datasets.target.processed.test, p.device)\n",
    "# _source_val_label_accuracy = independent_accuracy_assesment(model, datasets.source.processed.val, p.device)\n",
    "# _target_val_label_accuracy = independent_accuracy_assesment(model, datasets.target.processed.val, p.device)\n",
    "\n",
    "# assert(_source_test_label_accuracy == source_test_label_accuracy)\n",
    "# assert(_target_test_label_accuracy == target_test_label_accuracy)\n",
    "# assert(_source_val_label_accuracy == source_val_label_accuracy)\n",
    "# assert(_target_val_label_accuracy == target_val_label_accuracy)\n",
    "\n",
    "experiment = {\n",
    "    \"experiment_name\": p.experiment_name,\n",
    "    \"parameters\": dict(p),\n",
    "    \"results\": {\n",
    "        \"source_test_label_accuracy\": source_test_label_accuracy,\n",
    "        \"source_test_label_loss\": source_test_label_loss,\n",
    "        \"target_test_label_accuracy\": target_test_label_accuracy,\n",
    "        \"target_test_label_loss\": target_test_label_loss,\n",
    "        \"source_val_label_accuracy\": source_val_label_accuracy,\n",
    "        \"source_val_label_loss\": source_val_label_loss,\n",
    "        \"target_val_label_accuracy\": target_val_label_accuracy,\n",
    "        \"target_val_label_loss\": target_val_label_loss,\n",
    "        \"total_epochs_trained\": total_epochs_trained,\n",
    "        \"total_experiment_time_secs\": total_experiment_time_secs,\n",
    "        \"confusion\": confusion,\n",
    "        \"per_domain_accuracy\": per_domain_accuracy,\n",
    "    },\n",
    "    \"history\": history,\n",
    "    \"dataset_metrics\": get_dataset_metrics(datasets, \"ptn\"),\n",
    "}"
   ]
  },
  {
   "cell_type": "code",
   "execution_count": 16,
   "id": "54a21829",
   "metadata": {
    "execution": {
     "iopub.execute_input": "2022-03-22T16:54:06.738493Z",
     "iopub.status.busy": "2022-03-22T16:54:06.738235Z",
     "iopub.status.idle": "2022-03-22T16:54:06.861091Z",
     "shell.execute_reply": "2022-03-22T16:54:06.861507Z"
    },
    "papermill": {
     "duration": 0.170017,
     "end_time": "2022-03-22T16:54:06.861638",
     "exception": false,
     "start_time": "2022-03-22T16:54:06.691621",
     "status": "completed"
    },
    "tags": []
   },
   "outputs": [
    {
     "data": {
      "image/png": "[encoded data removed]",
      "text/plain": [
       "<Figure size 1080x504 with 1 Axes>"
      ]
     },
     "metadata": {
      "needs_background": "light"
     },
     "output_type": "display_data"
    }
   ],
   "source": [
    "ax = get_loss_curve(experiment)\n",
    "plt.show()"
   ]
  },
  {
   "cell_type": "code",
   "execution_count": 17,
   "id": "fd8a0f60",
   "metadata": {
    "execution": {
     "iopub.execute_input": "2022-03-22T16:54:06.958872Z",
     "iopub.status.busy": "2022-03-22T16:54:06.958615Z",
     "iopub.status.idle": "2022-03-22T16:54:07.103055Z",
     "shell.execute_reply": "2022-03-22T16:54:07.102807Z"
    },
    "papermill": {
     "duration": 0.19216,
     "end_time": "2022-03-22T16:54:07.103120",
     "exception": false,
     "start_time": "2022-03-22T16:54:06.910960",
     "status": "completed"
    },
    "tags": []
   },
   "outputs": [
    {
     "data": {
      "text/plain": [
       "<AxesSubplot:title={'center':'Results'}>"
      ]
     },
     "execution_count": 17,
     "metadata": {},
     "output_type": "execute_result"
    },
    {
     "data": {
      "image/png": "[encoded data removed]",
      "text/plain": [
       "<Figure size 1080x504 with 1 Axes>"
      ]
     },
     "metadata": {
      "needs_background": "light"
     },
     "output_type": "display_data"
    }
   ],
   "source": [
    "get_results_table(experiment)"
   ]
  },
  {
   "cell_type": "code",
   "execution_count": 18,
   "id": "cf8dc689",
   "metadata": {
    "execution": {
     "iopub.execute_input": "2022-03-22T16:54:07.202817Z",
     "iopub.status.busy": "2022-03-22T16:54:07.202419Z",
     "iopub.status.idle": "2022-03-22T16:54:07.305357Z",
     "shell.execute_reply": "2022-03-22T16:54:07.305113Z"
    },
    "papermill": {
     "duration": 0.152317,
     "end_time": "2022-03-22T16:54:07.305423",
     "exception": false,
     "start_time": "2022-03-22T16:54:07.153106",
     "status": "completed"
    },
    "tags": []
   },
   "outputs": [
    {
     "data": {
      "text/plain": [
       "<AxesSubplot:title={'center':'Per Domain Validation Accuracy'}, xlabel='domain'>"
      ]
     },
     "execution_count": 18,
     "metadata": {},
     "output_type": "execute_result"
    },
    {
     "data": {
      "image/png": "[encoded data removed]",
      "text/plain": [
       "<Figure size 1080x504 with 1 Axes>"
      ]
     },
     "metadata": {
      "needs_background": "light"
     },
     "output_type": "display_data"
    }
   ],
   "source": [
    "get_domain_accuracies(experiment)"
   ]
  },
  {
   "cell_type": "code",
   "execution_count": 19,
   "id": "a74ae082",
   "metadata": {
    "execution": {
     "iopub.execute_input": "2022-03-22T16:54:07.411597Z",
     "iopub.status.busy": "2022-03-22T16:54:07.411324Z",
     "iopub.status.idle": "2022-03-22T16:54:07.428689Z",
     "shell.execute_reply": "2022-03-22T16:54:07.428348Z"
    },
    "papermill": {
     "duration": 0.068334,
     "end_time": "2022-03-22T16:54:07.428775",
     "exception": false,
     "start_time": "2022-03-22T16:54:07.360441",
     "status": "completed"
    },
    "tags": []
   },
   "outputs": [
    {
     "name": "stdout",
     "output_type": "stream",
     "text": [
      "Source Test Label Accuracy: 0.9519230769230769 Target Test Label Accuracy: 0.8638888888888889\n",
      "Source Val Label Accuracy: 0.948076923076923 Target Val Label Accuracy: 0.8756410256410256\n"
     ]
    }
   ],
   "source": [
    "print(\"Source Test Label Accuracy:\", experiment[\"results\"][\"source_test_label_accuracy\"], \"Target Test Label Accuracy:\", experiment[\"results\"][\"target_test_label_accuracy\"])\n",
    "print(\"Source Val Label Accuracy:\", experiment[\"results\"][\"source_val_label_accuracy\"], \"Target Val Label Accuracy:\", experiment[\"results\"][\"target_val_label_accuracy\"])"
   ]
  },
  {
   "cell_type": "code",
   "execution_count": 20,
   "id": "dacca602",
   "metadata": {
    "execution": {
     "iopub.execute_input": "2022-03-22T16:54:07.532662Z",
     "iopub.status.busy": "2022-03-22T16:54:07.531842Z",
     "iopub.status.idle": "2022-03-22T16:54:07.550650Z",
     "shell.execute_reply": "2022-03-22T16:54:07.551070Z"
    },
    "papermill": {
     "duration": 0.069304,
     "end_time": "2022-03-22T16:54:07.551202",
     "exception": false,
     "start_time": "2022-03-22T16:54:07.481898",
     "status": "completed"
    },
    "tags": [
     "experiment_json"
    ]
   },
   "outputs": [
    {
     "data": {
      "text/plain": [
       "'{\"experiment_name\": \"tuned_1v2:wisig\", \"parameters\": {\"experiment_name\": \"tuned_1v2:wisig\", \"device\": \"cuda\", \"lr\": 0.0001, \"labels_source\": [\"1-10\", \"1-12\", \"1-14\", \"1-16\", \"1-18\", \"1-19\", \"1-8\", \"10-11\", \"10-17\", \"10-4\", \"10-7\", \"11-1\", \"11-10\", \"11-19\", \"11-20\", \"11-4\", \"11-7\", \"12-19\", \"12-20\", \"12-7\", \"13-14\", \"13-18\", \"13-19\", \"13-20\", \"13-3\", \"13-7\", \"14-10\", \"14-11\", \"14-12\", \"14-13\", \"14-14\", \"14-19\", \"14-20\", \"14-7\", \"14-8\", \"14-9\", \"15-1\", \"15-19\", \"15-6\", \"16-1\", \"16-16\", \"16-19\", \"16-20\", \"17-10\", \"17-11\", \"18-1\", \"18-10\", \"18-11\", \"18-12\", \"18-13\", \"18-14\", \"18-15\", \"18-16\", \"18-17\", \"18-19\", \"18-2\", \"18-20\", \"18-4\", \"18-5\", \"18-7\", \"18-8\", \"18-9\", \"19-1\", \"19-10\", \"19-11\", \"19-12\", \"19-13\", \"19-14\", \"19-15\", \"19-19\", \"19-2\", \"19-20\", \"19-3\", \"19-4\", \"19-6\", \"19-7\", \"19-8\", \"19-9\", \"2-1\", \"2-13\", \"2-15\", \"2-3\", \"2-4\", \"2-5\", \"2-6\", \"2-7\", \"2-8\", \"20-1\", \"20-12\", \"20-14\", \"20-15\", \"20-16\", \"20-18\", \"20-19\", \"20-20\", \"20-3\", \"20-4\", \"20-5\", \"20-7\", \"20-8\", \"3-1\", \"3-13\", \"3-18\", \"3-2\", \"3-8\", \"4-1\", \"4-10\", \"4-11\", \"5-1\", \"5-5\", \"6-1\", \"6-15\", \"6-6\", \"7-10\", \"7-11\", \"7-12\", \"7-13\", \"7-14\", \"7-7\", \"7-8\", \"7-9\", \"8-1\", \"8-13\", \"8-14\", \"8-18\", \"8-20\", \"8-3\", \"8-8\", \"9-1\", \"9-7\"], \"labels_target\": [\"1-10\", \"1-12\", \"1-14\", \"1-16\", \"1-18\", \"1-19\", \"1-8\", \"10-11\", \"10-17\", \"10-4\", \"10-7\", \"11-1\", \"11-10\", \"11-19\", \"11-20\", \"11-4\", \"11-7\", \"12-19\", \"12-20\", \"12-7\", \"13-14\", \"13-18\", \"13-19\", \"13-20\", \"13-3\", \"13-7\", \"14-10\", \"14-11\", \"14-12\", \"14-13\", \"14-14\", \"14-19\", \"14-20\", \"14-7\", \"14-8\", \"14-9\", \"15-1\", \"15-19\", \"15-6\", \"16-1\", \"16-16\", \"16-19\", \"16-20\", \"17-10\", \"17-11\", \"18-1\", \"18-10\", \"18-11\", \"18-12\", \"18-13\", \"18-14\", \"18-15\", \"18-16\", \"18-17\", \"18-19\", \"18-2\", \"18-20\", \"18-4\", \"18-5\", \"18-7\", \"18-8\", \"18-9\", \"19-1\", \"19-10\", \"19-11\", \"19-12\", \"19-13\", \"19-14\", \"19-15\", \"19-19\", \"19-2\", \"19-20\", \"19-3\", \"19-4\", \"19-6\", \"19-7\", \"19-8\", \"19-9\", \"2-1\", \"2-13\", \"2-15\", \"2-3\", \"2-4\", \"2-5\", \"2-6\", \"2-7\", \"2-8\", \"20-1\", \"20-12\", \"20-14\", \"20-15\", \"20-16\", \"20-18\", \"20-19\", \"20-20\", \"20-3\", \"20-4\", \"20-5\", \"20-7\", \"20-8\", \"3-1\", \"3-13\", \"3-18\", \"3-2\", \"3-8\", \"4-1\", \"4-10\", \"4-11\", \"5-1\", \"5-5\", \"6-1\", \"6-15\", \"6-6\", \"7-10\", \"7-11\", \"7-12\", \"7-13\", \"7-14\", \"7-7\", \"7-8\", \"7-9\", \"8-1\", \"8-13\", \"8-14\", \"8-18\", \"8-20\", \"8-3\", \"8-8\", \"9-1\", \"9-7\"], \"episode_transforms_source\": [], \"episode_transforms_target\": [], \"domains_source\": [3], \"domains_target\": [1, 2, 4], \"num_examples_per_domain_per_label_source\": -1, \"num_examples_per_domain_per_label_target\": -1, \"n_shot\": 3, \"n_way\": 130, \"n_query\": 2, \"train_k_factor\": 3, \"val_k_factor\": 2, \"test_k_factor\": 2, \"torch_default_dtype\": \"torch.float32\", \"n_epoch\": 50, \"patience\": 3, \"criteria_for_best\": \"target_accuracy\", \"x_net\": [{\"class\": \"nnReshape\", \"kargs\": {\"shape\": [-1, 1, 2, 256]}}, {\"class\": \"Conv2d\", \"kargs\": {\"in_channels\": 1, \"out_channels\": 256, \"kernel_size\": [1, 7], \"bias\": false, \"padding\": [0, 3]}}, {\"class\": \"ReLU\", \"kargs\": {\"inplace\": true}}, {\"class\": \"BatchNorm2d\", \"kargs\": {\"num_features\": 256}}, {\"class\": \"Conv2d\", \"kargs\": {\"in_channels\": 256, \"out_channels\": 80, \"kernel_size\": [2, 7], \"bias\": true, \"padding\": [0, 3]}}, {\"class\": \"ReLU\", \"kargs\": {\"inplace\": true}}, {\"class\": \"BatchNorm2d\", \"kargs\": {\"num_features\": 80}}, {\"class\": \"Flatten\", \"kargs\": {}}, {\"class\": \"Linear\", \"kargs\": {\"in_features\": 20480, \"out_features\": 256}}, {\"class\": \"ReLU\", \"kargs\": {\"inplace\": true}}, {\"class\": \"BatchNorm1d\", \"kargs\": {\"num_features\": 256}}, {\"class\": \"Linear\", \"kargs\": {\"in_features\": 256, \"out_features\": 256}}], \"NUM_LOGS_PER_EPOCH\": 10, \"BEST_MODEL_PATH\": \"./best_model.pth\", \"pickle_name\": \"wisig.node3-19.stratified_ds.2022A.pkl\", \"x_transforms_source\": [\"unit_mag\"], \"x_transforms_target\": [\"unit_mag\"], \"dataset_seed\": 154325, \"seed\": 154325}, \"results\": {\"source_test_label_accuracy\": 0.9519230769230769, \"source_test_label_loss\": 0.2932545840740204, \"target_test_label_accuracy\": 0.8638888888888889, \"target_test_label_loss\": 0.7606061100959778, \"source_val_label_accuracy\": 0.948076923076923, \"source_val_label_loss\": 0.32716232538223267, \"target_val_label_accuracy\": 0.8756410256410256, \"target_val_label_loss\": 0.7209547162055969, \"total_epochs_trained\": 17, \"total_experiment_time_secs\": 168.38361477851868, \"confusion\": {\"3\": {\"60\": {\"60\": 11, \"70\": 1}, \"87\": {\"87\": 11, \"33\": 1}, \"76\": {\"17\": 1, \"76\": 10, \"23\": 1}, \"84\": {\"84\": 12}, \"12\": {\"12\": 12}, \"56\": {\"56\": 12}, \"62\": {\"62\": 12}, \"46\": {\"46\": 12}, \"34\": {\"34\": 12}, \"120\": {\"120\": 12}, \"10\": {\"10\": 11, \"101\": 1}, \"69\": {\"69\": 12}, \"129\": {\"129\": 12}, \"114\": {\"114\": 12}, \"126\": {\"126\": 12}, \"67\": {\"67\": 10, \"65\": 1, \"13\": 1}, \"50\": {\"50\": 12}, \"115\": {\"115\": 12}, \"86\": {\"86\": 11, \"108\": 1}, \"20\": {\"20\": 12}, \"68\": {\"68\": 11, \"101\": 1}, \"90\": {\"90\": 12}, \"37\": {\"37\": 12}, \"31\": {\"31\": 12}, \"52\": {\"52\": 12}, \"95\": {\"95\": 12}, \"83\": {\"112\": 1, \"83\": 11}, \"2\": {\"2\": 12}, \"5\": {\"5\": 12}, \"122\": {\"128\": 1, \"122\": 10, \"17\": 1}, \"106\": {\"95\": 1, \"106\": 9, \"12\": 2}, \"19\": {\"19\": 12}, \"9\": {\"9\": 12}, \"116\": {\"116\": 11, \"96\": 1}, \"70\": {\"70\": 10, \"21\": 1, \"110\": 1}, \"54\": {\"54\": 11, \"61\": 1}, \"22\": {\"22\": 12}, \"111\": {\"111\": 12}, \"48\": {\"48\": 12}, \"41\": {\"41\": 10, \"22\": 2}, \"127\": {\"127\": 12}, \"124\": {\"124\": 11, \"29\": 1}, \"49\": {\"49\": 12}, \"53\": {\"53\": 12}, \"79\": {\"79\": 12}, \"119\": {\"119\": 12}, \"15\": {\"15\": 11, \"101\": 1}, \"28\": {\"28\": 11, \"13\": 1}, \"24\": {\"24\": 11, \"36\": 1}, \"16\": {\"16\": 11, \"110\": 1}, \"0\": {\"0\": 12}, \"33\": {\"33\": 12}, \"103\": {\"103\": 12}, \"35\": {\"35\": 11, \"21\": 1}, \"110\": {\"110\": 11, \"70\": 1}, \"17\": {\"17\": 8, \"70\": 1, \"56\": 1, \"78\": 1, \"7\": 1}, \"71\": {\"71\": 11, \"101\": 1}, \"72\": {\"72\": 12}, \"113\": {\"113\": 11, \"106\": 1}, \"6\": {\"6\": 12}, \"27\": {\"27\": 11, \"24\": 1}, \"93\": {\"93\": 12}, \"108\": {\"108\": 12}, \"64\": {\"64\": 12}, \"42\": {\"42\": 11, \"27\": 1}, \"128\": {\"128\": 12}, \"44\": {\"44\": 12}, \"26\": {\"26\": 12}, \"125\": {\"125\": 12}, \"89\": {\"89\": 12}, \"43\": {\"43\": 10, \"116\": 1, \"30\": 1}, \"61\": {\"61\": 12}, \"96\": {\"96\": 11, \"61\": 1}, \"73\": {\"73\": 12}, \"45\": {\"45\": 12}, \"109\": {\"109\": 11, \"13\": 1}, \"123\": {\"123\": 12}, \"98\": {\"98\": 12}, \"32\": {\"32\": 12}, \"14\": {\"14\": 12}, \"65\": {\"65\": 12}, \"117\": {\"117\": 12}, \"88\": {\"13\": 1, \"88\": 6, \"108\": 2, \"36\": 1, \"53\": 2}, \"11\": {\"11\": 12}, \"78\": {\"21\": 2, \"78\": 5, \"70\": 1, \"43\": 2, \"101\": 1, \"87\": 1}, \"99\": {\"99\": 12}, \"77\": {\"77\": 12}, \"23\": {\"23\": 12}, \"107\": {\"107\": 12}, \"58\": {\"58\": 9, \"30\": 2, \"52\": 1}, \"38\": {\"38\": 11, \"104\": 1}, \"13\": {\"13\": 9, \"78\": 1, \"92\": 2}, \"21\": {\"21\": 10, \"101\": 1, \"13\": 1}, \"7\": {\"7\": 12}, \"55\": {\"55\": 12}, \"30\": {\"30\": 9, \"21\": 2, \"9\": 1}, \"57\": {\"57\": 12}, \"101\": {\"0\": 1, \"101\": 10, \"86\": 1}, \"39\": {\"39\": 11, \"69\": 1}, \"29\": {\"29\": 12}, \"85\": {\"85\": 12}, \"81\": {\"81\": 12}, \"4\": {\"4\": 11, \"101\": 1}, \"36\": {\"36\": 9, \"27\": 3}, \"80\": {\"80\": 12}, \"118\": {\"118\": 11, \"17\": 1}, \"97\": {\"97\": 11, \"106\": 1}, \"100\": {\"100\": 12}, \"112\": {\"112\": 12}, \"8\": {\"8\": 12}, \"66\": {\"66\": 12}, \"104\": {\"104\": 12}, \"40\": {\"40\": 12}, \"105\": {\"105\": 12}, \"94\": {\"94\": 12}, \"47\": {\"47\": 12}, \"51\": {\"51\": 12}, \"82\": {\"82\": 12}, \"3\": {\"3\": 12}, \"25\": {\"25\": 10, \"24\": 2}, \"18\": {\"18\": 12}, \"121\": {\"43\": 1, \"121\": 11}, \"91\": {\"91\": 11, \"106\": 1}, \"74\": {\"57\": 1, \"74\": 10, \"82\": 1}, \"63\": {\"63\": 12}, \"1\": {\"1\": 11, \"110\": 1}, \"102\": {\"102\": 12}, \"75\": {\"75\": 12}, \"92\": {\"92\": 12}, \"59\": {\"59\": 12}}, \"1\": {\"65\": {\"65\": 9, \"76\": 2, \"35\": 1}, \"46\": {\"54\": 4, \"12\": 1, \"46\": 4, \"94\": 2, \"89\": 1}, \"28\": {\"28\": 7, \"65\": 2, \"53\": 1, \"43\": 1, \"61\": 1}, \"52\": {\"52\": 12}, \"32\": {\"32\": 5, \"107\": 6, \"58\": 1}, \"123\": {\"123\": 12}, \"76\": {\"76\": 12}, \"41\": {\"41\": 11, \"2\": 1}, \"44\": {\"44\": 12}, \"56\": {\"56\": 12}, \"78\": {\"78\": 9, \"87\": 1, \"21\": 1, \"122\": 1}, \"84\": {\"84\": 12}, \"70\": {\"70\": 6, \"5\": 1, \"128\": 3, \"73\": 1, \"21\": 1}, \"57\": {\"57\": 12}, \"48\": {\"48\": 12}, \"127\": {\"127\": 12}, \"72\": {\"72\": 12}, \"117\": {\"117\": 12}, \"5\": {\"5\": 12}, \"125\": {\"125\": 12}, \"112\": {\"112\": 12}, \"69\": {\"69\": 11, \"21\": 1}, \"53\": {\"53\": 12}, \"120\": {\"113\": 1, \"120\": 10, \"13\": 1}, \"19\": {\"19\": 12}, \"38\": {\"38\": 12}, \"31\": {\"31\": 12}, \"12\": {\"12\": 10, \"94\": 2}, \"2\": {\"11\": 1, \"2\": 5, \"13\": 2, \"100\": 1, \"96\": 3}, \"60\": {\"128\": 1, \"60\": 4, \"34\": 6, \"83\": 1}, \"54\": {\"54\": 12}, \"107\": {\"107\": 12}, \"20\": {\"20\": 12}, \"10\": {\"10\": 10, \"85\": 2}, \"34\": {\"34\": 5, \"86\": 4, \"125\": 2, \"60\": 1}, \"80\": {\"80\": 12}, \"95\": {\"95\": 12}, \"23\": {\"32\": 2, \"23\": 3, \"115\": 2, \"63\": 1, \"75\": 4}, \"22\": {\"116\": 2, \"22\": 9, \"27\": 1}, \"49\": {\"44\": 4, \"12\": 1, \"49\": 5, \"31\": 2}, \"64\": {\"64\": 12}, \"110\": {\"110\": 11, \"32\": 1}, \"50\": {\"50\": 12}, \"16\": {\"16\": 12}, \"104\": {\"104\": 12}, \"116\": {\"116\": 12}, \"68\": {\"68\": 12}, \"15\": {\"15\": 11, \"111\": 1}, \"83\": {\"83\": 11, \"60\": 1}, \"88\": {\"88\": 8, \"36\": 1, \"27\": 2, \"97\": 1}, \"17\": {\"17\": 11, \"88\": 1}, \"0\": {\"85\": 3, \"0\": 9}, \"85\": {\"85\": 12}, \"37\": {\"37\": 12}, \"35\": {\"35\": 10, \"97\": 1, \"49\": 1}, \"111\": {\"111\": 12}, \"121\": {\"121\": 12}, \"62\": {\"62\": 12}, \"73\": {\"73\": 12}, \"114\": {\"114\": 12}, \"6\": {\"53\": 1, \"6\": 11}, \"27\": {\"27\": 10, \"95\": 1, \"97\": 1}, \"115\": {\"115\": 12}, \"109\": {\"109\": 10, \"104\": 1, \"47\": 1}, \"42\": {\"91\": 3, \"42\": 9}, \"71\": {\"43\": 1, \"71\": 10, \"53\": 1}, \"93\": {\"93\": 10, \"107\": 1, \"87\": 1}, \"87\": {\"87\": 6, \"55\": 3, \"105\": 1, \"78\": 1, \"21\": 1}, \"26\": {\"26\": 11, \"78\": 1}, \"126\": {\"126\": 8, \"24\": 1, \"47\": 1, \"108\": 1, \"96\": 1}, \"90\": {\"90\": 12}, \"43\": {\"43\": 11, \"78\": 1}, \"61\": {\"61\": 12}, \"97\": {\"97\": 4, \"126\": 3, \"24\": 1, \"27\": 1, \"88\": 3}, \"74\": {\"74\": 12}, \"45\": {\"60\": 1, \"45\": 2, \"29\": 2, \"124\": 1, \"109\": 1, \"44\": 2, \"9\": 1, \"126\": 1, \"21\": 1}, \"8\": {\"8\": 10, \"29\": 1, \"80\": 1}, \"124\": {\"124\": 12}, \"91\": {\"91\": 12}, \"33\": {\"33\": 12}, \"14\": {\"14\": 12}, \"66\": {\"66\": 12}, \"96\": {\"128\": 1, \"96\": 9, \"126\": 1, \"71\": 1}, \"89\": {\"89\": 12}, \"11\": {\"11\": 10, \"82\": 1, \"33\": 1}, \"79\": {\"79\": 12}, \"100\": {\"100\": 12}, \"77\": {\"77\": 12}, \"24\": {\"24\": 10, \"126\": 1, \"108\": 1}, \"108\": {\"108\": 12}, \"59\": {\"59\": 9, \"71\": 1, \"58\": 2}, \"99\": {\"99\": 12}, \"13\": {\"13\": 12}, \"21\": {\"61\": 1, \"21\": 8, \"84\": 1, \"75\": 1, \"30\": 1}, \"7\": {\"7\": 10, \"22\": 1, \"41\": 1}, \"55\": {\"55\": 11, \"4\": 1}, \"30\": {\"30\": 10, \"12\": 1, \"6\": 1}, \"58\": {\"58\": 5, \"59\": 1, \"53\": 2, \"32\": 4}, \"102\": {\"102\": 12}, \"39\": {\"39\": 12}, \"29\": {\"29\": 12}, \"86\": {\"86\": 12}, \"118\": {\"118\": 11, \"23\": 1}, \"4\": {\"4\": 12}, \"36\": {\"36\": 9, \"88\": 3}, \"81\": {\"81\": 12}, \"119\": {\"119\": 12}, \"98\": {\"98\": 12}, \"101\": {\"101\": 12}, \"113\": {\"113\": 11, \"16\": 1}, \"9\": {\"9\": 12}, \"67\": {\"67\": 11, \"49\": 1}, \"105\": {\"105\": 11, \"40\": 1}, \"40\": {\"40\": 11, \"105\": 1}, \"106\": {\"106\": 12}, \"94\": {\"94\": 11, \"95\": 1}, \"47\": {\"47\": 9, \"9\": 3}, \"51\": {\"51\": 12}, \"82\": {\"82\": 12}, \"3\": {\"3\": 11, \"59\": 1}, \"25\": {\"25\": 9, \"21\": 1, \"79\": 2}, \"18\": {\"18\": 12}, \"122\": {\"122\": 11, \"78\": 1}, \"129\": {\"129\": 12}, \"128\": {\"70\": 1, \"128\": 10, \"29\": 1}, \"63\": {\"63\": 11, \"78\": 1}, \"1\": {\"108\": 2, \"1\": 10}, \"103\": {\"103\": 12}, \"75\": {\"75\": 12}, \"92\": {\"92\": 12}}, \"2\": {\"128\": {\"128\": 8, \"0\": 1, \"52\": 1, \"114\": 1, \"71\": 1}, \"49\": {\"49\": 6, \"11\": 3, \"112\": 1, \"9\": 1, \"53\": 1}, \"74\": {\"74\": 9, \"10\": 1, \"27\": 1, \"0\": 1}, \"21\": {\"21\": 9, \"70\": 2, \"0\": 1}, \"38\": {\"38\": 12}, \"50\": {\"50\": 12}, \"75\": {\"75\": 11, \"62\": 1}, \"59\": {\"59\": 9, \"122\": 1, \"31\": 1, \"80\": 1}, \"85\": {\"85\": 10, \"73\": 2}, \"102\": {\"102\": 12}, \"0\": {\"0\": 9, \"101\": 3}, \"2\": {\"2\": 12}, \"116\": {\"116\": 12}, \"96\": {\"96\": 11, \"88\": 1}, \"27\": {\"27\": 8, \"36\": 4}, \"91\": {\"77\": 3, \"91\": 6, \"6\": 3}, \"117\": {\"117\": 12}, \"124\": {\"124\": 12}, \"43\": {\"122\": 1, \"78\": 2, \"43\": 8, \"37\": 1}, \"41\": {\"41\": 9, \"54\": 1, \"21\": 1, \"98\": 1}, \"36\": {\"36\": 8, \"24\": 3, \"94\": 1}, \"127\": {\"127\": 10, \"111\": 1, \"21\": 1}, \"16\": {\"16\": 9, \"93\": 2, \"123\": 1}, \"51\": {\"75\": 1, \"6\": 3, \"97\": 3, \"51\": 2, \"58\": 2, \"15\": 1}, \"14\": {\"14\": 11, \"27\": 1}, \"56\": {\"56\": 12}, \"48\": {\"48\": 12}, \"79\": {\"79\": 12}, \"114\": {\"114\": 10, \"71\": 2}, \"1\": {\"1\": 11, \"80\": 1}, \"34\": {\"86\": 2, \"79\": 1, \"34\": 7, \"41\": 2}, \"109\": {\"109\": 7, \"7\": 1, \"21\": 2, \"84\": 1, \"10\": 1}, \"73\": {\"73\": 12}, \"63\": {\"63\": 12}, \"87\": {\"87\": 10, \"21\": 1, \"62\": 1}, \"98\": {\"98\": 12}, \"107\": {\"107\": 7, \"61\": 1, \"58\": 1, \"68\": 1, \"59\": 1, \"51\": 1}, \"92\": {\"92\": 12}, \"4\": {\"4\": 12}, \"90\": {\"90\": 12}, \"64\": {\"64\": 11, \"36\": 1}, \"110\": {\"110\": 12}, \"106\": {\"106\": 12}, \"10\": {\"10\": 10, \"62\": 1, \"95\": 1}, \"47\": {\"47\": 11, \"57\": 1}, \"112\": {\"42\": 1, \"49\": 2, \"112\": 5, \"126\": 2, \"53\": 2}, \"99\": {\"99\": 12}, \"71\": {\"71\": 12}, \"65\": {\"65\": 10, \"31\": 2}, \"126\": {\"126\": 12}, \"40\": {\"40\": 9, \"95\": 2, \"21\": 1}, \"118\": {\"56\": 1, \"118\": 11}, \"58\": {\"58\": 12}, \"95\": {\"95\": 12}, \"46\": {\"27\": 1, \"46\": 11}, \"84\": {\"84\": 10, \"43\": 1, \"13\": 1}, \"57\": {\"57\": 10, \"116\": 1, \"62\": 1}, \"108\": {\"122\": 1, \"108\": 11}, \"3\": {\"3\": 11, \"21\": 1}, \"45\": {\"45\": 11, \"62\": 1}, \"120\": {\"120\": 12}, \"115\": {\"115\": 11, \"123\": 1}, \"35\": {\"35\": 12}, \"119\": {\"119\": 11, \"123\": 1}, \"39\": {\"39\": 12}, \"52\": {\"52\": 12}, \"78\": {\"78\": 6, \"107\": 2, \"43\": 2, \"84\": 1, \"62\": 1}, \"7\": {\"7\": 12}, \"94\": {\"94\": 11, \"114\": 1}, \"83\": {\"83\": 12}, \"17\": {\"17\": 10, \"43\": 1, \"27\": 1}, \"28\": {\"28\": 11, \"123\": 1}, \"53\": {\"53\": 12}, \"5\": {\"122\": 1, \"5\": 11}, \"25\": {\"25\": 12}, \"103\": {\"103\": 12}, \"55\": {\"55\": 12}, \"12\": {\"12\": 12}, \"13\": {\"13\": 8, \"16\": 1, \"72\": 1, \"31\": 1, \"88\": 1}, \"26\": {\"26\": 11, \"43\": 1}, \"30\": {\"30\": 8, \"15\": 1, \"127\": 1, \"36\": 1, \"114\": 1}, \"6\": {\"6\": 12}, \"15\": {\"15\": 11, \"27\": 1}, \"123\": {\"123\": 12}, \"33\": {\"33\": 12}, \"101\": {\"101\": 12}, \"32\": {\"32\": 7, \"14\": 4, \"19\": 1}, \"76\": {\"76\": 11, \"92\": 1}, \"18\": {\"18\": 10, \"36\": 1, \"21\": 1}, \"60\": {\"60\": 11, \"87\": 1}, \"129\": {\"129\": 12}, \"89\": {\"89\": 10, \"78\": 1, \"92\": 1}, \"100\": {\"100\": 12}, \"80\": {\"80\": 12}, \"61\": {\"61\": 12}, \"88\": {\"16\": 1, \"96\": 1, \"88\": 9, \"72\": 1}, \"44\": {\"44\": 12}, \"82\": {\"82\": 12}, \"29\": {\"29\": 12}, \"125\": {\"125\": 12}, \"54\": {\"54\": 12}, \"66\": {\"66\": 12}, \"104\": {\"104\": 8, \"22\": 1, \"10\": 1, \"86\": 2}, \"97\": {\"97\": 11, \"30\": 1}, \"31\": {\"31\": 9, \"22\": 1, \"118\": 2}, \"86\": {\"86\": 12}, \"111\": {\"111\": 12}, \"9\": {\"9\": 12}, \"62\": {\"62\": 8, \"55\": 4}, \"23\": {\"23\": 10, \"128\": 1, \"122\": 1}, \"11\": {\"49\": 2, \"114\": 1, \"11\": 6, \"44\": 2, \"108\": 1}, \"68\": {\"7\": 1, \"68\": 11}, \"37\": {\"37\": 12}, \"122\": {\"110\": 2, \"5\": 1, \"122\": 8, \"68\": 1}, \"20\": {\"20\": 9, \"109\": 1, \"39\": 1, \"62\": 1}, \"67\": {\"67\": 11, \"121\": 1}, \"8\": {\"19\": 1, \"67\": 1, \"8\": 7, \"122\": 1, \"80\": 1, \"124\": 1}, \"69\": {\"69\": 11, \"43\": 1}, \"70\": {\"70\": 10, \"21\": 1, \"43\": 1}, \"72\": {\"72\": 12}, \"77\": {\"77\": 11, \"47\": 1}, \"105\": {\"105\": 12}, \"22\": {\"22\": 12}, \"42\": {\"42\": 10, \"27\": 1, \"112\": 1}, \"81\": {\"81\": 11, \"94\": 1}, \"19\": {\"19\": 12}, \"121\": {\"121\": 9, \"22\": 1, \"72\": 1, \"65\": 1}, \"113\": {\"123\": 1, \"113\": 11}, \"93\": {\"93\": 11, \"123\": 1}, \"24\": {\"24\": 6, \"36\": 2, \"21\": 1, \"27\": 1, \"57\": 1, \"13\": 1}}, \"4\": {\"41\": {\"41\": 9, \"6\": 2, \"52\": 1}, \"65\": {\"65\": 12}, \"16\": {\"16\": 12}, \"105\": {\"87\": 1, \"23\": 1, \"105\": 9, \"27\": 1}, \"23\": {\"23\": 3, \"88\": 1, \"24\": 1, \"111\": 1, \"51\": 2, \"128\": 1, \"123\": 2, \"10\": 1}, \"83\": {\"83\": 9, \"119\": 1, \"59\": 1, \"79\": 1}, \"13\": {\"13\": 12}, \"125\": {\"125\": 12}, \"25\": {\"25\": 12}, \"35\": {\"35\": 11, \"62\": 1}, \"62\": {\"62\": 12}, \"107\": {\"107\": 12}, \"68\": {\"68\": 12}, \"84\": {\"84\": 12}, \"127\": {\"127\": 10, \"21\": 2}, \"48\": {\"48\": 11, \"27\": 1}, \"2\": {\"2\": 11, \"26\": 1}, \"45\": {\"45\": 12}, \"36\": {\"36\": 9, \"24\": 2, \"97\": 1}, \"28\": {\"28\": 12}, \"78\": {\"23\": 1, \"78\": 3, \"43\": 5, \"74\": 1, \"87\": 1, \"99\": 1}, \"96\": {\"96\": 11, \"128\": 1}, \"34\": {\"47\": 1, \"6\": 1, \"34\": 7, \"59\": 1, \"128\": 1, \"125\": 1}, \"122\": {\"122\": 10, \"78\": 1, \"23\": 1}, \"14\": {\"14\": 12}, \"10\": {\"10\": 8, \"24\": 2, \"15\": 2}, \"126\": {\"126\": 11, \"39\": 1}, \"17\": {\"17\": 12}, \"85\": {\"85\": 12}, \"63\": {\"63\": 12}, \"6\": {\"6\": 10, \"10\": 2}, \"79\": {\"79\": 12}, \"115\": {\"57\": 4, \"86\": 1, \"67\": 1, \"115\": 4, \"104\": 1, \"17\": 1}, \"92\": {\"92\": 12}, \"1\": {\"1\": 10, \"81\": 1, \"51\": 1}, \"118\": {\"118\": 11, \"84\": 1}, \"8\": {\"8\": 11, \"122\": 1}, \"37\": {\"37\": 11, \"104\": 1}, \"31\": {\"31\": 11, \"24\": 1}, \"124\": {\"124\": 12}, \"109\": {\"109\": 9, \"81\": 1, \"96\": 2}, \"106\": {\"106\": 12}, \"102\": {\"102\": 12}, \"22\": {\"22\": 11, \"23\": 1}, \"123\": {\"123\": 12}, \"52\": {\"52\": 12}, \"128\": {\"19\": 3, \"128\": 8, \"65\": 1}, \"71\": {\"71\": 10, \"60\": 1, \"81\": 1}, \"72\": {\"72\": 11, \"74\": 1}, \"98\": {\"98\": 9, \"81\": 1, \"85\": 2}, \"38\": {\"44\": 1, \"38\": 9, \"61\": 2}, \"93\": {\"93\": 11, \"49\": 1}, \"100\": {\"100\": 12}, \"97\": {\"97\": 4, \"36\": 3, \"24\": 2, \"15\": 2, \"54\": 1}, \"101\": {\"101\": 12}, \"73\": {\"73\": 12}, \"26\": {\"26\": 12}, \"50\": {\"50\": 12}, \"67\": {\"67\": 6, \"115\": 1, \"23\": 1, \"17\": 1, \"32\": 2, \"63\": 1}, \"33\": {\"33\": 11, \"99\": 1}, \"39\": {\"39\": 9, \"78\": 1, \"81\": 1, \"113\": 1}, \"9\": {\"9\": 11, \"112\": 1}, \"60\": {\"60\": 10, \"100\": 1, \"99\": 1}, \"55\": {\"55\": 12}, \"94\": {\"94\": 12}, \"64\": {\"64\": 12}, \"120\": {\"120\": 10, \"45\": 2}, \"86\": {\"86\": 12}, \"129\": {\"129\": 10, \"46\": 1, \"73\": 1}, \"111\": {\"111\": 10, \"74\": 1, \"95\": 1}, \"42\": {\"42\": 10, \"9\": 2}, \"30\": {\"30\": 12}, \"99\": {\"99\": 12}, \"89\": {\"89\": 11, \"22\": 1}, \"24\": {\"24\": 6, \"27\": 1, \"36\": 2, \"97\": 2, \"23\": 1}, \"69\": {\"69\": 12}, \"21\": {\"21\": 11, \"0\": 1}, \"75\": {\"75\": 12}, \"59\": {\"59\": 11, \"115\": 1}, \"57\": {\"57\": 12}, \"112\": {\"112\": 12}, \"61\": {\"61\": 12}, \"40\": {\"40\": 12}, \"53\": {\"53\": 11, \"24\": 1}, \"113\": {\"113\": 12}, \"3\": {\"3\": 11, \"71\": 1}, \"117\": {\"117\": 11, \"81\": 1}, \"58\": {\"58\": 12}, \"103\": {\"103\": 12}, \"81\": {\"18\": 2, \"81\": 9, \"13\": 1}, \"54\": {\"54\": 12}, \"0\": {\"0\": 8, \"12\": 1, \"74\": 1, \"101\": 2}, \"80\": {\"52\": 2, \"80\": 9, \"51\": 1}, \"77\": {\"77\": 10, \"52\": 1, \"67\": 1}, \"70\": {\"70\": 11, \"88\": 1}, \"82\": {\"82\": 12}, \"108\": {\"108\": 6, \"12\": 1, \"5\": 2, \"24\": 1, \"27\": 1, \"88\": 1}, \"12\": {\"12\": 10, \"111\": 2}, \"44\": {\"81\": 1, \"44\": 11}, \"87\": {\"87\": 7, \"55\": 1, \"43\": 2, \"24\": 1, \"105\": 1}, \"121\": {\"121\": 10, \"66\": 1, \"22\": 1}, \"104\": {\"104\": 12}, \"49\": {\"49\": 10, \"53\": 2}, \"29\": {\"29\": 12}, \"18\": {\"18\": 12}, \"43\": {\"43\": 7, \"84\": 1, \"87\": 3, \"23\": 1}, \"74\": {\"74\": 8, \"60\": 4}, \"76\": {\"76\": 12}, \"19\": {\"19\": 8, \"100\": 2, \"46\": 2}, \"95\": {\"95\": 12}, \"47\": {\"47\": 11, \"112\": 1}, \"5\": {\"5\": 12}, \"15\": {\"94\": 1, \"15\": 11}, \"88\": {\"88\": 8, \"108\": 2, \"5\": 1, \"73\": 1}, \"27\": {\"27\": 11, \"43\": 1}, \"51\": {\"92\": 1, \"51\": 2, \"21\": 1, \"58\": 3, \"41\": 1, \"125\": 1, \"23\": 1, \"0\": 1, \"59\": 1}, \"91\": {\"91\": 12}, \"116\": {\"116\": 11, \"99\": 1}, \"20\": {\"20\": 11, \"73\": 1}, \"11\": {\"11\": 12}, \"4\": {\"127\": 2, \"4\": 9, \"24\": 1}, \"66\": {\"66\": 10, \"90\": 2}, \"7\": {\"7\": 11, \"89\": 1}, \"114\": {\"114\": 12}, \"56\": {\"56\": 11, \"55\": 1}, \"46\": {\"46\": 12}, \"119\": {\"119\": 11, \"48\": 1}, \"32\": {\"32\": 8, \"120\": 1, \"69\": 3}, \"110\": {\"110\": 11, \"21\": 1}, \"90\": {\"90\": 12}}}, \"per_domain_accuracy\": {\"3\": {\"accuracy\": 0.948076923076923, \"source?\": true}, \"1\": {\"accuracy\": 0.8807692307692307, \"source?\": false}, \"2\": {\"accuracy\": 0.8737179487179487, \"source?\": false}, \"4\": {\"accuracy\": 0.8724358974358974, \"source?\": false}}}, \"history\": {\"epoch_indices\": [1, 2, 3, 4, 5, 6, 7, 8, 9, 10, 11, 12, 13, 14, 15, 16, 17], \"train_label_loss\": [2.5115953286488852, 1.060953258143531, 0.7708478503757052, 0.5744180977344513, 0.3988254752424028, 0.3095006260606978, 0.26923296848932904, 0.2132986542251375, 0.19498591886626349, 0.1908436636130015, 0.15795990775028865, 0.16080883426798714, 0.13191015480293167, 0.1396236272321807, 0.12059433278110292, 0.12228439673781395, 0.12685438609785504], \"source_val_label_loss\": [1.4082682132720947, 0.959312379360199, 0.7178282141685486, 0.554023802280426, 0.45826730132102966, 0.3998522162437439, 0.37302613258361816, 0.3503519296646118, 0.35542404651641846, 0.3478703498840332, 0.3367801308631897, 0.3194119930267334, 0.32716232538223267, 0.3188605308532715, 0.31317198276519775, 0.3013710379600525, 0.3182148337364197], \"target_val_label_loss\": [1.6161530017852783, 1.2123677730560303, 1.0697476863861084, 0.9560749530792236, 0.8678330779075623, 0.8428073525428772, 0.808864414691925, 0.7708580493927002, 0.754019558429718, 0.7356825470924377, 0.7268198132514954, 0.7153050899505615, 0.7209547162055969, 0.734003484249115, 0.7270973920822144, 0.6996258497238159, 0.7033563256263733], \"source_val_acc_label\": [0.7711538461538462, 0.8224358974358974, 0.8666666666666667, 0.9019230769230769, 0.9224358974358975, 0.9352564102564103, 0.9423076923076923, 0.9442307692307692, 0.95, 0.9474358974358974, 0.9519230769230769, 0.9519230769230769, 0.948076923076923, 0.9538461538461539, 0.9525641025641025, 0.958974358974359, 0.9538461538461539], \"target_val_acc_label\": [0.7311965811965812, 0.7799145299145299, 0.798931623931624, 0.8162393162393162, 0.8335470085470086, 0.8465811965811966, 0.8542735042735042, 0.8579059829059829, 0.8589743589743589, 0.8641025641025641, 0.8664529914529915, 0.8692307692307693, 0.8756410256410256, 0.864957264957265, 0.8705128205128205, 0.8754273504273504, 0.8726495726495727]}, \"dataset_metrics\": {\"source\": {\"train\": {\"n_unique_x\": 19756, \"n_unique_y\": 130, \"n_batch/episode\": 45}, \"val\": {\"n_unique_x\": 3172, \"n_unique_y\": 130, \"n_batch/episode\": 6}, \"test\": {\"n_unique_x\": 3210, \"n_unique_y\": 130, \"n_batch/episode\": 6}}, \"target\": {\"train\": {\"n_unique_x\": 60281, \"n_unique_y\": 130, \"n_batch/episode\": 138}, \"val\": {\"n_unique_x\": 9508, \"n_unique_y\": 130, \"n_batch/episode\": 18}, \"test\": {\"n_unique_x\": 9573, \"n_unique_y\": 130, \"n_batch/episode\": 18}}}}'"
      ]
     },
     "execution_count": 20,
     "metadata": {},
     "output_type": "execute_result"
    }
   ],
   "source": [
    "json.dumps(experiment)"
   ]
  }
 ],
 "metadata": {
  "celltoolbar": "Tags",
  "kernelspec": {
   "display_name": "Python 3 (ipykernel)",
   "language": "python",
   "name": "python3"
  },
  "language_info": {
   "codemirror_mode": {
    "name": "ipython",
    "version": 3
   },
   "file_extension": ".py",
   "mimetype": "text/x-python",
   "name": "python",
   "nbconvert_exporter": "python",
   "pygments_lexer": "ipython3",
   "version": "3.8.10"
  },
  "papermill": {
   "default_parameters": {},
   "duration": 179.774694,
   "end_time": "2022-03-22T16:54:08.514603",
   "environment_variables": {},
   "exception": null,
   "input_path": "/mnt/wd500GB/CSC500/csc500-main/csc500-notebooks/templates/ptn_template.ipynb",
   "output_path": "trial.ipynb",
   "parameters": {
    "parameters": {
     "BEST_MODEL_PATH": "./best_model.pth",
     "NUM_LOGS_PER_EPOCH": 10,
     "criteria_for_best": "target_accuracy",
     "dataset_seed": 154325,
     "device": "cuda",
     "domains_source": [
      3
     ],
     "domains_target": [
      1,
      2,
      4
     ],
     "episode_transforms_source": [],
     "episode_transforms_target": [],
     "experiment_name": "tuned_1v2:wisig",
     "labels_source": [
      "1-10",
      "1-12",
      "1-14",
      "1-16",
      "1-18",
      "1-19",
      "1-8",
      "10-11",
      "10-17",
      "10-4",
      "10-7",
      "11-1",
      "11-10",
      "11-19",
      "11-20",
      "11-4",
      "11-7",
      "12-19",
      "12-20",
      "12-7",
      "13-14",
      "13-18",
      "13-19",
      "13-20",
      "13-3",
      "13-7",
      "14-10",
      "14-11",
      "14-12",
      "14-13",
      "14-14",
      "14-19",
      "14-20",
      "14-7",
      "14-8",
      "14-9",
      "15-1",
      "15-19",
      "15-6",
      "16-1",
      "16-16",
      "16-19",
      "16-20",
      "17-10",
      "17-11",
      "18-1",
      "18-10",
      "18-11",
      "18-12",
      "18-13",
      "18-14",
      "18-15",
      "18-16",
      "18-17",
      "18-19",
      "18-2",
      "18-20",
      "18-4",
      "18-5",
      "18-7",
      "18-8",
      "18-9",
      "19-1",
      "19-10",
      "19-11",
      "19-12",
      "19-13",
      "19-14",
      "19-15",
      "19-19",
      "19-2",
      "19-20",
      "19-3",
      "19-4",
      "19-6",
      "19-7",
      "19-8",
      "19-9",
      "2-1",
      "2-13",
      "2-15",
      "2-3",
      "2-4",
      "2-5",
      "2-6",
      "2-7",
      "2-8",
      "20-1",
      "20-12",
      "20-14",
      "20-15",
      "20-16",
      "20-18",
      "20-19",
      "20-20",
      "20-3",
      "20-4",
      "20-5",
      "20-7",
      "20-8",
      "3-1",
      "3-13",
      "3-18",
      "3-2",
      "3-8",
      "4-1",
      "4-10",
      "4-11",
      "5-1",
      "5-5",
      "6-1",
      "6-15",
      "6-6",
      "7-10",
      "7-11",
      "7-12",
      "7-13",
      "7-14",
      "7-7",
      "7-8",
      "7-9",
      "8-1",
      "8-13",
      "8-14",
      "8-18",
      "8-20",
      "8-3",
      "8-8",
      "9-1",
      "9-7"
     ],
     "labels_target": [
      "1-10",
      "1-12",
      "1-14",
      "1-16",
      "1-18",
      "1-19",
      "1-8",
      "10-11",
      "10-17",
      "10-4",
      "10-7",
      "11-1",
      "11-10",
      "11-19",
      "11-20",
      "11-4",
      "11-7",
      "12-19",
      "12-20",
      "12-7",
      "13-14",
      "13-18",
      "13-19",
      "13-20",
      "13-3",
      "13-7",
      "14-10",
      "14-11",
      "14-12",
      "14-13",
      "14-14",
      "14-19",
      "14-20",
      "14-7",
      "14-8",
      "14-9",
      "15-1",
      "15-19",
      "15-6",
      "16-1",
      "16-16",
      "16-19",
      "16-20",
      "17-10",
      "17-11",
      "18-1",
      "18-10",
      "18-11",
      "18-12",
      "18-13",
      "18-14",
      "18-15",
      "18-16",
      "18-17",
      "18-19",
      "18-2",
      "18-20",
      "18-4",
      "18-5",
      "18-7",
      "18-8",
      "18-9",
      "19-1",
      "19-10",
      "19-11",
      "19-12",
      "19-13",
      "19-14",
      "19-15",
      "19-19",
      "19-2",
      "19-20",
      "19-3",
      "19-4",
      "19-6",
      "19-7",
      "19-8",
      "19-9",
      "2-1",
      "2-13",
      "2-15",
      "2-3",
      "2-4",
      "2-5",
      "2-6",
      "2-7",
      "2-8",
      "20-1",
      "20-12",
      "20-14",
      "20-15",
      "20-16",
      "20-18",
      "20-19",
      "20-20",
      "20-3",
      "20-4",
      "20-5",
      "20-7",
      "20-8",
      "3-1",
      "3-13",
      "3-18",
      "3-2",
      "3-8",
      "4-1",
      "4-10",
      "4-11",
      "5-1",
      "5-5",
      "6-1",
      "6-15",
      "6-6",
      "7-10",
      "7-11",
      "7-12",
      "7-13",
      "7-14",
      "7-7",
      "7-8",
      "7-9",
      "8-1",
      "8-13",
      "8-14",
      "8-18",
      "8-20",
      "8-3",
      "8-8",
      "9-1",
      "9-7"
     ],
     "lr": 0.0001,
     "n_epoch": 50,
     "n_query": 2,
     "n_shot": 3,
     "n_way": 130,
     "num_examples_per_domain_per_label_source": -1,
     "num_examples_per_domain_per_label_target": -1,
     "patience": 3,
     "pickle_name": "wisig.node3-19.stratified_ds.2022A.pkl",
     "seed": 154325,
     "test_k_factor": 2,
     "torch_default_dtype": "torch.float32",
     "train_k_factor": 3,
     "val_k_factor": 2,
     "x_net": [
      {
       "class": "nnReshape",
       "kargs": {
        "shape": [
         -1,
         1,
         2,
         256
        ]
       }
      },
      {
       "class": "Conv2d",
       "kargs": {
        "bias": false,
        "in_channels": 1,
        "kernel_size": [
         1,
         7
        ],
        "out_channels": 256,
        "padding": [
         0,
         3
        ]
       }
      },
      {
       "class": "ReLU",
       "kargs": {
        "inplace": true
       }
      },
      {
       "class": "BatchNorm2d",
       "kargs": {
        "num_features": 256
       }
      },
      {
       "class": "Conv2d",
       "kargs": {
        "bias": true,
        "in_channels": 256,
        "kernel_size": [
         2,
         7
        ],
        "out_channels": 80,
        "padding": [
         0,
         3
        ]
       }
      },
      {
       "class": "ReLU",
       "kargs": {
        "inplace": true
       }
      },
      {
       "class": "BatchNorm2d",
       "kargs": {
        "num_features": 80
       }
      },
      {
       "class": "Flatten",
       "kargs": {}
      },
      {
       "class": "Linear",
       "kargs": {
        "in_features": 20480,
        "out_features": 256
       }
      },
      {
       "class": "ReLU",
       "kargs": {
        "inplace": true
       }
      },
      {
       "class": "BatchNorm1d",
       "kargs": {
        "num_features": 256
       }
      },
      {
       "class": "Linear",
       "kargs": {
        "in_features": 256,
        "out_features": 256
       }
      }
     ],
     "x_transforms_source": [
      "unit_mag"
     ],
     "x_transforms_target": [
      "unit_mag"
     ]
    }
   },
   "start_time": "2022-03-22T16:51:08.739909",
   "version": "2.3.4"
  }
 },
 "nbformat": 4,
 "nbformat_minor": 5
}