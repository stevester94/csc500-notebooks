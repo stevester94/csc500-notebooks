{
 "cells": [
  {
   "cell_type": "markdown",
   "id": "9fea5f46",
   "metadata": {
    "papermill": {
     "duration": 0.014908,
     "end_time": "2022-03-22T17:12:04.553439",
     "exception": false,
     "start_time": "2022-03-22T17:12:04.538531",
     "status": "completed"
    },
    "tags": []
   },
   "source": [
    "# PTN Template\n",
    "This notebook serves as a template for single dataset PTN experiments  \n",
    "It can be run on its own by setting STANDALONE to True (do a find for \"STANDALONE\" to see where)  \n",
    "But it is intended to be executed as part of a *papermill.py script. See any of the   \n",
    "experimentes with a papermill script to get started with that workflow.  "
   ]
  },
  {
   "cell_type": "code",
   "execution_count": 1,
   "id": "0902182a",
   "metadata": {
    "execution": {
     "iopub.execute_input": "2022-03-22T17:12:04.586893Z",
     "iopub.status.busy": "2022-03-22T17:12:04.586600Z",
     "iopub.status.idle": "2022-03-22T17:12:05.537035Z",
     "shell.execute_reply": "2022-03-22T17:12:05.536711Z"
    },
    "papermill": {
     "duration": 0.973782,
     "end_time": "2022-03-22T17:12:05.537102",
     "exception": false,
     "start_time": "2022-03-22T17:12:04.563320",
     "status": "completed"
    },
    "tags": []
   },
   "outputs": [],
   "source": [
    "%load_ext autoreload\n",
    "%autoreload 2\n",
    "%matplotlib inline\n",
    "\n",
    "    \n",
    "import os, json, sys, time, random\n",
    "import numpy as np\n",
    "import torch\n",
    "from torch.optim import Adam\n",
    "from  easydict import EasyDict\n",
    "import matplotlib.pyplot as plt\n",
    "\n",
    "from steves_models.steves_ptn import Steves_Prototypical_Network\n",
    "\n",
    "from steves_utils.lazy_iterable_wrapper import Lazy_Iterable_Wrapper\n",
    "from steves_utils.iterable_aggregator import Iterable_Aggregator\n",
    "from steves_utils.ptn_train_eval_test_jig import  PTN_Train_Eval_Test_Jig\n",
    "from steves_utils.torch_sequential_builder import build_sequential\n",
    "from steves_utils.torch_utils import get_dataset_metrics, ptn_confusion_by_domain_over_dataloader\n",
    "from steves_utils.utils_v2 import (per_domain_accuracy_from_confusion, get_datasets_base_path)\n",
    "from steves_utils.PTN.utils import independent_accuracy_assesment\n",
    "\n",
    "from steves_utils.stratified_dataset.episodic_accessor import Episodic_Accessor_Factory\n",
    "\n",
    "from steves_utils.ptn_do_report import (\n",
    "    get_loss_curve,\n",
    "    get_results_table,\n",
    "    get_parameters_table,\n",
    "    get_domain_accuracies,\n",
    ")\n",
    "\n",
    "from steves_utils.transforms import get_chained_transform"
   ]
  },
  {
   "cell_type": "markdown",
   "id": "41c840b4",
   "metadata": {
    "papermill": {
     "duration": 0.009389,
     "end_time": "2022-03-22T17:12:05.556371",
     "exception": false,
     "start_time": "2022-03-22T17:12:05.546982",
     "status": "completed"
    },
    "tags": []
   },
   "source": [
    "# Required Parameters\n",
    "These are allowed parameters, not defaults\n",
    "Each of these values need to be present in the injected parameters (the notebook will raise an exception if they are not present)\n",
    "\n",
    "Papermill uses the cell tag \"parameters\" to inject the real parameters below this cell.\n",
    "Enable tags to see what I mean"
   ]
  },
  {
   "cell_type": "code",
   "execution_count": 2,
   "id": "fd44eb83",
   "metadata": {
    "execution": {
     "iopub.execute_input": "2022-03-22T17:12:05.577545Z",
     "iopub.status.busy": "2022-03-22T17:12:05.577279Z",
     "iopub.status.idle": "2022-03-22T17:12:05.588683Z",
     "shell.execute_reply": "2022-03-22T17:12:05.588423Z"
    },
    "papermill": {
     "duration": 0.022865,
     "end_time": "2022-03-22T17:12:05.588739",
     "exception": false,
     "start_time": "2022-03-22T17:12:05.565874",
     "status": "completed"
    },
    "tags": []
   },
   "outputs": [],
   "source": [
    "required_parameters = {\n",
    "    \"experiment_name\",\n",
    "    \"lr\",\n",
    "    \"device\",\n",
    "    \"seed\",\n",
    "    \"dataset_seed\",\n",
    "    \"labels_source\",\n",
    "    \"labels_target\",\n",
    "    \"domains_source\",\n",
    "    \"domains_target\",\n",
    "    \"num_examples_per_domain_per_label_source\",\n",
    "    \"num_examples_per_domain_per_label_target\",\n",
    "    \"n_shot\",\n",
    "    \"n_way\",\n",
    "    \"n_query\",\n",
    "    \"train_k_factor\",\n",
    "    \"val_k_factor\",\n",
    "    \"test_k_factor\",\n",
    "    \"n_epoch\",\n",
    "    \"patience\",\n",
    "    \"criteria_for_best\",\n",
    "    \"x_transforms_source\",\n",
    "    \"x_transforms_target\",\n",
    "    \"episode_transforms_source\",\n",
    "    \"episode_transforms_target\",\n",
    "    \"pickle_name\",\n",
    "    \"x_net\",\n",
    "    \"NUM_LOGS_PER_EPOCH\",\n",
    "    \"BEST_MODEL_PATH\",\n",
    "    \"torch_default_dtype\"\n",
    "}"
   ]
  },
  {
   "cell_type": "code",
   "execution_count": 3,
   "id": "fa3f0049",
   "metadata": {
    "execution": {
     "iopub.execute_input": "2022-03-22T17:12:05.614168Z",
     "iopub.status.busy": "2022-03-22T17:12:05.613875Z",
     "iopub.status.idle": "2022-03-22T17:12:05.627329Z",
     "shell.execute_reply": "2022-03-22T17:12:05.626825Z"
    },
    "papermill": {
     "duration": 0.029032,
     "end_time": "2022-03-22T17:12:05.627435",
     "exception": false,
     "start_time": "2022-03-22T17:12:05.598403",
     "status": "completed"
    },
    "tags": [
     "parameters"
    ]
   },
   "outputs": [],
   "source": [
    "\n",
    "\n",
    "standalone_parameters = {}\n",
    "standalone_parameters[\"experiment_name\"] = \"STANDALONE PTN\"\n",
    "standalone_parameters[\"lr\"] = 0.0001\n",
    "standalone_parameters[\"device\"] = \"cuda\"\n",
    "\n",
    "standalone_parameters[\"seed\"] = 1337\n",
    "standalone_parameters[\"dataset_seed\"] = 1337\n",
    "\n",
    "\n",
    "standalone_parameters[\"num_examples_per_domain_per_label_source\"]=100\n",
    "standalone_parameters[\"num_examples_per_domain_per_label_target\"]=100\n",
    "\n",
    "standalone_parameters[\"n_shot\"] = 3\n",
    "standalone_parameters[\"n_query\"]  = 2\n",
    "standalone_parameters[\"train_k_factor\"] = 1\n",
    "standalone_parameters[\"val_k_factor\"] = 2\n",
    "standalone_parameters[\"test_k_factor\"] = 2\n",
    "\n",
    "\n",
    "standalone_parameters[\"n_epoch\"] = 100\n",
    "\n",
    "standalone_parameters[\"patience\"] = 10\n",
    "standalone_parameters[\"criteria_for_best\"] = \"target_accuracy\"\n",
    "\n",
    "standalone_parameters[\"x_transforms_source\"] = [\"unit_power\"]\n",
    "standalone_parameters[\"x_transforms_target\"] = [\"unit_power\"]\n",
    "standalone_parameters[\"episode_transforms_source\"] = []\n",
    "standalone_parameters[\"episode_transforms_target\"] = []\n",
    "\n",
    "standalone_parameters[\"torch_default_dtype\"] = \"torch.float32\" \n",
    "\n",
    "\n",
    "\n",
    "standalone_parameters[\"x_net\"] =     [\n",
    "    {\"class\": \"nnReshape\", \"kargs\": {\"shape\":[-1, 1, 2, 256]}},\n",
    "    {\"class\": \"Conv2d\", \"kargs\": { \"in_channels\":1, \"out_channels\":256, \"kernel_size\":(1,7), \"bias\":False, \"padding\":(0,3), },},\n",
    "    {\"class\": \"ReLU\", \"kargs\": {\"inplace\": True}},\n",
    "    {\"class\": \"BatchNorm2d\", \"kargs\": {\"num_features\":256}},\n",
    "\n",
    "    {\"class\": \"Conv2d\", \"kargs\": { \"in_channels\":256, \"out_channels\":80, \"kernel_size\":(2,7), \"bias\":True, \"padding\":(0,3), },},\n",
    "    {\"class\": \"ReLU\", \"kargs\": {\"inplace\": True}},\n",
    "    {\"class\": \"BatchNorm2d\", \"kargs\": {\"num_features\":80}},\n",
    "    {\"class\": \"Flatten\", \"kargs\": {}},\n",
    "\n",
    "    {\"class\": \"Linear\", \"kargs\": {\"in_features\": 80*256, \"out_features\": 256}}, # 80 units per IQ pair\n",
    "    {\"class\": \"ReLU\", \"kargs\": {\"inplace\": True}},\n",
    "    {\"class\": \"BatchNorm1d\", \"kargs\": {\"num_features\":256}},\n",
    "\n",
    "    {\"class\": \"Linear\", \"kargs\": {\"in_features\": 256, \"out_features\": 256}},\n",
    "]\n",
    "\n",
    "# Parameters relevant to results\n",
    "# These parameters will basically never need to change\n",
    "standalone_parameters[\"NUM_LOGS_PER_EPOCH\"] = 10\n",
    "standalone_parameters[\"BEST_MODEL_PATH\"] = \"./best_model.pth\"\n",
    "\n",
    "# uncomment for CORES dataset\n",
    "from steves_utils.CORES.utils import (\n",
    "    ALL_NODES,\n",
    "    ALL_NODES_MINIMUM_1000_EXAMPLES,\n",
    "    ALL_DAYS\n",
    ")\n",
    "\n",
    "\n",
    "standalone_parameters[\"labels_source\"] = ALL_NODES\n",
    "standalone_parameters[\"labels_target\"] = ALL_NODES\n",
    "\n",
    "standalone_parameters[\"domains_source\"] = [1]\n",
    "standalone_parameters[\"domains_target\"] = [2,3,4,5]\n",
    "\n",
    "standalone_parameters[\"pickle_name\"] = \"cores.stratified_ds.2022A.pkl\"\n",
    "\n",
    "\n",
    "# Uncomment these for ORACLE dataset\n",
    "# from steves_utils.ORACLE.utils_v2 import (\n",
    "#     ALL_DISTANCES_FEET,\n",
    "#     ALL_RUNS,\n",
    "#     ALL_SERIAL_NUMBERS,\n",
    "# )\n",
    "# standalone_parameters[\"labels_source\"] = ALL_SERIAL_NUMBERS\n",
    "# standalone_parameters[\"labels_target\"] = ALL_SERIAL_NUMBERS\n",
    "# standalone_parameters[\"domains_source\"] = [8,20, 38,50]\n",
    "# standalone_parameters[\"domains_target\"] = [14, 26, 32, 44, 56]\n",
    "# standalone_parameters[\"pickle_name\"] = \"oracle.frame_indexed.stratified_ds.2022A.pkl\"\n",
    "# standalone_parameters[\"num_examples_per_domain_per_label_source\"]=1000\n",
    "# standalone_parameters[\"num_examples_per_domain_per_label_target\"]=1000\n",
    "\n",
    "# Uncomment these for Metahan dataset\n",
    "# standalone_parameters[\"labels_source\"] = list(range(19))\n",
    "# standalone_parameters[\"labels_target\"] = list(range(19))\n",
    "# standalone_parameters[\"domains_source\"] = [0]\n",
    "# standalone_parameters[\"domains_target\"] = [1]\n",
    "# standalone_parameters[\"pickle_name\"] = \"metehan.stratified_ds.2022A.pkl\"\n",
    "# standalone_parameters[\"n_way\"]  = len(standalone_parameters[\"labels_source\"])\n",
    "# standalone_parameters[\"num_examples_per_domain_per_label_source\"]=200\n",
    "# standalone_parameters[\"num_examples_per_domain_per_label_target\"]=100\n",
    "\n",
    "\n",
    "standalone_parameters[\"n_way\"]  = len(standalone_parameters[\"labels_source\"])"
   ]
  },
  {
   "cell_type": "code",
   "execution_count": 4,
   "id": "884d9714",
   "metadata": {
    "execution": {
     "iopub.execute_input": "2022-03-22T17:12:05.663419Z",
     "iopub.status.busy": "2022-03-22T17:12:05.650809Z",
     "iopub.status.idle": "2022-03-22T17:12:05.676139Z",
     "shell.execute_reply": "2022-03-22T17:12:05.675640Z"
    },
    "papermill": {
     "duration": 0.036705,
     "end_time": "2022-03-22T17:12:05.676240",
     "exception": false,
     "start_time": "2022-03-22T17:12:05.639535",
     "status": "completed"
    },
    "tags": [
     "injected-parameters"
    ]
   },
   "outputs": [],
   "source": [
    "# Parameters\n",
    "parameters = {\n",
    "    \"experiment_name\": \"tuned_1v2:wisig\",\n",
    "    \"device\": \"cuda\",\n",
    "    \"lr\": 0.0001,\n",
    "    \"labels_source\": [\n",
    "        \"1-10\",\n",
    "        \"1-12\",\n",
    "        \"1-14\",\n",
    "        \"1-16\",\n",
    "        \"1-18\",\n",
    "        \"1-19\",\n",
    "        \"1-8\",\n",
    "        \"10-11\",\n",
    "        \"10-17\",\n",
    "        \"10-4\",\n",
    "        \"10-7\",\n",
    "        \"11-1\",\n",
    "        \"11-10\",\n",
    "        \"11-19\",\n",
    "        \"11-20\",\n",
    "        \"11-4\",\n",
    "        \"11-7\",\n",
    "        \"12-19\",\n",
    "        \"12-20\",\n",
    "        \"12-7\",\n",
    "        \"13-14\",\n",
    "        \"13-18\",\n",
    "        \"13-19\",\n",
    "        \"13-20\",\n",
    "        \"13-3\",\n",
    "        \"13-7\",\n",
    "        \"14-10\",\n",
    "        \"14-11\",\n",
    "        \"14-12\",\n",
    "        \"14-13\",\n",
    "        \"14-14\",\n",
    "        \"14-19\",\n",
    "        \"14-20\",\n",
    "        \"14-7\",\n",
    "        \"14-8\",\n",
    "        \"14-9\",\n",
    "        \"15-1\",\n",
    "        \"15-19\",\n",
    "        \"15-6\",\n",
    "        \"16-1\",\n",
    "        \"16-16\",\n",
    "        \"16-19\",\n",
    "        \"16-20\",\n",
    "        \"17-10\",\n",
    "        \"17-11\",\n",
    "        \"18-1\",\n",
    "        \"18-10\",\n",
    "        \"18-11\",\n",
    "        \"18-12\",\n",
    "        \"18-13\",\n",
    "        \"18-14\",\n",
    "        \"18-15\",\n",
    "        \"18-16\",\n",
    "        \"18-17\",\n",
    "        \"18-19\",\n",
    "        \"18-2\",\n",
    "        \"18-20\",\n",
    "        \"18-4\",\n",
    "        \"18-5\",\n",
    "        \"18-7\",\n",
    "        \"18-8\",\n",
    "        \"18-9\",\n",
    "        \"19-1\",\n",
    "        \"19-10\",\n",
    "        \"19-11\",\n",
    "        \"19-12\",\n",
    "        \"19-13\",\n",
    "        \"19-14\",\n",
    "        \"19-15\",\n",
    "        \"19-19\",\n",
    "        \"19-2\",\n",
    "        \"19-20\",\n",
    "        \"19-3\",\n",
    "        \"19-4\",\n",
    "        \"19-6\",\n",
    "        \"19-7\",\n",
    "        \"19-8\",\n",
    "        \"19-9\",\n",
    "        \"2-1\",\n",
    "        \"2-13\",\n",
    "        \"2-15\",\n",
    "        \"2-3\",\n",
    "        \"2-4\",\n",
    "        \"2-5\",\n",
    "        \"2-6\",\n",
    "        \"2-7\",\n",
    "        \"2-8\",\n",
    "        \"20-1\",\n",
    "        \"20-12\",\n",
    "        \"20-14\",\n",
    "        \"20-15\",\n",
    "        \"20-16\",\n",
    "        \"20-18\",\n",
    "        \"20-19\",\n",
    "        \"20-20\",\n",
    "        \"20-3\",\n",
    "        \"20-4\",\n",
    "        \"20-5\",\n",
    "        \"20-7\",\n",
    "        \"20-8\",\n",
    "        \"3-1\",\n",
    "        \"3-13\",\n",
    "        \"3-18\",\n",
    "        \"3-2\",\n",
    "        \"3-8\",\n",
    "        \"4-1\",\n",
    "        \"4-10\",\n",
    "        \"4-11\",\n",
    "        \"5-1\",\n",
    "        \"5-5\",\n",
    "        \"6-1\",\n",
    "        \"6-15\",\n",
    "        \"6-6\",\n",
    "        \"7-10\",\n",
    "        \"7-11\",\n",
    "        \"7-12\",\n",
    "        \"7-13\",\n",
    "        \"7-14\",\n",
    "        \"7-7\",\n",
    "        \"7-8\",\n",
    "        \"7-9\",\n",
    "        \"8-1\",\n",
    "        \"8-13\",\n",
    "        \"8-14\",\n",
    "        \"8-18\",\n",
    "        \"8-20\",\n",
    "        \"8-3\",\n",
    "        \"8-8\",\n",
    "        \"9-1\",\n",
    "        \"9-7\",\n",
    "    ],\n",
    "    \"labels_target\": [\n",
    "        \"1-10\",\n",
    "        \"1-12\",\n",
    "        \"1-14\",\n",
    "        \"1-16\",\n",
    "        \"1-18\",\n",
    "        \"1-19\",\n",
    "        \"1-8\",\n",
    "        \"10-11\",\n",
    "        \"10-17\",\n",
    "        \"10-4\",\n",
    "        \"10-7\",\n",
    "        \"11-1\",\n",
    "        \"11-10\",\n",
    "        \"11-19\",\n",
    "        \"11-20\",\n",
    "        \"11-4\",\n",
    "        \"11-7\",\n",
    "        \"12-19\",\n",
    "        \"12-20\",\n",
    "        \"12-7\",\n",
    "        \"13-14\",\n",
    "        \"13-18\",\n",
    "        \"13-19\",\n",
    "        \"13-20\",\n",
    "        \"13-3\",\n",
    "        \"13-7\",\n",
    "        \"14-10\",\n",
    "        \"14-11\",\n",
    "        \"14-12\",\n",
    "        \"14-13\",\n",
    "        \"14-14\",\n",
    "        \"14-19\",\n",
    "        \"14-20\",\n",
    "        \"14-7\",\n",
    "        \"14-8\",\n",
    "        \"14-9\",\n",
    "        \"15-1\",\n",
    "        \"15-19\",\n",
    "        \"15-6\",\n",
    "        \"16-1\",\n",
    "        \"16-16\",\n",
    "        \"16-19\",\n",
    "        \"16-20\",\n",
    "        \"17-10\",\n",
    "        \"17-11\",\n",
    "        \"18-1\",\n",
    "        \"18-10\",\n",
    "        \"18-11\",\n",
    "        \"18-12\",\n",
    "        \"18-13\",\n",
    "        \"18-14\",\n",
    "        \"18-15\",\n",
    "        \"18-16\",\n",
    "        \"18-17\",\n",
    "        \"18-19\",\n",
    "        \"18-2\",\n",
    "        \"18-20\",\n",
    "        \"18-4\",\n",
    "        \"18-5\",\n",
    "        \"18-7\",\n",
    "        \"18-8\",\n",
    "        \"18-9\",\n",
    "        \"19-1\",\n",
    "        \"19-10\",\n",
    "        \"19-11\",\n",
    "        \"19-12\",\n",
    "        \"19-13\",\n",
    "        \"19-14\",\n",
    "        \"19-15\",\n",
    "        \"19-19\",\n",
    "        \"19-2\",\n",
    "        \"19-20\",\n",
    "        \"19-3\",\n",
    "        \"19-4\",\n",
    "        \"19-6\",\n",
    "        \"19-7\",\n",
    "        \"19-8\",\n",
    "        \"19-9\",\n",
    "        \"2-1\",\n",
    "        \"2-13\",\n",
    "        \"2-15\",\n",
    "        \"2-3\",\n",
    "        \"2-4\",\n",
    "        \"2-5\",\n",
    "        \"2-6\",\n",
    "        \"2-7\",\n",
    "        \"2-8\",\n",
    "        \"20-1\",\n",
    "        \"20-12\",\n",
    "        \"20-14\",\n",
    "        \"20-15\",\n",
    "        \"20-16\",\n",
    "        \"20-18\",\n",
    "        \"20-19\",\n",
    "        \"20-20\",\n",
    "        \"20-3\",\n",
    "        \"20-4\",\n",
    "        \"20-5\",\n",
    "        \"20-7\",\n",
    "        \"20-8\",\n",
    "        \"3-1\",\n",
    "        \"3-13\",\n",
    "        \"3-18\",\n",
    "        \"3-2\",\n",
    "        \"3-8\",\n",
    "        \"4-1\",\n",
    "        \"4-10\",\n",
    "        \"4-11\",\n",
    "        \"5-1\",\n",
    "        \"5-5\",\n",
    "        \"6-1\",\n",
    "        \"6-15\",\n",
    "        \"6-6\",\n",
    "        \"7-10\",\n",
    "        \"7-11\",\n",
    "        \"7-12\",\n",
    "        \"7-13\",\n",
    "        \"7-14\",\n",
    "        \"7-7\",\n",
    "        \"7-8\",\n",
    "        \"7-9\",\n",
    "        \"8-1\",\n",
    "        \"8-13\",\n",
    "        \"8-14\",\n",
    "        \"8-18\",\n",
    "        \"8-20\",\n",
    "        \"8-3\",\n",
    "        \"8-8\",\n",
    "        \"9-1\",\n",
    "        \"9-7\",\n",
    "    ],\n",
    "    \"episode_transforms_source\": [],\n",
    "    \"episode_transforms_target\": [],\n",
    "    \"domains_source\": [3],\n",
    "    \"domains_target\": [1, 2, 4],\n",
    "    \"num_examples_per_domain_per_label_source\": -1,\n",
    "    \"num_examples_per_domain_per_label_target\": -1,\n",
    "    \"n_shot\": 3,\n",
    "    \"n_way\": 130,\n",
    "    \"n_query\": 2,\n",
    "    \"train_k_factor\": 3,\n",
    "    \"val_k_factor\": 2,\n",
    "    \"test_k_factor\": 2,\n",
    "    \"torch_default_dtype\": \"torch.float32\",\n",
    "    \"n_epoch\": 50,\n",
    "    \"patience\": 3,\n",
    "    \"criteria_for_best\": \"target_accuracy\",\n",
    "    \"x_net\": [\n",
    "        {\"class\": \"nnReshape\", \"kargs\": {\"shape\": [-1, 1, 2, 256]}},\n",
    "        {\n",
    "            \"class\": \"Conv2d\",\n",
    "            \"kargs\": {\n",
    "                \"in_channels\": 1,\n",
    "                \"out_channels\": 256,\n",
    "                \"kernel_size\": [1, 7],\n",
    "                \"bias\": False,\n",
    "                \"padding\": [0, 3],\n",
    "            },\n",
    "        },\n",
    "        {\"class\": \"ReLU\", \"kargs\": {\"inplace\": True}},\n",
    "        {\"class\": \"BatchNorm2d\", \"kargs\": {\"num_features\": 256}},\n",
    "        {\n",
    "            \"class\": \"Conv2d\",\n",
    "            \"kargs\": {\n",
    "                \"in_channels\": 256,\n",
    "                \"out_channels\": 80,\n",
    "                \"kernel_size\": [2, 7],\n",
    "                \"bias\": True,\n",
    "                \"padding\": [0, 3],\n",
    "            },\n",
    "        },\n",
    "        {\"class\": \"ReLU\", \"kargs\": {\"inplace\": True}},\n",
    "        {\"class\": \"BatchNorm2d\", \"kargs\": {\"num_features\": 80}},\n",
    "        {\"class\": \"Flatten\", \"kargs\": {}},\n",
    "        {\"class\": \"Linear\", \"kargs\": {\"in_features\": 20480, \"out_features\": 256}},\n",
    "        {\"class\": \"ReLU\", \"kargs\": {\"inplace\": True}},\n",
    "        {\"class\": \"BatchNorm1d\", \"kargs\": {\"num_features\": 256}},\n",
    "        {\"class\": \"Linear\", \"kargs\": {\"in_features\": 256, \"out_features\": 256}},\n",
    "    ],\n",
    "    \"NUM_LOGS_PER_EPOCH\": 10,\n",
    "    \"BEST_MODEL_PATH\": \"./best_model.pth\",\n",
    "    \"pickle_name\": \"wisig.node3-19.stratified_ds.2022A.pkl\",\n",
    "    \"x_transforms_source\": [\"unit_power\"],\n",
    "    \"x_transforms_target\": [\"unit_power\"],\n",
    "    \"dataset_seed\": 500,\n",
    "    \"seed\": 500,\n",
    "}\n"
   ]
  },
  {
   "cell_type": "code",
   "execution_count": 5,
   "id": "8fa1cc33",
   "metadata": {
    "execution": {
     "iopub.execute_input": "2022-03-22T17:12:05.699911Z",
     "iopub.status.busy": "2022-03-22T17:12:05.699657Z",
     "iopub.status.idle": "2022-03-22T17:12:05.711606Z",
     "shell.execute_reply": "2022-03-22T17:12:05.711351Z"
    },
    "papermill": {
     "duration": 0.023946,
     "end_time": "2022-03-22T17:12:05.711707",
     "exception": false,
     "start_time": "2022-03-22T17:12:05.687761",
     "status": "completed"
    },
    "tags": []
   },
   "outputs": [],
   "source": [
    "# Set this to True if you want to run this template directly\n",
    "STANDALONE = False\n",
    "if STANDALONE:\n",
    "    print(\"parameters not injected, running with standalone_parameters\")\n",
    "    parameters = standalone_parameters\n",
    "\n",
    "if not 'parameters' in locals() and not 'parameters' in globals():\n",
    "    raise Exception(\"Parameter injection failed\")\n",
    "\n",
    "#Use an easy dict for all the parameters\n",
    "p = EasyDict(parameters)\n",
    "\n",
    "supplied_keys = set(p.keys())\n",
    "\n",
    "if  supplied_keys != required_parameters:\n",
    "    print(\"Parameters are incorrect\")\n",
    "    if len(supplied_keys - required_parameters)>0: print(\"Shouldn't have:\", str(supplied_keys - required_parameters))\n",
    "    if len(required_parameters - supplied_keys)>0: print(\"Need to have:\", str(required_parameters - supplied_keys))\n",
    "    raise RuntimeError(\"Parameters are incorrect\")\n",
    "\n"
   ]
  },
  {
   "cell_type": "code",
   "execution_count": 6,
   "id": "3a028d58",
   "metadata": {
    "execution": {
     "iopub.execute_input": "2022-03-22T17:12:05.736907Z",
     "iopub.status.busy": "2022-03-22T17:12:05.736659Z",
     "iopub.status.idle": "2022-03-22T17:12:05.748594Z",
     "shell.execute_reply": "2022-03-22T17:12:05.748370Z"
    },
    "papermill": {
     "duration": 0.023448,
     "end_time": "2022-03-22T17:12:05.748650",
     "exception": false,
     "start_time": "2022-03-22T17:12:05.725202",
     "status": "completed"
    },
    "tags": []
   },
   "outputs": [],
   "source": [
    "###################################\n",
    "# Set the RNGs and make it all deterministic\n",
    "###################################\n",
    "np.random.seed(p.seed)\n",
    "random.seed(p.seed)\n",
    "torch.manual_seed(p.seed)\n",
    "\n",
    "torch.use_deterministic_algorithms(True) "
   ]
  },
  {
   "cell_type": "code",
   "execution_count": 7,
   "id": "b691acf6",
   "metadata": {
    "execution": {
     "iopub.execute_input": "2022-03-22T17:12:05.772920Z",
     "iopub.status.busy": "2022-03-22T17:12:05.772488Z",
     "iopub.status.idle": "2022-03-22T17:12:05.784172Z",
     "shell.execute_reply": "2022-03-22T17:12:05.783695Z"
    },
    "papermill": {
     "duration": 0.022911,
     "end_time": "2022-03-22T17:12:05.784273",
     "exception": false,
     "start_time": "2022-03-22T17:12:05.761362",
     "status": "completed"
    },
    "tags": []
   },
   "outputs": [],
   "source": [
    "###########################################\n",
    "# The stratified datasets honor this\n",
    "###########################################\n",
    "torch.set_default_dtype(eval(p.torch_default_dtype))"
   ]
  },
  {
   "cell_type": "code",
   "execution_count": 8,
   "id": "b5fba671",
   "metadata": {
    "execution": {
     "iopub.execute_input": "2022-03-22T17:12:05.807726Z",
     "iopub.status.busy": "2022-03-22T17:12:05.807477Z",
     "iopub.status.idle": "2022-03-22T17:12:05.845401Z",
     "shell.execute_reply": "2022-03-22T17:12:05.844954Z"
    },
    "papermill": {
     "duration": 0.049467,
     "end_time": "2022-03-22T17:12:05.845511",
     "exception": false,
     "start_time": "2022-03-22T17:12:05.796044",
     "status": "completed"
    },
    "tags": []
   },
   "outputs": [],
   "source": [
    "###################################\n",
    "# Build the network(s)\n",
    "# Note: It's critical to do this AFTER setting the RNG\n",
    "# (This is due to the randomized initial weights)\n",
    "###################################\n",
    "x_net = build_sequential(p.x_net)"
   ]
  },
  {
   "cell_type": "code",
   "execution_count": 9,
   "id": "5d7e61cc",
   "metadata": {
    "execution": {
     "iopub.execute_input": "2022-03-22T17:12:05.874627Z",
     "iopub.status.busy": "2022-03-22T17:12:05.874383Z",
     "iopub.status.idle": "2022-03-22T17:12:05.885842Z",
     "shell.execute_reply": "2022-03-22T17:12:05.886146Z"
    },
    "papermill": {
     "duration": 0.023512,
     "end_time": "2022-03-22T17:12:05.886241",
     "exception": false,
     "start_time": "2022-03-22T17:12:05.862729",
     "status": "completed"
    },
    "tags": []
   },
   "outputs": [],
   "source": [
    "start_time_secs = time.time()"
   ]
  },
  {
   "cell_type": "code",
   "execution_count": 10,
   "id": "fd5442bc",
   "metadata": {
    "execution": {
     "iopub.execute_input": "2022-03-22T17:12:05.916518Z",
     "iopub.status.busy": "2022-03-22T17:12:05.916253Z",
     "iopub.status.idle": "2022-03-22T17:12:23.263318Z",
     "shell.execute_reply": "2022-03-22T17:12:23.262854Z"
    },
    "papermill": {
     "duration": 17.362122,
     "end_time": "2022-03-22T17:12:23.263426",
     "exception": false,
     "start_time": "2022-03-22T17:12:05.901304",
     "status": "completed"
    },
    "tags": []
   },
   "outputs": [],
   "source": [
    "###################################\n",
    "# Build the dataset\n",
    "###################################\n",
    "\n",
    "if p.x_transforms_source == []: x_transform_source = None\n",
    "else: x_transform_source = get_chained_transform(p.x_transforms_source) \n",
    "\n",
    "if p.x_transforms_target == []: x_transform_target = None\n",
    "else: x_transform_target = get_chained_transform(p.x_transforms_target)\n",
    "\n",
    "if p.episode_transforms_source == []: episode_transform_source = None\n",
    "else: raise Exception(\"episode_transform_source not implemented\")\n",
    "\n",
    "if p.episode_transforms_target == []: episode_transform_target = None\n",
    "else: raise Exception(\"episode_transform_target not implemented\")\n",
    "\n",
    "\n",
    "eaf_source = Episodic_Accessor_Factory(\n",
    "    labels=p.labels_source,\n",
    "    domains=p.domains_source,\n",
    "    num_examples_per_domain_per_label=p.num_examples_per_domain_per_label_source,\n",
    "    iterator_seed=p.seed,\n",
    "    dataset_seed=p.dataset_seed,\n",
    "    n_shot=p.n_shot,\n",
    "    n_way=p.n_way,\n",
    "    n_query=p.n_query,\n",
    "    train_val_test_k_factors=(p.train_k_factor,p.val_k_factor,p.test_k_factor),\n",
    "    pickle_path=os.path.join(get_datasets_base_path(), p.pickle_name),\n",
    "    x_transform_func=x_transform_source,\n",
    "    example_transform_func=episode_transform_source,\n",
    "    \n",
    ")\n",
    "train_original_source, val_original_source, test_original_source = eaf_source.get_train(), eaf_source.get_val(), eaf_source.get_test()\n",
    "\n",
    "\n",
    "eaf_target = Episodic_Accessor_Factory(\n",
    "    labels=p.labels_target,\n",
    "    domains=p.domains_target,\n",
    "    num_examples_per_domain_per_label=p.num_examples_per_domain_per_label_target,\n",
    "    iterator_seed=p.seed,\n",
    "    dataset_seed=p.dataset_seed,\n",
    "    n_shot=p.n_shot,\n",
    "    n_way=p.n_way,\n",
    "    n_query=p.n_query,\n",
    "    train_val_test_k_factors=(p.train_k_factor,p.val_k_factor,p.test_k_factor),\n",
    "    pickle_path=os.path.join(get_datasets_base_path(), p.pickle_name),\n",
    "    x_transform_func=x_transform_target,\n",
    "    example_transform_func=episode_transform_target,\n",
    ")\n",
    "train_original_target, val_original_target, test_original_target = eaf_target.get_train(), eaf_target.get_val(), eaf_target.get_test()\n",
    "\n",
    "\n",
    "transform_lambda = lambda ex: ex[1] # Original is (<domain>, <episode>) so we strip down to episode only\n",
    "\n",
    "train_processed_source = Lazy_Iterable_Wrapper(train_original_source, transform_lambda)\n",
    "val_processed_source   = Lazy_Iterable_Wrapper(val_original_source, transform_lambda)\n",
    "test_processed_source  = Lazy_Iterable_Wrapper(test_original_source, transform_lambda)\n",
    "\n",
    "train_processed_target = Lazy_Iterable_Wrapper(train_original_target, transform_lambda)\n",
    "val_processed_target   = Lazy_Iterable_Wrapper(val_original_target, transform_lambda)\n",
    "test_processed_target  = Lazy_Iterable_Wrapper(test_original_target, transform_lambda)\n",
    "\n",
    "datasets = EasyDict({\n",
    "    \"source\": {\n",
    "        \"original\": {\"train\":train_original_source, \"val\":val_original_source, \"test\":test_original_source},\n",
    "        \"processed\": {\"train\":train_processed_source, \"val\":val_processed_source, \"test\":test_processed_source}\n",
    "    },\n",
    "    \"target\": {\n",
    "        \"original\": {\"train\":train_original_target, \"val\":val_original_target, \"test\":test_original_target},\n",
    "        \"processed\": {\"train\":train_processed_target, \"val\":val_processed_target, \"test\":test_processed_target}\n",
    "    },\n",
    "})"
   ]
  },
  {
   "cell_type": "code",
   "execution_count": 11,
   "id": "296189d9",
   "metadata": {
    "execution": {
     "iopub.execute_input": "2022-03-22T17:12:23.290937Z",
     "iopub.status.busy": "2022-03-22T17:12:23.290677Z",
     "iopub.status.idle": "2022-03-22T17:12:25.019883Z",
     "shell.execute_reply": "2022-03-22T17:12:25.019327Z"
    },
    "papermill": {
     "duration": 1.742188,
     "end_time": "2022-03-22T17:12:25.020004",
     "exception": false,
     "start_time": "2022-03-22T17:12:23.277816",
     "status": "completed"
    },
    "tags": []
   },
   "outputs": [
    {
     "name": "stdout",
     "output_type": "stream",
     "text": [
      "Visually inspect these to see if they line up with expected values given the transforms\n",
      "x_transforms_source ['unit_power']\n",
      "x_transforms_target ['unit_power']\n",
      "Average magnitude, source: 0.8525984\n",
      "Average power, source: 1.0\n"
     ]
    },
    {
     "name": "stdout",
     "output_type": "stream",
     "text": [
      "Average magnitude, target: 0.8961806\n",
      "Average power, target: 1.0\n"
     ]
    }
   ],
   "source": [
    "# Some quick unit tests on the data\n",
    "from steves_utils.transforms import get_average_power, get_average_magnitude\n",
    "\n",
    "q_x, q_y, s_x, s_y, truth = next(iter(train_processed_source))\n",
    "\n",
    "assert q_x.dtype == eval(p.torch_default_dtype)\n",
    "assert s_x.dtype == eval(p.torch_default_dtype)\n",
    "\n",
    "print(\"Visually inspect these to see if they line up with expected values given the transforms\")\n",
    "print('x_transforms_source', p.x_transforms_source)\n",
    "print('x_transforms_target', p.x_transforms_target)\n",
    "print(\"Average magnitude, source:\", get_average_magnitude(q_x[0].numpy()))\n",
    "print(\"Average power, source:\", get_average_power(q_x[0].numpy()))\n",
    "\n",
    "q_x, q_y, s_x, s_y, truth = next(iter(train_processed_target))\n",
    "print(\"Average magnitude, target:\", get_average_magnitude(q_x[0].numpy()))\n",
    "print(\"Average power, target:\", get_average_power(q_x[0].numpy()))\n"
   ]
  },
  {
   "cell_type": "code",
   "execution_count": 12,
   "id": "bbdacba1",
   "metadata": {
    "execution": {
     "iopub.execute_input": "2022-03-22T17:12:25.053964Z",
     "iopub.status.busy": "2022-03-22T17:12:25.053699Z",
     "iopub.status.idle": "2022-03-22T17:12:25.118562Z",
     "shell.execute_reply": "2022-03-22T17:12:25.118295Z"
    },
    "papermill": {
     "duration": 0.079816,
     "end_time": "2022-03-22T17:12:25.118623",
     "exception": false,
     "start_time": "2022-03-22T17:12:25.038807",
     "status": "completed"
    },
    "tags": []
   },
   "outputs": [
    {
     "name": "stdout",
     "output_type": "stream",
     "text": [
      "(2, 256)\n"
     ]
    }
   ],
   "source": [
    "###################################\n",
    "# Build the model\n",
    "###################################\n",
    "model = Steves_Prototypical_Network(x_net, device=p.device, x_shape=(2,256))\n",
    "optimizer = Adam(params=model.parameters(), lr=p.lr)"
   ]
  },
  {
   "cell_type": "code",
   "execution_count": 13,
   "id": "22b39ac5",
   "metadata": {
    "execution": {
     "iopub.execute_input": "2022-03-22T17:12:25.142683Z",
     "iopub.status.busy": "2022-03-22T17:12:25.142428Z",
     "iopub.status.idle": "2022-03-22T17:14:46.491438Z",
     "shell.execute_reply": "2022-03-22T17:14:46.490962Z"
    },
    "papermill": {
     "duration": 141.361853,
     "end_time": "2022-03-22T17:14:46.491538",
     "exception": false,
     "start_time": "2022-03-22T17:12:25.129685",
     "status": "completed"
    },
    "tags": []
   },
   "outputs": [
    {
     "name": "stdout",
     "output_type": "stream",
     "text": [
      "epoch: 1, [batch: 1 / 45], examples_per_second: 1938.8770, train_label_loss: 4.7166, \n"
     ]
    },
    {
     "name": "stdout",
     "output_type": "stream",
     "text": [
      "epoch: 1, [batch: 5 / 45], examples_per_second: 3911.9851, train_label_loss: 4.0748, \n"
     ]
    },
    {
     "name": "stdout",
     "output_type": "stream",
     "text": [
      "epoch: 1, [batch: 9 / 45], examples_per_second: 4000.2679, train_label_loss: 3.4374, \n"
     ]
    },
    {
     "name": "stdout",
     "output_type": "stream",
     "text": [
      "epoch: 1, [batch: 14 / 45], examples_per_second: 3998.4360, train_label_loss: 2.7074, \n"
     ]
    },
    {
     "name": "stdout",
     "output_type": "stream",
     "text": [
      "epoch: 1, [batch: 18 / 45], examples_per_second: 4019.4280, train_label_loss: 2.4061, \n"
     ]
    },
    {
     "name": "stdout",
     "output_type": "stream",
     "text": [
      "epoch: 1, [batch: 23 / 45], examples_per_second: 3962.9736, train_label_loss: 1.9656, \n"
     ]
    },
    {
     "name": "stdout",
     "output_type": "stream",
     "text": [
      "epoch: 1, [batch: 27 / 45], examples_per_second: 4069.9422, train_label_loss: 1.9441, \n"
     ]
    },
    {
     "name": "stdout",
     "output_type": "stream",
     "text": [
      "epoch: 1, [batch: 31 / 45], examples_per_second: 4072.8561, train_label_loss: 1.7045, \n"
     ]
    },
    {
     "name": "stdout",
     "output_type": "stream",
     "text": [
      "epoch: 1, [batch: 36 / 45], examples_per_second: 4104.8325, train_label_loss: 1.5564, \n"
     ]
    },
    {
     "name": "stdout",
     "output_type": "stream",
     "text": [
      "epoch: 1, [batch: 40 / 45], examples_per_second: 4153.5307, train_label_loss: 1.3564, \n"
     ]
    },
    {
     "name": "stdout",
     "output_type": "stream",
     "text": [
      "=============================================================\n",
      "epoch: 1, source_val_acc_label: 0.7987, target_val_acc_label: 0.7226, source_val_label_loss: 1.3384, target_val_label_loss: 1.5925, \n",
      "=============================================================\n"
     ]
    },
    {
     "name": "stdout",
     "output_type": "stream",
     "text": [
      "New best\n"
     ]
    },
    {
     "name": "stdout",
     "output_type": "stream",
     "text": [
      "epoch: 2, [batch: 1 / 45], examples_per_second: 496.4920, train_label_loss: 1.2974, \n"
     ]
    },
    {
     "name": "stdout",
     "output_type": "stream",
     "text": [
      "epoch: 2, [batch: 5 / 45], examples_per_second: 3982.2609, train_label_loss: 1.3825, \n"
     ]
    },
    {
     "name": "stdout",
     "output_type": "stream",
     "text": [
      "epoch: 2, [batch: 9 / 45], examples_per_second: 4083.7598, train_label_loss: 1.1852, \n"
     ]
    },
    {
     "name": "stdout",
     "output_type": "stream",
     "text": [
      "epoch: 2, [batch: 14 / 45], examples_per_second: 4077.9555, train_label_loss: 1.0691, \n"
     ]
    },
    {
     "name": "stdout",
     "output_type": "stream",
     "text": [
      "epoch: 2, [batch: 18 / 45], examples_per_second: 4087.4579, train_label_loss: 1.1142, \n"
     ]
    },
    {
     "name": "stdout",
     "output_type": "stream",
     "text": [
      "epoch: 2, [batch: 23 / 45], examples_per_second: 4034.3668, train_label_loss: 0.8100, \n"
     ]
    },
    {
     "name": "stdout",
     "output_type": "stream",
     "text": [
      "epoch: 2, [batch: 27 / 45], examples_per_second: 4140.9479, train_label_loss: 0.9019, \n"
     ]
    },
    {
     "name": "stdout",
     "output_type": "stream",
     "text": [
      "epoch: 2, [batch: 31 / 45], examples_per_second: 4135.1836, train_label_loss: 1.1830, \n"
     ]
    },
    {
     "name": "stdout",
     "output_type": "stream",
     "text": [
      "epoch: 2, [batch: 36 / 45], examples_per_second: 4168.6826, train_label_loss: 0.8450, \n"
     ]
    },
    {
     "name": "stdout",
     "output_type": "stream",
     "text": [
      "epoch: 2, [batch: 40 / 45], examples_per_second: 4230.6830, train_label_loss: 0.8144, \n"
     ]
    },
    {
     "name": "stdout",
     "output_type": "stream",
     "text": [
      "=============================================================\n",
      "epoch: 2, source_val_acc_label: 0.8532, target_val_acc_label: 0.7801, source_val_label_loss: 0.8942, target_val_label_loss: 1.2057, \n",
      "=============================================================\n"
     ]
    },
    {
     "name": "stdout",
     "output_type": "stream",
     "text": [
      "New best\n"
     ]
    },
    {
     "name": "stdout",
     "output_type": "stream",
     "text": [
      "epoch: 3, [batch: 1 / 45], examples_per_second: 490.4692, train_label_loss: 0.7254, \n"
     ]
    },
    {
     "name": "stdout",
     "output_type": "stream",
     "text": [
      "epoch: 3, [batch: 5 / 45], examples_per_second: 3984.6181, train_label_loss: 0.8514, \n"
     ]
    },
    {
     "name": "stdout",
     "output_type": "stream",
     "text": [
      "epoch: 3, [batch: 9 / 45], examples_per_second: 4075.8519, train_label_loss: 0.8693, \n"
     ]
    },
    {
     "name": "stdout",
     "output_type": "stream",
     "text": [
      "epoch: 3, [batch: 14 / 45], examples_per_second: 4088.4545, train_label_loss: 0.7663, \n"
     ]
    },
    {
     "name": "stdout",
     "output_type": "stream",
     "text": [
      "epoch: 3, [batch: 18 / 45], examples_per_second: 4096.4247, train_label_loss: 0.7403, \n"
     ]
    },
    {
     "name": "stdout",
     "output_type": "stream",
     "text": [
      "epoch: 3, [batch: 23 / 45], examples_per_second: 4037.7188, train_label_loss: 0.7561, \n"
     ]
    },
    {
     "name": "stdout",
     "output_type": "stream",
     "text": [
      "epoch: 3, [batch: 27 / 45], examples_per_second: 4141.9608, train_label_loss: 0.6693, \n"
     ]
    },
    {
     "name": "stdout",
     "output_type": "stream",
     "text": [
      "epoch: 3, [batch: 31 / 45], examples_per_second: 4138.2215, train_label_loss: 0.4963, \n"
     ]
    },
    {
     "name": "stdout",
     "output_type": "stream",
     "text": [
      "epoch: 3, [batch: 36 / 45], examples_per_second: 4177.6039, train_label_loss: 0.5480, \n"
     ]
    },
    {
     "name": "stdout",
     "output_type": "stream",
     "text": [
      "epoch: 3, [batch: 40 / 45], examples_per_second: 4237.1909, train_label_loss: 0.6238, \n"
     ]
    },
    {
     "name": "stdout",
     "output_type": "stream",
     "text": [
      "=============================================================\n",
      "epoch: 3, source_val_acc_label: 0.8885, target_val_acc_label: 0.8092, source_val_label_loss: 0.6775, target_val_label_loss: 1.0419, \n",
      "=============================================================\n"
     ]
    },
    {
     "name": "stdout",
     "output_type": "stream",
     "text": [
      "New best\n"
     ]
    },
    {
     "name": "stdout",
     "output_type": "stream",
     "text": [
      "epoch: 4, [batch: 1 / 45], examples_per_second: 489.8790, train_label_loss: 0.4584, \n"
     ]
    },
    {
     "name": "stdout",
     "output_type": "stream",
     "text": [
      "epoch: 4, [batch: 5 / 45], examples_per_second: 3971.3451, train_label_loss: 0.6746, \n"
     ]
    },
    {
     "name": "stdout",
     "output_type": "stream",
     "text": [
      "epoch: 4, [batch: 9 / 45], examples_per_second: 4077.6457, train_label_loss: 0.5697, \n"
     ]
    },
    {
     "name": "stdout",
     "output_type": "stream",
     "text": [
      "epoch: 4, [batch: 14 / 45], examples_per_second: 4083.6619, train_label_loss: 0.5981, \n"
     ]
    },
    {
     "name": "stdout",
     "output_type": "stream",
     "text": [
      "epoch: 4, [batch: 18 / 45], examples_per_second: 4095.5277, train_label_loss: 0.4743, \n"
     ]
    },
    {
     "name": "stdout",
     "output_type": "stream",
     "text": [
      "epoch: 4, [batch: 23 / 45], examples_per_second: 4025.8310, train_label_loss: 0.6366, \n"
     ]
    },
    {
     "name": "stdout",
     "output_type": "stream",
     "text": [
      "epoch: 4, [batch: 27 / 45], examples_per_second: 4118.5107, train_label_loss: 0.6245, \n"
     ]
    },
    {
     "name": "stdout",
     "output_type": "stream",
     "text": [
      "epoch: 4, [batch: 31 / 45], examples_per_second: 4130.8337, train_label_loss: 0.4337, \n"
     ]
    },
    {
     "name": "stdout",
     "output_type": "stream",
     "text": [
      "epoch: 4, [batch: 36 / 45], examples_per_second: 4173.4930, train_label_loss: 0.4605, \n"
     ]
    },
    {
     "name": "stdout",
     "output_type": "stream",
     "text": [
      "epoch: 4, [batch: 40 / 45], examples_per_second: 4232.3644, train_label_loss: 0.3462, \n"
     ]
    },
    {
     "name": "stdout",
     "output_type": "stream",
     "text": [
      "=============================================================\n",
      "epoch: 4, source_val_acc_label: 0.9064, target_val_acc_label: 0.8265, source_val_label_loss: 0.5274, target_val_label_loss: 0.9328, \n",
      "=============================================================\n"
     ]
    },
    {
     "name": "stdout",
     "output_type": "stream",
     "text": [
      "New best\n"
     ]
    },
    {
     "name": "stdout",
     "output_type": "stream",
     "text": [
      "epoch: 5, [batch: 1 / 45], examples_per_second: 492.4220, train_label_loss: 0.3326, \n"
     ]
    },
    {
     "name": "stdout",
     "output_type": "stream",
     "text": [
      "epoch: 5, [batch: 5 / 45], examples_per_second: 3980.0531, train_label_loss: 0.3906, \n"
     ]
    },
    {
     "name": "stdout",
     "output_type": "stream",
     "text": [
      "epoch: 5, [batch: 9 / 45], examples_per_second: 4085.8146, train_label_loss: 0.4698, \n"
     ]
    },
    {
     "name": "stdout",
     "output_type": "stream",
     "text": [
      "epoch: 5, [batch: 14 / 45], examples_per_second: 4092.6808, train_label_loss: 0.2461, \n"
     ]
    },
    {
     "name": "stdout",
     "output_type": "stream",
     "text": [
      "epoch: 5, [batch: 18 / 45], examples_per_second: 4091.7767, train_label_loss: 0.5252, \n"
     ]
    },
    {
     "name": "stdout",
     "output_type": "stream",
     "text": [
      "epoch: 5, [batch: 23 / 45], examples_per_second: 4031.5330, train_label_loss: 0.4167, \n"
     ]
    },
    {
     "name": "stdout",
     "output_type": "stream",
     "text": [
      "epoch: 5, [batch: 27 / 45], examples_per_second: 4131.0497, train_label_loss: 0.2923, \n"
     ]
    },
    {
     "name": "stdout",
     "output_type": "stream",
     "text": [
      "epoch: 5, [batch: 31 / 45], examples_per_second: 4136.4996, train_label_loss: 0.4047, \n"
     ]
    },
    {
     "name": "stdout",
     "output_type": "stream",
     "text": [
      "epoch: 5, [batch: 36 / 45], examples_per_second: 4179.4829, train_label_loss: 0.2658, \n"
     ]
    },
    {
     "name": "stdout",
     "output_type": "stream",
     "text": [
      "epoch: 5, [batch: 40 / 45], examples_per_second: 4231.6565, train_label_loss: 0.4162, \n"
     ]
    },
    {
     "name": "stdout",
     "output_type": "stream",
     "text": [
      "=============================================================\n",
      "epoch: 5, source_val_acc_label: 0.9192, target_val_acc_label: 0.8391, source_val_label_loss: 0.4508, target_val_label_loss: 0.8537, \n",
      "=============================================================\n"
     ]
    },
    {
     "name": "stdout",
     "output_type": "stream",
     "text": [
      "New best\n"
     ]
    },
    {
     "name": "stdout",
     "output_type": "stream",
     "text": [
      "epoch: 6, [batch: 1 / 45], examples_per_second: 484.6548, train_label_loss: 0.3317, \n"
     ]
    },
    {
     "name": "stdout",
     "output_type": "stream",
     "text": [
      "epoch: 6, [batch: 5 / 45], examples_per_second: 3973.9717, train_label_loss: 0.3255, \n"
     ]
    },
    {
     "name": "stdout",
     "output_type": "stream",
     "text": [
      "epoch: 6, [batch: 9 / 45], examples_per_second: 4074.8178, train_label_loss: 0.2699, \n"
     ]
    },
    {
     "name": "stdout",
     "output_type": "stream",
     "text": [
      "epoch: 6, [batch: 14 / 45], examples_per_second: 4083.9225, train_label_loss: 0.2917, \n"
     ]
    },
    {
     "name": "stdout",
     "output_type": "stream",
     "text": [
      "epoch: 6, [batch: 18 / 45], examples_per_second: 4066.3516, train_label_loss: 0.2340, \n"
     ]
    },
    {
     "name": "stdout",
     "output_type": "stream",
     "text": [
      "epoch: 6, [batch: 23 / 45], examples_per_second: 4020.3799, train_label_loss: 0.3486, \n"
     ]
    },
    {
     "name": "stdout",
     "output_type": "stream",
     "text": [
      "epoch: 6, [batch: 27 / 45], examples_per_second: 4121.2112, train_label_loss: 0.3737, \n"
     ]
    },
    {
     "name": "stdout",
     "output_type": "stream",
     "text": [
      "epoch: 6, [batch: 31 / 45], examples_per_second: 4130.7492, train_label_loss: 0.4236, \n"
     ]
    },
    {
     "name": "stdout",
     "output_type": "stream",
     "text": [
      "epoch: 6, [batch: 36 / 45], examples_per_second: 4163.0898, train_label_loss: 0.3522, \n"
     ]
    },
    {
     "name": "stdout",
     "output_type": "stream",
     "text": [
      "epoch: 6, [batch: 40 / 45], examples_per_second: 4222.6837, train_label_loss: 0.2236, \n"
     ]
    },
    {
     "name": "stdout",
     "output_type": "stream",
     "text": [
      "=============================================================\n",
      "epoch: 6, source_val_acc_label: 0.9359, target_val_acc_label: 0.8549, source_val_label_loss: 0.3796, target_val_label_loss: 0.8037, \n",
      "=============================================================\n"
     ]
    },
    {
     "name": "stdout",
     "output_type": "stream",
     "text": [
      "New best\n"
     ]
    },
    {
     "name": "stdout",
     "output_type": "stream",
     "text": [
      "epoch: 7, [batch: 1 / 45], examples_per_second: 490.4083, train_label_loss: 0.3355, \n"
     ]
    },
    {
     "name": "stdout",
     "output_type": "stream",
     "text": [
      "epoch: 7, [batch: 5 / 45], examples_per_second: 3989.8181, train_label_loss: 0.2783, \n"
     ]
    },
    {
     "name": "stdout",
     "output_type": "stream",
     "text": [
      "epoch: 7, [batch: 9 / 45], examples_per_second: 4071.9680, train_label_loss: 0.3409, \n"
     ]
    },
    {
     "name": "stdout",
     "output_type": "stream",
     "text": [
      "epoch: 7, [batch: 14 / 45], examples_per_second: 4084.4658, train_label_loss: 0.1451, \n"
     ]
    },
    {
     "name": "stdout",
     "output_type": "stream",
     "text": [
      "epoch: 7, [batch: 18 / 45], examples_per_second: 4080.0745, train_label_loss: 0.4133, \n"
     ]
    },
    {
     "name": "stdout",
     "output_type": "stream",
     "text": [
      "epoch: 7, [batch: 23 / 45], examples_per_second: 4013.4068, train_label_loss: 0.2924, \n"
     ]
    },
    {
     "name": "stdout",
     "output_type": "stream",
     "text": [
      "epoch: 7, [batch: 27 / 45], examples_per_second: 4123.0061, train_label_loss: 0.2280, \n"
     ]
    },
    {
     "name": "stdout",
     "output_type": "stream",
     "text": [
      "epoch: 7, [batch: 31 / 45], examples_per_second: 4131.8041, train_label_loss: 0.2422, \n"
     ]
    },
    {
     "name": "stdout",
     "output_type": "stream",
     "text": [
      "epoch: 7, [batch: 36 / 45], examples_per_second: 4167.4248, train_label_loss: 0.0966, \n"
     ]
    },
    {
     "name": "stdout",
     "output_type": "stream",
     "text": [
      "epoch: 7, [batch: 40 / 45], examples_per_second: 4217.5900, train_label_loss: 0.3090, \n"
     ]
    },
    {
     "name": "stdout",
     "output_type": "stream",
     "text": [
      "=============================================================\n",
      "epoch: 7, source_val_acc_label: 0.9442, target_val_acc_label: 0.8577, source_val_label_loss: 0.3510, target_val_label_loss: 0.7832, \n",
      "=============================================================\n"
     ]
    },
    {
     "name": "stdout",
     "output_type": "stream",
     "text": [
      "New best\n"
     ]
    },
    {
     "name": "stdout",
     "output_type": "stream",
     "text": [
      "epoch: 8, [batch: 1 / 45], examples_per_second: 491.5887, train_label_loss: 0.1422, \n"
     ]
    },
    {
     "name": "stdout",
     "output_type": "stream",
     "text": [
      "epoch: 8, [batch: 5 / 45], examples_per_second: 3970.8172, train_label_loss: 0.1631, \n"
     ]
    },
    {
     "name": "stdout",
     "output_type": "stream",
     "text": [
      "epoch: 8, [batch: 9 / 45], examples_per_second: 4082.4939, train_label_loss: 0.1976, \n"
     ]
    },
    {
     "name": "stdout",
     "output_type": "stream",
     "text": [
      "epoch: 8, [batch: 14 / 45], examples_per_second: 4075.7011, train_label_loss: 0.2686, \n"
     ]
    },
    {
     "name": "stdout",
     "output_type": "stream",
     "text": [
      "epoch: 8, [batch: 18 / 45], examples_per_second: 4071.3143, train_label_loss: 0.1933, \n"
     ]
    },
    {
     "name": "stdout",
     "output_type": "stream",
     "text": [
      "epoch: 8, [batch: 23 / 45], examples_per_second: 4015.9465, train_label_loss: 0.2688, \n"
     ]
    },
    {
     "name": "stdout",
     "output_type": "stream",
     "text": [
      "epoch: 8, [batch: 27 / 45], examples_per_second: 4129.7309, train_label_loss: 0.1923, \n"
     ]
    },
    {
     "name": "stdout",
     "output_type": "stream",
     "text": [
      "epoch: 8, [batch: 31 / 45], examples_per_second: 4125.8920, train_label_loss: 0.3311, \n"
     ]
    },
    {
     "name": "stdout",
     "output_type": "stream",
     "text": [
      "epoch: 8, [batch: 36 / 45], examples_per_second: 4169.4388, train_label_loss: 0.1452, \n"
     ]
    },
    {
     "name": "stdout",
     "output_type": "stream",
     "text": [
      "epoch: 8, [batch: 40 / 45], examples_per_second: 4222.1147, train_label_loss: 0.2292, \n"
     ]
    },
    {
     "name": "stdout",
     "output_type": "stream",
     "text": [
      "=============================================================\n",
      "epoch: 8, source_val_acc_label: 0.9481, target_val_acc_label: 0.8594, source_val_label_loss: 0.3420, target_val_label_loss: 0.7824, \n",
      "=============================================================\n"
     ]
    },
    {
     "name": "stdout",
     "output_type": "stream",
     "text": [
      "New best\n"
     ]
    },
    {
     "name": "stdout",
     "output_type": "stream",
     "text": [
      "epoch: 9, [batch: 1 / 45], examples_per_second: 486.5890, train_label_loss: 0.1793, \n"
     ]
    },
    {
     "name": "stdout",
     "output_type": "stream",
     "text": [
      "epoch: 9, [batch: 5 / 45], examples_per_second: 3974.0369, train_label_loss: 0.1862, \n"
     ]
    },
    {
     "name": "stdout",
     "output_type": "stream",
     "text": [
      "epoch: 9, [batch: 9 / 45], examples_per_second: 4073.3734, train_label_loss: 0.2605, \n"
     ]
    },
    {
     "name": "stdout",
     "output_type": "stream",
     "text": [
      "epoch: 9, [batch: 14 / 45], examples_per_second: 4071.7421, train_label_loss: 0.1624, \n"
     ]
    },
    {
     "name": "stdout",
     "output_type": "stream",
     "text": [
      "epoch: 9, [batch: 18 / 45], examples_per_second: 4066.5199, train_label_loss: 0.2654, \n"
     ]
    },
    {
     "name": "stdout",
     "output_type": "stream",
     "text": [
      "epoch: 9, [batch: 23 / 45], examples_per_second: 4012.0590, train_label_loss: 0.1599, \n"
     ]
    },
    {
     "name": "stdout",
     "output_type": "stream",
     "text": [
      "epoch: 9, [batch: 27 / 45], examples_per_second: 4129.1555, train_label_loss: 0.2209, \n"
     ]
    },
    {
     "name": "stdout",
     "output_type": "stream",
     "text": [
      "epoch: 9, [batch: 31 / 45], examples_per_second: 4088.3957, train_label_loss: 0.2049, \n"
     ]
    },
    {
     "name": "stdout",
     "output_type": "stream",
     "text": [
      "epoch: 9, [batch: 36 / 45], examples_per_second: 4120.2261, train_label_loss: 0.1527, \n"
     ]
    },
    {
     "name": "stdout",
     "output_type": "stream",
     "text": [
      "epoch: 9, [batch: 40 / 45], examples_per_second: 4224.6173, train_label_loss: 0.1333, \n"
     ]
    },
    {
     "name": "stdout",
     "output_type": "stream",
     "text": [
      "=============================================================\n",
      "epoch: 9, source_val_acc_label: 0.9506, target_val_acc_label: 0.8647, source_val_label_loss: 0.3238, target_val_label_loss: 0.7680, \n",
      "=============================================================\n"
     ]
    },
    {
     "name": "stdout",
     "output_type": "stream",
     "text": [
      "New best\n"
     ]
    },
    {
     "name": "stdout",
     "output_type": "stream",
     "text": [
      "epoch: 10, [batch: 1 / 45], examples_per_second: 489.5369, train_label_loss: 0.0944, \n"
     ]
    },
    {
     "name": "stdout",
     "output_type": "stream",
     "text": [
      "epoch: 10, [batch: 5 / 45], examples_per_second: 3975.2103, train_label_loss: 0.1096, \n"
     ]
    },
    {
     "name": "stdout",
     "output_type": "stream",
     "text": [
      "epoch: 10, [batch: 9 / 45], examples_per_second: 4081.3556, train_label_loss: 0.1987, \n"
     ]
    },
    {
     "name": "stdout",
     "output_type": "stream",
     "text": [
      "epoch: 10, [batch: 14 / 45], examples_per_second: 4064.8407, train_label_loss: 0.1038, \n"
     ]
    },
    {
     "name": "stdout",
     "output_type": "stream",
     "text": [
      "epoch: 10, [batch: 18 / 45], examples_per_second: 4072.4896, train_label_loss: 0.2764, \n"
     ]
    },
    {
     "name": "stdout",
     "output_type": "stream",
     "text": [
      "epoch: 10, [batch: 23 / 45], examples_per_second: 4009.0501, train_label_loss: 0.0321, \n"
     ]
    },
    {
     "name": "stdout",
     "output_type": "stream",
     "text": [
      "epoch: 10, [batch: 27 / 45], examples_per_second: 4120.3251, train_label_loss: 0.2225, \n"
     ]
    },
    {
     "name": "stdout",
     "output_type": "stream",
     "text": [
      "epoch: 10, [batch: 31 / 45], examples_per_second: 4112.4256, train_label_loss: 0.1221, \n"
     ]
    },
    {
     "name": "stdout",
     "output_type": "stream",
     "text": [
      "epoch: 10, [batch: 36 / 45], examples_per_second: 4154.4861, train_label_loss: 0.3153, \n"
     ]
    },
    {
     "name": "stdout",
     "output_type": "stream",
     "text": [
      "epoch: 10, [batch: 40 / 45], examples_per_second: 4207.5399, train_label_loss: 0.0649, \n"
     ]
    },
    {
     "name": "stdout",
     "output_type": "stream",
     "text": [
      "=============================================================\n",
      "epoch: 10, source_val_acc_label: 0.9526, target_val_acc_label: 0.8613, source_val_label_loss: 0.3210, target_val_label_loss: 0.7370, \n",
      "=============================================================\n"
     ]
    },
    {
     "name": "stdout",
     "output_type": "stream",
     "text": [
      "epoch: 11, [batch: 1 / 45], examples_per_second: 500.4658, train_label_loss: 0.2113, \n"
     ]
    },
    {
     "name": "stdout",
     "output_type": "stream",
     "text": [
      "epoch: 11, [batch: 5 / 45], examples_per_second: 3979.0017, train_label_loss: 0.1040, \n"
     ]
    },
    {
     "name": "stdout",
     "output_type": "stream",
     "text": [
      "epoch: 11, [batch: 9 / 45], examples_per_second: 4073.7157, train_label_loss: 0.2164, \n"
     ]
    },
    {
     "name": "stdout",
     "output_type": "stream",
     "text": [
      "epoch: 11, [batch: 14 / 45], examples_per_second: 4060.0415, train_label_loss: 0.2483, \n"
     ]
    },
    {
     "name": "stdout",
     "output_type": "stream",
     "text": [
      "epoch: 11, [batch: 18 / 45], examples_per_second: 4068.6424, train_label_loss: 0.1321, \n"
     ]
    },
    {
     "name": "stdout",
     "output_type": "stream",
     "text": [
      "epoch: 11, [batch: 23 / 45], examples_per_second: 4008.0941, train_label_loss: 0.0930, \n"
     ]
    },
    {
     "name": "stdout",
     "output_type": "stream",
     "text": [
      "epoch: 11, [batch: 27 / 45], examples_per_second: 4119.4349, train_label_loss: 0.1318, \n"
     ]
    },
    {
     "name": "stdout",
     "output_type": "stream",
     "text": [
      "epoch: 11, [batch: 31 / 45], examples_per_second: 4124.9478, train_label_loss: 0.0824, \n"
     ]
    },
    {
     "name": "stdout",
     "output_type": "stream",
     "text": [
      "epoch: 11, [batch: 36 / 45], examples_per_second: 4164.7255, train_label_loss: 0.0778, \n"
     ]
    },
    {
     "name": "stdout",
     "output_type": "stream",
     "text": [
      "epoch: 11, [batch: 40 / 45], examples_per_second: 4209.3118, train_label_loss: 0.1086, \n"
     ]
    },
    {
     "name": "stdout",
     "output_type": "stream",
     "text": [
      "=============================================================\n",
      "epoch: 11, source_val_acc_label: 0.9526, target_val_acc_label: 0.8624, source_val_label_loss: 0.3139, target_val_label_loss: 0.7502, \n",
      "=============================================================\n"
     ]
    },
    {
     "name": "stdout",
     "output_type": "stream",
     "text": [
      "epoch: 12, [batch: 1 / 45], examples_per_second: 501.9624, train_label_loss: 0.1006, \n"
     ]
    },
    {
     "name": "stdout",
     "output_type": "stream",
     "text": [
      "epoch: 12, [batch: 5 / 45], examples_per_second: 3967.9681, train_label_loss: 0.2277, \n"
     ]
    },
    {
     "name": "stdout",
     "output_type": "stream",
     "text": [
      "epoch: 12, [batch: 9 / 45], examples_per_second: 4059.6592, train_label_loss: 0.1670, \n"
     ]
    },
    {
     "name": "stdout",
     "output_type": "stream",
     "text": [
      "epoch: 12, [batch: 14 / 45], examples_per_second: 4060.8326, train_label_loss: 0.1009, \n"
     ]
    },
    {
     "name": "stdout",
     "output_type": "stream",
     "text": [
      "epoch: 12, [batch: 18 / 45], examples_per_second: 4063.8649, train_label_loss: 0.0891, \n"
     ]
    },
    {
     "name": "stdout",
     "output_type": "stream",
     "text": [
      "epoch: 12, [batch: 23 / 45], examples_per_second: 4004.6723, train_label_loss: 0.1120, \n"
     ]
    },
    {
     "name": "stdout",
     "output_type": "stream",
     "text": [
      "epoch: 12, [batch: 27 / 45], examples_per_second: 4116.0205, train_label_loss: 0.2186, \n"
     ]
    },
    {
     "name": "stdout",
     "output_type": "stream",
     "text": [
      "epoch: 12, [batch: 31 / 45], examples_per_second: 4110.4771, train_label_loss: 0.1243, \n"
     ]
    },
    {
     "name": "stdout",
     "output_type": "stream",
     "text": [
      "epoch: 12, [batch: 36 / 45], examples_per_second: 4154.6495, train_label_loss: 0.2361, \n"
     ]
    },
    {
     "name": "stdout",
     "output_type": "stream",
     "text": [
      "epoch: 12, [batch: 40 / 45], examples_per_second: 4213.6056, train_label_loss: 0.1132, \n"
     ]
    },
    {
     "name": "stdout",
     "output_type": "stream",
     "text": [
      "=============================================================\n",
      "epoch: 12, source_val_acc_label: 0.9545, target_val_acc_label: 0.8694, source_val_label_loss: 0.3057, target_val_label_loss: 0.7094, \n",
      "=============================================================\n"
     ]
    },
    {
     "name": "stdout",
     "output_type": "stream",
     "text": [
      "New best\n"
     ]
    },
    {
     "name": "stdout",
     "output_type": "stream",
     "text": [
      "epoch: 13, [batch: 1 / 45], examples_per_second: 486.6444, train_label_loss: 0.2206, \n"
     ]
    },
    {
     "name": "stdout",
     "output_type": "stream",
     "text": [
      "epoch: 13, [batch: 5 / 45], examples_per_second: 3964.5593, train_label_loss: 0.1483, \n"
     ]
    },
    {
     "name": "stdout",
     "output_type": "stream",
     "text": [
      "epoch: 13, [batch: 9 / 45], examples_per_second: 4069.5823, train_label_loss: 0.1888, \n"
     ]
    },
    {
     "name": "stdout",
     "output_type": "stream",
     "text": [
      "epoch: 13, [batch: 14 / 45], examples_per_second: 4066.7798, train_label_loss: 0.1244, \n"
     ]
    },
    {
     "name": "stdout",
     "output_type": "stream",
     "text": [
      "epoch: 13, [batch: 18 / 45], examples_per_second: 4066.3667, train_label_loss: 0.0847, \n"
     ]
    },
    {
     "name": "stdout",
     "output_type": "stream",
     "text": [
      "epoch: 13, [batch: 23 / 45], examples_per_second: 4019.5109, train_label_loss: 0.1262, \n"
     ]
    },
    {
     "name": "stdout",
     "output_type": "stream",
     "text": [
      "epoch: 13, [batch: 27 / 45], examples_per_second: 4128.9475, train_label_loss: 0.0954, \n"
     ]
    },
    {
     "name": "stdout",
     "output_type": "stream",
     "text": [
      "epoch: 13, [batch: 31 / 45], examples_per_second: 4123.4099, train_label_loss: 0.1495, \n"
     ]
    },
    {
     "name": "stdout",
     "output_type": "stream",
     "text": [
      "epoch: 13, [batch: 36 / 45], examples_per_second: 4157.7706, train_label_loss: 0.1454, \n"
     ]
    },
    {
     "name": "stdout",
     "output_type": "stream",
     "text": [
      "epoch: 13, [batch: 40 / 45], examples_per_second: 4213.9231, train_label_loss: 0.1632, \n"
     ]
    },
    {
     "name": "stdout",
     "output_type": "stream",
     "text": [
      "=============================================================\n",
      "epoch: 13, source_val_acc_label: 0.9532, target_val_acc_label: 0.8624, source_val_label_loss: 0.2967, target_val_label_loss: 0.7300, \n",
      "=============================================================\n"
     ]
    },
    {
     "name": "stdout",
     "output_type": "stream",
     "text": [
      "epoch: 14, [batch: 1 / 45], examples_per_second: 502.0912, train_label_loss: 0.1220, \n"
     ]
    },
    {
     "name": "stdout",
     "output_type": "stream",
     "text": [
      "epoch: 14, [batch: 5 / 45], examples_per_second: 3963.2885, train_label_loss: 0.0597, \n"
     ]
    },
    {
     "name": "stdout",
     "output_type": "stream",
     "text": [
      "epoch: 14, [batch: 9 / 45], examples_per_second: 4066.3288, train_label_loss: 0.1571, \n"
     ]
    },
    {
     "name": "stdout",
     "output_type": "stream",
     "text": [
      "epoch: 14, [batch: 14 / 45], examples_per_second: 4051.7750, train_label_loss: 0.1216, \n"
     ]
    },
    {
     "name": "stdout",
     "output_type": "stream",
     "text": [
      "epoch: 14, [batch: 18 / 45], examples_per_second: 4074.6336, train_label_loss: 0.1162, \n"
     ]
    },
    {
     "name": "stdout",
     "output_type": "stream",
     "text": [
      "epoch: 14, [batch: 23 / 45], examples_per_second: 4033.1934, train_label_loss: 0.1124, \n"
     ]
    },
    {
     "name": "stdout",
     "output_type": "stream",
     "text": [
      "epoch: 14, [batch: 27 / 45], examples_per_second: 4122.0804, train_label_loss: 0.1795, \n"
     ]
    },
    {
     "name": "stdout",
     "output_type": "stream",
     "text": [
      "epoch: 14, [batch: 31 / 45], examples_per_second: 4125.4924, train_label_loss: 0.0888, \n"
     ]
    },
    {
     "name": "stdout",
     "output_type": "stream",
     "text": [
      "epoch: 14, [batch: 36 / 45], examples_per_second: 4163.2818, train_label_loss: 0.0867, \n"
     ]
    },
    {
     "name": "stdout",
     "output_type": "stream",
     "text": [
      "epoch: 14, [batch: 40 / 45], examples_per_second: 4218.0516, train_label_loss: 0.0767, \n"
     ]
    },
    {
     "name": "stdout",
     "output_type": "stream",
     "text": [
      "=============================================================\n",
      "epoch: 14, source_val_acc_label: 0.9577, target_val_acc_label: 0.8694, source_val_label_loss: 0.3047, target_val_label_loss: 0.7239, \n",
      "=============================================================\n"
     ]
    },
    {
     "name": "stdout",
     "output_type": "stream",
     "text": [
      "epoch: 15, [batch: 1 / 45], examples_per_second: 502.4815, train_label_loss: 0.1342, \n"
     ]
    },
    {
     "name": "stdout",
     "output_type": "stream",
     "text": [
      "epoch: 15, [batch: 5 / 45], examples_per_second: 3967.3156, train_label_loss: 0.1180, \n"
     ]
    },
    {
     "name": "stdout",
     "output_type": "stream",
     "text": [
      "epoch: 15, [batch: 9 / 45], examples_per_second: 4066.3698, train_label_loss: 0.0649, \n"
     ]
    },
    {
     "name": "stdout",
     "output_type": "stream",
     "text": [
      "epoch: 15, [batch: 14 / 45], examples_per_second: 4068.5519, train_label_loss: 0.0563, \n"
     ]
    },
    {
     "name": "stdout",
     "output_type": "stream",
     "text": [
      "epoch: 15, [batch: 18 / 45], examples_per_second: 4069.9756, train_label_loss: 0.1107, \n"
     ]
    },
    {
     "name": "stdout",
     "output_type": "stream",
     "text": [
      "epoch: 15, [batch: 23 / 45], examples_per_second: 4015.6626, train_label_loss: 0.1081, \n"
     ]
    },
    {
     "name": "stdout",
     "output_type": "stream",
     "text": [
      "epoch: 15, [batch: 27 / 45], examples_per_second: 4121.5242, train_label_loss: 0.0955, \n"
     ]
    },
    {
     "name": "stdout",
     "output_type": "stream",
     "text": [
      "epoch: 15, [batch: 31 / 45], examples_per_second: 4118.7876, train_label_loss: 0.0873, \n"
     ]
    },
    {
     "name": "stdout",
     "output_type": "stream",
     "text": [
      "epoch: 15, [batch: 36 / 45], examples_per_second: 4158.1143, train_label_loss: 0.1071, \n"
     ]
    },
    {
     "name": "stdout",
     "output_type": "stream",
     "text": [
      "epoch: 15, [batch: 40 / 45], examples_per_second: 4212.6078, train_label_loss: 0.1843, \n"
     ]
    },
    {
     "name": "stdout",
     "output_type": "stream",
     "text": [
      "=============================================================\n",
      "epoch: 15, source_val_acc_label: 0.9577, target_val_acc_label: 0.8690, source_val_label_loss: 0.2945, target_val_label_loss: 0.7125, \n",
      "=============================================================\n"
     ]
    },
    {
     "name": "stdout",
     "output_type": "stream",
     "text": [
      "epoch: 16, [batch: 1 / 45], examples_per_second: 502.1136, train_label_loss: 0.0924, \n"
     ]
    },
    {
     "name": "stdout",
     "output_type": "stream",
     "text": [
      "epoch: 16, [batch: 5 / 45], examples_per_second: 3946.9273, train_label_loss: 0.1234, \n"
     ]
    },
    {
     "name": "stdout",
     "output_type": "stream",
     "text": [
      "epoch: 16, [batch: 9 / 45], examples_per_second: 4061.0409, train_label_loss: 0.0911, \n"
     ]
    },
    {
     "name": "stdout",
     "output_type": "stream",
     "text": [
      "epoch: 16, [batch: 14 / 45], examples_per_second: 4062.0354, train_label_loss: 0.1706, \n"
     ]
    },
    {
     "name": "stdout",
     "output_type": "stream",
     "text": [
      "epoch: 16, [batch: 18 / 45], examples_per_second: 4053.2961, train_label_loss: 0.1192, \n"
     ]
    },
    {
     "name": "stdout",
     "output_type": "stream",
     "text": [
      "epoch: 16, [batch: 23 / 45], examples_per_second: 3997.2002, train_label_loss: 0.0837, \n"
     ]
    },
    {
     "name": "stdout",
     "output_type": "stream",
     "text": [
      "epoch: 16, [batch: 27 / 45], examples_per_second: 4102.2433, train_label_loss: 0.0565, \n"
     ]
    },
    {
     "name": "stdout",
     "output_type": "stream",
     "text": [
      "epoch: 16, [batch: 31 / 45], examples_per_second: 4107.6159, train_label_loss: 0.0594, \n"
     ]
    },
    {
     "name": "stdout",
     "output_type": "stream",
     "text": [
      "epoch: 16, [batch: 36 / 45], examples_per_second: 4150.8668, train_label_loss: 0.0665, \n"
     ]
    },
    {
     "name": "stdout",
     "output_type": "stream",
     "text": [
      "epoch: 16, [batch: 40 / 45], examples_per_second: 4213.1188, train_label_loss: 0.0370, \n"
     ]
    },
    {
     "name": "stdout",
     "output_type": "stream",
     "text": [
      "=============================================================\n",
      "epoch: 16, source_val_acc_label: 0.9596, target_val_acc_label: 0.8690, source_val_label_loss: 0.3117, target_val_label_loss: 0.7213, \n",
      "=============================================================\n"
     ]
    },
    {
     "name": "stdout",
     "output_type": "stream",
     "text": [
      "Patience (3) exhausted\n"
     ]
    }
   ],
   "source": [
    "###################################\n",
    "# train\n",
    "###################################\n",
    "jig = PTN_Train_Eval_Test_Jig(model, p.BEST_MODEL_PATH, p.device)\n",
    "\n",
    "jig.train(\n",
    "    train_iterable=datasets.source.processed.train,\n",
    "    source_val_iterable=datasets.source.processed.val,\n",
    "    target_val_iterable=datasets.target.processed.val,\n",
    "    num_epochs=p.n_epoch,\n",
    "    num_logs_per_epoch=p.NUM_LOGS_PER_EPOCH,\n",
    "    patience=p.patience,\n",
    "    optimizer=optimizer,\n",
    "    criteria_for_best=p.criteria_for_best,\n",
    ")"
   ]
  },
  {
   "cell_type": "code",
   "execution_count": 14,
   "id": "31e8fabf",
   "metadata": {
    "execution": {
     "iopub.execute_input": "2022-03-22T17:14:46.581172Z",
     "iopub.status.busy": "2022-03-22T17:14:46.580922Z",
     "iopub.status.idle": "2022-03-22T17:14:46.598726Z",
     "shell.execute_reply": "2022-03-22T17:14:46.598357Z"
    },
    "papermill": {
     "duration": 0.062905,
     "end_time": "2022-03-22T17:14:46.598820",
     "exception": false,
     "start_time": "2022-03-22T17:14:46.535915",
     "status": "completed"
    },
    "tags": []
   },
   "outputs": [],
   "source": [
    "total_experiment_time_secs = time.time() - start_time_secs"
   ]
  },
  {
   "cell_type": "code",
   "execution_count": 15,
   "id": "87b9595b",
   "metadata": {
    "execution": {
     "iopub.execute_input": "2022-03-22T17:14:46.693163Z",
     "iopub.status.busy": "2022-03-22T17:14:46.692890Z",
     "iopub.status.idle": "2022-03-22T17:14:54.119703Z",
     "shell.execute_reply": "2022-03-22T17:14:54.119240Z"
    },
    "papermill": {
     "duration": 7.475065,
     "end_time": "2022-03-22T17:14:54.119811",
     "exception": false,
     "start_time": "2022-03-22T17:14:46.644746",
     "status": "completed"
    },
    "tags": []
   },
   "outputs": [],
   "source": [
    "###################################\n",
    "# Evaluate the model\n",
    "###################################\n",
    "source_test_label_accuracy, source_test_label_loss = jig.test(datasets.source.processed.test)\n",
    "target_test_label_accuracy, target_test_label_loss = jig.test(datasets.target.processed.test)\n",
    "\n",
    "source_val_label_accuracy, source_val_label_loss = jig.test(datasets.source.processed.val)\n",
    "target_val_label_accuracy, target_val_label_loss = jig.test(datasets.target.processed.val)\n",
    "\n",
    "history = jig.get_history()\n",
    "\n",
    "total_epochs_trained = len(history[\"epoch_indices\"])\n",
    "\n",
    "val_dl = Iterable_Aggregator((datasets.source.original.val,datasets.target.original.val))\n",
    "\n",
    "confusion = ptn_confusion_by_domain_over_dataloader(model, p.device, val_dl)\n",
    "per_domain_accuracy = per_domain_accuracy_from_confusion(confusion)\n",
    "\n",
    "# Add a key to per_domain_accuracy for if it was a source domain\n",
    "for domain, accuracy in per_domain_accuracy.items():\n",
    "    per_domain_accuracy[domain] = {\n",
    "        \"accuracy\": accuracy,\n",
    "        \"source?\": domain in p.domains_source\n",
    "    }\n",
    "\n",
    "# Do an independent accuracy assesment JUST TO BE SURE!\n",
    "# _source_test_label_accuracy = independent_accuracy_assesment(model, datasets.source.processed.test, p.device)\n",
    "# _target_test_label_accuracy = independent_accuracy_assesment(model, datasets.target.processed.test, p.device)\n",
    "# _source_val_label_accuracy = independent_accuracy_assesment(model, datasets.source.processed.val, p.device)\n",
    "# _target_val_label_accuracy = independent_accuracy_assesment(model, datasets.target.processed.val, p.device)\n",
    "\n",
    "# assert(_source_test_label_accuracy == source_test_label_accuracy)\n",
    "# assert(_target_test_label_accuracy == target_test_label_accuracy)\n",
    "# assert(_source_val_label_accuracy == source_val_label_accuracy)\n",
    "# assert(_target_val_label_accuracy == target_val_label_accuracy)\n",
    "\n",
    "experiment = {\n",
    "    \"experiment_name\": p.experiment_name,\n",
    "    \"parameters\": dict(p),\n",
    "    \"results\": {\n",
    "        \"source_test_label_accuracy\": source_test_label_accuracy,\n",
    "        \"source_test_label_loss\": source_test_label_loss,\n",
    "        \"target_test_label_accuracy\": target_test_label_accuracy,\n",
    "        \"target_test_label_loss\": target_test_label_loss,\n",
    "        \"source_val_label_accuracy\": source_val_label_accuracy,\n",
    "        \"source_val_label_loss\": source_val_label_loss,\n",
    "        \"target_val_label_accuracy\": target_val_label_accuracy,\n",
    "        \"target_val_label_loss\": target_val_label_loss,\n",
    "        \"total_epochs_trained\": total_epochs_trained,\n",
    "        \"total_experiment_time_secs\": total_experiment_time_secs,\n",
    "        \"confusion\": confusion,\n",
    "        \"per_domain_accuracy\": per_domain_accuracy,\n",
    "    },\n",
    "    \"history\": history,\n",
    "    \"dataset_metrics\": get_dataset_metrics(datasets, \"ptn\"),\n",
    "}"
   ]
  },
  {
   "cell_type": "code",
   "execution_count": 16,
   "id": "54a21829",
   "metadata": {
    "execution": {
     "iopub.execute_input": "2022-03-22T17:14:54.209130Z",
     "iopub.status.busy": "2022-03-22T17:14:54.208632Z",
     "iopub.status.idle": "2022-03-22T17:14:54.332906Z",
     "shell.execute_reply": "2022-03-22T17:14:54.333312Z"
    },
    "papermill": {
     "duration": 0.169457,
     "end_time": "2022-03-22T17:14:54.333442",
     "exception": false,
     "start_time": "2022-03-22T17:14:54.163985",
     "status": "completed"
    },
    "tags": []
   },
   "outputs": [
    {
     "data": {
      "image/png": "[encoded data removed]",
      "text/plain": [
       "<Figure size 1080x504 with 1 Axes>"
      ]
     },
     "metadata": {
      "needs_background": "light"
     },
     "output_type": "display_data"
    }
   ],
   "source": [
    "ax = get_loss_curve(experiment)\n",
    "plt.show()"
   ]
  },
  {
   "cell_type": "code",
   "execution_count": 17,
   "id": "fd8a0f60",
   "metadata": {
    "execution": {
     "iopub.execute_input": "2022-03-22T17:14:54.428916Z",
     "iopub.status.busy": "2022-03-22T17:14:54.428664Z",
     "iopub.status.idle": "2022-03-22T17:14:54.572280Z",
     "shell.execute_reply": "2022-03-22T17:14:54.572500Z"
    },
    "papermill": {
     "duration": 0.18996,
     "end_time": "2022-03-22T17:14:54.572578",
     "exception": false,
     "start_time": "2022-03-22T17:14:54.382618",
     "status": "completed"
    },
    "tags": []
   },
   "outputs": [
    {
     "data": {
      "text/plain": [
       "<AxesSubplot:title={'center':'Results'}>"
      ]
     },
     "execution_count": 17,
     "metadata": {},
     "output_type": "execute_result"
    },
    {
     "data": {
      "image/png": "[encoded data removed]",
      "text/plain": [
       "<Figure size 1080x504 with 1 Axes>"
      ]
     },
     "metadata": {
      "needs_background": "light"
     },
     "output_type": "display_data"
    }
   ],
   "source": [
    "get_results_table(experiment)"
   ]
  },
  {
   "cell_type": "code",
   "execution_count": 18,
   "id": "cf8dc689",
   "metadata": {
    "execution": {
     "iopub.execute_input": "2022-03-22T17:14:54.667705Z",
     "iopub.status.busy": "2022-03-22T17:14:54.666725Z",
     "iopub.status.idle": "2022-03-22T17:14:54.772927Z",
     "shell.execute_reply": "2022-03-22T17:14:54.772440Z"
    },
    "papermill": {
     "duration": 0.153451,
     "end_time": "2022-03-22T17:14:54.773018",
     "exception": false,
     "start_time": "2022-03-22T17:14:54.619567",
     "status": "completed"
    },
    "tags": []
   },
   "outputs": [
    {
     "data": {
      "text/plain": [
       "<AxesSubplot:title={'center':'Per Domain Validation Accuracy'}, xlabel='domain'>"
      ]
     },
     "execution_count": 18,
     "metadata": {},
     "output_type": "execute_result"
    },
    {
     "data": {
      "image/png": "[encoded data removed]",
      "text/plain": [
       "<Figure size 1080x504 with 1 Axes>"
      ]
     },
     "metadata": {
      "needs_background": "light"
     },
     "output_type": "display_data"
    }
   ],
   "source": [
    "get_domain_accuracies(experiment)"
   ]
  },
  {
   "cell_type": "code",
   "execution_count": 19,
   "id": "a74ae082",
   "metadata": {
    "execution": {
     "iopub.execute_input": "2022-03-22T17:14:54.871205Z",
     "iopub.status.busy": "2022-03-22T17:14:54.870938Z",
     "iopub.status.idle": "2022-03-22T17:14:54.887496Z",
     "shell.execute_reply": "2022-03-22T17:14:54.886961Z"
    },
    "papermill": {
     "duration": 0.065491,
     "end_time": "2022-03-22T17:14:54.887596",
     "exception": false,
     "start_time": "2022-03-22T17:14:54.822105",
     "status": "completed"
    },
    "tags": []
   },
   "outputs": [
    {
     "name": "stdout",
     "output_type": "stream",
     "text": [
      "Source Test Label Accuracy: 0.9455128205128205 Target Test Label Accuracy: 0.8655982905982906\n",
      "Source Val Label Accuracy: 0.9544871794871795 Target Val Label Accuracy: 0.8694444444444445\n"
     ]
    }
   ],
   "source": [
    "print(\"Source Test Label Accuracy:\", experiment[\"results\"][\"source_test_label_accuracy\"], \"Target Test Label Accuracy:\", experiment[\"results\"][\"target_test_label_accuracy\"])\n",
    "print(\"Source Val Label Accuracy:\", experiment[\"results\"][\"source_val_label_accuracy\"], \"Target Val Label Accuracy:\", experiment[\"results\"][\"target_val_label_accuracy\"])"
   ]
  },
  {
   "cell_type": "code",
   "execution_count": 20,
   "id": "dacca602",
   "metadata": {
    "execution": {
     "iopub.execute_input": "2022-03-22T17:14:54.990242Z",
     "iopub.status.busy": "2022-03-22T17:14:54.985714Z",
     "iopub.status.idle": "2022-03-22T17:14:55.001444Z",
     "shell.execute_reply": "2022-03-22T17:14:55.001817Z"
    },
    "papermill": {
     "duration": 0.064845,
     "end_time": "2022-03-22T17:14:55.001922",
     "exception": false,
     "start_time": "2022-03-22T17:14:54.937077",
     "status": "completed"
    },
    "tags": [
     "experiment_json"
    ]
   },
   "outputs": [
    {
     "data": {
      "text/plain": [
       "'{\"experiment_name\": \"tuned_1v2:wisig\", \"parameters\": {\"experiment_name\": \"tuned_1v2:wisig\", \"device\": \"cuda\", \"lr\": 0.0001, \"labels_source\": [\"1-10\", \"1-12\", \"1-14\", \"1-16\", \"1-18\", \"1-19\", \"1-8\", \"10-11\", \"10-17\", \"10-4\", \"10-7\", \"11-1\", \"11-10\", \"11-19\", \"11-20\", \"11-4\", \"11-7\", \"12-19\", \"12-20\", \"12-7\", \"13-14\", \"13-18\", \"13-19\", \"13-20\", \"13-3\", \"13-7\", \"14-10\", \"14-11\", \"14-12\", \"14-13\", \"14-14\", \"14-19\", \"14-20\", \"14-7\", \"14-8\", \"14-9\", \"15-1\", \"15-19\", \"15-6\", \"16-1\", \"16-16\", \"16-19\", \"16-20\", \"17-10\", \"17-11\", \"18-1\", \"18-10\", \"18-11\", \"18-12\", \"18-13\", \"18-14\", \"18-15\", \"18-16\", \"18-17\", \"18-19\", \"18-2\", \"18-20\", \"18-4\", \"18-5\", \"18-7\", \"18-8\", \"18-9\", \"19-1\", \"19-10\", \"19-11\", \"19-12\", \"19-13\", \"19-14\", \"19-15\", \"19-19\", \"19-2\", \"19-20\", \"19-3\", \"19-4\", \"19-6\", \"19-7\", \"19-8\", \"19-9\", \"2-1\", \"2-13\", \"2-15\", \"2-3\", \"2-4\", \"2-5\", \"2-6\", \"2-7\", \"2-8\", \"20-1\", \"20-12\", \"20-14\", \"20-15\", \"20-16\", \"20-18\", \"20-19\", \"20-20\", \"20-3\", \"20-4\", \"20-5\", \"20-7\", \"20-8\", \"3-1\", \"3-13\", \"3-18\", \"3-2\", \"3-8\", \"4-1\", \"4-10\", \"4-11\", \"5-1\", \"5-5\", \"6-1\", \"6-15\", \"6-6\", \"7-10\", \"7-11\", \"7-12\", \"7-13\", \"7-14\", \"7-7\", \"7-8\", \"7-9\", \"8-1\", \"8-13\", \"8-14\", \"8-18\", \"8-20\", \"8-3\", \"8-8\", \"9-1\", \"9-7\"], \"labels_target\": [\"1-10\", \"1-12\", \"1-14\", \"1-16\", \"1-18\", \"1-19\", \"1-8\", \"10-11\", \"10-17\", \"10-4\", \"10-7\", \"11-1\", \"11-10\", \"11-19\", \"11-20\", \"11-4\", \"11-7\", \"12-19\", \"12-20\", \"12-7\", \"13-14\", \"13-18\", \"13-19\", \"13-20\", \"13-3\", \"13-7\", \"14-10\", \"14-11\", \"14-12\", \"14-13\", \"14-14\", \"14-19\", \"14-20\", \"14-7\", \"14-8\", \"14-9\", \"15-1\", \"15-19\", \"15-6\", \"16-1\", \"16-16\", \"16-19\", \"16-20\", \"17-10\", \"17-11\", \"18-1\", \"18-10\", \"18-11\", \"18-12\", \"18-13\", \"18-14\", \"18-15\", \"18-16\", \"18-17\", \"18-19\", \"18-2\", \"18-20\", \"18-4\", \"18-5\", \"18-7\", \"18-8\", \"18-9\", \"19-1\", \"19-10\", \"19-11\", \"19-12\", \"19-13\", \"19-14\", \"19-15\", \"19-19\", \"19-2\", \"19-20\", \"19-3\", \"19-4\", \"19-6\", \"19-7\", \"19-8\", \"19-9\", \"2-1\", \"2-13\", \"2-15\", \"2-3\", \"2-4\", \"2-5\", \"2-6\", \"2-7\", \"2-8\", \"20-1\", \"20-12\", \"20-14\", \"20-15\", \"20-16\", \"20-18\", \"20-19\", \"20-20\", \"20-3\", \"20-4\", \"20-5\", \"20-7\", \"20-8\", \"3-1\", \"3-13\", \"3-18\", \"3-2\", \"3-8\", \"4-1\", \"4-10\", \"4-11\", \"5-1\", \"5-5\", \"6-1\", \"6-15\", \"6-6\", \"7-10\", \"7-11\", \"7-12\", \"7-13\", \"7-14\", \"7-7\", \"7-8\", \"7-9\", \"8-1\", \"8-13\", \"8-14\", \"8-18\", \"8-20\", \"8-3\", \"8-8\", \"9-1\", \"9-7\"], \"episode_transforms_source\": [], \"episode_transforms_target\": [], \"domains_source\": [3], \"domains_target\": [1, 2, 4], \"num_examples_per_domain_per_label_source\": -1, \"num_examples_per_domain_per_label_target\": -1, \"n_shot\": 3, \"n_way\": 130, \"n_query\": 2, \"train_k_factor\": 3, \"val_k_factor\": 2, \"test_k_factor\": 2, \"torch_default_dtype\": \"torch.float32\", \"n_epoch\": 50, \"patience\": 3, \"criteria_for_best\": \"target_accuracy\", \"x_net\": [{\"class\": \"nnReshape\", \"kargs\": {\"shape\": [-1, 1, 2, 256]}}, {\"class\": \"Conv2d\", \"kargs\": {\"in_channels\": 1, \"out_channels\": 256, \"kernel_size\": [1, 7], \"bias\": false, \"padding\": [0, 3]}}, {\"class\": \"ReLU\", \"kargs\": {\"inplace\": true}}, {\"class\": \"BatchNorm2d\", \"kargs\": {\"num_features\": 256}}, {\"class\": \"Conv2d\", \"kargs\": {\"in_channels\": 256, \"out_channels\": 80, \"kernel_size\": [2, 7], \"bias\": true, \"padding\": [0, 3]}}, {\"class\": \"ReLU\", \"kargs\": {\"inplace\": true}}, {\"class\": \"BatchNorm2d\", \"kargs\": {\"num_features\": 80}}, {\"class\": \"Flatten\", \"kargs\": {}}, {\"class\": \"Linear\", \"kargs\": {\"in_features\": 20480, \"out_features\": 256}}, {\"class\": \"ReLU\", \"kargs\": {\"inplace\": true}}, {\"class\": \"BatchNorm1d\", \"kargs\": {\"num_features\": 256}}, {\"class\": \"Linear\", \"kargs\": {\"in_features\": 256, \"out_features\": 256}}], \"NUM_LOGS_PER_EPOCH\": 10, \"BEST_MODEL_PATH\": \"./best_model.pth\", \"pickle_name\": \"wisig.node3-19.stratified_ds.2022A.pkl\", \"x_transforms_source\": [\"unit_power\"], \"x_transforms_target\": [\"unit_power\"], \"dataset_seed\": 500, \"seed\": 500}, \"results\": {\"source_test_label_accuracy\": 0.9455128205128205, \"source_test_label_loss\": 0.33418235182762146, \"target_test_label_accuracy\": 0.8655982905982906, \"target_test_label_loss\": 0.7204596400260925, \"source_val_label_accuracy\": 0.9544871794871795, \"source_val_label_loss\": 0.30572399497032166, \"target_val_label_accuracy\": 0.8694444444444445, \"target_val_label_loss\": 0.7094016671180725, \"total_epochs_trained\": 16, \"total_experiment_time_secs\": 160.71245408058167, \"confusion\": {\"3\": {\"89\": {\"89\": 12}, \"4\": {\"4\": 12}, \"53\": {\"53\": 12}, \"9\": {\"9\": 11, \"66\": 1}, \"86\": {\"21\": 1, \"86\": 10, \"122\": 1}, \"56\": {\"56\": 12}, \"91\": {\"91\": 12}, \"82\": {\"82\": 12}, \"36\": {\"36\": 11, \"27\": 1}, \"121\": {\"121\": 10, \"21\": 1, \"93\": 1}, \"66\": {\"66\": 11, \"34\": 1}, \"50\": {\"50\": 12}, \"102\": {\"102\": 12}, \"79\": {\"79\": 11, \"11\": 1}, \"78\": {\"116\": 2, \"122\": 1, \"33\": 1, \"78\": 5, \"17\": 2, \"21\": 1}, \"46\": {\"46\": 11, \"114\": 1}, \"43\": {\"43\": 11, \"78\": 1}, \"47\": {\"47\": 11, \"60\": 1}, \"95\": {\"95\": 12}, \"29\": {\"29\": 12}, \"6\": {\"6\": 11, \"84\": 1}, \"57\": {\"57\": 12}, \"118\": {\"118\": 12}, \"124\": {\"124\": 12}, \"7\": {\"7\": 12}, \"73\": {\"73\": 12}, \"111\": {\"111\": 12}, \"106\": {\"106\": 12}, \"64\": {\"64\": 12}, \"74\": {\"74\": 12}, \"24\": {\"24\": 11, \"27\": 1}, \"23\": {\"23\": 11, \"70\": 1}, \"129\": {\"129\": 12}, \"123\": {\"123\": 12}, \"87\": {\"87\": 11, \"21\": 1}, \"12\": {\"12\": 12}, \"69\": {\"69\": 12}, \"32\": {\"32\": 12}, \"71\": {\"71\": 12}, \"39\": {\"39\": 10, \"126\": 1, \"18\": 1}, \"16\": {\"17\": 1, \"16\": 11}, \"5\": {\"5\": 12}, \"65\": {\"65\": 12}, \"17\": {\"54\": 1, \"68\": 1, \"17\": 10}, \"33\": {\"33\": 12}, \"90\": {\"90\": 11, \"44\": 1}, \"10\": {\"10\": 12}, \"41\": {\"41\": 12}, \"22\": {\"22\": 11, \"9\": 1}, \"107\": {\"107\": 12}, \"81\": {\"81\": 11, \"39\": 1}, \"54\": {\"54\": 11, \"61\": 1}, \"83\": {\"83\": 11, \"34\": 1}, \"8\": {\"8\": 12}, \"105\": {\"105\": 12}, \"115\": {\"115\": 10, \"21\": 1, \"60\": 1}, \"63\": {\"63\": 12}, \"28\": {\"28\": 12}, \"103\": {\"103\": 11, \"46\": 1}, \"119\": {\"119\": 11, \"43\": 1}, \"117\": {\"117\": 12}, \"96\": {\"96\": 12}, \"120\": {\"120\": 12}, \"1\": {\"1\": 12}, \"49\": {\"49\": 11, \"70\": 1}, \"125\": {\"125\": 12}, \"35\": {\"35\": 8, \"112\": 1, \"24\": 2, \"46\": 1}, \"116\": {\"116\": 11, \"43\": 1}, \"48\": {\"48\": 12}, \"80\": {\"70\": 1, \"80\": 11}, \"97\": {\"97\": 12}, \"122\": {\"122\": 12}, \"104\": {\"34\": 1, \"104\": 11}, \"27\": {\"27\": 9, \"36\": 1, \"24\": 1, \"122\": 1}, \"68\": {\"68\": 11, \"70\": 1}, \"62\": {\"62\": 12}, \"84\": {\"84\": 12}, \"60\": {\"60\": 11, \"110\": 1}, \"34\": {\"66\": 1, \"34\": 11}, \"31\": {\"31\": 11, \"29\": 1}, \"112\": {\"112\": 11, \"8\": 1}, \"94\": {\"94\": 11, \"30\": 1}, \"128\": {\"128\": 12}, \"110\": {\"110\": 12}, \"85\": {\"85\": 12}, \"3\": {\"3\": 10, \"44\": 1, \"71\": 1}, \"38\": {\"38\": 12}, \"127\": {\"127\": 12}, \"45\": {\"45\": 12}, \"44\": {\"44\": 12}, \"113\": {\"113\": 12}, \"76\": {\"76\": 12}, \"26\": {\"26\": 12}, \"20\": {\"20\": 12}, \"18\": {\"18\": 11, \"122\": 1}, \"2\": {\"2\": 11, \"26\": 1}, \"25\": {\"25\": 12}, \"0\": {\"0\": 11, \"63\": 1}, \"42\": {\"42\": 11, \"27\": 1}, \"93\": {\"93\": 12}, \"114\": {\"114\": 12}, \"109\": {\"109\": 12}, \"100\": {\"100\": 12}, \"40\": {\"40\": 11, \"39\": 1}, \"21\": {\"127\": 1, \"21\": 10, \"122\": 1}, \"67\": {\"67\": 12}, \"92\": {\"92\": 10, \"21\": 1, \"75\": 1}, \"75\": {\"75\": 12}, \"126\": {\"126\": 12}, \"55\": {\"55\": 12}, \"98\": {\"98\": 12}, \"37\": {\"37\": 11, \"21\": 1}, \"51\": {\"51\": 12}, \"15\": {\"15\": 12}, \"70\": {\"70\": 11, \"17\": 1}, \"101\": {\"101\": 11, \"17\": 1}, \"88\": {\"88\": 12}, \"14\": {\"14\": 12}, \"59\": {\"59\": 12}, \"11\": {\"11\": 10, \"129\": 2}, \"19\": {\"19\": 12}, \"61\": {\"61\": 12}, \"72\": {\"72\": 12}, \"13\": {\"13\": 11, \"17\": 1}, \"52\": {\"52\": 12}, \"99\": {\"99\": 12}, \"77\": {\"77\": 12}, \"108\": {\"108\": 12}, \"58\": {\"58\": 11, \"15\": 1}, \"30\": {\"30\": 12}}, \"2\": {\"108\": {\"108\": 12}, \"17\": {\"17\": 7, \"122\": 4, \"25\": 1}, \"4\": {\"4\": 12}, \"9\": {\"9\": 12}, \"54\": {\"54\": 12}, \"49\": {\"11\": 7, \"3\": 1, \"77\": 1, \"49\": 2, \"44\": 1}, \"57\": {\"83\": 1, \"57\": 11}, \"128\": {\"71\": 5, \"0\": 1, \"114\": 2, \"128\": 2, \"12\": 2}, \"62\": {\"62\": 12}, \"30\": {\"30\": 12}, \"79\": {\"79\": 12}, \"117\": {\"117\": 12}, \"65\": {\"65\": 11, \"113\": 1}, \"103\": {\"103\": 11, \"79\": 1}, \"58\": {\"58\": 12}, \"112\": {\"53\": 5, \"112\": 3, \"128\": 1, \"42\": 3}, \"47\": {\"47\": 10, \"56\": 1, \"88\": 1}, \"90\": {\"90\": 12}, \"84\": {\"84\": 11, \"17\": 1}, \"96\": {\"48\": 1, \"96\": 7, \"88\": 3, \"72\": 1}, \"60\": {\"60\": 11, \"6\": 1}, \"6\": {\"6\": 8, \"52\": 2, \"97\": 1, \"51\": 1}, \"29\": {\"29\": 11, \"0\": 1}, \"106\": {\"106\": 11, \"12\": 1}, \"123\": {\"123\": 10, \"83\": 1, \"6\": 1}, \"7\": {\"94\": 1, \"35\": 1, \"7\": 10}, \"32\": {\"32\": 9, \"14\": 3}, \"38\": {\"38\": 12}, \"27\": {\"27\": 8, \"24\": 1, \"36\": 3}, \"53\": {\"53\": 12}, \"87\": {\"7\": 1, \"87\": 7, \"45\": 2, \"21\": 1, \"84\": 1}, \"97\": {\"15\": 2, \"97\": 7, \"9\": 1, \"30\": 1, \"61\": 1}, \"24\": {\"24\": 6, \"36\": 2, \"45\": 2, \"27\": 1, \"87\": 1}, \"80\": {\"72\": 2, \"80\": 10}, \"124\": {\"124\": 11, \"123\": 1}, \"88\": {\"88\": 8, \"96\": 1, \"100\": 1, \"93\": 2}, \"12\": {\"111\": 2, \"127\": 1, \"12\": 9}, \"70\": {\"70\": 7, \"43\": 2, \"33\": 1, \"21\": 1, \"88\": 1}, \"33\": {\"33\": 11, \"126\": 1}, \"22\": {\"22\": 12}, \"104\": {\"7\": 1, \"104\": 10, \"86\": 1}, \"16\": {\"16\": 12}, \"5\": {\"5\": 12}, \"66\": {\"66\": 11, \"83\": 1}, \"113\": {\"113\": 12}, \"34\": {\"86\": 1, \"34\": 10, \"25\": 1}, \"91\": {\"91\": 10, \"77\": 2}, \"10\": {\"13\": 1, \"62\": 1, \"10\": 7, \"105\": 1, \"17\": 1, \"21\": 1}, \"83\": {\"83\": 12}, \"23\": {\"23\": 9, \"59\": 1, \"29\": 2}, \"92\": {\"76\": 1, \"89\": 2, \"17\": 1, \"92\": 6, \"24\": 1, \"57\": 1}, \"95\": {\"95\": 12}, \"116\": {\"116\": 10, \"60\": 1, \"61\": 1}, \"43\": {\"78\": 5, \"43\": 5, \"110\": 2}, \"8\": {\"8\": 9, \"45\": 1, \"124\": 2}, \"68\": {\"68\": 11, \"0\": 1}, \"110\": {\"110\": 9, \"122\": 2, \"13\": 1}, \"64\": {\"64\": 11, \"45\": 1}, \"74\": {\"94\": 1, \"74\": 9, \"45\": 1, \"27\": 1}, \"41\": {\"41\": 11, \"52\": 1}, \"120\": {\"120\": 11, \"113\": 1}, \"118\": {\"118\": 12}, \"107\": {\"27\": 1, \"78\": 1, \"107\": 8, \"25\": 1, \"2\": 1}, \"82\": {\"82\": 11, \"43\": 1}, \"1\": {\"1\": 12}, \"50\": {\"50\": 12}, \"126\": {\"126\": 12}, \"36\": {\"36\": 11, \"24\": 1}, \"46\": {\"46\": 12}, \"48\": {\"48\": 12}, \"81\": {\"81\": 12}, \"98\": {\"98\": 11, \"57\": 1}, \"73\": {\"73\": 11, \"6\": 1}, \"105\": {\"105\": 12}, \"28\": {\"28\": 11, \"36\": 1}, \"69\": {\"7\": 1, \"69\": 11}, \"63\": {\"63\": 12}, \"85\": {\"85\": 12}, \"122\": {\"110\": 5, \"122\": 7}, \"35\": {\"35\": 10, \"7\": 2}, \"31\": {\"31\": 11, \"13\": 1}, \"125\": {\"125\": 12}, \"121\": {\"121\": 12}, \"119\": {\"119\": 12}, \"111\": {\"111\": 12}, \"86\": {\"86\": 12}, \"3\": {\"71\": 2, \"3\": 10}, \"39\": {\"39\": 11, \"21\": 1}, \"78\": {\"21\": 1, \"78\": 5, \"84\": 1, \"43\": 4, \"70\": 1}, \"45\": {\"45\": 9, \"94\": 1, \"124\": 2}, \"44\": {\"44\": 11, \"53\": 1}, \"114\": {\"114\": 12}, \"76\": {\"76\": 12}, \"26\": {\"26\": 12}, \"20\": {\"20\": 11, \"126\": 1}, \"18\": {\"18\": 11, \"21\": 1}, \"2\": {\"2\": 12}, \"25\": {\"25\": 11, \"49\": 1}, \"0\": {\"0\": 11, \"101\": 1}, \"42\": {\"42\": 12}, \"94\": {\"12\": 1, \"36\": 1, \"94\": 8, \"25\": 1, \"27\": 1}, \"115\": {\"115\": 11, \"45\": 1}, \"55\": {\"80\": 1, \"55\": 10, \"49\": 1}, \"101\": {\"101\": 12}, \"40\": {\"94\": 1, \"40\": 11}, \"21\": {\"107\": 1, \"21\": 10, \"39\": 1}, \"67\": {\"67\": 8, \"17\": 1, \"25\": 1, \"12\": 1, \"45\": 1}, \"93\": {\"93\": 12}, \"75\": {\"75\": 11, \"25\": 1}, \"127\": {\"127\": 11, \"6\": 1}, \"56\": {\"56\": 12}, \"99\": {\"99\": 12}, \"37\": {\"37\": 12}, \"51\": {\"58\": 6, \"78\": 1, \"51\": 3, \"98\": 2}, \"15\": {\"15\": 9, \"45\": 1, \"97\": 2}, \"71\": {\"71\": 10, \"72\": 1, \"21\": 1}, \"102\": {\"102\": 12}, \"89\": {\"89\": 4, \"92\": 8}, \"14\": {\"14\": 9, \"94\": 1, \"32\": 1, \"13\": 1}, \"129\": {\"129\": 12}, \"11\": {\"11\": 10, \"70\": 1, \"44\": 1}, \"19\": {\"19\": 12}, \"61\": {\"61\": 10, \"126\": 1, \"13\": 1}, \"72\": {\"96\": 1, \"72\": 10, \"13\": 1}, \"13\": {\"70\": 1, \"18\": 1, \"13\": 6, \"67\": 1, \"96\": 1, \"2\": 1, \"88\": 1}, \"52\": {\"94\": 1, \"80\": 1, \"52\": 9, \"25\": 1}, \"100\": {\"100\": 12}, \"77\": {\"77\": 12}, \"109\": {\"14\": 1, \"109\": 9, \"81\": 2}, \"59\": {\"59\": 10, \"25\": 1, \"126\": 1}}, \"4\": {\"1\": {\"110\": 1, \"1\": 8, \"104\": 1, \"33\": 2}, \"123\": {\"123\": 12}, \"122\": {\"122\": 9, \"102\": 2, \"87\": 1}, \"87\": {\"78\": 1, \"87\": 8, \"33\": 2, \"43\": 1}, \"125\": {\"125\": 12}, \"54\": {\"54\": 12}, \"55\": {\"55\": 12}, \"77\": {\"77\": 11, \"57\": 1}, \"0\": {\"0\": 8, \"87\": 1, \"101\": 3}, \"44\": {\"44\": 12}, \"58\": {\"58\": 12}, \"66\": {\"66\": 9, \"44\": 1, \"90\": 2}, \"24\": {\"97\": 1, \"21\": 1, \"24\": 5, \"10\": 1, \"23\": 1, \"36\": 3}, \"14\": {\"14\": 11, \"21\": 1}, \"25\": {\"25\": 12}, \"17\": {\"17\": 12}, \"76\": {\"76\": 12}, \"2\": {\"2\": 8, \"26\": 2, \"93\": 2}, \"75\": {\"75\": 12}, \"9\": {\"9\": 12}, \"116\": {\"116\": 12}, \"126\": {\"43\": 1, \"126\": 11}, \"32\": {\"120\": 3, \"82\": 1, \"32\": 3, \"14\": 1, \"55\": 1, \"99\": 2, \"34\": 1}, \"13\": {\"13\": 12}, \"48\": {\"48\": 12}, \"81\": {\"81\": 10, \"39\": 2}, \"39\": {\"39\": 11, \"26\": 1}, \"18\": {\"27\": 1, \"18\": 11}, \"113\": {\"113\": 12}, \"86\": {\"86\": 11, \"27\": 1}, \"92\": {\"92\": 12}, \"118\": {\"118\": 11, \"23\": 1}, \"97\": {\"24\": 2, \"97\": 5, \"36\": 3, \"51\": 1, \"10\": 1}, \"108\": {\"73\": 1, \"108\": 8, \"21\": 1, \"93\": 2}, \"119\": {\"119\": 12}, \"107\": {\"107\": 12}, \"129\": {\"129\": 9, \"73\": 2, \"70\": 1}, \"28\": {\"28\": 11, \"35\": 1}, \"30\": {\"30\": 12}, \"100\": {\"100\": 12}, \"85\": {\"85\": 10, \"98\": 2}, \"36\": {\"36\": 10, \"10\": 1, \"24\": 1}, \"120\": {\"120\": 10, \"23\": 1, \"45\": 1}, \"74\": {\"74\": 12}, \"57\": {\"57\": 12}, \"102\": {\"102\": 11, \"51\": 1}, \"38\": {\"38\": 9, \"66\": 1, \"90\": 2}, \"29\": {\"29\": 11, \"91\": 1}, \"79\": {\"79\": 12}, \"5\": {\"5\": 11, \"23\": 1}, \"73\": {\"73\": 12}, \"99\": {\"99\": 9, \"78\": 2, \"43\": 1}, \"16\": {\"16\": 11, \"29\": 1}, \"15\": {\"15\": 11, \"10\": 1}, \"71\": {\"71\": 11, \"114\": 1}, \"20\": {\"20\": 12}, \"4\": {\"95\": 3, \"4\": 8, \"127\": 1}, \"114\": {\"114\": 12}, \"112\": {\"112\": 11, \"23\": 1}, \"62\": {\"62\": 10, \"31\": 2}, \"22\": {\"22\": 12}, \"45\": {\"45\": 12}, \"23\": {\"29\": 1, \"80\": 2, \"23\": 5, \"51\": 1, \"67\": 1, \"49\": 1, \"88\": 1}, \"69\": {\"69\": 11, \"23\": 1}, \"12\": {\"12\": 12}, \"6\": {\"51\": 2, \"59\": 2, \"6\": 8}, \"31\": {\"31\": 12}, \"104\": {\"104\": 12}, \"72\": {\"72\": 12}, \"103\": {\"103\": 12}, \"110\": {\"110\": 11, \"33\": 1}, \"43\": {\"43\": 9, \"87\": 1, \"122\": 2}, \"67\": {\"67\": 8, \"23\": 1, \"113\": 1, \"69\": 2}, \"33\": {\"33\": 10, \"1\": 2}, \"65\": {\"65\": 12}, \"95\": {\"95\": 11, \"23\": 1}, \"96\": {\"14\": 2, \"96\": 10}, \"111\": {\"111\": 12}, \"70\": {\"70\": 11, \"23\": 1}, \"60\": {\"60\": 9, \"74\": 2, \"33\": 1}, \"98\": {\"98\": 12}, \"124\": {\"124\": 12}, \"128\": {\"128\": 4, \"7\": 3, \"72\": 2, \"60\": 1, \"19\": 1, \"34\": 1}, \"109\": {\"109\": 11, \"110\": 1}, \"59\": {\"59\": 12}, \"37\": {\"37\": 12}, \"42\": {\"42\": 11, \"13\": 1}, \"64\": {\"64\": 12}, \"40\": {\"40\": 11, \"8\": 1}, \"50\": {\"50\": 11, \"35\": 1}, \"83\": {\"83\": 11, \"82\": 1}, \"121\": {\"121\": 10, \"20\": 1, \"63\": 1}, \"3\": {\"3\": 12}, \"84\": {\"84\": 12}, \"63\": {\"63\": 11, \"23\": 1}, \"90\": {\"90\": 12}, \"10\": {\"10\": 9, \"24\": 2, \"15\": 1}, \"94\": {\"94\": 12}, \"8\": {\"8\": 12}, \"7\": {\"7\": 12}, \"115\": {\"115\": 5, \"67\": 2, \"109\": 1, \"17\": 2, \"86\": 1, \"124\": 1}, \"105\": {\"87\": 9, \"105\": 3}, \"49\": {\"49\": 9, \"53\": 3}, \"101\": {\"101\": 11, \"0\": 1}, \"80\": {\"80\": 11, \"51\": 1}, \"61\": {\"61\": 12}, \"19\": {\"19\": 12}, \"52\": {\"52\": 12}, \"46\": {\"46\": 10, \"13\": 2}, \"127\": {\"127\": 11, \"95\": 1}, \"26\": {\"26\": 11, \"2\": 1}, \"21\": {\"21\": 9, \"0\": 2, \"100\": 1}, \"11\": {\"11\": 12}, \"91\": {\"91\": 12}, \"27\": {\"27\": 9, \"8\": 1, \"88\": 1, \"21\": 1}, \"117\": {\"117\": 11, \"101\": 1}, \"51\": {\"125\": 4, \"59\": 5, \"58\": 2, \"115\": 1}, \"47\": {\"47\": 12}, \"56\": {\"56\": 11, \"24\": 1}, \"89\": {\"63\": 1, \"89\": 11}, \"88\": {\"108\": 3, \"88\": 8, \"46\": 1}, \"78\": {\"116\": 1, \"67\": 1, \"87\": 1, \"78\": 6, \"30\": 1, \"55\": 1, \"43\": 1}, \"34\": {\"28\": 2, \"56\": 1, \"34\": 9}, \"53\": {\"53\": 11, \"85\": 1}, \"93\": {\"93\": 11, \"88\": 1}, \"106\": {\"43\": 1, \"106\": 11}, \"68\": {\"68\": 12}, \"35\": {\"35\": 11, \"61\": 1}, \"41\": {\"52\": 2, \"128\": 1, \"41\": 9}, \"82\": {\"82\": 10, \"118\": 2}}, \"1\": {\"19\": {\"20\": 2, \"19\": 8, \"21\": 1, \"72\": 1}, \"111\": {\"111\": 12}, \"65\": {\"22\": 1, \"65\": 6, \"121\": 1, \"35\": 1, \"76\": 2, \"21\": 1}, \"29\": {\"29\": 12}, \"8\": {\"8\": 9, \"80\": 2, \"120\": 1}, \"12\": {\"12\": 10, \"71\": 2}, \"74\": {\"74\": 12}, \"126\": {\"126\": 12}, \"88\": {\"88\": 7, \"97\": 3, \"36\": 2}, \"123\": {\"123\": 12}, \"89\": {\"89\": 12}, \"119\": {\"119\": 12}, \"47\": {\"47\": 12}, \"69\": {\"69\": 12}, \"94\": {\"94\": 12}, \"95\": {\"95\": 12}, \"104\": {\"104\": 12}, \"7\": {\"7\": 12}, \"116\": {\"116\": 9, \"22\": 2, \"61\": 1}, \"39\": {\"39\": 10, \"65\": 1, \"16\": 1}, \"36\": {\"36\": 9, \"88\": 3}, \"49\": {\"49\": 4, \"15\": 1, \"12\": 2, \"53\": 5}, \"112\": {\"112\": 12}, \"34\": {\"31\": 3, \"34\": 8, \"60\": 1}, \"64\": {\"64\": 12}, \"99\": {\"99\": 12}, \"2\": {\"2\": 6, \"11\": 4, \"57\": 1, \"13\": 1}, \"100\": {\"100\": 11, \"21\": 1}, \"80\": {\"80\": 11, \"8\": 1}, \"56\": {\"56\": 12}, \"117\": {\"117\": 12}, \"125\": {\"125\": 12}, \"108\": {\"108\": 10, \"109\": 1, \"47\": 1}, \"40\": {\"78\": 1, \"105\": 4, \"40\": 7}, \"48\": {\"48\": 12}, \"129\": {\"129\": 11, \"72\": 1}, \"38\": {\"38\": 12}, \"46\": {\"46\": 4, \"125\": 3, \"89\": 3, \"94\": 1, \"59\": 1}, \"63\": {\"63\": 11, \"18\": 1}, \"28\": {\"28\": 11, \"70\": 1}, \"0\": {\"0\": 12}, \"70\": {\"70\": 7, \"21\": 1, \"5\": 1, \"49\": 1, \"72\": 1, \"17\": 1}, \"115\": {\"115\": 12}, \"62\": {\"62\": 12}, \"67\": {\"67\": 12}, \"91\": {\"91\": 11, \"58\": 1}, \"22\": {\"116\": 2, \"41\": 1, \"22\": 8, \"54\": 1}, \"1\": {\"1\": 12}, \"96\": {\"96\": 10, \"9\": 1, \"109\": 1}, \"120\": {\"120\": 12}, \"20\": {\"20\": 10, \"129\": 1, \"19\": 1}, \"11\": {\"11\": 11, \"82\": 1}, \"25\": {\"25\": 12}, \"4\": {\"4\": 12}, \"124\": {\"124\": 12}, \"50\": {\"50\": 12}, \"58\": {\"58\": 12}, \"128\": {\"70\": 2, \"128\": 9, \"73\": 1}, \"43\": {\"43\": 10, \"122\": 2}, \"35\": {\"35\": 12}, \"75\": {\"75\": 12}, \"30\": {\"30\": 11, \"94\": 1}, \"32\": {\"110\": 4, \"32\": 5, \"34\": 1, \"68\": 2}, \"79\": {\"79\": 12}, \"59\": {\"59\": 9, \"2\": 1, \"71\": 1, \"121\": 1}, \"14\": {\"14\": 12}, \"60\": {\"34\": 5, \"60\": 6, \"83\": 1}, \"31\": {\"31\": 12}, \"71\": {\"71\": 12}, \"118\": {\"118\": 12}, \"77\": {\"77\": 11, \"88\": 1}, \"86\": {\"86\": 10, \"27\": 1, \"104\": 1}, \"23\": {\"23\": 6, \"32\": 1, \"58\": 1, \"44\": 3, \"55\": 1}, \"84\": {\"84\": 12}, \"107\": {\"107\": 9, \"93\": 2, \"4\": 1}, \"42\": {\"42\": 7, \"91\": 1, \"29\": 1, \"45\": 1, \"60\": 2}, \"110\": {\"110\": 12}, \"27\": {\"27\": 12}, \"24\": {\"24\": 12}, \"51\": {\"51\": 10, \"98\": 2}, \"54\": {\"54\": 11, \"46\": 1}, \"18\": {\"18\": 11, \"21\": 1}, \"81\": {\"81\": 11, \"65\": 1}, \"109\": {\"73\": 1, \"109\": 11}, \"121\": {\"121\": 10, \"113\": 2}, \"113\": {\"113\": 12}, \"82\": {\"82\": 11, \"33\": 1}, \"21\": {\"30\": 1, \"21\": 8, \"87\": 1, \"5\": 1, \"11\": 1}, \"16\": {\"16\": 12}, \"45\": {\"21\": 1, \"45\": 4, \"44\": 3, \"61\": 1, \"124\": 2, \"104\": 1}, \"53\": {\"53\": 12}, \"122\": {\"122\": 12}, \"92\": {\"92\": 12}, \"87\": {\"55\": 2, \"87\": 9, \"65\": 1}, \"76\": {\"76\": 12}, \"127\": {\"127\": 12}, \"61\": {\"61\": 12}, \"5\": {\"5\": 12}, \"3\": {\"3\": 12}, \"114\": {\"114\": 12}, \"13\": {\"13\": 12}, \"33\": {\"33\": 12}, \"105\": {\"105\": 11, \"40\": 1}, \"78\": {\"78\": 4, \"40\": 2, \"87\": 2, \"43\": 3, \"21\": 1}, \"52\": {\"52\": 12}, \"98\": {\"98\": 12}, \"55\": {\"55\": 12}, \"85\": {\"0\": 2, \"85\": 10}, \"26\": {\"26\": 12}, \"68\": {\"68\": 12}, \"6\": {\"6\": 10, \"52\": 1, \"43\": 1}, \"37\": {\"37\": 12}, \"90\": {\"90\": 12}, \"72\": {\"72\": 12}, \"93\": {\"93\": 10, \"107\": 2}, \"102\": {\"102\": 12}, \"66\": {\"66\": 11, \"90\": 1}, \"73\": {\"73\": 12}, \"44\": {\"44\": 12}, \"103\": {\"103\": 11, \"9\": 1}, \"101\": {\"101\": 12}, \"41\": {\"41\": 12}, \"10\": {\"10\": 12}, \"15\": {\"15\": 10, \"111\": 2}, \"97\": {\"97\": 8, \"104\": 1, \"24\": 2, \"126\": 1}, \"83\": {\"83\": 9, \"2\": 1, \"60\": 1, \"128\": 1}, \"17\": {\"17\": 11, \"100\": 1}, \"9\": {\"9\": 10, \"96\": 1, \"129\": 1}, \"57\": {\"57\": 12}, \"106\": {\"106\": 12}}}, \"per_domain_accuracy\": {\"3\": {\"accuracy\": 0.9544871794871795, \"source?\": true}, \"2\": {\"accuracy\": 0.8493589743589743, \"source?\": false}, \"4\": {\"accuracy\": 0.8698717948717949, \"source?\": false}, \"1\": {\"accuracy\": 0.889102564102564, \"source?\": false}}}, \"history\": {\"epoch_indices\": [1, 2, 3, 4, 5, 6, 7, 8, 9, 10, 11, 12, 13, 14, 15, 16], \"train_label_loss\": [2.459083324008518, 1.039267987675137, 0.700385144021776, 0.5074201067288716, 0.3706772307554881, 0.285887317193879, 0.22491589768065345, 0.20125717719395955, 0.17089338352282843, 0.14919192873769335, 0.14613407734367584, 0.14917217956648932, 0.14287699775563345, 0.11638656179938052, 0.10415299708644549, 0.0940175669060813], \"source_val_label_loss\": [1.3383597135543823, 0.8941878080368042, 0.6774691343307495, 0.5273667573928833, 0.45076751708984375, 0.379572331905365, 0.3510115146636963, 0.34198641777038574, 0.32382822036743164, 0.3209760785102844, 0.31385311484336853, 0.30572399497032166, 0.2967097759246826, 0.3047342896461487, 0.29445284605026245, 0.3117217719554901], \"target_val_label_loss\": [1.592542290687561, 1.2057174444198608, 1.0419285297393799, 0.9327877163887024, 0.8536529541015625, 0.8037039041519165, 0.7831957340240479, 0.7823819518089294, 0.7680171132087708, 0.7369510531425476, 0.7501647472381592, 0.7094016671180725, 0.7299893498420715, 0.7239460349082947, 0.7125185132026672, 0.7212622165679932], \"source_val_acc_label\": [0.7987179487179488, 0.8532051282051282, 0.8884615384615384, 0.9064102564102564, 0.9192307692307692, 0.9358974358974359, 0.9442307692307692, 0.948076923076923, 0.9506410256410256, 0.9525641025641025, 0.9525641025641025, 0.9544871794871795, 0.9532051282051283, 0.9576923076923077, 0.9576923076923077, 0.9596153846153846], \"target_val_acc_label\": [0.7226495726495726, 0.7801282051282051, 0.8091880341880342, 0.8264957264957264, 0.8391025641025641, 0.8549145299145299, 0.8576923076923076, 0.8594017094017095, 0.8647435897435898, 0.8613247863247864, 0.8623931623931624, 0.8694444444444445, 0.8623931623931624, 0.8694444444444445, 0.869017094017094, 0.869017094017094]}, \"dataset_metrics\": {\"source\": {\"train\": {\"n_unique_x\": 19806, \"n_unique_y\": 130, \"n_batch/episode\": 45}, \"val\": {\"n_unique_x\": 3146, \"n_unique_y\": 130, \"n_batch/episode\": 6}, \"test\": {\"n_unique_x\": 3181, \"n_unique_y\": 130, \"n_batch/episode\": 6}}, \"target\": {\"train\": {\"n_unique_x\": 60289, \"n_unique_y\": 130, \"n_batch/episode\": 138}, \"val\": {\"n_unique_x\": 9546, \"n_unique_y\": 130, \"n_batch/episode\": 18}, \"test\": {\"n_unique_x\": 9600, \"n_unique_y\": 130, \"n_batch/episode\": 18}}}}'"
      ]
     },
     "execution_count": 20,
     "metadata": {},
     "output_type": "execute_result"
    }
   ],
   "source": [
    "json.dumps(experiment)"
   ]
  }
 ],
 "metadata": {
  "celltoolbar": "Tags",
  "kernelspec": {
   "display_name": "Python 3 (ipykernel)",
   "language": "python",
   "name": "python3"
  },
  "language_info": {
   "codemirror_mode": {
    "name": "ipython",
    "version": 3
   },
   "file_extension": ".py",
   "mimetype": "text/x-python",
   "name": "python",
   "nbconvert_exporter": "python",
   "pygments_lexer": "ipython3",
   "version": "3.8.10"
  },
  "papermill": {
   "default_parameters": {},
   "duration": 172.263137,
   "end_time": "2022-03-22T17:14:56.058799",
   "environment_variables": {},
   "exception": null,
   "input_path": "/mnt/wd500GB/CSC500/csc500-main/csc500-notebooks/templates/ptn_template.ipynb",
   "output_path": "trial.ipynb",
   "parameters": {
    "parameters": {
     "BEST_MODEL_PATH": "./best_model.pth",
     "NUM_LOGS_PER_EPOCH": 10,
     "criteria_for_best": "target_accuracy",
     "dataset_seed": 500,
     "device": "cuda",
     "domains_source": [
      3
     ],
     "domains_target": [
      1,
      2,
      4
     ],
     "episode_transforms_source": [],
     "episode_transforms_target": [],
     "experiment_name": "tuned_1v2:wisig",
     "labels_source": [
      "1-10",
      "1-12",
      "1-14",
      "1-16",
      "1-18",
      "1-19",
      "1-8",
      "10-11",
      "10-17",
      "10-4",
      "10-7",
      "11-1",
      "11-10",
      "11-19",
      "11-20",
      "11-4",
      "11-7",
      "12-19",
      "12-20",
      "12-7",
      "13-14",
      "13-18",
      "13-19",
      "13-20",
      "13-3",
      "13-7",
      "14-10",
      "14-11",
      "14-12",
      "14-13",
      "14-14",
      "14-19",
      "14-20",
      "14-7",
      "14-8",
      "14-9",
      "15-1",
      "15-19",
      "15-6",
      "16-1",
      "16-16",
      "16-19",
      "16-20",
      "17-10",
      "17-11",
      "18-1",
      "18-10",
      "18-11",
      "18-12",
      "18-13",
      "18-14",
      "18-15",
      "18-16",
      "18-17",
      "18-19",
      "18-2",
      "18-20",
      "18-4",
      "18-5",
      "18-7",
      "18-8",
      "18-9",
      "19-1",
      "19-10",
      "19-11",
      "19-12",
      "19-13",
      "19-14",
      "19-15",
      "19-19",
      "19-2",
      "19-20",
      "19-3",
      "19-4",
      "19-6",
      "19-7",
      "19-8",
      "19-9",
      "2-1",
      "2-13",
      "2-15",
      "2-3",
      "2-4",
      "2-5",
      "2-6",
      "2-7",
      "2-8",
      "20-1",
      "20-12",
      "20-14",
      "20-15",
      "20-16",
      "20-18",
      "20-19",
      "20-20",
      "20-3",
      "20-4",
      "20-5",
      "20-7",
      "20-8",
      "3-1",
      "3-13",
      "3-18",
      "3-2",
      "3-8",
      "4-1",
      "4-10",
      "4-11",
      "5-1",
      "5-5",
      "6-1",
      "6-15",
      "6-6",
      "7-10",
      "7-11",
      "7-12",
      "7-13",
      "7-14",
      "7-7",
      "7-8",
      "7-9",
      "8-1",
      "8-13",
      "8-14",
      "8-18",
      "8-20",
      "8-3",
      "8-8",
      "9-1",
      "9-7"
     ],
     "labels_target": [
      "1-10",
      "1-12",
      "1-14",
      "1-16",
      "1-18",
      "1-19",
      "1-8",
      "10-11",
      "10-17",
      "10-4",
      "10-7",
      "11-1",
      "11-10",
      "11-19",
      "11-20",
      "11-4",
      "11-7",
      "12-19",
      "12-20",
      "12-7",
      "13-14",
      "13-18",
      "13-19",
      "13-20",
      "13-3",
      "13-7",
      "14-10",
      "14-11",
      "14-12",
      "14-13",
      "14-14",
      "14-19",
      "14-20",
      "14-7",
      "14-8",
      "14-9",
      "15-1",
      "15-19",
      "15-6",
      "16-1",
      "16-16",
      "16-19",
      "16-20",
      "17-10",
      "17-11",
      "18-1",
      "18-10",
      "18-11",
      "18-12",
      "18-13",
      "18-14",
      "18-15",
      "18-16",
      "18-17",
      "18-19",
      "18-2",
      "18-20",
      "18-4",
      "18-5",
      "18-7",
      "18-8",
      "18-9",
      "19-1",
      "19-10",
      "19-11",
      "19-12",
      "19-13",
      "19-14",
      "19-15",
      "19-19",
      "19-2",
      "19-20",
      "19-3",
      "19-4",
      "19-6",
      "19-7",
      "19-8",
      "19-9",
      "2-1",
      "2-13",
      "2-15",
      "2-3",
      "2-4",
      "2-5",
      "2-6",
      "2-7",
      "2-8",
      "20-1",
      "20-12",
      "20-14",
      "20-15",
      "20-16",
      "20-18",
      "20-19",
      "20-20",
      "20-3",
      "20-4",
      "20-5",
      "20-7",
      "20-8",
      "3-1",
      "3-13",
      "3-18",
      "3-2",
      "3-8",
      "4-1",
      "4-10",
      "4-11",
      "5-1",
      "5-5",
      "6-1",
      "6-15",
      "6-6",
      "7-10",
      "7-11",
      "7-12",
      "7-13",
      "7-14",
      "7-7",
      "7-8",
      "7-9",
      "8-1",
      "8-13",
      "8-14",
      "8-18",
      "8-20",
      "8-3",
      "8-8",
      "9-1",
      "9-7"
     ],
     "lr": 0.0001,
     "n_epoch": 50,
     "n_query": 2,
     "n_shot": 3,
     "n_way": 130,
     "num_examples_per_domain_per_label_source": -1,
     "num_examples_per_domain_per_label_target": -1,
     "patience": 3,
     "pickle_name": "wisig.node3-19.stratified_ds.2022A.pkl",
     "seed": 500,
     "test_k_factor": 2,
     "torch_default_dtype": "torch.float32",
     "train_k_factor": 3,
     "val_k_factor": 2,
     "x_net": [
      {
       "class": "nnReshape",
       "kargs": {
        "shape": [
         -1,
         1,
         2,
         256
        ]
       }
      },
      {
       "class": "Conv2d",
       "kargs": {
        "bias": false,
        "in_channels": 1,
        "kernel_size": [
         1,
         7
        ],
        "out_channels": 256,
        "padding": [
         0,
         3
        ]
       }
      },
      {
       "class": "ReLU",
       "kargs": {
        "inplace": true
       }
      },
      {
       "class": "BatchNorm2d",
       "kargs": {
        "num_features": 256
       }
      },
      {
       "class": "Conv2d",
       "kargs": {
        "bias": true,
        "in_channels": 256,
        "kernel_size": [
         2,
         7
        ],
        "out_channels": 80,
        "padding": [
         0,
         3
        ]
       }
      },
      {
       "class": "ReLU",
       "kargs": {
        "inplace": true
       }
      },
      {
       "class": "BatchNorm2d",
       "kargs": {
        "num_features": 80
       }
      },
      {
       "class": "Flatten",
       "kargs": {}
      },
      {
       "class": "Linear",
       "kargs": {
        "in_features": 20480,
        "out_features": 256
       }
      },
      {
       "class": "ReLU",
       "kargs": {
        "inplace": true
       }
      },
      {
       "class": "BatchNorm1d",
       "kargs": {
        "num_features": 256
       }
      },
      {
       "class": "Linear",
       "kargs": {
        "in_features": 256,
        "out_features": 256
       }
      }
     ],
     "x_transforms_source": [
      "unit_power"
     ],
     "x_transforms_target": [
      "unit_power"
     ]
    }
   },
   "start_time": "2022-03-22T17:12:03.795662",
   "version": "2.3.4"
  }
 },
 "nbformat": 4,
 "nbformat_minor": 5
}