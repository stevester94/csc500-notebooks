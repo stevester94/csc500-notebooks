{
 "cells": [
  {
   "cell_type": "markdown",
   "id": "9fea5f46",
   "metadata": {
    "papermill": {
     "duration": 0.013978,
     "end_time": "2022-03-22T17:29:29.896491",
     "exception": false,
     "start_time": "2022-03-22T17:29:29.882513",
     "status": "completed"
    },
    "tags": []
   },
   "source": [
    "# PTN Template\n",
    "This notebook serves as a template for single dataset PTN experiments  \n",
    "It can be run on its own by setting STANDALONE to True (do a find for \"STANDALONE\" to see where)  \n",
    "But it is intended to be executed as part of a *papermill.py script. See any of the   \n",
    "experimentes with a papermill script to get started with that workflow.  "
   ]
  },
  {
   "cell_type": "code",
   "execution_count": 1,
   "id": "0902182a",
   "metadata": {
    "execution": {
     "iopub.execute_input": "2022-03-22T17:29:29.929530Z",
     "iopub.status.busy": "2022-03-22T17:29:29.929064Z",
     "iopub.status.idle": "2022-03-22T17:29:30.852657Z",
     "shell.execute_reply": "2022-03-22T17:29:30.852368Z"
    },
    "papermill": {
     "duration": 0.946908,
     "end_time": "2022-03-22T17:29:30.852725",
     "exception": false,
     "start_time": "2022-03-22T17:29:29.905817",
     "status": "completed"
    },
    "tags": []
   },
   "outputs": [],
   "source": [
    "%load_ext autoreload\n",
    "%autoreload 2\n",
    "%matplotlib inline\n",
    "\n",
    "    \n",
    "import os, json, sys, time, random\n",
    "import numpy as np\n",
    "import torch\n",
    "from torch.optim import Adam\n",
    "from  easydict import EasyDict\n",
    "import matplotlib.pyplot as plt\n",
    "\n",
    "from steves_models.steves_ptn import Steves_Prototypical_Network\n",
    "\n",
    "from steves_utils.lazy_iterable_wrapper import Lazy_Iterable_Wrapper\n",
    "from steves_utils.iterable_aggregator import Iterable_Aggregator\n",
    "from steves_utils.ptn_train_eval_test_jig import  PTN_Train_Eval_Test_Jig\n",
    "from steves_utils.torch_sequential_builder import build_sequential\n",
    "from steves_utils.torch_utils import get_dataset_metrics, ptn_confusion_by_domain_over_dataloader\n",
    "from steves_utils.utils_v2 import (per_domain_accuracy_from_confusion, get_datasets_base_path)\n",
    "from steves_utils.PTN.utils import independent_accuracy_assesment\n",
    "\n",
    "from steves_utils.stratified_dataset.episodic_accessor import Episodic_Accessor_Factory\n",
    "\n",
    "from steves_utils.ptn_do_report import (\n",
    "    get_loss_curve,\n",
    "    get_results_table,\n",
    "    get_parameters_table,\n",
    "    get_domain_accuracies,\n",
    ")\n",
    "\n",
    "from steves_utils.transforms import get_chained_transform"
   ]
  },
  {
   "cell_type": "markdown",
   "id": "41c840b4",
   "metadata": {
    "papermill": {
     "duration": 0.009303,
     "end_time": "2022-03-22T17:29:30.871747",
     "exception": false,
     "start_time": "2022-03-22T17:29:30.862444",
     "status": "completed"
    },
    "tags": []
   },
   "source": [
    "# Required Parameters\n",
    "These are allowed parameters, not defaults\n",
    "Each of these values need to be present in the injected parameters (the notebook will raise an exception if they are not present)\n",
    "\n",
    "Papermill uses the cell tag \"parameters\" to inject the real parameters below this cell.\n",
    "Enable tags to see what I mean"
   ]
  },
  {
   "cell_type": "code",
   "execution_count": 2,
   "id": "fd44eb83",
   "metadata": {
    "execution": {
     "iopub.execute_input": "2022-03-22T17:29:30.899329Z",
     "iopub.status.busy": "2022-03-22T17:29:30.894047Z",
     "iopub.status.idle": "2022-03-22T17:29:30.908075Z",
     "shell.execute_reply": "2022-03-22T17:29:30.908472Z"
    },
    "papermill": {
     "duration": 0.02748,
     "end_time": "2022-03-22T17:29:30.908593",
     "exception": false,
     "start_time": "2022-03-22T17:29:30.881113",
     "status": "completed"
    },
    "tags": []
   },
   "outputs": [],
   "source": [
    "required_parameters = {\n",
    "    \"experiment_name\",\n",
    "    \"lr\",\n",
    "    \"device\",\n",
    "    \"seed\",\n",
    "    \"dataset_seed\",\n",
    "    \"labels_source\",\n",
    "    \"labels_target\",\n",
    "    \"domains_source\",\n",
    "    \"domains_target\",\n",
    "    \"num_examples_per_domain_per_label_source\",\n",
    "    \"num_examples_per_domain_per_label_target\",\n",
    "    \"n_shot\",\n",
    "    \"n_way\",\n",
    "    \"n_query\",\n",
    "    \"train_k_factor\",\n",
    "    \"val_k_factor\",\n",
    "    \"test_k_factor\",\n",
    "    \"n_epoch\",\n",
    "    \"patience\",\n",
    "    \"criteria_for_best\",\n",
    "    \"x_transforms_source\",\n",
    "    \"x_transforms_target\",\n",
    "    \"episode_transforms_source\",\n",
    "    \"episode_transforms_target\",\n",
    "    \"pickle_name\",\n",
    "    \"x_net\",\n",
    "    \"NUM_LOGS_PER_EPOCH\",\n",
    "    \"BEST_MODEL_PATH\",\n",
    "    \"torch_default_dtype\"\n",
    "}"
   ]
  },
  {
   "cell_type": "code",
   "execution_count": 3,
   "id": "fa3f0049",
   "metadata": {
    "execution": {
     "iopub.execute_input": "2022-03-22T17:29:30.939053Z",
     "iopub.status.busy": "2022-03-22T17:29:30.938768Z",
     "iopub.status.idle": "2022-03-22T17:29:30.951832Z",
     "shell.execute_reply": "2022-03-22T17:29:30.951473Z"
    },
    "papermill": {
     "duration": 0.028255,
     "end_time": "2022-03-22T17:29:30.951936",
     "exception": false,
     "start_time": "2022-03-22T17:29:30.923681",
     "status": "completed"
    },
    "tags": [
     "parameters"
    ]
   },
   "outputs": [],
   "source": [
    "\n",
    "\n",
    "standalone_parameters = {}\n",
    "standalone_parameters[\"experiment_name\"] = \"STANDALONE PTN\"\n",
    "standalone_parameters[\"lr\"] = 0.0001\n",
    "standalone_parameters[\"device\"] = \"cuda\"\n",
    "\n",
    "standalone_parameters[\"seed\"] = 1337\n",
    "standalone_parameters[\"dataset_seed\"] = 1337\n",
    "\n",
    "\n",
    "standalone_parameters[\"num_examples_per_domain_per_label_source\"]=100\n",
    "standalone_parameters[\"num_examples_per_domain_per_label_target\"]=100\n",
    "\n",
    "standalone_parameters[\"n_shot\"] = 3\n",
    "standalone_parameters[\"n_query\"]  = 2\n",
    "standalone_parameters[\"train_k_factor\"] = 1\n",
    "standalone_parameters[\"val_k_factor\"] = 2\n",
    "standalone_parameters[\"test_k_factor\"] = 2\n",
    "\n",
    "\n",
    "standalone_parameters[\"n_epoch\"] = 100\n",
    "\n",
    "standalone_parameters[\"patience\"] = 10\n",
    "standalone_parameters[\"criteria_for_best\"] = \"target_accuracy\"\n",
    "\n",
    "standalone_parameters[\"x_transforms_source\"] = [\"unit_power\"]\n",
    "standalone_parameters[\"x_transforms_target\"] = [\"unit_power\"]\n",
    "standalone_parameters[\"episode_transforms_source\"] = []\n",
    "standalone_parameters[\"episode_transforms_target\"] = []\n",
    "\n",
    "standalone_parameters[\"torch_default_dtype\"] = \"torch.float32\" \n",
    "\n",
    "\n",
    "\n",
    "standalone_parameters[\"x_net\"] =     [\n",
    "    {\"class\": \"nnReshape\", \"kargs\": {\"shape\":[-1, 1, 2, 256]}},\n",
    "    {\"class\": \"Conv2d\", \"kargs\": { \"in_channels\":1, \"out_channels\":256, \"kernel_size\":(1,7), \"bias\":False, \"padding\":(0,3), },},\n",
    "    {\"class\": \"ReLU\", \"kargs\": {\"inplace\": True}},\n",
    "    {\"class\": \"BatchNorm2d\", \"kargs\": {\"num_features\":256}},\n",
    "\n",
    "    {\"class\": \"Conv2d\", \"kargs\": { \"in_channels\":256, \"out_channels\":80, \"kernel_size\":(2,7), \"bias\":True, \"padding\":(0,3), },},\n",
    "    {\"class\": \"ReLU\", \"kargs\": {\"inplace\": True}},\n",
    "    {\"class\": \"BatchNorm2d\", \"kargs\": {\"num_features\":80}},\n",
    "    {\"class\": \"Flatten\", \"kargs\": {}},\n",
    "\n",
    "    {\"class\": \"Linear\", \"kargs\": {\"in_features\": 80*256, \"out_features\": 256}}, # 80 units per IQ pair\n",
    "    {\"class\": \"ReLU\", \"kargs\": {\"inplace\": True}},\n",
    "    {\"class\": \"BatchNorm1d\", \"kargs\": {\"num_features\":256}},\n",
    "\n",
    "    {\"class\": \"Linear\", \"kargs\": {\"in_features\": 256, \"out_features\": 256}},\n",
    "]\n",
    "\n",
    "# Parameters relevant to results\n",
    "# These parameters will basically never need to change\n",
    "standalone_parameters[\"NUM_LOGS_PER_EPOCH\"] = 10\n",
    "standalone_parameters[\"BEST_MODEL_PATH\"] = \"./best_model.pth\"\n",
    "\n",
    "# uncomment for CORES dataset\n",
    "from steves_utils.CORES.utils import (\n",
    "    ALL_NODES,\n",
    "    ALL_NODES_MINIMUM_1000_EXAMPLES,\n",
    "    ALL_DAYS\n",
    ")\n",
    "\n",
    "\n",
    "standalone_parameters[\"labels_source\"] = ALL_NODES\n",
    "standalone_parameters[\"labels_target\"] = ALL_NODES\n",
    "\n",
    "standalone_parameters[\"domains_source\"] = [1]\n",
    "standalone_parameters[\"domains_target\"] = [2,3,4,5]\n",
    "\n",
    "standalone_parameters[\"pickle_name\"] = \"cores.stratified_ds.2022A.pkl\"\n",
    "\n",
    "\n",
    "# Uncomment these for ORACLE dataset\n",
    "# from steves_utils.ORACLE.utils_v2 import (\n",
    "#     ALL_DISTANCES_FEET,\n",
    "#     ALL_RUNS,\n",
    "#     ALL_SERIAL_NUMBERS,\n",
    "# )\n",
    "# standalone_parameters[\"labels_source\"] = ALL_SERIAL_NUMBERS\n",
    "# standalone_parameters[\"labels_target\"] = ALL_SERIAL_NUMBERS\n",
    "# standalone_parameters[\"domains_source\"] = [8,20, 38,50]\n",
    "# standalone_parameters[\"domains_target\"] = [14, 26, 32, 44, 56]\n",
    "# standalone_parameters[\"pickle_name\"] = \"oracle.frame_indexed.stratified_ds.2022A.pkl\"\n",
    "# standalone_parameters[\"num_examples_per_domain_per_label_source\"]=1000\n",
    "# standalone_parameters[\"num_examples_per_domain_per_label_target\"]=1000\n",
    "\n",
    "# Uncomment these for Metahan dataset\n",
    "# standalone_parameters[\"labels_source\"] = list(range(19))\n",
    "# standalone_parameters[\"labels_target\"] = list(range(19))\n",
    "# standalone_parameters[\"domains_source\"] = [0]\n",
    "# standalone_parameters[\"domains_target\"] = [1]\n",
    "# standalone_parameters[\"pickle_name\"] = \"metehan.stratified_ds.2022A.pkl\"\n",
    "# standalone_parameters[\"n_way\"]  = len(standalone_parameters[\"labels_source\"])\n",
    "# standalone_parameters[\"num_examples_per_domain_per_label_source\"]=200\n",
    "# standalone_parameters[\"num_examples_per_domain_per_label_target\"]=100\n",
    "\n",
    "\n",
    "standalone_parameters[\"n_way\"]  = len(standalone_parameters[\"labels_source\"])"
   ]
  },
  {
   "cell_type": "code",
   "execution_count": 4,
   "id": "830ab200",
   "metadata": {
    "execution": {
     "iopub.execute_input": "2022-03-22T17:29:30.990256Z",
     "iopub.status.busy": "2022-03-22T17:29:30.982225Z",
     "iopub.status.idle": "2022-03-22T17:29:31.003592Z",
     "shell.execute_reply": "2022-03-22T17:29:31.003157Z"
    },
    "papermill": {
     "duration": 0.038168,
     "end_time": "2022-03-22T17:29:31.003694",
     "exception": false,
     "start_time": "2022-03-22T17:29:30.965526",
     "status": "completed"
    },
    "tags": [
     "injected-parameters"
    ]
   },
   "outputs": [],
   "source": [
    "# Parameters\n",
    "parameters = {\n",
    "    \"experiment_name\": \"tuned_1v2:wisig\",\n",
    "    \"device\": \"cuda\",\n",
    "    \"lr\": 0.0001,\n",
    "    \"labels_source\": [\n",
    "        \"1-10\",\n",
    "        \"1-12\",\n",
    "        \"1-14\",\n",
    "        \"1-16\",\n",
    "        \"1-18\",\n",
    "        \"1-19\",\n",
    "        \"1-8\",\n",
    "        \"10-11\",\n",
    "        \"10-17\",\n",
    "        \"10-4\",\n",
    "        \"10-7\",\n",
    "        \"11-1\",\n",
    "        \"11-10\",\n",
    "        \"11-19\",\n",
    "        \"11-20\",\n",
    "        \"11-4\",\n",
    "        \"11-7\",\n",
    "        \"12-19\",\n",
    "        \"12-20\",\n",
    "        \"12-7\",\n",
    "        \"13-14\",\n",
    "        \"13-18\",\n",
    "        \"13-19\",\n",
    "        \"13-20\",\n",
    "        \"13-3\",\n",
    "        \"13-7\",\n",
    "        \"14-10\",\n",
    "        \"14-11\",\n",
    "        \"14-12\",\n",
    "        \"14-13\",\n",
    "        \"14-14\",\n",
    "        \"14-19\",\n",
    "        \"14-20\",\n",
    "        \"14-7\",\n",
    "        \"14-8\",\n",
    "        \"14-9\",\n",
    "        \"15-1\",\n",
    "        \"15-19\",\n",
    "        \"15-6\",\n",
    "        \"16-1\",\n",
    "        \"16-16\",\n",
    "        \"16-19\",\n",
    "        \"16-20\",\n",
    "        \"17-10\",\n",
    "        \"17-11\",\n",
    "        \"18-1\",\n",
    "        \"18-10\",\n",
    "        \"18-11\",\n",
    "        \"18-12\",\n",
    "        \"18-13\",\n",
    "        \"18-14\",\n",
    "        \"18-15\",\n",
    "        \"18-16\",\n",
    "        \"18-17\",\n",
    "        \"18-19\",\n",
    "        \"18-2\",\n",
    "        \"18-20\",\n",
    "        \"18-4\",\n",
    "        \"18-5\",\n",
    "        \"18-7\",\n",
    "        \"18-8\",\n",
    "        \"18-9\",\n",
    "        \"19-1\",\n",
    "        \"19-10\",\n",
    "        \"19-11\",\n",
    "        \"19-12\",\n",
    "        \"19-13\",\n",
    "        \"19-14\",\n",
    "        \"19-15\",\n",
    "        \"19-19\",\n",
    "        \"19-2\",\n",
    "        \"19-20\",\n",
    "        \"19-3\",\n",
    "        \"19-4\",\n",
    "        \"19-6\",\n",
    "        \"19-7\",\n",
    "        \"19-8\",\n",
    "        \"19-9\",\n",
    "        \"2-1\",\n",
    "        \"2-13\",\n",
    "        \"2-15\",\n",
    "        \"2-3\",\n",
    "        \"2-4\",\n",
    "        \"2-5\",\n",
    "        \"2-6\",\n",
    "        \"2-7\",\n",
    "        \"2-8\",\n",
    "        \"20-1\",\n",
    "        \"20-12\",\n",
    "        \"20-14\",\n",
    "        \"20-15\",\n",
    "        \"20-16\",\n",
    "        \"20-18\",\n",
    "        \"20-19\",\n",
    "        \"20-20\",\n",
    "        \"20-3\",\n",
    "        \"20-4\",\n",
    "        \"20-5\",\n",
    "        \"20-7\",\n",
    "        \"20-8\",\n",
    "        \"3-1\",\n",
    "        \"3-13\",\n",
    "        \"3-18\",\n",
    "        \"3-2\",\n",
    "        \"3-8\",\n",
    "        \"4-1\",\n",
    "        \"4-10\",\n",
    "        \"4-11\",\n",
    "        \"5-1\",\n",
    "        \"5-5\",\n",
    "        \"6-1\",\n",
    "        \"6-15\",\n",
    "        \"6-6\",\n",
    "        \"7-10\",\n",
    "        \"7-11\",\n",
    "        \"7-12\",\n",
    "        \"7-13\",\n",
    "        \"7-14\",\n",
    "        \"7-7\",\n",
    "        \"7-8\",\n",
    "        \"7-9\",\n",
    "        \"8-1\",\n",
    "        \"8-13\",\n",
    "        \"8-14\",\n",
    "        \"8-18\",\n",
    "        \"8-20\",\n",
    "        \"8-3\",\n",
    "        \"8-8\",\n",
    "        \"9-1\",\n",
    "        \"9-7\",\n",
    "    ],\n",
    "    \"labels_target\": [\n",
    "        \"1-10\",\n",
    "        \"1-12\",\n",
    "        \"1-14\",\n",
    "        \"1-16\",\n",
    "        \"1-18\",\n",
    "        \"1-19\",\n",
    "        \"1-8\",\n",
    "        \"10-11\",\n",
    "        \"10-17\",\n",
    "        \"10-4\",\n",
    "        \"10-7\",\n",
    "        \"11-1\",\n",
    "        \"11-10\",\n",
    "        \"11-19\",\n",
    "        \"11-20\",\n",
    "        \"11-4\",\n",
    "        \"11-7\",\n",
    "        \"12-19\",\n",
    "        \"12-20\",\n",
    "        \"12-7\",\n",
    "        \"13-14\",\n",
    "        \"13-18\",\n",
    "        \"13-19\",\n",
    "        \"13-20\",\n",
    "        \"13-3\",\n",
    "        \"13-7\",\n",
    "        \"14-10\",\n",
    "        \"14-11\",\n",
    "        \"14-12\",\n",
    "        \"14-13\",\n",
    "        \"14-14\",\n",
    "        \"14-19\",\n",
    "        \"14-20\",\n",
    "        \"14-7\",\n",
    "        \"14-8\",\n",
    "        \"14-9\",\n",
    "        \"15-1\",\n",
    "        \"15-19\",\n",
    "        \"15-6\",\n",
    "        \"16-1\",\n",
    "        \"16-16\",\n",
    "        \"16-19\",\n",
    "        \"16-20\",\n",
    "        \"17-10\",\n",
    "        \"17-11\",\n",
    "        \"18-1\",\n",
    "        \"18-10\",\n",
    "        \"18-11\",\n",
    "        \"18-12\",\n",
    "        \"18-13\",\n",
    "        \"18-14\",\n",
    "        \"18-15\",\n",
    "        \"18-16\",\n",
    "        \"18-17\",\n",
    "        \"18-19\",\n",
    "        \"18-2\",\n",
    "        \"18-20\",\n",
    "        \"18-4\",\n",
    "        \"18-5\",\n",
    "        \"18-7\",\n",
    "        \"18-8\",\n",
    "        \"18-9\",\n",
    "        \"19-1\",\n",
    "        \"19-10\",\n",
    "        \"19-11\",\n",
    "        \"19-12\",\n",
    "        \"19-13\",\n",
    "        \"19-14\",\n",
    "        \"19-15\",\n",
    "        \"19-19\",\n",
    "        \"19-2\",\n",
    "        \"19-20\",\n",
    "        \"19-3\",\n",
    "        \"19-4\",\n",
    "        \"19-6\",\n",
    "        \"19-7\",\n",
    "        \"19-8\",\n",
    "        \"19-9\",\n",
    "        \"2-1\",\n",
    "        \"2-13\",\n",
    "        \"2-15\",\n",
    "        \"2-3\",\n",
    "        \"2-4\",\n",
    "        \"2-5\",\n",
    "        \"2-6\",\n",
    "        \"2-7\",\n",
    "        \"2-8\",\n",
    "        \"20-1\",\n",
    "        \"20-12\",\n",
    "        \"20-14\",\n",
    "        \"20-15\",\n",
    "        \"20-16\",\n",
    "        \"20-18\",\n",
    "        \"20-19\",\n",
    "        \"20-20\",\n",
    "        \"20-3\",\n",
    "        \"20-4\",\n",
    "        \"20-5\",\n",
    "        \"20-7\",\n",
    "        \"20-8\",\n",
    "        \"3-1\",\n",
    "        \"3-13\",\n",
    "        \"3-18\",\n",
    "        \"3-2\",\n",
    "        \"3-8\",\n",
    "        \"4-1\",\n",
    "        \"4-10\",\n",
    "        \"4-11\",\n",
    "        \"5-1\",\n",
    "        \"5-5\",\n",
    "        \"6-1\",\n",
    "        \"6-15\",\n",
    "        \"6-6\",\n",
    "        \"7-10\",\n",
    "        \"7-11\",\n",
    "        \"7-12\",\n",
    "        \"7-13\",\n",
    "        \"7-14\",\n",
    "        \"7-7\",\n",
    "        \"7-8\",\n",
    "        \"7-9\",\n",
    "        \"8-1\",\n",
    "        \"8-13\",\n",
    "        \"8-14\",\n",
    "        \"8-18\",\n",
    "        \"8-20\",\n",
    "        \"8-3\",\n",
    "        \"8-8\",\n",
    "        \"9-1\",\n",
    "        \"9-7\",\n",
    "    ],\n",
    "    \"episode_transforms_source\": [],\n",
    "    \"episode_transforms_target\": [],\n",
    "    \"domains_source\": [3],\n",
    "    \"domains_target\": [1, 2, 4],\n",
    "    \"num_examples_per_domain_per_label_source\": -1,\n",
    "    \"num_examples_per_domain_per_label_target\": -1,\n",
    "    \"n_shot\": 3,\n",
    "    \"n_way\": 130,\n",
    "    \"n_query\": 2,\n",
    "    \"train_k_factor\": 3,\n",
    "    \"val_k_factor\": 2,\n",
    "    \"test_k_factor\": 2,\n",
    "    \"torch_default_dtype\": \"torch.float32\",\n",
    "    \"n_epoch\": 50,\n",
    "    \"patience\": 3,\n",
    "    \"criteria_for_best\": \"target_accuracy\",\n",
    "    \"x_net\": [\n",
    "        {\"class\": \"nnReshape\", \"kargs\": {\"shape\": [-1, 1, 2, 256]}},\n",
    "        {\n",
    "            \"class\": \"Conv2d\",\n",
    "            \"kargs\": {\n",
    "                \"in_channels\": 1,\n",
    "                \"out_channels\": 256,\n",
    "                \"kernel_size\": [1, 7],\n",
    "                \"bias\": False,\n",
    "                \"padding\": [0, 3],\n",
    "            },\n",
    "        },\n",
    "        {\"class\": \"ReLU\", \"kargs\": {\"inplace\": True}},\n",
    "        {\"class\": \"BatchNorm2d\", \"kargs\": {\"num_features\": 256}},\n",
    "        {\n",
    "            \"class\": \"Conv2d\",\n",
    "            \"kargs\": {\n",
    "                \"in_channels\": 256,\n",
    "                \"out_channels\": 80,\n",
    "                \"kernel_size\": [2, 7],\n",
    "                \"bias\": True,\n",
    "                \"padding\": [0, 3],\n",
    "            },\n",
    "        },\n",
    "        {\"class\": \"ReLU\", \"kargs\": {\"inplace\": True}},\n",
    "        {\"class\": \"BatchNorm2d\", \"kargs\": {\"num_features\": 80}},\n",
    "        {\"class\": \"Flatten\", \"kargs\": {}},\n",
    "        {\"class\": \"Linear\", \"kargs\": {\"in_features\": 20480, \"out_features\": 256}},\n",
    "        {\"class\": \"ReLU\", \"kargs\": {\"inplace\": True}},\n",
    "        {\"class\": \"BatchNorm1d\", \"kargs\": {\"num_features\": 256}},\n",
    "        {\"class\": \"Linear\", \"kargs\": {\"in_features\": 256, \"out_features\": 256}},\n",
    "    ],\n",
    "    \"NUM_LOGS_PER_EPOCH\": 10,\n",
    "    \"BEST_MODEL_PATH\": \"./best_model.pth\",\n",
    "    \"pickle_name\": \"wisig.node3-19.stratified_ds.2022A.pkl\",\n",
    "    \"x_transforms_source\": [],\n",
    "    \"x_transforms_target\": [],\n",
    "    \"dataset_seed\": 7,\n",
    "    \"seed\": 7,\n",
    "}\n"
   ]
  },
  {
   "cell_type": "code",
   "execution_count": 5,
   "id": "8fa1cc33",
   "metadata": {
    "execution": {
     "iopub.execute_input": "2022-03-22T17:29:31.029552Z",
     "iopub.status.busy": "2022-03-22T17:29:31.029245Z",
     "iopub.status.idle": "2022-03-22T17:29:31.040325Z",
     "shell.execute_reply": "2022-03-22T17:29:31.040071Z"
    },
    "papermill": {
     "duration": 0.023024,
     "end_time": "2022-03-22T17:29:31.040380",
     "exception": false,
     "start_time": "2022-03-22T17:29:31.017356",
     "status": "completed"
    },
    "tags": []
   },
   "outputs": [],
   "source": [
    "# Set this to True if you want to run this template directly\n",
    "STANDALONE = False\n",
    "if STANDALONE:\n",
    "    print(\"parameters not injected, running with standalone_parameters\")\n",
    "    parameters = standalone_parameters\n",
    "\n",
    "if not 'parameters' in locals() and not 'parameters' in globals():\n",
    "    raise Exception(\"Parameter injection failed\")\n",
    "\n",
    "#Use an easy dict for all the parameters\n",
    "p = EasyDict(parameters)\n",
    "\n",
    "supplied_keys = set(p.keys())\n",
    "\n",
    "if  supplied_keys != required_parameters:\n",
    "    print(\"Parameters are incorrect\")\n",
    "    if len(supplied_keys - required_parameters)>0: print(\"Shouldn't have:\", str(supplied_keys - required_parameters))\n",
    "    if len(required_parameters - supplied_keys)>0: print(\"Need to have:\", str(required_parameters - supplied_keys))\n",
    "    raise RuntimeError(\"Parameters are incorrect\")\n",
    "\n"
   ]
  },
  {
   "cell_type": "code",
   "execution_count": 6,
   "id": "3a028d58",
   "metadata": {
    "execution": {
     "iopub.execute_input": "2022-03-22T17:29:31.067226Z",
     "iopub.status.busy": "2022-03-22T17:29:31.066978Z",
     "iopub.status.idle": "2022-03-22T17:29:31.081659Z",
     "shell.execute_reply": "2022-03-22T17:29:31.081289Z"
    },
    "papermill": {
     "duration": 0.026355,
     "end_time": "2022-03-22T17:29:31.081738",
     "exception": false,
     "start_time": "2022-03-22T17:29:31.055383",
     "status": "completed"
    },
    "tags": []
   },
   "outputs": [],
   "source": [
    "###################################\n",
    "# Set the RNGs and make it all deterministic\n",
    "###################################\n",
    "np.random.seed(p.seed)\n",
    "random.seed(p.seed)\n",
    "torch.manual_seed(p.seed)\n",
    "\n",
    "torch.use_deterministic_algorithms(True) "
   ]
  },
  {
   "cell_type": "code",
   "execution_count": 7,
   "id": "b691acf6",
   "metadata": {
    "execution": {
     "iopub.execute_input": "2022-03-22T17:29:31.109030Z",
     "iopub.status.busy": "2022-03-22T17:29:31.108771Z",
     "iopub.status.idle": "2022-03-22T17:29:31.119783Z",
     "shell.execute_reply": "2022-03-22T17:29:31.119524Z"
    },
    "papermill": {
     "duration": 0.023215,
     "end_time": "2022-03-22T17:29:31.119842",
     "exception": false,
     "start_time": "2022-03-22T17:29:31.096627",
     "status": "completed"
    },
    "tags": []
   },
   "outputs": [],
   "source": [
    "###########################################\n",
    "# The stratified datasets honor this\n",
    "###########################################\n",
    "torch.set_default_dtype(eval(p.torch_default_dtype))"
   ]
  },
  {
   "cell_type": "code",
   "execution_count": 8,
   "id": "b5fba671",
   "metadata": {
    "execution": {
     "iopub.execute_input": "2022-03-22T17:29:31.149345Z",
     "iopub.status.busy": "2022-03-22T17:29:31.144512Z",
     "iopub.status.idle": "2022-03-22T17:29:31.187033Z",
     "shell.execute_reply": "2022-03-22T17:29:31.187435Z"
    },
    "papermill": {
     "duration": 0.054914,
     "end_time": "2022-03-22T17:29:31.187569",
     "exception": false,
     "start_time": "2022-03-22T17:29:31.132655",
     "status": "completed"
    },
    "tags": []
   },
   "outputs": [],
   "source": [
    "###################################\n",
    "# Build the network(s)\n",
    "# Note: It's critical to do this AFTER setting the RNG\n",
    "# (This is due to the randomized initial weights)\n",
    "###################################\n",
    "x_net = build_sequential(p.x_net)"
   ]
  },
  {
   "cell_type": "code",
   "execution_count": 9,
   "id": "5d7e61cc",
   "metadata": {
    "execution": {
     "iopub.execute_input": "2022-03-22T17:29:31.213758Z",
     "iopub.status.busy": "2022-03-22T17:29:31.213513Z",
     "iopub.status.idle": "2022-03-22T17:29:31.224722Z",
     "shell.execute_reply": "2022-03-22T17:29:31.224469Z"
    },
    "papermill": {
     "duration": 0.022718,
     "end_time": "2022-03-22T17:29:31.224777",
     "exception": false,
     "start_time": "2022-03-22T17:29:31.202059",
     "status": "completed"
    },
    "tags": []
   },
   "outputs": [],
   "source": [
    "start_time_secs = time.time()"
   ]
  },
  {
   "cell_type": "code",
   "execution_count": 10,
   "id": "fd5442bc",
   "metadata": {
    "execution": {
     "iopub.execute_input": "2022-03-22T17:29:31.263021Z",
     "iopub.status.busy": "2022-03-22T17:29:31.261862Z",
     "iopub.status.idle": "2022-03-22T17:29:32.753964Z",
     "shell.execute_reply": "2022-03-22T17:29:32.753508Z"
    },
    "papermill": {
     "duration": 1.514042,
     "end_time": "2022-03-22T17:29:32.754073",
     "exception": false,
     "start_time": "2022-03-22T17:29:31.240031",
     "status": "completed"
    },
    "tags": []
   },
   "outputs": [],
   "source": [
    "###################################\n",
    "# Build the dataset\n",
    "###################################\n",
    "\n",
    "if p.x_transforms_source == []: x_transform_source = None\n",
    "else: x_transform_source = get_chained_transform(p.x_transforms_source) \n",
    "\n",
    "if p.x_transforms_target == []: x_transform_target = None\n",
    "else: x_transform_target = get_chained_transform(p.x_transforms_target)\n",
    "\n",
    "if p.episode_transforms_source == []: episode_transform_source = None\n",
    "else: raise Exception(\"episode_transform_source not implemented\")\n",
    "\n",
    "if p.episode_transforms_target == []: episode_transform_target = None\n",
    "else: raise Exception(\"episode_transform_target not implemented\")\n",
    "\n",
    "\n",
    "eaf_source = Episodic_Accessor_Factory(\n",
    "    labels=p.labels_source,\n",
    "    domains=p.domains_source,\n",
    "    num_examples_per_domain_per_label=p.num_examples_per_domain_per_label_source,\n",
    "    iterator_seed=p.seed,\n",
    "    dataset_seed=p.dataset_seed,\n",
    "    n_shot=p.n_shot,\n",
    "    n_way=p.n_way,\n",
    "    n_query=p.n_query,\n",
    "    train_val_test_k_factors=(p.train_k_factor,p.val_k_factor,p.test_k_factor),\n",
    "    pickle_path=os.path.join(get_datasets_base_path(), p.pickle_name),\n",
    "    x_transform_func=x_transform_source,\n",
    "    example_transform_func=episode_transform_source,\n",
    "    \n",
    ")\n",
    "train_original_source, val_original_source, test_original_source = eaf_source.get_train(), eaf_source.get_val(), eaf_source.get_test()\n",
    "\n",
    "\n",
    "eaf_target = Episodic_Accessor_Factory(\n",
    "    labels=p.labels_target,\n",
    "    domains=p.domains_target,\n",
    "    num_examples_per_domain_per_label=p.num_examples_per_domain_per_label_target,\n",
    "    iterator_seed=p.seed,\n",
    "    dataset_seed=p.dataset_seed,\n",
    "    n_shot=p.n_shot,\n",
    "    n_way=p.n_way,\n",
    "    n_query=p.n_query,\n",
    "    train_val_test_k_factors=(p.train_k_factor,p.val_k_factor,p.test_k_factor),\n",
    "    pickle_path=os.path.join(get_datasets_base_path(), p.pickle_name),\n",
    "    x_transform_func=x_transform_target,\n",
    "    example_transform_func=episode_transform_target,\n",
    ")\n",
    "train_original_target, val_original_target, test_original_target = eaf_target.get_train(), eaf_target.get_val(), eaf_target.get_test()\n",
    "\n",
    "\n",
    "transform_lambda = lambda ex: ex[1] # Original is (<domain>, <episode>) so we strip down to episode only\n",
    "\n",
    "train_processed_source = Lazy_Iterable_Wrapper(train_original_source, transform_lambda)\n",
    "val_processed_source   = Lazy_Iterable_Wrapper(val_original_source, transform_lambda)\n",
    "test_processed_source  = Lazy_Iterable_Wrapper(test_original_source, transform_lambda)\n",
    "\n",
    "train_processed_target = Lazy_Iterable_Wrapper(train_original_target, transform_lambda)\n",
    "val_processed_target   = Lazy_Iterable_Wrapper(val_original_target, transform_lambda)\n",
    "test_processed_target  = Lazy_Iterable_Wrapper(test_original_target, transform_lambda)\n",
    "\n",
    "datasets = EasyDict({\n",
    "    \"source\": {\n",
    "        \"original\": {\"train\":train_original_source, \"val\":val_original_source, \"test\":test_original_source},\n",
    "        \"processed\": {\"train\":train_processed_source, \"val\":val_processed_source, \"test\":test_processed_source}\n",
    "    },\n",
    "    \"target\": {\n",
    "        \"original\": {\"train\":train_original_target, \"val\":val_original_target, \"test\":test_original_target},\n",
    "        \"processed\": {\"train\":train_processed_target, \"val\":val_processed_target, \"test\":test_processed_target}\n",
    "    },\n",
    "})"
   ]
  },
  {
   "cell_type": "code",
   "execution_count": 11,
   "id": "296189d9",
   "metadata": {
    "execution": {
     "iopub.execute_input": "2022-03-22T17:29:32.780220Z",
     "iopub.status.busy": "2022-03-22T17:29:32.779967Z",
     "iopub.status.idle": "2022-03-22T17:29:34.472116Z",
     "shell.execute_reply": "2022-03-22T17:29:34.471806Z"
    },
    "papermill": {
     "duration": 1.704829,
     "end_time": "2022-03-22T17:29:34.472183",
     "exception": false,
     "start_time": "2022-03-22T17:29:32.767354",
     "status": "completed"
    },
    "tags": []
   },
   "outputs": [
    {
     "name": "stdout",
     "output_type": "stream",
     "text": [
      "Visually inspect these to see if they line up with expected values given the transforms\n",
      "x_transforms_source []\n",
      "x_transforms_target []\n",
      "Average magnitude, source: 0.04827418\n",
      "Average power, source: 0.0030152015\n"
     ]
    },
    {
     "name": "stdout",
     "output_type": "stream",
     "text": [
      "Average magnitude, target: 0.073281765\n",
      "Average power, target: 0.0064668506\n"
     ]
    }
   ],
   "source": [
    "# Some quick unit tests on the data\n",
    "from steves_utils.transforms import get_average_power, get_average_magnitude\n",
    "\n",
    "q_x, q_y, s_x, s_y, truth = next(iter(train_processed_source))\n",
    "\n",
    "assert q_x.dtype == eval(p.torch_default_dtype)\n",
    "assert s_x.dtype == eval(p.torch_default_dtype)\n",
    "\n",
    "print(\"Visually inspect these to see if they line up with expected values given the transforms\")\n",
    "print('x_transforms_source', p.x_transforms_source)\n",
    "print('x_transforms_target', p.x_transforms_target)\n",
    "print(\"Average magnitude, source:\", get_average_magnitude(q_x[0].numpy()))\n",
    "print(\"Average power, source:\", get_average_power(q_x[0].numpy()))\n",
    "\n",
    "q_x, q_y, s_x, s_y, truth = next(iter(train_processed_target))\n",
    "print(\"Average magnitude, target:\", get_average_magnitude(q_x[0].numpy()))\n",
    "print(\"Average power, target:\", get_average_power(q_x[0].numpy()))\n"
   ]
  },
  {
   "cell_type": "code",
   "execution_count": 12,
   "id": "bbdacba1",
   "metadata": {
    "execution": {
     "iopub.execute_input": "2022-03-22T17:29:34.496834Z",
     "iopub.status.busy": "2022-03-22T17:29:34.496566Z",
     "iopub.status.idle": "2022-03-22T17:29:34.563015Z",
     "shell.execute_reply": "2022-03-22T17:29:34.563221Z"
    },
    "papermill": {
     "duration": 0.080104,
     "end_time": "2022-03-22T17:29:34.563315",
     "exception": false,
     "start_time": "2022-03-22T17:29:34.483211",
     "status": "completed"
    },
    "tags": []
   },
   "outputs": [
    {
     "name": "stdout",
     "output_type": "stream",
     "text": [
      "(2, 256)\n"
     ]
    }
   ],
   "source": [
    "###################################\n",
    "# Build the model\n",
    "###################################\n",
    "model = Steves_Prototypical_Network(x_net, device=p.device, x_shape=(2,256))\n",
    "optimizer = Adam(params=model.parameters(), lr=p.lr)"
   ]
  },
  {
   "cell_type": "code",
   "execution_count": 13,
   "id": "22b39ac5",
   "metadata": {
    "execution": {
     "iopub.execute_input": "2022-03-22T17:29:34.587814Z",
     "iopub.status.busy": "2022-03-22T17:29:34.587543Z",
     "iopub.status.idle": "2022-03-22T17:33:57.159899Z",
     "shell.execute_reply": "2022-03-22T17:33:57.159489Z"
    },
    "papermill": {
     "duration": 262.585579,
     "end_time": "2022-03-22T17:33:57.160000",
     "exception": false,
     "start_time": "2022-03-22T17:29:34.574421",
     "status": "completed"
    },
    "tags": []
   },
   "outputs": [
    {
     "name": "stdout",
     "output_type": "stream",
     "text": [
      "epoch: 1, [batch: 1 / 45], examples_per_second: 2003.1025, train_label_loss: 4.0736, \n"
     ]
    },
    {
     "name": "stdout",
     "output_type": "stream",
     "text": [
      "epoch: 1, [batch: 5 / 45], examples_per_second: 3959.9094, train_label_loss: 3.3646, \n"
     ]
    },
    {
     "name": "stdout",
     "output_type": "stream",
     "text": [
      "epoch: 1, [batch: 9 / 45], examples_per_second: 4055.4561, train_label_loss: 3.2525, \n"
     ]
    },
    {
     "name": "stdout",
     "output_type": "stream",
     "text": [
      "epoch: 1, [batch: 14 / 45], examples_per_second: 4060.8519, train_label_loss: 2.6533, \n"
     ]
    },
    {
     "name": "stdout",
     "output_type": "stream",
     "text": [
      "epoch: 1, [batch: 18 / 45], examples_per_second: 4058.4278, train_label_loss: 2.6048, \n"
     ]
    },
    {
     "name": "stdout",
     "output_type": "stream",
     "text": [
      "epoch: 1, [batch: 23 / 45], examples_per_second: 3984.7549, train_label_loss: 2.4244, \n"
     ]
    },
    {
     "name": "stdout",
     "output_type": "stream",
     "text": [
      "epoch: 1, [batch: 27 / 45], examples_per_second: 4047.5417, train_label_loss: 2.0219, \n"
     ]
    },
    {
     "name": "stdout",
     "output_type": "stream",
     "text": [
      "epoch: 1, [batch: 31 / 45], examples_per_second: 4062.5871, train_label_loss: 1.8284, \n"
     ]
    },
    {
     "name": "stdout",
     "output_type": "stream",
     "text": [
      "epoch: 1, [batch: 36 / 45], examples_per_second: 4090.1008, train_label_loss: 1.7162, \n"
     ]
    },
    {
     "name": "stdout",
     "output_type": "stream",
     "text": [
      "epoch: 1, [batch: 40 / 45], examples_per_second: 4153.4168, train_label_loss: 1.8310, \n"
     ]
    },
    {
     "name": "stdout",
     "output_type": "stream",
     "text": [
      "=============================================================\n",
      "epoch: 1, source_val_acc_label: 0.8038, target_val_acc_label: 0.7425, source_val_label_loss: 1.4081, target_val_label_loss: 1.6598, \n",
      "=============================================================\n"
     ]
    },
    {
     "name": "stdout",
     "output_type": "stream",
     "text": [
      "New best\n"
     ]
    },
    {
     "name": "stdout",
     "output_type": "stream",
     "text": [
      "epoch: 2, [batch: 1 / 45], examples_per_second: 503.7606, train_label_loss: 1.4149, \n"
     ]
    },
    {
     "name": "stdout",
     "output_type": "stream",
     "text": [
      "epoch: 2, [batch: 5 / 45], examples_per_second: 4042.0463, train_label_loss: 1.0346, \n"
     ]
    },
    {
     "name": "stdout",
     "output_type": "stream",
     "text": [
      "epoch: 2, [batch: 9 / 45], examples_per_second: 4132.8297, train_label_loss: 0.9657, \n"
     ]
    },
    {
     "name": "stdout",
     "output_type": "stream",
     "text": [
      "epoch: 2, [batch: 14 / 45], examples_per_second: 4138.6525, train_label_loss: 1.0388, \n"
     ]
    },
    {
     "name": "stdout",
     "output_type": "stream",
     "text": [
      "epoch: 2, [batch: 18 / 45], examples_per_second: 4140.2058, train_label_loss: 1.0980, \n"
     ]
    },
    {
     "name": "stdout",
     "output_type": "stream",
     "text": [
      "epoch: 2, [batch: 23 / 45], examples_per_second: 4054.7121, train_label_loss: 0.9901, \n"
     ]
    },
    {
     "name": "stdout",
     "output_type": "stream",
     "text": [
      "epoch: 2, [batch: 27 / 45], examples_per_second: 4138.2137, train_label_loss: 0.8636, \n"
     ]
    },
    {
     "name": "stdout",
     "output_type": "stream",
     "text": [
      "epoch: 2, [batch: 31 / 45], examples_per_second: 4131.9012, train_label_loss: 0.9522, \n"
     ]
    },
    {
     "name": "stdout",
     "output_type": "stream",
     "text": [
      "epoch: 2, [batch: 36 / 45], examples_per_second: 4169.1595, train_label_loss: 0.8282, \n"
     ]
    },
    {
     "name": "stdout",
     "output_type": "stream",
     "text": [
      "epoch: 2, [batch: 40 / 45], examples_per_second: 4227.8766, train_label_loss: 0.7279, \n"
     ]
    },
    {
     "name": "stdout",
     "output_type": "stream",
     "text": [
      "=============================================================\n",
      "epoch: 2, source_val_acc_label: 0.8827, target_val_acc_label: 0.8175, source_val_label_loss: 0.6449, target_val_label_loss: 1.0003, \n",
      "=============================================================\n"
     ]
    },
    {
     "name": "stdout",
     "output_type": "stream",
     "text": [
      "New best\n"
     ]
    },
    {
     "name": "stdout",
     "output_type": "stream",
     "text": [
      "epoch: 3, [batch: 1 / 45], examples_per_second: 491.6835, train_label_loss: 0.5501, \n"
     ]
    },
    {
     "name": "stdout",
     "output_type": "stream",
     "text": [
      "epoch: 3, [batch: 5 / 45], examples_per_second: 4022.3011, train_label_loss: 0.7644, \n"
     ]
    },
    {
     "name": "stdout",
     "output_type": "stream",
     "text": [
      "epoch: 3, [batch: 9 / 45], examples_per_second: 4123.2852, train_label_loss: 0.7607, \n"
     ]
    },
    {
     "name": "stdout",
     "output_type": "stream",
     "text": [
      "epoch: 3, [batch: 14 / 45], examples_per_second: 4128.8797, train_label_loss: 0.6707, \n"
     ]
    },
    {
     "name": "stdout",
     "output_type": "stream",
     "text": [
      "epoch: 3, [batch: 18 / 45], examples_per_second: 4127.7738, train_label_loss: 0.5413, \n"
     ]
    },
    {
     "name": "stdout",
     "output_type": "stream",
     "text": [
      "epoch: 3, [batch: 23 / 45], examples_per_second: 4053.2509, train_label_loss: 0.7278, \n"
     ]
    },
    {
     "name": "stdout",
     "output_type": "stream",
     "text": [
      "epoch: 3, [batch: 27 / 45], examples_per_second: 4125.5517, train_label_loss: 0.6928, \n"
     ]
    },
    {
     "name": "stdout",
     "output_type": "stream",
     "text": [
      "epoch: 3, [batch: 31 / 45], examples_per_second: 4126.6507, train_label_loss: 0.3139, \n"
     ]
    },
    {
     "name": "stdout",
     "output_type": "stream",
     "text": [
      "epoch: 3, [batch: 36 / 45], examples_per_second: 4165.2434, train_label_loss: 0.5224, \n"
     ]
    },
    {
     "name": "stdout",
     "output_type": "stream",
     "text": [
      "epoch: 3, [batch: 40 / 45], examples_per_second: 4227.2620, train_label_loss: 0.5504, \n"
     ]
    },
    {
     "name": "stdout",
     "output_type": "stream",
     "text": [
      "=============================================================\n",
      "epoch: 3, source_val_acc_label: 0.9128, target_val_acc_label: 0.8380, source_val_label_loss: 0.5141, target_val_label_loss: 0.8881, \n",
      "=============================================================\n"
     ]
    },
    {
     "name": "stdout",
     "output_type": "stream",
     "text": [
      "New best\n"
     ]
    },
    {
     "name": "stdout",
     "output_type": "stream",
     "text": [
      "epoch: 4, [batch: 1 / 45], examples_per_second: 495.9979, train_label_loss: 0.6576, \n"
     ]
    },
    {
     "name": "stdout",
     "output_type": "stream",
     "text": [
      "epoch: 4, [batch: 5 / 45], examples_per_second: 4031.7694, train_label_loss: 0.4535, \n"
     ]
    },
    {
     "name": "stdout",
     "output_type": "stream",
     "text": [
      "epoch: 4, [batch: 9 / 45], examples_per_second: 4133.8904, train_label_loss: 0.7851, \n"
     ]
    },
    {
     "name": "stdout",
     "output_type": "stream",
     "text": [
      "epoch: 4, [batch: 14 / 45], examples_per_second: 4133.7102, train_label_loss: 0.5952, \n"
     ]
    },
    {
     "name": "stdout",
     "output_type": "stream",
     "text": [
      "epoch: 4, [batch: 18 / 45], examples_per_second: 4130.2940, train_label_loss: 0.4775, \n"
     ]
    },
    {
     "name": "stdout",
     "output_type": "stream",
     "text": [
      "epoch: 4, [batch: 23 / 45], examples_per_second: 4054.6313, train_label_loss: 0.5901, \n"
     ]
    },
    {
     "name": "stdout",
     "output_type": "stream",
     "text": [
      "epoch: 4, [batch: 27 / 45], examples_per_second: 4135.8360, train_label_loss: 0.5664, \n"
     ]
    },
    {
     "name": "stdout",
     "output_type": "stream",
     "text": [
      "epoch: 4, [batch: 31 / 45], examples_per_second: 4133.6271, train_label_loss: 0.5973, \n"
     ]
    },
    {
     "name": "stdout",
     "output_type": "stream",
     "text": [
      "epoch: 4, [batch: 36 / 45], examples_per_second: 4166.7687, train_label_loss: 0.3635, \n"
     ]
    },
    {
     "name": "stdout",
     "output_type": "stream",
     "text": [
      "epoch: 4, [batch: 40 / 45], examples_per_second: 4224.3898, train_label_loss: 0.3340, \n"
     ]
    },
    {
     "name": "stdout",
     "output_type": "stream",
     "text": [
      "=============================================================\n",
      "epoch: 4, source_val_acc_label: 0.9308, target_val_acc_label: 0.8483, source_val_label_loss: 0.4108, target_val_label_loss: 0.8423, \n",
      "=============================================================\n"
     ]
    },
    {
     "name": "stdout",
     "output_type": "stream",
     "text": [
      "New best\n"
     ]
    },
    {
     "name": "stdout",
     "output_type": "stream",
     "text": [
      "epoch: 5, [batch: 1 / 45], examples_per_second: 492.8285, train_label_loss: 0.4886, \n"
     ]
    },
    {
     "name": "stdout",
     "output_type": "stream",
     "text": [
      "epoch: 5, [batch: 5 / 45], examples_per_second: 4031.7843, train_label_loss: 0.3961, \n"
     ]
    },
    {
     "name": "stdout",
     "output_type": "stream",
     "text": [
      "epoch: 5, [batch: 9 / 45], examples_per_second: 4122.2705, train_label_loss: 0.3680, \n"
     ]
    },
    {
     "name": "stdout",
     "output_type": "stream",
     "text": [
      "epoch: 5, [batch: 14 / 45], examples_per_second: 4126.1914, train_label_loss: 0.4354, \n"
     ]
    },
    {
     "name": "stdout",
     "output_type": "stream",
     "text": [
      "epoch: 5, [batch: 18 / 45], examples_per_second: 4133.3811, train_label_loss: 0.5148, \n"
     ]
    },
    {
     "name": "stdout",
     "output_type": "stream",
     "text": [
      "epoch: 5, [batch: 23 / 45], examples_per_second: 4050.6878, train_label_loss: 0.3669, \n"
     ]
    },
    {
     "name": "stdout",
     "output_type": "stream",
     "text": [
      "epoch: 5, [batch: 27 / 45], examples_per_second: 4130.2142, train_label_loss: 0.3028, \n"
     ]
    },
    {
     "name": "stdout",
     "output_type": "stream",
     "text": [
      "epoch: 5, [batch: 31 / 45], examples_per_second: 4128.6239, train_label_loss: 0.3330, \n"
     ]
    },
    {
     "name": "stdout",
     "output_type": "stream",
     "text": [
      "epoch: 5, [batch: 36 / 45], examples_per_second: 4171.4241, train_label_loss: 0.6060, \n"
     ]
    },
    {
     "name": "stdout",
     "output_type": "stream",
     "text": [
      "epoch: 5, [batch: 40 / 45], examples_per_second: 4219.9744, train_label_loss: 0.3801, \n"
     ]
    },
    {
     "name": "stdout",
     "output_type": "stream",
     "text": [
      "=============================================================\n",
      "epoch: 5, source_val_acc_label: 0.9442, target_val_acc_label: 0.8605, source_val_label_loss: 0.3592, target_val_label_loss: 0.7668, \n",
      "=============================================================\n"
     ]
    },
    {
     "name": "stdout",
     "output_type": "stream",
     "text": [
      "New best\n"
     ]
    },
    {
     "name": "stdout",
     "output_type": "stream",
     "text": [
      "epoch: 6, [batch: 1 / 45], examples_per_second: 494.2410, train_label_loss: 0.3670, \n"
     ]
    },
    {
     "name": "stdout",
     "output_type": "stream",
     "text": [
      "epoch: 6, [batch: 5 / 45], examples_per_second: 4032.4194, train_label_loss: 0.2300, \n"
     ]
    },
    {
     "name": "stdout",
     "output_type": "stream",
     "text": [
      "epoch: 6, [batch: 9 / 45], examples_per_second: 4126.4196, train_label_loss: 0.4161, \n"
     ]
    },
    {
     "name": "stdout",
     "output_type": "stream",
     "text": [
      "epoch: 6, [batch: 14 / 45], examples_per_second: 4127.5157, train_label_loss: 0.2778, \n"
     ]
    },
    {
     "name": "stdout",
     "output_type": "stream",
     "text": [
      "epoch: 6, [batch: 18 / 45], examples_per_second: 4121.6520, train_label_loss: 0.3751, \n"
     ]
    },
    {
     "name": "stdout",
     "output_type": "stream",
     "text": [
      "epoch: 6, [batch: 23 / 45], examples_per_second: 4043.1883, train_label_loss: 0.5125, \n"
     ]
    },
    {
     "name": "stdout",
     "output_type": "stream",
     "text": [
      "epoch: 6, [batch: 27 / 45], examples_per_second: 4120.8592, train_label_loss: 0.4341, \n"
     ]
    },
    {
     "name": "stdout",
     "output_type": "stream",
     "text": [
      "epoch: 6, [batch: 31 / 45], examples_per_second: 4130.4645, train_label_loss: 0.4247, \n"
     ]
    },
    {
     "name": "stdout",
     "output_type": "stream",
     "text": [
      "epoch: 6, [batch: 36 / 45], examples_per_second: 4161.0705, train_label_loss: 0.2891, \n"
     ]
    },
    {
     "name": "stdout",
     "output_type": "stream",
     "text": [
      "epoch: 6, [batch: 40 / 45], examples_per_second: 4226.3986, train_label_loss: 0.3476, \n"
     ]
    },
    {
     "name": "stdout",
     "output_type": "stream",
     "text": [
      "=============================================================\n",
      "epoch: 6, source_val_acc_label: 0.9538, target_val_acc_label: 0.8722, source_val_label_loss: 0.3241, target_val_label_loss: 0.7237, \n",
      "=============================================================\n"
     ]
    },
    {
     "name": "stdout",
     "output_type": "stream",
     "text": [
      "New best\n"
     ]
    },
    {
     "name": "stdout",
     "output_type": "stream",
     "text": [
      "epoch: 7, [batch: 1 / 45], examples_per_second: 495.2153, train_label_loss: 0.3339, \n"
     ]
    },
    {
     "name": "stdout",
     "output_type": "stream",
     "text": [
      "epoch: 7, [batch: 5 / 45], examples_per_second: 4037.3654, train_label_loss: 0.1582, \n"
     ]
    },
    {
     "name": "stdout",
     "output_type": "stream",
     "text": [
      "epoch: 7, [batch: 9 / 45], examples_per_second: 4140.8284, train_label_loss: 0.3481, \n"
     ]
    },
    {
     "name": "stdout",
     "output_type": "stream",
     "text": [
      "epoch: 7, [batch: 14 / 45], examples_per_second: 4140.1244, train_label_loss: 0.2031, \n"
     ]
    },
    {
     "name": "stdout",
     "output_type": "stream",
     "text": [
      "epoch: 7, [batch: 18 / 45], examples_per_second: 4131.8323, train_label_loss: 0.3403, \n"
     ]
    },
    {
     "name": "stdout",
     "output_type": "stream",
     "text": [
      "epoch: 7, [batch: 23 / 45], examples_per_second: 4055.8908, train_label_loss: 0.2488, \n"
     ]
    },
    {
     "name": "stdout",
     "output_type": "stream",
     "text": [
      "epoch: 7, [batch: 27 / 45], examples_per_second: 4137.4491, train_label_loss: 0.3027, \n"
     ]
    },
    {
     "name": "stdout",
     "output_type": "stream",
     "text": [
      "epoch: 7, [batch: 31 / 45], examples_per_second: 4137.3078, train_label_loss: 0.2780, \n"
     ]
    },
    {
     "name": "stdout",
     "output_type": "stream",
     "text": [
      "epoch: 7, [batch: 36 / 45], examples_per_second: 4174.6549, train_label_loss: 0.3191, \n"
     ]
    },
    {
     "name": "stdout",
     "output_type": "stream",
     "text": [
      "epoch: 7, [batch: 40 / 45], examples_per_second: 4236.7843, train_label_loss: 0.3199, \n"
     ]
    },
    {
     "name": "stdout",
     "output_type": "stream",
     "text": [
      "=============================================================\n",
      "epoch: 7, source_val_acc_label: 0.9564, target_val_acc_label: 0.8741, source_val_label_loss: 0.2799, target_val_label_loss: 0.7066, \n",
      "=============================================================\n"
     ]
    },
    {
     "name": "stdout",
     "output_type": "stream",
     "text": [
      "New best\n"
     ]
    },
    {
     "name": "stdout",
     "output_type": "stream",
     "text": [
      "epoch: 8, [batch: 1 / 45], examples_per_second: 493.9724, train_label_loss: 0.1380, \n"
     ]
    },
    {
     "name": "stdout",
     "output_type": "stream",
     "text": [
      "epoch: 8, [batch: 5 / 45], examples_per_second: 4013.3055, train_label_loss: 0.3285, \n"
     ]
    },
    {
     "name": "stdout",
     "output_type": "stream",
     "text": [
      "epoch: 8, [batch: 9 / 45], examples_per_second: 4124.0555, train_label_loss: 0.3592, \n"
     ]
    },
    {
     "name": "stdout",
     "output_type": "stream",
     "text": [
      "epoch: 8, [batch: 14 / 45], examples_per_second: 4128.8572, train_label_loss: 0.3463, \n"
     ]
    },
    {
     "name": "stdout",
     "output_type": "stream",
     "text": [
      "epoch: 8, [batch: 18 / 45], examples_per_second: 4086.0871, train_label_loss: 0.3538, \n"
     ]
    },
    {
     "name": "stdout",
     "output_type": "stream",
     "text": [
      "epoch: 8, [batch: 23 / 45], examples_per_second: 4059.4225, train_label_loss: 0.4917, \n"
     ]
    },
    {
     "name": "stdout",
     "output_type": "stream",
     "text": [
      "epoch: 8, [batch: 27 / 45], examples_per_second: 4137.2780, train_label_loss: 0.2943, \n"
     ]
    },
    {
     "name": "stdout",
     "output_type": "stream",
     "text": [
      "epoch: 8, [batch: 31 / 45], examples_per_second: 4138.4822, train_label_loss: 0.3167, \n"
     ]
    },
    {
     "name": "stdout",
     "output_type": "stream",
     "text": [
      "epoch: 8, [batch: 36 / 45], examples_per_second: 4169.4796, train_label_loss: 0.3591, \n"
     ]
    },
    {
     "name": "stdout",
     "output_type": "stream",
     "text": [
      "epoch: 8, [batch: 40 / 45], examples_per_second: 4220.6963, train_label_loss: 0.1367, \n"
     ]
    },
    {
     "name": "stdout",
     "output_type": "stream",
     "text": [
      "=============================================================\n",
      "epoch: 8, source_val_acc_label: 0.9635, target_val_acc_label: 0.8744, source_val_label_loss: 0.2684, target_val_label_loss: 0.7214, \n",
      "=============================================================\n"
     ]
    },
    {
     "name": "stdout",
     "output_type": "stream",
     "text": [
      "New best\n"
     ]
    },
    {
     "name": "stdout",
     "output_type": "stream",
     "text": [
      "epoch: 9, [batch: 1 / 45], examples_per_second: 497.2872, train_label_loss: 0.2799, \n"
     ]
    },
    {
     "name": "stdout",
     "output_type": "stream",
     "text": [
      "epoch: 9, [batch: 5 / 45], examples_per_second: 4020.8166, train_label_loss: 0.1995, \n"
     ]
    },
    {
     "name": "stdout",
     "output_type": "stream",
     "text": [
      "epoch: 9, [batch: 9 / 45], examples_per_second: 4142.3226, train_label_loss: 0.3611, \n"
     ]
    },
    {
     "name": "stdout",
     "output_type": "stream",
     "text": [
      "epoch: 9, [batch: 14 / 45], examples_per_second: 4136.3192, train_label_loss: 0.1933, \n"
     ]
    },
    {
     "name": "stdout",
     "output_type": "stream",
     "text": [
      "epoch: 9, [batch: 18 / 45], examples_per_second: 4138.6110, train_label_loss: 0.2277, \n"
     ]
    },
    {
     "name": "stdout",
     "output_type": "stream",
     "text": [
      "epoch: 9, [batch: 23 / 45], examples_per_second: 4061.4036, train_label_loss: 0.3546, \n"
     ]
    },
    {
     "name": "stdout",
     "output_type": "stream",
     "text": [
      "epoch: 9, [batch: 27 / 45], examples_per_second: 4140.6177, train_label_loss: 0.3015, \n"
     ]
    },
    {
     "name": "stdout",
     "output_type": "stream",
     "text": [
      "epoch: 9, [batch: 31 / 45], examples_per_second: 4142.6090, train_label_loss: 0.2995, \n"
     ]
    },
    {
     "name": "stdout",
     "output_type": "stream",
     "text": [
      "epoch: 9, [batch: 36 / 45], examples_per_second: 4170.5409, train_label_loss: 0.3761, \n"
     ]
    },
    {
     "name": "stdout",
     "output_type": "stream",
     "text": [
      "epoch: 9, [batch: 40 / 45], examples_per_second: 4229.4540, train_label_loss: 0.1965, \n"
     ]
    },
    {
     "name": "stdout",
     "output_type": "stream",
     "text": [
      "=============================================================\n",
      "epoch: 9, source_val_acc_label: 0.9571, target_val_acc_label: 0.8831, source_val_label_loss: 0.2635, target_val_label_loss: 0.6637, \n",
      "=============================================================\n"
     ]
    },
    {
     "name": "stdout",
     "output_type": "stream",
     "text": [
      "New best\n"
     ]
    },
    {
     "name": "stdout",
     "output_type": "stream",
     "text": [
      "epoch: 10, [batch: 1 / 45], examples_per_second: 494.8375, train_label_loss: 0.2202, \n"
     ]
    },
    {
     "name": "stdout",
     "output_type": "stream",
     "text": [
      "epoch: 10, [batch: 5 / 45], examples_per_second: 4035.0574, train_label_loss: 0.4681, \n"
     ]
    },
    {
     "name": "stdout",
     "output_type": "stream",
     "text": [
      "epoch: 10, [batch: 9 / 45], examples_per_second: 4130.5208, train_label_loss: 0.2100, \n"
     ]
    },
    {
     "name": "stdout",
     "output_type": "stream",
     "text": [
      "epoch: 10, [batch: 14 / 45], examples_per_second: 4115.5178, train_label_loss: 0.2092, \n"
     ]
    },
    {
     "name": "stdout",
     "output_type": "stream",
     "text": [
      "epoch: 10, [batch: 18 / 45], examples_per_second: 4125.8155, train_label_loss: 0.2776, \n"
     ]
    },
    {
     "name": "stdout",
     "output_type": "stream",
     "text": [
      "epoch: 10, [batch: 23 / 45], examples_per_second: 4052.0436, train_label_loss: 0.1310, \n"
     ]
    },
    {
     "name": "stdout",
     "output_type": "stream",
     "text": [
      "epoch: 10, [batch: 27 / 45], examples_per_second: 4129.6230, train_label_loss: 0.2131, \n"
     ]
    },
    {
     "name": "stdout",
     "output_type": "stream",
     "text": [
      "epoch: 10, [batch: 31 / 45], examples_per_second: 4130.4520, train_label_loss: 0.2733, \n"
     ]
    },
    {
     "name": "stdout",
     "output_type": "stream",
     "text": [
      "epoch: 10, [batch: 36 / 45], examples_per_second: 4164.8705, train_label_loss: 0.1405, \n"
     ]
    },
    {
     "name": "stdout",
     "output_type": "stream",
     "text": [
      "epoch: 10, [batch: 40 / 45], examples_per_second: 4223.9464, train_label_loss: 0.2402, \n"
     ]
    },
    {
     "name": "stdout",
     "output_type": "stream",
     "text": [
      "=============================================================\n",
      "epoch: 10, source_val_acc_label: 0.9603, target_val_acc_label: 0.8812, source_val_label_loss: 0.2510, target_val_label_loss: 0.6834, \n",
      "=============================================================\n"
     ]
    },
    {
     "name": "stdout",
     "output_type": "stream",
     "text": [
      "epoch: 11, [batch: 1 / 45], examples_per_second: 510.4343, train_label_loss: 0.3085, \n"
     ]
    },
    {
     "name": "stdout",
     "output_type": "stream",
     "text": [
      "epoch: 11, [batch: 5 / 45], examples_per_second: 4037.0426, train_label_loss: 0.2826, \n"
     ]
    },
    {
     "name": "stdout",
     "output_type": "stream",
     "text": [
      "epoch: 11, [batch: 9 / 45], examples_per_second: 4138.0425, train_label_loss: 0.1944, \n"
     ]
    },
    {
     "name": "stdout",
     "output_type": "stream",
     "text": [
      "epoch: 11, [batch: 14 / 45], examples_per_second: 4133.8518, train_label_loss: 0.1535, \n"
     ]
    },
    {
     "name": "stdout",
     "output_type": "stream",
     "text": [
      "epoch: 11, [batch: 18 / 45], examples_per_second: 4135.5192, train_label_loss: 0.3391, \n"
     ]
    },
    {
     "name": "stdout",
     "output_type": "stream",
     "text": [
      "epoch: 11, [batch: 23 / 45], examples_per_second: 4058.8194, train_label_loss: 0.2372, \n"
     ]
    },
    {
     "name": "stdout",
     "output_type": "stream",
     "text": [
      "epoch: 11, [batch: 27 / 45], examples_per_second: 4135.5788, train_label_loss: 0.3838, \n"
     ]
    },
    {
     "name": "stdout",
     "output_type": "stream",
     "text": [
      "epoch: 11, [batch: 31 / 45], examples_per_second: 4144.6479, train_label_loss: 0.2915, \n"
     ]
    },
    {
     "name": "stdout",
     "output_type": "stream",
     "text": [
      "epoch: 11, [batch: 36 / 45], examples_per_second: 4174.7316, train_label_loss: 0.2865, \n"
     ]
    },
    {
     "name": "stdout",
     "output_type": "stream",
     "text": [
      "epoch: 11, [batch: 40 / 45], examples_per_second: 4226.2643, train_label_loss: 0.3214, \n"
     ]
    },
    {
     "name": "stdout",
     "output_type": "stream",
     "text": [
      "=============================================================\n",
      "epoch: 11, source_val_acc_label: 0.9647, target_val_acc_label: 0.8846, source_val_label_loss: 0.2411, target_val_label_loss: 0.6352, \n",
      "=============================================================\n"
     ]
    },
    {
     "name": "stdout",
     "output_type": "stream",
     "text": [
      "New best\n"
     ]
    },
    {
     "name": "stdout",
     "output_type": "stream",
     "text": [
      "epoch: 12, [batch: 1 / 45], examples_per_second: 493.5769, train_label_loss: 0.1956, \n"
     ]
    },
    {
     "name": "stdout",
     "output_type": "stream",
     "text": [
      "epoch: 12, [batch: 5 / 45], examples_per_second: 4022.0460, train_label_loss: 0.2649, \n"
     ]
    },
    {
     "name": "stdout",
     "output_type": "stream",
     "text": [
      "epoch: 12, [batch: 9 / 45], examples_per_second: 4129.8779, train_label_loss: 0.3226, \n"
     ]
    },
    {
     "name": "stdout",
     "output_type": "stream",
     "text": [
      "epoch: 12, [batch: 14 / 45], examples_per_second: 4121.3261, train_label_loss: 0.3304, \n"
     ]
    },
    {
     "name": "stdout",
     "output_type": "stream",
     "text": [
      "epoch: 12, [batch: 18 / 45], examples_per_second: 4124.8323, train_label_loss: 0.1870, \n"
     ]
    },
    {
     "name": "stdout",
     "output_type": "stream",
     "text": [
      "epoch: 12, [batch: 23 / 45], examples_per_second: 4044.0927, train_label_loss: 0.2656, \n"
     ]
    },
    {
     "name": "stdout",
     "output_type": "stream",
     "text": [
      "epoch: 12, [batch: 27 / 45], examples_per_second: 4117.2435, train_label_loss: 0.2301, \n"
     ]
    },
    {
     "name": "stdout",
     "output_type": "stream",
     "text": [
      "epoch: 12, [batch: 31 / 45], examples_per_second: 4117.4207, train_label_loss: 0.1262, \n"
     ]
    },
    {
     "name": "stdout",
     "output_type": "stream",
     "text": [
      "epoch: 12, [batch: 36 / 45], examples_per_second: 4157.1709, train_label_loss: 0.2227, \n"
     ]
    },
    {
     "name": "stdout",
     "output_type": "stream",
     "text": [
      "epoch: 12, [batch: 40 / 45], examples_per_second: 4218.6472, train_label_loss: 0.3233, \n"
     ]
    },
    {
     "name": "stdout",
     "output_type": "stream",
     "text": [
      "=============================================================\n",
      "epoch: 12, source_val_acc_label: 0.9654, target_val_acc_label: 0.8955, source_val_label_loss: 0.2241, target_val_label_loss: 0.6328, \n",
      "=============================================================\n"
     ]
    },
    {
     "name": "stdout",
     "output_type": "stream",
     "text": [
      "New best\n"
     ]
    },
    {
     "name": "stdout",
     "output_type": "stream",
     "text": [
      "epoch: 13, [batch: 1 / 45], examples_per_second: 495.3841, train_label_loss: 0.1577, \n"
     ]
    },
    {
     "name": "stdout",
     "output_type": "stream",
     "text": [
      "epoch: 13, [batch: 5 / 45], examples_per_second: 4037.7451, train_label_loss: 0.2102, \n"
     ]
    },
    {
     "name": "stdout",
     "output_type": "stream",
     "text": [
      "epoch: 13, [batch: 9 / 45], examples_per_second: 4139.3462, train_label_loss: 0.1594, \n"
     ]
    },
    {
     "name": "stdout",
     "output_type": "stream",
     "text": [
      "epoch: 13, [batch: 14 / 45], examples_per_second: 4127.5370, train_label_loss: 0.3050, \n"
     ]
    },
    {
     "name": "stdout",
     "output_type": "stream",
     "text": [
      "epoch: 13, [batch: 18 / 45], examples_per_second: 4127.9441, train_label_loss: 0.2722, \n"
     ]
    },
    {
     "name": "stdout",
     "output_type": "stream",
     "text": [
      "epoch: 13, [batch: 23 / 45], examples_per_second: 4049.9453, train_label_loss: 0.2104, \n"
     ]
    },
    {
     "name": "stdout",
     "output_type": "stream",
     "text": [
      "epoch: 13, [batch: 27 / 45], examples_per_second: 4134.8151, train_label_loss: 0.1357, \n"
     ]
    },
    {
     "name": "stdout",
     "output_type": "stream",
     "text": [
      "epoch: 13, [batch: 31 / 45], examples_per_second: 4131.5364, train_label_loss: 0.2402, \n"
     ]
    },
    {
     "name": "stdout",
     "output_type": "stream",
     "text": [
      "epoch: 13, [batch: 36 / 45], examples_per_second: 4164.2128, train_label_loss: 0.1098, \n"
     ]
    },
    {
     "name": "stdout",
     "output_type": "stream",
     "text": [
      "epoch: 13, [batch: 40 / 45], examples_per_second: 4226.0219, train_label_loss: 0.3240, \n"
     ]
    },
    {
     "name": "stdout",
     "output_type": "stream",
     "text": [
      "=============================================================\n",
      "epoch: 13, source_val_acc_label: 0.9622, target_val_acc_label: 0.8897, source_val_label_loss: 0.2219, target_val_label_loss: 0.6348, \n",
      "=============================================================\n"
     ]
    },
    {
     "name": "stdout",
     "output_type": "stream",
     "text": [
      "epoch: 14, [batch: 1 / 45], examples_per_second: 507.4537, train_label_loss: 0.1875, \n"
     ]
    },
    {
     "name": "stdout",
     "output_type": "stream",
     "text": [
      "epoch: 14, [batch: 5 / 45], examples_per_second: 4035.0842, train_label_loss: 0.2413, \n"
     ]
    },
    {
     "name": "stdout",
     "output_type": "stream",
     "text": [
      "epoch: 14, [batch: 9 / 45], examples_per_second: 4136.2376, train_label_loss: 0.1611, \n"
     ]
    },
    {
     "name": "stdout",
     "output_type": "stream",
     "text": [
      "epoch: 14, [batch: 14 / 45], examples_per_second: 4136.0380, train_label_loss: 0.3458, \n"
     ]
    },
    {
     "name": "stdout",
     "output_type": "stream",
     "text": [
      "epoch: 14, [batch: 18 / 45], examples_per_second: 4139.7909, train_label_loss: 0.2450, \n"
     ]
    },
    {
     "name": "stdout",
     "output_type": "stream",
     "text": [
      "epoch: 14, [batch: 23 / 45], examples_per_second: 4061.9252, train_label_loss: 0.2737, \n"
     ]
    },
    {
     "name": "stdout",
     "output_type": "stream",
     "text": [
      "epoch: 14, [batch: 27 / 45], examples_per_second: 4136.9625, train_label_loss: 0.3117, \n"
     ]
    },
    {
     "name": "stdout",
     "output_type": "stream",
     "text": [
      "epoch: 14, [batch: 31 / 45], examples_per_second: 4135.3451, train_label_loss: 0.3479, \n"
     ]
    },
    {
     "name": "stdout",
     "output_type": "stream",
     "text": [
      "epoch: 14, [batch: 36 / 45], examples_per_second: 4169.3533, train_label_loss: 0.2702, \n"
     ]
    },
    {
     "name": "stdout",
     "output_type": "stream",
     "text": [
      "epoch: 14, [batch: 40 / 45], examples_per_second: 4216.3409, train_label_loss: 0.1645, \n"
     ]
    },
    {
     "name": "stdout",
     "output_type": "stream",
     "text": [
      "=============================================================\n",
      "epoch: 14, source_val_acc_label: 0.9673, target_val_acc_label: 0.8917, source_val_label_loss: 0.2164, target_val_label_loss: 0.6206, \n",
      "=============================================================\n"
     ]
    },
    {
     "name": "stdout",
     "output_type": "stream",
     "text": [
      "epoch: 15, [batch: 1 / 45], examples_per_second: 509.2323, train_label_loss: 0.3016, \n"
     ]
    },
    {
     "name": "stdout",
     "output_type": "stream",
     "text": [
      "epoch: 15, [batch: 5 / 45], examples_per_second: 4010.6443, train_label_loss: 0.4105, \n"
     ]
    },
    {
     "name": "stdout",
     "output_type": "stream",
     "text": [
      "epoch: 15, [batch: 9 / 45], examples_per_second: 4132.5165, train_label_loss: 0.0877, \n"
     ]
    },
    {
     "name": "stdout",
     "output_type": "stream",
     "text": [
      "epoch: 15, [batch: 14 / 45], examples_per_second: 4129.7465, train_label_loss: 0.1874, \n"
     ]
    },
    {
     "name": "stdout",
     "output_type": "stream",
     "text": [
      "epoch: 15, [batch: 18 / 45], examples_per_second: 4130.4410, train_label_loss: 0.2607, \n"
     ]
    },
    {
     "name": "stdout",
     "output_type": "stream",
     "text": [
      "epoch: 15, [batch: 23 / 45], examples_per_second: 4050.1017, train_label_loss: 0.3240, \n"
     ]
    },
    {
     "name": "stdout",
     "output_type": "stream",
     "text": [
      "epoch: 15, [batch: 27 / 45], examples_per_second: 4127.2489, train_label_loss: 0.1925, \n"
     ]
    },
    {
     "name": "stdout",
     "output_type": "stream",
     "text": [
      "epoch: 15, [batch: 31 / 45], examples_per_second: 4125.4612, train_label_loss: 0.1870, \n"
     ]
    },
    {
     "name": "stdout",
     "output_type": "stream",
     "text": [
      "epoch: 15, [batch: 36 / 45], examples_per_second: 4162.8304, train_label_loss: 0.2699, \n"
     ]
    },
    {
     "name": "stdout",
     "output_type": "stream",
     "text": [
      "epoch: 15, [batch: 40 / 45], examples_per_second: 4223.5292, train_label_loss: 0.1269, \n"
     ]
    },
    {
     "name": "stdout",
     "output_type": "stream",
     "text": [
      "=============================================================\n",
      "epoch: 15, source_val_acc_label: 0.9660, target_val_acc_label: 0.8932, source_val_label_loss: 0.2138, target_val_label_loss: 0.6234, \n",
      "=============================================================\n"
     ]
    },
    {
     "name": "stdout",
     "output_type": "stream",
     "text": [
      "epoch: 16, [batch: 1 / 45], examples_per_second: 507.7790, train_label_loss: 0.1766, \n"
     ]
    },
    {
     "name": "stdout",
     "output_type": "stream",
     "text": [
      "epoch: 16, [batch: 5 / 45], examples_per_second: 4034.3140, train_label_loss: 0.1684, \n"
     ]
    },
    {
     "name": "stdout",
     "output_type": "stream",
     "text": [
      "epoch: 16, [batch: 9 / 45], examples_per_second: 4121.5305, train_label_loss: 0.2147, \n"
     ]
    },
    {
     "name": "stdout",
     "output_type": "stream",
     "text": [
      "epoch: 16, [batch: 14 / 45], examples_per_second: 4131.2347, train_label_loss: 0.2984, \n"
     ]
    },
    {
     "name": "stdout",
     "output_type": "stream",
     "text": [
      "epoch: 16, [batch: 18 / 45], examples_per_second: 4121.7704, train_label_loss: 0.2314, \n"
     ]
    },
    {
     "name": "stdout",
     "output_type": "stream",
     "text": [
      "epoch: 16, [batch: 23 / 45], examples_per_second: 4055.0414, train_label_loss: 0.3009, \n"
     ]
    },
    {
     "name": "stdout",
     "output_type": "stream",
     "text": [
      "epoch: 16, [batch: 27 / 45], examples_per_second: 4128.2004, train_label_loss: 0.1271, \n"
     ]
    },
    {
     "name": "stdout",
     "output_type": "stream",
     "text": [
      "epoch: 16, [batch: 31 / 45], examples_per_second: 4133.7399, train_label_loss: 0.1832, \n"
     ]
    },
    {
     "name": "stdout",
     "output_type": "stream",
     "text": [
      "epoch: 16, [batch: 36 / 45], examples_per_second: 4161.2598, train_label_loss: 0.1121, \n"
     ]
    },
    {
     "name": "stdout",
     "output_type": "stream",
     "text": [
      "epoch: 16, [batch: 40 / 45], examples_per_second: 4217.7400, train_label_loss: 0.1366, \n"
     ]
    },
    {
     "name": "stdout",
     "output_type": "stream",
     "text": [
      "=============================================================\n",
      "epoch: 16, source_val_acc_label: 0.9673, target_val_acc_label: 0.8959, source_val_label_loss: 0.1980, target_val_label_loss: 0.5999, \n",
      "=============================================================\n"
     ]
    },
    {
     "name": "stdout",
     "output_type": "stream",
     "text": [
      "New best\n"
     ]
    },
    {
     "name": "stdout",
     "output_type": "stream",
     "text": [
      "epoch: 17, [batch: 1 / 45], examples_per_second: 493.0497, train_label_loss: 0.1009, \n"
     ]
    },
    {
     "name": "stdout",
     "output_type": "stream",
     "text": [
      "epoch: 17, [batch: 5 / 45], examples_per_second: 4022.3516, train_label_loss: 0.3160, \n"
     ]
    },
    {
     "name": "stdout",
     "output_type": "stream",
     "text": [
      "epoch: 17, [batch: 9 / 45], examples_per_second: 4128.1926, train_label_loss: 0.1107, \n"
     ]
    },
    {
     "name": "stdout",
     "output_type": "stream",
     "text": [
      "epoch: 17, [batch: 14 / 45], examples_per_second: 4129.4926, train_label_loss: 0.2897, \n"
     ]
    },
    {
     "name": "stdout",
     "output_type": "stream",
     "text": [
      "epoch: 17, [batch: 18 / 45], examples_per_second: 4126.7194, train_label_loss: 0.2858, \n"
     ]
    },
    {
     "name": "stdout",
     "output_type": "stream",
     "text": [
      "epoch: 17, [batch: 23 / 45], examples_per_second: 4045.6338, train_label_loss: 0.1289, \n"
     ]
    },
    {
     "name": "stdout",
     "output_type": "stream",
     "text": [
      "epoch: 17, [batch: 27 / 45], examples_per_second: 4127.2395, train_label_loss: 0.0534, \n"
     ]
    },
    {
     "name": "stdout",
     "output_type": "stream",
     "text": [
      "epoch: 17, [batch: 31 / 45], examples_per_second: 4120.0792, train_label_loss: 0.0812, \n"
     ]
    },
    {
     "name": "stdout",
     "output_type": "stream",
     "text": [
      "epoch: 17, [batch: 36 / 45], examples_per_second: 4163.1432, train_label_loss: 0.2089, \n"
     ]
    },
    {
     "name": "stdout",
     "output_type": "stream",
     "text": [
      "epoch: 17, [batch: 40 / 45], examples_per_second: 4221.4005, train_label_loss: 0.1664, \n"
     ]
    },
    {
     "name": "stdout",
     "output_type": "stream",
     "text": [
      "=============================================================\n",
      "epoch: 17, source_val_acc_label: 0.9667, target_val_acc_label: 0.8925, source_val_label_loss: 0.2222, target_val_label_loss: 0.6241, \n",
      "=============================================================\n"
     ]
    },
    {
     "name": "stdout",
     "output_type": "stream",
     "text": [
      "epoch: 18, [batch: 1 / 45], examples_per_second: 511.0009, train_label_loss: 0.2052, \n"
     ]
    },
    {
     "name": "stdout",
     "output_type": "stream",
     "text": [
      "epoch: 18, [batch: 5 / 45], examples_per_second: 4010.7151, train_label_loss: 0.1368, \n"
     ]
    },
    {
     "name": "stdout",
     "output_type": "stream",
     "text": [
      "epoch: 18, [batch: 9 / 45], examples_per_second: 4129.9483, train_label_loss: 0.0885, \n"
     ]
    },
    {
     "name": "stdout",
     "output_type": "stream",
     "text": [
      "epoch: 18, [batch: 14 / 45], examples_per_second: 4128.5470, train_label_loss: 0.1418, \n"
     ]
    },
    {
     "name": "stdout",
     "output_type": "stream",
     "text": [
      "epoch: 18, [batch: 18 / 45], examples_per_second: 4127.3364, train_label_loss: 0.1025, \n"
     ]
    },
    {
     "name": "stdout",
     "output_type": "stream",
     "text": [
      "epoch: 18, [batch: 23 / 45], examples_per_second: 4027.0489, train_label_loss: 0.1628, \n"
     ]
    },
    {
     "name": "stdout",
     "output_type": "stream",
     "text": [
      "epoch: 18, [batch: 27 / 45], examples_per_second: 4085.3126, train_label_loss: 0.3043, \n"
     ]
    },
    {
     "name": "stdout",
     "output_type": "stream",
     "text": [
      "epoch: 18, [batch: 31 / 45], examples_per_second: 4116.3234, train_label_loss: 0.1844, \n"
     ]
    },
    {
     "name": "stdout",
     "output_type": "stream",
     "text": [
      "epoch: 18, [batch: 36 / 45], examples_per_second: 4163.7129, train_label_loss: 0.2157, \n"
     ]
    },
    {
     "name": "stdout",
     "output_type": "stream",
     "text": [
      "epoch: 18, [batch: 40 / 45], examples_per_second: 4225.1934, train_label_loss: 0.2595, \n"
     ]
    },
    {
     "name": "stdout",
     "output_type": "stream",
     "text": [
      "=============================================================\n",
      "epoch: 18, source_val_acc_label: 0.9660, target_val_acc_label: 0.8976, source_val_label_loss: 0.2162, target_val_label_loss: 0.5998, \n",
      "=============================================================\n"
     ]
    },
    {
     "name": "stdout",
     "output_type": "stream",
     "text": [
      "New best\n"
     ]
    },
    {
     "name": "stdout",
     "output_type": "stream",
     "text": [
      "epoch: 19, [batch: 1 / 45], examples_per_second: 493.5880, train_label_loss: 0.0652, \n"
     ]
    },
    {
     "name": "stdout",
     "output_type": "stream",
     "text": [
      "epoch: 19, [batch: 5 / 45], examples_per_second: 4041.0188, train_label_loss: 0.1487, \n"
     ]
    },
    {
     "name": "stdout",
     "output_type": "stream",
     "text": [
      "epoch: 19, [batch: 9 / 45], examples_per_second: 4129.9592, train_label_loss: 0.1642, \n"
     ]
    },
    {
     "name": "stdout",
     "output_type": "stream",
     "text": [
      "epoch: 19, [batch: 14 / 45], examples_per_second: 4136.6430, train_label_loss: 0.1593, \n"
     ]
    },
    {
     "name": "stdout",
     "output_type": "stream",
     "text": [
      "epoch: 19, [batch: 18 / 45], examples_per_second: 4126.9693, train_label_loss: 0.1051, \n"
     ]
    },
    {
     "name": "stdout",
     "output_type": "stream",
     "text": [
      "epoch: 19, [batch: 23 / 45], examples_per_second: 4056.2239, train_label_loss: 0.1221, \n"
     ]
    },
    {
     "name": "stdout",
     "output_type": "stream",
     "text": [
      "epoch: 19, [batch: 27 / 45], examples_per_second: 4126.7054, train_label_loss: 0.2447, \n"
     ]
    },
    {
     "name": "stdout",
     "output_type": "stream",
     "text": [
      "epoch: 19, [batch: 31 / 45], examples_per_second: 4128.7255, train_label_loss: 0.1808, \n"
     ]
    },
    {
     "name": "stdout",
     "output_type": "stream",
     "text": [
      "epoch: 19, [batch: 36 / 45], examples_per_second: 4171.1075, train_label_loss: 0.4171, \n"
     ]
    },
    {
     "name": "stdout",
     "output_type": "stream",
     "text": [
      "epoch: 19, [batch: 40 / 45], examples_per_second: 4224.0740, train_label_loss: 0.1175, \n"
     ]
    },
    {
     "name": "stdout",
     "output_type": "stream",
     "text": [
      "=============================================================\n",
      "epoch: 19, source_val_acc_label: 0.9654, target_val_acc_label: 0.9009, source_val_label_loss: 0.2135, target_val_label_loss: 0.5801, \n",
      "=============================================================\n"
     ]
    },
    {
     "name": "stdout",
     "output_type": "stream",
     "text": [
      "New best\n"
     ]
    },
    {
     "name": "stdout",
     "output_type": "stream",
     "text": [
      "epoch: 20, [batch: 1 / 45], examples_per_second: 495.1316, train_label_loss: 0.1676, \n"
     ]
    },
    {
     "name": "stdout",
     "output_type": "stream",
     "text": [
      "epoch: 20, [batch: 5 / 45], examples_per_second: 4020.2844, train_label_loss: 0.1998, \n"
     ]
    },
    {
     "name": "stdout",
     "output_type": "stream",
     "text": [
      "epoch: 20, [batch: 9 / 45], examples_per_second: 4122.8206, train_label_loss: 0.1540, \n"
     ]
    },
    {
     "name": "stdout",
     "output_type": "stream",
     "text": [
      "epoch: 20, [batch: 14 / 45], examples_per_second: 4143.5349, train_label_loss: 0.1845, \n"
     ]
    },
    {
     "name": "stdout",
     "output_type": "stream",
     "text": [
      "epoch: 20, [batch: 18 / 45], examples_per_second: 4134.2634, train_label_loss: 0.1021, \n"
     ]
    },
    {
     "name": "stdout",
     "output_type": "stream",
     "text": [
      "epoch: 20, [batch: 23 / 45], examples_per_second: 4057.8081, train_label_loss: 0.1034, \n"
     ]
    },
    {
     "name": "stdout",
     "output_type": "stream",
     "text": [
      "epoch: 20, [batch: 27 / 45], examples_per_second: 4140.4228, train_label_loss: 0.3588, \n"
     ]
    },
    {
     "name": "stdout",
     "output_type": "stream",
     "text": [
      "epoch: 20, [batch: 31 / 45], examples_per_second: 4137.9201, train_label_loss: 0.2308, \n"
     ]
    },
    {
     "name": "stdout",
     "output_type": "stream",
     "text": [
      "epoch: 20, [batch: 36 / 45], examples_per_second: 4170.0421, train_label_loss: 0.2495, \n"
     ]
    },
    {
     "name": "stdout",
     "output_type": "stream",
     "text": [
      "epoch: 20, [batch: 40 / 45], examples_per_second: 4225.5536, train_label_loss: 0.0843, \n"
     ]
    },
    {
     "name": "stdout",
     "output_type": "stream",
     "text": [
      "=============================================================\n",
      "epoch: 20, source_val_acc_label: 0.9667, target_val_acc_label: 0.9041, source_val_label_loss: 0.1980, target_val_label_loss: 0.5653, \n",
      "=============================================================\n"
     ]
    },
    {
     "name": "stdout",
     "output_type": "stream",
     "text": [
      "New best\n"
     ]
    },
    {
     "name": "stdout",
     "output_type": "stream",
     "text": [
      "epoch: 21, [batch: 1 / 45], examples_per_second: 491.8740, train_label_loss: 0.3110, \n"
     ]
    },
    {
     "name": "stdout",
     "output_type": "stream",
     "text": [
      "epoch: 21, [batch: 5 / 45], examples_per_second: 4027.1777, train_label_loss: 0.1677, \n"
     ]
    },
    {
     "name": "stdout",
     "output_type": "stream",
     "text": [
      "epoch: 21, [batch: 9 / 45], examples_per_second: 4123.0030, train_label_loss: 0.3070, \n"
     ]
    },
    {
     "name": "stdout",
     "output_type": "stream",
     "text": [
      "epoch: 21, [batch: 14 / 45], examples_per_second: 4121.2152, train_label_loss: 0.2002, \n"
     ]
    },
    {
     "name": "stdout",
     "output_type": "stream",
     "text": [
      "epoch: 21, [batch: 18 / 45], examples_per_second: 4132.0781, train_label_loss: 0.1927, \n"
     ]
    },
    {
     "name": "stdout",
     "output_type": "stream",
     "text": [
      "epoch: 21, [batch: 23 / 45], examples_per_second: 4054.4938, train_label_loss: 0.2268, \n"
     ]
    },
    {
     "name": "stdout",
     "output_type": "stream",
     "text": [
      "epoch: 21, [batch: 27 / 45], examples_per_second: 4126.0449, train_label_loss: 0.2470, \n"
     ]
    },
    {
     "name": "stdout",
     "output_type": "stream",
     "text": [
      "epoch: 21, [batch: 31 / 45], examples_per_second: 4130.4129, train_label_loss: 0.1341, \n"
     ]
    },
    {
     "name": "stdout",
     "output_type": "stream",
     "text": [
      "epoch: 21, [batch: 36 / 45], examples_per_second: 4162.2000, train_label_loss: 0.2314, \n"
     ]
    },
    {
     "name": "stdout",
     "output_type": "stream",
     "text": [
      "epoch: 21, [batch: 40 / 45], examples_per_second: 4225.6895, train_label_loss: 0.1638, \n"
     ]
    },
    {
     "name": "stdout",
     "output_type": "stream",
     "text": [
      "=============================================================\n",
      "epoch: 21, source_val_acc_label: 0.9660, target_val_acc_label: 0.9006, source_val_label_loss: 0.2150, target_val_label_loss: 0.5781, \n",
      "=============================================================\n"
     ]
    },
    {
     "name": "stdout",
     "output_type": "stream",
     "text": [
      "epoch: 22, [batch: 1 / 45], examples_per_second: 509.6052, train_label_loss: 0.1679, \n"
     ]
    },
    {
     "name": "stdout",
     "output_type": "stream",
     "text": [
      "epoch: 22, [batch: 5 / 45], examples_per_second: 4017.1803, train_label_loss: 0.1216, \n"
     ]
    },
    {
     "name": "stdout",
     "output_type": "stream",
     "text": [
      "epoch: 22, [batch: 9 / 45], examples_per_second: 4118.8654, train_label_loss: 0.2004, \n"
     ]
    },
    {
     "name": "stdout",
     "output_type": "stream",
     "text": [
      "epoch: 22, [batch: 14 / 45], examples_per_second: 4113.9317, train_label_loss: 0.1525, \n"
     ]
    },
    {
     "name": "stdout",
     "output_type": "stream",
     "text": [
      "epoch: 22, [batch: 18 / 45], examples_per_second: 4123.0981, train_label_loss: 0.1679, \n"
     ]
    },
    {
     "name": "stdout",
     "output_type": "stream",
     "text": [
      "epoch: 22, [batch: 23 / 45], examples_per_second: 4045.2280, train_label_loss: 0.2224, \n"
     ]
    },
    {
     "name": "stdout",
     "output_type": "stream",
     "text": [
      "epoch: 22, [batch: 27 / 45], examples_per_second: 4120.1524, train_label_loss: 0.2725, \n"
     ]
    },
    {
     "name": "stdout",
     "output_type": "stream",
     "text": [
      "epoch: 22, [batch: 31 / 45], examples_per_second: 4120.9293, train_label_loss: 0.2097, \n"
     ]
    },
    {
     "name": "stdout",
     "output_type": "stream",
     "text": [
      "epoch: 22, [batch: 36 / 45], examples_per_second: 4163.4140, train_label_loss: 0.1590, \n"
     ]
    },
    {
     "name": "stdout",
     "output_type": "stream",
     "text": [
      "epoch: 22, [batch: 40 / 45], examples_per_second: 4229.9019, train_label_loss: 0.1213, \n"
     ]
    },
    {
     "name": "stdout",
     "output_type": "stream",
     "text": [
      "=============================================================\n",
      "epoch: 22, source_val_acc_label: 0.9679, target_val_acc_label: 0.9045, source_val_label_loss: 0.2017, target_val_label_loss: 0.5656, \n",
      "=============================================================\n"
     ]
    },
    {
     "name": "stdout",
     "output_type": "stream",
     "text": [
      "New best\n"
     ]
    },
    {
     "name": "stdout",
     "output_type": "stream",
     "text": [
      "epoch: 23, [batch: 1 / 45], examples_per_second: 496.0481, train_label_loss: 0.1151, \n"
     ]
    },
    {
     "name": "stdout",
     "output_type": "stream",
     "text": [
      "epoch: 23, [batch: 5 / 45], examples_per_second: 4023.4587, train_label_loss: 0.1970, \n"
     ]
    },
    {
     "name": "stdout",
     "output_type": "stream",
     "text": [
      "epoch: 23, [batch: 9 / 45], examples_per_second: 4131.8855, train_label_loss: 0.1886, \n"
     ]
    },
    {
     "name": "stdout",
     "output_type": "stream",
     "text": [
      "epoch: 23, [batch: 14 / 45], examples_per_second: 4134.8311, train_label_loss: 0.1084, \n"
     ]
    },
    {
     "name": "stdout",
     "output_type": "stream",
     "text": [
      "epoch: 23, [batch: 18 / 45], examples_per_second: 4120.3610, train_label_loss: 0.2259, \n"
     ]
    },
    {
     "name": "stdout",
     "output_type": "stream",
     "text": [
      "epoch: 23, [batch: 23 / 45], examples_per_second: 4051.8762, train_label_loss: 0.1525, \n"
     ]
    },
    {
     "name": "stdout",
     "output_type": "stream",
     "text": [
      "epoch: 23, [batch: 27 / 45], examples_per_second: 4126.5711, train_label_loss: 0.1359, \n"
     ]
    },
    {
     "name": "stdout",
     "output_type": "stream",
     "text": [
      "epoch: 23, [batch: 31 / 45], examples_per_second: 4118.4672, train_label_loss: 0.1403, \n"
     ]
    },
    {
     "name": "stdout",
     "output_type": "stream",
     "text": [
      "epoch: 23, [batch: 36 / 45], examples_per_second: 4165.7106, train_label_loss: 0.0981, \n"
     ]
    },
    {
     "name": "stdout",
     "output_type": "stream",
     "text": [
      "epoch: 23, [batch: 40 / 45], examples_per_second: 4218.9638, train_label_loss: 0.2842, \n"
     ]
    },
    {
     "name": "stdout",
     "output_type": "stream",
     "text": [
      "=============================================================\n",
      "epoch: 23, source_val_acc_label: 0.9679, target_val_acc_label: 0.9024, source_val_label_loss: 0.2056, target_val_label_loss: 0.5670, \n",
      "=============================================================\n"
     ]
    },
    {
     "name": "stdout",
     "output_type": "stream",
     "text": [
      "epoch: 24, [batch: 1 / 45], examples_per_second: 510.9233, train_label_loss: 0.1495, \n"
     ]
    },
    {
     "name": "stdout",
     "output_type": "stream",
     "text": [
      "epoch: 24, [batch: 5 / 45], examples_per_second: 4026.5561, train_label_loss: 0.1959, \n"
     ]
    },
    {
     "name": "stdout",
     "output_type": "stream",
     "text": [
      "epoch: 24, [batch: 9 / 45], examples_per_second: 4125.6375, train_label_loss: 0.1707, \n"
     ]
    },
    {
     "name": "stdout",
     "output_type": "stream",
     "text": [
      "epoch: 24, [batch: 14 / 45], examples_per_second: 4126.2151, train_label_loss: 0.2253, \n"
     ]
    },
    {
     "name": "stdout",
     "output_type": "stream",
     "text": [
      "epoch: 24, [batch: 18 / 45], examples_per_second: 4131.3846, train_label_loss: 0.1666, \n"
     ]
    },
    {
     "name": "stdout",
     "output_type": "stream",
     "text": [
      "epoch: 24, [batch: 23 / 45], examples_per_second: 4048.4911, train_label_loss: 0.1397, \n"
     ]
    },
    {
     "name": "stdout",
     "output_type": "stream",
     "text": [
      "epoch: 24, [batch: 27 / 45], examples_per_second: 4120.3189, train_label_loss: 0.1767, \n"
     ]
    },
    {
     "name": "stdout",
     "output_type": "stream",
     "text": [
      "epoch: 24, [batch: 31 / 45], examples_per_second: 4128.2895, train_label_loss: 0.1602, \n"
     ]
    },
    {
     "name": "stdout",
     "output_type": "stream",
     "text": [
      "epoch: 24, [batch: 36 / 45], examples_per_second: 4165.9168, train_label_loss: 0.1799, \n"
     ]
    },
    {
     "name": "stdout",
     "output_type": "stream",
     "text": [
      "epoch: 24, [batch: 40 / 45], examples_per_second: 4219.2266, train_label_loss: 0.1292, \n"
     ]
    },
    {
     "name": "stdout",
     "output_type": "stream",
     "text": [
      "=============================================================\n",
      "epoch: 24, source_val_acc_label: 0.9705, target_val_acc_label: 0.9051, source_val_label_loss: 0.1868, target_val_label_loss: 0.5333, \n",
      "=============================================================\n"
     ]
    },
    {
     "name": "stdout",
     "output_type": "stream",
     "text": [
      "New best\n"
     ]
    },
    {
     "name": "stdout",
     "output_type": "stream",
     "text": [
      "epoch: 25, [batch: 1 / 45], examples_per_second: 493.3909, train_label_loss: 0.2059, \n"
     ]
    },
    {
     "name": "stdout",
     "output_type": "stream",
     "text": [
      "epoch: 25, [batch: 5 / 45], examples_per_second: 4030.2436, train_label_loss: 0.4062, \n"
     ]
    },
    {
     "name": "stdout",
     "output_type": "stream",
     "text": [
      "epoch: 25, [batch: 9 / 45], examples_per_second: 4119.7477, train_label_loss: 0.1743, \n"
     ]
    },
    {
     "name": "stdout",
     "output_type": "stream",
     "text": [
      "epoch: 25, [batch: 14 / 45], examples_per_second: 4089.7830, train_label_loss: 0.1791, \n"
     ]
    },
    {
     "name": "stdout",
     "output_type": "stream",
     "text": [
      "epoch: 25, [batch: 18 / 45], examples_per_second: 4079.8257, train_label_loss: 0.1475, \n"
     ]
    },
    {
     "name": "stdout",
     "output_type": "stream",
     "text": [
      "epoch: 25, [batch: 23 / 45], examples_per_second: 4047.8491, train_label_loss: 0.2419, \n"
     ]
    },
    {
     "name": "stdout",
     "output_type": "stream",
     "text": [
      "epoch: 25, [batch: 27 / 45], examples_per_second: 4125.9575, train_label_loss: 0.0729, \n"
     ]
    },
    {
     "name": "stdout",
     "output_type": "stream",
     "text": [
      "epoch: 25, [batch: 31 / 45], examples_per_second: 4121.3389, train_label_loss: 0.1904, \n"
     ]
    },
    {
     "name": "stdout",
     "output_type": "stream",
     "text": [
      "epoch: 25, [batch: 36 / 45], examples_per_second: 4162.5279, train_label_loss: 0.0956, \n"
     ]
    },
    {
     "name": "stdout",
     "output_type": "stream",
     "text": [
      "epoch: 25, [batch: 40 / 45], examples_per_second: 4225.4341, train_label_loss: 0.1608, \n"
     ]
    },
    {
     "name": "stdout",
     "output_type": "stream",
     "text": [
      "=============================================================\n",
      "epoch: 25, source_val_acc_label: 0.9667, target_val_acc_label: 0.9011, source_val_label_loss: 0.2014, target_val_label_loss: 0.5804, \n",
      "=============================================================\n"
     ]
    },
    {
     "name": "stdout",
     "output_type": "stream",
     "text": [
      "epoch: 26, [batch: 1 / 45], examples_per_second: 506.2676, train_label_loss: 0.1913, \n"
     ]
    },
    {
     "name": "stdout",
     "output_type": "stream",
     "text": [
      "epoch: 26, [batch: 5 / 45], examples_per_second: 4031.2910, train_label_loss: 0.1960, \n"
     ]
    },
    {
     "name": "stdout",
     "output_type": "stream",
     "text": [
      "epoch: 26, [batch: 9 / 45], examples_per_second: 4123.6531, train_label_loss: 0.1241, \n"
     ]
    },
    {
     "name": "stdout",
     "output_type": "stream",
     "text": [
      "epoch: 26, [batch: 14 / 45], examples_per_second: 4121.9342, train_label_loss: 0.2097, \n"
     ]
    },
    {
     "name": "stdout",
     "output_type": "stream",
     "text": [
      "epoch: 26, [batch: 18 / 45], examples_per_second: 4119.9469, train_label_loss: 0.1679, \n"
     ]
    },
    {
     "name": "stdout",
     "output_type": "stream",
     "text": [
      "epoch: 26, [batch: 23 / 45], examples_per_second: 4043.9128, train_label_loss: 0.2528, \n"
     ]
    },
    {
     "name": "stdout",
     "output_type": "stream",
     "text": [
      "epoch: 26, [batch: 27 / 45], examples_per_second: 4122.5370, train_label_loss: 0.0893, \n"
     ]
    },
    {
     "name": "stdout",
     "output_type": "stream",
     "text": [
      "epoch: 26, [batch: 31 / 45], examples_per_second: 4118.4827, train_label_loss: 0.1676, \n"
     ]
    },
    {
     "name": "stdout",
     "output_type": "stream",
     "text": [
      "epoch: 26, [batch: 36 / 45], examples_per_second: 4158.5520, train_label_loss: 0.1121, \n"
     ]
    },
    {
     "name": "stdout",
     "output_type": "stream",
     "text": [
      "epoch: 26, [batch: 40 / 45], examples_per_second: 4219.3066, train_label_loss: 0.0712, \n"
     ]
    },
    {
     "name": "stdout",
     "output_type": "stream",
     "text": [
      "=============================================================\n",
      "epoch: 26, source_val_acc_label: 0.9705, target_val_acc_label: 0.9113, source_val_label_loss: 0.1800, target_val_label_loss: 0.5363, \n",
      "=============================================================\n"
     ]
    },
    {
     "name": "stdout",
     "output_type": "stream",
     "text": [
      "New best\n"
     ]
    },
    {
     "name": "stdout",
     "output_type": "stream",
     "text": [
      "epoch: 27, [batch: 1 / 45], examples_per_second: 494.0879, train_label_loss: 0.1816, \n"
     ]
    },
    {
     "name": "stdout",
     "output_type": "stream",
     "text": [
      "epoch: 27, [batch: 5 / 45], examples_per_second: 4039.5953, train_label_loss: 0.1098, \n"
     ]
    },
    {
     "name": "stdout",
     "output_type": "stream",
     "text": [
      "epoch: 27, [batch: 9 / 45], examples_per_second: 4131.7086, train_label_loss: 0.0912, \n"
     ]
    },
    {
     "name": "stdout",
     "output_type": "stream",
     "text": [
      "epoch: 27, [batch: 14 / 45], examples_per_second: 4136.9092, train_label_loss: 0.0865, \n"
     ]
    },
    {
     "name": "stdout",
     "output_type": "stream",
     "text": [
      "epoch: 27, [batch: 18 / 45], examples_per_second: 4130.7899, train_label_loss: 0.1670, \n"
     ]
    },
    {
     "name": "stdout",
     "output_type": "stream",
     "text": [
      "epoch: 27, [batch: 23 / 45], examples_per_second: 4062.9543, train_label_loss: 0.1335, \n"
     ]
    },
    {
     "name": "stdout",
     "output_type": "stream",
     "text": [
      "epoch: 27, [batch: 27 / 45], examples_per_second: 4136.6330, train_label_loss: 0.0832, \n"
     ]
    },
    {
     "name": "stdout",
     "output_type": "stream",
     "text": [
      "epoch: 27, [batch: 31 / 45], examples_per_second: 4132.6011, train_label_loss: 0.2932, \n"
     ]
    },
    {
     "name": "stdout",
     "output_type": "stream",
     "text": [
      "epoch: 27, [batch: 36 / 45], examples_per_second: 4172.1748, train_label_loss: 0.1945, \n"
     ]
    },
    {
     "name": "stdout",
     "output_type": "stream",
     "text": [
      "epoch: 27, [batch: 40 / 45], examples_per_second: 4222.9682, train_label_loss: 0.1124, \n"
     ]
    },
    {
     "name": "stdout",
     "output_type": "stream",
     "text": [
      "=============================================================\n",
      "epoch: 27, source_val_acc_label: 0.9673, target_val_acc_label: 0.9064, source_val_label_loss: 0.1883, target_val_label_loss: 0.5547, \n",
      "=============================================================\n"
     ]
    },
    {
     "name": "stdout",
     "output_type": "stream",
     "text": [
      "epoch: 28, [batch: 1 / 45], examples_per_second: 512.7372, train_label_loss: 0.1246, \n"
     ]
    },
    {
     "name": "stdout",
     "output_type": "stream",
     "text": [
      "epoch: 28, [batch: 5 / 45], examples_per_second: 4017.4201, train_label_loss: 0.1152, \n"
     ]
    },
    {
     "name": "stdout",
     "output_type": "stream",
     "text": [
      "epoch: 28, [batch: 9 / 45], examples_per_second: 4126.8772, train_label_loss: 0.1072, \n"
     ]
    },
    {
     "name": "stdout",
     "output_type": "stream",
     "text": [
      "epoch: 28, [batch: 14 / 45], examples_per_second: 4129.4863, train_label_loss: 0.1159, \n"
     ]
    },
    {
     "name": "stdout",
     "output_type": "stream",
     "text": [
      "epoch: 28, [batch: 18 / 45], examples_per_second: 4120.6646, train_label_loss: 0.1373, \n"
     ]
    },
    {
     "name": "stdout",
     "output_type": "stream",
     "text": [
      "epoch: 28, [batch: 23 / 45], examples_per_second: 4043.9919, train_label_loss: 0.0922, \n"
     ]
    },
    {
     "name": "stdout",
     "output_type": "stream",
     "text": [
      "epoch: 28, [batch: 27 / 45], examples_per_second: 4126.0153, train_label_loss: 0.1918, \n"
     ]
    },
    {
     "name": "stdout",
     "output_type": "stream",
     "text": [
      "epoch: 28, [batch: 31 / 45], examples_per_second: 4125.4143, train_label_loss: 0.0973, \n"
     ]
    },
    {
     "name": "stdout",
     "output_type": "stream",
     "text": [
      "epoch: 28, [batch: 36 / 45], examples_per_second: 4165.2918, train_label_loss: 0.0243, \n"
     ]
    },
    {
     "name": "stdout",
     "output_type": "stream",
     "text": [
      "epoch: 28, [batch: 40 / 45], examples_per_second: 4226.5231, train_label_loss: 0.0839, \n"
     ]
    },
    {
     "name": "stdout",
     "output_type": "stream",
     "text": [
      "=============================================================\n",
      "epoch: 28, source_val_acc_label: 0.9660, target_val_acc_label: 0.9049, source_val_label_loss: 0.1956, target_val_label_loss: 0.5449, \n",
      "=============================================================\n"
     ]
    },
    {
     "name": "stdout",
     "output_type": "stream",
     "text": [
      "epoch: 29, [batch: 1 / 45], examples_per_second: 508.2046, train_label_loss: 0.0902, \n"
     ]
    },
    {
     "name": "stdout",
     "output_type": "stream",
     "text": [
      "epoch: 29, [batch: 5 / 45], examples_per_second: 4039.7943, train_label_loss: 0.1354, \n"
     ]
    },
    {
     "name": "stdout",
     "output_type": "stream",
     "text": [
      "epoch: 29, [batch: 9 / 45], examples_per_second: 4104.6598, train_label_loss: 0.2439, \n"
     ]
    },
    {
     "name": "stdout",
     "output_type": "stream",
     "text": [
      "epoch: 29, [batch: 14 / 45], examples_per_second: 4088.0205, train_label_loss: 0.1587, \n"
     ]
    },
    {
     "name": "stdout",
     "output_type": "stream",
     "text": [
      "epoch: 29, [batch: 18 / 45], examples_per_second: 4133.1117, train_label_loss: 0.2548, \n"
     ]
    },
    {
     "name": "stdout",
     "output_type": "stream",
     "text": [
      "epoch: 29, [batch: 23 / 45], examples_per_second: 4055.4009, train_label_loss: 0.1119, \n"
     ]
    },
    {
     "name": "stdout",
     "output_type": "stream",
     "text": [
      "epoch: 29, [batch: 27 / 45], examples_per_second: 4136.1858, train_label_loss: 0.1092, \n"
     ]
    },
    {
     "name": "stdout",
     "output_type": "stream",
     "text": [
      "epoch: 29, [batch: 31 / 45], examples_per_second: 4135.4690, train_label_loss: 0.2216, \n"
     ]
    },
    {
     "name": "stdout",
     "output_type": "stream",
     "text": [
      "epoch: 29, [batch: 36 / 45], examples_per_second: 4171.2722, train_label_loss: 0.2068, \n"
     ]
    },
    {
     "name": "stdout",
     "output_type": "stream",
     "text": [
      "epoch: 29, [batch: 40 / 45], examples_per_second: 4231.7567, train_label_loss: 0.1983, \n"
     ]
    },
    {
     "name": "stdout",
     "output_type": "stream",
     "text": [
      "=============================================================\n",
      "epoch: 29, source_val_acc_label: 0.9705, target_val_acc_label: 0.9043, source_val_label_loss: 0.1815, target_val_label_loss: 0.5303, \n",
      "=============================================================\n"
     ]
    },
    {
     "name": "stdout",
     "output_type": "stream",
     "text": [
      "epoch: 30, [batch: 1 / 45], examples_per_second: 509.8488, train_label_loss: 0.1069, \n"
     ]
    },
    {
     "name": "stdout",
     "output_type": "stream",
     "text": [
      "epoch: 30, [batch: 5 / 45], examples_per_second: 4022.7299, train_label_loss: 0.0856, \n"
     ]
    },
    {
     "name": "stdout",
     "output_type": "stream",
     "text": [
      "epoch: 30, [batch: 9 / 45], examples_per_second: 4121.9495, train_label_loss: 0.1043, \n"
     ]
    },
    {
     "name": "stdout",
     "output_type": "stream",
     "text": [
      "epoch: 30, [batch: 14 / 45], examples_per_second: 4127.6844, train_label_loss: 0.1823, \n"
     ]
    },
    {
     "name": "stdout",
     "output_type": "stream",
     "text": [
      "epoch: 30, [batch: 18 / 45], examples_per_second: 4121.2127, train_label_loss: 0.0789, \n"
     ]
    },
    {
     "name": "stdout",
     "output_type": "stream",
     "text": [
      "epoch: 30, [batch: 23 / 45], examples_per_second: 4050.2088, train_label_loss: 0.0717, \n"
     ]
    },
    {
     "name": "stdout",
     "output_type": "stream",
     "text": [
      "epoch: 30, [batch: 27 / 45], examples_per_second: 4134.4546, train_label_loss: 0.2795, \n"
     ]
    },
    {
     "name": "stdout",
     "output_type": "stream",
     "text": [
      "epoch: 30, [batch: 31 / 45], examples_per_second: 4133.4140, train_label_loss: 0.0797, \n"
     ]
    },
    {
     "name": "stdout",
     "output_type": "stream",
     "text": [
      "epoch: 30, [batch: 36 / 45], examples_per_second: 4162.2330, train_label_loss: 0.2002, \n"
     ]
    },
    {
     "name": "stdout",
     "output_type": "stream",
     "text": [
      "epoch: 30, [batch: 40 / 45], examples_per_second: 4217.5769, train_label_loss: 0.1036, \n"
     ]
    },
    {
     "name": "stdout",
     "output_type": "stream",
     "text": [
      "=============================================================\n",
      "epoch: 30, source_val_acc_label: 0.9679, target_val_acc_label: 0.9036, source_val_label_loss: 0.1867, target_val_label_loss: 0.5384, \n",
      "=============================================================\n"
     ]
    },
    {
     "name": "stdout",
     "output_type": "stream",
     "text": [
      "Patience (3) exhausted\n"
     ]
    }
   ],
   "source": [
    "###################################\n",
    "# train\n",
    "###################################\n",
    "jig = PTN_Train_Eval_Test_Jig(model, p.BEST_MODEL_PATH, p.device)\n",
    "\n",
    "jig.train(\n",
    "    train_iterable=datasets.source.processed.train,\n",
    "    source_val_iterable=datasets.source.processed.val,\n",
    "    target_val_iterable=datasets.target.processed.val,\n",
    "    num_epochs=p.n_epoch,\n",
    "    num_logs_per_epoch=p.NUM_LOGS_PER_EPOCH,\n",
    "    patience=p.patience,\n",
    "    optimizer=optimizer,\n",
    "    criteria_for_best=p.criteria_for_best,\n",
    ")"
   ]
  },
  {
   "cell_type": "code",
   "execution_count": 14,
   "id": "31e8fabf",
   "metadata": {
    "execution": {
     "iopub.execute_input": "2022-03-22T17:33:57.307663Z",
     "iopub.status.busy": "2022-03-22T17:33:57.307413Z",
     "iopub.status.idle": "2022-03-22T17:33:57.326078Z",
     "shell.execute_reply": "2022-03-22T17:33:57.325632Z"
    },
    "papermill": {
     "duration": 0.092088,
     "end_time": "2022-03-22T17:33:57.326170",
     "exception": false,
     "start_time": "2022-03-22T17:33:57.234082",
     "status": "completed"
    },
    "tags": []
   },
   "outputs": [],
   "source": [
    "total_experiment_time_secs = time.time() - start_time_secs"
   ]
  },
  {
   "cell_type": "code",
   "execution_count": 15,
   "id": "87b9595b",
   "metadata": {
    "execution": {
     "iopub.execute_input": "2022-03-22T17:33:57.478171Z",
     "iopub.status.busy": "2022-03-22T17:33:57.477878Z",
     "iopub.status.idle": "2022-03-22T17:34:04.809770Z",
     "shell.execute_reply": "2022-03-22T17:34:04.810158Z"
    },
    "papermill": {
     "duration": 7.408738,
     "end_time": "2022-03-22T17:34:04.810294",
     "exception": false,
     "start_time": "2022-03-22T17:33:57.401556",
     "status": "completed"
    },
    "tags": []
   },
   "outputs": [],
   "source": [
    "###################################\n",
    "# Evaluate the model\n",
    "###################################\n",
    "source_test_label_accuracy, source_test_label_loss = jig.test(datasets.source.processed.test)\n",
    "target_test_label_accuracy, target_test_label_loss = jig.test(datasets.target.processed.test)\n",
    "\n",
    "source_val_label_accuracy, source_val_label_loss = jig.test(datasets.source.processed.val)\n",
    "target_val_label_accuracy, target_val_label_loss = jig.test(datasets.target.processed.val)\n",
    "\n",
    "history = jig.get_history()\n",
    "\n",
    "total_epochs_trained = len(history[\"epoch_indices\"])\n",
    "\n",
    "val_dl = Iterable_Aggregator((datasets.source.original.val,datasets.target.original.val))\n",
    "\n",
    "confusion = ptn_confusion_by_domain_over_dataloader(model, p.device, val_dl)\n",
    "per_domain_accuracy = per_domain_accuracy_from_confusion(confusion)\n",
    "\n",
    "# Add a key to per_domain_accuracy for if it was a source domain\n",
    "for domain, accuracy in per_domain_accuracy.items():\n",
    "    per_domain_accuracy[domain] = {\n",
    "        \"accuracy\": accuracy,\n",
    "        \"source?\": domain in p.domains_source\n",
    "    }\n",
    "\n",
    "# Do an independent accuracy assesment JUST TO BE SURE!\n",
    "# _source_test_label_accuracy = independent_accuracy_assesment(model, datasets.source.processed.test, p.device)\n",
    "# _target_test_label_accuracy = independent_accuracy_assesment(model, datasets.target.processed.test, p.device)\n",
    "# _source_val_label_accuracy = independent_accuracy_assesment(model, datasets.source.processed.val, p.device)\n",
    "# _target_val_label_accuracy = independent_accuracy_assesment(model, datasets.target.processed.val, p.device)\n",
    "\n",
    "# assert(_source_test_label_accuracy == source_test_label_accuracy)\n",
    "# assert(_target_test_label_accuracy == target_test_label_accuracy)\n",
    "# assert(_source_val_label_accuracy == source_val_label_accuracy)\n",
    "# assert(_target_val_label_accuracy == target_val_label_accuracy)\n",
    "\n",
    "experiment = {\n",
    "    \"experiment_name\": p.experiment_name,\n",
    "    \"parameters\": dict(p),\n",
    "    \"results\": {\n",
    "        \"source_test_label_accuracy\": source_test_label_accuracy,\n",
    "        \"source_test_label_loss\": source_test_label_loss,\n",
    "        \"target_test_label_accuracy\": target_test_label_accuracy,\n",
    "        \"target_test_label_loss\": target_test_label_loss,\n",
    "        \"source_val_label_accuracy\": source_val_label_accuracy,\n",
    "        \"source_val_label_loss\": source_val_label_loss,\n",
    "        \"target_val_label_accuracy\": target_val_label_accuracy,\n",
    "        \"target_val_label_loss\": target_val_label_loss,\n",
    "        \"total_epochs_trained\": total_epochs_trained,\n",
    "        \"total_experiment_time_secs\": total_experiment_time_secs,\n",
    "        \"confusion\": confusion,\n",
    "        \"per_domain_accuracy\": per_domain_accuracy,\n",
    "    },\n",
    "    \"history\": history,\n",
    "    \"dataset_metrics\": get_dataset_metrics(datasets, \"ptn\"),\n",
    "}"
   ]
  },
  {
   "cell_type": "code",
   "execution_count": 16,
   "id": "54a21829",
   "metadata": {
    "execution": {
     "iopub.execute_input": "2022-03-22T17:34:04.959083Z",
     "iopub.status.busy": "2022-03-22T17:34:04.958683Z",
     "iopub.status.idle": "2022-03-22T17:34:05.081238Z",
     "shell.execute_reply": "2022-03-22T17:34:05.080996Z"
    },
    "papermill": {
     "duration": 0.19558,
     "end_time": "2022-03-22T17:34:05.081301",
     "exception": false,
     "start_time": "2022-03-22T17:34:04.885721",
     "status": "completed"
    },
    "tags": []
   },
   "outputs": [
    {
     "data": {
      "image/png": "[encoded data removed]",
      "text/plain": [
       "<Figure size 1080x504 with 1 Axes>"
      ]
     },
     "metadata": {
      "needs_background": "light"
     },
     "output_type": "display_data"
    }
   ],
   "source": [
    "ax = get_loss_curve(experiment)\n",
    "plt.show()"
   ]
  },
  {
   "cell_type": "code",
   "execution_count": 17,
   "id": "fd8a0f60",
   "metadata": {
    "execution": {
     "iopub.execute_input": "2022-03-22T17:34:05.234225Z",
     "iopub.status.busy": "2022-03-22T17:34:05.233964Z",
     "iopub.status.idle": "2022-03-22T17:34:05.378987Z",
     "shell.execute_reply": "2022-03-22T17:34:05.379292Z"
    },
    "papermill": {
     "duration": 0.222862,
     "end_time": "2022-03-22T17:34:05.379382",
     "exception": false,
     "start_time": "2022-03-22T17:34:05.156520",
     "status": "completed"
    },
    "tags": []
   },
   "outputs": [
    {
     "data": {
      "text/plain": [
       "<AxesSubplot:title={'center':'Results'}>"
      ]
     },
     "execution_count": 17,
     "metadata": {},
     "output_type": "execute_result"
    },
    {
     "data": {
      "image/png": "[encoded data removed]",
      "text/plain": [
       "<Figure size 1080x504 with 1 Axes>"
      ]
     },
     "metadata": {
      "needs_background": "light"
     },
     "output_type": "display_data"
    }
   ],
   "source": [
    "get_results_table(experiment)"
   ]
  },
  {
   "cell_type": "code",
   "execution_count": 18,
   "id": "cf8dc689",
   "metadata": {
    "execution": {
     "iopub.execute_input": "2022-03-22T17:34:05.532056Z",
     "iopub.status.busy": "2022-03-22T17:34:05.531802Z",
     "iopub.status.idle": "2022-03-22T17:34:05.635585Z",
     "shell.execute_reply": "2022-03-22T17:34:05.635181Z"
    },
    "papermill": {
     "duration": 0.178606,
     "end_time": "2022-03-22T17:34:05.635679",
     "exception": false,
     "start_time": "2022-03-22T17:34:05.457073",
     "status": "completed"
    },
    "tags": []
   },
   "outputs": [
    {
     "data": {
      "text/plain": [
       "<AxesSubplot:title={'center':'Per Domain Validation Accuracy'}, xlabel='domain'>"
      ]
     },
     "execution_count": 18,
     "metadata": {},
     "output_type": "execute_result"
    },
    {
     "data": {
      "image/png": "[encoded data removed]",
      "text/plain": [
       "<Figure size 1080x504 with 1 Axes>"
      ]
     },
     "metadata": {
      "needs_background": "light"
     },
     "output_type": "display_data"
    }
   ],
   "source": [
    "get_domain_accuracies(experiment)"
   ]
  },
  {
   "cell_type": "code",
   "execution_count": 19,
   "id": "a74ae082",
   "metadata": {
    "execution": {
     "iopub.execute_input": "2022-03-22T17:34:05.787303Z",
     "iopub.status.busy": "2022-03-22T17:34:05.787021Z",
     "iopub.status.idle": "2022-03-22T17:34:05.799788Z",
     "shell.execute_reply": "2022-03-22T17:34:05.799346Z"
    },
    "papermill": {
     "duration": 0.087869,
     "end_time": "2022-03-22T17:34:05.799879",
     "exception": false,
     "start_time": "2022-03-22T17:34:05.712010",
     "status": "completed"
    },
    "tags": []
   },
   "outputs": [
    {
     "name": "stdout",
     "output_type": "stream",
     "text": [
      "Source Test Label Accuracy: 0.9673076923076923 Target Test Label Accuracy: 0.9042735042735043\n",
      "Source Val Label Accuracy: 0.9705128205128205 Target Val Label Accuracy: 0.9113247863247863\n"
     ]
    }
   ],
   "source": [
    "print(\"Source Test Label Accuracy:\", experiment[\"results\"][\"source_test_label_accuracy\"], \"Target Test Label Accuracy:\", experiment[\"results\"][\"target_test_label_accuracy\"])\n",
    "print(\"Source Val Label Accuracy:\", experiment[\"results\"][\"source_val_label_accuracy\"], \"Target Val Label Accuracy:\", experiment[\"results\"][\"target_val_label_accuracy\"])"
   ]
  },
  {
   "cell_type": "code",
   "execution_count": 20,
   "id": "dacca602",
   "metadata": {
    "execution": {
     "iopub.execute_input": "2022-03-22T17:34:05.952168Z",
     "iopub.status.busy": "2022-03-22T17:34:05.951914Z",
     "iopub.status.idle": "2022-03-22T17:34:05.967512Z",
     "shell.execute_reply": "2022-03-22T17:34:05.967062Z"
    },
    "papermill": {
     "duration": 0.091428,
     "end_time": "2022-03-22T17:34:05.967604",
     "exception": false,
     "start_time": "2022-03-22T17:34:05.876176",
     "status": "completed"
    },
    "tags": [
     "experiment_json"
    ]
   },
   "outputs": [
    {
     "data": {
      "text/plain": [
       "'{\"experiment_name\": \"tuned_1v2:wisig\", \"parameters\": {\"experiment_name\": \"tuned_1v2:wisig\", \"device\": \"cuda\", \"lr\": 0.0001, \"labels_source\": [\"1-10\", \"1-12\", \"1-14\", \"1-16\", \"1-18\", \"1-19\", \"1-8\", \"10-11\", \"10-17\", \"10-4\", \"10-7\", \"11-1\", \"11-10\", \"11-19\", \"11-20\", \"11-4\", \"11-7\", \"12-19\", \"12-20\", \"12-7\", \"13-14\", \"13-18\", \"13-19\", \"13-20\", \"13-3\", \"13-7\", \"14-10\", \"14-11\", \"14-12\", \"14-13\", \"14-14\", \"14-19\", \"14-20\", \"14-7\", \"14-8\", \"14-9\", \"15-1\", \"15-19\", \"15-6\", \"16-1\", \"16-16\", \"16-19\", \"16-20\", \"17-10\", \"17-11\", \"18-1\", \"18-10\", \"18-11\", \"18-12\", \"18-13\", \"18-14\", \"18-15\", \"18-16\", \"18-17\", \"18-19\", \"18-2\", \"18-20\", \"18-4\", \"18-5\", \"18-7\", \"18-8\", \"18-9\", \"19-1\", \"19-10\", \"19-11\", \"19-12\", \"19-13\", \"19-14\", \"19-15\", \"19-19\", \"19-2\", \"19-20\", \"19-3\", \"19-4\", \"19-6\", \"19-7\", \"19-8\", \"19-9\", \"2-1\", \"2-13\", \"2-15\", \"2-3\", \"2-4\", \"2-5\", \"2-6\", \"2-7\", \"2-8\", \"20-1\", \"20-12\", \"20-14\", \"20-15\", \"20-16\", \"20-18\", \"20-19\", \"20-20\", \"20-3\", \"20-4\", \"20-5\", \"20-7\", \"20-8\", \"3-1\", \"3-13\", \"3-18\", \"3-2\", \"3-8\", \"4-1\", \"4-10\", \"4-11\", \"5-1\", \"5-5\", \"6-1\", \"6-15\", \"6-6\", \"7-10\", \"7-11\", \"7-12\", \"7-13\", \"7-14\", \"7-7\", \"7-8\", \"7-9\", \"8-1\", \"8-13\", \"8-14\", \"8-18\", \"8-20\", \"8-3\", \"8-8\", \"9-1\", \"9-7\"], \"labels_target\": [\"1-10\", \"1-12\", \"1-14\", \"1-16\", \"1-18\", \"1-19\", \"1-8\", \"10-11\", \"10-17\", \"10-4\", \"10-7\", \"11-1\", \"11-10\", \"11-19\", \"11-20\", \"11-4\", \"11-7\", \"12-19\", \"12-20\", \"12-7\", \"13-14\", \"13-18\", \"13-19\", \"13-20\", \"13-3\", \"13-7\", \"14-10\", \"14-11\", \"14-12\", \"14-13\", \"14-14\", \"14-19\", \"14-20\", \"14-7\", \"14-8\", \"14-9\", \"15-1\", \"15-19\", \"15-6\", \"16-1\", \"16-16\", \"16-19\", \"16-20\", \"17-10\", \"17-11\", \"18-1\", \"18-10\", \"18-11\", \"18-12\", \"18-13\", \"18-14\", \"18-15\", \"18-16\", \"18-17\", \"18-19\", \"18-2\", \"18-20\", \"18-4\", \"18-5\", \"18-7\", \"18-8\", \"18-9\", \"19-1\", \"19-10\", \"19-11\", \"19-12\", \"19-13\", \"19-14\", \"19-15\", \"19-19\", \"19-2\", \"19-20\", \"19-3\", \"19-4\", \"19-6\", \"19-7\", \"19-8\", \"19-9\", \"2-1\", \"2-13\", \"2-15\", \"2-3\", \"2-4\", \"2-5\", \"2-6\", \"2-7\", \"2-8\", \"20-1\", \"20-12\", \"20-14\", \"20-15\", \"20-16\", \"20-18\", \"20-19\", \"20-20\", \"20-3\", \"20-4\", \"20-5\", \"20-7\", \"20-8\", \"3-1\", \"3-13\", \"3-18\", \"3-2\", \"3-8\", \"4-1\", \"4-10\", \"4-11\", \"5-1\", \"5-5\", \"6-1\", \"6-15\", \"6-6\", \"7-10\", \"7-11\", \"7-12\", \"7-13\", \"7-14\", \"7-7\", \"7-8\", \"7-9\", \"8-1\", \"8-13\", \"8-14\", \"8-18\", \"8-20\", \"8-3\", \"8-8\", \"9-1\", \"9-7\"], \"episode_transforms_source\": [], \"episode_transforms_target\": [], \"domains_source\": [3], \"domains_target\": [1, 2, 4], \"num_examples_per_domain_per_label_source\": -1, \"num_examples_per_domain_per_label_target\": -1, \"n_shot\": 3, \"n_way\": 130, \"n_query\": 2, \"train_k_factor\": 3, \"val_k_factor\": 2, \"test_k_factor\": 2, \"torch_default_dtype\": \"torch.float32\", \"n_epoch\": 50, \"patience\": 3, \"criteria_for_best\": \"target_accuracy\", \"x_net\": [{\"class\": \"nnReshape\", \"kargs\": {\"shape\": [-1, 1, 2, 256]}}, {\"class\": \"Conv2d\", \"kargs\": {\"in_channels\": 1, \"out_channels\": 256, \"kernel_size\": [1, 7], \"bias\": false, \"padding\": [0, 3]}}, {\"class\": \"ReLU\", \"kargs\": {\"inplace\": true}}, {\"class\": \"BatchNorm2d\", \"kargs\": {\"num_features\": 256}}, {\"class\": \"Conv2d\", \"kargs\": {\"in_channels\": 256, \"out_channels\": 80, \"kernel_size\": [2, 7], \"bias\": true, \"padding\": [0, 3]}}, {\"class\": \"ReLU\", \"kargs\": {\"inplace\": true}}, {\"class\": \"BatchNorm2d\", \"kargs\": {\"num_features\": 80}}, {\"class\": \"Flatten\", \"kargs\": {}}, {\"class\": \"Linear\", \"kargs\": {\"in_features\": 20480, \"out_features\": 256}}, {\"class\": \"ReLU\", \"kargs\": {\"inplace\": true}}, {\"class\": \"BatchNorm1d\", \"kargs\": {\"num_features\": 256}}, {\"class\": \"Linear\", \"kargs\": {\"in_features\": 256, \"out_features\": 256}}], \"NUM_LOGS_PER_EPOCH\": 10, \"BEST_MODEL_PATH\": \"./best_model.pth\", \"pickle_name\": \"wisig.node3-19.stratified_ds.2022A.pkl\", \"x_transforms_source\": [], \"x_transforms_target\": [], \"dataset_seed\": 7, \"seed\": 7}, \"results\": {\"source_test_label_accuracy\": 0.9673076923076923, \"source_test_label_loss\": 0.2256479263305664, \"target_test_label_accuracy\": 0.9042735042735043, \"target_test_label_loss\": 0.5514760613441467, \"source_val_label_accuracy\": 0.9705128205128205, \"source_val_label_loss\": 0.17998401820659637, \"target_val_label_accuracy\": 0.9113247863247863, \"target_val_label_loss\": 0.5362501740455627, \"total_epochs_trained\": 30, \"total_experiment_time_secs\": 266.10082483291626, \"confusion\": {\"3\": {\"53\": {\"53\": 12}, \"8\": {\"8\": 12}, \"15\": {\"15\": 12}, \"85\": {\"85\": 12}, \"52\": {\"52\": 12}, \"35\": {\"35\": 12}, \"119\": {\"119\": 11, \"116\": 1}, \"61\": {\"61\": 12}, \"64\": {\"64\": 12}, \"62\": {\"62\": 12}, \"26\": {\"26\": 12}, \"114\": {\"114\": 12}, \"44\": {\"44\": 12}, \"123\": {\"123\": 12}, \"110\": {\"110\": 12}, \"112\": {\"78\": 1, \"112\": 11}, \"41\": {\"41\": 12}, \"83\": {\"83\": 12}, \"97\": {\"97\": 12}, \"101\": {\"101\": 11, \"94\": 1}, \"80\": {\"80\": 11, \"70\": 1}, \"122\": {\"122\": 10, \"21\": 1, \"87\": 1}, \"95\": {\"95\": 12}, \"75\": {\"75\": 12}, \"105\": {\"105\": 12}, \"45\": {\"45\": 12}, \"38\": {\"38\": 12}, \"21\": {\"21\": 10, \"54\": 1, \"78\": 1}, \"47\": {\"47\": 12}, \"121\": {\"121\": 12}, \"9\": {\"9\": 11, \"99\": 1}, \"60\": {\"60\": 12}, \"13\": {\"13\": 9, \"21\": 2, \"122\": 1}, \"84\": {\"84\": 12}, \"73\": {\"73\": 11, \"121\": 1}, \"32\": {\"32\": 12}, \"54\": {\"54\": 12}, \"29\": {\"29\": 12}, \"71\": {\"71\": 12}, \"20\": {\"20\": 12}, \"76\": {\"76\": 12}, \"113\": {\"113\": 12}, \"37\": {\"37\": 12}, \"68\": {\"68\": 11, \"45\": 1}, \"12\": {\"12\": 12}, \"67\": {\"67\": 12}, \"77\": {\"77\": 12}, \"107\": {\"107\": 12}, \"70\": {\"70\": 11, \"21\": 1}, \"43\": {\"43\": 12}, \"69\": {\"69\": 12}, \"27\": {\"27\": 11, \"36\": 1}, \"108\": {\"108\": 12}, \"104\": {\"104\": 12}, \"40\": {\"40\": 12}, \"36\": {\"36\": 9, \"27\": 3}, \"126\": {\"39\": 2, \"126\": 10}, \"78\": {\"78\": 10, \"17\": 1, \"94\": 1}, \"24\": {\"24\": 10, \"27\": 1, \"17\": 1}, \"7\": {\"7\": 12}, \"96\": {\"96\": 12}, \"65\": {\"65\": 12}, \"88\": {\"88\": 12}, \"124\": {\"124\": 12}, \"128\": {\"25\": 1, \"128\": 11}, \"116\": {\"116\": 12}, \"3\": {\"3\": 12}, \"93\": {\"93\": 12}, \"127\": {\"127\": 11, \"17\": 1}, \"22\": {\"13\": 1, \"22\": 11}, \"82\": {\"82\": 12}, \"39\": {\"39\": 11, \"13\": 1}, \"102\": {\"102\": 12}, \"90\": {\"90\": 12}, \"42\": {\"42\": 12}, \"66\": {\"66\": 12}, \"111\": {\"111\": 11, \"68\": 1}, \"2\": {\"2\": 12}, \"87\": {\"87\": 12}, \"19\": {\"19\": 12}, \"17\": {\"17\": 8, \"21\": 3, \"122\": 1}, \"33\": {\"33\": 11, \"21\": 1}, \"81\": {\"81\": 11, \"121\": 1}, \"31\": {\"31\": 12}, \"5\": {\"5\": 12}, \"48\": {\"48\": 12}, \"125\": {\"125\": 11, \"121\": 1}, \"56\": {\"56\": 12}, \"86\": {\"86\": 11, \"5\": 1}, \"117\": {\"117\": 12}, \"120\": {\"120\": 12}, \"16\": {\"16\": 12}, \"4\": {\"4\": 12}, \"106\": {\"106\": 12}, \"23\": {\"23\": 12}, \"89\": {\"89\": 10, \"45\": 2}, \"72\": {\"72\": 12}, \"18\": {\"18\": 12}, \"55\": {\"55\": 12}, \"109\": {\"109\": 12}, \"28\": {\"28\": 9, \"116\": 2, \"77\": 1}, \"58\": {\"58\": 12}, \"98\": {\"98\": 12}, \"94\": {\"94\": 12}, \"63\": {\"63\": 11, \"78\": 1}, \"100\": {\"100\": 12}, \"51\": {\"51\": 12}, \"91\": {\"91\": 12}, \"92\": {\"92\": 12}, \"14\": {\"14\": 12}, \"59\": {\"59\": 12}, \"74\": {\"74\": 12}, \"10\": {\"10\": 12}, \"99\": {\"99\": 12}, \"129\": {\"129\": 12}, \"34\": {\"34\": 12}, \"1\": {\"1\": 12}, \"79\": {\"79\": 12}, \"0\": {\"0\": 12}, \"25\": {\"25\": 12}, \"115\": {\"115\": 12}, \"118\": {\"118\": 12}, \"49\": {\"49\": 12}, \"11\": {\"11\": 12}, \"103\": {\"103\": 12}, \"50\": {\"50\": 12}, \"6\": {\"6\": 12}, \"30\": {\"30\": 12}, \"46\": {\"46\": 11, \"61\": 1}, \"57\": {\"57\": 11, \"13\": 1}}, \"4\": {\"53\": {\"53\": 11, \"91\": 1}, \"8\": {\"8\": 12}, \"111\": {\"111\": 10, \"10\": 1, \"23\": 1}, \"120\": {\"120\": 12}, \"45\": {\"45\": 11, \"120\": 1}, \"86\": {\"86\": 12}, \"25\": {\"25\": 12}, \"36\": {\"36\": 11, \"23\": 1}, \"63\": {\"63\": 11, \"65\": 1}, \"65\": {\"65\": 11, \"63\": 1}, \"54\": {\"54\": 11, \"10\": 1}, \"62\": {\"62\": 10, \"78\": 2}, \"102\": {\"102\": 11, \"21\": 1}, \"13\": {\"13\": 10, \"128\": 1, \"21\": 1}, \"11\": {\"11\": 12}, \"60\": {\"60\": 12}, \"113\": {\"113\": 12}, \"42\": {\"42\": 11, \"112\": 1}, \"32\": {\"32\": 8, \"45\": 2, \"31\": 1, \"33\": 1}, \"96\": {\"96\": 9, \"23\": 1, \"21\": 1, \"51\": 1}, \"41\": {\"41\": 9, \"77\": 3}, \"18\": {\"18\": 12}, \"69\": {\"69\": 12}, \"129\": {\"129\": 12}, \"76\": {\"76\": 12}, \"48\": {\"48\": 12}, \"106\": {\"106\": 11, \"21\": 1}, \"20\": {\"20\": 12}, \"72\": {\"72\": 11, \"60\": 1}, \"81\": {\"81\": 12}, \"122\": {\"122\": 9, \"109\": 1, \"87\": 2}, \"9\": {\"9\": 12}, \"123\": {\"123\": 12}, \"114\": {\"114\": 11, \"21\": 1}, \"85\": {\"85\": 12}, \"112\": {\"112\": 11, \"23\": 1}, \"33\": {\"33\": 12}, \"77\": {\"77\": 12}, \"29\": {\"29\": 12}, \"55\": {\"55\": 12}, \"21\": {\"21\": 7, \"78\": 4, \"23\": 1}, \"61\": {\"61\": 12}, \"15\": {\"15\": 11, \"30\": 1}, \"38\": {\"38\": 11, \"5\": 1}, \"128\": {\"128\": 9, \"77\": 1, \"41\": 1, \"88\": 1}, \"124\": {\"124\": 12}, \"125\": {\"125\": 12}, \"2\": {\"2\": 10, \"117\": 1, \"17\": 1}, \"108\": {\"108\": 12}, \"71\": {\"71\": 12}, \"44\": {\"44\": 12}, \"70\": {\"70\": 10, \"108\": 2}, \"27\": {\"27\": 11, \"70\": 1}, \"109\": {\"109\": 10, \"122\": 1, \"21\": 1}, \"95\": {\"95\": 12}, \"40\": {\"78\": 1, \"40\": 11}, \"37\": {\"37\": 12}, \"127\": {\"127\": 11, \"51\": 1}, \"118\": {\"118\": 11, \"21\": 1}, \"105\": {\"105\": 10, \"23\": 2}, \"7\": {\"7\": 12}, \"97\": {\"97\": 6, \"24\": 6}, \"66\": {\"66\": 12}, \"68\": {\"68\": 11, \"51\": 1}, \"24\": {\"97\": 4, \"24\": 8}, \"47\": {\"47\": 11, \"57\": 1}, \"117\": {\"117\": 12}, \"78\": {\"78\": 9, \"10\": 2, \"21\": 1}, \"89\": {\"89\": 12}, \"84\": {\"84\": 12}, \"22\": {\"22\": 12}, \"83\": {\"83\": 11, \"49\": 1}, \"39\": {\"39\": 11, \"23\": 1}, \"103\": {\"41\": 1, \"103\": 10, \"58\": 1}, \"121\": {\"121\": 12}, \"43\": {\"43\": 11, \"120\": 1}, \"67\": {\"32\": 1, \"67\": 5, \"17\": 2, \"123\": 1, \"82\": 2, \"31\": 1}, \"75\": {\"75\": 12}, \"3\": {\"3\": 12}, \"88\": {\"88\": 12}, \"98\": {\"65\": 1, \"98\": 11}, \"17\": {\"17\": 12}, \"91\": {\"91\": 11, \"23\": 1}, \"82\": {\"82\": 11, \"23\": 1}, \"31\": {\"31\": 10, \"76\": 1, \"21\": 1}, \"5\": {\"20\": 1, \"46\": 1, \"5\": 9, \"51\": 1}, \"49\": {\"49\": 7, \"20\": 3, \"53\": 2}, \"126\": {\"126\": 12}, \"115\": {\"86\": 5, \"115\": 4, \"13\": 2, \"129\": 1}, \"87\": {\"87\": 12}, \"80\": {\"80\": 12}, \"34\": {\"34\": 12}, \"16\": {\"16\": 10, \"109\": 1, \"106\": 1}, \"4\": {\"4\": 12}, \"107\": {\"107\": 12}, \"23\": {\"12\": 1, \"43\": 2, \"0\": 1, \"21\": 3, \"11\": 2, \"60\": 1, \"87\": 1, \"51\": 1}, \"90\": {\"90\": 12}, \"73\": {\"73\": 8, \"30\": 1, \"5\": 1, \"129\": 2}, \"19\": {\"19\": 12}, \"56\": {\"56\": 11, \"116\": 1}, \"110\": {\"110\": 12}, \"28\": {\"37\": 1, \"28\": 9, \"124\": 2}, \"58\": {\"58\": 12}, \"99\": {\"99\": 12}, \"94\": {\"94\": 11, \"88\": 1}, \"64\": {\"64\": 11, \"28\": 1}, \"101\": {\"101\": 11, \"0\": 1}, \"52\": {\"52\": 10, \"53\": 1, \"91\": 1}, \"92\": {\"92\": 12}, \"93\": {\"93\": 11, \"11\": 1}, \"14\": {\"14\": 12}, \"59\": {\"59\": 11, \"6\": 1}, \"74\": {\"74\": 11, \"9\": 1}, \"10\": {\"10\": 11, \"24\": 1}, \"100\": {\"100\": 11, \"23\": 1}, \"57\": {\"57\": 12}, \"35\": {\"35\": 10, \"61\": 2}, \"1\": {\"1\": 10, \"23\": 1, \"114\": 1}, \"79\": {\"79\": 12}, \"0\": {\"0\": 11, \"87\": 1}, \"26\": {\"26\": 12}, \"116\": {\"116\": 11, \"22\": 1}, \"119\": {\"119\": 12}, \"50\": {\"50\": 9, \"23\": 1, \"115\": 1, \"86\": 1}, \"12\": {\"12\": 12}, \"104\": {\"104\": 12}, \"51\": {\"51\": 5, \"5\": 1, \"21\": 1, \"58\": 3, \"23\": 1, \"12\": 1}, \"6\": {\"6\": 12}, \"30\": {\"30\": 12}, \"46\": {\"46\": 11, \"73\": 1}}, \"2\": {\"119\": {\"119\": 11, \"13\": 1}, \"54\": {\"54\": 12}, \"28\": {\"28\": 11, \"21\": 1}, \"96\": {\"96\": 12}, \"39\": {\"17\": 1, \"39\": 11}, \"38\": {\"38\": 12}, \"31\": {\"31\": 12}, \"0\": {\"0\": 8, \"8\": 1, \"122\": 2, \"21\": 1}, \"27\": {\"27\": 10, \"36\": 2}, \"47\": {\"47\": 10, \"77\": 1, \"21\": 1}, \"76\": {\"76\": 11, \"92\": 1}, \"114\": {\"114\": 12}, \"92\": {\"92\": 11, \"21\": 1}, \"111\": {\"111\": 11, \"21\": 1}, \"63\": {\"63\": 12}, \"86\": {\"86\": 12}, \"51\": {\"58\": 2, \"51\": 6, \"62\": 2, \"75\": 2}, \"122\": {\"43\": 1, \"122\": 10, \"21\": 1}, \"56\": {\"56\": 12}, \"115\": {\"115\": 10, \"41\": 1, \"24\": 1}, \"71\": {\"71\": 12}, \"103\": {\"103\": 12}, \"94\": {\"21\": 1, \"94\": 9, \"36\": 2}, \"57\": {\"57\": 12}, \"58\": {\"58\": 12}, \"29\": {\"29\": 11, \"12\": 1}, \"124\": {\"124\": 12}, \"49\": {\"128\": 2, \"49\": 7, \"0\": 1, \"21\": 1, \"53\": 1}, \"72\": {\"72\": 12}, \"9\": {\"9\": 12}, \"85\": {\"73\": 3, \"85\": 8, \"21\": 1}, \"35\": {\"35\": 12}, \"123\": {\"123\": 11, \"41\": 1}, \"46\": {\"46\": 12}, \"17\": {\"4\": 3, \"17\": 8, \"21\": 1}, \"8\": {\"8\": 11, \"94\": 1}, \"116\": {\"116\": 12}, \"82\": {\"82\": 12}, \"14\": {\"17\": 2, \"14\": 6, \"21\": 3, \"24\": 1}, \"84\": {\"84\": 12}, \"73\": {\"121\": 1, \"73\": 10, \"129\": 1}, \"120\": {\"120\": 12}, \"1\": {\"1\": 12}, \"81\": {\"81\": 11, \"110\": 1}, \"37\": {\"37\": 12}, \"2\": {\"2\": 12}, \"7\": {\"7\": 12}, \"50\": {\"50\": 10, \"55\": 1, \"24\": 1}, \"74\": {\"74\": 12}, \"70\": {\"17\": 1, \"78\": 3, \"70\": 7, \"88\": 1}, \"99\": {\"99\": 12}, \"20\": {\"44\": 1, \"20\": 10, \"21\": 1}, \"113\": {\"113\": 12}, \"110\": {\"110\": 10, \"6\": 1, \"25\": 1}, \"125\": {\"125\": 12}, \"127\": {\"127\": 11, \"12\": 1}, \"4\": {\"4\": 12}, \"43\": {\"87\": 1, \"43\": 10, \"60\": 1}, \"12\": {\"12\": 12}, \"22\": {\"22\": 12}, \"66\": {\"66\": 12}, \"121\": {\"121\": 11, \"65\": 1}, \"41\": {\"41\": 12}, \"60\": {\"60\": 12}, \"26\": {\"26\": 12}, \"24\": {\"24\": 12}, \"45\": {\"43\": 1, \"45\": 11}, \"64\": {\"64\": 12}, \"34\": {\"34\": 10, \"28\": 1, \"56\": 1}, \"65\": {\"65\": 12}, \"21\": {\"21\": 10, \"17\": 1, \"88\": 1}, \"32\": {\"76\": 1, \"107\": 3, \"32\": 7, \"55\": 1}, \"117\": {\"117\": 12}, \"19\": {\"19\": 10, \"73\": 2}, \"102\": {\"102\": 11, \"24\": 1}, \"75\": {\"75\": 12}, \"108\": {\"108\": 12}, \"69\": {\"69\": 12}, \"88\": {\"88\": 11, \"21\": 1}, \"107\": {\"107\": 11, \"21\": 1}, \"93\": {\"93\": 11, \"57\": 1}, \"33\": {\"33\": 12}, \"30\": {\"30\": 11, \"121\": 1}, \"68\": {\"68\": 11, \"78\": 1}, \"78\": {\"78\": 10, \"70\": 1, \"21\": 1}, \"13\": {\"13\": 12}, \"52\": {\"52\": 12}, \"100\": {\"100\": 9, \"47\": 2, \"83\": 1}, \"97\": {\"16\": 1, \"97\": 9, \"89\": 1, \"121\": 1}, \"61\": {\"61\": 10, \"37\": 2}, \"77\": {\"77\": 11, \"91\": 1}, \"67\": {\"67\": 10, \"119\": 1, \"21\": 1}, \"126\": {\"126\": 11, \"70\": 1}, \"128\": {\"114\": 4, \"101\": 1, \"127\": 1, \"128\": 6}, \"79\": {\"79\": 11, \"21\": 1}, \"44\": {\"44\": 12}, \"89\": {\"89\": 12}, \"55\": {\"55\": 11, \"61\": 1}, \"48\": {\"48\": 11, \"121\": 1}, \"6\": {\"6\": 12}, \"87\": {\"87\": 12}, \"62\": {\"62\": 11, \"24\": 1}, \"109\": {\"109\": 11, \"39\": 1}, \"95\": {\"95\": 11, \"21\": 1}, \"40\": {\"40\": 11, \"95\": 1}, \"3\": {\"3\": 12}, \"98\": {\"98\": 11, \"121\": 1}, \"101\": {\"101\": 11, \"49\": 1}, \"5\": {\"5\": 12}, \"36\": {\"36\": 10, \"27\": 1, \"21\": 1}, \"90\": {\"90\": 12}, \"10\": {\"10\": 11, \"78\": 1}, \"80\": {\"80\": 12}, \"11\": {\"11\": 11, \"21\": 1}, \"112\": {\"112\": 9, \"42\": 1, \"111\": 1, \"19\": 1}, \"105\": {\"105\": 12}, \"129\": {\"129\": 11, \"73\": 1}, \"15\": {\"15\": 12}, \"25\": {\"25\": 11, \"46\": 1}, \"83\": {\"83\": 12}, \"23\": {\"23\": 9, \"122\": 1, \"98\": 1, \"123\": 1}, \"118\": {\"118\": 12}, \"42\": {\"42\": 12}, \"16\": {\"96\": 1, \"93\": 1, \"16\": 8, \"113\": 1, \"21\": 1}, \"106\": {\"106\": 12}, \"59\": {\"59\": 11, \"52\": 1}, \"104\": {\"104\": 12}, \"91\": {\"91\": 10, \"0\": 1, \"123\": 1}, \"53\": {\"24\": 1, \"53\": 10, \"49\": 1}, \"18\": {\"18\": 11, \"21\": 1}}, \"1\": {\"69\": {\"69\": 12}, \"61\": {\"61\": 10, \"86\": 2}, \"17\": {\"17\": 8, \"78\": 1, \"99\": 1, \"55\": 1, \"5\": 1}, \"24\": {\"24\": 10, \"88\": 1, \"21\": 1}, \"47\": {\"47\": 8, \"45\": 1, \"9\": 1, \"103\": 1, \"73\": 1}, \"96\": {\"96\": 9, \"126\": 1, \"70\": 2}, \"88\": {\"88\": 12}, \"43\": {\"43\": 11, \"122\": 1}, \"49\": {\"49\": 7, \"98\": 1, \"12\": 3, \"89\": 1}, \"92\": {\"92\": 12}, \"123\": {\"123\": 12}, \"39\": {\"39\": 12}, \"5\": {\"5\": 11, \"78\": 1}, \"121\": {\"121\": 11, \"76\": 1}, \"104\": {\"85\": 2, \"104\": 10}, \"95\": {\"95\": 12}, \"111\": {\"111\": 12}, \"112\": {\"112\": 9, \"91\": 1, \"111\": 1, \"75\": 1}, \"1\": {\"1\": 12}, \"38\": {\"38\": 12}, \"116\": {\"116\": 12}, \"46\": {\"111\": 2, \"46\": 2, \"124\": 6, \"53\": 2}, \"18\": {\"18\": 11, \"21\": 1}, \"78\": {\"78\": 9, \"70\": 2, \"93\": 1}, \"48\": {\"48\": 12}, \"51\": {\"51\": 10, \"75\": 2}, \"65\": {\"57\": 2, \"65\": 8, \"102\": 2}, \"29\": {\"29\": 12}, \"55\": {\"55\": 12}, \"14\": {\"14\": 12}, \"91\": {\"91\": 12}, \"56\": {\"56\": 11, \"24\": 1}, \"6\": {\"6\": 12}, \"90\": {\"90\": 12}, \"2\": {\"2\": 11, \"25\": 1}, \"120\": {\"120\": 12}, \"63\": {\"63\": 12}, \"52\": {\"52\": 12}, \"58\": {\"58\": 12}, \"74\": {\"74\": 12}, \"21\": {\"21\": 9, \"70\": 2, \"78\": 1}, \"118\": {\"118\": 9, \"21\": 1, \"69\": 2}, \"59\": {\"6\": 1, \"59\": 11}, \"101\": {\"101\": 12}, \"110\": {\"110\": 12}, \"25\": {\"25\": 10, \"21\": 1, \"42\": 1}, \"73\": {\"73\": 11, \"105\": 1}, \"41\": {\"41\": 12}, \"124\": {\"124\": 12}, \"66\": {\"66\": 12}, \"125\": {\"125\": 12}, \"26\": {\"26\": 12}, \"89\": {\"89\": 11, \"104\": 1}, \"103\": {\"103\": 12}, \"115\": {\"115\": 12}, \"93\": {\"93\": 12}, \"81\": {\"81\": 12}, \"72\": {\"72\": 12}, \"98\": {\"98\": 12}, \"114\": {\"114\": 12}, \"40\": {\"40\": 10, \"105\": 2}, \"108\": {\"108\": 12}, \"50\": {\"50\": 9, \"67\": 2, \"123\": 1}, \"8\": {\"8\": 12}, \"23\": {\"23\": 5, \"87\": 4, \"44\": 2, \"110\": 1}, \"37\": {\"37\": 12}, \"4\": {\"4\": 12}, \"119\": {\"119\": 12}, \"77\": {\"77\": 12}, \"70\": {\"70\": 12}, \"44\": {\"44\": 12}, \"60\": {\"60\": 10, \"23\": 1, \"95\": 1}, \"117\": {\"117\": 12}, \"45\": {\"86\": 1, \"129\": 2, \"45\": 4, \"104\": 2, \"115\": 2, \"95\": 1}, \"10\": {\"10\": 12}, \"87\": {\"87\": 11, \"43\": 1}, \"127\": {\"127\": 12}, \"100\": {\"100\": 11, \"99\": 1}, \"15\": {\"15\": 10, \"27\": 1, \"94\": 1}, \"82\": {\"82\": 10, \"19\": 2}, \"27\": {\"27\": 12}, \"22\": {\"22\": 12}, \"71\": {\"71\": 12}, \"99\": {\"99\": 12}, \"53\": {\"53\": 12}, \"107\": {\"107\": 11, \"21\": 1}, \"106\": {\"113\": 1, \"106\": 11}, \"105\": {\"105\": 12}, \"31\": {\"31\": 12}, \"109\": {\"109\": 11, \"70\": 1}, \"128\": {\"128\": 12}, \"32\": {\"32\": 12}, \"85\": {\"85\": 12}, \"12\": {\"12\": 6, \"71\": 3, \"106\": 2, \"70\": 1}, \"76\": {\"76\": 9, \"62\": 1, \"121\": 1, \"70\": 1}, \"129\": {\"129\": 12}, \"28\": {\"28\": 10, \"21\": 1, \"65\": 1}, \"16\": {\"16\": 12}, \"3\": {\"3\": 12}, \"86\": {\"86\": 12}, \"68\": {\"68\": 12}, \"7\": {\"7\": 12}, \"102\": {\"102\": 11, \"78\": 1}, \"113\": {\"18\": 2, \"113\": 10}, \"79\": {\"79\": 12}, \"94\": {\"94\": 12}, \"30\": {\"30\": 11, \"49\": 1}, \"84\": {\"84\": 12}, \"33\": {\"33\": 12}, \"36\": {\"36\": 12}, \"20\": {\"20\": 12}, \"13\": {\"6\": 1, \"13\": 11}, \"11\": {\"11\": 12}, \"126\": {\"126\": 10, \"97\": 2}, \"83\": {\"83\": 11, \"78\": 1}, \"35\": {\"35\": 11, \"105\": 1}, \"75\": {\"75\": 12}, \"62\": {\"62\": 12}, \"80\": {\"80\": 12}, \"64\": {\"64\": 12}, \"57\": {\"57\": 12}, \"42\": {\"25\": 1, \"42\": 5, \"83\": 3, \"100\": 1, \"91\": 1, \"88\": 1}, \"34\": {\"34\": 10, \"49\": 2}, \"122\": {\"122\": 12}, \"9\": {\"9\": 11, \"47\": 1}, \"67\": {\"67\": 12}, \"97\": {\"88\": 2, \"97\": 9, \"24\": 1}, \"0\": {\"0\": 11, \"21\": 1}, \"54\": {\"54\": 12}, \"19\": {\"19\": 9, \"128\": 1, \"82\": 2}}}, \"per_domain_accuracy\": {\"3\": {\"accuracy\": 0.9705128205128205, \"source?\": true}, \"4\": {\"accuracy\": 0.9038461538461539, \"source?\": false}, \"2\": {\"accuracy\": 0.9128205128205128, \"source?\": false}, \"1\": {\"accuracy\": 0.9173076923076923, \"source?\": false}}}, \"history\": {\"epoch_indices\": [1, 2, 3, 4, 5, 6, 7, 8, 9, 10, 11, 12, 13, 14, 15, 16, 17, 18, 19, 20, 21, 22, 23, 24, 25, 26, 27, 28, 29, 30], \"train_label_loss\": [2.500333727730645, 0.9571499970224169, 0.6269997636477153, 0.5034256100654602, 0.41319513122240703, 0.3452047824859619, 0.3264202723900477, 0.3093870523903105, 0.27098008708821403, 0.2630914916594823, 0.25923939877086216, 0.23970006108283998, 0.23673473828368716, 0.23098223010698954, 0.21210870908366308, 0.20632934702767267, 0.18283113928304778, 0.18070666707224317, 0.17857824398411645, 0.17357244574361377, 0.18374048719803493, 0.1758146944973204, 0.15703702751133178, 0.1686072823074129, 0.1567813751598199, 0.16383755637539757, 0.16123892118533453, 0.14131528064608573, 0.16329592507746485, 0.14715758744213317], \"source_val_label_loss\": [1.4081467390060425, 0.6449339985847473, 0.5141313672065735, 0.4107764661312103, 0.3592368960380554, 0.3241332769393921, 0.2799416780471802, 0.2683786153793335, 0.2634873390197754, 0.25097793340682983, 0.2411322295665741, 0.22413133084774017, 0.2218756377696991, 0.2164483368396759, 0.21375302970409393, 0.19797015190124512, 0.22216558456420898, 0.2162030190229416, 0.2134561985731125, 0.19797317683696747, 0.21500717103481293, 0.20166000723838806, 0.2056138515472412, 0.18681612610816956, 0.20137850940227509, 0.17998401820659637, 0.18828824162483215, 0.1956283301115036, 0.18152692914009094, 0.186722069978714], \"target_val_label_loss\": [1.6598050594329834, 1.0002878904342651, 0.8881405591964722, 0.8423040509223938, 0.7668069005012512, 0.7236922383308411, 0.7065895199775696, 0.7213743925094604, 0.6636704206466675, 0.6833832859992981, 0.6351832151412964, 0.63277268409729, 0.6347755193710327, 0.6205865144729614, 0.6233986020088196, 0.5999114513397217, 0.6240927577018738, 0.5997894406318665, 0.5800942182540894, 0.5653323531150818, 0.5780660510063171, 0.5656480193138123, 0.5669958591461182, 0.5332545042037964, 0.5803866982460022, 0.5362501740455627, 0.5546714663505554, 0.5448631644248962, 0.5303068161010742, 0.5383813381195068], \"source_val_acc_label\": [0.8038461538461539, 0.8826923076923077, 0.9128205128205128, 0.9307692307692308, 0.9442307692307692, 0.9538461538461539, 0.9564102564102565, 0.9634615384615385, 0.9570512820512821, 0.9602564102564103, 0.9647435897435898, 0.9653846153846154, 0.9621794871794872, 0.9673076923076923, 0.966025641025641, 0.9673076923076923, 0.9666666666666667, 0.966025641025641, 0.9653846153846154, 0.9666666666666667, 0.966025641025641, 0.967948717948718, 0.967948717948718, 0.9705128205128205, 0.9666666666666667, 0.9705128205128205, 0.9673076923076923, 0.966025641025641, 0.9705128205128205, 0.967948717948718], \"target_val_acc_label\": [0.7425213675213675, 0.8175213675213675, 0.838034188034188, 0.8482905982905983, 0.8604700854700855, 0.8722222222222222, 0.8741452991452991, 0.8743589743589744, 0.8831196581196581, 0.8811965811965812, 0.8846153846153846, 0.8955128205128206, 0.8897435897435897, 0.8916666666666667, 0.8931623931623932, 0.895940170940171, 0.8925213675213676, 0.8976495726495727, 0.9008547008547009, 0.9040598290598291, 0.9006410256410257, 0.9044871794871795, 0.9023504273504274, 0.9051282051282051, 0.9010683760683761, 0.9113247863247863, 0.9064102564102564, 0.9049145299145299, 0.9042735042735043, 0.9036324786324786]}, \"dataset_metrics\": {\"source\": {\"train\": {\"n_unique_x\": 19751, \"n_unique_y\": 130, \"n_batch/episode\": 45}, \"val\": {\"n_unique_x\": 3165, \"n_unique_y\": 130, \"n_batch/episode\": 6}, \"test\": {\"n_unique_x\": 3212, \"n_unique_y\": 130, \"n_batch/episode\": 6}}, \"target\": {\"train\": {\"n_unique_x\": 60208, \"n_unique_y\": 130, \"n_batch/episode\": 138}, \"val\": {\"n_unique_x\": 9471, \"n_unique_y\": 130, \"n_batch/episode\": 18}, \"test\": {\"n_unique_x\": 9558, \"n_unique_y\": 130, \"n_batch/episode\": 18}}}}'"
      ]
     },
     "execution_count": 20,
     "metadata": {},
     "output_type": "execute_result"
    }
   ],
   "source": [
    "json.dumps(experiment)"
   ]
  }
 ],
 "metadata": {
  "celltoolbar": "Tags",
  "kernelspec": {
   "display_name": "Python 3 (ipykernel)",
   "language": "python",
   "name": "python3"
  },
  "language_info": {
   "codemirror_mode": {
    "name": "ipython",
    "version": 3
   },
   "file_extension": ".py",
   "mimetype": "text/x-python",
   "name": "python",
   "nbconvert_exporter": "python",
   "pygments_lexer": "ipython3",
   "version": "3.8.10"
  },
  "papermill": {
   "default_parameters": {},
   "duration": 277.621028,
   "end_time": "2022-03-22T17:34:06.752365",
   "environment_variables": {},
   "exception": null,
   "input_path": "/mnt/wd500GB/CSC500/csc500-main/csc500-notebooks/templates/ptn_template.ipynb",
   "output_path": "trial.ipynb",
   "parameters": {
    "parameters": {
     "BEST_MODEL_PATH": "./best_model.pth",
     "NUM_LOGS_PER_EPOCH": 10,
     "criteria_for_best": "target_accuracy",
     "dataset_seed": 7,
     "device": "cuda",
     "domains_source": [
      3
     ],
     "domains_target": [
      1,
      2,
      4
     ],
     "episode_transforms_source": [],
     "episode_transforms_target": [],
     "experiment_name": "tuned_1v2:wisig",
     "labels_source": [
      "1-10",
      "1-12",
      "1-14",
      "1-16",
      "1-18",
      "1-19",
      "1-8",
      "10-11",
      "10-17",
      "10-4",
      "10-7",
      "11-1",
      "11-10",
      "11-19",
      "11-20",
      "11-4",
      "11-7",
      "12-19",
      "12-20",
      "12-7",
      "13-14",
      "13-18",
      "13-19",
      "13-20",
      "13-3",
      "13-7",
      "14-10",
      "14-11",
      "14-12",
      "14-13",
      "14-14",
      "14-19",
      "14-20",
      "14-7",
      "14-8",
      "14-9",
      "15-1",
      "15-19",
      "15-6",
      "16-1",
      "16-16",
      "16-19",
      "16-20",
      "17-10",
      "17-11",
      "18-1",
      "18-10",
      "18-11",
      "18-12",
      "18-13",
      "18-14",
      "18-15",
      "18-16",
      "18-17",
      "18-19",
      "18-2",
      "18-20",
      "18-4",
      "18-5",
      "18-7",
      "18-8",
      "18-9",
      "19-1",
      "19-10",
      "19-11",
      "19-12",
      "19-13",
      "19-14",
      "19-15",
      "19-19",
      "19-2",
      "19-20",
      "19-3",
      "19-4",
      "19-6",
      "19-7",
      "19-8",
      "19-9",
      "2-1",
      "2-13",
      "2-15",
      "2-3",
      "2-4",
      "2-5",
      "2-6",
      "2-7",
      "2-8",
      "20-1",
      "20-12",
      "20-14",
      "20-15",
      "20-16",
      "20-18",
      "20-19",
      "20-20",
      "20-3",
      "20-4",
      "20-5",
      "20-7",
      "20-8",
      "3-1",
      "3-13",
      "3-18",
      "3-2",
      "3-8",
      "4-1",
      "4-10",
      "4-11",
      "5-1",
      "5-5",
      "6-1",
      "6-15",
      "6-6",
      "7-10",
      "7-11",
      "7-12",
      "7-13",
      "7-14",
      "7-7",
      "7-8",
      "7-9",
      "8-1",
      "8-13",
      "8-14",
      "8-18",
      "8-20",
      "8-3",
      "8-8",
      "9-1",
      "9-7"
     ],
     "labels_target": [
      "1-10",
      "1-12",
      "1-14",
      "1-16",
      "1-18",
      "1-19",
      "1-8",
      "10-11",
      "10-17",
      "10-4",
      "10-7",
      "11-1",
      "11-10",
      "11-19",
      "11-20",
      "11-4",
      "11-7",
      "12-19",
      "12-20",
      "12-7",
      "13-14",
      "13-18",
      "13-19",
      "13-20",
      "13-3",
      "13-7",
      "14-10",
      "14-11",
      "14-12",
      "14-13",
      "14-14",
      "14-19",
      "14-20",
      "14-7",
      "14-8",
      "14-9",
      "15-1",
      "15-19",
      "15-6",
      "16-1",
      "16-16",
      "16-19",
      "16-20",
      "17-10",
      "17-11",
      "18-1",
      "18-10",
      "18-11",
      "18-12",
      "18-13",
      "18-14",
      "18-15",
      "18-16",
      "18-17",
      "18-19",
      "18-2",
      "18-20",
      "18-4",
      "18-5",
      "18-7",
      "18-8",
      "18-9",
      "19-1",
      "19-10",
      "19-11",
      "19-12",
      "19-13",
      "19-14",
      "19-15",
      "19-19",
      "19-2",
      "19-20",
      "19-3",
      "19-4",
      "19-6",
      "19-7",
      "19-8",
      "19-9",
      "2-1",
      "2-13",
      "2-15",
      "2-3",
      "2-4",
      "2-5",
      "2-6",
      "2-7",
      "2-8",
      "20-1",
      "20-12",
      "20-14",
      "20-15",
      "20-16",
      "20-18",
      "20-19",
      "20-20",
      "20-3",
      "20-4",
      "20-5",
      "20-7",
      "20-8",
      "3-1",
      "3-13",
      "3-18",
      "3-2",
      "3-8",
      "4-1",
      "4-10",
      "4-11",
      "5-1",
      "5-5",
      "6-1",
      "6-15",
      "6-6",
      "7-10",
      "7-11",
      "7-12",
      "7-13",
      "7-14",
      "7-7",
      "7-8",
      "7-9",
      "8-1",
      "8-13",
      "8-14",
      "8-18",
      "8-20",
      "8-3",
      "8-8",
      "9-1",
      "9-7"
     ],
     "lr": 0.0001,
     "n_epoch": 50,
     "n_query": 2,
     "n_shot": 3,
     "n_way": 130,
     "num_examples_per_domain_per_label_source": -1,
     "num_examples_per_domain_per_label_target": -1,
     "patience": 3,
     "pickle_name": "wisig.node3-19.stratified_ds.2022A.pkl",
     "seed": 7,
     "test_k_factor": 2,
     "torch_default_dtype": "torch.float32",
     "train_k_factor": 3,
     "val_k_factor": 2,
     "x_net": [
      {
       "class": "nnReshape",
       "kargs": {
        "shape": [
         -1,
         1,
         2,
         256
        ]
       }
      },
      {
       "class": "Conv2d",
       "kargs": {
        "bias": false,
        "in_channels": 1,
        "kernel_size": [
         1,
         7
        ],
        "out_channels": 256,
        "padding": [
         0,
         3
        ]
       }
      },
      {
       "class": "ReLU",
       "kargs": {
        "inplace": true
       }
      },
      {
       "class": "BatchNorm2d",
       "kargs": {
        "num_features": 256
       }
      },
      {
       "class": "Conv2d",
       "kargs": {
        "bias": true,
        "in_channels": 256,
        "kernel_size": [
         2,
         7
        ],
        "out_channels": 80,
        "padding": [
         0,
         3
        ]
       }
      },
      {
       "class": "ReLU",
       "kargs": {
        "inplace": true
       }
      },
      {
       "class": "BatchNorm2d",
       "kargs": {
        "num_features": 80
       }
      },
      {
       "class": "Flatten",
       "kargs": {}
      },
      {
       "class": "Linear",
       "kargs": {
        "in_features": 20480,
        "out_features": 256
       }
      },
      {
       "class": "ReLU",
       "kargs": {
        "inplace": true
       }
      },
      {
       "class": "BatchNorm1d",
       "kargs": {
        "num_features": 256
       }
      },
      {
       "class": "Linear",
       "kargs": {
        "in_features": 256,
        "out_features": 256
       }
      }
     ],
     "x_transforms_source": [],
     "x_transforms_target": []
    }
   },
   "start_time": "2022-03-22T17:29:29.131337",
   "version": "2.3.4"
  }
 },
 "nbformat": 4,
 "nbformat_minor": 5
}