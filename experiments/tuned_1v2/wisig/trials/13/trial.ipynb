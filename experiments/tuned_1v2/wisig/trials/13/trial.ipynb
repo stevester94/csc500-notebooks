{
 "cells": [
  {
   "cell_type": "markdown",
   "id": "9fea5f46",
   "metadata": {
    "papermill": {
     "duration": 0.019824,
     "end_time": "2022-03-22T17:25:26.254028",
     "exception": false,
     "start_time": "2022-03-22T17:25:26.234204",
     "status": "completed"
    },
    "tags": []
   },
   "source": [
    "# PTN Template\n",
    "This notebook serves as a template for single dataset PTN experiments  \n",
    "It can be run on its own by setting STANDALONE to True (do a find for \"STANDALONE\" to see where)  \n",
    "But it is intended to be executed as part of a *papermill.py script. See any of the   \n",
    "experimentes with a papermill script to get started with that workflow.  "
   ]
  },
  {
   "cell_type": "code",
   "execution_count": 1,
   "id": "0902182a",
   "metadata": {
    "execution": {
     "iopub.execute_input": "2022-03-22T17:25:26.291603Z",
     "iopub.status.busy": "2022-03-22T17:25:26.291166Z",
     "iopub.status.idle": "2022-03-22T17:25:27.253125Z",
     "shell.execute_reply": "2022-03-22T17:25:27.252604Z"
    },
    "papermill": {
     "duration": 0.983695,
     "end_time": "2022-03-22T17:25:27.253243",
     "exception": false,
     "start_time": "2022-03-22T17:25:26.269548",
     "status": "completed"
    },
    "tags": []
   },
   "outputs": [],
   "source": [
    "%load_ext autoreload\n",
    "%autoreload 2\n",
    "%matplotlib inline\n",
    "\n",
    "    \n",
    "import os, json, sys, time, random\n",
    "import numpy as np\n",
    "import torch\n",
    "from torch.optim import Adam\n",
    "from  easydict import EasyDict\n",
    "import matplotlib.pyplot as plt\n",
    "\n",
    "from steves_models.steves_ptn import Steves_Prototypical_Network\n",
    "\n",
    "from steves_utils.lazy_iterable_wrapper import Lazy_Iterable_Wrapper\n",
    "from steves_utils.iterable_aggregator import Iterable_Aggregator\n",
    "from steves_utils.ptn_train_eval_test_jig import  PTN_Train_Eval_Test_Jig\n",
    "from steves_utils.torch_sequential_builder import build_sequential\n",
    "from steves_utils.torch_utils import get_dataset_metrics, ptn_confusion_by_domain_over_dataloader\n",
    "from steves_utils.utils_v2 import (per_domain_accuracy_from_confusion, get_datasets_base_path)\n",
    "from steves_utils.PTN.utils import independent_accuracy_assesment\n",
    "\n",
    "from steves_utils.stratified_dataset.episodic_accessor import Episodic_Accessor_Factory\n",
    "\n",
    "from steves_utils.ptn_do_report import (\n",
    "    get_loss_curve,\n",
    "    get_results_table,\n",
    "    get_parameters_table,\n",
    "    get_domain_accuracies,\n",
    ")\n",
    "\n",
    "from steves_utils.transforms import get_chained_transform"
   ]
  },
  {
   "cell_type": "markdown",
   "id": "41c840b4",
   "metadata": {
    "papermill": {
     "duration": 0.009257,
     "end_time": "2022-03-22T17:25:27.279564",
     "exception": false,
     "start_time": "2022-03-22T17:25:27.270307",
     "status": "completed"
    },
    "tags": []
   },
   "source": [
    "# Required Parameters\n",
    "These are allowed parameters, not defaults\n",
    "Each of these values need to be present in the injected parameters (the notebook will raise an exception if they are not present)\n",
    "\n",
    "Papermill uses the cell tag \"parameters\" to inject the real parameters below this cell.\n",
    "Enable tags to see what I mean"
   ]
  },
  {
   "cell_type": "code",
   "execution_count": 2,
   "id": "fd44eb83",
   "metadata": {
    "execution": {
     "iopub.execute_input": "2022-03-22T17:25:27.300966Z",
     "iopub.status.busy": "2022-03-22T17:25:27.300195Z",
     "iopub.status.idle": "2022-03-22T17:25:27.315630Z",
     "shell.execute_reply": "2022-03-22T17:25:27.315253Z"
    },
    "papermill": {
     "duration": 0.026896,
     "end_time": "2022-03-22T17:25:27.315709",
     "exception": false,
     "start_time": "2022-03-22T17:25:27.288813",
     "status": "completed"
    },
    "tags": []
   },
   "outputs": [],
   "source": [
    "required_parameters = {\n",
    "    \"experiment_name\",\n",
    "    \"lr\",\n",
    "    \"device\",\n",
    "    \"seed\",\n",
    "    \"dataset_seed\",\n",
    "    \"labels_source\",\n",
    "    \"labels_target\",\n",
    "    \"domains_source\",\n",
    "    \"domains_target\",\n",
    "    \"num_examples_per_domain_per_label_source\",\n",
    "    \"num_examples_per_domain_per_label_target\",\n",
    "    \"n_shot\",\n",
    "    \"n_way\",\n",
    "    \"n_query\",\n",
    "    \"train_k_factor\",\n",
    "    \"val_k_factor\",\n",
    "    \"test_k_factor\",\n",
    "    \"n_epoch\",\n",
    "    \"patience\",\n",
    "    \"criteria_for_best\",\n",
    "    \"x_transforms_source\",\n",
    "    \"x_transforms_target\",\n",
    "    \"episode_transforms_source\",\n",
    "    \"episode_transforms_target\",\n",
    "    \"pickle_name\",\n",
    "    \"x_net\",\n",
    "    \"NUM_LOGS_PER_EPOCH\",\n",
    "    \"BEST_MODEL_PATH\",\n",
    "    \"torch_default_dtype\"\n",
    "}"
   ]
  },
  {
   "cell_type": "code",
   "execution_count": 3,
   "id": "fa3f0049",
   "metadata": {
    "execution": {
     "iopub.execute_input": "2022-03-22T17:25:27.351225Z",
     "iopub.status.busy": "2022-03-22T17:25:27.350735Z",
     "iopub.status.idle": "2022-03-22T17:25:27.364517Z",
     "shell.execute_reply": "2022-03-22T17:25:27.364282Z"
    },
    "papermill": {
     "duration": 0.03312,
     "end_time": "2022-03-22T17:25:27.364577",
     "exception": false,
     "start_time": "2022-03-22T17:25:27.331457",
     "status": "completed"
    },
    "tags": [
     "parameters"
    ]
   },
   "outputs": [],
   "source": [
    "\n",
    "\n",
    "standalone_parameters = {}\n",
    "standalone_parameters[\"experiment_name\"] = \"STANDALONE PTN\"\n",
    "standalone_parameters[\"lr\"] = 0.0001\n",
    "standalone_parameters[\"device\"] = \"cuda\"\n",
    "\n",
    "standalone_parameters[\"seed\"] = 1337\n",
    "standalone_parameters[\"dataset_seed\"] = 1337\n",
    "\n",
    "\n",
    "standalone_parameters[\"num_examples_per_domain_per_label_source\"]=100\n",
    "standalone_parameters[\"num_examples_per_domain_per_label_target\"]=100\n",
    "\n",
    "standalone_parameters[\"n_shot\"] = 3\n",
    "standalone_parameters[\"n_query\"]  = 2\n",
    "standalone_parameters[\"train_k_factor\"] = 1\n",
    "standalone_parameters[\"val_k_factor\"] = 2\n",
    "standalone_parameters[\"test_k_factor\"] = 2\n",
    "\n",
    "\n",
    "standalone_parameters[\"n_epoch\"] = 100\n",
    "\n",
    "standalone_parameters[\"patience\"] = 10\n",
    "standalone_parameters[\"criteria_for_best\"] = \"target_accuracy\"\n",
    "\n",
    "standalone_parameters[\"x_transforms_source\"] = [\"unit_power\"]\n",
    "standalone_parameters[\"x_transforms_target\"] = [\"unit_power\"]\n",
    "standalone_parameters[\"episode_transforms_source\"] = []\n",
    "standalone_parameters[\"episode_transforms_target\"] = []\n",
    "\n",
    "standalone_parameters[\"torch_default_dtype\"] = \"torch.float32\" \n",
    "\n",
    "\n",
    "\n",
    "standalone_parameters[\"x_net\"] =     [\n",
    "    {\"class\": \"nnReshape\", \"kargs\": {\"shape\":[-1, 1, 2, 256]}},\n",
    "    {\"class\": \"Conv2d\", \"kargs\": { \"in_channels\":1, \"out_channels\":256, \"kernel_size\":(1,7), \"bias\":False, \"padding\":(0,3), },},\n",
    "    {\"class\": \"ReLU\", \"kargs\": {\"inplace\": True}},\n",
    "    {\"class\": \"BatchNorm2d\", \"kargs\": {\"num_features\":256}},\n",
    "\n",
    "    {\"class\": \"Conv2d\", \"kargs\": { \"in_channels\":256, \"out_channels\":80, \"kernel_size\":(2,7), \"bias\":True, \"padding\":(0,3), },},\n",
    "    {\"class\": \"ReLU\", \"kargs\": {\"inplace\": True}},\n",
    "    {\"class\": \"BatchNorm2d\", \"kargs\": {\"num_features\":80}},\n",
    "    {\"class\": \"Flatten\", \"kargs\": {}},\n",
    "\n",
    "    {\"class\": \"Linear\", \"kargs\": {\"in_features\": 80*256, \"out_features\": 256}}, # 80 units per IQ pair\n",
    "    {\"class\": \"ReLU\", \"kargs\": {\"inplace\": True}},\n",
    "    {\"class\": \"BatchNorm1d\", \"kargs\": {\"num_features\":256}},\n",
    "\n",
    "    {\"class\": \"Linear\", \"kargs\": {\"in_features\": 256, \"out_features\": 256}},\n",
    "]\n",
    "\n",
    "# Parameters relevant to results\n",
    "# These parameters will basically never need to change\n",
    "standalone_parameters[\"NUM_LOGS_PER_EPOCH\"] = 10\n",
    "standalone_parameters[\"BEST_MODEL_PATH\"] = \"./best_model.pth\"\n",
    "\n",
    "# uncomment for CORES dataset\n",
    "from steves_utils.CORES.utils import (\n",
    "    ALL_NODES,\n",
    "    ALL_NODES_MINIMUM_1000_EXAMPLES,\n",
    "    ALL_DAYS\n",
    ")\n",
    "\n",
    "\n",
    "standalone_parameters[\"labels_source\"] = ALL_NODES\n",
    "standalone_parameters[\"labels_target\"] = ALL_NODES\n",
    "\n",
    "standalone_parameters[\"domains_source\"] = [1]\n",
    "standalone_parameters[\"domains_target\"] = [2,3,4,5]\n",
    "\n",
    "standalone_parameters[\"pickle_name\"] = \"cores.stratified_ds.2022A.pkl\"\n",
    "\n",
    "\n",
    "# Uncomment these for ORACLE dataset\n",
    "# from steves_utils.ORACLE.utils_v2 import (\n",
    "#     ALL_DISTANCES_FEET,\n",
    "#     ALL_RUNS,\n",
    "#     ALL_SERIAL_NUMBERS,\n",
    "# )\n",
    "# standalone_parameters[\"labels_source\"] = ALL_SERIAL_NUMBERS\n",
    "# standalone_parameters[\"labels_target\"] = ALL_SERIAL_NUMBERS\n",
    "# standalone_parameters[\"domains_source\"] = [8,20, 38,50]\n",
    "# standalone_parameters[\"domains_target\"] = [14, 26, 32, 44, 56]\n",
    "# standalone_parameters[\"pickle_name\"] = \"oracle.frame_indexed.stratified_ds.2022A.pkl\"\n",
    "# standalone_parameters[\"num_examples_per_domain_per_label_source\"]=1000\n",
    "# standalone_parameters[\"num_examples_per_domain_per_label_target\"]=1000\n",
    "\n",
    "# Uncomment these for Metahan dataset\n",
    "# standalone_parameters[\"labels_source\"] = list(range(19))\n",
    "# standalone_parameters[\"labels_target\"] = list(range(19))\n",
    "# standalone_parameters[\"domains_source\"] = [0]\n",
    "# standalone_parameters[\"domains_target\"] = [1]\n",
    "# standalone_parameters[\"pickle_name\"] = \"metehan.stratified_ds.2022A.pkl\"\n",
    "# standalone_parameters[\"n_way\"]  = len(standalone_parameters[\"labels_source\"])\n",
    "# standalone_parameters[\"num_examples_per_domain_per_label_source\"]=200\n",
    "# standalone_parameters[\"num_examples_per_domain_per_label_target\"]=100\n",
    "\n",
    "\n",
    "standalone_parameters[\"n_way\"]  = len(standalone_parameters[\"labels_source\"])"
   ]
  },
  {
   "cell_type": "code",
   "execution_count": 4,
   "id": "196a50e5",
   "metadata": {
    "execution": {
     "iopub.execute_input": "2022-03-22T17:25:27.398434Z",
     "iopub.status.busy": "2022-03-22T17:25:27.398118Z",
     "iopub.status.idle": "2022-03-22T17:25:27.412007Z",
     "shell.execute_reply": "2022-03-22T17:25:27.411559Z"
    },
    "papermill": {
     "duration": 0.037187,
     "end_time": "2022-03-22T17:25:27.412112",
     "exception": false,
     "start_time": "2022-03-22T17:25:27.374925",
     "status": "completed"
    },
    "tags": [
     "injected-parameters"
    ]
   },
   "outputs": [],
   "source": [
    "# Parameters\n",
    "parameters = {\n",
    "    \"experiment_name\": \"tuned_1v2:wisig\",\n",
    "    \"device\": \"cuda\",\n",
    "    \"lr\": 0.0001,\n",
    "    \"labels_source\": [\n",
    "        \"1-10\",\n",
    "        \"1-12\",\n",
    "        \"1-14\",\n",
    "        \"1-16\",\n",
    "        \"1-18\",\n",
    "        \"1-19\",\n",
    "        \"1-8\",\n",
    "        \"10-11\",\n",
    "        \"10-17\",\n",
    "        \"10-4\",\n",
    "        \"10-7\",\n",
    "        \"11-1\",\n",
    "        \"11-10\",\n",
    "        \"11-19\",\n",
    "        \"11-20\",\n",
    "        \"11-4\",\n",
    "        \"11-7\",\n",
    "        \"12-19\",\n",
    "        \"12-20\",\n",
    "        \"12-7\",\n",
    "        \"13-14\",\n",
    "        \"13-18\",\n",
    "        \"13-19\",\n",
    "        \"13-20\",\n",
    "        \"13-3\",\n",
    "        \"13-7\",\n",
    "        \"14-10\",\n",
    "        \"14-11\",\n",
    "        \"14-12\",\n",
    "        \"14-13\",\n",
    "        \"14-14\",\n",
    "        \"14-19\",\n",
    "        \"14-20\",\n",
    "        \"14-7\",\n",
    "        \"14-8\",\n",
    "        \"14-9\",\n",
    "        \"15-1\",\n",
    "        \"15-19\",\n",
    "        \"15-6\",\n",
    "        \"16-1\",\n",
    "        \"16-16\",\n",
    "        \"16-19\",\n",
    "        \"16-20\",\n",
    "        \"17-10\",\n",
    "        \"17-11\",\n",
    "        \"18-1\",\n",
    "        \"18-10\",\n",
    "        \"18-11\",\n",
    "        \"18-12\",\n",
    "        \"18-13\",\n",
    "        \"18-14\",\n",
    "        \"18-15\",\n",
    "        \"18-16\",\n",
    "        \"18-17\",\n",
    "        \"18-19\",\n",
    "        \"18-2\",\n",
    "        \"18-20\",\n",
    "        \"18-4\",\n",
    "        \"18-5\",\n",
    "        \"18-7\",\n",
    "        \"18-8\",\n",
    "        \"18-9\",\n",
    "        \"19-1\",\n",
    "        \"19-10\",\n",
    "        \"19-11\",\n",
    "        \"19-12\",\n",
    "        \"19-13\",\n",
    "        \"19-14\",\n",
    "        \"19-15\",\n",
    "        \"19-19\",\n",
    "        \"19-2\",\n",
    "        \"19-20\",\n",
    "        \"19-3\",\n",
    "        \"19-4\",\n",
    "        \"19-6\",\n",
    "        \"19-7\",\n",
    "        \"19-8\",\n",
    "        \"19-9\",\n",
    "        \"2-1\",\n",
    "        \"2-13\",\n",
    "        \"2-15\",\n",
    "        \"2-3\",\n",
    "        \"2-4\",\n",
    "        \"2-5\",\n",
    "        \"2-6\",\n",
    "        \"2-7\",\n",
    "        \"2-8\",\n",
    "        \"20-1\",\n",
    "        \"20-12\",\n",
    "        \"20-14\",\n",
    "        \"20-15\",\n",
    "        \"20-16\",\n",
    "        \"20-18\",\n",
    "        \"20-19\",\n",
    "        \"20-20\",\n",
    "        \"20-3\",\n",
    "        \"20-4\",\n",
    "        \"20-5\",\n",
    "        \"20-7\",\n",
    "        \"20-8\",\n",
    "        \"3-1\",\n",
    "        \"3-13\",\n",
    "        \"3-18\",\n",
    "        \"3-2\",\n",
    "        \"3-8\",\n",
    "        \"4-1\",\n",
    "        \"4-10\",\n",
    "        \"4-11\",\n",
    "        \"5-1\",\n",
    "        \"5-5\",\n",
    "        \"6-1\",\n",
    "        \"6-15\",\n",
    "        \"6-6\",\n",
    "        \"7-10\",\n",
    "        \"7-11\",\n",
    "        \"7-12\",\n",
    "        \"7-13\",\n",
    "        \"7-14\",\n",
    "        \"7-7\",\n",
    "        \"7-8\",\n",
    "        \"7-9\",\n",
    "        \"8-1\",\n",
    "        \"8-13\",\n",
    "        \"8-14\",\n",
    "        \"8-18\",\n",
    "        \"8-20\",\n",
    "        \"8-3\",\n",
    "        \"8-8\",\n",
    "        \"9-1\",\n",
    "        \"9-7\",\n",
    "    ],\n",
    "    \"labels_target\": [\n",
    "        \"1-10\",\n",
    "        \"1-12\",\n",
    "        \"1-14\",\n",
    "        \"1-16\",\n",
    "        \"1-18\",\n",
    "        \"1-19\",\n",
    "        \"1-8\",\n",
    "        \"10-11\",\n",
    "        \"10-17\",\n",
    "        \"10-4\",\n",
    "        \"10-7\",\n",
    "        \"11-1\",\n",
    "        \"11-10\",\n",
    "        \"11-19\",\n",
    "        \"11-20\",\n",
    "        \"11-4\",\n",
    "        \"11-7\",\n",
    "        \"12-19\",\n",
    "        \"12-20\",\n",
    "        \"12-7\",\n",
    "        \"13-14\",\n",
    "        \"13-18\",\n",
    "        \"13-19\",\n",
    "        \"13-20\",\n",
    "        \"13-3\",\n",
    "        \"13-7\",\n",
    "        \"14-10\",\n",
    "        \"14-11\",\n",
    "        \"14-12\",\n",
    "        \"14-13\",\n",
    "        \"14-14\",\n",
    "        \"14-19\",\n",
    "        \"14-20\",\n",
    "        \"14-7\",\n",
    "        \"14-8\",\n",
    "        \"14-9\",\n",
    "        \"15-1\",\n",
    "        \"15-19\",\n",
    "        \"15-6\",\n",
    "        \"16-1\",\n",
    "        \"16-16\",\n",
    "        \"16-19\",\n",
    "        \"16-20\",\n",
    "        \"17-10\",\n",
    "        \"17-11\",\n",
    "        \"18-1\",\n",
    "        \"18-10\",\n",
    "        \"18-11\",\n",
    "        \"18-12\",\n",
    "        \"18-13\",\n",
    "        \"18-14\",\n",
    "        \"18-15\",\n",
    "        \"18-16\",\n",
    "        \"18-17\",\n",
    "        \"18-19\",\n",
    "        \"18-2\",\n",
    "        \"18-20\",\n",
    "        \"18-4\",\n",
    "        \"18-5\",\n",
    "        \"18-7\",\n",
    "        \"18-8\",\n",
    "        \"18-9\",\n",
    "        \"19-1\",\n",
    "        \"19-10\",\n",
    "        \"19-11\",\n",
    "        \"19-12\",\n",
    "        \"19-13\",\n",
    "        \"19-14\",\n",
    "        \"19-15\",\n",
    "        \"19-19\",\n",
    "        \"19-2\",\n",
    "        \"19-20\",\n",
    "        \"19-3\",\n",
    "        \"19-4\",\n",
    "        \"19-6\",\n",
    "        \"19-7\",\n",
    "        \"19-8\",\n",
    "        \"19-9\",\n",
    "        \"2-1\",\n",
    "        \"2-13\",\n",
    "        \"2-15\",\n",
    "        \"2-3\",\n",
    "        \"2-4\",\n",
    "        \"2-5\",\n",
    "        \"2-6\",\n",
    "        \"2-7\",\n",
    "        \"2-8\",\n",
    "        \"20-1\",\n",
    "        \"20-12\",\n",
    "        \"20-14\",\n",
    "        \"20-15\",\n",
    "        \"20-16\",\n",
    "        \"20-18\",\n",
    "        \"20-19\",\n",
    "        \"20-20\",\n",
    "        \"20-3\",\n",
    "        \"20-4\",\n",
    "        \"20-5\",\n",
    "        \"20-7\",\n",
    "        \"20-8\",\n",
    "        \"3-1\",\n",
    "        \"3-13\",\n",
    "        \"3-18\",\n",
    "        \"3-2\",\n",
    "        \"3-8\",\n",
    "        \"4-1\",\n",
    "        \"4-10\",\n",
    "        \"4-11\",\n",
    "        \"5-1\",\n",
    "        \"5-5\",\n",
    "        \"6-1\",\n",
    "        \"6-15\",\n",
    "        \"6-6\",\n",
    "        \"7-10\",\n",
    "        \"7-11\",\n",
    "        \"7-12\",\n",
    "        \"7-13\",\n",
    "        \"7-14\",\n",
    "        \"7-7\",\n",
    "        \"7-8\",\n",
    "        \"7-9\",\n",
    "        \"8-1\",\n",
    "        \"8-13\",\n",
    "        \"8-14\",\n",
    "        \"8-18\",\n",
    "        \"8-20\",\n",
    "        \"8-3\",\n",
    "        \"8-8\",\n",
    "        \"9-1\",\n",
    "        \"9-7\",\n",
    "    ],\n",
    "    \"episode_transforms_source\": [],\n",
    "    \"episode_transforms_target\": [],\n",
    "    \"domains_source\": [3],\n",
    "    \"domains_target\": [1, 2, 4],\n",
    "    \"num_examples_per_domain_per_label_source\": -1,\n",
    "    \"num_examples_per_domain_per_label_target\": -1,\n",
    "    \"n_shot\": 3,\n",
    "    \"n_way\": 130,\n",
    "    \"n_query\": 2,\n",
    "    \"train_k_factor\": 3,\n",
    "    \"val_k_factor\": 2,\n",
    "    \"test_k_factor\": 2,\n",
    "    \"torch_default_dtype\": \"torch.float32\",\n",
    "    \"n_epoch\": 50,\n",
    "    \"patience\": 3,\n",
    "    \"criteria_for_best\": \"target_accuracy\",\n",
    "    \"x_net\": [\n",
    "        {\"class\": \"nnReshape\", \"kargs\": {\"shape\": [-1, 1, 2, 256]}},\n",
    "        {\n",
    "            \"class\": \"Conv2d\",\n",
    "            \"kargs\": {\n",
    "                \"in_channels\": 1,\n",
    "                \"out_channels\": 256,\n",
    "                \"kernel_size\": [1, 7],\n",
    "                \"bias\": False,\n",
    "                \"padding\": [0, 3],\n",
    "            },\n",
    "        },\n",
    "        {\"class\": \"ReLU\", \"kargs\": {\"inplace\": True}},\n",
    "        {\"class\": \"BatchNorm2d\", \"kargs\": {\"num_features\": 256}},\n",
    "        {\n",
    "            \"class\": \"Conv2d\",\n",
    "            \"kargs\": {\n",
    "                \"in_channels\": 256,\n",
    "                \"out_channels\": 80,\n",
    "                \"kernel_size\": [2, 7],\n",
    "                \"bias\": True,\n",
    "                \"padding\": [0, 3],\n",
    "            },\n",
    "        },\n",
    "        {\"class\": \"ReLU\", \"kargs\": {\"inplace\": True}},\n",
    "        {\"class\": \"BatchNorm2d\", \"kargs\": {\"num_features\": 80}},\n",
    "        {\"class\": \"Flatten\", \"kargs\": {}},\n",
    "        {\"class\": \"Linear\", \"kargs\": {\"in_features\": 20480, \"out_features\": 256}},\n",
    "        {\"class\": \"ReLU\", \"kargs\": {\"inplace\": True}},\n",
    "        {\"class\": \"BatchNorm1d\", \"kargs\": {\"num_features\": 256}},\n",
    "        {\"class\": \"Linear\", \"kargs\": {\"in_features\": 256, \"out_features\": 256}},\n",
    "    ],\n",
    "    \"NUM_LOGS_PER_EPOCH\": 10,\n",
    "    \"BEST_MODEL_PATH\": \"./best_model.pth\",\n",
    "    \"pickle_name\": \"wisig.node3-19.stratified_ds.2022A.pkl\",\n",
    "    \"x_transforms_source\": [\"unit_power\"],\n",
    "    \"x_transforms_target\": [\"unit_power\"],\n",
    "    \"dataset_seed\": 154325,\n",
    "    \"seed\": 154325,\n",
    "}\n"
   ]
  },
  {
   "cell_type": "code",
   "execution_count": 5,
   "id": "8fa1cc33",
   "metadata": {
    "execution": {
     "iopub.execute_input": "2022-03-22T17:25:27.443059Z",
     "iopub.status.busy": "2022-03-22T17:25:27.442179Z",
     "iopub.status.idle": "2022-03-22T17:25:27.456846Z",
     "shell.execute_reply": "2022-03-22T17:25:27.456363Z"
    },
    "papermill": {
     "duration": 0.027877,
     "end_time": "2022-03-22T17:25:27.456946",
     "exception": false,
     "start_time": "2022-03-22T17:25:27.429069",
     "status": "completed"
    },
    "tags": []
   },
   "outputs": [],
   "source": [
    "# Set this to True if you want to run this template directly\n",
    "STANDALONE = False\n",
    "if STANDALONE:\n",
    "    print(\"parameters not injected, running with standalone_parameters\")\n",
    "    parameters = standalone_parameters\n",
    "\n",
    "if not 'parameters' in locals() and not 'parameters' in globals():\n",
    "    raise Exception(\"Parameter injection failed\")\n",
    "\n",
    "#Use an easy dict for all the parameters\n",
    "p = EasyDict(parameters)\n",
    "\n",
    "supplied_keys = set(p.keys())\n",
    "\n",
    "if  supplied_keys != required_parameters:\n",
    "    print(\"Parameters are incorrect\")\n",
    "    if len(supplied_keys - required_parameters)>0: print(\"Shouldn't have:\", str(supplied_keys - required_parameters))\n",
    "    if len(required_parameters - supplied_keys)>0: print(\"Need to have:\", str(required_parameters - supplied_keys))\n",
    "    raise RuntimeError(\"Parameters are incorrect\")\n",
    "\n"
   ]
  },
  {
   "cell_type": "code",
   "execution_count": 6,
   "id": "3a028d58",
   "metadata": {
    "execution": {
     "iopub.execute_input": "2022-03-22T17:25:27.487622Z",
     "iopub.status.busy": "2022-03-22T17:25:27.484014Z",
     "iopub.status.idle": "2022-03-22T17:25:27.499727Z",
     "shell.execute_reply": "2022-03-22T17:25:27.499275Z"
    },
    "papermill": {
     "duration": 0.027442,
     "end_time": "2022-03-22T17:25:27.499833",
     "exception": false,
     "start_time": "2022-03-22T17:25:27.472391",
     "status": "completed"
    },
    "tags": []
   },
   "outputs": [],
   "source": [
    "###################################\n",
    "# Set the RNGs and make it all deterministic\n",
    "###################################\n",
    "np.random.seed(p.seed)\n",
    "random.seed(p.seed)\n",
    "torch.manual_seed(p.seed)\n",
    "\n",
    "torch.use_deterministic_algorithms(True) "
   ]
  },
  {
   "cell_type": "code",
   "execution_count": 7,
   "id": "b691acf6",
   "metadata": {
    "execution": {
     "iopub.execute_input": "2022-03-22T17:25:27.527488Z",
     "iopub.status.busy": "2022-03-22T17:25:27.527240Z",
     "iopub.status.idle": "2022-03-22T17:25:27.542335Z",
     "shell.execute_reply": "2022-03-22T17:25:27.541970Z"
    },
    "papermill": {
     "duration": 0.026983,
     "end_time": "2022-03-22T17:25:27.542414",
     "exception": false,
     "start_time": "2022-03-22T17:25:27.515431",
     "status": "completed"
    },
    "tags": []
   },
   "outputs": [],
   "source": [
    "###########################################\n",
    "# The stratified datasets honor this\n",
    "###########################################\n",
    "torch.set_default_dtype(eval(p.torch_default_dtype))"
   ]
  },
  {
   "cell_type": "code",
   "execution_count": 8,
   "id": "b5fba671",
   "metadata": {
    "execution": {
     "iopub.execute_input": "2022-03-22T17:25:27.572124Z",
     "iopub.status.busy": "2022-03-22T17:25:27.568287Z",
     "iopub.status.idle": "2022-03-22T17:25:27.610771Z",
     "shell.execute_reply": "2022-03-22T17:25:27.610517Z"
    },
    "papermill": {
     "duration": 0.054325,
     "end_time": "2022-03-22T17:25:27.610835",
     "exception": false,
     "start_time": "2022-03-22T17:25:27.556510",
     "status": "completed"
    },
    "tags": []
   },
   "outputs": [],
   "source": [
    "###################################\n",
    "# Build the network(s)\n",
    "# Note: It's critical to do this AFTER setting the RNG\n",
    "# (This is due to the randomized initial weights)\n",
    "###################################\n",
    "x_net = build_sequential(p.x_net)"
   ]
  },
  {
   "cell_type": "code",
   "execution_count": 9,
   "id": "5d7e61cc",
   "metadata": {
    "execution": {
     "iopub.execute_input": "2022-03-22T17:25:27.637930Z",
     "iopub.status.busy": "2022-03-22T17:25:27.637688Z",
     "iopub.status.idle": "2022-03-22T17:25:27.652996Z",
     "shell.execute_reply": "2022-03-22T17:25:27.652554Z"
    },
    "papermill": {
     "duration": 0.02825,
     "end_time": "2022-03-22T17:25:27.653099",
     "exception": false,
     "start_time": "2022-03-22T17:25:27.624849",
     "status": "completed"
    },
    "tags": []
   },
   "outputs": [],
   "source": [
    "start_time_secs = time.time()"
   ]
  },
  {
   "cell_type": "code",
   "execution_count": 10,
   "id": "fd5442bc",
   "metadata": {
    "execution": {
     "iopub.execute_input": "2022-03-22T17:25:27.687412Z",
     "iopub.status.busy": "2022-03-22T17:25:27.679716Z",
     "iopub.status.idle": "2022-03-22T17:25:44.995333Z",
     "shell.execute_reply": "2022-03-22T17:25:44.994826Z"
    },
    "papermill": {
     "duration": 17.327099,
     "end_time": "2022-03-22T17:25:44.995441",
     "exception": false,
     "start_time": "2022-03-22T17:25:27.668342",
     "status": "completed"
    },
    "tags": []
   },
   "outputs": [],
   "source": [
    "###################################\n",
    "# Build the dataset\n",
    "###################################\n",
    "\n",
    "if p.x_transforms_source == []: x_transform_source = None\n",
    "else: x_transform_source = get_chained_transform(p.x_transforms_source) \n",
    "\n",
    "if p.x_transforms_target == []: x_transform_target = None\n",
    "else: x_transform_target = get_chained_transform(p.x_transforms_target)\n",
    "\n",
    "if p.episode_transforms_source == []: episode_transform_source = None\n",
    "else: raise Exception(\"episode_transform_source not implemented\")\n",
    "\n",
    "if p.episode_transforms_target == []: episode_transform_target = None\n",
    "else: raise Exception(\"episode_transform_target not implemented\")\n",
    "\n",
    "\n",
    "eaf_source = Episodic_Accessor_Factory(\n",
    "    labels=p.labels_source,\n",
    "    domains=p.domains_source,\n",
    "    num_examples_per_domain_per_label=p.num_examples_per_domain_per_label_source,\n",
    "    iterator_seed=p.seed,\n",
    "    dataset_seed=p.dataset_seed,\n",
    "    n_shot=p.n_shot,\n",
    "    n_way=p.n_way,\n",
    "    n_query=p.n_query,\n",
    "    train_val_test_k_factors=(p.train_k_factor,p.val_k_factor,p.test_k_factor),\n",
    "    pickle_path=os.path.join(get_datasets_base_path(), p.pickle_name),\n",
    "    x_transform_func=x_transform_source,\n",
    "    example_transform_func=episode_transform_source,\n",
    "    \n",
    ")\n",
    "train_original_source, val_original_source, test_original_source = eaf_source.get_train(), eaf_source.get_val(), eaf_source.get_test()\n",
    "\n",
    "\n",
    "eaf_target = Episodic_Accessor_Factory(\n",
    "    labels=p.labels_target,\n",
    "    domains=p.domains_target,\n",
    "    num_examples_per_domain_per_label=p.num_examples_per_domain_per_label_target,\n",
    "    iterator_seed=p.seed,\n",
    "    dataset_seed=p.dataset_seed,\n",
    "    n_shot=p.n_shot,\n",
    "    n_way=p.n_way,\n",
    "    n_query=p.n_query,\n",
    "    train_val_test_k_factors=(p.train_k_factor,p.val_k_factor,p.test_k_factor),\n",
    "    pickle_path=os.path.join(get_datasets_base_path(), p.pickle_name),\n",
    "    x_transform_func=x_transform_target,\n",
    "    example_transform_func=episode_transform_target,\n",
    ")\n",
    "train_original_target, val_original_target, test_original_target = eaf_target.get_train(), eaf_target.get_val(), eaf_target.get_test()\n",
    "\n",
    "\n",
    "transform_lambda = lambda ex: ex[1] # Original is (<domain>, <episode>) so we strip down to episode only\n",
    "\n",
    "train_processed_source = Lazy_Iterable_Wrapper(train_original_source, transform_lambda)\n",
    "val_processed_source   = Lazy_Iterable_Wrapper(val_original_source, transform_lambda)\n",
    "test_processed_source  = Lazy_Iterable_Wrapper(test_original_source, transform_lambda)\n",
    "\n",
    "train_processed_target = Lazy_Iterable_Wrapper(train_original_target, transform_lambda)\n",
    "val_processed_target   = Lazy_Iterable_Wrapper(val_original_target, transform_lambda)\n",
    "test_processed_target  = Lazy_Iterable_Wrapper(test_original_target, transform_lambda)\n",
    "\n",
    "datasets = EasyDict({\n",
    "    \"source\": {\n",
    "        \"original\": {\"train\":train_original_source, \"val\":val_original_source, \"test\":test_original_source},\n",
    "        \"processed\": {\"train\":train_processed_source, \"val\":val_processed_source, \"test\":test_processed_source}\n",
    "    },\n",
    "    \"target\": {\n",
    "        \"original\": {\"train\":train_original_target, \"val\":val_original_target, \"test\":test_original_target},\n",
    "        \"processed\": {\"train\":train_processed_target, \"val\":val_processed_target, \"test\":test_processed_target}\n",
    "    },\n",
    "})"
   ]
  },
  {
   "cell_type": "code",
   "execution_count": 11,
   "id": "296189d9",
   "metadata": {
    "execution": {
     "iopub.execute_input": "2022-03-22T17:25:45.031985Z",
     "iopub.status.busy": "2022-03-22T17:25:45.024286Z",
     "iopub.status.idle": "2022-03-22T17:25:46.767482Z",
     "shell.execute_reply": "2022-03-22T17:25:46.767764Z"
    },
    "papermill": {
     "duration": 1.758223,
     "end_time": "2022-03-22T17:25:46.767877",
     "exception": false,
     "start_time": "2022-03-22T17:25:45.009654",
     "status": "completed"
    },
    "tags": []
   },
   "outputs": [
    {
     "name": "stdout",
     "output_type": "stream",
     "text": [
      "Visually inspect these to see if they line up with expected values given the transforms\n",
      "x_transforms_source ['unit_power']\n",
      "x_transforms_target ['unit_power']\n",
      "Average magnitude, source: 0.8961075\n",
      "Average power, source: 1.0\n"
     ]
    },
    {
     "name": "stdout",
     "output_type": "stream",
     "text": [
      "Average magnitude, target: 0.91523236\n",
      "Average power, target: 1.0\n"
     ]
    }
   ],
   "source": [
    "# Some quick unit tests on the data\n",
    "from steves_utils.transforms import get_average_power, get_average_magnitude\n",
    "\n",
    "q_x, q_y, s_x, s_y, truth = next(iter(train_processed_source))\n",
    "\n",
    "assert q_x.dtype == eval(p.torch_default_dtype)\n",
    "assert s_x.dtype == eval(p.torch_default_dtype)\n",
    "\n",
    "print(\"Visually inspect these to see if they line up with expected values given the transforms\")\n",
    "print('x_transforms_source', p.x_transforms_source)\n",
    "print('x_transforms_target', p.x_transforms_target)\n",
    "print(\"Average magnitude, source:\", get_average_magnitude(q_x[0].numpy()))\n",
    "print(\"Average power, source:\", get_average_power(q_x[0].numpy()))\n",
    "\n",
    "q_x, q_y, s_x, s_y, truth = next(iter(train_processed_target))\n",
    "print(\"Average magnitude, target:\", get_average_magnitude(q_x[0].numpy()))\n",
    "print(\"Average power, target:\", get_average_power(q_x[0].numpy()))\n"
   ]
  },
  {
   "cell_type": "code",
   "execution_count": 12,
   "id": "bbdacba1",
   "metadata": {
    "execution": {
     "iopub.execute_input": "2022-03-22T17:25:46.804101Z",
     "iopub.status.busy": "2022-03-22T17:25:46.803726Z",
     "iopub.status.idle": "2022-03-22T17:25:46.867728Z",
     "shell.execute_reply": "2022-03-22T17:25:46.867944Z"
    },
    "papermill": {
     "duration": 0.084191,
     "end_time": "2022-03-22T17:25:46.868022",
     "exception": false,
     "start_time": "2022-03-22T17:25:46.783831",
     "status": "completed"
    },
    "tags": []
   },
   "outputs": [
    {
     "name": "stdout",
     "output_type": "stream",
     "text": [
      "(2, 256)\n"
     ]
    }
   ],
   "source": [
    "###################################\n",
    "# Build the model\n",
    "###################################\n",
    "model = Steves_Prototypical_Network(x_net, device=p.device, x_shape=(2,256))\n",
    "optimizer = Adam(params=model.parameters(), lr=p.lr)"
   ]
  },
  {
   "cell_type": "code",
   "execution_count": 13,
   "id": "22b39ac5",
   "metadata": {
    "execution": {
     "iopub.execute_input": "2022-03-22T17:25:46.891724Z",
     "iopub.status.busy": "2022-03-22T17:25:46.891180Z",
     "iopub.status.idle": "2022-03-22T17:29:19.061266Z",
     "shell.execute_reply": "2022-03-22T17:29:19.060773Z"
    },
    "papermill": {
     "duration": 212.182633,
     "end_time": "2022-03-22T17:29:19.061371",
     "exception": false,
     "start_time": "2022-03-22T17:25:46.878738",
     "status": "completed"
    },
    "tags": []
   },
   "outputs": [
    {
     "name": "stdout",
     "output_type": "stream",
     "text": [
      "epoch: 1, [batch: 1 / 45], examples_per_second: 1990.7888, train_label_loss: 4.6593, \n"
     ]
    },
    {
     "name": "stdout",
     "output_type": "stream",
     "text": [
      "epoch: 1, [batch: 5 / 45], examples_per_second: 3929.2051, train_label_loss: 4.1821, \n"
     ]
    },
    {
     "name": "stdout",
     "output_type": "stream",
     "text": [
      "epoch: 1, [batch: 9 / 45], examples_per_second: 4017.2617, train_label_loss: 3.4630, \n"
     ]
    },
    {
     "name": "stdout",
     "output_type": "stream",
     "text": [
      "epoch: 1, [batch: 14 / 45], examples_per_second: 4025.2069, train_label_loss: 2.6789, \n"
     ]
    },
    {
     "name": "stdout",
     "output_type": "stream",
     "text": [
      "epoch: 1, [batch: 18 / 45], examples_per_second: 4012.1242, train_label_loss: 2.4808, \n"
     ]
    },
    {
     "name": "stdout",
     "output_type": "stream",
     "text": [
      "epoch: 1, [batch: 23 / 45], examples_per_second: 3962.9875, train_label_loss: 2.0817, \n"
     ]
    },
    {
     "name": "stdout",
     "output_type": "stream",
     "text": [
      "epoch: 1, [batch: 27 / 45], examples_per_second: 4069.0766, train_label_loss: 1.7950, \n"
     ]
    },
    {
     "name": "stdout",
     "output_type": "stream",
     "text": [
      "epoch: 1, [batch: 31 / 45], examples_per_second: 4068.8534, train_label_loss: 1.5956, \n"
     ]
    },
    {
     "name": "stdout",
     "output_type": "stream",
     "text": [
      "epoch: 1, [batch: 36 / 45], examples_per_second: 4093.4244, train_label_loss: 1.5899, \n"
     ]
    },
    {
     "name": "stdout",
     "output_type": "stream",
     "text": [
      "epoch: 1, [batch: 40 / 45], examples_per_second: 4154.0497, train_label_loss: 1.5999, \n"
     ]
    },
    {
     "name": "stdout",
     "output_type": "stream",
     "text": [
      "=============================================================\n",
      "epoch: 1, source_val_acc_label: 0.7763, target_val_acc_label: 0.7312, source_val_label_loss: 1.4164, target_val_label_loss: 1.6287, \n",
      "=============================================================\n"
     ]
    },
    {
     "name": "stdout",
     "output_type": "stream",
     "text": [
      "New best\n"
     ]
    },
    {
     "name": "stdout",
     "output_type": "stream",
     "text": [
      "epoch: 2, [batch: 1 / 45], examples_per_second: 496.4320, train_label_loss: 1.3508, \n"
     ]
    },
    {
     "name": "stdout",
     "output_type": "stream",
     "text": [
      "epoch: 2, [batch: 5 / 45], examples_per_second: 3973.9210, train_label_loss: 1.1871, \n"
     ]
    },
    {
     "name": "stdout",
     "output_type": "stream",
     "text": [
      "epoch: 2, [batch: 9 / 45], examples_per_second: 4074.2895, train_label_loss: 1.0874, \n"
     ]
    },
    {
     "name": "stdout",
     "output_type": "stream",
     "text": [
      "epoch: 2, [batch: 14 / 45], examples_per_second: 4084.2981, train_label_loss: 1.1225, \n"
     ]
    },
    {
     "name": "stdout",
     "output_type": "stream",
     "text": [
      "epoch: 2, [batch: 18 / 45], examples_per_second: 4076.7478, train_label_loss: 0.9031, \n"
     ]
    },
    {
     "name": "stdout",
     "output_type": "stream",
     "text": [
      "epoch: 2, [batch: 23 / 45], examples_per_second: 4028.3246, train_label_loss: 0.9965, \n"
     ]
    },
    {
     "name": "stdout",
     "output_type": "stream",
     "text": [
      "epoch: 2, [batch: 27 / 45], examples_per_second: 4121.6146, train_label_loss: 1.0056, \n"
     ]
    },
    {
     "name": "stdout",
     "output_type": "stream",
     "text": [
      "epoch: 2, [batch: 31 / 45], examples_per_second: 4121.0741, train_label_loss: 0.8856, \n"
     ]
    },
    {
     "name": "stdout",
     "output_type": "stream",
     "text": [
      "epoch: 2, [batch: 36 / 45], examples_per_second: 4165.9919, train_label_loss: 1.0708, \n"
     ]
    },
    {
     "name": "stdout",
     "output_type": "stream",
     "text": [
      "epoch: 2, [batch: 40 / 45], examples_per_second: 4232.0014, train_label_loss: 0.9353, \n"
     ]
    },
    {
     "name": "stdout",
     "output_type": "stream",
     "text": [
      "=============================================================\n",
      "epoch: 2, source_val_acc_label: 0.8173, target_val_acc_label: 0.7735, source_val_label_loss: 0.9680, target_val_label_loss: 1.2200, \n",
      "=============================================================\n"
     ]
    },
    {
     "name": "stdout",
     "output_type": "stream",
     "text": [
      "New best\n"
     ]
    },
    {
     "name": "stdout",
     "output_type": "stream",
     "text": [
      "epoch: 3, [batch: 1 / 45], examples_per_second: 491.0309, train_label_loss: 0.9640, \n"
     ]
    },
    {
     "name": "stdout",
     "output_type": "stream",
     "text": [
      "epoch: 3, [batch: 5 / 45], examples_per_second: 3973.5142, train_label_loss: 0.9509, \n"
     ]
    },
    {
     "name": "stdout",
     "output_type": "stream",
     "text": [
      "epoch: 3, [batch: 9 / 45], examples_per_second: 4076.9185, train_label_loss: 0.8133, \n"
     ]
    },
    {
     "name": "stdout",
     "output_type": "stream",
     "text": [
      "epoch: 3, [batch: 14 / 45], examples_per_second: 4070.2418, train_label_loss: 0.9190, \n"
     ]
    },
    {
     "name": "stdout",
     "output_type": "stream",
     "text": [
      "epoch: 3, [batch: 18 / 45], examples_per_second: 4088.6072, train_label_loss: 0.8257, \n"
     ]
    },
    {
     "name": "stdout",
     "output_type": "stream",
     "text": [
      "epoch: 3, [batch: 23 / 45], examples_per_second: 4027.4475, train_label_loss: 1.0103, \n"
     ]
    },
    {
     "name": "stdout",
     "output_type": "stream",
     "text": [
      "epoch: 3, [batch: 27 / 45], examples_per_second: 4124.6591, train_label_loss: 0.7179, \n"
     ]
    },
    {
     "name": "stdout",
     "output_type": "stream",
     "text": [
      "epoch: 3, [batch: 31 / 45], examples_per_second: 4132.0139, train_label_loss: 0.7100, \n"
     ]
    },
    {
     "name": "stdout",
     "output_type": "stream",
     "text": [
      "epoch: 3, [batch: 36 / 45], examples_per_second: 4167.6210, train_label_loss: 0.5365, \n"
     ]
    },
    {
     "name": "stdout",
     "output_type": "stream",
     "text": [
      "epoch: 3, [batch: 40 / 45], examples_per_second: 4225.4030, train_label_loss: 0.6258, \n"
     ]
    },
    {
     "name": "stdout",
     "output_type": "stream",
     "text": [
      "=============================================================\n",
      "epoch: 3, source_val_acc_label: 0.8692, target_val_acc_label: 0.7987, source_val_label_loss: 0.7242, target_val_label_loss: 1.0717, \n",
      "=============================================================\n"
     ]
    },
    {
     "name": "stdout",
     "output_type": "stream",
     "text": [
      "New best\n"
     ]
    },
    {
     "name": "stdout",
     "output_type": "stream",
     "text": [
      "epoch: 4, [batch: 1 / 45], examples_per_second: 487.1903, train_label_loss: 0.8118, \n"
     ]
    },
    {
     "name": "stdout",
     "output_type": "stream",
     "text": [
      "epoch: 4, [batch: 5 / 45], examples_per_second: 3984.3153, train_label_loss: 0.8091, \n"
     ]
    },
    {
     "name": "stdout",
     "output_type": "stream",
     "text": [
      "epoch: 4, [batch: 9 / 45], examples_per_second: 4078.9726, train_label_loss: 0.6356, \n"
     ]
    },
    {
     "name": "stdout",
     "output_type": "stream",
     "text": [
      "epoch: 4, [batch: 14 / 45], examples_per_second: 4083.1261, train_label_loss: 0.7457, \n"
     ]
    },
    {
     "name": "stdout",
     "output_type": "stream",
     "text": [
      "epoch: 4, [batch: 18 / 45], examples_per_second: 4102.5335, train_label_loss: 0.7312, \n"
     ]
    },
    {
     "name": "stdout",
     "output_type": "stream",
     "text": [
      "epoch: 4, [batch: 23 / 45], examples_per_second: 4032.8259, train_label_loss: 0.5173, \n"
     ]
    },
    {
     "name": "stdout",
     "output_type": "stream",
     "text": [
      "epoch: 4, [batch: 27 / 45], examples_per_second: 4137.3471, train_label_loss: 0.5706, \n"
     ]
    },
    {
     "name": "stdout",
     "output_type": "stream",
     "text": [
      "epoch: 4, [batch: 31 / 45], examples_per_second: 4139.1891, train_label_loss: 0.6480, \n"
     ]
    },
    {
     "name": "stdout",
     "output_type": "stream",
     "text": [
      "epoch: 4, [batch: 36 / 45], examples_per_second: 4176.7962, train_label_loss: 0.5033, \n"
     ]
    },
    {
     "name": "stdout",
     "output_type": "stream",
     "text": [
      "epoch: 4, [batch: 40 / 45], examples_per_second: 4234.0372, train_label_loss: 0.6848, \n"
     ]
    },
    {
     "name": "stdout",
     "output_type": "stream",
     "text": [
      "=============================================================\n",
      "epoch: 4, source_val_acc_label: 0.8994, target_val_acc_label: 0.8184, source_val_label_loss: 0.5676, target_val_label_loss: 0.9628, \n",
      "=============================================================\n"
     ]
    },
    {
     "name": "stdout",
     "output_type": "stream",
     "text": [
      "New best\n"
     ]
    },
    {
     "name": "stdout",
     "output_type": "stream",
     "text": [
      "epoch: 5, [batch: 1 / 45], examples_per_second: 484.6070, train_label_loss: 0.4682, \n"
     ]
    },
    {
     "name": "stdout",
     "output_type": "stream",
     "text": [
      "epoch: 5, [batch: 5 / 45], examples_per_second: 3981.1313, train_label_loss: 0.3400, \n"
     ]
    },
    {
     "name": "stdout",
     "output_type": "stream",
     "text": [
      "epoch: 5, [batch: 9 / 45], examples_per_second: 4080.1691, train_label_loss: 0.4585, \n"
     ]
    },
    {
     "name": "stdout",
     "output_type": "stream",
     "text": [
      "epoch: 5, [batch: 14 / 45], examples_per_second: 4091.4107, train_label_loss: 0.3576, \n"
     ]
    },
    {
     "name": "stdout",
     "output_type": "stream",
     "text": [
      "epoch: 5, [batch: 18 / 45], examples_per_second: 4090.5611, train_label_loss: 0.4732, \n"
     ]
    },
    {
     "name": "stdout",
     "output_type": "stream",
     "text": [
      "epoch: 5, [batch: 23 / 45], examples_per_second: 4028.6401, train_label_loss: 0.3322, \n"
     ]
    },
    {
     "name": "stdout",
     "output_type": "stream",
     "text": [
      "epoch: 5, [batch: 27 / 45], examples_per_second: 4132.7514, train_label_loss: 0.3872, \n"
     ]
    },
    {
     "name": "stdout",
     "output_type": "stream",
     "text": [
      "epoch: 5, [batch: 31 / 45], examples_per_second: 4140.7922, train_label_loss: 0.3715, \n"
     ]
    },
    {
     "name": "stdout",
     "output_type": "stream",
     "text": [
      "epoch: 5, [batch: 36 / 45], examples_per_second: 4167.9281, train_label_loss: 0.3360, \n"
     ]
    },
    {
     "name": "stdout",
     "output_type": "stream",
     "text": [
      "epoch: 5, [batch: 40 / 45], examples_per_second: 4227.6963, train_label_loss: 0.3830, \n"
     ]
    },
    {
     "name": "stdout",
     "output_type": "stream",
     "text": [
      "=============================================================\n",
      "epoch: 5, source_val_acc_label: 0.9154, target_val_acc_label: 0.8308, source_val_label_loss: 0.4705, target_val_label_loss: 0.8794, \n",
      "=============================================================\n"
     ]
    },
    {
     "name": "stdout",
     "output_type": "stream",
     "text": [
      "New best\n"
     ]
    },
    {
     "name": "stdout",
     "output_type": "stream",
     "text": [
      "epoch: 6, [batch: 1 / 45], examples_per_second: 491.9167, train_label_loss: 0.2367, \n"
     ]
    },
    {
     "name": "stdout",
     "output_type": "stream",
     "text": [
      "epoch: 6, [batch: 5 / 45], examples_per_second: 3978.9292, train_label_loss: 0.2794, \n"
     ]
    },
    {
     "name": "stdout",
     "output_type": "stream",
     "text": [
      "epoch: 6, [batch: 9 / 45], examples_per_second: 4078.1062, train_label_loss: 0.4079, \n"
     ]
    },
    {
     "name": "stdout",
     "output_type": "stream",
     "text": [
      "epoch: 6, [batch: 14 / 45], examples_per_second: 4085.0999, train_label_loss: 0.4098, \n"
     ]
    },
    {
     "name": "stdout",
     "output_type": "stream",
     "text": [
      "epoch: 6, [batch: 18 / 45], examples_per_second: 4075.5914, train_label_loss: 0.3324, \n"
     ]
    },
    {
     "name": "stdout",
     "output_type": "stream",
     "text": [
      "epoch: 6, [batch: 23 / 45], examples_per_second: 4017.3751, train_label_loss: 0.3455, \n"
     ]
    },
    {
     "name": "stdout",
     "output_type": "stream",
     "text": [
      "epoch: 6, [batch: 27 / 45], examples_per_second: 4138.5749, train_label_loss: 0.3477, \n"
     ]
    },
    {
     "name": "stdout",
     "output_type": "stream",
     "text": [
      "epoch: 6, [batch: 31 / 45], examples_per_second: 4125.9887, train_label_loss: 0.3085, \n"
     ]
    },
    {
     "name": "stdout",
     "output_type": "stream",
     "text": [
      "epoch: 6, [batch: 36 / 45], examples_per_second: 4171.8313, train_label_loss: 0.3344, \n"
     ]
    },
    {
     "name": "stdout",
     "output_type": "stream",
     "text": [
      "epoch: 6, [batch: 40 / 45], examples_per_second: 4223.7010, train_label_loss: 0.3332, \n"
     ]
    },
    {
     "name": "stdout",
     "output_type": "stream",
     "text": [
      "=============================================================\n",
      "epoch: 6, source_val_acc_label: 0.9346, target_val_acc_label: 0.8457, source_val_label_loss: 0.4033, target_val_label_loss: 0.8524, \n",
      "=============================================================\n"
     ]
    },
    {
     "name": "stdout",
     "output_type": "stream",
     "text": [
      "New best\n"
     ]
    },
    {
     "name": "stdout",
     "output_type": "stream",
     "text": [
      "epoch: 7, [batch: 1 / 45], examples_per_second: 487.6535, train_label_loss: 0.5058, \n"
     ]
    },
    {
     "name": "stdout",
     "output_type": "stream",
     "text": [
      "epoch: 7, [batch: 5 / 45], examples_per_second: 3967.2506, train_label_loss: 0.2174, \n"
     ]
    },
    {
     "name": "stdout",
     "output_type": "stream",
     "text": [
      "epoch: 7, [batch: 9 / 45], examples_per_second: 4068.3328, train_label_loss: 0.2417, \n"
     ]
    },
    {
     "name": "stdout",
     "output_type": "stream",
     "text": [
      "epoch: 7, [batch: 14 / 45], examples_per_second: 4082.3985, train_label_loss: 0.2762, \n"
     ]
    },
    {
     "name": "stdout",
     "output_type": "stream",
     "text": [
      "epoch: 7, [batch: 18 / 45], examples_per_second: 4039.7419, train_label_loss: 0.2802, \n"
     ]
    },
    {
     "name": "stdout",
     "output_type": "stream",
     "text": [
      "epoch: 7, [batch: 23 / 45], examples_per_second: 4013.3134, train_label_loss: 0.2020, \n"
     ]
    },
    {
     "name": "stdout",
     "output_type": "stream",
     "text": [
      "epoch: 7, [batch: 27 / 45], examples_per_second: 4115.7362, train_label_loss: 0.2380, \n"
     ]
    },
    {
     "name": "stdout",
     "output_type": "stream",
     "text": [
      "epoch: 7, [batch: 31 / 45], examples_per_second: 4133.4783, train_label_loss: 0.2579, \n"
     ]
    },
    {
     "name": "stdout",
     "output_type": "stream",
     "text": [
      "epoch: 7, [batch: 36 / 45], examples_per_second: 4165.5489, train_label_loss: 0.2759, \n"
     ]
    },
    {
     "name": "stdout",
     "output_type": "stream",
     "text": [
      "epoch: 7, [batch: 40 / 45], examples_per_second: 4216.8968, train_label_loss: 0.2157, \n"
     ]
    },
    {
     "name": "stdout",
     "output_type": "stream",
     "text": [
      "=============================================================\n",
      "epoch: 7, source_val_acc_label: 0.9404, target_val_acc_label: 0.8547, source_val_label_loss: 0.3764, target_val_label_loss: 0.8251, \n",
      "=============================================================\n"
     ]
    },
    {
     "name": "stdout",
     "output_type": "stream",
     "text": [
      "New best\n"
     ]
    },
    {
     "name": "stdout",
     "output_type": "stream",
     "text": [
      "epoch: 8, [batch: 1 / 45], examples_per_second: 489.0099, train_label_loss: 0.2569, \n"
     ]
    },
    {
     "name": "stdout",
     "output_type": "stream",
     "text": [
      "epoch: 8, [batch: 5 / 45], examples_per_second: 3979.3255, train_label_loss: 0.1728, \n"
     ]
    },
    {
     "name": "stdout",
     "output_type": "stream",
     "text": [
      "epoch: 8, [batch: 9 / 45], examples_per_second: 4081.0944, train_label_loss: 0.0915, \n"
     ]
    },
    {
     "name": "stdout",
     "output_type": "stream",
     "text": [
      "epoch: 8, [batch: 14 / 45], examples_per_second: 4082.7177, train_label_loss: 0.2419, \n"
     ]
    },
    {
     "name": "stdout",
     "output_type": "stream",
     "text": [
      "epoch: 8, [batch: 18 / 45], examples_per_second: 4071.5332, train_label_loss: 0.1163, \n"
     ]
    },
    {
     "name": "stdout",
     "output_type": "stream",
     "text": [
      "epoch: 8, [batch: 23 / 45], examples_per_second: 4014.0934, train_label_loss: 0.1950, \n"
     ]
    },
    {
     "name": "stdout",
     "output_type": "stream",
     "text": [
      "epoch: 8, [batch: 27 / 45], examples_per_second: 4129.3884, train_label_loss: 0.1910, \n"
     ]
    },
    {
     "name": "stdout",
     "output_type": "stream",
     "text": [
      "epoch: 8, [batch: 31 / 45], examples_per_second: 4121.5024, train_label_loss: 0.1553, \n"
     ]
    },
    {
     "name": "stdout",
     "output_type": "stream",
     "text": [
      "epoch: 8, [batch: 36 / 45], examples_per_second: 4158.7258, train_label_loss: 0.2654, \n"
     ]
    },
    {
     "name": "stdout",
     "output_type": "stream",
     "text": [
      "epoch: 8, [batch: 40 / 45], examples_per_second: 4216.5120, train_label_loss: 0.1495, \n"
     ]
    },
    {
     "name": "stdout",
     "output_type": "stream",
     "text": [
      "=============================================================\n",
      "epoch: 8, source_val_acc_label: 0.9436, target_val_acc_label: 0.8551, source_val_label_loss: 0.3585, target_val_label_loss: 0.7896, \n",
      "=============================================================\n"
     ]
    },
    {
     "name": "stdout",
     "output_type": "stream",
     "text": [
      "New best\n"
     ]
    },
    {
     "name": "stdout",
     "output_type": "stream",
     "text": [
      "epoch: 9, [batch: 1 / 45], examples_per_second: 486.8014, train_label_loss: 0.0960, \n"
     ]
    },
    {
     "name": "stdout",
     "output_type": "stream",
     "text": [
      "epoch: 9, [batch: 5 / 45], examples_per_second: 3985.8079, train_label_loss: 0.2054, \n"
     ]
    },
    {
     "name": "stdout",
     "output_type": "stream",
     "text": [
      "epoch: 9, [batch: 9 / 45], examples_per_second: 4081.6642, train_label_loss: 0.1183, \n"
     ]
    },
    {
     "name": "stdout",
     "output_type": "stream",
     "text": [
      "epoch: 9, [batch: 14 / 45], examples_per_second: 4071.1219, train_label_loss: 0.0839, \n"
     ]
    },
    {
     "name": "stdout",
     "output_type": "stream",
     "text": [
      "epoch: 9, [batch: 18 / 45], examples_per_second: 4076.9734, train_label_loss: 0.1065, \n"
     ]
    },
    {
     "name": "stdout",
     "output_type": "stream",
     "text": [
      "epoch: 9, [batch: 23 / 45], examples_per_second: 4026.8217, train_label_loss: 0.1547, \n"
     ]
    },
    {
     "name": "stdout",
     "output_type": "stream",
     "text": [
      "epoch: 9, [batch: 27 / 45], examples_per_second: 4132.4288, train_label_loss: 0.3401, \n"
     ]
    },
    {
     "name": "stdout",
     "output_type": "stream",
     "text": [
      "epoch: 9, [batch: 31 / 45], examples_per_second: 4135.6070, train_label_loss: 0.1671, \n"
     ]
    },
    {
     "name": "stdout",
     "output_type": "stream",
     "text": [
      "epoch: 9, [batch: 36 / 45], examples_per_second: 4165.2587, train_label_loss: 0.1907, \n"
     ]
    },
    {
     "name": "stdout",
     "output_type": "stream",
     "text": [
      "epoch: 9, [batch: 40 / 45], examples_per_second: 4222.3485, train_label_loss: 0.1311, \n"
     ]
    },
    {
     "name": "stdout",
     "output_type": "stream",
     "text": [
      "=============================================================\n",
      "epoch: 9, source_val_acc_label: 0.9462, target_val_acc_label: 0.8564, source_val_label_loss: 0.3604, target_val_label_loss: 0.7707, \n",
      "=============================================================\n"
     ]
    },
    {
     "name": "stdout",
     "output_type": "stream",
     "text": [
      "New best\n"
     ]
    },
    {
     "name": "stdout",
     "output_type": "stream",
     "text": [
      "epoch: 10, [batch: 1 / 45], examples_per_second: 491.9584, train_label_loss: 0.2409, \n"
     ]
    },
    {
     "name": "stdout",
     "output_type": "stream",
     "text": [
      "epoch: 10, [batch: 5 / 45], examples_per_second: 3972.4387, train_label_loss: 0.1628, \n"
     ]
    },
    {
     "name": "stdout",
     "output_type": "stream",
     "text": [
      "epoch: 10, [batch: 9 / 45], examples_per_second: 4073.5164, train_label_loss: 0.2329, \n"
     ]
    },
    {
     "name": "stdout",
     "output_type": "stream",
     "text": [
      "epoch: 10, [batch: 14 / 45], examples_per_second: 4075.2259, train_label_loss: 0.1427, \n"
     ]
    },
    {
     "name": "stdout",
     "output_type": "stream",
     "text": [
      "epoch: 10, [batch: 18 / 45], examples_per_second: 4067.0264, train_label_loss: 0.1796, \n"
     ]
    },
    {
     "name": "stdout",
     "output_type": "stream",
     "text": [
      "epoch: 10, [batch: 23 / 45], examples_per_second: 3999.9589, train_label_loss: 0.2833, \n"
     ]
    },
    {
     "name": "stdout",
     "output_type": "stream",
     "text": [
      "epoch: 10, [batch: 27 / 45], examples_per_second: 4125.0523, train_label_loss: 0.1270, \n"
     ]
    },
    {
     "name": "stdout",
     "output_type": "stream",
     "text": [
      "epoch: 10, [batch: 31 / 45], examples_per_second: 4107.8975, train_label_loss: 0.2810, \n"
     ]
    },
    {
     "name": "stdout",
     "output_type": "stream",
     "text": [
      "epoch: 10, [batch: 36 / 45], examples_per_second: 4155.4676, train_label_loss: 0.0778, \n"
     ]
    },
    {
     "name": "stdout",
     "output_type": "stream",
     "text": [
      "epoch: 10, [batch: 40 / 45], examples_per_second: 4207.7932, train_label_loss: 0.2344, \n"
     ]
    },
    {
     "name": "stdout",
     "output_type": "stream",
     "text": [
      "=============================================================\n",
      "epoch: 10, source_val_acc_label: 0.9455, target_val_acc_label: 0.8571, source_val_label_loss: 0.3513, target_val_label_loss: 0.7531, \n",
      "=============================================================\n"
     ]
    },
    {
     "name": "stdout",
     "output_type": "stream",
     "text": [
      "New best\n"
     ]
    },
    {
     "name": "stdout",
     "output_type": "stream",
     "text": [
      "epoch: 11, [batch: 1 / 45], examples_per_second: 490.5556, train_label_loss: 0.2172, \n"
     ]
    },
    {
     "name": "stdout",
     "output_type": "stream",
     "text": [
      "epoch: 11, [batch: 5 / 45], examples_per_second: 3977.3140, train_label_loss: 0.1065, \n"
     ]
    },
    {
     "name": "stdout",
     "output_type": "stream",
     "text": [
      "epoch: 11, [batch: 9 / 45], examples_per_second: 4069.3013, train_label_loss: 0.2343, \n"
     ]
    },
    {
     "name": "stdout",
     "output_type": "stream",
     "text": [
      "epoch: 11, [batch: 14 / 45], examples_per_second: 4064.2081, train_label_loss: 0.1675, \n"
     ]
    },
    {
     "name": "stdout",
     "output_type": "stream",
     "text": [
      "epoch: 11, [batch: 18 / 45], examples_per_second: 4073.5864, train_label_loss: 0.3125, \n"
     ]
    },
    {
     "name": "stdout",
     "output_type": "stream",
     "text": [
      "epoch: 11, [batch: 23 / 45], examples_per_second: 3998.1921, train_label_loss: 0.1170, \n"
     ]
    },
    {
     "name": "stdout",
     "output_type": "stream",
     "text": [
      "epoch: 11, [batch: 27 / 45], examples_per_second: 4115.2780, train_label_loss: 0.1350, \n"
     ]
    },
    {
     "name": "stdout",
     "output_type": "stream",
     "text": [
      "epoch: 11, [batch: 31 / 45], examples_per_second: 4116.1665, train_label_loss: 0.1308, \n"
     ]
    },
    {
     "name": "stdout",
     "output_type": "stream",
     "text": [
      "epoch: 11, [batch: 36 / 45], examples_per_second: 4156.0074, train_label_loss: 0.0766, \n"
     ]
    },
    {
     "name": "stdout",
     "output_type": "stream",
     "text": [
      "epoch: 11, [batch: 40 / 45], examples_per_second: 4209.2793, train_label_loss: 0.2605, \n"
     ]
    },
    {
     "name": "stdout",
     "output_type": "stream",
     "text": [
      "=============================================================\n",
      "epoch: 11, source_val_acc_label: 0.9519, target_val_acc_label: 0.8637, source_val_label_loss: 0.3463, target_val_label_loss: 0.7404, \n",
      "=============================================================\n"
     ]
    },
    {
     "name": "stdout",
     "output_type": "stream",
     "text": [
      "New best\n"
     ]
    },
    {
     "name": "stdout",
     "output_type": "stream",
     "text": [
      "epoch: 12, [batch: 1 / 45], examples_per_second: 491.0355, train_label_loss: 0.1558, \n"
     ]
    },
    {
     "name": "stdout",
     "output_type": "stream",
     "text": [
      "epoch: 12, [batch: 5 / 45], examples_per_second: 3972.9206, train_label_loss: 0.1216, \n"
     ]
    },
    {
     "name": "stdout",
     "output_type": "stream",
     "text": [
      "epoch: 12, [batch: 9 / 45], examples_per_second: 4061.0470, train_label_loss: 0.3083, \n"
     ]
    },
    {
     "name": "stdout",
     "output_type": "stream",
     "text": [
      "epoch: 12, [batch: 14 / 45], examples_per_second: 4065.1050, train_label_loss: 0.2297, \n"
     ]
    },
    {
     "name": "stdout",
     "output_type": "stream",
     "text": [
      "epoch: 12, [batch: 18 / 45], examples_per_second: 4062.5765, train_label_loss: 0.1070, \n"
     ]
    },
    {
     "name": "stdout",
     "output_type": "stream",
     "text": [
      "epoch: 12, [batch: 23 / 45], examples_per_second: 4015.6697, train_label_loss: 0.2348, \n"
     ]
    },
    {
     "name": "stdout",
     "output_type": "stream",
     "text": [
      "epoch: 12, [batch: 27 / 45], examples_per_second: 4117.5559, train_label_loss: 0.1587, \n"
     ]
    },
    {
     "name": "stdout",
     "output_type": "stream",
     "text": [
      "epoch: 12, [batch: 31 / 45], examples_per_second: 4100.7732, train_label_loss: 0.0861, \n"
     ]
    },
    {
     "name": "stdout",
     "output_type": "stream",
     "text": [
      "epoch: 12, [batch: 36 / 45], examples_per_second: 4150.3284, train_label_loss: 0.2240, \n"
     ]
    },
    {
     "name": "stdout",
     "output_type": "stream",
     "text": [
      "epoch: 12, [batch: 40 / 45], examples_per_second: 4222.1850, train_label_loss: 0.1723, \n"
     ]
    },
    {
     "name": "stdout",
     "output_type": "stream",
     "text": [
      "=============================================================\n",
      "epoch: 12, source_val_acc_label: 0.9519, target_val_acc_label: 0.8673, source_val_label_loss: 0.3228, target_val_label_loss: 0.7289, \n",
      "=============================================================\n"
     ]
    },
    {
     "name": "stdout",
     "output_type": "stream",
     "text": [
      "New best\n"
     ]
    },
    {
     "name": "stdout",
     "output_type": "stream",
     "text": [
      "epoch: 13, [batch: 1 / 45], examples_per_second: 487.0111, train_label_loss: 0.0862, \n"
     ]
    },
    {
     "name": "stdout",
     "output_type": "stream",
     "text": [
      "epoch: 13, [batch: 5 / 45], examples_per_second: 3974.7568, train_label_loss: 0.1282, \n"
     ]
    },
    {
     "name": "stdout",
     "output_type": "stream",
     "text": [
      "epoch: 13, [batch: 9 / 45], examples_per_second: 4080.9371, train_label_loss: 0.1362, \n"
     ]
    },
    {
     "name": "stdout",
     "output_type": "stream",
     "text": [
      "epoch: 13, [batch: 14 / 45], examples_per_second: 4076.1142, train_label_loss: 0.1715, \n"
     ]
    },
    {
     "name": "stdout",
     "output_type": "stream",
     "text": [
      "epoch: 13, [batch: 18 / 45], examples_per_second: 4072.7922, train_label_loss: 0.1123, \n"
     ]
    },
    {
     "name": "stdout",
     "output_type": "stream",
     "text": [
      "epoch: 13, [batch: 23 / 45], examples_per_second: 4020.1736, train_label_loss: 0.1141, \n"
     ]
    },
    {
     "name": "stdout",
     "output_type": "stream",
     "text": [
      "epoch: 13, [batch: 27 / 45], examples_per_second: 4128.6364, train_label_loss: 0.2879, \n"
     ]
    },
    {
     "name": "stdout",
     "output_type": "stream",
     "text": [
      "epoch: 13, [batch: 31 / 45], examples_per_second: 4130.6350, train_label_loss: 0.0896, \n"
     ]
    },
    {
     "name": "stdout",
     "output_type": "stream",
     "text": [
      "epoch: 13, [batch: 36 / 45], examples_per_second: 4156.0226, train_label_loss: 0.0875, \n"
     ]
    },
    {
     "name": "stdout",
     "output_type": "stream",
     "text": [
      "epoch: 13, [batch: 40 / 45], examples_per_second: 4209.9732, train_label_loss: 0.1974, \n"
     ]
    },
    {
     "name": "stdout",
     "output_type": "stream",
     "text": [
      "=============================================================\n",
      "epoch: 13, source_val_acc_label: 0.9532, target_val_acc_label: 0.8688, source_val_label_loss: 0.3255, target_val_label_loss: 0.7283, \n",
      "=============================================================\n"
     ]
    },
    {
     "name": "stdout",
     "output_type": "stream",
     "text": [
      "New best\n"
     ]
    },
    {
     "name": "stdout",
     "output_type": "stream",
     "text": [
      "epoch: 14, [batch: 1 / 45], examples_per_second: 488.0113, train_label_loss: 0.0846, \n"
     ]
    },
    {
     "name": "stdout",
     "output_type": "stream",
     "text": [
      "epoch: 14, [batch: 5 / 45], examples_per_second: 3964.3359, train_label_loss: 0.0921, \n"
     ]
    },
    {
     "name": "stdout",
     "output_type": "stream",
     "text": [
      "epoch: 14, [batch: 9 / 45], examples_per_second: 4066.6927, train_label_loss: 0.1453, \n"
     ]
    },
    {
     "name": "stdout",
     "output_type": "stream",
     "text": [
      "epoch: 14, [batch: 14 / 45], examples_per_second: 4064.0530, train_label_loss: 0.0854, \n"
     ]
    },
    {
     "name": "stdout",
     "output_type": "stream",
     "text": [
      "epoch: 14, [batch: 18 / 45], examples_per_second: 4070.3661, train_label_loss: 0.0730, \n"
     ]
    },
    {
     "name": "stdout",
     "output_type": "stream",
     "text": [
      "epoch: 14, [batch: 23 / 45], examples_per_second: 4018.9314, train_label_loss: 0.1582, \n"
     ]
    },
    {
     "name": "stdout",
     "output_type": "stream",
     "text": [
      "epoch: 14, [batch: 27 / 45], examples_per_second: 4122.2783, train_label_loss: 0.1169, \n"
     ]
    },
    {
     "name": "stdout",
     "output_type": "stream",
     "text": [
      "epoch: 14, [batch: 31 / 45], examples_per_second: 4125.1022, train_label_loss: 0.1936, \n"
     ]
    },
    {
     "name": "stdout",
     "output_type": "stream",
     "text": [
      "epoch: 14, [batch: 36 / 45], examples_per_second: 4159.8210, train_label_loss: 0.0369, \n"
     ]
    },
    {
     "name": "stdout",
     "output_type": "stream",
     "text": [
      "epoch: 14, [batch: 40 / 45], examples_per_second: 4214.8237, train_label_loss: 0.1867, \n"
     ]
    },
    {
     "name": "stdout",
     "output_type": "stream",
     "text": [
      "=============================================================\n",
      "epoch: 14, source_val_acc_label: 0.9564, target_val_acc_label: 0.8703, source_val_label_loss: 0.3277, target_val_label_loss: 0.7468, \n",
      "=============================================================\n"
     ]
    },
    {
     "name": "stdout",
     "output_type": "stream",
     "text": [
      "New best\n"
     ]
    },
    {
     "name": "stdout",
     "output_type": "stream",
     "text": [
      "epoch: 15, [batch: 1 / 45], examples_per_second: 489.6903, train_label_loss: 0.1178, \n"
     ]
    },
    {
     "name": "stdout",
     "output_type": "stream",
     "text": [
      "epoch: 15, [batch: 5 / 45], examples_per_second: 3965.1720, train_label_loss: 0.1428, \n"
     ]
    },
    {
     "name": "stdout",
     "output_type": "stream",
     "text": [
      "epoch: 15, [batch: 9 / 45], examples_per_second: 4075.1239, train_label_loss: 0.1216, \n"
     ]
    },
    {
     "name": "stdout",
     "output_type": "stream",
     "text": [
      "epoch: 15, [batch: 14 / 45], examples_per_second: 4070.1640, train_label_loss: 0.1789, \n"
     ]
    },
    {
     "name": "stdout",
     "output_type": "stream",
     "text": [
      "epoch: 15, [batch: 18 / 45], examples_per_second: 4084.6378, train_label_loss: 0.0779, \n"
     ]
    },
    {
     "name": "stdout",
     "output_type": "stream",
     "text": [
      "epoch: 15, [batch: 23 / 45], examples_per_second: 4029.0688, train_label_loss: 0.1210, \n"
     ]
    },
    {
     "name": "stdout",
     "output_type": "stream",
     "text": [
      "epoch: 15, [batch: 27 / 45], examples_per_second: 4121.3280, train_label_loss: 0.0278, \n"
     ]
    },
    {
     "name": "stdout",
     "output_type": "stream",
     "text": [
      "epoch: 15, [batch: 31 / 45], examples_per_second: 4133.7493, train_label_loss: 0.1044, \n"
     ]
    },
    {
     "name": "stdout",
     "output_type": "stream",
     "text": [
      "epoch: 15, [batch: 36 / 45], examples_per_second: 4154.0721, train_label_loss: 0.1235, \n"
     ]
    },
    {
     "name": "stdout",
     "output_type": "stream",
     "text": [
      "epoch: 15, [batch: 40 / 45], examples_per_second: 4219.5972, train_label_loss: 0.0858, \n"
     ]
    },
    {
     "name": "stdout",
     "output_type": "stream",
     "text": [
      "=============================================================\n",
      "epoch: 15, source_val_acc_label: 0.9532, target_val_acc_label: 0.8729, source_val_label_loss: 0.3167, target_val_label_loss: 0.7262, \n",
      "=============================================================\n"
     ]
    },
    {
     "name": "stdout",
     "output_type": "stream",
     "text": [
      "New best\n"
     ]
    },
    {
     "name": "stdout",
     "output_type": "stream",
     "text": [
      "epoch: 16, [batch: 1 / 45], examples_per_second: 485.8724, train_label_loss: 0.1566, \n"
     ]
    },
    {
     "name": "stdout",
     "output_type": "stream",
     "text": [
      "epoch: 16, [batch: 5 / 45], examples_per_second: 3972.5762, train_label_loss: 0.1941, \n"
     ]
    },
    {
     "name": "stdout",
     "output_type": "stream",
     "text": [
      "epoch: 16, [batch: 9 / 45], examples_per_second: 4073.4495, train_label_loss: 0.1927, \n"
     ]
    },
    {
     "name": "stdout",
     "output_type": "stream",
     "text": [
      "epoch: 16, [batch: 14 / 45], examples_per_second: 4082.3924, train_label_loss: 0.1482, \n"
     ]
    },
    {
     "name": "stdout",
     "output_type": "stream",
     "text": [
      "epoch: 16, [batch: 18 / 45], examples_per_second: 4084.5276, train_label_loss: 0.1389, \n"
     ]
    },
    {
     "name": "stdout",
     "output_type": "stream",
     "text": [
      "epoch: 16, [batch: 23 / 45], examples_per_second: 4027.5486, train_label_loss: 0.1063, \n"
     ]
    },
    {
     "name": "stdout",
     "output_type": "stream",
     "text": [
      "epoch: 16, [batch: 27 / 45], examples_per_second: 4132.4304, train_label_loss: 0.1751, \n"
     ]
    },
    {
     "name": "stdout",
     "output_type": "stream",
     "text": [
      "epoch: 16, [batch: 31 / 45], examples_per_second: 4119.6309, train_label_loss: 0.1277, \n"
     ]
    },
    {
     "name": "stdout",
     "output_type": "stream",
     "text": [
      "epoch: 16, [batch: 36 / 45], examples_per_second: 4160.7809, train_label_loss: 0.0718, \n"
     ]
    },
    {
     "name": "stdout",
     "output_type": "stream",
     "text": [
      "epoch: 16, [batch: 40 / 45], examples_per_second: 4216.4110, train_label_loss: 0.0427, \n"
     ]
    },
    {
     "name": "stdout",
     "output_type": "stream",
     "text": [
      "=============================================================\n",
      "epoch: 16, source_val_acc_label: 0.9609, target_val_acc_label: 0.8754, source_val_label_loss: 0.3089, target_val_label_loss: 0.7134, \n",
      "=============================================================\n"
     ]
    },
    {
     "name": "stdout",
     "output_type": "stream",
     "text": [
      "New best\n"
     ]
    },
    {
     "name": "stdout",
     "output_type": "stream",
     "text": [
      "epoch: 17, [batch: 1 / 45], examples_per_second: 488.3086, train_label_loss: 0.1569, \n"
     ]
    },
    {
     "name": "stdout",
     "output_type": "stream",
     "text": [
      "epoch: 17, [batch: 5 / 45], examples_per_second: 3971.2771, train_label_loss: 0.2073, \n"
     ]
    },
    {
     "name": "stdout",
     "output_type": "stream",
     "text": [
      "epoch: 17, [batch: 9 / 45], examples_per_second: 4078.1657, train_label_loss: 0.1982, \n"
     ]
    },
    {
     "name": "stdout",
     "output_type": "stream",
     "text": [
      "epoch: 17, [batch: 14 / 45], examples_per_second: 4081.9915, train_label_loss: 0.0756, \n"
     ]
    },
    {
     "name": "stdout",
     "output_type": "stream",
     "text": [
      "epoch: 17, [batch: 18 / 45], examples_per_second: 4079.7890, train_label_loss: 0.1907, \n"
     ]
    },
    {
     "name": "stdout",
     "output_type": "stream",
     "text": [
      "epoch: 17, [batch: 23 / 45], examples_per_second: 4022.4204, train_label_loss: 0.1134, \n"
     ]
    },
    {
     "name": "stdout",
     "output_type": "stream",
     "text": [
      "epoch: 17, [batch: 27 / 45], examples_per_second: 4130.5897, train_label_loss: 0.0985, \n"
     ]
    },
    {
     "name": "stdout",
     "output_type": "stream",
     "text": [
      "epoch: 17, [batch: 31 / 45], examples_per_second: 4125.9122, train_label_loss: 0.0791, \n"
     ]
    },
    {
     "name": "stdout",
     "output_type": "stream",
     "text": [
      "epoch: 17, [batch: 36 / 45], examples_per_second: 4170.0829, train_label_loss: 0.1264, \n"
     ]
    },
    {
     "name": "stdout",
     "output_type": "stream",
     "text": [
      "epoch: 17, [batch: 40 / 45], examples_per_second: 4217.1056, train_label_loss: 0.1846, \n"
     ]
    },
    {
     "name": "stdout",
     "output_type": "stream",
     "text": [
      "=============================================================\n",
      "epoch: 17, source_val_acc_label: 0.9590, target_val_acc_label: 0.8778, source_val_label_loss: 0.3177, target_val_label_loss: 0.7045, \n",
      "=============================================================\n"
     ]
    },
    {
     "name": "stdout",
     "output_type": "stream",
     "text": [
      "New best\n"
     ]
    },
    {
     "name": "stdout",
     "output_type": "stream",
     "text": [
      "epoch: 18, [batch: 1 / 45], examples_per_second: 486.5908, train_label_loss: 0.1053, \n"
     ]
    },
    {
     "name": "stdout",
     "output_type": "stream",
     "text": [
      "epoch: 18, [batch: 5 / 45], examples_per_second: 3964.3936, train_label_loss: 0.1571, \n"
     ]
    },
    {
     "name": "stdout",
     "output_type": "stream",
     "text": [
      "epoch: 18, [batch: 9 / 45], examples_per_second: 4073.3703, train_label_loss: 0.0607, \n"
     ]
    },
    {
     "name": "stdout",
     "output_type": "stream",
     "text": [
      "epoch: 18, [batch: 14 / 45], examples_per_second: 4080.0818, train_label_loss: 0.0858, \n"
     ]
    },
    {
     "name": "stdout",
     "output_type": "stream",
     "text": [
      "epoch: 18, [batch: 18 / 45], examples_per_second: 4081.0501, train_label_loss: 0.1734, \n"
     ]
    },
    {
     "name": "stdout",
     "output_type": "stream",
     "text": [
      "epoch: 18, [batch: 23 / 45], examples_per_second: 4023.0080, train_label_loss: 0.1407, \n"
     ]
    },
    {
     "name": "stdout",
     "output_type": "stream",
     "text": [
      "epoch: 18, [batch: 27 / 45], examples_per_second: 4128.3301, train_label_loss: 0.1145, \n"
     ]
    },
    {
     "name": "stdout",
     "output_type": "stream",
     "text": [
      "epoch: 18, [batch: 31 / 45], examples_per_second: 4114.3340, train_label_loss: 0.1512, \n"
     ]
    },
    {
     "name": "stdout",
     "output_type": "stream",
     "text": [
      "epoch: 18, [batch: 36 / 45], examples_per_second: 4162.4961, train_label_loss: 0.1132, \n"
     ]
    },
    {
     "name": "stdout",
     "output_type": "stream",
     "text": [
      "epoch: 18, [batch: 40 / 45], examples_per_second: 4212.0513, train_label_loss: 0.0387, \n"
     ]
    },
    {
     "name": "stdout",
     "output_type": "stream",
     "text": [
      "=============================================================\n",
      "epoch: 18, source_val_acc_label: 0.9551, target_val_acc_label: 0.8776, source_val_label_loss: 0.3124, target_val_label_loss: 0.7065, \n",
      "=============================================================\n"
     ]
    },
    {
     "name": "stdout",
     "output_type": "stream",
     "text": [
      "epoch: 19, [batch: 1 / 45], examples_per_second: 502.9622, train_label_loss: 0.0935, \n"
     ]
    },
    {
     "name": "stdout",
     "output_type": "stream",
     "text": [
      "epoch: 19, [batch: 5 / 45], examples_per_second: 3966.9721, train_label_loss: 0.1489, \n"
     ]
    },
    {
     "name": "stdout",
     "output_type": "stream",
     "text": [
      "epoch: 19, [batch: 9 / 45], examples_per_second: 4071.4465, train_label_loss: 0.0377, \n"
     ]
    },
    {
     "name": "stdout",
     "output_type": "stream",
     "text": [
      "epoch: 19, [batch: 14 / 45], examples_per_second: 4077.5932, train_label_loss: 0.1277, \n"
     ]
    },
    {
     "name": "stdout",
     "output_type": "stream",
     "text": [
      "epoch: 19, [batch: 18 / 45], examples_per_second: 4064.4647, train_label_loss: 0.1327, \n"
     ]
    },
    {
     "name": "stdout",
     "output_type": "stream",
     "text": [
      "epoch: 19, [batch: 23 / 45], examples_per_second: 4008.0611, train_label_loss: 0.0702, \n"
     ]
    },
    {
     "name": "stdout",
     "output_type": "stream",
     "text": [
      "epoch: 19, [batch: 27 / 45], examples_per_second: 4127.9566, train_label_loss: 0.0851, \n"
     ]
    },
    {
     "name": "stdout",
     "output_type": "stream",
     "text": [
      "epoch: 19, [batch: 31 / 45], examples_per_second: 4117.9306, train_label_loss: 0.0320, \n"
     ]
    },
    {
     "name": "stdout",
     "output_type": "stream",
     "text": [
      "epoch: 19, [batch: 36 / 45], examples_per_second: 4158.5558, train_label_loss: 0.1512, \n"
     ]
    },
    {
     "name": "stdout",
     "output_type": "stream",
     "text": [
      "epoch: 19, [batch: 40 / 45], examples_per_second: 4220.1802, train_label_loss: 0.0667, \n"
     ]
    },
    {
     "name": "stdout",
     "output_type": "stream",
     "text": [
      "=============================================================\n",
      "epoch: 19, source_val_acc_label: 0.9583, target_val_acc_label: 0.8763, source_val_label_loss: 0.3109, target_val_label_loss: 0.7113, \n",
      "=============================================================\n"
     ]
    },
    {
     "name": "stdout",
     "output_type": "stream",
     "text": [
      "epoch: 20, [batch: 1 / 45], examples_per_second: 505.1925, train_label_loss: 0.0930, \n"
     ]
    },
    {
     "name": "stdout",
     "output_type": "stream",
     "text": [
      "epoch: 20, [batch: 5 / 45], examples_per_second: 3983.4202, train_label_loss: 0.1456, \n"
     ]
    },
    {
     "name": "stdout",
     "output_type": "stream",
     "text": [
      "epoch: 20, [batch: 9 / 45], examples_per_second: 4071.2717, train_label_loss: 0.0754, \n"
     ]
    },
    {
     "name": "stdout",
     "output_type": "stream",
     "text": [
      "epoch: 20, [batch: 14 / 45], examples_per_second: 4064.4274, train_label_loss: 0.1090, \n"
     ]
    },
    {
     "name": "stdout",
     "output_type": "stream",
     "text": [
      "epoch: 20, [batch: 18 / 45], examples_per_second: 4070.5894, train_label_loss: 0.0330, \n"
     ]
    },
    {
     "name": "stdout",
     "output_type": "stream",
     "text": [
      "epoch: 20, [batch: 23 / 45], examples_per_second: 4010.5552, train_label_loss: 0.0744, \n"
     ]
    },
    {
     "name": "stdout",
     "output_type": "stream",
     "text": [
      "epoch: 20, [batch: 27 / 45], examples_per_second: 4122.5604, train_label_loss: 0.0361, \n"
     ]
    },
    {
     "name": "stdout",
     "output_type": "stream",
     "text": [
      "epoch: 20, [batch: 31 / 45], examples_per_second: 4125.1272, train_label_loss: 0.0235, \n"
     ]
    },
    {
     "name": "stdout",
     "output_type": "stream",
     "text": [
      "epoch: 20, [batch: 36 / 45], examples_per_second: 4143.9077, train_label_loss: 0.0264, \n"
     ]
    },
    {
     "name": "stdout",
     "output_type": "stream",
     "text": [
      "epoch: 20, [batch: 40 / 45], examples_per_second: 4201.5501, train_label_loss: 0.0189, \n"
     ]
    },
    {
     "name": "stdout",
     "output_type": "stream",
     "text": [
      "=============================================================\n",
      "epoch: 20, source_val_acc_label: 0.9571, target_val_acc_label: 0.8801, source_val_label_loss: 0.3196, target_val_label_loss: 0.7097, \n",
      "=============================================================\n"
     ]
    },
    {
     "name": "stdout",
     "output_type": "stream",
     "text": [
      "New best\n"
     ]
    },
    {
     "name": "stdout",
     "output_type": "stream",
     "text": [
      "epoch: 21, [batch: 1 / 45], examples_per_second: 488.1249, train_label_loss: 0.0563, \n"
     ]
    },
    {
     "name": "stdout",
     "output_type": "stream",
     "text": [
      "epoch: 21, [batch: 5 / 45], examples_per_second: 3968.8591, train_label_loss: 0.0714, \n"
     ]
    },
    {
     "name": "stdout",
     "output_type": "stream",
     "text": [
      "epoch: 21, [batch: 9 / 45], examples_per_second: 4073.5423, train_label_loss: 0.0636, \n"
     ]
    },
    {
     "name": "stdout",
     "output_type": "stream",
     "text": [
      "epoch: 21, [batch: 14 / 45], examples_per_second: 4061.7945, train_label_loss: 0.0764, \n"
     ]
    },
    {
     "name": "stdout",
     "output_type": "stream",
     "text": [
      "epoch: 21, [batch: 18 / 45], examples_per_second: 4060.9578, train_label_loss: 0.0679, \n"
     ]
    },
    {
     "name": "stdout",
     "output_type": "stream",
     "text": [
      "epoch: 21, [batch: 23 / 45], examples_per_second: 4016.3725, train_label_loss: 0.0804, \n"
     ]
    },
    {
     "name": "stdout",
     "output_type": "stream",
     "text": [
      "epoch: 21, [batch: 27 / 45], examples_per_second: 4111.0350, train_label_loss: 0.1103, \n"
     ]
    },
    {
     "name": "stdout",
     "output_type": "stream",
     "text": [
      "epoch: 21, [batch: 31 / 45], examples_per_second: 4109.4873, train_label_loss: 0.0565, \n"
     ]
    },
    {
     "name": "stdout",
     "output_type": "stream",
     "text": [
      "epoch: 21, [batch: 36 / 45], examples_per_second: 4146.9131, train_label_loss: 0.0772, \n"
     ]
    },
    {
     "name": "stdout",
     "output_type": "stream",
     "text": [
      "epoch: 21, [batch: 40 / 45], examples_per_second: 4220.8238, train_label_loss: 0.2576, \n"
     ]
    },
    {
     "name": "stdout",
     "output_type": "stream",
     "text": [
      "=============================================================\n",
      "epoch: 21, source_val_acc_label: 0.9558, target_val_acc_label: 0.8771, source_val_label_loss: 0.3283, target_val_label_loss: 0.7080, \n",
      "=============================================================\n"
     ]
    },
    {
     "name": "stdout",
     "output_type": "stream",
     "text": [
      "epoch: 22, [batch: 1 / 45], examples_per_second: 505.1736, train_label_loss: 0.0782, \n"
     ]
    },
    {
     "name": "stdout",
     "output_type": "stream",
     "text": [
      "epoch: 22, [batch: 5 / 45], examples_per_second: 3985.2792, train_label_loss: 0.0358, \n"
     ]
    },
    {
     "name": "stdout",
     "output_type": "stream",
     "text": [
      "epoch: 22, [batch: 9 / 45], examples_per_second: 4054.8680, train_label_loss: 0.1648, \n"
     ]
    },
    {
     "name": "stdout",
     "output_type": "stream",
     "text": [
      "epoch: 22, [batch: 14 / 45], examples_per_second: 4036.5889, train_label_loss: 0.0596, \n"
     ]
    },
    {
     "name": "stdout",
     "output_type": "stream",
     "text": [
      "epoch: 22, [batch: 18 / 45], examples_per_second: 4037.6300, train_label_loss: 0.0966, \n"
     ]
    },
    {
     "name": "stdout",
     "output_type": "stream",
     "text": [
      "epoch: 22, [batch: 23 / 45], examples_per_second: 4014.0816, train_label_loss: 0.0256, \n"
     ]
    },
    {
     "name": "stdout",
     "output_type": "stream",
     "text": [
      "epoch: 22, [batch: 27 / 45], examples_per_second: 4135.4753, train_label_loss: 0.0759, \n"
     ]
    },
    {
     "name": "stdout",
     "output_type": "stream",
     "text": [
      "epoch: 22, [batch: 31 / 45], examples_per_second: 4129.7778, train_label_loss: 0.0446, \n"
     ]
    },
    {
     "name": "stdout",
     "output_type": "stream",
     "text": [
      "epoch: 22, [batch: 36 / 45], examples_per_second: 4157.9152, train_label_loss: 0.0661, \n"
     ]
    },
    {
     "name": "stdout",
     "output_type": "stream",
     "text": [
      "epoch: 22, [batch: 40 / 45], examples_per_second: 4213.6967, train_label_loss: 0.0370, \n"
     ]
    },
    {
     "name": "stdout",
     "output_type": "stream",
     "text": [
      "=============================================================\n",
      "epoch: 22, source_val_acc_label: 0.9538, target_val_acc_label: 0.8741, source_val_label_loss: 0.3219, target_val_label_loss: 0.7158, \n",
      "=============================================================\n"
     ]
    },
    {
     "name": "stdout",
     "output_type": "stream",
     "text": [
      "epoch: 23, [batch: 1 / 45], examples_per_second: 500.3252, train_label_loss: 0.0690, \n"
     ]
    },
    {
     "name": "stdout",
     "output_type": "stream",
     "text": [
      "epoch: 23, [batch: 5 / 45], examples_per_second: 3966.2045, train_label_loss: 0.1470, \n"
     ]
    },
    {
     "name": "stdout",
     "output_type": "stream",
     "text": [
      "epoch: 23, [batch: 9 / 45], examples_per_second: 4074.9640, train_label_loss: 0.1135, \n"
     ]
    },
    {
     "name": "stdout",
     "output_type": "stream",
     "text": [
      "epoch: 23, [batch: 14 / 45], examples_per_second: 4068.0044, train_label_loss: 0.0525, \n"
     ]
    },
    {
     "name": "stdout",
     "output_type": "stream",
     "text": [
      "epoch: 23, [batch: 18 / 45], examples_per_second: 4073.5240, train_label_loss: 0.0318, \n"
     ]
    },
    {
     "name": "stdout",
     "output_type": "stream",
     "text": [
      "epoch: 23, [batch: 23 / 45], examples_per_second: 4022.8774, train_label_loss: 0.0344, \n"
     ]
    },
    {
     "name": "stdout",
     "output_type": "stream",
     "text": [
      "epoch: 23, [batch: 27 / 45], examples_per_second: 4125.3051, train_label_loss: 0.0686, \n"
     ]
    },
    {
     "name": "stdout",
     "output_type": "stream",
     "text": [
      "epoch: 23, [batch: 31 / 45], examples_per_second: 4129.4306, train_label_loss: 0.1112, \n"
     ]
    },
    {
     "name": "stdout",
     "output_type": "stream",
     "text": [
      "epoch: 23, [batch: 36 / 45], examples_per_second: 4163.9278, train_label_loss: 0.0351, \n"
     ]
    },
    {
     "name": "stdout",
     "output_type": "stream",
     "text": [
      "epoch: 23, [batch: 40 / 45], examples_per_second: 4217.4627, train_label_loss: 0.0436, \n"
     ]
    },
    {
     "name": "stdout",
     "output_type": "stream",
     "text": [
      "=============================================================\n",
      "epoch: 23, source_val_acc_label: 0.9551, target_val_acc_label: 0.8726, source_val_label_loss: 0.3189, target_val_label_loss: 0.7351, \n",
      "=============================================================\n"
     ]
    },
    {
     "name": "stdout",
     "output_type": "stream",
     "text": [
      "epoch: 24, [batch: 1 / 45], examples_per_second: 504.0394, train_label_loss: 0.0961, \n"
     ]
    },
    {
     "name": "stdout",
     "output_type": "stream",
     "text": [
      "epoch: 24, [batch: 5 / 45], examples_per_second: 3957.1634, train_label_loss: 0.0421, \n"
     ]
    },
    {
     "name": "stdout",
     "output_type": "stream",
     "text": [
      "epoch: 24, [batch: 9 / 45], examples_per_second: 4066.6639, train_label_loss: 0.0557, \n"
     ]
    },
    {
     "name": "stdout",
     "output_type": "stream",
     "text": [
      "epoch: 24, [batch: 14 / 45], examples_per_second: 4069.1847, train_label_loss: 0.0585, \n"
     ]
    },
    {
     "name": "stdout",
     "output_type": "stream",
     "text": [
      "epoch: 24, [batch: 18 / 45], examples_per_second: 4053.0445, train_label_loss: 0.1323, \n"
     ]
    },
    {
     "name": "stdout",
     "output_type": "stream",
     "text": [
      "epoch: 24, [batch: 23 / 45], examples_per_second: 4013.3548, train_label_loss: 0.0432, \n"
     ]
    },
    {
     "name": "stdout",
     "output_type": "stream",
     "text": [
      "epoch: 24, [batch: 27 / 45], examples_per_second: 4114.1322, train_label_loss: 0.0602, \n"
     ]
    },
    {
     "name": "stdout",
     "output_type": "stream",
     "text": [
      "epoch: 24, [batch: 31 / 45], examples_per_second: 4115.9552, train_label_loss: 0.0663, \n"
     ]
    },
    {
     "name": "stdout",
     "output_type": "stream",
     "text": [
      "epoch: 24, [batch: 36 / 45], examples_per_second: 4156.4230, train_label_loss: 0.0743, \n"
     ]
    },
    {
     "name": "stdout",
     "output_type": "stream",
     "text": [
      "epoch: 24, [batch: 40 / 45], examples_per_second: 4198.5478, train_label_loss: 0.0325, \n"
     ]
    },
    {
     "name": "stdout",
     "output_type": "stream",
     "text": [
      "=============================================================\n",
      "epoch: 24, source_val_acc_label: 0.9571, target_val_acc_label: 0.8763, source_val_label_loss: 0.3274, target_val_label_loss: 0.7166, \n",
      "=============================================================\n"
     ]
    },
    {
     "name": "stdout",
     "output_type": "stream",
     "text": [
      "Patience (3) exhausted\n"
     ]
    }
   ],
   "source": [
    "###################################\n",
    "# train\n",
    "###################################\n",
    "jig = PTN_Train_Eval_Test_Jig(model, p.BEST_MODEL_PATH, p.device)\n",
    "\n",
    "jig.train(\n",
    "    train_iterable=datasets.source.processed.train,\n",
    "    source_val_iterable=datasets.source.processed.val,\n",
    "    target_val_iterable=datasets.target.processed.val,\n",
    "    num_epochs=p.n_epoch,\n",
    "    num_logs_per_epoch=p.NUM_LOGS_PER_EPOCH,\n",
    "    patience=p.patience,\n",
    "    optimizer=optimizer,\n",
    "    criteria_for_best=p.criteria_for_best,\n",
    ")"
   ]
  },
  {
   "cell_type": "code",
   "execution_count": 14,
   "id": "31e8fabf",
   "metadata": {
    "execution": {
     "iopub.execute_input": "2022-03-22T17:29:19.189623Z",
     "iopub.status.busy": "2022-03-22T17:29:19.189364Z",
     "iopub.status.idle": "2022-03-22T17:29:19.208891Z",
     "shell.execute_reply": "2022-03-22T17:29:19.209276Z"
    },
    "papermill": {
     "duration": 0.083158,
     "end_time": "2022-03-22T17:29:19.209413",
     "exception": false,
     "start_time": "2022-03-22T17:29:19.126255",
     "status": "completed"
    },
    "tags": []
   },
   "outputs": [],
   "source": [
    "total_experiment_time_secs = time.time() - start_time_secs"
   ]
  },
  {
   "cell_type": "code",
   "execution_count": 15,
   "id": "87b9595b",
   "metadata": {
    "execution": {
     "iopub.execute_input": "2022-03-22T17:29:19.341397Z",
     "iopub.status.busy": "2022-03-22T17:29:19.341116Z",
     "iopub.status.idle": "2022-03-22T17:29:26.818777Z",
     "shell.execute_reply": "2022-03-22T17:29:26.819155Z"
    },
    "papermill": {
     "duration": 7.544616,
     "end_time": "2022-03-22T17:29:26.819313",
     "exception": false,
     "start_time": "2022-03-22T17:29:19.274697",
     "status": "completed"
    },
    "tags": []
   },
   "outputs": [],
   "source": [
    "###################################\n",
    "# Evaluate the model\n",
    "###################################\n",
    "source_test_label_accuracy, source_test_label_loss = jig.test(datasets.source.processed.test)\n",
    "target_test_label_accuracy, target_test_label_loss = jig.test(datasets.target.processed.test)\n",
    "\n",
    "source_val_label_accuracy, source_val_label_loss = jig.test(datasets.source.processed.val)\n",
    "target_val_label_accuracy, target_val_label_loss = jig.test(datasets.target.processed.val)\n",
    "\n",
    "history = jig.get_history()\n",
    "\n",
    "total_epochs_trained = len(history[\"epoch_indices\"])\n",
    "\n",
    "val_dl = Iterable_Aggregator((datasets.source.original.val,datasets.target.original.val))\n",
    "\n",
    "confusion = ptn_confusion_by_domain_over_dataloader(model, p.device, val_dl)\n",
    "per_domain_accuracy = per_domain_accuracy_from_confusion(confusion)\n",
    "\n",
    "# Add a key to per_domain_accuracy for if it was a source domain\n",
    "for domain, accuracy in per_domain_accuracy.items():\n",
    "    per_domain_accuracy[domain] = {\n",
    "        \"accuracy\": accuracy,\n",
    "        \"source?\": domain in p.domains_source\n",
    "    }\n",
    "\n",
    "# Do an independent accuracy assesment JUST TO BE SURE!\n",
    "# _source_test_label_accuracy = independent_accuracy_assesment(model, datasets.source.processed.test, p.device)\n",
    "# _target_test_label_accuracy = independent_accuracy_assesment(model, datasets.target.processed.test, p.device)\n",
    "# _source_val_label_accuracy = independent_accuracy_assesment(model, datasets.source.processed.val, p.device)\n",
    "# _target_val_label_accuracy = independent_accuracy_assesment(model, datasets.target.processed.val, p.device)\n",
    "\n",
    "# assert(_source_test_label_accuracy == source_test_label_accuracy)\n",
    "# assert(_target_test_label_accuracy == target_test_label_accuracy)\n",
    "# assert(_source_val_label_accuracy == source_val_label_accuracy)\n",
    "# assert(_target_val_label_accuracy == target_val_label_accuracy)\n",
    "\n",
    "experiment = {\n",
    "    \"experiment_name\": p.experiment_name,\n",
    "    \"parameters\": dict(p),\n",
    "    \"results\": {\n",
    "        \"source_test_label_accuracy\": source_test_label_accuracy,\n",
    "        \"source_test_label_loss\": source_test_label_loss,\n",
    "        \"target_test_label_accuracy\": target_test_label_accuracy,\n",
    "        \"target_test_label_loss\": target_test_label_loss,\n",
    "        \"source_val_label_accuracy\": source_val_label_accuracy,\n",
    "        \"source_val_label_loss\": source_val_label_loss,\n",
    "        \"target_val_label_accuracy\": target_val_label_accuracy,\n",
    "        \"target_val_label_loss\": target_val_label_loss,\n",
    "        \"total_epochs_trained\": total_epochs_trained,\n",
    "        \"total_experiment_time_secs\": total_experiment_time_secs,\n",
    "        \"confusion\": confusion,\n",
    "        \"per_domain_accuracy\": per_domain_accuracy,\n",
    "    },\n",
    "    \"history\": history,\n",
    "    \"dataset_metrics\": get_dataset_metrics(datasets, \"ptn\"),\n",
    "}"
   ]
  },
  {
   "cell_type": "code",
   "execution_count": 16,
   "id": "54a21829",
   "metadata": {
    "execution": {
     "iopub.execute_input": "2022-03-22T17:29:26.948497Z",
     "iopub.status.busy": "2022-03-22T17:29:26.948235Z",
     "iopub.status.idle": "2022-03-22T17:29:27.071868Z",
     "shell.execute_reply": "2022-03-22T17:29:27.072280Z"
    },
    "papermill": {
     "duration": 0.187277,
     "end_time": "2022-03-22T17:29:27.072411",
     "exception": false,
     "start_time": "2022-03-22T17:29:26.885134",
     "status": "completed"
    },
    "tags": []
   },
   "outputs": [
    {
     "data": {
      "image/png": "[encoded data removed]",
      "text/plain": [
       "<Figure size 1080x504 with 1 Axes>"
      ]
     },
     "metadata": {
      "needs_background": "light"
     },
     "output_type": "display_data"
    }
   ],
   "source": [
    "ax = get_loss_curve(experiment)\n",
    "plt.show()"
   ]
  },
  {
   "cell_type": "code",
   "execution_count": 17,
   "id": "fd8a0f60",
   "metadata": {
    "execution": {
     "iopub.execute_input": "2022-03-22T17:29:27.202635Z",
     "iopub.status.busy": "2022-03-22T17:29:27.202375Z",
     "iopub.status.idle": "2022-03-22T17:29:27.349070Z",
     "shell.execute_reply": "2022-03-22T17:29:27.349288Z"
    },
    "papermill": {
     "duration": 0.210585,
     "end_time": "2022-03-22T17:29:27.349367",
     "exception": false,
     "start_time": "2022-03-22T17:29:27.138782",
     "status": "completed"
    },
    "tags": []
   },
   "outputs": [
    {
     "data": {
      "text/plain": [
       "<AxesSubplot:title={'center':'Results'}>"
      ]
     },
     "execution_count": 17,
     "metadata": {},
     "output_type": "execute_result"
    },
    {
     "data": {
      "image/png": "[encoded data removed]",
      "text/plain": [
       "<Figure size 1080x504 with 1 Axes>"
      ]
     },
     "metadata": {
      "needs_background": "light"
     },
     "output_type": "display_data"
    }
   ],
   "source": [
    "get_results_table(experiment)"
   ]
  },
  {
   "cell_type": "code",
   "execution_count": 18,
   "id": "cf8dc689",
   "metadata": {
    "execution": {
     "iopub.execute_input": "2022-03-22T17:29:27.479422Z",
     "iopub.status.busy": "2022-03-22T17:29:27.479137Z",
     "iopub.status.idle": "2022-03-22T17:29:27.588679Z",
     "shell.execute_reply": "2022-03-22T17:29:27.589094Z"
    },
    "papermill": {
     "duration": 0.174927,
     "end_time": "2022-03-22T17:29:27.589257",
     "exception": false,
     "start_time": "2022-03-22T17:29:27.414330",
     "status": "completed"
    },
    "tags": []
   },
   "outputs": [
    {
     "data": {
      "text/plain": [
       "<AxesSubplot:title={'center':'Per Domain Validation Accuracy'}, xlabel='domain'>"
      ]
     },
     "execution_count": 18,
     "metadata": {},
     "output_type": "execute_result"
    },
    {
     "data": {
      "image/png": "[encoded data removed]",
      "text/plain": [
       "<Figure size 1080x504 with 1 Axes>"
      ]
     },
     "metadata": {
      "needs_background": "light"
     },
     "output_type": "display_data"
    }
   ],
   "source": [
    "get_domain_accuracies(experiment)"
   ]
  },
  {
   "cell_type": "code",
   "execution_count": 19,
   "id": "a74ae082",
   "metadata": {
    "execution": {
     "iopub.execute_input": "2022-03-22T17:29:27.722885Z",
     "iopub.status.busy": "2022-03-22T17:29:27.722612Z",
     "iopub.status.idle": "2022-03-22T17:29:27.740010Z",
     "shell.execute_reply": "2022-03-22T17:29:27.739652Z"
    },
    "papermill": {
     "duration": 0.083178,
     "end_time": "2022-03-22T17:29:27.740091",
     "exception": false,
     "start_time": "2022-03-22T17:29:27.656913",
     "status": "completed"
    },
    "tags": []
   },
   "outputs": [
    {
     "name": "stdout",
     "output_type": "stream",
     "text": [
      "Source Test Label Accuracy: 0.9564102564102565 Target Test Label Accuracy: 0.8707264957264957\n",
      "Source Val Label Accuracy: 0.9570512820512821 Target Val Label Accuracy: 0.8801282051282051\n"
     ]
    }
   ],
   "source": [
    "print(\"Source Test Label Accuracy:\", experiment[\"results\"][\"source_test_label_accuracy\"], \"Target Test Label Accuracy:\", experiment[\"results\"][\"target_test_label_accuracy\"])\n",
    "print(\"Source Val Label Accuracy:\", experiment[\"results\"][\"source_val_label_accuracy\"], \"Target Val Label Accuracy:\", experiment[\"results\"][\"target_val_label_accuracy\"])"
   ]
  },
  {
   "cell_type": "code",
   "execution_count": 20,
   "id": "dacca602",
   "metadata": {
    "execution": {
     "iopub.execute_input": "2022-03-22T17:29:27.872422Z",
     "iopub.status.busy": "2022-03-22T17:29:27.871640Z",
     "iopub.status.idle": "2022-03-22T17:29:27.887824Z",
     "shell.execute_reply": "2022-03-22T17:29:27.888046Z"
    },
    "papermill": {
     "duration": 0.081409,
     "end_time": "2022-03-22T17:29:27.888125",
     "exception": false,
     "start_time": "2022-03-22T17:29:27.806716",
     "status": "completed"
    },
    "tags": [
     "experiment_json"
    ]
   },
   "outputs": [
    {
     "data": {
      "text/plain": [
       "'{\"experiment_name\": \"tuned_1v2:wisig\", \"parameters\": {\"experiment_name\": \"tuned_1v2:wisig\", \"device\": \"cuda\", \"lr\": 0.0001, \"labels_source\": [\"1-10\", \"1-12\", \"1-14\", \"1-16\", \"1-18\", \"1-19\", \"1-8\", \"10-11\", \"10-17\", \"10-4\", \"10-7\", \"11-1\", \"11-10\", \"11-19\", \"11-20\", \"11-4\", \"11-7\", \"12-19\", \"12-20\", \"12-7\", \"13-14\", \"13-18\", \"13-19\", \"13-20\", \"13-3\", \"13-7\", \"14-10\", \"14-11\", \"14-12\", \"14-13\", \"14-14\", \"14-19\", \"14-20\", \"14-7\", \"14-8\", \"14-9\", \"15-1\", \"15-19\", \"15-6\", \"16-1\", \"16-16\", \"16-19\", \"16-20\", \"17-10\", \"17-11\", \"18-1\", \"18-10\", \"18-11\", \"18-12\", \"18-13\", \"18-14\", \"18-15\", \"18-16\", \"18-17\", \"18-19\", \"18-2\", \"18-20\", \"18-4\", \"18-5\", \"18-7\", \"18-8\", \"18-9\", \"19-1\", \"19-10\", \"19-11\", \"19-12\", \"19-13\", \"19-14\", \"19-15\", \"19-19\", \"19-2\", \"19-20\", \"19-3\", \"19-4\", \"19-6\", \"19-7\", \"19-8\", \"19-9\", \"2-1\", \"2-13\", \"2-15\", \"2-3\", \"2-4\", \"2-5\", \"2-6\", \"2-7\", \"2-8\", \"20-1\", \"20-12\", \"20-14\", \"20-15\", \"20-16\", \"20-18\", \"20-19\", \"20-20\", \"20-3\", \"20-4\", \"20-5\", \"20-7\", \"20-8\", \"3-1\", \"3-13\", \"3-18\", \"3-2\", \"3-8\", \"4-1\", \"4-10\", \"4-11\", \"5-1\", \"5-5\", \"6-1\", \"6-15\", \"6-6\", \"7-10\", \"7-11\", \"7-12\", \"7-13\", \"7-14\", \"7-7\", \"7-8\", \"7-9\", \"8-1\", \"8-13\", \"8-14\", \"8-18\", \"8-20\", \"8-3\", \"8-8\", \"9-1\", \"9-7\"], \"labels_target\": [\"1-10\", \"1-12\", \"1-14\", \"1-16\", \"1-18\", \"1-19\", \"1-8\", \"10-11\", \"10-17\", \"10-4\", \"10-7\", \"11-1\", \"11-10\", \"11-19\", \"11-20\", \"11-4\", \"11-7\", \"12-19\", \"12-20\", \"12-7\", \"13-14\", \"13-18\", \"13-19\", \"13-20\", \"13-3\", \"13-7\", \"14-10\", \"14-11\", \"14-12\", \"14-13\", \"14-14\", \"14-19\", \"14-20\", \"14-7\", \"14-8\", \"14-9\", \"15-1\", \"15-19\", \"15-6\", \"16-1\", \"16-16\", \"16-19\", \"16-20\", \"17-10\", \"17-11\", \"18-1\", \"18-10\", \"18-11\", \"18-12\", \"18-13\", \"18-14\", \"18-15\", \"18-16\", \"18-17\", \"18-19\", \"18-2\", \"18-20\", \"18-4\", \"18-5\", \"18-7\", \"18-8\", \"18-9\", \"19-1\", \"19-10\", \"19-11\", \"19-12\", \"19-13\", \"19-14\", \"19-15\", \"19-19\", \"19-2\", \"19-20\", \"19-3\", \"19-4\", \"19-6\", \"19-7\", \"19-8\", \"19-9\", \"2-1\", \"2-13\", \"2-15\", \"2-3\", \"2-4\", \"2-5\", \"2-6\", \"2-7\", \"2-8\", \"20-1\", \"20-12\", \"20-14\", \"20-15\", \"20-16\", \"20-18\", \"20-19\", \"20-20\", \"20-3\", \"20-4\", \"20-5\", \"20-7\", \"20-8\", \"3-1\", \"3-13\", \"3-18\", \"3-2\", \"3-8\", \"4-1\", \"4-10\", \"4-11\", \"5-1\", \"5-5\", \"6-1\", \"6-15\", \"6-6\", \"7-10\", \"7-11\", \"7-12\", \"7-13\", \"7-14\", \"7-7\", \"7-8\", \"7-9\", \"8-1\", \"8-13\", \"8-14\", \"8-18\", \"8-20\", \"8-3\", \"8-8\", \"9-1\", \"9-7\"], \"episode_transforms_source\": [], \"episode_transforms_target\": [], \"domains_source\": [3], \"domains_target\": [1, 2, 4], \"num_examples_per_domain_per_label_source\": -1, \"num_examples_per_domain_per_label_target\": -1, \"n_shot\": 3, \"n_way\": 130, \"n_query\": 2, \"train_k_factor\": 3, \"val_k_factor\": 2, \"test_k_factor\": 2, \"torch_default_dtype\": \"torch.float32\", \"n_epoch\": 50, \"patience\": 3, \"criteria_for_best\": \"target_accuracy\", \"x_net\": [{\"class\": \"nnReshape\", \"kargs\": {\"shape\": [-1, 1, 2, 256]}}, {\"class\": \"Conv2d\", \"kargs\": {\"in_channels\": 1, \"out_channels\": 256, \"kernel_size\": [1, 7], \"bias\": false, \"padding\": [0, 3]}}, {\"class\": \"ReLU\", \"kargs\": {\"inplace\": true}}, {\"class\": \"BatchNorm2d\", \"kargs\": {\"num_features\": 256}}, {\"class\": \"Conv2d\", \"kargs\": {\"in_channels\": 256, \"out_channels\": 80, \"kernel_size\": [2, 7], \"bias\": true, \"padding\": [0, 3]}}, {\"class\": \"ReLU\", \"kargs\": {\"inplace\": true}}, {\"class\": \"BatchNorm2d\", \"kargs\": {\"num_features\": 80}}, {\"class\": \"Flatten\", \"kargs\": {}}, {\"class\": \"Linear\", \"kargs\": {\"in_features\": 20480, \"out_features\": 256}}, {\"class\": \"ReLU\", \"kargs\": {\"inplace\": true}}, {\"class\": \"BatchNorm1d\", \"kargs\": {\"num_features\": 256}}, {\"class\": \"Linear\", \"kargs\": {\"in_features\": 256, \"out_features\": 256}}], \"NUM_LOGS_PER_EPOCH\": 10, \"BEST_MODEL_PATH\": \"./best_model.pth\", \"pickle_name\": \"wisig.node3-19.stratified_ds.2022A.pkl\", \"x_transforms_source\": [\"unit_power\"], \"x_transforms_target\": [\"unit_power\"], \"dataset_seed\": 154325, \"seed\": 154325}, \"results\": {\"source_test_label_accuracy\": 0.9564102564102565, \"source_test_label_loss\": 0.2914915978908539, \"target_test_label_accuracy\": 0.8707264957264957, \"target_test_label_loss\": 0.7485249638557434, \"source_val_label_accuracy\": 0.9570512820512821, \"source_val_label_loss\": 0.31961241364479065, \"target_val_label_accuracy\": 0.8801282051282051, \"target_val_label_loss\": 0.7097442150115967, \"total_epochs_trained\": 24, \"total_experiment_time_secs\": 231.55603289604187, \"confusion\": {\"3\": {\"60\": {\"60\": 11, \"110\": 1}, \"87\": {\"87\": 12}, \"76\": {\"17\": 1, \"76\": 10, \"18\": 1}, \"84\": {\"84\": 12}, \"12\": {\"12\": 12}, \"56\": {\"56\": 12}, \"62\": {\"62\": 12}, \"46\": {\"46\": 12}, \"34\": {\"34\": 12}, \"120\": {\"120\": 12}, \"10\": {\"10\": 12}, \"69\": {\"69\": 12}, \"129\": {\"129\": 12}, \"114\": {\"114\": 12}, \"126\": {\"126\": 12}, \"67\": {\"67\": 10, \"124\": 1, \"36\": 1}, \"50\": {\"50\": 12}, \"115\": {\"115\": 12}, \"86\": {\"86\": 11, \"108\": 1}, \"20\": {\"20\": 12}, \"68\": {\"68\": 11, \"110\": 1}, \"90\": {\"90\": 12}, \"37\": {\"37\": 12}, \"31\": {\"31\": 12}, \"52\": {\"52\": 12}, \"95\": {\"95\": 12}, \"83\": {\"112\": 1, \"83\": 11}, \"2\": {\"2\": 12}, \"5\": {\"5\": 12}, \"122\": {\"122\": 11, \"17\": 1}, \"106\": {\"95\": 1, \"106\": 11}, \"19\": {\"19\": 12}, \"9\": {\"9\": 12}, \"116\": {\"116\": 11, \"61\": 1}, \"70\": {\"70\": 10, \"21\": 1, \"110\": 1}, \"54\": {\"54\": 11, \"89\": 1}, \"22\": {\"22\": 12}, \"111\": {\"111\": 12}, \"48\": {\"48\": 12}, \"41\": {\"41\": 10, \"22\": 2}, \"127\": {\"127\": 12}, \"124\": {\"124\": 11, \"30\": 1}, \"49\": {\"49\": 12}, \"53\": {\"53\": 12}, \"79\": {\"79\": 12}, \"119\": {\"119\": 12}, \"15\": {\"15\": 11, \"13\": 1}, \"28\": {\"28\": 11, \"34\": 1}, \"24\": {\"24\": 12}, \"16\": {\"16\": 12}, \"0\": {\"0\": 12}, \"33\": {\"33\": 12}, \"103\": {\"103\": 12}, \"35\": {\"35\": 10, \"101\": 1, \"16\": 1}, \"110\": {\"110\": 12}, \"17\": {\"17\": 9, \"70\": 1, \"78\": 1, \"63\": 1}, \"71\": {\"71\": 11, \"101\": 1}, \"72\": {\"72\": 12}, \"113\": {\"113\": 11, \"23\": 1}, \"6\": {\"6\": 12}, \"27\": {\"27\": 11, \"36\": 1}, \"93\": {\"93\": 12}, \"108\": {\"108\": 12}, \"64\": {\"64\": 12}, \"42\": {\"42\": 11, \"27\": 1}, \"128\": {\"128\": 12}, \"44\": {\"44\": 12}, \"26\": {\"26\": 12}, \"125\": {\"125\": 12}, \"89\": {\"89\": 12}, \"43\": {\"43\": 11, \"30\": 1}, \"61\": {\"61\": 12}, \"96\": {\"96\": 11, \"13\": 1}, \"73\": {\"73\": 12}, \"45\": {\"45\": 12}, \"109\": {\"109\": 11, \"70\": 1}, \"123\": {\"123\": 12}, \"98\": {\"98\": 12}, \"32\": {\"32\": 12}, \"14\": {\"14\": 12}, \"65\": {\"65\": 12}, \"117\": {\"117\": 12}, \"88\": {\"13\": 1, \"88\": 8, \"53\": 1, \"11\": 1, \"108\": 1}, \"11\": {\"11\": 12}, \"78\": {\"43\": 3, \"21\": 1, \"78\": 6, \"70\": 1, \"87\": 1}, \"99\": {\"99\": 12}, \"77\": {\"77\": 12}, \"23\": {\"23\": 12}, \"107\": {\"107\": 12}, \"58\": {\"58\": 9, \"106\": 1, \"17\": 1, \"9\": 1}, \"38\": {\"38\": 12}, \"13\": {\"13\": 11, \"5\": 1}, \"21\": {\"21\": 10, \"17\": 1, \"24\": 1}, \"7\": {\"7\": 12}, \"55\": {\"55\": 12}, \"30\": {\"30\": 9, \"128\": 1, \"9\": 1, \"21\": 1}, \"57\": {\"57\": 12}, \"101\": {\"0\": 1, \"101\": 10, \"17\": 1}, \"39\": {\"39\": 11, \"69\": 1}, \"29\": {\"29\": 12}, \"85\": {\"85\": 11, \"108\": 1}, \"81\": {\"81\": 12}, \"4\": {\"4\": 11, \"101\": 1}, \"36\": {\"36\": 9, \"27\": 2, \"24\": 1}, \"80\": {\"80\": 12}, \"118\": {\"118\": 11, \"13\": 1}, \"97\": {\"97\": 12}, \"100\": {\"100\": 12}, \"112\": {\"112\": 12}, \"8\": {\"8\": 12}, \"66\": {\"66\": 12}, \"104\": {\"104\": 12}, \"40\": {\"40\": 12}, \"105\": {\"105\": 12}, \"94\": {\"94\": 12}, \"47\": {\"47\": 12}, \"51\": {\"51\": 12}, \"82\": {\"82\": 12}, \"3\": {\"3\": 12}, \"25\": {\"25\": 10, \"54\": 1, \"36\": 1}, \"18\": {\"18\": 12}, \"121\": {\"13\": 1, \"121\": 11}, \"91\": {\"91\": 11, \"106\": 1}, \"74\": {\"57\": 1, \"74\": 10, \"82\": 1}, \"63\": {\"63\": 12}, \"1\": {\"1\": 11, \"17\": 1}, \"102\": {\"102\": 12}, \"75\": {\"75\": 11, \"3\": 1}, \"92\": {\"92\": 12}, \"59\": {\"59\": 12}}, \"1\": {\"65\": {\"65\": 10, \"76\": 2}, \"46\": {\"54\": 3, \"94\": 2, \"46\": 5, \"89\": 1, \"125\": 1}, \"28\": {\"28\": 7, \"65\": 2, \"125\": 1, \"61\": 1, \"48\": 1}, \"52\": {\"34\": 1, \"52\": 11}, \"32\": {\"32\": 5, \"68\": 3, \"58\": 1, \"107\": 3}, \"123\": {\"123\": 12}, \"76\": {\"76\": 12}, \"41\": {\"41\": 11, \"34\": 1}, \"44\": {\"44\": 12}, \"56\": {\"56\": 12}, \"78\": {\"78\": 9, \"87\": 1, \"55\": 1, \"122\": 1}, \"84\": {\"84\": 12}, \"70\": {\"70\": 9, \"73\": 1, \"128\": 2}, \"57\": {\"57\": 12}, \"48\": {\"48\": 12}, \"127\": {\"127\": 12}, \"72\": {\"72\": 12}, \"117\": {\"117\": 12}, \"5\": {\"5\": 12}, \"125\": {\"125\": 12}, \"112\": {\"112\": 12}, \"69\": {\"69\": 11, \"70\": 1}, \"53\": {\"53\": 11, \"71\": 1}, \"120\": {\"113\": 2, \"120\": 10}, \"19\": {\"19\": 10, \"20\": 2}, \"38\": {\"38\": 12}, \"31\": {\"31\": 12}, \"12\": {\"12\": 11, \"111\": 1}, \"2\": {\"2\": 4, \"11\": 1, \"96\": 5, \"109\": 1, \"100\": 1}, \"60\": {\"83\": 1, \"60\": 4, \"34\": 6, \"123\": 1}, \"54\": {\"54\": 12}, \"107\": {\"107\": 12}, \"20\": {\"19\": 1, \"20\": 11}, \"10\": {\"10\": 11, \"85\": 1}, \"34\": {\"34\": 10, \"125\": 1, \"6\": 1}, \"80\": {\"80\": 12}, \"95\": {\"95\": 12}, \"23\": {\"75\": 4, \"23\": 3, \"49\": 2, \"123\": 2, \"32\": 1}, \"22\": {\"116\": 2, \"22\": 9, \"15\": 1}, \"49\": {\"53\": 5, \"23\": 1, \"49\": 4, \"6\": 1, \"44\": 1}, \"64\": {\"64\": 12}, \"110\": {\"110\": 11, \"32\": 1}, \"50\": {\"50\": 12}, \"16\": {\"16\": 12}, \"104\": {\"104\": 12}, \"116\": {\"116\": 12}, \"68\": {\"68\": 12}, \"15\": {\"15\": 11, \"111\": 1}, \"83\": {\"83\": 12}, \"88\": {\"88\": 9, \"36\": 2, \"97\": 1}, \"17\": {\"17\": 11, \"22\": 1}, \"0\": {\"0\": 11, \"85\": 1}, \"85\": {\"85\": 12}, \"37\": {\"37\": 12}, \"35\": {\"35\": 10, \"83\": 1, \"25\": 1}, \"111\": {\"111\": 12}, \"121\": {\"121\": 12}, \"62\": {\"62\": 12}, \"73\": {\"73\": 12}, \"114\": {\"114\": 12}, \"6\": {\"53\": 1, \"6\": 9, \"52\": 2}, \"27\": {\"27\": 11, \"23\": 1}, \"115\": {\"115\": 12}, \"109\": {\"96\": 1, \"109\": 9, \"126\": 1, \"47\": 1}, \"42\": {\"91\": 4, \"42\": 8}, \"71\": {\"21\": 1, \"71\": 8, \"58\": 1, \"112\": 1, \"59\": 1}, \"93\": {\"93\": 10, \"107\": 1, \"55\": 1}, \"87\": {\"87\": 10, \"55\": 1, \"84\": 1}, \"26\": {\"26\": 11, \"78\": 1}, \"126\": {\"126\": 8, \"47\": 2, \"96\": 1, \"109\": 1}, \"90\": {\"90\": 12}, \"43\": {\"78\": 1, \"43\": 11}, \"61\": {\"61\": 12}, \"97\": {\"97\": 4, \"126\": 3, \"108\": 1, \"88\": 3, \"24\": 1}, \"74\": {\"74\": 12}, \"45\": {\"34\": 1, \"44\": 3, \"124\": 3, \"109\": 1, \"45\": 2, \"9\": 1, \"21\": 1}, \"8\": {\"8\": 11, \"80\": 1}, \"124\": {\"124\": 12}, \"91\": {\"91\": 12}, \"33\": {\"33\": 12}, \"14\": {\"14\": 12}, \"66\": {\"66\": 12}, \"96\": {\"20\": 1, \"96\": 10, \"21\": 1}, \"89\": {\"89\": 12}, \"11\": {\"11\": 10, \"114\": 1, \"70\": 1}, \"79\": {\"79\": 12}, \"100\": {\"100\": 12}, \"77\": {\"77\": 12}, \"24\": {\"24\": 12}, \"108\": {\"108\": 12}, \"59\": {\"59\": 9, \"6\": 1, \"58\": 2}, \"99\": {\"99\": 12}, \"13\": {\"13\": 12}, \"21\": {\"21\": 8, \"84\": 1, \"111\": 1, \"83\": 1, \"30\": 1}, \"7\": {\"7\": 10, \"41\": 2}, \"55\": {\"55\": 12}, \"30\": {\"30\": 10, \"12\": 1, \"94\": 1}, \"58\": {\"58\": 5, \"53\": 2, \"71\": 1, \"32\": 4}, \"102\": {\"102\": 12}, \"39\": {\"39\": 12}, \"29\": {\"29\": 12}, \"86\": {\"86\": 12}, \"118\": {\"118\": 11, \"63\": 1}, \"4\": {\"4\": 12}, \"36\": {\"36\": 9, \"88\": 3}, \"81\": {\"81\": 12}, \"119\": {\"119\": 12}, \"98\": {\"98\": 12}, \"101\": {\"101\": 12}, \"113\": {\"113\": 12}, \"9\": {\"9\": 12}, \"67\": {\"67\": 11, \"97\": 1}, \"105\": {\"105\": 12}, \"40\": {\"40\": 12}, \"106\": {\"106\": 12}, \"94\": {\"94\": 10, \"12\": 1, \"21\": 1}, \"47\": {\"47\": 10, \"9\": 2}, \"51\": {\"51\": 12}, \"82\": {\"82\": 12}, \"3\": {\"3\": 11, \"45\": 1}, \"25\": {\"25\": 9, \"21\": 1, \"79\": 1, \"9\": 1}, \"18\": {\"18\": 12}, \"122\": {\"122\": 12}, \"129\": {\"129\": 12}, \"128\": {\"70\": 2, \"128\": 9, \"60\": 1}, \"63\": {\"63\": 10, \"2\": 1, \"60\": 1}, \"1\": {\"97\": 2, \"1\": 10}, \"103\": {\"103\": 12}, \"75\": {\"75\": 11, \"56\": 1}, \"92\": {\"92\": 12}}, \"2\": {\"128\": {\"128\": 6, \"6\": 2, \"0\": 1, \"29\": 1, \"114\": 2}, \"49\": {\"49\": 5, \"44\": 1, \"53\": 3, \"30\": 1, \"11\": 2}, \"74\": {\"74\": 9, \"21\": 1, \"27\": 1, \"0\": 1}, \"21\": {\"21\": 11, \"39\": 1}, \"38\": {\"38\": 12}, \"50\": {\"50\": 12}, \"75\": {\"75\": 11, \"62\": 1}, \"59\": {\"59\": 9, \"78\": 1, \"31\": 1, \"87\": 1}, \"85\": {\"85\": 10, \"73\": 2}, \"102\": {\"102\": 12}, \"0\": {\"101\": 4, \"0\": 8}, \"2\": {\"2\": 12}, \"116\": {\"116\": 12}, \"96\": {\"96\": 10, \"88\": 1, \"72\": 1}, \"27\": {\"27\": 8, \"36\": 4}, \"91\": {\"103\": 3, \"91\": 6, \"6\": 3}, \"117\": {\"117\": 12}, \"124\": {\"124\": 12}, \"43\": {\"18\": 1, \"43\": 9, \"78\": 1, \"37\": 1}, \"41\": {\"41\": 10, \"21\": 1, \"3\": 1}, \"36\": {\"36\": 9, \"27\": 1, \"94\": 1, \"24\": 1}, \"127\": {\"127\": 9, \"111\": 2, \"118\": 1}, \"16\": {\"16\": 11, \"123\": 1}, \"51\": {\"75\": 1, \"6\": 3, \"58\": 5, \"51\": 2, \"97\": 1}, \"14\": {\"14\": 11, \"27\": 1}, \"56\": {\"56\": 12}, \"48\": {\"48\": 12}, \"79\": {\"79\": 12}, \"114\": {\"114\": 10, \"71\": 2}, \"1\": {\"1\": 11, \"43\": 1}, \"34\": {\"34\": 11, \"124\": 1}, \"109\": {\"109\": 8, \"21\": 4}, \"73\": {\"73\": 12}, \"63\": {\"63\": 12}, \"87\": {\"87\": 10, \"46\": 1, \"39\": 1}, \"98\": {\"98\": 12}, \"107\": {\"107\": 7, \"80\": 1, \"51\": 1, \"59\": 1, \"2\": 1, \"94\": 1}, \"92\": {\"92\": 12}, \"4\": {\"4\": 12}, \"90\": {\"90\": 12}, \"64\": {\"64\": 11, \"36\": 1}, \"110\": {\"110\": 12}, \"106\": {\"106\": 12}, \"10\": {\"10\": 12}, \"47\": {\"47\": 9, \"57\": 1, \"83\": 2}, \"112\": {\"42\": 1, \"112\": 6, \"126\": 2, \"44\": 1, \"53\": 2}, \"99\": {\"99\": 12}, \"71\": {\"71\": 12}, \"65\": {\"65\": 10, \"121\": 2}, \"126\": {\"126\": 12}, \"40\": {\"40\": 8, \"105\": 1, \"95\": 2, \"114\": 1}, \"118\": {\"7\": 1, \"118\": 11}, \"58\": {\"58\": 12}, \"95\": {\"95\": 12}, \"46\": {\"27\": 1, \"46\": 11}, \"84\": {\"84\": 11, \"36\": 1}, \"57\": {\"57\": 10, \"116\": 1, \"62\": 1}, \"108\": {\"122\": 1, \"108\": 11}, \"3\": {\"3\": 11, \"21\": 1}, \"45\": {\"45\": 11, \"36\": 1}, \"120\": {\"120\": 12}, \"115\": {\"115\": 11, \"60\": 1}, \"35\": {\"35\": 12}, \"119\": {\"119\": 12}, \"39\": {\"39\": 12}, \"52\": {\"52\": 10, \"128\": 2}, \"78\": {\"78\": 5, \"107\": 2, \"43\": 3, \"21\": 1, \"62\": 1}, \"7\": {\"7\": 12}, \"94\": {\"94\": 11, \"117\": 1}, \"83\": {\"83\": 12}, \"17\": {\"17\": 8, \"21\": 1, \"27\": 1, \"110\": 2}, \"28\": {\"28\": 11, \"60\": 1}, \"53\": {\"53\": 12}, \"5\": {\"7\": 1, \"5\": 11}, \"25\": {\"25\": 12}, \"103\": {\"103\": 12}, \"55\": {\"55\": 12}, \"12\": {\"12\": 12}, \"13\": {\"13\": 7, \"72\": 3, \"96\": 1, \"62\": 1}, \"26\": {\"26\": 11, \"18\": 1}, \"30\": {\"30\": 8, \"15\": 1, \"127\": 1, \"36\": 1, \"94\": 1}, \"6\": {\"6\": 12}, \"15\": {\"15\": 11, \"27\": 1}, \"123\": {\"123\": 12}, \"33\": {\"33\": 12}, \"101\": {\"101\": 11, \"0\": 1}, \"32\": {\"32\": 7, \"14\": 5}, \"76\": {\"76\": 12}, \"18\": {\"18\": 10, \"45\": 1, \"21\": 1}, \"60\": {\"60\": 9, \"29\": 1, \"57\": 1, \"73\": 1}, \"129\": {\"129\": 11, \"1\": 1}, \"89\": {\"89\": 10, \"78\": 1, \"92\": 1}, \"100\": {\"100\": 12}, \"80\": {\"80\": 12}, \"61\": {\"61\": 12}, \"88\": {\"16\": 1, \"96\": 2, \"88\": 8, \"126\": 1}, \"44\": {\"44\": 12}, \"82\": {\"82\": 12}, \"29\": {\"29\": 12}, \"125\": {\"125\": 12}, \"54\": {\"54\": 12}, \"66\": {\"66\": 12}, \"104\": {\"104\": 9, \"57\": 1, \"10\": 1, \"86\": 1}, \"97\": {\"97\": 11, \"30\": 1}, \"31\": {\"31\": 9, \"22\": 1, \"118\": 2}, \"86\": {\"86\": 12}, \"111\": {\"111\": 12}, \"9\": {\"9\": 12}, \"62\": {\"62\": 9, \"55\": 3}, \"23\": {\"23\": 10, \"128\": 1, \"122\": 1}, \"11\": {\"49\": 1, \"114\": 1, \"98\": 2, \"71\": 1, \"44\": 1, \"11\": 5, \"108\": 1}, \"68\": {\"122\": 1, \"68\": 11}, \"37\": {\"37\": 11, \"34\": 1}, \"122\": {\"110\": 3, \"122\": 8, \"68\": 1}, \"20\": {\"20\": 9, \"109\": 1, \"31\": 1, \"62\": 1}, \"67\": {\"67\": 11, \"121\": 1}, \"8\": {\"19\": 1, \"8\": 9, \"110\": 2}, \"69\": {\"69\": 11, \"127\": 1}, \"70\": {\"78\": 1, \"70\": 10, \"21\": 1}, \"72\": {\"72\": 12}, \"77\": {\"77\": 11, \"47\": 1}, \"105\": {\"105\": 12}, \"22\": {\"22\": 12}, \"42\": {\"42\": 11, \"24\": 1}, \"81\": {\"81\": 11, \"94\": 1}, \"19\": {\"19\": 12}, \"121\": {\"121\": 9, \"22\": 2, \"72\": 1}, \"113\": {\"60\": 1, \"113\": 11}, \"93\": {\"93\": 11, \"123\": 1}, \"24\": {\"24\": 8, \"36\": 1, \"43\": 1, \"30\": 1, \"13\": 1}}, \"4\": {\"41\": {\"3\": 1, \"47\": 1, \"41\": 6, \"34\": 3, \"52\": 1}, \"65\": {\"65\": 12}, \"16\": {\"16\": 12}, \"105\": {\"87\": 1, \"23\": 1, \"105\": 9, \"121\": 1}, \"23\": {\"23\": 2, \"58\": 1, \"88\": 1, \"24\": 1, \"68\": 1, \"51\": 3, \"52\": 1, \"123\": 1, \"78\": 1}, \"83\": {\"83\": 9, \"128\": 2, \"79\": 1}, \"13\": {\"13\": 12}, \"125\": {\"125\": 12}, \"25\": {\"25\": 12}, \"35\": {\"35\": 9, \"61\": 1, \"92\": 1, \"62\": 1}, \"62\": {\"62\": 12}, \"107\": {\"107\": 12}, \"68\": {\"68\": 12}, \"84\": {\"84\": 12}, \"127\": {\"127\": 10, \"63\": 1, \"23\": 1}, \"48\": {\"48\": 11, \"27\": 1}, \"2\": {\"2\": 11, \"26\": 1}, \"45\": {\"45\": 12}, \"36\": {\"36\": 11, \"97\": 1}, \"28\": {\"28\": 12}, \"78\": {\"26\": 1, \"78\": 3, \"87\": 3, \"74\": 1, \"99\": 1, \"43\": 3}, \"96\": {\"96\": 11, \"78\": 1}, \"34\": {\"34\": 9, \"120\": 1, \"72\": 1, \"125\": 1}, \"122\": {\"122\": 9, \"78\": 1, \"99\": 1, \"23\": 1}, \"14\": {\"14\": 12}, \"10\": {\"10\": 9, \"24\": 1, \"30\": 2}, \"126\": {\"126\": 11, \"39\": 1}, \"17\": {\"17\": 12}, \"85\": {\"85\": 12}, \"63\": {\"63\": 12}, \"6\": {\"6\": 10, \"51\": 1, \"10\": 1}, \"79\": {\"79\": 12}, \"115\": {\"57\": 4, \"17\": 3, \"115\": 5}, \"92\": {\"92\": 12}, \"1\": {\"1\": 10, \"81\": 1, \"51\": 1}, \"118\": {\"118\": 12}, \"8\": {\"8\": 9, \"122\": 1, \"103\": 1, \"51\": 1}, \"37\": {\"37\": 12}, \"31\": {\"31\": 11, \"24\": 1}, \"124\": {\"124\": 12}, \"109\": {\"109\": 9, \"81\": 1, \"31\": 1, \"96\": 1}, \"106\": {\"106\": 12}, \"102\": {\"102\": 12}, \"22\": {\"22\": 11, \"51\": 1}, \"123\": {\"123\": 12}, \"52\": {\"52\": 10, \"111\": 1, \"41\": 1}, \"128\": {\"19\": 2, \"128\": 8, \"72\": 1, \"81\": 1}, \"71\": {\"71\": 10, \"50\": 1, \"81\": 1}, \"72\": {\"72\": 11, \"60\": 1}, \"98\": {\"98\": 9, \"81\": 1, \"3\": 1, \"6\": 1}, \"38\": {\"44\": 1, \"38\": 9, \"54\": 2}, \"93\": {\"93\": 12}, \"100\": {\"100\": 12}, \"97\": {\"97\": 4, \"36\": 3, \"24\": 1, \"10\": 2, \"15\": 1, \"6\": 1}, \"101\": {\"101\": 10, \"0\": 2}, \"73\": {\"73\": 12}, \"26\": {\"26\": 12}, \"50\": {\"50\": 12}, \"67\": {\"67\": 6, \"115\": 1, \"23\": 1, \"17\": 3, \"63\": 1}, \"33\": {\"33\": 11, \"43\": 1}, \"39\": {\"39\": 10, \"78\": 2}, \"9\": {\"9\": 10, \"112\": 2}, \"60\": {\"60\": 11, \"100\": 1}, \"55\": {\"55\": 12}, \"94\": {\"94\": 12}, \"64\": {\"64\": 11, \"37\": 1}, \"120\": {\"120\": 12}, \"86\": {\"86\": 12}, \"129\": {\"129\": 11, \"20\": 1}, \"111\": {\"111\": 10, \"74\": 1, \"56\": 1}, \"42\": {\"42\": 12}, \"30\": {\"30\": 10, \"10\": 2}, \"99\": {\"99\": 12}, \"89\": {\"89\": 10, \"22\": 2}, \"24\": {\"24\": 6, \"36\": 2, \"97\": 3, \"23\": 1}, \"69\": {\"69\": 12}, \"21\": {\"21\": 12}, \"75\": {\"75\": 12}, \"59\": {\"59\": 9, \"82\": 1, \"6\": 2}, \"57\": {\"57\": 12}, \"112\": {\"112\": 12}, \"61\": {\"61\": 12}, \"40\": {\"40\": 12}, \"53\": {\"53\": 11, \"24\": 1}, \"113\": {\"113\": 12}, \"3\": {\"3\": 11, \"71\": 1}, \"117\": {\"117\": 11, \"26\": 1}, \"58\": {\"58\": 12}, \"103\": {\"103\": 12}, \"81\": {\"18\": 2, \"81\": 9, \"122\": 1}, \"54\": {\"54\": 12}, \"0\": {\"0\": 7, \"12\": 1, \"74\": 1, \"101\": 3}, \"80\": {\"36\": 1, \"80\": 9, \"48\": 1, \"51\": 1}, \"77\": {\"77\": 10, \"59\": 1, \"67\": 1}, \"70\": {\"70\": 11, \"88\": 1}, \"82\": {\"82\": 12}, \"108\": {\"108\": 7, \"12\": 1, \"24\": 1, \"88\": 2, \"129\": 1}, \"12\": {\"12\": 10, \"111\": 2}, \"44\": {\"81\": 1, \"44\": 11}, \"87\": {\"87\": 6, \"43\": 1, \"105\": 4, \"74\": 1}, \"121\": {\"121\": 9, \"89\": 1, \"66\": 1, \"51\": 1}, \"104\": {\"104\": 12}, \"49\": {\"49\": 10, \"53\": 1, \"60\": 1}, \"29\": {\"29\": 12}, \"18\": {\"18\": 12}, \"43\": {\"43\": 7, \"122\": 1, \"87\": 3, \"15\": 1}, \"74\": {\"74\": 8, \"60\": 2, \"100\": 2}, \"76\": {\"76\": 12}, \"19\": {\"19\": 9, \"100\": 1, \"129\": 1, \"46\": 1}, \"95\": {\"95\": 12}, \"47\": {\"47\": 11, \"112\": 1}, \"5\": {\"5\": 12}, \"15\": {\"15\": 11, \"10\": 1}, \"88\": {\"88\": 11, \"129\": 1}, \"27\": {\"27\": 11, \"43\": 1}, \"51\": {\"23\": 2, \"51\": 2, \"21\": 1, \"58\": 3, \"125\": 2, \"0\": 1, \"59\": 1}, \"91\": {\"91\": 12}, \"116\": {\"116\": 11, \"60\": 1}, \"20\": {\"20\": 12}, \"11\": {\"11\": 12}, \"4\": {\"95\": 1, \"127\": 1, \"4\": 9, \"27\": 1}, \"66\": {\"66\": 11, \"90\": 1}, \"7\": {\"7\": 11, \"89\": 1}, \"114\": {\"114\": 12}, \"56\": {\"56\": 12}, \"46\": {\"46\": 12}, \"119\": {\"119\": 11, \"60\": 1}, \"32\": {\"32\": 9, \"89\": 1, \"28\": 1, \"22\": 1}, \"110\": {\"110\": 12}, \"90\": {\"90\": 12}}}, \"per_domain_accuracy\": {\"3\": {\"accuracy\": 0.9570512820512821, \"source?\": true}, \"1\": {\"accuracy\": 0.8897435897435897, \"source?\": false}, \"2\": {\"accuracy\": 0.8756410256410256, \"source?\": false}, \"4\": {\"accuracy\": 0.875, \"source?\": false}}}, \"history\": {\"epoch_indices\": [1, 2, 3, 4, 5, 6, 7, 8, 9, 10, 11, 12, 13, 14, 15, 16, 17, 18, 19, 20, 21, 22, 23, 24], \"train_label_loss\": [2.518526111708747, 1.0628682931264242, 0.7737583451800876, 0.5771311514907413, 0.399277796347936, 0.31246605945958034, 0.2671559707985984, 0.2135123469763332, 0.1948272610704104, 0.18932835890187158, 0.16072167075342603, 0.16288820894228087, 0.13129485307468308, 0.1377135108742449, 0.12034865820573436, 0.12163276986943351, 0.12691122508711286, 0.10399899503423107, 0.09632359428538216, 0.0850771430051989, 0.07714585632913643, 0.08678828469581074, 0.07576039512124326, 0.08234294276270601], \"source_val_label_loss\": [1.4164336919784546, 0.9680075645446777, 0.7241871356964111, 0.5676025152206421, 0.4705113172531128, 0.403310626745224, 0.3764469623565674, 0.35846275091171265, 0.36042720079421997, 0.35127562284469604, 0.34634655714035034, 0.3227822184562683, 0.32549482583999634, 0.3276558518409729, 0.3166864812374115, 0.30891722440719604, 0.31766921281814575, 0.31244000792503357, 0.31094273924827576, 0.31961241364479065, 0.3282510042190552, 0.3219141364097595, 0.31886473298072815, 0.32735276222229004], \"target_val_label_loss\": [1.6286535263061523, 1.2200120687484741, 1.0716618299484253, 0.962763249874115, 0.8793677091598511, 0.8524258136749268, 0.8250907063484192, 0.7896459698677063, 0.7707144618034363, 0.7530786991119385, 0.740415096282959, 0.7289263010025024, 0.7283333539962769, 0.7467947602272034, 0.7261879444122314, 0.7134305834770203, 0.704475998878479, 0.7065385580062866, 0.7112639546394348, 0.7097442150115967, 0.707992434501648, 0.7158392071723938, 0.7351264953613281, 0.7166475653648376], \"source_val_acc_label\": [0.7762820512820513, 0.8173076923076923, 0.8692307692307693, 0.8993589743589744, 0.9153846153846154, 0.9346153846153846, 0.9403846153846154, 0.9435897435897436, 0.9461538461538461, 0.9455128205128205, 0.9519230769230769, 0.9519230769230769, 0.9532051282051283, 0.9564102564102565, 0.9532051282051283, 0.9608974358974359, 0.958974358974359, 0.9551282051282052, 0.9583333333333334, 0.9570512820512821, 0.9557692307692308, 0.9538461538461539, 0.9551282051282052, 0.9570512820512821], \"target_val_acc_label\": [0.7311965811965812, 0.7735042735042735, 0.7987179487179488, 0.8183760683760684, 0.8307692307692308, 0.8457264957264957, 0.8547008547008547, 0.8551282051282051, 0.8564102564102564, 0.857051282051282, 0.8636752136752137, 0.8673076923076923, 0.8688034188034188, 0.8702991452991453, 0.8728632478632479, 0.8754273504273504, 0.8777777777777778, 0.8775641025641026, 0.8762820512820513, 0.8801282051282051, 0.8771367521367521, 0.8741452991452991, 0.8726495726495727, 0.8762820512820513]}, \"dataset_metrics\": {\"source\": {\"train\": {\"n_unique_x\": 19669, \"n_unique_y\": 130, \"n_batch/episode\": 45}, \"val\": {\"n_unique_x\": 3172, \"n_unique_y\": 130, \"n_batch/episode\": 6}, \"test\": {\"n_unique_x\": 3210, \"n_unique_y\": 130, \"n_batch/episode\": 6}}, \"target\": {\"train\": {\"n_unique_x\": 60281, \"n_unique_y\": 130, \"n_batch/episode\": 138}, \"val\": {\"n_unique_x\": 9508, \"n_unique_y\": 130, \"n_batch/episode\": 18}, \"test\": {\"n_unique_x\": 9573, \"n_unique_y\": 130, \"n_batch/episode\": 18}}}}'"
      ]
     },
     "execution_count": 20,
     "metadata": {},
     "output_type": "execute_result"
    }
   ],
   "source": [
    "json.dumps(experiment)"
   ]
  }
 ],
 "metadata": {
  "celltoolbar": "Tags",
  "kernelspec": {
   "display_name": "Python 3 (ipykernel)",
   "language": "python",
   "name": "python3"
  },
  "language_info": {
   "codemirror_mode": {
    "name": "ipython",
    "version": 3
   },
   "file_extension": ".py",
   "mimetype": "text/x-python",
   "name": "python",
   "nbconvert_exporter": "python",
   "pygments_lexer": "ipython3",
   "version": "3.8.10"
  },
  "papermill": {
   "default_parameters": {},
   "duration": 243.456985,
   "end_time": "2022-03-22T17:29:28.959531",
   "environment_variables": {},
   "exception": null,
   "input_path": "/mnt/wd500GB/CSC500/csc500-main/csc500-notebooks/templates/ptn_template.ipynb",
   "output_path": "trial.ipynb",
   "parameters": {
    "parameters": {
     "BEST_MODEL_PATH": "./best_model.pth",
     "NUM_LOGS_PER_EPOCH": 10,
     "criteria_for_best": "target_accuracy",
     "dataset_seed": 154325,
     "device": "cuda",
     "domains_source": [
      3
     ],
     "domains_target": [
      1,
      2,
      4
     ],
     "episode_transforms_source": [],
     "episode_transforms_target": [],
     "experiment_name": "tuned_1v2:wisig",
     "labels_source": [
      "1-10",
      "1-12",
      "1-14",
      "1-16",
      "1-18",
      "1-19",
      "1-8",
      "10-11",
      "10-17",
      "10-4",
      "10-7",
      "11-1",
      "11-10",
      "11-19",
      "11-20",
      "11-4",
      "11-7",
      "12-19",
      "12-20",
      "12-7",
      "13-14",
      "13-18",
      "13-19",
      "13-20",
      "13-3",
      "13-7",
      "14-10",
      "14-11",
      "14-12",
      "14-13",
      "14-14",
      "14-19",
      "14-20",
      "14-7",
      "14-8",
      "14-9",
      "15-1",
      "15-19",
      "15-6",
      "16-1",
      "16-16",
      "16-19",
      "16-20",
      "17-10",
      "17-11",
      "18-1",
      "18-10",
      "18-11",
      "18-12",
      "18-13",
      "18-14",
      "18-15",
      "18-16",
      "18-17",
      "18-19",
      "18-2",
      "18-20",
      "18-4",
      "18-5",
      "18-7",
      "18-8",
      "18-9",
      "19-1",
      "19-10",
      "19-11",
      "19-12",
      "19-13",
      "19-14",
      "19-15",
      "19-19",
      "19-2",
      "19-20",
      "19-3",
      "19-4",
      "19-6",
      "19-7",
      "19-8",
      "19-9",
      "2-1",
      "2-13",
      "2-15",
      "2-3",
      "2-4",
      "2-5",
      "2-6",
      "2-7",
      "2-8",
      "20-1",
      "20-12",
      "20-14",
      "20-15",
      "20-16",
      "20-18",
      "20-19",
      "20-20",
      "20-3",
      "20-4",
      "20-5",
      "20-7",
      "20-8",
      "3-1",
      "3-13",
      "3-18",
      "3-2",
      "3-8",
      "4-1",
      "4-10",
      "4-11",
      "5-1",
      "5-5",
      "6-1",
      "6-15",
      "6-6",
      "7-10",
      "7-11",
      "7-12",
      "7-13",
      "7-14",
      "7-7",
      "7-8",
      "7-9",
      "8-1",
      "8-13",
      "8-14",
      "8-18",
      "8-20",
      "8-3",
      "8-8",
      "9-1",
      "9-7"
     ],
     "labels_target": [
      "1-10",
      "1-12",
      "1-14",
      "1-16",
      "1-18",
      "1-19",
      "1-8",
      "10-11",
      "10-17",
      "10-4",
      "10-7",
      "11-1",
      "11-10",
      "11-19",
      "11-20",
      "11-4",
      "11-7",
      "12-19",
      "12-20",
      "12-7",
      "13-14",
      "13-18",
      "13-19",
      "13-20",
      "13-3",
      "13-7",
      "14-10",
      "14-11",
      "14-12",
      "14-13",
      "14-14",
      "14-19",
      "14-20",
      "14-7",
      "14-8",
      "14-9",
      "15-1",
      "15-19",
      "15-6",
      "16-1",
      "16-16",
      "16-19",
      "16-20",
      "17-10",
      "17-11",
      "18-1",
      "18-10",
      "18-11",
      "18-12",
      "18-13",
      "18-14",
      "18-15",
      "18-16",
      "18-17",
      "18-19",
      "18-2",
      "18-20",
      "18-4",
      "18-5",
      "18-7",
      "18-8",
      "18-9",
      "19-1",
      "19-10",
      "19-11",
      "19-12",
      "19-13",
      "19-14",
      "19-15",
      "19-19",
      "19-2",
      "19-20",
      "19-3",
      "19-4",
      "19-6",
      "19-7",
      "19-8",
      "19-9",
      "2-1",
      "2-13",
      "2-15",
      "2-3",
      "2-4",
      "2-5",
      "2-6",
      "2-7",
      "2-8",
      "20-1",
      "20-12",
      "20-14",
      "20-15",
      "20-16",
      "20-18",
      "20-19",
      "20-20",
      "20-3",
      "20-4",
      "20-5",
      "20-7",
      "20-8",
      "3-1",
      "3-13",
      "3-18",
      "3-2",
      "3-8",
      "4-1",
      "4-10",
      "4-11",
      "5-1",
      "5-5",
      "6-1",
      "6-15",
      "6-6",
      "7-10",
      "7-11",
      "7-12",
      "7-13",
      "7-14",
      "7-7",
      "7-8",
      "7-9",
      "8-1",
      "8-13",
      "8-14",
      "8-18",
      "8-20",
      "8-3",
      "8-8",
      "9-1",
      "9-7"
     ],
     "lr": 0.0001,
     "n_epoch": 50,
     "n_query": 2,
     "n_shot": 3,
     "n_way": 130,
     "num_examples_per_domain_per_label_source": -1,
     "num_examples_per_domain_per_label_target": -1,
     "patience": 3,
     "pickle_name": "wisig.node3-19.stratified_ds.2022A.pkl",
     "seed": 154325,
     "test_k_factor": 2,
     "torch_default_dtype": "torch.float32",
     "train_k_factor": 3,
     "val_k_factor": 2,
     "x_net": [
      {
       "class": "nnReshape",
       "kargs": {
        "shape": [
         -1,
         1,
         2,
         256
        ]
       }
      },
      {
       "class": "Conv2d",
       "kargs": {
        "bias": false,
        "in_channels": 1,
        "kernel_size": [
         1,
         7
        ],
        "out_channels": 256,
        "padding": [
         0,
         3
        ]
       }
      },
      {
       "class": "ReLU",
       "kargs": {
        "inplace": true
       }
      },
      {
       "class": "BatchNorm2d",
       "kargs": {
        "num_features": 256
       }
      },
      {
       "class": "Conv2d",
       "kargs": {
        "bias": true,
        "in_channels": 256,
        "kernel_size": [
         2,
         7
        ],
        "out_channels": 80,
        "padding": [
         0,
         3
        ]
       }
      },
      {
       "class": "ReLU",
       "kargs": {
        "inplace": true
       }
      },
      {
       "class": "BatchNorm2d",
       "kargs": {
        "num_features": 80
       }
      },
      {
       "class": "Flatten",
       "kargs": {}
      },
      {
       "class": "Linear",
       "kargs": {
        "in_features": 20480,
        "out_features": 256
       }
      },
      {
       "class": "ReLU",
       "kargs": {
        "inplace": true
       }
      },
      {
       "class": "BatchNorm1d",
       "kargs": {
        "num_features": 256
       }
      },
      {
       "class": "Linear",
       "kargs": {
        "in_features": 256,
        "out_features": 256
       }
      }
     ],
     "x_transforms_source": [
      "unit_power"
     ],
     "x_transforms_target": [
      "unit_power"
     ]
    }
   },
   "start_time": "2022-03-22T17:25:25.502546",
   "version": "2.3.4"
  }
 },
 "nbformat": 4,
 "nbformat_minor": 5
}