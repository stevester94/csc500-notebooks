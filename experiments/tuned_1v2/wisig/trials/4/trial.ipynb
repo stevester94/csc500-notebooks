{
 "cells": [
  {
   "cell_type": "markdown",
   "id": "9fea5f46",
   "metadata": {
    "papermill": {
     "duration": 0.015448,
     "end_time": "2022-03-22T16:47:51.880564",
     "exception": false,
     "start_time": "2022-03-22T16:47:51.865116",
     "status": "completed"
    },
    "tags": []
   },
   "source": [
    "# PTN Template\n",
    "This notebook serves as a template for single dataset PTN experiments  \n",
    "It can be run on its own by setting STANDALONE to True (do a find for \"STANDALONE\" to see where)  \n",
    "But it is intended to be executed as part of a *papermill.py script. See any of the   \n",
    "experimentes with a papermill script to get started with that workflow.  "
   ]
  },
  {
   "cell_type": "code",
   "execution_count": 1,
   "id": "0902182a",
   "metadata": {
    "execution": {
     "iopub.execute_input": "2022-03-22T16:47:51.910159Z",
     "iopub.status.busy": "2022-03-22T16:47:51.909863Z",
     "iopub.status.idle": "2022-03-22T16:47:52.879924Z",
     "shell.execute_reply": "2022-03-22T16:47:52.880354Z"
    },
    "papermill": {
     "duration": 0.990148,
     "end_time": "2022-03-22T16:47:52.880545",
     "exception": false,
     "start_time": "2022-03-22T16:47:51.890397",
     "status": "completed"
    },
    "tags": []
   },
   "outputs": [],
   "source": [
    "%load_ext autoreload\n",
    "%autoreload 2\n",
    "%matplotlib inline\n",
    "\n",
    "    \n",
    "import os, json, sys, time, random\n",
    "import numpy as np\n",
    "import torch\n",
    "from torch.optim import Adam\n",
    "from  easydict import EasyDict\n",
    "import matplotlib.pyplot as plt\n",
    "\n",
    "from steves_models.steves_ptn import Steves_Prototypical_Network\n",
    "\n",
    "from steves_utils.lazy_iterable_wrapper import Lazy_Iterable_Wrapper\n",
    "from steves_utils.iterable_aggregator import Iterable_Aggregator\n",
    "from steves_utils.ptn_train_eval_test_jig import  PTN_Train_Eval_Test_Jig\n",
    "from steves_utils.torch_sequential_builder import build_sequential\n",
    "from steves_utils.torch_utils import get_dataset_metrics, ptn_confusion_by_domain_over_dataloader\n",
    "from steves_utils.utils_v2 import (per_domain_accuracy_from_confusion, get_datasets_base_path)\n",
    "from steves_utils.PTN.utils import independent_accuracy_assesment\n",
    "\n",
    "from steves_utils.stratified_dataset.episodic_accessor import Episodic_Accessor_Factory\n",
    "\n",
    "from steves_utils.ptn_do_report import (\n",
    "    get_loss_curve,\n",
    "    get_results_table,\n",
    "    get_parameters_table,\n",
    "    get_domain_accuracies,\n",
    ")\n",
    "\n",
    "from steves_utils.transforms import get_chained_transform"
   ]
  },
  {
   "cell_type": "markdown",
   "id": "41c840b4",
   "metadata": {
    "papermill": {
     "duration": 0.009184,
     "end_time": "2022-03-22T16:47:52.904817",
     "exception": false,
     "start_time": "2022-03-22T16:47:52.895633",
     "status": "completed"
    },
    "tags": []
   },
   "source": [
    "# Required Parameters\n",
    "These are allowed parameters, not defaults\n",
    "Each of these values need to be present in the injected parameters (the notebook will raise an exception if they are not present)\n",
    "\n",
    "Papermill uses the cell tag \"parameters\" to inject the real parameters below this cell.\n",
    "Enable tags to see what I mean"
   ]
  },
  {
   "cell_type": "code",
   "execution_count": 2,
   "id": "fd44eb83",
   "metadata": {
    "execution": {
     "iopub.execute_input": "2022-03-22T16:47:52.925737Z",
     "iopub.status.busy": "2022-03-22T16:47:52.925475Z",
     "iopub.status.idle": "2022-03-22T16:47:52.935675Z",
     "shell.execute_reply": "2022-03-22T16:47:52.935879Z"
    },
    "papermill": {
     "duration": 0.021878,
     "end_time": "2022-03-22T16:47:52.935937",
     "exception": false,
     "start_time": "2022-03-22T16:47:52.914059",
     "status": "completed"
    },
    "tags": []
   },
   "outputs": [],
   "source": [
    "required_parameters = {\n",
    "    \"experiment_name\",\n",
    "    \"lr\",\n",
    "    \"device\",\n",
    "    \"seed\",\n",
    "    \"dataset_seed\",\n",
    "    \"labels_source\",\n",
    "    \"labels_target\",\n",
    "    \"domains_source\",\n",
    "    \"domains_target\",\n",
    "    \"num_examples_per_domain_per_label_source\",\n",
    "    \"num_examples_per_domain_per_label_target\",\n",
    "    \"n_shot\",\n",
    "    \"n_way\",\n",
    "    \"n_query\",\n",
    "    \"train_k_factor\",\n",
    "    \"val_k_factor\",\n",
    "    \"test_k_factor\",\n",
    "    \"n_epoch\",\n",
    "    \"patience\",\n",
    "    \"criteria_for_best\",\n",
    "    \"x_transforms_source\",\n",
    "    \"x_transforms_target\",\n",
    "    \"episode_transforms_source\",\n",
    "    \"episode_transforms_target\",\n",
    "    \"pickle_name\",\n",
    "    \"x_net\",\n",
    "    \"NUM_LOGS_PER_EPOCH\",\n",
    "    \"BEST_MODEL_PATH\",\n",
    "    \"torch_default_dtype\"\n",
    "}"
   ]
  },
  {
   "cell_type": "code",
   "execution_count": 3,
   "id": "fa3f0049",
   "metadata": {
    "execution": {
     "iopub.execute_input": "2022-03-22T16:47:52.963106Z",
     "iopub.status.busy": "2022-03-22T16:47:52.962812Z",
     "iopub.status.idle": "2022-03-22T16:47:52.974590Z",
     "shell.execute_reply": "2022-03-22T16:47:52.974955Z"
    },
    "papermill": {
     "duration": 0.027335,
     "end_time": "2022-03-22T16:47:52.975058",
     "exception": false,
     "start_time": "2022-03-22T16:47:52.947723",
     "status": "completed"
    },
    "tags": [
     "parameters"
    ]
   },
   "outputs": [],
   "source": [
    "\n",
    "\n",
    "standalone_parameters = {}\n",
    "standalone_parameters[\"experiment_name\"] = \"STANDALONE PTN\"\n",
    "standalone_parameters[\"lr\"] = 0.0001\n",
    "standalone_parameters[\"device\"] = \"cuda\"\n",
    "\n",
    "standalone_parameters[\"seed\"] = 1337\n",
    "standalone_parameters[\"dataset_seed\"] = 1337\n",
    "\n",
    "\n",
    "standalone_parameters[\"num_examples_per_domain_per_label_source\"]=100\n",
    "standalone_parameters[\"num_examples_per_domain_per_label_target\"]=100\n",
    "\n",
    "standalone_parameters[\"n_shot\"] = 3\n",
    "standalone_parameters[\"n_query\"]  = 2\n",
    "standalone_parameters[\"train_k_factor\"] = 1\n",
    "standalone_parameters[\"val_k_factor\"] = 2\n",
    "standalone_parameters[\"test_k_factor\"] = 2\n",
    "\n",
    "\n",
    "standalone_parameters[\"n_epoch\"] = 100\n",
    "\n",
    "standalone_parameters[\"patience\"] = 10\n",
    "standalone_parameters[\"criteria_for_best\"] = \"target_accuracy\"\n",
    "\n",
    "standalone_parameters[\"x_transforms_source\"] = [\"unit_power\"]\n",
    "standalone_parameters[\"x_transforms_target\"] = [\"unit_power\"]\n",
    "standalone_parameters[\"episode_transforms_source\"] = []\n",
    "standalone_parameters[\"episode_transforms_target\"] = []\n",
    "\n",
    "standalone_parameters[\"torch_default_dtype\"] = \"torch.float32\" \n",
    "\n",
    "\n",
    "\n",
    "standalone_parameters[\"x_net\"] =     [\n",
    "    {\"class\": \"nnReshape\", \"kargs\": {\"shape\":[-1, 1, 2, 256]}},\n",
    "    {\"class\": \"Conv2d\", \"kargs\": { \"in_channels\":1, \"out_channels\":256, \"kernel_size\":(1,7), \"bias\":False, \"padding\":(0,3), },},\n",
    "    {\"class\": \"ReLU\", \"kargs\": {\"inplace\": True}},\n",
    "    {\"class\": \"BatchNorm2d\", \"kargs\": {\"num_features\":256}},\n",
    "\n",
    "    {\"class\": \"Conv2d\", \"kargs\": { \"in_channels\":256, \"out_channels\":80, \"kernel_size\":(2,7), \"bias\":True, \"padding\":(0,3), },},\n",
    "    {\"class\": \"ReLU\", \"kargs\": {\"inplace\": True}},\n",
    "    {\"class\": \"BatchNorm2d\", \"kargs\": {\"num_features\":80}},\n",
    "    {\"class\": \"Flatten\", \"kargs\": {}},\n",
    "\n",
    "    {\"class\": \"Linear\", \"kargs\": {\"in_features\": 80*256, \"out_features\": 256}}, # 80 units per IQ pair\n",
    "    {\"class\": \"ReLU\", \"kargs\": {\"inplace\": True}},\n",
    "    {\"class\": \"BatchNorm1d\", \"kargs\": {\"num_features\":256}},\n",
    "\n",
    "    {\"class\": \"Linear\", \"kargs\": {\"in_features\": 256, \"out_features\": 256}},\n",
    "]\n",
    "\n",
    "# Parameters relevant to results\n",
    "# These parameters will basically never need to change\n",
    "standalone_parameters[\"NUM_LOGS_PER_EPOCH\"] = 10\n",
    "standalone_parameters[\"BEST_MODEL_PATH\"] = \"./best_model.pth\"\n",
    "\n",
    "# uncomment for CORES dataset\n",
    "from steves_utils.CORES.utils import (\n",
    "    ALL_NODES,\n",
    "    ALL_NODES_MINIMUM_1000_EXAMPLES,\n",
    "    ALL_DAYS\n",
    ")\n",
    "\n",
    "\n",
    "standalone_parameters[\"labels_source\"] = ALL_NODES\n",
    "standalone_parameters[\"labels_target\"] = ALL_NODES\n",
    "\n",
    "standalone_parameters[\"domains_source\"] = [1]\n",
    "standalone_parameters[\"domains_target\"] = [2,3,4,5]\n",
    "\n",
    "standalone_parameters[\"pickle_name\"] = \"cores.stratified_ds.2022A.pkl\"\n",
    "\n",
    "\n",
    "# Uncomment these for ORACLE dataset\n",
    "# from steves_utils.ORACLE.utils_v2 import (\n",
    "#     ALL_DISTANCES_FEET,\n",
    "#     ALL_RUNS,\n",
    "#     ALL_SERIAL_NUMBERS,\n",
    "# )\n",
    "# standalone_parameters[\"labels_source\"] = ALL_SERIAL_NUMBERS\n",
    "# standalone_parameters[\"labels_target\"] = ALL_SERIAL_NUMBERS\n",
    "# standalone_parameters[\"domains_source\"] = [8,20, 38,50]\n",
    "# standalone_parameters[\"domains_target\"] = [14, 26, 32, 44, 56]\n",
    "# standalone_parameters[\"pickle_name\"] = \"oracle.frame_indexed.stratified_ds.2022A.pkl\"\n",
    "# standalone_parameters[\"num_examples_per_domain_per_label_source\"]=1000\n",
    "# standalone_parameters[\"num_examples_per_domain_per_label_target\"]=1000\n",
    "\n",
    "# Uncomment these for Metahan dataset\n",
    "# standalone_parameters[\"labels_source\"] = list(range(19))\n",
    "# standalone_parameters[\"labels_target\"] = list(range(19))\n",
    "# standalone_parameters[\"domains_source\"] = [0]\n",
    "# standalone_parameters[\"domains_target\"] = [1]\n",
    "# standalone_parameters[\"pickle_name\"] = \"metehan.stratified_ds.2022A.pkl\"\n",
    "# standalone_parameters[\"n_way\"]  = len(standalone_parameters[\"labels_source\"])\n",
    "# standalone_parameters[\"num_examples_per_domain_per_label_source\"]=200\n",
    "# standalone_parameters[\"num_examples_per_domain_per_label_target\"]=100\n",
    "\n",
    "\n",
    "standalone_parameters[\"n_way\"]  = len(standalone_parameters[\"labels_source\"])"
   ]
  },
  {
   "cell_type": "code",
   "execution_count": 4,
   "id": "aa2571df",
   "metadata": {
    "execution": {
     "iopub.execute_input": "2022-03-22T16:47:53.009240Z",
     "iopub.status.busy": "2022-03-22T16:47:53.008663Z",
     "iopub.status.idle": "2022-03-22T16:47:53.021220Z",
     "shell.execute_reply": "2022-03-22T16:47:53.020834Z"
    },
    "papermill": {
     "duration": 0.030968,
     "end_time": "2022-03-22T16:47:53.021308",
     "exception": false,
     "start_time": "2022-03-22T16:47:52.990340",
     "status": "completed"
    },
    "tags": [
     "injected-parameters"
    ]
   },
   "outputs": [],
   "source": [
    "# Parameters\n",
    "parameters = {\n",
    "    \"experiment_name\": \"tuned_1v2:wisig\",\n",
    "    \"device\": \"cuda\",\n",
    "    \"lr\": 0.0001,\n",
    "    \"labels_source\": [\n",
    "        \"1-10\",\n",
    "        \"1-12\",\n",
    "        \"1-14\",\n",
    "        \"1-16\",\n",
    "        \"1-18\",\n",
    "        \"1-19\",\n",
    "        \"1-8\",\n",
    "        \"10-11\",\n",
    "        \"10-17\",\n",
    "        \"10-4\",\n",
    "        \"10-7\",\n",
    "        \"11-1\",\n",
    "        \"11-10\",\n",
    "        \"11-19\",\n",
    "        \"11-20\",\n",
    "        \"11-4\",\n",
    "        \"11-7\",\n",
    "        \"12-19\",\n",
    "        \"12-20\",\n",
    "        \"12-7\",\n",
    "        \"13-14\",\n",
    "        \"13-18\",\n",
    "        \"13-19\",\n",
    "        \"13-20\",\n",
    "        \"13-3\",\n",
    "        \"13-7\",\n",
    "        \"14-10\",\n",
    "        \"14-11\",\n",
    "        \"14-12\",\n",
    "        \"14-13\",\n",
    "        \"14-14\",\n",
    "        \"14-19\",\n",
    "        \"14-20\",\n",
    "        \"14-7\",\n",
    "        \"14-8\",\n",
    "        \"14-9\",\n",
    "        \"15-1\",\n",
    "        \"15-19\",\n",
    "        \"15-6\",\n",
    "        \"16-1\",\n",
    "        \"16-16\",\n",
    "        \"16-19\",\n",
    "        \"16-20\",\n",
    "        \"17-10\",\n",
    "        \"17-11\",\n",
    "        \"18-1\",\n",
    "        \"18-10\",\n",
    "        \"18-11\",\n",
    "        \"18-12\",\n",
    "        \"18-13\",\n",
    "        \"18-14\",\n",
    "        \"18-15\",\n",
    "        \"18-16\",\n",
    "        \"18-17\",\n",
    "        \"18-19\",\n",
    "        \"18-2\",\n",
    "        \"18-20\",\n",
    "        \"18-4\",\n",
    "        \"18-5\",\n",
    "        \"18-7\",\n",
    "        \"18-8\",\n",
    "        \"18-9\",\n",
    "        \"19-1\",\n",
    "        \"19-10\",\n",
    "        \"19-11\",\n",
    "        \"19-12\",\n",
    "        \"19-13\",\n",
    "        \"19-14\",\n",
    "        \"19-15\",\n",
    "        \"19-19\",\n",
    "        \"19-2\",\n",
    "        \"19-20\",\n",
    "        \"19-3\",\n",
    "        \"19-4\",\n",
    "        \"19-6\",\n",
    "        \"19-7\",\n",
    "        \"19-8\",\n",
    "        \"19-9\",\n",
    "        \"2-1\",\n",
    "        \"2-13\",\n",
    "        \"2-15\",\n",
    "        \"2-3\",\n",
    "        \"2-4\",\n",
    "        \"2-5\",\n",
    "        \"2-6\",\n",
    "        \"2-7\",\n",
    "        \"2-8\",\n",
    "        \"20-1\",\n",
    "        \"20-12\",\n",
    "        \"20-14\",\n",
    "        \"20-15\",\n",
    "        \"20-16\",\n",
    "        \"20-18\",\n",
    "        \"20-19\",\n",
    "        \"20-20\",\n",
    "        \"20-3\",\n",
    "        \"20-4\",\n",
    "        \"20-5\",\n",
    "        \"20-7\",\n",
    "        \"20-8\",\n",
    "        \"3-1\",\n",
    "        \"3-13\",\n",
    "        \"3-18\",\n",
    "        \"3-2\",\n",
    "        \"3-8\",\n",
    "        \"4-1\",\n",
    "        \"4-10\",\n",
    "        \"4-11\",\n",
    "        \"5-1\",\n",
    "        \"5-5\",\n",
    "        \"6-1\",\n",
    "        \"6-15\",\n",
    "        \"6-6\",\n",
    "        \"7-10\",\n",
    "        \"7-11\",\n",
    "        \"7-12\",\n",
    "        \"7-13\",\n",
    "        \"7-14\",\n",
    "        \"7-7\",\n",
    "        \"7-8\",\n",
    "        \"7-9\",\n",
    "        \"8-1\",\n",
    "        \"8-13\",\n",
    "        \"8-14\",\n",
    "        \"8-18\",\n",
    "        \"8-20\",\n",
    "        \"8-3\",\n",
    "        \"8-8\",\n",
    "        \"9-1\",\n",
    "        \"9-7\",\n",
    "    ],\n",
    "    \"labels_target\": [\n",
    "        \"1-10\",\n",
    "        \"1-12\",\n",
    "        \"1-14\",\n",
    "        \"1-16\",\n",
    "        \"1-18\",\n",
    "        \"1-19\",\n",
    "        \"1-8\",\n",
    "        \"10-11\",\n",
    "        \"10-17\",\n",
    "        \"10-4\",\n",
    "        \"10-7\",\n",
    "        \"11-1\",\n",
    "        \"11-10\",\n",
    "        \"11-19\",\n",
    "        \"11-20\",\n",
    "        \"11-4\",\n",
    "        \"11-7\",\n",
    "        \"12-19\",\n",
    "        \"12-20\",\n",
    "        \"12-7\",\n",
    "        \"13-14\",\n",
    "        \"13-18\",\n",
    "        \"13-19\",\n",
    "        \"13-20\",\n",
    "        \"13-3\",\n",
    "        \"13-7\",\n",
    "        \"14-10\",\n",
    "        \"14-11\",\n",
    "        \"14-12\",\n",
    "        \"14-13\",\n",
    "        \"14-14\",\n",
    "        \"14-19\",\n",
    "        \"14-20\",\n",
    "        \"14-7\",\n",
    "        \"14-8\",\n",
    "        \"14-9\",\n",
    "        \"15-1\",\n",
    "        \"15-19\",\n",
    "        \"15-6\",\n",
    "        \"16-1\",\n",
    "        \"16-16\",\n",
    "        \"16-19\",\n",
    "        \"16-20\",\n",
    "        \"17-10\",\n",
    "        \"17-11\",\n",
    "        \"18-1\",\n",
    "        \"18-10\",\n",
    "        \"18-11\",\n",
    "        \"18-12\",\n",
    "        \"18-13\",\n",
    "        \"18-14\",\n",
    "        \"18-15\",\n",
    "        \"18-16\",\n",
    "        \"18-17\",\n",
    "        \"18-19\",\n",
    "        \"18-2\",\n",
    "        \"18-20\",\n",
    "        \"18-4\",\n",
    "        \"18-5\",\n",
    "        \"18-7\",\n",
    "        \"18-8\",\n",
    "        \"18-9\",\n",
    "        \"19-1\",\n",
    "        \"19-10\",\n",
    "        \"19-11\",\n",
    "        \"19-12\",\n",
    "        \"19-13\",\n",
    "        \"19-14\",\n",
    "        \"19-15\",\n",
    "        \"19-19\",\n",
    "        \"19-2\",\n",
    "        \"19-20\",\n",
    "        \"19-3\",\n",
    "        \"19-4\",\n",
    "        \"19-6\",\n",
    "        \"19-7\",\n",
    "        \"19-8\",\n",
    "        \"19-9\",\n",
    "        \"2-1\",\n",
    "        \"2-13\",\n",
    "        \"2-15\",\n",
    "        \"2-3\",\n",
    "        \"2-4\",\n",
    "        \"2-5\",\n",
    "        \"2-6\",\n",
    "        \"2-7\",\n",
    "        \"2-8\",\n",
    "        \"20-1\",\n",
    "        \"20-12\",\n",
    "        \"20-14\",\n",
    "        \"20-15\",\n",
    "        \"20-16\",\n",
    "        \"20-18\",\n",
    "        \"20-19\",\n",
    "        \"20-20\",\n",
    "        \"20-3\",\n",
    "        \"20-4\",\n",
    "        \"20-5\",\n",
    "        \"20-7\",\n",
    "        \"20-8\",\n",
    "        \"3-1\",\n",
    "        \"3-13\",\n",
    "        \"3-18\",\n",
    "        \"3-2\",\n",
    "        \"3-8\",\n",
    "        \"4-1\",\n",
    "        \"4-10\",\n",
    "        \"4-11\",\n",
    "        \"5-1\",\n",
    "        \"5-5\",\n",
    "        \"6-1\",\n",
    "        \"6-15\",\n",
    "        \"6-6\",\n",
    "        \"7-10\",\n",
    "        \"7-11\",\n",
    "        \"7-12\",\n",
    "        \"7-13\",\n",
    "        \"7-14\",\n",
    "        \"7-7\",\n",
    "        \"7-8\",\n",
    "        \"7-9\",\n",
    "        \"8-1\",\n",
    "        \"8-13\",\n",
    "        \"8-14\",\n",
    "        \"8-18\",\n",
    "        \"8-20\",\n",
    "        \"8-3\",\n",
    "        \"8-8\",\n",
    "        \"9-1\",\n",
    "        \"9-7\",\n",
    "    ],\n",
    "    \"episode_transforms_source\": [],\n",
    "    \"episode_transforms_target\": [],\n",
    "    \"domains_source\": [3],\n",
    "    \"domains_target\": [1, 2, 4],\n",
    "    \"num_examples_per_domain_per_label_source\": -1,\n",
    "    \"num_examples_per_domain_per_label_target\": -1,\n",
    "    \"n_shot\": 3,\n",
    "    \"n_way\": 130,\n",
    "    \"n_query\": 2,\n",
    "    \"train_k_factor\": 3,\n",
    "    \"val_k_factor\": 2,\n",
    "    \"test_k_factor\": 2,\n",
    "    \"torch_default_dtype\": \"torch.float32\",\n",
    "    \"n_epoch\": 50,\n",
    "    \"patience\": 3,\n",
    "    \"criteria_for_best\": \"target_accuracy\",\n",
    "    \"x_net\": [\n",
    "        {\"class\": \"nnReshape\", \"kargs\": {\"shape\": [-1, 1, 2, 256]}},\n",
    "        {\n",
    "            \"class\": \"Conv2d\",\n",
    "            \"kargs\": {\n",
    "                \"in_channels\": 1,\n",
    "                \"out_channels\": 256,\n",
    "                \"kernel_size\": [1, 7],\n",
    "                \"bias\": False,\n",
    "                \"padding\": [0, 3],\n",
    "            },\n",
    "        },\n",
    "        {\"class\": \"ReLU\", \"kargs\": {\"inplace\": True}},\n",
    "        {\"class\": \"BatchNorm2d\", \"kargs\": {\"num_features\": 256}},\n",
    "        {\n",
    "            \"class\": \"Conv2d\",\n",
    "            \"kargs\": {\n",
    "                \"in_channels\": 256,\n",
    "                \"out_channels\": 80,\n",
    "                \"kernel_size\": [2, 7],\n",
    "                \"bias\": True,\n",
    "                \"padding\": [0, 3],\n",
    "            },\n",
    "        },\n",
    "        {\"class\": \"ReLU\", \"kargs\": {\"inplace\": True}},\n",
    "        {\"class\": \"BatchNorm2d\", \"kargs\": {\"num_features\": 80}},\n",
    "        {\"class\": \"Flatten\", \"kargs\": {}},\n",
    "        {\"class\": \"Linear\", \"kargs\": {\"in_features\": 20480, \"out_features\": 256}},\n",
    "        {\"class\": \"ReLU\", \"kargs\": {\"inplace\": True}},\n",
    "        {\"class\": \"BatchNorm1d\", \"kargs\": {\"num_features\": 256}},\n",
    "        {\"class\": \"Linear\", \"kargs\": {\"in_features\": 256, \"out_features\": 256}},\n",
    "    ],\n",
    "    \"NUM_LOGS_PER_EPOCH\": 10,\n",
    "    \"BEST_MODEL_PATH\": \"./best_model.pth\",\n",
    "    \"pickle_name\": \"wisig.node3-19.stratified_ds.2022A.pkl\",\n",
    "    \"x_transforms_source\": [\"unit_mag\"],\n",
    "    \"x_transforms_target\": [\"unit_mag\"],\n",
    "    \"dataset_seed\": 500,\n",
    "    \"seed\": 500,\n",
    "}\n"
   ]
  },
  {
   "cell_type": "code",
   "execution_count": 5,
   "id": "8fa1cc33",
   "metadata": {
    "execution": {
     "iopub.execute_input": "2022-03-22T16:47:53.046039Z",
     "iopub.status.busy": "2022-03-22T16:47:53.045788Z",
     "iopub.status.idle": "2022-03-22T16:47:53.056474Z",
     "shell.execute_reply": "2022-03-22T16:47:53.056677Z"
    },
    "papermill": {
     "duration": 0.022713,
     "end_time": "2022-03-22T16:47:53.056735",
     "exception": false,
     "start_time": "2022-03-22T16:47:53.034022",
     "status": "completed"
    },
    "tags": []
   },
   "outputs": [],
   "source": [
    "# Set this to True if you want to run this template directly\n",
    "STANDALONE = False\n",
    "if STANDALONE:\n",
    "    print(\"parameters not injected, running with standalone_parameters\")\n",
    "    parameters = standalone_parameters\n",
    "\n",
    "if not 'parameters' in locals() and not 'parameters' in globals():\n",
    "    raise Exception(\"Parameter injection failed\")\n",
    "\n",
    "#Use an easy dict for all the parameters\n",
    "p = EasyDict(parameters)\n",
    "\n",
    "supplied_keys = set(p.keys())\n",
    "\n",
    "if  supplied_keys != required_parameters:\n",
    "    print(\"Parameters are incorrect\")\n",
    "    if len(supplied_keys - required_parameters)>0: print(\"Shouldn't have:\", str(supplied_keys - required_parameters))\n",
    "    if len(required_parameters - supplied_keys)>0: print(\"Need to have:\", str(required_parameters - supplied_keys))\n",
    "    raise RuntimeError(\"Parameters are incorrect\")\n",
    "\n"
   ]
  },
  {
   "cell_type": "code",
   "execution_count": 6,
   "id": "3a028d58",
   "metadata": {
    "execution": {
     "iopub.execute_input": "2022-03-22T16:47:53.080208Z",
     "iopub.status.busy": "2022-03-22T16:47:53.079962Z",
     "iopub.status.idle": "2022-03-22T16:47:53.089965Z",
     "shell.execute_reply": "2022-03-22T16:47:53.090330Z"
    },
    "papermill": {
     "duration": 0.02155,
     "end_time": "2022-03-22T16:47:53.090436",
     "exception": false,
     "start_time": "2022-03-22T16:47:53.068886",
     "status": "completed"
    },
    "tags": []
   },
   "outputs": [],
   "source": [
    "###################################\n",
    "# Set the RNGs and make it all deterministic\n",
    "###################################\n",
    "np.random.seed(p.seed)\n",
    "random.seed(p.seed)\n",
    "torch.manual_seed(p.seed)\n",
    "\n",
    "torch.use_deterministic_algorithms(True) "
   ]
  },
  {
   "cell_type": "code",
   "execution_count": 7,
   "id": "b691acf6",
   "metadata": {
    "execution": {
     "iopub.execute_input": "2022-03-22T16:47:53.114161Z",
     "iopub.status.busy": "2022-03-22T16:47:53.113919Z",
     "iopub.status.idle": "2022-03-22T16:47:53.123673Z",
     "shell.execute_reply": "2022-03-22T16:47:53.123417Z"
    },
    "papermill": {
     "duration": 0.020905,
     "end_time": "2022-03-22T16:47:53.123722",
     "exception": false,
     "start_time": "2022-03-22T16:47:53.102817",
     "status": "completed"
    },
    "tags": []
   },
   "outputs": [],
   "source": [
    "###########################################\n",
    "# The stratified datasets honor this\n",
    "###########################################\n",
    "torch.set_default_dtype(eval(p.torch_default_dtype))"
   ]
  },
  {
   "cell_type": "code",
   "execution_count": 8,
   "id": "b5fba671",
   "metadata": {
    "execution": {
     "iopub.execute_input": "2022-03-22T16:47:53.147241Z",
     "iopub.status.busy": "2022-03-22T16:47:53.146981Z",
     "iopub.status.idle": "2022-03-22T16:47:53.182767Z",
     "shell.execute_reply": "2022-03-22T16:47:53.183133Z"
    },
    "papermill": {
     "duration": 0.047652,
     "end_time": "2022-03-22T16:47:53.183257",
     "exception": false,
     "start_time": "2022-03-22T16:47:53.135605",
     "status": "completed"
    },
    "tags": []
   },
   "outputs": [],
   "source": [
    "###################################\n",
    "# Build the network(s)\n",
    "# Note: It's critical to do this AFTER setting the RNG\n",
    "# (This is due to the randomized initial weights)\n",
    "###################################\n",
    "x_net = build_sequential(p.x_net)"
   ]
  },
  {
   "cell_type": "code",
   "execution_count": 9,
   "id": "5d7e61cc",
   "metadata": {
    "execution": {
     "iopub.execute_input": "2022-03-22T16:47:53.210510Z",
     "iopub.status.busy": "2022-03-22T16:47:53.210258Z",
     "iopub.status.idle": "2022-03-22T16:47:53.221038Z",
     "shell.execute_reply": "2022-03-22T16:47:53.220792Z"
    },
    "papermill": {
     "duration": 0.022456,
     "end_time": "2022-03-22T16:47:53.221087",
     "exception": false,
     "start_time": "2022-03-22T16:47:53.198631",
     "status": "completed"
    },
    "tags": []
   },
   "outputs": [],
   "source": [
    "start_time_secs = time.time()"
   ]
  },
  {
   "cell_type": "code",
   "execution_count": 10,
   "id": "fd5442bc",
   "metadata": {
    "execution": {
     "iopub.execute_input": "2022-03-22T16:47:53.249262Z",
     "iopub.status.busy": "2022-03-22T16:47:53.248998Z",
     "iopub.status.idle": "2022-03-22T16:48:09.840291Z",
     "shell.execute_reply": "2022-03-22T16:48:09.839861Z"
    },
    "papermill": {
     "duration": 16.606472,
     "end_time": "2022-03-22T16:48:09.840394",
     "exception": false,
     "start_time": "2022-03-22T16:47:53.233922",
     "status": "completed"
    },
    "tags": []
   },
   "outputs": [],
   "source": [
    "###################################\n",
    "# Build the dataset\n",
    "###################################\n",
    "\n",
    "if p.x_transforms_source == []: x_transform_source = None\n",
    "else: x_transform_source = get_chained_transform(p.x_transforms_source) \n",
    "\n",
    "if p.x_transforms_target == []: x_transform_target = None\n",
    "else: x_transform_target = get_chained_transform(p.x_transforms_target)\n",
    "\n",
    "if p.episode_transforms_source == []: episode_transform_source = None\n",
    "else: raise Exception(\"episode_transform_source not implemented\")\n",
    "\n",
    "if p.episode_transforms_target == []: episode_transform_target = None\n",
    "else: raise Exception(\"episode_transform_target not implemented\")\n",
    "\n",
    "\n",
    "eaf_source = Episodic_Accessor_Factory(\n",
    "    labels=p.labels_source,\n",
    "    domains=p.domains_source,\n",
    "    num_examples_per_domain_per_label=p.num_examples_per_domain_per_label_source,\n",
    "    iterator_seed=p.seed,\n",
    "    dataset_seed=p.dataset_seed,\n",
    "    n_shot=p.n_shot,\n",
    "    n_way=p.n_way,\n",
    "    n_query=p.n_query,\n",
    "    train_val_test_k_factors=(p.train_k_factor,p.val_k_factor,p.test_k_factor),\n",
    "    pickle_path=os.path.join(get_datasets_base_path(), p.pickle_name),\n",
    "    x_transform_func=x_transform_source,\n",
    "    example_transform_func=episode_transform_source,\n",
    "    \n",
    ")\n",
    "train_original_source, val_original_source, test_original_source = eaf_source.get_train(), eaf_source.get_val(), eaf_source.get_test()\n",
    "\n",
    "\n",
    "eaf_target = Episodic_Accessor_Factory(\n",
    "    labels=p.labels_target,\n",
    "    domains=p.domains_target,\n",
    "    num_examples_per_domain_per_label=p.num_examples_per_domain_per_label_target,\n",
    "    iterator_seed=p.seed,\n",
    "    dataset_seed=p.dataset_seed,\n",
    "    n_shot=p.n_shot,\n",
    "    n_way=p.n_way,\n",
    "    n_query=p.n_query,\n",
    "    train_val_test_k_factors=(p.train_k_factor,p.val_k_factor,p.test_k_factor),\n",
    "    pickle_path=os.path.join(get_datasets_base_path(), p.pickle_name),\n",
    "    x_transform_func=x_transform_target,\n",
    "    example_transform_func=episode_transform_target,\n",
    ")\n",
    "train_original_target, val_original_target, test_original_target = eaf_target.get_train(), eaf_target.get_val(), eaf_target.get_test()\n",
    "\n",
    "\n",
    "transform_lambda = lambda ex: ex[1] # Original is (<domain>, <episode>) so we strip down to episode only\n",
    "\n",
    "train_processed_source = Lazy_Iterable_Wrapper(train_original_source, transform_lambda)\n",
    "val_processed_source   = Lazy_Iterable_Wrapper(val_original_source, transform_lambda)\n",
    "test_processed_source  = Lazy_Iterable_Wrapper(test_original_source, transform_lambda)\n",
    "\n",
    "train_processed_target = Lazy_Iterable_Wrapper(train_original_target, transform_lambda)\n",
    "val_processed_target   = Lazy_Iterable_Wrapper(val_original_target, transform_lambda)\n",
    "test_processed_target  = Lazy_Iterable_Wrapper(test_original_target, transform_lambda)\n",
    "\n",
    "datasets = EasyDict({\n",
    "    \"source\": {\n",
    "        \"original\": {\"train\":train_original_source, \"val\":val_original_source, \"test\":test_original_source},\n",
    "        \"processed\": {\"train\":train_processed_source, \"val\":val_processed_source, \"test\":test_processed_source}\n",
    "    },\n",
    "    \"target\": {\n",
    "        \"original\": {\"train\":train_original_target, \"val\":val_original_target, \"test\":test_original_target},\n",
    "        \"processed\": {\"train\":train_processed_target, \"val\":val_processed_target, \"test\":test_processed_target}\n",
    "    },\n",
    "})"
   ]
  },
  {
   "cell_type": "code",
   "execution_count": 11,
   "id": "296189d9",
   "metadata": {
    "execution": {
     "iopub.execute_input": "2022-03-22T16:48:09.868012Z",
     "iopub.status.busy": "2022-03-22T16:48:09.867743Z",
     "iopub.status.idle": "2022-03-22T16:48:11.574420Z",
     "shell.execute_reply": "2022-03-22T16:48:11.573886Z"
    },
    "papermill": {
     "duration": 1.720746,
     "end_time": "2022-03-22T16:48:11.574539",
     "exception": false,
     "start_time": "2022-03-22T16:48:09.853793",
     "status": "completed"
    },
    "tags": []
   },
   "outputs": [
    {
     "name": "stdout",
     "output_type": "stream",
     "text": [
      "Visually inspect these to see if they line up with expected values given the transforms\n",
      "x_transforms_source ['unit_mag']\n",
      "x_transforms_target ['unit_mag']\n",
      "Average magnitude, source: 1.0\n",
      "Average power, source: 1.3756595\n"
     ]
    },
    {
     "name": "stdout",
     "output_type": "stream",
     "text": [
      "Average magnitude, target: 1.0\n",
      "Average power, target: 1.2451135\n"
     ]
    }
   ],
   "source": [
    "# Some quick unit tests on the data\n",
    "from steves_utils.transforms import get_average_power, get_average_magnitude\n",
    "\n",
    "q_x, q_y, s_x, s_y, truth = next(iter(train_processed_source))\n",
    "\n",
    "assert q_x.dtype == eval(p.torch_default_dtype)\n",
    "assert s_x.dtype == eval(p.torch_default_dtype)\n",
    "\n",
    "print(\"Visually inspect these to see if they line up with expected values given the transforms\")\n",
    "print('x_transforms_source', p.x_transforms_source)\n",
    "print('x_transforms_target', p.x_transforms_target)\n",
    "print(\"Average magnitude, source:\", get_average_magnitude(q_x[0].numpy()))\n",
    "print(\"Average power, source:\", get_average_power(q_x[0].numpy()))\n",
    "\n",
    "q_x, q_y, s_x, s_y, truth = next(iter(train_processed_target))\n",
    "print(\"Average magnitude, target:\", get_average_magnitude(q_x[0].numpy()))\n",
    "print(\"Average power, target:\", get_average_power(q_x[0].numpy()))\n"
   ]
  },
  {
   "cell_type": "code",
   "execution_count": 12,
   "id": "bbdacba1",
   "metadata": {
    "execution": {
     "iopub.execute_input": "2022-03-22T16:48:11.605787Z",
     "iopub.status.busy": "2022-03-22T16:48:11.605462Z",
     "iopub.status.idle": "2022-03-22T16:48:11.671611Z",
     "shell.execute_reply": "2022-03-22T16:48:11.671136Z"
    },
    "papermill": {
     "duration": 0.080597,
     "end_time": "2022-03-22T16:48:11.671713",
     "exception": false,
     "start_time": "2022-03-22T16:48:11.591116",
     "status": "completed"
    },
    "tags": []
   },
   "outputs": [
    {
     "name": "stdout",
     "output_type": "stream",
     "text": [
      "(2, 256)\n"
     ]
    }
   ],
   "source": [
    "###################################\n",
    "# Build the model\n",
    "###################################\n",
    "model = Steves_Prototypical_Network(x_net, device=p.device, x_shape=(2,256))\n",
    "optimizer = Adam(params=model.parameters(), lr=p.lr)"
   ]
  },
  {
   "cell_type": "code",
   "execution_count": 13,
   "id": "22b39ac5",
   "metadata": {
    "execution": {
     "iopub.execute_input": "2022-03-22T16:48:11.702209Z",
     "iopub.status.busy": "2022-03-22T16:48:11.700985Z",
     "iopub.status.idle": "2022-03-22T16:50:59.042283Z",
     "shell.execute_reply": "2022-03-22T16:50:59.041806Z"
    },
    "papermill": {
     "duration": 167.354525,
     "end_time": "2022-03-22T16:50:59.042383",
     "exception": false,
     "start_time": "2022-03-22T16:48:11.687858",
     "status": "completed"
    },
    "tags": []
   },
   "outputs": [
    {
     "name": "stdout",
     "output_type": "stream",
     "text": [
      "epoch: 1, [batch: 1 / 45], examples_per_second: 1971.5670, train_label_loss: 4.7167, \n"
     ]
    },
    {
     "name": "stdout",
     "output_type": "stream",
     "text": [
      "epoch: 1, [batch: 5 / 45], examples_per_second: 3947.1716, train_label_loss: 4.0753, \n"
     ]
    },
    {
     "name": "stdout",
     "output_type": "stream",
     "text": [
      "epoch: 1, [batch: 9 / 45], examples_per_second: 4039.1524, train_label_loss: 3.4443, \n"
     ]
    },
    {
     "name": "stdout",
     "output_type": "stream",
     "text": [
      "epoch: 1, [batch: 14 / 45], examples_per_second: 4046.0637, train_label_loss: 2.7125, \n"
     ]
    },
    {
     "name": "stdout",
     "output_type": "stream",
     "text": [
      "epoch: 1, [batch: 18 / 45], examples_per_second: 4039.2377, train_label_loss: 2.4353, \n"
     ]
    },
    {
     "name": "stdout",
     "output_type": "stream",
     "text": [
      "epoch: 1, [batch: 23 / 45], examples_per_second: 3973.0932, train_label_loss: 1.9951, \n"
     ]
    },
    {
     "name": "stdout",
     "output_type": "stream",
     "text": [
      "epoch: 1, [batch: 27 / 45], examples_per_second: 4031.0898, train_label_loss: 1.9542, \n"
     ]
    },
    {
     "name": "stdout",
     "output_type": "stream",
     "text": [
      "epoch: 1, [batch: 31 / 45], examples_per_second: 4039.9948, train_label_loss: 1.7051, \n"
     ]
    },
    {
     "name": "stdout",
     "output_type": "stream",
     "text": [
      "epoch: 1, [batch: 36 / 45], examples_per_second: 4079.8876, train_label_loss: 1.5512, \n"
     ]
    },
    {
     "name": "stdout",
     "output_type": "stream",
     "text": [
      "epoch: 1, [batch: 40 / 45], examples_per_second: 4131.1264, train_label_loss: 1.3551, \n"
     ]
    },
    {
     "name": "stdout",
     "output_type": "stream",
     "text": [
      "=============================================================\n",
      "epoch: 1, source_val_acc_label: 0.7994, target_val_acc_label: 0.7267, source_val_label_loss: 1.3302, target_val_label_loss: 1.5811, \n",
      "=============================================================\n"
     ]
    },
    {
     "name": "stdout",
     "output_type": "stream",
     "text": [
      "New best\n"
     ]
    },
    {
     "name": "stdout",
     "output_type": "stream",
     "text": [
      "epoch: 2, [batch: 1 / 45], examples_per_second: 496.2290, train_label_loss: 1.2766, \n"
     ]
    },
    {
     "name": "stdout",
     "output_type": "stream",
     "text": [
      "epoch: 2, [batch: 5 / 45], examples_per_second: 4029.7626, train_label_loss: 1.3702, \n"
     ]
    },
    {
     "name": "stdout",
     "output_type": "stream",
     "text": [
      "epoch: 2, [batch: 9 / 45], examples_per_second: 4111.3760, train_label_loss: 1.1765, \n"
     ]
    },
    {
     "name": "stdout",
     "output_type": "stream",
     "text": [
      "epoch: 2, [batch: 14 / 45], examples_per_second: 4128.9184, train_label_loss: 1.0550, \n"
     ]
    },
    {
     "name": "stdout",
     "output_type": "stream",
     "text": [
      "epoch: 2, [batch: 18 / 45], examples_per_second: 4116.5114, train_label_loss: 1.1025, \n"
     ]
    },
    {
     "name": "stdout",
     "output_type": "stream",
     "text": [
      "epoch: 2, [batch: 23 / 45], examples_per_second: 4045.7263, train_label_loss: 0.7977, \n"
     ]
    },
    {
     "name": "stdout",
     "output_type": "stream",
     "text": [
      "epoch: 2, [batch: 27 / 45], examples_per_second: 4132.9143, train_label_loss: 0.8779, \n"
     ]
    },
    {
     "name": "stdout",
     "output_type": "stream",
     "text": [
      "epoch: 2, [batch: 31 / 45], examples_per_second: 4141.9718, train_label_loss: 1.1601, \n"
     ]
    },
    {
     "name": "stdout",
     "output_type": "stream",
     "text": [
      "epoch: 2, [batch: 36 / 45], examples_per_second: 4164.4761, train_label_loss: 0.8261, \n"
     ]
    },
    {
     "name": "stdout",
     "output_type": "stream",
     "text": [
      "epoch: 2, [batch: 40 / 45], examples_per_second: 4221.6309, train_label_loss: 0.8037, \n"
     ]
    },
    {
     "name": "stdout",
     "output_type": "stream",
     "text": [
      "=============================================================\n",
      "epoch: 2, source_val_acc_label: 0.8577, target_val_acc_label: 0.7799, source_val_label_loss: 0.8774, target_val_label_loss: 1.1907, \n",
      "=============================================================\n"
     ]
    },
    {
     "name": "stdout",
     "output_type": "stream",
     "text": [
      "New best\n"
     ]
    },
    {
     "name": "stdout",
     "output_type": "stream",
     "text": [
      "epoch: 3, [batch: 1 / 45], examples_per_second: 490.5572, train_label_loss: 0.7114, \n"
     ]
    },
    {
     "name": "stdout",
     "output_type": "stream",
     "text": [
      "epoch: 3, [batch: 5 / 45], examples_per_second: 4017.1152, train_label_loss: 0.8451, \n"
     ]
    },
    {
     "name": "stdout",
     "output_type": "stream",
     "text": [
      "epoch: 3, [batch: 9 / 45], examples_per_second: 4117.1564, train_label_loss: 0.8716, \n"
     ]
    },
    {
     "name": "stdout",
     "output_type": "stream",
     "text": [
      "epoch: 3, [batch: 14 / 45], examples_per_second: 4118.6937, train_label_loss: 0.7600, \n"
     ]
    },
    {
     "name": "stdout",
     "output_type": "stream",
     "text": [
      "epoch: 3, [batch: 18 / 45], examples_per_second: 4112.1015, train_label_loss: 0.7247, \n"
     ]
    },
    {
     "name": "stdout",
     "output_type": "stream",
     "text": [
      "epoch: 3, [batch: 23 / 45], examples_per_second: 4045.5738, train_label_loss: 0.7634, \n"
     ]
    },
    {
     "name": "stdout",
     "output_type": "stream",
     "text": [
      "epoch: 3, [batch: 27 / 45], examples_per_second: 4116.1432, train_label_loss: 0.6655, \n"
     ]
    },
    {
     "name": "stdout",
     "output_type": "stream",
     "text": [
      "epoch: 3, [batch: 31 / 45], examples_per_second: 4120.3703, train_label_loss: 0.4884, \n"
     ]
    },
    {
     "name": "stdout",
     "output_type": "stream",
     "text": [
      "epoch: 3, [batch: 36 / 45], examples_per_second: 4155.0269, train_label_loss: 0.5461, \n"
     ]
    },
    {
     "name": "stdout",
     "output_type": "stream",
     "text": [
      "epoch: 3, [batch: 40 / 45], examples_per_second: 4211.9293, train_label_loss: 0.6163, \n"
     ]
    },
    {
     "name": "stdout",
     "output_type": "stream",
     "text": [
      "=============================================================\n",
      "epoch: 3, source_val_acc_label: 0.8910, target_val_acc_label: 0.8111, source_val_label_loss: 0.6655, target_val_label_loss: 1.0404, \n",
      "=============================================================\n"
     ]
    },
    {
     "name": "stdout",
     "output_type": "stream",
     "text": [
      "New best\n"
     ]
    },
    {
     "name": "stdout",
     "output_type": "stream",
     "text": [
      "epoch: 4, [batch: 1 / 45], examples_per_second: 491.1835, train_label_loss: 0.4395, \n"
     ]
    },
    {
     "name": "stdout",
     "output_type": "stream",
     "text": [
      "epoch: 4, [batch: 5 / 45], examples_per_second: 4023.7897, train_label_loss: 0.6725, \n"
     ]
    },
    {
     "name": "stdout",
     "output_type": "stream",
     "text": [
      "epoch: 4, [batch: 9 / 45], examples_per_second: 4118.7378, train_label_loss: 0.5544, \n"
     ]
    },
    {
     "name": "stdout",
     "output_type": "stream",
     "text": [
      "epoch: 4, [batch: 14 / 45], examples_per_second: 4124.4810, train_label_loss: 0.6081, \n"
     ]
    },
    {
     "name": "stdout",
     "output_type": "stream",
     "text": [
      "epoch: 4, [batch: 18 / 45], examples_per_second: 4097.3173, train_label_loss: 0.4676, \n"
     ]
    },
    {
     "name": "stdout",
     "output_type": "stream",
     "text": [
      "epoch: 4, [batch: 23 / 45], examples_per_second: 4040.3002, train_label_loss: 0.6292, \n"
     ]
    },
    {
     "name": "stdout",
     "output_type": "stream",
     "text": [
      "epoch: 4, [batch: 27 / 45], examples_per_second: 4112.5435, train_label_loss: 0.6040, \n"
     ]
    },
    {
     "name": "stdout",
     "output_type": "stream",
     "text": [
      "epoch: 4, [batch: 31 / 45], examples_per_second: 4116.4648, train_label_loss: 0.3970, \n"
     ]
    },
    {
     "name": "stdout",
     "output_type": "stream",
     "text": [
      "epoch: 4, [batch: 36 / 45], examples_per_second: 4148.4679, train_label_loss: 0.4648, \n"
     ]
    },
    {
     "name": "stdout",
     "output_type": "stream",
     "text": [
      "epoch: 4, [batch: 40 / 45], examples_per_second: 4210.1666, train_label_loss: 0.3415, \n"
     ]
    },
    {
     "name": "stdout",
     "output_type": "stream",
     "text": [
      "=============================================================\n",
      "epoch: 4, source_val_acc_label: 0.9135, target_val_acc_label: 0.8271, source_val_label_loss: 0.5148, target_val_label_loss: 0.9177, \n",
      "=============================================================\n"
     ]
    },
    {
     "name": "stdout",
     "output_type": "stream",
     "text": [
      "New best\n"
     ]
    },
    {
     "name": "stdout",
     "output_type": "stream",
     "text": [
      "epoch: 5, [batch: 1 / 45], examples_per_second: 492.8425, train_label_loss: 0.3170, \n"
     ]
    },
    {
     "name": "stdout",
     "output_type": "stream",
     "text": [
      "epoch: 5, [batch: 5 / 45], examples_per_second: 4019.5539, train_label_loss: 0.4071, \n"
     ]
    },
    {
     "name": "stdout",
     "output_type": "stream",
     "text": [
      "epoch: 5, [batch: 9 / 45], examples_per_second: 4127.6035, train_label_loss: 0.4557, \n"
     ]
    },
    {
     "name": "stdout",
     "output_type": "stream",
     "text": [
      "epoch: 5, [batch: 14 / 45], examples_per_second: 4118.9787, train_label_loss: 0.2582, \n"
     ]
    },
    {
     "name": "stdout",
     "output_type": "stream",
     "text": [
      "epoch: 5, [batch: 18 / 45], examples_per_second: 4124.4017, train_label_loss: 0.5310, \n"
     ]
    },
    {
     "name": "stdout",
     "output_type": "stream",
     "text": [
      "epoch: 5, [batch: 23 / 45], examples_per_second: 4050.0367, train_label_loss: 0.4046, \n"
     ]
    },
    {
     "name": "stdout",
     "output_type": "stream",
     "text": [
      "epoch: 5, [batch: 27 / 45], examples_per_second: 4122.4840, train_label_loss: 0.3151, \n"
     ]
    },
    {
     "name": "stdout",
     "output_type": "stream",
     "text": [
      "epoch: 5, [batch: 31 / 45], examples_per_second: 4119.1097, train_label_loss: 0.4030, \n"
     ]
    },
    {
     "name": "stdout",
     "output_type": "stream",
     "text": [
      "epoch: 5, [batch: 36 / 45], examples_per_second: 4157.9076, train_label_loss: 0.2474, \n"
     ]
    },
    {
     "name": "stdout",
     "output_type": "stream",
     "text": [
      "epoch: 5, [batch: 40 / 45], examples_per_second: 4208.5093, train_label_loss: 0.4578, \n"
     ]
    },
    {
     "name": "stdout",
     "output_type": "stream",
     "text": [
      "=============================================================\n",
      "epoch: 5, source_val_acc_label: 0.9256, target_val_acc_label: 0.8410, source_val_label_loss: 0.4397, target_val_label_loss: 0.8502, \n",
      "=============================================================\n"
     ]
    },
    {
     "name": "stdout",
     "output_type": "stream",
     "text": [
      "New best\n"
     ]
    },
    {
     "name": "stdout",
     "output_type": "stream",
     "text": [
      "epoch: 6, [batch: 1 / 45], examples_per_second: 488.6332, train_label_loss: 0.3401, \n"
     ]
    },
    {
     "name": "stdout",
     "output_type": "stream",
     "text": [
      "epoch: 6, [batch: 5 / 45], examples_per_second: 4006.2918, train_label_loss: 0.3249, \n"
     ]
    },
    {
     "name": "stdout",
     "output_type": "stream",
     "text": [
      "epoch: 6, [batch: 9 / 45], examples_per_second: 4111.4054, train_label_loss: 0.2873, \n"
     ]
    },
    {
     "name": "stdout",
     "output_type": "stream",
     "text": [
      "epoch: 6, [batch: 14 / 45], examples_per_second: 4121.0333, train_label_loss: 0.3147, \n"
     ]
    },
    {
     "name": "stdout",
     "output_type": "stream",
     "text": [
      "epoch: 6, [batch: 18 / 45], examples_per_second: 4128.0941, train_label_loss: 0.2336, \n"
     ]
    },
    {
     "name": "stdout",
     "output_type": "stream",
     "text": [
      "epoch: 6, [batch: 23 / 45], examples_per_second: 4040.3445, train_label_loss: 0.3256, \n"
     ]
    },
    {
     "name": "stdout",
     "output_type": "stream",
     "text": [
      "epoch: 6, [batch: 27 / 45], examples_per_second: 4121.6504, train_label_loss: 0.3948, \n"
     ]
    },
    {
     "name": "stdout",
     "output_type": "stream",
     "text": [
      "epoch: 6, [batch: 31 / 45], examples_per_second: 4114.4520, train_label_loss: 0.4241, \n"
     ]
    },
    {
     "name": "stdout",
     "output_type": "stream",
     "text": [
      "epoch: 6, [batch: 36 / 45], examples_per_second: 4151.5987, train_label_loss: 0.3248, \n"
     ]
    },
    {
     "name": "stdout",
     "output_type": "stream",
     "text": [
      "epoch: 6, [batch: 40 / 45], examples_per_second: 4208.9154, train_label_loss: 0.2022, \n"
     ]
    },
    {
     "name": "stdout",
     "output_type": "stream",
     "text": [
      "=============================================================\n",
      "epoch: 6, source_val_acc_label: 0.9423, target_val_acc_label: 0.8556, source_val_label_loss: 0.3757, target_val_label_loss: 0.7928, \n",
      "=============================================================\n"
     ]
    },
    {
     "name": "stdout",
     "output_type": "stream",
     "text": [
      "New best\n"
     ]
    },
    {
     "name": "stdout",
     "output_type": "stream",
     "text": [
      "epoch: 7, [batch: 1 / 45], examples_per_second: 492.0815, train_label_loss: 0.3546, \n"
     ]
    },
    {
     "name": "stdout",
     "output_type": "stream",
     "text": [
      "epoch: 7, [batch: 5 / 45], examples_per_second: 4023.1662, train_label_loss: 0.2632, \n"
     ]
    },
    {
     "name": "stdout",
     "output_type": "stream",
     "text": [
      "epoch: 7, [batch: 9 / 45], examples_per_second: 4128.1535, train_label_loss: 0.3432, \n"
     ]
    },
    {
     "name": "stdout",
     "output_type": "stream",
     "text": [
      "epoch: 7, [batch: 14 / 45], examples_per_second: 4124.7281, train_label_loss: 0.1551, \n"
     ]
    },
    {
     "name": "stdout",
     "output_type": "stream",
     "text": [
      "epoch: 7, [batch: 18 / 45], examples_per_second: 4126.7850, train_label_loss: 0.4127, \n"
     ]
    },
    {
     "name": "stdout",
     "output_type": "stream",
     "text": [
      "epoch: 7, [batch: 23 / 45], examples_per_second: 4048.5572, train_label_loss: 0.3190, \n"
     ]
    },
    {
     "name": "stdout",
     "output_type": "stream",
     "text": [
      "epoch: 7, [batch: 27 / 45], examples_per_second: 4123.4348, train_label_loss: 0.2259, \n"
     ]
    },
    {
     "name": "stdout",
     "output_type": "stream",
     "text": [
      "epoch: 7, [batch: 31 / 45], examples_per_second: 4110.1952, train_label_loss: 0.2346, \n"
     ]
    },
    {
     "name": "stdout",
     "output_type": "stream",
     "text": [
      "epoch: 7, [batch: 36 / 45], examples_per_second: 4151.2801, train_label_loss: 0.0905, \n"
     ]
    },
    {
     "name": "stdout",
     "output_type": "stream",
     "text": [
      "epoch: 7, [batch: 40 / 45], examples_per_second: 4207.5740, train_label_loss: 0.3212, \n"
     ]
    },
    {
     "name": "stdout",
     "output_type": "stream",
     "text": [
      "=============================================================\n",
      "epoch: 7, source_val_acc_label: 0.9468, target_val_acc_label: 0.8571, source_val_label_loss: 0.3509, target_val_label_loss: 0.7682, \n",
      "=============================================================\n"
     ]
    },
    {
     "name": "stdout",
     "output_type": "stream",
     "text": [
      "New best\n"
     ]
    },
    {
     "name": "stdout",
     "output_type": "stream",
     "text": [
      "epoch: 8, [batch: 1 / 45], examples_per_second: 491.9644, train_label_loss: 0.1356, \n"
     ]
    },
    {
     "name": "stdout",
     "output_type": "stream",
     "text": [
      "epoch: 8, [batch: 5 / 45], examples_per_second: 4017.2277, train_label_loss: 0.1658, \n"
     ]
    },
    {
     "name": "stdout",
     "output_type": "stream",
     "text": [
      "epoch: 8, [batch: 9 / 45], examples_per_second: 4120.1415, train_label_loss: 0.1869, \n"
     ]
    },
    {
     "name": "stdout",
     "output_type": "stream",
     "text": [
      "epoch: 8, [batch: 14 / 45], examples_per_second: 4099.9312, train_label_loss: 0.2582, \n"
     ]
    },
    {
     "name": "stdout",
     "output_type": "stream",
     "text": [
      "epoch: 8, [batch: 18 / 45], examples_per_second: 4119.4753, train_label_loss: 0.2076, \n"
     ]
    },
    {
     "name": "stdout",
     "output_type": "stream",
     "text": [
      "epoch: 8, [batch: 23 / 45], examples_per_second: 4038.3528, train_label_loss: 0.2679, \n"
     ]
    },
    {
     "name": "stdout",
     "output_type": "stream",
     "text": [
      "epoch: 8, [batch: 27 / 45], examples_per_second: 4117.7487, train_label_loss: 0.1860, \n"
     ]
    },
    {
     "name": "stdout",
     "output_type": "stream",
     "text": [
      "epoch: 8, [batch: 31 / 45], examples_per_second: 4108.7720, train_label_loss: 0.3474, \n"
     ]
    },
    {
     "name": "stdout",
     "output_type": "stream",
     "text": [
      "epoch: 8, [batch: 36 / 45], examples_per_second: 4147.6802, train_label_loss: 0.1501, \n"
     ]
    },
    {
     "name": "stdout",
     "output_type": "stream",
     "text": [
      "epoch: 8, [batch: 40 / 45], examples_per_second: 4204.8858, train_label_loss: 0.2396, \n"
     ]
    },
    {
     "name": "stdout",
     "output_type": "stream",
     "text": [
      "=============================================================\n",
      "epoch: 8, source_val_acc_label: 0.9551, target_val_acc_label: 0.8635, source_val_label_loss: 0.3372, target_val_label_loss: 0.7713, \n",
      "=============================================================\n"
     ]
    },
    {
     "name": "stdout",
     "output_type": "stream",
     "text": [
      "New best\n"
     ]
    },
    {
     "name": "stdout",
     "output_type": "stream",
     "text": [
      "epoch: 9, [batch: 1 / 45], examples_per_second: 489.6684, train_label_loss: 0.1770, \n"
     ]
    },
    {
     "name": "stdout",
     "output_type": "stream",
     "text": [
      "epoch: 9, [batch: 5 / 45], examples_per_second: 4023.7927, train_label_loss: 0.1957, \n"
     ]
    },
    {
     "name": "stdout",
     "output_type": "stream",
     "text": [
      "epoch: 9, [batch: 9 / 45], examples_per_second: 4121.0461, train_label_loss: 0.2496, \n"
     ]
    },
    {
     "name": "stdout",
     "output_type": "stream",
     "text": [
      "epoch: 9, [batch: 14 / 45], examples_per_second: 4111.8668, train_label_loss: 0.1791, \n"
     ]
    },
    {
     "name": "stdout",
     "output_type": "stream",
     "text": [
      "epoch: 9, [batch: 18 / 45], examples_per_second: 4110.9327, train_label_loss: 0.2495, \n"
     ]
    },
    {
     "name": "stdout",
     "output_type": "stream",
     "text": [
      "epoch: 9, [batch: 23 / 45], examples_per_second: 4037.3564, train_label_loss: 0.1861, \n"
     ]
    },
    {
     "name": "stdout",
     "output_type": "stream",
     "text": [
      "epoch: 9, [batch: 27 / 45], examples_per_second: 4110.9405, train_label_loss: 0.2305, \n"
     ]
    },
    {
     "name": "stdout",
     "output_type": "stream",
     "text": [
      "epoch: 9, [batch: 31 / 45], examples_per_second: 4107.9950, train_label_loss: 0.2009, \n"
     ]
    },
    {
     "name": "stdout",
     "output_type": "stream",
     "text": [
      "epoch: 9, [batch: 36 / 45], examples_per_second: 4126.2026, train_label_loss: 0.1531, \n"
     ]
    },
    {
     "name": "stdout",
     "output_type": "stream",
     "text": [
      "epoch: 9, [batch: 40 / 45], examples_per_second: 4210.5746, train_label_loss: 0.1258, \n"
     ]
    },
    {
     "name": "stdout",
     "output_type": "stream",
     "text": [
      "=============================================================\n",
      "epoch: 9, source_val_acc_label: 0.9532, target_val_acc_label: 0.8647, source_val_label_loss: 0.3178, target_val_label_loss: 0.7534, \n",
      "=============================================================\n"
     ]
    },
    {
     "name": "stdout",
     "output_type": "stream",
     "text": [
      "New best\n"
     ]
    },
    {
     "name": "stdout",
     "output_type": "stream",
     "text": [
      "epoch: 10, [batch: 1 / 45], examples_per_second: 492.4072, train_label_loss: 0.0952, \n"
     ]
    },
    {
     "name": "stdout",
     "output_type": "stream",
     "text": [
      "epoch: 10, [batch: 5 / 45], examples_per_second: 4013.8328, train_label_loss: 0.1219, \n"
     ]
    },
    {
     "name": "stdout",
     "output_type": "stream",
     "text": [
      "epoch: 10, [batch: 9 / 45], examples_per_second: 4118.1437, train_label_loss: 0.1901, \n"
     ]
    },
    {
     "name": "stdout",
     "output_type": "stream",
     "text": [
      "epoch: 10, [batch: 14 / 45], examples_per_second: 4115.1972, train_label_loss: 0.1083, \n"
     ]
    },
    {
     "name": "stdout",
     "output_type": "stream",
     "text": [
      "epoch: 10, [batch: 18 / 45], examples_per_second: 4122.0072, train_label_loss: 0.2893, \n"
     ]
    },
    {
     "name": "stdout",
     "output_type": "stream",
     "text": [
      "epoch: 10, [batch: 23 / 45], examples_per_second: 4044.5427, train_label_loss: 0.0313, \n"
     ]
    },
    {
     "name": "stdout",
     "output_type": "stream",
     "text": [
      "epoch: 10, [batch: 27 / 45], examples_per_second: 4128.6474, train_label_loss: 0.2347, \n"
     ]
    },
    {
     "name": "stdout",
     "output_type": "stream",
     "text": [
      "epoch: 10, [batch: 31 / 45], examples_per_second: 4118.6958, train_label_loss: 0.1239, \n"
     ]
    },
    {
     "name": "stdout",
     "output_type": "stream",
     "text": [
      "epoch: 10, [batch: 36 / 45], examples_per_second: 4149.3405, train_label_loss: 0.3202, \n"
     ]
    },
    {
     "name": "stdout",
     "output_type": "stream",
     "text": [
      "epoch: 10, [batch: 40 / 45], examples_per_second: 4201.1923, train_label_loss: 0.0681, \n"
     ]
    },
    {
     "name": "stdout",
     "output_type": "stream",
     "text": [
      "=============================================================\n",
      "epoch: 10, source_val_acc_label: 0.9583, target_val_acc_label: 0.8656, source_val_label_loss: 0.3106, target_val_label_loss: 0.7240, \n",
      "=============================================================\n"
     ]
    },
    {
     "name": "stdout",
     "output_type": "stream",
     "text": [
      "New best\n"
     ]
    },
    {
     "name": "stdout",
     "output_type": "stream",
     "text": [
      "epoch: 11, [batch: 1 / 45], examples_per_second: 488.0058, train_label_loss: 0.2036, \n"
     ]
    },
    {
     "name": "stdout",
     "output_type": "stream",
     "text": [
      "epoch: 11, [batch: 5 / 45], examples_per_second: 4018.6252, train_label_loss: 0.1075, \n"
     ]
    },
    {
     "name": "stdout",
     "output_type": "stream",
     "text": [
      "epoch: 11, [batch: 9 / 45], examples_per_second: 4102.7527, train_label_loss: 0.2282, \n"
     ]
    },
    {
     "name": "stdout",
     "output_type": "stream",
     "text": [
      "epoch: 11, [batch: 14 / 45], examples_per_second: 4109.9204, train_label_loss: 0.2431, \n"
     ]
    },
    {
     "name": "stdout",
     "output_type": "stream",
     "text": [
      "epoch: 11, [batch: 18 / 45], examples_per_second: 4110.3222, train_label_loss: 0.1326, \n"
     ]
    },
    {
     "name": "stdout",
     "output_type": "stream",
     "text": [
      "epoch: 11, [batch: 23 / 45], examples_per_second: 4037.7020, train_label_loss: 0.0913, \n"
     ]
    },
    {
     "name": "stdout",
     "output_type": "stream",
     "text": [
      "epoch: 11, [batch: 27 / 45], examples_per_second: 4102.8916, train_label_loss: 0.1169, \n"
     ]
    },
    {
     "name": "stdout",
     "output_type": "stream",
     "text": [
      "epoch: 11, [batch: 31 / 45], examples_per_second: 4112.7048, train_label_loss: 0.0847, \n"
     ]
    },
    {
     "name": "stdout",
     "output_type": "stream",
     "text": [
      "epoch: 11, [batch: 36 / 45], examples_per_second: 4148.1371, train_label_loss: 0.0844, \n"
     ]
    },
    {
     "name": "stdout",
     "output_type": "stream",
     "text": [
      "epoch: 11, [batch: 40 / 45], examples_per_second: 4205.3349, train_label_loss: 0.1098, \n"
     ]
    },
    {
     "name": "stdout",
     "output_type": "stream",
     "text": [
      "=============================================================\n",
      "epoch: 11, source_val_acc_label: 0.9558, target_val_acc_label: 0.8658, source_val_label_loss: 0.3099, target_val_label_loss: 0.7250, \n",
      "=============================================================\n"
     ]
    },
    {
     "name": "stdout",
     "output_type": "stream",
     "text": [
      "New best\n"
     ]
    },
    {
     "name": "stdout",
     "output_type": "stream",
     "text": [
      "epoch: 12, [batch: 1 / 45], examples_per_second: 491.1484, train_label_loss: 0.0894, \n"
     ]
    },
    {
     "name": "stdout",
     "output_type": "stream",
     "text": [
      "epoch: 12, [batch: 5 / 45], examples_per_second: 4017.1404, train_label_loss: 0.2363, \n"
     ]
    },
    {
     "name": "stdout",
     "output_type": "stream",
     "text": [
      "epoch: 12, [batch: 9 / 45], examples_per_second: 4106.7791, train_label_loss: 0.1744, \n"
     ]
    },
    {
     "name": "stdout",
     "output_type": "stream",
     "text": [
      "epoch: 12, [batch: 14 / 45], examples_per_second: 4121.8707, train_label_loss: 0.1090, \n"
     ]
    },
    {
     "name": "stdout",
     "output_type": "stream",
     "text": [
      "epoch: 12, [batch: 18 / 45], examples_per_second: 4123.7405, train_label_loss: 0.0801, \n"
     ]
    },
    {
     "name": "stdout",
     "output_type": "stream",
     "text": [
      "epoch: 12, [batch: 23 / 45], examples_per_second: 4042.5696, train_label_loss: 0.1148, \n"
     ]
    },
    {
     "name": "stdout",
     "output_type": "stream",
     "text": [
      "epoch: 12, [batch: 27 / 45], examples_per_second: 4114.1586, train_label_loss: 0.1986, \n"
     ]
    },
    {
     "name": "stdout",
     "output_type": "stream",
     "text": [
      "epoch: 12, [batch: 31 / 45], examples_per_second: 4122.0679, train_label_loss: 0.1244, \n"
     ]
    },
    {
     "name": "stdout",
     "output_type": "stream",
     "text": [
      "epoch: 12, [batch: 36 / 45], examples_per_second: 4147.7976, train_label_loss: 0.2477, \n"
     ]
    },
    {
     "name": "stdout",
     "output_type": "stream",
     "text": [
      "epoch: 12, [batch: 40 / 45], examples_per_second: 4204.4270, train_label_loss: 0.1283, \n"
     ]
    },
    {
     "name": "stdout",
     "output_type": "stream",
     "text": [
      "=============================================================\n",
      "epoch: 12, source_val_acc_label: 0.9558, target_val_acc_label: 0.8733, source_val_label_loss: 0.2980, target_val_label_loss: 0.6998, \n",
      "=============================================================\n"
     ]
    },
    {
     "name": "stdout",
     "output_type": "stream",
     "text": [
      "New best\n"
     ]
    },
    {
     "name": "stdout",
     "output_type": "stream",
     "text": [
      "epoch: 13, [batch: 1 / 45], examples_per_second: 488.7812, train_label_loss: 0.2202, \n"
     ]
    },
    {
     "name": "stdout",
     "output_type": "stream",
     "text": [
      "epoch: 13, [batch: 5 / 45], examples_per_second: 4020.4638, train_label_loss: 0.1416, \n"
     ]
    },
    {
     "name": "stdout",
     "output_type": "stream",
     "text": [
      "epoch: 13, [batch: 9 / 45], examples_per_second: 4118.5527, train_label_loss: 0.2017, \n"
     ]
    },
    {
     "name": "stdout",
     "output_type": "stream",
     "text": [
      "epoch: 13, [batch: 14 / 45], examples_per_second: 4112.2513, train_label_loss: 0.1244, \n"
     ]
    },
    {
     "name": "stdout",
     "output_type": "stream",
     "text": [
      "epoch: 13, [batch: 18 / 45], examples_per_second: 4119.3960, train_label_loss: 0.0870, \n"
     ]
    },
    {
     "name": "stdout",
     "output_type": "stream",
     "text": [
      "epoch: 13, [batch: 23 / 45], examples_per_second: 4045.5582, train_label_loss: 0.1427, \n"
     ]
    },
    {
     "name": "stdout",
     "output_type": "stream",
     "text": [
      "epoch: 13, [batch: 27 / 45], examples_per_second: 4117.0243, train_label_loss: 0.1127, \n"
     ]
    },
    {
     "name": "stdout",
     "output_type": "stream",
     "text": [
      "epoch: 13, [batch: 31 / 45], examples_per_second: 4119.8239, train_label_loss: 0.1461, \n"
     ]
    },
    {
     "name": "stdout",
     "output_type": "stream",
     "text": [
      "epoch: 13, [batch: 36 / 45], examples_per_second: 4151.7277, train_label_loss: 0.1565, \n"
     ]
    },
    {
     "name": "stdout",
     "output_type": "stream",
     "text": [
      "epoch: 13, [batch: 40 / 45], examples_per_second: 4206.7154, train_label_loss: 0.1573, \n"
     ]
    },
    {
     "name": "stdout",
     "output_type": "stream",
     "text": [
      "=============================================================\n",
      "epoch: 13, source_val_acc_label: 0.9558, target_val_acc_label: 0.8682, source_val_label_loss: 0.2982, target_val_label_loss: 0.7194, \n",
      "=============================================================\n"
     ]
    },
    {
     "name": "stdout",
     "output_type": "stream",
     "text": [
      "epoch: 14, [batch: 1 / 45], examples_per_second: 508.1617, train_label_loss: 0.1074, \n"
     ]
    },
    {
     "name": "stdout",
     "output_type": "stream",
     "text": [
      "epoch: 14, [batch: 5 / 45], examples_per_second: 4020.4964, train_label_loss: 0.0644, \n"
     ]
    },
    {
     "name": "stdout",
     "output_type": "stream",
     "text": [
      "epoch: 14, [batch: 9 / 45], examples_per_second: 4111.5542, train_label_loss: 0.1543, \n"
     ]
    },
    {
     "name": "stdout",
     "output_type": "stream",
     "text": [
      "epoch: 14, [batch: 14 / 45], examples_per_second: 4121.4644, train_label_loss: 0.1357, \n"
     ]
    },
    {
     "name": "stdout",
     "output_type": "stream",
     "text": [
      "epoch: 14, [batch: 18 / 45], examples_per_second: 4112.2953, train_label_loss: 0.1170, \n"
     ]
    },
    {
     "name": "stdout",
     "output_type": "stream",
     "text": [
      "epoch: 14, [batch: 23 / 45], examples_per_second: 3953.6725, train_label_loss: 0.1330, \n"
     ]
    },
    {
     "name": "stdout",
     "output_type": "stream",
     "text": [
      "epoch: 14, [batch: 27 / 45], examples_per_second: 4109.0708, train_label_loss: 0.1723, \n"
     ]
    },
    {
     "name": "stdout",
     "output_type": "stream",
     "text": [
      "epoch: 14, [batch: 31 / 45], examples_per_second: 4114.1664, train_label_loss: 0.0921, \n"
     ]
    },
    {
     "name": "stdout",
     "output_type": "stream",
     "text": [
      "epoch: 14, [batch: 36 / 45], examples_per_second: 4152.2551, train_label_loss: 0.0896, \n"
     ]
    },
    {
     "name": "stdout",
     "output_type": "stream",
     "text": [
      "epoch: 14, [batch: 40 / 45], examples_per_second: 4214.9377, train_label_loss: 0.0786, \n"
     ]
    },
    {
     "name": "stdout",
     "output_type": "stream",
     "text": [
      "=============================================================\n",
      "epoch: 14, source_val_acc_label: 0.9551, target_val_acc_label: 0.8677, source_val_label_loss: 0.3098, target_val_label_loss: 0.7206, \n",
      "=============================================================\n"
     ]
    },
    {
     "name": "stdout",
     "output_type": "stream",
     "text": [
      "epoch: 15, [batch: 1 / 45], examples_per_second: 503.7582, train_label_loss: 0.1391, \n"
     ]
    },
    {
     "name": "stdout",
     "output_type": "stream",
     "text": [
      "epoch: 15, [batch: 5 / 45], examples_per_second: 3987.8806, train_label_loss: 0.1142, \n"
     ]
    },
    {
     "name": "stdout",
     "output_type": "stream",
     "text": [
      "epoch: 15, [batch: 9 / 45], examples_per_second: 4101.0740, train_label_loss: 0.0830, \n"
     ]
    },
    {
     "name": "stdout",
     "output_type": "stream",
     "text": [
      "epoch: 15, [batch: 14 / 45], examples_per_second: 4081.1653, train_label_loss: 0.0521, \n"
     ]
    },
    {
     "name": "stdout",
     "output_type": "stream",
     "text": [
      "epoch: 15, [batch: 18 / 45], examples_per_second: 4069.3059, train_label_loss: 0.1252, \n"
     ]
    },
    {
     "name": "stdout",
     "output_type": "stream",
     "text": [
      "epoch: 15, [batch: 23 / 45], examples_per_second: 4019.3948, train_label_loss: 0.0971, \n"
     ]
    },
    {
     "name": "stdout",
     "output_type": "stream",
     "text": [
      "epoch: 15, [batch: 27 / 45], examples_per_second: 4052.4240, train_label_loss: 0.0992, \n"
     ]
    },
    {
     "name": "stdout",
     "output_type": "stream",
     "text": [
      "epoch: 15, [batch: 31 / 45], examples_per_second: 4092.9254, train_label_loss: 0.0991, \n"
     ]
    },
    {
     "name": "stdout",
     "output_type": "stream",
     "text": [
      "epoch: 15, [batch: 36 / 45], examples_per_second: 4126.7460, train_label_loss: 0.1264, \n"
     ]
    },
    {
     "name": "stdout",
     "output_type": "stream",
     "text": [
      "epoch: 15, [batch: 40 / 45], examples_per_second: 4202.0196, train_label_loss: 0.1995, \n"
     ]
    },
    {
     "name": "stdout",
     "output_type": "stream",
     "text": [
      "=============================================================\n",
      "epoch: 15, source_val_acc_label: 0.9577, target_val_acc_label: 0.8748, source_val_label_loss: 0.2906, target_val_label_loss: 0.6998, \n",
      "=============================================================\n"
     ]
    },
    {
     "name": "stdout",
     "output_type": "stream",
     "text": [
      "New best\n"
     ]
    },
    {
     "name": "stdout",
     "output_type": "stream",
     "text": [
      "epoch: 16, [batch: 1 / 45], examples_per_second: 488.7557, train_label_loss: 0.0957, \n"
     ]
    },
    {
     "name": "stdout",
     "output_type": "stream",
     "text": [
      "epoch: 16, [batch: 5 / 45], examples_per_second: 3993.2836, train_label_loss: 0.1227, \n"
     ]
    },
    {
     "name": "stdout",
     "output_type": "stream",
     "text": [
      "epoch: 16, [batch: 9 / 45], examples_per_second: 4093.0252, train_label_loss: 0.0951, \n"
     ]
    },
    {
     "name": "stdout",
     "output_type": "stream",
     "text": [
      "epoch: 16, [batch: 14 / 45], examples_per_second: 4100.3394, train_label_loss: 0.1641, \n"
     ]
    },
    {
     "name": "stdout",
     "output_type": "stream",
     "text": [
      "epoch: 16, [batch: 18 / 45], examples_per_second: 4098.9098, train_label_loss: 0.1122, \n"
     ]
    },
    {
     "name": "stdout",
     "output_type": "stream",
     "text": [
      "epoch: 16, [batch: 23 / 45], examples_per_second: 4021.2563, train_label_loss: 0.0769, \n"
     ]
    },
    {
     "name": "stdout",
     "output_type": "stream",
     "text": [
      "epoch: 16, [batch: 27 / 45], examples_per_second: 4101.1017, train_label_loss: 0.0432, \n"
     ]
    },
    {
     "name": "stdout",
     "output_type": "stream",
     "text": [
      "epoch: 16, [batch: 31 / 45], examples_per_second: 4096.7494, train_label_loss: 0.0563, \n"
     ]
    },
    {
     "name": "stdout",
     "output_type": "stream",
     "text": [
      "epoch: 16, [batch: 36 / 45], examples_per_second: 4134.7872, train_label_loss: 0.0771, \n"
     ]
    },
    {
     "name": "stdout",
     "output_type": "stream",
     "text": [
      "epoch: 16, [batch: 40 / 45], examples_per_second: 4194.0088, train_label_loss: 0.0309, \n"
     ]
    },
    {
     "name": "stdout",
     "output_type": "stream",
     "text": [
      "=============================================================\n",
      "epoch: 16, source_val_acc_label: 0.9577, target_val_acc_label: 0.8731, source_val_label_loss: 0.3203, target_val_label_loss: 0.7144, \n",
      "=============================================================\n"
     ]
    },
    {
     "name": "stdout",
     "output_type": "stream",
     "text": [
      "epoch: 17, [batch: 1 / 45], examples_per_second: 505.4035, train_label_loss: 0.0811, \n"
     ]
    },
    {
     "name": "stdout",
     "output_type": "stream",
     "text": [
      "epoch: 17, [batch: 5 / 45], examples_per_second: 4003.8736, train_label_loss: 0.1542, \n"
     ]
    },
    {
     "name": "stdout",
     "output_type": "stream",
     "text": [
      "epoch: 17, [batch: 9 / 45], examples_per_second: 4072.9246, train_label_loss: 0.0637, \n"
     ]
    },
    {
     "name": "stdout",
     "output_type": "stream",
     "text": [
      "epoch: 17, [batch: 14 / 45], examples_per_second: 4086.5731, train_label_loss: 0.0541, \n"
     ]
    },
    {
     "name": "stdout",
     "output_type": "stream",
     "text": [
      "epoch: 17, [batch: 18 / 45], examples_per_second: 4091.8289, train_label_loss: 0.0701, \n"
     ]
    },
    {
     "name": "stdout",
     "output_type": "stream",
     "text": [
      "epoch: 17, [batch: 23 / 45], examples_per_second: 4024.2978, train_label_loss: 0.1247, \n"
     ]
    },
    {
     "name": "stdout",
     "output_type": "stream",
     "text": [
      "epoch: 17, [batch: 27 / 45], examples_per_second: 4080.2378, train_label_loss: 0.0453, \n"
     ]
    },
    {
     "name": "stdout",
     "output_type": "stream",
     "text": [
      "epoch: 17, [batch: 31 / 45], examples_per_second: 4091.1857, train_label_loss: 0.0331, \n"
     ]
    },
    {
     "name": "stdout",
     "output_type": "stream",
     "text": [
      "epoch: 17, [batch: 36 / 45], examples_per_second: 4139.6881, train_label_loss: 0.1341, \n"
     ]
    },
    {
     "name": "stdout",
     "output_type": "stream",
     "text": [
      "epoch: 17, [batch: 40 / 45], examples_per_second: 4204.5599, train_label_loss: 0.1155, \n"
     ]
    },
    {
     "name": "stdout",
     "output_type": "stream",
     "text": [
      "=============================================================\n",
      "epoch: 17, source_val_acc_label: 0.9583, target_val_acc_label: 0.8675, source_val_label_loss: 0.3003, target_val_label_loss: 0.7283, \n",
      "=============================================================\n"
     ]
    },
    {
     "name": "stdout",
     "output_type": "stream",
     "text": [
      "epoch: 18, [batch: 1 / 45], examples_per_second: 506.5279, train_label_loss: 0.0694, \n"
     ]
    },
    {
     "name": "stdout",
     "output_type": "stream",
     "text": [
      "epoch: 18, [batch: 5 / 45], examples_per_second: 4009.2199, train_label_loss: 0.1905, \n"
     ]
    },
    {
     "name": "stdout",
     "output_type": "stream",
     "text": [
      "epoch: 18, [batch: 9 / 45], examples_per_second: 4090.0287, train_label_loss: 0.0541, \n"
     ]
    },
    {
     "name": "stdout",
     "output_type": "stream",
     "text": [
      "epoch: 18, [batch: 14 / 45], examples_per_second: 4121.4619, train_label_loss: 0.1290, \n"
     ]
    },
    {
     "name": "stdout",
     "output_type": "stream",
     "text": [
      "epoch: 18, [batch: 18 / 45], examples_per_second: 4115.1786, train_label_loss: 0.1620, \n"
     ]
    },
    {
     "name": "stdout",
     "output_type": "stream",
     "text": [
      "epoch: 18, [batch: 23 / 45], examples_per_second: 4046.2006, train_label_loss: 0.0632, \n"
     ]
    },
    {
     "name": "stdout",
     "output_type": "stream",
     "text": [
      "epoch: 18, [batch: 27 / 45], examples_per_second: 4115.4613, train_label_loss: 0.0347, \n"
     ]
    },
    {
     "name": "stdout",
     "output_type": "stream",
     "text": [
      "epoch: 18, [batch: 31 / 45], examples_per_second: 4115.6989, train_label_loss: 0.0599, \n"
     ]
    },
    {
     "name": "stdout",
     "output_type": "stream",
     "text": [
      "epoch: 18, [batch: 36 / 45], examples_per_second: 4148.5828, train_label_loss: 0.0997, \n"
     ]
    },
    {
     "name": "stdout",
     "output_type": "stream",
     "text": [
      "epoch: 18, [batch: 40 / 45], examples_per_second: 4206.5483, train_label_loss: 0.0538, \n"
     ]
    },
    {
     "name": "stdout",
     "output_type": "stream",
     "text": [
      "=============================================================\n",
      "epoch: 18, source_val_acc_label: 0.9551, target_val_acc_label: 0.8694, source_val_label_loss: 0.2957, target_val_label_loss: 0.7384, \n",
      "=============================================================\n"
     ]
    },
    {
     "name": "stdout",
     "output_type": "stream",
     "text": [
      "epoch: 19, [batch: 1 / 45], examples_per_second: 505.4309, train_label_loss: 0.1124, \n"
     ]
    },
    {
     "name": "stdout",
     "output_type": "stream",
     "text": [
      "epoch: 19, [batch: 5 / 45], examples_per_second: 4003.3621, train_label_loss: 0.0830, \n"
     ]
    },
    {
     "name": "stdout",
     "output_type": "stream",
     "text": [
      "epoch: 19, [batch: 9 / 45], examples_per_second: 4099.1979, train_label_loss: 0.0742, \n"
     ]
    },
    {
     "name": "stdout",
     "output_type": "stream",
     "text": [
      "epoch: 19, [batch: 14 / 45], examples_per_second: 4089.0641, train_label_loss: 0.0843, \n"
     ]
    },
    {
     "name": "stdout",
     "output_type": "stream",
     "text": [
      "epoch: 19, [batch: 18 / 45], examples_per_second: 4105.8467, train_label_loss: 0.0734, \n"
     ]
    },
    {
     "name": "stdout",
     "output_type": "stream",
     "text": [
      "epoch: 19, [batch: 23 / 45], examples_per_second: 4028.1842, train_label_loss: 0.0389, \n"
     ]
    },
    {
     "name": "stdout",
     "output_type": "stream",
     "text": [
      "epoch: 19, [batch: 27 / 45], examples_per_second: 4102.7851, train_label_loss: 0.0976, \n"
     ]
    },
    {
     "name": "stdout",
     "output_type": "stream",
     "text": [
      "epoch: 19, [batch: 31 / 45], examples_per_second: 4098.2166, train_label_loss: 0.0634, \n"
     ]
    },
    {
     "name": "stdout",
     "output_type": "stream",
     "text": [
      "epoch: 19, [batch: 36 / 45], examples_per_second: 4143.1092, train_label_loss: 0.1337, \n"
     ]
    },
    {
     "name": "stdout",
     "output_type": "stream",
     "text": [
      "epoch: 19, [batch: 40 / 45], examples_per_second: 4196.8237, train_label_loss: 0.0579, \n"
     ]
    },
    {
     "name": "stdout",
     "output_type": "stream",
     "text": [
      "=============================================================\n",
      "epoch: 19, source_val_acc_label: 0.9571, target_val_acc_label: 0.8675, source_val_label_loss: 0.2979, target_val_label_loss: 0.7143, \n",
      "=============================================================\n"
     ]
    },
    {
     "name": "stdout",
     "output_type": "stream",
     "text": [
      "Patience (3) exhausted\n"
     ]
    }
   ],
   "source": [
    "###################################\n",
    "# train\n",
    "###################################\n",
    "jig = PTN_Train_Eval_Test_Jig(model, p.BEST_MODEL_PATH, p.device)\n",
    "\n",
    "jig.train(\n",
    "    train_iterable=datasets.source.processed.train,\n",
    "    source_val_iterable=datasets.source.processed.val,\n",
    "    target_val_iterable=datasets.target.processed.val,\n",
    "    num_epochs=p.n_epoch,\n",
    "    num_logs_per_epoch=p.NUM_LOGS_PER_EPOCH,\n",
    "    patience=p.patience,\n",
    "    optimizer=optimizer,\n",
    "    criteria_for_best=p.criteria_for_best,\n",
    ")"
   ]
  },
  {
   "cell_type": "code",
   "execution_count": 14,
   "id": "31e8fabf",
   "metadata": {
    "execution": {
     "iopub.execute_input": "2022-03-22T16:50:59.146859Z",
     "iopub.status.busy": "2022-03-22T16:50:59.146607Z",
     "iopub.status.idle": "2022-03-22T16:50:59.165446Z",
     "shell.execute_reply": "2022-03-22T16:50:59.165059Z"
    },
    "papermill": {
     "duration": 0.070198,
     "end_time": "2022-03-22T16:50:59.165536",
     "exception": false,
     "start_time": "2022-03-22T16:50:59.095338",
     "status": "completed"
    },
    "tags": []
   },
   "outputs": [],
   "source": [
    "total_experiment_time_secs = time.time() - start_time_secs"
   ]
  },
  {
   "cell_type": "code",
   "execution_count": 15,
   "id": "87b9595b",
   "metadata": {
    "execution": {
     "iopub.execute_input": "2022-03-22T16:50:59.273660Z",
     "iopub.status.busy": "2022-03-22T16:50:59.273392Z",
     "iopub.status.idle": "2022-03-22T16:51:06.661099Z",
     "shell.execute_reply": "2022-03-22T16:51:06.660844Z"
    },
    "papermill": {
     "duration": 7.441702,
     "end_time": "2022-03-22T16:51:06.661164",
     "exception": false,
     "start_time": "2022-03-22T16:50:59.219462",
     "status": "completed"
    },
    "tags": []
   },
   "outputs": [],
   "source": [
    "###################################\n",
    "# Evaluate the model\n",
    "###################################\n",
    "source_test_label_accuracy, source_test_label_loss = jig.test(datasets.source.processed.test)\n",
    "target_test_label_accuracy, target_test_label_loss = jig.test(datasets.target.processed.test)\n",
    "\n",
    "source_val_label_accuracy, source_val_label_loss = jig.test(datasets.source.processed.val)\n",
    "target_val_label_accuracy, target_val_label_loss = jig.test(datasets.target.processed.val)\n",
    "\n",
    "history = jig.get_history()\n",
    "\n",
    "total_epochs_trained = len(history[\"epoch_indices\"])\n",
    "\n",
    "val_dl = Iterable_Aggregator((datasets.source.original.val,datasets.target.original.val))\n",
    "\n",
    "confusion = ptn_confusion_by_domain_over_dataloader(model, p.device, val_dl)\n",
    "per_domain_accuracy = per_domain_accuracy_from_confusion(confusion)\n",
    "\n",
    "# Add a key to per_domain_accuracy for if it was a source domain\n",
    "for domain, accuracy in per_domain_accuracy.items():\n",
    "    per_domain_accuracy[domain] = {\n",
    "        \"accuracy\": accuracy,\n",
    "        \"source?\": domain in p.domains_source\n",
    "    }\n",
    "\n",
    "# Do an independent accuracy assesment JUST TO BE SURE!\n",
    "# _source_test_label_accuracy = independent_accuracy_assesment(model, datasets.source.processed.test, p.device)\n",
    "# _target_test_label_accuracy = independent_accuracy_assesment(model, datasets.target.processed.test, p.device)\n",
    "# _source_val_label_accuracy = independent_accuracy_assesment(model, datasets.source.processed.val, p.device)\n",
    "# _target_val_label_accuracy = independent_accuracy_assesment(model, datasets.target.processed.val, p.device)\n",
    "\n",
    "# assert(_source_test_label_accuracy == source_test_label_accuracy)\n",
    "# assert(_target_test_label_accuracy == target_test_label_accuracy)\n",
    "# assert(_source_val_label_accuracy == source_val_label_accuracy)\n",
    "# assert(_target_val_label_accuracy == target_val_label_accuracy)\n",
    "\n",
    "experiment = {\n",
    "    \"experiment_name\": p.experiment_name,\n",
    "    \"parameters\": dict(p),\n",
    "    \"results\": {\n",
    "        \"source_test_label_accuracy\": source_test_label_accuracy,\n",
    "        \"source_test_label_loss\": source_test_label_loss,\n",
    "        \"target_test_label_accuracy\": target_test_label_accuracy,\n",
    "        \"target_test_label_loss\": target_test_label_loss,\n",
    "        \"source_val_label_accuracy\": source_val_label_accuracy,\n",
    "        \"source_val_label_loss\": source_val_label_loss,\n",
    "        \"target_val_label_accuracy\": target_val_label_accuracy,\n",
    "        \"target_val_label_loss\": target_val_label_loss,\n",
    "        \"total_epochs_trained\": total_epochs_trained,\n",
    "        \"total_experiment_time_secs\": total_experiment_time_secs,\n",
    "        \"confusion\": confusion,\n",
    "        \"per_domain_accuracy\": per_domain_accuracy,\n",
    "    },\n",
    "    \"history\": history,\n",
    "    \"dataset_metrics\": get_dataset_metrics(datasets, \"ptn\"),\n",
    "}"
   ]
  },
  {
   "cell_type": "code",
   "execution_count": 16,
   "id": "54a21829",
   "metadata": {
    "execution": {
     "iopub.execute_input": "2022-03-22T16:51:06.761438Z",
     "iopub.status.busy": "2022-03-22T16:51:06.761184Z",
     "iopub.status.idle": "2022-03-22T16:51:06.877161Z",
     "shell.execute_reply": "2022-03-22T16:51:06.877542Z"
    },
    "papermill": {
     "duration": 0.167335,
     "end_time": "2022-03-22T16:51:06.877655",
     "exception": false,
     "start_time": "2022-03-22T16:51:06.710320",
     "status": "completed"
    },
    "tags": []
   },
   "outputs": [
    {
     "data": {
      "image/png": "[encoded data removed]",
      "text/plain": [
       "<Figure size 1080x504 with 1 Axes>"
      ]
     },
     "metadata": {
      "needs_background": "light"
     },
     "output_type": "display_data"
    }
   ],
   "source": [
    "ax = get_loss_curve(experiment)\n",
    "plt.show()"
   ]
  },
  {
   "cell_type": "code",
   "execution_count": 17,
   "id": "fd8a0f60",
   "metadata": {
    "execution": {
     "iopub.execute_input": "2022-03-22T16:51:06.985658Z",
     "iopub.status.busy": "2022-03-22T16:51:06.985407Z",
     "iopub.status.idle": "2022-03-22T16:51:07.129988Z",
     "shell.execute_reply": "2022-03-22T16:51:07.130205Z"
    },
    "papermill": {
     "duration": 0.196801,
     "end_time": "2022-03-22T16:51:07.130275",
     "exception": false,
     "start_time": "2022-03-22T16:51:06.933474",
     "status": "completed"
    },
    "tags": []
   },
   "outputs": [
    {
     "data": {
      "text/plain": [
       "<AxesSubplot:title={'center':'Results'}>"
      ]
     },
     "execution_count": 17,
     "metadata": {},
     "output_type": "execute_result"
    },
    {
     "data": {
      "image/png": "[encoded data removed]",
      "text/plain": [
       "<Figure size 1080x504 with 1 Axes>"
      ]
     },
     "metadata": {
      "needs_background": "light"
     },
     "output_type": "display_data"
    }
   ],
   "source": [
    "get_results_table(experiment)"
   ]
  },
  {
   "cell_type": "code",
   "execution_count": 18,
   "id": "cf8dc689",
   "metadata": {
    "execution": {
     "iopub.execute_input": "2022-03-22T16:51:07.235836Z",
     "iopub.status.busy": "2022-03-22T16:51:07.235587Z",
     "iopub.status.idle": "2022-03-22T16:51:07.343555Z",
     "shell.execute_reply": "2022-03-22T16:51:07.343298Z"
    },
    "papermill": {
     "duration": 0.161327,
     "end_time": "2022-03-22T16:51:07.343609",
     "exception": false,
     "start_time": "2022-03-22T16:51:07.182282",
     "status": "completed"
    },
    "tags": []
   },
   "outputs": [
    {
     "data": {
      "text/plain": [
       "<AxesSubplot:title={'center':'Per Domain Validation Accuracy'}, xlabel='domain'>"
      ]
     },
     "execution_count": 18,
     "metadata": {},
     "output_type": "execute_result"
    },
    {
     "data": {
      "image/png": "[encoded data removed]",
      "text/plain": [
       "<Figure size 1080x504 with 1 Axes>"
      ]
     },
     "metadata": {
      "needs_background": "light"
     },
     "output_type": "display_data"
    }
   ],
   "source": [
    "get_domain_accuracies(experiment)"
   ]
  },
  {
   "cell_type": "code",
   "execution_count": 19,
   "id": "a74ae082",
   "metadata": {
    "execution": {
     "iopub.execute_input": "2022-03-22T16:51:07.453241Z",
     "iopub.status.busy": "2022-03-22T16:51:07.452985Z",
     "iopub.status.idle": "2022-03-22T16:51:07.468709Z",
     "shell.execute_reply": "2022-03-22T16:51:07.468262Z"
    },
    "papermill": {
     "duration": 0.069873,
     "end_time": "2022-03-22T16:51:07.468800",
     "exception": false,
     "start_time": "2022-03-22T16:51:07.398927",
     "status": "completed"
    },
    "tags": []
   },
   "outputs": [
    {
     "name": "stdout",
     "output_type": "stream",
     "text": [
      "Source Test Label Accuracy: 0.9455128205128205 Target Test Label Accuracy: 0.8696581196581197\n",
      "Source Val Label Accuracy: 0.9576923076923077 Target Val Label Accuracy: 0.8747863247863248\n"
     ]
    }
   ],
   "source": [
    "print(\"Source Test Label Accuracy:\", experiment[\"results\"][\"source_test_label_accuracy\"], \"Target Test Label Accuracy:\", experiment[\"results\"][\"target_test_label_accuracy\"])\n",
    "print(\"Source Val Label Accuracy:\", experiment[\"results\"][\"source_val_label_accuracy\"], \"Target Val Label Accuracy:\", experiment[\"results\"][\"target_val_label_accuracy\"])"
   ]
  },
  {
   "cell_type": "code",
   "execution_count": 20,
   "id": "dacca602",
   "metadata": {
    "execution": {
     "iopub.execute_input": "2022-03-22T16:51:07.579289Z",
     "iopub.status.busy": "2022-03-22T16:51:07.579023Z",
     "iopub.status.idle": "2022-03-22T16:51:07.594860Z",
     "shell.execute_reply": "2022-03-22T16:51:07.595249Z"
    },
    "papermill": {
     "duration": 0.069715,
     "end_time": "2022-03-22T16:51:07.595360",
     "exception": false,
     "start_time": "2022-03-22T16:51:07.525645",
     "status": "completed"
    },
    "tags": [
     "experiment_json"
    ]
   },
   "outputs": [
    {
     "data": {
      "text/plain": [
       "'{\"experiment_name\": \"tuned_1v2:wisig\", \"parameters\": {\"experiment_name\": \"tuned_1v2:wisig\", \"device\": \"cuda\", \"lr\": 0.0001, \"labels_source\": [\"1-10\", \"1-12\", \"1-14\", \"1-16\", \"1-18\", \"1-19\", \"1-8\", \"10-11\", \"10-17\", \"10-4\", \"10-7\", \"11-1\", \"11-10\", \"11-19\", \"11-20\", \"11-4\", \"11-7\", \"12-19\", \"12-20\", \"12-7\", \"13-14\", \"13-18\", \"13-19\", \"13-20\", \"13-3\", \"13-7\", \"14-10\", \"14-11\", \"14-12\", \"14-13\", \"14-14\", \"14-19\", \"14-20\", \"14-7\", \"14-8\", \"14-9\", \"15-1\", \"15-19\", \"15-6\", \"16-1\", \"16-16\", \"16-19\", \"16-20\", \"17-10\", \"17-11\", \"18-1\", \"18-10\", \"18-11\", \"18-12\", \"18-13\", \"18-14\", \"18-15\", \"18-16\", \"18-17\", \"18-19\", \"18-2\", \"18-20\", \"18-4\", \"18-5\", \"18-7\", \"18-8\", \"18-9\", \"19-1\", \"19-10\", \"19-11\", \"19-12\", \"19-13\", \"19-14\", \"19-15\", \"19-19\", \"19-2\", \"19-20\", \"19-3\", \"19-4\", \"19-6\", \"19-7\", \"19-8\", \"19-9\", \"2-1\", \"2-13\", \"2-15\", \"2-3\", \"2-4\", \"2-5\", \"2-6\", \"2-7\", \"2-8\", \"20-1\", \"20-12\", \"20-14\", \"20-15\", \"20-16\", \"20-18\", \"20-19\", \"20-20\", \"20-3\", \"20-4\", \"20-5\", \"20-7\", \"20-8\", \"3-1\", \"3-13\", \"3-18\", \"3-2\", \"3-8\", \"4-1\", \"4-10\", \"4-11\", \"5-1\", \"5-5\", \"6-1\", \"6-15\", \"6-6\", \"7-10\", \"7-11\", \"7-12\", \"7-13\", \"7-14\", \"7-7\", \"7-8\", \"7-9\", \"8-1\", \"8-13\", \"8-14\", \"8-18\", \"8-20\", \"8-3\", \"8-8\", \"9-1\", \"9-7\"], \"labels_target\": [\"1-10\", \"1-12\", \"1-14\", \"1-16\", \"1-18\", \"1-19\", \"1-8\", \"10-11\", \"10-17\", \"10-4\", \"10-7\", \"11-1\", \"11-10\", \"11-19\", \"11-20\", \"11-4\", \"11-7\", \"12-19\", \"12-20\", \"12-7\", \"13-14\", \"13-18\", \"13-19\", \"13-20\", \"13-3\", \"13-7\", \"14-10\", \"14-11\", \"14-12\", \"14-13\", \"14-14\", \"14-19\", \"14-20\", \"14-7\", \"14-8\", \"14-9\", \"15-1\", \"15-19\", \"15-6\", \"16-1\", \"16-16\", \"16-19\", \"16-20\", \"17-10\", \"17-11\", \"18-1\", \"18-10\", \"18-11\", \"18-12\", \"18-13\", \"18-14\", \"18-15\", \"18-16\", \"18-17\", \"18-19\", \"18-2\", \"18-20\", \"18-4\", \"18-5\", \"18-7\", \"18-8\", \"18-9\", \"19-1\", \"19-10\", \"19-11\", \"19-12\", \"19-13\", \"19-14\", \"19-15\", \"19-19\", \"19-2\", \"19-20\", \"19-3\", \"19-4\", \"19-6\", \"19-7\", \"19-8\", \"19-9\", \"2-1\", \"2-13\", \"2-15\", \"2-3\", \"2-4\", \"2-5\", \"2-6\", \"2-7\", \"2-8\", \"20-1\", \"20-12\", \"20-14\", \"20-15\", \"20-16\", \"20-18\", \"20-19\", \"20-20\", \"20-3\", \"20-4\", \"20-5\", \"20-7\", \"20-8\", \"3-1\", \"3-13\", \"3-18\", \"3-2\", \"3-8\", \"4-1\", \"4-10\", \"4-11\", \"5-1\", \"5-5\", \"6-1\", \"6-15\", \"6-6\", \"7-10\", \"7-11\", \"7-12\", \"7-13\", \"7-14\", \"7-7\", \"7-8\", \"7-9\", \"8-1\", \"8-13\", \"8-14\", \"8-18\", \"8-20\", \"8-3\", \"8-8\", \"9-1\", \"9-7\"], \"episode_transforms_source\": [], \"episode_transforms_target\": [], \"domains_source\": [3], \"domains_target\": [1, 2, 4], \"num_examples_per_domain_per_label_source\": -1, \"num_examples_per_domain_per_label_target\": -1, \"n_shot\": 3, \"n_way\": 130, \"n_query\": 2, \"train_k_factor\": 3, \"val_k_factor\": 2, \"test_k_factor\": 2, \"torch_default_dtype\": \"torch.float32\", \"n_epoch\": 50, \"patience\": 3, \"criteria_for_best\": \"target_accuracy\", \"x_net\": [{\"class\": \"nnReshape\", \"kargs\": {\"shape\": [-1, 1, 2, 256]}}, {\"class\": \"Conv2d\", \"kargs\": {\"in_channels\": 1, \"out_channels\": 256, \"kernel_size\": [1, 7], \"bias\": false, \"padding\": [0, 3]}}, {\"class\": \"ReLU\", \"kargs\": {\"inplace\": true}}, {\"class\": \"BatchNorm2d\", \"kargs\": {\"num_features\": 256}}, {\"class\": \"Conv2d\", \"kargs\": {\"in_channels\": 256, \"out_channels\": 80, \"kernel_size\": [2, 7], \"bias\": true, \"padding\": [0, 3]}}, {\"class\": \"ReLU\", \"kargs\": {\"inplace\": true}}, {\"class\": \"BatchNorm2d\", \"kargs\": {\"num_features\": 80}}, {\"class\": \"Flatten\", \"kargs\": {}}, {\"class\": \"Linear\", \"kargs\": {\"in_features\": 20480, \"out_features\": 256}}, {\"class\": \"ReLU\", \"kargs\": {\"inplace\": true}}, {\"class\": \"BatchNorm1d\", \"kargs\": {\"num_features\": 256}}, {\"class\": \"Linear\", \"kargs\": {\"in_features\": 256, \"out_features\": 256}}], \"NUM_LOGS_PER_EPOCH\": 10, \"BEST_MODEL_PATH\": \"./best_model.pth\", \"pickle_name\": \"wisig.node3-19.stratified_ds.2022A.pkl\", \"x_transforms_source\": [\"unit_mag\"], \"x_transforms_target\": [\"unit_mag\"], \"dataset_seed\": 500, \"seed\": 500}, \"results\": {\"source_test_label_accuracy\": 0.9455128205128205, \"source_test_label_loss\": 0.3238094449043274, \"target_test_label_accuracy\": 0.8696581196581197, \"target_test_label_loss\": 0.7080805897712708, \"source_val_label_accuracy\": 0.9576923076923077, \"source_val_label_loss\": 0.2905917167663574, \"target_val_label_accuracy\": 0.8747863247863248, \"target_val_label_loss\": 0.6998465657234192, \"total_epochs_trained\": 19, \"total_experiment_time_secs\": 185.94388842582703, \"confusion\": {\"3\": {\"89\": {\"89\": 12}, \"4\": {\"4\": 12}, \"53\": {\"53\": 12}, \"9\": {\"9\": 12}, \"86\": {\"43\": 1, \"86\": 10, \"21\": 1}, \"56\": {\"56\": 12}, \"91\": {\"91\": 11, \"34\": 1}, \"82\": {\"82\": 12}, \"36\": {\"36\": 11, \"27\": 1}, \"121\": {\"121\": 10, \"68\": 1, \"17\": 1}, \"66\": {\"66\": 11, \"34\": 1}, \"50\": {\"50\": 12}, \"102\": {\"102\": 12}, \"79\": {\"79\": 11, \"11\": 1}, \"78\": {\"116\": 1, \"122\": 1, \"33\": 1, \"78\": 5, \"43\": 1, \"21\": 1, \"82\": 1, \"17\": 1}, \"46\": {\"46\": 12}, \"43\": {\"43\": 11, \"78\": 1}, \"47\": {\"47\": 11, \"60\": 1}, \"95\": {\"95\": 12}, \"29\": {\"29\": 12}, \"6\": {\"6\": 11, \"78\": 1}, \"57\": {\"57\": 12}, \"118\": {\"118\": 12}, \"124\": {\"124\": 12}, \"7\": {\"7\": 12}, \"73\": {\"73\": 12}, \"111\": {\"111\": 12}, \"106\": {\"106\": 12}, \"64\": {\"64\": 12}, \"74\": {\"74\": 12}, \"24\": {\"24\": 10, \"27\": 2}, \"23\": {\"23\": 11, \"70\": 1}, \"129\": {\"129\": 12}, \"123\": {\"123\": 12}, \"87\": {\"87\": 11, \"21\": 1}, \"12\": {\"12\": 12}, \"69\": {\"69\": 12}, \"32\": {\"32\": 12}, \"71\": {\"71\": 12}, \"39\": {\"39\": 11, \"81\": 1}, \"16\": {\"17\": 1, \"16\": 11}, \"5\": {\"5\": 12}, \"65\": {\"65\": 12}, \"17\": {\"54\": 1, \"68\": 1, \"17\": 10}, \"33\": {\"33\": 12}, \"90\": {\"90\": 11, \"44\": 1}, \"10\": {\"10\": 12}, \"41\": {\"41\": 12}, \"22\": {\"22\": 11, \"9\": 1}, \"107\": {\"107\": 12}, \"81\": {\"81\": 11, \"39\": 1}, \"54\": {\"54\": 11, \"121\": 1}, \"83\": {\"83\": 10, \"112\": 2}, \"8\": {\"8\": 12}, \"105\": {\"105\": 12}, \"115\": {\"115\": 10, \"21\": 2}, \"63\": {\"63\": 12}, \"28\": {\"28\": 12}, \"103\": {\"103\": 11, \"109\": 1}, \"119\": {\"119\": 11, \"43\": 1}, \"117\": {\"117\": 12}, \"96\": {\"96\": 12}, \"120\": {\"120\": 12}, \"1\": {\"1\": 12}, \"49\": {\"49\": 12}, \"125\": {\"125\": 12}, \"35\": {\"35\": 8, \"112\": 1, \"25\": 2, \"46\": 1}, \"116\": {\"116\": 11, \"82\": 1}, \"48\": {\"48\": 12}, \"80\": {\"60\": 1, \"80\": 11}, \"97\": {\"97\": 12}, \"122\": {\"122\": 12}, \"104\": {\"54\": 1, \"104\": 11}, \"27\": {\"36\": 2, \"27\": 9, \"122\": 1}, \"68\": {\"68\": 11, \"30\": 1}, \"62\": {\"62\": 12}, \"84\": {\"84\": 12}, \"60\": {\"60\": 12}, \"34\": {\"34\": 12}, \"31\": {\"31\": 12}, \"112\": {\"112\": 11, \"17\": 1}, \"94\": {\"94\": 12}, \"128\": {\"128\": 12}, \"110\": {\"110\": 12}, \"85\": {\"85\": 12}, \"3\": {\"3\": 10, \"44\": 2}, \"38\": {\"38\": 12}, \"127\": {\"127\": 12}, \"45\": {\"45\": 12}, \"44\": {\"44\": 12}, \"113\": {\"113\": 12}, \"76\": {\"76\": 12}, \"26\": {\"26\": 12}, \"20\": {\"20\": 12}, \"18\": {\"18\": 11, \"21\": 1}, \"2\": {\"2\": 12}, \"25\": {\"25\": 12}, \"0\": {\"0\": 11, \"69\": 1}, \"42\": {\"42\": 11, \"27\": 1}, \"93\": {\"93\": 12}, \"114\": {\"114\": 12}, \"109\": {\"109\": 12}, \"100\": {\"100\": 12}, \"40\": {\"40\": 11, \"18\": 1}, \"21\": {\"21\": 11, \"43\": 1}, \"67\": {\"67\": 12}, \"92\": {\"92\": 10, \"21\": 1, \"75\": 1}, \"75\": {\"75\": 12}, \"126\": {\"126\": 12}, \"55\": {\"55\": 12}, \"98\": {\"98\": 12}, \"37\": {\"37\": 11, \"21\": 1}, \"51\": {\"51\": 12}, \"15\": {\"15\": 12}, \"70\": {\"70\": 11, \"17\": 1}, \"101\": {\"101\": 11, \"17\": 1}, \"88\": {\"88\": 11, \"53\": 1}, \"14\": {\"14\": 12}, \"59\": {\"59\": 12}, \"11\": {\"11\": 10, \"129\": 2}, \"19\": {\"19\": 12}, \"61\": {\"61\": 12}, \"72\": {\"72\": 12}, \"13\": {\"13\": 11, \"78\": 1}, \"52\": {\"52\": 12}, \"99\": {\"99\": 12}, \"77\": {\"77\": 12}, \"108\": {\"108\": 11, \"36\": 1}, \"58\": {\"58\": 11, \"15\": 1}, \"30\": {\"30\": 12}}, \"2\": {\"108\": {\"108\": 12}, \"17\": {\"17\": 7, \"95\": 1, \"122\": 3, \"25\": 1}, \"4\": {\"4\": 12}, \"9\": {\"9\": 12}, \"54\": {\"54\": 12}, \"49\": {\"11\": 7, \"49\": 2, \"77\": 1, \"44\": 2}, \"57\": {\"57\": 12}, \"128\": {\"71\": 3, \"0\": 1, \"114\": 2, \"128\": 6}, \"62\": {\"62\": 12}, \"30\": {\"30\": 11, \"97\": 1}, \"79\": {\"79\": 12}, \"117\": {\"117\": 12}, \"65\": {\"65\": 12}, \"103\": {\"103\": 11, \"79\": 1}, \"58\": {\"58\": 12}, \"112\": {\"53\": 5, \"112\": 3, \"128\": 1, \"42\": 3}, \"47\": {\"47\": 10, \"29\": 1, \"88\": 1}, \"90\": {\"90\": 12}, \"84\": {\"84\": 11, \"24\": 1}, \"96\": {\"47\": 1, \"96\": 7, \"88\": 3, \"72\": 1}, \"60\": {\"60\": 11, \"61\": 1}, \"6\": {\"6\": 12}, \"29\": {\"29\": 12}, \"106\": {\"106\": 11, \"12\": 1}, \"123\": {\"123\": 11, \"6\": 1}, \"7\": {\"94\": 1, \"35\": 1, \"7\": 10}, \"32\": {\"32\": 9, \"14\": 3}, \"38\": {\"38\": 12}, \"27\": {\"27\": 7, \"17\": 1, \"36\": 3, \"8\": 1}, \"53\": {\"53\": 12}, \"87\": {\"107\": 1, \"84\": 2, \"45\": 1, \"87\": 6, \"21\": 1, \"25\": 1}, \"97\": {\"97\": 11, \"61\": 1}, \"24\": {\"24\": 7, \"36\": 2, \"13\": 1, \"45\": 1, \"71\": 1}, \"80\": {\"14\": 2, \"80\": 10}, \"124\": {\"124\": 11, \"57\": 1}, \"88\": {\"88\": 8, \"96\": 1, \"100\": 1, \"93\": 1, \"126\": 1}, \"12\": {\"111\": 2, \"12\": 10}, \"70\": {\"70\": 7, \"43\": 2, \"33\": 2, \"88\": 1}, \"33\": {\"33\": 11, \"67\": 1}, \"22\": {\"22\": 12}, \"104\": {\"7\": 1, \"104\": 10, \"86\": 1}, \"16\": {\"16\": 12}, \"5\": {\"5\": 12}, \"66\": {\"66\": 11, \"119\": 1}, \"113\": {\"113\": 12}, \"34\": {\"66\": 2, \"34\": 8, \"91\": 1, \"27\": 1}, \"91\": {\"91\": 12}, \"10\": {\"62\": 2, \"10\": 7, \"105\": 1, \"17\": 1, \"68\": 1}, \"83\": {\"83\": 12}, \"23\": {\"23\": 11, \"29\": 1}, \"92\": {\"89\": 2, \"76\": 1, \"24\": 2, \"92\": 6, \"57\": 1}, \"95\": {\"95\": 11, \"40\": 1}, \"116\": {\"116\": 9, \"60\": 2, \"57\": 1}, \"43\": {\"78\": 3, \"110\": 2, \"43\": 7}, \"8\": {\"8\": 9, \"80\": 1, \"124\": 2}, \"68\": {\"68\": 11, \"52\": 1}, \"110\": {\"110\": 9, \"122\": 2, \"121\": 1}, \"64\": {\"64\": 11, \"88\": 1}, \"74\": {\"94\": 1, \"74\": 9, \"72\": 1, \"27\": 1}, \"41\": {\"41\": 12}, \"120\": {\"120\": 11, \"39\": 1}, \"118\": {\"118\": 12}, \"107\": {\"27\": 1, \"78\": 1, \"107\": 8, \"112\": 1, \"61\": 1}, \"82\": {\"82\": 11, \"43\": 1}, \"1\": {\"1\": 12}, \"50\": {\"50\": 11, \"62\": 1}, \"126\": {\"126\": 11, \"88\": 1}, \"36\": {\"36\": 11, \"24\": 1}, \"46\": {\"46\": 12}, \"48\": {\"48\": 12}, \"81\": {\"81\": 12}, \"98\": {\"98\": 11, \"57\": 1}, \"73\": {\"73\": 10, \"6\": 1, \"1\": 1}, \"105\": {\"105\": 12}, \"28\": {\"28\": 11, \"36\": 1}, \"69\": {\"7\": 1, \"69\": 9, \"102\": 2}, \"63\": {\"63\": 12}, \"85\": {\"85\": 12}, \"122\": {\"122\": 9, \"110\": 2, \"128\": 1}, \"35\": {\"35\": 11, \"7\": 1}, \"31\": {\"31\": 10, \"57\": 1, \"118\": 1}, \"125\": {\"125\": 12}, \"121\": {\"121\": 12}, \"119\": {\"119\": 12}, \"111\": {\"111\": 12}, \"86\": {\"86\": 12}, \"3\": {\"71\": 4, \"3\": 8}, \"39\": {\"39\": 12}, \"78\": {\"21\": 1, \"78\": 6, \"84\": 1, \"43\": 3, \"116\": 1}, \"45\": {\"45\": 9, \"94\": 1, \"34\": 2}, \"44\": {\"44\": 12}, \"114\": {\"114\": 12}, \"76\": {\"76\": 12}, \"26\": {\"26\": 12}, \"20\": {\"20\": 11, \"126\": 1}, \"18\": {\"18\": 11, \"21\": 1}, \"2\": {\"2\": 12}, \"25\": {\"25\": 12}, \"0\": {\"101\": 3, \"0\": 9}, \"42\": {\"42\": 12}, \"94\": {\"12\": 1, \"36\": 1, \"94\": 8, \"25\": 1, \"27\": 1}, \"115\": {\"115\": 11, \"72\": 1}, \"55\": {\"61\": 1, \"55\": 10, \"65\": 1}, \"101\": {\"101\": 12}, \"40\": {\"94\": 1, \"40\": 11}, \"21\": {\"21\": 11, \"43\": 1}, \"67\": {\"67\": 8, \"17\": 1, \"37\": 1, \"3\": 1, \"126\": 1}, \"93\": {\"93\": 12}, \"75\": {\"75\": 11, \"25\": 1}, \"127\": {\"127\": 11, \"6\": 1}, \"56\": {\"56\": 12}, \"99\": {\"99\": 12}, \"37\": {\"37\": 12}, \"51\": {\"58\": 6, \"78\": 1, \"51\": 4, \"98\": 1}, \"15\": {\"15\": 11, \"36\": 1}, \"71\": {\"71\": 10, \"45\": 1, \"24\": 1}, \"102\": {\"102\": 12}, \"89\": {\"89\": 9, \"92\": 3}, \"14\": {\"14\": 8, \"94\": 1, \"32\": 2, \"27\": 1}, \"129\": {\"129\": 11, \"49\": 1}, \"11\": {\"11\": 10, \"70\": 1, \"49\": 1}, \"19\": {\"19\": 12}, \"61\": {\"61\": 10, \"25\": 1, \"27\": 1}, \"72\": {\"96\": 1, \"72\": 10, \"27\": 1}, \"13\": {\"60\": 1, \"18\": 1, \"13\": 7, \"36\": 1, \"88\": 1, \"96\": 1}, \"52\": {\"94\": 1, \"83\": 1, \"52\": 9, \"13\": 1}, \"100\": {\"100\": 12}, \"77\": {\"77\": 12}, \"109\": {\"0\": 1, \"109\": 9, \"81\": 1, \"16\": 1}, \"59\": {\"59\": 10, \"25\": 2}}, \"4\": {\"1\": {\"100\": 1, \"1\": 8, \"104\": 1, \"33\": 2}, \"123\": {\"123\": 12}, \"122\": {\"122\": 7, \"43\": 3, \"99\": 1, \"78\": 1}, \"87\": {\"78\": 1, \"87\": 8, \"43\": 2, \"30\": 1}, \"125\": {\"125\": 12}, \"54\": {\"54\": 12}, \"55\": {\"55\": 12}, \"77\": {\"77\": 11, \"57\": 1}, \"0\": {\"0\": 8, \"55\": 1, \"101\": 3}, \"44\": {\"44\": 12}, \"58\": {\"58\": 12}, \"66\": {\"66\": 9, \"44\": 1, \"90\": 2}, \"24\": {\"24\": 5, \"21\": 1, \"97\": 1, \"23\": 1, \"27\": 1, \"36\": 2, \"10\": 1}, \"14\": {\"14\": 11, \"21\": 1}, \"25\": {\"25\": 12}, \"17\": {\"17\": 12}, \"76\": {\"76\": 12}, \"2\": {\"2\": 10, \"26\": 1, \"93\": 1}, \"75\": {\"75\": 12}, \"9\": {\"9\": 12}, \"116\": {\"116\": 12}, \"126\": {\"21\": 1, \"126\": 11}, \"32\": {\"120\": 3, \"82\": 1, \"32\": 3, \"99\": 3, \"55\": 1, \"57\": 1}, \"13\": {\"13\": 12}, \"48\": {\"48\": 12}, \"81\": {\"81\": 10, \"39\": 2}, \"39\": {\"39\": 11, \"81\": 1}, \"18\": {\"108\": 1, \"18\": 11}, \"113\": {\"113\": 12}, \"86\": {\"86\": 11, \"42\": 1}, \"92\": {\"92\": 12}, \"118\": {\"118\": 11, \"21\": 1}, \"97\": {\"97\": 8, \"36\": 2, \"23\": 1, \"24\": 1}, \"108\": {\"73\": 1, \"19\": 1, \"21\": 1, \"108\": 9}, \"119\": {\"119\": 12}, \"107\": {\"107\": 12}, \"129\": {\"129\": 10, \"46\": 1, \"73\": 1}, \"28\": {\"28\": 11, \"35\": 1}, \"30\": {\"30\": 12}, \"100\": {\"100\": 12}, \"85\": {\"85\": 10, \"98\": 2}, \"36\": {\"36\": 10, \"10\": 1, \"97\": 1}, \"120\": {\"120\": 9, \"23\": 1, \"45\": 2}, \"74\": {\"74\": 12}, \"57\": {\"57\": 12}, \"102\": {\"102\": 11, \"23\": 1}, \"38\": {\"38\": 8, \"90\": 4}, \"29\": {\"29\": 12}, \"79\": {\"79\": 12}, \"5\": {\"5\": 11, \"21\": 1}, \"73\": {\"73\": 10, \"108\": 2}, \"99\": {\"99\": 10, \"78\": 2}, \"16\": {\"16\": 11, \"29\": 1}, \"15\": {\"15\": 11, \"94\": 1}, \"71\": {\"71\": 12}, \"20\": {\"20\": 12}, \"4\": {\"95\": 3, \"4\": 8, \"127\": 1}, \"114\": {\"114\": 12}, \"112\": {\"112\": 11, \"23\": 1}, \"62\": {\"62\": 10, \"31\": 1, \"118\": 1}, \"22\": {\"22\": 12}, \"45\": {\"45\": 12}, \"23\": {\"21\": 1, \"48\": 1, \"23\": 7, \"51\": 1, \"67\": 1, \"121\": 1}, \"69\": {\"69\": 11, \"21\": 1}, \"12\": {\"12\": 9, \"111\": 2, \"68\": 1}, \"6\": {\"51\": 2, \"59\": 3, \"6\": 7}, \"31\": {\"31\": 12}, \"104\": {\"104\": 12}, \"72\": {\"72\": 12}, \"103\": {\"103\": 12}, \"110\": {\"110\": 9, \"14\": 1, \"60\": 1, \"57\": 1}, \"43\": {\"43\": 11, \"122\": 1}, \"67\": {\"67\": 8, \"63\": 2, \"17\": 2}, \"33\": {\"33\": 10, \"1\": 2}, \"65\": {\"65\": 12}, \"95\": {\"95\": 11, \"23\": 1}, \"96\": {\"14\": 2, \"96\": 9, \"109\": 1}, \"111\": {\"111\": 12}, \"70\": {\"70\": 9, \"88\": 1, \"21\": 1, \"5\": 1}, \"60\": {\"60\": 9, \"74\": 1, \"33\": 1, \"50\": 1}, \"98\": {\"98\": 11, \"85\": 1}, \"124\": {\"124\": 12}, \"128\": {\"60\": 4, \"7\": 2, \"128\": 2, \"29\": 2, \"72\": 2}, \"109\": {\"109\": 11, \"16\": 1}, \"59\": {\"59\": 12}, \"37\": {\"37\": 12}, \"42\": {\"42\": 10, \"103\": 1, \"33\": 1}, \"64\": {\"64\": 12}, \"40\": {\"40\": 11, \"8\": 1}, \"50\": {\"50\": 11, \"35\": 1}, \"83\": {\"83\": 10, \"81\": 1, \"79\": 1}, \"121\": {\"121\": 10, \"20\": 1, \"63\": 1}, \"3\": {\"3\": 12}, \"84\": {\"84\": 12}, \"63\": {\"63\": 11, \"23\": 1}, \"90\": {\"90\": 12}, \"10\": {\"10\": 7, \"24\": 3, \"30\": 2}, \"94\": {\"94\": 12}, \"8\": {\"8\": 12}, \"7\": {\"7\": 12}, \"115\": {\"115\": 5, \"64\": 2, \"88\": 1, \"17\": 2, \"67\": 1, \"86\": 1}, \"105\": {\"105\": 4, \"87\": 8}, \"49\": {\"49\": 8, \"80\": 1, \"53\": 3}, \"101\": {\"101\": 11, \"0\": 1}, \"80\": {\"80\": 11, \"65\": 1}, \"61\": {\"61\": 12}, \"19\": {\"19\": 11, \"88\": 1}, \"52\": {\"52\": 12}, \"46\": {\"46\": 10, \"88\": 1, \"33\": 1}, \"127\": {\"127\": 12}, \"26\": {\"26\": 10, \"2\": 2}, \"21\": {\"21\": 8, \"0\": 2, \"44\": 1, \"115\": 1}, \"11\": {\"11\": 12}, \"91\": {\"91\": 12}, \"27\": {\"27\": 10, \"8\": 1, \"21\": 1}, \"117\": {\"117\": 11, \"21\": 1}, \"51\": {\"125\": 5, \"59\": 4, \"58\": 2, \"8\": 1}, \"47\": {\"47\": 12}, \"56\": {\"56\": 11, \"9\": 1}, \"89\": {\"23\": 1, \"89\": 11}, \"88\": {\"88\": 7, \"108\": 4, \"23\": 1}, \"78\": {\"116\": 1, \"10\": 1, \"43\": 3, \"78\": 4, \"30\": 1, \"21\": 1, \"87\": 1}, \"34\": {\"28\": 2, \"75\": 1, \"34\": 9}, \"53\": {\"53\": 11, \"85\": 1}, \"93\": {\"93\": 11, \"109\": 1}, \"106\": {\"21\": 1, \"106\": 11}, \"68\": {\"68\": 12}, \"35\": {\"35\": 12}, \"41\": {\"52\": 3, \"128\": 1, \"41\": 8}, \"82\": {\"82\": 10, \"118\": 2}}, \"1\": {\"19\": {\"20\": 2, \"19\": 8, \"21\": 1, \"72\": 1}, \"111\": {\"111\": 12}, \"65\": {\"22\": 1, \"65\": 7, \"63\": 1, \"76\": 2, \"78\": 1}, \"29\": {\"29\": 12}, \"8\": {\"8\": 8, \"80\": 3, \"120\": 1}, \"12\": {\"12\": 10, \"68\": 1, \"111\": 1}, \"74\": {\"74\": 12}, \"126\": {\"126\": 12}, \"88\": {\"88\": 9, \"97\": 1, \"36\": 2}, \"123\": {\"123\": 12}, \"89\": {\"89\": 12}, \"119\": {\"119\": 12}, \"47\": {\"47\": 12}, \"69\": {\"69\": 12}, \"94\": {\"94\": 12}, \"95\": {\"95\": 12}, \"104\": {\"104\": 12}, \"7\": {\"7\": 12}, \"116\": {\"116\": 8, \"22\": 2, \"61\": 2}, \"39\": {\"39\": 11, \"65\": 1}, \"36\": {\"36\": 12}, \"49\": {\"49\": 4, \"15\": 1, \"30\": 1, \"12\": 1, \"104\": 3, \"31\": 1, \"53\": 1}, \"112\": {\"112\": 12}, \"34\": {\"34\": 5, \"31\": 4, \"125\": 2, \"60\": 1}, \"64\": {\"64\": 12}, \"99\": {\"99\": 12}, \"2\": {\"11\": 5, \"2\": 6, \"57\": 1}, \"100\": {\"100\": 11, \"69\": 1}, \"80\": {\"80\": 12}, \"56\": {\"56\": 12}, \"117\": {\"117\": 12}, \"125\": {\"125\": 12}, \"108\": {\"108\": 11, \"109\": 1}, \"40\": {\"43\": 1, \"40\": 9, \"105\": 2}, \"48\": {\"48\": 12}, \"129\": {\"2\": 1, \"129\": 10, \"72\": 1}, \"38\": {\"38\": 12}, \"46\": {\"46\": 4, \"94\": 4, \"54\": 3, \"53\": 1}, \"63\": {\"63\": 12}, \"28\": {\"28\": 11, \"70\": 1}, \"0\": {\"0\": 12}, \"70\": {\"70\": 8, \"21\": 1, \"49\": 1, \"73\": 1, \"128\": 1}, \"115\": {\"115\": 12}, \"62\": {\"62\": 12}, \"67\": {\"67\": 12}, \"91\": {\"91\": 11, \"6\": 1}, \"22\": {\"116\": 2, \"22\": 9, \"23\": 1}, \"1\": {\"1\": 12}, \"96\": {\"96\": 11, \"2\": 1}, \"120\": {\"120\": 12}, \"20\": {\"20\": 12}, \"11\": {\"11\": 10, \"82\": 2}, \"25\": {\"25\": 12}, \"4\": {\"4\": 12}, \"124\": {\"124\": 12}, \"50\": {\"50\": 12}, \"58\": {\"58\": 12}, \"128\": {\"70\": 1, \"128\": 9, \"72\": 1, \"19\": 1}, \"43\": {\"43\": 11, \"122\": 1}, \"35\": {\"35\": 12}, \"75\": {\"75\": 12}, \"30\": {\"30\": 10, \"75\": 1, \"94\": 1}, \"32\": {\"110\": 5, \"32\": 5, \"68\": 2}, \"79\": {\"79\": 12}, \"59\": {\"59\": 10, \"61\": 1, \"121\": 1}, \"14\": {\"14\": 12}, \"60\": {\"34\": 5, \"60\": 5, \"83\": 1, \"123\": 1}, \"31\": {\"31\": 12}, \"71\": {\"71\": 11, \"53\": 1}, \"118\": {\"118\": 12}, \"77\": {\"77\": 11, \"88\": 1}, \"86\": {\"86\": 9, \"27\": 1, \"98\": 2}, \"23\": {\"23\": 5, \"32\": 1, \"58\": 1, \"44\": 4, \"78\": 1}, \"84\": {\"84\": 12}, \"107\": {\"107\": 11, \"93\": 1}, \"42\": {\"42\": 7, \"91\": 2, \"45\": 1, \"104\": 1, \"109\": 1}, \"110\": {\"110\": 12}, \"27\": {\"27\": 12}, \"24\": {\"24\": 12}, \"51\": {\"51\": 11, \"98\": 1}, \"54\": {\"54\": 11, \"46\": 1}, \"18\": {\"18\": 11, \"2\": 1}, \"81\": {\"81\": 11, \"65\": 1}, \"109\": {\"2\": 1, \"109\": 11}, \"121\": {\"121\": 11, \"76\": 1}, \"113\": {\"113\": 12}, \"82\": {\"82\": 11, \"33\": 1}, \"21\": {\"30\": 1, \"21\": 10, \"87\": 1}, \"16\": {\"16\": 12}, \"45\": {\"43\": 1, \"45\": 4, \"44\": 4, \"61\": 1, \"29\": 2}, \"53\": {\"53\": 12}, \"122\": {\"122\": 11, \"78\": 1}, \"92\": {\"92\": 12}, \"87\": {\"87\": 10, \"21\": 1, \"24\": 1}, \"76\": {\"76\": 12}, \"127\": {\"127\": 12}, \"61\": {\"61\": 12}, \"5\": {\"5\": 12}, \"3\": {\"3\": 12}, \"114\": {\"114\": 12}, \"13\": {\"13\": 12}, \"33\": {\"33\": 12}, \"105\": {\"105\": 12}, \"78\": {\"78\": 4, \"87\": 2, \"43\": 3, \"21\": 1, \"105\": 1, \"61\": 1}, \"52\": {\"52\": 12}, \"98\": {\"98\": 12}, \"55\": {\"55\": 12}, \"85\": {\"0\": 2, \"85\": 10}, \"26\": {\"26\": 12}, \"68\": {\"68\": 11, \"106\": 1}, \"6\": {\"6\": 9, \"52\": 1, \"21\": 1, \"98\": 1}, \"37\": {\"37\": 12}, \"90\": {\"90\": 12}, \"72\": {\"72\": 12}, \"93\": {\"93\": 9, \"107\": 3}, \"102\": {\"102\": 12}, \"66\": {\"66\": 11, \"64\": 1}, \"73\": {\"73\": 12}, \"44\": {\"44\": 12}, \"103\": {\"103\": 10, \"9\": 2}, \"101\": {\"101\": 12}, \"41\": {\"41\": 12}, \"10\": {\"10\": 12}, \"15\": {\"15\": 10, \"111\": 2}, \"97\": {\"108\": 1, \"97\": 9, \"104\": 1, \"126\": 1}, \"83\": {\"83\": 10, \"60\": 2}, \"17\": {\"17\": 11, \"61\": 1}, \"9\": {\"9\": 12}, \"57\": {\"57\": 12}, \"106\": {\"106\": 12}}}, \"per_domain_accuracy\": {\"3\": {\"accuracy\": 0.9576923076923077, \"source?\": true}, \"2\": {\"accuracy\": 0.8641025641025641, \"source?\": false}, \"4\": {\"accuracy\": 0.8621794871794872, \"source?\": false}, \"1\": {\"accuracy\": 0.8980769230769231, \"source?\": false}}}, \"history\": {\"epoch_indices\": [1, 2, 3, 4, 5, 6, 7, 8, 9, 10, 11, 12, 13, 14, 15, 16, 17, 18, 19], \"train_label_loss\": [2.4647836791144475, 1.0218012094497682, 0.6904554353819953, 0.498744523525238, 0.36875150236818527, 0.2871680564350552, 0.22443246046702067, 0.20197357303566402, 0.17131057646539477, 0.15028956507643063, 0.14568372087346182, 0.14873902383777832, 0.1450379740032885, 0.12078244098358684, 0.10705504309799936, 0.0950618200831943, 0.08922510225739744, 0.10604165527555677, 0.08655774022142092], \"source_val_label_loss\": [1.3301981687545776, 0.8774183988571167, 0.6654704809188843, 0.5148001909255981, 0.43967539072036743, 0.3756697177886963, 0.35091325640678406, 0.3372461497783661, 0.3178023099899292, 0.31064701080322266, 0.30994105339050293, 0.2980337142944336, 0.2981513738632202, 0.30977410078048706, 0.2905917167663574, 0.3203204274177551, 0.3003421425819397, 0.2957202196121216, 0.2978764772415161], \"target_val_label_loss\": [1.5811485052108765, 1.1907213926315308, 1.040399193763733, 0.9177234768867493, 0.8502030372619629, 0.7927797436714172, 0.7681813836097717, 0.771257221698761, 0.7534113526344299, 0.7240099310874939, 0.7250109910964966, 0.6997533440589905, 0.7194023132324219, 0.7206324338912964, 0.6998465657234192, 0.7144463658332825, 0.7282864451408386, 0.7384240627288818, 0.7143096327781677], \"source_val_acc_label\": [0.7993589743589744, 0.8576923076923076, 0.8910256410256411, 0.9134615384615384, 0.9256410256410257, 0.9423076923076923, 0.9467948717948718, 0.9551282051282052, 0.9532051282051283, 0.9583333333333334, 0.9557692307692308, 0.9557692307692308, 0.9557692307692308, 0.9551282051282052, 0.9576923076923077, 0.9576923076923077, 0.9583333333333334, 0.9551282051282052, 0.9570512820512821], \"target_val_acc_label\": [0.7267094017094017, 0.7799145299145299, 0.8111111111111111, 0.8271367521367521, 0.841025641025641, 0.8555555555555555, 0.857051282051282, 0.8634615384615385, 0.8647435897435898, 0.8655982905982906, 0.8658119658119658, 0.8732905982905983, 0.8681623931623932, 0.8677350427350428, 0.8747863247863248, 0.8730769230769231, 0.8675213675213675, 0.8694444444444445, 0.8675213675213675]}, \"dataset_metrics\": {\"source\": {\"train\": {\"n_unique_x\": 19776, \"n_unique_y\": 130, \"n_batch/episode\": 45}, \"val\": {\"n_unique_x\": 3146, \"n_unique_y\": 130, \"n_batch/episode\": 6}, \"test\": {\"n_unique_x\": 3181, \"n_unique_y\": 130, \"n_batch/episode\": 6}}, \"target\": {\"train\": {\"n_unique_x\": 60289, \"n_unique_y\": 130, \"n_batch/episode\": 138}, \"val\": {\"n_unique_x\": 9546, \"n_unique_y\": 130, \"n_batch/episode\": 18}, \"test\": {\"n_unique_x\": 9600, \"n_unique_y\": 130, \"n_batch/episode\": 18}}}}'"
      ]
     },
     "execution_count": 20,
     "metadata": {},
     "output_type": "execute_result"
    }
   ],
   "source": [
    "json.dumps(experiment)"
   ]
  }
 ],
 "metadata": {
  "celltoolbar": "Tags",
  "kernelspec": {
   "display_name": "Python 3 (ipykernel)",
   "language": "python",
   "name": "python3"
  },
  "language_info": {
   "codemirror_mode": {
    "name": "ipython",
    "version": 3
   },
   "file_extension": ".py",
   "mimetype": "text/x-python",
   "name": "python",
   "nbconvert_exporter": "python",
   "pygments_lexer": "ipython3",
   "version": "3.8.10"
  },
  "papermill": {
   "default_parameters": {},
   "duration": 197.417904,
   "end_time": "2022-03-22T16:51:08.558450",
   "environment_variables": {},
   "exception": null,
   "input_path": "/mnt/wd500GB/CSC500/csc500-main/csc500-notebooks/templates/ptn_template.ipynb",
   "output_path": "trial.ipynb",
   "parameters": {
    "parameters": {
     "BEST_MODEL_PATH": "./best_model.pth",
     "NUM_LOGS_PER_EPOCH": 10,
     "criteria_for_best": "target_accuracy",
     "dataset_seed": 500,
     "device": "cuda",
     "domains_source": [
      3
     ],
     "domains_target": [
      1,
      2,
      4
     ],
     "episode_transforms_source": [],
     "episode_transforms_target": [],
     "experiment_name": "tuned_1v2:wisig",
     "labels_source": [
      "1-10",
      "1-12",
      "1-14",
      "1-16",
      "1-18",
      "1-19",
      "1-8",
      "10-11",
      "10-17",
      "10-4",
      "10-7",
      "11-1",
      "11-10",
      "11-19",
      "11-20",
      "11-4",
      "11-7",
      "12-19",
      "12-20",
      "12-7",
      "13-14",
      "13-18",
      "13-19",
      "13-20",
      "13-3",
      "13-7",
      "14-10",
      "14-11",
      "14-12",
      "14-13",
      "14-14",
      "14-19",
      "14-20",
      "14-7",
      "14-8",
      "14-9",
      "15-1",
      "15-19",
      "15-6",
      "16-1",
      "16-16",
      "16-19",
      "16-20",
      "17-10",
      "17-11",
      "18-1",
      "18-10",
      "18-11",
      "18-12",
      "18-13",
      "18-14",
      "18-15",
      "18-16",
      "18-17",
      "18-19",
      "18-2",
      "18-20",
      "18-4",
      "18-5",
      "18-7",
      "18-8",
      "18-9",
      "19-1",
      "19-10",
      "19-11",
      "19-12",
      "19-13",
      "19-14",
      "19-15",
      "19-19",
      "19-2",
      "19-20",
      "19-3",
      "19-4",
      "19-6",
      "19-7",
      "19-8",
      "19-9",
      "2-1",
      "2-13",
      "2-15",
      "2-3",
      "2-4",
      "2-5",
      "2-6",
      "2-7",
      "2-8",
      "20-1",
      "20-12",
      "20-14",
      "20-15",
      "20-16",
      "20-18",
      "20-19",
      "20-20",
      "20-3",
      "20-4",
      "20-5",
      "20-7",
      "20-8",
      "3-1",
      "3-13",
      "3-18",
      "3-2",
      "3-8",
      "4-1",
      "4-10",
      "4-11",
      "5-1",
      "5-5",
      "6-1",
      "6-15",
      "6-6",
      "7-10",
      "7-11",
      "7-12",
      "7-13",
      "7-14",
      "7-7",
      "7-8",
      "7-9",
      "8-1",
      "8-13",
      "8-14",
      "8-18",
      "8-20",
      "8-3",
      "8-8",
      "9-1",
      "9-7"
     ],
     "labels_target": [
      "1-10",
      "1-12",
      "1-14",
      "1-16",
      "1-18",
      "1-19",
      "1-8",
      "10-11",
      "10-17",
      "10-4",
      "10-7",
      "11-1",
      "11-10",
      "11-19",
      "11-20",
      "11-4",
      "11-7",
      "12-19",
      "12-20",
      "12-7",
      "13-14",
      "13-18",
      "13-19",
      "13-20",
      "13-3",
      "13-7",
      "14-10",
      "14-11",
      "14-12",
      "14-13",
      "14-14",
      "14-19",
      "14-20",
      "14-7",
      "14-8",
      "14-9",
      "15-1",
      "15-19",
      "15-6",
      "16-1",
      "16-16",
      "16-19",
      "16-20",
      "17-10",
      "17-11",
      "18-1",
      "18-10",
      "18-11",
      "18-12",
      "18-13",
      "18-14",
      "18-15",
      "18-16",
      "18-17",
      "18-19",
      "18-2",
      "18-20",
      "18-4",
      "18-5",
      "18-7",
      "18-8",
      "18-9",
      "19-1",
      "19-10",
      "19-11",
      "19-12",
      "19-13",
      "19-14",
      "19-15",
      "19-19",
      "19-2",
      "19-20",
      "19-3",
      "19-4",
      "19-6",
      "19-7",
      "19-8",
      "19-9",
      "2-1",
      "2-13",
      "2-15",
      "2-3",
      "2-4",
      "2-5",
      "2-6",
      "2-7",
      "2-8",
      "20-1",
      "20-12",
      "20-14",
      "20-15",
      "20-16",
      "20-18",
      "20-19",
      "20-20",
      "20-3",
      "20-4",
      "20-5",
      "20-7",
      "20-8",
      "3-1",
      "3-13",
      "3-18",
      "3-2",
      "3-8",
      "4-1",
      "4-10",
      "4-11",
      "5-1",
      "5-5",
      "6-1",
      "6-15",
      "6-6",
      "7-10",
      "7-11",
      "7-12",
      "7-13",
      "7-14",
      "7-7",
      "7-8",
      "7-9",
      "8-1",
      "8-13",
      "8-14",
      "8-18",
      "8-20",
      "8-3",
      "8-8",
      "9-1",
      "9-7"
     ],
     "lr": 0.0001,
     "n_epoch": 50,
     "n_query": 2,
     "n_shot": 3,
     "n_way": 130,
     "num_examples_per_domain_per_label_source": -1,
     "num_examples_per_domain_per_label_target": -1,
     "patience": 3,
     "pickle_name": "wisig.node3-19.stratified_ds.2022A.pkl",
     "seed": 500,
     "test_k_factor": 2,
     "torch_default_dtype": "torch.float32",
     "train_k_factor": 3,
     "val_k_factor": 2,
     "x_net": [
      {
       "class": "nnReshape",
       "kargs": {
        "shape": [
         -1,
         1,
         2,
         256
        ]
       }
      },
      {
       "class": "Conv2d",
       "kargs": {
        "bias": false,
        "in_channels": 1,
        "kernel_size": [
         1,
         7
        ],
        "out_channels": 256,
        "padding": [
         0,
         3
        ]
       }
      },
      {
       "class": "ReLU",
       "kargs": {
        "inplace": true
       }
      },
      {
       "class": "BatchNorm2d",
       "kargs": {
        "num_features": 256
       }
      },
      {
       "class": "Conv2d",
       "kargs": {
        "bias": true,
        "in_channels": 256,
        "kernel_size": [
         2,
         7
        ],
        "out_channels": 80,
        "padding": [
         0,
         3
        ]
       }
      },
      {
       "class": "ReLU",
       "kargs": {
        "inplace": true
       }
      },
      {
       "class": "BatchNorm2d",
       "kargs": {
        "num_features": 80
       }
      },
      {
       "class": "Flatten",
       "kargs": {}
      },
      {
       "class": "Linear",
       "kargs": {
        "in_features": 20480,
        "out_features": 256
       }
      },
      {
       "class": "ReLU",
       "kargs": {
        "inplace": true
       }
      },
      {
       "class": "BatchNorm1d",
       "kargs": {
        "num_features": 256
       }
      },
      {
       "class": "Linear",
       "kargs": {
        "in_features": 256,
        "out_features": 256
       }
      }
     ],
     "x_transforms_source": [
      "unit_mag"
     ],
     "x_transforms_target": [
      "unit_mag"
     ]
    }
   },
   "start_time": "2022-03-22T16:47:51.140546",
   "version": "2.3.4"
  }
 },
 "nbformat": 4,
 "nbformat_minor": 5
}