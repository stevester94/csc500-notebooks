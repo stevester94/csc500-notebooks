{
 "cells": [
  {
   "cell_type": "markdown",
   "id": "9fea5f46",
   "metadata": {
    "papermill": {
     "duration": 0.010034,
     "end_time": "2022-03-22T17:08:47.208743",
     "exception": false,
     "start_time": "2022-03-22T17:08:47.198709",
     "status": "completed"
    },
    "tags": []
   },
   "source": [
    "# PTN Template\n",
    "This notebook serves as a template for single dataset PTN experiments  \n",
    "It can be run on its own by setting STANDALONE to True (do a find for \"STANDALONE\" to see where)  \n",
    "But it is intended to be executed as part of a *papermill.py script. See any of the   \n",
    "experimentes with a papermill script to get started with that workflow.  "
   ]
  },
  {
   "cell_type": "code",
   "execution_count": 1,
   "id": "0902182a",
   "metadata": {
    "execution": {
     "iopub.execute_input": "2022-03-22T17:08:47.240790Z",
     "iopub.status.busy": "2022-03-22T17:08:47.240499Z",
     "iopub.status.idle": "2022-03-22T17:08:48.205274Z",
     "shell.execute_reply": "2022-03-22T17:08:48.204985Z"
    },
    "papermill": {
     "duration": 0.986682,
     "end_time": "2022-03-22T17:08:48.205342",
     "exception": false,
     "start_time": "2022-03-22T17:08:47.218660",
     "status": "completed"
    },
    "tags": []
   },
   "outputs": [],
   "source": [
    "%load_ext autoreload\n",
    "%autoreload 2\n",
    "%matplotlib inline\n",
    "\n",
    "    \n",
    "import os, json, sys, time, random\n",
    "import numpy as np\n",
    "import torch\n",
    "from torch.optim import Adam\n",
    "from  easydict import EasyDict\n",
    "import matplotlib.pyplot as plt\n",
    "\n",
    "from steves_models.steves_ptn import Steves_Prototypical_Network\n",
    "\n",
    "from steves_utils.lazy_iterable_wrapper import Lazy_Iterable_Wrapper\n",
    "from steves_utils.iterable_aggregator import Iterable_Aggregator\n",
    "from steves_utils.ptn_train_eval_test_jig import  PTN_Train_Eval_Test_Jig\n",
    "from steves_utils.torch_sequential_builder import build_sequential\n",
    "from steves_utils.torch_utils import get_dataset_metrics, ptn_confusion_by_domain_over_dataloader\n",
    "from steves_utils.utils_v2 import (per_domain_accuracy_from_confusion, get_datasets_base_path)\n",
    "from steves_utils.PTN.utils import independent_accuracy_assesment\n",
    "\n",
    "from steves_utils.stratified_dataset.episodic_accessor import Episodic_Accessor_Factory\n",
    "\n",
    "from steves_utils.ptn_do_report import (\n",
    "    get_loss_curve,\n",
    "    get_results_table,\n",
    "    get_parameters_table,\n",
    "    get_domain_accuracies,\n",
    ")\n",
    "\n",
    "from steves_utils.transforms import get_chained_transform"
   ]
  },
  {
   "cell_type": "markdown",
   "id": "41c840b4",
   "metadata": {
    "papermill": {
     "duration": 0.009465,
     "end_time": "2022-03-22T17:08:48.224636",
     "exception": false,
     "start_time": "2022-03-22T17:08:48.215171",
     "status": "completed"
    },
    "tags": []
   },
   "source": [
    "# Required Parameters\n",
    "These are allowed parameters, not defaults\n",
    "Each of these values need to be present in the injected parameters (the notebook will raise an exception if they are not present)\n",
    "\n",
    "Papermill uses the cell tag \"parameters\" to inject the real parameters below this cell.\n",
    "Enable tags to see what I mean"
   ]
  },
  {
   "cell_type": "code",
   "execution_count": 2,
   "id": "fd44eb83",
   "metadata": {
    "execution": {
     "iopub.execute_input": "2022-03-22T17:08:48.245991Z",
     "iopub.status.busy": "2022-03-22T17:08:48.245715Z",
     "iopub.status.idle": "2022-03-22T17:08:48.256762Z",
     "shell.execute_reply": "2022-03-22T17:08:48.256502Z"
    },
    "papermill": {
     "duration": 0.022636,
     "end_time": "2022-03-22T17:08:48.256818",
     "exception": false,
     "start_time": "2022-03-22T17:08:48.234182",
     "status": "completed"
    },
    "tags": []
   },
   "outputs": [],
   "source": [
    "required_parameters = {\n",
    "    \"experiment_name\",\n",
    "    \"lr\",\n",
    "    \"device\",\n",
    "    \"seed\",\n",
    "    \"dataset_seed\",\n",
    "    \"labels_source\",\n",
    "    \"labels_target\",\n",
    "    \"domains_source\",\n",
    "    \"domains_target\",\n",
    "    \"num_examples_per_domain_per_label_source\",\n",
    "    \"num_examples_per_domain_per_label_target\",\n",
    "    \"n_shot\",\n",
    "    \"n_way\",\n",
    "    \"n_query\",\n",
    "    \"train_k_factor\",\n",
    "    \"val_k_factor\",\n",
    "    \"test_k_factor\",\n",
    "    \"n_epoch\",\n",
    "    \"patience\",\n",
    "    \"criteria_for_best\",\n",
    "    \"x_transforms_source\",\n",
    "    \"x_transforms_target\",\n",
    "    \"episode_transforms_source\",\n",
    "    \"episode_transforms_target\",\n",
    "    \"pickle_name\",\n",
    "    \"x_net\",\n",
    "    \"NUM_LOGS_PER_EPOCH\",\n",
    "    \"BEST_MODEL_PATH\",\n",
    "    \"torch_default_dtype\"\n",
    "}"
   ]
  },
  {
   "cell_type": "code",
   "execution_count": 3,
   "id": "fa3f0049",
   "metadata": {
    "execution": {
     "iopub.execute_input": "2022-03-22T17:08:48.282010Z",
     "iopub.status.busy": "2022-03-22T17:08:48.281720Z",
     "iopub.status.idle": "2022-03-22T17:08:48.294086Z",
     "shell.execute_reply": "2022-03-22T17:08:48.293829Z"
    },
    "papermill": {
     "duration": 0.027642,
     "end_time": "2022-03-22T17:08:48.294145",
     "exception": false,
     "start_time": "2022-03-22T17:08:48.266503",
     "status": "completed"
    },
    "tags": [
     "parameters"
    ]
   },
   "outputs": [],
   "source": [
    "\n",
    "\n",
    "standalone_parameters = {}\n",
    "standalone_parameters[\"experiment_name\"] = \"STANDALONE PTN\"\n",
    "standalone_parameters[\"lr\"] = 0.0001\n",
    "standalone_parameters[\"device\"] = \"cuda\"\n",
    "\n",
    "standalone_parameters[\"seed\"] = 1337\n",
    "standalone_parameters[\"dataset_seed\"] = 1337\n",
    "\n",
    "\n",
    "standalone_parameters[\"num_examples_per_domain_per_label_source\"]=100\n",
    "standalone_parameters[\"num_examples_per_domain_per_label_target\"]=100\n",
    "\n",
    "standalone_parameters[\"n_shot\"] = 3\n",
    "standalone_parameters[\"n_query\"]  = 2\n",
    "standalone_parameters[\"train_k_factor\"] = 1\n",
    "standalone_parameters[\"val_k_factor\"] = 2\n",
    "standalone_parameters[\"test_k_factor\"] = 2\n",
    "\n",
    "\n",
    "standalone_parameters[\"n_epoch\"] = 100\n",
    "\n",
    "standalone_parameters[\"patience\"] = 10\n",
    "standalone_parameters[\"criteria_for_best\"] = \"target_accuracy\"\n",
    "\n",
    "standalone_parameters[\"x_transforms_source\"] = [\"unit_power\"]\n",
    "standalone_parameters[\"x_transforms_target\"] = [\"unit_power\"]\n",
    "standalone_parameters[\"episode_transforms_source\"] = []\n",
    "standalone_parameters[\"episode_transforms_target\"] = []\n",
    "\n",
    "standalone_parameters[\"torch_default_dtype\"] = \"torch.float32\" \n",
    "\n",
    "\n",
    "\n",
    "standalone_parameters[\"x_net\"] =     [\n",
    "    {\"class\": \"nnReshape\", \"kargs\": {\"shape\":[-1, 1, 2, 256]}},\n",
    "    {\"class\": \"Conv2d\", \"kargs\": { \"in_channels\":1, \"out_channels\":256, \"kernel_size\":(1,7), \"bias\":False, \"padding\":(0,3), },},\n",
    "    {\"class\": \"ReLU\", \"kargs\": {\"inplace\": True}},\n",
    "    {\"class\": \"BatchNorm2d\", \"kargs\": {\"num_features\":256}},\n",
    "\n",
    "    {\"class\": \"Conv2d\", \"kargs\": { \"in_channels\":256, \"out_channels\":80, \"kernel_size\":(2,7), \"bias\":True, \"padding\":(0,3), },},\n",
    "    {\"class\": \"ReLU\", \"kargs\": {\"inplace\": True}},\n",
    "    {\"class\": \"BatchNorm2d\", \"kargs\": {\"num_features\":80}},\n",
    "    {\"class\": \"Flatten\", \"kargs\": {}},\n",
    "\n",
    "    {\"class\": \"Linear\", \"kargs\": {\"in_features\": 80*256, \"out_features\": 256}}, # 80 units per IQ pair\n",
    "    {\"class\": \"ReLU\", \"kargs\": {\"inplace\": True}},\n",
    "    {\"class\": \"BatchNorm1d\", \"kargs\": {\"num_features\":256}},\n",
    "\n",
    "    {\"class\": \"Linear\", \"kargs\": {\"in_features\": 256, \"out_features\": 256}},\n",
    "]\n",
    "\n",
    "# Parameters relevant to results\n",
    "# These parameters will basically never need to change\n",
    "standalone_parameters[\"NUM_LOGS_PER_EPOCH\"] = 10\n",
    "standalone_parameters[\"BEST_MODEL_PATH\"] = \"./best_model.pth\"\n",
    "\n",
    "# uncomment for CORES dataset\n",
    "from steves_utils.CORES.utils import (\n",
    "    ALL_NODES,\n",
    "    ALL_NODES_MINIMUM_1000_EXAMPLES,\n",
    "    ALL_DAYS\n",
    ")\n",
    "\n",
    "\n",
    "standalone_parameters[\"labels_source\"] = ALL_NODES\n",
    "standalone_parameters[\"labels_target\"] = ALL_NODES\n",
    "\n",
    "standalone_parameters[\"domains_source\"] = [1]\n",
    "standalone_parameters[\"domains_target\"] = [2,3,4,5]\n",
    "\n",
    "standalone_parameters[\"pickle_name\"] = \"cores.stratified_ds.2022A.pkl\"\n",
    "\n",
    "\n",
    "# Uncomment these for ORACLE dataset\n",
    "# from steves_utils.ORACLE.utils_v2 import (\n",
    "#     ALL_DISTANCES_FEET,\n",
    "#     ALL_RUNS,\n",
    "#     ALL_SERIAL_NUMBERS,\n",
    "# )\n",
    "# standalone_parameters[\"labels_source\"] = ALL_SERIAL_NUMBERS\n",
    "# standalone_parameters[\"labels_target\"] = ALL_SERIAL_NUMBERS\n",
    "# standalone_parameters[\"domains_source\"] = [8,20, 38,50]\n",
    "# standalone_parameters[\"domains_target\"] = [14, 26, 32, 44, 56]\n",
    "# standalone_parameters[\"pickle_name\"] = \"oracle.frame_indexed.stratified_ds.2022A.pkl\"\n",
    "# standalone_parameters[\"num_examples_per_domain_per_label_source\"]=1000\n",
    "# standalone_parameters[\"num_examples_per_domain_per_label_target\"]=1000\n",
    "\n",
    "# Uncomment these for Metahan dataset\n",
    "# standalone_parameters[\"labels_source\"] = list(range(19))\n",
    "# standalone_parameters[\"labels_target\"] = list(range(19))\n",
    "# standalone_parameters[\"domains_source\"] = [0]\n",
    "# standalone_parameters[\"domains_target\"] = [1]\n",
    "# standalone_parameters[\"pickle_name\"] = \"metehan.stratified_ds.2022A.pkl\"\n",
    "# standalone_parameters[\"n_way\"]  = len(standalone_parameters[\"labels_source\"])\n",
    "# standalone_parameters[\"num_examples_per_domain_per_label_source\"]=200\n",
    "# standalone_parameters[\"num_examples_per_domain_per_label_target\"]=100\n",
    "\n",
    "\n",
    "standalone_parameters[\"n_way\"]  = len(standalone_parameters[\"labels_source\"])"
   ]
  },
  {
   "cell_type": "code",
   "execution_count": 4,
   "id": "c4d6d37a",
   "metadata": {
    "execution": {
     "iopub.execute_input": "2022-03-22T17:08:48.322557Z",
     "iopub.status.busy": "2022-03-22T17:08:48.322086Z",
     "iopub.status.idle": "2022-03-22T17:08:48.335292Z",
     "shell.execute_reply": "2022-03-22T17:08:48.334827Z"
    },
    "papermill": {
     "duration": 0.031502,
     "end_time": "2022-03-22T17:08:48.335394",
     "exception": false,
     "start_time": "2022-03-22T17:08:48.303892",
     "status": "completed"
    },
    "tags": [
     "injected-parameters"
    ]
   },
   "outputs": [],
   "source": [
    "# Parameters\n",
    "parameters = {\n",
    "    \"experiment_name\": \"tuned_1v2:wisig\",\n",
    "    \"device\": \"cuda\",\n",
    "    \"lr\": 0.0001,\n",
    "    \"labels_source\": [\n",
    "        \"1-10\",\n",
    "        \"1-12\",\n",
    "        \"1-14\",\n",
    "        \"1-16\",\n",
    "        \"1-18\",\n",
    "        \"1-19\",\n",
    "        \"1-8\",\n",
    "        \"10-11\",\n",
    "        \"10-17\",\n",
    "        \"10-4\",\n",
    "        \"10-7\",\n",
    "        \"11-1\",\n",
    "        \"11-10\",\n",
    "        \"11-19\",\n",
    "        \"11-20\",\n",
    "        \"11-4\",\n",
    "        \"11-7\",\n",
    "        \"12-19\",\n",
    "        \"12-20\",\n",
    "        \"12-7\",\n",
    "        \"13-14\",\n",
    "        \"13-18\",\n",
    "        \"13-19\",\n",
    "        \"13-20\",\n",
    "        \"13-3\",\n",
    "        \"13-7\",\n",
    "        \"14-10\",\n",
    "        \"14-11\",\n",
    "        \"14-12\",\n",
    "        \"14-13\",\n",
    "        \"14-14\",\n",
    "        \"14-19\",\n",
    "        \"14-20\",\n",
    "        \"14-7\",\n",
    "        \"14-8\",\n",
    "        \"14-9\",\n",
    "        \"15-1\",\n",
    "        \"15-19\",\n",
    "        \"15-6\",\n",
    "        \"16-1\",\n",
    "        \"16-16\",\n",
    "        \"16-19\",\n",
    "        \"16-20\",\n",
    "        \"17-10\",\n",
    "        \"17-11\",\n",
    "        \"18-1\",\n",
    "        \"18-10\",\n",
    "        \"18-11\",\n",
    "        \"18-12\",\n",
    "        \"18-13\",\n",
    "        \"18-14\",\n",
    "        \"18-15\",\n",
    "        \"18-16\",\n",
    "        \"18-17\",\n",
    "        \"18-19\",\n",
    "        \"18-2\",\n",
    "        \"18-20\",\n",
    "        \"18-4\",\n",
    "        \"18-5\",\n",
    "        \"18-7\",\n",
    "        \"18-8\",\n",
    "        \"18-9\",\n",
    "        \"19-1\",\n",
    "        \"19-10\",\n",
    "        \"19-11\",\n",
    "        \"19-12\",\n",
    "        \"19-13\",\n",
    "        \"19-14\",\n",
    "        \"19-15\",\n",
    "        \"19-19\",\n",
    "        \"19-2\",\n",
    "        \"19-20\",\n",
    "        \"19-3\",\n",
    "        \"19-4\",\n",
    "        \"19-6\",\n",
    "        \"19-7\",\n",
    "        \"19-8\",\n",
    "        \"19-9\",\n",
    "        \"2-1\",\n",
    "        \"2-13\",\n",
    "        \"2-15\",\n",
    "        \"2-3\",\n",
    "        \"2-4\",\n",
    "        \"2-5\",\n",
    "        \"2-6\",\n",
    "        \"2-7\",\n",
    "        \"2-8\",\n",
    "        \"20-1\",\n",
    "        \"20-12\",\n",
    "        \"20-14\",\n",
    "        \"20-15\",\n",
    "        \"20-16\",\n",
    "        \"20-18\",\n",
    "        \"20-19\",\n",
    "        \"20-20\",\n",
    "        \"20-3\",\n",
    "        \"20-4\",\n",
    "        \"20-5\",\n",
    "        \"20-7\",\n",
    "        \"20-8\",\n",
    "        \"3-1\",\n",
    "        \"3-13\",\n",
    "        \"3-18\",\n",
    "        \"3-2\",\n",
    "        \"3-8\",\n",
    "        \"4-1\",\n",
    "        \"4-10\",\n",
    "        \"4-11\",\n",
    "        \"5-1\",\n",
    "        \"5-5\",\n",
    "        \"6-1\",\n",
    "        \"6-15\",\n",
    "        \"6-6\",\n",
    "        \"7-10\",\n",
    "        \"7-11\",\n",
    "        \"7-12\",\n",
    "        \"7-13\",\n",
    "        \"7-14\",\n",
    "        \"7-7\",\n",
    "        \"7-8\",\n",
    "        \"7-9\",\n",
    "        \"8-1\",\n",
    "        \"8-13\",\n",
    "        \"8-14\",\n",
    "        \"8-18\",\n",
    "        \"8-20\",\n",
    "        \"8-3\",\n",
    "        \"8-8\",\n",
    "        \"9-1\",\n",
    "        \"9-7\",\n",
    "    ],\n",
    "    \"labels_target\": [\n",
    "        \"1-10\",\n",
    "        \"1-12\",\n",
    "        \"1-14\",\n",
    "        \"1-16\",\n",
    "        \"1-18\",\n",
    "        \"1-19\",\n",
    "        \"1-8\",\n",
    "        \"10-11\",\n",
    "        \"10-17\",\n",
    "        \"10-4\",\n",
    "        \"10-7\",\n",
    "        \"11-1\",\n",
    "        \"11-10\",\n",
    "        \"11-19\",\n",
    "        \"11-20\",\n",
    "        \"11-4\",\n",
    "        \"11-7\",\n",
    "        \"12-19\",\n",
    "        \"12-20\",\n",
    "        \"12-7\",\n",
    "        \"13-14\",\n",
    "        \"13-18\",\n",
    "        \"13-19\",\n",
    "        \"13-20\",\n",
    "        \"13-3\",\n",
    "        \"13-7\",\n",
    "        \"14-10\",\n",
    "        \"14-11\",\n",
    "        \"14-12\",\n",
    "        \"14-13\",\n",
    "        \"14-14\",\n",
    "        \"14-19\",\n",
    "        \"14-20\",\n",
    "        \"14-7\",\n",
    "        \"14-8\",\n",
    "        \"14-9\",\n",
    "        \"15-1\",\n",
    "        \"15-19\",\n",
    "        \"15-6\",\n",
    "        \"16-1\",\n",
    "        \"16-16\",\n",
    "        \"16-19\",\n",
    "        \"16-20\",\n",
    "        \"17-10\",\n",
    "        \"17-11\",\n",
    "        \"18-1\",\n",
    "        \"18-10\",\n",
    "        \"18-11\",\n",
    "        \"18-12\",\n",
    "        \"18-13\",\n",
    "        \"18-14\",\n",
    "        \"18-15\",\n",
    "        \"18-16\",\n",
    "        \"18-17\",\n",
    "        \"18-19\",\n",
    "        \"18-2\",\n",
    "        \"18-20\",\n",
    "        \"18-4\",\n",
    "        \"18-5\",\n",
    "        \"18-7\",\n",
    "        \"18-8\",\n",
    "        \"18-9\",\n",
    "        \"19-1\",\n",
    "        \"19-10\",\n",
    "        \"19-11\",\n",
    "        \"19-12\",\n",
    "        \"19-13\",\n",
    "        \"19-14\",\n",
    "        \"19-15\",\n",
    "        \"19-19\",\n",
    "        \"19-2\",\n",
    "        \"19-20\",\n",
    "        \"19-3\",\n",
    "        \"19-4\",\n",
    "        \"19-6\",\n",
    "        \"19-7\",\n",
    "        \"19-8\",\n",
    "        \"19-9\",\n",
    "        \"2-1\",\n",
    "        \"2-13\",\n",
    "        \"2-15\",\n",
    "        \"2-3\",\n",
    "        \"2-4\",\n",
    "        \"2-5\",\n",
    "        \"2-6\",\n",
    "        \"2-7\",\n",
    "        \"2-8\",\n",
    "        \"20-1\",\n",
    "        \"20-12\",\n",
    "        \"20-14\",\n",
    "        \"20-15\",\n",
    "        \"20-16\",\n",
    "        \"20-18\",\n",
    "        \"20-19\",\n",
    "        \"20-20\",\n",
    "        \"20-3\",\n",
    "        \"20-4\",\n",
    "        \"20-5\",\n",
    "        \"20-7\",\n",
    "        \"20-8\",\n",
    "        \"3-1\",\n",
    "        \"3-13\",\n",
    "        \"3-18\",\n",
    "        \"3-2\",\n",
    "        \"3-8\",\n",
    "        \"4-1\",\n",
    "        \"4-10\",\n",
    "        \"4-11\",\n",
    "        \"5-1\",\n",
    "        \"5-5\",\n",
    "        \"6-1\",\n",
    "        \"6-15\",\n",
    "        \"6-6\",\n",
    "        \"7-10\",\n",
    "        \"7-11\",\n",
    "        \"7-12\",\n",
    "        \"7-13\",\n",
    "        \"7-14\",\n",
    "        \"7-7\",\n",
    "        \"7-8\",\n",
    "        \"7-9\",\n",
    "        \"8-1\",\n",
    "        \"8-13\",\n",
    "        \"8-14\",\n",
    "        \"8-18\",\n",
    "        \"8-20\",\n",
    "        \"8-3\",\n",
    "        \"8-8\",\n",
    "        \"9-1\",\n",
    "        \"9-7\",\n",
    "    ],\n",
    "    \"episode_transforms_source\": [],\n",
    "    \"episode_transforms_target\": [],\n",
    "    \"domains_source\": [3],\n",
    "    \"domains_target\": [1, 2, 4],\n",
    "    \"num_examples_per_domain_per_label_source\": -1,\n",
    "    \"num_examples_per_domain_per_label_target\": -1,\n",
    "    \"n_shot\": 3,\n",
    "    \"n_way\": 130,\n",
    "    \"n_query\": 2,\n",
    "    \"train_k_factor\": 3,\n",
    "    \"val_k_factor\": 2,\n",
    "    \"test_k_factor\": 2,\n",
    "    \"torch_default_dtype\": \"torch.float32\",\n",
    "    \"n_epoch\": 50,\n",
    "    \"patience\": 3,\n",
    "    \"criteria_for_best\": \"target_accuracy\",\n",
    "    \"x_net\": [\n",
    "        {\"class\": \"nnReshape\", \"kargs\": {\"shape\": [-1, 1, 2, 256]}},\n",
    "        {\n",
    "            \"class\": \"Conv2d\",\n",
    "            \"kargs\": {\n",
    "                \"in_channels\": 1,\n",
    "                \"out_channels\": 256,\n",
    "                \"kernel_size\": [1, 7],\n",
    "                \"bias\": False,\n",
    "                \"padding\": [0, 3],\n",
    "            },\n",
    "        },\n",
    "        {\"class\": \"ReLU\", \"kargs\": {\"inplace\": True}},\n",
    "        {\"class\": \"BatchNorm2d\", \"kargs\": {\"num_features\": 256}},\n",
    "        {\n",
    "            \"class\": \"Conv2d\",\n",
    "            \"kargs\": {\n",
    "                \"in_channels\": 256,\n",
    "                \"out_channels\": 80,\n",
    "                \"kernel_size\": [2, 7],\n",
    "                \"bias\": True,\n",
    "                \"padding\": [0, 3],\n",
    "            },\n",
    "        },\n",
    "        {\"class\": \"ReLU\", \"kargs\": {\"inplace\": True}},\n",
    "        {\"class\": \"BatchNorm2d\", \"kargs\": {\"num_features\": 80}},\n",
    "        {\"class\": \"Flatten\", \"kargs\": {}},\n",
    "        {\"class\": \"Linear\", \"kargs\": {\"in_features\": 20480, \"out_features\": 256}},\n",
    "        {\"class\": \"ReLU\", \"kargs\": {\"inplace\": True}},\n",
    "        {\"class\": \"BatchNorm1d\", \"kargs\": {\"num_features\": 256}},\n",
    "        {\"class\": \"Linear\", \"kargs\": {\"in_features\": 256, \"out_features\": 256}},\n",
    "    ],\n",
    "    \"NUM_LOGS_PER_EPOCH\": 10,\n",
    "    \"BEST_MODEL_PATH\": \"./best_model.pth\",\n",
    "    \"pickle_name\": \"wisig.node3-19.stratified_ds.2022A.pkl\",\n",
    "    \"x_transforms_source\": [\"unit_mag\"],\n",
    "    \"x_transforms_target\": [\"unit_mag\"],\n",
    "    \"dataset_seed\": 7,\n",
    "    \"seed\": 7,\n",
    "}\n"
   ]
  },
  {
   "cell_type": "code",
   "execution_count": 5,
   "id": "8fa1cc33",
   "metadata": {
    "execution": {
     "iopub.execute_input": "2022-03-22T17:08:48.363300Z",
     "iopub.status.busy": "2022-03-22T17:08:48.363034Z",
     "iopub.status.idle": "2022-03-22T17:08:48.376809Z",
     "shell.execute_reply": "2022-03-22T17:08:48.376423Z"
    },
    "papermill": {
     "duration": 0.027532,
     "end_time": "2022-03-22T17:08:48.376899",
     "exception": false,
     "start_time": "2022-03-22T17:08:48.349367",
     "status": "completed"
    },
    "tags": []
   },
   "outputs": [],
   "source": [
    "# Set this to True if you want to run this template directly\n",
    "STANDALONE = False\n",
    "if STANDALONE:\n",
    "    print(\"parameters not injected, running with standalone_parameters\")\n",
    "    parameters = standalone_parameters\n",
    "\n",
    "if not 'parameters' in locals() and not 'parameters' in globals():\n",
    "    raise Exception(\"Parameter injection failed\")\n",
    "\n",
    "#Use an easy dict for all the parameters\n",
    "p = EasyDict(parameters)\n",
    "\n",
    "supplied_keys = set(p.keys())\n",
    "\n",
    "if  supplied_keys != required_parameters:\n",
    "    print(\"Parameters are incorrect\")\n",
    "    if len(supplied_keys - required_parameters)>0: print(\"Shouldn't have:\", str(supplied_keys - required_parameters))\n",
    "    if len(required_parameters - supplied_keys)>0: print(\"Need to have:\", str(required_parameters - supplied_keys))\n",
    "    raise RuntimeError(\"Parameters are incorrect\")\n",
    "\n"
   ]
  },
  {
   "cell_type": "code",
   "execution_count": 6,
   "id": "3a028d58",
   "metadata": {
    "execution": {
     "iopub.execute_input": "2022-03-22T17:08:48.402949Z",
     "iopub.status.busy": "2022-03-22T17:08:48.402704Z",
     "iopub.status.idle": "2022-03-22T17:08:48.413225Z",
     "shell.execute_reply": "2022-03-22T17:08:48.412842Z"
    },
    "papermill": {
     "duration": 0.022122,
     "end_time": "2022-03-22T17:08:48.413314",
     "exception": false,
     "start_time": "2022-03-22T17:08:48.391192",
     "status": "completed"
    },
    "tags": []
   },
   "outputs": [],
   "source": [
    "###################################\n",
    "# Set the RNGs and make it all deterministic\n",
    "###################################\n",
    "np.random.seed(p.seed)\n",
    "random.seed(p.seed)\n",
    "torch.manual_seed(p.seed)\n",
    "\n",
    "torch.use_deterministic_algorithms(True) "
   ]
  },
  {
   "cell_type": "code",
   "execution_count": 7,
   "id": "b691acf6",
   "metadata": {
    "execution": {
     "iopub.execute_input": "2022-03-22T17:08:48.439551Z",
     "iopub.status.busy": "2022-03-22T17:08:48.439307Z",
     "iopub.status.idle": "2022-03-22T17:08:48.453573Z",
     "shell.execute_reply": "2022-03-22T17:08:48.453857Z"
    },
    "papermill": {
     "duration": 0.026118,
     "end_time": "2022-03-22T17:08:48.453937",
     "exception": false,
     "start_time": "2022-03-22T17:08:48.427819",
     "status": "completed"
    },
    "tags": []
   },
   "outputs": [],
   "source": [
    "###########################################\n",
    "# The stratified datasets honor this\n",
    "###########################################\n",
    "torch.set_default_dtype(eval(p.torch_default_dtype))"
   ]
  },
  {
   "cell_type": "code",
   "execution_count": 8,
   "id": "b5fba671",
   "metadata": {
    "execution": {
     "iopub.execute_input": "2022-03-22T17:08:48.479208Z",
     "iopub.status.busy": "2022-03-22T17:08:48.478718Z",
     "iopub.status.idle": "2022-03-22T17:08:48.514855Z",
     "shell.execute_reply": "2022-03-22T17:08:48.515203Z"
    },
    "papermill": {
     "duration": 0.047078,
     "end_time": "2022-03-22T17:08:48.515317",
     "exception": false,
     "start_time": "2022-03-22T17:08:48.468239",
     "status": "completed"
    },
    "tags": []
   },
   "outputs": [],
   "source": [
    "###################################\n",
    "# Build the network(s)\n",
    "# Note: It's critical to do this AFTER setting the RNG\n",
    "# (This is due to the randomized initial weights)\n",
    "###################################\n",
    "x_net = build_sequential(p.x_net)"
   ]
  },
  {
   "cell_type": "code",
   "execution_count": 9,
   "id": "5d7e61cc",
   "metadata": {
    "execution": {
     "iopub.execute_input": "2022-03-22T17:08:48.541083Z",
     "iopub.status.busy": "2022-03-22T17:08:48.540835Z",
     "iopub.status.idle": "2022-03-22T17:08:48.555083Z",
     "shell.execute_reply": "2022-03-22T17:08:48.554641Z"
    },
    "papermill": {
     "duration": 0.026052,
     "end_time": "2022-03-22T17:08:48.555171",
     "exception": false,
     "start_time": "2022-03-22T17:08:48.529119",
     "status": "completed"
    },
    "tags": []
   },
   "outputs": [],
   "source": [
    "start_time_secs = time.time()"
   ]
  },
  {
   "cell_type": "code",
   "execution_count": 10,
   "id": "fd5442bc",
   "metadata": {
    "execution": {
     "iopub.execute_input": "2022-03-22T17:08:48.588395Z",
     "iopub.status.busy": "2022-03-22T17:08:48.588058Z",
     "iopub.status.idle": "2022-03-22T17:09:04.949345Z",
     "shell.execute_reply": "2022-03-22T17:09:04.948897Z"
    },
    "papermill": {
     "duration": 16.37834,
     "end_time": "2022-03-22T17:09:04.949451",
     "exception": false,
     "start_time": "2022-03-22T17:08:48.571111",
     "status": "completed"
    },
    "tags": []
   },
   "outputs": [],
   "source": [
    "###################################\n",
    "# Build the dataset\n",
    "###################################\n",
    "\n",
    "if p.x_transforms_source == []: x_transform_source = None\n",
    "else: x_transform_source = get_chained_transform(p.x_transforms_source) \n",
    "\n",
    "if p.x_transforms_target == []: x_transform_target = None\n",
    "else: x_transform_target = get_chained_transform(p.x_transforms_target)\n",
    "\n",
    "if p.episode_transforms_source == []: episode_transform_source = None\n",
    "else: raise Exception(\"episode_transform_source not implemented\")\n",
    "\n",
    "if p.episode_transforms_target == []: episode_transform_target = None\n",
    "else: raise Exception(\"episode_transform_target not implemented\")\n",
    "\n",
    "\n",
    "eaf_source = Episodic_Accessor_Factory(\n",
    "    labels=p.labels_source,\n",
    "    domains=p.domains_source,\n",
    "    num_examples_per_domain_per_label=p.num_examples_per_domain_per_label_source,\n",
    "    iterator_seed=p.seed,\n",
    "    dataset_seed=p.dataset_seed,\n",
    "    n_shot=p.n_shot,\n",
    "    n_way=p.n_way,\n",
    "    n_query=p.n_query,\n",
    "    train_val_test_k_factors=(p.train_k_factor,p.val_k_factor,p.test_k_factor),\n",
    "    pickle_path=os.path.join(get_datasets_base_path(), p.pickle_name),\n",
    "    x_transform_func=x_transform_source,\n",
    "    example_transform_func=episode_transform_source,\n",
    "    \n",
    ")\n",
    "train_original_source, val_original_source, test_original_source = eaf_source.get_train(), eaf_source.get_val(), eaf_source.get_test()\n",
    "\n",
    "\n",
    "eaf_target = Episodic_Accessor_Factory(\n",
    "    labels=p.labels_target,\n",
    "    domains=p.domains_target,\n",
    "    num_examples_per_domain_per_label=p.num_examples_per_domain_per_label_target,\n",
    "    iterator_seed=p.seed,\n",
    "    dataset_seed=p.dataset_seed,\n",
    "    n_shot=p.n_shot,\n",
    "    n_way=p.n_way,\n",
    "    n_query=p.n_query,\n",
    "    train_val_test_k_factors=(p.train_k_factor,p.val_k_factor,p.test_k_factor),\n",
    "    pickle_path=os.path.join(get_datasets_base_path(), p.pickle_name),\n",
    "    x_transform_func=x_transform_target,\n",
    "    example_transform_func=episode_transform_target,\n",
    ")\n",
    "train_original_target, val_original_target, test_original_target = eaf_target.get_train(), eaf_target.get_val(), eaf_target.get_test()\n",
    "\n",
    "\n",
    "transform_lambda = lambda ex: ex[1] # Original is (<domain>, <episode>) so we strip down to episode only\n",
    "\n",
    "train_processed_source = Lazy_Iterable_Wrapper(train_original_source, transform_lambda)\n",
    "val_processed_source   = Lazy_Iterable_Wrapper(val_original_source, transform_lambda)\n",
    "test_processed_source  = Lazy_Iterable_Wrapper(test_original_source, transform_lambda)\n",
    "\n",
    "train_processed_target = Lazy_Iterable_Wrapper(train_original_target, transform_lambda)\n",
    "val_processed_target   = Lazy_Iterable_Wrapper(val_original_target, transform_lambda)\n",
    "test_processed_target  = Lazy_Iterable_Wrapper(test_original_target, transform_lambda)\n",
    "\n",
    "datasets = EasyDict({\n",
    "    \"source\": {\n",
    "        \"original\": {\"train\":train_original_source, \"val\":val_original_source, \"test\":test_original_source},\n",
    "        \"processed\": {\"train\":train_processed_source, \"val\":val_processed_source, \"test\":test_processed_source}\n",
    "    },\n",
    "    \"target\": {\n",
    "        \"original\": {\"train\":train_original_target, \"val\":val_original_target, \"test\":test_original_target},\n",
    "        \"processed\": {\"train\":train_processed_target, \"val\":val_processed_target, \"test\":test_processed_target}\n",
    "    },\n",
    "})"
   ]
  },
  {
   "cell_type": "code",
   "execution_count": 11,
   "id": "296189d9",
   "metadata": {
    "execution": {
     "iopub.execute_input": "2022-03-22T17:09:04.979622Z",
     "iopub.status.busy": "2022-03-22T17:09:04.979363Z",
     "iopub.status.idle": "2022-03-22T17:09:06.681738Z",
     "shell.execute_reply": "2022-03-22T17:09:06.681234Z"
    },
    "papermill": {
     "duration": 1.717057,
     "end_time": "2022-03-22T17:09:06.681860",
     "exception": false,
     "start_time": "2022-03-22T17:09:04.964803",
     "status": "completed"
    },
    "tags": []
   },
   "outputs": [
    {
     "name": "stdout",
     "output_type": "stream",
     "text": [
      "Visually inspect these to see if they line up with expected values given the transforms\n",
      "x_transforms_source ['unit_mag']\n",
      "x_transforms_target ['unit_mag']\n",
      "Average magnitude, source: 1.0\n",
      "Average power, source: 1.2938575\n"
     ]
    },
    {
     "name": "stdout",
     "output_type": "stream",
     "text": [
      "Average magnitude, target: 1.0\n",
      "Average power, target: 1.2042067\n"
     ]
    }
   ],
   "source": [
    "# Some quick unit tests on the data\n",
    "from steves_utils.transforms import get_average_power, get_average_magnitude\n",
    "\n",
    "q_x, q_y, s_x, s_y, truth = next(iter(train_processed_source))\n",
    "\n",
    "assert q_x.dtype == eval(p.torch_default_dtype)\n",
    "assert s_x.dtype == eval(p.torch_default_dtype)\n",
    "\n",
    "print(\"Visually inspect these to see if they line up with expected values given the transforms\")\n",
    "print('x_transforms_source', p.x_transforms_source)\n",
    "print('x_transforms_target', p.x_transforms_target)\n",
    "print(\"Average magnitude, source:\", get_average_magnitude(q_x[0].numpy()))\n",
    "print(\"Average power, source:\", get_average_power(q_x[0].numpy()))\n",
    "\n",
    "q_x, q_y, s_x, s_y, truth = next(iter(train_processed_target))\n",
    "print(\"Average magnitude, target:\", get_average_magnitude(q_x[0].numpy()))\n",
    "print(\"Average power, target:\", get_average_power(q_x[0].numpy()))\n"
   ]
  },
  {
   "cell_type": "code",
   "execution_count": 12,
   "id": "bbdacba1",
   "metadata": {
    "execution": {
     "iopub.execute_input": "2022-03-22T17:09:06.713551Z",
     "iopub.status.busy": "2022-03-22T17:09:06.713274Z",
     "iopub.status.idle": "2022-03-22T17:09:06.778328Z",
     "shell.execute_reply": "2022-03-22T17:09:06.778081Z"
    },
    "papermill": {
     "duration": 0.079915,
     "end_time": "2022-03-22T17:09:06.778391",
     "exception": false,
     "start_time": "2022-03-22T17:09:06.698476",
     "status": "completed"
    },
    "tags": []
   },
   "outputs": [
    {
     "name": "stdout",
     "output_type": "stream",
     "text": [
      "(2, 256)\n"
     ]
    }
   ],
   "source": [
    "###################################\n",
    "# Build the model\n",
    "###################################\n",
    "model = Steves_Prototypical_Network(x_net, device=p.device, x_shape=(2,256))\n",
    "optimizer = Adam(params=model.parameters(), lr=p.lr)"
   ]
  },
  {
   "cell_type": "code",
   "execution_count": 13,
   "id": "22b39ac5",
   "metadata": {
    "execution": {
     "iopub.execute_input": "2022-03-22T17:09:06.803175Z",
     "iopub.status.busy": "2022-03-22T17:09:06.802895Z",
     "iopub.status.idle": "2022-03-22T17:11:54.044512Z",
     "shell.execute_reply": "2022-03-22T17:11:54.044097Z"
    },
    "papermill": {
     "duration": 167.255375,
     "end_time": "2022-03-22T17:11:54.044620",
     "exception": false,
     "start_time": "2022-03-22T17:09:06.789245",
     "status": "completed"
    },
    "tags": []
   },
   "outputs": [
    {
     "name": "stdout",
     "output_type": "stream",
     "text": [
      "epoch: 1, [batch: 1 / 45], examples_per_second: 1978.5178, train_label_loss: 4.7025, \n"
     ]
    },
    {
     "name": "stdout",
     "output_type": "stream",
     "text": [
      "epoch: 1, [batch: 5 / 45], examples_per_second: 3964.2394, train_label_loss: 4.0768, \n"
     ]
    },
    {
     "name": "stdout",
     "output_type": "stream",
     "text": [
      "epoch: 1, [batch: 9 / 45], examples_per_second: 4047.7836, train_label_loss: 3.4847, \n"
     ]
    },
    {
     "name": "stdout",
     "output_type": "stream",
     "text": [
      "epoch: 1, [batch: 14 / 45], examples_per_second: 4050.9105, train_label_loss: 2.8169, \n"
     ]
    },
    {
     "name": "stdout",
     "output_type": "stream",
     "text": [
      "epoch: 1, [batch: 18 / 45], examples_per_second: 4048.1833, train_label_loss: 2.5928, \n"
     ]
    },
    {
     "name": "stdout",
     "output_type": "stream",
     "text": [
      "epoch: 1, [batch: 23 / 45], examples_per_second: 3963.7376, train_label_loss: 2.1721, \n"
     ]
    },
    {
     "name": "stdout",
     "output_type": "stream",
     "text": [
      "epoch: 1, [batch: 27 / 45], examples_per_second: 4042.0089, train_label_loss: 1.8203, \n"
     ]
    },
    {
     "name": "stdout",
     "output_type": "stream",
     "text": [
      "epoch: 1, [batch: 31 / 45], examples_per_second: 4049.2926, train_label_loss: 1.6662, \n"
     ]
    },
    {
     "name": "stdout",
     "output_type": "stream",
     "text": [
      "epoch: 1, [batch: 36 / 45], examples_per_second: 4086.7961, train_label_loss: 1.5885, \n"
     ]
    },
    {
     "name": "stdout",
     "output_type": "stream",
     "text": [
      "epoch: 1, [batch: 40 / 45], examples_per_second: 4152.0695, train_label_loss: 1.6678, \n"
     ]
    },
    {
     "name": "stdout",
     "output_type": "stream",
     "text": [
      "=============================================================\n",
      "epoch: 1, source_val_acc_label: 0.7808, target_val_acc_label: 0.7276, source_val_label_loss: 1.3151, target_val_label_loss: 1.5534, \n",
      "=============================================================\n"
     ]
    },
    {
     "name": "stdout",
     "output_type": "stream",
     "text": [
      "New best\n"
     ]
    },
    {
     "name": "stdout",
     "output_type": "stream",
     "text": [
      "epoch: 2, [batch: 1 / 45], examples_per_second: 497.7390, train_label_loss: 1.3099, \n"
     ]
    },
    {
     "name": "stdout",
     "output_type": "stream",
     "text": [
      "epoch: 2, [batch: 5 / 45], examples_per_second: 4028.4005, train_label_loss: 1.1110, \n"
     ]
    },
    {
     "name": "stdout",
     "output_type": "stream",
     "text": [
      "epoch: 2, [batch: 9 / 45], examples_per_second: 4141.4873, train_label_loss: 1.1526, \n"
     ]
    },
    {
     "name": "stdout",
     "output_type": "stream",
     "text": [
      "epoch: 2, [batch: 14 / 45], examples_per_second: 4132.8066, train_label_loss: 1.1908, \n"
     ]
    },
    {
     "name": "stdout",
     "output_type": "stream",
     "text": [
      "epoch: 2, [batch: 18 / 45], examples_per_second: 4132.6308, train_label_loss: 1.3481, \n"
     ]
    },
    {
     "name": "stdout",
     "output_type": "stream",
     "text": [
      "epoch: 2, [batch: 23 / 45], examples_per_second: 4053.8572, train_label_loss: 1.0519, \n"
     ]
    },
    {
     "name": "stdout",
     "output_type": "stream",
     "text": [
      "epoch: 2, [batch: 27 / 45], examples_per_second: 4128.8741, train_label_loss: 0.9958, \n"
     ]
    },
    {
     "name": "stdout",
     "output_type": "stream",
     "text": [
      "epoch: 2, [batch: 31 / 45], examples_per_second: 4128.5958, train_label_loss: 1.0111, \n"
     ]
    },
    {
     "name": "stdout",
     "output_type": "stream",
     "text": [
      "epoch: 2, [batch: 36 / 45], examples_per_second: 4159.8096, train_label_loss: 0.9905, \n"
     ]
    },
    {
     "name": "stdout",
     "output_type": "stream",
     "text": [
      "epoch: 2, [batch: 40 / 45], examples_per_second: 4207.7023, train_label_loss: 0.9900, \n"
     ]
    },
    {
     "name": "stdout",
     "output_type": "stream",
     "text": [
      "=============================================================\n",
      "epoch: 2, source_val_acc_label: 0.8609, target_val_acc_label: 0.7880, source_val_label_loss: 0.7746, target_val_label_loss: 1.1014, \n",
      "=============================================================\n"
     ]
    },
    {
     "name": "stdout",
     "output_type": "stream",
     "text": [
      "New best\n"
     ]
    },
    {
     "name": "stdout",
     "output_type": "stream",
     "text": [
      "epoch: 3, [batch: 1 / 45], examples_per_second: 489.5310, train_label_loss: 0.6481, \n"
     ]
    },
    {
     "name": "stdout",
     "output_type": "stream",
     "text": [
      "epoch: 3, [batch: 5 / 45], examples_per_second: 4033.8290, train_label_loss: 0.8359, \n"
     ]
    },
    {
     "name": "stdout",
     "output_type": "stream",
     "text": [
      "epoch: 3, [batch: 9 / 45], examples_per_second: 4134.9421, train_label_loss: 0.8395, \n"
     ]
    },
    {
     "name": "stdout",
     "output_type": "stream",
     "text": [
      "epoch: 3, [batch: 14 / 45], examples_per_second: 4132.4244, train_label_loss: 0.6954, \n"
     ]
    },
    {
     "name": "stdout",
     "output_type": "stream",
     "text": [
      "epoch: 3, [batch: 18 / 45], examples_per_second: 4133.0772, train_label_loss: 0.6102, \n"
     ]
    },
    {
     "name": "stdout",
     "output_type": "stream",
     "text": [
      "epoch: 3, [batch: 23 / 45], examples_per_second: 4058.9547, train_label_loss: 0.7566, \n"
     ]
    },
    {
     "name": "stdout",
     "output_type": "stream",
     "text": [
      "epoch: 3, [batch: 27 / 45], examples_per_second: 4135.6541, train_label_loss: 0.7629, \n"
     ]
    },
    {
     "name": "stdout",
     "output_type": "stream",
     "text": [
      "epoch: 3, [batch: 31 / 45], examples_per_second: 4126.6882, train_label_loss: 0.3970, \n"
     ]
    },
    {
     "name": "stdout",
     "output_type": "stream",
     "text": [
      "epoch: 3, [batch: 36 / 45], examples_per_second: 4170.7463, train_label_loss: 0.5016, \n"
     ]
    },
    {
     "name": "stdout",
     "output_type": "stream",
     "text": [
      "epoch: 3, [batch: 40 / 45], examples_per_second: 4220.2455, train_label_loss: 0.6287, \n"
     ]
    },
    {
     "name": "stdout",
     "output_type": "stream",
     "text": [
      "=============================================================\n",
      "epoch: 3, source_val_acc_label: 0.8955, target_val_acc_label: 0.8135, source_val_label_loss: 0.5674, target_val_label_loss: 0.9650, \n",
      "=============================================================\n"
     ]
    },
    {
     "name": "stdout",
     "output_type": "stream",
     "text": [
      "New best\n"
     ]
    },
    {
     "name": "stdout",
     "output_type": "stream",
     "text": [
      "epoch: 4, [batch: 1 / 45], examples_per_second: 491.0459, train_label_loss: 0.7266, \n"
     ]
    },
    {
     "name": "stdout",
     "output_type": "stream",
     "text": [
      "epoch: 4, [batch: 5 / 45], examples_per_second: 4027.2862, train_label_loss: 0.5209, \n"
     ]
    },
    {
     "name": "stdout",
     "output_type": "stream",
     "text": [
      "epoch: 4, [batch: 9 / 45], examples_per_second: 4133.1258, train_label_loss: 0.6105, \n"
     ]
    },
    {
     "name": "stdout",
     "output_type": "stream",
     "text": [
      "epoch: 4, [batch: 14 / 45], examples_per_second: 4130.8303, train_label_loss: 0.6137, \n"
     ]
    },
    {
     "name": "stdout",
     "output_type": "stream",
     "text": [
      "epoch: 4, [batch: 18 / 45], examples_per_second: 4131.0043, train_label_loss: 0.4822, \n"
     ]
    },
    {
     "name": "stdout",
     "output_type": "stream",
     "text": [
      "epoch: 4, [batch: 23 / 45], examples_per_second: 4047.7710, train_label_loss: 0.6509, \n"
     ]
    },
    {
     "name": "stdout",
     "output_type": "stream",
     "text": [
      "epoch: 4, [batch: 27 / 45], examples_per_second: 4077.6975, train_label_loss: 0.4959, \n"
     ]
    },
    {
     "name": "stdout",
     "output_type": "stream",
     "text": [
      "epoch: 4, [batch: 31 / 45], examples_per_second: 4121.9822, train_label_loss: 0.4539, \n"
     ]
    },
    {
     "name": "stdout",
     "output_type": "stream",
     "text": [
      "epoch: 4, [batch: 36 / 45], examples_per_second: 4168.7005, train_label_loss: 0.3548, \n"
     ]
    },
    {
     "name": "stdout",
     "output_type": "stream",
     "text": [
      "epoch: 4, [batch: 40 / 45], examples_per_second: 4217.7808, train_label_loss: 0.3678, \n"
     ]
    },
    {
     "name": "stdout",
     "output_type": "stream",
     "text": [
      "=============================================================\n",
      "epoch: 4, source_val_acc_label: 0.9199, target_val_acc_label: 0.8378, source_val_label_loss: 0.4406, target_val_label_loss: 0.8609, \n",
      "=============================================================\n"
     ]
    },
    {
     "name": "stdout",
     "output_type": "stream",
     "text": [
      "New best\n"
     ]
    },
    {
     "name": "stdout",
     "output_type": "stream",
     "text": [
      "epoch: 5, [batch: 1 / 45], examples_per_second: 490.1401, train_label_loss: 0.5394, \n"
     ]
    },
    {
     "name": "stdout",
     "output_type": "stream",
     "text": [
      "epoch: 5, [batch: 5 / 45], examples_per_second: 4022.9525, train_label_loss: 0.4529, \n"
     ]
    },
    {
     "name": "stdout",
     "output_type": "stream",
     "text": [
      "epoch: 5, [batch: 9 / 45], examples_per_second: 4120.3781, train_label_loss: 0.2970, \n"
     ]
    },
    {
     "name": "stdout",
     "output_type": "stream",
     "text": [
      "epoch: 5, [batch: 14 / 45], examples_per_second: 4125.8130, train_label_loss: 0.4049, \n"
     ]
    },
    {
     "name": "stdout",
     "output_type": "stream",
     "text": [
      "epoch: 5, [batch: 18 / 45], examples_per_second: 4115.1476, train_label_loss: 0.4660, \n"
     ]
    },
    {
     "name": "stdout",
     "output_type": "stream",
     "text": [
      "epoch: 5, [batch: 23 / 45], examples_per_second: 4041.7245, train_label_loss: 0.3402, \n"
     ]
    },
    {
     "name": "stdout",
     "output_type": "stream",
     "text": [
      "epoch: 5, [batch: 27 / 45], examples_per_second: 4119.4971, train_label_loss: 0.2671, \n"
     ]
    },
    {
     "name": "stdout",
     "output_type": "stream",
     "text": [
      "epoch: 5, [batch: 31 / 45], examples_per_second: 4123.1979, train_label_loss: 0.2731, \n"
     ]
    },
    {
     "name": "stdout",
     "output_type": "stream",
     "text": [
      "epoch: 5, [batch: 36 / 45], examples_per_second: 4161.5176, train_label_loss: 0.5802, \n"
     ]
    },
    {
     "name": "stdout",
     "output_type": "stream",
     "text": [
      "epoch: 5, [batch: 40 / 45], examples_per_second: 4218.6358, train_label_loss: 0.3112, \n"
     ]
    },
    {
     "name": "stdout",
     "output_type": "stream",
     "text": [
      "=============================================================\n",
      "epoch: 5, source_val_acc_label: 0.9474, target_val_acc_label: 0.8481, source_val_label_loss: 0.3440, target_val_label_loss: 0.7979, \n",
      "=============================================================\n"
     ]
    },
    {
     "name": "stdout",
     "output_type": "stream",
     "text": [
      "New best\n"
     ]
    },
    {
     "name": "stdout",
     "output_type": "stream",
     "text": [
      "epoch: 6, [batch: 1 / 45], examples_per_second: 490.0970, train_label_loss: 0.3584, \n"
     ]
    },
    {
     "name": "stdout",
     "output_type": "stream",
     "text": [
      "epoch: 6, [batch: 5 / 45], examples_per_second: 4025.7341, train_label_loss: 0.2346, \n"
     ]
    },
    {
     "name": "stdout",
     "output_type": "stream",
     "text": [
      "epoch: 6, [batch: 9 / 45], examples_per_second: 4124.9072, train_label_loss: 0.2348, \n"
     ]
    },
    {
     "name": "stdout",
     "output_type": "stream",
     "text": [
      "epoch: 6, [batch: 14 / 45], examples_per_second: 4117.7207, train_label_loss: 0.2647, \n"
     ]
    },
    {
     "name": "stdout",
     "output_type": "stream",
     "text": [
      "epoch: 6, [batch: 18 / 45], examples_per_second: 4111.7775, train_label_loss: 0.3057, \n"
     ]
    },
    {
     "name": "stdout",
     "output_type": "stream",
     "text": [
      "epoch: 6, [batch: 23 / 45], examples_per_second: 4046.4228, train_label_loss: 0.3287, \n"
     ]
    },
    {
     "name": "stdout",
     "output_type": "stream",
     "text": [
      "epoch: 6, [batch: 27 / 45], examples_per_second: 4125.9044, train_label_loss: 0.3922, \n"
     ]
    },
    {
     "name": "stdout",
     "output_type": "stream",
     "text": [
      "epoch: 6, [batch: 31 / 45], examples_per_second: 4128.7537, train_label_loss: 0.4031, \n"
     ]
    },
    {
     "name": "stdout",
     "output_type": "stream",
     "text": [
      "epoch: 6, [batch: 36 / 45], examples_per_second: 4161.0705, train_label_loss: 0.3459, \n"
     ]
    },
    {
     "name": "stdout",
     "output_type": "stream",
     "text": [
      "epoch: 6, [batch: 40 / 45], examples_per_second: 4214.7390, train_label_loss: 0.2143, \n"
     ]
    },
    {
     "name": "stdout",
     "output_type": "stream",
     "text": [
      "=============================================================\n",
      "epoch: 6, source_val_acc_label: 0.9494, target_val_acc_label: 0.8547, source_val_label_loss: 0.3075, target_val_label_loss: 0.7539, \n",
      "=============================================================\n"
     ]
    },
    {
     "name": "stdout",
     "output_type": "stream",
     "text": [
      "New best\n"
     ]
    },
    {
     "name": "stdout",
     "output_type": "stream",
     "text": [
      "epoch: 7, [batch: 1 / 45], examples_per_second: 489.4547, train_label_loss: 0.3009, \n"
     ]
    },
    {
     "name": "stdout",
     "output_type": "stream",
     "text": [
      "epoch: 7, [batch: 5 / 45], examples_per_second: 4028.5791, train_label_loss: 0.1216, \n"
     ]
    },
    {
     "name": "stdout",
     "output_type": "stream",
     "text": [
      "epoch: 7, [batch: 9 / 45], examples_per_second: 4117.4549, train_label_loss: 0.3198, \n"
     ]
    },
    {
     "name": "stdout",
     "output_type": "stream",
     "text": [
      "epoch: 7, [batch: 14 / 45], examples_per_second: 4127.2070, train_label_loss: 0.1346, \n"
     ]
    },
    {
     "name": "stdout",
     "output_type": "stream",
     "text": [
      "epoch: 7, [batch: 18 / 45], examples_per_second: 4129.7215, train_label_loss: 0.2942, \n"
     ]
    },
    {
     "name": "stdout",
     "output_type": "stream",
     "text": [
      "epoch: 7, [batch: 23 / 45], examples_per_second: 4055.5807, train_label_loss: 0.2101, \n"
     ]
    },
    {
     "name": "stdout",
     "output_type": "stream",
     "text": [
      "epoch: 7, [batch: 27 / 45], examples_per_second: 4129.1680, train_label_loss: 0.1886, \n"
     ]
    },
    {
     "name": "stdout",
     "output_type": "stream",
     "text": [
      "epoch: 7, [batch: 31 / 45], examples_per_second: 4124.0134, train_label_loss: 0.2296, \n"
     ]
    },
    {
     "name": "stdout",
     "output_type": "stream",
     "text": [
      "epoch: 7, [batch: 36 / 45], examples_per_second: 4167.1177, train_label_loss: 0.2171, \n"
     ]
    },
    {
     "name": "stdout",
     "output_type": "stream",
     "text": [
      "epoch: 7, [batch: 40 / 45], examples_per_second: 4215.5748, train_label_loss: 0.2761, \n"
     ]
    },
    {
     "name": "stdout",
     "output_type": "stream",
     "text": [
      "=============================================================\n",
      "epoch: 7, source_val_acc_label: 0.9526, target_val_acc_label: 0.8603, source_val_label_loss: 0.2717, target_val_label_loss: 0.7319, \n",
      "=============================================================\n"
     ]
    },
    {
     "name": "stdout",
     "output_type": "stream",
     "text": [
      "New best\n"
     ]
    },
    {
     "name": "stdout",
     "output_type": "stream",
     "text": [
      "epoch: 8, [batch: 1 / 45], examples_per_second: 495.1857, train_label_loss: 0.1202, \n"
     ]
    },
    {
     "name": "stdout",
     "output_type": "stream",
     "text": [
      "epoch: 8, [batch: 5 / 45], examples_per_second: 4018.9954, train_label_loss: 0.1838, \n"
     ]
    },
    {
     "name": "stdout",
     "output_type": "stream",
     "text": [
      "epoch: 8, [batch: 9 / 45], examples_per_second: 4096.6463, train_label_loss: 0.3386, \n"
     ]
    },
    {
     "name": "stdout",
     "output_type": "stream",
     "text": [
      "epoch: 8, [batch: 14 / 45], examples_per_second: 4119.9347, train_label_loss: 0.1995, \n"
     ]
    },
    {
     "name": "stdout",
     "output_type": "stream",
     "text": [
      "epoch: 8, [batch: 18 / 45], examples_per_second: 4111.4364, train_label_loss: 0.2895, \n"
     ]
    },
    {
     "name": "stdout",
     "output_type": "stream",
     "text": [
      "epoch: 8, [batch: 23 / 45], examples_per_second: 4045.0876, train_label_loss: 0.3296, \n"
     ]
    },
    {
     "name": "stdout",
     "output_type": "stream",
     "text": [
      "epoch: 8, [batch: 27 / 45], examples_per_second: 4117.4440, train_label_loss: 0.2573, \n"
     ]
    },
    {
     "name": "stdout",
     "output_type": "stream",
     "text": [
      "epoch: 8, [batch: 31 / 45], examples_per_second: 4121.9947, train_label_loss: 0.1846, \n"
     ]
    },
    {
     "name": "stdout",
     "output_type": "stream",
     "text": [
      "epoch: 8, [batch: 36 / 45], examples_per_second: 4149.9076, train_label_loss: 0.2836, \n"
     ]
    },
    {
     "name": "stdout",
     "output_type": "stream",
     "text": [
      "epoch: 8, [batch: 40 / 45], examples_per_second: 4206.4039, train_label_loss: 0.1226, \n"
     ]
    },
    {
     "name": "stdout",
     "output_type": "stream",
     "text": [
      "=============================================================\n",
      "epoch: 8, source_val_acc_label: 0.9564, target_val_acc_label: 0.8650, source_val_label_loss: 0.2584, target_val_label_loss: 0.7230, \n",
      "=============================================================\n"
     ]
    },
    {
     "name": "stdout",
     "output_type": "stream",
     "text": [
      "New best\n"
     ]
    },
    {
     "name": "stdout",
     "output_type": "stream",
     "text": [
      "epoch: 9, [batch: 1 / 45], examples_per_second: 486.6672, train_label_loss: 0.1950, \n"
     ]
    },
    {
     "name": "stdout",
     "output_type": "stream",
     "text": [
      "epoch: 9, [batch: 5 / 45], examples_per_second: 4026.7524, train_label_loss: 0.1387, \n"
     ]
    },
    {
     "name": "stdout",
     "output_type": "stream",
     "text": [
      "epoch: 9, [batch: 9 / 45], examples_per_second: 4120.9511, train_label_loss: 0.3307, \n"
     ]
    },
    {
     "name": "stdout",
     "output_type": "stream",
     "text": [
      "epoch: 9, [batch: 14 / 45], examples_per_second: 4119.0409, train_label_loss: 0.1454, \n"
     ]
    },
    {
     "name": "stdout",
     "output_type": "stream",
     "text": [
      "epoch: 9, [batch: 18 / 45], examples_per_second: 4125.0835, train_label_loss: 0.1882, \n"
     ]
    },
    {
     "name": "stdout",
     "output_type": "stream",
     "text": [
      "epoch: 9, [batch: 23 / 45], examples_per_second: 4047.4585, train_label_loss: 0.1780, \n"
     ]
    },
    {
     "name": "stdout",
     "output_type": "stream",
     "text": [
      "epoch: 9, [batch: 27 / 45], examples_per_second: 4123.3132, train_label_loss: 0.2828, \n"
     ]
    },
    {
     "name": "stdout",
     "output_type": "stream",
     "text": [
      "epoch: 9, [batch: 31 / 45], examples_per_second: 4099.7943, train_label_loss: 0.2356, \n"
     ]
    },
    {
     "name": "stdout",
     "output_type": "stream",
     "text": [
      "epoch: 9, [batch: 36 / 45], examples_per_second: 4147.5124, train_label_loss: 0.2606, \n"
     ]
    },
    {
     "name": "stdout",
     "output_type": "stream",
     "text": [
      "epoch: 9, [batch: 40 / 45], examples_per_second: 4208.2885, train_label_loss: 0.1344, \n"
     ]
    },
    {
     "name": "stdout",
     "output_type": "stream",
     "text": [
      "=============================================================\n",
      "epoch: 9, source_val_acc_label: 0.9590, target_val_acc_label: 0.8673, source_val_label_loss: 0.2516, target_val_label_loss: 0.6982, \n",
      "=============================================================\n"
     ]
    },
    {
     "name": "stdout",
     "output_type": "stream",
     "text": [
      "New best\n"
     ]
    },
    {
     "name": "stdout",
     "output_type": "stream",
     "text": [
      "epoch: 10, [batch: 1 / 45], examples_per_second: 486.3950, train_label_loss: 0.1380, \n"
     ]
    },
    {
     "name": "stdout",
     "output_type": "stream",
     "text": [
      "epoch: 10, [batch: 5 / 45], examples_per_second: 4004.4588, train_label_loss: 0.2244, \n"
     ]
    },
    {
     "name": "stdout",
     "output_type": "stream",
     "text": [
      "epoch: 10, [batch: 9 / 45], examples_per_second: 4112.7808, train_label_loss: 0.1131, \n"
     ]
    },
    {
     "name": "stdout",
     "output_type": "stream",
     "text": [
      "epoch: 10, [batch: 14 / 45], examples_per_second: 4108.4017, train_label_loss: 0.1260, \n"
     ]
    },
    {
     "name": "stdout",
     "output_type": "stream",
     "text": [
      "epoch: 10, [batch: 18 / 45], examples_per_second: 4114.6383, train_label_loss: 0.2595, \n"
     ]
    },
    {
     "name": "stdout",
     "output_type": "stream",
     "text": [
      "epoch: 10, [batch: 23 / 45], examples_per_second: 4032.9250, train_label_loss: 0.1160, \n"
     ]
    },
    {
     "name": "stdout",
     "output_type": "stream",
     "text": [
      "epoch: 10, [batch: 27 / 45], examples_per_second: 4108.8432, train_label_loss: 0.1347, \n"
     ]
    },
    {
     "name": "stdout",
     "output_type": "stream",
     "text": [
      "epoch: 10, [batch: 31 / 45], examples_per_second: 4108.4980, train_label_loss: 0.1700, \n"
     ]
    },
    {
     "name": "stdout",
     "output_type": "stream",
     "text": [
      "epoch: 10, [batch: 36 / 45], examples_per_second: 4159.0887, train_label_loss: 0.1014, \n"
     ]
    },
    {
     "name": "stdout",
     "output_type": "stream",
     "text": [
      "epoch: 10, [batch: 40 / 45], examples_per_second: 4210.8380, train_label_loss: 0.2012, \n"
     ]
    },
    {
     "name": "stdout",
     "output_type": "stream",
     "text": [
      "=============================================================\n",
      "epoch: 10, source_val_acc_label: 0.9603, target_val_acc_label: 0.8754, source_val_label_loss: 0.2350, target_val_label_loss: 0.6830, \n",
      "=============================================================\n"
     ]
    },
    {
     "name": "stdout",
     "output_type": "stream",
     "text": [
      "New best\n"
     ]
    },
    {
     "name": "stdout",
     "output_type": "stream",
     "text": [
      "epoch: 11, [batch: 1 / 45], examples_per_second: 484.7810, train_label_loss: 0.3150, \n"
     ]
    },
    {
     "name": "stdout",
     "output_type": "stream",
     "text": [
      "epoch: 11, [batch: 5 / 45], examples_per_second: 4018.9199, train_label_loss: 0.1486, \n"
     ]
    },
    {
     "name": "stdout",
     "output_type": "stream",
     "text": [
      "epoch: 11, [batch: 9 / 45], examples_per_second: 4112.7234, train_label_loss: 0.1727, \n"
     ]
    },
    {
     "name": "stdout",
     "output_type": "stream",
     "text": [
      "epoch: 11, [batch: 14 / 45], examples_per_second: 4116.9559, train_label_loss: 0.1281, \n"
     ]
    },
    {
     "name": "stdout",
     "output_type": "stream",
     "text": [
      "epoch: 11, [batch: 18 / 45], examples_per_second: 4119.9329, train_label_loss: 0.2475, \n"
     ]
    },
    {
     "name": "stdout",
     "output_type": "stream",
     "text": [
      "epoch: 11, [batch: 23 / 45], examples_per_second: 4042.1033, train_label_loss: 0.1424, \n"
     ]
    },
    {
     "name": "stdout",
     "output_type": "stream",
     "text": [
      "epoch: 11, [batch: 27 / 45], examples_per_second: 4114.5793, train_label_loss: 0.2182, \n"
     ]
    },
    {
     "name": "stdout",
     "output_type": "stream",
     "text": [
      "epoch: 11, [batch: 31 / 45], examples_per_second: 4117.1207, train_label_loss: 0.1427, \n"
     ]
    },
    {
     "name": "stdout",
     "output_type": "stream",
     "text": [
      "epoch: 11, [batch: 36 / 45], examples_per_second: 4143.7578, train_label_loss: 0.1937, \n"
     ]
    },
    {
     "name": "stdout",
     "output_type": "stream",
     "text": [
      "epoch: 11, [batch: 40 / 45], examples_per_second: 4208.7270, train_label_loss: 0.1668, \n"
     ]
    },
    {
     "name": "stdout",
     "output_type": "stream",
     "text": [
      "=============================================================\n",
      "epoch: 11, source_val_acc_label: 0.9615, target_val_acc_label: 0.8705, source_val_label_loss: 0.2186, target_val_label_loss: 0.6717, \n",
      "=============================================================\n"
     ]
    },
    {
     "name": "stdout",
     "output_type": "stream",
     "text": [
      "epoch: 12, [batch: 1 / 45], examples_per_second: 504.8976, train_label_loss: 0.1085, \n"
     ]
    },
    {
     "name": "stdout",
     "output_type": "stream",
     "text": [
      "epoch: 12, [batch: 5 / 45], examples_per_second: 4012.9924, train_label_loss: 0.1447, \n"
     ]
    },
    {
     "name": "stdout",
     "output_type": "stream",
     "text": [
      "epoch: 12, [batch: 9 / 45], examples_per_second: 4109.3913, train_label_loss: 0.1671, \n"
     ]
    },
    {
     "name": "stdout",
     "output_type": "stream",
     "text": [
      "epoch: 12, [batch: 14 / 45], examples_per_second: 4119.4106, train_label_loss: 0.1569, \n"
     ]
    },
    {
     "name": "stdout",
     "output_type": "stream",
     "text": [
      "epoch: 12, [batch: 18 / 45], examples_per_second: 4106.5780, train_label_loss: 0.1268, \n"
     ]
    },
    {
     "name": "stdout",
     "output_type": "stream",
     "text": [
      "epoch: 12, [batch: 23 / 45], examples_per_second: 4029.6000, train_label_loss: 0.1120, \n"
     ]
    },
    {
     "name": "stdout",
     "output_type": "stream",
     "text": [
      "epoch: 12, [batch: 27 / 45], examples_per_second: 4112.6288, train_label_loss: 0.1058, \n"
     ]
    },
    {
     "name": "stdout",
     "output_type": "stream",
     "text": [
      "epoch: 12, [batch: 31 / 45], examples_per_second: 4132.8000, train_label_loss: 0.0561, \n"
     ]
    },
    {
     "name": "stdout",
     "output_type": "stream",
     "text": [
      "epoch: 12, [batch: 36 / 45], examples_per_second: 4154.5507, train_label_loss: 0.0872, \n"
     ]
    },
    {
     "name": "stdout",
     "output_type": "stream",
     "text": [
      "epoch: 12, [batch: 40 / 45], examples_per_second: 4207.8176, train_label_loss: 0.1936, \n"
     ]
    },
    {
     "name": "stdout",
     "output_type": "stream",
     "text": [
      "=============================================================\n",
      "epoch: 12, source_val_acc_label: 0.9635, target_val_acc_label: 0.8705, source_val_label_loss: 0.2208, target_val_label_loss: 0.6755, \n",
      "=============================================================\n"
     ]
    },
    {
     "name": "stdout",
     "output_type": "stream",
     "text": [
      "epoch: 13, [batch: 1 / 45], examples_per_second: 503.1313, train_label_loss: 0.1111, \n"
     ]
    },
    {
     "name": "stdout",
     "output_type": "stream",
     "text": [
      "epoch: 13, [batch: 5 / 45], examples_per_second: 4009.3865, train_label_loss: 0.1257, \n"
     ]
    },
    {
     "name": "stdout",
     "output_type": "stream",
     "text": [
      "epoch: 13, [batch: 9 / 45], examples_per_second: 4113.8016, train_label_loss: 0.1297, \n"
     ]
    },
    {
     "name": "stdout",
     "output_type": "stream",
     "text": [
      "epoch: 13, [batch: 14 / 45], examples_per_second: 4102.7619, train_label_loss: 0.1704, \n"
     ]
    },
    {
     "name": "stdout",
     "output_type": "stream",
     "text": [
      "epoch: 13, [batch: 18 / 45], examples_per_second: 4111.8100, train_label_loss: 0.2411, \n"
     ]
    },
    {
     "name": "stdout",
     "output_type": "stream",
     "text": [
      "epoch: 13, [batch: 23 / 45], examples_per_second: 4045.0071, train_label_loss: 0.1185, \n"
     ]
    },
    {
     "name": "stdout",
     "output_type": "stream",
     "text": [
      "epoch: 13, [batch: 27 / 45], examples_per_second: 4101.4935, train_label_loss: 0.1163, \n"
     ]
    },
    {
     "name": "stdout",
     "output_type": "stream",
     "text": [
      "epoch: 13, [batch: 31 / 45], examples_per_second: 4107.3514, train_label_loss: 0.0818, \n"
     ]
    },
    {
     "name": "stdout",
     "output_type": "stream",
     "text": [
      "epoch: 13, [batch: 36 / 45], examples_per_second: 4151.0172, train_label_loss: 0.0454, \n"
     ]
    },
    {
     "name": "stdout",
     "output_type": "stream",
     "text": [
      "epoch: 13, [batch: 40 / 45], examples_per_second: 4204.0947, train_label_loss: 0.2461, \n"
     ]
    },
    {
     "name": "stdout",
     "output_type": "stream",
     "text": [
      "=============================================================\n",
      "epoch: 13, source_val_acc_label: 0.9628, target_val_acc_label: 0.8735, source_val_label_loss: 0.2155, target_val_label_loss: 0.6512, \n",
      "=============================================================\n"
     ]
    },
    {
     "name": "stdout",
     "output_type": "stream",
     "text": [
      "epoch: 14, [batch: 1 / 45], examples_per_second: 502.0366, train_label_loss: 0.1408, \n"
     ]
    },
    {
     "name": "stdout",
     "output_type": "stream",
     "text": [
      "epoch: 14, [batch: 5 / 45], examples_per_second: 4001.7961, train_label_loss: 0.1205, \n"
     ]
    },
    {
     "name": "stdout",
     "output_type": "stream",
     "text": [
      "epoch: 14, [batch: 9 / 45], examples_per_second: 4110.8118, train_label_loss: 0.1212, \n"
     ]
    },
    {
     "name": "stdout",
     "output_type": "stream",
     "text": [
      "epoch: 14, [batch: 14 / 45], examples_per_second: 4116.8154, train_label_loss: 0.1072, \n"
     ]
    },
    {
     "name": "stdout",
     "output_type": "stream",
     "text": [
      "epoch: 14, [batch: 18 / 45], examples_per_second: 4111.0381, train_label_loss: 0.1195, \n"
     ]
    },
    {
     "name": "stdout",
     "output_type": "stream",
     "text": [
      "epoch: 14, [batch: 23 / 45], examples_per_second: 4039.2083, train_label_loss: 0.1349, \n"
     ]
    },
    {
     "name": "stdout",
     "output_type": "stream",
     "text": [
      "epoch: 14, [batch: 27 / 45], examples_per_second: 4124.1116, train_label_loss: 0.1486, \n"
     ]
    },
    {
     "name": "stdout",
     "output_type": "stream",
     "text": [
      "epoch: 14, [batch: 31 / 45], examples_per_second: 4117.3492, train_label_loss: 0.1781, \n"
     ]
    },
    {
     "name": "stdout",
     "output_type": "stream",
     "text": [
      "epoch: 14, [batch: 36 / 45], examples_per_second: 4151.8162, train_label_loss: 0.1183, \n"
     ]
    },
    {
     "name": "stdout",
     "output_type": "stream",
     "text": [
      "epoch: 14, [batch: 40 / 45], examples_per_second: 4200.9949, train_label_loss: 0.0383, \n"
     ]
    },
    {
     "name": "stdout",
     "output_type": "stream",
     "text": [
      "=============================================================\n",
      "epoch: 14, source_val_acc_label: 0.9647, target_val_acc_label: 0.8769, source_val_label_loss: 0.2147, target_val_label_loss: 0.6647, \n",
      "=============================================================\n"
     ]
    },
    {
     "name": "stdout",
     "output_type": "stream",
     "text": [
      "New best\n"
     ]
    },
    {
     "name": "stdout",
     "output_type": "stream",
     "text": [
      "epoch: 15, [batch: 1 / 45], examples_per_second: 486.6654, train_label_loss: 0.1254, \n"
     ]
    },
    {
     "name": "stdout",
     "output_type": "stream",
     "text": [
      "epoch: 15, [batch: 5 / 45], examples_per_second: 4016.2172, train_label_loss: 0.2213, \n"
     ]
    },
    {
     "name": "stdout",
     "output_type": "stream",
     "text": [
      "epoch: 15, [batch: 9 / 45], examples_per_second: 4110.5407, train_label_loss: 0.0942, \n"
     ]
    },
    {
     "name": "stdout",
     "output_type": "stream",
     "text": [
      "epoch: 15, [batch: 14 / 45], examples_per_second: 4116.9559, train_label_loss: 0.1010, \n"
     ]
    },
    {
     "name": "stdout",
     "output_type": "stream",
     "text": [
      "epoch: 15, [batch: 18 / 45], examples_per_second: 4111.6333, train_label_loss: 0.0749, \n"
     ]
    },
    {
     "name": "stdout",
     "output_type": "stream",
     "text": [
      "epoch: 15, [batch: 23 / 45], examples_per_second: 4031.5283, train_label_loss: 0.1709, \n"
     ]
    },
    {
     "name": "stdout",
     "output_type": "stream",
     "text": [
      "epoch: 15, [batch: 27 / 45], examples_per_second: 4108.3355, train_label_loss: 0.0883, \n"
     ]
    },
    {
     "name": "stdout",
     "output_type": "stream",
     "text": [
      "epoch: 15, [batch: 31 / 45], examples_per_second: 4116.4198, train_label_loss: 0.0666, \n"
     ]
    },
    {
     "name": "stdout",
     "output_type": "stream",
     "text": [
      "epoch: 15, [batch: 36 / 45], examples_per_second: 4146.7579, train_label_loss: 0.0721, \n"
     ]
    },
    {
     "name": "stdout",
     "output_type": "stream",
     "text": [
      "epoch: 15, [batch: 40 / 45], examples_per_second: 4211.6349, train_label_loss: 0.0914, \n"
     ]
    },
    {
     "name": "stdout",
     "output_type": "stream",
     "text": [
      "=============================================================\n",
      "epoch: 15, source_val_acc_label: 0.9654, target_val_acc_label: 0.8803, source_val_label_loss: 0.2021, target_val_label_loss: 0.6543, \n",
      "=============================================================\n"
     ]
    },
    {
     "name": "stdout",
     "output_type": "stream",
     "text": [
      "New best\n"
     ]
    },
    {
     "name": "stdout",
     "output_type": "stream",
     "text": [
      "epoch: 16, [batch: 1 / 45], examples_per_second: 487.2121, train_label_loss: 0.0839, \n"
     ]
    },
    {
     "name": "stdout",
     "output_type": "stream",
     "text": [
      "epoch: 16, [batch: 5 / 45], examples_per_second: 4023.5195, train_label_loss: 0.0713, \n"
     ]
    },
    {
     "name": "stdout",
     "output_type": "stream",
     "text": [
      "epoch: 16, [batch: 9 / 45], examples_per_second: 4120.1928, train_label_loss: 0.1742, \n"
     ]
    },
    {
     "name": "stdout",
     "output_type": "stream",
     "text": [
      "epoch: 16, [batch: 14 / 45], examples_per_second: 4118.9289, train_label_loss: 0.0859, \n"
     ]
    },
    {
     "name": "stdout",
     "output_type": "stream",
     "text": [
      "epoch: 16, [batch: 18 / 45], examples_per_second: 4116.7259, train_label_loss: 0.1438, \n"
     ]
    },
    {
     "name": "stdout",
     "output_type": "stream",
     "text": [
      "epoch: 16, [batch: 23 / 45], examples_per_second: 4028.2901, train_label_loss: 0.1579, \n"
     ]
    },
    {
     "name": "stdout",
     "output_type": "stream",
     "text": [
      "epoch: 16, [batch: 27 / 45], examples_per_second: 4108.2705, train_label_loss: 0.1199, \n"
     ]
    },
    {
     "name": "stdout",
     "output_type": "stream",
     "text": [
      "epoch: 16, [batch: 31 / 45], examples_per_second: 4119.5142, train_label_loss: 0.0937, \n"
     ]
    },
    {
     "name": "stdout",
     "output_type": "stream",
     "text": [
      "epoch: 16, [batch: 36 / 45], examples_per_second: 4147.2626, train_label_loss: 0.0515, \n"
     ]
    },
    {
     "name": "stdout",
     "output_type": "stream",
     "text": [
      "epoch: 16, [batch: 40 / 45], examples_per_second: 4206.5418, train_label_loss: 0.0575, \n"
     ]
    },
    {
     "name": "stdout",
     "output_type": "stream",
     "text": [
      "=============================================================\n",
      "epoch: 16, source_val_acc_label: 0.9660, target_val_acc_label: 0.8786, source_val_label_loss: 0.1989, target_val_label_loss: 0.6603, \n",
      "=============================================================\n"
     ]
    },
    {
     "name": "stdout",
     "output_type": "stream",
     "text": [
      "epoch: 17, [batch: 1 / 45], examples_per_second: 502.3952, train_label_loss: 0.0628, \n"
     ]
    },
    {
     "name": "stdout",
     "output_type": "stream",
     "text": [
      "epoch: 17, [batch: 5 / 45], examples_per_second: 4003.3312, train_label_loss: 0.1763, \n"
     ]
    },
    {
     "name": "stdout",
     "output_type": "stream",
     "text": [
      "epoch: 17, [batch: 9 / 45], examples_per_second: 4117.4533, train_label_loss: 0.1084, \n"
     ]
    },
    {
     "name": "stdout",
     "output_type": "stream",
     "text": [
      "epoch: 17, [batch: 14 / 45], examples_per_second: 4109.3393, train_label_loss: 0.1508, \n"
     ]
    },
    {
     "name": "stdout",
     "output_type": "stream",
     "text": [
      "epoch: 17, [batch: 18 / 45], examples_per_second: 4114.2440, train_label_loss: 0.1793, \n"
     ]
    },
    {
     "name": "stdout",
     "output_type": "stream",
     "text": [
      "epoch: 17, [batch: 23 / 45], examples_per_second: 4037.5215, train_label_loss: 0.0484, \n"
     ]
    },
    {
     "name": "stdout",
     "output_type": "stream",
     "text": [
      "epoch: 17, [batch: 27 / 45], examples_per_second: 4117.3865, train_label_loss: 0.0273, \n"
     ]
    },
    {
     "name": "stdout",
     "output_type": "stream",
     "text": [
      "epoch: 17, [batch: 31 / 45], examples_per_second: 4112.3775, train_label_loss: 0.0478, \n"
     ]
    },
    {
     "name": "stdout",
     "output_type": "stream",
     "text": [
      "epoch: 17, [batch: 36 / 45], examples_per_second: 4146.7554, train_label_loss: 0.1312, \n"
     ]
    },
    {
     "name": "stdout",
     "output_type": "stream",
     "text": [
      "epoch: 17, [batch: 40 / 45], examples_per_second: 4200.6955, train_label_loss: 0.0724, \n"
     ]
    },
    {
     "name": "stdout",
     "output_type": "stream",
     "text": [
      "=============================================================\n",
      "epoch: 17, source_val_acc_label: 0.9667, target_val_acc_label: 0.8754, source_val_label_loss: 0.1988, target_val_label_loss: 0.6667, \n",
      "=============================================================\n"
     ]
    },
    {
     "name": "stdout",
     "output_type": "stream",
     "text": [
      "epoch: 18, [batch: 1 / 45], examples_per_second: 503.9026, train_label_loss: 0.1979, \n"
     ]
    },
    {
     "name": "stdout",
     "output_type": "stream",
     "text": [
      "epoch: 18, [batch: 5 / 45], examples_per_second: 4016.3193, train_label_loss: 0.0687, \n"
     ]
    },
    {
     "name": "stdout",
     "output_type": "stream",
     "text": [
      "epoch: 18, [batch: 9 / 45], examples_per_second: 4113.3563, train_label_loss: 0.0335, \n"
     ]
    },
    {
     "name": "stdout",
     "output_type": "stream",
     "text": [
      "epoch: 18, [batch: 14 / 45], examples_per_second: 4118.0255, train_label_loss: 0.1083, \n"
     ]
    },
    {
     "name": "stdout",
     "output_type": "stream",
     "text": [
      "epoch: 18, [batch: 18 / 45], examples_per_second: 4109.7584, train_label_loss: 0.0440, \n"
     ]
    },
    {
     "name": "stdout",
     "output_type": "stream",
     "text": [
      "epoch: 18, [batch: 23 / 45], examples_per_second: 4046.0241, train_label_loss: 0.1408, \n"
     ]
    },
    {
     "name": "stdout",
     "output_type": "stream",
     "text": [
      "epoch: 18, [batch: 27 / 45], examples_per_second: 4116.9994, train_label_loss: 0.1168, \n"
     ]
    },
    {
     "name": "stdout",
     "output_type": "stream",
     "text": [
      "epoch: 18, [batch: 31 / 45], examples_per_second: 4122.3609, train_label_loss: 0.1055, \n"
     ]
    },
    {
     "name": "stdout",
     "output_type": "stream",
     "text": [
      "epoch: 18, [batch: 36 / 45], examples_per_second: 4153.4418, train_label_loss: 0.1184, \n"
     ]
    },
    {
     "name": "stdout",
     "output_type": "stream",
     "text": [
      "epoch: 18, [batch: 40 / 45], examples_per_second: 4212.9056, train_label_loss: 0.0874, \n"
     ]
    },
    {
     "name": "stdout",
     "output_type": "stream",
     "text": [
      "=============================================================\n",
      "epoch: 18, source_val_acc_label: 0.9673, target_val_acc_label: 0.8793, source_val_label_loss: 0.2121, target_val_label_loss: 0.6529, \n",
      "=============================================================\n"
     ]
    },
    {
     "name": "stdout",
     "output_type": "stream",
     "text": [
      "epoch: 19, [batch: 1 / 45], examples_per_second: 507.9368, train_label_loss: 0.0478, \n"
     ]
    },
    {
     "name": "stdout",
     "output_type": "stream",
     "text": [
      "epoch: 19, [batch: 5 / 45], examples_per_second: 4010.6339, train_label_loss: 0.0552, \n"
     ]
    },
    {
     "name": "stdout",
     "output_type": "stream",
     "text": [
      "epoch: 19, [batch: 9 / 45], examples_per_second: 4088.0156, train_label_loss: 0.0740, \n"
     ]
    },
    {
     "name": "stdout",
     "output_type": "stream",
     "text": [
      "epoch: 19, [batch: 14 / 45], examples_per_second: 4115.6110, train_label_loss: 0.0633, \n"
     ]
    },
    {
     "name": "stdout",
     "output_type": "stream",
     "text": [
      "epoch: 19, [batch: 18 / 45], examples_per_second: 4104.9750, train_label_loss: 0.0634, \n"
     ]
    },
    {
     "name": "stdout",
     "output_type": "stream",
     "text": [
      "epoch: 19, [batch: 23 / 45], examples_per_second: 4027.7212, train_label_loss: 0.0197, \n"
     ]
    },
    {
     "name": "stdout",
     "output_type": "stream",
     "text": [
      "epoch: 19, [batch: 27 / 45], examples_per_second: 4112.8645, train_label_loss: 0.1267, \n"
     ]
    },
    {
     "name": "stdout",
     "output_type": "stream",
     "text": [
      "epoch: 19, [batch: 31 / 45], examples_per_second: 4106.0801, train_label_loss: 0.0300, \n"
     ]
    },
    {
     "name": "stdout",
     "output_type": "stream",
     "text": [
      "epoch: 19, [batch: 36 / 45], examples_per_second: 4140.7998, train_label_loss: 0.1651, \n"
     ]
    },
    {
     "name": "stdout",
     "output_type": "stream",
     "text": [
      "epoch: 19, [batch: 40 / 45], examples_per_second: 4202.2479, train_label_loss: 0.0551, \n"
     ]
    },
    {
     "name": "stdout",
     "output_type": "stream",
     "text": [
      "=============================================================\n",
      "epoch: 19, source_val_acc_label: 0.9654, target_val_acc_label: 0.8756, source_val_label_loss: 0.2087, target_val_label_loss: 0.6648, \n",
      "=============================================================\n"
     ]
    },
    {
     "name": "stdout",
     "output_type": "stream",
     "text": [
      "Patience (3) exhausted\n"
     ]
    }
   ],
   "source": [
    "###################################\n",
    "# train\n",
    "###################################\n",
    "jig = PTN_Train_Eval_Test_Jig(model, p.BEST_MODEL_PATH, p.device)\n",
    "\n",
    "jig.train(\n",
    "    train_iterable=datasets.source.processed.train,\n",
    "    source_val_iterable=datasets.source.processed.val,\n",
    "    target_val_iterable=datasets.target.processed.val,\n",
    "    num_epochs=p.n_epoch,\n",
    "    num_logs_per_epoch=p.NUM_LOGS_PER_EPOCH,\n",
    "    patience=p.patience,\n",
    "    optimizer=optimizer,\n",
    "    criteria_for_best=p.criteria_for_best,\n",
    ")"
   ]
  },
  {
   "cell_type": "code",
   "execution_count": 14,
   "id": "31e8fabf",
   "metadata": {
    "execution": {
     "iopub.execute_input": "2022-03-22T17:11:54.149140Z",
     "iopub.status.busy": "2022-03-22T17:11:54.148202Z",
     "iopub.status.idle": "2022-03-22T17:11:54.166932Z",
     "shell.execute_reply": "2022-03-22T17:11:54.167381Z"
    },
    "papermill": {
     "duration": 0.07005,
     "end_time": "2022-03-22T17:11:54.167516",
     "exception": false,
     "start_time": "2022-03-22T17:11:54.097466",
     "status": "completed"
    },
    "tags": []
   },
   "outputs": [],
   "source": [
    "total_experiment_time_secs = time.time() - start_time_secs"
   ]
  },
  {
   "cell_type": "code",
   "execution_count": 15,
   "id": "87b9595b",
   "metadata": {
    "execution": {
     "iopub.execute_input": "2022-03-22T17:11:54.275573Z",
     "iopub.status.busy": "2022-03-22T17:11:54.275289Z",
     "iopub.status.idle": "2022-03-22T17:12:01.709680Z",
     "shell.execute_reply": "2022-03-22T17:12:01.710079Z"
    },
    "papermill": {
     "duration": 7.487435,
     "end_time": "2022-03-22T17:12:01.710217",
     "exception": false,
     "start_time": "2022-03-22T17:11:54.222782",
     "status": "completed"
    },
    "tags": []
   },
   "outputs": [],
   "source": [
    "###################################\n",
    "# Evaluate the model\n",
    "###################################\n",
    "source_test_label_accuracy, source_test_label_loss = jig.test(datasets.source.processed.test)\n",
    "target_test_label_accuracy, target_test_label_loss = jig.test(datasets.target.processed.test)\n",
    "\n",
    "source_val_label_accuracy, source_val_label_loss = jig.test(datasets.source.processed.val)\n",
    "target_val_label_accuracy, target_val_label_loss = jig.test(datasets.target.processed.val)\n",
    "\n",
    "history = jig.get_history()\n",
    "\n",
    "total_epochs_trained = len(history[\"epoch_indices\"])\n",
    "\n",
    "val_dl = Iterable_Aggregator((datasets.source.original.val,datasets.target.original.val))\n",
    "\n",
    "confusion = ptn_confusion_by_domain_over_dataloader(model, p.device, val_dl)\n",
    "per_domain_accuracy = per_domain_accuracy_from_confusion(confusion)\n",
    "\n",
    "# Add a key to per_domain_accuracy for if it was a source domain\n",
    "for domain, accuracy in per_domain_accuracy.items():\n",
    "    per_domain_accuracy[domain] = {\n",
    "        \"accuracy\": accuracy,\n",
    "        \"source?\": domain in p.domains_source\n",
    "    }\n",
    "\n",
    "# Do an independent accuracy assesment JUST TO BE SURE!\n",
    "# _source_test_label_accuracy = independent_accuracy_assesment(model, datasets.source.processed.test, p.device)\n",
    "# _target_test_label_accuracy = independent_accuracy_assesment(model, datasets.target.processed.test, p.device)\n",
    "# _source_val_label_accuracy = independent_accuracy_assesment(model, datasets.source.processed.val, p.device)\n",
    "# _target_val_label_accuracy = independent_accuracy_assesment(model, datasets.target.processed.val, p.device)\n",
    "\n",
    "# assert(_source_test_label_accuracy == source_test_label_accuracy)\n",
    "# assert(_target_test_label_accuracy == target_test_label_accuracy)\n",
    "# assert(_source_val_label_accuracy == source_val_label_accuracy)\n",
    "# assert(_target_val_label_accuracy == target_val_label_accuracy)\n",
    "\n",
    "experiment = {\n",
    "    \"experiment_name\": p.experiment_name,\n",
    "    \"parameters\": dict(p),\n",
    "    \"results\": {\n",
    "        \"source_test_label_accuracy\": source_test_label_accuracy,\n",
    "        \"source_test_label_loss\": source_test_label_loss,\n",
    "        \"target_test_label_accuracy\": target_test_label_accuracy,\n",
    "        \"target_test_label_loss\": target_test_label_loss,\n",
    "        \"source_val_label_accuracy\": source_val_label_accuracy,\n",
    "        \"source_val_label_loss\": source_val_label_loss,\n",
    "        \"target_val_label_accuracy\": target_val_label_accuracy,\n",
    "        \"target_val_label_loss\": target_val_label_loss,\n",
    "        \"total_epochs_trained\": total_epochs_trained,\n",
    "        \"total_experiment_time_secs\": total_experiment_time_secs,\n",
    "        \"confusion\": confusion,\n",
    "        \"per_domain_accuracy\": per_domain_accuracy,\n",
    "    },\n",
    "    \"history\": history,\n",
    "    \"dataset_metrics\": get_dataset_metrics(datasets, \"ptn\"),\n",
    "}"
   ]
  },
  {
   "cell_type": "code",
   "execution_count": 16,
   "id": "54a21829",
   "metadata": {
    "execution": {
     "iopub.execute_input": "2022-03-22T17:12:01.818487Z",
     "iopub.status.busy": "2022-03-22T17:12:01.818120Z",
     "iopub.status.idle": "2022-03-22T17:12:01.936337Z",
     "shell.execute_reply": "2022-03-22T17:12:01.935889Z"
    },
    "papermill": {
     "duration": 0.169131,
     "end_time": "2022-03-22T17:12:01.936430",
     "exception": false,
     "start_time": "2022-03-22T17:12:01.767299",
     "status": "completed"
    },
    "tags": []
   },
   "outputs": [
    {
     "data": {
      "image/png": "[encoded data removed]",
      "text/plain": [
       "<Figure size 1080x504 with 1 Axes>"
      ]
     },
     "metadata": {
      "needs_background": "light"
     },
     "output_type": "display_data"
    }
   ],
   "source": [
    "ax = get_loss_curve(experiment)\n",
    "plt.show()"
   ]
  },
  {
   "cell_type": "code",
   "execution_count": 17,
   "id": "fd8a0f60",
   "metadata": {
    "execution": {
     "iopub.execute_input": "2022-03-22T17:12:02.042264Z",
     "iopub.status.busy": "2022-03-22T17:12:02.041950Z",
     "iopub.status.idle": "2022-03-22T17:12:02.185402Z",
     "shell.execute_reply": "2022-03-22T17:12:02.185610Z"
    },
    "papermill": {
     "duration": 0.195795,
     "end_time": "2022-03-22T17:12:02.185674",
     "exception": false,
     "start_time": "2022-03-22T17:12:01.989879",
     "status": "completed"
    },
    "tags": []
   },
   "outputs": [
    {
     "data": {
      "text/plain": [
       "<AxesSubplot:title={'center':'Results'}>"
      ]
     },
     "execution_count": 17,
     "metadata": {},
     "output_type": "execute_result"
    },
    {
     "data": {
      "image/png": "[encoded data removed]",
      "text/plain": [
       "<Figure size 1080x504 with 1 Axes>"
      ]
     },
     "metadata": {
      "needs_background": "light"
     },
     "output_type": "display_data"
    }
   ],
   "source": [
    "get_results_table(experiment)"
   ]
  },
  {
   "cell_type": "code",
   "execution_count": 18,
   "id": "cf8dc689",
   "metadata": {
    "execution": {
     "iopub.execute_input": "2022-03-22T17:12:02.291305Z",
     "iopub.status.busy": "2022-03-22T17:12:02.291005Z",
     "iopub.status.idle": "2022-03-22T17:12:02.396315Z",
     "shell.execute_reply": "2022-03-22T17:12:02.395897Z"
    },
    "papermill": {
     "duration": 0.158588,
     "end_time": "2022-03-22T17:12:02.396416",
     "exception": false,
     "start_time": "2022-03-22T17:12:02.237828",
     "status": "completed"
    },
    "tags": []
   },
   "outputs": [
    {
     "data": {
      "text/plain": [
       "<AxesSubplot:title={'center':'Per Domain Validation Accuracy'}, xlabel='domain'>"
      ]
     },
     "execution_count": 18,
     "metadata": {},
     "output_type": "execute_result"
    },
    {
     "data": {
      "image/png": "[encoded data removed]",
      "text/plain": [
       "<Figure size 1080x504 with 1 Axes>"
      ]
     },
     "metadata": {
      "needs_background": "light"
     },
     "output_type": "display_data"
    }
   ],
   "source": [
    "get_domain_accuracies(experiment)"
   ]
  },
  {
   "cell_type": "code",
   "execution_count": 19,
   "id": "a74ae082",
   "metadata": {
    "execution": {
     "iopub.execute_input": "2022-03-22T17:12:02.508825Z",
     "iopub.status.busy": "2022-03-22T17:12:02.507088Z",
     "iopub.status.idle": "2022-03-22T17:12:02.522143Z",
     "shell.execute_reply": "2022-03-22T17:12:02.521648Z"
    },
    "papermill": {
     "duration": 0.069938,
     "end_time": "2022-03-22T17:12:02.522255",
     "exception": false,
     "start_time": "2022-03-22T17:12:02.452317",
     "status": "completed"
    },
    "tags": []
   },
   "outputs": [
    {
     "name": "stdout",
     "output_type": "stream",
     "text": [
      "Source Test Label Accuracy: 0.9544871794871795 Target Test Label Accuracy: 0.8722222222222222\n",
      "Source Val Label Accuracy: 0.9653846153846154 Target Val Label Accuracy: 0.8803418803418803\n"
     ]
    }
   ],
   "source": [
    "print(\"Source Test Label Accuracy:\", experiment[\"results\"][\"source_test_label_accuracy\"], \"Target Test Label Accuracy:\", experiment[\"results\"][\"target_test_label_accuracy\"])\n",
    "print(\"Source Val Label Accuracy:\", experiment[\"results\"][\"source_val_label_accuracy\"], \"Target Val Label Accuracy:\", experiment[\"results\"][\"target_val_label_accuracy\"])"
   ]
  },
  {
   "cell_type": "code",
   "execution_count": 20,
   "id": "dacca602",
   "metadata": {
    "execution": {
     "iopub.execute_input": "2022-03-22T17:12:02.634026Z",
     "iopub.status.busy": "2022-03-22T17:12:02.633496Z",
     "iopub.status.idle": "2022-03-22T17:12:02.652218Z",
     "shell.execute_reply": "2022-03-22T17:12:02.651971Z"
    },
    "papermill": {
     "duration": 0.072601,
     "end_time": "2022-03-22T17:12:02.652269",
     "exception": false,
     "start_time": "2022-03-22T17:12:02.579668",
     "status": "completed"
    },
    "tags": [
     "experiment_json"
    ]
   },
   "outputs": [
    {
     "data": {
      "text/plain": [
       "'{\"experiment_name\": \"tuned_1v2:wisig\", \"parameters\": {\"experiment_name\": \"tuned_1v2:wisig\", \"device\": \"cuda\", \"lr\": 0.0001, \"labels_source\": [\"1-10\", \"1-12\", \"1-14\", \"1-16\", \"1-18\", \"1-19\", \"1-8\", \"10-11\", \"10-17\", \"10-4\", \"10-7\", \"11-1\", \"11-10\", \"11-19\", \"11-20\", \"11-4\", \"11-7\", \"12-19\", \"12-20\", \"12-7\", \"13-14\", \"13-18\", \"13-19\", \"13-20\", \"13-3\", \"13-7\", \"14-10\", \"14-11\", \"14-12\", \"14-13\", \"14-14\", \"14-19\", \"14-20\", \"14-7\", \"14-8\", \"14-9\", \"15-1\", \"15-19\", \"15-6\", \"16-1\", \"16-16\", \"16-19\", \"16-20\", \"17-10\", \"17-11\", \"18-1\", \"18-10\", \"18-11\", \"18-12\", \"18-13\", \"18-14\", \"18-15\", \"18-16\", \"18-17\", \"18-19\", \"18-2\", \"18-20\", \"18-4\", \"18-5\", \"18-7\", \"18-8\", \"18-9\", \"19-1\", \"19-10\", \"19-11\", \"19-12\", \"19-13\", \"19-14\", \"19-15\", \"19-19\", \"19-2\", \"19-20\", \"19-3\", \"19-4\", \"19-6\", \"19-7\", \"19-8\", \"19-9\", \"2-1\", \"2-13\", \"2-15\", \"2-3\", \"2-4\", \"2-5\", \"2-6\", \"2-7\", \"2-8\", \"20-1\", \"20-12\", \"20-14\", \"20-15\", \"20-16\", \"20-18\", \"20-19\", \"20-20\", \"20-3\", \"20-4\", \"20-5\", \"20-7\", \"20-8\", \"3-1\", \"3-13\", \"3-18\", \"3-2\", \"3-8\", \"4-1\", \"4-10\", \"4-11\", \"5-1\", \"5-5\", \"6-1\", \"6-15\", \"6-6\", \"7-10\", \"7-11\", \"7-12\", \"7-13\", \"7-14\", \"7-7\", \"7-8\", \"7-9\", \"8-1\", \"8-13\", \"8-14\", \"8-18\", \"8-20\", \"8-3\", \"8-8\", \"9-1\", \"9-7\"], \"labels_target\": [\"1-10\", \"1-12\", \"1-14\", \"1-16\", \"1-18\", \"1-19\", \"1-8\", \"10-11\", \"10-17\", \"10-4\", \"10-7\", \"11-1\", \"11-10\", \"11-19\", \"11-20\", \"11-4\", \"11-7\", \"12-19\", \"12-20\", \"12-7\", \"13-14\", \"13-18\", \"13-19\", \"13-20\", \"13-3\", \"13-7\", \"14-10\", \"14-11\", \"14-12\", \"14-13\", \"14-14\", \"14-19\", \"14-20\", \"14-7\", \"14-8\", \"14-9\", \"15-1\", \"15-19\", \"15-6\", \"16-1\", \"16-16\", \"16-19\", \"16-20\", \"17-10\", \"17-11\", \"18-1\", \"18-10\", \"18-11\", \"18-12\", \"18-13\", \"18-14\", \"18-15\", \"18-16\", \"18-17\", \"18-19\", \"18-2\", \"18-20\", \"18-4\", \"18-5\", \"18-7\", \"18-8\", \"18-9\", \"19-1\", \"19-10\", \"19-11\", \"19-12\", \"19-13\", \"19-14\", \"19-15\", \"19-19\", \"19-2\", \"19-20\", \"19-3\", \"19-4\", \"19-6\", \"19-7\", \"19-8\", \"19-9\", \"2-1\", \"2-13\", \"2-15\", \"2-3\", \"2-4\", \"2-5\", \"2-6\", \"2-7\", \"2-8\", \"20-1\", \"20-12\", \"20-14\", \"20-15\", \"20-16\", \"20-18\", \"20-19\", \"20-20\", \"20-3\", \"20-4\", \"20-5\", \"20-7\", \"20-8\", \"3-1\", \"3-13\", \"3-18\", \"3-2\", \"3-8\", \"4-1\", \"4-10\", \"4-11\", \"5-1\", \"5-5\", \"6-1\", \"6-15\", \"6-6\", \"7-10\", \"7-11\", \"7-12\", \"7-13\", \"7-14\", \"7-7\", \"7-8\", \"7-9\", \"8-1\", \"8-13\", \"8-14\", \"8-18\", \"8-20\", \"8-3\", \"8-8\", \"9-1\", \"9-7\"], \"episode_transforms_source\": [], \"episode_transforms_target\": [], \"domains_source\": [3], \"domains_target\": [1, 2, 4], \"num_examples_per_domain_per_label_source\": -1, \"num_examples_per_domain_per_label_target\": -1, \"n_shot\": 3, \"n_way\": 130, \"n_query\": 2, \"train_k_factor\": 3, \"val_k_factor\": 2, \"test_k_factor\": 2, \"torch_default_dtype\": \"torch.float32\", \"n_epoch\": 50, \"patience\": 3, \"criteria_for_best\": \"target_accuracy\", \"x_net\": [{\"class\": \"nnReshape\", \"kargs\": {\"shape\": [-1, 1, 2, 256]}}, {\"class\": \"Conv2d\", \"kargs\": {\"in_channels\": 1, \"out_channels\": 256, \"kernel_size\": [1, 7], \"bias\": false, \"padding\": [0, 3]}}, {\"class\": \"ReLU\", \"kargs\": {\"inplace\": true}}, {\"class\": \"BatchNorm2d\", \"kargs\": {\"num_features\": 256}}, {\"class\": \"Conv2d\", \"kargs\": {\"in_channels\": 256, \"out_channels\": 80, \"kernel_size\": [2, 7], \"bias\": true, \"padding\": [0, 3]}}, {\"class\": \"ReLU\", \"kargs\": {\"inplace\": true}}, {\"class\": \"BatchNorm2d\", \"kargs\": {\"num_features\": 80}}, {\"class\": \"Flatten\", \"kargs\": {}}, {\"class\": \"Linear\", \"kargs\": {\"in_features\": 20480, \"out_features\": 256}}, {\"class\": \"ReLU\", \"kargs\": {\"inplace\": true}}, {\"class\": \"BatchNorm1d\", \"kargs\": {\"num_features\": 256}}, {\"class\": \"Linear\", \"kargs\": {\"in_features\": 256, \"out_features\": 256}}], \"NUM_LOGS_PER_EPOCH\": 10, \"BEST_MODEL_PATH\": \"./best_model.pth\", \"pickle_name\": \"wisig.node3-19.stratified_ds.2022A.pkl\", \"x_transforms_source\": [\"unit_mag\"], \"x_transforms_target\": [\"unit_mag\"], \"dataset_seed\": 7, \"seed\": 7}, \"results\": {\"source_test_label_accuracy\": 0.9544871794871795, \"source_test_label_loss\": 0.29392024874687195, \"target_test_label_accuracy\": 0.8722222222222222, \"target_test_label_loss\": 0.6901350021362305, \"source_val_label_accuracy\": 0.9653846153846154, \"source_val_label_loss\": 0.2020774930715561, \"target_val_label_accuracy\": 0.8803418803418803, \"target_val_label_loss\": 0.6543340682983398, \"total_epochs_trained\": 19, \"total_experiment_time_secs\": 185.61197328567505, \"confusion\": {\"3\": {\"53\": {\"53\": 12}, \"8\": {\"8\": 12}, \"15\": {\"15\": 12}, \"85\": {\"85\": 12}, \"52\": {\"52\": 12}, \"35\": {\"35\": 12}, \"119\": {\"119\": 11, \"116\": 1}, \"61\": {\"61\": 11, \"56\": 1}, \"64\": {\"64\": 12}, \"62\": {\"62\": 12}, \"26\": {\"26\": 12}, \"114\": {\"114\": 12}, \"44\": {\"44\": 12}, \"123\": {\"123\": 12}, \"110\": {\"110\": 12}, \"112\": {\"78\": 1, \"112\": 11}, \"41\": {\"41\": 12}, \"83\": {\"83\": 12}, \"97\": {\"97\": 12}, \"101\": {\"101\": 11, \"25\": 1}, \"80\": {\"80\": 11, \"60\": 1}, \"122\": {\"122\": 11, \"17\": 1}, \"95\": {\"95\": 12}, \"75\": {\"75\": 12}, \"105\": {\"105\": 12}, \"45\": {\"45\": 12}, \"38\": {\"38\": 12}, \"21\": {\"21\": 9, \"98\": 1, \"71\": 1, \"57\": 1}, \"47\": {\"47\": 12}, \"121\": {\"121\": 12}, \"9\": {\"9\": 11, \"13\": 1}, \"60\": {\"60\": 12}, \"13\": {\"13\": 11, \"21\": 1}, \"84\": {\"84\": 12}, \"73\": {\"73\": 11, \"78\": 1}, \"32\": {\"32\": 12}, \"54\": {\"54\": 12}, \"29\": {\"29\": 12}, \"71\": {\"71\": 12}, \"20\": {\"20\": 12}, \"76\": {\"76\": 12}, \"113\": {\"113\": 12}, \"37\": {\"37\": 12}, \"68\": {\"68\": 11, \"52\": 1}, \"12\": {\"12\": 12}, \"67\": {\"67\": 12}, \"77\": {\"77\": 12}, \"107\": {\"107\": 12}, \"70\": {\"70\": 10, \"17\": 1, \"108\": 1}, \"43\": {\"43\": 11, \"78\": 1}, \"69\": {\"69\": 12}, \"27\": {\"27\": 12}, \"108\": {\"108\": 12}, \"104\": {\"104\": 11, \"38\": 1}, \"40\": {\"40\": 12}, \"36\": {\"36\": 9, \"27\": 3}, \"126\": {\"39\": 1, \"126\": 11}, \"78\": {\"87\": 1, \"82\": 1, \"21\": 1, \"78\": 7, \"94\": 1, \"4\": 1}, \"24\": {\"24\": 11, \"33\": 1}, \"7\": {\"7\": 12}, \"96\": {\"96\": 12}, \"65\": {\"65\": 11, \"39\": 1}, \"88\": {\"88\": 11, \"108\": 1}, \"124\": {\"124\": 12}, \"128\": {\"51\": 1, \"128\": 11}, \"116\": {\"116\": 12}, \"3\": {\"3\": 12}, \"93\": {\"93\": 12}, \"127\": {\"127\": 11, \"17\": 1}, \"22\": {\"95\": 1, \"22\": 11}, \"82\": {\"82\": 12}, \"39\": {\"39\": 10, \"118\": 1, \"13\": 1}, \"102\": {\"102\": 12}, \"90\": {\"90\": 12}, \"42\": {\"42\": 12}, \"66\": {\"66\": 12}, \"111\": {\"111\": 12}, \"2\": {\"2\": 12}, \"87\": {\"87\": 12}, \"19\": {\"19\": 12}, \"17\": {\"17\": 8, \"78\": 1, \"13\": 2, \"122\": 1}, \"33\": {\"33\": 11, \"73\": 1}, \"81\": {\"81\": 11, \"61\": 1}, \"31\": {\"31\": 12}, \"5\": {\"5\": 12}, \"48\": {\"48\": 12}, \"125\": {\"125\": 11, \"121\": 1}, \"56\": {\"56\": 12}, \"86\": {\"86\": 12}, \"117\": {\"117\": 12}, \"120\": {\"120\": 12}, \"16\": {\"16\": 12}, \"4\": {\"4\": 12}, \"106\": {\"106\": 12}, \"23\": {\"23\": 11, \"97\": 1}, \"89\": {\"89\": 10, \"78\": 1, \"17\": 1}, \"72\": {\"72\": 11, \"6\": 1}, \"18\": {\"18\": 12}, \"55\": {\"55\": 12}, \"109\": {\"109\": 11, \"118\": 1}, \"28\": {\"28\": 12}, \"58\": {\"58\": 12}, \"98\": {\"98\": 12}, \"94\": {\"94\": 11, \"30\": 1}, \"63\": {\"63\": 11, \"104\": 1}, \"100\": {\"100\": 12}, \"51\": {\"51\": 12}, \"91\": {\"91\": 11, \"77\": 1}, \"92\": {\"92\": 12}, \"14\": {\"14\": 12}, \"59\": {\"59\": 12}, \"74\": {\"74\": 12}, \"10\": {\"10\": 11, \"65\": 1}, \"99\": {\"99\": 12}, \"129\": {\"129\": 12}, \"34\": {\"34\": 12}, \"1\": {\"1\": 12}, \"79\": {\"79\": 12}, \"0\": {\"0\": 12}, \"25\": {\"25\": 12}, \"115\": {\"115\": 12}, \"118\": {\"118\": 12}, \"49\": {\"49\": 12}, \"11\": {\"11\": 12}, \"103\": {\"103\": 12}, \"50\": {\"50\": 12}, \"6\": {\"6\": 12}, \"30\": {\"30\": 11, \"97\": 1}, \"46\": {\"46\": 10, \"61\": 1, \"129\": 1}, \"57\": {\"57\": 11, \"37\": 1}}, \"4\": {\"53\": {\"53\": 12}, \"8\": {\"8\": 12}, \"111\": {\"111\": 9, \"34\": 1, \"12\": 1, \"23\": 1}, \"120\": {\"120\": 12}, \"45\": {\"45\": 12}, \"86\": {\"86\": 12}, \"25\": {\"25\": 12}, \"36\": {\"24\": 4, \"97\": 1, \"36\": 6, \"23\": 1}, \"63\": {\"63\": 12}, \"65\": {\"65\": 12}, \"54\": {\"54\": 10, \"36\": 1, \"6\": 1}, \"62\": {\"62\": 10, \"113\": 1, \"51\": 1}, \"102\": {\"102\": 11, \"78\": 1}, \"13\": {\"13\": 10, \"52\": 1, \"60\": 1}, \"11\": {\"11\": 12}, \"60\": {\"60\": 8, \"43\": 2, \"33\": 1, \"70\": 1}, \"113\": {\"113\": 12}, \"42\": {\"42\": 12}, \"32\": {\"32\": 9, \"69\": 1, \"121\": 1, \"120\": 1}, \"96\": {\"96\": 7, \"121\": 1, \"117\": 1, \"109\": 1, \"52\": 1, \"23\": 1}, \"41\": {\"41\": 11, \"52\": 1}, \"18\": {\"18\": 12}, \"69\": {\"69\": 12}, \"129\": {\"129\": 12}, \"76\": {\"76\": 12}, \"48\": {\"48\": 12}, \"106\": {\"106\": 11, \"121\": 1}, \"20\": {\"20\": 12}, \"72\": {\"72\": 12}, \"81\": {\"81\": 12}, \"122\": {\"122\": 10, \"43\": 1, \"39\": 1}, \"9\": {\"9\": 12}, \"123\": {\"123\": 12}, \"114\": {\"114\": 9, \"71\": 2, \"13\": 1}, \"85\": {\"85\": 12}, \"112\": {\"112\": 11, \"23\": 1}, \"33\": {\"33\": 12}, \"77\": {\"77\": 12}, \"29\": {\"29\": 12}, \"55\": {\"55\": 12}, \"21\": {\"21\": 10, \"0\": 2}, \"61\": {\"61\": 11, \"35\": 1}, \"15\": {\"15\": 10, \"10\": 2}, \"38\": {\"38\": 11, \"5\": 1}, \"128\": {\"128\": 5, \"7\": 1, \"60\": 2, \"28\": 1, \"19\": 1, \"34\": 1, \"103\": 1}, \"124\": {\"124\": 12}, \"125\": {\"125\": 12}, \"2\": {\"2\": 10, \"26\": 2}, \"108\": {\"108\": 8, \"88\": 1, \"2\": 1, \"93\": 1, \"73\": 1}, \"71\": {\"71\": 12}, \"44\": {\"44\": 11, \"90\": 1}, \"70\": {\"70\": 11, \"88\": 1}, \"27\": {\"27\": 12}, \"109\": {\"109\": 9, \"96\": 2, \"23\": 1}, \"95\": {\"95\": 12}, \"40\": {\"78\": 1, \"40\": 11}, \"37\": {\"37\": 12}, \"127\": {\"4\": 1, \"127\": 10, \"51\": 1}, \"118\": {\"118\": 9, \"23\": 1, \"62\": 2}, \"105\": {\"105\": 10, \"23\": 1, \"43\": 1}, \"7\": {\"7\": 12}, \"97\": {\"97\": 7, \"24\": 2, \"94\": 1, \"54\": 1, \"36\": 1}, \"66\": {\"66\": 12}, \"68\": {\"68\": 11, \"23\": 1}, \"24\": {\"97\": 3, \"24\": 5, \"36\": 4}, \"47\": {\"47\": 11, \"89\": 1}, \"117\": {\"117\": 12}, \"78\": {\"74\": 1, \"105\": 1, \"78\": 5, \"87\": 2, \"99\": 1, \"110\": 1, \"26\": 1}, \"89\": {\"89\": 12}, \"84\": {\"84\": 12}, \"22\": {\"22\": 12}, \"83\": {\"83\": 12}, \"39\": {\"39\": 11, \"3\": 1}, \"103\": {\"103\": 12}, \"121\": {\"121\": 11, \"116\": 1}, \"43\": {\"43\": 9, \"19\": 1, \"87\": 2}, \"67\": {\"102\": 3, \"113\": 1, \"67\": 4, \"123\": 1, \"115\": 1, \"107\": 2}, \"75\": {\"75\": 12}, \"3\": {\"3\": 12}, \"88\": {\"88\": 7, \"73\": 3, \"5\": 1, \"70\": 1}, \"98\": {\"96\": 1, \"98\": 11}, \"17\": {\"17\": 12}, \"91\": {\"91\": 11, \"23\": 1}, \"82\": {\"82\": 11, \"81\": 1}, \"31\": {\"31\": 10, \"118\": 1, \"88\": 1}, \"5\": {\"70\": 2, \"5\": 9, \"51\": 1}, \"49\": {\"49\": 9, \"53\": 1, \"70\": 2}, \"126\": {\"126\": 11, \"39\": 1}, \"115\": {\"86\": 5, \"115\": 4, \"17\": 3}, \"87\": {\"87\": 6, \"43\": 1, \"105\": 5}, \"80\": {\"80\": 12}, \"34\": {\"34\": 7, \"47\": 3, \"75\": 1, \"19\": 1}, \"16\": {\"16\": 10, \"21\": 2}, \"4\": {\"4\": 12}, \"107\": {\"107\": 12}, \"23\": {\"52\": 1, \"78\": 1, \"123\": 4, \"23\": 2, \"110\": 1, \"21\": 1, \"113\": 1, \"42\": 1}, \"90\": {\"90\": 12}, \"73\": {\"73\": 8, \"14\": 1, \"46\": 1, \"108\": 2}, \"19\": {\"19\": 10, \"110\": 2}, \"56\": {\"56\": 12}, \"110\": {\"110\": 12}, \"28\": {\"124\": 2, \"28\": 10}, \"58\": {\"58\": 12}, \"99\": {\"99\": 9, \"89\": 1, \"78\": 1, \"57\": 1}, \"94\": {\"94\": 10, \"54\": 1, \"21\": 1}, \"64\": {\"64\": 12}, \"101\": {\"101\": 9, \"0\": 3}, \"52\": {\"12\": 1, \"41\": 1, \"52\": 9, \"111\": 1}, \"92\": {\"92\": 12}, \"93\": {\"93\": 12}, \"14\": {\"14\": 12}, \"59\": {\"59\": 11, \"54\": 1}, \"74\": {\"60\": 2, \"74\": 8, \"99\": 1, \"52\": 1}, \"10\": {\"30\": 4, \"10\": 8}, \"100\": {\"100\": 11, \"23\": 1}, \"57\": {\"57\": 12}, \"35\": {\"35\": 12}, \"1\": {\"1\": 9, \"33\": 1, \"108\": 1, \"37\": 1}, \"79\": {\"79\": 12}, \"0\": {\"101\": 8, \"0\": 4}, \"26\": {\"26\": 12}, \"116\": {\"116\": 8, \"99\": 2, \"41\": 1, \"74\": 1}, \"119\": {\"119\": 10, \"66\": 2}, \"50\": {\"50\": 9, \"51\": 1, \"87\": 2}, \"12\": {\"111\": 3, \"12\": 9}, \"104\": {\"104\": 12}, \"51\": {\"58\": 5, \"5\": 1, \"23\": 2, \"51\": 2, \"59\": 1, \"128\": 1}, \"6\": {\"6\": 12}, \"30\": {\"30\": 12}, \"46\": {\"46\": 12}}, \"2\": {\"119\": {\"119\": 12}, \"54\": {\"54\": 12}, \"28\": {\"28\": 11, \"112\": 1}, \"96\": {\"96\": 11, \"88\": 1}, \"39\": {\"13\": 1, \"39\": 9, \"81\": 1, \"16\": 1}, \"38\": {\"38\": 12}, \"31\": {\"31\": 12}, \"0\": {\"0\": 7, \"101\": 4, \"118\": 1}, \"27\": {\"27\": 12}, \"47\": {\"47\": 9, \"88\": 1, \"12\": 1, \"0\": 1}, \"76\": {\"76\": 11, \"92\": 1}, \"114\": {\"114\": 12}, \"92\": {\"92\": 10, \"43\": 1, \"89\": 1}, \"111\": {\"111\": 9, \"112\": 1, \"127\": 2}, \"63\": {\"63\": 12}, \"86\": {\"86\": 12}, \"51\": {\"97\": 4, \"51\": 4, \"14\": 1, \"75\": 1, \"6\": 1, \"55\": 1}, \"122\": {\"122\": 9, \"46\": 1, \"70\": 1, \"128\": 1}, \"56\": {\"56\": 12}, \"115\": {\"115\": 9, \"54\": 1, \"7\": 1, \"112\": 1}, \"71\": {\"71\": 12}, \"103\": {\"103\": 12}, \"94\": {\"43\": 1, \"94\": 11}, \"57\": {\"57\": 12}, \"58\": {\"58\": 12}, \"29\": {\"29\": 11, \"59\": 1}, \"124\": {\"124\": 12}, \"49\": {\"49\": 8, \"77\": 1, \"21\": 1, \"11\": 1, \"53\": 1}, \"72\": {\"72\": 12}, \"9\": {\"9\": 12}, \"85\": {\"85\": 11, \"112\": 1}, \"35\": {\"35\": 10, \"115\": 2}, \"123\": {\"123\": 11, \"60\": 1}, \"46\": {\"46\": 11, \"83\": 1}, \"17\": {\"17\": 10, \"87\": 1, \"4\": 1}, \"8\": {\"8\": 11, \"72\": 1}, \"116\": {\"116\": 12}, \"82\": {\"82\": 12}, \"14\": {\"36\": 1, \"14\": 6, \"126\": 1, \"87\": 1, \"70\": 1, \"27\": 1, \"84\": 1}, \"84\": {\"84\": 12}, \"73\": {\"15\": 1, \"73\": 11}, \"120\": {\"120\": 12}, \"1\": {\"1\": 12}, \"81\": {\"81\": 11, \"110\": 1}, \"37\": {\"37\": 12}, \"2\": {\"2\": 11, \"88\": 1}, \"7\": {\"7\": 12}, \"50\": {\"50\": 11, \"112\": 1}, \"74\": {\"74\": 12}, \"70\": {\"126\": 1, \"70\": 8, \"110\": 2, \"43\": 1}, \"99\": {\"99\": 12}, \"20\": {\"20\": 11, \"21\": 1}, \"113\": {\"113\": 12}, \"110\": {\"110\": 10, \"58\": 1, \"59\": 1}, \"125\": {\"125\": 12}, \"127\": {\"127\": 11, \"107\": 1}, \"4\": {\"4\": 12}, \"43\": {\"116\": 1, \"43\": 8, \"78\": 2, \"70\": 1}, \"12\": {\"12\": 12}, \"22\": {\"22\": 12}, \"66\": {\"66\": 12}, \"121\": {\"121\": 9, \"13\": 2, \"109\": 1}, \"41\": {\"41\": 12}, \"60\": {\"60\": 12}, \"26\": {\"26\": 10, \"69\": 2}, \"24\": {\"24\": 9, \"112\": 1, \"36\": 2}, \"45\": {\"60\": 1, \"45\": 11}, \"64\": {\"64\": 12}, \"34\": {\"6\": 1, \"37\": 5, \"86\": 1, \"34\": 5}, \"65\": {\"65\": 12}, \"21\": {\"21\": 8, \"0\": 1, \"115\": 1, \"118\": 1, \"110\": 1}, \"32\": {\"32\": 8, \"14\": 2, \"8\": 1, \"74\": 1}, \"117\": {\"117\": 12}, \"19\": {\"19\": 10, \"123\": 2}, \"102\": {\"102\": 11, \"112\": 1}, \"75\": {\"9\": 1, \"75\": 11}, \"108\": {\"108\": 11, \"24\": 1}, \"69\": {\"69\": 12}, \"88\": {\"88\": 10, \"72\": 1, \"118\": 1}, \"107\": {\"107\": 11, \"71\": 1}, \"93\": {\"93\": 11, \"60\": 1}, \"33\": {\"33\": 12}, \"30\": {\"30\": 11, \"13\": 1}, \"68\": {\"68\": 11, \"65\": 1}, \"78\": {\"78\": 5, \"95\": 1, \"43\": 4, \"107\": 1, \"21\": 1}, \"13\": {\"13\": 12}, \"52\": {\"52\": 11, \"128\": 1}, \"100\": {\"100\": 11, \"88\": 1}, \"97\": {\"106\": 1, \"97\": 7, \"15\": 1, \"22\": 1, \"60\": 1, \"30\": 1}, \"61\": {\"61\": 12}, \"77\": {\"77\": 11, \"59\": 1}, \"67\": {\"67\": 10, \"55\": 1, \"118\": 1}, \"126\": {\"126\": 10, \"16\": 1, \"18\": 1}, \"128\": {\"71\": 1, \"12\": 1, \"101\": 2, \"0\": 1, \"128\": 6, \"112\": 1}, \"79\": {\"79\": 12}, \"44\": {\"44\": 12}, \"89\": {\"92\": 4, \"89\": 8}, \"55\": {\"55\": 11, \"78\": 1}, \"48\": {\"48\": 11, \"59\": 1}, \"6\": {\"6\": 12}, \"87\": {\"87\": 11, \"60\": 1}, \"62\": {\"62\": 11, \"112\": 1}, \"109\": {\"109\": 7, \"21\": 2, \"81\": 2, \"31\": 1}, \"95\": {\"95\": 11, \"53\": 1}, \"40\": {\"40\": 9, \"105\": 3}, \"3\": {\"3\": 12}, \"98\": {\"98\": 11, \"81\": 1}, \"101\": {\"101\": 10, \"0\": 1, \"59\": 1}, \"5\": {\"5\": 12}, \"36\": {\"36\": 11, \"13\": 1}, \"90\": {\"90\": 12}, \"10\": {\"10\": 12}, \"80\": {\"80\": 10, \"14\": 2}, \"11\": {\"11\": 8, \"49\": 1, \"16\": 1, \"114\": 1, \"108\": 1}, \"112\": {\"112\": 9, \"42\": 1, \"3\": 1, \"128\": 1}, \"105\": {\"105\": 12}, \"129\": {\"129\": 12}, \"15\": {\"97\": 1, \"15\": 11}, \"25\": {\"25\": 11, \"77\": 1}, \"83\": {\"83\": 12}, \"23\": {\"23\": 9, \"123\": 1, \"29\": 1, \"19\": 1}, \"118\": {\"118\": 11, \"55\": 1}, \"42\": {\"42\": 12}, \"16\": {\"16\": 11, \"118\": 1}, \"106\": {\"106\": 12}, \"59\": {\"59\": 11, \"45\": 1}, \"104\": {\"104\": 11, \"86\": 1}, \"91\": {\"91\": 10, \"28\": 1, \"41\": 1}, \"53\": {\"58\": 1, \"53\": 10, \"123\": 1}, \"18\": {\"18\": 11, \"43\": 1}}, \"1\": {\"69\": {\"69\": 12}, \"61\": {\"61\": 10, \"35\": 2}, \"17\": {\"17\": 10, \"78\": 1, \"60\": 1}, \"24\": {\"24\": 10, \"108\": 1, \"95\": 1}, \"47\": {\"47\": 10, \"9\": 2}, \"96\": {\"126\": 1, \"96\": 6, \"99\": 3, \"46\": 1, \"70\": 1}, \"88\": {\"88\": 10, \"96\": 1, \"97\": 1}, \"43\": {\"43\": 10, \"78\": 2}, \"49\": {\"49\": 7, \"44\": 1, \"12\": 2, \"15\": 2}, \"92\": {\"92\": 12}, \"123\": {\"123\": 12}, \"39\": {\"16\": 3, \"39\": 7, \"13\": 2}, \"5\": {\"5\": 11, \"78\": 1}, \"121\": {\"121\": 11, \"76\": 1}, \"104\": {\"23\": 1, \"104\": 10, \"34\": 1}, \"95\": {\"95\": 11, \"89\": 1}, \"111\": {\"111\": 12}, \"112\": {\"112\": 12}, \"1\": {\"1\": 11, \"129\": 1}, \"38\": {\"38\": 12}, \"116\": {\"116\": 12}, \"46\": {\"94\": 4, \"46\": 2, \"54\": 4, \"89\": 2}, \"18\": {\"18\": 11, \"69\": 1}, \"78\": {\"43\": 3, \"78\": 5, \"84\": 1, \"21\": 1, \"87\": 2}, \"48\": {\"48\": 12}, \"51\": {\"51\": 9, \"98\": 3}, \"65\": {\"65\": 5, \"76\": 4, \"102\": 2, \"22\": 1}, \"29\": {\"29\": 12}, \"55\": {\"55\": 12}, \"14\": {\"14\": 12}, \"91\": {\"91\": 10, \"58\": 1, \"42\": 1}, \"56\": {\"56\": 10, \"13\": 1, \"52\": 1}, \"6\": {\"6\": 12}, \"90\": {\"90\": 12}, \"2\": {\"96\": 1, \"11\": 2, \"2\": 9}, \"120\": {\"120\": 12}, \"63\": {\"63\": 12}, \"52\": {\"52\": 12}, \"58\": {\"58\": 12}, \"74\": {\"74\": 12}, \"21\": {\"65\": 1, \"21\": 9, \"12\": 1, \"78\": 1}, \"118\": {\"118\": 11, \"105\": 1}, \"59\": {\"59\": 12}, \"101\": {\"101\": 12}, \"110\": {\"110\": 12}, \"25\": {\"25\": 11, \"21\": 1}, \"73\": {\"73\": 11, \"35\": 1}, \"41\": {\"41\": 12}, \"124\": {\"124\": 12}, \"66\": {\"66\": 12}, \"125\": {\"125\": 12}, \"26\": {\"26\": 12}, \"89\": {\"89\": 10, \"9\": 1, \"60\": 1}, \"103\": {\"103\": 12}, \"115\": {\"115\": 12}, \"93\": {\"107\": 1, \"93\": 10, \"78\": 1}, \"81\": {\"81\": 12}, \"72\": {\"72\": 12}, \"98\": {\"98\": 12}, \"114\": {\"114\": 12}, \"40\": {\"40\": 11, \"105\": 1}, \"108\": {\"47\": 1, \"108\": 11}, \"50\": {\"50\": 11, \"41\": 1}, \"8\": {\"8\": 10, \"80\": 1, \"29\": 1}, \"23\": {\"23\": 3, \"30\": 1, \"60\": 2, \"58\": 1, \"35\": 2, \"63\": 1, \"75\": 1, \"104\": 1}, \"37\": {\"37\": 12}, \"4\": {\"4\": 10, \"93\": 1, \"55\": 1}, \"119\": {\"119\": 12}, \"77\": {\"77\": 12}, \"70\": {\"70\": 8, \"78\": 1, \"128\": 2, \"5\": 1}, \"44\": {\"44\": 12}, \"60\": {\"60\": 7, \"123\": 2, \"34\": 3}, \"117\": {\"117\": 12}, \"45\": {\"104\": 5, \"29\": 2, \"45\": 4, \"95\": 1}, \"10\": {\"10\": 10, \"85\": 1, \"0\": 1}, \"87\": {\"87\": 12}, \"127\": {\"127\": 11, \"111\": 1}, \"100\": {\"100\": 11, \"99\": 1}, \"15\": {\"15\": 10, \"27\": 2}, \"82\": {\"82\": 12}, \"27\": {\"27\": 12}, \"22\": {\"22\": 12}, \"71\": {\"71\": 12}, \"99\": {\"99\": 10, \"79\": 2}, \"53\": {\"53\": 12}, \"107\": {\"107\": 11, \"21\": 1}, \"106\": {\"113\": 1, \"106\": 11}, \"105\": {\"105\": 10, \"40\": 2}, \"31\": {\"31\": 12}, \"109\": {\"108\": 1, \"109\": 8, \"126\": 2, \"60\": 1}, \"128\": {\"128\": 10, \"70\": 1, \"45\": 1}, \"32\": {\"58\": 2, \"32\": 7, \"107\": 3}, \"85\": {\"85\": 12}, \"12\": {\"12\": 11, \"24\": 1}, \"76\": {\"76\": 11, \"27\": 1}, \"129\": {\"129\": 12}, \"28\": {\"28\": 11, \"60\": 1}, \"16\": {\"16\": 12}, \"3\": {\"3\": 12}, \"86\": {\"86\": 12}, \"68\": {\"68\": 12}, \"7\": {\"7\": 12}, \"102\": {\"102\": 11, \"12\": 1}, \"113\": {\"117\": 2, \"113\": 10}, \"79\": {\"79\": 12}, \"94\": {\"94\": 12}, \"30\": {\"30\": 10, \"97\": 1, \"6\": 1}, \"84\": {\"84\": 12}, \"33\": {\"33\": 12}, \"36\": {\"36\": 12}, \"20\": {\"20\": 12}, \"13\": {\"71\": 1, \"13\": 10, \"39\": 1}, \"11\": {\"11\": 12}, \"126\": {\"126\": 7, \"109\": 3, \"96\": 2}, \"83\": {\"83\": 11, \"78\": 1}, \"35\": {\"35\": 12}, \"75\": {\"75\": 11, \"112\": 1}, \"62\": {\"62\": 12}, \"80\": {\"80\": 12}, \"64\": {\"64\": 12}, \"57\": {\"57\": 11, \"74\": 1}, \"42\": {\"104\": 2, \"45\": 1, \"42\": 6, \"109\": 2, \"60\": 1}, \"34\": {\"34\": 7, \"46\": 2, \"57\": 1, \"17\": 1, \"125\": 1}, \"122\": {\"122\": 10, \"105\": 1, \"78\": 1}, \"9\": {\"9\": 12}, \"67\": {\"67\": 12}, \"97\": {\"97\": 7, \"88\": 2, \"108\": 1, \"24\": 1, \"36\": 1}, \"0\": {\"85\": 1, \"0\": 10, \"24\": 1}, \"54\": {\"54\": 12}, \"19\": {\"19\": 10, \"29\": 2}}}, \"per_domain_accuracy\": {\"3\": {\"accuracy\": 0.9653846153846154, \"source?\": true}, \"4\": {\"accuracy\": 0.8641025641025641, \"source?\": false}, \"2\": {\"accuracy\": 0.889102564102564, \"source?\": false}, \"1\": {\"accuracy\": 0.8878205128205128, \"source?\": false}}}, \"history\": {\"epoch_indices\": [1, 2, 3, 4, 5, 6, 7, 8, 9, 10, 11, 12, 13, 14, 15, 16, 17, 18, 19], \"train_label_loss\": [2.564825020896064, 1.0472121596336366, 0.6902018480830723, 0.5031975898477766, 0.38450534807311165, 0.29448427657286325, 0.24898630364073648, 0.23142591847313776, 0.19785950779914857, 0.18461768991417354, 0.1665361397796207, 0.13748315158817503, 0.14773664962914254, 0.13291546425057782, 0.12483115618427594, 0.10981348570850161, 0.09860274771021472, 0.09576896840913428, 0.0781356273839871], \"source_val_label_loss\": [1.3151493072509766, 0.774552047252655, 0.5674028396606445, 0.440574586391449, 0.34401094913482666, 0.3074875473976135, 0.2716792821884155, 0.2584397494792938, 0.25160855054855347, 0.23501132428646088, 0.2185981124639511, 0.22082361578941345, 0.21553641557693481, 0.21465706825256348, 0.2020774930715561, 0.19888266921043396, 0.19875065982341766, 0.2120991051197052, 0.20872384309768677], \"target_val_label_loss\": [1.5534403324127197, 1.1014169454574585, 0.964980959892273, 0.8609445691108704, 0.7979221940040588, 0.753890335559845, 0.7319304347038269, 0.722996711730957, 0.6981566548347473, 0.6830015182495117, 0.6716857552528381, 0.6755216717720032, 0.6511988043785095, 0.6647025346755981, 0.6543340682983398, 0.6603028774261475, 0.666667640209198, 0.6529256105422974, 0.664777934551239], \"source_val_acc_label\": [0.7807692307692308, 0.860897435897436, 0.8955128205128206, 0.9198717948717948, 0.9474358974358974, 0.9493589743589743, 0.9525641025641025, 0.9564102564102565, 0.958974358974359, 0.9602564102564103, 0.9615384615384616, 0.9634615384615385, 0.9628205128205128, 0.9647435897435898, 0.9653846153846154, 0.966025641025641, 0.9666666666666667, 0.9673076923076923, 0.9653846153846154], \"target_val_acc_label\": [0.7275641025641025, 0.788034188034188, 0.8134615384615385, 0.8378205128205128, 0.8480769230769231, 0.8547008547008547, 0.8602564102564103, 0.864957264957265, 0.8673076923076923, 0.8754273504273504, 0.8705128205128205, 0.8705128205128205, 0.8735042735042735, 0.8769230769230769, 0.8803418803418803, 0.8786324786324786, 0.8754273504273504, 0.8792735042735043, 0.8756410256410256]}, \"dataset_metrics\": {\"source\": {\"train\": {\"n_unique_x\": 19767, \"n_unique_y\": 130, \"n_batch/episode\": 45}, \"val\": {\"n_unique_x\": 3165, \"n_unique_y\": 130, \"n_batch/episode\": 6}, \"test\": {\"n_unique_x\": 3212, \"n_unique_y\": 130, \"n_batch/episode\": 6}}, \"target\": {\"train\": {\"n_unique_x\": 60208, \"n_unique_y\": 130, \"n_batch/episode\": 138}, \"val\": {\"n_unique_x\": 9471, \"n_unique_y\": 130, \"n_batch/episode\": 18}, \"test\": {\"n_unique_x\": 9558, \"n_unique_y\": 130, \"n_batch/episode\": 18}}}}'"
      ]
     },
     "execution_count": 20,
     "metadata": {},
     "output_type": "execute_result"
    }
   ],
   "source": [
    "json.dumps(experiment)"
   ]
  }
 ],
 "metadata": {
  "celltoolbar": "Tags",
  "kernelspec": {
   "display_name": "Python 3 (ipykernel)",
   "language": "python",
   "name": "python3"
  },
  "language_info": {
   "codemirror_mode": {
    "name": "ipython",
    "version": 3
   },
   "file_extension": ".py",
   "mimetype": "text/x-python",
   "name": "python",
   "nbconvert_exporter": "python",
   "pygments_lexer": "ipython3",
   "version": "3.8.10"
  },
  "papermill": {
   "default_parameters": {},
   "duration": 197.149645,
   "end_time": "2022-03-22T17:12:03.611328",
   "environment_variables": {},
   "exception": null,
   "input_path": "/mnt/wd500GB/CSC500/csc500-main/csc500-notebooks/templates/ptn_template.ipynb",
   "output_path": "trial.ipynb",
   "parameters": {
    "parameters": {
     "BEST_MODEL_PATH": "./best_model.pth",
     "NUM_LOGS_PER_EPOCH": 10,
     "criteria_for_best": "target_accuracy",
     "dataset_seed": 7,
     "device": "cuda",
     "domains_source": [
      3
     ],
     "domains_target": [
      1,
      2,
      4
     ],
     "episode_transforms_source": [],
     "episode_transforms_target": [],
     "experiment_name": "tuned_1v2:wisig",
     "labels_source": [
      "1-10",
      "1-12",
      "1-14",
      "1-16",
      "1-18",
      "1-19",
      "1-8",
      "10-11",
      "10-17",
      "10-4",
      "10-7",
      "11-1",
      "11-10",
      "11-19",
      "11-20",
      "11-4",
      "11-7",
      "12-19",
      "12-20",
      "12-7",
      "13-14",
      "13-18",
      "13-19",
      "13-20",
      "13-3",
      "13-7",
      "14-10",
      "14-11",
      "14-12",
      "14-13",
      "14-14",
      "14-19",
      "14-20",
      "14-7",
      "14-8",
      "14-9",
      "15-1",
      "15-19",
      "15-6",
      "16-1",
      "16-16",
      "16-19",
      "16-20",
      "17-10",
      "17-11",
      "18-1",
      "18-10",
      "18-11",
      "18-12",
      "18-13",
      "18-14",
      "18-15",
      "18-16",
      "18-17",
      "18-19",
      "18-2",
      "18-20",
      "18-4",
      "18-5",
      "18-7",
      "18-8",
      "18-9",
      "19-1",
      "19-10",
      "19-11",
      "19-12",
      "19-13",
      "19-14",
      "19-15",
      "19-19",
      "19-2",
      "19-20",
      "19-3",
      "19-4",
      "19-6",
      "19-7",
      "19-8",
      "19-9",
      "2-1",
      "2-13",
      "2-15",
      "2-3",
      "2-4",
      "2-5",
      "2-6",
      "2-7",
      "2-8",
      "20-1",
      "20-12",
      "20-14",
      "20-15",
      "20-16",
      "20-18",
      "20-19",
      "20-20",
      "20-3",
      "20-4",
      "20-5",
      "20-7",
      "20-8",
      "3-1",
      "3-13",
      "3-18",
      "3-2",
      "3-8",
      "4-1",
      "4-10",
      "4-11",
      "5-1",
      "5-5",
      "6-1",
      "6-15",
      "6-6",
      "7-10",
      "7-11",
      "7-12",
      "7-13",
      "7-14",
      "7-7",
      "7-8",
      "7-9",
      "8-1",
      "8-13",
      "8-14",
      "8-18",
      "8-20",
      "8-3",
      "8-8",
      "9-1",
      "9-7"
     ],
     "labels_target": [
      "1-10",
      "1-12",
      "1-14",
      "1-16",
      "1-18",
      "1-19",
      "1-8",
      "10-11",
      "10-17",
      "10-4",
      "10-7",
      "11-1",
      "11-10",
      "11-19",
      "11-20",
      "11-4",
      "11-7",
      "12-19",
      "12-20",
      "12-7",
      "13-14",
      "13-18",
      "13-19",
      "13-20",
      "13-3",
      "13-7",
      "14-10",
      "14-11",
      "14-12",
      "14-13",
      "14-14",
      "14-19",
      "14-20",
      "14-7",
      "14-8",
      "14-9",
      "15-1",
      "15-19",
      "15-6",
      "16-1",
      "16-16",
      "16-19",
      "16-20",
      "17-10",
      "17-11",
      "18-1",
      "18-10",
      "18-11",
      "18-12",
      "18-13",
      "18-14",
      "18-15",
      "18-16",
      "18-17",
      "18-19",
      "18-2",
      "18-20",
      "18-4",
      "18-5",
      "18-7",
      "18-8",
      "18-9",
      "19-1",
      "19-10",
      "19-11",
      "19-12",
      "19-13",
      "19-14",
      "19-15",
      "19-19",
      "19-2",
      "19-20",
      "19-3",
      "19-4",
      "19-6",
      "19-7",
      "19-8",
      "19-9",
      "2-1",
      "2-13",
      "2-15",
      "2-3",
      "2-4",
      "2-5",
      "2-6",
      "2-7",
      "2-8",
      "20-1",
      "20-12",
      "20-14",
      "20-15",
      "20-16",
      "20-18",
      "20-19",
      "20-20",
      "20-3",
      "20-4",
      "20-5",
      "20-7",
      "20-8",
      "3-1",
      "3-13",
      "3-18",
      "3-2",
      "3-8",
      "4-1",
      "4-10",
      "4-11",
      "5-1",
      "5-5",
      "6-1",
      "6-15",
      "6-6",
      "7-10",
      "7-11",
      "7-12",
      "7-13",
      "7-14",
      "7-7",
      "7-8",
      "7-9",
      "8-1",
      "8-13",
      "8-14",
      "8-18",
      "8-20",
      "8-3",
      "8-8",
      "9-1",
      "9-7"
     ],
     "lr": 0.0001,
     "n_epoch": 50,
     "n_query": 2,
     "n_shot": 3,
     "n_way": 130,
     "num_examples_per_domain_per_label_source": -1,
     "num_examples_per_domain_per_label_target": -1,
     "patience": 3,
     "pickle_name": "wisig.node3-19.stratified_ds.2022A.pkl",
     "seed": 7,
     "test_k_factor": 2,
     "torch_default_dtype": "torch.float32",
     "train_k_factor": 3,
     "val_k_factor": 2,
     "x_net": [
      {
       "class": "nnReshape",
       "kargs": {
        "shape": [
         -1,
         1,
         2,
         256
        ]
       }
      },
      {
       "class": "Conv2d",
       "kargs": {
        "bias": false,
        "in_channels": 1,
        "kernel_size": [
         1,
         7
        ],
        "out_channels": 256,
        "padding": [
         0,
         3
        ]
       }
      },
      {
       "class": "ReLU",
       "kargs": {
        "inplace": true
       }
      },
      {
       "class": "BatchNorm2d",
       "kargs": {
        "num_features": 256
       }
      },
      {
       "class": "Conv2d",
       "kargs": {
        "bias": true,
        "in_channels": 256,
        "kernel_size": [
         2,
         7
        ],
        "out_channels": 80,
        "padding": [
         0,
         3
        ]
       }
      },
      {
       "class": "ReLU",
       "kargs": {
        "inplace": true
       }
      },
      {
       "class": "BatchNorm2d",
       "kargs": {
        "num_features": 80
       }
      },
      {
       "class": "Flatten",
       "kargs": {}
      },
      {
       "class": "Linear",
       "kargs": {
        "in_features": 20480,
        "out_features": 256
       }
      },
      {
       "class": "ReLU",
       "kargs": {
        "inplace": true
       }
      },
      {
       "class": "BatchNorm1d",
       "kargs": {
        "num_features": 256
       }
      },
      {
       "class": "Linear",
       "kargs": {
        "in_features": 256,
        "out_features": 256
       }
      }
     ],
     "x_transforms_source": [
      "unit_mag"
     ],
     "x_transforms_target": [
      "unit_mag"
     ]
    }
   },
   "start_time": "2022-03-22T17:08:46.461683",
   "version": "2.3.4"
  }
 },
 "nbformat": 4,
 "nbformat_minor": 5
}