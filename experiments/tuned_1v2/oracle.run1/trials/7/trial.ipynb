{
 "cells": [
  {
   "cell_type": "markdown",
   "id": "9fea5f46",
   "metadata": {
    "papermill": {
     "duration": 0.017059,
     "end_time": "2022-03-22T07:48:24.157811",
     "exception": false,
     "start_time": "2022-03-22T07:48:24.140752",
     "status": "completed"
    },
    "tags": []
   },
   "source": [
    "# PTN Template\n",
    "This notebook serves as a template for single dataset PTN experiments  \n",
    "It can be run on its own by setting STANDALONE to True (do a find for \"STANDALONE\" to see where)  \n",
    "But it is intended to be executed as part of a *papermill.py script. See any of the   \n",
    "experimentes with a papermill script to get started with that workflow.  "
   ]
  },
  {
   "cell_type": "code",
   "execution_count": 1,
   "id": "0902182a",
   "metadata": {
    "execution": {
     "iopub.execute_input": "2022-03-22T07:48:24.187357Z",
     "iopub.status.busy": "2022-03-22T07:48:24.186916Z",
     "iopub.status.idle": "2022-03-22T07:48:25.161954Z",
     "shell.execute_reply": "2022-03-22T07:48:25.162178Z"
    },
    "papermill": {
     "duration": 0.994092,
     "end_time": "2022-03-22T07:48:25.162303",
     "exception": false,
     "start_time": "2022-03-22T07:48:24.168211",
     "status": "completed"
    },
    "tags": []
   },
   "outputs": [],
   "source": [
    "%load_ext autoreload\n",
    "%autoreload 2\n",
    "%matplotlib inline\n",
    "\n",
    "    \n",
    "import os, json, sys, time, random\n",
    "import numpy as np\n",
    "import torch\n",
    "from torch.optim import Adam\n",
    "from  easydict import EasyDict\n",
    "import matplotlib.pyplot as plt\n",
    "\n",
    "from steves_models.steves_ptn import Steves_Prototypical_Network\n",
    "\n",
    "from steves_utils.lazy_iterable_wrapper import Lazy_Iterable_Wrapper\n",
    "from steves_utils.iterable_aggregator import Iterable_Aggregator\n",
    "from steves_utils.ptn_train_eval_test_jig import  PTN_Train_Eval_Test_Jig\n",
    "from steves_utils.torch_sequential_builder import build_sequential\n",
    "from steves_utils.torch_utils import get_dataset_metrics, ptn_confusion_by_domain_over_dataloader\n",
    "from steves_utils.utils_v2 import (per_domain_accuracy_from_confusion, get_datasets_base_path)\n",
    "from steves_utils.PTN.utils import independent_accuracy_assesment\n",
    "\n",
    "from steves_utils.stratified_dataset.episodic_accessor import Episodic_Accessor_Factory\n",
    "\n",
    "from steves_utils.ptn_do_report import (\n",
    "    get_loss_curve,\n",
    "    get_results_table,\n",
    "    get_parameters_table,\n",
    "    get_domain_accuracies,\n",
    ")\n",
    "\n",
    "from steves_utils.transforms import get_chained_transform"
   ]
  },
  {
   "cell_type": "markdown",
   "id": "41c840b4",
   "metadata": {
    "papermill": {
     "duration": 0.009369,
     "end_time": "2022-03-22T07:48:25.181554",
     "exception": false,
     "start_time": "2022-03-22T07:48:25.172185",
     "status": "completed"
    },
    "tags": []
   },
   "source": [
    "# Required Parameters\n",
    "These are allowed parameters, not defaults\n",
    "Each of these values need to be present in the injected parameters (the notebook will raise an exception if they are not present)\n",
    "\n",
    "Papermill uses the cell tag \"parameters\" to inject the real parameters below this cell.\n",
    "Enable tags to see what I mean"
   ]
  },
  {
   "cell_type": "code",
   "execution_count": 2,
   "id": "fd44eb83",
   "metadata": {
    "execution": {
     "iopub.execute_input": "2022-03-22T07:48:25.202663Z",
     "iopub.status.busy": "2022-03-22T07:48:25.202257Z",
     "iopub.status.idle": "2022-03-22T07:48:25.213995Z",
     "shell.execute_reply": "2022-03-22T07:48:25.213722Z"
    },
    "papermill": {
     "duration": 0.023305,
     "end_time": "2022-03-22T07:48:25.214059",
     "exception": false,
     "start_time": "2022-03-22T07:48:25.190754",
     "status": "completed"
    },
    "tags": []
   },
   "outputs": [],
   "source": [
    "required_parameters = {\n",
    "    \"experiment_name\",\n",
    "    \"lr\",\n",
    "    \"device\",\n",
    "    \"seed\",\n",
    "    \"dataset_seed\",\n",
    "    \"labels_source\",\n",
    "    \"labels_target\",\n",
    "    \"domains_source\",\n",
    "    \"domains_target\",\n",
    "    \"num_examples_per_domain_per_label_source\",\n",
    "    \"num_examples_per_domain_per_label_target\",\n",
    "    \"n_shot\",\n",
    "    \"n_way\",\n",
    "    \"n_query\",\n",
    "    \"train_k_factor\",\n",
    "    \"val_k_factor\",\n",
    "    \"test_k_factor\",\n",
    "    \"n_epoch\",\n",
    "    \"patience\",\n",
    "    \"criteria_for_best\",\n",
    "    \"x_transforms_source\",\n",
    "    \"x_transforms_target\",\n",
    "    \"episode_transforms_source\",\n",
    "    \"episode_transforms_target\",\n",
    "    \"pickle_name\",\n",
    "    \"x_net\",\n",
    "    \"NUM_LOGS_PER_EPOCH\",\n",
    "    \"BEST_MODEL_PATH\",\n",
    "    \"torch_default_dtype\"\n",
    "}"
   ]
  },
  {
   "cell_type": "code",
   "execution_count": 3,
   "id": "fa3f0049",
   "metadata": {
    "execution": {
     "iopub.execute_input": "2022-03-22T07:48:25.239097Z",
     "iopub.status.busy": "2022-03-22T07:48:25.238634Z",
     "iopub.status.idle": "2022-03-22T07:48:25.251740Z",
     "shell.execute_reply": "2022-03-22T07:48:25.251463Z"
    },
    "papermill": {
     "duration": 0.028312,
     "end_time": "2022-03-22T07:48:25.251801",
     "exception": false,
     "start_time": "2022-03-22T07:48:25.223489",
     "status": "completed"
    },
    "tags": [
     "parameters"
    ]
   },
   "outputs": [],
   "source": [
    "\n",
    "\n",
    "standalone_parameters = {}\n",
    "standalone_parameters[\"experiment_name\"] = \"STANDALONE PTN\"\n",
    "standalone_parameters[\"lr\"] = 0.0001\n",
    "standalone_parameters[\"device\"] = \"cuda\"\n",
    "\n",
    "standalone_parameters[\"seed\"] = 1337\n",
    "standalone_parameters[\"dataset_seed\"] = 1337\n",
    "\n",
    "\n",
    "standalone_parameters[\"num_examples_per_domain_per_label_source\"]=100\n",
    "standalone_parameters[\"num_examples_per_domain_per_label_target\"]=100\n",
    "\n",
    "standalone_parameters[\"n_shot\"] = 3\n",
    "standalone_parameters[\"n_query\"]  = 2\n",
    "standalone_parameters[\"train_k_factor\"] = 1\n",
    "standalone_parameters[\"val_k_factor\"] = 2\n",
    "standalone_parameters[\"test_k_factor\"] = 2\n",
    "\n",
    "\n",
    "standalone_parameters[\"n_epoch\"] = 100\n",
    "\n",
    "standalone_parameters[\"patience\"] = 10\n",
    "standalone_parameters[\"criteria_for_best\"] = \"target_accuracy\"\n",
    "\n",
    "standalone_parameters[\"x_transforms_source\"] = [\"unit_power\"]\n",
    "standalone_parameters[\"x_transforms_target\"] = [\"unit_power\"]\n",
    "standalone_parameters[\"episode_transforms_source\"] = []\n",
    "standalone_parameters[\"episode_transforms_target\"] = []\n",
    "\n",
    "standalone_parameters[\"torch_default_dtype\"] = \"torch.float32\" \n",
    "\n",
    "\n",
    "\n",
    "standalone_parameters[\"x_net\"] =     [\n",
    "    {\"class\": \"nnReshape\", \"kargs\": {\"shape\":[-1, 1, 2, 256]}},\n",
    "    {\"class\": \"Conv2d\", \"kargs\": { \"in_channels\":1, \"out_channels\":256, \"kernel_size\":(1,7), \"bias\":False, \"padding\":(0,3), },},\n",
    "    {\"class\": \"ReLU\", \"kargs\": {\"inplace\": True}},\n",
    "    {\"class\": \"BatchNorm2d\", \"kargs\": {\"num_features\":256}},\n",
    "\n",
    "    {\"class\": \"Conv2d\", \"kargs\": { \"in_channels\":256, \"out_channels\":80, \"kernel_size\":(2,7), \"bias\":True, \"padding\":(0,3), },},\n",
    "    {\"class\": \"ReLU\", \"kargs\": {\"inplace\": True}},\n",
    "    {\"class\": \"BatchNorm2d\", \"kargs\": {\"num_features\":80}},\n",
    "    {\"class\": \"Flatten\", \"kargs\": {}},\n",
    "\n",
    "    {\"class\": \"Linear\", \"kargs\": {\"in_features\": 80*256, \"out_features\": 256}}, # 80 units per IQ pair\n",
    "    {\"class\": \"ReLU\", \"kargs\": {\"inplace\": True}},\n",
    "    {\"class\": \"BatchNorm1d\", \"kargs\": {\"num_features\":256}},\n",
    "\n",
    "    {\"class\": \"Linear\", \"kargs\": {\"in_features\": 256, \"out_features\": 256}},\n",
    "]\n",
    "\n",
    "# Parameters relevant to results\n",
    "# These parameters will basically never need to change\n",
    "standalone_parameters[\"NUM_LOGS_PER_EPOCH\"] = 10\n",
    "standalone_parameters[\"BEST_MODEL_PATH\"] = \"./best_model.pth\"\n",
    "\n",
    "# uncomment for CORES dataset\n",
    "from steves_utils.CORES.utils import (\n",
    "    ALL_NODES,\n",
    "    ALL_NODES_MINIMUM_1000_EXAMPLES,\n",
    "    ALL_DAYS\n",
    ")\n",
    "\n",
    "\n",
    "standalone_parameters[\"labels_source\"] = ALL_NODES\n",
    "standalone_parameters[\"labels_target\"] = ALL_NODES\n",
    "\n",
    "standalone_parameters[\"domains_source\"] = [1]\n",
    "standalone_parameters[\"domains_target\"] = [2,3,4,5]\n",
    "\n",
    "standalone_parameters[\"pickle_name\"] = \"cores.stratified_ds.2022A.pkl\"\n",
    "\n",
    "\n",
    "# Uncomment these for ORACLE dataset\n",
    "# from steves_utils.ORACLE.utils_v2 import (\n",
    "#     ALL_DISTANCES_FEET,\n",
    "#     ALL_RUNS,\n",
    "#     ALL_SERIAL_NUMBERS,\n",
    "# )\n",
    "# standalone_parameters[\"labels_source\"] = ALL_SERIAL_NUMBERS\n",
    "# standalone_parameters[\"labels_target\"] = ALL_SERIAL_NUMBERS\n",
    "# standalone_parameters[\"domains_source\"] = [8,20, 38,50]\n",
    "# standalone_parameters[\"domains_target\"] = [14, 26, 32, 44, 56]\n",
    "# standalone_parameters[\"pickle_name\"] = \"oracle.frame_indexed.stratified_ds.2022A.pkl\"\n",
    "# standalone_parameters[\"num_examples_per_domain_per_label_source\"]=1000\n",
    "# standalone_parameters[\"num_examples_per_domain_per_label_target\"]=1000\n",
    "\n",
    "# Uncomment these for Metahan dataset\n",
    "# standalone_parameters[\"labels_source\"] = list(range(19))\n",
    "# standalone_parameters[\"labels_target\"] = list(range(19))\n",
    "# standalone_parameters[\"domains_source\"] = [0]\n",
    "# standalone_parameters[\"domains_target\"] = [1]\n",
    "# standalone_parameters[\"pickle_name\"] = \"metehan.stratified_ds.2022A.pkl\"\n",
    "# standalone_parameters[\"n_way\"]  = len(standalone_parameters[\"labels_source\"])\n",
    "# standalone_parameters[\"num_examples_per_domain_per_label_source\"]=200\n",
    "# standalone_parameters[\"num_examples_per_domain_per_label_target\"]=100\n",
    "\n",
    "\n",
    "standalone_parameters[\"n_way\"]  = len(standalone_parameters[\"labels_source\"])"
   ]
  },
  {
   "cell_type": "code",
   "execution_count": 4,
   "id": "9061c5f6",
   "metadata": {
    "execution": {
     "iopub.execute_input": "2022-03-22T07:48:25.278448Z",
     "iopub.status.busy": "2022-03-22T07:48:25.277893Z",
     "iopub.status.idle": "2022-03-22T07:48:25.289818Z",
     "shell.execute_reply": "2022-03-22T07:48:25.289311Z"
    },
    "papermill": {
     "duration": 0.026487,
     "end_time": "2022-03-22T07:48:25.289921",
     "exception": false,
     "start_time": "2022-03-22T07:48:25.263434",
     "status": "completed"
    },
    "tags": [
     "injected-parameters"
    ]
   },
   "outputs": [],
   "source": [
    "# Parameters\n",
    "parameters = {\n",
    "    \"experiment_name\": \"tuned_1v2:oracle.run1\",\n",
    "    \"device\": \"cuda\",\n",
    "    \"lr\": 0.0001,\n",
    "    \"labels_source\": [\n",
    "        \"3123D52\",\n",
    "        \"3123D65\",\n",
    "        \"3123D79\",\n",
    "        \"3123D80\",\n",
    "        \"3123D54\",\n",
    "        \"3123D70\",\n",
    "        \"3123D7B\",\n",
    "        \"3123D89\",\n",
    "        \"3123D58\",\n",
    "        \"3123D76\",\n",
    "        \"3123D7D\",\n",
    "        \"3123EFE\",\n",
    "        \"3123D64\",\n",
    "        \"3123D78\",\n",
    "        \"3123D7E\",\n",
    "        \"3124E4A\",\n",
    "    ],\n",
    "    \"labels_target\": [\n",
    "        \"3123D52\",\n",
    "        \"3123D65\",\n",
    "        \"3123D79\",\n",
    "        \"3123D80\",\n",
    "        \"3123D54\",\n",
    "        \"3123D70\",\n",
    "        \"3123D7B\",\n",
    "        \"3123D89\",\n",
    "        \"3123D58\",\n",
    "        \"3123D76\",\n",
    "        \"3123D7D\",\n",
    "        \"3123EFE\",\n",
    "        \"3123D64\",\n",
    "        \"3123D78\",\n",
    "        \"3123D7E\",\n",
    "        \"3124E4A\",\n",
    "    ],\n",
    "    \"episode_transforms_source\": [],\n",
    "    \"episode_transforms_target\": [],\n",
    "    \"domains_source\": [8, 32, 50],\n",
    "    \"domains_target\": [14, 20, 26, 38, 44],\n",
    "    \"num_examples_per_domain_per_label_source\": -1,\n",
    "    \"num_examples_per_domain_per_label_target\": -1,\n",
    "    \"n_shot\": 3,\n",
    "    \"n_way\": 16,\n",
    "    \"n_query\": 2,\n",
    "    \"train_k_factor\": 3,\n",
    "    \"val_k_factor\": 2,\n",
    "    \"test_k_factor\": 2,\n",
    "    \"torch_default_dtype\": \"torch.float32\",\n",
    "    \"n_epoch\": 50,\n",
    "    \"patience\": 3,\n",
    "    \"criteria_for_best\": \"target_accuracy\",\n",
    "    \"x_net\": [\n",
    "        {\"class\": \"nnReshape\", \"kargs\": {\"shape\": [-1, 1, 2, 256]}},\n",
    "        {\n",
    "            \"class\": \"Conv2d\",\n",
    "            \"kargs\": {\n",
    "                \"in_channels\": 1,\n",
    "                \"out_channels\": 256,\n",
    "                \"kernel_size\": [1, 7],\n",
    "                \"bias\": False,\n",
    "                \"padding\": [0, 3],\n",
    "            },\n",
    "        },\n",
    "        {\"class\": \"ReLU\", \"kargs\": {\"inplace\": True}},\n",
    "        {\"class\": \"BatchNorm2d\", \"kargs\": {\"num_features\": 256}},\n",
    "        {\n",
    "            \"class\": \"Conv2d\",\n",
    "            \"kargs\": {\n",
    "                \"in_channels\": 256,\n",
    "                \"out_channels\": 80,\n",
    "                \"kernel_size\": [2, 7],\n",
    "                \"bias\": True,\n",
    "                \"padding\": [0, 3],\n",
    "            },\n",
    "        },\n",
    "        {\"class\": \"ReLU\", \"kargs\": {\"inplace\": True}},\n",
    "        {\"class\": \"BatchNorm2d\", \"kargs\": {\"num_features\": 80}},\n",
    "        {\"class\": \"Flatten\", \"kargs\": {}},\n",
    "        {\"class\": \"Linear\", \"kargs\": {\"in_features\": 20480, \"out_features\": 256}},\n",
    "        {\"class\": \"ReLU\", \"kargs\": {\"inplace\": True}},\n",
    "        {\"class\": \"BatchNorm1d\", \"kargs\": {\"num_features\": 256}},\n",
    "        {\"class\": \"Linear\", \"kargs\": {\"in_features\": 256, \"out_features\": 256}},\n",
    "    ],\n",
    "    \"NUM_LOGS_PER_EPOCH\": 10,\n",
    "    \"BEST_MODEL_PATH\": \"./best_model.pth\",\n",
    "    \"pickle_name\": \"oracle.Run1_10kExamples_stratified_ds.2022A.pkl\",\n",
    "    \"x_transforms_source\": [],\n",
    "    \"x_transforms_target\": [],\n",
    "    \"dataset_seed\": 500,\n",
    "    \"seed\": 500,\n",
    "}\n"
   ]
  },
  {
   "cell_type": "code",
   "execution_count": 5,
   "id": "8fa1cc33",
   "metadata": {
    "execution": {
     "iopub.execute_input": "2022-03-22T07:48:25.317429Z",
     "iopub.status.busy": "2022-03-22T07:48:25.317162Z",
     "iopub.status.idle": "2022-03-22T07:48:25.329122Z",
     "shell.execute_reply": "2022-03-22T07:48:25.328645Z"
    },
    "papermill": {
     "duration": 0.024183,
     "end_time": "2022-03-22T07:48:25.329221",
     "exception": false,
     "start_time": "2022-03-22T07:48:25.305038",
     "status": "completed"
    },
    "tags": []
   },
   "outputs": [],
   "source": [
    "# Set this to True if you want to run this template directly\n",
    "STANDALONE = False\n",
    "if STANDALONE:\n",
    "    print(\"parameters not injected, running with standalone_parameters\")\n",
    "    parameters = standalone_parameters\n",
    "\n",
    "if not 'parameters' in locals() and not 'parameters' in globals():\n",
    "    raise Exception(\"Parameter injection failed\")\n",
    "\n",
    "#Use an easy dict for all the parameters\n",
    "p = EasyDict(parameters)\n",
    "\n",
    "supplied_keys = set(p.keys())\n",
    "\n",
    "if  supplied_keys != required_parameters:\n",
    "    print(\"Parameters are incorrect\")\n",
    "    if len(supplied_keys - required_parameters)>0: print(\"Shouldn't have:\", str(supplied_keys - required_parameters))\n",
    "    if len(required_parameters - supplied_keys)>0: print(\"Need to have:\", str(required_parameters - supplied_keys))\n",
    "    raise RuntimeError(\"Parameters are incorrect\")\n",
    "\n"
   ]
  },
  {
   "cell_type": "code",
   "execution_count": 6,
   "id": "3a028d58",
   "metadata": {
    "execution": {
     "iopub.execute_input": "2022-03-22T07:48:25.357214Z",
     "iopub.status.busy": "2022-03-22T07:48:25.356779Z",
     "iopub.status.idle": "2022-03-22T07:48:25.373840Z",
     "shell.execute_reply": "2022-03-22T07:48:25.373356Z"
    },
    "papermill": {
     "duration": 0.030283,
     "end_time": "2022-03-22T07:48:25.373940",
     "exception": false,
     "start_time": "2022-03-22T07:48:25.343657",
     "status": "completed"
    },
    "tags": []
   },
   "outputs": [],
   "source": [
    "###################################\n",
    "# Set the RNGs and make it all deterministic\n",
    "###################################\n",
    "np.random.seed(p.seed)\n",
    "random.seed(p.seed)\n",
    "torch.manual_seed(p.seed)\n",
    "\n",
    "torch.use_deterministic_algorithms(True) "
   ]
  },
  {
   "cell_type": "code",
   "execution_count": 7,
   "id": "b691acf6",
   "metadata": {
    "execution": {
     "iopub.execute_input": "2022-03-22T07:48:25.399851Z",
     "iopub.status.busy": "2022-03-22T07:48:25.399603Z",
     "iopub.status.idle": "2022-03-22T07:48:25.414914Z",
     "shell.execute_reply": "2022-03-22T07:48:25.414444Z"
    },
    "papermill": {
     "duration": 0.028111,
     "end_time": "2022-03-22T07:48:25.415012",
     "exception": false,
     "start_time": "2022-03-22T07:48:25.386901",
     "status": "completed"
    },
    "tags": []
   },
   "outputs": [],
   "source": [
    "###########################################\n",
    "# The stratified datasets honor this\n",
    "###########################################\n",
    "torch.set_default_dtype(eval(p.torch_default_dtype))"
   ]
  },
  {
   "cell_type": "code",
   "execution_count": 8,
   "id": "b5fba671",
   "metadata": {
    "execution": {
     "iopub.execute_input": "2022-03-22T07:48:25.441638Z",
     "iopub.status.busy": "2022-03-22T07:48:25.441346Z",
     "iopub.status.idle": "2022-03-22T07:48:25.484084Z",
     "shell.execute_reply": "2022-03-22T07:48:25.483648Z"
    },
    "papermill": {
     "duration": 0.054532,
     "end_time": "2022-03-22T07:48:25.484190",
     "exception": false,
     "start_time": "2022-03-22T07:48:25.429658",
     "status": "completed"
    },
    "tags": []
   },
   "outputs": [],
   "source": [
    "###################################\n",
    "# Build the network(s)\n",
    "# Note: It's critical to do this AFTER setting the RNG\n",
    "# (This is due to the randomized initial weights)\n",
    "###################################\n",
    "x_net = build_sequential(p.x_net)"
   ]
  },
  {
   "cell_type": "code",
   "execution_count": 9,
   "id": "5d7e61cc",
   "metadata": {
    "execution": {
     "iopub.execute_input": "2022-03-22T07:48:25.512140Z",
     "iopub.status.busy": "2022-03-22T07:48:25.511638Z",
     "iopub.status.idle": "2022-03-22T07:48:25.526490Z",
     "shell.execute_reply": "2022-03-22T07:48:25.526130Z"
    },
    "papermill": {
     "duration": 0.02717,
     "end_time": "2022-03-22T07:48:25.526566",
     "exception": false,
     "start_time": "2022-03-22T07:48:25.499396",
     "status": "completed"
    },
    "tags": []
   },
   "outputs": [],
   "source": [
    "start_time_secs = time.time()"
   ]
  },
  {
   "cell_type": "code",
   "execution_count": 10,
   "id": "fd5442bc",
   "metadata": {
    "execution": {
     "iopub.execute_input": "2022-03-22T07:48:25.561404Z",
     "iopub.status.busy": "2022-03-22T07:48:25.560932Z",
     "iopub.status.idle": "2022-03-22T07:48:32.558558Z",
     "shell.execute_reply": "2022-03-22T07:48:32.558971Z"
    },
    "papermill": {
     "duration": 7.016661,
     "end_time": "2022-03-22T07:48:32.559113",
     "exception": false,
     "start_time": "2022-03-22T07:48:25.542452",
     "status": "completed"
    },
    "tags": []
   },
   "outputs": [],
   "source": [
    "###################################\n",
    "# Build the dataset\n",
    "###################################\n",
    "\n",
    "if p.x_transforms_source == []: x_transform_source = None\n",
    "else: x_transform_source = get_chained_transform(p.x_transforms_source) \n",
    "\n",
    "if p.x_transforms_target == []: x_transform_target = None\n",
    "else: x_transform_target = get_chained_transform(p.x_transforms_target)\n",
    "\n",
    "if p.episode_transforms_source == []: episode_transform_source = None\n",
    "else: raise Exception(\"episode_transform_source not implemented\")\n",
    "\n",
    "if p.episode_transforms_target == []: episode_transform_target = None\n",
    "else: raise Exception(\"episode_transform_target not implemented\")\n",
    "\n",
    "\n",
    "eaf_source = Episodic_Accessor_Factory(\n",
    "    labels=p.labels_source,\n",
    "    domains=p.domains_source,\n",
    "    num_examples_per_domain_per_label=p.num_examples_per_domain_per_label_source,\n",
    "    iterator_seed=p.seed,\n",
    "    dataset_seed=p.dataset_seed,\n",
    "    n_shot=p.n_shot,\n",
    "    n_way=p.n_way,\n",
    "    n_query=p.n_query,\n",
    "    train_val_test_k_factors=(p.train_k_factor,p.val_k_factor,p.test_k_factor),\n",
    "    pickle_path=os.path.join(get_datasets_base_path(), p.pickle_name),\n",
    "    x_transform_func=x_transform_source,\n",
    "    example_transform_func=episode_transform_source,\n",
    "    \n",
    ")\n",
    "train_original_source, val_original_source, test_original_source = eaf_source.get_train(), eaf_source.get_val(), eaf_source.get_test()\n",
    "\n",
    "\n",
    "eaf_target = Episodic_Accessor_Factory(\n",
    "    labels=p.labels_target,\n",
    "    domains=p.domains_target,\n",
    "    num_examples_per_domain_per_label=p.num_examples_per_domain_per_label_target,\n",
    "    iterator_seed=p.seed,\n",
    "    dataset_seed=p.dataset_seed,\n",
    "    n_shot=p.n_shot,\n",
    "    n_way=p.n_way,\n",
    "    n_query=p.n_query,\n",
    "    train_val_test_k_factors=(p.train_k_factor,p.val_k_factor,p.test_k_factor),\n",
    "    pickle_path=os.path.join(get_datasets_base_path(), p.pickle_name),\n",
    "    x_transform_func=x_transform_target,\n",
    "    example_transform_func=episode_transform_target,\n",
    ")\n",
    "train_original_target, val_original_target, test_original_target = eaf_target.get_train(), eaf_target.get_val(), eaf_target.get_test()\n",
    "\n",
    "\n",
    "transform_lambda = lambda ex: ex[1] # Original is (<domain>, <episode>) so we strip down to episode only\n",
    "\n",
    "train_processed_source = Lazy_Iterable_Wrapper(train_original_source, transform_lambda)\n",
    "val_processed_source   = Lazy_Iterable_Wrapper(val_original_source, transform_lambda)\n",
    "test_processed_source  = Lazy_Iterable_Wrapper(test_original_source, transform_lambda)\n",
    "\n",
    "train_processed_target = Lazy_Iterable_Wrapper(train_original_target, transform_lambda)\n",
    "val_processed_target   = Lazy_Iterable_Wrapper(val_original_target, transform_lambda)\n",
    "test_processed_target  = Lazy_Iterable_Wrapper(test_original_target, transform_lambda)\n",
    "\n",
    "datasets = EasyDict({\n",
    "    \"source\": {\n",
    "        \"original\": {\"train\":train_original_source, \"val\":val_original_source, \"test\":test_original_source},\n",
    "        \"processed\": {\"train\":train_processed_source, \"val\":val_processed_source, \"test\":test_processed_source}\n",
    "    },\n",
    "    \"target\": {\n",
    "        \"original\": {\"train\":train_original_target, \"val\":val_original_target, \"test\":test_original_target},\n",
    "        \"processed\": {\"train\":train_processed_target, \"val\":val_processed_target, \"test\":test_processed_target}\n",
    "    },\n",
    "})"
   ]
  },
  {
   "cell_type": "code",
   "execution_count": 11,
   "id": "296189d9",
   "metadata": {
    "execution": {
     "iopub.execute_input": "2022-03-22T07:48:32.586137Z",
     "iopub.status.busy": "2022-03-22T07:48:32.585870Z",
     "iopub.status.idle": "2022-03-22T07:48:34.471197Z",
     "shell.execute_reply": "2022-03-22T07:48:34.471562Z"
    },
    "papermill": {
     "duration": 1.89825,
     "end_time": "2022-03-22T07:48:34.471678",
     "exception": false,
     "start_time": "2022-03-22T07:48:32.573428",
     "status": "completed"
    },
    "tags": []
   },
   "outputs": [
    {
     "name": "stdout",
     "output_type": "stream",
     "text": [
      "Visually inspect these to see if they line up with expected values given the transforms\n",
      "x_transforms_source []\n",
      "x_transforms_target []\n",
      "Average magnitude, source: 0.005763963\n",
      "Average power, source: 4.258563e-05\n"
     ]
    },
    {
     "name": "stdout",
     "output_type": "stream",
     "text": [
      "Average magnitude, target: 0.0051063267\n",
      "Average power, target: 3.2912016e-05\n"
     ]
    }
   ],
   "source": [
    "# Some quick unit tests on the data\n",
    "from steves_utils.transforms import get_average_power, get_average_magnitude\n",
    "\n",
    "q_x, q_y, s_x, s_y, truth = next(iter(train_processed_source))\n",
    "\n",
    "assert q_x.dtype == eval(p.torch_default_dtype)\n",
    "assert s_x.dtype == eval(p.torch_default_dtype)\n",
    "\n",
    "print(\"Visually inspect these to see if they line up with expected values given the transforms\")\n",
    "print('x_transforms_source', p.x_transforms_source)\n",
    "print('x_transforms_target', p.x_transforms_target)\n",
    "print(\"Average magnitude, source:\", get_average_magnitude(q_x[0].numpy()))\n",
    "print(\"Average power, source:\", get_average_power(q_x[0].numpy()))\n",
    "\n",
    "q_x, q_y, s_x, s_y, truth = next(iter(train_processed_target))\n",
    "print(\"Average magnitude, target:\", get_average_magnitude(q_x[0].numpy()))\n",
    "print(\"Average power, target:\", get_average_power(q_x[0].numpy()))\n"
   ]
  },
  {
   "cell_type": "code",
   "execution_count": 12,
   "id": "bbdacba1",
   "metadata": {
    "execution": {
     "iopub.execute_input": "2022-03-22T07:48:34.507909Z",
     "iopub.status.busy": "2022-03-22T07:48:34.507654Z",
     "iopub.status.idle": "2022-03-22T07:48:34.563578Z",
     "shell.execute_reply": "2022-03-22T07:48:34.563951Z"
    },
    "papermill": {
     "duration": 0.073248,
     "end_time": "2022-03-22T07:48:34.564070",
     "exception": false,
     "start_time": "2022-03-22T07:48:34.490822",
     "status": "completed"
    },
    "tags": []
   },
   "outputs": [
    {
     "name": "stdout",
     "output_type": "stream",
     "text": [
      "(2, 256)\n"
     ]
    }
   ],
   "source": [
    "###################################\n",
    "# Build the model\n",
    "###################################\n",
    "model = Steves_Prototypical_Network(x_net, device=p.device, x_shape=(2,256))\n",
    "optimizer = Adam(params=model.parameters(), lr=p.lr)"
   ]
  },
  {
   "cell_type": "code",
   "execution_count": 13,
   "id": "22b39ac5",
   "metadata": {
    "execution": {
     "iopub.execute_input": "2022-03-22T07:48:34.591413Z",
     "iopub.status.busy": "2022-03-22T07:48:34.591149Z",
     "iopub.status.idle": "2022-03-22T08:29:20.570985Z",
     "shell.execute_reply": "2022-03-22T08:29:20.570757Z"
    },
    "papermill": {
     "duration": 2445.992731,
     "end_time": "2022-03-22T08:29:20.571043",
     "exception": false,
     "start_time": "2022-03-22T07:48:34.578312",
     "status": "completed"
    },
    "tags": []
   },
   "outputs": [
    {
     "name": "stdout",
     "output_type": "stream",
     "text": [
      "epoch: 1, [batch: 1 / 12600], examples_per_second: 27.3030, train_label_loss: 2.7168, \n"
     ]
    },
    {
     "name": "stdout",
     "output_type": "stream",
     "text": [
      "epoch: 1, [batch: 1260 / 12600], examples_per_second: 3233.3879, train_label_loss: 1.0114, \n"
     ]
    },
    {
     "name": "stdout",
     "output_type": "stream",
     "text": [
      "epoch: 1, [batch: 2520 / 12600], examples_per_second: 3225.9156, train_label_loss: 0.5118, \n"
     ]
    },
    {
     "name": "stdout",
     "output_type": "stream",
     "text": [
      "epoch: 1, [batch: 3780 / 12600], examples_per_second: 3223.9582, train_label_loss: 1.1265, \n"
     ]
    },
    {
     "name": "stdout",
     "output_type": "stream",
     "text": [
      "epoch: 1, [batch: 5040 / 12600], examples_per_second: 3205.7757, train_label_loss: 0.4231, \n"
     ]
    },
    {
     "name": "stdout",
     "output_type": "stream",
     "text": [
      "epoch: 1, [batch: 6300 / 12600], examples_per_second: 3217.8975, train_label_loss: 0.3780, \n"
     ]
    },
    {
     "name": "stdout",
     "output_type": "stream",
     "text": [
      "epoch: 1, [batch: 7560 / 12600], examples_per_second: 3222.2501, train_label_loss: 0.6228, \n"
     ]
    },
    {
     "name": "stdout",
     "output_type": "stream",
     "text": [
      "epoch: 1, [batch: 8820 / 12600], examples_per_second: 3193.0552, train_label_loss: 0.3658, \n"
     ]
    },
    {
     "name": "stdout",
     "output_type": "stream",
     "text": [
      "epoch: 1, [batch: 10080 / 12600], examples_per_second: 3206.9405, train_label_loss: 0.1985, \n"
     ]
    },
    {
     "name": "stdout",
     "output_type": "stream",
     "text": [
      "epoch: 1, [batch: 11340 / 12600], examples_per_second: 3214.2371, train_label_loss: 0.4622, \n"
     ]
    },
    {
     "name": "stdout",
     "output_type": "stream",
     "text": [
      "=============================================================\n",
      "epoch: 1, source_val_acc_label: 0.7196, target_val_acc_label: 0.5866, source_val_label_loss: 18.4105, target_val_label_loss: 13.8742, \n",
      "=============================================================\n"
     ]
    },
    {
     "name": "stdout",
     "output_type": "stream",
     "text": [
      "New best\n"
     ]
    },
    {
     "name": "stdout",
     "output_type": "stream",
     "text": [
      "epoch: 2, [batch: 1 / 12600], examples_per_second: 2.2912, train_label_loss: 0.2858, \n"
     ]
    },
    {
     "name": "stdout",
     "output_type": "stream",
     "text": [
      "epoch: 2, [batch: 1260 / 12600], examples_per_second: 3220.1055, train_label_loss: 0.5695, \n"
     ]
    },
    {
     "name": "stdout",
     "output_type": "stream",
     "text": [
      "epoch: 2, [batch: 2520 / 12600], examples_per_second: 3251.5790, train_label_loss: 0.4336, \n"
     ]
    },
    {
     "name": "stdout",
     "output_type": "stream",
     "text": [
      "epoch: 2, [batch: 3780 / 12600], examples_per_second: 3253.8909, train_label_loss: 0.9508, \n"
     ]
    },
    {
     "name": "stdout",
     "output_type": "stream",
     "text": [
      "epoch: 2, [batch: 5040 / 12600], examples_per_second: 3230.0987, train_label_loss: 0.4071, \n"
     ]
    },
    {
     "name": "stdout",
     "output_type": "stream",
     "text": [
      "epoch: 2, [batch: 6300 / 12600], examples_per_second: 3253.4280, train_label_loss: 0.3808, \n"
     ]
    },
    {
     "name": "stdout",
     "output_type": "stream",
     "text": [
      "epoch: 2, [batch: 7560 / 12600], examples_per_second: 3250.5228, train_label_loss: 0.8098, \n"
     ]
    },
    {
     "name": "stdout",
     "output_type": "stream",
     "text": [
      "epoch: 2, [batch: 8820 / 12600], examples_per_second: 3251.3936, train_label_loss: 0.4289, \n"
     ]
    },
    {
     "name": "stdout",
     "output_type": "stream",
     "text": [
      "epoch: 2, [batch: 10080 / 12600], examples_per_second: 3251.1502, train_label_loss: 0.7242, \n"
     ]
    },
    {
     "name": "stdout",
     "output_type": "stream",
     "text": [
      "epoch: 2, [batch: 11340 / 12600], examples_per_second: 3243.1251, train_label_loss: 0.3973, \n"
     ]
    },
    {
     "name": "stdout",
     "output_type": "stream",
     "text": [
      "=============================================================\n",
      "epoch: 2, source_val_acc_label: 0.8561, target_val_acc_label: 0.7528, source_val_label_loss: 0.3908, target_val_label_loss: 0.6987, \n",
      "=============================================================\n"
     ]
    },
    {
     "name": "stdout",
     "output_type": "stream",
     "text": [
      "New best\n"
     ]
    },
    {
     "name": "stdout",
     "output_type": "stream",
     "text": [
      "epoch: 3, [batch: 1 / 12600], examples_per_second: 2.2924, train_label_loss: 0.1873, \n"
     ]
    },
    {
     "name": "stdout",
     "output_type": "stream",
     "text": [
      "epoch: 3, [batch: 1260 / 12600], examples_per_second: 3233.5411, train_label_loss: 0.3519, \n"
     ]
    },
    {
     "name": "stdout",
     "output_type": "stream",
     "text": [
      "epoch: 3, [batch: 2520 / 12600], examples_per_second: 3241.5483, train_label_loss: 0.1557, \n"
     ]
    },
    {
     "name": "stdout",
     "output_type": "stream",
     "text": [
      "epoch: 3, [batch: 3780 / 12600], examples_per_second: 3258.0695, train_label_loss: 0.1246, \n"
     ]
    },
    {
     "name": "stdout",
     "output_type": "stream",
     "text": [
      "epoch: 3, [batch: 5040 / 12600], examples_per_second: 3229.1564, train_label_loss: 0.2627, \n"
     ]
    },
    {
     "name": "stdout",
     "output_type": "stream",
     "text": [
      "epoch: 3, [batch: 6300 / 12600], examples_per_second: 3241.3749, train_label_loss: 0.1858, \n"
     ]
    },
    {
     "name": "stdout",
     "output_type": "stream",
     "text": [
      "epoch: 3, [batch: 7560 / 12600], examples_per_second: 3252.3444, train_label_loss: 0.3350, \n"
     ]
    },
    {
     "name": "stdout",
     "output_type": "stream",
     "text": [
      "epoch: 3, [batch: 8820 / 12600], examples_per_second: 3246.5203, train_label_loss: 0.2600, \n"
     ]
    },
    {
     "name": "stdout",
     "output_type": "stream",
     "text": [
      "epoch: 3, [batch: 10080 / 12600], examples_per_second: 3252.8753, train_label_loss: 0.1443, \n"
     ]
    },
    {
     "name": "stdout",
     "output_type": "stream",
     "text": [
      "epoch: 3, [batch: 11340 / 12600], examples_per_second: 3255.6490, train_label_loss: 0.1174, \n"
     ]
    },
    {
     "name": "stdout",
     "output_type": "stream",
     "text": [
      "=============================================================\n",
      "epoch: 3, source_val_acc_label: 0.8680, target_val_acc_label: 0.7620, source_val_label_loss: 0.3561, target_val_label_loss: 0.6672, \n",
      "=============================================================\n"
     ]
    },
    {
     "name": "stdout",
     "output_type": "stream",
     "text": [
      "New best\n"
     ]
    },
    {
     "name": "stdout",
     "output_type": "stream",
     "text": [
      "epoch: 4, [batch: 1 / 12600], examples_per_second: 2.2942, train_label_loss: 0.1462, \n"
     ]
    },
    {
     "name": "stdout",
     "output_type": "stream",
     "text": [
      "epoch: 4, [batch: 1260 / 12600], examples_per_second: 3246.3527, train_label_loss: 0.1931, \n"
     ]
    },
    {
     "name": "stdout",
     "output_type": "stream",
     "text": [
      "epoch: 4, [batch: 2520 / 12600], examples_per_second: 3253.2191, train_label_loss: 0.2415, \n"
     ]
    },
    {
     "name": "stdout",
     "output_type": "stream",
     "text": [
      "epoch: 4, [batch: 3780 / 12600], examples_per_second: 3264.1067, train_label_loss: 0.2309, \n"
     ]
    },
    {
     "name": "stdout",
     "output_type": "stream",
     "text": [
      "epoch: 4, [batch: 5040 / 12600], examples_per_second: 3239.3395, train_label_loss: 0.1923, \n"
     ]
    },
    {
     "name": "stdout",
     "output_type": "stream",
     "text": [
      "epoch: 4, [batch: 6300 / 12600], examples_per_second: 3249.4868, train_label_loss: 0.1519, \n"
     ]
    },
    {
     "name": "stdout",
     "output_type": "stream",
     "text": [
      "epoch: 4, [batch: 7560 / 12600], examples_per_second: 3254.2624, train_label_loss: 0.4136, \n"
     ]
    },
    {
     "name": "stdout",
     "output_type": "stream",
     "text": [
      "epoch: 4, [batch: 8820 / 12600], examples_per_second: 3239.7657, train_label_loss: 0.1529, \n"
     ]
    },
    {
     "name": "stdout",
     "output_type": "stream",
     "text": [
      "epoch: 4, [batch: 10080 / 12600], examples_per_second: 3251.8028, train_label_loss: 0.2986, \n"
     ]
    },
    {
     "name": "stdout",
     "output_type": "stream",
     "text": [
      "epoch: 4, [batch: 11340 / 12600], examples_per_second: 3247.1370, train_label_loss: 0.2886, \n"
     ]
    },
    {
     "name": "stdout",
     "output_type": "stream",
     "text": [
      "=============================================================\n",
      "epoch: 4, source_val_acc_label: 0.8777, target_val_acc_label: 0.7598, source_val_label_loss: 0.3481, target_val_label_loss: 0.7049, \n",
      "=============================================================\n"
     ]
    },
    {
     "name": "stdout",
     "output_type": "stream",
     "text": [
      "epoch: 5, [batch: 1 / 12600], examples_per_second: 2.2865, train_label_loss: 0.1267, \n"
     ]
    },
    {
     "name": "stdout",
     "output_type": "stream",
     "text": [
      "epoch: 5, [batch: 1260 / 12600], examples_per_second: 3247.2442, train_label_loss: 0.5378, \n"
     ]
    },
    {
     "name": "stdout",
     "output_type": "stream",
     "text": [
      "epoch: 5, [batch: 2520 / 12600], examples_per_second: 3254.3003, train_label_loss: 0.2397, \n"
     ]
    },
    {
     "name": "stdout",
     "output_type": "stream",
     "text": [
      "epoch: 5, [batch: 3780 / 12600], examples_per_second: 3256.2391, train_label_loss: 0.1718, \n"
     ]
    },
    {
     "name": "stdout",
     "output_type": "stream",
     "text": [
      "epoch: 5, [batch: 5040 / 12600], examples_per_second: 3241.7554, train_label_loss: 0.4036, \n"
     ]
    },
    {
     "name": "stdout",
     "output_type": "stream",
     "text": [
      "epoch: 5, [batch: 6300 / 12600], examples_per_second: 3256.3741, train_label_loss: 0.1129, \n"
     ]
    },
    {
     "name": "stdout",
     "output_type": "stream",
     "text": [
      "epoch: 5, [batch: 7560 / 12600], examples_per_second: 3253.1382, train_label_loss: 0.3108, \n"
     ]
    },
    {
     "name": "stdout",
     "output_type": "stream",
     "text": [
      "epoch: 5, [batch: 8820 / 12600], examples_per_second: 3242.6179, train_label_loss: 0.1884, \n"
     ]
    },
    {
     "name": "stdout",
     "output_type": "stream",
     "text": [
      "epoch: 5, [batch: 10080 / 12600], examples_per_second: 3252.6374, train_label_loss: 0.0153, \n"
     ]
    },
    {
     "name": "stdout",
     "output_type": "stream",
     "text": [
      "epoch: 5, [batch: 11340 / 12600], examples_per_second: 3252.4558, train_label_loss: 0.1357, \n"
     ]
    },
    {
     "name": "stdout",
     "output_type": "stream",
     "text": [
      "=============================================================\n",
      "epoch: 5, source_val_acc_label: 0.8820, target_val_acc_label: 0.7594, source_val_label_loss: 0.3317, target_val_label_loss: 0.7095, \n",
      "=============================================================\n"
     ]
    },
    {
     "name": "stdout",
     "output_type": "stream",
     "text": [
      "epoch: 6, [batch: 1 / 12600], examples_per_second: 2.2956, train_label_loss: 0.6446, \n"
     ]
    },
    {
     "name": "stdout",
     "output_type": "stream",
     "text": [
      "epoch: 6, [batch: 1260 / 12600], examples_per_second: 3235.1807, train_label_loss: 0.2160, \n"
     ]
    },
    {
     "name": "stdout",
     "output_type": "stream",
     "text": [
      "epoch: 6, [batch: 2520 / 12600], examples_per_second: 3236.1135, train_label_loss: 0.2462, \n"
     ]
    },
    {
     "name": "stdout",
     "output_type": "stream",
     "text": [
      "epoch: 6, [batch: 3780 / 12600], examples_per_second: 3265.2203, train_label_loss: 0.1110, \n"
     ]
    },
    {
     "name": "stdout",
     "output_type": "stream",
     "text": [
      "epoch: 6, [batch: 5040 / 12600], examples_per_second: 3243.8629, train_label_loss: 0.1324, \n"
     ]
    },
    {
     "name": "stdout",
     "output_type": "stream",
     "text": [
      "epoch: 6, [batch: 6300 / 12600], examples_per_second: 3255.3472, train_label_loss: 0.0974, \n"
     ]
    },
    {
     "name": "stdout",
     "output_type": "stream",
     "text": [
      "epoch: 6, [batch: 7560 / 12600], examples_per_second: 3255.1415, train_label_loss: 0.1537, \n"
     ]
    },
    {
     "name": "stdout",
     "output_type": "stream",
     "text": [
      "epoch: 6, [batch: 8820 / 12600], examples_per_second: 3230.5129, train_label_loss: 0.1937, \n"
     ]
    },
    {
     "name": "stdout",
     "output_type": "stream",
     "text": [
      "epoch: 6, [batch: 10080 / 12600], examples_per_second: 3252.4983, train_label_loss: 0.1477, \n"
     ]
    },
    {
     "name": "stdout",
     "output_type": "stream",
     "text": [
      "epoch: 6, [batch: 11340 / 12600], examples_per_second: 3250.6464, train_label_loss: 0.0688, \n"
     ]
    },
    {
     "name": "stdout",
     "output_type": "stream",
     "text": [
      "=============================================================\n",
      "epoch: 6, source_val_acc_label: 0.8826, target_val_acc_label: 0.7606, source_val_label_loss: 0.3438, target_val_label_loss: 0.7243, \n",
      "=============================================================\n"
     ]
    },
    {
     "name": "stdout",
     "output_type": "stream",
     "text": [
      "epoch: 7, [batch: 1 / 12600], examples_per_second: 2.3050, train_label_loss: 0.0972, \n"
     ]
    },
    {
     "name": "stdout",
     "output_type": "stream",
     "text": [
      "epoch: 7, [batch: 1260 / 12600], examples_per_second: 3251.0842, train_label_loss: 0.1802, \n"
     ]
    },
    {
     "name": "stdout",
     "output_type": "stream",
     "text": [
      "epoch: 7, [batch: 2520 / 12600], examples_per_second: 3241.4427, train_label_loss: 0.1633, \n"
     ]
    },
    {
     "name": "stdout",
     "output_type": "stream",
     "text": [
      "epoch: 7, [batch: 3780 / 12600], examples_per_second: 3258.6605, train_label_loss: 0.0846, \n"
     ]
    },
    {
     "name": "stdout",
     "output_type": "stream",
     "text": [
      "epoch: 7, [batch: 5040 / 12600], examples_per_second: 3238.4995, train_label_loss: 0.0385, \n"
     ]
    },
    {
     "name": "stdout",
     "output_type": "stream",
     "text": [
      "epoch: 7, [batch: 6300 / 12600], examples_per_second: 3253.6103, train_label_loss: 0.0595, \n"
     ]
    },
    {
     "name": "stdout",
     "output_type": "stream",
     "text": [
      "epoch: 7, [batch: 7560 / 12600], examples_per_second: 3247.2572, train_label_loss: 0.2381, \n"
     ]
    },
    {
     "name": "stdout",
     "output_type": "stream",
     "text": [
      "epoch: 7, [batch: 8820 / 12600], examples_per_second: 3224.2481, train_label_loss: 0.0570, \n"
     ]
    },
    {
     "name": "stdout",
     "output_type": "stream",
     "text": [
      "epoch: 7, [batch: 10080 / 12600], examples_per_second: 3253.5941, train_label_loss: 0.1241, \n"
     ]
    },
    {
     "name": "stdout",
     "output_type": "stream",
     "text": [
      "epoch: 7, [batch: 11340 / 12600], examples_per_second: 3252.6240, train_label_loss: 0.2892, \n"
     ]
    },
    {
     "name": "stdout",
     "output_type": "stream",
     "text": [
      "=============================================================\n",
      "epoch: 7, source_val_acc_label: 0.8837, target_val_acc_label: 0.7580, source_val_label_loss: 0.3531, target_val_label_loss: 0.7641, \n",
      "=============================================================\n"
     ]
    },
    {
     "name": "stdout",
     "output_type": "stream",
     "text": [
      "Patience (3) exhausted\n"
     ]
    }
   ],
   "source": [
    "###################################\n",
    "# train\n",
    "###################################\n",
    "jig = PTN_Train_Eval_Test_Jig(model, p.BEST_MODEL_PATH, p.device)\n",
    "\n",
    "jig.train(\n",
    "    train_iterable=datasets.source.processed.train,\n",
    "    source_val_iterable=datasets.source.processed.val,\n",
    "    target_val_iterable=datasets.target.processed.val,\n",
    "    num_epochs=p.n_epoch,\n",
    "    num_logs_per_epoch=p.NUM_LOGS_PER_EPOCH,\n",
    "    patience=p.patience,\n",
    "    optimizer=optimizer,\n",
    "    criteria_for_best=p.criteria_for_best,\n",
    ")"
   ]
  },
  {
   "cell_type": "code",
   "execution_count": 14,
   "id": "31e8fabf",
   "metadata": {
    "execution": {
     "iopub.execute_input": "2022-03-22T08:29:20.623249Z",
     "iopub.status.busy": "2022-03-22T08:29:20.622647Z",
     "iopub.status.idle": "2022-03-22T08:29:20.642271Z",
     "shell.execute_reply": "2022-03-22T08:29:20.641779Z"
    },
    "papermill": {
     "duration": 0.046931,
     "end_time": "2022-03-22T08:29:20.642379",
     "exception": false,
     "start_time": "2022-03-22T08:29:20.595448",
     "status": "completed"
    },
    "tags": []
   },
   "outputs": [],
   "source": [
    "total_experiment_time_secs = time.time() - start_time_secs"
   ]
  },
  {
   "cell_type": "code",
   "execution_count": 15,
   "id": "87b9595b",
   "metadata": {
    "execution": {
     "iopub.execute_input": "2022-03-22T08:29:20.702207Z",
     "iopub.status.busy": "2022-03-22T08:29:20.701695Z",
     "iopub.status.idle": "2022-03-22T08:33:20.819882Z",
     "shell.execute_reply": "2022-03-22T08:33:20.820257Z"
    },
    "papermill": {
     "duration": 240.148969,
     "end_time": "2022-03-22T08:33:20.820389",
     "exception": false,
     "start_time": "2022-03-22T08:29:20.671420",
     "status": "completed"
    },
    "tags": []
   },
   "outputs": [],
   "source": [
    "###################################\n",
    "# Evaluate the model\n",
    "###################################\n",
    "source_test_label_accuracy, source_test_label_loss = jig.test(datasets.source.processed.test)\n",
    "target_test_label_accuracy, target_test_label_loss = jig.test(datasets.target.processed.test)\n",
    "\n",
    "source_val_label_accuracy, source_val_label_loss = jig.test(datasets.source.processed.val)\n",
    "target_val_label_accuracy, target_val_label_loss = jig.test(datasets.target.processed.val)\n",
    "\n",
    "history = jig.get_history()\n",
    "\n",
    "total_epochs_trained = len(history[\"epoch_indices\"])\n",
    "\n",
    "val_dl = Iterable_Aggregator((datasets.source.original.val,datasets.target.original.val))\n",
    "\n",
    "confusion = ptn_confusion_by_domain_over_dataloader(model, p.device, val_dl)\n",
    "per_domain_accuracy = per_domain_accuracy_from_confusion(confusion)\n",
    "\n",
    "# Add a key to per_domain_accuracy for if it was a source domain\n",
    "for domain, accuracy in per_domain_accuracy.items():\n",
    "    per_domain_accuracy[domain] = {\n",
    "        \"accuracy\": accuracy,\n",
    "        \"source?\": domain in p.domains_source\n",
    "    }\n",
    "\n",
    "# Do an independent accuracy assesment JUST TO BE SURE!\n",
    "# _source_test_label_accuracy = independent_accuracy_assesment(model, datasets.source.processed.test, p.device)\n",
    "# _target_test_label_accuracy = independent_accuracy_assesment(model, datasets.target.processed.test, p.device)\n",
    "# _source_val_label_accuracy = independent_accuracy_assesment(model, datasets.source.processed.val, p.device)\n",
    "# _target_val_label_accuracy = independent_accuracy_assesment(model, datasets.target.processed.val, p.device)\n",
    "\n",
    "# assert(_source_test_label_accuracy == source_test_label_accuracy)\n",
    "# assert(_target_test_label_accuracy == target_test_label_accuracy)\n",
    "# assert(_source_val_label_accuracy == source_val_label_accuracy)\n",
    "# assert(_target_val_label_accuracy == target_val_label_accuracy)\n",
    "\n",
    "experiment = {\n",
    "    \"experiment_name\": p.experiment_name,\n",
    "    \"parameters\": dict(p),\n",
    "    \"results\": {\n",
    "        \"source_test_label_accuracy\": source_test_label_accuracy,\n",
    "        \"source_test_label_loss\": source_test_label_loss,\n",
    "        \"target_test_label_accuracy\": target_test_label_accuracy,\n",
    "        \"target_test_label_loss\": target_test_label_loss,\n",
    "        \"source_val_label_accuracy\": source_val_label_accuracy,\n",
    "        \"source_val_label_loss\": source_val_label_loss,\n",
    "        \"target_val_label_accuracy\": target_val_label_accuracy,\n",
    "        \"target_val_label_loss\": target_val_label_loss,\n",
    "        \"total_epochs_trained\": total_epochs_trained,\n",
    "        \"total_experiment_time_secs\": total_experiment_time_secs,\n",
    "        \"confusion\": confusion,\n",
    "        \"per_domain_accuracy\": per_domain_accuracy,\n",
    "    },\n",
    "    \"history\": history,\n",
    "    \"dataset_metrics\": get_dataset_metrics(datasets, \"ptn\"),\n",
    "}"
   ]
  },
  {
   "cell_type": "code",
   "execution_count": 16,
   "id": "54a21829",
   "metadata": {
    "execution": {
     "iopub.execute_input": "2022-03-22T08:33:20.875100Z",
     "iopub.status.busy": "2022-03-22T08:33:20.874847Z",
     "iopub.status.idle": "2022-03-22T08:33:21.002170Z",
     "shell.execute_reply": "2022-03-22T08:33:21.001774Z"
    },
    "papermill": {
     "duration": 0.153559,
     "end_time": "2022-03-22T08:33:21.002262",
     "exception": false,
     "start_time": "2022-03-22T08:33:20.848703",
     "status": "completed"
    },
    "tags": []
   },
   "outputs": [
    {
     "data": {
      "image/png": "[encoded data removed]",
      "text/plain": [
       "<Figure size 1080x504 with 1 Axes>"
      ]
     },
     "metadata": {
      "needs_background": "light"
     },
     "output_type": "display_data"
    }
   ],
   "source": [
    "ax = get_loss_curve(experiment)\n",
    "plt.show()"
   ]
  },
  {
   "cell_type": "code",
   "execution_count": 17,
   "id": "fd8a0f60",
   "metadata": {
    "execution": {
     "iopub.execute_input": "2022-03-22T08:33:21.059726Z",
     "iopub.status.busy": "2022-03-22T08:33:21.059478Z",
     "iopub.status.idle": "2022-03-22T08:33:21.201227Z",
     "shell.execute_reply": "2022-03-22T08:33:21.200992Z"
    },
    "papermill": {
     "duration": 0.169507,
     "end_time": "2022-03-22T08:33:21.201281",
     "exception": false,
     "start_time": "2022-03-22T08:33:21.031774",
     "status": "completed"
    },
    "tags": []
   },
   "outputs": [
    {
     "data": {
      "text/plain": [
       "<AxesSubplot:title={'center':'Results'}>"
      ]
     },
     "execution_count": 17,
     "metadata": {},
     "output_type": "execute_result"
    },
    {
     "data": {
      "image/png": "[encoded data removed]",
      "text/plain": [
       "<Figure size 1080x504 with 1 Axes>"
      ]
     },
     "metadata": {
      "needs_background": "light"
     },
     "output_type": "display_data"
    }
   ],
   "source": [
    "get_results_table(experiment)"
   ]
  },
  {
   "cell_type": "code",
   "execution_count": 18,
   "id": "cf8dc689",
   "metadata": {
    "execution": {
     "iopub.execute_input": "2022-03-22T08:33:21.257675Z",
     "iopub.status.busy": "2022-03-22T08:33:21.256750Z",
     "iopub.status.idle": "2022-03-22T08:33:21.374658Z",
     "shell.execute_reply": "2022-03-22T08:33:21.375031Z"
    },
    "papermill": {
     "duration": 0.146433,
     "end_time": "2022-03-22T08:33:21.375152",
     "exception": false,
     "start_time": "2022-03-22T08:33:21.228719",
     "status": "completed"
    },
    "tags": []
   },
   "outputs": [
    {
     "data": {
      "text/plain": [
       "<AxesSubplot:title={'center':'Per Domain Validation Accuracy'}, xlabel='domain'>"
      ]
     },
     "execution_count": 18,
     "metadata": {},
     "output_type": "execute_result"
    },
    {
     "data": {
      "image/png": "[encoded data removed]",
      "text/plain": [
       "<Figure size 1080x504 with 1 Axes>"
      ]
     },
     "metadata": {
      "needs_background": "light"
     },
     "output_type": "display_data"
    }
   ],
   "source": [
    "get_domain_accuracies(experiment)"
   ]
  },
  {
   "cell_type": "code",
   "execution_count": 19,
   "id": "a74ae082",
   "metadata": {
    "execution": {
     "iopub.execute_input": "2022-03-22T08:33:21.435219Z",
     "iopub.status.busy": "2022-03-22T08:33:21.434938Z",
     "iopub.status.idle": "2022-03-22T08:33:21.450136Z",
     "shell.execute_reply": "2022-03-22T08:33:21.450506Z"
    },
    "papermill": {
     "duration": 0.045703,
     "end_time": "2022-03-22T08:33:21.450617",
     "exception": false,
     "start_time": "2022-03-22T08:33:21.404914",
     "status": "completed"
    },
    "tags": []
   },
   "outputs": [
    {
     "name": "stdout",
     "output_type": "stream",
     "text": [
      "Source Test Label Accuracy: 0.8686805555555556 Target Test Label Accuracy: 0.7650520833333333\n",
      "Source Val Label Accuracy: 0.8679861111111111 Target Val Label Accuracy: 0.7620416666666666\n"
     ]
    }
   ],
   "source": [
    "print(\"Source Test Label Accuracy:\", experiment[\"results\"][\"source_test_label_accuracy\"], \"Target Test Label Accuracy:\", experiment[\"results\"][\"target_test_label_accuracy\"])\n",
    "print(\"Source Val Label Accuracy:\", experiment[\"results\"][\"source_val_label_accuracy\"], \"Target Val Label Accuracy:\", experiment[\"results\"][\"target_val_label_accuracy\"])"
   ]
  },
  {
   "cell_type": "code",
   "execution_count": 20,
   "id": "dacca602",
   "metadata": {
    "execution": {
     "iopub.execute_input": "2022-03-22T08:33:21.510632Z",
     "iopub.status.busy": "2022-03-22T08:33:21.510390Z",
     "iopub.status.idle": "2022-03-22T08:33:21.525345Z",
     "shell.execute_reply": "2022-03-22T08:33:21.525632Z"
    },
    "papermill": {
     "duration": 0.043747,
     "end_time": "2022-03-22T08:33:21.525715",
     "exception": false,
     "start_time": "2022-03-22T08:33:21.481968",
     "status": "completed"
    },
    "tags": [
     "experiment_json"
    ]
   },
   "outputs": [
    {
     "data": {
      "text/plain": [
       "'{\"experiment_name\": \"tuned_1v2:oracle.run1\", \"parameters\": {\"experiment_name\": \"tuned_1v2:oracle.run1\", \"device\": \"cuda\", \"lr\": 0.0001, \"labels_source\": [\"3123D52\", \"3123D65\", \"3123D79\", \"3123D80\", \"3123D54\", \"3123D70\", \"3123D7B\", \"3123D89\", \"3123D58\", \"3123D76\", \"3123D7D\", \"3123EFE\", \"3123D64\", \"3123D78\", \"3123D7E\", \"3124E4A\"], \"labels_target\": [\"3123D52\", \"3123D65\", \"3123D79\", \"3123D80\", \"3123D54\", \"3123D70\", \"3123D7B\", \"3123D89\", \"3123D58\", \"3123D76\", \"3123D7D\", \"3123EFE\", \"3123D64\", \"3123D78\", \"3123D7E\", \"3124E4A\"], \"episode_transforms_source\": [], \"episode_transforms_target\": [], \"domains_source\": [8, 32, 50], \"domains_target\": [14, 20, 26, 38, 44], \"num_examples_per_domain_per_label_source\": -1, \"num_examples_per_domain_per_label_target\": -1, \"n_shot\": 3, \"n_way\": 16, \"n_query\": 2, \"train_k_factor\": 3, \"val_k_factor\": 2, \"test_k_factor\": 2, \"torch_default_dtype\": \"torch.float32\", \"n_epoch\": 50, \"patience\": 3, \"criteria_for_best\": \"target_accuracy\", \"x_net\": [{\"class\": \"nnReshape\", \"kargs\": {\"shape\": [-1, 1, 2, 256]}}, {\"class\": \"Conv2d\", \"kargs\": {\"in_channels\": 1, \"out_channels\": 256, \"kernel_size\": [1, 7], \"bias\": false, \"padding\": [0, 3]}}, {\"class\": \"ReLU\", \"kargs\": {\"inplace\": true}}, {\"class\": \"BatchNorm2d\", \"kargs\": {\"num_features\": 256}}, {\"class\": \"Conv2d\", \"kargs\": {\"in_channels\": 256, \"out_channels\": 80, \"kernel_size\": [2, 7], \"bias\": true, \"padding\": [0, 3]}}, {\"class\": \"ReLU\", \"kargs\": {\"inplace\": true}}, {\"class\": \"BatchNorm2d\", \"kargs\": {\"num_features\": 80}}, {\"class\": \"Flatten\", \"kargs\": {}}, {\"class\": \"Linear\", \"kargs\": {\"in_features\": 20480, \"out_features\": 256}}, {\"class\": \"ReLU\", \"kargs\": {\"inplace\": true}}, {\"class\": \"BatchNorm1d\", \"kargs\": {\"num_features\": 256}}, {\"class\": \"Linear\", \"kargs\": {\"in_features\": 256, \"out_features\": 256}}], \"NUM_LOGS_PER_EPOCH\": 10, \"BEST_MODEL_PATH\": \"./best_model.pth\", \"pickle_name\": \"oracle.Run1_10kExamples_stratified_ds.2022A.pkl\", \"x_transforms_source\": [], \"x_transforms_target\": [], \"dataset_seed\": 500, \"seed\": 500}, \"results\": {\"source_test_label_accuracy\": 0.8686805555555556, \"source_test_label_loss\": 0.35757121443748474, \"target_test_label_accuracy\": 0.7650520833333333, \"target_test_label_loss\": 0.6588689684867859, \"source_val_label_accuracy\": 0.8679861111111111, \"source_val_label_loss\": 0.35610857605934143, \"target_val_label_accuracy\": 0.7620416666666666, \"target_val_label_loss\": 0.6671508550643921, \"total_epochs_trained\": 7, \"total_experiment_time_secs\": 2455.1153202056885, \"confusion\": {\"8\": {\"7\": {\"7\": 906, \"6\": 253, \"13\": 40, \"8\": 1}, \"10\": {\"10\": 927, \"1\": 50, \"13\": 174, \"5\": 35, \"6\": 7, \"11\": 2, \"4\": 5}, \"0\": {\"0\": 1200}, \"11\": {\"11\": 705, \"1\": 400, \"14\": 36, \"5\": 15, \"4\": 13, \"8\": 21, \"10\": 8, \"6\": 2}, \"2\": {\"2\": 956, \"3\": 151, \"15\": 45, \"12\": 48}, \"14\": {\"14\": 1093, \"4\": 82, \"1\": 4, \"11\": 20, \"10\": 1}, \"9\": {\"9\": 1200}, \"13\": {\"6\": 31, \"13\": 883, \"10\": 193, \"1\": 2, \"7\": 88, \"5\": 3}, \"8\": {\"8\": 1145, \"4\": 19, \"6\": 27, \"7\": 4, \"11\": 4, \"1\": 1}, \"15\": {\"15\": 910, \"2\": 46, \"12\": 244}, \"4\": {\"4\": 1045, \"11\": 20, \"6\": 64, \"14\": 33, \"8\": 19, \"1\": 12, \"10\": 7}, \"5\": {\"5\": 988, \"10\": 107, \"1\": 80, \"11\": 14, \"14\": 6, \"13\": 2, \"4\": 3}, \"3\": {\"3\": 1182, \"2\": 18}, \"1\": {\"11\": 222, \"1\": 856, \"10\": 72, \"13\": 5, \"6\": 2, \"5\": 36, \"4\": 6, \"8\": 1}, \"6\": {\"7\": 280, \"6\": 846, \"13\": 31, \"4\": 27, \"8\": 6, \"1\": 1, \"10\": 9}, \"12\": {\"12\": 823, \"15\": 358, \"2\": 19}}, \"50\": {\"11\": {\"11\": 1142, \"15\": 10, \"12\": 24, \"9\": 23, \"6\": 1}, \"2\": {\"2\": 1155, \"0\": 42, \"14\": 3}, \"12\": {\"12\": 1104, \"9\": 68, \"11\": 28}, \"8\": {\"8\": 1193, \"10\": 6, \"13\": 1}, \"4\": {\"4\": 1003, \"7\": 116, \"5\": 47, \"6\": 18, \"15\": 16}, \"10\": {\"10\": 1180, \"8\": 9, \"0\": 11}, \"14\": {\"14\": 1199, \"2\": 1}, \"13\": {\"13\": 1189, \"6\": 1, \"1\": 8, \"5\": 2}, \"6\": {\"6\": 973, \"5\": 139, \"15\": 83, \"4\": 4, \"7\": 1}, \"9\": {\"9\": 1038, \"12\": 70, \"11\": 90, \"15\": 2}, \"15\": {\"15\": 1112, \"6\": 78, \"11\": 5, \"4\": 2, \"5\": 1, \"9\": 2}, \"1\": {\"1\": 1175, \"0\": 5, \"13\": 16, \"11\": 3, \"10\": 1}, \"3\": {\"3\": 1200}, \"7\": {\"7\": 1104, \"5\": 72, \"4\": 24}, \"0\": {\"2\": 59, \"0\": 1131, \"10\": 10}, \"5\": {\"5\": 544, \"6\": 234, \"7\": 301, \"13\": 39, \"4\": 65, \"15\": 5, \"1\": 12}}, \"32\": {\"4\": {\"4\": 1030, \"2\": 117, \"13\": 53}, \"14\": {\"14\": 789, \"2\": 38, \"7\": 255, \"5\": 44, \"0\": 46, \"4\": 6, \"8\": 22}, \"5\": {\"5\": 740, \"7\": 220, \"8\": 103, \"14\": 41, \"0\": 96}, \"10\": {\"10\": 1200}, \"13\": {\"13\": 999, \"4\": 76, \"3\": 104, \"11\": 21}, \"9\": {\"9\": 1195, \"12\": 5}, \"6\": {\"6\": 1200}, \"3\": {\"3\": 1143, \"13\": 57}, \"15\": {\"15\": 1184, \"8\": 15, \"5\": 1}, \"7\": {\"7\": 864, \"0\": 55, \"14\": 118, \"5\": 150, \"8\": 13}, \"12\": {\"12\": 1200}, \"8\": {\"8\": 914, \"2\": 13, \"7\": 9, \"5\": 81, \"0\": 137, \"4\": 14, \"14\": 31, \"15\": 1}, \"11\": {\"11\": 1196, \"13\": 4}, \"2\": {\"2\": 1108, \"4\": 89, \"0\": 2, \"14\": 1}, \"1\": {\"1\": 1200}, \"0\": {\"0\": 927, \"8\": 112, \"7\": 90, \"5\": 52, \"14\": 18, \"2\": 1}}, \"20\": {\"7\": {\"12\": 38, \"6\": 45, \"7\": 671, \"2\": 249, \"9\": 87, \"13\": 19, \"14\": 7, \"8\": 24, \"15\": 5, \"4\": 40, \"3\": 12, \"1\": 1, \"10\": 2}, \"10\": {\"10\": 1024, \"13\": 3, \"6\": 33, \"4\": 126, \"7\": 8, \"12\": 2, \"2\": 3, \"14\": 1}, \"0\": {\"0\": 1070, \"5\": 61, \"1\": 17, \"3\": 40, \"8\": 12}, \"11\": {\"11\": 1197, \"3\": 1, \"0\": 2}, \"2\": {\"2\": 461, \"13\": 178, \"9\": 131, \"15\": 35, \"7\": 201, \"4\": 20, \"12\": 146, \"1\": 13, \"3\": 9, \"8\": 2, \"6\": 1, \"5\": 3}, \"14\": {\"8\": 169, \"14\": 963, \"6\": 52, \"7\": 13, \"3\": 2, \"4\": 1}, \"9\": {\"15\": 48, \"1\": 108, \"3\": 172, \"12\": 59, \"7\": 89, \"9\": 481, \"2\": 147, \"4\": 7, \"5\": 63, \"13\": 14, \"8\": 12}, \"13\": {\"13\": 930, \"7\": 30, \"12\": 47, \"2\": 142, \"15\": 43, \"9\": 6, \"4\": 2}, \"8\": {\"8\": 848, \"3\": 117, \"14\": 181, \"9\": 14, \"7\": 24, \"5\": 8, \"4\": 5, \"1\": 1, \"0\": 2}, \"15\": {\"15\": 647, \"12\": 173, \"3\": 4, \"9\": 54, \"1\": 198, \"13\": 40, \"5\": 45, \"2\": 35, \"4\": 4}, \"4\": {\"4\": 957, \"2\": 21, \"10\": 78, \"12\": 84, \"7\": 39, \"6\": 3, \"14\": 2, \"13\": 2, \"9\": 4, \"8\": 4, \"5\": 3, \"15\": 2, \"3\": 1}, \"5\": {\"5\": 527, \"1\": 340, \"3\": 190, \"15\": 31, \"0\": 12, \"9\": 67, \"8\": 11, \"12\": 17, \"7\": 2, \"4\": 3}, \"3\": {\"3\": 496, \"1\": 107, \"7\": 27, \"5\": 191, \"9\": 203, \"15\": 5, \"0\": 27, \"8\": 110, \"12\": 16, \"2\": 14, \"4\": 3, \"14\": 1}, \"1\": {\"1\": 521, \"5\": 312, \"12\": 33, \"15\": 165, \"3\": 76, \"9\": 83, \"2\": 6, \"7\": 1, \"8\": 1, \"13\": 1, \"4\": 1}, \"6\": {\"2\": 7, \"6\": 1015, \"14\": 63, \"7\": 82, \"4\": 10, \"9\": 1, \"10\": 20, \"13\": 1, \"8\": 1}, \"12\": {\"12\": 580, \"1\": 48, \"9\": 69, \"4\": 61, \"15\": 189, \"2\": 147, \"13\": 41, \"7\": 33, \"3\": 15, \"5\": 17}}, \"14\": {\"14\": {\"13\": 171, \"14\": 791, \"0\": 12, \"6\": 94, \"3\": 43, \"2\": 89}, \"6\": {\"14\": 140, \"6\": 647, \"13\": 317, \"3\": 42, \"2\": 54}, \"5\": {\"5\": 883, \"2\": 154, \"4\": 96, \"7\": 38, \"3\": 16, \"6\": 2, \"8\": 3, \"14\": 5, \"13\": 2, \"0\": 1}, \"15\": {\"15\": 1200}, \"11\": {\"11\": 1200}, \"8\": {\"8\": 1192, \"0\": 5, \"3\": 3}, \"12\": {\"12\": 1200}, \"1\": {\"1\": 1181, \"4\": 19}, \"2\": {\"14\": 197, \"2\": 466, \"6\": 76, \"5\": 207, \"4\": 124, \"3\": 56, \"13\": 62, \"7\": 10, \"0\": 2}, \"13\": {\"6\": 365, \"14\": 352, \"13\": 312, \"15\": 74, \"3\": 29, \"2\": 52, \"4\": 8, \"10\": 4, \"5\": 1, \"0\": 3}, \"3\": {\"3\": 1056, \"0\": 31, \"13\": 15, \"8\": 10, \"5\": 15, \"6\": 23, \"14\": 38, \"2\": 12}, \"0\": {\"0\": 1025, \"10\": 52, \"3\": 104, \"13\": 1, \"8\": 5, \"14\": 13}, \"9\": {\"9\": 1198, \"10\": 2}, \"4\": {\"4\": 1009, \"2\": 62, \"14\": 8, \"5\": 110, \"1\": 7, \"13\": 2, \"10\": 1, \"8\": 1}, \"7\": {\"7\": 1180, \"5\": 18, \"2\": 2}, \"10\": {\"10\": 1190, \"9\": 7, \"0\": 2, \"13\": 1}}, \"38\": {\"4\": {\"4\": 1183, \"10\": 11, \"0\": 6}, \"14\": {\"2\": 183, \"14\": 1005, \"13\": 11, \"12\": 1}, \"5\": {\"8\": 417, \"5\": 550, \"9\": 88, \"15\": 53, \"7\": 85, \"0\": 2, \"13\": 3, \"12\": 2}, \"10\": {\"10\": 1056, \"13\": 75, \"0\": 58, \"11\": 1, \"4\": 10}, \"13\": {\"13\": 1118, \"10\": 58, \"2\": 2, \"0\": 15, \"14\": 7}, \"9\": {\"9\": 1168, \"8\": 6, \"5\": 21, \"7\": 5}, \"6\": {\"6\": 1192, \"1\": 8}, \"3\": {\"3\": 1200}, \"15\": {\"15\": 1114, \"8\": 41, \"5\": 39, \"12\": 3, \"1\": 3}, \"7\": {\"7\": 1169, \"8\": 14, \"9\": 1, \"5\": 5, \"0\": 10, \"4\": 1}, \"12\": {\"12\": 1187, \"8\": 11, \"14\": 2}, \"8\": {\"8\": 611, \"5\": 386, \"7\": 137, \"12\": 15, \"9\": 2, \"15\": 29, \"13\": 13, \"2\": 2, \"0\": 5}, \"11\": {\"11\": 1200}, \"2\": {\"2\": 1041, \"14\": 156, \"13\": 3}, \"1\": {\"1\": 1197, \"6\": 3}, \"0\": {\"10\": 144, \"3\": 57, \"0\": 787, \"7\": 151, \"13\": 52, \"4\": 8, \"8\": 1}}, \"44\": {\"8\": {\"0\": 347, \"8\": 737, \"5\": 61, \"15\": 55}, \"11\": {\"11\": 1200}, \"14\": {\"14\": 862, \"4\": 220, \"5\": 70, \"15\": 48}, \"10\": {\"10\": 1098, \"2\": 36, \"1\": 27, \"7\": 39}, \"3\": {\"3\": 1165, \"12\": 35}, \"15\": {\"14\": 122, \"15\": 965, \"0\": 7, \"5\": 57, \"8\": 40, \"4\": 9}, \"2\": {\"2\": 1148, \"1\": 41, \"10\": 10, \"9\": 1}, \"12\": {\"12\": 1147, \"3\": 53}, \"4\": {\"4\": 760, \"14\": 392, \"15\": 31, \"5\": 3, \"13\": 5, \"9\": 9}, \"1\": {\"1\": 1141, \"2\": 59}, \"0\": {\"0\": 973, \"8\": 219, \"15\": 8}, \"9\": {\"9\": 465, \"6\": 217, \"7\": 404, \"2\": 21, \"13\": 89, \"10\": 1, \"4\": 3}, \"5\": {\"5\": 1050, \"15\": 52, \"14\": 63, \"8\": 26, \"4\": 7, \"0\": 2}, \"6\": {\"6\": 1008, \"9\": 50, \"13\": 142}, \"7\": {\"7\": 1008, \"9\": 167, \"10\": 24, \"6\": 1}, \"13\": {\"13\": 971, \"6\": 209, \"9\": 19, \"11\": 1}}, \"26\": {\"6\": {\"6\": 778, \"1\": 55, \"15\": 125, \"10\": 157, \"5\": 57, \"14\": 23, \"0\": 5}, \"11\": {\"11\": 1198, \"6\": 1, \"10\": 1}, \"5\": {\"5\": 759, \"15\": 357, \"1\": 3, \"10\": 4, \"6\": 76, \"0\": 1}, \"14\": {\"0\": 196, \"14\": 558, \"1\": 124, \"10\": 267, \"15\": 27, \"8\": 3, \"6\": 21, \"2\": 2, \"5\": 2}, \"2\": {\"9\": 71, \"7\": 182, \"8\": 72, \"2\": 651, \"3\": 165, \"13\": 21, \"0\": 15, \"15\": 17, \"10\": 4, \"14\": 2}, \"7\": {\"7\": 622, \"8\": 171, \"2\": 178, \"3\": 131, \"9\": 82, \"0\": 7, \"4\": 2, \"13\": 7}, \"3\": {\"3\": 855, \"2\": 81, \"7\": 214, \"8\": 13, \"9\": 16, \"13\": 13, \"4\": 8}, \"4\": {\"4\": 1179, \"3\": 13, \"9\": 4, \"7\": 1, \"13\": 3}, \"9\": {\"8\": 302, \"2\": 72, \"7\": 69, \"9\": 611, \"13\": 121, \"0\": 10, \"4\": 5, \"3\": 9, \"10\": 1}, \"12\": {\"12\": 1200}, \"0\": {\"0\": 622, \"7\": 13, \"14\": 206, \"10\": 235, \"8\": 70, \"9\": 9, \"2\": 9, \"15\": 23, \"6\": 8, \"1\": 4, \"5\": 1}, \"10\": {\"10\": 542, \"0\": 190, \"14\": 238, \"6\": 133, \"15\": 62, \"1\": 31, \"5\": 2, \"8\": 2}, \"8\": {\"9\": 295, \"8\": 595, \"7\": 167, \"0\": 68, \"3\": 11, \"2\": 55, \"13\": 5, \"14\": 3, \"10\": 1}, \"13\": {\"13\": 948, \"9\": 149, \"4\": 4, \"2\": 55, \"3\": 29, \"8\": 6, \"7\": 8, \"15\": 1}, \"1\": {\"1\": 811, \"14\": 197, \"10\": 104, \"6\": 57, \"15\": 15, \"0\": 11, \"5\": 5}, \"15\": {\"10\": 46, \"15\": 633, \"5\": 356, \"6\": 123, \"1\": 13, \"0\": 12, \"14\": 10, \"8\": 2, \"2\": 5}}}, \"per_domain_accuracy\": {\"8\": {\"accuracy\": 0.8158854166666667, \"source?\": true}, \"50\": {\"accuracy\": 0.9084375, \"source?\": true}, \"32\": {\"accuracy\": 0.8796354166666667, \"source?\": true}, \"20\": {\"accuracy\": 0.6452083333333334, \"source?\": false}, \"14\": {\"accuracy\": 0.8192708333333333, \"source?\": false}, \"38\": {\"accuracy\": 0.8738541666666667, \"source?\": false}, \"44\": {\"accuracy\": 0.8176041666666667, \"source?\": false}, \"26\": {\"accuracy\": 0.6542708333333334, \"source?\": false}}}, \"history\": {\"epoch_indices\": [1, 2, 3, 4, 5, 6, 7], \"train_label_loss\": [0.6723630313291437, 0.44177484736083045, 0.3109400285818865, 0.25542050417719614, 0.21177131378831016, 0.17751833646550833, 0.14917673651897717], \"source_val_label_loss\": [18.41045570373535, 0.390813410282135, 0.35610857605934143, 0.3480640649795532, 0.33173689246177673, 0.3438343405723572, 0.35306036472320557], \"target_val_label_loss\": [13.874218940734863, 0.69865483045578, 0.6671508550643921, 0.7048827409744263, 0.7095249891281128, 0.7242743372917175, 0.7641106843948364], \"source_val_acc_label\": [0.7196180555555556, 0.8560590277777778, 0.8679861111111111, 0.87765625, 0.88203125, 0.8826041666666666, 0.8837152777777778], \"target_val_acc_label\": [0.5866041666666667, 0.75275, 0.7620416666666666, 0.7598125, 0.7594479166666667, 0.7606458333333334, 0.758]}, \"dataset_metrics\": {\"source\": {\"train\": {\"n_unique_x\": 336000, \"n_unique_y\": 16, \"n_batch/episode\": 12600}, \"val\": {\"n_unique_x\": 72000, \"n_unique_y\": 16, \"n_batch/episode\": 1800}, \"test\": {\"n_unique_x\": 72000, \"n_unique_y\": 16, \"n_batch/episode\": 1800}}, \"target\": {\"train\": {\"n_unique_x\": 560000, \"n_unique_y\": 16, \"n_batch/episode\": 21000}, \"val\": {\"n_unique_x\": 120000, \"n_unique_y\": 16, \"n_batch/episode\": 3000}, \"test\": {\"n_unique_x\": 120000, \"n_unique_y\": 16, \"n_batch/episode\": 3000}}}}'"
      ]
     },
     "execution_count": 20,
     "metadata": {},
     "output_type": "execute_result"
    }
   ],
   "source": [
    "json.dumps(experiment)"
   ]
  }
 ],
 "metadata": {
  "celltoolbar": "Tags",
  "kernelspec": {
   "display_name": "Python 3 (ipykernel)",
   "language": "python",
   "name": "python3"
  },
  "language_info": {
   "codemirror_mode": {
    "name": "ipython",
    "version": 3
   },
   "file_extension": ".py",
   "mimetype": "text/x-python",
   "name": "python",
   "nbconvert_exporter": "python",
   "pygments_lexer": "ipython3",
   "version": "3.8.10"
  },
  "papermill": {
   "default_parameters": {},
   "duration": 2699.569778,
   "end_time": "2022-03-22T08:33:22.967986",
   "environment_variables": {},
   "exception": null,
   "input_path": "/mnt/wd500GB/CSC500/csc500-main/csc500-notebooks/templates/ptn_template.ipynb",
   "output_path": "trial.ipynb",
   "parameters": {
    "parameters": {
     "BEST_MODEL_PATH": "./best_model.pth",
     "NUM_LOGS_PER_EPOCH": 10,
     "criteria_for_best": "target_accuracy",
     "dataset_seed": 500,
     "device": "cuda",
     "domains_source": [
      8,
      32,
      50
     ],
     "domains_target": [
      14,
      20,
      26,
      38,
      44
     ],
     "episode_transforms_source": [],
     "episode_transforms_target": [],
     "experiment_name": "tuned_1v2:oracle.run1",
     "labels_source": [
      "3123D52",
      "3123D65",
      "3123D79",
      "3123D80",
      "3123D54",
      "3123D70",
      "3123D7B",
      "3123D89",
      "3123D58",
      "3123D76",
      "3123D7D",
      "3123EFE",
      "3123D64",
      "3123D78",
      "3123D7E",
      "3124E4A"
     ],
     "labels_target": [
      "3123D52",
      "3123D65",
      "3123D79",
      "3123D80",
      "3123D54",
      "3123D70",
      "3123D7B",
      "3123D89",
      "3123D58",
      "3123D76",
      "3123D7D",
      "3123EFE",
      "3123D64",
      "3123D78",
      "3123D7E",
      "3124E4A"
     ],
     "lr": 0.0001,
     "n_epoch": 50,
     "n_query": 2,
     "n_shot": 3,
     "n_way": 16,
     "num_examples_per_domain_per_label_source": -1,
     "num_examples_per_domain_per_label_target": -1,
     "patience": 3,
     "pickle_name": "oracle.Run1_10kExamples_stratified_ds.2022A.pkl",
     "seed": 500,
     "test_k_factor": 2,
     "torch_default_dtype": "torch.float32",
     "train_k_factor": 3,
     "val_k_factor": 2,
     "x_net": [
      {
       "class": "nnReshape",
       "kargs": {
        "shape": [
         -1,
         1,
         2,
         256
        ]
       }
      },
      {
       "class": "Conv2d",
       "kargs": {
        "bias": false,
        "in_channels": 1,
        "kernel_size": [
         1,
         7
        ],
        "out_channels": 256,
        "padding": [
         0,
         3
        ]
       }
      },
      {
       "class": "ReLU",
       "kargs": {
        "inplace": true
       }
      },
      {
       "class": "BatchNorm2d",
       "kargs": {
        "num_features": 256
       }
      },
      {
       "class": "Conv2d",
       "kargs": {
        "bias": true,
        "in_channels": 256,
        "kernel_size": [
         2,
         7
        ],
        "out_channels": 80,
        "padding": [
         0,
         3
        ]
       }
      },
      {
       "class": "ReLU",
       "kargs": {
        "inplace": true
       }
      },
      {
       "class": "BatchNorm2d",
       "kargs": {
        "num_features": 80
       }
      },
      {
       "class": "Flatten",
       "kargs": {}
      },
      {
       "class": "Linear",
       "kargs": {
        "in_features": 20480,
        "out_features": 256
       }
      },
      {
       "class": "ReLU",
       "kargs": {
        "inplace": true
       }
      },
      {
       "class": "BatchNorm1d",
       "kargs": {
        "num_features": 256
       }
      },
      {
       "class": "Linear",
       "kargs": {
        "in_features": 256,
        "out_features": 256
       }
      }
     ],
     "x_transforms_source": [],
     "x_transforms_target": []
    }
   },
   "start_time": "2022-03-22T07:48:23.398208",
   "version": "2.3.4"
  }
 },
 "nbformat": 4,
 "nbformat_minor": 5
}