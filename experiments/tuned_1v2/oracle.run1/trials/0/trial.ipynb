{
 "cells": [
  {
   "cell_type": "markdown",
   "id": "9fea5f46",
   "metadata": {
    "papermill": {
     "duration": 0.014242,
     "end_time": "2022-03-22T00:56:39.005658",
     "exception": false,
     "start_time": "2022-03-22T00:56:38.991416",
     "status": "completed"
    },
    "tags": []
   },
   "source": [
    "# PTN Template\n",
    "This notebook serves as a template for single dataset PTN experiments  \n",
    "It can be run on its own by setting STANDALONE to True (do a find for \"STANDALONE\" to see where)  \n",
    "But it is intended to be executed as part of a *papermill.py script. See any of the   \n",
    "experimentes with a papermill script to get started with that workflow.  "
   ]
  },
  {
   "cell_type": "code",
   "execution_count": 1,
   "id": "0902182a",
   "metadata": {
    "execution": {
     "iopub.execute_input": "2022-03-22T00:56:39.037267Z",
     "iopub.status.busy": "2022-03-22T00:56:39.030636Z",
     "iopub.status.idle": "2022-03-22T00:56:39.942211Z",
     "shell.execute_reply": "2022-03-22T00:56:39.941926Z"
    },
    "papermill": {
     "duration": 0.9274,
     "end_time": "2022-03-22T00:56:39.942282",
     "exception": false,
     "start_time": "2022-03-22T00:56:39.014882",
     "status": "completed"
    },
    "tags": []
   },
   "outputs": [],
   "source": [
    "%load_ext autoreload\n",
    "%autoreload 2\n",
    "%matplotlib inline\n",
    "\n",
    "    \n",
    "import os, json, sys, time, random\n",
    "import numpy as np\n",
    "import torch\n",
    "from torch.optim import Adam\n",
    "from  easydict import EasyDict\n",
    "import matplotlib.pyplot as plt\n",
    "\n",
    "from steves_models.steves_ptn import Steves_Prototypical_Network\n",
    "\n",
    "from steves_utils.lazy_iterable_wrapper import Lazy_Iterable_Wrapper\n",
    "from steves_utils.iterable_aggregator import Iterable_Aggregator\n",
    "from steves_utils.ptn_train_eval_test_jig import  PTN_Train_Eval_Test_Jig\n",
    "from steves_utils.torch_sequential_builder import build_sequential\n",
    "from steves_utils.torch_utils import get_dataset_metrics, ptn_confusion_by_domain_over_dataloader\n",
    "from steves_utils.utils_v2 import (per_domain_accuracy_from_confusion, get_datasets_base_path)\n",
    "from steves_utils.PTN.utils import independent_accuracy_assesment\n",
    "\n",
    "from steves_utils.stratified_dataset.episodic_accessor import Episodic_Accessor_Factory\n",
    "\n",
    "from steves_utils.ptn_do_report import (\n",
    "    get_loss_curve,\n",
    "    get_results_table,\n",
    "    get_parameters_table,\n",
    "    get_domain_accuracies,\n",
    ")\n",
    "\n",
    "from steves_utils.transforms import get_chained_transform"
   ]
  },
  {
   "cell_type": "markdown",
   "id": "41c840b4",
   "metadata": {
    "papermill": {
     "duration": 0.009187,
     "end_time": "2022-03-22T00:56:39.965194",
     "exception": false,
     "start_time": "2022-03-22T00:56:39.956007",
     "status": "completed"
    },
    "tags": []
   },
   "source": [
    "# Required Parameters\n",
    "These are allowed parameters, not defaults\n",
    "Each of these values need to be present in the injected parameters (the notebook will raise an exception if they are not present)\n",
    "\n",
    "Papermill uses the cell tag \"parameters\" to inject the real parameters below this cell.\n",
    "Enable tags to see what I mean"
   ]
  },
  {
   "cell_type": "code",
   "execution_count": 2,
   "id": "fd44eb83",
   "metadata": {
    "execution": {
     "iopub.execute_input": "2022-03-22T00:56:39.986028Z",
     "iopub.status.busy": "2022-03-22T00:56:39.985762Z",
     "iopub.status.idle": "2022-03-22T00:56:39.996333Z",
     "shell.execute_reply": "2022-03-22T00:56:39.996625Z"
    },
    "papermill": {
     "duration": 0.022277,
     "end_time": "2022-03-22T00:56:39.996727",
     "exception": false,
     "start_time": "2022-03-22T00:56:39.974450",
     "status": "completed"
    },
    "tags": []
   },
   "outputs": [],
   "source": [
    "required_parameters = {\n",
    "    \"experiment_name\",\n",
    "    \"lr\",\n",
    "    \"device\",\n",
    "    \"seed\",\n",
    "    \"dataset_seed\",\n",
    "    \"labels_source\",\n",
    "    \"labels_target\",\n",
    "    \"domains_source\",\n",
    "    \"domains_target\",\n",
    "    \"num_examples_per_domain_per_label_source\",\n",
    "    \"num_examples_per_domain_per_label_target\",\n",
    "    \"n_shot\",\n",
    "    \"n_way\",\n",
    "    \"n_query\",\n",
    "    \"train_k_factor\",\n",
    "    \"val_k_factor\",\n",
    "    \"test_k_factor\",\n",
    "    \"n_epoch\",\n",
    "    \"patience\",\n",
    "    \"criteria_for_best\",\n",
    "    \"x_transforms_source\",\n",
    "    \"x_transforms_target\",\n",
    "    \"episode_transforms_source\",\n",
    "    \"episode_transforms_target\",\n",
    "    \"pickle_name\",\n",
    "    \"x_net\",\n",
    "    \"NUM_LOGS_PER_EPOCH\",\n",
    "    \"BEST_MODEL_PATH\",\n",
    "    \"torch_default_dtype\"\n",
    "}"
   ]
  },
  {
   "cell_type": "code",
   "execution_count": 3,
   "id": "fa3f0049",
   "metadata": {
    "execution": {
     "iopub.execute_input": "2022-03-22T00:56:40.026348Z",
     "iopub.status.busy": "2022-03-22T00:56:40.026033Z",
     "iopub.status.idle": "2022-03-22T00:56:40.038410Z",
     "shell.execute_reply": "2022-03-22T00:56:40.038689Z"
    },
    "papermill": {
     "duration": 0.027571,
     "end_time": "2022-03-22T00:56:40.038771",
     "exception": false,
     "start_time": "2022-03-22T00:56:40.011200",
     "status": "completed"
    },
    "tags": [
     "parameters"
    ]
   },
   "outputs": [],
   "source": [
    "\n",
    "\n",
    "standalone_parameters = {}\n",
    "standalone_parameters[\"experiment_name\"] = \"STANDALONE PTN\"\n",
    "standalone_parameters[\"lr\"] = 0.0001\n",
    "standalone_parameters[\"device\"] = \"cuda\"\n",
    "\n",
    "standalone_parameters[\"seed\"] = 1337\n",
    "standalone_parameters[\"dataset_seed\"] = 1337\n",
    "\n",
    "\n",
    "standalone_parameters[\"num_examples_per_domain_per_label_source\"]=100\n",
    "standalone_parameters[\"num_examples_per_domain_per_label_target\"]=100\n",
    "\n",
    "standalone_parameters[\"n_shot\"] = 3\n",
    "standalone_parameters[\"n_query\"]  = 2\n",
    "standalone_parameters[\"train_k_factor\"] = 1\n",
    "standalone_parameters[\"val_k_factor\"] = 2\n",
    "standalone_parameters[\"test_k_factor\"] = 2\n",
    "\n",
    "\n",
    "standalone_parameters[\"n_epoch\"] = 100\n",
    "\n",
    "standalone_parameters[\"patience\"] = 10\n",
    "standalone_parameters[\"criteria_for_best\"] = \"target_accuracy\"\n",
    "\n",
    "standalone_parameters[\"x_transforms_source\"] = [\"unit_power\"]\n",
    "standalone_parameters[\"x_transforms_target\"] = [\"unit_power\"]\n",
    "standalone_parameters[\"episode_transforms_source\"] = []\n",
    "standalone_parameters[\"episode_transforms_target\"] = []\n",
    "\n",
    "standalone_parameters[\"torch_default_dtype\"] = \"torch.float32\" \n",
    "\n",
    "\n",
    "\n",
    "standalone_parameters[\"x_net\"] =     [\n",
    "    {\"class\": \"nnReshape\", \"kargs\": {\"shape\":[-1, 1, 2, 256]}},\n",
    "    {\"class\": \"Conv2d\", \"kargs\": { \"in_channels\":1, \"out_channels\":256, \"kernel_size\":(1,7), \"bias\":False, \"padding\":(0,3), },},\n",
    "    {\"class\": \"ReLU\", \"kargs\": {\"inplace\": True}},\n",
    "    {\"class\": \"BatchNorm2d\", \"kargs\": {\"num_features\":256}},\n",
    "\n",
    "    {\"class\": \"Conv2d\", \"kargs\": { \"in_channels\":256, \"out_channels\":80, \"kernel_size\":(2,7), \"bias\":True, \"padding\":(0,3), },},\n",
    "    {\"class\": \"ReLU\", \"kargs\": {\"inplace\": True}},\n",
    "    {\"class\": \"BatchNorm2d\", \"kargs\": {\"num_features\":80}},\n",
    "    {\"class\": \"Flatten\", \"kargs\": {}},\n",
    "\n",
    "    {\"class\": \"Linear\", \"kargs\": {\"in_features\": 80*256, \"out_features\": 256}}, # 80 units per IQ pair\n",
    "    {\"class\": \"ReLU\", \"kargs\": {\"inplace\": True}},\n",
    "    {\"class\": \"BatchNorm1d\", \"kargs\": {\"num_features\":256}},\n",
    "\n",
    "    {\"class\": \"Linear\", \"kargs\": {\"in_features\": 256, \"out_features\": 256}},\n",
    "]\n",
    "\n",
    "# Parameters relevant to results\n",
    "# These parameters will basically never need to change\n",
    "standalone_parameters[\"NUM_LOGS_PER_EPOCH\"] = 10\n",
    "standalone_parameters[\"BEST_MODEL_PATH\"] = \"./best_model.pth\"\n",
    "\n",
    "# uncomment for CORES dataset\n",
    "from steves_utils.CORES.utils import (\n",
    "    ALL_NODES,\n",
    "    ALL_NODES_MINIMUM_1000_EXAMPLES,\n",
    "    ALL_DAYS\n",
    ")\n",
    "\n",
    "\n",
    "standalone_parameters[\"labels_source\"] = ALL_NODES\n",
    "standalone_parameters[\"labels_target\"] = ALL_NODES\n",
    "\n",
    "standalone_parameters[\"domains_source\"] = [1]\n",
    "standalone_parameters[\"domains_target\"] = [2,3,4,5]\n",
    "\n",
    "standalone_parameters[\"pickle_name\"] = \"cores.stratified_ds.2022A.pkl\"\n",
    "\n",
    "\n",
    "# Uncomment these for ORACLE dataset\n",
    "# from steves_utils.ORACLE.utils_v2 import (\n",
    "#     ALL_DISTANCES_FEET,\n",
    "#     ALL_RUNS,\n",
    "#     ALL_SERIAL_NUMBERS,\n",
    "# )\n",
    "# standalone_parameters[\"labels_source\"] = ALL_SERIAL_NUMBERS\n",
    "# standalone_parameters[\"labels_target\"] = ALL_SERIAL_NUMBERS\n",
    "# standalone_parameters[\"domains_source\"] = [8,20, 38,50]\n",
    "# standalone_parameters[\"domains_target\"] = [14, 26, 32, 44, 56]\n",
    "# standalone_parameters[\"pickle_name\"] = \"oracle.frame_indexed.stratified_ds.2022A.pkl\"\n",
    "# standalone_parameters[\"num_examples_per_domain_per_label_source\"]=1000\n",
    "# standalone_parameters[\"num_examples_per_domain_per_label_target\"]=1000\n",
    "\n",
    "# Uncomment these for Metahan dataset\n",
    "# standalone_parameters[\"labels_source\"] = list(range(19))\n",
    "# standalone_parameters[\"labels_target\"] = list(range(19))\n",
    "# standalone_parameters[\"domains_source\"] = [0]\n",
    "# standalone_parameters[\"domains_target\"] = [1]\n",
    "# standalone_parameters[\"pickle_name\"] = \"metehan.stratified_ds.2022A.pkl\"\n",
    "# standalone_parameters[\"n_way\"]  = len(standalone_parameters[\"labels_source\"])\n",
    "# standalone_parameters[\"num_examples_per_domain_per_label_source\"]=200\n",
    "# standalone_parameters[\"num_examples_per_domain_per_label_target\"]=100\n",
    "\n",
    "\n",
    "standalone_parameters[\"n_way\"]  = len(standalone_parameters[\"labels_source\"])"
   ]
  },
  {
   "cell_type": "code",
   "execution_count": 4,
   "id": "a17f3f18",
   "metadata": {
    "execution": {
     "iopub.execute_input": "2022-03-22T00:56:40.066318Z",
     "iopub.status.busy": "2022-03-22T00:56:40.066039Z",
     "iopub.status.idle": "2022-03-22T00:56:40.076753Z",
     "shell.execute_reply": "2022-03-22T00:56:40.077043Z"
    },
    "papermill": {
     "duration": 0.02532,
     "end_time": "2022-03-22T00:56:40.077123",
     "exception": false,
     "start_time": "2022-03-22T00:56:40.051803",
     "status": "completed"
    },
    "tags": [
     "injected-parameters"
    ]
   },
   "outputs": [],
   "source": [
    "# Parameters\n",
    "parameters = {\n",
    "    \"experiment_name\": \"tuned_1v2:oracle.run1\",\n",
    "    \"device\": \"cuda\",\n",
    "    \"lr\": 0.0001,\n",
    "    \"labels_source\": [\n",
    "        \"3123D52\",\n",
    "        \"3123D65\",\n",
    "        \"3123D79\",\n",
    "        \"3123D80\",\n",
    "        \"3123D54\",\n",
    "        \"3123D70\",\n",
    "        \"3123D7B\",\n",
    "        \"3123D89\",\n",
    "        \"3123D58\",\n",
    "        \"3123D76\",\n",
    "        \"3123D7D\",\n",
    "        \"3123EFE\",\n",
    "        \"3123D64\",\n",
    "        \"3123D78\",\n",
    "        \"3123D7E\",\n",
    "        \"3124E4A\",\n",
    "    ],\n",
    "    \"labels_target\": [\n",
    "        \"3123D52\",\n",
    "        \"3123D65\",\n",
    "        \"3123D79\",\n",
    "        \"3123D80\",\n",
    "        \"3123D54\",\n",
    "        \"3123D70\",\n",
    "        \"3123D7B\",\n",
    "        \"3123D89\",\n",
    "        \"3123D58\",\n",
    "        \"3123D76\",\n",
    "        \"3123D7D\",\n",
    "        \"3123EFE\",\n",
    "        \"3123D64\",\n",
    "        \"3123D78\",\n",
    "        \"3123D7E\",\n",
    "        \"3124E4A\",\n",
    "    ],\n",
    "    \"episode_transforms_source\": [],\n",
    "    \"episode_transforms_target\": [],\n",
    "    \"domains_source\": [8, 32, 50],\n",
    "    \"domains_target\": [14, 20, 26, 38, 44],\n",
    "    \"num_examples_per_domain_per_label_source\": -1,\n",
    "    \"num_examples_per_domain_per_label_target\": -1,\n",
    "    \"n_shot\": 3,\n",
    "    \"n_way\": 16,\n",
    "    \"n_query\": 2,\n",
    "    \"train_k_factor\": 3,\n",
    "    \"val_k_factor\": 2,\n",
    "    \"test_k_factor\": 2,\n",
    "    \"torch_default_dtype\": \"torch.float32\",\n",
    "    \"n_epoch\": 50,\n",
    "    \"patience\": 3,\n",
    "    \"criteria_for_best\": \"target_accuracy\",\n",
    "    \"x_net\": [\n",
    "        {\"class\": \"nnReshape\", \"kargs\": {\"shape\": [-1, 1, 2, 256]}},\n",
    "        {\n",
    "            \"class\": \"Conv2d\",\n",
    "            \"kargs\": {\n",
    "                \"in_channels\": 1,\n",
    "                \"out_channels\": 256,\n",
    "                \"kernel_size\": [1, 7],\n",
    "                \"bias\": False,\n",
    "                \"padding\": [0, 3],\n",
    "            },\n",
    "        },\n",
    "        {\"class\": \"ReLU\", \"kargs\": {\"inplace\": True}},\n",
    "        {\"class\": \"BatchNorm2d\", \"kargs\": {\"num_features\": 256}},\n",
    "        {\n",
    "            \"class\": \"Conv2d\",\n",
    "            \"kargs\": {\n",
    "                \"in_channels\": 256,\n",
    "                \"out_channels\": 80,\n",
    "                \"kernel_size\": [2, 7],\n",
    "                \"bias\": True,\n",
    "                \"padding\": [0, 3],\n",
    "            },\n",
    "        },\n",
    "        {\"class\": \"ReLU\", \"kargs\": {\"inplace\": True}},\n",
    "        {\"class\": \"BatchNorm2d\", \"kargs\": {\"num_features\": 80}},\n",
    "        {\"class\": \"Flatten\", \"kargs\": {}},\n",
    "        {\"class\": \"Linear\", \"kargs\": {\"in_features\": 20480, \"out_features\": 256}},\n",
    "        {\"class\": \"ReLU\", \"kargs\": {\"inplace\": True}},\n",
    "        {\"class\": \"BatchNorm1d\", \"kargs\": {\"num_features\": 256}},\n",
    "        {\"class\": \"Linear\", \"kargs\": {\"in_features\": 256, \"out_features\": 256}},\n",
    "    ],\n",
    "    \"NUM_LOGS_PER_EPOCH\": 10,\n",
    "    \"BEST_MODEL_PATH\": \"./best_model.pth\",\n",
    "    \"pickle_name\": \"oracle.Run1_10kExamples_stratified_ds.2022A.pkl\",\n",
    "    \"x_transforms_source\": [],\n",
    "    \"x_transforms_target\": [],\n",
    "    \"dataset_seed\": 154325,\n",
    "    \"seed\": 154325,\n",
    "}\n"
   ]
  },
  {
   "cell_type": "code",
   "execution_count": 5,
   "id": "8fa1cc33",
   "metadata": {
    "execution": {
     "iopub.execute_input": "2022-03-22T00:56:40.102955Z",
     "iopub.status.busy": "2022-03-22T00:56:40.102702Z",
     "iopub.status.idle": "2022-03-22T00:56:40.113377Z",
     "shell.execute_reply": "2022-03-22T00:56:40.113027Z"
    },
    "papermill": {
     "duration": 0.022958,
     "end_time": "2022-03-22T00:56:40.113446",
     "exception": false,
     "start_time": "2022-03-22T00:56:40.090488",
     "status": "completed"
    },
    "tags": []
   },
   "outputs": [],
   "source": [
    "# Set this to True if you want to run this template directly\n",
    "STANDALONE = False\n",
    "if STANDALONE:\n",
    "    print(\"parameters not injected, running with standalone_parameters\")\n",
    "    parameters = standalone_parameters\n",
    "\n",
    "if not 'parameters' in locals() and not 'parameters' in globals():\n",
    "    raise Exception(\"Parameter injection failed\")\n",
    "\n",
    "#Use an easy dict for all the parameters\n",
    "p = EasyDict(parameters)\n",
    "\n",
    "supplied_keys = set(p.keys())\n",
    "\n",
    "if  supplied_keys != required_parameters:\n",
    "    print(\"Parameters are incorrect\")\n",
    "    if len(supplied_keys - required_parameters)>0: print(\"Shouldn't have:\", str(supplied_keys - required_parameters))\n",
    "    if len(required_parameters - supplied_keys)>0: print(\"Need to have:\", str(required_parameters - supplied_keys))\n",
    "    raise RuntimeError(\"Parameters are incorrect\")\n",
    "\n"
   ]
  },
  {
   "cell_type": "code",
   "execution_count": 6,
   "id": "3a028d58",
   "metadata": {
    "execution": {
     "iopub.execute_input": "2022-03-22T00:56:40.137850Z",
     "iopub.status.busy": "2022-03-22T00:56:40.137601Z",
     "iopub.status.idle": "2022-03-22T00:56:40.148446Z",
     "shell.execute_reply": "2022-03-22T00:56:40.148057Z"
    },
    "papermill": {
     "duration": 0.022576,
     "end_time": "2022-03-22T00:56:40.148532",
     "exception": false,
     "start_time": "2022-03-22T00:56:40.125956",
     "status": "completed"
    },
    "tags": []
   },
   "outputs": [],
   "source": [
    "###################################\n",
    "# Set the RNGs and make it all deterministic\n",
    "###################################\n",
    "np.random.seed(p.seed)\n",
    "random.seed(p.seed)\n",
    "torch.manual_seed(p.seed)\n",
    "\n",
    "torch.use_deterministic_algorithms(True) "
   ]
  },
  {
   "cell_type": "code",
   "execution_count": 7,
   "id": "b691acf6",
   "metadata": {
    "execution": {
     "iopub.execute_input": "2022-03-22T00:56:40.174174Z",
     "iopub.status.busy": "2022-03-22T00:56:40.173922Z",
     "iopub.status.idle": "2022-03-22T00:56:40.184677Z",
     "shell.execute_reply": "2022-03-22T00:56:40.184228Z"
    },
    "papermill": {
     "duration": 0.022119,
     "end_time": "2022-03-22T00:56:40.184763",
     "exception": false,
     "start_time": "2022-03-22T00:56:40.162644",
     "status": "completed"
    },
    "tags": []
   },
   "outputs": [],
   "source": [
    "###########################################\n",
    "# The stratified datasets honor this\n",
    "###########################################\n",
    "torch.set_default_dtype(eval(p.torch_default_dtype))"
   ]
  },
  {
   "cell_type": "code",
   "execution_count": 8,
   "id": "b5fba671",
   "metadata": {
    "execution": {
     "iopub.execute_input": "2022-03-22T00:56:40.210857Z",
     "iopub.status.busy": "2022-03-22T00:56:40.210603Z",
     "iopub.status.idle": "2022-03-22T00:56:40.252634Z",
     "shell.execute_reply": "2022-03-22T00:56:40.252170Z"
    },
    "papermill": {
     "duration": 0.053394,
     "end_time": "2022-03-22T00:56:40.252727",
     "exception": false,
     "start_time": "2022-03-22T00:56:40.199333",
     "status": "completed"
    },
    "tags": []
   },
   "outputs": [],
   "source": [
    "###################################\n",
    "# Build the network(s)\n",
    "# Note: It's critical to do this AFTER setting the RNG\n",
    "# (This is due to the randomized initial weights)\n",
    "###################################\n",
    "x_net = build_sequential(p.x_net)"
   ]
  },
  {
   "cell_type": "code",
   "execution_count": 9,
   "id": "5d7e61cc",
   "metadata": {
    "execution": {
     "iopub.execute_input": "2022-03-22T00:56:40.280019Z",
     "iopub.status.busy": "2022-03-22T00:56:40.279762Z",
     "iopub.status.idle": "2022-03-22T00:56:40.290754Z",
     "shell.execute_reply": "2022-03-22T00:56:40.290450Z"
    },
    "papermill": {
     "duration": 0.02331,
     "end_time": "2022-03-22T00:56:40.290823",
     "exception": false,
     "start_time": "2022-03-22T00:56:40.267513",
     "status": "completed"
    },
    "tags": []
   },
   "outputs": [],
   "source": [
    "start_time_secs = time.time()"
   ]
  },
  {
   "cell_type": "code",
   "execution_count": 10,
   "id": "fd5442bc",
   "metadata": {
    "execution": {
     "iopub.execute_input": "2022-03-22T00:56:40.324310Z",
     "iopub.status.busy": "2022-03-22T00:56:40.323870Z",
     "iopub.status.idle": "2022-03-22T00:56:55.899669Z",
     "shell.execute_reply": "2022-03-22T00:56:55.899170Z"
    },
    "papermill": {
     "duration": 15.595166,
     "end_time": "2022-03-22T00:56:55.899776",
     "exception": false,
     "start_time": "2022-03-22T00:56:40.304610",
     "status": "completed"
    },
    "tags": []
   },
   "outputs": [],
   "source": [
    "###################################\n",
    "# Build the dataset\n",
    "###################################\n",
    "\n",
    "if p.x_transforms_source == []: x_transform_source = None\n",
    "else: x_transform_source = get_chained_transform(p.x_transforms_source) \n",
    "\n",
    "if p.x_transforms_target == []: x_transform_target = None\n",
    "else: x_transform_target = get_chained_transform(p.x_transforms_target)\n",
    "\n",
    "if p.episode_transforms_source == []: episode_transform_source = None\n",
    "else: raise Exception(\"episode_transform_source not implemented\")\n",
    "\n",
    "if p.episode_transforms_target == []: episode_transform_target = None\n",
    "else: raise Exception(\"episode_transform_target not implemented\")\n",
    "\n",
    "\n",
    "eaf_source = Episodic_Accessor_Factory(\n",
    "    labels=p.labels_source,\n",
    "    domains=p.domains_source,\n",
    "    num_examples_per_domain_per_label=p.num_examples_per_domain_per_label_source,\n",
    "    iterator_seed=p.seed,\n",
    "    dataset_seed=p.dataset_seed,\n",
    "    n_shot=p.n_shot,\n",
    "    n_way=p.n_way,\n",
    "    n_query=p.n_query,\n",
    "    train_val_test_k_factors=(p.train_k_factor,p.val_k_factor,p.test_k_factor),\n",
    "    pickle_path=os.path.join(get_datasets_base_path(), p.pickle_name),\n",
    "    x_transform_func=x_transform_source,\n",
    "    example_transform_func=episode_transform_source,\n",
    "    \n",
    ")\n",
    "train_original_source, val_original_source, test_original_source = eaf_source.get_train(), eaf_source.get_val(), eaf_source.get_test()\n",
    "\n",
    "\n",
    "eaf_target = Episodic_Accessor_Factory(\n",
    "    labels=p.labels_target,\n",
    "    domains=p.domains_target,\n",
    "    num_examples_per_domain_per_label=p.num_examples_per_domain_per_label_target,\n",
    "    iterator_seed=p.seed,\n",
    "    dataset_seed=p.dataset_seed,\n",
    "    n_shot=p.n_shot,\n",
    "    n_way=p.n_way,\n",
    "    n_query=p.n_query,\n",
    "    train_val_test_k_factors=(p.train_k_factor,p.val_k_factor,p.test_k_factor),\n",
    "    pickle_path=os.path.join(get_datasets_base_path(), p.pickle_name),\n",
    "    x_transform_func=x_transform_target,\n",
    "    example_transform_func=episode_transform_target,\n",
    ")\n",
    "train_original_target, val_original_target, test_original_target = eaf_target.get_train(), eaf_target.get_val(), eaf_target.get_test()\n",
    "\n",
    "\n",
    "transform_lambda = lambda ex: ex[1] # Original is (<domain>, <episode>) so we strip down to episode only\n",
    "\n",
    "train_processed_source = Lazy_Iterable_Wrapper(train_original_source, transform_lambda)\n",
    "val_processed_source   = Lazy_Iterable_Wrapper(val_original_source, transform_lambda)\n",
    "test_processed_source  = Lazy_Iterable_Wrapper(test_original_source, transform_lambda)\n",
    "\n",
    "train_processed_target = Lazy_Iterable_Wrapper(train_original_target, transform_lambda)\n",
    "val_processed_target   = Lazy_Iterable_Wrapper(val_original_target, transform_lambda)\n",
    "test_processed_target  = Lazy_Iterable_Wrapper(test_original_target, transform_lambda)\n",
    "\n",
    "datasets = EasyDict({\n",
    "    \"source\": {\n",
    "        \"original\": {\"train\":train_original_source, \"val\":val_original_source, \"test\":test_original_source},\n",
    "        \"processed\": {\"train\":train_processed_source, \"val\":val_processed_source, \"test\":test_processed_source}\n",
    "    },\n",
    "    \"target\": {\n",
    "        \"original\": {\"train\":train_original_target, \"val\":val_original_target, \"test\":test_original_target},\n",
    "        \"processed\": {\"train\":train_processed_target, \"val\":val_processed_target, \"test\":test_processed_target}\n",
    "    },\n",
    "})"
   ]
  },
  {
   "cell_type": "code",
   "execution_count": 11,
   "id": "296189d9",
   "metadata": {
    "execution": {
     "iopub.execute_input": "2022-03-22T00:56:55.929438Z",
     "iopub.status.busy": "2022-03-22T00:56:55.928088Z",
     "iopub.status.idle": "2022-03-22T00:56:57.794180Z",
     "shell.execute_reply": "2022-03-22T00:56:57.794645Z"
    },
    "papermill": {
     "duration": 1.881016,
     "end_time": "2022-03-22T00:56:57.794772",
     "exception": false,
     "start_time": "2022-03-22T00:56:55.913756",
     "status": "completed"
    },
    "tags": []
   },
   "outputs": [
    {
     "name": "stdout",
     "output_type": "stream",
     "text": [
      "Visually inspect these to see if they line up with expected values given the transforms\n",
      "x_transforms_source []\n",
      "x_transforms_target []\n",
      "Average magnitude, source: 0.002271987\n",
      "Average power, source: 6.7968576e-06\n"
     ]
    },
    {
     "name": "stdout",
     "output_type": "stream",
     "text": [
      "Average magnitude, target: 0.0014430321\n",
      "Average power, target: 2.7893177e-06\n"
     ]
    }
   ],
   "source": [
    "# Some quick unit tests on the data\n",
    "from steves_utils.transforms import get_average_power, get_average_magnitude\n",
    "\n",
    "q_x, q_y, s_x, s_y, truth = next(iter(train_processed_source))\n",
    "\n",
    "assert q_x.dtype == eval(p.torch_default_dtype)\n",
    "assert s_x.dtype == eval(p.torch_default_dtype)\n",
    "\n",
    "print(\"Visually inspect these to see if they line up with expected values given the transforms\")\n",
    "print('x_transforms_source', p.x_transforms_source)\n",
    "print('x_transforms_target', p.x_transforms_target)\n",
    "print(\"Average magnitude, source:\", get_average_magnitude(q_x[0].numpy()))\n",
    "print(\"Average power, source:\", get_average_power(q_x[0].numpy()))\n",
    "\n",
    "q_x, q_y, s_x, s_y, truth = next(iter(train_processed_target))\n",
    "print(\"Average magnitude, target:\", get_average_magnitude(q_x[0].numpy()))\n",
    "print(\"Average power, target:\", get_average_power(q_x[0].numpy()))\n"
   ]
  },
  {
   "cell_type": "code",
   "execution_count": 12,
   "id": "bbdacba1",
   "metadata": {
    "execution": {
     "iopub.execute_input": "2022-03-22T00:56:57.823782Z",
     "iopub.status.busy": "2022-03-22T00:56:57.823520Z",
     "iopub.status.idle": "2022-03-22T00:56:57.885830Z",
     "shell.execute_reply": "2022-03-22T00:56:57.885339Z"
    },
    "papermill": {
     "duration": 0.075981,
     "end_time": "2022-03-22T00:56:57.885933",
     "exception": false,
     "start_time": "2022-03-22T00:56:57.809952",
     "status": "completed"
    },
    "tags": []
   },
   "outputs": [
    {
     "name": "stdout",
     "output_type": "stream",
     "text": [
      "(2, 256)\n"
     ]
    }
   ],
   "source": [
    "###################################\n",
    "# Build the model\n",
    "###################################\n",
    "model = Steves_Prototypical_Network(x_net, device=p.device, x_shape=(2,256))\n",
    "optimizer = Adam(params=model.parameters(), lr=p.lr)"
   ]
  },
  {
   "cell_type": "code",
   "execution_count": 13,
   "id": "22b39ac5",
   "metadata": {
    "execution": {
     "iopub.execute_input": "2022-03-22T00:56:57.913832Z",
     "iopub.status.busy": "2022-03-22T00:56:57.913580Z",
     "iopub.status.idle": "2022-03-22T01:38:55.095639Z",
     "shell.execute_reply": "2022-03-22T01:38:55.095407Z"
    },
    "papermill": {
     "duration": 2517.194383,
     "end_time": "2022-03-22T01:38:55.095695",
     "exception": false,
     "start_time": "2022-03-22T00:56:57.901312",
     "status": "completed"
    },
    "tags": []
   },
   "outputs": [
    {
     "name": "stdout",
     "output_type": "stream",
     "text": [
      "epoch: 1, [batch: 1 / 12600], examples_per_second: 27.4191, train_label_loss: 2.7377, \n"
     ]
    },
    {
     "name": "stdout",
     "output_type": "stream",
     "text": [
      "epoch: 1, [batch: 1260 / 12600], examples_per_second: 3146.4861, train_label_loss: 1.0637, \n"
     ]
    },
    {
     "name": "stdout",
     "output_type": "stream",
     "text": [
      "epoch: 1, [batch: 2520 / 12600], examples_per_second: 3150.0678, train_label_loss: 0.7617, \n"
     ]
    },
    {
     "name": "stdout",
     "output_type": "stream",
     "text": [
      "epoch: 1, [batch: 3780 / 12600], examples_per_second: 3150.7831, train_label_loss: 0.5205, \n"
     ]
    },
    {
     "name": "stdout",
     "output_type": "stream",
     "text": [
      "epoch: 1, [batch: 5040 / 12600], examples_per_second: 3115.6409, train_label_loss: 0.3919, \n"
     ]
    },
    {
     "name": "stdout",
     "output_type": "stream",
     "text": [
      "epoch: 1, [batch: 6300 / 12600], examples_per_second: 3137.5657, train_label_loss: 0.7865, \n"
     ]
    },
    {
     "name": "stdout",
     "output_type": "stream",
     "text": [
      "epoch: 1, [batch: 7560 / 12600], examples_per_second: 3145.2220, train_label_loss: 0.8187, \n"
     ]
    },
    {
     "name": "stdout",
     "output_type": "stream",
     "text": [
      "epoch: 1, [batch: 8820 / 12600], examples_per_second: 3130.7327, train_label_loss: 0.1615, \n"
     ]
    },
    {
     "name": "stdout",
     "output_type": "stream",
     "text": [
      "epoch: 1, [batch: 10080 / 12600], examples_per_second: 3130.8817, train_label_loss: 0.4119, \n"
     ]
    },
    {
     "name": "stdout",
     "output_type": "stream",
     "text": [
      "epoch: 1, [batch: 11340 / 12600], examples_per_second: 3131.0439, train_label_loss: 0.2766, \n"
     ]
    },
    {
     "name": "stdout",
     "output_type": "stream",
     "text": [
      "=============================================================\n",
      "epoch: 1, source_val_acc_label: 0.7141, target_val_acc_label: 0.6620, source_val_label_loss: 0.9494, target_val_label_loss: 1.1488, \n",
      "=============================================================\n"
     ]
    },
    {
     "name": "stdout",
     "output_type": "stream",
     "text": [
      "New best\n"
     ]
    },
    {
     "name": "stdout",
     "output_type": "stream",
     "text": [
      "epoch: 2, [batch: 1 / 12600], examples_per_second: 2.2329, train_label_loss: 0.5728, \n"
     ]
    },
    {
     "name": "stdout",
     "output_type": "stream",
     "text": [
      "epoch: 2, [batch: 1260 / 12600], examples_per_second: 3155.2763, train_label_loss: 0.4065, \n"
     ]
    },
    {
     "name": "stdout",
     "output_type": "stream",
     "text": [
      "epoch: 2, [batch: 2520 / 12600], examples_per_second: 3156.7581, train_label_loss: 0.5219, \n"
     ]
    },
    {
     "name": "stdout",
     "output_type": "stream",
     "text": [
      "epoch: 2, [batch: 3780 / 12600], examples_per_second: 3157.2824, train_label_loss: 0.4213, \n"
     ]
    },
    {
     "name": "stdout",
     "output_type": "stream",
     "text": [
      "epoch: 2, [batch: 5040 / 12600], examples_per_second: 3156.4127, train_label_loss: 0.2261, \n"
     ]
    },
    {
     "name": "stdout",
     "output_type": "stream",
     "text": [
      "epoch: 2, [batch: 6300 / 12600], examples_per_second: 3163.3408, train_label_loss: 0.3401, \n"
     ]
    },
    {
     "name": "stdout",
     "output_type": "stream",
     "text": [
      "epoch: 2, [batch: 7560 / 12600], examples_per_second: 3171.1203, train_label_loss: 0.1540, \n"
     ]
    },
    {
     "name": "stdout",
     "output_type": "stream",
     "text": [
      "epoch: 2, [batch: 8820 / 12600], examples_per_second: 3157.4372, train_label_loss: 0.4698, \n"
     ]
    },
    {
     "name": "stdout",
     "output_type": "stream",
     "text": [
      "epoch: 2, [batch: 10080 / 12600], examples_per_second: 3158.5815, train_label_loss: 0.3577, \n"
     ]
    },
    {
     "name": "stdout",
     "output_type": "stream",
     "text": [
      "epoch: 2, [batch: 11340 / 12600], examples_per_second: 3162.9440, train_label_loss: 0.2134, \n"
     ]
    },
    {
     "name": "stdout",
     "output_type": "stream",
     "text": [
      "=============================================================\n",
      "epoch: 2, source_val_acc_label: 0.8509, target_val_acc_label: 0.7531, source_val_label_loss: 0.4147, target_val_label_loss: 0.7480, \n",
      "=============================================================\n"
     ]
    },
    {
     "name": "stdout",
     "output_type": "stream",
     "text": [
      "New best\n"
     ]
    },
    {
     "name": "stdout",
     "output_type": "stream",
     "text": [
      "epoch: 3, [batch: 1 / 12600], examples_per_second: 2.2432, train_label_loss: 0.2273, \n"
     ]
    },
    {
     "name": "stdout",
     "output_type": "stream",
     "text": [
      "epoch: 3, [batch: 1260 / 12600], examples_per_second: 3158.4976, train_label_loss: 0.3970, \n"
     ]
    },
    {
     "name": "stdout",
     "output_type": "stream",
     "text": [
      "epoch: 3, [batch: 2520 / 12600], examples_per_second: 3160.8742, train_label_loss: 0.2843, \n"
     ]
    },
    {
     "name": "stdout",
     "output_type": "stream",
     "text": [
      "epoch: 3, [batch: 3780 / 12600], examples_per_second: 3161.7272, train_label_loss: 0.2605, \n"
     ]
    },
    {
     "name": "stdout",
     "output_type": "stream",
     "text": [
      "epoch: 3, [batch: 5040 / 12600], examples_per_second: 3152.4268, train_label_loss: 0.5023, \n"
     ]
    },
    {
     "name": "stdout",
     "output_type": "stream",
     "text": [
      "epoch: 3, [batch: 6300 / 12600], examples_per_second: 3165.1570, train_label_loss: 0.2589, \n"
     ]
    },
    {
     "name": "stdout",
     "output_type": "stream",
     "text": [
      "epoch: 3, [batch: 7560 / 12600], examples_per_second: 3181.7674, train_label_loss: 0.2338, \n"
     ]
    },
    {
     "name": "stdout",
     "output_type": "stream",
     "text": [
      "epoch: 3, [batch: 8820 / 12600], examples_per_second: 3156.8389, train_label_loss: 0.3637, \n"
     ]
    },
    {
     "name": "stdout",
     "output_type": "stream",
     "text": [
      "epoch: 3, [batch: 10080 / 12600], examples_per_second: 3171.2146, train_label_loss: 0.3406, \n"
     ]
    },
    {
     "name": "stdout",
     "output_type": "stream",
     "text": [
      "epoch: 3, [batch: 11340 / 12600], examples_per_second: 3155.7677, train_label_loss: 0.2090, \n"
     ]
    },
    {
     "name": "stdout",
     "output_type": "stream",
     "text": [
      "=============================================================\n",
      "epoch: 3, source_val_acc_label: 0.8732, target_val_acc_label: 0.7718, source_val_label_loss: 0.3657, target_val_label_loss: 0.7277, \n",
      "=============================================================\n"
     ]
    },
    {
     "name": "stdout",
     "output_type": "stream",
     "text": [
      "New best\n"
     ]
    },
    {
     "name": "stdout",
     "output_type": "stream",
     "text": [
      "epoch: 4, [batch: 1 / 12600], examples_per_second: 2.2371, train_label_loss: 0.3406, \n"
     ]
    },
    {
     "name": "stdout",
     "output_type": "stream",
     "text": [
      "epoch: 4, [batch: 1260 / 12600], examples_per_second: 3157.3057, train_label_loss: 0.2512, \n"
     ]
    },
    {
     "name": "stdout",
     "output_type": "stream",
     "text": [
      "epoch: 4, [batch: 2520 / 12600], examples_per_second: 3159.6537, train_label_loss: 0.1754, \n"
     ]
    },
    {
     "name": "stdout",
     "output_type": "stream",
     "text": [
      "epoch: 4, [batch: 3780 / 12600], examples_per_second: 3159.6644, train_label_loss: 0.2207, \n"
     ]
    },
    {
     "name": "stdout",
     "output_type": "stream",
     "text": [
      "epoch: 4, [batch: 5040 / 12600], examples_per_second: 3148.9557, train_label_loss: 0.1414, \n"
     ]
    },
    {
     "name": "stdout",
     "output_type": "stream",
     "text": [
      "epoch: 4, [batch: 6300 / 12600], examples_per_second: 3151.4820, train_label_loss: 0.1368, \n"
     ]
    },
    {
     "name": "stdout",
     "output_type": "stream",
     "text": [
      "epoch: 4, [batch: 7560 / 12600], examples_per_second: 3166.4664, train_label_loss: 0.3838, \n"
     ]
    },
    {
     "name": "stdout",
     "output_type": "stream",
     "text": [
      "epoch: 4, [batch: 8820 / 12600], examples_per_second: 3154.5324, train_label_loss: 0.2460, \n"
     ]
    },
    {
     "name": "stdout",
     "output_type": "stream",
     "text": [
      "epoch: 4, [batch: 10080 / 12600], examples_per_second: 3159.8048, train_label_loss: 0.2086, \n"
     ]
    },
    {
     "name": "stdout",
     "output_type": "stream",
     "text": [
      "epoch: 4, [batch: 11340 / 12600], examples_per_second: 3162.8055, train_label_loss: 0.2553, \n"
     ]
    },
    {
     "name": "stdout",
     "output_type": "stream",
     "text": [
      "=============================================================\n",
      "epoch: 4, source_val_acc_label: 0.8774, target_val_acc_label: 0.7680, source_val_label_loss: 0.3489, target_val_label_loss: 0.7486, \n",
      "=============================================================\n"
     ]
    },
    {
     "name": "stdout",
     "output_type": "stream",
     "text": [
      "epoch: 5, [batch: 1 / 12600], examples_per_second: 2.2533, train_label_loss: 0.2889, \n"
     ]
    },
    {
     "name": "stdout",
     "output_type": "stream",
     "text": [
      "epoch: 5, [batch: 1260 / 12600], examples_per_second: 3159.1985, train_label_loss: 0.4375, \n"
     ]
    },
    {
     "name": "stdout",
     "output_type": "stream",
     "text": [
      "epoch: 5, [batch: 2520 / 12600], examples_per_second: 3172.3095, train_label_loss: 0.0562, \n"
     ]
    },
    {
     "name": "stdout",
     "output_type": "stream",
     "text": [
      "epoch: 5, [batch: 3780 / 12600], examples_per_second: 3171.4711, train_label_loss: 0.1098, \n"
     ]
    },
    {
     "name": "stdout",
     "output_type": "stream",
     "text": [
      "epoch: 5, [batch: 5040 / 12600], examples_per_second: 3153.9497, train_label_loss: 0.3665, \n"
     ]
    },
    {
     "name": "stdout",
     "output_type": "stream",
     "text": [
      "epoch: 5, [batch: 6300 / 12600], examples_per_second: 3164.4592, train_label_loss: 0.2616, \n"
     ]
    },
    {
     "name": "stdout",
     "output_type": "stream",
     "text": [
      "epoch: 5, [batch: 7560 / 12600], examples_per_second: 3161.0908, train_label_loss: 0.2513, \n"
     ]
    },
    {
     "name": "stdout",
     "output_type": "stream",
     "text": [
      "epoch: 5, [batch: 8820 / 12600], examples_per_second: 3159.2106, train_label_loss: 0.2843, \n"
     ]
    },
    {
     "name": "stdout",
     "output_type": "stream",
     "text": [
      "epoch: 5, [batch: 10080 / 12600], examples_per_second: 3169.6032, train_label_loss: 0.1234, \n"
     ]
    },
    {
     "name": "stdout",
     "output_type": "stream",
     "text": [
      "epoch: 5, [batch: 11340 / 12600], examples_per_second: 3165.1349, train_label_loss: 0.1299, \n"
     ]
    },
    {
     "name": "stdout",
     "output_type": "stream",
     "text": [
      "=============================================================\n",
      "epoch: 5, source_val_acc_label: 0.8803, target_val_acc_label: 0.7702, source_val_label_loss: 0.3421, target_val_label_loss: 0.7423, \n",
      "=============================================================\n"
     ]
    },
    {
     "name": "stdout",
     "output_type": "stream",
     "text": [
      "epoch: 6, [batch: 1 / 12600], examples_per_second: 2.2199, train_label_loss: 0.2938, \n"
     ]
    },
    {
     "name": "stdout",
     "output_type": "stream",
     "text": [
      "epoch: 6, [batch: 1260 / 12600], examples_per_second: 3104.0216, train_label_loss: 0.5278, \n"
     ]
    },
    {
     "name": "stdout",
     "output_type": "stream",
     "text": [
      "epoch: 6, [batch: 2520 / 12600], examples_per_second: 3138.9262, train_label_loss: 0.1112, \n"
     ]
    },
    {
     "name": "stdout",
     "output_type": "stream",
     "text": [
      "epoch: 6, [batch: 3780 / 12600], examples_per_second: 3134.8279, train_label_loss: 0.2972, \n"
     ]
    },
    {
     "name": "stdout",
     "output_type": "stream",
     "text": [
      "epoch: 6, [batch: 5040 / 12600], examples_per_second: 3126.3284, train_label_loss: 0.1180, \n"
     ]
    },
    {
     "name": "stdout",
     "output_type": "stream",
     "text": [
      "epoch: 6, [batch: 6300 / 12600], examples_per_second: 3135.2895, train_label_loss: 0.0875, \n"
     ]
    },
    {
     "name": "stdout",
     "output_type": "stream",
     "text": [
      "epoch: 6, [batch: 7560 / 12600], examples_per_second: 3132.3763, train_label_loss: 0.1986, \n"
     ]
    },
    {
     "name": "stdout",
     "output_type": "stream",
     "text": [
      "epoch: 6, [batch: 8820 / 12600], examples_per_second: 3128.0503, train_label_loss: 0.3772, \n"
     ]
    },
    {
     "name": "stdout",
     "output_type": "stream",
     "text": [
      "epoch: 6, [batch: 10080 / 12600], examples_per_second: 3137.5109, train_label_loss: 0.3251, \n"
     ]
    },
    {
     "name": "stdout",
     "output_type": "stream",
     "text": [
      "epoch: 6, [batch: 11340 / 12600], examples_per_second: 3132.0485, train_label_loss: 0.0732, \n"
     ]
    },
    {
     "name": "stdout",
     "output_type": "stream",
     "text": [
      "=============================================================\n",
      "epoch: 6, source_val_acc_label: 0.8812, target_val_acc_label: 0.7682, source_val_label_loss: 0.3457, target_val_label_loss: 0.7247, \n",
      "=============================================================\n"
     ]
    },
    {
     "name": "stdout",
     "output_type": "stream",
     "text": [
      "epoch: 7, [batch: 1 / 12600], examples_per_second: 2.2215, train_label_loss: 0.3507, \n"
     ]
    },
    {
     "name": "stdout",
     "output_type": "stream",
     "text": [
      "epoch: 7, [batch: 1260 / 12600], examples_per_second: 3130.4085, train_label_loss: 0.3024, \n"
     ]
    },
    {
     "name": "stdout",
     "output_type": "stream",
     "text": [
      "epoch: 7, [batch: 2520 / 12600], examples_per_second: 3142.5697, train_label_loss: 0.4463, \n"
     ]
    },
    {
     "name": "stdout",
     "output_type": "stream",
     "text": [
      "epoch: 7, [batch: 3780 / 12600], examples_per_second: 3147.9847, train_label_loss: 0.3295, \n"
     ]
    },
    {
     "name": "stdout",
     "output_type": "stream",
     "text": [
      "epoch: 7, [batch: 5040 / 12600], examples_per_second: 3130.9408, train_label_loss: 0.1336, \n"
     ]
    },
    {
     "name": "stdout",
     "output_type": "stream",
     "text": [
      "epoch: 7, [batch: 6300 / 12600], examples_per_second: 3127.7036, train_label_loss: 0.0420, \n"
     ]
    },
    {
     "name": "stdout",
     "output_type": "stream",
     "text": [
      "epoch: 7, [batch: 7560 / 12600], examples_per_second: 3135.4086, train_label_loss: 0.1090, \n"
     ]
    },
    {
     "name": "stdout",
     "output_type": "stream",
     "text": [
      "epoch: 7, [batch: 8820 / 12600], examples_per_second: 3129.4782, train_label_loss: 0.0699, \n"
     ]
    },
    {
     "name": "stdout",
     "output_type": "stream",
     "text": [
      "epoch: 7, [batch: 10080 / 12600], examples_per_second: 3132.7325, train_label_loss: 0.1382, \n"
     ]
    },
    {
     "name": "stdout",
     "output_type": "stream",
     "text": [
      "epoch: 7, [batch: 11340 / 12600], examples_per_second: 3132.1073, train_label_loss: 0.0590, \n"
     ]
    },
    {
     "name": "stdout",
     "output_type": "stream",
     "text": [
      "=============================================================\n",
      "epoch: 7, source_val_acc_label: 0.8833, target_val_acc_label: 0.7647, source_val_label_loss: 0.3471, target_val_label_loss: 0.7697, \n",
      "=============================================================\n"
     ]
    },
    {
     "name": "stdout",
     "output_type": "stream",
     "text": [
      "Patience (3) exhausted\n"
     ]
    }
   ],
   "source": [
    "###################################\n",
    "# train\n",
    "###################################\n",
    "jig = PTN_Train_Eval_Test_Jig(model, p.BEST_MODEL_PATH, p.device)\n",
    "\n",
    "jig.train(\n",
    "    train_iterable=datasets.source.processed.train,\n",
    "    source_val_iterable=datasets.source.processed.val,\n",
    "    target_val_iterable=datasets.target.processed.val,\n",
    "    num_epochs=p.n_epoch,\n",
    "    num_logs_per_epoch=p.NUM_LOGS_PER_EPOCH,\n",
    "    patience=p.patience,\n",
    "    optimizer=optimizer,\n",
    "    criteria_for_best=p.criteria_for_best,\n",
    ")"
   ]
  },
  {
   "cell_type": "code",
   "execution_count": 14,
   "id": "31e8fabf",
   "metadata": {
    "execution": {
     "iopub.execute_input": "2022-03-22T01:38:55.147340Z",
     "iopub.status.busy": "2022-03-22T01:38:55.147060Z",
     "iopub.status.idle": "2022-03-22T01:38:55.162362Z",
     "shell.execute_reply": "2022-03-22T01:38:55.161957Z"
    },
    "papermill": {
     "duration": 0.042233,
     "end_time": "2022-03-22T01:38:55.162450",
     "exception": false,
     "start_time": "2022-03-22T01:38:55.120217",
     "status": "completed"
    },
    "tags": []
   },
   "outputs": [],
   "source": [
    "total_experiment_time_secs = time.time() - start_time_secs"
   ]
  },
  {
   "cell_type": "code",
   "execution_count": 15,
   "id": "87b9595b",
   "metadata": {
    "execution": {
     "iopub.execute_input": "2022-03-22T01:38:55.221479Z",
     "iopub.status.busy": "2022-03-22T01:38:55.221153Z",
     "iopub.status.idle": "2022-03-22T01:42:57.818832Z",
     "shell.execute_reply": "2022-03-22T01:42:57.819268Z"
    },
    "papermill": {
     "duration": 242.628303,
     "end_time": "2022-03-22T01:42:57.819418",
     "exception": false,
     "start_time": "2022-03-22T01:38:55.191115",
     "status": "completed"
    },
    "tags": []
   },
   "outputs": [],
   "source": [
    "###################################\n",
    "# Evaluate the model\n",
    "###################################\n",
    "source_test_label_accuracy, source_test_label_loss = jig.test(datasets.source.processed.test)\n",
    "target_test_label_accuracy, target_test_label_loss = jig.test(datasets.target.processed.test)\n",
    "\n",
    "source_val_label_accuracy, source_val_label_loss = jig.test(datasets.source.processed.val)\n",
    "target_val_label_accuracy, target_val_label_loss = jig.test(datasets.target.processed.val)\n",
    "\n",
    "history = jig.get_history()\n",
    "\n",
    "total_epochs_trained = len(history[\"epoch_indices\"])\n",
    "\n",
    "val_dl = Iterable_Aggregator((datasets.source.original.val,datasets.target.original.val))\n",
    "\n",
    "confusion = ptn_confusion_by_domain_over_dataloader(model, p.device, val_dl)\n",
    "per_domain_accuracy = per_domain_accuracy_from_confusion(confusion)\n",
    "\n",
    "# Add a key to per_domain_accuracy for if it was a source domain\n",
    "for domain, accuracy in per_domain_accuracy.items():\n",
    "    per_domain_accuracy[domain] = {\n",
    "        \"accuracy\": accuracy,\n",
    "        \"source?\": domain in p.domains_source\n",
    "    }\n",
    "\n",
    "# Do an independent accuracy assesment JUST TO BE SURE!\n",
    "# _source_test_label_accuracy = independent_accuracy_assesment(model, datasets.source.processed.test, p.device)\n",
    "# _target_test_label_accuracy = independent_accuracy_assesment(model, datasets.target.processed.test, p.device)\n",
    "# _source_val_label_accuracy = independent_accuracy_assesment(model, datasets.source.processed.val, p.device)\n",
    "# _target_val_label_accuracy = independent_accuracy_assesment(model, datasets.target.processed.val, p.device)\n",
    "\n",
    "# assert(_source_test_label_accuracy == source_test_label_accuracy)\n",
    "# assert(_target_test_label_accuracy == target_test_label_accuracy)\n",
    "# assert(_source_val_label_accuracy == source_val_label_accuracy)\n",
    "# assert(_target_val_label_accuracy == target_val_label_accuracy)\n",
    "\n",
    "experiment = {\n",
    "    \"experiment_name\": p.experiment_name,\n",
    "    \"parameters\": dict(p),\n",
    "    \"results\": {\n",
    "        \"source_test_label_accuracy\": source_test_label_accuracy,\n",
    "        \"source_test_label_loss\": source_test_label_loss,\n",
    "        \"target_test_label_accuracy\": target_test_label_accuracy,\n",
    "        \"target_test_label_loss\": target_test_label_loss,\n",
    "        \"source_val_label_accuracy\": source_val_label_accuracy,\n",
    "        \"source_val_label_loss\": source_val_label_loss,\n",
    "        \"target_val_label_accuracy\": target_val_label_accuracy,\n",
    "        \"target_val_label_loss\": target_val_label_loss,\n",
    "        \"total_epochs_trained\": total_epochs_trained,\n",
    "        \"total_experiment_time_secs\": total_experiment_time_secs,\n",
    "        \"confusion\": confusion,\n",
    "        \"per_domain_accuracy\": per_domain_accuracy,\n",
    "    },\n",
    "    \"history\": history,\n",
    "    \"dataset_metrics\": get_dataset_metrics(datasets, \"ptn\"),\n",
    "}"
   ]
  },
  {
   "cell_type": "code",
   "execution_count": 16,
   "id": "54a21829",
   "metadata": {
    "execution": {
     "iopub.execute_input": "2022-03-22T01:42:57.880534Z",
     "iopub.status.busy": "2022-03-22T01:42:57.879643Z",
     "iopub.status.idle": "2022-03-22T01:42:58.007085Z",
     "shell.execute_reply": "2022-03-22T01:42:58.007542Z"
    },
    "papermill": {
     "duration": 0.154318,
     "end_time": "2022-03-22T01:42:58.007679",
     "exception": false,
     "start_time": "2022-03-22T01:42:57.853361",
     "status": "completed"
    },
    "tags": []
   },
   "outputs": [
    {
     "data": {
      "image/png": "[encoded data removed]",
      "text/plain": [
       "<Figure size 1080x504 with 1 Axes>"
      ]
     },
     "metadata": {
      "needs_background": "light"
     },
     "output_type": "display_data"
    }
   ],
   "source": [
    "ax = get_loss_curve(experiment)\n",
    "plt.show()"
   ]
  },
  {
   "cell_type": "code",
   "execution_count": 17,
   "id": "fd8a0f60",
   "metadata": {
    "execution": {
     "iopub.execute_input": "2022-03-22T01:42:58.066074Z",
     "iopub.status.busy": "2022-03-22T01:42:58.065816Z",
     "iopub.status.idle": "2022-03-22T01:42:58.210420Z",
     "shell.execute_reply": "2022-03-22T01:42:58.210173Z"
    },
    "papermill": {
     "duration": 0.172852,
     "end_time": "2022-03-22T01:42:58.210485",
     "exception": false,
     "start_time": "2022-03-22T01:42:58.037633",
     "status": "completed"
    },
    "tags": []
   },
   "outputs": [
    {
     "data": {
      "text/plain": [
       "<AxesSubplot:title={'center':'Results'}>"
      ]
     },
     "execution_count": 17,
     "metadata": {},
     "output_type": "execute_result"
    },
    {
     "data": {
      "image/png": "[encoded data removed]",
      "text/plain": [
       "<Figure size 1080x504 with 1 Axes>"
      ]
     },
     "metadata": {
      "needs_background": "light"
     },
     "output_type": "display_data"
    }
   ],
   "source": [
    "get_results_table(experiment)"
   ]
  },
  {
   "cell_type": "code",
   "execution_count": 18,
   "id": "cf8dc689",
   "metadata": {
    "execution": {
     "iopub.execute_input": "2022-03-22T01:42:58.270773Z",
     "iopub.status.busy": "2022-03-22T01:42:58.270499Z",
     "iopub.status.idle": "2022-03-22T01:42:58.391611Z",
     "shell.execute_reply": "2022-03-22T01:42:58.391159Z"
    },
    "papermill": {
     "duration": 0.15144,
     "end_time": "2022-03-22T01:42:58.391720",
     "exception": false,
     "start_time": "2022-03-22T01:42:58.240280",
     "status": "completed"
    },
    "tags": []
   },
   "outputs": [
    {
     "data": {
      "text/plain": [
       "<AxesSubplot:title={'center':'Per Domain Validation Accuracy'}, xlabel='domain'>"
      ]
     },
     "execution_count": 18,
     "metadata": {},
     "output_type": "execute_result"
    },
    {
     "data": {
      "image/png": "[encoded data removed]",
      "text/plain": [
       "<Figure size 1080x504 with 1 Axes>"
      ]
     },
     "metadata": {
      "needs_background": "light"
     },
     "output_type": "display_data"
    }
   ],
   "source": [
    "get_domain_accuracies(experiment)"
   ]
  },
  {
   "cell_type": "code",
   "execution_count": 19,
   "id": "a74ae082",
   "metadata": {
    "execution": {
     "iopub.execute_input": "2022-03-22T01:42:58.456438Z",
     "iopub.status.busy": "2022-03-22T01:42:58.456166Z",
     "iopub.status.idle": "2022-03-22T01:42:58.472866Z",
     "shell.execute_reply": "2022-03-22T01:42:58.472394Z"
    },
    "papermill": {
     "duration": 0.047796,
     "end_time": "2022-03-22T01:42:58.472974",
     "exception": false,
     "start_time": "2022-03-22T01:42:58.425178",
     "status": "completed"
    },
    "tags": []
   },
   "outputs": [
    {
     "name": "stdout",
     "output_type": "stream",
     "text": [
      "Source Test Label Accuracy: 0.8711284722222222 Target Test Label Accuracy: 0.76834375\n",
      "Source Val Label Accuracy: 0.8732291666666666 Target Val Label Accuracy: 0.7717708333333333\n"
     ]
    }
   ],
   "source": [
    "print(\"Source Test Label Accuracy:\", experiment[\"results\"][\"source_test_label_accuracy\"], \"Target Test Label Accuracy:\", experiment[\"results\"][\"target_test_label_accuracy\"])\n",
    "print(\"Source Val Label Accuracy:\", experiment[\"results\"][\"source_val_label_accuracy\"], \"Target Val Label Accuracy:\", experiment[\"results\"][\"target_val_label_accuracy\"])"
   ]
  },
  {
   "cell_type": "code",
   "execution_count": 20,
   "id": "dacca602",
   "metadata": {
    "execution": {
     "iopub.execute_input": "2022-03-22T01:42:58.537518Z",
     "iopub.status.busy": "2022-03-22T01:42:58.537251Z",
     "iopub.status.idle": "2022-03-22T01:42:58.549741Z",
     "shell.execute_reply": "2022-03-22T01:42:58.549393Z"
    },
    "papermill": {
     "duration": 0.042,
     "end_time": "2022-03-22T01:42:58.549820",
     "exception": false,
     "start_time": "2022-03-22T01:42:58.507820",
     "status": "completed"
    },
    "tags": [
     "experiment_json"
    ]
   },
   "outputs": [
    {
     "data": {
      "text/plain": [
       "'{\"experiment_name\": \"tuned_1v2:oracle.run1\", \"parameters\": {\"experiment_name\": \"tuned_1v2:oracle.run1\", \"device\": \"cuda\", \"lr\": 0.0001, \"labels_source\": [\"3123D52\", \"3123D65\", \"3123D79\", \"3123D80\", \"3123D54\", \"3123D70\", \"3123D7B\", \"3123D89\", \"3123D58\", \"3123D76\", \"3123D7D\", \"3123EFE\", \"3123D64\", \"3123D78\", \"3123D7E\", \"3124E4A\"], \"labels_target\": [\"3123D52\", \"3123D65\", \"3123D79\", \"3123D80\", \"3123D54\", \"3123D70\", \"3123D7B\", \"3123D89\", \"3123D58\", \"3123D76\", \"3123D7D\", \"3123EFE\", \"3123D64\", \"3123D78\", \"3123D7E\", \"3124E4A\"], \"episode_transforms_source\": [], \"episode_transforms_target\": [], \"domains_source\": [8, 32, 50], \"domains_target\": [14, 20, 26, 38, 44], \"num_examples_per_domain_per_label_source\": -1, \"num_examples_per_domain_per_label_target\": -1, \"n_shot\": 3, \"n_way\": 16, \"n_query\": 2, \"train_k_factor\": 3, \"val_k_factor\": 2, \"test_k_factor\": 2, \"torch_default_dtype\": \"torch.float32\", \"n_epoch\": 50, \"patience\": 3, \"criteria_for_best\": \"target_accuracy\", \"x_net\": [{\"class\": \"nnReshape\", \"kargs\": {\"shape\": [-1, 1, 2, 256]}}, {\"class\": \"Conv2d\", \"kargs\": {\"in_channels\": 1, \"out_channels\": 256, \"kernel_size\": [1, 7], \"bias\": false, \"padding\": [0, 3]}}, {\"class\": \"ReLU\", \"kargs\": {\"inplace\": true}}, {\"class\": \"BatchNorm2d\", \"kargs\": {\"num_features\": 256}}, {\"class\": \"Conv2d\", \"kargs\": {\"in_channels\": 256, \"out_channels\": 80, \"kernel_size\": [2, 7], \"bias\": true, \"padding\": [0, 3]}}, {\"class\": \"ReLU\", \"kargs\": {\"inplace\": true}}, {\"class\": \"BatchNorm2d\", \"kargs\": {\"num_features\": 80}}, {\"class\": \"Flatten\", \"kargs\": {}}, {\"class\": \"Linear\", \"kargs\": {\"in_features\": 20480, \"out_features\": 256}}, {\"class\": \"ReLU\", \"kargs\": {\"inplace\": true}}, {\"class\": \"BatchNorm1d\", \"kargs\": {\"num_features\": 256}}, {\"class\": \"Linear\", \"kargs\": {\"in_features\": 256, \"out_features\": 256}}], \"NUM_LOGS_PER_EPOCH\": 10, \"BEST_MODEL_PATH\": \"./best_model.pth\", \"pickle_name\": \"oracle.Run1_10kExamples_stratified_ds.2022A.pkl\", \"x_transforms_source\": [], \"x_transforms_target\": [], \"dataset_seed\": 154325, \"seed\": 154325}, \"results\": {\"source_test_label_accuracy\": 0.8711284722222222, \"source_test_label_loss\": 0.36765965819358826, \"target_test_label_accuracy\": 0.76834375, \"target_test_label_loss\": 0.7259523272514343, \"source_val_label_accuracy\": 0.8732291666666666, \"source_val_label_loss\": 0.3657369017601013, \"target_val_label_accuracy\": 0.7717708333333333, \"target_val_label_loss\": 0.7277154326438904, \"total_epochs_trained\": 7, \"total_experiment_time_secs\": 2534.8714039325714, \"confusion\": {\"32\": {\"13\": {\"13\": 904, \"11\": 28, \"3\": 143, \"4\": 125}, \"9\": {\"9\": 1179, \"12\": 17, \"2\": 4}, \"15\": {\"15\": 1184, \"8\": 9, \"5\": 6, \"0\": 1}, \"2\": {\"2\": 1098, \"4\": 102}, \"3\": {\"3\": 1138, \"13\": 60, \"4\": 2}, \"8\": {\"8\": 889, \"7\": 25, \"0\": 127, \"5\": 85, \"4\": 31, \"2\": 11, \"14\": 29, \"15\": 3}, \"5\": {\"5\": 675, \"7\": 250, \"8\": 118, \"14\": 68, \"15\": 5, \"0\": 84}, \"14\": {\"14\": 723, \"7\": 278, \"0\": 52, \"8\": 49, \"5\": 34, \"2\": 54, \"4\": 10}, \"1\": {\"1\": 1200}, \"0\": {\"0\": 906, \"5\": 60, \"8\": 105, \"7\": 99, \"14\": 28, \"2\": 2}, \"10\": {\"10\": 1200}, \"6\": {\"6\": 1200}, \"11\": {\"11\": 1192, \"13\": 7, \"3\": 1}, \"7\": {\"7\": 788, \"14\": 118, \"0\": 89, \"5\": 188, \"8\": 17}, \"4\": {\"2\": 137, \"4\": 1032, \"13\": 31}, \"12\": {\"12\": 1200}}, \"50\": {\"10\": {\"10\": 1174, \"8\": 14, \"0\": 12}, \"12\": {\"12\": 1128, \"9\": 54, \"11\": 17, \"15\": 1}, \"1\": {\"1\": 1178, \"13\": 19, \"0\": 1, \"11\": 2}, \"0\": {\"0\": 1095, \"2\": 87, \"10\": 18}, \"15\": {\"15\": 1115, \"6\": 72, \"9\": 3, \"11\": 9, \"5\": 1}, \"13\": {\"13\": 1198, \"1\": 2}, \"8\": {\"8\": 1196, \"10\": 4}, \"3\": {\"3\": 1200}, \"11\": {\"11\": 1152, \"12\": 24, \"9\": 17, \"15\": 7}, \"4\": {\"4\": 1001, \"6\": 17, \"5\": 59, \"7\": 104, \"15\": 19}, \"6\": {\"6\": 1029, \"5\": 96, \"15\": 74, \"4\": 1}, \"7\": {\"7\": 1126, \"5\": 49, \"4\": 25}, \"14\": {\"14\": 1200}, \"2\": {\"2\": 1129, \"0\": 70, \"14\": 1}, \"5\": {\"6\": 237, \"5\": 528, \"4\": 69, \"7\": 283, \"13\": 71, \"11\": 2, \"15\": 9, \"1\": 1}, \"9\": {\"9\": 1058, \"11\": 52, \"12\": 86, \"15\": 4}}, \"8\": {\"14\": {\"14\": 1115, \"11\": 17, \"4\": 64, \"8\": 4}, \"10\": {\"10\": 890, \"13\": 172, \"5\": 49, \"11\": 2, \"1\": 65, \"6\": 18, \"4\": 4}, \"2\": {\"12\": 49, \"2\": 976, \"3\": 104, \"15\": 71}, \"8\": {\"8\": 1137, \"6\": 21, \"4\": 37, \"11\": 4, \"1\": 1}, \"6\": {\"6\": 1033, \"11\": 4, \"7\": 134, \"10\": 9, \"13\": 9, \"4\": 7, \"8\": 3, \"1\": 1}, \"7\": {\"7\": 1041, \"6\": 122, \"13\": 37}, \"9\": {\"9\": 1200}, \"11\": {\"1\": 336, \"11\": 744, \"5\": 6, \"4\": 23, \"14\": 52, \"6\": 9, \"8\": 28, \"10\": 2}, \"12\": {\"15\": 314, \"12\": 875, \"2\": 11}, \"13\": {\"13\": 976, \"10\": 145, \"7\": 73, \"6\": 5, \"12\": 1}, \"0\": {\"0\": 1199, \"14\": 1}, \"3\": {\"3\": 1186, \"2\": 14}, \"4\": {\"4\": 1121, \"14\": 20, \"8\": 29, \"11\": 16, \"5\": 1, \"1\": 2, \"6\": 10, \"10\": 1}, \"15\": {\"12\": 235, \"15\": 930, \"2\": 35}, \"5\": {\"5\": 966, \"1\": 109, \"10\": 100, \"11\": 21, \"13\": 3, \"14\": 1}, \"1\": {\"1\": 894, \"11\": 184, \"5\": 45, \"10\": 65, \"6\": 5, \"4\": 6, \"13\": 1}}, \"44\": {\"13\": {\"13\": 998, \"6\": 187, \"9\": 14, \"11\": 1}, \"9\": {\"9\": 472, \"7\": 402, \"6\": 173, \"13\": 131, \"2\": 17, \"4\": 4, \"14\": 1}, \"15\": {\"14\": 113, \"15\": 971, \"0\": 7, \"5\": 46, \"8\": 51, \"4\": 12}, \"2\": {\"2\": 1155, \"1\": 35, \"10\": 9, \"7\": 1}, \"3\": {\"3\": 1155, \"12\": 45}, \"8\": {\"15\": 55, \"8\": 848, \"0\": 245, \"5\": 52}, \"5\": {\"5\": 1025, \"15\": 85, \"14\": 68, \"4\": 3, \"8\": 17, \"0\": 2}, \"14\": {\"15\": 37, \"14\": 901, \"5\": 55, \"4\": 207}, \"1\": {\"1\": 1103, \"2\": 96, \"10\": 1}, \"0\": {\"0\": 1093, \"8\": 105, \"15\": 2}, \"10\": {\"10\": 1060, \"1\": 40, \"7\": 54, \"2\": 46}, \"6\": {\"9\": 61, \"6\": 1022, \"13\": 117}, \"11\": {\"11\": 1200}, \"7\": {\"7\": 1043, \"9\": 145, \"10\": 12}, \"4\": {\"14\": 436, \"13\": 1, \"15\": 32, \"4\": 709, \"5\": 4, \"9\": 17, \"7\": 1}, \"12\": {\"12\": 1131, \"3\": 69}}, \"38\": {\"13\": {\"13\": 1108, \"10\": 57, \"0\": 28, \"2\": 4, \"14\": 3}, \"12\": {\"12\": 1197, \"8\": 3}, \"2\": {\"2\": 1097, \"14\": 103}, \"9\": {\"9\": 1170, \"5\": 23, \"7\": 6, \"8\": 1}, \"15\": {\"15\": 1059, \"1\": 45, \"5\": 51, \"8\": 42, \"12\": 3}, \"5\": {\"5\": 522, \"8\": 421, \"9\": 76, \"7\": 110, \"15\": 68, \"2\": 1, \"12\": 2}, \"14\": {\"14\": 1043, \"2\": 150, \"13\": 7}, \"0\": {\"0\": 751, \"13\": 89, \"3\": 63, \"7\": 154, \"10\": 143}, \"3\": {\"3\": 1200}, \"1\": {\"1\": 1196, \"6\": 4}, \"11\": {\"11\": 1200}, \"7\": {\"7\": 1186, \"0\": 5, \"8\": 7, \"5\": 2}, \"8\": {\"7\": 180, \"15\": 63, \"5\": 386, \"8\": 547, \"9\": 8, \"12\": 9, \"0\": 1, \"2\": 3, \"13\": 3}, \"4\": {\"4\": 1196, \"10\": 2, \"0\": 2}, \"10\": {\"10\": 1102, \"13\": 50, \"0\": 45, \"4\": 3}, \"6\": {\"6\": 1196, \"1\": 4}}, \"26\": {\"10\": {\"10\": 641, \"14\": 289, \"15\": 48, \"6\": 56, \"0\": 143, \"1\": 22, \"5\": 1}, \"12\": {\"12\": 1199, \"9\": 1}, \"1\": {\"1\": 905, \"14\": 165, \"0\": 5, \"10\": 44, \"15\": 12, \"6\": 58, \"5\": 11}, \"0\": {\"0\": 826, \"14\": 105, \"10\": 193, \"2\": 22, \"8\": 34, \"9\": 2, \"15\": 10, \"5\": 2, \"7\": 1, \"6\": 4, \"1\": 1}, \"15\": {\"15\": 608, \"5\": 306, \"10\": 77, \"14\": 27, \"6\": 156, \"0\": 9, \"1\": 17}, \"13\": {\"9\": 70, \"13\": 1006, \"8\": 9, \"2\": 33, \"3\": 36, \"4\": 39, \"7\": 7}, \"8\": {\"8\": 669, \"9\": 243, \"2\": 81, \"7\": 185, \"0\": 13, \"3\": 9}, \"3\": {\"3\": 1050, \"7\": 114, \"9\": 11, \"2\": 12, \"13\": 11, \"8\": 2}, \"11\": {\"11\": 1200}, \"4\": {\"4\": 1199, \"3\": 1}, \"6\": {\"6\": 925, \"5\": 90, \"15\": 98, \"14\": 15, \"1\": 24, \"10\": 48}, \"7\": {\"7\": 755, \"2\": 155, \"8\": 148, \"3\": 86, \"9\": 53, \"0\": 1, \"13\": 2}, \"14\": {\"10\": 298, \"14\": 677, \"1\": 74, \"15\": 34, \"0\": 96, \"6\": 19, \"5\": 2}, \"2\": {\"7\": 217, \"2\": 709, \"8\": 75, \"15\": 2, \"0\": 65, \"13\": 5, \"9\": 68, \"3\": 56, \"10\": 2, \"14\": 1}, \"5\": {\"5\": 840, \"15\": 250, \"6\": 97, \"14\": 1, \"1\": 11, \"10\": 1}, \"9\": {\"3\": 32, \"8\": 300, \"9\": 558, \"13\": 137, \"7\": 70, \"2\": 90, \"0\": 13}}, \"20\": {\"5\": {\"5\": 459, \"9\": 68, \"15\": 70, \"3\": 180, \"1\": 368, \"12\": 25, \"0\": 16, \"8\": 9, \"2\": 2, \"13\": 2, \"4\": 1}, \"15\": {\"15\": 482, \"1\": 215, \"12\": 216, \"9\": 113, \"5\": 78, \"2\": 39, \"13\": 26, \"4\": 5, \"3\": 25, \"7\": 1}, \"9\": {\"3\": 180, \"12\": 76, \"9\": 428, \"1\": 83, \"7\": 106, \"4\": 3, \"13\": 38, \"2\": 113, \"15\": 67, \"8\": 39, \"5\": 66, \"0\": 1}, \"7\": {\"7\": 547, \"14\": 16, \"9\": 101, \"2\": 271, \"4\": 35, \"13\": 83, \"15\": 4, \"12\": 59, \"6\": 53, \"8\": 18, \"3\": 12, \"1\": 1}, \"3\": {\"15\": 31, \"12\": 44, \"3\": 418, \"8\": 102, \"9\": 209, \"1\": 135, \"5\": 196, \"0\": 22, \"7\": 14, \"2\": 16, \"13\": 3, \"4\": 8, \"14\": 2}, \"8\": {\"3\": 153, \"8\": 756, \"14\": 151, \"7\": 38, \"12\": 5, \"4\": 8, \"1\": 5, \"5\": 14, \"2\": 4, \"9\": 64, \"0\": 2}, \"4\": {\"4\": 1014, \"10\": 49, \"12\": 93, \"15\": 4, \"7\": 17, \"9\": 1, \"2\": 14, \"6\": 5, \"13\": 1, \"8\": 2}, \"6\": {\"6\": 1033, \"10\": 21, \"14\": 40, \"4\": 10, \"7\": 84, \"13\": 2, \"2\": 9, \"8\": 1}, \"2\": {\"7\": 233, \"1\": 17, \"9\": 122, \"2\": 391, \"12\": 145, \"4\": 23, \"13\": 221, \"15\": 29, \"8\": 2, \"6\": 5, \"3\": 9, \"5\": 3}, \"12\": {\"2\": 133, \"13\": 43, \"12\": 588, \"7\": 33, \"15\": 187, \"9\": 72, \"1\": 33, \"4\": 91, \"3\": 8, \"5\": 12}, \"0\": {\"0\": 1074, \"1\": 18, \"5\": 54, \"3\": 40, \"8\": 11, \"9\": 2, \"15\": 1}, \"13\": {\"13\": 773, \"12\": 55, \"2\": 251, \"7\": 55, \"15\": 32, \"9\": 27, \"4\": 5, \"6\": 1, \"1\": 1}, \"10\": {\"10\": 1107, \"4\": 81, \"6\": 12}, \"11\": {\"11\": 1200}, \"14\": {\"14\": 924, \"7\": 38, \"6\": 56, \"8\": 172, \"3\": 2, \"9\": 3, \"4\": 5}, \"1\": {\"5\": 366, \"1\": 433, \"3\": 102, \"9\": 84, \"12\": 48, \"15\": 150, \"2\": 7, \"0\": 5, \"4\": 4, \"8\": 1}}, \"14\": {\"13\": {\"13\": 282, \"6\": 387, \"0\": 27, \"14\": 265, \"15\": 109, \"2\": 81, \"4\": 39, \"3\": 9, \"10\": 1}, \"4\": {\"4\": 1167, \"0\": 2, \"5\": 10, \"2\": 14, \"8\": 4, \"14\": 2, \"1\": 1}, \"6\": {\"6\": 709, \"13\": 321, \"14\": 103, \"3\": 46, \"2\": 21}, \"0\": {\"0\": 907, \"10\": 23, \"3\": 158, \"4\": 32, \"8\": 3, \"14\": 58, \"2\": 11, \"5\": 3, \"13\": 5}, \"10\": {\"10\": 1196, \"9\": 4}, \"7\": {\"7\": 1196, \"5\": 4}, \"14\": {\"14\": 885, \"0\": 17, \"3\": 44, \"13\": 111, \"2\": 105, \"6\": 30, \"5\": 8}, \"15\": {\"15\": 1200}, \"5\": {\"5\": 1008, \"2\": 137, \"14\": 9, \"4\": 18, \"7\": 13, \"3\": 6, \"8\": 7, \"0\": 2}, \"2\": {\"2\": 411, \"3\": 106, \"5\": 168, \"0\": 26, \"13\": 57, \"4\": 137, \"6\": 106, \"14\": 165, \"7\": 24}, \"9\": {\"9\": 1200}, \"12\": {\"12\": 1200}, \"8\": {\"8\": 1190, \"2\": 1, \"0\": 5, \"5\": 4}, \"3\": {\"3\": 1094, \"6\": 30, \"14\": 36, \"2\": 14, \"0\": 10, \"13\": 13, \"5\": 3}, \"1\": {\"1\": 1200}, \"11\": {\"11\": 1195, \"9\": 3, \"10\": 2}}}, \"per_domain_accuracy\": {\"32\": {\"accuracy\": 0.8597916666666666, \"source?\": true}, \"50\": {\"accuracy\": 0.9118229166666667, \"source?\": true}, \"8\": {\"accuracy\": 0.8480729166666666, \"source?\": true}, \"44\": {\"accuracy\": 0.8273958333333333, \"source?\": false}, \"38\": {\"accuracy\": 0.8734375, \"source?\": false}, \"26\": {\"accuracy\": 0.71703125, \"source?\": false}, \"20\": {\"accuracy\": 0.6055729166666667, \"source?\": false}, \"14\": {\"accuracy\": 0.8354166666666667, \"source?\": false}}}, \"history\": {\"epoch_indices\": [1, 2, 3, 4, 5, 6, 7], \"train_label_loss\": [0.6691746116130953, 0.4441966800693245, 0.32669522670319395, 0.27992509170272756, 0.25131879521068184, 0.2294418957674994, 0.21366920698245634], \"source_val_label_loss\": [0.9494056701660156, 0.41471150517463684, 0.3657369017601013, 0.34892117977142334, 0.3420656621456146, 0.34570038318634033, 0.34713393449783325], \"target_val_label_loss\": [1.1488142013549805, 0.7480435967445374, 0.7277154326438904, 0.7486339211463928, 0.7422641515731812, 0.7246579527854919, 0.7697159647941589], \"source_val_acc_label\": [0.7140972222222223, 0.8509375, 0.8732291666666666, 0.8774305555555556, 0.8802951388888889, 0.8811631944444445, 0.8833333333333333], \"target_val_acc_label\": [0.6619895833333334, 0.7530520833333333, 0.7717708333333333, 0.7680104166666667, 0.7701875, 0.7681979166666667, 0.7647395833333334]}, \"dataset_metrics\": {\"source\": {\"train\": {\"n_unique_x\": 336000, \"n_unique_y\": 16, \"n_batch/episode\": 12600}, \"val\": {\"n_unique_x\": 72000, \"n_unique_y\": 16, \"n_batch/episode\": 1800}, \"test\": {\"n_unique_x\": 72000, \"n_unique_y\": 16, \"n_batch/episode\": 1800}}, \"target\": {\"train\": {\"n_unique_x\": 560000, \"n_unique_y\": 16, \"n_batch/episode\": 21000}, \"val\": {\"n_unique_x\": 120000, \"n_unique_y\": 16, \"n_batch/episode\": 3000}, \"test\": {\"n_unique_x\": 120000, \"n_unique_y\": 16, \"n_batch/episode\": 3000}}}}'"
      ]
     },
     "execution_count": 20,
     "metadata": {},
     "output_type": "execute_result"
    }
   ],
   "source": [
    "json.dumps(experiment)"
   ]
  }
 ],
 "metadata": {
  "celltoolbar": "Tags",
  "kernelspec": {
   "display_name": "Python 3 (ipykernel)",
   "language": "python",
   "name": "python3"
  },
  "language_info": {
   "codemirror_mode": {
    "name": "ipython",
    "version": 3
   },
   "file_extension": ".py",
   "mimetype": "text/x-python",
   "name": "python",
   "nbconvert_exporter": "python",
   "pygments_lexer": "ipython3",
   "version": "3.8.10"
  },
  "papermill": {
   "default_parameters": {},
   "duration": 2781.858737,
   "end_time": "2022-03-22T01:42:59.894599",
   "environment_variables": {},
   "exception": null,
   "input_path": "/mnt/wd500GB/CSC500/csc500-main/csc500-notebooks/templates/ptn_template.ipynb",
   "output_path": "trial.ipynb",
   "parameters": {
    "parameters": {
     "BEST_MODEL_PATH": "./best_model.pth",
     "NUM_LOGS_PER_EPOCH": 10,
     "criteria_for_best": "target_accuracy",
     "dataset_seed": 154325,
     "device": "cuda",
     "domains_source": [
      8,
      32,
      50
     ],
     "domains_target": [
      14,
      20,
      26,
      38,
      44
     ],
     "episode_transforms_source": [],
     "episode_transforms_target": [],
     "experiment_name": "tuned_1v2:oracle.run1",
     "labels_source": [
      "3123D52",
      "3123D65",
      "3123D79",
      "3123D80",
      "3123D54",
      "3123D70",
      "3123D7B",
      "3123D89",
      "3123D58",
      "3123D76",
      "3123D7D",
      "3123EFE",
      "3123D64",
      "3123D78",
      "3123D7E",
      "3124E4A"
     ],
     "labels_target": [
      "3123D52",
      "3123D65",
      "3123D79",
      "3123D80",
      "3123D54",
      "3123D70",
      "3123D7B",
      "3123D89",
      "3123D58",
      "3123D76",
      "3123D7D",
      "3123EFE",
      "3123D64",
      "3123D78",
      "3123D7E",
      "3124E4A"
     ],
     "lr": 0.0001,
     "n_epoch": 50,
     "n_query": 2,
     "n_shot": 3,
     "n_way": 16,
     "num_examples_per_domain_per_label_source": -1,
     "num_examples_per_domain_per_label_target": -1,
     "patience": 3,
     "pickle_name": "oracle.Run1_10kExamples_stratified_ds.2022A.pkl",
     "seed": 154325,
     "test_k_factor": 2,
     "torch_default_dtype": "torch.float32",
     "train_k_factor": 3,
     "val_k_factor": 2,
     "x_net": [
      {
       "class": "nnReshape",
       "kargs": {
        "shape": [
         -1,
         1,
         2,
         256
        ]
       }
      },
      {
       "class": "Conv2d",
       "kargs": {
        "bias": false,
        "in_channels": 1,
        "kernel_size": [
         1,
         7
        ],
        "out_channels": 256,
        "padding": [
         0,
         3
        ]
       }
      },
      {
       "class": "ReLU",
       "kargs": {
        "inplace": true
       }
      },
      {
       "class": "BatchNorm2d",
       "kargs": {
        "num_features": 256
       }
      },
      {
       "class": "Conv2d",
       "kargs": {
        "bias": true,
        "in_channels": 256,
        "kernel_size": [
         2,
         7
        ],
        "out_channels": 80,
        "padding": [
         0,
         3
        ]
       }
      },
      {
       "class": "ReLU",
       "kargs": {
        "inplace": true
       }
      },
      {
       "class": "BatchNorm2d",
       "kargs": {
        "num_features": 80
       }
      },
      {
       "class": "Flatten",
       "kargs": {}
      },
      {
       "class": "Linear",
       "kargs": {
        "in_features": 20480,
        "out_features": 256
       }
      },
      {
       "class": "ReLU",
       "kargs": {
        "inplace": true
       }
      },
      {
       "class": "BatchNorm1d",
       "kargs": {
        "num_features": 256
       }
      },
      {
       "class": "Linear",
       "kargs": {
        "in_features": 256,
        "out_features": 256
       }
      }
     ],
     "x_transforms_source": [],
     "x_transforms_target": []
    }
   },
   "start_time": "2022-03-22T00:56:38.035862",
   "version": "2.3.4"
  }
 },
 "nbformat": 4,
 "nbformat_minor": 5
}