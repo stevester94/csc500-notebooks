{
 "cells": [
  {
   "cell_type": "markdown",
   "id": "9fea5f46",
   "metadata": {
    "papermill": {
     "duration": 0.012151,
     "end_time": "2022-03-22T03:45:03.385985",
     "exception": false,
     "start_time": "2022-03-22T03:45:03.373834",
     "status": "completed"
    },
    "tags": []
   },
   "source": [
    "# PTN Template\n",
    "This notebook serves as a template for single dataset PTN experiments  \n",
    "It can be run on its own by setting STANDALONE to True (do a find for \"STANDALONE\" to see where)  \n",
    "But it is intended to be executed as part of a *papermill.py script. See any of the   \n",
    "experimentes with a papermill script to get started with that workflow.  "
   ]
  },
  {
   "cell_type": "code",
   "execution_count": 1,
   "id": "0902182a",
   "metadata": {
    "execution": {
     "iopub.execute_input": "2022-03-22T03:45:03.424045Z",
     "iopub.status.busy": "2022-03-22T03:45:03.423754Z",
     "iopub.status.idle": "2022-03-22T03:45:04.668388Z",
     "shell.execute_reply": "2022-03-22T03:45:04.668082Z"
    },
    "papermill": {
     "duration": 1.272645,
     "end_time": "2022-03-22T03:45:04.668454",
     "exception": false,
     "start_time": "2022-03-22T03:45:03.395809",
     "status": "completed"
    },
    "tags": []
   },
   "outputs": [],
   "source": [
    "%load_ext autoreload\n",
    "%autoreload 2\n",
    "%matplotlib inline\n",
    "\n",
    "    \n",
    "import os, json, sys, time, random\n",
    "import numpy as np\n",
    "import torch\n",
    "from torch.optim import Adam\n",
    "from  easydict import EasyDict\n",
    "import matplotlib.pyplot as plt\n",
    "\n",
    "from steves_models.steves_ptn import Steves_Prototypical_Network\n",
    "\n",
    "from steves_utils.lazy_iterable_wrapper import Lazy_Iterable_Wrapper\n",
    "from steves_utils.iterable_aggregator import Iterable_Aggregator\n",
    "from steves_utils.ptn_train_eval_test_jig import  PTN_Train_Eval_Test_Jig\n",
    "from steves_utils.torch_sequential_builder import build_sequential\n",
    "from steves_utils.torch_utils import get_dataset_metrics, ptn_confusion_by_domain_over_dataloader\n",
    "from steves_utils.utils_v2 import (per_domain_accuracy_from_confusion, get_datasets_base_path)\n",
    "from steves_utils.PTN.utils import independent_accuracy_assesment\n",
    "\n",
    "from steves_utils.stratified_dataset.episodic_accessor import Episodic_Accessor_Factory\n",
    "\n",
    "from steves_utils.ptn_do_report import (\n",
    "    get_loss_curve,\n",
    "    get_results_table,\n",
    "    get_parameters_table,\n",
    "    get_domain_accuracies,\n",
    ")\n",
    "\n",
    "from steves_utils.transforms import get_chained_transform"
   ]
  },
  {
   "cell_type": "markdown",
   "id": "41c840b4",
   "metadata": {
    "papermill": {
     "duration": 0.009348,
     "end_time": "2022-03-22T03:45:04.691528",
     "exception": false,
     "start_time": "2022-03-22T03:45:04.682180",
     "status": "completed"
    },
    "tags": []
   },
   "source": [
    "# Required Parameters\n",
    "These are allowed parameters, not defaults\n",
    "Each of these values need to be present in the injected parameters (the notebook will raise an exception if they are not present)\n",
    "\n",
    "Papermill uses the cell tag \"parameters\" to inject the real parameters below this cell.\n",
    "Enable tags to see what I mean"
   ]
  },
  {
   "cell_type": "code",
   "execution_count": 2,
   "id": "fd44eb83",
   "metadata": {
    "execution": {
     "iopub.execute_input": "2022-03-22T03:45:04.713722Z",
     "iopub.status.busy": "2022-03-22T03:45:04.713451Z",
     "iopub.status.idle": "2022-03-22T03:45:04.727285Z",
     "shell.execute_reply": "2022-03-22T03:45:04.726862Z"
    },
    "papermill": {
     "duration": 0.026441,
     "end_time": "2022-03-22T03:45:04.727387",
     "exception": false,
     "start_time": "2022-03-22T03:45:04.700946",
     "status": "completed"
    },
    "tags": []
   },
   "outputs": [],
   "source": [
    "required_parameters = {\n",
    "    \"experiment_name\",\n",
    "    \"lr\",\n",
    "    \"device\",\n",
    "    \"seed\",\n",
    "    \"dataset_seed\",\n",
    "    \"labels_source\",\n",
    "    \"labels_target\",\n",
    "    \"domains_source\",\n",
    "    \"domains_target\",\n",
    "    \"num_examples_per_domain_per_label_source\",\n",
    "    \"num_examples_per_domain_per_label_target\",\n",
    "    \"n_shot\",\n",
    "    \"n_way\",\n",
    "    \"n_query\",\n",
    "    \"train_k_factor\",\n",
    "    \"val_k_factor\",\n",
    "    \"test_k_factor\",\n",
    "    \"n_epoch\",\n",
    "    \"patience\",\n",
    "    \"criteria_for_best\",\n",
    "    \"x_transforms_source\",\n",
    "    \"x_transforms_target\",\n",
    "    \"episode_transforms_source\",\n",
    "    \"episode_transforms_target\",\n",
    "    \"pickle_name\",\n",
    "    \"x_net\",\n",
    "    \"NUM_LOGS_PER_EPOCH\",\n",
    "    \"BEST_MODEL_PATH\",\n",
    "    \"torch_default_dtype\"\n",
    "}"
   ]
  },
  {
   "cell_type": "code",
   "execution_count": 3,
   "id": "fa3f0049",
   "metadata": {
    "execution": {
     "iopub.execute_input": "2022-03-22T03:45:04.757031Z",
     "iopub.status.busy": "2022-03-22T03:45:04.752438Z",
     "iopub.status.idle": "2022-03-22T03:45:04.768882Z",
     "shell.execute_reply": "2022-03-22T03:45:04.768565Z"
    },
    "papermill": {
     "duration": 0.026696,
     "end_time": "2022-03-22T03:45:04.768953",
     "exception": false,
     "start_time": "2022-03-22T03:45:04.742257",
     "status": "completed"
    },
    "tags": [
     "parameters"
    ]
   },
   "outputs": [],
   "source": [
    "\n",
    "\n",
    "standalone_parameters = {}\n",
    "standalone_parameters[\"experiment_name\"] = \"STANDALONE PTN\"\n",
    "standalone_parameters[\"lr\"] = 0.0001\n",
    "standalone_parameters[\"device\"] = \"cuda\"\n",
    "\n",
    "standalone_parameters[\"seed\"] = 1337\n",
    "standalone_parameters[\"dataset_seed\"] = 1337\n",
    "\n",
    "\n",
    "standalone_parameters[\"num_examples_per_domain_per_label_source\"]=100\n",
    "standalone_parameters[\"num_examples_per_domain_per_label_target\"]=100\n",
    "\n",
    "standalone_parameters[\"n_shot\"] = 3\n",
    "standalone_parameters[\"n_query\"]  = 2\n",
    "standalone_parameters[\"train_k_factor\"] = 1\n",
    "standalone_parameters[\"val_k_factor\"] = 2\n",
    "standalone_parameters[\"test_k_factor\"] = 2\n",
    "\n",
    "\n",
    "standalone_parameters[\"n_epoch\"] = 100\n",
    "\n",
    "standalone_parameters[\"patience\"] = 10\n",
    "standalone_parameters[\"criteria_for_best\"] = \"target_accuracy\"\n",
    "\n",
    "standalone_parameters[\"x_transforms_source\"] = [\"unit_power\"]\n",
    "standalone_parameters[\"x_transforms_target\"] = [\"unit_power\"]\n",
    "standalone_parameters[\"episode_transforms_source\"] = []\n",
    "standalone_parameters[\"episode_transforms_target\"] = []\n",
    "\n",
    "standalone_parameters[\"torch_default_dtype\"] = \"torch.float32\" \n",
    "\n",
    "\n",
    "\n",
    "standalone_parameters[\"x_net\"] =     [\n",
    "    {\"class\": \"nnReshape\", \"kargs\": {\"shape\":[-1, 1, 2, 256]}},\n",
    "    {\"class\": \"Conv2d\", \"kargs\": { \"in_channels\":1, \"out_channels\":256, \"kernel_size\":(1,7), \"bias\":False, \"padding\":(0,3), },},\n",
    "    {\"class\": \"ReLU\", \"kargs\": {\"inplace\": True}},\n",
    "    {\"class\": \"BatchNorm2d\", \"kargs\": {\"num_features\":256}},\n",
    "\n",
    "    {\"class\": \"Conv2d\", \"kargs\": { \"in_channels\":256, \"out_channels\":80, \"kernel_size\":(2,7), \"bias\":True, \"padding\":(0,3), },},\n",
    "    {\"class\": \"ReLU\", \"kargs\": {\"inplace\": True}},\n",
    "    {\"class\": \"BatchNorm2d\", \"kargs\": {\"num_features\":80}},\n",
    "    {\"class\": \"Flatten\", \"kargs\": {}},\n",
    "\n",
    "    {\"class\": \"Linear\", \"kargs\": {\"in_features\": 80*256, \"out_features\": 256}}, # 80 units per IQ pair\n",
    "    {\"class\": \"ReLU\", \"kargs\": {\"inplace\": True}},\n",
    "    {\"class\": \"BatchNorm1d\", \"kargs\": {\"num_features\":256}},\n",
    "\n",
    "    {\"class\": \"Linear\", \"kargs\": {\"in_features\": 256, \"out_features\": 256}},\n",
    "]\n",
    "\n",
    "# Parameters relevant to results\n",
    "# These parameters will basically never need to change\n",
    "standalone_parameters[\"NUM_LOGS_PER_EPOCH\"] = 10\n",
    "standalone_parameters[\"BEST_MODEL_PATH\"] = \"./best_model.pth\"\n",
    "\n",
    "# uncomment for CORES dataset\n",
    "from steves_utils.CORES.utils import (\n",
    "    ALL_NODES,\n",
    "    ALL_NODES_MINIMUM_1000_EXAMPLES,\n",
    "    ALL_DAYS\n",
    ")\n",
    "\n",
    "\n",
    "standalone_parameters[\"labels_source\"] = ALL_NODES\n",
    "standalone_parameters[\"labels_target\"] = ALL_NODES\n",
    "\n",
    "standalone_parameters[\"domains_source\"] = [1]\n",
    "standalone_parameters[\"domains_target\"] = [2,3,4,5]\n",
    "\n",
    "standalone_parameters[\"pickle_name\"] = \"cores.stratified_ds.2022A.pkl\"\n",
    "\n",
    "\n",
    "# Uncomment these for ORACLE dataset\n",
    "# from steves_utils.ORACLE.utils_v2 import (\n",
    "#     ALL_DISTANCES_FEET,\n",
    "#     ALL_RUNS,\n",
    "#     ALL_SERIAL_NUMBERS,\n",
    "# )\n",
    "# standalone_parameters[\"labels_source\"] = ALL_SERIAL_NUMBERS\n",
    "# standalone_parameters[\"labels_target\"] = ALL_SERIAL_NUMBERS\n",
    "# standalone_parameters[\"domains_source\"] = [8,20, 38,50]\n",
    "# standalone_parameters[\"domains_target\"] = [14, 26, 32, 44, 56]\n",
    "# standalone_parameters[\"pickle_name\"] = \"oracle.frame_indexed.stratified_ds.2022A.pkl\"\n",
    "# standalone_parameters[\"num_examples_per_domain_per_label_source\"]=1000\n",
    "# standalone_parameters[\"num_examples_per_domain_per_label_target\"]=1000\n",
    "\n",
    "# Uncomment these for Metahan dataset\n",
    "# standalone_parameters[\"labels_source\"] = list(range(19))\n",
    "# standalone_parameters[\"labels_target\"] = list(range(19))\n",
    "# standalone_parameters[\"domains_source\"] = [0]\n",
    "# standalone_parameters[\"domains_target\"] = [1]\n",
    "# standalone_parameters[\"pickle_name\"] = \"metehan.stratified_ds.2022A.pkl\"\n",
    "# standalone_parameters[\"n_way\"]  = len(standalone_parameters[\"labels_source\"])\n",
    "# standalone_parameters[\"num_examples_per_domain_per_label_source\"]=200\n",
    "# standalone_parameters[\"num_examples_per_domain_per_label_target\"]=100\n",
    "\n",
    "\n",
    "standalone_parameters[\"n_way\"]  = len(standalone_parameters[\"labels_source\"])"
   ]
  },
  {
   "cell_type": "code",
   "execution_count": 4,
   "id": "c85767fc",
   "metadata": {
    "execution": {
     "iopub.execute_input": "2022-03-22T03:45:04.796994Z",
     "iopub.status.busy": "2022-03-22T03:45:04.796703Z",
     "iopub.status.idle": "2022-03-22T03:45:04.807907Z",
     "shell.execute_reply": "2022-03-22T03:45:04.807504Z"
    },
    "papermill": {
     "duration": 0.026017,
     "end_time": "2022-03-22T03:45:04.807997",
     "exception": false,
     "start_time": "2022-03-22T03:45:04.781980",
     "status": "completed"
    },
    "tags": [
     "injected-parameters"
    ]
   },
   "outputs": [],
   "source": [
    "# Parameters\n",
    "parameters = {\n",
    "    \"experiment_name\": \"tuned_1v2:oracle.run1\",\n",
    "    \"device\": \"cuda\",\n",
    "    \"lr\": 0.0001,\n",
    "    \"labels_source\": [\n",
    "        \"3123D52\",\n",
    "        \"3123D65\",\n",
    "        \"3123D79\",\n",
    "        \"3123D80\",\n",
    "        \"3123D54\",\n",
    "        \"3123D70\",\n",
    "        \"3123D7B\",\n",
    "        \"3123D89\",\n",
    "        \"3123D58\",\n",
    "        \"3123D76\",\n",
    "        \"3123D7D\",\n",
    "        \"3123EFE\",\n",
    "        \"3123D64\",\n",
    "        \"3123D78\",\n",
    "        \"3123D7E\",\n",
    "        \"3124E4A\",\n",
    "    ],\n",
    "    \"labels_target\": [\n",
    "        \"3123D52\",\n",
    "        \"3123D65\",\n",
    "        \"3123D79\",\n",
    "        \"3123D80\",\n",
    "        \"3123D54\",\n",
    "        \"3123D70\",\n",
    "        \"3123D7B\",\n",
    "        \"3123D89\",\n",
    "        \"3123D58\",\n",
    "        \"3123D76\",\n",
    "        \"3123D7D\",\n",
    "        \"3123EFE\",\n",
    "        \"3123D64\",\n",
    "        \"3123D78\",\n",
    "        \"3123D7E\",\n",
    "        \"3124E4A\",\n",
    "    ],\n",
    "    \"episode_transforms_source\": [],\n",
    "    \"episode_transforms_target\": [],\n",
    "    \"domains_source\": [8, 32, 50],\n",
    "    \"domains_target\": [14, 20, 26, 38, 44],\n",
    "    \"num_examples_per_domain_per_label_source\": -1,\n",
    "    \"num_examples_per_domain_per_label_target\": -1,\n",
    "    \"n_shot\": 3,\n",
    "    \"n_way\": 16,\n",
    "    \"n_query\": 2,\n",
    "    \"train_k_factor\": 3,\n",
    "    \"val_k_factor\": 2,\n",
    "    \"test_k_factor\": 2,\n",
    "    \"torch_default_dtype\": \"torch.float32\",\n",
    "    \"n_epoch\": 50,\n",
    "    \"patience\": 3,\n",
    "    \"criteria_for_best\": \"target_accuracy\",\n",
    "    \"x_net\": [\n",
    "        {\"class\": \"nnReshape\", \"kargs\": {\"shape\": [-1, 1, 2, 256]}},\n",
    "        {\n",
    "            \"class\": \"Conv2d\",\n",
    "            \"kargs\": {\n",
    "                \"in_channels\": 1,\n",
    "                \"out_channels\": 256,\n",
    "                \"kernel_size\": [1, 7],\n",
    "                \"bias\": False,\n",
    "                \"padding\": [0, 3],\n",
    "            },\n",
    "        },\n",
    "        {\"class\": \"ReLU\", \"kargs\": {\"inplace\": True}},\n",
    "        {\"class\": \"BatchNorm2d\", \"kargs\": {\"num_features\": 256}},\n",
    "        {\n",
    "            \"class\": \"Conv2d\",\n",
    "            \"kargs\": {\n",
    "                \"in_channels\": 256,\n",
    "                \"out_channels\": 80,\n",
    "                \"kernel_size\": [2, 7],\n",
    "                \"bias\": True,\n",
    "                \"padding\": [0, 3],\n",
    "            },\n",
    "        },\n",
    "        {\"class\": \"ReLU\", \"kargs\": {\"inplace\": True}},\n",
    "        {\"class\": \"BatchNorm2d\", \"kargs\": {\"num_features\": 80}},\n",
    "        {\"class\": \"Flatten\", \"kargs\": {}},\n",
    "        {\"class\": \"Linear\", \"kargs\": {\"in_features\": 20480, \"out_features\": 256}},\n",
    "        {\"class\": \"ReLU\", \"kargs\": {\"inplace\": True}},\n",
    "        {\"class\": \"BatchNorm1d\", \"kargs\": {\"num_features\": 256}},\n",
    "        {\"class\": \"Linear\", \"kargs\": {\"in_features\": 256, \"out_features\": 256}},\n",
    "    ],\n",
    "    \"NUM_LOGS_PER_EPOCH\": 10,\n",
    "    \"BEST_MODEL_PATH\": \"./best_model.pth\",\n",
    "    \"pickle_name\": \"oracle.Run1_10kExamples_stratified_ds.2022A.pkl\",\n",
    "    \"x_transforms_source\": [\"unit_mag\"],\n",
    "    \"x_transforms_target\": [\"unit_mag\"],\n",
    "    \"dataset_seed\": 420,\n",
    "    \"seed\": 420,\n",
    "}\n"
   ]
  },
  {
   "cell_type": "code",
   "execution_count": 5,
   "id": "8fa1cc33",
   "metadata": {
    "execution": {
     "iopub.execute_input": "2022-03-22T03:45:04.834285Z",
     "iopub.status.busy": "2022-03-22T03:45:04.833757Z",
     "iopub.status.idle": "2022-03-22T03:45:04.847128Z",
     "shell.execute_reply": "2022-03-22T03:45:04.847449Z"
    },
    "papermill": {
     "duration": 0.026424,
     "end_time": "2022-03-22T03:45:04.847531",
     "exception": false,
     "start_time": "2022-03-22T03:45:04.821107",
     "status": "completed"
    },
    "tags": []
   },
   "outputs": [],
   "source": [
    "# Set this to True if you want to run this template directly\n",
    "STANDALONE = False\n",
    "if STANDALONE:\n",
    "    print(\"parameters not injected, running with standalone_parameters\")\n",
    "    parameters = standalone_parameters\n",
    "\n",
    "if not 'parameters' in locals() and not 'parameters' in globals():\n",
    "    raise Exception(\"Parameter injection failed\")\n",
    "\n",
    "#Use an easy dict for all the parameters\n",
    "p = EasyDict(parameters)\n",
    "\n",
    "supplied_keys = set(p.keys())\n",
    "\n",
    "if  supplied_keys != required_parameters:\n",
    "    print(\"Parameters are incorrect\")\n",
    "    if len(supplied_keys - required_parameters)>0: print(\"Shouldn't have:\", str(supplied_keys - required_parameters))\n",
    "    if len(required_parameters - supplied_keys)>0: print(\"Need to have:\", str(required_parameters - supplied_keys))\n",
    "    raise RuntimeError(\"Parameters are incorrect\")\n",
    "\n"
   ]
  },
  {
   "cell_type": "code",
   "execution_count": 6,
   "id": "3a028d58",
   "metadata": {
    "execution": {
     "iopub.execute_input": "2022-03-22T03:45:04.874234Z",
     "iopub.status.busy": "2022-03-22T03:45:04.873594Z",
     "iopub.status.idle": "2022-03-22T03:45:04.887401Z",
     "shell.execute_reply": "2022-03-22T03:45:04.886966Z"
    },
    "papermill": {
     "duration": 0.025479,
     "end_time": "2022-03-22T03:45:04.887494",
     "exception": false,
     "start_time": "2022-03-22T03:45:04.862015",
     "status": "completed"
    },
    "tags": []
   },
   "outputs": [],
   "source": [
    "###################################\n",
    "# Set the RNGs and make it all deterministic\n",
    "###################################\n",
    "np.random.seed(p.seed)\n",
    "random.seed(p.seed)\n",
    "torch.manual_seed(p.seed)\n",
    "\n",
    "torch.use_deterministic_algorithms(True) "
   ]
  },
  {
   "cell_type": "code",
   "execution_count": 7,
   "id": "b691acf6",
   "metadata": {
    "execution": {
     "iopub.execute_input": "2022-03-22T03:45:04.914036Z",
     "iopub.status.busy": "2022-03-22T03:45:04.913505Z",
     "iopub.status.idle": "2022-03-22T03:45:04.928384Z",
     "shell.execute_reply": "2022-03-22T03:45:04.927955Z"
    },
    "papermill": {
     "duration": 0.026127,
     "end_time": "2022-03-22T03:45:04.928473",
     "exception": false,
     "start_time": "2022-03-22T03:45:04.902346",
     "status": "completed"
    },
    "tags": []
   },
   "outputs": [],
   "source": [
    "###########################################\n",
    "# The stratified datasets honor this\n",
    "###########################################\n",
    "torch.set_default_dtype(eval(p.torch_default_dtype))"
   ]
  },
  {
   "cell_type": "code",
   "execution_count": 8,
   "id": "b5fba671",
   "metadata": {
    "execution": {
     "iopub.execute_input": "2022-03-22T03:45:04.954786Z",
     "iopub.status.busy": "2022-03-22T03:45:04.954528Z",
     "iopub.status.idle": "2022-03-22T03:45:04.994593Z",
     "shell.execute_reply": "2022-03-22T03:45:04.994144Z"
    },
    "papermill": {
     "duration": 0.051721,
     "end_time": "2022-03-22T03:45:04.994682",
     "exception": false,
     "start_time": "2022-03-22T03:45:04.942961",
     "status": "completed"
    },
    "tags": []
   },
   "outputs": [],
   "source": [
    "###################################\n",
    "# Build the network(s)\n",
    "# Note: It's critical to do this AFTER setting the RNG\n",
    "# (This is due to the randomized initial weights)\n",
    "###################################\n",
    "x_net = build_sequential(p.x_net)"
   ]
  },
  {
   "cell_type": "code",
   "execution_count": 9,
   "id": "5d7e61cc",
   "metadata": {
    "execution": {
     "iopub.execute_input": "2022-03-22T03:45:05.021417Z",
     "iopub.status.busy": "2022-03-22T03:45:05.021162Z",
     "iopub.status.idle": "2022-03-22T03:45:05.032824Z",
     "shell.execute_reply": "2022-03-22T03:45:05.032421Z"
    },
    "papermill": {
     "duration": 0.022884,
     "end_time": "2022-03-22T03:45:05.032914",
     "exception": false,
     "start_time": "2022-03-22T03:45:05.010030",
     "status": "completed"
    },
    "tags": []
   },
   "outputs": [],
   "source": [
    "start_time_secs = time.time()"
   ]
  },
  {
   "cell_type": "code",
   "execution_count": 10,
   "id": "fd5442bc",
   "metadata": {
    "execution": {
     "iopub.execute_input": "2022-03-22T03:45:05.065731Z",
     "iopub.status.busy": "2022-03-22T03:45:05.058523Z",
     "iopub.status.idle": "2022-03-22T03:46:26.621273Z",
     "shell.execute_reply": "2022-03-22T03:46:26.620873Z"
    },
    "papermill": {
     "duration": 81.573946,
     "end_time": "2022-03-22T03:46:26.621377",
     "exception": false,
     "start_time": "2022-03-22T03:45:05.047431",
     "status": "completed"
    },
    "tags": []
   },
   "outputs": [],
   "source": [
    "###################################\n",
    "# Build the dataset\n",
    "###################################\n",
    "\n",
    "if p.x_transforms_source == []: x_transform_source = None\n",
    "else: x_transform_source = get_chained_transform(p.x_transforms_source) \n",
    "\n",
    "if p.x_transforms_target == []: x_transform_target = None\n",
    "else: x_transform_target = get_chained_transform(p.x_transforms_target)\n",
    "\n",
    "if p.episode_transforms_source == []: episode_transform_source = None\n",
    "else: raise Exception(\"episode_transform_source not implemented\")\n",
    "\n",
    "if p.episode_transforms_target == []: episode_transform_target = None\n",
    "else: raise Exception(\"episode_transform_target not implemented\")\n",
    "\n",
    "\n",
    "eaf_source = Episodic_Accessor_Factory(\n",
    "    labels=p.labels_source,\n",
    "    domains=p.domains_source,\n",
    "    num_examples_per_domain_per_label=p.num_examples_per_domain_per_label_source,\n",
    "    iterator_seed=p.seed,\n",
    "    dataset_seed=p.dataset_seed,\n",
    "    n_shot=p.n_shot,\n",
    "    n_way=p.n_way,\n",
    "    n_query=p.n_query,\n",
    "    train_val_test_k_factors=(p.train_k_factor,p.val_k_factor,p.test_k_factor),\n",
    "    pickle_path=os.path.join(get_datasets_base_path(), p.pickle_name),\n",
    "    x_transform_func=x_transform_source,\n",
    "    example_transform_func=episode_transform_source,\n",
    "    \n",
    ")\n",
    "train_original_source, val_original_source, test_original_source = eaf_source.get_train(), eaf_source.get_val(), eaf_source.get_test()\n",
    "\n",
    "\n",
    "eaf_target = Episodic_Accessor_Factory(\n",
    "    labels=p.labels_target,\n",
    "    domains=p.domains_target,\n",
    "    num_examples_per_domain_per_label=p.num_examples_per_domain_per_label_target,\n",
    "    iterator_seed=p.seed,\n",
    "    dataset_seed=p.dataset_seed,\n",
    "    n_shot=p.n_shot,\n",
    "    n_way=p.n_way,\n",
    "    n_query=p.n_query,\n",
    "    train_val_test_k_factors=(p.train_k_factor,p.val_k_factor,p.test_k_factor),\n",
    "    pickle_path=os.path.join(get_datasets_base_path(), p.pickle_name),\n",
    "    x_transform_func=x_transform_target,\n",
    "    example_transform_func=episode_transform_target,\n",
    ")\n",
    "train_original_target, val_original_target, test_original_target = eaf_target.get_train(), eaf_target.get_val(), eaf_target.get_test()\n",
    "\n",
    "\n",
    "transform_lambda = lambda ex: ex[1] # Original is (<domain>, <episode>) so we strip down to episode only\n",
    "\n",
    "train_processed_source = Lazy_Iterable_Wrapper(train_original_source, transform_lambda)\n",
    "val_processed_source   = Lazy_Iterable_Wrapper(val_original_source, transform_lambda)\n",
    "test_processed_source  = Lazy_Iterable_Wrapper(test_original_source, transform_lambda)\n",
    "\n",
    "train_processed_target = Lazy_Iterable_Wrapper(train_original_target, transform_lambda)\n",
    "val_processed_target   = Lazy_Iterable_Wrapper(val_original_target, transform_lambda)\n",
    "test_processed_target  = Lazy_Iterable_Wrapper(test_original_target, transform_lambda)\n",
    "\n",
    "datasets = EasyDict({\n",
    "    \"source\": {\n",
    "        \"original\": {\"train\":train_original_source, \"val\":val_original_source, \"test\":test_original_source},\n",
    "        \"processed\": {\"train\":train_processed_source, \"val\":val_processed_source, \"test\":test_processed_source}\n",
    "    },\n",
    "    \"target\": {\n",
    "        \"original\": {\"train\":train_original_target, \"val\":val_original_target, \"test\":test_original_target},\n",
    "        \"processed\": {\"train\":train_processed_target, \"val\":val_processed_target, \"test\":test_processed_target}\n",
    "    },\n",
    "})"
   ]
  },
  {
   "cell_type": "code",
   "execution_count": 11,
   "id": "296189d9",
   "metadata": {
    "execution": {
     "iopub.execute_input": "2022-03-22T03:46:26.648199Z",
     "iopub.status.busy": "2022-03-22T03:46:26.647945Z",
     "iopub.status.idle": "2022-03-22T03:46:28.603700Z",
     "shell.execute_reply": "2022-03-22T03:46:28.604345Z"
    },
    "papermill": {
     "duration": 1.969589,
     "end_time": "2022-03-22T03:46:28.604519",
     "exception": false,
     "start_time": "2022-03-22T03:46:26.634930",
     "status": "completed"
    },
    "tags": []
   },
   "outputs": [
    {
     "name": "stdout",
     "output_type": "stream",
     "text": [
      "Visually inspect these to see if they line up with expected values given the transforms\n",
      "x_transforms_source ['unit_mag']\n",
      "x_transforms_target ['unit_mag']\n",
      "Average magnitude, source: 1.0\n",
      "Average power, source: 1.2039526\n"
     ]
    },
    {
     "name": "stdout",
     "output_type": "stream",
     "text": [
      "Average magnitude, target: 1.0\n",
      "Average power, target: 1.2937696\n"
     ]
    }
   ],
   "source": [
    "# Some quick unit tests on the data\n",
    "from steves_utils.transforms import get_average_power, get_average_magnitude\n",
    "\n",
    "q_x, q_y, s_x, s_y, truth = next(iter(train_processed_source))\n",
    "\n",
    "assert q_x.dtype == eval(p.torch_default_dtype)\n",
    "assert s_x.dtype == eval(p.torch_default_dtype)\n",
    "\n",
    "print(\"Visually inspect these to see if they line up with expected values given the transforms\")\n",
    "print('x_transforms_source', p.x_transforms_source)\n",
    "print('x_transforms_target', p.x_transforms_target)\n",
    "print(\"Average magnitude, source:\", get_average_magnitude(q_x[0].numpy()))\n",
    "print(\"Average power, source:\", get_average_power(q_x[0].numpy()))\n",
    "\n",
    "q_x, q_y, s_x, s_y, truth = next(iter(train_processed_target))\n",
    "print(\"Average magnitude, target:\", get_average_magnitude(q_x[0].numpy()))\n",
    "print(\"Average power, target:\", get_average_power(q_x[0].numpy()))\n"
   ]
  },
  {
   "cell_type": "code",
   "execution_count": 12,
   "id": "bbdacba1",
   "metadata": {
    "execution": {
     "iopub.execute_input": "2022-03-22T03:46:28.636603Z",
     "iopub.status.busy": "2022-03-22T03:46:28.636339Z",
     "iopub.status.idle": "2022-03-22T03:46:28.725663Z",
     "shell.execute_reply": "2022-03-22T03:46:28.725292Z"
    },
    "papermill": {
     "duration": 0.103497,
     "end_time": "2022-03-22T03:46:28.725757",
     "exception": false,
     "start_time": "2022-03-22T03:46:28.622260",
     "status": "completed"
    },
    "tags": []
   },
   "outputs": [
    {
     "name": "stdout",
     "output_type": "stream",
     "text": [
      "(2, 256)\n"
     ]
    }
   ],
   "source": [
    "###################################\n",
    "# Build the model\n",
    "###################################\n",
    "model = Steves_Prototypical_Network(x_net, device=p.device, x_shape=(2,256))\n",
    "optimizer = Adam(params=model.parameters(), lr=p.lr)"
   ]
  },
  {
   "cell_type": "code",
   "execution_count": 13,
   "id": "22b39ac5",
   "metadata": {
    "execution": {
     "iopub.execute_input": "2022-03-22T03:46:28.752918Z",
     "iopub.status.busy": "2022-03-22T03:46:28.752672Z",
     "iopub.status.idle": "2022-03-22T04:45:17.233156Z",
     "shell.execute_reply": "2022-03-22T04:45:17.232926Z"
    },
    "papermill": {
     "duration": 3528.492744,
     "end_time": "2022-03-22T04:45:17.233213",
     "exception": false,
     "start_time": "2022-03-22T03:46:28.740469",
     "status": "completed"
    },
    "tags": []
   },
   "outputs": [
    {
     "name": "stdout",
     "output_type": "stream",
     "text": [
      "epoch: 1, [batch: 1 / 12600], examples_per_second: 26.1521, train_label_loss: 2.7822, \n"
     ]
    },
    {
     "name": "stdout",
     "output_type": "stream",
     "text": [
      "epoch: 1, [batch: 1260 / 12600], examples_per_second: 3215.1548, train_label_loss: 1.4983, \n"
     ]
    },
    {
     "name": "stdout",
     "output_type": "stream",
     "text": [
      "epoch: 1, [batch: 2520 / 12600], examples_per_second: 3206.4124, train_label_loss: 1.4073, \n"
     ]
    },
    {
     "name": "stdout",
     "output_type": "stream",
     "text": [
      "epoch: 1, [batch: 3780 / 12600], examples_per_second: 3204.7040, train_label_loss: 1.1783, \n"
     ]
    },
    {
     "name": "stdout",
     "output_type": "stream",
     "text": [
      "epoch: 1, [batch: 5040 / 12600], examples_per_second: 3196.7445, train_label_loss: 1.2151, \n"
     ]
    },
    {
     "name": "stdout",
     "output_type": "stream",
     "text": [
      "epoch: 1, [batch: 6300 / 12600], examples_per_second: 3199.2129, train_label_loss: 1.2380, \n"
     ]
    },
    {
     "name": "stdout",
     "output_type": "stream",
     "text": [
      "epoch: 1, [batch: 7560 / 12600], examples_per_second: 3211.7423, train_label_loss: 1.1509, \n"
     ]
    },
    {
     "name": "stdout",
     "output_type": "stream",
     "text": [
      "epoch: 1, [batch: 8820 / 12600], examples_per_second: 3195.3479, train_label_loss: 1.2564, \n"
     ]
    },
    {
     "name": "stdout",
     "output_type": "stream",
     "text": [
      "epoch: 1, [batch: 10080 / 12600], examples_per_second: 3204.5199, train_label_loss: 1.6269, \n"
     ]
    },
    {
     "name": "stdout",
     "output_type": "stream",
     "text": [
      "epoch: 1, [batch: 11340 / 12600], examples_per_second: 3203.6202, train_label_loss: 1.0505, \n"
     ]
    },
    {
     "name": "stdout",
     "output_type": "stream",
     "text": [
      "=============================================================\n",
      "epoch: 1, source_val_acc_label: 0.5924, target_val_acc_label: 0.4946, source_val_label_loss: 1.1174, target_val_label_loss: 1.3725, \n",
      "=============================================================\n"
     ]
    },
    {
     "name": "stdout",
     "output_type": "stream",
     "text": [
      "New best\n"
     ]
    },
    {
     "name": "stdout",
     "output_type": "stream",
     "text": [
      "epoch: 2, [batch: 1 / 12600], examples_per_second: 2.2616, train_label_loss: 1.2435, \n"
     ]
    },
    {
     "name": "stdout",
     "output_type": "stream",
     "text": [
      "epoch: 2, [batch: 1260 / 12600], examples_per_second: 3215.8310, train_label_loss: 1.1848, \n"
     ]
    },
    {
     "name": "stdout",
     "output_type": "stream",
     "text": [
      "epoch: 2, [batch: 2520 / 12600], examples_per_second: 3219.4950, train_label_loss: 0.6039, \n"
     ]
    },
    {
     "name": "stdout",
     "output_type": "stream",
     "text": [
      "epoch: 2, [batch: 3780 / 12600], examples_per_second: 3229.5965, train_label_loss: 1.5303, \n"
     ]
    },
    {
     "name": "stdout",
     "output_type": "stream",
     "text": [
      "epoch: 2, [batch: 5040 / 12600], examples_per_second: 3224.2443, train_label_loss: 0.9352, \n"
     ]
    },
    {
     "name": "stdout",
     "output_type": "stream",
     "text": [
      "epoch: 2, [batch: 6300 / 12600], examples_per_second: 3231.7813, train_label_loss: 1.0364, \n"
     ]
    },
    {
     "name": "stdout",
     "output_type": "stream",
     "text": [
      "epoch: 2, [batch: 7560 / 12600], examples_per_second: 3234.7154, train_label_loss: 1.0962, \n"
     ]
    },
    {
     "name": "stdout",
     "output_type": "stream",
     "text": [
      "epoch: 2, [batch: 8820 / 12600], examples_per_second: 3221.4126, train_label_loss: 1.1092, \n"
     ]
    },
    {
     "name": "stdout",
     "output_type": "stream",
     "text": [
      "epoch: 2, [batch: 10080 / 12600], examples_per_second: 3233.2965, train_label_loss: 0.8701, \n"
     ]
    },
    {
     "name": "stdout",
     "output_type": "stream",
     "text": [
      "epoch: 2, [batch: 11340 / 12600], examples_per_second: 3232.7294, train_label_loss: 0.8848, \n"
     ]
    },
    {
     "name": "stdout",
     "output_type": "stream",
     "text": [
      "=============================================================\n",
      "epoch: 2, source_val_acc_label: 0.6605, target_val_acc_label: 0.5814, source_val_label_loss: 0.9089, target_val_label_loss: 1.1083, \n",
      "=============================================================\n"
     ]
    },
    {
     "name": "stdout",
     "output_type": "stream",
     "text": [
      "New best\n"
     ]
    },
    {
     "name": "stdout",
     "output_type": "stream",
     "text": [
      "epoch: 3, [batch: 1 / 12600], examples_per_second: 2.2564, train_label_loss: 0.6163, \n"
     ]
    },
    {
     "name": "stdout",
     "output_type": "stream",
     "text": [
      "epoch: 3, [batch: 1260 / 12600], examples_per_second: 3228.3886, train_label_loss: 0.9962, \n"
     ]
    },
    {
     "name": "stdout",
     "output_type": "stream",
     "text": [
      "epoch: 3, [batch: 2520 / 12600], examples_per_second: 3215.0719, train_label_loss: 1.0263, \n"
     ]
    },
    {
     "name": "stdout",
     "output_type": "stream",
     "text": [
      "epoch: 3, [batch: 3780 / 12600], examples_per_second: 3215.4392, train_label_loss: 0.8842, \n"
     ]
    },
    {
     "name": "stdout",
     "output_type": "stream",
     "text": [
      "epoch: 3, [batch: 5040 / 12600], examples_per_second: 3221.3661, train_label_loss: 0.7557, \n"
     ]
    },
    {
     "name": "stdout",
     "output_type": "stream",
     "text": [
      "epoch: 3, [batch: 6300 / 12600], examples_per_second: 3228.5923, train_label_loss: 1.0214, \n"
     ]
    },
    {
     "name": "stdout",
     "output_type": "stream",
     "text": [
      "epoch: 3, [batch: 7560 / 12600], examples_per_second: 3236.0785, train_label_loss: 0.5419, \n"
     ]
    },
    {
     "name": "stdout",
     "output_type": "stream",
     "text": [
      "epoch: 3, [batch: 8820 / 12600], examples_per_second: 3213.2838, train_label_loss: 0.6937, \n"
     ]
    },
    {
     "name": "stdout",
     "output_type": "stream",
     "text": [
      "epoch: 3, [batch: 10080 / 12600], examples_per_second: 3229.3927, train_label_loss: 0.5470, \n"
     ]
    },
    {
     "name": "stdout",
     "output_type": "stream",
     "text": [
      "epoch: 3, [batch: 11340 / 12600], examples_per_second: 3231.3496, train_label_loss: 0.8204, \n"
     ]
    },
    {
     "name": "stdout",
     "output_type": "stream",
     "text": [
      "=============================================================\n",
      "epoch: 3, source_val_acc_label: 0.6776, target_val_acc_label: 0.6004, source_val_label_loss: 0.8622, target_val_label_loss: 1.0655, \n",
      "=============================================================\n"
     ]
    },
    {
     "name": "stdout",
     "output_type": "stream",
     "text": [
      "New best\n"
     ]
    },
    {
     "name": "stdout",
     "output_type": "stream",
     "text": [
      "epoch: 4, [batch: 1 / 12600], examples_per_second: 2.2715, train_label_loss: 0.6935, \n"
     ]
    },
    {
     "name": "stdout",
     "output_type": "stream",
     "text": [
      "epoch: 4, [batch: 1260 / 12600], examples_per_second: 3212.8926, train_label_loss: 0.6243, \n"
     ]
    },
    {
     "name": "stdout",
     "output_type": "stream",
     "text": [
      "epoch: 4, [batch: 2520 / 12600], examples_per_second: 3209.9903, train_label_loss: 0.5992, \n"
     ]
    },
    {
     "name": "stdout",
     "output_type": "stream",
     "text": [
      "epoch: 4, [batch: 3780 / 12600], examples_per_second: 3206.3217, train_label_loss: 0.7210, \n"
     ]
    },
    {
     "name": "stdout",
     "output_type": "stream",
     "text": [
      "epoch: 4, [batch: 5040 / 12600], examples_per_second: 3210.0033, train_label_loss: 0.6142, \n"
     ]
    },
    {
     "name": "stdout",
     "output_type": "stream",
     "text": [
      "epoch: 4, [batch: 6300 / 12600], examples_per_second: 3235.3191, train_label_loss: 0.7334, \n"
     ]
    },
    {
     "name": "stdout",
     "output_type": "stream",
     "text": [
      "epoch: 4, [batch: 7560 / 12600], examples_per_second: 3232.0923, train_label_loss: 0.8858, \n"
     ]
    },
    {
     "name": "stdout",
     "output_type": "stream",
     "text": [
      "epoch: 4, [batch: 8820 / 12600], examples_per_second: 3213.6838, train_label_loss: 0.5123, \n"
     ]
    },
    {
     "name": "stdout",
     "output_type": "stream",
     "text": [
      "epoch: 4, [batch: 10080 / 12600], examples_per_second: 3216.5663, train_label_loss: 0.3875, \n"
     ]
    },
    {
     "name": "stdout",
     "output_type": "stream",
     "text": [
      "epoch: 4, [batch: 11340 / 12600], examples_per_second: 3225.5969, train_label_loss: 0.6164, \n"
     ]
    },
    {
     "name": "stdout",
     "output_type": "stream",
     "text": [
      "=============================================================\n",
      "epoch: 4, source_val_acc_label: 0.6710, target_val_acc_label: 0.5971, source_val_label_loss: 0.8665, target_val_label_loss: 1.0657, \n",
      "=============================================================\n"
     ]
    },
    {
     "name": "stdout",
     "output_type": "stream",
     "text": [
      "epoch: 5, [batch: 1 / 12600], examples_per_second: 2.2729, train_label_loss: 0.4687, \n"
     ]
    },
    {
     "name": "stdout",
     "output_type": "stream",
     "text": [
      "epoch: 5, [batch: 1260 / 12600], examples_per_second: 3203.6525, train_label_loss: 0.6879, \n"
     ]
    },
    {
     "name": "stdout",
     "output_type": "stream",
     "text": [
      "epoch: 5, [batch: 2520 / 12600], examples_per_second: 3217.4439, train_label_loss: 0.3298, \n"
     ]
    },
    {
     "name": "stdout",
     "output_type": "stream",
     "text": [
      "epoch: 5, [batch: 3780 / 12600], examples_per_second: 3208.7264, train_label_loss: 0.4872, \n"
     ]
    },
    {
     "name": "stdout",
     "output_type": "stream",
     "text": [
      "epoch: 5, [batch: 5040 / 12600], examples_per_second: 3220.1994, train_label_loss: 0.7837, \n"
     ]
    },
    {
     "name": "stdout",
     "output_type": "stream",
     "text": [
      "epoch: 5, [batch: 6300 / 12600], examples_per_second: 3240.0038, train_label_loss: 0.7995, \n"
     ]
    },
    {
     "name": "stdout",
     "output_type": "stream",
     "text": [
      "epoch: 5, [batch: 7560 / 12600], examples_per_second: 3243.0255, train_label_loss: 0.5521, \n"
     ]
    },
    {
     "name": "stdout",
     "output_type": "stream",
     "text": [
      "epoch: 5, [batch: 8820 / 12600], examples_per_second: 3222.2521, train_label_loss: 0.5484, \n"
     ]
    },
    {
     "name": "stdout",
     "output_type": "stream",
     "text": [
      "epoch: 5, [batch: 10080 / 12600], examples_per_second: 3218.8572, train_label_loss: 0.6008, \n"
     ]
    },
    {
     "name": "stdout",
     "output_type": "stream",
     "text": [
      "epoch: 5, [batch: 11340 / 12600], examples_per_second: 3238.2273, train_label_loss: 0.5123, \n"
     ]
    },
    {
     "name": "stdout",
     "output_type": "stream",
     "text": [
      "=============================================================\n",
      "epoch: 5, source_val_acc_label: 0.6842, target_val_acc_label: 0.6079, source_val_label_loss: 0.8668, target_val_label_loss: 1.0674, \n",
      "=============================================================\n"
     ]
    },
    {
     "name": "stdout",
     "output_type": "stream",
     "text": [
      "New best\n"
     ]
    },
    {
     "name": "stdout",
     "output_type": "stream",
     "text": [
      "epoch: 6, [batch: 1 / 12600], examples_per_second: 2.2539, train_label_loss: 0.6296, \n"
     ]
    },
    {
     "name": "stdout",
     "output_type": "stream",
     "text": [
      "epoch: 6, [batch: 1260 / 12600], examples_per_second: 3188.0555, train_label_loss: 0.5428, \n"
     ]
    },
    {
     "name": "stdout",
     "output_type": "stream",
     "text": [
      "epoch: 6, [batch: 2520 / 12600], examples_per_second: 3208.6858, train_label_loss: 0.5676, \n"
     ]
    },
    {
     "name": "stdout",
     "output_type": "stream",
     "text": [
      "epoch: 6, [batch: 3780 / 12600], examples_per_second: 3203.3176, train_label_loss: 0.5165, \n"
     ]
    },
    {
     "name": "stdout",
     "output_type": "stream",
     "text": [
      "epoch: 6, [batch: 5040 / 12600], examples_per_second: 3194.0755, train_label_loss: 0.6414, \n"
     ]
    },
    {
     "name": "stdout",
     "output_type": "stream",
     "text": [
      "epoch: 6, [batch: 6300 / 12600], examples_per_second: 3212.8861, train_label_loss: 0.6268, \n"
     ]
    },
    {
     "name": "stdout",
     "output_type": "stream",
     "text": [
      "epoch: 6, [batch: 7560 / 12600], examples_per_second: 3209.0200, train_label_loss: 0.5375, \n"
     ]
    },
    {
     "name": "stdout",
     "output_type": "stream",
     "text": [
      "epoch: 6, [batch: 8820 / 12600], examples_per_second: 3205.8155, train_label_loss: 0.5772, \n"
     ]
    },
    {
     "name": "stdout",
     "output_type": "stream",
     "text": [
      "epoch: 6, [batch: 10080 / 12600], examples_per_second: 3203.0215, train_label_loss: 0.3939, \n"
     ]
    },
    {
     "name": "stdout",
     "output_type": "stream",
     "text": [
      "epoch: 6, [batch: 11340 / 12600], examples_per_second: 3197.0790, train_label_loss: 0.5006, \n"
     ]
    },
    {
     "name": "stdout",
     "output_type": "stream",
     "text": [
      "=============================================================\n",
      "epoch: 6, source_val_acc_label: 0.6943, target_val_acc_label: 0.6169, source_val_label_loss: 0.8853, target_val_label_loss: 1.0810, \n",
      "=============================================================\n"
     ]
    },
    {
     "name": "stdout",
     "output_type": "stream",
     "text": [
      "New best\n"
     ]
    },
    {
     "name": "stdout",
     "output_type": "stream",
     "text": [
      "epoch: 7, [batch: 1 / 12600], examples_per_second: 2.2380, train_label_loss: 0.3598, \n"
     ]
    },
    {
     "name": "stdout",
     "output_type": "stream",
     "text": [
      "epoch: 7, [batch: 1260 / 12600], examples_per_second: 3185.4850, train_label_loss: 0.4344, \n"
     ]
    },
    {
     "name": "stdout",
     "output_type": "stream",
     "text": [
      "epoch: 7, [batch: 2520 / 12600], examples_per_second: 3198.0166, train_label_loss: 0.7746, \n"
     ]
    },
    {
     "name": "stdout",
     "output_type": "stream",
     "text": [
      "epoch: 7, [batch: 3780 / 12600], examples_per_second: 3190.1285, train_label_loss: 0.6796, \n"
     ]
    },
    {
     "name": "stdout",
     "output_type": "stream",
     "text": [
      "epoch: 7, [batch: 5040 / 12600], examples_per_second: 3176.6899, train_label_loss: 0.4921, \n"
     ]
    },
    {
     "name": "stdout",
     "output_type": "stream",
     "text": [
      "epoch: 7, [batch: 6300 / 12600], examples_per_second: 3196.2158, train_label_loss: 0.4683, \n"
     ]
    },
    {
     "name": "stdout",
     "output_type": "stream",
     "text": [
      "epoch: 7, [batch: 7560 / 12600], examples_per_second: 3212.5441, train_label_loss: 0.3204, \n"
     ]
    },
    {
     "name": "stdout",
     "output_type": "stream",
     "text": [
      "epoch: 7, [batch: 8820 / 12600], examples_per_second: 3199.7924, train_label_loss: 0.5420, \n"
     ]
    },
    {
     "name": "stdout",
     "output_type": "stream",
     "text": [
      "epoch: 7, [batch: 10080 / 12600], examples_per_second: 3209.7788, train_label_loss: 0.4921, \n"
     ]
    },
    {
     "name": "stdout",
     "output_type": "stream",
     "text": [
      "epoch: 7, [batch: 11340 / 12600], examples_per_second: 3207.9064, train_label_loss: 0.3974, \n"
     ]
    },
    {
     "name": "stdout",
     "output_type": "stream",
     "text": [
      "=============================================================\n",
      "epoch: 7, source_val_acc_label: 0.6968, target_val_acc_label: 0.6155, source_val_label_loss: 0.9256, target_val_label_loss: 1.1260, \n",
      "=============================================================\n"
     ]
    },
    {
     "name": "stdout",
     "output_type": "stream",
     "text": [
      "epoch: 8, [batch: 1 / 12600], examples_per_second: 2.2560, train_label_loss: 0.1765, \n"
     ]
    },
    {
     "name": "stdout",
     "output_type": "stream",
     "text": [
      "epoch: 8, [batch: 1260 / 12600], examples_per_second: 3182.0640, train_label_loss: 0.5470, \n"
     ]
    },
    {
     "name": "stdout",
     "output_type": "stream",
     "text": [
      "epoch: 8, [batch: 2520 / 12600], examples_per_second: 3196.0023, train_label_loss: 0.5071, \n"
     ]
    },
    {
     "name": "stdout",
     "output_type": "stream",
     "text": [
      "epoch: 8, [batch: 3780 / 12600], examples_per_second: 3208.5883, train_label_loss: 0.4301, \n"
     ]
    },
    {
     "name": "stdout",
     "output_type": "stream",
     "text": [
      "epoch: 8, [batch: 5040 / 12600], examples_per_second: 3181.5368, train_label_loss: 0.3578, \n"
     ]
    },
    {
     "name": "stdout",
     "output_type": "stream",
     "text": [
      "epoch: 8, [batch: 6300 / 12600], examples_per_second: 3225.5840, train_label_loss: 0.2844, \n"
     ]
    },
    {
     "name": "stdout",
     "output_type": "stream",
     "text": [
      "epoch: 8, [batch: 7560 / 12600], examples_per_second: 3227.7299, train_label_loss: 0.5795, \n"
     ]
    },
    {
     "name": "stdout",
     "output_type": "stream",
     "text": [
      "epoch: 8, [batch: 8820 / 12600], examples_per_second: 3223.2852, train_label_loss: 0.5633, \n"
     ]
    },
    {
     "name": "stdout",
     "output_type": "stream",
     "text": [
      "epoch: 8, [batch: 10080 / 12600], examples_per_second: 3228.7953, train_label_loss: 0.1452, \n"
     ]
    },
    {
     "name": "stdout",
     "output_type": "stream",
     "text": [
      "epoch: 8, [batch: 11340 / 12600], examples_per_second: 3233.5838, train_label_loss: 0.2509, \n"
     ]
    },
    {
     "name": "stdout",
     "output_type": "stream",
     "text": [
      "=============================================================\n",
      "epoch: 8, source_val_acc_label: 0.6957, target_val_acc_label: 0.6145, source_val_label_loss: 0.9521, target_val_label_loss: 1.1539, \n",
      "=============================================================\n"
     ]
    },
    {
     "name": "stdout",
     "output_type": "stream",
     "text": [
      "epoch: 9, [batch: 1 / 12600], examples_per_second: 2.2674, train_label_loss: 0.3681, \n"
     ]
    },
    {
     "name": "stdout",
     "output_type": "stream",
     "text": [
      "epoch: 9, [batch: 1260 / 12600], examples_per_second: 3206.4742, train_label_loss: 0.1477, \n"
     ]
    },
    {
     "name": "stdout",
     "output_type": "stream",
     "text": [
      "epoch: 9, [batch: 2520 / 12600], examples_per_second: 3197.0766, train_label_loss: 0.3084, \n"
     ]
    },
    {
     "name": "stdout",
     "output_type": "stream",
     "text": [
      "epoch: 9, [batch: 3780 / 12600], examples_per_second: 3210.1379, train_label_loss: 0.5493, \n"
     ]
    },
    {
     "name": "stdout",
     "output_type": "stream",
     "text": [
      "epoch: 9, [batch: 5040 / 12600], examples_per_second: 3222.3376, train_label_loss: 0.2875, \n"
     ]
    },
    {
     "name": "stdout",
     "output_type": "stream",
     "text": [
      "epoch: 9, [batch: 6300 / 12600], examples_per_second: 3223.5265, train_label_loss: 0.3140, \n"
     ]
    },
    {
     "name": "stdout",
     "output_type": "stream",
     "text": [
      "epoch: 9, [batch: 7560 / 12600], examples_per_second: 3236.1938, train_label_loss: 0.3859, \n"
     ]
    },
    {
     "name": "stdout",
     "output_type": "stream",
     "text": [
      "epoch: 9, [batch: 8820 / 12600], examples_per_second: 3220.7493, train_label_loss: 0.1534, \n"
     ]
    },
    {
     "name": "stdout",
     "output_type": "stream",
     "text": [
      "epoch: 9, [batch: 10080 / 12600], examples_per_second: 3234.0735, train_label_loss: 0.1703, \n"
     ]
    },
    {
     "name": "stdout",
     "output_type": "stream",
     "text": [
      "epoch: 9, [batch: 11340 / 12600], examples_per_second: 3237.4954, train_label_loss: 0.3517, \n"
     ]
    },
    {
     "name": "stdout",
     "output_type": "stream",
     "text": [
      "=============================================================\n",
      "epoch: 9, source_val_acc_label: 0.6940, target_val_acc_label: 0.6107, source_val_label_loss: 0.9875, target_val_label_loss: 1.2051, \n",
      "=============================================================\n"
     ]
    },
    {
     "name": "stdout",
     "output_type": "stream",
     "text": [
      "epoch: 10, [batch: 1 / 12600], examples_per_second: 2.2727, train_label_loss: 0.3888, \n"
     ]
    },
    {
     "name": "stdout",
     "output_type": "stream",
     "text": [
      "epoch: 10, [batch: 1260 / 12600], examples_per_second: 3218.5588, train_label_loss: 0.3760, \n"
     ]
    },
    {
     "name": "stdout",
     "output_type": "stream",
     "text": [
      "epoch: 10, [batch: 2520 / 12600], examples_per_second: 3215.3725, train_label_loss: 0.3973, \n"
     ]
    },
    {
     "name": "stdout",
     "output_type": "stream",
     "text": [
      "epoch: 10, [batch: 3780 / 12600], examples_per_second: 3229.0243, train_label_loss: 0.2113, \n"
     ]
    },
    {
     "name": "stdout",
     "output_type": "stream",
     "text": [
      "epoch: 10, [batch: 5040 / 12600], examples_per_second: 3219.2063, train_label_loss: 0.2731, \n"
     ]
    },
    {
     "name": "stdout",
     "output_type": "stream",
     "text": [
      "epoch: 10, [batch: 6300 / 12600], examples_per_second: 3246.0249, train_label_loss: 0.2434, \n"
     ]
    },
    {
     "name": "stdout",
     "output_type": "stream",
     "text": [
      "epoch: 10, [batch: 7560 / 12600], examples_per_second: 3210.6380, train_label_loss: 0.2149, \n"
     ]
    },
    {
     "name": "stdout",
     "output_type": "stream",
     "text": [
      "epoch: 10, [batch: 8820 / 12600], examples_per_second: 3212.7320, train_label_loss: 0.2320, \n"
     ]
    },
    {
     "name": "stdout",
     "output_type": "stream",
     "text": [
      "epoch: 10, [batch: 10080 / 12600], examples_per_second: 3228.3693, train_label_loss: 0.4289, \n"
     ]
    },
    {
     "name": "stdout",
     "output_type": "stream",
     "text": [
      "epoch: 10, [batch: 11340 / 12600], examples_per_second: 3228.5367, train_label_loss: 0.2230, \n"
     ]
    },
    {
     "name": "stdout",
     "output_type": "stream",
     "text": [
      "=============================================================\n",
      "epoch: 10, source_val_acc_label: 0.6876, target_val_acc_label: 0.6051, source_val_label_loss: 1.0469, target_val_label_loss: 1.2626, \n",
      "=============================================================\n"
     ]
    },
    {
     "name": "stdout",
     "output_type": "stream",
     "text": [
      "Patience (3) exhausted\n"
     ]
    }
   ],
   "source": [
    "###################################\n",
    "# train\n",
    "###################################\n",
    "jig = PTN_Train_Eval_Test_Jig(model, p.BEST_MODEL_PATH, p.device)\n",
    "\n",
    "jig.train(\n",
    "    train_iterable=datasets.source.processed.train,\n",
    "    source_val_iterable=datasets.source.processed.val,\n",
    "    target_val_iterable=datasets.target.processed.val,\n",
    "    num_epochs=p.n_epoch,\n",
    "    num_logs_per_epoch=p.NUM_LOGS_PER_EPOCH,\n",
    "    patience=p.patience,\n",
    "    optimizer=optimizer,\n",
    "    criteria_for_best=p.criteria_for_best,\n",
    ")"
   ]
  },
  {
   "cell_type": "code",
   "execution_count": 14,
   "id": "31e8fabf",
   "metadata": {
    "execution": {
     "iopub.execute_input": "2022-03-22T04:45:17.297630Z",
     "iopub.status.busy": "2022-03-22T04:45:17.297367Z",
     "iopub.status.idle": "2022-03-22T04:45:17.312441Z",
     "shell.execute_reply": "2022-03-22T04:45:17.311992Z"
    },
    "papermill": {
     "duration": 0.048411,
     "end_time": "2022-03-22T04:45:17.312531",
     "exception": false,
     "start_time": "2022-03-22T04:45:17.264120",
     "status": "completed"
    },
    "tags": []
   },
   "outputs": [],
   "source": [
    "total_experiment_time_secs = time.time() - start_time_secs"
   ]
  },
  {
   "cell_type": "code",
   "execution_count": 15,
   "id": "87b9595b",
   "metadata": {
    "execution": {
     "iopub.execute_input": "2022-03-22T04:45:17.381194Z",
     "iopub.status.busy": "2022-03-22T04:45:17.380888Z",
     "iopub.status.idle": "2022-03-22T04:49:19.493094Z",
     "shell.execute_reply": "2022-03-22T04:49:19.493517Z"
    },
    "papermill": {
     "duration": 242.147104,
     "end_time": "2022-03-22T04:49:19.493652",
     "exception": false,
     "start_time": "2022-03-22T04:45:17.346548",
     "status": "completed"
    },
    "tags": []
   },
   "outputs": [],
   "source": [
    "###################################\n",
    "# Evaluate the model\n",
    "###################################\n",
    "source_test_label_accuracy, source_test_label_loss = jig.test(datasets.source.processed.test)\n",
    "target_test_label_accuracy, target_test_label_loss = jig.test(datasets.target.processed.test)\n",
    "\n",
    "source_val_label_accuracy, source_val_label_loss = jig.test(datasets.source.processed.val)\n",
    "target_val_label_accuracy, target_val_label_loss = jig.test(datasets.target.processed.val)\n",
    "\n",
    "history = jig.get_history()\n",
    "\n",
    "total_epochs_trained = len(history[\"epoch_indices\"])\n",
    "\n",
    "val_dl = Iterable_Aggregator((datasets.source.original.val,datasets.target.original.val))\n",
    "\n",
    "confusion = ptn_confusion_by_domain_over_dataloader(model, p.device, val_dl)\n",
    "per_domain_accuracy = per_domain_accuracy_from_confusion(confusion)\n",
    "\n",
    "# Add a key to per_domain_accuracy for if it was a source domain\n",
    "for domain, accuracy in per_domain_accuracy.items():\n",
    "    per_domain_accuracy[domain] = {\n",
    "        \"accuracy\": accuracy,\n",
    "        \"source?\": domain in p.domains_source\n",
    "    }\n",
    "\n",
    "# Do an independent accuracy assesment JUST TO BE SURE!\n",
    "# _source_test_label_accuracy = independent_accuracy_assesment(model, datasets.source.processed.test, p.device)\n",
    "# _target_test_label_accuracy = independent_accuracy_assesment(model, datasets.target.processed.test, p.device)\n",
    "# _source_val_label_accuracy = independent_accuracy_assesment(model, datasets.source.processed.val, p.device)\n",
    "# _target_val_label_accuracy = independent_accuracy_assesment(model, datasets.target.processed.val, p.device)\n",
    "\n",
    "# assert(_source_test_label_accuracy == source_test_label_accuracy)\n",
    "# assert(_target_test_label_accuracy == target_test_label_accuracy)\n",
    "# assert(_source_val_label_accuracy == source_val_label_accuracy)\n",
    "# assert(_target_val_label_accuracy == target_val_label_accuracy)\n",
    "\n",
    "experiment = {\n",
    "    \"experiment_name\": p.experiment_name,\n",
    "    \"parameters\": dict(p),\n",
    "    \"results\": {\n",
    "        \"source_test_label_accuracy\": source_test_label_accuracy,\n",
    "        \"source_test_label_loss\": source_test_label_loss,\n",
    "        \"target_test_label_accuracy\": target_test_label_accuracy,\n",
    "        \"target_test_label_loss\": target_test_label_loss,\n",
    "        \"source_val_label_accuracy\": source_val_label_accuracy,\n",
    "        \"source_val_label_loss\": source_val_label_loss,\n",
    "        \"target_val_label_accuracy\": target_val_label_accuracy,\n",
    "        \"target_val_label_loss\": target_val_label_loss,\n",
    "        \"total_epochs_trained\": total_epochs_trained,\n",
    "        \"total_experiment_time_secs\": total_experiment_time_secs,\n",
    "        \"confusion\": confusion,\n",
    "        \"per_domain_accuracy\": per_domain_accuracy,\n",
    "    },\n",
    "    \"history\": history,\n",
    "    \"dataset_metrics\": get_dataset_metrics(datasets, \"ptn\"),\n",
    "}"
   ]
  },
  {
   "cell_type": "code",
   "execution_count": 16,
   "id": "54a21829",
   "metadata": {
    "execution": {
     "iopub.execute_input": "2022-03-22T04:49:19.564585Z",
     "iopub.status.busy": "2022-03-22T04:49:19.564336Z",
     "iopub.status.idle": "2022-03-22T04:49:19.703831Z",
     "shell.execute_reply": "2022-03-22T04:49:19.704201Z"
    },
    "papermill": {
     "duration": 0.172642,
     "end_time": "2022-03-22T04:49:19.704310",
     "exception": false,
     "start_time": "2022-03-22T04:49:19.531668",
     "status": "completed"
    },
    "tags": []
   },
   "outputs": [
    {
     "data": {
      "image/png": "[encoded data removed]",
      "text/plain": [
       "<Figure size 1080x504 with 1 Axes>"
      ]
     },
     "metadata": {
      "needs_background": "light"
     },
     "output_type": "display_data"
    }
   ],
   "source": [
    "ax = get_loss_curve(experiment)\n",
    "plt.show()"
   ]
  },
  {
   "cell_type": "code",
   "execution_count": 17,
   "id": "fd8a0f60",
   "metadata": {
    "execution": {
     "iopub.execute_input": "2022-03-22T04:49:19.775379Z",
     "iopub.status.busy": "2022-03-22T04:49:19.775117Z",
     "iopub.status.idle": "2022-03-22T04:49:19.920284Z",
     "shell.execute_reply": "2022-03-22T04:49:19.920495Z"
    },
    "papermill": {
     "duration": 0.179294,
     "end_time": "2022-03-22T04:49:19.920557",
     "exception": false,
     "start_time": "2022-03-22T04:49:19.741263",
     "status": "completed"
    },
    "tags": []
   },
   "outputs": [
    {
     "data": {
      "text/plain": [
       "<AxesSubplot:title={'center':'Results'}>"
      ]
     },
     "execution_count": 17,
     "metadata": {},
     "output_type": "execute_result"
    },
    {
     "data": {
      "image/png": "[encoded data removed]",
      "text/plain": [
       "<Figure size 1080x504 with 1 Axes>"
      ]
     },
     "metadata": {
      "needs_background": "light"
     },
     "output_type": "display_data"
    }
   ],
   "source": [
    "get_results_table(experiment)"
   ]
  },
  {
   "cell_type": "code",
   "execution_count": 18,
   "id": "cf8dc689",
   "metadata": {
    "execution": {
     "iopub.execute_input": "2022-03-22T04:49:19.989502Z",
     "iopub.status.busy": "2022-03-22T04:49:19.989252Z",
     "iopub.status.idle": "2022-03-22T04:49:20.111321Z",
     "shell.execute_reply": "2022-03-22T04:49:20.110860Z"
    },
    "papermill": {
     "duration": 0.15733,
     "end_time": "2022-03-22T04:49:20.111413",
     "exception": false,
     "start_time": "2022-03-22T04:49:19.954083",
     "status": "completed"
    },
    "tags": []
   },
   "outputs": [
    {
     "data": {
      "text/plain": [
       "<AxesSubplot:title={'center':'Per Domain Validation Accuracy'}, xlabel='domain'>"
      ]
     },
     "execution_count": 18,
     "metadata": {},
     "output_type": "execute_result"
    },
    {
     "data": {
      "image/png": "[encoded data removed]",
      "text/plain": [
       "<Figure size 1080x504 with 1 Axes>"
      ]
     },
     "metadata": {
      "needs_background": "light"
     },
     "output_type": "display_data"
    }
   ],
   "source": [
    "get_domain_accuracies(experiment)"
   ]
  },
  {
   "cell_type": "code",
   "execution_count": 19,
   "id": "a74ae082",
   "metadata": {
    "execution": {
     "iopub.execute_input": "2022-03-22T04:49:20.183069Z",
     "iopub.status.busy": "2022-03-22T04:49:20.182819Z",
     "iopub.status.idle": "2022-03-22T04:49:20.194996Z",
     "shell.execute_reply": "2022-03-22T04:49:20.195381Z"
    },
    "papermill": {
     "duration": 0.048172,
     "end_time": "2022-03-22T04:49:20.195484",
     "exception": false,
     "start_time": "2022-03-22T04:49:20.147312",
     "status": "completed"
    },
    "tags": []
   },
   "outputs": [
    {
     "name": "stdout",
     "output_type": "stream",
     "text": [
      "Source Test Label Accuracy: 0.6933854166666666 Target Test Label Accuracy: 0.61696875\n",
      "Source Val Label Accuracy: 0.6942708333333333 Target Val Label Accuracy: 0.6168854166666666\n"
     ]
    }
   ],
   "source": [
    "print(\"Source Test Label Accuracy:\", experiment[\"results\"][\"source_test_label_accuracy\"], \"Target Test Label Accuracy:\", experiment[\"results\"][\"target_test_label_accuracy\"])\n",
    "print(\"Source Val Label Accuracy:\", experiment[\"results\"][\"source_val_label_accuracy\"], \"Target Val Label Accuracy:\", experiment[\"results\"][\"target_val_label_accuracy\"])"
   ]
  },
  {
   "cell_type": "code",
   "execution_count": 20,
   "id": "dacca602",
   "metadata": {
    "execution": {
     "iopub.execute_input": "2022-03-22T04:49:20.267829Z",
     "iopub.status.busy": "2022-03-22T04:49:20.267584Z",
     "iopub.status.idle": "2022-03-22T04:49:20.283360Z",
     "shell.execute_reply": "2022-03-22T04:49:20.283104Z"
    },
    "papermill": {
     "duration": 0.051464,
     "end_time": "2022-03-22T04:49:20.283409",
     "exception": false,
     "start_time": "2022-03-22T04:49:20.231945",
     "status": "completed"
    },
    "tags": [
     "experiment_json"
    ]
   },
   "outputs": [
    {
     "data": {
      "text/plain": [
       "'{\"experiment_name\": \"tuned_1v2:oracle.run1\", \"parameters\": {\"experiment_name\": \"tuned_1v2:oracle.run1\", \"device\": \"cuda\", \"lr\": 0.0001, \"labels_source\": [\"3123D52\", \"3123D65\", \"3123D79\", \"3123D80\", \"3123D54\", \"3123D70\", \"3123D7B\", \"3123D89\", \"3123D58\", \"3123D76\", \"3123D7D\", \"3123EFE\", \"3123D64\", \"3123D78\", \"3123D7E\", \"3124E4A\"], \"labels_target\": [\"3123D52\", \"3123D65\", \"3123D79\", \"3123D80\", \"3123D54\", \"3123D70\", \"3123D7B\", \"3123D89\", \"3123D58\", \"3123D76\", \"3123D7D\", \"3123EFE\", \"3123D64\", \"3123D78\", \"3123D7E\", \"3124E4A\"], \"episode_transforms_source\": [], \"episode_transforms_target\": [], \"domains_source\": [8, 32, 50], \"domains_target\": [14, 20, 26, 38, 44], \"num_examples_per_domain_per_label_source\": -1, \"num_examples_per_domain_per_label_target\": -1, \"n_shot\": 3, \"n_way\": 16, \"n_query\": 2, \"train_k_factor\": 3, \"val_k_factor\": 2, \"test_k_factor\": 2, \"torch_default_dtype\": \"torch.float32\", \"n_epoch\": 50, \"patience\": 3, \"criteria_for_best\": \"target_accuracy\", \"x_net\": [{\"class\": \"nnReshape\", \"kargs\": {\"shape\": [-1, 1, 2, 256]}}, {\"class\": \"Conv2d\", \"kargs\": {\"in_channels\": 1, \"out_channels\": 256, \"kernel_size\": [1, 7], \"bias\": false, \"padding\": [0, 3]}}, {\"class\": \"ReLU\", \"kargs\": {\"inplace\": true}}, {\"class\": \"BatchNorm2d\", \"kargs\": {\"num_features\": 256}}, {\"class\": \"Conv2d\", \"kargs\": {\"in_channels\": 256, \"out_channels\": 80, \"kernel_size\": [2, 7], \"bias\": true, \"padding\": [0, 3]}}, {\"class\": \"ReLU\", \"kargs\": {\"inplace\": true}}, {\"class\": \"BatchNorm2d\", \"kargs\": {\"num_features\": 80}}, {\"class\": \"Flatten\", \"kargs\": {}}, {\"class\": \"Linear\", \"kargs\": {\"in_features\": 20480, \"out_features\": 256}}, {\"class\": \"ReLU\", \"kargs\": {\"inplace\": true}}, {\"class\": \"BatchNorm1d\", \"kargs\": {\"num_features\": 256}}, {\"class\": \"Linear\", \"kargs\": {\"in_features\": 256, \"out_features\": 256}}], \"NUM_LOGS_PER_EPOCH\": 10, \"BEST_MODEL_PATH\": \"./best_model.pth\", \"pickle_name\": \"oracle.Run1_10kExamples_stratified_ds.2022A.pkl\", \"x_transforms_source\": [\"unit_mag\"], \"x_transforms_target\": [\"unit_mag\"], \"dataset_seed\": 420, \"seed\": 420}, \"results\": {\"source_test_label_accuracy\": 0.6933854166666666, \"source_test_label_loss\": 0.9041668176651001, \"target_test_label_accuracy\": 0.61696875, \"target_test_label_loss\": 1.0815153121948242, \"source_val_label_accuracy\": 0.6942708333333333, \"source_val_label_loss\": 0.8853301405906677, \"target_val_label_accuracy\": 0.6168854166666666, \"target_val_label_loss\": 1.0810149908065796, \"total_epochs_trained\": 10, \"total_experiment_time_secs\": 3612.279449939728, \"confusion\": {\"8\": {\"15\": {\"15\": 767, \"12\": 308, \"8\": 79, \"2\": 26, \"7\": 7, \"3\": 13}, \"5\": {\"5\": 1029, \"1\": 58, \"11\": 11, \"10\": 87, \"14\": 14, \"13\": 1}, \"7\": {\"7\": 846, \"6\": 253, \"0\": 72, \"8\": 10, \"4\": 8, \"13\": 7, \"2\": 1, \"15\": 3}, \"4\": {\"6\": 139, \"14\": 212, \"0\": 73, \"4\": 509, \"13\": 219, \"10\": 38, \"7\": 8, \"11\": 2}, \"10\": {\"14\": 258, \"10\": 744, \"1\": 17, \"4\": 53, \"13\": 104, \"5\": 20, \"0\": 3, \"11\": 1}, \"11\": {\"11\": 677, \"1\": 463, \"14\": 20, \"8\": 15, \"5\": 19, \"10\": 4, \"4\": 2}, \"12\": {\"12\": 612, \"3\": 201, \"15\": 336, \"8\": 29, \"2\": 22}, \"0\": {\"6\": 97, \"0\": 665, \"7\": 92, \"4\": 64, \"13\": 259, \"10\": 18, \"14\": 5}, \"14\": {\"14\": 558, \"1\": 71, \"4\": 197, \"0\": 7, \"6\": 10, \"11\": 19, \"10\": 222, \"13\": 112, \"5\": 4}, \"8\": {\"15\": 66, \"8\": 1099, \"6\": 13, \"7\": 8, \"12\": 9, \"2\": 2, \"11\": 3}, \"13\": {\"4\": 204, \"0\": 291, \"14\": 105, \"13\": 404, \"6\": 51, \"10\": 128, \"1\": 2, \"7\": 15}, \"6\": {\"6\": 631, \"7\": 295, \"13\": 29, \"8\": 20, \"4\": 129, \"0\": 86, \"14\": 10}, \"1\": {\"1\": 721, \"11\": 362, \"5\": 22, \"14\": 75, \"10\": 16, \"4\": 4}, \"3\": {\"3\": 932, \"12\": 91, \"2\": 166, \"15\": 11}, \"9\": {\"9\": 1200}, \"2\": {\"3\": 215, \"2\": 905, \"15\": 46, \"12\": 13, \"7\": 20, \"6\": 1}}, \"50\": {\"4\": {\"6\": 165, \"4\": 472, \"15\": 210, \"5\": 95, \"13\": 34, \"1\": 200, \"7\": 24}, \"10\": {\"10\": 1075, \"7\": 35, \"8\": 16, \"5\": 1, \"0\": 55, \"13\": 18}, \"15\": {\"1\": 226, \"4\": 124, \"15\": 800, \"6\": 13, \"11\": 37}, \"0\": {\"2\": 142, \"0\": 990, \"10\": 57, \"13\": 9, \"5\": 2}, \"6\": {\"6\": 699, \"5\": 102, \"4\": 178, \"1\": 120, \"15\": 21, \"13\": 79, \"2\": 1}, \"3\": {\"3\": 1179, \"8\": 21}, \"7\": {\"13\": 249, \"10\": 33, \"5\": 171, \"7\": 730, \"4\": 10, \"6\": 7}, \"2\": {\"2\": 1116, \"0\": 84}, \"8\": {\"8\": 1159, \"10\": 26, \"3\": 15}, \"11\": {\"11\": 1033, \"9\": 103, \"15\": 28, \"12\": 14, \"14\": 17, \"1\": 4, \"4\": 1}, \"14\": {\"14\": 1167, \"12\": 16, \"11\": 14, \"9\": 2, \"1\": 1}, \"12\": {\"12\": 1057, \"14\": 64, \"9\": 73, \"11\": 6}, \"13\": {\"13\": 609, \"5\": 265, \"6\": 58, \"7\": 238, \"10\": 15, \"0\": 6, \"4\": 8, \"1\": 1}, \"9\": {\"9\": 904, \"11\": 167, \"12\": 123, \"14\": 6}, \"5\": {\"5\": 323, \"13\": 273, \"7\": 279, \"6\": 176, \"4\": 113, \"1\": 22, \"15\": 2, \"10\": 5, \"0\": 6, \"2\": 1}, \"1\": {\"1\": 676, \"4\": 167, \"15\": 251, \"6\": 93, \"11\": 3, \"14\": 5, \"5\": 3, \"13\": 1, \"2\": 1}}, \"32\": {\"7\": {\"7\": 484, \"5\": 109, \"14\": 201, \"4\": 163, \"0\": 26, \"11\": 49, \"13\": 116, \"2\": 45, \"8\": 4, \"3\": 3}, \"2\": {\"2\": 883, \"4\": 235, \"5\": 13, \"0\": 35, \"7\": 26, \"14\": 7, \"8\": 1}, \"5\": {\"5\": 260, \"4\": 133, \"13\": 351, \"8\": 116, \"7\": 140, \"14\": 32, \"11\": 33, \"2\": 15, \"3\": 53, \"0\": 67}, \"6\": {\"6\": 1200}, \"13\": {\"4\": 60, \"3\": 76, \"7\": 129, \"5\": 316, \"13\": 401, \"14\": 53, \"8\": 92, \"11\": 33, \"0\": 40}, \"4\": {\"4\": 595, \"0\": 142, \"2\": 189, \"7\": 139, \"5\": 84, \"14\": 13, \"8\": 7, \"13\": 31}, \"3\": {\"3\": 1074, \"13\": 52, \"8\": 17, \"5\": 17, \"11\": 34, \"7\": 3, \"14\": 3}, \"0\": {\"4\": 172, \"0\": 671, \"2\": 73, \"5\": 64, \"8\": 112, \"7\": 52, \"14\": 18, \"13\": 38}, \"9\": {\"9\": 1197, \"12\": 2, \"0\": 1}, \"12\": {\"12\": 1200}, \"8\": {\"8\": 847, \"13\": 122, \"5\": 83, \"0\": 106, \"3\": 28, \"7\": 4, \"4\": 7, \"14\": 3}, \"14\": {\"7\": 236, \"11\": 317, \"13\": 73, \"14\": 437, \"4\": 28, \"5\": 53, \"3\": 11, \"0\": 23, \"2\": 13, \"8\": 9}, \"15\": {\"15\": 1192, \"8\": 8}, \"11\": {\"14\": 228, \"11\": 872, \"13\": 28, \"3\": 23, \"5\": 17, \"7\": 30, \"4\": 1, \"0\": 1}, \"10\": {\"10\": 1196, \"1\": 4}, \"1\": {\"1\": 1193, \"10\": 7}}, \"20\": {\"15\": {\"1\": 275, \"15\": 609, \"5\": 94, \"0\": 87, \"13\": 66, \"2\": 11, \"12\": 40, \"3\": 10, \"9\": 8}, \"5\": {\"5\": 341, \"1\": 221, \"15\": 116, \"9\": 19, \"4\": 9, \"0\": 276, \"12\": 155, \"3\": 53, \"8\": 1, \"13\": 5, \"2\": 4}, \"7\": {\"7\": 723, \"4\": 11, \"2\": 154, \"3\": 58, \"8\": 111, \"9\": 78, \"6\": 37, \"10\": 4, \"13\": 6, \"11\": 3, \"14\": 8, \"12\": 7}, \"4\": {\"3\": 85, \"4\": 768, \"12\": 27, \"8\": 220, \"5\": 10, \"9\": 9, \"10\": 62, \"0\": 9, \"7\": 7, \"14\": 3}, \"10\": {\"10\": 783, \"8\": 102, \"4\": 73, \"14\": 221, \"6\": 13, \"7\": 5, \"3\": 3}, \"11\": {\"11\": 1189, \"6\": 7, \"13\": 1, \"2\": 2, \"7\": 1}, \"12\": {\"5\": 165, \"7\": 10, \"9\": 143, \"0\": 80, \"3\": 209, \"12\": 323, \"1\": 135, \"13\": 23, \"15\": 35, \"2\": 62, \"4\": 14, \"8\": 1}, \"0\": {\"0\": 413, \"1\": 163, \"9\": 20, \"5\": 293, \"15\": 138, \"12\": 85, \"2\": 18, \"3\": 50, \"4\": 14, \"7\": 1, \"13\": 4, \"8\": 1}, \"14\": {\"14\": 713, \"10\": 223, \"8\": 46, \"6\": 214, \"7\": 4}, \"8\": {\"10\": 97, \"14\": 56, \"4\": 210, \"6\": 23, \"7\": 133, \"8\": 623, \"3\": 42, \"9\": 11, \"12\": 3, \"2\": 2}, \"13\": {\"13\": 948, \"2\": 127, \"5\": 6, \"15\": 45, \"9\": 39, \"12\": 12, \"1\": 10, \"3\": 6, \"0\": 1, \"7\": 6}, \"6\": {\"14\": 176, \"6\": 952, \"8\": 25, \"7\": 35, \"10\": 9, \"11\": 3}, \"1\": {\"5\": 236, \"1\": 342, \"12\": 120, \"0\": 128, \"15\": 284, \"9\": 15, \"3\": 35, \"4\": 1, \"13\": 27, \"2\": 12}, \"3\": {\"12\": 222, \"9\": 195, \"4\": 91, \"3\": 361, \"2\": 85, \"7\": 56, \"5\": 59, \"13\": 7, \"0\": 40, \"8\": 46, \"1\": 32, \"15\": 6}, \"9\": {\"12\": 146, \"7\": 100, \"9\": 341, \"2\": 308, \"13\": 45, \"3\": 184, \"4\": 7, \"8\": 12, \"5\": 16, \"1\": 24, \"15\": 5, \"0\": 11, \"10\": 1}, \"2\": {\"9\": 284, \"12\": 59, \"2\": 433, \"13\": 98, \"7\": 185, \"3\": 98, \"1\": 18, \"8\": 11, \"15\": 4, \"0\": 3, \"5\": 3, \"4\": 4}}, \"26\": {\"4\": {\"14\": 234, \"10\": 95, \"1\": 134, \"4\": 343, \"3\": 8, \"0\": 157, \"7\": 84, \"8\": 133, \"2\": 5, \"6\": 2, \"9\": 5}, \"10\": {\"14\": 97, \"10\": 412, \"8\": 153, \"7\": 10, \"0\": 229, \"6\": 118, \"4\": 79, \"9\": 38, \"1\": 48, \"2\": 5, \"15\": 9, \"3\": 1, \"5\": 1}, \"15\": {\"15\": 368, \"9\": 279, \"2\": 61, \"5\": 217, \"8\": 82, \"13\": 87, \"0\": 8, \"7\": 23, \"6\": 54, \"3\": 6, \"10\": 11, \"4\": 2, \"14\": 2}, \"0\": {\"14\": 188, \"4\": 198, \"6\": 37, \"10\": 262, \"0\": 274, \"7\": 33, \"9\": 20, \"1\": 69, \"8\": 105, \"15\": 7, \"2\": 4, \"5\": 3}, \"6\": {\"13\": 24, \"10\": 123, \"6\": 746, \"9\": 173, \"0\": 21, \"15\": 48, \"8\": 50, \"5\": 13, \"14\": 2}, \"3\": {\"3\": 652, \"2\": 310, \"0\": 2, \"7\": 216, \"8\": 8, \"4\": 7, \"5\": 1, \"1\": 2, \"15\": 2}, \"7\": {\"7\": 503, \"2\": 176, \"3\": 212, \"15\": 18, \"8\": 83, \"4\": 115, \"14\": 30, \"5\": 6, \"1\": 17, \"10\": 10, \"9\": 5, \"0\": 25}, \"2\": {\"3\": 377, \"8\": 55, \"2\": 387, \"7\": 154, \"15\": 70, \"5\": 104, \"9\": 26, \"4\": 12, \"0\": 4, \"14\": 2, \"10\": 1, \"13\": 7, \"6\": 1}, \"8\": {\"0\": 127, \"9\": 153, \"2\": 34, \"8\": 331, \"15\": 73, \"10\": 141, \"6\": 63, \"14\": 33, \"4\": 110, \"7\": 87, \"5\": 31, \"1\": 12, \"3\": 4, \"13\": 1}, \"11\": {\"11\": 1176, \"12\": 24}, \"14\": {\"14\": 353, \"10\": 95, \"4\": 234, \"0\": 189, \"1\": 261, \"7\": 28, \"8\": 34, \"6\": 3, \"3\": 1, \"9\": 2}, \"12\": {\"12\": 1196, \"11\": 4}, \"13\": {\"13\": 809, \"15\": 81, \"5\": 249, \"6\": 17, \"9\": 25, \"2\": 16, \"7\": 1, \"3\": 2}, \"9\": {\"15\": 278, \"9\": 411, \"0\": 18, \"6\": 166, \"8\": 117, \"13\": 36, \"2\": 22, \"5\": 104, \"10\": 28, \"14\": 2, \"7\": 14, \"4\": 3, \"3\": 1}, \"5\": {\"13\": 188, \"15\": 236, \"9\": 105, \"5\": 555, \"2\": 58, \"10\": 1, \"8\": 28, \"6\": 19, \"7\": 7, \"3\": 3}, \"1\": {\"1\": 564, \"14\": 286, \"4\": 165, \"0\": 84, \"7\": 28, \"10\": 45, \"8\": 20, \"2\": 2, \"3\": 3, \"6\": 2, \"9\": 1}}, \"38\": {\"7\": {\"0\": 210, \"7\": 901, \"3\": 12, \"8\": 31, \"5\": 44, \"10\": 1, \"4\": 1}, \"2\": {\"2\": 1065, \"13\": 27, \"14\": 99, \"10\": 6, \"15\": 1, \"11\": 2}, \"5\": {\"7\": 78, \"8\": 308, \"0\": 140, \"5\": 449, \"3\": 34, \"1\": 15, \"6\": 72, \"9\": 40, \"13\": 8, \"15\": 50, \"10\": 6}, \"6\": {\"6\": 895, \"9\": 285, \"5\": 14, \"1\": 1, \"3\": 5}, \"13\": {\"13\": 646, \"15\": 357, \"10\": 98, \"2\": 35, \"1\": 25, \"8\": 30, \"14\": 2, \"0\": 3, \"12\": 1, \"5\": 3}, \"4\": {\"4\": 1116, \"10\": 5, \"12\": 79}, \"3\": {\"6\": 12, \"3\": 1015, \"9\": 107, \"7\": 37, \"0\": 15, \"5\": 13, \"8\": 1}, \"0\": {\"0\": 371, \"7\": 262, \"10\": 46, \"8\": 327, \"5\": 124, \"3\": 54, \"15\": 5, \"12\": 3, \"9\": 2, \"4\": 1, \"6\": 2, \"13\": 3}, \"9\": {\"6\": 417, \"9\": 681, \"3\": 92, \"5\": 8, \"0\": 2}, \"12\": {\"12\": 1087, \"0\": 2, \"4\": 53, \"10\": 55, \"14\": 1, \"11\": 2}, \"8\": {\"8\": 648, \"7\": 34, \"15\": 25, \"0\": 200, \"5\": 236, \"13\": 10, \"10\": 43, \"1\": 2, \"6\": 2}, \"14\": {\"14\": 830, \"11\": 286, \"2\": 55, \"12\": 11, \"10\": 16, \"13\": 2}, \"15\": {\"13\": 319, \"15\": 679, \"5\": 35, \"8\": 38, \"1\": 112, \"2\": 4, \"10\": 13}, \"11\": {\"11\": 801, \"14\": 343, \"12\": 39, \"2\": 6, \"10\": 11}, \"10\": {\"11\": 5, \"10\": 855, \"12\": 123, \"15\": 17, \"8\": 53, \"13\": 78, \"5\": 2, \"0\": 30, \"4\": 11, \"14\": 13, \"7\": 10, \"2\": 3}, \"1\": {\"1\": 1129, \"15\": 61, \"5\": 2, \"8\": 2, \"13\": 6}}, \"14\": {\"11\": {\"11\": 1003, \"10\": 61, \"0\": 58, \"9\": 78}, \"7\": {\"15\": 52, \"7\": 1129, \"5\": 9, \"1\": 10}, \"6\": {\"6\": 603, \"13\": 372, \"2\": 117, \"4\": 2, \"14\": 103, \"15\": 1, \"3\": 1, \"5\": 1}, \"12\": {\"12\": 1185, \"9\": 15}, \"4\": {\"4\": 638, \"3\": 179, \"2\": 108, \"5\": 199, \"13\": 3, \"1\": 54, \"14\": 19}, \"13\": {\"6\": 421, \"13\": 407, \"14\": 218, \"4\": 5, \"15\": 1, \"2\": 117, \"5\": 26, \"3\": 4, \"10\": 1}, \"8\": {\"8\": 1199, \"1\": 1}, \"5\": {\"5\": 674, \"4\": 206, \"3\": 14, \"7\": 22, \"1\": 216, \"14\": 1, \"2\": 63, \"13\": 1, \"15\": 2, \"6\": 1}, \"14\": {\"14\": 802, \"3\": 48, \"2\": 85, \"10\": 10, \"6\": 74, \"13\": 160, \"4\": 20, \"0\": 1}, \"3\": {\"3\": 899, \"4\": 195, \"2\": 25, \"14\": 54, \"0\": 10, \"1\": 4, \"5\": 7, \"10\": 5, \"6\": 1}, \"10\": {\"0\": 206, \"10\": 984, \"3\": 3, \"11\": 5, \"14\": 2}, \"1\": {\"1\": 981, \"5\": 180, \"7\": 8, \"4\": 25, \"3\": 3, \"2\": 3}, \"2\": {\"14\": 177, \"4\": 144, \"5\": 130, \"2\": 450, \"6\": 111, \"3\": 60, \"15\": 34, \"13\": 90, \"1\": 3, \"10\": 1}, \"15\": {\"15\": 1093, \"7\": 98, \"1\": 1, \"5\": 5, \"2\": 3}, \"9\": {\"11\": 24, \"9\": 1168, \"12\": 7, \"8\": 1}, \"0\": {\"0\": 899, \"11\": 37, \"10\": 225, \"3\": 35, \"4\": 1, \"8\": 2, \"14\": 1}}, \"44\": {\"10\": {\"1\": 92, \"10\": 825, \"12\": 133, \"2\": 147, \"7\": 2, \"3\": 1}, \"6\": {\"6\": 774, \"13\": 206, \"9\": 126, \"7\": 65, \"11\": 19, \"2\": 10}, \"13\": {\"9\": 156, \"13\": 779, \"6\": 196, \"11\": 55, \"7\": 8, \"4\": 6}, \"3\": {\"3\": 1062, \"1\": 114, \"12\": 18, \"2\": 4, \"10\": 2}, \"9\": {\"6\": 138, \"13\": 149, \"9\": 642, \"7\": 252, \"2\": 16, \"3\": 2, \"4\": 1}, \"1\": {\"12\": 265, \"1\": 596, \"3\": 176, \"10\": 114, \"2\": 48, \"7\": 1}, \"5\": {\"5\": 982, \"14\": 42, \"0\": 102, \"15\": 57, \"8\": 14, \"4\": 3}, \"11\": {\"11\": 1049, \"6\": 54, \"13\": 97}, \"4\": {\"4\": 826, \"14\": 360, \"5\": 1, \"15\": 9, \"13\": 3, \"9\": 1}, \"14\": {\"14\": 706, \"4\": 393, \"15\": 79, \"5\": 22}, \"12\": {\"1\": 242, \"12\": 807, \"10\": 131, \"3\": 20}, \"7\": {\"2\": 198, \"7\": 673, \"9\": 251, \"6\": 59, \"1\": 4, \"13\": 10, \"3\": 5}, \"0\": {\"0\": 717, \"8\": 312, \"15\": 85, \"5\": 86}, \"15\": {\"14\": 117, \"15\": 962, \"0\": 78, \"8\": 8, \"4\": 12, \"5\": 23}, \"2\": {\"7\": 190, \"2\": 831, \"10\": 100, \"1\": 61, \"9\": 8, \"3\": 7, \"6\": 2, \"12\": 1}, \"8\": {\"8\": 766, \"0\": 375, \"15\": 46, \"5\": 12, \"14\": 1}}}, \"per_domain_accuracy\": {\"8\": {\"accuracy\": 0.6405729166666667, \"source?\": true}, \"50\": {\"accuracy\": 0.72859375, \"source?\": true}, \"32\": {\"accuracy\": 0.7136458333333333, \"source?\": true}, \"20\": {\"accuracy\": 0.5136458333333334, \"source?\": false}, \"26\": {\"accuracy\": 0.47291666666666665, \"source?\": false}, \"38\": {\"accuracy\": 0.6858333333333333, \"source?\": false}, \"14\": {\"accuracy\": 0.7351041666666667, \"source?\": false}, \"44\": {\"accuracy\": 0.6769270833333333, \"source?\": false}}}, \"history\": {\"epoch_indices\": [1, 2, 3, 4, 5, 6, 7, 8, 9, 10], \"train_label_loss\": [1.4145507889702207, 0.906778559599604, 0.7628281250572394, 0.6719721365105065, 0.5865918225144583, 0.5123072107875395, 0.4434231614729478, 0.3851260216179348, 0.336284137273296, 0.29602871337543346], \"source_val_label_loss\": [1.1174083948135376, 0.9088987708091736, 0.8621854782104492, 0.8665431141853333, 0.8668351173400879, 0.8853301405906677, 0.9255654215812683, 0.9520890116691589, 0.9875121116638184, 1.046855092048645], \"target_val_label_loss\": [1.3725053071975708, 1.1083028316497803, 1.0654553174972534, 1.065676212310791, 1.0673658847808838, 1.0810149908065796, 1.126001000404358, 1.1539405584335327, 1.2051002979278564, 1.262593388557434], \"source_val_acc_label\": [0.5923611111111111, 0.6605381944444444, 0.6775520833333334, 0.6710069444444444, 0.6841666666666667, 0.6942708333333333, 0.6968055555555556, 0.6957118055555556, 0.6940451388888889, 0.6876215277777777], \"target_val_acc_label\": [0.49461458333333336, 0.5814166666666667, 0.6004166666666667, 0.5970833333333333, 0.6079479166666667, 0.6168854166666666, 0.6155416666666667, 0.6145208333333333, 0.61065625, 0.605125]}, \"dataset_metrics\": {\"source\": {\"train\": {\"n_unique_x\": 336000, \"n_unique_y\": 16, \"n_batch/episode\": 12600}, \"val\": {\"n_unique_x\": 72000, \"n_unique_y\": 16, \"n_batch/episode\": 1800}, \"test\": {\"n_unique_x\": 72000, \"n_unique_y\": 16, \"n_batch/episode\": 1800}}, \"target\": {\"train\": {\"n_unique_x\": 560000, \"n_unique_y\": 16, \"n_batch/episode\": 21000}, \"val\": {\"n_unique_x\": 120000, \"n_unique_y\": 16, \"n_batch/episode\": 3000}, \"test\": {\"n_unique_x\": 120000, \"n_unique_y\": 16, \"n_batch/episode\": 3000}}}}'"
      ]
     },
     "execution_count": 20,
     "metadata": {},
     "output_type": "execute_result"
    }
   ],
   "source": [
    "json.dumps(experiment)"
   ]
  }
 ],
 "metadata": {
  "celltoolbar": "Tags",
  "kernelspec": {
   "display_name": "Python 3 (ipykernel)",
   "language": "python",
   "name": "python3"
  },
  "language_info": {
   "codemirror_mode": {
    "name": "ipython",
    "version": 3
   },
   "file_extension": ".py",
   "mimetype": "text/x-python",
   "name": "python",
   "nbconvert_exporter": "python",
   "pygments_lexer": "ipython3",
   "version": "3.8.10"
  },
  "papermill": {
   "default_parameters": {},
   "duration": 3860.311601,
   "end_time": "2022-03-22T04:49:22.827172",
   "environment_variables": {},
   "exception": null,
   "input_path": "/mnt/wd500GB/CSC500/csc500-main/csc500-notebooks/templates/ptn_template.ipynb",
   "output_path": "trial.ipynb",
   "parameters": {
    "parameters": {
     "BEST_MODEL_PATH": "./best_model.pth",
     "NUM_LOGS_PER_EPOCH": 10,
     "criteria_for_best": "target_accuracy",
     "dataset_seed": 420,
     "device": "cuda",
     "domains_source": [
      8,
      32,
      50
     ],
     "domains_target": [
      14,
      20,
      26,
      38,
      44
     ],
     "episode_transforms_source": [],
     "episode_transforms_target": [],
     "experiment_name": "tuned_1v2:oracle.run1",
     "labels_source": [
      "3123D52",
      "3123D65",
      "3123D79",
      "3123D80",
      "3123D54",
      "3123D70",
      "3123D7B",
      "3123D89",
      "3123D58",
      "3123D76",
      "3123D7D",
      "3123EFE",
      "3123D64",
      "3123D78",
      "3123D7E",
      "3124E4A"
     ],
     "labels_target": [
      "3123D52",
      "3123D65",
      "3123D79",
      "3123D80",
      "3123D54",
      "3123D70",
      "3123D7B",
      "3123D89",
      "3123D58",
      "3123D76",
      "3123D7D",
      "3123EFE",
      "3123D64",
      "3123D78",
      "3123D7E",
      "3124E4A"
     ],
     "lr": 0.0001,
     "n_epoch": 50,
     "n_query": 2,
     "n_shot": 3,
     "n_way": 16,
     "num_examples_per_domain_per_label_source": -1,
     "num_examples_per_domain_per_label_target": -1,
     "patience": 3,
     "pickle_name": "oracle.Run1_10kExamples_stratified_ds.2022A.pkl",
     "seed": 420,
     "test_k_factor": 2,
     "torch_default_dtype": "torch.float32",
     "train_k_factor": 3,
     "val_k_factor": 2,
     "x_net": [
      {
       "class": "nnReshape",
       "kargs": {
        "shape": [
         -1,
         1,
         2,
         256
        ]
       }
      },
      {
       "class": "Conv2d",
       "kargs": {
        "bias": false,
        "in_channels": 1,
        "kernel_size": [
         1,
         7
        ],
        "out_channels": 256,
        "padding": [
         0,
         3
        ]
       }
      },
      {
       "class": "ReLU",
       "kargs": {
        "inplace": true
       }
      },
      {
       "class": "BatchNorm2d",
       "kargs": {
        "num_features": 256
       }
      },
      {
       "class": "Conv2d",
       "kargs": {
        "bias": true,
        "in_channels": 256,
        "kernel_size": [
         2,
         7
        ],
        "out_channels": 80,
        "padding": [
         0,
         3
        ]
       }
      },
      {
       "class": "ReLU",
       "kargs": {
        "inplace": true
       }
      },
      {
       "class": "BatchNorm2d",
       "kargs": {
        "num_features": 80
       }
      },
      {
       "class": "Flatten",
       "kargs": {}
      },
      {
       "class": "Linear",
       "kargs": {
        "in_features": 20480,
        "out_features": 256
       }
      },
      {
       "class": "ReLU",
       "kargs": {
        "inplace": true
       }
      },
      {
       "class": "BatchNorm1d",
       "kargs": {
        "num_features": 256
       }
      },
      {
       "class": "Linear",
       "kargs": {
        "in_features": 256,
        "out_features": 256
       }
      }
     ],
     "x_transforms_source": [
      "unit_mag"
     ],
     "x_transforms_target": [
      "unit_mag"
     ]
    }
   },
   "start_time": "2022-03-22T03:45:02.515571",
   "version": "2.3.4"
  }
 },
 "nbformat": 4,
 "nbformat_minor": 5
}