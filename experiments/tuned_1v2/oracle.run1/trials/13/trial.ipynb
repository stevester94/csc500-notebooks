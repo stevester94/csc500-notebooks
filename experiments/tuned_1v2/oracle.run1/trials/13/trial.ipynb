{
 "cells": [
  {
   "cell_type": "markdown",
   "id": "9fea5f46",
   "metadata": {
    "papermill": {
     "duration": 0.016279,
     "end_time": "2022-03-22T13:58:04.743257",
     "exception": false,
     "start_time": "2022-03-22T13:58:04.726978",
     "status": "completed"
    },
    "tags": []
   },
   "source": [
    "# PTN Template\n",
    "This notebook serves as a template for single dataset PTN experiments  \n",
    "It can be run on its own by setting STANDALONE to True (do a find for \"STANDALONE\" to see where)  \n",
    "But it is intended to be executed as part of a *papermill.py script. See any of the   \n",
    "experimentes with a papermill script to get started with that workflow.  "
   ]
  },
  {
   "cell_type": "code",
   "execution_count": 1,
   "id": "0902182a",
   "metadata": {
    "execution": {
     "iopub.execute_input": "2022-03-22T13:58:04.785865Z",
     "iopub.status.busy": "2022-03-22T13:58:04.784880Z",
     "iopub.status.idle": "2022-03-22T13:58:05.748407Z",
     "shell.execute_reply": "2022-03-22T13:58:05.748624Z"
    },
    "papermill": {
     "duration": 0.989488,
     "end_time": "2022-03-22T13:58:05.748749",
     "exception": false,
     "start_time": "2022-03-22T13:58:04.759261",
     "status": "completed"
    },
    "tags": []
   },
   "outputs": [],
   "source": [
    "%load_ext autoreload\n",
    "%autoreload 2\n",
    "%matplotlib inline\n",
    "\n",
    "    \n",
    "import os, json, sys, time, random\n",
    "import numpy as np\n",
    "import torch\n",
    "from torch.optim import Adam\n",
    "from  easydict import EasyDict\n",
    "import matplotlib.pyplot as plt\n",
    "\n",
    "from steves_models.steves_ptn import Steves_Prototypical_Network\n",
    "\n",
    "from steves_utils.lazy_iterable_wrapper import Lazy_Iterable_Wrapper\n",
    "from steves_utils.iterable_aggregator import Iterable_Aggregator\n",
    "from steves_utils.ptn_train_eval_test_jig import  PTN_Train_Eval_Test_Jig\n",
    "from steves_utils.torch_sequential_builder import build_sequential\n",
    "from steves_utils.torch_utils import get_dataset_metrics, ptn_confusion_by_domain_over_dataloader\n",
    "from steves_utils.utils_v2 import (per_domain_accuracy_from_confusion, get_datasets_base_path)\n",
    "from steves_utils.PTN.utils import independent_accuracy_assesment\n",
    "\n",
    "from steves_utils.stratified_dataset.episodic_accessor import Episodic_Accessor_Factory\n",
    "\n",
    "from steves_utils.ptn_do_report import (\n",
    "    get_loss_curve,\n",
    "    get_results_table,\n",
    "    get_parameters_table,\n",
    "    get_domain_accuracies,\n",
    ")\n",
    "\n",
    "from steves_utils.transforms import get_chained_transform"
   ]
  },
  {
   "cell_type": "markdown",
   "id": "41c840b4",
   "metadata": {
    "papermill": {
     "duration": 0.009007,
     "end_time": "2022-03-22T13:58:05.772064",
     "exception": false,
     "start_time": "2022-03-22T13:58:05.763057",
     "status": "completed"
    },
    "tags": []
   },
   "source": [
    "# Required Parameters\n",
    "These are allowed parameters, not defaults\n",
    "Each of these values need to be present in the injected parameters (the notebook will raise an exception if they are not present)\n",
    "\n",
    "Papermill uses the cell tag \"parameters\" to inject the real parameters below this cell.\n",
    "Enable tags to see what I mean"
   ]
  },
  {
   "cell_type": "code",
   "execution_count": 2,
   "id": "fd44eb83",
   "metadata": {
    "execution": {
     "iopub.execute_input": "2022-03-22T13:58:05.792509Z",
     "iopub.status.busy": "2022-03-22T13:58:05.792095Z",
     "iopub.status.idle": "2022-03-22T13:58:05.803340Z",
     "shell.execute_reply": "2022-03-22T13:58:05.803559Z"
    },
    "papermill": {
     "duration": 0.022634,
     "end_time": "2022-03-22T13:58:05.803630",
     "exception": false,
     "start_time": "2022-03-22T13:58:05.780996",
     "status": "completed"
    },
    "tags": []
   },
   "outputs": [],
   "source": [
    "required_parameters = {\n",
    "    \"experiment_name\",\n",
    "    \"lr\",\n",
    "    \"device\",\n",
    "    \"seed\",\n",
    "    \"dataset_seed\",\n",
    "    \"labels_source\",\n",
    "    \"labels_target\",\n",
    "    \"domains_source\",\n",
    "    \"domains_target\",\n",
    "    \"num_examples_per_domain_per_label_source\",\n",
    "    \"num_examples_per_domain_per_label_target\",\n",
    "    \"n_shot\",\n",
    "    \"n_way\",\n",
    "    \"n_query\",\n",
    "    \"train_k_factor\",\n",
    "    \"val_k_factor\",\n",
    "    \"test_k_factor\",\n",
    "    \"n_epoch\",\n",
    "    \"patience\",\n",
    "    \"criteria_for_best\",\n",
    "    \"x_transforms_source\",\n",
    "    \"x_transforms_target\",\n",
    "    \"episode_transforms_source\",\n",
    "    \"episode_transforms_target\",\n",
    "    \"pickle_name\",\n",
    "    \"x_net\",\n",
    "    \"NUM_LOGS_PER_EPOCH\",\n",
    "    \"BEST_MODEL_PATH\",\n",
    "    \"torch_default_dtype\"\n",
    "}"
   ]
  },
  {
   "cell_type": "code",
   "execution_count": 3,
   "id": "fa3f0049",
   "metadata": {
    "execution": {
     "iopub.execute_input": "2022-03-22T13:58:05.830726Z",
     "iopub.status.busy": "2022-03-22T13:58:05.830281Z",
     "iopub.status.idle": "2022-03-22T13:58:05.842841Z",
     "shell.execute_reply": "2022-03-22T13:58:05.843059Z"
    },
    "papermill": {
     "duration": 0.02819,
     "end_time": "2022-03-22T13:58:05.843135",
     "exception": false,
     "start_time": "2022-03-22T13:58:05.814945",
     "status": "completed"
    },
    "tags": [
     "parameters"
    ]
   },
   "outputs": [],
   "source": [
    "\n",
    "\n",
    "standalone_parameters = {}\n",
    "standalone_parameters[\"experiment_name\"] = \"STANDALONE PTN\"\n",
    "standalone_parameters[\"lr\"] = 0.0001\n",
    "standalone_parameters[\"device\"] = \"cuda\"\n",
    "\n",
    "standalone_parameters[\"seed\"] = 1337\n",
    "standalone_parameters[\"dataset_seed\"] = 1337\n",
    "\n",
    "\n",
    "standalone_parameters[\"num_examples_per_domain_per_label_source\"]=100\n",
    "standalone_parameters[\"num_examples_per_domain_per_label_target\"]=100\n",
    "\n",
    "standalone_parameters[\"n_shot\"] = 3\n",
    "standalone_parameters[\"n_query\"]  = 2\n",
    "standalone_parameters[\"train_k_factor\"] = 1\n",
    "standalone_parameters[\"val_k_factor\"] = 2\n",
    "standalone_parameters[\"test_k_factor\"] = 2\n",
    "\n",
    "\n",
    "standalone_parameters[\"n_epoch\"] = 100\n",
    "\n",
    "standalone_parameters[\"patience\"] = 10\n",
    "standalone_parameters[\"criteria_for_best\"] = \"target_accuracy\"\n",
    "\n",
    "standalone_parameters[\"x_transforms_source\"] = [\"unit_power\"]\n",
    "standalone_parameters[\"x_transforms_target\"] = [\"unit_power\"]\n",
    "standalone_parameters[\"episode_transforms_source\"] = []\n",
    "standalone_parameters[\"episode_transforms_target\"] = []\n",
    "\n",
    "standalone_parameters[\"torch_default_dtype\"] = \"torch.float32\" \n",
    "\n",
    "\n",
    "\n",
    "standalone_parameters[\"x_net\"] =     [\n",
    "    {\"class\": \"nnReshape\", \"kargs\": {\"shape\":[-1, 1, 2, 256]}},\n",
    "    {\"class\": \"Conv2d\", \"kargs\": { \"in_channels\":1, \"out_channels\":256, \"kernel_size\":(1,7), \"bias\":False, \"padding\":(0,3), },},\n",
    "    {\"class\": \"ReLU\", \"kargs\": {\"inplace\": True}},\n",
    "    {\"class\": \"BatchNorm2d\", \"kargs\": {\"num_features\":256}},\n",
    "\n",
    "    {\"class\": \"Conv2d\", \"kargs\": { \"in_channels\":256, \"out_channels\":80, \"kernel_size\":(2,7), \"bias\":True, \"padding\":(0,3), },},\n",
    "    {\"class\": \"ReLU\", \"kargs\": {\"inplace\": True}},\n",
    "    {\"class\": \"BatchNorm2d\", \"kargs\": {\"num_features\":80}},\n",
    "    {\"class\": \"Flatten\", \"kargs\": {}},\n",
    "\n",
    "    {\"class\": \"Linear\", \"kargs\": {\"in_features\": 80*256, \"out_features\": 256}}, # 80 units per IQ pair\n",
    "    {\"class\": \"ReLU\", \"kargs\": {\"inplace\": True}},\n",
    "    {\"class\": \"BatchNorm1d\", \"kargs\": {\"num_features\":256}},\n",
    "\n",
    "    {\"class\": \"Linear\", \"kargs\": {\"in_features\": 256, \"out_features\": 256}},\n",
    "]\n",
    "\n",
    "# Parameters relevant to results\n",
    "# These parameters will basically never need to change\n",
    "standalone_parameters[\"NUM_LOGS_PER_EPOCH\"] = 10\n",
    "standalone_parameters[\"BEST_MODEL_PATH\"] = \"./best_model.pth\"\n",
    "\n",
    "# uncomment for CORES dataset\n",
    "from steves_utils.CORES.utils import (\n",
    "    ALL_NODES,\n",
    "    ALL_NODES_MINIMUM_1000_EXAMPLES,\n",
    "    ALL_DAYS\n",
    ")\n",
    "\n",
    "\n",
    "standalone_parameters[\"labels_source\"] = ALL_NODES\n",
    "standalone_parameters[\"labels_target\"] = ALL_NODES\n",
    "\n",
    "standalone_parameters[\"domains_source\"] = [1]\n",
    "standalone_parameters[\"domains_target\"] = [2,3,4,5]\n",
    "\n",
    "standalone_parameters[\"pickle_name\"] = \"cores.stratified_ds.2022A.pkl\"\n",
    "\n",
    "\n",
    "# Uncomment these for ORACLE dataset\n",
    "# from steves_utils.ORACLE.utils_v2 import (\n",
    "#     ALL_DISTANCES_FEET,\n",
    "#     ALL_RUNS,\n",
    "#     ALL_SERIAL_NUMBERS,\n",
    "# )\n",
    "# standalone_parameters[\"labels_source\"] = ALL_SERIAL_NUMBERS\n",
    "# standalone_parameters[\"labels_target\"] = ALL_SERIAL_NUMBERS\n",
    "# standalone_parameters[\"domains_source\"] = [8,20, 38,50]\n",
    "# standalone_parameters[\"domains_target\"] = [14, 26, 32, 44, 56]\n",
    "# standalone_parameters[\"pickle_name\"] = \"oracle.frame_indexed.stratified_ds.2022A.pkl\"\n",
    "# standalone_parameters[\"num_examples_per_domain_per_label_source\"]=1000\n",
    "# standalone_parameters[\"num_examples_per_domain_per_label_target\"]=1000\n",
    "\n",
    "# Uncomment these for Metahan dataset\n",
    "# standalone_parameters[\"labels_source\"] = list(range(19))\n",
    "# standalone_parameters[\"labels_target\"] = list(range(19))\n",
    "# standalone_parameters[\"domains_source\"] = [0]\n",
    "# standalone_parameters[\"domains_target\"] = [1]\n",
    "# standalone_parameters[\"pickle_name\"] = \"metehan.stratified_ds.2022A.pkl\"\n",
    "# standalone_parameters[\"n_way\"]  = len(standalone_parameters[\"labels_source\"])\n",
    "# standalone_parameters[\"num_examples_per_domain_per_label_source\"]=200\n",
    "# standalone_parameters[\"num_examples_per_domain_per_label_target\"]=100\n",
    "\n",
    "\n",
    "standalone_parameters[\"n_way\"]  = len(standalone_parameters[\"labels_source\"])"
   ]
  },
  {
   "cell_type": "code",
   "execution_count": 4,
   "id": "9056f3c1",
   "metadata": {
    "execution": {
     "iopub.execute_input": "2022-03-22T13:58:05.866739Z",
     "iopub.status.busy": "2022-03-22T13:58:05.866300Z",
     "iopub.status.idle": "2022-03-22T13:58:05.877838Z",
     "shell.execute_reply": "2022-03-22T13:58:05.878054Z"
    },
    "papermill": {
     "duration": 0.025749,
     "end_time": "2022-03-22T13:58:05.878124",
     "exception": false,
     "start_time": "2022-03-22T13:58:05.852375",
     "status": "completed"
    },
    "tags": [
     "injected-parameters"
    ]
   },
   "outputs": [],
   "source": [
    "# Parameters\n",
    "parameters = {\n",
    "    \"experiment_name\": \"tuned_1v2:oracle.run1\",\n",
    "    \"device\": \"cuda\",\n",
    "    \"lr\": 0.0001,\n",
    "    \"labels_source\": [\n",
    "        \"3123D52\",\n",
    "        \"3123D65\",\n",
    "        \"3123D79\",\n",
    "        \"3123D80\",\n",
    "        \"3123D54\",\n",
    "        \"3123D70\",\n",
    "        \"3123D7B\",\n",
    "        \"3123D89\",\n",
    "        \"3123D58\",\n",
    "        \"3123D76\",\n",
    "        \"3123D7D\",\n",
    "        \"3123EFE\",\n",
    "        \"3123D64\",\n",
    "        \"3123D78\",\n",
    "        \"3123D7E\",\n",
    "        \"3124E4A\",\n",
    "    ],\n",
    "    \"labels_target\": [\n",
    "        \"3123D52\",\n",
    "        \"3123D65\",\n",
    "        \"3123D79\",\n",
    "        \"3123D80\",\n",
    "        \"3123D54\",\n",
    "        \"3123D70\",\n",
    "        \"3123D7B\",\n",
    "        \"3123D89\",\n",
    "        \"3123D58\",\n",
    "        \"3123D76\",\n",
    "        \"3123D7D\",\n",
    "        \"3123EFE\",\n",
    "        \"3123D64\",\n",
    "        \"3123D78\",\n",
    "        \"3123D7E\",\n",
    "        \"3124E4A\",\n",
    "    ],\n",
    "    \"episode_transforms_source\": [],\n",
    "    \"episode_transforms_target\": [],\n",
    "    \"domains_source\": [8, 32, 50],\n",
    "    \"domains_target\": [14, 20, 26, 38, 44],\n",
    "    \"num_examples_per_domain_per_label_source\": -1,\n",
    "    \"num_examples_per_domain_per_label_target\": -1,\n",
    "    \"n_shot\": 3,\n",
    "    \"n_way\": 16,\n",
    "    \"n_query\": 2,\n",
    "    \"train_k_factor\": 3,\n",
    "    \"val_k_factor\": 2,\n",
    "    \"test_k_factor\": 2,\n",
    "    \"torch_default_dtype\": \"torch.float32\",\n",
    "    \"n_epoch\": 50,\n",
    "    \"patience\": 3,\n",
    "    \"criteria_for_best\": \"target_accuracy\",\n",
    "    \"x_net\": [\n",
    "        {\"class\": \"nnReshape\", \"kargs\": {\"shape\": [-1, 1, 2, 256]}},\n",
    "        {\n",
    "            \"class\": \"Conv2d\",\n",
    "            \"kargs\": {\n",
    "                \"in_channels\": 1,\n",
    "                \"out_channels\": 256,\n",
    "                \"kernel_size\": [1, 7],\n",
    "                \"bias\": False,\n",
    "                \"padding\": [0, 3],\n",
    "            },\n",
    "        },\n",
    "        {\"class\": \"ReLU\", \"kargs\": {\"inplace\": True}},\n",
    "        {\"class\": \"BatchNorm2d\", \"kargs\": {\"num_features\": 256}},\n",
    "        {\n",
    "            \"class\": \"Conv2d\",\n",
    "            \"kargs\": {\n",
    "                \"in_channels\": 256,\n",
    "                \"out_channels\": 80,\n",
    "                \"kernel_size\": [2, 7],\n",
    "                \"bias\": True,\n",
    "                \"padding\": [0, 3],\n",
    "            },\n",
    "        },\n",
    "        {\"class\": \"ReLU\", \"kargs\": {\"inplace\": True}},\n",
    "        {\"class\": \"BatchNorm2d\", \"kargs\": {\"num_features\": 80}},\n",
    "        {\"class\": \"Flatten\", \"kargs\": {}},\n",
    "        {\"class\": \"Linear\", \"kargs\": {\"in_features\": 20480, \"out_features\": 256}},\n",
    "        {\"class\": \"ReLU\", \"kargs\": {\"inplace\": True}},\n",
    "        {\"class\": \"BatchNorm1d\", \"kargs\": {\"num_features\": 256}},\n",
    "        {\"class\": \"Linear\", \"kargs\": {\"in_features\": 256, \"out_features\": 256}},\n",
    "    ],\n",
    "    \"NUM_LOGS_PER_EPOCH\": 10,\n",
    "    \"BEST_MODEL_PATH\": \"./best_model.pth\",\n",
    "    \"pickle_name\": \"oracle.Run1_10kExamples_stratified_ds.2022A.pkl\",\n",
    "    \"x_transforms_source\": [\"unit_power\"],\n",
    "    \"x_transforms_target\": [\"unit_power\"],\n",
    "    \"dataset_seed\": 154325,\n",
    "    \"seed\": 154325,\n",
    "}\n"
   ]
  },
  {
   "cell_type": "code",
   "execution_count": 5,
   "id": "8fa1cc33",
   "metadata": {
    "execution": {
     "iopub.execute_input": "2022-03-22T13:58:05.899589Z",
     "iopub.status.busy": "2022-03-22T13:58:05.899177Z",
     "iopub.status.idle": "2022-03-22T13:58:05.910888Z",
     "shell.execute_reply": "2022-03-22T13:58:05.910619Z"
    },
    "papermill": {
     "duration": 0.023419,
     "end_time": "2022-03-22T13:58:05.910947",
     "exception": false,
     "start_time": "2022-03-22T13:58:05.887528",
     "status": "completed"
    },
    "tags": []
   },
   "outputs": [],
   "source": [
    "# Set this to True if you want to run this template directly\n",
    "STANDALONE = False\n",
    "if STANDALONE:\n",
    "    print(\"parameters not injected, running with standalone_parameters\")\n",
    "    parameters = standalone_parameters\n",
    "\n",
    "if not 'parameters' in locals() and not 'parameters' in globals():\n",
    "    raise Exception(\"Parameter injection failed\")\n",
    "\n",
    "#Use an easy dict for all the parameters\n",
    "p = EasyDict(parameters)\n",
    "\n",
    "supplied_keys = set(p.keys())\n",
    "\n",
    "if  supplied_keys != required_parameters:\n",
    "    print(\"Parameters are incorrect\")\n",
    "    if len(supplied_keys - required_parameters)>0: print(\"Shouldn't have:\", str(supplied_keys - required_parameters))\n",
    "    if len(required_parameters - supplied_keys)>0: print(\"Need to have:\", str(required_parameters - supplied_keys))\n",
    "    raise RuntimeError(\"Parameters are incorrect\")\n",
    "\n"
   ]
  },
  {
   "cell_type": "code",
   "execution_count": 6,
   "id": "3a028d58",
   "metadata": {
    "execution": {
     "iopub.execute_input": "2022-03-22T13:58:05.932939Z",
     "iopub.status.busy": "2022-03-22T13:58:05.932546Z",
     "iopub.status.idle": "2022-03-22T13:58:05.945062Z",
     "shell.execute_reply": "2022-03-22T13:58:05.944837Z"
    },
    "papermill": {
     "duration": 0.023423,
     "end_time": "2022-03-22T13:58:05.945118",
     "exception": false,
     "start_time": "2022-03-22T13:58:05.921695",
     "status": "completed"
    },
    "tags": []
   },
   "outputs": [],
   "source": [
    "###################################\n",
    "# Set the RNGs and make it all deterministic\n",
    "###################################\n",
    "np.random.seed(p.seed)\n",
    "random.seed(p.seed)\n",
    "torch.manual_seed(p.seed)\n",
    "\n",
    "torch.use_deterministic_algorithms(True) "
   ]
  },
  {
   "cell_type": "code",
   "execution_count": 7,
   "id": "b691acf6",
   "metadata": {
    "execution": {
     "iopub.execute_input": "2022-03-22T13:58:05.966986Z",
     "iopub.status.busy": "2022-03-22T13:58:05.966594Z",
     "iopub.status.idle": "2022-03-22T13:58:05.977763Z",
     "shell.execute_reply": "2022-03-22T13:58:05.977534Z"
    },
    "papermill": {
     "duration": 0.023332,
     "end_time": "2022-03-22T13:58:05.977819",
     "exception": false,
     "start_time": "2022-03-22T13:58:05.954487",
     "status": "completed"
    },
    "tags": []
   },
   "outputs": [],
   "source": [
    "###########################################\n",
    "# The stratified datasets honor this\n",
    "###########################################\n",
    "torch.set_default_dtype(eval(p.torch_default_dtype))"
   ]
  },
  {
   "cell_type": "code",
   "execution_count": 8,
   "id": "b5fba671",
   "metadata": {
    "execution": {
     "iopub.execute_input": "2022-03-22T13:58:05.998543Z",
     "iopub.status.busy": "2022-03-22T13:58:05.998146Z",
     "iopub.status.idle": "2022-03-22T13:58:06.036424Z",
     "shell.execute_reply": "2022-03-22T13:58:06.035923Z"
    },
    "papermill": {
     "duration": 0.049369,
     "end_time": "2022-03-22T13:58:06.036532",
     "exception": false,
     "start_time": "2022-03-22T13:58:05.987163",
     "status": "completed"
    },
    "tags": []
   },
   "outputs": [],
   "source": [
    "###################################\n",
    "# Build the network(s)\n",
    "# Note: It's critical to do this AFTER setting the RNG\n",
    "# (This is due to the randomized initial weights)\n",
    "###################################\n",
    "x_net = build_sequential(p.x_net)"
   ]
  },
  {
   "cell_type": "code",
   "execution_count": 9,
   "id": "5d7e61cc",
   "metadata": {
    "execution": {
     "iopub.execute_input": "2022-03-22T13:58:06.062263Z",
     "iopub.status.busy": "2022-03-22T13:58:06.062006Z",
     "iopub.status.idle": "2022-03-22T13:58:06.078168Z",
     "shell.execute_reply": "2022-03-22T13:58:06.077737Z"
    },
    "papermill": {
     "duration": 0.028011,
     "end_time": "2022-03-22T13:58:06.078267",
     "exception": false,
     "start_time": "2022-03-22T13:58:06.050256",
     "status": "completed"
    },
    "tags": []
   },
   "outputs": [],
   "source": [
    "start_time_secs = time.time()"
   ]
  },
  {
   "cell_type": "code",
   "execution_count": 10,
   "id": "fd5442bc",
   "metadata": {
    "execution": {
     "iopub.execute_input": "2022-03-22T13:58:06.107201Z",
     "iopub.status.busy": "2022-03-22T13:58:06.106943Z",
     "iopub.status.idle": "2022-03-22T13:59:26.457051Z",
     "shell.execute_reply": "2022-03-22T13:59:26.456615Z"
    },
    "papermill": {
     "duration": 80.364327,
     "end_time": "2022-03-22T13:59:26.457157",
     "exception": false,
     "start_time": "2022-03-22T13:58:06.092830",
     "status": "completed"
    },
    "tags": []
   },
   "outputs": [],
   "source": [
    "###################################\n",
    "# Build the dataset\n",
    "###################################\n",
    "\n",
    "if p.x_transforms_source == []: x_transform_source = None\n",
    "else: x_transform_source = get_chained_transform(p.x_transforms_source) \n",
    "\n",
    "if p.x_transforms_target == []: x_transform_target = None\n",
    "else: x_transform_target = get_chained_transform(p.x_transforms_target)\n",
    "\n",
    "if p.episode_transforms_source == []: episode_transform_source = None\n",
    "else: raise Exception(\"episode_transform_source not implemented\")\n",
    "\n",
    "if p.episode_transforms_target == []: episode_transform_target = None\n",
    "else: raise Exception(\"episode_transform_target not implemented\")\n",
    "\n",
    "\n",
    "eaf_source = Episodic_Accessor_Factory(\n",
    "    labels=p.labels_source,\n",
    "    domains=p.domains_source,\n",
    "    num_examples_per_domain_per_label=p.num_examples_per_domain_per_label_source,\n",
    "    iterator_seed=p.seed,\n",
    "    dataset_seed=p.dataset_seed,\n",
    "    n_shot=p.n_shot,\n",
    "    n_way=p.n_way,\n",
    "    n_query=p.n_query,\n",
    "    train_val_test_k_factors=(p.train_k_factor,p.val_k_factor,p.test_k_factor),\n",
    "    pickle_path=os.path.join(get_datasets_base_path(), p.pickle_name),\n",
    "    x_transform_func=x_transform_source,\n",
    "    example_transform_func=episode_transform_source,\n",
    "    \n",
    ")\n",
    "train_original_source, val_original_source, test_original_source = eaf_source.get_train(), eaf_source.get_val(), eaf_source.get_test()\n",
    "\n",
    "\n",
    "eaf_target = Episodic_Accessor_Factory(\n",
    "    labels=p.labels_target,\n",
    "    domains=p.domains_target,\n",
    "    num_examples_per_domain_per_label=p.num_examples_per_domain_per_label_target,\n",
    "    iterator_seed=p.seed,\n",
    "    dataset_seed=p.dataset_seed,\n",
    "    n_shot=p.n_shot,\n",
    "    n_way=p.n_way,\n",
    "    n_query=p.n_query,\n",
    "    train_val_test_k_factors=(p.train_k_factor,p.val_k_factor,p.test_k_factor),\n",
    "    pickle_path=os.path.join(get_datasets_base_path(), p.pickle_name),\n",
    "    x_transform_func=x_transform_target,\n",
    "    example_transform_func=episode_transform_target,\n",
    ")\n",
    "train_original_target, val_original_target, test_original_target = eaf_target.get_train(), eaf_target.get_val(), eaf_target.get_test()\n",
    "\n",
    "\n",
    "transform_lambda = lambda ex: ex[1] # Original is (<domain>, <episode>) so we strip down to episode only\n",
    "\n",
    "train_processed_source = Lazy_Iterable_Wrapper(train_original_source, transform_lambda)\n",
    "val_processed_source   = Lazy_Iterable_Wrapper(val_original_source, transform_lambda)\n",
    "test_processed_source  = Lazy_Iterable_Wrapper(test_original_source, transform_lambda)\n",
    "\n",
    "train_processed_target = Lazy_Iterable_Wrapper(train_original_target, transform_lambda)\n",
    "val_processed_target   = Lazy_Iterable_Wrapper(val_original_target, transform_lambda)\n",
    "test_processed_target  = Lazy_Iterable_Wrapper(test_original_target, transform_lambda)\n",
    "\n",
    "datasets = EasyDict({\n",
    "    \"source\": {\n",
    "        \"original\": {\"train\":train_original_source, \"val\":val_original_source, \"test\":test_original_source},\n",
    "        \"processed\": {\"train\":train_processed_source, \"val\":val_processed_source, \"test\":test_processed_source}\n",
    "    },\n",
    "    \"target\": {\n",
    "        \"original\": {\"train\":train_original_target, \"val\":val_original_target, \"test\":test_original_target},\n",
    "        \"processed\": {\"train\":train_processed_target, \"val\":val_processed_target, \"test\":test_processed_target}\n",
    "    },\n",
    "})"
   ]
  },
  {
   "cell_type": "code",
   "execution_count": 11,
   "id": "296189d9",
   "metadata": {
    "execution": {
     "iopub.execute_input": "2022-03-22T13:59:26.484489Z",
     "iopub.status.busy": "2022-03-22T13:59:26.484238Z",
     "iopub.status.idle": "2022-03-22T13:59:28.433019Z",
     "shell.execute_reply": "2022-03-22T13:59:28.433393Z"
    },
    "papermill": {
     "duration": 1.961266,
     "end_time": "2022-03-22T13:59:28.433497",
     "exception": false,
     "start_time": "2022-03-22T13:59:26.472231",
     "status": "completed"
    },
    "tags": []
   },
   "outputs": [
    {
     "name": "stdout",
     "output_type": "stream",
     "text": [
      "Visually inspect these to see if they line up with expected values given the transforms\n",
      "x_transforms_source ['unit_power']\n",
      "x_transforms_target ['unit_power']\n",
      "Average magnitude, source: 0.8714687\n",
      "Average power, source: 1.0\n"
     ]
    },
    {
     "name": "stdout",
     "output_type": "stream",
     "text": [
      "Average magnitude, target: 0.86402637\n",
      "Average power, target: 1.0\n"
     ]
    }
   ],
   "source": [
    "# Some quick unit tests on the data\n",
    "from steves_utils.transforms import get_average_power, get_average_magnitude\n",
    "\n",
    "q_x, q_y, s_x, s_y, truth = next(iter(train_processed_source))\n",
    "\n",
    "assert q_x.dtype == eval(p.torch_default_dtype)\n",
    "assert s_x.dtype == eval(p.torch_default_dtype)\n",
    "\n",
    "print(\"Visually inspect these to see if they line up with expected values given the transforms\")\n",
    "print('x_transforms_source', p.x_transforms_source)\n",
    "print('x_transforms_target', p.x_transforms_target)\n",
    "print(\"Average magnitude, source:\", get_average_magnitude(q_x[0].numpy()))\n",
    "print(\"Average power, source:\", get_average_power(q_x[0].numpy()))\n",
    "\n",
    "q_x, q_y, s_x, s_y, truth = next(iter(train_processed_target))\n",
    "print(\"Average magnitude, target:\", get_average_magnitude(q_x[0].numpy()))\n",
    "print(\"Average power, target:\", get_average_power(q_x[0].numpy()))\n"
   ]
  },
  {
   "cell_type": "code",
   "execution_count": 12,
   "id": "bbdacba1",
   "metadata": {
    "execution": {
     "iopub.execute_input": "2022-03-22T13:59:28.459619Z",
     "iopub.status.busy": "2022-03-22T13:59:28.459180Z",
     "iopub.status.idle": "2022-03-22T13:59:28.525459Z",
     "shell.execute_reply": "2022-03-22T13:59:28.525857Z"
    },
    "papermill": {
     "duration": 0.07998,
     "end_time": "2022-03-22T13:59:28.525985",
     "exception": false,
     "start_time": "2022-03-22T13:59:28.446005",
     "status": "completed"
    },
    "tags": []
   },
   "outputs": [
    {
     "name": "stdout",
     "output_type": "stream",
     "text": [
      "(2, 256)\n"
     ]
    }
   ],
   "source": [
    "###################################\n",
    "# Build the model\n",
    "###################################\n",
    "model = Steves_Prototypical_Network(x_net, device=p.device, x_shape=(2,256))\n",
    "optimizer = Adam(params=model.parameters(), lr=p.lr)"
   ]
  },
  {
   "cell_type": "code",
   "execution_count": 13,
   "id": "22b39ac5",
   "metadata": {
    "execution": {
     "iopub.execute_input": "2022-03-22T13:59:28.553422Z",
     "iopub.status.busy": "2022-03-22T13:59:28.553162Z",
     "iopub.status.idle": "2022-03-22T14:58:09.920320Z",
     "shell.execute_reply": "2022-03-22T14:58:09.920091Z"
    },
    "papermill": {
     "duration": 3521.380719,
     "end_time": "2022-03-22T14:58:09.920379",
     "exception": false,
     "start_time": "2022-03-22T13:59:28.539660",
     "status": "completed"
    },
    "tags": []
   },
   "outputs": [
    {
     "name": "stdout",
     "output_type": "stream",
     "text": [
      "epoch: 1, [batch: 1 / 12600], examples_per_second: 25.6160, train_label_loss: 2.8016, \n"
     ]
    },
    {
     "name": "stdout",
     "output_type": "stream",
     "text": [
      "epoch: 1, [batch: 1260 / 12600], examples_per_second: 2986.5427, train_label_loss: 1.4940, \n"
     ]
    },
    {
     "name": "stdout",
     "output_type": "stream",
     "text": [
      "epoch: 1, [batch: 2520 / 12600], examples_per_second: 3201.1779, train_label_loss: 1.3432, \n"
     ]
    },
    {
     "name": "stdout",
     "output_type": "stream",
     "text": [
      "epoch: 1, [batch: 3780 / 12600], examples_per_second: 3199.0891, train_label_loss: 1.1422, \n"
     ]
    },
    {
     "name": "stdout",
     "output_type": "stream",
     "text": [
      "epoch: 1, [batch: 5040 / 12600], examples_per_second: 3192.2047, train_label_loss: 1.1990, \n"
     ]
    },
    {
     "name": "stdout",
     "output_type": "stream",
     "text": [
      "epoch: 1, [batch: 6300 / 12600], examples_per_second: 3204.2784, train_label_loss: 1.3597, \n"
     ]
    },
    {
     "name": "stdout",
     "output_type": "stream",
     "text": [
      "epoch: 1, [batch: 7560 / 12600], examples_per_second: 3207.6791, train_label_loss: 1.2811, \n"
     ]
    },
    {
     "name": "stdout",
     "output_type": "stream",
     "text": [
      "epoch: 1, [batch: 8820 / 12600], examples_per_second: 3193.0313, train_label_loss: 1.0118, \n"
     ]
    },
    {
     "name": "stdout",
     "output_type": "stream",
     "text": [
      "epoch: 1, [batch: 10080 / 12600], examples_per_second: 3202.5080, train_label_loss: 1.3568, \n"
     ]
    },
    {
     "name": "stdout",
     "output_type": "stream",
     "text": [
      "epoch: 1, [batch: 11340 / 12600], examples_per_second: 3207.8064, train_label_loss: 1.0140, \n"
     ]
    },
    {
     "name": "stdout",
     "output_type": "stream",
     "text": [
      "=============================================================\n",
      "epoch: 1, source_val_acc_label: 0.4680, target_val_acc_label: 0.3351, source_val_label_loss: 1.3564, target_val_label_loss: 1.7254, \n",
      "=============================================================\n"
     ]
    },
    {
     "name": "stdout",
     "output_type": "stream",
     "text": [
      "New best\n"
     ]
    },
    {
     "name": "stdout",
     "output_type": "stream",
     "text": [
      "epoch: 2, [batch: 1 / 12600], examples_per_second: 2.2760, train_label_loss: 1.1882, \n"
     ]
    },
    {
     "name": "stdout",
     "output_type": "stream",
     "text": [
      "epoch: 2, [batch: 1260 / 12600], examples_per_second: 3201.0160, train_label_loss: 0.9007, \n"
     ]
    },
    {
     "name": "stdout",
     "output_type": "stream",
     "text": [
      "epoch: 2, [batch: 2520 / 12600], examples_per_second: 3220.5845, train_label_loss: 1.1414, \n"
     ]
    },
    {
     "name": "stdout",
     "output_type": "stream",
     "text": [
      "epoch: 2, [batch: 3780 / 12600], examples_per_second: 3219.6809, train_label_loss: 0.7679, \n"
     ]
    },
    {
     "name": "stdout",
     "output_type": "stream",
     "text": [
      "epoch: 2, [batch: 5040 / 12600], examples_per_second: 3215.4759, train_label_loss: 0.6146, \n"
     ]
    },
    {
     "name": "stdout",
     "output_type": "stream",
     "text": [
      "epoch: 2, [batch: 6300 / 12600], examples_per_second: 3233.6217, train_label_loss: 0.6356, \n"
     ]
    },
    {
     "name": "stdout",
     "output_type": "stream",
     "text": [
      "epoch: 2, [batch: 7560 / 12600], examples_per_second: 3235.3306, train_label_loss: 0.6701, \n"
     ]
    },
    {
     "name": "stdout",
     "output_type": "stream",
     "text": [
      "epoch: 2, [batch: 8820 / 12600], examples_per_second: 3220.2622, train_label_loss: 0.9875, \n"
     ]
    },
    {
     "name": "stdout",
     "output_type": "stream",
     "text": [
      "epoch: 2, [batch: 10080 / 12600], examples_per_second: 3222.4068, train_label_loss: 0.9504, \n"
     ]
    },
    {
     "name": "stdout",
     "output_type": "stream",
     "text": [
      "epoch: 2, [batch: 11340 / 12600], examples_per_second: 3228.9615, train_label_loss: 1.1152, \n"
     ]
    },
    {
     "name": "stdout",
     "output_type": "stream",
     "text": [
      "=============================================================\n",
      "epoch: 2, source_val_acc_label: 0.6668, target_val_acc_label: 0.5858, source_val_label_loss: 0.9046, target_val_label_loss: 1.0961, \n",
      "=============================================================\n"
     ]
    },
    {
     "name": "stdout",
     "output_type": "stream",
     "text": [
      "New best\n"
     ]
    },
    {
     "name": "stdout",
     "output_type": "stream",
     "text": [
      "epoch: 3, [batch: 1 / 12600], examples_per_second: 2.2737, train_label_loss: 0.7539, \n"
     ]
    },
    {
     "name": "stdout",
     "output_type": "stream",
     "text": [
      "epoch: 3, [batch: 1260 / 12600], examples_per_second: 3200.6987, train_label_loss: 0.8424, \n"
     ]
    },
    {
     "name": "stdout",
     "output_type": "stream",
     "text": [
      "epoch: 3, [batch: 2520 / 12600], examples_per_second: 3231.8927, train_label_loss: 0.8975, \n"
     ]
    },
    {
     "name": "stdout",
     "output_type": "stream",
     "text": [
      "epoch: 3, [batch: 3780 / 12600], examples_per_second: 3232.9378, train_label_loss: 0.6246, \n"
     ]
    },
    {
     "name": "stdout",
     "output_type": "stream",
     "text": [
      "epoch: 3, [batch: 5040 / 12600], examples_per_second: 3222.2130, train_label_loss: 0.7048, \n"
     ]
    },
    {
     "name": "stdout",
     "output_type": "stream",
     "text": [
      "epoch: 3, [batch: 6300 / 12600], examples_per_second: 3219.9190, train_label_loss: 0.8663, \n"
     ]
    },
    {
     "name": "stdout",
     "output_type": "stream",
     "text": [
      "epoch: 3, [batch: 7560 / 12600], examples_per_second: 3226.8209, train_label_loss: 0.6896, \n"
     ]
    },
    {
     "name": "stdout",
     "output_type": "stream",
     "text": [
      "epoch: 3, [batch: 8820 / 12600], examples_per_second: 3222.9479, train_label_loss: 0.9828, \n"
     ]
    },
    {
     "name": "stdout",
     "output_type": "stream",
     "text": [
      "epoch: 3, [batch: 10080 / 12600], examples_per_second: 3229.9469, train_label_loss: 0.5865, \n"
     ]
    },
    {
     "name": "stdout",
     "output_type": "stream",
     "text": [
      "epoch: 3, [batch: 11340 / 12600], examples_per_second: 3233.2075, train_label_loss: 0.7419, \n"
     ]
    },
    {
     "name": "stdout",
     "output_type": "stream",
     "text": [
      "=============================================================\n",
      "epoch: 3, source_val_acc_label: 0.6664, target_val_acc_label: 0.5893, source_val_label_loss: 0.8739, target_val_label_loss: 1.0848, \n",
      "=============================================================\n"
     ]
    },
    {
     "name": "stdout",
     "output_type": "stream",
     "text": [
      "New best\n"
     ]
    },
    {
     "name": "stdout",
     "output_type": "stream",
     "text": [
      "epoch: 4, [batch: 1 / 12600], examples_per_second: 2.2804, train_label_loss: 0.8890, \n"
     ]
    },
    {
     "name": "stdout",
     "output_type": "stream",
     "text": [
      "epoch: 4, [batch: 1260 / 12600], examples_per_second: 3198.6518, train_label_loss: 0.7029, \n"
     ]
    },
    {
     "name": "stdout",
     "output_type": "stream",
     "text": [
      "epoch: 4, [batch: 2520 / 12600], examples_per_second: 3222.3796, train_label_loss: 0.5496, \n"
     ]
    },
    {
     "name": "stdout",
     "output_type": "stream",
     "text": [
      "epoch: 4, [batch: 3780 / 12600], examples_per_second: 3227.1819, train_label_loss: 0.6105, \n"
     ]
    },
    {
     "name": "stdout",
     "output_type": "stream",
     "text": [
      "epoch: 4, [batch: 5040 / 12600], examples_per_second: 3203.8844, train_label_loss: 0.5391, \n"
     ]
    },
    {
     "name": "stdout",
     "output_type": "stream",
     "text": [
      "epoch: 4, [batch: 6300 / 12600], examples_per_second: 3229.7974, train_label_loss: 0.6571, \n"
     ]
    },
    {
     "name": "stdout",
     "output_type": "stream",
     "text": [
      "epoch: 4, [batch: 7560 / 12600], examples_per_second: 3238.0553, train_label_loss: 0.3519, \n"
     ]
    },
    {
     "name": "stdout",
     "output_type": "stream",
     "text": [
      "epoch: 4, [batch: 8820 / 12600], examples_per_second: 3222.1543, train_label_loss: 0.7047, \n"
     ]
    },
    {
     "name": "stdout",
     "output_type": "stream",
     "text": [
      "epoch: 4, [batch: 10080 / 12600], examples_per_second: 3230.4209, train_label_loss: 0.5983, \n"
     ]
    },
    {
     "name": "stdout",
     "output_type": "stream",
     "text": [
      "epoch: 4, [batch: 11340 / 12600], examples_per_second: 3237.5789, train_label_loss: 0.5297, \n"
     ]
    },
    {
     "name": "stdout",
     "output_type": "stream",
     "text": [
      "=============================================================\n",
      "epoch: 4, source_val_acc_label: 0.6866, target_val_acc_label: 0.6072, source_val_label_loss: 0.8512, target_val_label_loss: 1.0548, \n",
      "=============================================================\n"
     ]
    },
    {
     "name": "stdout",
     "output_type": "stream",
     "text": [
      "New best\n"
     ]
    },
    {
     "name": "stdout",
     "output_type": "stream",
     "text": [
      "epoch: 5, [batch: 1 / 12600], examples_per_second: 2.2689, train_label_loss: 0.5516, \n"
     ]
    },
    {
     "name": "stdout",
     "output_type": "stream",
     "text": [
      "epoch: 5, [batch: 1260 / 12600], examples_per_second: 3203.9174, train_label_loss: 0.6396, \n"
     ]
    },
    {
     "name": "stdout",
     "output_type": "stream",
     "text": [
      "epoch: 5, [batch: 2520 / 12600], examples_per_second: 3208.1607, train_label_loss: 0.5367, \n"
     ]
    },
    {
     "name": "stdout",
     "output_type": "stream",
     "text": [
      "epoch: 5, [batch: 3780 / 12600], examples_per_second: 3240.1193, train_label_loss: 0.5765, \n"
     ]
    },
    {
     "name": "stdout",
     "output_type": "stream",
     "text": [
      "epoch: 5, [batch: 5040 / 12600], examples_per_second: 3218.9002, train_label_loss: 0.4901, \n"
     ]
    },
    {
     "name": "stdout",
     "output_type": "stream",
     "text": [
      "epoch: 5, [batch: 6300 / 12600], examples_per_second: 3226.8513, train_label_loss: 0.7802, \n"
     ]
    },
    {
     "name": "stdout",
     "output_type": "stream",
     "text": [
      "epoch: 5, [batch: 7560 / 12600], examples_per_second: 3235.5756, train_label_loss: 0.5654, \n"
     ]
    },
    {
     "name": "stdout",
     "output_type": "stream",
     "text": [
      "epoch: 5, [batch: 8820 / 12600], examples_per_second: 3214.8577, train_label_loss: 0.5374, \n"
     ]
    },
    {
     "name": "stdout",
     "output_type": "stream",
     "text": [
      "epoch: 5, [batch: 10080 / 12600], examples_per_second: 3231.0083, train_label_loss: 0.5930, \n"
     ]
    },
    {
     "name": "stdout",
     "output_type": "stream",
     "text": [
      "epoch: 5, [batch: 11340 / 12600], examples_per_second: 3234.7999, train_label_loss: 0.5990, \n"
     ]
    },
    {
     "name": "stdout",
     "output_type": "stream",
     "text": [
      "=============================================================\n",
      "epoch: 5, source_val_acc_label: 0.6890, target_val_acc_label: 0.6121, source_val_label_loss: 0.8644, target_val_label_loss: 1.0723, \n",
      "=============================================================\n"
     ]
    },
    {
     "name": "stdout",
     "output_type": "stream",
     "text": [
      "New best\n"
     ]
    },
    {
     "name": "stdout",
     "output_type": "stream",
     "text": [
      "epoch: 6, [batch: 1 / 12600], examples_per_second: 2.2809, train_label_loss: 0.5530, \n"
     ]
    },
    {
     "name": "stdout",
     "output_type": "stream",
     "text": [
      "epoch: 6, [batch: 1260 / 12600], examples_per_second: 3206.7235, train_label_loss: 0.6288, \n"
     ]
    },
    {
     "name": "stdout",
     "output_type": "stream",
     "text": [
      "epoch: 6, [batch: 2520 / 12600], examples_per_second: 3204.5597, train_label_loss: 0.7571, \n"
     ]
    },
    {
     "name": "stdout",
     "output_type": "stream",
     "text": [
      "epoch: 6, [batch: 3780 / 12600], examples_per_second: 3221.9950, train_label_loss: 0.3452, \n"
     ]
    },
    {
     "name": "stdout",
     "output_type": "stream",
     "text": [
      "epoch: 6, [batch: 5040 / 12600], examples_per_second: 3215.9779, train_label_loss: 0.5643, \n"
     ]
    },
    {
     "name": "stdout",
     "output_type": "stream",
     "text": [
      "epoch: 6, [batch: 6300 / 12600], examples_per_second: 3226.2975, train_label_loss: 0.3317, \n"
     ]
    },
    {
     "name": "stdout",
     "output_type": "stream",
     "text": [
      "epoch: 6, [batch: 7560 / 12600], examples_per_second: 3233.0631, train_label_loss: 0.4770, \n"
     ]
    },
    {
     "name": "stdout",
     "output_type": "stream",
     "text": [
      "epoch: 6, [batch: 8820 / 12600], examples_per_second: 3224.5408, train_label_loss: 0.3988, \n"
     ]
    },
    {
     "name": "stdout",
     "output_type": "stream",
     "text": [
      "epoch: 6, [batch: 10080 / 12600], examples_per_second: 3225.1180, train_label_loss: 0.5432, \n"
     ]
    },
    {
     "name": "stdout",
     "output_type": "stream",
     "text": [
      "epoch: 6, [batch: 11340 / 12600], examples_per_second: 3228.9120, train_label_loss: 0.3426, \n"
     ]
    },
    {
     "name": "stdout",
     "output_type": "stream",
     "text": [
      "=============================================================\n",
      "epoch: 6, source_val_acc_label: 0.6939, target_val_acc_label: 0.6204, source_val_label_loss: 0.8993, target_val_label_loss: 1.0855, \n",
      "=============================================================\n"
     ]
    },
    {
     "name": "stdout",
     "output_type": "stream",
     "text": [
      "New best\n"
     ]
    },
    {
     "name": "stdout",
     "output_type": "stream",
     "text": [
      "epoch: 7, [batch: 1 / 12600], examples_per_second: 2.2784, train_label_loss: 0.3273, \n"
     ]
    },
    {
     "name": "stdout",
     "output_type": "stream",
     "text": [
      "epoch: 7, [batch: 1260 / 12600], examples_per_second: 3204.8567, train_label_loss: 0.5946, \n"
     ]
    },
    {
     "name": "stdout",
     "output_type": "stream",
     "text": [
      "epoch: 7, [batch: 2520 / 12600], examples_per_second: 3227.1202, train_label_loss: 0.7602, \n"
     ]
    },
    {
     "name": "stdout",
     "output_type": "stream",
     "text": [
      "epoch: 7, [batch: 3780 / 12600], examples_per_second: 3225.8187, train_label_loss: 0.3839, \n"
     ]
    },
    {
     "name": "stdout",
     "output_type": "stream",
     "text": [
      "epoch: 7, [batch: 5040 / 12600], examples_per_second: 3217.1760, train_label_loss: 0.4928, \n"
     ]
    },
    {
     "name": "stdout",
     "output_type": "stream",
     "text": [
      "epoch: 7, [batch: 6300 / 12600], examples_per_second: 3233.2547, train_label_loss: 0.3692, \n"
     ]
    },
    {
     "name": "stdout",
     "output_type": "stream",
     "text": [
      "epoch: 7, [batch: 7560 / 12600], examples_per_second: 3236.2115, train_label_loss: 0.1420, \n"
     ]
    },
    {
     "name": "stdout",
     "output_type": "stream",
     "text": [
      "epoch: 7, [batch: 8820 / 12600], examples_per_second: 3198.1476, train_label_loss: 0.1424, \n"
     ]
    },
    {
     "name": "stdout",
     "output_type": "stream",
     "text": [
      "epoch: 7, [batch: 10080 / 12600], examples_per_second: 3230.7535, train_label_loss: 0.2119, \n"
     ]
    },
    {
     "name": "stdout",
     "output_type": "stream",
     "text": [
      "epoch: 7, [batch: 11340 / 12600], examples_per_second: 3225.6941, train_label_loss: 0.4841, \n"
     ]
    },
    {
     "name": "stdout",
     "output_type": "stream",
     "text": [
      "=============================================================\n",
      "epoch: 7, source_val_acc_label: 0.6875, target_val_acc_label: 0.6139, source_val_label_loss: 0.9233, target_val_label_loss: 1.1321, \n",
      "=============================================================\n"
     ]
    },
    {
     "name": "stdout",
     "output_type": "stream",
     "text": [
      "epoch: 8, [batch: 1 / 12600], examples_per_second: 2.2691, train_label_loss: 0.4204, \n"
     ]
    },
    {
     "name": "stdout",
     "output_type": "stream",
     "text": [
      "epoch: 8, [batch: 1260 / 12600], examples_per_second: 3214.1244, train_label_loss: 0.4301, \n"
     ]
    },
    {
     "name": "stdout",
     "output_type": "stream",
     "text": [
      "epoch: 8, [batch: 2520 / 12600], examples_per_second: 3239.9012, train_label_loss: 0.1384, \n"
     ]
    },
    {
     "name": "stdout",
     "output_type": "stream",
     "text": [
      "epoch: 8, [batch: 3780 / 12600], examples_per_second: 3222.7339, train_label_loss: 0.3357, \n"
     ]
    },
    {
     "name": "stdout",
     "output_type": "stream",
     "text": [
      "epoch: 8, [batch: 5040 / 12600], examples_per_second: 3220.2148, train_label_loss: 0.0893, \n"
     ]
    },
    {
     "name": "stdout",
     "output_type": "stream",
     "text": [
      "epoch: 8, [batch: 6300 / 12600], examples_per_second: 3234.2859, train_label_loss: 0.3810, \n"
     ]
    },
    {
     "name": "stdout",
     "output_type": "stream",
     "text": [
      "epoch: 8, [batch: 7560 / 12600], examples_per_second: 3232.7713, train_label_loss: 0.4292, \n"
     ]
    },
    {
     "name": "stdout",
     "output_type": "stream",
     "text": [
      "epoch: 8, [batch: 8820 / 12600], examples_per_second: 3221.5126, train_label_loss: 0.4498, \n"
     ]
    },
    {
     "name": "stdout",
     "output_type": "stream",
     "text": [
      "epoch: 8, [batch: 10080 / 12600], examples_per_second: 3235.5325, train_label_loss: 0.5186, \n"
     ]
    },
    {
     "name": "stdout",
     "output_type": "stream",
     "text": [
      "epoch: 8, [batch: 11340 / 12600], examples_per_second: 3235.1187, train_label_loss: 0.2142, \n"
     ]
    },
    {
     "name": "stdout",
     "output_type": "stream",
     "text": [
      "=============================================================\n",
      "epoch: 8, source_val_acc_label: 0.6903, target_val_acc_label: 0.6090, source_val_label_loss: 0.9725, target_val_label_loss: 1.1848, \n",
      "=============================================================\n"
     ]
    },
    {
     "name": "stdout",
     "output_type": "stream",
     "text": [
      "epoch: 9, [batch: 1 / 12600], examples_per_second: 2.2753, train_label_loss: 0.3316, \n"
     ]
    },
    {
     "name": "stdout",
     "output_type": "stream",
     "text": [
      "epoch: 9, [batch: 1260 / 12600], examples_per_second: 3202.9218, train_label_loss: 0.3502, \n"
     ]
    },
    {
     "name": "stdout",
     "output_type": "stream",
     "text": [
      "epoch: 9, [batch: 2520 / 12600], examples_per_second: 3244.8804, train_label_loss: 0.1996, \n"
     ]
    },
    {
     "name": "stdout",
     "output_type": "stream",
     "text": [
      "epoch: 9, [batch: 3780 / 12600], examples_per_second: 3228.5804, train_label_loss: 0.2230, \n"
     ]
    },
    {
     "name": "stdout",
     "output_type": "stream",
     "text": [
      "epoch: 9, [batch: 5040 / 12600], examples_per_second: 3221.0548, train_label_loss: 0.8121, \n"
     ]
    },
    {
     "name": "stdout",
     "output_type": "stream",
     "text": [
      "epoch: 9, [batch: 6300 / 12600], examples_per_second: 3235.9847, train_label_loss: 0.1951, \n"
     ]
    },
    {
     "name": "stdout",
     "output_type": "stream",
     "text": [
      "epoch: 9, [batch: 7560 / 12600], examples_per_second: 3239.5103, train_label_loss: 0.4296, \n"
     ]
    },
    {
     "name": "stdout",
     "output_type": "stream",
     "text": [
      "epoch: 9, [batch: 8820 / 12600], examples_per_second: 3223.4424, train_label_loss: 0.1985, \n"
     ]
    },
    {
     "name": "stdout",
     "output_type": "stream",
     "text": [
      "epoch: 9, [batch: 10080 / 12600], examples_per_second: 3229.0458, train_label_loss: 0.1086, \n"
     ]
    },
    {
     "name": "stdout",
     "output_type": "stream",
     "text": [
      "epoch: 9, [batch: 11340 / 12600], examples_per_second: 3233.2443, train_label_loss: 0.3596, \n"
     ]
    },
    {
     "name": "stdout",
     "output_type": "stream",
     "text": [
      "=============================================================\n",
      "epoch: 9, source_val_acc_label: 0.6937, target_val_acc_label: 0.6114, source_val_label_loss: 1.0174, target_val_label_loss: 1.2454, \n",
      "=============================================================\n"
     ]
    },
    {
     "name": "stdout",
     "output_type": "stream",
     "text": [
      "epoch: 10, [batch: 1 / 12600], examples_per_second: 2.2700, train_label_loss: 0.1384, \n"
     ]
    },
    {
     "name": "stdout",
     "output_type": "stream",
     "text": [
      "epoch: 10, [batch: 1260 / 12600], examples_per_second: 3203.4527, train_label_loss: 0.0931, \n"
     ]
    },
    {
     "name": "stdout",
     "output_type": "stream",
     "text": [
      "epoch: 10, [batch: 2520 / 12600], examples_per_second: 3214.3172, train_label_loss: 0.5298, \n"
     ]
    },
    {
     "name": "stdout",
     "output_type": "stream",
     "text": [
      "epoch: 10, [batch: 3780 / 12600], examples_per_second: 3222.0444, train_label_loss: 0.4071, \n"
     ]
    },
    {
     "name": "stdout",
     "output_type": "stream",
     "text": [
      "epoch: 10, [batch: 5040 / 12600], examples_per_second: 3221.0701, train_label_loss: 0.1862, \n"
     ]
    },
    {
     "name": "stdout",
     "output_type": "stream",
     "text": [
      "epoch: 10, [batch: 6300 / 12600], examples_per_second: 3220.5705, train_label_loss: 0.3347, \n"
     ]
    },
    {
     "name": "stdout",
     "output_type": "stream",
     "text": [
      "epoch: 10, [batch: 7560 / 12600], examples_per_second: 3229.5908, train_label_loss: 0.0859, \n"
     ]
    },
    {
     "name": "stdout",
     "output_type": "stream",
     "text": [
      "epoch: 10, [batch: 8820 / 12600], examples_per_second: 3212.5205, train_label_loss: 0.2585, \n"
     ]
    },
    {
     "name": "stdout",
     "output_type": "stream",
     "text": [
      "epoch: 10, [batch: 10080 / 12600], examples_per_second: 3229.7711, train_label_loss: 0.2794, \n"
     ]
    },
    {
     "name": "stdout",
     "output_type": "stream",
     "text": [
      "epoch: 10, [batch: 11340 / 12600], examples_per_second: 3233.1404, train_label_loss: 0.2746, \n"
     ]
    },
    {
     "name": "stdout",
     "output_type": "stream",
     "text": [
      "=============================================================\n",
      "epoch: 10, source_val_acc_label: 0.6924, target_val_acc_label: 0.6077, source_val_label_loss: 1.0638, target_val_label_loss: 1.2863, \n",
      "=============================================================\n"
     ]
    },
    {
     "name": "stdout",
     "output_type": "stream",
     "text": [
      "Patience (3) exhausted\n"
     ]
    }
   ],
   "source": [
    "###################################\n",
    "# train\n",
    "###################################\n",
    "jig = PTN_Train_Eval_Test_Jig(model, p.BEST_MODEL_PATH, p.device)\n",
    "\n",
    "jig.train(\n",
    "    train_iterable=datasets.source.processed.train,\n",
    "    source_val_iterable=datasets.source.processed.val,\n",
    "    target_val_iterable=datasets.target.processed.val,\n",
    "    num_epochs=p.n_epoch,\n",
    "    num_logs_per_epoch=p.NUM_LOGS_PER_EPOCH,\n",
    "    patience=p.patience,\n",
    "    optimizer=optimizer,\n",
    "    criteria_for_best=p.criteria_for_best,\n",
    ")"
   ]
  },
  {
   "cell_type": "code",
   "execution_count": 14,
   "id": "31e8fabf",
   "metadata": {
    "execution": {
     "iopub.execute_input": "2022-03-22T14:58:09.985198Z",
     "iopub.status.busy": "2022-03-22T14:58:09.984947Z",
     "iopub.status.idle": "2022-03-22T14:58:10.002980Z",
     "shell.execute_reply": "2022-03-22T14:58:10.003391Z"
    },
    "papermill": {
     "duration": 0.052357,
     "end_time": "2022-03-22T14:58:10.003524",
     "exception": false,
     "start_time": "2022-03-22T14:58:09.951167",
     "status": "completed"
    },
    "tags": []
   },
   "outputs": [],
   "source": [
    "total_experiment_time_secs = time.time() - start_time_secs"
   ]
  },
  {
   "cell_type": "code",
   "execution_count": 15,
   "id": "87b9595b",
   "metadata": {
    "execution": {
     "iopub.execute_input": "2022-03-22T14:58:10.075159Z",
     "iopub.status.busy": "2022-03-22T14:58:10.074883Z",
     "iopub.status.idle": "2022-03-22T15:02:11.632053Z",
     "shell.execute_reply": "2022-03-22T15:02:11.632428Z"
    },
    "papermill": {
     "duration": 241.59427,
     "end_time": "2022-03-22T15:02:11.632570",
     "exception": false,
     "start_time": "2022-03-22T14:58:10.038300",
     "status": "completed"
    },
    "tags": []
   },
   "outputs": [],
   "source": [
    "###################################\n",
    "# Evaluate the model\n",
    "###################################\n",
    "source_test_label_accuracy, source_test_label_loss = jig.test(datasets.source.processed.test)\n",
    "target_test_label_accuracy, target_test_label_loss = jig.test(datasets.target.processed.test)\n",
    "\n",
    "source_val_label_accuracy, source_val_label_loss = jig.test(datasets.source.processed.val)\n",
    "target_val_label_accuracy, target_val_label_loss = jig.test(datasets.target.processed.val)\n",
    "\n",
    "history = jig.get_history()\n",
    "\n",
    "total_epochs_trained = len(history[\"epoch_indices\"])\n",
    "\n",
    "val_dl = Iterable_Aggregator((datasets.source.original.val,datasets.target.original.val))\n",
    "\n",
    "confusion = ptn_confusion_by_domain_over_dataloader(model, p.device, val_dl)\n",
    "per_domain_accuracy = per_domain_accuracy_from_confusion(confusion)\n",
    "\n",
    "# Add a key to per_domain_accuracy for if it was a source domain\n",
    "for domain, accuracy in per_domain_accuracy.items():\n",
    "    per_domain_accuracy[domain] = {\n",
    "        \"accuracy\": accuracy,\n",
    "        \"source?\": domain in p.domains_source\n",
    "    }\n",
    "\n",
    "# Do an independent accuracy assesment JUST TO BE SURE!\n",
    "# _source_test_label_accuracy = independent_accuracy_assesment(model, datasets.source.processed.test, p.device)\n",
    "# _target_test_label_accuracy = independent_accuracy_assesment(model, datasets.target.processed.test, p.device)\n",
    "# _source_val_label_accuracy = independent_accuracy_assesment(model, datasets.source.processed.val, p.device)\n",
    "# _target_val_label_accuracy = independent_accuracy_assesment(model, datasets.target.processed.val, p.device)\n",
    "\n",
    "# assert(_source_test_label_accuracy == source_test_label_accuracy)\n",
    "# assert(_target_test_label_accuracy == target_test_label_accuracy)\n",
    "# assert(_source_val_label_accuracy == source_val_label_accuracy)\n",
    "# assert(_target_val_label_accuracy == target_val_label_accuracy)\n",
    "\n",
    "experiment = {\n",
    "    \"experiment_name\": p.experiment_name,\n",
    "    \"parameters\": dict(p),\n",
    "    \"results\": {\n",
    "        \"source_test_label_accuracy\": source_test_label_accuracy,\n",
    "        \"source_test_label_loss\": source_test_label_loss,\n",
    "        \"target_test_label_accuracy\": target_test_label_accuracy,\n",
    "        \"target_test_label_loss\": target_test_label_loss,\n",
    "        \"source_val_label_accuracy\": source_val_label_accuracy,\n",
    "        \"source_val_label_loss\": source_val_label_loss,\n",
    "        \"target_val_label_accuracy\": target_val_label_accuracy,\n",
    "        \"target_val_label_loss\": target_val_label_loss,\n",
    "        \"total_epochs_trained\": total_epochs_trained,\n",
    "        \"total_experiment_time_secs\": total_experiment_time_secs,\n",
    "        \"confusion\": confusion,\n",
    "        \"per_domain_accuracy\": per_domain_accuracy,\n",
    "    },\n",
    "    \"history\": history,\n",
    "    \"dataset_metrics\": get_dataset_metrics(datasets, \"ptn\"),\n",
    "}"
   ]
  },
  {
   "cell_type": "code",
   "execution_count": 16,
   "id": "54a21829",
   "metadata": {
    "execution": {
     "iopub.execute_input": "2022-03-22T15:02:11.702559Z",
     "iopub.status.busy": "2022-03-22T15:02:11.701384Z",
     "iopub.status.idle": "2022-03-22T15:02:11.832147Z",
     "shell.execute_reply": "2022-03-22T15:02:11.832513Z"
    },
    "papermill": {
     "duration": 0.162818,
     "end_time": "2022-03-22T15:02:11.832618",
     "exception": false,
     "start_time": "2022-03-22T15:02:11.669800",
     "status": "completed"
    },
    "tags": []
   },
   "outputs": [
    {
     "data": {
      "image/png": "[encoded data removed]",
      "text/plain": [
       "<Figure size 1080x504 with 1 Axes>"
      ]
     },
     "metadata": {
      "needs_background": "light"
     },
     "output_type": "display_data"
    }
   ],
   "source": [
    "ax = get_loss_curve(experiment)\n",
    "plt.show()"
   ]
  },
  {
   "cell_type": "code",
   "execution_count": 17,
   "id": "fd8a0f60",
   "metadata": {
    "execution": {
     "iopub.execute_input": "2022-03-22T15:02:11.900864Z",
     "iopub.status.busy": "2022-03-22T15:02:11.900466Z",
     "iopub.status.idle": "2022-03-22T15:02:12.044134Z",
     "shell.execute_reply": "2022-03-22T15:02:12.044547Z"
    },
    "papermill": {
     "duration": 0.177552,
     "end_time": "2022-03-22T15:02:12.044667",
     "exception": false,
     "start_time": "2022-03-22T15:02:11.867115",
     "status": "completed"
    },
    "tags": []
   },
   "outputs": [
    {
     "data": {
      "text/plain": [
       "<AxesSubplot:title={'center':'Results'}>"
      ]
     },
     "execution_count": 17,
     "metadata": {},
     "output_type": "execute_result"
    },
    {
     "data": {
      "image/png": "[encoded data removed]",
      "text/plain": [
       "<Figure size 1080x504 with 1 Axes>"
      ]
     },
     "metadata": {
      "needs_background": "light"
     },
     "output_type": "display_data"
    }
   ],
   "source": [
    "get_results_table(experiment)"
   ]
  },
  {
   "cell_type": "code",
   "execution_count": 18,
   "id": "cf8dc689",
   "metadata": {
    "execution": {
     "iopub.execute_input": "2022-03-22T15:02:12.120493Z",
     "iopub.status.busy": "2022-03-22T15:02:12.119666Z",
     "iopub.status.idle": "2022-03-22T15:02:12.235377Z",
     "shell.execute_reply": "2022-03-22T15:02:12.234920Z"
    },
    "papermill": {
     "duration": 0.15308,
     "end_time": "2022-03-22T15:02:12.235470",
     "exception": false,
     "start_time": "2022-03-22T15:02:12.082390",
     "status": "completed"
    },
    "tags": []
   },
   "outputs": [
    {
     "data": {
      "text/plain": [
       "<AxesSubplot:title={'center':'Per Domain Validation Accuracy'}, xlabel='domain'>"
      ]
     },
     "execution_count": 18,
     "metadata": {},
     "output_type": "execute_result"
    },
    {
     "data": {
      "image/png": "[encoded data removed]",
      "text/plain": [
       "<Figure size 1080x504 with 1 Axes>"
      ]
     },
     "metadata": {
      "needs_background": "light"
     },
     "output_type": "display_data"
    }
   ],
   "source": [
    "get_domain_accuracies(experiment)"
   ]
  },
  {
   "cell_type": "code",
   "execution_count": 19,
   "id": "a74ae082",
   "metadata": {
    "execution": {
     "iopub.execute_input": "2022-03-22T15:02:12.309553Z",
     "iopub.status.busy": "2022-03-22T15:02:12.309303Z",
     "iopub.status.idle": "2022-03-22T15:02:12.325979Z",
     "shell.execute_reply": "2022-03-22T15:02:12.326403Z"
    },
    "papermill": {
     "duration": 0.053576,
     "end_time": "2022-03-22T15:02:12.326522",
     "exception": false,
     "start_time": "2022-03-22T15:02:12.272946",
     "status": "completed"
    },
    "tags": []
   },
   "outputs": [
    {
     "name": "stdout",
     "output_type": "stream",
     "text": [
      "Source Test Label Accuracy: 0.6972916666666666 Target Test Label Accuracy: 0.6174270833333333\n",
      "Source Val Label Accuracy: 0.69390625 Target Val Label Accuracy: 0.6204479166666667\n"
     ]
    }
   ],
   "source": [
    "print(\"Source Test Label Accuracy:\", experiment[\"results\"][\"source_test_label_accuracy\"], \"Target Test Label Accuracy:\", experiment[\"results\"][\"target_test_label_accuracy\"])\n",
    "print(\"Source Val Label Accuracy:\", experiment[\"results\"][\"source_val_label_accuracy\"], \"Target Val Label Accuracy:\", experiment[\"results\"][\"target_val_label_accuracy\"])"
   ]
  },
  {
   "cell_type": "code",
   "execution_count": 20,
   "id": "dacca602",
   "metadata": {
    "execution": {
     "iopub.execute_input": "2022-03-22T15:02:12.408598Z",
     "iopub.status.busy": "2022-03-22T15:02:12.408352Z",
     "iopub.status.idle": "2022-03-22T15:02:12.416226Z",
     "shell.execute_reply": "2022-03-22T15:02:12.416593Z"
    },
    "papermill": {
     "duration": 0.051632,
     "end_time": "2022-03-22T15:02:12.416699",
     "exception": false,
     "start_time": "2022-03-22T15:02:12.365067",
     "status": "completed"
    },
    "tags": [
     "experiment_json"
    ]
   },
   "outputs": [
    {
     "data": {
      "text/plain": [
       "'{\"experiment_name\": \"tuned_1v2:oracle.run1\", \"parameters\": {\"experiment_name\": \"tuned_1v2:oracle.run1\", \"device\": \"cuda\", \"lr\": 0.0001, \"labels_source\": [\"3123D52\", \"3123D65\", \"3123D79\", \"3123D80\", \"3123D54\", \"3123D70\", \"3123D7B\", \"3123D89\", \"3123D58\", \"3123D76\", \"3123D7D\", \"3123EFE\", \"3123D64\", \"3123D78\", \"3123D7E\", \"3124E4A\"], \"labels_target\": [\"3123D52\", \"3123D65\", \"3123D79\", \"3123D80\", \"3123D54\", \"3123D70\", \"3123D7B\", \"3123D89\", \"3123D58\", \"3123D76\", \"3123D7D\", \"3123EFE\", \"3123D64\", \"3123D78\", \"3123D7E\", \"3124E4A\"], \"episode_transforms_source\": [], \"episode_transforms_target\": [], \"domains_source\": [8, 32, 50], \"domains_target\": [14, 20, 26, 38, 44], \"num_examples_per_domain_per_label_source\": -1, \"num_examples_per_domain_per_label_target\": -1, \"n_shot\": 3, \"n_way\": 16, \"n_query\": 2, \"train_k_factor\": 3, \"val_k_factor\": 2, \"test_k_factor\": 2, \"torch_default_dtype\": \"torch.float32\", \"n_epoch\": 50, \"patience\": 3, \"criteria_for_best\": \"target_accuracy\", \"x_net\": [{\"class\": \"nnReshape\", \"kargs\": {\"shape\": [-1, 1, 2, 256]}}, {\"class\": \"Conv2d\", \"kargs\": {\"in_channels\": 1, \"out_channels\": 256, \"kernel_size\": [1, 7], \"bias\": false, \"padding\": [0, 3]}}, {\"class\": \"ReLU\", \"kargs\": {\"inplace\": true}}, {\"class\": \"BatchNorm2d\", \"kargs\": {\"num_features\": 256}}, {\"class\": \"Conv2d\", \"kargs\": {\"in_channels\": 256, \"out_channels\": 80, \"kernel_size\": [2, 7], \"bias\": true, \"padding\": [0, 3]}}, {\"class\": \"ReLU\", \"kargs\": {\"inplace\": true}}, {\"class\": \"BatchNorm2d\", \"kargs\": {\"num_features\": 80}}, {\"class\": \"Flatten\", \"kargs\": {}}, {\"class\": \"Linear\", \"kargs\": {\"in_features\": 20480, \"out_features\": 256}}, {\"class\": \"ReLU\", \"kargs\": {\"inplace\": true}}, {\"class\": \"BatchNorm1d\", \"kargs\": {\"num_features\": 256}}, {\"class\": \"Linear\", \"kargs\": {\"in_features\": 256, \"out_features\": 256}}], \"NUM_LOGS_PER_EPOCH\": 10, \"BEST_MODEL_PATH\": \"./best_model.pth\", \"pickle_name\": \"oracle.Run1_10kExamples_stratified_ds.2022A.pkl\", \"x_transforms_source\": [\"unit_power\"], \"x_transforms_target\": [\"unit_power\"], \"dataset_seed\": 154325, \"seed\": 154325}, \"results\": {\"source_test_label_accuracy\": 0.6972916666666666, \"source_test_label_loss\": 0.9027460217475891, \"target_test_label_accuracy\": 0.6174270833333333, \"target_test_label_loss\": 1.100449562072754, \"source_val_label_accuracy\": 0.69390625, \"source_val_label_loss\": 0.8992867469787598, \"target_val_label_accuracy\": 0.6204479166666667, \"target_val_label_loss\": 1.0855059623718262, \"total_epochs_trained\": 10, \"total_experiment_time_secs\": 3603.924972295761, \"confusion\": {\"32\": {\"13\": {\"13\": 373, \"14\": 70, \"0\": 39, \"5\": 343, \"3\": 76, \"7\": 132, \"8\": 86, \"4\": 47, \"11\": 33, \"2\": 1}, \"9\": {\"9\": 1198, \"12\": 2}, \"15\": {\"15\": 1189, \"8\": 7, \"3\": 4}, \"2\": {\"4\": 192, \"2\": 952, \"0\": 29, \"7\": 22, \"5\": 3, \"14\": 2}, \"3\": {\"3\": 1062, \"11\": 43, \"8\": 27, \"13\": 44, \"5\": 13, \"14\": 11}, \"8\": {\"8\": 843, \"13\": 123, \"0\": 90, \"3\": 32, \"5\": 101, \"7\": 2, \"14\": 3, \"4\": 5, \"15\": 1}, \"5\": {\"5\": 342, \"13\": 280, \"7\": 147, \"0\": 66, \"4\": 148, \"2\": 10, \"14\": 32, \"3\": 62, \"8\": 95, \"11\": 18}, \"14\": {\"14\": 489, \"13\": 58, \"11\": 315, \"4\": 21, \"7\": 217, \"0\": 33, \"2\": 16, \"3\": 11, \"5\": 35, \"8\": 5}, \"1\": {\"1\": 1194, \"10\": 6}, \"0\": {\"4\": 152, \"8\": 106, \"2\": 83, \"0\": 698, \"5\": 53, \"13\": 38, \"7\": 55, \"14\": 15}, \"10\": {\"10\": 1197, \"1\": 3}, \"6\": {\"6\": 1200}, \"11\": {\"11\": 837, \"14\": 256, \"13\": 40, \"7\": 23, \"3\": 32, \"5\": 11, \"4\": 1}, \"7\": {\"8\": 6, \"14\": 192, \"7\": 497, \"5\": 117, \"4\": 170, \"2\": 33, \"13\": 112, \"0\": 33, \"11\": 38, \"3\": 2}, \"4\": {\"4\": 583, \"7\": 153, \"5\": 96, \"0\": 107, \"2\": 210, \"13\": 36, \"14\": 10, \"8\": 5}, \"12\": {\"12\": 1200}}, \"50\": {\"10\": {\"10\": 1096, \"7\": 28, \"0\": 39, \"8\": 17, \"13\": 18, \"5\": 2}, \"12\": {\"12\": 1080, \"14\": 47, \"9\": 65, \"11\": 8}, \"1\": {\"1\": 684, \"15\": 285, \"6\": 74, \"4\": 136, \"11\": 9, \"14\": 6, \"5\": 4, \"2\": 2}, \"0\": {\"0\": 985, \"2\": 147, \"10\": 57, \"13\": 8, \"5\": 1, \"6\": 2}, \"15\": {\"15\": 762, \"1\": 258, \"4\": 127, \"11\": 42, \"6\": 10, \"5\": 1}, \"13\": {\"7\": 213, \"13\": 607, \"5\": 261, \"6\": 82, \"4\": 14, \"0\": 8, \"10\": 15}, \"8\": {\"8\": 1162, \"10\": 26, \"3\": 12}, \"3\": {\"3\": 1167, \"8\": 33}, \"11\": {\"14\": 22, \"11\": 1028, \"9\": 102, \"15\": 33, \"12\": 11, \"1\": 4}, \"4\": {\"4\": 431, \"5\": 96, \"15\": 202, \"1\": 207, \"13\": 39, \"6\": 196, \"11\": 1, \"7\": 28}, \"6\": {\"6\": 724, \"1\": 131, \"5\": 92, \"4\": 164, \"13\": 71, \"15\": 13, \"2\": 1, \"0\": 3, \"7\": 1}, \"7\": {\"5\": 172, \"13\": 254, \"7\": 719, \"4\": 4, \"6\": 9, \"10\": 40, \"8\": 1, \"0\": 1}, \"14\": {\"14\": 1167, \"12\": 22, \"11\": 10, \"15\": 1}, \"2\": {\"2\": 1125, \"0\": 75}, \"5\": {\"6\": 219, \"5\": 304, \"7\": 258, \"4\": 125, \"13\": 241, \"1\": 32, \"10\": 16, \"0\": 2, \"15\": 3}, \"9\": {\"9\": 910, \"12\": 128, \"14\": 8, \"11\": 154}}, \"8\": {\"14\": {\"4\": 202, \"14\": 555, \"13\": 98, \"10\": 244, \"1\": 75, \"6\": 9, \"11\": 9, \"5\": 4, \"0\": 4}, \"10\": {\"10\": 759, \"14\": 218, \"13\": 127, \"4\": 36, \"1\": 16, \"5\": 38, \"11\": 1, \"6\": 1, \"0\": 4}, \"2\": {\"2\": 843, \"3\": 254, \"12\": 30, \"7\": 19, \"15\": 53, \"8\": 1}, \"8\": {\"8\": 1084, \"15\": 81, \"6\": 14, \"7\": 10, \"12\": 9, \"14\": 1, \"11\": 1}, \"6\": {\"7\": 283, \"6\": 589, \"4\": 147, \"0\": 113, \"13\": 33, \"8\": 25, \"14\": 10}, \"7\": {\"7\": 852, \"0\": 74, \"6\": 247, \"2\": 3, \"8\": 10, \"4\": 7, \"15\": 4, \"13\": 3}, \"9\": {\"9\": 1200}, \"11\": {\"11\": 694, \"8\": 21, \"1\": 437, \"5\": 16, \"14\": 23, \"10\": 3, \"4\": 4, \"6\": 2}, \"12\": {\"12\": 562, \"15\": 382, \"3\": 206, \"2\": 25, \"8\": 25}, \"13\": {\"14\": 115, \"6\": 50, \"4\": 212, \"13\": 383, \"10\": 141, \"0\": 293, \"1\": 3, \"7\": 3}, \"0\": {\"7\": 104, \"0\": 651, \"13\": 267, \"4\": 80, \"6\": 85, \"14\": 5, \"10\": 8}, \"3\": {\"3\": 941, \"2\": 159, \"12\": 88, \"15\": 12}, \"4\": {\"0\": 86, \"4\": 515, \"13\": 212, \"14\": 184, \"6\": 148, \"7\": 9, \"10\": 37, \"11\": 1, \"1\": 8}, \"15\": {\"15\": 812, \"8\": 49, \"12\": 294, \"2\": 28, \"6\": 1, \"3\": 13, \"7\": 3}, \"5\": {\"5\": 1037, \"10\": 85, \"1\": 52, \"14\": 14, \"11\": 11, \"13\": 1}, \"1\": {\"11\": 358, \"1\": 687, \"10\": 24, \"14\": 99, \"5\": 30, \"4\": 2}}, \"44\": {\"13\": {\"13\": 766, \"9\": 127, \"7\": 11, \"6\": 232, \"4\": 9, \"11\": 53, \"14\": 2}, \"9\": {\"9\": 713, \"6\": 100, \"13\": 139, \"7\": 231, \"2\": 9, \"4\": 5, \"11\": 2, \"10\": 1}, \"15\": {\"15\": 947, \"14\": 113, \"0\": 94, \"5\": 19, \"8\": 18, \"4\": 9}, \"2\": {\"7\": 194, \"2\": 811, \"9\": 7, \"1\": 59, \"10\": 110, \"6\": 4, \"12\": 4, \"3\": 11}, \"3\": {\"3\": 1062, \"1\": 121, \"7\": 2, \"2\": 3, \"12\": 10, \"10\": 2}, \"8\": {\"8\": 764, \"0\": 369, \"15\": 45, \"5\": 21, \"14\": 1}, \"5\": {\"5\": 968, \"14\": 39, \"15\": 52, \"0\": 117, \"4\": 8, \"8\": 16}, \"14\": {\"14\": 730, \"4\": 379, \"15\": 71, \"5\": 20}, \"1\": {\"12\": 243, \"3\": 162, \"1\": 643, \"10\": 95, \"2\": 54, \"7\": 3}, \"0\": {\"8\": 332, \"0\": 702, \"15\": 63, \"5\": 103}, \"10\": {\"10\": 826, \"12\": 140, \"1\": 105, \"2\": 127, \"7\": 1, \"3\": 1}, \"6\": {\"13\": 200, \"6\": 807, \"9\": 115, \"7\": 34, \"11\": 43, \"2\": 1}, \"11\": {\"11\": 1077, \"13\": 80, \"6\": 43}, \"7\": {\"7\": 698, \"2\": 214, \"9\": 233, \"6\": 39, \"3\": 9, \"13\": 5, \"1\": 2}, \"4\": {\"14\": 378, \"4\": 809, \"15\": 7, \"13\": 2, \"5\": 3, \"9\": 1}, \"12\": {\"12\": 807, \"3\": 29, \"1\": 262, \"10\": 102}}, \"38\": {\"13\": {\"13\": 658, \"10\": 96, \"15\": 360, \"14\": 2, \"1\": 25, \"8\": 25, \"2\": 25, \"5\": 9}, \"12\": {\"12\": 1110, \"10\": 49, \"4\": 33, \"11\": 6, \"14\": 2}, \"2\": {\"2\": 1095, \"14\": 74, \"13\": 28, \"10\": 2, \"15\": 1}, \"9\": {\"9\": 680, \"6\": 418, \"3\": 85, \"5\": 15, \"0\": 2}, \"15\": {\"13\": 338, \"15\": 645, \"1\": 130, \"8\": 48, \"5\": 24, \"10\": 11, \"2\": 2, \"0\": 2}, \"5\": {\"6\": 76, \"9\": 26, \"8\": 279, \"5\": 505, \"7\": 78, \"13\": 5, \"15\": 51, \"1\": 19, \"0\": 115, \"3\": 39, \"10\": 6, \"12\": 1}, \"14\": {\"14\": 894, \"11\": 221, \"2\": 64, \"12\": 9, \"13\": 1, \"10\": 11}, \"0\": {\"0\": 381, \"7\": 283, \"8\": 296, \"5\": 129, \"3\": 47, \"10\": 39, \"6\": 4, \"12\": 7, \"4\": 3, \"15\": 7, \"9\": 2, \"13\": 2}, \"3\": {\"3\": 987, \"0\": 16, \"7\": 52, \"9\": 115, \"5\": 12, \"6\": 18}, \"1\": {\"1\": 1134, \"15\": 61, \"13\": 1, \"5\": 3, \"8\": 1}, \"11\": {\"11\": 796, \"14\": 349, \"12\": 32, \"2\": 6, \"10\": 15, \"13\": 1, \"4\": 1}, \"7\": {\"0\": 225, \"7\": 869, \"5\": 43, \"8\": 39, \"3\": 22, \"10\": 2}, \"8\": {\"8\": 672, \"5\": 217, \"7\": 32, \"10\": 27, \"0\": 217, \"15\": 24, \"13\": 7, \"12\": 1, \"9\": 2, \"1\": 1}, \"4\": {\"4\": 1125, \"12\": 73, \"7\": 1, \"10\": 1}, \"10\": {\"10\": 862, \"15\": 16, \"11\": 5, \"13\": 110, \"12\": 101, \"8\": 48, \"4\": 10, \"0\": 30, \"2\": 2, \"14\": 11, \"5\": 2, \"7\": 3}, \"6\": {\"6\": 864, \"9\": 320, \"0\": 1, \"3\": 4, \"5\": 11}}, \"26\": {\"10\": {\"0\": 266, \"10\": 379, \"8\": 139, \"6\": 94, \"4\": 76, \"14\": 122, \"9\": 49, \"1\": 43, \"15\": 16, \"2\": 3, \"7\": 12, \"5\": 1}, \"12\": {\"12\": 1189, \"11\": 11}, \"1\": {\"14\": 278, \"1\": 582, \"0\": 78, \"4\": 168, \"3\": 4, \"10\": 52, \"7\": 16, \"8\": 16, \"6\": 3, \"9\": 2, \"2\": 1}, \"0\": {\"0\": 278, \"14\": 195, \"4\": 187, \"1\": 78, \"10\": 258, \"8\": 104, \"6\": 34, \"9\": 18, \"7\": 36, \"15\": 8, \"2\": 3, \"3\": 1}, \"15\": {\"4\": 4, \"9\": 276, \"15\": 344, \"5\": 251, \"6\": 51, \"2\": 32, \"13\": 77, \"8\": 115, \"7\": 18, \"3\": 4, \"0\": 12, \"10\": 13, \"14\": 3}, \"13\": {\"5\": 228, \"13\": 796, \"15\": 81, \"6\": 20, \"9\": 52, \"3\": 1, \"2\": 22}, \"8\": {\"7\": 114, \"8\": 351, \"14\": 44, \"6\": 52, \"15\": 104, \"9\": 137, \"10\": 133, \"0\": 99, \"5\": 26, \"4\": 95, \"2\": 25, \"1\": 12, \"3\": 7, \"13\": 1}, \"3\": {\"3\": 670, \"7\": 240, \"2\": 264, \"15\": 3, \"4\": 8, \"14\": 1, \"8\": 5, \"5\": 5, \"9\": 1, \"1\": 1, \"0\": 2}, \"11\": {\"11\": 1191, \"12\": 9}, \"4\": {\"4\": 325, \"1\": 146, \"0\": 160, \"14\": 230, \"10\": 80, \"8\": 118, \"7\": 111, \"9\": 12, \"2\": 7, \"3\": 7, \"15\": 3, \"6\": 1}, \"6\": {\"6\": 769, \"13\": 26, \"9\": 183, \"10\": 92, \"8\": 43, \"0\": 32, \"15\": 44, \"14\": 6, \"5\": 4, \"7\": 1}, \"7\": {\"7\": 519, \"15\": 16, \"2\": 159, \"4\": 102, \"3\": 215, \"8\": 85, \"0\": 31, \"1\": 20, \"14\": 26, \"10\": 6, \"9\": 16, \"5\": 5}, \"14\": {\"1\": 263, \"14\": 333, \"4\": 226, \"0\": 180, \"10\": 109, \"8\": 50, \"7\": 25, \"9\": 5, \"6\": 6, \"2\": 1, \"15\": 1, \"3\": 1}, \"2\": {\"3\": 391, \"7\": 114, \"8\": 37, \"2\": 444, \"15\": 85, \"9\": 23, \"5\": 94, \"13\": 5, \"6\": 1, \"4\": 2, \"0\": 2, \"10\": 1, \"1\": 1}, \"5\": {\"5\": 551, \"13\": 197, \"9\": 90, \"15\": 232, \"8\": 29, \"2\": 79, \"6\": 7, \"7\": 9, \"3\": 3, \"4\": 2, \"10\": 1}, \"9\": {\"2\": 12, \"10\": 39, \"5\": 95, \"15\": 295, \"9\": 369, \"6\": 170, \"8\": 136, \"0\": 12, \"13\": 54, \"7\": 10, \"4\": 4, \"3\": 1, \"14\": 3}}, \"20\": {\"5\": {\"0\": 296, \"1\": 229, \"3\": 55, \"5\": 340, \"12\": 150, \"13\": 8, \"2\": 4, \"15\": 99, \"4\": 10, \"9\": 9}, \"15\": {\"0\": 101, \"15\": 618, \"1\": 266, \"13\": 54, \"12\": 39, \"9\": 10, \"5\": 91, \"3\": 11, \"2\": 10}, \"9\": {\"2\": 289, \"3\": 174, \"7\": 125, \"9\": 333, \"1\": 29, \"10\": 1, \"12\": 139, \"8\": 16, \"5\": 13, \"13\": 61, \"0\": 5, \"4\": 7, \"15\": 8}, \"7\": {\"7\": 694, \"2\": 177, \"13\": 8, \"9\": 90, \"8\": 122, \"6\": 30, \"3\": 46, \"10\": 7, \"4\": 9, \"14\": 5, \"0\": 1, \"12\": 6, \"11\": 5}, \"3\": {\"12\": 230, \"3\": 376, \"1\": 20, \"2\": 109, \"4\": 75, \"9\": 192, \"7\": 65, \"8\": 37, \"5\": 56, \"13\": 8, \"10\": 3, \"0\": 25, \"15\": 4}, \"8\": {\"8\": 648, \"4\": 227, \"3\": 36, \"7\": 105, \"10\": 96, \"14\": 36, \"9\": 10, \"6\": 25, \"2\": 11, \"12\": 6}, \"4\": {\"3\": 92, \"8\": 209, \"4\": 796, \"10\": 46, \"9\": 12, \"12\": 17, \"5\": 5, \"0\": 9, \"14\": 3, \"7\": 9, \"2\": 1, \"1\": 1}, \"6\": {\"7\": 30, \"6\": 931, \"8\": 19, \"11\": 6, \"14\": 199, \"10\": 14, \"2\": 1}, \"2\": {\"9\": 261, \"13\": 121, \"2\": 441, \"7\": 170, \"1\": 16, \"12\": 56, \"3\": 113, \"8\": 5, \"15\": 7, \"5\": 5, \"4\": 4, \"0\": 1}, \"12\": {\"9\": 133, \"12\": 311, \"3\": 229, \"1\": 136, \"7\": 7, \"0\": 82, \"5\": 154, \"15\": 44, \"2\": 49, \"4\": 31, \"13\": 18, \"8\": 6}, \"0\": {\"0\": 432, \"3\": 56, \"7\": 2, \"12\": 81, \"15\": 150, \"5\": 293, \"1\": 140, \"4\": 16, \"2\": 11, \"9\": 14, \"8\": 3, \"13\": 2}, \"13\": {\"13\": 949, \"9\": 53, \"15\": 42, \"2\": 115, \"1\": 16, \"12\": 8, \"7\": 7, \"5\": 5, \"0\": 2, \"3\": 3}, \"10\": {\"14\": 234, \"8\": 92, \"4\": 49, \"10\": 797, \"6\": 19, \"7\": 8, \"3\": 1}, \"11\": {\"11\": 1189, \"7\": 5, \"2\": 1, \"6\": 3, \"13\": 2}, \"14\": {\"14\": 723, \"6\": 208, \"10\": 229, \"8\": 37, \"7\": 2, \"4\": 1}, \"1\": {\"5\": 230, \"15\": 289, \"1\": 341, \"0\": 135, \"13\": 24, \"12\": 120, \"3\": 30, \"9\": 19, \"2\": 9, \"4\": 1, \"7\": 1, \"8\": 1}}, \"14\": {\"13\": {\"6\": 438, \"14\": 218, \"13\": 383, \"3\": 9, \"2\": 123, \"5\": 16, \"4\": 6, \"15\": 6, \"1\": 1}, \"4\": {\"3\": 168, \"4\": 680, \"5\": 197, \"1\": 38, \"2\": 101, \"14\": 14, \"13\": 2}, \"6\": {\"6\": 592, \"14\": 87, \"13\": 450, \"2\": 70, \"4\": 1}, \"0\": {\"0\": 906, \"10\": 227, \"11\": 34, \"3\": 27, \"8\": 4, \"14\": 2}, \"10\": {\"10\": 979, \"0\": 210, \"3\": 5, \"14\": 3, \"11\": 2, \"13\": 1}, \"7\": {\"7\": 1127, \"15\": 50, \"5\": 12, \"1\": 11}, \"14\": {\"6\": 63, \"4\": 16, \"3\": 62, \"13\": 130, \"14\": 843, \"2\": 81, \"10\": 5}, \"15\": {\"15\": 1085, \"7\": 112, \"2\": 1, \"5\": 2}, \"5\": {\"13\": 2, \"4\": 249, \"5\": 608, \"1\": 225, \"2\": 71, \"3\": 26, \"7\": 16, \"15\": 3}, \"2\": {\"4\": 130, \"5\": 130, \"2\": 482, \"3\": 70, \"6\": 98, \"15\": 37, \"14\": 166, \"13\": 80, \"7\": 2, \"1\": 5}, \"9\": {\"9\": 1184, \"11\": 10, \"0\": 2, \"12\": 4}, \"12\": {\"12\": 1192, \"9\": 8}, \"8\": {\"8\": 1199, \"0\": 1}, \"3\": {\"4\": 183, \"3\": 926, \"0\": 6, \"1\": 3, \"5\": 4, \"13\": 3, \"14\": 42, \"2\": 30, \"10\": 3}, \"1\": {\"1\": 948, \"5\": 204, \"15\": 1, \"4\": 33, \"7\": 10, \"3\": 3, \"2\": 1}, \"11\": {\"11\": 1013, \"9\": 84, \"0\": 58, \"10\": 45}}}, \"per_domain_accuracy\": {\"32\": {\"accuracy\": 0.7215625, \"source?\": true}, \"50\": {\"accuracy\": 0.7266145833333333, \"source?\": true}, \"8\": {\"accuracy\": 0.6335416666666667, \"source?\": true}, \"44\": {\"accuracy\": 0.6838541666666667, \"source?\": false}, \"38\": {\"accuracy\": 0.6915104166666667, \"source?\": false}, \"26\": {\"accuracy\": 0.4734375, \"source?\": false}, \"20\": {\"accuracy\": 0.5166145833333333, \"source?\": false}, \"14\": {\"accuracy\": 0.7368229166666667, \"source?\": false}}}, \"history\": {\"epoch_indices\": [1, 2, 3, 4, 5, 6, 7, 8, 9, 10], \"train_label_loss\": [1.4352290476929574, 0.9692275603825138, 0.7660287295778593, 0.6642581428161689, 0.5682851693294351, 0.4890687283382766, 0.41864959616421, 0.3588165761239176, 0.31197875797608127, 0.2684947906719107], \"source_val_label_loss\": [1.356433391571045, 0.9045838713645935, 0.8738868832588196, 0.8511656522750854, 0.8644106388092041, 0.8992867469787598, 0.9233005046844482, 0.9725245237350464, 1.0173509120941162, 1.0638025999069214], \"target_val_label_loss\": [1.7253632545471191, 1.096129059791565, 1.0847587585449219, 1.0547857284545898, 1.0723263025283813, 1.0855059623718262, 1.1320676803588867, 1.1848195791244507, 1.2454062700271606, 1.2862789630889893], \"source_val_acc_label\": [0.4679861111111111, 0.6668055555555555, 0.6663888888888889, 0.6865625, 0.6889756944444444, 0.69390625, 0.6874652777777778, 0.6902604166666667, 0.6936631944444445, 0.6924131944444445], \"target_val_acc_label\": [0.3351458333333333, 0.5857916666666667, 0.58925, 0.6072083333333333, 0.6121458333333333, 0.6204479166666667, 0.6138958333333333, 0.60896875, 0.6113645833333333, 0.60771875]}, \"dataset_metrics\": {\"source\": {\"train\": {\"n_unique_x\": 336000, \"n_unique_y\": 16, \"n_batch/episode\": 12600}, \"val\": {\"n_unique_x\": 72000, \"n_unique_y\": 16, \"n_batch/episode\": 1800}, \"test\": {\"n_unique_x\": 72000, \"n_unique_y\": 16, \"n_batch/episode\": 1800}}, \"target\": {\"train\": {\"n_unique_x\": 560000, \"n_unique_y\": 16, \"n_batch/episode\": 21000}, \"val\": {\"n_unique_x\": 120000, \"n_unique_y\": 16, \"n_batch/episode\": 3000}, \"test\": {\"n_unique_x\": 120000, \"n_unique_y\": 16, \"n_batch/episode\": 3000}}}}'"
      ]
     },
     "execution_count": 20,
     "metadata": {},
     "output_type": "execute_result"
    }
   ],
   "source": [
    "json.dumps(experiment)"
   ]
  }
 ],
 "metadata": {
  "celltoolbar": "Tags",
  "kernelspec": {
   "display_name": "Python 3 (ipykernel)",
   "language": "python",
   "name": "python3"
  },
  "language_info": {
   "codemirror_mode": {
    "name": "ipython",
    "version": 3
   },
   "file_extension": ".py",
   "mimetype": "text/x-python",
   "name": "python",
   "nbconvert_exporter": "python",
   "pygments_lexer": "ipython3",
   "version": "3.8.10"
  },
  "papermill": {
   "default_parameters": {},
   "duration": 3851.165446,
   "end_time": "2022-03-22T15:02:15.166654",
   "environment_variables": {},
   "exception": null,
   "input_path": "/mnt/wd500GB/CSC500/csc500-main/csc500-notebooks/templates/ptn_template.ipynb",
   "output_path": "trial.ipynb",
   "parameters": {
    "parameters": {
     "BEST_MODEL_PATH": "./best_model.pth",
     "NUM_LOGS_PER_EPOCH": 10,
     "criteria_for_best": "target_accuracy",
     "dataset_seed": 154325,
     "device": "cuda",
     "domains_source": [
      8,
      32,
      50
     ],
     "domains_target": [
      14,
      20,
      26,
      38,
      44
     ],
     "episode_transforms_source": [],
     "episode_transforms_target": [],
     "experiment_name": "tuned_1v2:oracle.run1",
     "labels_source": [
      "3123D52",
      "3123D65",
      "3123D79",
      "3123D80",
      "3123D54",
      "3123D70",
      "3123D7B",
      "3123D89",
      "3123D58",
      "3123D76",
      "3123D7D",
      "3123EFE",
      "3123D64",
      "3123D78",
      "3123D7E",
      "3124E4A"
     ],
     "labels_target": [
      "3123D52",
      "3123D65",
      "3123D79",
      "3123D80",
      "3123D54",
      "3123D70",
      "3123D7B",
      "3123D89",
      "3123D58",
      "3123D76",
      "3123D7D",
      "3123EFE",
      "3123D64",
      "3123D78",
      "3123D7E",
      "3124E4A"
     ],
     "lr": 0.0001,
     "n_epoch": 50,
     "n_query": 2,
     "n_shot": 3,
     "n_way": 16,
     "num_examples_per_domain_per_label_source": -1,
     "num_examples_per_domain_per_label_target": -1,
     "patience": 3,
     "pickle_name": "oracle.Run1_10kExamples_stratified_ds.2022A.pkl",
     "seed": 154325,
     "test_k_factor": 2,
     "torch_default_dtype": "torch.float32",
     "train_k_factor": 3,
     "val_k_factor": 2,
     "x_net": [
      {
       "class": "nnReshape",
       "kargs": {
        "shape": [
         -1,
         1,
         2,
         256
        ]
       }
      },
      {
       "class": "Conv2d",
       "kargs": {
        "bias": false,
        "in_channels": 1,
        "kernel_size": [
         1,
         7
        ],
        "out_channels": 256,
        "padding": [
         0,
         3
        ]
       }
      },
      {
       "class": "ReLU",
       "kargs": {
        "inplace": true
       }
      },
      {
       "class": "BatchNorm2d",
       "kargs": {
        "num_features": 256
       }
      },
      {
       "class": "Conv2d",
       "kargs": {
        "bias": true,
        "in_channels": 256,
        "kernel_size": [
         2,
         7
        ],
        "out_channels": 80,
        "padding": [
         0,
         3
        ]
       }
      },
      {
       "class": "ReLU",
       "kargs": {
        "inplace": true
       }
      },
      {
       "class": "BatchNorm2d",
       "kargs": {
        "num_features": 80
       }
      },
      {
       "class": "Flatten",
       "kargs": {}
      },
      {
       "class": "Linear",
       "kargs": {
        "in_features": 20480,
        "out_features": 256
       }
      },
      {
       "class": "ReLU",
       "kargs": {
        "inplace": true
       }
      },
      {
       "class": "BatchNorm1d",
       "kargs": {
        "num_features": 256
       }
      },
      {
       "class": "Linear",
       "kargs": {
        "in_features": 256,
        "out_features": 256
       }
      }
     ],
     "x_transforms_source": [
      "unit_power"
     ],
     "x_transforms_target": [
      "unit_power"
     ]
    }
   },
   "start_time": "2022-03-22T13:58:04.001208",
   "version": "2.3.4"
  }
 },
 "nbformat": 4,
 "nbformat_minor": 5
}