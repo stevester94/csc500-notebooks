{
 "cells": [
  {
   "cell_type": "markdown",
   "id": "9fea5f46",
   "metadata": {
    "papermill": {
     "duration": 0.014517,
     "end_time": "2022-03-22T09:37:11.208247",
     "exception": false,
     "start_time": "2022-03-22T09:37:11.193730",
     "status": "completed"
    },
    "tags": []
   },
   "source": [
    "# PTN Template\n",
    "This notebook serves as a template for single dataset PTN experiments  \n",
    "It can be run on its own by setting STANDALONE to True (do a find for \"STANDALONE\" to see where)  \n",
    "But it is intended to be executed as part of a *papermill.py script. See any of the   \n",
    "experimentes with a papermill script to get started with that workflow.  "
   ]
  },
  {
   "cell_type": "code",
   "execution_count": 1,
   "id": "0902182a",
   "metadata": {
    "execution": {
     "iopub.execute_input": "2022-03-22T09:37:11.239005Z",
     "iopub.status.busy": "2022-03-22T09:37:11.238487Z",
     "iopub.status.idle": "2022-03-22T09:37:12.262732Z",
     "shell.execute_reply": "2022-03-22T09:37:12.262398Z"
    },
    "papermill": {
     "duration": 1.045041,
     "end_time": "2022-03-22T09:37:12.262800",
     "exception": false,
     "start_time": "2022-03-22T09:37:11.217759",
     "status": "completed"
    },
    "tags": []
   },
   "outputs": [],
   "source": [
    "%load_ext autoreload\n",
    "%autoreload 2\n",
    "%matplotlib inline\n",
    "\n",
    "    \n",
    "import os, json, sys, time, random\n",
    "import numpy as np\n",
    "import torch\n",
    "from torch.optim import Adam\n",
    "from  easydict import EasyDict\n",
    "import matplotlib.pyplot as plt\n",
    "\n",
    "from steves_models.steves_ptn import Steves_Prototypical_Network\n",
    "\n",
    "from steves_utils.lazy_iterable_wrapper import Lazy_Iterable_Wrapper\n",
    "from steves_utils.iterable_aggregator import Iterable_Aggregator\n",
    "from steves_utils.ptn_train_eval_test_jig import  PTN_Train_Eval_Test_Jig\n",
    "from steves_utils.torch_sequential_builder import build_sequential\n",
    "from steves_utils.torch_utils import get_dataset_metrics, ptn_confusion_by_domain_over_dataloader\n",
    "from steves_utils.utils_v2 import (per_domain_accuracy_from_confusion, get_datasets_base_path)\n",
    "from steves_utils.PTN.utils import independent_accuracy_assesment\n",
    "\n",
    "from steves_utils.stratified_dataset.episodic_accessor import Episodic_Accessor_Factory\n",
    "\n",
    "from steves_utils.ptn_do_report import (\n",
    "    get_loss_curve,\n",
    "    get_results_table,\n",
    "    get_parameters_table,\n",
    "    get_domain_accuracies,\n",
    ")\n",
    "\n",
    "from steves_utils.transforms import get_chained_transform"
   ]
  },
  {
   "cell_type": "markdown",
   "id": "41c840b4",
   "metadata": {
    "papermill": {
     "duration": 0.011793,
     "end_time": "2022-03-22T09:37:12.289037",
     "exception": false,
     "start_time": "2022-03-22T09:37:12.277244",
     "status": "completed"
    },
    "tags": []
   },
   "source": [
    "# Required Parameters\n",
    "These are allowed parameters, not defaults\n",
    "Each of these values need to be present in the injected parameters (the notebook will raise an exception if they are not present)\n",
    "\n",
    "Papermill uses the cell tag \"parameters\" to inject the real parameters below this cell.\n",
    "Enable tags to see what I mean"
   ]
  },
  {
   "cell_type": "code",
   "execution_count": 2,
   "id": "fd44eb83",
   "metadata": {
    "execution": {
     "iopub.execute_input": "2022-03-22T09:37:12.312700Z",
     "iopub.status.busy": "2022-03-22T09:37:12.311100Z",
     "iopub.status.idle": "2022-03-22T09:37:12.326591Z",
     "shell.execute_reply": "2022-03-22T09:37:12.326107Z"
    },
    "papermill": {
     "duration": 0.028348,
     "end_time": "2022-03-22T09:37:12.326691",
     "exception": false,
     "start_time": "2022-03-22T09:37:12.298343",
     "status": "completed"
    },
    "tags": []
   },
   "outputs": [],
   "source": [
    "required_parameters = {\n",
    "    \"experiment_name\",\n",
    "    \"lr\",\n",
    "    \"device\",\n",
    "    \"seed\",\n",
    "    \"dataset_seed\",\n",
    "    \"labels_source\",\n",
    "    \"labels_target\",\n",
    "    \"domains_source\",\n",
    "    \"domains_target\",\n",
    "    \"num_examples_per_domain_per_label_source\",\n",
    "    \"num_examples_per_domain_per_label_target\",\n",
    "    \"n_shot\",\n",
    "    \"n_way\",\n",
    "    \"n_query\",\n",
    "    \"train_k_factor\",\n",
    "    \"val_k_factor\",\n",
    "    \"test_k_factor\",\n",
    "    \"n_epoch\",\n",
    "    \"patience\",\n",
    "    \"criteria_for_best\",\n",
    "    \"x_transforms_source\",\n",
    "    \"x_transforms_target\",\n",
    "    \"episode_transforms_source\",\n",
    "    \"episode_transforms_target\",\n",
    "    \"pickle_name\",\n",
    "    \"x_net\",\n",
    "    \"NUM_LOGS_PER_EPOCH\",\n",
    "    \"BEST_MODEL_PATH\",\n",
    "    \"torch_default_dtype\"\n",
    "}"
   ]
  },
  {
   "cell_type": "code",
   "execution_count": 3,
   "id": "fa3f0049",
   "metadata": {
    "execution": {
     "iopub.execute_input": "2022-03-22T09:37:12.356285Z",
     "iopub.status.busy": "2022-03-22T09:37:12.355998Z",
     "iopub.status.idle": "2022-03-22T09:37:12.368776Z",
     "shell.execute_reply": "2022-03-22T09:37:12.368288Z"
    },
    "papermill": {
     "duration": 0.02792,
     "end_time": "2022-03-22T09:37:12.368878",
     "exception": false,
     "start_time": "2022-03-22T09:37:12.340958",
     "status": "completed"
    },
    "tags": [
     "parameters"
    ]
   },
   "outputs": [],
   "source": [
    "\n",
    "\n",
    "standalone_parameters = {}\n",
    "standalone_parameters[\"experiment_name\"] = \"STANDALONE PTN\"\n",
    "standalone_parameters[\"lr\"] = 0.0001\n",
    "standalone_parameters[\"device\"] = \"cuda\"\n",
    "\n",
    "standalone_parameters[\"seed\"] = 1337\n",
    "standalone_parameters[\"dataset_seed\"] = 1337\n",
    "\n",
    "\n",
    "standalone_parameters[\"num_examples_per_domain_per_label_source\"]=100\n",
    "standalone_parameters[\"num_examples_per_domain_per_label_target\"]=100\n",
    "\n",
    "standalone_parameters[\"n_shot\"] = 3\n",
    "standalone_parameters[\"n_query\"]  = 2\n",
    "standalone_parameters[\"train_k_factor\"] = 1\n",
    "standalone_parameters[\"val_k_factor\"] = 2\n",
    "standalone_parameters[\"test_k_factor\"] = 2\n",
    "\n",
    "\n",
    "standalone_parameters[\"n_epoch\"] = 100\n",
    "\n",
    "standalone_parameters[\"patience\"] = 10\n",
    "standalone_parameters[\"criteria_for_best\"] = \"target_accuracy\"\n",
    "\n",
    "standalone_parameters[\"x_transforms_source\"] = [\"unit_power\"]\n",
    "standalone_parameters[\"x_transforms_target\"] = [\"unit_power\"]\n",
    "standalone_parameters[\"episode_transforms_source\"] = []\n",
    "standalone_parameters[\"episode_transforms_target\"] = []\n",
    "\n",
    "standalone_parameters[\"torch_default_dtype\"] = \"torch.float32\" \n",
    "\n",
    "\n",
    "\n",
    "standalone_parameters[\"x_net\"] =     [\n",
    "    {\"class\": \"nnReshape\", \"kargs\": {\"shape\":[-1, 1, 2, 256]}},\n",
    "    {\"class\": \"Conv2d\", \"kargs\": { \"in_channels\":1, \"out_channels\":256, \"kernel_size\":(1,7), \"bias\":False, \"padding\":(0,3), },},\n",
    "    {\"class\": \"ReLU\", \"kargs\": {\"inplace\": True}},\n",
    "    {\"class\": \"BatchNorm2d\", \"kargs\": {\"num_features\":256}},\n",
    "\n",
    "    {\"class\": \"Conv2d\", \"kargs\": { \"in_channels\":256, \"out_channels\":80, \"kernel_size\":(2,7), \"bias\":True, \"padding\":(0,3), },},\n",
    "    {\"class\": \"ReLU\", \"kargs\": {\"inplace\": True}},\n",
    "    {\"class\": \"BatchNorm2d\", \"kargs\": {\"num_features\":80}},\n",
    "    {\"class\": \"Flatten\", \"kargs\": {}},\n",
    "\n",
    "    {\"class\": \"Linear\", \"kargs\": {\"in_features\": 80*256, \"out_features\": 256}}, # 80 units per IQ pair\n",
    "    {\"class\": \"ReLU\", \"kargs\": {\"inplace\": True}},\n",
    "    {\"class\": \"BatchNorm1d\", \"kargs\": {\"num_features\":256}},\n",
    "\n",
    "    {\"class\": \"Linear\", \"kargs\": {\"in_features\": 256, \"out_features\": 256}},\n",
    "]\n",
    "\n",
    "# Parameters relevant to results\n",
    "# These parameters will basically never need to change\n",
    "standalone_parameters[\"NUM_LOGS_PER_EPOCH\"] = 10\n",
    "standalone_parameters[\"BEST_MODEL_PATH\"] = \"./best_model.pth\"\n",
    "\n",
    "# uncomment for CORES dataset\n",
    "from steves_utils.CORES.utils import (\n",
    "    ALL_NODES,\n",
    "    ALL_NODES_MINIMUM_1000_EXAMPLES,\n",
    "    ALL_DAYS\n",
    ")\n",
    "\n",
    "\n",
    "standalone_parameters[\"labels_source\"] = ALL_NODES\n",
    "standalone_parameters[\"labels_target\"] = ALL_NODES\n",
    "\n",
    "standalone_parameters[\"domains_source\"] = [1]\n",
    "standalone_parameters[\"domains_target\"] = [2,3,4,5]\n",
    "\n",
    "standalone_parameters[\"pickle_name\"] = \"cores.stratified_ds.2022A.pkl\"\n",
    "\n",
    "\n",
    "# Uncomment these for ORACLE dataset\n",
    "# from steves_utils.ORACLE.utils_v2 import (\n",
    "#     ALL_DISTANCES_FEET,\n",
    "#     ALL_RUNS,\n",
    "#     ALL_SERIAL_NUMBERS,\n",
    "# )\n",
    "# standalone_parameters[\"labels_source\"] = ALL_SERIAL_NUMBERS\n",
    "# standalone_parameters[\"labels_target\"] = ALL_SERIAL_NUMBERS\n",
    "# standalone_parameters[\"domains_source\"] = [8,20, 38,50]\n",
    "# standalone_parameters[\"domains_target\"] = [14, 26, 32, 44, 56]\n",
    "# standalone_parameters[\"pickle_name\"] = \"oracle.frame_indexed.stratified_ds.2022A.pkl\"\n",
    "# standalone_parameters[\"num_examples_per_domain_per_label_source\"]=1000\n",
    "# standalone_parameters[\"num_examples_per_domain_per_label_target\"]=1000\n",
    "\n",
    "# Uncomment these for Metahan dataset\n",
    "# standalone_parameters[\"labels_source\"] = list(range(19))\n",
    "# standalone_parameters[\"labels_target\"] = list(range(19))\n",
    "# standalone_parameters[\"domains_source\"] = [0]\n",
    "# standalone_parameters[\"domains_target\"] = [1]\n",
    "# standalone_parameters[\"pickle_name\"] = \"metehan.stratified_ds.2022A.pkl\"\n",
    "# standalone_parameters[\"n_way\"]  = len(standalone_parameters[\"labels_source\"])\n",
    "# standalone_parameters[\"num_examples_per_domain_per_label_source\"]=200\n",
    "# standalone_parameters[\"num_examples_per_domain_per_label_target\"]=100\n",
    "\n",
    "\n",
    "standalone_parameters[\"n_way\"]  = len(standalone_parameters[\"labels_source\"])"
   ]
  },
  {
   "cell_type": "code",
   "execution_count": 4,
   "id": "239247d0",
   "metadata": {
    "execution": {
     "iopub.execute_input": "2022-03-22T09:37:12.397974Z",
     "iopub.status.busy": "2022-03-22T09:37:12.397692Z",
     "iopub.status.idle": "2022-03-22T09:37:12.409724Z",
     "shell.execute_reply": "2022-03-22T09:37:12.409243Z"
    },
    "papermill": {
     "duration": 0.025995,
     "end_time": "2022-03-22T09:37:12.409824",
     "exception": false,
     "start_time": "2022-03-22T09:37:12.383829",
     "status": "completed"
    },
    "tags": [
     "injected-parameters"
    ]
   },
   "outputs": [],
   "source": [
    "# Parameters\n",
    "parameters = {\n",
    "    \"experiment_name\": \"tuned_1v2:oracle.run1\",\n",
    "    \"device\": \"cuda\",\n",
    "    \"lr\": 0.0001,\n",
    "    \"labels_source\": [\n",
    "        \"3123D52\",\n",
    "        \"3123D65\",\n",
    "        \"3123D79\",\n",
    "        \"3123D80\",\n",
    "        \"3123D54\",\n",
    "        \"3123D70\",\n",
    "        \"3123D7B\",\n",
    "        \"3123D89\",\n",
    "        \"3123D58\",\n",
    "        \"3123D76\",\n",
    "        \"3123D7D\",\n",
    "        \"3123EFE\",\n",
    "        \"3123D64\",\n",
    "        \"3123D78\",\n",
    "        \"3123D7E\",\n",
    "        \"3124E4A\",\n",
    "    ],\n",
    "    \"labels_target\": [\n",
    "        \"3123D52\",\n",
    "        \"3123D65\",\n",
    "        \"3123D79\",\n",
    "        \"3123D80\",\n",
    "        \"3123D54\",\n",
    "        \"3123D70\",\n",
    "        \"3123D7B\",\n",
    "        \"3123D89\",\n",
    "        \"3123D58\",\n",
    "        \"3123D76\",\n",
    "        \"3123D7D\",\n",
    "        \"3123EFE\",\n",
    "        \"3123D64\",\n",
    "        \"3123D78\",\n",
    "        \"3123D7E\",\n",
    "        \"3124E4A\",\n",
    "    ],\n",
    "    \"episode_transforms_source\": [],\n",
    "    \"episode_transforms_target\": [],\n",
    "    \"domains_source\": [8, 32, 50],\n",
    "    \"domains_target\": [14, 20, 26, 38, 44],\n",
    "    \"num_examples_per_domain_per_label_source\": -1,\n",
    "    \"num_examples_per_domain_per_label_target\": -1,\n",
    "    \"n_shot\": 3,\n",
    "    \"n_way\": 16,\n",
    "    \"n_query\": 2,\n",
    "    \"train_k_factor\": 3,\n",
    "    \"val_k_factor\": 2,\n",
    "    \"test_k_factor\": 2,\n",
    "    \"torch_default_dtype\": \"torch.float32\",\n",
    "    \"n_epoch\": 50,\n",
    "    \"patience\": 3,\n",
    "    \"criteria_for_best\": \"target_accuracy\",\n",
    "    \"x_net\": [\n",
    "        {\"class\": \"nnReshape\", \"kargs\": {\"shape\": [-1, 1, 2, 256]}},\n",
    "        {\n",
    "            \"class\": \"Conv2d\",\n",
    "            \"kargs\": {\n",
    "                \"in_channels\": 1,\n",
    "                \"out_channels\": 256,\n",
    "                \"kernel_size\": [1, 7],\n",
    "                \"bias\": False,\n",
    "                \"padding\": [0, 3],\n",
    "            },\n",
    "        },\n",
    "        {\"class\": \"ReLU\", \"kargs\": {\"inplace\": True}},\n",
    "        {\"class\": \"BatchNorm2d\", \"kargs\": {\"num_features\": 256}},\n",
    "        {\n",
    "            \"class\": \"Conv2d\",\n",
    "            \"kargs\": {\n",
    "                \"in_channels\": 256,\n",
    "                \"out_channels\": 80,\n",
    "                \"kernel_size\": [2, 7],\n",
    "                \"bias\": True,\n",
    "                \"padding\": [0, 3],\n",
    "            },\n",
    "        },\n",
    "        {\"class\": \"ReLU\", \"kargs\": {\"inplace\": True}},\n",
    "        {\"class\": \"BatchNorm2d\", \"kargs\": {\"num_features\": 80}},\n",
    "        {\"class\": \"Flatten\", \"kargs\": {}},\n",
    "        {\"class\": \"Linear\", \"kargs\": {\"in_features\": 20480, \"out_features\": 256}},\n",
    "        {\"class\": \"ReLU\", \"kargs\": {\"inplace\": True}},\n",
    "        {\"class\": \"BatchNorm1d\", \"kargs\": {\"num_features\": 256}},\n",
    "        {\"class\": \"Linear\", \"kargs\": {\"in_features\": 256, \"out_features\": 256}},\n",
    "    ],\n",
    "    \"NUM_LOGS_PER_EPOCH\": 10,\n",
    "    \"BEST_MODEL_PATH\": \"./best_model.pth\",\n",
    "    \"pickle_name\": \"oracle.Run1_10kExamples_stratified_ds.2022A.pkl\",\n",
    "    \"x_transforms_source\": [\"unit_mag\"],\n",
    "    \"x_transforms_target\": [\"unit_mag\"],\n",
    "    \"dataset_seed\": 7,\n",
    "    \"seed\": 7,\n",
    "}\n"
   ]
  },
  {
   "cell_type": "code",
   "execution_count": 5,
   "id": "8fa1cc33",
   "metadata": {
    "execution": {
     "iopub.execute_input": "2022-03-22T09:37:12.436145Z",
     "iopub.status.busy": "2022-03-22T09:37:12.435894Z",
     "iopub.status.idle": "2022-03-22T09:37:12.447604Z",
     "shell.execute_reply": "2022-03-22T09:37:12.447241Z"
    },
    "papermill": {
     "duration": 0.023505,
     "end_time": "2022-03-22T09:37:12.447680",
     "exception": false,
     "start_time": "2022-03-22T09:37:12.424175",
     "status": "completed"
    },
    "tags": []
   },
   "outputs": [],
   "source": [
    "# Set this to True if you want to run this template directly\n",
    "STANDALONE = False\n",
    "if STANDALONE:\n",
    "    print(\"parameters not injected, running with standalone_parameters\")\n",
    "    parameters = standalone_parameters\n",
    "\n",
    "if not 'parameters' in locals() and not 'parameters' in globals():\n",
    "    raise Exception(\"Parameter injection failed\")\n",
    "\n",
    "#Use an easy dict for all the parameters\n",
    "p = EasyDict(parameters)\n",
    "\n",
    "supplied_keys = set(p.keys())\n",
    "\n",
    "if  supplied_keys != required_parameters:\n",
    "    print(\"Parameters are incorrect\")\n",
    "    if len(supplied_keys - required_parameters)>0: print(\"Shouldn't have:\", str(supplied_keys - required_parameters))\n",
    "    if len(required_parameters - supplied_keys)>0: print(\"Need to have:\", str(required_parameters - supplied_keys))\n",
    "    raise RuntimeError(\"Parameters are incorrect\")\n",
    "\n"
   ]
  },
  {
   "cell_type": "code",
   "execution_count": 6,
   "id": "3a028d58",
   "metadata": {
    "execution": {
     "iopub.execute_input": "2022-03-22T09:37:12.474599Z",
     "iopub.status.busy": "2022-03-22T09:37:12.474353Z",
     "iopub.status.idle": "2022-03-22T09:37:12.485855Z",
     "shell.execute_reply": "2022-03-22T09:37:12.485437Z"
    },
    "papermill": {
     "duration": 0.023324,
     "end_time": "2022-03-22T09:37:12.485954",
     "exception": false,
     "start_time": "2022-03-22T09:37:12.462630",
     "status": "completed"
    },
    "tags": []
   },
   "outputs": [],
   "source": [
    "###################################\n",
    "# Set the RNGs and make it all deterministic\n",
    "###################################\n",
    "np.random.seed(p.seed)\n",
    "random.seed(p.seed)\n",
    "torch.manual_seed(p.seed)\n",
    "\n",
    "torch.use_deterministic_algorithms(True) "
   ]
  },
  {
   "cell_type": "code",
   "execution_count": 7,
   "id": "b691acf6",
   "metadata": {
    "execution": {
     "iopub.execute_input": "2022-03-22T09:37:12.512629Z",
     "iopub.status.busy": "2022-03-22T09:37:12.512283Z",
     "iopub.status.idle": "2022-03-22T09:37:12.528504Z",
     "shell.execute_reply": "2022-03-22T09:37:12.528134Z"
    },
    "papermill": {
     "duration": 0.027004,
     "end_time": "2022-03-22T09:37:12.528600",
     "exception": false,
     "start_time": "2022-03-22T09:37:12.501596",
     "status": "completed"
    },
    "tags": []
   },
   "outputs": [],
   "source": [
    "###########################################\n",
    "# The stratified datasets honor this\n",
    "###########################################\n",
    "torch.set_default_dtype(eval(p.torch_default_dtype))"
   ]
  },
  {
   "cell_type": "code",
   "execution_count": 8,
   "id": "b5fba671",
   "metadata": {
    "execution": {
     "iopub.execute_input": "2022-03-22T09:37:12.565066Z",
     "iopub.status.busy": "2022-03-22T09:37:12.555297Z",
     "iopub.status.idle": "2022-03-22T09:37:12.596911Z",
     "shell.execute_reply": "2022-03-22T09:37:12.596474Z"
    },
    "papermill": {
     "duration": 0.053104,
     "end_time": "2022-03-22T09:37:12.597016",
     "exception": false,
     "start_time": "2022-03-22T09:37:12.543912",
     "status": "completed"
    },
    "tags": []
   },
   "outputs": [],
   "source": [
    "###################################\n",
    "# Build the network(s)\n",
    "# Note: It's critical to do this AFTER setting the RNG\n",
    "# (This is due to the randomized initial weights)\n",
    "###################################\n",
    "x_net = build_sequential(p.x_net)"
   ]
  },
  {
   "cell_type": "code",
   "execution_count": 9,
   "id": "5d7e61cc",
   "metadata": {
    "execution": {
     "iopub.execute_input": "2022-03-22T09:37:12.624861Z",
     "iopub.status.busy": "2022-03-22T09:37:12.624613Z",
     "iopub.status.idle": "2022-03-22T09:37:12.638249Z",
     "shell.execute_reply": "2022-03-22T09:37:12.637935Z"
    },
    "papermill": {
     "duration": 0.025434,
     "end_time": "2022-03-22T09:37:12.638323",
     "exception": false,
     "start_time": "2022-03-22T09:37:12.612889",
     "status": "completed"
    },
    "tags": []
   },
   "outputs": [],
   "source": [
    "start_time_secs = time.time()"
   ]
  },
  {
   "cell_type": "code",
   "execution_count": 10,
   "id": "fd5442bc",
   "metadata": {
    "execution": {
     "iopub.execute_input": "2022-03-22T09:37:12.668937Z",
     "iopub.status.busy": "2022-03-22T09:37:12.663892Z",
     "iopub.status.idle": "2022-03-22T09:38:30.957361Z",
     "shell.execute_reply": "2022-03-22T09:38:30.957745Z"
    },
    "papermill": {
     "duration": 78.305326,
     "end_time": "2022-03-22T09:38:30.957877",
     "exception": false,
     "start_time": "2022-03-22T09:37:12.652551",
     "status": "completed"
    },
    "tags": []
   },
   "outputs": [],
   "source": [
    "###################################\n",
    "# Build the dataset\n",
    "###################################\n",
    "\n",
    "if p.x_transforms_source == []: x_transform_source = None\n",
    "else: x_transform_source = get_chained_transform(p.x_transforms_source) \n",
    "\n",
    "if p.x_transforms_target == []: x_transform_target = None\n",
    "else: x_transform_target = get_chained_transform(p.x_transforms_target)\n",
    "\n",
    "if p.episode_transforms_source == []: episode_transform_source = None\n",
    "else: raise Exception(\"episode_transform_source not implemented\")\n",
    "\n",
    "if p.episode_transforms_target == []: episode_transform_target = None\n",
    "else: raise Exception(\"episode_transform_target not implemented\")\n",
    "\n",
    "\n",
    "eaf_source = Episodic_Accessor_Factory(\n",
    "    labels=p.labels_source,\n",
    "    domains=p.domains_source,\n",
    "    num_examples_per_domain_per_label=p.num_examples_per_domain_per_label_source,\n",
    "    iterator_seed=p.seed,\n",
    "    dataset_seed=p.dataset_seed,\n",
    "    n_shot=p.n_shot,\n",
    "    n_way=p.n_way,\n",
    "    n_query=p.n_query,\n",
    "    train_val_test_k_factors=(p.train_k_factor,p.val_k_factor,p.test_k_factor),\n",
    "    pickle_path=os.path.join(get_datasets_base_path(), p.pickle_name),\n",
    "    x_transform_func=x_transform_source,\n",
    "    example_transform_func=episode_transform_source,\n",
    "    \n",
    ")\n",
    "train_original_source, val_original_source, test_original_source = eaf_source.get_train(), eaf_source.get_val(), eaf_source.get_test()\n",
    "\n",
    "\n",
    "eaf_target = Episodic_Accessor_Factory(\n",
    "    labels=p.labels_target,\n",
    "    domains=p.domains_target,\n",
    "    num_examples_per_domain_per_label=p.num_examples_per_domain_per_label_target,\n",
    "    iterator_seed=p.seed,\n",
    "    dataset_seed=p.dataset_seed,\n",
    "    n_shot=p.n_shot,\n",
    "    n_way=p.n_way,\n",
    "    n_query=p.n_query,\n",
    "    train_val_test_k_factors=(p.train_k_factor,p.val_k_factor,p.test_k_factor),\n",
    "    pickle_path=os.path.join(get_datasets_base_path(), p.pickle_name),\n",
    "    x_transform_func=x_transform_target,\n",
    "    example_transform_func=episode_transform_target,\n",
    ")\n",
    "train_original_target, val_original_target, test_original_target = eaf_target.get_train(), eaf_target.get_val(), eaf_target.get_test()\n",
    "\n",
    "\n",
    "transform_lambda = lambda ex: ex[1] # Original is (<domain>, <episode>) so we strip down to episode only\n",
    "\n",
    "train_processed_source = Lazy_Iterable_Wrapper(train_original_source, transform_lambda)\n",
    "val_processed_source   = Lazy_Iterable_Wrapper(val_original_source, transform_lambda)\n",
    "test_processed_source  = Lazy_Iterable_Wrapper(test_original_source, transform_lambda)\n",
    "\n",
    "train_processed_target = Lazy_Iterable_Wrapper(train_original_target, transform_lambda)\n",
    "val_processed_target   = Lazy_Iterable_Wrapper(val_original_target, transform_lambda)\n",
    "test_processed_target  = Lazy_Iterable_Wrapper(test_original_target, transform_lambda)\n",
    "\n",
    "datasets = EasyDict({\n",
    "    \"source\": {\n",
    "        \"original\": {\"train\":train_original_source, \"val\":val_original_source, \"test\":test_original_source},\n",
    "        \"processed\": {\"train\":train_processed_source, \"val\":val_processed_source, \"test\":test_processed_source}\n",
    "    },\n",
    "    \"target\": {\n",
    "        \"original\": {\"train\":train_original_target, \"val\":val_original_target, \"test\":test_original_target},\n",
    "        \"processed\": {\"train\":train_processed_target, \"val\":val_processed_target, \"test\":test_processed_target}\n",
    "    },\n",
    "})"
   ]
  },
  {
   "cell_type": "code",
   "execution_count": 11,
   "id": "296189d9",
   "metadata": {
    "execution": {
     "iopub.execute_input": "2022-03-22T09:38:30.986376Z",
     "iopub.status.busy": "2022-03-22T09:38:30.986122Z",
     "iopub.status.idle": "2022-03-22T09:38:32.862136Z",
     "shell.execute_reply": "2022-03-22T09:38:32.862433Z"
    },
    "papermill": {
     "duration": 1.889954,
     "end_time": "2022-03-22T09:38:32.862537",
     "exception": false,
     "start_time": "2022-03-22T09:38:30.972583",
     "status": "completed"
    },
    "tags": []
   },
   "outputs": [
    {
     "name": "stdout",
     "output_type": "stream",
     "text": [
      "Visually inspect these to see if they line up with expected values given the transforms\n",
      "x_transforms_source ['unit_mag']\n",
      "x_transforms_target ['unit_mag']\n",
      "Average magnitude, source: 1.0\n",
      "Average power, source: 1.0954568\n"
     ]
    },
    {
     "name": "stdout",
     "output_type": "stream",
     "text": [
      "Average magnitude, target: 1.0\n",
      "Average power, target: 1.2488899\n"
     ]
    }
   ],
   "source": [
    "# Some quick unit tests on the data\n",
    "from steves_utils.transforms import get_average_power, get_average_magnitude\n",
    "\n",
    "q_x, q_y, s_x, s_y, truth = next(iter(train_processed_source))\n",
    "\n",
    "assert q_x.dtype == eval(p.torch_default_dtype)\n",
    "assert s_x.dtype == eval(p.torch_default_dtype)\n",
    "\n",
    "print(\"Visually inspect these to see if they line up with expected values given the transforms\")\n",
    "print('x_transforms_source', p.x_transforms_source)\n",
    "print('x_transforms_target', p.x_transforms_target)\n",
    "print(\"Average magnitude, source:\", get_average_magnitude(q_x[0].numpy()))\n",
    "print(\"Average power, source:\", get_average_power(q_x[0].numpy()))\n",
    "\n",
    "q_x, q_y, s_x, s_y, truth = next(iter(train_processed_target))\n",
    "print(\"Average magnitude, target:\", get_average_magnitude(q_x[0].numpy()))\n",
    "print(\"Average power, target:\", get_average_power(q_x[0].numpy()))\n"
   ]
  },
  {
   "cell_type": "code",
   "execution_count": 12,
   "id": "bbdacba1",
   "metadata": {
    "execution": {
     "iopub.execute_input": "2022-03-22T09:38:32.889023Z",
     "iopub.status.busy": "2022-03-22T09:38:32.888769Z",
     "iopub.status.idle": "2022-03-22T09:38:32.950835Z",
     "shell.execute_reply": "2022-03-22T09:38:32.950466Z"
    },
    "papermill": {
     "duration": 0.074756,
     "end_time": "2022-03-22T09:38:32.950914",
     "exception": false,
     "start_time": "2022-03-22T09:38:32.876158",
     "status": "completed"
    },
    "tags": []
   },
   "outputs": [
    {
     "name": "stdout",
     "output_type": "stream",
     "text": [
      "(2, 256)\n"
     ]
    }
   ],
   "source": [
    "###################################\n",
    "# Build the model\n",
    "###################################\n",
    "model = Steves_Prototypical_Network(x_net, device=p.device, x_shape=(2,256))\n",
    "optimizer = Adam(params=model.parameters(), lr=p.lr)"
   ]
  },
  {
   "cell_type": "code",
   "execution_count": 13,
   "id": "22b39ac5",
   "metadata": {
    "execution": {
     "iopub.execute_input": "2022-03-22T09:38:32.978479Z",
     "iopub.status.busy": "2022-03-22T09:38:32.978153Z",
     "iopub.status.idle": "2022-03-22T10:37:06.077421Z",
     "shell.execute_reply": "2022-03-22T10:37:06.077195Z"
    },
    "papermill": {
     "duration": 3513.112742,
     "end_time": "2022-03-22T10:37:06.077478",
     "exception": false,
     "start_time": "2022-03-22T09:38:32.964736",
     "status": "completed"
    },
    "tags": []
   },
   "outputs": [
    {
     "name": "stdout",
     "output_type": "stream",
     "text": [
      "epoch: 1, [batch: 1 / 12600], examples_per_second: 26.6630, train_label_loss: 2.7718, \n"
     ]
    },
    {
     "name": "stdout",
     "output_type": "stream",
     "text": [
      "epoch: 1, [batch: 1260 / 12600], examples_per_second: 3216.8489, train_label_loss: 1.9321, \n"
     ]
    },
    {
     "name": "stdout",
     "output_type": "stream",
     "text": [
      "epoch: 1, [batch: 2520 / 12600], examples_per_second: 3212.9136, train_label_loss: 1.6758, \n"
     ]
    },
    {
     "name": "stdout",
     "output_type": "stream",
     "text": [
      "epoch: 1, [batch: 3780 / 12600], examples_per_second: 3206.9908, train_label_loss: 1.3069, \n"
     ]
    },
    {
     "name": "stdout",
     "output_type": "stream",
     "text": [
      "epoch: 1, [batch: 5040 / 12600], examples_per_second: 3197.0281, train_label_loss: 1.7394, \n"
     ]
    },
    {
     "name": "stdout",
     "output_type": "stream",
     "text": [
      "epoch: 1, [batch: 6300 / 12600], examples_per_second: 3211.8618, train_label_loss: 1.3220, \n"
     ]
    },
    {
     "name": "stdout",
     "output_type": "stream",
     "text": [
      "epoch: 1, [batch: 7560 / 12600], examples_per_second: 3214.7598, train_label_loss: 1.3421, \n"
     ]
    },
    {
     "name": "stdout",
     "output_type": "stream",
     "text": [
      "epoch: 1, [batch: 8820 / 12600], examples_per_second: 3199.6582, train_label_loss: 1.1944, \n"
     ]
    },
    {
     "name": "stdout",
     "output_type": "stream",
     "text": [
      "epoch: 1, [batch: 10080 / 12600], examples_per_second: 3208.0423, train_label_loss: 1.4542, \n"
     ]
    },
    {
     "name": "stdout",
     "output_type": "stream",
     "text": [
      "epoch: 1, [batch: 11340 / 12600], examples_per_second: 3210.8203, train_label_loss: 1.4309, \n"
     ]
    },
    {
     "name": "stdout",
     "output_type": "stream",
     "text": [
      "=============================================================\n",
      "epoch: 1, source_val_acc_label: 0.5430, target_val_acc_label: 0.4560, source_val_label_loss: 1.2349, target_val_label_loss: 1.4767, \n",
      "=============================================================\n"
     ]
    },
    {
     "name": "stdout",
     "output_type": "stream",
     "text": [
      "New best\n"
     ]
    },
    {
     "name": "stdout",
     "output_type": "stream",
     "text": [
      "epoch: 2, [batch: 1 / 12600], examples_per_second: 2.2603, train_label_loss: 1.5154, \n"
     ]
    },
    {
     "name": "stdout",
     "output_type": "stream",
     "text": [
      "epoch: 2, [batch: 1260 / 12600], examples_per_second: 3223.1423, train_label_loss: 0.9500, \n"
     ]
    },
    {
     "name": "stdout",
     "output_type": "stream",
     "text": [
      "epoch: 2, [batch: 2520 / 12600], examples_per_second: 3241.5740, train_label_loss: 0.8827, \n"
     ]
    },
    {
     "name": "stdout",
     "output_type": "stream",
     "text": [
      "epoch: 2, [batch: 3780 / 12600], examples_per_second: 3228.3044, train_label_loss: 0.9186, \n"
     ]
    },
    {
     "name": "stdout",
     "output_type": "stream",
     "text": [
      "epoch: 2, [batch: 5040 / 12600], examples_per_second: 3231.2268, train_label_loss: 1.0814, \n"
     ]
    },
    {
     "name": "stdout",
     "output_type": "stream",
     "text": [
      "epoch: 2, [batch: 6300 / 12600], examples_per_second: 3249.2532, train_label_loss: 0.8516, \n"
     ]
    },
    {
     "name": "stdout",
     "output_type": "stream",
     "text": [
      "epoch: 2, [batch: 7560 / 12600], examples_per_second: 3242.1115, train_label_loss: 0.8203, \n"
     ]
    },
    {
     "name": "stdout",
     "output_type": "stream",
     "text": [
      "epoch: 2, [batch: 8820 / 12600], examples_per_second: 3232.5744, train_label_loss: 0.6476, \n"
     ]
    },
    {
     "name": "stdout",
     "output_type": "stream",
     "text": [
      "epoch: 2, [batch: 10080 / 12600], examples_per_second: 3239.2326, train_label_loss: 0.7639, \n"
     ]
    },
    {
     "name": "stdout",
     "output_type": "stream",
     "text": [
      "epoch: 2, [batch: 11340 / 12600], examples_per_second: 3224.6060, train_label_loss: 0.5822, \n"
     ]
    },
    {
     "name": "stdout",
     "output_type": "stream",
     "text": [
      "=============================================================\n",
      "epoch: 2, source_val_acc_label: 0.6613, target_val_acc_label: 0.5779, source_val_label_loss: 0.9052, target_val_label_loss: 1.1192, \n",
      "=============================================================\n"
     ]
    },
    {
     "name": "stdout",
     "output_type": "stream",
     "text": [
      "New best\n"
     ]
    },
    {
     "name": "stdout",
     "output_type": "stream",
     "text": [
      "epoch: 3, [batch: 1 / 12600], examples_per_second: 2.2663, train_label_loss: 0.5151, \n"
     ]
    },
    {
     "name": "stdout",
     "output_type": "stream",
     "text": [
      "epoch: 3, [batch: 1260 / 12600], examples_per_second: 3237.2240, train_label_loss: 0.5154, \n"
     ]
    },
    {
     "name": "stdout",
     "output_type": "stream",
     "text": [
      "epoch: 3, [batch: 2520 / 12600], examples_per_second: 3235.4234, train_label_loss: 0.7821, \n"
     ]
    },
    {
     "name": "stdout",
     "output_type": "stream",
     "text": [
      "epoch: 3, [batch: 3780 / 12600], examples_per_second: 3222.0058, train_label_loss: 0.6915, \n"
     ]
    },
    {
     "name": "stdout",
     "output_type": "stream",
     "text": [
      "epoch: 3, [batch: 5040 / 12600], examples_per_second: 3230.1389, train_label_loss: 0.5939, \n"
     ]
    },
    {
     "name": "stdout",
     "output_type": "stream",
     "text": [
      "epoch: 3, [batch: 6300 / 12600], examples_per_second: 3240.6949, train_label_loss: 0.6996, \n"
     ]
    },
    {
     "name": "stdout",
     "output_type": "stream",
     "text": [
      "epoch: 3, [batch: 7560 / 12600], examples_per_second: 3241.1813, train_label_loss: 0.7106, \n"
     ]
    },
    {
     "name": "stdout",
     "output_type": "stream",
     "text": [
      "epoch: 3, [batch: 8820 / 12600], examples_per_second: 3237.5597, train_label_loss: 0.5455, \n"
     ]
    },
    {
     "name": "stdout",
     "output_type": "stream",
     "text": [
      "epoch: 3, [batch: 10080 / 12600], examples_per_second: 3236.5335, train_label_loss: 0.5187, \n"
     ]
    },
    {
     "name": "stdout",
     "output_type": "stream",
     "text": [
      "epoch: 3, [batch: 11340 / 12600], examples_per_second: 3225.2213, train_label_loss: 0.8149, \n"
     ]
    },
    {
     "name": "stdout",
     "output_type": "stream",
     "text": [
      "=============================================================\n",
      "epoch: 3, source_val_acc_label: 0.6843, target_val_acc_label: 0.6027, source_val_label_loss: 0.8813, target_val_label_loss: 1.0723, \n",
      "=============================================================\n"
     ]
    },
    {
     "name": "stdout",
     "output_type": "stream",
     "text": [
      "New best\n"
     ]
    },
    {
     "name": "stdout",
     "output_type": "stream",
     "text": [
      "epoch: 4, [batch: 1 / 12600], examples_per_second: 2.2651, train_label_loss: 0.5863, \n"
     ]
    },
    {
     "name": "stdout",
     "output_type": "stream",
     "text": [
      "epoch: 4, [batch: 1260 / 12600], examples_per_second: 3211.5951, train_label_loss: 0.6738, \n"
     ]
    },
    {
     "name": "stdout",
     "output_type": "stream",
     "text": [
      "epoch: 4, [batch: 2520 / 12600], examples_per_second: 3235.4226, train_label_loss: 0.5381, \n"
     ]
    },
    {
     "name": "stdout",
     "output_type": "stream",
     "text": [
      "epoch: 4, [batch: 3780 / 12600], examples_per_second: 3234.0897, train_label_loss: 0.6613, \n"
     ]
    },
    {
     "name": "stdout",
     "output_type": "stream",
     "text": [
      "epoch: 4, [batch: 5040 / 12600], examples_per_second: 3226.3515, train_label_loss: 0.8528, \n"
     ]
    },
    {
     "name": "stdout",
     "output_type": "stream",
     "text": [
      "epoch: 4, [batch: 6300 / 12600], examples_per_second: 3246.2937, train_label_loss: 0.6744, \n"
     ]
    },
    {
     "name": "stdout",
     "output_type": "stream",
     "text": [
      "epoch: 4, [batch: 7560 / 12600], examples_per_second: 3244.7396, train_label_loss: 0.6229, \n"
     ]
    },
    {
     "name": "stdout",
     "output_type": "stream",
     "text": [
      "epoch: 4, [batch: 8820 / 12600], examples_per_second: 3234.5342, train_label_loss: 0.7744, \n"
     ]
    },
    {
     "name": "stdout",
     "output_type": "stream",
     "text": [
      "epoch: 4, [batch: 10080 / 12600], examples_per_second: 3238.8582, train_label_loss: 0.4608, \n"
     ]
    },
    {
     "name": "stdout",
     "output_type": "stream",
     "text": [
      "epoch: 4, [batch: 11340 / 12600], examples_per_second: 3239.5173, train_label_loss: 0.6135, \n"
     ]
    },
    {
     "name": "stdout",
     "output_type": "stream",
     "text": [
      "=============================================================\n",
      "epoch: 4, source_val_acc_label: 0.6901, target_val_acc_label: 0.6109, source_val_label_loss: 0.8488, target_val_label_loss: 1.0486, \n",
      "=============================================================\n"
     ]
    },
    {
     "name": "stdout",
     "output_type": "stream",
     "text": [
      "New best\n"
     ]
    },
    {
     "name": "stdout",
     "output_type": "stream",
     "text": [
      "epoch: 5, [batch: 1 / 12600], examples_per_second: 2.2688, train_label_loss: 0.6314, \n"
     ]
    },
    {
     "name": "stdout",
     "output_type": "stream",
     "text": [
      "epoch: 5, [batch: 1260 / 12600], examples_per_second: 3225.9995, train_label_loss: 0.6424, \n"
     ]
    },
    {
     "name": "stdout",
     "output_type": "stream",
     "text": [
      "epoch: 5, [batch: 2520 / 12600], examples_per_second: 3239.2539, train_label_loss: 0.6825, \n"
     ]
    },
    {
     "name": "stdout",
     "output_type": "stream",
     "text": [
      "epoch: 5, [batch: 3780 / 12600], examples_per_second: 3236.7533, train_label_loss: 0.6051, \n"
     ]
    },
    {
     "name": "stdout",
     "output_type": "stream",
     "text": [
      "epoch: 5, [batch: 5040 / 12600], examples_per_second: 3227.4234, train_label_loss: 0.5545, \n"
     ]
    },
    {
     "name": "stdout",
     "output_type": "stream",
     "text": [
      "epoch: 5, [batch: 6300 / 12600], examples_per_second: 3240.5955, train_label_loss: 0.4008, \n"
     ]
    },
    {
     "name": "stdout",
     "output_type": "stream",
     "text": [
      "epoch: 5, [batch: 7560 / 12600], examples_per_second: 3242.8546, train_label_loss: 0.4561, \n"
     ]
    },
    {
     "name": "stdout",
     "output_type": "stream",
     "text": [
      "epoch: 5, [batch: 8820 / 12600], examples_per_second: 3232.8067, train_label_loss: 0.5036, \n"
     ]
    },
    {
     "name": "stdout",
     "output_type": "stream",
     "text": [
      "epoch: 5, [batch: 10080 / 12600], examples_per_second: 3240.0605, train_label_loss: 0.5111, \n"
     ]
    },
    {
     "name": "stdout",
     "output_type": "stream",
     "text": [
      "epoch: 5, [batch: 11340 / 12600], examples_per_second: 3240.9651, train_label_loss: 0.4927, \n"
     ]
    },
    {
     "name": "stdout",
     "output_type": "stream",
     "text": [
      "=============================================================\n",
      "epoch: 5, source_val_acc_label: 0.6798, target_val_acc_label: 0.6016, source_val_label_loss: 0.8608, target_val_label_loss: 1.0744, \n",
      "=============================================================\n"
     ]
    },
    {
     "name": "stdout",
     "output_type": "stream",
     "text": [
      "epoch: 6, [batch: 1 / 12600], examples_per_second: 2.2794, train_label_loss: 0.4895, \n"
     ]
    },
    {
     "name": "stdout",
     "output_type": "stream",
     "text": [
      "epoch: 6, [batch: 1260 / 12600], examples_per_second: 3217.9049, train_label_loss: 0.4426, \n"
     ]
    },
    {
     "name": "stdout",
     "output_type": "stream",
     "text": [
      "epoch: 6, [batch: 2520 / 12600], examples_per_second: 3226.6758, train_label_loss: 0.4751, \n"
     ]
    },
    {
     "name": "stdout",
     "output_type": "stream",
     "text": [
      "epoch: 6, [batch: 3780 / 12600], examples_per_second: 3226.0258, train_label_loss: 0.4993, \n"
     ]
    },
    {
     "name": "stdout",
     "output_type": "stream",
     "text": [
      "epoch: 6, [batch: 5040 / 12600], examples_per_second: 3225.8980, train_label_loss: 0.4808, \n"
     ]
    },
    {
     "name": "stdout",
     "output_type": "stream",
     "text": [
      "epoch: 6, [batch: 6300 / 12600], examples_per_second: 3239.6323, train_label_loss: 0.6618, \n"
     ]
    },
    {
     "name": "stdout",
     "output_type": "stream",
     "text": [
      "epoch: 6, [batch: 7560 / 12600], examples_per_second: 3241.8584, train_label_loss: 0.3400, \n"
     ]
    },
    {
     "name": "stdout",
     "output_type": "stream",
     "text": [
      "epoch: 6, [batch: 8820 / 12600], examples_per_second: 3217.7406, train_label_loss: 0.2580, \n"
     ]
    },
    {
     "name": "stdout",
     "output_type": "stream",
     "text": [
      "epoch: 6, [batch: 10080 / 12600], examples_per_second: 3231.6015, train_label_loss: 0.4764, \n"
     ]
    },
    {
     "name": "stdout",
     "output_type": "stream",
     "text": [
      "epoch: 6, [batch: 11340 / 12600], examples_per_second: 3238.9220, train_label_loss: 0.9952, \n"
     ]
    },
    {
     "name": "stdout",
     "output_type": "stream",
     "text": [
      "=============================================================\n",
      "epoch: 6, source_val_acc_label: 0.6947, target_val_acc_label: 0.6163, source_val_label_loss: 0.9017, target_val_label_loss: 1.0921, \n",
      "=============================================================\n"
     ]
    },
    {
     "name": "stdout",
     "output_type": "stream",
     "text": [
      "New best\n"
     ]
    },
    {
     "name": "stdout",
     "output_type": "stream",
     "text": [
      "epoch: 7, [batch: 1 / 12600], examples_per_second: 2.2663, train_label_loss: 0.2705, \n"
     ]
    },
    {
     "name": "stdout",
     "output_type": "stream",
     "text": [
      "epoch: 7, [batch: 1260 / 12600], examples_per_second: 3204.5199, train_label_loss: 0.4695, \n"
     ]
    },
    {
     "name": "stdout",
     "output_type": "stream",
     "text": [
      "epoch: 7, [batch: 2520 / 12600], examples_per_second: 3217.6456, train_label_loss: 0.4825, \n"
     ]
    },
    {
     "name": "stdout",
     "output_type": "stream",
     "text": [
      "epoch: 7, [batch: 3780 / 12600], examples_per_second: 3225.5405, train_label_loss: 0.5342, \n"
     ]
    },
    {
     "name": "stdout",
     "output_type": "stream",
     "text": [
      "epoch: 7, [batch: 5040 / 12600], examples_per_second: 3227.6252, train_label_loss: 0.3400, \n"
     ]
    },
    {
     "name": "stdout",
     "output_type": "stream",
     "text": [
      "epoch: 7, [batch: 6300 / 12600], examples_per_second: 3224.2783, train_label_loss: 0.6501, \n"
     ]
    },
    {
     "name": "stdout",
     "output_type": "stream",
     "text": [
      "epoch: 7, [batch: 7560 / 12600], examples_per_second: 3243.4520, train_label_loss: 0.7280, \n"
     ]
    },
    {
     "name": "stdout",
     "output_type": "stream",
     "text": [
      "epoch: 7, [batch: 8820 / 12600], examples_per_second: 3228.9101, train_label_loss: 0.4810, \n"
     ]
    },
    {
     "name": "stdout",
     "output_type": "stream",
     "text": [
      "epoch: 7, [batch: 10080 / 12600], examples_per_second: 3233.3106, train_label_loss: 0.4236, \n"
     ]
    },
    {
     "name": "stdout",
     "output_type": "stream",
     "text": [
      "epoch: 7, [batch: 11340 / 12600], examples_per_second: 3241.3563, train_label_loss: 0.2789, \n"
     ]
    },
    {
     "name": "stdout",
     "output_type": "stream",
     "text": [
      "=============================================================\n",
      "epoch: 7, source_val_acc_label: 0.6844, target_val_acc_label: 0.6056, source_val_label_loss: 0.9202, target_val_label_loss: 1.1268, \n",
      "=============================================================\n"
     ]
    },
    {
     "name": "stdout",
     "output_type": "stream",
     "text": [
      "epoch: 8, [batch: 1 / 12600], examples_per_second: 2.2847, train_label_loss: 0.4643, \n"
     ]
    },
    {
     "name": "stdout",
     "output_type": "stream",
     "text": [
      "epoch: 8, [batch: 1260 / 12600], examples_per_second: 3200.8575, train_label_loss: 0.4314, \n"
     ]
    },
    {
     "name": "stdout",
     "output_type": "stream",
     "text": [
      "epoch: 8, [batch: 2520 / 12600], examples_per_second: 3229.5089, train_label_loss: 0.4188, \n"
     ]
    },
    {
     "name": "stdout",
     "output_type": "stream",
     "text": [
      "epoch: 8, [batch: 3780 / 12600], examples_per_second: 3234.3524, train_label_loss: 0.4080, \n"
     ]
    },
    {
     "name": "stdout",
     "output_type": "stream",
     "text": [
      "epoch: 8, [batch: 5040 / 12600], examples_per_second: 3225.7583, train_label_loss: 0.3263, \n"
     ]
    },
    {
     "name": "stdout",
     "output_type": "stream",
     "text": [
      "epoch: 8, [batch: 6300 / 12600], examples_per_second: 3232.4198, train_label_loss: 0.5645, \n"
     ]
    },
    {
     "name": "stdout",
     "output_type": "stream",
     "text": [
      "epoch: 8, [batch: 7560 / 12600], examples_per_second: 3235.2762, train_label_loss: 0.4070, \n"
     ]
    },
    {
     "name": "stdout",
     "output_type": "stream",
     "text": [
      "epoch: 8, [batch: 8820 / 12600], examples_per_second: 3231.0115, train_label_loss: 0.2303, \n"
     ]
    },
    {
     "name": "stdout",
     "output_type": "stream",
     "text": [
      "epoch: 8, [batch: 10080 / 12600], examples_per_second: 3232.9186, train_label_loss: 0.3141, \n"
     ]
    },
    {
     "name": "stdout",
     "output_type": "stream",
     "text": [
      "epoch: 8, [batch: 11340 / 12600], examples_per_second: 3234.6442, train_label_loss: 0.3281, \n"
     ]
    },
    {
     "name": "stdout",
     "output_type": "stream",
     "text": [
      "=============================================================\n",
      "epoch: 8, source_val_acc_label: 0.6798, target_val_acc_label: 0.5952, source_val_label_loss: 0.9439, target_val_label_loss: 1.1780, \n",
      "=============================================================\n"
     ]
    },
    {
     "name": "stdout",
     "output_type": "stream",
     "text": [
      "epoch: 9, [batch: 1 / 12600], examples_per_second: 2.2716, train_label_loss: 0.5183, \n"
     ]
    },
    {
     "name": "stdout",
     "output_type": "stream",
     "text": [
      "epoch: 9, [batch: 1260 / 12600], examples_per_second: 3213.7737, train_label_loss: 0.4000, \n"
     ]
    },
    {
     "name": "stdout",
     "output_type": "stream",
     "text": [
      "epoch: 9, [batch: 2520 / 12600], examples_per_second: 3230.1734, train_label_loss: 0.3896, \n"
     ]
    },
    {
     "name": "stdout",
     "output_type": "stream",
     "text": [
      "epoch: 9, [batch: 3780 / 12600], examples_per_second: 3236.9134, train_label_loss: 0.1819, \n"
     ]
    },
    {
     "name": "stdout",
     "output_type": "stream",
     "text": [
      "epoch: 9, [batch: 5040 / 12600], examples_per_second: 3221.8096, train_label_loss: 0.3927, \n"
     ]
    },
    {
     "name": "stdout",
     "output_type": "stream",
     "text": [
      "epoch: 9, [batch: 6300 / 12600], examples_per_second: 3232.2279, train_label_loss: 0.2361, \n"
     ]
    },
    {
     "name": "stdout",
     "output_type": "stream",
     "text": [
      "epoch: 9, [batch: 7560 / 12600], examples_per_second: 3244.6741, train_label_loss: 0.3199, \n"
     ]
    },
    {
     "name": "stdout",
     "output_type": "stream",
     "text": [
      "epoch: 9, [batch: 8820 / 12600], examples_per_second: 3230.1874, train_label_loss: 0.2218, \n"
     ]
    },
    {
     "name": "stdout",
     "output_type": "stream",
     "text": [
      "epoch: 9, [batch: 10080 / 12600], examples_per_second: 3239.9766, train_label_loss: 0.4617, \n"
     ]
    },
    {
     "name": "stdout",
     "output_type": "stream",
     "text": [
      "epoch: 9, [batch: 11340 / 12600], examples_per_second: 3238.3876, train_label_loss: 0.4204, \n"
     ]
    },
    {
     "name": "stdout",
     "output_type": "stream",
     "text": [
      "=============================================================\n",
      "epoch: 9, source_val_acc_label: 0.6872, target_val_acc_label: 0.6024, source_val_label_loss: 0.9877, target_val_label_loss: 1.2076, \n",
      "=============================================================\n"
     ]
    },
    {
     "name": "stdout",
     "output_type": "stream",
     "text": [
      "epoch: 10, [batch: 1 / 12600], examples_per_second: 2.2806, train_label_loss: 0.3982, \n"
     ]
    },
    {
     "name": "stdout",
     "output_type": "stream",
     "text": [
      "epoch: 10, [batch: 1260 / 12600], examples_per_second: 3220.0611, train_label_loss: 0.3191, \n"
     ]
    },
    {
     "name": "stdout",
     "output_type": "stream",
     "text": [
      "epoch: 10, [batch: 2520 / 12600], examples_per_second: 3212.8563, train_label_loss: 0.3863, \n"
     ]
    },
    {
     "name": "stdout",
     "output_type": "stream",
     "text": [
      "epoch: 10, [batch: 3780 / 12600], examples_per_second: 3213.8598, train_label_loss: 0.5738, \n"
     ]
    },
    {
     "name": "stdout",
     "output_type": "stream",
     "text": [
      "epoch: 10, [batch: 5040 / 12600], examples_per_second: 3218.5037, train_label_loss: 0.3569, \n"
     ]
    },
    {
     "name": "stdout",
     "output_type": "stream",
     "text": [
      "epoch: 10, [batch: 6300 / 12600], examples_per_second: 3233.7793, train_label_loss: 0.1338, \n"
     ]
    },
    {
     "name": "stdout",
     "output_type": "stream",
     "text": [
      "epoch: 10, [batch: 7560 / 12600], examples_per_second: 3245.4807, train_label_loss: 0.1490, \n"
     ]
    },
    {
     "name": "stdout",
     "output_type": "stream",
     "text": [
      "epoch: 10, [batch: 8820 / 12600], examples_per_second: 3232.3716, train_label_loss: 0.1250, \n"
     ]
    },
    {
     "name": "stdout",
     "output_type": "stream",
     "text": [
      "epoch: 10, [batch: 10080 / 12600], examples_per_second: 3255.6253, train_label_loss: 0.2625, \n"
     ]
    },
    {
     "name": "stdout",
     "output_type": "stream",
     "text": [
      "epoch: 10, [batch: 11340 / 12600], examples_per_second: 3239.7233, train_label_loss: 0.3782, \n"
     ]
    },
    {
     "name": "stdout",
     "output_type": "stream",
     "text": [
      "=============================================================\n",
      "epoch: 10, source_val_acc_label: 0.6837, target_val_acc_label: 0.5979, source_val_label_loss: 1.0352, target_val_label_loss: 1.2670, \n",
      "=============================================================\n"
     ]
    },
    {
     "name": "stdout",
     "output_type": "stream",
     "text": [
      "Patience (3) exhausted\n"
     ]
    }
   ],
   "source": [
    "###################################\n",
    "# train\n",
    "###################################\n",
    "jig = PTN_Train_Eval_Test_Jig(model, p.BEST_MODEL_PATH, p.device)\n",
    "\n",
    "jig.train(\n",
    "    train_iterable=datasets.source.processed.train,\n",
    "    source_val_iterable=datasets.source.processed.val,\n",
    "    target_val_iterable=datasets.target.processed.val,\n",
    "    num_epochs=p.n_epoch,\n",
    "    num_logs_per_epoch=p.NUM_LOGS_PER_EPOCH,\n",
    "    patience=p.patience,\n",
    "    optimizer=optimizer,\n",
    "    criteria_for_best=p.criteria_for_best,\n",
    ")"
   ]
  },
  {
   "cell_type": "code",
   "execution_count": 14,
   "id": "31e8fabf",
   "metadata": {
    "execution": {
     "iopub.execute_input": "2022-03-22T10:37:06.140814Z",
     "iopub.status.busy": "2022-03-22T10:37:06.140568Z",
     "iopub.status.idle": "2022-03-22T10:37:06.158034Z",
     "shell.execute_reply": "2022-03-22T10:37:06.157652Z"
    },
    "papermill": {
     "duration": 0.050426,
     "end_time": "2022-03-22T10:37:06.158121",
     "exception": false,
     "start_time": "2022-03-22T10:37:06.107695",
     "status": "completed"
    },
    "tags": []
   },
   "outputs": [],
   "source": [
    "total_experiment_time_secs = time.time() - start_time_secs"
   ]
  },
  {
   "cell_type": "code",
   "execution_count": 15,
   "id": "87b9595b",
   "metadata": {
    "execution": {
     "iopub.execute_input": "2022-03-22T10:37:06.227243Z",
     "iopub.status.busy": "2022-03-22T10:37:06.226945Z",
     "iopub.status.idle": "2022-03-22T10:41:07.024563Z",
     "shell.execute_reply": "2022-03-22T10:41:07.024935Z"
    },
    "papermill": {
     "duration": 240.833706,
     "end_time": "2022-03-22T10:41:07.025067",
     "exception": false,
     "start_time": "2022-03-22T10:37:06.191361",
     "status": "completed"
    },
    "tags": []
   },
   "outputs": [],
   "source": [
    "###################################\n",
    "# Evaluate the model\n",
    "###################################\n",
    "source_test_label_accuracy, source_test_label_loss = jig.test(datasets.source.processed.test)\n",
    "target_test_label_accuracy, target_test_label_loss = jig.test(datasets.target.processed.test)\n",
    "\n",
    "source_val_label_accuracy, source_val_label_loss = jig.test(datasets.source.processed.val)\n",
    "target_val_label_accuracy, target_val_label_loss = jig.test(datasets.target.processed.val)\n",
    "\n",
    "history = jig.get_history()\n",
    "\n",
    "total_epochs_trained = len(history[\"epoch_indices\"])\n",
    "\n",
    "val_dl = Iterable_Aggregator((datasets.source.original.val,datasets.target.original.val))\n",
    "\n",
    "confusion = ptn_confusion_by_domain_over_dataloader(model, p.device, val_dl)\n",
    "per_domain_accuracy = per_domain_accuracy_from_confusion(confusion)\n",
    "\n",
    "# Add a key to per_domain_accuracy for if it was a source domain\n",
    "for domain, accuracy in per_domain_accuracy.items():\n",
    "    per_domain_accuracy[domain] = {\n",
    "        \"accuracy\": accuracy,\n",
    "        \"source?\": domain in p.domains_source\n",
    "    }\n",
    "\n",
    "# Do an independent accuracy assesment JUST TO BE SURE!\n",
    "# _source_test_label_accuracy = independent_accuracy_assesment(model, datasets.source.processed.test, p.device)\n",
    "# _target_test_label_accuracy = independent_accuracy_assesment(model, datasets.target.processed.test, p.device)\n",
    "# _source_val_label_accuracy = independent_accuracy_assesment(model, datasets.source.processed.val, p.device)\n",
    "# _target_val_label_accuracy = independent_accuracy_assesment(model, datasets.target.processed.val, p.device)\n",
    "\n",
    "# assert(_source_test_label_accuracy == source_test_label_accuracy)\n",
    "# assert(_target_test_label_accuracy == target_test_label_accuracy)\n",
    "# assert(_source_val_label_accuracy == source_val_label_accuracy)\n",
    "# assert(_target_val_label_accuracy == target_val_label_accuracy)\n",
    "\n",
    "experiment = {\n",
    "    \"experiment_name\": p.experiment_name,\n",
    "    \"parameters\": dict(p),\n",
    "    \"results\": {\n",
    "        \"source_test_label_accuracy\": source_test_label_accuracy,\n",
    "        \"source_test_label_loss\": source_test_label_loss,\n",
    "        \"target_test_label_accuracy\": target_test_label_accuracy,\n",
    "        \"target_test_label_loss\": target_test_label_loss,\n",
    "        \"source_val_label_accuracy\": source_val_label_accuracy,\n",
    "        \"source_val_label_loss\": source_val_label_loss,\n",
    "        \"target_val_label_accuracy\": target_val_label_accuracy,\n",
    "        \"target_val_label_loss\": target_val_label_loss,\n",
    "        \"total_epochs_trained\": total_epochs_trained,\n",
    "        \"total_experiment_time_secs\": total_experiment_time_secs,\n",
    "        \"confusion\": confusion,\n",
    "        \"per_domain_accuracy\": per_domain_accuracy,\n",
    "    },\n",
    "    \"history\": history,\n",
    "    \"dataset_metrics\": get_dataset_metrics(datasets, \"ptn\"),\n",
    "}"
   ]
  },
  {
   "cell_type": "code",
   "execution_count": 16,
   "id": "54a21829",
   "metadata": {
    "execution": {
     "iopub.execute_input": "2022-03-22T10:41:07.095316Z",
     "iopub.status.busy": "2022-03-22T10:41:07.095062Z",
     "iopub.status.idle": "2022-03-22T10:41:07.230238Z",
     "shell.execute_reply": "2022-03-22T10:41:07.230609Z"
    },
    "papermill": {
     "duration": 0.168033,
     "end_time": "2022-03-22T10:41:07.230715",
     "exception": false,
     "start_time": "2022-03-22T10:41:07.062682",
     "status": "completed"
    },
    "tags": []
   },
   "outputs": [
    {
     "data": {
      "image/png": "[encoded data removed]",
      "text/plain": [
       "<Figure size 1080x504 with 1 Axes>"
      ]
     },
     "metadata": {
      "needs_background": "light"
     },
     "output_type": "display_data"
    }
   ],
   "source": [
    "ax = get_loss_curve(experiment)\n",
    "plt.show()"
   ]
  },
  {
   "cell_type": "code",
   "execution_count": 17,
   "id": "fd8a0f60",
   "metadata": {
    "execution": {
     "iopub.execute_input": "2022-03-22T10:41:07.300809Z",
     "iopub.status.busy": "2022-03-22T10:41:07.300558Z",
     "iopub.status.idle": "2022-03-22T10:41:07.439915Z",
     "shell.execute_reply": "2022-03-22T10:41:07.440123Z"
    },
    "papermill": {
     "duration": 0.172298,
     "end_time": "2022-03-22T10:41:07.440186",
     "exception": false,
     "start_time": "2022-03-22T10:41:07.267888",
     "status": "completed"
    },
    "tags": []
   },
   "outputs": [
    {
     "data": {
      "text/plain": [
       "<AxesSubplot:title={'center':'Results'}>"
      ]
     },
     "execution_count": 17,
     "metadata": {},
     "output_type": "execute_result"
    },
    {
     "data": {
      "image/png": "[encoded data removed]",
      "text/plain": [
       "<Figure size 1080x504 with 1 Axes>"
      ]
     },
     "metadata": {
      "needs_background": "light"
     },
     "output_type": "display_data"
    }
   ],
   "source": [
    "get_results_table(experiment)"
   ]
  },
  {
   "cell_type": "code",
   "execution_count": 18,
   "id": "cf8dc689",
   "metadata": {
    "execution": {
     "iopub.execute_input": "2022-03-22T10:41:07.508729Z",
     "iopub.status.busy": "2022-03-22T10:41:07.508482Z",
     "iopub.status.idle": "2022-03-22T10:41:07.622294Z",
     "shell.execute_reply": "2022-03-22T10:41:07.622048Z"
    },
    "papermill": {
     "duration": 0.148762,
     "end_time": "2022-03-22T10:41:07.622344",
     "exception": false,
     "start_time": "2022-03-22T10:41:07.473582",
     "status": "completed"
    },
    "tags": []
   },
   "outputs": [
    {
     "data": {
      "text/plain": [
       "<AxesSubplot:title={'center':'Per Domain Validation Accuracy'}, xlabel='domain'>"
      ]
     },
     "execution_count": 18,
     "metadata": {},
     "output_type": "execute_result"
    },
    {
     "data": {
      "image/png": "[encoded data removed]",
      "text/plain": [
       "<Figure size 1080x504 with 1 Axes>"
      ]
     },
     "metadata": {
      "needs_background": "light"
     },
     "output_type": "display_data"
    }
   ],
   "source": [
    "get_domain_accuracies(experiment)"
   ]
  },
  {
   "cell_type": "code",
   "execution_count": 19,
   "id": "a74ae082",
   "metadata": {
    "execution": {
     "iopub.execute_input": "2022-03-22T10:41:07.693197Z",
     "iopub.status.busy": "2022-03-22T10:41:07.692948Z",
     "iopub.status.idle": "2022-03-22T10:41:07.709743Z",
     "shell.execute_reply": "2022-03-22T10:41:07.709300Z"
    },
    "papermill": {
     "duration": 0.053394,
     "end_time": "2022-03-22T10:41:07.709831",
     "exception": false,
     "start_time": "2022-03-22T10:41:07.656437",
     "status": "completed"
    },
    "tags": []
   },
   "outputs": [
    {
     "name": "stdout",
     "output_type": "stream",
     "text": [
      "Source Test Label Accuracy: 0.6959895833333334 Target Test Label Accuracy: 0.6164479166666667\n",
      "Source Val Label Accuracy: 0.6946875 Target Val Label Accuracy: 0.6163229166666667\n"
     ]
    }
   ],
   "source": [
    "print(\"Source Test Label Accuracy:\", experiment[\"results\"][\"source_test_label_accuracy\"], \"Target Test Label Accuracy:\", experiment[\"results\"][\"target_test_label_accuracy\"])\n",
    "print(\"Source Val Label Accuracy:\", experiment[\"results\"][\"source_val_label_accuracy\"], \"Target Val Label Accuracy:\", experiment[\"results\"][\"target_val_label_accuracy\"])"
   ]
  },
  {
   "cell_type": "code",
   "execution_count": 20,
   "id": "dacca602",
   "metadata": {
    "execution": {
     "iopub.execute_input": "2022-03-22T10:41:07.783645Z",
     "iopub.status.busy": "2022-03-22T10:41:07.783398Z",
     "iopub.status.idle": "2022-03-22T10:41:07.797623Z",
     "shell.execute_reply": "2022-03-22T10:41:07.797182Z"
    },
    "papermill": {
     "duration": 0.050009,
     "end_time": "2022-03-22T10:41:07.797711",
     "exception": false,
     "start_time": "2022-03-22T10:41:07.747702",
     "status": "completed"
    },
    "tags": [
     "experiment_json"
    ]
   },
   "outputs": [
    {
     "data": {
      "text/plain": [
       "'{\"experiment_name\": \"tuned_1v2:oracle.run1\", \"parameters\": {\"experiment_name\": \"tuned_1v2:oracle.run1\", \"device\": \"cuda\", \"lr\": 0.0001, \"labels_source\": [\"3123D52\", \"3123D65\", \"3123D79\", \"3123D80\", \"3123D54\", \"3123D70\", \"3123D7B\", \"3123D89\", \"3123D58\", \"3123D76\", \"3123D7D\", \"3123EFE\", \"3123D64\", \"3123D78\", \"3123D7E\", \"3124E4A\"], \"labels_target\": [\"3123D52\", \"3123D65\", \"3123D79\", \"3123D80\", \"3123D54\", \"3123D70\", \"3123D7B\", \"3123D89\", \"3123D58\", \"3123D76\", \"3123D7D\", \"3123EFE\", \"3123D64\", \"3123D78\", \"3123D7E\", \"3124E4A\"], \"episode_transforms_source\": [], \"episode_transforms_target\": [], \"domains_source\": [8, 32, 50], \"domains_target\": [14, 20, 26, 38, 44], \"num_examples_per_domain_per_label_source\": -1, \"num_examples_per_domain_per_label_target\": -1, \"n_shot\": 3, \"n_way\": 16, \"n_query\": 2, \"train_k_factor\": 3, \"val_k_factor\": 2, \"test_k_factor\": 2, \"torch_default_dtype\": \"torch.float32\", \"n_epoch\": 50, \"patience\": 3, \"criteria_for_best\": \"target_accuracy\", \"x_net\": [{\"class\": \"nnReshape\", \"kargs\": {\"shape\": [-1, 1, 2, 256]}}, {\"class\": \"Conv2d\", \"kargs\": {\"in_channels\": 1, \"out_channels\": 256, \"kernel_size\": [1, 7], \"bias\": false, \"padding\": [0, 3]}}, {\"class\": \"ReLU\", \"kargs\": {\"inplace\": true}}, {\"class\": \"BatchNorm2d\", \"kargs\": {\"num_features\": 256}}, {\"class\": \"Conv2d\", \"kargs\": {\"in_channels\": 256, \"out_channels\": 80, \"kernel_size\": [2, 7], \"bias\": true, \"padding\": [0, 3]}}, {\"class\": \"ReLU\", \"kargs\": {\"inplace\": true}}, {\"class\": \"BatchNorm2d\", \"kargs\": {\"num_features\": 80}}, {\"class\": \"Flatten\", \"kargs\": {}}, {\"class\": \"Linear\", \"kargs\": {\"in_features\": 20480, \"out_features\": 256}}, {\"class\": \"ReLU\", \"kargs\": {\"inplace\": true}}, {\"class\": \"BatchNorm1d\", \"kargs\": {\"num_features\": 256}}, {\"class\": \"Linear\", \"kargs\": {\"in_features\": 256, \"out_features\": 256}}], \"NUM_LOGS_PER_EPOCH\": 10, \"BEST_MODEL_PATH\": \"./best_model.pth\", \"pickle_name\": \"oracle.Run1_10kExamples_stratified_ds.2022A.pkl\", \"x_transforms_source\": [\"unit_mag\"], \"x_transforms_target\": [\"unit_mag\"], \"dataset_seed\": 7, \"seed\": 7}, \"results\": {\"source_test_label_accuracy\": 0.6959895833333334, \"source_test_label_loss\": 0.895971417427063, \"target_test_label_accuracy\": 0.6164479166666667, \"target_test_label_loss\": 1.086586356163025, \"source_val_label_accuracy\": 0.6946875, \"source_val_label_loss\": 0.9017303586006165, \"target_val_label_accuracy\": 0.6163229166666667, \"target_val_label_loss\": 1.0920618772506714, \"total_epochs_trained\": 10, \"total_experiment_time_secs\": 3593.51975607872, \"confusion\": {\"50\": {\"0\": {\"0\": 1012, \"10\": 51, \"2\": 128, \"13\": 6, \"5\": 2, \"6\": 1}, \"4\": {\"4\": 457, \"6\": 176, \"15\": 204, \"13\": 24, \"7\": 24, \"1\": 207, \"5\": 108}, \"14\": {\"14\": 1163, \"12\": 26, \"1\": 1, \"11\": 10}, \"12\": {\"12\": 1073, \"9\": 68, \"14\": 53, \"11\": 6}, \"8\": {\"8\": 1163, \"3\": 12, \"10\": 25}, \"7\": {\"7\": 731, \"13\": 253, \"5\": 165, \"10\": 40, \"4\": 5, \"0\": 3, \"6\": 3}, \"13\": {\"7\": 237, \"13\": 616, \"5\": 241, \"6\": 78, \"10\": 12, \"0\": 3, \"4\": 13}, \"5\": {\"7\": 276, \"13\": 265, \"5\": 301, \"6\": 198, \"4\": 108, \"10\": 16, \"1\": 29, \"0\": 4, \"2\": 1, \"15\": 2}, \"15\": {\"15\": 794, \"1\": 241, \"6\": 15, \"11\": 26, \"4\": 124}, \"10\": {\"10\": 1076, \"0\": 52, \"13\": 27, \"6\": 1, \"7\": 23, \"5\": 7, \"8\": 14}, \"3\": {\"3\": 1182, \"8\": 18}, \"9\": {\"9\": 863, \"12\": 114, \"11\": 216, \"14\": 7}, \"6\": {\"4\": 192, \"5\": 114, \"6\": 681, \"13\": 76, \"1\": 127, \"7\": 2, \"2\": 1, \"15\": 7}, \"1\": {\"15\": 258, \"1\": 682, \"6\": 119, \"4\": 125, \"2\": 3, \"14\": 3, \"11\": 3, \"5\": 5, \"13\": 1, \"0\": 1}, \"11\": {\"11\": 1002, \"9\": 112, \"15\": 34, \"14\": 31, \"1\": 4, \"12\": 17}, \"2\": {\"2\": 1114, \"0\": 85, \"1\": 1}}, \"8\": {\"1\": {\"1\": 710, \"11\": 348, \"5\": 34, \"14\": 84, \"10\": 19, \"13\": 2, \"8\": 1, \"4\": 2}, \"11\": {\"11\": 710, \"1\": 432, \"5\": 19, \"14\": 19, \"4\": 4, \"8\": 10, \"10\": 4, \"6\": 2}, \"3\": {\"3\": 899, \"12\": 127, \"2\": 163, \"15\": 11}, \"6\": {\"7\": 224, \"6\": 678, \"8\": 16, \"4\": 118, \"0\": 113, \"13\": 35, \"14\": 14, \"11\": 2}, \"7\": {\"7\": 867, \"8\": 8, \"0\": 57, \"6\": 251, \"13\": 6, \"15\": 3, \"12\": 2, \"4\": 4, \"2\": 2}, \"5\": {\"5\": 1032, \"11\": 19, \"1\": 47, \"10\": 92, \"14\": 9, \"13\": 1}, \"2\": {\"3\": 212, \"2\": 904, \"12\": 22, \"15\": 44, \"7\": 18}, \"15\": {\"12\": 259, \"15\": 832, \"2\": 35, \"8\": 59, \"3\": 12, \"6\": 1, \"7\": 2}, \"10\": {\"10\": 753, \"14\": 256, \"13\": 99, \"5\": 35, \"4\": 42, \"0\": 3, \"1\": 12}, \"13\": {\"4\": 202, \"0\": 310, \"14\": 101, \"13\": 371, \"10\": 152, \"6\": 51, \"7\": 10, \"1\": 3}, \"8\": {\"8\": 1106, \"15\": 64, \"11\": 1, \"12\": 4, \"6\": 20, \"7\": 5}, \"4\": {\"4\": 550, \"14\": 189, \"13\": 208, \"0\": 78, \"6\": 139, \"10\": 27, \"7\": 3, \"11\": 2, \"8\": 3, \"1\": 1}, \"9\": {\"9\": 1200}, \"14\": {\"10\": 227, \"4\": 189, \"14\": 596, \"1\": 66, \"5\": 4, \"13\": 91, \"11\": 16, \"0\": 5, \"6\": 6}, \"0\": {\"13\": 249, \"6\": 89, \"0\": 671, \"7\": 106, \"4\": 73, \"14\": 6, \"10\": 6}, \"12\": {\"8\": 36, \"12\": 553, \"15\": 369, \"3\": 221, \"2\": 21}}, \"32\": {\"15\": {\"15\": 1189, \"8\": 10, \"3\": 1}, \"11\": {\"13\": 27, \"11\": 841, \"14\": 255, \"3\": 24, \"7\": 39, \"5\": 14}, \"10\": {\"10\": 1190, \"1\": 10}, \"14\": {\"7\": 230, \"2\": 7, \"14\": 434, \"11\": 356, \"4\": 36, \"13\": 80, \"5\": 30, \"0\": 16, \"8\": 4, \"3\": 7}, \"6\": {\"6\": 1200}, \"4\": {\"0\": 135, \"2\": 217, \"4\": 576, \"14\": 13, \"7\": 143, \"13\": 40, \"5\": 70, \"8\": 6}, \"13\": {\"5\": 316, \"8\": 105, \"13\": 370, \"4\": 61, \"14\": 68, \"0\": 52, \"11\": 31, \"7\": 123, \"3\": 73, \"2\": 1}, \"3\": {\"3\": 1067, \"13\": 52, \"8\": 19, \"5\": 25, \"11\": 28, \"14\": 7, \"15\": 1, \"7\": 1}, \"7\": {\"7\": 441, \"14\": 198, \"4\": 182, \"13\": 119, \"11\": 46, \"0\": 38, \"5\": 121, \"8\": 9, \"2\": 44, \"3\": 2}, \"8\": {\"13\": 116, \"8\": 829, \"0\": 104, \"5\": 113, \"7\": 5, \"3\": 24, \"14\": 5, \"4\": 4}, \"1\": {\"1\": 1196, \"10\": 4}, \"5\": {\"5\": 320, \"13\": 312, \"14\": 33, \"8\": 133, \"4\": 114, \"7\": 122, \"3\": 48, \"2\": 12, \"0\": 74, \"11\": 32}, \"0\": {\"0\": 683, \"7\": 48, \"8\": 109, \"5\": 61, \"14\": 16, \"2\": 67, \"4\": 178, \"13\": 38}, \"2\": {\"2\": 939, \"4\": 194, \"7\": 22, \"0\": 40, \"14\": 3, \"13\": 1, \"5\": 1}, \"12\": {\"12\": 1199, \"9\": 1}, \"9\": {\"9\": 1198, \"12\": 2}}, \"26\": {\"0\": {\"4\": 192, \"0\": 258, \"14\": 189, \"8\": 115, \"10\": 256, \"1\": 82, \"7\": 40, \"5\": 2, \"15\": 11, \"6\": 36, \"9\": 16, \"3\": 1, \"2\": 2}, \"4\": {\"1\": 161, \"4\": 328, \"7\": 130, \"10\": 79, \"8\": 114, \"14\": 211, \"0\": 155, \"2\": 2, \"3\": 9, \"9\": 5, \"6\": 1, \"15\": 5}, \"14\": {\"14\": 330, \"1\": 266, \"0\": 204, \"4\": 235, \"10\": 87, \"7\": 28, \"8\": 45, \"6\": 1, \"9\": 2, \"15\": 1, \"3\": 1}, \"12\": {\"12\": 1191, \"11\": 9}, \"8\": {\"7\": 93, \"5\": 14, \"8\": 346, \"4\": 104, \"3\": 4, \"0\": 115, \"9\": 140, \"15\": 91, \"10\": 161, \"6\": 53, \"2\": 29, \"14\": 37, \"1\": 11, \"13\": 2}, \"7\": {\"2\": 163, \"7\": 522, \"3\": 217, \"8\": 93, \"5\": 15, \"4\": 92, \"15\": 18, \"1\": 16, \"0\": 25, \"14\": 27, \"9\": 10, \"10\": 2}, \"13\": {\"13\": 772, \"6\": 34, \"5\": 244, \"15\": 73, \"9\": 44, \"2\": 32, \"8\": 1}, \"5\": {\"5\": 541, \"9\": 113, \"13\": 183, \"2\": 63, \"15\": 236, \"8\": 32, \"6\": 15, \"7\": 12, \"3\": 4, \"10\": 1}, \"15\": {\"8\": 112, \"9\": 266, \"15\": 321, \"6\": 40, \"5\": 270, \"7\": 24, \"10\": 14, \"2\": 44, \"13\": 84, \"14\": 1, \"4\": 12, \"0\": 9, \"3\": 3}, \"10\": {\"10\": 425, \"14\": 121, \"0\": 206, \"6\": 116, \"4\": 80, \"1\": 33, \"8\": 151, \"9\": 40, \"15\": 18, \"5\": 2, \"7\": 7, \"2\": 1}, \"3\": {\"7\": 232, \"2\": 323, \"0\": 3, \"3\": 617, \"4\": 16, \"8\": 4, \"15\": 3, \"1\": 1, \"5\": 1}, \"9\": {\"15\": 246, \"8\": 125, \"4\": 5, \"9\": 384, \"5\": 113, \"6\": 179, \"13\": 55, \"7\": 12, \"0\": 21, \"2\": 12, \"10\": 44, \"3\": 1, \"1\": 1, \"14\": 2}, \"6\": {\"6\": 761, \"8\": 45, \"10\": 122, \"9\": 161, \"2\": 1, \"15\": 46, \"0\": 26, \"5\": 16, \"13\": 22}, \"1\": {\"4\": 149, \"14\": 282, \"1\": 606, \"0\": 87, \"10\": 34, \"3\": 2, \"8\": 13, \"7\": 24, \"6\": 1, \"2\": 2}, \"11\": {\"11\": 1183, \"12\": 17}, \"2\": {\"2\": 406, \"3\": 373, \"8\": 45, \"5\": 100, \"9\": 32, \"7\": 147, \"15\": 71, \"13\": 10, \"0\": 3, \"10\": 2, \"4\": 8, \"1\": 2, \"6\": 1}}, \"44\": {\"1\": {\"12\": 266, \"1\": 615, \"3\": 140, \"2\": 72, \"10\": 105, \"7\": 2}, \"11\": {\"11\": 1046, \"13\": 105, \"6\": 48, \"9\": 1}, \"3\": {\"3\": 1049, \"1\": 128, \"12\": 20, \"2\": 3}, \"6\": {\"9\": 102, \"6\": 819, \"11\": 45, \"13\": 201, \"7\": 33}, \"7\": {\"7\": 715, \"9\": 220, \"2\": 196, \"13\": 2, \"6\": 51, \"1\": 5, \"3\": 10, \"10\": 1}, \"5\": {\"5\": 993, \"0\": 104, \"15\": 54, \"14\": 31, \"8\": 15, \"4\": 3}, \"2\": {\"2\": 820, \"7\": 169, \"9\": 8, \"10\": 124, \"1\": 65, \"3\": 5, \"6\": 5, \"12\": 4}, \"15\": {\"15\": 950, \"14\": 110, \"0\": 76, \"5\": 38, \"8\": 14, \"4\": 12}, \"10\": {\"10\": 837, \"1\": 130, \"2\": 124, \"12\": 105, \"7\": 1, \"3\": 3}, \"13\": {\"13\": 757, \"6\": 222, \"9\": 142, \"14\": 2, \"11\": 55, \"7\": 12, \"4\": 10}, \"8\": {\"8\": 729, \"0\": 408, \"15\": 44, \"5\": 19}, \"4\": {\"4\": 825, \"14\": 372, \"15\": 3}, \"9\": {\"9\": 666, \"13\": 148, \"7\": 239, \"6\": 124, \"2\": 17, \"3\": 1, \"4\": 3, \"1\": 2}, \"14\": {\"14\": 754, \"4\": 351, \"5\": 27, \"15\": 68}, \"0\": {\"15\": 72, \"8\": 321, \"0\": 718, \"5\": 89}, \"12\": {\"12\": 826, \"1\": 251, \"3\": 22, \"10\": 100, \"2\": 1}}, \"20\": {\"15\": {\"15\": 645, \"0\": 100, \"13\": 43, \"5\": 135, \"1\": 227, \"3\": 9, \"12\": 33, \"9\": 4, \"2\": 4}, \"4\": {\"4\": 746, \"10\": 46, \"8\": 248, \"3\": 90, \"1\": 2, \"12\": 27, \"9\": 14, \"7\": 10, \"0\": 6, \"5\": 11}, \"6\": {\"14\": 183, \"6\": 952, \"7\": 33, \"11\": 6, \"8\": 12, \"10\": 14}, \"2\": {\"3\": 111, \"2\": 398, \"7\": 164, \"9\": 303, \"12\": 65, \"8\": 10, \"1\": 9, \"13\": 118, \"0\": 3, \"4\": 5, \"15\": 7, \"10\": 2, \"5\": 5}, \"5\": {\"3\": 60, \"0\": 247, \"12\": 153, \"1\": 266, \"15\": 118, \"5\": 311, \"9\": 22, \"13\": 5, \"4\": 10, \"2\": 7, \"8\": 1}, \"9\": {\"12\": 143, \"2\": 294, \"3\": 224, \"9\": 310, \"7\": 74, \"1\": 21, \"13\": 52, \"5\": 23, \"4\": 16, \"0\": 12, \"15\": 9, \"8\": 21, \"11\": 1}, \"8\": {\"10\": 90, \"8\": 621, \"4\": 209, \"3\": 49, \"6\": 26, \"14\": 43, \"7\": 126, \"2\": 8, \"9\": 21, \"5\": 1, \"12\": 6}, \"12\": {\"12\": 310, \"2\": 76, \"3\": 201, \"15\": 39, \"1\": 150, \"5\": 155, \"9\": 126, \"0\": 92, \"4\": 28, \"8\": 4, \"13\": 17, \"7\": 2}, \"10\": {\"10\": 766, \"4\": 54, \"8\": 126, \"14\": 222, \"6\": 22, \"7\": 9, \"2\": 1}, \"1\": {\"1\": 331, \"13\": 18, \"12\": 128, \"5\": 225, \"15\": 264, \"0\": 168, \"3\": 33, \"2\": 11, \"9\": 21, \"4\": 1}, \"0\": {\"0\": 408, \"13\": 8, \"12\": 96, \"5\": 270, \"15\": 141, \"9\": 29, \"1\": 167, \"3\": 43, \"2\": 19, \"4\": 15, \"8\": 4}, \"3\": {\"3\": 352, \"5\": 59, \"12\": 235, \"15\": 3, \"1\": 32, \"2\": 97, \"0\": 35, \"9\": 215, \"4\": 73, \"10\": 1, \"7\": 53, \"13\": 7, \"8\": 37, \"14\": 1}, \"13\": {\"13\": 978, \"2\": 113, \"12\": 7, \"1\": 12, \"9\": 40, \"15\": 35, \"3\": 5, \"5\": 5, \"7\": 4, \"0\": 1}, \"11\": {\"11\": 1187, \"6\": 6, \"7\": 7}, \"7\": {\"7\": 710, \"2\": 190, \"9\": 97, \"4\": 11, \"6\": 32, \"3\": 39, \"8\": 98, \"13\": 7, \"11\": 1, \"10\": 6, \"12\": 4, \"14\": 5}, \"14\": {\"14\": 723, \"6\": 215, \"10\": 223, \"8\": 36, \"7\": 2, \"4\": 1}}, \"38\": {\"15\": {\"13\": 322, \"15\": 691, \"1\": 110, \"8\": 38, \"5\": 24, \"10\": 14, \"0\": 1}, \"11\": {\"14\": 327, \"11\": 809, \"10\": 13, \"12\": 35, \"2\": 11, \"4\": 5}, \"10\": {\"10\": 855, \"14\": 18, \"4\": 5, \"13\": 89, \"7\": 7, \"12\": 100, \"5\": 5, \"8\": 57, \"0\": 36, \"15\": 21, \"11\": 7}, \"14\": {\"14\": 897, \"2\": 78, \"10\": 13, \"11\": 199, \"13\": 5, \"12\": 8}, \"6\": {\"9\": 311, \"6\": 872, \"5\": 14, \"0\": 1, \"3\": 2}, \"4\": {\"4\": 1122, \"12\": 74, \"7\": 1, \"10\": 3}, \"13\": {\"13\": 688, \"15\": 326, \"10\": 95, \"8\": 24, \"2\": 31, \"1\": 18, \"5\": 15, \"0\": 2, \"14\": 1}, \"3\": {\"3\": 998, \"9\": 93, \"7\": 53, \"6\": 17, \"0\": 27, \"5\": 11, \"8\": 1}, \"7\": {\"7\": 865, \"0\": 218, \"5\": 50, \"8\": 36, \"3\": 31}, \"8\": {\"0\": 162, \"5\": 280, \"8\": 650, \"10\": 32, \"15\": 43, \"7\": 24, \"13\": 9}, \"1\": {\"1\": 1132, \"15\": 60, \"5\": 5, \"13\": 3}, \"5\": {\"7\": 73, \"8\": 297, \"5\": 492, \"0\": 120, \"3\": 34, \"15\": 49, \"9\": 37, \"6\": 63, \"1\": 18, \"13\": 8, \"10\": 9}, \"0\": {\"0\": 371, \"7\": 295, \"5\": 128, \"3\": 61, \"8\": 283, \"9\": 2, \"10\": 41, \"12\": 9, \"4\": 3, \"6\": 6, \"15\": 1}, \"2\": {\"2\": 1080, \"14\": 79, \"15\": 4, \"13\": 34, \"10\": 2, \"11\": 1}, \"12\": {\"12\": 1095, \"4\": 59, \"10\": 43, \"14\": 1, \"11\": 2}, \"9\": {\"9\": 674, \"6\": 430, \"3\": 73, \"5\": 18, \"0\": 3, \"1\": 2}}, \"14\": {\"0\": {\"0\": 879, \"10\": 247, \"3\": 31, \"11\": 39, \"8\": 4}, \"12\": {\"12\": 1189, \"9\": 11}, \"1\": {\"1\": 974, \"5\": 190, \"7\": 5, \"4\": 30, \"3\": 1}, \"4\": {\"4\": 691, \"2\": 104, \"3\": 148, \"14\": 10, \"5\": 179, \"1\": 61, \"13\": 6, \"6\": 1}, \"5\": {\"4\": 240, \"5\": 625, \"2\": 70, \"1\": 220, \"15\": 4, \"7\": 17, \"3\": 21, \"6\": 2, \"13\": 1}, \"3\": {\"3\": 910, \"14\": 42, \"4\": 186, \"2\": 26, \"10\": 13, \"0\": 9, \"5\": 9, \"13\": 2, \"1\": 3}, \"7\": {\"7\": 1120, \"1\": 10, \"15\": 59, \"5\": 10, \"2\": 1}, \"15\": {\"15\": 1079, \"7\": 114, \"2\": 5, \"5\": 2}, \"13\": {\"13\": 346, \"2\": 120, \"14\": 233, \"6\": 466, \"4\": 10, \"5\": 15, \"15\": 4, \"3\": 6}, \"10\": {\"10\": 966, \"3\": 8, \"0\": 215, \"11\": 7, \"14\": 4}, \"14\": {\"2\": 84, \"6\": 80, \"14\": 798, \"13\": 155, \"4\": 18, \"3\": 56, \"10\": 8, \"0\": 1}, \"6\": {\"6\": 593, \"13\": 396, \"14\": 94, \"2\": 114, \"4\": 2, \"5\": 1}, \"9\": {\"9\": 1184, \"11\": 14, \"12\": 2}, \"2\": {\"2\": 453, \"14\": 178, \"5\": 136, \"13\": 97, \"6\": 101, \"3\": 55, \"1\": 7, \"15\": 32, \"4\": 138, \"7\": 3}, \"8\": {\"8\": 1199, \"1\": 1}, \"11\": {\"11\": 1012, \"0\": 61, \"9\": 74, \"10\": 53}}}, \"per_domain_accuracy\": {\"50\": {\"accuracy\": 0.7244791666666667, \"source?\": true}, \"8\": {\"accuracy\": 0.6475, \"source?\": true}, \"32\": {\"accuracy\": 0.7120833333333333, \"source?\": true}, \"26\": {\"accuracy\": 0.46828125, \"source?\": false}, \"44\": {\"accuracy\": 0.68328125, \"source?\": false}, \"20\": {\"accuracy\": 0.5077083333333333, \"source?\": false}, \"38\": {\"accuracy\": 0.6922395833333334, \"source?\": false}, \"14\": {\"accuracy\": 0.7301041666666667, \"source?\": false}}}, \"history\": {\"epoch_indices\": [1, 2, 3, 4, 5, 6, 7, 8, 9, 10], \"train_label_loss\": [1.4261162527260327, 0.9220239800262072, 0.7610862506878755, 0.6680229907376426, 0.5849851320831785, 0.5037104816427307, 0.4379608786357419, 0.3788286119734957, 0.32985258860262257, 0.2879190157107004], \"source_val_label_loss\": [1.234892725944519, 0.905211329460144, 0.8813264966011047, 0.8488380312919617, 0.8607726693153381, 0.9017303586006165, 0.9201890230178833, 0.9438952803611755, 0.9876952171325684, 1.035247802734375], \"target_val_label_loss\": [1.4766637086868286, 1.1192142963409424, 1.0723313093185425, 1.0486270189285278, 1.0744341611862183, 1.0920618772506714, 1.126796007156372, 1.1780169010162354, 1.2075563669204712, 1.2670481204986572], \"source_val_acc_label\": [0.5429861111111111, 0.6613194444444445, 0.6842708333333334, 0.6901215277777778, 0.6798263888888889, 0.6946875, 0.6843576388888889, 0.6798090277777777, 0.6871527777777777, 0.6836631944444445], \"target_val_acc_label\": [0.4560416666666667, 0.5779270833333333, 0.6026979166666667, 0.6108958333333333, 0.6016354166666666, 0.6163229166666667, 0.60559375, 0.5951875, 0.6023958333333334, 0.5979270833333333]}, \"dataset_metrics\": {\"source\": {\"train\": {\"n_unique_x\": 336000, \"n_unique_y\": 16, \"n_batch/episode\": 12600}, \"val\": {\"n_unique_x\": 72000, \"n_unique_y\": 16, \"n_batch/episode\": 1800}, \"test\": {\"n_unique_x\": 72000, \"n_unique_y\": 16, \"n_batch/episode\": 1800}}, \"target\": {\"train\": {\"n_unique_x\": 560000, \"n_unique_y\": 16, \"n_batch/episode\": 21000}, \"val\": {\"n_unique_x\": 120000, \"n_unique_y\": 16, \"n_batch/episode\": 3000}, \"test\": {\"n_unique_x\": 120000, \"n_unique_y\": 16, \"n_batch/episode\": 3000}}}}'"
      ]
     },
     "execution_count": 20,
     "metadata": {},
     "output_type": "execute_result"
    }
   ],
   "source": [
    "json.dumps(experiment)"
   ]
  }
 ],
 "metadata": {
  "celltoolbar": "Tags",
  "kernelspec": {
   "display_name": "Python 3 (ipykernel)",
   "language": "python",
   "name": "python3"
  },
  "language_info": {
   "codemirror_mode": {
    "name": "ipython",
    "version": 3
   },
   "file_extension": ".py",
   "mimetype": "text/x-python",
   "name": "python",
   "nbconvert_exporter": "python",
   "pygments_lexer": "ipython3",
   "version": "3.8.10"
  },
  "papermill": {
   "default_parameters": {},
   "duration": 3839.6174,
   "end_time": "2022-03-22T10:41:10.251054",
   "environment_variables": {},
   "exception": null,
   "input_path": "/mnt/wd500GB/CSC500/csc500-main/csc500-notebooks/templates/ptn_template.ipynb",
   "output_path": "trial.ipynb",
   "parameters": {
    "parameters": {
     "BEST_MODEL_PATH": "./best_model.pth",
     "NUM_LOGS_PER_EPOCH": 10,
     "criteria_for_best": "target_accuracy",
     "dataset_seed": 7,
     "device": "cuda",
     "domains_source": [
      8,
      32,
      50
     ],
     "domains_target": [
      14,
      20,
      26,
      38,
      44
     ],
     "episode_transforms_source": [],
     "episode_transforms_target": [],
     "experiment_name": "tuned_1v2:oracle.run1",
     "labels_source": [
      "3123D52",
      "3123D65",
      "3123D79",
      "3123D80",
      "3123D54",
      "3123D70",
      "3123D7B",
      "3123D89",
      "3123D58",
      "3123D76",
      "3123D7D",
      "3123EFE",
      "3123D64",
      "3123D78",
      "3123D7E",
      "3124E4A"
     ],
     "labels_target": [
      "3123D52",
      "3123D65",
      "3123D79",
      "3123D80",
      "3123D54",
      "3123D70",
      "3123D7B",
      "3123D89",
      "3123D58",
      "3123D76",
      "3123D7D",
      "3123EFE",
      "3123D64",
      "3123D78",
      "3123D7E",
      "3124E4A"
     ],
     "lr": 0.0001,
     "n_epoch": 50,
     "n_query": 2,
     "n_shot": 3,
     "n_way": 16,
     "num_examples_per_domain_per_label_source": -1,
     "num_examples_per_domain_per_label_target": -1,
     "patience": 3,
     "pickle_name": "oracle.Run1_10kExamples_stratified_ds.2022A.pkl",
     "seed": 7,
     "test_k_factor": 2,
     "torch_default_dtype": "torch.float32",
     "train_k_factor": 3,
     "val_k_factor": 2,
     "x_net": [
      {
       "class": "nnReshape",
       "kargs": {
        "shape": [
         -1,
         1,
         2,
         256
        ]
       }
      },
      {
       "class": "Conv2d",
       "kargs": {
        "bias": false,
        "in_channels": 1,
        "kernel_size": [
         1,
         7
        ],
        "out_channels": 256,
        "padding": [
         0,
         3
        ]
       }
      },
      {
       "class": "ReLU",
       "kargs": {
        "inplace": true
       }
      },
      {
       "class": "BatchNorm2d",
       "kargs": {
        "num_features": 256
       }
      },
      {
       "class": "Conv2d",
       "kargs": {
        "bias": true,
        "in_channels": 256,
        "kernel_size": [
         2,
         7
        ],
        "out_channels": 80,
        "padding": [
         0,
         3
        ]
       }
      },
      {
       "class": "ReLU",
       "kargs": {
        "inplace": true
       }
      },
      {
       "class": "BatchNorm2d",
       "kargs": {
        "num_features": 80
       }
      },
      {
       "class": "Flatten",
       "kargs": {}
      },
      {
       "class": "Linear",
       "kargs": {
        "in_features": 20480,
        "out_features": 256
       }
      },
      {
       "class": "ReLU",
       "kargs": {
        "inplace": true
       }
      },
      {
       "class": "BatchNorm1d",
       "kargs": {
        "num_features": 256
       }
      },
      {
       "class": "Linear",
       "kargs": {
        "in_features": 256,
        "out_features": 256
       }
      }
     ],
     "x_transforms_source": [
      "unit_mag"
     ],
     "x_transforms_target": [
      "unit_mag"
     ]
    }
   },
   "start_time": "2022-03-22T09:37:10.633654",
   "version": "2.3.4"
  }
 },
 "nbformat": 4,
 "nbformat_minor": 5
}