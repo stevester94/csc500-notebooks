{
 "cells": [
  {
   "cell_type": "markdown",
   "id": "9fea5f46",
   "metadata": {
    "papermill": {
     "duration": 0.014176,
     "end_time": "2022-03-22T12:54:23.030487",
     "exception": false,
     "start_time": "2022-03-22T12:54:23.016311",
     "status": "completed"
    },
    "tags": []
   },
   "source": [
    "# PTN Template\n",
    "This notebook serves as a template for single dataset PTN experiments  \n",
    "It can be run on its own by setting STANDALONE to True (do a find for \"STANDALONE\" to see where)  \n",
    "But it is intended to be executed as part of a *papermill.py script. See any of the   \n",
    "experimentes with a papermill script to get started with that workflow.  "
   ]
  },
  {
   "cell_type": "code",
   "execution_count": 1,
   "id": "0902182a",
   "metadata": {
    "execution": {
     "iopub.execute_input": "2022-03-22T12:54:23.064912Z",
     "iopub.status.busy": "2022-03-22T12:54:23.064337Z",
     "iopub.status.idle": "2022-03-22T12:54:24.025259Z",
     "shell.execute_reply": "2022-03-22T12:54:24.025688Z"
    },
    "papermill": {
     "duration": 0.98606,
     "end_time": "2022-03-22T12:54:24.025881",
     "exception": false,
     "start_time": "2022-03-22T12:54:23.039821",
     "status": "completed"
    },
    "tags": []
   },
   "outputs": [],
   "source": [
    "%load_ext autoreload\n",
    "%autoreload 2\n",
    "%matplotlib inline\n",
    "\n",
    "    \n",
    "import os, json, sys, time, random\n",
    "import numpy as np\n",
    "import torch\n",
    "from torch.optim import Adam\n",
    "from  easydict import EasyDict\n",
    "import matplotlib.pyplot as plt\n",
    "\n",
    "from steves_models.steves_ptn import Steves_Prototypical_Network\n",
    "\n",
    "from steves_utils.lazy_iterable_wrapper import Lazy_Iterable_Wrapper\n",
    "from steves_utils.iterable_aggregator import Iterable_Aggregator\n",
    "from steves_utils.ptn_train_eval_test_jig import  PTN_Train_Eval_Test_Jig\n",
    "from steves_utils.torch_sequential_builder import build_sequential\n",
    "from steves_utils.torch_utils import get_dataset_metrics, ptn_confusion_by_domain_over_dataloader\n",
    "from steves_utils.utils_v2 import (per_domain_accuracy_from_confusion, get_datasets_base_path)\n",
    "from steves_utils.PTN.utils import independent_accuracy_assesment\n",
    "\n",
    "from steves_utils.stratified_dataset.episodic_accessor import Episodic_Accessor_Factory\n",
    "\n",
    "from steves_utils.ptn_do_report import (\n",
    "    get_loss_curve,\n",
    "    get_results_table,\n",
    "    get_parameters_table,\n",
    "    get_domain_accuracies,\n",
    ")\n",
    "\n",
    "from steves_utils.transforms import get_chained_transform"
   ]
  },
  {
   "cell_type": "markdown",
   "id": "41c840b4",
   "metadata": {
    "papermill": {
     "duration": 0.0142,
     "end_time": "2022-03-22T12:54:24.059407",
     "exception": false,
     "start_time": "2022-03-22T12:54:24.045207",
     "status": "completed"
    },
    "tags": []
   },
   "source": [
    "# Required Parameters\n",
    "These are allowed parameters, not defaults\n",
    "Each of these values need to be present in the injected parameters (the notebook will raise an exception if they are not present)\n",
    "\n",
    "Papermill uses the cell tag \"parameters\" to inject the real parameters below this cell.\n",
    "Enable tags to see what I mean"
   ]
  },
  {
   "cell_type": "code",
   "execution_count": 2,
   "id": "fd44eb83",
   "metadata": {
    "execution": {
     "iopub.execute_input": "2022-03-22T12:54:24.079677Z",
     "iopub.status.busy": "2022-03-22T12:54:24.079407Z",
     "iopub.status.idle": "2022-03-22T12:54:24.091188Z",
     "shell.execute_reply": "2022-03-22T12:54:24.090741Z"
    },
    "papermill": {
     "duration": 0.022721,
     "end_time": "2022-03-22T12:54:24.091310",
     "exception": false,
     "start_time": "2022-03-22T12:54:24.068589",
     "status": "completed"
    },
    "tags": []
   },
   "outputs": [],
   "source": [
    "required_parameters = {\n",
    "    \"experiment_name\",\n",
    "    \"lr\",\n",
    "    \"device\",\n",
    "    \"seed\",\n",
    "    \"dataset_seed\",\n",
    "    \"labels_source\",\n",
    "    \"labels_target\",\n",
    "    \"domains_source\",\n",
    "    \"domains_target\",\n",
    "    \"num_examples_per_domain_per_label_source\",\n",
    "    \"num_examples_per_domain_per_label_target\",\n",
    "    \"n_shot\",\n",
    "    \"n_way\",\n",
    "    \"n_query\",\n",
    "    \"train_k_factor\",\n",
    "    \"val_k_factor\",\n",
    "    \"test_k_factor\",\n",
    "    \"n_epoch\",\n",
    "    \"patience\",\n",
    "    \"criteria_for_best\",\n",
    "    \"x_transforms_source\",\n",
    "    \"x_transforms_target\",\n",
    "    \"episode_transforms_source\",\n",
    "    \"episode_transforms_target\",\n",
    "    \"pickle_name\",\n",
    "    \"x_net\",\n",
    "    \"NUM_LOGS_PER_EPOCH\",\n",
    "    \"BEST_MODEL_PATH\",\n",
    "    \"torch_default_dtype\"\n",
    "}"
   ]
  },
  {
   "cell_type": "code",
   "execution_count": 3,
   "id": "fa3f0049",
   "metadata": {
    "execution": {
     "iopub.execute_input": "2022-03-22T12:54:24.119861Z",
     "iopub.status.busy": "2022-03-22T12:54:24.119558Z",
     "iopub.status.idle": "2022-03-22T12:54:24.131953Z",
     "shell.execute_reply": "2022-03-22T12:54:24.132260Z"
    },
    "papermill": {
     "duration": 0.027521,
     "end_time": "2022-03-22T12:54:24.132378",
     "exception": false,
     "start_time": "2022-03-22T12:54:24.104857",
     "status": "completed"
    },
    "tags": [
     "parameters"
    ]
   },
   "outputs": [],
   "source": [
    "\n",
    "\n",
    "standalone_parameters = {}\n",
    "standalone_parameters[\"experiment_name\"] = \"STANDALONE PTN\"\n",
    "standalone_parameters[\"lr\"] = 0.0001\n",
    "standalone_parameters[\"device\"] = \"cuda\"\n",
    "\n",
    "standalone_parameters[\"seed\"] = 1337\n",
    "standalone_parameters[\"dataset_seed\"] = 1337\n",
    "\n",
    "\n",
    "standalone_parameters[\"num_examples_per_domain_per_label_source\"]=100\n",
    "standalone_parameters[\"num_examples_per_domain_per_label_target\"]=100\n",
    "\n",
    "standalone_parameters[\"n_shot\"] = 3\n",
    "standalone_parameters[\"n_query\"]  = 2\n",
    "standalone_parameters[\"train_k_factor\"] = 1\n",
    "standalone_parameters[\"val_k_factor\"] = 2\n",
    "standalone_parameters[\"test_k_factor\"] = 2\n",
    "\n",
    "\n",
    "standalone_parameters[\"n_epoch\"] = 100\n",
    "\n",
    "standalone_parameters[\"patience\"] = 10\n",
    "standalone_parameters[\"criteria_for_best\"] = \"target_accuracy\"\n",
    "\n",
    "standalone_parameters[\"x_transforms_source\"] = [\"unit_power\"]\n",
    "standalone_parameters[\"x_transforms_target\"] = [\"unit_power\"]\n",
    "standalone_parameters[\"episode_transforms_source\"] = []\n",
    "standalone_parameters[\"episode_transforms_target\"] = []\n",
    "\n",
    "standalone_parameters[\"torch_default_dtype\"] = \"torch.float32\" \n",
    "\n",
    "\n",
    "\n",
    "standalone_parameters[\"x_net\"] =     [\n",
    "    {\"class\": \"nnReshape\", \"kargs\": {\"shape\":[-1, 1, 2, 256]}},\n",
    "    {\"class\": \"Conv2d\", \"kargs\": { \"in_channels\":1, \"out_channels\":256, \"kernel_size\":(1,7), \"bias\":False, \"padding\":(0,3), },},\n",
    "    {\"class\": \"ReLU\", \"kargs\": {\"inplace\": True}},\n",
    "    {\"class\": \"BatchNorm2d\", \"kargs\": {\"num_features\":256}},\n",
    "\n",
    "    {\"class\": \"Conv2d\", \"kargs\": { \"in_channels\":256, \"out_channels\":80, \"kernel_size\":(2,7), \"bias\":True, \"padding\":(0,3), },},\n",
    "    {\"class\": \"ReLU\", \"kargs\": {\"inplace\": True}},\n",
    "    {\"class\": \"BatchNorm2d\", \"kargs\": {\"num_features\":80}},\n",
    "    {\"class\": \"Flatten\", \"kargs\": {}},\n",
    "\n",
    "    {\"class\": \"Linear\", \"kargs\": {\"in_features\": 80*256, \"out_features\": 256}}, # 80 units per IQ pair\n",
    "    {\"class\": \"ReLU\", \"kargs\": {\"inplace\": True}},\n",
    "    {\"class\": \"BatchNorm1d\", \"kargs\": {\"num_features\":256}},\n",
    "\n",
    "    {\"class\": \"Linear\", \"kargs\": {\"in_features\": 256, \"out_features\": 256}},\n",
    "]\n",
    "\n",
    "# Parameters relevant to results\n",
    "# These parameters will basically never need to change\n",
    "standalone_parameters[\"NUM_LOGS_PER_EPOCH\"] = 10\n",
    "standalone_parameters[\"BEST_MODEL_PATH\"] = \"./best_model.pth\"\n",
    "\n",
    "# uncomment for CORES dataset\n",
    "from steves_utils.CORES.utils import (\n",
    "    ALL_NODES,\n",
    "    ALL_NODES_MINIMUM_1000_EXAMPLES,\n",
    "    ALL_DAYS\n",
    ")\n",
    "\n",
    "\n",
    "standalone_parameters[\"labels_source\"] = ALL_NODES\n",
    "standalone_parameters[\"labels_target\"] = ALL_NODES\n",
    "\n",
    "standalone_parameters[\"domains_source\"] = [1]\n",
    "standalone_parameters[\"domains_target\"] = [2,3,4,5]\n",
    "\n",
    "standalone_parameters[\"pickle_name\"] = \"cores.stratified_ds.2022A.pkl\"\n",
    "\n",
    "\n",
    "# Uncomment these for ORACLE dataset\n",
    "# from steves_utils.ORACLE.utils_v2 import (\n",
    "#     ALL_DISTANCES_FEET,\n",
    "#     ALL_RUNS,\n",
    "#     ALL_SERIAL_NUMBERS,\n",
    "# )\n",
    "# standalone_parameters[\"labels_source\"] = ALL_SERIAL_NUMBERS\n",
    "# standalone_parameters[\"labels_target\"] = ALL_SERIAL_NUMBERS\n",
    "# standalone_parameters[\"domains_source\"] = [8,20, 38,50]\n",
    "# standalone_parameters[\"domains_target\"] = [14, 26, 32, 44, 56]\n",
    "# standalone_parameters[\"pickle_name\"] = \"oracle.frame_indexed.stratified_ds.2022A.pkl\"\n",
    "# standalone_parameters[\"num_examples_per_domain_per_label_source\"]=1000\n",
    "# standalone_parameters[\"num_examples_per_domain_per_label_target\"]=1000\n",
    "\n",
    "# Uncomment these for Metahan dataset\n",
    "# standalone_parameters[\"labels_source\"] = list(range(19))\n",
    "# standalone_parameters[\"labels_target\"] = list(range(19))\n",
    "# standalone_parameters[\"domains_source\"] = [0]\n",
    "# standalone_parameters[\"domains_target\"] = [1]\n",
    "# standalone_parameters[\"pickle_name\"] = \"metehan.stratified_ds.2022A.pkl\"\n",
    "# standalone_parameters[\"n_way\"]  = len(standalone_parameters[\"labels_source\"])\n",
    "# standalone_parameters[\"num_examples_per_domain_per_label_source\"]=200\n",
    "# standalone_parameters[\"num_examples_per_domain_per_label_target\"]=100\n",
    "\n",
    "\n",
    "standalone_parameters[\"n_way\"]  = len(standalone_parameters[\"labels_source\"])"
   ]
  },
  {
   "cell_type": "code",
   "execution_count": 4,
   "id": "499244ea",
   "metadata": {
    "execution": {
     "iopub.execute_input": "2022-03-22T12:54:24.161486Z",
     "iopub.status.busy": "2022-03-22T12:54:24.161205Z",
     "iopub.status.idle": "2022-03-22T12:54:24.172761Z",
     "shell.execute_reply": "2022-03-22T12:54:24.173062Z"
    },
    "papermill": {
     "duration": 0.025447,
     "end_time": "2022-03-22T12:54:24.173156",
     "exception": false,
     "start_time": "2022-03-22T12:54:24.147709",
     "status": "completed"
    },
    "tags": [
     "injected-parameters"
    ]
   },
   "outputs": [],
   "source": [
    "# Parameters\n",
    "parameters = {\n",
    "    \"experiment_name\": \"tuned_1v2:oracle.run1\",\n",
    "    \"device\": \"cuda\",\n",
    "    \"lr\": 0.0001,\n",
    "    \"labels_source\": [\n",
    "        \"3123D52\",\n",
    "        \"3123D65\",\n",
    "        \"3123D79\",\n",
    "        \"3123D80\",\n",
    "        \"3123D54\",\n",
    "        \"3123D70\",\n",
    "        \"3123D7B\",\n",
    "        \"3123D89\",\n",
    "        \"3123D58\",\n",
    "        \"3123D76\",\n",
    "        \"3123D7D\",\n",
    "        \"3123EFE\",\n",
    "        \"3123D64\",\n",
    "        \"3123D78\",\n",
    "        \"3123D7E\",\n",
    "        \"3124E4A\",\n",
    "    ],\n",
    "    \"labels_target\": [\n",
    "        \"3123D52\",\n",
    "        \"3123D65\",\n",
    "        \"3123D79\",\n",
    "        \"3123D80\",\n",
    "        \"3123D54\",\n",
    "        \"3123D70\",\n",
    "        \"3123D7B\",\n",
    "        \"3123D89\",\n",
    "        \"3123D58\",\n",
    "        \"3123D76\",\n",
    "        \"3123D7D\",\n",
    "        \"3123EFE\",\n",
    "        \"3123D64\",\n",
    "        \"3123D78\",\n",
    "        \"3123D7E\",\n",
    "        \"3124E4A\",\n",
    "    ],\n",
    "    \"episode_transforms_source\": [],\n",
    "    \"episode_transforms_target\": [],\n",
    "    \"domains_source\": [8, 32, 50],\n",
    "    \"domains_target\": [14, 20, 26, 38, 44],\n",
    "    \"num_examples_per_domain_per_label_source\": -1,\n",
    "    \"num_examples_per_domain_per_label_target\": -1,\n",
    "    \"n_shot\": 3,\n",
    "    \"n_way\": 16,\n",
    "    \"n_query\": 2,\n",
    "    \"train_k_factor\": 3,\n",
    "    \"val_k_factor\": 2,\n",
    "    \"test_k_factor\": 2,\n",
    "    \"torch_default_dtype\": \"torch.float32\",\n",
    "    \"n_epoch\": 50,\n",
    "    \"patience\": 3,\n",
    "    \"criteria_for_best\": \"target_accuracy\",\n",
    "    \"x_net\": [\n",
    "        {\"class\": \"nnReshape\", \"kargs\": {\"shape\": [-1, 1, 2, 256]}},\n",
    "        {\n",
    "            \"class\": \"Conv2d\",\n",
    "            \"kargs\": {\n",
    "                \"in_channels\": 1,\n",
    "                \"out_channels\": 256,\n",
    "                \"kernel_size\": [1, 7],\n",
    "                \"bias\": False,\n",
    "                \"padding\": [0, 3],\n",
    "            },\n",
    "        },\n",
    "        {\"class\": \"ReLU\", \"kargs\": {\"inplace\": True}},\n",
    "        {\"class\": \"BatchNorm2d\", \"kargs\": {\"num_features\": 256}},\n",
    "        {\n",
    "            \"class\": \"Conv2d\",\n",
    "            \"kargs\": {\n",
    "                \"in_channels\": 256,\n",
    "                \"out_channels\": 80,\n",
    "                \"kernel_size\": [2, 7],\n",
    "                \"bias\": True,\n",
    "                \"padding\": [0, 3],\n",
    "            },\n",
    "        },\n",
    "        {\"class\": \"ReLU\", \"kargs\": {\"inplace\": True}},\n",
    "        {\"class\": \"BatchNorm2d\", \"kargs\": {\"num_features\": 80}},\n",
    "        {\"class\": \"Flatten\", \"kargs\": {}},\n",
    "        {\"class\": \"Linear\", \"kargs\": {\"in_features\": 20480, \"out_features\": 256}},\n",
    "        {\"class\": \"ReLU\", \"kargs\": {\"inplace\": True}},\n",
    "        {\"class\": \"BatchNorm1d\", \"kargs\": {\"num_features\": 256}},\n",
    "        {\"class\": \"Linear\", \"kargs\": {\"in_features\": 256, \"out_features\": 256}},\n",
    "    ],\n",
    "    \"NUM_LOGS_PER_EPOCH\": 10,\n",
    "    \"BEST_MODEL_PATH\": \"./best_model.pth\",\n",
    "    \"pickle_name\": \"oracle.Run1_10kExamples_stratified_ds.2022A.pkl\",\n",
    "    \"x_transforms_source\": [\"unit_power\"],\n",
    "    \"x_transforms_target\": [\"unit_power\"],\n",
    "    \"dataset_seed\": 7,\n",
    "    \"seed\": 7,\n",
    "}\n"
   ]
  },
  {
   "cell_type": "code",
   "execution_count": 5,
   "id": "8fa1cc33",
   "metadata": {
    "execution": {
     "iopub.execute_input": "2022-03-22T12:54:24.199718Z",
     "iopub.status.busy": "2022-03-22T12:54:24.199468Z",
     "iopub.status.idle": "2022-03-22T12:54:24.211008Z",
     "shell.execute_reply": "2022-03-22T12:54:24.210530Z"
    },
    "papermill": {
     "duration": 0.023382,
     "end_time": "2022-03-22T12:54:24.211106",
     "exception": false,
     "start_time": "2022-03-22T12:54:24.187724",
     "status": "completed"
    },
    "tags": []
   },
   "outputs": [],
   "source": [
    "# Set this to True if you want to run this template directly\n",
    "STANDALONE = False\n",
    "if STANDALONE:\n",
    "    print(\"parameters not injected, running with standalone_parameters\")\n",
    "    parameters = standalone_parameters\n",
    "\n",
    "if not 'parameters' in locals() and not 'parameters' in globals():\n",
    "    raise Exception(\"Parameter injection failed\")\n",
    "\n",
    "#Use an easy dict for all the parameters\n",
    "p = EasyDict(parameters)\n",
    "\n",
    "supplied_keys = set(p.keys())\n",
    "\n",
    "if  supplied_keys != required_parameters:\n",
    "    print(\"Parameters are incorrect\")\n",
    "    if len(supplied_keys - required_parameters)>0: print(\"Shouldn't have:\", str(supplied_keys - required_parameters))\n",
    "    if len(required_parameters - supplied_keys)>0: print(\"Need to have:\", str(required_parameters - supplied_keys))\n",
    "    raise RuntimeError(\"Parameters are incorrect\")\n",
    "\n"
   ]
  },
  {
   "cell_type": "code",
   "execution_count": 6,
   "id": "3a028d58",
   "metadata": {
    "execution": {
     "iopub.execute_input": "2022-03-22T12:54:24.234331Z",
     "iopub.status.busy": "2022-03-22T12:54:24.234088Z",
     "iopub.status.idle": "2022-03-22T12:54:24.245139Z",
     "shell.execute_reply": "2022-03-22T12:54:24.244889Z"
    },
    "papermill": {
     "duration": 0.022105,
     "end_time": "2022-03-22T12:54:24.245194",
     "exception": false,
     "start_time": "2022-03-22T12:54:24.223089",
     "status": "completed"
    },
    "tags": []
   },
   "outputs": [],
   "source": [
    "###################################\n",
    "# Set the RNGs and make it all deterministic\n",
    "###################################\n",
    "np.random.seed(p.seed)\n",
    "random.seed(p.seed)\n",
    "torch.manual_seed(p.seed)\n",
    "\n",
    "torch.use_deterministic_algorithms(True) "
   ]
  },
  {
   "cell_type": "code",
   "execution_count": 7,
   "id": "b691acf6",
   "metadata": {
    "execution": {
     "iopub.execute_input": "2022-03-22T12:54:24.269036Z",
     "iopub.status.busy": "2022-03-22T12:54:24.268794Z",
     "iopub.status.idle": "2022-03-22T12:54:24.284535Z",
     "shell.execute_reply": "2022-03-22T12:54:24.284061Z"
    },
    "papermill": {
     "duration": 0.027036,
     "end_time": "2022-03-22T12:54:24.284633",
     "exception": false,
     "start_time": "2022-03-22T12:54:24.257597",
     "status": "completed"
    },
    "tags": []
   },
   "outputs": [],
   "source": [
    "###########################################\n",
    "# The stratified datasets honor this\n",
    "###########################################\n",
    "torch.set_default_dtype(eval(p.torch_default_dtype))"
   ]
  },
  {
   "cell_type": "code",
   "execution_count": 8,
   "id": "b5fba671",
   "metadata": {
    "execution": {
     "iopub.execute_input": "2022-03-22T12:54:24.311150Z",
     "iopub.status.busy": "2022-03-22T12:54:24.310910Z",
     "iopub.status.idle": "2022-03-22T12:54:24.350591Z",
     "shell.execute_reply": "2022-03-22T12:54:24.350992Z"
    },
    "papermill": {
     "duration": 0.051313,
     "end_time": "2022-03-22T12:54:24.351120",
     "exception": false,
     "start_time": "2022-03-22T12:54:24.299807",
     "status": "completed"
    },
    "tags": []
   },
   "outputs": [],
   "source": [
    "###################################\n",
    "# Build the network(s)\n",
    "# Note: It's critical to do this AFTER setting the RNG\n",
    "# (This is due to the randomized initial weights)\n",
    "###################################\n",
    "x_net = build_sequential(p.x_net)"
   ]
  },
  {
   "cell_type": "code",
   "execution_count": 9,
   "id": "5d7e61cc",
   "metadata": {
    "execution": {
     "iopub.execute_input": "2022-03-22T12:54:24.379258Z",
     "iopub.status.busy": "2022-03-22T12:54:24.379007Z",
     "iopub.status.idle": "2022-03-22T12:54:24.393070Z",
     "shell.execute_reply": "2022-03-22T12:54:24.392708Z"
    },
    "papermill": {
     "duration": 0.025684,
     "end_time": "2022-03-22T12:54:24.393147",
     "exception": false,
     "start_time": "2022-03-22T12:54:24.367463",
     "status": "completed"
    },
    "tags": []
   },
   "outputs": [],
   "source": [
    "start_time_secs = time.time()"
   ]
  },
  {
   "cell_type": "code",
   "execution_count": 10,
   "id": "fd5442bc",
   "metadata": {
    "execution": {
     "iopub.execute_input": "2022-03-22T12:54:24.426681Z",
     "iopub.status.busy": "2022-03-22T12:54:24.419351Z",
     "iopub.status.idle": "2022-03-22T12:55:44.642907Z",
     "shell.execute_reply": "2022-03-22T12:55:44.642453Z"
    },
    "papermill": {
     "duration": 80.234659,
     "end_time": "2022-03-22T12:55:44.643015",
     "exception": false,
     "start_time": "2022-03-22T12:54:24.408356",
     "status": "completed"
    },
    "tags": []
   },
   "outputs": [],
   "source": [
    "###################################\n",
    "# Build the dataset\n",
    "###################################\n",
    "\n",
    "if p.x_transforms_source == []: x_transform_source = None\n",
    "else: x_transform_source = get_chained_transform(p.x_transforms_source) \n",
    "\n",
    "if p.x_transforms_target == []: x_transform_target = None\n",
    "else: x_transform_target = get_chained_transform(p.x_transforms_target)\n",
    "\n",
    "if p.episode_transforms_source == []: episode_transform_source = None\n",
    "else: raise Exception(\"episode_transform_source not implemented\")\n",
    "\n",
    "if p.episode_transforms_target == []: episode_transform_target = None\n",
    "else: raise Exception(\"episode_transform_target not implemented\")\n",
    "\n",
    "\n",
    "eaf_source = Episodic_Accessor_Factory(\n",
    "    labels=p.labels_source,\n",
    "    domains=p.domains_source,\n",
    "    num_examples_per_domain_per_label=p.num_examples_per_domain_per_label_source,\n",
    "    iterator_seed=p.seed,\n",
    "    dataset_seed=p.dataset_seed,\n",
    "    n_shot=p.n_shot,\n",
    "    n_way=p.n_way,\n",
    "    n_query=p.n_query,\n",
    "    train_val_test_k_factors=(p.train_k_factor,p.val_k_factor,p.test_k_factor),\n",
    "    pickle_path=os.path.join(get_datasets_base_path(), p.pickle_name),\n",
    "    x_transform_func=x_transform_source,\n",
    "    example_transform_func=episode_transform_source,\n",
    "    \n",
    ")\n",
    "train_original_source, val_original_source, test_original_source = eaf_source.get_train(), eaf_source.get_val(), eaf_source.get_test()\n",
    "\n",
    "\n",
    "eaf_target = Episodic_Accessor_Factory(\n",
    "    labels=p.labels_target,\n",
    "    domains=p.domains_target,\n",
    "    num_examples_per_domain_per_label=p.num_examples_per_domain_per_label_target,\n",
    "    iterator_seed=p.seed,\n",
    "    dataset_seed=p.dataset_seed,\n",
    "    n_shot=p.n_shot,\n",
    "    n_way=p.n_way,\n",
    "    n_query=p.n_query,\n",
    "    train_val_test_k_factors=(p.train_k_factor,p.val_k_factor,p.test_k_factor),\n",
    "    pickle_path=os.path.join(get_datasets_base_path(), p.pickle_name),\n",
    "    x_transform_func=x_transform_target,\n",
    "    example_transform_func=episode_transform_target,\n",
    ")\n",
    "train_original_target, val_original_target, test_original_target = eaf_target.get_train(), eaf_target.get_val(), eaf_target.get_test()\n",
    "\n",
    "\n",
    "transform_lambda = lambda ex: ex[1] # Original is (<domain>, <episode>) so we strip down to episode only\n",
    "\n",
    "train_processed_source = Lazy_Iterable_Wrapper(train_original_source, transform_lambda)\n",
    "val_processed_source   = Lazy_Iterable_Wrapper(val_original_source, transform_lambda)\n",
    "test_processed_source  = Lazy_Iterable_Wrapper(test_original_source, transform_lambda)\n",
    "\n",
    "train_processed_target = Lazy_Iterable_Wrapper(train_original_target, transform_lambda)\n",
    "val_processed_target   = Lazy_Iterable_Wrapper(val_original_target, transform_lambda)\n",
    "test_processed_target  = Lazy_Iterable_Wrapper(test_original_target, transform_lambda)\n",
    "\n",
    "datasets = EasyDict({\n",
    "    \"source\": {\n",
    "        \"original\": {\"train\":train_original_source, \"val\":val_original_source, \"test\":test_original_source},\n",
    "        \"processed\": {\"train\":train_processed_source, \"val\":val_processed_source, \"test\":test_processed_source}\n",
    "    },\n",
    "    \"target\": {\n",
    "        \"original\": {\"train\":train_original_target, \"val\":val_original_target, \"test\":test_original_target},\n",
    "        \"processed\": {\"train\":train_processed_target, \"val\":val_processed_target, \"test\":test_processed_target}\n",
    "    },\n",
    "})"
   ]
  },
  {
   "cell_type": "code",
   "execution_count": 11,
   "id": "296189d9",
   "metadata": {
    "execution": {
     "iopub.execute_input": "2022-03-22T12:55:44.669947Z",
     "iopub.status.busy": "2022-03-22T12:55:44.669697Z",
     "iopub.status.idle": "2022-03-22T12:55:46.603961Z",
     "shell.execute_reply": "2022-03-22T12:55:46.604406Z"
    },
    "papermill": {
     "duration": 1.947271,
     "end_time": "2022-03-22T12:55:46.604541",
     "exception": false,
     "start_time": "2022-03-22T12:55:44.657270",
     "status": "completed"
    },
    "tags": []
   },
   "outputs": [
    {
     "name": "stdout",
     "output_type": "stream",
     "text": [
      "Visually inspect these to see if they line up with expected values given the transforms\n",
      "x_transforms_source ['unit_power']\n",
      "x_transforms_target ['unit_power']\n",
      "Average magnitude, source: 0.9554377\n",
      "Average power, source: 1.0\n"
     ]
    },
    {
     "name": "stdout",
     "output_type": "stream",
     "text": [
      "Average magnitude, target: 0.8948246\n",
      "Average power, target: 1.0\n"
     ]
    }
   ],
   "source": [
    "# Some quick unit tests on the data\n",
    "from steves_utils.transforms import get_average_power, get_average_magnitude\n",
    "\n",
    "q_x, q_y, s_x, s_y, truth = next(iter(train_processed_source))\n",
    "\n",
    "assert q_x.dtype == eval(p.torch_default_dtype)\n",
    "assert s_x.dtype == eval(p.torch_default_dtype)\n",
    "\n",
    "print(\"Visually inspect these to see if they line up with expected values given the transforms\")\n",
    "print('x_transforms_source', p.x_transforms_source)\n",
    "print('x_transforms_target', p.x_transforms_target)\n",
    "print(\"Average magnitude, source:\", get_average_magnitude(q_x[0].numpy()))\n",
    "print(\"Average power, source:\", get_average_power(q_x[0].numpy()))\n",
    "\n",
    "q_x, q_y, s_x, s_y, truth = next(iter(train_processed_target))\n",
    "print(\"Average magnitude, target:\", get_average_magnitude(q_x[0].numpy()))\n",
    "print(\"Average power, target:\", get_average_power(q_x[0].numpy()))\n"
   ]
  },
  {
   "cell_type": "code",
   "execution_count": 12,
   "id": "bbdacba1",
   "metadata": {
    "execution": {
     "iopub.execute_input": "2022-03-22T12:55:46.630502Z",
     "iopub.status.busy": "2022-03-22T12:55:46.630246Z",
     "iopub.status.idle": "2022-03-22T12:55:46.698044Z",
     "shell.execute_reply": "2022-03-22T12:55:46.698344Z"
    },
    "papermill": {
     "duration": 0.081442,
     "end_time": "2022-03-22T12:55:46.698445",
     "exception": false,
     "start_time": "2022-03-22T12:55:46.617003",
     "status": "completed"
    },
    "tags": []
   },
   "outputs": [
    {
     "name": "stdout",
     "output_type": "stream",
     "text": [
      "(2, 256)\n"
     ]
    }
   ],
   "source": [
    "###################################\n",
    "# Build the model\n",
    "###################################\n",
    "model = Steves_Prototypical_Network(x_net, device=p.device, x_shape=(2,256))\n",
    "optimizer = Adam(params=model.parameters(), lr=p.lr)"
   ]
  },
  {
   "cell_type": "code",
   "execution_count": 13,
   "id": "22b39ac5",
   "metadata": {
    "execution": {
     "iopub.execute_input": "2022-03-22T12:55:46.725289Z",
     "iopub.status.busy": "2022-03-22T12:55:46.725045Z",
     "iopub.status.idle": "2022-03-22T13:54:01.186130Z",
     "shell.execute_reply": "2022-03-22T13:54:01.185906Z"
    },
    "papermill": {
     "duration": 3494.474169,
     "end_time": "2022-03-22T13:54:01.186186",
     "exception": false,
     "start_time": "2022-03-22T12:55:46.712017",
     "status": "completed"
    },
    "tags": []
   },
   "outputs": [
    {
     "name": "stdout",
     "output_type": "stream",
     "text": [
      "epoch: 1, [batch: 1 / 12600], examples_per_second: 26.5053, train_label_loss: 2.7716, \n"
     ]
    },
    {
     "name": "stdout",
     "output_type": "stream",
     "text": [
      "epoch: 1, [batch: 1260 / 12600], examples_per_second: 3222.6887, train_label_loss: 2.0058, \n"
     ]
    },
    {
     "name": "stdout",
     "output_type": "stream",
     "text": [
      "epoch: 1, [batch: 2520 / 12600], examples_per_second: 3244.1515, train_label_loss: 1.7241, \n"
     ]
    },
    {
     "name": "stdout",
     "output_type": "stream",
     "text": [
      "epoch: 1, [batch: 3780 / 12600], examples_per_second: 3233.5054, train_label_loss: 1.3640, \n"
     ]
    },
    {
     "name": "stdout",
     "output_type": "stream",
     "text": [
      "epoch: 1, [batch: 5040 / 12600], examples_per_second: 3215.7031, train_label_loss: 1.6211, \n"
     ]
    },
    {
     "name": "stdout",
     "output_type": "stream",
     "text": [
      "epoch: 1, [batch: 6300 / 12600], examples_per_second: 3227.8149, train_label_loss: 1.2331, \n"
     ]
    },
    {
     "name": "stdout",
     "output_type": "stream",
     "text": [
      "epoch: 1, [batch: 7560 / 12600], examples_per_second: 3225.8755, train_label_loss: 1.3727, \n"
     ]
    },
    {
     "name": "stdout",
     "output_type": "stream",
     "text": [
      "epoch: 1, [batch: 8820 / 12600], examples_per_second: 3217.9091, train_label_loss: 1.2324, \n"
     ]
    },
    {
     "name": "stdout",
     "output_type": "stream",
     "text": [
      "epoch: 1, [batch: 10080 / 12600], examples_per_second: 3218.5242, train_label_loss: 1.4214, \n"
     ]
    },
    {
     "name": "stdout",
     "output_type": "stream",
     "text": [
      "epoch: 1, [batch: 11340 / 12600], examples_per_second: 3225.9929, train_label_loss: 1.3020, \n"
     ]
    },
    {
     "name": "stdout",
     "output_type": "stream",
     "text": [
      "=============================================================\n",
      "epoch: 1, source_val_acc_label: 0.4556, target_val_acc_label: 0.3350, source_val_label_loss: 1.3582, target_val_label_loss: 1.6983, \n",
      "=============================================================\n"
     ]
    },
    {
     "name": "stdout",
     "output_type": "stream",
     "text": [
      "New best\n"
     ]
    },
    {
     "name": "stdout",
     "output_type": "stream",
     "text": [
      "epoch: 2, [batch: 1 / 12600], examples_per_second: 2.2632, train_label_loss: 1.5129, \n"
     ]
    },
    {
     "name": "stdout",
     "output_type": "stream",
     "text": [
      "epoch: 2, [batch: 1260 / 12600], examples_per_second: 3211.7171, train_label_loss: 1.1230, \n"
     ]
    },
    {
     "name": "stdout",
     "output_type": "stream",
     "text": [
      "epoch: 2, [batch: 2520 / 12600], examples_per_second: 3238.6261, train_label_loss: 1.0138, \n"
     ]
    },
    {
     "name": "stdout",
     "output_type": "stream",
     "text": [
      "epoch: 2, [batch: 3780 / 12600], examples_per_second: 3251.6971, train_label_loss: 1.0251, \n"
     ]
    },
    {
     "name": "stdout",
     "output_type": "stream",
     "text": [
      "epoch: 2, [batch: 5040 / 12600], examples_per_second: 3250.3820, train_label_loss: 1.1713, \n"
     ]
    },
    {
     "name": "stdout",
     "output_type": "stream",
     "text": [
      "epoch: 2, [batch: 6300 / 12600], examples_per_second: 3252.6577, train_label_loss: 0.7790, \n"
     ]
    },
    {
     "name": "stdout",
     "output_type": "stream",
     "text": [
      "epoch: 2, [batch: 7560 / 12600], examples_per_second: 3255.8648, train_label_loss: 0.9163, \n"
     ]
    },
    {
     "name": "stdout",
     "output_type": "stream",
     "text": [
      "epoch: 2, [batch: 8820 / 12600], examples_per_second: 3247.8899, train_label_loss: 0.5719, \n"
     ]
    },
    {
     "name": "stdout",
     "output_type": "stream",
     "text": [
      "epoch: 2, [batch: 10080 / 12600], examples_per_second: 3258.3568, train_label_loss: 0.7500, \n"
     ]
    },
    {
     "name": "stdout",
     "output_type": "stream",
     "text": [
      "epoch: 2, [batch: 11340 / 12600], examples_per_second: 3258.0795, train_label_loss: 0.5720, \n"
     ]
    },
    {
     "name": "stdout",
     "output_type": "stream",
     "text": [
      "=============================================================\n",
      "epoch: 2, source_val_acc_label: 0.6622, target_val_acc_label: 0.5804, source_val_label_loss: 0.9055, target_val_label_loss: 1.1170, \n",
      "=============================================================\n"
     ]
    },
    {
     "name": "stdout",
     "output_type": "stream",
     "text": [
      "New best\n"
     ]
    },
    {
     "name": "stdout",
     "output_type": "stream",
     "text": [
      "epoch: 3, [batch: 1 / 12600], examples_per_second: 2.2919, train_label_loss: 0.7043, \n"
     ]
    },
    {
     "name": "stdout",
     "output_type": "stream",
     "text": [
      "epoch: 3, [batch: 1260 / 12600], examples_per_second: 3227.5827, train_label_loss: 0.6398, \n"
     ]
    },
    {
     "name": "stdout",
     "output_type": "stream",
     "text": [
      "epoch: 3, [batch: 2520 / 12600], examples_per_second: 3255.0696, train_label_loss: 0.7722, \n"
     ]
    },
    {
     "name": "stdout",
     "output_type": "stream",
     "text": [
      "epoch: 3, [batch: 3780 / 12600], examples_per_second: 3253.3929, train_label_loss: 0.6951, \n"
     ]
    },
    {
     "name": "stdout",
     "output_type": "stream",
     "text": [
      "epoch: 3, [batch: 5040 / 12600], examples_per_second: 3246.9046, train_label_loss: 0.5726, \n"
     ]
    },
    {
     "name": "stdout",
     "output_type": "stream",
     "text": [
      "epoch: 3, [batch: 6300 / 12600], examples_per_second: 3260.5410, train_label_loss: 0.5944, \n"
     ]
    },
    {
     "name": "stdout",
     "output_type": "stream",
     "text": [
      "epoch: 3, [batch: 7560 / 12600], examples_per_second: 3259.9565, train_label_loss: 0.8543, \n"
     ]
    },
    {
     "name": "stdout",
     "output_type": "stream",
     "text": [
      "epoch: 3, [batch: 8820 / 12600], examples_per_second: 3252.0505, train_label_loss: 0.6003, \n"
     ]
    },
    {
     "name": "stdout",
     "output_type": "stream",
     "text": [
      "epoch: 3, [batch: 10080 / 12600], examples_per_second: 3254.5237, train_label_loss: 0.6587, \n"
     ]
    },
    {
     "name": "stdout",
     "output_type": "stream",
     "text": [
      "epoch: 3, [batch: 11340 / 12600], examples_per_second: 3273.4718, train_label_loss: 0.7773, \n"
     ]
    },
    {
     "name": "stdout",
     "output_type": "stream",
     "text": [
      "=============================================================\n",
      "epoch: 3, source_val_acc_label: 0.6829, target_val_acc_label: 0.6077, source_val_label_loss: 0.8705, target_val_label_loss: 1.0651, \n",
      "=============================================================\n"
     ]
    },
    {
     "name": "stdout",
     "output_type": "stream",
     "text": [
      "New best\n"
     ]
    },
    {
     "name": "stdout",
     "output_type": "stream",
     "text": [
      "epoch: 4, [batch: 1 / 12600], examples_per_second: 2.2885, train_label_loss: 0.6581, \n"
     ]
    },
    {
     "name": "stdout",
     "output_type": "stream",
     "text": [
      "epoch: 4, [batch: 1260 / 12600], examples_per_second: 3225.9871, train_label_loss: 0.5864, \n"
     ]
    },
    {
     "name": "stdout",
     "output_type": "stream",
     "text": [
      "epoch: 4, [batch: 2520 / 12600], examples_per_second: 3251.1731, train_label_loss: 0.5102, \n"
     ]
    },
    {
     "name": "stdout",
     "output_type": "stream",
     "text": [
      "epoch: 4, [batch: 3780 / 12600], examples_per_second: 3264.1546, train_label_loss: 0.6968, \n"
     ]
    },
    {
     "name": "stdout",
     "output_type": "stream",
     "text": [
      "epoch: 4, [batch: 5040 / 12600], examples_per_second: 3247.8793, train_label_loss: 0.6142, \n"
     ]
    },
    {
     "name": "stdout",
     "output_type": "stream",
     "text": [
      "epoch: 4, [batch: 6300 / 12600], examples_per_second: 3252.7130, train_label_loss: 0.8467, \n"
     ]
    },
    {
     "name": "stdout",
     "output_type": "stream",
     "text": [
      "epoch: 4, [batch: 7560 / 12600], examples_per_second: 3265.6472, train_label_loss: 0.6139, \n"
     ]
    },
    {
     "name": "stdout",
     "output_type": "stream",
     "text": [
      "epoch: 4, [batch: 8820 / 12600], examples_per_second: 3249.9130, train_label_loss: 0.8161, \n"
     ]
    },
    {
     "name": "stdout",
     "output_type": "stream",
     "text": [
      "epoch: 4, [batch: 10080 / 12600], examples_per_second: 3262.9270, train_label_loss: 0.5493, \n"
     ]
    },
    {
     "name": "stdout",
     "output_type": "stream",
     "text": [
      "epoch: 4, [batch: 11340 / 12600], examples_per_second: 3248.4724, train_label_loss: 0.6683, \n"
     ]
    },
    {
     "name": "stdout",
     "output_type": "stream",
     "text": [
      "=============================================================\n",
      "epoch: 4, source_val_acc_label: 0.6934, target_val_acc_label: 0.6132, source_val_label_loss: 0.8441, target_val_label_loss: 1.0455, \n",
      "=============================================================\n"
     ]
    },
    {
     "name": "stdout",
     "output_type": "stream",
     "text": [
      "New best\n"
     ]
    },
    {
     "name": "stdout",
     "output_type": "stream",
     "text": [
      "epoch: 5, [batch: 1 / 12600], examples_per_second: 2.2821, train_label_loss: 0.7240, \n"
     ]
    },
    {
     "name": "stdout",
     "output_type": "stream",
     "text": [
      "epoch: 5, [batch: 1260 / 12600], examples_per_second: 3238.4740, train_label_loss: 0.5618, \n"
     ]
    },
    {
     "name": "stdout",
     "output_type": "stream",
     "text": [
      "epoch: 5, [batch: 2520 / 12600], examples_per_second: 3259.5574, train_label_loss: 0.7332, \n"
     ]
    },
    {
     "name": "stdout",
     "output_type": "stream",
     "text": [
      "epoch: 5, [batch: 3780 / 12600], examples_per_second: 3258.9797, train_label_loss: 0.6026, \n"
     ]
    },
    {
     "name": "stdout",
     "output_type": "stream",
     "text": [
      "epoch: 5, [batch: 5040 / 12600], examples_per_second: 3248.1723, train_label_loss: 0.5539, \n"
     ]
    },
    {
     "name": "stdout",
     "output_type": "stream",
     "text": [
      "epoch: 5, [batch: 6300 / 12600], examples_per_second: 3250.0525, train_label_loss: 0.4693, \n"
     ]
    },
    {
     "name": "stdout",
     "output_type": "stream",
     "text": [
      "epoch: 5, [batch: 7560 / 12600], examples_per_second: 3255.1763, train_label_loss: 0.6882, \n"
     ]
    },
    {
     "name": "stdout",
     "output_type": "stream",
     "text": [
      "epoch: 5, [batch: 8820 / 12600], examples_per_second: 3247.6308, train_label_loss: 0.3963, \n"
     ]
    },
    {
     "name": "stdout",
     "output_type": "stream",
     "text": [
      "epoch: 5, [batch: 10080 / 12600], examples_per_second: 3256.5671, train_label_loss: 0.6035, \n"
     ]
    },
    {
     "name": "stdout",
     "output_type": "stream",
     "text": [
      "epoch: 5, [batch: 11340 / 12600], examples_per_second: 3256.4669, train_label_loss: 0.7116, \n"
     ]
    },
    {
     "name": "stdout",
     "output_type": "stream",
     "text": [
      "=============================================================\n",
      "epoch: 5, source_val_acc_label: 0.6830, target_val_acc_label: 0.5998, source_val_label_loss: 0.8525, target_val_label_loss: 1.0744, \n",
      "=============================================================\n"
     ]
    },
    {
     "name": "stdout",
     "output_type": "stream",
     "text": [
      "epoch: 6, [batch: 1 / 12600], examples_per_second: 2.2918, train_label_loss: 0.5741, \n"
     ]
    },
    {
     "name": "stdout",
     "output_type": "stream",
     "text": [
      "epoch: 6, [batch: 1260 / 12600], examples_per_second: 3234.3137, train_label_loss: 0.5959, \n"
     ]
    },
    {
     "name": "stdout",
     "output_type": "stream",
     "text": [
      "epoch: 6, [batch: 2520 / 12600], examples_per_second: 3244.7436, train_label_loss: 0.6314, \n"
     ]
    },
    {
     "name": "stdout",
     "output_type": "stream",
     "text": [
      "epoch: 6, [batch: 3780 / 12600], examples_per_second: 3244.5888, train_label_loss: 0.7273, \n"
     ]
    },
    {
     "name": "stdout",
     "output_type": "stream",
     "text": [
      "epoch: 6, [batch: 5040 / 12600], examples_per_second: 3230.8540, train_label_loss: 0.4575, \n"
     ]
    },
    {
     "name": "stdout",
     "output_type": "stream",
     "text": [
      "epoch: 6, [batch: 6300 / 12600], examples_per_second: 3247.1049, train_label_loss: 0.6127, \n"
     ]
    },
    {
     "name": "stdout",
     "output_type": "stream",
     "text": [
      "epoch: 6, [batch: 7560 / 12600], examples_per_second: 3258.2220, train_label_loss: 0.4547, \n"
     ]
    },
    {
     "name": "stdout",
     "output_type": "stream",
     "text": [
      "epoch: 6, [batch: 8820 / 12600], examples_per_second: 3245.2866, train_label_loss: 0.3879, \n"
     ]
    },
    {
     "name": "stdout",
     "output_type": "stream",
     "text": [
      "epoch: 6, [batch: 10080 / 12600], examples_per_second: 3248.7642, train_label_loss: 0.4670, \n"
     ]
    },
    {
     "name": "stdout",
     "output_type": "stream",
     "text": [
      "epoch: 6, [batch: 11340 / 12600], examples_per_second: 3245.6129, train_label_loss: 0.8719, \n"
     ]
    },
    {
     "name": "stdout",
     "output_type": "stream",
     "text": [
      "=============================================================\n",
      "epoch: 6, source_val_acc_label: 0.7020, target_val_acc_label: 0.6214, source_val_label_loss: 0.8828, target_val_label_loss: 1.0857, \n",
      "=============================================================\n"
     ]
    },
    {
     "name": "stdout",
     "output_type": "stream",
     "text": [
      "New best\n"
     ]
    },
    {
     "name": "stdout",
     "output_type": "stream",
     "text": [
      "epoch: 7, [batch: 1 / 12600], examples_per_second: 2.2875, train_label_loss: 0.3430, \n"
     ]
    },
    {
     "name": "stdout",
     "output_type": "stream",
     "text": [
      "epoch: 7, [batch: 1260 / 12600], examples_per_second: 3223.9172, train_label_loss: 0.4376, \n"
     ]
    },
    {
     "name": "stdout",
     "output_type": "stream",
     "text": [
      "epoch: 7, [batch: 2520 / 12600], examples_per_second: 3240.1173, train_label_loss: 0.6604, \n"
     ]
    },
    {
     "name": "stdout",
     "output_type": "stream",
     "text": [
      "epoch: 7, [batch: 3780 / 12600], examples_per_second: 3255.1605, train_label_loss: 0.5257, \n"
     ]
    },
    {
     "name": "stdout",
     "output_type": "stream",
     "text": [
      "epoch: 7, [batch: 5040 / 12600], examples_per_second: 3240.9947, train_label_loss: 0.3851, \n"
     ]
    },
    {
     "name": "stdout",
     "output_type": "stream",
     "text": [
      "epoch: 7, [batch: 6300 / 12600], examples_per_second: 3245.9387, train_label_loss: 0.3932, \n"
     ]
    },
    {
     "name": "stdout",
     "output_type": "stream",
     "text": [
      "epoch: 7, [batch: 7560 / 12600], examples_per_second: 3260.5604, train_label_loss: 0.4847, \n"
     ]
    },
    {
     "name": "stdout",
     "output_type": "stream",
     "text": [
      "epoch: 7, [batch: 8820 / 12600], examples_per_second: 3245.8428, train_label_loss: 0.4221, \n"
     ]
    },
    {
     "name": "stdout",
     "output_type": "stream",
     "text": [
      "epoch: 7, [batch: 10080 / 12600], examples_per_second: 3253.6113, train_label_loss: 0.3231, \n"
     ]
    },
    {
     "name": "stdout",
     "output_type": "stream",
     "text": [
      "epoch: 7, [batch: 11340 / 12600], examples_per_second: 3263.1465, train_label_loss: 0.3575, \n"
     ]
    },
    {
     "name": "stdout",
     "output_type": "stream",
     "text": [
      "=============================================================\n",
      "epoch: 7, source_val_acc_label: 0.6893, target_val_acc_label: 0.6115, source_val_label_loss: 0.9048, target_val_label_loss: 1.1179, \n",
      "=============================================================\n"
     ]
    },
    {
     "name": "stdout",
     "output_type": "stream",
     "text": [
      "epoch: 8, [batch: 1 / 12600], examples_per_second: 2.2797, train_label_loss: 0.6277, \n"
     ]
    },
    {
     "name": "stdout",
     "output_type": "stream",
     "text": [
      "epoch: 8, [batch: 1260 / 12600], examples_per_second: 3239.6488, train_label_loss: 0.3836, \n"
     ]
    },
    {
     "name": "stdout",
     "output_type": "stream",
     "text": [
      "epoch: 8, [batch: 2520 / 12600], examples_per_second: 3257.3908, train_label_loss: 0.1884, \n"
     ]
    },
    {
     "name": "stdout",
     "output_type": "stream",
     "text": [
      "epoch: 8, [batch: 3780 / 12600], examples_per_second: 3254.3170, train_label_loss: 0.2886, \n"
     ]
    },
    {
     "name": "stdout",
     "output_type": "stream",
     "text": [
      "epoch: 8, [batch: 5040 / 12600], examples_per_second: 3246.9319, train_label_loss: 0.3609, \n"
     ]
    },
    {
     "name": "stdout",
     "output_type": "stream",
     "text": [
      "epoch: 8, [batch: 6300 / 12600], examples_per_second: 3251.0456, train_label_loss: 0.4820, \n"
     ]
    },
    {
     "name": "stdout",
     "output_type": "stream",
     "text": [
      "epoch: 8, [batch: 7560 / 12600], examples_per_second: 3255.5094, train_label_loss: 0.5001, \n"
     ]
    },
    {
     "name": "stdout",
     "output_type": "stream",
     "text": [
      "epoch: 8, [batch: 8820 / 12600], examples_per_second: 3252.0408, train_label_loss: 0.2184, \n"
     ]
    },
    {
     "name": "stdout",
     "output_type": "stream",
     "text": [
      "epoch: 8, [batch: 10080 / 12600], examples_per_second: 3253.8952, train_label_loss: 0.3651, \n"
     ]
    },
    {
     "name": "stdout",
     "output_type": "stream",
     "text": [
      "epoch: 8, [batch: 11340 / 12600], examples_per_second: 3260.4808, train_label_loss: 0.5233, \n"
     ]
    },
    {
     "name": "stdout",
     "output_type": "stream",
     "text": [
      "=============================================================\n",
      "epoch: 8, source_val_acc_label: 0.6883, target_val_acc_label: 0.6073, source_val_label_loss: 0.9279, target_val_label_loss: 1.1525, \n",
      "=============================================================\n"
     ]
    },
    {
     "name": "stdout",
     "output_type": "stream",
     "text": [
      "epoch: 9, [batch: 1 / 12600], examples_per_second: 2.2939, train_label_loss: 0.5926, \n"
     ]
    },
    {
     "name": "stdout",
     "output_type": "stream",
     "text": [
      "epoch: 9, [batch: 1260 / 12600], examples_per_second: 3217.6657, train_label_loss: 0.2459, \n"
     ]
    },
    {
     "name": "stdout",
     "output_type": "stream",
     "text": [
      "epoch: 9, [batch: 2520 / 12600], examples_per_second: 3242.3024, train_label_loss: 0.5234, \n"
     ]
    },
    {
     "name": "stdout",
     "output_type": "stream",
     "text": [
      "epoch: 9, [batch: 3780 / 12600], examples_per_second: 3236.8270, train_label_loss: 0.2191, \n"
     ]
    },
    {
     "name": "stdout",
     "output_type": "stream",
     "text": [
      "epoch: 9, [batch: 5040 / 12600], examples_per_second: 3242.9488, train_label_loss: 0.3810, \n"
     ]
    },
    {
     "name": "stdout",
     "output_type": "stream",
     "text": [
      "epoch: 9, [batch: 6300 / 12600], examples_per_second: 3260.7792, train_label_loss: 0.1787, \n"
     ]
    },
    {
     "name": "stdout",
     "output_type": "stream",
     "text": [
      "epoch: 9, [batch: 7560 / 12600], examples_per_second: 3261.1079, train_label_loss: 0.2646, \n"
     ]
    },
    {
     "name": "stdout",
     "output_type": "stream",
     "text": [
      "epoch: 9, [batch: 8820 / 12600], examples_per_second: 3235.2458, train_label_loss: 0.2308, \n"
     ]
    },
    {
     "name": "stdout",
     "output_type": "stream",
     "text": [
      "epoch: 9, [batch: 10080 / 12600], examples_per_second: 3251.4258, train_label_loss: 0.4608, \n"
     ]
    },
    {
     "name": "stdout",
     "output_type": "stream",
     "text": [
      "epoch: 9, [batch: 11340 / 12600], examples_per_second: 3251.6059, train_label_loss: 0.5714, \n"
     ]
    },
    {
     "name": "stdout",
     "output_type": "stream",
     "text": [
      "=============================================================\n",
      "epoch: 9, source_val_acc_label: 0.6860, target_val_acc_label: 0.6055, source_val_label_loss: 0.9854, target_val_label_loss: 1.2189, \n",
      "=============================================================\n"
     ]
    },
    {
     "name": "stdout",
     "output_type": "stream",
     "text": [
      "epoch: 10, [batch: 1 / 12600], examples_per_second: 2.2822, train_label_loss: 0.3436, \n"
     ]
    },
    {
     "name": "stdout",
     "output_type": "stream",
     "text": [
      "epoch: 10, [batch: 1260 / 12600], examples_per_second: 3224.4821, train_label_loss: 0.3096, \n"
     ]
    },
    {
     "name": "stdout",
     "output_type": "stream",
     "text": [
      "epoch: 10, [batch: 2520 / 12600], examples_per_second: 3247.0062, train_label_loss: 0.3159, \n"
     ]
    },
    {
     "name": "stdout",
     "output_type": "stream",
     "text": [
      "epoch: 10, [batch: 3780 / 12600], examples_per_second: 3258.4807, train_label_loss: 0.1393, \n"
     ]
    },
    {
     "name": "stdout",
     "output_type": "stream",
     "text": [
      "epoch: 10, [batch: 5040 / 12600], examples_per_second: 3245.7491, train_label_loss: 0.2065, \n"
     ]
    },
    {
     "name": "stdout",
     "output_type": "stream",
     "text": [
      "epoch: 10, [batch: 6300 / 12600], examples_per_second: 3247.9791, train_label_loss: 0.2881, \n"
     ]
    },
    {
     "name": "stdout",
     "output_type": "stream",
     "text": [
      "epoch: 10, [batch: 7560 / 12600], examples_per_second: 3254.9911, train_label_loss: 0.0832, \n"
     ]
    },
    {
     "name": "stdout",
     "output_type": "stream",
     "text": [
      "epoch: 10, [batch: 8820 / 12600], examples_per_second: 3235.0637, train_label_loss: 0.1521, \n"
     ]
    },
    {
     "name": "stdout",
     "output_type": "stream",
     "text": [
      "epoch: 10, [batch: 10080 / 12600], examples_per_second: 3244.8137, train_label_loss: 0.4615, \n"
     ]
    },
    {
     "name": "stdout",
     "output_type": "stream",
     "text": [
      "epoch: 10, [batch: 11340 / 12600], examples_per_second: 3250.8088, train_label_loss: 0.4671, \n"
     ]
    },
    {
     "name": "stdout",
     "output_type": "stream",
     "text": [
      "=============================================================\n",
      "epoch: 10, source_val_acc_label: 0.6824, target_val_acc_label: 0.5977, source_val_label_loss: 1.0316, target_val_label_loss: 1.2845, \n",
      "=============================================================\n"
     ]
    },
    {
     "name": "stdout",
     "output_type": "stream",
     "text": [
      "Patience (3) exhausted\n"
     ]
    }
   ],
   "source": [
    "###################################\n",
    "# train\n",
    "###################################\n",
    "jig = PTN_Train_Eval_Test_Jig(model, p.BEST_MODEL_PATH, p.device)\n",
    "\n",
    "jig.train(\n",
    "    train_iterable=datasets.source.processed.train,\n",
    "    source_val_iterable=datasets.source.processed.val,\n",
    "    target_val_iterable=datasets.target.processed.val,\n",
    "    num_epochs=p.n_epoch,\n",
    "    num_logs_per_epoch=p.NUM_LOGS_PER_EPOCH,\n",
    "    patience=p.patience,\n",
    "    optimizer=optimizer,\n",
    "    criteria_for_best=p.criteria_for_best,\n",
    ")"
   ]
  },
  {
   "cell_type": "code",
   "execution_count": 14,
   "id": "31e8fabf",
   "metadata": {
    "execution": {
     "iopub.execute_input": "2022-03-22T13:54:01.248939Z",
     "iopub.status.busy": "2022-03-22T13:54:01.248692Z",
     "iopub.status.idle": "2022-03-22T13:54:01.266833Z",
     "shell.execute_reply": "2022-03-22T13:54:01.266397Z"
    },
    "papermill": {
     "duration": 0.050773,
     "end_time": "2022-03-22T13:54:01.266920",
     "exception": false,
     "start_time": "2022-03-22T13:54:01.216147",
     "status": "completed"
    },
    "tags": []
   },
   "outputs": [],
   "source": [
    "total_experiment_time_secs = time.time() - start_time_secs"
   ]
  },
  {
   "cell_type": "code",
   "execution_count": 15,
   "id": "87b9595b",
   "metadata": {
    "execution": {
     "iopub.execute_input": "2022-03-22T13:54:01.339048Z",
     "iopub.status.busy": "2022-03-22T13:54:01.338790Z",
     "iopub.status.idle": "2022-03-22T13:58:00.485666Z",
     "shell.execute_reply": "2022-03-22T13:58:00.485241Z"
    },
    "papermill": {
     "duration": 239.182906,
     "end_time": "2022-03-22T13:58:00.485769",
     "exception": false,
     "start_time": "2022-03-22T13:54:01.302863",
     "status": "completed"
    },
    "tags": []
   },
   "outputs": [],
   "source": [
    "###################################\n",
    "# Evaluate the model\n",
    "###################################\n",
    "source_test_label_accuracy, source_test_label_loss = jig.test(datasets.source.processed.test)\n",
    "target_test_label_accuracy, target_test_label_loss = jig.test(datasets.target.processed.test)\n",
    "\n",
    "source_val_label_accuracy, source_val_label_loss = jig.test(datasets.source.processed.val)\n",
    "target_val_label_accuracy, target_val_label_loss = jig.test(datasets.target.processed.val)\n",
    "\n",
    "history = jig.get_history()\n",
    "\n",
    "total_epochs_trained = len(history[\"epoch_indices\"])\n",
    "\n",
    "val_dl = Iterable_Aggregator((datasets.source.original.val,datasets.target.original.val))\n",
    "\n",
    "confusion = ptn_confusion_by_domain_over_dataloader(model, p.device, val_dl)\n",
    "per_domain_accuracy = per_domain_accuracy_from_confusion(confusion)\n",
    "\n",
    "# Add a key to per_domain_accuracy for if it was a source domain\n",
    "for domain, accuracy in per_domain_accuracy.items():\n",
    "    per_domain_accuracy[domain] = {\n",
    "        \"accuracy\": accuracy,\n",
    "        \"source?\": domain in p.domains_source\n",
    "    }\n",
    "\n",
    "# Do an independent accuracy assesment JUST TO BE SURE!\n",
    "# _source_test_label_accuracy = independent_accuracy_assesment(model, datasets.source.processed.test, p.device)\n",
    "# _target_test_label_accuracy = independent_accuracy_assesment(model, datasets.target.processed.test, p.device)\n",
    "# _source_val_label_accuracy = independent_accuracy_assesment(model, datasets.source.processed.val, p.device)\n",
    "# _target_val_label_accuracy = independent_accuracy_assesment(model, datasets.target.processed.val, p.device)\n",
    "\n",
    "# assert(_source_test_label_accuracy == source_test_label_accuracy)\n",
    "# assert(_target_test_label_accuracy == target_test_label_accuracy)\n",
    "# assert(_source_val_label_accuracy == source_val_label_accuracy)\n",
    "# assert(_target_val_label_accuracy == target_val_label_accuracy)\n",
    "\n",
    "experiment = {\n",
    "    \"experiment_name\": p.experiment_name,\n",
    "    \"parameters\": dict(p),\n",
    "    \"results\": {\n",
    "        \"source_test_label_accuracy\": source_test_label_accuracy,\n",
    "        \"source_test_label_loss\": source_test_label_loss,\n",
    "        \"target_test_label_accuracy\": target_test_label_accuracy,\n",
    "        \"target_test_label_loss\": target_test_label_loss,\n",
    "        \"source_val_label_accuracy\": source_val_label_accuracy,\n",
    "        \"source_val_label_loss\": source_val_label_loss,\n",
    "        \"target_val_label_accuracy\": target_val_label_accuracy,\n",
    "        \"target_val_label_loss\": target_val_label_loss,\n",
    "        \"total_epochs_trained\": total_epochs_trained,\n",
    "        \"total_experiment_time_secs\": total_experiment_time_secs,\n",
    "        \"confusion\": confusion,\n",
    "        \"per_domain_accuracy\": per_domain_accuracy,\n",
    "    },\n",
    "    \"history\": history,\n",
    "    \"dataset_metrics\": get_dataset_metrics(datasets, \"ptn\"),\n",
    "}"
   ]
  },
  {
   "cell_type": "code",
   "execution_count": 16,
   "id": "54a21829",
   "metadata": {
    "execution": {
     "iopub.execute_input": "2022-03-22T13:58:00.553991Z",
     "iopub.status.busy": "2022-03-22T13:58:00.553740Z",
     "iopub.status.idle": "2022-03-22T13:58:00.681677Z",
     "shell.execute_reply": "2022-03-22T13:58:00.682050Z"
    },
    "papermill": {
     "duration": 0.161423,
     "end_time": "2022-03-22T13:58:00.682161",
     "exception": false,
     "start_time": "2022-03-22T13:58:00.520738",
     "status": "completed"
    },
    "tags": []
   },
   "outputs": [
    {
     "data": {
      "image/png": "[encoded data removed]",
      "text/plain": [
       "<Figure size 1080x504 with 1 Axes>"
      ]
     },
     "metadata": {
      "needs_background": "light"
     },
     "output_type": "display_data"
    }
   ],
   "source": [
    "ax = get_loss_curve(experiment)\n",
    "plt.show()"
   ]
  },
  {
   "cell_type": "code",
   "execution_count": 17,
   "id": "fd8a0f60",
   "metadata": {
    "execution": {
     "iopub.execute_input": "2022-03-22T13:58:00.749523Z",
     "iopub.status.busy": "2022-03-22T13:58:00.749277Z",
     "iopub.status.idle": "2022-03-22T13:58:00.892817Z",
     "shell.execute_reply": "2022-03-22T13:58:00.892588Z"
    },
    "papermill": {
     "duration": 0.17669,
     "end_time": "2022-03-22T13:58:00.892872",
     "exception": false,
     "start_time": "2022-03-22T13:58:00.716182",
     "status": "completed"
    },
    "tags": []
   },
   "outputs": [
    {
     "data": {
      "text/plain": [
       "<AxesSubplot:title={'center':'Results'}>"
      ]
     },
     "execution_count": 17,
     "metadata": {},
     "output_type": "execute_result"
    },
    {
     "data": {
      "image/png": "[encoded data removed]",
      "text/plain": [
       "<Figure size 1080x504 with 1 Axes>"
      ]
     },
     "metadata": {
      "needs_background": "light"
     },
     "output_type": "display_data"
    }
   ],
   "source": [
    "get_results_table(experiment)"
   ]
  },
  {
   "cell_type": "code",
   "execution_count": 18,
   "id": "cf8dc689",
   "metadata": {
    "execution": {
     "iopub.execute_input": "2022-03-22T13:58:00.962203Z",
     "iopub.status.busy": "2022-03-22T13:58:00.961954Z",
     "iopub.status.idle": "2022-03-22T13:58:01.075722Z",
     "shell.execute_reply": "2022-03-22T13:58:01.075260Z"
    },
    "papermill": {
     "duration": 0.14871,
     "end_time": "2022-03-22T13:58:01.075814",
     "exception": false,
     "start_time": "2022-03-22T13:58:00.927104",
     "status": "completed"
    },
    "tags": []
   },
   "outputs": [
    {
     "data": {
      "text/plain": [
       "<AxesSubplot:title={'center':'Per Domain Validation Accuracy'}, xlabel='domain'>"
      ]
     },
     "execution_count": 18,
     "metadata": {},
     "output_type": "execute_result"
    },
    {
     "data": {
      "image/png": "[encoded data removed]",
      "text/plain": [
       "<Figure size 1080x504 with 1 Axes>"
      ]
     },
     "metadata": {
      "needs_background": "light"
     },
     "output_type": "display_data"
    }
   ],
   "source": [
    "get_domain_accuracies(experiment)"
   ]
  },
  {
   "cell_type": "code",
   "execution_count": 19,
   "id": "a74ae082",
   "metadata": {
    "execution": {
     "iopub.execute_input": "2022-03-22T13:58:01.148891Z",
     "iopub.status.busy": "2022-03-22T13:58:01.148635Z",
     "iopub.status.idle": "2022-03-22T13:58:01.164726Z",
     "shell.execute_reply": "2022-03-22T13:58:01.164360Z"
    },
    "papermill": {
     "duration": 0.051727,
     "end_time": "2022-03-22T13:58:01.164816",
     "exception": false,
     "start_time": "2022-03-22T13:58:01.113089",
     "status": "completed"
    },
    "tags": []
   },
   "outputs": [
    {
     "name": "stdout",
     "output_type": "stream",
     "text": [
      "Source Test Label Accuracy: 0.7001736111111111 Target Test Label Accuracy: 0.62265625\n",
      "Source Val Label Accuracy: 0.7019618055555555 Target Val Label Accuracy: 0.6214479166666667\n"
     ]
    }
   ],
   "source": [
    "print(\"Source Test Label Accuracy:\", experiment[\"results\"][\"source_test_label_accuracy\"], \"Target Test Label Accuracy:\", experiment[\"results\"][\"target_test_label_accuracy\"])\n",
    "print(\"Source Val Label Accuracy:\", experiment[\"results\"][\"source_val_label_accuracy\"], \"Target Val Label Accuracy:\", experiment[\"results\"][\"target_val_label_accuracy\"])"
   ]
  },
  {
   "cell_type": "code",
   "execution_count": 20,
   "id": "dacca602",
   "metadata": {
    "execution": {
     "iopub.execute_input": "2022-03-22T13:58:01.241457Z",
     "iopub.status.busy": "2022-03-22T13:58:01.241212Z",
     "iopub.status.idle": "2022-03-22T13:58:01.252629Z",
     "shell.execute_reply": "2022-03-22T13:58:01.252216Z"
    },
    "papermill": {
     "duration": 0.048116,
     "end_time": "2022-03-22T13:58:01.252720",
     "exception": false,
     "start_time": "2022-03-22T13:58:01.204604",
     "status": "completed"
    },
    "tags": [
     "experiment_json"
    ]
   },
   "outputs": [
    {
     "data": {
      "text/plain": [
       "'{\"experiment_name\": \"tuned_1v2:oracle.run1\", \"parameters\": {\"experiment_name\": \"tuned_1v2:oracle.run1\", \"device\": \"cuda\", \"lr\": 0.0001, \"labels_source\": [\"3123D52\", \"3123D65\", \"3123D79\", \"3123D80\", \"3123D54\", \"3123D70\", \"3123D7B\", \"3123D89\", \"3123D58\", \"3123D76\", \"3123D7D\", \"3123EFE\", \"3123D64\", \"3123D78\", \"3123D7E\", \"3124E4A\"], \"labels_target\": [\"3123D52\", \"3123D65\", \"3123D79\", \"3123D80\", \"3123D54\", \"3123D70\", \"3123D7B\", \"3123D89\", \"3123D58\", \"3123D76\", \"3123D7D\", \"3123EFE\", \"3123D64\", \"3123D78\", \"3123D7E\", \"3124E4A\"], \"episode_transforms_source\": [], \"episode_transforms_target\": [], \"domains_source\": [8, 32, 50], \"domains_target\": [14, 20, 26, 38, 44], \"num_examples_per_domain_per_label_source\": -1, \"num_examples_per_domain_per_label_target\": -1, \"n_shot\": 3, \"n_way\": 16, \"n_query\": 2, \"train_k_factor\": 3, \"val_k_factor\": 2, \"test_k_factor\": 2, \"torch_default_dtype\": \"torch.float32\", \"n_epoch\": 50, \"patience\": 3, \"criteria_for_best\": \"target_accuracy\", \"x_net\": [{\"class\": \"nnReshape\", \"kargs\": {\"shape\": [-1, 1, 2, 256]}}, {\"class\": \"Conv2d\", \"kargs\": {\"in_channels\": 1, \"out_channels\": 256, \"kernel_size\": [1, 7], \"bias\": false, \"padding\": [0, 3]}}, {\"class\": \"ReLU\", \"kargs\": {\"inplace\": true}}, {\"class\": \"BatchNorm2d\", \"kargs\": {\"num_features\": 256}}, {\"class\": \"Conv2d\", \"kargs\": {\"in_channels\": 256, \"out_channels\": 80, \"kernel_size\": [2, 7], \"bias\": true, \"padding\": [0, 3]}}, {\"class\": \"ReLU\", \"kargs\": {\"inplace\": true}}, {\"class\": \"BatchNorm2d\", \"kargs\": {\"num_features\": 80}}, {\"class\": \"Flatten\", \"kargs\": {}}, {\"class\": \"Linear\", \"kargs\": {\"in_features\": 20480, \"out_features\": 256}}, {\"class\": \"ReLU\", \"kargs\": {\"inplace\": true}}, {\"class\": \"BatchNorm1d\", \"kargs\": {\"num_features\": 256}}, {\"class\": \"Linear\", \"kargs\": {\"in_features\": 256, \"out_features\": 256}}], \"NUM_LOGS_PER_EPOCH\": 10, \"BEST_MODEL_PATH\": \"./best_model.pth\", \"pickle_name\": \"oracle.Run1_10kExamples_stratified_ds.2022A.pkl\", \"x_transforms_source\": [\"unit_power\"], \"x_transforms_target\": [\"unit_power\"], \"dataset_seed\": 7, \"seed\": 7}, \"results\": {\"source_test_label_accuracy\": 0.7001736111111111, \"source_test_label_loss\": 0.8880568146705627, \"target_test_label_accuracy\": 0.62265625, \"target_test_label_loss\": 1.0780681371688843, \"source_val_label_accuracy\": 0.7019618055555555, \"source_val_label_loss\": 0.882788896560669, \"target_val_label_accuracy\": 0.6214479166666667, \"target_val_label_loss\": 1.0856842994689941, \"total_epochs_trained\": 10, \"total_experiment_time_secs\": 3576.8734645843506, \"confusion\": {\"50\": {\"0\": {\"0\": 1015, \"10\": 59, \"2\": 121, \"13\": 5}, \"4\": {\"5\": 90, \"4\": 478, \"15\": 180, \"13\": 22, \"7\": 24, \"6\": 187, \"1\": 219}, \"14\": {\"14\": 1156, \"12\": 31, \"1\": 1, \"11\": 10, \"9\": 2}, \"12\": {\"12\": 1079, \"14\": 47, \"11\": 8, \"9\": 66}, \"8\": {\"8\": 1157, \"10\": 33, \"3\": 10}, \"7\": {\"7\": 696, \"10\": 47, \"13\": 275, \"5\": 169, \"4\": 7, \"6\": 5, \"0\": 1}, \"13\": {\"7\": 245, \"13\": 621, \"5\": 229, \"6\": 81, \"0\": 5, \"10\": 13, \"4\": 6}, \"5\": {\"5\": 310, \"7\": 277, \"13\": 244, \"6\": 193, \"4\": 121, \"10\": 18, \"1\": 32, \"0\": 5}, \"15\": {\"15\": 807, \"1\": 228, \"6\": 20, \"5\": 1, \"11\": 28, \"4\": 116}, \"10\": {\"10\": 1086, \"0\": 46, \"13\": 19, \"7\": 25, \"5\": 5, \"8\": 19}, \"3\": {\"3\": 1177, \"8\": 23}, \"9\": {\"9\": 895, \"11\": 188, \"12\": 111, \"14\": 6}, \"6\": {\"6\": 699, \"4\": 191, \"13\": 72, \"5\": 101, \"1\": 121, \"15\": 13, \"7\": 2, \"0\": 1}, \"1\": {\"15\": 264, \"1\": 680, \"6\": 110, \"4\": 132, \"5\": 3, \"14\": 4, \"13\": 1, \"2\": 3, \"11\": 3}, \"11\": {\"11\": 1024, \"15\": 26, \"9\": 106, \"14\": 30, \"12\": 11, \"1\": 3}, \"2\": {\"2\": 1123, \"0\": 76, \"1\": 1}}, \"8\": {\"1\": {\"14\": 84, \"11\": 353, \"1\": 721, \"5\": 25, \"10\": 13, \"6\": 1, \"4\": 3}, \"11\": {\"11\": 731, \"1\": 424, \"5\": 17, \"8\": 9, \"14\": 13, \"4\": 3, \"10\": 3}, \"3\": {\"3\": 928, \"12\": 119, \"2\": 146, \"15\": 7}, \"6\": {\"7\": 266, \"6\": 642, \"0\": 111, \"4\": 129, \"13\": 37, \"14\": 3, \"8\": 12}, \"7\": {\"8\": 9, \"7\": 871, \"0\": 44, \"6\": 269, \"15\": 2, \"13\": 1, \"4\": 3, \"2\": 1}, \"5\": {\"5\": 1028, \"11\": 11, \"10\": 97, \"1\": 51, \"14\": 13}, \"2\": {\"3\": 193, \"2\": 912, \"15\": 51, \"12\": 18, \"7\": 23, \"8\": 1, \"6\": 2}, \"15\": {\"12\": 260, \"15\": 843, \"8\": 60, \"3\": 12, \"2\": 22, \"7\": 3}, \"10\": {\"10\": 791, \"14\": 222, \"5\": 43, \"13\": 92, \"4\": 34, \"0\": 7, \"1\": 10, \"6\": 1}, \"13\": {\"13\": 382, \"4\": 195, \"10\": 144, \"0\": 316, \"14\": 100, \"6\": 47, \"7\": 11, \"1\": 4, \"5\": 1}, \"8\": {\"8\": 1113, \"15\": 52, \"11\": 2, \"6\": 18, \"1\": 1, \"7\": 10, \"12\": 4}, \"4\": {\"4\": 573, \"13\": 207, \"6\": 144, \"0\": 66, \"14\": 168, \"10\": 29, \"7\": 5, \"11\": 3, \"1\": 3, \"8\": 2}, \"9\": {\"9\": 1200}, \"14\": {\"14\": 577, \"4\": 197, \"1\": 79, \"10\": 237, \"13\": 91, \"11\": 9, \"6\": 5, \"0\": 3, \"5\": 2}, \"0\": {\"13\": 238, \"0\": 683, \"4\": 79, \"6\": 96, \"7\": 87, \"10\": 11, \"14\": 6}, \"12\": {\"8\": 29, \"12\": 546, \"15\": 376, \"3\": 222, \"2\": 27}}, \"32\": {\"15\": {\"15\": 1184, \"8\": 13, \"3\": 3}, \"11\": {\"11\": 835, \"3\": 33, \"14\": 264, \"7\": 28, \"13\": 23, \"5\": 16, \"8\": 1}, \"10\": {\"10\": 1194, \"1\": 6}, \"14\": {\"4\": 33, \"2\": 9, \"7\": 208, \"14\": 446, \"11\": 338, \"13\": 89, \"5\": 42, \"8\": 7, \"3\": 6, \"0\": 22}, \"6\": {\"6\": 1200}, \"4\": {\"4\": 610, \"2\": 212, \"7\": 141, \"5\": 76, \"13\": 41, \"0\": 106, \"14\": 12, \"8\": 2}, \"13\": {\"5\": 331, \"13\": 419, \"0\": 44, \"11\": 33, \"8\": 99, \"3\": 65, \"7\": 105, \"14\": 56, \"4\": 47, \"2\": 1}, \"3\": {\"3\": 1080, \"13\": 45, \"5\": 21, \"11\": 33, \"8\": 19, \"14\": 2}, \"7\": {\"14\": 185, \"7\": 483, \"13\": 98, \"4\": 167, \"0\": 40, \"5\": 150, \"2\": 29, \"11\": 41, \"8\": 4, \"3\": 3}, \"8\": {\"13\": 132, \"8\": 859, \"5\": 98, \"0\": 87, \"3\": 12, \"15\": 1, \"7\": 7, \"14\": 1, \"4\": 2, \"2\": 1}, \"1\": {\"1\": 1196, \"10\": 4}, \"5\": {\"13\": 324, \"7\": 129, \"14\": 31, \"8\": 118, \"4\": 136, \"5\": 313, \"11\": 26, \"0\": 71, \"3\": 42, \"2\": 10}, \"0\": {\"0\": 691, \"4\": 154, \"7\": 61, \"8\": 105, \"14\": 26, \"2\": 62, \"5\": 58, \"13\": 43}, \"2\": {\"2\": 980, \"4\": 163, \"7\": 16, \"0\": 32, \"14\": 4, \"5\": 4, \"13\": 1}, \"12\": {\"12\": 1199, \"9\": 1}, \"9\": {\"9\": 1200}}, \"26\": {\"0\": {\"14\": 190, \"0\": 259, \"8\": 114, \"10\": 246, \"1\": 88, \"4\": 189, \"7\": 37, \"6\": 39, \"15\": 8, \"9\": 24, \"2\": 5, \"5\": 1}, \"4\": {\"7\": 122, \"14\": 226, \"0\": 162, \"10\": 79, \"2\": 10, \"4\": 337, \"8\": 107, \"1\": 144, \"9\": 5, \"15\": 1, \"3\": 7}, \"14\": {\"14\": 370, \"0\": 170, \"1\": 262, \"4\": 234, \"10\": 96, \"7\": 35, \"8\": 28, \"2\": 2, \"6\": 1, \"9\": 2}, \"12\": {\"12\": 1193, \"11\": 7}, \"8\": {\"8\": 347, \"0\": 108, \"7\": 91, \"9\": 141, \"15\": 89, \"10\": 140, \"6\": 55, \"4\": 107, \"14\": 43, \"1\": 11, \"5\": 25, \"2\": 35, \"13\": 3, \"3\": 5}, \"7\": {\"2\": 186, \"7\": 517, \"3\": 218, \"8\": 79, \"4\": 109, \"15\": 18, \"9\": 10, \"1\": 14, \"0\": 20, \"14\": 23, \"5\": 2, \"10\": 4}, \"13\": {\"13\": 776, \"5\": 259, \"6\": 28, \"15\": 79, \"9\": 33, \"8\": 2, \"2\": 23}, \"5\": {\"5\": 551, \"15\": 238, \"13\": 209, \"9\": 95, \"8\": 25, \"2\": 56, \"10\": 3, \"7\": 9, \"6\": 11, \"3\": 2, \"0\": 1}, \"15\": {\"9\": 271, \"5\": 246, \"6\": 43, \"15\": 346, \"13\": 81, \"2\": 49, \"7\": 35, \"8\": 100, \"0\": 9, \"3\": 3, \"10\": 10, \"4\": 7}, \"10\": {\"14\": 118, \"9\": 52, \"0\": 240, \"6\": 112, \"4\": 67, \"1\": 36, \"10\": 411, \"8\": 137, \"5\": 5, \"7\": 5, \"2\": 3, \"15\": 14}, \"3\": {\"1\": 3, \"3\": 623, \"2\": 311, \"7\": 239, \"4\": 12, \"5\": 3, \"0\": 1, \"15\": 6, \"13\": 1, \"8\": 1}, \"9\": {\"15\": 269, \"5\": 105, \"8\": 145, \"0\": 17, \"9\": 362, \"10\": 50, \"6\": 187, \"13\": 38, \"3\": 1, \"2\": 14, \"4\": 5, \"7\": 6, \"14\": 1}, \"6\": {\"6\": 758, \"8\": 45, \"9\": 151, \"10\": 122, \"15\": 44, \"13\": 29, \"0\": 30, \"5\": 16, \"4\": 2, \"2\": 1, \"14\": 2}, \"1\": {\"14\": 272, \"4\": 191, \"1\": 589, \"0\": 69, \"7\": 25, \"3\": 3, \"8\": 6, \"10\": 45}, \"11\": {\"11\": 1184, \"12\": 16}, \"2\": {\"2\": 399, \"5\": 88, \"3\": 371, \"8\": 45, \"10\": 2, \"7\": 158, \"15\": 82, \"9\": 27, \"13\": 12, \"4\": 12, \"0\": 2, \"1\": 1, \"6\": 1}}, \"44\": {\"1\": {\"1\": 630, \"12\": 251, \"3\": 159, \"2\": 57, \"10\": 103}, \"11\": {\"11\": 1061, \"13\": 98, \"6\": 40, \"9\": 1}, \"3\": {\"3\": 1052, \"1\": 137, \"12\": 11}, \"6\": {\"7\": 37, \"9\": 117, \"11\": 49, \"6\": 787, \"13\": 207, \"2\": 3}, \"7\": {\"7\": 704, \"9\": 241, \"6\": 54, \"2\": 180, \"1\": 7, \"3\": 8, \"10\": 4, \"13\": 2}, \"5\": {\"5\": 972, \"8\": 17, \"0\": 122, \"14\": 43, \"15\": 42, \"4\": 4}, \"2\": {\"2\": 841, \"7\": 152, \"3\": 10, \"1\": 59, \"10\": 124, \"9\": 7, \"12\": 5, \"6\": 2}, \"15\": {\"15\": 966, \"14\": 100, \"0\": 70, \"8\": 13, \"5\": 40, \"4\": 11}, \"10\": {\"2\": 129, \"10\": 832, \"1\": 109, \"12\": 125, \"3\": 4, \"7\": 1}, \"13\": {\"13\": 724, \"9\": 160, \"6\": 238, \"11\": 57, \"7\": 13, \"4\": 7, \"2\": 1}, \"8\": {\"8\": 711, \"0\": 434, \"15\": 37, \"5\": 18}, \"4\": {\"4\": 843, \"14\": 348, \"9\": 2, \"15\": 6, \"5\": 1}, \"9\": {\"9\": 714, \"13\": 116, \"7\": 256, \"6\": 87, \"2\": 16, \"4\": 7, \"3\": 3, \"1\": 1}, \"14\": {\"4\": 355, \"14\": 754, \"5\": 20, \"15\": 71}, \"0\": {\"0\": 715, \"8\": 328, \"5\": 82, \"15\": 75}, \"12\": {\"1\": 251, \"12\": 818, \"3\": 22, \"10\": 104, \"2\": 5}}, \"20\": {\"15\": {\"15\": 640, \"1\": 232, \"13\": 60, \"0\": 107, \"5\": 97, \"12\": 43, \"2\": 9, \"9\": 4, \"3\": 8}, \"4\": {\"4\": 762, \"8\": 226, \"10\": 50, \"5\": 4, \"3\": 103, \"12\": 19, \"7\": 15, \"9\": 10, \"2\": 3, \"0\": 6, \"1\": 1, \"14\": 1}, \"6\": {\"6\": 968, \"14\": 180, \"11\": 10, \"8\": 11, \"7\": 23, \"10\": 8}, \"2\": {\"3\": 105, \"2\": 408, \"7\": 156, \"13\": 121, \"9\": 297, \"12\": 67, \"1\": 19, \"0\": 3, \"8\": 10, \"15\": 4, \"4\": 3, \"5\": 7}, \"5\": {\"12\": 170, \"15\": 103, \"0\": 269, \"5\": 341, \"1\": 227, \"13\": 6, \"3\": 55, \"2\": 8, \"4\": 8, \"9\": 13}, \"9\": {\"12\": 133, \"9\": 345, \"3\": 225, \"15\": 10, \"2\": 256, \"13\": 55, \"5\": 22, \"7\": 98, \"1\": 31, \"4\": 14, \"8\": 10, \"0\": 1}, \"8\": {\"6\": 14, \"8\": 634, \"10\": 88, \"4\": 237, \"14\": 52, \"7\": 114, \"3\": 34, \"2\": 8, \"12\": 6, \"9\": 12, \"0\": 1}, \"12\": {\"12\": 336, \"3\": 205, \"15\": 44, \"2\": 59, \"5\": 151, \"1\": 153, \"13\": 21, \"0\": 76, \"9\": 125, \"4\": 22, \"7\": 6, \"8\": 2}, \"10\": {\"8\": 92, \"10\": 847, \"14\": 198, \"4\": 33, \"6\": 27, \"7\": 3}, \"1\": {\"5\": 252, \"1\": 362, \"15\": 248, \"0\": 149, \"12\": 129, \"13\": 15, \"4\": 2, \"9\": 14, \"3\": 23, \"2\": 6}, \"0\": {\"0\": 451, \"1\": 133, \"12\": 91, \"5\": 274, \"2\": 14, \"15\": 137, \"4\": 21, \"3\": 57, \"9\": 15, \"8\": 1, \"13\": 4, \"7\": 2}, \"3\": {\"3\": 340, \"12\": 214, \"15\": 6, \"2\": 105, \"9\": 206, \"5\": 55, \"4\": 99, \"0\": 29, \"1\": 35, \"7\": 61, \"13\": 8, \"8\": 41, \"10\": 1}, \"13\": {\"13\": 981, \"5\": 7, \"1\": 17, \"9\": 35, \"2\": 98, \"15\": 39, \"3\": 6, \"7\": 2, \"12\": 12, \"0\": 3}, \"11\": {\"11\": 1191, \"7\": 5, \"6\": 3, \"2\": 1}, \"7\": {\"7\": 723, \"9\": 88, \"2\": 164, \"3\": 48, \"4\": 11, \"8\": 105, \"6\": 34, \"11\": 4, \"12\": 10, \"13\": 5, \"10\": 8}, \"14\": {\"14\": 745, \"6\": 204, \"10\": 198, \"8\": 48, \"7\": 5}}, \"38\": {\"15\": {\"13\": 339, \"15\": 677, \"1\": 111, \"8\": 42, \"10\": 8, \"5\": 22, \"0\": 1}, \"11\": {\"14\": 362, \"11\": 784, \"12\": 31, \"10\": 12, \"2\": 7, \"4\": 4}, \"10\": {\"10\": 848, \"14\": 17, \"12\": 98, \"13\": 91, \"8\": 67, \"5\": 7, \"0\": 34, \"4\": 3, \"15\": 18, \"11\": 9, \"7\": 7, \"2\": 1}, \"14\": {\"14\": 886, \"11\": 221, \"2\": 68, \"10\": 12, \"12\": 7, \"13\": 6}, \"6\": {\"6\": 880, \"9\": 311, \"5\": 9}, \"4\": {\"12\": 63, \"4\": 1135, \"10\": 2}, \"13\": {\"13\": 689, \"15\": 348, \"2\": 34, \"10\": 69, \"5\": 10, \"1\": 22, \"8\": 21, \"0\": 3, \"14\": 4}, \"3\": {\"3\": 1000, \"7\": 47, \"9\": 112, \"5\": 10, \"6\": 9, \"0\": 21, \"8\": 1}, \"7\": {\"7\": 884, \"0\": 207, \"5\": 41, \"8\": 39, \"3\": 28, \"4\": 1}, \"8\": {\"0\": 152, \"5\": 302, \"8\": 631, \"15\": 42, \"10\": 29, \"7\": 32, \"13\": 10, \"6\": 1, \"1\": 1}, \"1\": {\"1\": 1120, \"15\": 73, \"5\": 2, \"13\": 4, \"8\": 1}, \"5\": {\"5\": 492, \"7\": 63, \"8\": 303, \"0\": 123, \"9\": 40, \"3\": 33, \"6\": 68, \"15\": 47, \"1\": 15, \"10\": 8, \"13\": 8}, \"0\": {\"0\": 373, \"7\": 276, \"5\": 124, \"3\": 64, \"8\": 298, \"9\": 3, \"10\": 41, \"12\": 10, \"6\": 5, \"15\": 3, \"4\": 2, \"1\": 1}, \"2\": {\"2\": 1112, \"15\": 1, \"13\": 28, \"14\": 56, \"10\": 1, \"11\": 2}, \"12\": {\"12\": 1122, \"4\": 40, \"10\": 36, \"11\": 1, \"14\": 1}, \"9\": {\"6\": 433, \"9\": 671, \"3\": 71, \"5\": 18, \"0\": 6, \"1\": 1}}, \"14\": {\"0\": {\"0\": 909, \"10\": 214, \"3\": 28, \"11\": 47, \"4\": 1, \"8\": 1}, \"12\": {\"12\": 1198, \"9\": 2}, \"1\": {\"1\": 950, \"4\": 35, \"5\": 200, \"7\": 9, \"3\": 4, \"2\": 2}, \"4\": {\"3\": 186, \"14\": 12, \"2\": 94, \"4\": 672, \"5\": 181, \"1\": 50, \"6\": 3, \"13\": 2}, \"5\": {\"5\": 632, \"7\": 20, \"4\": 217, \"1\": 202, \"3\": 29, \"2\": 91, \"15\": 4, \"6\": 2, \"13\": 3}, \"3\": {\"3\": 953, \"4\": 166, \"2\": 29, \"0\": 9, \"14\": 29, \"10\": 4, \"1\": 5, \"5\": 2, \"6\": 1, \"13\": 2}, \"7\": {\"7\": 1133, \"15\": 49, \"5\": 7, \"1\": 10, \"2\": 1}, \"15\": {\"15\": 1082, \"7\": 107, \"5\": 6, \"2\": 5}, \"13\": {\"13\": 357, \"14\": 232, \"6\": 448, \"2\": 129, \"5\": 17, \"4\": 6, \"15\": 4, \"3\": 5, \"10\": 2}, \"10\": {\"10\": 959, \"0\": 220, \"11\": 8, \"14\": 5, \"3\": 7, \"13\": 1}, \"14\": {\"6\": 80, \"14\": 806, \"13\": 140, \"2\": 86, \"4\": 11, \"3\": 72, \"10\": 5}, \"6\": {\"14\": 80, \"6\": 625, \"13\": 378, \"2\": 112, \"3\": 1, \"4\": 3, \"5\": 1}, \"9\": {\"9\": 1184, \"11\": 15, \"12\": 1}, \"2\": {\"2\": 472, \"3\": 53, \"5\": 126, \"13\": 109, \"4\": 123, \"14\": 165, \"6\": 111, \"15\": 33, \"1\": 7, \"7\": 1}, \"8\": {\"8\": 1199, \"9\": 1}, \"11\": {\"11\": 1004, \"9\": 83, \"10\": 49, \"0\": 64}}}, \"per_domain_accuracy\": {\"50\": {\"accuracy\": 0.7293229166666667, \"source?\": true}, \"8\": {\"accuracy\": 0.6531770833333334, \"source?\": true}, \"32\": {\"accuracy\": 0.7233854166666667, \"source?\": true}, \"26\": {\"accuracy\": 0.46989583333333335, \"source?\": false}, \"44\": {\"accuracy\": 0.6835416666666667, \"source?\": false}, \"20\": {\"accuracy\": 0.5246875, \"source?\": false}, \"38\": {\"accuracy\": 0.6929166666666666, \"source?\": false}, \"14\": {\"accuracy\": 0.7361979166666667, \"source?\": false}}}, \"history\": {\"epoch_indices\": [1, 2, 3, 4, 5, 6, 7, 8, 9, 10], \"train_label_loss\": [1.4340311900821943, 0.9762352830550027, 0.7720699499571134, 0.675263626414632, 0.5878381450716702, 0.5078429281152785, 0.4368924270930981, 0.3780629660654813, 0.32707326798005, 0.2848456928504276], \"source_val_label_loss\": [1.3581759929656982, 0.9054878354072571, 0.8704723715782166, 0.8441386222839355, 0.8524949550628662, 0.882788896560669, 0.9047540426254272, 0.9279206395149231, 0.9854236841201782, 1.0315604209899902], \"target_val_label_loss\": [1.6983323097229004, 1.1170289516448975, 1.0650886297225952, 1.0455087423324585, 1.0743502378463745, 1.0856842994689941, 1.1179183721542358, 1.1525423526763916, 1.218850016593933, 1.2845290899276733], \"source_val_acc_label\": [0.4556423611111111, 0.6621875, 0.6828819444444445, 0.6934027777777778, 0.6829513888888888, 0.7019618055555555, 0.6892708333333334, 0.6882986111111111, 0.6860416666666667, 0.6823958333333333], \"target_val_acc_label\": [0.33497916666666666, 0.5804375, 0.6076770833333334, 0.6131770833333333, 0.59978125, 0.6214479166666667, 0.6115, 0.6072916666666667, 0.6054583333333333, 0.5977395833333333]}, \"dataset_metrics\": {\"source\": {\"train\": {\"n_unique_x\": 336000, \"n_unique_y\": 16, \"n_batch/episode\": 12600}, \"val\": {\"n_unique_x\": 72000, \"n_unique_y\": 16, \"n_batch/episode\": 1800}, \"test\": {\"n_unique_x\": 72000, \"n_unique_y\": 16, \"n_batch/episode\": 1800}}, \"target\": {\"train\": {\"n_unique_x\": 560000, \"n_unique_y\": 16, \"n_batch/episode\": 21000}, \"val\": {\"n_unique_x\": 120000, \"n_unique_y\": 16, \"n_batch/episode\": 3000}, \"test\": {\"n_unique_x\": 120000, \"n_unique_y\": 16, \"n_batch/episode\": 3000}}}}'"
      ]
     },
     "execution_count": 20,
     "metadata": {},
     "output_type": "execute_result"
    }
   ],
   "source": [
    "json.dumps(experiment)"
   ]
  }
 ],
 "metadata": {
  "celltoolbar": "Tags",
  "kernelspec": {
   "display_name": "Python 3 (ipykernel)",
   "language": "python",
   "name": "python3"
  },
  "language_info": {
   "codemirror_mode": {
    "name": "ipython",
    "version": 3
   },
   "file_extension": ".py",
   "mimetype": "text/x-python",
   "name": "python",
   "nbconvert_exporter": "python",
   "pygments_lexer": "ipython3",
   "version": "3.8.10"
  },
  "papermill": {
   "default_parameters": {},
   "duration": 3821.618333,
   "end_time": "2022-03-22T13:58:03.902051",
   "environment_variables": {},
   "exception": null,
   "input_path": "/mnt/wd500GB/CSC500/csc500-main/csc500-notebooks/templates/ptn_template.ipynb",
   "output_path": "trial.ipynb",
   "parameters": {
    "parameters": {
     "BEST_MODEL_PATH": "./best_model.pth",
     "NUM_LOGS_PER_EPOCH": 10,
     "criteria_for_best": "target_accuracy",
     "dataset_seed": 7,
     "device": "cuda",
     "domains_source": [
      8,
      32,
      50
     ],
     "domains_target": [
      14,
      20,
      26,
      38,
      44
     ],
     "episode_transforms_source": [],
     "episode_transforms_target": [],
     "experiment_name": "tuned_1v2:oracle.run1",
     "labels_source": [
      "3123D52",
      "3123D65",
      "3123D79",
      "3123D80",
      "3123D54",
      "3123D70",
      "3123D7B",
      "3123D89",
      "3123D58",
      "3123D76",
      "3123D7D",
      "3123EFE",
      "3123D64",
      "3123D78",
      "3123D7E",
      "3124E4A"
     ],
     "labels_target": [
      "3123D52",
      "3123D65",
      "3123D79",
      "3123D80",
      "3123D54",
      "3123D70",
      "3123D7B",
      "3123D89",
      "3123D58",
      "3123D76",
      "3123D7D",
      "3123EFE",
      "3123D64",
      "3123D78",
      "3123D7E",
      "3124E4A"
     ],
     "lr": 0.0001,
     "n_epoch": 50,
     "n_query": 2,
     "n_shot": 3,
     "n_way": 16,
     "num_examples_per_domain_per_label_source": -1,
     "num_examples_per_domain_per_label_target": -1,
     "patience": 3,
     "pickle_name": "oracle.Run1_10kExamples_stratified_ds.2022A.pkl",
     "seed": 7,
     "test_k_factor": 2,
     "torch_default_dtype": "torch.float32",
     "train_k_factor": 3,
     "val_k_factor": 2,
     "x_net": [
      {
       "class": "nnReshape",
       "kargs": {
        "shape": [
         -1,
         1,
         2,
         256
        ]
       }
      },
      {
       "class": "Conv2d",
       "kargs": {
        "bias": false,
        "in_channels": 1,
        "kernel_size": [
         1,
         7
        ],
        "out_channels": 256,
        "padding": [
         0,
         3
        ]
       }
      },
      {
       "class": "ReLU",
       "kargs": {
        "inplace": true
       }
      },
      {
       "class": "BatchNorm2d",
       "kargs": {
        "num_features": 256
       }
      },
      {
       "class": "Conv2d",
       "kargs": {
        "bias": true,
        "in_channels": 256,
        "kernel_size": [
         2,
         7
        ],
        "out_channels": 80,
        "padding": [
         0,
         3
        ]
       }
      },
      {
       "class": "ReLU",
       "kargs": {
        "inplace": true
       }
      },
      {
       "class": "BatchNorm2d",
       "kargs": {
        "num_features": 80
       }
      },
      {
       "class": "Flatten",
       "kargs": {}
      },
      {
       "class": "Linear",
       "kargs": {
        "in_features": 20480,
        "out_features": 256
       }
      },
      {
       "class": "ReLU",
       "kargs": {
        "inplace": true
       }
      },
      {
       "class": "BatchNorm1d",
       "kargs": {
        "num_features": 256
       }
      },
      {
       "class": "Linear",
       "kargs": {
        "in_features": 256,
        "out_features": 256
       }
      }
     ],
     "x_transforms_source": [
      "unit_power"
     ],
     "x_transforms_target": [
      "unit_power"
     ]
    }
   },
   "start_time": "2022-03-22T12:54:22.283718",
   "version": "2.3.4"
  }
 },
 "nbformat": 4,
 "nbformat_minor": 5
}