{
 "cells": [
  {
   "cell_type": "markdown",
   "id": "9fea5f46",
   "metadata": {
    "papermill": {
     "duration": 0.013514,
     "end_time": "2022-03-22T01:43:00.708336",
     "exception": false,
     "start_time": "2022-03-22T01:43:00.694822",
     "status": "completed"
    },
    "tags": []
   },
   "source": [
    "# PTN Template\n",
    "This notebook serves as a template for single dataset PTN experiments  \n",
    "It can be run on its own by setting STANDALONE to True (do a find for \"STANDALONE\" to see where)  \n",
    "But it is intended to be executed as part of a *papermill.py script. See any of the   \n",
    "experimentes with a papermill script to get started with that workflow.  "
   ]
  },
  {
   "cell_type": "code",
   "execution_count": 1,
   "id": "0902182a",
   "metadata": {
    "execution": {
     "iopub.execute_input": "2022-03-22T01:43:00.739978Z",
     "iopub.status.busy": "2022-03-22T01:43:00.739517Z",
     "iopub.status.idle": "2022-03-22T01:43:01.745735Z",
     "shell.execute_reply": "2022-03-22T01:43:01.745231Z"
    },
    "papermill": {
     "duration": 1.028169,
     "end_time": "2022-03-22T01:43:01.745854",
     "exception": false,
     "start_time": "2022-03-22T01:43:00.717685",
     "status": "completed"
    },
    "tags": []
   },
   "outputs": [],
   "source": [
    "%load_ext autoreload\n",
    "%autoreload 2\n",
    "%matplotlib inline\n",
    "\n",
    "    \n",
    "import os, json, sys, time, random\n",
    "import numpy as np\n",
    "import torch\n",
    "from torch.optim import Adam\n",
    "from  easydict import EasyDict\n",
    "import matplotlib.pyplot as plt\n",
    "\n",
    "from steves_models.steves_ptn import Steves_Prototypical_Network\n",
    "\n",
    "from steves_utils.lazy_iterable_wrapper import Lazy_Iterable_Wrapper\n",
    "from steves_utils.iterable_aggregator import Iterable_Aggregator\n",
    "from steves_utils.ptn_train_eval_test_jig import  PTN_Train_Eval_Test_Jig\n",
    "from steves_utils.torch_sequential_builder import build_sequential\n",
    "from steves_utils.torch_utils import get_dataset_metrics, ptn_confusion_by_domain_over_dataloader\n",
    "from steves_utils.utils_v2 import (per_domain_accuracy_from_confusion, get_datasets_base_path)\n",
    "from steves_utils.PTN.utils import independent_accuracy_assesment\n",
    "\n",
    "from steves_utils.stratified_dataset.episodic_accessor import Episodic_Accessor_Factory\n",
    "\n",
    "from steves_utils.ptn_do_report import (\n",
    "    get_loss_curve,\n",
    "    get_results_table,\n",
    "    get_parameters_table,\n",
    "    get_domain_accuracies,\n",
    ")\n",
    "\n",
    "from steves_utils.transforms import get_chained_transform"
   ]
  },
  {
   "cell_type": "markdown",
   "id": "41c840b4",
   "metadata": {
    "papermill": {
     "duration": 0.009111,
     "end_time": "2022-03-22T01:43:01.769308",
     "exception": false,
     "start_time": "2022-03-22T01:43:01.760197",
     "status": "completed"
    },
    "tags": []
   },
   "source": [
    "# Required Parameters\n",
    "These are allowed parameters, not defaults\n",
    "Each of these values need to be present in the injected parameters (the notebook will raise an exception if they are not present)\n",
    "\n",
    "Papermill uses the cell tag \"parameters\" to inject the real parameters below this cell.\n",
    "Enable tags to see what I mean"
   ]
  },
  {
   "cell_type": "code",
   "execution_count": 2,
   "id": "fd44eb83",
   "metadata": {
    "execution": {
     "iopub.execute_input": "2022-03-22T01:43:01.792228Z",
     "iopub.status.busy": "2022-03-22T01:43:01.791089Z",
     "iopub.status.idle": "2022-03-22T01:43:01.806382Z",
     "shell.execute_reply": "2022-03-22T01:43:01.806786Z"
    },
    "papermill": {
     "duration": 0.02837,
     "end_time": "2022-03-22T01:43:01.806903",
     "exception": false,
     "start_time": "2022-03-22T01:43:01.778533",
     "status": "completed"
    },
    "tags": []
   },
   "outputs": [],
   "source": [
    "required_parameters = {\n",
    "    \"experiment_name\",\n",
    "    \"lr\",\n",
    "    \"device\",\n",
    "    \"seed\",\n",
    "    \"dataset_seed\",\n",
    "    \"labels_source\",\n",
    "    \"labels_target\",\n",
    "    \"domains_source\",\n",
    "    \"domains_target\",\n",
    "    \"num_examples_per_domain_per_label_source\",\n",
    "    \"num_examples_per_domain_per_label_target\",\n",
    "    \"n_shot\",\n",
    "    \"n_way\",\n",
    "    \"n_query\",\n",
    "    \"train_k_factor\",\n",
    "    \"val_k_factor\",\n",
    "    \"test_k_factor\",\n",
    "    \"n_epoch\",\n",
    "    \"patience\",\n",
    "    \"criteria_for_best\",\n",
    "    \"x_transforms_source\",\n",
    "    \"x_transforms_target\",\n",
    "    \"episode_transforms_source\",\n",
    "    \"episode_transforms_target\",\n",
    "    \"pickle_name\",\n",
    "    \"x_net\",\n",
    "    \"NUM_LOGS_PER_EPOCH\",\n",
    "    \"BEST_MODEL_PATH\",\n",
    "    \"torch_default_dtype\"\n",
    "}"
   ]
  },
  {
   "cell_type": "code",
   "execution_count": 3,
   "id": "fa3f0049",
   "metadata": {
    "execution": {
     "iopub.execute_input": "2022-03-22T01:43:01.836308Z",
     "iopub.status.busy": "2022-03-22T01:43:01.835889Z",
     "iopub.status.idle": "2022-03-22T01:43:01.848483Z",
     "shell.execute_reply": "2022-03-22T01:43:01.848071Z"
    },
    "papermill": {
     "duration": 0.028031,
     "end_time": "2022-03-22T01:43:01.848587",
     "exception": false,
     "start_time": "2022-03-22T01:43:01.820556",
     "status": "completed"
    },
    "tags": [
     "parameters"
    ]
   },
   "outputs": [],
   "source": [
    "\n",
    "\n",
    "standalone_parameters = {}\n",
    "standalone_parameters[\"experiment_name\"] = \"STANDALONE PTN\"\n",
    "standalone_parameters[\"lr\"] = 0.0001\n",
    "standalone_parameters[\"device\"] = \"cuda\"\n",
    "\n",
    "standalone_parameters[\"seed\"] = 1337\n",
    "standalone_parameters[\"dataset_seed\"] = 1337\n",
    "\n",
    "\n",
    "standalone_parameters[\"num_examples_per_domain_per_label_source\"]=100\n",
    "standalone_parameters[\"num_examples_per_domain_per_label_target\"]=100\n",
    "\n",
    "standalone_parameters[\"n_shot\"] = 3\n",
    "standalone_parameters[\"n_query\"]  = 2\n",
    "standalone_parameters[\"train_k_factor\"] = 1\n",
    "standalone_parameters[\"val_k_factor\"] = 2\n",
    "standalone_parameters[\"test_k_factor\"] = 2\n",
    "\n",
    "\n",
    "standalone_parameters[\"n_epoch\"] = 100\n",
    "\n",
    "standalone_parameters[\"patience\"] = 10\n",
    "standalone_parameters[\"criteria_for_best\"] = \"target_accuracy\"\n",
    "\n",
    "standalone_parameters[\"x_transforms_source\"] = [\"unit_power\"]\n",
    "standalone_parameters[\"x_transforms_target\"] = [\"unit_power\"]\n",
    "standalone_parameters[\"episode_transforms_source\"] = []\n",
    "standalone_parameters[\"episode_transforms_target\"] = []\n",
    "\n",
    "standalone_parameters[\"torch_default_dtype\"] = \"torch.float32\" \n",
    "\n",
    "\n",
    "\n",
    "standalone_parameters[\"x_net\"] =     [\n",
    "    {\"class\": \"nnReshape\", \"kargs\": {\"shape\":[-1, 1, 2, 256]}},\n",
    "    {\"class\": \"Conv2d\", \"kargs\": { \"in_channels\":1, \"out_channels\":256, \"kernel_size\":(1,7), \"bias\":False, \"padding\":(0,3), },},\n",
    "    {\"class\": \"ReLU\", \"kargs\": {\"inplace\": True}},\n",
    "    {\"class\": \"BatchNorm2d\", \"kargs\": {\"num_features\":256}},\n",
    "\n",
    "    {\"class\": \"Conv2d\", \"kargs\": { \"in_channels\":256, \"out_channels\":80, \"kernel_size\":(2,7), \"bias\":True, \"padding\":(0,3), },},\n",
    "    {\"class\": \"ReLU\", \"kargs\": {\"inplace\": True}},\n",
    "    {\"class\": \"BatchNorm2d\", \"kargs\": {\"num_features\":80}},\n",
    "    {\"class\": \"Flatten\", \"kargs\": {}},\n",
    "\n",
    "    {\"class\": \"Linear\", \"kargs\": {\"in_features\": 80*256, \"out_features\": 256}}, # 80 units per IQ pair\n",
    "    {\"class\": \"ReLU\", \"kargs\": {\"inplace\": True}},\n",
    "    {\"class\": \"BatchNorm1d\", \"kargs\": {\"num_features\":256}},\n",
    "\n",
    "    {\"class\": \"Linear\", \"kargs\": {\"in_features\": 256, \"out_features\": 256}},\n",
    "]\n",
    "\n",
    "# Parameters relevant to results\n",
    "# These parameters will basically never need to change\n",
    "standalone_parameters[\"NUM_LOGS_PER_EPOCH\"] = 10\n",
    "standalone_parameters[\"BEST_MODEL_PATH\"] = \"./best_model.pth\"\n",
    "\n",
    "# uncomment for CORES dataset\n",
    "from steves_utils.CORES.utils import (\n",
    "    ALL_NODES,\n",
    "    ALL_NODES_MINIMUM_1000_EXAMPLES,\n",
    "    ALL_DAYS\n",
    ")\n",
    "\n",
    "\n",
    "standalone_parameters[\"labels_source\"] = ALL_NODES\n",
    "standalone_parameters[\"labels_target\"] = ALL_NODES\n",
    "\n",
    "standalone_parameters[\"domains_source\"] = [1]\n",
    "standalone_parameters[\"domains_target\"] = [2,3,4,5]\n",
    "\n",
    "standalone_parameters[\"pickle_name\"] = \"cores.stratified_ds.2022A.pkl\"\n",
    "\n",
    "\n",
    "# Uncomment these for ORACLE dataset\n",
    "# from steves_utils.ORACLE.utils_v2 import (\n",
    "#     ALL_DISTANCES_FEET,\n",
    "#     ALL_RUNS,\n",
    "#     ALL_SERIAL_NUMBERS,\n",
    "# )\n",
    "# standalone_parameters[\"labels_source\"] = ALL_SERIAL_NUMBERS\n",
    "# standalone_parameters[\"labels_target\"] = ALL_SERIAL_NUMBERS\n",
    "# standalone_parameters[\"domains_source\"] = [8,20, 38,50]\n",
    "# standalone_parameters[\"domains_target\"] = [14, 26, 32, 44, 56]\n",
    "# standalone_parameters[\"pickle_name\"] = \"oracle.frame_indexed.stratified_ds.2022A.pkl\"\n",
    "# standalone_parameters[\"num_examples_per_domain_per_label_source\"]=1000\n",
    "# standalone_parameters[\"num_examples_per_domain_per_label_target\"]=1000\n",
    "\n",
    "# Uncomment these for Metahan dataset\n",
    "# standalone_parameters[\"labels_source\"] = list(range(19))\n",
    "# standalone_parameters[\"labels_target\"] = list(range(19))\n",
    "# standalone_parameters[\"domains_source\"] = [0]\n",
    "# standalone_parameters[\"domains_target\"] = [1]\n",
    "# standalone_parameters[\"pickle_name\"] = \"metehan.stratified_ds.2022A.pkl\"\n",
    "# standalone_parameters[\"n_way\"]  = len(standalone_parameters[\"labels_source\"])\n",
    "# standalone_parameters[\"num_examples_per_domain_per_label_source\"]=200\n",
    "# standalone_parameters[\"num_examples_per_domain_per_label_target\"]=100\n",
    "\n",
    "\n",
    "standalone_parameters[\"n_way\"]  = len(standalone_parameters[\"labels_source\"])"
   ]
  },
  {
   "cell_type": "code",
   "execution_count": 4,
   "id": "66df9e68",
   "metadata": {
    "execution": {
     "iopub.execute_input": "2022-03-22T01:43:01.881864Z",
     "iopub.status.busy": "2022-03-22T01:43:01.881411Z",
     "iopub.status.idle": "2022-03-22T01:43:01.893947Z",
     "shell.execute_reply": "2022-03-22T01:43:01.894348Z"
    },
    "papermill": {
     "duration": 0.031009,
     "end_time": "2022-03-22T01:43:01.894465",
     "exception": false,
     "start_time": "2022-03-22T01:43:01.863456",
     "status": "completed"
    },
    "tags": [
     "injected-parameters"
    ]
   },
   "outputs": [],
   "source": [
    "# Parameters\n",
    "parameters = {\n",
    "    \"experiment_name\": \"tuned_1v2:oracle.run1\",\n",
    "    \"device\": \"cuda\",\n",
    "    \"lr\": 0.0001,\n",
    "    \"labels_source\": [\n",
    "        \"3123D52\",\n",
    "        \"3123D65\",\n",
    "        \"3123D79\",\n",
    "        \"3123D80\",\n",
    "        \"3123D54\",\n",
    "        \"3123D70\",\n",
    "        \"3123D7B\",\n",
    "        \"3123D89\",\n",
    "        \"3123D58\",\n",
    "        \"3123D76\",\n",
    "        \"3123D7D\",\n",
    "        \"3123EFE\",\n",
    "        \"3123D64\",\n",
    "        \"3123D78\",\n",
    "        \"3123D7E\",\n",
    "        \"3124E4A\",\n",
    "    ],\n",
    "    \"labels_target\": [\n",
    "        \"3123D52\",\n",
    "        \"3123D65\",\n",
    "        \"3123D79\",\n",
    "        \"3123D80\",\n",
    "        \"3123D54\",\n",
    "        \"3123D70\",\n",
    "        \"3123D7B\",\n",
    "        \"3123D89\",\n",
    "        \"3123D58\",\n",
    "        \"3123D76\",\n",
    "        \"3123D7D\",\n",
    "        \"3123EFE\",\n",
    "        \"3123D64\",\n",
    "        \"3123D78\",\n",
    "        \"3123D7E\",\n",
    "        \"3124E4A\",\n",
    "    ],\n",
    "    \"episode_transforms_source\": [],\n",
    "    \"episode_transforms_target\": [],\n",
    "    \"domains_source\": [8, 32, 50],\n",
    "    \"domains_target\": [14, 20, 26, 38, 44],\n",
    "    \"num_examples_per_domain_per_label_source\": -1,\n",
    "    \"num_examples_per_domain_per_label_target\": -1,\n",
    "    \"n_shot\": 3,\n",
    "    \"n_way\": 16,\n",
    "    \"n_query\": 2,\n",
    "    \"train_k_factor\": 3,\n",
    "    \"val_k_factor\": 2,\n",
    "    \"test_k_factor\": 2,\n",
    "    \"torch_default_dtype\": \"torch.float32\",\n",
    "    \"n_epoch\": 50,\n",
    "    \"patience\": 3,\n",
    "    \"criteria_for_best\": \"target_accuracy\",\n",
    "    \"x_net\": [\n",
    "        {\"class\": \"nnReshape\", \"kargs\": {\"shape\": [-1, 1, 2, 256]}},\n",
    "        {\n",
    "            \"class\": \"Conv2d\",\n",
    "            \"kargs\": {\n",
    "                \"in_channels\": 1,\n",
    "                \"out_channels\": 256,\n",
    "                \"kernel_size\": [1, 7],\n",
    "                \"bias\": False,\n",
    "                \"padding\": [0, 3],\n",
    "            },\n",
    "        },\n",
    "        {\"class\": \"ReLU\", \"kargs\": {\"inplace\": True}},\n",
    "        {\"class\": \"BatchNorm2d\", \"kargs\": {\"num_features\": 256}},\n",
    "        {\n",
    "            \"class\": \"Conv2d\",\n",
    "            \"kargs\": {\n",
    "                \"in_channels\": 256,\n",
    "                \"out_channels\": 80,\n",
    "                \"kernel_size\": [2, 7],\n",
    "                \"bias\": True,\n",
    "                \"padding\": [0, 3],\n",
    "            },\n",
    "        },\n",
    "        {\"class\": \"ReLU\", \"kargs\": {\"inplace\": True}},\n",
    "        {\"class\": \"BatchNorm2d\", \"kargs\": {\"num_features\": 80}},\n",
    "        {\"class\": \"Flatten\", \"kargs\": {}},\n",
    "        {\"class\": \"Linear\", \"kargs\": {\"in_features\": 20480, \"out_features\": 256}},\n",
    "        {\"class\": \"ReLU\", \"kargs\": {\"inplace\": True}},\n",
    "        {\"class\": \"BatchNorm1d\", \"kargs\": {\"num_features\": 256}},\n",
    "        {\"class\": \"Linear\", \"kargs\": {\"in_features\": 256, \"out_features\": 256}},\n",
    "    ],\n",
    "    \"NUM_LOGS_PER_EPOCH\": 10,\n",
    "    \"BEST_MODEL_PATH\": \"./best_model.pth\",\n",
    "    \"pickle_name\": \"oracle.Run1_10kExamples_stratified_ds.2022A.pkl\",\n",
    "    \"x_transforms_source\": [],\n",
    "    \"x_transforms_target\": [],\n",
    "    \"dataset_seed\": 1337,\n",
    "    \"seed\": 1337,\n",
    "}\n"
   ]
  },
  {
   "cell_type": "code",
   "execution_count": 5,
   "id": "8fa1cc33",
   "metadata": {
    "execution": {
     "iopub.execute_input": "2022-03-22T01:43:01.929778Z",
     "iopub.status.busy": "2022-03-22T01:43:01.927087Z",
     "iopub.status.idle": "2022-03-22T01:43:01.937812Z",
     "shell.execute_reply": "2022-03-22T01:43:01.938189Z"
    },
    "papermill": {
     "duration": 0.029968,
     "end_time": "2022-03-22T01:43:01.938308",
     "exception": false,
     "start_time": "2022-03-22T01:43:01.908340",
     "status": "completed"
    },
    "tags": []
   },
   "outputs": [],
   "source": [
    "# Set this to True if you want to run this template directly\n",
    "STANDALONE = False\n",
    "if STANDALONE:\n",
    "    print(\"parameters not injected, running with standalone_parameters\")\n",
    "    parameters = standalone_parameters\n",
    "\n",
    "if not 'parameters' in locals() and not 'parameters' in globals():\n",
    "    raise Exception(\"Parameter injection failed\")\n",
    "\n",
    "#Use an easy dict for all the parameters\n",
    "p = EasyDict(parameters)\n",
    "\n",
    "supplied_keys = set(p.keys())\n",
    "\n",
    "if  supplied_keys != required_parameters:\n",
    "    print(\"Parameters are incorrect\")\n",
    "    if len(supplied_keys - required_parameters)>0: print(\"Shouldn't have:\", str(supplied_keys - required_parameters))\n",
    "    if len(required_parameters - supplied_keys)>0: print(\"Need to have:\", str(required_parameters - supplied_keys))\n",
    "    raise RuntimeError(\"Parameters are incorrect\")\n",
    "\n"
   ]
  },
  {
   "cell_type": "code",
   "execution_count": 6,
   "id": "3a028d58",
   "metadata": {
    "execution": {
     "iopub.execute_input": "2022-03-22T01:43:01.963786Z",
     "iopub.status.busy": "2022-03-22T01:43:01.963536Z",
     "iopub.status.idle": "2022-03-22T01:43:01.974983Z",
     "shell.execute_reply": "2022-03-22T01:43:01.974611Z"
    },
    "papermill": {
     "duration": 0.022641,
     "end_time": "2022-03-22T01:43:01.975061",
     "exception": false,
     "start_time": "2022-03-22T01:43:01.952420",
     "status": "completed"
    },
    "tags": []
   },
   "outputs": [],
   "source": [
    "###################################\n",
    "# Set the RNGs and make it all deterministic\n",
    "###################################\n",
    "np.random.seed(p.seed)\n",
    "random.seed(p.seed)\n",
    "torch.manual_seed(p.seed)\n",
    "\n",
    "torch.use_deterministic_algorithms(True) "
   ]
  },
  {
   "cell_type": "code",
   "execution_count": 7,
   "id": "b691acf6",
   "metadata": {
    "execution": {
     "iopub.execute_input": "2022-03-22T01:43:02.003296Z",
     "iopub.status.busy": "2022-03-22T01:43:02.002685Z",
     "iopub.status.idle": "2022-03-22T01:43:02.016357Z",
     "shell.execute_reply": "2022-03-22T01:43:02.015933Z"
    },
    "papermill": {
     "duration": 0.025754,
     "end_time": "2022-03-22T01:43:02.016455",
     "exception": false,
     "start_time": "2022-03-22T01:43:01.990701",
     "status": "completed"
    },
    "tags": []
   },
   "outputs": [],
   "source": [
    "###########################################\n",
    "# The stratified datasets honor this\n",
    "###########################################\n",
    "torch.set_default_dtype(eval(p.torch_default_dtype))"
   ]
  },
  {
   "cell_type": "code",
   "execution_count": 8,
   "id": "b5fba671",
   "metadata": {
    "execution": {
     "iopub.execute_input": "2022-03-22T01:43:02.045097Z",
     "iopub.status.busy": "2022-03-22T01:43:02.044704Z",
     "iopub.status.idle": "2022-03-22T01:43:02.081646Z",
     "shell.execute_reply": "2022-03-22T01:43:02.081356Z"
    },
    "papermill": {
     "duration": 0.049475,
     "end_time": "2022-03-22T01:43:02.081711",
     "exception": false,
     "start_time": "2022-03-22T01:43:02.032236",
     "status": "completed"
    },
    "tags": []
   },
   "outputs": [],
   "source": [
    "###################################\n",
    "# Build the network(s)\n",
    "# Note: It's critical to do this AFTER setting the RNG\n",
    "# (This is due to the randomized initial weights)\n",
    "###################################\n",
    "x_net = build_sequential(p.x_net)"
   ]
  },
  {
   "cell_type": "code",
   "execution_count": 9,
   "id": "5d7e61cc",
   "metadata": {
    "execution": {
     "iopub.execute_input": "2022-03-22T01:43:02.105620Z",
     "iopub.status.busy": "2022-03-22T01:43:02.105221Z",
     "iopub.status.idle": "2022-03-22T01:43:02.118789Z",
     "shell.execute_reply": "2022-03-22T01:43:02.118557Z"
    },
    "papermill": {
     "duration": 0.025008,
     "end_time": "2022-03-22T01:43:02.118846",
     "exception": false,
     "start_time": "2022-03-22T01:43:02.093838",
     "status": "completed"
    },
    "tags": []
   },
   "outputs": [],
   "source": [
    "start_time_secs = time.time()"
   ]
  },
  {
   "cell_type": "code",
   "execution_count": 10,
   "id": "fd5442bc",
   "metadata": {
    "execution": {
     "iopub.execute_input": "2022-03-22T01:43:02.147034Z",
     "iopub.status.busy": "2022-03-22T01:43:02.146609Z",
     "iopub.status.idle": "2022-03-22T01:43:08.814108Z",
     "shell.execute_reply": "2022-03-22T01:43:08.814343Z"
    },
    "papermill": {
     "duration": 6.682791,
     "end_time": "2022-03-22T01:43:08.814435",
     "exception": false,
     "start_time": "2022-03-22T01:43:02.131644",
     "status": "completed"
    },
    "tags": []
   },
   "outputs": [],
   "source": [
    "###################################\n",
    "# Build the dataset\n",
    "###################################\n",
    "\n",
    "if p.x_transforms_source == []: x_transform_source = None\n",
    "else: x_transform_source = get_chained_transform(p.x_transforms_source) \n",
    "\n",
    "if p.x_transforms_target == []: x_transform_target = None\n",
    "else: x_transform_target = get_chained_transform(p.x_transforms_target)\n",
    "\n",
    "if p.episode_transforms_source == []: episode_transform_source = None\n",
    "else: raise Exception(\"episode_transform_source not implemented\")\n",
    "\n",
    "if p.episode_transforms_target == []: episode_transform_target = None\n",
    "else: raise Exception(\"episode_transform_target not implemented\")\n",
    "\n",
    "\n",
    "eaf_source = Episodic_Accessor_Factory(\n",
    "    labels=p.labels_source,\n",
    "    domains=p.domains_source,\n",
    "    num_examples_per_domain_per_label=p.num_examples_per_domain_per_label_source,\n",
    "    iterator_seed=p.seed,\n",
    "    dataset_seed=p.dataset_seed,\n",
    "    n_shot=p.n_shot,\n",
    "    n_way=p.n_way,\n",
    "    n_query=p.n_query,\n",
    "    train_val_test_k_factors=(p.train_k_factor,p.val_k_factor,p.test_k_factor),\n",
    "    pickle_path=os.path.join(get_datasets_base_path(), p.pickle_name),\n",
    "    x_transform_func=x_transform_source,\n",
    "    example_transform_func=episode_transform_source,\n",
    "    \n",
    ")\n",
    "train_original_source, val_original_source, test_original_source = eaf_source.get_train(), eaf_source.get_val(), eaf_source.get_test()\n",
    "\n",
    "\n",
    "eaf_target = Episodic_Accessor_Factory(\n",
    "    labels=p.labels_target,\n",
    "    domains=p.domains_target,\n",
    "    num_examples_per_domain_per_label=p.num_examples_per_domain_per_label_target,\n",
    "    iterator_seed=p.seed,\n",
    "    dataset_seed=p.dataset_seed,\n",
    "    n_shot=p.n_shot,\n",
    "    n_way=p.n_way,\n",
    "    n_query=p.n_query,\n",
    "    train_val_test_k_factors=(p.train_k_factor,p.val_k_factor,p.test_k_factor),\n",
    "    pickle_path=os.path.join(get_datasets_base_path(), p.pickle_name),\n",
    "    x_transform_func=x_transform_target,\n",
    "    example_transform_func=episode_transform_target,\n",
    ")\n",
    "train_original_target, val_original_target, test_original_target = eaf_target.get_train(), eaf_target.get_val(), eaf_target.get_test()\n",
    "\n",
    "\n",
    "transform_lambda = lambda ex: ex[1] # Original is (<domain>, <episode>) so we strip down to episode only\n",
    "\n",
    "train_processed_source = Lazy_Iterable_Wrapper(train_original_source, transform_lambda)\n",
    "val_processed_source   = Lazy_Iterable_Wrapper(val_original_source, transform_lambda)\n",
    "test_processed_source  = Lazy_Iterable_Wrapper(test_original_source, transform_lambda)\n",
    "\n",
    "train_processed_target = Lazy_Iterable_Wrapper(train_original_target, transform_lambda)\n",
    "val_processed_target   = Lazy_Iterable_Wrapper(val_original_target, transform_lambda)\n",
    "test_processed_target  = Lazy_Iterable_Wrapper(test_original_target, transform_lambda)\n",
    "\n",
    "datasets = EasyDict({\n",
    "    \"source\": {\n",
    "        \"original\": {\"train\":train_original_source, \"val\":val_original_source, \"test\":test_original_source},\n",
    "        \"processed\": {\"train\":train_processed_source, \"val\":val_processed_source, \"test\":test_processed_source}\n",
    "    },\n",
    "    \"target\": {\n",
    "        \"original\": {\"train\":train_original_target, \"val\":val_original_target, \"test\":test_original_target},\n",
    "        \"processed\": {\"train\":train_processed_target, \"val\":val_processed_target, \"test\":test_processed_target}\n",
    "    },\n",
    "})"
   ]
  },
  {
   "cell_type": "code",
   "execution_count": 11,
   "id": "296189d9",
   "metadata": {
    "execution": {
     "iopub.execute_input": "2022-03-22T01:43:08.839054Z",
     "iopub.status.busy": "2022-03-22T01:43:08.838778Z",
     "iopub.status.idle": "2022-03-22T01:43:10.783605Z",
     "shell.execute_reply": "2022-03-22T01:43:10.783953Z"
    },
    "papermill": {
     "duration": 1.959351,
     "end_time": "2022-03-22T01:43:10.784039",
     "exception": false,
     "start_time": "2022-03-22T01:43:08.824688",
     "status": "completed"
    },
    "tags": []
   },
   "outputs": [
    {
     "name": "stdout",
     "output_type": "stream",
     "text": [
      "Visually inspect these to see if they line up with expected values given the transforms\n",
      "x_transforms_source []\n",
      "x_transforms_target []\n",
      "Average magnitude, source: 0.0047276304\n",
      "Average power, source: 2.9415698e-05\n"
     ]
    },
    {
     "name": "stdout",
     "output_type": "stream",
     "text": [
      "Average magnitude, target: 0.002870827\n",
      "Average power, target: 1.0597982e-05\n"
     ]
    }
   ],
   "source": [
    "# Some quick unit tests on the data\n",
    "from steves_utils.transforms import get_average_power, get_average_magnitude\n",
    "\n",
    "q_x, q_y, s_x, s_y, truth = next(iter(train_processed_source))\n",
    "\n",
    "assert q_x.dtype == eval(p.torch_default_dtype)\n",
    "assert s_x.dtype == eval(p.torch_default_dtype)\n",
    "\n",
    "print(\"Visually inspect these to see if they line up with expected values given the transforms\")\n",
    "print('x_transforms_source', p.x_transforms_source)\n",
    "print('x_transforms_target', p.x_transforms_target)\n",
    "print(\"Average magnitude, source:\", get_average_magnitude(q_x[0].numpy()))\n",
    "print(\"Average power, source:\", get_average_power(q_x[0].numpy()))\n",
    "\n",
    "q_x, q_y, s_x, s_y, truth = next(iter(train_processed_target))\n",
    "print(\"Average magnitude, target:\", get_average_magnitude(q_x[0].numpy()))\n",
    "print(\"Average power, target:\", get_average_power(q_x[0].numpy()))\n"
   ]
  },
  {
   "cell_type": "code",
   "execution_count": 12,
   "id": "bbdacba1",
   "metadata": {
    "execution": {
     "iopub.execute_input": "2022-03-22T01:43:10.823860Z",
     "iopub.status.busy": "2022-03-22T01:43:10.823346Z",
     "iopub.status.idle": "2022-03-22T01:43:10.881349Z",
     "shell.execute_reply": "2022-03-22T01:43:10.881659Z"
    },
    "papermill": {
     "duration": 0.082371,
     "end_time": "2022-03-22T01:43:10.881760",
     "exception": false,
     "start_time": "2022-03-22T01:43:10.799389",
     "status": "completed"
    },
    "tags": []
   },
   "outputs": [
    {
     "name": "stdout",
     "output_type": "stream",
     "text": [
      "(2, 256)\n"
     ]
    }
   ],
   "source": [
    "###################################\n",
    "# Build the model\n",
    "###################################\n",
    "model = Steves_Prototypical_Network(x_net, device=p.device, x_shape=(2,256))\n",
    "optimizer = Adam(params=model.parameters(), lr=p.lr)"
   ]
  },
  {
   "cell_type": "code",
   "execution_count": 13,
   "id": "22b39ac5",
   "metadata": {
    "execution": {
     "iopub.execute_input": "2022-03-22T01:43:10.910144Z",
     "iopub.status.busy": "2022-03-22T01:43:10.909888Z",
     "iopub.status.idle": "2022-03-22T02:37:10.875805Z",
     "shell.execute_reply": "2022-03-22T02:37:10.875574Z"
    },
    "papermill": {
     "duration": 3239.979714,
     "end_time": "2022-03-22T02:37:10.875862",
     "exception": false,
     "start_time": "2022-03-22T01:43:10.896148",
     "status": "completed"
    },
    "tags": []
   },
   "outputs": [
    {
     "name": "stdout",
     "output_type": "stream",
     "text": [
      "epoch: 1, [batch: 1 / 12600], examples_per_second: 25.9493, train_label_loss: 2.7139, \n"
     ]
    },
    {
     "name": "stdout",
     "output_type": "stream",
     "text": [
      "epoch: 1, [batch: 1260 / 12600], examples_per_second: 3161.0755, train_label_loss: 1.0272, \n"
     ]
    },
    {
     "name": "stdout",
     "output_type": "stream",
     "text": [
      "epoch: 1, [batch: 2520 / 12600], examples_per_second: 3155.9674, train_label_loss: 0.5844, \n"
     ]
    },
    {
     "name": "stdout",
     "output_type": "stream",
     "text": [
      "epoch: 1, [batch: 3780 / 12600], examples_per_second: 3150.4615, train_label_loss: 0.8015, \n"
     ]
    },
    {
     "name": "stdout",
     "output_type": "stream",
     "text": [
      "epoch: 1, [batch: 5040 / 12600], examples_per_second: 3122.6859, train_label_loss: 0.3377, \n"
     ]
    },
    {
     "name": "stdout",
     "output_type": "stream",
     "text": [
      "epoch: 1, [batch: 6300 / 12600], examples_per_second: 3131.4251, train_label_loss: 0.8488, \n"
     ]
    },
    {
     "name": "stdout",
     "output_type": "stream",
     "text": [
      "epoch: 1, [batch: 7560 / 12600], examples_per_second: 3142.1301, train_label_loss: 0.7533, \n"
     ]
    },
    {
     "name": "stdout",
     "output_type": "stream",
     "text": [
      "epoch: 1, [batch: 8820 / 12600], examples_per_second: 3125.4382, train_label_loss: 0.3460, \n"
     ]
    },
    {
     "name": "stdout",
     "output_type": "stream",
     "text": [
      "epoch: 1, [batch: 10080 / 12600], examples_per_second: 3133.1636, train_label_loss: 0.3797, \n"
     ]
    },
    {
     "name": "stdout",
     "output_type": "stream",
     "text": [
      "epoch: 1, [batch: 11340 / 12600], examples_per_second: 3147.1317, train_label_loss: 0.2340, \n"
     ]
    },
    {
     "name": "stdout",
     "output_type": "stream",
     "text": [
      "=============================================================\n",
      "epoch: 1, source_val_acc_label: 0.7583, target_val_acc_label: 0.7058, source_val_label_loss: 0.9940, target_val_label_loss: 1.1842, \n",
      "=============================================================\n"
     ]
    },
    {
     "name": "stdout",
     "output_type": "stream",
     "text": [
      "New best\n"
     ]
    },
    {
     "name": "stdout",
     "output_type": "stream",
     "text": [
      "epoch: 2, [batch: 1 / 12600], examples_per_second: 2.2380, train_label_loss: 0.5619, \n"
     ]
    },
    {
     "name": "stdout",
     "output_type": "stream",
     "text": [
      "epoch: 2, [batch: 1260 / 12600], examples_per_second: 3171.4361, train_label_loss: 0.3378, \n"
     ]
    },
    {
     "name": "stdout",
     "output_type": "stream",
     "text": [
      "epoch: 2, [batch: 2520 / 12600], examples_per_second: 3165.1997, train_label_loss: 0.5865, \n"
     ]
    },
    {
     "name": "stdout",
     "output_type": "stream",
     "text": [
      "epoch: 2, [batch: 3780 / 12600], examples_per_second: 3160.9274, train_label_loss: 0.5513, \n"
     ]
    },
    {
     "name": "stdout",
     "output_type": "stream",
     "text": [
      "epoch: 2, [batch: 5040 / 12600], examples_per_second: 3139.3311, train_label_loss: 0.6035, \n"
     ]
    },
    {
     "name": "stdout",
     "output_type": "stream",
     "text": [
      "epoch: 2, [batch: 6300 / 12600], examples_per_second: 3135.8862, train_label_loss: 0.4837, \n"
     ]
    },
    {
     "name": "stdout",
     "output_type": "stream",
     "text": [
      "epoch: 2, [batch: 7560 / 12600], examples_per_second: 3077.8526, train_label_loss: 0.6454, \n"
     ]
    },
    {
     "name": "stdout",
     "output_type": "stream",
     "text": [
      "epoch: 2, [batch: 8820 / 12600], examples_per_second: 3005.5128, train_label_loss: 0.5792, \n"
     ]
    },
    {
     "name": "stdout",
     "output_type": "stream",
     "text": [
      "epoch: 2, [batch: 10080 / 12600], examples_per_second: 3074.3497, train_label_loss: 0.3616, \n"
     ]
    },
    {
     "name": "stdout",
     "output_type": "stream",
     "text": [
      "epoch: 2, [batch: 11340 / 12600], examples_per_second: 3055.3027, train_label_loss: 0.2364, \n"
     ]
    },
    {
     "name": "stdout",
     "output_type": "stream",
     "text": [
      "=============================================================\n",
      "epoch: 2, source_val_acc_label: 0.8449, target_val_acc_label: 0.7494, source_val_label_loss: 0.4347, target_val_label_loss: 0.7570, \n",
      "=============================================================\n"
     ]
    },
    {
     "name": "stdout",
     "output_type": "stream",
     "text": [
      "New best\n"
     ]
    },
    {
     "name": "stdout",
     "output_type": "stream",
     "text": [
      "epoch: 3, [batch: 1 / 12600], examples_per_second: 2.2413, train_label_loss: 0.4933, \n"
     ]
    },
    {
     "name": "stdout",
     "output_type": "stream",
     "text": [
      "epoch: 3, [batch: 1260 / 12600], examples_per_second: 3142.8350, train_label_loss: 0.6313, \n"
     ]
    },
    {
     "name": "stdout",
     "output_type": "stream",
     "text": [
      "epoch: 3, [batch: 2520 / 12600], examples_per_second: 3139.3733, train_label_loss: 0.3839, \n"
     ]
    },
    {
     "name": "stdout",
     "output_type": "stream",
     "text": [
      "epoch: 3, [batch: 3780 / 12600], examples_per_second: 3142.5575, train_label_loss: 0.3627, \n"
     ]
    },
    {
     "name": "stdout",
     "output_type": "stream",
     "text": [
      "epoch: 3, [batch: 5040 / 12600], examples_per_second: 3126.0205, train_label_loss: 0.3773, \n"
     ]
    },
    {
     "name": "stdout",
     "output_type": "stream",
     "text": [
      "epoch: 3, [batch: 6300 / 12600], examples_per_second: 3139.1502, train_label_loss: 0.3269, \n"
     ]
    },
    {
     "name": "stdout",
     "output_type": "stream",
     "text": [
      "epoch: 3, [batch: 7560 / 12600], examples_per_second: 3137.0810, train_label_loss: 0.5541, \n"
     ]
    },
    {
     "name": "stdout",
     "output_type": "stream",
     "text": [
      "epoch: 3, [batch: 8820 / 12600], examples_per_second: 3133.5334, train_label_loss: 0.2603, \n"
     ]
    },
    {
     "name": "stdout",
     "output_type": "stream",
     "text": [
      "epoch: 3, [batch: 10080 / 12600], examples_per_second: 3132.3604, train_label_loss: 0.5777, \n"
     ]
    },
    {
     "name": "stdout",
     "output_type": "stream",
     "text": [
      "epoch: 3, [batch: 11340 / 12600], examples_per_second: 3172.1547, train_label_loss: 0.2452, \n"
     ]
    },
    {
     "name": "stdout",
     "output_type": "stream",
     "text": [
      "=============================================================\n",
      "epoch: 3, source_val_acc_label: 0.8620, target_val_acc_label: 0.7703, source_val_label_loss: 0.3859, target_val_label_loss: 0.7106, \n",
      "=============================================================\n"
     ]
    },
    {
     "name": "stdout",
     "output_type": "stream",
     "text": [
      "New best\n"
     ]
    },
    {
     "name": "stdout",
     "output_type": "stream",
     "text": [
      "epoch: 4, [batch: 1 / 12600], examples_per_second: 2.2471, train_label_loss: 0.0883, \n"
     ]
    },
    {
     "name": "stdout",
     "output_type": "stream",
     "text": [
      "epoch: 4, [batch: 1260 / 12600], examples_per_second: 3166.3491, train_label_loss: 0.2368, \n"
     ]
    },
    {
     "name": "stdout",
     "output_type": "stream",
     "text": [
      "epoch: 4, [batch: 2520 / 12600], examples_per_second: 3160.5955, train_label_loss: 0.2682, \n"
     ]
    },
    {
     "name": "stdout",
     "output_type": "stream",
     "text": [
      "epoch: 4, [batch: 3780 / 12600], examples_per_second: 3168.0223, train_label_loss: 0.2743, \n"
     ]
    },
    {
     "name": "stdout",
     "output_type": "stream",
     "text": [
      "epoch: 4, [batch: 5040 / 12600], examples_per_second: 3158.0653, train_label_loss: 0.4178, \n"
     ]
    },
    {
     "name": "stdout",
     "output_type": "stream",
     "text": [
      "epoch: 4, [batch: 6300 / 12600], examples_per_second: 3165.4878, train_label_loss: 0.1519, \n"
     ]
    },
    {
     "name": "stdout",
     "output_type": "stream",
     "text": [
      "epoch: 4, [batch: 7560 / 12600], examples_per_second: 3165.1056, train_label_loss: 0.2123, \n"
     ]
    },
    {
     "name": "stdout",
     "output_type": "stream",
     "text": [
      "epoch: 4, [batch: 8820 / 12600], examples_per_second: 3160.8613, train_label_loss: 0.2916, \n"
     ]
    },
    {
     "name": "stdout",
     "output_type": "stream",
     "text": [
      "epoch: 4, [batch: 10080 / 12600], examples_per_second: 3178.4468, train_label_loss: 0.3556, \n"
     ]
    },
    {
     "name": "stdout",
     "output_type": "stream",
     "text": [
      "epoch: 4, [batch: 11340 / 12600], examples_per_second: 3175.6334, train_label_loss: 0.3331, \n"
     ]
    },
    {
     "name": "stdout",
     "output_type": "stream",
     "text": [
      "=============================================================\n",
      "epoch: 4, source_val_acc_label: 0.8709, target_val_acc_label: 0.7741, source_val_label_loss: 0.3624, target_val_label_loss: 0.7103, \n",
      "=============================================================\n"
     ]
    },
    {
     "name": "stdout",
     "output_type": "stream",
     "text": [
      "New best\n"
     ]
    },
    {
     "name": "stdout",
     "output_type": "stream",
     "text": [
      "epoch: 5, [batch: 1 / 12600], examples_per_second: 2.2490, train_label_loss: 0.1673, \n"
     ]
    },
    {
     "name": "stdout",
     "output_type": "stream",
     "text": [
      "epoch: 5, [batch: 1260 / 12600], examples_per_second: 3170.9179, train_label_loss: 0.3044, \n"
     ]
    },
    {
     "name": "stdout",
     "output_type": "stream",
     "text": [
      "epoch: 5, [batch: 2520 / 12600], examples_per_second: 3179.3896, train_label_loss: 0.4941, \n"
     ]
    },
    {
     "name": "stdout",
     "output_type": "stream",
     "text": [
      "epoch: 5, [batch: 3780 / 12600], examples_per_second: 3179.0073, train_label_loss: 0.2470, \n"
     ]
    },
    {
     "name": "stdout",
     "output_type": "stream",
     "text": [
      "epoch: 5, [batch: 5040 / 12600], examples_per_second: 3152.8136, train_label_loss: 0.2742, \n"
     ]
    },
    {
     "name": "stdout",
     "output_type": "stream",
     "text": [
      "epoch: 5, [batch: 6300 / 12600], examples_per_second: 3159.3066, train_label_loss: 0.0666, \n"
     ]
    },
    {
     "name": "stdout",
     "output_type": "stream",
     "text": [
      "epoch: 5, [batch: 7560 / 12600], examples_per_second: 3166.9557, train_label_loss: 0.1886, \n"
     ]
    },
    {
     "name": "stdout",
     "output_type": "stream",
     "text": [
      "epoch: 5, [batch: 8820 / 12600], examples_per_second: 3160.8619, train_label_loss: 0.1506, \n"
     ]
    },
    {
     "name": "stdout",
     "output_type": "stream",
     "text": [
      "epoch: 5, [batch: 10080 / 12600], examples_per_second: 3174.9418, train_label_loss: 0.4432, \n"
     ]
    },
    {
     "name": "stdout",
     "output_type": "stream",
     "text": [
      "epoch: 5, [batch: 11340 / 12600], examples_per_second: 3182.6244, train_label_loss: 0.3772, \n"
     ]
    },
    {
     "name": "stdout",
     "output_type": "stream",
     "text": [
      "=============================================================\n",
      "epoch: 5, source_val_acc_label: 0.8764, target_val_acc_label: 0.7747, source_val_label_loss: 0.3503, target_val_label_loss: 0.7070, \n",
      "=============================================================\n"
     ]
    },
    {
     "name": "stdout",
     "output_type": "stream",
     "text": [
      "New best\n"
     ]
    },
    {
     "name": "stdout",
     "output_type": "stream",
     "text": [
      "epoch: 6, [batch: 1 / 12600], examples_per_second: 2.2488, train_label_loss: 0.2680, \n"
     ]
    },
    {
     "name": "stdout",
     "output_type": "stream",
     "text": [
      "epoch: 6, [batch: 1260 / 12600], examples_per_second: 3161.8554, train_label_loss: 0.0747, \n"
     ]
    },
    {
     "name": "stdout",
     "output_type": "stream",
     "text": [
      "epoch: 6, [batch: 2520 / 12600], examples_per_second: 3161.5369, train_label_loss: 0.1341, \n"
     ]
    },
    {
     "name": "stdout",
     "output_type": "stream",
     "text": [
      "epoch: 6, [batch: 3780 / 12600], examples_per_second: 3168.6135, train_label_loss: 0.3599, \n"
     ]
    },
    {
     "name": "stdout",
     "output_type": "stream",
     "text": [
      "epoch: 6, [batch: 5040 / 12600], examples_per_second: 3148.0410, train_label_loss: 0.2033, \n"
     ]
    },
    {
     "name": "stdout",
     "output_type": "stream",
     "text": [
      "epoch: 6, [batch: 6300 / 12600], examples_per_second: 3165.0979, train_label_loss: 0.0962, \n"
     ]
    },
    {
     "name": "stdout",
     "output_type": "stream",
     "text": [
      "epoch: 6, [batch: 7560 / 12600], examples_per_second: 3176.8890, train_label_loss: 0.2930, \n"
     ]
    },
    {
     "name": "stdout",
     "output_type": "stream",
     "text": [
      "epoch: 6, [batch: 8820 / 12600], examples_per_second: 3170.5556, train_label_loss: 0.1610, \n"
     ]
    },
    {
     "name": "stdout",
     "output_type": "stream",
     "text": [
      "epoch: 6, [batch: 10080 / 12600], examples_per_second: 3166.1556, train_label_loss: 0.1930, \n"
     ]
    },
    {
     "name": "stdout",
     "output_type": "stream",
     "text": [
      "epoch: 6, [batch: 11340 / 12600], examples_per_second: 3156.1776, train_label_loss: 0.1601, \n"
     ]
    },
    {
     "name": "stdout",
     "output_type": "stream",
     "text": [
      "=============================================================\n",
      "epoch: 6, source_val_acc_label: 0.8816, target_val_acc_label: 0.7705, source_val_label_loss: 0.3420, target_val_label_loss: 0.7290, \n",
      "=============================================================\n"
     ]
    },
    {
     "name": "stdout",
     "output_type": "stream",
     "text": [
      "epoch: 7, [batch: 1 / 12600], examples_per_second: 2.2631, train_label_loss: 0.0565, \n"
     ]
    },
    {
     "name": "stdout",
     "output_type": "stream",
     "text": [
      "epoch: 7, [batch: 1260 / 12600], examples_per_second: 3168.3838, train_label_loss: 0.1062, \n"
     ]
    },
    {
     "name": "stdout",
     "output_type": "stream",
     "text": [
      "epoch: 7, [batch: 2520 / 12600], examples_per_second: 3167.5832, train_label_loss: 0.2372, \n"
     ]
    },
    {
     "name": "stdout",
     "output_type": "stream",
     "text": [
      "epoch: 7, [batch: 3780 / 12600], examples_per_second: 3156.1805, train_label_loss: 0.3261, \n"
     ]
    },
    {
     "name": "stdout",
     "output_type": "stream",
     "text": [
      "epoch: 7, [batch: 5040 / 12600], examples_per_second: 3143.6724, train_label_loss: 0.2143, \n"
     ]
    },
    {
     "name": "stdout",
     "output_type": "stream",
     "text": [
      "epoch: 7, [batch: 6300 / 12600], examples_per_second: 3172.6040, train_label_loss: 0.2229, \n"
     ]
    },
    {
     "name": "stdout",
     "output_type": "stream",
     "text": [
      "epoch: 7, [batch: 7560 / 12600], examples_per_second: 3169.8483, train_label_loss: 0.1881, \n"
     ]
    },
    {
     "name": "stdout",
     "output_type": "stream",
     "text": [
      "epoch: 7, [batch: 8820 / 12600], examples_per_second: 3170.5283, train_label_loss: 0.2234, \n"
     ]
    },
    {
     "name": "stdout",
     "output_type": "stream",
     "text": [
      "epoch: 7, [batch: 10080 / 12600], examples_per_second: 3162.2214, train_label_loss: 0.0511, \n"
     ]
    },
    {
     "name": "stdout",
     "output_type": "stream",
     "text": [
      "epoch: 7, [batch: 11340 / 12600], examples_per_second: 3161.0523, train_label_loss: 0.2046, \n"
     ]
    },
    {
     "name": "stdout",
     "output_type": "stream",
     "text": [
      "=============================================================\n",
      "epoch: 7, source_val_acc_label: 0.8808, target_val_acc_label: 0.7660, source_val_label_loss: 0.3491, target_val_label_loss: 0.7543, \n",
      "=============================================================\n"
     ]
    },
    {
     "name": "stdout",
     "output_type": "stream",
     "text": [
      "epoch: 8, [batch: 1 / 12600], examples_per_second: 2.2300, train_label_loss: 0.1262, \n"
     ]
    },
    {
     "name": "stdout",
     "output_type": "stream",
     "text": [
      "epoch: 8, [batch: 1260 / 12600], examples_per_second: 3129.8081, train_label_loss: 0.3624, \n"
     ]
    },
    {
     "name": "stdout",
     "output_type": "stream",
     "text": [
      "epoch: 8, [batch: 2520 / 12600], examples_per_second: 3138.3600, train_label_loss: 0.0121, \n"
     ]
    },
    {
     "name": "stdout",
     "output_type": "stream",
     "text": [
      "epoch: 8, [batch: 3780 / 12600], examples_per_second: 3123.8237, train_label_loss: 0.2590, \n"
     ]
    },
    {
     "name": "stdout",
     "output_type": "stream",
     "text": [
      "epoch: 8, [batch: 5040 / 12600], examples_per_second: 3037.2371, train_label_loss: 0.3015, \n"
     ]
    },
    {
     "name": "stdout",
     "output_type": "stream",
     "text": [
      "epoch: 8, [batch: 6300 / 12600], examples_per_second: 3074.0052, train_label_loss: 0.1896, \n"
     ]
    },
    {
     "name": "stdout",
     "output_type": "stream",
     "text": [
      "epoch: 8, [batch: 7560 / 12600], examples_per_second: 3100.6821, train_label_loss: 0.0470, \n"
     ]
    },
    {
     "name": "stdout",
     "output_type": "stream",
     "text": [
      "epoch: 8, [batch: 8820 / 12600], examples_per_second: 3118.6444, train_label_loss: 0.0391, \n"
     ]
    },
    {
     "name": "stdout",
     "output_type": "stream",
     "text": [
      "epoch: 8, [batch: 10080 / 12600], examples_per_second: 3088.0082, train_label_loss: 0.4255, \n"
     ]
    },
    {
     "name": "stdout",
     "output_type": "stream",
     "text": [
      "epoch: 8, [batch: 11340 / 12600], examples_per_second: 3135.5599, train_label_loss: 0.2897, \n"
     ]
    },
    {
     "name": "stdout",
     "output_type": "stream",
     "text": [
      "=============================================================\n",
      "epoch: 8, source_val_acc_label: 0.8809, target_val_acc_label: 0.7629, source_val_label_loss: 0.3502, target_val_label_loss: 0.7583, \n",
      "=============================================================\n"
     ]
    },
    {
     "name": "stdout",
     "output_type": "stream",
     "text": [
      "epoch: 9, [batch: 1 / 12600], examples_per_second: 2.2336, train_label_loss: 0.1524, \n"
     ]
    },
    {
     "name": "stdout",
     "output_type": "stream",
     "text": [
      "epoch: 9, [batch: 1260 / 12600], examples_per_second: 3133.8315, train_label_loss: 0.0706, \n"
     ]
    },
    {
     "name": "stdout",
     "output_type": "stream",
     "text": [
      "epoch: 9, [batch: 2520 / 12600], examples_per_second: 3139.9462, train_label_loss: 0.2670, \n"
     ]
    },
    {
     "name": "stdout",
     "output_type": "stream",
     "text": [
      "epoch: 9, [batch: 3780 / 12600], examples_per_second: 3135.0348, train_label_loss: 0.3255, \n"
     ]
    },
    {
     "name": "stdout",
     "output_type": "stream",
     "text": [
      "epoch: 9, [batch: 5040 / 12600], examples_per_second: 3113.4474, train_label_loss: 0.0172, \n"
     ]
    },
    {
     "name": "stdout",
     "output_type": "stream",
     "text": [
      "epoch: 9, [batch: 6300 / 12600], examples_per_second: 3115.7212, train_label_loss: 0.1946, \n"
     ]
    },
    {
     "name": "stdout",
     "output_type": "stream",
     "text": [
      "epoch: 9, [batch: 7560 / 12600], examples_per_second: 3135.5559, train_label_loss: 0.3050, \n"
     ]
    },
    {
     "name": "stdout",
     "output_type": "stream",
     "text": [
      "epoch: 9, [batch: 8820 / 12600], examples_per_second: 3127.0082, train_label_loss: 0.1808, \n"
     ]
    },
    {
     "name": "stdout",
     "output_type": "stream",
     "text": [
      "epoch: 9, [batch: 10080 / 12600], examples_per_second: 3122.0133, train_label_loss: 0.0664, \n"
     ]
    },
    {
     "name": "stdout",
     "output_type": "stream",
     "text": [
      "epoch: 9, [batch: 11340 / 12600], examples_per_second: 3135.6741, train_label_loss: 0.0839, \n"
     ]
    },
    {
     "name": "stdout",
     "output_type": "stream",
     "text": [
      "=============================================================\n",
      "epoch: 9, source_val_acc_label: 0.8843, target_val_acc_label: 0.7615, source_val_label_loss: 0.3556, target_val_label_loss: 0.7721, \n",
      "=============================================================\n"
     ]
    },
    {
     "name": "stdout",
     "output_type": "stream",
     "text": [
      "Patience (3) exhausted\n"
     ]
    }
   ],
   "source": [
    "###################################\n",
    "# train\n",
    "###################################\n",
    "jig = PTN_Train_Eval_Test_Jig(model, p.BEST_MODEL_PATH, p.device)\n",
    "\n",
    "jig.train(\n",
    "    train_iterable=datasets.source.processed.train,\n",
    "    source_val_iterable=datasets.source.processed.val,\n",
    "    target_val_iterable=datasets.target.processed.val,\n",
    "    num_epochs=p.n_epoch,\n",
    "    num_logs_per_epoch=p.NUM_LOGS_PER_EPOCH,\n",
    "    patience=p.patience,\n",
    "    optimizer=optimizer,\n",
    "    criteria_for_best=p.criteria_for_best,\n",
    ")"
   ]
  },
  {
   "cell_type": "code",
   "execution_count": 14,
   "id": "31e8fabf",
   "metadata": {
    "execution": {
     "iopub.execute_input": "2022-03-22T02:37:10.936055Z",
     "iopub.status.busy": "2022-03-22T02:37:10.935644Z",
     "iopub.status.idle": "2022-03-22T02:37:10.953674Z",
     "shell.execute_reply": "2022-03-22T02:37:10.953295Z"
    },
    "papermill": {
     "duration": 0.049357,
     "end_time": "2022-03-22T02:37:10.953770",
     "exception": false,
     "start_time": "2022-03-22T02:37:10.904413",
     "status": "completed"
    },
    "tags": []
   },
   "outputs": [],
   "source": [
    "total_experiment_time_secs = time.time() - start_time_secs"
   ]
  },
  {
   "cell_type": "code",
   "execution_count": 15,
   "id": "87b9595b",
   "metadata": {
    "execution": {
     "iopub.execute_input": "2022-03-22T02:37:11.019898Z",
     "iopub.status.busy": "2022-03-22T02:37:11.019624Z",
     "iopub.status.idle": "2022-03-22T02:41:15.461628Z",
     "shell.execute_reply": "2022-03-22T02:41:15.461845Z"
    },
    "papermill": {
     "duration": 244.47478,
     "end_time": "2022-03-22T02:41:15.461931",
     "exception": false,
     "start_time": "2022-03-22T02:37:10.987151",
     "status": "completed"
    },
    "tags": []
   },
   "outputs": [],
   "source": [
    "###################################\n",
    "# Evaluate the model\n",
    "###################################\n",
    "source_test_label_accuracy, source_test_label_loss = jig.test(datasets.source.processed.test)\n",
    "target_test_label_accuracy, target_test_label_loss = jig.test(datasets.target.processed.test)\n",
    "\n",
    "source_val_label_accuracy, source_val_label_loss = jig.test(datasets.source.processed.val)\n",
    "target_val_label_accuracy, target_val_label_loss = jig.test(datasets.target.processed.val)\n",
    "\n",
    "history = jig.get_history()\n",
    "\n",
    "total_epochs_trained = len(history[\"epoch_indices\"])\n",
    "\n",
    "val_dl = Iterable_Aggregator((datasets.source.original.val,datasets.target.original.val))\n",
    "\n",
    "confusion = ptn_confusion_by_domain_over_dataloader(model, p.device, val_dl)\n",
    "per_domain_accuracy = per_domain_accuracy_from_confusion(confusion)\n",
    "\n",
    "# Add a key to per_domain_accuracy for if it was a source domain\n",
    "for domain, accuracy in per_domain_accuracy.items():\n",
    "    per_domain_accuracy[domain] = {\n",
    "        \"accuracy\": accuracy,\n",
    "        \"source?\": domain in p.domains_source\n",
    "    }\n",
    "\n",
    "# Do an independent accuracy assesment JUST TO BE SURE!\n",
    "# _source_test_label_accuracy = independent_accuracy_assesment(model, datasets.source.processed.test, p.device)\n",
    "# _target_test_label_accuracy = independent_accuracy_assesment(model, datasets.target.processed.test, p.device)\n",
    "# _source_val_label_accuracy = independent_accuracy_assesment(model, datasets.source.processed.val, p.device)\n",
    "# _target_val_label_accuracy = independent_accuracy_assesment(model, datasets.target.processed.val, p.device)\n",
    "\n",
    "# assert(_source_test_label_accuracy == source_test_label_accuracy)\n",
    "# assert(_target_test_label_accuracy == target_test_label_accuracy)\n",
    "# assert(_source_val_label_accuracy == source_val_label_accuracy)\n",
    "# assert(_target_val_label_accuracy == target_val_label_accuracy)\n",
    "\n",
    "experiment = {\n",
    "    \"experiment_name\": p.experiment_name,\n",
    "    \"parameters\": dict(p),\n",
    "    \"results\": {\n",
    "        \"source_test_label_accuracy\": source_test_label_accuracy,\n",
    "        \"source_test_label_loss\": source_test_label_loss,\n",
    "        \"target_test_label_accuracy\": target_test_label_accuracy,\n",
    "        \"target_test_label_loss\": target_test_label_loss,\n",
    "        \"source_val_label_accuracy\": source_val_label_accuracy,\n",
    "        \"source_val_label_loss\": source_val_label_loss,\n",
    "        \"target_val_label_accuracy\": target_val_label_accuracy,\n",
    "        \"target_val_label_loss\": target_val_label_loss,\n",
    "        \"total_epochs_trained\": total_epochs_trained,\n",
    "        \"total_experiment_time_secs\": total_experiment_time_secs,\n",
    "        \"confusion\": confusion,\n",
    "        \"per_domain_accuracy\": per_domain_accuracy,\n",
    "    },\n",
    "    \"history\": history,\n",
    "    \"dataset_metrics\": get_dataset_metrics(datasets, \"ptn\"),\n",
    "}"
   ]
  },
  {
   "cell_type": "code",
   "execution_count": 16,
   "id": "54a21829",
   "metadata": {
    "execution": {
     "iopub.execute_input": "2022-03-22T02:41:15.527040Z",
     "iopub.status.busy": "2022-03-22T02:41:15.526778Z",
     "iopub.status.idle": "2022-03-22T02:41:15.652210Z",
     "shell.execute_reply": "2022-03-22T02:41:15.652589Z"
    },
    "papermill": {
     "duration": 0.157337,
     "end_time": "2022-03-22T02:41:15.652696",
     "exception": false,
     "start_time": "2022-03-22T02:41:15.495359",
     "status": "completed"
    },
    "tags": []
   },
   "outputs": [
    {
     "data": {
      "image/png": "[encoded data removed]",
      "text/plain": [
       "<Figure size 1080x504 with 1 Axes>"
      ]
     },
     "metadata": {
      "needs_background": "light"
     },
     "output_type": "display_data"
    }
   ],
   "source": [
    "ax = get_loss_curve(experiment)\n",
    "plt.show()"
   ]
  },
  {
   "cell_type": "code",
   "execution_count": 17,
   "id": "fd8a0f60",
   "metadata": {
    "execution": {
     "iopub.execute_input": "2022-03-22T02:41:15.718596Z",
     "iopub.status.busy": "2022-03-22T02:41:15.718342Z",
     "iopub.status.idle": "2022-03-22T02:41:15.861048Z",
     "shell.execute_reply": "2022-03-22T02:41:15.861268Z"
    },
    "papermill": {
     "duration": 0.175531,
     "end_time": "2022-03-22T02:41:15.861338",
     "exception": false,
     "start_time": "2022-03-22T02:41:15.685807",
     "status": "completed"
    },
    "tags": []
   },
   "outputs": [
    {
     "data": {
      "text/plain": [
       "<AxesSubplot:title={'center':'Results'}>"
      ]
     },
     "execution_count": 17,
     "metadata": {},
     "output_type": "execute_result"
    },
    {
     "data": {
      "image/png": "[encoded data removed]",
      "text/plain": [
       "<Figure size 1080x504 with 1 Axes>"
      ]
     },
     "metadata": {
      "needs_background": "light"
     },
     "output_type": "display_data"
    }
   ],
   "source": [
    "get_results_table(experiment)"
   ]
  },
  {
   "cell_type": "code",
   "execution_count": 18,
   "id": "cf8dc689",
   "metadata": {
    "execution": {
     "iopub.execute_input": "2022-03-22T02:41:15.926982Z",
     "iopub.status.busy": "2022-03-22T02:41:15.926729Z",
     "iopub.status.idle": "2022-03-22T02:41:16.042460Z",
     "shell.execute_reply": "2022-03-22T02:41:16.042010Z"
    },
    "papermill": {
     "duration": 0.149228,
     "end_time": "2022-03-22T02:41:16.042549",
     "exception": false,
     "start_time": "2022-03-22T02:41:15.893321",
     "status": "completed"
    },
    "tags": []
   },
   "outputs": [
    {
     "data": {
      "text/plain": [
       "<AxesSubplot:title={'center':'Per Domain Validation Accuracy'}, xlabel='domain'>"
      ]
     },
     "execution_count": 18,
     "metadata": {},
     "output_type": "execute_result"
    },
    {
     "data": {
      "image/png": "[encoded data removed]",
      "text/plain": [
       "<Figure size 1080x504 with 1 Axes>"
      ]
     },
     "metadata": {
      "needs_background": "light"
     },
     "output_type": "display_data"
    }
   ],
   "source": [
    "get_domain_accuracies(experiment)"
   ]
  },
  {
   "cell_type": "code",
   "execution_count": 19,
   "id": "a74ae082",
   "metadata": {
    "execution": {
     "iopub.execute_input": "2022-03-22T02:41:16.110799Z",
     "iopub.status.busy": "2022-03-22T02:41:16.110544Z",
     "iopub.status.idle": "2022-03-22T02:41:16.126871Z",
     "shell.execute_reply": "2022-03-22T02:41:16.126483Z"
    },
    "papermill": {
     "duration": 0.050432,
     "end_time": "2022-03-22T02:41:16.126960",
     "exception": false,
     "start_time": "2022-03-22T02:41:16.076528",
     "status": "completed"
    },
    "tags": []
   },
   "outputs": [
    {
     "name": "stdout",
     "output_type": "stream",
     "text": [
      "Source Test Label Accuracy: 0.8786631944444444 Target Test Label Accuracy: 0.77540625\n",
      "Source Val Label Accuracy: 0.87640625 Target Val Label Accuracy: 0.7747291666666667\n"
     ]
    }
   ],
   "source": [
    "print(\"Source Test Label Accuracy:\", experiment[\"results\"][\"source_test_label_accuracy\"], \"Target Test Label Accuracy:\", experiment[\"results\"][\"target_test_label_accuracy\"])\n",
    "print(\"Source Val Label Accuracy:\", experiment[\"results\"][\"source_val_label_accuracy\"], \"Target Val Label Accuracy:\", experiment[\"results\"][\"target_val_label_accuracy\"])"
   ]
  },
  {
   "cell_type": "code",
   "execution_count": 20,
   "id": "dacca602",
   "metadata": {
    "execution": {
     "iopub.execute_input": "2022-03-22T02:41:16.197742Z",
     "iopub.status.busy": "2022-03-22T02:41:16.197487Z",
     "iopub.status.idle": "2022-03-22T02:41:16.208937Z",
     "shell.execute_reply": "2022-03-22T02:41:16.209247Z"
    },
    "papermill": {
     "duration": 0.045951,
     "end_time": "2022-03-22T02:41:16.209330",
     "exception": false,
     "start_time": "2022-03-22T02:41:16.163379",
     "status": "completed"
    },
    "tags": [
     "experiment_json"
    ]
   },
   "outputs": [
    {
     "data": {
      "text/plain": [
       "'{\"experiment_name\": \"tuned_1v2:oracle.run1\", \"parameters\": {\"experiment_name\": \"tuned_1v2:oracle.run1\", \"device\": \"cuda\", \"lr\": 0.0001, \"labels_source\": [\"3123D52\", \"3123D65\", \"3123D79\", \"3123D80\", \"3123D54\", \"3123D70\", \"3123D7B\", \"3123D89\", \"3123D58\", \"3123D76\", \"3123D7D\", \"3123EFE\", \"3123D64\", \"3123D78\", \"3123D7E\", \"3124E4A\"], \"labels_target\": [\"3123D52\", \"3123D65\", \"3123D79\", \"3123D80\", \"3123D54\", \"3123D70\", \"3123D7B\", \"3123D89\", \"3123D58\", \"3123D76\", \"3123D7D\", \"3123EFE\", \"3123D64\", \"3123D78\", \"3123D7E\", \"3124E4A\"], \"episode_transforms_source\": [], \"episode_transforms_target\": [], \"domains_source\": [8, 32, 50], \"domains_target\": [14, 20, 26, 38, 44], \"num_examples_per_domain_per_label_source\": -1, \"num_examples_per_domain_per_label_target\": -1, \"n_shot\": 3, \"n_way\": 16, \"n_query\": 2, \"train_k_factor\": 3, \"val_k_factor\": 2, \"test_k_factor\": 2, \"torch_default_dtype\": \"torch.float32\", \"n_epoch\": 50, \"patience\": 3, \"criteria_for_best\": \"target_accuracy\", \"x_net\": [{\"class\": \"nnReshape\", \"kargs\": {\"shape\": [-1, 1, 2, 256]}}, {\"class\": \"Conv2d\", \"kargs\": {\"in_channels\": 1, \"out_channels\": 256, \"kernel_size\": [1, 7], \"bias\": false, \"padding\": [0, 3]}}, {\"class\": \"ReLU\", \"kargs\": {\"inplace\": true}}, {\"class\": \"BatchNorm2d\", \"kargs\": {\"num_features\": 256}}, {\"class\": \"Conv2d\", \"kargs\": {\"in_channels\": 256, \"out_channels\": 80, \"kernel_size\": [2, 7], \"bias\": true, \"padding\": [0, 3]}}, {\"class\": \"ReLU\", \"kargs\": {\"inplace\": true}}, {\"class\": \"BatchNorm2d\", \"kargs\": {\"num_features\": 80}}, {\"class\": \"Flatten\", \"kargs\": {}}, {\"class\": \"Linear\", \"kargs\": {\"in_features\": 20480, \"out_features\": 256}}, {\"class\": \"ReLU\", \"kargs\": {\"inplace\": true}}, {\"class\": \"BatchNorm1d\", \"kargs\": {\"num_features\": 256}}, {\"class\": \"Linear\", \"kargs\": {\"in_features\": 256, \"out_features\": 256}}], \"NUM_LOGS_PER_EPOCH\": 10, \"BEST_MODEL_PATH\": \"./best_model.pth\", \"pickle_name\": \"oracle.Run1_10kExamples_stratified_ds.2022A.pkl\", \"x_transforms_source\": [], \"x_transforms_target\": [], \"dataset_seed\": 1337, \"seed\": 1337}, \"results\": {\"source_test_label_accuracy\": 0.8786631944444444, \"source_test_label_loss\": 0.3440779745578766, \"target_test_label_accuracy\": 0.77540625, \"target_test_label_loss\": 0.7108374238014221, \"source_val_label_accuracy\": 0.87640625, \"source_val_label_loss\": 0.35025784373283386, \"target_val_label_accuracy\": 0.7747291666666667, \"target_val_label_loss\": 0.7070121169090271, \"total_epochs_trained\": 9, \"total_experiment_time_secs\": 3248.8346178531647, \"confusion\": {\"8\": {\"15\": {\"15\": 967, \"2\": 40, \"12\": 193}, \"3\": {\"3\": 1194, \"2\": 6}, \"6\": {\"7\": 137, \"6\": 1023, \"10\": 6, \"8\": 6, \"13\": 15, \"4\": 10, \"1\": 1, \"11\": 2}, \"1\": {\"1\": 908, \"11\": 217, \"10\": 41, \"5\": 25, \"4\": 6, \"6\": 3}, \"8\": {\"8\": 1164, \"6\": 19, \"4\": 14, \"11\": 3}, \"10\": {\"10\": 973, \"5\": 41, \"13\": 115, \"1\": 51, \"6\": 13, \"4\": 6, \"11\": 1}, \"9\": {\"9\": 1200}, \"13\": {\"13\": 972, \"7\": 67, \"10\": 151, \"6\": 10}, \"12\": {\"12\": 893, \"15\": 291, \"2\": 16}, \"5\": {\"5\": 1050, \"11\": 8, \"10\": 80, \"1\": 60, \"13\": 1, \"14\": 1}, \"0\": {\"0\": 1199, \"14\": 1}, \"2\": {\"2\": 975, \"12\": 54, \"3\": 116, \"15\": 55}, \"11\": {\"11\": 810, \"1\": 330, \"4\": 22, \"5\": 5, \"14\": 16, \"8\": 13, \"6\": 3, \"10\": 1}, \"14\": {\"14\": 1108, \"4\": 60, \"11\": 27, \"1\": 5}, \"7\": {\"7\": 1041, \"13\": 26, \"6\": 133}, \"4\": {\"4\": 1117, \"6\": 14, \"11\": 22, \"14\": 22, \"8\": 16, \"1\": 7, \"10\": 2}}, \"50\": {\"3\": {\"3\": 1200}, \"15\": {\"15\": 1123, \"6\": 58, \"11\": 10, \"4\": 4, \"9\": 3, \"5\": 2}, \"8\": {\"8\": 1196, \"10\": 4}, \"4\": {\"4\": 1003, \"7\": 107, \"5\": 43, \"15\": 29, \"6\": 18}, \"14\": {\"14\": 1200}, \"0\": {\"0\": 1109, \"10\": 15, \"2\": 76}, \"7\": {\"7\": 1119, \"5\": 57, \"4\": 24}, \"6\": {\"6\": 982, \"5\": 117, \"15\": 101}, \"10\": {\"10\": 1177, \"0\": 16, \"8\": 7}, \"5\": {\"7\": 302, \"6\": 221, \"4\": 69, \"5\": 547, \"13\": 47, \"15\": 11, \"1\": 3}, \"2\": {\"2\": 1141, \"0\": 57, \"14\": 2}, \"12\": {\"12\": 1117, \"9\": 55, \"11\": 28}, \"9\": {\"9\": 1009, \"12\": 112, \"11\": 78, \"15\": 1}, \"1\": {\"1\": 1168, \"13\": 24, \"10\": 2, \"11\": 5, \"0\": 1}, \"11\": {\"11\": 1107, \"9\": 30, \"15\": 18, \"12\": 45}, \"13\": {\"13\": 1197, \"1\": 2, \"5\": 1}}, \"32\": {\"5\": {\"7\": 239, \"8\": 115, \"5\": 681, \"14\": 55, \"0\": 110}, \"8\": {\"8\": 894, \"7\": 28, \"14\": 32, \"0\": 120, \"5\": 99, \"4\": 21, \"2\": 3, \"15\": 2, \"3\": 1}, \"11\": {\"11\": 1191, \"13\": 9}, \"1\": {\"1\": 1200}, \"10\": {\"10\": 1200}, \"15\": {\"15\": 1190, \"5\": 4, \"8\": 6}, \"3\": {\"3\": 1152, \"13\": 48}, \"7\": {\"7\": 795, \"5\": 184, \"14\": 98, \"8\": 23, \"0\": 100}, \"4\": {\"2\": 144, \"4\": 1029, \"13\": 27}, \"14\": {\"0\": 39, \"14\": 758, \"2\": 46, \"5\": 53, \"7\": 242, \"8\": 37, \"4\": 25}, \"9\": {\"9\": 1187, \"12\": 12, \"2\": 1}, \"12\": {\"12\": 1200}, \"6\": {\"6\": 1200}, \"2\": {\"2\": 1073, \"4\": 126, \"14\": 1}, \"0\": {\"0\": 870, \"5\": 63, \"7\": 138, \"8\": 106, \"14\": 22, \"2\": 1}, \"13\": {\"13\": 872, \"4\": 142, \"3\": 150, \"11\": 36}}, \"14\": {\"15\": {\"15\": 1200}, \"3\": {\"3\": 1130, \"2\": 11, \"13\": 11, \"0\": 11, \"14\": 25, \"6\": 11, \"8\": 1}, \"6\": {\"13\": 327, \"6\": 699, \"14\": 103, \"3\": 44, \"2\": 27}, \"1\": {\"1\": 1200}, \"8\": {\"8\": 1195, \"0\": 5}, \"10\": {\"10\": 1195, \"4\": 4, \"0\": 1}, \"9\": {\"9\": 1200}, \"13\": {\"13\": 255, \"14\": 271, \"15\": 105, \"6\": 418, \"2\": 92, \"4\": 39, \"3\": 9, \"5\": 8, \"0\": 3}, \"12\": {\"12\": 1200}, \"5\": {\"5\": 1012, \"2\": 131, \"4\": 23, \"7\": 21, \"14\": 10, \"3\": 2, \"13\": 1}, \"0\": {\"0\": 899, \"3\": 198, \"10\": 35, \"8\": 9, \"4\": 24, \"14\": 26, \"2\": 6, \"5\": 1, \"13\": 2}, \"2\": {\"5\": 199, \"6\": 105, \"4\": 123, \"2\": 397, \"14\": 213, \"13\": 66, \"3\": 69, \"0\": 11, \"7\": 17}, \"11\": {\"11\": 1193, \"10\": 2, \"9\": 5}, \"14\": {\"2\": 122, \"14\": 874, \"5\": 14, \"13\": 128, \"3\": 22, \"0\": 14, \"6\": 26}, \"7\": {\"7\": 1186, \"5\": 6, \"2\": 6, \"13\": 1, \"6\": 1}, \"4\": {\"4\": 1162, \"5\": 20, \"2\": 15, \"1\": 3}}, \"20\": {\"3\": {\"5\": 155, \"7\": 14, \"12\": 46, \"0\": 24, \"3\": 442, \"9\": 243, \"8\": 124, \"1\": 116, \"15\": 14, \"2\": 14, \"13\": 3, \"4\": 5}, \"15\": {\"12\": 158, \"15\": 563, \"1\": 248, \"9\": 43, \"5\": 117, \"3\": 16, \"13\": 31, \"2\": 23, \"7\": 1}, \"8\": {\"8\": 769, \"3\": 168, \"9\": 69, \"0\": 3, \"5\": 8, \"14\": 110, \"4\": 17, \"7\": 41, \"2\": 10, \"12\": 4, \"6\": 1}, \"4\": {\"4\": 996, \"10\": 35, \"7\": 30, \"2\": 28, \"12\": 84, \"5\": 3, \"14\": 2, \"8\": 5, \"9\": 5, \"6\": 8, \"15\": 4}, \"14\": {\"6\": 89, \"14\": 951, \"8\": 103, \"7\": 46, \"2\": 2, \"4\": 7, \"3\": 1, \"10\": 1}, \"0\": {\"0\": 1063, \"3\": 38, \"1\": 30, \"5\": 57, \"8\": 7, \"9\": 3, \"15\": 2}, \"7\": {\"7\": 631, \"14\": 30, \"2\": 261, \"9\": 101, \"3\": 13, \"13\": 38, \"8\": 29, \"4\": 42, \"12\": 23, \"6\": 31, \"15\": 1}, \"6\": {\"6\": 1013, \"7\": 59, \"14\": 89, \"4\": 7, \"10\": 27, \"2\": 5}, \"10\": {\"10\": 1097, \"4\": 65, \"6\": 37, \"7\": 1}, \"5\": {\"1\": 376, \"15\": 105, \"0\": 11, \"5\": 447, \"9\": 67, \"3\": 144, \"12\": 40, \"8\": 7, \"2\": 3}, \"2\": {\"7\": 248, \"3\": 21, \"2\": 379, \"12\": 137, \"4\": 29, \"9\": 143, \"13\": 198, \"5\": 9, \"14\": 5, \"8\": 4, \"15\": 13, \"1\": 11, \"6\": 3}, \"12\": {\"12\": 625, \"5\": 35, \"15\": 125, \"4\": 77, \"9\": 68, \"2\": 123, \"1\": 62, \"3\": 21, \"7\": 22, \"13\": 42}, \"9\": {\"9\": 455, \"7\": 88, \"5\": 43, \"1\": 67, \"8\": 34, \"3\": 221, \"12\": 95, \"2\": 142, \"15\": 25, \"13\": 23, \"4\": 7}, \"1\": {\"1\": 451, \"15\": 172, \"12\": 51, \"5\": 355, \"9\": 73, \"13\": 4, \"3\": 83, \"2\": 10, \"0\": 1}, \"11\": {\"11\": 1200}, \"13\": {\"15\": 22, \"13\": 803, \"7\": 47, \"2\": 229, \"12\": 61, \"9\": 29, \"3\": 3, \"4\": 1, \"1\": 5}}, \"44\": {\"5\": {\"5\": 1052, \"15\": 88, \"8\": 26, \"14\": 31, \"4\": 1, \"0\": 2}, \"8\": {\"8\": 838, \"0\": 261, \"15\": 57, \"5\": 44}, \"11\": {\"11\": 1200}, \"1\": {\"1\": 1118, \"2\": 81, \"10\": 1}, \"10\": {\"10\": 1111, \"1\": 15, \"2\": 41, \"7\": 33}, \"15\": {\"14\": 103, \"15\": 993, \"8\": 35, \"5\": 48, \"0\": 9, \"4\": 12}, \"3\": {\"3\": 1154, \"12\": 46}, \"7\": {\"7\": 1038, \"9\": 148, \"10\": 12, \"6\": 2}, \"4\": {\"14\": 430, \"4\": 736, \"15\": 24, \"13\": 3, \"9\": 4, \"5\": 3}, \"14\": {\"14\": 884, \"4\": 247, \"15\": 44, \"5\": 25}, \"9\": {\"7\": 364, \"9\": 526, \"6\": 190, \"13\": 106, \"2\": 10, \"4\": 4}, \"12\": {\"12\": 1151, \"3\": 49}, \"6\": {\"6\": 1009, \"9\": 56, \"13\": 134, \"7\": 1}, \"2\": {\"2\": 1135, \"1\": 60, \"10\": 3, \"7\": 2}, \"0\": {\"0\": 1070, \"8\": 126, \"15\": 4}, \"13\": {\"13\": 978, \"9\": 13, \"6\": 208, \"11\": 1}}, \"38\": {\"14\": {\"14\": 1023, \"2\": 172, \"13\": 4, \"4\": 1}, \"0\": {\"0\": 781, \"7\": 150, \"13\": 69, \"10\": 142, \"3\": 49, \"8\": 5, \"4\": 3, \"5\": 1}, \"13\": {\"13\": 1120, \"10\": 56, \"4\": 1, \"2\": 6, \"0\": 13, \"14\": 4}, \"7\": {\"7\": 1175, \"9\": 4, \"8\": 7, \"0\": 9, \"5\": 5}, \"9\": {\"9\": 1171, \"7\": 6, \"5\": 20, \"8\": 3}, \"3\": {\"3\": 1200}, \"11\": {\"11\": 1200}, \"6\": {\"6\": 1198, \"1\": 2}, \"8\": {\"8\": 603, \"5\": 405, \"7\": 143, \"12\": 11, \"0\": 5, \"13\": 4, \"9\": 6, \"15\": 21, \"2\": 2}, \"4\": {\"4\": 1188, \"10\": 8, \"0\": 4}, \"5\": {\"9\": 106, \"8\": 408, \"5\": 527, \"7\": 100, \"15\": 54, \"12\": 3, \"13\": 1, \"2\": 1}, \"10\": {\"10\": 1084, \"13\": 56, \"0\": 52, \"4\": 8}, \"1\": {\"1\": 1200}, \"2\": {\"2\": 1066, \"14\": 133, \"13\": 1}, \"15\": {\"15\": 1087, \"8\": 40, \"1\": 41, \"5\": 31, \"12\": 1}, \"12\": {\"12\": 1191, \"8\": 6, \"5\": 2, \"15\": 1}}, \"26\": {\"13\": {\"3\": 25, \"13\": 1009, \"9\": 92, \"4\": 36, \"8\": 8, \"7\": 6, \"2\": 24}, \"2\": {\"2\": 686, \"9\": 79, \"7\": 211, \"8\": 94, \"3\": 71, \"0\": 47, \"15\": 4, \"14\": 4, \"10\": 3, \"13\": 1}, \"8\": {\"9\": 221, \"8\": 703, \"0\": 16, \"7\": 173, \"2\": 79, \"3\": 8}, \"9\": {\"8\": 311, \"4\": 1, \"9\": 589, \"2\": 84, \"13\": 116, \"7\": 66, \"3\": 20, \"0\": 13}, \"12\": {\"12\": 1200}, \"4\": {\"4\": 1198, \"13\": 1, \"3\": 1}, \"3\": {\"3\": 1055, \"13\": 13, \"7\": 108, \"8\": 4, \"2\": 15, \"9\": 3, \"4\": 2}, \"15\": {\"15\": 580, \"10\": 82, \"5\": 368, \"6\": 104, \"0\": 24, \"1\": 19, \"14\": 23}, \"14\": {\"1\": 90, \"0\": 123, \"10\": 246, \"14\": 689, \"6\": 15, \"15\": 28, \"5\": 9}, \"10\": {\"10\": 653, \"0\": 146, \"14\": 259, \"15\": 73, \"6\": 59, \"1\": 5, \"5\": 5}, \"7\": {\"7\": 790, \"2\": 146, \"3\": 95, \"8\": 122, \"9\": 45, \"13\": 2}, \"11\": {\"11\": 1198, \"6\": 2}, \"6\": {\"6\": 921, \"10\": 59, \"5\": 90, \"1\": 16, \"15\": 104, \"14\": 10}, \"1\": {\"1\": 857, \"14\": 219, \"5\": 11, \"10\": 55, \"0\": 5, \"6\": 39, \"15\": 14}, \"5\": {\"5\": 792, \"15\": 297, \"6\": 93, \"14\": 4, \"1\": 8, \"10\": 6}, \"0\": {\"10\": 208, \"0\": 765, \"1\": 3, \"2\": 18, \"14\": 148, \"8\": 37, \"15\": 16, \"9\": 3, \"7\": 1, \"5\": 1}}}, \"per_domain_accuracy\": {\"8\": {\"accuracy\": 0.8642708333333333, \"source?\": true}, \"50\": {\"accuracy\": 0.9059895833333333, \"source?\": true}, \"32\": {\"accuracy\": 0.8589583333333334, \"source?\": true}, \"14\": {\"accuracy\": 0.8331770833333333, \"source?\": false}, \"20\": {\"accuracy\": 0.6190104166666667, \"source?\": false}, \"44\": {\"accuracy\": 0.83296875, \"source?\": false}, \"38\": {\"accuracy\": 0.8757291666666667, \"source?\": false}, \"26\": {\"accuracy\": 0.7127604166666667, \"source?\": false}}}, \"history\": {\"epoch_indices\": [1, 2, 3, 4, 5, 6, 7, 8, 9], \"train_label_loss\": [0.6896469570152344, 0.458110789310128, 0.3459589903754374, 0.2918641047710405, 0.2581015959235706, 0.23399242846683288, 0.2169946101146181, 0.20475772520006147, 0.19439396987178562], \"source_val_label_loss\": [0.9940436482429504, 0.43465614318847656, 0.38594987988471985, 0.3624078035354614, 0.35025784373283386, 0.3420006334781647, 0.3491113781929016, 0.35022976994514465, 0.35560089349746704], \"target_val_label_loss\": [1.1842108964920044, 0.757023811340332, 0.7106279134750366, 0.7103394269943237, 0.7070121169090271, 0.7289740443229675, 0.7542982697486877, 0.7583014965057373, 0.7720891237258911], \"source_val_acc_label\": [0.75828125, 0.8448958333333333, 0.8620138888888889, 0.8709201388888889, 0.87640625, 0.8815798611111111, 0.8808159722222222, 0.8809027777777778, 0.8843055555555556], \"target_val_acc_label\": [0.7058229166666666, 0.7493541666666667, 0.7703125, 0.77409375, 0.7747291666666667, 0.7705, 0.76603125, 0.762875, 0.76146875]}, \"dataset_metrics\": {\"source\": {\"train\": {\"n_unique_x\": 336000, \"n_unique_y\": 16, \"n_batch/episode\": 12600}, \"val\": {\"n_unique_x\": 72000, \"n_unique_y\": 16, \"n_batch/episode\": 1800}, \"test\": {\"n_unique_x\": 72000, \"n_unique_y\": 16, \"n_batch/episode\": 1800}}, \"target\": {\"train\": {\"n_unique_x\": 560000, \"n_unique_y\": 16, \"n_batch/episode\": 21000}, \"val\": {\"n_unique_x\": 120000, \"n_unique_y\": 16, \"n_batch/episode\": 3000}, \"test\": {\"n_unique_x\": 120000, \"n_unique_y\": 16, \"n_batch/episode\": 3000}}}}'"
      ]
     },
     "execution_count": 20,
     "metadata": {},
     "output_type": "execute_result"
    }
   ],
   "source": [
    "json.dumps(experiment)"
   ]
  }
 ],
 "metadata": {
  "celltoolbar": "Tags",
  "kernelspec": {
   "display_name": "Python 3 (ipykernel)",
   "language": "python",
   "name": "python3"
  },
  "language_info": {
   "codemirror_mode": {
    "name": "ipython",
    "version": 3
   },
   "file_extension": ".py",
   "mimetype": "text/x-python",
   "name": "python",
   "nbconvert_exporter": "python",
   "pygments_lexer": "ipython3",
   "version": "3.8.10"
  },
  "papermill": {
   "default_parameters": {},
   "duration": 3497.575898,
   "end_time": "2022-03-22T02:41:17.558329",
   "environment_variables": {},
   "exception": null,
   "input_path": "/mnt/wd500GB/CSC500/csc500-main/csc500-notebooks/templates/ptn_template.ipynb",
   "output_path": "trial.ipynb",
   "parameters": {
    "parameters": {
     "BEST_MODEL_PATH": "./best_model.pth",
     "NUM_LOGS_PER_EPOCH": 10,
     "criteria_for_best": "target_accuracy",
     "dataset_seed": 1337,
     "device": "cuda",
     "domains_source": [
      8,
      32,
      50
     ],
     "domains_target": [
      14,
      20,
      26,
      38,
      44
     ],
     "episode_transforms_source": [],
     "episode_transforms_target": [],
     "experiment_name": "tuned_1v2:oracle.run1",
     "labels_source": [
      "3123D52",
      "3123D65",
      "3123D79",
      "3123D80",
      "3123D54",
      "3123D70",
      "3123D7B",
      "3123D89",
      "3123D58",
      "3123D76",
      "3123D7D",
      "3123EFE",
      "3123D64",
      "3123D78",
      "3123D7E",
      "3124E4A"
     ],
     "labels_target": [
      "3123D52",
      "3123D65",
      "3123D79",
      "3123D80",
      "3123D54",
      "3123D70",
      "3123D7B",
      "3123D89",
      "3123D58",
      "3123D76",
      "3123D7D",
      "3123EFE",
      "3123D64",
      "3123D78",
      "3123D7E",
      "3124E4A"
     ],
     "lr": 0.0001,
     "n_epoch": 50,
     "n_query": 2,
     "n_shot": 3,
     "n_way": 16,
     "num_examples_per_domain_per_label_source": -1,
     "num_examples_per_domain_per_label_target": -1,
     "patience": 3,
     "pickle_name": "oracle.Run1_10kExamples_stratified_ds.2022A.pkl",
     "seed": 1337,
     "test_k_factor": 2,
     "torch_default_dtype": "torch.float32",
     "train_k_factor": 3,
     "val_k_factor": 2,
     "x_net": [
      {
       "class": "nnReshape",
       "kargs": {
        "shape": [
         -1,
         1,
         2,
         256
        ]
       }
      },
      {
       "class": "Conv2d",
       "kargs": {
        "bias": false,
        "in_channels": 1,
        "kernel_size": [
         1,
         7
        ],
        "out_channels": 256,
        "padding": [
         0,
         3
        ]
       }
      },
      {
       "class": "ReLU",
       "kargs": {
        "inplace": true
       }
      },
      {
       "class": "BatchNorm2d",
       "kargs": {
        "num_features": 256
       }
      },
      {
       "class": "Conv2d",
       "kargs": {
        "bias": true,
        "in_channels": 256,
        "kernel_size": [
         2,
         7
        ],
        "out_channels": 80,
        "padding": [
         0,
         3
        ]
       }
      },
      {
       "class": "ReLU",
       "kargs": {
        "inplace": true
       }
      },
      {
       "class": "BatchNorm2d",
       "kargs": {
        "num_features": 80
       }
      },
      {
       "class": "Flatten",
       "kargs": {}
      },
      {
       "class": "Linear",
       "kargs": {
        "in_features": 20480,
        "out_features": 256
       }
      },
      {
       "class": "ReLU",
       "kargs": {
        "inplace": true
       }
      },
      {
       "class": "BatchNorm1d",
       "kargs": {
        "num_features": 256
       }
      },
      {
       "class": "Linear",
       "kargs": {
        "in_features": 256,
        "out_features": 256
       }
      }
     ],
     "x_transforms_source": [],
     "x_transforms_target": []
    }
   },
   "start_time": "2022-03-22T01:42:59.982431",
   "version": "2.3.4"
  }
 },
 "nbformat": 4,
 "nbformat_minor": 5
}