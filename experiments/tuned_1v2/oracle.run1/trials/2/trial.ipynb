{
 "cells": [
  {
   "cell_type": "markdown",
   "id": "9fea5f46",
   "metadata": {
    "papermill": {
     "duration": 0.014081,
     "end_time": "2022-03-22T02:41:18.427905",
     "exception": false,
     "start_time": "2022-03-22T02:41:18.413824",
     "status": "completed"
    },
    "tags": []
   },
   "source": [
    "# PTN Template\n",
    "This notebook serves as a template for single dataset PTN experiments  \n",
    "It can be run on its own by setting STANDALONE to True (do a find for \"STANDALONE\" to see where)  \n",
    "But it is intended to be executed as part of a *papermill.py script. See any of the   \n",
    "experimentes with a papermill script to get started with that workflow.  "
   ]
  },
  {
   "cell_type": "code",
   "execution_count": 1,
   "id": "0902182a",
   "metadata": {
    "execution": {
     "iopub.execute_input": "2022-03-22T02:41:18.459579Z",
     "iopub.status.busy": "2022-03-22T02:41:18.459085Z",
     "iopub.status.idle": "2022-03-22T02:41:19.376312Z",
     "shell.execute_reply": "2022-03-22T02:41:19.375981Z"
    },
    "papermill": {
     "duration": 0.939165,
     "end_time": "2022-03-22T02:41:19.376379",
     "exception": false,
     "start_time": "2022-03-22T02:41:18.437214",
     "status": "completed"
    },
    "tags": []
   },
   "outputs": [],
   "source": [
    "%load_ext autoreload\n",
    "%autoreload 2\n",
    "%matplotlib inline\n",
    "\n",
    "    \n",
    "import os, json, sys, time, random\n",
    "import numpy as np\n",
    "import torch\n",
    "from torch.optim import Adam\n",
    "from  easydict import EasyDict\n",
    "import matplotlib.pyplot as plt\n",
    "\n",
    "from steves_models.steves_ptn import Steves_Prototypical_Network\n",
    "\n",
    "from steves_utils.lazy_iterable_wrapper import Lazy_Iterable_Wrapper\n",
    "from steves_utils.iterable_aggregator import Iterable_Aggregator\n",
    "from steves_utils.ptn_train_eval_test_jig import  PTN_Train_Eval_Test_Jig\n",
    "from steves_utils.torch_sequential_builder import build_sequential\n",
    "from steves_utils.torch_utils import get_dataset_metrics, ptn_confusion_by_domain_over_dataloader\n",
    "from steves_utils.utils_v2 import (per_domain_accuracy_from_confusion, get_datasets_base_path)\n",
    "from steves_utils.PTN.utils import independent_accuracy_assesment\n",
    "\n",
    "from steves_utils.stratified_dataset.episodic_accessor import Episodic_Accessor_Factory\n",
    "\n",
    "from steves_utils.ptn_do_report import (\n",
    "    get_loss_curve,\n",
    "    get_results_table,\n",
    "    get_parameters_table,\n",
    "    get_domain_accuracies,\n",
    ")\n",
    "\n",
    "from steves_utils.transforms import get_chained_transform"
   ]
  },
  {
   "cell_type": "markdown",
   "id": "41c840b4",
   "metadata": {
    "papermill": {
     "duration": 0.009225,
     "end_time": "2022-03-22T02:41:19.395314",
     "exception": false,
     "start_time": "2022-03-22T02:41:19.386089",
     "status": "completed"
    },
    "tags": []
   },
   "source": [
    "# Required Parameters\n",
    "These are allowed parameters, not defaults\n",
    "Each of these values need to be present in the injected parameters (the notebook will raise an exception if they are not present)\n",
    "\n",
    "Papermill uses the cell tag \"parameters\" to inject the real parameters below this cell.\n",
    "Enable tags to see what I mean"
   ]
  },
  {
   "cell_type": "code",
   "execution_count": 2,
   "id": "fd44eb83",
   "metadata": {
    "execution": {
     "iopub.execute_input": "2022-03-22T02:41:19.417392Z",
     "iopub.status.busy": "2022-03-22T02:41:19.417125Z",
     "iopub.status.idle": "2022-03-22T02:41:19.431398Z",
     "shell.execute_reply": "2022-03-22T02:41:19.431779Z"
    },
    "papermill": {
     "duration": 0.027326,
     "end_time": "2022-03-22T02:41:19.431902",
     "exception": false,
     "start_time": "2022-03-22T02:41:19.404576",
     "status": "completed"
    },
    "tags": []
   },
   "outputs": [],
   "source": [
    "required_parameters = {\n",
    "    \"experiment_name\",\n",
    "    \"lr\",\n",
    "    \"device\",\n",
    "    \"seed\",\n",
    "    \"dataset_seed\",\n",
    "    \"labels_source\",\n",
    "    \"labels_target\",\n",
    "    \"domains_source\",\n",
    "    \"domains_target\",\n",
    "    \"num_examples_per_domain_per_label_source\",\n",
    "    \"num_examples_per_domain_per_label_target\",\n",
    "    \"n_shot\",\n",
    "    \"n_way\",\n",
    "    \"n_query\",\n",
    "    \"train_k_factor\",\n",
    "    \"val_k_factor\",\n",
    "    \"test_k_factor\",\n",
    "    \"n_epoch\",\n",
    "    \"patience\",\n",
    "    \"criteria_for_best\",\n",
    "    \"x_transforms_source\",\n",
    "    \"x_transforms_target\",\n",
    "    \"episode_transforms_source\",\n",
    "    \"episode_transforms_target\",\n",
    "    \"pickle_name\",\n",
    "    \"x_net\",\n",
    "    \"NUM_LOGS_PER_EPOCH\",\n",
    "    \"BEST_MODEL_PATH\",\n",
    "    \"torch_default_dtype\"\n",
    "}"
   ]
  },
  {
   "cell_type": "code",
   "execution_count": 3,
   "id": "fa3f0049",
   "metadata": {
    "execution": {
     "iopub.execute_input": "2022-03-22T02:41:19.462421Z",
     "iopub.status.busy": "2022-03-22T02:41:19.455600Z",
     "iopub.status.idle": "2022-03-22T02:41:19.475509Z",
     "shell.execute_reply": "2022-03-22T02:41:19.475008Z"
    },
    "papermill": {
     "duration": 0.030549,
     "end_time": "2022-03-22T02:41:19.475615",
     "exception": false,
     "start_time": "2022-03-22T02:41:19.445066",
     "status": "completed"
    },
    "tags": [
     "parameters"
    ]
   },
   "outputs": [],
   "source": [
    "\n",
    "\n",
    "standalone_parameters = {}\n",
    "standalone_parameters[\"experiment_name\"] = \"STANDALONE PTN\"\n",
    "standalone_parameters[\"lr\"] = 0.0001\n",
    "standalone_parameters[\"device\"] = \"cuda\"\n",
    "\n",
    "standalone_parameters[\"seed\"] = 1337\n",
    "standalone_parameters[\"dataset_seed\"] = 1337\n",
    "\n",
    "\n",
    "standalone_parameters[\"num_examples_per_domain_per_label_source\"]=100\n",
    "standalone_parameters[\"num_examples_per_domain_per_label_target\"]=100\n",
    "\n",
    "standalone_parameters[\"n_shot\"] = 3\n",
    "standalone_parameters[\"n_query\"]  = 2\n",
    "standalone_parameters[\"train_k_factor\"] = 1\n",
    "standalone_parameters[\"val_k_factor\"] = 2\n",
    "standalone_parameters[\"test_k_factor\"] = 2\n",
    "\n",
    "\n",
    "standalone_parameters[\"n_epoch\"] = 100\n",
    "\n",
    "standalone_parameters[\"patience\"] = 10\n",
    "standalone_parameters[\"criteria_for_best\"] = \"target_accuracy\"\n",
    "\n",
    "standalone_parameters[\"x_transforms_source\"] = [\"unit_power\"]\n",
    "standalone_parameters[\"x_transforms_target\"] = [\"unit_power\"]\n",
    "standalone_parameters[\"episode_transforms_source\"] = []\n",
    "standalone_parameters[\"episode_transforms_target\"] = []\n",
    "\n",
    "standalone_parameters[\"torch_default_dtype\"] = \"torch.float32\" \n",
    "\n",
    "\n",
    "\n",
    "standalone_parameters[\"x_net\"] =     [\n",
    "    {\"class\": \"nnReshape\", \"kargs\": {\"shape\":[-1, 1, 2, 256]}},\n",
    "    {\"class\": \"Conv2d\", \"kargs\": { \"in_channels\":1, \"out_channels\":256, \"kernel_size\":(1,7), \"bias\":False, \"padding\":(0,3), },},\n",
    "    {\"class\": \"ReLU\", \"kargs\": {\"inplace\": True}},\n",
    "    {\"class\": \"BatchNorm2d\", \"kargs\": {\"num_features\":256}},\n",
    "\n",
    "    {\"class\": \"Conv2d\", \"kargs\": { \"in_channels\":256, \"out_channels\":80, \"kernel_size\":(2,7), \"bias\":True, \"padding\":(0,3), },},\n",
    "    {\"class\": \"ReLU\", \"kargs\": {\"inplace\": True}},\n",
    "    {\"class\": \"BatchNorm2d\", \"kargs\": {\"num_features\":80}},\n",
    "    {\"class\": \"Flatten\", \"kargs\": {}},\n",
    "\n",
    "    {\"class\": \"Linear\", \"kargs\": {\"in_features\": 80*256, \"out_features\": 256}}, # 80 units per IQ pair\n",
    "    {\"class\": \"ReLU\", \"kargs\": {\"inplace\": True}},\n",
    "    {\"class\": \"BatchNorm1d\", \"kargs\": {\"num_features\":256}},\n",
    "\n",
    "    {\"class\": \"Linear\", \"kargs\": {\"in_features\": 256, \"out_features\": 256}},\n",
    "]\n",
    "\n",
    "# Parameters relevant to results\n",
    "# These parameters will basically never need to change\n",
    "standalone_parameters[\"NUM_LOGS_PER_EPOCH\"] = 10\n",
    "standalone_parameters[\"BEST_MODEL_PATH\"] = \"./best_model.pth\"\n",
    "\n",
    "# uncomment for CORES dataset\n",
    "from steves_utils.CORES.utils import (\n",
    "    ALL_NODES,\n",
    "    ALL_NODES_MINIMUM_1000_EXAMPLES,\n",
    "    ALL_DAYS\n",
    ")\n",
    "\n",
    "\n",
    "standalone_parameters[\"labels_source\"] = ALL_NODES\n",
    "standalone_parameters[\"labels_target\"] = ALL_NODES\n",
    "\n",
    "standalone_parameters[\"domains_source\"] = [1]\n",
    "standalone_parameters[\"domains_target\"] = [2,3,4,5]\n",
    "\n",
    "standalone_parameters[\"pickle_name\"] = \"cores.stratified_ds.2022A.pkl\"\n",
    "\n",
    "\n",
    "# Uncomment these for ORACLE dataset\n",
    "# from steves_utils.ORACLE.utils_v2 import (\n",
    "#     ALL_DISTANCES_FEET,\n",
    "#     ALL_RUNS,\n",
    "#     ALL_SERIAL_NUMBERS,\n",
    "# )\n",
    "# standalone_parameters[\"labels_source\"] = ALL_SERIAL_NUMBERS\n",
    "# standalone_parameters[\"labels_target\"] = ALL_SERIAL_NUMBERS\n",
    "# standalone_parameters[\"domains_source\"] = [8,20, 38,50]\n",
    "# standalone_parameters[\"domains_target\"] = [14, 26, 32, 44, 56]\n",
    "# standalone_parameters[\"pickle_name\"] = \"oracle.frame_indexed.stratified_ds.2022A.pkl\"\n",
    "# standalone_parameters[\"num_examples_per_domain_per_label_source\"]=1000\n",
    "# standalone_parameters[\"num_examples_per_domain_per_label_target\"]=1000\n",
    "\n",
    "# Uncomment these for Metahan dataset\n",
    "# standalone_parameters[\"labels_source\"] = list(range(19))\n",
    "# standalone_parameters[\"labels_target\"] = list(range(19))\n",
    "# standalone_parameters[\"domains_source\"] = [0]\n",
    "# standalone_parameters[\"domains_target\"] = [1]\n",
    "# standalone_parameters[\"pickle_name\"] = \"metehan.stratified_ds.2022A.pkl\"\n",
    "# standalone_parameters[\"n_way\"]  = len(standalone_parameters[\"labels_source\"])\n",
    "# standalone_parameters[\"num_examples_per_domain_per_label_source\"]=200\n",
    "# standalone_parameters[\"num_examples_per_domain_per_label_target\"]=100\n",
    "\n",
    "\n",
    "standalone_parameters[\"n_way\"]  = len(standalone_parameters[\"labels_source\"])"
   ]
  },
  {
   "cell_type": "code",
   "execution_count": 4,
   "id": "64929de6",
   "metadata": {
    "execution": {
     "iopub.execute_input": "2022-03-22T02:41:19.501898Z",
     "iopub.status.busy": "2022-03-22T02:41:19.501540Z",
     "iopub.status.idle": "2022-03-22T02:41:19.513547Z",
     "shell.execute_reply": "2022-03-22T02:41:19.513124Z"
    },
    "papermill": {
     "duration": 0.026251,
     "end_time": "2022-03-22T02:41:19.513645",
     "exception": false,
     "start_time": "2022-03-22T02:41:19.487394",
     "status": "completed"
    },
    "tags": [
     "injected-parameters"
    ]
   },
   "outputs": [],
   "source": [
    "# Parameters\n",
    "parameters = {\n",
    "    \"experiment_name\": \"tuned_1v2:oracle.run1\",\n",
    "    \"device\": \"cuda\",\n",
    "    \"lr\": 0.0001,\n",
    "    \"labels_source\": [\n",
    "        \"3123D52\",\n",
    "        \"3123D65\",\n",
    "        \"3123D79\",\n",
    "        \"3123D80\",\n",
    "        \"3123D54\",\n",
    "        \"3123D70\",\n",
    "        \"3123D7B\",\n",
    "        \"3123D89\",\n",
    "        \"3123D58\",\n",
    "        \"3123D76\",\n",
    "        \"3123D7D\",\n",
    "        \"3123EFE\",\n",
    "        \"3123D64\",\n",
    "        \"3123D78\",\n",
    "        \"3123D7E\",\n",
    "        \"3124E4A\",\n",
    "    ],\n",
    "    \"labels_target\": [\n",
    "        \"3123D52\",\n",
    "        \"3123D65\",\n",
    "        \"3123D79\",\n",
    "        \"3123D80\",\n",
    "        \"3123D54\",\n",
    "        \"3123D70\",\n",
    "        \"3123D7B\",\n",
    "        \"3123D89\",\n",
    "        \"3123D58\",\n",
    "        \"3123D76\",\n",
    "        \"3123D7D\",\n",
    "        \"3123EFE\",\n",
    "        \"3123D64\",\n",
    "        \"3123D78\",\n",
    "        \"3123D7E\",\n",
    "        \"3124E4A\",\n",
    "    ],\n",
    "    \"episode_transforms_source\": [],\n",
    "    \"episode_transforms_target\": [],\n",
    "    \"domains_source\": [8, 32, 50],\n",
    "    \"domains_target\": [14, 20, 26, 38, 44],\n",
    "    \"num_examples_per_domain_per_label_source\": -1,\n",
    "    \"num_examples_per_domain_per_label_target\": -1,\n",
    "    \"n_shot\": 3,\n",
    "    \"n_way\": 16,\n",
    "    \"n_query\": 2,\n",
    "    \"train_k_factor\": 3,\n",
    "    \"val_k_factor\": 2,\n",
    "    \"test_k_factor\": 2,\n",
    "    \"torch_default_dtype\": \"torch.float32\",\n",
    "    \"n_epoch\": 50,\n",
    "    \"patience\": 3,\n",
    "    \"criteria_for_best\": \"target_accuracy\",\n",
    "    \"x_net\": [\n",
    "        {\"class\": \"nnReshape\", \"kargs\": {\"shape\": [-1, 1, 2, 256]}},\n",
    "        {\n",
    "            \"class\": \"Conv2d\",\n",
    "            \"kargs\": {\n",
    "                \"in_channels\": 1,\n",
    "                \"out_channels\": 256,\n",
    "                \"kernel_size\": [1, 7],\n",
    "                \"bias\": False,\n",
    "                \"padding\": [0, 3],\n",
    "            },\n",
    "        },\n",
    "        {\"class\": \"ReLU\", \"kargs\": {\"inplace\": True}},\n",
    "        {\"class\": \"BatchNorm2d\", \"kargs\": {\"num_features\": 256}},\n",
    "        {\n",
    "            \"class\": \"Conv2d\",\n",
    "            \"kargs\": {\n",
    "                \"in_channels\": 256,\n",
    "                \"out_channels\": 80,\n",
    "                \"kernel_size\": [2, 7],\n",
    "                \"bias\": True,\n",
    "                \"padding\": [0, 3],\n",
    "            },\n",
    "        },\n",
    "        {\"class\": \"ReLU\", \"kargs\": {\"inplace\": True}},\n",
    "        {\"class\": \"BatchNorm2d\", \"kargs\": {\"num_features\": 80}},\n",
    "        {\"class\": \"Flatten\", \"kargs\": {}},\n",
    "        {\"class\": \"Linear\", \"kargs\": {\"in_features\": 20480, \"out_features\": 256}},\n",
    "        {\"class\": \"ReLU\", \"kargs\": {\"inplace\": True}},\n",
    "        {\"class\": \"BatchNorm1d\", \"kargs\": {\"num_features\": 256}},\n",
    "        {\"class\": \"Linear\", \"kargs\": {\"in_features\": 256, \"out_features\": 256}},\n",
    "    ],\n",
    "    \"NUM_LOGS_PER_EPOCH\": 10,\n",
    "    \"BEST_MODEL_PATH\": \"./best_model.pth\",\n",
    "    \"pickle_name\": \"oracle.Run1_10kExamples_stratified_ds.2022A.pkl\",\n",
    "    \"x_transforms_source\": [\"unit_mag\"],\n",
    "    \"x_transforms_target\": [\"unit_mag\"],\n",
    "    \"dataset_seed\": 1337,\n",
    "    \"seed\": 1337,\n",
    "}\n"
   ]
  },
  {
   "cell_type": "code",
   "execution_count": 5,
   "id": "8fa1cc33",
   "metadata": {
    "execution": {
     "iopub.execute_input": "2022-03-22T02:41:19.540191Z",
     "iopub.status.busy": "2022-03-22T02:41:19.539929Z",
     "iopub.status.idle": "2022-03-22T02:41:19.553713Z",
     "shell.execute_reply": "2022-03-22T02:41:19.553378Z"
    },
    "papermill": {
     "duration": 0.025647,
     "end_time": "2022-03-22T02:41:19.553787",
     "exception": false,
     "start_time": "2022-03-22T02:41:19.528140",
     "status": "completed"
    },
    "tags": []
   },
   "outputs": [],
   "source": [
    "# Set this to True if you want to run this template directly\n",
    "STANDALONE = False\n",
    "if STANDALONE:\n",
    "    print(\"parameters not injected, running with standalone_parameters\")\n",
    "    parameters = standalone_parameters\n",
    "\n",
    "if not 'parameters' in locals() and not 'parameters' in globals():\n",
    "    raise Exception(\"Parameter injection failed\")\n",
    "\n",
    "#Use an easy dict for all the parameters\n",
    "p = EasyDict(parameters)\n",
    "\n",
    "supplied_keys = set(p.keys())\n",
    "\n",
    "if  supplied_keys != required_parameters:\n",
    "    print(\"Parameters are incorrect\")\n",
    "    if len(supplied_keys - required_parameters)>0: print(\"Shouldn't have:\", str(supplied_keys - required_parameters))\n",
    "    if len(required_parameters - supplied_keys)>0: print(\"Need to have:\", str(required_parameters - supplied_keys))\n",
    "    raise RuntimeError(\"Parameters are incorrect\")\n",
    "\n"
   ]
  },
  {
   "cell_type": "code",
   "execution_count": 6,
   "id": "3a028d58",
   "metadata": {
    "execution": {
     "iopub.execute_input": "2022-03-22T02:41:19.580221Z",
     "iopub.status.busy": "2022-03-22T02:41:19.579906Z",
     "iopub.status.idle": "2022-03-22T02:41:19.595541Z",
     "shell.execute_reply": "2022-03-22T02:41:19.595090Z"
    },
    "papermill": {
     "duration": 0.027473,
     "end_time": "2022-03-22T02:41:19.595639",
     "exception": false,
     "start_time": "2022-03-22T02:41:19.568166",
     "status": "completed"
    },
    "tags": []
   },
   "outputs": [],
   "source": [
    "###################################\n",
    "# Set the RNGs and make it all deterministic\n",
    "###################################\n",
    "np.random.seed(p.seed)\n",
    "random.seed(p.seed)\n",
    "torch.manual_seed(p.seed)\n",
    "\n",
    "torch.use_deterministic_algorithms(True) "
   ]
  },
  {
   "cell_type": "code",
   "execution_count": 7,
   "id": "b691acf6",
   "metadata": {
    "execution": {
     "iopub.execute_input": "2022-03-22T02:41:19.622440Z",
     "iopub.status.busy": "2022-03-22T02:41:19.622184Z",
     "iopub.status.idle": "2022-03-22T02:41:19.638681Z",
     "shell.execute_reply": "2022-03-22T02:41:19.638244Z"
    },
    "papermill": {
     "duration": 0.028277,
     "end_time": "2022-03-22T02:41:19.638779",
     "exception": false,
     "start_time": "2022-03-22T02:41:19.610502",
     "status": "completed"
    },
    "tags": []
   },
   "outputs": [],
   "source": [
    "###########################################\n",
    "# The stratified datasets honor this\n",
    "###########################################\n",
    "torch.set_default_dtype(eval(p.torch_default_dtype))"
   ]
  },
  {
   "cell_type": "code",
   "execution_count": 8,
   "id": "b5fba671",
   "metadata": {
    "execution": {
     "iopub.execute_input": "2022-03-22T02:41:19.662400Z",
     "iopub.status.busy": "2022-03-22T02:41:19.662151Z",
     "iopub.status.idle": "2022-03-22T02:41:19.699623Z",
     "shell.execute_reply": "2022-03-22T02:41:19.699170Z"
    },
    "papermill": {
     "duration": 0.048644,
     "end_time": "2022-03-22T02:41:19.699727",
     "exception": false,
     "start_time": "2022-03-22T02:41:19.651083",
     "status": "completed"
    },
    "tags": []
   },
   "outputs": [],
   "source": [
    "###################################\n",
    "# Build the network(s)\n",
    "# Note: It's critical to do this AFTER setting the RNG\n",
    "# (This is due to the randomized initial weights)\n",
    "###################################\n",
    "x_net = build_sequential(p.x_net)"
   ]
  },
  {
   "cell_type": "code",
   "execution_count": 9,
   "id": "5d7e61cc",
   "metadata": {
    "execution": {
     "iopub.execute_input": "2022-03-22T02:41:19.728185Z",
     "iopub.status.busy": "2022-03-22T02:41:19.725777Z",
     "iopub.status.idle": "2022-03-22T02:41:19.741133Z",
     "shell.execute_reply": "2022-03-22T02:41:19.740716Z"
    },
    "papermill": {
     "duration": 0.027072,
     "end_time": "2022-03-22T02:41:19.741229",
     "exception": false,
     "start_time": "2022-03-22T02:41:19.714157",
     "status": "completed"
    },
    "tags": []
   },
   "outputs": [],
   "source": [
    "start_time_secs = time.time()"
   ]
  },
  {
   "cell_type": "code",
   "execution_count": 10,
   "id": "fd5442bc",
   "metadata": {
    "execution": {
     "iopub.execute_input": "2022-03-22T02:41:19.773510Z",
     "iopub.status.busy": "2022-03-22T02:41:19.773136Z",
     "iopub.status.idle": "2022-03-22T02:42:39.471596Z",
     "shell.execute_reply": "2022-03-22T02:42:39.470995Z"
    },
    "papermill": {
     "duration": 79.71528,
     "end_time": "2022-03-22T02:42:39.471713",
     "exception": false,
     "start_time": "2022-03-22T02:41:19.756433",
     "status": "completed"
    },
    "tags": []
   },
   "outputs": [],
   "source": [
    "###################################\n",
    "# Build the dataset\n",
    "###################################\n",
    "\n",
    "if p.x_transforms_source == []: x_transform_source = None\n",
    "else: x_transform_source = get_chained_transform(p.x_transforms_source) \n",
    "\n",
    "if p.x_transforms_target == []: x_transform_target = None\n",
    "else: x_transform_target = get_chained_transform(p.x_transforms_target)\n",
    "\n",
    "if p.episode_transforms_source == []: episode_transform_source = None\n",
    "else: raise Exception(\"episode_transform_source not implemented\")\n",
    "\n",
    "if p.episode_transforms_target == []: episode_transform_target = None\n",
    "else: raise Exception(\"episode_transform_target not implemented\")\n",
    "\n",
    "\n",
    "eaf_source = Episodic_Accessor_Factory(\n",
    "    labels=p.labels_source,\n",
    "    domains=p.domains_source,\n",
    "    num_examples_per_domain_per_label=p.num_examples_per_domain_per_label_source,\n",
    "    iterator_seed=p.seed,\n",
    "    dataset_seed=p.dataset_seed,\n",
    "    n_shot=p.n_shot,\n",
    "    n_way=p.n_way,\n",
    "    n_query=p.n_query,\n",
    "    train_val_test_k_factors=(p.train_k_factor,p.val_k_factor,p.test_k_factor),\n",
    "    pickle_path=os.path.join(get_datasets_base_path(), p.pickle_name),\n",
    "    x_transform_func=x_transform_source,\n",
    "    example_transform_func=episode_transform_source,\n",
    "    \n",
    ")\n",
    "train_original_source, val_original_source, test_original_source = eaf_source.get_train(), eaf_source.get_val(), eaf_source.get_test()\n",
    "\n",
    "\n",
    "eaf_target = Episodic_Accessor_Factory(\n",
    "    labels=p.labels_target,\n",
    "    domains=p.domains_target,\n",
    "    num_examples_per_domain_per_label=p.num_examples_per_domain_per_label_target,\n",
    "    iterator_seed=p.seed,\n",
    "    dataset_seed=p.dataset_seed,\n",
    "    n_shot=p.n_shot,\n",
    "    n_way=p.n_way,\n",
    "    n_query=p.n_query,\n",
    "    train_val_test_k_factors=(p.train_k_factor,p.val_k_factor,p.test_k_factor),\n",
    "    pickle_path=os.path.join(get_datasets_base_path(), p.pickle_name),\n",
    "    x_transform_func=x_transform_target,\n",
    "    example_transform_func=episode_transform_target,\n",
    ")\n",
    "train_original_target, val_original_target, test_original_target = eaf_target.get_train(), eaf_target.get_val(), eaf_target.get_test()\n",
    "\n",
    "\n",
    "transform_lambda = lambda ex: ex[1] # Original is (<domain>, <episode>) so we strip down to episode only\n",
    "\n",
    "train_processed_source = Lazy_Iterable_Wrapper(train_original_source, transform_lambda)\n",
    "val_processed_source   = Lazy_Iterable_Wrapper(val_original_source, transform_lambda)\n",
    "test_processed_source  = Lazy_Iterable_Wrapper(test_original_source, transform_lambda)\n",
    "\n",
    "train_processed_target = Lazy_Iterable_Wrapper(train_original_target, transform_lambda)\n",
    "val_processed_target   = Lazy_Iterable_Wrapper(val_original_target, transform_lambda)\n",
    "test_processed_target  = Lazy_Iterable_Wrapper(test_original_target, transform_lambda)\n",
    "\n",
    "datasets = EasyDict({\n",
    "    \"source\": {\n",
    "        \"original\": {\"train\":train_original_source, \"val\":val_original_source, \"test\":test_original_source},\n",
    "        \"processed\": {\"train\":train_processed_source, \"val\":val_processed_source, \"test\":test_processed_source}\n",
    "    },\n",
    "    \"target\": {\n",
    "        \"original\": {\"train\":train_original_target, \"val\":val_original_target, \"test\":test_original_target},\n",
    "        \"processed\": {\"train\":train_processed_target, \"val\":val_processed_target, \"test\":test_processed_target}\n",
    "    },\n",
    "})"
   ]
  },
  {
   "cell_type": "code",
   "execution_count": 11,
   "id": "296189d9",
   "metadata": {
    "execution": {
     "iopub.execute_input": "2022-03-22T02:42:39.501757Z",
     "iopub.status.busy": "2022-03-22T02:42:39.501489Z",
     "iopub.status.idle": "2022-03-22T02:42:41.462231Z",
     "shell.execute_reply": "2022-03-22T02:42:41.461918Z"
    },
    "papermill": {
     "duration": 1.974317,
     "end_time": "2022-03-22T02:42:41.462296",
     "exception": false,
     "start_time": "2022-03-22T02:42:39.487979",
     "status": "completed"
    },
    "tags": []
   },
   "outputs": [
    {
     "name": "stdout",
     "output_type": "stream",
     "text": [
      "Visually inspect these to see if they line up with expected values given the transforms\n",
      "x_transforms_source ['unit_mag']\n",
      "x_transforms_target ['unit_mag']\n",
      "Average magnitude, source: 1.0\n",
      "Average power, source: 1.3161097\n"
     ]
    },
    {
     "name": "stdout",
     "output_type": "stream",
     "text": [
      "Average magnitude, target: 1.0\n",
      "Average power, target: 1.2859056\n"
     ]
    }
   ],
   "source": [
    "# Some quick unit tests on the data\n",
    "from steves_utils.transforms import get_average_power, get_average_magnitude\n",
    "\n",
    "q_x, q_y, s_x, s_y, truth = next(iter(train_processed_source))\n",
    "\n",
    "assert q_x.dtype == eval(p.torch_default_dtype)\n",
    "assert s_x.dtype == eval(p.torch_default_dtype)\n",
    "\n",
    "print(\"Visually inspect these to see if they line up with expected values given the transforms\")\n",
    "print('x_transforms_source', p.x_transforms_source)\n",
    "print('x_transforms_target', p.x_transforms_target)\n",
    "print(\"Average magnitude, source:\", get_average_magnitude(q_x[0].numpy()))\n",
    "print(\"Average power, source:\", get_average_power(q_x[0].numpy()))\n",
    "\n",
    "q_x, q_y, s_x, s_y, truth = next(iter(train_processed_target))\n",
    "print(\"Average magnitude, target:\", get_average_magnitude(q_x[0].numpy()))\n",
    "print(\"Average power, target:\", get_average_power(q_x[0].numpy()))\n"
   ]
  },
  {
   "cell_type": "code",
   "execution_count": 12,
   "id": "bbdacba1",
   "metadata": {
    "execution": {
     "iopub.execute_input": "2022-03-22T02:42:41.489694Z",
     "iopub.status.busy": "2022-03-22T02:42:41.489428Z",
     "iopub.status.idle": "2022-03-22T02:42:41.557278Z",
     "shell.execute_reply": "2022-03-22T02:42:41.557698Z"
    },
    "papermill": {
     "duration": 0.081383,
     "end_time": "2022-03-22T02:42:41.557827",
     "exception": false,
     "start_time": "2022-03-22T02:42:41.476444",
     "status": "completed"
    },
    "tags": []
   },
   "outputs": [
    {
     "name": "stdout",
     "output_type": "stream",
     "text": [
      "(2, 256)\n"
     ]
    }
   ],
   "source": [
    "###################################\n",
    "# Build the model\n",
    "###################################\n",
    "model = Steves_Prototypical_Network(x_net, device=p.device, x_shape=(2,256))\n",
    "optimizer = Adam(params=model.parameters(), lr=p.lr)"
   ]
  },
  {
   "cell_type": "code",
   "execution_count": 13,
   "id": "22b39ac5",
   "metadata": {
    "execution": {
     "iopub.execute_input": "2022-03-22T02:42:41.588032Z",
     "iopub.status.busy": "2022-03-22T02:42:41.587771Z",
     "iopub.status.idle": "2022-03-22T03:40:59.982644Z",
     "shell.execute_reply": "2022-03-22T03:40:59.982415Z"
    },
    "papermill": {
     "duration": 3498.408886,
     "end_time": "2022-03-22T03:40:59.982702",
     "exception": false,
     "start_time": "2022-03-22T02:42:41.573816",
     "status": "completed"
    },
    "tags": []
   },
   "outputs": [
    {
     "name": "stdout",
     "output_type": "stream",
     "text": [
      "epoch: 1, [batch: 1 / 12600], examples_per_second: 25.5044, train_label_loss: 2.8021, \n"
     ]
    },
    {
     "name": "stdout",
     "output_type": "stream",
     "text": [
      "epoch: 1, [batch: 1260 / 12600], examples_per_second: 3277.0808, train_label_loss: 1.8372, \n"
     ]
    },
    {
     "name": "stdout",
     "output_type": "stream",
     "text": [
      "epoch: 1, [batch: 2520 / 12600], examples_per_second: 3248.1602, train_label_loss: 1.4498, \n"
     ]
    },
    {
     "name": "stdout",
     "output_type": "stream",
     "text": [
      "epoch: 1, [batch: 3780 / 12600], examples_per_second: 3268.4199, train_label_loss: 1.2554, \n"
     ]
    },
    {
     "name": "stdout",
     "output_type": "stream",
     "text": [
      "epoch: 1, [batch: 5040 / 12600], examples_per_second: 3249.4716, train_label_loss: 1.2283, \n"
     ]
    },
    {
     "name": "stdout",
     "output_type": "stream",
     "text": [
      "epoch: 1, [batch: 6300 / 12600], examples_per_second: 3282.0495, train_label_loss: 1.3085, \n"
     ]
    },
    {
     "name": "stdout",
     "output_type": "stream",
     "text": [
      "epoch: 1, [batch: 7560 / 12600], examples_per_second: 3290.6993, train_label_loss: 1.3767, \n"
     ]
    },
    {
     "name": "stdout",
     "output_type": "stream",
     "text": [
      "epoch: 1, [batch: 8820 / 12600], examples_per_second: 3249.2583, train_label_loss: 1.2202, \n"
     ]
    },
    {
     "name": "stdout",
     "output_type": "stream",
     "text": [
      "epoch: 1, [batch: 10080 / 12600], examples_per_second: 3246.3986, train_label_loss: 1.2425, \n"
     ]
    },
    {
     "name": "stdout",
     "output_type": "stream",
     "text": [
      "epoch: 1, [batch: 11340 / 12600], examples_per_second: 3196.1946, train_label_loss: 1.0044, \n"
     ]
    },
    {
     "name": "stdout",
     "output_type": "stream",
     "text": [
      "=============================================================\n",
      "epoch: 1, source_val_acc_label: 0.5822, target_val_acc_label: 0.4819, source_val_label_loss: 1.1275, target_val_label_loss: 1.3901, \n",
      "=============================================================\n"
     ]
    },
    {
     "name": "stdout",
     "output_type": "stream",
     "text": [
      "New best\n"
     ]
    },
    {
     "name": "stdout",
     "output_type": "stream",
     "text": [
      "epoch: 2, [batch: 1 / 12600], examples_per_second: 2.1162, train_label_loss: 1.0034, \n"
     ]
    },
    {
     "name": "stdout",
     "output_type": "stream",
     "text": [
      "epoch: 2, [batch: 1260 / 12600], examples_per_second: 3261.2889, train_label_loss: 0.6839, \n"
     ]
    },
    {
     "name": "stdout",
     "output_type": "stream",
     "text": [
      "epoch: 2, [batch: 2520 / 12600], examples_per_second: 3307.6179, train_label_loss: 0.8599, \n"
     ]
    },
    {
     "name": "stdout",
     "output_type": "stream",
     "text": [
      "epoch: 2, [batch: 3780 / 12600], examples_per_second: 3174.2284, train_label_loss: 1.0744, \n"
     ]
    },
    {
     "name": "stdout",
     "output_type": "stream",
     "text": [
      "epoch: 2, [batch: 5040 / 12600], examples_per_second: 3088.2326, train_label_loss: 0.8842, \n"
     ]
    },
    {
     "name": "stdout",
     "output_type": "stream",
     "text": [
      "epoch: 2, [batch: 6300 / 12600], examples_per_second: 3183.6887, train_label_loss: 1.1017, \n"
     ]
    },
    {
     "name": "stdout",
     "output_type": "stream",
     "text": [
      "epoch: 2, [batch: 7560 / 12600], examples_per_second: 3304.9843, train_label_loss: 1.0799, \n"
     ]
    },
    {
     "name": "stdout",
     "output_type": "stream",
     "text": [
      "epoch: 2, [batch: 8820 / 12600], examples_per_second: 3239.4790, train_label_loss: 0.8268, \n"
     ]
    },
    {
     "name": "stdout",
     "output_type": "stream",
     "text": [
      "epoch: 2, [batch: 10080 / 12600], examples_per_second: 3304.7894, train_label_loss: 0.6725, \n"
     ]
    },
    {
     "name": "stdout",
     "output_type": "stream",
     "text": [
      "epoch: 2, [batch: 11340 / 12600], examples_per_second: 3299.7377, train_label_loss: 0.7976, \n"
     ]
    },
    {
     "name": "stdout",
     "output_type": "stream",
     "text": [
      "=============================================================\n",
      "epoch: 2, source_val_acc_label: 0.6536, target_val_acc_label: 0.5755, source_val_label_loss: 0.9082, target_val_label_loss: 1.1214, \n",
      "=============================================================\n"
     ]
    },
    {
     "name": "stdout",
     "output_type": "stream",
     "text": [
      "New best\n"
     ]
    },
    {
     "name": "stdout",
     "output_type": "stream",
     "text": [
      "epoch: 3, [batch: 1 / 12600], examples_per_second: 2.2153, train_label_loss: 0.7697, \n"
     ]
    },
    {
     "name": "stdout",
     "output_type": "stream",
     "text": [
      "epoch: 3, [batch: 1260 / 12600], examples_per_second: 3109.6777, train_label_loss: 0.8698, \n"
     ]
    },
    {
     "name": "stdout",
     "output_type": "stream",
     "text": [
      "epoch: 3, [batch: 2520 / 12600], examples_per_second: 3164.7232, train_label_loss: 0.7831, \n"
     ]
    },
    {
     "name": "stdout",
     "output_type": "stream",
     "text": [
      "epoch: 3, [batch: 3780 / 12600], examples_per_second: 3215.3874, train_label_loss: 1.0016, \n"
     ]
    },
    {
     "name": "stdout",
     "output_type": "stream",
     "text": [
      "epoch: 3, [batch: 5040 / 12600], examples_per_second: 3103.3176, train_label_loss: 0.8933, \n"
     ]
    },
    {
     "name": "stdout",
     "output_type": "stream",
     "text": [
      "epoch: 3, [batch: 6300 / 12600], examples_per_second: 3178.2960, train_label_loss: 0.8321, \n"
     ]
    },
    {
     "name": "stdout",
     "output_type": "stream",
     "text": [
      "epoch: 3, [batch: 7560 / 12600], examples_per_second: 3255.6516, train_label_loss: 0.9414, \n"
     ]
    },
    {
     "name": "stdout",
     "output_type": "stream",
     "text": [
      "epoch: 3, [batch: 8820 / 12600], examples_per_second: 3182.7503, train_label_loss: 1.0222, \n"
     ]
    },
    {
     "name": "stdout",
     "output_type": "stream",
     "text": [
      "epoch: 3, [batch: 10080 / 12600], examples_per_second: 3233.9176, train_label_loss: 0.9625, \n"
     ]
    },
    {
     "name": "stdout",
     "output_type": "stream",
     "text": [
      "epoch: 3, [batch: 11340 / 12600], examples_per_second: 3244.1848, train_label_loss: 0.9240, \n"
     ]
    },
    {
     "name": "stdout",
     "output_type": "stream",
     "text": [
      "=============================================================\n",
      "epoch: 3, source_val_acc_label: 0.6812, target_val_acc_label: 0.6005, source_val_label_loss: 0.8741, target_val_label_loss: 1.0715, \n",
      "=============================================================\n"
     ]
    },
    {
     "name": "stdout",
     "output_type": "stream",
     "text": [
      "New best\n"
     ]
    },
    {
     "name": "stdout",
     "output_type": "stream",
     "text": [
      "epoch: 4, [batch: 1 / 12600], examples_per_second: 2.2375, train_label_loss: 0.4399, \n"
     ]
    },
    {
     "name": "stdout",
     "output_type": "stream",
     "text": [
      "epoch: 4, [batch: 1260 / 12600], examples_per_second: 3217.3594, train_label_loss: 0.8821, \n"
     ]
    },
    {
     "name": "stdout",
     "output_type": "stream",
     "text": [
      "epoch: 4, [batch: 2520 / 12600], examples_per_second: 3177.7836, train_label_loss: 0.8352, \n"
     ]
    },
    {
     "name": "stdout",
     "output_type": "stream",
     "text": [
      "epoch: 4, [batch: 3780 / 12600], examples_per_second: 3165.7459, train_label_loss: 0.7161, \n"
     ]
    },
    {
     "name": "stdout",
     "output_type": "stream",
     "text": [
      "epoch: 4, [batch: 5040 / 12600], examples_per_second: 3212.5737, train_label_loss: 0.8601, \n"
     ]
    },
    {
     "name": "stdout",
     "output_type": "stream",
     "text": [
      "epoch: 4, [batch: 6300 / 12600], examples_per_second: 3273.3255, train_label_loss: 0.5686, \n"
     ]
    },
    {
     "name": "stdout",
     "output_type": "stream",
     "text": [
      "epoch: 4, [batch: 7560 / 12600], examples_per_second: 3215.7624, train_label_loss: 0.6942, \n"
     ]
    },
    {
     "name": "stdout",
     "output_type": "stream",
     "text": [
      "epoch: 4, [batch: 8820 / 12600], examples_per_second: 3230.2723, train_label_loss: 0.7782, \n"
     ]
    },
    {
     "name": "stdout",
     "output_type": "stream",
     "text": [
      "epoch: 4, [batch: 10080 / 12600], examples_per_second: 3241.2424, train_label_loss: 0.6288, \n"
     ]
    },
    {
     "name": "stdout",
     "output_type": "stream",
     "text": [
      "epoch: 4, [batch: 11340 / 12600], examples_per_second: 3228.5702, train_label_loss: 0.5524, \n"
     ]
    },
    {
     "name": "stdout",
     "output_type": "stream",
     "text": [
      "=============================================================\n",
      "epoch: 4, source_val_acc_label: 0.6844, target_val_acc_label: 0.6101, source_val_label_loss: 0.8735, target_val_label_loss: 1.0550, \n",
      "=============================================================\n"
     ]
    },
    {
     "name": "stdout",
     "output_type": "stream",
     "text": [
      "New best\n"
     ]
    },
    {
     "name": "stdout",
     "output_type": "stream",
     "text": [
      "epoch: 5, [batch: 1 / 12600], examples_per_second: 2.2421, train_label_loss: 0.6029, \n"
     ]
    },
    {
     "name": "stdout",
     "output_type": "stream",
     "text": [
      "epoch: 5, [batch: 1260 / 12600], examples_per_second: 3149.4294, train_label_loss: 0.6344, \n"
     ]
    },
    {
     "name": "stdout",
     "output_type": "stream",
     "text": [
      "epoch: 5, [batch: 2520 / 12600], examples_per_second: 3173.5854, train_label_loss: 0.8233, \n"
     ]
    },
    {
     "name": "stdout",
     "output_type": "stream",
     "text": [
      "epoch: 5, [batch: 3780 / 12600], examples_per_second: 3207.1776, train_label_loss: 0.7768, \n"
     ]
    },
    {
     "name": "stdout",
     "output_type": "stream",
     "text": [
      "epoch: 5, [batch: 5040 / 12600], examples_per_second: 3251.8106, train_label_loss: 0.5402, \n"
     ]
    },
    {
     "name": "stdout",
     "output_type": "stream",
     "text": [
      "epoch: 5, [batch: 6300 / 12600], examples_per_second: 3273.5957, train_label_loss: 0.6281, \n"
     ]
    },
    {
     "name": "stdout",
     "output_type": "stream",
     "text": [
      "epoch: 5, [batch: 7560 / 12600], examples_per_second: 3287.9849, train_label_loss: 0.7036, \n"
     ]
    },
    {
     "name": "stdout",
     "output_type": "stream",
     "text": [
      "epoch: 5, [batch: 8820 / 12600], examples_per_second: 3253.6935, train_label_loss: 0.3389, \n"
     ]
    },
    {
     "name": "stdout",
     "output_type": "stream",
     "text": [
      "epoch: 5, [batch: 10080 / 12600], examples_per_second: 3264.5706, train_label_loss: 0.9417, \n"
     ]
    },
    {
     "name": "stdout",
     "output_type": "stream",
     "text": [
      "epoch: 5, [batch: 11340 / 12600], examples_per_second: 3268.1592, train_label_loss: 0.5559, \n"
     ]
    },
    {
     "name": "stdout",
     "output_type": "stream",
     "text": [
      "=============================================================\n",
      "epoch: 5, source_val_acc_label: 0.6862, target_val_acc_label: 0.6047, source_val_label_loss: 0.8580, target_val_label_loss: 1.0671, \n",
      "=============================================================\n"
     ]
    },
    {
     "name": "stdout",
     "output_type": "stream",
     "text": [
      "epoch: 6, [batch: 1 / 12600], examples_per_second: 2.2563, train_label_loss: 0.7166, \n"
     ]
    },
    {
     "name": "stdout",
     "output_type": "stream",
     "text": [
      "epoch: 6, [batch: 1260 / 12600], examples_per_second: 3231.9885, train_label_loss: 0.5870, \n"
     ]
    },
    {
     "name": "stdout",
     "output_type": "stream",
     "text": [
      "epoch: 6, [batch: 2520 / 12600], examples_per_second: 3218.4078, train_label_loss: 0.5924, \n"
     ]
    },
    {
     "name": "stdout",
     "output_type": "stream",
     "text": [
      "epoch: 6, [batch: 3780 / 12600], examples_per_second: 3220.8879, train_label_loss: 0.2315, \n"
     ]
    },
    {
     "name": "stdout",
     "output_type": "stream",
     "text": [
      "epoch: 6, [batch: 5040 / 12600], examples_per_second: 3215.8344, train_label_loss: 0.5674, \n"
     ]
    },
    {
     "name": "stdout",
     "output_type": "stream",
     "text": [
      "epoch: 6, [batch: 6300 / 12600], examples_per_second: 3238.4568, train_label_loss: 0.4623, \n"
     ]
    },
    {
     "name": "stdout",
     "output_type": "stream",
     "text": [
      "epoch: 6, [batch: 7560 / 12600], examples_per_second: 3213.0250, train_label_loss: 0.5750, \n"
     ]
    },
    {
     "name": "stdout",
     "output_type": "stream",
     "text": [
      "epoch: 6, [batch: 8820 / 12600], examples_per_second: 3174.8389, train_label_loss: 0.3598, \n"
     ]
    },
    {
     "name": "stdout",
     "output_type": "stream",
     "text": [
      "epoch: 6, [batch: 10080 / 12600], examples_per_second: 3157.9896, train_label_loss: 0.6864, \n"
     ]
    },
    {
     "name": "stdout",
     "output_type": "stream",
     "text": [
      "epoch: 6, [batch: 11340 / 12600], examples_per_second: 3144.0997, train_label_loss: 0.3740, \n"
     ]
    },
    {
     "name": "stdout",
     "output_type": "stream",
     "text": [
      "=============================================================\n",
      "epoch: 6, source_val_acc_label: 0.6923, target_val_acc_label: 0.6133, source_val_label_loss: 0.8882, target_val_label_loss: 1.0843, \n",
      "=============================================================\n"
     ]
    },
    {
     "name": "stdout",
     "output_type": "stream",
     "text": [
      "New best\n"
     ]
    },
    {
     "name": "stdout",
     "output_type": "stream",
     "text": [
      "epoch: 7, [batch: 1 / 12600], examples_per_second: 2.2077, train_label_loss: 0.4205, \n"
     ]
    },
    {
     "name": "stdout",
     "output_type": "stream",
     "text": [
      "epoch: 7, [batch: 1260 / 12600], examples_per_second: 3219.5685, train_label_loss: 0.1720, \n"
     ]
    },
    {
     "name": "stdout",
     "output_type": "stream",
     "text": [
      "epoch: 7, [batch: 2520 / 12600], examples_per_second: 3229.5706, train_label_loss: 0.4652, \n"
     ]
    },
    {
     "name": "stdout",
     "output_type": "stream",
     "text": [
      "epoch: 7, [batch: 3780 / 12600], examples_per_second: 3251.1632, train_label_loss: 0.4275, \n"
     ]
    },
    {
     "name": "stdout",
     "output_type": "stream",
     "text": [
      "epoch: 7, [batch: 5040 / 12600], examples_per_second: 3243.2514, train_label_loss: 0.4587, \n"
     ]
    },
    {
     "name": "stdout",
     "output_type": "stream",
     "text": [
      "epoch: 7, [batch: 6300 / 12600], examples_per_second: 3235.9249, train_label_loss: 0.4389, \n"
     ]
    },
    {
     "name": "stdout",
     "output_type": "stream",
     "text": [
      "epoch: 7, [batch: 7560 / 12600], examples_per_second: 3292.8040, train_label_loss: 0.2295, \n"
     ]
    },
    {
     "name": "stdout",
     "output_type": "stream",
     "text": [
      "epoch: 7, [batch: 8820 / 12600], examples_per_second: 3263.8440, train_label_loss: 0.3460, \n"
     ]
    },
    {
     "name": "stdout",
     "output_type": "stream",
     "text": [
      "epoch: 7, [batch: 10080 / 12600], examples_per_second: 3253.9086, train_label_loss: 0.2937, \n"
     ]
    },
    {
     "name": "stdout",
     "output_type": "stream",
     "text": [
      "epoch: 7, [batch: 11340 / 12600], examples_per_second: 3267.0432, train_label_loss: 0.2859, \n"
     ]
    },
    {
     "name": "stdout",
     "output_type": "stream",
     "text": [
      "=============================================================\n",
      "epoch: 7, source_val_acc_label: 0.6892, target_val_acc_label: 0.6107, source_val_label_loss: 0.9395, target_val_label_loss: 1.1270, \n",
      "=============================================================\n"
     ]
    },
    {
     "name": "stdout",
     "output_type": "stream",
     "text": [
      "epoch: 8, [batch: 1 / 12600], examples_per_second: 2.3002, train_label_loss: 0.1845, \n"
     ]
    },
    {
     "name": "stdout",
     "output_type": "stream",
     "text": [
      "epoch: 8, [batch: 1260 / 12600], examples_per_second: 3251.6108, train_label_loss: 0.6536, \n"
     ]
    },
    {
     "name": "stdout",
     "output_type": "stream",
     "text": [
      "epoch: 8, [batch: 2520 / 12600], examples_per_second: 3311.0606, train_label_loss: 0.5616, \n"
     ]
    },
    {
     "name": "stdout",
     "output_type": "stream",
     "text": [
      "epoch: 8, [batch: 3780 / 12600], examples_per_second: 3315.7376, train_label_loss: 0.1775, \n"
     ]
    },
    {
     "name": "stdout",
     "output_type": "stream",
     "text": [
      "epoch: 8, [batch: 5040 / 12600], examples_per_second: 3296.0932, train_label_loss: 0.2645, \n"
     ]
    },
    {
     "name": "stdout",
     "output_type": "stream",
     "text": [
      "epoch: 8, [batch: 6300 / 12600], examples_per_second: 3296.3245, train_label_loss: 0.2404, \n"
     ]
    },
    {
     "name": "stdout",
     "output_type": "stream",
     "text": [
      "epoch: 8, [batch: 7560 / 12600], examples_per_second: 3319.4963, train_label_loss: 0.4294, \n"
     ]
    },
    {
     "name": "stdout",
     "output_type": "stream",
     "text": [
      "epoch: 8, [batch: 8820 / 12600], examples_per_second: 3303.6966, train_label_loss: 0.5179, \n"
     ]
    },
    {
     "name": "stdout",
     "output_type": "stream",
     "text": [
      "epoch: 8, [batch: 10080 / 12600], examples_per_second: 3318.8965, train_label_loss: 0.4492, \n"
     ]
    },
    {
     "name": "stdout",
     "output_type": "stream",
     "text": [
      "epoch: 8, [batch: 11340 / 12600], examples_per_second: 3319.8472, train_label_loss: 0.1130, \n"
     ]
    },
    {
     "name": "stdout",
     "output_type": "stream",
     "text": [
      "=============================================================\n",
      "epoch: 8, source_val_acc_label: 0.6805, target_val_acc_label: 0.6014, source_val_label_loss: 0.9483, target_val_label_loss: 1.1474, \n",
      "=============================================================\n"
     ]
    },
    {
     "name": "stdout",
     "output_type": "stream",
     "text": [
      "epoch: 9, [batch: 1 / 12600], examples_per_second: 2.3011, train_label_loss: 0.2779, \n"
     ]
    },
    {
     "name": "stdout",
     "output_type": "stream",
     "text": [
      "epoch: 9, [batch: 1260 / 12600], examples_per_second: 3318.6365, train_label_loss: 0.3069, \n"
     ]
    },
    {
     "name": "stdout",
     "output_type": "stream",
     "text": [
      "epoch: 9, [batch: 2520 / 12600], examples_per_second: 3324.5696, train_label_loss: 0.4061, \n"
     ]
    },
    {
     "name": "stdout",
     "output_type": "stream",
     "text": [
      "epoch: 9, [batch: 3780 / 12600], examples_per_second: 3332.3077, train_label_loss: 0.2983, \n"
     ]
    },
    {
     "name": "stdout",
     "output_type": "stream",
     "text": [
      "epoch: 9, [batch: 5040 / 12600], examples_per_second: 3320.2526, train_label_loss: 0.3185, \n"
     ]
    },
    {
     "name": "stdout",
     "output_type": "stream",
     "text": [
      "epoch: 9, [batch: 6300 / 12600], examples_per_second: 3316.5600, train_label_loss: 0.5197, \n"
     ]
    },
    {
     "name": "stdout",
     "output_type": "stream",
     "text": [
      "epoch: 9, [batch: 7560 / 12600], examples_per_second: 3343.1272, train_label_loss: 0.4081, \n"
     ]
    },
    {
     "name": "stdout",
     "output_type": "stream",
     "text": [
      "epoch: 9, [batch: 8820 / 12600], examples_per_second: 3326.2759, train_label_loss: 0.2672, \n"
     ]
    },
    {
     "name": "stdout",
     "output_type": "stream",
     "text": [
      "epoch: 9, [batch: 10080 / 12600], examples_per_second: 3334.4930, train_label_loss: 0.3878, \n"
     ]
    },
    {
     "name": "stdout",
     "output_type": "stream",
     "text": [
      "epoch: 9, [batch: 11340 / 12600], examples_per_second: 3336.3928, train_label_loss: 0.3250, \n"
     ]
    },
    {
     "name": "stdout",
     "output_type": "stream",
     "text": [
      "=============================================================\n",
      "epoch: 9, source_val_acc_label: 0.6805, target_val_acc_label: 0.6005, source_val_label_loss: 1.0278, target_val_label_loss: 1.2145, \n",
      "=============================================================\n"
     ]
    },
    {
     "name": "stdout",
     "output_type": "stream",
     "text": [
      "epoch: 10, [batch: 1 / 12600], examples_per_second: 2.3280, train_label_loss: 0.4139, \n"
     ]
    },
    {
     "name": "stdout",
     "output_type": "stream",
     "text": [
      "epoch: 10, [batch: 1260 / 12600], examples_per_second: 3323.5338, train_label_loss: 0.2307, \n"
     ]
    },
    {
     "name": "stdout",
     "output_type": "stream",
     "text": [
      "epoch: 10, [batch: 2520 / 12600], examples_per_second: 3337.0808, train_label_loss: 0.4576, \n"
     ]
    },
    {
     "name": "stdout",
     "output_type": "stream",
     "text": [
      "epoch: 10, [batch: 3780 / 12600], examples_per_second: 3330.3542, train_label_loss: 0.3980, \n"
     ]
    },
    {
     "name": "stdout",
     "output_type": "stream",
     "text": [
      "epoch: 10, [batch: 5040 / 12600], examples_per_second: 3320.8763, train_label_loss: 0.2223, \n"
     ]
    },
    {
     "name": "stdout",
     "output_type": "stream",
     "text": [
      "epoch: 10, [batch: 6300 / 12600], examples_per_second: 3322.0271, train_label_loss: 0.1782, \n"
     ]
    },
    {
     "name": "stdout",
     "output_type": "stream",
     "text": [
      "epoch: 10, [batch: 7560 / 12600], examples_per_second: 3333.7474, train_label_loss: 0.3865, \n"
     ]
    },
    {
     "name": "stdout",
     "output_type": "stream",
     "text": [
      "epoch: 10, [batch: 8820 / 12600], examples_per_second: 3325.3753, train_label_loss: 0.4583, \n"
     ]
    },
    {
     "name": "stdout",
     "output_type": "stream",
     "text": [
      "epoch: 10, [batch: 10080 / 12600], examples_per_second: 3336.5492, train_label_loss: 0.2609, \n"
     ]
    },
    {
     "name": "stdout",
     "output_type": "stream",
     "text": [
      "epoch: 10, [batch: 11340 / 12600], examples_per_second: 3333.4057, train_label_loss: 0.0855, \n"
     ]
    },
    {
     "name": "stdout",
     "output_type": "stream",
     "text": [
      "=============================================================\n",
      "epoch: 10, source_val_acc_label: 0.6931, target_val_acc_label: 0.6086, source_val_label_loss: 1.0760, target_val_label_loss: 1.2722, \n",
      "=============================================================\n"
     ]
    },
    {
     "name": "stdout",
     "output_type": "stream",
     "text": [
      "Patience (3) exhausted\n"
     ]
    }
   ],
   "source": [
    "###################################\n",
    "# train\n",
    "###################################\n",
    "jig = PTN_Train_Eval_Test_Jig(model, p.BEST_MODEL_PATH, p.device)\n",
    "\n",
    "jig.train(\n",
    "    train_iterable=datasets.source.processed.train,\n",
    "    source_val_iterable=datasets.source.processed.val,\n",
    "    target_val_iterable=datasets.target.processed.val,\n",
    "    num_epochs=p.n_epoch,\n",
    "    num_logs_per_epoch=p.NUM_LOGS_PER_EPOCH,\n",
    "    patience=p.patience,\n",
    "    optimizer=optimizer,\n",
    "    criteria_for_best=p.criteria_for_best,\n",
    ")"
   ]
  },
  {
   "cell_type": "code",
   "execution_count": 14,
   "id": "31e8fabf",
   "metadata": {
    "execution": {
     "iopub.execute_input": "2022-03-22T03:41:00.046495Z",
     "iopub.status.busy": "2022-03-22T03:41:00.046232Z",
     "iopub.status.idle": "2022-03-22T03:41:00.067802Z",
     "shell.execute_reply": "2022-03-22T03:41:00.068187Z"
    },
    "papermill": {
     "duration": 0.055174,
     "end_time": "2022-03-22T03:41:00.068319",
     "exception": false,
     "start_time": "2022-03-22T03:41:00.013145",
     "status": "completed"
    },
    "tags": []
   },
   "outputs": [],
   "source": [
    "total_experiment_time_secs = time.time() - start_time_secs"
   ]
  },
  {
   "cell_type": "code",
   "execution_count": 15,
   "id": "87b9595b",
   "metadata": {
    "execution": {
     "iopub.execute_input": "2022-03-22T03:41:00.138105Z",
     "iopub.status.busy": "2022-03-22T03:41:00.137828Z",
     "iopub.status.idle": "2022-03-22T03:44:58.934319Z",
     "shell.execute_reply": "2022-03-22T03:44:58.933886Z"
    },
    "papermill": {
     "duration": 238.831142,
     "end_time": "2022-03-22T03:44:58.934423",
     "exception": false,
     "start_time": "2022-03-22T03:41:00.103281",
     "status": "completed"
    },
    "tags": []
   },
   "outputs": [],
   "source": [
    "###################################\n",
    "# Evaluate the model\n",
    "###################################\n",
    "source_test_label_accuracy, source_test_label_loss = jig.test(datasets.source.processed.test)\n",
    "target_test_label_accuracy, target_test_label_loss = jig.test(datasets.target.processed.test)\n",
    "\n",
    "source_val_label_accuracy, source_val_label_loss = jig.test(datasets.source.processed.val)\n",
    "target_val_label_accuracy, target_val_label_loss = jig.test(datasets.target.processed.val)\n",
    "\n",
    "history = jig.get_history()\n",
    "\n",
    "total_epochs_trained = len(history[\"epoch_indices\"])\n",
    "\n",
    "val_dl = Iterable_Aggregator((datasets.source.original.val,datasets.target.original.val))\n",
    "\n",
    "confusion = ptn_confusion_by_domain_over_dataloader(model, p.device, val_dl)\n",
    "per_domain_accuracy = per_domain_accuracy_from_confusion(confusion)\n",
    "\n",
    "# Add a key to per_domain_accuracy for if it was a source domain\n",
    "for domain, accuracy in per_domain_accuracy.items():\n",
    "    per_domain_accuracy[domain] = {\n",
    "        \"accuracy\": accuracy,\n",
    "        \"source?\": domain in p.domains_source\n",
    "    }\n",
    "\n",
    "# Do an independent accuracy assesment JUST TO BE SURE!\n",
    "# _source_test_label_accuracy = independent_accuracy_assesment(model, datasets.source.processed.test, p.device)\n",
    "# _target_test_label_accuracy = independent_accuracy_assesment(model, datasets.target.processed.test, p.device)\n",
    "# _source_val_label_accuracy = independent_accuracy_assesment(model, datasets.source.processed.val, p.device)\n",
    "# _target_val_label_accuracy = independent_accuracy_assesment(model, datasets.target.processed.val, p.device)\n",
    "\n",
    "# assert(_source_test_label_accuracy == source_test_label_accuracy)\n",
    "# assert(_target_test_label_accuracy == target_test_label_accuracy)\n",
    "# assert(_source_val_label_accuracy == source_val_label_accuracy)\n",
    "# assert(_target_val_label_accuracy == target_val_label_accuracy)\n",
    "\n",
    "experiment = {\n",
    "    \"experiment_name\": p.experiment_name,\n",
    "    \"parameters\": dict(p),\n",
    "    \"results\": {\n",
    "        \"source_test_label_accuracy\": source_test_label_accuracy,\n",
    "        \"source_test_label_loss\": source_test_label_loss,\n",
    "        \"target_test_label_accuracy\": target_test_label_accuracy,\n",
    "        \"target_test_label_loss\": target_test_label_loss,\n",
    "        \"source_val_label_accuracy\": source_val_label_accuracy,\n",
    "        \"source_val_label_loss\": source_val_label_loss,\n",
    "        \"target_val_label_accuracy\": target_val_label_accuracy,\n",
    "        \"target_val_label_loss\": target_val_label_loss,\n",
    "        \"total_epochs_trained\": total_epochs_trained,\n",
    "        \"total_experiment_time_secs\": total_experiment_time_secs,\n",
    "        \"confusion\": confusion,\n",
    "        \"per_domain_accuracy\": per_domain_accuracy,\n",
    "    },\n",
    "    \"history\": history,\n",
    "    \"dataset_metrics\": get_dataset_metrics(datasets, \"ptn\"),\n",
    "}"
   ]
  },
  {
   "cell_type": "code",
   "execution_count": 16,
   "id": "54a21829",
   "metadata": {
    "execution": {
     "iopub.execute_input": "2022-03-22T03:44:59.004433Z",
     "iopub.status.busy": "2022-03-22T03:44:59.004173Z",
     "iopub.status.idle": "2022-03-22T03:44:59.152385Z",
     "shell.execute_reply": "2022-03-22T03:44:59.152796Z"
    },
    "papermill": {
     "duration": 0.182572,
     "end_time": "2022-03-22T03:44:59.152925",
     "exception": false,
     "start_time": "2022-03-22T03:44:58.970353",
     "status": "completed"
    },
    "tags": []
   },
   "outputs": [
    {
     "data": {
      "image/png": "[encoded data removed]",
      "text/plain": [
       "<Figure size 1080x504 with 1 Axes>"
      ]
     },
     "metadata": {
      "needs_background": "light"
     },
     "output_type": "display_data"
    }
   ],
   "source": [
    "ax = get_loss_curve(experiment)\n",
    "plt.show()"
   ]
  },
  {
   "cell_type": "code",
   "execution_count": 17,
   "id": "fd8a0f60",
   "metadata": {
    "execution": {
     "iopub.execute_input": "2022-03-22T03:44:59.221416Z",
     "iopub.status.busy": "2022-03-22T03:44:59.221161Z",
     "iopub.status.idle": "2022-03-22T03:44:59.367158Z",
     "shell.execute_reply": "2022-03-22T03:44:59.367399Z"
    },
    "papermill": {
     "duration": 0.17985,
     "end_time": "2022-03-22T03:44:59.367477",
     "exception": false,
     "start_time": "2022-03-22T03:44:59.187627",
     "status": "completed"
    },
    "tags": []
   },
   "outputs": [
    {
     "data": {
      "text/plain": [
       "<AxesSubplot:title={'center':'Results'}>"
      ]
     },
     "execution_count": 17,
     "metadata": {},
     "output_type": "execute_result"
    },
    {
     "data": {
      "image/png": "[encoded data removed]",
      "text/plain": [
       "<Figure size 1080x504 with 1 Axes>"
      ]
     },
     "metadata": {
      "needs_background": "light"
     },
     "output_type": "display_data"
    }
   ],
   "source": [
    "get_results_table(experiment)"
   ]
  },
  {
   "cell_type": "code",
   "execution_count": 18,
   "id": "cf8dc689",
   "metadata": {
    "execution": {
     "iopub.execute_input": "2022-03-22T03:44:59.441985Z",
     "iopub.status.busy": "2022-03-22T03:44:59.441396Z",
     "iopub.status.idle": "2022-03-22T03:44:59.568666Z",
     "shell.execute_reply": "2022-03-22T03:44:59.568249Z"
    },
    "papermill": {
     "duration": 0.164689,
     "end_time": "2022-03-22T03:44:59.568773",
     "exception": false,
     "start_time": "2022-03-22T03:44:59.404084",
     "status": "completed"
    },
    "tags": []
   },
   "outputs": [
    {
     "data": {
      "text/plain": [
       "<AxesSubplot:title={'center':'Per Domain Validation Accuracy'}, xlabel='domain'>"
      ]
     },
     "execution_count": 18,
     "metadata": {},
     "output_type": "execute_result"
    },
    {
     "data": {
      "image/png": "[encoded data removed]",
      "text/plain": [
       "<Figure size 1080x504 with 1 Axes>"
      ]
     },
     "metadata": {
      "needs_background": "light"
     },
     "output_type": "display_data"
    }
   ],
   "source": [
    "get_domain_accuracies(experiment)"
   ]
  },
  {
   "cell_type": "code",
   "execution_count": 19,
   "id": "a74ae082",
   "metadata": {
    "execution": {
     "iopub.execute_input": "2022-03-22T03:44:59.644022Z",
     "iopub.status.busy": "2022-03-22T03:44:59.643769Z",
     "iopub.status.idle": "2022-03-22T03:44:59.661171Z",
     "shell.execute_reply": "2022-03-22T03:44:59.661569Z"
    },
    "papermill": {
     "duration": 0.054167,
     "end_time": "2022-03-22T03:44:59.661690",
     "exception": false,
     "start_time": "2022-03-22T03:44:59.607523",
     "status": "completed"
    },
    "tags": []
   },
   "outputs": [
    {
     "name": "stdout",
     "output_type": "stream",
     "text": [
      "Source Test Label Accuracy: 0.6930208333333333 Target Test Label Accuracy: 0.6151145833333334\n",
      "Source Val Label Accuracy: 0.69234375 Target Val Label Accuracy: 0.6133020833333334\n"
     ]
    }
   ],
   "source": [
    "print(\"Source Test Label Accuracy:\", experiment[\"results\"][\"source_test_label_accuracy\"], \"Target Test Label Accuracy:\", experiment[\"results\"][\"target_test_label_accuracy\"])\n",
    "print(\"Source Val Label Accuracy:\", experiment[\"results\"][\"source_val_label_accuracy\"], \"Target Val Label Accuracy:\", experiment[\"results\"][\"target_val_label_accuracy\"])"
   ]
  },
  {
   "cell_type": "code",
   "execution_count": 20,
   "id": "dacca602",
   "metadata": {
    "execution": {
     "iopub.execute_input": "2022-03-22T03:44:59.736414Z",
     "iopub.status.busy": "2022-03-22T03:44:59.736165Z",
     "iopub.status.idle": "2022-03-22T03:44:59.754170Z",
     "shell.execute_reply": "2022-03-22T03:44:59.753722Z"
    },
    "papermill": {
     "duration": 0.053591,
     "end_time": "2022-03-22T03:44:59.754271",
     "exception": false,
     "start_time": "2022-03-22T03:44:59.700680",
     "status": "completed"
    },
    "tags": [
     "experiment_json"
    ]
   },
   "outputs": [
    {
     "data": {
      "text/plain": [
       "'{\"experiment_name\": \"tuned_1v2:oracle.run1\", \"parameters\": {\"experiment_name\": \"tuned_1v2:oracle.run1\", \"device\": \"cuda\", \"lr\": 0.0001, \"labels_source\": [\"3123D52\", \"3123D65\", \"3123D79\", \"3123D80\", \"3123D54\", \"3123D70\", \"3123D7B\", \"3123D89\", \"3123D58\", \"3123D76\", \"3123D7D\", \"3123EFE\", \"3123D64\", \"3123D78\", \"3123D7E\", \"3124E4A\"], \"labels_target\": [\"3123D52\", \"3123D65\", \"3123D79\", \"3123D80\", \"3123D54\", \"3123D70\", \"3123D7B\", \"3123D89\", \"3123D58\", \"3123D76\", \"3123D7D\", \"3123EFE\", \"3123D64\", \"3123D78\", \"3123D7E\", \"3124E4A\"], \"episode_transforms_source\": [], \"episode_transforms_target\": [], \"domains_source\": [8, 32, 50], \"domains_target\": [14, 20, 26, 38, 44], \"num_examples_per_domain_per_label_source\": -1, \"num_examples_per_domain_per_label_target\": -1, \"n_shot\": 3, \"n_way\": 16, \"n_query\": 2, \"train_k_factor\": 3, \"val_k_factor\": 2, \"test_k_factor\": 2, \"torch_default_dtype\": \"torch.float32\", \"n_epoch\": 50, \"patience\": 3, \"criteria_for_best\": \"target_accuracy\", \"x_net\": [{\"class\": \"nnReshape\", \"kargs\": {\"shape\": [-1, 1, 2, 256]}}, {\"class\": \"Conv2d\", \"kargs\": {\"in_channels\": 1, \"out_channels\": 256, \"kernel_size\": [1, 7], \"bias\": false, \"padding\": [0, 3]}}, {\"class\": \"ReLU\", \"kargs\": {\"inplace\": true}}, {\"class\": \"BatchNorm2d\", \"kargs\": {\"num_features\": 256}}, {\"class\": \"Conv2d\", \"kargs\": {\"in_channels\": 256, \"out_channels\": 80, \"kernel_size\": [2, 7], \"bias\": true, \"padding\": [0, 3]}}, {\"class\": \"ReLU\", \"kargs\": {\"inplace\": true}}, {\"class\": \"BatchNorm2d\", \"kargs\": {\"num_features\": 80}}, {\"class\": \"Flatten\", \"kargs\": {}}, {\"class\": \"Linear\", \"kargs\": {\"in_features\": 20480, \"out_features\": 256}}, {\"class\": \"ReLU\", \"kargs\": {\"inplace\": true}}, {\"class\": \"BatchNorm1d\", \"kargs\": {\"num_features\": 256}}, {\"class\": \"Linear\", \"kargs\": {\"in_features\": 256, \"out_features\": 256}}], \"NUM_LOGS_PER_EPOCH\": 10, \"BEST_MODEL_PATH\": \"./best_model.pth\", \"pickle_name\": \"oracle.Run1_10kExamples_stratified_ds.2022A.pkl\", \"x_transforms_source\": [\"unit_mag\"], \"x_transforms_target\": [\"unit_mag\"], \"dataset_seed\": 1337, \"seed\": 1337}, \"results\": {\"source_test_label_accuracy\": 0.6930208333333333, \"source_test_label_loss\": 0.8754386901855469, \"target_test_label_accuracy\": 0.6151145833333334, \"target_test_label_loss\": 1.073815941810608, \"source_val_label_accuracy\": 0.69234375, \"source_val_label_loss\": 0.8882268071174622, \"target_val_label_accuracy\": 0.6133020833333334, \"target_val_label_loss\": 1.084314227104187, \"total_epochs_trained\": 10, \"total_experiment_time_secs\": 3580.3268089294434, \"confusion\": {\"8\": {\"15\": {\"15\": 820, \"12\": 273, \"8\": 66, \"3\": 10, \"2\": 30, \"7\": 1}, \"3\": {\"3\": 896, \"2\": 174, \"12\": 113, \"15\": 17}, \"6\": {\"6\": 644, \"7\": 283, \"8\": 16, \"13\": 36, \"4\": 130, \"0\": 79, \"10\": 1, \"14\": 10, \"15\": 1}, \"1\": {\"11\": 362, \"1\": 666, \"4\": 16, \"14\": 103, \"10\": 22, \"5\": 27, \"8\": 2, \"13\": 1, \"6\": 1}, \"8\": {\"8\": 1091, \"6\": 17, \"15\": 72, \"4\": 1, \"1\": 1, \"7\": 12, \"12\": 4, \"11\": 1, \"14\": 1}, \"10\": {\"13\": 129, \"14\": 231, \"10\": 726, \"1\": 21, \"5\": 44, \"4\": 40, \"0\": 7, \"11\": 2}, \"9\": {\"9\": 1200}, \"13\": {\"10\": 113, \"0\": 295, \"4\": 251, \"6\": 57, \"13\": 349, \"1\": 7, \"14\": 116, \"7\": 12}, \"12\": {\"12\": 573, \"15\": 360, \"3\": 221, \"2\": 22, \"8\": 24}, \"5\": {\"5\": 1034, \"1\": 47, \"10\": 93, \"14\": 13, \"11\": 11, \"13\": 1, \"9\": 1}, \"0\": {\"13\": 280, \"0\": 602, \"6\": 119, \"4\": 77, \"7\": 87, \"10\": 27, \"14\": 8}, \"2\": {\"2\": 870, \"7\": 19, \"3\": 229, \"15\": 44, \"12\": 35, \"6\": 2, \"8\": 1}, \"11\": {\"11\": 656, \"1\": 460, \"5\": 20, \"4\": 12, \"14\": 27, \"8\": 20, \"10\": 5}, \"14\": {\"13\": 105, \"14\": 564, \"10\": 216, \"4\": 201, \"1\": 84, \"5\": 2, \"6\": 6, \"11\": 13, \"0\": 9}, \"7\": {\"7\": 847, \"6\": 279, \"4\": 9, \"0\": 42, \"8\": 9, \"2\": 3, \"15\": 3, \"13\": 8}, \"4\": {\"6\": 168, \"4\": 496, \"14\": 184, \"0\": 91, \"13\": 201, \"10\": 44, \"7\": 6, \"11\": 3, \"8\": 1, \"1\": 6}}, \"50\": {\"3\": {\"3\": 1170, \"8\": 30}, \"15\": {\"15\": 823, \"11\": 41, \"1\": 221, \"4\": 109, \"6\": 5, \"14\": 1}, \"8\": {\"8\": 1164, \"10\": 26, \"3\": 10}, \"4\": {\"6\": 157, \"15\": 196, \"5\": 86, \"1\": 215, \"4\": 495, \"7\": 21, \"13\": 30}, \"14\": {\"14\": 1136, \"12\": 45, \"11\": 17, \"9\": 2}, \"0\": {\"0\": 1009, \"2\": 116, \"5\": 2, \"13\": 8, \"10\": 64, \"1\": 1}, \"7\": {\"13\": 245, \"7\": 712, \"10\": 46, \"5\": 185, \"6\": 9, \"4\": 3}, \"6\": {\"1\": 133, \"6\": 741, \"4\": 152, \"13\": 72, \"15\": 17, \"5\": 81, \"7\": 2, \"0\": 2}, \"10\": {\"10\": 1069, \"13\": 36, \"0\": 44, \"5\": 7, \"7\": 33, \"8\": 11}, \"5\": {\"7\": 256, \"13\": 229, \"6\": 197, \"5\": 338, \"4\": 123, \"10\": 17, \"1\": 36, \"15\": 1, \"0\": 3}, \"2\": {\"2\": 1112, \"0\": 85, \"1\": 1, \"6\": 1, \"13\": 1}, \"12\": {\"12\": 1049, \"14\": 55, \"9\": 86, \"11\": 10}, \"9\": {\"11\": 173, \"9\": 886, \"12\": 134, \"14\": 7}, \"1\": {\"1\": 669, \"15\": 252, \"4\": 156, \"6\": 108, \"11\": 7, \"14\": 3, \"2\": 1, \"5\": 3, \"0\": 1}, \"11\": {\"11\": 1017, \"15\": 28, \"9\": 120, \"14\": 26, \"1\": 3, \"12\": 6}, \"13\": {\"13\": 604, \"7\": 232, \"5\": 231, \"6\": 94, \"0\": 10, \"10\": 18, \"1\": 2, \"4\": 9}}, \"32\": {\"5\": {\"4\": 141, \"8\": 100, \"5\": 315, \"3\": 60, \"11\": 20, \"13\": 303, \"7\": 147, \"0\": 69, \"2\": 16, \"14\": 29}, \"8\": {\"8\": 812, \"13\": 131, \"5\": 95, \"3\": 32, \"0\": 117, \"7\": 2, \"4\": 8, \"14\": 2, \"11\": 1}, \"11\": {\"11\": 872, \"5\": 12, \"14\": 209, \"13\": 30, \"3\": 38, \"7\": 38, \"8\": 1}, \"1\": {\"1\": 1188, \"10\": 12}, \"10\": {\"10\": 1197, \"1\": 3}, \"15\": {\"15\": 1182, \"3\": 4, \"8\": 14}, \"3\": {\"3\": 1054, \"13\": 61, \"14\": 9, \"5\": 23, \"8\": 13, \"11\": 40}, \"7\": {\"14\": 195, \"4\": 182, \"5\": 128, \"11\": 41, \"2\": 27, \"13\": 106, \"7\": 489, \"0\": 27, \"8\": 5}, \"4\": {\"5\": 85, \"8\": 9, \"4\": 601, \"2\": 190, \"0\": 126, \"7\": 142, \"14\": 13, \"13\": 34}, \"14\": {\"13\": 81, \"11\": 366, \"14\": 424, \"7\": 217, \"0\": 23, \"5\": 33, \"2\": 10, \"8\": 3, \"4\": 37, \"3\": 6}, \"9\": {\"9\": 1198, \"12\": 2}, \"12\": {\"12\": 1200}, \"6\": {\"6\": 1200}, \"2\": {\"2\": 975, \"4\": 174, \"7\": 13, \"0\": 36, \"14\": 1, \"5\": 1}, \"0\": {\"0\": 733, \"5\": 47, \"4\": 154, \"7\": 44, \"8\": 110, \"13\": 24, \"2\": 69, \"14\": 19}, \"13\": {\"13\": 411, \"0\": 32, \"5\": 304, \"8\": 76, \"7\": 134, \"4\": 49, \"11\": 45, \"14\": 81, \"3\": 68}}, \"14\": {\"15\": {\"15\": 1076, \"7\": 121, \"4\": 1, \"2\": 1, \"5\": 1}, \"3\": {\"3\": 892, \"5\": 6, \"14\": 48, \"0\": 14, \"4\": 211, \"2\": 24, \"1\": 2, \"10\": 3}, \"6\": {\"6\": 597, \"13\": 383, \"2\": 118, \"14\": 101, \"4\": 1}, \"1\": {\"1\": 945, \"5\": 213, \"4\": 28, \"7\": 11, \"3\": 1, \"2\": 2}, \"8\": {\"8\": 1196, \"0\": 3, \"1\": 1}, \"10\": {\"10\": 963, \"0\": 218, \"14\": 5, \"3\": 8, \"4\": 1, \"11\": 5}, \"9\": {\"9\": 1181, \"11\": 16, \"12\": 3}, \"13\": {\"14\": 242, \"2\": 129, \"6\": 446, \"13\": 345, \"5\": 14, \"15\": 8, \"3\": 6, \"10\": 2, \"4\": 8}, \"12\": {\"12\": 1182, \"9\": 18}, \"5\": {\"5\": 639, \"2\": 81, \"3\": 9, \"4\": 219, \"1\": 231, \"7\": 10, \"6\": 2, \"15\": 7, \"14\": 2}, \"0\": {\"0\": 887, \"11\": 26, \"10\": 247, \"8\": 2, \"3\": 32, \"14\": 5, \"4\": 1}, \"2\": {\"13\": 97, \"4\": 137, \"2\": 459, \"14\": 152, \"3\": 73, \"5\": 117, \"15\": 34, \"6\": 121, \"1\": 8, \"7\": 2}, \"11\": {\"11\": 1006, \"10\": 61, \"9\": 78, \"0\": 55}, \"14\": {\"14\": 763, \"3\": 71, \"13\": 146, \"2\": 114, \"6\": 88, \"10\": 6, \"4\": 9, \"5\": 1, \"0\": 2}, \"7\": {\"7\": 1120, \"15\": 68, \"1\": 9, \"5\": 3}, \"4\": {\"3\": 190, \"5\": 189, \"4\": 652, \"1\": 33, \"2\": 121, \"13\": 4, \"14\": 10, \"6\": 1}}, \"20\": {\"3\": {\"5\": 42, \"4\": 98, \"12\": 201, \"7\": 58, \"3\": 339, \"9\": 209, \"2\": 113, \"0\": 36, \"8\": 58, \"1\": 37, \"15\": 4, \"13\": 4, \"10\": 1}, \"15\": {\"0\": 108, \"15\": 628, \"3\": 6, \"1\": 255, \"12\": 48, \"5\": 83, \"13\": 53, \"9\": 13, \"2\": 6}, \"8\": {\"8\": 615, \"4\": 227, \"10\": 109, \"14\": 48, \"3\": 48, \"7\": 103, \"6\": 21, \"12\": 8, \"9\": 13, \"2\": 8}, \"4\": {\"4\": 785, \"8\": 213, \"0\": 10, \"3\": 90, \"5\": 9, \"10\": 51, \"9\": 8, \"12\": 18, \"7\": 11, \"14\": 3, \"1\": 1, \"2\": 1}, \"14\": {\"14\": 737, \"6\": 194, \"10\": 222, \"8\": 41, \"4\": 2, \"7\": 4}, \"0\": {\"0\": 425, \"5\": 285, \"15\": 143, \"12\": 86, \"1\": 158, \"3\": 43, \"9\": 26, \"8\": 7, \"2\": 11, \"7\": 2, \"4\": 12, \"13\": 2}, \"7\": {\"2\": 176, \"9\": 78, \"7\": 714, \"6\": 32, \"11\": 1, \"3\": 54, \"8\": 115, \"10\": 6, \"14\": 4, \"13\": 7, \"4\": 11, \"12\": 2}, \"6\": {\"6\": 896, \"7\": 32, \"14\": 238, \"8\": 12, \"10\": 20, \"11\": 2}, \"10\": {\"4\": 55, \"8\": 114, \"14\": 217, \"10\": 789, \"6\": 16, \"7\": 7, \"3\": 2}, \"5\": {\"1\": 255, \"5\": 323, \"15\": 124, \"12\": 161, \"0\": 254, \"3\": 45, \"9\": 16, \"13\": 3, \"4\": 12, \"8\": 2, \"2\": 5}, \"2\": {\"9\": 295, \"3\": 96, \"13\": 110, \"7\": 168, \"2\": 427, \"15\": 7, \"12\": 57, \"1\": 14, \"8\": 11, \"0\": 6, \"5\": 7, \"11\": 1, \"4\": 1}, \"12\": {\"9\": 145, \"12\": 284, \"5\": 168, \"1\": 154, \"3\": 222, \"15\": 36, \"7\": 4, \"4\": 26, \"2\": 57, \"0\": 82, \"13\": 19, \"8\": 3}, \"9\": {\"9\": 330, \"2\": 315, \"12\": 126, \"4\": 13, \"3\": 185, \"7\": 99, \"8\": 18, \"13\": 57, \"1\": 31, \"5\": 10, \"15\": 9, \"0\": 7}, \"1\": {\"9\": 31, \"5\": 218, \"1\": 326, \"0\": 155, \"3\": 28, \"12\": 145, \"15\": 255, \"2\": 20, \"13\": 21, \"4\": 1}, \"11\": {\"11\": 1193, \"6\": 6, \"7\": 1}, \"13\": {\"13\": 930, \"15\": 40, \"2\": 108, \"9\": 64, \"0\": 5, \"1\": 22, \"12\": 11, \"7\": 9, \"5\": 6, \"3\": 5}}, \"44\": {\"5\": {\"5\": 964, \"15\": 65, \"0\": 119, \"14\": 40, \"8\": 10, \"4\": 2}, \"8\": {\"0\": 386, \"8\": 749, \"15\": 44, \"5\": 21}, \"11\": {\"11\": 1065, \"6\": 60, \"13\": 75}, \"1\": {\"1\": 615, \"10\": 104, \"12\": 262, \"3\": 166, \"2\": 52, \"7\": 1}, \"10\": {\"2\": 125, \"10\": 825, \"12\": 136, \"1\": 111, \"3\": 1, \"7\": 2}, \"15\": {\"15\": 937, \"0\": 96, \"14\": 114, \"4\": 15, \"5\": 30, \"8\": 8}, \"3\": {\"3\": 1057, \"12\": 13, \"1\": 124, \"10\": 1, \"2\": 4, \"7\": 1}, \"7\": {\"7\": 745, \"9\": 230, \"1\": 4, \"6\": 36, \"2\": 171, \"3\": 10, \"13\": 3, \"10\": 1}, \"4\": {\"4\": 790, \"14\": 404, \"15\": 4, \"5\": 1, \"13\": 1}, \"14\": {\"14\": 683, \"4\": 413, \"15\": 83, \"5\": 21}, \"9\": {\"7\": 261, \"9\": 705, \"6\": 95, \"13\": 121, \"2\": 13, \"4\": 3, \"3\": 2}, \"12\": {\"12\": 803, \"2\": 1, \"10\": 116, \"1\": 263, \"3\": 17}, \"6\": {\"6\": 801, \"13\": 203, \"9\": 111, \"11\": 48, \"7\": 36, \"2\": 1}, \"2\": {\"2\": 827, \"7\": 177, \"10\": 95, \"1\": 79, \"12\": 6, \"9\": 7, \"3\": 8, \"6\": 1}, \"0\": {\"0\": 682, \"5\": 105, \"15\": 83, \"8\": 330}, \"13\": {\"13\": 780, \"6\": 220, \"9\": 136, \"7\": 11, \"11\": 47, \"4\": 5, \"14\": 1}}, \"38\": {\"14\": {\"14\": 860, \"2\": 51, \"11\": 260, \"10\": 15, \"12\": 7, \"13\": 7}, \"0\": {\"5\": 143, \"7\": 267, \"8\": 317, \"0\": 377, \"3\": 40, \"10\": 32, \"9\": 6, \"15\": 2, \"13\": 2, \"4\": 4, \"12\": 6, \"6\": 4}, \"13\": {\"15\": 366, \"13\": 639, \"8\": 24, \"10\": 81, \"2\": 42, \"1\": 40, \"14\": 3, \"5\": 3, \"0\": 2}, \"7\": {\"7\": 889, \"3\": 12, \"0\": 211, \"8\": 42, \"5\": 41, \"4\": 4, \"10\": 1}, \"9\": {\"9\": 624, \"6\": 470, \"3\": 84, \"5\": 20, \"0\": 1, \"7\": 1}, \"3\": {\"3\": 1004, \"9\": 120, \"0\": 12, \"6\": 12, \"7\": 41, \"5\": 9, \"8\": 2}, \"11\": {\"14\": 363, \"11\": 779, \"4\": 1, \"12\": 40, \"2\": 9, \"10\": 8}, \"6\": {\"9\": 302, \"6\": 876, \"5\": 14, \"3\": 6, \"8\": 1, \"0\": 1}, \"8\": {\"5\": 238, \"0\": 184, \"8\": 667, \"10\": 35, \"7\": 39, \"15\": 29, \"13\": 7, \"1\": 1}, \"4\": {\"4\": 1134, \"12\": 66}, \"5\": {\"6\": 64, \"5\": 486, \"8\": 288, \"7\": 80, \"0\": 110, \"15\": 54, \"10\": 9, \"3\": 41, \"1\": 24, \"9\": 33, \"13\": 11}, \"10\": {\"10\": 836, \"8\": 62, \"13\": 94, \"12\": 119, \"7\": 10, \"15\": 14, \"0\": 30, \"14\": 20, \"5\": 4, \"4\": 5, \"2\": 4, \"11\": 2}, \"1\": {\"1\": 1113, \"15\": 70, \"5\": 6, \"8\": 5, \"13\": 6}, \"2\": {\"2\": 1078, \"14\": 91, \"13\": 26, \"11\": 2, \"10\": 2, \"15\": 1}, \"15\": {\"13\": 311, \"15\": 706, \"5\": 24, \"1\": 109, \"8\": 37, \"10\": 8, \"0\": 5}, \"12\": {\"10\": 53, \"12\": 1109, \"4\": 38}}, \"26\": {\"13\": {\"5\": 246, \"13\": 793, \"15\": 94, \"8\": 3, \"6\": 22, \"9\": 26, \"2\": 15, \"3\": 1}, \"2\": {\"2\": 447, \"15\": 75, \"5\": 81, \"3\": 361, \"7\": 152, \"8\": 39, \"9\": 25, \"4\": 5, \"13\": 5, \"6\": 3, \"0\": 2, \"10\": 3, \"14\": 2}, \"8\": {\"10\": 158, \"8\": 329, \"9\": 117, \"0\": 127, \"15\": 83, \"4\": 79, \"7\": 123, \"2\": 34, \"6\": 59, \"14\": 44, \"3\": 10, \"5\": 25, \"1\": 12}, \"9\": {\"15\": 287, \"6\": 163, \"9\": 373, \"8\": 122, \"5\": 108, \"2\": 15, \"0\": 32, \"10\": 30, \"7\": 16, \"13\": 44, \"4\": 8, \"14\": 2}, \"12\": {\"12\": 1189, \"11\": 11}, \"4\": {\"1\": 163, \"14\": 227, \"4\": 336, \"8\": 94, \"0\": 153, \"10\": 83, \"7\": 118, \"2\": 9, \"9\": 9, \"15\": 5, \"3\": 3}, \"3\": {\"3\": 639, \"2\": 297, \"7\": 230, \"1\": 5, \"8\": 4, \"14\": 2, \"5\": 6, \"4\": 11, \"15\": 4, \"0\": 1, \"9\": 1}, \"15\": {\"13\": 72, \"15\": 369, \"9\": 247, \"8\": 96, \"5\": 236, \"2\": 58, \"6\": 47, \"10\": 11, \"0\": 20, \"7\": 36, \"4\": 5, \"3\": 3}, \"14\": {\"14\": 355, \"1\": 316, \"7\": 18, \"4\": 225, \"8\": 42, \"0\": 150, \"10\": 87, \"2\": 3, \"9\": 1, \"15\": 2, \"6\": 1}, \"10\": {\"0\": 248, \"1\": 45, \"10\": 390, \"9\": 29, \"14\": 120, \"4\": 84, \"6\": 111, \"8\": 150, \"7\": 6, \"2\": 2, \"15\": 15}, \"7\": {\"4\": 110, \"7\": 521, \"5\": 9, \"3\": 232, \"8\": 78, \"2\": 150, \"14\": 23, \"0\": 31, \"9\": 6, \"15\": 10, \"1\": 20, \"10\": 10}, \"11\": {\"11\": 1179, \"12\": 21}, \"6\": {\"6\": 755, \"15\": 51, \"13\": 28, \"8\": 39, \"0\": 37, \"9\": 160, \"10\": 118, \"5\": 9, \"14\": 2, \"4\": 1}, \"1\": {\"1\": 553, \"10\": 50, \"4\": 189, \"14\": 272, \"0\": 90, \"3\": 6, \"8\": 13, \"7\": 26, \"6\": 1}, \"5\": {\"5\": 556, \"13\": 163, \"15\": 257, \"2\": 61, \"8\": 27, \"9\": 94, \"6\": 16, \"7\": 17, \"3\": 4, \"10\": 3, \"4\": 1, \"14\": 1}, \"0\": {\"0\": 244, \"1\": 83, \"8\": 111, \"10\": 265, \"14\": 224, \"4\": 173, \"7\": 40, \"9\": 11, \"6\": 35, \"15\": 9, \"3\": 3, \"2\": 1, \"5\": 1}}}, \"per_domain_accuracy\": {\"8\": {\"accuracy\": 0.6267708333333334, \"source?\": true}, \"50\": {\"accuracy\": 0.7288541666666667, \"source?\": true}, \"32\": {\"accuracy\": 0.72140625, \"source?\": true}, \"14\": {\"accuracy\": 0.7241145833333333, \"source?\": false}, \"20\": {\"accuracy\": 0.50734375, \"source?\": false}, \"44\": {\"accuracy\": 0.6785416666666667, \"source?\": false}, \"38\": {\"accuracy\": 0.6863020833333333, \"source?\": false}, \"26\": {\"accuracy\": 0.47020833333333334, \"source?\": false}}}, \"history\": {\"epoch_indices\": [1, 2, 3, 4, 5, 6, 7, 8, 9, 10], \"train_label_loss\": [1.422875433904784, 0.912429947086743, 0.7719133629188651, 0.6843414534096207, 0.6028872028075987, 0.5258865586792429, 0.4572181435562079, 0.3986838986687658, 0.34950956571861985, 0.3076050304367192], \"source_val_label_loss\": [1.127529501914978, 0.9081584811210632, 0.8740635514259338, 0.8735306859016418, 0.8580148220062256, 0.8882268071174622, 0.939478874206543, 0.948255717754364, 1.02776038646698, 1.0759806632995605], \"target_val_label_loss\": [1.3901482820510864, 1.121399998664856, 1.0715395212173462, 1.055032730102539, 1.0670554637908936, 1.084314227104187, 1.1270496845245361, 1.1474331617355347, 1.2145394086837769, 1.2722294330596924], \"source_val_acc_label\": [0.5822395833333334, 0.6535763888888889, 0.6812152777777778, 0.6843576388888889, 0.6862326388888889, 0.69234375, 0.6892361111111112, 0.6804861111111111, 0.6804861111111111, 0.6931423611111112], \"target_val_acc_label\": [0.481875, 0.5754583333333333, 0.6005208333333333, 0.6100833333333333, 0.60465625, 0.6133020833333334, 0.6106666666666667, 0.6014375, 0.6004583333333333, 0.6086145833333333]}, \"dataset_metrics\": {\"source\": {\"train\": {\"n_unique_x\": 336000, \"n_unique_y\": 16, \"n_batch/episode\": 12600}, \"val\": {\"n_unique_x\": 72000, \"n_unique_y\": 16, \"n_batch/episode\": 1800}, \"test\": {\"n_unique_x\": 72000, \"n_unique_y\": 16, \"n_batch/episode\": 1800}}, \"target\": {\"train\": {\"n_unique_x\": 560000, \"n_unique_y\": 16, \"n_batch/episode\": 21000}, \"val\": {\"n_unique_x\": 120000, \"n_unique_y\": 16, \"n_batch/episode\": 3000}, \"test\": {\"n_unique_x\": 120000, \"n_unique_y\": 16, \"n_batch/episode\": 3000}}}}'"
      ]
     },
     "execution_count": 20,
     "metadata": {},
     "output_type": "execute_result"
    }
   ],
   "source": [
    "json.dumps(experiment)"
   ]
  }
 ],
 "metadata": {
  "celltoolbar": "Tags",
  "kernelspec": {
   "display_name": "Python 3 (ipykernel)",
   "language": "python",
   "name": "python3"
  },
  "language_info": {
   "codemirror_mode": {
    "name": "ipython",
    "version": 3
   },
   "file_extension": ".py",
   "mimetype": "text/x-python",
   "name": "python",
   "nbconvert_exporter": "python",
   "pygments_lexer": "ipython3",
   "version": "3.8.10"
  },
  "papermill": {
   "default_parameters": {},
   "duration": 3824.749987,
   "end_time": "2022-03-22T03:45:02.404618",
   "environment_variables": {},
   "exception": null,
   "input_path": "/mnt/wd500GB/CSC500/csc500-main/csc500-notebooks/templates/ptn_template.ipynb",
   "output_path": "trial.ipynb",
   "parameters": {
    "parameters": {
     "BEST_MODEL_PATH": "./best_model.pth",
     "NUM_LOGS_PER_EPOCH": 10,
     "criteria_for_best": "target_accuracy",
     "dataset_seed": 1337,
     "device": "cuda",
     "domains_source": [
      8,
      32,
      50
     ],
     "domains_target": [
      14,
      20,
      26,
      38,
      44
     ],
     "episode_transforms_source": [],
     "episode_transforms_target": [],
     "experiment_name": "tuned_1v2:oracle.run1",
     "labels_source": [
      "3123D52",
      "3123D65",
      "3123D79",
      "3123D80",
      "3123D54",
      "3123D70",
      "3123D7B",
      "3123D89",
      "3123D58",
      "3123D76",
      "3123D7D",
      "3123EFE",
      "3123D64",
      "3123D78",
      "3123D7E",
      "3124E4A"
     ],
     "labels_target": [
      "3123D52",
      "3123D65",
      "3123D79",
      "3123D80",
      "3123D54",
      "3123D70",
      "3123D7B",
      "3123D89",
      "3123D58",
      "3123D76",
      "3123D7D",
      "3123EFE",
      "3123D64",
      "3123D78",
      "3123D7E",
      "3124E4A"
     ],
     "lr": 0.0001,
     "n_epoch": 50,
     "n_query": 2,
     "n_shot": 3,
     "n_way": 16,
     "num_examples_per_domain_per_label_source": -1,
     "num_examples_per_domain_per_label_target": -1,
     "patience": 3,
     "pickle_name": "oracle.Run1_10kExamples_stratified_ds.2022A.pkl",
     "seed": 1337,
     "test_k_factor": 2,
     "torch_default_dtype": "torch.float32",
     "train_k_factor": 3,
     "val_k_factor": 2,
     "x_net": [
      {
       "class": "nnReshape",
       "kargs": {
        "shape": [
         -1,
         1,
         2,
         256
        ]
       }
      },
      {
       "class": "Conv2d",
       "kargs": {
        "bias": false,
        "in_channels": 1,
        "kernel_size": [
         1,
         7
        ],
        "out_channels": 256,
        "padding": [
         0,
         3
        ]
       }
      },
      {
       "class": "ReLU",
       "kargs": {
        "inplace": true
       }
      },
      {
       "class": "BatchNorm2d",
       "kargs": {
        "num_features": 256
       }
      },
      {
       "class": "Conv2d",
       "kargs": {
        "bias": true,
        "in_channels": 256,
        "kernel_size": [
         2,
         7
        ],
        "out_channels": 80,
        "padding": [
         0,
         3
        ]
       }
      },
      {
       "class": "ReLU",
       "kargs": {
        "inplace": true
       }
      },
      {
       "class": "BatchNorm2d",
       "kargs": {
        "num_features": 80
       }
      },
      {
       "class": "Flatten",
       "kargs": {}
      },
      {
       "class": "Linear",
       "kargs": {
        "in_features": 20480,
        "out_features": 256
       }
      },
      {
       "class": "ReLU",
       "kargs": {
        "inplace": true
       }
      },
      {
       "class": "BatchNorm1d",
       "kargs": {
        "num_features": 256
       }
      },
      {
       "class": "Linear",
       "kargs": {
        "in_features": 256,
        "out_features": 256
       }
      }
     ],
     "x_transforms_source": [
      "unit_mag"
     ],
     "x_transforms_target": [
      "unit_mag"
     ]
    }
   },
   "start_time": "2022-03-22T02:41:17.654631",
   "version": "2.3.4"
  }
 },
 "nbformat": 4,
 "nbformat_minor": 5
}