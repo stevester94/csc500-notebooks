{
 "cells": [
  {
   "cell_type": "markdown",
   "id": "9fea5f46",
   "metadata": {
    "papermill": {
     "duration": 0.014031,
     "end_time": "2022-03-22T15:02:16.020260",
     "exception": false,
     "start_time": "2022-03-22T15:02:16.006229",
     "status": "completed"
    },
    "tags": []
   },
   "source": [
    "# PTN Template\n",
    "This notebook serves as a template for single dataset PTN experiments  \n",
    "It can be run on its own by setting STANDALONE to True (do a find for \"STANDALONE\" to see where)  \n",
    "But it is intended to be executed as part of a *papermill.py script. See any of the   \n",
    "experimentes with a papermill script to get started with that workflow.  "
   ]
  },
  {
   "cell_type": "code",
   "execution_count": 1,
   "id": "0902182a",
   "metadata": {
    "execution": {
     "iopub.execute_input": "2022-03-22T15:02:16.052636Z",
     "iopub.status.busy": "2022-03-22T15:02:16.052120Z",
     "iopub.status.idle": "2022-03-22T15:02:16.992835Z",
     "shell.execute_reply": "2022-03-22T15:02:16.992313Z"
    },
    "papermill": {
     "duration": 0.96329,
     "end_time": "2022-03-22T15:02:16.992951",
     "exception": false,
     "start_time": "2022-03-22T15:02:16.029661",
     "status": "completed"
    },
    "tags": []
   },
   "outputs": [],
   "source": [
    "%load_ext autoreload\n",
    "%autoreload 2\n",
    "%matplotlib inline\n",
    "\n",
    "    \n",
    "import os, json, sys, time, random\n",
    "import numpy as np\n",
    "import torch\n",
    "from torch.optim import Adam\n",
    "from  easydict import EasyDict\n",
    "import matplotlib.pyplot as plt\n",
    "\n",
    "from steves_models.steves_ptn import Steves_Prototypical_Network\n",
    "\n",
    "from steves_utils.lazy_iterable_wrapper import Lazy_Iterable_Wrapper\n",
    "from steves_utils.iterable_aggregator import Iterable_Aggregator\n",
    "from steves_utils.ptn_train_eval_test_jig import  PTN_Train_Eval_Test_Jig\n",
    "from steves_utils.torch_sequential_builder import build_sequential\n",
    "from steves_utils.torch_utils import get_dataset_metrics, ptn_confusion_by_domain_over_dataloader\n",
    "from steves_utils.utils_v2 import (per_domain_accuracy_from_confusion, get_datasets_base_path)\n",
    "from steves_utils.PTN.utils import independent_accuracy_assesment\n",
    "\n",
    "from steves_utils.stratified_dataset.episodic_accessor import Episodic_Accessor_Factory\n",
    "\n",
    "from steves_utils.ptn_do_report import (\n",
    "    get_loss_curve,\n",
    "    get_results_table,\n",
    "    get_parameters_table,\n",
    "    get_domain_accuracies,\n",
    ")\n",
    "\n",
    "from steves_utils.transforms import get_chained_transform"
   ]
  },
  {
   "cell_type": "markdown",
   "id": "41c840b4",
   "metadata": {
    "papermill": {
     "duration": 0.012042,
     "end_time": "2022-03-22T15:02:17.024639",
     "exception": false,
     "start_time": "2022-03-22T15:02:17.012597",
     "status": "completed"
    },
    "tags": []
   },
   "source": [
    "# Required Parameters\n",
    "These are allowed parameters, not defaults\n",
    "Each of these values need to be present in the injected parameters (the notebook will raise an exception if they are not present)\n",
    "\n",
    "Papermill uses the cell tag \"parameters\" to inject the real parameters below this cell.\n",
    "Enable tags to see what I mean"
   ]
  },
  {
   "cell_type": "code",
   "execution_count": 2,
   "id": "fd44eb83",
   "metadata": {
    "execution": {
     "iopub.execute_input": "2022-03-22T15:02:17.047077Z",
     "iopub.status.busy": "2022-03-22T15:02:17.046785Z",
     "iopub.status.idle": "2022-03-22T15:02:17.061391Z",
     "shell.execute_reply": "2022-03-22T15:02:17.061759Z"
    },
    "papermill": {
     "duration": 0.027125,
     "end_time": "2022-03-22T15:02:17.061862",
     "exception": false,
     "start_time": "2022-03-22T15:02:17.034737",
     "status": "completed"
    },
    "tags": []
   },
   "outputs": [],
   "source": [
    "required_parameters = {\n",
    "    \"experiment_name\",\n",
    "    \"lr\",\n",
    "    \"device\",\n",
    "    \"seed\",\n",
    "    \"dataset_seed\",\n",
    "    \"labels_source\",\n",
    "    \"labels_target\",\n",
    "    \"domains_source\",\n",
    "    \"domains_target\",\n",
    "    \"num_examples_per_domain_per_label_source\",\n",
    "    \"num_examples_per_domain_per_label_target\",\n",
    "    \"n_shot\",\n",
    "    \"n_way\",\n",
    "    \"n_query\",\n",
    "    \"train_k_factor\",\n",
    "    \"val_k_factor\",\n",
    "    \"test_k_factor\",\n",
    "    \"n_epoch\",\n",
    "    \"patience\",\n",
    "    \"criteria_for_best\",\n",
    "    \"x_transforms_source\",\n",
    "    \"x_transforms_target\",\n",
    "    \"episode_transforms_source\",\n",
    "    \"episode_transforms_target\",\n",
    "    \"pickle_name\",\n",
    "    \"x_net\",\n",
    "    \"NUM_LOGS_PER_EPOCH\",\n",
    "    \"BEST_MODEL_PATH\",\n",
    "    \"torch_default_dtype\"\n",
    "}"
   ]
  },
  {
   "cell_type": "code",
   "execution_count": 3,
   "id": "fa3f0049",
   "metadata": {
    "execution": {
     "iopub.execute_input": "2022-03-22T15:02:17.088724Z",
     "iopub.status.busy": "2022-03-22T15:02:17.088318Z",
     "iopub.status.idle": "2022-03-22T15:02:17.100192Z",
     "shell.execute_reply": "2022-03-22T15:02:17.099807Z"
    },
    "papermill": {
     "duration": 0.0267,
     "end_time": "2022-03-22T15:02:17.100280",
     "exception": false,
     "start_time": "2022-03-22T15:02:17.073580",
     "status": "completed"
    },
    "tags": [
     "parameters"
    ]
   },
   "outputs": [],
   "source": [
    "\n",
    "\n",
    "standalone_parameters = {}\n",
    "standalone_parameters[\"experiment_name\"] = \"STANDALONE PTN\"\n",
    "standalone_parameters[\"lr\"] = 0.0001\n",
    "standalone_parameters[\"device\"] = \"cuda\"\n",
    "\n",
    "standalone_parameters[\"seed\"] = 1337\n",
    "standalone_parameters[\"dataset_seed\"] = 1337\n",
    "\n",
    "\n",
    "standalone_parameters[\"num_examples_per_domain_per_label_source\"]=100\n",
    "standalone_parameters[\"num_examples_per_domain_per_label_target\"]=100\n",
    "\n",
    "standalone_parameters[\"n_shot\"] = 3\n",
    "standalone_parameters[\"n_query\"]  = 2\n",
    "standalone_parameters[\"train_k_factor\"] = 1\n",
    "standalone_parameters[\"val_k_factor\"] = 2\n",
    "standalone_parameters[\"test_k_factor\"] = 2\n",
    "\n",
    "\n",
    "standalone_parameters[\"n_epoch\"] = 100\n",
    "\n",
    "standalone_parameters[\"patience\"] = 10\n",
    "standalone_parameters[\"criteria_for_best\"] = \"target_accuracy\"\n",
    "\n",
    "standalone_parameters[\"x_transforms_source\"] = [\"unit_power\"]\n",
    "standalone_parameters[\"x_transforms_target\"] = [\"unit_power\"]\n",
    "standalone_parameters[\"episode_transforms_source\"] = []\n",
    "standalone_parameters[\"episode_transforms_target\"] = []\n",
    "\n",
    "standalone_parameters[\"torch_default_dtype\"] = \"torch.float32\" \n",
    "\n",
    "\n",
    "\n",
    "standalone_parameters[\"x_net\"] =     [\n",
    "    {\"class\": \"nnReshape\", \"kargs\": {\"shape\":[-1, 1, 2, 256]}},\n",
    "    {\"class\": \"Conv2d\", \"kargs\": { \"in_channels\":1, \"out_channels\":256, \"kernel_size\":(1,7), \"bias\":False, \"padding\":(0,3), },},\n",
    "    {\"class\": \"ReLU\", \"kargs\": {\"inplace\": True}},\n",
    "    {\"class\": \"BatchNorm2d\", \"kargs\": {\"num_features\":256}},\n",
    "\n",
    "    {\"class\": \"Conv2d\", \"kargs\": { \"in_channels\":256, \"out_channels\":80, \"kernel_size\":(2,7), \"bias\":True, \"padding\":(0,3), },},\n",
    "    {\"class\": \"ReLU\", \"kargs\": {\"inplace\": True}},\n",
    "    {\"class\": \"BatchNorm2d\", \"kargs\": {\"num_features\":80}},\n",
    "    {\"class\": \"Flatten\", \"kargs\": {}},\n",
    "\n",
    "    {\"class\": \"Linear\", \"kargs\": {\"in_features\": 80*256, \"out_features\": 256}}, # 80 units per IQ pair\n",
    "    {\"class\": \"ReLU\", \"kargs\": {\"inplace\": True}},\n",
    "    {\"class\": \"BatchNorm1d\", \"kargs\": {\"num_features\":256}},\n",
    "\n",
    "    {\"class\": \"Linear\", \"kargs\": {\"in_features\": 256, \"out_features\": 256}},\n",
    "]\n",
    "\n",
    "# Parameters relevant to results\n",
    "# These parameters will basically never need to change\n",
    "standalone_parameters[\"NUM_LOGS_PER_EPOCH\"] = 10\n",
    "standalone_parameters[\"BEST_MODEL_PATH\"] = \"./best_model.pth\"\n",
    "\n",
    "# uncomment for CORES dataset\n",
    "from steves_utils.CORES.utils import (\n",
    "    ALL_NODES,\n",
    "    ALL_NODES_MINIMUM_1000_EXAMPLES,\n",
    "    ALL_DAYS\n",
    ")\n",
    "\n",
    "\n",
    "standalone_parameters[\"labels_source\"] = ALL_NODES\n",
    "standalone_parameters[\"labels_target\"] = ALL_NODES\n",
    "\n",
    "standalone_parameters[\"domains_source\"] = [1]\n",
    "standalone_parameters[\"domains_target\"] = [2,3,4,5]\n",
    "\n",
    "standalone_parameters[\"pickle_name\"] = \"cores.stratified_ds.2022A.pkl\"\n",
    "\n",
    "\n",
    "# Uncomment these for ORACLE dataset\n",
    "# from steves_utils.ORACLE.utils_v2 import (\n",
    "#     ALL_DISTANCES_FEET,\n",
    "#     ALL_RUNS,\n",
    "#     ALL_SERIAL_NUMBERS,\n",
    "# )\n",
    "# standalone_parameters[\"labels_source\"] = ALL_SERIAL_NUMBERS\n",
    "# standalone_parameters[\"labels_target\"] = ALL_SERIAL_NUMBERS\n",
    "# standalone_parameters[\"domains_source\"] = [8,20, 38,50]\n",
    "# standalone_parameters[\"domains_target\"] = [14, 26, 32, 44, 56]\n",
    "# standalone_parameters[\"pickle_name\"] = \"oracle.frame_indexed.stratified_ds.2022A.pkl\"\n",
    "# standalone_parameters[\"num_examples_per_domain_per_label_source\"]=1000\n",
    "# standalone_parameters[\"num_examples_per_domain_per_label_target\"]=1000\n",
    "\n",
    "# Uncomment these for Metahan dataset\n",
    "# standalone_parameters[\"labels_source\"] = list(range(19))\n",
    "# standalone_parameters[\"labels_target\"] = list(range(19))\n",
    "# standalone_parameters[\"domains_source\"] = [0]\n",
    "# standalone_parameters[\"domains_target\"] = [1]\n",
    "# standalone_parameters[\"pickle_name\"] = \"metehan.stratified_ds.2022A.pkl\"\n",
    "# standalone_parameters[\"n_way\"]  = len(standalone_parameters[\"labels_source\"])\n",
    "# standalone_parameters[\"num_examples_per_domain_per_label_source\"]=200\n",
    "# standalone_parameters[\"num_examples_per_domain_per_label_target\"]=100\n",
    "\n",
    "\n",
    "standalone_parameters[\"n_way\"]  = len(standalone_parameters[\"labels_source\"])"
   ]
  },
  {
   "cell_type": "code",
   "execution_count": 4,
   "id": "8920a764",
   "metadata": {
    "execution": {
     "iopub.execute_input": "2022-03-22T15:02:17.127146Z",
     "iopub.status.busy": "2022-03-22T15:02:17.126837Z",
     "iopub.status.idle": "2022-03-22T15:02:17.137526Z",
     "shell.execute_reply": "2022-03-22T15:02:17.137224Z"
    },
    "papermill": {
     "duration": 0.024623,
     "end_time": "2022-03-22T15:02:17.137594",
     "exception": false,
     "start_time": "2022-03-22T15:02:17.112971",
     "status": "completed"
    },
    "tags": [
     "injected-parameters"
    ]
   },
   "outputs": [],
   "source": [
    "# Parameters\n",
    "parameters = {\n",
    "    \"experiment_name\": \"tuned_1v2:oracle.run1\",\n",
    "    \"device\": \"cuda\",\n",
    "    \"lr\": 0.0001,\n",
    "    \"labels_source\": [\n",
    "        \"3123D52\",\n",
    "        \"3123D65\",\n",
    "        \"3123D79\",\n",
    "        \"3123D80\",\n",
    "        \"3123D54\",\n",
    "        \"3123D70\",\n",
    "        \"3123D7B\",\n",
    "        \"3123D89\",\n",
    "        \"3123D58\",\n",
    "        \"3123D76\",\n",
    "        \"3123D7D\",\n",
    "        \"3123EFE\",\n",
    "        \"3123D64\",\n",
    "        \"3123D78\",\n",
    "        \"3123D7E\",\n",
    "        \"3124E4A\",\n",
    "    ],\n",
    "    \"labels_target\": [\n",
    "        \"3123D52\",\n",
    "        \"3123D65\",\n",
    "        \"3123D79\",\n",
    "        \"3123D80\",\n",
    "        \"3123D54\",\n",
    "        \"3123D70\",\n",
    "        \"3123D7B\",\n",
    "        \"3123D89\",\n",
    "        \"3123D58\",\n",
    "        \"3123D76\",\n",
    "        \"3123D7D\",\n",
    "        \"3123EFE\",\n",
    "        \"3123D64\",\n",
    "        \"3123D78\",\n",
    "        \"3123D7E\",\n",
    "        \"3124E4A\",\n",
    "    ],\n",
    "    \"episode_transforms_source\": [],\n",
    "    \"episode_transforms_target\": [],\n",
    "    \"domains_source\": [8, 32, 50],\n",
    "    \"domains_target\": [14, 20, 26, 38, 44],\n",
    "    \"num_examples_per_domain_per_label_source\": -1,\n",
    "    \"num_examples_per_domain_per_label_target\": -1,\n",
    "    \"n_shot\": 3,\n",
    "    \"n_way\": 16,\n",
    "    \"n_query\": 2,\n",
    "    \"train_k_factor\": 3,\n",
    "    \"val_k_factor\": 2,\n",
    "    \"test_k_factor\": 2,\n",
    "    \"torch_default_dtype\": \"torch.float32\",\n",
    "    \"n_epoch\": 50,\n",
    "    \"patience\": 3,\n",
    "    \"criteria_for_best\": \"target_accuracy\",\n",
    "    \"x_net\": [\n",
    "        {\"class\": \"nnReshape\", \"kargs\": {\"shape\": [-1, 1, 2, 256]}},\n",
    "        {\n",
    "            \"class\": \"Conv2d\",\n",
    "            \"kargs\": {\n",
    "                \"in_channels\": 1,\n",
    "                \"out_channels\": 256,\n",
    "                \"kernel_size\": [1, 7],\n",
    "                \"bias\": False,\n",
    "                \"padding\": [0, 3],\n",
    "            },\n",
    "        },\n",
    "        {\"class\": \"ReLU\", \"kargs\": {\"inplace\": True}},\n",
    "        {\"class\": \"BatchNorm2d\", \"kargs\": {\"num_features\": 256}},\n",
    "        {\n",
    "            \"class\": \"Conv2d\",\n",
    "            \"kargs\": {\n",
    "                \"in_channels\": 256,\n",
    "                \"out_channels\": 80,\n",
    "                \"kernel_size\": [2, 7],\n",
    "                \"bias\": True,\n",
    "                \"padding\": [0, 3],\n",
    "            },\n",
    "        },\n",
    "        {\"class\": \"ReLU\", \"kargs\": {\"inplace\": True}},\n",
    "        {\"class\": \"BatchNorm2d\", \"kargs\": {\"num_features\": 80}},\n",
    "        {\"class\": \"Flatten\", \"kargs\": {}},\n",
    "        {\"class\": \"Linear\", \"kargs\": {\"in_features\": 20480, \"out_features\": 256}},\n",
    "        {\"class\": \"ReLU\", \"kargs\": {\"inplace\": True}},\n",
    "        {\"class\": \"BatchNorm1d\", \"kargs\": {\"num_features\": 256}},\n",
    "        {\"class\": \"Linear\", \"kargs\": {\"in_features\": 256, \"out_features\": 256}},\n",
    "    ],\n",
    "    \"NUM_LOGS_PER_EPOCH\": 10,\n",
    "    \"BEST_MODEL_PATH\": \"./best_model.pth\",\n",
    "    \"pickle_name\": \"oracle.Run1_10kExamples_stratified_ds.2022A.pkl\",\n",
    "    \"x_transforms_source\": [],\n",
    "    \"x_transforms_target\": [],\n",
    "    \"dataset_seed\": 7,\n",
    "    \"seed\": 7,\n",
    "}\n"
   ]
  },
  {
   "cell_type": "code",
   "execution_count": 5,
   "id": "8fa1cc33",
   "metadata": {
    "execution": {
     "iopub.execute_input": "2022-03-22T15:02:17.162510Z",
     "iopub.status.busy": "2022-03-22T15:02:17.162261Z",
     "iopub.status.idle": "2022-03-22T15:02:17.172418Z",
     "shell.execute_reply": "2022-03-22T15:02:17.172779Z"
    },
    "papermill": {
     "duration": 0.022074,
     "end_time": "2022-03-22T15:02:17.172880",
     "exception": false,
     "start_time": "2022-03-22T15:02:17.150806",
     "status": "completed"
    },
    "tags": []
   },
   "outputs": [],
   "source": [
    "# Set this to True if you want to run this template directly\n",
    "STANDALONE = False\n",
    "if STANDALONE:\n",
    "    print(\"parameters not injected, running with standalone_parameters\")\n",
    "    parameters = standalone_parameters\n",
    "\n",
    "if not 'parameters' in locals() and not 'parameters' in globals():\n",
    "    raise Exception(\"Parameter injection failed\")\n",
    "\n",
    "#Use an easy dict for all the parameters\n",
    "p = EasyDict(parameters)\n",
    "\n",
    "supplied_keys = set(p.keys())\n",
    "\n",
    "if  supplied_keys != required_parameters:\n",
    "    print(\"Parameters are incorrect\")\n",
    "    if len(supplied_keys - required_parameters)>0: print(\"Shouldn't have:\", str(supplied_keys - required_parameters))\n",
    "    if len(required_parameters - supplied_keys)>0: print(\"Need to have:\", str(required_parameters - supplied_keys))\n",
    "    raise RuntimeError(\"Parameters are incorrect\")\n",
    "\n"
   ]
  },
  {
   "cell_type": "code",
   "execution_count": 6,
   "id": "3a028d58",
   "metadata": {
    "execution": {
     "iopub.execute_input": "2022-03-22T15:02:17.198551Z",
     "iopub.status.busy": "2022-03-22T15:02:17.197513Z",
     "iopub.status.idle": "2022-03-22T15:02:17.213918Z",
     "shell.execute_reply": "2022-03-22T15:02:17.213540Z"
    },
    "papermill": {
     "duration": 0.026888,
     "end_time": "2022-03-22T15:02:17.214004",
     "exception": false,
     "start_time": "2022-03-22T15:02:17.187116",
     "status": "completed"
    },
    "tags": []
   },
   "outputs": [],
   "source": [
    "###################################\n",
    "# Set the RNGs and make it all deterministic\n",
    "###################################\n",
    "np.random.seed(p.seed)\n",
    "random.seed(p.seed)\n",
    "torch.manual_seed(p.seed)\n",
    "\n",
    "torch.use_deterministic_algorithms(True) "
   ]
  },
  {
   "cell_type": "code",
   "execution_count": 7,
   "id": "b691acf6",
   "metadata": {
    "execution": {
     "iopub.execute_input": "2022-03-22T15:02:17.240054Z",
     "iopub.status.busy": "2022-03-22T15:02:17.239811Z",
     "iopub.status.idle": "2022-03-22T15:02:17.255459Z",
     "shell.execute_reply": "2022-03-22T15:02:17.255746Z"
    },
    "papermill": {
     "duration": 0.026942,
     "end_time": "2022-03-22T15:02:17.255826",
     "exception": false,
     "start_time": "2022-03-22T15:02:17.228884",
     "status": "completed"
    },
    "tags": []
   },
   "outputs": [],
   "source": [
    "###########################################\n",
    "# The stratified datasets honor this\n",
    "###########################################\n",
    "torch.set_default_dtype(eval(p.torch_default_dtype))"
   ]
  },
  {
   "cell_type": "code",
   "execution_count": 8,
   "id": "b5fba671",
   "metadata": {
    "execution": {
     "iopub.execute_input": "2022-03-22T15:02:17.281717Z",
     "iopub.status.busy": "2022-03-22T15:02:17.281473Z",
     "iopub.status.idle": "2022-03-22T15:02:17.322119Z",
     "shell.execute_reply": "2022-03-22T15:02:17.321775Z"
    },
    "papermill": {
     "duration": 0.05162,
     "end_time": "2022-03-22T15:02:17.322187",
     "exception": false,
     "start_time": "2022-03-22T15:02:17.270567",
     "status": "completed"
    },
    "tags": []
   },
   "outputs": [],
   "source": [
    "###################################\n",
    "# Build the network(s)\n",
    "# Note: It's critical to do this AFTER setting the RNG\n",
    "# (This is due to the randomized initial weights)\n",
    "###################################\n",
    "x_net = build_sequential(p.x_net)"
   ]
  },
  {
   "cell_type": "code",
   "execution_count": 9,
   "id": "5d7e61cc",
   "metadata": {
    "execution": {
     "iopub.execute_input": "2022-03-22T15:02:17.346594Z",
     "iopub.status.busy": "2022-03-22T15:02:17.346352Z",
     "iopub.status.idle": "2022-03-22T15:02:17.357235Z",
     "shell.execute_reply": "2022-03-22T15:02:17.356997Z"
    },
    "papermill": {
     "duration": 0.0224,
     "end_time": "2022-03-22T15:02:17.357283",
     "exception": false,
     "start_time": "2022-03-22T15:02:17.334883",
     "status": "completed"
    },
    "tags": []
   },
   "outputs": [],
   "source": [
    "start_time_secs = time.time()"
   ]
  },
  {
   "cell_type": "code",
   "execution_count": 10,
   "id": "fd5442bc",
   "metadata": {
    "execution": {
     "iopub.execute_input": "2022-03-22T15:02:17.384155Z",
     "iopub.status.busy": "2022-03-22T15:02:17.383898Z",
     "iopub.status.idle": "2022-03-22T15:02:24.532185Z",
     "shell.execute_reply": "2022-03-22T15:02:24.531791Z"
    },
    "papermill": {
     "duration": 7.165545,
     "end_time": "2022-03-22T15:02:24.532288",
     "exception": false,
     "start_time": "2022-03-22T15:02:17.366743",
     "status": "completed"
    },
    "tags": []
   },
   "outputs": [],
   "source": [
    "###################################\n",
    "# Build the dataset\n",
    "###################################\n",
    "\n",
    "if p.x_transforms_source == []: x_transform_source = None\n",
    "else: x_transform_source = get_chained_transform(p.x_transforms_source) \n",
    "\n",
    "if p.x_transforms_target == []: x_transform_target = None\n",
    "else: x_transform_target = get_chained_transform(p.x_transforms_target)\n",
    "\n",
    "if p.episode_transforms_source == []: episode_transform_source = None\n",
    "else: raise Exception(\"episode_transform_source not implemented\")\n",
    "\n",
    "if p.episode_transforms_target == []: episode_transform_target = None\n",
    "else: raise Exception(\"episode_transform_target not implemented\")\n",
    "\n",
    "\n",
    "eaf_source = Episodic_Accessor_Factory(\n",
    "    labels=p.labels_source,\n",
    "    domains=p.domains_source,\n",
    "    num_examples_per_domain_per_label=p.num_examples_per_domain_per_label_source,\n",
    "    iterator_seed=p.seed,\n",
    "    dataset_seed=p.dataset_seed,\n",
    "    n_shot=p.n_shot,\n",
    "    n_way=p.n_way,\n",
    "    n_query=p.n_query,\n",
    "    train_val_test_k_factors=(p.train_k_factor,p.val_k_factor,p.test_k_factor),\n",
    "    pickle_path=os.path.join(get_datasets_base_path(), p.pickle_name),\n",
    "    x_transform_func=x_transform_source,\n",
    "    example_transform_func=episode_transform_source,\n",
    "    \n",
    ")\n",
    "train_original_source, val_original_source, test_original_source = eaf_source.get_train(), eaf_source.get_val(), eaf_source.get_test()\n",
    "\n",
    "\n",
    "eaf_target = Episodic_Accessor_Factory(\n",
    "    labels=p.labels_target,\n",
    "    domains=p.domains_target,\n",
    "    num_examples_per_domain_per_label=p.num_examples_per_domain_per_label_target,\n",
    "    iterator_seed=p.seed,\n",
    "    dataset_seed=p.dataset_seed,\n",
    "    n_shot=p.n_shot,\n",
    "    n_way=p.n_way,\n",
    "    n_query=p.n_query,\n",
    "    train_val_test_k_factors=(p.train_k_factor,p.val_k_factor,p.test_k_factor),\n",
    "    pickle_path=os.path.join(get_datasets_base_path(), p.pickle_name),\n",
    "    x_transform_func=x_transform_target,\n",
    "    example_transform_func=episode_transform_target,\n",
    ")\n",
    "train_original_target, val_original_target, test_original_target = eaf_target.get_train(), eaf_target.get_val(), eaf_target.get_test()\n",
    "\n",
    "\n",
    "transform_lambda = lambda ex: ex[1] # Original is (<domain>, <episode>) so we strip down to episode only\n",
    "\n",
    "train_processed_source = Lazy_Iterable_Wrapper(train_original_source, transform_lambda)\n",
    "val_processed_source   = Lazy_Iterable_Wrapper(val_original_source, transform_lambda)\n",
    "test_processed_source  = Lazy_Iterable_Wrapper(test_original_source, transform_lambda)\n",
    "\n",
    "train_processed_target = Lazy_Iterable_Wrapper(train_original_target, transform_lambda)\n",
    "val_processed_target   = Lazy_Iterable_Wrapper(val_original_target, transform_lambda)\n",
    "test_processed_target  = Lazy_Iterable_Wrapper(test_original_target, transform_lambda)\n",
    "\n",
    "datasets = EasyDict({\n",
    "    \"source\": {\n",
    "        \"original\": {\"train\":train_original_source, \"val\":val_original_source, \"test\":test_original_source},\n",
    "        \"processed\": {\"train\":train_processed_source, \"val\":val_processed_source, \"test\":test_processed_source}\n",
    "    },\n",
    "    \"target\": {\n",
    "        \"original\": {\"train\":train_original_target, \"val\":val_original_target, \"test\":test_original_target},\n",
    "        \"processed\": {\"train\":train_processed_target, \"val\":val_processed_target, \"test\":test_processed_target}\n",
    "    },\n",
    "})"
   ]
  },
  {
   "cell_type": "code",
   "execution_count": 11,
   "id": "296189d9",
   "metadata": {
    "execution": {
     "iopub.execute_input": "2022-03-22T15:02:24.559764Z",
     "iopub.status.busy": "2022-03-22T15:02:24.559517Z",
     "iopub.status.idle": "2022-03-22T15:02:26.479702Z",
     "shell.execute_reply": "2022-03-22T15:02:26.480254Z"
    },
    "papermill": {
     "duration": 1.933111,
     "end_time": "2022-03-22T15:02:26.480407",
     "exception": false,
     "start_time": "2022-03-22T15:02:24.547296",
     "status": "completed"
    },
    "tags": []
   },
   "outputs": [
    {
     "name": "stdout",
     "output_type": "stream",
     "text": [
      "Visually inspect these to see if they line up with expected values given the transforms\n",
      "x_transforms_source []\n",
      "x_transforms_target []\n",
      "Average magnitude, source: 0.0025955061\n",
      "Average power, source: 7.379712e-06\n"
     ]
    },
    {
     "name": "stdout",
     "output_type": "stream",
     "text": [
      "Average magnitude, target: 0.0031368406\n",
      "Average power, target: 1.2288787e-05\n"
     ]
    }
   ],
   "source": [
    "# Some quick unit tests on the data\n",
    "from steves_utils.transforms import get_average_power, get_average_magnitude\n",
    "\n",
    "q_x, q_y, s_x, s_y, truth = next(iter(train_processed_source))\n",
    "\n",
    "assert q_x.dtype == eval(p.torch_default_dtype)\n",
    "assert s_x.dtype == eval(p.torch_default_dtype)\n",
    "\n",
    "print(\"Visually inspect these to see if they line up with expected values given the transforms\")\n",
    "print('x_transforms_source', p.x_transforms_source)\n",
    "print('x_transforms_target', p.x_transforms_target)\n",
    "print(\"Average magnitude, source:\", get_average_magnitude(q_x[0].numpy()))\n",
    "print(\"Average power, source:\", get_average_power(q_x[0].numpy()))\n",
    "\n",
    "q_x, q_y, s_x, s_y, truth = next(iter(train_processed_target))\n",
    "print(\"Average magnitude, target:\", get_average_magnitude(q_x[0].numpy()))\n",
    "print(\"Average power, target:\", get_average_power(q_x[0].numpy()))\n"
   ]
  },
  {
   "cell_type": "code",
   "execution_count": 12,
   "id": "bbdacba1",
   "metadata": {
    "execution": {
     "iopub.execute_input": "2022-03-22T15:02:26.508066Z",
     "iopub.status.busy": "2022-03-22T15:02:26.507810Z",
     "iopub.status.idle": "2022-03-22T15:02:26.569130Z",
     "shell.execute_reply": "2022-03-22T15:02:26.568777Z"
    },
    "papermill": {
     "duration": 0.075273,
     "end_time": "2022-03-22T15:02:26.569205",
     "exception": false,
     "start_time": "2022-03-22T15:02:26.493932",
     "status": "completed"
    },
    "tags": []
   },
   "outputs": [
    {
     "name": "stdout",
     "output_type": "stream",
     "text": [
      "(2, 256)\n"
     ]
    }
   ],
   "source": [
    "###################################\n",
    "# Build the model\n",
    "###################################\n",
    "model = Steves_Prototypical_Network(x_net, device=p.device, x_shape=(2,256))\n",
    "optimizer = Adam(params=model.parameters(), lr=p.lr)"
   ]
  },
  {
   "cell_type": "code",
   "execution_count": 13,
   "id": "22b39ac5",
   "metadata": {
    "execution": {
     "iopub.execute_input": "2022-03-22T15:02:26.596503Z",
     "iopub.status.busy": "2022-03-22T15:02:26.596253Z",
     "iopub.status.idle": "2022-03-22T15:49:07.718117Z",
     "shell.execute_reply": "2022-03-22T15:49:07.717887Z"
    },
    "papermill": {
     "duration": 2801.135199,
     "end_time": "2022-03-22T15:49:07.718177",
     "exception": false,
     "start_time": "2022-03-22T15:02:26.582978",
     "status": "completed"
    },
    "tags": []
   },
   "outputs": [
    {
     "name": "stdout",
     "output_type": "stream",
     "text": [
      "epoch: 1, [batch: 1 / 12600], examples_per_second: 27.5669, train_label_loss: 2.6996, \n"
     ]
    },
    {
     "name": "stdout",
     "output_type": "stream",
     "text": [
      "epoch: 1, [batch: 1260 / 12600], examples_per_second: 3250.6272, train_label_loss: 1.0923, \n"
     ]
    },
    {
     "name": "stdout",
     "output_type": "stream",
     "text": [
      "epoch: 1, [batch: 2520 / 12600], examples_per_second: 3234.7664, train_label_loss: 0.3519, \n"
     ]
    },
    {
     "name": "stdout",
     "output_type": "stream",
     "text": [
      "epoch: 1, [batch: 3780 / 12600], examples_per_second: 3228.4221, train_label_loss: 0.8228, \n"
     ]
    },
    {
     "name": "stdout",
     "output_type": "stream",
     "text": [
      "epoch: 1, [batch: 5040 / 12600], examples_per_second: 3209.4426, train_label_loss: 0.9112, \n"
     ]
    },
    {
     "name": "stdout",
     "output_type": "stream",
     "text": [
      "epoch: 1, [batch: 6300 / 12600], examples_per_second: 3212.2445, train_label_loss: 0.3056, \n"
     ]
    },
    {
     "name": "stdout",
     "output_type": "stream",
     "text": [
      "epoch: 1, [batch: 7560 / 12600], examples_per_second: 3213.2521, train_label_loss: 0.6938, \n"
     ]
    },
    {
     "name": "stdout",
     "output_type": "stream",
     "text": [
      "epoch: 1, [batch: 8820 / 12600], examples_per_second: 3216.3428, train_label_loss: 0.3395, \n"
     ]
    },
    {
     "name": "stdout",
     "output_type": "stream",
     "text": [
      "epoch: 1, [batch: 10080 / 12600], examples_per_second: 3225.3308, train_label_loss: 0.3099, \n"
     ]
    },
    {
     "name": "stdout",
     "output_type": "stream",
     "text": [
      "epoch: 1, [batch: 11340 / 12600], examples_per_second: 3216.3419, train_label_loss: 0.6034, \n"
     ]
    },
    {
     "name": "stdout",
     "output_type": "stream",
     "text": [
      "=============================================================\n",
      "epoch: 1, source_val_acc_label: 0.7391, target_val_acc_label: 0.6432, source_val_label_loss: 5.2005, target_val_label_loss: 3.0352, \n",
      "=============================================================\n"
     ]
    },
    {
     "name": "stdout",
     "output_type": "stream",
     "text": [
      "New best\n"
     ]
    },
    {
     "name": "stdout",
     "output_type": "stream",
     "text": [
      "epoch: 2, [batch: 1 / 12600], examples_per_second: 2.2828, train_label_loss: 13.5353, \n"
     ]
    },
    {
     "name": "stdout",
     "output_type": "stream",
     "text": [
      "epoch: 2, [batch: 1260 / 12600], examples_per_second: 3251.2370, train_label_loss: 0.5089, \n"
     ]
    },
    {
     "name": "stdout",
     "output_type": "stream",
     "text": [
      "epoch: 2, [batch: 2520 / 12600], examples_per_second: 3253.9237, train_label_loss: 0.4253, \n"
     ]
    },
    {
     "name": "stdout",
     "output_type": "stream",
     "text": [
      "epoch: 2, [batch: 3780 / 12600], examples_per_second: 3267.8158, train_label_loss: 0.5855, \n"
     ]
    },
    {
     "name": "stdout",
     "output_type": "stream",
     "text": [
      "epoch: 2, [batch: 5040 / 12600], examples_per_second: 3237.5752, train_label_loss: 0.7502, \n"
     ]
    },
    {
     "name": "stdout",
     "output_type": "stream",
     "text": [
      "epoch: 2, [batch: 6300 / 12600], examples_per_second: 3249.6974, train_label_loss: 0.3678, \n"
     ]
    },
    {
     "name": "stdout",
     "output_type": "stream",
     "text": [
      "epoch: 2, [batch: 7560 / 12600], examples_per_second: 3252.6929, train_label_loss: 0.3530, \n"
     ]
    },
    {
     "name": "stdout",
     "output_type": "stream",
     "text": [
      "epoch: 2, [batch: 8820 / 12600], examples_per_second: 3241.3380, train_label_loss: 0.2750, \n"
     ]
    },
    {
     "name": "stdout",
     "output_type": "stream",
     "text": [
      "epoch: 2, [batch: 10080 / 12600], examples_per_second: 3248.7996, train_label_loss: 0.2215, \n"
     ]
    },
    {
     "name": "stdout",
     "output_type": "stream",
     "text": [
      "epoch: 2, [batch: 11340 / 12600], examples_per_second: 3253.8112, train_label_loss: 0.1880, \n"
     ]
    },
    {
     "name": "stdout",
     "output_type": "stream",
     "text": [
      "=============================================================\n",
      "epoch: 2, source_val_acc_label: 0.8516, target_val_acc_label: 0.7585, source_val_label_loss: 0.4007, target_val_label_loss: 0.6903, \n",
      "=============================================================\n"
     ]
    },
    {
     "name": "stdout",
     "output_type": "stream",
     "text": [
      "New best\n"
     ]
    },
    {
     "name": "stdout",
     "output_type": "stream",
     "text": [
      "epoch: 3, [batch: 1 / 12600], examples_per_second: 2.2943, train_label_loss: 0.3386, \n"
     ]
    },
    {
     "name": "stdout",
     "output_type": "stream",
     "text": [
      "epoch: 3, [batch: 1260 / 12600], examples_per_second: 3225.7336, train_label_loss: 0.1398, \n"
     ]
    },
    {
     "name": "stdout",
     "output_type": "stream",
     "text": [
      "epoch: 3, [batch: 2520 / 12600], examples_per_second: 3234.8172, train_label_loss: 0.5650, \n"
     ]
    },
    {
     "name": "stdout",
     "output_type": "stream",
     "text": [
      "epoch: 3, [batch: 3780 / 12600], examples_per_second: 3248.6002, train_label_loss: 0.3977, \n"
     ]
    },
    {
     "name": "stdout",
     "output_type": "stream",
     "text": [
      "epoch: 3, [batch: 5040 / 12600], examples_per_second: 3228.7069, train_label_loss: 0.2124, \n"
     ]
    },
    {
     "name": "stdout",
     "output_type": "stream",
     "text": [
      "epoch: 3, [batch: 6300 / 12600], examples_per_second: 3244.0397, train_label_loss: 0.1743, \n"
     ]
    },
    {
     "name": "stdout",
     "output_type": "stream",
     "text": [
      "epoch: 3, [batch: 7560 / 12600], examples_per_second: 3247.0888, train_label_loss: 0.3808, \n"
     ]
    },
    {
     "name": "stdout",
     "output_type": "stream",
     "text": [
      "epoch: 3, [batch: 8820 / 12600], examples_per_second: 3220.8562, train_label_loss: 0.2906, \n"
     ]
    },
    {
     "name": "stdout",
     "output_type": "stream",
     "text": [
      "epoch: 3, [batch: 10080 / 12600], examples_per_second: 3242.7291, train_label_loss: 0.0778, \n"
     ]
    },
    {
     "name": "stdout",
     "output_type": "stream",
     "text": [
      "epoch: 3, [batch: 11340 / 12600], examples_per_second: 3245.4358, train_label_loss: 0.3620, \n"
     ]
    },
    {
     "name": "stdout",
     "output_type": "stream",
     "text": [
      "=============================================================\n",
      "epoch: 3, source_val_acc_label: 0.8696, target_val_acc_label: 0.7662, source_val_label_loss: 0.3585, target_val_label_loss: 0.6641, \n",
      "=============================================================\n"
     ]
    },
    {
     "name": "stdout",
     "output_type": "stream",
     "text": [
      "New best\n"
     ]
    },
    {
     "name": "stdout",
     "output_type": "stream",
     "text": [
      "epoch: 4, [batch: 1 / 12600], examples_per_second: 2.2955, train_label_loss: 0.2749, \n"
     ]
    },
    {
     "name": "stdout",
     "output_type": "stream",
     "text": [
      "epoch: 4, [batch: 1260 / 12600], examples_per_second: 3245.3158, train_label_loss: 0.3963, \n"
     ]
    },
    {
     "name": "stdout",
     "output_type": "stream",
     "text": [
      "epoch: 4, [batch: 2520 / 12600], examples_per_second: 3245.8362, train_label_loss: 0.2836, \n"
     ]
    },
    {
     "name": "stdout",
     "output_type": "stream",
     "text": [
      "epoch: 4, [batch: 3780 / 12600], examples_per_second: 3261.3041, train_label_loss: 0.3448, \n"
     ]
    },
    {
     "name": "stdout",
     "output_type": "stream",
     "text": [
      "epoch: 4, [batch: 5040 / 12600], examples_per_second: 3241.5696, train_label_loss: 0.4267, \n"
     ]
    },
    {
     "name": "stdout",
     "output_type": "stream",
     "text": [
      "epoch: 4, [batch: 6300 / 12600], examples_per_second: 3235.5888, train_label_loss: 0.1438, \n"
     ]
    },
    {
     "name": "stdout",
     "output_type": "stream",
     "text": [
      "epoch: 4, [batch: 7560 / 12600], examples_per_second: 3244.1882, train_label_loss: 0.3392, \n"
     ]
    },
    {
     "name": "stdout",
     "output_type": "stream",
     "text": [
      "epoch: 4, [batch: 8820 / 12600], examples_per_second: 3232.2299, train_label_loss: 0.3046, \n"
     ]
    },
    {
     "name": "stdout",
     "output_type": "stream",
     "text": [
      "epoch: 4, [batch: 10080 / 12600], examples_per_second: 3250.6792, train_label_loss: 0.2275, \n"
     ]
    },
    {
     "name": "stdout",
     "output_type": "stream",
     "text": [
      "epoch: 4, [batch: 11340 / 12600], examples_per_second: 3255.7930, train_label_loss: 0.3360, \n"
     ]
    },
    {
     "name": "stdout",
     "output_type": "stream",
     "text": [
      "=============================================================\n",
      "epoch: 4, source_val_acc_label: 0.8755, target_val_acc_label: 0.7699, source_val_label_loss: 0.3505, target_val_label_loss: 0.6468, \n",
      "=============================================================\n"
     ]
    },
    {
     "name": "stdout",
     "output_type": "stream",
     "text": [
      "New best\n"
     ]
    },
    {
     "name": "stdout",
     "output_type": "stream",
     "text": [
      "epoch: 5, [batch: 1 / 12600], examples_per_second: 2.2968, train_label_loss: 0.1980, \n"
     ]
    },
    {
     "name": "stdout",
     "output_type": "stream",
     "text": [
      "epoch: 5, [batch: 1260 / 12600], examples_per_second: 3246.0208, train_label_loss: 0.1175, \n"
     ]
    },
    {
     "name": "stdout",
     "output_type": "stream",
     "text": [
      "epoch: 5, [batch: 2520 / 12600], examples_per_second: 3254.8964, train_label_loss: 0.2377, \n"
     ]
    },
    {
     "name": "stdout",
     "output_type": "stream",
     "text": [
      "epoch: 5, [batch: 3780 / 12600], examples_per_second: 3253.4950, train_label_loss: 0.1587, \n"
     ]
    },
    {
     "name": "stdout",
     "output_type": "stream",
     "text": [
      "epoch: 5, [batch: 5040 / 12600], examples_per_second: 3239.2395, train_label_loss: 0.1663, \n"
     ]
    },
    {
     "name": "stdout",
     "output_type": "stream",
     "text": [
      "epoch: 5, [batch: 6300 / 12600], examples_per_second: 3220.4262, train_label_loss: 0.1163, \n"
     ]
    },
    {
     "name": "stdout",
     "output_type": "stream",
     "text": [
      "epoch: 5, [batch: 7560 / 12600], examples_per_second: 3215.2183, train_label_loss: 0.2472, \n"
     ]
    },
    {
     "name": "stdout",
     "output_type": "stream",
     "text": [
      "epoch: 5, [batch: 8820 / 12600], examples_per_second: 3134.4188, train_label_loss: 0.2540, \n"
     ]
    },
    {
     "name": "stdout",
     "output_type": "stream",
     "text": [
      "epoch: 5, [batch: 10080 / 12600], examples_per_second: 3215.9302, train_label_loss: 0.2044, \n"
     ]
    },
    {
     "name": "stdout",
     "output_type": "stream",
     "text": [
      "epoch: 5, [batch: 11340 / 12600], examples_per_second: 3220.7284, train_label_loss: 0.0866, \n"
     ]
    },
    {
     "name": "stdout",
     "output_type": "stream",
     "text": [
      "=============================================================\n",
      "epoch: 5, source_val_acc_label: 0.8784, target_val_acc_label: 0.7680, source_val_label_loss: 0.3458, target_val_label_loss: 0.6594, \n",
      "=============================================================\n"
     ]
    },
    {
     "name": "stdout",
     "output_type": "stream",
     "text": [
      "epoch: 6, [batch: 1 / 12600], examples_per_second: 2.2861, train_label_loss: 0.3436, \n"
     ]
    },
    {
     "name": "stdout",
     "output_type": "stream",
     "text": [
      "epoch: 6, [batch: 1260 / 12600], examples_per_second: 3227.4009, train_label_loss: 0.0493, \n"
     ]
    },
    {
     "name": "stdout",
     "output_type": "stream",
     "text": [
      "epoch: 6, [batch: 2520 / 12600], examples_per_second: 3225.6176, train_label_loss: 0.0806, \n"
     ]
    },
    {
     "name": "stdout",
     "output_type": "stream",
     "text": [
      "epoch: 6, [batch: 3780 / 12600], examples_per_second: 3232.3069, train_label_loss: 0.2347, \n"
     ]
    },
    {
     "name": "stdout",
     "output_type": "stream",
     "text": [
      "epoch: 6, [batch: 5040 / 12600], examples_per_second: 3200.6395, train_label_loss: 0.5195, \n"
     ]
    },
    {
     "name": "stdout",
     "output_type": "stream",
     "text": [
      "epoch: 6, [batch: 6300 / 12600], examples_per_second: 3221.9773, train_label_loss: 0.3394, \n"
     ]
    },
    {
     "name": "stdout",
     "output_type": "stream",
     "text": [
      "epoch: 6, [batch: 7560 / 12600], examples_per_second: 3208.6020, train_label_loss: 0.1672, \n"
     ]
    },
    {
     "name": "stdout",
     "output_type": "stream",
     "text": [
      "epoch: 6, [batch: 8820 / 12600], examples_per_second: 3237.5321, train_label_loss: 0.1075, \n"
     ]
    },
    {
     "name": "stdout",
     "output_type": "stream",
     "text": [
      "epoch: 6, [batch: 10080 / 12600], examples_per_second: 3248.8479, train_label_loss: 0.1118, \n"
     ]
    },
    {
     "name": "stdout",
     "output_type": "stream",
     "text": [
      "epoch: 6, [batch: 11340 / 12600], examples_per_second: 3246.1814, train_label_loss: 0.2927, \n"
     ]
    },
    {
     "name": "stdout",
     "output_type": "stream",
     "text": [
      "=============================================================\n",
      "epoch: 6, source_val_acc_label: 0.8769, target_val_acc_label: 0.7624, source_val_label_loss: 0.3525, target_val_label_loss: 0.6886, \n",
      "=============================================================\n"
     ]
    },
    {
     "name": "stdout",
     "output_type": "stream",
     "text": [
      "epoch: 7, [batch: 1 / 12600], examples_per_second: 2.2972, train_label_loss: 0.1725, \n"
     ]
    },
    {
     "name": "stdout",
     "output_type": "stream",
     "text": [
      "epoch: 7, [batch: 1260 / 12600], examples_per_second: 3245.0344, train_label_loss: 0.2031, \n"
     ]
    },
    {
     "name": "stdout",
     "output_type": "stream",
     "text": [
      "epoch: 7, [batch: 2520 / 12600], examples_per_second: 3250.6950, train_label_loss: 0.5734, \n"
     ]
    },
    {
     "name": "stdout",
     "output_type": "stream",
     "text": [
      "epoch: 7, [batch: 3780 / 12600], examples_per_second: 3246.4043, train_label_loss: 0.1246, \n"
     ]
    },
    {
     "name": "stdout",
     "output_type": "stream",
     "text": [
      "epoch: 7, [batch: 5040 / 12600], examples_per_second: 3234.8339, train_label_loss: 0.2724, \n"
     ]
    },
    {
     "name": "stdout",
     "output_type": "stream",
     "text": [
      "epoch: 7, [batch: 6300 / 12600], examples_per_second: 3243.0318, train_label_loss: 0.1410, \n"
     ]
    },
    {
     "name": "stdout",
     "output_type": "stream",
     "text": [
      "epoch: 7, [batch: 7560 / 12600], examples_per_second: 3218.5954, train_label_loss: 0.2345, \n"
     ]
    },
    {
     "name": "stdout",
     "output_type": "stream",
     "text": [
      "epoch: 7, [batch: 8820 / 12600], examples_per_second: 3176.8181, train_label_loss: 0.1170, \n"
     ]
    },
    {
     "name": "stdout",
     "output_type": "stream",
     "text": [
      "epoch: 7, [batch: 10080 / 12600], examples_per_second: 3230.5956, train_label_loss: 0.0639, \n"
     ]
    },
    {
     "name": "stdout",
     "output_type": "stream",
     "text": [
      "epoch: 7, [batch: 11340 / 12600], examples_per_second: 3246.3007, train_label_loss: 0.2470, \n"
     ]
    },
    {
     "name": "stdout",
     "output_type": "stream",
     "text": [
      "=============================================================\n",
      "epoch: 7, source_val_acc_label: 0.8820, target_val_acc_label: 0.7605, source_val_label_loss: 0.3546, target_val_label_loss: 0.7102, \n",
      "=============================================================\n"
     ]
    },
    {
     "name": "stdout",
     "output_type": "stream",
     "text": [
      "epoch: 8, [batch: 1 / 12600], examples_per_second: 2.2873, train_label_loss: 0.3324, \n"
     ]
    },
    {
     "name": "stdout",
     "output_type": "stream",
     "text": [
      "epoch: 8, [batch: 1260 / 12600], examples_per_second: 3252.2098, train_label_loss: 0.2350, \n"
     ]
    },
    {
     "name": "stdout",
     "output_type": "stream",
     "text": [
      "epoch: 8, [batch: 2520 / 12600], examples_per_second: 3252.2826, train_label_loss: 0.1599, \n"
     ]
    },
    {
     "name": "stdout",
     "output_type": "stream",
     "text": [
      "epoch: 8, [batch: 3780 / 12600], examples_per_second: 3244.9989, train_label_loss: 0.0660, \n"
     ]
    },
    {
     "name": "stdout",
     "output_type": "stream",
     "text": [
      "epoch: 8, [batch: 5040 / 12600], examples_per_second: 3244.9434, train_label_loss: 0.1597, \n"
     ]
    },
    {
     "name": "stdout",
     "output_type": "stream",
     "text": [
      "epoch: 8, [batch: 6300 / 12600], examples_per_second: 3245.6945, train_label_loss: 0.1394, \n"
     ]
    },
    {
     "name": "stdout",
     "output_type": "stream",
     "text": [
      "epoch: 8, [batch: 7560 / 12600], examples_per_second: 3248.9294, train_label_loss: 0.0632, \n"
     ]
    },
    {
     "name": "stdout",
     "output_type": "stream",
     "text": [
      "epoch: 8, [batch: 8820 / 12600], examples_per_second: 3241.3375, train_label_loss: 0.1187, \n"
     ]
    },
    {
     "name": "stdout",
     "output_type": "stream",
     "text": [
      "epoch: 8, [batch: 10080 / 12600], examples_per_second: 3245.0078, train_label_loss: 0.1639, \n"
     ]
    },
    {
     "name": "stdout",
     "output_type": "stream",
     "text": [
      "epoch: 8, [batch: 11340 / 12600], examples_per_second: 3245.3149, train_label_loss: 0.1450, \n"
     ]
    },
    {
     "name": "stdout",
     "output_type": "stream",
     "text": [
      "=============================================================\n",
      "epoch: 8, source_val_acc_label: 0.8820, target_val_acc_label: 0.7654, source_val_label_loss: 0.3572, target_val_label_loss: 0.7323, \n",
      "=============================================================\n"
     ]
    },
    {
     "name": "stdout",
     "output_type": "stream",
     "text": [
      "Patience (3) exhausted\n"
     ]
    }
   ],
   "source": [
    "###################################\n",
    "# train\n",
    "###################################\n",
    "jig = PTN_Train_Eval_Test_Jig(model, p.BEST_MODEL_PATH, p.device)\n",
    "\n",
    "jig.train(\n",
    "    train_iterable=datasets.source.processed.train,\n",
    "    source_val_iterable=datasets.source.processed.val,\n",
    "    target_val_iterable=datasets.target.processed.val,\n",
    "    num_epochs=p.n_epoch,\n",
    "    num_logs_per_epoch=p.NUM_LOGS_PER_EPOCH,\n",
    "    patience=p.patience,\n",
    "    optimizer=optimizer,\n",
    "    criteria_for_best=p.criteria_for_best,\n",
    ")"
   ]
  },
  {
   "cell_type": "code",
   "execution_count": 14,
   "id": "31e8fabf",
   "metadata": {
    "execution": {
     "iopub.execute_input": "2022-03-22T15:49:07.774437Z",
     "iopub.status.busy": "2022-03-22T15:49:07.774180Z",
     "iopub.status.idle": "2022-03-22T15:49:07.789404Z",
     "shell.execute_reply": "2022-03-22T15:49:07.788987Z"
    },
    "papermill": {
     "duration": 0.04462,
     "end_time": "2022-03-22T15:49:07.789512",
     "exception": false,
     "start_time": "2022-03-22T15:49:07.744892",
     "status": "completed"
    },
    "tags": []
   },
   "outputs": [],
   "source": [
    "total_experiment_time_secs = time.time() - start_time_secs"
   ]
  },
  {
   "cell_type": "code",
   "execution_count": 15,
   "id": "87b9595b",
   "metadata": {
    "execution": {
     "iopub.execute_input": "2022-03-22T15:49:07.854344Z",
     "iopub.status.busy": "2022-03-22T15:49:07.854077Z",
     "iopub.status.idle": "2022-03-22T15:53:06.859735Z",
     "shell.execute_reply": "2022-03-22T15:53:06.859197Z"
    },
    "papermill": {
     "duration": 239.037608,
     "end_time": "2022-03-22T15:53:06.859847",
     "exception": false,
     "start_time": "2022-03-22T15:49:07.822239",
     "status": "completed"
    },
    "tags": []
   },
   "outputs": [],
   "source": [
    "###################################\n",
    "# Evaluate the model\n",
    "###################################\n",
    "source_test_label_accuracy, source_test_label_loss = jig.test(datasets.source.processed.test)\n",
    "target_test_label_accuracy, target_test_label_loss = jig.test(datasets.target.processed.test)\n",
    "\n",
    "source_val_label_accuracy, source_val_label_loss = jig.test(datasets.source.processed.val)\n",
    "target_val_label_accuracy, target_val_label_loss = jig.test(datasets.target.processed.val)\n",
    "\n",
    "history = jig.get_history()\n",
    "\n",
    "total_epochs_trained = len(history[\"epoch_indices\"])\n",
    "\n",
    "val_dl = Iterable_Aggregator((datasets.source.original.val,datasets.target.original.val))\n",
    "\n",
    "confusion = ptn_confusion_by_domain_over_dataloader(model, p.device, val_dl)\n",
    "per_domain_accuracy = per_domain_accuracy_from_confusion(confusion)\n",
    "\n",
    "# Add a key to per_domain_accuracy for if it was a source domain\n",
    "for domain, accuracy in per_domain_accuracy.items():\n",
    "    per_domain_accuracy[domain] = {\n",
    "        \"accuracy\": accuracy,\n",
    "        \"source?\": domain in p.domains_source\n",
    "    }\n",
    "\n",
    "# Do an independent accuracy assesment JUST TO BE SURE!\n",
    "# _source_test_label_accuracy = independent_accuracy_assesment(model, datasets.source.processed.test, p.device)\n",
    "# _target_test_label_accuracy = independent_accuracy_assesment(model, datasets.target.processed.test, p.device)\n",
    "# _source_val_label_accuracy = independent_accuracy_assesment(model, datasets.source.processed.val, p.device)\n",
    "# _target_val_label_accuracy = independent_accuracy_assesment(model, datasets.target.processed.val, p.device)\n",
    "\n",
    "# assert(_source_test_label_accuracy == source_test_label_accuracy)\n",
    "# assert(_target_test_label_accuracy == target_test_label_accuracy)\n",
    "# assert(_source_val_label_accuracy == source_val_label_accuracy)\n",
    "# assert(_target_val_label_accuracy == target_val_label_accuracy)\n",
    "\n",
    "experiment = {\n",
    "    \"experiment_name\": p.experiment_name,\n",
    "    \"parameters\": dict(p),\n",
    "    \"results\": {\n",
    "        \"source_test_label_accuracy\": source_test_label_accuracy,\n",
    "        \"source_test_label_loss\": source_test_label_loss,\n",
    "        \"target_test_label_accuracy\": target_test_label_accuracy,\n",
    "        \"target_test_label_loss\": target_test_label_loss,\n",
    "        \"source_val_label_accuracy\": source_val_label_accuracy,\n",
    "        \"source_val_label_loss\": source_val_label_loss,\n",
    "        \"target_val_label_accuracy\": target_val_label_accuracy,\n",
    "        \"target_val_label_loss\": target_val_label_loss,\n",
    "        \"total_epochs_trained\": total_epochs_trained,\n",
    "        \"total_experiment_time_secs\": total_experiment_time_secs,\n",
    "        \"confusion\": confusion,\n",
    "        \"per_domain_accuracy\": per_domain_accuracy,\n",
    "    },\n",
    "    \"history\": history,\n",
    "    \"dataset_metrics\": get_dataset_metrics(datasets, \"ptn\"),\n",
    "}"
   ]
  },
  {
   "cell_type": "code",
   "execution_count": 16,
   "id": "54a21829",
   "metadata": {
    "execution": {
     "iopub.execute_input": "2022-03-22T15:53:06.928329Z",
     "iopub.status.busy": "2022-03-22T15:53:06.928079Z",
     "iopub.status.idle": "2022-03-22T15:53:07.053880Z",
     "shell.execute_reply": "2022-03-22T15:53:07.054281Z"
    },
    "papermill": {
     "duration": 0.155848,
     "end_time": "2022-03-22T15:53:07.054408",
     "exception": false,
     "start_time": "2022-03-22T15:53:06.898560",
     "status": "completed"
    },
    "tags": []
   },
   "outputs": [
    {
     "data": {
      "image/png": "[encoded data removed]",
      "text/plain": [
       "<Figure size 1080x504 with 1 Axes>"
      ]
     },
     "metadata": {
      "needs_background": "light"
     },
     "output_type": "display_data"
    }
   ],
   "source": [
    "ax = get_loss_curve(experiment)\n",
    "plt.show()"
   ]
  },
  {
   "cell_type": "code",
   "execution_count": 17,
   "id": "fd8a0f60",
   "metadata": {
    "execution": {
     "iopub.execute_input": "2022-03-22T15:53:07.116299Z",
     "iopub.status.busy": "2022-03-22T15:53:07.116054Z",
     "iopub.status.idle": "2022-03-22T15:53:07.258931Z",
     "shell.execute_reply": "2022-03-22T15:53:07.259369Z"
    },
    "papermill": {
     "duration": 0.173211,
     "end_time": "2022-03-22T15:53:07.259503",
     "exception": false,
     "start_time": "2022-03-22T15:53:07.086292",
     "status": "completed"
    },
    "tags": []
   },
   "outputs": [
    {
     "data": {
      "text/plain": [
       "<AxesSubplot:title={'center':'Results'}>"
      ]
     },
     "execution_count": 17,
     "metadata": {},
     "output_type": "execute_result"
    },
    {
     "data": {
      "image/png": "[encoded data removed]",
      "text/plain": [
       "<Figure size 1080x504 with 1 Axes>"
      ]
     },
     "metadata": {
      "needs_background": "light"
     },
     "output_type": "display_data"
    }
   ],
   "source": [
    "get_results_table(experiment)"
   ]
  },
  {
   "cell_type": "code",
   "execution_count": 18,
   "id": "cf8dc689",
   "metadata": {
    "execution": {
     "iopub.execute_input": "2022-03-22T15:53:07.325142Z",
     "iopub.status.busy": "2022-03-22T15:53:07.324885Z",
     "iopub.status.idle": "2022-03-22T15:53:07.442859Z",
     "shell.execute_reply": "2022-03-22T15:53:07.442426Z"
    },
    "papermill": {
     "duration": 0.149395,
     "end_time": "2022-03-22T15:53:07.442962",
     "exception": false,
     "start_time": "2022-03-22T15:53:07.293567",
     "status": "completed"
    },
    "tags": []
   },
   "outputs": [
    {
     "data": {
      "text/plain": [
       "<AxesSubplot:title={'center':'Per Domain Validation Accuracy'}, xlabel='domain'>"
      ]
     },
     "execution_count": 18,
     "metadata": {},
     "output_type": "execute_result"
    },
    {
     "data": {
      "image/png": "[encoded data removed]",
      "text/plain": [
       "<Figure size 1080x504 with 1 Axes>"
      ]
     },
     "metadata": {
      "needs_background": "light"
     },
     "output_type": "display_data"
    }
   ],
   "source": [
    "get_domain_accuracies(experiment)"
   ]
  },
  {
   "cell_type": "code",
   "execution_count": 19,
   "id": "a74ae082",
   "metadata": {
    "execution": {
     "iopub.execute_input": "2022-03-22T15:53:07.509502Z",
     "iopub.status.busy": "2022-03-22T15:53:07.509239Z",
     "iopub.status.idle": "2022-03-22T15:53:07.526383Z",
     "shell.execute_reply": "2022-03-22T15:53:07.526784Z"
    },
    "papermill": {
     "duration": 0.049645,
     "end_time": "2022-03-22T15:53:07.526904",
     "exception": false,
     "start_time": "2022-03-22T15:53:07.477259",
     "status": "completed"
    },
    "tags": []
   },
   "outputs": [
    {
     "name": "stdout",
     "output_type": "stream",
     "text": [
      "Source Test Label Accuracy: 0.8752083333333334 Target Test Label Accuracy: 0.7714583333333334\n",
      "Source Val Label Accuracy: 0.8754861111111111 Target Val Label Accuracy: 0.7698854166666667\n"
     ]
    }
   ],
   "source": [
    "print(\"Source Test Label Accuracy:\", experiment[\"results\"][\"source_test_label_accuracy\"], \"Target Test Label Accuracy:\", experiment[\"results\"][\"target_test_label_accuracy\"])\n",
    "print(\"Source Val Label Accuracy:\", experiment[\"results\"][\"source_val_label_accuracy\"], \"Target Val Label Accuracy:\", experiment[\"results\"][\"target_val_label_accuracy\"])"
   ]
  },
  {
   "cell_type": "code",
   "execution_count": 20,
   "id": "dacca602",
   "metadata": {
    "execution": {
     "iopub.execute_input": "2022-03-22T15:53:07.594256Z",
     "iopub.status.busy": "2022-03-22T15:53:07.593658Z",
     "iopub.status.idle": "2022-03-22T15:53:07.611686Z",
     "shell.execute_reply": "2022-03-22T15:53:07.611204Z"
    },
    "papermill": {
     "duration": 0.049874,
     "end_time": "2022-03-22T15:53:07.611785",
     "exception": false,
     "start_time": "2022-03-22T15:53:07.561911",
     "status": "completed"
    },
    "tags": [
     "experiment_json"
    ]
   },
   "outputs": [
    {
     "data": {
      "text/plain": [
       "'{\"experiment_name\": \"tuned_1v2:oracle.run1\", \"parameters\": {\"experiment_name\": \"tuned_1v2:oracle.run1\", \"device\": \"cuda\", \"lr\": 0.0001, \"labels_source\": [\"3123D52\", \"3123D65\", \"3123D79\", \"3123D80\", \"3123D54\", \"3123D70\", \"3123D7B\", \"3123D89\", \"3123D58\", \"3123D76\", \"3123D7D\", \"3123EFE\", \"3123D64\", \"3123D78\", \"3123D7E\", \"3124E4A\"], \"labels_target\": [\"3123D52\", \"3123D65\", \"3123D79\", \"3123D80\", \"3123D54\", \"3123D70\", \"3123D7B\", \"3123D89\", \"3123D58\", \"3123D76\", \"3123D7D\", \"3123EFE\", \"3123D64\", \"3123D78\", \"3123D7E\", \"3124E4A\"], \"episode_transforms_source\": [], \"episode_transforms_target\": [], \"domains_source\": [8, 32, 50], \"domains_target\": [14, 20, 26, 38, 44], \"num_examples_per_domain_per_label_source\": -1, \"num_examples_per_domain_per_label_target\": -1, \"n_shot\": 3, \"n_way\": 16, \"n_query\": 2, \"train_k_factor\": 3, \"val_k_factor\": 2, \"test_k_factor\": 2, \"torch_default_dtype\": \"torch.float32\", \"n_epoch\": 50, \"patience\": 3, \"criteria_for_best\": \"target_accuracy\", \"x_net\": [{\"class\": \"nnReshape\", \"kargs\": {\"shape\": [-1, 1, 2, 256]}}, {\"class\": \"Conv2d\", \"kargs\": {\"in_channels\": 1, \"out_channels\": 256, \"kernel_size\": [1, 7], \"bias\": false, \"padding\": [0, 3]}}, {\"class\": \"ReLU\", \"kargs\": {\"inplace\": true}}, {\"class\": \"BatchNorm2d\", \"kargs\": {\"num_features\": 256}}, {\"class\": \"Conv2d\", \"kargs\": {\"in_channels\": 256, \"out_channels\": 80, \"kernel_size\": [2, 7], \"bias\": true, \"padding\": [0, 3]}}, {\"class\": \"ReLU\", \"kargs\": {\"inplace\": true}}, {\"class\": \"BatchNorm2d\", \"kargs\": {\"num_features\": 80}}, {\"class\": \"Flatten\", \"kargs\": {}}, {\"class\": \"Linear\", \"kargs\": {\"in_features\": 20480, \"out_features\": 256}}, {\"class\": \"ReLU\", \"kargs\": {\"inplace\": true}}, {\"class\": \"BatchNorm1d\", \"kargs\": {\"num_features\": 256}}, {\"class\": \"Linear\", \"kargs\": {\"in_features\": 256, \"out_features\": 256}}], \"NUM_LOGS_PER_EPOCH\": 10, \"BEST_MODEL_PATH\": \"./best_model.pth\", \"pickle_name\": \"oracle.Run1_10kExamples_stratified_ds.2022A.pkl\", \"x_transforms_source\": [], \"x_transforms_target\": [], \"dataset_seed\": 7, \"seed\": 7}, \"results\": {\"source_test_label_accuracy\": 0.8752083333333334, \"source_test_label_loss\": 0.3521929383277893, \"target_test_label_accuracy\": 0.7714583333333334, \"target_test_label_loss\": 0.6410027742385864, \"source_val_label_accuracy\": 0.8754861111111111, \"source_val_label_loss\": 0.3504806160926819, \"target_val_label_accuracy\": 0.7698854166666667, \"target_val_label_loss\": 0.6467880010604858, \"total_epochs_trained\": 8, \"total_experiment_time_secs\": 2810.4314334392548, \"confusion\": {\"50\": {\"0\": {\"0\": 1142, \"2\": 43, \"10\": 15}, \"4\": {\"4\": 1032, \"7\": 90, \"5\": 33, \"6\": 17, \"15\": 28}, \"14\": {\"14\": 1199, \"2\": 1}, \"12\": {\"12\": 1125, \"9\": 50, \"11\": 25}, \"8\": {\"8\": 1196, \"10\": 4}, \"7\": {\"7\": 1088, \"4\": 36, \"5\": 76}, \"13\": {\"13\": 1195, \"1\": 5}, \"5\": {\"5\": 529, \"7\": 317, \"6\": 218, \"4\": 68, \"13\": 60, \"15\": 4, \"1\": 4}, \"15\": {\"15\": 1111, \"6\": 70, \"11\": 7, \"9\": 3, \"5\": 4, \"4\": 5}, \"10\": {\"10\": 1175, \"8\": 15, \"0\": 10}, \"3\": {\"3\": 1200}, \"9\": {\"9\": 1022, \"12\": 88, \"11\": 84, \"15\": 6}, \"6\": {\"6\": 997, \"5\": 127, \"15\": 76}, \"1\": {\"1\": 1155, \"13\": 33, \"0\": 9, \"11\": 2, \"10\": 1}, \"11\": {\"11\": 1115, \"6\": 1, \"12\": 31, \"15\": 16, \"9\": 37}, \"2\": {\"2\": 1147, \"0\": 53}}, \"8\": {\"1\": {\"11\": 184, \"10\": 58, \"1\": 909, \"5\": 33, \"4\": 14, \"6\": 1, \"13\": 1}, \"11\": {\"1\": 371, \"11\": 710, \"14\": 53, \"8\": 25, \"4\": 27, \"6\": 5, \"5\": 5, \"10\": 4}, \"3\": {\"3\": 1192, \"2\": 8}, \"6\": {\"7\": 209, \"6\": 948, \"13\": 20, \"8\": 4, \"4\": 8, \"10\": 11}, \"7\": {\"7\": 1017, \"6\": 157, \"13\": 26}, \"5\": {\"5\": 997, \"10\": 96, \"1\": 88, \"11\": 12, \"14\": 5, \"4\": 1, \"13\": 1}, \"2\": {\"2\": 922, \"12\": 53, \"15\": 53, \"3\": 172}, \"15\": {\"12\": 236, \"15\": 943, \"2\": 21}, \"10\": {\"10\": 950, \"1\": 58, \"13\": 131, \"5\": 37, \"4\": 13, \"11\": 1, \"6\": 10}, \"13\": {\"13\": 926, \"10\": 153, \"7\": 89, \"6\": 30, \"5\": 2}, \"8\": {\"8\": 1152, \"4\": 12, \"6\": 24, \"11\": 11, \"7\": 1}, \"4\": {\"4\": 1118, \"6\": 23, \"11\": 15, \"14\": 18, \"8\": 14, \"10\": 4, \"1\": 8}, \"9\": {\"9\": 1200}, \"14\": {\"14\": 1109, \"8\": 1, \"4\": 64, \"11\": 24, \"5\": 1, \"1\": 1}, \"0\": {\"0\": 1200}, \"12\": {\"12\": 869, \"15\": 317, \"2\": 14}}, \"32\": {\"15\": {\"15\": 1186, \"8\": 13, \"5\": 1}, \"11\": {\"11\": 1192, \"13\": 7, \"3\": 1}, \"10\": {\"10\": 1200}, \"14\": {\"7\": 268, \"0\": 36, \"14\": 771, \"2\": 39, \"5\": 53, \"8\": 23, \"4\": 9, \"3\": 1}, \"6\": {\"6\": 1200}, \"4\": {\"4\": 1054, \"2\": 112, \"13\": 33, \"3\": 1}, \"13\": {\"13\": 1012, \"4\": 78, \"3\": 87, \"11\": 23}, \"3\": {\"3\": 1150, \"13\": 50}, \"7\": {\"7\": 824, \"5\": 174, \"0\": 63, \"14\": 128, \"8\": 11}, \"8\": {\"7\": 17, \"8\": 903, \"5\": 83, \"0\": 145, \"4\": 24, \"2\": 13, \"15\": 1, \"14\": 13, \"13\": 1}, \"1\": {\"1\": 1200}, \"5\": {\"8\": 105, \"7\": 250, \"14\": 66, \"5\": 710, \"0\": 69}, \"0\": {\"0\": 939, \"7\": 85, \"5\": 47, \"8\": 95, \"14\": 33, \"2\": 1}, \"2\": {\"2\": 1101, \"4\": 97, \"14\": 1, \"0\": 1}, \"12\": {\"12\": 1200}, \"9\": {\"9\": 1196, \"12\": 3, \"2\": 1}}, \"26\": {\"0\": {\"0\": 607, \"10\": 253, \"14\": 192, \"8\": 77, \"7\": 11, \"2\": 11, \"15\": 21, \"6\": 16, \"9\": 5, \"5\": 1, \"1\": 6}, \"4\": {\"4\": 1181, \"13\": 6, \"9\": 1, \"3\": 11, \"7\": 1}, \"14\": {\"0\": 151, \"14\": 698, \"10\": 200, \"6\": 20, \"5\": 4, \"1\": 101, \"8\": 2, \"15\": 24}, \"12\": {\"12\": 1200}, \"8\": {\"8\": 591, \"2\": 50, \"7\": 175, \"0\": 54, \"9\": 314, \"13\": 4, \"10\": 4, \"4\": 1, \"3\": 7}, \"7\": {\"2\": 182, \"7\": 608, \"3\": 145, \"8\": 177, \"9\": 78, \"13\": 4, \"4\": 1, \"0\": 5}, \"13\": {\"13\": 968, \"4\": 7, \"2\": 48, \"3\": 25, \"9\": 142, \"7\": 6, \"8\": 4}, \"5\": {\"15\": 294, \"5\": 818, \"6\": 70, \"10\": 9, \"0\": 1, \"14\": 2, \"1\": 6}, \"15\": {\"5\": 340, \"15\": 638, \"6\": 95, \"14\": 17, \"10\": 64, \"2\": 11, \"1\": 18, \"0\": 14, \"9\": 1, \"8\": 2}, \"10\": {\"10\": 540, \"15\": 68, \"0\": 211, \"14\": 248, \"6\": 104, \"8\": 2, \"1\": 23, \"5\": 3, \"2\": 1}, \"3\": {\"3\": 934, \"7\": 166, \"2\": 74, \"9\": 8, \"8\": 6, \"13\": 9, \"4\": 3}, \"9\": {\"8\": 302, \"9\": 638, \"7\": 54, \"13\": 138, \"2\": 52, \"0\": 7, \"3\": 9}, \"6\": {\"6\": 836, \"10\": 141, \"14\": 24, \"15\": 100, \"5\": 62, \"1\": 27, \"0\": 9, \"8\": 1}, \"1\": {\"14\": 195, \"1\": 883, \"10\": 57, \"0\": 15, \"6\": 41, \"5\": 2, \"15\": 7}, \"11\": {\"11\": 1200}, \"2\": {\"2\": 635, \"9\": 108, \"8\": 90, \"7\": 211, \"5\": 2, \"0\": 10, \"3\": 121, \"13\": 11, \"10\": 3, \"15\": 9}}, \"44\": {\"1\": {\"1\": 1124, \"2\": 76}, \"11\": {\"11\": 1200}, \"3\": {\"3\": 1162, \"12\": 38}, \"6\": {\"6\": 961, \"13\": 169, \"9\": 68, \"7\": 2}, \"7\": {\"7\": 1055, \"9\": 129, \"10\": 15, \"6\": 1}, \"5\": {\"5\": 1034, \"8\": 30, \"4\": 2, \"14\": 53, \"15\": 80, \"0\": 1}, \"2\": {\"2\": 1152, \"10\": 4, \"1\": 44}, \"15\": {\"5\": 78, \"14\": 115, \"15\": 963, \"8\": 33, \"0\": 5, \"4\": 6}, \"10\": {\"7\": 26, \"10\": 1120, \"2\": 29, \"1\": 25}, \"13\": {\"13\": 987, \"6\": 189, \"9\": 22, \"11\": 2}, \"8\": {\"0\": 260, \"8\": 844, \"5\": 50, \"15\": 46}, \"4\": {\"4\": 767, \"14\": 400, \"15\": 22, \"9\": 9, \"13\": 1, \"5\": 1}, \"9\": {\"7\": 364, \"13\": 105, \"6\": 203, \"9\": 507, \"4\": 7, \"2\": 12, \"14\": 1, \"10\": 1}, \"14\": {\"4\": 197, \"14\": 905, \"5\": 54, \"15\": 44}, \"0\": {\"0\": 1058, \"8\": 139, \"15\": 3}, \"12\": {\"12\": 1156, \"3\": 44}}, \"20\": {\"15\": {\"15\": 657, \"12\": 164, \"5\": 32, \"1\": 217, \"13\": 56, \"9\": 37, \"3\": 4, \"2\": 31, \"7\": 1, \"4\": 1}, \"4\": {\"4\": 970, \"12\": 72, \"10\": 92, \"2\": 17, \"7\": 24, \"9\": 8, \"3\": 2, \"6\": 11, \"8\": 2, \"1\": 1, \"5\": 1}, \"6\": {\"7\": 80, \"6\": 1019, \"10\": 15, \"14\": 57, \"4\": 19, \"2\": 6, \"8\": 4}, \"2\": {\"7\": 226, \"13\": 146, \"2\": 406, \"12\": 158, \"15\": 40, \"9\": 148, \"1\": 34, \"3\": 14, \"4\": 19, \"6\": 2, \"5\": 7}, \"5\": {\"12\": 24, \"1\": 332, \"3\": 211, \"15\": 41, \"5\": 509, \"8\": 18, \"9\": 52, \"0\": 9, \"2\": 1, \"7\": 2, \"4\": 1}, \"9\": {\"1\": 88, \"3\": 183, \"9\": 488, \"7\": 121, \"2\": 131, \"5\": 58, \"15\": 35, \"12\": 63, \"8\": 19, \"13\": 11, \"4\": 2, \"14\": 1}, \"8\": {\"8\": 834, \"14\": 143, \"4\": 7, \"3\": 144, \"7\": 20, \"1\": 4, \"5\": 10, \"9\": 36, \"6\": 1, \"2\": 1}, \"12\": {\"12\": 577, \"13\": 41, \"15\": 178, \"4\": 61, \"2\": 163, \"7\": 39, \"9\": 61, \"3\": 13, \"1\": 47, \"5\": 19, \"8\": 1}, \"10\": {\"10\": 1099, \"4\": 89, \"6\": 11, \"12\": 1}, \"1\": {\"15\": 182, \"9\": 75, \"5\": 306, \"1\": 488, \"3\": 86, \"12\": 46, \"2\": 9, \"8\": 2, \"0\": 3, \"7\": 1, \"13\": 2}, \"0\": {\"5\": 40, \"3\": 43, \"0\": 1107, \"8\": 3, \"1\": 7}, \"3\": {\"3\": 493, \"5\": 212, \"9\": 211, \"1\": 84, \"7\": 18, \"12\": 28, \"8\": 91, \"2\": 18, \"15\": 12, \"0\": 30, \"4\": 2, \"14\": 1}, \"13\": {\"2\": 155, \"13\": 889, \"15\": 58, \"12\": 58, \"1\": 4, \"7\": 21, \"9\": 12, \"4\": 2, \"3\": 1}, \"11\": {\"11\": 1200}, \"7\": {\"2\": 262, \"7\": 636, \"9\": 123, \"12\": 40, \"5\": 4, \"3\": 12, \"4\": 24, \"13\": 15, \"1\": 3, \"6\": 44, \"8\": 27, \"14\": 9, \"10\": 1}, \"14\": {\"14\": 936, \"8\": 197, \"6\": 53, \"7\": 12, \"4\": 1, \"3\": 1}}, \"38\": {\"15\": {\"15\": 1110, \"8\": 31, \"5\": 32, \"1\": 24, \"12\": 3}, \"11\": {\"11\": 1200}, \"10\": {\"10\": 1081, \"13\": 59, \"0\": 48, \"4\": 12}, \"14\": {\"2\": 221, \"14\": 964, \"13\": 14, \"4\": 1}, \"6\": {\"6\": 1197, \"1\": 3}, \"4\": {\"4\": 1188, \"10\": 9, \"0\": 3}, \"13\": {\"13\": 1090, \"10\": 86, \"0\": 18, \"14\": 4, \"2\": 2}, \"3\": {\"3\": 1200}, \"7\": {\"7\": 1174, \"5\": 6, \"8\": 7, \"0\": 10, \"9\": 2, \"13\": 1}, \"8\": {\"5\": 430, \"8\": 560, \"7\": 149, \"12\": 23, \"13\": 17, \"9\": 2, \"2\": 1, \"15\": 17, \"0\": 1}, \"1\": {\"1\": 1195, \"6\": 5}, \"5\": {\"7\": 112, \"5\": 554, \"8\": 409, \"9\": 72, \"12\": 7, \"15\": 44, \"14\": 1, \"0\": 1}, \"0\": {\"0\": 817, \"3\": 75, \"7\": 145, \"13\": 41, \"10\": 118, \"8\": 1, \"9\": 2, \"4\": 1}, \"2\": {\"2\": 1046, \"14\": 152, \"13\": 2}, \"12\": {\"12\": 1191, \"5\": 3, \"8\": 6}, \"9\": {\"9\": 1171, \"5\": 20, \"7\": 7, \"8\": 2}}, \"14\": {\"0\": {\"3\": 122, \"0\": 1016, \"14\": 20, \"10\": 25, \"8\": 12, \"13\": 3, \"6\": 1, \"4\": 1}, \"12\": {\"12\": 1200}, \"1\": {\"1\": 1196, \"4\": 4}, \"4\": {\"4\": 1096, \"2\": 36, \"5\": 59, \"8\": 2, \"1\": 2, \"10\": 4, \"14\": 1}, \"5\": {\"5\": 960, \"2\": 125, \"7\": 37, \"3\": 14, \"4\": 52, \"13\": 2, \"14\": 8, \"8\": 1, \"6\": 1}, \"3\": {\"3\": 1087, \"6\": 29, \"2\": 8, \"0\": 36, \"14\": 31, \"13\": 8, \"8\": 1}, \"7\": {\"7\": 1163, \"5\": 34, \"2\": 3}, \"15\": {\"15\": 1200}, \"13\": {\"13\": 307, \"6\": 411, \"4\": 25, \"14\": 312, \"2\": 79, \"15\": 48, \"3\": 12, \"5\": 1, \"0\": 2, \"10\": 3}, \"10\": {\"10\": 1194, \"4\": 1, \"9\": 3, \"0\": 2}, \"14\": {\"14\": 821, \"13\": 156, \"3\": 36, \"6\": 49, \"2\": 118, \"0\": 11, \"5\": 9}, \"6\": {\"6\": 625, \"13\": 328, \"2\": 54, \"3\": 76, \"14\": 114, \"5\": 3}, \"9\": {\"9\": 1199, \"10\": 1}, \"2\": {\"14\": 183, \"7\": 24, \"2\": 432, \"4\": 146, \"5\": 178, \"6\": 92, \"3\": 65, \"13\": 78, \"0\": 2}, \"8\": {\"8\": 1197, \"0\": 2, \"3\": 1}, \"11\": {\"11\": 1200}}}, \"per_domain_accuracy\": {\"50\": {\"accuracy\": 0.9077083333333333, \"source?\": true}, \"8\": {\"accuracy\": 0.8417708333333334, \"source?\": true}, \"32\": {\"accuracy\": 0.8769791666666666, \"source?\": true}, \"26\": {\"accuracy\": 0.67578125, \"source?\": false}, \"44\": {\"accuracy\": 0.8330729166666667, \"source?\": false}, \"20\": {\"accuracy\": 0.6410416666666666, \"source?\": false}, \"38\": {\"accuracy\": 0.8717708333333334, \"source?\": false}, \"14\": {\"accuracy\": 0.8277604166666667, \"source?\": false}}}, \"history\": {\"epoch_indices\": [1, 2, 3, 4, 5, 6, 7, 8], \"train_label_loss\": [0.6532224717851551, 0.42432996351922314, 0.3139577509477616, 0.2654607436987793, 0.22787697477857508, 0.2007729559183298, 0.1762521667687577, 0.15732441936942956], \"source_val_label_loss\": [5.200544834136963, 0.40068718791007996, 0.3584589660167694, 0.3504806160926819, 0.34582650661468506, 0.352474570274353, 0.3545829653739929, 0.35721129179000854], \"target_val_label_loss\": [3.0352399349212646, 0.6903274655342102, 0.6641137003898621, 0.6467880010604858, 0.6594086289405823, 0.6886303424835205, 0.7102329134941101, 0.7322958707809448], \"source_val_acc_label\": [0.7390625, 0.8516319444444445, 0.8695833333333334, 0.8754861111111111, 0.8784201388888889, 0.8768923611111111, 0.8820486111111111, 0.8819791666666666], \"target_val_acc_label\": [0.64321875, 0.75846875, 0.76625, 0.7698854166666667, 0.7679791666666667, 0.76240625, 0.76046875, 0.7654375]}, \"dataset_metrics\": {\"source\": {\"train\": {\"n_unique_x\": 336000, \"n_unique_y\": 16, \"n_batch/episode\": 12600}, \"val\": {\"n_unique_x\": 72000, \"n_unique_y\": 16, \"n_batch/episode\": 1800}, \"test\": {\"n_unique_x\": 72000, \"n_unique_y\": 16, \"n_batch/episode\": 1800}}, \"target\": {\"train\": {\"n_unique_x\": 560000, \"n_unique_y\": 16, \"n_batch/episode\": 21000}, \"val\": {\"n_unique_x\": 120000, \"n_unique_y\": 16, \"n_batch/episode\": 3000}, \"test\": {\"n_unique_x\": 120000, \"n_unique_y\": 16, \"n_batch/episode\": 3000}}}}'"
      ]
     },
     "execution_count": 20,
     "metadata": {},
     "output_type": "execute_result"
    }
   ],
   "source": [
    "json.dumps(experiment)"
   ]
  }
 ],
 "metadata": {
  "celltoolbar": "Tags",
  "kernelspec": {
   "display_name": "Python 3 (ipykernel)",
   "language": "python",
   "name": "python3"
  },
  "language_info": {
   "codemirror_mode": {
    "name": "ipython",
    "version": 3
   },
   "file_extension": ".py",
   "mimetype": "text/x-python",
   "name": "python",
   "nbconvert_exporter": "python",
   "pygments_lexer": "ipython3",
   "version": "3.8.10"
  },
  "papermill": {
   "default_parameters": {},
   "duration": 3053.790772,
   "end_time": "2022-03-22T15:53:09.058539",
   "environment_variables": {},
   "exception": null,
   "input_path": "/mnt/wd500GB/CSC500/csc500-main/csc500-notebooks/templates/ptn_template.ipynb",
   "output_path": "trial.ipynb",
   "parameters": {
    "parameters": {
     "BEST_MODEL_PATH": "./best_model.pth",
     "NUM_LOGS_PER_EPOCH": 10,
     "criteria_for_best": "target_accuracy",
     "dataset_seed": 7,
     "device": "cuda",
     "domains_source": [
      8,
      32,
      50
     ],
     "domains_target": [
      14,
      20,
      26,
      38,
      44
     ],
     "episode_transforms_source": [],
     "episode_transforms_target": [],
     "experiment_name": "tuned_1v2:oracle.run1",
     "labels_source": [
      "3123D52",
      "3123D65",
      "3123D79",
      "3123D80",
      "3123D54",
      "3123D70",
      "3123D7B",
      "3123D89",
      "3123D58",
      "3123D76",
      "3123D7D",
      "3123EFE",
      "3123D64",
      "3123D78",
      "3123D7E",
      "3124E4A"
     ],
     "labels_target": [
      "3123D52",
      "3123D65",
      "3123D79",
      "3123D80",
      "3123D54",
      "3123D70",
      "3123D7B",
      "3123D89",
      "3123D58",
      "3123D76",
      "3123D7D",
      "3123EFE",
      "3123D64",
      "3123D78",
      "3123D7E",
      "3124E4A"
     ],
     "lr": 0.0001,
     "n_epoch": 50,
     "n_query": 2,
     "n_shot": 3,
     "n_way": 16,
     "num_examples_per_domain_per_label_source": -1,
     "num_examples_per_domain_per_label_target": -1,
     "patience": 3,
     "pickle_name": "oracle.Run1_10kExamples_stratified_ds.2022A.pkl",
     "seed": 7,
     "test_k_factor": 2,
     "torch_default_dtype": "torch.float32",
     "train_k_factor": 3,
     "val_k_factor": 2,
     "x_net": [
      {
       "class": "nnReshape",
       "kargs": {
        "shape": [
         -1,
         1,
         2,
         256
        ]
       }
      },
      {
       "class": "Conv2d",
       "kargs": {
        "bias": false,
        "in_channels": 1,
        "kernel_size": [
         1,
         7
        ],
        "out_channels": 256,
        "padding": [
         0,
         3
        ]
       }
      },
      {
       "class": "ReLU",
       "kargs": {
        "inplace": true
       }
      },
      {
       "class": "BatchNorm2d",
       "kargs": {
        "num_features": 256
       }
      },
      {
       "class": "Conv2d",
       "kargs": {
        "bias": true,
        "in_channels": 256,
        "kernel_size": [
         2,
         7
        ],
        "out_channels": 80,
        "padding": [
         0,
         3
        ]
       }
      },
      {
       "class": "ReLU",
       "kargs": {
        "inplace": true
       }
      },
      {
       "class": "BatchNorm2d",
       "kargs": {
        "num_features": 80
       }
      },
      {
       "class": "Flatten",
       "kargs": {}
      },
      {
       "class": "Linear",
       "kargs": {
        "in_features": 20480,
        "out_features": 256
       }
      },
      {
       "class": "ReLU",
       "kargs": {
        "inplace": true
       }
      },
      {
       "class": "BatchNorm1d",
       "kargs": {
        "num_features": 256
       }
      },
      {
       "class": "Linear",
       "kargs": {
        "in_features": 256,
        "out_features": 256
       }
      }
     ],
     "x_transforms_source": [],
     "x_transforms_target": []
    }
   },
   "start_time": "2022-03-22T15:02:15.267767",
   "version": "2.3.4"
  }
 },
 "nbformat": 4,
 "nbformat_minor": 5
}