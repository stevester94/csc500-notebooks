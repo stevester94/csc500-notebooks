{
 "cells": [
  {
   "cell_type": "markdown",
   "id": "9fea5f46",
   "metadata": {
    "papermill": {
     "duration": 0.012577,
     "end_time": "2022-03-22T08:33:23.795485",
     "exception": false,
     "start_time": "2022-03-22T08:33:23.782908",
     "status": "completed"
    },
    "tags": []
   },
   "source": [
    "# PTN Template\n",
    "This notebook serves as a template for single dataset PTN experiments  \n",
    "It can be run on its own by setting STANDALONE to True (do a find for \"STANDALONE\" to see where)  \n",
    "But it is intended to be executed as part of a *papermill.py script. See any of the   \n",
    "experimentes with a papermill script to get started with that workflow.  "
   ]
  },
  {
   "cell_type": "code",
   "execution_count": 1,
   "id": "0902182a",
   "metadata": {
    "execution": {
     "iopub.execute_input": "2022-03-22T08:33:23.835965Z",
     "iopub.status.busy": "2022-03-22T08:33:23.829150Z",
     "iopub.status.idle": "2022-03-22T08:33:24.791210Z",
     "shell.execute_reply": "2022-03-22T08:33:24.790919Z"
    },
    "papermill": {
     "duration": 0.983185,
     "end_time": "2022-03-22T08:33:24.791285",
     "exception": false,
     "start_time": "2022-03-22T08:33:23.808100",
     "status": "completed"
    },
    "tags": []
   },
   "outputs": [],
   "source": [
    "%load_ext autoreload\n",
    "%autoreload 2\n",
    "%matplotlib inline\n",
    "\n",
    "    \n",
    "import os, json, sys, time, random\n",
    "import numpy as np\n",
    "import torch\n",
    "from torch.optim import Adam\n",
    "from  easydict import EasyDict\n",
    "import matplotlib.pyplot as plt\n",
    "\n",
    "from steves_models.steves_ptn import Steves_Prototypical_Network\n",
    "\n",
    "from steves_utils.lazy_iterable_wrapper import Lazy_Iterable_Wrapper\n",
    "from steves_utils.iterable_aggregator import Iterable_Aggregator\n",
    "from steves_utils.ptn_train_eval_test_jig import  PTN_Train_Eval_Test_Jig\n",
    "from steves_utils.torch_sequential_builder import build_sequential\n",
    "from steves_utils.torch_utils import get_dataset_metrics, ptn_confusion_by_domain_over_dataloader\n",
    "from steves_utils.utils_v2 import (per_domain_accuracy_from_confusion, get_datasets_base_path)\n",
    "from steves_utils.PTN.utils import independent_accuracy_assesment\n",
    "\n",
    "from steves_utils.stratified_dataset.episodic_accessor import Episodic_Accessor_Factory\n",
    "\n",
    "from steves_utils.ptn_do_report import (\n",
    "    get_loss_curve,\n",
    "    get_results_table,\n",
    "    get_parameters_table,\n",
    "    get_domain_accuracies,\n",
    ")\n",
    "\n",
    "from steves_utils.transforms import get_chained_transform"
   ]
  },
  {
   "cell_type": "markdown",
   "id": "41c840b4",
   "metadata": {
    "papermill": {
     "duration": 0.009021,
     "end_time": "2022-03-22T08:33:24.809804",
     "exception": false,
     "start_time": "2022-03-22T08:33:24.800783",
     "status": "completed"
    },
    "tags": []
   },
   "source": [
    "# Required Parameters\n",
    "These are allowed parameters, not defaults\n",
    "Each of these values need to be present in the injected parameters (the notebook will raise an exception if they are not present)\n",
    "\n",
    "Papermill uses the cell tag \"parameters\" to inject the real parameters below this cell.\n",
    "Enable tags to see what I mean"
   ]
  },
  {
   "cell_type": "code",
   "execution_count": 2,
   "id": "fd44eb83",
   "metadata": {
    "execution": {
     "iopub.execute_input": "2022-03-22T08:33:24.831154Z",
     "iopub.status.busy": "2022-03-22T08:33:24.830886Z",
     "iopub.status.idle": "2022-03-22T08:33:24.845632Z",
     "shell.execute_reply": "2022-03-22T08:33:24.845999Z"
    },
    "papermill": {
     "duration": 0.027243,
     "end_time": "2022-03-22T08:33:24.846102",
     "exception": false,
     "start_time": "2022-03-22T08:33:24.818859",
     "status": "completed"
    },
    "tags": []
   },
   "outputs": [],
   "source": [
    "required_parameters = {\n",
    "    \"experiment_name\",\n",
    "    \"lr\",\n",
    "    \"device\",\n",
    "    \"seed\",\n",
    "    \"dataset_seed\",\n",
    "    \"labels_source\",\n",
    "    \"labels_target\",\n",
    "    \"domains_source\",\n",
    "    \"domains_target\",\n",
    "    \"num_examples_per_domain_per_label_source\",\n",
    "    \"num_examples_per_domain_per_label_target\",\n",
    "    \"n_shot\",\n",
    "    \"n_way\",\n",
    "    \"n_query\",\n",
    "    \"train_k_factor\",\n",
    "    \"val_k_factor\",\n",
    "    \"test_k_factor\",\n",
    "    \"n_epoch\",\n",
    "    \"patience\",\n",
    "    \"criteria_for_best\",\n",
    "    \"x_transforms_source\",\n",
    "    \"x_transforms_target\",\n",
    "    \"episode_transforms_source\",\n",
    "    \"episode_transforms_target\",\n",
    "    \"pickle_name\",\n",
    "    \"x_net\",\n",
    "    \"NUM_LOGS_PER_EPOCH\",\n",
    "    \"BEST_MODEL_PATH\",\n",
    "    \"torch_default_dtype\"\n",
    "}"
   ]
  },
  {
   "cell_type": "code",
   "execution_count": 3,
   "id": "fa3f0049",
   "metadata": {
    "execution": {
     "iopub.execute_input": "2022-03-22T08:33:24.874580Z",
     "iopub.status.busy": "2022-03-22T08:33:24.874269Z",
     "iopub.status.idle": "2022-03-22T08:33:24.885992Z",
     "shell.execute_reply": "2022-03-22T08:33:24.886359Z"
    },
    "papermill": {
     "duration": 0.026912,
     "end_time": "2022-03-22T08:33:24.886462",
     "exception": false,
     "start_time": "2022-03-22T08:33:24.859550",
     "status": "completed"
    },
    "tags": [
     "parameters"
    ]
   },
   "outputs": [],
   "source": [
    "\n",
    "\n",
    "standalone_parameters = {}\n",
    "standalone_parameters[\"experiment_name\"] = \"STANDALONE PTN\"\n",
    "standalone_parameters[\"lr\"] = 0.0001\n",
    "standalone_parameters[\"device\"] = \"cuda\"\n",
    "\n",
    "standalone_parameters[\"seed\"] = 1337\n",
    "standalone_parameters[\"dataset_seed\"] = 1337\n",
    "\n",
    "\n",
    "standalone_parameters[\"num_examples_per_domain_per_label_source\"]=100\n",
    "standalone_parameters[\"num_examples_per_domain_per_label_target\"]=100\n",
    "\n",
    "standalone_parameters[\"n_shot\"] = 3\n",
    "standalone_parameters[\"n_query\"]  = 2\n",
    "standalone_parameters[\"train_k_factor\"] = 1\n",
    "standalone_parameters[\"val_k_factor\"] = 2\n",
    "standalone_parameters[\"test_k_factor\"] = 2\n",
    "\n",
    "\n",
    "standalone_parameters[\"n_epoch\"] = 100\n",
    "\n",
    "standalone_parameters[\"patience\"] = 10\n",
    "standalone_parameters[\"criteria_for_best\"] = \"target_accuracy\"\n",
    "\n",
    "standalone_parameters[\"x_transforms_source\"] = [\"unit_power\"]\n",
    "standalone_parameters[\"x_transforms_target\"] = [\"unit_power\"]\n",
    "standalone_parameters[\"episode_transforms_source\"] = []\n",
    "standalone_parameters[\"episode_transforms_target\"] = []\n",
    "\n",
    "standalone_parameters[\"torch_default_dtype\"] = \"torch.float32\" \n",
    "\n",
    "\n",
    "\n",
    "standalone_parameters[\"x_net\"] =     [\n",
    "    {\"class\": \"nnReshape\", \"kargs\": {\"shape\":[-1, 1, 2, 256]}},\n",
    "    {\"class\": \"Conv2d\", \"kargs\": { \"in_channels\":1, \"out_channels\":256, \"kernel_size\":(1,7), \"bias\":False, \"padding\":(0,3), },},\n",
    "    {\"class\": \"ReLU\", \"kargs\": {\"inplace\": True}},\n",
    "    {\"class\": \"BatchNorm2d\", \"kargs\": {\"num_features\":256}},\n",
    "\n",
    "    {\"class\": \"Conv2d\", \"kargs\": { \"in_channels\":256, \"out_channels\":80, \"kernel_size\":(2,7), \"bias\":True, \"padding\":(0,3), },},\n",
    "    {\"class\": \"ReLU\", \"kargs\": {\"inplace\": True}},\n",
    "    {\"class\": \"BatchNorm2d\", \"kargs\": {\"num_features\":80}},\n",
    "    {\"class\": \"Flatten\", \"kargs\": {}},\n",
    "\n",
    "    {\"class\": \"Linear\", \"kargs\": {\"in_features\": 80*256, \"out_features\": 256}}, # 80 units per IQ pair\n",
    "    {\"class\": \"ReLU\", \"kargs\": {\"inplace\": True}},\n",
    "    {\"class\": \"BatchNorm1d\", \"kargs\": {\"num_features\":256}},\n",
    "\n",
    "    {\"class\": \"Linear\", \"kargs\": {\"in_features\": 256, \"out_features\": 256}},\n",
    "]\n",
    "\n",
    "# Parameters relevant to results\n",
    "# These parameters will basically never need to change\n",
    "standalone_parameters[\"NUM_LOGS_PER_EPOCH\"] = 10\n",
    "standalone_parameters[\"BEST_MODEL_PATH\"] = \"./best_model.pth\"\n",
    "\n",
    "# uncomment for CORES dataset\n",
    "from steves_utils.CORES.utils import (\n",
    "    ALL_NODES,\n",
    "    ALL_NODES_MINIMUM_1000_EXAMPLES,\n",
    "    ALL_DAYS\n",
    ")\n",
    "\n",
    "\n",
    "standalone_parameters[\"labels_source\"] = ALL_NODES\n",
    "standalone_parameters[\"labels_target\"] = ALL_NODES\n",
    "\n",
    "standalone_parameters[\"domains_source\"] = [1]\n",
    "standalone_parameters[\"domains_target\"] = [2,3,4,5]\n",
    "\n",
    "standalone_parameters[\"pickle_name\"] = \"cores.stratified_ds.2022A.pkl\"\n",
    "\n",
    "\n",
    "# Uncomment these for ORACLE dataset\n",
    "# from steves_utils.ORACLE.utils_v2 import (\n",
    "#     ALL_DISTANCES_FEET,\n",
    "#     ALL_RUNS,\n",
    "#     ALL_SERIAL_NUMBERS,\n",
    "# )\n",
    "# standalone_parameters[\"labels_source\"] = ALL_SERIAL_NUMBERS\n",
    "# standalone_parameters[\"labels_target\"] = ALL_SERIAL_NUMBERS\n",
    "# standalone_parameters[\"domains_source\"] = [8,20, 38,50]\n",
    "# standalone_parameters[\"domains_target\"] = [14, 26, 32, 44, 56]\n",
    "# standalone_parameters[\"pickle_name\"] = \"oracle.frame_indexed.stratified_ds.2022A.pkl\"\n",
    "# standalone_parameters[\"num_examples_per_domain_per_label_source\"]=1000\n",
    "# standalone_parameters[\"num_examples_per_domain_per_label_target\"]=1000\n",
    "\n",
    "# Uncomment these for Metahan dataset\n",
    "# standalone_parameters[\"labels_source\"] = list(range(19))\n",
    "# standalone_parameters[\"labels_target\"] = list(range(19))\n",
    "# standalone_parameters[\"domains_source\"] = [0]\n",
    "# standalone_parameters[\"domains_target\"] = [1]\n",
    "# standalone_parameters[\"pickle_name\"] = \"metehan.stratified_ds.2022A.pkl\"\n",
    "# standalone_parameters[\"n_way\"]  = len(standalone_parameters[\"labels_source\"])\n",
    "# standalone_parameters[\"num_examples_per_domain_per_label_source\"]=200\n",
    "# standalone_parameters[\"num_examples_per_domain_per_label_target\"]=100\n",
    "\n",
    "\n",
    "standalone_parameters[\"n_way\"]  = len(standalone_parameters[\"labels_source\"])"
   ]
  },
  {
   "cell_type": "code",
   "execution_count": 4,
   "id": "473a1766",
   "metadata": {
    "execution": {
     "iopub.execute_input": "2022-03-22T08:33:24.917494Z",
     "iopub.status.busy": "2022-03-22T08:33:24.917215Z",
     "iopub.status.idle": "2022-03-22T08:33:24.929417Z",
     "shell.execute_reply": "2022-03-22T08:33:24.929762Z"
    },
    "papermill": {
     "duration": 0.029953,
     "end_time": "2022-03-22T08:33:24.929868",
     "exception": false,
     "start_time": "2022-03-22T08:33:24.899915",
     "status": "completed"
    },
    "tags": [
     "injected-parameters"
    ]
   },
   "outputs": [],
   "source": [
    "# Parameters\n",
    "parameters = {\n",
    "    \"experiment_name\": \"tuned_1v2:oracle.run1\",\n",
    "    \"device\": \"cuda\",\n",
    "    \"lr\": 0.0001,\n",
    "    \"labels_source\": [\n",
    "        \"3123D52\",\n",
    "        \"3123D65\",\n",
    "        \"3123D79\",\n",
    "        \"3123D80\",\n",
    "        \"3123D54\",\n",
    "        \"3123D70\",\n",
    "        \"3123D7B\",\n",
    "        \"3123D89\",\n",
    "        \"3123D58\",\n",
    "        \"3123D76\",\n",
    "        \"3123D7D\",\n",
    "        \"3123EFE\",\n",
    "        \"3123D64\",\n",
    "        \"3123D78\",\n",
    "        \"3123D7E\",\n",
    "        \"3124E4A\",\n",
    "    ],\n",
    "    \"labels_target\": [\n",
    "        \"3123D52\",\n",
    "        \"3123D65\",\n",
    "        \"3123D79\",\n",
    "        \"3123D80\",\n",
    "        \"3123D54\",\n",
    "        \"3123D70\",\n",
    "        \"3123D7B\",\n",
    "        \"3123D89\",\n",
    "        \"3123D58\",\n",
    "        \"3123D76\",\n",
    "        \"3123D7D\",\n",
    "        \"3123EFE\",\n",
    "        \"3123D64\",\n",
    "        \"3123D78\",\n",
    "        \"3123D7E\",\n",
    "        \"3124E4A\",\n",
    "    ],\n",
    "    \"episode_transforms_source\": [],\n",
    "    \"episode_transforms_target\": [],\n",
    "    \"domains_source\": [8, 32, 50],\n",
    "    \"domains_target\": [14, 20, 26, 38, 44],\n",
    "    \"num_examples_per_domain_per_label_source\": -1,\n",
    "    \"num_examples_per_domain_per_label_target\": -1,\n",
    "    \"n_shot\": 3,\n",
    "    \"n_way\": 16,\n",
    "    \"n_query\": 2,\n",
    "    \"train_k_factor\": 3,\n",
    "    \"val_k_factor\": 2,\n",
    "    \"test_k_factor\": 2,\n",
    "    \"torch_default_dtype\": \"torch.float32\",\n",
    "    \"n_epoch\": 50,\n",
    "    \"patience\": 3,\n",
    "    \"criteria_for_best\": \"target_accuracy\",\n",
    "    \"x_net\": [\n",
    "        {\"class\": \"nnReshape\", \"kargs\": {\"shape\": [-1, 1, 2, 256]}},\n",
    "        {\n",
    "            \"class\": \"Conv2d\",\n",
    "            \"kargs\": {\n",
    "                \"in_channels\": 1,\n",
    "                \"out_channels\": 256,\n",
    "                \"kernel_size\": [1, 7],\n",
    "                \"bias\": False,\n",
    "                \"padding\": [0, 3],\n",
    "            },\n",
    "        },\n",
    "        {\"class\": \"ReLU\", \"kargs\": {\"inplace\": True}},\n",
    "        {\"class\": \"BatchNorm2d\", \"kargs\": {\"num_features\": 256}},\n",
    "        {\n",
    "            \"class\": \"Conv2d\",\n",
    "            \"kargs\": {\n",
    "                \"in_channels\": 256,\n",
    "                \"out_channels\": 80,\n",
    "                \"kernel_size\": [2, 7],\n",
    "                \"bias\": True,\n",
    "                \"padding\": [0, 3],\n",
    "            },\n",
    "        },\n",
    "        {\"class\": \"ReLU\", \"kargs\": {\"inplace\": True}},\n",
    "        {\"class\": \"BatchNorm2d\", \"kargs\": {\"num_features\": 80}},\n",
    "        {\"class\": \"Flatten\", \"kargs\": {}},\n",
    "        {\"class\": \"Linear\", \"kargs\": {\"in_features\": 20480, \"out_features\": 256}},\n",
    "        {\"class\": \"ReLU\", \"kargs\": {\"inplace\": True}},\n",
    "        {\"class\": \"BatchNorm1d\", \"kargs\": {\"num_features\": 256}},\n",
    "        {\"class\": \"Linear\", \"kargs\": {\"in_features\": 256, \"out_features\": 256}},\n",
    "    ],\n",
    "    \"NUM_LOGS_PER_EPOCH\": 10,\n",
    "    \"BEST_MODEL_PATH\": \"./best_model.pth\",\n",
    "    \"pickle_name\": \"oracle.Run1_10kExamples_stratified_ds.2022A.pkl\",\n",
    "    \"x_transforms_source\": [\"unit_power\"],\n",
    "    \"x_transforms_target\": [\"unit_power\"],\n",
    "    \"dataset_seed\": 1337,\n",
    "    \"seed\": 1337,\n",
    "}\n"
   ]
  },
  {
   "cell_type": "code",
   "execution_count": 5,
   "id": "8fa1cc33",
   "metadata": {
    "execution": {
     "iopub.execute_input": "2022-03-22T08:33:24.957578Z",
     "iopub.status.busy": "2022-03-22T08:33:24.957331Z",
     "iopub.status.idle": "2022-03-22T08:33:24.971122Z",
     "shell.execute_reply": "2022-03-22T08:33:24.970821Z"
    },
    "papermill": {
     "duration": 0.02734,
     "end_time": "2022-03-22T08:33:24.971190",
     "exception": false,
     "start_time": "2022-03-22T08:33:24.943850",
     "status": "completed"
    },
    "tags": []
   },
   "outputs": [],
   "source": [
    "# Set this to True if you want to run this template directly\n",
    "STANDALONE = False\n",
    "if STANDALONE:\n",
    "    print(\"parameters not injected, running with standalone_parameters\")\n",
    "    parameters = standalone_parameters\n",
    "\n",
    "if not 'parameters' in locals() and not 'parameters' in globals():\n",
    "    raise Exception(\"Parameter injection failed\")\n",
    "\n",
    "#Use an easy dict for all the parameters\n",
    "p = EasyDict(parameters)\n",
    "\n",
    "supplied_keys = set(p.keys())\n",
    "\n",
    "if  supplied_keys != required_parameters:\n",
    "    print(\"Parameters are incorrect\")\n",
    "    if len(supplied_keys - required_parameters)>0: print(\"Shouldn't have:\", str(supplied_keys - required_parameters))\n",
    "    if len(required_parameters - supplied_keys)>0: print(\"Need to have:\", str(required_parameters - supplied_keys))\n",
    "    raise RuntimeError(\"Parameters are incorrect\")\n",
    "\n"
   ]
  },
  {
   "cell_type": "code",
   "execution_count": 6,
   "id": "3a028d58",
   "metadata": {
    "execution": {
     "iopub.execute_input": "2022-03-22T08:33:24.996169Z",
     "iopub.status.busy": "2022-03-22T08:33:24.995925Z",
     "iopub.status.idle": "2022-03-22T08:33:25.008485Z",
     "shell.execute_reply": "2022-03-22T08:33:25.008165Z"
    },
    "papermill": {
     "duration": 0.024007,
     "end_time": "2022-03-22T08:33:25.008575",
     "exception": false,
     "start_time": "2022-03-22T08:33:24.984568",
     "status": "completed"
    },
    "tags": []
   },
   "outputs": [],
   "source": [
    "###################################\n",
    "# Set the RNGs and make it all deterministic\n",
    "###################################\n",
    "np.random.seed(p.seed)\n",
    "random.seed(p.seed)\n",
    "torch.manual_seed(p.seed)\n",
    "\n",
    "torch.use_deterministic_algorithms(True) "
   ]
  },
  {
   "cell_type": "code",
   "execution_count": 7,
   "id": "b691acf6",
   "metadata": {
    "execution": {
     "iopub.execute_input": "2022-03-22T08:33:25.034129Z",
     "iopub.status.busy": "2022-03-22T08:33:25.033884Z",
     "iopub.status.idle": "2022-03-22T08:33:25.043491Z",
     "shell.execute_reply": "2022-03-22T08:33:25.043778Z"
    },
    "papermill": {
     "duration": 0.020606,
     "end_time": "2022-03-22T08:33:25.043857",
     "exception": false,
     "start_time": "2022-03-22T08:33:25.023251",
     "status": "completed"
    },
    "tags": []
   },
   "outputs": [],
   "source": [
    "###########################################\n",
    "# The stratified datasets honor this\n",
    "###########################################\n",
    "torch.set_default_dtype(eval(p.torch_default_dtype))"
   ]
  },
  {
   "cell_type": "code",
   "execution_count": 8,
   "id": "b5fba671",
   "metadata": {
    "execution": {
     "iopub.execute_input": "2022-03-22T08:33:25.067252Z",
     "iopub.status.busy": "2022-03-22T08:33:25.067005Z",
     "iopub.status.idle": "2022-03-22T08:33:25.107615Z",
     "shell.execute_reply": "2022-03-22T08:33:25.107208Z"
    },
    "papermill": {
     "duration": 0.051823,
     "end_time": "2022-03-22T08:33:25.107703",
     "exception": false,
     "start_time": "2022-03-22T08:33:25.055880",
     "status": "completed"
    },
    "tags": []
   },
   "outputs": [],
   "source": [
    "###################################\n",
    "# Build the network(s)\n",
    "# Note: It's critical to do this AFTER setting the RNG\n",
    "# (This is due to the randomized initial weights)\n",
    "###################################\n",
    "x_net = build_sequential(p.x_net)"
   ]
  },
  {
   "cell_type": "code",
   "execution_count": 9,
   "id": "5d7e61cc",
   "metadata": {
    "execution": {
     "iopub.execute_input": "2022-03-22T08:33:25.132307Z",
     "iopub.status.busy": "2022-03-22T08:33:25.132060Z",
     "iopub.status.idle": "2022-03-22T08:33:25.143141Z",
     "shell.execute_reply": "2022-03-22T08:33:25.142839Z"
    },
    "papermill": {
     "duration": 0.02233,
     "end_time": "2022-03-22T08:33:25.143210",
     "exception": false,
     "start_time": "2022-03-22T08:33:25.120880",
     "status": "completed"
    },
    "tags": []
   },
   "outputs": [],
   "source": [
    "start_time_secs = time.time()"
   ]
  },
  {
   "cell_type": "code",
   "execution_count": 10,
   "id": "fd5442bc",
   "metadata": {
    "execution": {
     "iopub.execute_input": "2022-03-22T08:33:25.175314Z",
     "iopub.status.busy": "2022-03-22T08:33:25.168863Z",
     "iopub.status.idle": "2022-03-22T08:34:44.813897Z",
     "shell.execute_reply": "2022-03-22T08:34:44.813431Z"
    },
    "papermill": {
     "duration": 79.656965,
     "end_time": "2022-03-22T08:34:44.813997",
     "exception": false,
     "start_time": "2022-03-22T08:33:25.157032",
     "status": "completed"
    },
    "tags": []
   },
   "outputs": [],
   "source": [
    "###################################\n",
    "# Build the dataset\n",
    "###################################\n",
    "\n",
    "if p.x_transforms_source == []: x_transform_source = None\n",
    "else: x_transform_source = get_chained_transform(p.x_transforms_source) \n",
    "\n",
    "if p.x_transforms_target == []: x_transform_target = None\n",
    "else: x_transform_target = get_chained_transform(p.x_transforms_target)\n",
    "\n",
    "if p.episode_transforms_source == []: episode_transform_source = None\n",
    "else: raise Exception(\"episode_transform_source not implemented\")\n",
    "\n",
    "if p.episode_transforms_target == []: episode_transform_target = None\n",
    "else: raise Exception(\"episode_transform_target not implemented\")\n",
    "\n",
    "\n",
    "eaf_source = Episodic_Accessor_Factory(\n",
    "    labels=p.labels_source,\n",
    "    domains=p.domains_source,\n",
    "    num_examples_per_domain_per_label=p.num_examples_per_domain_per_label_source,\n",
    "    iterator_seed=p.seed,\n",
    "    dataset_seed=p.dataset_seed,\n",
    "    n_shot=p.n_shot,\n",
    "    n_way=p.n_way,\n",
    "    n_query=p.n_query,\n",
    "    train_val_test_k_factors=(p.train_k_factor,p.val_k_factor,p.test_k_factor),\n",
    "    pickle_path=os.path.join(get_datasets_base_path(), p.pickle_name),\n",
    "    x_transform_func=x_transform_source,\n",
    "    example_transform_func=episode_transform_source,\n",
    "    \n",
    ")\n",
    "train_original_source, val_original_source, test_original_source = eaf_source.get_train(), eaf_source.get_val(), eaf_source.get_test()\n",
    "\n",
    "\n",
    "eaf_target = Episodic_Accessor_Factory(\n",
    "    labels=p.labels_target,\n",
    "    domains=p.domains_target,\n",
    "    num_examples_per_domain_per_label=p.num_examples_per_domain_per_label_target,\n",
    "    iterator_seed=p.seed,\n",
    "    dataset_seed=p.dataset_seed,\n",
    "    n_shot=p.n_shot,\n",
    "    n_way=p.n_way,\n",
    "    n_query=p.n_query,\n",
    "    train_val_test_k_factors=(p.train_k_factor,p.val_k_factor,p.test_k_factor),\n",
    "    pickle_path=os.path.join(get_datasets_base_path(), p.pickle_name),\n",
    "    x_transform_func=x_transform_target,\n",
    "    example_transform_func=episode_transform_target,\n",
    ")\n",
    "train_original_target, val_original_target, test_original_target = eaf_target.get_train(), eaf_target.get_val(), eaf_target.get_test()\n",
    "\n",
    "\n",
    "transform_lambda = lambda ex: ex[1] # Original is (<domain>, <episode>) so we strip down to episode only\n",
    "\n",
    "train_processed_source = Lazy_Iterable_Wrapper(train_original_source, transform_lambda)\n",
    "val_processed_source   = Lazy_Iterable_Wrapper(val_original_source, transform_lambda)\n",
    "test_processed_source  = Lazy_Iterable_Wrapper(test_original_source, transform_lambda)\n",
    "\n",
    "train_processed_target = Lazy_Iterable_Wrapper(train_original_target, transform_lambda)\n",
    "val_processed_target   = Lazy_Iterable_Wrapper(val_original_target, transform_lambda)\n",
    "test_processed_target  = Lazy_Iterable_Wrapper(test_original_target, transform_lambda)\n",
    "\n",
    "datasets = EasyDict({\n",
    "    \"source\": {\n",
    "        \"original\": {\"train\":train_original_source, \"val\":val_original_source, \"test\":test_original_source},\n",
    "        \"processed\": {\"train\":train_processed_source, \"val\":val_processed_source, \"test\":test_processed_source}\n",
    "    },\n",
    "    \"target\": {\n",
    "        \"original\": {\"train\":train_original_target, \"val\":val_original_target, \"test\":test_original_target},\n",
    "        \"processed\": {\"train\":train_processed_target, \"val\":val_processed_target, \"test\":test_processed_target}\n",
    "    },\n",
    "})"
   ]
  },
  {
   "cell_type": "code",
   "execution_count": 11,
   "id": "296189d9",
   "metadata": {
    "execution": {
     "iopub.execute_input": "2022-03-22T08:34:44.844058Z",
     "iopub.status.busy": "2022-03-22T08:34:44.843802Z",
     "iopub.status.idle": "2022-03-22T08:34:46.727223Z",
     "shell.execute_reply": "2022-03-22T08:34:46.727751Z"
    },
    "papermill": {
     "duration": 1.89784,
     "end_time": "2022-03-22T08:34:46.727892",
     "exception": false,
     "start_time": "2022-03-22T08:34:44.830052",
     "status": "completed"
    },
    "tags": []
   },
   "outputs": [
    {
     "name": "stdout",
     "output_type": "stream",
     "text": [
      "Visually inspect these to see if they line up with expected values given the transforms\n",
      "x_transforms_source ['unit_power']\n",
      "x_transforms_target ['unit_power']\n",
      "Average magnitude, source: 0.8716737\n",
      "Average power, source: 1.0\n"
     ]
    },
    {
     "name": "stdout",
     "output_type": "stream",
     "text": [
      "Average magnitude, target: 0.8818515\n",
      "Average power, target: 1.0\n"
     ]
    }
   ],
   "source": [
    "# Some quick unit tests on the data\n",
    "from steves_utils.transforms import get_average_power, get_average_magnitude\n",
    "\n",
    "q_x, q_y, s_x, s_y, truth = next(iter(train_processed_source))\n",
    "\n",
    "assert q_x.dtype == eval(p.torch_default_dtype)\n",
    "assert s_x.dtype == eval(p.torch_default_dtype)\n",
    "\n",
    "print(\"Visually inspect these to see if they line up with expected values given the transforms\")\n",
    "print('x_transforms_source', p.x_transforms_source)\n",
    "print('x_transforms_target', p.x_transforms_target)\n",
    "print(\"Average magnitude, source:\", get_average_magnitude(q_x[0].numpy()))\n",
    "print(\"Average power, source:\", get_average_power(q_x[0].numpy()))\n",
    "\n",
    "q_x, q_y, s_x, s_y, truth = next(iter(train_processed_target))\n",
    "print(\"Average magnitude, target:\", get_average_magnitude(q_x[0].numpy()))\n",
    "print(\"Average power, target:\", get_average_power(q_x[0].numpy()))\n"
   ]
  },
  {
   "cell_type": "code",
   "execution_count": 12,
   "id": "bbdacba1",
   "metadata": {
    "execution": {
     "iopub.execute_input": "2022-03-22T08:34:46.759007Z",
     "iopub.status.busy": "2022-03-22T08:34:46.758751Z",
     "iopub.status.idle": "2022-03-22T08:34:46.825584Z",
     "shell.execute_reply": "2022-03-22T08:34:46.825214Z"
    },
    "papermill": {
     "duration": 0.080312,
     "end_time": "2022-03-22T08:34:46.825678",
     "exception": false,
     "start_time": "2022-03-22T08:34:46.745366",
     "status": "completed"
    },
    "tags": []
   },
   "outputs": [
    {
     "name": "stdout",
     "output_type": "stream",
     "text": [
      "(2, 256)\n"
     ]
    }
   ],
   "source": [
    "###################################\n",
    "# Build the model\n",
    "###################################\n",
    "model = Steves_Prototypical_Network(x_net, device=p.device, x_shape=(2,256))\n",
    "optimizer = Adam(params=model.parameters(), lr=p.lr)"
   ]
  },
  {
   "cell_type": "code",
   "execution_count": 13,
   "id": "22b39ac5",
   "metadata": {
    "execution": {
     "iopub.execute_input": "2022-03-22T08:34:46.854348Z",
     "iopub.status.busy": "2022-03-22T08:34:46.854073Z",
     "iopub.status.idle": "2022-03-22T09:33:02.607977Z",
     "shell.execute_reply": "2022-03-22T09:33:02.607712Z"
    },
    "papermill": {
     "duration": 3495.767252,
     "end_time": "2022-03-22T09:33:02.608034",
     "exception": false,
     "start_time": "2022-03-22T08:34:46.840782",
     "status": "completed"
    },
    "tags": []
   },
   "outputs": [
    {
     "name": "stdout",
     "output_type": "stream",
     "text": [
      "epoch: 1, [batch: 1 / 12600], examples_per_second: 26.8718, train_label_loss: 2.8031, \n"
     ]
    },
    {
     "name": "stdout",
     "output_type": "stream",
     "text": [
      "epoch: 1, [batch: 1260 / 12600], examples_per_second: 3225.7780, train_label_loss: 1.9571, \n"
     ]
    },
    {
     "name": "stdout",
     "output_type": "stream",
     "text": [
      "epoch: 1, [batch: 2520 / 12600], examples_per_second: 3230.0584, train_label_loss: 1.4158, \n"
     ]
    },
    {
     "name": "stdout",
     "output_type": "stream",
     "text": [
      "epoch: 1, [batch: 3780 / 12600], examples_per_second: 3217.5663, train_label_loss: 1.3266, \n"
     ]
    },
    {
     "name": "stdout",
     "output_type": "stream",
     "text": [
      "epoch: 1, [batch: 5040 / 12600], examples_per_second: 3207.8393, train_label_loss: 1.1612, \n"
     ]
    },
    {
     "name": "stdout",
     "output_type": "stream",
     "text": [
      "epoch: 1, [batch: 6300 / 12600], examples_per_second: 3223.9035, train_label_loss: 1.3739, \n"
     ]
    },
    {
     "name": "stdout",
     "output_type": "stream",
     "text": [
      "epoch: 1, [batch: 7560 / 12600], examples_per_second: 3229.6428, train_label_loss: 1.3461, \n"
     ]
    },
    {
     "name": "stdout",
     "output_type": "stream",
     "text": [
      "epoch: 1, [batch: 8820 / 12600], examples_per_second: 3214.4243, train_label_loss: 1.2575, \n"
     ]
    },
    {
     "name": "stdout",
     "output_type": "stream",
     "text": [
      "epoch: 1, [batch: 10080 / 12600], examples_per_second: 3219.3550, train_label_loss: 1.2587, \n"
     ]
    },
    {
     "name": "stdout",
     "output_type": "stream",
     "text": [
      "epoch: 1, [batch: 11340 / 12600], examples_per_second: 3222.5063, train_label_loss: 1.0875, \n"
     ]
    },
    {
     "name": "stdout",
     "output_type": "stream",
     "text": [
      "=============================================================\n",
      "epoch: 1, source_val_acc_label: 0.5747, target_val_acc_label: 0.4726, source_val_label_loss: 1.1459, target_val_label_loss: 1.4170, \n",
      "=============================================================\n"
     ]
    },
    {
     "name": "stdout",
     "output_type": "stream",
     "text": [
      "New best\n"
     ]
    },
    {
     "name": "stdout",
     "output_type": "stream",
     "text": [
      "epoch: 2, [batch: 1 / 12600], examples_per_second: 2.2723, train_label_loss: 1.2077, \n"
     ]
    },
    {
     "name": "stdout",
     "output_type": "stream",
     "text": [
      "epoch: 2, [batch: 1260 / 12600], examples_per_second: 3239.2932, train_label_loss: 0.6495, \n"
     ]
    },
    {
     "name": "stdout",
     "output_type": "stream",
     "text": [
      "epoch: 2, [batch: 2520 / 12600], examples_per_second: 3253.9331, train_label_loss: 0.8087, \n"
     ]
    },
    {
     "name": "stdout",
     "output_type": "stream",
     "text": [
      "epoch: 2, [batch: 3780 / 12600], examples_per_second: 3263.4345, train_label_loss: 1.4164, \n"
     ]
    },
    {
     "name": "stdout",
     "output_type": "stream",
     "text": [
      "epoch: 2, [batch: 5040 / 12600], examples_per_second: 3244.2820, train_label_loss: 0.8982, \n"
     ]
    },
    {
     "name": "stdout",
     "output_type": "stream",
     "text": [
      "epoch: 2, [batch: 6300 / 12600], examples_per_second: 3256.5367, train_label_loss: 1.0463, \n"
     ]
    },
    {
     "name": "stdout",
     "output_type": "stream",
     "text": [
      "epoch: 2, [batch: 7560 / 12600], examples_per_second: 3267.9434, train_label_loss: 1.1830, \n"
     ]
    },
    {
     "name": "stdout",
     "output_type": "stream",
     "text": [
      "epoch: 2, [batch: 8820 / 12600], examples_per_second: 3248.7781, train_label_loss: 0.8220, \n"
     ]
    },
    {
     "name": "stdout",
     "output_type": "stream",
     "text": [
      "epoch: 2, [batch: 10080 / 12600], examples_per_second: 3244.9370, train_label_loss: 0.6926, \n"
     ]
    },
    {
     "name": "stdout",
     "output_type": "stream",
     "text": [
      "epoch: 2, [batch: 11340 / 12600], examples_per_second: 3254.2203, train_label_loss: 0.7221, \n"
     ]
    },
    {
     "name": "stdout",
     "output_type": "stream",
     "text": [
      "=============================================================\n",
      "epoch: 2, source_val_acc_label: 0.6545, target_val_acc_label: 0.5793, source_val_label_loss: 0.9096, target_val_label_loss: 1.1153, \n",
      "=============================================================\n"
     ]
    },
    {
     "name": "stdout",
     "output_type": "stream",
     "text": [
      "New best\n"
     ]
    },
    {
     "name": "stdout",
     "output_type": "stream",
     "text": [
      "epoch: 3, [batch: 1 / 12600], examples_per_second: 2.2810, train_label_loss: 0.7227, \n"
     ]
    },
    {
     "name": "stdout",
     "output_type": "stream",
     "text": [
      "epoch: 3, [batch: 1260 / 12600], examples_per_second: 3217.4993, train_label_loss: 0.9291, \n"
     ]
    },
    {
     "name": "stdout",
     "output_type": "stream",
     "text": [
      "epoch: 3, [batch: 2520 / 12600], examples_per_second: 3254.5552, train_label_loss: 0.8682, \n"
     ]
    },
    {
     "name": "stdout",
     "output_type": "stream",
     "text": [
      "epoch: 3, [batch: 3780 / 12600], examples_per_second: 3256.7061, train_label_loss: 0.9938, \n"
     ]
    },
    {
     "name": "stdout",
     "output_type": "stream",
     "text": [
      "epoch: 3, [batch: 5040 / 12600], examples_per_second: 3244.8002, train_label_loss: 0.8884, \n"
     ]
    },
    {
     "name": "stdout",
     "output_type": "stream",
     "text": [
      "epoch: 3, [batch: 6300 / 12600], examples_per_second: 3253.2878, train_label_loss: 0.7868, \n"
     ]
    },
    {
     "name": "stdout",
     "output_type": "stream",
     "text": [
      "epoch: 3, [batch: 7560 / 12600], examples_per_second: 3257.3382, train_label_loss: 0.9139, \n"
     ]
    },
    {
     "name": "stdout",
     "output_type": "stream",
     "text": [
      "epoch: 3, [batch: 8820 / 12600], examples_per_second: 3240.2013, train_label_loss: 0.8453, \n"
     ]
    },
    {
     "name": "stdout",
     "output_type": "stream",
     "text": [
      "epoch: 3, [batch: 10080 / 12600], examples_per_second: 3254.4609, train_label_loss: 1.0516, \n"
     ]
    },
    {
     "name": "stdout",
     "output_type": "stream",
     "text": [
      "epoch: 3, [batch: 11340 / 12600], examples_per_second: 3252.4079, train_label_loss: 0.7949, \n"
     ]
    },
    {
     "name": "stdout",
     "output_type": "stream",
     "text": [
      "=============================================================\n",
      "epoch: 3, source_val_acc_label: 0.6837, target_val_acc_label: 0.6029, source_val_label_loss: 0.8736, target_val_label_loss: 1.0679, \n",
      "=============================================================\n"
     ]
    },
    {
     "name": "stdout",
     "output_type": "stream",
     "text": [
      "New best\n"
     ]
    },
    {
     "name": "stdout",
     "output_type": "stream",
     "text": [
      "epoch: 4, [batch: 1 / 12600], examples_per_second: 2.2853, train_label_loss: 0.4955, \n"
     ]
    },
    {
     "name": "stdout",
     "output_type": "stream",
     "text": [
      "epoch: 4, [batch: 1260 / 12600], examples_per_second: 3240.6600, train_label_loss: 0.8099, \n"
     ]
    },
    {
     "name": "stdout",
     "output_type": "stream",
     "text": [
      "epoch: 4, [batch: 2520 / 12600], examples_per_second: 3241.5456, train_label_loss: 0.8022, \n"
     ]
    },
    {
     "name": "stdout",
     "output_type": "stream",
     "text": [
      "epoch: 4, [batch: 3780 / 12600], examples_per_second: 3253.6111, train_label_loss: 0.7236, \n"
     ]
    },
    {
     "name": "stdout",
     "output_type": "stream",
     "text": [
      "epoch: 4, [batch: 5040 / 12600], examples_per_second: 3242.4580, train_label_loss: 0.6676, \n"
     ]
    },
    {
     "name": "stdout",
     "output_type": "stream",
     "text": [
      "epoch: 4, [batch: 6300 / 12600], examples_per_second: 3248.4922, train_label_loss: 0.3846, \n"
     ]
    },
    {
     "name": "stdout",
     "output_type": "stream",
     "text": [
      "epoch: 4, [batch: 7560 / 12600], examples_per_second: 3255.2257, train_label_loss: 0.8337, \n"
     ]
    },
    {
     "name": "stdout",
     "output_type": "stream",
     "text": [
      "epoch: 4, [batch: 8820 / 12600], examples_per_second: 3248.6967, train_label_loss: 0.6930, \n"
     ]
    },
    {
     "name": "stdout",
     "output_type": "stream",
     "text": [
      "epoch: 4, [batch: 10080 / 12600], examples_per_second: 3255.0669, train_label_loss: 0.5188, \n"
     ]
    },
    {
     "name": "stdout",
     "output_type": "stream",
     "text": [
      "epoch: 4, [batch: 11340 / 12600], examples_per_second: 3262.0662, train_label_loss: 0.5647, \n"
     ]
    },
    {
     "name": "stdout",
     "output_type": "stream",
     "text": [
      "=============================================================\n",
      "epoch: 4, source_val_acc_label: 0.6855, target_val_acc_label: 0.6091, source_val_label_loss: 0.8608, target_val_label_loss: 1.0559, \n",
      "=============================================================\n"
     ]
    },
    {
     "name": "stdout",
     "output_type": "stream",
     "text": [
      "New best\n"
     ]
    },
    {
     "name": "stdout",
     "output_type": "stream",
     "text": [
      "epoch: 5, [batch: 1 / 12600], examples_per_second: 2.2988, train_label_loss: 0.7597, \n"
     ]
    },
    {
     "name": "stdout",
     "output_type": "stream",
     "text": [
      "epoch: 5, [batch: 1260 / 12600], examples_per_second: 3212.0369, train_label_loss: 0.7710, \n"
     ]
    },
    {
     "name": "stdout",
     "output_type": "stream",
     "text": [
      "epoch: 5, [batch: 2520 / 12600], examples_per_second: 3254.1839, train_label_loss: 0.7393, \n"
     ]
    },
    {
     "name": "stdout",
     "output_type": "stream",
     "text": [
      "epoch: 5, [batch: 3780 / 12600], examples_per_second: 3250.8621, train_label_loss: 0.6795, \n"
     ]
    },
    {
     "name": "stdout",
     "output_type": "stream",
     "text": [
      "epoch: 5, [batch: 5040 / 12600], examples_per_second: 3227.7847, train_label_loss: 0.7232, \n"
     ]
    },
    {
     "name": "stdout",
     "output_type": "stream",
     "text": [
      "epoch: 5, [batch: 6300 / 12600], examples_per_second: 3243.2886, train_label_loss: 0.6327, \n"
     ]
    },
    {
     "name": "stdout",
     "output_type": "stream",
     "text": [
      "epoch: 5, [batch: 7560 / 12600], examples_per_second: 3251.4932, train_label_loss: 0.7316, \n"
     ]
    },
    {
     "name": "stdout",
     "output_type": "stream",
     "text": [
      "epoch: 5, [batch: 8820 / 12600], examples_per_second: 3242.5970, train_label_loss: 0.3464, \n"
     ]
    },
    {
     "name": "stdout",
     "output_type": "stream",
     "text": [
      "epoch: 5, [batch: 10080 / 12600], examples_per_second: 3251.9946, train_label_loss: 0.8222, \n"
     ]
    },
    {
     "name": "stdout",
     "output_type": "stream",
     "text": [
      "epoch: 5, [batch: 11340 / 12600], examples_per_second: 3253.1004, train_label_loss: 0.6340, \n"
     ]
    },
    {
     "name": "stdout",
     "output_type": "stream",
     "text": [
      "=============================================================\n",
      "epoch: 5, source_val_acc_label: 0.6867, target_val_acc_label: 0.6121, source_val_label_loss: 0.8617, target_val_label_loss: 1.0586, \n",
      "=============================================================\n"
     ]
    },
    {
     "name": "stdout",
     "output_type": "stream",
     "text": [
      "New best\n"
     ]
    },
    {
     "name": "stdout",
     "output_type": "stream",
     "text": [
      "epoch: 6, [batch: 1 / 12600], examples_per_second: 2.2876, train_label_loss: 0.5953, \n"
     ]
    },
    {
     "name": "stdout",
     "output_type": "stream",
     "text": [
      "epoch: 6, [batch: 1260 / 12600], examples_per_second: 3219.3050, train_label_loss: 0.9105, \n"
     ]
    },
    {
     "name": "stdout",
     "output_type": "stream",
     "text": [
      "epoch: 6, [batch: 2520 / 12600], examples_per_second: 3239.7409, train_label_loss: 0.5249, \n"
     ]
    },
    {
     "name": "stdout",
     "output_type": "stream",
     "text": [
      "epoch: 6, [batch: 3780 / 12600], examples_per_second: 3233.4168, train_label_loss: 0.2516, \n"
     ]
    },
    {
     "name": "stdout",
     "output_type": "stream",
     "text": [
      "epoch: 6, [batch: 5040 / 12600], examples_per_second: 3237.1735, train_label_loss: 0.4306, \n"
     ]
    },
    {
     "name": "stdout",
     "output_type": "stream",
     "text": [
      "epoch: 6, [batch: 6300 / 12600], examples_per_second: 3241.7567, train_label_loss: 0.3486, \n"
     ]
    },
    {
     "name": "stdout",
     "output_type": "stream",
     "text": [
      "epoch: 6, [batch: 7560 / 12600], examples_per_second: 3253.8173, train_label_loss: 0.5670, \n"
     ]
    },
    {
     "name": "stdout",
     "output_type": "stream",
     "text": [
      "epoch: 6, [batch: 8820 / 12600], examples_per_second: 3240.6868, train_label_loss: 0.4271, \n"
     ]
    },
    {
     "name": "stdout",
     "output_type": "stream",
     "text": [
      "epoch: 6, [batch: 10080 / 12600], examples_per_second: 3250.5679, train_label_loss: 0.4933, \n"
     ]
    },
    {
     "name": "stdout",
     "output_type": "stream",
     "text": [
      "epoch: 6, [batch: 11340 / 12600], examples_per_second: 3243.1538, train_label_loss: 0.3366, \n"
     ]
    },
    {
     "name": "stdout",
     "output_type": "stream",
     "text": [
      "=============================================================\n",
      "epoch: 6, source_val_acc_label: 0.6924, target_val_acc_label: 0.6162, source_val_label_loss: 0.8775, target_val_label_loss: 1.0698, \n",
      "=============================================================\n"
     ]
    },
    {
     "name": "stdout",
     "output_type": "stream",
     "text": [
      "New best\n"
     ]
    },
    {
     "name": "stdout",
     "output_type": "stream",
     "text": [
      "epoch: 7, [batch: 1 / 12600], examples_per_second: 2.2890, train_label_loss: 0.3299, \n"
     ]
    },
    {
     "name": "stdout",
     "output_type": "stream",
     "text": [
      "epoch: 7, [batch: 1260 / 12600], examples_per_second: 3230.1895, train_label_loss: 0.1120, \n"
     ]
    },
    {
     "name": "stdout",
     "output_type": "stream",
     "text": [
      "epoch: 7, [batch: 2520 / 12600], examples_per_second: 3247.5158, train_label_loss: 0.2238, \n"
     ]
    },
    {
     "name": "stdout",
     "output_type": "stream",
     "text": [
      "epoch: 7, [batch: 3780 / 12600], examples_per_second: 3253.5184, train_label_loss: 0.3602, \n"
     ]
    },
    {
     "name": "stdout",
     "output_type": "stream",
     "text": [
      "epoch: 7, [batch: 5040 / 12600], examples_per_second: 3236.0595, train_label_loss: 0.5920, \n"
     ]
    },
    {
     "name": "stdout",
     "output_type": "stream",
     "text": [
      "epoch: 7, [batch: 6300 / 12600], examples_per_second: 3250.9608, train_label_loss: 0.5134, \n"
     ]
    },
    {
     "name": "stdout",
     "output_type": "stream",
     "text": [
      "epoch: 7, [batch: 7560 / 12600], examples_per_second: 3263.0207, train_label_loss: 0.3133, \n"
     ]
    },
    {
     "name": "stdout",
     "output_type": "stream",
     "text": [
      "epoch: 7, [batch: 8820 / 12600], examples_per_second: 3238.2772, train_label_loss: 0.4856, \n"
     ]
    },
    {
     "name": "stdout",
     "output_type": "stream",
     "text": [
      "epoch: 7, [batch: 10080 / 12600], examples_per_second: 3255.7248, train_label_loss: 0.3423, \n"
     ]
    },
    {
     "name": "stdout",
     "output_type": "stream",
     "text": [
      "epoch: 7, [batch: 11340 / 12600], examples_per_second: 3256.8504, train_label_loss: 0.2732, \n"
     ]
    },
    {
     "name": "stdout",
     "output_type": "stream",
     "text": [
      "=============================================================\n",
      "epoch: 7, source_val_acc_label: 0.6923, target_val_acc_label: 0.6155, source_val_label_loss: 0.9246, target_val_label_loss: 1.1154, \n",
      "=============================================================\n"
     ]
    },
    {
     "name": "stdout",
     "output_type": "stream",
     "text": [
      "epoch: 8, [batch: 1 / 12600], examples_per_second: 2.2924, train_label_loss: 0.3889, \n"
     ]
    },
    {
     "name": "stdout",
     "output_type": "stream",
     "text": [
      "epoch: 8, [batch: 1260 / 12600], examples_per_second: 3219.5229, train_label_loss: 0.4782, \n"
     ]
    },
    {
     "name": "stdout",
     "output_type": "stream",
     "text": [
      "epoch: 8, [batch: 2520 / 12600], examples_per_second: 3250.0493, train_label_loss: 0.4546, \n"
     ]
    },
    {
     "name": "stdout",
     "output_type": "stream",
     "text": [
      "epoch: 8, [batch: 3780 / 12600], examples_per_second: 3253.7322, train_label_loss: 0.1722, \n"
     ]
    },
    {
     "name": "stdout",
     "output_type": "stream",
     "text": [
      "epoch: 8, [batch: 5040 / 12600], examples_per_second: 3239.4848, train_label_loss: 0.3173, \n"
     ]
    },
    {
     "name": "stdout",
     "output_type": "stream",
     "text": [
      "epoch: 8, [batch: 6300 / 12600], examples_per_second: 3249.0933, train_label_loss: 0.2889, \n"
     ]
    },
    {
     "name": "stdout",
     "output_type": "stream",
     "text": [
      "epoch: 8, [batch: 7560 / 12600], examples_per_second: 3250.5632, train_label_loss: 0.4266, \n"
     ]
    },
    {
     "name": "stdout",
     "output_type": "stream",
     "text": [
      "epoch: 8, [batch: 8820 / 12600], examples_per_second: 3245.8483, train_label_loss: 0.1904, \n"
     ]
    },
    {
     "name": "stdout",
     "output_type": "stream",
     "text": [
      "epoch: 8, [batch: 10080 / 12600], examples_per_second: 3251.5117, train_label_loss: 0.5404, \n"
     ]
    },
    {
     "name": "stdout",
     "output_type": "stream",
     "text": [
      "epoch: 8, [batch: 11340 / 12600], examples_per_second: 3266.2282, train_label_loss: 0.1527, \n"
     ]
    },
    {
     "name": "stdout",
     "output_type": "stream",
     "text": [
      "=============================================================\n",
      "epoch: 8, source_val_acc_label: 0.6849, target_val_acc_label: 0.6095, source_val_label_loss: 0.9620, target_val_label_loss: 1.1427, \n",
      "=============================================================\n"
     ]
    },
    {
     "name": "stdout",
     "output_type": "stream",
     "text": [
      "epoch: 9, [batch: 1 / 12600], examples_per_second: 2.2959, train_label_loss: 0.2436, \n"
     ]
    },
    {
     "name": "stdout",
     "output_type": "stream",
     "text": [
      "epoch: 9, [batch: 1260 / 12600], examples_per_second: 3226.9765, train_label_loss: 0.3259, \n"
     ]
    },
    {
     "name": "stdout",
     "output_type": "stream",
     "text": [
      "epoch: 9, [batch: 2520 / 12600], examples_per_second: 3244.5096, train_label_loss: 0.3250, \n"
     ]
    },
    {
     "name": "stdout",
     "output_type": "stream",
     "text": [
      "epoch: 9, [batch: 3780 / 12600], examples_per_second: 3263.1263, train_label_loss: 0.3869, \n"
     ]
    },
    {
     "name": "stdout",
     "output_type": "stream",
     "text": [
      "epoch: 9, [batch: 5040 / 12600], examples_per_second: 3222.9943, train_label_loss: 0.2456, \n"
     ]
    },
    {
     "name": "stdout",
     "output_type": "stream",
     "text": [
      "epoch: 9, [batch: 6300 / 12600], examples_per_second: 3231.3547, train_label_loss: 0.3230, \n"
     ]
    },
    {
     "name": "stdout",
     "output_type": "stream",
     "text": [
      "epoch: 9, [batch: 7560 / 12600], examples_per_second: 3254.6961, train_label_loss: 0.5716, \n"
     ]
    },
    {
     "name": "stdout",
     "output_type": "stream",
     "text": [
      "epoch: 9, [batch: 8820 / 12600], examples_per_second: 3242.1806, train_label_loss: 0.2537, \n"
     ]
    },
    {
     "name": "stdout",
     "output_type": "stream",
     "text": [
      "epoch: 9, [batch: 10080 / 12600], examples_per_second: 3252.2523, train_label_loss: 0.2813, \n"
     ]
    },
    {
     "name": "stdout",
     "output_type": "stream",
     "text": [
      "epoch: 9, [batch: 11340 / 12600], examples_per_second: 3263.7004, train_label_loss: 0.1989, \n"
     ]
    },
    {
     "name": "stdout",
     "output_type": "stream",
     "text": [
      "=============================================================\n",
      "epoch: 9, source_val_acc_label: 0.6864, target_val_acc_label: 0.6057, source_val_label_loss: 0.9915, target_val_label_loss: 1.2007, \n",
      "=============================================================\n"
     ]
    },
    {
     "name": "stdout",
     "output_type": "stream",
     "text": [
      "epoch: 10, [batch: 1 / 12600], examples_per_second: 2.2781, train_label_loss: 0.1248, \n"
     ]
    },
    {
     "name": "stdout",
     "output_type": "stream",
     "text": [
      "epoch: 10, [batch: 1260 / 12600], examples_per_second: 3210.0451, train_label_loss: 0.3591, \n"
     ]
    },
    {
     "name": "stdout",
     "output_type": "stream",
     "text": [
      "epoch: 10, [batch: 2520 / 12600], examples_per_second: 3257.1247, train_label_loss: 0.4735, \n"
     ]
    },
    {
     "name": "stdout",
     "output_type": "stream",
     "text": [
      "epoch: 10, [batch: 3780 / 12600], examples_per_second: 3250.1379, train_label_loss: 0.4494, \n"
     ]
    },
    {
     "name": "stdout",
     "output_type": "stream",
     "text": [
      "epoch: 10, [batch: 5040 / 12600], examples_per_second: 3227.3220, train_label_loss: 0.4554, \n"
     ]
    },
    {
     "name": "stdout",
     "output_type": "stream",
     "text": [
      "epoch: 10, [batch: 6300 / 12600], examples_per_second: 3249.4879, train_label_loss: 0.2651, \n"
     ]
    },
    {
     "name": "stdout",
     "output_type": "stream",
     "text": [
      "epoch: 10, [batch: 7560 / 12600], examples_per_second: 3256.4140, train_label_loss: 0.2857, \n"
     ]
    },
    {
     "name": "stdout",
     "output_type": "stream",
     "text": [
      "epoch: 10, [batch: 8820 / 12600], examples_per_second: 3246.5321, train_label_loss: 0.2164, \n"
     ]
    },
    {
     "name": "stdout",
     "output_type": "stream",
     "text": [
      "epoch: 10, [batch: 10080 / 12600], examples_per_second: 3258.0434, train_label_loss: 0.1578, \n"
     ]
    },
    {
     "name": "stdout",
     "output_type": "stream",
     "text": [
      "epoch: 10, [batch: 11340 / 12600], examples_per_second: 3249.2844, train_label_loss: 0.0893, \n"
     ]
    },
    {
     "name": "stdout",
     "output_type": "stream",
     "text": [
      "=============================================================\n",
      "epoch: 10, source_val_acc_label: 0.6947, target_val_acc_label: 0.6096, source_val_label_loss: 1.0588, target_val_label_loss: 1.2660, \n",
      "=============================================================\n"
     ]
    },
    {
     "name": "stdout",
     "output_type": "stream",
     "text": [
      "Patience (3) exhausted\n"
     ]
    }
   ],
   "source": [
    "###################################\n",
    "# train\n",
    "###################################\n",
    "jig = PTN_Train_Eval_Test_Jig(model, p.BEST_MODEL_PATH, p.device)\n",
    "\n",
    "jig.train(\n",
    "    train_iterable=datasets.source.processed.train,\n",
    "    source_val_iterable=datasets.source.processed.val,\n",
    "    target_val_iterable=datasets.target.processed.val,\n",
    "    num_epochs=p.n_epoch,\n",
    "    num_logs_per_epoch=p.NUM_LOGS_PER_EPOCH,\n",
    "    patience=p.patience,\n",
    "    optimizer=optimizer,\n",
    "    criteria_for_best=p.criteria_for_best,\n",
    ")"
   ]
  },
  {
   "cell_type": "code",
   "execution_count": 14,
   "id": "31e8fabf",
   "metadata": {
    "execution": {
     "iopub.execute_input": "2022-03-22T09:33:02.673379Z",
     "iopub.status.busy": "2022-03-22T09:33:02.672127Z",
     "iopub.status.idle": "2022-03-22T09:33:02.690971Z",
     "shell.execute_reply": "2022-03-22T09:33:02.691388Z"
    },
    "papermill": {
     "duration": 0.051759,
     "end_time": "2022-03-22T09:33:02.691522",
     "exception": false,
     "start_time": "2022-03-22T09:33:02.639763",
     "status": "completed"
    },
    "tags": []
   },
   "outputs": [],
   "source": [
    "total_experiment_time_secs = time.time() - start_time_secs"
   ]
  },
  {
   "cell_type": "code",
   "execution_count": 15,
   "id": "87b9595b",
   "metadata": {
    "execution": {
     "iopub.execute_input": "2022-03-22T09:33:02.763269Z",
     "iopub.status.busy": "2022-03-22T09:33:02.760503Z",
     "iopub.status.idle": "2022-03-22T09:37:07.103375Z",
     "shell.execute_reply": "2022-03-22T09:37:07.103791Z"
    },
    "papermill": {
     "duration": 244.375369,
     "end_time": "2022-03-22T09:37:07.103916",
     "exception": false,
     "start_time": "2022-03-22T09:33:02.728547",
     "status": "completed"
    },
    "tags": []
   },
   "outputs": [],
   "source": [
    "###################################\n",
    "# Evaluate the model\n",
    "###################################\n",
    "source_test_label_accuracy, source_test_label_loss = jig.test(datasets.source.processed.test)\n",
    "target_test_label_accuracy, target_test_label_loss = jig.test(datasets.target.processed.test)\n",
    "\n",
    "source_val_label_accuracy, source_val_label_loss = jig.test(datasets.source.processed.val)\n",
    "target_val_label_accuracy, target_val_label_loss = jig.test(datasets.target.processed.val)\n",
    "\n",
    "history = jig.get_history()\n",
    "\n",
    "total_epochs_trained = len(history[\"epoch_indices\"])\n",
    "\n",
    "val_dl = Iterable_Aggregator((datasets.source.original.val,datasets.target.original.val))\n",
    "\n",
    "confusion = ptn_confusion_by_domain_over_dataloader(model, p.device, val_dl)\n",
    "per_domain_accuracy = per_domain_accuracy_from_confusion(confusion)\n",
    "\n",
    "# Add a key to per_domain_accuracy for if it was a source domain\n",
    "for domain, accuracy in per_domain_accuracy.items():\n",
    "    per_domain_accuracy[domain] = {\n",
    "        \"accuracy\": accuracy,\n",
    "        \"source?\": domain in p.domains_source\n",
    "    }\n",
    "\n",
    "# Do an independent accuracy assesment JUST TO BE SURE!\n",
    "# _source_test_label_accuracy = independent_accuracy_assesment(model, datasets.source.processed.test, p.device)\n",
    "# _target_test_label_accuracy = independent_accuracy_assesment(model, datasets.target.processed.test, p.device)\n",
    "# _source_val_label_accuracy = independent_accuracy_assesment(model, datasets.source.processed.val, p.device)\n",
    "# _target_val_label_accuracy = independent_accuracy_assesment(model, datasets.target.processed.val, p.device)\n",
    "\n",
    "# assert(_source_test_label_accuracy == source_test_label_accuracy)\n",
    "# assert(_target_test_label_accuracy == target_test_label_accuracy)\n",
    "# assert(_source_val_label_accuracy == source_val_label_accuracy)\n",
    "# assert(_target_val_label_accuracy == target_val_label_accuracy)\n",
    "\n",
    "experiment = {\n",
    "    \"experiment_name\": p.experiment_name,\n",
    "    \"parameters\": dict(p),\n",
    "    \"results\": {\n",
    "        \"source_test_label_accuracy\": source_test_label_accuracy,\n",
    "        \"source_test_label_loss\": source_test_label_loss,\n",
    "        \"target_test_label_accuracy\": target_test_label_accuracy,\n",
    "        \"target_test_label_loss\": target_test_label_loss,\n",
    "        \"source_val_label_accuracy\": source_val_label_accuracy,\n",
    "        \"source_val_label_loss\": source_val_label_loss,\n",
    "        \"target_val_label_accuracy\": target_val_label_accuracy,\n",
    "        \"target_val_label_loss\": target_val_label_loss,\n",
    "        \"total_epochs_trained\": total_epochs_trained,\n",
    "        \"total_experiment_time_secs\": total_experiment_time_secs,\n",
    "        \"confusion\": confusion,\n",
    "        \"per_domain_accuracy\": per_domain_accuracy,\n",
    "    },\n",
    "    \"history\": history,\n",
    "    \"dataset_metrics\": get_dataset_metrics(datasets, \"ptn\"),\n",
    "}"
   ]
  },
  {
   "cell_type": "code",
   "execution_count": 16,
   "id": "54a21829",
   "metadata": {
    "execution": {
     "iopub.execute_input": "2022-03-22T09:37:07.173463Z",
     "iopub.status.busy": "2022-03-22T09:37:07.173214Z",
     "iopub.status.idle": "2022-03-22T09:37:07.306902Z",
     "shell.execute_reply": "2022-03-22T09:37:07.307285Z"
    },
    "papermill": {
     "duration": 0.166993,
     "end_time": "2022-03-22T09:37:07.307392",
     "exception": false,
     "start_time": "2022-03-22T09:37:07.140399",
     "status": "completed"
    },
    "tags": []
   },
   "outputs": [
    {
     "data": {
      "image/png": "[encoded data removed]",
      "text/plain": [
       "<Figure size 1080x504 with 1 Axes>"
      ]
     },
     "metadata": {
      "needs_background": "light"
     },
     "output_type": "display_data"
    }
   ],
   "source": [
    "ax = get_loss_curve(experiment)\n",
    "plt.show()"
   ]
  },
  {
   "cell_type": "code",
   "execution_count": 17,
   "id": "fd8a0f60",
   "metadata": {
    "execution": {
     "iopub.execute_input": "2022-03-22T09:37:07.376847Z",
     "iopub.status.busy": "2022-03-22T09:37:07.376599Z",
     "iopub.status.idle": "2022-03-22T09:37:07.518383Z",
     "shell.execute_reply": "2022-03-22T09:37:07.518163Z"
    },
    "papermill": {
     "duration": 0.17536,
     "end_time": "2022-03-22T09:37:07.518435",
     "exception": false,
     "start_time": "2022-03-22T09:37:07.343075",
     "status": "completed"
    },
    "tags": []
   },
   "outputs": [
    {
     "data": {
      "text/plain": [
       "<AxesSubplot:title={'center':'Results'}>"
      ]
     },
     "execution_count": 17,
     "metadata": {},
     "output_type": "execute_result"
    },
    {
     "data": {
      "image/png": "[encoded data removed]",
      "text/plain": [
       "<Figure size 1080x504 with 1 Axes>"
      ]
     },
     "metadata": {
      "needs_background": "light"
     },
     "output_type": "display_data"
    }
   ],
   "source": [
    "get_results_table(experiment)"
   ]
  },
  {
   "cell_type": "code",
   "execution_count": 18,
   "id": "cf8dc689",
   "metadata": {
    "execution": {
     "iopub.execute_input": "2022-03-22T09:37:07.587764Z",
     "iopub.status.busy": "2022-03-22T09:37:07.587516Z",
     "iopub.status.idle": "2022-03-22T09:37:07.706044Z",
     "shell.execute_reply": "2022-03-22T09:37:07.705594Z"
    },
    "papermill": {
     "duration": 0.15389,
     "end_time": "2022-03-22T09:37:07.706135",
     "exception": false,
     "start_time": "2022-03-22T09:37:07.552245",
     "status": "completed"
    },
    "tags": []
   },
   "outputs": [
    {
     "data": {
      "text/plain": [
       "<AxesSubplot:title={'center':'Per Domain Validation Accuracy'}, xlabel='domain'>"
      ]
     },
     "execution_count": 18,
     "metadata": {},
     "output_type": "execute_result"
    },
    {
     "data": {
      "image/png": "[encoded data removed]",
      "text/plain": [
       "<Figure size 1080x504 with 1 Axes>"
      ]
     },
     "metadata": {
      "needs_background": "light"
     },
     "output_type": "display_data"
    }
   ],
   "source": [
    "get_domain_accuracies(experiment)"
   ]
  },
  {
   "cell_type": "code",
   "execution_count": 19,
   "id": "a74ae082",
   "metadata": {
    "execution": {
     "iopub.execute_input": "2022-03-22T09:37:07.780758Z",
     "iopub.status.busy": "2022-03-22T09:37:07.780507Z",
     "iopub.status.idle": "2022-03-22T09:37:07.796438Z",
     "shell.execute_reply": "2022-03-22T09:37:07.795989Z"
    },
    "papermill": {
     "duration": 0.05196,
     "end_time": "2022-03-22T09:37:07.796527",
     "exception": false,
     "start_time": "2022-03-22T09:37:07.744567",
     "status": "completed"
    },
    "tags": []
   },
   "outputs": [
    {
     "name": "stdout",
     "output_type": "stream",
     "text": [
      "Source Test Label Accuracy: 0.6956076388888889 Target Test Label Accuracy: 0.6223645833333333\n",
      "Source Val Label Accuracy: 0.6923611111111111 Target Val Label Accuracy: 0.61615625\n"
     ]
    }
   ],
   "source": [
    "print(\"Source Test Label Accuracy:\", experiment[\"results\"][\"source_test_label_accuracy\"], \"Target Test Label Accuracy:\", experiment[\"results\"][\"target_test_label_accuracy\"])\n",
    "print(\"Source Val Label Accuracy:\", experiment[\"results\"][\"source_val_label_accuracy\"], \"Target Val Label Accuracy:\", experiment[\"results\"][\"target_val_label_accuracy\"])"
   ]
  },
  {
   "cell_type": "code",
   "execution_count": 20,
   "id": "dacca602",
   "metadata": {
    "execution": {
     "iopub.execute_input": "2022-03-22T09:37:07.871773Z",
     "iopub.status.busy": "2022-03-22T09:37:07.871526Z",
     "iopub.status.idle": "2022-03-22T09:37:07.882762Z",
     "shell.execute_reply": "2022-03-22T09:37:07.882967Z"
    },
    "papermill": {
     "duration": 0.047076,
     "end_time": "2022-03-22T09:37:07.883026",
     "exception": false,
     "start_time": "2022-03-22T09:37:07.835950",
     "status": "completed"
    },
    "tags": [
     "experiment_json"
    ]
   },
   "outputs": [
    {
     "data": {
      "text/plain": [
       "'{\"experiment_name\": \"tuned_1v2:oracle.run1\", \"parameters\": {\"experiment_name\": \"tuned_1v2:oracle.run1\", \"device\": \"cuda\", \"lr\": 0.0001, \"labels_source\": [\"3123D52\", \"3123D65\", \"3123D79\", \"3123D80\", \"3123D54\", \"3123D70\", \"3123D7B\", \"3123D89\", \"3123D58\", \"3123D76\", \"3123D7D\", \"3123EFE\", \"3123D64\", \"3123D78\", \"3123D7E\", \"3124E4A\"], \"labels_target\": [\"3123D52\", \"3123D65\", \"3123D79\", \"3123D80\", \"3123D54\", \"3123D70\", \"3123D7B\", \"3123D89\", \"3123D58\", \"3123D76\", \"3123D7D\", \"3123EFE\", \"3123D64\", \"3123D78\", \"3123D7E\", \"3124E4A\"], \"episode_transforms_source\": [], \"episode_transforms_target\": [], \"domains_source\": [8, 32, 50], \"domains_target\": [14, 20, 26, 38, 44], \"num_examples_per_domain_per_label_source\": -1, \"num_examples_per_domain_per_label_target\": -1, \"n_shot\": 3, \"n_way\": 16, \"n_query\": 2, \"train_k_factor\": 3, \"val_k_factor\": 2, \"test_k_factor\": 2, \"torch_default_dtype\": \"torch.float32\", \"n_epoch\": 50, \"patience\": 3, \"criteria_for_best\": \"target_accuracy\", \"x_net\": [{\"class\": \"nnReshape\", \"kargs\": {\"shape\": [-1, 1, 2, 256]}}, {\"class\": \"Conv2d\", \"kargs\": {\"in_channels\": 1, \"out_channels\": 256, \"kernel_size\": [1, 7], \"bias\": false, \"padding\": [0, 3]}}, {\"class\": \"ReLU\", \"kargs\": {\"inplace\": true}}, {\"class\": \"BatchNorm2d\", \"kargs\": {\"num_features\": 256}}, {\"class\": \"Conv2d\", \"kargs\": {\"in_channels\": 256, \"out_channels\": 80, \"kernel_size\": [2, 7], \"bias\": true, \"padding\": [0, 3]}}, {\"class\": \"ReLU\", \"kargs\": {\"inplace\": true}}, {\"class\": \"BatchNorm2d\", \"kargs\": {\"num_features\": 80}}, {\"class\": \"Flatten\", \"kargs\": {}}, {\"class\": \"Linear\", \"kargs\": {\"in_features\": 20480, \"out_features\": 256}}, {\"class\": \"ReLU\", \"kargs\": {\"inplace\": true}}, {\"class\": \"BatchNorm1d\", \"kargs\": {\"num_features\": 256}}, {\"class\": \"Linear\", \"kargs\": {\"in_features\": 256, \"out_features\": 256}}], \"NUM_LOGS_PER_EPOCH\": 10, \"BEST_MODEL_PATH\": \"./best_model.pth\", \"pickle_name\": \"oracle.Run1_10kExamples_stratified_ds.2022A.pkl\", \"x_transforms_source\": [\"unit_power\"], \"x_transforms_target\": [\"unit_power\"], \"dataset_seed\": 1337, \"seed\": 1337}, \"results\": {\"source_test_label_accuracy\": 0.6956076388888889, \"source_test_label_loss\": 0.8666256666183472, \"target_test_label_accuracy\": 0.6223645833333333, \"target_test_label_loss\": 1.0570051670074463, \"source_val_label_accuracy\": 0.6923611111111111, \"source_val_label_loss\": 0.8775440454483032, \"target_val_label_accuracy\": 0.61615625, \"target_val_label_loss\": 1.0697776079177856, \"total_epochs_trained\": 10, \"total_experiment_time_secs\": 3577.5477368831635, \"confusion\": {\"8\": {\"15\": {\"15\": 820, \"12\": 277, \"8\": 63, \"2\": 23, \"6\": 2, \"3\": 10, \"7\": 5}, \"3\": {\"3\": 903, \"12\": 116, \"2\": 166, \"15\": 15}, \"6\": {\"6\": 676, \"7\": 272, \"4\": 135, \"0\": 62, \"13\": 23, \"8\": 18, \"14\": 14}, \"1\": {\"1\": 673, \"11\": 381, \"14\": 92, \"4\": 11, \"5\": 23, \"10\": 18, \"6\": 1, \"8\": 1}, \"8\": {\"8\": 1088, \"15\": 80, \"12\": 5, \"7\": 9, \"6\": 16, \"11\": 2}, \"10\": {\"14\": 231, \"10\": 737, \"11\": 1, \"0\": 11, \"5\": 43, \"1\": 17, \"13\": 108, \"4\": 51, \"6\": 1}, \"9\": {\"9\": 1200}, \"13\": {\"10\": 142, \"4\": 209, \"14\": 111, \"13\": 391, \"0\": 282, \"6\": 46, \"7\": 13, \"11\": 2, \"1\": 4}, \"12\": {\"15\": 341, \"12\": 576, \"3\": 234, \"2\": 21, \"8\": 28}, \"5\": {\"5\": 1034, \"11\": 13, \"1\": 53, \"10\": 89, \"14\": 11}, \"0\": {\"0\": 622, \"13\": 277, \"7\": 90, \"4\": 84, \"6\": 92, \"10\": 25, \"14\": 10}, \"2\": {\"15\": 54, \"2\": 862, \"7\": 22, \"3\": 232, \"8\": 3, \"12\": 26, \"6\": 1}, \"11\": {\"1\": 476, \"11\": 632, \"4\": 13, \"8\": 22, \"14\": 33, \"5\": 17, \"6\": 4, \"10\": 3}, \"14\": {\"4\": 228, \"14\": 506, \"10\": 223, \"13\": 121, \"1\": 80, \"11\": 11, \"0\": 10, \"6\": 19, \"5\": 2}, \"7\": {\"7\": 852, \"6\": 260, \"0\": 54, \"13\": 11, \"8\": 10, \"4\": 8, \"15\": 3, \"2\": 1, \"14\": 1}, \"4\": {\"4\": 488, \"13\": 208, \"6\": 156, \"14\": 205, \"0\": 93, \"10\": 32, \"7\": 11, \"11\": 2, \"1\": 5}}, \"50\": {\"3\": {\"3\": 1168, \"8\": 32}, \"15\": {\"1\": 234, \"15\": 804, \"11\": 44, \"4\": 111, \"6\": 5, \"14\": 2}, \"8\": {\"8\": 1170, \"10\": 22, \"3\": 8}, \"4\": {\"1\": 225, \"15\": 197, \"5\": 87, \"6\": 170, \"13\": 24, \"4\": 473, \"7\": 23, \"11\": 1}, \"14\": {\"14\": 1142, \"12\": 41, \"11\": 15, \"9\": 1, \"1\": 1}, \"0\": {\"0\": 1008, \"2\": 126, \"10\": 54, \"8\": 1, \"6\": 3, \"13\": 8}, \"7\": {\"13\": 278, \"7\": 692, \"5\": 172, \"10\": 39, \"6\": 13, \"4\": 6}, \"6\": {\"1\": 126, \"6\": 735, \"5\": 95, \"13\": 67, \"4\": 155, \"0\": 2, \"15\": 14, \"7\": 6}, \"10\": {\"10\": 1063, \"13\": 36, \"0\": 52, \"5\": 6, \"7\": 33, \"8\": 10}, \"5\": {\"7\": 241, \"13\": 249, \"6\": 201, \"5\": 338, \"4\": 121, \"10\": 12, \"1\": 34, \"15\": 2, \"0\": 2}, \"2\": {\"2\": 1109, \"0\": 87, \"1\": 2, \"6\": 1, \"13\": 1}, \"12\": {\"12\": 1050, \"14\": 53, \"9\": 86, \"11\": 11}, \"9\": {\"11\": 168, \"9\": 910, \"12\": 115, \"14\": 7}, \"1\": {\"1\": 626, \"4\": 183, \"15\": 271, \"6\": 107, \"5\": 4, \"11\": 7, \"2\": 1, \"14\": 1}, \"11\": {\"11\": 1016, \"15\": 31, \"9\": 126, \"1\": 2, \"12\": 8, \"14\": 17}, \"13\": {\"13\": 602, \"7\": 214, \"6\": 83, \"10\": 18, \"5\": 259, \"0\": 7, \"4\": 16, \"1\": 1}}, \"32\": {\"5\": {\"13\": 306, \"5\": 315, \"4\": 141, \"3\": 54, \"11\": 31, \"7\": 140, \"8\": 94, \"14\": 37, \"0\": 71, \"2\": 11}, \"8\": {\"8\": 838, \"13\": 118, \"3\": 27, \"5\": 94, \"0\": 107, \"14\": 2, \"4\": 10, \"7\": 3, \"11\": 1}, \"11\": {\"11\": 906, \"14\": 205, \"5\": 16, \"3\": 19, \"13\": 24, \"7\": 30}, \"1\": {\"1\": 1190, \"10\": 10}, \"10\": {\"10\": 1197, \"1\": 3}, \"15\": {\"15\": 1185, \"3\": 4, \"8\": 11}, \"3\": {\"3\": 1060, \"13\": 56, \"11\": 30, \"8\": 19, \"5\": 23, \"14\": 12}, \"7\": {\"13\": 101, \"7\": 511, \"11\": 39, \"5\": 125, \"14\": 179, \"4\": 197, \"2\": 26, \"8\": 1, \"0\": 20, \"3\": 1}, \"4\": {\"4\": 599, \"0\": 122, \"2\": 223, \"7\": 135, \"5\": 71, \"13\": 28, \"8\": 6, \"14\": 16}, \"14\": {\"7\": 205, \"11\": 390, \"14\": 410, \"13\": 76, \"4\": 38, \"5\": 39, \"2\": 13, \"3\": 9, \"0\": 18, \"8\": 2}, \"9\": {\"9\": 1196, \"12\": 4}, \"12\": {\"12\": 1199, \"9\": 1}, \"6\": {\"6\": 1200}, \"2\": {\"2\": 961, \"4\": 191, \"7\": 13, \"0\": 35}, \"0\": {\"0\": 733, \"4\": 152, \"8\": 110, \"5\": 55, \"2\": 63, \"7\": 42, \"13\": 33, \"14\": 12}, \"13\": {\"8\": 88, \"13\": 414, \"5\": 313, \"11\": 42, \"7\": 114, \"4\": 63, \"3\": 74, \"14\": 54, \"0\": 37, \"2\": 1}}, \"14\": {\"15\": {\"15\": 1096, \"7\": 101, \"2\": 1, \"5\": 2}, \"3\": {\"3\": 887, \"4\": 195, \"2\": 26, \"0\": 13, \"14\": 61, \"5\": 6, \"13\": 2, \"10\": 6, \"1\": 3, \"6\": 1}, \"6\": {\"13\": 393, \"6\": 612, \"2\": 99, \"5\": 1, \"14\": 93, \"4\": 1, \"3\": 1}, \"1\": {\"1\": 975, \"5\": 193, \"4\": 19, \"7\": 10, \"3\": 2, \"2\": 1}, \"8\": {\"8\": 1200}, \"10\": {\"10\": 985, \"0\": 198, \"14\": 8, \"11\": 5, \"3\": 3, \"6\": 1}, \"9\": {\"9\": 1183, \"11\": 12, \"12\": 5}, \"13\": {\"13\": 354, \"2\": 124, \"14\": 234, \"6\": 447, \"5\": 20, \"15\": 4, \"4\": 7, \"10\": 3, \"3\": 6, \"7\": 1}, \"12\": {\"12\": 1185, \"9\": 15}, \"5\": {\"5\": 660, \"3\": 19, \"2\": 72, \"1\": 197, \"4\": 233, \"14\": 1, \"15\": 7, \"6\": 1, \"7\": 10}, \"0\": {\"0\": 900, \"10\": 224, \"11\": 29, \"3\": 44, \"14\": 3}, \"2\": {\"6\": 123, \"14\": 178, \"2\": 442, \"3\": 67, \"5\": 135, \"4\": 129, \"13\": 92, \"15\": 27, \"1\": 7}, \"11\": {\"11\": 1027, \"10\": 47, \"0\": 59, \"9\": 67}, \"14\": {\"14\": 785, \"13\": 148, \"3\": 63, \"10\": 7, \"6\": 90, \"2\": 94, \"4\": 11, \"5\": 1, \"0\": 1}, \"7\": {\"7\": 1123, \"15\": 63, \"1\": 7, \"5\": 7}, \"4\": {\"4\": 682, \"1\": 34, \"2\": 106, \"3\": 164, \"5\": 193, \"13\": 5, \"14\": 13, \"6\": 3}}, \"20\": {\"3\": {\"12\": 206, \"8\": 41, \"4\": 101, \"2\": 100, \"3\": 374, \"9\": 204, \"5\": 45, \"7\": 63, \"1\": 28, \"13\": 8, \"0\": 22, \"15\": 7, \"10\": 1}, \"15\": {\"1\": 210, \"5\": 115, \"15\": 654, \"13\": 59, \"0\": 103, \"9\": 8, \"12\": 41, \"2\": 7, \"3\": 3}, \"8\": {\"8\": 633, \"7\": 107, \"10\": 100, \"4\": 215, \"14\": 44, \"3\": 43, \"2\": 8, \"9\": 18, \"6\": 29, \"0\": 1, \"5\": 2}, \"4\": {\"4\": 759, \"8\": 247, \"10\": 62, \"0\": 12, \"12\": 21, \"3\": 76, \"5\": 6, \"14\": 1, \"9\": 7, \"7\": 6, \"2\": 3}, \"14\": {\"14\": 724, \"6\": 199, \"10\": 233, \"8\": 38, \"7\": 6}, \"0\": {\"0\": 408, \"5\": 290, \"3\": 47, \"4\": 21, \"1\": 156, \"9\": 17, \"2\": 15, \"8\": 7, \"15\": 139, \"12\": 98, \"13\": 2}, \"7\": {\"2\": 190, \"7\": 668, \"9\": 106, \"6\": 33, \"8\": 105, \"3\": 53, \"4\": 14, \"12\": 4, \"13\": 7, \"14\": 9, \"0\": 2, \"10\": 6, \"11\": 3}, \"6\": {\"6\": 916, \"8\": 16, \"7\": 34, \"10\": 12, \"14\": 214, \"11\": 7, \"2\": 1}, \"10\": {\"10\": 810, \"8\": 111, \"14\": 214, \"4\": 47, \"6\": 12, \"7\": 5, \"9\": 1}, \"5\": {\"1\": 232, \"0\": 275, \"5\": 310, \"12\": 167, \"3\": 47, \"15\": 128, \"13\": 5, \"4\": 13, \"9\": 13, \"2\": 7, \"8\": 1, \"7\": 2}, \"2\": {\"2\": 430, \"7\": 174, \"13\": 122, \"3\": 105, \"9\": 276, \"5\": 4, \"12\": 57, \"15\": 8, \"4\": 1, \"8\": 2, \"1\": 16, \"6\": 2, \"0\": 3}, \"12\": {\"3\": 216, \"9\": 149, \"7\": 9, \"0\": 78, \"12\": 322, \"1\": 124, \"5\": 161, \"10\": 1, \"2\": 56, \"15\": 41, \"13\": 15, \"4\": 25, \"8\": 3}, \"9\": {\"9\": 345, \"7\": 105, \"3\": 201, \"4\": 13, \"2\": 283, \"13\": 54, \"12\": 129, \"8\": 11, \"0\": 10, \"1\": 28, \"5\": 14, \"15\": 6, \"6\": 1}, \"1\": {\"5\": 211, \"15\": 267, \"1\": 317, \"4\": 1, \"12\": 162, \"0\": 139, \"2\": 21, \"3\": 38, \"9\": 19, \"13\": 25}, \"11\": {\"11\": 1188, \"6\": 6, \"7\": 4, \"13\": 2}, \"13\": {\"13\": 984, \"9\": 47, \"15\": 36, \"3\": 4, \"2\": 98, \"1\": 12, \"12\": 11, \"11\": 1, \"7\": 2, \"0\": 3, \"5\": 2}}, \"44\": {\"5\": {\"5\": 980, \"0\": 109, \"15\": 63, \"14\": 31, \"4\": 5, \"8\": 12}, \"8\": {\"0\": 390, \"8\": 748, \"5\": 18, \"15\": 44}, \"11\": {\"11\": 1057, \"6\": 64, \"13\": 79}, \"1\": {\"1\": 634, \"10\": 95, \"12\": 247, \"3\": 169, \"2\": 52, \"7\": 3}, \"10\": {\"2\": 135, \"10\": 798, \"12\": 144, \"1\": 123}, \"15\": {\"15\": 934, \"8\": 10, \"14\": 118, \"0\": 87, \"4\": 19, \"5\": 32}, \"3\": {\"3\": 1041, \"1\": 135, \"12\": 16, \"7\": 3, \"2\": 5}, \"7\": {\"7\": 732, \"9\": 240, \"1\": 5, \"6\": 34, \"2\": 175, \"3\": 9, \"13\": 4, \"10\": 1}, \"4\": {\"14\": 403, \"4\": 790, \"15\": 6, \"13\": 1}, \"14\": {\"14\": 712, \"4\": 397, \"15\": 75, \"5\": 16}, \"9\": {\"7\": 267, \"9\": 685, \"6\": 105, \"13\": 126, \"2\": 13, \"3\": 2, \"4\": 2}, \"12\": {\"12\": 793, \"1\": 250, \"10\": 131, \"3\": 25, \"2\": 1}, \"6\": {\"6\": 800, \"13\": 205, \"9\": 107, \"11\": 45, \"7\": 42, \"2\": 1}, \"2\": {\"2\": 817, \"7\": 182, \"3\": 15, \"1\": 81, \"10\": 94, \"12\": 3, \"6\": 3, \"9\": 5}, \"0\": {\"0\": 690, \"5\": 103, \"15\": 77, \"8\": 330}, \"13\": {\"13\": 789, \"6\": 215, \"11\": 42, \"9\": 132, \"7\": 14, \"4\": 7, \"2\": 1}}, \"38\": {\"14\": {\"14\": 882, \"11\": 232, \"10\": 17, \"2\": 60, \"13\": 6, \"12\": 3}, \"0\": {\"8\": 285, \"7\": 278, \"5\": 145, \"0\": 381, \"3\": 53, \"10\": 35, \"9\": 4, \"15\": 4, \"13\": 5, \"4\": 3, \"12\": 5, \"6\": 2}, \"13\": {\"8\": 23, \"15\": 352, \"10\": 86, \"13\": 662, \"2\": 39, \"14\": 2, \"1\": 27, \"5\": 6, \"0\": 3}, \"7\": {\"7\": 882, \"0\": 219, \"3\": 9, \"8\": 41, \"5\": 46, \"10\": 1, \"6\": 1, \"4\": 1}, \"9\": {\"9\": 649, \"6\": 452, \"3\": 71, \"5\": 23, \"7\": 4, \"0\": 1}, \"3\": {\"3\": 995, \"9\": 128, \"6\": 13, \"0\": 9, \"5\": 11, \"7\": 43, \"8\": 1}, \"11\": {\"11\": 778, \"14\": 348, \"10\": 12, \"12\": 50, \"2\": 9, \"4\": 1, \"13\": 2}, \"6\": {\"6\": 846, \"9\": 330, \"5\": 18, \"8\": 1, \"0\": 2, \"3\": 3}, \"8\": {\"8\": 652, \"0\": 224, \"5\": 229, \"10\": 31, \"7\": 32, \"15\": 21, \"13\": 10, \"6\": 1}, \"4\": {\"4\": 1123, \"12\": 76, \"7\": 1}, \"5\": {\"5\": 511, \"0\": 103, \"7\": 77, \"8\": 295, \"3\": 38, \"6\": 60, \"9\": 32, \"15\": 54, \"13\": 9, \"1\": 14, \"10\": 7}, \"10\": {\"10\": 819, \"12\": 121, \"13\": 99, \"8\": 68, \"7\": 21, \"0\": 29, \"14\": 15, \"11\": 6, \"15\": 16, \"2\": 1, \"5\": 2, \"4\": 3}, \"1\": {\"1\": 1119, \"15\": 71, \"13\": 5, \"5\": 4, \"8\": 1}, \"2\": {\"2\": 1067, \"13\": 37, \"14\": 95, \"11\": 1}, \"15\": {\"13\": 310, \"15\": 705, \"5\": 25, \"8\": 47, \"1\": 100, \"2\": 2, \"10\": 8, \"0\": 3}, \"12\": {\"10\": 47, \"12\": 1112, \"4\": 38, \"11\": 2, \"14\": 1}}, \"26\": {\"13\": {\"5\": 260, \"13\": 799, \"15\": 81, \"6\": 18, \"9\": 29, \"2\": 11, \"3\": 1, \"7\": 1}, \"2\": {\"2\": 425, \"5\": 93, \"8\": 44, \"3\": 384, \"7\": 142, \"15\": 64, \"9\": 27, \"4\": 6, \"13\": 8, \"0\": 3, \"1\": 1, \"14\": 1, \"6\": 1, \"10\": 1}, \"8\": {\"14\": 39, \"8\": 356, \"10\": 145, \"7\": 117, \"0\": 120, \"4\": 110, \"9\": 114, \"13\": 1, \"15\": 79, \"6\": 64, \"2\": 20, \"5\": 13, \"3\": 8, \"1\": 14}, \"9\": {\"8\": 140, \"5\": 91, \"6\": 175, \"15\": 294, \"9\": 369, \"13\": 43, \"2\": 13, \"10\": 33, \"0\": 19, \"7\": 12, \"4\": 9, \"14\": 2}, \"12\": {\"12\": 1194, \"11\": 6}, \"4\": {\"1\": 179, \"14\": 223, \"4\": 363, \"0\": 134, \"10\": 82, \"8\": 85, \"7\": 117, \"9\": 4, \"3\": 6, \"2\": 7}, \"3\": {\"3\": 669, \"2\": 293, \"7\": 231, \"4\": 2, \"15\": 3, \"8\": 1, \"1\": 1}, \"15\": {\"13\": 80, \"9\": 282, \"15\": 337, \"5\": 234, \"8\": 97, \"6\": 52, \"2\": 62, \"10\": 14, \"7\": 22, \"0\": 12, \"4\": 3, \"14\": 2, \"3\": 3}, \"14\": {\"1\": 295, \"4\": 255, \"14\": 325, \"8\": 31, \"15\": 2, \"0\": 152, \"10\": 114, \"7\": 21, \"9\": 4, \"6\": 1}, \"10\": {\"4\": 84, \"1\": 46, \"10\": 390, \"9\": 33, \"0\": 242, \"8\": 158, \"6\": 103, \"14\": 127, \"15\": 12, \"7\": 3, \"5\": 1, \"2\": 1}, \"7\": {\"7\": 514, \"3\": 234, \"2\": 162, \"4\": 106, \"14\": 25, \"0\": 28, \"8\": 82, \"9\": 12, \"15\": 10, \"1\": 15, \"5\": 8, \"10\": 4}, \"11\": {\"11\": 1187, \"12\": 13}, \"6\": {\"6\": 743, \"15\": 55, \"9\": 186, \"10\": 96, \"8\": 56, \"0\": 35, \"13\": 18, \"5\": 9, \"14\": 2}, \"1\": {\"4\": 188, \"0\": 83, \"1\": 569, \"14\": 269, \"10\": 44, \"7\": 29, \"3\": 4, \"8\": 9, \"6\": 3, \"2\": 2}, \"5\": {\"5\": 535, \"13\": 181, \"15\": 253, \"9\": 114, \"8\": 20, \"2\": 70, \"6\": 8, \"10\": 2, \"7\": 10, \"3\": 7}, \"0\": {\"4\": 178, \"1\": 84, \"14\": 214, \"10\": 258, \"0\": 255, \"9\": 14, \"7\": 43, \"8\": 109, \"6\": 34, \"3\": 3, \"15\": 5, \"2\": 1, \"5\": 2}}}, \"per_domain_accuracy\": {\"8\": {\"accuracy\": 0.628125, \"source?\": true}, \"50\": {\"accuracy\": 0.7242708333333333, \"source?\": true}, \"32\": {\"accuracy\": 0.7246875, \"source?\": true}, \"14\": {\"accuracy\": 0.7341666666666666, \"source?\": false}, \"20\": {\"accuracy\": 0.5126041666666666, \"source?\": false}, \"44\": {\"accuracy\": 0.6770833333333334, \"source?\": false}, \"38\": {\"accuracy\": 0.6866145833333334, \"source?\": false}, \"26\": {\"accuracy\": 0.4703125, \"source?\": false}}}, \"history\": {\"epoch_indices\": [1, 2, 3, 4, 5, 6, 7, 8, 9, 10], \"train_label_loss\": [1.4334700256491464, 0.9212598654154748, 0.7708441555618294, 0.679630639803788, 0.5931007092375131, 0.5159548196498127, 0.44753084622826134, 0.3867794186802256, 0.3391054119762506, 0.29459964269550426], \"source_val_label_loss\": [1.1458686590194702, 0.9096137881278992, 0.8735867142677307, 0.8607912659645081, 0.8616653084754944, 0.8775440454483032, 0.9246268272399902, 0.9619842767715454, 0.9915277361869812, 1.0588055849075317], \"target_val_label_loss\": [1.4169713258743286, 1.1152546405792236, 1.0678921937942505, 1.0558890104293823, 1.0585671663284302, 1.0697776079177856, 1.115403175354004, 1.1426948308944702, 1.2006574869155884, 1.265998363494873], \"source_val_acc_label\": [0.5747395833333333, 0.6545486111111111, 0.6837152777777777, 0.6855208333333334, 0.68671875, 0.6923611111111111, 0.6923263888888889, 0.6848611111111111, 0.6864236111111112, 0.6947222222222222], \"target_val_acc_label\": [0.47263541666666664, 0.57934375, 0.6028958333333333, 0.609125, 0.6121458333333333, 0.61615625, 0.6154583333333333, 0.6094895833333334, 0.6056666666666667, 0.6096041666666666]}, \"dataset_metrics\": {\"source\": {\"train\": {\"n_unique_x\": 336000, \"n_unique_y\": 16, \"n_batch/episode\": 12600}, \"val\": {\"n_unique_x\": 72000, \"n_unique_y\": 16, \"n_batch/episode\": 1800}, \"test\": {\"n_unique_x\": 72000, \"n_unique_y\": 16, \"n_batch/episode\": 1800}}, \"target\": {\"train\": {\"n_unique_x\": 560000, \"n_unique_y\": 16, \"n_batch/episode\": 21000}, \"val\": {\"n_unique_x\": 120000, \"n_unique_y\": 16, \"n_batch/episode\": 3000}, \"test\": {\"n_unique_x\": 120000, \"n_unique_y\": 16, \"n_batch/episode\": 3000}}}}'"
      ]
     },
     "execution_count": 20,
     "metadata": {},
     "output_type": "execute_result"
    }
   ],
   "source": [
    "json.dumps(experiment)"
   ]
  }
 ],
 "metadata": {
  "celltoolbar": "Tags",
  "kernelspec": {
   "display_name": "Python 3 (ipykernel)",
   "language": "python",
   "name": "python3"
  },
  "language_info": {
   "codemirror_mode": {
    "name": "ipython",
    "version": 3
   },
   "file_extension": ".py",
   "mimetype": "text/x-python",
   "name": "python",
   "nbconvert_exporter": "python",
   "pygments_lexer": "ipython3",
   "version": "3.8.10"
  },
  "papermill": {
   "default_parameters": {},
   "duration": 3827.475485,
   "end_time": "2022-03-22T09:37:10.527614",
   "environment_variables": {},
   "exception": null,
   "input_path": "/mnt/wd500GB/CSC500/csc500-main/csc500-notebooks/templates/ptn_template.ipynb",
   "output_path": "trial.ipynb",
   "parameters": {
    "parameters": {
     "BEST_MODEL_PATH": "./best_model.pth",
     "NUM_LOGS_PER_EPOCH": 10,
     "criteria_for_best": "target_accuracy",
     "dataset_seed": 1337,
     "device": "cuda",
     "domains_source": [
      8,
      32,
      50
     ],
     "domains_target": [
      14,
      20,
      26,
      38,
      44
     ],
     "episode_transforms_source": [],
     "episode_transforms_target": [],
     "experiment_name": "tuned_1v2:oracle.run1",
     "labels_source": [
      "3123D52",
      "3123D65",
      "3123D79",
      "3123D80",
      "3123D54",
      "3123D70",
      "3123D7B",
      "3123D89",
      "3123D58",
      "3123D76",
      "3123D7D",
      "3123EFE",
      "3123D64",
      "3123D78",
      "3123D7E",
      "3124E4A"
     ],
     "labels_target": [
      "3123D52",
      "3123D65",
      "3123D79",
      "3123D80",
      "3123D54",
      "3123D70",
      "3123D7B",
      "3123D89",
      "3123D58",
      "3123D76",
      "3123D7D",
      "3123EFE",
      "3123D64",
      "3123D78",
      "3123D7E",
      "3124E4A"
     ],
     "lr": 0.0001,
     "n_epoch": 50,
     "n_query": 2,
     "n_shot": 3,
     "n_way": 16,
     "num_examples_per_domain_per_label_source": -1,
     "num_examples_per_domain_per_label_target": -1,
     "patience": 3,
     "pickle_name": "oracle.Run1_10kExamples_stratified_ds.2022A.pkl",
     "seed": 1337,
     "test_k_factor": 2,
     "torch_default_dtype": "torch.float32",
     "train_k_factor": 3,
     "val_k_factor": 2,
     "x_net": [
      {
       "class": "nnReshape",
       "kargs": {
        "shape": [
         -1,
         1,
         2,
         256
        ]
       }
      },
      {
       "class": "Conv2d",
       "kargs": {
        "bias": false,
        "in_channels": 1,
        "kernel_size": [
         1,
         7
        ],
        "out_channels": 256,
        "padding": [
         0,
         3
        ]
       }
      },
      {
       "class": "ReLU",
       "kargs": {
        "inplace": true
       }
      },
      {
       "class": "BatchNorm2d",
       "kargs": {
        "num_features": 256
       }
      },
      {
       "class": "Conv2d",
       "kargs": {
        "bias": true,
        "in_channels": 256,
        "kernel_size": [
         2,
         7
        ],
        "out_channels": 80,
        "padding": [
         0,
         3
        ]
       }
      },
      {
       "class": "ReLU",
       "kargs": {
        "inplace": true
       }
      },
      {
       "class": "BatchNorm2d",
       "kargs": {
        "num_features": 80
       }
      },
      {
       "class": "Flatten",
       "kargs": {}
      },
      {
       "class": "Linear",
       "kargs": {
        "in_features": 20480,
        "out_features": 256
       }
      },
      {
       "class": "ReLU",
       "kargs": {
        "inplace": true
       }
      },
      {
       "class": "BatchNorm1d",
       "kargs": {
        "num_features": 256
       }
      },
      {
       "class": "Linear",
       "kargs": {
        "in_features": 256,
        "out_features": 256
       }
      }
     ],
     "x_transforms_source": [
      "unit_power"
     ],
     "x_transforms_target": [
      "unit_power"
     ]
    }
   },
   "start_time": "2022-03-22T08:33:23.052129",
   "version": "2.3.4"
  }
 },
 "nbformat": 4,
 "nbformat_minor": 5
}