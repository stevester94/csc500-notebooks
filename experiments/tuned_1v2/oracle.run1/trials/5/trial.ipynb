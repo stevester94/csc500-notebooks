{
 "cells": [
  {
   "cell_type": "markdown",
   "id": "9fea5f46",
   "metadata": {
    "papermill": {
     "duration": 0.014631,
     "end_time": "2022-03-22T05:47:44.380541",
     "exception": false,
     "start_time": "2022-03-22T05:47:44.365910",
     "status": "completed"
    },
    "tags": []
   },
   "source": [
    "# PTN Template\n",
    "This notebook serves as a template for single dataset PTN experiments  \n",
    "It can be run on its own by setting STANDALONE to True (do a find for \"STANDALONE\" to see where)  \n",
    "But it is intended to be executed as part of a *papermill.py script. See any of the   \n",
    "experimentes with a papermill script to get started with that workflow.  "
   ]
  },
  {
   "cell_type": "code",
   "execution_count": 1,
   "id": "0902182a",
   "metadata": {
    "execution": {
     "iopub.execute_input": "2022-03-22T05:47:44.414474Z",
     "iopub.status.busy": "2022-03-22T05:47:44.414180Z",
     "iopub.status.idle": "2022-03-22T05:47:45.433281Z",
     "shell.execute_reply": "2022-03-22T05:47:45.433504Z"
    },
    "papermill": {
     "duration": 1.04365,
     "end_time": "2022-03-22T05:47:45.433630",
     "exception": false,
     "start_time": "2022-03-22T05:47:44.389980",
     "status": "completed"
    },
    "tags": []
   },
   "outputs": [],
   "source": [
    "%load_ext autoreload\n",
    "%autoreload 2\n",
    "%matplotlib inline\n",
    "\n",
    "    \n",
    "import os, json, sys, time, random\n",
    "import numpy as np\n",
    "import torch\n",
    "from torch.optim import Adam\n",
    "from  easydict import EasyDict\n",
    "import matplotlib.pyplot as plt\n",
    "\n",
    "from steves_models.steves_ptn import Steves_Prototypical_Network\n",
    "\n",
    "from steves_utils.lazy_iterable_wrapper import Lazy_Iterable_Wrapper\n",
    "from steves_utils.iterable_aggregator import Iterable_Aggregator\n",
    "from steves_utils.ptn_train_eval_test_jig import  PTN_Train_Eval_Test_Jig\n",
    "from steves_utils.torch_sequential_builder import build_sequential\n",
    "from steves_utils.torch_utils import get_dataset_metrics, ptn_confusion_by_domain_over_dataloader\n",
    "from steves_utils.utils_v2 import (per_domain_accuracy_from_confusion, get_datasets_base_path)\n",
    "from steves_utils.PTN.utils import independent_accuracy_assesment\n",
    "\n",
    "from steves_utils.stratified_dataset.episodic_accessor import Episodic_Accessor_Factory\n",
    "\n",
    "from steves_utils.ptn_do_report import (\n",
    "    get_loss_curve,\n",
    "    get_results_table,\n",
    "    get_parameters_table,\n",
    "    get_domain_accuracies,\n",
    ")\n",
    "\n",
    "from steves_utils.transforms import get_chained_transform"
   ]
  },
  {
   "cell_type": "markdown",
   "id": "41c840b4",
   "metadata": {
    "papermill": {
     "duration": 0.009166,
     "end_time": "2022-03-22T05:47:45.461877",
     "exception": false,
     "start_time": "2022-03-22T05:47:45.452711",
     "status": "completed"
    },
    "tags": []
   },
   "source": [
    "# Required Parameters\n",
    "These are allowed parameters, not defaults\n",
    "Each of these values need to be present in the injected parameters (the notebook will raise an exception if they are not present)\n",
    "\n",
    "Papermill uses the cell tag \"parameters\" to inject the real parameters below this cell.\n",
    "Enable tags to see what I mean"
   ]
  },
  {
   "cell_type": "code",
   "execution_count": 2,
   "id": "fd44eb83",
   "metadata": {
    "execution": {
     "iopub.execute_input": "2022-03-22T05:47:45.483274Z",
     "iopub.status.busy": "2022-03-22T05:47:45.481730Z",
     "iopub.status.idle": "2022-03-22T05:47:45.498287Z",
     "shell.execute_reply": "2022-03-22T05:47:45.498682Z"
    },
    "papermill": {
     "duration": 0.027765,
     "end_time": "2022-03-22T05:47:45.498813",
     "exception": false,
     "start_time": "2022-03-22T05:47:45.471048",
     "status": "completed"
    },
    "tags": []
   },
   "outputs": [],
   "source": [
    "required_parameters = {\n",
    "    \"experiment_name\",\n",
    "    \"lr\",\n",
    "    \"device\",\n",
    "    \"seed\",\n",
    "    \"dataset_seed\",\n",
    "    \"labels_source\",\n",
    "    \"labels_target\",\n",
    "    \"domains_source\",\n",
    "    \"domains_target\",\n",
    "    \"num_examples_per_domain_per_label_source\",\n",
    "    \"num_examples_per_domain_per_label_target\",\n",
    "    \"n_shot\",\n",
    "    \"n_way\",\n",
    "    \"n_query\",\n",
    "    \"train_k_factor\",\n",
    "    \"val_k_factor\",\n",
    "    \"test_k_factor\",\n",
    "    \"n_epoch\",\n",
    "    \"patience\",\n",
    "    \"criteria_for_best\",\n",
    "    \"x_transforms_source\",\n",
    "    \"x_transforms_target\",\n",
    "    \"episode_transforms_source\",\n",
    "    \"episode_transforms_target\",\n",
    "    \"pickle_name\",\n",
    "    \"x_net\",\n",
    "    \"NUM_LOGS_PER_EPOCH\",\n",
    "    \"BEST_MODEL_PATH\",\n",
    "    \"torch_default_dtype\"\n",
    "}"
   ]
  },
  {
   "cell_type": "code",
   "execution_count": 3,
   "id": "fa3f0049",
   "metadata": {
    "execution": {
     "iopub.execute_input": "2022-03-22T05:47:45.528661Z",
     "iopub.status.busy": "2022-03-22T05:47:45.526494Z",
     "iopub.status.idle": "2022-03-22T05:47:45.543091Z",
     "shell.execute_reply": "2022-03-22T05:47:45.543322Z"
    },
    "papermill": {
     "duration": 0.032632,
     "end_time": "2022-03-22T05:47:45.543399",
     "exception": false,
     "start_time": "2022-03-22T05:47:45.510767",
     "status": "completed"
    },
    "tags": [
     "parameters"
    ]
   },
   "outputs": [],
   "source": [
    "\n",
    "\n",
    "standalone_parameters = {}\n",
    "standalone_parameters[\"experiment_name\"] = \"STANDALONE PTN\"\n",
    "standalone_parameters[\"lr\"] = 0.0001\n",
    "standalone_parameters[\"device\"] = \"cuda\"\n",
    "\n",
    "standalone_parameters[\"seed\"] = 1337\n",
    "standalone_parameters[\"dataset_seed\"] = 1337\n",
    "\n",
    "\n",
    "standalone_parameters[\"num_examples_per_domain_per_label_source\"]=100\n",
    "standalone_parameters[\"num_examples_per_domain_per_label_target\"]=100\n",
    "\n",
    "standalone_parameters[\"n_shot\"] = 3\n",
    "standalone_parameters[\"n_query\"]  = 2\n",
    "standalone_parameters[\"train_k_factor\"] = 1\n",
    "standalone_parameters[\"val_k_factor\"] = 2\n",
    "standalone_parameters[\"test_k_factor\"] = 2\n",
    "\n",
    "\n",
    "standalone_parameters[\"n_epoch\"] = 100\n",
    "\n",
    "standalone_parameters[\"patience\"] = 10\n",
    "standalone_parameters[\"criteria_for_best\"] = \"target_accuracy\"\n",
    "\n",
    "standalone_parameters[\"x_transforms_source\"] = [\"unit_power\"]\n",
    "standalone_parameters[\"x_transforms_target\"] = [\"unit_power\"]\n",
    "standalone_parameters[\"episode_transforms_source\"] = []\n",
    "standalone_parameters[\"episode_transforms_target\"] = []\n",
    "\n",
    "standalone_parameters[\"torch_default_dtype\"] = \"torch.float32\" \n",
    "\n",
    "\n",
    "\n",
    "standalone_parameters[\"x_net\"] =     [\n",
    "    {\"class\": \"nnReshape\", \"kargs\": {\"shape\":[-1, 1, 2, 256]}},\n",
    "    {\"class\": \"Conv2d\", \"kargs\": { \"in_channels\":1, \"out_channels\":256, \"kernel_size\":(1,7), \"bias\":False, \"padding\":(0,3), },},\n",
    "    {\"class\": \"ReLU\", \"kargs\": {\"inplace\": True}},\n",
    "    {\"class\": \"BatchNorm2d\", \"kargs\": {\"num_features\":256}},\n",
    "\n",
    "    {\"class\": \"Conv2d\", \"kargs\": { \"in_channels\":256, \"out_channels\":80, \"kernel_size\":(2,7), \"bias\":True, \"padding\":(0,3), },},\n",
    "    {\"class\": \"ReLU\", \"kargs\": {\"inplace\": True}},\n",
    "    {\"class\": \"BatchNorm2d\", \"kargs\": {\"num_features\":80}},\n",
    "    {\"class\": \"Flatten\", \"kargs\": {}},\n",
    "\n",
    "    {\"class\": \"Linear\", \"kargs\": {\"in_features\": 80*256, \"out_features\": 256}}, # 80 units per IQ pair\n",
    "    {\"class\": \"ReLU\", \"kargs\": {\"inplace\": True}},\n",
    "    {\"class\": \"BatchNorm1d\", \"kargs\": {\"num_features\":256}},\n",
    "\n",
    "    {\"class\": \"Linear\", \"kargs\": {\"in_features\": 256, \"out_features\": 256}},\n",
    "]\n",
    "\n",
    "# Parameters relevant to results\n",
    "# These parameters will basically never need to change\n",
    "standalone_parameters[\"NUM_LOGS_PER_EPOCH\"] = 10\n",
    "standalone_parameters[\"BEST_MODEL_PATH\"] = \"./best_model.pth\"\n",
    "\n",
    "# uncomment for CORES dataset\n",
    "from steves_utils.CORES.utils import (\n",
    "    ALL_NODES,\n",
    "    ALL_NODES_MINIMUM_1000_EXAMPLES,\n",
    "    ALL_DAYS\n",
    ")\n",
    "\n",
    "\n",
    "standalone_parameters[\"labels_source\"] = ALL_NODES\n",
    "standalone_parameters[\"labels_target\"] = ALL_NODES\n",
    "\n",
    "standalone_parameters[\"domains_source\"] = [1]\n",
    "standalone_parameters[\"domains_target\"] = [2,3,4,5]\n",
    "\n",
    "standalone_parameters[\"pickle_name\"] = \"cores.stratified_ds.2022A.pkl\"\n",
    "\n",
    "\n",
    "# Uncomment these for ORACLE dataset\n",
    "# from steves_utils.ORACLE.utils_v2 import (\n",
    "#     ALL_DISTANCES_FEET,\n",
    "#     ALL_RUNS,\n",
    "#     ALL_SERIAL_NUMBERS,\n",
    "# )\n",
    "# standalone_parameters[\"labels_source\"] = ALL_SERIAL_NUMBERS\n",
    "# standalone_parameters[\"labels_target\"] = ALL_SERIAL_NUMBERS\n",
    "# standalone_parameters[\"domains_source\"] = [8,20, 38,50]\n",
    "# standalone_parameters[\"domains_target\"] = [14, 26, 32, 44, 56]\n",
    "# standalone_parameters[\"pickle_name\"] = \"oracle.frame_indexed.stratified_ds.2022A.pkl\"\n",
    "# standalone_parameters[\"num_examples_per_domain_per_label_source\"]=1000\n",
    "# standalone_parameters[\"num_examples_per_domain_per_label_target\"]=1000\n",
    "\n",
    "# Uncomment these for Metahan dataset\n",
    "# standalone_parameters[\"labels_source\"] = list(range(19))\n",
    "# standalone_parameters[\"labels_target\"] = list(range(19))\n",
    "# standalone_parameters[\"domains_source\"] = [0]\n",
    "# standalone_parameters[\"domains_target\"] = [1]\n",
    "# standalone_parameters[\"pickle_name\"] = \"metehan.stratified_ds.2022A.pkl\"\n",
    "# standalone_parameters[\"n_way\"]  = len(standalone_parameters[\"labels_source\"])\n",
    "# standalone_parameters[\"num_examples_per_domain_per_label_source\"]=200\n",
    "# standalone_parameters[\"num_examples_per_domain_per_label_target\"]=100\n",
    "\n",
    "\n",
    "standalone_parameters[\"n_way\"]  = len(standalone_parameters[\"labels_source\"])"
   ]
  },
  {
   "cell_type": "code",
   "execution_count": 4,
   "id": "aa4a3ceb",
   "metadata": {
    "execution": {
     "iopub.execute_input": "2022-03-22T05:47:45.569121Z",
     "iopub.status.busy": "2022-03-22T05:47:45.568666Z",
     "iopub.status.idle": "2022-03-22T05:47:45.580849Z",
     "shell.execute_reply": "2022-03-22T05:47:45.581069Z"
    },
    "papermill": {
     "duration": 0.027496,
     "end_time": "2022-03-22T05:47:45.581143",
     "exception": false,
     "start_time": "2022-03-22T05:47:45.553647",
     "status": "completed"
    },
    "tags": [
     "injected-parameters"
    ]
   },
   "outputs": [],
   "source": [
    "# Parameters\n",
    "parameters = {\n",
    "    \"experiment_name\": \"tuned_1v2:oracle.run1\",\n",
    "    \"device\": \"cuda\",\n",
    "    \"lr\": 0.0001,\n",
    "    \"labels_source\": [\n",
    "        \"3123D52\",\n",
    "        \"3123D65\",\n",
    "        \"3123D79\",\n",
    "        \"3123D80\",\n",
    "        \"3123D54\",\n",
    "        \"3123D70\",\n",
    "        \"3123D7B\",\n",
    "        \"3123D89\",\n",
    "        \"3123D58\",\n",
    "        \"3123D76\",\n",
    "        \"3123D7D\",\n",
    "        \"3123EFE\",\n",
    "        \"3123D64\",\n",
    "        \"3123D78\",\n",
    "        \"3123D7E\",\n",
    "        \"3124E4A\",\n",
    "    ],\n",
    "    \"labels_target\": [\n",
    "        \"3123D52\",\n",
    "        \"3123D65\",\n",
    "        \"3123D79\",\n",
    "        \"3123D80\",\n",
    "        \"3123D54\",\n",
    "        \"3123D70\",\n",
    "        \"3123D7B\",\n",
    "        \"3123D89\",\n",
    "        \"3123D58\",\n",
    "        \"3123D76\",\n",
    "        \"3123D7D\",\n",
    "        \"3123EFE\",\n",
    "        \"3123D64\",\n",
    "        \"3123D78\",\n",
    "        \"3123D7E\",\n",
    "        \"3124E4A\",\n",
    "    ],\n",
    "    \"episode_transforms_source\": [],\n",
    "    \"episode_transforms_target\": [],\n",
    "    \"domains_source\": [8, 32, 50],\n",
    "    \"domains_target\": [14, 20, 26, 38, 44],\n",
    "    \"num_examples_per_domain_per_label_source\": -1,\n",
    "    \"num_examples_per_domain_per_label_target\": -1,\n",
    "    \"n_shot\": 3,\n",
    "    \"n_way\": 16,\n",
    "    \"n_query\": 2,\n",
    "    \"train_k_factor\": 3,\n",
    "    \"val_k_factor\": 2,\n",
    "    \"test_k_factor\": 2,\n",
    "    \"torch_default_dtype\": \"torch.float32\",\n",
    "    \"n_epoch\": 50,\n",
    "    \"patience\": 3,\n",
    "    \"criteria_for_best\": \"target_accuracy\",\n",
    "    \"x_net\": [\n",
    "        {\"class\": \"nnReshape\", \"kargs\": {\"shape\": [-1, 1, 2, 256]}},\n",
    "        {\n",
    "            \"class\": \"Conv2d\",\n",
    "            \"kargs\": {\n",
    "                \"in_channels\": 1,\n",
    "                \"out_channels\": 256,\n",
    "                \"kernel_size\": [1, 7],\n",
    "                \"bias\": False,\n",
    "                \"padding\": [0, 3],\n",
    "            },\n",
    "        },\n",
    "        {\"class\": \"ReLU\", \"kargs\": {\"inplace\": True}},\n",
    "        {\"class\": \"BatchNorm2d\", \"kargs\": {\"num_features\": 256}},\n",
    "        {\n",
    "            \"class\": \"Conv2d\",\n",
    "            \"kargs\": {\n",
    "                \"in_channels\": 256,\n",
    "                \"out_channels\": 80,\n",
    "                \"kernel_size\": [2, 7],\n",
    "                \"bias\": True,\n",
    "                \"padding\": [0, 3],\n",
    "            },\n",
    "        },\n",
    "        {\"class\": \"ReLU\", \"kargs\": {\"inplace\": True}},\n",
    "        {\"class\": \"BatchNorm2d\", \"kargs\": {\"num_features\": 80}},\n",
    "        {\"class\": \"Flatten\", \"kargs\": {}},\n",
    "        {\"class\": \"Linear\", \"kargs\": {\"in_features\": 20480, \"out_features\": 256}},\n",
    "        {\"class\": \"ReLU\", \"kargs\": {\"inplace\": True}},\n",
    "        {\"class\": \"BatchNorm1d\", \"kargs\": {\"num_features\": 256}},\n",
    "        {\"class\": \"Linear\", \"kargs\": {\"in_features\": 256, \"out_features\": 256}},\n",
    "    ],\n",
    "    \"NUM_LOGS_PER_EPOCH\": 10,\n",
    "    \"BEST_MODEL_PATH\": \"./best_model.pth\",\n",
    "    \"pickle_name\": \"oracle.Run1_10kExamples_stratified_ds.2022A.pkl\",\n",
    "    \"x_transforms_source\": [\"unit_mag\"],\n",
    "    \"x_transforms_target\": [\"unit_mag\"],\n",
    "    \"dataset_seed\": 154325,\n",
    "    \"seed\": 154325,\n",
    "}\n"
   ]
  },
  {
   "cell_type": "code",
   "execution_count": 5,
   "id": "8fa1cc33",
   "metadata": {
    "execution": {
     "iopub.execute_input": "2022-03-22T05:47:45.602741Z",
     "iopub.status.busy": "2022-03-22T05:47:45.602329Z",
     "iopub.status.idle": "2022-03-22T05:47:45.613810Z",
     "shell.execute_reply": "2022-03-22T05:47:45.614028Z"
    },
    "papermill": {
     "duration": 0.023461,
     "end_time": "2022-03-22T05:47:45.614099",
     "exception": false,
     "start_time": "2022-03-22T05:47:45.590638",
     "status": "completed"
    },
    "tags": []
   },
   "outputs": [],
   "source": [
    "# Set this to True if you want to run this template directly\n",
    "STANDALONE = False\n",
    "if STANDALONE:\n",
    "    print(\"parameters not injected, running with standalone_parameters\")\n",
    "    parameters = standalone_parameters\n",
    "\n",
    "if not 'parameters' in locals() and not 'parameters' in globals():\n",
    "    raise Exception(\"Parameter injection failed\")\n",
    "\n",
    "#Use an easy dict for all the parameters\n",
    "p = EasyDict(parameters)\n",
    "\n",
    "supplied_keys = set(p.keys())\n",
    "\n",
    "if  supplied_keys != required_parameters:\n",
    "    print(\"Parameters are incorrect\")\n",
    "    if len(supplied_keys - required_parameters)>0: print(\"Shouldn't have:\", str(supplied_keys - required_parameters))\n",
    "    if len(required_parameters - supplied_keys)>0: print(\"Need to have:\", str(required_parameters - supplied_keys))\n",
    "    raise RuntimeError(\"Parameters are incorrect\")\n",
    "\n"
   ]
  },
  {
   "cell_type": "code",
   "execution_count": 6,
   "id": "3a028d58",
   "metadata": {
    "execution": {
     "iopub.execute_input": "2022-03-22T05:47:45.636359Z",
     "iopub.status.busy": "2022-03-22T05:47:45.635830Z",
     "iopub.status.idle": "2022-03-22T05:47:45.646811Z",
     "shell.execute_reply": "2022-03-22T05:47:45.646293Z"
    },
    "papermill": {
     "duration": 0.023317,
     "end_time": "2022-03-22T05:47:45.646920",
     "exception": false,
     "start_time": "2022-03-22T05:47:45.623603",
     "status": "completed"
    },
    "tags": []
   },
   "outputs": [],
   "source": [
    "###################################\n",
    "# Set the RNGs and make it all deterministic\n",
    "###################################\n",
    "np.random.seed(p.seed)\n",
    "random.seed(p.seed)\n",
    "torch.manual_seed(p.seed)\n",
    "\n",
    "torch.use_deterministic_algorithms(True) "
   ]
  },
  {
   "cell_type": "code",
   "execution_count": 7,
   "id": "b691acf6",
   "metadata": {
    "execution": {
     "iopub.execute_input": "2022-03-22T05:47:45.674056Z",
     "iopub.status.busy": "2022-03-22T05:47:45.673771Z",
     "iopub.status.idle": "2022-03-22T05:47:45.687995Z",
     "shell.execute_reply": "2022-03-22T05:47:45.688310Z"
    },
    "papermill": {
     "duration": 0.026026,
     "end_time": "2022-03-22T05:47:45.688408",
     "exception": false,
     "start_time": "2022-03-22T05:47:45.662382",
     "status": "completed"
    },
    "tags": []
   },
   "outputs": [],
   "source": [
    "###########################################\n",
    "# The stratified datasets honor this\n",
    "###########################################\n",
    "torch.set_default_dtype(eval(p.torch_default_dtype))"
   ]
  },
  {
   "cell_type": "code",
   "execution_count": 8,
   "id": "b5fba671",
   "metadata": {
    "execution": {
     "iopub.execute_input": "2022-03-22T05:47:45.714539Z",
     "iopub.status.busy": "2022-03-22T05:47:45.714155Z",
     "iopub.status.idle": "2022-03-22T05:47:45.752032Z",
     "shell.execute_reply": "2022-03-22T05:47:45.752348Z"
    },
    "papermill": {
     "duration": 0.049964,
     "end_time": "2022-03-22T05:47:45.752454",
     "exception": false,
     "start_time": "2022-03-22T05:47:45.702490",
     "status": "completed"
    },
    "tags": []
   },
   "outputs": [],
   "source": [
    "###################################\n",
    "# Build the network(s)\n",
    "# Note: It's critical to do this AFTER setting the RNG\n",
    "# (This is due to the randomized initial weights)\n",
    "###################################\n",
    "x_net = build_sequential(p.x_net)"
   ]
  },
  {
   "cell_type": "code",
   "execution_count": 9,
   "id": "5d7e61cc",
   "metadata": {
    "execution": {
     "iopub.execute_input": "2022-03-22T05:47:45.778540Z",
     "iopub.status.busy": "2022-03-22T05:47:45.777752Z",
     "iopub.status.idle": "2022-03-22T05:47:45.794307Z",
     "shell.execute_reply": "2022-03-22T05:47:45.793884Z"
    },
    "papermill": {
     "duration": 0.027596,
     "end_time": "2022-03-22T05:47:45.794405",
     "exception": false,
     "start_time": "2022-03-22T05:47:45.766809",
     "status": "completed"
    },
    "tags": []
   },
   "outputs": [],
   "source": [
    "start_time_secs = time.time()"
   ]
  },
  {
   "cell_type": "code",
   "execution_count": 10,
   "id": "fd5442bc",
   "metadata": {
    "execution": {
     "iopub.execute_input": "2022-03-22T05:47:45.820089Z",
     "iopub.status.busy": "2022-03-22T05:47:45.819813Z",
     "iopub.status.idle": "2022-03-22T05:49:05.871925Z",
     "shell.execute_reply": "2022-03-22T05:49:05.871421Z"
    },
    "papermill": {
     "duration": 80.063396,
     "end_time": "2022-03-22T05:49:05.872031",
     "exception": false,
     "start_time": "2022-03-22T05:47:45.808635",
     "status": "completed"
    },
    "tags": []
   },
   "outputs": [],
   "source": [
    "###################################\n",
    "# Build the dataset\n",
    "###################################\n",
    "\n",
    "if p.x_transforms_source == []: x_transform_source = None\n",
    "else: x_transform_source = get_chained_transform(p.x_transforms_source) \n",
    "\n",
    "if p.x_transforms_target == []: x_transform_target = None\n",
    "else: x_transform_target = get_chained_transform(p.x_transforms_target)\n",
    "\n",
    "if p.episode_transforms_source == []: episode_transform_source = None\n",
    "else: raise Exception(\"episode_transform_source not implemented\")\n",
    "\n",
    "if p.episode_transforms_target == []: episode_transform_target = None\n",
    "else: raise Exception(\"episode_transform_target not implemented\")\n",
    "\n",
    "\n",
    "eaf_source = Episodic_Accessor_Factory(\n",
    "    labels=p.labels_source,\n",
    "    domains=p.domains_source,\n",
    "    num_examples_per_domain_per_label=p.num_examples_per_domain_per_label_source,\n",
    "    iterator_seed=p.seed,\n",
    "    dataset_seed=p.dataset_seed,\n",
    "    n_shot=p.n_shot,\n",
    "    n_way=p.n_way,\n",
    "    n_query=p.n_query,\n",
    "    train_val_test_k_factors=(p.train_k_factor,p.val_k_factor,p.test_k_factor),\n",
    "    pickle_path=os.path.join(get_datasets_base_path(), p.pickle_name),\n",
    "    x_transform_func=x_transform_source,\n",
    "    example_transform_func=episode_transform_source,\n",
    "    \n",
    ")\n",
    "train_original_source, val_original_source, test_original_source = eaf_source.get_train(), eaf_source.get_val(), eaf_source.get_test()\n",
    "\n",
    "\n",
    "eaf_target = Episodic_Accessor_Factory(\n",
    "    labels=p.labels_target,\n",
    "    domains=p.domains_target,\n",
    "    num_examples_per_domain_per_label=p.num_examples_per_domain_per_label_target,\n",
    "    iterator_seed=p.seed,\n",
    "    dataset_seed=p.dataset_seed,\n",
    "    n_shot=p.n_shot,\n",
    "    n_way=p.n_way,\n",
    "    n_query=p.n_query,\n",
    "    train_val_test_k_factors=(p.train_k_factor,p.val_k_factor,p.test_k_factor),\n",
    "    pickle_path=os.path.join(get_datasets_base_path(), p.pickle_name),\n",
    "    x_transform_func=x_transform_target,\n",
    "    example_transform_func=episode_transform_target,\n",
    ")\n",
    "train_original_target, val_original_target, test_original_target = eaf_target.get_train(), eaf_target.get_val(), eaf_target.get_test()\n",
    "\n",
    "\n",
    "transform_lambda = lambda ex: ex[1] # Original is (<domain>, <episode>) so we strip down to episode only\n",
    "\n",
    "train_processed_source = Lazy_Iterable_Wrapper(train_original_source, transform_lambda)\n",
    "val_processed_source   = Lazy_Iterable_Wrapper(val_original_source, transform_lambda)\n",
    "test_processed_source  = Lazy_Iterable_Wrapper(test_original_source, transform_lambda)\n",
    "\n",
    "train_processed_target = Lazy_Iterable_Wrapper(train_original_target, transform_lambda)\n",
    "val_processed_target   = Lazy_Iterable_Wrapper(val_original_target, transform_lambda)\n",
    "test_processed_target  = Lazy_Iterable_Wrapper(test_original_target, transform_lambda)\n",
    "\n",
    "datasets = EasyDict({\n",
    "    \"source\": {\n",
    "        \"original\": {\"train\":train_original_source, \"val\":val_original_source, \"test\":test_original_source},\n",
    "        \"processed\": {\"train\":train_processed_source, \"val\":val_processed_source, \"test\":test_processed_source}\n",
    "    },\n",
    "    \"target\": {\n",
    "        \"original\": {\"train\":train_original_target, \"val\":val_original_target, \"test\":test_original_target},\n",
    "        \"processed\": {\"train\":train_processed_target, \"val\":val_processed_target, \"test\":test_processed_target}\n",
    "    },\n",
    "})"
   ]
  },
  {
   "cell_type": "code",
   "execution_count": 11,
   "id": "296189d9",
   "metadata": {
    "execution": {
     "iopub.execute_input": "2022-03-22T05:49:05.899515Z",
     "iopub.status.busy": "2022-03-22T05:49:05.899243Z",
     "iopub.status.idle": "2022-03-22T05:49:07.825920Z",
     "shell.execute_reply": "2022-03-22T05:49:07.826311Z"
    },
    "papermill": {
     "duration": 1.94044,
     "end_time": "2022-03-22T05:49:07.826419",
     "exception": false,
     "start_time": "2022-03-22T05:49:05.885979",
     "status": "completed"
    },
    "tags": []
   },
   "outputs": [
    {
     "name": "stdout",
     "output_type": "stream",
     "text": [
      "Visually inspect these to see if they line up with expected values given the transforms\n",
      "x_transforms_source ['unit_mag']\n",
      "x_transforms_target ['unit_mag']\n",
      "Average magnitude, source: 1.0000001\n",
      "Average power, source: 1.3167291\n"
     ]
    },
    {
     "name": "stdout",
     "output_type": "stream",
     "text": [
      "Average magnitude, target: 1.0\n",
      "Average power, target: 1.3395102\n"
     ]
    }
   ],
   "source": [
    "# Some quick unit tests on the data\n",
    "from steves_utils.transforms import get_average_power, get_average_magnitude\n",
    "\n",
    "q_x, q_y, s_x, s_y, truth = next(iter(train_processed_source))\n",
    "\n",
    "assert q_x.dtype == eval(p.torch_default_dtype)\n",
    "assert s_x.dtype == eval(p.torch_default_dtype)\n",
    "\n",
    "print(\"Visually inspect these to see if they line up with expected values given the transforms\")\n",
    "print('x_transforms_source', p.x_transforms_source)\n",
    "print('x_transforms_target', p.x_transforms_target)\n",
    "print(\"Average magnitude, source:\", get_average_magnitude(q_x[0].numpy()))\n",
    "print(\"Average power, source:\", get_average_power(q_x[0].numpy()))\n",
    "\n",
    "q_x, q_y, s_x, s_y, truth = next(iter(train_processed_target))\n",
    "print(\"Average magnitude, target:\", get_average_magnitude(q_x[0].numpy()))\n",
    "print(\"Average power, target:\", get_average_power(q_x[0].numpy()))\n"
   ]
  },
  {
   "cell_type": "code",
   "execution_count": 12,
   "id": "bbdacba1",
   "metadata": {
    "execution": {
     "iopub.execute_input": "2022-03-22T05:49:07.858537Z",
     "iopub.status.busy": "2022-03-22T05:49:07.858273Z",
     "iopub.status.idle": "2022-03-22T05:49:07.920233Z",
     "shell.execute_reply": "2022-03-22T05:49:07.920438Z"
    },
    "papermill": {
     "duration": 0.076236,
     "end_time": "2022-03-22T05:49:07.920512",
     "exception": false,
     "start_time": "2022-03-22T05:49:07.844276",
     "status": "completed"
    },
    "tags": []
   },
   "outputs": [
    {
     "name": "stdout",
     "output_type": "stream",
     "text": [
      "(2, 256)\n"
     ]
    }
   ],
   "source": [
    "###################################\n",
    "# Build the model\n",
    "###################################\n",
    "model = Steves_Prototypical_Network(x_net, device=p.device, x_shape=(2,256))\n",
    "optimizer = Adam(params=model.parameters(), lr=p.lr)"
   ]
  },
  {
   "cell_type": "code",
   "execution_count": 13,
   "id": "22b39ac5",
   "metadata": {
    "execution": {
     "iopub.execute_input": "2022-03-22T05:49:07.944482Z",
     "iopub.status.busy": "2022-03-22T05:49:07.944232Z",
     "iopub.status.idle": "2022-03-22T06:47:30.031333Z",
     "shell.execute_reply": "2022-03-22T06:47:30.031092Z"
    },
    "papermill": {
     "duration": 3502.100494,
     "end_time": "2022-03-22T06:47:30.031393",
     "exception": false,
     "start_time": "2022-03-22T05:49:07.930899",
     "status": "completed"
    },
    "tags": []
   },
   "outputs": [
    {
     "name": "stdout",
     "output_type": "stream",
     "text": [
      "epoch: 1, [batch: 1 / 12600], examples_per_second: 26.7108, train_label_loss: 2.8029, \n"
     ]
    },
    {
     "name": "stdout",
     "output_type": "stream",
     "text": [
      "epoch: 1, [batch: 1260 / 12600], examples_per_second: 3221.0139, train_label_loss: 1.5757, \n"
     ]
    },
    {
     "name": "stdout",
     "output_type": "stream",
     "text": [
      "epoch: 1, [batch: 2520 / 12600], examples_per_second: 3211.5426, train_label_loss: 1.3217, \n"
     ]
    },
    {
     "name": "stdout",
     "output_type": "stream",
     "text": [
      "epoch: 1, [batch: 3780 / 12600], examples_per_second: 3225.0173, train_label_loss: 0.9838, \n"
     ]
    },
    {
     "name": "stdout",
     "output_type": "stream",
     "text": [
      "epoch: 1, [batch: 5040 / 12600], examples_per_second: 3203.1308, train_label_loss: 1.2378, \n"
     ]
    },
    {
     "name": "stdout",
     "output_type": "stream",
     "text": [
      "epoch: 1, [batch: 6300 / 12600], examples_per_second: 3219.6635, train_label_loss: 1.3831, \n"
     ]
    },
    {
     "name": "stdout",
     "output_type": "stream",
     "text": [
      "epoch: 1, [batch: 7560 / 12600], examples_per_second: 3225.0882, train_label_loss: 1.3401, \n"
     ]
    },
    {
     "name": "stdout",
     "output_type": "stream",
     "text": [
      "epoch: 1, [batch: 8820 / 12600], examples_per_second: 3209.6875, train_label_loss: 0.9120, \n"
     ]
    },
    {
     "name": "stdout",
     "output_type": "stream",
     "text": [
      "epoch: 1, [batch: 10080 / 12600], examples_per_second: 3218.6829, train_label_loss: 1.3167, \n"
     ]
    },
    {
     "name": "stdout",
     "output_type": "stream",
     "text": [
      "epoch: 1, [batch: 11340 / 12600], examples_per_second: 3220.1456, train_label_loss: 0.8255, \n"
     ]
    },
    {
     "name": "stdout",
     "output_type": "stream",
     "text": [
      "=============================================================\n",
      "epoch: 1, source_val_acc_label: 0.5994, target_val_acc_label: 0.5050, source_val_label_loss: 1.0926, target_val_label_loss: 1.3340, \n",
      "=============================================================\n"
     ]
    },
    {
     "name": "stdout",
     "output_type": "stream",
     "text": [
      "New best\n"
     ]
    },
    {
     "name": "stdout",
     "output_type": "stream",
     "text": [
      "epoch: 2, [batch: 1 / 12600], examples_per_second: 2.2804, train_label_loss: 1.2752, \n"
     ]
    },
    {
     "name": "stdout",
     "output_type": "stream",
     "text": [
      "epoch: 2, [batch: 1260 / 12600], examples_per_second: 3244.9290, train_label_loss: 0.8305, \n"
     ]
    },
    {
     "name": "stdout",
     "output_type": "stream",
     "text": [
      "epoch: 2, [batch: 2520 / 12600], examples_per_second: 3247.1550, train_label_loss: 1.0862, \n"
     ]
    },
    {
     "name": "stdout",
     "output_type": "stream",
     "text": [
      "epoch: 2, [batch: 3780 / 12600], examples_per_second: 3242.6095, train_label_loss: 0.7260, \n"
     ]
    },
    {
     "name": "stdout",
     "output_type": "stream",
     "text": [
      "epoch: 2, [batch: 5040 / 12600], examples_per_second: 3231.1562, train_label_loss: 0.8324, \n"
     ]
    },
    {
     "name": "stdout",
     "output_type": "stream",
     "text": [
      "epoch: 2, [batch: 6300 / 12600], examples_per_second: 3249.1240, train_label_loss: 0.6333, \n"
     ]
    },
    {
     "name": "stdout",
     "output_type": "stream",
     "text": [
      "epoch: 2, [batch: 7560 / 12600], examples_per_second: 3256.1433, train_label_loss: 0.7399, \n"
     ]
    },
    {
     "name": "stdout",
     "output_type": "stream",
     "text": [
      "epoch: 2, [batch: 8820 / 12600], examples_per_second: 3232.6050, train_label_loss: 0.9012, \n"
     ]
    },
    {
     "name": "stdout",
     "output_type": "stream",
     "text": [
      "epoch: 2, [batch: 10080 / 12600], examples_per_second: 3251.2253, train_label_loss: 0.8395, \n"
     ]
    },
    {
     "name": "stdout",
     "output_type": "stream",
     "text": [
      "epoch: 2, [batch: 11340 / 12600], examples_per_second: 3255.6208, train_label_loss: 0.9908, \n"
     ]
    },
    {
     "name": "stdout",
     "output_type": "stream",
     "text": [
      "=============================================================\n",
      "epoch: 2, source_val_acc_label: 0.6698, target_val_acc_label: 0.5903, source_val_label_loss: 0.8934, target_val_label_loss: 1.0912, \n",
      "=============================================================\n"
     ]
    },
    {
     "name": "stdout",
     "output_type": "stream",
     "text": [
      "New best\n"
     ]
    },
    {
     "name": "stdout",
     "output_type": "stream",
     "text": [
      "epoch: 3, [batch: 1 / 12600], examples_per_second: 2.2843, train_label_loss: 0.8093, \n"
     ]
    },
    {
     "name": "stdout",
     "output_type": "stream",
     "text": [
      "epoch: 3, [batch: 1260 / 12600], examples_per_second: 3237.9199, train_label_loss: 0.7223, \n"
     ]
    },
    {
     "name": "stdout",
     "output_type": "stream",
     "text": [
      "epoch: 3, [batch: 2520 / 12600], examples_per_second: 3215.8785, train_label_loss: 0.8464, \n"
     ]
    },
    {
     "name": "stdout",
     "output_type": "stream",
     "text": [
      "epoch: 3, [batch: 3780 / 12600], examples_per_second: 3244.6131, train_label_loss: 0.5776, \n"
     ]
    },
    {
     "name": "stdout",
     "output_type": "stream",
     "text": [
      "epoch: 3, [batch: 5040 / 12600], examples_per_second: 3213.5303, train_label_loss: 0.8510, \n"
     ]
    },
    {
     "name": "stdout",
     "output_type": "stream",
     "text": [
      "epoch: 3, [batch: 6300 / 12600], examples_per_second: 3237.8236, train_label_loss: 1.0012, \n"
     ]
    },
    {
     "name": "stdout",
     "output_type": "stream",
     "text": [
      "epoch: 3, [batch: 7560 / 12600], examples_per_second: 3255.9897, train_label_loss: 0.6643, \n"
     ]
    },
    {
     "name": "stdout",
     "output_type": "stream",
     "text": [
      "epoch: 3, [batch: 8820 / 12600], examples_per_second: 3236.9570, train_label_loss: 0.8576, \n"
     ]
    },
    {
     "name": "stdout",
     "output_type": "stream",
     "text": [
      "epoch: 3, [batch: 10080 / 12600], examples_per_second: 3232.8778, train_label_loss: 0.6543, \n"
     ]
    },
    {
     "name": "stdout",
     "output_type": "stream",
     "text": [
      "epoch: 3, [batch: 11340 / 12600], examples_per_second: 3245.7158, train_label_loss: 0.7481, \n"
     ]
    },
    {
     "name": "stdout",
     "output_type": "stream",
     "text": [
      "=============================================================\n",
      "epoch: 3, source_val_acc_label: 0.6659, target_val_acc_label: 0.5937, source_val_label_loss: 0.8698, target_val_label_loss: 1.0758, \n",
      "=============================================================\n"
     ]
    },
    {
     "name": "stdout",
     "output_type": "stream",
     "text": [
      "New best\n"
     ]
    },
    {
     "name": "stdout",
     "output_type": "stream",
     "text": [
      "epoch: 4, [batch: 1 / 12600], examples_per_second: 2.2778, train_label_loss: 0.7922, \n"
     ]
    },
    {
     "name": "stdout",
     "output_type": "stream",
     "text": [
      "epoch: 4, [batch: 1260 / 12600], examples_per_second: 3236.1072, train_label_loss: 0.7872, \n"
     ]
    },
    {
     "name": "stdout",
     "output_type": "stream",
     "text": [
      "epoch: 4, [batch: 2520 / 12600], examples_per_second: 3245.9868, train_label_loss: 0.5228, \n"
     ]
    },
    {
     "name": "stdout",
     "output_type": "stream",
     "text": [
      "epoch: 4, [batch: 3780 / 12600], examples_per_second: 3245.7611, train_label_loss: 0.4424, \n"
     ]
    },
    {
     "name": "stdout",
     "output_type": "stream",
     "text": [
      "epoch: 4, [batch: 5040 / 12600], examples_per_second: 3237.9016, train_label_loss: 0.5806, \n"
     ]
    },
    {
     "name": "stdout",
     "output_type": "stream",
     "text": [
      "epoch: 4, [batch: 6300 / 12600], examples_per_second: 3256.3765, train_label_loss: 0.5788, \n"
     ]
    },
    {
     "name": "stdout",
     "output_type": "stream",
     "text": [
      "epoch: 4, [batch: 7560 / 12600], examples_per_second: 3251.4009, train_label_loss: 0.4708, \n"
     ]
    },
    {
     "name": "stdout",
     "output_type": "stream",
     "text": [
      "epoch: 4, [batch: 8820 / 12600], examples_per_second: 3245.8014, train_label_loss: 0.6693, \n"
     ]
    },
    {
     "name": "stdout",
     "output_type": "stream",
     "text": [
      "epoch: 4, [batch: 10080 / 12600], examples_per_second: 3246.8996, train_label_loss: 0.6540, \n"
     ]
    },
    {
     "name": "stdout",
     "output_type": "stream",
     "text": [
      "epoch: 4, [batch: 11340 / 12600], examples_per_second: 3240.5354, train_label_loss: 0.7474, \n"
     ]
    },
    {
     "name": "stdout",
     "output_type": "stream",
     "text": [
      "=============================================================\n",
      "epoch: 4, source_val_acc_label: 0.6834, target_val_acc_label: 0.6077, source_val_label_loss: 0.8617, target_val_label_loss: 1.0551, \n",
      "=============================================================\n"
     ]
    },
    {
     "name": "stdout",
     "output_type": "stream",
     "text": [
      "New best\n"
     ]
    },
    {
     "name": "stdout",
     "output_type": "stream",
     "text": [
      "epoch: 5, [batch: 1 / 12600], examples_per_second: 2.2892, train_label_loss: 0.5508, \n"
     ]
    },
    {
     "name": "stdout",
     "output_type": "stream",
     "text": [
      "epoch: 5, [batch: 1260 / 12600], examples_per_second: 3232.4193, train_label_loss: 0.7509, \n"
     ]
    },
    {
     "name": "stdout",
     "output_type": "stream",
     "text": [
      "epoch: 5, [batch: 2520 / 12600], examples_per_second: 3242.6355, train_label_loss: 0.5258, \n"
     ]
    },
    {
     "name": "stdout",
     "output_type": "stream",
     "text": [
      "epoch: 5, [batch: 3780 / 12600], examples_per_second: 3228.0377, train_label_loss: 0.6272, \n"
     ]
    },
    {
     "name": "stdout",
     "output_type": "stream",
     "text": [
      "epoch: 5, [batch: 5040 / 12600], examples_per_second: 3246.9121, train_label_loss: 0.3700, \n"
     ]
    },
    {
     "name": "stdout",
     "output_type": "stream",
     "text": [
      "epoch: 5, [batch: 6300 / 12600], examples_per_second: 3252.8304, train_label_loss: 0.7281, \n"
     ]
    },
    {
     "name": "stdout",
     "output_type": "stream",
     "text": [
      "epoch: 5, [batch: 7560 / 12600], examples_per_second: 3246.7113, train_label_loss: 0.6636, \n"
     ]
    },
    {
     "name": "stdout",
     "output_type": "stream",
     "text": [
      "epoch: 5, [batch: 8820 / 12600], examples_per_second: 3234.8590, train_label_loss: 0.4912, \n"
     ]
    },
    {
     "name": "stdout",
     "output_type": "stream",
     "text": [
      "epoch: 5, [batch: 10080 / 12600], examples_per_second: 3244.7834, train_label_loss: 0.4310, \n"
     ]
    },
    {
     "name": "stdout",
     "output_type": "stream",
     "text": [
      "epoch: 5, [batch: 11340 / 12600], examples_per_second: 3263.1775, train_label_loss: 0.6110, \n"
     ]
    },
    {
     "name": "stdout",
     "output_type": "stream",
     "text": [
      "=============================================================\n",
      "epoch: 5, source_val_acc_label: 0.6791, target_val_acc_label: 0.5998, source_val_label_loss: 0.8875, target_val_label_loss: 1.0946, \n",
      "=============================================================\n"
     ]
    },
    {
     "name": "stdout",
     "output_type": "stream",
     "text": [
      "epoch: 6, [batch: 1 / 12600], examples_per_second: 2.2745, train_label_loss: 0.4638, \n"
     ]
    },
    {
     "name": "stdout",
     "output_type": "stream",
     "text": [
      "epoch: 6, [batch: 1260 / 12600], examples_per_second: 3237.1427, train_label_loss: 0.5648, \n"
     ]
    },
    {
     "name": "stdout",
     "output_type": "stream",
     "text": [
      "epoch: 6, [batch: 2520 / 12600], examples_per_second: 3244.5729, train_label_loss: 0.7095, \n"
     ]
    },
    {
     "name": "stdout",
     "output_type": "stream",
     "text": [
      "epoch: 6, [batch: 3780 / 12600], examples_per_second: 3256.3193, train_label_loss: 0.4596, \n"
     ]
    },
    {
     "name": "stdout",
     "output_type": "stream",
     "text": [
      "epoch: 6, [batch: 5040 / 12600], examples_per_second: 3230.3779, train_label_loss: 0.4338, \n"
     ]
    },
    {
     "name": "stdout",
     "output_type": "stream",
     "text": [
      "epoch: 6, [batch: 6300 / 12600], examples_per_second: 3247.1646, train_label_loss: 0.3594, \n"
     ]
    },
    {
     "name": "stdout",
     "output_type": "stream",
     "text": [
      "epoch: 6, [batch: 7560 / 12600], examples_per_second: 3259.0949, train_label_loss: 0.5852, \n"
     ]
    },
    {
     "name": "stdout",
     "output_type": "stream",
     "text": [
      "epoch: 6, [batch: 8820 / 12600], examples_per_second: 3237.9085, train_label_loss: 0.4153, \n"
     ]
    },
    {
     "name": "stdout",
     "output_type": "stream",
     "text": [
      "epoch: 6, [batch: 10080 / 12600], examples_per_second: 3252.1592, train_label_loss: 0.4280, \n"
     ]
    },
    {
     "name": "stdout",
     "output_type": "stream",
     "text": [
      "epoch: 6, [batch: 11340 / 12600], examples_per_second: 3252.7146, train_label_loss: 0.2933, \n"
     ]
    },
    {
     "name": "stdout",
     "output_type": "stream",
     "text": [
      "=============================================================\n",
      "epoch: 6, source_val_acc_label: 0.6923, target_val_acc_label: 0.6127, source_val_label_loss: 0.9044, target_val_label_loss: 1.1019, \n",
      "=============================================================\n"
     ]
    },
    {
     "name": "stdout",
     "output_type": "stream",
     "text": [
      "New best\n"
     ]
    },
    {
     "name": "stdout",
     "output_type": "stream",
     "text": [
      "epoch: 7, [batch: 1 / 12600], examples_per_second: 2.2732, train_label_loss: 0.2987, \n"
     ]
    },
    {
     "name": "stdout",
     "output_type": "stream",
     "text": [
      "epoch: 7, [batch: 1260 / 12600], examples_per_second: 3223.3553, train_label_loss: 0.5869, \n"
     ]
    },
    {
     "name": "stdout",
     "output_type": "stream",
     "text": [
      "epoch: 7, [batch: 2520 / 12600], examples_per_second: 3223.4379, train_label_loss: 0.5389, \n"
     ]
    },
    {
     "name": "stdout",
     "output_type": "stream",
     "text": [
      "epoch: 7, [batch: 3780 / 12600], examples_per_second: 3251.4991, train_label_loss: 0.4475, \n"
     ]
    },
    {
     "name": "stdout",
     "output_type": "stream",
     "text": [
      "epoch: 7, [batch: 5040 / 12600], examples_per_second: 3239.0747, train_label_loss: 0.5976, \n"
     ]
    },
    {
     "name": "stdout",
     "output_type": "stream",
     "text": [
      "epoch: 7, [batch: 6300 / 12600], examples_per_second: 3244.8142, train_label_loss: 0.4815, \n"
     ]
    },
    {
     "name": "stdout",
     "output_type": "stream",
     "text": [
      "epoch: 7, [batch: 7560 / 12600], examples_per_second: 3259.9867, train_label_loss: 0.3666, \n"
     ]
    },
    {
     "name": "stdout",
     "output_type": "stream",
     "text": [
      "epoch: 7, [batch: 8820 / 12600], examples_per_second: 3236.2946, train_label_loss: 0.1080, \n"
     ]
    },
    {
     "name": "stdout",
     "output_type": "stream",
     "text": [
      "epoch: 7, [batch: 10080 / 12600], examples_per_second: 3255.2872, train_label_loss: 0.2052, \n"
     ]
    },
    {
     "name": "stdout",
     "output_type": "stream",
     "text": [
      "epoch: 7, [batch: 11340 / 12600], examples_per_second: 3253.0862, train_label_loss: 0.3819, \n"
     ]
    },
    {
     "name": "stdout",
     "output_type": "stream",
     "text": [
      "=============================================================\n",
      "epoch: 7, source_val_acc_label: 0.6809, target_val_acc_label: 0.6021, source_val_label_loss: 0.9476, target_val_label_loss: 1.1516, \n",
      "=============================================================\n"
     ]
    },
    {
     "name": "stdout",
     "output_type": "stream",
     "text": [
      "epoch: 8, [batch: 1 / 12600], examples_per_second: 2.2715, train_label_loss: 0.4536, \n"
     ]
    },
    {
     "name": "stdout",
     "output_type": "stream",
     "text": [
      "epoch: 8, [batch: 1260 / 12600], examples_per_second: 3232.9014, train_label_loss: 0.7102, \n"
     ]
    },
    {
     "name": "stdout",
     "output_type": "stream",
     "text": [
      "epoch: 8, [batch: 2520 / 12600], examples_per_second: 3245.8386, train_label_loss: 0.1169, \n"
     ]
    },
    {
     "name": "stdout",
     "output_type": "stream",
     "text": [
      "epoch: 8, [batch: 3780 / 12600], examples_per_second: 3252.1751, train_label_loss: 0.3123, \n"
     ]
    },
    {
     "name": "stdout",
     "output_type": "stream",
     "text": [
      "epoch: 8, [batch: 5040 / 12600], examples_per_second: 3238.7412, train_label_loss: 0.1446, \n"
     ]
    },
    {
     "name": "stdout",
     "output_type": "stream",
     "text": [
      "epoch: 8, [batch: 6300 / 12600], examples_per_second: 3245.2890, train_label_loss: 0.6311, \n"
     ]
    },
    {
     "name": "stdout",
     "output_type": "stream",
     "text": [
      "epoch: 8, [batch: 7560 / 12600], examples_per_second: 3247.9712, train_label_loss: 0.3165, \n"
     ]
    },
    {
     "name": "stdout",
     "output_type": "stream",
     "text": [
      "epoch: 8, [batch: 8820 / 12600], examples_per_second: 3241.9549, train_label_loss: 0.5353, \n"
     ]
    },
    {
     "name": "stdout",
     "output_type": "stream",
     "text": [
      "epoch: 8, [batch: 10080 / 12600], examples_per_second: 3230.3789, train_label_loss: 0.3805, \n"
     ]
    },
    {
     "name": "stdout",
     "output_type": "stream",
     "text": [
      "epoch: 8, [batch: 11340 / 12600], examples_per_second: 3245.9738, train_label_loss: 0.3287, \n"
     ]
    },
    {
     "name": "stdout",
     "output_type": "stream",
     "text": [
      "=============================================================\n",
      "epoch: 8, source_val_acc_label: 0.6858, target_val_acc_label: 0.6060, source_val_label_loss: 0.9922, target_val_label_loss: 1.1915, \n",
      "=============================================================\n"
     ]
    },
    {
     "name": "stdout",
     "output_type": "stream",
     "text": [
      "epoch: 9, [batch: 1 / 12600], examples_per_second: 2.2723, train_label_loss: 0.2800, \n"
     ]
    },
    {
     "name": "stdout",
     "output_type": "stream",
     "text": [
      "epoch: 9, [batch: 1260 / 12600], examples_per_second: 3254.2991, train_label_loss: 0.3708, \n"
     ]
    },
    {
     "name": "stdout",
     "output_type": "stream",
     "text": [
      "epoch: 9, [batch: 2520 / 12600], examples_per_second: 3240.1577, train_label_loss: 0.4105, \n"
     ]
    },
    {
     "name": "stdout",
     "output_type": "stream",
     "text": [
      "epoch: 9, [batch: 3780 / 12600], examples_per_second: 3246.3678, train_label_loss: 0.4043, \n"
     ]
    },
    {
     "name": "stdout",
     "output_type": "stream",
     "text": [
      "epoch: 9, [batch: 5040 / 12600], examples_per_second: 3232.6508, train_label_loss: 0.7192, \n"
     ]
    },
    {
     "name": "stdout",
     "output_type": "stream",
     "text": [
      "epoch: 9, [batch: 6300 / 12600], examples_per_second: 3250.5219, train_label_loss: 0.2345, \n"
     ]
    },
    {
     "name": "stdout",
     "output_type": "stream",
     "text": [
      "epoch: 9, [batch: 7560 / 12600], examples_per_second: 3250.8020, train_label_loss: 0.4425, \n"
     ]
    },
    {
     "name": "stdout",
     "output_type": "stream",
     "text": [
      "epoch: 9, [batch: 8820 / 12600], examples_per_second: 3229.2722, train_label_loss: 0.1829, \n"
     ]
    },
    {
     "name": "stdout",
     "output_type": "stream",
     "text": [
      "epoch: 9, [batch: 10080 / 12600], examples_per_second: 3249.2902, train_label_loss: 0.1400, \n"
     ]
    },
    {
     "name": "stdout",
     "output_type": "stream",
     "text": [
      "epoch: 9, [batch: 11340 / 12600], examples_per_second: 3244.9430, train_label_loss: 0.2352, \n"
     ]
    },
    {
     "name": "stdout",
     "output_type": "stream",
     "text": [
      "=============================================================\n",
      "epoch: 9, source_val_acc_label: 0.6844, target_val_acc_label: 0.6046, source_val_label_loss: 1.0470, target_val_label_loss: 1.2401, \n",
      "=============================================================\n"
     ]
    },
    {
     "name": "stdout",
     "output_type": "stream",
     "text": [
      "epoch: 10, [batch: 1 / 12600], examples_per_second: 2.2753, train_label_loss: 0.2425, \n"
     ]
    },
    {
     "name": "stdout",
     "output_type": "stream",
     "text": [
      "epoch: 10, [batch: 1260 / 12600], examples_per_second: 3209.9060, train_label_loss: 0.1659, \n"
     ]
    },
    {
     "name": "stdout",
     "output_type": "stream",
     "text": [
      "epoch: 10, [batch: 2520 / 12600], examples_per_second: 3216.2299, train_label_loss: 0.3944, \n"
     ]
    },
    {
     "name": "stdout",
     "output_type": "stream",
     "text": [
      "epoch: 10, [batch: 3780 / 12600], examples_per_second: 3225.9587, train_label_loss: 0.1536, \n"
     ]
    },
    {
     "name": "stdout",
     "output_type": "stream",
     "text": [
      "epoch: 10, [batch: 5040 / 12600], examples_per_second: 3237.2164, train_label_loss: 0.3447, \n"
     ]
    },
    {
     "name": "stdout",
     "output_type": "stream",
     "text": [
      "epoch: 10, [batch: 6300 / 12600], examples_per_second: 3232.6383, train_label_loss: 0.4338, \n"
     ]
    },
    {
     "name": "stdout",
     "output_type": "stream",
     "text": [
      "epoch: 10, [batch: 7560 / 12600], examples_per_second: 3254.3501, train_label_loss: 0.0909, \n"
     ]
    },
    {
     "name": "stdout",
     "output_type": "stream",
     "text": [
      "epoch: 10, [batch: 8820 / 12600], examples_per_second: 3239.4739, train_label_loss: 0.0887, \n"
     ]
    },
    {
     "name": "stdout",
     "output_type": "stream",
     "text": [
      "epoch: 10, [batch: 10080 / 12600], examples_per_second: 3250.1429, train_label_loss: 0.4244, \n"
     ]
    },
    {
     "name": "stdout",
     "output_type": "stream",
     "text": [
      "epoch: 10, [batch: 11340 / 12600], examples_per_second: 3256.0187, train_label_loss: 0.5794, \n"
     ]
    },
    {
     "name": "stdout",
     "output_type": "stream",
     "text": [
      "=============================================================\n",
      "epoch: 10, source_val_acc_label: 0.6839, target_val_acc_label: 0.6059, source_val_label_loss: 1.1197, target_val_label_loss: 1.3106, \n",
      "=============================================================\n"
     ]
    },
    {
     "name": "stdout",
     "output_type": "stream",
     "text": [
      "Patience (3) exhausted\n"
     ]
    }
   ],
   "source": [
    "###################################\n",
    "# train\n",
    "###################################\n",
    "jig = PTN_Train_Eval_Test_Jig(model, p.BEST_MODEL_PATH, p.device)\n",
    "\n",
    "jig.train(\n",
    "    train_iterable=datasets.source.processed.train,\n",
    "    source_val_iterable=datasets.source.processed.val,\n",
    "    target_val_iterable=datasets.target.processed.val,\n",
    "    num_epochs=p.n_epoch,\n",
    "    num_logs_per_epoch=p.NUM_LOGS_PER_EPOCH,\n",
    "    patience=p.patience,\n",
    "    optimizer=optimizer,\n",
    "    criteria_for_best=p.criteria_for_best,\n",
    ")"
   ]
  },
  {
   "cell_type": "code",
   "execution_count": 14,
   "id": "31e8fabf",
   "metadata": {
    "execution": {
     "iopub.execute_input": "2022-03-22T06:47:30.095617Z",
     "iopub.status.busy": "2022-03-22T06:47:30.095363Z",
     "iopub.status.idle": "2022-03-22T06:47:30.114384Z",
     "shell.execute_reply": "2022-03-22T06:47:30.113929Z"
    },
    "papermill": {
     "duration": 0.05243,
     "end_time": "2022-03-22T06:47:30.114492",
     "exception": false,
     "start_time": "2022-03-22T06:47:30.062062",
     "status": "completed"
    },
    "tags": []
   },
   "outputs": [],
   "source": [
    "total_experiment_time_secs = time.time() - start_time_secs"
   ]
  },
  {
   "cell_type": "code",
   "execution_count": 15,
   "id": "87b9595b",
   "metadata": {
    "execution": {
     "iopub.execute_input": "2022-03-22T06:47:30.185417Z",
     "iopub.status.busy": "2022-03-22T06:47:30.185139Z",
     "iopub.status.idle": "2022-03-22T06:51:31.266385Z",
     "shell.execute_reply": "2022-03-22T06:51:31.266611Z"
    },
    "papermill": {
     "duration": 241.116696,
     "end_time": "2022-03-22T06:51:31.266695",
     "exception": false,
     "start_time": "2022-03-22T06:47:30.149999",
     "status": "completed"
    },
    "tags": []
   },
   "outputs": [],
   "source": [
    "###################################\n",
    "# Evaluate the model\n",
    "###################################\n",
    "source_test_label_accuracy, source_test_label_loss = jig.test(datasets.source.processed.test)\n",
    "target_test_label_accuracy, target_test_label_loss = jig.test(datasets.target.processed.test)\n",
    "\n",
    "source_val_label_accuracy, source_val_label_loss = jig.test(datasets.source.processed.val)\n",
    "target_val_label_accuracy, target_val_label_loss = jig.test(datasets.target.processed.val)\n",
    "\n",
    "history = jig.get_history()\n",
    "\n",
    "total_epochs_trained = len(history[\"epoch_indices\"])\n",
    "\n",
    "val_dl = Iterable_Aggregator((datasets.source.original.val,datasets.target.original.val))\n",
    "\n",
    "confusion = ptn_confusion_by_domain_over_dataloader(model, p.device, val_dl)\n",
    "per_domain_accuracy = per_domain_accuracy_from_confusion(confusion)\n",
    "\n",
    "# Add a key to per_domain_accuracy for if it was a source domain\n",
    "for domain, accuracy in per_domain_accuracy.items():\n",
    "    per_domain_accuracy[domain] = {\n",
    "        \"accuracy\": accuracy,\n",
    "        \"source?\": domain in p.domains_source\n",
    "    }\n",
    "\n",
    "# Do an independent accuracy assesment JUST TO BE SURE!\n",
    "# _source_test_label_accuracy = independent_accuracy_assesment(model, datasets.source.processed.test, p.device)\n",
    "# _target_test_label_accuracy = independent_accuracy_assesment(model, datasets.target.processed.test, p.device)\n",
    "# _source_val_label_accuracy = independent_accuracy_assesment(model, datasets.source.processed.val, p.device)\n",
    "# _target_val_label_accuracy = independent_accuracy_assesment(model, datasets.target.processed.val, p.device)\n",
    "\n",
    "# assert(_source_test_label_accuracy == source_test_label_accuracy)\n",
    "# assert(_target_test_label_accuracy == target_test_label_accuracy)\n",
    "# assert(_source_val_label_accuracy == source_val_label_accuracy)\n",
    "# assert(_target_val_label_accuracy == target_val_label_accuracy)\n",
    "\n",
    "experiment = {\n",
    "    \"experiment_name\": p.experiment_name,\n",
    "    \"parameters\": dict(p),\n",
    "    \"results\": {\n",
    "        \"source_test_label_accuracy\": source_test_label_accuracy,\n",
    "        \"source_test_label_loss\": source_test_label_loss,\n",
    "        \"target_test_label_accuracy\": target_test_label_accuracy,\n",
    "        \"target_test_label_loss\": target_test_label_loss,\n",
    "        \"source_val_label_accuracy\": source_val_label_accuracy,\n",
    "        \"source_val_label_loss\": source_val_label_loss,\n",
    "        \"target_val_label_accuracy\": target_val_label_accuracy,\n",
    "        \"target_val_label_loss\": target_val_label_loss,\n",
    "        \"total_epochs_trained\": total_epochs_trained,\n",
    "        \"total_experiment_time_secs\": total_experiment_time_secs,\n",
    "        \"confusion\": confusion,\n",
    "        \"per_domain_accuracy\": per_domain_accuracy,\n",
    "    },\n",
    "    \"history\": history,\n",
    "    \"dataset_metrics\": get_dataset_metrics(datasets, \"ptn\"),\n",
    "}"
   ]
  },
  {
   "cell_type": "code",
   "execution_count": 16,
   "id": "54a21829",
   "metadata": {
    "execution": {
     "iopub.execute_input": "2022-03-22T06:51:31.333650Z",
     "iopub.status.busy": "2022-03-22T06:51:31.332958Z",
     "iopub.status.idle": "2022-03-22T06:51:31.463893Z",
     "shell.execute_reply": "2022-03-22T06:51:31.464205Z"
    },
    "papermill": {
     "duration": 0.16326,
     "end_time": "2022-03-22T06:51:31.464306",
     "exception": false,
     "start_time": "2022-03-22T06:51:31.301046",
     "status": "completed"
    },
    "tags": []
   },
   "outputs": [
    {
     "data": {
      "image/png": "[encoded data removed]",
      "text/plain": [
       "<Figure size 1080x504 with 1 Axes>"
      ]
     },
     "metadata": {
      "needs_background": "light"
     },
     "output_type": "display_data"
    }
   ],
   "source": [
    "ax = get_loss_curve(experiment)\n",
    "plt.show()"
   ]
  },
  {
   "cell_type": "code",
   "execution_count": 17,
   "id": "fd8a0f60",
   "metadata": {
    "execution": {
     "iopub.execute_input": "2022-03-22T06:51:31.534637Z",
     "iopub.status.busy": "2022-03-22T06:51:31.534054Z",
     "iopub.status.idle": "2022-03-22T06:51:31.679786Z",
     "shell.execute_reply": "2022-03-22T06:51:31.679542Z"
    },
    "papermill": {
     "duration": 0.17977,
     "end_time": "2022-03-22T06:51:31.679849",
     "exception": false,
     "start_time": "2022-03-22T06:51:31.500079",
     "status": "completed"
    },
    "tags": []
   },
   "outputs": [
    {
     "data": {
      "text/plain": [
       "<AxesSubplot:title={'center':'Results'}>"
      ]
     },
     "execution_count": 17,
     "metadata": {},
     "output_type": "execute_result"
    },
    {
     "data": {
      "image/png": "[encoded data removed]",
      "text/plain": [
       "<Figure size 1080x504 with 1 Axes>"
      ]
     },
     "metadata": {
      "needs_background": "light"
     },
     "output_type": "display_data"
    }
   ],
   "source": [
    "get_results_table(experiment)"
   ]
  },
  {
   "cell_type": "code",
   "execution_count": 18,
   "id": "cf8dc689",
   "metadata": {
    "execution": {
     "iopub.execute_input": "2022-03-22T06:51:31.750126Z",
     "iopub.status.busy": "2022-03-22T06:51:31.749715Z",
     "iopub.status.idle": "2022-03-22T06:51:31.863988Z",
     "shell.execute_reply": "2022-03-22T06:51:31.864212Z"
    },
    "papermill": {
     "duration": 0.150304,
     "end_time": "2022-03-22T06:51:31.864293",
     "exception": false,
     "start_time": "2022-03-22T06:51:31.713989",
     "status": "completed"
    },
    "tags": []
   },
   "outputs": [
    {
     "data": {
      "text/plain": [
       "<AxesSubplot:title={'center':'Per Domain Validation Accuracy'}, xlabel='domain'>"
      ]
     },
     "execution_count": 18,
     "metadata": {},
     "output_type": "execute_result"
    },
    {
     "data": {
      "image/png": "[encoded data removed]",
      "text/plain": [
       "<Figure size 1080x504 with 1 Axes>"
      ]
     },
     "metadata": {
      "needs_background": "light"
     },
     "output_type": "display_data"
    }
   ],
   "source": [
    "get_domain_accuracies(experiment)"
   ]
  },
  {
   "cell_type": "code",
   "execution_count": 19,
   "id": "a74ae082",
   "metadata": {
    "execution": {
     "iopub.execute_input": "2022-03-22T06:51:31.934643Z",
     "iopub.status.busy": "2022-03-22T06:51:31.934375Z",
     "iopub.status.idle": "2022-03-22T06:51:31.951674Z",
     "shell.execute_reply": "2022-03-22T06:51:31.952065Z"
    },
    "papermill": {
     "duration": 0.053716,
     "end_time": "2022-03-22T06:51:31.952187",
     "exception": false,
     "start_time": "2022-03-22T06:51:31.898471",
     "status": "completed"
    },
    "tags": []
   },
   "outputs": [
    {
     "name": "stdout",
     "output_type": "stream",
     "text": [
      "Source Test Label Accuracy: 0.6873958333333333 Target Test Label Accuracy: 0.61084375\n",
      "Source Val Label Accuracy: 0.6922916666666666 Target Val Label Accuracy: 0.6126666666666667\n"
     ]
    }
   ],
   "source": [
    "print(\"Source Test Label Accuracy:\", experiment[\"results\"][\"source_test_label_accuracy\"], \"Target Test Label Accuracy:\", experiment[\"results\"][\"target_test_label_accuracy\"])\n",
    "print(\"Source Val Label Accuracy:\", experiment[\"results\"][\"source_val_label_accuracy\"], \"Target Val Label Accuracy:\", experiment[\"results\"][\"target_val_label_accuracy\"])"
   ]
  },
  {
   "cell_type": "code",
   "execution_count": 20,
   "id": "dacca602",
   "metadata": {
    "execution": {
     "iopub.execute_input": "2022-03-22T06:51:32.028305Z",
     "iopub.status.busy": "2022-03-22T06:51:32.028039Z",
     "iopub.status.idle": "2022-03-22T06:51:32.044613Z",
     "shell.execute_reply": "2022-03-22T06:51:32.044207Z"
    },
    "papermill": {
     "duration": 0.052832,
     "end_time": "2022-03-22T06:51:32.044718",
     "exception": false,
     "start_time": "2022-03-22T06:51:31.991886",
     "status": "completed"
    },
    "tags": [
     "experiment_json"
    ]
   },
   "outputs": [
    {
     "data": {
      "text/plain": [
       "'{\"experiment_name\": \"tuned_1v2:oracle.run1\", \"parameters\": {\"experiment_name\": \"tuned_1v2:oracle.run1\", \"device\": \"cuda\", \"lr\": 0.0001, \"labels_source\": [\"3123D52\", \"3123D65\", \"3123D79\", \"3123D80\", \"3123D54\", \"3123D70\", \"3123D7B\", \"3123D89\", \"3123D58\", \"3123D76\", \"3123D7D\", \"3123EFE\", \"3123D64\", \"3123D78\", \"3123D7E\", \"3124E4A\"], \"labels_target\": [\"3123D52\", \"3123D65\", \"3123D79\", \"3123D80\", \"3123D54\", \"3123D70\", \"3123D7B\", \"3123D89\", \"3123D58\", \"3123D76\", \"3123D7D\", \"3123EFE\", \"3123D64\", \"3123D78\", \"3123D7E\", \"3124E4A\"], \"episode_transforms_source\": [], \"episode_transforms_target\": [], \"domains_source\": [8, 32, 50], \"domains_target\": [14, 20, 26, 38, 44], \"num_examples_per_domain_per_label_source\": -1, \"num_examples_per_domain_per_label_target\": -1, \"n_shot\": 3, \"n_way\": 16, \"n_query\": 2, \"train_k_factor\": 3, \"val_k_factor\": 2, \"test_k_factor\": 2, \"torch_default_dtype\": \"torch.float32\", \"n_epoch\": 50, \"patience\": 3, \"criteria_for_best\": \"target_accuracy\", \"x_net\": [{\"class\": \"nnReshape\", \"kargs\": {\"shape\": [-1, 1, 2, 256]}}, {\"class\": \"Conv2d\", \"kargs\": {\"in_channels\": 1, \"out_channels\": 256, \"kernel_size\": [1, 7], \"bias\": false, \"padding\": [0, 3]}}, {\"class\": \"ReLU\", \"kargs\": {\"inplace\": true}}, {\"class\": \"BatchNorm2d\", \"kargs\": {\"num_features\": 256}}, {\"class\": \"Conv2d\", \"kargs\": {\"in_channels\": 256, \"out_channels\": 80, \"kernel_size\": [2, 7], \"bias\": true, \"padding\": [0, 3]}}, {\"class\": \"ReLU\", \"kargs\": {\"inplace\": true}}, {\"class\": \"BatchNorm2d\", \"kargs\": {\"num_features\": 80}}, {\"class\": \"Flatten\", \"kargs\": {}}, {\"class\": \"Linear\", \"kargs\": {\"in_features\": 20480, \"out_features\": 256}}, {\"class\": \"ReLU\", \"kargs\": {\"inplace\": true}}, {\"class\": \"BatchNorm1d\", \"kargs\": {\"num_features\": 256}}, {\"class\": \"Linear\", \"kargs\": {\"in_features\": 256, \"out_features\": 256}}], \"NUM_LOGS_PER_EPOCH\": 10, \"BEST_MODEL_PATH\": \"./best_model.pth\", \"pickle_name\": \"oracle.Run1_10kExamples_stratified_ds.2022A.pkl\", \"x_transforms_source\": [\"unit_mag\"], \"x_transforms_target\": [\"unit_mag\"], \"dataset_seed\": 154325, \"seed\": 154325}, \"results\": {\"source_test_label_accuracy\": 0.6873958333333333, \"source_test_label_loss\": 0.9151608347892761, \"target_test_label_accuracy\": 0.61084375, \"target_test_label_loss\": 1.1074241399765015, \"source_val_label_accuracy\": 0.6922916666666666, \"source_val_label_loss\": 0.9044094085693359, \"target_val_label_accuracy\": 0.6126666666666667, \"target_val_label_loss\": 1.1018834114074707, \"total_epochs_trained\": 10, \"total_experiment_time_secs\": 3584.31982755661, \"confusion\": {\"32\": {\"13\": {\"7\": 124, \"8\": 98, \"5\": 313, \"13\": 413, \"0\": 49, \"14\": 56, \"3\": 70, \"4\": 44, \"11\": 32, \"2\": 1}, \"9\": {\"9\": 1198, \"12\": 2}, \"15\": {\"15\": 1189, \"8\": 7, \"3\": 4}, \"2\": {\"4\": 176, \"2\": 941, \"7\": 24, \"0\": 51, \"5\": 4, \"14\": 4}, \"3\": {\"3\": 1066, \"11\": 39, \"13\": 45, \"8\": 20, \"14\": 8, \"5\": 21, \"7\": 1}, \"8\": {\"8\": 816, \"13\": 133, \"5\": 95, \"0\": 103, \"3\": 42, \"7\": 3, \"4\": 4, \"14\": 4}, \"5\": {\"5\": 322, \"13\": 283, \"7\": 134, \"0\": 72, \"4\": 158, \"14\": 39, \"8\": 98, \"3\": 68, \"11\": 18, \"2\": 8}, \"14\": {\"11\": 324, \"13\": 55, \"14\": 441, \"7\": 258, \"3\": 13, \"5\": 35, \"4\": 25, \"2\": 15, \"0\": 28, \"8\": 6}, \"1\": {\"1\": 1196, \"10\": 4}, \"0\": {\"13\": 32, \"8\": 117, \"0\": 676, \"2\": 87, \"4\": 163, \"5\": 66, \"7\": 44, \"14\": 15}, \"10\": {\"10\": 1197, \"1\": 3}, \"6\": {\"6\": 1200}, \"11\": {\"11\": 857, \"14\": 255, \"7\": 20, \"3\": 21, \"13\": 29, \"5\": 16, \"8\": 1, \"4\": 1}, \"7\": {\"13\": 89, \"14\": 197, \"2\": 41, \"4\": 195, \"11\": 46, \"5\": 139, \"7\": 463, \"0\": 21, \"8\": 5, \"3\": 4}, \"4\": {\"4\": 548, \"7\": 167, \"0\": 147, \"5\": 82, \"2\": 216, \"14\": 13, \"13\": 26, \"8\": 1}, \"12\": {\"12\": 1200}}, \"50\": {\"10\": {\"10\": 1103, \"7\": 27, \"0\": 43, \"13\": 12, \"8\": 13, \"5\": 2}, \"12\": {\"12\": 1078, \"9\": 67, \"14\": 46, \"11\": 9}, \"1\": {\"1\": 653, \"15\": 284, \"6\": 103, \"4\": 140, \"11\": 6, \"14\": 8, \"5\": 3, \"2\": 3}, \"0\": {\"0\": 989, \"2\": 148, \"10\": 56, \"13\": 5, \"7\": 1, \"1\": 1}, \"15\": {\"15\": 780, \"1\": 228, \"4\": 140, \"11\": 49, \"6\": 3}, \"13\": {\"7\": 208, \"13\": 622, \"5\": 248, \"6\": 74, \"4\": 22, \"10\": 17, \"0\": 9}, \"8\": {\"8\": 1158, \"10\": 27, \"3\": 15}, \"3\": {\"3\": 1157, \"8\": 43}, \"11\": {\"14\": 19, \"11\": 1016, \"9\": 121, \"15\": 31, \"12\": 12, \"1\": 1}, \"4\": {\"4\": 461, \"5\": 101, \"15\": 191, \"1\": 217, \"6\": 165, \"13\": 34, \"7\": 29, \"11\": 2}, \"6\": {\"6\": 709, \"4\": 166, \"5\": 86, \"1\": 147, \"15\": 12, \"13\": 72, \"7\": 4, \"0\": 3, \"2\": 1}, \"7\": {\"5\": 161, \"7\": 728, \"4\": 6, \"13\": 258, \"6\": 4, \"10\": 42, \"8\": 1}, \"14\": {\"14\": 1154, \"12\": 28, \"11\": 18}, \"2\": {\"2\": 1112, \"0\": 84, \"6\": 1, \"14\": 2, \"1\": 1}, \"5\": {\"13\": 239, \"5\": 321, \"7\": 242, \"4\": 141, \"6\": 207, \"15\": 2, \"1\": 32, \"10\": 12, \"0\": 4}, \"9\": {\"9\": 879, \"12\": 124, \"11\": 188, \"14\": 9}}, \"8\": {\"14\": {\"14\": 549, \"13\": 117, \"10\": 236, \"4\": 190, \"1\": 81, \"0\": 4, \"6\": 2, \"11\": 17, \"5\": 4}, \"10\": {\"10\": 759, \"14\": 229, \"13\": 103, \"1\": 18, \"5\": 52, \"4\": 37, \"0\": 1, \"11\": 1}, \"2\": {\"2\": 885, \"3\": 230, \"7\": 31, \"15\": 33, \"12\": 21}, \"8\": {\"8\": 1095, \"15\": 66, \"7\": 11, \"6\": 16, \"12\": 7, \"11\": 3, \"2\": 1, \"4\": 1}, \"6\": {\"6\": 604, \"4\": 140, \"7\": 305, \"0\": 96, \"13\": 28, \"8\": 20, \"14\": 6, \"15\": 1}, \"7\": {\"7\": 837, \"8\": 12, \"6\": 268, \"0\": 57, \"4\": 11, \"13\": 4, \"15\": 7, \"2\": 4}, \"9\": {\"9\": 1200}, \"11\": {\"11\": 682, \"1\": 452, \"5\": 18, \"8\": 17, \"14\": 23, \"10\": 3, \"4\": 4, \"6\": 1}, \"12\": {\"15\": 372, \"8\": 28, \"3\": 205, \"12\": 565, \"2\": 30}, \"13\": {\"14\": 127, \"6\": 47, \"4\": 170, \"0\": 290, \"13\": 385, \"10\": 156, \"7\": 19, \"1\": 6}, \"0\": {\"6\": 97, \"0\": 683, \"13\": 244, \"7\": 89, \"4\": 73, \"14\": 7, \"10\": 7}, \"3\": {\"3\": 925, \"2\": 154, \"12\": 103, \"15\": 18}, \"4\": {\"13\": 217, \"4\": 531, \"14\": 175, \"0\": 85, \"10\": 31, \"6\": 144, \"7\": 13, \"11\": 1, \"1\": 3}, \"15\": {\"15\": 780, \"12\": 322, \"8\": 57, \"3\": 14, \"2\": 23, \"7\": 4}, \"5\": {\"5\": 1034, \"1\": 51, \"14\": 19, \"11\": 10, \"10\": 85, \"13\": 1}, \"1\": {\"11\": 351, \"1\": 719, \"14\": 86, \"10\": 11, \"5\": 27, \"13\": 2, \"8\": 1, \"4\": 3}}, \"44\": {\"13\": {\"13\": 791, \"9\": 144, \"7\": 6, \"6\": 186, \"11\": 66, \"4\": 5, \"14\": 1, \"2\": 1}, \"9\": {\"9\": 659, \"6\": 112, \"7\": 241, \"13\": 173, \"2\": 10, \"11\": 1, \"4\": 2, \"10\": 1, \"3\": 1}, \"15\": {\"15\": 948, \"5\": 23, \"8\": 27, \"0\": 96, \"14\": 96, \"4\": 10}, \"2\": {\"2\": 798, \"10\": 106, \"1\": 80, \"7\": 188, \"3\": 10, \"12\": 6, \"9\": 8, \"6\": 4}, \"3\": {\"3\": 1049, \"1\": 132, \"12\": 16, \"2\": 1, \"7\": 2}, \"8\": {\"0\": 368, \"8\": 779, \"15\": 40, \"5\": 12, \"14\": 1}, \"5\": {\"5\": 999, \"14\": 40, \"0\": 109, \"8\": 12, \"4\": 5, \"15\": 35}, \"14\": {\"5\": 28, \"14\": 714, \"4\": 384, \"15\": 73, \"0\": 1}, \"1\": {\"12\": 262, \"3\": 208, \"1\": 590, \"10\": 96, \"7\": 2, \"2\": 42}, \"0\": {\"8\": 357, \"0\": 675, \"15\": 68, \"5\": 100}, \"10\": {\"10\": 821, \"1\": 113, \"12\": 128, \"2\": 130, \"7\": 6, \"3\": 2}, \"6\": {\"13\": 192, \"6\": 798, \"9\": 110, \"11\": 49, \"7\": 51}, \"11\": {\"11\": 1048, \"13\": 107, \"6\": 45}, \"7\": {\"7\": 692, \"2\": 209, \"9\": 233, \"13\": 7, \"6\": 44, \"1\": 7, \"3\": 8}, \"4\": {\"14\": 364, \"4\": 822, \"15\": 7, \"5\": 4, \"13\": 2, \"9\": 1}, \"12\": {\"12\": 799, \"1\": 259, \"10\": 112, \"3\": 29, \"2\": 1}}, \"38\": {\"13\": {\"15\": 372, \"10\": 90, \"13\": 647, \"1\": 31, \"8\": 26, \"2\": 27, \"5\": 5, \"14\": 1, \"0\": 1}, \"12\": {\"12\": 1090, \"10\": 62, \"14\": 3, \"4\": 41, \"11\": 4}, \"2\": {\"2\": 1109, \"14\": 61, \"13\": 26, \"11\": 2, \"10\": 1, \"15\": 1}, \"9\": {\"6\": 470, \"9\": 614, \"3\": 101, \"5\": 12, \"0\": 3}, \"15\": {\"15\": 631, \"1\": 124, \"8\": 54, \"13\": 357, \"5\": 24, \"2\": 2, \"10\": 7, \"0\": 1}, \"5\": {\"6\": 91, \"9\": 32, \"8\": 287, \"5\": 476, \"7\": 81, \"3\": 31, \"0\": 115, \"15\": 61, \"1\": 13, \"10\": 5, \"13\": 7, \"12\": 1}, \"14\": {\"14\": 860, \"11\": 261, \"2\": 59, \"12\": 11, \"10\": 9}, \"0\": {\"0\": 344, \"8\": 308, \"5\": 152, \"7\": 292, \"3\": 41, \"6\": 3, \"9\": 5, \"10\": 35, \"4\": 2, \"12\": 5, \"15\": 10, \"13\": 3}, \"3\": {\"3\": 984, \"0\": 22, \"7\": 55, \"9\": 109, \"5\": 7, \"6\": 23}, \"1\": {\"1\": 1138, \"15\": 57, \"13\": 1, \"5\": 2, \"8\": 1, \"6\": 1}, \"11\": {\"11\": 766, \"14\": 361, \"12\": 50, \"2\": 8, \"10\": 12, \"13\": 1, \"4\": 2}, \"7\": {\"0\": 215, \"7\": 879, \"8\": 39, \"5\": 47, \"3\": 16, \"4\": 2, \"9\": 1, \"10\": 1}, \"8\": {\"5\": 228, \"7\": 32, \"8\": 656, \"10\": 26, \"0\": 226, \"15\": 23, \"6\": 2, \"13\": 6, \"3\": 1}, \"4\": {\"4\": 1107, \"12\": 89, \"0\": 1, \"10\": 2, \"7\": 1}, \"10\": {\"10\": 860, \"5\": 6, \"12\": 107, \"0\": 30, \"13\": 83, \"8\": 54, \"4\": 6, \"15\": 28, \"14\": 12, \"2\": 3, \"11\": 6, \"7\": 5}, \"6\": {\"6\": 857, \"9\": 324, \"3\": 4, \"5\": 15}}, \"26\": {\"10\": {\"14\": 104, \"10\": 379, \"0\": 278, \"6\": 83, \"4\": 93, \"8\": 148, \"1\": 39, \"9\": 40, \"15\": 16, \"2\": 4, \"7\": 12, \"5\": 4}, \"12\": {\"12\": 1196, \"11\": 4}, \"1\": {\"14\": 269, \"1\": 575, \"0\": 98, \"10\": 44, \"4\": 174, \"8\": 15, \"7\": 23, \"3\": 2}, \"0\": {\"0\": 276, \"14\": 169, \"10\": 269, \"4\": 185, \"1\": 84, \"8\": 122, \"7\": 40, \"15\": 5, \"6\": 29, \"9\": 16, \"2\": 2, \"3\": 3}, \"15\": {\"4\": 6, \"6\": 58, \"15\": 327, \"9\": 293, \"2\": 49, \"5\": 235, \"8\": 103, \"13\": 82, \"7\": 18, \"0\": 11, \"3\": 4, \"10\": 13, \"14\": 1}, \"13\": {\"5\": 220, \"13\": 802, \"6\": 16, \"15\": 96, \"9\": 48, \"2\": 14, \"8\": 1, \"10\": 1, \"7\": 1, \"3\": 1}, \"8\": {\"15\": 91, \"8\": 350, \"6\": 68, \"5\": 19, \"9\": 122, \"10\": 159, \"7\": 105, \"0\": 115, \"14\": 33, \"1\": 13, \"2\": 26, \"4\": 85, \"3\": 14}, \"3\": {\"3\": 653, \"2\": 282, \"7\": 236, \"5\": 1, \"15\": 5, \"8\": 7, \"0\": 2, \"4\": 12, \"1\": 1, \"14\": 1}, \"11\": {\"11\": 1190, \"12\": 10}, \"4\": {\"0\": 196, \"6\": 1, \"1\": 162, \"14\": 220, \"7\": 114, \"8\": 113, \"4\": 307, \"3\": 8, \"10\": 69, \"15\": 4, \"9\": 3, \"2\": 3}, \"6\": {\"6\": 757, \"13\": 36, \"9\": 178, \"10\": 91, \"0\": 18, \"5\": 6, \"8\": 51, \"15\": 60, \"14\": 2, \"2\": 1}, \"7\": {\"8\": 79, \"7\": 512, \"3\": 227, \"5\": 3, \"2\": 168, \"4\": 88, \"0\": 27, \"15\": 21, \"10\": 9, \"14\": 33, \"1\": 16, \"9\": 17}, \"14\": {\"4\": 234, \"14\": 322, \"1\": 277, \"10\": 104, \"8\": 39, \"0\": 189, \"7\": 28, \"2\": 2, \"3\": 2, \"6\": 3}, \"2\": {\"2\": 441, \"3\": 372, \"5\": 86, \"15\": 98, \"9\": 33, \"7\": 114, \"8\": 41, \"4\": 3, \"13\": 8, \"10\": 1, \"0\": 1, \"1\": 2}, \"5\": {\"5\": 538, \"13\": 205, \"9\": 93, \"2\": 77, \"15\": 237, \"6\": 10, \"8\": 24, \"0\": 2, \"7\": 8, \"3\": 3, \"4\": 1, \"10\": 2}, \"9\": {\"9\": 406, \"10\": 29, \"15\": 285, \"6\": 155, \"5\": 117, \"8\": 118, \"2\": 13, \"0\": 17, \"7\": 19, \"4\": 5, \"13\": 35, \"3\": 1}}, \"20\": {\"5\": {\"5\": 307, \"1\": 254, \"3\": 64, \"0\": 267, \"12\": 152, \"13\": 8, \"15\": 106, \"9\": 17, \"2\": 9, \"4\": 16}, \"15\": {\"0\": 126, \"1\": 222, \"15\": 647, \"5\": 97, \"9\": 15, \"13\": 43, \"12\": 38, \"3\": 8, \"2\": 4}, \"9\": {\"9\": 319, \"3\": 188, \"2\": 315, \"7\": 118, \"12\": 124, \"15\": 10, \"8\": 25, \"4\": 10, \"13\": 53, \"1\": 20, \"5\": 10, \"0\": 7, \"6\": 1}, \"7\": {\"7\": 682, \"8\": 121, \"6\": 32, \"9\": 78, \"2\": 188, \"3\": 62, \"13\": 10, \"4\": 13, \"14\": 3, \"10\": 5, \"11\": 1, \"12\": 4, \"15\": 1}, \"3\": {\"3\": 373, \"12\": 223, \"9\": 207, \"2\": 117, \"7\": 55, \"4\": 71, \"5\": 57, \"0\": 19, \"1\": 26, \"8\": 40, \"13\": 7, \"15\": 5}, \"8\": {\"8\": 616, \"4\": 244, \"10\": 100, \"14\": 40, \"7\": 108, \"3\": 46, \"2\": 5, \"0\": 1, \"6\": 28, \"12\": 4, \"9\": 8}, \"4\": {\"4\": 805, \"8\": 216, \"0\": 13, \"10\": 51, \"12\": 21, \"9\": 9, \"3\": 67, \"7\": 11, \"5\": 4, \"1\": 3}, \"6\": {\"6\": 933, \"14\": 181, \"7\": 40, \"10\": 20, \"8\": 24, \"11\": 2}, \"2\": {\"3\": 107, \"9\": 268, \"13\": 113, \"2\": 398, \"7\": 191, \"15\": 9, \"5\": 11, \"12\": 76, \"1\": 12, \"8\": 10, \"14\": 1, \"0\": 2, \"6\": 2}, \"12\": {\"9\": 111, \"3\": 223, \"1\": 155, \"5\": 150, \"12\": 351, \"0\": 71, \"2\": 41, \"8\": 5, \"4\": 25, \"15\": 45, \"7\": 9, \"13\": 14}, \"0\": {\"0\": 411, \"5\": 295, \"3\": 52, \"9\": 15, \"1\": 150, \"12\": 91, \"15\": 156, \"4\": 12, \"13\": 7, \"2\": 9, \"7\": 1, \"8\": 1}, \"13\": {\"13\": 956, \"2\": 105, \"15\": 40, \"9\": 49, \"12\": 16, \"7\": 7, \"5\": 6, \"11\": 1, \"1\": 13, \"3\": 6, \"0\": 1}, \"10\": {\"14\": 217, \"10\": 799, \"4\": 49, \"8\": 113, \"7\": 4, \"3\": 2, \"6\": 16}, \"11\": {\"11\": 1193, \"7\": 3, \"6\": 3, \"9\": 1}, \"14\": {\"14\": 715, \"7\": 6, \"10\": 221, \"6\": 207, \"8\": 49, \"4\": 2}, \"1\": {\"5\": 269, \"15\": 277, \"0\": 138, \"1\": 312, \"12\": 112, \"13\": 19, \"2\": 13, \"3\": 35, \"9\": 17, \"4\": 8}}, \"14\": {\"13\": {\"6\": 425, \"14\": 246, \"13\": 382, \"2\": 102, \"4\": 9, \"5\": 23, \"3\": 4, \"15\": 9}, \"4\": {\"4\": 609, \"14\": 14, \"3\": 221, \"5\": 212, \"1\": 47, \"2\": 92, \"13\": 3, \"6\": 2}, \"6\": {\"6\": 609, \"13\": 395, \"14\": 104, \"2\": 91, \"4\": 1}, \"0\": {\"0\": 903, \"3\": 34, \"10\": 228, \"11\": 33, \"14\": 2}, \"10\": {\"10\": 977, \"0\": 202, \"3\": 9, \"13\": 1, \"11\": 6, \"14\": 5}, \"7\": {\"7\": 1095, \"15\": 81, \"5\": 11, \"1\": 13}, \"14\": {\"14\": 803, \"4\": 15, \"13\": 150, \"10\": 4, \"6\": 64, \"3\": 65, \"2\": 99}, \"15\": {\"15\": 1079, \"7\": 116, \"5\": 3, \"1\": 1, \"2\": 1}, \"5\": {\"2\": 73, \"5\": 593, \"4\": 263, \"1\": 221, \"3\": 31, \"7\": 12, \"15\": 5, \"14\": 2}, \"2\": {\"2\": 475, \"14\": 158, \"5\": 127, \"4\": 139, \"13\": 81, \"6\": 120, \"3\": 65, \"15\": 32, \"7\": 1, \"1\": 2}, \"9\": {\"9\": 1188, \"11\": 8, \"12\": 4}, \"12\": {\"12\": 1192, \"9\": 8}, \"8\": {\"8\": 1199, \"0\": 1}, \"3\": {\"4\": 175, \"3\": 914, \"2\": 34, \"0\": 11, \"14\": 45, \"10\": 12, \"5\": 6, \"1\": 2, \"6\": 1}, \"1\": {\"1\": 941, \"5\": 205, \"4\": 35, \"7\": 13, \"3\": 4, \"15\": 1, \"2\": 1}, \"11\": {\"11\": 1009, \"10\": 64, \"0\": 61, \"9\": 66}}}, \"per_domain_accuracy\": {\"32\": {\"accuracy\": 0.7147395833333333, \"source?\": true}, \"50\": {\"accuracy\": 0.725, \"source?\": true}, \"8\": {\"accuracy\": 0.6371354166666666, \"source?\": true}, \"44\": {\"accuracy\": 0.6761458333333333, \"source?\": false}, \"38\": {\"accuracy\": 0.6780208333333333, \"source?\": false}, \"26\": {\"accuracy\": 0.4703645833333333, \"source?\": false}, \"20\": {\"accuracy\": 0.5113020833333334, \"source?\": false}, \"14\": {\"accuracy\": 0.7275, \"source?\": false}}}, \"history\": {\"epoch_indices\": [1, 2, 3, 4, 5, 6, 7, 8, 9, 10], \"train_label_loss\": [1.397053258026403, 0.8934999094548679, 0.7551276176280919, 0.6651438389458354, 0.5800430655449865, 0.5016670449160867, 0.4316486127417357, 0.37287343091922737, 0.32483521239477253, 0.2809591037002466], \"source_val_label_loss\": [1.092563271522522, 0.8934416770935059, 0.8698433637619019, 0.861735463142395, 0.8875125050544739, 0.9044094085693359, 0.9476022124290466, 0.992207944393158, 1.0470126867294312, 1.1196703910827637], \"target_val_label_loss\": [1.3340404033660889, 1.0912351608276367, 1.0757988691329956, 1.0550681352615356, 1.0946135520935059, 1.1018834114074707, 1.1515891551971436, 1.1914681196212769, 1.2401010990142822, 1.3105639219284058], \"source_val_acc_label\": [0.5994097222222222, 0.66984375, 0.6658854166666667, 0.6833680555555556, 0.6791145833333333, 0.6922916666666666, 0.6808506944444445, 0.6857638888888888, 0.6844270833333334, 0.68390625], \"target_val_acc_label\": [0.5050104166666667, 0.5903020833333333, 0.5937395833333333, 0.6077083333333333, 0.5998125, 0.6126666666666667, 0.602125, 0.6060208333333333, 0.6045625, 0.6058645833333334]}, \"dataset_metrics\": {\"source\": {\"train\": {\"n_unique_x\": 336000, \"n_unique_y\": 16, \"n_batch/episode\": 12600}, \"val\": {\"n_unique_x\": 72000, \"n_unique_y\": 16, \"n_batch/episode\": 1800}, \"test\": {\"n_unique_x\": 72000, \"n_unique_y\": 16, \"n_batch/episode\": 1800}}, \"target\": {\"train\": {\"n_unique_x\": 560000, \"n_unique_y\": 16, \"n_batch/episode\": 21000}, \"val\": {\"n_unique_x\": 120000, \"n_unique_y\": 16, \"n_batch/episode\": 3000}, \"test\": {\"n_unique_x\": 120000, \"n_unique_y\": 16, \"n_batch/episode\": 3000}}}}'"
      ]
     },
     "execution_count": 20,
     "metadata": {},
     "output_type": "execute_result"
    }
   ],
   "source": [
    "json.dumps(experiment)"
   ]
  }
 ],
 "metadata": {
  "celltoolbar": "Tags",
  "kernelspec": {
   "display_name": "Python 3 (ipykernel)",
   "language": "python",
   "name": "python3"
  },
  "language_info": {
   "codemirror_mode": {
    "name": "ipython",
    "version": 3
   },
   "file_extension": ".py",
   "mimetype": "text/x-python",
   "name": "python",
   "nbconvert_exporter": "python",
   "pygments_lexer": "ipython3",
   "version": "3.8.10"
  },
  "papermill": {
   "default_parameters": {},
   "duration": 3830.756696,
   "end_time": "2022-03-22T06:51:34.594963",
   "environment_variables": {},
   "exception": null,
   "input_path": "/mnt/wd500GB/CSC500/csc500-main/csc500-notebooks/templates/ptn_template.ipynb",
   "output_path": "trial.ipynb",
   "parameters": {
    "parameters": {
     "BEST_MODEL_PATH": "./best_model.pth",
     "NUM_LOGS_PER_EPOCH": 10,
     "criteria_for_best": "target_accuracy",
     "dataset_seed": 154325,
     "device": "cuda",
     "domains_source": [
      8,
      32,
      50
     ],
     "domains_target": [
      14,
      20,
      26,
      38,
      44
     ],
     "episode_transforms_source": [],
     "episode_transforms_target": [],
     "experiment_name": "tuned_1v2:oracle.run1",
     "labels_source": [
      "3123D52",
      "3123D65",
      "3123D79",
      "3123D80",
      "3123D54",
      "3123D70",
      "3123D7B",
      "3123D89",
      "3123D58",
      "3123D76",
      "3123D7D",
      "3123EFE",
      "3123D64",
      "3123D78",
      "3123D7E",
      "3124E4A"
     ],
     "labels_target": [
      "3123D52",
      "3123D65",
      "3123D79",
      "3123D80",
      "3123D54",
      "3123D70",
      "3123D7B",
      "3123D89",
      "3123D58",
      "3123D76",
      "3123D7D",
      "3123EFE",
      "3123D64",
      "3123D78",
      "3123D7E",
      "3124E4A"
     ],
     "lr": 0.0001,
     "n_epoch": 50,
     "n_query": 2,
     "n_shot": 3,
     "n_way": 16,
     "num_examples_per_domain_per_label_source": -1,
     "num_examples_per_domain_per_label_target": -1,
     "patience": 3,
     "pickle_name": "oracle.Run1_10kExamples_stratified_ds.2022A.pkl",
     "seed": 154325,
     "test_k_factor": 2,
     "torch_default_dtype": "torch.float32",
     "train_k_factor": 3,
     "val_k_factor": 2,
     "x_net": [
      {
       "class": "nnReshape",
       "kargs": {
        "shape": [
         -1,
         1,
         2,
         256
        ]
       }
      },
      {
       "class": "Conv2d",
       "kargs": {
        "bias": false,
        "in_channels": 1,
        "kernel_size": [
         1,
         7
        ],
        "out_channels": 256,
        "padding": [
         0,
         3
        ]
       }
      },
      {
       "class": "ReLU",
       "kargs": {
        "inplace": true
       }
      },
      {
       "class": "BatchNorm2d",
       "kargs": {
        "num_features": 256
       }
      },
      {
       "class": "Conv2d",
       "kargs": {
        "bias": true,
        "in_channels": 256,
        "kernel_size": [
         2,
         7
        ],
        "out_channels": 80,
        "padding": [
         0,
         3
        ]
       }
      },
      {
       "class": "ReLU",
       "kargs": {
        "inplace": true
       }
      },
      {
       "class": "BatchNorm2d",
       "kargs": {
        "num_features": 80
       }
      },
      {
       "class": "Flatten",
       "kargs": {}
      },
      {
       "class": "Linear",
       "kargs": {
        "in_features": 20480,
        "out_features": 256
       }
      },
      {
       "class": "ReLU",
       "kargs": {
        "inplace": true
       }
      },
      {
       "class": "BatchNorm1d",
       "kargs": {
        "num_features": 256
       }
      },
      {
       "class": "Linear",
       "kargs": {
        "in_features": 256,
        "out_features": 256
       }
      }
     ],
     "x_transforms_source": [
      "unit_mag"
     ],
     "x_transforms_target": [
      "unit_mag"
     ]
    }
   },
   "start_time": "2022-03-22T05:47:43.838267",
   "version": "2.3.4"
  }
 },
 "nbformat": 4,
 "nbformat_minor": 5
}