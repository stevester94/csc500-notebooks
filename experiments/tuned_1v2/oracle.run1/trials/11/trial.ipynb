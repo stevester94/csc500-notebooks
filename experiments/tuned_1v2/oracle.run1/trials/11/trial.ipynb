{
 "cells": [
  {
   "cell_type": "markdown",
   "id": "9fea5f46",
   "metadata": {
    "papermill": {
     "duration": 0.014841,
     "end_time": "2022-03-22T11:44:49.560166",
     "exception": false,
     "start_time": "2022-03-22T11:44:49.545325",
     "status": "completed"
    },
    "tags": []
   },
   "source": [
    "# PTN Template\n",
    "This notebook serves as a template for single dataset PTN experiments  \n",
    "It can be run on its own by setting STANDALONE to True (do a find for \"STANDALONE\" to see where)  \n",
    "But it is intended to be executed as part of a *papermill.py script. See any of the   \n",
    "experimentes with a papermill script to get started with that workflow.  "
   ]
  },
  {
   "cell_type": "code",
   "execution_count": 1,
   "id": "0902182a",
   "metadata": {
    "execution": {
     "iopub.execute_input": "2022-03-22T11:44:49.593449Z",
     "iopub.status.busy": "2022-03-22T11:44:49.593174Z",
     "iopub.status.idle": "2022-03-22T11:44:50.584563Z",
     "shell.execute_reply": "2022-03-22T11:44:50.584788Z"
    },
    "papermill": {
     "duration": 1.013814,
     "end_time": "2022-03-22T11:44:50.584901",
     "exception": false,
     "start_time": "2022-03-22T11:44:49.571087",
     "status": "completed"
    },
    "tags": []
   },
   "outputs": [],
   "source": [
    "%load_ext autoreload\n",
    "%autoreload 2\n",
    "%matplotlib inline\n",
    "\n",
    "    \n",
    "import os, json, sys, time, random\n",
    "import numpy as np\n",
    "import torch\n",
    "from torch.optim import Adam\n",
    "from  easydict import EasyDict\n",
    "import matplotlib.pyplot as plt\n",
    "\n",
    "from steves_models.steves_ptn import Steves_Prototypical_Network\n",
    "\n",
    "from steves_utils.lazy_iterable_wrapper import Lazy_Iterable_Wrapper\n",
    "from steves_utils.iterable_aggregator import Iterable_Aggregator\n",
    "from steves_utils.ptn_train_eval_test_jig import  PTN_Train_Eval_Test_Jig\n",
    "from steves_utils.torch_sequential_builder import build_sequential\n",
    "from steves_utils.torch_utils import get_dataset_metrics, ptn_confusion_by_domain_over_dataloader\n",
    "from steves_utils.utils_v2 import (per_domain_accuracy_from_confusion, get_datasets_base_path)\n",
    "from steves_utils.PTN.utils import independent_accuracy_assesment\n",
    "\n",
    "from steves_utils.stratified_dataset.episodic_accessor import Episodic_Accessor_Factory\n",
    "\n",
    "from steves_utils.ptn_do_report import (\n",
    "    get_loss_curve,\n",
    "    get_results_table,\n",
    "    get_parameters_table,\n",
    "    get_domain_accuracies,\n",
    ")\n",
    "\n",
    "from steves_utils.transforms import get_chained_transform"
   ]
  },
  {
   "cell_type": "markdown",
   "id": "41c840b4",
   "metadata": {
    "papermill": {
     "duration": 0.009458,
     "end_time": "2022-03-22T11:44:50.609238",
     "exception": false,
     "start_time": "2022-03-22T11:44:50.599780",
     "status": "completed"
    },
    "tags": []
   },
   "source": [
    "# Required Parameters\n",
    "These are allowed parameters, not defaults\n",
    "Each of these values need to be present in the injected parameters (the notebook will raise an exception if they are not present)\n",
    "\n",
    "Papermill uses the cell tag \"parameters\" to inject the real parameters below this cell.\n",
    "Enable tags to see what I mean"
   ]
  },
  {
   "cell_type": "code",
   "execution_count": 2,
   "id": "fd44eb83",
   "metadata": {
    "execution": {
     "iopub.execute_input": "2022-03-22T11:44:50.631322Z",
     "iopub.status.busy": "2022-03-22T11:44:50.631045Z",
     "iopub.status.idle": "2022-03-22T11:44:50.645635Z",
     "shell.execute_reply": "2022-03-22T11:44:50.645840Z"
    },
    "papermill": {
     "duration": 0.02723,
     "end_time": "2022-03-22T11:44:50.645897",
     "exception": false,
     "start_time": "2022-03-22T11:44:50.618667",
     "status": "completed"
    },
    "tags": []
   },
   "outputs": [],
   "source": [
    "required_parameters = {\n",
    "    \"experiment_name\",\n",
    "    \"lr\",\n",
    "    \"device\",\n",
    "    \"seed\",\n",
    "    \"dataset_seed\",\n",
    "    \"labels_source\",\n",
    "    \"labels_target\",\n",
    "    \"domains_source\",\n",
    "    \"domains_target\",\n",
    "    \"num_examples_per_domain_per_label_source\",\n",
    "    \"num_examples_per_domain_per_label_target\",\n",
    "    \"n_shot\",\n",
    "    \"n_way\",\n",
    "    \"n_query\",\n",
    "    \"train_k_factor\",\n",
    "    \"val_k_factor\",\n",
    "    \"test_k_factor\",\n",
    "    \"n_epoch\",\n",
    "    \"patience\",\n",
    "    \"criteria_for_best\",\n",
    "    \"x_transforms_source\",\n",
    "    \"x_transforms_target\",\n",
    "    \"episode_transforms_source\",\n",
    "    \"episode_transforms_target\",\n",
    "    \"pickle_name\",\n",
    "    \"x_net\",\n",
    "    \"NUM_LOGS_PER_EPOCH\",\n",
    "    \"BEST_MODEL_PATH\",\n",
    "    \"torch_default_dtype\"\n",
    "}"
   ]
  },
  {
   "cell_type": "code",
   "execution_count": 3,
   "id": "fa3f0049",
   "metadata": {
    "execution": {
     "iopub.execute_input": "2022-03-22T11:44:50.673539Z",
     "iopub.status.busy": "2022-03-22T11:44:50.673260Z",
     "iopub.status.idle": "2022-03-22T11:44:50.686925Z",
     "shell.execute_reply": "2022-03-22T11:44:50.687128Z"
    },
    "papermill": {
     "duration": 0.031721,
     "end_time": "2022-03-22T11:44:50.687184",
     "exception": false,
     "start_time": "2022-03-22T11:44:50.655463",
     "status": "completed"
    },
    "tags": [
     "parameters"
    ]
   },
   "outputs": [],
   "source": [
    "\n",
    "\n",
    "standalone_parameters = {}\n",
    "standalone_parameters[\"experiment_name\"] = \"STANDALONE PTN\"\n",
    "standalone_parameters[\"lr\"] = 0.0001\n",
    "standalone_parameters[\"device\"] = \"cuda\"\n",
    "\n",
    "standalone_parameters[\"seed\"] = 1337\n",
    "standalone_parameters[\"dataset_seed\"] = 1337\n",
    "\n",
    "\n",
    "standalone_parameters[\"num_examples_per_domain_per_label_source\"]=100\n",
    "standalone_parameters[\"num_examples_per_domain_per_label_target\"]=100\n",
    "\n",
    "standalone_parameters[\"n_shot\"] = 3\n",
    "standalone_parameters[\"n_query\"]  = 2\n",
    "standalone_parameters[\"train_k_factor\"] = 1\n",
    "standalone_parameters[\"val_k_factor\"] = 2\n",
    "standalone_parameters[\"test_k_factor\"] = 2\n",
    "\n",
    "\n",
    "standalone_parameters[\"n_epoch\"] = 100\n",
    "\n",
    "standalone_parameters[\"patience\"] = 10\n",
    "standalone_parameters[\"criteria_for_best\"] = \"target_accuracy\"\n",
    "\n",
    "standalone_parameters[\"x_transforms_source\"] = [\"unit_power\"]\n",
    "standalone_parameters[\"x_transforms_target\"] = [\"unit_power\"]\n",
    "standalone_parameters[\"episode_transforms_source\"] = []\n",
    "standalone_parameters[\"episode_transforms_target\"] = []\n",
    "\n",
    "standalone_parameters[\"torch_default_dtype\"] = \"torch.float32\" \n",
    "\n",
    "\n",
    "\n",
    "standalone_parameters[\"x_net\"] =     [\n",
    "    {\"class\": \"nnReshape\", \"kargs\": {\"shape\":[-1, 1, 2, 256]}},\n",
    "    {\"class\": \"Conv2d\", \"kargs\": { \"in_channels\":1, \"out_channels\":256, \"kernel_size\":(1,7), \"bias\":False, \"padding\":(0,3), },},\n",
    "    {\"class\": \"ReLU\", \"kargs\": {\"inplace\": True}},\n",
    "    {\"class\": \"BatchNorm2d\", \"kargs\": {\"num_features\":256}},\n",
    "\n",
    "    {\"class\": \"Conv2d\", \"kargs\": { \"in_channels\":256, \"out_channels\":80, \"kernel_size\":(2,7), \"bias\":True, \"padding\":(0,3), },},\n",
    "    {\"class\": \"ReLU\", \"kargs\": {\"inplace\": True}},\n",
    "    {\"class\": \"BatchNorm2d\", \"kargs\": {\"num_features\":80}},\n",
    "    {\"class\": \"Flatten\", \"kargs\": {}},\n",
    "\n",
    "    {\"class\": \"Linear\", \"kargs\": {\"in_features\": 80*256, \"out_features\": 256}}, # 80 units per IQ pair\n",
    "    {\"class\": \"ReLU\", \"kargs\": {\"inplace\": True}},\n",
    "    {\"class\": \"BatchNorm1d\", \"kargs\": {\"num_features\":256}},\n",
    "\n",
    "    {\"class\": \"Linear\", \"kargs\": {\"in_features\": 256, \"out_features\": 256}},\n",
    "]\n",
    "\n",
    "# Parameters relevant to results\n",
    "# These parameters will basically never need to change\n",
    "standalone_parameters[\"NUM_LOGS_PER_EPOCH\"] = 10\n",
    "standalone_parameters[\"BEST_MODEL_PATH\"] = \"./best_model.pth\"\n",
    "\n",
    "# uncomment for CORES dataset\n",
    "from steves_utils.CORES.utils import (\n",
    "    ALL_NODES,\n",
    "    ALL_NODES_MINIMUM_1000_EXAMPLES,\n",
    "    ALL_DAYS\n",
    ")\n",
    "\n",
    "\n",
    "standalone_parameters[\"labels_source\"] = ALL_NODES\n",
    "standalone_parameters[\"labels_target\"] = ALL_NODES\n",
    "\n",
    "standalone_parameters[\"domains_source\"] = [1]\n",
    "standalone_parameters[\"domains_target\"] = [2,3,4,5]\n",
    "\n",
    "standalone_parameters[\"pickle_name\"] = \"cores.stratified_ds.2022A.pkl\"\n",
    "\n",
    "\n",
    "# Uncomment these for ORACLE dataset\n",
    "# from steves_utils.ORACLE.utils_v2 import (\n",
    "#     ALL_DISTANCES_FEET,\n",
    "#     ALL_RUNS,\n",
    "#     ALL_SERIAL_NUMBERS,\n",
    "# )\n",
    "# standalone_parameters[\"labels_source\"] = ALL_SERIAL_NUMBERS\n",
    "# standalone_parameters[\"labels_target\"] = ALL_SERIAL_NUMBERS\n",
    "# standalone_parameters[\"domains_source\"] = [8,20, 38,50]\n",
    "# standalone_parameters[\"domains_target\"] = [14, 26, 32, 44, 56]\n",
    "# standalone_parameters[\"pickle_name\"] = \"oracle.frame_indexed.stratified_ds.2022A.pkl\"\n",
    "# standalone_parameters[\"num_examples_per_domain_per_label_source\"]=1000\n",
    "# standalone_parameters[\"num_examples_per_domain_per_label_target\"]=1000\n",
    "\n",
    "# Uncomment these for Metahan dataset\n",
    "# standalone_parameters[\"labels_source\"] = list(range(19))\n",
    "# standalone_parameters[\"labels_target\"] = list(range(19))\n",
    "# standalone_parameters[\"domains_source\"] = [0]\n",
    "# standalone_parameters[\"domains_target\"] = [1]\n",
    "# standalone_parameters[\"pickle_name\"] = \"metehan.stratified_ds.2022A.pkl\"\n",
    "# standalone_parameters[\"n_way\"]  = len(standalone_parameters[\"labels_source\"])\n",
    "# standalone_parameters[\"num_examples_per_domain_per_label_source\"]=200\n",
    "# standalone_parameters[\"num_examples_per_domain_per_label_target\"]=100\n",
    "\n",
    "\n",
    "standalone_parameters[\"n_way\"]  = len(standalone_parameters[\"labels_source\"])"
   ]
  },
  {
   "cell_type": "code",
   "execution_count": 4,
   "id": "fa78fd4f",
   "metadata": {
    "execution": {
     "iopub.execute_input": "2022-03-22T11:44:50.716517Z",
     "iopub.status.busy": "2022-03-22T11:44:50.716240Z",
     "iopub.status.idle": "2022-03-22T11:44:50.727060Z",
     "shell.execute_reply": "2022-03-22T11:44:50.727412Z"
    },
    "papermill": {
     "duration": 0.025331,
     "end_time": "2022-03-22T11:44:50.727503",
     "exception": false,
     "start_time": "2022-03-22T11:44:50.702172",
     "status": "completed"
    },
    "tags": [
     "injected-parameters"
    ]
   },
   "outputs": [],
   "source": [
    "# Parameters\n",
    "parameters = {\n",
    "    \"experiment_name\": \"tuned_1v2:oracle.run1\",\n",
    "    \"device\": \"cuda\",\n",
    "    \"lr\": 0.0001,\n",
    "    \"labels_source\": [\n",
    "        \"3123D52\",\n",
    "        \"3123D65\",\n",
    "        \"3123D79\",\n",
    "        \"3123D80\",\n",
    "        \"3123D54\",\n",
    "        \"3123D70\",\n",
    "        \"3123D7B\",\n",
    "        \"3123D89\",\n",
    "        \"3123D58\",\n",
    "        \"3123D76\",\n",
    "        \"3123D7D\",\n",
    "        \"3123EFE\",\n",
    "        \"3123D64\",\n",
    "        \"3123D78\",\n",
    "        \"3123D7E\",\n",
    "        \"3124E4A\",\n",
    "    ],\n",
    "    \"labels_target\": [\n",
    "        \"3123D52\",\n",
    "        \"3123D65\",\n",
    "        \"3123D79\",\n",
    "        \"3123D80\",\n",
    "        \"3123D54\",\n",
    "        \"3123D70\",\n",
    "        \"3123D7B\",\n",
    "        \"3123D89\",\n",
    "        \"3123D58\",\n",
    "        \"3123D76\",\n",
    "        \"3123D7D\",\n",
    "        \"3123EFE\",\n",
    "        \"3123D64\",\n",
    "        \"3123D78\",\n",
    "        \"3123D7E\",\n",
    "        \"3124E4A\",\n",
    "    ],\n",
    "    \"episode_transforms_source\": [],\n",
    "    \"episode_transforms_target\": [],\n",
    "    \"domains_source\": [8, 32, 50],\n",
    "    \"domains_target\": [14, 20, 26, 38, 44],\n",
    "    \"num_examples_per_domain_per_label_source\": -1,\n",
    "    \"num_examples_per_domain_per_label_target\": -1,\n",
    "    \"n_shot\": 3,\n",
    "    \"n_way\": 16,\n",
    "    \"n_query\": 2,\n",
    "    \"train_k_factor\": 3,\n",
    "    \"val_k_factor\": 2,\n",
    "    \"test_k_factor\": 2,\n",
    "    \"torch_default_dtype\": \"torch.float32\",\n",
    "    \"n_epoch\": 50,\n",
    "    \"patience\": 3,\n",
    "    \"criteria_for_best\": \"target_accuracy\",\n",
    "    \"x_net\": [\n",
    "        {\"class\": \"nnReshape\", \"kargs\": {\"shape\": [-1, 1, 2, 256]}},\n",
    "        {\n",
    "            \"class\": \"Conv2d\",\n",
    "            \"kargs\": {\n",
    "                \"in_channels\": 1,\n",
    "                \"out_channels\": 256,\n",
    "                \"kernel_size\": [1, 7],\n",
    "                \"bias\": False,\n",
    "                \"padding\": [0, 3],\n",
    "            },\n",
    "        },\n",
    "        {\"class\": \"ReLU\", \"kargs\": {\"inplace\": True}},\n",
    "        {\"class\": \"BatchNorm2d\", \"kargs\": {\"num_features\": 256}},\n",
    "        {\n",
    "            \"class\": \"Conv2d\",\n",
    "            \"kargs\": {\n",
    "                \"in_channels\": 256,\n",
    "                \"out_channels\": 80,\n",
    "                \"kernel_size\": [2, 7],\n",
    "                \"bias\": True,\n",
    "                \"padding\": [0, 3],\n",
    "            },\n",
    "        },\n",
    "        {\"class\": \"ReLU\", \"kargs\": {\"inplace\": True}},\n",
    "        {\"class\": \"BatchNorm2d\", \"kargs\": {\"num_features\": 80}},\n",
    "        {\"class\": \"Flatten\", \"kargs\": {}},\n",
    "        {\"class\": \"Linear\", \"kargs\": {\"in_features\": 20480, \"out_features\": 256}},\n",
    "        {\"class\": \"ReLU\", \"kargs\": {\"inplace\": True}},\n",
    "        {\"class\": \"BatchNorm1d\", \"kargs\": {\"num_features\": 256}},\n",
    "        {\"class\": \"Linear\", \"kargs\": {\"in_features\": 256, \"out_features\": 256}},\n",
    "    ],\n",
    "    \"NUM_LOGS_PER_EPOCH\": 10,\n",
    "    \"BEST_MODEL_PATH\": \"./best_model.pth\",\n",
    "    \"pickle_name\": \"oracle.Run1_10kExamples_stratified_ds.2022A.pkl\",\n",
    "    \"x_transforms_source\": [\"unit_power\"],\n",
    "    \"x_transforms_target\": [\"unit_power\"],\n",
    "    \"dataset_seed\": 420,\n",
    "    \"seed\": 420,\n",
    "}\n"
   ]
  },
  {
   "cell_type": "code",
   "execution_count": 5,
   "id": "8fa1cc33",
   "metadata": {
    "execution": {
     "iopub.execute_input": "2022-03-22T11:44:50.756191Z",
     "iopub.status.busy": "2022-03-22T11:44:50.755946Z",
     "iopub.status.idle": "2022-03-22T11:44:50.770312Z",
     "shell.execute_reply": "2022-03-22T11:44:50.770013Z"
    },
    "papermill": {
     "duration": 0.027563,
     "end_time": "2022-03-22T11:44:50.770379",
     "exception": false,
     "start_time": "2022-03-22T11:44:50.742816",
     "status": "completed"
    },
    "tags": []
   },
   "outputs": [],
   "source": [
    "# Set this to True if you want to run this template directly\n",
    "STANDALONE = False\n",
    "if STANDALONE:\n",
    "    print(\"parameters not injected, running with standalone_parameters\")\n",
    "    parameters = standalone_parameters\n",
    "\n",
    "if not 'parameters' in locals() and not 'parameters' in globals():\n",
    "    raise Exception(\"Parameter injection failed\")\n",
    "\n",
    "#Use an easy dict for all the parameters\n",
    "p = EasyDict(parameters)\n",
    "\n",
    "supplied_keys = set(p.keys())\n",
    "\n",
    "if  supplied_keys != required_parameters:\n",
    "    print(\"Parameters are incorrect\")\n",
    "    if len(supplied_keys - required_parameters)>0: print(\"Shouldn't have:\", str(supplied_keys - required_parameters))\n",
    "    if len(required_parameters - supplied_keys)>0: print(\"Need to have:\", str(required_parameters - supplied_keys))\n",
    "    raise RuntimeError(\"Parameters are incorrect\")\n",
    "\n"
   ]
  },
  {
   "cell_type": "code",
   "execution_count": 6,
   "id": "3a028d58",
   "metadata": {
    "execution": {
     "iopub.execute_input": "2022-03-22T11:44:50.796418Z",
     "iopub.status.busy": "2022-03-22T11:44:50.796176Z",
     "iopub.status.idle": "2022-03-22T11:44:50.808327Z",
     "shell.execute_reply": "2022-03-22T11:44:50.808025Z"
    },
    "papermill": {
     "duration": 0.024221,
     "end_time": "2022-03-22T11:44:50.808395",
     "exception": false,
     "start_time": "2022-03-22T11:44:50.784174",
     "status": "completed"
    },
    "tags": []
   },
   "outputs": [],
   "source": [
    "###################################\n",
    "# Set the RNGs and make it all deterministic\n",
    "###################################\n",
    "np.random.seed(p.seed)\n",
    "random.seed(p.seed)\n",
    "torch.manual_seed(p.seed)\n",
    "\n",
    "torch.use_deterministic_algorithms(True) "
   ]
  },
  {
   "cell_type": "code",
   "execution_count": 7,
   "id": "b691acf6",
   "metadata": {
    "execution": {
     "iopub.execute_input": "2022-03-22T11:44:50.834944Z",
     "iopub.status.busy": "2022-03-22T11:44:50.834704Z",
     "iopub.status.idle": "2022-03-22T11:44:50.848333Z",
     "shell.execute_reply": "2022-03-22T11:44:50.847904Z"
    },
    "papermill": {
     "duration": 0.025766,
     "end_time": "2022-03-22T11:44:50.848419",
     "exception": false,
     "start_time": "2022-03-22T11:44:50.822653",
     "status": "completed"
    },
    "tags": []
   },
   "outputs": [],
   "source": [
    "###########################################\n",
    "# The stratified datasets honor this\n",
    "###########################################\n",
    "torch.set_default_dtype(eval(p.torch_default_dtype))"
   ]
  },
  {
   "cell_type": "code",
   "execution_count": 8,
   "id": "b5fba671",
   "metadata": {
    "execution": {
     "iopub.execute_input": "2022-03-22T11:44:50.875847Z",
     "iopub.status.busy": "2022-03-22T11:44:50.875591Z",
     "iopub.status.idle": "2022-03-22T11:44:50.916882Z",
     "shell.execute_reply": "2022-03-22T11:44:50.916480Z"
    },
    "papermill": {
     "duration": 0.053519,
     "end_time": "2022-03-22T11:44:50.916968",
     "exception": false,
     "start_time": "2022-03-22T11:44:50.863449",
     "status": "completed"
    },
    "tags": []
   },
   "outputs": [],
   "source": [
    "###################################\n",
    "# Build the network(s)\n",
    "# Note: It's critical to do this AFTER setting the RNG\n",
    "# (This is due to the randomized initial weights)\n",
    "###################################\n",
    "x_net = build_sequential(p.x_net)"
   ]
  },
  {
   "cell_type": "code",
   "execution_count": 9,
   "id": "5d7e61cc",
   "metadata": {
    "execution": {
     "iopub.execute_input": "2022-03-22T11:44:50.944263Z",
     "iopub.status.busy": "2022-03-22T11:44:50.944018Z",
     "iopub.status.idle": "2022-03-22T11:44:50.957495Z",
     "shell.execute_reply": "2022-03-22T11:44:50.957062Z"
    },
    "papermill": {
     "duration": 0.02558,
     "end_time": "2022-03-22T11:44:50.957583",
     "exception": false,
     "start_time": "2022-03-22T11:44:50.932003",
     "status": "completed"
    },
    "tags": []
   },
   "outputs": [],
   "source": [
    "start_time_secs = time.time()"
   ]
  },
  {
   "cell_type": "code",
   "execution_count": 10,
   "id": "fd5442bc",
   "metadata": {
    "execution": {
     "iopub.execute_input": "2022-03-22T11:44:50.987848Z",
     "iopub.status.busy": "2022-03-22T11:44:50.987581Z",
     "iopub.status.idle": "2022-03-22T11:46:10.163764Z",
     "shell.execute_reply": "2022-03-22T11:46:10.163366Z"
    },
    "papermill": {
     "duration": 79.191557,
     "end_time": "2022-03-22T11:46:10.163869",
     "exception": false,
     "start_time": "2022-03-22T11:44:50.972312",
     "status": "completed"
    },
    "tags": []
   },
   "outputs": [],
   "source": [
    "###################################\n",
    "# Build the dataset\n",
    "###################################\n",
    "\n",
    "if p.x_transforms_source == []: x_transform_source = None\n",
    "else: x_transform_source = get_chained_transform(p.x_transforms_source) \n",
    "\n",
    "if p.x_transforms_target == []: x_transform_target = None\n",
    "else: x_transform_target = get_chained_transform(p.x_transforms_target)\n",
    "\n",
    "if p.episode_transforms_source == []: episode_transform_source = None\n",
    "else: raise Exception(\"episode_transform_source not implemented\")\n",
    "\n",
    "if p.episode_transforms_target == []: episode_transform_target = None\n",
    "else: raise Exception(\"episode_transform_target not implemented\")\n",
    "\n",
    "\n",
    "eaf_source = Episodic_Accessor_Factory(\n",
    "    labels=p.labels_source,\n",
    "    domains=p.domains_source,\n",
    "    num_examples_per_domain_per_label=p.num_examples_per_domain_per_label_source,\n",
    "    iterator_seed=p.seed,\n",
    "    dataset_seed=p.dataset_seed,\n",
    "    n_shot=p.n_shot,\n",
    "    n_way=p.n_way,\n",
    "    n_query=p.n_query,\n",
    "    train_val_test_k_factors=(p.train_k_factor,p.val_k_factor,p.test_k_factor),\n",
    "    pickle_path=os.path.join(get_datasets_base_path(), p.pickle_name),\n",
    "    x_transform_func=x_transform_source,\n",
    "    example_transform_func=episode_transform_source,\n",
    "    \n",
    ")\n",
    "train_original_source, val_original_source, test_original_source = eaf_source.get_train(), eaf_source.get_val(), eaf_source.get_test()\n",
    "\n",
    "\n",
    "eaf_target = Episodic_Accessor_Factory(\n",
    "    labels=p.labels_target,\n",
    "    domains=p.domains_target,\n",
    "    num_examples_per_domain_per_label=p.num_examples_per_domain_per_label_target,\n",
    "    iterator_seed=p.seed,\n",
    "    dataset_seed=p.dataset_seed,\n",
    "    n_shot=p.n_shot,\n",
    "    n_way=p.n_way,\n",
    "    n_query=p.n_query,\n",
    "    train_val_test_k_factors=(p.train_k_factor,p.val_k_factor,p.test_k_factor),\n",
    "    pickle_path=os.path.join(get_datasets_base_path(), p.pickle_name),\n",
    "    x_transform_func=x_transform_target,\n",
    "    example_transform_func=episode_transform_target,\n",
    ")\n",
    "train_original_target, val_original_target, test_original_target = eaf_target.get_train(), eaf_target.get_val(), eaf_target.get_test()\n",
    "\n",
    "\n",
    "transform_lambda = lambda ex: ex[1] # Original is (<domain>, <episode>) so we strip down to episode only\n",
    "\n",
    "train_processed_source = Lazy_Iterable_Wrapper(train_original_source, transform_lambda)\n",
    "val_processed_source   = Lazy_Iterable_Wrapper(val_original_source, transform_lambda)\n",
    "test_processed_source  = Lazy_Iterable_Wrapper(test_original_source, transform_lambda)\n",
    "\n",
    "train_processed_target = Lazy_Iterable_Wrapper(train_original_target, transform_lambda)\n",
    "val_processed_target   = Lazy_Iterable_Wrapper(val_original_target, transform_lambda)\n",
    "test_processed_target  = Lazy_Iterable_Wrapper(test_original_target, transform_lambda)\n",
    "\n",
    "datasets = EasyDict({\n",
    "    \"source\": {\n",
    "        \"original\": {\"train\":train_original_source, \"val\":val_original_source, \"test\":test_original_source},\n",
    "        \"processed\": {\"train\":train_processed_source, \"val\":val_processed_source, \"test\":test_processed_source}\n",
    "    },\n",
    "    \"target\": {\n",
    "        \"original\": {\"train\":train_original_target, \"val\":val_original_target, \"test\":test_original_target},\n",
    "        \"processed\": {\"train\":train_processed_target, \"val\":val_processed_target, \"test\":test_processed_target}\n",
    "    },\n",
    "})"
   ]
  },
  {
   "cell_type": "code",
   "execution_count": 11,
   "id": "296189d9",
   "metadata": {
    "execution": {
     "iopub.execute_input": "2022-03-22T11:46:10.191956Z",
     "iopub.status.busy": "2022-03-22T11:46:10.191712Z",
     "iopub.status.idle": "2022-03-22T11:46:12.082319Z",
     "shell.execute_reply": "2022-03-22T11:46:12.082532Z"
    },
    "papermill": {
     "duration": 1.904317,
     "end_time": "2022-03-22T11:46:12.082610",
     "exception": false,
     "start_time": "2022-03-22T11:46:10.178293",
     "status": "completed"
    },
    "tags": []
   },
   "outputs": [
    {
     "name": "stdout",
     "output_type": "stream",
     "text": [
      "Visually inspect these to see if they line up with expected values given the transforms\n",
      "x_transforms_source ['unit_power']\n",
      "x_transforms_target ['unit_power']\n",
      "Average magnitude, source: 0.91137123\n",
      "Average power, source: 1.0\n"
     ]
    },
    {
     "name": "stdout",
     "output_type": "stream",
     "text": [
      "Average magnitude, target: 0.87916726\n",
      "Average power, target: 1.0\n"
     ]
    }
   ],
   "source": [
    "# Some quick unit tests on the data\n",
    "from steves_utils.transforms import get_average_power, get_average_magnitude\n",
    "\n",
    "q_x, q_y, s_x, s_y, truth = next(iter(train_processed_source))\n",
    "\n",
    "assert q_x.dtype == eval(p.torch_default_dtype)\n",
    "assert s_x.dtype == eval(p.torch_default_dtype)\n",
    "\n",
    "print(\"Visually inspect these to see if they line up with expected values given the transforms\")\n",
    "print('x_transforms_source', p.x_transforms_source)\n",
    "print('x_transforms_target', p.x_transforms_target)\n",
    "print(\"Average magnitude, source:\", get_average_magnitude(q_x[0].numpy()))\n",
    "print(\"Average power, source:\", get_average_power(q_x[0].numpy()))\n",
    "\n",
    "q_x, q_y, s_x, s_y, truth = next(iter(train_processed_target))\n",
    "print(\"Average magnitude, target:\", get_average_magnitude(q_x[0].numpy()))\n",
    "print(\"Average power, target:\", get_average_power(q_x[0].numpy()))\n"
   ]
  },
  {
   "cell_type": "code",
   "execution_count": 12,
   "id": "bbdacba1",
   "metadata": {
    "execution": {
     "iopub.execute_input": "2022-03-22T11:46:12.111366Z",
     "iopub.status.busy": "2022-03-22T11:46:12.110046Z",
     "iopub.status.idle": "2022-03-22T11:46:12.176101Z",
     "shell.execute_reply": "2022-03-22T11:46:12.176477Z"
    },
    "papermill": {
     "duration": 0.078995,
     "end_time": "2022-03-22T11:46:12.176590",
     "exception": false,
     "start_time": "2022-03-22T11:46:12.097595",
     "status": "completed"
    },
    "tags": []
   },
   "outputs": [
    {
     "name": "stdout",
     "output_type": "stream",
     "text": [
      "(2, 256)\n"
     ]
    }
   ],
   "source": [
    "###################################\n",
    "# Build the model\n",
    "###################################\n",
    "model = Steves_Prototypical_Network(x_net, device=p.device, x_shape=(2,256))\n",
    "optimizer = Adam(params=model.parameters(), lr=p.lr)"
   ]
  },
  {
   "cell_type": "code",
   "execution_count": 13,
   "id": "22b39ac5",
   "metadata": {
    "execution": {
     "iopub.execute_input": "2022-03-22T11:46:12.203935Z",
     "iopub.status.busy": "2022-03-22T11:46:12.203655Z",
     "iopub.status.idle": "2022-03-22T12:50:17.719303Z",
     "shell.execute_reply": "2022-03-22T12:50:17.719061Z"
    },
    "papermill": {
     "duration": 3845.529196,
     "end_time": "2022-03-22T12:50:17.719361",
     "exception": false,
     "start_time": "2022-03-22T11:46:12.190165",
     "status": "completed"
    },
    "tags": []
   },
   "outputs": [
    {
     "name": "stdout",
     "output_type": "stream",
     "text": [
      "epoch: 1, [batch: 1 / 12600], examples_per_second: 26.6884, train_label_loss: 2.7817, \n"
     ]
    },
    {
     "name": "stdout",
     "output_type": "stream",
     "text": [
      "epoch: 1, [batch: 1260 / 12600], examples_per_second: 3214.7131, train_label_loss: 1.5272, \n"
     ]
    },
    {
     "name": "stdout",
     "output_type": "stream",
     "text": [
      "epoch: 1, [batch: 2520 / 12600], examples_per_second: 3224.5794, train_label_loss: 1.2502, \n"
     ]
    },
    {
     "name": "stdout",
     "output_type": "stream",
     "text": [
      "epoch: 1, [batch: 3780 / 12600], examples_per_second: 3231.0237, train_label_loss: 1.2208, \n"
     ]
    },
    {
     "name": "stdout",
     "output_type": "stream",
     "text": [
      "epoch: 1, [batch: 5040 / 12600], examples_per_second: 3203.7106, train_label_loss: 1.2464, \n"
     ]
    },
    {
     "name": "stdout",
     "output_type": "stream",
     "text": [
      "epoch: 1, [batch: 6300 / 12600], examples_per_second: 3222.0359, train_label_loss: 1.3063, \n"
     ]
    },
    {
     "name": "stdout",
     "output_type": "stream",
     "text": [
      "epoch: 1, [batch: 7560 / 12600], examples_per_second: 3227.5963, train_label_loss: 1.1716, \n"
     ]
    },
    {
     "name": "stdout",
     "output_type": "stream",
     "text": [
      "epoch: 1, [batch: 8820 / 12600], examples_per_second: 3209.2678, train_label_loss: 1.2345, \n"
     ]
    },
    {
     "name": "stdout",
     "output_type": "stream",
     "text": [
      "epoch: 1, [batch: 10080 / 12600], examples_per_second: 3220.3564, train_label_loss: 1.4224, \n"
     ]
    },
    {
     "name": "stdout",
     "output_type": "stream",
     "text": [
      "epoch: 1, [batch: 11340 / 12600], examples_per_second: 3226.6355, train_label_loss: 0.9258, \n"
     ]
    },
    {
     "name": "stdout",
     "output_type": "stream",
     "text": [
      "=============================================================\n",
      "epoch: 1, source_val_acc_label: 0.6062, target_val_acc_label: 0.5137, source_val_label_loss: 1.0778, target_val_label_loss: 1.3211, \n",
      "=============================================================\n"
     ]
    },
    {
     "name": "stdout",
     "output_type": "stream",
     "text": [
      "New best\n"
     ]
    },
    {
     "name": "stdout",
     "output_type": "stream",
     "text": [
      "epoch: 2, [batch: 1 / 12600], examples_per_second: 2.2746, train_label_loss: 1.2099, \n"
     ]
    },
    {
     "name": "stdout",
     "output_type": "stream",
     "text": [
      "epoch: 2, [batch: 1260 / 12600], examples_per_second: 3233.3852, train_label_loss: 1.2434, \n"
     ]
    },
    {
     "name": "stdout",
     "output_type": "stream",
     "text": [
      "epoch: 2, [batch: 2520 / 12600], examples_per_second: 3246.2141, train_label_loss: 0.5208, \n"
     ]
    },
    {
     "name": "stdout",
     "output_type": "stream",
     "text": [
      "epoch: 2, [batch: 3780 / 12600], examples_per_second: 3257.3621, train_label_loss: 1.5531, \n"
     ]
    },
    {
     "name": "stdout",
     "output_type": "stream",
     "text": [
      "epoch: 2, [batch: 5040 / 12600], examples_per_second: 3248.0472, train_label_loss: 1.0498, \n"
     ]
    },
    {
     "name": "stdout",
     "output_type": "stream",
     "text": [
      "epoch: 2, [batch: 6300 / 12600], examples_per_second: 3245.9334, train_label_loss: 0.9861, \n"
     ]
    },
    {
     "name": "stdout",
     "output_type": "stream",
     "text": [
      "epoch: 2, [batch: 7560 / 12600], examples_per_second: 3250.7403, train_label_loss: 1.0226, \n"
     ]
    },
    {
     "name": "stdout",
     "output_type": "stream",
     "text": [
      "epoch: 2, [batch: 8820 / 12600], examples_per_second: 3233.0874, train_label_loss: 1.1295, \n"
     ]
    },
    {
     "name": "stdout",
     "output_type": "stream",
     "text": [
      "epoch: 2, [batch: 10080 / 12600], examples_per_second: 3249.7532, train_label_loss: 0.8617, \n"
     ]
    },
    {
     "name": "stdout",
     "output_type": "stream",
     "text": [
      "epoch: 2, [batch: 11340 / 12600], examples_per_second: 3250.0442, train_label_loss: 0.7884, \n"
     ]
    },
    {
     "name": "stdout",
     "output_type": "stream",
     "text": [
      "=============================================================\n",
      "epoch: 2, source_val_acc_label: 0.6647, target_val_acc_label: 0.5826, source_val_label_loss: 0.9016, target_val_label_loss: 1.1082, \n",
      "=============================================================\n"
     ]
    },
    {
     "name": "stdout",
     "output_type": "stream",
     "text": [
      "New best\n"
     ]
    },
    {
     "name": "stdout",
     "output_type": "stream",
     "text": [
      "epoch: 3, [batch: 1 / 12600], examples_per_second: 2.2772, train_label_loss: 0.6251, \n"
     ]
    },
    {
     "name": "stdout",
     "output_type": "stream",
     "text": [
      "epoch: 3, [batch: 1260 / 12600], examples_per_second: 3234.0004, train_label_loss: 0.9959, \n"
     ]
    },
    {
     "name": "stdout",
     "output_type": "stream",
     "text": [
      "epoch: 3, [batch: 2520 / 12600], examples_per_second: 3245.6084, train_label_loss: 0.9615, \n"
     ]
    },
    {
     "name": "stdout",
     "output_type": "stream",
     "text": [
      "epoch: 3, [batch: 3780 / 12600], examples_per_second: 3259.5631, train_label_loss: 1.1225, \n"
     ]
    },
    {
     "name": "stdout",
     "output_type": "stream",
     "text": [
      "epoch: 3, [batch: 5040 / 12600], examples_per_second: 3238.1941, train_label_loss: 0.9896, \n"
     ]
    },
    {
     "name": "stdout",
     "output_type": "stream",
     "text": [
      "epoch: 3, [batch: 6300 / 12600], examples_per_second: 3251.1363, train_label_loss: 1.0439, \n"
     ]
    },
    {
     "name": "stdout",
     "output_type": "stream",
     "text": [
      "epoch: 3, [batch: 7560 / 12600], examples_per_second: 3255.7866, train_label_loss: 0.6216, \n"
     ]
    },
    {
     "name": "stdout",
     "output_type": "stream",
     "text": [
      "epoch: 3, [batch: 8820 / 12600], examples_per_second: 3241.4796, train_label_loss: 0.5193, \n"
     ]
    },
    {
     "name": "stdout",
     "output_type": "stream",
     "text": [
      "epoch: 3, [batch: 10080 / 12600], examples_per_second: 3242.2459, train_label_loss: 0.4447, \n"
     ]
    },
    {
     "name": "stdout",
     "output_type": "stream",
     "text": [
      "epoch: 3, [batch: 11340 / 12600], examples_per_second: 3254.3431, train_label_loss: 0.6991, \n"
     ]
    },
    {
     "name": "stdout",
     "output_type": "stream",
     "text": [
      "=============================================================\n",
      "epoch: 3, source_val_acc_label: 0.6771, target_val_acc_label: 0.6005, source_val_label_loss: 0.8759, target_val_label_loss: 1.0722, \n",
      "=============================================================\n"
     ]
    },
    {
     "name": "stdout",
     "output_type": "stream",
     "text": [
      "New best\n"
     ]
    },
    {
     "name": "stdout",
     "output_type": "stream",
     "text": [
      "epoch: 4, [batch: 1 / 12600], examples_per_second: 2.2929, train_label_loss: 0.4830, \n"
     ]
    },
    {
     "name": "stdout",
     "output_type": "stream",
     "text": [
      "epoch: 4, [batch: 1260 / 12600], examples_per_second: 3217.8770, train_label_loss: 0.5235, \n"
     ]
    },
    {
     "name": "stdout",
     "output_type": "stream",
     "text": [
      "epoch: 4, [batch: 2520 / 12600], examples_per_second: 3236.5935, train_label_loss: 0.5566, \n"
     ]
    },
    {
     "name": "stdout",
     "output_type": "stream",
     "text": [
      "epoch: 4, [batch: 3780 / 12600], examples_per_second: 3244.0444, train_label_loss: 0.7445, \n"
     ]
    },
    {
     "name": "stdout",
     "output_type": "stream",
     "text": [
      "epoch: 4, [batch: 5040 / 12600], examples_per_second: 3238.7876, train_label_loss: 0.5989, \n"
     ]
    },
    {
     "name": "stdout",
     "output_type": "stream",
     "text": [
      "epoch: 4, [batch: 6300 / 12600], examples_per_second: 3256.2161, train_label_loss: 0.7151, \n"
     ]
    },
    {
     "name": "stdout",
     "output_type": "stream",
     "text": [
      "epoch: 4, [batch: 7560 / 12600], examples_per_second: 3250.8985, train_label_loss: 0.8560, \n"
     ]
    },
    {
     "name": "stdout",
     "output_type": "stream",
     "text": [
      "epoch: 4, [batch: 8820 / 12600], examples_per_second: 3241.3159, train_label_loss: 0.4725, \n"
     ]
    },
    {
     "name": "stdout",
     "output_type": "stream",
     "text": [
      "epoch: 4, [batch: 10080 / 12600], examples_per_second: 3239.7216, train_label_loss: 0.4139, \n"
     ]
    },
    {
     "name": "stdout",
     "output_type": "stream",
     "text": [
      "epoch: 4, [batch: 11340 / 12600], examples_per_second: 3259.7574, train_label_loss: 0.5425, \n"
     ]
    },
    {
     "name": "stdout",
     "output_type": "stream",
     "text": [
      "=============================================================\n",
      "epoch: 4, source_val_acc_label: 0.6750, target_val_acc_label: 0.5968, source_val_label_loss: 0.8604, target_val_label_loss: 1.0723, \n",
      "=============================================================\n"
     ]
    },
    {
     "name": "stdout",
     "output_type": "stream",
     "text": [
      "epoch: 5, [batch: 1 / 12600], examples_per_second: 2.2905, train_label_loss: 0.4981, \n"
     ]
    },
    {
     "name": "stdout",
     "output_type": "stream",
     "text": [
      "epoch: 5, [batch: 1260 / 12600], examples_per_second: 3227.3163, train_label_loss: 0.6695, \n"
     ]
    },
    {
     "name": "stdout",
     "output_type": "stream",
     "text": [
      "epoch: 5, [batch: 2520 / 12600], examples_per_second: 3256.2578, train_label_loss: 0.3778, \n"
     ]
    },
    {
     "name": "stdout",
     "output_type": "stream",
     "text": [
      "epoch: 5, [batch: 3780 / 12600], examples_per_second: 3254.6481, train_label_loss: 0.6427, \n"
     ]
    },
    {
     "name": "stdout",
     "output_type": "stream",
     "text": [
      "epoch: 5, [batch: 5040 / 12600], examples_per_second: 3240.1685, train_label_loss: 0.6099, \n"
     ]
    },
    {
     "name": "stdout",
     "output_type": "stream",
     "text": [
      "epoch: 5, [batch: 6300 / 12600], examples_per_second: 3265.0526, train_label_loss: 0.7742, \n"
     ]
    },
    {
     "name": "stdout",
     "output_type": "stream",
     "text": [
      "epoch: 5, [batch: 7560 / 12600], examples_per_second: 3246.6290, train_label_loss: 0.5665, \n"
     ]
    },
    {
     "name": "stdout",
     "output_type": "stream",
     "text": [
      "epoch: 5, [batch: 8820 / 12600], examples_per_second: 3234.7645, train_label_loss: 0.7138, \n"
     ]
    },
    {
     "name": "stdout",
     "output_type": "stream",
     "text": [
      "epoch: 5, [batch: 10080 / 12600], examples_per_second: 3249.9198, train_label_loss: 0.9201, \n"
     ]
    },
    {
     "name": "stdout",
     "output_type": "stream",
     "text": [
      "epoch: 5, [batch: 11340 / 12600], examples_per_second: 3253.0766, train_label_loss: 0.4537, \n"
     ]
    },
    {
     "name": "stdout",
     "output_type": "stream",
     "text": [
      "=============================================================\n",
      "epoch: 5, source_val_acc_label: 0.6849, target_val_acc_label: 0.6078, source_val_label_loss: 0.8669, target_val_label_loss: 1.0681, \n",
      "=============================================================\n"
     ]
    },
    {
     "name": "stdout",
     "output_type": "stream",
     "text": [
      "New best\n"
     ]
    },
    {
     "name": "stdout",
     "output_type": "stream",
     "text": [
      "epoch: 6, [batch: 1 / 12600], examples_per_second: 2.2840, train_label_loss: 0.7942, \n"
     ]
    },
    {
     "name": "stdout",
     "output_type": "stream",
     "text": [
      "epoch: 6, [batch: 1260 / 12600], examples_per_second: 3232.0034, train_label_loss: 0.4004, \n"
     ]
    },
    {
     "name": "stdout",
     "output_type": "stream",
     "text": [
      "epoch: 6, [batch: 2520 / 12600], examples_per_second: 3246.4344, train_label_loss: 0.4473, \n"
     ]
    },
    {
     "name": "stdout",
     "output_type": "stream",
     "text": [
      "epoch: 6, [batch: 3780 / 12600], examples_per_second: 3261.0638, train_label_loss: 0.2560, \n"
     ]
    },
    {
     "name": "stdout",
     "output_type": "stream",
     "text": [
      "epoch: 6, [batch: 5040 / 12600], examples_per_second: 3241.6606, train_label_loss: 0.6159, \n"
     ]
    },
    {
     "name": "stdout",
     "output_type": "stream",
     "text": [
      "epoch: 6, [batch: 6300 / 12600], examples_per_second: 3261.3343, train_label_loss: 0.4632, \n"
     ]
    },
    {
     "name": "stdout",
     "output_type": "stream",
     "text": [
      "epoch: 6, [batch: 7560 / 12600], examples_per_second: 3255.1412, train_label_loss: 0.6490, \n"
     ]
    },
    {
     "name": "stdout",
     "output_type": "stream",
     "text": [
      "epoch: 6, [batch: 8820 / 12600], examples_per_second: 3247.3636, train_label_loss: 0.5449, \n"
     ]
    },
    {
     "name": "stdout",
     "output_type": "stream",
     "text": [
      "epoch: 6, [batch: 10080 / 12600], examples_per_second: 3250.9334, train_label_loss: 0.4762, \n"
     ]
    },
    {
     "name": "stdout",
     "output_type": "stream",
     "text": [
      "epoch: 6, [batch: 11340 / 12600], examples_per_second: 3249.2453, train_label_loss: 0.5311, \n"
     ]
    },
    {
     "name": "stdout",
     "output_type": "stream",
     "text": [
      "=============================================================\n",
      "epoch: 6, source_val_acc_label: 0.6920, target_val_acc_label: 0.6176, source_val_label_loss: 0.8841, target_val_label_loss: 1.0746, \n",
      "=============================================================\n"
     ]
    },
    {
     "name": "stdout",
     "output_type": "stream",
     "text": [
      "New best\n"
     ]
    },
    {
     "name": "stdout",
     "output_type": "stream",
     "text": [
      "epoch: 7, [batch: 1 / 12600], examples_per_second: 2.2829, train_label_loss: 0.5246, \n"
     ]
    },
    {
     "name": "stdout",
     "output_type": "stream",
     "text": [
      "epoch: 7, [batch: 1260 / 12600], examples_per_second: 3227.9440, train_label_loss: 0.4160, \n"
     ]
    },
    {
     "name": "stdout",
     "output_type": "stream",
     "text": [
      "epoch: 7, [batch: 2520 / 12600], examples_per_second: 3244.3342, train_label_loss: 0.7479, \n"
     ]
    },
    {
     "name": "stdout",
     "output_type": "stream",
     "text": [
      "epoch: 7, [batch: 3780 / 12600], examples_per_second: 3264.1561, train_label_loss: 0.4631, \n"
     ]
    },
    {
     "name": "stdout",
     "output_type": "stream",
     "text": [
      "epoch: 7, [batch: 5040 / 12600], examples_per_second: 3237.2080, train_label_loss: 0.5984, \n"
     ]
    },
    {
     "name": "stdout",
     "output_type": "stream",
     "text": [
      "epoch: 7, [batch: 6300 / 12600], examples_per_second: 3253.8324, train_label_loss: 0.6252, \n"
     ]
    },
    {
     "name": "stdout",
     "output_type": "stream",
     "text": [
      "epoch: 7, [batch: 7560 / 12600], examples_per_second: 3258.0847, train_label_loss: 0.3389, \n"
     ]
    },
    {
     "name": "stdout",
     "output_type": "stream",
     "text": [
      "epoch: 7, [batch: 8820 / 12600], examples_per_second: 3249.2271, train_label_loss: 0.5223, \n"
     ]
    },
    {
     "name": "stdout",
     "output_type": "stream",
     "text": [
      "epoch: 7, [batch: 10080 / 12600], examples_per_second: 3253.8596, train_label_loss: 0.4656, \n"
     ]
    },
    {
     "name": "stdout",
     "output_type": "stream",
     "text": [
      "epoch: 7, [batch: 11340 / 12600], examples_per_second: 3258.1241, train_label_loss: 0.3999, \n"
     ]
    },
    {
     "name": "stdout",
     "output_type": "stream",
     "text": [
      "=============================================================\n",
      "epoch: 7, source_val_acc_label: 0.6956, target_val_acc_label: 0.6178, source_val_label_loss: 0.9226, target_val_label_loss: 1.1165, \n",
      "=============================================================\n"
     ]
    },
    {
     "name": "stdout",
     "output_type": "stream",
     "text": [
      "New best\n"
     ]
    },
    {
     "name": "stdout",
     "output_type": "stream",
     "text": [
      "epoch: 8, [batch: 1 / 12600], examples_per_second: 2.2878, train_label_loss: 0.1605, \n"
     ]
    },
    {
     "name": "stdout",
     "output_type": "stream",
     "text": [
      "epoch: 8, [batch: 1260 / 12600], examples_per_second: 3231.3348, train_label_loss: 0.3415, \n"
     ]
    },
    {
     "name": "stdout",
     "output_type": "stream",
     "text": [
      "epoch: 8, [batch: 2520 / 12600], examples_per_second: 3237.6411, train_label_loss: 0.5847, \n"
     ]
    },
    {
     "name": "stdout",
     "output_type": "stream",
     "text": [
      "epoch: 8, [batch: 3780 / 12600], examples_per_second: 3252.0093, train_label_loss: 0.4321, \n"
     ]
    },
    {
     "name": "stdout",
     "output_type": "stream",
     "text": [
      "epoch: 8, [batch: 5040 / 12600], examples_per_second: 3238.8360, train_label_loss: 0.2693, \n"
     ]
    },
    {
     "name": "stdout",
     "output_type": "stream",
     "text": [
      "epoch: 8, [batch: 6300 / 12600], examples_per_second: 3254.0483, train_label_loss: 0.3484, \n"
     ]
    },
    {
     "name": "stdout",
     "output_type": "stream",
     "text": [
      "epoch: 8, [batch: 7560 / 12600], examples_per_second: 3256.7874, train_label_loss: 0.4342, \n"
     ]
    },
    {
     "name": "stdout",
     "output_type": "stream",
     "text": [
      "epoch: 8, [batch: 8820 / 12600], examples_per_second: 3252.0803, train_label_loss: 0.4235, \n"
     ]
    },
    {
     "name": "stdout",
     "output_type": "stream",
     "text": [
      "epoch: 8, [batch: 10080 / 12600], examples_per_second: 3250.8000, train_label_loss: 0.2036, \n"
     ]
    },
    {
     "name": "stdout",
     "output_type": "stream",
     "text": [
      "epoch: 8, [batch: 11340 / 12600], examples_per_second: 3253.4618, train_label_loss: 0.3544, \n"
     ]
    },
    {
     "name": "stdout",
     "output_type": "stream",
     "text": [
      "=============================================================\n",
      "epoch: 8, source_val_acc_label: 0.6918, target_val_acc_label: 0.6159, source_val_label_loss: 0.9694, target_val_label_loss: 1.1579, \n",
      "=============================================================\n"
     ]
    },
    {
     "name": "stdout",
     "output_type": "stream",
     "text": [
      "epoch: 9, [batch: 1 / 12600], examples_per_second: 2.2862, train_label_loss: 0.3169, \n"
     ]
    },
    {
     "name": "stdout",
     "output_type": "stream",
     "text": [
      "epoch: 9, [batch: 1260 / 12600], examples_per_second: 3232.3567, train_label_loss: 0.2537, \n"
     ]
    },
    {
     "name": "stdout",
     "output_type": "stream",
     "text": [
      "epoch: 9, [batch: 2520 / 12600], examples_per_second: 3254.5866, train_label_loss: 0.6989, \n"
     ]
    },
    {
     "name": "stdout",
     "output_type": "stream",
     "text": [
      "epoch: 9, [batch: 3780 / 12600], examples_per_second: 3251.4920, train_label_loss: 0.6549, \n"
     ]
    },
    {
     "name": "stdout",
     "output_type": "stream",
     "text": [
      "epoch: 9, [batch: 5040 / 12600], examples_per_second: 3254.5310, train_label_loss: 0.2114, \n"
     ]
    },
    {
     "name": "stdout",
     "output_type": "stream",
     "text": [
      "epoch: 9, [batch: 6300 / 12600], examples_per_second: 3241.0558, train_label_loss: 0.2842, \n"
     ]
    },
    {
     "name": "stdout",
     "output_type": "stream",
     "text": [
      "epoch: 9, [batch: 7560 / 12600], examples_per_second: 3259.3978, train_label_loss: 0.5660, \n"
     ]
    },
    {
     "name": "stdout",
     "output_type": "stream",
     "text": [
      "epoch: 9, [batch: 8820 / 12600], examples_per_second: 3246.3351, train_label_loss: 0.1275, \n"
     ]
    },
    {
     "name": "stdout",
     "output_type": "stream",
     "text": [
      "epoch: 9, [batch: 10080 / 12600], examples_per_second: 3252.3962, train_label_loss: 0.2486, \n"
     ]
    },
    {
     "name": "stdout",
     "output_type": "stream",
     "text": [
      "epoch: 9, [batch: 11340 / 12600], examples_per_second: 3238.6950, train_label_loss: 0.1518, \n"
     ]
    },
    {
     "name": "stdout",
     "output_type": "stream",
     "text": [
      "=============================================================\n",
      "epoch: 9, source_val_acc_label: 0.6944, target_val_acc_label: 0.6137, source_val_label_loss: 0.9989, target_val_label_loss: 1.1924, \n",
      "=============================================================\n"
     ]
    },
    {
     "name": "stdout",
     "output_type": "stream",
     "text": [
      "epoch: 10, [batch: 1 / 12600], examples_per_second: 2.2862, train_label_loss: 0.1957, \n"
     ]
    },
    {
     "name": "stdout",
     "output_type": "stream",
     "text": [
      "epoch: 10, [batch: 1260 / 12600], examples_per_second: 3228.2284, train_label_loss: 0.3070, \n"
     ]
    },
    {
     "name": "stdout",
     "output_type": "stream",
     "text": [
      "epoch: 10, [batch: 2520 / 12600], examples_per_second: 3260.9327, train_label_loss: 0.4738, \n"
     ]
    },
    {
     "name": "stdout",
     "output_type": "stream",
     "text": [
      "epoch: 10, [batch: 3780 / 12600], examples_per_second: 3247.1811, train_label_loss: 0.3354, \n"
     ]
    },
    {
     "name": "stdout",
     "output_type": "stream",
     "text": [
      "epoch: 10, [batch: 5040 / 12600], examples_per_second: 3244.4962, train_label_loss: 0.2646, \n"
     ]
    },
    {
     "name": "stdout",
     "output_type": "stream",
     "text": [
      "epoch: 10, [batch: 6300 / 12600], examples_per_second: 3245.0949, train_label_loss: 0.1247, \n"
     ]
    },
    {
     "name": "stdout",
     "output_type": "stream",
     "text": [
      "epoch: 10, [batch: 7560 / 12600], examples_per_second: 3239.2012, train_label_loss: 0.0716, \n"
     ]
    },
    {
     "name": "stdout",
     "output_type": "stream",
     "text": [
      "epoch: 10, [batch: 8820 / 12600], examples_per_second: 3240.0227, train_label_loss: 0.2966, \n"
     ]
    },
    {
     "name": "stdout",
     "output_type": "stream",
     "text": [
      "epoch: 10, [batch: 10080 / 12600], examples_per_second: 3245.7121, train_label_loss: 0.2694, \n"
     ]
    },
    {
     "name": "stdout",
     "output_type": "stream",
     "text": [
      "epoch: 10, [batch: 11340 / 12600], examples_per_second: 3256.6785, train_label_loss: 0.4130, \n"
     ]
    },
    {
     "name": "stdout",
     "output_type": "stream",
     "text": [
      "=============================================================\n",
      "epoch: 10, source_val_acc_label: 0.6840, target_val_acc_label: 0.6052, source_val_label_loss: 1.0442, target_val_label_loss: 1.2356, \n",
      "=============================================================\n"
     ]
    },
    {
     "name": "stdout",
     "output_type": "stream",
     "text": [
      "epoch: 11, [batch: 1 / 12600], examples_per_second: 2.2846, train_label_loss: 0.2629, \n"
     ]
    },
    {
     "name": "stdout",
     "output_type": "stream",
     "text": [
      "epoch: 11, [batch: 1260 / 12600], examples_per_second: 3232.2147, train_label_loss: 0.2363, \n"
     ]
    },
    {
     "name": "stdout",
     "output_type": "stream",
     "text": [
      "epoch: 11, [batch: 2520 / 12600], examples_per_second: 3255.3156, train_label_loss: 0.3143, \n"
     ]
    },
    {
     "name": "stdout",
     "output_type": "stream",
     "text": [
      "epoch: 11, [batch: 3780 / 12600], examples_per_second: 3257.2654, train_label_loss: 0.1433, \n"
     ]
    },
    {
     "name": "stdout",
     "output_type": "stream",
     "text": [
      "epoch: 11, [batch: 5040 / 12600], examples_per_second: 3246.3120, train_label_loss: 0.4302, \n"
     ]
    },
    {
     "name": "stdout",
     "output_type": "stream",
     "text": [
      "epoch: 11, [batch: 6300 / 12600], examples_per_second: 3242.1848, train_label_loss: 0.3871, \n"
     ]
    },
    {
     "name": "stdout",
     "output_type": "stream",
     "text": [
      "epoch: 11, [batch: 7560 / 12600], examples_per_second: 3253.9444, train_label_loss: 0.2174, \n"
     ]
    },
    {
     "name": "stdout",
     "output_type": "stream",
     "text": [
      "epoch: 11, [batch: 8820 / 12600], examples_per_second: 3241.0178, train_label_loss: 0.3011, \n"
     ]
    },
    {
     "name": "stdout",
     "output_type": "stream",
     "text": [
      "epoch: 11, [batch: 10080 / 12600], examples_per_second: 3250.6772, train_label_loss: 0.1766, \n"
     ]
    },
    {
     "name": "stdout",
     "output_type": "stream",
     "text": [
      "epoch: 11, [batch: 11340 / 12600], examples_per_second: 3247.5234, train_label_loss: 0.2388, \n"
     ]
    },
    {
     "name": "stdout",
     "output_type": "stream",
     "text": [
      "=============================================================\n",
      "epoch: 11, source_val_acc_label: 0.6823, target_val_acc_label: 0.6006, source_val_label_loss: 1.1099, target_val_label_loss: 1.3098, \n",
      "=============================================================\n"
     ]
    },
    {
     "name": "stdout",
     "output_type": "stream",
     "text": [
      "Patience (3) exhausted\n"
     ]
    }
   ],
   "source": [
    "###################################\n",
    "# train\n",
    "###################################\n",
    "jig = PTN_Train_Eval_Test_Jig(model, p.BEST_MODEL_PATH, p.device)\n",
    "\n",
    "jig.train(\n",
    "    train_iterable=datasets.source.processed.train,\n",
    "    source_val_iterable=datasets.source.processed.val,\n",
    "    target_val_iterable=datasets.target.processed.val,\n",
    "    num_epochs=p.n_epoch,\n",
    "    num_logs_per_epoch=p.NUM_LOGS_PER_EPOCH,\n",
    "    patience=p.patience,\n",
    "    optimizer=optimizer,\n",
    "    criteria_for_best=p.criteria_for_best,\n",
    ")"
   ]
  },
  {
   "cell_type": "code",
   "execution_count": 14,
   "id": "31e8fabf",
   "metadata": {
    "execution": {
     "iopub.execute_input": "2022-03-22T12:50:17.786591Z",
     "iopub.status.busy": "2022-03-22T12:50:17.786234Z",
     "iopub.status.idle": "2022-03-22T12:50:17.802763Z",
     "shell.execute_reply": "2022-03-22T12:50:17.802491Z"
    },
    "papermill": {
     "duration": 0.050867,
     "end_time": "2022-03-22T12:50:17.802825",
     "exception": false,
     "start_time": "2022-03-22T12:50:17.751958",
     "status": "completed"
    },
    "tags": []
   },
   "outputs": [],
   "source": [
    "total_experiment_time_secs = time.time() - start_time_secs"
   ]
  },
  {
   "cell_type": "code",
   "execution_count": 15,
   "id": "87b9595b",
   "metadata": {
    "execution": {
     "iopub.execute_input": "2022-03-22T12:50:17.873761Z",
     "iopub.status.busy": "2022-03-22T12:50:17.873484Z",
     "iopub.status.idle": "2022-03-22T12:54:18.737874Z",
     "shell.execute_reply": "2022-03-22T12:54:18.738294Z"
    },
    "papermill": {
     "duration": 240.903582,
     "end_time": "2022-03-22T12:54:18.738428",
     "exception": false,
     "start_time": "2022-03-22T12:50:17.834846",
     "status": "completed"
    },
    "tags": []
   },
   "outputs": [],
   "source": [
    "###################################\n",
    "# Evaluate the model\n",
    "###################################\n",
    "source_test_label_accuracy, source_test_label_loss = jig.test(datasets.source.processed.test)\n",
    "target_test_label_accuracy, target_test_label_loss = jig.test(datasets.target.processed.test)\n",
    "\n",
    "source_val_label_accuracy, source_val_label_loss = jig.test(datasets.source.processed.val)\n",
    "target_val_label_accuracy, target_val_label_loss = jig.test(datasets.target.processed.val)\n",
    "\n",
    "history = jig.get_history()\n",
    "\n",
    "total_epochs_trained = len(history[\"epoch_indices\"])\n",
    "\n",
    "val_dl = Iterable_Aggregator((datasets.source.original.val,datasets.target.original.val))\n",
    "\n",
    "confusion = ptn_confusion_by_domain_over_dataloader(model, p.device, val_dl)\n",
    "per_domain_accuracy = per_domain_accuracy_from_confusion(confusion)\n",
    "\n",
    "# Add a key to per_domain_accuracy for if it was a source domain\n",
    "for domain, accuracy in per_domain_accuracy.items():\n",
    "    per_domain_accuracy[domain] = {\n",
    "        \"accuracy\": accuracy,\n",
    "        \"source?\": domain in p.domains_source\n",
    "    }\n",
    "\n",
    "# Do an independent accuracy assesment JUST TO BE SURE!\n",
    "# _source_test_label_accuracy = independent_accuracy_assesment(model, datasets.source.processed.test, p.device)\n",
    "# _target_test_label_accuracy = independent_accuracy_assesment(model, datasets.target.processed.test, p.device)\n",
    "# _source_val_label_accuracy = independent_accuracy_assesment(model, datasets.source.processed.val, p.device)\n",
    "# _target_val_label_accuracy = independent_accuracy_assesment(model, datasets.target.processed.val, p.device)\n",
    "\n",
    "# assert(_source_test_label_accuracy == source_test_label_accuracy)\n",
    "# assert(_target_test_label_accuracy == target_test_label_accuracy)\n",
    "# assert(_source_val_label_accuracy == source_val_label_accuracy)\n",
    "# assert(_target_val_label_accuracy == target_val_label_accuracy)\n",
    "\n",
    "experiment = {\n",
    "    \"experiment_name\": p.experiment_name,\n",
    "    \"parameters\": dict(p),\n",
    "    \"results\": {\n",
    "        \"source_test_label_accuracy\": source_test_label_accuracy,\n",
    "        \"source_test_label_loss\": source_test_label_loss,\n",
    "        \"target_test_label_accuracy\": target_test_label_accuracy,\n",
    "        \"target_test_label_loss\": target_test_label_loss,\n",
    "        \"source_val_label_accuracy\": source_val_label_accuracy,\n",
    "        \"source_val_label_loss\": source_val_label_loss,\n",
    "        \"target_val_label_accuracy\": target_val_label_accuracy,\n",
    "        \"target_val_label_loss\": target_val_label_loss,\n",
    "        \"total_epochs_trained\": total_epochs_trained,\n",
    "        \"total_experiment_time_secs\": total_experiment_time_secs,\n",
    "        \"confusion\": confusion,\n",
    "        \"per_domain_accuracy\": per_domain_accuracy,\n",
    "    },\n",
    "    \"history\": history,\n",
    "    \"dataset_metrics\": get_dataset_metrics(datasets, \"ptn\"),\n",
    "}"
   ]
  },
  {
   "cell_type": "code",
   "execution_count": 16,
   "id": "54a21829",
   "metadata": {
    "execution": {
     "iopub.execute_input": "2022-03-22T12:54:18.810922Z",
     "iopub.status.busy": "2022-03-22T12:54:18.810529Z",
     "iopub.status.idle": "2022-03-22T12:54:18.934684Z",
     "shell.execute_reply": "2022-03-22T12:54:18.934406Z"
    },
    "papermill": {
     "duration": 0.158781,
     "end_time": "2022-03-22T12:54:18.934744",
     "exception": false,
     "start_time": "2022-03-22T12:54:18.775963",
     "status": "completed"
    },
    "tags": []
   },
   "outputs": [
    {
     "data": {
      "image/png": "[encoded data removed]",
      "text/plain": [
       "<Figure size 1080x504 with 1 Axes>"
      ]
     },
     "metadata": {
      "needs_background": "light"
     },
     "output_type": "display_data"
    }
   ],
   "source": [
    "ax = get_loss_curve(experiment)\n",
    "plt.show()"
   ]
  },
  {
   "cell_type": "code",
   "execution_count": 17,
   "id": "fd8a0f60",
   "metadata": {
    "execution": {
     "iopub.execute_input": "2022-03-22T12:54:19.031484Z",
     "iopub.status.busy": "2022-03-22T12:54:19.031068Z",
     "iopub.status.idle": "2022-03-22T12:54:19.171366Z",
     "shell.execute_reply": "2022-03-22T12:54:19.171111Z"
    },
    "papermill": {
     "duration": 0.176091,
     "end_time": "2022-03-22T12:54:19.171431",
     "exception": false,
     "start_time": "2022-03-22T12:54:18.995340",
     "status": "completed"
    },
    "tags": []
   },
   "outputs": [
    {
     "data": {
      "text/plain": [
       "<AxesSubplot:title={'center':'Results'}>"
      ]
     },
     "execution_count": 17,
     "metadata": {},
     "output_type": "execute_result"
    },
    {
     "data": {
      "image/png": "[encoded data removed]",
      "text/plain": [
       "<Figure size 1080x504 with 1 Axes>"
      ]
     },
     "metadata": {
      "needs_background": "light"
     },
     "output_type": "display_data"
    }
   ],
   "source": [
    "get_results_table(experiment)"
   ]
  },
  {
   "cell_type": "code",
   "execution_count": 18,
   "id": "cf8dc689",
   "metadata": {
    "execution": {
     "iopub.execute_input": "2022-03-22T12:54:19.245240Z",
     "iopub.status.busy": "2022-03-22T12:54:19.244832Z",
     "iopub.status.idle": "2022-03-22T12:54:19.358370Z",
     "shell.execute_reply": "2022-03-22T12:54:19.358106Z"
    },
    "papermill": {
     "duration": 0.150699,
     "end_time": "2022-03-22T12:54:19.358438",
     "exception": false,
     "start_time": "2022-03-22T12:54:19.207739",
     "status": "completed"
    },
    "tags": []
   },
   "outputs": [
    {
     "data": {
      "text/plain": [
       "<AxesSubplot:title={'center':'Per Domain Validation Accuracy'}, xlabel='domain'>"
      ]
     },
     "execution_count": 18,
     "metadata": {},
     "output_type": "execute_result"
    },
    {
     "data": {
      "image/png": "[encoded data removed]",
      "text/plain": [
       "<Figure size 1080x504 with 1 Axes>"
      ]
     },
     "metadata": {
      "needs_background": "light"
     },
     "output_type": "display_data"
    }
   ],
   "source": [
    "get_domain_accuracies(experiment)"
   ]
  },
  {
   "cell_type": "code",
   "execution_count": 19,
   "id": "a74ae082",
   "metadata": {
    "execution": {
     "iopub.execute_input": "2022-03-22T12:54:19.432927Z",
     "iopub.status.busy": "2022-03-22T12:54:19.432522Z",
     "iopub.status.idle": "2022-03-22T12:54:19.446614Z",
     "shell.execute_reply": "2022-03-22T12:54:19.446377Z"
    },
    "papermill": {
     "duration": 0.051953,
     "end_time": "2022-03-22T12:54:19.446673",
     "exception": false,
     "start_time": "2022-03-22T12:54:19.394720",
     "status": "completed"
    },
    "tags": []
   },
   "outputs": [
    {
     "name": "stdout",
     "output_type": "stream",
     "text": [
      "Source Test Label Accuracy: 0.6934548611111111 Target Test Label Accuracy: 0.61734375\n",
      "Source Val Label Accuracy: 0.6955555555555556 Target Val Label Accuracy: 0.61778125\n"
     ]
    }
   ],
   "source": [
    "print(\"Source Test Label Accuracy:\", experiment[\"results\"][\"source_test_label_accuracy\"], \"Target Test Label Accuracy:\", experiment[\"results\"][\"target_test_label_accuracy\"])\n",
    "print(\"Source Val Label Accuracy:\", experiment[\"results\"][\"source_val_label_accuracy\"], \"Target Val Label Accuracy:\", experiment[\"results\"][\"target_val_label_accuracy\"])"
   ]
  },
  {
   "cell_type": "code",
   "execution_count": 20,
   "id": "dacca602",
   "metadata": {
    "execution": {
     "iopub.execute_input": "2022-03-22T12:54:19.520119Z",
     "iopub.status.busy": "2022-03-22T12:54:19.519728Z",
     "iopub.status.idle": "2022-03-22T12:54:19.532453Z",
     "shell.execute_reply": "2022-03-22T12:54:19.532223Z"
    },
    "papermill": {
     "duration": 0.049928,
     "end_time": "2022-03-22T12:54:19.532512",
     "exception": false,
     "start_time": "2022-03-22T12:54:19.482584",
     "status": "completed"
    },
    "tags": [
     "experiment_json"
    ]
   },
   "outputs": [
    {
     "data": {
      "text/plain": [
       "'{\"experiment_name\": \"tuned_1v2:oracle.run1\", \"parameters\": {\"experiment_name\": \"tuned_1v2:oracle.run1\", \"device\": \"cuda\", \"lr\": 0.0001, \"labels_source\": [\"3123D52\", \"3123D65\", \"3123D79\", \"3123D80\", \"3123D54\", \"3123D70\", \"3123D7B\", \"3123D89\", \"3123D58\", \"3123D76\", \"3123D7D\", \"3123EFE\", \"3123D64\", \"3123D78\", \"3123D7E\", \"3124E4A\"], \"labels_target\": [\"3123D52\", \"3123D65\", \"3123D79\", \"3123D80\", \"3123D54\", \"3123D70\", \"3123D7B\", \"3123D89\", \"3123D58\", \"3123D76\", \"3123D7D\", \"3123EFE\", \"3123D64\", \"3123D78\", \"3123D7E\", \"3124E4A\"], \"episode_transforms_source\": [], \"episode_transforms_target\": [], \"domains_source\": [8, 32, 50], \"domains_target\": [14, 20, 26, 38, 44], \"num_examples_per_domain_per_label_source\": -1, \"num_examples_per_domain_per_label_target\": -1, \"n_shot\": 3, \"n_way\": 16, \"n_query\": 2, \"train_k_factor\": 3, \"val_k_factor\": 2, \"test_k_factor\": 2, \"torch_default_dtype\": \"torch.float32\", \"n_epoch\": 50, \"patience\": 3, \"criteria_for_best\": \"target_accuracy\", \"x_net\": [{\"class\": \"nnReshape\", \"kargs\": {\"shape\": [-1, 1, 2, 256]}}, {\"class\": \"Conv2d\", \"kargs\": {\"in_channels\": 1, \"out_channels\": 256, \"kernel_size\": [1, 7], \"bias\": false, \"padding\": [0, 3]}}, {\"class\": \"ReLU\", \"kargs\": {\"inplace\": true}}, {\"class\": \"BatchNorm2d\", \"kargs\": {\"num_features\": 256}}, {\"class\": \"Conv2d\", \"kargs\": {\"in_channels\": 256, \"out_channels\": 80, \"kernel_size\": [2, 7], \"bias\": true, \"padding\": [0, 3]}}, {\"class\": \"ReLU\", \"kargs\": {\"inplace\": true}}, {\"class\": \"BatchNorm2d\", \"kargs\": {\"num_features\": 80}}, {\"class\": \"Flatten\", \"kargs\": {}}, {\"class\": \"Linear\", \"kargs\": {\"in_features\": 20480, \"out_features\": 256}}, {\"class\": \"ReLU\", \"kargs\": {\"inplace\": true}}, {\"class\": \"BatchNorm1d\", \"kargs\": {\"num_features\": 256}}, {\"class\": \"Linear\", \"kargs\": {\"in_features\": 256, \"out_features\": 256}}], \"NUM_LOGS_PER_EPOCH\": 10, \"BEST_MODEL_PATH\": \"./best_model.pth\", \"pickle_name\": \"oracle.Run1_10kExamples_stratified_ds.2022A.pkl\", \"x_transforms_source\": [\"unit_power\"], \"x_transforms_target\": [\"unit_power\"], \"dataset_seed\": 420, \"seed\": 420}, \"results\": {\"source_test_label_accuracy\": 0.6934548611111111, \"source_test_label_loss\": 0.9371650815010071, \"target_test_label_accuracy\": 0.61734375, \"target_test_label_loss\": 1.1131659746170044, \"source_val_label_accuracy\": 0.6955555555555556, \"source_val_label_loss\": 0.9225949048995972, \"target_val_label_accuracy\": 0.61778125, \"target_val_label_loss\": 1.1164743900299072, \"total_epochs_trained\": 11, \"total_experiment_time_secs\": 3926.8452608585358, \"confusion\": {\"8\": {\"15\": {\"15\": 814, \"8\": 67, \"12\": 273, \"3\": 13, \"7\": 4, \"2\": 28, \"6\": 1}, \"5\": {\"5\": 1026, \"14\": 11, \"1\": 66, \"10\": 87, \"11\": 10}, \"7\": {\"7\": 785, \"6\": 308, \"0\": 75, \"4\": 8, \"8\": 12, \"2\": 4, \"15\": 1, \"14\": 2, \"12\": 1, \"13\": 4}, \"4\": {\"4\": 528, \"13\": 212, \"6\": 151, \"14\": 183, \"10\": 36, \"1\": 8, \"7\": 13, \"0\": 65, \"11\": 2, \"8\": 2}, \"10\": {\"10\": 750, \"14\": 232, \"1\": 12, \"13\": 113, \"5\": 35, \"4\": 45, \"0\": 12, \"11\": 1}, \"11\": {\"11\": 712, \"1\": 422, \"14\": 22, \"10\": 5, \"5\": 21, \"8\": 9, \"4\": 7, \"6\": 2}, \"12\": {\"12\": 594, \"15\": 350, \"3\": 209, \"8\": 26, \"2\": 21}, \"0\": {\"0\": 635, \"4\": 82, \"7\": 93, \"6\": 107, \"13\": 257, \"10\": 20, \"14\": 6}, \"14\": {\"14\": 583, \"13\": 96, \"4\": 204, \"5\": 1, \"10\": 219, \"1\": 65, \"11\": 15, \"6\": 9, \"0\": 8}, \"8\": {\"8\": 1089, \"15\": 73, \"6\": 19, \"7\": 8, \"11\": 2, \"12\": 8, \"4\": 1}, \"13\": {\"4\": 203, \"0\": 319, \"10\": 144, \"13\": 350, \"1\": 7, \"14\": 113, \"6\": 53, \"7\": 11}, \"6\": {\"6\": 636, \"0\": 99, \"7\": 285, \"4\": 126, \"8\": 26, \"14\": 9, \"13\": 18, \"12\": 1}, \"1\": {\"1\": 716, \"14\": 82, \"11\": 361, \"5\": 22, \"10\": 10, \"8\": 2, \"4\": 5, \"13\": 1, \"6\": 1}, \"3\": {\"3\": 940, \"12\": 100, \"2\": 152, \"15\": 8}, \"9\": {\"9\": 1200}, \"2\": {\"2\": 929, \"3\": 175, \"15\": 51, \"12\": 23, \"7\": 22}}, \"50\": {\"4\": {\"6\": 154, \"4\": 463, \"5\": 100, \"15\": 200, \"13\": 29, \"1\": 229, \"7\": 23, \"11\": 2}, \"10\": {\"10\": 1068, \"0\": 54, \"8\": 17, \"7\": 32, \"13\": 26, \"5\": 3}, \"15\": {\"1\": 227, \"15\": 830, \"4\": 108, \"11\": 29, \"14\": 1, \"6\": 5}, \"0\": {\"2\": 152, \"0\": 975, \"10\": 59, \"6\": 2, \"13\": 10, \"5\": 2}, \"6\": {\"6\": 742, \"4\": 159, \"13\": 81, \"1\": 113, \"5\": 87, \"15\": 15, \"7\": 3}, \"3\": {\"3\": 1169, \"8\": 31}, \"7\": {\"13\": 262, \"7\": 721, \"5\": 155, \"10\": 42, \"4\": 8, \"6\": 10, \"0\": 2}, \"2\": {\"2\": 1121, \"0\": 79}, \"8\": {\"8\": 1156, \"10\": 30, \"3\": 14}, \"11\": {\"11\": 1031, \"12\": 9, \"9\": 112, \"15\": 31, \"1\": 1, \"14\": 14, \"4\": 2}, \"14\": {\"11\": 14, \"14\": 1154, \"12\": 29, \"9\": 2, \"1\": 1}, \"12\": {\"12\": 1066, \"14\": 53, \"9\": 73, \"11\": 8}, \"13\": {\"5\": 248, \"6\": 67, \"13\": 624, \"7\": 226, \"10\": 18, \"0\": 7, \"4\": 9, \"1\": 1}, \"9\": {\"9\": 905, \"11\": 180, \"12\": 111, \"14\": 4}, \"5\": {\"5\": 357, \"4\": 124, \"7\": 273, \"13\": 234, \"6\": 170, \"10\": 11, \"15\": 3, \"1\": 25, \"0\": 2, \"2\": 1}, \"1\": {\"1\": 673, \"15\": 264, \"4\": 155, \"6\": 97, \"5\": 2, \"14\": 4, \"11\": 4, \"2\": 1}}, \"32\": {\"7\": {\"7\": 504, \"5\": 118, \"2\": 45, \"14\": 191, \"4\": 149, \"0\": 36, \"13\": 103, \"11\": 50, \"8\": 3, \"3\": 1}, \"2\": {\"4\": 215, \"2\": 914, \"0\": 42, \"7\": 19, \"5\": 5, \"14\": 5}, \"5\": {\"5\": 295, \"13\": 318, \"4\": 131, \"7\": 149, \"0\": 65, \"2\": 15, \"8\": 110, \"14\": 38, \"3\": 54, \"11\": 25}, \"6\": {\"6\": 1200}, \"13\": {\"4\": 56, \"3\": 86, \"7\": 117, \"5\": 308, \"13\": 397, \"14\": 51, \"8\": 117, \"0\": 35, \"2\": 3, \"11\": 30}, \"4\": {\"2\": 239, \"4\": 572, \"5\": 86, \"7\": 144, \"0\": 114, \"14\": 8, \"13\": 31, \"8\": 6}, \"3\": {\"3\": 1056, \"13\": 54, \"11\": 45, \"5\": 21, \"8\": 15, \"14\": 4, \"7\": 4, \"0\": 1}, \"0\": {\"4\": 152, \"8\": 118, \"2\": 99, \"14\": 27, \"0\": 660, \"5\": 63, \"7\": 46, \"13\": 35}, \"9\": {\"9\": 1196, \"12\": 4}, \"12\": {\"12\": 1200}, \"8\": {\"8\": 848, \"0\": 107, \"13\": 104, \"5\": 91, \"14\": 2, \"7\": 8, \"3\": 33, \"4\": 6, \"11\": 1}, \"14\": {\"7\": 233, \"11\": 305, \"13\": 71, \"14\": 454, \"5\": 52, \"0\": 23, \"2\": 22, \"4\": 29, \"8\": 5, \"3\": 6}, \"15\": {\"15\": 1185, \"3\": 4, \"8\": 11}, \"11\": {\"11\": 852, \"13\": 36, \"7\": 43, \"14\": 231, \"5\": 17, \"3\": 21}, \"10\": {\"10\": 1195, \"1\": 5}, \"1\": {\"1\": 1194, \"10\": 6}}, \"20\": {\"15\": {\"15\": 655, \"0\": 94, \"1\": 248, \"12\": 42, \"5\": 88, \"13\": 58, \"2\": 4, \"3\": 6, \"9\": 5}, \"5\": {\"1\": 206, \"3\": 52, \"15\": 136, \"0\": 262, \"5\": 332, \"12\": 170, \"4\": 9, \"13\": 9, \"9\": 15, \"2\": 8, \"8\": 1}, \"7\": {\"9\": 100, \"7\": 720, \"2\": 158, \"8\": 97, \"6\": 46, \"3\": 46, \"4\": 9, \"13\": 4, \"14\": 4, \"10\": 12, \"11\": 3, \"12\": 1}, \"4\": {\"4\": 772, \"8\": 225, \"3\": 72, \"9\": 15, \"10\": 59, \"7\": 11, \"5\": 8, \"12\": 23, \"1\": 2, \"0\": 10, \"14\": 2, \"2\": 1}, \"10\": {\"10\": 813, \"4\": 54, \"14\": 207, \"8\": 102, \"6\": 20, \"7\": 3, \"3\": 1}, \"11\": {\"11\": 1190, \"7\": 6, \"6\": 3, \"2\": 1}, \"12\": {\"3\": 246, \"12\": 323, \"8\": 7, \"1\": 159, \"9\": 117, \"5\": 138, \"15\": 35, \"2\": 70, \"4\": 20, \"0\": 57, \"13\": 17, \"7\": 11}, \"0\": {\"5\": 294, \"1\": 144, \"9\": 15, \"15\": 151, \"12\": 93, \"0\": 429, \"3\": 39, \"7\": 2, \"4\": 8, \"2\": 13, \"13\": 9, \"8\": 3}, \"14\": {\"14\": 708, \"10\": 209, \"6\": 233, \"8\": 43, \"7\": 2, \"4\": 5}, \"8\": {\"4\": 218, \"6\": 31, \"8\": 619, \"14\": 54, \"7\": 121, \"12\": 8, \"10\": 84, \"3\": 48, \"2\": 5, \"5\": 1, \"9\": 11}, \"13\": {\"13\": 985, \"5\": 5, \"2\": 101, \"1\": 11, \"15\": 45, \"9\": 32, \"7\": 8, \"12\": 8, \"11\": 2, \"3\": 3}, \"6\": {\"10\": 18, \"6\": 911, \"14\": 210, \"8\": 19, \"7\": 36, \"2\": 1, \"11\": 5}, \"1\": {\"1\": 354, \"3\": 27, \"5\": 250, \"12\": 154, \"0\": 116, \"15\": 231, \"13\": 30, \"2\": 17, \"9\": 21}, \"3\": {\"4\": 98, \"9\": 183, \"3\": 359, \"12\": 211, \"7\": 65, \"8\": 48, \"2\": 110, \"15\": 6, \"1\": 37, \"5\": 49, \"0\": 25, \"13\": 9}, \"9\": {\"3\": 218, \"9\": 336, \"2\": 299, \"1\": 20, \"12\": 130, \"13\": 49, \"7\": 92, \"5\": 17, \"8\": 14, \"4\": 12, \"15\": 6, \"0\": 7}, \"2\": {\"2\": 430, \"12\": 62, \"15\": 4, \"9\": 281, \"7\": 172, \"13\": 97, \"3\": 111, \"1\": 20, \"8\": 8, \"0\": 3, \"11\": 2, \"5\": 8, \"10\": 1, \"4\": 1}}, \"26\": {\"4\": {\"10\": 83, \"1\": 162, \"0\": 143, \"8\": 121, \"4\": 334, \"14\": 235, \"7\": 106, \"3\": 5, \"6\": 1, \"2\": 5, \"9\": 2, \"15\": 2, \"5\": 1}, \"10\": {\"0\": 249, \"7\": 5, \"4\": 82, \"15\": 14, \"1\": 35, \"6\": 119, \"10\": 399, \"9\": 38, \"8\": 145, \"14\": 112, \"2\": 1, \"3\": 1}, \"15\": {\"15\": 392, \"5\": 226, \"9\": 254, \"0\": 5, \"8\": 85, \"7\": 19, \"13\": 83, \"6\": 51, \"10\": 19, \"4\": 5, \"2\": 54, \"3\": 7}, \"0\": {\"4\": 181, \"14\": 191, \"10\": 271, \"6\": 36, \"8\": 145, \"1\": 71, \"0\": 251, \"7\": 28, \"15\": 7, \"2\": 7, \"9\": 10, \"3\": 1, \"5\": 1}, \"6\": {\"13\": 24, \"9\": 182, \"6\": 758, \"15\": 47, \"8\": 49, \"10\": 101, \"5\": 9, \"0\": 27, \"2\": 1, \"14\": 1, \"1\": 1}, \"3\": {\"2\": 306, \"3\": 638, \"7\": 223, \"5\": 3, \"4\": 15, \"1\": 3, \"8\": 4, \"0\": 2, \"10\": 1, \"15\": 4, \"14\": 1}, \"7\": {\"4\": 111, \"2\": 166, \"7\": 504, \"3\": 220, \"8\": 99, \"14\": 24, \"5\": 4, \"0\": 23, \"1\": 20, \"9\": 6, \"15\": 17, \"10\": 6}, \"2\": {\"7\": 157, \"2\": 390, \"3\": 352, \"5\": 107, \"8\": 49, \"1\": 1, \"15\": 81, \"13\": 10, \"9\": 31, \"4\": 9, \"10\": 1, \"0\": 8, \"6\": 4}, \"8\": {\"9\": 135, \"7\": 82, \"0\": 113, \"8\": 329, \"15\": 89, \"6\": 67, \"14\": 38, \"5\": 24, \"4\": 122, \"10\": 144, \"2\": 35, \"3\": 10, \"1\": 11, \"13\": 1}, \"11\": {\"11\": 1181, \"12\": 19}, \"14\": {\"14\": 341, \"1\": 288, \"4\": 219, \"0\": 166, \"10\": 101, \"8\": 52, \"7\": 21, \"6\": 6, \"9\": 1, \"2\": 3, \"3\": 1, \"15\": 1}, \"12\": {\"12\": 1195, \"11\": 5}, \"13\": {\"13\": 809, \"9\": 28, \"5\": 241, \"15\": 90, \"8\": 1, \"6\": 15, \"2\": 15, \"3\": 1}, \"9\": {\"15\": 308, \"9\": 377, \"2\": 20, \"6\": 152, \"13\": 47, \"8\": 127, \"5\": 100, \"10\": 40, \"0\": 14, \"14\": 4, \"3\": 2, \"7\": 7, \"4\": 2}, \"5\": {\"13\": 198, \"6\": 11, \"5\": 532, \"15\": 232, \"2\": 66, \"9\": 121, \"3\": 6, \"8\": 22, \"7\": 10, \"10\": 2}, \"1\": {\"14\": 289, \"1\": 550, \"0\": 75, \"4\": 181, \"3\": 5, \"10\": 58, \"7\": 28, \"8\": 14}}, \"38\": {\"7\": {\"0\": 225, \"7\": 862, \"3\": 16, \"5\": 48, \"8\": 42, \"12\": 1, \"10\": 3, \"4\": 2, \"6\": 1}, \"2\": {\"2\": 1050, \"13\": 33, \"14\": 109, \"11\": 3, \"10\": 3, \"15\": 2}, \"5\": {\"7\": 88, \"8\": 314, \"5\": 463, \"3\": 31, \"6\": 72, \"0\": 121, \"1\": 13, \"15\": 53, \"13\": 9, \"9\": 35, \"10\": 1}, \"6\": {\"6\": 887, \"9\": 296, \"5\": 16, \"3\": 1}, \"13\": {\"15\": 335, \"13\": 680, \"8\": 26, \"10\": 89, \"1\": 27, \"2\": 34, \"14\": 3, \"5\": 5, \"0\": 1}, \"4\": {\"4\": 1132, \"12\": 67, \"10\": 1}, \"3\": {\"6\": 18, \"3\": 1015, \"9\": 94, \"0\": 21, \"7\": 40, \"5\": 11, \"8\": 1}, \"0\": {\"0\": 355, \"7\": 259, \"10\": 55, \"8\": 317, \"3\": 55, \"5\": 138, \"15\": 7, \"9\": 3, \"4\": 2, \"12\": 6, \"6\": 2, \"13\": 1}, \"9\": {\"6\": 456, \"9\": 638, \"3\": 84, \"5\": 17, \"7\": 2, \"0\": 3}, \"12\": {\"12\": 1090, \"4\": 52, \"10\": 55, \"14\": 2, \"11\": 1}, \"8\": {\"8\": 642, \"5\": 252, \"15\": 30, \"13\": 8, \"0\": 198, \"10\": 37, \"7\": 30, \"6\": 3}, \"14\": {\"14\": 886, \"11\": 225, \"2\": 54, \"12\": 10, \"10\": 21, \"13\": 4}, \"15\": {\"15\": 675, \"13\": 331, \"8\": 44, \"1\": 107, \"5\": 29, \"10\": 12, \"2\": 2}, \"11\": {\"11\": 820, \"14\": 327, \"12\": 32, \"13\": 1, \"2\": 8, \"10\": 11, \"4\": 1}, \"10\": {\"10\": 834, \"8\": 75, \"12\": 106, \"15\": 15, \"13\": 90, \"11\": 10, \"0\": 28, \"14\": 16, \"5\": 6, \"7\": 12, \"4\": 7, \"2\": 1}, \"1\": {\"1\": 1113, \"15\": 77, \"5\": 4, \"13\": 4, \"6\": 1, \"8\": 1}}, \"14\": {\"11\": {\"11\": 1007, \"0\": 78, \"9\": 76, \"10\": 39}, \"7\": {\"7\": 1127, \"1\": 9, \"15\": 60, \"2\": 1, \"5\": 3}, \"6\": {\"6\": 622, \"13\": 402, \"14\": 90, \"2\": 82, \"4\": 4}, \"12\": {\"12\": 1192, \"9\": 8}, \"4\": {\"4\": 619, \"3\": 167, \"5\": 210, \"2\": 133, \"1\": 46, \"14\": 20, \"6\": 3, \"13\": 2}, \"13\": {\"6\": 424, \"13\": 415, \"14\": 223, \"2\": 98, \"4\": 9, \"5\": 19, \"15\": 5, \"3\": 5, \"10\": 2}, \"8\": {\"8\": 1198, \"0\": 1, \"3\": 1}, \"5\": {\"5\": 627, \"4\": 224, \"2\": 87, \"1\": 222, \"3\": 18, \"7\": 17, \"15\": 2, \"13\": 1, \"14\": 1, \"6\": 1}, \"14\": {\"14\": 831, \"10\": 2, \"13\": 135, \"6\": 75, \"2\": 92, \"3\": 46, \"4\": 17, \"0\": 1, \"5\": 1}, \"3\": {\"3\": 913, \"10\": 5, \"4\": 169, \"5\": 11, \"2\": 37, \"14\": 45, \"0\": 16, \"1\": 3, \"13\": 1}, \"10\": {\"0\": 189, \"10\": 995, \"14\": 10, \"3\": 4, \"11\": 1, \"13\": 1}, \"1\": {\"1\": 937, \"5\": 204, \"7\": 7, \"4\": 50, \"3\": 2}, \"2\": {\"3\": 69, \"4\": 145, \"2\": 424, \"5\": 135, \"6\": 113, \"14\": 197, \"13\": 83, \"7\": 2, \"15\": 30, \"1\": 2}, \"15\": {\"15\": 1109, \"5\": 9, \"7\": 79, \"1\": 1, \"2\": 2}, \"9\": {\"9\": 1174, \"11\": 18, \"0\": 1, \"12\": 7}, \"0\": {\"0\": 919, \"10\": 217, \"3\": 26, \"11\": 36, \"8\": 1, \"14\": 1}}, \"44\": {\"10\": {\"10\": 858, \"1\": 93, \"12\": 123, \"2\": 123, \"3\": 2, \"7\": 1}, \"6\": {\"6\": 774, \"9\": 107, \"13\": 219, \"7\": 58, \"11\": 39, \"2\": 3}, \"13\": {\"9\": 169, \"13\": 739, \"6\": 204, \"11\": 74, \"7\": 8, \"4\": 6}, \"3\": {\"3\": 1056, \"1\": 122, \"12\": 13, \"7\": 2, \"2\": 4, \"10\": 3}, \"9\": {\"7\": 242, \"9\": 714, \"13\": 118, \"6\": 109, \"11\": 1, \"2\": 14, \"3\": 1, \"4\": 1}, \"1\": {\"12\": 256, \"1\": 633, \"3\": 146, \"10\": 113, \"2\": 51, \"7\": 1}, \"5\": {\"5\": 982, \"0\": 108, \"14\": 55, \"15\": 42, \"8\": 11, \"4\": 2}, \"11\": {\"11\": 1057, \"13\": 87, \"6\": 55, \"9\": 1}, \"4\": {\"4\": 828, \"14\": 356, \"13\": 2, \"5\": 1, \"15\": 10, \"9\": 3}, \"14\": {\"14\": 715, \"4\": 392, \"15\": 69, \"5\": 22, \"8\": 1, \"13\": 1}, \"12\": {\"12\": 781, \"10\": 127, \"3\": 28, \"1\": 262, \"2\": 2}, \"7\": {\"7\": 721, \"2\": 180, \"3\": 13, \"9\": 226, \"6\": 49, \"1\": 5, \"13\": 5, \"10\": 1}, \"0\": {\"0\": 745, \"5\": 98, \"8\": 285, \"15\": 72}, \"15\": {\"14\": 107, \"15\": 954, \"0\": 105, \"4\": 13, \"8\": 10, \"5\": 11}, \"2\": {\"2\": 791, \"7\": 193, \"10\": 128, \"1\": 73, \"12\": 5, \"9\": 5, \"3\": 4, \"6\": 1}, \"8\": {\"8\": 792, \"0\": 342, \"15\": 48, \"5\": 17, \"14\": 1}}}, \"per_domain_accuracy\": {\"8\": {\"accuracy\": 0.6399479166666666, \"source?\": true}, \"50\": {\"accuracy\": 0.73203125, \"source?\": true}, \"32\": {\"accuracy\": 0.7146875, \"source?\": true}, \"20\": {\"accuracy\": 0.5175, \"source?\": false}, \"26\": {\"accuracy\": 0.46770833333333334, \"source?\": false}, \"38\": {\"accuracy\": 0.6844791666666666, \"source?\": false}, \"14\": {\"accuracy\": 0.73484375, \"source?\": false}, \"44\": {\"accuracy\": 0.684375, \"source?\": false}}}, \"history\": {\"epoch_indices\": [1, 2, 3, 4, 5, 6, 7, 8, 9, 10, 11], \"train_label_loss\": [1.3925860986066243, 0.8902814063548096, 0.7590423773702175, 0.6731208088603757, 0.591342739490053, 0.5158463047551257, 0.44723736891168214, 0.3871907077672049, 0.3393296309468144, 0.2981026096538537, 0.26267081401118686], \"source_val_label_loss\": [1.0778173208236694, 0.9016052484512329, 0.8758633136749268, 0.8603892922401428, 0.8669072389602661, 0.8840890526771545, 0.9225949048995972, 0.9694139361381531, 0.9989207983016968, 1.0442224740982056, 1.109867811203003], \"target_val_label_loss\": [1.3211060762405396, 1.1081874370574951, 1.0721864700317383, 1.0723150968551636, 1.0680532455444336, 1.074627161026001, 1.1164743900299072, 1.1578946113586426, 1.192385196685791, 1.2356038093566895, 1.3097636699676514], \"source_val_acc_label\": [0.6062326388888889, 0.6646701388888889, 0.6771354166666667, 0.6750173611111111, 0.6848784722222222, 0.6919965277777778, 0.6955555555555556, 0.6918402777777778, 0.6944097222222222, 0.6839583333333333, 0.6823090277777778], \"target_val_acc_label\": [0.51371875, 0.5825729166666667, 0.6005104166666667, 0.59678125, 0.6077604166666667, 0.617625, 0.61778125, 0.615875, 0.6136770833333334, 0.6052291666666667, 0.6005729166666667]}, \"dataset_metrics\": {\"source\": {\"train\": {\"n_unique_x\": 336000, \"n_unique_y\": 16, \"n_batch/episode\": 12600}, \"val\": {\"n_unique_x\": 72000, \"n_unique_y\": 16, \"n_batch/episode\": 1800}, \"test\": {\"n_unique_x\": 72000, \"n_unique_y\": 16, \"n_batch/episode\": 1800}}, \"target\": {\"train\": {\"n_unique_x\": 560000, \"n_unique_y\": 16, \"n_batch/episode\": 21000}, \"val\": {\"n_unique_x\": 120000, \"n_unique_y\": 16, \"n_batch/episode\": 3000}, \"test\": {\"n_unique_x\": 120000, \"n_unique_y\": 16, \"n_batch/episode\": 3000}}}}'"
      ]
     },
     "execution_count": 20,
     "metadata": {},
     "output_type": "execute_result"
    }
   ],
   "source": [
    "json.dumps(experiment)"
   ]
  }
 ],
 "metadata": {
  "celltoolbar": "Tags",
  "kernelspec": {
   "display_name": "Python 3 (ipykernel)",
   "language": "python",
   "name": "python3"
  },
  "language_info": {
   "codemirror_mode": {
    "name": "ipython",
    "version": 3
   },
   "file_extension": ".py",
   "mimetype": "text/x-python",
   "name": "python",
   "nbconvert_exporter": "python",
   "pygments_lexer": "ipython3",
   "version": "3.8.10"
  },
  "papermill": {
   "default_parameters": {},
   "duration": 4173.376735,
   "end_time": "2022-03-22T12:54:22.181659",
   "environment_variables": {},
   "exception": null,
   "input_path": "/mnt/wd500GB/CSC500/csc500-main/csc500-notebooks/templates/ptn_template.ipynb",
   "output_path": "trial.ipynb",
   "parameters": {
    "parameters": {
     "BEST_MODEL_PATH": "./best_model.pth",
     "NUM_LOGS_PER_EPOCH": 10,
     "criteria_for_best": "target_accuracy",
     "dataset_seed": 420,
     "device": "cuda",
     "domains_source": [
      8,
      32,
      50
     ],
     "domains_target": [
      14,
      20,
      26,
      38,
      44
     ],
     "episode_transforms_source": [],
     "episode_transforms_target": [],
     "experiment_name": "tuned_1v2:oracle.run1",
     "labels_source": [
      "3123D52",
      "3123D65",
      "3123D79",
      "3123D80",
      "3123D54",
      "3123D70",
      "3123D7B",
      "3123D89",
      "3123D58",
      "3123D76",
      "3123D7D",
      "3123EFE",
      "3123D64",
      "3123D78",
      "3123D7E",
      "3124E4A"
     ],
     "labels_target": [
      "3123D52",
      "3123D65",
      "3123D79",
      "3123D80",
      "3123D54",
      "3123D70",
      "3123D7B",
      "3123D89",
      "3123D58",
      "3123D76",
      "3123D7D",
      "3123EFE",
      "3123D64",
      "3123D78",
      "3123D7E",
      "3124E4A"
     ],
     "lr": 0.0001,
     "n_epoch": 50,
     "n_query": 2,
     "n_shot": 3,
     "n_way": 16,
     "num_examples_per_domain_per_label_source": -1,
     "num_examples_per_domain_per_label_target": -1,
     "patience": 3,
     "pickle_name": "oracle.Run1_10kExamples_stratified_ds.2022A.pkl",
     "seed": 420,
     "test_k_factor": 2,
     "torch_default_dtype": "torch.float32",
     "train_k_factor": 3,
     "val_k_factor": 2,
     "x_net": [
      {
       "class": "nnReshape",
       "kargs": {
        "shape": [
         -1,
         1,
         2,
         256
        ]
       }
      },
      {
       "class": "Conv2d",
       "kargs": {
        "bias": false,
        "in_channels": 1,
        "kernel_size": [
         1,
         7
        ],
        "out_channels": 256,
        "padding": [
         0,
         3
        ]
       }
      },
      {
       "class": "ReLU",
       "kargs": {
        "inplace": true
       }
      },
      {
       "class": "BatchNorm2d",
       "kargs": {
        "num_features": 256
       }
      },
      {
       "class": "Conv2d",
       "kargs": {
        "bias": true,
        "in_channels": 256,
        "kernel_size": [
         2,
         7
        ],
        "out_channels": 80,
        "padding": [
         0,
         3
        ]
       }
      },
      {
       "class": "ReLU",
       "kargs": {
        "inplace": true
       }
      },
      {
       "class": "BatchNorm2d",
       "kargs": {
        "num_features": 80
       }
      },
      {
       "class": "Flatten",
       "kargs": {}
      },
      {
       "class": "Linear",
       "kargs": {
        "in_features": 20480,
        "out_features": 256
       }
      },
      {
       "class": "ReLU",
       "kargs": {
        "inplace": true
       }
      },
      {
       "class": "BatchNorm1d",
       "kargs": {
        "num_features": 256
       }
      },
      {
       "class": "Linear",
       "kargs": {
        "in_features": 256,
        "out_features": 256
       }
      }
     ],
     "x_transforms_source": [
      "unit_power"
     ],
     "x_transforms_target": [
      "unit_power"
     ]
    }
   },
   "start_time": "2022-03-22T11:44:48.804924",
   "version": "2.3.4"
  }
 },
 "nbformat": 4,
 "nbformat_minor": 5
}