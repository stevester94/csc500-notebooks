{
 "cells": [
  {
   "cell_type": "markdown",
   "id": "9fea5f46",
   "metadata": {
    "papermill": {
     "duration": 0.014025,
     "end_time": "2022-03-22T06:51:35.500426",
     "exception": false,
     "start_time": "2022-03-22T06:51:35.486401",
     "status": "completed"
    },
    "tags": []
   },
   "source": [
    "# PTN Template\n",
    "This notebook serves as a template for single dataset PTN experiments  \n",
    "It can be run on its own by setting STANDALONE to True (do a find for \"STANDALONE\" to see where)  \n",
    "But it is intended to be executed as part of a *papermill.py script. See any of the   \n",
    "experimentes with a papermill script to get started with that workflow.  "
   ]
  },
  {
   "cell_type": "code",
   "execution_count": 1,
   "id": "0902182a",
   "metadata": {
    "execution": {
     "iopub.execute_input": "2022-03-22T06:51:35.533546Z",
     "iopub.status.busy": "2022-03-22T06:51:35.533077Z",
     "iopub.status.idle": "2022-03-22T06:51:36.496096Z",
     "shell.execute_reply": "2022-03-22T06:51:36.496504Z"
    },
    "papermill": {
     "duration": 0.986959,
     "end_time": "2022-03-22T06:51:36.496700",
     "exception": false,
     "start_time": "2022-03-22T06:51:35.509741",
     "status": "completed"
    },
    "tags": []
   },
   "outputs": [],
   "source": [
    "%load_ext autoreload\n",
    "%autoreload 2\n",
    "%matplotlib inline\n",
    "\n",
    "    \n",
    "import os, json, sys, time, random\n",
    "import numpy as np\n",
    "import torch\n",
    "from torch.optim import Adam\n",
    "from  easydict import EasyDict\n",
    "import matplotlib.pyplot as plt\n",
    "\n",
    "from steves_models.steves_ptn import Steves_Prototypical_Network\n",
    "\n",
    "from steves_utils.lazy_iterable_wrapper import Lazy_Iterable_Wrapper\n",
    "from steves_utils.iterable_aggregator import Iterable_Aggregator\n",
    "from steves_utils.ptn_train_eval_test_jig import  PTN_Train_Eval_Test_Jig\n",
    "from steves_utils.torch_sequential_builder import build_sequential\n",
    "from steves_utils.torch_utils import get_dataset_metrics, ptn_confusion_by_domain_over_dataloader\n",
    "from steves_utils.utils_v2 import (per_domain_accuracy_from_confusion, get_datasets_base_path)\n",
    "from steves_utils.PTN.utils import independent_accuracy_assesment\n",
    "\n",
    "from steves_utils.stratified_dataset.episodic_accessor import Episodic_Accessor_Factory\n",
    "\n",
    "from steves_utils.ptn_do_report import (\n",
    "    get_loss_curve,\n",
    "    get_results_table,\n",
    "    get_parameters_table,\n",
    "    get_domain_accuracies,\n",
    ")\n",
    "\n",
    "from steves_utils.transforms import get_chained_transform"
   ]
  },
  {
   "cell_type": "markdown",
   "id": "41c840b4",
   "metadata": {
    "papermill": {
     "duration": 0.009004,
     "end_time": "2022-03-22T06:51:36.525603",
     "exception": false,
     "start_time": "2022-03-22T06:51:36.516599",
     "status": "completed"
    },
    "tags": []
   },
   "source": [
    "# Required Parameters\n",
    "These are allowed parameters, not defaults\n",
    "Each of these values need to be present in the injected parameters (the notebook will raise an exception if they are not present)\n",
    "\n",
    "Papermill uses the cell tag \"parameters\" to inject the real parameters below this cell.\n",
    "Enable tags to see what I mean"
   ]
  },
  {
   "cell_type": "code",
   "execution_count": 2,
   "id": "fd44eb83",
   "metadata": {
    "execution": {
     "iopub.execute_input": "2022-03-22T06:51:36.547007Z",
     "iopub.status.busy": "2022-03-22T06:51:36.546738Z",
     "iopub.status.idle": "2022-03-22T06:51:36.560142Z",
     "shell.execute_reply": "2022-03-22T06:51:36.560349Z"
    },
    "papermill": {
     "duration": 0.025744,
     "end_time": "2022-03-22T06:51:36.560419",
     "exception": false,
     "start_time": "2022-03-22T06:51:36.534675",
     "status": "completed"
    },
    "tags": []
   },
   "outputs": [],
   "source": [
    "required_parameters = {\n",
    "    \"experiment_name\",\n",
    "    \"lr\",\n",
    "    \"device\",\n",
    "    \"seed\",\n",
    "    \"dataset_seed\",\n",
    "    \"labels_source\",\n",
    "    \"labels_target\",\n",
    "    \"domains_source\",\n",
    "    \"domains_target\",\n",
    "    \"num_examples_per_domain_per_label_source\",\n",
    "    \"num_examples_per_domain_per_label_target\",\n",
    "    \"n_shot\",\n",
    "    \"n_way\",\n",
    "    \"n_query\",\n",
    "    \"train_k_factor\",\n",
    "    \"val_k_factor\",\n",
    "    \"test_k_factor\",\n",
    "    \"n_epoch\",\n",
    "    \"patience\",\n",
    "    \"criteria_for_best\",\n",
    "    \"x_transforms_source\",\n",
    "    \"x_transforms_target\",\n",
    "    \"episode_transforms_source\",\n",
    "    \"episode_transforms_target\",\n",
    "    \"pickle_name\",\n",
    "    \"x_net\",\n",
    "    \"NUM_LOGS_PER_EPOCH\",\n",
    "    \"BEST_MODEL_PATH\",\n",
    "    \"torch_default_dtype\"\n",
    "}"
   ]
  },
  {
   "cell_type": "code",
   "execution_count": 3,
   "id": "fa3f0049",
   "metadata": {
    "execution": {
     "iopub.execute_input": "2022-03-22T06:51:36.586985Z",
     "iopub.status.busy": "2022-03-22T06:51:36.586700Z",
     "iopub.status.idle": "2022-03-22T06:51:36.600704Z",
     "shell.execute_reply": "2022-03-22T06:51:36.600478Z"
    },
    "papermill": {
     "duration": 0.031059,
     "end_time": "2022-03-22T06:51:36.600762",
     "exception": false,
     "start_time": "2022-03-22T06:51:36.569703",
     "status": "completed"
    },
    "tags": [
     "parameters"
    ]
   },
   "outputs": [],
   "source": [
    "\n",
    "\n",
    "standalone_parameters = {}\n",
    "standalone_parameters[\"experiment_name\"] = \"STANDALONE PTN\"\n",
    "standalone_parameters[\"lr\"] = 0.0001\n",
    "standalone_parameters[\"device\"] = \"cuda\"\n",
    "\n",
    "standalone_parameters[\"seed\"] = 1337\n",
    "standalone_parameters[\"dataset_seed\"] = 1337\n",
    "\n",
    "\n",
    "standalone_parameters[\"num_examples_per_domain_per_label_source\"]=100\n",
    "standalone_parameters[\"num_examples_per_domain_per_label_target\"]=100\n",
    "\n",
    "standalone_parameters[\"n_shot\"] = 3\n",
    "standalone_parameters[\"n_query\"]  = 2\n",
    "standalone_parameters[\"train_k_factor\"] = 1\n",
    "standalone_parameters[\"val_k_factor\"] = 2\n",
    "standalone_parameters[\"test_k_factor\"] = 2\n",
    "\n",
    "\n",
    "standalone_parameters[\"n_epoch\"] = 100\n",
    "\n",
    "standalone_parameters[\"patience\"] = 10\n",
    "standalone_parameters[\"criteria_for_best\"] = \"target_accuracy\"\n",
    "\n",
    "standalone_parameters[\"x_transforms_source\"] = [\"unit_power\"]\n",
    "standalone_parameters[\"x_transforms_target\"] = [\"unit_power\"]\n",
    "standalone_parameters[\"episode_transforms_source\"] = []\n",
    "standalone_parameters[\"episode_transforms_target\"] = []\n",
    "\n",
    "standalone_parameters[\"torch_default_dtype\"] = \"torch.float32\" \n",
    "\n",
    "\n",
    "\n",
    "standalone_parameters[\"x_net\"] =     [\n",
    "    {\"class\": \"nnReshape\", \"kargs\": {\"shape\":[-1, 1, 2, 256]}},\n",
    "    {\"class\": \"Conv2d\", \"kargs\": { \"in_channels\":1, \"out_channels\":256, \"kernel_size\":(1,7), \"bias\":False, \"padding\":(0,3), },},\n",
    "    {\"class\": \"ReLU\", \"kargs\": {\"inplace\": True}},\n",
    "    {\"class\": \"BatchNorm2d\", \"kargs\": {\"num_features\":256}},\n",
    "\n",
    "    {\"class\": \"Conv2d\", \"kargs\": { \"in_channels\":256, \"out_channels\":80, \"kernel_size\":(2,7), \"bias\":True, \"padding\":(0,3), },},\n",
    "    {\"class\": \"ReLU\", \"kargs\": {\"inplace\": True}},\n",
    "    {\"class\": \"BatchNorm2d\", \"kargs\": {\"num_features\":80}},\n",
    "    {\"class\": \"Flatten\", \"kargs\": {}},\n",
    "\n",
    "    {\"class\": \"Linear\", \"kargs\": {\"in_features\": 80*256, \"out_features\": 256}}, # 80 units per IQ pair\n",
    "    {\"class\": \"ReLU\", \"kargs\": {\"inplace\": True}},\n",
    "    {\"class\": \"BatchNorm1d\", \"kargs\": {\"num_features\":256}},\n",
    "\n",
    "    {\"class\": \"Linear\", \"kargs\": {\"in_features\": 256, \"out_features\": 256}},\n",
    "]\n",
    "\n",
    "# Parameters relevant to results\n",
    "# These parameters will basically never need to change\n",
    "standalone_parameters[\"NUM_LOGS_PER_EPOCH\"] = 10\n",
    "standalone_parameters[\"BEST_MODEL_PATH\"] = \"./best_model.pth\"\n",
    "\n",
    "# uncomment for CORES dataset\n",
    "from steves_utils.CORES.utils import (\n",
    "    ALL_NODES,\n",
    "    ALL_NODES_MINIMUM_1000_EXAMPLES,\n",
    "    ALL_DAYS\n",
    ")\n",
    "\n",
    "\n",
    "standalone_parameters[\"labels_source\"] = ALL_NODES\n",
    "standalone_parameters[\"labels_target\"] = ALL_NODES\n",
    "\n",
    "standalone_parameters[\"domains_source\"] = [1]\n",
    "standalone_parameters[\"domains_target\"] = [2,3,4,5]\n",
    "\n",
    "standalone_parameters[\"pickle_name\"] = \"cores.stratified_ds.2022A.pkl\"\n",
    "\n",
    "\n",
    "# Uncomment these for ORACLE dataset\n",
    "# from steves_utils.ORACLE.utils_v2 import (\n",
    "#     ALL_DISTANCES_FEET,\n",
    "#     ALL_RUNS,\n",
    "#     ALL_SERIAL_NUMBERS,\n",
    "# )\n",
    "# standalone_parameters[\"labels_source\"] = ALL_SERIAL_NUMBERS\n",
    "# standalone_parameters[\"labels_target\"] = ALL_SERIAL_NUMBERS\n",
    "# standalone_parameters[\"domains_source\"] = [8,20, 38,50]\n",
    "# standalone_parameters[\"domains_target\"] = [14, 26, 32, 44, 56]\n",
    "# standalone_parameters[\"pickle_name\"] = \"oracle.frame_indexed.stratified_ds.2022A.pkl\"\n",
    "# standalone_parameters[\"num_examples_per_domain_per_label_source\"]=1000\n",
    "# standalone_parameters[\"num_examples_per_domain_per_label_target\"]=1000\n",
    "\n",
    "# Uncomment these for Metahan dataset\n",
    "# standalone_parameters[\"labels_source\"] = list(range(19))\n",
    "# standalone_parameters[\"labels_target\"] = list(range(19))\n",
    "# standalone_parameters[\"domains_source\"] = [0]\n",
    "# standalone_parameters[\"domains_target\"] = [1]\n",
    "# standalone_parameters[\"pickle_name\"] = \"metehan.stratified_ds.2022A.pkl\"\n",
    "# standalone_parameters[\"n_way\"]  = len(standalone_parameters[\"labels_source\"])\n",
    "# standalone_parameters[\"num_examples_per_domain_per_label_source\"]=200\n",
    "# standalone_parameters[\"num_examples_per_domain_per_label_target\"]=100\n",
    "\n",
    "\n",
    "standalone_parameters[\"n_way\"]  = len(standalone_parameters[\"labels_source\"])"
   ]
  },
  {
   "cell_type": "code",
   "execution_count": 4,
   "id": "f3a3608c",
   "metadata": {
    "execution": {
     "iopub.execute_input": "2022-03-22T06:51:36.625985Z",
     "iopub.status.busy": "2022-03-22T06:51:36.625705Z",
     "iopub.status.idle": "2022-03-22T06:51:36.638969Z",
     "shell.execute_reply": "2022-03-22T06:51:36.639162Z"
    },
    "papermill": {
     "duration": 0.029032,
     "end_time": "2022-03-22T06:51:36.639248",
     "exception": false,
     "start_time": "2022-03-22T06:51:36.610216",
     "status": "completed"
    },
    "tags": [
     "injected-parameters"
    ]
   },
   "outputs": [],
   "source": [
    "# Parameters\n",
    "parameters = {\n",
    "    \"experiment_name\": \"tuned_1v2:oracle.run1\",\n",
    "    \"device\": \"cuda\",\n",
    "    \"lr\": 0.0001,\n",
    "    \"labels_source\": [\n",
    "        \"3123D52\",\n",
    "        \"3123D65\",\n",
    "        \"3123D79\",\n",
    "        \"3123D80\",\n",
    "        \"3123D54\",\n",
    "        \"3123D70\",\n",
    "        \"3123D7B\",\n",
    "        \"3123D89\",\n",
    "        \"3123D58\",\n",
    "        \"3123D76\",\n",
    "        \"3123D7D\",\n",
    "        \"3123EFE\",\n",
    "        \"3123D64\",\n",
    "        \"3123D78\",\n",
    "        \"3123D7E\",\n",
    "        \"3124E4A\",\n",
    "    ],\n",
    "    \"labels_target\": [\n",
    "        \"3123D52\",\n",
    "        \"3123D65\",\n",
    "        \"3123D79\",\n",
    "        \"3123D80\",\n",
    "        \"3123D54\",\n",
    "        \"3123D70\",\n",
    "        \"3123D7B\",\n",
    "        \"3123D89\",\n",
    "        \"3123D58\",\n",
    "        \"3123D76\",\n",
    "        \"3123D7D\",\n",
    "        \"3123EFE\",\n",
    "        \"3123D64\",\n",
    "        \"3123D78\",\n",
    "        \"3123D7E\",\n",
    "        \"3124E4A\",\n",
    "    ],\n",
    "    \"episode_transforms_source\": [],\n",
    "    \"episode_transforms_target\": [],\n",
    "    \"domains_source\": [8, 32, 50],\n",
    "    \"domains_target\": [14, 20, 26, 38, 44],\n",
    "    \"num_examples_per_domain_per_label_source\": -1,\n",
    "    \"num_examples_per_domain_per_label_target\": -1,\n",
    "    \"n_shot\": 3,\n",
    "    \"n_way\": 16,\n",
    "    \"n_query\": 2,\n",
    "    \"train_k_factor\": 3,\n",
    "    \"val_k_factor\": 2,\n",
    "    \"test_k_factor\": 2,\n",
    "    \"torch_default_dtype\": \"torch.float32\",\n",
    "    \"n_epoch\": 50,\n",
    "    \"patience\": 3,\n",
    "    \"criteria_for_best\": \"target_accuracy\",\n",
    "    \"x_net\": [\n",
    "        {\"class\": \"nnReshape\", \"kargs\": {\"shape\": [-1, 1, 2, 256]}},\n",
    "        {\n",
    "            \"class\": \"Conv2d\",\n",
    "            \"kargs\": {\n",
    "                \"in_channels\": 1,\n",
    "                \"out_channels\": 256,\n",
    "                \"kernel_size\": [1, 7],\n",
    "                \"bias\": False,\n",
    "                \"padding\": [0, 3],\n",
    "            },\n",
    "        },\n",
    "        {\"class\": \"ReLU\", \"kargs\": {\"inplace\": True}},\n",
    "        {\"class\": \"BatchNorm2d\", \"kargs\": {\"num_features\": 256}},\n",
    "        {\n",
    "            \"class\": \"Conv2d\",\n",
    "            \"kargs\": {\n",
    "                \"in_channels\": 256,\n",
    "                \"out_channels\": 80,\n",
    "                \"kernel_size\": [2, 7],\n",
    "                \"bias\": True,\n",
    "                \"padding\": [0, 3],\n",
    "            },\n",
    "        },\n",
    "        {\"class\": \"ReLU\", \"kargs\": {\"inplace\": True}},\n",
    "        {\"class\": \"BatchNorm2d\", \"kargs\": {\"num_features\": 80}},\n",
    "        {\"class\": \"Flatten\", \"kargs\": {}},\n",
    "        {\"class\": \"Linear\", \"kargs\": {\"in_features\": 20480, \"out_features\": 256}},\n",
    "        {\"class\": \"ReLU\", \"kargs\": {\"inplace\": True}},\n",
    "        {\"class\": \"BatchNorm1d\", \"kargs\": {\"num_features\": 256}},\n",
    "        {\"class\": \"Linear\", \"kargs\": {\"in_features\": 256, \"out_features\": 256}},\n",
    "    ],\n",
    "    \"NUM_LOGS_PER_EPOCH\": 10,\n",
    "    \"BEST_MODEL_PATH\": \"./best_model.pth\",\n",
    "    \"pickle_name\": \"oracle.Run1_10kExamples_stratified_ds.2022A.pkl\",\n",
    "    \"x_transforms_source\": [],\n",
    "    \"x_transforms_target\": [],\n",
    "    \"dataset_seed\": 420,\n",
    "    \"seed\": 420,\n",
    "}\n"
   ]
  },
  {
   "cell_type": "code",
   "execution_count": 5,
   "id": "8fa1cc33",
   "metadata": {
    "execution": {
     "iopub.execute_input": "2022-03-22T06:51:36.665317Z",
     "iopub.status.busy": "2022-03-22T06:51:36.664947Z",
     "iopub.status.idle": "2022-03-22T06:51:36.678462Z",
     "shell.execute_reply": "2022-03-22T06:51:36.678161Z"
    },
    "papermill": {
     "duration": 0.025852,
     "end_time": "2022-03-22T06:51:36.678541",
     "exception": false,
     "start_time": "2022-03-22T06:51:36.652689",
     "status": "completed"
    },
    "tags": []
   },
   "outputs": [],
   "source": [
    "# Set this to True if you want to run this template directly\n",
    "STANDALONE = False\n",
    "if STANDALONE:\n",
    "    print(\"parameters not injected, running with standalone_parameters\")\n",
    "    parameters = standalone_parameters\n",
    "\n",
    "if not 'parameters' in locals() and not 'parameters' in globals():\n",
    "    raise Exception(\"Parameter injection failed\")\n",
    "\n",
    "#Use an easy dict for all the parameters\n",
    "p = EasyDict(parameters)\n",
    "\n",
    "supplied_keys = set(p.keys())\n",
    "\n",
    "if  supplied_keys != required_parameters:\n",
    "    print(\"Parameters are incorrect\")\n",
    "    if len(supplied_keys - required_parameters)>0: print(\"Shouldn't have:\", str(supplied_keys - required_parameters))\n",
    "    if len(required_parameters - supplied_keys)>0: print(\"Need to have:\", str(required_parameters - supplied_keys))\n",
    "    raise RuntimeError(\"Parameters are incorrect\")\n",
    "\n"
   ]
  },
  {
   "cell_type": "code",
   "execution_count": 6,
   "id": "3a028d58",
   "metadata": {
    "execution": {
     "iopub.execute_input": "2022-03-22T06:51:36.703982Z",
     "iopub.status.busy": "2022-03-22T06:51:36.703730Z",
     "iopub.status.idle": "2022-03-22T06:51:36.716195Z",
     "shell.execute_reply": "2022-03-22T06:51:36.716476Z"
    },
    "papermill": {
     "duration": 0.024145,
     "end_time": "2022-03-22T06:51:36.716570",
     "exception": false,
     "start_time": "2022-03-22T06:51:36.692425",
     "status": "completed"
    },
    "tags": []
   },
   "outputs": [],
   "source": [
    "###################################\n",
    "# Set the RNGs and make it all deterministic\n",
    "###################################\n",
    "np.random.seed(p.seed)\n",
    "random.seed(p.seed)\n",
    "torch.manual_seed(p.seed)\n",
    "\n",
    "torch.use_deterministic_algorithms(True) "
   ]
  },
  {
   "cell_type": "code",
   "execution_count": 7,
   "id": "b691acf6",
   "metadata": {
    "execution": {
     "iopub.execute_input": "2022-03-22T06:51:36.743089Z",
     "iopub.status.busy": "2022-03-22T06:51:36.742828Z",
     "iopub.status.idle": "2022-03-22T06:51:36.756644Z",
     "shell.execute_reply": "2022-03-22T06:51:36.756283Z"
    },
    "papermill": {
     "duration": 0.025091,
     "end_time": "2022-03-22T06:51:36.756718",
     "exception": false,
     "start_time": "2022-03-22T06:51:36.731627",
     "status": "completed"
    },
    "tags": []
   },
   "outputs": [],
   "source": [
    "###########################################\n",
    "# The stratified datasets honor this\n",
    "###########################################\n",
    "torch.set_default_dtype(eval(p.torch_default_dtype))"
   ]
  },
  {
   "cell_type": "code",
   "execution_count": 8,
   "id": "b5fba671",
   "metadata": {
    "execution": {
     "iopub.execute_input": "2022-03-22T06:51:36.783423Z",
     "iopub.status.busy": "2022-03-22T06:51:36.783156Z",
     "iopub.status.idle": "2022-03-22T06:51:36.822874Z",
     "shell.execute_reply": "2022-03-22T06:51:36.823265Z"
    },
    "papermill": {
     "duration": 0.051578,
     "end_time": "2022-03-22T06:51:36.823397",
     "exception": false,
     "start_time": "2022-03-22T06:51:36.771819",
     "status": "completed"
    },
    "tags": []
   },
   "outputs": [],
   "source": [
    "###################################\n",
    "# Build the network(s)\n",
    "# Note: It's critical to do this AFTER setting the RNG\n",
    "# (This is due to the randomized initial weights)\n",
    "###################################\n",
    "x_net = build_sequential(p.x_net)"
   ]
  },
  {
   "cell_type": "code",
   "execution_count": 9,
   "id": "5d7e61cc",
   "metadata": {
    "execution": {
     "iopub.execute_input": "2022-03-22T06:51:36.849146Z",
     "iopub.status.busy": "2022-03-22T06:51:36.848884Z",
     "iopub.status.idle": "2022-03-22T06:51:36.862339Z",
     "shell.execute_reply": "2022-03-22T06:51:36.862120Z"
    },
    "papermill": {
     "duration": 0.025101,
     "end_time": "2022-03-22T06:51:36.862424",
     "exception": false,
     "start_time": "2022-03-22T06:51:36.837323",
     "status": "completed"
    },
    "tags": []
   },
   "outputs": [],
   "source": [
    "start_time_secs = time.time()"
   ]
  },
  {
   "cell_type": "code",
   "execution_count": 10,
   "id": "fd5442bc",
   "metadata": {
    "execution": {
     "iopub.execute_input": "2022-03-22T06:51:36.891921Z",
     "iopub.status.busy": "2022-03-22T06:51:36.891637Z",
     "iopub.status.idle": "2022-03-22T06:51:44.598461Z",
     "shell.execute_reply": "2022-03-22T06:51:44.598030Z"
    },
    "papermill": {
     "duration": 7.72158,
     "end_time": "2022-03-22T06:51:44.598572",
     "exception": false,
     "start_time": "2022-03-22T06:51:36.876992",
     "status": "completed"
    },
    "tags": []
   },
   "outputs": [],
   "source": [
    "###################################\n",
    "# Build the dataset\n",
    "###################################\n",
    "\n",
    "if p.x_transforms_source == []: x_transform_source = None\n",
    "else: x_transform_source = get_chained_transform(p.x_transforms_source) \n",
    "\n",
    "if p.x_transforms_target == []: x_transform_target = None\n",
    "else: x_transform_target = get_chained_transform(p.x_transforms_target)\n",
    "\n",
    "if p.episode_transforms_source == []: episode_transform_source = None\n",
    "else: raise Exception(\"episode_transform_source not implemented\")\n",
    "\n",
    "if p.episode_transforms_target == []: episode_transform_target = None\n",
    "else: raise Exception(\"episode_transform_target not implemented\")\n",
    "\n",
    "\n",
    "eaf_source = Episodic_Accessor_Factory(\n",
    "    labels=p.labels_source,\n",
    "    domains=p.domains_source,\n",
    "    num_examples_per_domain_per_label=p.num_examples_per_domain_per_label_source,\n",
    "    iterator_seed=p.seed,\n",
    "    dataset_seed=p.dataset_seed,\n",
    "    n_shot=p.n_shot,\n",
    "    n_way=p.n_way,\n",
    "    n_query=p.n_query,\n",
    "    train_val_test_k_factors=(p.train_k_factor,p.val_k_factor,p.test_k_factor),\n",
    "    pickle_path=os.path.join(get_datasets_base_path(), p.pickle_name),\n",
    "    x_transform_func=x_transform_source,\n",
    "    example_transform_func=episode_transform_source,\n",
    "    \n",
    ")\n",
    "train_original_source, val_original_source, test_original_source = eaf_source.get_train(), eaf_source.get_val(), eaf_source.get_test()\n",
    "\n",
    "\n",
    "eaf_target = Episodic_Accessor_Factory(\n",
    "    labels=p.labels_target,\n",
    "    domains=p.domains_target,\n",
    "    num_examples_per_domain_per_label=p.num_examples_per_domain_per_label_target,\n",
    "    iterator_seed=p.seed,\n",
    "    dataset_seed=p.dataset_seed,\n",
    "    n_shot=p.n_shot,\n",
    "    n_way=p.n_way,\n",
    "    n_query=p.n_query,\n",
    "    train_val_test_k_factors=(p.train_k_factor,p.val_k_factor,p.test_k_factor),\n",
    "    pickle_path=os.path.join(get_datasets_base_path(), p.pickle_name),\n",
    "    x_transform_func=x_transform_target,\n",
    "    example_transform_func=episode_transform_target,\n",
    ")\n",
    "train_original_target, val_original_target, test_original_target = eaf_target.get_train(), eaf_target.get_val(), eaf_target.get_test()\n",
    "\n",
    "\n",
    "transform_lambda = lambda ex: ex[1] # Original is (<domain>, <episode>) so we strip down to episode only\n",
    "\n",
    "train_processed_source = Lazy_Iterable_Wrapper(train_original_source, transform_lambda)\n",
    "val_processed_source   = Lazy_Iterable_Wrapper(val_original_source, transform_lambda)\n",
    "test_processed_source  = Lazy_Iterable_Wrapper(test_original_source, transform_lambda)\n",
    "\n",
    "train_processed_target = Lazy_Iterable_Wrapper(train_original_target, transform_lambda)\n",
    "val_processed_target   = Lazy_Iterable_Wrapper(val_original_target, transform_lambda)\n",
    "test_processed_target  = Lazy_Iterable_Wrapper(test_original_target, transform_lambda)\n",
    "\n",
    "datasets = EasyDict({\n",
    "    \"source\": {\n",
    "        \"original\": {\"train\":train_original_source, \"val\":val_original_source, \"test\":test_original_source},\n",
    "        \"processed\": {\"train\":train_processed_source, \"val\":val_processed_source, \"test\":test_processed_source}\n",
    "    },\n",
    "    \"target\": {\n",
    "        \"original\": {\"train\":train_original_target, \"val\":val_original_target, \"test\":test_original_target},\n",
    "        \"processed\": {\"train\":train_processed_target, \"val\":val_processed_target, \"test\":test_processed_target}\n",
    "    },\n",
    "})"
   ]
  },
  {
   "cell_type": "code",
   "execution_count": 11,
   "id": "296189d9",
   "metadata": {
    "execution": {
     "iopub.execute_input": "2022-03-22T06:51:44.625713Z",
     "iopub.status.busy": "2022-03-22T06:51:44.625447Z",
     "iopub.status.idle": "2022-03-22T06:51:46.512556Z",
     "shell.execute_reply": "2022-03-22T06:51:46.513049Z"
    },
    "papermill": {
     "duration": 1.900258,
     "end_time": "2022-03-22T06:51:46.513183",
     "exception": false,
     "start_time": "2022-03-22T06:51:44.612925",
     "status": "completed"
    },
    "tags": []
   },
   "outputs": [
    {
     "name": "stdout",
     "output_type": "stream",
     "text": [
      "Visually inspect these to see if they line up with expected values given the transforms\n",
      "x_transforms_source []\n",
      "x_transforms_target []\n",
      "Average magnitude, source: 0.004945109\n",
      "Average power, source: 2.944158e-05\n"
     ]
    },
    {
     "name": "stdout",
     "output_type": "stream",
     "text": [
      "Average magnitude, target: 0.0050778193\n",
      "Average power, target: 3.335888e-05\n"
     ]
    }
   ],
   "source": [
    "# Some quick unit tests on the data\n",
    "from steves_utils.transforms import get_average_power, get_average_magnitude\n",
    "\n",
    "q_x, q_y, s_x, s_y, truth = next(iter(train_processed_source))\n",
    "\n",
    "assert q_x.dtype == eval(p.torch_default_dtype)\n",
    "assert s_x.dtype == eval(p.torch_default_dtype)\n",
    "\n",
    "print(\"Visually inspect these to see if they line up with expected values given the transforms\")\n",
    "print('x_transforms_source', p.x_transforms_source)\n",
    "print('x_transforms_target', p.x_transforms_target)\n",
    "print(\"Average magnitude, source:\", get_average_magnitude(q_x[0].numpy()))\n",
    "print(\"Average power, source:\", get_average_power(q_x[0].numpy()))\n",
    "\n",
    "q_x, q_y, s_x, s_y, truth = next(iter(train_processed_target))\n",
    "print(\"Average magnitude, target:\", get_average_magnitude(q_x[0].numpy()))\n",
    "print(\"Average power, target:\", get_average_power(q_x[0].numpy()))\n"
   ]
  },
  {
   "cell_type": "code",
   "execution_count": 12,
   "id": "bbdacba1",
   "metadata": {
    "execution": {
     "iopub.execute_input": "2022-03-22T06:51:46.543993Z",
     "iopub.status.busy": "2022-03-22T06:51:46.543730Z",
     "iopub.status.idle": "2022-03-22T06:51:46.610960Z",
     "shell.execute_reply": "2022-03-22T06:51:46.611168Z"
    },
    "papermill": {
     "duration": 0.081395,
     "end_time": "2022-03-22T06:51:46.611249",
     "exception": false,
     "start_time": "2022-03-22T06:51:46.529854",
     "status": "completed"
    },
    "tags": []
   },
   "outputs": [
    {
     "name": "stdout",
     "output_type": "stream",
     "text": [
      "(2, 256)\n"
     ]
    }
   ],
   "source": [
    "###################################\n",
    "# Build the model\n",
    "###################################\n",
    "model = Steves_Prototypical_Network(x_net, device=p.device, x_shape=(2,256))\n",
    "optimizer = Adam(params=model.parameters(), lr=p.lr)"
   ]
  },
  {
   "cell_type": "code",
   "execution_count": 13,
   "id": "22b39ac5",
   "metadata": {
    "execution": {
     "iopub.execute_input": "2022-03-22T06:51:46.635343Z",
     "iopub.status.busy": "2022-03-22T06:51:46.635061Z",
     "iopub.status.idle": "2022-03-22T07:44:20.789635Z",
     "shell.execute_reply": "2022-03-22T07:44:20.789403Z"
    },
    "papermill": {
     "duration": 3154.167864,
     "end_time": "2022-03-22T07:44:20.789692",
     "exception": false,
     "start_time": "2022-03-22T06:51:46.621828",
     "status": "completed"
    },
    "tags": []
   },
   "outputs": [
    {
     "name": "stdout",
     "output_type": "stream",
     "text": [
      "epoch: 1, [batch: 1 / 12600], examples_per_second: 26.8731, train_label_loss: 2.7338, \n"
     ]
    },
    {
     "name": "stdout",
     "output_type": "stream",
     "text": [
      "epoch: 1, [batch: 1260 / 12600], examples_per_second: 3227.8150, train_label_loss: 1.2810, \n"
     ]
    },
    {
     "name": "stdout",
     "output_type": "stream",
     "text": [
      "epoch: 1, [batch: 2520 / 12600], examples_per_second: 3219.0940, train_label_loss: 0.3890, \n"
     ]
    },
    {
     "name": "stdout",
     "output_type": "stream",
     "text": [
      "epoch: 1, [batch: 3780 / 12600], examples_per_second: 3208.5046, train_label_loss: 0.6412, \n"
     ]
    },
    {
     "name": "stdout",
     "output_type": "stream",
     "text": [
      "epoch: 1, [batch: 5040 / 12600], examples_per_second: 3199.6768, train_label_loss: 0.7196, \n"
     ]
    },
    {
     "name": "stdout",
     "output_type": "stream",
     "text": [
      "epoch: 1, [batch: 6300 / 12600], examples_per_second: 3211.5105, train_label_loss: 0.5964, \n"
     ]
    },
    {
     "name": "stdout",
     "output_type": "stream",
     "text": [
      "epoch: 1, [batch: 7560 / 12600], examples_per_second: 3211.3633, train_label_loss: 0.4916, \n"
     ]
    },
    {
     "name": "stdout",
     "output_type": "stream",
     "text": [
      "epoch: 1, [batch: 8820 / 12600], examples_per_second: 3202.8488, train_label_loss: 0.4826, \n"
     ]
    },
    {
     "name": "stdout",
     "output_type": "stream",
     "text": [
      "epoch: 1, [batch: 10080 / 12600], examples_per_second: 3212.0491, train_label_loss: 0.3154, \n"
     ]
    },
    {
     "name": "stdout",
     "output_type": "stream",
     "text": [
      "epoch: 1, [batch: 11340 / 12600], examples_per_second: 3213.6701, train_label_loss: 0.3235, \n"
     ]
    },
    {
     "name": "stdout",
     "output_type": "stream",
     "text": [
      "=============================================================\n",
      "epoch: 1, source_val_acc_label: 0.7520, target_val_acc_label: 0.6983, source_val_label_loss: 0.8975, target_val_label_loss: 1.0772, \n",
      "=============================================================\n"
     ]
    },
    {
     "name": "stdout",
     "output_type": "stream",
     "text": [
      "New best\n"
     ]
    },
    {
     "name": "stdout",
     "output_type": "stream",
     "text": [
      "epoch: 2, [batch: 1 / 12600], examples_per_second: 2.2643, train_label_loss: 0.9040, \n"
     ]
    },
    {
     "name": "stdout",
     "output_type": "stream",
     "text": [
      "epoch: 2, [batch: 1260 / 12600], examples_per_second: 3238.1227, train_label_loss: 0.8816, \n"
     ]
    },
    {
     "name": "stdout",
     "output_type": "stream",
     "text": [
      "epoch: 2, [batch: 2520 / 12600], examples_per_second: 3250.1699, train_label_loss: 0.3172, \n"
     ]
    },
    {
     "name": "stdout",
     "output_type": "stream",
     "text": [
      "epoch: 2, [batch: 3780 / 12600], examples_per_second: 3255.7167, train_label_loss: 1.1581, \n"
     ]
    },
    {
     "name": "stdout",
     "output_type": "stream",
     "text": [
      "epoch: 2, [batch: 5040 / 12600], examples_per_second: 3224.6995, train_label_loss: 0.3983, \n"
     ]
    },
    {
     "name": "stdout",
     "output_type": "stream",
     "text": [
      "epoch: 2, [batch: 6300 / 12600], examples_per_second: 3216.4194, train_label_loss: 0.2876, \n"
     ]
    },
    {
     "name": "stdout",
     "output_type": "stream",
     "text": [
      "epoch: 2, [batch: 7560 / 12600], examples_per_second: 3240.5909, train_label_loss: 0.7383, \n"
     ]
    },
    {
     "name": "stdout",
     "output_type": "stream",
     "text": [
      "epoch: 2, [batch: 8820 / 12600], examples_per_second: 3237.0180, train_label_loss: 0.4407, \n"
     ]
    },
    {
     "name": "stdout",
     "output_type": "stream",
     "text": [
      "epoch: 2, [batch: 10080 / 12600], examples_per_second: 3239.7276, train_label_loss: 0.4497, \n"
     ]
    },
    {
     "name": "stdout",
     "output_type": "stream",
     "text": [
      "epoch: 2, [batch: 11340 / 12600], examples_per_second: 3240.0789, train_label_loss: 0.4613, \n"
     ]
    },
    {
     "name": "stdout",
     "output_type": "stream",
     "text": [
      "=============================================================\n",
      "epoch: 2, source_val_acc_label: 0.8423, target_val_acc_label: 0.7480, source_val_label_loss: 0.4308, target_val_label_loss: 0.7565, \n",
      "=============================================================\n"
     ]
    },
    {
     "name": "stdout",
     "output_type": "stream",
     "text": [
      "New best\n"
     ]
    },
    {
     "name": "stdout",
     "output_type": "stream",
     "text": [
      "epoch: 3, [batch: 1 / 12600], examples_per_second: 2.2874, train_label_loss: 0.3102, \n"
     ]
    },
    {
     "name": "stdout",
     "output_type": "stream",
     "text": [
      "epoch: 3, [batch: 1260 / 12600], examples_per_second: 3229.8459, train_label_loss: 0.6397, \n"
     ]
    },
    {
     "name": "stdout",
     "output_type": "stream",
     "text": [
      "epoch: 3, [batch: 2520 / 12600], examples_per_second: 3235.1307, train_label_loss: 0.4829, \n"
     ]
    },
    {
     "name": "stdout",
     "output_type": "stream",
     "text": [
      "epoch: 3, [batch: 3780 / 12600], examples_per_second: 3234.9681, train_label_loss: 0.5220, \n"
     ]
    },
    {
     "name": "stdout",
     "output_type": "stream",
     "text": [
      "epoch: 3, [batch: 5040 / 12600], examples_per_second: 3230.6452, train_label_loss: 0.2242, \n"
     ]
    },
    {
     "name": "stdout",
     "output_type": "stream",
     "text": [
      "epoch: 3, [batch: 6300 / 12600], examples_per_second: 3257.4410, train_label_loss: 0.4231, \n"
     ]
    },
    {
     "name": "stdout",
     "output_type": "stream",
     "text": [
      "epoch: 3, [batch: 7560 / 12600], examples_per_second: 3241.1292, train_label_loss: 0.3984, \n"
     ]
    },
    {
     "name": "stdout",
     "output_type": "stream",
     "text": [
      "epoch: 3, [batch: 8820 / 12600], examples_per_second: 3232.3186, train_label_loss: 0.1894, \n"
     ]
    },
    {
     "name": "stdout",
     "output_type": "stream",
     "text": [
      "epoch: 3, [batch: 10080 / 12600], examples_per_second: 3246.4076, train_label_loss: 0.3280, \n"
     ]
    },
    {
     "name": "stdout",
     "output_type": "stream",
     "text": [
      "epoch: 3, [batch: 11340 / 12600], examples_per_second: 3246.8701, train_label_loss: 0.2410, \n"
     ]
    },
    {
     "name": "stdout",
     "output_type": "stream",
     "text": [
      "=============================================================\n",
      "epoch: 3, source_val_acc_label: 0.8675, target_val_acc_label: 0.7700, source_val_label_loss: 0.3684, target_val_label_loss: 0.7480, \n",
      "=============================================================\n"
     ]
    },
    {
     "name": "stdout",
     "output_type": "stream",
     "text": [
      "New best\n"
     ]
    },
    {
     "name": "stdout",
     "output_type": "stream",
     "text": [
      "epoch: 4, [batch: 1 / 12600], examples_per_second: 2.2887, train_label_loss: 0.3483, \n"
     ]
    },
    {
     "name": "stdout",
     "output_type": "stream",
     "text": [
      "epoch: 4, [batch: 1260 / 12600], examples_per_second: 3218.0551, train_label_loss: 0.2523, \n"
     ]
    },
    {
     "name": "stdout",
     "output_type": "stream",
     "text": [
      "epoch: 4, [batch: 2520 / 12600], examples_per_second: 3245.0297, train_label_loss: 0.2838, \n"
     ]
    },
    {
     "name": "stdout",
     "output_type": "stream",
     "text": [
      "epoch: 4, [batch: 3780 / 12600], examples_per_second: 3243.0965, train_label_loss: 0.2950, \n"
     ]
    },
    {
     "name": "stdout",
     "output_type": "stream",
     "text": [
      "epoch: 4, [batch: 5040 / 12600], examples_per_second: 3229.6446, train_label_loss: 0.2293, \n"
     ]
    },
    {
     "name": "stdout",
     "output_type": "stream",
     "text": [
      "epoch: 4, [batch: 6300 / 12600], examples_per_second: 3239.9928, train_label_loss: 0.2154, \n"
     ]
    },
    {
     "name": "stdout",
     "output_type": "stream",
     "text": [
      "epoch: 4, [batch: 7560 / 12600], examples_per_second: 3251.5321, train_label_loss: 0.4597, \n"
     ]
    },
    {
     "name": "stdout",
     "output_type": "stream",
     "text": [
      "epoch: 4, [batch: 8820 / 12600], examples_per_second: 3228.6178, train_label_loss: 0.2161, \n"
     ]
    },
    {
     "name": "stdout",
     "output_type": "stream",
     "text": [
      "epoch: 4, [batch: 10080 / 12600], examples_per_second: 3241.1245, train_label_loss: 0.5223, \n"
     ]
    },
    {
     "name": "stdout",
     "output_type": "stream",
     "text": [
      "epoch: 4, [batch: 11340 / 12600], examples_per_second: 3248.1120, train_label_loss: 0.1762, \n"
     ]
    },
    {
     "name": "stdout",
     "output_type": "stream",
     "text": [
      "=============================================================\n",
      "epoch: 4, source_val_acc_label: 0.8725, target_val_acc_label: 0.7717, source_val_label_loss: 0.3640, target_val_label_loss: 0.7458, \n",
      "=============================================================\n"
     ]
    },
    {
     "name": "stdout",
     "output_type": "stream",
     "text": [
      "New best\n"
     ]
    },
    {
     "name": "stdout",
     "output_type": "stream",
     "text": [
      "epoch: 5, [batch: 1 / 12600], examples_per_second: 2.2800, train_label_loss: 0.3324, \n"
     ]
    },
    {
     "name": "stdout",
     "output_type": "stream",
     "text": [
      "epoch: 5, [batch: 1260 / 12600], examples_per_second: 3222.2847, train_label_loss: 0.2742, \n"
     ]
    },
    {
     "name": "stdout",
     "output_type": "stream",
     "text": [
      "epoch: 5, [batch: 2520 / 12600], examples_per_second: 3241.8113, train_label_loss: 0.1685, \n"
     ]
    },
    {
     "name": "stdout",
     "output_type": "stream",
     "text": [
      "epoch: 5, [batch: 3780 / 12600], examples_per_second: 3235.4565, train_label_loss: 0.3017, \n"
     ]
    },
    {
     "name": "stdout",
     "output_type": "stream",
     "text": [
      "epoch: 5, [batch: 5040 / 12600], examples_per_second: 3239.9393, train_label_loss: 0.1344, \n"
     ]
    },
    {
     "name": "stdout",
     "output_type": "stream",
     "text": [
      "epoch: 5, [batch: 6300 / 12600], examples_per_second: 3242.9686, train_label_loss: 0.2476, \n"
     ]
    },
    {
     "name": "stdout",
     "output_type": "stream",
     "text": [
      "epoch: 5, [batch: 7560 / 12600], examples_per_second: 3229.3292, train_label_loss: 0.0760, \n"
     ]
    },
    {
     "name": "stdout",
     "output_type": "stream",
     "text": [
      "epoch: 5, [batch: 8820 / 12600], examples_per_second: 3233.6777, train_label_loss: 0.1737, \n"
     ]
    },
    {
     "name": "stdout",
     "output_type": "stream",
     "text": [
      "epoch: 5, [batch: 10080 / 12600], examples_per_second: 3236.8154, train_label_loss: 0.3030, \n"
     ]
    },
    {
     "name": "stdout",
     "output_type": "stream",
     "text": [
      "epoch: 5, [batch: 11340 / 12600], examples_per_second: 3247.1222, train_label_loss: 0.2149, \n"
     ]
    },
    {
     "name": "stdout",
     "output_type": "stream",
     "text": [
      "=============================================================\n",
      "epoch: 5, source_val_acc_label: 0.8750, target_val_acc_label: 0.7718, source_val_label_loss: 0.3662, target_val_label_loss: 0.7653, \n",
      "=============================================================\n"
     ]
    },
    {
     "name": "stdout",
     "output_type": "stream",
     "text": [
      "New best\n"
     ]
    },
    {
     "name": "stdout",
     "output_type": "stream",
     "text": [
      "epoch: 6, [batch: 1 / 12600], examples_per_second: 2.2880, train_label_loss: 0.3903, \n"
     ]
    },
    {
     "name": "stdout",
     "output_type": "stream",
     "text": [
      "epoch: 6, [batch: 1260 / 12600], examples_per_second: 3229.2311, train_label_loss: 0.3507, \n"
     ]
    },
    {
     "name": "stdout",
     "output_type": "stream",
     "text": [
      "epoch: 6, [batch: 2520 / 12600], examples_per_second: 3226.9135, train_label_loss: 0.3739, \n"
     ]
    },
    {
     "name": "stdout",
     "output_type": "stream",
     "text": [
      "epoch: 6, [batch: 3780 / 12600], examples_per_second: 3238.3446, train_label_loss: 0.3460, \n"
     ]
    },
    {
     "name": "stdout",
     "output_type": "stream",
     "text": [
      "epoch: 6, [batch: 5040 / 12600], examples_per_second: 3224.6346, train_label_loss: 0.3367, \n"
     ]
    },
    {
     "name": "stdout",
     "output_type": "stream",
     "text": [
      "epoch: 6, [batch: 6300 / 12600], examples_per_second: 3236.6939, train_label_loss: 0.3840, \n"
     ]
    },
    {
     "name": "stdout",
     "output_type": "stream",
     "text": [
      "epoch: 6, [batch: 7560 / 12600], examples_per_second: 3241.6300, train_label_loss: 0.3064, \n"
     ]
    },
    {
     "name": "stdout",
     "output_type": "stream",
     "text": [
      "epoch: 6, [batch: 8820 / 12600], examples_per_second: 3230.1528, train_label_loss: 0.1861, \n"
     ]
    },
    {
     "name": "stdout",
     "output_type": "stream",
     "text": [
      "epoch: 6, [batch: 10080 / 12600], examples_per_second: 3245.8269, train_label_loss: 0.2190, \n"
     ]
    },
    {
     "name": "stdout",
     "output_type": "stream",
     "text": [
      "epoch: 6, [batch: 11340 / 12600], examples_per_second: 3243.0717, train_label_loss: 0.2839, \n"
     ]
    },
    {
     "name": "stdout",
     "output_type": "stream",
     "text": [
      "=============================================================\n",
      "epoch: 6, source_val_acc_label: 0.8767, target_val_acc_label: 0.7682, source_val_label_loss: 0.3578, target_val_label_loss: 0.7555, \n",
      "=============================================================\n"
     ]
    },
    {
     "name": "stdout",
     "output_type": "stream",
     "text": [
      "epoch: 7, [batch: 1 / 12600], examples_per_second: 2.2900, train_label_loss: 0.1424, \n"
     ]
    },
    {
     "name": "stdout",
     "output_type": "stream",
     "text": [
      "epoch: 7, [batch: 1260 / 12600], examples_per_second: 3243.9497, train_label_loss: 0.1225, \n"
     ]
    },
    {
     "name": "stdout",
     "output_type": "stream",
     "text": [
      "epoch: 7, [batch: 2520 / 12600], examples_per_second: 3240.4664, train_label_loss: 0.3765, \n"
     ]
    },
    {
     "name": "stdout",
     "output_type": "stream",
     "text": [
      "epoch: 7, [batch: 3780 / 12600], examples_per_second: 3261.2409, train_label_loss: 0.0804, \n"
     ]
    },
    {
     "name": "stdout",
     "output_type": "stream",
     "text": [
      "epoch: 7, [batch: 5040 / 12600], examples_per_second: 3229.1079, train_label_loss: 0.0132, \n"
     ]
    },
    {
     "name": "stdout",
     "output_type": "stream",
     "text": [
      "epoch: 7, [batch: 6300 / 12600], examples_per_second: 3232.2735, train_label_loss: 0.3651, \n"
     ]
    },
    {
     "name": "stdout",
     "output_type": "stream",
     "text": [
      "epoch: 7, [batch: 7560 / 12600], examples_per_second: 3252.9981, train_label_loss: 0.1888, \n"
     ]
    },
    {
     "name": "stdout",
     "output_type": "stream",
     "text": [
      "epoch: 7, [batch: 8820 / 12600], examples_per_second: 3232.6208, train_label_loss: 0.2735, \n"
     ]
    },
    {
     "name": "stdout",
     "output_type": "stream",
     "text": [
      "epoch: 7, [batch: 10080 / 12600], examples_per_second: 3239.0499, train_label_loss: 0.3718, \n"
     ]
    },
    {
     "name": "stdout",
     "output_type": "stream",
     "text": [
      "epoch: 7, [batch: 11340 / 12600], examples_per_second: 3253.6255, train_label_loss: 0.2771, \n"
     ]
    },
    {
     "name": "stdout",
     "output_type": "stream",
     "text": [
      "=============================================================\n",
      "epoch: 7, source_val_acc_label: 0.8764, target_val_acc_label: 0.7612, source_val_label_loss: 0.3573, target_val_label_loss: 0.7690, \n",
      "=============================================================\n"
     ]
    },
    {
     "name": "stdout",
     "output_type": "stream",
     "text": [
      "epoch: 8, [batch: 1 / 12600], examples_per_second: 2.2791, train_label_loss: 0.1802, \n"
     ]
    },
    {
     "name": "stdout",
     "output_type": "stream",
     "text": [
      "epoch: 8, [batch: 1260 / 12600], examples_per_second: 3238.3027, train_label_loss: 0.2139, \n"
     ]
    },
    {
     "name": "stdout",
     "output_type": "stream",
     "text": [
      "epoch: 8, [batch: 2520 / 12600], examples_per_second: 3239.5572, train_label_loss: 0.1054, \n"
     ]
    },
    {
     "name": "stdout",
     "output_type": "stream",
     "text": [
      "epoch: 8, [batch: 3780 / 12600], examples_per_second: 3256.7888, train_label_loss: 0.1817, \n"
     ]
    },
    {
     "name": "stdout",
     "output_type": "stream",
     "text": [
      "epoch: 8, [batch: 5040 / 12600], examples_per_second: 3222.1976, train_label_loss: 0.2351, \n"
     ]
    },
    {
     "name": "stdout",
     "output_type": "stream",
     "text": [
      "epoch: 8, [batch: 6300 / 12600], examples_per_second: 3223.7916, train_label_loss: 0.2064, \n"
     ]
    },
    {
     "name": "stdout",
     "output_type": "stream",
     "text": [
      "epoch: 8, [batch: 7560 / 12600], examples_per_second: 3246.6582, train_label_loss: 0.2452, \n"
     ]
    },
    {
     "name": "stdout",
     "output_type": "stream",
     "text": [
      "epoch: 8, [batch: 8820 / 12600], examples_per_second: 3234.7130, train_label_loss: 0.3734, \n"
     ]
    },
    {
     "name": "stdout",
     "output_type": "stream",
     "text": [
      "epoch: 8, [batch: 10080 / 12600], examples_per_second: 3238.0882, train_label_loss: 0.0840, \n"
     ]
    },
    {
     "name": "stdout",
     "output_type": "stream",
     "text": [
      "epoch: 8, [batch: 11340 / 12600], examples_per_second: 3229.4134, train_label_loss: 0.1671, \n"
     ]
    },
    {
     "name": "stdout",
     "output_type": "stream",
     "text": [
      "=============================================================\n",
      "epoch: 8, source_val_acc_label: 0.8802, target_val_acc_label: 0.7679, source_val_label_loss: 0.3514, target_val_label_loss: 0.7659, \n",
      "=============================================================\n"
     ]
    },
    {
     "name": "stdout",
     "output_type": "stream",
     "text": [
      "epoch: 9, [batch: 1 / 12600], examples_per_second: 2.2851, train_label_loss: 0.1761, \n"
     ]
    },
    {
     "name": "stdout",
     "output_type": "stream",
     "text": [
      "epoch: 9, [batch: 1260 / 12600], examples_per_second: 3232.5827, train_label_loss: 0.0719, \n"
     ]
    },
    {
     "name": "stdout",
     "output_type": "stream",
     "text": [
      "epoch: 9, [batch: 2520 / 12600], examples_per_second: 3226.8982, train_label_loss: 0.0303, \n"
     ]
    },
    {
     "name": "stdout",
     "output_type": "stream",
     "text": [
      "epoch: 9, [batch: 3780 / 12600], examples_per_second: 3250.2998, train_label_loss: 0.0309, \n"
     ]
    },
    {
     "name": "stdout",
     "output_type": "stream",
     "text": [
      "epoch: 9, [batch: 5040 / 12600], examples_per_second: 3235.1899, train_label_loss: 0.1461, \n"
     ]
    },
    {
     "name": "stdout",
     "output_type": "stream",
     "text": [
      "epoch: 9, [batch: 6300 / 12600], examples_per_second: 3242.1860, train_label_loss: 0.0282, \n"
     ]
    },
    {
     "name": "stdout",
     "output_type": "stream",
     "text": [
      "epoch: 9, [batch: 7560 / 12600], examples_per_second: 3240.7497, train_label_loss: 0.0971, \n"
     ]
    },
    {
     "name": "stdout",
     "output_type": "stream",
     "text": [
      "epoch: 9, [batch: 8820 / 12600], examples_per_second: 3236.3036, train_label_loss: 0.2068, \n"
     ]
    },
    {
     "name": "stdout",
     "output_type": "stream",
     "text": [
      "epoch: 9, [batch: 10080 / 12600], examples_per_second: 3227.9425, train_label_loss: 0.1222, \n"
     ]
    },
    {
     "name": "stdout",
     "output_type": "stream",
     "text": [
      "epoch: 9, [batch: 11340 / 12600], examples_per_second: 3244.7866, train_label_loss: 0.0697, \n"
     ]
    },
    {
     "name": "stdout",
     "output_type": "stream",
     "text": [
      "=============================================================\n",
      "epoch: 9, source_val_acc_label: 0.8823, target_val_acc_label: 0.7640, source_val_label_loss: 0.3493, target_val_label_loss: 0.7538, \n",
      "=============================================================\n"
     ]
    },
    {
     "name": "stdout",
     "output_type": "stream",
     "text": [
      "Patience (3) exhausted\n"
     ]
    }
   ],
   "source": [
    "###################################\n",
    "# train\n",
    "###################################\n",
    "jig = PTN_Train_Eval_Test_Jig(model, p.BEST_MODEL_PATH, p.device)\n",
    "\n",
    "jig.train(\n",
    "    train_iterable=datasets.source.processed.train,\n",
    "    source_val_iterable=datasets.source.processed.val,\n",
    "    target_val_iterable=datasets.target.processed.val,\n",
    "    num_epochs=p.n_epoch,\n",
    "    num_logs_per_epoch=p.NUM_LOGS_PER_EPOCH,\n",
    "    patience=p.patience,\n",
    "    optimizer=optimizer,\n",
    "    criteria_for_best=p.criteria_for_best,\n",
    ")"
   ]
  },
  {
   "cell_type": "code",
   "execution_count": 14,
   "id": "31e8fabf",
   "metadata": {
    "execution": {
     "iopub.execute_input": "2022-03-22T07:44:20.848818Z",
     "iopub.status.busy": "2022-03-22T07:44:20.848576Z",
     "iopub.status.idle": "2022-03-22T07:44:20.865601Z",
     "shell.execute_reply": "2022-03-22T07:44:20.865237Z"
    },
    "papermill": {
     "duration": 0.047567,
     "end_time": "2022-03-22T07:44:20.865690",
     "exception": false,
     "start_time": "2022-03-22T07:44:20.818123",
     "status": "completed"
    },
    "tags": []
   },
   "outputs": [],
   "source": [
    "total_experiment_time_secs = time.time() - start_time_secs"
   ]
  },
  {
   "cell_type": "code",
   "execution_count": 15,
   "id": "87b9595b",
   "metadata": {
    "execution": {
     "iopub.execute_input": "2022-03-22T07:44:20.933112Z",
     "iopub.status.busy": "2022-03-22T07:44:20.932851Z",
     "iopub.status.idle": "2022-03-22T07:48:21.097106Z",
     "shell.execute_reply": "2022-03-22T07:48:21.096655Z"
    },
    "papermill": {
     "duration": 240.198388,
     "end_time": "2022-03-22T07:48:21.097209",
     "exception": false,
     "start_time": "2022-03-22T07:44:20.898821",
     "status": "completed"
    },
    "tags": []
   },
   "outputs": [],
   "source": [
    "###################################\n",
    "# Evaluate the model\n",
    "###################################\n",
    "source_test_label_accuracy, source_test_label_loss = jig.test(datasets.source.processed.test)\n",
    "target_test_label_accuracy, target_test_label_loss = jig.test(datasets.target.processed.test)\n",
    "\n",
    "source_val_label_accuracy, source_val_label_loss = jig.test(datasets.source.processed.val)\n",
    "target_val_label_accuracy, target_val_label_loss = jig.test(datasets.target.processed.val)\n",
    "\n",
    "history = jig.get_history()\n",
    "\n",
    "total_epochs_trained = len(history[\"epoch_indices\"])\n",
    "\n",
    "val_dl = Iterable_Aggregator((datasets.source.original.val,datasets.target.original.val))\n",
    "\n",
    "confusion = ptn_confusion_by_domain_over_dataloader(model, p.device, val_dl)\n",
    "per_domain_accuracy = per_domain_accuracy_from_confusion(confusion)\n",
    "\n",
    "# Add a key to per_domain_accuracy for if it was a source domain\n",
    "for domain, accuracy in per_domain_accuracy.items():\n",
    "    per_domain_accuracy[domain] = {\n",
    "        \"accuracy\": accuracy,\n",
    "        \"source?\": domain in p.domains_source\n",
    "    }\n",
    "\n",
    "# Do an independent accuracy assesment JUST TO BE SURE!\n",
    "# _source_test_label_accuracy = independent_accuracy_assesment(model, datasets.source.processed.test, p.device)\n",
    "# _target_test_label_accuracy = independent_accuracy_assesment(model, datasets.target.processed.test, p.device)\n",
    "# _source_val_label_accuracy = independent_accuracy_assesment(model, datasets.source.processed.val, p.device)\n",
    "# _target_val_label_accuracy = independent_accuracy_assesment(model, datasets.target.processed.val, p.device)\n",
    "\n",
    "# assert(_source_test_label_accuracy == source_test_label_accuracy)\n",
    "# assert(_target_test_label_accuracy == target_test_label_accuracy)\n",
    "# assert(_source_val_label_accuracy == source_val_label_accuracy)\n",
    "# assert(_target_val_label_accuracy == target_val_label_accuracy)\n",
    "\n",
    "experiment = {\n",
    "    \"experiment_name\": p.experiment_name,\n",
    "    \"parameters\": dict(p),\n",
    "    \"results\": {\n",
    "        \"source_test_label_accuracy\": source_test_label_accuracy,\n",
    "        \"source_test_label_loss\": source_test_label_loss,\n",
    "        \"target_test_label_accuracy\": target_test_label_accuracy,\n",
    "        \"target_test_label_loss\": target_test_label_loss,\n",
    "        \"source_val_label_accuracy\": source_val_label_accuracy,\n",
    "        \"source_val_label_loss\": source_val_label_loss,\n",
    "        \"target_val_label_accuracy\": target_val_label_accuracy,\n",
    "        \"target_val_label_loss\": target_val_label_loss,\n",
    "        \"total_epochs_trained\": total_epochs_trained,\n",
    "        \"total_experiment_time_secs\": total_experiment_time_secs,\n",
    "        \"confusion\": confusion,\n",
    "        \"per_domain_accuracy\": per_domain_accuracy,\n",
    "    },\n",
    "    \"history\": history,\n",
    "    \"dataset_metrics\": get_dataset_metrics(datasets, \"ptn\"),\n",
    "}"
   ]
  },
  {
   "cell_type": "code",
   "execution_count": 16,
   "id": "54a21829",
   "metadata": {
    "execution": {
     "iopub.execute_input": "2022-03-22T07:48:21.163141Z",
     "iopub.status.busy": "2022-03-22T07:48:21.162885Z",
     "iopub.status.idle": "2022-03-22T07:48:21.289673Z",
     "shell.execute_reply": "2022-03-22T07:48:21.290075Z"
    },
    "papermill": {
     "duration": 0.158487,
     "end_time": "2022-03-22T07:48:21.290201",
     "exception": false,
     "start_time": "2022-03-22T07:48:21.131714",
     "status": "completed"
    },
    "tags": []
   },
   "outputs": [
    {
     "data": {
      "image/png": "[encoded data removed]",
      "text/plain": [
       "<Figure size 1080x504 with 1 Axes>"
      ]
     },
     "metadata": {
      "needs_background": "light"
     },
     "output_type": "display_data"
    }
   ],
   "source": [
    "ax = get_loss_curve(experiment)\n",
    "plt.show()"
   ]
  },
  {
   "cell_type": "code",
   "execution_count": 17,
   "id": "fd8a0f60",
   "metadata": {
    "execution": {
     "iopub.execute_input": "2022-03-22T07:48:21.355628Z",
     "iopub.status.busy": "2022-03-22T07:48:21.354651Z",
     "iopub.status.idle": "2022-03-22T07:48:21.496568Z",
     "shell.execute_reply": "2022-03-22T07:48:21.496779Z"
    },
    "papermill": {
     "duration": 0.174308,
     "end_time": "2022-03-22T07:48:21.496856",
     "exception": false,
     "start_time": "2022-03-22T07:48:21.322548",
     "status": "completed"
    },
    "tags": []
   },
   "outputs": [
    {
     "data": {
      "text/plain": [
       "<AxesSubplot:title={'center':'Results'}>"
      ]
     },
     "execution_count": 17,
     "metadata": {},
     "output_type": "execute_result"
    },
    {
     "data": {
      "image/png": "[encoded data removed]",
      "text/plain": [
       "<Figure size 1080x504 with 1 Axes>"
      ]
     },
     "metadata": {
      "needs_background": "light"
     },
     "output_type": "display_data"
    }
   ],
   "source": [
    "get_results_table(experiment)"
   ]
  },
  {
   "cell_type": "code",
   "execution_count": 18,
   "id": "cf8dc689",
   "metadata": {
    "execution": {
     "iopub.execute_input": "2022-03-22T07:48:21.561313Z",
     "iopub.status.busy": "2022-03-22T07:48:21.561060Z",
     "iopub.status.idle": "2022-03-22T07:48:21.674767Z",
     "shell.execute_reply": "2022-03-22T07:48:21.674279Z"
    },
    "papermill": {
     "duration": 0.14634,
     "end_time": "2022-03-22T07:48:21.674869",
     "exception": false,
     "start_time": "2022-03-22T07:48:21.528529",
     "status": "completed"
    },
    "tags": []
   },
   "outputs": [
    {
     "data": {
      "text/plain": [
       "<AxesSubplot:title={'center':'Per Domain Validation Accuracy'}, xlabel='domain'>"
      ]
     },
     "execution_count": 18,
     "metadata": {},
     "output_type": "execute_result"
    },
    {
     "data": {
      "image/png": "[encoded data removed]",
      "text/plain": [
       "<Figure size 1080x504 with 1 Axes>"
      ]
     },
     "metadata": {
      "needs_background": "light"
     },
     "output_type": "display_data"
    }
   ],
   "source": [
    "get_domain_accuracies(experiment)"
   ]
  },
  {
   "cell_type": "code",
   "execution_count": 19,
   "id": "a74ae082",
   "metadata": {
    "execution": {
     "iopub.execute_input": "2022-03-22T07:48:21.746249Z",
     "iopub.status.busy": "2022-03-22T07:48:21.745992Z",
     "iopub.status.idle": "2022-03-22T07:48:21.761741Z",
     "shell.execute_reply": "2022-03-22T07:48:21.761259Z"
    },
    "papermill": {
     "duration": 0.050127,
     "end_time": "2022-03-22T07:48:21.761840",
     "exception": false,
     "start_time": "2022-03-22T07:48:21.711713",
     "status": "completed"
    },
    "tags": []
   },
   "outputs": [
    {
     "name": "stdout",
     "output_type": "stream",
     "text": [
      "Source Test Label Accuracy: 0.8751736111111111 Target Test Label Accuracy: 0.7713645833333334\n",
      "Source Val Label Accuracy: 0.8750347222222222 Target Val Label Accuracy: 0.7717916666666667\n"
     ]
    }
   ],
   "source": [
    "print(\"Source Test Label Accuracy:\", experiment[\"results\"][\"source_test_label_accuracy\"], \"Target Test Label Accuracy:\", experiment[\"results\"][\"target_test_label_accuracy\"])\n",
    "print(\"Source Val Label Accuracy:\", experiment[\"results\"][\"source_val_label_accuracy\"], \"Target Val Label Accuracy:\", experiment[\"results\"][\"target_val_label_accuracy\"])"
   ]
  },
  {
   "cell_type": "code",
   "execution_count": 20,
   "id": "dacca602",
   "metadata": {
    "execution": {
     "iopub.execute_input": "2022-03-22T07:48:21.833765Z",
     "iopub.status.busy": "2022-03-22T07:48:21.833500Z",
     "iopub.status.idle": "2022-03-22T07:48:21.849210Z",
     "shell.execute_reply": "2022-03-22T07:48:21.848793Z"
    },
    "papermill": {
     "duration": 0.050135,
     "end_time": "2022-03-22T07:48:21.849308",
     "exception": false,
     "start_time": "2022-03-22T07:48:21.799173",
     "status": "completed"
    },
    "tags": [
     "experiment_json"
    ]
   },
   "outputs": [
    {
     "data": {
      "text/plain": [
       "'{\"experiment_name\": \"tuned_1v2:oracle.run1\", \"parameters\": {\"experiment_name\": \"tuned_1v2:oracle.run1\", \"device\": \"cuda\", \"lr\": 0.0001, \"labels_source\": [\"3123D52\", \"3123D65\", \"3123D79\", \"3123D80\", \"3123D54\", \"3123D70\", \"3123D7B\", \"3123D89\", \"3123D58\", \"3123D76\", \"3123D7D\", \"3123EFE\", \"3123D64\", \"3123D78\", \"3123D7E\", \"3124E4A\"], \"labels_target\": [\"3123D52\", \"3123D65\", \"3123D79\", \"3123D80\", \"3123D54\", \"3123D70\", \"3123D7B\", \"3123D89\", \"3123D58\", \"3123D76\", \"3123D7D\", \"3123EFE\", \"3123D64\", \"3123D78\", \"3123D7E\", \"3124E4A\"], \"episode_transforms_source\": [], \"episode_transforms_target\": [], \"domains_source\": [8, 32, 50], \"domains_target\": [14, 20, 26, 38, 44], \"num_examples_per_domain_per_label_source\": -1, \"num_examples_per_domain_per_label_target\": -1, \"n_shot\": 3, \"n_way\": 16, \"n_query\": 2, \"train_k_factor\": 3, \"val_k_factor\": 2, \"test_k_factor\": 2, \"torch_default_dtype\": \"torch.float32\", \"n_epoch\": 50, \"patience\": 3, \"criteria_for_best\": \"target_accuracy\", \"x_net\": [{\"class\": \"nnReshape\", \"kargs\": {\"shape\": [-1, 1, 2, 256]}}, {\"class\": \"Conv2d\", \"kargs\": {\"in_channels\": 1, \"out_channels\": 256, \"kernel_size\": [1, 7], \"bias\": false, \"padding\": [0, 3]}}, {\"class\": \"ReLU\", \"kargs\": {\"inplace\": true}}, {\"class\": \"BatchNorm2d\", \"kargs\": {\"num_features\": 256}}, {\"class\": \"Conv2d\", \"kargs\": {\"in_channels\": 256, \"out_channels\": 80, \"kernel_size\": [2, 7], \"bias\": true, \"padding\": [0, 3]}}, {\"class\": \"ReLU\", \"kargs\": {\"inplace\": true}}, {\"class\": \"BatchNorm2d\", \"kargs\": {\"num_features\": 80}}, {\"class\": \"Flatten\", \"kargs\": {}}, {\"class\": \"Linear\", \"kargs\": {\"in_features\": 20480, \"out_features\": 256}}, {\"class\": \"ReLU\", \"kargs\": {\"inplace\": true}}, {\"class\": \"BatchNorm1d\", \"kargs\": {\"num_features\": 256}}, {\"class\": \"Linear\", \"kargs\": {\"in_features\": 256, \"out_features\": 256}}], \"NUM_LOGS_PER_EPOCH\": 10, \"BEST_MODEL_PATH\": \"./best_model.pth\", \"pickle_name\": \"oracle.Run1_10kExamples_stratified_ds.2022A.pkl\", \"x_transforms_source\": [], \"x_transforms_target\": [], \"dataset_seed\": 420, \"seed\": 420}, \"results\": {\"source_test_label_accuracy\": 0.8751736111111111, \"source_test_label_loss\": 0.36634504795074463, \"target_test_label_accuracy\": 0.7713645833333334, \"target_test_label_loss\": 0.7668718099594116, \"source_val_label_accuracy\": 0.8750347222222222, \"source_val_label_loss\": 0.3661956787109375, \"target_val_label_accuracy\": 0.7717916666666667, \"target_val_label_loss\": 0.7652662396430969, \"total_epochs_trained\": 9, \"total_experiment_time_secs\": 3164.002946138382, \"confusion\": {\"8\": {\"15\": {\"15\": 972, \"12\": 202, \"2\": 26}, \"5\": {\"5\": 1027, \"1\": 60, \"10\": 101, \"11\": 8, \"4\": 2, \"14\": 2}, \"7\": {\"7\": 1058, \"6\": 108, \"13\": 34}, \"4\": {\"4\": 1115, \"1\": 8, \"8\": 23, \"11\": 14, \"14\": 25, \"6\": 13, \"10\": 2}, \"10\": {\"13\": 154, \"10\": 948, \"1\": 42, \"5\": 44, \"4\": 4, \"6\": 7, \"11\": 1}, \"11\": {\"1\": 347, \"11\": 738, \"14\": 27, \"4\": 49, \"8\": 15, \"6\": 12, \"10\": 4, \"5\": 8}, \"12\": {\"12\": 877, \"15\": 308, \"2\": 15}, \"0\": {\"0\": 1200}, \"14\": {\"14\": 1116, \"4\": 80, \"8\": 1, \"11\": 3}, \"8\": {\"8\": 1139, \"6\": 29, \"4\": 29, \"7\": 1, \"11\": 2}, \"13\": {\"13\": 992, \"6\": 9, \"7\": 68, \"10\": 129, \"1\": 1, \"15\": 1}, \"6\": {\"7\": 108, \"6\": 1068, \"4\": 2, \"10\": 6, \"13\": 13, \"8\": 3}, \"1\": {\"1\": 945, \"11\": 161, \"10\": 57, \"5\": 29, \"6\": 2, \"4\": 2, \"13\": 4}, \"3\": {\"3\": 1194, \"2\": 6}, \"9\": {\"9\": 1200}, \"2\": {\"2\": 984, \"15\": 65, \"3\": 95, \"12\": 56}}, \"50\": {\"4\": {\"6\": 15, \"4\": 1023, \"7\": 103, \"5\": 39, \"15\": 20}, \"10\": {\"10\": 1175, \"0\": 14, \"8\": 11}, \"15\": {\"15\": 1112, \"5\": 6, \"6\": 75, \"4\": 1, \"11\": 4, \"9\": 2}, \"0\": {\"0\": 1109, \"2\": 77, \"10\": 14}, \"6\": {\"6\": 1003, \"5\": 135, \"15\": 59, \"4\": 3}, \"3\": {\"3\": 1200}, \"7\": {\"7\": 1131, \"4\": 34, \"5\": 35}, \"2\": {\"2\": 1135, \"0\": 65}, \"8\": {\"8\": 1193, \"10\": 7}, \"11\": {\"11\": 1137, \"12\": 29, \"9\": 25, \"15\": 9}, \"14\": {\"14\": 1200}, \"12\": {\"12\": 1105, \"9\": 73, \"11\": 22}, \"13\": {\"13\": 1197, \"5\": 2, \"1\": 1}, \"9\": {\"9\": 1024, \"11\": 64, \"12\": 105, \"15\": 7}, \"5\": {\"5\": 525, \"4\": 53, \"7\": 306, \"6\": 247, \"13\": 57, \"15\": 9, \"1\": 3}, \"1\": {\"1\": 1172, \"13\": 24, \"0\": 2, \"11\": 2}}, \"32\": {\"7\": {\"14\": 120, \"5\": 185, \"7\": 782, \"8\": 19, \"0\": 94}, \"2\": {\"2\": 1043, \"4\": 156, \"14\": 1}, \"5\": {\"5\": 700, \"7\": 226, \"8\": 120, \"0\": 93, \"14\": 57, \"15\": 4}, \"6\": {\"6\": 1200}, \"13\": {\"13\": 882, \"4\": 164, \"3\": 126, \"11\": 27, \"2\": 1}, \"4\": {\"4\": 1018, \"13\": 29, \"14\": 3, \"2\": 149, \"3\": 1}, \"3\": {\"3\": 1133, \"13\": 67}, \"0\": {\"0\": 882, \"5\": 57, \"8\": 113, \"14\": 36, \"7\": 111, \"2\": 1}, \"9\": {\"9\": 1183, \"12\": 14, \"2\": 3}, \"12\": {\"12\": 1200}, \"8\": {\"0\": 166, \"4\": 14, \"8\": 888, \"5\": 75, \"7\": 23, \"14\": 24, \"2\": 5, \"15\": 4, \"3\": 1}, \"14\": {\"7\": 298, \"14\": 707, \"2\": 46, \"8\": 45, \"5\": 43, \"0\": 54, \"4\": 7}, \"15\": {\"15\": 1184, \"8\": 14, \"5\": 2}, \"11\": {\"11\": 1186, \"13\": 14}, \"10\": {\"10\": 1200}, \"1\": {\"1\": 1200}}, \"20\": {\"15\": {\"15\": 543, \"1\": 238, \"5\": 93, \"12\": 159, \"9\": 88, \"2\": 23, \"3\": 21, \"13\": 32, \"7\": 2, \"4\": 1}, \"5\": {\"5\": 501, \"1\": 360, \"15\": 48, \"3\": 200, \"9\": 42, \"0\": 11, \"12\": 35, \"13\": 1, \"8\": 2}, \"7\": {\"2\": 284, \"7\": 616, \"12\": 37, \"13\": 63, \"9\": 77, \"6\": 32, \"3\": 11, \"4\": 51, \"8\": 19, \"10\": 1, \"15\": 3, \"14\": 6}, \"4\": {\"4\": 958, \"10\": 71, \"12\": 87, \"2\": 18, \"7\": 45, \"9\": 7, \"14\": 1, \"8\": 2, \"3\": 3, \"6\": 5, \"15\": 2, \"13\": 1}, \"10\": {\"10\": 1090, \"4\": 74, \"6\": 34, \"14\": 1, \"7\": 1}, \"11\": {\"11\": 1200}, \"12\": {\"12\": 584, \"5\": 20, \"15\": 184, \"13\": 62, \"9\": 105, \"7\": 33, \"2\": 96, \"4\": 52, \"1\": 45, \"3\": 19}, \"0\": {\"0\": 1037, \"8\": 11, \"5\": 74, \"3\": 40, \"1\": 33, \"11\": 2, \"9\": 3}, \"14\": {\"14\": 866, \"6\": 120, \"7\": 51, \"8\": 151, \"4\": 8, \"9\": 3, \"2\": 1}, \"8\": {\"8\": 784, \"14\": 117, \"7\": 47, \"3\": 144, \"9\": 50, \"5\": 20, \"12\": 10, \"2\": 5, \"4\": 17, \"0\": 1, \"1\": 5}, \"13\": {\"2\": 242, \"13\": 788, \"12\": 74, \"15\": 27, \"7\": 26, \"9\": 38, \"6\": 1, \"5\": 1, \"1\": 1, \"3\": 1, \"4\": 1}, \"6\": {\"10\": 39, \"6\": 1004, \"14\": 81, \"7\": 58, \"4\": 9, \"2\": 9}, \"1\": {\"5\": 353, \"1\": 462, \"3\": 95, \"12\": 44, \"15\": 154, \"2\": 4, \"9\": 81, \"4\": 1, \"0\": 4, \"13\": 2}, \"3\": {\"15\": 27, \"3\": 427, \"9\": 223, \"5\": 232, \"8\": 65, \"12\": 40, \"1\": 127, \"2\": 17, \"0\": 17, \"7\": 21, \"4\": 4}, \"9\": {\"15\": 61, \"9\": 441, \"7\": 79, \"3\": 161, \"1\": 78, \"12\": 129, \"4\": 3, \"2\": 155, \"13\": 51, \"5\": 30, \"8\": 12}, \"2\": {\"2\": 389, \"12\": 148, \"13\": 196, \"9\": 156, \"7\": 232, \"15\": 26, \"4\": 28, \"1\": 5, \"8\": 2, \"3\": 11, \"5\": 3, \"10\": 1, \"6\": 2, \"14\": 1}}, \"26\": {\"4\": {\"4\": 1197, \"3\": 2, \"13\": 1}, \"10\": {\"14\": 264, \"10\": 612, \"0\": 165, \"15\": 73, \"6\": 68, \"5\": 5, \"1\": 13}, \"15\": {\"15\": 579, \"5\": 357, \"6\": 122, \"10\": 84, \"1\": 9, \"14\": 31, \"0\": 18}, \"0\": {\"0\": 852, \"10\": 192, \"14\": 97, \"2\": 11, \"9\": 2, \"15\": 16, \"1\": 5, \"6\": 2, \"8\": 20, \"7\": 3}, \"6\": {\"6\": 902, \"14\": 22, \"15\": 103, \"10\": 62, \"1\": 35, \"5\": 76}, \"3\": {\"3\": 1044, \"7\": 123, \"8\": 2, \"9\": 8, \"2\": 18, \"13\": 5}, \"7\": {\"7\": 755, \"8\": 152, \"2\": 154, \"3\": 80, \"9\": 58, \"0\": 1}, \"2\": {\"3\": 54, \"2\": 659, \"7\": 225, \"9\": 83, \"8\": 107, \"10\": 4, \"0\": 52, \"15\": 8, \"13\": 3, \"14\": 5}, \"8\": {\"8\": 661, \"9\": 287, \"0\": 14, \"2\": 73, \"7\": 159, \"13\": 1, \"3\": 5}, \"11\": {\"11\": 1200}, \"14\": {\"14\": 727, \"1\": 98, \"10\": 259, \"6\": 18, \"0\": 76, \"15\": 19, \"5\": 3}, \"12\": {\"12\": 1199, \"13\": 1}, \"13\": {\"13\": 1015, \"4\": 41, \"2\": 30, \"9\": 76, \"3\": 19, \"8\": 10, \"7\": 9}, \"9\": {\"13\": 150, \"9\": 598, \"8\": 296, \"2\": 88, \"7\": 47, \"3\": 12, \"0\": 9}, \"5\": {\"1\": 11, \"5\": 816, \"15\": 272, \"6\": 97, \"14\": 3, \"10\": 1}, \"1\": {\"1\": 886, \"14\": 195, \"6\": 47, \"10\": 48, \"15\": 12, \"0\": 5, \"5\": 7}}, \"38\": {\"7\": {\"7\": 1184, \"0\": 2, \"8\": 6, \"13\": 1, \"5\": 4, \"9\": 3}, \"2\": {\"2\": 1068, \"14\": 131, \"13\": 1}, \"5\": {\"5\": 538, \"8\": 419, \"15\": 64, \"9\": 93, \"7\": 81, \"0\": 3, \"2\": 1, \"12\": 1}, \"6\": {\"6\": 1199, \"1\": 1}, \"13\": {\"13\": 1120, \"14\": 6, \"10\": 59, \"2\": 5, \"0\": 10}, \"4\": {\"4\": 1191, \"10\": 5, \"0\": 4}, \"3\": {\"3\": 1200}, \"0\": {\"0\": 736, \"10\": 184, \"3\": 51, \"7\": 167, \"13\": 57, \"4\": 3, \"5\": 1, \"9\": 1}, \"9\": {\"9\": 1163, \"8\": 9, \"5\": 18, \"7\": 10}, \"12\": {\"12\": 1197, \"8\": 3}, \"8\": {\"5\": 376, \"8\": 577, \"7\": 199, \"15\": 21, \"12\": 12, \"0\": 3, \"9\": 4, \"14\": 1, \"13\": 5, \"2\": 2}, \"14\": {\"14\": 1047, \"2\": 151, \"13\": 2}, \"15\": {\"15\": 1087, \"1\": 34, \"8\": 33, \"5\": 45, \"12\": 1}, \"11\": {\"11\": 1200}, \"10\": {\"10\": 1091, \"0\": 52, \"13\": 47, \"4\": 10}, \"1\": {\"1\": 1198, \"6\": 2}}, \"14\": {\"11\": {\"11\": 1188, \"9\": 10, \"10\": 2}, \"7\": {\"7\": 1194, \"5\": 5, \"2\": 1}, \"6\": {\"6\": 695, \"13\": 322, \"14\": 96, \"2\": 54, \"3\": 31, \"5\": 2}, \"12\": {\"12\": 1200}, \"4\": {\"4\": 1157, \"5\": 25, \"2\": 16, \"1\": 2}, \"13\": {\"14\": 277, \"6\": 372, \"13\": 245, \"3\": 21, \"2\": 108, \"15\": 107, \"4\": 52, \"5\": 17, \"0\": 1}, \"8\": {\"8\": 1197, \"0\": 3}, \"5\": {\"5\": 1034, \"4\": 17, \"2\": 105, \"14\": 19, \"7\": 18, \"3\": 2, \"8\": 2, \"0\": 1, \"13\": 2}, \"14\": {\"14\": 857, \"6\": 36, \"13\": 130, \"2\": 134, \"5\": 12, \"3\": 28, \"0\": 3}, \"3\": {\"3\": 1143, \"14\": 17, \"13\": 10, \"2\": 5, \"6\": 17, \"0\": 8}, \"10\": {\"10\": 1197, \"9\": 3}, \"1\": {\"1\": 1199, \"4\": 1}, \"2\": {\"5\": 243, \"6\": 116, \"2\": 374, \"7\": 45, \"4\": 113, \"14\": 168, \"3\": 62, \"13\": 72, \"0\": 7}, \"15\": {\"15\": 1200}, \"9\": {\"9\": 1200}, \"0\": {\"0\": 913, \"3\": 194, \"10\": 34, \"2\": 8, \"8\": 34, \"4\": 11, \"14\": 5, \"13\": 1}}, \"44\": {\"10\": {\"10\": 1106, \"2\": 35, \"7\": 47, \"1\": 12}, \"6\": {\"6\": 1012, \"9\": 67, \"13\": 121}, \"13\": {\"13\": 982, \"6\": 191, \"9\": 22, \"11\": 5}, \"3\": {\"3\": 1159, \"12\": 41}, \"9\": {\"6\": 180, \"9\": 523, \"7\": 364, \"13\": 110, \"2\": 21, \"4\": 1, \"14\": 1}, \"1\": {\"1\": 1089, \"2\": 110, \"10\": 1}, \"5\": {\"5\": 1020, \"14\": 67, \"15\": 87, \"8\": 24, \"4\": 2}, \"11\": {\"11\": 1200}, \"4\": {\"4\": 740, \"14\": 420, \"9\": 8, \"15\": 27, \"5\": 1, \"13\": 4}, \"14\": {\"14\": 877, \"5\": 35, \"4\": 230, \"15\": 58}, \"12\": {\"3\": 57, \"12\": 1143}, \"7\": {\"7\": 1021, \"9\": 161, \"10\": 17, \"6\": 1}, \"0\": {\"0\": 1097, \"8\": 102, \"15\": 1}, \"15\": {\"15\": 968, \"5\": 67, \"14\": 102, \"4\": 8, \"0\": 10, \"8\": 45}, \"2\": {\"2\": 1141, \"1\": 52, \"7\": 2, \"10\": 5}, \"8\": {\"8\": 833, \"0\": 290, \"5\": 30, \"15\": 47}}}, \"per_domain_accuracy\": {\"8\": {\"accuracy\": 0.8631770833333333, \"source?\": true}, \"50\": {\"accuracy\": 0.9083854166666666, \"source?\": true}, \"32\": {\"accuracy\": 0.8535416666666666, \"source?\": true}, \"20\": {\"accuracy\": 0.6088541666666667, \"source?\": false}, \"26\": {\"accuracy\": 0.7136458333333333, \"source?\": false}, \"38\": {\"accuracy\": 0.8747916666666666, \"source?\": false}, \"14\": {\"accuracy\": 0.83296875, \"source?\": false}, \"44\": {\"accuracy\": 0.8286979166666667, \"source?\": false}}}, \"history\": {\"epoch_indices\": [1, 2, 3, 4, 5, 6, 7, 8, 9], \"train_label_loss\": [0.6816611660413798, 0.45716356551067694, 0.3435923143680252, 0.2896379907529003, 0.257834520506643, 0.23675368294862675, 0.22051970123039885, 0.2058542576481566, 0.19659534107393858], \"source_val_label_loss\": [0.8974530100822449, 0.43082886934280396, 0.36841756105422974, 0.3639673590660095, 0.3661956787109375, 0.35779908299446106, 0.3573438823223114, 0.3514397144317627, 0.349289208650589], \"target_val_label_loss\": [1.077174425125122, 0.7564693689346313, 0.7479718327522278, 0.7457560896873474, 0.7652662396430969, 0.7555471658706665, 0.7689915299415588, 0.7658535838127136, 0.7538267970085144], \"source_val_acc_label\": [0.7520138888888889, 0.84234375, 0.8675, 0.8724826388888889, 0.8750347222222222, 0.8767361111111112, 0.8763715277777778, 0.8801736111111111, 0.88234375], \"target_val_acc_label\": [0.6982604166666667, 0.7480416666666667, 0.77, 0.7717291666666667, 0.7717916666666667, 0.7681875, 0.7611770833333333, 0.767875, 0.76403125]}, \"dataset_metrics\": {\"source\": {\"train\": {\"n_unique_x\": 336000, \"n_unique_y\": 16, \"n_batch/episode\": 12600}, \"val\": {\"n_unique_x\": 72000, \"n_unique_y\": 16, \"n_batch/episode\": 1800}, \"test\": {\"n_unique_x\": 72000, \"n_unique_y\": 16, \"n_batch/episode\": 1800}}, \"target\": {\"train\": {\"n_unique_x\": 560000, \"n_unique_y\": 16, \"n_batch/episode\": 21000}, \"val\": {\"n_unique_x\": 120000, \"n_unique_y\": 16, \"n_batch/episode\": 3000}, \"test\": {\"n_unique_x\": 120000, \"n_unique_y\": 16, \"n_batch/episode\": 3000}}}}'"
      ]
     },
     "execution_count": 20,
     "metadata": {},
     "output_type": "execute_result"
    }
   ],
   "source": [
    "json.dumps(experiment)"
   ]
  }
 ],
 "metadata": {
  "celltoolbar": "Tags",
  "kernelspec": {
   "display_name": "Python 3 (ipykernel)",
   "language": "python",
   "name": "python3"
  },
  "language_info": {
   "codemirror_mode": {
    "name": "ipython",
    "version": 3
   },
   "file_extension": ".py",
   "mimetype": "text/x-python",
   "name": "python",
   "nbconvert_exporter": "python",
   "pygments_lexer": "ipython3",
   "version": "3.8.10"
  },
  "papermill": {
   "default_parameters": {},
   "duration": 3408.601082,
   "end_time": "2022-03-22T07:48:23.300219",
   "environment_variables": {},
   "exception": null,
   "input_path": "/mnt/wd500GB/CSC500/csc500-main/csc500-notebooks/templates/ptn_template.ipynb",
   "output_path": "trial.ipynb",
   "parameters": {
    "parameters": {
     "BEST_MODEL_PATH": "./best_model.pth",
     "NUM_LOGS_PER_EPOCH": 10,
     "criteria_for_best": "target_accuracy",
     "dataset_seed": 420,
     "device": "cuda",
     "domains_source": [
      8,
      32,
      50
     ],
     "domains_target": [
      14,
      20,
      26,
      38,
      44
     ],
     "episode_transforms_source": [],
     "episode_transforms_target": [],
     "experiment_name": "tuned_1v2:oracle.run1",
     "labels_source": [
      "3123D52",
      "3123D65",
      "3123D79",
      "3123D80",
      "3123D54",
      "3123D70",
      "3123D7B",
      "3123D89",
      "3123D58",
      "3123D76",
      "3123D7D",
      "3123EFE",
      "3123D64",
      "3123D78",
      "3123D7E",
      "3124E4A"
     ],
     "labels_target": [
      "3123D52",
      "3123D65",
      "3123D79",
      "3123D80",
      "3123D54",
      "3123D70",
      "3123D7B",
      "3123D89",
      "3123D58",
      "3123D76",
      "3123D7D",
      "3123EFE",
      "3123D64",
      "3123D78",
      "3123D7E",
      "3124E4A"
     ],
     "lr": 0.0001,
     "n_epoch": 50,
     "n_query": 2,
     "n_shot": 3,
     "n_way": 16,
     "num_examples_per_domain_per_label_source": -1,
     "num_examples_per_domain_per_label_target": -1,
     "patience": 3,
     "pickle_name": "oracle.Run1_10kExamples_stratified_ds.2022A.pkl",
     "seed": 420,
     "test_k_factor": 2,
     "torch_default_dtype": "torch.float32",
     "train_k_factor": 3,
     "val_k_factor": 2,
     "x_net": [
      {
       "class": "nnReshape",
       "kargs": {
        "shape": [
         -1,
         1,
         2,
         256
        ]
       }
      },
      {
       "class": "Conv2d",
       "kargs": {
        "bias": false,
        "in_channels": 1,
        "kernel_size": [
         1,
         7
        ],
        "out_channels": 256,
        "padding": [
         0,
         3
        ]
       }
      },
      {
       "class": "ReLU",
       "kargs": {
        "inplace": true
       }
      },
      {
       "class": "BatchNorm2d",
       "kargs": {
        "num_features": 256
       }
      },
      {
       "class": "Conv2d",
       "kargs": {
        "bias": true,
        "in_channels": 256,
        "kernel_size": [
         2,
         7
        ],
        "out_channels": 80,
        "padding": [
         0,
         3
        ]
       }
      },
      {
       "class": "ReLU",
       "kargs": {
        "inplace": true
       }
      },
      {
       "class": "BatchNorm2d",
       "kargs": {
        "num_features": 80
       }
      },
      {
       "class": "Flatten",
       "kargs": {}
      },
      {
       "class": "Linear",
       "kargs": {
        "in_features": 20480,
        "out_features": 256
       }
      },
      {
       "class": "ReLU",
       "kargs": {
        "inplace": true
       }
      },
      {
       "class": "BatchNorm1d",
       "kargs": {
        "num_features": 256
       }
      },
      {
       "class": "Linear",
       "kargs": {
        "in_features": 256,
        "out_features": 256
       }
      }
     ],
     "x_transforms_source": [],
     "x_transforms_target": []
    }
   },
   "start_time": "2022-03-22T06:51:34.699137",
   "version": "2.3.4"
  }
 },
 "nbformat": 4,
 "nbformat_minor": 5
}