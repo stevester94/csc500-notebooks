{
 "cells": [
  {
   "cell_type": "markdown",
   "id": "9fea5f46",
   "metadata": {
    "papermill": {
     "duration": 0.017137,
     "end_time": "2022-03-22T04:49:23.738011",
     "exception": false,
     "start_time": "2022-03-22T04:49:23.720874",
     "status": "completed"
    },
    "tags": []
   },
   "source": [
    "# PTN Template\n",
    "This notebook serves as a template for single dataset PTN experiments  \n",
    "It can be run on its own by setting STANDALONE to True (do a find for \"STANDALONE\" to see where)  \n",
    "But it is intended to be executed as part of a *papermill.py script. See any of the   \n",
    "experimentes with a papermill script to get started with that workflow.  "
   ]
  },
  {
   "cell_type": "code",
   "execution_count": 1,
   "id": "0902182a",
   "metadata": {
    "execution": {
     "iopub.execute_input": "2022-03-22T04:49:23.778888Z",
     "iopub.status.busy": "2022-03-22T04:49:23.778507Z",
     "iopub.status.idle": "2022-03-22T04:49:24.767586Z",
     "shell.execute_reply": "2022-03-22T04:49:24.767057Z"
    },
    "papermill": {
     "duration": 1.016344,
     "end_time": "2022-03-22T04:49:24.767698",
     "exception": false,
     "start_time": "2022-03-22T04:49:23.751354",
     "status": "completed"
    },
    "tags": []
   },
   "outputs": [],
   "source": [
    "%load_ext autoreload\n",
    "%autoreload 2\n",
    "%matplotlib inline\n",
    "\n",
    "    \n",
    "import os, json, sys, time, random\n",
    "import numpy as np\n",
    "import torch\n",
    "from torch.optim import Adam\n",
    "from  easydict import EasyDict\n",
    "import matplotlib.pyplot as plt\n",
    "\n",
    "from steves_models.steves_ptn import Steves_Prototypical_Network\n",
    "\n",
    "from steves_utils.lazy_iterable_wrapper import Lazy_Iterable_Wrapper\n",
    "from steves_utils.iterable_aggregator import Iterable_Aggregator\n",
    "from steves_utils.ptn_train_eval_test_jig import  PTN_Train_Eval_Test_Jig\n",
    "from steves_utils.torch_sequential_builder import build_sequential\n",
    "from steves_utils.torch_utils import get_dataset_metrics, ptn_confusion_by_domain_over_dataloader\n",
    "from steves_utils.utils_v2 import (per_domain_accuracy_from_confusion, get_datasets_base_path)\n",
    "from steves_utils.PTN.utils import independent_accuracy_assesment\n",
    "\n",
    "from steves_utils.stratified_dataset.episodic_accessor import Episodic_Accessor_Factory\n",
    "\n",
    "from steves_utils.ptn_do_report import (\n",
    "    get_loss_curve,\n",
    "    get_results_table,\n",
    "    get_parameters_table,\n",
    "    get_domain_accuracies,\n",
    ")\n",
    "\n",
    "from steves_utils.transforms import get_chained_transform"
   ]
  },
  {
   "cell_type": "markdown",
   "id": "41c840b4",
   "metadata": {
    "papermill": {
     "duration": 0.009193,
     "end_time": "2022-03-22T04:49:24.795293",
     "exception": false,
     "start_time": "2022-03-22T04:49:24.786100",
     "status": "completed"
    },
    "tags": []
   },
   "source": [
    "# Required Parameters\n",
    "These are allowed parameters, not defaults\n",
    "Each of these values need to be present in the injected parameters (the notebook will raise an exception if they are not present)\n",
    "\n",
    "Papermill uses the cell tag \"parameters\" to inject the real parameters below this cell.\n",
    "Enable tags to see what I mean"
   ]
  },
  {
   "cell_type": "code",
   "execution_count": 2,
   "id": "fd44eb83",
   "metadata": {
    "execution": {
     "iopub.execute_input": "2022-03-22T04:49:24.816520Z",
     "iopub.status.busy": "2022-03-22T04:49:24.814796Z",
     "iopub.status.idle": "2022-03-22T04:49:24.832865Z",
     "shell.execute_reply": "2022-03-22T04:49:24.832441Z"
    },
    "papermill": {
     "duration": 0.028549,
     "end_time": "2022-03-22T04:49:24.832967",
     "exception": false,
     "start_time": "2022-03-22T04:49:24.804418",
     "status": "completed"
    },
    "tags": []
   },
   "outputs": [],
   "source": [
    "required_parameters = {\n",
    "    \"experiment_name\",\n",
    "    \"lr\",\n",
    "    \"device\",\n",
    "    \"seed\",\n",
    "    \"dataset_seed\",\n",
    "    \"labels_source\",\n",
    "    \"labels_target\",\n",
    "    \"domains_source\",\n",
    "    \"domains_target\",\n",
    "    \"num_examples_per_domain_per_label_source\",\n",
    "    \"num_examples_per_domain_per_label_target\",\n",
    "    \"n_shot\",\n",
    "    \"n_way\",\n",
    "    \"n_query\",\n",
    "    \"train_k_factor\",\n",
    "    \"val_k_factor\",\n",
    "    \"test_k_factor\",\n",
    "    \"n_epoch\",\n",
    "    \"patience\",\n",
    "    \"criteria_for_best\",\n",
    "    \"x_transforms_source\",\n",
    "    \"x_transforms_target\",\n",
    "    \"episode_transforms_source\",\n",
    "    \"episode_transforms_target\",\n",
    "    \"pickle_name\",\n",
    "    \"x_net\",\n",
    "    \"NUM_LOGS_PER_EPOCH\",\n",
    "    \"BEST_MODEL_PATH\",\n",
    "    \"torch_default_dtype\"\n",
    "}"
   ]
  },
  {
   "cell_type": "code",
   "execution_count": 3,
   "id": "fa3f0049",
   "metadata": {
    "execution": {
     "iopub.execute_input": "2022-03-22T04:49:24.867106Z",
     "iopub.status.busy": "2022-03-22T04:49:24.858475Z",
     "iopub.status.idle": "2022-03-22T04:49:24.879596Z",
     "shell.execute_reply": "2022-03-22T04:49:24.879979Z"
    },
    "papermill": {
     "duration": 0.032374,
     "end_time": "2022-03-22T04:49:24.880109",
     "exception": false,
     "start_time": "2022-03-22T04:49:24.847735",
     "status": "completed"
    },
    "tags": [
     "parameters"
    ]
   },
   "outputs": [],
   "source": [
    "\n",
    "\n",
    "standalone_parameters = {}\n",
    "standalone_parameters[\"experiment_name\"] = \"STANDALONE PTN\"\n",
    "standalone_parameters[\"lr\"] = 0.0001\n",
    "standalone_parameters[\"device\"] = \"cuda\"\n",
    "\n",
    "standalone_parameters[\"seed\"] = 1337\n",
    "standalone_parameters[\"dataset_seed\"] = 1337\n",
    "\n",
    "\n",
    "standalone_parameters[\"num_examples_per_domain_per_label_source\"]=100\n",
    "standalone_parameters[\"num_examples_per_domain_per_label_target\"]=100\n",
    "\n",
    "standalone_parameters[\"n_shot\"] = 3\n",
    "standalone_parameters[\"n_query\"]  = 2\n",
    "standalone_parameters[\"train_k_factor\"] = 1\n",
    "standalone_parameters[\"val_k_factor\"] = 2\n",
    "standalone_parameters[\"test_k_factor\"] = 2\n",
    "\n",
    "\n",
    "standalone_parameters[\"n_epoch\"] = 100\n",
    "\n",
    "standalone_parameters[\"patience\"] = 10\n",
    "standalone_parameters[\"criteria_for_best\"] = \"target_accuracy\"\n",
    "\n",
    "standalone_parameters[\"x_transforms_source\"] = [\"unit_power\"]\n",
    "standalone_parameters[\"x_transforms_target\"] = [\"unit_power\"]\n",
    "standalone_parameters[\"episode_transforms_source\"] = []\n",
    "standalone_parameters[\"episode_transforms_target\"] = []\n",
    "\n",
    "standalone_parameters[\"torch_default_dtype\"] = \"torch.float32\" \n",
    "\n",
    "\n",
    "\n",
    "standalone_parameters[\"x_net\"] =     [\n",
    "    {\"class\": \"nnReshape\", \"kargs\": {\"shape\":[-1, 1, 2, 256]}},\n",
    "    {\"class\": \"Conv2d\", \"kargs\": { \"in_channels\":1, \"out_channels\":256, \"kernel_size\":(1,7), \"bias\":False, \"padding\":(0,3), },},\n",
    "    {\"class\": \"ReLU\", \"kargs\": {\"inplace\": True}},\n",
    "    {\"class\": \"BatchNorm2d\", \"kargs\": {\"num_features\":256}},\n",
    "\n",
    "    {\"class\": \"Conv2d\", \"kargs\": { \"in_channels\":256, \"out_channels\":80, \"kernel_size\":(2,7), \"bias\":True, \"padding\":(0,3), },},\n",
    "    {\"class\": \"ReLU\", \"kargs\": {\"inplace\": True}},\n",
    "    {\"class\": \"BatchNorm2d\", \"kargs\": {\"num_features\":80}},\n",
    "    {\"class\": \"Flatten\", \"kargs\": {}},\n",
    "\n",
    "    {\"class\": \"Linear\", \"kargs\": {\"in_features\": 80*256, \"out_features\": 256}}, # 80 units per IQ pair\n",
    "    {\"class\": \"ReLU\", \"kargs\": {\"inplace\": True}},\n",
    "    {\"class\": \"BatchNorm1d\", \"kargs\": {\"num_features\":256}},\n",
    "\n",
    "    {\"class\": \"Linear\", \"kargs\": {\"in_features\": 256, \"out_features\": 256}},\n",
    "]\n",
    "\n",
    "# Parameters relevant to results\n",
    "# These parameters will basically never need to change\n",
    "standalone_parameters[\"NUM_LOGS_PER_EPOCH\"] = 10\n",
    "standalone_parameters[\"BEST_MODEL_PATH\"] = \"./best_model.pth\"\n",
    "\n",
    "# uncomment for CORES dataset\n",
    "from steves_utils.CORES.utils import (\n",
    "    ALL_NODES,\n",
    "    ALL_NODES_MINIMUM_1000_EXAMPLES,\n",
    "    ALL_DAYS\n",
    ")\n",
    "\n",
    "\n",
    "standalone_parameters[\"labels_source\"] = ALL_NODES\n",
    "standalone_parameters[\"labels_target\"] = ALL_NODES\n",
    "\n",
    "standalone_parameters[\"domains_source\"] = [1]\n",
    "standalone_parameters[\"domains_target\"] = [2,3,4,5]\n",
    "\n",
    "standalone_parameters[\"pickle_name\"] = \"cores.stratified_ds.2022A.pkl\"\n",
    "\n",
    "\n",
    "# Uncomment these for ORACLE dataset\n",
    "# from steves_utils.ORACLE.utils_v2 import (\n",
    "#     ALL_DISTANCES_FEET,\n",
    "#     ALL_RUNS,\n",
    "#     ALL_SERIAL_NUMBERS,\n",
    "# )\n",
    "# standalone_parameters[\"labels_source\"] = ALL_SERIAL_NUMBERS\n",
    "# standalone_parameters[\"labels_target\"] = ALL_SERIAL_NUMBERS\n",
    "# standalone_parameters[\"domains_source\"] = [8,20, 38,50]\n",
    "# standalone_parameters[\"domains_target\"] = [14, 26, 32, 44, 56]\n",
    "# standalone_parameters[\"pickle_name\"] = \"oracle.frame_indexed.stratified_ds.2022A.pkl\"\n",
    "# standalone_parameters[\"num_examples_per_domain_per_label_source\"]=1000\n",
    "# standalone_parameters[\"num_examples_per_domain_per_label_target\"]=1000\n",
    "\n",
    "# Uncomment these for Metahan dataset\n",
    "# standalone_parameters[\"labels_source\"] = list(range(19))\n",
    "# standalone_parameters[\"labels_target\"] = list(range(19))\n",
    "# standalone_parameters[\"domains_source\"] = [0]\n",
    "# standalone_parameters[\"domains_target\"] = [1]\n",
    "# standalone_parameters[\"pickle_name\"] = \"metehan.stratified_ds.2022A.pkl\"\n",
    "# standalone_parameters[\"n_way\"]  = len(standalone_parameters[\"labels_source\"])\n",
    "# standalone_parameters[\"num_examples_per_domain_per_label_source\"]=200\n",
    "# standalone_parameters[\"num_examples_per_domain_per_label_target\"]=100\n",
    "\n",
    "\n",
    "standalone_parameters[\"n_way\"]  = len(standalone_parameters[\"labels_source\"])"
   ]
  },
  {
   "cell_type": "code",
   "execution_count": 4,
   "id": "f8d69c6b",
   "metadata": {
    "execution": {
     "iopub.execute_input": "2022-03-22T04:49:24.911297Z",
     "iopub.status.busy": "2022-03-22T04:49:24.911001Z",
     "iopub.status.idle": "2022-03-22T04:49:24.920703Z",
     "shell.execute_reply": "2022-03-22T04:49:24.921071Z"
    },
    "papermill": {
     "duration": 0.029827,
     "end_time": "2022-03-22T04:49:24.921193",
     "exception": false,
     "start_time": "2022-03-22T04:49:24.891366",
     "status": "completed"
    },
    "tags": [
     "injected-parameters"
    ]
   },
   "outputs": [],
   "source": [
    "# Parameters\n",
    "parameters = {\n",
    "    \"experiment_name\": \"tuned_1v2:oracle.run1\",\n",
    "    \"device\": \"cuda\",\n",
    "    \"lr\": 0.0001,\n",
    "    \"labels_source\": [\n",
    "        \"3123D52\",\n",
    "        \"3123D65\",\n",
    "        \"3123D79\",\n",
    "        \"3123D80\",\n",
    "        \"3123D54\",\n",
    "        \"3123D70\",\n",
    "        \"3123D7B\",\n",
    "        \"3123D89\",\n",
    "        \"3123D58\",\n",
    "        \"3123D76\",\n",
    "        \"3123D7D\",\n",
    "        \"3123EFE\",\n",
    "        \"3123D64\",\n",
    "        \"3123D78\",\n",
    "        \"3123D7E\",\n",
    "        \"3124E4A\",\n",
    "    ],\n",
    "    \"labels_target\": [\n",
    "        \"3123D52\",\n",
    "        \"3123D65\",\n",
    "        \"3123D79\",\n",
    "        \"3123D80\",\n",
    "        \"3123D54\",\n",
    "        \"3123D70\",\n",
    "        \"3123D7B\",\n",
    "        \"3123D89\",\n",
    "        \"3123D58\",\n",
    "        \"3123D76\",\n",
    "        \"3123D7D\",\n",
    "        \"3123EFE\",\n",
    "        \"3123D64\",\n",
    "        \"3123D78\",\n",
    "        \"3123D7E\",\n",
    "        \"3124E4A\",\n",
    "    ],\n",
    "    \"episode_transforms_source\": [],\n",
    "    \"episode_transforms_target\": [],\n",
    "    \"domains_source\": [8, 32, 50],\n",
    "    \"domains_target\": [14, 20, 26, 38, 44],\n",
    "    \"num_examples_per_domain_per_label_source\": -1,\n",
    "    \"num_examples_per_domain_per_label_target\": -1,\n",
    "    \"n_shot\": 3,\n",
    "    \"n_way\": 16,\n",
    "    \"n_query\": 2,\n",
    "    \"train_k_factor\": 3,\n",
    "    \"val_k_factor\": 2,\n",
    "    \"test_k_factor\": 2,\n",
    "    \"torch_default_dtype\": \"torch.float32\",\n",
    "    \"n_epoch\": 50,\n",
    "    \"patience\": 3,\n",
    "    \"criteria_for_best\": \"target_accuracy\",\n",
    "    \"x_net\": [\n",
    "        {\"class\": \"nnReshape\", \"kargs\": {\"shape\": [-1, 1, 2, 256]}},\n",
    "        {\n",
    "            \"class\": \"Conv2d\",\n",
    "            \"kargs\": {\n",
    "                \"in_channels\": 1,\n",
    "                \"out_channels\": 256,\n",
    "                \"kernel_size\": [1, 7],\n",
    "                \"bias\": False,\n",
    "                \"padding\": [0, 3],\n",
    "            },\n",
    "        },\n",
    "        {\"class\": \"ReLU\", \"kargs\": {\"inplace\": True}},\n",
    "        {\"class\": \"BatchNorm2d\", \"kargs\": {\"num_features\": 256}},\n",
    "        {\n",
    "            \"class\": \"Conv2d\",\n",
    "            \"kargs\": {\n",
    "                \"in_channels\": 256,\n",
    "                \"out_channels\": 80,\n",
    "                \"kernel_size\": [2, 7],\n",
    "                \"bias\": True,\n",
    "                \"padding\": [0, 3],\n",
    "            },\n",
    "        },\n",
    "        {\"class\": \"ReLU\", \"kargs\": {\"inplace\": True}},\n",
    "        {\"class\": \"BatchNorm2d\", \"kargs\": {\"num_features\": 80}},\n",
    "        {\"class\": \"Flatten\", \"kargs\": {}},\n",
    "        {\"class\": \"Linear\", \"kargs\": {\"in_features\": 20480, \"out_features\": 256}},\n",
    "        {\"class\": \"ReLU\", \"kargs\": {\"inplace\": True}},\n",
    "        {\"class\": \"BatchNorm1d\", \"kargs\": {\"num_features\": 256}},\n",
    "        {\"class\": \"Linear\", \"kargs\": {\"in_features\": 256, \"out_features\": 256}},\n",
    "    ],\n",
    "    \"NUM_LOGS_PER_EPOCH\": 10,\n",
    "    \"BEST_MODEL_PATH\": \"./best_model.pth\",\n",
    "    \"pickle_name\": \"oracle.Run1_10kExamples_stratified_ds.2022A.pkl\",\n",
    "    \"x_transforms_source\": [\"unit_mag\"],\n",
    "    \"x_transforms_target\": [\"unit_mag\"],\n",
    "    \"dataset_seed\": 500,\n",
    "    \"seed\": 500,\n",
    "}\n"
   ]
  },
  {
   "cell_type": "code",
   "execution_count": 5,
   "id": "8fa1cc33",
   "metadata": {
    "execution": {
     "iopub.execute_input": "2022-03-22T04:49:24.948845Z",
     "iopub.status.busy": "2022-03-22T04:49:24.948596Z",
     "iopub.status.idle": "2022-03-22T04:49:24.962051Z",
     "shell.execute_reply": "2022-03-22T04:49:24.962438Z"
    },
    "papermill": {
     "duration": 0.026947,
     "end_time": "2022-03-22T04:49:24.962554",
     "exception": false,
     "start_time": "2022-03-22T04:49:24.935607",
     "status": "completed"
    },
    "tags": []
   },
   "outputs": [],
   "source": [
    "# Set this to True if you want to run this template directly\n",
    "STANDALONE = False\n",
    "if STANDALONE:\n",
    "    print(\"parameters not injected, running with standalone_parameters\")\n",
    "    parameters = standalone_parameters\n",
    "\n",
    "if not 'parameters' in locals() and not 'parameters' in globals():\n",
    "    raise Exception(\"Parameter injection failed\")\n",
    "\n",
    "#Use an easy dict for all the parameters\n",
    "p = EasyDict(parameters)\n",
    "\n",
    "supplied_keys = set(p.keys())\n",
    "\n",
    "if  supplied_keys != required_parameters:\n",
    "    print(\"Parameters are incorrect\")\n",
    "    if len(supplied_keys - required_parameters)>0: print(\"Shouldn't have:\", str(supplied_keys - required_parameters))\n",
    "    if len(required_parameters - supplied_keys)>0: print(\"Need to have:\", str(required_parameters - supplied_keys))\n",
    "    raise RuntimeError(\"Parameters are incorrect\")\n",
    "\n"
   ]
  },
  {
   "cell_type": "code",
   "execution_count": 6,
   "id": "3a028d58",
   "metadata": {
    "execution": {
     "iopub.execute_input": "2022-03-22T04:49:24.987602Z",
     "iopub.status.busy": "2022-03-22T04:49:24.987354Z",
     "iopub.status.idle": "2022-03-22T04:49:24.997933Z",
     "shell.execute_reply": "2022-03-22T04:49:24.998134Z"
    },
    "papermill": {
     "duration": 0.021591,
     "end_time": "2022-03-22T04:49:24.998201",
     "exception": false,
     "start_time": "2022-03-22T04:49:24.976610",
     "status": "completed"
    },
    "tags": []
   },
   "outputs": [],
   "source": [
    "###################################\n",
    "# Set the RNGs and make it all deterministic\n",
    "###################################\n",
    "np.random.seed(p.seed)\n",
    "random.seed(p.seed)\n",
    "torch.manual_seed(p.seed)\n",
    "\n",
    "torch.use_deterministic_algorithms(True) "
   ]
  },
  {
   "cell_type": "code",
   "execution_count": 7,
   "id": "b691acf6",
   "metadata": {
    "execution": {
     "iopub.execute_input": "2022-03-22T04:49:25.022401Z",
     "iopub.status.busy": "2022-03-22T04:49:25.022152Z",
     "iopub.status.idle": "2022-03-22T04:49:25.040465Z",
     "shell.execute_reply": "2022-03-22T04:49:25.040078Z"
    },
    "papermill": {
     "duration": 0.030804,
     "end_time": "2022-03-22T04:49:25.040553",
     "exception": false,
     "start_time": "2022-03-22T04:49:25.009749",
     "status": "completed"
    },
    "tags": []
   },
   "outputs": [],
   "source": [
    "###########################################\n",
    "# The stratified datasets honor this\n",
    "###########################################\n",
    "torch.set_default_dtype(eval(p.torch_default_dtype))"
   ]
  },
  {
   "cell_type": "code",
   "execution_count": 8,
   "id": "b5fba671",
   "metadata": {
    "execution": {
     "iopub.execute_input": "2022-03-22T04:49:25.066171Z",
     "iopub.status.busy": "2022-03-22T04:49:25.065923Z",
     "iopub.status.idle": "2022-03-22T04:49:25.102371Z",
     "shell.execute_reply": "2022-03-22T04:49:25.101924Z"
    },
    "papermill": {
     "duration": 0.047203,
     "end_time": "2022-03-22T04:49:25.102458",
     "exception": false,
     "start_time": "2022-03-22T04:49:25.055255",
     "status": "completed"
    },
    "tags": []
   },
   "outputs": [],
   "source": [
    "###################################\n",
    "# Build the network(s)\n",
    "# Note: It's critical to do this AFTER setting the RNG\n",
    "# (This is due to the randomized initial weights)\n",
    "###################################\n",
    "x_net = build_sequential(p.x_net)"
   ]
  },
  {
   "cell_type": "code",
   "execution_count": 9,
   "id": "5d7e61cc",
   "metadata": {
    "execution": {
     "iopub.execute_input": "2022-03-22T04:49:25.130892Z",
     "iopub.status.busy": "2022-03-22T04:49:25.129993Z",
     "iopub.status.idle": "2022-03-22T04:49:25.145193Z",
     "shell.execute_reply": "2022-03-22T04:49:25.145593Z"
    },
    "papermill": {
     "duration": 0.027403,
     "end_time": "2022-03-22T04:49:25.145711",
     "exception": false,
     "start_time": "2022-03-22T04:49:25.118308",
     "status": "completed"
    },
    "tags": []
   },
   "outputs": [],
   "source": [
    "start_time_secs = time.time()"
   ]
  },
  {
   "cell_type": "code",
   "execution_count": 10,
   "id": "fd5442bc",
   "metadata": {
    "execution": {
     "iopub.execute_input": "2022-03-22T04:49:25.178000Z",
     "iopub.status.busy": "2022-03-22T04:49:25.171168Z",
     "iopub.status.idle": "2022-03-22T04:50:44.857437Z",
     "shell.execute_reply": "2022-03-22T04:50:44.856996Z"
    },
    "papermill": {
     "duration": 79.697164,
     "end_time": "2022-03-22T04:50:44.857536",
     "exception": false,
     "start_time": "2022-03-22T04:49:25.160372",
     "status": "completed"
    },
    "tags": []
   },
   "outputs": [],
   "source": [
    "###################################\n",
    "# Build the dataset\n",
    "###################################\n",
    "\n",
    "if p.x_transforms_source == []: x_transform_source = None\n",
    "else: x_transform_source = get_chained_transform(p.x_transforms_source) \n",
    "\n",
    "if p.x_transforms_target == []: x_transform_target = None\n",
    "else: x_transform_target = get_chained_transform(p.x_transforms_target)\n",
    "\n",
    "if p.episode_transforms_source == []: episode_transform_source = None\n",
    "else: raise Exception(\"episode_transform_source not implemented\")\n",
    "\n",
    "if p.episode_transforms_target == []: episode_transform_target = None\n",
    "else: raise Exception(\"episode_transform_target not implemented\")\n",
    "\n",
    "\n",
    "eaf_source = Episodic_Accessor_Factory(\n",
    "    labels=p.labels_source,\n",
    "    domains=p.domains_source,\n",
    "    num_examples_per_domain_per_label=p.num_examples_per_domain_per_label_source,\n",
    "    iterator_seed=p.seed,\n",
    "    dataset_seed=p.dataset_seed,\n",
    "    n_shot=p.n_shot,\n",
    "    n_way=p.n_way,\n",
    "    n_query=p.n_query,\n",
    "    train_val_test_k_factors=(p.train_k_factor,p.val_k_factor,p.test_k_factor),\n",
    "    pickle_path=os.path.join(get_datasets_base_path(), p.pickle_name),\n",
    "    x_transform_func=x_transform_source,\n",
    "    example_transform_func=episode_transform_source,\n",
    "    \n",
    ")\n",
    "train_original_source, val_original_source, test_original_source = eaf_source.get_train(), eaf_source.get_val(), eaf_source.get_test()\n",
    "\n",
    "\n",
    "eaf_target = Episodic_Accessor_Factory(\n",
    "    labels=p.labels_target,\n",
    "    domains=p.domains_target,\n",
    "    num_examples_per_domain_per_label=p.num_examples_per_domain_per_label_target,\n",
    "    iterator_seed=p.seed,\n",
    "    dataset_seed=p.dataset_seed,\n",
    "    n_shot=p.n_shot,\n",
    "    n_way=p.n_way,\n",
    "    n_query=p.n_query,\n",
    "    train_val_test_k_factors=(p.train_k_factor,p.val_k_factor,p.test_k_factor),\n",
    "    pickle_path=os.path.join(get_datasets_base_path(), p.pickle_name),\n",
    "    x_transform_func=x_transform_target,\n",
    "    example_transform_func=episode_transform_target,\n",
    ")\n",
    "train_original_target, val_original_target, test_original_target = eaf_target.get_train(), eaf_target.get_val(), eaf_target.get_test()\n",
    "\n",
    "\n",
    "transform_lambda = lambda ex: ex[1] # Original is (<domain>, <episode>) so we strip down to episode only\n",
    "\n",
    "train_processed_source = Lazy_Iterable_Wrapper(train_original_source, transform_lambda)\n",
    "val_processed_source   = Lazy_Iterable_Wrapper(val_original_source, transform_lambda)\n",
    "test_processed_source  = Lazy_Iterable_Wrapper(test_original_source, transform_lambda)\n",
    "\n",
    "train_processed_target = Lazy_Iterable_Wrapper(train_original_target, transform_lambda)\n",
    "val_processed_target   = Lazy_Iterable_Wrapper(val_original_target, transform_lambda)\n",
    "test_processed_target  = Lazy_Iterable_Wrapper(test_original_target, transform_lambda)\n",
    "\n",
    "datasets = EasyDict({\n",
    "    \"source\": {\n",
    "        \"original\": {\"train\":train_original_source, \"val\":val_original_source, \"test\":test_original_source},\n",
    "        \"processed\": {\"train\":train_processed_source, \"val\":val_processed_source, \"test\":test_processed_source}\n",
    "    },\n",
    "    \"target\": {\n",
    "        \"original\": {\"train\":train_original_target, \"val\":val_original_target, \"test\":test_original_target},\n",
    "        \"processed\": {\"train\":train_processed_target, \"val\":val_processed_target, \"test\":test_processed_target}\n",
    "    },\n",
    "})"
   ]
  },
  {
   "cell_type": "code",
   "execution_count": 11,
   "id": "296189d9",
   "metadata": {
    "execution": {
     "iopub.execute_input": "2022-03-22T04:50:44.892173Z",
     "iopub.status.busy": "2022-03-22T04:50:44.885863Z",
     "iopub.status.idle": "2022-03-22T04:50:46.812209Z",
     "shell.execute_reply": "2022-03-22T04:50:46.811825Z"
    },
    "papermill": {
     "duration": 1.940174,
     "end_time": "2022-03-22T04:50:46.812292",
     "exception": false,
     "start_time": "2022-03-22T04:50:44.872118",
     "status": "completed"
    },
    "tags": []
   },
   "outputs": [
    {
     "name": "stdout",
     "output_type": "stream",
     "text": [
      "Visually inspect these to see if they line up with expected values given the transforms\n",
      "x_transforms_source ['unit_mag']\n",
      "x_transforms_target ['unit_mag']\n",
      "Average magnitude, source: 1.0\n",
      "Average power, source: 1.2818012\n"
     ]
    },
    {
     "name": "stdout",
     "output_type": "stream",
     "text": [
      "Average magnitude, target: 1.0\n",
      "Average power, target: 1.2622263\n"
     ]
    }
   ],
   "source": [
    "# Some quick unit tests on the data\n",
    "from steves_utils.transforms import get_average_power, get_average_magnitude\n",
    "\n",
    "q_x, q_y, s_x, s_y, truth = next(iter(train_processed_source))\n",
    "\n",
    "assert q_x.dtype == eval(p.torch_default_dtype)\n",
    "assert s_x.dtype == eval(p.torch_default_dtype)\n",
    "\n",
    "print(\"Visually inspect these to see if they line up with expected values given the transforms\")\n",
    "print('x_transforms_source', p.x_transforms_source)\n",
    "print('x_transforms_target', p.x_transforms_target)\n",
    "print(\"Average magnitude, source:\", get_average_magnitude(q_x[0].numpy()))\n",
    "print(\"Average power, source:\", get_average_power(q_x[0].numpy()))\n",
    "\n",
    "q_x, q_y, s_x, s_y, truth = next(iter(train_processed_target))\n",
    "print(\"Average magnitude, target:\", get_average_magnitude(q_x[0].numpy()))\n",
    "print(\"Average power, target:\", get_average_power(q_x[0].numpy()))\n"
   ]
  },
  {
   "cell_type": "code",
   "execution_count": 12,
   "id": "bbdacba1",
   "metadata": {
    "execution": {
     "iopub.execute_input": "2022-03-22T04:50:46.837875Z",
     "iopub.status.busy": "2022-03-22T04:50:46.836490Z",
     "iopub.status.idle": "2022-03-22T04:50:46.904744Z",
     "shell.execute_reply": "2022-03-22T04:50:46.904249Z"
    },
    "papermill": {
     "duration": 0.080574,
     "end_time": "2022-03-22T04:50:46.904844",
     "exception": false,
     "start_time": "2022-03-22T04:50:46.824270",
     "status": "completed"
    },
    "tags": []
   },
   "outputs": [
    {
     "name": "stdout",
     "output_type": "stream",
     "text": [
      "(2, 256)\n"
     ]
    }
   ],
   "source": [
    "###################################\n",
    "# Build the model\n",
    "###################################\n",
    "model = Steves_Prototypical_Network(x_net, device=p.device, x_shape=(2,256))\n",
    "optimizer = Adam(params=model.parameters(), lr=p.lr)"
   ]
  },
  {
   "cell_type": "code",
   "execution_count": 13,
   "id": "22b39ac5",
   "metadata": {
    "execution": {
     "iopub.execute_input": "2022-03-22T04:50:46.931600Z",
     "iopub.status.busy": "2022-03-22T04:50:46.931339Z",
     "iopub.status.idle": "2022-03-22T05:43:37.991455Z",
     "shell.execute_reply": "2022-03-22T05:43:37.991209Z"
    },
    "papermill": {
     "duration": 3171.0726,
     "end_time": "2022-03-22T05:43:37.991512",
     "exception": false,
     "start_time": "2022-03-22T04:50:46.918912",
     "status": "completed"
    },
    "tags": []
   },
   "outputs": [
    {
     "name": "stdout",
     "output_type": "stream",
     "text": [
      "epoch: 1, [batch: 1 / 12600], examples_per_second: 25.5778, train_label_loss: 2.7690, \n"
     ]
    },
    {
     "name": "stdout",
     "output_type": "stream",
     "text": [
      "epoch: 1, [batch: 1260 / 12600], examples_per_second: 3229.1367, train_label_loss: 1.7260, \n"
     ]
    },
    {
     "name": "stdout",
     "output_type": "stream",
     "text": [
      "epoch: 1, [batch: 2520 / 12600], examples_per_second: 3219.0407, train_label_loss: 1.7427, \n"
     ]
    },
    {
     "name": "stdout",
     "output_type": "stream",
     "text": [
      "epoch: 1, [batch: 3780 / 12600], examples_per_second: 3213.6886, train_label_loss: 1.4177, \n"
     ]
    },
    {
     "name": "stdout",
     "output_type": "stream",
     "text": [
      "epoch: 1, [batch: 5040 / 12600], examples_per_second: 3195.8981, train_label_loss: 1.4461, \n"
     ]
    },
    {
     "name": "stdout",
     "output_type": "stream",
     "text": [
      "epoch: 1, [batch: 6300 / 12600], examples_per_second: 3198.6840, train_label_loss: 1.3127, \n"
     ]
    },
    {
     "name": "stdout",
     "output_type": "stream",
     "text": [
      "epoch: 1, [batch: 7560 / 12600], examples_per_second: 3177.4883, train_label_loss: 1.4294, \n"
     ]
    },
    {
     "name": "stdout",
     "output_type": "stream",
     "text": [
      "epoch: 1, [batch: 8820 / 12600], examples_per_second: 3164.6731, train_label_loss: 1.1252, \n"
     ]
    },
    {
     "name": "stdout",
     "output_type": "stream",
     "text": [
      "epoch: 1, [batch: 10080 / 12600], examples_per_second: 3154.8806, train_label_loss: 0.9582, \n"
     ]
    },
    {
     "name": "stdout",
     "output_type": "stream",
     "text": [
      "epoch: 1, [batch: 11340 / 12600], examples_per_second: 3182.3812, train_label_loss: 0.7887, \n"
     ]
    },
    {
     "name": "stdout",
     "output_type": "stream",
     "text": [
      "=============================================================\n",
      "epoch: 1, source_val_acc_label: 0.6034, target_val_acc_label: 0.5182, source_val_label_loss: 1.0427, target_val_label_loss: 1.2700, \n",
      "=============================================================\n"
     ]
    },
    {
     "name": "stdout",
     "output_type": "stream",
     "text": [
      "New best\n"
     ]
    },
    {
     "name": "stdout",
     "output_type": "stream",
     "text": [
      "epoch: 2, [batch: 1 / 12600], examples_per_second: 2.2159, train_label_loss: 0.6624, \n"
     ]
    },
    {
     "name": "stdout",
     "output_type": "stream",
     "text": [
      "epoch: 2, [batch: 1260 / 12600], examples_per_second: 3105.1859, train_label_loss: 1.1825, \n"
     ]
    },
    {
     "name": "stdout",
     "output_type": "stream",
     "text": [
      "epoch: 2, [batch: 2520 / 12600], examples_per_second: 3126.1337, train_label_loss: 0.9822, \n"
     ]
    },
    {
     "name": "stdout",
     "output_type": "stream",
     "text": [
      "epoch: 2, [batch: 3780 / 12600], examples_per_second: 3196.5364, train_label_loss: 1.0107, \n"
     ]
    },
    {
     "name": "stdout",
     "output_type": "stream",
     "text": [
      "epoch: 2, [batch: 5040 / 12600], examples_per_second: 3173.7801, train_label_loss: 0.8769, \n"
     ]
    },
    {
     "name": "stdout",
     "output_type": "stream",
     "text": [
      "epoch: 2, [batch: 6300 / 12600], examples_per_second: 3206.4395, train_label_loss: 0.8609, \n"
     ]
    },
    {
     "name": "stdout",
     "output_type": "stream",
     "text": [
      "epoch: 2, [batch: 7560 / 12600], examples_per_second: 3218.8028, train_label_loss: 1.1302, \n"
     ]
    },
    {
     "name": "stdout",
     "output_type": "stream",
     "text": [
      "epoch: 2, [batch: 8820 / 12600], examples_per_second: 3200.5902, train_label_loss: 0.9711, \n"
     ]
    },
    {
     "name": "stdout",
     "output_type": "stream",
     "text": [
      "epoch: 2, [batch: 10080 / 12600], examples_per_second: 3204.0640, train_label_loss: 1.0754, \n"
     ]
    },
    {
     "name": "stdout",
     "output_type": "stream",
     "text": [
      "epoch: 2, [batch: 11340 / 12600], examples_per_second: 3218.6581, train_label_loss: 1.0484, \n"
     ]
    },
    {
     "name": "stdout",
     "output_type": "stream",
     "text": [
      "=============================================================\n",
      "epoch: 2, source_val_acc_label: 0.6624, target_val_acc_label: 0.5845, source_val_label_loss: 0.8905, target_val_label_loss: 1.1008, \n",
      "=============================================================\n"
     ]
    },
    {
     "name": "stdout",
     "output_type": "stream",
     "text": [
      "New best\n"
     ]
    },
    {
     "name": "stdout",
     "output_type": "stream",
     "text": [
      "epoch: 3, [batch: 1 / 12600], examples_per_second: 2.2494, train_label_loss: 0.8960, \n"
     ]
    },
    {
     "name": "stdout",
     "output_type": "stream",
     "text": [
      "epoch: 3, [batch: 1260 / 12600], examples_per_second: 3203.1688, train_label_loss: 0.7635, \n"
     ]
    },
    {
     "name": "stdout",
     "output_type": "stream",
     "text": [
      "epoch: 3, [batch: 2520 / 12600], examples_per_second: 3206.7817, train_label_loss: 0.5721, \n"
     ]
    },
    {
     "name": "stdout",
     "output_type": "stream",
     "text": [
      "epoch: 3, [batch: 3780 / 12600], examples_per_second: 3194.2335, train_label_loss: 0.7780, \n"
     ]
    },
    {
     "name": "stdout",
     "output_type": "stream",
     "text": [
      "epoch: 3, [batch: 5040 / 12600], examples_per_second: 3216.7767, train_label_loss: 0.6802, \n"
     ]
    },
    {
     "name": "stdout",
     "output_type": "stream",
     "text": [
      "epoch: 3, [batch: 6300 / 12600], examples_per_second: 3244.6210, train_label_loss: 0.7837, \n"
     ]
    },
    {
     "name": "stdout",
     "output_type": "stream",
     "text": [
      "epoch: 3, [batch: 7560 / 12600], examples_per_second: 3247.3949, train_label_loss: 0.8580, \n"
     ]
    },
    {
     "name": "stdout",
     "output_type": "stream",
     "text": [
      "epoch: 3, [batch: 8820 / 12600], examples_per_second: 3232.8085, train_label_loss: 0.8819, \n"
     ]
    },
    {
     "name": "stdout",
     "output_type": "stream",
     "text": [
      "epoch: 3, [batch: 10080 / 12600], examples_per_second: 3230.9200, train_label_loss: 0.7207, \n"
     ]
    },
    {
     "name": "stdout",
     "output_type": "stream",
     "text": [
      "epoch: 3, [batch: 11340 / 12600], examples_per_second: 3225.3930, train_label_loss: 0.5388, \n"
     ]
    },
    {
     "name": "stdout",
     "output_type": "stream",
     "text": [
      "=============================================================\n",
      "epoch: 3, source_val_acc_label: 0.6671, target_val_acc_label: 0.5922, source_val_label_loss: 0.8728, target_val_label_loss: 1.0801, \n",
      "=============================================================\n"
     ]
    },
    {
     "name": "stdout",
     "output_type": "stream",
     "text": [
      "New best\n"
     ]
    },
    {
     "name": "stdout",
     "output_type": "stream",
     "text": [
      "epoch: 4, [batch: 1 / 12600], examples_per_second: 2.2639, train_label_loss: 0.4256, \n"
     ]
    },
    {
     "name": "stdout",
     "output_type": "stream",
     "text": [
      "epoch: 4, [batch: 1260 / 12600], examples_per_second: 3223.4174, train_label_loss: 0.7385, \n"
     ]
    },
    {
     "name": "stdout",
     "output_type": "stream",
     "text": [
      "epoch: 4, [batch: 2520 / 12600], examples_per_second: 3216.7002, train_label_loss: 0.7017, \n"
     ]
    },
    {
     "name": "stdout",
     "output_type": "stream",
     "text": [
      "epoch: 4, [batch: 3780 / 12600], examples_per_second: 3246.5230, train_label_loss: 0.6840, \n"
     ]
    },
    {
     "name": "stdout",
     "output_type": "stream",
     "text": [
      "epoch: 4, [batch: 5040 / 12600], examples_per_second: 3229.6410, train_label_loss: 0.8360, \n"
     ]
    },
    {
     "name": "stdout",
     "output_type": "stream",
     "text": [
      "epoch: 4, [batch: 6300 / 12600], examples_per_second: 3237.6271, train_label_loss: 0.7959, \n"
     ]
    },
    {
     "name": "stdout",
     "output_type": "stream",
     "text": [
      "epoch: 4, [batch: 7560 / 12600], examples_per_second: 3245.7877, train_label_loss: 0.6823, \n"
     ]
    },
    {
     "name": "stdout",
     "output_type": "stream",
     "text": [
      "epoch: 4, [batch: 8820 / 12600], examples_per_second: 3224.9372, train_label_loss: 0.5608, \n"
     ]
    },
    {
     "name": "stdout",
     "output_type": "stream",
     "text": [
      "epoch: 4, [batch: 10080 / 12600], examples_per_second: 3238.6638, train_label_loss: 0.5624, \n"
     ]
    },
    {
     "name": "stdout",
     "output_type": "stream",
     "text": [
      "epoch: 4, [batch: 11340 / 12600], examples_per_second: 3242.6190, train_label_loss: 0.8175, \n"
     ]
    },
    {
     "name": "stdout",
     "output_type": "stream",
     "text": [
      "=============================================================\n",
      "epoch: 4, source_val_acc_label: 0.6705, target_val_acc_label: 0.5975, source_val_label_loss: 0.8705, target_val_label_loss: 1.0663, \n",
      "=============================================================\n"
     ]
    },
    {
     "name": "stdout",
     "output_type": "stream",
     "text": [
      "New best\n"
     ]
    },
    {
     "name": "stdout",
     "output_type": "stream",
     "text": [
      "epoch: 5, [batch: 1 / 12600], examples_per_second: 2.2689, train_label_loss: 0.5403, \n"
     ]
    },
    {
     "name": "stdout",
     "output_type": "stream",
     "text": [
      "epoch: 5, [batch: 1260 / 12600], examples_per_second: 3228.1478, train_label_loss: 0.4462, \n"
     ]
    },
    {
     "name": "stdout",
     "output_type": "stream",
     "text": [
      "epoch: 5, [batch: 2520 / 12600], examples_per_second: 3226.1388, train_label_loss: 0.7761, \n"
     ]
    },
    {
     "name": "stdout",
     "output_type": "stream",
     "text": [
      "epoch: 5, [batch: 3780 / 12600], examples_per_second: 3239.7118, train_label_loss: 0.5692, \n"
     ]
    },
    {
     "name": "stdout",
     "output_type": "stream",
     "text": [
      "epoch: 5, [batch: 5040 / 12600], examples_per_second: 3225.8873, train_label_loss: 0.5100, \n"
     ]
    },
    {
     "name": "stdout",
     "output_type": "stream",
     "text": [
      "epoch: 5, [batch: 6300 / 12600], examples_per_second: 3245.4709, train_label_loss: 0.6276, \n"
     ]
    },
    {
     "name": "stdout",
     "output_type": "stream",
     "text": [
      "epoch: 5, [batch: 7560 / 12600], examples_per_second: 3243.3027, train_label_loss: 0.5752, \n"
     ]
    },
    {
     "name": "stdout",
     "output_type": "stream",
     "text": [
      "epoch: 5, [batch: 8820 / 12600], examples_per_second: 3233.9567, train_label_loss: 0.5062, \n"
     ]
    },
    {
     "name": "stdout",
     "output_type": "stream",
     "text": [
      "epoch: 5, [batch: 10080 / 12600], examples_per_second: 3244.8675, train_label_loss: 0.3528, \n"
     ]
    },
    {
     "name": "stdout",
     "output_type": "stream",
     "text": [
      "epoch: 5, [batch: 11340 / 12600], examples_per_second: 3238.5804, train_label_loss: 0.3658, \n"
     ]
    },
    {
     "name": "stdout",
     "output_type": "stream",
     "text": [
      "=============================================================\n",
      "epoch: 5, source_val_acc_label: 0.6898, target_val_acc_label: 0.6115, source_val_label_loss: 0.8757, target_val_label_loss: 1.0662, \n",
      "=============================================================\n"
     ]
    },
    {
     "name": "stdout",
     "output_type": "stream",
     "text": [
      "New best\n"
     ]
    },
    {
     "name": "stdout",
     "output_type": "stream",
     "text": [
      "epoch: 6, [batch: 1 / 12600], examples_per_second: 2.2620, train_label_loss: 0.5147, \n"
     ]
    },
    {
     "name": "stdout",
     "output_type": "stream",
     "text": [
      "epoch: 6, [batch: 1260 / 12600], examples_per_second: 3230.1874, train_label_loss: 0.8647, \n"
     ]
    },
    {
     "name": "stdout",
     "output_type": "stream",
     "text": [
      "epoch: 6, [batch: 2520 / 12600], examples_per_second: 3227.4234, train_label_loss: 0.8302, \n"
     ]
    },
    {
     "name": "stdout",
     "output_type": "stream",
     "text": [
      "epoch: 6, [batch: 3780 / 12600], examples_per_second: 3242.6553, train_label_loss: 0.4908, \n"
     ]
    },
    {
     "name": "stdout",
     "output_type": "stream",
     "text": [
      "epoch: 6, [batch: 5040 / 12600], examples_per_second: 3224.1357, train_label_loss: 0.4651, \n"
     ]
    },
    {
     "name": "stdout",
     "output_type": "stream",
     "text": [
      "epoch: 6, [batch: 6300 / 12600], examples_per_second: 3228.5328, train_label_loss: 0.4230, \n"
     ]
    },
    {
     "name": "stdout",
     "output_type": "stream",
     "text": [
      "epoch: 6, [batch: 7560 / 12600], examples_per_second: 3239.6325, train_label_loss: 0.3972, \n"
     ]
    },
    {
     "name": "stdout",
     "output_type": "stream",
     "text": [
      "epoch: 6, [batch: 8820 / 12600], examples_per_second: 3218.1734, train_label_loss: 0.3848, \n"
     ]
    },
    {
     "name": "stdout",
     "output_type": "stream",
     "text": [
      "epoch: 6, [batch: 10080 / 12600], examples_per_second: 3232.8869, train_label_loss: 0.6601, \n"
     ]
    },
    {
     "name": "stdout",
     "output_type": "stream",
     "text": [
      "epoch: 6, [batch: 11340 / 12600], examples_per_second: 3255.3486, train_label_loss: 0.4936, \n"
     ]
    },
    {
     "name": "stdout",
     "output_type": "stream",
     "text": [
      "=============================================================\n",
      "epoch: 6, source_val_acc_label: 0.6868, target_val_acc_label: 0.6099, source_val_label_loss: 0.9191, target_val_label_loss: 1.1109, \n",
      "=============================================================\n"
     ]
    },
    {
     "name": "stdout",
     "output_type": "stream",
     "text": [
      "epoch: 7, [batch: 1 / 12600], examples_per_second: 2.2582, train_label_loss: 0.2912, \n"
     ]
    },
    {
     "name": "stdout",
     "output_type": "stream",
     "text": [
      "epoch: 7, [batch: 1260 / 12600], examples_per_second: 3223.0055, train_label_loss: 0.4563, \n"
     ]
    },
    {
     "name": "stdout",
     "output_type": "stream",
     "text": [
      "epoch: 7, [batch: 2520 / 12600], examples_per_second: 3240.5263, train_label_loss: 0.4966, \n"
     ]
    },
    {
     "name": "stdout",
     "output_type": "stream",
     "text": [
      "epoch: 7, [batch: 3780 / 12600], examples_per_second: 3245.2890, train_label_loss: 0.4669, \n"
     ]
    },
    {
     "name": "stdout",
     "output_type": "stream",
     "text": [
      "epoch: 7, [batch: 5040 / 12600], examples_per_second: 3228.1533, train_label_loss: 0.4875, \n"
     ]
    },
    {
     "name": "stdout",
     "output_type": "stream",
     "text": [
      "epoch: 7, [batch: 6300 / 12600], examples_per_second: 3234.0603, train_label_loss: 0.5639, \n"
     ]
    },
    {
     "name": "stdout",
     "output_type": "stream",
     "text": [
      "epoch: 7, [batch: 7560 / 12600], examples_per_second: 3233.6116, train_label_loss: 0.3198, \n"
     ]
    },
    {
     "name": "stdout",
     "output_type": "stream",
     "text": [
      "epoch: 7, [batch: 8820 / 12600], examples_per_second: 3221.5555, train_label_loss: 0.5845, \n"
     ]
    },
    {
     "name": "stdout",
     "output_type": "stream",
     "text": [
      "epoch: 7, [batch: 10080 / 12600], examples_per_second: 3229.2785, train_label_loss: 0.2607, \n"
     ]
    },
    {
     "name": "stdout",
     "output_type": "stream",
     "text": [
      "epoch: 7, [batch: 11340 / 12600], examples_per_second: 3238.3322, train_label_loss: 0.7456, \n"
     ]
    },
    {
     "name": "stdout",
     "output_type": "stream",
     "text": [
      "=============================================================\n",
      "epoch: 7, source_val_acc_label: 0.6767, target_val_acc_label: 0.6016, source_val_label_loss: 0.9338, target_val_label_loss: 1.1232, \n",
      "=============================================================\n"
     ]
    },
    {
     "name": "stdout",
     "output_type": "stream",
     "text": [
      "epoch: 8, [batch: 1 / 12600], examples_per_second: 2.2698, train_label_loss: 0.3786, \n"
     ]
    },
    {
     "name": "stdout",
     "output_type": "stream",
     "text": [
      "epoch: 8, [batch: 1260 / 12600], examples_per_second: 3226.5296, train_label_loss: 0.3133, \n"
     ]
    },
    {
     "name": "stdout",
     "output_type": "stream",
     "text": [
      "epoch: 8, [batch: 2520 / 12600], examples_per_second: 3232.7515, train_label_loss: 0.4817, \n"
     ]
    },
    {
     "name": "stdout",
     "output_type": "stream",
     "text": [
      "epoch: 8, [batch: 3780 / 12600], examples_per_second: 3219.6103, train_label_loss: 0.5480, \n"
     ]
    },
    {
     "name": "stdout",
     "output_type": "stream",
     "text": [
      "epoch: 8, [batch: 5040 / 12600], examples_per_second: 3235.2440, train_label_loss: 0.2141, \n"
     ]
    },
    {
     "name": "stdout",
     "output_type": "stream",
     "text": [
      "epoch: 8, [batch: 6300 / 12600], examples_per_second: 3254.9447, train_label_loss: 0.8308, \n"
     ]
    },
    {
     "name": "stdout",
     "output_type": "stream",
     "text": [
      "epoch: 8, [batch: 7560 / 12600], examples_per_second: 3241.5584, train_label_loss: 0.2468, \n"
     ]
    },
    {
     "name": "stdout",
     "output_type": "stream",
     "text": [
      "epoch: 8, [batch: 8820 / 12600], examples_per_second: 3225.6664, train_label_loss: 0.1801, \n"
     ]
    },
    {
     "name": "stdout",
     "output_type": "stream",
     "text": [
      "epoch: 8, [batch: 10080 / 12600], examples_per_second: 3234.1278, train_label_loss: 0.3117, \n"
     ]
    },
    {
     "name": "stdout",
     "output_type": "stream",
     "text": [
      "epoch: 8, [batch: 11340 / 12600], examples_per_second: 3234.4317, train_label_loss: 0.4171, \n"
     ]
    },
    {
     "name": "stdout",
     "output_type": "stream",
     "text": [
      "=============================================================\n",
      "epoch: 8, source_val_acc_label: 0.6871, target_val_acc_label: 0.6078, source_val_label_loss: 0.9805, target_val_label_loss: 1.1735, \n",
      "=============================================================\n"
     ]
    },
    {
     "name": "stdout",
     "output_type": "stream",
     "text": [
      "epoch: 9, [batch: 1 / 12600], examples_per_second: 2.2775, train_label_loss: 0.3215, \n"
     ]
    },
    {
     "name": "stdout",
     "output_type": "stream",
     "text": [
      "epoch: 9, [batch: 1260 / 12600], examples_per_second: 3215.2704, train_label_loss: 0.3654, \n"
     ]
    },
    {
     "name": "stdout",
     "output_type": "stream",
     "text": [
      "epoch: 9, [batch: 2520 / 12600], examples_per_second: 3207.3178, train_label_loss: 0.5113, \n"
     ]
    },
    {
     "name": "stdout",
     "output_type": "stream",
     "text": [
      "epoch: 9, [batch: 3780 / 12600], examples_per_second: 3237.1793, train_label_loss: 0.5012, \n"
     ]
    },
    {
     "name": "stdout",
     "output_type": "stream",
     "text": [
      "epoch: 9, [batch: 5040 / 12600], examples_per_second: 3226.6778, train_label_loss: 0.4291, \n"
     ]
    },
    {
     "name": "stdout",
     "output_type": "stream",
     "text": [
      "epoch: 9, [batch: 6300 / 12600], examples_per_second: 3232.8979, train_label_loss: 0.2664, \n"
     ]
    },
    {
     "name": "stdout",
     "output_type": "stream",
     "text": [
      "epoch: 9, [batch: 7560 / 12600], examples_per_second: 3253.6284, train_label_loss: 0.6196, \n"
     ]
    },
    {
     "name": "stdout",
     "output_type": "stream",
     "text": [
      "epoch: 9, [batch: 8820 / 12600], examples_per_second: 3238.4963, train_label_loss: 0.3791, \n"
     ]
    },
    {
     "name": "stdout",
     "output_type": "stream",
     "text": [
      "epoch: 9, [batch: 10080 / 12600], examples_per_second: 3237.4391, train_label_loss: 0.2115, \n"
     ]
    },
    {
     "name": "stdout",
     "output_type": "stream",
     "text": [
      "epoch: 9, [batch: 11340 / 12600], examples_per_second: 3236.0933, train_label_loss: 0.2549, \n"
     ]
    },
    {
     "name": "stdout",
     "output_type": "stream",
     "text": [
      "=============================================================\n",
      "epoch: 9, source_val_acc_label: 0.6881, target_val_acc_label: 0.6030, source_val_label_loss: 0.9975, target_val_label_loss: 1.2096, \n",
      "=============================================================\n"
     ]
    },
    {
     "name": "stdout",
     "output_type": "stream",
     "text": [
      "Patience (3) exhausted\n"
     ]
    }
   ],
   "source": [
    "###################################\n",
    "# train\n",
    "###################################\n",
    "jig = PTN_Train_Eval_Test_Jig(model, p.BEST_MODEL_PATH, p.device)\n",
    "\n",
    "jig.train(\n",
    "    train_iterable=datasets.source.processed.train,\n",
    "    source_val_iterable=datasets.source.processed.val,\n",
    "    target_val_iterable=datasets.target.processed.val,\n",
    "    num_epochs=p.n_epoch,\n",
    "    num_logs_per_epoch=p.NUM_LOGS_PER_EPOCH,\n",
    "    patience=p.patience,\n",
    "    optimizer=optimizer,\n",
    "    criteria_for_best=p.criteria_for_best,\n",
    ")"
   ]
  },
  {
   "cell_type": "code",
   "execution_count": 14,
   "id": "31e8fabf",
   "metadata": {
    "execution": {
     "iopub.execute_input": "2022-03-22T05:43:38.049798Z",
     "iopub.status.busy": "2022-03-22T05:43:38.049404Z",
     "iopub.status.idle": "2022-03-22T05:43:38.065100Z",
     "shell.execute_reply": "2022-03-22T05:43:38.064655Z"
    },
    "papermill": {
     "duration": 0.04547,
     "end_time": "2022-03-22T05:43:38.065187",
     "exception": false,
     "start_time": "2022-03-22T05:43:38.019717",
     "status": "completed"
    },
    "tags": []
   },
   "outputs": [],
   "source": [
    "total_experiment_time_secs = time.time() - start_time_secs"
   ]
  },
  {
   "cell_type": "code",
   "execution_count": 15,
   "id": "87b9595b",
   "metadata": {
    "execution": {
     "iopub.execute_input": "2022-03-22T05:43:38.129904Z",
     "iopub.status.busy": "2022-03-22T05:43:38.129637Z",
     "iopub.status.idle": "2022-03-22T05:47:40.415329Z",
     "shell.execute_reply": "2022-03-22T05:47:40.414732Z"
    },
    "papermill": {
     "duration": 242.317608,
     "end_time": "2022-03-22T05:47:40.415446",
     "exception": false,
     "start_time": "2022-03-22T05:43:38.097838",
     "status": "completed"
    },
    "tags": []
   },
   "outputs": [],
   "source": [
    "###################################\n",
    "# Evaluate the model\n",
    "###################################\n",
    "source_test_label_accuracy, source_test_label_loss = jig.test(datasets.source.processed.test)\n",
    "target_test_label_accuracy, target_test_label_loss = jig.test(datasets.target.processed.test)\n",
    "\n",
    "source_val_label_accuracy, source_val_label_loss = jig.test(datasets.source.processed.val)\n",
    "target_val_label_accuracy, target_val_label_loss = jig.test(datasets.target.processed.val)\n",
    "\n",
    "history = jig.get_history()\n",
    "\n",
    "total_epochs_trained = len(history[\"epoch_indices\"])\n",
    "\n",
    "val_dl = Iterable_Aggregator((datasets.source.original.val,datasets.target.original.val))\n",
    "\n",
    "confusion = ptn_confusion_by_domain_over_dataloader(model, p.device, val_dl)\n",
    "per_domain_accuracy = per_domain_accuracy_from_confusion(confusion)\n",
    "\n",
    "# Add a key to per_domain_accuracy for if it was a source domain\n",
    "for domain, accuracy in per_domain_accuracy.items():\n",
    "    per_domain_accuracy[domain] = {\n",
    "        \"accuracy\": accuracy,\n",
    "        \"source?\": domain in p.domains_source\n",
    "    }\n",
    "\n",
    "# Do an independent accuracy assesment JUST TO BE SURE!\n",
    "# _source_test_label_accuracy = independent_accuracy_assesment(model, datasets.source.processed.test, p.device)\n",
    "# _target_test_label_accuracy = independent_accuracy_assesment(model, datasets.target.processed.test, p.device)\n",
    "# _source_val_label_accuracy = independent_accuracy_assesment(model, datasets.source.processed.val, p.device)\n",
    "# _target_val_label_accuracy = independent_accuracy_assesment(model, datasets.target.processed.val, p.device)\n",
    "\n",
    "# assert(_source_test_label_accuracy == source_test_label_accuracy)\n",
    "# assert(_target_test_label_accuracy == target_test_label_accuracy)\n",
    "# assert(_source_val_label_accuracy == source_val_label_accuracy)\n",
    "# assert(_target_val_label_accuracy == target_val_label_accuracy)\n",
    "\n",
    "experiment = {\n",
    "    \"experiment_name\": p.experiment_name,\n",
    "    \"parameters\": dict(p),\n",
    "    \"results\": {\n",
    "        \"source_test_label_accuracy\": source_test_label_accuracy,\n",
    "        \"source_test_label_loss\": source_test_label_loss,\n",
    "        \"target_test_label_accuracy\": target_test_label_accuracy,\n",
    "        \"target_test_label_loss\": target_test_label_loss,\n",
    "        \"source_val_label_accuracy\": source_val_label_accuracy,\n",
    "        \"source_val_label_loss\": source_val_label_loss,\n",
    "        \"target_val_label_accuracy\": target_val_label_accuracy,\n",
    "        \"target_val_label_loss\": target_val_label_loss,\n",
    "        \"total_epochs_trained\": total_epochs_trained,\n",
    "        \"total_experiment_time_secs\": total_experiment_time_secs,\n",
    "        \"confusion\": confusion,\n",
    "        \"per_domain_accuracy\": per_domain_accuracy,\n",
    "    },\n",
    "    \"history\": history,\n",
    "    \"dataset_metrics\": get_dataset_metrics(datasets, \"ptn\"),\n",
    "}"
   ]
  },
  {
   "cell_type": "code",
   "execution_count": 16,
   "id": "54a21829",
   "metadata": {
    "execution": {
     "iopub.execute_input": "2022-03-22T05:47:40.481722Z",
     "iopub.status.busy": "2022-03-22T05:47:40.481265Z",
     "iopub.status.idle": "2022-03-22T05:47:40.622599Z",
     "shell.execute_reply": "2022-03-22T05:47:40.622999Z"
    },
    "papermill": {
     "duration": 0.17397,
     "end_time": "2022-03-22T05:47:40.623125",
     "exception": false,
     "start_time": "2022-03-22T05:47:40.449155",
     "status": "completed"
    },
    "tags": []
   },
   "outputs": [
    {
     "data": {
      "image/png": "[encoded data removed]",
      "text/plain": [
       "<Figure size 1080x504 with 1 Axes>"
      ]
     },
     "metadata": {
      "needs_background": "light"
     },
     "output_type": "display_data"
    }
   ],
   "source": [
    "ax = get_loss_curve(experiment)\n",
    "plt.show()"
   ]
  },
  {
   "cell_type": "code",
   "execution_count": 17,
   "id": "fd8a0f60",
   "metadata": {
    "execution": {
     "iopub.execute_input": "2022-03-22T05:47:40.689989Z",
     "iopub.status.busy": "2022-03-22T05:47:40.689731Z",
     "iopub.status.idle": "2022-03-22T05:47:40.831103Z",
     "shell.execute_reply": "2022-03-22T05:47:40.831335Z"
    },
    "papermill": {
     "duration": 0.174254,
     "end_time": "2022-03-22T05:47:40.831411",
     "exception": false,
     "start_time": "2022-03-22T05:47:40.657157",
     "status": "completed"
    },
    "tags": []
   },
   "outputs": [
    {
     "data": {
      "text/plain": [
       "<AxesSubplot:title={'center':'Results'}>"
      ]
     },
     "execution_count": 17,
     "metadata": {},
     "output_type": "execute_result"
    },
    {
     "data": {
      "image/png": "[encoded data removed]",
      "text/plain": [
       "<Figure size 1080x504 with 1 Axes>"
      ]
     },
     "metadata": {
      "needs_background": "light"
     },
     "output_type": "display_data"
    }
   ],
   "source": [
    "get_results_table(experiment)"
   ]
  },
  {
   "cell_type": "code",
   "execution_count": 18,
   "id": "cf8dc689",
   "metadata": {
    "execution": {
     "iopub.execute_input": "2022-03-22T05:47:40.897534Z",
     "iopub.status.busy": "2022-03-22T05:47:40.897280Z",
     "iopub.status.idle": "2022-03-22T05:47:41.016520Z",
     "shell.execute_reply": "2022-03-22T05:47:41.016115Z"
    },
    "papermill": {
     "duration": 0.153146,
     "end_time": "2022-03-22T05:47:41.016627",
     "exception": false,
     "start_time": "2022-03-22T05:47:40.863481",
     "status": "completed"
    },
    "tags": []
   },
   "outputs": [
    {
     "data": {
      "text/plain": [
       "<AxesSubplot:title={'center':'Per Domain Validation Accuracy'}, xlabel='domain'>"
      ]
     },
     "execution_count": 18,
     "metadata": {},
     "output_type": "execute_result"
    },
    {
     "data": {
      "image/png": "[encoded data removed]",
      "text/plain": [
       "<Figure size 1080x504 with 1 Axes>"
      ]
     },
     "metadata": {
      "needs_background": "light"
     },
     "output_type": "display_data"
    }
   ],
   "source": [
    "get_domain_accuracies(experiment)"
   ]
  },
  {
   "cell_type": "code",
   "execution_count": 19,
   "id": "a74ae082",
   "metadata": {
    "execution": {
     "iopub.execute_input": "2022-03-22T05:47:41.087599Z",
     "iopub.status.busy": "2022-03-22T05:47:41.087158Z",
     "iopub.status.idle": "2022-03-22T05:47:41.103643Z",
     "shell.execute_reply": "2022-03-22T05:47:41.103205Z"
    },
    "papermill": {
     "duration": 0.051526,
     "end_time": "2022-03-22T05:47:41.103746",
     "exception": false,
     "start_time": "2022-03-22T05:47:41.052220",
     "status": "completed"
    },
    "tags": []
   },
   "outputs": [
    {
     "name": "stdout",
     "output_type": "stream",
     "text": [
      "Source Test Label Accuracy: 0.6879340277777778 Target Test Label Accuracy: 0.61384375\n",
      "Source Val Label Accuracy: 0.68984375 Target Val Label Accuracy: 0.6115208333333333\n"
     ]
    }
   ],
   "source": [
    "print(\"Source Test Label Accuracy:\", experiment[\"results\"][\"source_test_label_accuracy\"], \"Target Test Label Accuracy:\", experiment[\"results\"][\"target_test_label_accuracy\"])\n",
    "print(\"Source Val Label Accuracy:\", experiment[\"results\"][\"source_val_label_accuracy\"], \"Target Val Label Accuracy:\", experiment[\"results\"][\"target_val_label_accuracy\"])"
   ]
  },
  {
   "cell_type": "code",
   "execution_count": 20,
   "id": "dacca602",
   "metadata": {
    "execution": {
     "iopub.execute_input": "2022-03-22T05:47:41.187765Z",
     "iopub.status.busy": "2022-03-22T05:47:41.184630Z",
     "iopub.status.idle": "2022-03-22T05:47:41.191580Z",
     "shell.execute_reply": "2022-03-22T05:47:41.191975Z"
    },
    "papermill": {
     "duration": 0.050527,
     "end_time": "2022-03-22T05:47:41.192068",
     "exception": false,
     "start_time": "2022-03-22T05:47:41.141541",
     "status": "completed"
    },
    "tags": [
     "experiment_json"
    ]
   },
   "outputs": [
    {
     "data": {
      "text/plain": [
       "'{\"experiment_name\": \"tuned_1v2:oracle.run1\", \"parameters\": {\"experiment_name\": \"tuned_1v2:oracle.run1\", \"device\": \"cuda\", \"lr\": 0.0001, \"labels_source\": [\"3123D52\", \"3123D65\", \"3123D79\", \"3123D80\", \"3123D54\", \"3123D70\", \"3123D7B\", \"3123D89\", \"3123D58\", \"3123D76\", \"3123D7D\", \"3123EFE\", \"3123D64\", \"3123D78\", \"3123D7E\", \"3124E4A\"], \"labels_target\": [\"3123D52\", \"3123D65\", \"3123D79\", \"3123D80\", \"3123D54\", \"3123D70\", \"3123D7B\", \"3123D89\", \"3123D58\", \"3123D76\", \"3123D7D\", \"3123EFE\", \"3123D64\", \"3123D78\", \"3123D7E\", \"3124E4A\"], \"episode_transforms_source\": [], \"episode_transforms_target\": [], \"domains_source\": [8, 32, 50], \"domains_target\": [14, 20, 26, 38, 44], \"num_examples_per_domain_per_label_source\": -1, \"num_examples_per_domain_per_label_target\": -1, \"n_shot\": 3, \"n_way\": 16, \"n_query\": 2, \"train_k_factor\": 3, \"val_k_factor\": 2, \"test_k_factor\": 2, \"torch_default_dtype\": \"torch.float32\", \"n_epoch\": 50, \"patience\": 3, \"criteria_for_best\": \"target_accuracy\", \"x_net\": [{\"class\": \"nnReshape\", \"kargs\": {\"shape\": [-1, 1, 2, 256]}}, {\"class\": \"Conv2d\", \"kargs\": {\"in_channels\": 1, \"out_channels\": 256, \"kernel_size\": [1, 7], \"bias\": false, \"padding\": [0, 3]}}, {\"class\": \"ReLU\", \"kargs\": {\"inplace\": true}}, {\"class\": \"BatchNorm2d\", \"kargs\": {\"num_features\": 256}}, {\"class\": \"Conv2d\", \"kargs\": {\"in_channels\": 256, \"out_channels\": 80, \"kernel_size\": [2, 7], \"bias\": true, \"padding\": [0, 3]}}, {\"class\": \"ReLU\", \"kargs\": {\"inplace\": true}}, {\"class\": \"BatchNorm2d\", \"kargs\": {\"num_features\": 80}}, {\"class\": \"Flatten\", \"kargs\": {}}, {\"class\": \"Linear\", \"kargs\": {\"in_features\": 20480, \"out_features\": 256}}, {\"class\": \"ReLU\", \"kargs\": {\"inplace\": true}}, {\"class\": \"BatchNorm1d\", \"kargs\": {\"num_features\": 256}}, {\"class\": \"Linear\", \"kargs\": {\"in_features\": 256, \"out_features\": 256}}], \"NUM_LOGS_PER_EPOCH\": 10, \"BEST_MODEL_PATH\": \"./best_model.pth\", \"pickle_name\": \"oracle.Run1_10kExamples_stratified_ds.2022A.pkl\", \"x_transforms_source\": [\"unit_mag\"], \"x_transforms_target\": [\"unit_mag\"], \"dataset_seed\": 500, \"seed\": 500}, \"results\": {\"source_test_label_accuracy\": 0.6879340277777778, \"source_test_label_loss\": 0.8756745457649231, \"target_test_label_accuracy\": 0.61384375, \"target_test_label_loss\": 1.0613545179367065, \"source_val_label_accuracy\": 0.68984375, \"source_val_label_loss\": 0.8756750226020813, \"target_val_label_accuracy\": 0.6115208333333333, \"target_val_label_loss\": 1.066186785697937, \"total_epochs_trained\": 9, \"total_experiment_time_secs\": 3252.919246196747, \"confusion\": {\"8\": {\"7\": {\"7\": 822, \"6\": 294, \"0\": 66, \"8\": 5, \"4\": 5, \"13\": 5, \"2\": 2, \"15\": 1}, \"10\": {\"10\": 790, \"14\": 220, \"5\": 26, \"13\": 104, \"4\": 41, \"1\": 10, \"11\": 2, \"0\": 6, \"6\": 1}, \"0\": {\"6\": 88, \"0\": 654, \"13\": 256, \"4\": 75, \"7\": 108, \"14\": 8, \"10\": 11}, \"11\": {\"11\": 664, \"1\": 460, \"14\": 27, \"4\": 4, \"5\": 29, \"8\": 15, \"10\": 1}, \"2\": {\"3\": 229, \"2\": 878, \"15\": 48, \"12\": 23, \"8\": 2, \"7\": 20}, \"14\": {\"13\": 103, \"14\": 575, \"4\": 170, \"6\": 15, \"10\": 232, \"11\": 16, \"1\": 78, \"0\": 8, \"5\": 3}, \"9\": {\"9\": 1200}, \"13\": {\"0\": 323, \"13\": 382, \"6\": 52, \"4\": 188, \"10\": 129, \"5\": 3, \"14\": 106, \"7\": 13, \"11\": 2, \"1\": 2}, \"8\": {\"8\": 1089, \"15\": 82, \"12\": 9, \"6\": 15, \"7\": 5}, \"15\": {\"12\": 268, \"15\": 814, \"8\": 79, \"2\": 16, \"3\": 19, \"7\": 3, \"6\": 1}, \"4\": {\"13\": 223, \"0\": 92, \"4\": 494, \"14\": 188, \"6\": 153, \"8\": 2, \"7\": 8, \"10\": 33, \"1\": 4, \"11\": 3}, \"5\": {\"5\": 1052, \"10\": 83, \"11\": 5, \"1\": 46, \"14\": 14}, \"3\": {\"3\": 910, \"15\": 15, \"2\": 165, \"12\": 110}, \"1\": {\"1\": 696, \"11\": 359, \"14\": 87, \"5\": 24, \"10\": 27, \"4\": 7}, \"6\": {\"6\": 675, \"7\": 268, \"4\": 141, \"0\": 73, \"13\": 24, \"8\": 13, \"14\": 4, \"15\": 1, \"11\": 1}, \"12\": {\"12\": 590, \"15\": 355, \"3\": 199, \"8\": 34, \"2\": 22}}, \"50\": {\"11\": {\"11\": 1032, \"15\": 32, \"9\": 97, \"12\": 9, \"14\": 28, \"1\": 2}, \"2\": {\"2\": 1103, \"0\": 96, \"1\": 1}, \"12\": {\"12\": 1061, \"9\": 84, \"14\": 47, \"11\": 8}, \"8\": {\"10\": 23, \"8\": 1166, \"3\": 11}, \"4\": {\"15\": 225, \"4\": 405, \"13\": 33, \"6\": 192, \"1\": 197, \"7\": 32, \"5\": 115, \"10\": 1}, \"10\": {\"10\": 1073, \"0\": 50, \"13\": 19, \"7\": 35, \"8\": 18, \"6\": 1, \"5\": 4}, \"14\": {\"14\": 1148, \"11\": 14, \"12\": 33, \"9\": 5}, \"13\": {\"5\": 291, \"13\": 579, \"7\": 235, \"10\": 16, \"6\": 61, \"4\": 11, \"0\": 7}, \"6\": {\"6\": 672, \"4\": 185, \"13\": 71, \"1\": 137, \"5\": 115, \"15\": 17, \"7\": 2, \"0\": 1}, \"9\": {\"9\": 900, \"14\": 4, \"12\": 104, \"11\": 192}, \"15\": {\"15\": 847, \"1\": 194, \"11\": 31, \"4\": 116, \"14\": 3, \"6\": 8, \"9\": 1}, \"1\": {\"4\": 194, \"15\": 257, \"1\": 622, \"6\": 111, \"14\": 6, \"11\": 3, \"5\": 5, \"2\": 1, \"13\": 1}, \"3\": {\"3\": 1178, \"8\": 22}, \"7\": {\"7\": 706, \"13\": 287, \"5\": 161, \"10\": 38, \"4\": 3, \"6\": 3, \"0\": 2}, \"0\": {\"2\": 139, \"0\": 996, \"10\": 51, \"13\": 8, \"6\": 1, \"1\": 2, \"5\": 3}, \"5\": {\"13\": 251, \"5\": 305, \"7\": 270, \"6\": 211, \"4\": 122, \"10\": 14, \"1\": 24, \"0\": 2, \"2\": 1}}, \"32\": {\"4\": {\"0\": 184, \"7\": 140, \"4\": 537, \"13\": 35, \"2\": 197, \"5\": 82, \"14\": 21, \"8\": 4}, \"14\": {\"11\": 353, \"14\": 398, \"4\": 37, \"13\": 68, \"7\": 248, \"2\": 11, \"5\": 51, \"0\": 17, \"3\": 15, \"8\": 2}, \"5\": {\"13\": 325, \"7\": 136, \"4\": 128, \"8\": 110, \"0\": 84, \"3\": 45, \"5\": 297, \"11\": 29, \"14\": 39, \"2\": 7}, \"10\": {\"10\": 1194, \"1\": 6}, \"13\": {\"13\": 369, \"4\": 57, \"8\": 105, \"5\": 331, \"3\": 83, \"7\": 100, \"14\": 65, \"0\": 61, \"11\": 28, \"2\": 1}, \"9\": {\"9\": 1198, \"2\": 1, \"12\": 1}, \"6\": {\"6\": 1200}, \"3\": {\"5\": 26, \"3\": 1068, \"11\": 40, \"13\": 34, \"14\": 11, \"8\": 21}, \"15\": {\"15\": 1190, \"8\": 7, \"3\": 3}, \"7\": {\"7\": 469, \"4\": 161, \"14\": 226, \"13\": 107, \"0\": 31, \"3\": 1, \"5\": 122, \"2\": 30, \"11\": 46, \"8\": 7}, \"12\": {\"12\": 1200}, \"8\": {\"5\": 114, \"8\": 824, \"13\": 147, \"3\": 21, \"0\": 80, \"7\": 7, \"4\": 7}, \"11\": {\"11\": 888, \"7\": 28, \"13\": 24, \"14\": 226, \"3\": 26, \"5\": 8}, \"2\": {\"2\": 969, \"4\": 164, \"7\": 23, \"0\": 40, \"5\": 3, \"13\": 1}, \"1\": {\"1\": 1195, \"10\": 5}, \"0\": {\"0\": 661, \"2\": 74, \"13\": 38, \"7\": 41, \"4\": 226, \"8\": 85, \"5\": 63, \"14\": 12}}, \"20\": {\"7\": {\"7\": 721, \"8\": 112, \"2\": 170, \"13\": 6, \"9\": 100, \"3\": 40, \"6\": 21, \"12\": 6, \"4\": 14, \"10\": 6, \"11\": 3, \"14\": 1}, \"10\": {\"10\": 755, \"14\": 220, \"8\": 144, \"4\": 58, \"6\": 16, \"7\": 6, \"9\": 1}, \"0\": {\"0\": 384, \"5\": 297, \"15\": 134, \"3\": 68, \"9\": 14, \"12\": 118, \"1\": 160, \"4\": 11, \"2\": 9, \"7\": 1, \"8\": 2, \"13\": 2}, \"11\": {\"11\": 1194, \"7\": 3, \"2\": 1, \"6\": 2}, \"2\": {\"2\": 423, \"12\": 70, \"9\": 284, \"13\": 119, \"7\": 186, \"1\": 9, \"3\": 87, \"4\": 3, \"8\": 8, \"15\": 2, \"5\": 7, \"0\": 2}, \"14\": {\"10\": 223, \"14\": 761, \"6\": 191, \"8\": 24, \"7\": 1}, \"9\": {\"12\": 109, \"8\": 15, \"4\": 20, \"9\": 343, \"2\": 292, \"5\": 18, \"7\": 93, \"13\": 73, \"15\": 7, \"3\": 200, \"1\": 22, \"0\": 8}, \"13\": {\"13\": 971, \"15\": 39, \"9\": 42, \"11\": 1, \"2\": 98, \"12\": 17, \"1\": 23, \"0\": 2, \"3\": 5, \"5\": 1, \"7\": 1}, \"8\": {\"8\": 625, \"7\": 124, \"4\": 197, \"10\": 153, \"6\": 12, \"3\": 33, \"14\": 45, \"9\": 6, \"2\": 2, \"12\": 3}, \"15\": {\"15\": 615, \"12\": 37, \"1\": 252, \"2\": 3, \"0\": 112, \"5\": 103, \"13\": 62, \"3\": 7, \"9\": 9}, \"4\": {\"4\": 796, \"8\": 238, \"10\": 51, \"3\": 67, \"12\": 21, \"7\": 9, \"9\": 3, \"0\": 5, \"5\": 7, \"1\": 2, \"14\": 1}, \"5\": {\"1\": 231, \"0\": 259, \"12\": 163, \"4\": 11, \"5\": 320, \"9\": 26, \"3\": 72, \"15\": 105, \"13\": 5, \"2\": 8}, \"3\": {\"9\": 196, \"3\": 375, \"12\": 230, \"0\": 16, \"1\": 38, \"2\": 83, \"4\": 81, \"5\": 64, \"8\": 52, \"7\": 55, \"15\": 6, \"10\": 2, \"13\": 2}, \"1\": {\"1\": 326, \"12\": 124, \"5\": 228, \"9\": 22, \"15\": 263, \"3\": 30, \"0\": 174, \"13\": 24, \"2\": 8, \"4\": 1}, \"6\": {\"6\": 939, \"14\": 188, \"10\": 25, \"8\": 17, \"7\": 30, \"11\": 1}, \"12\": {\"12\": 317, \"1\": 131, \"5\": 151, \"9\": 146, \"2\": 61, \"15\": 33, \"7\": 4, \"0\": 90, \"3\": 228, \"13\": 11, \"8\": 6, \"4\": 22}}, \"14\": {\"14\": {\"14\": 795, \"13\": 143, \"6\": 110, \"2\": 81, \"3\": 52, \"4\": 17, \"0\": 1, \"10\": 1}, \"6\": {\"6\": 633, \"13\": 365, \"14\": 107, \"2\": 93, \"4\": 2}, \"5\": {\"5\": 636, \"4\": 225, \"2\": 92, \"1\": 209, \"3\": 22, \"7\": 10, \"15\": 3, \"14\": 2, \"6\": 1}, \"15\": {\"15\": 1057, \"7\": 140, \"5\": 2, \"2\": 1}, \"11\": {\"11\": 995, \"9\": 79, \"0\": 46, \"10\": 80}, \"8\": {\"8\": 1198, \"0\": 2}, \"12\": {\"12\": 1188, \"9\": 12}, \"1\": {\"1\": 951, \"5\": 200, \"7\": 13, \"4\": 34, \"3\": 2}, \"2\": {\"14\": 157, \"6\": 111, \"2\": 469, \"13\": 95, \"5\": 148, \"4\": 134, \"3\": 49, \"15\": 24, \"1\": 11, \"7\": 1, \"0\": 1}, \"13\": {\"6\": 415, \"14\": 269, \"13\": 359, \"2\": 129, \"15\": 3, \"4\": 5, \"5\": 20}, \"3\": {\"3\": 941, \"4\": 182, \"2\": 20, \"1\": 2, \"10\": 4, \"14\": 35, \"5\": 7, \"0\": 8, \"13\": 1}, \"0\": {\"0\": 830, \"10\": 298, \"11\": 38, \"3\": 28, \"8\": 4, \"4\": 1, \"14\": 1}, \"9\": {\"9\": 1182, \"11\": 16, \"12\": 2}, \"4\": {\"4\": 670, \"2\": 96, \"5\": 219, \"6\": 1, \"3\": 164, \"14\": 13, \"1\": 34, \"13\": 3}, \"7\": {\"7\": 1080, \"15\": 99, \"5\": 7, \"1\": 13, \"2\": 1}, \"10\": {\"10\": 935, \"0\": 243, \"11\": 12, \"14\": 4, \"3\": 5, \"13\": 1}}, \"38\": {\"4\": {\"4\": 1116, \"12\": 83, \"7\": 1}, \"14\": {\"14\": 807, \"11\": 298, \"12\": 9, \"2\": 61, \"10\": 22, \"13\": 3}, \"5\": {\"8\": 313, \"5\": 467, \"0\": 144, \"7\": 72, \"3\": 27, \"6\": 60, \"1\": 18, \"9\": 29, \"15\": 49, \"13\": 15, \"10\": 6}, \"10\": {\"10\": 809, \"12\": 137, \"13\": 89, \"8\": 76, \"11\": 7, \"0\": 26, \"7\": 11, \"5\": 6, \"15\": 16, \"2\": 5, \"4\": 2, \"14\": 16}, \"13\": {\"13\": 683, \"15\": 362, \"10\": 76, \"1\": 29, \"2\": 25, \"8\": 19, \"5\": 4, \"0\": 1, \"14\": 1}, \"9\": {\"3\": 87, \"6\": 451, \"9\": 644, \"5\": 14, \"0\": 4}, \"6\": {\"6\": 855, \"9\": 321, \"5\": 15, \"3\": 8, \"1\": 1}, \"3\": {\"3\": 1001, \"9\": 101, \"7\": 45, \"6\": 18, \"0\": 20, \"5\": 15}, \"15\": {\"8\": 49, \"15\": 651, \"13\": 349, \"1\": 105, \"0\": 3, \"5\": 29, \"10\": 13, \"2\": 1}, \"7\": {\"7\": 850, \"8\": 39, \"10\": 3, \"0\": 260, \"5\": 39, \"3\": 7, \"4\": 2}, \"12\": {\"12\": 1065, \"4\": 56, \"10\": 76, \"11\": 3}, \"8\": {\"0\": 208, \"1\": 2, \"8\": 636, \"5\": 248, \"10\": 31, \"7\": 28, \"15\": 35, \"13\": 9, \"6\": 3}, \"11\": {\"11\": 743, \"14\": 394, \"12\": 43, \"2\": 12, \"4\": 1, \"10\": 7}, \"2\": {\"2\": 1081, \"14\": 75, \"13\": 35, \"10\": 2, \"11\": 1, \"15\": 6}, \"1\": {\"1\": 1102, \"15\": 83, \"13\": 7, \"5\": 5, \"0\": 1, \"8\": 2}, \"0\": {\"0\": 353, \"3\": 47, \"8\": 305, \"10\": 53, \"7\": 297, \"5\": 133, \"15\": 3, \"9\": 2, \"12\": 4, \"4\": 1, \"6\": 2}}, \"44\": {\"8\": {\"0\": 390, \"8\": 750, \"15\": 46, \"5\": 14}, \"11\": {\"11\": 1008, \"6\": 72, \"13\": 119, \"9\": 1}, \"14\": {\"14\": 728, \"4\": 378, \"15\": 74, \"5\": 20}, \"10\": {\"10\": 808, \"2\": 109, \"12\": 162, \"7\": 3, \"1\": 114, \"3\": 4}, \"3\": {\"3\": 1049, \"1\": 134, \"12\": 11, \"7\": 3, \"2\": 3}, \"15\": {\"15\": 962, \"4\": 13, \"0\": 66, \"5\": 39, \"14\": 99, \"8\": 21}, \"2\": {\"7\": 161, \"2\": 854, \"1\": 70, \"10\": 98, \"3\": 7, \"12\": 5, \"9\": 5}, \"12\": {\"12\": 825, \"10\": 96, \"1\": 260, \"3\": 18, \"2\": 1}, \"4\": {\"14\": 348, \"4\": 844, \"15\": 7, \"13\": 1}, \"1\": {\"1\": 652, \"12\": 261, \"2\": 46, \"3\": 160, \"10\": 79, \"7\": 2}, \"0\": {\"0\": 726, \"8\": 319, \"15\": 73, \"5\": 82}, \"9\": {\"13\": 148, \"9\": 686, \"6\": 86, \"7\": 263, \"2\": 14, \"4\": 2, \"3\": 1}, \"5\": {\"5\": 986, \"14\": 46, \"15\": 45, \"0\": 104, \"8\": 15, \"4\": 4}, \"6\": {\"6\": 793, \"7\": 39, \"9\": 95, \"13\": 205, \"11\": 68}, \"7\": {\"2\": 202, \"9\": 242, \"7\": 697, \"6\": 42, \"1\": 4, \"3\": 8, \"13\": 3, \"10\": 2}, \"13\": {\"13\": 737, \"9\": 149, \"11\": 90, \"6\": 207, \"4\": 11, \"7\": 5, \"14\": 1}}, \"26\": {\"6\": {\"6\": 756, \"9\": 168, \"0\": 32, \"10\": 107, \"15\": 48, \"8\": 51, \"13\": 25, \"5\": 6, \"14\": 5, \"4\": 2}, \"11\": {\"11\": 1184, \"12\": 16}, \"5\": {\"5\": 520, \"15\": 231, \"9\": 118, \"8\": 27, \"13\": 221, \"2\": 63, \"7\": 6, \"6\": 10, \"3\": 1, \"10\": 3}, \"14\": {\"8\": 39, \"1\": 313, \"14\": 312, \"0\": 175, \"7\": 31, \"9\": 1, \"4\": 224, \"10\": 101, \"6\": 2, \"15\": 1, \"2\": 1}, \"2\": {\"9\": 28, \"3\": 379, \"8\": 42, \"2\": 399, \"5\": 98, \"4\": 9, \"7\": 155, \"15\": 75, \"13\": 8, \"10\": 2, \"0\": 3, \"6\": 2}, \"7\": {\"3\": 212, \"7\": 534, \"8\": 80, \"2\": 166, \"4\": 103, \"0\": 30, \"14\": 19, \"5\": 10, \"1\": 16, \"9\": 11, \"15\": 15, \"10\": 4}, \"3\": {\"3\": 667, \"7\": 240, \"2\": 273, \"15\": 5, \"4\": 6, \"8\": 2, \"14\": 5, \"5\": 1, \"1\": 1}, \"4\": {\"14\": 228, \"1\": 169, \"4\": 348, \"10\": 59, \"0\": 177, \"8\": 95, \"7\": 106, \"9\": 6, \"2\": 5, \"15\": 4, \"3\": 1, \"6\": 2}, \"9\": {\"6\": 174, \"8\": 141, \"5\": 105, \"9\": 376, \"2\": 12, \"15\": 273, \"13\": 48, \"10\": 34, \"7\": 14, \"3\": 1, \"0\": 13, \"14\": 1, \"4\": 8}, \"12\": {\"12\": 1192, \"11\": 8}, \"0\": {\"4\": 192, \"14\": 209, \"8\": 125, \"1\": 89, \"10\": 229, \"0\": 253, \"6\": 38, \"7\": 33, \"9\": 18, \"15\": 8, \"2\": 5, \"3\": 1}, \"10\": {\"0\": 252, \"10\": 402, \"9\": 44, \"8\": 131, \"1\": 39, \"6\": 116, \"14\": 109, \"15\": 14, \"4\": 79, \"7\": 11, \"2\": 2, \"5\": 1}, \"8\": {\"8\": 368, \"10\": 135, \"6\": 62, \"0\": 113, \"14\": 41, \"4\": 111, \"7\": 91, \"15\": 101, \"9\": 114, \"1\": 13, \"5\": 20, \"2\": 20, \"3\": 10, \"13\": 1}, \"13\": {\"13\": 803, \"5\": 253, \"9\": 32, \"15\": 63, \"6\": 22, \"2\": 24, \"8\": 1, \"7\": 2}, \"1\": {\"4\": 186, \"0\": 86, \"1\": 509, \"14\": 319, \"10\": 62, \"3\": 2, \"7\": 18, \"6\": 2, \"8\": 15, \"2\": 1}, \"15\": {\"2\": 51, \"15\": 331, \"13\": 82, \"9\": 265, \"8\": 133, \"6\": 35, \"5\": 261, \"7\": 24, \"4\": 4, \"10\": 7, \"1\": 1, \"0\": 5, \"14\": 1}}}, \"per_domain_accuracy\": {\"8\": {\"accuracy\": 0.63984375, \"source?\": true}, \"50\": {\"accuracy\": 0.7183854166666667, \"source?\": true}, \"32\": {\"accuracy\": 0.7113020833333333, \"source?\": true}, \"20\": {\"accuracy\": 0.5138020833333333, \"source?\": false}, \"14\": {\"accuracy\": 0.7249479166666667, \"source?\": false}, \"38\": {\"accuracy\": 0.6699479166666666, \"source?\": false}, \"44\": {\"accuracy\": 0.6825520833333333, \"source?\": false}, \"26\": {\"accuracy\": 0.4663541666666667, \"source?\": false}}}, \"history\": {\"epoch_indices\": [1, 2, 3, 4, 5, 6, 7, 8, 9], \"train_label_loss\": [1.3828409741132979, 0.8923469770333123, 0.757839408387977, 0.6712127100167766, 0.5922640675465976, 0.5155582527798556, 0.44962599062286907, 0.39181810979509635, 0.3442267711510113], \"source_val_label_loss\": [1.0426923036575317, 0.8905459642410278, 0.8728007078170776, 0.8704630136489868, 0.8756750226020813, 0.9190933704376221, 0.9338200092315674, 0.980529248714447, 0.9974802732467651], \"target_val_label_loss\": [1.2699943780899048, 1.1007955074310303, 1.0800594091415405, 1.0662983655929565, 1.066186785697937, 1.1108912229537964, 1.1231861114501953, 1.1734825372695923, 1.209593415260315], \"source_val_acc_label\": [0.6034027777777777, 0.6623611111111111, 0.6671354166666666, 0.6704513888888889, 0.68984375, 0.6868402777777778, 0.6766666666666666, 0.6871354166666667, 0.6880555555555555], \"target_val_acc_label\": [0.51815625, 0.5845104166666667, 0.5921979166666667, 0.5975416666666666, 0.6115208333333333, 0.6099270833333333, 0.6015625, 0.60784375, 0.6029791666666666]}, \"dataset_metrics\": {\"source\": {\"train\": {\"n_unique_x\": 336000, \"n_unique_y\": 16, \"n_batch/episode\": 12600}, \"val\": {\"n_unique_x\": 72000, \"n_unique_y\": 16, \"n_batch/episode\": 1800}, \"test\": {\"n_unique_x\": 72000, \"n_unique_y\": 16, \"n_batch/episode\": 1800}}, \"target\": {\"train\": {\"n_unique_x\": 560000, \"n_unique_y\": 16, \"n_batch/episode\": 21000}, \"val\": {\"n_unique_x\": 120000, \"n_unique_y\": 16, \"n_batch/episode\": 3000}, \"test\": {\"n_unique_x\": 120000, \"n_unique_y\": 16, \"n_batch/episode\": 3000}}}}'"
      ]
     },
     "execution_count": 20,
     "metadata": {},
     "output_type": "execute_result"
    }
   ],
   "source": [
    "json.dumps(experiment)"
   ]
  }
 ],
 "metadata": {
  "celltoolbar": "Tags",
  "kernelspec": {
   "display_name": "Python 3 (ipykernel)",
   "language": "python",
   "name": "python3"
  },
  "language_info": {
   "codemirror_mode": {
    "name": "ipython",
    "version": 3
   },
   "file_extension": ".py",
   "mimetype": "text/x-python",
   "name": "python",
   "nbconvert_exporter": "python",
   "pygments_lexer": "ipython3",
   "version": "3.8.10"
  },
  "papermill": {
   "default_parameters": {},
   "duration": 3500.78403,
   "end_time": "2022-03-22T05:47:43.740296",
   "environment_variables": {},
   "exception": null,
   "input_path": "/mnt/wd500GB/CSC500/csc500-main/csc500-notebooks/templates/ptn_template.ipynb",
   "output_path": "trial.ipynb",
   "parameters": {
    "parameters": {
     "BEST_MODEL_PATH": "./best_model.pth",
     "NUM_LOGS_PER_EPOCH": 10,
     "criteria_for_best": "target_accuracy",
     "dataset_seed": 500,
     "device": "cuda",
     "domains_source": [
      8,
      32,
      50
     ],
     "domains_target": [
      14,
      20,
      26,
      38,
      44
     ],
     "episode_transforms_source": [],
     "episode_transforms_target": [],
     "experiment_name": "tuned_1v2:oracle.run1",
     "labels_source": [
      "3123D52",
      "3123D65",
      "3123D79",
      "3123D80",
      "3123D54",
      "3123D70",
      "3123D7B",
      "3123D89",
      "3123D58",
      "3123D76",
      "3123D7D",
      "3123EFE",
      "3123D64",
      "3123D78",
      "3123D7E",
      "3124E4A"
     ],
     "labels_target": [
      "3123D52",
      "3123D65",
      "3123D79",
      "3123D80",
      "3123D54",
      "3123D70",
      "3123D7B",
      "3123D89",
      "3123D58",
      "3123D76",
      "3123D7D",
      "3123EFE",
      "3123D64",
      "3123D78",
      "3123D7E",
      "3124E4A"
     ],
     "lr": 0.0001,
     "n_epoch": 50,
     "n_query": 2,
     "n_shot": 3,
     "n_way": 16,
     "num_examples_per_domain_per_label_source": -1,
     "num_examples_per_domain_per_label_target": -1,
     "patience": 3,
     "pickle_name": "oracle.Run1_10kExamples_stratified_ds.2022A.pkl",
     "seed": 500,
     "test_k_factor": 2,
     "torch_default_dtype": "torch.float32",
     "train_k_factor": 3,
     "val_k_factor": 2,
     "x_net": [
      {
       "class": "nnReshape",
       "kargs": {
        "shape": [
         -1,
         1,
         2,
         256
        ]
       }
      },
      {
       "class": "Conv2d",
       "kargs": {
        "bias": false,
        "in_channels": 1,
        "kernel_size": [
         1,
         7
        ],
        "out_channels": 256,
        "padding": [
         0,
         3
        ]
       }
      },
      {
       "class": "ReLU",
       "kargs": {
        "inplace": true
       }
      },
      {
       "class": "BatchNorm2d",
       "kargs": {
        "num_features": 256
       }
      },
      {
       "class": "Conv2d",
       "kargs": {
        "bias": true,
        "in_channels": 256,
        "kernel_size": [
         2,
         7
        ],
        "out_channels": 80,
        "padding": [
         0,
         3
        ]
       }
      },
      {
       "class": "ReLU",
       "kargs": {
        "inplace": true
       }
      },
      {
       "class": "BatchNorm2d",
       "kargs": {
        "num_features": 80
       }
      },
      {
       "class": "Flatten",
       "kargs": {}
      },
      {
       "class": "Linear",
       "kargs": {
        "in_features": 20480,
        "out_features": 256
       }
      },
      {
       "class": "ReLU",
       "kargs": {
        "inplace": true
       }
      },
      {
       "class": "BatchNorm1d",
       "kargs": {
        "num_features": 256
       }
      },
      {
       "class": "Linear",
       "kargs": {
        "in_features": 256,
        "out_features": 256
       }
      }
     ],
     "x_transforms_source": [
      "unit_mag"
     ],
     "x_transforms_target": [
      "unit_mag"
     ]
    }
   },
   "start_time": "2022-03-22T04:49:22.956266",
   "version": "2.3.4"
  }
 },
 "nbformat": 4,
 "nbformat_minor": 5
}