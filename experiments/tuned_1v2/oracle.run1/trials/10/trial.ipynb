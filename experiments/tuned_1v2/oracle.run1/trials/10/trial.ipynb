{
 "cells": [
  {
   "cell_type": "markdown",
   "id": "9fea5f46",
   "metadata": {
    "papermill": {
     "duration": 0.015729,
     "end_time": "2022-03-22T10:41:11.135674",
     "exception": false,
     "start_time": "2022-03-22T10:41:11.119945",
     "status": "completed"
    },
    "tags": []
   },
   "source": [
    "# PTN Template\n",
    "This notebook serves as a template for single dataset PTN experiments  \n",
    "It can be run on its own by setting STANDALONE to True (do a find for \"STANDALONE\" to see where)  \n",
    "But it is intended to be executed as part of a *papermill.py script. See any of the   \n",
    "experimentes with a papermill script to get started with that workflow.  "
   ]
  },
  {
   "cell_type": "code",
   "execution_count": 1,
   "id": "0902182a",
   "metadata": {
    "execution": {
     "iopub.execute_input": "2022-03-22T10:41:11.169067Z",
     "iopub.status.busy": "2022-03-22T10:41:11.166031Z",
     "iopub.status.idle": "2022-03-22T10:41:12.130214Z",
     "shell.execute_reply": "2022-03-22T10:41:12.130489Z"
    },
    "papermill": {
     "duration": 0.985555,
     "end_time": "2022-03-22T10:41:12.130628",
     "exception": false,
     "start_time": "2022-03-22T10:41:11.145073",
     "status": "completed"
    },
    "tags": []
   },
   "outputs": [],
   "source": [
    "%load_ext autoreload\n",
    "%autoreload 2\n",
    "%matplotlib inline\n",
    "\n",
    "    \n",
    "import os, json, sys, time, random\n",
    "import numpy as np\n",
    "import torch\n",
    "from torch.optim import Adam\n",
    "from  easydict import EasyDict\n",
    "import matplotlib.pyplot as plt\n",
    "\n",
    "from steves_models.steves_ptn import Steves_Prototypical_Network\n",
    "\n",
    "from steves_utils.lazy_iterable_wrapper import Lazy_Iterable_Wrapper\n",
    "from steves_utils.iterable_aggregator import Iterable_Aggregator\n",
    "from steves_utils.ptn_train_eval_test_jig import  PTN_Train_Eval_Test_Jig\n",
    "from steves_utils.torch_sequential_builder import build_sequential\n",
    "from steves_utils.torch_utils import get_dataset_metrics, ptn_confusion_by_domain_over_dataloader\n",
    "from steves_utils.utils_v2 import (per_domain_accuracy_from_confusion, get_datasets_base_path)\n",
    "from steves_utils.PTN.utils import independent_accuracy_assesment\n",
    "\n",
    "from steves_utils.stratified_dataset.episodic_accessor import Episodic_Accessor_Factory\n",
    "\n",
    "from steves_utils.ptn_do_report import (\n",
    "    get_loss_curve,\n",
    "    get_results_table,\n",
    "    get_parameters_table,\n",
    "    get_domain_accuracies,\n",
    ")\n",
    "\n",
    "from steves_utils.transforms import get_chained_transform"
   ]
  },
  {
   "cell_type": "markdown",
   "id": "41c840b4",
   "metadata": {
    "papermill": {
     "duration": 0.009128,
     "end_time": "2022-03-22T10:41:12.154151",
     "exception": false,
     "start_time": "2022-03-22T10:41:12.145023",
     "status": "completed"
    },
    "tags": []
   },
   "source": [
    "# Required Parameters\n",
    "These are allowed parameters, not defaults\n",
    "Each of these values need to be present in the injected parameters (the notebook will raise an exception if they are not present)\n",
    "\n",
    "Papermill uses the cell tag \"parameters\" to inject the real parameters below this cell.\n",
    "Enable tags to see what I mean"
   ]
  },
  {
   "cell_type": "code",
   "execution_count": 2,
   "id": "fd44eb83",
   "metadata": {
    "execution": {
     "iopub.execute_input": "2022-03-22T10:41:12.175554Z",
     "iopub.status.busy": "2022-03-22T10:41:12.175267Z",
     "iopub.status.idle": "2022-03-22T10:41:12.189936Z",
     "shell.execute_reply": "2022-03-22T10:41:12.190301Z"
    },
    "papermill": {
     "duration": 0.02721,
     "end_time": "2022-03-22T10:41:12.190402",
     "exception": false,
     "start_time": "2022-03-22T10:41:12.163192",
     "status": "completed"
    },
    "tags": []
   },
   "outputs": [],
   "source": [
    "required_parameters = {\n",
    "    \"experiment_name\",\n",
    "    \"lr\",\n",
    "    \"device\",\n",
    "    \"seed\",\n",
    "    \"dataset_seed\",\n",
    "    \"labels_source\",\n",
    "    \"labels_target\",\n",
    "    \"domains_source\",\n",
    "    \"domains_target\",\n",
    "    \"num_examples_per_domain_per_label_source\",\n",
    "    \"num_examples_per_domain_per_label_target\",\n",
    "    \"n_shot\",\n",
    "    \"n_way\",\n",
    "    \"n_query\",\n",
    "    \"train_k_factor\",\n",
    "    \"val_k_factor\",\n",
    "    \"test_k_factor\",\n",
    "    \"n_epoch\",\n",
    "    \"patience\",\n",
    "    \"criteria_for_best\",\n",
    "    \"x_transforms_source\",\n",
    "    \"x_transforms_target\",\n",
    "    \"episode_transforms_source\",\n",
    "    \"episode_transforms_target\",\n",
    "    \"pickle_name\",\n",
    "    \"x_net\",\n",
    "    \"NUM_LOGS_PER_EPOCH\",\n",
    "    \"BEST_MODEL_PATH\",\n",
    "    \"torch_default_dtype\"\n",
    "}"
   ]
  },
  {
   "cell_type": "code",
   "execution_count": 3,
   "id": "fa3f0049",
   "metadata": {
    "execution": {
     "iopub.execute_input": "2022-03-22T10:41:12.217190Z",
     "iopub.status.busy": "2022-03-22T10:41:12.216907Z",
     "iopub.status.idle": "2022-03-22T10:41:12.228908Z",
     "shell.execute_reply": "2022-03-22T10:41:12.229270Z"
    },
    "papermill": {
     "duration": 0.02728,
     "end_time": "2022-03-22T10:41:12.229372",
     "exception": false,
     "start_time": "2022-03-22T10:41:12.202092",
     "status": "completed"
    },
    "tags": [
     "parameters"
    ]
   },
   "outputs": [],
   "source": [
    "\n",
    "\n",
    "standalone_parameters = {}\n",
    "standalone_parameters[\"experiment_name\"] = \"STANDALONE PTN\"\n",
    "standalone_parameters[\"lr\"] = 0.0001\n",
    "standalone_parameters[\"device\"] = \"cuda\"\n",
    "\n",
    "standalone_parameters[\"seed\"] = 1337\n",
    "standalone_parameters[\"dataset_seed\"] = 1337\n",
    "\n",
    "\n",
    "standalone_parameters[\"num_examples_per_domain_per_label_source\"]=100\n",
    "standalone_parameters[\"num_examples_per_domain_per_label_target\"]=100\n",
    "\n",
    "standalone_parameters[\"n_shot\"] = 3\n",
    "standalone_parameters[\"n_query\"]  = 2\n",
    "standalone_parameters[\"train_k_factor\"] = 1\n",
    "standalone_parameters[\"val_k_factor\"] = 2\n",
    "standalone_parameters[\"test_k_factor\"] = 2\n",
    "\n",
    "\n",
    "standalone_parameters[\"n_epoch\"] = 100\n",
    "\n",
    "standalone_parameters[\"patience\"] = 10\n",
    "standalone_parameters[\"criteria_for_best\"] = \"target_accuracy\"\n",
    "\n",
    "standalone_parameters[\"x_transforms_source\"] = [\"unit_power\"]\n",
    "standalone_parameters[\"x_transforms_target\"] = [\"unit_power\"]\n",
    "standalone_parameters[\"episode_transforms_source\"] = []\n",
    "standalone_parameters[\"episode_transforms_target\"] = []\n",
    "\n",
    "standalone_parameters[\"torch_default_dtype\"] = \"torch.float32\" \n",
    "\n",
    "\n",
    "\n",
    "standalone_parameters[\"x_net\"] =     [\n",
    "    {\"class\": \"nnReshape\", \"kargs\": {\"shape\":[-1, 1, 2, 256]}},\n",
    "    {\"class\": \"Conv2d\", \"kargs\": { \"in_channels\":1, \"out_channels\":256, \"kernel_size\":(1,7), \"bias\":False, \"padding\":(0,3), },},\n",
    "    {\"class\": \"ReLU\", \"kargs\": {\"inplace\": True}},\n",
    "    {\"class\": \"BatchNorm2d\", \"kargs\": {\"num_features\":256}},\n",
    "\n",
    "    {\"class\": \"Conv2d\", \"kargs\": { \"in_channels\":256, \"out_channels\":80, \"kernel_size\":(2,7), \"bias\":True, \"padding\":(0,3), },},\n",
    "    {\"class\": \"ReLU\", \"kargs\": {\"inplace\": True}},\n",
    "    {\"class\": \"BatchNorm2d\", \"kargs\": {\"num_features\":80}},\n",
    "    {\"class\": \"Flatten\", \"kargs\": {}},\n",
    "\n",
    "    {\"class\": \"Linear\", \"kargs\": {\"in_features\": 80*256, \"out_features\": 256}}, # 80 units per IQ pair\n",
    "    {\"class\": \"ReLU\", \"kargs\": {\"inplace\": True}},\n",
    "    {\"class\": \"BatchNorm1d\", \"kargs\": {\"num_features\":256}},\n",
    "\n",
    "    {\"class\": \"Linear\", \"kargs\": {\"in_features\": 256, \"out_features\": 256}},\n",
    "]\n",
    "\n",
    "# Parameters relevant to results\n",
    "# These parameters will basically never need to change\n",
    "standalone_parameters[\"NUM_LOGS_PER_EPOCH\"] = 10\n",
    "standalone_parameters[\"BEST_MODEL_PATH\"] = \"./best_model.pth\"\n",
    "\n",
    "# uncomment for CORES dataset\n",
    "from steves_utils.CORES.utils import (\n",
    "    ALL_NODES,\n",
    "    ALL_NODES_MINIMUM_1000_EXAMPLES,\n",
    "    ALL_DAYS\n",
    ")\n",
    "\n",
    "\n",
    "standalone_parameters[\"labels_source\"] = ALL_NODES\n",
    "standalone_parameters[\"labels_target\"] = ALL_NODES\n",
    "\n",
    "standalone_parameters[\"domains_source\"] = [1]\n",
    "standalone_parameters[\"domains_target\"] = [2,3,4,5]\n",
    "\n",
    "standalone_parameters[\"pickle_name\"] = \"cores.stratified_ds.2022A.pkl\"\n",
    "\n",
    "\n",
    "# Uncomment these for ORACLE dataset\n",
    "# from steves_utils.ORACLE.utils_v2 import (\n",
    "#     ALL_DISTANCES_FEET,\n",
    "#     ALL_RUNS,\n",
    "#     ALL_SERIAL_NUMBERS,\n",
    "# )\n",
    "# standalone_parameters[\"labels_source\"] = ALL_SERIAL_NUMBERS\n",
    "# standalone_parameters[\"labels_target\"] = ALL_SERIAL_NUMBERS\n",
    "# standalone_parameters[\"domains_source\"] = [8,20, 38,50]\n",
    "# standalone_parameters[\"domains_target\"] = [14, 26, 32, 44, 56]\n",
    "# standalone_parameters[\"pickle_name\"] = \"oracle.frame_indexed.stratified_ds.2022A.pkl\"\n",
    "# standalone_parameters[\"num_examples_per_domain_per_label_source\"]=1000\n",
    "# standalone_parameters[\"num_examples_per_domain_per_label_target\"]=1000\n",
    "\n",
    "# Uncomment these for Metahan dataset\n",
    "# standalone_parameters[\"labels_source\"] = list(range(19))\n",
    "# standalone_parameters[\"labels_target\"] = list(range(19))\n",
    "# standalone_parameters[\"domains_source\"] = [0]\n",
    "# standalone_parameters[\"domains_target\"] = [1]\n",
    "# standalone_parameters[\"pickle_name\"] = \"metehan.stratified_ds.2022A.pkl\"\n",
    "# standalone_parameters[\"n_way\"]  = len(standalone_parameters[\"labels_source\"])\n",
    "# standalone_parameters[\"num_examples_per_domain_per_label_source\"]=200\n",
    "# standalone_parameters[\"num_examples_per_domain_per_label_target\"]=100\n",
    "\n",
    "\n",
    "standalone_parameters[\"n_way\"]  = len(standalone_parameters[\"labels_source\"])"
   ]
  },
  {
   "cell_type": "code",
   "execution_count": 4,
   "id": "1abf78a8",
   "metadata": {
    "execution": {
     "iopub.execute_input": "2022-03-22T10:41:12.260415Z",
     "iopub.status.busy": "2022-03-22T10:41:12.259854Z",
     "iopub.status.idle": "2022-03-22T10:41:12.273010Z",
     "shell.execute_reply": "2022-03-22T10:41:12.272645Z"
    },
    "papermill": {
     "duration": 0.029727,
     "end_time": "2022-03-22T10:41:12.273098",
     "exception": false,
     "start_time": "2022-03-22T10:41:12.243371",
     "status": "completed"
    },
    "tags": [
     "injected-parameters"
    ]
   },
   "outputs": [],
   "source": [
    "# Parameters\n",
    "parameters = {\n",
    "    \"experiment_name\": \"tuned_1v2:oracle.run1\",\n",
    "    \"device\": \"cuda\",\n",
    "    \"lr\": 0.0001,\n",
    "    \"labels_source\": [\n",
    "        \"3123D52\",\n",
    "        \"3123D65\",\n",
    "        \"3123D79\",\n",
    "        \"3123D80\",\n",
    "        \"3123D54\",\n",
    "        \"3123D70\",\n",
    "        \"3123D7B\",\n",
    "        \"3123D89\",\n",
    "        \"3123D58\",\n",
    "        \"3123D76\",\n",
    "        \"3123D7D\",\n",
    "        \"3123EFE\",\n",
    "        \"3123D64\",\n",
    "        \"3123D78\",\n",
    "        \"3123D7E\",\n",
    "        \"3124E4A\",\n",
    "    ],\n",
    "    \"labels_target\": [\n",
    "        \"3123D52\",\n",
    "        \"3123D65\",\n",
    "        \"3123D79\",\n",
    "        \"3123D80\",\n",
    "        \"3123D54\",\n",
    "        \"3123D70\",\n",
    "        \"3123D7B\",\n",
    "        \"3123D89\",\n",
    "        \"3123D58\",\n",
    "        \"3123D76\",\n",
    "        \"3123D7D\",\n",
    "        \"3123EFE\",\n",
    "        \"3123D64\",\n",
    "        \"3123D78\",\n",
    "        \"3123D7E\",\n",
    "        \"3124E4A\",\n",
    "    ],\n",
    "    \"episode_transforms_source\": [],\n",
    "    \"episode_transforms_target\": [],\n",
    "    \"domains_source\": [8, 32, 50],\n",
    "    \"domains_target\": [14, 20, 26, 38, 44],\n",
    "    \"num_examples_per_domain_per_label_source\": -1,\n",
    "    \"num_examples_per_domain_per_label_target\": -1,\n",
    "    \"n_shot\": 3,\n",
    "    \"n_way\": 16,\n",
    "    \"n_query\": 2,\n",
    "    \"train_k_factor\": 3,\n",
    "    \"val_k_factor\": 2,\n",
    "    \"test_k_factor\": 2,\n",
    "    \"torch_default_dtype\": \"torch.float32\",\n",
    "    \"n_epoch\": 50,\n",
    "    \"patience\": 3,\n",
    "    \"criteria_for_best\": \"target_accuracy\",\n",
    "    \"x_net\": [\n",
    "        {\"class\": \"nnReshape\", \"kargs\": {\"shape\": [-1, 1, 2, 256]}},\n",
    "        {\n",
    "            \"class\": \"Conv2d\",\n",
    "            \"kargs\": {\n",
    "                \"in_channels\": 1,\n",
    "                \"out_channels\": 256,\n",
    "                \"kernel_size\": [1, 7],\n",
    "                \"bias\": False,\n",
    "                \"padding\": [0, 3],\n",
    "            },\n",
    "        },\n",
    "        {\"class\": \"ReLU\", \"kargs\": {\"inplace\": True}},\n",
    "        {\"class\": \"BatchNorm2d\", \"kargs\": {\"num_features\": 256}},\n",
    "        {\n",
    "            \"class\": \"Conv2d\",\n",
    "            \"kargs\": {\n",
    "                \"in_channels\": 256,\n",
    "                \"out_channels\": 80,\n",
    "                \"kernel_size\": [2, 7],\n",
    "                \"bias\": True,\n",
    "                \"padding\": [0, 3],\n",
    "            },\n",
    "        },\n",
    "        {\"class\": \"ReLU\", \"kargs\": {\"inplace\": True}},\n",
    "        {\"class\": \"BatchNorm2d\", \"kargs\": {\"num_features\": 80}},\n",
    "        {\"class\": \"Flatten\", \"kargs\": {}},\n",
    "        {\"class\": \"Linear\", \"kargs\": {\"in_features\": 20480, \"out_features\": 256}},\n",
    "        {\"class\": \"ReLU\", \"kargs\": {\"inplace\": True}},\n",
    "        {\"class\": \"BatchNorm1d\", \"kargs\": {\"num_features\": 256}},\n",
    "        {\"class\": \"Linear\", \"kargs\": {\"in_features\": 256, \"out_features\": 256}},\n",
    "    ],\n",
    "    \"NUM_LOGS_PER_EPOCH\": 10,\n",
    "    \"BEST_MODEL_PATH\": \"./best_model.pth\",\n",
    "    \"pickle_name\": \"oracle.Run1_10kExamples_stratified_ds.2022A.pkl\",\n",
    "    \"x_transforms_source\": [\"unit_power\"],\n",
    "    \"x_transforms_target\": [\"unit_power\"],\n",
    "    \"dataset_seed\": 500,\n",
    "    \"seed\": 500,\n",
    "}\n"
   ]
  },
  {
   "cell_type": "code",
   "execution_count": 5,
   "id": "8fa1cc33",
   "metadata": {
    "execution": {
     "iopub.execute_input": "2022-03-22T10:41:12.300147Z",
     "iopub.status.busy": "2022-03-22T10:41:12.299781Z",
     "iopub.status.idle": "2022-03-22T10:41:12.314782Z",
     "shell.execute_reply": "2022-03-22T10:41:12.314435Z"
    },
    "papermill": {
     "duration": 0.027506,
     "end_time": "2022-03-22T10:41:12.314850",
     "exception": false,
     "start_time": "2022-03-22T10:41:12.287344",
     "status": "completed"
    },
    "tags": []
   },
   "outputs": [],
   "source": [
    "# Set this to True if you want to run this template directly\n",
    "STANDALONE = False\n",
    "if STANDALONE:\n",
    "    print(\"parameters not injected, running with standalone_parameters\")\n",
    "    parameters = standalone_parameters\n",
    "\n",
    "if not 'parameters' in locals() and not 'parameters' in globals():\n",
    "    raise Exception(\"Parameter injection failed\")\n",
    "\n",
    "#Use an easy dict for all the parameters\n",
    "p = EasyDict(parameters)\n",
    "\n",
    "supplied_keys = set(p.keys())\n",
    "\n",
    "if  supplied_keys != required_parameters:\n",
    "    print(\"Parameters are incorrect\")\n",
    "    if len(supplied_keys - required_parameters)>0: print(\"Shouldn't have:\", str(supplied_keys - required_parameters))\n",
    "    if len(required_parameters - supplied_keys)>0: print(\"Need to have:\", str(required_parameters - supplied_keys))\n",
    "    raise RuntimeError(\"Parameters are incorrect\")\n",
    "\n"
   ]
  },
  {
   "cell_type": "code",
   "execution_count": 6,
   "id": "3a028d58",
   "metadata": {
    "execution": {
     "iopub.execute_input": "2022-03-22T10:41:12.340970Z",
     "iopub.status.busy": "2022-03-22T10:41:12.340670Z",
     "iopub.status.idle": "2022-03-22T10:41:12.352005Z",
     "shell.execute_reply": "2022-03-22T10:41:12.351628Z"
    },
    "papermill": {
     "duration": 0.022136,
     "end_time": "2022-03-22T10:41:12.352091",
     "exception": false,
     "start_time": "2022-03-22T10:41:12.329955",
     "status": "completed"
    },
    "tags": []
   },
   "outputs": [],
   "source": [
    "###################################\n",
    "# Set the RNGs and make it all deterministic\n",
    "###################################\n",
    "np.random.seed(p.seed)\n",
    "random.seed(p.seed)\n",
    "torch.manual_seed(p.seed)\n",
    "\n",
    "torch.use_deterministic_algorithms(True) "
   ]
  },
  {
   "cell_type": "code",
   "execution_count": 7,
   "id": "b691acf6",
   "metadata": {
    "execution": {
     "iopub.execute_input": "2022-03-22T10:41:12.374639Z",
     "iopub.status.busy": "2022-03-22T10:41:12.374237Z",
     "iopub.status.idle": "2022-03-22T10:41:12.389132Z",
     "shell.execute_reply": "2022-03-22T10:41:12.389520Z"
    },
    "papermill": {
     "duration": 0.026329,
     "end_time": "2022-03-22T10:41:12.389628",
     "exception": false,
     "start_time": "2022-03-22T10:41:12.363299",
     "status": "completed"
    },
    "tags": []
   },
   "outputs": [],
   "source": [
    "###########################################\n",
    "# The stratified datasets honor this\n",
    "###########################################\n",
    "torch.set_default_dtype(eval(p.torch_default_dtype))"
   ]
  },
  {
   "cell_type": "code",
   "execution_count": 8,
   "id": "b5fba671",
   "metadata": {
    "execution": {
     "iopub.execute_input": "2022-03-22T10:41:12.416642Z",
     "iopub.status.busy": "2022-03-22T10:41:12.416402Z",
     "iopub.status.idle": "2022-03-22T10:41:12.458238Z",
     "shell.execute_reply": "2022-03-22T10:41:12.457859Z"
    },
    "papermill": {
     "duration": 0.053402,
     "end_time": "2022-03-22T10:41:12.458324",
     "exception": false,
     "start_time": "2022-03-22T10:41:12.404922",
     "status": "completed"
    },
    "tags": []
   },
   "outputs": [],
   "source": [
    "###################################\n",
    "# Build the network(s)\n",
    "# Note: It's critical to do this AFTER setting the RNG\n",
    "# (This is due to the randomized initial weights)\n",
    "###################################\n",
    "x_net = build_sequential(p.x_net)"
   ]
  },
  {
   "cell_type": "code",
   "execution_count": 9,
   "id": "5d7e61cc",
   "metadata": {
    "execution": {
     "iopub.execute_input": "2022-03-22T10:41:12.486434Z",
     "iopub.status.busy": "2022-03-22T10:41:12.486196Z",
     "iopub.status.idle": "2022-03-22T10:41:12.500914Z",
     "shell.execute_reply": "2022-03-22T10:41:12.501256Z"
    },
    "papermill": {
     "duration": 0.02712,
     "end_time": "2022-03-22T10:41:12.501359",
     "exception": false,
     "start_time": "2022-03-22T10:41:12.474239",
     "status": "completed"
    },
    "tags": []
   },
   "outputs": [],
   "source": [
    "start_time_secs = time.time()"
   ]
  },
  {
   "cell_type": "code",
   "execution_count": 10,
   "id": "fd5442bc",
   "metadata": {
    "execution": {
     "iopub.execute_input": "2022-03-22T10:41:12.534138Z",
     "iopub.status.busy": "2022-03-22T10:41:12.526556Z",
     "iopub.status.idle": "2022-03-22T10:42:32.288759Z",
     "shell.execute_reply": "2022-03-22T10:42:32.288340Z"
    },
    "papermill": {
     "duration": 79.773271,
     "end_time": "2022-03-22T10:42:32.288869",
     "exception": false,
     "start_time": "2022-03-22T10:41:12.515598",
     "status": "completed"
    },
    "tags": []
   },
   "outputs": [],
   "source": [
    "###################################\n",
    "# Build the dataset\n",
    "###################################\n",
    "\n",
    "if p.x_transforms_source == []: x_transform_source = None\n",
    "else: x_transform_source = get_chained_transform(p.x_transforms_source) \n",
    "\n",
    "if p.x_transforms_target == []: x_transform_target = None\n",
    "else: x_transform_target = get_chained_transform(p.x_transforms_target)\n",
    "\n",
    "if p.episode_transforms_source == []: episode_transform_source = None\n",
    "else: raise Exception(\"episode_transform_source not implemented\")\n",
    "\n",
    "if p.episode_transforms_target == []: episode_transform_target = None\n",
    "else: raise Exception(\"episode_transform_target not implemented\")\n",
    "\n",
    "\n",
    "eaf_source = Episodic_Accessor_Factory(\n",
    "    labels=p.labels_source,\n",
    "    domains=p.domains_source,\n",
    "    num_examples_per_domain_per_label=p.num_examples_per_domain_per_label_source,\n",
    "    iterator_seed=p.seed,\n",
    "    dataset_seed=p.dataset_seed,\n",
    "    n_shot=p.n_shot,\n",
    "    n_way=p.n_way,\n",
    "    n_query=p.n_query,\n",
    "    train_val_test_k_factors=(p.train_k_factor,p.val_k_factor,p.test_k_factor),\n",
    "    pickle_path=os.path.join(get_datasets_base_path(), p.pickle_name),\n",
    "    x_transform_func=x_transform_source,\n",
    "    example_transform_func=episode_transform_source,\n",
    "    \n",
    ")\n",
    "train_original_source, val_original_source, test_original_source = eaf_source.get_train(), eaf_source.get_val(), eaf_source.get_test()\n",
    "\n",
    "\n",
    "eaf_target = Episodic_Accessor_Factory(\n",
    "    labels=p.labels_target,\n",
    "    domains=p.domains_target,\n",
    "    num_examples_per_domain_per_label=p.num_examples_per_domain_per_label_target,\n",
    "    iterator_seed=p.seed,\n",
    "    dataset_seed=p.dataset_seed,\n",
    "    n_shot=p.n_shot,\n",
    "    n_way=p.n_way,\n",
    "    n_query=p.n_query,\n",
    "    train_val_test_k_factors=(p.train_k_factor,p.val_k_factor,p.test_k_factor),\n",
    "    pickle_path=os.path.join(get_datasets_base_path(), p.pickle_name),\n",
    "    x_transform_func=x_transform_target,\n",
    "    example_transform_func=episode_transform_target,\n",
    ")\n",
    "train_original_target, val_original_target, test_original_target = eaf_target.get_train(), eaf_target.get_val(), eaf_target.get_test()\n",
    "\n",
    "\n",
    "transform_lambda = lambda ex: ex[1] # Original is (<domain>, <episode>) so we strip down to episode only\n",
    "\n",
    "train_processed_source = Lazy_Iterable_Wrapper(train_original_source, transform_lambda)\n",
    "val_processed_source   = Lazy_Iterable_Wrapper(val_original_source, transform_lambda)\n",
    "test_processed_source  = Lazy_Iterable_Wrapper(test_original_source, transform_lambda)\n",
    "\n",
    "train_processed_target = Lazy_Iterable_Wrapper(train_original_target, transform_lambda)\n",
    "val_processed_target   = Lazy_Iterable_Wrapper(val_original_target, transform_lambda)\n",
    "test_processed_target  = Lazy_Iterable_Wrapper(test_original_target, transform_lambda)\n",
    "\n",
    "datasets = EasyDict({\n",
    "    \"source\": {\n",
    "        \"original\": {\"train\":train_original_source, \"val\":val_original_source, \"test\":test_original_source},\n",
    "        \"processed\": {\"train\":train_processed_source, \"val\":val_processed_source, \"test\":test_processed_source}\n",
    "    },\n",
    "    \"target\": {\n",
    "        \"original\": {\"train\":train_original_target, \"val\":val_original_target, \"test\":test_original_target},\n",
    "        \"processed\": {\"train\":train_processed_target, \"val\":val_processed_target, \"test\":test_processed_target}\n",
    "    },\n",
    "})"
   ]
  },
  {
   "cell_type": "code",
   "execution_count": 11,
   "id": "296189d9",
   "metadata": {
    "execution": {
     "iopub.execute_input": "2022-03-22T10:42:32.320129Z",
     "iopub.status.busy": "2022-03-22T10:42:32.319878Z",
     "iopub.status.idle": "2022-03-22T10:42:34.212945Z",
     "shell.execute_reply": "2022-03-22T10:42:34.213309Z"
    },
    "papermill": {
     "duration": 1.907295,
     "end_time": "2022-03-22T10:42:34.213413",
     "exception": false,
     "start_time": "2022-03-22T10:42:32.306118",
     "status": "completed"
    },
    "tags": []
   },
   "outputs": [
    {
     "name": "stdout",
     "output_type": "stream",
     "text": [
      "Visually inspect these to see if they line up with expected values given the transforms\n",
      "x_transforms_source ['unit_power']\n",
      "x_transforms_target ['unit_power']\n",
      "Average magnitude, source: 0.8832622\n",
      "Average power, source: 1.0\n"
     ]
    },
    {
     "name": "stdout",
     "output_type": "stream",
     "text": [
      "Average magnitude, target: 0.8900848\n",
      "Average power, target: 1.0\n"
     ]
    }
   ],
   "source": [
    "# Some quick unit tests on the data\n",
    "from steves_utils.transforms import get_average_power, get_average_magnitude\n",
    "\n",
    "q_x, q_y, s_x, s_y, truth = next(iter(train_processed_source))\n",
    "\n",
    "assert q_x.dtype == eval(p.torch_default_dtype)\n",
    "assert s_x.dtype == eval(p.torch_default_dtype)\n",
    "\n",
    "print(\"Visually inspect these to see if they line up with expected values given the transforms\")\n",
    "print('x_transforms_source', p.x_transforms_source)\n",
    "print('x_transforms_target', p.x_transforms_target)\n",
    "print(\"Average magnitude, source:\", get_average_magnitude(q_x[0].numpy()))\n",
    "print(\"Average power, source:\", get_average_power(q_x[0].numpy()))\n",
    "\n",
    "q_x, q_y, s_x, s_y, truth = next(iter(train_processed_target))\n",
    "print(\"Average magnitude, target:\", get_average_magnitude(q_x[0].numpy()))\n",
    "print(\"Average power, target:\", get_average_power(q_x[0].numpy()))\n"
   ]
  },
  {
   "cell_type": "code",
   "execution_count": 12,
   "id": "bbdacba1",
   "metadata": {
    "execution": {
     "iopub.execute_input": "2022-03-22T10:42:34.240062Z",
     "iopub.status.busy": "2022-03-22T10:42:34.239740Z",
     "iopub.status.idle": "2022-03-22T10:42:34.305002Z",
     "shell.execute_reply": "2022-03-22T10:42:34.305210Z"
    },
    "papermill": {
     "duration": 0.078386,
     "end_time": "2022-03-22T10:42:34.305287",
     "exception": false,
     "start_time": "2022-03-22T10:42:34.226901",
     "status": "completed"
    },
    "tags": []
   },
   "outputs": [
    {
     "name": "stdout",
     "output_type": "stream",
     "text": [
      "(2, 256)\n"
     ]
    }
   ],
   "source": [
    "###################################\n",
    "# Build the model\n",
    "###################################\n",
    "model = Steves_Prototypical_Network(x_net, device=p.device, x_shape=(2,256))\n",
    "optimizer = Adam(params=model.parameters(), lr=p.lr)"
   ]
  },
  {
   "cell_type": "code",
   "execution_count": 13,
   "id": "22b39ac5",
   "metadata": {
    "execution": {
     "iopub.execute_input": "2022-03-22T10:42:34.329060Z",
     "iopub.status.busy": "2022-03-22T10:42:34.328705Z",
     "iopub.status.idle": "2022-03-22T11:40:46.253346Z",
     "shell.execute_reply": "2022-03-22T11:40:46.253120Z"
    },
    "papermill": {
     "duration": 3491.93765,
     "end_time": "2022-03-22T11:40:46.253403",
     "exception": false,
     "start_time": "2022-03-22T10:42:34.315753",
     "status": "completed"
    },
    "tags": []
   },
   "outputs": [
    {
     "name": "stdout",
     "output_type": "stream",
     "text": [
      "epoch: 1, [batch: 1 / 12600], examples_per_second: 27.4989, train_label_loss: 2.7705, \n"
     ]
    },
    {
     "name": "stdout",
     "output_type": "stream",
     "text": [
      "epoch: 1, [batch: 1260 / 12600], examples_per_second: 3228.5928, train_label_loss: 1.6623, \n"
     ]
    },
    {
     "name": "stdout",
     "output_type": "stream",
     "text": [
      "epoch: 1, [batch: 2520 / 12600], examples_per_second: 3240.6158, train_label_loss: 1.8130, \n"
     ]
    },
    {
     "name": "stdout",
     "output_type": "stream",
     "text": [
      "epoch: 1, [batch: 3780 / 12600], examples_per_second: 3225.4756, train_label_loss: 1.5015, \n"
     ]
    },
    {
     "name": "stdout",
     "output_type": "stream",
     "text": [
      "epoch: 1, [batch: 5040 / 12600], examples_per_second: 3208.1699, train_label_loss: 1.4309, \n"
     ]
    },
    {
     "name": "stdout",
     "output_type": "stream",
     "text": [
      "epoch: 1, [batch: 6300 / 12600], examples_per_second: 3213.6918, train_label_loss: 1.1863, \n"
     ]
    },
    {
     "name": "stdout",
     "output_type": "stream",
     "text": [
      "epoch: 1, [batch: 7560 / 12600], examples_per_second: 3220.0760, train_label_loss: 1.3969, \n"
     ]
    },
    {
     "name": "stdout",
     "output_type": "stream",
     "text": [
      "epoch: 1, [batch: 8820 / 12600], examples_per_second: 3215.5506, train_label_loss: 1.0969, \n"
     ]
    },
    {
     "name": "stdout",
     "output_type": "stream",
     "text": [
      "epoch: 1, [batch: 10080 / 12600], examples_per_second: 3217.6281, train_label_loss: 1.1080, \n"
     ]
    },
    {
     "name": "stdout",
     "output_type": "stream",
     "text": [
      "epoch: 1, [batch: 11340 / 12600], examples_per_second: 3228.0664, train_label_loss: 0.8295, \n"
     ]
    },
    {
     "name": "stdout",
     "output_type": "stream",
     "text": [
      "=============================================================\n",
      "epoch: 1, source_val_acc_label: 0.6072, target_val_acc_label: 0.5246, source_val_label_loss: 1.0344, target_val_label_loss: 1.2507, \n",
      "=============================================================\n"
     ]
    },
    {
     "name": "stdout",
     "output_type": "stream",
     "text": [
      "New best\n"
     ]
    },
    {
     "name": "stdout",
     "output_type": "stream",
     "text": [
      "epoch: 2, [batch: 1 / 12600], examples_per_second: 2.2929, train_label_loss: 0.5725, \n"
     ]
    },
    {
     "name": "stdout",
     "output_type": "stream",
     "text": [
      "epoch: 2, [batch: 1260 / 12600], examples_per_second: 3222.1886, train_label_loss: 1.1100, \n"
     ]
    },
    {
     "name": "stdout",
     "output_type": "stream",
     "text": [
      "epoch: 2, [batch: 2520 / 12600], examples_per_second: 3257.0680, train_label_loss: 1.0174, \n"
     ]
    },
    {
     "name": "stdout",
     "output_type": "stream",
     "text": [
      "epoch: 2, [batch: 3780 / 12600], examples_per_second: 3242.6695, train_label_loss: 1.0302, \n"
     ]
    },
    {
     "name": "stdout",
     "output_type": "stream",
     "text": [
      "epoch: 2, [batch: 5040 / 12600], examples_per_second: 3242.7607, train_label_loss: 0.8774, \n"
     ]
    },
    {
     "name": "stdout",
     "output_type": "stream",
     "text": [
      "epoch: 2, [batch: 6300 / 12600], examples_per_second: 3254.4195, train_label_loss: 0.8590, \n"
     ]
    },
    {
     "name": "stdout",
     "output_type": "stream",
     "text": [
      "epoch: 2, [batch: 7560 / 12600], examples_per_second: 3259.9394, train_label_loss: 1.3911, \n"
     ]
    },
    {
     "name": "stdout",
     "output_type": "stream",
     "text": [
      "epoch: 2, [batch: 8820 / 12600], examples_per_second: 3263.7095, train_label_loss: 1.0404, \n"
     ]
    },
    {
     "name": "stdout",
     "output_type": "stream",
     "text": [
      "epoch: 2, [batch: 10080 / 12600], examples_per_second: 3252.6852, train_label_loss: 0.9933, \n"
     ]
    },
    {
     "name": "stdout",
     "output_type": "stream",
     "text": [
      "epoch: 2, [batch: 11340 / 12600], examples_per_second: 3238.7723, train_label_loss: 0.9363, \n"
     ]
    },
    {
     "name": "stdout",
     "output_type": "stream",
     "text": [
      "=============================================================\n",
      "epoch: 2, source_val_acc_label: 0.6655, target_val_acc_label: 0.5920, source_val_label_loss: 0.8885, target_val_label_loss: 1.0861, \n",
      "=============================================================\n"
     ]
    },
    {
     "name": "stdout",
     "output_type": "stream",
     "text": [
      "New best\n"
     ]
    },
    {
     "name": "stdout",
     "output_type": "stream",
     "text": [
      "epoch: 3, [batch: 1 / 12600], examples_per_second: 2.2919, train_label_loss: 0.7111, \n"
     ]
    },
    {
     "name": "stdout",
     "output_type": "stream",
     "text": [
      "epoch: 3, [batch: 1260 / 12600], examples_per_second: 3233.5474, train_label_loss: 0.7122, \n"
     ]
    },
    {
     "name": "stdout",
     "output_type": "stream",
     "text": [
      "epoch: 3, [batch: 2520 / 12600], examples_per_second: 3252.8918, train_label_loss: 0.6191, \n"
     ]
    },
    {
     "name": "stdout",
     "output_type": "stream",
     "text": [
      "epoch: 3, [batch: 3780 / 12600], examples_per_second: 3258.5574, train_label_loss: 0.7778, \n"
     ]
    },
    {
     "name": "stdout",
     "output_type": "stream",
     "text": [
      "epoch: 3, [batch: 5040 / 12600], examples_per_second: 3239.4695, train_label_loss: 0.7086, \n"
     ]
    },
    {
     "name": "stdout",
     "output_type": "stream",
     "text": [
      "epoch: 3, [batch: 6300 / 12600], examples_per_second: 3254.2184, train_label_loss: 0.6963, \n"
     ]
    },
    {
     "name": "stdout",
     "output_type": "stream",
     "text": [
      "epoch: 3, [batch: 7560 / 12600], examples_per_second: 3242.5685, train_label_loss: 0.7640, \n"
     ]
    },
    {
     "name": "stdout",
     "output_type": "stream",
     "text": [
      "epoch: 3, [batch: 8820 / 12600], examples_per_second: 3242.4215, train_label_loss: 0.8524, \n"
     ]
    },
    {
     "name": "stdout",
     "output_type": "stream",
     "text": [
      "epoch: 3, [batch: 10080 / 12600], examples_per_second: 3258.0966, train_label_loss: 0.8524, \n"
     ]
    },
    {
     "name": "stdout",
     "output_type": "stream",
     "text": [
      "epoch: 3, [batch: 11340 / 12600], examples_per_second: 3257.0289, train_label_loss: 0.5235, \n"
     ]
    },
    {
     "name": "stdout",
     "output_type": "stream",
     "text": [
      "=============================================================\n",
      "epoch: 3, source_val_acc_label: 0.6735, target_val_acc_label: 0.5952, source_val_label_loss: 0.8680, target_val_label_loss: 1.0712, \n",
      "=============================================================\n"
     ]
    },
    {
     "name": "stdout",
     "output_type": "stream",
     "text": [
      "New best\n"
     ]
    },
    {
     "name": "stdout",
     "output_type": "stream",
     "text": [
      "epoch: 4, [batch: 1 / 12600], examples_per_second: 2.2962, train_label_loss: 0.4753, \n"
     ]
    },
    {
     "name": "stdout",
     "output_type": "stream",
     "text": [
      "epoch: 4, [batch: 1260 / 12600], examples_per_second: 3229.5848, train_label_loss: 0.7293, \n"
     ]
    },
    {
     "name": "stdout",
     "output_type": "stream",
     "text": [
      "epoch: 4, [batch: 2520 / 12600], examples_per_second: 3234.4086, train_label_loss: 0.6394, \n"
     ]
    },
    {
     "name": "stdout",
     "output_type": "stream",
     "text": [
      "epoch: 4, [batch: 3780 / 12600], examples_per_second: 3243.0547, train_label_loss: 0.7577, \n"
     ]
    },
    {
     "name": "stdout",
     "output_type": "stream",
     "text": [
      "epoch: 4, [batch: 5040 / 12600], examples_per_second: 3228.6108, train_label_loss: 0.7200, \n"
     ]
    },
    {
     "name": "stdout",
     "output_type": "stream",
     "text": [
      "epoch: 4, [batch: 6300 / 12600], examples_per_second: 3253.8598, train_label_loss: 0.6337, \n"
     ]
    },
    {
     "name": "stdout",
     "output_type": "stream",
     "text": [
      "epoch: 4, [batch: 7560 / 12600], examples_per_second: 3263.6501, train_label_loss: 0.7627, \n"
     ]
    },
    {
     "name": "stdout",
     "output_type": "stream",
     "text": [
      "epoch: 4, [batch: 8820 / 12600], examples_per_second: 3248.7050, train_label_loss: 0.7518, \n"
     ]
    },
    {
     "name": "stdout",
     "output_type": "stream",
     "text": [
      "epoch: 4, [batch: 10080 / 12600], examples_per_second: 3242.0187, train_label_loss: 0.5850, \n"
     ]
    },
    {
     "name": "stdout",
     "output_type": "stream",
     "text": [
      "epoch: 4, [batch: 11340 / 12600], examples_per_second: 3247.8823, train_label_loss: 0.5699, \n"
     ]
    },
    {
     "name": "stdout",
     "output_type": "stream",
     "text": [
      "=============================================================\n",
      "epoch: 4, source_val_acc_label: 0.6737, target_val_acc_label: 0.5980, source_val_label_loss: 0.8625, target_val_label_loss: 1.0683, \n",
      "=============================================================\n"
     ]
    },
    {
     "name": "stdout",
     "output_type": "stream",
     "text": [
      "New best\n"
     ]
    },
    {
     "name": "stdout",
     "output_type": "stream",
     "text": [
      "epoch: 5, [batch: 1 / 12600], examples_per_second: 2.3020, train_label_loss: 0.5935, \n"
     ]
    },
    {
     "name": "stdout",
     "output_type": "stream",
     "text": [
      "epoch: 5, [batch: 1260 / 12600], examples_per_second: 3233.1861, train_label_loss: 0.4242, \n"
     ]
    },
    {
     "name": "stdout",
     "output_type": "stream",
     "text": [
      "epoch: 5, [batch: 2520 / 12600], examples_per_second: 3248.2389, train_label_loss: 0.8094, \n"
     ]
    },
    {
     "name": "stdout",
     "output_type": "stream",
     "text": [
      "epoch: 5, [batch: 3780 / 12600], examples_per_second: 3247.8583, train_label_loss: 0.5506, \n"
     ]
    },
    {
     "name": "stdout",
     "output_type": "stream",
     "text": [
      "epoch: 5, [batch: 5040 / 12600], examples_per_second: 3239.6294, train_label_loss: 0.4423, \n"
     ]
    },
    {
     "name": "stdout",
     "output_type": "stream",
     "text": [
      "epoch: 5, [batch: 6300 / 12600], examples_per_second: 3249.3383, train_label_loss: 0.5238, \n"
     ]
    },
    {
     "name": "stdout",
     "output_type": "stream",
     "text": [
      "epoch: 5, [batch: 7560 / 12600], examples_per_second: 3249.4043, train_label_loss: 0.6990, \n"
     ]
    },
    {
     "name": "stdout",
     "output_type": "stream",
     "text": [
      "epoch: 5, [batch: 8820 / 12600], examples_per_second: 3254.9115, train_label_loss: 0.5530, \n"
     ]
    },
    {
     "name": "stdout",
     "output_type": "stream",
     "text": [
      "epoch: 5, [batch: 10080 / 12600], examples_per_second: 3261.5801, train_label_loss: 0.2502, \n"
     ]
    },
    {
     "name": "stdout",
     "output_type": "stream",
     "text": [
      "epoch: 5, [batch: 11340 / 12600], examples_per_second: 3263.4652, train_label_loss: 0.3884, \n"
     ]
    },
    {
     "name": "stdout",
     "output_type": "stream",
     "text": [
      "=============================================================\n",
      "epoch: 5, source_val_acc_label: 0.6924, target_val_acc_label: 0.6162, source_val_label_loss: 0.8514, target_val_label_loss: 1.0530, \n",
      "=============================================================\n"
     ]
    },
    {
     "name": "stdout",
     "output_type": "stream",
     "text": [
      "New best\n"
     ]
    },
    {
     "name": "stdout",
     "output_type": "stream",
     "text": [
      "epoch: 6, [batch: 1 / 12600], examples_per_second: 2.2892, train_label_loss: 0.7579, \n"
     ]
    },
    {
     "name": "stdout",
     "output_type": "stream",
     "text": [
      "epoch: 6, [batch: 1260 / 12600], examples_per_second: 3206.8322, train_label_loss: 0.5970, \n"
     ]
    },
    {
     "name": "stdout",
     "output_type": "stream",
     "text": [
      "epoch: 6, [batch: 2520 / 12600], examples_per_second: 3244.7331, train_label_loss: 0.6701, \n"
     ]
    },
    {
     "name": "stdout",
     "output_type": "stream",
     "text": [
      "epoch: 6, [batch: 3780 / 12600], examples_per_second: 3259.4918, train_label_loss: 0.6008, \n"
     ]
    },
    {
     "name": "stdout",
     "output_type": "stream",
     "text": [
      "epoch: 6, [batch: 5040 / 12600], examples_per_second: 3242.9973, train_label_loss: 0.2056, \n"
     ]
    },
    {
     "name": "stdout",
     "output_type": "stream",
     "text": [
      "epoch: 6, [batch: 6300 / 12600], examples_per_second: 3256.3222, train_label_loss: 0.4867, \n"
     ]
    },
    {
     "name": "stdout",
     "output_type": "stream",
     "text": [
      "epoch: 6, [batch: 7560 / 12600], examples_per_second: 3265.2818, train_label_loss: 0.4240, \n"
     ]
    },
    {
     "name": "stdout",
     "output_type": "stream",
     "text": [
      "epoch: 6, [batch: 8820 / 12600], examples_per_second: 3247.3525, train_label_loss: 0.3535, \n"
     ]
    },
    {
     "name": "stdout",
     "output_type": "stream",
     "text": [
      "epoch: 6, [batch: 10080 / 12600], examples_per_second: 3252.2056, train_label_loss: 0.4083, \n"
     ]
    },
    {
     "name": "stdout",
     "output_type": "stream",
     "text": [
      "epoch: 6, [batch: 11340 / 12600], examples_per_second: 3261.4371, train_label_loss: 0.2865, \n"
     ]
    },
    {
     "name": "stdout",
     "output_type": "stream",
     "text": [
      "=============================================================\n",
      "epoch: 6, source_val_acc_label: 0.6925, target_val_acc_label: 0.6196, source_val_label_loss: 0.9078, target_val_label_loss: 1.0933, \n",
      "=============================================================\n"
     ]
    },
    {
     "name": "stdout",
     "output_type": "stream",
     "text": [
      "New best\n"
     ]
    },
    {
     "name": "stdout",
     "output_type": "stream",
     "text": [
      "epoch: 7, [batch: 1 / 12600], examples_per_second: 2.2993, train_label_loss: 0.2598, \n"
     ]
    },
    {
     "name": "stdout",
     "output_type": "stream",
     "text": [
      "epoch: 7, [batch: 1260 / 12600], examples_per_second: 3227.9415, train_label_loss: 0.4447, \n"
     ]
    },
    {
     "name": "stdout",
     "output_type": "stream",
     "text": [
      "epoch: 7, [batch: 2520 / 12600], examples_per_second: 3263.5714, train_label_loss: 0.5201, \n"
     ]
    },
    {
     "name": "stdout",
     "output_type": "stream",
     "text": [
      "epoch: 7, [batch: 3780 / 12600], examples_per_second: 3254.2662, train_label_loss: 0.4694, \n"
     ]
    },
    {
     "name": "stdout",
     "output_type": "stream",
     "text": [
      "epoch: 7, [batch: 5040 / 12600], examples_per_second: 3239.2548, train_label_loss: 0.5246, \n"
     ]
    },
    {
     "name": "stdout",
     "output_type": "stream",
     "text": [
      "epoch: 7, [batch: 6300 / 12600], examples_per_second: 3266.3980, train_label_loss: 0.5317, \n"
     ]
    },
    {
     "name": "stdout",
     "output_type": "stream",
     "text": [
      "epoch: 7, [batch: 7560 / 12600], examples_per_second: 3240.4263, train_label_loss: 0.3798, \n"
     ]
    },
    {
     "name": "stdout",
     "output_type": "stream",
     "text": [
      "epoch: 7, [batch: 8820 / 12600], examples_per_second: 3255.7285, train_label_loss: 0.3140, \n"
     ]
    },
    {
     "name": "stdout",
     "output_type": "stream",
     "text": [
      "epoch: 7, [batch: 10080 / 12600], examples_per_second: 3267.7486, train_label_loss: 0.2552, \n"
     ]
    },
    {
     "name": "stdout",
     "output_type": "stream",
     "text": [
      "epoch: 7, [batch: 11340 / 12600], examples_per_second: 3266.2292, train_label_loss: 0.4305, \n"
     ]
    },
    {
     "name": "stdout",
     "output_type": "stream",
     "text": [
      "=============================================================\n",
      "epoch: 7, source_val_acc_label: 0.6862, target_val_acc_label: 0.6086, source_val_label_loss: 0.9130, target_val_label_loss: 1.1012, \n",
      "=============================================================\n"
     ]
    },
    {
     "name": "stdout",
     "output_type": "stream",
     "text": [
      "epoch: 8, [batch: 1 / 12600], examples_per_second: 2.2886, train_label_loss: 0.6116, \n"
     ]
    },
    {
     "name": "stdout",
     "output_type": "stream",
     "text": [
      "epoch: 8, [batch: 1260 / 12600], examples_per_second: 3225.4624, train_label_loss: 0.2585, \n"
     ]
    },
    {
     "name": "stdout",
     "output_type": "stream",
     "text": [
      "epoch: 8, [batch: 2520 / 12600], examples_per_second: 3251.3966, train_label_loss: 0.6233, \n"
     ]
    },
    {
     "name": "stdout",
     "output_type": "stream",
     "text": [
      "epoch: 8, [batch: 3780 / 12600], examples_per_second: 3253.1040, train_label_loss: 0.5619, \n"
     ]
    },
    {
     "name": "stdout",
     "output_type": "stream",
     "text": [
      "epoch: 8, [batch: 5040 / 12600], examples_per_second: 3247.1346, train_label_loss: 0.1010, \n"
     ]
    },
    {
     "name": "stdout",
     "output_type": "stream",
     "text": [
      "epoch: 8, [batch: 6300 / 12600], examples_per_second: 3259.2687, train_label_loss: 0.6568, \n"
     ]
    },
    {
     "name": "stdout",
     "output_type": "stream",
     "text": [
      "epoch: 8, [batch: 7560 / 12600], examples_per_second: 3240.0806, train_label_loss: 0.1934, \n"
     ]
    },
    {
     "name": "stdout",
     "output_type": "stream",
     "text": [
      "epoch: 8, [batch: 8820 / 12600], examples_per_second: 3250.9049, train_label_loss: 0.1609, \n"
     ]
    },
    {
     "name": "stdout",
     "output_type": "stream",
     "text": [
      "epoch: 8, [batch: 10080 / 12600], examples_per_second: 3268.8749, train_label_loss: 0.4118, \n"
     ]
    },
    {
     "name": "stdout",
     "output_type": "stream",
     "text": [
      "epoch: 8, [batch: 11340 / 12600], examples_per_second: 3257.7853, train_label_loss: 0.4573, \n"
     ]
    },
    {
     "name": "stdout",
     "output_type": "stream",
     "text": [
      "=============================================================\n",
      "epoch: 8, source_val_acc_label: 0.6922, target_val_acc_label: 0.6121, source_val_label_loss: 0.9740, target_val_label_loss: 1.1763, \n",
      "=============================================================\n"
     ]
    },
    {
     "name": "stdout",
     "output_type": "stream",
     "text": [
      "epoch: 9, [batch: 1 / 12600], examples_per_second: 2.2893, train_label_loss: 0.2239, \n"
     ]
    },
    {
     "name": "stdout",
     "output_type": "stream",
     "text": [
      "epoch: 9, [batch: 1260 / 12600], examples_per_second: 3226.3726, train_label_loss: 0.2284, \n"
     ]
    },
    {
     "name": "stdout",
     "output_type": "stream",
     "text": [
      "epoch: 9, [batch: 2520 / 12600], examples_per_second: 3256.0662, train_label_loss: 0.4042, \n"
     ]
    },
    {
     "name": "stdout",
     "output_type": "stream",
     "text": [
      "epoch: 9, [batch: 3780 / 12600], examples_per_second: 3256.5849, train_label_loss: 0.2878, \n"
     ]
    },
    {
     "name": "stdout",
     "output_type": "stream",
     "text": [
      "epoch: 9, [batch: 5040 / 12600], examples_per_second: 3236.4437, train_label_loss: 0.2714, \n"
     ]
    },
    {
     "name": "stdout",
     "output_type": "stream",
     "text": [
      "epoch: 9, [batch: 6300 / 12600], examples_per_second: 3252.5030, train_label_loss: 0.2917, \n"
     ]
    },
    {
     "name": "stdout",
     "output_type": "stream",
     "text": [
      "epoch: 9, [batch: 7560 / 12600], examples_per_second: 3265.4357, train_label_loss: 0.4680, \n"
     ]
    },
    {
     "name": "stdout",
     "output_type": "stream",
     "text": [
      "epoch: 9, [batch: 8820 / 12600], examples_per_second: 3249.2697, train_label_loss: 0.3776, \n"
     ]
    },
    {
     "name": "stdout",
     "output_type": "stream",
     "text": [
      "epoch: 9, [batch: 10080 / 12600], examples_per_second: 3269.8252, train_label_loss: 0.2413, \n"
     ]
    },
    {
     "name": "stdout",
     "output_type": "stream",
     "text": [
      "epoch: 9, [batch: 11340 / 12600], examples_per_second: 3256.2091, train_label_loss: 0.3144, \n"
     ]
    },
    {
     "name": "stdout",
     "output_type": "stream",
     "text": [
      "=============================================================\n",
      "epoch: 9, source_val_acc_label: 0.6864, target_val_acc_label: 0.6076, source_val_label_loss: 1.0179, target_val_label_loss: 1.2252, \n",
      "=============================================================\n"
     ]
    },
    {
     "name": "stdout",
     "output_type": "stream",
     "text": [
      "epoch: 10, [batch: 1 / 12600], examples_per_second: 2.2992, train_label_loss: 0.3332, \n"
     ]
    },
    {
     "name": "stdout",
     "output_type": "stream",
     "text": [
      "epoch: 10, [batch: 1260 / 12600], examples_per_second: 3229.2023, train_label_loss: 0.4169, \n"
     ]
    },
    {
     "name": "stdout",
     "output_type": "stream",
     "text": [
      "epoch: 10, [batch: 2520 / 12600], examples_per_second: 3251.8777, train_label_loss: 0.5120, \n"
     ]
    },
    {
     "name": "stdout",
     "output_type": "stream",
     "text": [
      "epoch: 10, [batch: 3780 / 12600], examples_per_second: 3248.4455, train_label_loss: 0.2756, \n"
     ]
    },
    {
     "name": "stdout",
     "output_type": "stream",
     "text": [
      "epoch: 10, [batch: 5040 / 12600], examples_per_second: 3239.2719, train_label_loss: 0.3929, \n"
     ]
    },
    {
     "name": "stdout",
     "output_type": "stream",
     "text": [
      "epoch: 10, [batch: 6300 / 12600], examples_per_second: 3253.7586, train_label_loss: 0.3108, \n"
     ]
    },
    {
     "name": "stdout",
     "output_type": "stream",
     "text": [
      "epoch: 10, [batch: 7560 / 12600], examples_per_second: 3247.0144, train_label_loss: 0.2470, \n"
     ]
    },
    {
     "name": "stdout",
     "output_type": "stream",
     "text": [
      "epoch: 10, [batch: 8820 / 12600], examples_per_second: 3243.2438, train_label_loss: 0.2705, \n"
     ]
    },
    {
     "name": "stdout",
     "output_type": "stream",
     "text": [
      "epoch: 10, [batch: 10080 / 12600], examples_per_second: 3220.4191, train_label_loss: 0.2693, \n"
     ]
    },
    {
     "name": "stdout",
     "output_type": "stream",
     "text": [
      "epoch: 10, [batch: 11340 / 12600], examples_per_second: 3250.1804, train_label_loss: 0.3889, \n"
     ]
    },
    {
     "name": "stdout",
     "output_type": "stream",
     "text": [
      "=============================================================\n",
      "epoch: 10, source_val_acc_label: 0.6921, target_val_acc_label: 0.6120, source_val_label_loss: 1.0549, target_val_label_loss: 1.2690, \n",
      "=============================================================\n"
     ]
    },
    {
     "name": "stdout",
     "output_type": "stream",
     "text": [
      "Patience (3) exhausted\n"
     ]
    }
   ],
   "source": [
    "###################################\n",
    "# train\n",
    "###################################\n",
    "jig = PTN_Train_Eval_Test_Jig(model, p.BEST_MODEL_PATH, p.device)\n",
    "\n",
    "jig.train(\n",
    "    train_iterable=datasets.source.processed.train,\n",
    "    source_val_iterable=datasets.source.processed.val,\n",
    "    target_val_iterable=datasets.target.processed.val,\n",
    "    num_epochs=p.n_epoch,\n",
    "    num_logs_per_epoch=p.NUM_LOGS_PER_EPOCH,\n",
    "    patience=p.patience,\n",
    "    optimizer=optimizer,\n",
    "    criteria_for_best=p.criteria_for_best,\n",
    ")"
   ]
  },
  {
   "cell_type": "code",
   "execution_count": 14,
   "id": "31e8fabf",
   "metadata": {
    "execution": {
     "iopub.execute_input": "2022-03-22T11:40:46.318572Z",
     "iopub.status.busy": "2022-03-22T11:40:46.318033Z",
     "iopub.status.idle": "2022-03-22T11:40:46.337490Z",
     "shell.execute_reply": "2022-03-22T11:40:46.337044Z"
    },
    "papermill": {
     "duration": 0.052918,
     "end_time": "2022-03-22T11:40:46.337578",
     "exception": false,
     "start_time": "2022-03-22T11:40:46.284660",
     "status": "completed"
    },
    "tags": []
   },
   "outputs": [],
   "source": [
    "total_experiment_time_secs = time.time() - start_time_secs"
   ]
  },
  {
   "cell_type": "code",
   "execution_count": 15,
   "id": "87b9595b",
   "metadata": {
    "execution": {
     "iopub.execute_input": "2022-03-22T11:40:46.415656Z",
     "iopub.status.busy": "2022-03-22T11:40:46.411686Z",
     "iopub.status.idle": "2022-03-22T11:44:45.281655Z",
     "shell.execute_reply": "2022-03-22T11:44:45.281876Z"
    },
    "papermill": {
     "duration": 238.90701,
     "end_time": "2022-03-22T11:44:45.281956",
     "exception": false,
     "start_time": "2022-03-22T11:40:46.374946",
     "status": "completed"
    },
    "tags": []
   },
   "outputs": [],
   "source": [
    "###################################\n",
    "# Evaluate the model\n",
    "###################################\n",
    "source_test_label_accuracy, source_test_label_loss = jig.test(datasets.source.processed.test)\n",
    "target_test_label_accuracy, target_test_label_loss = jig.test(datasets.target.processed.test)\n",
    "\n",
    "source_val_label_accuracy, source_val_label_loss = jig.test(datasets.source.processed.val)\n",
    "target_val_label_accuracy, target_val_label_loss = jig.test(datasets.target.processed.val)\n",
    "\n",
    "history = jig.get_history()\n",
    "\n",
    "total_epochs_trained = len(history[\"epoch_indices\"])\n",
    "\n",
    "val_dl = Iterable_Aggregator((datasets.source.original.val,datasets.target.original.val))\n",
    "\n",
    "confusion = ptn_confusion_by_domain_over_dataloader(model, p.device, val_dl)\n",
    "per_domain_accuracy = per_domain_accuracy_from_confusion(confusion)\n",
    "\n",
    "# Add a key to per_domain_accuracy for if it was a source domain\n",
    "for domain, accuracy in per_domain_accuracy.items():\n",
    "    per_domain_accuracy[domain] = {\n",
    "        \"accuracy\": accuracy,\n",
    "        \"source?\": domain in p.domains_source\n",
    "    }\n",
    "\n",
    "# Do an independent accuracy assesment JUST TO BE SURE!\n",
    "# _source_test_label_accuracy = independent_accuracy_assesment(model, datasets.source.processed.test, p.device)\n",
    "# _target_test_label_accuracy = independent_accuracy_assesment(model, datasets.target.processed.test, p.device)\n",
    "# _source_val_label_accuracy = independent_accuracy_assesment(model, datasets.source.processed.val, p.device)\n",
    "# _target_val_label_accuracy = independent_accuracy_assesment(model, datasets.target.processed.val, p.device)\n",
    "\n",
    "# assert(_source_test_label_accuracy == source_test_label_accuracy)\n",
    "# assert(_target_test_label_accuracy == target_test_label_accuracy)\n",
    "# assert(_source_val_label_accuracy == source_val_label_accuracy)\n",
    "# assert(_target_val_label_accuracy == target_val_label_accuracy)\n",
    "\n",
    "experiment = {\n",
    "    \"experiment_name\": p.experiment_name,\n",
    "    \"parameters\": dict(p),\n",
    "    \"results\": {\n",
    "        \"source_test_label_accuracy\": source_test_label_accuracy,\n",
    "        \"source_test_label_loss\": source_test_label_loss,\n",
    "        \"target_test_label_accuracy\": target_test_label_accuracy,\n",
    "        \"target_test_label_loss\": target_test_label_loss,\n",
    "        \"source_val_label_accuracy\": source_val_label_accuracy,\n",
    "        \"source_val_label_loss\": source_val_label_loss,\n",
    "        \"target_val_label_accuracy\": target_val_label_accuracy,\n",
    "        \"target_val_label_loss\": target_val_label_loss,\n",
    "        \"total_epochs_trained\": total_epochs_trained,\n",
    "        \"total_experiment_time_secs\": total_experiment_time_secs,\n",
    "        \"confusion\": confusion,\n",
    "        \"per_domain_accuracy\": per_domain_accuracy,\n",
    "    },\n",
    "    \"history\": history,\n",
    "    \"dataset_metrics\": get_dataset_metrics(datasets, \"ptn\"),\n",
    "}"
   ]
  },
  {
   "cell_type": "code",
   "execution_count": 16,
   "id": "54a21829",
   "metadata": {
    "execution": {
     "iopub.execute_input": "2022-03-22T11:44:45.345849Z",
     "iopub.status.busy": "2022-03-22T11:44:45.345601Z",
     "iopub.status.idle": "2022-03-22T11:44:45.475431Z",
     "shell.execute_reply": "2022-03-22T11:44:45.475191Z"
    },
    "papermill": {
     "duration": 0.162577,
     "end_time": "2022-03-22T11:44:45.475491",
     "exception": false,
     "start_time": "2022-03-22T11:44:45.312914",
     "status": "completed"
    },
    "tags": []
   },
   "outputs": [
    {
     "data": {
      "image/png": "[encoded data removed]",
      "text/plain": [
       "<Figure size 1080x504 with 1 Axes>"
      ]
     },
     "metadata": {
      "needs_background": "light"
     },
     "output_type": "display_data"
    }
   ],
   "source": [
    "ax = get_loss_curve(experiment)\n",
    "plt.show()"
   ]
  },
  {
   "cell_type": "code",
   "execution_count": 17,
   "id": "fd8a0f60",
   "metadata": {
    "execution": {
     "iopub.execute_input": "2022-03-22T11:44:45.541828Z",
     "iopub.status.busy": "2022-03-22T11:44:45.541119Z",
     "iopub.status.idle": "2022-03-22T11:44:45.680114Z",
     "shell.execute_reply": "2022-03-22T11:44:45.679870Z"
    },
    "papermill": {
     "duration": 0.172311,
     "end_time": "2022-03-22T11:44:45.680182",
     "exception": false,
     "start_time": "2022-03-22T11:44:45.507871",
     "status": "completed"
    },
    "tags": []
   },
   "outputs": [
    {
     "data": {
      "text/plain": [
       "<AxesSubplot:title={'center':'Results'}>"
      ]
     },
     "execution_count": 17,
     "metadata": {},
     "output_type": "execute_result"
    },
    {
     "data": {
      "image/png": "[encoded data removed]",
      "text/plain": [
       "<Figure size 1080x504 with 1 Axes>"
      ]
     },
     "metadata": {
      "needs_background": "light"
     },
     "output_type": "display_data"
    }
   ],
   "source": [
    "get_results_table(experiment)"
   ]
  },
  {
   "cell_type": "code",
   "execution_count": 18,
   "id": "cf8dc689",
   "metadata": {
    "execution": {
     "iopub.execute_input": "2022-03-22T11:44:45.754342Z",
     "iopub.status.busy": "2022-03-22T11:44:45.753731Z",
     "iopub.status.idle": "2022-03-22T11:44:45.872668Z",
     "shell.execute_reply": "2022-03-22T11:44:45.873098Z"
    },
    "papermill": {
     "duration": 0.156009,
     "end_time": "2022-03-22T11:44:45.873231",
     "exception": false,
     "start_time": "2022-03-22T11:44:45.717222",
     "status": "completed"
    },
    "tags": []
   },
   "outputs": [
    {
     "data": {
      "text/plain": [
       "<AxesSubplot:title={'center':'Per Domain Validation Accuracy'}, xlabel='domain'>"
      ]
     },
     "execution_count": 18,
     "metadata": {},
     "output_type": "execute_result"
    },
    {
     "data": {
      "image/png": "[encoded data removed]",
      "text/plain": [
       "<Figure size 1080x504 with 1 Axes>"
      ]
     },
     "metadata": {
      "needs_background": "light"
     },
     "output_type": "display_data"
    }
   ],
   "source": [
    "get_domain_accuracies(experiment)"
   ]
  },
  {
   "cell_type": "code",
   "execution_count": 19,
   "id": "a74ae082",
   "metadata": {
    "execution": {
     "iopub.execute_input": "2022-03-22T11:44:45.948103Z",
     "iopub.status.busy": "2022-03-22T11:44:45.947844Z",
     "iopub.status.idle": "2022-03-22T11:44:45.963891Z",
     "shell.execute_reply": "2022-03-22T11:44:45.964266Z"
    },
    "papermill": {
     "duration": 0.053045,
     "end_time": "2022-03-22T11:44:45.964389",
     "exception": false,
     "start_time": "2022-03-22T11:44:45.911344",
     "status": "completed"
    },
    "tags": []
   },
   "outputs": [
    {
     "name": "stdout",
     "output_type": "stream",
     "text": [
      "Source Test Label Accuracy: 0.6950694444444444 Target Test Label Accuracy: 0.6201875\n",
      "Source Val Label Accuracy: 0.6924826388888888 Target Val Label Accuracy: 0.6195625\n"
     ]
    }
   ],
   "source": [
    "print(\"Source Test Label Accuracy:\", experiment[\"results\"][\"source_test_label_accuracy\"], \"Target Test Label Accuracy:\", experiment[\"results\"][\"target_test_label_accuracy\"])\n",
    "print(\"Source Val Label Accuracy:\", experiment[\"results\"][\"source_val_label_accuracy\"], \"Target Val Label Accuracy:\", experiment[\"results\"][\"target_val_label_accuracy\"])"
   ]
  },
  {
   "cell_type": "code",
   "execution_count": 20,
   "id": "dacca602",
   "metadata": {
    "execution": {
     "iopub.execute_input": "2022-03-22T11:44:46.040080Z",
     "iopub.status.busy": "2022-03-22T11:44:46.039391Z",
     "iopub.status.idle": "2022-03-22T11:44:46.056139Z",
     "shell.execute_reply": "2022-03-22T11:44:46.056533Z"
    },
    "papermill": {
     "duration": 0.052458,
     "end_time": "2022-03-22T11:44:46.056652",
     "exception": false,
     "start_time": "2022-03-22T11:44:46.004194",
     "status": "completed"
    },
    "tags": [
     "experiment_json"
    ]
   },
   "outputs": [
    {
     "data": {
      "text/plain": [
       "'{\"experiment_name\": \"tuned_1v2:oracle.run1\", \"parameters\": {\"experiment_name\": \"tuned_1v2:oracle.run1\", \"device\": \"cuda\", \"lr\": 0.0001, \"labels_source\": [\"3123D52\", \"3123D65\", \"3123D79\", \"3123D80\", \"3123D54\", \"3123D70\", \"3123D7B\", \"3123D89\", \"3123D58\", \"3123D76\", \"3123D7D\", \"3123EFE\", \"3123D64\", \"3123D78\", \"3123D7E\", \"3124E4A\"], \"labels_target\": [\"3123D52\", \"3123D65\", \"3123D79\", \"3123D80\", \"3123D54\", \"3123D70\", \"3123D7B\", \"3123D89\", \"3123D58\", \"3123D76\", \"3123D7D\", \"3123EFE\", \"3123D64\", \"3123D78\", \"3123D7E\", \"3124E4A\"], \"episode_transforms_source\": [], \"episode_transforms_target\": [], \"domains_source\": [8, 32, 50], \"domains_target\": [14, 20, 26, 38, 44], \"num_examples_per_domain_per_label_source\": -1, \"num_examples_per_domain_per_label_target\": -1, \"n_shot\": 3, \"n_way\": 16, \"n_query\": 2, \"train_k_factor\": 3, \"val_k_factor\": 2, \"test_k_factor\": 2, \"torch_default_dtype\": \"torch.float32\", \"n_epoch\": 50, \"patience\": 3, \"criteria_for_best\": \"target_accuracy\", \"x_net\": [{\"class\": \"nnReshape\", \"kargs\": {\"shape\": [-1, 1, 2, 256]}}, {\"class\": \"Conv2d\", \"kargs\": {\"in_channels\": 1, \"out_channels\": 256, \"kernel_size\": [1, 7], \"bias\": false, \"padding\": [0, 3]}}, {\"class\": \"ReLU\", \"kargs\": {\"inplace\": true}}, {\"class\": \"BatchNorm2d\", \"kargs\": {\"num_features\": 256}}, {\"class\": \"Conv2d\", \"kargs\": {\"in_channels\": 256, \"out_channels\": 80, \"kernel_size\": [2, 7], \"bias\": true, \"padding\": [0, 3]}}, {\"class\": \"ReLU\", \"kargs\": {\"inplace\": true}}, {\"class\": \"BatchNorm2d\", \"kargs\": {\"num_features\": 80}}, {\"class\": \"Flatten\", \"kargs\": {}}, {\"class\": \"Linear\", \"kargs\": {\"in_features\": 20480, \"out_features\": 256}}, {\"class\": \"ReLU\", \"kargs\": {\"inplace\": true}}, {\"class\": \"BatchNorm1d\", \"kargs\": {\"num_features\": 256}}, {\"class\": \"Linear\", \"kargs\": {\"in_features\": 256, \"out_features\": 256}}], \"NUM_LOGS_PER_EPOCH\": 10, \"BEST_MODEL_PATH\": \"./best_model.pth\", \"pickle_name\": \"oracle.Run1_10kExamples_stratified_ds.2022A.pkl\", \"x_transforms_source\": [\"unit_power\"], \"x_transforms_target\": [\"unit_power\"], \"dataset_seed\": 500, \"seed\": 500}, \"results\": {\"source_test_label_accuracy\": 0.6950694444444444, \"source_test_label_loss\": 0.9022397398948669, \"target_test_label_accuracy\": 0.6201875, \"target_test_label_loss\": 1.0926169157028198, \"source_val_label_accuracy\": 0.6924826388888888, \"source_val_label_loss\": 0.9077550768852234, \"target_val_label_accuracy\": 0.6195625, \"target_val_label_loss\": 1.0933336019515991, \"total_epochs_trained\": 10, \"total_experiment_time_secs\": 3573.836175441742, \"confusion\": {\"8\": {\"7\": {\"7\": 817, \"6\": 294, \"0\": 58, \"13\": 7, \"4\": 9, \"15\": 3, \"8\": 10, \"2\": 2}, \"10\": {\"13\": 105, \"10\": 748, \"14\": 235, \"4\": 45, \"5\": 36, \"1\": 12, \"0\": 16, \"6\": 1, \"11\": 2}, \"0\": {\"0\": 656, \"4\": 74, \"6\": 88, \"13\": 260, \"7\": 96, \"14\": 4, \"10\": 22}, \"11\": {\"11\": 669, \"1\": 442, \"8\": 23, \"4\": 11, \"5\": 32, \"14\": 20, \"10\": 2, \"6\": 1}, \"2\": {\"2\": 887, \"15\": 38, \"3\": 235, \"12\": 20, \"7\": 19, \"8\": 1}, \"14\": {\"13\": 96, \"14\": 549, \"10\": 264, \"4\": 183, \"0\": 7, \"1\": 76, \"6\": 13, \"11\": 10, \"5\": 2}, \"9\": {\"9\": 1200}, \"13\": {\"13\": 395, \"0\": 268, \"6\": 58, \"14\": 109, \"10\": 139, \"4\": 213, \"1\": 7, \"7\": 10, \"5\": 1}, \"8\": {\"8\": 1093, \"15\": 69, \"4\": 1, \"12\": 8, \"6\": 21, \"7\": 8}, \"15\": {\"8\": 72, \"15\": 790, \"12\": 299, \"3\": 10, \"6\": 2, \"2\": 23, \"7\": 4}, \"4\": {\"14\": 168, \"4\": 494, \"13\": 241, \"0\": 84, \"10\": 45, \"6\": 150, \"1\": 5, \"8\": 4, \"7\": 8, \"11\": 1}, \"5\": {\"5\": 1035, \"14\": 20, \"1\": 50, \"11\": 6, \"10\": 89}, \"3\": {\"3\": 904, \"15\": 18, \"2\": 171, \"12\": 107}, \"1\": {\"1\": 702, \"11\": 357, \"14\": 92, \"4\": 7, \"10\": 22, \"5\": 18, \"6\": 1, \"13\": 1}, \"6\": {\"7\": 268, \"6\": 641, \"0\": 97, \"4\": 135, \"8\": 23, \"13\": 32, \"14\": 3, \"15\": 1}, \"12\": {\"15\": 380, \"12\": 560, \"3\": 198, \"8\": 40, \"2\": 21, \"6\": 1}}, \"50\": {\"11\": {\"11\": 1040, \"9\": 95, \"15\": 31, \"14\": 21, \"12\": 11, \"1\": 2}, \"2\": {\"0\": 86, \"2\": 1114}, \"12\": {\"12\": 1052, \"9\": 91, \"11\": 8, \"14\": 49}, \"8\": {\"10\": 27, \"8\": 1160, \"3\": 13}, \"4\": {\"15\": 194, \"4\": 444, \"6\": 172, \"1\": 210, \"7\": 33, \"5\": 114, \"13\": 32, \"11\": 1}, \"10\": {\"7\": 29, \"10\": 1053, \"13\": 30, \"0\": 64, \"8\": 20, \"5\": 4}, \"14\": {\"14\": 1144, \"12\": 35, \"9\": 3, \"11\": 17, \"15\": 1}, \"13\": {\"13\": 630, \"6\": 75, \"5\": 249, \"7\": 223, \"10\": 14, \"0\": 3, \"4\": 6}, \"6\": {\"6\": 724, \"13\": 84, \"1\": 113, \"5\": 120, \"4\": 141, \"15\": 17, \"7\": 1}, \"9\": {\"9\": 918, \"12\": 91, \"11\": 189, \"14\": 2}, \"15\": {\"15\": 824, \"1\": 220, \"4\": 118, \"11\": 29, \"6\": 8, \"14\": 1}, \"1\": {\"6\": 115, \"15\": 276, \"1\": 636, \"4\": 159, \"11\": 4, \"5\": 5, \"2\": 4, \"14\": 1}, \"3\": {\"3\": 1171, \"8\": 29}, \"7\": {\"13\": 257, \"7\": 736, \"10\": 43, \"5\": 158, \"4\": 2, \"6\": 4}, \"0\": {\"2\": 142, \"0\": 999, \"10\": 53, \"5\": 1, \"6\": 1, \"13\": 4}, \"5\": {\"5\": 319, \"13\": 206, \"7\": 285, \"1\": 37, \"4\": 144, \"6\": 182, \"10\": 21, \"0\": 3, \"15\": 3}}, \"32\": {\"4\": {\"0\": 128, \"14\": 20, \"4\": 542, \"7\": 146, \"2\": 237, \"13\": 33, \"5\": 89, \"8\": 5}, \"14\": {\"13\": 49, \"14\": 451, \"4\": 24, \"7\": 237, \"11\": 354, \"5\": 36, \"2\": 12, \"8\": 10, \"0\": 17, \"3\": 10}, \"5\": {\"5\": 319, \"4\": 133, \"14\": 35, \"13\": 323, \"0\": 66, \"3\": 49, \"7\": 124, \"8\": 112, \"11\": 28, \"2\": 11}, \"10\": {\"10\": 1191, \"1\": 8, \"6\": 1}, \"13\": {\"4\": 64, \"13\": 397, \"7\": 120, \"14\": 45, \"5\": 318, \"3\": 71, \"8\": 103, \"11\": 36, \"0\": 45, \"2\": 1}, \"9\": {\"9\": 1199, \"12\": 1}, \"6\": {\"6\": 1200}, \"3\": {\"5\": 28, \"3\": 1074, \"8\": 17, \"11\": 32, \"13\": 37, \"14\": 12}, \"15\": {\"15\": 1190, \"8\": 9, \"3\": 1}, \"7\": {\"7\": 484, \"4\": 161, \"14\": 207, \"13\": 120, \"5\": 122, \"11\": 41, \"0\": 24, \"2\": 36, \"8\": 5}, \"12\": {\"12\": 1200}, \"8\": {\"5\": 95, \"8\": 848, \"13\": 131, \"0\": 82, \"3\": 23, \"4\": 15, \"14\": 2, \"7\": 2, \"15\": 2}, \"11\": {\"11\": 862, \"13\": 26, \"14\": 242, \"3\": 31, \"7\": 31, \"5\": 8}, \"2\": {\"2\": 948, \"4\": 175, \"7\": 30, \"0\": 41, \"13\": 1, \"5\": 5}, \"1\": {\"1\": 1195, \"10\": 5}, \"0\": {\"0\": 683, \"4\": 186, \"13\": 39, \"7\": 45, \"14\": 14, \"2\": 68, \"5\": 52, \"8\": 113}}, \"20\": {\"7\": {\"3\": 48, \"8\": 101, \"7\": 724, \"2\": 179, \"6\": 21, \"9\": 96, \"4\": 13, \"14\": 8, \"13\": 2, \"10\": 6, \"12\": 1, \"11\": 1}, \"10\": {\"10\": 775, \"8\": 139, \"14\": 199, \"4\": 59, \"6\": 13, \"7\": 13, \"3\": 2}, \"0\": {\"0\": 428, \"15\": 159, \"1\": 158, \"5\": 276, \"3\": 45, \"12\": 90, \"4\": 21, \"2\": 4, \"9\": 14, \"13\": 4, \"7\": 1}, \"11\": {\"11\": 1195, \"7\": 3, \"13\": 1, \"6\": 1}, \"2\": {\"9\": 290, \"12\": 59, \"1\": 13, \"2\": 440, \"13\": 108, \"7\": 172, \"3\": 92, \"8\": 8, \"4\": 2, \"15\": 5, \"5\": 10, \"0\": 1}, \"14\": {\"10\": 218, \"6\": 201, \"14\": 745, \"8\": 30, \"7\": 6}, \"9\": {\"1\": 26, \"2\": 313, \"7\": 98, \"9\": 349, \"12\": 115, \"3\": 197, \"15\": 5, \"5\": 12, \"13\": 56, \"4\": 12, \"8\": 16, \"0\": 1}, \"13\": {\"13\": 958, \"2\": 109, \"9\": 60, \"15\": 31, \"1\": 17, \"12\": 8, \"7\": 7, \"5\": 5, \"3\": 4, \"0\": 1}, \"8\": {\"8\": 640, \"7\": 107, \"9\": 9, \"3\": 52, \"4\": 217, \"10\": 108, \"6\": 14, \"14\": 43, \"5\": 1, \"12\": 5, \"2\": 4}, \"15\": {\"13\": 57, \"15\": 610, \"1\": 262, \"12\": 36, \"2\": 9, \"5\": 107, \"0\": 104, \"9\": 10, \"3\": 5}, \"4\": {\"4\": 779, \"10\": 61, \"3\": 76, \"8\": 226, \"0\": 7, \"14\": 4, \"9\": 10, \"5\": 8, \"12\": 18, \"7\": 8, \"1\": 2, \"2\": 1}, \"5\": {\"0\": 252, \"3\": 69, \"1\": 220, \"5\": 339, \"15\": 107, \"4\": 3, \"12\": 173, \"13\": 9, \"9\": 20, \"2\": 7, \"8\": 1}, \"3\": {\"3\": 370, \"9\": 181, \"1\": 27, \"12\": 222, \"4\": 91, \"2\": 106, \"7\": 66, \"8\": 54, \"5\": 43, \"0\": 23, \"15\": 6, \"13\": 7, \"10\": 4}, \"1\": {\"1\": 325, \"12\": 141, \"5\": 233, \"15\": 266, \"0\": 141, \"2\": 11, \"3\": 43, \"9\": 18, \"4\": 1, \"13\": 21}, \"6\": {\"6\": 959, \"14\": 181, \"8\": 15, \"7\": 33, \"10\": 8, \"4\": 1, \"11\": 2, \"2\": 1}, \"12\": {\"1\": 129, \"3\": 223, \"12\": 343, \"9\": 132, \"15\": 49, \"4\": 30, \"5\": 125, \"2\": 70, \"0\": 73, \"13\": 14, \"7\": 6, \"8\": 5, \"10\": 1}}, \"14\": {\"14\": {\"14\": 818, \"13\": 159, \"2\": 75, \"6\": 81, \"10\": 10, \"3\": 50, \"4\": 6, \"5\": 1}, \"6\": {\"6\": 629, \"13\": 363, \"14\": 100, \"2\": 106, \"3\": 1, \"4\": 1}, \"5\": {\"5\": 621, \"4\": 260, \"2\": 80, \"1\": 199, \"7\": 18, \"3\": 14, \"15\": 5, \"6\": 1, \"13\": 1, \"14\": 1}, \"15\": {\"15\": 1094, \"7\": 103, \"5\": 2, \"2\": 1}, \"11\": {\"11\": 1010, \"9\": 75, \"0\": 60, \"10\": 55}, \"8\": {\"8\": 1200}, \"12\": {\"12\": 1193, \"9\": 7}, \"1\": {\"1\": 983, \"5\": 183, \"7\": 7, \"4\": 26, \"2\": 1}, \"2\": {\"2\": 488, \"6\": 101, \"4\": 136, \"14\": 154, \"13\": 93, \"5\": 136, \"3\": 69, \"15\": 17, \"1\": 4, \"7\": 2}, \"13\": {\"6\": 418, \"14\": 240, \"13\": 372, \"2\": 138, \"3\": 3, \"5\": 19, \"4\": 7, \"10\": 3}, \"3\": {\"3\": 922, \"4\": 173, \"14\": 51, \"1\": 2, \"2\": 25, \"5\": 9, \"13\": 1, \"0\": 8, \"10\": 9}, \"0\": {\"0\": 876, \"3\": 38, \"10\": 252, \"11\": 32, \"14\": 1, \"8\": 1}, \"9\": {\"9\": 1184, \"11\": 6, \"12\": 7, \"0\": 2, \"8\": 1}, \"4\": {\"4\": 687, \"2\": 93, \"3\": 171, \"5\": 183, \"14\": 12, \"1\": 49, \"13\": 5}, \"7\": {\"7\": 1134, \"1\": 14, \"15\": 50, \"5\": 2}, \"10\": {\"10\": 967, \"0\": 214, \"11\": 5, \"14\": 4, \"3\": 9, \"13\": 1}}, \"38\": {\"4\": {\"4\": 1105, \"12\": 89, \"7\": 3, \"10\": 3}, \"14\": {\"14\": 870, \"11\": 229, \"2\": 73, \"12\": 9, \"13\": 6, \"10\": 13}, \"5\": {\"8\": 329, \"7\": 85, \"5\": 480, \"3\": 36, \"9\": 26, \"0\": 119, \"15\": 44, \"6\": 52, \"13\": 12, \"1\": 13, \"10\": 4}, \"10\": {\"10\": 833, \"12\": 125, \"13\": 95, \"8\": 67, \"11\": 7, \"0\": 20, \"7\": 14, \"5\": 5, \"15\": 12, \"2\": 4, \"14\": 15, \"4\": 3}, \"13\": {\"13\": 677, \"15\": 356, \"1\": 22, \"10\": 88, \"2\": 27, \"8\": 22, \"14\": 3, \"5\": 4, \"0\": 1}, \"9\": {\"3\": 83, \"6\": 462, \"9\": 633, \"5\": 19, \"7\": 1, \"0\": 2}, \"6\": {\"6\": 859, \"9\": 314, \"5\": 18, \"3\": 7, \"1\": 1, \"0\": 1}, \"3\": {\"3\": 999, \"9\": 105, \"7\": 44, \"0\": 27, \"6\": 11, \"5\": 14}, \"15\": {\"15\": 728, \"13\": 290, \"1\": 89, \"8\": 53, \"5\": 26, \"10\": 10, \"0\": 3, \"2\": 1}, \"7\": {\"7\": 837, \"8\": 33, \"3\": 21, \"0\": 251, \"5\": 51, \"10\": 6, \"9\": 1}, \"12\": {\"12\": 1101, \"4\": 42, \"10\": 52, \"11\": 2, \"14\": 1, \"0\": 2}, \"8\": {\"0\": 171, \"5\": 239, \"8\": 676, \"10\": 41, \"7\": 32, \"15\": 30, \"13\": 11}, \"11\": {\"14\": 316, \"11\": 827, \"12\": 35, \"4\": 2, \"10\": 16, \"2\": 4}, \"2\": {\"2\": 1076, \"14\": 77, \"13\": 39, \"15\": 6, \"10\": 1, \"11\": 1}, \"1\": {\"15\": 80, \"1\": 1115, \"5\": 5}, \"0\": {\"0\": 344, \"3\": 52, \"8\": 324, \"10\": 54, \"7\": 277, \"5\": 134, \"15\": 3, \"4\": 4, \"9\": 2, \"12\": 3, \"13\": 2, \"6\": 1}}, \"44\": {\"8\": {\"0\": 393, \"8\": 739, \"15\": 48, \"5\": 19, \"14\": 1}, \"11\": {\"11\": 1040, \"13\": 103, \"6\": 56, \"9\": 1}, \"14\": {\"14\": 747, \"4\": 353, \"5\": 28, \"15\": 72}, \"10\": {\"10\": 815, \"2\": 112, \"7\": 4, \"12\": 148, \"1\": 116, \"3\": 5}, \"3\": {\"3\": 1047, \"1\": 135, \"7\": 1, \"12\": 14, \"10\": 1, \"2\": 2}, \"15\": {\"15\": 960, \"0\": 68, \"14\": 106, \"5\": 27, \"4\": 14, \"8\": 25}, \"2\": {\"2\": 812, \"7\": 177, \"10\": 127, \"1\": 68, \"3\": 9, \"9\": 7}, \"12\": {\"12\": 788, \"1\": 279, \"3\": 28, \"10\": 102, \"2\": 3}, \"4\": {\"14\": 336, \"4\": 852, \"15\": 8, \"13\": 2, \"5\": 2}, \"1\": {\"10\": 90, \"12\": 242, \"1\": 646, \"3\": 162, \"2\": 57, \"7\": 3}, \"0\": {\"0\": 673, \"8\": 360, \"15\": 80, \"5\": 87}, \"9\": {\"13\": 133, \"9\": 693, \"6\": 100, \"7\": 265, \"2\": 7, \"1\": 1, \"4\": 1}, \"5\": {\"5\": 1009, \"14\": 46, \"15\": 42, \"0\": 87, \"4\": 4, \"8\": 12}, \"6\": {\"6\": 795, \"13\": 223, \"9\": 107, \"7\": 40, \"11\": 34, \"2\": 1}, \"7\": {\"7\": 719, \"9\": 225, \"2\": 196, \"6\": 46, \"3\": 7, \"1\": 2, \"10\": 2, \"13\": 3}, \"13\": {\"13\": 743, \"7\": 9, \"6\": 215, \"9\": 146, \"4\": 16, \"11\": 70, \"14\": 1}}, \"26\": {\"6\": {\"6\": 801, \"9\": 148, \"10\": 108, \"8\": 48, \"14\": 2, \"0\": 27, \"15\": 48, \"13\": 11, \"4\": 3, \"5\": 4}, \"11\": {\"11\": 1185, \"12\": 15}, \"5\": {\"5\": 544, \"7\": 10, \"2\": 76, \"13\": 207, \"9\": 105, \"8\": 22, \"15\": 221, \"3\": 5, \"6\": 9, \"10\": 1}, \"14\": {\"0\": 189, \"10\": 118, \"1\": 252, \"14\": 336, \"4\": 234, \"8\": 35, \"7\": 29, \"2\": 1, \"6\": 2, \"3\": 1, \"15\": 2, \"9\": 1}, \"2\": {\"5\": 107, \"7\": 162, \"3\": 385, \"2\": 381, \"8\": 45, \"15\": 71, \"9\": 26, \"6\": 1, \"13\": 8, \"4\": 11, \"10\": 3}, \"7\": {\"7\": 503, \"2\": 160, \"4\": 118, \"3\": 231, \"8\": 80, \"15\": 16, \"0\": 15, \"1\": 22, \"14\": 33, \"9\": 10, \"5\": 11, \"10\": 1}, \"3\": {\"3\": 624, \"7\": 246, \"2\": 311, \"4\": 7, \"9\": 1, \"8\": 3, \"15\": 1, \"1\": 3, \"0\": 1, \"14\": 1, \"5\": 2}, \"4\": {\"1\": 137, \"4\": 364, \"0\": 168, \"8\": 114, \"7\": 105, \"14\": 231, \"10\": 62, \"9\": 7, \"2\": 6, \"3\": 4, \"6\": 1, \"15\": 1}, \"9\": {\"6\": 157, \"9\": 375, \"8\": 141, \"5\": 102, \"13\": 56, \"15\": 272, \"10\": 42, \"7\": 17, \"2\": 18, \"4\": 4, \"0\": 14, \"14\": 2}, \"12\": {\"12\": 1195, \"11\": 5}, \"0\": {\"10\": 239, \"8\": 110, \"14\": 186, \"1\": 85, \"4\": 182, \"0\": 286, \"7\": 40, \"6\": 35, \"15\": 13, \"9\": 23, \"5\": 1}, \"10\": {\"10\": 390, \"0\": 243, \"4\": 80, \"9\": 46, \"8\": 146, \"14\": 107, \"1\": 51, \"6\": 117, \"15\": 11, \"7\": 9}, \"8\": {\"4\": 109, \"10\": 161, \"8\": 357, \"15\": 95, \"9\": 132, \"14\": 42, \"6\": 44, \"0\": 102, \"7\": 92, \"2\": 22, \"5\": 24, \"1\": 10, \"3\": 10}, \"13\": {\"13\": 836, \"15\": 67, \"5\": 226, \"3\": 3, \"9\": 31, \"8\": 1, \"6\": 7, \"2\": 29}, \"1\": {\"14\": 295, \"1\": 562, \"4\": 174, \"6\": 3, \"0\": 79, \"10\": 51, \"8\": 9, \"7\": 19, \"3\": 6, \"2\": 2}, \"15\": {\"9\": 289, \"15\": 344, \"13\": 68, \"8\": 119, \"5\": 227, \"0\": 16, \"2\": 51, \"7\": 24, \"6\": 37, \"3\": 1, \"4\": 6, \"10\": 17, \"14\": 1}}}, \"per_domain_accuracy\": {\"8\": {\"accuracy\": 0.6322916666666667, \"source?\": true}, \"50\": {\"accuracy\": 0.7272916666666667, \"source?\": true}, \"32\": {\"accuracy\": 0.7178645833333334, \"source?\": true}, \"20\": {\"accuracy\": 0.5197395833333334, \"source?\": false}, \"14\": {\"accuracy\": 0.7384375, \"source?\": false}, \"38\": {\"accuracy\": 0.6854166666666667, \"source?\": false}, \"44\": {\"accuracy\": 0.6811458333333333, \"source?\": false}, \"26\": {\"accuracy\": 0.4730729166666667, \"source?\": false}}}, \"history\": {\"epoch_indices\": [1, 2, 3, 4, 5, 6, 7, 8, 9, 10], \"train_label_loss\": [1.3807021514882172, 0.8818302340072299, 0.7500044852424236, 0.6603228553774811, 0.5745103653798265, 0.4979594777211074, 0.4305434246449953, 0.3725451157695895, 0.32358583628037385, 0.28307653666592186], \"source_val_label_loss\": [1.034377932548523, 0.8885474801063538, 0.868026614189148, 0.8624631762504578, 0.8514273166656494, 0.9077550768852234, 0.9129747152328491, 0.9739506244659424, 1.0178827047348022, 1.0549278259277344], \"target_val_label_loss\": [1.2506510019302368, 1.0861036777496338, 1.0712220668792725, 1.0682796239852905, 1.0530301332473755, 1.0933336019515991, 1.1011855602264404, 1.176256775856018, 1.2251633405685425, 1.2689646482467651], \"source_val_acc_label\": [0.6072395833333334, 0.6655208333333333, 0.6734895833333333, 0.6736805555555555, 0.6923784722222223, 0.6924826388888888, 0.6862152777777778, 0.6922048611111111, 0.6864236111111112, 0.6921354166666667], \"target_val_acc_label\": [0.5246145833333333, 0.59196875, 0.5951666666666666, 0.5979895833333333, 0.61615625, 0.6195625, 0.60859375, 0.612125, 0.6075833333333334, 0.6120104166666667]}, \"dataset_metrics\": {\"source\": {\"train\": {\"n_unique_x\": 336000, \"n_unique_y\": 16, \"n_batch/episode\": 12600}, \"val\": {\"n_unique_x\": 72000, \"n_unique_y\": 16, \"n_batch/episode\": 1800}, \"test\": {\"n_unique_x\": 72000, \"n_unique_y\": 16, \"n_batch/episode\": 1800}}, \"target\": {\"train\": {\"n_unique_x\": 560000, \"n_unique_y\": 16, \"n_batch/episode\": 21000}, \"val\": {\"n_unique_x\": 120000, \"n_unique_y\": 16, \"n_batch/episode\": 3000}, \"test\": {\"n_unique_x\": 120000, \"n_unique_y\": 16, \"n_batch/episode\": 3000}}}}'"
      ]
     },
     "execution_count": 20,
     "metadata": {},
     "output_type": "execute_result"
    }
   ],
   "source": [
    "json.dumps(experiment)"
   ]
  }
 ],
 "metadata": {
  "celltoolbar": "Tags",
  "kernelspec": {
   "display_name": "Python 3 (ipykernel)",
   "language": "python",
   "name": "python3"
  },
  "language_info": {
   "codemirror_mode": {
    "name": "ipython",
    "version": 3
   },
   "file_extension": ".py",
   "mimetype": "text/x-python",
   "name": "python",
   "nbconvert_exporter": "python",
   "pygments_lexer": "ipython3",
   "version": "3.8.10"
  },
  "papermill": {
   "default_parameters": {},
   "duration": 3818.352052,
   "end_time": "2022-03-22T11:44:48.704580",
   "environment_variables": {},
   "exception": null,
   "input_path": "/mnt/wd500GB/CSC500/csc500-main/csc500-notebooks/templates/ptn_template.ipynb",
   "output_path": "trial.ipynb",
   "parameters": {
    "parameters": {
     "BEST_MODEL_PATH": "./best_model.pth",
     "NUM_LOGS_PER_EPOCH": 10,
     "criteria_for_best": "target_accuracy",
     "dataset_seed": 500,
     "device": "cuda",
     "domains_source": [
      8,
      32,
      50
     ],
     "domains_target": [
      14,
      20,
      26,
      38,
      44
     ],
     "episode_transforms_source": [],
     "episode_transforms_target": [],
     "experiment_name": "tuned_1v2:oracle.run1",
     "labels_source": [
      "3123D52",
      "3123D65",
      "3123D79",
      "3123D80",
      "3123D54",
      "3123D70",
      "3123D7B",
      "3123D89",
      "3123D58",
      "3123D76",
      "3123D7D",
      "3123EFE",
      "3123D64",
      "3123D78",
      "3123D7E",
      "3124E4A"
     ],
     "labels_target": [
      "3123D52",
      "3123D65",
      "3123D79",
      "3123D80",
      "3123D54",
      "3123D70",
      "3123D7B",
      "3123D89",
      "3123D58",
      "3123D76",
      "3123D7D",
      "3123EFE",
      "3123D64",
      "3123D78",
      "3123D7E",
      "3124E4A"
     ],
     "lr": 0.0001,
     "n_epoch": 50,
     "n_query": 2,
     "n_shot": 3,
     "n_way": 16,
     "num_examples_per_domain_per_label_source": -1,
     "num_examples_per_domain_per_label_target": -1,
     "patience": 3,
     "pickle_name": "oracle.Run1_10kExamples_stratified_ds.2022A.pkl",
     "seed": 500,
     "test_k_factor": 2,
     "torch_default_dtype": "torch.float32",
     "train_k_factor": 3,
     "val_k_factor": 2,
     "x_net": [
      {
       "class": "nnReshape",
       "kargs": {
        "shape": [
         -1,
         1,
         2,
         256
        ]
       }
      },
      {
       "class": "Conv2d",
       "kargs": {
        "bias": false,
        "in_channels": 1,
        "kernel_size": [
         1,
         7
        ],
        "out_channels": 256,
        "padding": [
         0,
         3
        ]
       }
      },
      {
       "class": "ReLU",
       "kargs": {
        "inplace": true
       }
      },
      {
       "class": "BatchNorm2d",
       "kargs": {
        "num_features": 256
       }
      },
      {
       "class": "Conv2d",
       "kargs": {
        "bias": true,
        "in_channels": 256,
        "kernel_size": [
         2,
         7
        ],
        "out_channels": 80,
        "padding": [
         0,
         3
        ]
       }
      },
      {
       "class": "ReLU",
       "kargs": {
        "inplace": true
       }
      },
      {
       "class": "BatchNorm2d",
       "kargs": {
        "num_features": 80
       }
      },
      {
       "class": "Flatten",
       "kargs": {}
      },
      {
       "class": "Linear",
       "kargs": {
        "in_features": 20480,
        "out_features": 256
       }
      },
      {
       "class": "ReLU",
       "kargs": {
        "inplace": true
       }
      },
      {
       "class": "BatchNorm1d",
       "kargs": {
        "num_features": 256
       }
      },
      {
       "class": "Linear",
       "kargs": {
        "in_features": 256,
        "out_features": 256
       }
      }
     ],
     "x_transforms_source": [
      "unit_power"
     ],
     "x_transforms_target": [
      "unit_power"
     ]
    }
   },
   "start_time": "2022-03-22T10:41:10.352528",
   "version": "2.3.4"
  }
 },
 "nbformat": 4,
 "nbformat_minor": 5
}