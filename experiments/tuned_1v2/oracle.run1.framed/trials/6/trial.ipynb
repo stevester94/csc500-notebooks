{
 "cells": [
  {
   "cell_type": "markdown",
   "id": "9fea5f46",
   "metadata": {
    "papermill": {
     "duration": 0.020753,
     "end_time": "2022-03-25T21:55:46.917848",
     "exception": false,
     "start_time": "2022-03-25T21:55:46.897095",
     "status": "completed"
    },
    "tags": []
   },
   "source": [
    "# PTN Template\n",
    "This notebook serves as a template for single dataset PTN experiments  \n",
    "It can be run on its own by setting STANDALONE to True (do a find for \"STANDALONE\" to see where)  \n",
    "But it is intended to be executed as part of a *papermill.py script. See any of the   \n",
    "experimentes with a papermill script to get started with that workflow.  "
   ]
  },
  {
   "cell_type": "code",
   "execution_count": 1,
   "id": "0902182a",
   "metadata": {
    "execution": {
     "iopub.execute_input": "2022-03-25T21:55:46.965808Z",
     "iopub.status.busy": "2022-03-25T21:55:46.964970Z",
     "iopub.status.idle": "2022-03-25T21:55:48.822732Z",
     "shell.execute_reply": "2022-03-25T21:55:48.822286Z"
    },
    "papermill": {
     "duration": 1.890695,
     "end_time": "2022-03-25T21:55:48.822839",
     "exception": false,
     "start_time": "2022-03-25T21:55:46.932144",
     "status": "completed"
    },
    "tags": []
   },
   "outputs": [],
   "source": [
    "%load_ext autoreload\n",
    "%autoreload 2\n",
    "%matplotlib inline\n",
    "\n",
    "    \n",
    "import os, json, sys, time, random\n",
    "import numpy as np\n",
    "import torch\n",
    "from torch.optim import Adam\n",
    "from  easydict import EasyDict\n",
    "import matplotlib.pyplot as plt\n",
    "\n",
    "from steves_models.steves_ptn import Steves_Prototypical_Network\n",
    "\n",
    "from steves_utils.lazy_iterable_wrapper import Lazy_Iterable_Wrapper\n",
    "from steves_utils.iterable_aggregator import Iterable_Aggregator\n",
    "from steves_utils.ptn_train_eval_test_jig import  PTN_Train_Eval_Test_Jig\n",
    "from steves_utils.torch_sequential_builder import build_sequential\n",
    "from steves_utils.torch_utils import get_dataset_metrics, ptn_confusion_by_domain_over_dataloader\n",
    "from steves_utils.utils_v2 import (per_domain_accuracy_from_confusion, get_datasets_base_path)\n",
    "from steves_utils.PTN.utils import independent_accuracy_assesment\n",
    "\n",
    "from steves_utils.stratified_dataset.episodic_accessor import Episodic_Accessor_Factory\n",
    "\n",
    "from steves_utils.ptn_do_report import (\n",
    "    get_loss_curve,\n",
    "    get_results_table,\n",
    "    get_parameters_table,\n",
    "    get_domain_accuracies,\n",
    ")\n",
    "\n",
    "from steves_utils.transforms import get_chained_transform"
   ]
  },
  {
   "cell_type": "markdown",
   "id": "41c840b4",
   "metadata": {
    "papermill": {
     "duration": 0.013696,
     "end_time": "2022-03-25T21:55:48.850816",
     "exception": false,
     "start_time": "2022-03-25T21:55:48.837120",
     "status": "completed"
    },
    "tags": []
   },
   "source": [
    "# Required Parameters\n",
    "These are allowed parameters, not defaults\n",
    "Each of these values need to be present in the injected parameters (the notebook will raise an exception if they are not present)\n",
    "\n",
    "Papermill uses the cell tag \"parameters\" to inject the real parameters below this cell.\n",
    "Enable tags to see what I mean"
   ]
  },
  {
   "cell_type": "code",
   "execution_count": 2,
   "id": "fd44eb83",
   "metadata": {
    "execution": {
     "iopub.execute_input": "2022-03-25T21:55:48.883898Z",
     "iopub.status.busy": "2022-03-25T21:55:48.883497Z",
     "iopub.status.idle": "2022-03-25T21:55:48.905428Z",
     "shell.execute_reply": "2022-03-25T21:55:48.904631Z"
    },
    "papermill": {
     "duration": 0.04118,
     "end_time": "2022-03-25T21:55:48.905582",
     "exception": false,
     "start_time": "2022-03-25T21:55:48.864402",
     "status": "completed"
    },
    "tags": []
   },
   "outputs": [],
   "source": [
    "required_parameters = {\n",
    "    \"experiment_name\",\n",
    "    \"lr\",\n",
    "    \"device\",\n",
    "    \"seed\",\n",
    "    \"dataset_seed\",\n",
    "    \"labels_source\",\n",
    "    \"labels_target\",\n",
    "    \"domains_source\",\n",
    "    \"domains_target\",\n",
    "    \"num_examples_per_domain_per_label_source\",\n",
    "    \"num_examples_per_domain_per_label_target\",\n",
    "    \"n_shot\",\n",
    "    \"n_way\",\n",
    "    \"n_query\",\n",
    "    \"train_k_factor\",\n",
    "    \"val_k_factor\",\n",
    "    \"test_k_factor\",\n",
    "    \"n_epoch\",\n",
    "    \"patience\",\n",
    "    \"criteria_for_best\",\n",
    "    \"x_transforms_source\",\n",
    "    \"x_transforms_target\",\n",
    "    \"episode_transforms_source\",\n",
    "    \"episode_transforms_target\",\n",
    "    \"pickle_name\",\n",
    "    \"x_net\",\n",
    "    \"NUM_LOGS_PER_EPOCH\",\n",
    "    \"BEST_MODEL_PATH\",\n",
    "    \"torch_default_dtype\"\n",
    "}"
   ]
  },
  {
   "cell_type": "code",
   "execution_count": 3,
   "id": "fa3f0049",
   "metadata": {
    "execution": {
     "iopub.execute_input": "2022-03-25T21:55:48.951780Z",
     "iopub.status.busy": "2022-03-25T21:55:48.950843Z",
     "iopub.status.idle": "2022-03-25T21:55:48.969858Z",
     "shell.execute_reply": "2022-03-25T21:55:48.969056Z"
    },
    "papermill": {
     "duration": 0.044628,
     "end_time": "2022-03-25T21:55:48.970011",
     "exception": false,
     "start_time": "2022-03-25T21:55:48.925383",
     "status": "completed"
    },
    "tags": [
     "parameters"
    ]
   },
   "outputs": [],
   "source": [
    "\n",
    "\n",
    "standalone_parameters = {}\n",
    "standalone_parameters[\"experiment_name\"] = \"STANDALONE PTN\"\n",
    "standalone_parameters[\"lr\"] = 0.0001\n",
    "standalone_parameters[\"device\"] = \"cuda\"\n",
    "\n",
    "standalone_parameters[\"seed\"] = 1337\n",
    "standalone_parameters[\"dataset_seed\"] = 1337\n",
    "\n",
    "\n",
    "standalone_parameters[\"num_examples_per_domain_per_label_source\"]=100\n",
    "standalone_parameters[\"num_examples_per_domain_per_label_target\"]=100\n",
    "\n",
    "standalone_parameters[\"n_shot\"] = 3\n",
    "standalone_parameters[\"n_query\"]  = 2\n",
    "standalone_parameters[\"train_k_factor\"] = 1\n",
    "standalone_parameters[\"val_k_factor\"] = 2\n",
    "standalone_parameters[\"test_k_factor\"] = 2\n",
    "\n",
    "\n",
    "standalone_parameters[\"n_epoch\"] = 100\n",
    "\n",
    "standalone_parameters[\"patience\"] = 10\n",
    "standalone_parameters[\"criteria_for_best\"] = \"target_accuracy\"\n",
    "\n",
    "standalone_parameters[\"x_transforms_source\"] = [\"unit_power\"]\n",
    "standalone_parameters[\"x_transforms_target\"] = [\"unit_power\"]\n",
    "standalone_parameters[\"episode_transforms_source\"] = []\n",
    "standalone_parameters[\"episode_transforms_target\"] = []\n",
    "\n",
    "standalone_parameters[\"torch_default_dtype\"] = \"torch.float32\" \n",
    "\n",
    "\n",
    "\n",
    "standalone_parameters[\"x_net\"] =     [\n",
    "    {\"class\": \"nnReshape\", \"kargs\": {\"shape\":[-1, 1, 2, 256]}},\n",
    "    {\"class\": \"Conv2d\", \"kargs\": { \"in_channels\":1, \"out_channels\":256, \"kernel_size\":(1,7), \"bias\":False, \"padding\":(0,3), },},\n",
    "    {\"class\": \"ReLU\", \"kargs\": {\"inplace\": True}},\n",
    "    {\"class\": \"BatchNorm2d\", \"kargs\": {\"num_features\":256}},\n",
    "\n",
    "    {\"class\": \"Conv2d\", \"kargs\": { \"in_channels\":256, \"out_channels\":80, \"kernel_size\":(2,7), \"bias\":True, \"padding\":(0,3), },},\n",
    "    {\"class\": \"ReLU\", \"kargs\": {\"inplace\": True}},\n",
    "    {\"class\": \"BatchNorm2d\", \"kargs\": {\"num_features\":80}},\n",
    "    {\"class\": \"Flatten\", \"kargs\": {}},\n",
    "\n",
    "    {\"class\": \"Linear\", \"kargs\": {\"in_features\": 80*256, \"out_features\": 256}}, # 80 units per IQ pair\n",
    "    {\"class\": \"ReLU\", \"kargs\": {\"inplace\": True}},\n",
    "    {\"class\": \"BatchNorm1d\", \"kargs\": {\"num_features\":256}},\n",
    "\n",
    "    {\"class\": \"Linear\", \"kargs\": {\"in_features\": 256, \"out_features\": 256}},\n",
    "]\n",
    "\n",
    "# Parameters relevant to results\n",
    "# These parameters will basically never need to change\n",
    "standalone_parameters[\"NUM_LOGS_PER_EPOCH\"] = 10\n",
    "standalone_parameters[\"BEST_MODEL_PATH\"] = \"./best_model.pth\"\n",
    "\n",
    "# uncomment for CORES dataset\n",
    "from steves_utils.CORES.utils import (\n",
    "    ALL_NODES,\n",
    "    ALL_NODES_MINIMUM_1000_EXAMPLES,\n",
    "    ALL_DAYS\n",
    ")\n",
    "\n",
    "\n",
    "standalone_parameters[\"labels_source\"] = ALL_NODES\n",
    "standalone_parameters[\"labels_target\"] = ALL_NODES\n",
    "\n",
    "standalone_parameters[\"domains_source\"] = [1]\n",
    "standalone_parameters[\"domains_target\"] = [2,3,4,5]\n",
    "\n",
    "standalone_parameters[\"pickle_name\"] = \"cores.stratified_ds.2022A.pkl\"\n",
    "\n",
    "\n",
    "# Uncomment these for ORACLE dataset\n",
    "# from steves_utils.ORACLE.utils_v2 import (\n",
    "#     ALL_DISTANCES_FEET,\n",
    "#     ALL_RUNS,\n",
    "#     ALL_SERIAL_NUMBERS,\n",
    "# )\n",
    "# standalone_parameters[\"labels_source\"] = ALL_SERIAL_NUMBERS\n",
    "# standalone_parameters[\"labels_target\"] = ALL_SERIAL_NUMBERS\n",
    "# standalone_parameters[\"domains_source\"] = [8,20, 38,50]\n",
    "# standalone_parameters[\"domains_target\"] = [14, 26, 32, 44, 56]\n",
    "# standalone_parameters[\"pickle_name\"] = \"oracle.frame_indexed.stratified_ds.2022A.pkl\"\n",
    "# standalone_parameters[\"num_examples_per_domain_per_label_source\"]=1000\n",
    "# standalone_parameters[\"num_examples_per_domain_per_label_target\"]=1000\n",
    "\n",
    "# Uncomment these for Metahan dataset\n",
    "# standalone_parameters[\"labels_source\"] = list(range(19))\n",
    "# standalone_parameters[\"labels_target\"] = list(range(19))\n",
    "# standalone_parameters[\"domains_source\"] = [0]\n",
    "# standalone_parameters[\"domains_target\"] = [1]\n",
    "# standalone_parameters[\"pickle_name\"] = \"metehan.stratified_ds.2022A.pkl\"\n",
    "# standalone_parameters[\"n_way\"]  = len(standalone_parameters[\"labels_source\"])\n",
    "# standalone_parameters[\"num_examples_per_domain_per_label_source\"]=200\n",
    "# standalone_parameters[\"num_examples_per_domain_per_label_target\"]=100\n",
    "\n",
    "\n",
    "standalone_parameters[\"n_way\"]  = len(standalone_parameters[\"labels_source\"])"
   ]
  },
  {
   "cell_type": "code",
   "execution_count": 4,
   "id": "27eafcdb",
   "metadata": {
    "execution": {
     "iopub.execute_input": "2022-03-25T21:55:49.016030Z",
     "iopub.status.busy": "2022-03-25T21:55:49.015107Z",
     "iopub.status.idle": "2022-03-25T21:55:49.032899Z",
     "shell.execute_reply": "2022-03-25T21:55:49.032097Z"
    },
    "papermill": {
     "duration": 0.0436,
     "end_time": "2022-03-25T21:55:49.033055",
     "exception": false,
     "start_time": "2022-03-25T21:55:48.989455",
     "status": "completed"
    },
    "tags": [
     "injected-parameters"
    ]
   },
   "outputs": [],
   "source": [
    "# Parameters\n",
    "parameters = {\n",
    "    \"experiment_name\": \"tuned_1v2:oracle.run1.framed\",\n",
    "    \"device\": \"cuda\",\n",
    "    \"lr\": 0.0001,\n",
    "    \"labels_source\": [\n",
    "        \"3123D52\",\n",
    "        \"3123D65\",\n",
    "        \"3123D79\",\n",
    "        \"3123D80\",\n",
    "        \"3123D54\",\n",
    "        \"3123D70\",\n",
    "        \"3123D7B\",\n",
    "        \"3123D89\",\n",
    "        \"3123D58\",\n",
    "        \"3123D76\",\n",
    "        \"3123D7D\",\n",
    "        \"3123EFE\",\n",
    "        \"3123D64\",\n",
    "        \"3123D78\",\n",
    "        \"3123D7E\",\n",
    "        \"3124E4A\",\n",
    "    ],\n",
    "    \"labels_target\": [\n",
    "        \"3123D52\",\n",
    "        \"3123D65\",\n",
    "        \"3123D79\",\n",
    "        \"3123D80\",\n",
    "        \"3123D54\",\n",
    "        \"3123D70\",\n",
    "        \"3123D7B\",\n",
    "        \"3123D89\",\n",
    "        \"3123D58\",\n",
    "        \"3123D76\",\n",
    "        \"3123D7D\",\n",
    "        \"3123EFE\",\n",
    "        \"3123D64\",\n",
    "        \"3123D78\",\n",
    "        \"3123D7E\",\n",
    "        \"3124E4A\",\n",
    "    ],\n",
    "    \"episode_transforms_source\": [],\n",
    "    \"episode_transforms_target\": [],\n",
    "    \"domains_source\": [8, 32, 50],\n",
    "    \"domains_target\": [14, 20, 26, 38, 44],\n",
    "    \"num_examples_per_domain_per_label_source\": -1,\n",
    "    \"num_examples_per_domain_per_label_target\": -1,\n",
    "    \"n_shot\": 3,\n",
    "    \"n_way\": 16,\n",
    "    \"n_query\": 2,\n",
    "    \"train_k_factor\": 3,\n",
    "    \"val_k_factor\": 2,\n",
    "    \"test_k_factor\": 2,\n",
    "    \"torch_default_dtype\": \"torch.float32\",\n",
    "    \"n_epoch\": 50,\n",
    "    \"patience\": 3,\n",
    "    \"criteria_for_best\": \"target_accuracy\",\n",
    "    \"x_net\": [\n",
    "        {\"class\": \"nnReshape\", \"kargs\": {\"shape\": [-1, 1, 2, 256]}},\n",
    "        {\n",
    "            \"class\": \"Conv2d\",\n",
    "            \"kargs\": {\n",
    "                \"in_channels\": 1,\n",
    "                \"out_channels\": 256,\n",
    "                \"kernel_size\": [1, 7],\n",
    "                \"bias\": False,\n",
    "                \"padding\": [0, 3],\n",
    "            },\n",
    "        },\n",
    "        {\"class\": \"ReLU\", \"kargs\": {\"inplace\": True}},\n",
    "        {\"class\": \"BatchNorm2d\", \"kargs\": {\"num_features\": 256}},\n",
    "        {\n",
    "            \"class\": \"Conv2d\",\n",
    "            \"kargs\": {\n",
    "                \"in_channels\": 256,\n",
    "                \"out_channels\": 80,\n",
    "                \"kernel_size\": [2, 7],\n",
    "                \"bias\": True,\n",
    "                \"padding\": [0, 3],\n",
    "            },\n",
    "        },\n",
    "        {\"class\": \"ReLU\", \"kargs\": {\"inplace\": True}},\n",
    "        {\"class\": \"BatchNorm2d\", \"kargs\": {\"num_features\": 80}},\n",
    "        {\"class\": \"Flatten\", \"kargs\": {}},\n",
    "        {\"class\": \"Linear\", \"kargs\": {\"in_features\": 20480, \"out_features\": 256}},\n",
    "        {\"class\": \"ReLU\", \"kargs\": {\"inplace\": True}},\n",
    "        {\"class\": \"BatchNorm1d\", \"kargs\": {\"num_features\": 256}},\n",
    "        {\"class\": \"Linear\", \"kargs\": {\"in_features\": 256, \"out_features\": 256}},\n",
    "    ],\n",
    "    \"NUM_LOGS_PER_EPOCH\": 10,\n",
    "    \"BEST_MODEL_PATH\": \"./best_model.pth\",\n",
    "    \"pickle_name\": \"oracle.Run1_framed_2000Examples_stratified_ds.2022A.pkl\",\n",
    "    \"x_transforms_source\": [],\n",
    "    \"x_transforms_target\": [],\n",
    "    \"dataset_seed\": 420,\n",
    "    \"seed\": 420,\n",
    "}\n"
   ]
  },
  {
   "cell_type": "code",
   "execution_count": 5,
   "id": "8fa1cc33",
   "metadata": {
    "execution": {
     "iopub.execute_input": "2022-03-25T21:55:49.071204Z",
     "iopub.status.busy": "2022-03-25T21:55:49.070832Z",
     "iopub.status.idle": "2022-03-25T21:55:49.091748Z",
     "shell.execute_reply": "2022-03-25T21:55:49.090954Z"
    },
    "papermill": {
     "duration": 0.04129,
     "end_time": "2022-03-25T21:55:49.091902",
     "exception": false,
     "start_time": "2022-03-25T21:55:49.050612",
     "status": "completed"
    },
    "tags": []
   },
   "outputs": [],
   "source": [
    "# Set this to True if you want to run this template directly\n",
    "STANDALONE = False\n",
    "if STANDALONE:\n",
    "    print(\"parameters not injected, running with standalone_parameters\")\n",
    "    parameters = standalone_parameters\n",
    "\n",
    "if not 'parameters' in locals() and not 'parameters' in globals():\n",
    "    raise Exception(\"Parameter injection failed\")\n",
    "\n",
    "#Use an easy dict for all the parameters\n",
    "p = EasyDict(parameters)\n",
    "\n",
    "supplied_keys = set(p.keys())\n",
    "\n",
    "if  supplied_keys != required_parameters:\n",
    "    print(\"Parameters are incorrect\")\n",
    "    if len(supplied_keys - required_parameters)>0: print(\"Shouldn't have:\", str(supplied_keys - required_parameters))\n",
    "    if len(required_parameters - supplied_keys)>0: print(\"Need to have:\", str(required_parameters - supplied_keys))\n",
    "    raise RuntimeError(\"Parameters are incorrect\")\n",
    "\n"
   ]
  },
  {
   "cell_type": "code",
   "execution_count": 6,
   "id": "3a028d58",
   "metadata": {
    "execution": {
     "iopub.execute_input": "2022-03-25T21:55:49.133319Z",
     "iopub.status.busy": "2022-03-25T21:55:49.132770Z",
     "iopub.status.idle": "2022-03-25T21:55:49.154304Z",
     "shell.execute_reply": "2022-03-25T21:55:49.153504Z"
    },
    "papermill": {
     "duration": 0.040026,
     "end_time": "2022-03-25T21:55:49.154457",
     "exception": false,
     "start_time": "2022-03-25T21:55:49.114431",
     "status": "completed"
    },
    "tags": []
   },
   "outputs": [],
   "source": [
    "###################################\n",
    "# Set the RNGs and make it all deterministic\n",
    "###################################\n",
    "np.random.seed(p.seed)\n",
    "random.seed(p.seed)\n",
    "torch.manual_seed(p.seed)\n",
    "\n",
    "torch.use_deterministic_algorithms(True) "
   ]
  },
  {
   "cell_type": "code",
   "execution_count": 7,
   "id": "b691acf6",
   "metadata": {
    "execution": {
     "iopub.execute_input": "2022-03-25T21:55:49.193436Z",
     "iopub.status.busy": "2022-03-25T21:55:49.192801Z",
     "iopub.status.idle": "2022-03-25T21:55:49.216681Z",
     "shell.execute_reply": "2022-03-25T21:55:49.215966Z"
    },
    "papermill": {
     "duration": 0.04301,
     "end_time": "2022-03-25T21:55:49.216842",
     "exception": false,
     "start_time": "2022-03-25T21:55:49.173832",
     "status": "completed"
    },
    "tags": []
   },
   "outputs": [],
   "source": [
    "###########################################\n",
    "# The stratified datasets honor this\n",
    "###########################################\n",
    "torch.set_default_dtype(eval(p.torch_default_dtype))"
   ]
  },
  {
   "cell_type": "code",
   "execution_count": 8,
   "id": "b5fba671",
   "metadata": {
    "execution": {
     "iopub.execute_input": "2022-03-25T21:55:49.257595Z",
     "iopub.status.busy": "2022-03-25T21:55:49.257231Z",
     "iopub.status.idle": "2022-03-25T21:55:49.317067Z",
     "shell.execute_reply": "2022-03-25T21:55:49.316334Z"
    },
    "papermill": {
     "duration": 0.077516,
     "end_time": "2022-03-25T21:55:49.317220",
     "exception": false,
     "start_time": "2022-03-25T21:55:49.239704",
     "status": "completed"
    },
    "tags": []
   },
   "outputs": [],
   "source": [
    "###################################\n",
    "# Build the network(s)\n",
    "# Note: It's critical to do this AFTER setting the RNG\n",
    "# (This is due to the randomized initial weights)\n",
    "###################################\n",
    "x_net = build_sequential(p.x_net)"
   ]
  },
  {
   "cell_type": "code",
   "execution_count": 9,
   "id": "5d7e61cc",
   "metadata": {
    "execution": {
     "iopub.execute_input": "2022-03-25T21:55:49.353433Z",
     "iopub.status.busy": "2022-03-25T21:55:49.353077Z",
     "iopub.status.idle": "2022-03-25T21:55:49.378808Z",
     "shell.execute_reply": "2022-03-25T21:55:49.378117Z"
    },
    "papermill": {
     "duration": 0.04379,
     "end_time": "2022-03-25T21:55:49.378957",
     "exception": false,
     "start_time": "2022-03-25T21:55:49.335167",
     "status": "completed"
    },
    "tags": []
   },
   "outputs": [],
   "source": [
    "start_time_secs = time.time()"
   ]
  },
  {
   "cell_type": "code",
   "execution_count": 10,
   "id": "fd5442bc",
   "metadata": {
    "execution": {
     "iopub.execute_input": "2022-03-25T21:55:49.426096Z",
     "iopub.status.busy": "2022-03-25T21:55:49.425240Z",
     "iopub.status.idle": "2022-03-25T21:55:52.063070Z",
     "shell.execute_reply": "2022-03-25T21:55:52.062342Z"
    },
    "papermill": {
     "duration": 2.664868,
     "end_time": "2022-03-25T21:55:52.063256",
     "exception": false,
     "start_time": "2022-03-25T21:55:49.398388",
     "status": "completed"
    },
    "tags": []
   },
   "outputs": [],
   "source": [
    "###################################\n",
    "# Build the dataset\n",
    "###################################\n",
    "\n",
    "if p.x_transforms_source == []: x_transform_source = None\n",
    "else: x_transform_source = get_chained_transform(p.x_transforms_source) \n",
    "\n",
    "if p.x_transforms_target == []: x_transform_target = None\n",
    "else: x_transform_target = get_chained_transform(p.x_transforms_target)\n",
    "\n",
    "if p.episode_transforms_source == []: episode_transform_source = None\n",
    "else: raise Exception(\"episode_transform_source not implemented\")\n",
    "\n",
    "if p.episode_transforms_target == []: episode_transform_target = None\n",
    "else: raise Exception(\"episode_transform_target not implemented\")\n",
    "\n",
    "\n",
    "eaf_source = Episodic_Accessor_Factory(\n",
    "    labels=p.labels_source,\n",
    "    domains=p.domains_source,\n",
    "    num_examples_per_domain_per_label=p.num_examples_per_domain_per_label_source,\n",
    "    iterator_seed=p.seed,\n",
    "    dataset_seed=p.dataset_seed,\n",
    "    n_shot=p.n_shot,\n",
    "    n_way=p.n_way,\n",
    "    n_query=p.n_query,\n",
    "    train_val_test_k_factors=(p.train_k_factor,p.val_k_factor,p.test_k_factor),\n",
    "    pickle_path=os.path.join(get_datasets_base_path(), p.pickle_name),\n",
    "    x_transform_func=x_transform_source,\n",
    "    example_transform_func=episode_transform_source,\n",
    "    \n",
    ")\n",
    "train_original_source, val_original_source, test_original_source = eaf_source.get_train(), eaf_source.get_val(), eaf_source.get_test()\n",
    "\n",
    "\n",
    "eaf_target = Episodic_Accessor_Factory(\n",
    "    labels=p.labels_target,\n",
    "    domains=p.domains_target,\n",
    "    num_examples_per_domain_per_label=p.num_examples_per_domain_per_label_target,\n",
    "    iterator_seed=p.seed,\n",
    "    dataset_seed=p.dataset_seed,\n",
    "    n_shot=p.n_shot,\n",
    "    n_way=p.n_way,\n",
    "    n_query=p.n_query,\n",
    "    train_val_test_k_factors=(p.train_k_factor,p.val_k_factor,p.test_k_factor),\n",
    "    pickle_path=os.path.join(get_datasets_base_path(), p.pickle_name),\n",
    "    x_transform_func=x_transform_target,\n",
    "    example_transform_func=episode_transform_target,\n",
    ")\n",
    "train_original_target, val_original_target, test_original_target = eaf_target.get_train(), eaf_target.get_val(), eaf_target.get_test()\n",
    "\n",
    "\n",
    "transform_lambda = lambda ex: ex[1] # Original is (<domain>, <episode>) so we strip down to episode only\n",
    "\n",
    "train_processed_source = Lazy_Iterable_Wrapper(train_original_source, transform_lambda)\n",
    "val_processed_source   = Lazy_Iterable_Wrapper(val_original_source, transform_lambda)\n",
    "test_processed_source  = Lazy_Iterable_Wrapper(test_original_source, transform_lambda)\n",
    "\n",
    "train_processed_target = Lazy_Iterable_Wrapper(train_original_target, transform_lambda)\n",
    "val_processed_target   = Lazy_Iterable_Wrapper(val_original_target, transform_lambda)\n",
    "test_processed_target  = Lazy_Iterable_Wrapper(test_original_target, transform_lambda)\n",
    "\n",
    "datasets = EasyDict({\n",
    "    \"source\": {\n",
    "        \"original\": {\"train\":train_original_source, \"val\":val_original_source, \"test\":test_original_source},\n",
    "        \"processed\": {\"train\":train_processed_source, \"val\":val_processed_source, \"test\":test_processed_source}\n",
    "    },\n",
    "    \"target\": {\n",
    "        \"original\": {\"train\":train_original_target, \"val\":val_original_target, \"test\":test_original_target},\n",
    "        \"processed\": {\"train\":train_processed_target, \"val\":val_processed_target, \"test\":test_processed_target}\n",
    "    },\n",
    "})"
   ]
  },
  {
   "cell_type": "code",
   "execution_count": 11,
   "id": "296189d9",
   "metadata": {
    "execution": {
     "iopub.execute_input": "2022-03-25T21:55:52.104432Z",
     "iopub.status.busy": "2022-03-25T21:55:52.103873Z",
     "iopub.status.idle": "2022-03-25T21:55:57.939557Z",
     "shell.execute_reply": "2022-03-25T21:55:57.938350Z"
    },
    "papermill": {
     "duration": 5.856478,
     "end_time": "2022-03-25T21:55:57.939789",
     "exception": false,
     "start_time": "2022-03-25T21:55:52.083311",
     "status": "completed"
    },
    "tags": []
   },
   "outputs": [
    {
     "name": "stdout",
     "output_type": "stream",
     "text": [
      "Visually inspect these to see if they line up with expected values given the transforms\n",
      "x_transforms_source []\n",
      "x_transforms_target []\n",
      "Average magnitude, source: 0.0052444404\n",
      "Average power, source: 2.9325853e-05\n"
     ]
    },
    {
     "name": "stdout",
     "output_type": "stream",
     "text": [
      "Average magnitude, target: 0.005586543\n",
      "Average power, target: 3.3172648e-05\n"
     ]
    }
   ],
   "source": [
    "# Some quick unit tests on the data\n",
    "from steves_utils.transforms import get_average_power, get_average_magnitude\n",
    "\n",
    "q_x, q_y, s_x, s_y, truth = next(iter(train_processed_source))\n",
    "\n",
    "assert q_x.dtype == eval(p.torch_default_dtype)\n",
    "assert s_x.dtype == eval(p.torch_default_dtype)\n",
    "\n",
    "print(\"Visually inspect these to see if they line up with expected values given the transforms\")\n",
    "print('x_transforms_source', p.x_transforms_source)\n",
    "print('x_transforms_target', p.x_transforms_target)\n",
    "print(\"Average magnitude, source:\", get_average_magnitude(q_x[0].numpy()))\n",
    "print(\"Average power, source:\", get_average_power(q_x[0].numpy()))\n",
    "\n",
    "q_x, q_y, s_x, s_y, truth = next(iter(train_processed_target))\n",
    "print(\"Average magnitude, target:\", get_average_magnitude(q_x[0].numpy()))\n",
    "print(\"Average power, target:\", get_average_power(q_x[0].numpy()))\n"
   ]
  },
  {
   "cell_type": "code",
   "execution_count": 12,
   "id": "bbdacba1",
   "metadata": {
    "execution": {
     "iopub.execute_input": "2022-03-25T21:55:57.999949Z",
     "iopub.status.busy": "2022-03-25T21:55:57.999488Z",
     "iopub.status.idle": "2022-03-25T21:55:58.187326Z",
     "shell.execute_reply": "2022-03-25T21:55:58.187634Z"
    },
    "papermill": {
     "duration": 0.206836,
     "end_time": "2022-03-25T21:55:58.187743",
     "exception": false,
     "start_time": "2022-03-25T21:55:57.980907",
     "status": "completed"
    },
    "tags": []
   },
   "outputs": [
    {
     "name": "stdout",
     "output_type": "stream",
     "text": [
      "(2, 256)\n"
     ]
    }
   ],
   "source": [
    "###################################\n",
    "# Build the model\n",
    "###################################\n",
    "model = Steves_Prototypical_Network(x_net, device=p.device, x_shape=(2,256))\n",
    "optimizer = Adam(params=model.parameters(), lr=p.lr)"
   ]
  },
  {
   "cell_type": "code",
   "execution_count": 13,
   "id": "22b39ac5",
   "metadata": {
    "execution": {
     "iopub.execute_input": "2022-03-25T21:55:58.256636Z",
     "iopub.status.busy": "2022-03-25T21:55:58.256267Z",
     "iopub.status.idle": "2022-03-25T22:25:19.951107Z",
     "shell.execute_reply": "2022-03-25T22:25:19.950761Z"
    },
    "papermill": {
     "duration": 1761.715501,
     "end_time": "2022-03-25T22:25:19.951196",
     "exception": false,
     "start_time": "2022-03-25T21:55:58.235695",
     "status": "completed"
    },
    "tags": []
   },
   "outputs": [
    {
     "name": "stdout",
     "output_type": "stream",
     "text": [
      "epoch: 1, [batch: 1 / 2520], examples_per_second: 82.2646, train_label_loss: 2.6973, \n"
     ]
    },
    {
     "name": "stdout",
     "output_type": "stream",
     "text": [
      "epoch: 1, [batch: 252 / 2520], examples_per_second: 4209.5839, train_label_loss: 1.0425, \n"
     ]
    },
    {
     "name": "stdout",
     "output_type": "stream",
     "text": [
      "epoch: 1, [batch: 504 / 2520], examples_per_second: 4214.4754, train_label_loss: 0.5143, \n"
     ]
    },
    {
     "name": "stdout",
     "output_type": "stream",
     "text": [
      "epoch: 1, [batch: 756 / 2520], examples_per_second: 4899.2374, train_label_loss: 0.4547, \n"
     ]
    },
    {
     "name": "stdout",
     "output_type": "stream",
     "text": [
      "epoch: 1, [batch: 1008 / 2520], examples_per_second: 3825.6636, train_label_loss: 0.3675, \n"
     ]
    },
    {
     "name": "stdout",
     "output_type": "stream",
     "text": [
      "epoch: 1, [batch: 1260 / 2520], examples_per_second: 4052.4773, train_label_loss: 0.6807, \n"
     ]
    },
    {
     "name": "stdout",
     "output_type": "stream",
     "text": [
      "epoch: 1, [batch: 1512 / 2520], examples_per_second: 1824.4873, train_label_loss: 0.5264, \n"
     ]
    },
    {
     "name": "stdout",
     "output_type": "stream",
     "text": [
      "epoch: 1, [batch: 1764 / 2520], examples_per_second: 1679.7214, train_label_loss: 0.3407, \n"
     ]
    },
    {
     "name": "stdout",
     "output_type": "stream",
     "text": [
      "epoch: 1, [batch: 2016 / 2520], examples_per_second: 1866.9623, train_label_loss: 0.6598, \n"
     ]
    },
    {
     "name": "stdout",
     "output_type": "stream",
     "text": [
      "epoch: 1, [batch: 2268 / 2520], examples_per_second: 2228.0129, train_label_loss: 0.2411, \n"
     ]
    },
    {
     "name": "stdout",
     "output_type": "stream",
     "text": [
      "=============================================================\n",
      "epoch: 1, source_val_acc_label: 0.7247, target_val_acc_label: 0.5248, source_val_label_loss: 91.4108, target_val_label_loss: 100.1505, \n",
      "=============================================================\n"
     ]
    },
    {
     "name": "stdout",
     "output_type": "stream",
     "text": [
      "New best\n"
     ]
    },
    {
     "name": "stdout",
     "output_type": "stream",
     "text": [
      "epoch: 2, [batch: 1 / 2520], examples_per_second: 3.2294, train_label_loss: 724.1038, \n"
     ]
    },
    {
     "name": "stdout",
     "output_type": "stream",
     "text": [
      "epoch: 2, [batch: 252 / 2520], examples_per_second: 1915.5041, train_label_loss: 0.1081, \n"
     ]
    },
    {
     "name": "stdout",
     "output_type": "stream",
     "text": [
      "epoch: 2, [batch: 504 / 2520], examples_per_second: 2326.6573, train_label_loss: 1.9740, \n"
     ]
    },
    {
     "name": "stdout",
     "output_type": "stream",
     "text": [
      "epoch: 2, [batch: 756 / 2520], examples_per_second: 1894.2467, train_label_loss: 0.2267, \n"
     ]
    },
    {
     "name": "stdout",
     "output_type": "stream",
     "text": [
      "epoch: 2, [batch: 1008 / 2520], examples_per_second: 1692.1251, train_label_loss: 0.1656, \n"
     ]
    },
    {
     "name": "stdout",
     "output_type": "stream",
     "text": [
      "epoch: 2, [batch: 1260 / 2520], examples_per_second: 2065.3892, train_label_loss: 0.2264, \n"
     ]
    },
    {
     "name": "stdout",
     "output_type": "stream",
     "text": [
      "epoch: 2, [batch: 1512 / 2520], examples_per_second: 1841.2628, train_label_loss: 0.1990, \n"
     ]
    },
    {
     "name": "stdout",
     "output_type": "stream",
     "text": [
      "epoch: 2, [batch: 1764 / 2520], examples_per_second: 1695.1739, train_label_loss: 0.7536, \n"
     ]
    },
    {
     "name": "stdout",
     "output_type": "stream",
     "text": [
      "epoch: 2, [batch: 2016 / 2520], examples_per_second: 1753.9068, train_label_loss: 0.2079, \n"
     ]
    },
    {
     "name": "stdout",
     "output_type": "stream",
     "text": [
      "epoch: 2, [batch: 2268 / 2520], examples_per_second: 2533.5103, train_label_loss: 1.0600, \n"
     ]
    },
    {
     "name": "stdout",
     "output_type": "stream",
     "text": [
      "=============================================================\n",
      "epoch: 2, source_val_acc_label: 0.9091, target_val_acc_label: 0.7669, source_val_label_loss: 0.3714, target_val_label_loss: 1.6793, \n",
      "=============================================================\n"
     ]
    },
    {
     "name": "stdout",
     "output_type": "stream",
     "text": [
      "New best\n"
     ]
    },
    {
     "name": "stdout",
     "output_type": "stream",
     "text": [
      "epoch: 3, [batch: 1 / 2520], examples_per_second: 5.8502, train_label_loss: 0.3730, \n"
     ]
    },
    {
     "name": "stdout",
     "output_type": "stream",
     "text": [
      "epoch: 3, [batch: 252 / 2520], examples_per_second: 4170.7092, train_label_loss: 1.1886, \n"
     ]
    },
    {
     "name": "stdout",
     "output_type": "stream",
     "text": [
      "epoch: 3, [batch: 504 / 2520], examples_per_second: 4482.9048, train_label_loss: 0.3709, \n"
     ]
    },
    {
     "name": "stdout",
     "output_type": "stream",
     "text": [
      "epoch: 3, [batch: 756 / 2520], examples_per_second: 4384.4779, train_label_loss: 0.2295, \n"
     ]
    },
    {
     "name": "stdout",
     "output_type": "stream",
     "text": [
      "epoch: 3, [batch: 1008 / 2520], examples_per_second: 4483.8599, train_label_loss: 0.1286, \n"
     ]
    },
    {
     "name": "stdout",
     "output_type": "stream",
     "text": [
      "epoch: 3, [batch: 1260 / 2520], examples_per_second: 4438.4253, train_label_loss: 0.1661, \n"
     ]
    },
    {
     "name": "stdout",
     "output_type": "stream",
     "text": [
      "epoch: 3, [batch: 1512 / 2520], examples_per_second: 4010.9236, train_label_loss: 0.0868, \n"
     ]
    },
    {
     "name": "stdout",
     "output_type": "stream",
     "text": [
      "epoch: 3, [batch: 1764 / 2520], examples_per_second: 4282.8309, train_label_loss: 0.1580, \n"
     ]
    },
    {
     "name": "stdout",
     "output_type": "stream",
     "text": [
      "epoch: 3, [batch: 2016 / 2520], examples_per_second: 4237.3777, train_label_loss: 0.3100, \n"
     ]
    },
    {
     "name": "stdout",
     "output_type": "stream",
     "text": [
      "epoch: 3, [batch: 2268 / 2520], examples_per_second: 4238.0229, train_label_loss: 0.1415, \n"
     ]
    },
    {
     "name": "stdout",
     "output_type": "stream",
     "text": [
      "=============================================================\n",
      "epoch: 3, source_val_acc_label: 0.9476, target_val_acc_label: 0.8232, source_val_label_loss: 0.1592, target_val_label_loss: 1.3249, \n",
      "=============================================================\n"
     ]
    },
    {
     "name": "stdout",
     "output_type": "stream",
     "text": [
      "New best\n"
     ]
    },
    {
     "name": "stdout",
     "output_type": "stream",
     "text": [
      "epoch: 4, [batch: 1 / 2520], examples_per_second: 10.6649, train_label_loss: 0.3249, \n"
     ]
    },
    {
     "name": "stdout",
     "output_type": "stream",
     "text": [
      "epoch: 4, [batch: 252 / 2520], examples_per_second: 4171.8101, train_label_loss: 0.1120, \n"
     ]
    },
    {
     "name": "stdout",
     "output_type": "stream",
     "text": [
      "epoch: 4, [batch: 504 / 2520], examples_per_second: 2276.1606, train_label_loss: 0.1469, \n"
     ]
    },
    {
     "name": "stdout",
     "output_type": "stream",
     "text": [
      "epoch: 4, [batch: 756 / 2520], examples_per_second: 2239.2479, train_label_loss: 0.1088, \n"
     ]
    },
    {
     "name": "stdout",
     "output_type": "stream",
     "text": [
      "epoch: 4, [batch: 1008 / 2520], examples_per_second: 2489.4732, train_label_loss: 0.1359, \n"
     ]
    },
    {
     "name": "stdout",
     "output_type": "stream",
     "text": [
      "epoch: 4, [batch: 1260 / 2520], examples_per_second: 3142.4253, train_label_loss: 0.0462, \n"
     ]
    },
    {
     "name": "stdout",
     "output_type": "stream",
     "text": [
      "epoch: 4, [batch: 1512 / 2520], examples_per_second: 2219.8862, train_label_loss: 0.0725, \n"
     ]
    },
    {
     "name": "stdout",
     "output_type": "stream",
     "text": [
      "epoch: 4, [batch: 1764 / 2520], examples_per_second: 2055.0610, train_label_loss: 0.0773, \n"
     ]
    },
    {
     "name": "stdout",
     "output_type": "stream",
     "text": [
      "epoch: 4, [batch: 2016 / 2520], examples_per_second: 1843.7102, train_label_loss: 0.1134, \n"
     ]
    },
    {
     "name": "stdout",
     "output_type": "stream",
     "text": [
      "epoch: 4, [batch: 2268 / 2520], examples_per_second: 1988.8081, train_label_loss: 0.0899, \n"
     ]
    },
    {
     "name": "stdout",
     "output_type": "stream",
     "text": [
      "=============================================================\n",
      "epoch: 4, source_val_acc_label: 0.9508, target_val_acc_label: 0.8316, source_val_label_loss: 0.1425, target_val_label_loss: 1.3392, \n",
      "=============================================================\n"
     ]
    },
    {
     "name": "stdout",
     "output_type": "stream",
     "text": [
      "New best\n"
     ]
    },
    {
     "name": "stdout",
     "output_type": "stream",
     "text": [
      "epoch: 5, [batch: 1 / 2520], examples_per_second: 3.1322, train_label_loss: 0.1111, \n"
     ]
    },
    {
     "name": "stdout",
     "output_type": "stream",
     "text": [
      "epoch: 5, [batch: 252 / 2520], examples_per_second: 1863.8484, train_label_loss: 0.1634, \n"
     ]
    },
    {
     "name": "stdout",
     "output_type": "stream",
     "text": [
      "epoch: 5, [batch: 504 / 2520], examples_per_second: 2072.5479, train_label_loss: 0.1636, \n"
     ]
    },
    {
     "name": "stdout",
     "output_type": "stream",
     "text": [
      "epoch: 5, [batch: 756 / 2520], examples_per_second: 1695.6146, train_label_loss: 0.1481, \n"
     ]
    },
    {
     "name": "stdout",
     "output_type": "stream",
     "text": [
      "epoch: 5, [batch: 1008 / 2520], examples_per_second: 1819.7851, train_label_loss: 0.2028, \n"
     ]
    },
    {
     "name": "stdout",
     "output_type": "stream",
     "text": [
      "epoch: 5, [batch: 1260 / 2520], examples_per_second: 2422.0858, train_label_loss: 0.1420, \n"
     ]
    },
    {
     "name": "stdout",
     "output_type": "stream",
     "text": [
      "epoch: 5, [batch: 1512 / 2520], examples_per_second: 2656.6709, train_label_loss: 0.1656, \n"
     ]
    },
    {
     "name": "stdout",
     "output_type": "stream",
     "text": [
      "epoch: 5, [batch: 1764 / 2520], examples_per_second: 3198.2665, train_label_loss: 0.1583, \n"
     ]
    },
    {
     "name": "stdout",
     "output_type": "stream",
     "text": [
      "epoch: 5, [batch: 2016 / 2520], examples_per_second: 3234.6644, train_label_loss: 0.2815, \n"
     ]
    },
    {
     "name": "stdout",
     "output_type": "stream",
     "text": [
      "epoch: 5, [batch: 2268 / 2520], examples_per_second: 3632.5130, train_label_loss: 0.2957, \n"
     ]
    },
    {
     "name": "stdout",
     "output_type": "stream",
     "text": [
      "=============================================================\n",
      "epoch: 5, source_val_acc_label: 0.9508, target_val_acc_label: 0.8476, source_val_label_loss: 0.1429, target_val_label_loss: 1.4214, \n",
      "=============================================================\n"
     ]
    },
    {
     "name": "stdout",
     "output_type": "stream",
     "text": [
      "New best\n"
     ]
    },
    {
     "name": "stdout",
     "output_type": "stream",
     "text": [
      "epoch: 6, [batch: 1 / 2520], examples_per_second: 8.4952, train_label_loss: 0.1859, \n"
     ]
    },
    {
     "name": "stdout",
     "output_type": "stream",
     "text": [
      "epoch: 6, [batch: 252 / 2520], examples_per_second: 3878.4570, train_label_loss: 0.0847, \n"
     ]
    },
    {
     "name": "stdout",
     "output_type": "stream",
     "text": [
      "epoch: 6, [batch: 504 / 2520], examples_per_second: 3802.7794, train_label_loss: 0.0460, \n"
     ]
    },
    {
     "name": "stdout",
     "output_type": "stream",
     "text": [
      "epoch: 6, [batch: 756 / 2520], examples_per_second: 4029.9258, train_label_loss: 0.1840, \n"
     ]
    },
    {
     "name": "stdout",
     "output_type": "stream",
     "text": [
      "epoch: 6, [batch: 1008 / 2520], examples_per_second: 4031.7107, train_label_loss: 0.2480, \n"
     ]
    },
    {
     "name": "stdout",
     "output_type": "stream",
     "text": [
      "epoch: 6, [batch: 1260 / 2520], examples_per_second: 4581.1779, train_label_loss: 0.0116, \n"
     ]
    },
    {
     "name": "stdout",
     "output_type": "stream",
     "text": [
      "epoch: 6, [batch: 1512 / 2520], examples_per_second: 4525.8107, train_label_loss: 0.4219, \n"
     ]
    },
    {
     "name": "stdout",
     "output_type": "stream",
     "text": [
      "epoch: 6, [batch: 1764 / 2520], examples_per_second: 4878.8711, train_label_loss: 0.0548, \n"
     ]
    },
    {
     "name": "stdout",
     "output_type": "stream",
     "text": [
      "epoch: 6, [batch: 2016 / 2520], examples_per_second: 3970.5872, train_label_loss: 0.0367, \n"
     ]
    },
    {
     "name": "stdout",
     "output_type": "stream",
     "text": [
      "epoch: 6, [batch: 2268 / 2520], examples_per_second: 3733.5955, train_label_loss: 0.0162, \n"
     ]
    },
    {
     "name": "stdout",
     "output_type": "stream",
     "text": [
      "=============================================================\n",
      "epoch: 6, source_val_acc_label: 0.9522, target_val_acc_label: 0.8401, source_val_label_loss: 0.1373, target_val_label_loss: 1.6013, \n",
      "=============================================================\n"
     ]
    },
    {
     "name": "stdout",
     "output_type": "stream",
     "text": [
      "epoch: 7, [batch: 1 / 2520], examples_per_second: 3.3926, train_label_loss: 0.0593, \n"
     ]
    },
    {
     "name": "stdout",
     "output_type": "stream",
     "text": [
      "epoch: 7, [batch: 252 / 2520], examples_per_second: 1699.5752, train_label_loss: 0.0367, \n"
     ]
    },
    {
     "name": "stdout",
     "output_type": "stream",
     "text": [
      "epoch: 7, [batch: 504 / 2520], examples_per_second: 1868.3991, train_label_loss: 0.0921, \n"
     ]
    },
    {
     "name": "stdout",
     "output_type": "stream",
     "text": [
      "epoch: 7, [batch: 756 / 2520], examples_per_second: 2005.9260, train_label_loss: 0.0083, \n"
     ]
    },
    {
     "name": "stdout",
     "output_type": "stream",
     "text": [
      "epoch: 7, [batch: 1008 / 2520], examples_per_second: 1807.4630, train_label_loss: 0.1112, \n"
     ]
    },
    {
     "name": "stdout",
     "output_type": "stream",
     "text": [
      "epoch: 7, [batch: 1260 / 2520], examples_per_second: 1866.9610, train_label_loss: 0.0231, \n"
     ]
    },
    {
     "name": "stdout",
     "output_type": "stream",
     "text": [
      "epoch: 7, [batch: 1512 / 2520], examples_per_second: 2647.0703, train_label_loss: 0.0436, \n"
     ]
    },
    {
     "name": "stdout",
     "output_type": "stream",
     "text": [
      "epoch: 7, [batch: 1764 / 2520], examples_per_second: 1953.1911, train_label_loss: 0.2862, \n"
     ]
    },
    {
     "name": "stdout",
     "output_type": "stream",
     "text": [
      "epoch: 7, [batch: 2016 / 2520], examples_per_second: 1762.5860, train_label_loss: 0.1130, \n"
     ]
    },
    {
     "name": "stdout",
     "output_type": "stream",
     "text": [
      "epoch: 7, [batch: 2268 / 2520], examples_per_second: 1861.2718, train_label_loss: 0.0163, \n"
     ]
    },
    {
     "name": "stdout",
     "output_type": "stream",
     "text": [
      "=============================================================\n",
      "epoch: 7, source_val_acc_label: 0.9547, target_val_acc_label: 0.8378, source_val_label_loss: 0.1274, target_val_label_loss: 1.9467, \n",
      "=============================================================\n"
     ]
    },
    {
     "name": "stdout",
     "output_type": "stream",
     "text": [
      "epoch: 8, [batch: 1 / 2520], examples_per_second: 3.3274, train_label_loss: 0.0583, \n"
     ]
    },
    {
     "name": "stdout",
     "output_type": "stream",
     "text": [
      "epoch: 8, [batch: 252 / 2520], examples_per_second: 1681.5162, train_label_loss: 0.0141, \n"
     ]
    },
    {
     "name": "stdout",
     "output_type": "stream",
     "text": [
      "epoch: 8, [batch: 504 / 2520], examples_per_second: 1771.8141, train_label_loss: 0.0640, \n"
     ]
    },
    {
     "name": "stdout",
     "output_type": "stream",
     "text": [
      "epoch: 8, [batch: 756 / 2520], examples_per_second: 2060.9019, train_label_loss: 0.0112, \n"
     ]
    },
    {
     "name": "stdout",
     "output_type": "stream",
     "text": [
      "epoch: 8, [batch: 1008 / 2520], examples_per_second: 1796.5890, train_label_loss: 0.0166, \n"
     ]
    },
    {
     "name": "stdout",
     "output_type": "stream",
     "text": [
      "epoch: 8, [batch: 1260 / 2520], examples_per_second: 1840.3686, train_label_loss: 0.0405, \n"
     ]
    },
    {
     "name": "stdout",
     "output_type": "stream",
     "text": [
      "epoch: 8, [batch: 1512 / 2520], examples_per_second: 2328.2767, train_label_loss: 0.0403, \n"
     ]
    },
    {
     "name": "stdout",
     "output_type": "stream",
     "text": [
      "epoch: 8, [batch: 1764 / 2520], examples_per_second: 3021.8767, train_label_loss: 0.0132, \n"
     ]
    },
    {
     "name": "stdout",
     "output_type": "stream",
     "text": [
      "epoch: 8, [batch: 2016 / 2520], examples_per_second: 2886.1348, train_label_loss: 0.1862, \n"
     ]
    },
    {
     "name": "stdout",
     "output_type": "stream",
     "text": [
      "epoch: 8, [batch: 2268 / 2520], examples_per_second: 3135.2613, train_label_loss: 0.1259, \n"
     ]
    },
    {
     "name": "stdout",
     "output_type": "stream",
     "text": [
      "=============================================================\n",
      "epoch: 8, source_val_acc_label: 0.9627, target_val_acc_label: 0.8523, source_val_label_loss: 0.1104, target_val_label_loss: 1.8460, \n",
      "=============================================================\n"
     ]
    },
    {
     "name": "stdout",
     "output_type": "stream",
     "text": [
      "New best\n"
     ]
    },
    {
     "name": "stdout",
     "output_type": "stream",
     "text": [
      "epoch: 9, [batch: 1 / 2520], examples_per_second: 8.1236, train_label_loss: 0.0909, \n"
     ]
    },
    {
     "name": "stdout",
     "output_type": "stream",
     "text": [
      "epoch: 9, [batch: 252 / 2520], examples_per_second: 4012.6187, train_label_loss: 0.1407, \n"
     ]
    },
    {
     "name": "stdout",
     "output_type": "stream",
     "text": [
      "epoch: 9, [batch: 504 / 2520], examples_per_second: 4013.3832, train_label_loss: 0.2519, \n"
     ]
    },
    {
     "name": "stdout",
     "output_type": "stream",
     "text": [
      "epoch: 9, [batch: 756 / 2520], examples_per_second: 3956.9241, train_label_loss: 0.1901, \n"
     ]
    },
    {
     "name": "stdout",
     "output_type": "stream",
     "text": [
      "epoch: 9, [batch: 1008 / 2520], examples_per_second: 3830.3504, train_label_loss: 0.0489, \n"
     ]
    },
    {
     "name": "stdout",
     "output_type": "stream",
     "text": [
      "epoch: 9, [batch: 1260 / 2520], examples_per_second: 4124.5581, train_label_loss: 0.3802, \n"
     ]
    },
    {
     "name": "stdout",
     "output_type": "stream",
     "text": [
      "epoch: 9, [batch: 1512 / 2520], examples_per_second: 4177.8370, train_label_loss: 0.0652, \n"
     ]
    },
    {
     "name": "stdout",
     "output_type": "stream",
     "text": [
      "epoch: 9, [batch: 1764 / 2520], examples_per_second: 4722.6215, train_label_loss: 0.0293, \n"
     ]
    },
    {
     "name": "stdout",
     "output_type": "stream",
     "text": [
      "epoch: 9, [batch: 2016 / 2520], examples_per_second: 4039.8595, train_label_loss: 0.1041, \n"
     ]
    },
    {
     "name": "stdout",
     "output_type": "stream",
     "text": [
      "epoch: 9, [batch: 2268 / 2520], examples_per_second: 3904.3836, train_label_loss: 0.1018, \n"
     ]
    },
    {
     "name": "stdout",
     "output_type": "stream",
     "text": [
      "=============================================================\n",
      "epoch: 9, source_val_acc_label: 0.9485, target_val_acc_label: 0.8285, source_val_label_loss: 0.1457, target_val_label_loss: 2.1589, \n",
      "=============================================================\n"
     ]
    },
    {
     "name": "stdout",
     "output_type": "stream",
     "text": [
      "epoch: 10, [batch: 1 / 2520], examples_per_second: 3.8055, train_label_loss: 0.2799, \n"
     ]
    },
    {
     "name": "stdout",
     "output_type": "stream",
     "text": [
      "epoch: 10, [batch: 252 / 2520], examples_per_second: 1689.5278, train_label_loss: 0.2422, \n"
     ]
    },
    {
     "name": "stdout",
     "output_type": "stream",
     "text": [
      "epoch: 10, [batch: 504 / 2520], examples_per_second: 1698.9680, train_label_loss: 0.0263, \n"
     ]
    },
    {
     "name": "stdout",
     "output_type": "stream",
     "text": [
      "epoch: 10, [batch: 756 / 2520], examples_per_second: 1967.2644, train_label_loss: 0.0229, \n"
     ]
    },
    {
     "name": "stdout",
     "output_type": "stream",
     "text": [
      "epoch: 10, [batch: 1008 / 2520], examples_per_second: 2027.7012, train_label_loss: 0.1194, \n"
     ]
    },
    {
     "name": "stdout",
     "output_type": "stream",
     "text": [
      "epoch: 10, [batch: 1260 / 2520], examples_per_second: 1858.2712, train_label_loss: 0.2862, \n"
     ]
    },
    {
     "name": "stdout",
     "output_type": "stream",
     "text": [
      "epoch: 10, [batch: 1512 / 2520], examples_per_second: 1864.6732, train_label_loss: 0.2071, \n"
     ]
    },
    {
     "name": "stdout",
     "output_type": "stream",
     "text": [
      "epoch: 10, [batch: 1764 / 2520], examples_per_second: 2380.6075, train_label_loss: 0.0453, \n"
     ]
    },
    {
     "name": "stdout",
     "output_type": "stream",
     "text": [
      "epoch: 10, [batch: 2016 / 2520], examples_per_second: 1691.8628, train_label_loss: 0.0165, \n"
     ]
    },
    {
     "name": "stdout",
     "output_type": "stream",
     "text": [
      "epoch: 10, [batch: 2268 / 2520], examples_per_second: 1694.1512, train_label_loss: 0.0510, \n"
     ]
    },
    {
     "name": "stdout",
     "output_type": "stream",
     "text": [
      "=============================================================\n",
      "epoch: 10, source_val_acc_label: 0.9621, target_val_acc_label: 0.8521, source_val_label_loss: 0.1133, target_val_label_loss: 2.1207, \n",
      "=============================================================\n"
     ]
    },
    {
     "name": "stdout",
     "output_type": "stream",
     "text": [
      "epoch: 11, [batch: 1 / 2520], examples_per_second: 3.3399, train_label_loss: 0.1808, \n"
     ]
    },
    {
     "name": "stdout",
     "output_type": "stream",
     "text": [
      "epoch: 11, [batch: 252 / 2520], examples_per_second: 2358.4039, train_label_loss: 0.0065, \n"
     ]
    },
    {
     "name": "stdout",
     "output_type": "stream",
     "text": [
      "epoch: 11, [batch: 504 / 2520], examples_per_second: 2921.3428, train_label_loss: 0.0145, \n"
     ]
    },
    {
     "name": "stdout",
     "output_type": "stream",
     "text": [
      "epoch: 11, [batch: 756 / 2520], examples_per_second: 3128.7725, train_label_loss: 0.1012, \n"
     ]
    },
    {
     "name": "stdout",
     "output_type": "stream",
     "text": [
      "epoch: 11, [batch: 1008 / 2520], examples_per_second: 4439.7059, train_label_loss: 0.0140, \n"
     ]
    },
    {
     "name": "stdout",
     "output_type": "stream",
     "text": [
      "epoch: 11, [batch: 1260 / 2520], examples_per_second: 4481.5847, train_label_loss: 0.0151, \n"
     ]
    },
    {
     "name": "stdout",
     "output_type": "stream",
     "text": [
      "epoch: 11, [batch: 1512 / 2520], examples_per_second: 5121.1613, train_label_loss: 0.1487, \n"
     ]
    },
    {
     "name": "stdout",
     "output_type": "stream",
     "text": [
      "epoch: 11, [batch: 1764 / 2520], examples_per_second: 3995.7388, train_label_loss: 0.1420, \n"
     ]
    },
    {
     "name": "stdout",
     "output_type": "stream",
     "text": [
      "epoch: 11, [batch: 2016 / 2520], examples_per_second: 4000.2684, train_label_loss: 0.0499, \n"
     ]
    },
    {
     "name": "stdout",
     "output_type": "stream",
     "text": [
      "epoch: 11, [batch: 2268 / 2520], examples_per_second: 4019.4866, train_label_loss: 0.0679, \n"
     ]
    },
    {
     "name": "stdout",
     "output_type": "stream",
     "text": [
      "=============================================================\n",
      "epoch: 11, source_val_acc_label: 0.9617, target_val_acc_label: 0.8374, source_val_label_loss: 0.1159, target_val_label_loss: 2.2423, \n",
      "=============================================================\n"
     ]
    },
    {
     "name": "stdout",
     "output_type": "stream",
     "text": [
      "epoch: 12, [batch: 1 / 2520], examples_per_second: 8.6040, train_label_loss: 0.0026, \n"
     ]
    },
    {
     "name": "stdout",
     "output_type": "stream",
     "text": [
      "epoch: 12, [batch: 252 / 2520], examples_per_second: 3999.8393, train_label_loss: 0.0455, \n"
     ]
    },
    {
     "name": "stdout",
     "output_type": "stream",
     "text": [
      "epoch: 12, [batch: 504 / 2520], examples_per_second: 3941.1640, train_label_loss: 0.0344, \n"
     ]
    },
    {
     "name": "stdout",
     "output_type": "stream",
     "text": [
      "epoch: 12, [batch: 756 / 2520], examples_per_second: 3838.1644, train_label_loss: 0.1789, \n"
     ]
    },
    {
     "name": "stdout",
     "output_type": "stream",
     "text": [
      "epoch: 12, [batch: 1008 / 2520], examples_per_second: 4060.5363, train_label_loss: 0.3336, \n"
     ]
    },
    {
     "name": "stdout",
     "output_type": "stream",
     "text": [
      "epoch: 12, [batch: 1260 / 2520], examples_per_second: 1886.9186, train_label_loss: 0.0086, \n"
     ]
    },
    {
     "name": "stdout",
     "output_type": "stream",
     "text": [
      "epoch: 12, [batch: 1512 / 2520], examples_per_second: 1850.2353, train_label_loss: 0.0422, \n"
     ]
    },
    {
     "name": "stdout",
     "output_type": "stream",
     "text": [
      "epoch: 12, [batch: 1764 / 2520], examples_per_second: 2234.6052, train_label_loss: 0.0077, \n"
     ]
    },
    {
     "name": "stdout",
     "output_type": "stream",
     "text": [
      "epoch: 12, [batch: 2016 / 2520], examples_per_second: 2066.3053, train_label_loss: 0.2036, \n"
     ]
    },
    {
     "name": "stdout",
     "output_type": "stream",
     "text": [
      "epoch: 12, [batch: 2268 / 2520], examples_per_second: 1708.3437, train_label_loss: 0.0190, \n"
     ]
    },
    {
     "name": "stdout",
     "output_type": "stream",
     "text": [
      "=============================================================\n",
      "epoch: 12, source_val_acc_label: 0.9575, target_val_acc_label: 0.8652, source_val_label_loss: 0.1221, target_val_label_loss: 0.4605, \n",
      "=============================================================\n"
     ]
    },
    {
     "name": "stdout",
     "output_type": "stream",
     "text": [
      "New best\n"
     ]
    },
    {
     "name": "stdout",
     "output_type": "stream",
     "text": [
      "epoch: 13, [batch: 1 / 2520], examples_per_second: 3.2663, train_label_loss: 0.3139, \n"
     ]
    },
    {
     "name": "stdout",
     "output_type": "stream",
     "text": [
      "epoch: 13, [batch: 252 / 2520], examples_per_second: 2263.1523, train_label_loss: 0.0635, \n"
     ]
    },
    {
     "name": "stdout",
     "output_type": "stream",
     "text": [
      "epoch: 13, [batch: 504 / 2520], examples_per_second: 1703.6496, train_label_loss: 0.0572, \n"
     ]
    },
    {
     "name": "stdout",
     "output_type": "stream",
     "text": [
      "epoch: 13, [batch: 756 / 2520], examples_per_second: 1704.5090, train_label_loss: 0.0065, \n"
     ]
    },
    {
     "name": "stdout",
     "output_type": "stream",
     "text": [
      "epoch: 13, [batch: 1008 / 2520], examples_per_second: 2153.7204, train_label_loss: 0.0442, \n"
     ]
    },
    {
     "name": "stdout",
     "output_type": "stream",
     "text": [
      "epoch: 13, [batch: 1260 / 2520], examples_per_second: 2010.8034, train_label_loss: 0.0410, \n"
     ]
    },
    {
     "name": "stdout",
     "output_type": "stream",
     "text": [
      "epoch: 13, [batch: 1512 / 2520], examples_per_second: 1844.2772, train_label_loss: 0.1925, \n"
     ]
    },
    {
     "name": "stdout",
     "output_type": "stream",
     "text": [
      "epoch: 13, [batch: 1764 / 2520], examples_per_second: 1949.5314, train_label_loss: 0.0627, \n"
     ]
    },
    {
     "name": "stdout",
     "output_type": "stream",
     "text": [
      "epoch: 13, [batch: 2016 / 2520], examples_per_second: 2073.2722, train_label_loss: 0.0515, \n"
     ]
    },
    {
     "name": "stdout",
     "output_type": "stream",
     "text": [
      "epoch: 13, [batch: 2268 / 2520], examples_per_second: 1686.3001, train_label_loss: 0.1718, \n"
     ]
    },
    {
     "name": "stdout",
     "output_type": "stream",
     "text": [
      "=============================================================\n",
      "epoch: 13, source_val_acc_label: 0.9618, target_val_acc_label: 0.8542, source_val_label_loss: 0.1081, target_val_label_loss: 0.8437, \n",
      "=============================================================\n"
     ]
    },
    {
     "name": "stdout",
     "output_type": "stream",
     "text": [
      "epoch: 14, [batch: 1 / 2520], examples_per_second: 3.1408, train_label_loss: 0.0492, \n"
     ]
    },
    {
     "name": "stdout",
     "output_type": "stream",
     "text": [
      "epoch: 14, [batch: 252 / 2520], examples_per_second: 2536.7414, train_label_loss: 0.0509, \n"
     ]
    },
    {
     "name": "stdout",
     "output_type": "stream",
     "text": [
      "epoch: 14, [batch: 504 / 2520], examples_per_second: 2485.3707, train_label_loss: 0.0038, \n"
     ]
    },
    {
     "name": "stdout",
     "output_type": "stream",
     "text": [
      "epoch: 14, [batch: 756 / 2520], examples_per_second: 2940.0499, train_label_loss: 0.1365, \n"
     ]
    },
    {
     "name": "stdout",
     "output_type": "stream",
     "text": [
      "epoch: 14, [batch: 1008 / 2520], examples_per_second: 3598.6602, train_label_loss: 0.0664, \n"
     ]
    },
    {
     "name": "stdout",
     "output_type": "stream",
     "text": [
      "epoch: 14, [batch: 1260 / 2520], examples_per_second: 4119.0950, train_label_loss: 0.1231, \n"
     ]
    },
    {
     "name": "stdout",
     "output_type": "stream",
     "text": [
      "epoch: 14, [batch: 1512 / 2520], examples_per_second: 4686.7992, train_label_loss: 0.0407, \n"
     ]
    },
    {
     "name": "stdout",
     "output_type": "stream",
     "text": [
      "epoch: 14, [batch: 1764 / 2520], examples_per_second: 4138.5702, train_label_loss: 0.0385, \n"
     ]
    },
    {
     "name": "stdout",
     "output_type": "stream",
     "text": [
      "epoch: 14, [batch: 2016 / 2520], examples_per_second: 3903.1724, train_label_loss: 0.0270, \n"
     ]
    },
    {
     "name": "stdout",
     "output_type": "stream",
     "text": [
      "epoch: 14, [batch: 2268 / 2520], examples_per_second: 3975.5436, train_label_loss: 0.2123, \n"
     ]
    },
    {
     "name": "stdout",
     "output_type": "stream",
     "text": [
      "=============================================================\n",
      "epoch: 14, source_val_acc_label: 0.9578, target_val_acc_label: 0.8329, source_val_label_loss: 0.1190, target_val_label_loss: 1.4344, \n",
      "=============================================================\n"
     ]
    },
    {
     "name": "stdout",
     "output_type": "stream",
     "text": [
      "epoch: 15, [batch: 1 / 2520], examples_per_second: 8.5710, train_label_loss: 0.1156, \n"
     ]
    },
    {
     "name": "stdout",
     "output_type": "stream",
     "text": [
      "epoch: 15, [batch: 252 / 2520], examples_per_second: 3860.9865, train_label_loss: 0.1524, \n"
     ]
    },
    {
     "name": "stdout",
     "output_type": "stream",
     "text": [
      "epoch: 15, [batch: 504 / 2520], examples_per_second: 3948.8770, train_label_loss: 0.1150, \n"
     ]
    },
    {
     "name": "stdout",
     "output_type": "stream",
     "text": [
      "epoch: 15, [batch: 756 / 2520], examples_per_second: 3981.9137, train_label_loss: 0.1612, \n"
     ]
    },
    {
     "name": "stdout",
     "output_type": "stream",
     "text": [
      "epoch: 15, [batch: 1008 / 2520], examples_per_second: 4084.7848, train_label_loss: 0.0312, \n"
     ]
    },
    {
     "name": "stdout",
     "output_type": "stream",
     "text": [
      "epoch: 15, [batch: 1260 / 2520], examples_per_second: 3950.9662, train_label_loss: 0.0584, \n"
     ]
    },
    {
     "name": "stdout",
     "output_type": "stream",
     "text": [
      "epoch: 15, [batch: 1512 / 2520], examples_per_second: 1852.6614, train_label_loss: 0.0677, \n"
     ]
    },
    {
     "name": "stdout",
     "output_type": "stream",
     "text": [
      "epoch: 15, [batch: 1764 / 2520], examples_per_second: 1812.3076, train_label_loss: 0.0240, \n"
     ]
    },
    {
     "name": "stdout",
     "output_type": "stream",
     "text": [
      "epoch: 15, [batch: 2016 / 2520], examples_per_second: 2023.0077, train_label_loss: 0.0743, \n"
     ]
    },
    {
     "name": "stdout",
     "output_type": "stream",
     "text": [
      "epoch: 15, [batch: 2268 / 2520], examples_per_second: 2045.6105, train_label_loss: 0.0074, \n"
     ]
    },
    {
     "name": "stdout",
     "output_type": "stream",
     "text": [
      "=============================================================\n",
      "epoch: 15, source_val_acc_label: 0.9539, target_val_acc_label: 0.8266, source_val_label_loss: 0.1359, target_val_label_loss: 1.2118, \n",
      "=============================================================\n"
     ]
    },
    {
     "name": "stdout",
     "output_type": "stream",
     "text": [
      "epoch: 16, [batch: 1 / 2520], examples_per_second: 3.1359, train_label_loss: 0.0199, \n"
     ]
    },
    {
     "name": "stdout",
     "output_type": "stream",
     "text": [
      "epoch: 16, [batch: 252 / 2520], examples_per_second: 1823.8374, train_label_loss: 0.0111, \n"
     ]
    },
    {
     "name": "stdout",
     "output_type": "stream",
     "text": [
      "epoch: 16, [batch: 504 / 2520], examples_per_second: 2029.2011, train_label_loss: 0.0656, \n"
     ]
    },
    {
     "name": "stdout",
     "output_type": "stream",
     "text": [
      "epoch: 16, [batch: 756 / 2520], examples_per_second: 1790.2535, train_label_loss: 0.1062, \n"
     ]
    },
    {
     "name": "stdout",
     "output_type": "stream",
     "text": [
      "epoch: 16, [batch: 1008 / 2520], examples_per_second: 1861.3209, train_label_loss: 0.0969, \n"
     ]
    },
    {
     "name": "stdout",
     "output_type": "stream",
     "text": [
      "epoch: 16, [batch: 1260 / 2520], examples_per_second: 2278.4625, train_label_loss: 0.0594, \n"
     ]
    },
    {
     "name": "stdout",
     "output_type": "stream",
     "text": [
      "epoch: 16, [batch: 1512 / 2520], examples_per_second: 1878.9725, train_label_loss: 0.0019, \n"
     ]
    },
    {
     "name": "stdout",
     "output_type": "stream",
     "text": [
      "epoch: 16, [batch: 1764 / 2520], examples_per_second: 1791.6364, train_label_loss: 0.0841, \n"
     ]
    },
    {
     "name": "stdout",
     "output_type": "stream",
     "text": [
      "epoch: 16, [batch: 2016 / 2520], examples_per_second: 1916.6474, train_label_loss: 0.0124, \n"
     ]
    },
    {
     "name": "stdout",
     "output_type": "stream",
     "text": [
      "epoch: 16, [batch: 2268 / 2520], examples_per_second: 1908.8875, train_label_loss: 0.0085, \n"
     ]
    },
    {
     "name": "stdout",
     "output_type": "stream",
     "text": [
      "=============================================================\n",
      "epoch: 16, source_val_acc_label: 0.9641, target_val_acc_label: 0.8565, source_val_label_loss: 0.1071, target_val_label_loss: 1.2730, \n",
      "=============================================================\n"
     ]
    },
    {
     "name": "stdout",
     "output_type": "stream",
     "text": [
      "Patience (3) exhausted\n"
     ]
    }
   ],
   "source": [
    "###################################\n",
    "# train\n",
    "###################################\n",
    "jig = PTN_Train_Eval_Test_Jig(model, p.BEST_MODEL_PATH, p.device)\n",
    "\n",
    "jig.train(\n",
    "    train_iterable=datasets.source.processed.train,\n",
    "    source_val_iterable=datasets.source.processed.val,\n",
    "    target_val_iterable=datasets.target.processed.val,\n",
    "    num_epochs=p.n_epoch,\n",
    "    num_logs_per_epoch=p.NUM_LOGS_PER_EPOCH,\n",
    "    patience=p.patience,\n",
    "    optimizer=optimizer,\n",
    "    criteria_for_best=p.criteria_for_best,\n",
    ")"
   ]
  },
  {
   "cell_type": "code",
   "execution_count": 14,
   "id": "31e8fabf",
   "metadata": {
    "execution": {
     "iopub.execute_input": "2022-03-25T22:25:20.086871Z",
     "iopub.status.busy": "2022-03-25T22:25:20.086399Z",
     "iopub.status.idle": "2022-03-25T22:25:20.119847Z",
     "shell.execute_reply": "2022-03-25T22:25:20.119110Z"
    },
    "papermill": {
     "duration": 0.10398,
     "end_time": "2022-03-25T22:25:20.120002",
     "exception": false,
     "start_time": "2022-03-25T22:25:20.016022",
     "status": "completed"
    },
    "tags": []
   },
   "outputs": [],
   "source": [
    "total_experiment_time_secs = time.time() - start_time_secs"
   ]
  },
  {
   "cell_type": "code",
   "execution_count": 15,
   "id": "87b9595b",
   "metadata": {
    "execution": {
     "iopub.execute_input": "2022-03-25T22:25:20.268661Z",
     "iopub.status.busy": "2022-03-25T22:25:20.267703Z",
     "iopub.status.idle": "2022-03-25T22:27:50.927995Z",
     "shell.execute_reply": "2022-03-25T22:27:50.927177Z"
    },
    "papermill": {
     "duration": 150.736666,
     "end_time": "2022-03-25T22:27:50.928179",
     "exception": false,
     "start_time": "2022-03-25T22:25:20.191513",
     "status": "completed"
    },
    "tags": []
   },
   "outputs": [],
   "source": [
    "###################################\n",
    "# Evaluate the model\n",
    "###################################\n",
    "source_test_label_accuracy, source_test_label_loss = jig.test(datasets.source.processed.test)\n",
    "target_test_label_accuracy, target_test_label_loss = jig.test(datasets.target.processed.test)\n",
    "\n",
    "source_val_label_accuracy, source_val_label_loss = jig.test(datasets.source.processed.val)\n",
    "target_val_label_accuracy, target_val_label_loss = jig.test(datasets.target.processed.val)\n",
    "\n",
    "history = jig.get_history()\n",
    "\n",
    "total_epochs_trained = len(history[\"epoch_indices\"])\n",
    "\n",
    "val_dl = Iterable_Aggregator((datasets.source.original.val,datasets.target.original.val))\n",
    "\n",
    "confusion = ptn_confusion_by_domain_over_dataloader(model, p.device, val_dl)\n",
    "per_domain_accuracy = per_domain_accuracy_from_confusion(confusion)\n",
    "\n",
    "# Add a key to per_domain_accuracy for if it was a source domain\n",
    "for domain, accuracy in per_domain_accuracy.items():\n",
    "    per_domain_accuracy[domain] = {\n",
    "        \"accuracy\": accuracy,\n",
    "        \"source?\": domain in p.domains_source\n",
    "    }\n",
    "\n",
    "# Do an independent accuracy assesment JUST TO BE SURE!\n",
    "# _source_test_label_accuracy = independent_accuracy_assesment(model, datasets.source.processed.test, p.device)\n",
    "# _target_test_label_accuracy = independent_accuracy_assesment(model, datasets.target.processed.test, p.device)\n",
    "# _source_val_label_accuracy = independent_accuracy_assesment(model, datasets.source.processed.val, p.device)\n",
    "# _target_val_label_accuracy = independent_accuracy_assesment(model, datasets.target.processed.val, p.device)\n",
    "\n",
    "# assert(_source_test_label_accuracy == source_test_label_accuracy)\n",
    "# assert(_target_test_label_accuracy == target_test_label_accuracy)\n",
    "# assert(_source_val_label_accuracy == source_val_label_accuracy)\n",
    "# assert(_target_val_label_accuracy == target_val_label_accuracy)\n",
    "\n",
    "experiment = {\n",
    "    \"experiment_name\": p.experiment_name,\n",
    "    \"parameters\": dict(p),\n",
    "    \"results\": {\n",
    "        \"source_test_label_accuracy\": source_test_label_accuracy,\n",
    "        \"source_test_label_loss\": source_test_label_loss,\n",
    "        \"target_test_label_accuracy\": target_test_label_accuracy,\n",
    "        \"target_test_label_loss\": target_test_label_loss,\n",
    "        \"source_val_label_accuracy\": source_val_label_accuracy,\n",
    "        \"source_val_label_loss\": source_val_label_loss,\n",
    "        \"target_val_label_accuracy\": target_val_label_accuracy,\n",
    "        \"target_val_label_loss\": target_val_label_loss,\n",
    "        \"total_epochs_trained\": total_epochs_trained,\n",
    "        \"total_experiment_time_secs\": total_experiment_time_secs,\n",
    "        \"confusion\": confusion,\n",
    "        \"per_domain_accuracy\": per_domain_accuracy,\n",
    "    },\n",
    "    \"history\": history,\n",
    "    \"dataset_metrics\": get_dataset_metrics(datasets, \"ptn\"),\n",
    "}"
   ]
  },
  {
   "cell_type": "code",
   "execution_count": 16,
   "id": "54a21829",
   "metadata": {
    "execution": {
     "iopub.execute_input": "2022-03-25T22:27:51.067632Z",
     "iopub.status.busy": "2022-03-25T22:27:51.067214Z",
     "iopub.status.idle": "2022-03-25T22:27:51.294000Z",
     "shell.execute_reply": "2022-03-25T22:27:51.294681Z"
    },
    "papermill": {
     "duration": 0.297516,
     "end_time": "2022-03-25T22:27:51.294900",
     "exception": false,
     "start_time": "2022-03-25T22:27:50.997384",
     "status": "completed"
    },
    "tags": []
   },
   "outputs": [
    {
     "data": {
      "image/png": "[encoded data removed]",
      "text/plain": [
       "<Figure size 1080x504 with 1 Axes>"
      ]
     },
     "metadata": {
      "needs_background": "light"
     },
     "output_type": "display_data"
    }
   ],
   "source": [
    "ax = get_loss_curve(experiment)\n",
    "plt.show()"
   ]
  },
  {
   "cell_type": "code",
   "execution_count": 17,
   "id": "fd8a0f60",
   "metadata": {
    "execution": {
     "iopub.execute_input": "2022-03-25T22:27:51.435049Z",
     "iopub.status.busy": "2022-03-25T22:27:51.434677Z",
     "iopub.status.idle": "2022-03-25T22:27:51.779252Z",
     "shell.execute_reply": "2022-03-25T22:27:51.779943Z"
    },
    "papermill": {
     "duration": 0.413344,
     "end_time": "2022-03-25T22:27:51.780156",
     "exception": false,
     "start_time": "2022-03-25T22:27:51.366812",
     "status": "completed"
    },
    "tags": []
   },
   "outputs": [
    {
     "data": {
      "text/plain": [
       "<AxesSubplot:title={'center':'Results'}>"
      ]
     },
     "execution_count": 17,
     "metadata": {},
     "output_type": "execute_result"
    },
    {
     "data": {
      "image/png": "[encoded data removed]",
      "text/plain": [
       "<Figure size 1080x504 with 1 Axes>"
      ]
     },
     "metadata": {
      "needs_background": "light"
     },
     "output_type": "display_data"
    }
   ],
   "source": [
    "get_results_table(experiment)"
   ]
  },
  {
   "cell_type": "code",
   "execution_count": 18,
   "id": "cf8dc689",
   "metadata": {
    "execution": {
     "iopub.execute_input": "2022-03-25T22:27:51.968683Z",
     "iopub.status.busy": "2022-03-25T22:27:51.968313Z",
     "iopub.status.idle": "2022-03-25T22:27:52.192098Z",
     "shell.execute_reply": "2022-03-25T22:27:52.192783Z"
    },
    "papermill": {
     "duration": 0.29627,
     "end_time": "2022-03-25T22:27:52.193043",
     "exception": false,
     "start_time": "2022-03-25T22:27:51.896773",
     "status": "completed"
    },
    "tags": []
   },
   "outputs": [
    {
     "data": {
      "text/plain": [
       "<AxesSubplot:title={'center':'Per Domain Validation Accuracy'}, xlabel='domain'>"
      ]
     },
     "execution_count": 18,
     "metadata": {},
     "output_type": "execute_result"
    },
    {
     "data": {
      "image/png": "[encoded data removed]",
      "text/plain": [
       "<Figure size 1080x504 with 1 Axes>"
      ]
     },
     "metadata": {
      "needs_background": "light"
     },
     "output_type": "display_data"
    }
   ],
   "source": [
    "get_domain_accuracies(experiment)"
   ]
  },
  {
   "cell_type": "code",
   "execution_count": 19,
   "id": "a74ae082",
   "metadata": {
    "execution": {
     "iopub.execute_input": "2022-03-25T22:27:52.338772Z",
     "iopub.status.busy": "2022-03-25T22:27:52.338399Z",
     "iopub.status.idle": "2022-03-25T22:27:52.368493Z",
     "shell.execute_reply": "2022-03-25T22:27:52.367776Z"
    },
    "papermill": {
     "duration": 0.101947,
     "end_time": "2022-03-25T22:27:52.368665",
     "exception": false,
     "start_time": "2022-03-25T22:27:52.266718",
     "status": "completed"
    },
    "tags": []
   },
   "outputs": [
    {
     "name": "stdout",
     "output_type": "stream",
     "text": [
      "Source Test Label Accuracy: 0.9577256944444444 Target Test Label Accuracy: 0.8689583333333334\n",
      "Source Val Label Accuracy: 0.9574652777777778 Target Val Label Accuracy: 0.86515625\n"
     ]
    }
   ],
   "source": [
    "print(\"Source Test Label Accuracy:\", experiment[\"results\"][\"source_test_label_accuracy\"], \"Target Test Label Accuracy:\", experiment[\"results\"][\"target_test_label_accuracy\"])\n",
    "print(\"Source Val Label Accuracy:\", experiment[\"results\"][\"source_val_label_accuracy\"], \"Target Val Label Accuracy:\", experiment[\"results\"][\"target_val_label_accuracy\"])"
   ]
  },
  {
   "cell_type": "code",
   "execution_count": 20,
   "id": "dacca602",
   "metadata": {
    "execution": {
     "iopub.execute_input": "2022-03-25T22:27:52.514734Z",
     "iopub.status.busy": "2022-03-25T22:27:52.514225Z",
     "iopub.status.idle": "2022-03-25T22:27:52.544588Z",
     "shell.execute_reply": "2022-03-25T22:27:52.543834Z"
    },
    "papermill": {
     "duration": 0.103311,
     "end_time": "2022-03-25T22:27:52.544768",
     "exception": false,
     "start_time": "2022-03-25T22:27:52.441457",
     "status": "completed"
    },
    "tags": [
     "experiment_json"
    ]
   },
   "outputs": [
    {
     "data": {
      "text/plain": [
       "'{\"experiment_name\": \"tuned_1v2:oracle.run1.framed\", \"parameters\": {\"experiment_name\": \"tuned_1v2:oracle.run1.framed\", \"device\": \"cuda\", \"lr\": 0.0001, \"labels_source\": [\"3123D52\", \"3123D65\", \"3123D79\", \"3123D80\", \"3123D54\", \"3123D70\", \"3123D7B\", \"3123D89\", \"3123D58\", \"3123D76\", \"3123D7D\", \"3123EFE\", \"3123D64\", \"3123D78\", \"3123D7E\", \"3124E4A\"], \"labels_target\": [\"3123D52\", \"3123D65\", \"3123D79\", \"3123D80\", \"3123D54\", \"3123D70\", \"3123D7B\", \"3123D89\", \"3123D58\", \"3123D76\", \"3123D7D\", \"3123EFE\", \"3123D64\", \"3123D78\", \"3123D7E\", \"3124E4A\"], \"episode_transforms_source\": [], \"episode_transforms_target\": [], \"domains_source\": [8, 32, 50], \"domains_target\": [14, 20, 26, 38, 44], \"num_examples_per_domain_per_label_source\": -1, \"num_examples_per_domain_per_label_target\": -1, \"n_shot\": 3, \"n_way\": 16, \"n_query\": 2, \"train_k_factor\": 3, \"val_k_factor\": 2, \"test_k_factor\": 2, \"torch_default_dtype\": \"torch.float32\", \"n_epoch\": 50, \"patience\": 3, \"criteria_for_best\": \"target_accuracy\", \"x_net\": [{\"class\": \"nnReshape\", \"kargs\": {\"shape\": [-1, 1, 2, 256]}}, {\"class\": \"Conv2d\", \"kargs\": {\"in_channels\": 1, \"out_channels\": 256, \"kernel_size\": [1, 7], \"bias\": false, \"padding\": [0, 3]}}, {\"class\": \"ReLU\", \"kargs\": {\"inplace\": true}}, {\"class\": \"BatchNorm2d\", \"kargs\": {\"num_features\": 256}}, {\"class\": \"Conv2d\", \"kargs\": {\"in_channels\": 256, \"out_channels\": 80, \"kernel_size\": [2, 7], \"bias\": true, \"padding\": [0, 3]}}, {\"class\": \"ReLU\", \"kargs\": {\"inplace\": true}}, {\"class\": \"BatchNorm2d\", \"kargs\": {\"num_features\": 80}}, {\"class\": \"Flatten\", \"kargs\": {}}, {\"class\": \"Linear\", \"kargs\": {\"in_features\": 20480, \"out_features\": 256}}, {\"class\": \"ReLU\", \"kargs\": {\"inplace\": true}}, {\"class\": \"BatchNorm1d\", \"kargs\": {\"num_features\": 256}}, {\"class\": \"Linear\", \"kargs\": {\"in_features\": 256, \"out_features\": 256}}], \"NUM_LOGS_PER_EPOCH\": 10, \"BEST_MODEL_PATH\": \"./best_model.pth\", \"pickle_name\": \"oracle.Run1_framed_2000Examples_stratified_ds.2022A.pkl\", \"x_transforms_source\": [], \"x_transforms_target\": [], \"dataset_seed\": 420, \"seed\": 420}, \"results\": {\"source_test_label_accuracy\": 0.9577256944444444, \"source_test_label_loss\": 0.12601009011268616, \"target_test_label_accuracy\": 0.8689583333333334, \"target_test_label_loss\": 0.46352046728134155, \"source_val_label_accuracy\": 0.9574652777777778, \"source_val_label_loss\": 0.12209286540746689, \"target_val_label_accuracy\": 0.86515625, \"target_val_label_loss\": 0.4604946970939636, \"total_epochs_trained\": 16, \"total_experiment_time_secs\": 1770.740650653839, \"confusion\": {\"8\": {\"15\": {\"15\": 221, \"12\": 19}, \"5\": {\"5\": 219, \"1\": 7, \"14\": 3, \"10\": 11}, \"7\": {\"7\": 225, \"13\": 1, \"15\": 1, \"6\": 13}, \"4\": {\"4\": 239, \"6\": 1}, \"10\": {\"10\": 222, \"13\": 18}, \"11\": {\"11\": 222, \"1\": 18}, \"12\": {\"12\": 195, \"15\": 45}, \"0\": {\"0\": 240}, \"14\": {\"14\": 237, \"4\": 3}, \"8\": {\"8\": 240}, \"13\": {\"13\": 216, \"10\": 15, \"6\": 4, \"7\": 5}, \"6\": {\"6\": 224, \"13\": 3, \"7\": 13}, \"1\": {\"1\": 235, \"10\": 2, \"11\": 1, \"5\": 2}, \"3\": {\"3\": 240}, \"9\": {\"9\": 240}, \"2\": {\"2\": 219, \"3\": 19, \"12\": 1, \"15\": 1}}, \"50\": {\"4\": {\"4\": 212, \"15\": 5, \"7\": 14, \"5\": 9}, \"10\": {\"10\": 239, \"8\": 1}, \"15\": {\"15\": 237, \"6\": 2, \"11\": 1}, \"0\": {\"0\": 238, \"2\": 2}, \"6\": {\"6\": 232, \"15\": 7, \"5\": 1}, \"3\": {\"3\": 240}, \"7\": {\"7\": 238, \"5\": 1, \"4\": 1}, \"2\": {\"2\": 239, \"0\": 1}, \"8\": {\"8\": 240}, \"11\": {\"11\": 237, \"12\": 3}, \"14\": {\"14\": 240}, \"12\": {\"12\": 239, \"9\": 1}, \"13\": {\"13\": 239, \"5\": 1}, \"9\": {\"9\": 224, \"11\": 6, \"12\": 10}, \"5\": {\"5\": 209, \"7\": 11, \"4\": 11, \"13\": 1, \"6\": 6, \"15\": 2}, \"1\": {\"1\": 239, \"0\": 1}}, \"32\": {\"7\": {\"7\": 218, \"14\": 2, \"5\": 19, \"0\": 1}, \"2\": {\"2\": 239, \"4\": 1}, \"5\": {\"5\": 179, \"7\": 52, \"8\": 6, \"0\": 2, \"14\": 1}, \"6\": {\"6\": 240}, \"13\": {\"13\": 228, \"3\": 7, \"4\": 5}, \"4\": {\"4\": 228, \"2\": 11, \"13\": 1}, \"3\": {\"3\": 238, \"13\": 2}, \"0\": {\"0\": 224, \"7\": 3, \"8\": 4, \"5\": 2, \"14\": 7}, \"9\": {\"9\": 240}, \"12\": {\"12\": 240}, \"8\": {\"8\": 218, \"0\": 17, \"5\": 2, \"14\": 3}, \"14\": {\"14\": 202, \"7\": 6, \"0\": 26, \"8\": 5, \"5\": 1}, \"15\": {\"15\": 240}, \"11\": {\"11\": 240}, \"10\": {\"10\": 240}, \"1\": {\"1\": 240}}, \"20\": {\"15\": {\"15\": 199, \"1\": 20, \"5\": 15, \"12\": 2, \"13\": 3, \"9\": 1}, \"5\": {\"5\": 209, \"1\": 22, \"12\": 1, \"15\": 5, \"3\": 3}, \"7\": {\"7\": 217, \"2\": 12, \"8\": 7, \"12\": 1, \"4\": 1, \"9\": 2}, \"4\": {\"4\": 239, \"7\": 1}, \"10\": {\"10\": 240}, \"11\": {\"11\": 240}, \"12\": {\"12\": 213, \"2\": 8, \"9\": 2, \"1\": 12, \"5\": 2, \"15\": 2, \"13\": 1}, \"0\": {\"0\": 235, \"5\": 5}, \"14\": {\"14\": 226, \"6\": 11, \"8\": 3}, \"8\": {\"8\": 237, \"7\": 3}, \"13\": {\"13\": 229, \"12\": 3, \"2\": 8}, \"6\": {\"6\": 229, \"14\": 11}, \"1\": {\"1\": 210, \"5\": 10, \"15\": 16, \"12\": 1, \"9\": 3}, \"3\": {\"3\": 181, \"9\": 45, \"8\": 1, \"12\": 1, \"1\": 8, \"7\": 2, \"5\": 1, \"2\": 1}, \"9\": {\"9\": 199, \"3\": 25, \"2\": 12, \"5\": 1, \"7\": 2, \"12\": 1}, \"2\": {\"2\": 185, \"7\": 19, \"9\": 17, \"13\": 9, \"12\": 8, \"1\": 2}}, \"26\": {\"4\": {\"4\": 240}, \"10\": {\"10\": 163, \"0\": 27, \"14\": 40, \"15\": 6, \"6\": 3, \"1\": 1}, \"15\": {\"5\": 15, \"6\": 16, \"15\": 208, \"10\": 1}, \"0\": {\"0\": 112, \"10\": 65, \"14\": 47, \"2\": 1, \"8\": 12, \"1\": 1, \"7\": 1, \"6\": 1}, \"6\": {\"15\": 13, \"6\": 224, \"10\": 3}, \"3\": {\"3\": 211, \"7\": 23, \"2\": 6}, \"7\": {\"7\": 177, \"8\": 27, \"3\": 21, \"2\": 15}, \"2\": {\"2\": 166, \"3\": 31, \"9\": 3, \"10\": 1, \"7\": 29, \"13\": 2, \"8\": 6, \"14\": 1, \"5\": 1}, \"8\": {\"8\": 192, \"7\": 27, \"0\": 9, \"9\": 9, \"10\": 1, \"2\": 2}, \"11\": {\"11\": 240}, \"14\": {\"14\": 142, \"10\": 32, \"1\": 29, \"0\": 36, \"6\": 1}, \"12\": {\"12\": 240}, \"13\": {\"13\": 199, \"5\": 2, \"2\": 23, \"9\": 12, \"3\": 1, \"7\": 2, \"8\": 1}, \"9\": {\"9\": 208, \"8\": 14, \"13\": 10, \"2\": 4, \"10\": 2, \"0\": 1, \"15\": 1}, \"5\": {\"5\": 228, \"15\": 12}, \"1\": {\"1\": 198, \"14\": 32, \"10\": 9, \"0\": 1}}, \"38\": {\"7\": {\"7\": 236, \"5\": 3, \"8\": 1}, \"2\": {\"2\": 213, \"14\": 27}, \"5\": {\"8\": 89, \"5\": 114, \"7\": 14, \"9\": 19, \"15\": 3, \"14\": 1}, \"6\": {\"6\": 240}, \"13\": {\"13\": 231, \"10\": 4, \"0\": 3, \"14\": 2}, \"4\": {\"4\": 240}, \"3\": {\"3\": 236, \"11\": 4}, \"0\": {\"0\": 138, \"3\": 19, \"10\": 47, \"13\": 14, \"7\": 10, \"4\": 11, \"8\": 1}, \"9\": {\"9\": 240}, \"12\": {\"12\": 240}, \"8\": {\"8\": 158, \"5\": 56, \"7\": 16, \"15\": 2, \"13\": 6, \"0\": 1, \"14\": 1}, \"14\": {\"14\": 202, \"2\": 35, \"13\": 3}, \"15\": {\"15\": 221, \"2\": 10, \"1\": 4, \"8\": 4, \"14\": 1}, \"11\": {\"11\": 193, \"3\": 42, \"6\": 3, \"0\": 1, \"4\": 1}, \"10\": {\"10\": 216, \"13\": 11, \"4\": 3, \"0\": 6, \"3\": 3, \"7\": 1}, \"1\": {\"1\": 240}}, \"14\": {\"11\": {\"11\": 240}, \"7\": {\"7\": 240}, \"6\": {\"6\": 163, \"2\": 11, \"14\": 13, \"13\": 52, \"3\": 1}, \"12\": {\"12\": 240}, \"4\": {\"4\": 227, \"5\": 10, \"2\": 3}, \"13\": {\"6\": 61, \"3\": 7, \"14\": 86, \"13\": 61, \"4\": 3, \"15\": 13, \"2\": 8, \"5\": 1}, \"8\": {\"8\": 240}, \"5\": {\"5\": 223, \"2\": 10, \"4\": 6, \"3\": 1}, \"14\": {\"14\": 191, \"2\": 7, \"13\": 35, \"6\": 6, \"5\": 1}, \"3\": {\"3\": 235, \"0\": 3, \"2\": 1, \"5\": 1}, \"10\": {\"10\": 240}, \"1\": {\"1\": 239, \"4\": 1}, \"2\": {\"6\": 17, \"2\": 104, \"14\": 44, \"4\": 9, \"13\": 25, \"5\": 38, \"1\": 1, \"3\": 2}, \"15\": {\"15\": 240}, \"9\": {\"9\": 240}, \"0\": {\"0\": 231, \"3\": 7, \"10\": 1, \"14\": 1}}, \"44\": {\"10\": {\"10\": 202, \"7\": 20, \"2\": 12, \"1\": 6}, \"6\": {\"9\": 14, \"6\": 202, \"13\": 24}, \"13\": {\"13\": 213, \"9\": 3, \"6\": 24}, \"3\": {\"3\": 238, \"12\": 2}, \"9\": {\"7\": 82, \"2\": 9, \"9\": 99, \"13\": 25, \"6\": 22, \"10\": 3}, \"1\": {\"1\": 234, \"2\": 6}, \"5\": {\"5\": 211, \"15\": 20, \"0\": 1, \"8\": 3, \"14\": 5}, \"11\": {\"11\": 240}, \"4\": {\"14\": 82, \"4\": 152, \"15\": 3, \"9\": 1, \"13\": 2}, \"14\": {\"14\": 179, \"5\": 9, \"4\": 44, \"15\": 8}, \"12\": {\"12\": 234, \"3\": 6}, \"7\": {\"7\": 208, \"9\": 21, \"10\": 11}, \"0\": {\"0\": 226, \"8\": 14}, \"15\": {\"15\": 198, \"5\": 21, \"8\": 6, \"14\": 15}, \"2\": {\"2\": 239, \"1\": 1}, \"8\": {\"8\": 188, \"0\": 40, \"5\": 9, \"15\": 3}}}, \"per_domain_accuracy\": {\"8\": {\"accuracy\": 0.9463541666666667, \"source?\": true}, \"50\": {\"accuracy\": 0.9744791666666667, \"source?\": true}, \"32\": {\"accuracy\": 0.9515625, \"source?\": true}, \"20\": {\"accuracy\": 0.9083333333333333, \"source?\": false}, \"26\": {\"accuracy\": 0.8197916666666667, \"source?\": false}, \"38\": {\"accuracy\": 0.8744791666666667, \"source?\": false}, \"14\": {\"accuracy\": 0.8734375, \"source?\": false}, \"44\": {\"accuracy\": 0.8497395833333333, \"source?\": false}}}, \"history\": {\"epoch_indices\": [1, 2, 3, 4, 5, 6, 7, 8, 9, 10, 11, 12, 13, 14, 15, 16], \"train_label_loss\": [0.46167752460266154, 5.000803924731482, 0.2208261322359451, 0.1446029933882759, 0.1437813976807298, 0.1369264945713064, 0.1294896166001092, 0.11667638260102924, 0.10628128083942953, 0.09897424894498684, 0.09359934370043606, 0.1037027881568296, 0.08220279972132023, 0.08032051638571526, 0.07925351484547487, 0.07615327701179402], \"source_val_label_loss\": [91.41084289550781, 0.3714139759540558, 0.15915831923484802, 0.14252789318561554, 0.14286169409751892, 0.13728192448616028, 0.12735138833522797, 0.11037659645080566, 0.145738884806633, 0.11330237984657288, 0.11590024083852768, 0.12209286540746689, 0.10811928659677505, 0.11897874623537064, 0.13592089712619781, 0.10714682936668396], \"target_val_label_loss\": [100.15045166015625, 1.6792926788330078, 1.3249207735061646, 1.3391590118408203, 1.4214221239089966, 1.601339340209961, 1.9466683864593506, 1.8460065126419067, 2.158930540084839, 2.1206986904144287, 2.2423293590545654, 0.4604946970939636, 0.843656599521637, 1.434393286705017, 1.211753010749817, 1.2730324268341064], \"source_val_acc_label\": [0.7247395833333333, 0.9091145833333333, 0.9475694444444445, 0.95078125, 0.95078125, 0.9521701388888889, 0.9546875, 0.9626736111111112, 0.9485243055555556, 0.9620659722222222, 0.96171875, 0.9574652777777778, 0.9618055555555556, 0.9578125, 0.95390625, 0.9640625], \"target_val_acc_label\": [0.5247916666666667, 0.766875, 0.8232291666666667, 0.8316145833333334, 0.8476041666666667, 0.8401041666666667, 0.8378125, 0.8522916666666667, 0.8284895833333333, 0.8520833333333333, 0.8373958333333333, 0.86515625, 0.8541666666666666, 0.8328645833333334, 0.8266145833333334, 0.8565104166666667]}, \"dataset_metrics\": {\"source\": {\"train\": {\"n_unique_x\": 67200, \"n_unique_y\": 16, \"n_batch/episode\": 2520}, \"val\": {\"n_unique_x\": 14400, \"n_unique_y\": 16, \"n_batch/episode\": 360}, \"test\": {\"n_unique_x\": 14400, \"n_unique_y\": 16, \"n_batch/episode\": 360}}, \"target\": {\"train\": {\"n_unique_x\": 112000, \"n_unique_y\": 16, \"n_batch/episode\": 4200}, \"val\": {\"n_unique_x\": 24000, \"n_unique_y\": 16, \"n_batch/episode\": 600}, \"test\": {\"n_unique_x\": 24000, \"n_unique_y\": 16, \"n_batch/episode\": 600}}}}'"
      ]
     },
     "execution_count": 20,
     "metadata": {},
     "output_type": "execute_result"
    }
   ],
   "source": [
    "json.dumps(experiment)"
   ]
  }
 ],
 "metadata": {
  "celltoolbar": "Tags",
  "kernelspec": {
   "display_name": "Python 3 (ipykernel)",
   "language": "python",
   "name": "python3"
  },
  "language_info": {
   "codemirror_mode": {
    "name": "ipython",
    "version": 3
   },
   "file_extension": ".py",
   "mimetype": "text/x-python",
   "name": "python",
   "nbconvert_exporter": "python",
   "pygments_lexer": "ipython3",
   "version": "3.8.12"
  },
  "papermill": {
   "default_parameters": {},
   "duration": 1928.55814,
   "end_time": "2022-03-25T22:27:54.535854",
   "environment_variables": {},
   "exception": null,
   "input_path": "/root/csc500-main/csc500-notebooks/templates/ptn_template.ipynb",
   "output_path": "trial.ipynb",
   "parameters": {
    "parameters": {
     "BEST_MODEL_PATH": "./best_model.pth",
     "NUM_LOGS_PER_EPOCH": 10,
     "criteria_for_best": "target_accuracy",
     "dataset_seed": 420,
     "device": "cuda",
     "domains_source": [
      8,
      32,
      50
     ],
     "domains_target": [
      14,
      20,
      26,
      38,
      44
     ],
     "episode_transforms_source": [],
     "episode_transforms_target": [],
     "experiment_name": "tuned_1v2:oracle.run1.framed",
     "labels_source": [
      "3123D52",
      "3123D65",
      "3123D79",
      "3123D80",
      "3123D54",
      "3123D70",
      "3123D7B",
      "3123D89",
      "3123D58",
      "3123D76",
      "3123D7D",
      "3123EFE",
      "3123D64",
      "3123D78",
      "3123D7E",
      "3124E4A"
     ],
     "labels_target": [
      "3123D52",
      "3123D65",
      "3123D79",
      "3123D80",
      "3123D54",
      "3123D70",
      "3123D7B",
      "3123D89",
      "3123D58",
      "3123D76",
      "3123D7D",
      "3123EFE",
      "3123D64",
      "3123D78",
      "3123D7E",
      "3124E4A"
     ],
     "lr": 0.0001,
     "n_epoch": 50,
     "n_query": 2,
     "n_shot": 3,
     "n_way": 16,
     "num_examples_per_domain_per_label_source": -1,
     "num_examples_per_domain_per_label_target": -1,
     "patience": 3,
     "pickle_name": "oracle.Run1_framed_2000Examples_stratified_ds.2022A.pkl",
     "seed": 420,
     "test_k_factor": 2,
     "torch_default_dtype": "torch.float32",
     "train_k_factor": 3,
     "val_k_factor": 2,
     "x_net": [
      {
       "class": "nnReshape",
       "kargs": {
        "shape": [
         -1,
         1,
         2,
         256
        ]
       }
      },
      {
       "class": "Conv2d",
       "kargs": {
        "bias": false,
        "in_channels": 1,
        "kernel_size": [
         1,
         7
        ],
        "out_channels": 256,
        "padding": [
         0,
         3
        ]
       }
      },
      {
       "class": "ReLU",
       "kargs": {
        "inplace": true
       }
      },
      {
       "class": "BatchNorm2d",
       "kargs": {
        "num_features": 256
       }
      },
      {
       "class": "Conv2d",
       "kargs": {
        "bias": true,
        "in_channels": 256,
        "kernel_size": [
         2,
         7
        ],
        "out_channels": 80,
        "padding": [
         0,
         3
        ]
       }
      },
      {
       "class": "ReLU",
       "kargs": {
        "inplace": true
       }
      },
      {
       "class": "BatchNorm2d",
       "kargs": {
        "num_features": 80
       }
      },
      {
       "class": "Flatten",
       "kargs": {}
      },
      {
       "class": "Linear",
       "kargs": {
        "in_features": 20480,
        "out_features": 256
       }
      },
      {
       "class": "ReLU",
       "kargs": {
        "inplace": true
       }
      },
      {
       "class": "BatchNorm1d",
       "kargs": {
        "num_features": 256
       }
      },
      {
       "class": "Linear",
       "kargs": {
        "in_features": 256,
        "out_features": 256
       }
      }
     ],
     "x_transforms_source": [],
     "x_transforms_target": []
    }
   },
   "start_time": "2022-03-25T21:55:45.977714",
   "version": "2.3.4"
  }
 },
 "nbformat": 4,
 "nbformat_minor": 5
}