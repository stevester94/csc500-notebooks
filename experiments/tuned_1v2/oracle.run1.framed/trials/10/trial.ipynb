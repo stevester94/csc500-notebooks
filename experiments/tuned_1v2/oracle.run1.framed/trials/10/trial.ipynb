{
 "cells": [
  {
   "cell_type": "markdown",
   "id": "9fea5f46",
   "metadata": {
    "papermill": {
     "duration": 0.021194,
     "end_time": "2022-03-25T22:49:14.672165",
     "exception": false,
     "start_time": "2022-03-25T22:49:14.650971",
     "status": "completed"
    },
    "tags": []
   },
   "source": [
    "# PTN Template\n",
    "This notebook serves as a template for single dataset PTN experiments  \n",
    "It can be run on its own by setting STANDALONE to True (do a find for \"STANDALONE\" to see where)  \n",
    "But it is intended to be executed as part of a *papermill.py script. See any of the   \n",
    "experimentes with a papermill script to get started with that workflow.  "
   ]
  },
  {
   "cell_type": "code",
   "execution_count": 1,
   "id": "0902182a",
   "metadata": {
    "execution": {
     "iopub.execute_input": "2022-03-25T22:49:14.722601Z",
     "iopub.status.busy": "2022-03-25T22:49:14.721754Z",
     "iopub.status.idle": "2022-03-25T22:49:16.725117Z",
     "shell.execute_reply": "2022-03-25T22:49:16.724681Z"
    },
    "papermill": {
     "duration": 2.0362,
     "end_time": "2022-03-25T22:49:16.725232",
     "exception": false,
     "start_time": "2022-03-25T22:49:14.689032",
     "status": "completed"
    },
    "tags": []
   },
   "outputs": [],
   "source": [
    "%load_ext autoreload\n",
    "%autoreload 2\n",
    "%matplotlib inline\n",
    "\n",
    "    \n",
    "import os, json, sys, time, random\n",
    "import numpy as np\n",
    "import torch\n",
    "from torch.optim import Adam\n",
    "from  easydict import EasyDict\n",
    "import matplotlib.pyplot as plt\n",
    "\n",
    "from steves_models.steves_ptn import Steves_Prototypical_Network\n",
    "\n",
    "from steves_utils.lazy_iterable_wrapper import Lazy_Iterable_Wrapper\n",
    "from steves_utils.iterable_aggregator import Iterable_Aggregator\n",
    "from steves_utils.ptn_train_eval_test_jig import  PTN_Train_Eval_Test_Jig\n",
    "from steves_utils.torch_sequential_builder import build_sequential\n",
    "from steves_utils.torch_utils import get_dataset_metrics, ptn_confusion_by_domain_over_dataloader\n",
    "from steves_utils.utils_v2 import (per_domain_accuracy_from_confusion, get_datasets_base_path)\n",
    "from steves_utils.PTN.utils import independent_accuracy_assesment\n",
    "\n",
    "from steves_utils.stratified_dataset.episodic_accessor import Episodic_Accessor_Factory\n",
    "\n",
    "from steves_utils.ptn_do_report import (\n",
    "    get_loss_curve,\n",
    "    get_results_table,\n",
    "    get_parameters_table,\n",
    "    get_domain_accuracies,\n",
    ")\n",
    "\n",
    "from steves_utils.transforms import get_chained_transform"
   ]
  },
  {
   "cell_type": "markdown",
   "id": "41c840b4",
   "metadata": {
    "papermill": {
     "duration": 0.014548,
     "end_time": "2022-03-25T22:49:16.754255",
     "exception": false,
     "start_time": "2022-03-25T22:49:16.739707",
     "status": "completed"
    },
    "tags": []
   },
   "source": [
    "# Required Parameters\n",
    "These are allowed parameters, not defaults\n",
    "Each of these values need to be present in the injected parameters (the notebook will raise an exception if they are not present)\n",
    "\n",
    "Papermill uses the cell tag \"parameters\" to inject the real parameters below this cell.\n",
    "Enable tags to see what I mean"
   ]
  },
  {
   "cell_type": "code",
   "execution_count": 2,
   "id": "fd44eb83",
   "metadata": {
    "execution": {
     "iopub.execute_input": "2022-03-25T22:49:16.787999Z",
     "iopub.status.busy": "2022-03-25T22:49:16.787573Z",
     "iopub.status.idle": "2022-03-25T22:49:16.807771Z",
     "shell.execute_reply": "2022-03-25T22:49:16.808407Z"
    },
    "papermill": {
     "duration": 0.040431,
     "end_time": "2022-03-25T22:49:16.808628",
     "exception": false,
     "start_time": "2022-03-25T22:49:16.768197",
     "status": "completed"
    },
    "tags": []
   },
   "outputs": [],
   "source": [
    "required_parameters = {\n",
    "    \"experiment_name\",\n",
    "    \"lr\",\n",
    "    \"device\",\n",
    "    \"seed\",\n",
    "    \"dataset_seed\",\n",
    "    \"labels_source\",\n",
    "    \"labels_target\",\n",
    "    \"domains_source\",\n",
    "    \"domains_target\",\n",
    "    \"num_examples_per_domain_per_label_source\",\n",
    "    \"num_examples_per_domain_per_label_target\",\n",
    "    \"n_shot\",\n",
    "    \"n_way\",\n",
    "    \"n_query\",\n",
    "    \"train_k_factor\",\n",
    "    \"val_k_factor\",\n",
    "    \"test_k_factor\",\n",
    "    \"n_epoch\",\n",
    "    \"patience\",\n",
    "    \"criteria_for_best\",\n",
    "    \"x_transforms_source\",\n",
    "    \"x_transforms_target\",\n",
    "    \"episode_transforms_source\",\n",
    "    \"episode_transforms_target\",\n",
    "    \"pickle_name\",\n",
    "    \"x_net\",\n",
    "    \"NUM_LOGS_PER_EPOCH\",\n",
    "    \"BEST_MODEL_PATH\",\n",
    "    \"torch_default_dtype\"\n",
    "}"
   ]
  },
  {
   "cell_type": "code",
   "execution_count": 3,
   "id": "fa3f0049",
   "metadata": {
    "execution": {
     "iopub.execute_input": "2022-03-25T22:49:16.860775Z",
     "iopub.status.busy": "2022-03-25T22:49:16.859775Z",
     "iopub.status.idle": "2022-03-25T22:49:16.879012Z",
     "shell.execute_reply": "2022-03-25T22:49:16.879802Z"
    },
    "papermill": {
     "duration": 0.050097,
     "end_time": "2022-03-25T22:49:16.880110",
     "exception": false,
     "start_time": "2022-03-25T22:49:16.830013",
     "status": "completed"
    },
    "tags": [
     "parameters"
    ]
   },
   "outputs": [],
   "source": [
    "\n",
    "\n",
    "standalone_parameters = {}\n",
    "standalone_parameters[\"experiment_name\"] = \"STANDALONE PTN\"\n",
    "standalone_parameters[\"lr\"] = 0.0001\n",
    "standalone_parameters[\"device\"] = \"cuda\"\n",
    "\n",
    "standalone_parameters[\"seed\"] = 1337\n",
    "standalone_parameters[\"dataset_seed\"] = 1337\n",
    "\n",
    "\n",
    "standalone_parameters[\"num_examples_per_domain_per_label_source\"]=100\n",
    "standalone_parameters[\"num_examples_per_domain_per_label_target\"]=100\n",
    "\n",
    "standalone_parameters[\"n_shot\"] = 3\n",
    "standalone_parameters[\"n_query\"]  = 2\n",
    "standalone_parameters[\"train_k_factor\"] = 1\n",
    "standalone_parameters[\"val_k_factor\"] = 2\n",
    "standalone_parameters[\"test_k_factor\"] = 2\n",
    "\n",
    "\n",
    "standalone_parameters[\"n_epoch\"] = 100\n",
    "\n",
    "standalone_parameters[\"patience\"] = 10\n",
    "standalone_parameters[\"criteria_for_best\"] = \"target_accuracy\"\n",
    "\n",
    "standalone_parameters[\"x_transforms_source\"] = [\"unit_power\"]\n",
    "standalone_parameters[\"x_transforms_target\"] = [\"unit_power\"]\n",
    "standalone_parameters[\"episode_transforms_source\"] = []\n",
    "standalone_parameters[\"episode_transforms_target\"] = []\n",
    "\n",
    "standalone_parameters[\"torch_default_dtype\"] = \"torch.float32\" \n",
    "\n",
    "\n",
    "\n",
    "standalone_parameters[\"x_net\"] =     [\n",
    "    {\"class\": \"nnReshape\", \"kargs\": {\"shape\":[-1, 1, 2, 256]}},\n",
    "    {\"class\": \"Conv2d\", \"kargs\": { \"in_channels\":1, \"out_channels\":256, \"kernel_size\":(1,7), \"bias\":False, \"padding\":(0,3), },},\n",
    "    {\"class\": \"ReLU\", \"kargs\": {\"inplace\": True}},\n",
    "    {\"class\": \"BatchNorm2d\", \"kargs\": {\"num_features\":256}},\n",
    "\n",
    "    {\"class\": \"Conv2d\", \"kargs\": { \"in_channels\":256, \"out_channels\":80, \"kernel_size\":(2,7), \"bias\":True, \"padding\":(0,3), },},\n",
    "    {\"class\": \"ReLU\", \"kargs\": {\"inplace\": True}},\n",
    "    {\"class\": \"BatchNorm2d\", \"kargs\": {\"num_features\":80}},\n",
    "    {\"class\": \"Flatten\", \"kargs\": {}},\n",
    "\n",
    "    {\"class\": \"Linear\", \"kargs\": {\"in_features\": 80*256, \"out_features\": 256}}, # 80 units per IQ pair\n",
    "    {\"class\": \"ReLU\", \"kargs\": {\"inplace\": True}},\n",
    "    {\"class\": \"BatchNorm1d\", \"kargs\": {\"num_features\":256}},\n",
    "\n",
    "    {\"class\": \"Linear\", \"kargs\": {\"in_features\": 256, \"out_features\": 256}},\n",
    "]\n",
    "\n",
    "# Parameters relevant to results\n",
    "# These parameters will basically never need to change\n",
    "standalone_parameters[\"NUM_LOGS_PER_EPOCH\"] = 10\n",
    "standalone_parameters[\"BEST_MODEL_PATH\"] = \"./best_model.pth\"\n",
    "\n",
    "# uncomment for CORES dataset\n",
    "from steves_utils.CORES.utils import (\n",
    "    ALL_NODES,\n",
    "    ALL_NODES_MINIMUM_1000_EXAMPLES,\n",
    "    ALL_DAYS\n",
    ")\n",
    "\n",
    "\n",
    "standalone_parameters[\"labels_source\"] = ALL_NODES\n",
    "standalone_parameters[\"labels_target\"] = ALL_NODES\n",
    "\n",
    "standalone_parameters[\"domains_source\"] = [1]\n",
    "standalone_parameters[\"domains_target\"] = [2,3,4,5]\n",
    "\n",
    "standalone_parameters[\"pickle_name\"] = \"cores.stratified_ds.2022A.pkl\"\n",
    "\n",
    "\n",
    "# Uncomment these for ORACLE dataset\n",
    "# from steves_utils.ORACLE.utils_v2 import (\n",
    "#     ALL_DISTANCES_FEET,\n",
    "#     ALL_RUNS,\n",
    "#     ALL_SERIAL_NUMBERS,\n",
    "# )\n",
    "# standalone_parameters[\"labels_source\"] = ALL_SERIAL_NUMBERS\n",
    "# standalone_parameters[\"labels_target\"] = ALL_SERIAL_NUMBERS\n",
    "# standalone_parameters[\"domains_source\"] = [8,20, 38,50]\n",
    "# standalone_parameters[\"domains_target\"] = [14, 26, 32, 44, 56]\n",
    "# standalone_parameters[\"pickle_name\"] = \"oracle.frame_indexed.stratified_ds.2022A.pkl\"\n",
    "# standalone_parameters[\"num_examples_per_domain_per_label_source\"]=1000\n",
    "# standalone_parameters[\"num_examples_per_domain_per_label_target\"]=1000\n",
    "\n",
    "# Uncomment these for Metahan dataset\n",
    "# standalone_parameters[\"labels_source\"] = list(range(19))\n",
    "# standalone_parameters[\"labels_target\"] = list(range(19))\n",
    "# standalone_parameters[\"domains_source\"] = [0]\n",
    "# standalone_parameters[\"domains_target\"] = [1]\n",
    "# standalone_parameters[\"pickle_name\"] = \"metehan.stratified_ds.2022A.pkl\"\n",
    "# standalone_parameters[\"n_way\"]  = len(standalone_parameters[\"labels_source\"])\n",
    "# standalone_parameters[\"num_examples_per_domain_per_label_source\"]=200\n",
    "# standalone_parameters[\"num_examples_per_domain_per_label_target\"]=100\n",
    "\n",
    "\n",
    "standalone_parameters[\"n_way\"]  = len(standalone_parameters[\"labels_source\"])"
   ]
  },
  {
   "cell_type": "code",
   "execution_count": 4,
   "id": "876436ff",
   "metadata": {
    "execution": {
     "iopub.execute_input": "2022-03-25T22:49:16.922142Z",
     "iopub.status.busy": "2022-03-25T22:49:16.921728Z",
     "iopub.status.idle": "2022-03-25T22:49:16.939399Z",
     "shell.execute_reply": "2022-03-25T22:49:16.938684Z"
    },
    "papermill": {
     "duration": 0.038546,
     "end_time": "2022-03-25T22:49:16.939606",
     "exception": false,
     "start_time": "2022-03-25T22:49:16.901060",
     "status": "completed"
    },
    "tags": [
     "injected-parameters"
    ]
   },
   "outputs": [],
   "source": [
    "# Parameters\n",
    "parameters = {\n",
    "    \"experiment_name\": \"tuned_1v2:oracle.run1.framed\",\n",
    "    \"device\": \"cuda\",\n",
    "    \"lr\": 0.0001,\n",
    "    \"labels_source\": [\n",
    "        \"3123D52\",\n",
    "        \"3123D65\",\n",
    "        \"3123D79\",\n",
    "        \"3123D80\",\n",
    "        \"3123D54\",\n",
    "        \"3123D70\",\n",
    "        \"3123D7B\",\n",
    "        \"3123D89\",\n",
    "        \"3123D58\",\n",
    "        \"3123D76\",\n",
    "        \"3123D7D\",\n",
    "        \"3123EFE\",\n",
    "        \"3123D64\",\n",
    "        \"3123D78\",\n",
    "        \"3123D7E\",\n",
    "        \"3124E4A\",\n",
    "    ],\n",
    "    \"labels_target\": [\n",
    "        \"3123D52\",\n",
    "        \"3123D65\",\n",
    "        \"3123D79\",\n",
    "        \"3123D80\",\n",
    "        \"3123D54\",\n",
    "        \"3123D70\",\n",
    "        \"3123D7B\",\n",
    "        \"3123D89\",\n",
    "        \"3123D58\",\n",
    "        \"3123D76\",\n",
    "        \"3123D7D\",\n",
    "        \"3123EFE\",\n",
    "        \"3123D64\",\n",
    "        \"3123D78\",\n",
    "        \"3123D7E\",\n",
    "        \"3124E4A\",\n",
    "    ],\n",
    "    \"episode_transforms_source\": [],\n",
    "    \"episode_transforms_target\": [],\n",
    "    \"domains_source\": [8, 32, 50],\n",
    "    \"domains_target\": [14, 20, 26, 38, 44],\n",
    "    \"num_examples_per_domain_per_label_source\": -1,\n",
    "    \"num_examples_per_domain_per_label_target\": -1,\n",
    "    \"n_shot\": 3,\n",
    "    \"n_way\": 16,\n",
    "    \"n_query\": 2,\n",
    "    \"train_k_factor\": 3,\n",
    "    \"val_k_factor\": 2,\n",
    "    \"test_k_factor\": 2,\n",
    "    \"torch_default_dtype\": \"torch.float32\",\n",
    "    \"n_epoch\": 50,\n",
    "    \"patience\": 3,\n",
    "    \"criteria_for_best\": \"target_accuracy\",\n",
    "    \"x_net\": [\n",
    "        {\"class\": \"nnReshape\", \"kargs\": {\"shape\": [-1, 1, 2, 256]}},\n",
    "        {\n",
    "            \"class\": \"Conv2d\",\n",
    "            \"kargs\": {\n",
    "                \"in_channels\": 1,\n",
    "                \"out_channels\": 256,\n",
    "                \"kernel_size\": [1, 7],\n",
    "                \"bias\": False,\n",
    "                \"padding\": [0, 3],\n",
    "            },\n",
    "        },\n",
    "        {\"class\": \"ReLU\", \"kargs\": {\"inplace\": True}},\n",
    "        {\"class\": \"BatchNorm2d\", \"kargs\": {\"num_features\": 256}},\n",
    "        {\n",
    "            \"class\": \"Conv2d\",\n",
    "            \"kargs\": {\n",
    "                \"in_channels\": 256,\n",
    "                \"out_channels\": 80,\n",
    "                \"kernel_size\": [2, 7],\n",
    "                \"bias\": True,\n",
    "                \"padding\": [0, 3],\n",
    "            },\n",
    "        },\n",
    "        {\"class\": \"ReLU\", \"kargs\": {\"inplace\": True}},\n",
    "        {\"class\": \"BatchNorm2d\", \"kargs\": {\"num_features\": 80}},\n",
    "        {\"class\": \"Flatten\", \"kargs\": {}},\n",
    "        {\"class\": \"Linear\", \"kargs\": {\"in_features\": 20480, \"out_features\": 256}},\n",
    "        {\"class\": \"ReLU\", \"kargs\": {\"inplace\": True}},\n",
    "        {\"class\": \"BatchNorm1d\", \"kargs\": {\"num_features\": 256}},\n",
    "        {\"class\": \"Linear\", \"kargs\": {\"in_features\": 256, \"out_features\": 256}},\n",
    "    ],\n",
    "    \"NUM_LOGS_PER_EPOCH\": 10,\n",
    "    \"BEST_MODEL_PATH\": \"./best_model.pth\",\n",
    "    \"pickle_name\": \"oracle.Run1_framed_2000Examples_stratified_ds.2022A.pkl\",\n",
    "    \"x_transforms_source\": [\"unit_power\"],\n",
    "    \"x_transforms_target\": [\"unit_power\"],\n",
    "    \"dataset_seed\": 500,\n",
    "    \"seed\": 500,\n",
    "}\n"
   ]
  },
  {
   "cell_type": "code",
   "execution_count": 5,
   "id": "8fa1cc33",
   "metadata": {
    "execution": {
     "iopub.execute_input": "2022-03-25T22:49:16.982574Z",
     "iopub.status.busy": "2022-03-25T22:49:16.982164Z",
     "iopub.status.idle": "2022-03-25T22:49:17.002776Z",
     "shell.execute_reply": "2022-03-25T22:49:17.003422Z"
    },
    "papermill": {
     "duration": 0.042521,
     "end_time": "2022-03-25T22:49:17.003699",
     "exception": false,
     "start_time": "2022-03-25T22:49:16.961178",
     "status": "completed"
    },
    "tags": []
   },
   "outputs": [],
   "source": [
    "# Set this to True if you want to run this template directly\n",
    "STANDALONE = False\n",
    "if STANDALONE:\n",
    "    print(\"parameters not injected, running with standalone_parameters\")\n",
    "    parameters = standalone_parameters\n",
    "\n",
    "if not 'parameters' in locals() and not 'parameters' in globals():\n",
    "    raise Exception(\"Parameter injection failed\")\n",
    "\n",
    "#Use an easy dict for all the parameters\n",
    "p = EasyDict(parameters)\n",
    "\n",
    "supplied_keys = set(p.keys())\n",
    "\n",
    "if  supplied_keys != required_parameters:\n",
    "    print(\"Parameters are incorrect\")\n",
    "    if len(supplied_keys - required_parameters)>0: print(\"Shouldn't have:\", str(supplied_keys - required_parameters))\n",
    "    if len(required_parameters - supplied_keys)>0: print(\"Need to have:\", str(required_parameters - supplied_keys))\n",
    "    raise RuntimeError(\"Parameters are incorrect\")\n",
    "\n"
   ]
  },
  {
   "cell_type": "code",
   "execution_count": 6,
   "id": "3a028d58",
   "metadata": {
    "execution": {
     "iopub.execute_input": "2022-03-25T22:49:17.047982Z",
     "iopub.status.busy": "2022-03-25T22:49:17.047593Z",
     "iopub.status.idle": "2022-03-25T22:49:17.076352Z",
     "shell.execute_reply": "2022-03-25T22:49:17.075615Z"
    },
    "papermill": {
     "duration": 0.048067,
     "end_time": "2022-03-25T22:49:17.076553",
     "exception": false,
     "start_time": "2022-03-25T22:49:17.028486",
     "status": "completed"
    },
    "tags": []
   },
   "outputs": [],
   "source": [
    "###################################\n",
    "# Set the RNGs and make it all deterministic\n",
    "###################################\n",
    "np.random.seed(p.seed)\n",
    "random.seed(p.seed)\n",
    "torch.manual_seed(p.seed)\n",
    "\n",
    "torch.use_deterministic_algorithms(True) "
   ]
  },
  {
   "cell_type": "code",
   "execution_count": 7,
   "id": "b691acf6",
   "metadata": {
    "execution": {
     "iopub.execute_input": "2022-03-25T22:49:17.115490Z",
     "iopub.status.busy": "2022-03-25T22:49:17.114161Z",
     "iopub.status.idle": "2022-03-25T22:49:17.143489Z",
     "shell.execute_reply": "2022-03-25T22:49:17.142735Z"
    },
    "papermill": {
     "duration": 0.047865,
     "end_time": "2022-03-25T22:49:17.143712",
     "exception": false,
     "start_time": "2022-03-25T22:49:17.095847",
     "status": "completed"
    },
    "tags": []
   },
   "outputs": [],
   "source": [
    "###########################################\n",
    "# The stratified datasets honor this\n",
    "###########################################\n",
    "torch.set_default_dtype(eval(p.torch_default_dtype))"
   ]
  },
  {
   "cell_type": "code",
   "execution_count": 8,
   "id": "b5fba671",
   "metadata": {
    "execution": {
     "iopub.execute_input": "2022-03-25T22:49:17.192423Z",
     "iopub.status.busy": "2022-03-25T22:49:17.192054Z",
     "iopub.status.idle": "2022-03-25T22:49:17.252863Z",
     "shell.execute_reply": "2022-03-25T22:49:17.252157Z"
    },
    "papermill": {
     "duration": 0.087027,
     "end_time": "2022-03-25T22:49:17.253031",
     "exception": false,
     "start_time": "2022-03-25T22:49:17.166004",
     "status": "completed"
    },
    "tags": []
   },
   "outputs": [],
   "source": [
    "###################################\n",
    "# Build the network(s)\n",
    "# Note: It's critical to do this AFTER setting the RNG\n",
    "# (This is due to the randomized initial weights)\n",
    "###################################\n",
    "x_net = build_sequential(p.x_net)"
   ]
  },
  {
   "cell_type": "code",
   "execution_count": 9,
   "id": "5d7e61cc",
   "metadata": {
    "execution": {
     "iopub.execute_input": "2022-03-25T22:49:17.294529Z",
     "iopub.status.busy": "2022-03-25T22:49:17.293952Z",
     "iopub.status.idle": "2022-03-25T22:49:17.319505Z",
     "shell.execute_reply": "2022-03-25T22:49:17.318810Z"
    },
    "papermill": {
     "duration": 0.04411,
     "end_time": "2022-03-25T22:49:17.319672",
     "exception": false,
     "start_time": "2022-03-25T22:49:17.275562",
     "status": "completed"
    },
    "tags": []
   },
   "outputs": [],
   "source": [
    "start_time_secs = time.time()"
   ]
  },
  {
   "cell_type": "code",
   "execution_count": 10,
   "id": "fd5442bc",
   "metadata": {
    "execution": {
     "iopub.execute_input": "2022-03-25T22:49:17.371441Z",
     "iopub.status.busy": "2022-03-25T22:49:17.370765Z",
     "iopub.status.idle": "2022-03-25T22:49:39.341673Z",
     "shell.execute_reply": "2022-03-25T22:49:39.340925Z"
    },
    "papermill": {
     "duration": 21.998856,
     "end_time": "2022-03-25T22:49:39.341851",
     "exception": false,
     "start_time": "2022-03-25T22:49:17.342995",
     "status": "completed"
    },
    "tags": []
   },
   "outputs": [],
   "source": [
    "###################################\n",
    "# Build the dataset\n",
    "###################################\n",
    "\n",
    "if p.x_transforms_source == []: x_transform_source = None\n",
    "else: x_transform_source = get_chained_transform(p.x_transforms_source) \n",
    "\n",
    "if p.x_transforms_target == []: x_transform_target = None\n",
    "else: x_transform_target = get_chained_transform(p.x_transforms_target)\n",
    "\n",
    "if p.episode_transforms_source == []: episode_transform_source = None\n",
    "else: raise Exception(\"episode_transform_source not implemented\")\n",
    "\n",
    "if p.episode_transforms_target == []: episode_transform_target = None\n",
    "else: raise Exception(\"episode_transform_target not implemented\")\n",
    "\n",
    "\n",
    "eaf_source = Episodic_Accessor_Factory(\n",
    "    labels=p.labels_source,\n",
    "    domains=p.domains_source,\n",
    "    num_examples_per_domain_per_label=p.num_examples_per_domain_per_label_source,\n",
    "    iterator_seed=p.seed,\n",
    "    dataset_seed=p.dataset_seed,\n",
    "    n_shot=p.n_shot,\n",
    "    n_way=p.n_way,\n",
    "    n_query=p.n_query,\n",
    "    train_val_test_k_factors=(p.train_k_factor,p.val_k_factor,p.test_k_factor),\n",
    "    pickle_path=os.path.join(get_datasets_base_path(), p.pickle_name),\n",
    "    x_transform_func=x_transform_source,\n",
    "    example_transform_func=episode_transform_source,\n",
    "    \n",
    ")\n",
    "train_original_source, val_original_source, test_original_source = eaf_source.get_train(), eaf_source.get_val(), eaf_source.get_test()\n",
    "\n",
    "\n",
    "eaf_target = Episodic_Accessor_Factory(\n",
    "    labels=p.labels_target,\n",
    "    domains=p.domains_target,\n",
    "    num_examples_per_domain_per_label=p.num_examples_per_domain_per_label_target,\n",
    "    iterator_seed=p.seed,\n",
    "    dataset_seed=p.dataset_seed,\n",
    "    n_shot=p.n_shot,\n",
    "    n_way=p.n_way,\n",
    "    n_query=p.n_query,\n",
    "    train_val_test_k_factors=(p.train_k_factor,p.val_k_factor,p.test_k_factor),\n",
    "    pickle_path=os.path.join(get_datasets_base_path(), p.pickle_name),\n",
    "    x_transform_func=x_transform_target,\n",
    "    example_transform_func=episode_transform_target,\n",
    ")\n",
    "train_original_target, val_original_target, test_original_target = eaf_target.get_train(), eaf_target.get_val(), eaf_target.get_test()\n",
    "\n",
    "\n",
    "transform_lambda = lambda ex: ex[1] # Original is (<domain>, <episode>) so we strip down to episode only\n",
    "\n",
    "train_processed_source = Lazy_Iterable_Wrapper(train_original_source, transform_lambda)\n",
    "val_processed_source   = Lazy_Iterable_Wrapper(val_original_source, transform_lambda)\n",
    "test_processed_source  = Lazy_Iterable_Wrapper(test_original_source, transform_lambda)\n",
    "\n",
    "train_processed_target = Lazy_Iterable_Wrapper(train_original_target, transform_lambda)\n",
    "val_processed_target   = Lazy_Iterable_Wrapper(val_original_target, transform_lambda)\n",
    "test_processed_target  = Lazy_Iterable_Wrapper(test_original_target, transform_lambda)\n",
    "\n",
    "datasets = EasyDict({\n",
    "    \"source\": {\n",
    "        \"original\": {\"train\":train_original_source, \"val\":val_original_source, \"test\":test_original_source},\n",
    "        \"processed\": {\"train\":train_processed_source, \"val\":val_processed_source, \"test\":test_processed_source}\n",
    "    },\n",
    "    \"target\": {\n",
    "        \"original\": {\"train\":train_original_target, \"val\":val_original_target, \"test\":test_original_target},\n",
    "        \"processed\": {\"train\":train_processed_target, \"val\":val_processed_target, \"test\":test_processed_target}\n",
    "    },\n",
    "})"
   ]
  },
  {
   "cell_type": "code",
   "execution_count": 11,
   "id": "296189d9",
   "metadata": {
    "execution": {
     "iopub.execute_input": "2022-03-25T22:49:39.388322Z",
     "iopub.status.busy": "2022-03-25T22:49:39.387937Z",
     "iopub.status.idle": "2022-03-25T22:49:46.524140Z",
     "shell.execute_reply": "2022-03-25T22:49:46.523279Z"
    },
    "papermill": {
     "duration": 7.15879,
     "end_time": "2022-03-25T22:49:46.524309",
     "exception": false,
     "start_time": "2022-03-25T22:49:39.365519",
     "status": "completed"
    },
    "tags": []
   },
   "outputs": [
    {
     "name": "stdout",
     "output_type": "stream",
     "text": [
      "Visually inspect these to see if they line up with expected values given the transforms\n",
      "x_transforms_source ['unit_power']\n",
      "x_transforms_target ['unit_power']\n",
      "Average magnitude, source: 0.9579502\n",
      "Average power, source: 1.0\n"
     ]
    },
    {
     "name": "stdout",
     "output_type": "stream",
     "text": [
      "Average magnitude, target: 0.9591304\n",
      "Average power, target: 1.0\n"
     ]
    }
   ],
   "source": [
    "# Some quick unit tests on the data\n",
    "from steves_utils.transforms import get_average_power, get_average_magnitude\n",
    "\n",
    "q_x, q_y, s_x, s_y, truth = next(iter(train_processed_source))\n",
    "\n",
    "assert q_x.dtype == eval(p.torch_default_dtype)\n",
    "assert s_x.dtype == eval(p.torch_default_dtype)\n",
    "\n",
    "print(\"Visually inspect these to see if they line up with expected values given the transforms\")\n",
    "print('x_transforms_source', p.x_transforms_source)\n",
    "print('x_transforms_target', p.x_transforms_target)\n",
    "print(\"Average magnitude, source:\", get_average_magnitude(q_x[0].numpy()))\n",
    "print(\"Average power, source:\", get_average_power(q_x[0].numpy()))\n",
    "\n",
    "q_x, q_y, s_x, s_y, truth = next(iter(train_processed_target))\n",
    "print(\"Average magnitude, target:\", get_average_magnitude(q_x[0].numpy()))\n",
    "print(\"Average power, target:\", get_average_power(q_x[0].numpy()))\n"
   ]
  },
  {
   "cell_type": "code",
   "execution_count": 12,
   "id": "bbdacba1",
   "metadata": {
    "execution": {
     "iopub.execute_input": "2022-03-25T22:49:46.565074Z",
     "iopub.status.busy": "2022-03-25T22:49:46.564701Z",
     "iopub.status.idle": "2022-03-25T22:49:46.678296Z",
     "shell.execute_reply": "2022-03-25T22:49:46.678630Z"
    },
    "papermill": {
     "duration": 0.134317,
     "end_time": "2022-03-25T22:49:46.678773",
     "exception": false,
     "start_time": "2022-03-25T22:49:46.544456",
     "status": "completed"
    },
    "tags": []
   },
   "outputs": [
    {
     "name": "stdout",
     "output_type": "stream",
     "text": [
      "(2, 256)\n"
     ]
    }
   ],
   "source": [
    "###################################\n",
    "# Build the model\n",
    "###################################\n",
    "model = Steves_Prototypical_Network(x_net, device=p.device, x_shape=(2,256))\n",
    "optimizer = Adam(params=model.parameters(), lr=p.lr)"
   ]
  },
  {
   "cell_type": "code",
   "execution_count": 13,
   "id": "22b39ac5",
   "metadata": {
    "execution": {
     "iopub.execute_input": "2022-03-25T22:49:46.716754Z",
     "iopub.status.busy": "2022-03-25T22:49:46.716383Z",
     "iopub.status.idle": "2022-03-25T23:21:21.827745Z",
     "shell.execute_reply": "2022-03-25T23:21:21.827399Z"
    },
    "papermill": {
     "duration": 1895.132727,
     "end_time": "2022-03-25T23:21:21.827830",
     "exception": false,
     "start_time": "2022-03-25T22:49:46.695103",
     "status": "completed"
    },
    "tags": []
   },
   "outputs": [
    {
     "name": "stdout",
     "output_type": "stream",
     "text": [
      "epoch: 1, [batch: 1 / 2520], examples_per_second: 84.5299, train_label_loss: 3.0021, \n"
     ]
    },
    {
     "name": "stdout",
     "output_type": "stream",
     "text": [
      "epoch: 1, [batch: 252 / 2520], examples_per_second: 2472.7495, train_label_loss: 1.8027, \n"
     ]
    },
    {
     "name": "stdout",
     "output_type": "stream",
     "text": [
      "epoch: 1, [batch: 504 / 2520], examples_per_second: 1904.4064, train_label_loss: 1.2940, \n"
     ]
    },
    {
     "name": "stdout",
     "output_type": "stream",
     "text": [
      "epoch: 1, [batch: 756 / 2520], examples_per_second: 1841.2947, train_label_loss: 1.4204, \n"
     ]
    },
    {
     "name": "stdout",
     "output_type": "stream",
     "text": [
      "epoch: 1, [batch: 1008 / 2520], examples_per_second: 2107.2602, train_label_loss: 0.9369, \n"
     ]
    },
    {
     "name": "stdout",
     "output_type": "stream",
     "text": [
      "epoch: 1, [batch: 1260 / 2520], examples_per_second: 2068.3491, train_label_loss: 0.7537, \n"
     ]
    },
    {
     "name": "stdout",
     "output_type": "stream",
     "text": [
      "epoch: 1, [batch: 1512 / 2520], examples_per_second: 1860.3792, train_label_loss: 0.6832, \n"
     ]
    },
    {
     "name": "stdout",
     "output_type": "stream",
     "text": [
      "epoch: 1, [batch: 1764 / 2520], examples_per_second: 1863.4102, train_label_loss: 0.6602, \n"
     ]
    },
    {
     "name": "stdout",
     "output_type": "stream",
     "text": [
      "epoch: 1, [batch: 2016 / 2520], examples_per_second: 2328.0766, train_label_loss: 0.7779, \n"
     ]
    },
    {
     "name": "stdout",
     "output_type": "stream",
     "text": [
      "epoch: 1, [batch: 2268 / 2520], examples_per_second: 1849.0519, train_label_loss: 0.5896, \n"
     ]
    },
    {
     "name": "stdout",
     "output_type": "stream",
     "text": [
      "=============================================================\n",
      "epoch: 1, source_val_acc_label: 0.7269, target_val_acc_label: 0.6595, source_val_label_loss: 0.8305, target_val_label_loss: 2.2280, \n",
      "=============================================================\n"
     ]
    },
    {
     "name": "stdout",
     "output_type": "stream",
     "text": [
      "New best\n"
     ]
    },
    {
     "name": "stdout",
     "output_type": "stream",
     "text": [
      "epoch: 2, [batch: 1 / 2520], examples_per_second: 3.5295, train_label_loss: 0.9417, \n"
     ]
    },
    {
     "name": "stdout",
     "output_type": "stream",
     "text": [
      "epoch: 2, [batch: 252 / 2520], examples_per_second: 2300.3099, train_label_loss: 0.8625, \n"
     ]
    },
    {
     "name": "stdout",
     "output_type": "stream",
     "text": [
      "epoch: 2, [batch: 504 / 2520], examples_per_second: 1817.4352, train_label_loss: 0.6188, \n"
     ]
    },
    {
     "name": "stdout",
     "output_type": "stream",
     "text": [
      "epoch: 2, [batch: 756 / 2520], examples_per_second: 1814.6001, train_label_loss: 0.5793, \n"
     ]
    },
    {
     "name": "stdout",
     "output_type": "stream",
     "text": [
      "epoch: 2, [batch: 1008 / 2520], examples_per_second: 2253.4122, train_label_loss: 0.3772, \n"
     ]
    },
    {
     "name": "stdout",
     "output_type": "stream",
     "text": [
      "epoch: 2, [batch: 1260 / 2520], examples_per_second: 2202.7574, train_label_loss: 0.5179, \n"
     ]
    },
    {
     "name": "stdout",
     "output_type": "stream",
     "text": [
      "epoch: 2, [batch: 1512 / 2520], examples_per_second: 2193.4988, train_label_loss: 0.7897, \n"
     ]
    },
    {
     "name": "stdout",
     "output_type": "stream",
     "text": [
      "epoch: 2, [batch: 1764 / 2520], examples_per_second: 2218.6286, train_label_loss: 0.8335, \n"
     ]
    },
    {
     "name": "stdout",
     "output_type": "stream",
     "text": [
      "epoch: 2, [batch: 2016 / 2520], examples_per_second: 3059.6319, train_label_loss: 0.8601, \n"
     ]
    },
    {
     "name": "stdout",
     "output_type": "stream",
     "text": [
      "epoch: 2, [batch: 2268 / 2520], examples_per_second: 2235.3833, train_label_loss: 0.6573, \n"
     ]
    },
    {
     "name": "stdout",
     "output_type": "stream",
     "text": [
      "=============================================================\n",
      "epoch: 2, source_val_acc_label: 0.8039, target_val_acc_label: 0.7376, source_val_label_loss: 0.5557, target_val_label_loss: 1.9654, \n",
      "=============================================================\n"
     ]
    },
    {
     "name": "stdout",
     "output_type": "stream",
     "text": [
      "New best\n"
     ]
    },
    {
     "name": "stdout",
     "output_type": "stream",
     "text": [
      "epoch: 3, [batch: 1 / 2520], examples_per_second: 4.3864, train_label_loss: 0.5126, \n"
     ]
    },
    {
     "name": "stdout",
     "output_type": "stream",
     "text": [
      "epoch: 3, [batch: 252 / 2520], examples_per_second: 2034.2193, train_label_loss: 0.5715, \n"
     ]
    },
    {
     "name": "stdout",
     "output_type": "stream",
     "text": [
      "epoch: 3, [batch: 504 / 2520], examples_per_second: 2553.0199, train_label_loss: 0.5297, \n"
     ]
    },
    {
     "name": "stdout",
     "output_type": "stream",
     "text": [
      "epoch: 3, [batch: 756 / 2520], examples_per_second: 2414.6532, train_label_loss: 0.6046, \n"
     ]
    },
    {
     "name": "stdout",
     "output_type": "stream",
     "text": [
      "epoch: 3, [batch: 1008 / 2520], examples_per_second: 2760.7102, train_label_loss: 0.6915, \n"
     ]
    },
    {
     "name": "stdout",
     "output_type": "stream",
     "text": [
      "epoch: 3, [batch: 1260 / 2520], examples_per_second: 3062.7898, train_label_loss: 0.5619, \n"
     ]
    },
    {
     "name": "stdout",
     "output_type": "stream",
     "text": [
      "epoch: 3, [batch: 1512 / 2520], examples_per_second: 3708.7266, train_label_loss: 0.5575, \n"
     ]
    },
    {
     "name": "stdout",
     "output_type": "stream",
     "text": [
      "epoch: 3, [batch: 1764 / 2520], examples_per_second: 3792.3309, train_label_loss: 0.4744, \n"
     ]
    },
    {
     "name": "stdout",
     "output_type": "stream",
     "text": [
      "epoch: 3, [batch: 2016 / 2520], examples_per_second: 3854.5850, train_label_loss: 0.2831, \n"
     ]
    },
    {
     "name": "stdout",
     "output_type": "stream",
     "text": [
      "epoch: 3, [batch: 2268 / 2520], examples_per_second: 4021.8776, train_label_loss: 0.5553, \n"
     ]
    },
    {
     "name": "stdout",
     "output_type": "stream",
     "text": [
      "=============================================================\n",
      "epoch: 3, source_val_acc_label: 0.8226, target_val_acc_label: 0.7382, source_val_label_loss: 0.4873, target_val_label_loss: 2.4195, \n",
      "=============================================================\n"
     ]
    },
    {
     "name": "stdout",
     "output_type": "stream",
     "text": [
      "New best\n"
     ]
    },
    {
     "name": "stdout",
     "output_type": "stream",
     "text": [
      "epoch: 4, [batch: 1 / 2520], examples_per_second: 9.2321, train_label_loss: 0.3438, \n"
     ]
    },
    {
     "name": "stdout",
     "output_type": "stream",
     "text": [
      "epoch: 4, [batch: 252 / 2520], examples_per_second: 4669.8519, train_label_loss: 0.7995, \n"
     ]
    },
    {
     "name": "stdout",
     "output_type": "stream",
     "text": [
      "epoch: 4, [batch: 504 / 2520], examples_per_second: 4048.0753, train_label_loss: 0.3576, \n"
     ]
    },
    {
     "name": "stdout",
     "output_type": "stream",
     "text": [
      "epoch: 4, [batch: 756 / 2520], examples_per_second: 3814.3086, train_label_loss: 0.2766, \n"
     ]
    },
    {
     "name": "stdout",
     "output_type": "stream",
     "text": [
      "epoch: 4, [batch: 1008 / 2520], examples_per_second: 2788.3807, train_label_loss: 0.3882, \n"
     ]
    },
    {
     "name": "stdout",
     "output_type": "stream",
     "text": [
      "epoch: 4, [batch: 1260 / 2520], examples_per_second: 1935.9581, train_label_loss: 0.3856, \n"
     ]
    },
    {
     "name": "stdout",
     "output_type": "stream",
     "text": [
      "epoch: 4, [batch: 1512 / 2520], examples_per_second: 1913.1387, train_label_loss: 0.3066, \n"
     ]
    },
    {
     "name": "stdout",
     "output_type": "stream",
     "text": [
      "epoch: 4, [batch: 1764 / 2520], examples_per_second: 1801.5294, train_label_loss: 0.5103, \n"
     ]
    },
    {
     "name": "stdout",
     "output_type": "stream",
     "text": [
      "epoch: 4, [batch: 2016 / 2520], examples_per_second: 2450.7103, train_label_loss: 0.4138, \n"
     ]
    },
    {
     "name": "stdout",
     "output_type": "stream",
     "text": [
      "epoch: 4, [batch: 2268 / 2520], examples_per_second: 3731.8298, train_label_loss: 0.3138, \n"
     ]
    },
    {
     "name": "stdout",
     "output_type": "stream",
     "text": [
      "=============================================================\n",
      "epoch: 4, source_val_acc_label: 0.8504, target_val_acc_label: 0.7689, source_val_label_loss: 0.4166, target_val_label_loss: 2.5191, \n",
      "=============================================================\n"
     ]
    },
    {
     "name": "stdout",
     "output_type": "stream",
     "text": [
      "New best\n"
     ]
    },
    {
     "name": "stdout",
     "output_type": "stream",
     "text": [
      "epoch: 5, [batch: 1 / 2520], examples_per_second: 8.8867, train_label_loss: 0.3789, \n"
     ]
    },
    {
     "name": "stdout",
     "output_type": "stream",
     "text": [
      "epoch: 5, [batch: 252 / 2520], examples_per_second: 4454.8247, train_label_loss: 0.3882, \n"
     ]
    },
    {
     "name": "stdout",
     "output_type": "stream",
     "text": [
      "epoch: 5, [batch: 504 / 2520], examples_per_second: 2164.4947, train_label_loss: 0.4037, \n"
     ]
    },
    {
     "name": "stdout",
     "output_type": "stream",
     "text": [
      "epoch: 5, [batch: 756 / 2520], examples_per_second: 1793.9482, train_label_loss: 0.4073, \n"
     ]
    },
    {
     "name": "stdout",
     "output_type": "stream",
     "text": [
      "epoch: 5, [batch: 1008 / 2520], examples_per_second: 1840.4139, train_label_loss: 0.4299, \n"
     ]
    },
    {
     "name": "stdout",
     "output_type": "stream",
     "text": [
      "epoch: 5, [batch: 1260 / 2520], examples_per_second: 2050.8699, train_label_loss: 0.3177, \n"
     ]
    },
    {
     "name": "stdout",
     "output_type": "stream",
     "text": [
      "epoch: 5, [batch: 1512 / 2520], examples_per_second: 3174.3665, train_label_loss: 0.3699, \n"
     ]
    },
    {
     "name": "stdout",
     "output_type": "stream",
     "text": [
      "epoch: 5, [batch: 1764 / 2520], examples_per_second: 3916.9496, train_label_loss: 0.5361, \n"
     ]
    },
    {
     "name": "stdout",
     "output_type": "stream",
     "text": [
      "epoch: 5, [batch: 2016 / 2520], examples_per_second: 3944.8130, train_label_loss: 0.1283, \n"
     ]
    },
    {
     "name": "stdout",
     "output_type": "stream",
     "text": [
      "epoch: 5, [batch: 2268 / 2520], examples_per_second: 3868.9559, train_label_loss: 0.3235, \n"
     ]
    },
    {
     "name": "stdout",
     "output_type": "stream",
     "text": [
      "=============================================================\n",
      "epoch: 5, source_val_acc_label: 0.8758, target_val_acc_label: 0.7887, source_val_label_loss: 0.3588, target_val_label_loss: 2.7953, \n",
      "=============================================================\n"
     ]
    },
    {
     "name": "stdout",
     "output_type": "stream",
     "text": [
      "New best\n"
     ]
    },
    {
     "name": "stdout",
     "output_type": "stream",
     "text": [
      "epoch: 6, [batch: 1 / 2520], examples_per_second: 5.2808, train_label_loss: 0.2453, \n"
     ]
    },
    {
     "name": "stdout",
     "output_type": "stream",
     "text": [
      "epoch: 6, [batch: 252 / 2520], examples_per_second: 2016.9126, train_label_loss: 0.3019, \n"
     ]
    },
    {
     "name": "stdout",
     "output_type": "stream",
     "text": [
      "epoch: 6, [batch: 504 / 2520], examples_per_second: 2599.0777, train_label_loss: 0.3174, \n"
     ]
    },
    {
     "name": "stdout",
     "output_type": "stream",
     "text": [
      "epoch: 6, [batch: 756 / 2520], examples_per_second: 3873.5234, train_label_loss: 0.0707, \n"
     ]
    },
    {
     "name": "stdout",
     "output_type": "stream",
     "text": [
      "epoch: 6, [batch: 1008 / 2520], examples_per_second: 3820.7936, train_label_loss: 0.2343, \n"
     ]
    },
    {
     "name": "stdout",
     "output_type": "stream",
     "text": [
      "epoch: 6, [batch: 1260 / 2520], examples_per_second: 4025.1066, train_label_loss: 0.2570, \n"
     ]
    },
    {
     "name": "stdout",
     "output_type": "stream",
     "text": [
      "epoch: 6, [batch: 1512 / 2520], examples_per_second: 3921.3229, train_label_loss: 0.3687, \n"
     ]
    },
    {
     "name": "stdout",
     "output_type": "stream",
     "text": [
      "epoch: 6, [batch: 1764 / 2520], examples_per_second: 3782.1693, train_label_loss: 0.1919, \n"
     ]
    },
    {
     "name": "stdout",
     "output_type": "stream",
     "text": [
      "epoch: 6, [batch: 2016 / 2520], examples_per_second: 2325.9935, train_label_loss: 0.1086, \n"
     ]
    },
    {
     "name": "stdout",
     "output_type": "stream",
     "text": [
      "epoch: 6, [batch: 2268 / 2520], examples_per_second: 2095.3666, train_label_loss: 0.1945, \n"
     ]
    },
    {
     "name": "stdout",
     "output_type": "stream",
     "text": [
      "=============================================================\n",
      "epoch: 6, source_val_acc_label: 0.8781, target_val_acc_label: 0.7810, source_val_label_loss: 0.3492, target_val_label_loss: 3.0462, \n",
      "=============================================================\n"
     ]
    },
    {
     "name": "stdout",
     "output_type": "stream",
     "text": [
      "epoch: 7, [batch: 1 / 2520], examples_per_second: 3.9167, train_label_loss: 0.1988, \n"
     ]
    },
    {
     "name": "stdout",
     "output_type": "stream",
     "text": [
      "epoch: 7, [batch: 252 / 2520], examples_per_second: 4442.1815, train_label_loss: 0.1043, \n"
     ]
    },
    {
     "name": "stdout",
     "output_type": "stream",
     "text": [
      "epoch: 7, [batch: 504 / 2520], examples_per_second: 3685.0979, train_label_loss: 0.1732, \n"
     ]
    },
    {
     "name": "stdout",
     "output_type": "stream",
     "text": [
      "epoch: 7, [batch: 756 / 2520], examples_per_second: 3952.8614, train_label_loss: 0.2495, \n"
     ]
    },
    {
     "name": "stdout",
     "output_type": "stream",
     "text": [
      "epoch: 7, [batch: 1008 / 2520], examples_per_second: 3914.3325, train_label_loss: 0.3135, \n"
     ]
    },
    {
     "name": "stdout",
     "output_type": "stream",
     "text": [
      "epoch: 7, [batch: 1260 / 2520], examples_per_second: 3902.7581, train_label_loss: 0.0560, \n"
     ]
    },
    {
     "name": "stdout",
     "output_type": "stream",
     "text": [
      "epoch: 7, [batch: 1512 / 2520], examples_per_second: 2045.7949, train_label_loss: 0.2571, \n"
     ]
    },
    {
     "name": "stdout",
     "output_type": "stream",
     "text": [
      "epoch: 7, [batch: 1764 / 2520], examples_per_second: 1788.3920, train_label_loss: 0.2745, \n"
     ]
    },
    {
     "name": "stdout",
     "output_type": "stream",
     "text": [
      "epoch: 7, [batch: 2016 / 2520], examples_per_second: 1890.0615, train_label_loss: 0.3051, \n"
     ]
    },
    {
     "name": "stdout",
     "output_type": "stream",
     "text": [
      "epoch: 7, [batch: 2268 / 2520], examples_per_second: 1795.3531, train_label_loss: 0.2382, \n"
     ]
    },
    {
     "name": "stdout",
     "output_type": "stream",
     "text": [
      "=============================================================\n",
      "epoch: 7, source_val_acc_label: 0.8927, target_val_acc_label: 0.7971, source_val_label_loss: 0.3049, target_val_label_loss: 3.1439, \n",
      "=============================================================\n"
     ]
    },
    {
     "name": "stdout",
     "output_type": "stream",
     "text": [
      "New best\n"
     ]
    },
    {
     "name": "stdout",
     "output_type": "stream",
     "text": [
      "epoch: 8, [batch: 1 / 2520], examples_per_second: 6.2292, train_label_loss: 0.2495, \n"
     ]
    },
    {
     "name": "stdout",
     "output_type": "stream",
     "text": [
      "epoch: 8, [batch: 252 / 2520], examples_per_second: 3941.6595, train_label_loss: 0.1472, \n"
     ]
    },
    {
     "name": "stdout",
     "output_type": "stream",
     "text": [
      "epoch: 8, [batch: 504 / 2520], examples_per_second: 3951.0054, train_label_loss: 0.0528, \n"
     ]
    },
    {
     "name": "stdout",
     "output_type": "stream",
     "text": [
      "epoch: 8, [batch: 756 / 2520], examples_per_second: 3745.7106, train_label_loss: 0.2291, \n"
     ]
    },
    {
     "name": "stdout",
     "output_type": "stream",
     "text": [
      "epoch: 8, [batch: 1008 / 2520], examples_per_second: 3261.9640, train_label_loss: 0.1540, \n"
     ]
    },
    {
     "name": "stdout",
     "output_type": "stream",
     "text": [
      "epoch: 8, [batch: 1260 / 2520], examples_per_second: 1926.3277, train_label_loss: 0.2813, \n"
     ]
    },
    {
     "name": "stdout",
     "output_type": "stream",
     "text": [
      "epoch: 8, [batch: 1512 / 2520], examples_per_second: 1860.3010, train_label_loss: 0.3456, \n"
     ]
    },
    {
     "name": "stdout",
     "output_type": "stream",
     "text": [
      "epoch: 8, [batch: 1764 / 2520], examples_per_second: 1821.3032, train_label_loss: 0.3135, \n"
     ]
    },
    {
     "name": "stdout",
     "output_type": "stream",
     "text": [
      "epoch: 8, [batch: 2016 / 2520], examples_per_second: 2277.0054, train_label_loss: 0.3563, \n"
     ]
    },
    {
     "name": "stdout",
     "output_type": "stream",
     "text": [
      "epoch: 8, [batch: 2268 / 2520], examples_per_second: 3708.2756, train_label_loss: 0.2014, \n"
     ]
    },
    {
     "name": "stdout",
     "output_type": "stream",
     "text": [
      "=============================================================\n",
      "epoch: 8, source_val_acc_label: 0.8977, target_val_acc_label: 0.7971, source_val_label_loss: 0.3001, target_val_label_loss: 3.0813, \n",
      "=============================================================\n"
     ]
    },
    {
     "name": "stdout",
     "output_type": "stream",
     "text": [
      "New best\n"
     ]
    },
    {
     "name": "stdout",
     "output_type": "stream",
     "text": [
      "epoch: 9, [batch: 1 / 2520], examples_per_second: 9.3854, train_label_loss: 0.3894, \n"
     ]
    },
    {
     "name": "stdout",
     "output_type": "stream",
     "text": [
      "epoch: 9, [batch: 252 / 2520], examples_per_second: 3903.4092, train_label_loss: 0.0296, \n"
     ]
    },
    {
     "name": "stdout",
     "output_type": "stream",
     "text": [
      "epoch: 9, [batch: 504 / 2520], examples_per_second: 2310.2788, train_label_loss: 0.1652, \n"
     ]
    },
    {
     "name": "stdout",
     "output_type": "stream",
     "text": [
      "epoch: 9, [batch: 756 / 2520], examples_per_second: 1961.3590, train_label_loss: 0.2919, \n"
     ]
    },
    {
     "name": "stdout",
     "output_type": "stream",
     "text": [
      "epoch: 9, [batch: 1008 / 2520], examples_per_second: 1822.0977, train_label_loss: 0.1826, \n"
     ]
    },
    {
     "name": "stdout",
     "output_type": "stream",
     "text": [
      "epoch: 9, [batch: 1260 / 2520], examples_per_second: 1865.2254, train_label_loss: 0.2913, \n"
     ]
    },
    {
     "name": "stdout",
     "output_type": "stream",
     "text": [
      "epoch: 9, [batch: 1512 / 2520], examples_per_second: 1814.5963, train_label_loss: 0.2101, \n"
     ]
    },
    {
     "name": "stdout",
     "output_type": "stream",
     "text": [
      "epoch: 9, [batch: 1764 / 2520], examples_per_second: 2312.3288, train_label_loss: 0.2172, \n"
     ]
    },
    {
     "name": "stdout",
     "output_type": "stream",
     "text": [
      "epoch: 9, [batch: 2016 / 2520], examples_per_second: 3574.3408, train_label_loss: 0.0348, \n"
     ]
    },
    {
     "name": "stdout",
     "output_type": "stream",
     "text": [
      "epoch: 9, [batch: 2268 / 2520], examples_per_second: 3736.9193, train_label_loss: 0.1985, \n"
     ]
    },
    {
     "name": "stdout",
     "output_type": "stream",
     "text": [
      "=============================================================\n",
      "epoch: 9, source_val_acc_label: 0.9025, target_val_acc_label: 0.7992, source_val_label_loss: 0.2916, target_val_label_loss: 3.3001, \n",
      "=============================================================\n"
     ]
    },
    {
     "name": "stdout",
     "output_type": "stream",
     "text": [
      "New best\n"
     ]
    },
    {
     "name": "stdout",
     "output_type": "stream",
     "text": [
      "epoch: 10, [batch: 1 / 2520], examples_per_second: 9.2595, train_label_loss: 0.2670, \n"
     ]
    },
    {
     "name": "stdout",
     "output_type": "stream",
     "text": [
      "epoch: 10, [batch: 252 / 2520], examples_per_second: 2122.4135, train_label_loss: 0.1548, \n"
     ]
    },
    {
     "name": "stdout",
     "output_type": "stream",
     "text": [
      "epoch: 10, [batch: 504 / 2520], examples_per_second: 1796.6429, train_label_loss: 0.1396, \n"
     ]
    },
    {
     "name": "stdout",
     "output_type": "stream",
     "text": [
      "epoch: 10, [batch: 756 / 2520], examples_per_second: 1896.1313, train_label_loss: 0.2749, \n"
     ]
    },
    {
     "name": "stdout",
     "output_type": "stream",
     "text": [
      "epoch: 10, [batch: 1008 / 2520], examples_per_second: 1799.0989, train_label_loss: 0.1404, \n"
     ]
    },
    {
     "name": "stdout",
     "output_type": "stream",
     "text": [
      "epoch: 10, [batch: 1260 / 2520], examples_per_second: 1803.8200, train_label_loss: 0.1132, \n"
     ]
    },
    {
     "name": "stdout",
     "output_type": "stream",
     "text": [
      "epoch: 10, [batch: 1512 / 2520], examples_per_second: 2833.4615, train_label_loss: 0.0693, \n"
     ]
    },
    {
     "name": "stdout",
     "output_type": "stream",
     "text": [
      "epoch: 10, [batch: 1764 / 2520], examples_per_second: 3968.6171, train_label_loss: 0.1835, \n"
     ]
    },
    {
     "name": "stdout",
     "output_type": "stream",
     "text": [
      "epoch: 10, [batch: 2016 / 2520], examples_per_second: 3889.7862, train_label_loss: 0.1063, \n"
     ]
    },
    {
     "name": "stdout",
     "output_type": "stream",
     "text": [
      "epoch: 10, [batch: 2268 / 2520], examples_per_second: 3898.2848, train_label_loss: 0.2268, \n"
     ]
    },
    {
     "name": "stdout",
     "output_type": "stream",
     "text": [
      "=============================================================\n",
      "epoch: 10, source_val_acc_label: 0.9122, target_val_acc_label: 0.8085, source_val_label_loss: 0.2676, target_val_label_loss: 3.4767, \n",
      "=============================================================\n"
     ]
    },
    {
     "name": "stdout",
     "output_type": "stream",
     "text": [
      "New best\n"
     ]
    },
    {
     "name": "stdout",
     "output_type": "stream",
     "text": [
      "epoch: 11, [batch: 1 / 2520], examples_per_second: 6.6424, train_label_loss: 0.1208, \n"
     ]
    },
    {
     "name": "stdout",
     "output_type": "stream",
     "text": [
      "epoch: 11, [batch: 252 / 2520], examples_per_second: 1919.5848, train_label_loss: 0.3622, \n"
     ]
    },
    {
     "name": "stdout",
     "output_type": "stream",
     "text": [
      "epoch: 11, [batch: 504 / 2520], examples_per_second: 1790.9302, train_label_loss: 0.1844, \n"
     ]
    },
    {
     "name": "stdout",
     "output_type": "stream",
     "text": [
      "epoch: 11, [batch: 756 / 2520], examples_per_second: 2802.3751, train_label_loss: 0.1568, \n"
     ]
    },
    {
     "name": "stdout",
     "output_type": "stream",
     "text": [
      "epoch: 11, [batch: 1008 / 2520], examples_per_second: 3959.4833, train_label_loss: 0.3709, \n"
     ]
    },
    {
     "name": "stdout",
     "output_type": "stream",
     "text": [
      "epoch: 11, [batch: 1260 / 2520], examples_per_second: 3769.1746, train_label_loss: 0.2586, \n"
     ]
    },
    {
     "name": "stdout",
     "output_type": "stream",
     "text": [
      "epoch: 11, [batch: 1512 / 2520], examples_per_second: 3952.9937, train_label_loss: 0.0628, \n"
     ]
    },
    {
     "name": "stdout",
     "output_type": "stream",
     "text": [
      "epoch: 11, [batch: 1764 / 2520], examples_per_second: 3964.7516, train_label_loss: 0.0619, \n"
     ]
    },
    {
     "name": "stdout",
     "output_type": "stream",
     "text": [
      "epoch: 11, [batch: 2016 / 2520], examples_per_second: 3802.0634, train_label_loss: 0.1772, \n"
     ]
    },
    {
     "name": "stdout",
     "output_type": "stream",
     "text": [
      "epoch: 11, [batch: 2268 / 2520], examples_per_second: 2259.1612, train_label_loss: 0.0640, \n"
     ]
    },
    {
     "name": "stdout",
     "output_type": "stream",
     "text": [
      "=============================================================\n",
      "epoch: 11, source_val_acc_label: 0.9107, target_val_acc_label: 0.8047, source_val_label_loss: 0.2751, target_val_label_loss: 3.9679, \n",
      "=============================================================\n"
     ]
    },
    {
     "name": "stdout",
     "output_type": "stream",
     "text": [
      "epoch: 12, [batch: 1 / 2520], examples_per_second: 3.6848, train_label_loss: 0.1412, \n"
     ]
    },
    {
     "name": "stdout",
     "output_type": "stream",
     "text": [
      "epoch: 12, [batch: 252 / 2520], examples_per_second: 3901.8770, train_label_loss: 0.2601, \n"
     ]
    },
    {
     "name": "stdout",
     "output_type": "stream",
     "text": [
      "epoch: 12, [batch: 504 / 2520], examples_per_second: 4047.7831, train_label_loss: 0.2031, \n"
     ]
    },
    {
     "name": "stdout",
     "output_type": "stream",
     "text": [
      "epoch: 12, [batch: 756 / 2520], examples_per_second: 3933.3480, train_label_loss: 0.0923, \n"
     ]
    },
    {
     "name": "stdout",
     "output_type": "stream",
     "text": [
      "epoch: 12, [batch: 1008 / 2520], examples_per_second: 3931.9488, train_label_loss: 0.0451, \n"
     ]
    },
    {
     "name": "stdout",
     "output_type": "stream",
     "text": [
      "epoch: 12, [batch: 1260 / 2520], examples_per_second: 3836.6967, train_label_loss: 0.0900, \n"
     ]
    },
    {
     "name": "stdout",
     "output_type": "stream",
     "text": [
      "epoch: 12, [batch: 1512 / 2520], examples_per_second: 3368.5507, train_label_loss: 0.1239, \n"
     ]
    },
    {
     "name": "stdout",
     "output_type": "stream",
     "text": [
      "epoch: 12, [batch: 1764 / 2520], examples_per_second: 1909.7618, train_label_loss: 0.0149, \n"
     ]
    },
    {
     "name": "stdout",
     "output_type": "stream",
     "text": [
      "epoch: 12, [batch: 2016 / 2520], examples_per_second: 1866.8067, train_label_loss: 0.1661, \n"
     ]
    },
    {
     "name": "stdout",
     "output_type": "stream",
     "text": [
      "epoch: 12, [batch: 2268 / 2520], examples_per_second: 1830.3319, train_label_loss: 0.3128, \n"
     ]
    },
    {
     "name": "stdout",
     "output_type": "stream",
     "text": [
      "=============================================================\n",
      "epoch: 12, source_val_acc_label: 0.9156, target_val_acc_label: 0.8109, source_val_label_loss: 0.2680, target_val_label_loss: 4.4657, \n",
      "=============================================================\n"
     ]
    },
    {
     "name": "stdout",
     "output_type": "stream",
     "text": [
      "New best\n"
     ]
    },
    {
     "name": "stdout",
     "output_type": "stream",
     "text": [
      "epoch: 13, [batch: 1 / 2520], examples_per_second: 5.3364, train_label_loss: 0.0878, \n"
     ]
    },
    {
     "name": "stdout",
     "output_type": "stream",
     "text": [
      "epoch: 13, [batch: 252 / 2520], examples_per_second: 3988.1379, train_label_loss: 0.0552, \n"
     ]
    },
    {
     "name": "stdout",
     "output_type": "stream",
     "text": [
      "epoch: 13, [batch: 504 / 2520], examples_per_second: 3946.3772, train_label_loss: 0.0335, \n"
     ]
    },
    {
     "name": "stdout",
     "output_type": "stream",
     "text": [
      "epoch: 13, [batch: 756 / 2520], examples_per_second: 4107.4025, train_label_loss: 0.0336, \n"
     ]
    },
    {
     "name": "stdout",
     "output_type": "stream",
     "text": [
      "epoch: 13, [batch: 1008 / 2520], examples_per_second: 3680.3643, train_label_loss: 0.1255, \n"
     ]
    },
    {
     "name": "stdout",
     "output_type": "stream",
     "text": [
      "epoch: 13, [batch: 1260 / 2520], examples_per_second: 2102.9019, train_label_loss: 0.1298, \n"
     ]
    },
    {
     "name": "stdout",
     "output_type": "stream",
     "text": [
      "epoch: 13, [batch: 1512 / 2520], examples_per_second: 1796.5214, train_label_loss: 0.0157, \n"
     ]
    },
    {
     "name": "stdout",
     "output_type": "stream",
     "text": [
      "epoch: 13, [batch: 1764 / 2520], examples_per_second: 1855.1662, train_label_loss: 0.4018, \n"
     ]
    },
    {
     "name": "stdout",
     "output_type": "stream",
     "text": [
      "epoch: 13, [batch: 2016 / 2520], examples_per_second: 1847.4778, train_label_loss: 0.0055, \n"
     ]
    },
    {
     "name": "stdout",
     "output_type": "stream",
     "text": [
      "epoch: 13, [batch: 2268 / 2520], examples_per_second: 1779.5041, train_label_loss: 0.0695, \n"
     ]
    },
    {
     "name": "stdout",
     "output_type": "stream",
     "text": [
      "=============================================================\n",
      "epoch: 13, source_val_acc_label: 0.9221, target_val_acc_label: 0.8129, source_val_label_loss: 0.2460, target_val_label_loss: 3.8695, \n",
      "=============================================================\n"
     ]
    },
    {
     "name": "stdout",
     "output_type": "stream",
     "text": [
      "New best\n"
     ]
    },
    {
     "name": "stdout",
     "output_type": "stream",
     "text": [
      "epoch: 14, [batch: 1 / 2520], examples_per_second: 8.4277, train_label_loss: 0.1360, \n"
     ]
    },
    {
     "name": "stdout",
     "output_type": "stream",
     "text": [
      "epoch: 14, [batch: 252 / 2520], examples_per_second: 4373.7493, train_label_loss: 0.2300, \n"
     ]
    },
    {
     "name": "stdout",
     "output_type": "stream",
     "text": [
      "epoch: 14, [batch: 504 / 2520], examples_per_second: 4423.0406, train_label_loss: 0.0513, \n"
     ]
    },
    {
     "name": "stdout",
     "output_type": "stream",
     "text": [
      "epoch: 14, [batch: 756 / 2520], examples_per_second: 4446.3728, train_label_loss: 0.1359, \n"
     ]
    },
    {
     "name": "stdout",
     "output_type": "stream",
     "text": [
      "epoch: 14, [batch: 1008 / 2520], examples_per_second: 2628.7414, train_label_loss: 0.0365, \n"
     ]
    },
    {
     "name": "stdout",
     "output_type": "stream",
     "text": [
      "epoch: 14, [batch: 1260 / 2520], examples_per_second: 2221.3294, train_label_loss: 0.0234, \n"
     ]
    },
    {
     "name": "stdout",
     "output_type": "stream",
     "text": [
      "epoch: 14, [batch: 1512 / 2520], examples_per_second: 2025.8405, train_label_loss: 0.0042, \n"
     ]
    },
    {
     "name": "stdout",
     "output_type": "stream",
     "text": [
      "epoch: 14, [batch: 1764 / 2520], examples_per_second: 1962.9719, train_label_loss: 0.1888, \n"
     ]
    },
    {
     "name": "stdout",
     "output_type": "stream",
     "text": [
      "epoch: 14, [batch: 2016 / 2520], examples_per_second: 2017.0274, train_label_loss: 0.1724, \n"
     ]
    },
    {
     "name": "stdout",
     "output_type": "stream",
     "text": [
      "epoch: 14, [batch: 2268 / 2520], examples_per_second: 2485.1099, train_label_loss: 0.2530, \n"
     ]
    },
    {
     "name": "stdout",
     "output_type": "stream",
     "text": [
      "=============================================================\n",
      "epoch: 14, source_val_acc_label: 0.9181, target_val_acc_label: 0.8029, source_val_label_loss: 0.2564, target_val_label_loss: 4.4270, \n",
      "=============================================================\n"
     ]
    },
    {
     "name": "stdout",
     "output_type": "stream",
     "text": [
      "epoch: 15, [batch: 1 / 2520], examples_per_second: 10.4118, train_label_loss: 0.1988, \n"
     ]
    },
    {
     "name": "stdout",
     "output_type": "stream",
     "text": [
      "epoch: 15, [batch: 252 / 2520], examples_per_second: 4779.8084, train_label_loss: 0.1104, \n"
     ]
    },
    {
     "name": "stdout",
     "output_type": "stream",
     "text": [
      "epoch: 15, [batch: 504 / 2520], examples_per_second: 5003.2412, train_label_loss: 0.1113, \n"
     ]
    },
    {
     "name": "stdout",
     "output_type": "stream",
     "text": [
      "epoch: 15, [batch: 756 / 2520], examples_per_second: 5057.7494, train_label_loss: 0.0858, \n"
     ]
    },
    {
     "name": "stdout",
     "output_type": "stream",
     "text": [
      "epoch: 15, [batch: 1008 / 2520], examples_per_second: 2877.1363, train_label_loss: 0.1268, \n"
     ]
    },
    {
     "name": "stdout",
     "output_type": "stream",
     "text": [
      "epoch: 15, [batch: 1260 / 2520], examples_per_second: 2579.5317, train_label_loss: 0.0670, \n"
     ]
    },
    {
     "name": "stdout",
     "output_type": "stream",
     "text": [
      "epoch: 15, [batch: 1512 / 2520], examples_per_second: 2356.4498, train_label_loss: 0.0497, \n"
     ]
    },
    {
     "name": "stdout",
     "output_type": "stream",
     "text": [
      "epoch: 15, [batch: 1764 / 2520], examples_per_second: 2384.0181, train_label_loss: 0.0793, \n"
     ]
    },
    {
     "name": "stdout",
     "output_type": "stream",
     "text": [
      "epoch: 15, [batch: 2016 / 2520], examples_per_second: 3516.9278, train_label_loss: 0.0168, \n"
     ]
    },
    {
     "name": "stdout",
     "output_type": "stream",
     "text": [
      "epoch: 15, [batch: 2268 / 2520], examples_per_second: 5230.0293, train_label_loss: 0.2343, \n"
     ]
    },
    {
     "name": "stdout",
     "output_type": "stream",
     "text": [
      "=============================================================\n",
      "epoch: 15, source_val_acc_label: 0.9293, target_val_acc_label: 0.8140, source_val_label_loss: 0.2323, target_val_label_loss: 4.4264, \n",
      "=============================================================\n"
     ]
    },
    {
     "name": "stdout",
     "output_type": "stream",
     "text": [
      "New best\n"
     ]
    },
    {
     "name": "stdout",
     "output_type": "stream",
     "text": [
      "epoch: 16, [batch: 1 / 2520], examples_per_second: 11.8372, train_label_loss: 0.0890, \n"
     ]
    },
    {
     "name": "stdout",
     "output_type": "stream",
     "text": [
      "epoch: 16, [batch: 252 / 2520], examples_per_second: 4759.9708, train_label_loss: 0.1261, \n"
     ]
    },
    {
     "name": "stdout",
     "output_type": "stream",
     "text": [
      "epoch: 16, [batch: 504 / 2520], examples_per_second: 4840.2625, train_label_loss: 0.1015, \n"
     ]
    },
    {
     "name": "stdout",
     "output_type": "stream",
     "text": [
      "epoch: 16, [batch: 756 / 2520], examples_per_second: 2453.1155, train_label_loss: 0.1179, \n"
     ]
    },
    {
     "name": "stdout",
     "output_type": "stream",
     "text": [
      "epoch: 16, [batch: 1008 / 2520], examples_per_second: 2031.8717, train_label_loss: 0.0317, \n"
     ]
    },
    {
     "name": "stdout",
     "output_type": "stream",
     "text": [
      "epoch: 16, [batch: 1260 / 2520], examples_per_second: 1846.3363, train_label_loss: 0.0205, \n"
     ]
    },
    {
     "name": "stdout",
     "output_type": "stream",
     "text": [
      "epoch: 16, [batch: 1512 / 2520], examples_per_second: 1801.4409, train_label_loss: 0.0386, \n"
     ]
    },
    {
     "name": "stdout",
     "output_type": "stream",
     "text": [
      "epoch: 16, [batch: 1764 / 2520], examples_per_second: 1907.6472, train_label_loss: 0.0500, \n"
     ]
    },
    {
     "name": "stdout",
     "output_type": "stream",
     "text": [
      "epoch: 16, [batch: 2016 / 2520], examples_per_second: 2097.1390, train_label_loss: 0.1905, \n"
     ]
    },
    {
     "name": "stdout",
     "output_type": "stream",
     "text": [
      "epoch: 16, [batch: 2268 / 2520], examples_per_second: 3508.0118, train_label_loss: 0.1086, \n"
     ]
    },
    {
     "name": "stdout",
     "output_type": "stream",
     "text": [
      "=============================================================\n",
      "epoch: 16, source_val_acc_label: 0.9203, target_val_acc_label: 0.8014, source_val_label_loss: 0.2516, target_val_label_loss: 4.2346, \n",
      "=============================================================\n"
     ]
    },
    {
     "name": "stdout",
     "output_type": "stream",
     "text": [
      "epoch: 17, [batch: 1 / 2520], examples_per_second: 8.6372, train_label_loss: 0.0713, \n"
     ]
    },
    {
     "name": "stdout",
     "output_type": "stream",
     "text": [
      "epoch: 17, [batch: 252 / 2520], examples_per_second: 2451.2890, train_label_loss: 0.0368, \n"
     ]
    },
    {
     "name": "stdout",
     "output_type": "stream",
     "text": [
      "epoch: 17, [batch: 504 / 2520], examples_per_second: 2059.1428, train_label_loss: 0.1317, \n"
     ]
    },
    {
     "name": "stdout",
     "output_type": "stream",
     "text": [
      "epoch: 17, [batch: 756 / 2520], examples_per_second: 1899.3002, train_label_loss: 0.1926, \n"
     ]
    },
    {
     "name": "stdout",
     "output_type": "stream",
     "text": [
      "epoch: 17, [batch: 1008 / 2520], examples_per_second: 1883.6980, train_label_loss: 0.1725, \n"
     ]
    },
    {
     "name": "stdout",
     "output_type": "stream",
     "text": [
      "epoch: 17, [batch: 1260 / 2520], examples_per_second: 1777.7884, train_label_loss: 0.2063, \n"
     ]
    },
    {
     "name": "stdout",
     "output_type": "stream",
     "text": [
      "epoch: 17, [batch: 1512 / 2520], examples_per_second: 1877.1796, train_label_loss: 0.1793, \n"
     ]
    },
    {
     "name": "stdout",
     "output_type": "stream",
     "text": [
      "epoch: 17, [batch: 1764 / 2520], examples_per_second: 1763.0459, train_label_loss: 0.0262, \n"
     ]
    },
    {
     "name": "stdout",
     "output_type": "stream",
     "text": [
      "epoch: 17, [batch: 2016 / 2520], examples_per_second: 1842.4773, train_label_loss: 0.0147, \n"
     ]
    },
    {
     "name": "stdout",
     "output_type": "stream",
     "text": [
      "epoch: 17, [batch: 2268 / 2520], examples_per_second: 2054.3226, train_label_loss: 0.1400, \n"
     ]
    },
    {
     "name": "stdout",
     "output_type": "stream",
     "text": [
      "=============================================================\n",
      "epoch: 17, source_val_acc_label: 0.9236, target_val_acc_label: 0.8072, source_val_label_loss: 0.2453, target_val_label_loss: 4.9165, \n",
      "=============================================================\n"
     ]
    },
    {
     "name": "stdout",
     "output_type": "stream",
     "text": [
      "epoch: 18, [batch: 1 / 2520], examples_per_second: 8.1494, train_label_loss: 0.0576, \n"
     ]
    },
    {
     "name": "stdout",
     "output_type": "stream",
     "text": [
      "epoch: 18, [batch: 252 / 2520], examples_per_second: 4066.2040, train_label_loss: 0.0417, \n"
     ]
    },
    {
     "name": "stdout",
     "output_type": "stream",
     "text": [
      "epoch: 18, [batch: 504 / 2520], examples_per_second: 2625.6509, train_label_loss: 0.1373, \n"
     ]
    },
    {
     "name": "stdout",
     "output_type": "stream",
     "text": [
      "epoch: 18, [batch: 756 / 2520], examples_per_second: 2018.2724, train_label_loss: 0.2212, \n"
     ]
    },
    {
     "name": "stdout",
     "output_type": "stream",
     "text": [
      "epoch: 18, [batch: 1008 / 2520], examples_per_second: 1784.0565, train_label_loss: 0.1001, \n"
     ]
    },
    {
     "name": "stdout",
     "output_type": "stream",
     "text": [
      "epoch: 18, [batch: 1260 / 2520], examples_per_second: 1824.4640, train_label_loss: 0.0218, \n"
     ]
    },
    {
     "name": "stdout",
     "output_type": "stream",
     "text": [
      "epoch: 18, [batch: 1512 / 2520], examples_per_second: 1830.7886, train_label_loss: 0.3314, \n"
     ]
    },
    {
     "name": "stdout",
     "output_type": "stream",
     "text": [
      "epoch: 18, [batch: 1764 / 2520], examples_per_second: 1783.5074, train_label_loss: 0.2519, \n"
     ]
    },
    {
     "name": "stdout",
     "output_type": "stream",
     "text": [
      "epoch: 18, [batch: 2016 / 2520], examples_per_second: 1896.6648, train_label_loss: 0.3929, \n"
     ]
    },
    {
     "name": "stdout",
     "output_type": "stream",
     "text": [
      "epoch: 18, [batch: 2268 / 2520], examples_per_second: 1780.9130, train_label_loss: 0.0132, \n"
     ]
    },
    {
     "name": "stdout",
     "output_type": "stream",
     "text": [
      "=============================================================\n",
      "epoch: 18, source_val_acc_label: 0.9144, target_val_acc_label: 0.7923, source_val_label_loss: 0.2860, target_val_label_loss: 5.0097, \n",
      "=============================================================\n"
     ]
    },
    {
     "name": "stdout",
     "output_type": "stream",
     "text": [
      "epoch: 19, [batch: 1 / 2520], examples_per_second: 3.4252, train_label_loss: 0.1558, \n"
     ]
    },
    {
     "name": "stdout",
     "output_type": "stream",
     "text": [
      "epoch: 19, [batch: 252 / 2520], examples_per_second: 2044.8289, train_label_loss: 0.0277, \n"
     ]
    },
    {
     "name": "stdout",
     "output_type": "stream",
     "text": [
      "epoch: 19, [batch: 504 / 2520], examples_per_second: 3725.4492, train_label_loss: 0.0709, \n"
     ]
    },
    {
     "name": "stdout",
     "output_type": "stream",
     "text": [
      "epoch: 19, [batch: 756 / 2520], examples_per_second: 4118.0275, train_label_loss: 0.3251, \n"
     ]
    },
    {
     "name": "stdout",
     "output_type": "stream",
     "text": [
      "epoch: 19, [batch: 1008 / 2520], examples_per_second: 3938.8025, train_label_loss: 0.1996, \n"
     ]
    },
    {
     "name": "stdout",
     "output_type": "stream",
     "text": [
      "epoch: 19, [batch: 1260 / 2520], examples_per_second: 3708.4257, train_label_loss: 0.0370, \n"
     ]
    },
    {
     "name": "stdout",
     "output_type": "stream",
     "text": [
      "epoch: 19, [batch: 1512 / 2520], examples_per_second: 3716.9873, train_label_loss: 0.0045, \n"
     ]
    },
    {
     "name": "stdout",
     "output_type": "stream",
     "text": [
      "epoch: 19, [batch: 1764 / 2520], examples_per_second: 2234.9156, train_label_loss: 0.0052, \n"
     ]
    },
    {
     "name": "stdout",
     "output_type": "stream",
     "text": [
      "epoch: 19, [batch: 2016 / 2520], examples_per_second: 1874.5371, train_label_loss: 0.3336, \n"
     ]
    },
    {
     "name": "stdout",
     "output_type": "stream",
     "text": [
      "epoch: 19, [batch: 2268 / 2520], examples_per_second: 1811.4952, train_label_loss: 0.0971, \n"
     ]
    },
    {
     "name": "stdout",
     "output_type": "stream",
     "text": [
      "=============================================================\n",
      "epoch: 19, source_val_acc_label: 0.9073, target_val_acc_label: 0.7886, source_val_label_loss: 0.3137, target_val_label_loss: 6.6353, \n",
      "=============================================================\n"
     ]
    },
    {
     "name": "stdout",
     "output_type": "stream",
     "text": [
      "Patience (3) exhausted\n"
     ]
    }
   ],
   "source": [
    "###################################\n",
    "# train\n",
    "###################################\n",
    "jig = PTN_Train_Eval_Test_Jig(model, p.BEST_MODEL_PATH, p.device)\n",
    "\n",
    "jig.train(\n",
    "    train_iterable=datasets.source.processed.train,\n",
    "    source_val_iterable=datasets.source.processed.val,\n",
    "    target_val_iterable=datasets.target.processed.val,\n",
    "    num_epochs=p.n_epoch,\n",
    "    num_logs_per_epoch=p.NUM_LOGS_PER_EPOCH,\n",
    "    patience=p.patience,\n",
    "    optimizer=optimizer,\n",
    "    criteria_for_best=p.criteria_for_best,\n",
    ")"
   ]
  },
  {
   "cell_type": "code",
   "execution_count": 14,
   "id": "31e8fabf",
   "metadata": {
    "execution": {
     "iopub.execute_input": "2022-03-25T23:21:21.979446Z",
     "iopub.status.busy": "2022-03-25T23:21:21.978960Z",
     "iopub.status.idle": "2022-03-25T23:21:22.009573Z",
     "shell.execute_reply": "2022-03-25T23:21:22.008832Z"
    },
    "papermill": {
     "duration": 0.106948,
     "end_time": "2022-03-25T23:21:22.009760",
     "exception": false,
     "start_time": "2022-03-25T23:21:21.902812",
     "status": "completed"
    },
    "tags": []
   },
   "outputs": [],
   "source": [
    "total_experiment_time_secs = time.time() - start_time_secs"
   ]
  },
  {
   "cell_type": "code",
   "execution_count": 15,
   "id": "87b9595b",
   "metadata": {
    "execution": {
     "iopub.execute_input": "2022-03-25T23:21:22.174027Z",
     "iopub.status.busy": "2022-03-25T23:21:22.173634Z",
     "iopub.status.idle": "2022-03-25T23:23:29.650568Z",
     "shell.execute_reply": "2022-03-25T23:23:29.650887Z"
    },
    "papermill": {
     "duration": 127.561654,
     "end_time": "2022-03-25T23:23:29.651020",
     "exception": false,
     "start_time": "2022-03-25T23:21:22.089366",
     "status": "completed"
    },
    "tags": []
   },
   "outputs": [],
   "source": [
    "###################################\n",
    "# Evaluate the model\n",
    "###################################\n",
    "source_test_label_accuracy, source_test_label_loss = jig.test(datasets.source.processed.test)\n",
    "target_test_label_accuracy, target_test_label_loss = jig.test(datasets.target.processed.test)\n",
    "\n",
    "source_val_label_accuracy, source_val_label_loss = jig.test(datasets.source.processed.val)\n",
    "target_val_label_accuracy, target_val_label_loss = jig.test(datasets.target.processed.val)\n",
    "\n",
    "history = jig.get_history()\n",
    "\n",
    "total_epochs_trained = len(history[\"epoch_indices\"])\n",
    "\n",
    "val_dl = Iterable_Aggregator((datasets.source.original.val,datasets.target.original.val))\n",
    "\n",
    "confusion = ptn_confusion_by_domain_over_dataloader(model, p.device, val_dl)\n",
    "per_domain_accuracy = per_domain_accuracy_from_confusion(confusion)\n",
    "\n",
    "# Add a key to per_domain_accuracy for if it was a source domain\n",
    "for domain, accuracy in per_domain_accuracy.items():\n",
    "    per_domain_accuracy[domain] = {\n",
    "        \"accuracy\": accuracy,\n",
    "        \"source?\": domain in p.domains_source\n",
    "    }\n",
    "\n",
    "# Do an independent accuracy assesment JUST TO BE SURE!\n",
    "# _source_test_label_accuracy = independent_accuracy_assesment(model, datasets.source.processed.test, p.device)\n",
    "# _target_test_label_accuracy = independent_accuracy_assesment(model, datasets.target.processed.test, p.device)\n",
    "# _source_val_label_accuracy = independent_accuracy_assesment(model, datasets.source.processed.val, p.device)\n",
    "# _target_val_label_accuracy = independent_accuracy_assesment(model, datasets.target.processed.val, p.device)\n",
    "\n",
    "# assert(_source_test_label_accuracy == source_test_label_accuracy)\n",
    "# assert(_target_test_label_accuracy == target_test_label_accuracy)\n",
    "# assert(_source_val_label_accuracy == source_val_label_accuracy)\n",
    "# assert(_target_val_label_accuracy == target_val_label_accuracy)\n",
    "\n",
    "experiment = {\n",
    "    \"experiment_name\": p.experiment_name,\n",
    "    \"parameters\": dict(p),\n",
    "    \"results\": {\n",
    "        \"source_test_label_accuracy\": source_test_label_accuracy,\n",
    "        \"source_test_label_loss\": source_test_label_loss,\n",
    "        \"target_test_label_accuracy\": target_test_label_accuracy,\n",
    "        \"target_test_label_loss\": target_test_label_loss,\n",
    "        \"source_val_label_accuracy\": source_val_label_accuracy,\n",
    "        \"source_val_label_loss\": source_val_label_loss,\n",
    "        \"target_val_label_accuracy\": target_val_label_accuracy,\n",
    "        \"target_val_label_loss\": target_val_label_loss,\n",
    "        \"total_epochs_trained\": total_epochs_trained,\n",
    "        \"total_experiment_time_secs\": total_experiment_time_secs,\n",
    "        \"confusion\": confusion,\n",
    "        \"per_domain_accuracy\": per_domain_accuracy,\n",
    "    },\n",
    "    \"history\": history,\n",
    "    \"dataset_metrics\": get_dataset_metrics(datasets, \"ptn\"),\n",
    "}"
   ]
  },
  {
   "cell_type": "code",
   "execution_count": 16,
   "id": "54a21829",
   "metadata": {
    "execution": {
     "iopub.execute_input": "2022-03-25T23:23:29.835250Z",
     "iopub.status.busy": "2022-03-25T23:23:29.834563Z",
     "iopub.status.idle": "2022-03-25T23:23:30.049847Z",
     "shell.execute_reply": "2022-03-25T23:23:30.050532Z"
    },
    "papermill": {
     "duration": 0.300263,
     "end_time": "2022-03-25T23:23:30.050753",
     "exception": false,
     "start_time": "2022-03-25T23:23:29.750490",
     "status": "completed"
    },
    "tags": []
   },
   "outputs": [
    {
     "data": {
      "image/png": "[encoded data removed]",
      "text/plain": [
       "<Figure size 1080x504 with 1 Axes>"
      ]
     },
     "metadata": {
      "needs_background": "light"
     },
     "output_type": "display_data"
    }
   ],
   "source": [
    "ax = get_loss_curve(experiment)\n",
    "plt.show()"
   ]
  },
  {
   "cell_type": "code",
   "execution_count": 17,
   "id": "fd8a0f60",
   "metadata": {
    "execution": {
     "iopub.execute_input": "2022-03-25T23:23:30.207714Z",
     "iopub.status.busy": "2022-03-25T23:23:30.207331Z",
     "iopub.status.idle": "2022-03-25T23:23:30.581248Z",
     "shell.execute_reply": "2022-03-25T23:23:30.581917Z"
    },
    "papermill": {
     "duration": 0.453632,
     "end_time": "2022-03-25T23:23:30.582145",
     "exception": false,
     "start_time": "2022-03-25T23:23:30.128513",
     "status": "completed"
    },
    "tags": []
   },
   "outputs": [
    {
     "data": {
      "text/plain": [
       "<AxesSubplot:title={'center':'Results'}>"
      ]
     },
     "execution_count": 17,
     "metadata": {},
     "output_type": "execute_result"
    },
    {
     "data": {
      "image/png": "[encoded data removed]",
      "text/plain": [
       "<Figure size 1080x504 with 1 Axes>"
      ]
     },
     "metadata": {
      "needs_background": "light"
     },
     "output_type": "display_data"
    }
   ],
   "source": [
    "get_results_table(experiment)"
   ]
  },
  {
   "cell_type": "code",
   "execution_count": 18,
   "id": "cf8dc689",
   "metadata": {
    "execution": {
     "iopub.execute_input": "2022-03-25T23:23:30.748320Z",
     "iopub.status.busy": "2022-03-25T23:23:30.747955Z",
     "iopub.status.idle": "2022-03-25T23:23:30.964060Z",
     "shell.execute_reply": "2022-03-25T23:23:30.964747Z"
    },
    "papermill": {
     "duration": 0.297919,
     "end_time": "2022-03-25T23:23:30.964988",
     "exception": false,
     "start_time": "2022-03-25T23:23:30.667069",
     "status": "completed"
    },
    "tags": []
   },
   "outputs": [
    {
     "data": {
      "text/plain": [
       "<AxesSubplot:title={'center':'Per Domain Validation Accuracy'}, xlabel='domain'>"
      ]
     },
     "execution_count": 18,
     "metadata": {},
     "output_type": "execute_result"
    },
    {
     "data": {
      "image/png": "[encoded data removed]",
      "text/plain": [
       "<Figure size 1080x504 with 1 Axes>"
      ]
     },
     "metadata": {
      "needs_background": "light"
     },
     "output_type": "display_data"
    }
   ],
   "source": [
    "get_domain_accuracies(experiment)"
   ]
  },
  {
   "cell_type": "code",
   "execution_count": 19,
   "id": "a74ae082",
   "metadata": {
    "execution": {
     "iopub.execute_input": "2022-03-25T23:23:31.129917Z",
     "iopub.status.busy": "2022-03-25T23:23:31.129535Z",
     "iopub.status.idle": "2022-03-25T23:23:31.157168Z",
     "shell.execute_reply": "2022-03-25T23:23:31.156356Z"
    },
    "papermill": {
     "duration": 0.110685,
     "end_time": "2022-03-25T23:23:31.157343",
     "exception": false,
     "start_time": "2022-03-25T23:23:31.046658",
     "status": "completed"
    },
    "tags": []
   },
   "outputs": [
    {
     "name": "stdout",
     "output_type": "stream",
     "text": [
      "Source Test Label Accuracy: 0.9296875 Target Test Label Accuracy: 0.8223958333333333\n",
      "Source Val Label Accuracy: 0.9293402777777777 Target Val Label Accuracy: 0.8140104166666666\n"
     ]
    }
   ],
   "source": [
    "print(\"Source Test Label Accuracy:\", experiment[\"results\"][\"source_test_label_accuracy\"], \"Target Test Label Accuracy:\", experiment[\"results\"][\"target_test_label_accuracy\"])\n",
    "print(\"Source Val Label Accuracy:\", experiment[\"results\"][\"source_val_label_accuracy\"], \"Target Val Label Accuracy:\", experiment[\"results\"][\"target_val_label_accuracy\"])"
   ]
  },
  {
   "cell_type": "code",
   "execution_count": 20,
   "id": "dacca602",
   "metadata": {
    "execution": {
     "iopub.execute_input": "2022-03-25T23:23:31.389051Z",
     "iopub.status.busy": "2022-03-25T23:23:31.388153Z",
     "iopub.status.idle": "2022-03-25T23:23:31.412140Z",
     "shell.execute_reply": "2022-03-25T23:23:31.411402Z"
    },
    "papermill": {
     "duration": 0.169759,
     "end_time": "2022-03-25T23:23:31.412313",
     "exception": false,
     "start_time": "2022-03-25T23:23:31.242554",
     "status": "completed"
    },
    "tags": [
     "experiment_json"
    ]
   },
   "outputs": [
    {
     "data": {
      "text/plain": [
       "'{\"experiment_name\": \"tuned_1v2:oracle.run1.framed\", \"parameters\": {\"experiment_name\": \"tuned_1v2:oracle.run1.framed\", \"device\": \"cuda\", \"lr\": 0.0001, \"labels_source\": [\"3123D52\", \"3123D65\", \"3123D79\", \"3123D80\", \"3123D54\", \"3123D70\", \"3123D7B\", \"3123D89\", \"3123D58\", \"3123D76\", \"3123D7D\", \"3123EFE\", \"3123D64\", \"3123D78\", \"3123D7E\", \"3124E4A\"], \"labels_target\": [\"3123D52\", \"3123D65\", \"3123D79\", \"3123D80\", \"3123D54\", \"3123D70\", \"3123D7B\", \"3123D89\", \"3123D58\", \"3123D76\", \"3123D7D\", \"3123EFE\", \"3123D64\", \"3123D78\", \"3123D7E\", \"3124E4A\"], \"episode_transforms_source\": [], \"episode_transforms_target\": [], \"domains_source\": [8, 32, 50], \"domains_target\": [14, 20, 26, 38, 44], \"num_examples_per_domain_per_label_source\": -1, \"num_examples_per_domain_per_label_target\": -1, \"n_shot\": 3, \"n_way\": 16, \"n_query\": 2, \"train_k_factor\": 3, \"val_k_factor\": 2, \"test_k_factor\": 2, \"torch_default_dtype\": \"torch.float32\", \"n_epoch\": 50, \"patience\": 3, \"criteria_for_best\": \"target_accuracy\", \"x_net\": [{\"class\": \"nnReshape\", \"kargs\": {\"shape\": [-1, 1, 2, 256]}}, {\"class\": \"Conv2d\", \"kargs\": {\"in_channels\": 1, \"out_channels\": 256, \"kernel_size\": [1, 7], \"bias\": false, \"padding\": [0, 3]}}, {\"class\": \"ReLU\", \"kargs\": {\"inplace\": true}}, {\"class\": \"BatchNorm2d\", \"kargs\": {\"num_features\": 256}}, {\"class\": \"Conv2d\", \"kargs\": {\"in_channels\": 256, \"out_channels\": 80, \"kernel_size\": [2, 7], \"bias\": true, \"padding\": [0, 3]}}, {\"class\": \"ReLU\", \"kargs\": {\"inplace\": true}}, {\"class\": \"BatchNorm2d\", \"kargs\": {\"num_features\": 80}}, {\"class\": \"Flatten\", \"kargs\": {}}, {\"class\": \"Linear\", \"kargs\": {\"in_features\": 20480, \"out_features\": 256}}, {\"class\": \"ReLU\", \"kargs\": {\"inplace\": true}}, {\"class\": \"BatchNorm1d\", \"kargs\": {\"num_features\": 256}}, {\"class\": \"Linear\", \"kargs\": {\"in_features\": 256, \"out_features\": 256}}], \"NUM_LOGS_PER_EPOCH\": 10, \"BEST_MODEL_PATH\": \"./best_model.pth\", \"pickle_name\": \"oracle.Run1_framed_2000Examples_stratified_ds.2022A.pkl\", \"x_transforms_source\": [\"unit_power\"], \"x_transforms_target\": [\"unit_power\"], \"dataset_seed\": 500, \"seed\": 500}, \"results\": {\"source_test_label_accuracy\": 0.9296875, \"source_test_label_loss\": 0.30202680826187134, \"target_test_label_accuracy\": 0.8223958333333333, \"target_test_label_loss\": 3.0663607120513916, \"source_val_label_accuracy\": 0.9293402777777777, \"source_val_label_loss\": 0.2323146015405655, \"target_val_label_accuracy\": 0.8140104166666666, \"target_val_label_loss\": 4.426422119140625, \"total_epochs_trained\": 19, \"total_experiment_time_secs\": 1924.689311504364, \"confusion\": {\"8\": {\"7\": {\"7\": 225, \"6\": 15}, \"10\": {\"10\": 227, \"14\": 5, \"4\": 1, \"13\": 7}, \"0\": {\"0\": 230, \"7\": 5, \"13\": 5}, \"11\": {\"11\": 240}, \"2\": {\"2\": 237, \"3\": 2, \"7\": 1}, \"14\": {\"14\": 213, \"1\": 2, \"4\": 12, \"10\": 13}, \"9\": {\"9\": 240}, \"13\": {\"13\": 172, \"4\": 23, \"0\": 15, \"10\": 23, \"6\": 7}, \"8\": {\"8\": 240}, \"15\": {\"15\": 231, \"12\": 9}, \"4\": {\"4\": 220, \"13\": 14, \"6\": 3, \"10\": 1, \"14\": 2}, \"5\": {\"5\": 237, \"1\": 1, \"10\": 2}, \"3\": {\"3\": 239, \"12\": 1}, \"1\": {\"1\": 240}, \"6\": {\"6\": 213, \"4\": 8, \"7\": 16, \"0\": 3}, \"12\": {\"12\": 221, \"3\": 2, \"15\": 16, \"8\": 1}}, \"50\": {\"11\": {\"11\": 238, \"15\": 1, \"12\": 1}, \"2\": {\"2\": 230, \"0\": 10}, \"12\": {\"12\": 236, \"9\": 2, \"11\": 2}, \"8\": {\"8\": 236, \"10\": 4}, \"4\": {\"4\": 173, \"5\": 43, \"15\": 14, \"6\": 4, \"7\": 4, \"1\": 2}, \"10\": {\"10\": 235, \"13\": 3, \"0\": 2}, \"14\": {\"14\": 240}, \"13\": {\"13\": 235, \"5\": 3, \"10\": 1, \"6\": 1}, \"6\": {\"6\": 224, \"4\": 4, \"15\": 1, \"13\": 6, \"7\": 2, \"5\": 3}, \"9\": {\"9\": 226, \"11\": 6, \"12\": 8}, \"15\": {\"6\": 2, \"15\": 220, \"4\": 11, \"1\": 4, \"11\": 3}, \"1\": {\"15\": 11, \"1\": 226, \"5\": 3}, \"3\": {\"3\": 238, \"8\": 2}, \"7\": {\"7\": 222, \"5\": 11, \"13\": 4, \"4\": 1, \"6\": 2}, \"0\": {\"0\": 212, \"10\": 5, \"2\": 21, \"13\": 2}, \"5\": {\"5\": 167, \"4\": 38, \"13\": 12, \"7\": 9, \"1\": 10, \"15\": 1, \"6\": 3}}, \"32\": {\"4\": {\"4\": 197, \"2\": 32, \"7\": 5, \"5\": 6}, \"14\": {\"14\": 201, \"0\": 12, \"11\": 13, \"7\": 6, \"8\": 7, \"5\": 1}, \"5\": {\"5\": 156, \"7\": 47, \"14\": 5, \"13\": 14, \"8\": 7, \"0\": 4, \"4\": 4, \"3\": 3}, \"10\": {\"10\": 240}, \"13\": {\"13\": 207, \"7\": 7, \"11\": 2, \"5\": 13, \"3\": 5, \"4\": 4, \"8\": 2}, \"9\": {\"9\": 240}, \"6\": {\"6\": 240}, \"3\": {\"3\": 234, \"13\": 6}, \"15\": {\"15\": 239, \"8\": 1}, \"7\": {\"7\": 199, \"5\": 24, \"14\": 5, \"4\": 8, \"13\": 3, \"0\": 1}, \"12\": {\"12\": 240}, \"8\": {\"8\": 236, \"13\": 1, \"0\": 2, \"14\": 1}, \"11\": {\"11\": 233, \"14\": 6, \"13\": 1}, \"2\": {\"2\": 211, \"4\": 29}, \"1\": {\"1\": 240}, \"0\": {\"0\": 210, \"8\": 18, \"5\": 1, \"14\": 9, \"7\": 2}}, \"20\": {\"7\": {\"7\": 220, \"3\": 6, \"2\": 9, \"8\": 2, \"9\": 2, \"6\": 1}, \"10\": {\"10\": 240}, \"0\": {\"0\": 175, \"5\": 52, \"15\": 11, \"8\": 1, \"1\": 1}, \"11\": {\"11\": 240}, \"2\": {\"9\": 27, \"2\": 153, \"12\": 31, \"7\": 12, \"1\": 3, \"3\": 9, \"13\": 5}, \"14\": {\"14\": 228, \"6\": 10, \"8\": 2}, \"9\": {\"9\": 181, \"3\": 24, \"2\": 23, \"12\": 12}, \"13\": {\"13\": 239, \"15\": 1}, \"8\": {\"8\": 229, \"14\": 1, \"4\": 6, \"7\": 3, \"5\": 1}, \"15\": {\"15\": 201, \"1\": 16, \"13\": 6, \"5\": 12, \"0\": 5}, \"4\": {\"4\": 235, \"8\": 4, \"7\": 1}, \"5\": {\"5\": 193, \"12\": 7, \"0\": 33, \"15\": 4, \"13\": 1, \"1\": 2}, \"3\": {\"3\": 169, \"9\": 20, \"4\": 3, \"12\": 34, \"1\": 2, \"2\": 9, \"7\": 3}, \"1\": {\"1\": 181, \"2\": 1, \"12\": 35, \"15\": 13, \"3\": 5, \"5\": 3, \"13\": 1, \"9\": 1}, \"6\": {\"6\": 231, \"14\": 8, \"8\": 1}, \"12\": {\"1\": 33, \"12\": 140, \"3\": 29, \"9\": 14, \"2\": 19, \"5\": 4, \"7\": 1}}, \"14\": {\"14\": {\"14\": 227, \"2\": 8, \"13\": 5}, \"6\": {\"6\": 186, \"13\": 53, \"2\": 1}, \"5\": {\"5\": 185, \"4\": 26, \"1\": 19, \"2\": 7, \"3\": 3}, \"15\": {\"15\": 240}, \"11\": {\"11\": 231, \"9\": 8, \"0\": 1}, \"8\": {\"8\": 240}, \"12\": {\"12\": 240}, \"1\": {\"1\": 221, \"5\": 17, \"4\": 2}, \"2\": {\"2\": 125, \"14\": 51, \"5\": 20, \"6\": 17, \"13\": 17, \"3\": 6, \"4\": 3, \"15\": 1}, \"13\": {\"6\": 77, \"13\": 93, \"14\": 46, \"2\": 21, \"5\": 2, \"3\": 1}, \"3\": {\"3\": 233, \"4\": 3, \"14\": 4}, \"0\": {\"0\": 233, \"10\": 4, \"11\": 1, \"3\": 2}, \"9\": {\"9\": 240}, \"4\": {\"5\": 16, \"4\": 220, \"1\": 3, \"2\": 1}, \"7\": {\"7\": 240}, \"10\": {\"10\": 240}}, \"38\": {\"4\": {\"4\": 235, \"12\": 1, \"0\": 3, \"7\": 1}, \"14\": {\"2\": 19, \"14\": 217, \"13\": 2, \"12\": 1, \"10\": 1}, \"5\": {\"5\": 120, \"6\": 5, \"7\": 27, \"8\": 66, \"15\": 6, \"9\": 7, \"0\": 4, \"10\": 4, \"13\": 1}, \"10\": {\"10\": 202, \"7\": 11, \"13\": 10, \"8\": 8, \"5\": 3, \"0\": 6}, \"13\": {\"10\": 12, \"13\": 217, \"5\": 1, \"15\": 4, \"0\": 2, \"2\": 3, \"8\": 1}, \"9\": {\"9\": 233, \"5\": 3, \"6\": 4}, \"6\": {\"6\": 238, \"9\": 2}, \"3\": {\"3\": 230, \"6\": 1, \"7\": 2, \"11\": 2, \"0\": 3, \"9\": 2}, \"15\": {\"15\": 210, \"8\": 11, \"13\": 6, \"1\": 10, \"5\": 3}, \"7\": {\"7\": 200, \"5\": 15, \"0\": 6, \"10\": 12, \"8\": 6, \"4\": 1}, \"12\": {\"12\": 239, \"4\": 1}, \"8\": {\"8\": 163, \"10\": 17, \"15\": 8, \"13\": 13, \"5\": 33, \"0\": 5, \"7\": 1}, \"11\": {\"0\": 19, \"3\": 14, \"4\": 22, \"11\": 160, \"1\": 10, \"10\": 6, \"6\": 5, \"2\": 1, \"9\": 1, \"14\": 1, \"7\": 1}, \"2\": {\"2\": 212, \"14\": 22, \"13\": 6}, \"1\": {\"1\": 231, \"15\": 9}, \"0\": {\"0\": 138, \"8\": 19, \"10\": 36, \"7\": 16, \"3\": 19, \"12\": 2, \"5\": 6, \"4\": 1, \"13\": 3}}, \"44\": {\"8\": {\"0\": 96, \"8\": 127, \"15\": 7, \"5\": 10}, \"11\": {\"11\": 233, \"6\": 4, \"13\": 3}, \"14\": {\"14\": 164, \"15\": 12, \"4\": 61, \"5\": 3}, \"10\": {\"10\": 214, \"12\": 2, \"1\": 13, \"2\": 11}, \"3\": {\"3\": 233, \"1\": 7}, \"15\": {\"15\": 196, \"0\": 11, \"14\": 25, \"8\": 4, \"4\": 4}, \"2\": {\"2\": 193, \"7\": 28, \"1\": 6, \"9\": 1, \"10\": 7, \"3\": 2, \"12\": 3}, \"12\": {\"12\": 213, \"3\": 7, \"1\": 19, \"10\": 1}, \"4\": {\"4\": 174, \"14\": 66}, \"1\": {\"1\": 182, \"3\": 16, \"12\": 17, \"10\": 17, \"2\": 8}, \"0\": {\"5\": 20, \"0\": 153, \"8\": 61, \"15\": 6}, \"9\": {\"9\": 130, \"6\": 22, \"7\": 64, \"13\": 21, \"2\": 3}, \"5\": {\"5\": 216, \"0\": 14, \"14\": 7, \"15\": 3}, \"6\": {\"6\": 181, \"9\": 18, \"13\": 36, \"7\": 4, \"11\": 1}, \"7\": {\"2\": 26, \"7\": 165, \"9\": 39, \"6\": 8, \"13\": 2}, \"13\": {\"13\": 173, \"11\": 5, \"6\": 37, \"9\": 23, \"4\": 1, \"7\": 1}}, \"26\": {\"6\": {\"6\": 219, \"8\": 2, \"9\": 16, \"0\": 1, \"10\": 2}, \"11\": {\"11\": 240}, \"5\": {\"13\": 21, \"5\": 206, \"2\": 7, \"15\": 3, \"9\": 2, \"3\": 1}, \"14\": {\"0\": 33, \"4\": 41, \"10\": 14, \"8\": 4, \"14\": 134, \"1\": 14}, \"2\": {\"3\": 70, \"2\": 110, \"13\": 2, \"5\": 32, \"9\": 2, \"7\": 11, \"8\": 5, \"15\": 8}, \"7\": {\"3\": 22, \"7\": 173, \"8\": 18, \"2\": 14, \"4\": 13}, \"3\": {\"3\": 185, \"2\": 37, \"7\": 18}, \"4\": {\"0\": 21, \"8\": 16, \"4\": 169, \"14\": 25, \"10\": 2, \"1\": 3, \"7\": 4}, \"9\": {\"9\": 196, \"6\": 10, \"15\": 32, \"13\": 2}, \"12\": {\"12\": 240}, \"0\": {\"10\": 53, \"0\": 104, \"7\": 3, \"4\": 29, \"8\": 22, \"14\": 29}, \"10\": {\"10\": 122, \"0\": 62, \"8\": 40, \"7\": 1, \"14\": 12, \"4\": 3}, \"8\": {\"8\": 133, \"10\": 35, \"4\": 26, \"0\": 20, \"7\": 17, \"15\": 2, \"2\": 2, \"14\": 4, \"9\": 1}, \"13\": {\"13\": 193, \"15\": 4, \"5\": 31, \"9\": 9, \"2\": 3}, \"1\": {\"1\": 198, \"14\": 29, \"10\": 2, \"4\": 9, \"8\": 2}, \"15\": {\"15\": 166, \"9\": 44, \"2\": 2, \"6\": 13, \"13\": 2, \"5\": 5, \"10\": 1, \"7\": 2, \"8\": 5}}}, \"per_domain_accuracy\": {\"8\": {\"accuracy\": 0.9440104166666666, \"source?\": true}, \"50\": {\"accuracy\": 0.9265625, \"source?\": true}, \"32\": {\"accuracy\": 0.9174479166666667, \"source?\": true}, \"20\": {\"accuracy\": 0.84765625, \"source?\": false}, \"14\": {\"accuracy\": 0.8838541666666667, \"source?\": false}, \"38\": {\"accuracy\": 0.8450520833333334, \"source?\": false}, \"44\": {\"accuracy\": 0.7674479166666667, \"source?\": false}, \"26\": {\"accuracy\": 0.7260416666666667, \"source?\": false}}}, \"history\": {\"epoch_indices\": [1, 2, 3, 4, 5, 6, 7, 8, 9, 10, 11, 12, 13, 14, 15, 16, 17, 18, 19], \"train_label_loss\": [1.0442004535879408, 0.5867635088987531, 0.45710400954657604, 0.38601504856986657, 0.326970056105139, 0.27794069001111127, 0.24450770336247626, 0.2195126881643701, 0.19782117151854825, 0.18242914373727723, 0.16626962506385992, 0.15696045324106567, 0.14541179571450422, 0.13214276697055163, 0.12400397957604756, 0.11583729786133128, 0.11062241371551026, 0.10146285931460582, 0.10220421878201748], \"source_val_label_loss\": [0.830473780632019, 0.5556548237800598, 0.48727306723594666, 0.41658130288124084, 0.35877734422683716, 0.3491612374782562, 0.3049197196960449, 0.3001347482204437, 0.2915700376033783, 0.2675933837890625, 0.27511510252952576, 0.26800140738487244, 0.24604757130146027, 0.2564467489719391, 0.2323146015405655, 0.25161805748939514, 0.24526989459991455, 0.2859950065612793, 0.31369251012802124], \"target_val_label_loss\": [2.2279975414276123, 1.9654215574264526, 2.419501543045044, 2.5190744400024414, 2.795335054397583, 3.0462276935577393, 3.1439199447631836, 3.0813345909118652, 3.3000502586364746, 3.476731777191162, 3.9678595066070557, 4.465672016143799, 3.8694605827331543, 4.426967144012451, 4.426422119140625, 4.2346415519714355, 4.916465759277344, 5.009673118591309, 6.635263442993164], \"source_val_acc_label\": [0.7269097222222223, 0.80390625, 0.8225694444444445, 0.8504340277777778, 0.87578125, 0.878125, 0.8927083333333333, 0.89765625, 0.9025173611111111, 0.9122395833333333, 0.9106770833333333, 0.915625, 0.9221354166666667, 0.9181423611111111, 0.9293402777777777, 0.9203125, 0.9236111111111112, 0.9144097222222223, 0.9072916666666667], \"target_val_acc_label\": [0.65953125, 0.7376041666666666, 0.7381770833333333, 0.76890625, 0.78875, 0.7809895833333333, 0.7970833333333334, 0.7971354166666667, 0.79921875, 0.8084895833333333, 0.8047395833333333, 0.8108854166666667, 0.8129166666666666, 0.8029166666666666, 0.8140104166666666, 0.8013541666666667, 0.8071875, 0.7922916666666666, 0.7886458333333334]}, \"dataset_metrics\": {\"source\": {\"train\": {\"n_unique_x\": 67200, \"n_unique_y\": 16, \"n_batch/episode\": 2520}, \"val\": {\"n_unique_x\": 14400, \"n_unique_y\": 16, \"n_batch/episode\": 360}, \"test\": {\"n_unique_x\": 14400, \"n_unique_y\": 16, \"n_batch/episode\": 360}}, \"target\": {\"train\": {\"n_unique_x\": 112000, \"n_unique_y\": 16, \"n_batch/episode\": 4200}, \"val\": {\"n_unique_x\": 24000, \"n_unique_y\": 16, \"n_batch/episode\": 600}, \"test\": {\"n_unique_x\": 24000, \"n_unique_y\": 16, \"n_batch/episode\": 600}}}}'"
      ]
     },
     "execution_count": 20,
     "metadata": {},
     "output_type": "execute_result"
    }
   ],
   "source": [
    "json.dumps(experiment)"
   ]
  }
 ],
 "metadata": {
  "celltoolbar": "Tags",
  "kernelspec": {
   "display_name": "Python 3 (ipykernel)",
   "language": "python",
   "name": "python3"
  },
  "language_info": {
   "codemirror_mode": {
    "name": "ipython",
    "version": 3
   },
   "file_extension": ".py",
   "mimetype": "text/x-python",
   "name": "python",
   "nbconvert_exporter": "python",
   "pygments_lexer": "ipython3",
   "version": "3.8.12"
  },
  "papermill": {
   "default_parameters": {},
   "duration": 2059.640513,
   "end_time": "2022-03-25T23:23:33.514602",
   "environment_variables": {},
   "exception": null,
   "input_path": "/root/csc500-main/csc500-notebooks/templates/ptn_template.ipynb",
   "output_path": "trial.ipynb",
   "parameters": {
    "parameters": {
     "BEST_MODEL_PATH": "./best_model.pth",
     "NUM_LOGS_PER_EPOCH": 10,
     "criteria_for_best": "target_accuracy",
     "dataset_seed": 500,
     "device": "cuda",
     "domains_source": [
      8,
      32,
      50
     ],
     "domains_target": [
      14,
      20,
      26,
      38,
      44
     ],
     "episode_transforms_source": [],
     "episode_transforms_target": [],
     "experiment_name": "tuned_1v2:oracle.run1.framed",
     "labels_source": [
      "3123D52",
      "3123D65",
      "3123D79",
      "3123D80",
      "3123D54",
      "3123D70",
      "3123D7B",
      "3123D89",
      "3123D58",
      "3123D76",
      "3123D7D",
      "3123EFE",
      "3123D64",
      "3123D78",
      "3123D7E",
      "3124E4A"
     ],
     "labels_target": [
      "3123D52",
      "3123D65",
      "3123D79",
      "3123D80",
      "3123D54",
      "3123D70",
      "3123D7B",
      "3123D89",
      "3123D58",
      "3123D76",
      "3123D7D",
      "3123EFE",
      "3123D64",
      "3123D78",
      "3123D7E",
      "3124E4A"
     ],
     "lr": 0.0001,
     "n_epoch": 50,
     "n_query": 2,
     "n_shot": 3,
     "n_way": 16,
     "num_examples_per_domain_per_label_source": -1,
     "num_examples_per_domain_per_label_target": -1,
     "patience": 3,
     "pickle_name": "oracle.Run1_framed_2000Examples_stratified_ds.2022A.pkl",
     "seed": 500,
     "test_k_factor": 2,
     "torch_default_dtype": "torch.float32",
     "train_k_factor": 3,
     "val_k_factor": 2,
     "x_net": [
      {
       "class": "nnReshape",
       "kargs": {
        "shape": [
         -1,
         1,
         2,
         256
        ]
       }
      },
      {
       "class": "Conv2d",
       "kargs": {
        "bias": false,
        "in_channels": 1,
        "kernel_size": [
         1,
         7
        ],
        "out_channels": 256,
        "padding": [
         0,
         3
        ]
       }
      },
      {
       "class": "ReLU",
       "kargs": {
        "inplace": true
       }
      },
      {
       "class": "BatchNorm2d",
       "kargs": {
        "num_features": 256
       }
      },
      {
       "class": "Conv2d",
       "kargs": {
        "bias": true,
        "in_channels": 256,
        "kernel_size": [
         2,
         7
        ],
        "out_channels": 80,
        "padding": [
         0,
         3
        ]
       }
      },
      {
       "class": "ReLU",
       "kargs": {
        "inplace": true
       }
      },
      {
       "class": "BatchNorm2d",
       "kargs": {
        "num_features": 80
       }
      },
      {
       "class": "Flatten",
       "kargs": {}
      },
      {
       "class": "Linear",
       "kargs": {
        "in_features": 20480,
        "out_features": 256
       }
      },
      {
       "class": "ReLU",
       "kargs": {
        "inplace": true
       }
      },
      {
       "class": "BatchNorm1d",
       "kargs": {
        "num_features": 256
       }
      },
      {
       "class": "Linear",
       "kargs": {
        "in_features": 256,
        "out_features": 256
       }
      }
     ],
     "x_transforms_source": [
      "unit_power"
     ],
     "x_transforms_target": [
      "unit_power"
     ]
    }
   },
   "start_time": "2022-03-25T22:49:13.874089",
   "version": "2.3.4"
  }
 },
 "nbformat": 4,
 "nbformat_minor": 5
}