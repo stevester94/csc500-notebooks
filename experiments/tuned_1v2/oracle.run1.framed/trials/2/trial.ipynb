{
 "cells": [
  {
   "cell_type": "markdown",
   "id": "9fea5f46",
   "metadata": {
    "papermill": {
     "duration": 0.02318,
     "end_time": "2022-03-25T21:07:00.965332",
     "exception": false,
     "start_time": "2022-03-25T21:07:00.942152",
     "status": "completed"
    },
    "tags": []
   },
   "source": [
    "# PTN Template\n",
    "This notebook serves as a template for single dataset PTN experiments  \n",
    "It can be run on its own by setting STANDALONE to True (do a find for \"STANDALONE\" to see where)  \n",
    "But it is intended to be executed as part of a *papermill.py script. See any of the   \n",
    "experimentes with a papermill script to get started with that workflow.  "
   ]
  },
  {
   "cell_type": "code",
   "execution_count": 1,
   "id": "0902182a",
   "metadata": {
    "execution": {
     "iopub.execute_input": "2022-03-25T21:07:01.015810Z",
     "iopub.status.busy": "2022-03-25T21:07:01.014948Z",
     "iopub.status.idle": "2022-03-25T21:07:02.930484Z",
     "shell.execute_reply": "2022-03-25T21:07:02.929624Z"
    },
    "papermill": {
     "duration": 1.948514,
     "end_time": "2022-03-25T21:07:02.930671",
     "exception": false,
     "start_time": "2022-03-25T21:07:00.982157",
     "status": "completed"
    },
    "tags": []
   },
   "outputs": [],
   "source": [
    "%load_ext autoreload\n",
    "%autoreload 2\n",
    "%matplotlib inline\n",
    "\n",
    "    \n",
    "import os, json, sys, time, random\n",
    "import numpy as np\n",
    "import torch\n",
    "from torch.optim import Adam\n",
    "from  easydict import EasyDict\n",
    "import matplotlib.pyplot as plt\n",
    "\n",
    "from steves_models.steves_ptn import Steves_Prototypical_Network\n",
    "\n",
    "from steves_utils.lazy_iterable_wrapper import Lazy_Iterable_Wrapper\n",
    "from steves_utils.iterable_aggregator import Iterable_Aggregator\n",
    "from steves_utils.ptn_train_eval_test_jig import  PTN_Train_Eval_Test_Jig\n",
    "from steves_utils.torch_sequential_builder import build_sequential\n",
    "from steves_utils.torch_utils import get_dataset_metrics, ptn_confusion_by_domain_over_dataloader\n",
    "from steves_utils.utils_v2 import (per_domain_accuracy_from_confusion, get_datasets_base_path)\n",
    "from steves_utils.PTN.utils import independent_accuracy_assesment\n",
    "\n",
    "from steves_utils.stratified_dataset.episodic_accessor import Episodic_Accessor_Factory\n",
    "\n",
    "from steves_utils.ptn_do_report import (\n",
    "    get_loss_curve,\n",
    "    get_results_table,\n",
    "    get_parameters_table,\n",
    "    get_domain_accuracies,\n",
    ")\n",
    "\n",
    "from steves_utils.transforms import get_chained_transform"
   ]
  },
  {
   "cell_type": "markdown",
   "id": "41c840b4",
   "metadata": {
    "papermill": {
     "duration": 0.014009,
     "end_time": "2022-03-25T21:07:02.964480",
     "exception": false,
     "start_time": "2022-03-25T21:07:02.950471",
     "status": "completed"
    },
    "tags": []
   },
   "source": [
    "# Required Parameters\n",
    "These are allowed parameters, not defaults\n",
    "Each of these values need to be present in the injected parameters (the notebook will raise an exception if they are not present)\n",
    "\n",
    "Papermill uses the cell tag \"parameters\" to inject the real parameters below this cell.\n",
    "Enable tags to see what I mean"
   ]
  },
  {
   "cell_type": "code",
   "execution_count": 2,
   "id": "fd44eb83",
   "metadata": {
    "execution": {
     "iopub.execute_input": "2022-03-25T21:07:02.998040Z",
     "iopub.status.busy": "2022-03-25T21:07:02.997641Z",
     "iopub.status.idle": "2022-03-25T21:07:03.022018Z",
     "shell.execute_reply": "2022-03-25T21:07:03.021288Z"
    },
    "papermill": {
     "duration": 0.0439,
     "end_time": "2022-03-25T21:07:03.022185",
     "exception": false,
     "start_time": "2022-03-25T21:07:02.978285",
     "status": "completed"
    },
    "tags": []
   },
   "outputs": [],
   "source": [
    "required_parameters = {\n",
    "    \"experiment_name\",\n",
    "    \"lr\",\n",
    "    \"device\",\n",
    "    \"seed\",\n",
    "    \"dataset_seed\",\n",
    "    \"labels_source\",\n",
    "    \"labels_target\",\n",
    "    \"domains_source\",\n",
    "    \"domains_target\",\n",
    "    \"num_examples_per_domain_per_label_source\",\n",
    "    \"num_examples_per_domain_per_label_target\",\n",
    "    \"n_shot\",\n",
    "    \"n_way\",\n",
    "    \"n_query\",\n",
    "    \"train_k_factor\",\n",
    "    \"val_k_factor\",\n",
    "    \"test_k_factor\",\n",
    "    \"n_epoch\",\n",
    "    \"patience\",\n",
    "    \"criteria_for_best\",\n",
    "    \"x_transforms_source\",\n",
    "    \"x_transforms_target\",\n",
    "    \"episode_transforms_source\",\n",
    "    \"episode_transforms_target\",\n",
    "    \"pickle_name\",\n",
    "    \"x_net\",\n",
    "    \"NUM_LOGS_PER_EPOCH\",\n",
    "    \"BEST_MODEL_PATH\",\n",
    "    \"torch_default_dtype\"\n",
    "}"
   ]
  },
  {
   "cell_type": "code",
   "execution_count": 3,
   "id": "fa3f0049",
   "metadata": {
    "execution": {
     "iopub.execute_input": "2022-03-25T21:07:03.069676Z",
     "iopub.status.busy": "2022-03-25T21:07:03.068716Z",
     "iopub.status.idle": "2022-03-25T21:07:03.090916Z",
     "shell.execute_reply": "2022-03-25T21:07:03.090115Z"
    },
    "papermill": {
     "duration": 0.049407,
     "end_time": "2022-03-25T21:07:03.091096",
     "exception": false,
     "start_time": "2022-03-25T21:07:03.041689",
     "status": "completed"
    },
    "tags": [
     "parameters"
    ]
   },
   "outputs": [],
   "source": [
    "\n",
    "\n",
    "standalone_parameters = {}\n",
    "standalone_parameters[\"experiment_name\"] = \"STANDALONE PTN\"\n",
    "standalone_parameters[\"lr\"] = 0.0001\n",
    "standalone_parameters[\"device\"] = \"cuda\"\n",
    "\n",
    "standalone_parameters[\"seed\"] = 1337\n",
    "standalone_parameters[\"dataset_seed\"] = 1337\n",
    "\n",
    "\n",
    "standalone_parameters[\"num_examples_per_domain_per_label_source\"]=100\n",
    "standalone_parameters[\"num_examples_per_domain_per_label_target\"]=100\n",
    "\n",
    "standalone_parameters[\"n_shot\"] = 3\n",
    "standalone_parameters[\"n_query\"]  = 2\n",
    "standalone_parameters[\"train_k_factor\"] = 1\n",
    "standalone_parameters[\"val_k_factor\"] = 2\n",
    "standalone_parameters[\"test_k_factor\"] = 2\n",
    "\n",
    "\n",
    "standalone_parameters[\"n_epoch\"] = 100\n",
    "\n",
    "standalone_parameters[\"patience\"] = 10\n",
    "standalone_parameters[\"criteria_for_best\"] = \"target_accuracy\"\n",
    "\n",
    "standalone_parameters[\"x_transforms_source\"] = [\"unit_power\"]\n",
    "standalone_parameters[\"x_transforms_target\"] = [\"unit_power\"]\n",
    "standalone_parameters[\"episode_transforms_source\"] = []\n",
    "standalone_parameters[\"episode_transforms_target\"] = []\n",
    "\n",
    "standalone_parameters[\"torch_default_dtype\"] = \"torch.float32\" \n",
    "\n",
    "\n",
    "\n",
    "standalone_parameters[\"x_net\"] =     [\n",
    "    {\"class\": \"nnReshape\", \"kargs\": {\"shape\":[-1, 1, 2, 256]}},\n",
    "    {\"class\": \"Conv2d\", \"kargs\": { \"in_channels\":1, \"out_channels\":256, \"kernel_size\":(1,7), \"bias\":False, \"padding\":(0,3), },},\n",
    "    {\"class\": \"ReLU\", \"kargs\": {\"inplace\": True}},\n",
    "    {\"class\": \"BatchNorm2d\", \"kargs\": {\"num_features\":256}},\n",
    "\n",
    "    {\"class\": \"Conv2d\", \"kargs\": { \"in_channels\":256, \"out_channels\":80, \"kernel_size\":(2,7), \"bias\":True, \"padding\":(0,3), },},\n",
    "    {\"class\": \"ReLU\", \"kargs\": {\"inplace\": True}},\n",
    "    {\"class\": \"BatchNorm2d\", \"kargs\": {\"num_features\":80}},\n",
    "    {\"class\": \"Flatten\", \"kargs\": {}},\n",
    "\n",
    "    {\"class\": \"Linear\", \"kargs\": {\"in_features\": 80*256, \"out_features\": 256}}, # 80 units per IQ pair\n",
    "    {\"class\": \"ReLU\", \"kargs\": {\"inplace\": True}},\n",
    "    {\"class\": \"BatchNorm1d\", \"kargs\": {\"num_features\":256}},\n",
    "\n",
    "    {\"class\": \"Linear\", \"kargs\": {\"in_features\": 256, \"out_features\": 256}},\n",
    "]\n",
    "\n",
    "# Parameters relevant to results\n",
    "# These parameters will basically never need to change\n",
    "standalone_parameters[\"NUM_LOGS_PER_EPOCH\"] = 10\n",
    "standalone_parameters[\"BEST_MODEL_PATH\"] = \"./best_model.pth\"\n",
    "\n",
    "# uncomment for CORES dataset\n",
    "from steves_utils.CORES.utils import (\n",
    "    ALL_NODES,\n",
    "    ALL_NODES_MINIMUM_1000_EXAMPLES,\n",
    "    ALL_DAYS\n",
    ")\n",
    "\n",
    "\n",
    "standalone_parameters[\"labels_source\"] = ALL_NODES\n",
    "standalone_parameters[\"labels_target\"] = ALL_NODES\n",
    "\n",
    "standalone_parameters[\"domains_source\"] = [1]\n",
    "standalone_parameters[\"domains_target\"] = [2,3,4,5]\n",
    "\n",
    "standalone_parameters[\"pickle_name\"] = \"cores.stratified_ds.2022A.pkl\"\n",
    "\n",
    "\n",
    "# Uncomment these for ORACLE dataset\n",
    "# from steves_utils.ORACLE.utils_v2 import (\n",
    "#     ALL_DISTANCES_FEET,\n",
    "#     ALL_RUNS,\n",
    "#     ALL_SERIAL_NUMBERS,\n",
    "# )\n",
    "# standalone_parameters[\"labels_source\"] = ALL_SERIAL_NUMBERS\n",
    "# standalone_parameters[\"labels_target\"] = ALL_SERIAL_NUMBERS\n",
    "# standalone_parameters[\"domains_source\"] = [8,20, 38,50]\n",
    "# standalone_parameters[\"domains_target\"] = [14, 26, 32, 44, 56]\n",
    "# standalone_parameters[\"pickle_name\"] = \"oracle.frame_indexed.stratified_ds.2022A.pkl\"\n",
    "# standalone_parameters[\"num_examples_per_domain_per_label_source\"]=1000\n",
    "# standalone_parameters[\"num_examples_per_domain_per_label_target\"]=1000\n",
    "\n",
    "# Uncomment these for Metahan dataset\n",
    "# standalone_parameters[\"labels_source\"] = list(range(19))\n",
    "# standalone_parameters[\"labels_target\"] = list(range(19))\n",
    "# standalone_parameters[\"domains_source\"] = [0]\n",
    "# standalone_parameters[\"domains_target\"] = [1]\n",
    "# standalone_parameters[\"pickle_name\"] = \"metehan.stratified_ds.2022A.pkl\"\n",
    "# standalone_parameters[\"n_way\"]  = len(standalone_parameters[\"labels_source\"])\n",
    "# standalone_parameters[\"num_examples_per_domain_per_label_source\"]=200\n",
    "# standalone_parameters[\"num_examples_per_domain_per_label_target\"]=100\n",
    "\n",
    "\n",
    "standalone_parameters[\"n_way\"]  = len(standalone_parameters[\"labels_source\"])"
   ]
  },
  {
   "cell_type": "code",
   "execution_count": 4,
   "id": "f695d036",
   "metadata": {
    "execution": {
     "iopub.execute_input": "2022-03-25T21:07:03.140340Z",
     "iopub.status.busy": "2022-03-25T21:07:03.139349Z",
     "iopub.status.idle": "2022-03-25T21:07:03.163948Z",
     "shell.execute_reply": "2022-03-25T21:07:03.163184Z"
    },
    "papermill": {
     "duration": 0.053084,
     "end_time": "2022-03-25T21:07:03.164123",
     "exception": false,
     "start_time": "2022-03-25T21:07:03.111039",
     "status": "completed"
    },
    "tags": [
     "injected-parameters"
    ]
   },
   "outputs": [],
   "source": [
    "# Parameters\n",
    "parameters = {\n",
    "    \"experiment_name\": \"tuned_1v2:oracle.run1.framed\",\n",
    "    \"device\": \"cuda\",\n",
    "    \"lr\": 0.0001,\n",
    "    \"labels_source\": [\n",
    "        \"3123D52\",\n",
    "        \"3123D65\",\n",
    "        \"3123D79\",\n",
    "        \"3123D80\",\n",
    "        \"3123D54\",\n",
    "        \"3123D70\",\n",
    "        \"3123D7B\",\n",
    "        \"3123D89\",\n",
    "        \"3123D58\",\n",
    "        \"3123D76\",\n",
    "        \"3123D7D\",\n",
    "        \"3123EFE\",\n",
    "        \"3123D64\",\n",
    "        \"3123D78\",\n",
    "        \"3123D7E\",\n",
    "        \"3124E4A\",\n",
    "    ],\n",
    "    \"labels_target\": [\n",
    "        \"3123D52\",\n",
    "        \"3123D65\",\n",
    "        \"3123D79\",\n",
    "        \"3123D80\",\n",
    "        \"3123D54\",\n",
    "        \"3123D70\",\n",
    "        \"3123D7B\",\n",
    "        \"3123D89\",\n",
    "        \"3123D58\",\n",
    "        \"3123D76\",\n",
    "        \"3123D7D\",\n",
    "        \"3123EFE\",\n",
    "        \"3123D64\",\n",
    "        \"3123D78\",\n",
    "        \"3123D7E\",\n",
    "        \"3124E4A\",\n",
    "    ],\n",
    "    \"episode_transforms_source\": [],\n",
    "    \"episode_transforms_target\": [],\n",
    "    \"domains_source\": [8, 32, 50],\n",
    "    \"domains_target\": [14, 20, 26, 38, 44],\n",
    "    \"num_examples_per_domain_per_label_source\": -1,\n",
    "    \"num_examples_per_domain_per_label_target\": -1,\n",
    "    \"n_shot\": 3,\n",
    "    \"n_way\": 16,\n",
    "    \"n_query\": 2,\n",
    "    \"train_k_factor\": 3,\n",
    "    \"val_k_factor\": 2,\n",
    "    \"test_k_factor\": 2,\n",
    "    \"torch_default_dtype\": \"torch.float32\",\n",
    "    \"n_epoch\": 50,\n",
    "    \"patience\": 3,\n",
    "    \"criteria_for_best\": \"target_accuracy\",\n",
    "    \"x_net\": [\n",
    "        {\"class\": \"nnReshape\", \"kargs\": {\"shape\": [-1, 1, 2, 256]}},\n",
    "        {\n",
    "            \"class\": \"Conv2d\",\n",
    "            \"kargs\": {\n",
    "                \"in_channels\": 1,\n",
    "                \"out_channels\": 256,\n",
    "                \"kernel_size\": [1, 7],\n",
    "                \"bias\": False,\n",
    "                \"padding\": [0, 3],\n",
    "            },\n",
    "        },\n",
    "        {\"class\": \"ReLU\", \"kargs\": {\"inplace\": True}},\n",
    "        {\"class\": \"BatchNorm2d\", \"kargs\": {\"num_features\": 256}},\n",
    "        {\n",
    "            \"class\": \"Conv2d\",\n",
    "            \"kargs\": {\n",
    "                \"in_channels\": 256,\n",
    "                \"out_channels\": 80,\n",
    "                \"kernel_size\": [2, 7],\n",
    "                \"bias\": True,\n",
    "                \"padding\": [0, 3],\n",
    "            },\n",
    "        },\n",
    "        {\"class\": \"ReLU\", \"kargs\": {\"inplace\": True}},\n",
    "        {\"class\": \"BatchNorm2d\", \"kargs\": {\"num_features\": 80}},\n",
    "        {\"class\": \"Flatten\", \"kargs\": {}},\n",
    "        {\"class\": \"Linear\", \"kargs\": {\"in_features\": 20480, \"out_features\": 256}},\n",
    "        {\"class\": \"ReLU\", \"kargs\": {\"inplace\": True}},\n",
    "        {\"class\": \"BatchNorm1d\", \"kargs\": {\"num_features\": 256}},\n",
    "        {\"class\": \"Linear\", \"kargs\": {\"in_features\": 256, \"out_features\": 256}},\n",
    "    ],\n",
    "    \"NUM_LOGS_PER_EPOCH\": 10,\n",
    "    \"BEST_MODEL_PATH\": \"./best_model.pth\",\n",
    "    \"pickle_name\": \"oracle.Run1_framed_2000Examples_stratified_ds.2022A.pkl\",\n",
    "    \"x_transforms_source\": [\"unit_mag\"],\n",
    "    \"x_transforms_target\": [\"unit_mag\"],\n",
    "    \"dataset_seed\": 1337,\n",
    "    \"seed\": 1337,\n",
    "}\n"
   ]
  },
  {
   "cell_type": "code",
   "execution_count": 5,
   "id": "8fa1cc33",
   "metadata": {
    "execution": {
     "iopub.execute_input": "2022-03-25T21:07:03.201661Z",
     "iopub.status.busy": "2022-03-25T21:07:03.201065Z",
     "iopub.status.idle": "2022-03-25T21:07:03.225612Z",
     "shell.execute_reply": "2022-03-25T21:07:03.224884Z"
    },
    "papermill": {
     "duration": 0.046467,
     "end_time": "2022-03-25T21:07:03.225779",
     "exception": false,
     "start_time": "2022-03-25T21:07:03.179312",
     "status": "completed"
    },
    "tags": []
   },
   "outputs": [],
   "source": [
    "# Set this to True if you want to run this template directly\n",
    "STANDALONE = False\n",
    "if STANDALONE:\n",
    "    print(\"parameters not injected, running with standalone_parameters\")\n",
    "    parameters = standalone_parameters\n",
    "\n",
    "if not 'parameters' in locals() and not 'parameters' in globals():\n",
    "    raise Exception(\"Parameter injection failed\")\n",
    "\n",
    "#Use an easy dict for all the parameters\n",
    "p = EasyDict(parameters)\n",
    "\n",
    "supplied_keys = set(p.keys())\n",
    "\n",
    "if  supplied_keys != required_parameters:\n",
    "    print(\"Parameters are incorrect\")\n",
    "    if len(supplied_keys - required_parameters)>0: print(\"Shouldn't have:\", str(supplied_keys - required_parameters))\n",
    "    if len(required_parameters - supplied_keys)>0: print(\"Need to have:\", str(required_parameters - supplied_keys))\n",
    "    raise RuntimeError(\"Parameters are incorrect\")\n",
    "\n"
   ]
  },
  {
   "cell_type": "code",
   "execution_count": 6,
   "id": "3a028d58",
   "metadata": {
    "execution": {
     "iopub.execute_input": "2022-03-25T21:07:03.268717Z",
     "iopub.status.busy": "2022-03-25T21:07:03.268343Z",
     "iopub.status.idle": "2022-03-25T21:07:03.296325Z",
     "shell.execute_reply": "2022-03-25T21:07:03.295501Z"
    },
    "papermill": {
     "duration": 0.047842,
     "end_time": "2022-03-25T21:07:03.296499",
     "exception": false,
     "start_time": "2022-03-25T21:07:03.248657",
     "status": "completed"
    },
    "tags": []
   },
   "outputs": [],
   "source": [
    "###################################\n",
    "# Set the RNGs and make it all deterministic\n",
    "###################################\n",
    "np.random.seed(p.seed)\n",
    "random.seed(p.seed)\n",
    "torch.manual_seed(p.seed)\n",
    "\n",
    "torch.use_deterministic_algorithms(True) "
   ]
  },
  {
   "cell_type": "code",
   "execution_count": 7,
   "id": "b691acf6",
   "metadata": {
    "execution": {
     "iopub.execute_input": "2022-03-25T21:07:03.337737Z",
     "iopub.status.busy": "2022-03-25T21:07:03.337363Z",
     "iopub.status.idle": "2022-03-25T21:07:03.363468Z",
     "shell.execute_reply": "2022-03-25T21:07:03.362726Z"
    },
    "papermill": {
     "duration": 0.045614,
     "end_time": "2022-03-25T21:07:03.363664",
     "exception": false,
     "start_time": "2022-03-25T21:07:03.318050",
     "status": "completed"
    },
    "tags": []
   },
   "outputs": [],
   "source": [
    "###########################################\n",
    "# The stratified datasets honor this\n",
    "###########################################\n",
    "torch.set_default_dtype(eval(p.torch_default_dtype))"
   ]
  },
  {
   "cell_type": "code",
   "execution_count": 8,
   "id": "b5fba671",
   "metadata": {
    "execution": {
     "iopub.execute_input": "2022-03-25T21:07:03.407411Z",
     "iopub.status.busy": "2022-03-25T21:07:03.407026Z",
     "iopub.status.idle": "2022-03-25T21:07:03.465775Z",
     "shell.execute_reply": "2022-03-25T21:07:03.466476Z"
    },
    "papermill": {
     "duration": 0.07829,
     "end_time": "2022-03-25T21:07:03.466697",
     "exception": false,
     "start_time": "2022-03-25T21:07:03.388407",
     "status": "completed"
    },
    "tags": []
   },
   "outputs": [],
   "source": [
    "###################################\n",
    "# Build the network(s)\n",
    "# Note: It's critical to do this AFTER setting the RNG\n",
    "# (This is due to the randomized initial weights)\n",
    "###################################\n",
    "x_net = build_sequential(p.x_net)"
   ]
  },
  {
   "cell_type": "code",
   "execution_count": 9,
   "id": "5d7e61cc",
   "metadata": {
    "execution": {
     "iopub.execute_input": "2022-03-25T21:07:03.506692Z",
     "iopub.status.busy": "2022-03-25T21:07:03.506316Z",
     "iopub.status.idle": "2022-03-25T21:07:03.534119Z",
     "shell.execute_reply": "2022-03-25T21:07:03.533306Z"
    },
    "papermill": {
     "duration": 0.046993,
     "end_time": "2022-03-25T21:07:03.534293",
     "exception": false,
     "start_time": "2022-03-25T21:07:03.487300",
     "status": "completed"
    },
    "tags": []
   },
   "outputs": [],
   "source": [
    "start_time_secs = time.time()"
   ]
  },
  {
   "cell_type": "code",
   "execution_count": 10,
   "id": "fd5442bc",
   "metadata": {
    "execution": {
     "iopub.execute_input": "2022-03-25T21:07:03.579122Z",
     "iopub.status.busy": "2022-03-25T21:07:03.578702Z",
     "iopub.status.idle": "2022-03-25T21:07:25.357658Z",
     "shell.execute_reply": "2022-03-25T21:07:25.358346Z"
    },
    "papermill": {
     "duration": 21.803215,
     "end_time": "2022-03-25T21:07:25.358577",
     "exception": false,
     "start_time": "2022-03-25T21:07:03.555362",
     "status": "completed"
    },
    "tags": []
   },
   "outputs": [],
   "source": [
    "###################################\n",
    "# Build the dataset\n",
    "###################################\n",
    "\n",
    "if p.x_transforms_source == []: x_transform_source = None\n",
    "else: x_transform_source = get_chained_transform(p.x_transforms_source) \n",
    "\n",
    "if p.x_transforms_target == []: x_transform_target = None\n",
    "else: x_transform_target = get_chained_transform(p.x_transforms_target)\n",
    "\n",
    "if p.episode_transforms_source == []: episode_transform_source = None\n",
    "else: raise Exception(\"episode_transform_source not implemented\")\n",
    "\n",
    "if p.episode_transforms_target == []: episode_transform_target = None\n",
    "else: raise Exception(\"episode_transform_target not implemented\")\n",
    "\n",
    "\n",
    "eaf_source = Episodic_Accessor_Factory(\n",
    "    labels=p.labels_source,\n",
    "    domains=p.domains_source,\n",
    "    num_examples_per_domain_per_label=p.num_examples_per_domain_per_label_source,\n",
    "    iterator_seed=p.seed,\n",
    "    dataset_seed=p.dataset_seed,\n",
    "    n_shot=p.n_shot,\n",
    "    n_way=p.n_way,\n",
    "    n_query=p.n_query,\n",
    "    train_val_test_k_factors=(p.train_k_factor,p.val_k_factor,p.test_k_factor),\n",
    "    pickle_path=os.path.join(get_datasets_base_path(), p.pickle_name),\n",
    "    x_transform_func=x_transform_source,\n",
    "    example_transform_func=episode_transform_source,\n",
    "    \n",
    ")\n",
    "train_original_source, val_original_source, test_original_source = eaf_source.get_train(), eaf_source.get_val(), eaf_source.get_test()\n",
    "\n",
    "\n",
    "eaf_target = Episodic_Accessor_Factory(\n",
    "    labels=p.labels_target,\n",
    "    domains=p.domains_target,\n",
    "    num_examples_per_domain_per_label=p.num_examples_per_domain_per_label_target,\n",
    "    iterator_seed=p.seed,\n",
    "    dataset_seed=p.dataset_seed,\n",
    "    n_shot=p.n_shot,\n",
    "    n_way=p.n_way,\n",
    "    n_query=p.n_query,\n",
    "    train_val_test_k_factors=(p.train_k_factor,p.val_k_factor,p.test_k_factor),\n",
    "    pickle_path=os.path.join(get_datasets_base_path(), p.pickle_name),\n",
    "    x_transform_func=x_transform_target,\n",
    "    example_transform_func=episode_transform_target,\n",
    ")\n",
    "train_original_target, val_original_target, test_original_target = eaf_target.get_train(), eaf_target.get_val(), eaf_target.get_test()\n",
    "\n",
    "\n",
    "transform_lambda = lambda ex: ex[1] # Original is (<domain>, <episode>) so we strip down to episode only\n",
    "\n",
    "train_processed_source = Lazy_Iterable_Wrapper(train_original_source, transform_lambda)\n",
    "val_processed_source   = Lazy_Iterable_Wrapper(val_original_source, transform_lambda)\n",
    "test_processed_source  = Lazy_Iterable_Wrapper(test_original_source, transform_lambda)\n",
    "\n",
    "train_processed_target = Lazy_Iterable_Wrapper(train_original_target, transform_lambda)\n",
    "val_processed_target   = Lazy_Iterable_Wrapper(val_original_target, transform_lambda)\n",
    "test_processed_target  = Lazy_Iterable_Wrapper(test_original_target, transform_lambda)\n",
    "\n",
    "datasets = EasyDict({\n",
    "    \"source\": {\n",
    "        \"original\": {\"train\":train_original_source, \"val\":val_original_source, \"test\":test_original_source},\n",
    "        \"processed\": {\"train\":train_processed_source, \"val\":val_processed_source, \"test\":test_processed_source}\n",
    "    },\n",
    "    \"target\": {\n",
    "        \"original\": {\"train\":train_original_target, \"val\":val_original_target, \"test\":test_original_target},\n",
    "        \"processed\": {\"train\":train_processed_target, \"val\":val_processed_target, \"test\":test_processed_target}\n",
    "    },\n",
    "})"
   ]
  },
  {
   "cell_type": "code",
   "execution_count": 11,
   "id": "296189d9",
   "metadata": {
    "execution": {
     "iopub.execute_input": "2022-03-25T21:07:25.406538Z",
     "iopub.status.busy": "2022-03-25T21:07:25.405861Z",
     "iopub.status.idle": "2022-03-25T21:07:32.293807Z",
     "shell.execute_reply": "2022-03-25T21:07:32.292974Z"
    },
    "papermill": {
     "duration": 6.910926,
     "end_time": "2022-03-25T21:07:32.293938",
     "exception": false,
     "start_time": "2022-03-25T21:07:25.383012",
     "status": "completed"
    },
    "tags": []
   },
   "outputs": [
    {
     "name": "stdout",
     "output_type": "stream",
     "text": [
      "Visually inspect these to see if they line up with expected values given the transforms\n",
      "x_transforms_source ['unit_mag']\n",
      "x_transforms_target ['unit_mag']\n",
      "Average magnitude, source: 1.0\n",
      "Average power, source: 1.0557983\n"
     ]
    },
    {
     "name": "stdout",
     "output_type": "stream",
     "text": [
      "Average magnitude, target: 1.0\n",
      "Average power, target: 1.0664101\n"
     ]
    }
   ],
   "source": [
    "# Some quick unit tests on the data\n",
    "from steves_utils.transforms import get_average_power, get_average_magnitude\n",
    "\n",
    "q_x, q_y, s_x, s_y, truth = next(iter(train_processed_source))\n",
    "\n",
    "assert q_x.dtype == eval(p.torch_default_dtype)\n",
    "assert s_x.dtype == eval(p.torch_default_dtype)\n",
    "\n",
    "print(\"Visually inspect these to see if they line up with expected values given the transforms\")\n",
    "print('x_transforms_source', p.x_transforms_source)\n",
    "print('x_transforms_target', p.x_transforms_target)\n",
    "print(\"Average magnitude, source:\", get_average_magnitude(q_x[0].numpy()))\n",
    "print(\"Average power, source:\", get_average_power(q_x[0].numpy()))\n",
    "\n",
    "q_x, q_y, s_x, s_y, truth = next(iter(train_processed_target))\n",
    "print(\"Average magnitude, target:\", get_average_magnitude(q_x[0].numpy()))\n",
    "print(\"Average power, target:\", get_average_power(q_x[0].numpy()))\n"
   ]
  },
  {
   "cell_type": "code",
   "execution_count": 12,
   "id": "bbdacba1",
   "metadata": {
    "execution": {
     "iopub.execute_input": "2022-03-25T21:07:32.334170Z",
     "iopub.status.busy": "2022-03-25T21:07:32.333604Z",
     "iopub.status.idle": "2022-03-25T21:07:32.478946Z",
     "shell.execute_reply": "2022-03-25T21:07:32.479669Z"
    },
    "papermill": {
     "duration": 0.166629,
     "end_time": "2022-03-25T21:07:32.479908",
     "exception": false,
     "start_time": "2022-03-25T21:07:32.313279",
     "status": "completed"
    },
    "tags": []
   },
   "outputs": [
    {
     "name": "stdout",
     "output_type": "stream",
     "text": [
      "(2, 256)\n"
     ]
    }
   ],
   "source": [
    "###################################\n",
    "# Build the model\n",
    "###################################\n",
    "model = Steves_Prototypical_Network(x_net, device=p.device, x_shape=(2,256))\n",
    "optimizer = Adam(params=model.parameters(), lr=p.lr)"
   ]
  },
  {
   "cell_type": "code",
   "execution_count": 13,
   "id": "22b39ac5",
   "metadata": {
    "execution": {
     "iopub.execute_input": "2022-03-25T21:07:32.522785Z",
     "iopub.status.busy": "2022-03-25T21:07:32.521926Z",
     "iopub.status.idle": "2022-03-25T21:24:21.882491Z",
     "shell.execute_reply": "2022-03-25T21:24:21.883183Z"
    },
    "papermill": {
     "duration": 1009.382781,
     "end_time": "2022-03-25T21:24:21.883386",
     "exception": false,
     "start_time": "2022-03-25T21:07:32.500605",
     "status": "completed"
    },
    "tags": []
   },
   "outputs": [
    {
     "name": "stdout",
     "output_type": "stream",
     "text": [
      "epoch: 1, [batch: 1 / 2520], examples_per_second: 79.5350, train_label_loss: 2.8096, \n"
     ]
    },
    {
     "name": "stdout",
     "output_type": "stream",
     "text": [
      "epoch: 1, [batch: 252 / 2520], examples_per_second: 4179.5117, train_label_loss: 2.4311, \n"
     ]
    },
    {
     "name": "stdout",
     "output_type": "stream",
     "text": [
      "epoch: 1, [batch: 504 / 2520], examples_per_second: 4495.1461, train_label_loss: 2.1628, \n"
     ]
    },
    {
     "name": "stdout",
     "output_type": "stream",
     "text": [
      "epoch: 1, [batch: 756 / 2520], examples_per_second: 4154.9521, train_label_loss: 1.2363, \n"
     ]
    },
    {
     "name": "stdout",
     "output_type": "stream",
     "text": [
      "epoch: 1, [batch: 1008 / 2520], examples_per_second: 4333.4288, train_label_loss: 0.8645, \n"
     ]
    },
    {
     "name": "stdout",
     "output_type": "stream",
     "text": [
      "epoch: 1, [batch: 1260 / 2520], examples_per_second: 3970.2710, train_label_loss: 0.6465, \n"
     ]
    },
    {
     "name": "stdout",
     "output_type": "stream",
     "text": [
      "epoch: 1, [batch: 1512 / 2520], examples_per_second: 2155.7161, train_label_loss: 0.7141, \n"
     ]
    },
    {
     "name": "stdout",
     "output_type": "stream",
     "text": [
      "epoch: 1, [batch: 1764 / 2520], examples_per_second: 1918.2304, train_label_loss: 0.6248, \n"
     ]
    },
    {
     "name": "stdout",
     "output_type": "stream",
     "text": [
      "epoch: 1, [batch: 2016 / 2520], examples_per_second: 2081.3414, train_label_loss: 0.6497, \n"
     ]
    },
    {
     "name": "stdout",
     "output_type": "stream",
     "text": [
      "epoch: 1, [batch: 2268 / 2520], examples_per_second: 1996.4413, train_label_loss: 0.5930, \n"
     ]
    },
    {
     "name": "stdout",
     "output_type": "stream",
     "text": [
      "=============================================================\n",
      "epoch: 1, source_val_acc_label: 0.6760, target_val_acc_label: 0.5780, source_val_label_loss: 66.4365, target_val_label_loss: 36.2099, \n",
      "=============================================================\n"
     ]
    },
    {
     "name": "stdout",
     "output_type": "stream",
     "text": [
      "New best\n"
     ]
    },
    {
     "name": "stdout",
     "output_type": "stream",
     "text": [
      "epoch: 2, [batch: 1 / 2520], examples_per_second: 4.8345, train_label_loss: 5.7806, \n"
     ]
    },
    {
     "name": "stdout",
     "output_type": "stream",
     "text": [
      "epoch: 2, [batch: 252 / 2520], examples_per_second: 4913.6046, train_label_loss: 0.7836, \n"
     ]
    },
    {
     "name": "stdout",
     "output_type": "stream",
     "text": [
      "epoch: 2, [batch: 504 / 2520], examples_per_second: 5141.2648, train_label_loss: 0.6410, \n"
     ]
    },
    {
     "name": "stdout",
     "output_type": "stream",
     "text": [
      "epoch: 2, [batch: 756 / 2520], examples_per_second: 5246.4778, train_label_loss: 0.4424, \n"
     ]
    },
    {
     "name": "stdout",
     "output_type": "stream",
     "text": [
      "epoch: 2, [batch: 1008 / 2520], examples_per_second: 4998.8288, train_label_loss: 1.1379, \n"
     ]
    },
    {
     "name": "stdout",
     "output_type": "stream",
     "text": [
      "epoch: 2, [batch: 1260 / 2520], examples_per_second: 3717.8278, train_label_loss: 0.6705, \n"
     ]
    },
    {
     "name": "stdout",
     "output_type": "stream",
     "text": [
      "epoch: 2, [batch: 1512 / 2520], examples_per_second: 2656.9475, train_label_loss: 0.5713, \n"
     ]
    },
    {
     "name": "stdout",
     "output_type": "stream",
     "text": [
      "epoch: 2, [batch: 1764 / 2520], examples_per_second: 2430.7005, train_label_loss: 0.6851, \n"
     ]
    },
    {
     "name": "stdout",
     "output_type": "stream",
     "text": [
      "epoch: 2, [batch: 2016 / 2520], examples_per_second: 2342.4741, train_label_loss: 0.5763, \n"
     ]
    },
    {
     "name": "stdout",
     "output_type": "stream",
     "text": [
      "epoch: 2, [batch: 2268 / 2520], examples_per_second: 2527.4578, train_label_loss: 0.4386, \n"
     ]
    },
    {
     "name": "stdout",
     "output_type": "stream",
     "text": [
      "=============================================================\n",
      "epoch: 2, source_val_acc_label: 0.7887, target_val_acc_label: 0.7375, source_val_label_loss: 0.5732, target_val_label_loss: 3.7999, \n",
      "=============================================================\n"
     ]
    },
    {
     "name": "stdout",
     "output_type": "stream",
     "text": [
      "New best\n"
     ]
    },
    {
     "name": "stdout",
     "output_type": "stream",
     "text": [
      "epoch: 3, [batch: 1 / 2520], examples_per_second: 5.5602, train_label_loss: 0.7108, \n"
     ]
    },
    {
     "name": "stdout",
     "output_type": "stream",
     "text": [
      "epoch: 3, [batch: 252 / 2520], examples_per_second: 3782.9850, train_label_loss: 0.4740, \n"
     ]
    },
    {
     "name": "stdout",
     "output_type": "stream",
     "text": [
      "epoch: 3, [batch: 504 / 2520], examples_per_second: 3926.1424, train_label_loss: 0.3604, \n"
     ]
    },
    {
     "name": "stdout",
     "output_type": "stream",
     "text": [
      "epoch: 3, [batch: 756 / 2520], examples_per_second: 3846.9773, train_label_loss: 0.4267, \n"
     ]
    },
    {
     "name": "stdout",
     "output_type": "stream",
     "text": [
      "epoch: 3, [batch: 1008 / 2520], examples_per_second: 2560.0901, train_label_loss: 0.5311, \n"
     ]
    },
    {
     "name": "stdout",
     "output_type": "stream",
     "text": [
      "epoch: 3, [batch: 1260 / 2520], examples_per_second: 1959.5994, train_label_loss: 0.4962, \n"
     ]
    },
    {
     "name": "stdout",
     "output_type": "stream",
     "text": [
      "epoch: 3, [batch: 1512 / 2520], examples_per_second: 1819.0643, train_label_loss: 0.9071, \n"
     ]
    },
    {
     "name": "stdout",
     "output_type": "stream",
     "text": [
      "epoch: 3, [batch: 1764 / 2520], examples_per_second: 1792.0575, train_label_loss: 0.4973, \n"
     ]
    },
    {
     "name": "stdout",
     "output_type": "stream",
     "text": [
      "epoch: 3, [batch: 2016 / 2520], examples_per_second: 2773.7182, train_label_loss: 0.5497, \n"
     ]
    },
    {
     "name": "stdout",
     "output_type": "stream",
     "text": [
      "epoch: 3, [batch: 2268 / 2520], examples_per_second: 4089.7251, train_label_loss: 0.2888, \n"
     ]
    },
    {
     "name": "stdout",
     "output_type": "stream",
     "text": [
      "=============================================================\n",
      "epoch: 3, source_val_acc_label: 0.7952, target_val_acc_label: 0.7235, source_val_label_loss: 0.5593, target_val_label_loss: 4.0210, \n",
      "=============================================================\n"
     ]
    },
    {
     "name": "stdout",
     "output_type": "stream",
     "text": [
      "epoch: 4, [batch: 1 / 2520], examples_per_second: 9.3422, train_label_loss: 0.4410, \n"
     ]
    },
    {
     "name": "stdout",
     "output_type": "stream",
     "text": [
      "epoch: 4, [batch: 252 / 2520], examples_per_second: 1931.8835, train_label_loss: 0.3260, \n"
     ]
    },
    {
     "name": "stdout",
     "output_type": "stream",
     "text": [
      "epoch: 4, [batch: 504 / 2520], examples_per_second: 1825.4949, train_label_loss: 0.4515, \n"
     ]
    },
    {
     "name": "stdout",
     "output_type": "stream",
     "text": [
      "epoch: 4, [batch: 756 / 2520], examples_per_second: 1906.3251, train_label_loss: 0.5328, \n"
     ]
    },
    {
     "name": "stdout",
     "output_type": "stream",
     "text": [
      "epoch: 4, [batch: 1008 / 2520], examples_per_second: 1784.0684, train_label_loss: 0.8546, \n"
     ]
    },
    {
     "name": "stdout",
     "output_type": "stream",
     "text": [
      "epoch: 4, [batch: 1260 / 2520], examples_per_second: 1881.3282, train_label_loss: 0.5518, \n"
     ]
    },
    {
     "name": "stdout",
     "output_type": "stream",
     "text": [
      "epoch: 4, [batch: 1512 / 2520], examples_per_second: 3059.3557, train_label_loss: 0.4925, \n"
     ]
    },
    {
     "name": "stdout",
     "output_type": "stream",
     "text": [
      "epoch: 4, [batch: 1764 / 2520], examples_per_second: 4044.3522, train_label_loss: 0.2985, \n"
     ]
    },
    {
     "name": "stdout",
     "output_type": "stream",
     "text": [
      "epoch: 4, [batch: 2016 / 2520], examples_per_second: 3827.4619, train_label_loss: 0.3467, \n"
     ]
    },
    {
     "name": "stdout",
     "output_type": "stream",
     "text": [
      "epoch: 4, [batch: 2268 / 2520], examples_per_second: 4226.1825, train_label_loss: 0.5262, \n"
     ]
    },
    {
     "name": "stdout",
     "output_type": "stream",
     "text": [
      "=============================================================\n",
      "epoch: 4, source_val_acc_label: 0.8291, target_val_acc_label: 0.7627, source_val_label_loss: 0.4803, target_val_label_loss: 4.8481, \n",
      "=============================================================\n"
     ]
    },
    {
     "name": "stdout",
     "output_type": "stream",
     "text": [
      "New best\n"
     ]
    },
    {
     "name": "stdout",
     "output_type": "stream",
     "text": [
      "epoch: 5, [batch: 1 / 2520], examples_per_second: 4.8269, train_label_loss: 0.6523, \n"
     ]
    },
    {
     "name": "stdout",
     "output_type": "stream",
     "text": [
      "epoch: 5, [batch: 252 / 2520], examples_per_second: 1870.0682, train_label_loss: 0.8527, \n"
     ]
    },
    {
     "name": "stdout",
     "output_type": "stream",
     "text": [
      "epoch: 5, [batch: 504 / 2520], examples_per_second: 1752.1145, train_label_loss: 0.2436, \n"
     ]
    },
    {
     "name": "stdout",
     "output_type": "stream",
     "text": [
      "epoch: 5, [batch: 756 / 2520], examples_per_second: 2727.1789, train_label_loss: 0.3815, \n"
     ]
    },
    {
     "name": "stdout",
     "output_type": "stream",
     "text": [
      "epoch: 5, [batch: 1008 / 2520], examples_per_second: 3954.6066, train_label_loss: 0.4701, \n"
     ]
    },
    {
     "name": "stdout",
     "output_type": "stream",
     "text": [
      "epoch: 5, [batch: 1260 / 2520], examples_per_second: 3947.6086, train_label_loss: 0.4752, \n"
     ]
    },
    {
     "name": "stdout",
     "output_type": "stream",
     "text": [
      "epoch: 5, [batch: 1512 / 2520], examples_per_second: 3999.4603, train_label_loss: 0.5472, \n"
     ]
    },
    {
     "name": "stdout",
     "output_type": "stream",
     "text": [
      "epoch: 5, [batch: 1764 / 2520], examples_per_second: 3939.1304, train_label_loss: 0.4328, \n"
     ]
    },
    {
     "name": "stdout",
     "output_type": "stream",
     "text": [
      "epoch: 5, [batch: 2016 / 2520], examples_per_second: 2320.1296, train_label_loss: 0.3977, \n"
     ]
    },
    {
     "name": "stdout",
     "output_type": "stream",
     "text": [
      "epoch: 5, [batch: 2268 / 2520], examples_per_second: 2248.9346, train_label_loss: 0.3317, \n"
     ]
    },
    {
     "name": "stdout",
     "output_type": "stream",
     "text": [
      "=============================================================\n",
      "epoch: 5, source_val_acc_label: 0.8691, target_val_acc_label: 0.7933, source_val_label_loss: 0.3684, target_val_label_loss: 4.7934, \n",
      "=============================================================\n"
     ]
    },
    {
     "name": "stdout",
     "output_type": "stream",
     "text": [
      "New best\n"
     ]
    },
    {
     "name": "stdout",
     "output_type": "stream",
     "text": [
      "epoch: 6, [batch: 1 / 2520], examples_per_second: 3.6639, train_label_loss: 0.4986, \n"
     ]
    },
    {
     "name": "stdout",
     "output_type": "stream",
     "text": [
      "epoch: 6, [batch: 252 / 2520], examples_per_second: 3869.2952, train_label_loss: 0.4192, \n"
     ]
    },
    {
     "name": "stdout",
     "output_type": "stream",
     "text": [
      "epoch: 6, [batch: 504 / 2520], examples_per_second: 3967.1776, train_label_loss: 0.3457, \n"
     ]
    },
    {
     "name": "stdout",
     "output_type": "stream",
     "text": [
      "epoch: 6, [batch: 756 / 2520], examples_per_second: 3922.9544, train_label_loss: 0.3377, \n"
     ]
    },
    {
     "name": "stdout",
     "output_type": "stream",
     "text": [
      "epoch: 6, [batch: 1008 / 2520], examples_per_second: 3863.9050, train_label_loss: 0.1926, \n"
     ]
    },
    {
     "name": "stdout",
     "output_type": "stream",
     "text": [
      "epoch: 6, [batch: 1260 / 2520], examples_per_second: 2353.0593, train_label_loss: 0.3462, \n"
     ]
    },
    {
     "name": "stdout",
     "output_type": "stream",
     "text": [
      "epoch: 6, [batch: 1512 / 2520], examples_per_second: 2034.1517, train_label_loss: 0.2891, \n"
     ]
    },
    {
     "name": "stdout",
     "output_type": "stream",
     "text": [
      "epoch: 6, [batch: 1764 / 2520], examples_per_second: 1786.6900, train_label_loss: 0.4265, \n"
     ]
    },
    {
     "name": "stdout",
     "output_type": "stream",
     "text": [
      "epoch: 6, [batch: 2016 / 2520], examples_per_second: 1835.8087, train_label_loss: 0.3379, \n"
     ]
    },
    {
     "name": "stdout",
     "output_type": "stream",
     "text": [
      "epoch: 6, [batch: 2268 / 2520], examples_per_second: 2062.7398, train_label_loss: 0.4046, \n"
     ]
    },
    {
     "name": "stdout",
     "output_type": "stream",
     "text": [
      "=============================================================\n",
      "epoch: 6, source_val_acc_label: 0.8939, target_val_acc_label: 0.8039, source_val_label_loss: 0.3153, target_val_label_loss: 5.4580, \n",
      "=============================================================\n"
     ]
    },
    {
     "name": "stdout",
     "output_type": "stream",
     "text": [
      "New best\n"
     ]
    },
    {
     "name": "stdout",
     "output_type": "stream",
     "text": [
      "epoch: 7, [batch: 1 / 2520], examples_per_second: 3.5055, train_label_loss: 0.3664, \n"
     ]
    },
    {
     "name": "stdout",
     "output_type": "stream",
     "text": [
      "epoch: 7, [batch: 252 / 2520], examples_per_second: 1792.0466, train_label_loss: 0.1746, \n"
     ]
    },
    {
     "name": "stdout",
     "output_type": "stream",
     "text": [
      "epoch: 7, [batch: 504 / 2520], examples_per_second: 2606.9189, train_label_loss: 0.4247, \n"
     ]
    },
    {
     "name": "stdout",
     "output_type": "stream",
     "text": [
      "epoch: 7, [batch: 756 / 2520], examples_per_second: 3746.8581, train_label_loss: 0.5807, \n"
     ]
    },
    {
     "name": "stdout",
     "output_type": "stream",
     "text": [
      "epoch: 7, [batch: 1008 / 2520], examples_per_second: 3806.3429, train_label_loss: 0.1234, \n"
     ]
    },
    {
     "name": "stdout",
     "output_type": "stream",
     "text": [
      "epoch: 7, [batch: 1260 / 2520], examples_per_second: 3794.7670, train_label_loss: 0.2401, \n"
     ]
    },
    {
     "name": "stdout",
     "output_type": "stream",
     "text": [
      "epoch: 7, [batch: 1512 / 2520], examples_per_second: 3841.4569, train_label_loss: 0.2269, \n"
     ]
    },
    {
     "name": "stdout",
     "output_type": "stream",
     "text": [
      "epoch: 7, [batch: 1764 / 2520], examples_per_second: 2575.0686, train_label_loss: 0.2800, \n"
     ]
    },
    {
     "name": "stdout",
     "output_type": "stream",
     "text": [
      "epoch: 7, [batch: 2016 / 2520], examples_per_second: 1960.8732, train_label_loss: 0.4134, \n"
     ]
    },
    {
     "name": "stdout",
     "output_type": "stream",
     "text": [
      "epoch: 7, [batch: 2268 / 2520], examples_per_second: 1992.6882, train_label_loss: 0.3328, \n"
     ]
    },
    {
     "name": "stdout",
     "output_type": "stream",
     "text": [
      "=============================================================\n",
      "epoch: 7, source_val_acc_label: 0.8831, target_val_acc_label: 0.7935, source_val_label_loss: 0.3434, target_val_label_loss: 4.4917, \n",
      "=============================================================\n"
     ]
    },
    {
     "name": "stdout",
     "output_type": "stream",
     "text": [
      "epoch: 8, [batch: 1 / 2520], examples_per_second: 6.5772, train_label_loss: 0.1989, \n"
     ]
    },
    {
     "name": "stdout",
     "output_type": "stream",
     "text": [
      "epoch: 8, [batch: 252 / 2520], examples_per_second: 3784.4666, train_label_loss: 0.2191, \n"
     ]
    },
    {
     "name": "stdout",
     "output_type": "stream",
     "text": [
      "epoch: 8, [batch: 504 / 2520], examples_per_second: 3769.8691, train_label_loss: 0.1970, \n"
     ]
    },
    {
     "name": "stdout",
     "output_type": "stream",
     "text": [
      "epoch: 8, [batch: 756 / 2520], examples_per_second: 2517.5331, train_label_loss: 0.2755, \n"
     ]
    },
    {
     "name": "stdout",
     "output_type": "stream",
     "text": [
      "epoch: 8, [batch: 1008 / 2520], examples_per_second: 1965.1596, train_label_loss: 0.1485, \n"
     ]
    },
    {
     "name": "stdout",
     "output_type": "stream",
     "text": [
      "epoch: 8, [batch: 1260 / 2520], examples_per_second: 1856.4558, train_label_loss: 0.3839, \n"
     ]
    },
    {
     "name": "stdout",
     "output_type": "stream",
     "text": [
      "epoch: 8, [batch: 1512 / 2520], examples_per_second: 1781.9812, train_label_loss: 0.2605, \n"
     ]
    },
    {
     "name": "stdout",
     "output_type": "stream",
     "text": [
      "epoch: 8, [batch: 1764 / 2520], examples_per_second: 1850.4865, train_label_loss: 0.4931, \n"
     ]
    },
    {
     "name": "stdout",
     "output_type": "stream",
     "text": [
      "epoch: 8, [batch: 2016 / 2520], examples_per_second: 1781.3501, train_label_loss: 0.3871, \n"
     ]
    },
    {
     "name": "stdout",
     "output_type": "stream",
     "text": [
      "epoch: 8, [batch: 2268 / 2520], examples_per_second: 2820.1983, train_label_loss: 0.1062, \n"
     ]
    },
    {
     "name": "stdout",
     "output_type": "stream",
     "text": [
      "=============================================================\n",
      "epoch: 8, source_val_acc_label: 0.8859, target_val_acc_label: 0.7798, source_val_label_loss: 0.3377, target_val_label_loss: 4.8774, \n",
      "=============================================================\n"
     ]
    },
    {
     "name": "stdout",
     "output_type": "stream",
     "text": [
      "epoch: 9, [batch: 1 / 2520], examples_per_second: 9.8386, train_label_loss: 0.2122, \n"
     ]
    },
    {
     "name": "stdout",
     "output_type": "stream",
     "text": [
      "epoch: 9, [batch: 252 / 2520], examples_per_second: 3813.2528, train_label_loss: 0.1142, \n"
     ]
    },
    {
     "name": "stdout",
     "output_type": "stream",
     "text": [
      "epoch: 9, [batch: 504 / 2520], examples_per_second: 2252.6035, train_label_loss: 0.3800, \n"
     ]
    },
    {
     "name": "stdout",
     "output_type": "stream",
     "text": [
      "epoch: 9, [batch: 756 / 2520], examples_per_second: 1871.0592, train_label_loss: 0.4182, \n"
     ]
    },
    {
     "name": "stdout",
     "output_type": "stream",
     "text": [
      "epoch: 9, [batch: 1008 / 2520], examples_per_second: 1782.7492, train_label_loss: 0.2310, \n"
     ]
    },
    {
     "name": "stdout",
     "output_type": "stream",
     "text": [
      "epoch: 9, [batch: 1260 / 2520], examples_per_second: 1911.0712, train_label_loss: 0.1289, \n"
     ]
    },
    {
     "name": "stdout",
     "output_type": "stream",
     "text": [
      "epoch: 9, [batch: 1512 / 2520], examples_per_second: 1783.6819, train_label_loss: 0.0867, \n"
     ]
    },
    {
     "name": "stdout",
     "output_type": "stream",
     "text": [
      "epoch: 9, [batch: 1764 / 2520], examples_per_second: 1860.5053, train_label_loss: 0.1874, \n"
     ]
    },
    {
     "name": "stdout",
     "output_type": "stream",
     "text": [
      "epoch: 9, [batch: 2016 / 2520], examples_per_second: 1788.9820, train_label_loss: 0.1535, \n"
     ]
    },
    {
     "name": "stdout",
     "output_type": "stream",
     "text": [
      "epoch: 9, [batch: 2268 / 2520], examples_per_second: 1863.6216, train_label_loss: 0.3976, \n"
     ]
    },
    {
     "name": "stdout",
     "output_type": "stream",
     "text": [
      "=============================================================\n",
      "epoch: 9, source_val_acc_label: 0.8921, target_val_acc_label: 0.7894, source_val_label_loss: 0.3130, target_val_label_loss: 5.4896, \n",
      "=============================================================\n"
     ]
    },
    {
     "name": "stdout",
     "output_type": "stream",
     "text": [
      "epoch: 10, [batch: 1 / 2520], examples_per_second: 4.6483, train_label_loss: 0.2679, \n"
     ]
    },
    {
     "name": "stdout",
     "output_type": "stream",
     "text": [
      "epoch: 10, [batch: 252 / 2520], examples_per_second: 3791.5321, train_label_loss: 0.1239, \n"
     ]
    },
    {
     "name": "stdout",
     "output_type": "stream",
     "text": [
      "epoch: 10, [batch: 504 / 2520], examples_per_second: 3932.0368, train_label_loss: 0.0826, \n"
     ]
    },
    {
     "name": "stdout",
     "output_type": "stream",
     "text": [
      "epoch: 10, [batch: 756 / 2520], examples_per_second: 3884.7655, train_label_loss: 0.2743, \n"
     ]
    },
    {
     "name": "stdout",
     "output_type": "stream",
     "text": [
      "epoch: 10, [batch: 1008 / 2520], examples_per_second: 2930.2949, train_label_loss: 0.3820, \n"
     ]
    },
    {
     "name": "stdout",
     "output_type": "stream",
     "text": [
      "epoch: 10, [batch: 1260 / 2520], examples_per_second: 1884.7974, train_label_loss: 0.3232, \n"
     ]
    },
    {
     "name": "stdout",
     "output_type": "stream",
     "text": [
      "epoch: 10, [batch: 1512 / 2520], examples_per_second: 1915.3368, train_label_loss: 0.2473, \n"
     ]
    },
    {
     "name": "stdout",
     "output_type": "stream",
     "text": [
      "epoch: 10, [batch: 1764 / 2520], examples_per_second: 1810.6589, train_label_loss: 0.1521, \n"
     ]
    },
    {
     "name": "stdout",
     "output_type": "stream",
     "text": [
      "epoch: 10, [batch: 2016 / 2520], examples_per_second: 1864.3711, train_label_loss: 0.2906, \n"
     ]
    },
    {
     "name": "stdout",
     "output_type": "stream",
     "text": [
      "epoch: 10, [batch: 2268 / 2520], examples_per_second: 2059.9114, train_label_loss: 0.1448, \n"
     ]
    },
    {
     "name": "stdout",
     "output_type": "stream",
     "text": [
      "=============================================================\n",
      "epoch: 10, source_val_acc_label: 0.8881, target_val_acc_label: 0.7757, source_val_label_loss: 0.3227, target_val_label_loss: 5.8371, \n",
      "=============================================================\n"
     ]
    },
    {
     "name": "stdout",
     "output_type": "stream",
     "text": [
      "Patience (3) exhausted\n"
     ]
    }
   ],
   "source": [
    "###################################\n",
    "# train\n",
    "###################################\n",
    "jig = PTN_Train_Eval_Test_Jig(model, p.BEST_MODEL_PATH, p.device)\n",
    "\n",
    "jig.train(\n",
    "    train_iterable=datasets.source.processed.train,\n",
    "    source_val_iterable=datasets.source.processed.val,\n",
    "    target_val_iterable=datasets.target.processed.val,\n",
    "    num_epochs=p.n_epoch,\n",
    "    num_logs_per_epoch=p.NUM_LOGS_PER_EPOCH,\n",
    "    patience=p.patience,\n",
    "    optimizer=optimizer,\n",
    "    criteria_for_best=p.criteria_for_best,\n",
    ")"
   ]
  },
  {
   "cell_type": "code",
   "execution_count": 14,
   "id": "31e8fabf",
   "metadata": {
    "execution": {
     "iopub.execute_input": "2022-03-25T21:24:21.992752Z",
     "iopub.status.busy": "2022-03-25T21:24:21.992381Z",
     "iopub.status.idle": "2022-03-25T21:24:22.023968Z",
     "shell.execute_reply": "2022-03-25T21:24:22.023199Z"
    },
    "papermill": {
     "duration": 0.082734,
     "end_time": "2022-03-25T21:24:22.024156",
     "exception": false,
     "start_time": "2022-03-25T21:24:21.941422",
     "status": "completed"
    },
    "tags": []
   },
   "outputs": [],
   "source": [
    "total_experiment_time_secs = time.time() - start_time_secs"
   ]
  },
  {
   "cell_type": "code",
   "execution_count": 15,
   "id": "87b9595b",
   "metadata": {
    "execution": {
     "iopub.execute_input": "2022-03-25T21:24:22.133611Z",
     "iopub.status.busy": "2022-03-25T21:24:22.133213Z",
     "iopub.status.idle": "2022-03-25T21:26:48.092070Z",
     "shell.execute_reply": "2022-03-25T21:26:48.092393Z"
    },
    "papermill": {
     "duration": 146.014298,
     "end_time": "2022-03-25T21:26:48.092524",
     "exception": false,
     "start_time": "2022-03-25T21:24:22.078226",
     "status": "completed"
    },
    "tags": []
   },
   "outputs": [],
   "source": [
    "###################################\n",
    "# Evaluate the model\n",
    "###################################\n",
    "source_test_label_accuracy, source_test_label_loss = jig.test(datasets.source.processed.test)\n",
    "target_test_label_accuracy, target_test_label_loss = jig.test(datasets.target.processed.test)\n",
    "\n",
    "source_val_label_accuracy, source_val_label_loss = jig.test(datasets.source.processed.val)\n",
    "target_val_label_accuracy, target_val_label_loss = jig.test(datasets.target.processed.val)\n",
    "\n",
    "history = jig.get_history()\n",
    "\n",
    "total_epochs_trained = len(history[\"epoch_indices\"])\n",
    "\n",
    "val_dl = Iterable_Aggregator((datasets.source.original.val,datasets.target.original.val))\n",
    "\n",
    "confusion = ptn_confusion_by_domain_over_dataloader(model, p.device, val_dl)\n",
    "per_domain_accuracy = per_domain_accuracy_from_confusion(confusion)\n",
    "\n",
    "# Add a key to per_domain_accuracy for if it was a source domain\n",
    "for domain, accuracy in per_domain_accuracy.items():\n",
    "    per_domain_accuracy[domain] = {\n",
    "        \"accuracy\": accuracy,\n",
    "        \"source?\": domain in p.domains_source\n",
    "    }\n",
    "\n",
    "# Do an independent accuracy assesment JUST TO BE SURE!\n",
    "# _source_test_label_accuracy = independent_accuracy_assesment(model, datasets.source.processed.test, p.device)\n",
    "# _target_test_label_accuracy = independent_accuracy_assesment(model, datasets.target.processed.test, p.device)\n",
    "# _source_val_label_accuracy = independent_accuracy_assesment(model, datasets.source.processed.val, p.device)\n",
    "# _target_val_label_accuracy = independent_accuracy_assesment(model, datasets.target.processed.val, p.device)\n",
    "\n",
    "# assert(_source_test_label_accuracy == source_test_label_accuracy)\n",
    "# assert(_target_test_label_accuracy == target_test_label_accuracy)\n",
    "# assert(_source_val_label_accuracy == source_val_label_accuracy)\n",
    "# assert(_target_val_label_accuracy == target_val_label_accuracy)\n",
    "\n",
    "experiment = {\n",
    "    \"experiment_name\": p.experiment_name,\n",
    "    \"parameters\": dict(p),\n",
    "    \"results\": {\n",
    "        \"source_test_label_accuracy\": source_test_label_accuracy,\n",
    "        \"source_test_label_loss\": source_test_label_loss,\n",
    "        \"target_test_label_accuracy\": target_test_label_accuracy,\n",
    "        \"target_test_label_loss\": target_test_label_loss,\n",
    "        \"source_val_label_accuracy\": source_val_label_accuracy,\n",
    "        \"source_val_label_loss\": source_val_label_loss,\n",
    "        \"target_val_label_accuracy\": target_val_label_accuracy,\n",
    "        \"target_val_label_loss\": target_val_label_loss,\n",
    "        \"total_epochs_trained\": total_epochs_trained,\n",
    "        \"total_experiment_time_secs\": total_experiment_time_secs,\n",
    "        \"confusion\": confusion,\n",
    "        \"per_domain_accuracy\": per_domain_accuracy,\n",
    "    },\n",
    "    \"history\": history,\n",
    "    \"dataset_metrics\": get_dataset_metrics(datasets, \"ptn\"),\n",
    "}"
   ]
  },
  {
   "cell_type": "code",
   "execution_count": 16,
   "id": "54a21829",
   "metadata": {
    "execution": {
     "iopub.execute_input": "2022-03-25T21:26:48.192285Z",
     "iopub.status.busy": "2022-03-25T21:26:48.191652Z",
     "iopub.status.idle": "2022-03-25T21:26:48.414555Z",
     "shell.execute_reply": "2022-03-25T21:26:48.414149Z"
    },
    "papermill": {
     "duration": 0.274624,
     "end_time": "2022-03-25T21:26:48.414647",
     "exception": false,
     "start_time": "2022-03-25T21:26:48.140023",
     "status": "completed"
    },
    "tags": []
   },
   "outputs": [
    {
     "data": {
      "image/png": "[encoded data removed]",
      "text/plain": [
       "<Figure size 1080x504 with 1 Axes>"
      ]
     },
     "metadata": {
      "needs_background": "light"
     },
     "output_type": "display_data"
    }
   ],
   "source": [
    "ax = get_loss_curve(experiment)\n",
    "plt.show()"
   ]
  },
  {
   "cell_type": "code",
   "execution_count": 17,
   "id": "fd8a0f60",
   "metadata": {
    "execution": {
     "iopub.execute_input": "2022-03-25T21:26:48.516314Z",
     "iopub.status.busy": "2022-03-25T21:26:48.515940Z",
     "iopub.status.idle": "2022-03-25T21:26:48.883150Z",
     "shell.execute_reply": "2022-03-25T21:26:48.883448Z"
    },
    "papermill": {
     "duration": 0.420063,
     "end_time": "2022-03-25T21:26:48.883557",
     "exception": false,
     "start_time": "2022-03-25T21:26:48.463494",
     "status": "completed"
    },
    "tags": []
   },
   "outputs": [
    {
     "data": {
      "text/plain": [
       "<AxesSubplot:title={'center':'Results'}>"
      ]
     },
     "execution_count": 17,
     "metadata": {},
     "output_type": "execute_result"
    },
    {
     "data": {
      "image/png": "[encoded data removed]",
      "text/plain": [
       "<Figure size 1080x504 with 1 Axes>"
      ]
     },
     "metadata": {
      "needs_background": "light"
     },
     "output_type": "display_data"
    }
   ],
   "source": [
    "get_results_table(experiment)"
   ]
  },
  {
   "cell_type": "code",
   "execution_count": 18,
   "id": "cf8dc689",
   "metadata": {
    "execution": {
     "iopub.execute_input": "2022-03-25T21:26:48.993464Z",
     "iopub.status.busy": "2022-03-25T21:26:48.992544Z",
     "iopub.status.idle": "2022-03-25T21:26:49.208885Z",
     "shell.execute_reply": "2022-03-25T21:26:49.209416Z"
    },
    "papermill": {
     "duration": 0.269002,
     "end_time": "2022-03-25T21:26:49.209588",
     "exception": false,
     "start_time": "2022-03-25T21:26:48.940586",
     "status": "completed"
    },
    "tags": []
   },
   "outputs": [
    {
     "data": {
      "text/plain": [
       "<AxesSubplot:title={'center':'Per Domain Validation Accuracy'}, xlabel='domain'>"
      ]
     },
     "execution_count": 18,
     "metadata": {},
     "output_type": "execute_result"
    },
    {
     "data": {
      "image/png": "[encoded data removed]",
      "text/plain": [
       "<Figure size 1080x504 with 1 Axes>"
      ]
     },
     "metadata": {
      "needs_background": "light"
     },
     "output_type": "display_data"
    }
   ],
   "source": [
    "get_domain_accuracies(experiment)"
   ]
  },
  {
   "cell_type": "code",
   "execution_count": 19,
   "id": "a74ae082",
   "metadata": {
    "execution": {
     "iopub.execute_input": "2022-03-25T21:26:49.323604Z",
     "iopub.status.busy": "2022-03-25T21:26:49.323193Z",
     "iopub.status.idle": "2022-03-25T21:26:49.349151Z",
     "shell.execute_reply": "2022-03-25T21:26:49.348562Z"
    },
    "papermill": {
     "duration": 0.082017,
     "end_time": "2022-03-25T21:26:49.349276",
     "exception": false,
     "start_time": "2022-03-25T21:26:49.267259",
     "status": "completed"
    },
    "tags": []
   },
   "outputs": [
    {
     "name": "stdout",
     "output_type": "stream",
     "text": [
      "Source Test Label Accuracy: 0.8965277777777778 Target Test Label Accuracy: 0.7970833333333334\n",
      "Source Val Label Accuracy: 0.8939236111111111 Target Val Label Accuracy: 0.8038541666666666\n"
     ]
    }
   ],
   "source": [
    "print(\"Source Test Label Accuracy:\", experiment[\"results\"][\"source_test_label_accuracy\"], \"Target Test Label Accuracy:\", experiment[\"results\"][\"target_test_label_accuracy\"])\n",
    "print(\"Source Val Label Accuracy:\", experiment[\"results\"][\"source_val_label_accuracy\"], \"Target Val Label Accuracy:\", experiment[\"results\"][\"target_val_label_accuracy\"])"
   ]
  },
  {
   "cell_type": "code",
   "execution_count": 20,
   "id": "dacca602",
   "metadata": {
    "execution": {
     "iopub.execute_input": "2022-03-25T21:26:49.500795Z",
     "iopub.status.busy": "2022-03-25T21:26:49.500414Z",
     "iopub.status.idle": "2022-03-25T21:26:49.525882Z",
     "shell.execute_reply": "2022-03-25T21:26:49.525314Z"
    },
    "papermill": {
     "duration": 0.08007,
     "end_time": "2022-03-25T21:26:49.525993",
     "exception": false,
     "start_time": "2022-03-25T21:26:49.445923",
     "status": "completed"
    },
    "tags": [
     "experiment_json"
    ]
   },
   "outputs": [
    {
     "data": {
      "text/plain": [
       "'{\"experiment_name\": \"tuned_1v2:oracle.run1.framed\", \"parameters\": {\"experiment_name\": \"tuned_1v2:oracle.run1.framed\", \"device\": \"cuda\", \"lr\": 0.0001, \"labels_source\": [\"3123D52\", \"3123D65\", \"3123D79\", \"3123D80\", \"3123D54\", \"3123D70\", \"3123D7B\", \"3123D89\", \"3123D58\", \"3123D76\", \"3123D7D\", \"3123EFE\", \"3123D64\", \"3123D78\", \"3123D7E\", \"3124E4A\"], \"labels_target\": [\"3123D52\", \"3123D65\", \"3123D79\", \"3123D80\", \"3123D54\", \"3123D70\", \"3123D7B\", \"3123D89\", \"3123D58\", \"3123D76\", \"3123D7D\", \"3123EFE\", \"3123D64\", \"3123D78\", \"3123D7E\", \"3124E4A\"], \"episode_transforms_source\": [], \"episode_transforms_target\": [], \"domains_source\": [8, 32, 50], \"domains_target\": [14, 20, 26, 38, 44], \"num_examples_per_domain_per_label_source\": -1, \"num_examples_per_domain_per_label_target\": -1, \"n_shot\": 3, \"n_way\": 16, \"n_query\": 2, \"train_k_factor\": 3, \"val_k_factor\": 2, \"test_k_factor\": 2, \"torch_default_dtype\": \"torch.float32\", \"n_epoch\": 50, \"patience\": 3, \"criteria_for_best\": \"target_accuracy\", \"x_net\": [{\"class\": \"nnReshape\", \"kargs\": {\"shape\": [-1, 1, 2, 256]}}, {\"class\": \"Conv2d\", \"kargs\": {\"in_channels\": 1, \"out_channels\": 256, \"kernel_size\": [1, 7], \"bias\": false, \"padding\": [0, 3]}}, {\"class\": \"ReLU\", \"kargs\": {\"inplace\": true}}, {\"class\": \"BatchNorm2d\", \"kargs\": {\"num_features\": 256}}, {\"class\": \"Conv2d\", \"kargs\": {\"in_channels\": 256, \"out_channels\": 80, \"kernel_size\": [2, 7], \"bias\": true, \"padding\": [0, 3]}}, {\"class\": \"ReLU\", \"kargs\": {\"inplace\": true}}, {\"class\": \"BatchNorm2d\", \"kargs\": {\"num_features\": 80}}, {\"class\": \"Flatten\", \"kargs\": {}}, {\"class\": \"Linear\", \"kargs\": {\"in_features\": 20480, \"out_features\": 256}}, {\"class\": \"ReLU\", \"kargs\": {\"inplace\": true}}, {\"class\": \"BatchNorm1d\", \"kargs\": {\"num_features\": 256}}, {\"class\": \"Linear\", \"kargs\": {\"in_features\": 256, \"out_features\": 256}}], \"NUM_LOGS_PER_EPOCH\": 10, \"BEST_MODEL_PATH\": \"./best_model.pth\", \"pickle_name\": \"oracle.Run1_framed_2000Examples_stratified_ds.2022A.pkl\", \"x_transforms_source\": [\"unit_mag\"], \"x_transforms_target\": [\"unit_mag\"], \"dataset_seed\": 1337, \"seed\": 1337}, \"results\": {\"source_test_label_accuracy\": 0.8965277777777778, \"source_test_label_loss\": 0.39428335428237915, \"target_test_label_accuracy\": 0.7970833333333334, \"target_test_label_loss\": 5.652859687805176, \"source_val_label_accuracy\": 0.8939236111111111, \"source_val_label_loss\": 0.31525516510009766, \"target_val_label_accuracy\": 0.8038541666666666, \"target_val_label_loss\": 5.4579973220825195, \"total_epochs_trained\": 10, \"total_experiment_time_secs\": 1038.4901893138885, \"confusion\": {\"8\": {\"15\": {\"15\": 213, \"12\": 26, \"8\": 1}, \"3\": {\"3\": 239, \"12\": 1}, \"6\": {\"6\": 210, \"7\": 14, \"4\": 10, \"13\": 2, \"0\": 4}, \"1\": {\"1\": 236, \"14\": 3, \"11\": 1}, \"8\": {\"8\": 240}, \"10\": {\"14\": 9, \"10\": 222, \"13\": 9}, \"9\": {\"9\": 240}, \"13\": {\"13\": 139, \"10\": 24, \"0\": 50, \"14\": 5, \"4\": 20, \"6\": 2}, \"12\": {\"12\": 172, \"15\": 60, \"8\": 2, \"3\": 6}, \"5\": {\"5\": 230, \"10\": 4, \"14\": 4, \"1\": 2}, \"0\": {\"0\": 202, \"7\": 10, \"13\": 25, \"4\": 2, \"6\": 1}, \"2\": {\"2\": 234, \"3\": 4, \"15\": 1, \"7\": 1}, \"11\": {\"11\": 232, \"1\": 8}, \"14\": {\"14\": 210, \"4\": 9, \"10\": 15, \"13\": 2, \"1\": 4}, \"7\": {\"7\": 213, \"6\": 26, \"3\": 1}, \"4\": {\"4\": 213, \"6\": 4, \"13\": 18, \"14\": 5}}, \"50\": {\"3\": {\"3\": 240}, \"15\": {\"4\": 7, \"15\": 211, \"1\": 21, \"6\": 1}, \"8\": {\"8\": 238, \"10\": 2}, \"4\": {\"4\": 154, \"1\": 13, \"15\": 24, \"5\": 41, \"7\": 4, \"6\": 4}, \"14\": {\"14\": 240}, \"0\": {\"0\": 222, \"2\": 14, \"13\": 2, \"10\": 2}, \"7\": {\"7\": 199, \"13\": 27, \"5\": 5, \"6\": 6, \"4\": 1, \"10\": 2}, \"6\": {\"6\": 227, \"15\": 1, \"13\": 9, \"7\": 1, \"1\": 2}, \"10\": {\"10\": 229, \"7\": 3, \"8\": 4, \"13\": 1, \"0\": 3}, \"5\": {\"5\": 142, \"1\": 8, \"13\": 33, \"7\": 12, \"4\": 42, \"6\": 3}, \"2\": {\"0\": 8, \"2\": 232}, \"12\": {\"12\": 228, \"9\": 9, \"11\": 2, \"14\": 1}, \"9\": {\"9\": 234, \"12\": 5, \"11\": 1}, \"1\": {\"1\": 205, \"4\": 7, \"15\": 20, \"6\": 6, \"5\": 2}, \"11\": {\"11\": 232, \"12\": 3, \"15\": 2, \"9\": 1, \"14\": 2}, \"13\": {\"7\": 10, \"13\": 202, \"5\": 15, \"6\": 9, \"10\": 3, \"1\": 1}}, \"32\": {\"5\": {\"5\": 146, \"13\": 37, \"7\": 39, \"3\": 5, \"8\": 3, \"4\": 2, \"11\": 4, \"14\": 2, \"0\": 2}, \"8\": {\"8\": 210, \"13\": 17, \"0\": 11, \"5\": 1, \"14\": 1}, \"11\": {\"11\": 223, \"14\": 14, \"13\": 1, \"7\": 2}, \"1\": {\"1\": 239, \"10\": 1}, \"10\": {\"10\": 240}, \"15\": {\"15\": 238, \"8\": 1, \"3\": 1}, \"3\": {\"3\": 230, \"13\": 6, \"14\": 1, \"5\": 1, \"11\": 1, \"8\": 1}, \"7\": {\"7\": 188, \"5\": 25, \"13\": 6, \"4\": 14, \"2\": 1, \"11\": 1, \"14\": 5}, \"4\": {\"4\": 187, \"7\": 10, \"13\": 7, \"2\": 26, \"5\": 10}, \"14\": {\"14\": 179, \"11\": 40, \"5\": 1, \"0\": 12, \"7\": 6, \"8\": 2}, \"9\": {\"9\": 240}, \"12\": {\"12\": 240}, \"6\": {\"6\": 240}, \"2\": {\"2\": 213, \"4\": 27}, \"0\": {\"0\": 209, \"8\": 17, \"13\": 1, \"14\": 12, \"7\": 1}, \"13\": {\"13\": 196, \"3\": 14, \"7\": 7, \"4\": 5, \"8\": 5, \"5\": 11, \"14\": 1, \"0\": 1}}, \"14\": {\"15\": {\"15\": 239, \"7\": 1}, \"3\": {\"3\": 238, \"14\": 2}, \"6\": {\"13\": 69, \"6\": 167, \"2\": 4}, \"1\": {\"1\": 212, \"5\": 25, \"4\": 3}, \"8\": {\"8\": 240}, \"10\": {\"10\": 240}, \"9\": {\"9\": 237, \"8\": 1, \"12\": 2}, \"13\": {\"13\": 85, \"6\": 75, \"14\": 41, \"2\": 28, \"5\": 9, \"4\": 1, \"3\": 1}, \"12\": {\"12\": 240}, \"5\": {\"1\": 34, \"5\": 163, \"4\": 26, \"2\": 15, \"3\": 2}, \"0\": {\"0\": 236, \"11\": 1, \"10\": 2, \"3\": 1}, \"2\": {\"5\": 18, \"14\": 54, \"2\": 109, \"6\": 13, \"13\": 23, \"4\": 8, \"3\": 12, \"15\": 3}, \"11\": {\"11\": 225, \"9\": 14, \"0\": 1}, \"14\": {\"2\": 11, \"14\": 204, \"13\": 20, \"6\": 2, \"3\": 3}, \"7\": {\"7\": 240}, \"4\": {\"4\": 223, \"5\": 12, \"3\": 1, \"2\": 2, \"1\": 2}}, \"20\": {\"3\": {\"3\": 184, \"9\": 16, \"4\": 6, \"12\": 24, \"7\": 3, \"2\": 6, \"1\": 1}, \"15\": {\"1\": 18, \"15\": 204, \"5\": 7, \"13\": 3, \"0\": 8}, \"8\": {\"8\": 232, \"4\": 6, \"7\": 2}, \"4\": {\"4\": 233, \"8\": 7}, \"14\": {\"14\": 225, \"4\": 1, \"6\": 12, \"10\": 2}, \"0\": {\"0\": 162, \"15\": 14, \"5\": 60, \"8\": 1, \"7\": 1, \"12\": 1, \"13\": 1}, \"7\": {\"7\": 228, \"8\": 1, \"2\": 9, \"3\": 1, \"9\": 1}, \"6\": {\"6\": 236, \"14\": 4}, \"10\": {\"10\": 240}, \"5\": {\"5\": 197, \"0\": 27, \"1\": 6, \"12\": 7, \"15\": 3}, \"2\": {\"9\": 40, \"2\": 162, \"3\": 13, \"12\": 10, \"7\": 13, \"13\": 2}, \"12\": {\"12\": 159, \"3\": 24, \"1\": 39, \"5\": 3, \"2\": 10, \"9\": 5}, \"9\": {\"9\": 156, \"2\": 44, \"3\": 31, \"13\": 1, \"12\": 8}, \"1\": {\"1\": 176, \"12\": 46, \"5\": 4, \"15\": 13, \"13\": 1}, \"11\": {\"11\": 240}, \"13\": {\"13\": 231, \"2\": 6, \"15\": 2, \"1\": 1}}, \"44\": {\"5\": {\"5\": 215, \"0\": 8, \"14\": 7, \"15\": 5, \"4\": 3, \"8\": 2}, \"8\": {\"8\": 149, \"0\": 81, \"15\": 7, \"5\": 3}, \"11\": {\"7\": 2, \"11\": 210, \"13\": 16, \"6\": 12}, \"1\": {\"12\": 42, \"1\": 165, \"3\": 14, \"10\": 9, \"7\": 1, \"2\": 9}, \"10\": {\"10\": 186, \"12\": 19, \"2\": 16, \"1\": 18, \"7\": 1}, \"15\": {\"15\": 211, \"0\": 14, \"14\": 11, \"5\": 2, \"4\": 1, \"8\": 1}, \"3\": {\"3\": 233, \"1\": 4, \"12\": 2, \"2\": 1}, \"7\": {\"2\": 33, \"7\": 153, \"9\": 31, \"6\": 19, \"3\": 1, \"1\": 1, \"13\": 2}, \"4\": {\"14\": 52, \"4\": 187, \"15\": 1}, \"14\": {\"14\": 175, \"4\": 58, \"15\": 6, \"5\": 1}, \"9\": {\"7\": 40, \"9\": 137, \"6\": 29, \"13\": 32, \"2\": 2}, \"12\": {\"12\": 193, \"3\": 4, \"10\": 9, \"1\": 32, \"2\": 2}, \"6\": {\"13\": 22, \"9\": 21, \"6\": 170, \"2\": 4, \"7\": 23}, \"2\": {\"2\": 190, \"10\": 11, \"1\": 12, \"7\": 25, \"9\": 1, \"12\": 1}, \"0\": {\"8\": 69, \"0\": 152, \"5\": 12, \"15\": 7}, \"13\": {\"13\": 167, \"9\": 44, \"6\": 27, \"7\": 2}}, \"38\": {\"14\": {\"14\": 231, \"10\": 4, \"2\": 4, \"11\": 1}, \"0\": {\"0\": 148, \"5\": 2, \"7\": 16, \"4\": 12, \"10\": 3, \"8\": 39, \"12\": 11, \"3\": 9}, \"13\": {\"13\": 200, \"14\": 2, \"15\": 21, \"10\": 9, \"2\": 4, \"8\": 4}, \"7\": {\"7\": 210, \"0\": 9, \"5\": 11, \"8\": 8, \"4\": 2}, \"9\": {\"9\": 215, \"6\": 22, \"7\": 1, \"5\": 2}, \"3\": {\"3\": 219, \"4\": 12, \"9\": 5, \"0\": 3, \"1\": 1}, \"11\": {\"11\": 130, \"4\": 17, \"14\": 55, \"10\": 25, \"9\": 4, \"0\": 3, \"7\": 3, \"3\": 2, \"13\": 1}, \"6\": {\"6\": 235, \"9\": 5}, \"8\": {\"8\": 192, \"5\": 23, \"7\": 1, \"0\": 15, \"12\": 1, \"10\": 5, \"15\": 2, \"13\": 1}, \"4\": {\"4\": 216, \"7\": 15, \"0\": 5, \"12\": 1, \"3\": 2, \"5\": 1}, \"5\": {\"1\": 3, \"5\": 114, \"7\": 35, \"8\": 58, \"6\": 5, \"10\": 10, \"0\": 7, \"15\": 6, \"9\": 2}, \"10\": {\"13\": 8, \"10\": 217, \"8\": 6, \"0\": 3, \"7\": 3, \"14\": 2, \"11\": 1}, \"1\": {\"1\": 230, \"15\": 10}, \"2\": {\"2\": 215, \"14\": 22, \"13\": 3}, \"15\": {\"15\": 205, \"1\": 12, \"5\": 1, \"8\": 14, \"13\": 7, \"0\": 1}, \"12\": {\"12\": 240}}, \"26\": {\"13\": {\"15\": 6, \"13\": 188, \"5\": 39, \"3\": 2, \"2\": 3, \"9\": 2}, \"2\": {\"2\": 127, \"3\": 71, \"7\": 13, \"9\": 2, \"8\": 3, \"5\": 17, \"15\": 7}, \"8\": {\"7\": 10, \"15\": 5, \"8\": 152, \"4\": 12, \"0\": 17, \"10\": 30, \"14\": 7, \"9\": 3, \"3\": 1, \"2\": 2, \"6\": 1}, \"9\": {\"15\": 63, \"6\": 18, \"9\": 151, \"13\": 1, \"10\": 3, \"8\": 3, \"0\": 1}, \"12\": {\"12\": 240}, \"4\": {\"8\": 16, \"0\": 25, \"4\": 151, \"14\": 39, \"7\": 6, \"1\": 3}, \"3\": {\"3\": 186, \"2\": 43, \"7\": 11}, \"15\": {\"15\": 161, \"9\": 50, \"8\": 9, \"2\": 3, \"6\": 5, \"5\": 5, \"10\": 2, \"13\": 5}, \"14\": {\"14\": 138, \"4\": 53, \"10\": 11, \"0\": 23, \"1\": 13, \"8\": 1, \"11\": 1}, \"10\": {\"10\": 130, \"0\": 56, \"8\": 34, \"14\": 12, \"4\": 3, \"6\": 3, \"1\": 1, \"15\": 1}, \"7\": {\"7\": 181, \"8\": 9, \"2\": 22, \"3\": 17, \"4\": 10, \"15\": 1}, \"11\": {\"11\": 240}, \"6\": {\"6\": 199, \"10\": 14, \"8\": 1, \"9\": 20, \"0\": 3, \"15\": 2, \"13\": 1}, \"1\": {\"1\": 213, \"14\": 16, \"4\": 11}, \"5\": {\"13\": 29, \"5\": 198, \"15\": 4, \"2\": 7, \"8\": 1, \"7\": 1}, \"0\": {\"0\": 106, \"14\": 31, \"8\": 25, \"10\": 45, \"4\": 29, \"7\": 2, \"6\": 2}}}, \"per_domain_accuracy\": {\"8\": {\"accuracy\": 0.8971354166666666, \"source?\": true}, \"50\": {\"accuracy\": 0.89453125, \"source?\": true}, \"32\": {\"accuracy\": 0.8901041666666667, \"source?\": true}, \"14\": {\"accuracy\": 0.8588541666666667, \"source?\": false}, \"20\": {\"accuracy\": 0.8502604166666666, \"source?\": false}, \"44\": {\"accuracy\": 0.7533854166666667, \"source?\": false}, \"38\": {\"accuracy\": 0.8377604166666667, \"source?\": false}, \"26\": {\"accuracy\": 0.7190104166666667, \"source?\": false}}}, \"history\": {\"epoch_indices\": [1, 2, 3, 4, 5, 6, 7, 8, 9, 10], \"train_label_loss\": [0.968854327334298, 1.148498155673345, 0.5211982266888732, 0.46008372585924845, 0.4185592098619848, 0.35437052925486884, 0.3138209480127054, 0.2758010549001425, 0.24563999770371805, 0.22370921737617916], \"source_val_label_loss\": [66.43646240234375, 0.573166012763977, 0.5592594146728516, 0.4803285002708435, 0.36835235357284546, 0.31525516510009766, 0.3434388041496277, 0.3377346396446228, 0.31302040815353394, 0.32272160053253174], \"target_val_label_loss\": [36.209903717041016, 3.7999231815338135, 4.021033763885498, 4.848098278045654, 4.7934088706970215, 5.4579973220825195, 4.491713047027588, 4.87743616104126, 5.489648818969727, 5.837061405181885], \"source_val_acc_label\": [0.6759548611111111, 0.7887152777777777, 0.7952256944444445, 0.8290798611111111, 0.8690972222222222, 0.8939236111111111, 0.8830729166666667, 0.8858506944444444, 0.8921006944444444, 0.8881076388888889], \"target_val_acc_label\": [0.5780208333333333, 0.7375, 0.7234895833333334, 0.7627083333333333, 0.79328125, 0.8038541666666666, 0.7934895833333333, 0.7797916666666667, 0.789375, 0.7757291666666667]}, \"dataset_metrics\": {\"source\": {\"train\": {\"n_unique_x\": 67200, \"n_unique_y\": 16, \"n_batch/episode\": 2520}, \"val\": {\"n_unique_x\": 14400, \"n_unique_y\": 16, \"n_batch/episode\": 360}, \"test\": {\"n_unique_x\": 14400, \"n_unique_y\": 16, \"n_batch/episode\": 360}}, \"target\": {\"train\": {\"n_unique_x\": 112000, \"n_unique_y\": 16, \"n_batch/episode\": 4200}, \"val\": {\"n_unique_x\": 24000, \"n_unique_y\": 16, \"n_batch/episode\": 600}, \"test\": {\"n_unique_x\": 24000, \"n_unique_y\": 16, \"n_batch/episode\": 600}}}}'"
      ]
     },
     "execution_count": 20,
     "metadata": {},
     "output_type": "execute_result"
    }
   ],
   "source": [
    "json.dumps(experiment)"
   ]
  }
 ],
 "metadata": {
  "celltoolbar": "Tags",
  "kernelspec": {
   "display_name": "Python 3 (ipykernel)",
   "language": "python",
   "name": "python3"
  },
  "language_info": {
   "codemirror_mode": {
    "name": "ipython",
    "version": 3
   },
   "file_extension": ".py",
   "mimetype": "text/x-python",
   "name": "python",
   "nbconvert_exporter": "python",
   "pygments_lexer": "ipython3",
   "version": "3.8.12"
  },
  "papermill": {
   "default_parameters": {},
   "duration": 1191.486767,
   "end_time": "2022-03-25T21:26:51.696996",
   "environment_variables": {},
   "exception": null,
   "input_path": "/root/csc500-main/csc500-notebooks/templates/ptn_template.ipynb",
   "output_path": "trial.ipynb",
   "parameters": {
    "parameters": {
     "BEST_MODEL_PATH": "./best_model.pth",
     "NUM_LOGS_PER_EPOCH": 10,
     "criteria_for_best": "target_accuracy",
     "dataset_seed": 1337,
     "device": "cuda",
     "domains_source": [
      8,
      32,
      50
     ],
     "domains_target": [
      14,
      20,
      26,
      38,
      44
     ],
     "episode_transforms_source": [],
     "episode_transforms_target": [],
     "experiment_name": "tuned_1v2:oracle.run1.framed",
     "labels_source": [
      "3123D52",
      "3123D65",
      "3123D79",
      "3123D80",
      "3123D54",
      "3123D70",
      "3123D7B",
      "3123D89",
      "3123D58",
      "3123D76",
      "3123D7D",
      "3123EFE",
      "3123D64",
      "3123D78",
      "3123D7E",
      "3124E4A"
     ],
     "labels_target": [
      "3123D52",
      "3123D65",
      "3123D79",
      "3123D80",
      "3123D54",
      "3123D70",
      "3123D7B",
      "3123D89",
      "3123D58",
      "3123D76",
      "3123D7D",
      "3123EFE",
      "3123D64",
      "3123D78",
      "3123D7E",
      "3124E4A"
     ],
     "lr": 0.0001,
     "n_epoch": 50,
     "n_query": 2,
     "n_shot": 3,
     "n_way": 16,
     "num_examples_per_domain_per_label_source": -1,
     "num_examples_per_domain_per_label_target": -1,
     "patience": 3,
     "pickle_name": "oracle.Run1_framed_2000Examples_stratified_ds.2022A.pkl",
     "seed": 1337,
     "test_k_factor": 2,
     "torch_default_dtype": "torch.float32",
     "train_k_factor": 3,
     "val_k_factor": 2,
     "x_net": [
      {
       "class": "nnReshape",
       "kargs": {
        "shape": [
         -1,
         1,
         2,
         256
        ]
       }
      },
      {
       "class": "Conv2d",
       "kargs": {
        "bias": false,
        "in_channels": 1,
        "kernel_size": [
         1,
         7
        ],
        "out_channels": 256,
        "padding": [
         0,
         3
        ]
       }
      },
      {
       "class": "ReLU",
       "kargs": {
        "inplace": true
       }
      },
      {
       "class": "BatchNorm2d",
       "kargs": {
        "num_features": 256
       }
      },
      {
       "class": "Conv2d",
       "kargs": {
        "bias": true,
        "in_channels": 256,
        "kernel_size": [
         2,
         7
        ],
        "out_channels": 80,
        "padding": [
         0,
         3
        ]
       }
      },
      {
       "class": "ReLU",
       "kargs": {
        "inplace": true
       }
      },
      {
       "class": "BatchNorm2d",
       "kargs": {
        "num_features": 80
       }
      },
      {
       "class": "Flatten",
       "kargs": {}
      },
      {
       "class": "Linear",
       "kargs": {
        "in_features": 20480,
        "out_features": 256
       }
      },
      {
       "class": "ReLU",
       "kargs": {
        "inplace": true
       }
      },
      {
       "class": "BatchNorm1d",
       "kargs": {
        "num_features": 256
       }
      },
      {
       "class": "Linear",
       "kargs": {
        "in_features": 256,
        "out_features": 256
       }
      }
     ],
     "x_transforms_source": [
      "unit_mag"
     ],
     "x_transforms_target": [
      "unit_mag"
     ]
    }
   },
   "start_time": "2022-03-25T21:07:00.210229",
   "version": "2.3.4"
  }
 },
 "nbformat": 4,
 "nbformat_minor": 5
}