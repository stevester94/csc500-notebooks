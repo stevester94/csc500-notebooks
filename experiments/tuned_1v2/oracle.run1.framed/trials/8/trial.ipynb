{
 "cells": [
  {
   "cell_type": "markdown",
   "id": "9fea5f46",
   "metadata": {
    "papermill": {
     "duration": 0.022839,
     "end_time": "2022-03-25T22:27:55.665275",
     "exception": false,
     "start_time": "2022-03-25T22:27:55.642436",
     "status": "completed"
    },
    "tags": []
   },
   "source": [
    "# PTN Template\n",
    "This notebook serves as a template for single dataset PTN experiments  \n",
    "It can be run on its own by setting STANDALONE to True (do a find for \"STANDALONE\" to see where)  \n",
    "But it is intended to be executed as part of a *papermill.py script. See any of the   \n",
    "experimentes with a papermill script to get started with that workflow.  "
   ]
  },
  {
   "cell_type": "code",
   "execution_count": 1,
   "id": "0902182a",
   "metadata": {
    "execution": {
     "iopub.execute_input": "2022-03-25T22:27:55.715957Z",
     "iopub.status.busy": "2022-03-25T22:27:55.697918Z",
     "iopub.status.idle": "2022-03-25T22:27:57.625232Z",
     "shell.execute_reply": "2022-03-25T22:27:57.624355Z"
    },
    "papermill": {
     "duration": 1.943502,
     "end_time": "2022-03-25T22:27:57.625442",
     "exception": false,
     "start_time": "2022-03-25T22:27:55.681940",
     "status": "completed"
    },
    "tags": []
   },
   "outputs": [],
   "source": [
    "%load_ext autoreload\n",
    "%autoreload 2\n",
    "%matplotlib inline\n",
    "\n",
    "    \n",
    "import os, json, sys, time, random\n",
    "import numpy as np\n",
    "import torch\n",
    "from torch.optim import Adam\n",
    "from  easydict import EasyDict\n",
    "import matplotlib.pyplot as plt\n",
    "\n",
    "from steves_models.steves_ptn import Steves_Prototypical_Network\n",
    "\n",
    "from steves_utils.lazy_iterable_wrapper import Lazy_Iterable_Wrapper\n",
    "from steves_utils.iterable_aggregator import Iterable_Aggregator\n",
    "from steves_utils.ptn_train_eval_test_jig import  PTN_Train_Eval_Test_Jig\n",
    "from steves_utils.torch_sequential_builder import build_sequential\n",
    "from steves_utils.torch_utils import get_dataset_metrics, ptn_confusion_by_domain_over_dataloader\n",
    "from steves_utils.utils_v2 import (per_domain_accuracy_from_confusion, get_datasets_base_path)\n",
    "from steves_utils.PTN.utils import independent_accuracy_assesment\n",
    "\n",
    "from steves_utils.stratified_dataset.episodic_accessor import Episodic_Accessor_Factory\n",
    "\n",
    "from steves_utils.ptn_do_report import (\n",
    "    get_loss_curve,\n",
    "    get_results_table,\n",
    "    get_parameters_table,\n",
    "    get_domain_accuracies,\n",
    ")\n",
    "\n",
    "from steves_utils.transforms import get_chained_transform"
   ]
  },
  {
   "cell_type": "markdown",
   "id": "41c840b4",
   "metadata": {
    "papermill": {
     "duration": 0.013441,
     "end_time": "2022-03-25T22:27:57.658934",
     "exception": false,
     "start_time": "2022-03-25T22:27:57.645493",
     "status": "completed"
    },
    "tags": []
   },
   "source": [
    "# Required Parameters\n",
    "These are allowed parameters, not defaults\n",
    "Each of these values need to be present in the injected parameters (the notebook will raise an exception if they are not present)\n",
    "\n",
    "Papermill uses the cell tag \"parameters\" to inject the real parameters below this cell.\n",
    "Enable tags to see what I mean"
   ]
  },
  {
   "cell_type": "code",
   "execution_count": 2,
   "id": "fd44eb83",
   "metadata": {
    "execution": {
     "iopub.execute_input": "2022-03-25T22:27:57.690407Z",
     "iopub.status.busy": "2022-03-25T22:27:57.690018Z",
     "iopub.status.idle": "2022-03-25T22:27:57.710126Z",
     "shell.execute_reply": "2022-03-25T22:27:57.709325Z"
    },
    "papermill": {
     "duration": 0.037893,
     "end_time": "2022-03-25T22:27:57.710285",
     "exception": false,
     "start_time": "2022-03-25T22:27:57.672392",
     "status": "completed"
    },
    "tags": []
   },
   "outputs": [],
   "source": [
    "required_parameters = {\n",
    "    \"experiment_name\",\n",
    "    \"lr\",\n",
    "    \"device\",\n",
    "    \"seed\",\n",
    "    \"dataset_seed\",\n",
    "    \"labels_source\",\n",
    "    \"labels_target\",\n",
    "    \"domains_source\",\n",
    "    \"domains_target\",\n",
    "    \"num_examples_per_domain_per_label_source\",\n",
    "    \"num_examples_per_domain_per_label_target\",\n",
    "    \"n_shot\",\n",
    "    \"n_way\",\n",
    "    \"n_query\",\n",
    "    \"train_k_factor\",\n",
    "    \"val_k_factor\",\n",
    "    \"test_k_factor\",\n",
    "    \"n_epoch\",\n",
    "    \"patience\",\n",
    "    \"criteria_for_best\",\n",
    "    \"x_transforms_source\",\n",
    "    \"x_transforms_target\",\n",
    "    \"episode_transforms_source\",\n",
    "    \"episode_transforms_target\",\n",
    "    \"pickle_name\",\n",
    "    \"x_net\",\n",
    "    \"NUM_LOGS_PER_EPOCH\",\n",
    "    \"BEST_MODEL_PATH\",\n",
    "    \"torch_default_dtype\"\n",
    "}"
   ]
  },
  {
   "cell_type": "code",
   "execution_count": 3,
   "id": "fa3f0049",
   "metadata": {
    "execution": {
     "iopub.execute_input": "2022-03-25T22:27:57.752767Z",
     "iopub.status.busy": "2022-03-25T22:27:57.751880Z",
     "iopub.status.idle": "2022-03-25T22:27:57.772307Z",
     "shell.execute_reply": "2022-03-25T22:27:57.771500Z"
    },
    "papermill": {
     "duration": 0.043325,
     "end_time": "2022-03-25T22:27:57.772458",
     "exception": false,
     "start_time": "2022-03-25T22:27:57.729133",
     "status": "completed"
    },
    "tags": [
     "parameters"
    ]
   },
   "outputs": [],
   "source": [
    "\n",
    "\n",
    "standalone_parameters = {}\n",
    "standalone_parameters[\"experiment_name\"] = \"STANDALONE PTN\"\n",
    "standalone_parameters[\"lr\"] = 0.0001\n",
    "standalone_parameters[\"device\"] = \"cuda\"\n",
    "\n",
    "standalone_parameters[\"seed\"] = 1337\n",
    "standalone_parameters[\"dataset_seed\"] = 1337\n",
    "\n",
    "\n",
    "standalone_parameters[\"num_examples_per_domain_per_label_source\"]=100\n",
    "standalone_parameters[\"num_examples_per_domain_per_label_target\"]=100\n",
    "\n",
    "standalone_parameters[\"n_shot\"] = 3\n",
    "standalone_parameters[\"n_query\"]  = 2\n",
    "standalone_parameters[\"train_k_factor\"] = 1\n",
    "standalone_parameters[\"val_k_factor\"] = 2\n",
    "standalone_parameters[\"test_k_factor\"] = 2\n",
    "\n",
    "\n",
    "standalone_parameters[\"n_epoch\"] = 100\n",
    "\n",
    "standalone_parameters[\"patience\"] = 10\n",
    "standalone_parameters[\"criteria_for_best\"] = \"target_accuracy\"\n",
    "\n",
    "standalone_parameters[\"x_transforms_source\"] = [\"unit_power\"]\n",
    "standalone_parameters[\"x_transforms_target\"] = [\"unit_power\"]\n",
    "standalone_parameters[\"episode_transforms_source\"] = []\n",
    "standalone_parameters[\"episode_transforms_target\"] = []\n",
    "\n",
    "standalone_parameters[\"torch_default_dtype\"] = \"torch.float32\" \n",
    "\n",
    "\n",
    "\n",
    "standalone_parameters[\"x_net\"] =     [\n",
    "    {\"class\": \"nnReshape\", \"kargs\": {\"shape\":[-1, 1, 2, 256]}},\n",
    "    {\"class\": \"Conv2d\", \"kargs\": { \"in_channels\":1, \"out_channels\":256, \"kernel_size\":(1,7), \"bias\":False, \"padding\":(0,3), },},\n",
    "    {\"class\": \"ReLU\", \"kargs\": {\"inplace\": True}},\n",
    "    {\"class\": \"BatchNorm2d\", \"kargs\": {\"num_features\":256}},\n",
    "\n",
    "    {\"class\": \"Conv2d\", \"kargs\": { \"in_channels\":256, \"out_channels\":80, \"kernel_size\":(2,7), \"bias\":True, \"padding\":(0,3), },},\n",
    "    {\"class\": \"ReLU\", \"kargs\": {\"inplace\": True}},\n",
    "    {\"class\": \"BatchNorm2d\", \"kargs\": {\"num_features\":80}},\n",
    "    {\"class\": \"Flatten\", \"kargs\": {}},\n",
    "\n",
    "    {\"class\": \"Linear\", \"kargs\": {\"in_features\": 80*256, \"out_features\": 256}}, # 80 units per IQ pair\n",
    "    {\"class\": \"ReLU\", \"kargs\": {\"inplace\": True}},\n",
    "    {\"class\": \"BatchNorm1d\", \"kargs\": {\"num_features\":256}},\n",
    "\n",
    "    {\"class\": \"Linear\", \"kargs\": {\"in_features\": 256, \"out_features\": 256}},\n",
    "]\n",
    "\n",
    "# Parameters relevant to results\n",
    "# These parameters will basically never need to change\n",
    "standalone_parameters[\"NUM_LOGS_PER_EPOCH\"] = 10\n",
    "standalone_parameters[\"BEST_MODEL_PATH\"] = \"./best_model.pth\"\n",
    "\n",
    "# uncomment for CORES dataset\n",
    "from steves_utils.CORES.utils import (\n",
    "    ALL_NODES,\n",
    "    ALL_NODES_MINIMUM_1000_EXAMPLES,\n",
    "    ALL_DAYS\n",
    ")\n",
    "\n",
    "\n",
    "standalone_parameters[\"labels_source\"] = ALL_NODES\n",
    "standalone_parameters[\"labels_target\"] = ALL_NODES\n",
    "\n",
    "standalone_parameters[\"domains_source\"] = [1]\n",
    "standalone_parameters[\"domains_target\"] = [2,3,4,5]\n",
    "\n",
    "standalone_parameters[\"pickle_name\"] = \"cores.stratified_ds.2022A.pkl\"\n",
    "\n",
    "\n",
    "# Uncomment these for ORACLE dataset\n",
    "# from steves_utils.ORACLE.utils_v2 import (\n",
    "#     ALL_DISTANCES_FEET,\n",
    "#     ALL_RUNS,\n",
    "#     ALL_SERIAL_NUMBERS,\n",
    "# )\n",
    "# standalone_parameters[\"labels_source\"] = ALL_SERIAL_NUMBERS\n",
    "# standalone_parameters[\"labels_target\"] = ALL_SERIAL_NUMBERS\n",
    "# standalone_parameters[\"domains_source\"] = [8,20, 38,50]\n",
    "# standalone_parameters[\"domains_target\"] = [14, 26, 32, 44, 56]\n",
    "# standalone_parameters[\"pickle_name\"] = \"oracle.frame_indexed.stratified_ds.2022A.pkl\"\n",
    "# standalone_parameters[\"num_examples_per_domain_per_label_source\"]=1000\n",
    "# standalone_parameters[\"num_examples_per_domain_per_label_target\"]=1000\n",
    "\n",
    "# Uncomment these for Metahan dataset\n",
    "# standalone_parameters[\"labels_source\"] = list(range(19))\n",
    "# standalone_parameters[\"labels_target\"] = list(range(19))\n",
    "# standalone_parameters[\"domains_source\"] = [0]\n",
    "# standalone_parameters[\"domains_target\"] = [1]\n",
    "# standalone_parameters[\"pickle_name\"] = \"metehan.stratified_ds.2022A.pkl\"\n",
    "# standalone_parameters[\"n_way\"]  = len(standalone_parameters[\"labels_source\"])\n",
    "# standalone_parameters[\"num_examples_per_domain_per_label_source\"]=200\n",
    "# standalone_parameters[\"num_examples_per_domain_per_label_target\"]=100\n",
    "\n",
    "\n",
    "standalone_parameters[\"n_way\"]  = len(standalone_parameters[\"labels_source\"])"
   ]
  },
  {
   "cell_type": "code",
   "execution_count": 4,
   "id": "627f0c95",
   "metadata": {
    "execution": {
     "iopub.execute_input": "2022-03-25T22:27:57.811748Z",
     "iopub.status.busy": "2022-03-25T22:27:57.811118Z",
     "iopub.status.idle": "2022-03-25T22:27:57.830287Z",
     "shell.execute_reply": "2022-03-25T22:27:57.829509Z"
    },
    "papermill": {
     "duration": 0.039978,
     "end_time": "2022-03-25T22:27:57.830440",
     "exception": false,
     "start_time": "2022-03-25T22:27:57.790462",
     "status": "completed"
    },
    "tags": [
     "injected-parameters"
    ]
   },
   "outputs": [],
   "source": [
    "# Parameters\n",
    "parameters = {\n",
    "    \"experiment_name\": \"tuned_1v2:oracle.run1.framed\",\n",
    "    \"device\": \"cuda\",\n",
    "    \"lr\": 0.0001,\n",
    "    \"labels_source\": [\n",
    "        \"3123D52\",\n",
    "        \"3123D65\",\n",
    "        \"3123D79\",\n",
    "        \"3123D80\",\n",
    "        \"3123D54\",\n",
    "        \"3123D70\",\n",
    "        \"3123D7B\",\n",
    "        \"3123D89\",\n",
    "        \"3123D58\",\n",
    "        \"3123D76\",\n",
    "        \"3123D7D\",\n",
    "        \"3123EFE\",\n",
    "        \"3123D64\",\n",
    "        \"3123D78\",\n",
    "        \"3123D7E\",\n",
    "        \"3124E4A\",\n",
    "    ],\n",
    "    \"labels_target\": [\n",
    "        \"3123D52\",\n",
    "        \"3123D65\",\n",
    "        \"3123D79\",\n",
    "        \"3123D80\",\n",
    "        \"3123D54\",\n",
    "        \"3123D70\",\n",
    "        \"3123D7B\",\n",
    "        \"3123D89\",\n",
    "        \"3123D58\",\n",
    "        \"3123D76\",\n",
    "        \"3123D7D\",\n",
    "        \"3123EFE\",\n",
    "        \"3123D64\",\n",
    "        \"3123D78\",\n",
    "        \"3123D7E\",\n",
    "        \"3124E4A\",\n",
    "    ],\n",
    "    \"episode_transforms_source\": [],\n",
    "    \"episode_transforms_target\": [],\n",
    "    \"domains_source\": [8, 32, 50],\n",
    "    \"domains_target\": [14, 20, 26, 38, 44],\n",
    "    \"num_examples_per_domain_per_label_source\": -1,\n",
    "    \"num_examples_per_domain_per_label_target\": -1,\n",
    "    \"n_shot\": 3,\n",
    "    \"n_way\": 16,\n",
    "    \"n_query\": 2,\n",
    "    \"train_k_factor\": 3,\n",
    "    \"val_k_factor\": 2,\n",
    "    \"test_k_factor\": 2,\n",
    "    \"torch_default_dtype\": \"torch.float32\",\n",
    "    \"n_epoch\": 50,\n",
    "    \"patience\": 3,\n",
    "    \"criteria_for_best\": \"target_accuracy\",\n",
    "    \"x_net\": [\n",
    "        {\"class\": \"nnReshape\", \"kargs\": {\"shape\": [-1, 1, 2, 256]}},\n",
    "        {\n",
    "            \"class\": \"Conv2d\",\n",
    "            \"kargs\": {\n",
    "                \"in_channels\": 1,\n",
    "                \"out_channels\": 256,\n",
    "                \"kernel_size\": [1, 7],\n",
    "                \"bias\": False,\n",
    "                \"padding\": [0, 3],\n",
    "            },\n",
    "        },\n",
    "        {\"class\": \"ReLU\", \"kargs\": {\"inplace\": True}},\n",
    "        {\"class\": \"BatchNorm2d\", \"kargs\": {\"num_features\": 256}},\n",
    "        {\n",
    "            \"class\": \"Conv2d\",\n",
    "            \"kargs\": {\n",
    "                \"in_channels\": 256,\n",
    "                \"out_channels\": 80,\n",
    "                \"kernel_size\": [2, 7],\n",
    "                \"bias\": True,\n",
    "                \"padding\": [0, 3],\n",
    "            },\n",
    "        },\n",
    "        {\"class\": \"ReLU\", \"kargs\": {\"inplace\": True}},\n",
    "        {\"class\": \"BatchNorm2d\", \"kargs\": {\"num_features\": 80}},\n",
    "        {\"class\": \"Flatten\", \"kargs\": {}},\n",
    "        {\"class\": \"Linear\", \"kargs\": {\"in_features\": 20480, \"out_features\": 256}},\n",
    "        {\"class\": \"ReLU\", \"kargs\": {\"inplace\": True}},\n",
    "        {\"class\": \"BatchNorm1d\", \"kargs\": {\"num_features\": 256}},\n",
    "        {\"class\": \"Linear\", \"kargs\": {\"in_features\": 256, \"out_features\": 256}},\n",
    "    ],\n",
    "    \"NUM_LOGS_PER_EPOCH\": 10,\n",
    "    \"BEST_MODEL_PATH\": \"./best_model.pth\",\n",
    "    \"pickle_name\": \"oracle.Run1_framed_2000Examples_stratified_ds.2022A.pkl\",\n",
    "    \"x_transforms_source\": [\"unit_power\"],\n",
    "    \"x_transforms_target\": [\"unit_power\"],\n",
    "    \"dataset_seed\": 1337,\n",
    "    \"seed\": 1337,\n",
    "}\n"
   ]
  },
  {
   "cell_type": "code",
   "execution_count": 5,
   "id": "8fa1cc33",
   "metadata": {
    "execution": {
     "iopub.execute_input": "2022-03-25T22:27:57.867557Z",
     "iopub.status.busy": "2022-03-25T22:27:57.867177Z",
     "iopub.status.idle": "2022-03-25T22:27:57.884859Z",
     "shell.execute_reply": "2022-03-25T22:27:57.884065Z"
    },
    "papermill": {
     "duration": 0.03527,
     "end_time": "2022-03-25T22:27:57.885012",
     "exception": false,
     "start_time": "2022-03-25T22:27:57.849742",
     "status": "completed"
    },
    "tags": []
   },
   "outputs": [],
   "source": [
    "# Set this to True if you want to run this template directly\n",
    "STANDALONE = False\n",
    "if STANDALONE:\n",
    "    print(\"parameters not injected, running with standalone_parameters\")\n",
    "    parameters = standalone_parameters\n",
    "\n",
    "if not 'parameters' in locals() and not 'parameters' in globals():\n",
    "    raise Exception(\"Parameter injection failed\")\n",
    "\n",
    "#Use an easy dict for all the parameters\n",
    "p = EasyDict(parameters)\n",
    "\n",
    "supplied_keys = set(p.keys())\n",
    "\n",
    "if  supplied_keys != required_parameters:\n",
    "    print(\"Parameters are incorrect\")\n",
    "    if len(supplied_keys - required_parameters)>0: print(\"Shouldn't have:\", str(supplied_keys - required_parameters))\n",
    "    if len(required_parameters - supplied_keys)>0: print(\"Need to have:\", str(required_parameters - supplied_keys))\n",
    "    raise RuntimeError(\"Parameters are incorrect\")\n",
    "\n"
   ]
  },
  {
   "cell_type": "code",
   "execution_count": 6,
   "id": "3a028d58",
   "metadata": {
    "execution": {
     "iopub.execute_input": "2022-03-25T22:27:57.922535Z",
     "iopub.status.busy": "2022-03-25T22:27:57.922178Z",
     "iopub.status.idle": "2022-03-25T22:27:57.939581Z",
     "shell.execute_reply": "2022-03-25T22:27:57.938781Z"
    },
    "papermill": {
     "duration": 0.034407,
     "end_time": "2022-03-25T22:27:57.939734",
     "exception": false,
     "start_time": "2022-03-25T22:27:57.905327",
     "status": "completed"
    },
    "tags": []
   },
   "outputs": [],
   "source": [
    "###################################\n",
    "# Set the RNGs and make it all deterministic\n",
    "###################################\n",
    "np.random.seed(p.seed)\n",
    "random.seed(p.seed)\n",
    "torch.manual_seed(p.seed)\n",
    "\n",
    "torch.use_deterministic_algorithms(True) "
   ]
  },
  {
   "cell_type": "code",
   "execution_count": 7,
   "id": "b691acf6",
   "metadata": {
    "execution": {
     "iopub.execute_input": "2022-03-25T22:27:57.979526Z",
     "iopub.status.busy": "2022-03-25T22:27:57.979167Z",
     "iopub.status.idle": "2022-03-25T22:27:57.996056Z",
     "shell.execute_reply": "2022-03-25T22:27:57.995320Z"
    },
    "papermill": {
     "duration": 0.033478,
     "end_time": "2022-03-25T22:27:57.996208",
     "exception": false,
     "start_time": "2022-03-25T22:27:57.962730",
     "status": "completed"
    },
    "tags": []
   },
   "outputs": [],
   "source": [
    "###########################################\n",
    "# The stratified datasets honor this\n",
    "###########################################\n",
    "torch.set_default_dtype(eval(p.torch_default_dtype))"
   ]
  },
  {
   "cell_type": "code",
   "execution_count": 8,
   "id": "b5fba671",
   "metadata": {
    "execution": {
     "iopub.execute_input": "2022-03-25T22:27:58.033912Z",
     "iopub.status.busy": "2022-03-25T22:27:58.033553Z",
     "iopub.status.idle": "2022-03-25T22:27:58.084618Z",
     "shell.execute_reply": "2022-03-25T22:27:58.083907Z"
    },
    "papermill": {
     "duration": 0.067647,
     "end_time": "2022-03-25T22:27:58.084770",
     "exception": false,
     "start_time": "2022-03-25T22:27:58.017123",
     "status": "completed"
    },
    "tags": []
   },
   "outputs": [],
   "source": [
    "###################################\n",
    "# Build the network(s)\n",
    "# Note: It's critical to do this AFTER setting the RNG\n",
    "# (This is due to the randomized initial weights)\n",
    "###################################\n",
    "x_net = build_sequential(p.x_net)"
   ]
  },
  {
   "cell_type": "code",
   "execution_count": 9,
   "id": "5d7e61cc",
   "metadata": {
    "execution": {
     "iopub.execute_input": "2022-03-25T22:27:58.120905Z",
     "iopub.status.busy": "2022-03-25T22:27:58.120438Z",
     "iopub.status.idle": "2022-03-25T22:27:58.143233Z",
     "shell.execute_reply": "2022-03-25T22:27:58.142701Z"
    },
    "papermill": {
     "duration": 0.040289,
     "end_time": "2022-03-25T22:27:58.143360",
     "exception": false,
     "start_time": "2022-03-25T22:27:58.103071",
     "status": "completed"
    },
    "tags": []
   },
   "outputs": [],
   "source": [
    "start_time_secs = time.time()"
   ]
  },
  {
   "cell_type": "code",
   "execution_count": 10,
   "id": "fd5442bc",
   "metadata": {
    "execution": {
     "iopub.execute_input": "2022-03-25T22:27:58.191429Z",
     "iopub.status.busy": "2022-03-25T22:27:58.190563Z",
     "iopub.status.idle": "2022-03-25T22:28:20.301841Z",
     "shell.execute_reply": "2022-03-25T22:28:20.301087Z"
    },
    "papermill": {
     "duration": 22.139608,
     "end_time": "2022-03-25T22:28:20.302039",
     "exception": false,
     "start_time": "2022-03-25T22:27:58.162431",
     "status": "completed"
    },
    "tags": []
   },
   "outputs": [],
   "source": [
    "###################################\n",
    "# Build the dataset\n",
    "###################################\n",
    "\n",
    "if p.x_transforms_source == []: x_transform_source = None\n",
    "else: x_transform_source = get_chained_transform(p.x_transforms_source) \n",
    "\n",
    "if p.x_transforms_target == []: x_transform_target = None\n",
    "else: x_transform_target = get_chained_transform(p.x_transforms_target)\n",
    "\n",
    "if p.episode_transforms_source == []: episode_transform_source = None\n",
    "else: raise Exception(\"episode_transform_source not implemented\")\n",
    "\n",
    "if p.episode_transforms_target == []: episode_transform_target = None\n",
    "else: raise Exception(\"episode_transform_target not implemented\")\n",
    "\n",
    "\n",
    "eaf_source = Episodic_Accessor_Factory(\n",
    "    labels=p.labels_source,\n",
    "    domains=p.domains_source,\n",
    "    num_examples_per_domain_per_label=p.num_examples_per_domain_per_label_source,\n",
    "    iterator_seed=p.seed,\n",
    "    dataset_seed=p.dataset_seed,\n",
    "    n_shot=p.n_shot,\n",
    "    n_way=p.n_way,\n",
    "    n_query=p.n_query,\n",
    "    train_val_test_k_factors=(p.train_k_factor,p.val_k_factor,p.test_k_factor),\n",
    "    pickle_path=os.path.join(get_datasets_base_path(), p.pickle_name),\n",
    "    x_transform_func=x_transform_source,\n",
    "    example_transform_func=episode_transform_source,\n",
    "    \n",
    ")\n",
    "train_original_source, val_original_source, test_original_source = eaf_source.get_train(), eaf_source.get_val(), eaf_source.get_test()\n",
    "\n",
    "\n",
    "eaf_target = Episodic_Accessor_Factory(\n",
    "    labels=p.labels_target,\n",
    "    domains=p.domains_target,\n",
    "    num_examples_per_domain_per_label=p.num_examples_per_domain_per_label_target,\n",
    "    iterator_seed=p.seed,\n",
    "    dataset_seed=p.dataset_seed,\n",
    "    n_shot=p.n_shot,\n",
    "    n_way=p.n_way,\n",
    "    n_query=p.n_query,\n",
    "    train_val_test_k_factors=(p.train_k_factor,p.val_k_factor,p.test_k_factor),\n",
    "    pickle_path=os.path.join(get_datasets_base_path(), p.pickle_name),\n",
    "    x_transform_func=x_transform_target,\n",
    "    example_transform_func=episode_transform_target,\n",
    ")\n",
    "train_original_target, val_original_target, test_original_target = eaf_target.get_train(), eaf_target.get_val(), eaf_target.get_test()\n",
    "\n",
    "\n",
    "transform_lambda = lambda ex: ex[1] # Original is (<domain>, <episode>) so we strip down to episode only\n",
    "\n",
    "train_processed_source = Lazy_Iterable_Wrapper(train_original_source, transform_lambda)\n",
    "val_processed_source   = Lazy_Iterable_Wrapper(val_original_source, transform_lambda)\n",
    "test_processed_source  = Lazy_Iterable_Wrapper(test_original_source, transform_lambda)\n",
    "\n",
    "train_processed_target = Lazy_Iterable_Wrapper(train_original_target, transform_lambda)\n",
    "val_processed_target   = Lazy_Iterable_Wrapper(val_original_target, transform_lambda)\n",
    "test_processed_target  = Lazy_Iterable_Wrapper(test_original_target, transform_lambda)\n",
    "\n",
    "datasets = EasyDict({\n",
    "    \"source\": {\n",
    "        \"original\": {\"train\":train_original_source, \"val\":val_original_source, \"test\":test_original_source},\n",
    "        \"processed\": {\"train\":train_processed_source, \"val\":val_processed_source, \"test\":test_processed_source}\n",
    "    },\n",
    "    \"target\": {\n",
    "        \"original\": {\"train\":train_original_target, \"val\":val_original_target, \"test\":test_original_target},\n",
    "        \"processed\": {\"train\":train_processed_target, \"val\":val_processed_target, \"test\":test_processed_target}\n",
    "    },\n",
    "})"
   ]
  },
  {
   "cell_type": "code",
   "execution_count": 11,
   "id": "296189d9",
   "metadata": {
    "execution": {
     "iopub.execute_input": "2022-03-25T22:28:20.346093Z",
     "iopub.status.busy": "2022-03-25T22:28:20.345720Z",
     "iopub.status.idle": "2022-03-25T22:28:27.152511Z",
     "shell.execute_reply": "2022-03-25T22:28:27.151663Z"
    },
    "papermill": {
     "duration": 6.826753,
     "end_time": "2022-03-25T22:28:27.152682",
     "exception": false,
     "start_time": "2022-03-25T22:28:20.325929",
     "status": "completed"
    },
    "tags": []
   },
   "outputs": [
    {
     "name": "stdout",
     "output_type": "stream",
     "text": [
      "Visually inspect these to see if they line up with expected values given the transforms\n",
      "x_transforms_source ['unit_power']\n",
      "x_transforms_target ['unit_power']\n",
      "Average magnitude, source: 0.97321665\n",
      "Average power, source: 1.0\n"
     ]
    },
    {
     "name": "stdout",
     "output_type": "stream",
     "text": [
      "Average magnitude, target: 0.96836233\n",
      "Average power, target: 1.0\n"
     ]
    }
   ],
   "source": [
    "# Some quick unit tests on the data\n",
    "from steves_utils.transforms import get_average_power, get_average_magnitude\n",
    "\n",
    "q_x, q_y, s_x, s_y, truth = next(iter(train_processed_source))\n",
    "\n",
    "assert q_x.dtype == eval(p.torch_default_dtype)\n",
    "assert s_x.dtype == eval(p.torch_default_dtype)\n",
    "\n",
    "print(\"Visually inspect these to see if they line up with expected values given the transforms\")\n",
    "print('x_transforms_source', p.x_transforms_source)\n",
    "print('x_transforms_target', p.x_transforms_target)\n",
    "print(\"Average magnitude, source:\", get_average_magnitude(q_x[0].numpy()))\n",
    "print(\"Average power, source:\", get_average_power(q_x[0].numpy()))\n",
    "\n",
    "q_x, q_y, s_x, s_y, truth = next(iter(train_processed_target))\n",
    "print(\"Average magnitude, target:\", get_average_magnitude(q_x[0].numpy()))\n",
    "print(\"Average power, target:\", get_average_power(q_x[0].numpy()))\n"
   ]
  },
  {
   "cell_type": "code",
   "execution_count": 12,
   "id": "bbdacba1",
   "metadata": {
    "execution": {
     "iopub.execute_input": "2022-03-25T22:28:27.198560Z",
     "iopub.status.busy": "2022-03-25T22:28:27.197997Z",
     "iopub.status.idle": "2022-03-25T22:28:27.355699Z",
     "shell.execute_reply": "2022-03-25T22:28:27.355304Z"
    },
    "papermill": {
     "duration": 0.181056,
     "end_time": "2022-03-25T22:28:27.355792",
     "exception": false,
     "start_time": "2022-03-25T22:28:27.174736",
     "status": "completed"
    },
    "tags": []
   },
   "outputs": [
    {
     "name": "stdout",
     "output_type": "stream",
     "text": [
      "(2, 256)\n"
     ]
    }
   ],
   "source": [
    "###################################\n",
    "# Build the model\n",
    "###################################\n",
    "model = Steves_Prototypical_Network(x_net, device=p.device, x_shape=(2,256))\n",
    "optimizer = Adam(params=model.parameters(), lr=p.lr)"
   ]
  },
  {
   "cell_type": "code",
   "execution_count": 13,
   "id": "22b39ac5",
   "metadata": {
    "execution": {
     "iopub.execute_input": "2022-03-25T22:28:27.392671Z",
     "iopub.status.busy": "2022-03-25T22:28:27.392305Z",
     "iopub.status.idle": "2022-03-25T22:46:46.578741Z",
     "shell.execute_reply": "2022-03-25T22:46:46.578404Z"
    },
    "papermill": {
     "duration": 1099.206792,
     "end_time": "2022-03-25T22:46:46.578824",
     "exception": false,
     "start_time": "2022-03-25T22:28:27.372032",
     "status": "completed"
    },
    "tags": []
   },
   "outputs": [
    {
     "name": "stdout",
     "output_type": "stream",
     "text": [
      "epoch: 1, [batch: 1 / 2520], examples_per_second: 81.4268, train_label_loss: 2.8071, \n"
     ]
    },
    {
     "name": "stdout",
     "output_type": "stream",
     "text": [
      "epoch: 1, [batch: 252 / 2520], examples_per_second: 2525.4169, train_label_loss: 2.3779, \n"
     ]
    },
    {
     "name": "stdout",
     "output_type": "stream",
     "text": [
      "epoch: 1, [batch: 504 / 2520], examples_per_second: 2028.3263, train_label_loss: 2.5677, \n"
     ]
    },
    {
     "name": "stdout",
     "output_type": "stream",
     "text": [
      "epoch: 1, [batch: 756 / 2520], examples_per_second: 1870.7035, train_label_loss: 1.0800, \n"
     ]
    },
    {
     "name": "stdout",
     "output_type": "stream",
     "text": [
      "epoch: 1, [batch: 1008 / 2520], examples_per_second: 1945.4014, train_label_loss: 0.7620, \n"
     ]
    },
    {
     "name": "stdout",
     "output_type": "stream",
     "text": [
      "epoch: 1, [batch: 1260 / 2520], examples_per_second: 2271.8192, train_label_loss: 0.6924, \n"
     ]
    },
    {
     "name": "stdout",
     "output_type": "stream",
     "text": [
      "epoch: 1, [batch: 1512 / 2520], examples_per_second: 1860.4377, train_label_loss: 0.6876, \n"
     ]
    },
    {
     "name": "stdout",
     "output_type": "stream",
     "text": [
      "epoch: 1, [batch: 1764 / 2520], examples_per_second: 1867.2482, train_label_loss: 0.6728, \n"
     ]
    },
    {
     "name": "stdout",
     "output_type": "stream",
     "text": [
      "epoch: 1, [batch: 2016 / 2520], examples_per_second: 2336.0135, train_label_loss: 0.5512, \n"
     ]
    },
    {
     "name": "stdout",
     "output_type": "stream",
     "text": [
      "epoch: 1, [batch: 2268 / 2520], examples_per_second: 1927.1016, train_label_loss: 0.7950, \n"
     ]
    },
    {
     "name": "stdout",
     "output_type": "stream",
     "text": [
      "=============================================================\n",
      "epoch: 1, source_val_acc_label: 0.6165, target_val_acc_label: 0.4891, source_val_label_loss: 29.8996, target_val_label_loss: 24.7649, \n",
      "=============================================================\n"
     ]
    },
    {
     "name": "stdout",
     "output_type": "stream",
     "text": [
      "New best\n"
     ]
    },
    {
     "name": "stdout",
     "output_type": "stream",
     "text": [
      "epoch: 2, [batch: 1 / 2520], examples_per_second: 3.5539, train_label_loss: 6.4453, \n"
     ]
    },
    {
     "name": "stdout",
     "output_type": "stream",
     "text": [
      "epoch: 2, [batch: 252 / 2520], examples_per_second: 2221.9008, train_label_loss: 0.8882, \n"
     ]
    },
    {
     "name": "stdout",
     "output_type": "stream",
     "text": [
      "epoch: 2, [batch: 504 / 2520], examples_per_second: 3307.4931, train_label_loss: 0.5493, \n"
     ]
    },
    {
     "name": "stdout",
     "output_type": "stream",
     "text": [
      "epoch: 2, [batch: 756 / 2520], examples_per_second: 3193.2058, train_label_loss: 0.4912, \n"
     ]
    },
    {
     "name": "stdout",
     "output_type": "stream",
     "text": [
      "epoch: 2, [batch: 1008 / 2520], examples_per_second: 4434.1844, train_label_loss: 1.0683, \n"
     ]
    },
    {
     "name": "stdout",
     "output_type": "stream",
     "text": [
      "epoch: 2, [batch: 1260 / 2520], examples_per_second: 4444.3564, train_label_loss: 0.6387, \n"
     ]
    },
    {
     "name": "stdout",
     "output_type": "stream",
     "text": [
      "epoch: 2, [batch: 1512 / 2520], examples_per_second: 5180.2008, train_label_loss: 0.5052, \n"
     ]
    },
    {
     "name": "stdout",
     "output_type": "stream",
     "text": [
      "epoch: 2, [batch: 1764 / 2520], examples_per_second: 4967.1870, train_label_loss: 0.7141, \n"
     ]
    },
    {
     "name": "stdout",
     "output_type": "stream",
     "text": [
      "epoch: 2, [batch: 2016 / 2520], examples_per_second: 5385.6255, train_label_loss: 0.5643, \n"
     ]
    },
    {
     "name": "stdout",
     "output_type": "stream",
     "text": [
      "epoch: 2, [batch: 2268 / 2520], examples_per_second: 5355.6933, train_label_loss: 0.4282, \n"
     ]
    },
    {
     "name": "stdout",
     "output_type": "stream",
     "text": [
      "=============================================================\n",
      "epoch: 2, source_val_acc_label: 0.7925, target_val_acc_label: 0.7420, source_val_label_loss: 0.5654, target_val_label_loss: 1.8033, \n",
      "=============================================================\n"
     ]
    },
    {
     "name": "stdout",
     "output_type": "stream",
     "text": [
      "New best\n"
     ]
    },
    {
     "name": "stdout",
     "output_type": "stream",
     "text": [
      "epoch: 3, [batch: 1 / 2520], examples_per_second: 11.7751, train_label_loss: 0.6084, \n"
     ]
    },
    {
     "name": "stdout",
     "output_type": "stream",
     "text": [
      "epoch: 3, [batch: 252 / 2520], examples_per_second: 4890.6895, train_label_loss: 0.4889, \n"
     ]
    },
    {
     "name": "stdout",
     "output_type": "stream",
     "text": [
      "epoch: 3, [batch: 504 / 2520], examples_per_second: 4817.3767, train_label_loss: 0.3318, \n"
     ]
    },
    {
     "name": "stdout",
     "output_type": "stream",
     "text": [
      "epoch: 3, [batch: 756 / 2520], examples_per_second: 4984.1219, train_label_loss: 0.5244, \n"
     ]
    },
    {
     "name": "stdout",
     "output_type": "stream",
     "text": [
      "epoch: 3, [batch: 1008 / 2520], examples_per_second: 4940.2496, train_label_loss: 0.3850, \n"
     ]
    },
    {
     "name": "stdout",
     "output_type": "stream",
     "text": [
      "epoch: 3, [batch: 1260 / 2520], examples_per_second: 4959.3194, train_label_loss: 0.4322, \n"
     ]
    },
    {
     "name": "stdout",
     "output_type": "stream",
     "text": [
      "epoch: 3, [batch: 1512 / 2520], examples_per_second: 4928.6300, train_label_loss: 0.9300, \n"
     ]
    },
    {
     "name": "stdout",
     "output_type": "stream",
     "text": [
      "epoch: 3, [batch: 1764 / 2520], examples_per_second: 4818.6503, train_label_loss: 0.5639, \n"
     ]
    },
    {
     "name": "stdout",
     "output_type": "stream",
     "text": [
      "epoch: 3, [batch: 2016 / 2520], examples_per_second: 4657.2160, train_label_loss: 0.4982, \n"
     ]
    },
    {
     "name": "stdout",
     "output_type": "stream",
     "text": [
      "epoch: 3, [batch: 2268 / 2520], examples_per_second: 3859.6066, train_label_loss: 0.3017, \n"
     ]
    },
    {
     "name": "stdout",
     "output_type": "stream",
     "text": [
      "=============================================================\n",
      "epoch: 3, source_val_acc_label: 0.7940, target_val_acc_label: 0.7174, source_val_label_loss: 0.5588, target_val_label_loss: 2.2582, \n",
      "=============================================================\n"
     ]
    },
    {
     "name": "stdout",
     "output_type": "stream",
     "text": [
      "epoch: 4, [batch: 1 / 2520], examples_per_second: 3.3202, train_label_loss: 0.4223, \n"
     ]
    },
    {
     "name": "stdout",
     "output_type": "stream",
     "text": [
      "epoch: 4, [batch: 252 / 2520], examples_per_second: 1698.7192, train_label_loss: 0.4244, \n"
     ]
    },
    {
     "name": "stdout",
     "output_type": "stream",
     "text": [
      "epoch: 4, [batch: 504 / 2520], examples_per_second: 1971.5754, train_label_loss: 0.4186, \n"
     ]
    },
    {
     "name": "stdout",
     "output_type": "stream",
     "text": [
      "epoch: 4, [batch: 756 / 2520], examples_per_second: 1918.8340, train_label_loss: 0.4260, \n"
     ]
    },
    {
     "name": "stdout",
     "output_type": "stream",
     "text": [
      "epoch: 4, [batch: 1008 / 2520], examples_per_second: 1676.0966, train_label_loss: 0.8488, \n"
     ]
    },
    {
     "name": "stdout",
     "output_type": "stream",
     "text": [
      "epoch: 4, [batch: 1260 / 2520], examples_per_second: 1817.0985, train_label_loss: 0.4981, \n"
     ]
    },
    {
     "name": "stdout",
     "output_type": "stream",
     "text": [
      "epoch: 4, [batch: 1512 / 2520], examples_per_second: 2384.1864, train_label_loss: 0.3676, \n"
     ]
    },
    {
     "name": "stdout",
     "output_type": "stream",
     "text": [
      "epoch: 4, [batch: 1764 / 2520], examples_per_second: 1852.3664, train_label_loss: 0.3914, \n"
     ]
    },
    {
     "name": "stdout",
     "output_type": "stream",
     "text": [
      "epoch: 4, [batch: 2016 / 2520], examples_per_second: 1907.5043, train_label_loss: 0.2955, \n"
     ]
    },
    {
     "name": "stdout",
     "output_type": "stream",
     "text": [
      "epoch: 4, [batch: 2268 / 2520], examples_per_second: 2092.5387, train_label_loss: 0.5006, \n"
     ]
    },
    {
     "name": "stdout",
     "output_type": "stream",
     "text": [
      "=============================================================\n",
      "epoch: 4, source_val_acc_label: 0.8382, target_val_acc_label: 0.7692, source_val_label_loss: 0.4679, target_val_label_loss: 2.4910, \n",
      "=============================================================\n"
     ]
    },
    {
     "name": "stdout",
     "output_type": "stream",
     "text": [
      "New best\n"
     ]
    },
    {
     "name": "stdout",
     "output_type": "stream",
     "text": [
      "epoch: 5, [batch: 1 / 2520], examples_per_second: 3.2000, train_label_loss: 0.7028, \n"
     ]
    },
    {
     "name": "stdout",
     "output_type": "stream",
     "text": [
      "epoch: 5, [batch: 252 / 2520], examples_per_second: 1657.4033, train_label_loss: 0.5867, \n"
     ]
    },
    {
     "name": "stdout",
     "output_type": "stream",
     "text": [
      "epoch: 5, [batch: 504 / 2520], examples_per_second: 1986.2357, train_label_loss: 0.1190, \n"
     ]
    },
    {
     "name": "stdout",
     "output_type": "stream",
     "text": [
      "epoch: 5, [batch: 756 / 2520], examples_per_second: 1846.0642, train_label_loss: 0.2373, \n"
     ]
    },
    {
     "name": "stdout",
     "output_type": "stream",
     "text": [
      "epoch: 5, [batch: 1008 / 2520], examples_per_second: 1670.8251, train_label_loss: 0.2886, \n"
     ]
    },
    {
     "name": "stdout",
     "output_type": "stream",
     "text": [
      "epoch: 5, [batch: 1260 / 2520], examples_per_second: 1829.8846, train_label_loss: 0.4521, \n"
     ]
    },
    {
     "name": "stdout",
     "output_type": "stream",
     "text": [
      "epoch: 5, [batch: 1512 / 2520], examples_per_second: 2743.8410, train_label_loss: 0.6443, \n"
     ]
    },
    {
     "name": "stdout",
     "output_type": "stream",
     "text": [
      "epoch: 5, [batch: 1764 / 2520], examples_per_second: 2539.7837, train_label_loss: 0.3320, \n"
     ]
    },
    {
     "name": "stdout",
     "output_type": "stream",
     "text": [
      "epoch: 5, [batch: 2016 / 2520], examples_per_second: 3460.4436, train_label_loss: 0.3910, \n"
     ]
    },
    {
     "name": "stdout",
     "output_type": "stream",
     "text": [
      "epoch: 5, [batch: 2268 / 2520], examples_per_second: 3265.9146, train_label_loss: 0.2468, \n"
     ]
    },
    {
     "name": "stdout",
     "output_type": "stream",
     "text": [
      "=============================================================\n",
      "epoch: 5, source_val_acc_label: 0.8707, target_val_acc_label: 0.8018, source_val_label_loss: 0.3634, target_val_label_loss: 3.0066, \n",
      "=============================================================\n"
     ]
    },
    {
     "name": "stdout",
     "output_type": "stream",
     "text": [
      "New best\n"
     ]
    },
    {
     "name": "stdout",
     "output_type": "stream",
     "text": [
      "epoch: 6, [batch: 1 / 2520], examples_per_second: 8.4288, train_label_loss: 0.4972, \n"
     ]
    },
    {
     "name": "stdout",
     "output_type": "stream",
     "text": [
      "epoch: 6, [batch: 252 / 2520], examples_per_second: 3758.4894, train_label_loss: 0.3434, \n"
     ]
    },
    {
     "name": "stdout",
     "output_type": "stream",
     "text": [
      "epoch: 6, [batch: 504 / 2520], examples_per_second: 3840.4496, train_label_loss: 0.2630, \n"
     ]
    },
    {
     "name": "stdout",
     "output_type": "stream",
     "text": [
      "epoch: 6, [batch: 756 / 2520], examples_per_second: 3793.8985, train_label_loss: 0.3622, \n"
     ]
    },
    {
     "name": "stdout",
     "output_type": "stream",
     "text": [
      "epoch: 6, [batch: 1008 / 2520], examples_per_second: 3891.1794, train_label_loss: 0.1837, \n"
     ]
    },
    {
     "name": "stdout",
     "output_type": "stream",
     "text": [
      "epoch: 6, [batch: 1260 / 2520], examples_per_second: 3915.7637, train_label_loss: 0.3118, \n"
     ]
    },
    {
     "name": "stdout",
     "output_type": "stream",
     "text": [
      "epoch: 6, [batch: 1512 / 2520], examples_per_second: 4341.3986, train_label_loss: 0.3441, \n"
     ]
    },
    {
     "name": "stdout",
     "output_type": "stream",
     "text": [
      "epoch: 6, [batch: 1764 / 2520], examples_per_second: 4252.2205, train_label_loss: 0.3118, \n"
     ]
    },
    {
     "name": "stdout",
     "output_type": "stream",
     "text": [
      "epoch: 6, [batch: 2016 / 2520], examples_per_second: 4748.1103, train_label_loss: 0.2428, \n"
     ]
    },
    {
     "name": "stdout",
     "output_type": "stream",
     "text": [
      "epoch: 6, [batch: 2268 / 2520], examples_per_second: 3799.1218, train_label_loss: 0.3472, \n"
     ]
    },
    {
     "name": "stdout",
     "output_type": "stream",
     "text": [
      "=============================================================\n",
      "epoch: 6, source_val_acc_label: 0.8949, target_val_acc_label: 0.8125, source_val_label_loss: 0.3031, target_val_label_loss: 3.0947, \n",
      "=============================================================\n"
     ]
    },
    {
     "name": "stdout",
     "output_type": "stream",
     "text": [
      "New best\n"
     ]
    },
    {
     "name": "stdout",
     "output_type": "stream",
     "text": [
      "epoch: 7, [batch: 1 / 2520], examples_per_second: 3.6492, train_label_loss: 0.3697, \n"
     ]
    },
    {
     "name": "stdout",
     "output_type": "stream",
     "text": [
      "epoch: 7, [batch: 252 / 2520], examples_per_second: 1716.4835, train_label_loss: 0.0804, \n"
     ]
    },
    {
     "name": "stdout",
     "output_type": "stream",
     "text": [
      "epoch: 7, [batch: 504 / 2520], examples_per_second: 1702.8299, train_label_loss: 0.3526, \n"
     ]
    },
    {
     "name": "stdout",
     "output_type": "stream",
     "text": [
      "epoch: 7, [batch: 756 / 2520], examples_per_second: 2185.2048, train_label_loss: 0.3149, \n"
     ]
    },
    {
     "name": "stdout",
     "output_type": "stream",
     "text": [
      "epoch: 7, [batch: 1008 / 2520], examples_per_second: 1691.3699, train_label_loss: 0.1668, \n"
     ]
    },
    {
     "name": "stdout",
     "output_type": "stream",
     "text": [
      "epoch: 7, [batch: 1260 / 2520], examples_per_second: 1788.5678, train_label_loss: 0.2276, \n"
     ]
    },
    {
     "name": "stdout",
     "output_type": "stream",
     "text": [
      "epoch: 7, [batch: 1512 / 2520], examples_per_second: 2106.1685, train_label_loss: 0.1231, \n"
     ]
    },
    {
     "name": "stdout",
     "output_type": "stream",
     "text": [
      "epoch: 7, [batch: 1764 / 2520], examples_per_second: 2056.2881, train_label_loss: 0.2427, \n"
     ]
    },
    {
     "name": "stdout",
     "output_type": "stream",
     "text": [
      "epoch: 7, [batch: 2016 / 2520], examples_per_second: 1889.0201, train_label_loss: 0.3760, \n"
     ]
    },
    {
     "name": "stdout",
     "output_type": "stream",
     "text": [
      "epoch: 7, [batch: 2268 / 2520], examples_per_second: 1750.1697, train_label_loss: 0.3380, \n"
     ]
    },
    {
     "name": "stdout",
     "output_type": "stream",
     "text": [
      "=============================================================\n",
      "epoch: 7, source_val_acc_label: 0.8865, target_val_acc_label: 0.7939, source_val_label_loss: 0.3327, target_val_label_loss: 3.6600, \n",
      "=============================================================\n"
     ]
    },
    {
     "name": "stdout",
     "output_type": "stream",
     "text": [
      "epoch: 8, [batch: 1 / 2520], examples_per_second: 3.3525, train_label_loss: 0.1735, \n"
     ]
    },
    {
     "name": "stdout",
     "output_type": "stream",
     "text": [
      "epoch: 8, [batch: 252 / 2520], examples_per_second: 1675.6711, train_label_loss: 0.1623, \n"
     ]
    },
    {
     "name": "stdout",
     "output_type": "stream",
     "text": [
      "epoch: 8, [batch: 504 / 2520], examples_per_second: 1687.5452, train_label_loss: 0.1564, \n"
     ]
    },
    {
     "name": "stdout",
     "output_type": "stream",
     "text": [
      "epoch: 8, [batch: 756 / 2520], examples_per_second: 2202.2252, train_label_loss: 0.2572, \n"
     ]
    },
    {
     "name": "stdout",
     "output_type": "stream",
     "text": [
      "epoch: 8, [batch: 1008 / 2520], examples_per_second: 1672.3557, train_label_loss: 0.1050, \n"
     ]
    },
    {
     "name": "stdout",
     "output_type": "stream",
     "text": [
      "epoch: 8, [batch: 1260 / 2520], examples_per_second: 1773.8818, train_label_loss: 0.3340, \n"
     ]
    },
    {
     "name": "stdout",
     "output_type": "stream",
     "text": [
      "epoch: 8, [batch: 1512 / 2520], examples_per_second: 2143.8865, train_label_loss: 0.2903, \n"
     ]
    },
    {
     "name": "stdout",
     "output_type": "stream",
     "text": [
      "epoch: 8, [batch: 1764 / 2520], examples_per_second: 1987.4976, train_label_loss: 0.3164, \n"
     ]
    },
    {
     "name": "stdout",
     "output_type": "stream",
     "text": [
      "epoch: 8, [batch: 2016 / 2520], examples_per_second: 1843.1466, train_label_loss: 0.2542, \n"
     ]
    },
    {
     "name": "stdout",
     "output_type": "stream",
     "text": [
      "epoch: 8, [batch: 2268 / 2520], examples_per_second: 1814.1888, train_label_loss: 0.1077, \n"
     ]
    },
    {
     "name": "stdout",
     "output_type": "stream",
     "text": [
      "=============================================================\n",
      "epoch: 8, source_val_acc_label: 0.8946, target_val_acc_label: 0.7964, source_val_label_loss: 0.3047, target_val_label_loss: 3.5724, \n",
      "=============================================================\n"
     ]
    },
    {
     "name": "stdout",
     "output_type": "stream",
     "text": [
      "epoch: 9, [batch: 1 / 2520], examples_per_second: 3.4569, train_label_loss: 0.2127, \n"
     ]
    },
    {
     "name": "stdout",
     "output_type": "stream",
     "text": [
      "epoch: 9, [batch: 252 / 2520], examples_per_second: 2400.3169, train_label_loss: 0.0884, \n"
     ]
    },
    {
     "name": "stdout",
     "output_type": "stream",
     "text": [
      "epoch: 9, [batch: 504 / 2520], examples_per_second: 3173.5855, train_label_loss: 0.3370, \n"
     ]
    },
    {
     "name": "stdout",
     "output_type": "stream",
     "text": [
      "epoch: 9, [batch: 756 / 2520], examples_per_second: 3280.3349, train_label_loss: 0.5523, \n"
     ]
    },
    {
     "name": "stdout",
     "output_type": "stream",
     "text": [
      "epoch: 9, [batch: 1008 / 2520], examples_per_second: 3826.4660, train_label_loss: 0.1828, \n"
     ]
    },
    {
     "name": "stdout",
     "output_type": "stream",
     "text": [
      "epoch: 9, [batch: 1260 / 2520], examples_per_second: 4355.1456, train_label_loss: 0.1151, \n"
     ]
    },
    {
     "name": "stdout",
     "output_type": "stream",
     "text": [
      "epoch: 9, [batch: 1512 / 2520], examples_per_second: 4578.8904, train_label_loss: 0.0315, \n"
     ]
    },
    {
     "name": "stdout",
     "output_type": "stream",
     "text": [
      "epoch: 9, [batch: 1764 / 2520], examples_per_second: 4613.7955, train_label_loss: 0.1151, \n"
     ]
    },
    {
     "name": "stdout",
     "output_type": "stream",
     "text": [
      "epoch: 9, [batch: 2016 / 2520], examples_per_second: 4249.2430, train_label_loss: 0.1943, \n"
     ]
    },
    {
     "name": "stdout",
     "output_type": "stream",
     "text": [
      "epoch: 9, [batch: 2268 / 2520], examples_per_second: 4069.3456, train_label_loss: 0.3459, \n"
     ]
    },
    {
     "name": "stdout",
     "output_type": "stream",
     "text": [
      "=============================================================\n",
      "epoch: 9, source_val_acc_label: 0.8929, target_val_acc_label: 0.7966, source_val_label_loss: 0.3069, target_val_label_loss: 3.7114, \n",
      "=============================================================\n"
     ]
    },
    {
     "name": "stdout",
     "output_type": "stream",
     "text": [
      "epoch: 10, [batch: 1 / 2520], examples_per_second: 8.6657, train_label_loss: 0.4208, \n"
     ]
    },
    {
     "name": "stdout",
     "output_type": "stream",
     "text": [
      "epoch: 10, [batch: 252 / 2520], examples_per_second: 3907.0506, train_label_loss: 0.2404, \n"
     ]
    },
    {
     "name": "stdout",
     "output_type": "stream",
     "text": [
      "epoch: 10, [batch: 504 / 2520], examples_per_second: 3911.9783, train_label_loss: 0.1285, \n"
     ]
    },
    {
     "name": "stdout",
     "output_type": "stream",
     "text": [
      "epoch: 10, [batch: 756 / 2520], examples_per_second: 3730.0030, train_label_loss: 0.1822, \n"
     ]
    },
    {
     "name": "stdout",
     "output_type": "stream",
     "text": [
      "epoch: 10, [batch: 1008 / 2520], examples_per_second: 2464.0281, train_label_loss: 0.3270, \n"
     ]
    },
    {
     "name": "stdout",
     "output_type": "stream",
     "text": [
      "epoch: 10, [batch: 1260 / 2520], examples_per_second: 1819.1763, train_label_loss: 0.3576, \n"
     ]
    },
    {
     "name": "stdout",
     "output_type": "stream",
     "text": [
      "epoch: 10, [batch: 1512 / 2520], examples_per_second: 1868.8173, train_label_loss: 0.2532, \n"
     ]
    },
    {
     "name": "stdout",
     "output_type": "stream",
     "text": [
      "epoch: 10, [batch: 1764 / 2520], examples_per_second: 2507.0789, train_label_loss: 0.1358, \n"
     ]
    },
    {
     "name": "stdout",
     "output_type": "stream",
     "text": [
      "epoch: 10, [batch: 2016 / 2520], examples_per_second: 1978.7032, train_label_loss: 0.3182, \n"
     ]
    },
    {
     "name": "stdout",
     "output_type": "stream",
     "text": [
      "epoch: 10, [batch: 2268 / 2520], examples_per_second: 1697.5710, train_label_loss: 0.1394, \n"
     ]
    },
    {
     "name": "stdout",
     "output_type": "stream",
     "text": [
      "=============================================================\n",
      "epoch: 10, source_val_acc_label: 0.8924, target_val_acc_label: 0.7994, source_val_label_loss: 0.3077, target_val_label_loss: 3.7354, \n",
      "=============================================================\n"
     ]
    },
    {
     "name": "stdout",
     "output_type": "stream",
     "text": [
      "Patience (3) exhausted\n"
     ]
    }
   ],
   "source": [
    "###################################\n",
    "# train\n",
    "###################################\n",
    "jig = PTN_Train_Eval_Test_Jig(model, p.BEST_MODEL_PATH, p.device)\n",
    "\n",
    "jig.train(\n",
    "    train_iterable=datasets.source.processed.train,\n",
    "    source_val_iterable=datasets.source.processed.val,\n",
    "    target_val_iterable=datasets.target.processed.val,\n",
    "    num_epochs=p.n_epoch,\n",
    "    num_logs_per_epoch=p.NUM_LOGS_PER_EPOCH,\n",
    "    patience=p.patience,\n",
    "    optimizer=optimizer,\n",
    "    criteria_for_best=p.criteria_for_best,\n",
    ")"
   ]
  },
  {
   "cell_type": "code",
   "execution_count": 14,
   "id": "31e8fabf",
   "metadata": {
    "execution": {
     "iopub.execute_input": "2022-03-25T22:46:46.678520Z",
     "iopub.status.busy": "2022-03-25T22:46:46.677974Z",
     "iopub.status.idle": "2022-03-25T22:46:46.708952Z",
     "shell.execute_reply": "2022-03-25T22:46:46.709615Z"
    },
    "papermill": {
     "duration": 0.084057,
     "end_time": "2022-03-25T22:46:46.709792",
     "exception": false,
     "start_time": "2022-03-25T22:46:46.625735",
     "status": "completed"
    },
    "tags": []
   },
   "outputs": [],
   "source": [
    "total_experiment_time_secs = time.time() - start_time_secs"
   ]
  },
  {
   "cell_type": "code",
   "execution_count": 15,
   "id": "87b9595b",
   "metadata": {
    "execution": {
     "iopub.execute_input": "2022-03-25T22:46:46.812811Z",
     "iopub.status.busy": "2022-03-25T22:46:46.812429Z",
     "iopub.status.idle": "2022-03-25T22:49:10.354022Z",
     "shell.execute_reply": "2022-03-25T22:49:10.353119Z"
    },
    "papermill": {
     "duration": 143.593032,
     "end_time": "2022-03-25T22:49:10.354213",
     "exception": false,
     "start_time": "2022-03-25T22:46:46.761181",
     "status": "completed"
    },
    "tags": []
   },
   "outputs": [],
   "source": [
    "###################################\n",
    "# Evaluate the model\n",
    "###################################\n",
    "source_test_label_accuracy, source_test_label_loss = jig.test(datasets.source.processed.test)\n",
    "target_test_label_accuracy, target_test_label_loss = jig.test(datasets.target.processed.test)\n",
    "\n",
    "source_val_label_accuracy, source_val_label_loss = jig.test(datasets.source.processed.val)\n",
    "target_val_label_accuracy, target_val_label_loss = jig.test(datasets.target.processed.val)\n",
    "\n",
    "history = jig.get_history()\n",
    "\n",
    "total_epochs_trained = len(history[\"epoch_indices\"])\n",
    "\n",
    "val_dl = Iterable_Aggregator((datasets.source.original.val,datasets.target.original.val))\n",
    "\n",
    "confusion = ptn_confusion_by_domain_over_dataloader(model, p.device, val_dl)\n",
    "per_domain_accuracy = per_domain_accuracy_from_confusion(confusion)\n",
    "\n",
    "# Add a key to per_domain_accuracy for if it was a source domain\n",
    "for domain, accuracy in per_domain_accuracy.items():\n",
    "    per_domain_accuracy[domain] = {\n",
    "        \"accuracy\": accuracy,\n",
    "        \"source?\": domain in p.domains_source\n",
    "    }\n",
    "\n",
    "# Do an independent accuracy assesment JUST TO BE SURE!\n",
    "# _source_test_label_accuracy = independent_accuracy_assesment(model, datasets.source.processed.test, p.device)\n",
    "# _target_test_label_accuracy = independent_accuracy_assesment(model, datasets.target.processed.test, p.device)\n",
    "# _source_val_label_accuracy = independent_accuracy_assesment(model, datasets.source.processed.val, p.device)\n",
    "# _target_val_label_accuracy = independent_accuracy_assesment(model, datasets.target.processed.val, p.device)\n",
    "\n",
    "# assert(_source_test_label_accuracy == source_test_label_accuracy)\n",
    "# assert(_target_test_label_accuracy == target_test_label_accuracy)\n",
    "# assert(_source_val_label_accuracy == source_val_label_accuracy)\n",
    "# assert(_target_val_label_accuracy == target_val_label_accuracy)\n",
    "\n",
    "experiment = {\n",
    "    \"experiment_name\": p.experiment_name,\n",
    "    \"parameters\": dict(p),\n",
    "    \"results\": {\n",
    "        \"source_test_label_accuracy\": source_test_label_accuracy,\n",
    "        \"source_test_label_loss\": source_test_label_loss,\n",
    "        \"target_test_label_accuracy\": target_test_label_accuracy,\n",
    "        \"target_test_label_loss\": target_test_label_loss,\n",
    "        \"source_val_label_accuracy\": source_val_label_accuracy,\n",
    "        \"source_val_label_loss\": source_val_label_loss,\n",
    "        \"target_val_label_accuracy\": target_val_label_accuracy,\n",
    "        \"target_val_label_loss\": target_val_label_loss,\n",
    "        \"total_epochs_trained\": total_epochs_trained,\n",
    "        \"total_experiment_time_secs\": total_experiment_time_secs,\n",
    "        \"confusion\": confusion,\n",
    "        \"per_domain_accuracy\": per_domain_accuracy,\n",
    "    },\n",
    "    \"history\": history,\n",
    "    \"dataset_metrics\": get_dataset_metrics(datasets, \"ptn\"),\n",
    "}"
   ]
  },
  {
   "cell_type": "code",
   "execution_count": 16,
   "id": "54a21829",
   "metadata": {
    "execution": {
     "iopub.execute_input": "2022-03-25T22:49:10.458882Z",
     "iopub.status.busy": "2022-03-25T22:49:10.458339Z",
     "iopub.status.idle": "2022-03-25T22:49:10.677934Z",
     "shell.execute_reply": "2022-03-25T22:49:10.678605Z"
    },
    "papermill": {
     "duration": 0.270013,
     "end_time": "2022-03-25T22:49:10.678788",
     "exception": false,
     "start_time": "2022-03-25T22:49:10.408775",
     "status": "completed"
    },
    "tags": []
   },
   "outputs": [
    {
     "data": {
      "image/png": "[encoded data removed]",
      "text/plain": [
       "<Figure size 1080x504 with 1 Axes>"
      ]
     },
     "metadata": {
      "needs_background": "light"
     },
     "output_type": "display_data"
    }
   ],
   "source": [
    "ax = get_loss_curve(experiment)\n",
    "plt.show()"
   ]
  },
  {
   "cell_type": "code",
   "execution_count": 17,
   "id": "fd8a0f60",
   "metadata": {
    "execution": {
     "iopub.execute_input": "2022-03-25T22:49:10.781368Z",
     "iopub.status.busy": "2022-03-25T22:49:10.781010Z",
     "iopub.status.idle": "2022-03-25T22:49:11.181774Z",
     "shell.execute_reply": "2022-03-25T22:49:11.182442Z"
    },
    "papermill": {
     "duration": 0.452234,
     "end_time": "2022-03-25T22:49:11.182623",
     "exception": false,
     "start_time": "2022-03-25T22:49:10.730389",
     "status": "completed"
    },
    "tags": []
   },
   "outputs": [
    {
     "data": {
      "text/plain": [
       "<AxesSubplot:title={'center':'Results'}>"
      ]
     },
     "execution_count": 17,
     "metadata": {},
     "output_type": "execute_result"
    },
    {
     "data": {
      "image/png": "[encoded data removed]",
      "text/plain": [
       "<Figure size 1080x504 with 1 Axes>"
      ]
     },
     "metadata": {
      "needs_background": "light"
     },
     "output_type": "display_data"
    }
   ],
   "source": [
    "get_results_table(experiment)"
   ]
  },
  {
   "cell_type": "code",
   "execution_count": 18,
   "id": "cf8dc689",
   "metadata": {
    "execution": {
     "iopub.execute_input": "2022-03-25T22:49:11.289107Z",
     "iopub.status.busy": "2022-03-25T22:49:11.288746Z",
     "iopub.status.idle": "2022-03-25T22:49:11.496487Z",
     "shell.execute_reply": "2022-03-25T22:49:11.497145Z"
    },
    "papermill": {
     "duration": 0.259763,
     "end_time": "2022-03-25T22:49:11.497328",
     "exception": false,
     "start_time": "2022-03-25T22:49:11.237565",
     "status": "completed"
    },
    "tags": []
   },
   "outputs": [
    {
     "data": {
      "text/plain": [
       "<AxesSubplot:title={'center':'Per Domain Validation Accuracy'}, xlabel='domain'>"
      ]
     },
     "execution_count": 18,
     "metadata": {},
     "output_type": "execute_result"
    },
    {
     "data": {
      "image/png": "[encoded data removed]",
      "text/plain": [
       "<Figure size 1080x504 with 1 Axes>"
      ]
     },
     "metadata": {
      "needs_background": "light"
     },
     "output_type": "display_data"
    }
   ],
   "source": [
    "get_domain_accuracies(experiment)"
   ]
  },
  {
   "cell_type": "code",
   "execution_count": 19,
   "id": "a74ae082",
   "metadata": {
    "execution": {
     "iopub.execute_input": "2022-03-25T22:49:11.605447Z",
     "iopub.status.busy": "2022-03-25T22:49:11.604897Z",
     "iopub.status.idle": "2022-03-25T22:49:11.629080Z",
     "shell.execute_reply": "2022-03-25T22:49:11.628392Z"
    },
    "papermill": {
     "duration": 0.076541,
     "end_time": "2022-03-25T22:49:11.629230",
     "exception": false,
     "start_time": "2022-03-25T22:49:11.552689",
     "status": "completed"
    },
    "tags": []
   },
   "outputs": [
    {
     "name": "stdout",
     "output_type": "stream",
     "text": [
      "Source Test Label Accuracy: 0.8954861111111111 Target Test Label Accuracy: 0.8088541666666667\n",
      "Source Val Label Accuracy: 0.8948784722222223 Target Val Label Accuracy: 0.8125\n"
     ]
    }
   ],
   "source": [
    "print(\"Source Test Label Accuracy:\", experiment[\"results\"][\"source_test_label_accuracy\"], \"Target Test Label Accuracy:\", experiment[\"results\"][\"target_test_label_accuracy\"])\n",
    "print(\"Source Val Label Accuracy:\", experiment[\"results\"][\"source_val_label_accuracy\"], \"Target Val Label Accuracy:\", experiment[\"results\"][\"target_val_label_accuracy\"])"
   ]
  },
  {
   "cell_type": "code",
   "execution_count": 20,
   "id": "dacca602",
   "metadata": {
    "execution": {
     "iopub.execute_input": "2022-03-25T22:49:11.737880Z",
     "iopub.status.busy": "2022-03-25T22:49:11.737524Z",
     "iopub.status.idle": "2022-03-25T22:49:11.756123Z",
     "shell.execute_reply": "2022-03-25T22:49:11.756785Z"
    },
    "papermill": {
     "duration": 0.072144,
     "end_time": "2022-03-25T22:49:11.756960",
     "exception": false,
     "start_time": "2022-03-25T22:49:11.684816",
     "status": "completed"
    },
    "tags": [
     "experiment_json"
    ]
   },
   "outputs": [
    {
     "data": {
      "text/plain": [
       "'{\"experiment_name\": \"tuned_1v2:oracle.run1.framed\", \"parameters\": {\"experiment_name\": \"tuned_1v2:oracle.run1.framed\", \"device\": \"cuda\", \"lr\": 0.0001, \"labels_source\": [\"3123D52\", \"3123D65\", \"3123D79\", \"3123D80\", \"3123D54\", \"3123D70\", \"3123D7B\", \"3123D89\", \"3123D58\", \"3123D76\", \"3123D7D\", \"3123EFE\", \"3123D64\", \"3123D78\", \"3123D7E\", \"3124E4A\"], \"labels_target\": [\"3123D52\", \"3123D65\", \"3123D79\", \"3123D80\", \"3123D54\", \"3123D70\", \"3123D7B\", \"3123D89\", \"3123D58\", \"3123D76\", \"3123D7D\", \"3123EFE\", \"3123D64\", \"3123D78\", \"3123D7E\", \"3124E4A\"], \"episode_transforms_source\": [], \"episode_transforms_target\": [], \"domains_source\": [8, 32, 50], \"domains_target\": [14, 20, 26, 38, 44], \"num_examples_per_domain_per_label_source\": -1, \"num_examples_per_domain_per_label_target\": -1, \"n_shot\": 3, \"n_way\": 16, \"n_query\": 2, \"train_k_factor\": 3, \"val_k_factor\": 2, \"test_k_factor\": 2, \"torch_default_dtype\": \"torch.float32\", \"n_epoch\": 50, \"patience\": 3, \"criteria_for_best\": \"target_accuracy\", \"x_net\": [{\"class\": \"nnReshape\", \"kargs\": {\"shape\": [-1, 1, 2, 256]}}, {\"class\": \"Conv2d\", \"kargs\": {\"in_channels\": 1, \"out_channels\": 256, \"kernel_size\": [1, 7], \"bias\": false, \"padding\": [0, 3]}}, {\"class\": \"ReLU\", \"kargs\": {\"inplace\": true}}, {\"class\": \"BatchNorm2d\", \"kargs\": {\"num_features\": 256}}, {\"class\": \"Conv2d\", \"kargs\": {\"in_channels\": 256, \"out_channels\": 80, \"kernel_size\": [2, 7], \"bias\": true, \"padding\": [0, 3]}}, {\"class\": \"ReLU\", \"kargs\": {\"inplace\": true}}, {\"class\": \"BatchNorm2d\", \"kargs\": {\"num_features\": 80}}, {\"class\": \"Flatten\", \"kargs\": {}}, {\"class\": \"Linear\", \"kargs\": {\"in_features\": 20480, \"out_features\": 256}}, {\"class\": \"ReLU\", \"kargs\": {\"inplace\": true}}, {\"class\": \"BatchNorm1d\", \"kargs\": {\"num_features\": 256}}, {\"class\": \"Linear\", \"kargs\": {\"in_features\": 256, \"out_features\": 256}}], \"NUM_LOGS_PER_EPOCH\": 10, \"BEST_MODEL_PATH\": \"./best_model.pth\", \"pickle_name\": \"oracle.Run1_framed_2000Examples_stratified_ds.2022A.pkl\", \"x_transforms_source\": [\"unit_power\"], \"x_transforms_target\": [\"unit_power\"], \"dataset_seed\": 1337, \"seed\": 1337}, \"results\": {\"source_test_label_accuracy\": 0.8954861111111111, \"source_test_label_loss\": 0.324256956577301, \"target_test_label_accuracy\": 0.8088541666666667, \"target_test_label_loss\": 2.75692081451416, \"source_val_label_accuracy\": 0.8948784722222223, \"source_val_label_loss\": 0.30310750007629395, \"target_val_label_accuracy\": 0.8125, \"target_val_label_loss\": 3.094651937484741, \"total_epochs_trained\": 10, \"total_experiment_time_secs\": 1128.5665998458862, \"confusion\": {\"8\": {\"15\": {\"15\": 214, \"12\": 24, \"8\": 2}, \"3\": {\"3\": 238, \"12\": 1, \"2\": 1}, \"6\": {\"13\": 6, \"6\": 203, \"7\": 18, \"4\": 10, \"0\": 3}, \"1\": {\"1\": 238, \"5\": 1, \"14\": 1}, \"8\": {\"8\": 239, \"15\": 1}, \"10\": {\"4\": 1, \"10\": 226, \"14\": 5, \"13\": 8}, \"9\": {\"9\": 240}, \"13\": {\"13\": 142, \"10\": 22, \"0\": 50, \"14\": 6, \"4\": 17, \"6\": 3}, \"12\": {\"12\": 171, \"15\": 61, \"8\": 2, \"3\": 6}, \"5\": {\"5\": 229, \"10\": 4, \"14\": 5, \"1\": 2}, \"0\": {\"0\": 199, \"10\": 1, \"7\": 13, \"13\": 25, \"6\": 1, \"4\": 1}, \"2\": {\"2\": 234, \"3\": 5, \"15\": 1}, \"11\": {\"11\": 232, \"1\": 8}, \"14\": {\"14\": 206, \"4\": 13, \"10\": 14, \"13\": 4, \"1\": 3}, \"7\": {\"7\": 213, \"6\": 25, \"3\": 1, \"0\": 1}, \"4\": {\"4\": 206, \"6\": 9, \"13\": 17, \"10\": 1, \"14\": 7}}, \"50\": {\"3\": {\"3\": 239, \"8\": 1}, \"15\": {\"4\": 7, \"15\": 212, \"1\": 20, \"11\": 1}, \"8\": {\"8\": 237, \"10\": 3}, \"4\": {\"4\": 164, \"15\": 19, \"5\": 37, \"1\": 12, \"7\": 4, \"6\": 3, \"13\": 1}, \"14\": {\"14\": 240}, \"0\": {\"0\": 223, \"2\": 10, \"1\": 2, \"10\": 3, \"13\": 2}, \"7\": {\"7\": 199, \"13\": 23, \"10\": 4, \"5\": 9, \"6\": 5}, \"6\": {\"6\": 230, \"15\": 2, \"13\": 5, \"7\": 2, \"1\": 1}, \"10\": {\"10\": 231, \"13\": 1, \"0\": 4, \"8\": 2, \"7\": 2}, \"5\": {\"5\": 143, \"1\": 9, \"7\": 11, \"13\": 35, \"4\": 40, \"6\": 2}, \"2\": {\"2\": 230, \"0\": 10}, \"12\": {\"12\": 229, \"9\": 7, \"11\": 3, \"14\": 1}, \"9\": {\"9\": 230, \"12\": 6, \"11\": 4}, \"1\": {\"1\": 212, \"4\": 6, \"15\": 16, \"6\": 4, \"5\": 2}, \"11\": {\"11\": 235, \"15\": 2, \"12\": 2, \"9\": 1}, \"13\": {\"7\": 8, \"13\": 203, \"5\": 15, \"6\": 10, \"10\": 4}}, \"32\": {\"5\": {\"8\": 5, \"13\": 28, \"5\": 136, \"7\": 50, \"3\": 7, \"14\": 6, \"4\": 6, \"11\": 2}, \"8\": {\"8\": 218, \"0\": 12, \"13\": 9, \"5\": 1}, \"11\": {\"11\": 223, \"13\": 3, \"14\": 13, \"7\": 1}, \"1\": {\"1\": 239, \"10\": 1}, \"10\": {\"10\": 240}, \"15\": {\"15\": 240}, \"3\": {\"3\": 236, \"13\": 2, \"11\": 2}, \"7\": {\"4\": 14, \"7\": 185, \"11\": 3, \"5\": 25, \"14\": 4, \"13\": 8, \"2\": 1}, \"4\": {\"4\": 196, \"2\": 22, \"7\": 11, \"13\": 6, \"5\": 5}, \"14\": {\"14\": 180, \"11\": 41, \"5\": 1, \"0\": 12, \"7\": 5, \"8\": 1}, \"9\": {\"9\": 240}, \"12\": {\"12\": 240}, \"6\": {\"6\": 240}, \"2\": {\"2\": 213, \"4\": 26, \"7\": 1}, \"0\": {\"0\": 207, \"8\": 19, \"14\": 13, \"7\": 1}, \"13\": {\"13\": 189, \"3\": 13, \"7\": 8, \"4\": 6, \"8\": 7, \"5\": 14, \"14\": 1, \"0\": 2}}, \"14\": {\"15\": {\"15\": 239, \"7\": 1}, \"3\": {\"3\": 238, \"14\": 2}, \"6\": {\"13\": 57, \"6\": 177, \"14\": 2, \"2\": 4}, \"1\": {\"1\": 211, \"5\": 29}, \"8\": {\"8\": 240}, \"10\": {\"10\": 240}, \"9\": {\"9\": 237, \"8\": 1, \"12\": 2}, \"13\": {\"2\": 26, \"13\": 83, \"6\": 76, \"14\": 45, \"5\": 8, \"4\": 2}, \"12\": {\"12\": 240}, \"5\": {\"1\": 25, \"5\": 170, \"4\": 34, \"2\": 11}, \"0\": {\"0\": 237, \"11\": 2, \"3\": 1}, \"2\": {\"5\": 22, \"2\": 106, \"14\": 57, \"6\": 14, \"13\": 21, \"4\": 8, \"3\": 9, \"15\": 3}, \"11\": {\"11\": 226, \"9\": 13, \"0\": 1}, \"14\": {\"2\": 13, \"14\": 202, \"13\": 21, \"6\": 1, \"3\": 3}, \"7\": {\"7\": 240}, \"4\": {\"4\": 219, \"5\": 14, \"3\": 1, \"2\": 3, \"1\": 3}}, \"20\": {\"3\": {\"3\": 183, \"9\": 18, \"4\": 6, \"12\": 23, \"2\": 8, \"7\": 2}, \"15\": {\"1\": 13, \"15\": 212, \"5\": 6, \"0\": 6, \"13\": 3}, \"8\": {\"8\": 230, \"4\": 8, \"3\": 1, \"7\": 1}, \"4\": {\"4\": 230, \"8\": 10}, \"14\": {\"14\": 225, \"6\": 12, \"8\": 1, \"10\": 2}, \"0\": {\"0\": 181, \"15\": 16, \"5\": 42, \"8\": 1}, \"7\": {\"7\": 230, \"8\": 1, \"2\": 7, \"3\": 1, \"9\": 1}, \"6\": {\"14\": 5, \"6\": 235}, \"10\": {\"10\": 240}, \"5\": {\"5\": 197, \"0\": 28, \"1\": 7, \"12\": 5, \"15\": 3}, \"2\": {\"2\": 168, \"9\": 35, \"3\": 11, \"13\": 4, \"12\": 14, \"5\": 1, \"7\": 7}, \"12\": {\"12\": 158, \"3\": 26, \"1\": 35, \"5\": 6, \"2\": 10, \"9\": 5}, \"9\": {\"9\": 160, \"2\": 47, \"3\": 23, \"12\": 9, \"13\": 1}, \"1\": {\"1\": 170, \"12\": 55, \"15\": 12, \"3\": 1, \"13\": 1, \"5\": 1}, \"11\": {\"11\": 240}, \"13\": {\"13\": 233, \"2\": 5, \"15\": 1, \"1\": 1}}, \"44\": {\"5\": {\"5\": 209, \"0\": 10, \"14\": 11, \"15\": 5, \"4\": 2, \"8\": 3}, \"8\": {\"8\": 152, \"15\": 8, \"0\": 77, \"5\": 3}, \"11\": {\"11\": 233, \"13\": 6, \"6\": 1}, \"1\": {\"12\": 35, \"1\": 161, \"3\": 17, \"10\": 16, \"2\": 10, \"7\": 1}, \"10\": {\"10\": 196, \"12\": 12, \"2\": 16, \"1\": 15, \"7\": 1}, \"15\": {\"15\": 208, \"0\": 16, \"14\": 7, \"5\": 4, \"4\": 2, \"8\": 3}, \"3\": {\"3\": 233, \"1\": 7}, \"7\": {\"2\": 30, \"7\": 165, \"9\": 31, \"3\": 1, \"6\": 11, \"13\": 2}, \"4\": {\"14\": 61, \"4\": 179}, \"14\": {\"14\": 174, \"4\": 60, \"15\": 5, \"5\": 1}, \"9\": {\"7\": 41, \"9\": 149, \"6\": 27, \"13\": 22, \"2\": 1}, \"12\": {\"12\": 209, \"3\": 6, \"10\": 11, \"1\": 14}, \"6\": {\"13\": 25, \"9\": 18, \"6\": 173, \"7\": 22, \"11\": 1, \"2\": 1}, \"2\": {\"2\": 196, \"10\": 11, \"1\": 12, \"7\": 20, \"12\": 1}, \"0\": {\"0\": 153, \"8\": 58, \"5\": 12, \"15\": 17}, \"13\": {\"13\": 165, \"9\": 41, \"6\": 26, \"7\": 2, \"11\": 5, \"4\": 1}}, \"38\": {\"14\": {\"14\": 237, \"10\": 1, \"2\": 2}, \"0\": {\"0\": 155, \"5\": 3, \"7\": 18, \"4\": 6, \"3\": 12, \"10\": 4, \"8\": 39, \"13\": 1, \"12\": 2}, \"13\": {\"13\": 188, \"14\": 3, \"15\": 19, \"10\": 22, \"2\": 3, \"8\": 4, \"1\": 1}, \"7\": {\"7\": 215, \"0\": 6, \"8\": 8, \"5\": 11}, \"9\": {\"9\": 212, \"6\": 24, \"5\": 3, \"7\": 1}, \"3\": {\"3\": 230, \"2\": 2, \"9\": 6, \"7\": 1, \"4\": 1}, \"11\": {\"11\": 165, \"4\": 4, \"14\": 39, \"2\": 11, \"10\": 18, \"3\": 2, \"13\": 1}, \"6\": {\"6\": 236, \"9\": 3, \"5\": 1}, \"8\": {\"8\": 192, \"5\": 23, \"0\": 13, \"10\": 8, \"15\": 3, \"13\": 1}, \"4\": {\"4\": 236, \"7\": 2, \"12\": 1, \"0\": 1}, \"5\": {\"5\": 116, \"7\": 36, \"8\": 60, \"15\": 7, \"6\": 11, \"0\": 2, \"10\": 6, \"1\": 1, \"9\": 1}, \"10\": {\"13\": 6, \"10\": 226, \"14\": 2, \"11\": 1, \"0\": 3, \"7\": 1, \"8\": 1}, \"1\": {\"1\": 232, \"15\": 8}, \"2\": {\"14\": 20, \"2\": 216, \"13\": 4}, \"15\": {\"15\": 203, \"1\": 13, \"5\": 2, \"8\": 13, \"13\": 8, \"14\": 1}, \"12\": {\"12\": 240}}, \"26\": {\"13\": {\"15\": 2, \"13\": 187, \"5\": 42, \"3\": 2, \"2\": 4, \"9\": 3}, \"2\": {\"2\": 124, \"7\": 11, \"3\": 73, \"9\": 2, \"8\": 5, \"5\": 17, \"15\": 8}, \"8\": {\"7\": 10, \"8\": 141, \"4\": 15, \"0\": 18, \"10\": 39, \"9\": 5, \"15\": 3, \"14\": 4, \"3\": 1, \"2\": 2, \"6\": 2}, \"9\": {\"15\": 55, \"6\": 22, \"9\": 156, \"10\": 4, \"8\": 2, \"0\": 1}, \"12\": {\"12\": 240}, \"4\": {\"4\": 151, \"0\": 22, \"14\": 42, \"7\": 6, \"8\": 11, \"1\": 5, \"10\": 3}, \"3\": {\"3\": 193, \"7\": 12, \"2\": 35}, \"15\": {\"15\": 155, \"9\": 56, \"5\": 9, \"6\": 5, \"2\": 3, \"8\": 5, \"7\": 2, \"10\": 1, \"13\": 4}, \"14\": {\"0\": 31, \"14\": 136, \"4\": 51, \"1\": 11, \"10\": 7, \"7\": 1, \"8\": 2, \"11\": 1}, \"10\": {\"10\": 125, \"14\": 15, \"0\": 59, \"8\": 31, \"9\": 1, \"4\": 3, \"6\": 3, \"15\": 2, \"1\": 1}, \"7\": {\"7\": 177, \"8\": 11, \"3\": 24, \"4\": 11, \"2\": 13, \"1\": 2, \"15\": 1, \"14\": 1}, \"11\": {\"11\": 240}, \"6\": {\"6\": 208, \"10\": 8, \"9\": 20, \"8\": 1, \"0\": 2, \"15\": 1}, \"1\": {\"1\": 211, \"14\": 18, \"4\": 9, \"7\": 1, \"10\": 1}, \"5\": {\"13\": 20, \"5\": 203, \"2\": 11, \"15\": 4, \"8\": 1, \"9\": 1}, \"0\": {\"0\": 102, \"14\": 30, \"8\": 22, \"10\": 47, \"4\": 34, \"7\": 3, \"6\": 2}}}, \"per_domain_accuracy\": {\"8\": {\"accuracy\": 0.8932291666666666, \"source?\": true}, \"50\": {\"accuracy\": 0.9002604166666667, \"source?\": true}, \"32\": {\"accuracy\": 0.8911458333333333, \"source?\": true}, \"14\": {\"accuracy\": 0.8606770833333334, \"source?\": false}, \"20\": {\"accuracy\": 0.8572916666666667, \"source?\": false}, \"44\": {\"accuracy\": 0.76953125, \"source?\": false}, \"38\": {\"accuracy\": 0.8591145833333333, \"source?\": false}, \"26\": {\"accuracy\": 0.7158854166666667, \"source?\": false}}}, \"history\": {\"epoch_indices\": [1, 2, 3, 4, 5, 6, 7, 8, 9, 10], \"train_label_loss\": [0.9940277312837896, 0.8770324473165804, 0.5080070172806108, 0.44051876179578286, 0.36691906946371233, 0.34661961562103694, 0.2747467259506858, 0.2611595445780069, 0.22933408884028533, 0.21384012357753124], \"source_val_label_loss\": [29.899564743041992, 0.5654357075691223, 0.5588303804397583, 0.4679194986820221, 0.3633732497692108, 0.30310750007629395, 0.3327023386955261, 0.3046901226043701, 0.3068789839744568, 0.3076930642127991], \"target_val_label_loss\": [24.76487922668457, 1.8032571077346802, 2.258192777633667, 2.4910149574279785, 3.006552219390869, 3.094651937484741, 3.6600167751312256, 3.5724260807037354, 3.711369752883911, 3.7353968620300293], \"source_val_acc_label\": [0.6164930555555556, 0.7925347222222222, 0.7940104166666667, 0.8381944444444445, 0.8707465277777777, 0.8948784722222223, 0.8865451388888889, 0.8946180555555555, 0.8928819444444445, 0.8923611111111112], \"target_val_acc_label\": [0.4890625, 0.7419791666666666, 0.7174479166666666, 0.76921875, 0.8018229166666667, 0.8125, 0.79390625, 0.79640625, 0.7966145833333333, 0.7994270833333333]}, \"dataset_metrics\": {\"source\": {\"train\": {\"n_unique_x\": 67200, \"n_unique_y\": 16, \"n_batch/episode\": 2520}, \"val\": {\"n_unique_x\": 14400, \"n_unique_y\": 16, \"n_batch/episode\": 360}, \"test\": {\"n_unique_x\": 14400, \"n_unique_y\": 16, \"n_batch/episode\": 360}}, \"target\": {\"train\": {\"n_unique_x\": 112000, \"n_unique_y\": 16, \"n_batch/episode\": 4200}, \"val\": {\"n_unique_x\": 24000, \"n_unique_y\": 16, \"n_batch/episode\": 600}, \"test\": {\"n_unique_x\": 24000, \"n_unique_y\": 16, \"n_batch/episode\": 600}}}}'"
      ]
     },
     "execution_count": 20,
     "metadata": {},
     "output_type": "execute_result"
    }
   ],
   "source": [
    "json.dumps(experiment)"
   ]
  }
 ],
 "metadata": {
  "celltoolbar": "Tags",
  "kernelspec": {
   "display_name": "Python 3 (ipykernel)",
   "language": "python",
   "name": "python3"
  },
  "language_info": {
   "codemirror_mode": {
    "name": "ipython",
    "version": 3
   },
   "file_extension": ".py",
   "mimetype": "text/x-python",
   "name": "python",
   "nbconvert_exporter": "python",
   "pygments_lexer": "ipython3",
   "version": "3.8.12"
  },
  "papermill": {
   "default_parameters": {},
   "duration": 1279.012516,
   "end_time": "2022-03-25T22:49:13.729798",
   "environment_variables": {},
   "exception": null,
   "input_path": "/root/csc500-main/csc500-notebooks/templates/ptn_template.ipynb",
   "output_path": "trial.ipynb",
   "parameters": {
    "parameters": {
     "BEST_MODEL_PATH": "./best_model.pth",
     "NUM_LOGS_PER_EPOCH": 10,
     "criteria_for_best": "target_accuracy",
     "dataset_seed": 1337,
     "device": "cuda",
     "domains_source": [
      8,
      32,
      50
     ],
     "domains_target": [
      14,
      20,
      26,
      38,
      44
     ],
     "episode_transforms_source": [],
     "episode_transforms_target": [],
     "experiment_name": "tuned_1v2:oracle.run1.framed",
     "labels_source": [
      "3123D52",
      "3123D65",
      "3123D79",
      "3123D80",
      "3123D54",
      "3123D70",
      "3123D7B",
      "3123D89",
      "3123D58",
      "3123D76",
      "3123D7D",
      "3123EFE",
      "3123D64",
      "3123D78",
      "3123D7E",
      "3124E4A"
     ],
     "labels_target": [
      "3123D52",
      "3123D65",
      "3123D79",
      "3123D80",
      "3123D54",
      "3123D70",
      "3123D7B",
      "3123D89",
      "3123D58",
      "3123D76",
      "3123D7D",
      "3123EFE",
      "3123D64",
      "3123D78",
      "3123D7E",
      "3124E4A"
     ],
     "lr": 0.0001,
     "n_epoch": 50,
     "n_query": 2,
     "n_shot": 3,
     "n_way": 16,
     "num_examples_per_domain_per_label_source": -1,
     "num_examples_per_domain_per_label_target": -1,
     "patience": 3,
     "pickle_name": "oracle.Run1_framed_2000Examples_stratified_ds.2022A.pkl",
     "seed": 1337,
     "test_k_factor": 2,
     "torch_default_dtype": "torch.float32",
     "train_k_factor": 3,
     "val_k_factor": 2,
     "x_net": [
      {
       "class": "nnReshape",
       "kargs": {
        "shape": [
         -1,
         1,
         2,
         256
        ]
       }
      },
      {
       "class": "Conv2d",
       "kargs": {
        "bias": false,
        "in_channels": 1,
        "kernel_size": [
         1,
         7
        ],
        "out_channels": 256,
        "padding": [
         0,
         3
        ]
       }
      },
      {
       "class": "ReLU",
       "kargs": {
        "inplace": true
       }
      },
      {
       "class": "BatchNorm2d",
       "kargs": {
        "num_features": 256
       }
      },
      {
       "class": "Conv2d",
       "kargs": {
        "bias": true,
        "in_channels": 256,
        "kernel_size": [
         2,
         7
        ],
        "out_channels": 80,
        "padding": [
         0,
         3
        ]
       }
      },
      {
       "class": "ReLU",
       "kargs": {
        "inplace": true
       }
      },
      {
       "class": "BatchNorm2d",
       "kargs": {
        "num_features": 80
       }
      },
      {
       "class": "Flatten",
       "kargs": {}
      },
      {
       "class": "Linear",
       "kargs": {
        "in_features": 20480,
        "out_features": 256
       }
      },
      {
       "class": "ReLU",
       "kargs": {
        "inplace": true
       }
      },
      {
       "class": "BatchNorm1d",
       "kargs": {
        "num_features": 256
       }
      },
      {
       "class": "Linear",
       "kargs": {
        "in_features": 256,
        "out_features": 256
       }
      }
     ],
     "x_transforms_source": [
      "unit_power"
     ],
     "x_transforms_target": [
      "unit_power"
     ]
    }
   },
   "start_time": "2022-03-25T22:27:54.717282",
   "version": "2.3.4"
  }
 },
 "nbformat": 4,
 "nbformat_minor": 5
}