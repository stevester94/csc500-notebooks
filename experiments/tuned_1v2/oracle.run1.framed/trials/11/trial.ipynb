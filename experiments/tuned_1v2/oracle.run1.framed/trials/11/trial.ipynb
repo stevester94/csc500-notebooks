{
 "cells": [
  {
   "cell_type": "markdown",
   "id": "9fea5f46",
   "metadata": {
    "papermill": {
     "duration": 0.027462,
     "end_time": "2022-03-25T22:53:35.840004",
     "exception": false,
     "start_time": "2022-03-25T22:53:35.812542",
     "status": "completed"
    },
    "tags": []
   },
   "source": [
    "# PTN Template\n",
    "This notebook serves as a template for single dataset PTN experiments  \n",
    "It can be run on its own by setting STANDALONE to True (do a find for \"STANDALONE\" to see where)  \n",
    "But it is intended to be executed as part of a *papermill.py script. See any of the   \n",
    "experimentes with a papermill script to get started with that workflow.  "
   ]
  },
  {
   "cell_type": "code",
   "execution_count": 1,
   "id": "0902182a",
   "metadata": {
    "execution": {
     "iopub.execute_input": "2022-03-25T22:53:35.897121Z",
     "iopub.status.busy": "2022-03-25T22:53:35.890688Z",
     "iopub.status.idle": "2022-03-25T22:53:37.723397Z",
     "shell.execute_reply": "2022-03-25T22:53:37.723748Z"
    },
    "papermill": {
     "duration": 1.860417,
     "end_time": "2022-03-25T22:53:37.723952",
     "exception": false,
     "start_time": "2022-03-25T22:53:35.863535",
     "status": "completed"
    },
    "tags": []
   },
   "outputs": [],
   "source": [
    "%load_ext autoreload\n",
    "%autoreload 2\n",
    "%matplotlib inline\n",
    "\n",
    "    \n",
    "import os, json, sys, time, random\n",
    "import numpy as np\n",
    "import torch\n",
    "from torch.optim import Adam\n",
    "from  easydict import EasyDict\n",
    "import matplotlib.pyplot as plt\n",
    "\n",
    "from steves_models.steves_ptn import Steves_Prototypical_Network\n",
    "\n",
    "from steves_utils.lazy_iterable_wrapper import Lazy_Iterable_Wrapper\n",
    "from steves_utils.iterable_aggregator import Iterable_Aggregator\n",
    "from steves_utils.ptn_train_eval_test_jig import  PTN_Train_Eval_Test_Jig\n",
    "from steves_utils.torch_sequential_builder import build_sequential\n",
    "from steves_utils.torch_utils import get_dataset_metrics, ptn_confusion_by_domain_over_dataloader\n",
    "from steves_utils.utils_v2 import (per_domain_accuracy_from_confusion, get_datasets_base_path)\n",
    "from steves_utils.PTN.utils import independent_accuracy_assesment\n",
    "\n",
    "from steves_utils.stratified_dataset.episodic_accessor import Episodic_Accessor_Factory\n",
    "\n",
    "from steves_utils.ptn_do_report import (\n",
    "    get_loss_curve,\n",
    "    get_results_table,\n",
    "    get_parameters_table,\n",
    "    get_domain_accuracies,\n",
    ")\n",
    "\n",
    "from steves_utils.transforms import get_chained_transform"
   ]
  },
  {
   "cell_type": "markdown",
   "id": "41c840b4",
   "metadata": {
    "papermill": {
     "duration": 0.014243,
     "end_time": "2022-03-25T22:53:37.753101",
     "exception": false,
     "start_time": "2022-03-25T22:53:37.738858",
     "status": "completed"
    },
    "tags": []
   },
   "source": [
    "# Required Parameters\n",
    "These are allowed parameters, not defaults\n",
    "Each of these values need to be present in the injected parameters (the notebook will raise an exception if they are not present)\n",
    "\n",
    "Papermill uses the cell tag \"parameters\" to inject the real parameters below this cell.\n",
    "Enable tags to see what I mean"
   ]
  },
  {
   "cell_type": "code",
   "execution_count": 2,
   "id": "fd44eb83",
   "metadata": {
    "execution": {
     "iopub.execute_input": "2022-03-25T22:53:37.785324Z",
     "iopub.status.busy": "2022-03-25T22:53:37.784732Z",
     "iopub.status.idle": "2022-03-25T22:53:37.805760Z",
     "shell.execute_reply": "2022-03-25T22:53:37.806061Z"
    },
    "papermill": {
     "duration": 0.039052,
     "end_time": "2022-03-25T22:53:37.806173",
     "exception": false,
     "start_time": "2022-03-25T22:53:37.767121",
     "status": "completed"
    },
    "tags": []
   },
   "outputs": [],
   "source": [
    "required_parameters = {\n",
    "    \"experiment_name\",\n",
    "    \"lr\",\n",
    "    \"device\",\n",
    "    \"seed\",\n",
    "    \"dataset_seed\",\n",
    "    \"labels_source\",\n",
    "    \"labels_target\",\n",
    "    \"domains_source\",\n",
    "    \"domains_target\",\n",
    "    \"num_examples_per_domain_per_label_source\",\n",
    "    \"num_examples_per_domain_per_label_target\",\n",
    "    \"n_shot\",\n",
    "    \"n_way\",\n",
    "    \"n_query\",\n",
    "    \"train_k_factor\",\n",
    "    \"val_k_factor\",\n",
    "    \"test_k_factor\",\n",
    "    \"n_epoch\",\n",
    "    \"patience\",\n",
    "    \"criteria_for_best\",\n",
    "    \"x_transforms_source\",\n",
    "    \"x_transforms_target\",\n",
    "    \"episode_transforms_source\",\n",
    "    \"episode_transforms_target\",\n",
    "    \"pickle_name\",\n",
    "    \"x_net\",\n",
    "    \"NUM_LOGS_PER_EPOCH\",\n",
    "    \"BEST_MODEL_PATH\",\n",
    "    \"torch_default_dtype\"\n",
    "}"
   ]
  },
  {
   "cell_type": "code",
   "execution_count": 3,
   "id": "fa3f0049",
   "metadata": {
    "execution": {
     "iopub.execute_input": "2022-03-25T22:53:37.844243Z",
     "iopub.status.busy": "2022-03-25T22:53:37.843592Z",
     "iopub.status.idle": "2022-03-25T22:53:37.865715Z",
     "shell.execute_reply": "2022-03-25T22:53:37.865362Z"
    },
    "papermill": {
     "duration": 0.04532,
     "end_time": "2022-03-25T22:53:37.865811",
     "exception": false,
     "start_time": "2022-03-25T22:53:37.820491",
     "status": "completed"
    },
    "tags": [
     "parameters"
    ]
   },
   "outputs": [],
   "source": [
    "\n",
    "\n",
    "standalone_parameters = {}\n",
    "standalone_parameters[\"experiment_name\"] = \"STANDALONE PTN\"\n",
    "standalone_parameters[\"lr\"] = 0.0001\n",
    "standalone_parameters[\"device\"] = \"cuda\"\n",
    "\n",
    "standalone_parameters[\"seed\"] = 1337\n",
    "standalone_parameters[\"dataset_seed\"] = 1337\n",
    "\n",
    "\n",
    "standalone_parameters[\"num_examples_per_domain_per_label_source\"]=100\n",
    "standalone_parameters[\"num_examples_per_domain_per_label_target\"]=100\n",
    "\n",
    "standalone_parameters[\"n_shot\"] = 3\n",
    "standalone_parameters[\"n_query\"]  = 2\n",
    "standalone_parameters[\"train_k_factor\"] = 1\n",
    "standalone_parameters[\"val_k_factor\"] = 2\n",
    "standalone_parameters[\"test_k_factor\"] = 2\n",
    "\n",
    "\n",
    "standalone_parameters[\"n_epoch\"] = 100\n",
    "\n",
    "standalone_parameters[\"patience\"] = 10\n",
    "standalone_parameters[\"criteria_for_best\"] = \"target_accuracy\"\n",
    "\n",
    "standalone_parameters[\"x_transforms_source\"] = [\"unit_power\"]\n",
    "standalone_parameters[\"x_transforms_target\"] = [\"unit_power\"]\n",
    "standalone_parameters[\"episode_transforms_source\"] = []\n",
    "standalone_parameters[\"episode_transforms_target\"] = []\n",
    "\n",
    "standalone_parameters[\"torch_default_dtype\"] = \"torch.float32\" \n",
    "\n",
    "\n",
    "\n",
    "standalone_parameters[\"x_net\"] =     [\n",
    "    {\"class\": \"nnReshape\", \"kargs\": {\"shape\":[-1, 1, 2, 256]}},\n",
    "    {\"class\": \"Conv2d\", \"kargs\": { \"in_channels\":1, \"out_channels\":256, \"kernel_size\":(1,7), \"bias\":False, \"padding\":(0,3), },},\n",
    "    {\"class\": \"ReLU\", \"kargs\": {\"inplace\": True}},\n",
    "    {\"class\": \"BatchNorm2d\", \"kargs\": {\"num_features\":256}},\n",
    "\n",
    "    {\"class\": \"Conv2d\", \"kargs\": { \"in_channels\":256, \"out_channels\":80, \"kernel_size\":(2,7), \"bias\":True, \"padding\":(0,3), },},\n",
    "    {\"class\": \"ReLU\", \"kargs\": {\"inplace\": True}},\n",
    "    {\"class\": \"BatchNorm2d\", \"kargs\": {\"num_features\":80}},\n",
    "    {\"class\": \"Flatten\", \"kargs\": {}},\n",
    "\n",
    "    {\"class\": \"Linear\", \"kargs\": {\"in_features\": 80*256, \"out_features\": 256}}, # 80 units per IQ pair\n",
    "    {\"class\": \"ReLU\", \"kargs\": {\"inplace\": True}},\n",
    "    {\"class\": \"BatchNorm1d\", \"kargs\": {\"num_features\":256}},\n",
    "\n",
    "    {\"class\": \"Linear\", \"kargs\": {\"in_features\": 256, \"out_features\": 256}},\n",
    "]\n",
    "\n",
    "# Parameters relevant to results\n",
    "# These parameters will basically never need to change\n",
    "standalone_parameters[\"NUM_LOGS_PER_EPOCH\"] = 10\n",
    "standalone_parameters[\"BEST_MODEL_PATH\"] = \"./best_model.pth\"\n",
    "\n",
    "# uncomment for CORES dataset\n",
    "from steves_utils.CORES.utils import (\n",
    "    ALL_NODES,\n",
    "    ALL_NODES_MINIMUM_1000_EXAMPLES,\n",
    "    ALL_DAYS\n",
    ")\n",
    "\n",
    "\n",
    "standalone_parameters[\"labels_source\"] = ALL_NODES\n",
    "standalone_parameters[\"labels_target\"] = ALL_NODES\n",
    "\n",
    "standalone_parameters[\"domains_source\"] = [1]\n",
    "standalone_parameters[\"domains_target\"] = [2,3,4,5]\n",
    "\n",
    "standalone_parameters[\"pickle_name\"] = \"cores.stratified_ds.2022A.pkl\"\n",
    "\n",
    "\n",
    "# Uncomment these for ORACLE dataset\n",
    "# from steves_utils.ORACLE.utils_v2 import (\n",
    "#     ALL_DISTANCES_FEET,\n",
    "#     ALL_RUNS,\n",
    "#     ALL_SERIAL_NUMBERS,\n",
    "# )\n",
    "# standalone_parameters[\"labels_source\"] = ALL_SERIAL_NUMBERS\n",
    "# standalone_parameters[\"labels_target\"] = ALL_SERIAL_NUMBERS\n",
    "# standalone_parameters[\"domains_source\"] = [8,20, 38,50]\n",
    "# standalone_parameters[\"domains_target\"] = [14, 26, 32, 44, 56]\n",
    "# standalone_parameters[\"pickle_name\"] = \"oracle.frame_indexed.stratified_ds.2022A.pkl\"\n",
    "# standalone_parameters[\"num_examples_per_domain_per_label_source\"]=1000\n",
    "# standalone_parameters[\"num_examples_per_domain_per_label_target\"]=1000\n",
    "\n",
    "# Uncomment these for Metahan dataset\n",
    "# standalone_parameters[\"labels_source\"] = list(range(19))\n",
    "# standalone_parameters[\"labels_target\"] = list(range(19))\n",
    "# standalone_parameters[\"domains_source\"] = [0]\n",
    "# standalone_parameters[\"domains_target\"] = [1]\n",
    "# standalone_parameters[\"pickle_name\"] = \"metehan.stratified_ds.2022A.pkl\"\n",
    "# standalone_parameters[\"n_way\"]  = len(standalone_parameters[\"labels_source\"])\n",
    "# standalone_parameters[\"num_examples_per_domain_per_label_source\"]=200\n",
    "# standalone_parameters[\"num_examples_per_domain_per_label_target\"]=100\n",
    "\n",
    "\n",
    "standalone_parameters[\"n_way\"]  = len(standalone_parameters[\"labels_source\"])"
   ]
  },
  {
   "cell_type": "code",
   "execution_count": 4,
   "id": "40ecfd5e",
   "metadata": {
    "execution": {
     "iopub.execute_input": "2022-03-25T22:53:37.905286Z",
     "iopub.status.busy": "2022-03-25T22:53:37.904656Z",
     "iopub.status.idle": "2022-03-25T22:53:37.925825Z",
     "shell.execute_reply": "2022-03-25T22:53:37.925457Z"
    },
    "papermill": {
     "duration": 0.042991,
     "end_time": "2022-03-25T22:53:37.925915",
     "exception": false,
     "start_time": "2022-03-25T22:53:37.882924",
     "status": "completed"
    },
    "tags": [
     "injected-parameters"
    ]
   },
   "outputs": [],
   "source": [
    "# Parameters\n",
    "parameters = {\n",
    "    \"experiment_name\": \"tuned_1v2:oracle.run1.framed\",\n",
    "    \"device\": \"cuda\",\n",
    "    \"lr\": 0.0001,\n",
    "    \"labels_source\": [\n",
    "        \"3123D52\",\n",
    "        \"3123D65\",\n",
    "        \"3123D79\",\n",
    "        \"3123D80\",\n",
    "        \"3123D54\",\n",
    "        \"3123D70\",\n",
    "        \"3123D7B\",\n",
    "        \"3123D89\",\n",
    "        \"3123D58\",\n",
    "        \"3123D76\",\n",
    "        \"3123D7D\",\n",
    "        \"3123EFE\",\n",
    "        \"3123D64\",\n",
    "        \"3123D78\",\n",
    "        \"3123D7E\",\n",
    "        \"3124E4A\",\n",
    "    ],\n",
    "    \"labels_target\": [\n",
    "        \"3123D52\",\n",
    "        \"3123D65\",\n",
    "        \"3123D79\",\n",
    "        \"3123D80\",\n",
    "        \"3123D54\",\n",
    "        \"3123D70\",\n",
    "        \"3123D7B\",\n",
    "        \"3123D89\",\n",
    "        \"3123D58\",\n",
    "        \"3123D76\",\n",
    "        \"3123D7D\",\n",
    "        \"3123EFE\",\n",
    "        \"3123D64\",\n",
    "        \"3123D78\",\n",
    "        \"3123D7E\",\n",
    "        \"3124E4A\",\n",
    "    ],\n",
    "    \"episode_transforms_source\": [],\n",
    "    \"episode_transforms_target\": [],\n",
    "    \"domains_source\": [8, 32, 50],\n",
    "    \"domains_target\": [14, 20, 26, 38, 44],\n",
    "    \"num_examples_per_domain_per_label_source\": -1,\n",
    "    \"num_examples_per_domain_per_label_target\": -1,\n",
    "    \"n_shot\": 3,\n",
    "    \"n_way\": 16,\n",
    "    \"n_query\": 2,\n",
    "    \"train_k_factor\": 3,\n",
    "    \"val_k_factor\": 2,\n",
    "    \"test_k_factor\": 2,\n",
    "    \"torch_default_dtype\": \"torch.float32\",\n",
    "    \"n_epoch\": 50,\n",
    "    \"patience\": 3,\n",
    "    \"criteria_for_best\": \"target_accuracy\",\n",
    "    \"x_net\": [\n",
    "        {\"class\": \"nnReshape\", \"kargs\": {\"shape\": [-1, 1, 2, 256]}},\n",
    "        {\n",
    "            \"class\": \"Conv2d\",\n",
    "            \"kargs\": {\n",
    "                \"in_channels\": 1,\n",
    "                \"out_channels\": 256,\n",
    "                \"kernel_size\": [1, 7],\n",
    "                \"bias\": False,\n",
    "                \"padding\": [0, 3],\n",
    "            },\n",
    "        },\n",
    "        {\"class\": \"ReLU\", \"kargs\": {\"inplace\": True}},\n",
    "        {\"class\": \"BatchNorm2d\", \"kargs\": {\"num_features\": 256}},\n",
    "        {\n",
    "            \"class\": \"Conv2d\",\n",
    "            \"kargs\": {\n",
    "                \"in_channels\": 256,\n",
    "                \"out_channels\": 80,\n",
    "                \"kernel_size\": [2, 7],\n",
    "                \"bias\": True,\n",
    "                \"padding\": [0, 3],\n",
    "            },\n",
    "        },\n",
    "        {\"class\": \"ReLU\", \"kargs\": {\"inplace\": True}},\n",
    "        {\"class\": \"BatchNorm2d\", \"kargs\": {\"num_features\": 80}},\n",
    "        {\"class\": \"Flatten\", \"kargs\": {}},\n",
    "        {\"class\": \"Linear\", \"kargs\": {\"in_features\": 20480, \"out_features\": 256}},\n",
    "        {\"class\": \"ReLU\", \"kargs\": {\"inplace\": True}},\n",
    "        {\"class\": \"BatchNorm1d\", \"kargs\": {\"num_features\": 256}},\n",
    "        {\"class\": \"Linear\", \"kargs\": {\"in_features\": 256, \"out_features\": 256}},\n",
    "    ],\n",
    "    \"NUM_LOGS_PER_EPOCH\": 10,\n",
    "    \"BEST_MODEL_PATH\": \"./best_model.pth\",\n",
    "    \"pickle_name\": \"oracle.Run1_framed_2000Examples_stratified_ds.2022A.pkl\",\n",
    "    \"x_transforms_source\": [\"unit_power\"],\n",
    "    \"x_transforms_target\": [\"unit_power\"],\n",
    "    \"dataset_seed\": 420,\n",
    "    \"seed\": 420,\n",
    "}\n"
   ]
  },
  {
   "cell_type": "code",
   "execution_count": 5,
   "id": "8fa1cc33",
   "metadata": {
    "execution": {
     "iopub.execute_input": "2022-03-25T22:53:37.963643Z",
     "iopub.status.busy": "2022-03-25T22:53:37.963060Z",
     "iopub.status.idle": "2022-03-25T22:53:37.982750Z",
     "shell.execute_reply": "2022-03-25T22:53:37.983059Z"
    },
    "papermill": {
     "duration": 0.038141,
     "end_time": "2022-03-25T22:53:37.983174",
     "exception": false,
     "start_time": "2022-03-25T22:53:37.945033",
     "status": "completed"
    },
    "tags": []
   },
   "outputs": [],
   "source": [
    "# Set this to True if you want to run this template directly\n",
    "STANDALONE = False\n",
    "if STANDALONE:\n",
    "    print(\"parameters not injected, running with standalone_parameters\")\n",
    "    parameters = standalone_parameters\n",
    "\n",
    "if not 'parameters' in locals() and not 'parameters' in globals():\n",
    "    raise Exception(\"Parameter injection failed\")\n",
    "\n",
    "#Use an easy dict for all the parameters\n",
    "p = EasyDict(parameters)\n",
    "\n",
    "supplied_keys = set(p.keys())\n",
    "\n",
    "if  supplied_keys != required_parameters:\n",
    "    print(\"Parameters are incorrect\")\n",
    "    if len(supplied_keys - required_parameters)>0: print(\"Shouldn't have:\", str(supplied_keys - required_parameters))\n",
    "    if len(required_parameters - supplied_keys)>0: print(\"Need to have:\", str(required_parameters - supplied_keys))\n",
    "    raise RuntimeError(\"Parameters are incorrect\")\n",
    "\n"
   ]
  },
  {
   "cell_type": "code",
   "execution_count": 6,
   "id": "3a028d58",
   "metadata": {
    "execution": {
     "iopub.execute_input": "2022-03-25T22:53:38.015672Z",
     "iopub.status.busy": "2022-03-25T22:53:38.015290Z",
     "iopub.status.idle": "2022-03-25T22:53:38.035165Z",
     "shell.execute_reply": "2022-03-25T22:53:38.034819Z"
    },
    "papermill": {
     "duration": 0.037106,
     "end_time": "2022-03-25T22:53:38.035251",
     "exception": false,
     "start_time": "2022-03-25T22:53:37.998145",
     "status": "completed"
    },
    "tags": []
   },
   "outputs": [],
   "source": [
    "###################################\n",
    "# Set the RNGs and make it all deterministic\n",
    "###################################\n",
    "np.random.seed(p.seed)\n",
    "random.seed(p.seed)\n",
    "torch.manual_seed(p.seed)\n",
    "\n",
    "torch.use_deterministic_algorithms(True) "
   ]
  },
  {
   "cell_type": "code",
   "execution_count": 7,
   "id": "b691acf6",
   "metadata": {
    "execution": {
     "iopub.execute_input": "2022-03-25T22:53:38.067491Z",
     "iopub.status.busy": "2022-03-25T22:53:38.067126Z",
     "iopub.status.idle": "2022-03-25T22:53:38.086091Z",
     "shell.execute_reply": "2022-03-25T22:53:38.086760Z"
    },
    "papermill": {
     "duration": 0.036852,
     "end_time": "2022-03-25T22:53:38.086955",
     "exception": false,
     "start_time": "2022-03-25T22:53:38.050103",
     "status": "completed"
    },
    "tags": []
   },
   "outputs": [],
   "source": [
    "###########################################\n",
    "# The stratified datasets honor this\n",
    "###########################################\n",
    "torch.set_default_dtype(eval(p.torch_default_dtype))"
   ]
  },
  {
   "cell_type": "code",
   "execution_count": 8,
   "id": "b5fba671",
   "metadata": {
    "execution": {
     "iopub.execute_input": "2022-03-25T22:53:38.126411Z",
     "iopub.status.busy": "2022-03-25T22:53:38.126039Z",
     "iopub.status.idle": "2022-03-25T22:53:38.179616Z",
     "shell.execute_reply": "2022-03-25T22:53:38.178872Z"
    },
    "papermill": {
     "duration": 0.070352,
     "end_time": "2022-03-25T22:53:38.179800",
     "exception": false,
     "start_time": "2022-03-25T22:53:38.109448",
     "status": "completed"
    },
    "tags": []
   },
   "outputs": [],
   "source": [
    "###################################\n",
    "# Build the network(s)\n",
    "# Note: It's critical to do this AFTER setting the RNG\n",
    "# (This is due to the randomized initial weights)\n",
    "###################################\n",
    "x_net = build_sequential(p.x_net)"
   ]
  },
  {
   "cell_type": "code",
   "execution_count": 9,
   "id": "5d7e61cc",
   "metadata": {
    "execution": {
     "iopub.execute_input": "2022-03-25T22:53:38.218003Z",
     "iopub.status.busy": "2022-03-25T22:53:38.217635Z",
     "iopub.status.idle": "2022-03-25T22:53:38.241744Z",
     "shell.execute_reply": "2022-03-25T22:53:38.241028Z"
    },
    "papermill": {
     "duration": 0.042112,
     "end_time": "2022-03-25T22:53:38.241905",
     "exception": false,
     "start_time": "2022-03-25T22:53:38.199793",
     "status": "completed"
    },
    "tags": []
   },
   "outputs": [],
   "source": [
    "start_time_secs = time.time()"
   ]
  },
  {
   "cell_type": "code",
   "execution_count": 10,
   "id": "fd5442bc",
   "metadata": {
    "execution": {
     "iopub.execute_input": "2022-03-25T22:53:38.291083Z",
     "iopub.status.busy": "2022-03-25T22:53:38.279877Z",
     "iopub.status.idle": "2022-03-25T22:54:00.965746Z",
     "shell.execute_reply": "2022-03-25T22:54:00.964967Z"
    },
    "papermill": {
     "duration": 22.702891,
     "end_time": "2022-03-25T22:54:00.965925",
     "exception": false,
     "start_time": "2022-03-25T22:53:38.263034",
     "status": "completed"
    },
    "tags": []
   },
   "outputs": [],
   "source": [
    "###################################\n",
    "# Build the dataset\n",
    "###################################\n",
    "\n",
    "if p.x_transforms_source == []: x_transform_source = None\n",
    "else: x_transform_source = get_chained_transform(p.x_transforms_source) \n",
    "\n",
    "if p.x_transforms_target == []: x_transform_target = None\n",
    "else: x_transform_target = get_chained_transform(p.x_transforms_target)\n",
    "\n",
    "if p.episode_transforms_source == []: episode_transform_source = None\n",
    "else: raise Exception(\"episode_transform_source not implemented\")\n",
    "\n",
    "if p.episode_transforms_target == []: episode_transform_target = None\n",
    "else: raise Exception(\"episode_transform_target not implemented\")\n",
    "\n",
    "\n",
    "eaf_source = Episodic_Accessor_Factory(\n",
    "    labels=p.labels_source,\n",
    "    domains=p.domains_source,\n",
    "    num_examples_per_domain_per_label=p.num_examples_per_domain_per_label_source,\n",
    "    iterator_seed=p.seed,\n",
    "    dataset_seed=p.dataset_seed,\n",
    "    n_shot=p.n_shot,\n",
    "    n_way=p.n_way,\n",
    "    n_query=p.n_query,\n",
    "    train_val_test_k_factors=(p.train_k_factor,p.val_k_factor,p.test_k_factor),\n",
    "    pickle_path=os.path.join(get_datasets_base_path(), p.pickle_name),\n",
    "    x_transform_func=x_transform_source,\n",
    "    example_transform_func=episode_transform_source,\n",
    "    \n",
    ")\n",
    "train_original_source, val_original_source, test_original_source = eaf_source.get_train(), eaf_source.get_val(), eaf_source.get_test()\n",
    "\n",
    "\n",
    "eaf_target = Episodic_Accessor_Factory(\n",
    "    labels=p.labels_target,\n",
    "    domains=p.domains_target,\n",
    "    num_examples_per_domain_per_label=p.num_examples_per_domain_per_label_target,\n",
    "    iterator_seed=p.seed,\n",
    "    dataset_seed=p.dataset_seed,\n",
    "    n_shot=p.n_shot,\n",
    "    n_way=p.n_way,\n",
    "    n_query=p.n_query,\n",
    "    train_val_test_k_factors=(p.train_k_factor,p.val_k_factor,p.test_k_factor),\n",
    "    pickle_path=os.path.join(get_datasets_base_path(), p.pickle_name),\n",
    "    x_transform_func=x_transform_target,\n",
    "    example_transform_func=episode_transform_target,\n",
    ")\n",
    "train_original_target, val_original_target, test_original_target = eaf_target.get_train(), eaf_target.get_val(), eaf_target.get_test()\n",
    "\n",
    "\n",
    "transform_lambda = lambda ex: ex[1] # Original is (<domain>, <episode>) so we strip down to episode only\n",
    "\n",
    "train_processed_source = Lazy_Iterable_Wrapper(train_original_source, transform_lambda)\n",
    "val_processed_source   = Lazy_Iterable_Wrapper(val_original_source, transform_lambda)\n",
    "test_processed_source  = Lazy_Iterable_Wrapper(test_original_source, transform_lambda)\n",
    "\n",
    "train_processed_target = Lazy_Iterable_Wrapper(train_original_target, transform_lambda)\n",
    "val_processed_target   = Lazy_Iterable_Wrapper(val_original_target, transform_lambda)\n",
    "test_processed_target  = Lazy_Iterable_Wrapper(test_original_target, transform_lambda)\n",
    "\n",
    "datasets = EasyDict({\n",
    "    \"source\": {\n",
    "        \"original\": {\"train\":train_original_source, \"val\":val_original_source, \"test\":test_original_source},\n",
    "        \"processed\": {\"train\":train_processed_source, \"val\":val_processed_source, \"test\":test_processed_source}\n",
    "    },\n",
    "    \"target\": {\n",
    "        \"original\": {\"train\":train_original_target, \"val\":val_original_target, \"test\":test_original_target},\n",
    "        \"processed\": {\"train\":train_processed_target, \"val\":val_processed_target, \"test\":test_processed_target}\n",
    "    },\n",
    "})"
   ]
  },
  {
   "cell_type": "code",
   "execution_count": 11,
   "id": "296189d9",
   "metadata": {
    "execution": {
     "iopub.execute_input": "2022-03-25T22:54:01.010324Z",
     "iopub.status.busy": "2022-03-25T22:54:01.009753Z",
     "iopub.status.idle": "2022-03-25T22:54:08.154357Z",
     "shell.execute_reply": "2022-03-25T22:54:08.155016Z"
    },
    "papermill": {
     "duration": 7.167782,
     "end_time": "2022-03-25T22:54:08.155203",
     "exception": false,
     "start_time": "2022-03-25T22:54:00.987421",
     "status": "completed"
    },
    "tags": []
   },
   "outputs": [
    {
     "name": "stdout",
     "output_type": "stream",
     "text": [
      "Visually inspect these to see if they line up with expected values given the transforms\n",
      "x_transforms_source ['unit_power']\n",
      "x_transforms_target ['unit_power']\n",
      "Average magnitude, source: 0.9684425\n",
      "Average power, source: 1.0\n"
     ]
    },
    {
     "name": "stdout",
     "output_type": "stream",
     "text": [
      "Average magnitude, target: 0.9699584\n",
      "Average power, target: 1.0\n"
     ]
    }
   ],
   "source": [
    "# Some quick unit tests on the data\n",
    "from steves_utils.transforms import get_average_power, get_average_magnitude\n",
    "\n",
    "q_x, q_y, s_x, s_y, truth = next(iter(train_processed_source))\n",
    "\n",
    "assert q_x.dtype == eval(p.torch_default_dtype)\n",
    "assert s_x.dtype == eval(p.torch_default_dtype)\n",
    "\n",
    "print(\"Visually inspect these to see if they line up with expected values given the transforms\")\n",
    "print('x_transforms_source', p.x_transforms_source)\n",
    "print('x_transforms_target', p.x_transforms_target)\n",
    "print(\"Average magnitude, source:\", get_average_magnitude(q_x[0].numpy()))\n",
    "print(\"Average power, source:\", get_average_power(q_x[0].numpy()))\n",
    "\n",
    "q_x, q_y, s_x, s_y, truth = next(iter(train_processed_target))\n",
    "print(\"Average magnitude, target:\", get_average_magnitude(q_x[0].numpy()))\n",
    "print(\"Average power, target:\", get_average_power(q_x[0].numpy()))\n"
   ]
  },
  {
   "cell_type": "code",
   "execution_count": 12,
   "id": "bbdacba1",
   "metadata": {
    "execution": {
     "iopub.execute_input": "2022-03-25T22:54:08.197446Z",
     "iopub.status.busy": "2022-03-25T22:54:08.196951Z",
     "iopub.status.idle": "2022-03-25T22:54:08.361133Z",
     "shell.execute_reply": "2022-03-25T22:54:08.361447Z"
    },
    "papermill": {
     "duration": 0.183057,
     "end_time": "2022-03-25T22:54:08.361610",
     "exception": false,
     "start_time": "2022-03-25T22:54:08.178553",
     "status": "completed"
    },
    "tags": []
   },
   "outputs": [
    {
     "name": "stdout",
     "output_type": "stream",
     "text": [
      "(2, 256)\n"
     ]
    }
   ],
   "source": [
    "###################################\n",
    "# Build the model\n",
    "###################################\n",
    "model = Steves_Prototypical_Network(x_net, device=p.device, x_shape=(2,256))\n",
    "optimizer = Adam(params=model.parameters(), lr=p.lr)"
   ]
  },
  {
   "cell_type": "code",
   "execution_count": 13,
   "id": "22b39ac5",
   "metadata": {
    "execution": {
     "iopub.execute_input": "2022-03-25T22:54:08.397617Z",
     "iopub.status.busy": "2022-03-25T22:54:08.397067Z",
     "iopub.status.idle": "2022-03-25T23:11:16.464409Z",
     "shell.execute_reply": "2022-03-25T23:11:16.465084Z"
    },
    "papermill": {
     "duration": 1028.087071,
     "end_time": "2022-03-25T23:11:16.465316",
     "exception": false,
     "start_time": "2022-03-25T22:54:08.378245",
     "status": "completed"
    },
    "tags": []
   },
   "outputs": [
    {
     "name": "stdout",
     "output_type": "stream",
     "text": [
      "epoch: 1, [batch: 1 / 2520], examples_per_second: 75.3675, train_label_loss: 2.8294, \n"
     ]
    },
    {
     "name": "stdout",
     "output_type": "stream",
     "text": [
      "epoch: 1, [batch: 252 / 2520], examples_per_second: 2321.1029, train_label_loss: 1.2527, \n"
     ]
    },
    {
     "name": "stdout",
     "output_type": "stream",
     "text": [
      "epoch: 1, [batch: 504 / 2520], examples_per_second: 2440.1413, train_label_loss: 1.2947, \n"
     ]
    },
    {
     "name": "stdout",
     "output_type": "stream",
     "text": [
      "epoch: 1, [batch: 756 / 2520], examples_per_second: 2576.5899, train_label_loss: 0.9839, \n"
     ]
    },
    {
     "name": "stdout",
     "output_type": "stream",
     "text": [
      "epoch: 1, [batch: 1008 / 2520], examples_per_second: 3032.8753, train_label_loss: 1.3552, \n"
     ]
    },
    {
     "name": "stdout",
     "output_type": "stream",
     "text": [
      "epoch: 1, [batch: 1260 / 2520], examples_per_second: 3506.5736, train_label_loss: 0.8776, \n"
     ]
    },
    {
     "name": "stdout",
     "output_type": "stream",
     "text": [
      "epoch: 1, [batch: 1512 / 2520], examples_per_second: 3771.9581, train_label_loss: 0.8699, \n"
     ]
    },
    {
     "name": "stdout",
     "output_type": "stream",
     "text": [
      "epoch: 1, [batch: 1764 / 2520], examples_per_second: 3880.4022, train_label_loss: 0.7335, \n"
     ]
    },
    {
     "name": "stdout",
     "output_type": "stream",
     "text": [
      "epoch: 1, [batch: 2016 / 2520], examples_per_second: 3899.1465, train_label_loss: 0.6246, \n"
     ]
    },
    {
     "name": "stdout",
     "output_type": "stream",
     "text": [
      "epoch: 1, [batch: 2268 / 2520], examples_per_second: 3916.6529, train_label_loss: 0.4436, \n"
     ]
    },
    {
     "name": "stdout",
     "output_type": "stream",
     "text": [
      "=============================================================\n",
      "epoch: 1, source_val_acc_label: 0.7415, target_val_acc_label: 0.6877, source_val_label_loss: 0.9259, target_val_label_loss: 3.0901, \n",
      "=============================================================\n"
     ]
    },
    {
     "name": "stdout",
     "output_type": "stream",
     "text": [
      "New best\n"
     ]
    },
    {
     "name": "stdout",
     "output_type": "stream",
     "text": [
      "epoch: 2, [batch: 1 / 2520], examples_per_second: 9.7277, train_label_loss: 1.0108, \n"
     ]
    },
    {
     "name": "stdout",
     "output_type": "stream",
     "text": [
      "epoch: 2, [batch: 252 / 2520], examples_per_second: 3828.9887, train_label_loss: 0.5737, \n"
     ]
    },
    {
     "name": "stdout",
     "output_type": "stream",
     "text": [
      "epoch: 2, [batch: 504 / 2520], examples_per_second: 3724.9557, train_label_loss: 0.5071, \n"
     ]
    },
    {
     "name": "stdout",
     "output_type": "stream",
     "text": [
      "epoch: 2, [batch: 756 / 2520], examples_per_second: 3197.9179, train_label_loss: 0.6481, \n"
     ]
    },
    {
     "name": "stdout",
     "output_type": "stream",
     "text": [
      "epoch: 2, [batch: 1008 / 2520], examples_per_second: 1912.7333, train_label_loss: 0.3794, \n"
     ]
    },
    {
     "name": "stdout",
     "output_type": "stream",
     "text": [
      "epoch: 2, [batch: 1260 / 2520], examples_per_second: 1881.7445, train_label_loss: 0.3675, \n"
     ]
    },
    {
     "name": "stdout",
     "output_type": "stream",
     "text": [
      "epoch: 2, [batch: 1512 / 2520], examples_per_second: 1860.0989, train_label_loss: 0.5080, \n"
     ]
    },
    {
     "name": "stdout",
     "output_type": "stream",
     "text": [
      "epoch: 2, [batch: 1764 / 2520], examples_per_second: 2219.6371, train_label_loss: 0.3656, \n"
     ]
    },
    {
     "name": "stdout",
     "output_type": "stream",
     "text": [
      "epoch: 2, [batch: 2016 / 2520], examples_per_second: 3594.9979, train_label_loss: 0.3815, \n"
     ]
    },
    {
     "name": "stdout",
     "output_type": "stream",
     "text": [
      "epoch: 2, [batch: 2268 / 2520], examples_per_second: 3712.2142, train_label_loss: 0.5596, \n"
     ]
    },
    {
     "name": "stdout",
     "output_type": "stream",
     "text": [
      "=============================================================\n",
      "epoch: 2, source_val_acc_label: 0.8146, target_val_acc_label: 0.7514, source_val_label_loss: 0.5409, target_val_label_loss: 2.5894, \n",
      "=============================================================\n"
     ]
    },
    {
     "name": "stdout",
     "output_type": "stream",
     "text": [
      "New best\n"
     ]
    },
    {
     "name": "stdout",
     "output_type": "stream",
     "text": [
      "epoch: 3, [batch: 1 / 2520], examples_per_second: 9.9524, train_label_loss: 0.6760, \n"
     ]
    },
    {
     "name": "stdout",
     "output_type": "stream",
     "text": [
      "epoch: 3, [batch: 252 / 2520], examples_per_second: 2298.8969, train_label_loss: 0.6875, \n"
     ]
    },
    {
     "name": "stdout",
     "output_type": "stream",
     "text": [
      "epoch: 3, [batch: 504 / 2520], examples_per_second: 2085.5250, train_label_loss: 0.5674, \n"
     ]
    },
    {
     "name": "stdout",
     "output_type": "stream",
     "text": [
      "epoch: 3, [batch: 756 / 2520], examples_per_second: 1835.0605, train_label_loss: 0.3149, \n"
     ]
    },
    {
     "name": "stdout",
     "output_type": "stream",
     "text": [
      "epoch: 3, [batch: 1008 / 2520], examples_per_second: 1798.1458, train_label_loss: 0.3919, \n"
     ]
    },
    {
     "name": "stdout",
     "output_type": "stream",
     "text": [
      "epoch: 3, [batch: 1260 / 2520], examples_per_second: 2823.7990, train_label_loss: 0.3196, \n"
     ]
    },
    {
     "name": "stdout",
     "output_type": "stream",
     "text": [
      "epoch: 3, [batch: 1512 / 2520], examples_per_second: 4029.8761, train_label_loss: 0.6066, \n"
     ]
    },
    {
     "name": "stdout",
     "output_type": "stream",
     "text": [
      "epoch: 3, [batch: 1764 / 2520], examples_per_second: 3996.4388, train_label_loss: 0.5886, \n"
     ]
    },
    {
     "name": "stdout",
     "output_type": "stream",
     "text": [
      "epoch: 3, [batch: 2016 / 2520], examples_per_second: 3814.1555, train_label_loss: 0.4043, \n"
     ]
    },
    {
     "name": "stdout",
     "output_type": "stream",
     "text": [
      "epoch: 3, [batch: 2268 / 2520], examples_per_second: 3954.1885, train_label_loss: 0.6847, \n"
     ]
    },
    {
     "name": "stdout",
     "output_type": "stream",
     "text": [
      "=============================================================\n",
      "epoch: 3, source_val_acc_label: 0.8260, target_val_acc_label: 0.7455, source_val_label_loss: 0.4772, target_val_label_loss: 3.2159, \n",
      "=============================================================\n"
     ]
    },
    {
     "name": "stdout",
     "output_type": "stream",
     "text": [
      "epoch: 4, [batch: 1 / 2520], examples_per_second: 4.6195, train_label_loss: 0.5384, \n"
     ]
    },
    {
     "name": "stdout",
     "output_type": "stream",
     "text": [
      "epoch: 4, [batch: 252 / 2520], examples_per_second: 2292.5515, train_label_loss: 0.4397, \n"
     ]
    },
    {
     "name": "stdout",
     "output_type": "stream",
     "text": [
      "epoch: 4, [batch: 504 / 2520], examples_per_second: 3722.2182, train_label_loss: 0.4919, \n"
     ]
    },
    {
     "name": "stdout",
     "output_type": "stream",
     "text": [
      "epoch: 4, [batch: 756 / 2520], examples_per_second: 3872.0388, train_label_loss: 0.3988, \n"
     ]
    },
    {
     "name": "stdout",
     "output_type": "stream",
     "text": [
      "epoch: 4, [batch: 1008 / 2520], examples_per_second: 3911.8525, train_label_loss: 0.4070, \n"
     ]
    },
    {
     "name": "stdout",
     "output_type": "stream",
     "text": [
      "epoch: 4, [batch: 1260 / 2520], examples_per_second: 3947.0803, train_label_loss: 0.3501, \n"
     ]
    },
    {
     "name": "stdout",
     "output_type": "stream",
     "text": [
      "epoch: 4, [batch: 1512 / 2520], examples_per_second: 3781.4613, train_label_loss: 0.3527, \n"
     ]
    },
    {
     "name": "stdout",
     "output_type": "stream",
     "text": [
      "epoch: 4, [batch: 1764 / 2520], examples_per_second: 2700.9210, train_label_loss: 0.3695, \n"
     ]
    },
    {
     "name": "stdout",
     "output_type": "stream",
     "text": [
      "epoch: 4, [batch: 2016 / 2520], examples_per_second: 1915.1044, train_label_loss: 0.3327, \n"
     ]
    },
    {
     "name": "stdout",
     "output_type": "stream",
     "text": [
      "epoch: 4, [batch: 2268 / 2520], examples_per_second: 1938.0551, train_label_loss: 0.1405, \n"
     ]
    },
    {
     "name": "stdout",
     "output_type": "stream",
     "text": [
      "=============================================================\n",
      "epoch: 4, source_val_acc_label: 0.8536, target_val_acc_label: 0.7661, source_val_label_loss: 0.4148, target_val_label_loss: 3.8715, \n",
      "=============================================================\n"
     ]
    },
    {
     "name": "stdout",
     "output_type": "stream",
     "text": [
      "New best\n"
     ]
    },
    {
     "name": "stdout",
     "output_type": "stream",
     "text": [
      "epoch: 5, [batch: 1 / 2520], examples_per_second: 4.7437, train_label_loss: 0.3138, \n"
     ]
    },
    {
     "name": "stdout",
     "output_type": "stream",
     "text": [
      "epoch: 5, [batch: 252 / 2520], examples_per_second: 3766.5352, train_label_loss: 0.4432, \n"
     ]
    },
    {
     "name": "stdout",
     "output_type": "stream",
     "text": [
      "epoch: 5, [batch: 504 / 2520], examples_per_second: 3988.3559, train_label_loss: 0.2859, \n"
     ]
    },
    {
     "name": "stdout",
     "output_type": "stream",
     "text": [
      "epoch: 5, [batch: 756 / 2520], examples_per_second: 3986.2799, train_label_loss: 0.3822, \n"
     ]
    },
    {
     "name": "stdout",
     "output_type": "stream",
     "text": [
      "epoch: 5, [batch: 1008 / 2520], examples_per_second: 3826.0678, train_label_loss: 0.3351, \n"
     ]
    },
    {
     "name": "stdout",
     "output_type": "stream",
     "text": [
      "epoch: 5, [batch: 1260 / 2520], examples_per_second: 2647.0713, train_label_loss: 0.5876, \n"
     ]
    },
    {
     "name": "stdout",
     "output_type": "stream",
     "text": [
      "epoch: 5, [batch: 1512 / 2520], examples_per_second: 1926.0009, train_label_loss: 0.4437, \n"
     ]
    },
    {
     "name": "stdout",
     "output_type": "stream",
     "text": [
      "epoch: 5, [batch: 1764 / 2520], examples_per_second: 1880.4196, train_label_loss: 0.2515, \n"
     ]
    },
    {
     "name": "stdout",
     "output_type": "stream",
     "text": [
      "epoch: 5, [batch: 2016 / 2520], examples_per_second: 1794.7491, train_label_loss: 0.5587, \n"
     ]
    },
    {
     "name": "stdout",
     "output_type": "stream",
     "text": [
      "epoch: 5, [batch: 2268 / 2520], examples_per_second: 1861.2156, train_label_loss: 0.4648, \n"
     ]
    },
    {
     "name": "stdout",
     "output_type": "stream",
     "text": [
      "=============================================================\n",
      "epoch: 5, source_val_acc_label: 0.8740, target_val_acc_label: 0.7863, source_val_label_loss: 0.3624, target_val_label_loss: 3.9155, \n",
      "=============================================================\n"
     ]
    },
    {
     "name": "stdout",
     "output_type": "stream",
     "text": [
      "New best\n"
     ]
    },
    {
     "name": "stdout",
     "output_type": "stream",
     "text": [
      "epoch: 6, [batch: 1 / 2520], examples_per_second: 7.3230, train_label_loss: 0.3361, \n"
     ]
    },
    {
     "name": "stdout",
     "output_type": "stream",
     "text": [
      "epoch: 6, [batch: 252 / 2520], examples_per_second: 3755.9921, train_label_loss: 0.2642, \n"
     ]
    },
    {
     "name": "stdout",
     "output_type": "stream",
     "text": [
      "epoch: 6, [batch: 504 / 2520], examples_per_second: 4006.3832, train_label_loss: 0.1698, \n"
     ]
    },
    {
     "name": "stdout",
     "output_type": "stream",
     "text": [
      "epoch: 6, [batch: 756 / 2520], examples_per_second: 3775.9698, train_label_loss: 0.4671, \n"
     ]
    },
    {
     "name": "stdout",
     "output_type": "stream",
     "text": [
      "epoch: 6, [batch: 1008 / 2520], examples_per_second: 2529.6688, train_label_loss: 0.3909, \n"
     ]
    },
    {
     "name": "stdout",
     "output_type": "stream",
     "text": [
      "epoch: 6, [batch: 1260 / 2520], examples_per_second: 1981.7280, train_label_loss: 0.1146, \n"
     ]
    },
    {
     "name": "stdout",
     "output_type": "stream",
     "text": [
      "epoch: 6, [batch: 1512 / 2520], examples_per_second: 1876.2858, train_label_loss: 0.6544, \n"
     ]
    },
    {
     "name": "stdout",
     "output_type": "stream",
     "text": [
      "epoch: 6, [batch: 1764 / 2520], examples_per_second: 1781.4297, train_label_loss: 0.2423, \n"
     ]
    },
    {
     "name": "stdout",
     "output_type": "stream",
     "text": [
      "epoch: 6, [batch: 2016 / 2520], examples_per_second: 2705.3904, train_label_loss: 0.1946, \n"
     ]
    },
    {
     "name": "stdout",
     "output_type": "stream",
     "text": [
      "epoch: 6, [batch: 2268 / 2520], examples_per_second: 4002.7153, train_label_loss: 0.1775, \n"
     ]
    },
    {
     "name": "stdout",
     "output_type": "stream",
     "text": [
      "=============================================================\n",
      "epoch: 6, source_val_acc_label: 0.8755, target_val_acc_label: 0.7996, source_val_label_loss: 0.3528, target_val_label_loss: 4.4642, \n",
      "=============================================================\n"
     ]
    },
    {
     "name": "stdout",
     "output_type": "stream",
     "text": [
      "New best\n"
     ]
    },
    {
     "name": "stdout",
     "output_type": "stream",
     "text": [
      "epoch: 7, [batch: 1 / 2520], examples_per_second: 9.2367, train_label_loss: 0.3276, \n"
     ]
    },
    {
     "name": "stdout",
     "output_type": "stream",
     "text": [
      "epoch: 7, [batch: 252 / 2520], examples_per_second: 3775.6659, train_label_loss: 0.0911, \n"
     ]
    },
    {
     "name": "stdout",
     "output_type": "stream",
     "text": [
      "epoch: 7, [batch: 504 / 2520], examples_per_second: 1978.5277, train_label_loss: 0.3728, \n"
     ]
    },
    {
     "name": "stdout",
     "output_type": "stream",
     "text": [
      "epoch: 7, [batch: 756 / 2520], examples_per_second: 1812.0924, train_label_loss: 0.3427, \n"
     ]
    },
    {
     "name": "stdout",
     "output_type": "stream",
     "text": [
      "epoch: 7, [batch: 1008 / 2520], examples_per_second: 1919.4232, train_label_loss: 0.2957, \n"
     ]
    },
    {
     "name": "stdout",
     "output_type": "stream",
     "text": [
      "epoch: 7, [batch: 1260 / 2520], examples_per_second: 1800.5395, train_label_loss: 0.1368, \n"
     ]
    },
    {
     "name": "stdout",
     "output_type": "stream",
     "text": [
      "epoch: 7, [batch: 1512 / 2520], examples_per_second: 1820.8719, train_label_loss: 0.1575, \n"
     ]
    },
    {
     "name": "stdout",
     "output_type": "stream",
     "text": [
      "epoch: 7, [batch: 1764 / 2520], examples_per_second: 2845.5356, train_label_loss: 0.4422, \n"
     ]
    },
    {
     "name": "stdout",
     "output_type": "stream",
     "text": [
      "epoch: 7, [batch: 2016 / 2520], examples_per_second: 3828.1304, train_label_loss: 0.3267, \n"
     ]
    },
    {
     "name": "stdout",
     "output_type": "stream",
     "text": [
      "epoch: 7, [batch: 2268 / 2520], examples_per_second: 3789.8160, train_label_loss: 0.1448, \n"
     ]
    },
    {
     "name": "stdout",
     "output_type": "stream",
     "text": [
      "=============================================================\n",
      "epoch: 7, source_val_acc_label: 0.9042, target_val_acc_label: 0.8158, source_val_label_loss: 0.2796, target_val_label_loss: 4.3761, \n",
      "=============================================================\n"
     ]
    },
    {
     "name": "stdout",
     "output_type": "stream",
     "text": [
      "New best\n"
     ]
    },
    {
     "name": "stdout",
     "output_type": "stream",
     "text": [
      "epoch: 8, [batch: 1 / 2520], examples_per_second: 9.2569, train_label_loss: 0.0846, \n"
     ]
    },
    {
     "name": "stdout",
     "output_type": "stream",
     "text": [
      "epoch: 8, [batch: 252 / 2520], examples_per_second: 1892.5231, train_label_loss: 0.2071, \n"
     ]
    },
    {
     "name": "stdout",
     "output_type": "stream",
     "text": [
      "epoch: 8, [batch: 504 / 2520], examples_per_second: 1850.2490, train_label_loss: 0.2915, \n"
     ]
    },
    {
     "name": "stdout",
     "output_type": "stream",
     "text": [
      "epoch: 8, [batch: 756 / 2520], examples_per_second: 1845.5489, train_label_loss: 0.0446, \n"
     ]
    },
    {
     "name": "stdout",
     "output_type": "stream",
     "text": [
      "epoch: 8, [batch: 1008 / 2520], examples_per_second: 1772.9335, train_label_loss: 0.1262, \n"
     ]
    },
    {
     "name": "stdout",
     "output_type": "stream",
     "text": [
      "epoch: 8, [batch: 1260 / 2520], examples_per_second: 2019.4125, train_label_loss: 0.1726, \n"
     ]
    },
    {
     "name": "stdout",
     "output_type": "stream",
     "text": [
      "epoch: 8, [batch: 1512 / 2520], examples_per_second: 3027.1953, train_label_loss: 0.0749, \n"
     ]
    },
    {
     "name": "stdout",
     "output_type": "stream",
     "text": [
      "epoch: 8, [batch: 1764 / 2520], examples_per_second: 3975.7331, train_label_loss: 0.1920, \n"
     ]
    },
    {
     "name": "stdout",
     "output_type": "stream",
     "text": [
      "epoch: 8, [batch: 2016 / 2520], examples_per_second: 3870.3216, train_label_loss: 0.1901, \n"
     ]
    },
    {
     "name": "stdout",
     "output_type": "stream",
     "text": [
      "epoch: 8, [batch: 2268 / 2520], examples_per_second: 4027.4292, train_label_loss: 0.0726, \n"
     ]
    },
    {
     "name": "stdout",
     "output_type": "stream",
     "text": [
      "=============================================================\n",
      "epoch: 8, source_val_acc_label: 0.9087, target_val_acc_label: 0.8023, source_val_label_loss: 0.2764, target_val_label_loss: 4.8206, \n",
      "=============================================================\n"
     ]
    },
    {
     "name": "stdout",
     "output_type": "stream",
     "text": [
      "epoch: 9, [batch: 1 / 2520], examples_per_second: 6.1763, train_label_loss: 0.2910, \n"
     ]
    },
    {
     "name": "stdout",
     "output_type": "stream",
     "text": [
      "epoch: 9, [batch: 252 / 2520], examples_per_second: 1815.7789, train_label_loss: 0.2623, \n"
     ]
    },
    {
     "name": "stdout",
     "output_type": "stream",
     "text": [
      "epoch: 9, [batch: 504 / 2520], examples_per_second: 2022.9744, train_label_loss: 0.2733, \n"
     ]
    },
    {
     "name": "stdout",
     "output_type": "stream",
     "text": [
      "epoch: 9, [batch: 756 / 2520], examples_per_second: 3119.4334, train_label_loss: 0.2611, \n"
     ]
    },
    {
     "name": "stdout",
     "output_type": "stream",
     "text": [
      "epoch: 9, [batch: 1008 / 2520], examples_per_second: 3822.3860, train_label_loss: 0.0957, \n"
     ]
    },
    {
     "name": "stdout",
     "output_type": "stream",
     "text": [
      "epoch: 9, [batch: 1260 / 2520], examples_per_second: 3901.7503, train_label_loss: 0.3544, \n"
     ]
    },
    {
     "name": "stdout",
     "output_type": "stream",
     "text": [
      "epoch: 9, [batch: 1512 / 2520], examples_per_second: 3999.8926, train_label_loss: 0.0842, \n"
     ]
    },
    {
     "name": "stdout",
     "output_type": "stream",
     "text": [
      "epoch: 9, [batch: 1764 / 2520], examples_per_second: 3873.7170, train_label_loss: 0.1529, \n"
     ]
    },
    {
     "name": "stdout",
     "output_type": "stream",
     "text": [
      "epoch: 9, [batch: 2016 / 2520], examples_per_second: 3943.7516, train_label_loss: 0.1632, \n"
     ]
    },
    {
     "name": "stdout",
     "output_type": "stream",
     "text": [
      "epoch: 9, [batch: 2268 / 2520], examples_per_second: 1906.3249, train_label_loss: 0.4027, \n"
     ]
    },
    {
     "name": "stdout",
     "output_type": "stream",
     "text": [
      "=============================================================\n",
      "epoch: 9, source_val_acc_label: 0.9036, target_val_acc_label: 0.7990, source_val_label_loss: 0.2912, target_val_label_loss: 5.2394, \n",
      "=============================================================\n"
     ]
    },
    {
     "name": "stdout",
     "output_type": "stream",
     "text": [
      "epoch: 10, [batch: 1 / 2520], examples_per_second: 3.8513, train_label_loss: 0.2700, \n"
     ]
    },
    {
     "name": "stdout",
     "output_type": "stream",
     "text": [
      "epoch: 10, [batch: 252 / 2520], examples_per_second: 3732.5538, train_label_loss: 0.2051, \n"
     ]
    },
    {
     "name": "stdout",
     "output_type": "stream",
     "text": [
      "epoch: 10, [batch: 504 / 2520], examples_per_second: 3895.7515, train_label_loss: 0.1063, \n"
     ]
    },
    {
     "name": "stdout",
     "output_type": "stream",
     "text": [
      "epoch: 10, [batch: 756 / 2520], examples_per_second: 3887.9372, train_label_loss: 0.1622, \n"
     ]
    },
    {
     "name": "stdout",
     "output_type": "stream",
     "text": [
      "epoch: 10, [batch: 1008 / 2520], examples_per_second: 3895.3760, train_label_loss: 0.2223, \n"
     ]
    },
    {
     "name": "stdout",
     "output_type": "stream",
     "text": [
      "epoch: 10, [batch: 1260 / 2520], examples_per_second: 3854.5213, train_label_loss: 0.6379, \n"
     ]
    },
    {
     "name": "stdout",
     "output_type": "stream",
     "text": [
      "epoch: 10, [batch: 1512 / 2520], examples_per_second: 2376.3114, train_label_loss: 0.2767, \n"
     ]
    },
    {
     "name": "stdout",
     "output_type": "stream",
     "text": [
      "epoch: 10, [batch: 1764 / 2520], examples_per_second: 2031.2327, train_label_loss: 0.1698, \n"
     ]
    },
    {
     "name": "stdout",
     "output_type": "stream",
     "text": [
      "epoch: 10, [batch: 2016 / 2520], examples_per_second: 1827.3256, train_label_loss: 0.1931, \n"
     ]
    },
    {
     "name": "stdout",
     "output_type": "stream",
     "text": [
      "epoch: 10, [batch: 2268 / 2520], examples_per_second: 1781.3637, train_label_loss: 0.0924, \n"
     ]
    },
    {
     "name": "stdout",
     "output_type": "stream",
     "text": [
      "=============================================================\n",
      "epoch: 10, source_val_acc_label: 0.9200, target_val_acc_label: 0.8096, source_val_label_loss: 0.2546, target_val_label_loss: 5.6459, \n",
      "=============================================================\n"
     ]
    },
    {
     "name": "stdout",
     "output_type": "stream",
     "text": [
      "epoch: 11, [batch: 1 / 2520], examples_per_second: 5.8933, train_label_loss: 0.1051, \n"
     ]
    },
    {
     "name": "stdout",
     "output_type": "stream",
     "text": [
      "epoch: 11, [batch: 252 / 2520], examples_per_second: 3803.9166, train_label_loss: 0.0132, \n"
     ]
    },
    {
     "name": "stdout",
     "output_type": "stream",
     "text": [
      "epoch: 11, [batch: 504 / 2520], examples_per_second: 3863.9178, train_label_loss: 0.0657, \n"
     ]
    },
    {
     "name": "stdout",
     "output_type": "stream",
     "text": [
      "epoch: 11, [batch: 756 / 2520], examples_per_second: 3773.2540, train_label_loss: 0.2144, \n"
     ]
    },
    {
     "name": "stdout",
     "output_type": "stream",
     "text": [
      "epoch: 11, [batch: 1008 / 2520], examples_per_second: 3096.0799, train_label_loss: 0.1970, \n"
     ]
    },
    {
     "name": "stdout",
     "output_type": "stream",
     "text": [
      "epoch: 11, [batch: 1260 / 2520], examples_per_second: 1928.1394, train_label_loss: 0.0866, \n"
     ]
    },
    {
     "name": "stdout",
     "output_type": "stream",
     "text": [
      "epoch: 11, [batch: 1512 / 2520], examples_per_second: 1885.4839, train_label_loss: 0.4865, \n"
     ]
    },
    {
     "name": "stdout",
     "output_type": "stream",
     "text": [
      "epoch: 11, [batch: 1764 / 2520], examples_per_second: 1823.5923, train_label_loss: 0.0370, \n"
     ]
    },
    {
     "name": "stdout",
     "output_type": "stream",
     "text": [
      "epoch: 11, [batch: 2016 / 2520], examples_per_second: 1795.3401, train_label_loss: 0.2604, \n"
     ]
    },
    {
     "name": "stdout",
     "output_type": "stream",
     "text": [
      "epoch: 11, [batch: 2268 / 2520], examples_per_second: 2028.8835, train_label_loss: 0.1907, \n"
     ]
    },
    {
     "name": "stdout",
     "output_type": "stream",
     "text": [
      "=============================================================\n",
      "epoch: 11, source_val_acc_label: 0.9145, target_val_acc_label: 0.8017, source_val_label_loss: 0.2609, target_val_label_loss: 6.3861, \n",
      "=============================================================\n"
     ]
    },
    {
     "name": "stdout",
     "output_type": "stream",
     "text": [
      "Patience (3) exhausted\n"
     ]
    }
   ],
   "source": [
    "###################################\n",
    "# train\n",
    "###################################\n",
    "jig = PTN_Train_Eval_Test_Jig(model, p.BEST_MODEL_PATH, p.device)\n",
    "\n",
    "jig.train(\n",
    "    train_iterable=datasets.source.processed.train,\n",
    "    source_val_iterable=datasets.source.processed.val,\n",
    "    target_val_iterable=datasets.target.processed.val,\n",
    "    num_epochs=p.n_epoch,\n",
    "    num_logs_per_epoch=p.NUM_LOGS_PER_EPOCH,\n",
    "    patience=p.patience,\n",
    "    optimizer=optimizer,\n",
    "    criteria_for_best=p.criteria_for_best,\n",
    ")"
   ]
  },
  {
   "cell_type": "code",
   "execution_count": 14,
   "id": "31e8fabf",
   "metadata": {
    "execution": {
     "iopub.execute_input": "2022-03-25T23:11:16.574524Z",
     "iopub.status.busy": "2022-03-25T23:11:16.574063Z",
     "iopub.status.idle": "2022-03-25T23:11:16.606540Z",
     "shell.execute_reply": "2022-03-25T23:11:16.605847Z"
    },
    "papermill": {
     "duration": 0.08736,
     "end_time": "2022-03-25T23:11:16.606692",
     "exception": false,
     "start_time": "2022-03-25T23:11:16.519332",
     "status": "completed"
    },
    "tags": []
   },
   "outputs": [],
   "source": [
    "total_experiment_time_secs = time.time() - start_time_secs"
   ]
  },
  {
   "cell_type": "code",
   "execution_count": 15,
   "id": "87b9595b",
   "metadata": {
    "execution": {
     "iopub.execute_input": "2022-03-25T23:11:16.716059Z",
     "iopub.status.busy": "2022-03-25T23:11:16.715673Z",
     "iopub.status.idle": "2022-03-25T23:13:20.021953Z",
     "shell.execute_reply": "2022-03-25T23:13:20.022672Z"
    },
    "papermill": {
     "duration": 123.361459,
     "end_time": "2022-03-25T23:13:20.022926",
     "exception": false,
     "start_time": "2022-03-25T23:11:16.661467",
     "status": "completed"
    },
    "tags": []
   },
   "outputs": [],
   "source": [
    "###################################\n",
    "# Evaluate the model\n",
    "###################################\n",
    "source_test_label_accuracy, source_test_label_loss = jig.test(datasets.source.processed.test)\n",
    "target_test_label_accuracy, target_test_label_loss = jig.test(datasets.target.processed.test)\n",
    "\n",
    "source_val_label_accuracy, source_val_label_loss = jig.test(datasets.source.processed.val)\n",
    "target_val_label_accuracy, target_val_label_loss = jig.test(datasets.target.processed.val)\n",
    "\n",
    "history = jig.get_history()\n",
    "\n",
    "total_epochs_trained = len(history[\"epoch_indices\"])\n",
    "\n",
    "val_dl = Iterable_Aggregator((datasets.source.original.val,datasets.target.original.val))\n",
    "\n",
    "confusion = ptn_confusion_by_domain_over_dataloader(model, p.device, val_dl)\n",
    "per_domain_accuracy = per_domain_accuracy_from_confusion(confusion)\n",
    "\n",
    "# Add a key to per_domain_accuracy for if it was a source domain\n",
    "for domain, accuracy in per_domain_accuracy.items():\n",
    "    per_domain_accuracy[domain] = {\n",
    "        \"accuracy\": accuracy,\n",
    "        \"source?\": domain in p.domains_source\n",
    "    }\n",
    "\n",
    "# Do an independent accuracy assesment JUST TO BE SURE!\n",
    "# _source_test_label_accuracy = independent_accuracy_assesment(model, datasets.source.processed.test, p.device)\n",
    "# _target_test_label_accuracy = independent_accuracy_assesment(model, datasets.target.processed.test, p.device)\n",
    "# _source_val_label_accuracy = independent_accuracy_assesment(model, datasets.source.processed.val, p.device)\n",
    "# _target_val_label_accuracy = independent_accuracy_assesment(model, datasets.target.processed.val, p.device)\n",
    "\n",
    "# assert(_source_test_label_accuracy == source_test_label_accuracy)\n",
    "# assert(_target_test_label_accuracy == target_test_label_accuracy)\n",
    "# assert(_source_val_label_accuracy == source_val_label_accuracy)\n",
    "# assert(_target_val_label_accuracy == target_val_label_accuracy)\n",
    "\n",
    "experiment = {\n",
    "    \"experiment_name\": p.experiment_name,\n",
    "    \"parameters\": dict(p),\n",
    "    \"results\": {\n",
    "        \"source_test_label_accuracy\": source_test_label_accuracy,\n",
    "        \"source_test_label_loss\": source_test_label_loss,\n",
    "        \"target_test_label_accuracy\": target_test_label_accuracy,\n",
    "        \"target_test_label_loss\": target_test_label_loss,\n",
    "        \"source_val_label_accuracy\": source_val_label_accuracy,\n",
    "        \"source_val_label_loss\": source_val_label_loss,\n",
    "        \"target_val_label_accuracy\": target_val_label_accuracy,\n",
    "        \"target_val_label_loss\": target_val_label_loss,\n",
    "        \"total_epochs_trained\": total_epochs_trained,\n",
    "        \"total_experiment_time_secs\": total_experiment_time_secs,\n",
    "        \"confusion\": confusion,\n",
    "        \"per_domain_accuracy\": per_domain_accuracy,\n",
    "    },\n",
    "    \"history\": history,\n",
    "    \"dataset_metrics\": get_dataset_metrics(datasets, \"ptn\"),\n",
    "}"
   ]
  },
  {
   "cell_type": "code",
   "execution_count": 16,
   "id": "54a21829",
   "metadata": {
    "execution": {
     "iopub.execute_input": "2022-03-25T23:13:20.134633Z",
     "iopub.status.busy": "2022-03-25T23:13:20.134067Z",
     "iopub.status.idle": "2022-03-25T23:13:20.354028Z",
     "shell.execute_reply": "2022-03-25T23:13:20.354708Z"
    },
    "papermill": {
     "duration": 0.274664,
     "end_time": "2022-03-25T23:13:20.354937",
     "exception": false,
     "start_time": "2022-03-25T23:13:20.080273",
     "status": "completed"
    },
    "tags": []
   },
   "outputs": [
    {
     "data": {
      "image/png": "[encoded data removed]",
      "text/plain": [
       "<Figure size 1080x504 with 1 Axes>"
      ]
     },
     "metadata": {
      "needs_background": "light"
     },
     "output_type": "display_data"
    }
   ],
   "source": [
    "ax = get_loss_curve(experiment)\n",
    "plt.show()"
   ]
  },
  {
   "cell_type": "code",
   "execution_count": 17,
   "id": "fd8a0f60",
   "metadata": {
    "execution": {
     "iopub.execute_input": "2022-03-25T23:13:20.466083Z",
     "iopub.status.busy": "2022-03-25T23:13:20.465715Z",
     "iopub.status.idle": "2022-03-25T23:13:20.787600Z",
     "shell.execute_reply": "2022-03-25T23:13:20.787231Z"
    },
    "papermill": {
     "duration": 0.375192,
     "end_time": "2022-03-25T23:13:20.787699",
     "exception": false,
     "start_time": "2022-03-25T23:13:20.412507",
     "status": "completed"
    },
    "tags": []
   },
   "outputs": [
    {
     "data": {
      "text/plain": [
       "<AxesSubplot:title={'center':'Results'}>"
      ]
     },
     "execution_count": 17,
     "metadata": {},
     "output_type": "execute_result"
    },
    {
     "data": {
      "image/png": "[encoded data removed]",
      "text/plain": [
       "<Figure size 1080x504 with 1 Axes>"
      ]
     },
     "metadata": {
      "needs_background": "light"
     },
     "output_type": "display_data"
    }
   ],
   "source": [
    "get_results_table(experiment)"
   ]
  },
  {
   "cell_type": "code",
   "execution_count": 18,
   "id": "cf8dc689",
   "metadata": {
    "execution": {
     "iopub.execute_input": "2022-03-25T23:13:20.895633Z",
     "iopub.status.busy": "2022-03-25T23:13:20.895237Z",
     "iopub.status.idle": "2022-03-25T23:13:21.112119Z",
     "shell.execute_reply": "2022-03-25T23:13:21.111319Z"
    },
    "papermill": {
     "duration": 0.272384,
     "end_time": "2022-03-25T23:13:21.112279",
     "exception": false,
     "start_time": "2022-03-25T23:13:20.839895",
     "status": "completed"
    },
    "tags": []
   },
   "outputs": [
    {
     "data": {
      "text/plain": [
       "<AxesSubplot:title={'center':'Per Domain Validation Accuracy'}, xlabel='domain'>"
      ]
     },
     "execution_count": 18,
     "metadata": {},
     "output_type": "execute_result"
    },
    {
     "data": {
      "image/png": "[encoded data removed]",
      "text/plain": [
       "<Figure size 1080x504 with 1 Axes>"
      ]
     },
     "metadata": {
      "needs_background": "light"
     },
     "output_type": "display_data"
    }
   ],
   "source": [
    "get_domain_accuracies(experiment)"
   ]
  },
  {
   "cell_type": "code",
   "execution_count": 19,
   "id": "a74ae082",
   "metadata": {
    "execution": {
     "iopub.execute_input": "2022-03-25T23:13:21.226547Z",
     "iopub.status.busy": "2022-03-25T23:13:21.225926Z",
     "iopub.status.idle": "2022-03-25T23:13:21.253612Z",
     "shell.execute_reply": "2022-03-25T23:13:21.252906Z"
    },
    "papermill": {
     "duration": 0.084748,
     "end_time": "2022-03-25T23:13:21.253766",
     "exception": false,
     "start_time": "2022-03-25T23:13:21.169018",
     "status": "completed"
    },
    "tags": []
   },
   "outputs": [
    {
     "name": "stdout",
     "output_type": "stream",
     "text": [
      "Source Test Label Accuracy: 0.9006944444444445 Target Test Label Accuracy: 0.816875\n",
      "Source Val Label Accuracy: 0.9041666666666667 Target Val Label Accuracy: 0.8158333333333333\n"
     ]
    }
   ],
   "source": [
    "print(\"Source Test Label Accuracy:\", experiment[\"results\"][\"source_test_label_accuracy\"], \"Target Test Label Accuracy:\", experiment[\"results\"][\"target_test_label_accuracy\"])\n",
    "print(\"Source Val Label Accuracy:\", experiment[\"results\"][\"source_val_label_accuracy\"], \"Target Val Label Accuracy:\", experiment[\"results\"][\"target_val_label_accuracy\"])"
   ]
  },
  {
   "cell_type": "code",
   "execution_count": 20,
   "id": "dacca602",
   "metadata": {
    "execution": {
     "iopub.execute_input": "2022-03-25T23:13:21.370297Z",
     "iopub.status.busy": "2022-03-25T23:13:21.369935Z",
     "iopub.status.idle": "2022-03-25T23:13:21.392068Z",
     "shell.execute_reply": "2022-03-25T23:13:21.392737Z"
    },
    "papermill": {
     "duration": 0.080044,
     "end_time": "2022-03-25T23:13:21.392921",
     "exception": false,
     "start_time": "2022-03-25T23:13:21.312877",
     "status": "completed"
    },
    "tags": [
     "experiment_json"
    ]
   },
   "outputs": [
    {
     "data": {
      "text/plain": [
       "'{\"experiment_name\": \"tuned_1v2:oracle.run1.framed\", \"parameters\": {\"experiment_name\": \"tuned_1v2:oracle.run1.framed\", \"device\": \"cuda\", \"lr\": 0.0001, \"labels_source\": [\"3123D52\", \"3123D65\", \"3123D79\", \"3123D80\", \"3123D54\", \"3123D70\", \"3123D7B\", \"3123D89\", \"3123D58\", \"3123D76\", \"3123D7D\", \"3123EFE\", \"3123D64\", \"3123D78\", \"3123D7E\", \"3124E4A\"], \"labels_target\": [\"3123D52\", \"3123D65\", \"3123D79\", \"3123D80\", \"3123D54\", \"3123D70\", \"3123D7B\", \"3123D89\", \"3123D58\", \"3123D76\", \"3123D7D\", \"3123EFE\", \"3123D64\", \"3123D78\", \"3123D7E\", \"3124E4A\"], \"episode_transforms_source\": [], \"episode_transforms_target\": [], \"domains_source\": [8, 32, 50], \"domains_target\": [14, 20, 26, 38, 44], \"num_examples_per_domain_per_label_source\": -1, \"num_examples_per_domain_per_label_target\": -1, \"n_shot\": 3, \"n_way\": 16, \"n_query\": 2, \"train_k_factor\": 3, \"val_k_factor\": 2, \"test_k_factor\": 2, \"torch_default_dtype\": \"torch.float32\", \"n_epoch\": 50, \"patience\": 3, \"criteria_for_best\": \"target_accuracy\", \"x_net\": [{\"class\": \"nnReshape\", \"kargs\": {\"shape\": [-1, 1, 2, 256]}}, {\"class\": \"Conv2d\", \"kargs\": {\"in_channels\": 1, \"out_channels\": 256, \"kernel_size\": [1, 7], \"bias\": false, \"padding\": [0, 3]}}, {\"class\": \"ReLU\", \"kargs\": {\"inplace\": true}}, {\"class\": \"BatchNorm2d\", \"kargs\": {\"num_features\": 256}}, {\"class\": \"Conv2d\", \"kargs\": {\"in_channels\": 256, \"out_channels\": 80, \"kernel_size\": [2, 7], \"bias\": true, \"padding\": [0, 3]}}, {\"class\": \"ReLU\", \"kargs\": {\"inplace\": true}}, {\"class\": \"BatchNorm2d\", \"kargs\": {\"num_features\": 80}}, {\"class\": \"Flatten\", \"kargs\": {}}, {\"class\": \"Linear\", \"kargs\": {\"in_features\": 20480, \"out_features\": 256}}, {\"class\": \"ReLU\", \"kargs\": {\"inplace\": true}}, {\"class\": \"BatchNorm1d\", \"kargs\": {\"num_features\": 256}}, {\"class\": \"Linear\", \"kargs\": {\"in_features\": 256, \"out_features\": 256}}], \"NUM_LOGS_PER_EPOCH\": 10, \"BEST_MODEL_PATH\": \"./best_model.pth\", \"pickle_name\": \"oracle.Run1_framed_2000Examples_stratified_ds.2022A.pkl\", \"x_transforms_source\": [\"unit_power\"], \"x_transforms_target\": [\"unit_power\"], \"dataset_seed\": 420, \"seed\": 420}, \"results\": {\"source_test_label_accuracy\": 0.9006944444444445, \"source_test_label_loss\": 0.3207431733608246, \"target_test_label_accuracy\": 0.816875, \"target_test_label_loss\": 5.044002056121826, \"source_val_label_accuracy\": 0.9041666666666667, \"source_val_label_loss\": 0.27962398529052734, \"target_val_label_accuracy\": 0.8158333333333333, \"target_val_label_loss\": 4.376086711883545, \"total_epochs_trained\": 11, \"total_experiment_time_secs\": 1058.3640332221985, \"confusion\": {\"8\": {\"15\": {\"15\": 223, \"12\": 15, \"8\": 2}, \"5\": {\"10\": 7, \"5\": 230, \"1\": 3}, \"7\": {\"7\": 211, \"6\": 21, \"13\": 1, \"3\": 1, \"0\": 6}, \"4\": {\"13\": 33, \"4\": 196, \"14\": 7, \"10\": 2, \"6\": 2}, \"10\": {\"10\": 208, \"13\": 9, \"14\": 20, \"4\": 3}, \"11\": {\"11\": 234, \"1\": 6}, \"12\": {\"12\": 180, \"15\": 55, \"3\": 5}, \"0\": {\"0\": 208, \"13\": 23, \"7\": 8, \"6\": 1}, \"14\": {\"14\": 202, \"1\": 6, \"13\": 1, \"4\": 17, \"10\": 14}, \"8\": {\"8\": 240}, \"13\": {\"13\": 134, \"10\": 26, \"0\": 49, \"14\": 4, \"6\": 3, \"4\": 23, \"7\": 1}, \"6\": {\"6\": 196, \"7\": 26, \"13\": 4, \"4\": 13, \"0\": 1}, \"1\": {\"1\": 236, \"14\": 3, \"11\": 1}, \"3\": {\"3\": 238, \"12\": 1, \"2\": 1}, \"9\": {\"9\": 240}, \"2\": {\"2\": 234, \"15\": 2, \"7\": 2, \"3\": 2}}, \"50\": {\"4\": {\"15\": 22, \"4\": 171, \"5\": 36, \"1\": 6, \"7\": 4, \"13\": 1}, \"10\": {\"10\": 235, \"0\": 4, \"13\": 1}, \"15\": {\"1\": 14, \"15\": 208, \"6\": 3, \"4\": 13, \"11\": 2}, \"0\": {\"0\": 223, \"2\": 15, \"10\": 2}, \"6\": {\"6\": 224, \"15\": 2, \"5\": 2, \"1\": 4, \"13\": 7, \"7\": 1}, \"3\": {\"3\": 239, \"8\": 1}, \"7\": {\"7\": 201, \"6\": 8, \"13\": 21, \"4\": 2, \"5\": 5, \"10\": 3}, \"2\": {\"0\": 11, \"2\": 228, \"1\": 1}, \"8\": {\"8\": 238, \"3\": 1, \"10\": 1}, \"11\": {\"11\": 232, \"12\": 3, \"15\": 4, \"4\": 1}, \"14\": {\"14\": 240}, \"12\": {\"12\": 237, \"9\": 1, \"11\": 2}, \"13\": {\"13\": 216, \"5\": 13, \"6\": 5, \"7\": 5, \"10\": 1}, \"9\": {\"9\": 228, \"12\": 5, \"11\": 7}, \"5\": {\"5\": 153, \"1\": 21, \"4\": 32, \"7\": 10, \"13\": 24}, \"1\": {\"1\": 220, \"15\": 11, \"6\": 4, \"4\": 3, \"5\": 2}}, \"32\": {\"7\": {\"7\": 191, \"5\": 30, \"2\": 1, \"4\": 11, \"14\": 3, \"11\": 1, \"13\": 3}, \"2\": {\"2\": 218, \"4\": 22}, \"5\": {\"5\": 178, \"7\": 26, \"13\": 17, \"4\": 8, \"8\": 4, \"3\": 5, \"11\": 1, \"14\": 1}, \"6\": {\"6\": 240}, \"13\": {\"13\": 203, \"3\": 10, \"7\": 5, \"5\": 8, \"8\": 4, \"4\": 10}, \"4\": {\"4\": 197, \"2\": 32, \"7\": 9, \"13\": 2}, \"3\": {\"3\": 236, \"13\": 3, \"8\": 1}, \"0\": {\"0\": 213, \"8\": 11, \"14\": 10, \"7\": 3, \"13\": 2, \"5\": 1}, \"9\": {\"9\": 240}, \"12\": {\"12\": 240}, \"8\": {\"8\": 220, \"0\": 10, \"5\": 3, \"3\": 1, \"13\": 5, \"14\": 1}, \"14\": {\"14\": 188, \"0\": 19, \"11\": 25, \"3\": 1, \"13\": 1, \"7\": 3, \"8\": 3}, \"15\": {\"15\": 240}, \"11\": {\"11\": 229, \"7\": 1, \"14\": 9, \"13\": 1}, \"10\": {\"10\": 240}, \"1\": {\"1\": 240}}, \"20\": {\"15\": {\"15\": 197, \"1\": 11, \"13\": 5, \"12\": 2, \"5\": 14, \"0\": 11}, \"5\": {\"5\": 206, \"0\": 23, \"12\": 4, \"15\": 4, \"3\": 1, \"1\": 2}, \"7\": {\"7\": 224, \"2\": 13, \"8\": 2, \"9\": 1}, \"4\": {\"4\": 233, \"8\": 6, \"10\": 1}, \"10\": {\"10\": 240}, \"11\": {\"11\": 240}, \"12\": {\"12\": 155, \"3\": 33, \"9\": 10, \"1\": 33, \"5\": 3, \"2\": 6}, \"0\": {\"15\": 20, \"0\": 174, \"5\": 46}, \"14\": {\"14\": 231, \"6\": 7, \"10\": 2}, \"8\": {\"8\": 230, \"4\": 8, \"7\": 1, \"14\": 1}, \"13\": {\"13\": 237, \"2\": 2, \"15\": 1}, \"6\": {\"6\": 231, \"14\": 9}, \"1\": {\"1\": 170, \"12\": 49, \"3\": 3, \"9\": 4, \"5\": 7, \"15\": 6, \"13\": 1}, \"3\": {\"12\": 29, \"9\": 29, \"3\": 174, \"1\": 4, \"4\": 1, \"2\": 3}, \"9\": {\"9\": 162, \"2\": 39, \"3\": 26, \"12\": 13}, \"2\": {\"3\": 10, \"2\": 158, \"12\": 14, \"7\": 8, \"9\": 47, \"13\": 2, \"1\": 1}}, \"26\": {\"4\": {\"14\": 59, \"4\": 133, \"0\": 20, \"8\": 12, \"7\": 9, \"1\": 2, \"10\": 5}, \"10\": {\"0\": 66, \"10\": 118, \"8\": 34, \"14\": 10, \"7\": 1, \"4\": 9, \"6\": 1, \"15\": 1}, \"15\": {\"15\": 154, \"9\": 57, \"6\": 7, \"2\": 2, \"8\": 8, \"13\": 5, \"5\": 6, \"0\": 1}, \"0\": {\"0\": 99, \"4\": 23, \"10\": 64, \"14\": 37, \"8\": 13, \"7\": 3, \"6\": 1}, \"6\": {\"6\": 206, \"15\": 8, \"10\": 2, \"9\": 23, \"8\": 1}, \"3\": {\"2\": 37, \"3\": 189, \"7\": 14}, \"7\": {\"8\": 10, \"7\": 177, \"4\": 16, \"3\": 19, \"2\": 18}, \"2\": {\"3\": 67, \"2\": 113, \"5\": 29, \"7\": 21, \"15\": 4, \"8\": 6}, \"8\": {\"10\": 37, \"8\": 148, \"7\": 16, \"4\": 13, \"0\": 17, \"15\": 2, \"14\": 3, \"9\": 3, \"2\": 1}, \"11\": {\"11\": 240}, \"14\": {\"4\": 48, \"14\": 134, \"0\": 31, \"10\": 9, \"1\": 14, \"11\": 1, \"8\": 3}, \"12\": {\"12\": 240}, \"13\": {\"13\": 185, \"5\": 40, \"9\": 4, \"2\": 6, \"15\": 5}, \"9\": {\"9\": 165, \"15\": 52, \"6\": 14, \"5\": 3, \"13\": 3, \"8\": 3}, \"5\": {\"5\": 214, \"13\": 12, \"8\": 1, \"2\": 9, \"15\": 3, \"7\": 1}, \"1\": {\"1\": 216, \"4\": 7, \"14\": 13, \"7\": 3, \"3\": 1}}, \"38\": {\"7\": {\"5\": 7, \"7\": 214, \"8\": 8, \"0\": 7, \"10\": 4}, \"2\": {\"2\": 218, \"14\": 18, \"13\": 3, \"15\": 1}, \"5\": {\"5\": 121, \"8\": 52, \"7\": 38, \"15\": 3, \"6\": 15, \"10\": 8, \"13\": 1, \"0\": 1, \"9\": 1}, \"6\": {\"6\": 235, \"9\": 5}, \"13\": {\"13\": 208, \"14\": 2, \"15\": 6, \"10\": 13, \"8\": 2, \"2\": 6, \"1\": 2, \"0\": 1}, \"4\": {\"4\": 234, \"12\": 2, \"11\": 1, \"10\": 1, \"7\": 2}, \"3\": {\"3\": 233, \"9\": 3, \"2\": 2, \"11\": 1, \"0\": 1}, \"0\": {\"0\": 155, \"4\": 10, \"10\": 20, \"8\": 23, \"12\": 1, \"3\": 8, \"7\": 19, \"5\": 1, \"13\": 1, \"11\": 2}, \"9\": {\"9\": 225, \"6\": 11, \"5\": 3, \"7\": 1}, \"12\": {\"12\": 240}, \"8\": {\"8\": 197, \"5\": 25, \"13\": 3, \"10\": 3, \"0\": 6, \"15\": 4, \"7\": 2}, \"14\": {\"14\": 230, \"2\": 8, \"10\": 1, \"11\": 1}, \"15\": {\"15\": 206, \"1\": 20, \"13\": 5, \"8\": 9}, \"11\": {\"4\": 23, \"12\": 1, \"11\": 171, \"3\": 8, \"9\": 6, \"14\": 13, \"0\": 1, \"10\": 15, \"2\": 2}, \"10\": {\"10\": 215, \"13\": 10, \"8\": 5, \"0\": 4, \"15\": 1, \"7\": 4, \"5\": 1}, \"1\": {\"1\": 230, \"15\": 10}}, \"14\": {\"11\": {\"11\": 234, \"9\": 2, \"0\": 4}, \"7\": {\"7\": 240}, \"6\": {\"6\": 188, \"13\": 50, \"2\": 2}, \"12\": {\"12\": 240}, \"4\": {\"4\": 221, \"5\": 14, \"1\": 2, \"3\": 1, \"2\": 2}, \"13\": {\"6\": 69, \"5\": 11, \"13\": 85, \"14\": 59, \"2\": 13, \"3\": 2, \"7\": 1}, \"8\": {\"8\": 240}, \"5\": {\"5\": 178, \"1\": 22, \"4\": 28, \"2\": 7, \"3\": 5}, \"14\": {\"2\": 11, \"14\": 216, \"13\": 12, \"6\": 1}, \"3\": {\"3\": 237, \"2\": 2, \"4\": 1}, \"10\": {\"10\": 240}, \"1\": {\"1\": 228, \"5\": 11, \"4\": 1}, \"2\": {\"6\": 14, \"2\": 133, \"14\": 31, \"4\": 3, \"13\": 15, \"5\": 28, \"15\": 3, \"3\": 13}, \"15\": {\"15\": 240}, \"9\": {\"9\": 240}, \"0\": {\"0\": 233, \"10\": 3, \"3\": 2, \"11\": 2}}, \"44\": {\"10\": {\"1\": 11, \"10\": 198, \"2\": 19, \"12\": 9, \"7\": 2, \"3\": 1}, \"6\": {\"6\": 177, \"9\": 30, \"13\": 24, \"7\": 6, \"2\": 2, \"11\": 1}, \"13\": {\"13\": 173, \"6\": 37, \"9\": 27, \"4\": 2, \"11\": 1}, \"3\": {\"3\": 226, \"1\": 14}, \"9\": {\"13\": 26, \"9\": 130, \"6\": 32, \"7\": 49, \"2\": 3}, \"1\": {\"12\": 26, \"1\": 190, \"2\": 9, \"3\": 4, \"7\": 1, \"10\": 10}, \"5\": {\"5\": 218, \"0\": 8, \"14\": 9, \"15\": 3, \"8\": 2}, \"11\": {\"11\": 237, \"13\": 1, \"6\": 2}, \"4\": {\"4\": 178, \"14\": 60, \"15\": 2}, \"14\": {\"4\": 63, \"5\": 6, \"14\": 166, \"15\": 5}, \"12\": {\"12\": 193, \"1\": 30, \"3\": 9, \"10\": 8}, \"7\": {\"7\": 167, \"6\": 13, \"2\": 34, \"9\": 25, \"13\": 1}, \"0\": {\"8\": 63, \"0\": 151, \"15\": 9, \"5\": 17}, \"15\": {\"15\": 198, \"8\": 8, \"14\": 19, \"0\": 12, \"5\": 2, \"4\": 1}, \"2\": {\"2\": 200, \"10\": 9, \"7\": 21, \"1\": 10}, \"8\": {\"8\": 144, \"0\": 85, \"5\": 5, \"15\": 6}}}, \"per_domain_accuracy\": {\"8\": {\"accuracy\": 0.8880208333333334, \"source?\": true}, \"50\": {\"accuracy\": 0.9096354166666667, \"source?\": true}, \"32\": {\"accuracy\": 0.91484375, \"source?\": true}, \"20\": {\"accuracy\": 0.8494791666666667, \"source?\": false}, \"26\": {\"accuracy\": 0.7111979166666667, \"source?\": false}, \"38\": {\"accuracy\": 0.8677083333333333, \"source?\": false}, \"14\": {\"accuracy\": 0.88359375, \"source?\": false}, \"44\": {\"accuracy\": 0.7671875, \"source?\": false}}}, \"history\": {\"epoch_indices\": [1, 2, 3, 4, 5, 6, 7, 8, 9, 10, 11], \"train_label_loss\": [0.9623981291457774, 0.6766291520306988, 0.49014866208982844, 0.43622959203249406, 0.3714908721132411, 0.30925186330763005, 0.29475616079548167, 0.24273008096682291, 0.22477347821196808, 0.20350201614940214, 0.18686203833148327], \"source_val_label_loss\": [0.9259054064750671, 0.5409061312675476, 0.477196604013443, 0.41482698917388916, 0.36237284541130066, 0.35283663868904114, 0.27962398529052734, 0.27637237310409546, 0.2912139892578125, 0.2546382248401642, 0.26092594861984253], \"target_val_label_loss\": [3.090055227279663, 2.5893983840942383, 3.215898275375366, 3.8715109825134277, 3.9155213832855225, 4.464161396026611, 4.376086711883545, 4.820626258850098, 5.239449977874756, 5.645905494689941, 6.386099338531494], \"source_val_acc_label\": [0.7414930555555556, 0.8145833333333333, 0.8260416666666667, 0.8535590277777778, 0.8739583333333333, 0.8755208333333333, 0.9041666666666667, 0.9086805555555556, 0.9036458333333334, 0.9199652777777778, 0.9144965277777778], \"target_val_acc_label\": [0.6877083333333334, 0.75140625, 0.7455208333333333, 0.7661458333333333, 0.78625, 0.7995833333333333, 0.8158333333333333, 0.80234375, 0.7989583333333333, 0.8095833333333333, 0.8016666666666666]}, \"dataset_metrics\": {\"source\": {\"train\": {\"n_unique_x\": 67200, \"n_unique_y\": 16, \"n_batch/episode\": 2520}, \"val\": {\"n_unique_x\": 14400, \"n_unique_y\": 16, \"n_batch/episode\": 360}, \"test\": {\"n_unique_x\": 14400, \"n_unique_y\": 16, \"n_batch/episode\": 360}}, \"target\": {\"train\": {\"n_unique_x\": 112000, \"n_unique_y\": 16, \"n_batch/episode\": 4200}, \"val\": {\"n_unique_x\": 24000, \"n_unique_y\": 16, \"n_batch/episode\": 600}, \"test\": {\"n_unique_x\": 24000, \"n_unique_y\": 16, \"n_batch/episode\": 600}}}}'"
      ]
     },
     "execution_count": 20,
     "metadata": {},
     "output_type": "execute_result"
    }
   ],
   "source": [
    "json.dumps(experiment)"
   ]
  }
 ],
 "metadata": {
  "celltoolbar": "Tags",
  "kernelspec": {
   "display_name": "Python 3 (ipykernel)",
   "language": "python",
   "name": "python3"
  },
  "language_info": {
   "codemirror_mode": {
    "name": "ipython",
    "version": 3
   },
   "file_extension": ".py",
   "mimetype": "text/x-python",
   "name": "python",
   "nbconvert_exporter": "python",
   "pygments_lexer": "ipython3",
   "version": "3.8.12"
  },
  "papermill": {
   "default_parameters": {},
   "duration": 1188.495129,
   "end_time": "2022-03-25T23:13:23.469105",
   "environment_variables": {},
   "exception": null,
   "input_path": "/root/csc500-main/csc500-notebooks/templates/ptn_template.ipynb",
   "output_path": "trial.ipynb",
   "parameters": {
    "parameters": {
     "BEST_MODEL_PATH": "./best_model.pth",
     "NUM_LOGS_PER_EPOCH": 10,
     "criteria_for_best": "target_accuracy",
     "dataset_seed": 420,
     "device": "cuda",
     "domains_source": [
      8,
      32,
      50
     ],
     "domains_target": [
      14,
      20,
      26,
      38,
      44
     ],
     "episode_transforms_source": [],
     "episode_transforms_target": [],
     "experiment_name": "tuned_1v2:oracle.run1.framed",
     "labels_source": [
      "3123D52",
      "3123D65",
      "3123D79",
      "3123D80",
      "3123D54",
      "3123D70",
      "3123D7B",
      "3123D89",
      "3123D58",
      "3123D76",
      "3123D7D",
      "3123EFE",
      "3123D64",
      "3123D78",
      "3123D7E",
      "3124E4A"
     ],
     "labels_target": [
      "3123D52",
      "3123D65",
      "3123D79",
      "3123D80",
      "3123D54",
      "3123D70",
      "3123D7B",
      "3123D89",
      "3123D58",
      "3123D76",
      "3123D7D",
      "3123EFE",
      "3123D64",
      "3123D78",
      "3123D7E",
      "3124E4A"
     ],
     "lr": 0.0001,
     "n_epoch": 50,
     "n_query": 2,
     "n_shot": 3,
     "n_way": 16,
     "num_examples_per_domain_per_label_source": -1,
     "num_examples_per_domain_per_label_target": -1,
     "patience": 3,
     "pickle_name": "oracle.Run1_framed_2000Examples_stratified_ds.2022A.pkl",
     "seed": 420,
     "test_k_factor": 2,
     "torch_default_dtype": "torch.float32",
     "train_k_factor": 3,
     "val_k_factor": 2,
     "x_net": [
      {
       "class": "nnReshape",
       "kargs": {
        "shape": [
         -1,
         1,
         2,
         256
        ]
       }
      },
      {
       "class": "Conv2d",
       "kargs": {
        "bias": false,
        "in_channels": 1,
        "kernel_size": [
         1,
         7
        ],
        "out_channels": 256,
        "padding": [
         0,
         3
        ]
       }
      },
      {
       "class": "ReLU",
       "kargs": {
        "inplace": true
       }
      },
      {
       "class": "BatchNorm2d",
       "kargs": {
        "num_features": 256
       }
      },
      {
       "class": "Conv2d",
       "kargs": {
        "bias": true,
        "in_channels": 256,
        "kernel_size": [
         2,
         7
        ],
        "out_channels": 80,
        "padding": [
         0,
         3
        ]
       }
      },
      {
       "class": "ReLU",
       "kargs": {
        "inplace": true
       }
      },
      {
       "class": "BatchNorm2d",
       "kargs": {
        "num_features": 80
       }
      },
      {
       "class": "Flatten",
       "kargs": {}
      },
      {
       "class": "Linear",
       "kargs": {
        "in_features": 20480,
        "out_features": 256
       }
      },
      {
       "class": "ReLU",
       "kargs": {
        "inplace": true
       }
      },
      {
       "class": "BatchNorm1d",
       "kargs": {
        "num_features": 256
       }
      },
      {
       "class": "Linear",
       "kargs": {
        "in_features": 256,
        "out_features": 256
       }
      }
     ],
     "x_transforms_source": [
      "unit_power"
     ],
     "x_transforms_target": [
      "unit_power"
     ]
    }
   },
   "start_time": "2022-03-25T22:53:34.973976",
   "version": "2.3.4"
  }
 },
 "nbformat": 4,
 "nbformat_minor": 5
}