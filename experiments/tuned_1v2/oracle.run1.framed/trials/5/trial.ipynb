{
 "cells": [
  {
   "cell_type": "markdown",
   "id": "9fea5f46",
   "metadata": {
    "papermill": {
     "duration": 0.025487,
     "end_time": "2022-03-25T21:36:32.039599",
     "exception": false,
     "start_time": "2022-03-25T21:36:32.014112",
     "status": "completed"
    },
    "tags": []
   },
   "source": [
    "# PTN Template\n",
    "This notebook serves as a template for single dataset PTN experiments  \n",
    "It can be run on its own by setting STANDALONE to True (do a find for \"STANDALONE\" to see where)  \n",
    "But it is intended to be executed as part of a *papermill.py script. See any of the   \n",
    "experimentes with a papermill script to get started with that workflow.  "
   ]
  },
  {
   "cell_type": "code",
   "execution_count": 1,
   "id": "0902182a",
   "metadata": {
    "execution": {
     "iopub.execute_input": "2022-03-25T21:36:32.091547Z",
     "iopub.status.busy": "2022-03-25T21:36:32.079261Z",
     "iopub.status.idle": "2022-03-25T21:36:33.930281Z",
     "shell.execute_reply": "2022-03-25T21:36:33.929760Z"
    },
    "papermill": {
     "duration": 1.872191,
     "end_time": "2022-03-25T21:36:33.930369",
     "exception": false,
     "start_time": "2022-03-25T21:36:32.058178",
     "status": "completed"
    },
    "tags": []
   },
   "outputs": [],
   "source": [
    "%load_ext autoreload\n",
    "%autoreload 2\n",
    "%matplotlib inline\n",
    "\n",
    "    \n",
    "import os, json, sys, time, random\n",
    "import numpy as np\n",
    "import torch\n",
    "from torch.optim import Adam\n",
    "from  easydict import EasyDict\n",
    "import matplotlib.pyplot as plt\n",
    "\n",
    "from steves_models.steves_ptn import Steves_Prototypical_Network\n",
    "\n",
    "from steves_utils.lazy_iterable_wrapper import Lazy_Iterable_Wrapper\n",
    "from steves_utils.iterable_aggregator import Iterable_Aggregator\n",
    "from steves_utils.ptn_train_eval_test_jig import  PTN_Train_Eval_Test_Jig\n",
    "from steves_utils.torch_sequential_builder import build_sequential\n",
    "from steves_utils.torch_utils import get_dataset_metrics, ptn_confusion_by_domain_over_dataloader\n",
    "from steves_utils.utils_v2 import (per_domain_accuracy_from_confusion, get_datasets_base_path)\n",
    "from steves_utils.PTN.utils import independent_accuracy_assesment\n",
    "\n",
    "from steves_utils.stratified_dataset.episodic_accessor import Episodic_Accessor_Factory\n",
    "\n",
    "from steves_utils.ptn_do_report import (\n",
    "    get_loss_curve,\n",
    "    get_results_table,\n",
    "    get_parameters_table,\n",
    "    get_domain_accuracies,\n",
    ")\n",
    "\n",
    "from steves_utils.transforms import get_chained_transform"
   ]
  },
  {
   "cell_type": "markdown",
   "id": "41c840b4",
   "metadata": {
    "papermill": {
     "duration": 0.013626,
     "end_time": "2022-03-25T21:36:33.960226",
     "exception": false,
     "start_time": "2022-03-25T21:36:33.946600",
     "status": "completed"
    },
    "tags": []
   },
   "source": [
    "# Required Parameters\n",
    "These are allowed parameters, not defaults\n",
    "Each of these values need to be present in the injected parameters (the notebook will raise an exception if they are not present)\n",
    "\n",
    "Papermill uses the cell tag \"parameters\" to inject the real parameters below this cell.\n",
    "Enable tags to see what I mean"
   ]
  },
  {
   "cell_type": "code",
   "execution_count": 2,
   "id": "fd44eb83",
   "metadata": {
    "execution": {
     "iopub.execute_input": "2022-03-25T21:36:33.994596Z",
     "iopub.status.busy": "2022-03-25T21:36:33.994010Z",
     "iopub.status.idle": "2022-03-25T21:36:34.019990Z",
     "shell.execute_reply": "2022-03-25T21:36:34.019166Z"
    },
    "papermill": {
     "duration": 0.04617,
     "end_time": "2022-03-25T21:36:34.020145",
     "exception": false,
     "start_time": "2022-03-25T21:36:33.973975",
     "status": "completed"
    },
    "tags": []
   },
   "outputs": [],
   "source": [
    "required_parameters = {\n",
    "    \"experiment_name\",\n",
    "    \"lr\",\n",
    "    \"device\",\n",
    "    \"seed\",\n",
    "    \"dataset_seed\",\n",
    "    \"labels_source\",\n",
    "    \"labels_target\",\n",
    "    \"domains_source\",\n",
    "    \"domains_target\",\n",
    "    \"num_examples_per_domain_per_label_source\",\n",
    "    \"num_examples_per_domain_per_label_target\",\n",
    "    \"n_shot\",\n",
    "    \"n_way\",\n",
    "    \"n_query\",\n",
    "    \"train_k_factor\",\n",
    "    \"val_k_factor\",\n",
    "    \"test_k_factor\",\n",
    "    \"n_epoch\",\n",
    "    \"patience\",\n",
    "    \"criteria_for_best\",\n",
    "    \"x_transforms_source\",\n",
    "    \"x_transforms_target\",\n",
    "    \"episode_transforms_source\",\n",
    "    \"episode_transforms_target\",\n",
    "    \"pickle_name\",\n",
    "    \"x_net\",\n",
    "    \"NUM_LOGS_PER_EPOCH\",\n",
    "    \"BEST_MODEL_PATH\",\n",
    "    \"torch_default_dtype\"\n",
    "}"
   ]
  },
  {
   "cell_type": "code",
   "execution_count": 3,
   "id": "fa3f0049",
   "metadata": {
    "execution": {
     "iopub.execute_input": "2022-03-25T21:36:34.068671Z",
     "iopub.status.busy": "2022-03-25T21:36:34.067754Z",
     "iopub.status.idle": "2022-03-25T21:36:34.092725Z",
     "shell.execute_reply": "2022-03-25T21:36:34.092042Z"
    },
    "papermill": {
     "duration": 0.052308,
     "end_time": "2022-03-25T21:36:34.092882",
     "exception": false,
     "start_time": "2022-03-25T21:36:34.040574",
     "status": "completed"
    },
    "tags": [
     "parameters"
    ]
   },
   "outputs": [],
   "source": [
    "\n",
    "\n",
    "standalone_parameters = {}\n",
    "standalone_parameters[\"experiment_name\"] = \"STANDALONE PTN\"\n",
    "standalone_parameters[\"lr\"] = 0.0001\n",
    "standalone_parameters[\"device\"] = \"cuda\"\n",
    "\n",
    "standalone_parameters[\"seed\"] = 1337\n",
    "standalone_parameters[\"dataset_seed\"] = 1337\n",
    "\n",
    "\n",
    "standalone_parameters[\"num_examples_per_domain_per_label_source\"]=100\n",
    "standalone_parameters[\"num_examples_per_domain_per_label_target\"]=100\n",
    "\n",
    "standalone_parameters[\"n_shot\"] = 3\n",
    "standalone_parameters[\"n_query\"]  = 2\n",
    "standalone_parameters[\"train_k_factor\"] = 1\n",
    "standalone_parameters[\"val_k_factor\"] = 2\n",
    "standalone_parameters[\"test_k_factor\"] = 2\n",
    "\n",
    "\n",
    "standalone_parameters[\"n_epoch\"] = 100\n",
    "\n",
    "standalone_parameters[\"patience\"] = 10\n",
    "standalone_parameters[\"criteria_for_best\"] = \"target_accuracy\"\n",
    "\n",
    "standalone_parameters[\"x_transforms_source\"] = [\"unit_power\"]\n",
    "standalone_parameters[\"x_transforms_target\"] = [\"unit_power\"]\n",
    "standalone_parameters[\"episode_transforms_source\"] = []\n",
    "standalone_parameters[\"episode_transforms_target\"] = []\n",
    "\n",
    "standalone_parameters[\"torch_default_dtype\"] = \"torch.float32\" \n",
    "\n",
    "\n",
    "\n",
    "standalone_parameters[\"x_net\"] =     [\n",
    "    {\"class\": \"nnReshape\", \"kargs\": {\"shape\":[-1, 1, 2, 256]}},\n",
    "    {\"class\": \"Conv2d\", \"kargs\": { \"in_channels\":1, \"out_channels\":256, \"kernel_size\":(1,7), \"bias\":False, \"padding\":(0,3), },},\n",
    "    {\"class\": \"ReLU\", \"kargs\": {\"inplace\": True}},\n",
    "    {\"class\": \"BatchNorm2d\", \"kargs\": {\"num_features\":256}},\n",
    "\n",
    "    {\"class\": \"Conv2d\", \"kargs\": { \"in_channels\":256, \"out_channels\":80, \"kernel_size\":(2,7), \"bias\":True, \"padding\":(0,3), },},\n",
    "    {\"class\": \"ReLU\", \"kargs\": {\"inplace\": True}},\n",
    "    {\"class\": \"BatchNorm2d\", \"kargs\": {\"num_features\":80}},\n",
    "    {\"class\": \"Flatten\", \"kargs\": {}},\n",
    "\n",
    "    {\"class\": \"Linear\", \"kargs\": {\"in_features\": 80*256, \"out_features\": 256}}, # 80 units per IQ pair\n",
    "    {\"class\": \"ReLU\", \"kargs\": {\"inplace\": True}},\n",
    "    {\"class\": \"BatchNorm1d\", \"kargs\": {\"num_features\":256}},\n",
    "\n",
    "    {\"class\": \"Linear\", \"kargs\": {\"in_features\": 256, \"out_features\": 256}},\n",
    "]\n",
    "\n",
    "# Parameters relevant to results\n",
    "# These parameters will basically never need to change\n",
    "standalone_parameters[\"NUM_LOGS_PER_EPOCH\"] = 10\n",
    "standalone_parameters[\"BEST_MODEL_PATH\"] = \"./best_model.pth\"\n",
    "\n",
    "# uncomment for CORES dataset\n",
    "from steves_utils.CORES.utils import (\n",
    "    ALL_NODES,\n",
    "    ALL_NODES_MINIMUM_1000_EXAMPLES,\n",
    "    ALL_DAYS\n",
    ")\n",
    "\n",
    "\n",
    "standalone_parameters[\"labels_source\"] = ALL_NODES\n",
    "standalone_parameters[\"labels_target\"] = ALL_NODES\n",
    "\n",
    "standalone_parameters[\"domains_source\"] = [1]\n",
    "standalone_parameters[\"domains_target\"] = [2,3,4,5]\n",
    "\n",
    "standalone_parameters[\"pickle_name\"] = \"cores.stratified_ds.2022A.pkl\"\n",
    "\n",
    "\n",
    "# Uncomment these for ORACLE dataset\n",
    "# from steves_utils.ORACLE.utils_v2 import (\n",
    "#     ALL_DISTANCES_FEET,\n",
    "#     ALL_RUNS,\n",
    "#     ALL_SERIAL_NUMBERS,\n",
    "# )\n",
    "# standalone_parameters[\"labels_source\"] = ALL_SERIAL_NUMBERS\n",
    "# standalone_parameters[\"labels_target\"] = ALL_SERIAL_NUMBERS\n",
    "# standalone_parameters[\"domains_source\"] = [8,20, 38,50]\n",
    "# standalone_parameters[\"domains_target\"] = [14, 26, 32, 44, 56]\n",
    "# standalone_parameters[\"pickle_name\"] = \"oracle.frame_indexed.stratified_ds.2022A.pkl\"\n",
    "# standalone_parameters[\"num_examples_per_domain_per_label_source\"]=1000\n",
    "# standalone_parameters[\"num_examples_per_domain_per_label_target\"]=1000\n",
    "\n",
    "# Uncomment these for Metahan dataset\n",
    "# standalone_parameters[\"labels_source\"] = list(range(19))\n",
    "# standalone_parameters[\"labels_target\"] = list(range(19))\n",
    "# standalone_parameters[\"domains_source\"] = [0]\n",
    "# standalone_parameters[\"domains_target\"] = [1]\n",
    "# standalone_parameters[\"pickle_name\"] = \"metehan.stratified_ds.2022A.pkl\"\n",
    "# standalone_parameters[\"n_way\"]  = len(standalone_parameters[\"labels_source\"])\n",
    "# standalone_parameters[\"num_examples_per_domain_per_label_source\"]=200\n",
    "# standalone_parameters[\"num_examples_per_domain_per_label_target\"]=100\n",
    "\n",
    "\n",
    "standalone_parameters[\"n_way\"]  = len(standalone_parameters[\"labels_source\"])"
   ]
  },
  {
   "cell_type": "code",
   "execution_count": 4,
   "id": "8971ab3a",
   "metadata": {
    "execution": {
     "iopub.execute_input": "2022-03-25T21:36:34.139955Z",
     "iopub.status.busy": "2022-03-25T21:36:34.139019Z",
     "iopub.status.idle": "2022-03-25T21:36:34.163030Z",
     "shell.execute_reply": "2022-03-25T21:36:34.162219Z"
    },
    "papermill": {
     "duration": 0.051918,
     "end_time": "2022-03-25T21:36:34.163183",
     "exception": false,
     "start_time": "2022-03-25T21:36:34.111265",
     "status": "completed"
    },
    "tags": [
     "injected-parameters"
    ]
   },
   "outputs": [],
   "source": [
    "# Parameters\n",
    "parameters = {\n",
    "    \"experiment_name\": \"tuned_1v2:oracle.run1.framed\",\n",
    "    \"device\": \"cuda\",\n",
    "    \"lr\": 0.0001,\n",
    "    \"labels_source\": [\n",
    "        \"3123D52\",\n",
    "        \"3123D65\",\n",
    "        \"3123D79\",\n",
    "        \"3123D80\",\n",
    "        \"3123D54\",\n",
    "        \"3123D70\",\n",
    "        \"3123D7B\",\n",
    "        \"3123D89\",\n",
    "        \"3123D58\",\n",
    "        \"3123D76\",\n",
    "        \"3123D7D\",\n",
    "        \"3123EFE\",\n",
    "        \"3123D64\",\n",
    "        \"3123D78\",\n",
    "        \"3123D7E\",\n",
    "        \"3124E4A\",\n",
    "    ],\n",
    "    \"labels_target\": [\n",
    "        \"3123D52\",\n",
    "        \"3123D65\",\n",
    "        \"3123D79\",\n",
    "        \"3123D80\",\n",
    "        \"3123D54\",\n",
    "        \"3123D70\",\n",
    "        \"3123D7B\",\n",
    "        \"3123D89\",\n",
    "        \"3123D58\",\n",
    "        \"3123D76\",\n",
    "        \"3123D7D\",\n",
    "        \"3123EFE\",\n",
    "        \"3123D64\",\n",
    "        \"3123D78\",\n",
    "        \"3123D7E\",\n",
    "        \"3124E4A\",\n",
    "    ],\n",
    "    \"episode_transforms_source\": [],\n",
    "    \"episode_transforms_target\": [],\n",
    "    \"domains_source\": [8, 32, 50],\n",
    "    \"domains_target\": [14, 20, 26, 38, 44],\n",
    "    \"num_examples_per_domain_per_label_source\": -1,\n",
    "    \"num_examples_per_domain_per_label_target\": -1,\n",
    "    \"n_shot\": 3,\n",
    "    \"n_way\": 16,\n",
    "    \"n_query\": 2,\n",
    "    \"train_k_factor\": 3,\n",
    "    \"val_k_factor\": 2,\n",
    "    \"test_k_factor\": 2,\n",
    "    \"torch_default_dtype\": \"torch.float32\",\n",
    "    \"n_epoch\": 50,\n",
    "    \"patience\": 3,\n",
    "    \"criteria_for_best\": \"target_accuracy\",\n",
    "    \"x_net\": [\n",
    "        {\"class\": \"nnReshape\", \"kargs\": {\"shape\": [-1, 1, 2, 256]}},\n",
    "        {\n",
    "            \"class\": \"Conv2d\",\n",
    "            \"kargs\": {\n",
    "                \"in_channels\": 1,\n",
    "                \"out_channels\": 256,\n",
    "                \"kernel_size\": [1, 7],\n",
    "                \"bias\": False,\n",
    "                \"padding\": [0, 3],\n",
    "            },\n",
    "        },\n",
    "        {\"class\": \"ReLU\", \"kargs\": {\"inplace\": True}},\n",
    "        {\"class\": \"BatchNorm2d\", \"kargs\": {\"num_features\": 256}},\n",
    "        {\n",
    "            \"class\": \"Conv2d\",\n",
    "            \"kargs\": {\n",
    "                \"in_channels\": 256,\n",
    "                \"out_channels\": 80,\n",
    "                \"kernel_size\": [2, 7],\n",
    "                \"bias\": True,\n",
    "                \"padding\": [0, 3],\n",
    "            },\n",
    "        },\n",
    "        {\"class\": \"ReLU\", \"kargs\": {\"inplace\": True}},\n",
    "        {\"class\": \"BatchNorm2d\", \"kargs\": {\"num_features\": 80}},\n",
    "        {\"class\": \"Flatten\", \"kargs\": {}},\n",
    "        {\"class\": \"Linear\", \"kargs\": {\"in_features\": 20480, \"out_features\": 256}},\n",
    "        {\"class\": \"ReLU\", \"kargs\": {\"inplace\": True}},\n",
    "        {\"class\": \"BatchNorm1d\", \"kargs\": {\"num_features\": 256}},\n",
    "        {\"class\": \"Linear\", \"kargs\": {\"in_features\": 256, \"out_features\": 256}},\n",
    "    ],\n",
    "    \"NUM_LOGS_PER_EPOCH\": 10,\n",
    "    \"BEST_MODEL_PATH\": \"./best_model.pth\",\n",
    "    \"pickle_name\": \"oracle.Run1_framed_2000Examples_stratified_ds.2022A.pkl\",\n",
    "    \"x_transforms_source\": [\"unit_mag\"],\n",
    "    \"x_transforms_target\": [\"unit_mag\"],\n",
    "    \"dataset_seed\": 154325,\n",
    "    \"seed\": 154325,\n",
    "}\n"
   ]
  },
  {
   "cell_type": "code",
   "execution_count": 5,
   "id": "8fa1cc33",
   "metadata": {
    "execution": {
     "iopub.execute_input": "2022-03-25T21:36:34.205738Z",
     "iopub.status.busy": "2022-03-25T21:36:34.205174Z",
     "iopub.status.idle": "2022-03-25T21:36:34.228398Z",
     "shell.execute_reply": "2022-03-25T21:36:34.227596Z"
    },
    "papermill": {
     "duration": 0.042086,
     "end_time": "2022-03-25T21:36:34.228549",
     "exception": false,
     "start_time": "2022-03-25T21:36:34.186463",
     "status": "completed"
    },
    "tags": []
   },
   "outputs": [],
   "source": [
    "# Set this to True if you want to run this template directly\n",
    "STANDALONE = False\n",
    "if STANDALONE:\n",
    "    print(\"parameters not injected, running with standalone_parameters\")\n",
    "    parameters = standalone_parameters\n",
    "\n",
    "if not 'parameters' in locals() and not 'parameters' in globals():\n",
    "    raise Exception(\"Parameter injection failed\")\n",
    "\n",
    "#Use an easy dict for all the parameters\n",
    "p = EasyDict(parameters)\n",
    "\n",
    "supplied_keys = set(p.keys())\n",
    "\n",
    "if  supplied_keys != required_parameters:\n",
    "    print(\"Parameters are incorrect\")\n",
    "    if len(supplied_keys - required_parameters)>0: print(\"Shouldn't have:\", str(supplied_keys - required_parameters))\n",
    "    if len(required_parameters - supplied_keys)>0: print(\"Need to have:\", str(required_parameters - supplied_keys))\n",
    "    raise RuntimeError(\"Parameters are incorrect\")\n",
    "\n"
   ]
  },
  {
   "cell_type": "code",
   "execution_count": 6,
   "id": "3a028d58",
   "metadata": {
    "execution": {
     "iopub.execute_input": "2022-03-25T21:36:34.268906Z",
     "iopub.status.busy": "2022-03-25T21:36:34.268540Z",
     "iopub.status.idle": "2022-03-25T21:36:34.292115Z",
     "shell.execute_reply": "2022-03-25T21:36:34.291378Z"
    },
    "papermill": {
     "duration": 0.040916,
     "end_time": "2022-03-25T21:36:34.292269",
     "exception": false,
     "start_time": "2022-03-25T21:36:34.251353",
     "status": "completed"
    },
    "tags": []
   },
   "outputs": [],
   "source": [
    "###################################\n",
    "# Set the RNGs and make it all deterministic\n",
    "###################################\n",
    "np.random.seed(p.seed)\n",
    "random.seed(p.seed)\n",
    "torch.manual_seed(p.seed)\n",
    "\n",
    "torch.use_deterministic_algorithms(True) "
   ]
  },
  {
   "cell_type": "code",
   "execution_count": 7,
   "id": "b691acf6",
   "metadata": {
    "execution": {
     "iopub.execute_input": "2022-03-25T21:36:34.334205Z",
     "iopub.status.busy": "2022-03-25T21:36:34.333756Z",
     "iopub.status.idle": "2022-03-25T21:36:34.359269Z",
     "shell.execute_reply": "2022-03-25T21:36:34.358558Z"
    },
    "papermill": {
     "duration": 0.044321,
     "end_time": "2022-03-25T21:36:34.359422",
     "exception": false,
     "start_time": "2022-03-25T21:36:34.315101",
     "status": "completed"
    },
    "tags": []
   },
   "outputs": [],
   "source": [
    "###########################################\n",
    "# The stratified datasets honor this\n",
    "###########################################\n",
    "torch.set_default_dtype(eval(p.torch_default_dtype))"
   ]
  },
  {
   "cell_type": "code",
   "execution_count": 8,
   "id": "b5fba671",
   "metadata": {
    "execution": {
     "iopub.execute_input": "2022-03-25T21:36:34.398796Z",
     "iopub.status.busy": "2022-03-25T21:36:34.398400Z",
     "iopub.status.idle": "2022-03-25T21:36:34.457509Z",
     "shell.execute_reply": "2022-03-25T21:36:34.456690Z"
    },
    "papermill": {
     "duration": 0.076548,
     "end_time": "2022-03-25T21:36:34.457663",
     "exception": false,
     "start_time": "2022-03-25T21:36:34.381115",
     "status": "completed"
    },
    "tags": []
   },
   "outputs": [],
   "source": [
    "###################################\n",
    "# Build the network(s)\n",
    "# Note: It's critical to do this AFTER setting the RNG\n",
    "# (This is due to the randomized initial weights)\n",
    "###################################\n",
    "x_net = build_sequential(p.x_net)"
   ]
  },
  {
   "cell_type": "code",
   "execution_count": 9,
   "id": "5d7e61cc",
   "metadata": {
    "execution": {
     "iopub.execute_input": "2022-03-25T21:36:34.499966Z",
     "iopub.status.busy": "2022-03-25T21:36:34.499578Z",
     "iopub.status.idle": "2022-03-25T21:36:34.524444Z",
     "shell.execute_reply": "2022-03-25T21:36:34.523630Z"
    },
    "papermill": {
     "duration": 0.044285,
     "end_time": "2022-03-25T21:36:34.524597",
     "exception": false,
     "start_time": "2022-03-25T21:36:34.480312",
     "status": "completed"
    },
    "tags": []
   },
   "outputs": [],
   "source": [
    "start_time_secs = time.time()"
   ]
  },
  {
   "cell_type": "code",
   "execution_count": 10,
   "id": "fd5442bc",
   "metadata": {
    "execution": {
     "iopub.execute_input": "2022-03-25T21:36:34.573867Z",
     "iopub.status.busy": "2022-03-25T21:36:34.573002Z",
     "iopub.status.idle": "2022-03-25T21:36:55.613473Z",
     "shell.execute_reply": "2022-03-25T21:36:55.612722Z"
    },
    "papermill": {
     "duration": 21.067653,
     "end_time": "2022-03-25T21:36:55.613667",
     "exception": false,
     "start_time": "2022-03-25T21:36:34.546014",
     "status": "completed"
    },
    "tags": []
   },
   "outputs": [],
   "source": [
    "###################################\n",
    "# Build the dataset\n",
    "###################################\n",
    "\n",
    "if p.x_transforms_source == []: x_transform_source = None\n",
    "else: x_transform_source = get_chained_transform(p.x_transforms_source) \n",
    "\n",
    "if p.x_transforms_target == []: x_transform_target = None\n",
    "else: x_transform_target = get_chained_transform(p.x_transforms_target)\n",
    "\n",
    "if p.episode_transforms_source == []: episode_transform_source = None\n",
    "else: raise Exception(\"episode_transform_source not implemented\")\n",
    "\n",
    "if p.episode_transforms_target == []: episode_transform_target = None\n",
    "else: raise Exception(\"episode_transform_target not implemented\")\n",
    "\n",
    "\n",
    "eaf_source = Episodic_Accessor_Factory(\n",
    "    labels=p.labels_source,\n",
    "    domains=p.domains_source,\n",
    "    num_examples_per_domain_per_label=p.num_examples_per_domain_per_label_source,\n",
    "    iterator_seed=p.seed,\n",
    "    dataset_seed=p.dataset_seed,\n",
    "    n_shot=p.n_shot,\n",
    "    n_way=p.n_way,\n",
    "    n_query=p.n_query,\n",
    "    train_val_test_k_factors=(p.train_k_factor,p.val_k_factor,p.test_k_factor),\n",
    "    pickle_path=os.path.join(get_datasets_base_path(), p.pickle_name),\n",
    "    x_transform_func=x_transform_source,\n",
    "    example_transform_func=episode_transform_source,\n",
    "    \n",
    ")\n",
    "train_original_source, val_original_source, test_original_source = eaf_source.get_train(), eaf_source.get_val(), eaf_source.get_test()\n",
    "\n",
    "\n",
    "eaf_target = Episodic_Accessor_Factory(\n",
    "    labels=p.labels_target,\n",
    "    domains=p.domains_target,\n",
    "    num_examples_per_domain_per_label=p.num_examples_per_domain_per_label_target,\n",
    "    iterator_seed=p.seed,\n",
    "    dataset_seed=p.dataset_seed,\n",
    "    n_shot=p.n_shot,\n",
    "    n_way=p.n_way,\n",
    "    n_query=p.n_query,\n",
    "    train_val_test_k_factors=(p.train_k_factor,p.val_k_factor,p.test_k_factor),\n",
    "    pickle_path=os.path.join(get_datasets_base_path(), p.pickle_name),\n",
    "    x_transform_func=x_transform_target,\n",
    "    example_transform_func=episode_transform_target,\n",
    ")\n",
    "train_original_target, val_original_target, test_original_target = eaf_target.get_train(), eaf_target.get_val(), eaf_target.get_test()\n",
    "\n",
    "\n",
    "transform_lambda = lambda ex: ex[1] # Original is (<domain>, <episode>) so we strip down to episode only\n",
    "\n",
    "train_processed_source = Lazy_Iterable_Wrapper(train_original_source, transform_lambda)\n",
    "val_processed_source   = Lazy_Iterable_Wrapper(val_original_source, transform_lambda)\n",
    "test_processed_source  = Lazy_Iterable_Wrapper(test_original_source, transform_lambda)\n",
    "\n",
    "train_processed_target = Lazy_Iterable_Wrapper(train_original_target, transform_lambda)\n",
    "val_processed_target   = Lazy_Iterable_Wrapper(val_original_target, transform_lambda)\n",
    "test_processed_target  = Lazy_Iterable_Wrapper(test_original_target, transform_lambda)\n",
    "\n",
    "datasets = EasyDict({\n",
    "    \"source\": {\n",
    "        \"original\": {\"train\":train_original_source, \"val\":val_original_source, \"test\":test_original_source},\n",
    "        \"processed\": {\"train\":train_processed_source, \"val\":val_processed_source, \"test\":test_processed_source}\n",
    "    },\n",
    "    \"target\": {\n",
    "        \"original\": {\"train\":train_original_target, \"val\":val_original_target, \"test\":test_original_target},\n",
    "        \"processed\": {\"train\":train_processed_target, \"val\":val_processed_target, \"test\":test_processed_target}\n",
    "    },\n",
    "})"
   ]
  },
  {
   "cell_type": "code",
   "execution_count": 11,
   "id": "296189d9",
   "metadata": {
    "execution": {
     "iopub.execute_input": "2022-03-25T21:36:55.658792Z",
     "iopub.status.busy": "2022-03-25T21:36:55.657945Z",
     "iopub.status.idle": "2022-03-25T21:37:02.978821Z",
     "shell.execute_reply": "2022-03-25T21:37:02.979688Z"
    },
    "papermill": {
     "duration": 7.344689,
     "end_time": "2022-03-25T21:37:02.979902",
     "exception": false,
     "start_time": "2022-03-25T21:36:55.635213",
     "status": "completed"
    },
    "tags": []
   },
   "outputs": [
    {
     "name": "stdout",
     "output_type": "stream",
     "text": [
      "Visually inspect these to see if they line up with expected values given the transforms\n",
      "x_transforms_source ['unit_mag']\n",
      "x_transforms_target ['unit_mag']\n",
      "Average magnitude, source: 1.0\n",
      "Average power, source: 1.0694385\n"
     ]
    },
    {
     "name": "stdout",
     "output_type": "stream",
     "text": [
      "Average magnitude, target: 1.0\n",
      "Average power, target: 1.0759504\n"
     ]
    }
   ],
   "source": [
    "# Some quick unit tests on the data\n",
    "from steves_utils.transforms import get_average_power, get_average_magnitude\n",
    "\n",
    "q_x, q_y, s_x, s_y, truth = next(iter(train_processed_source))\n",
    "\n",
    "assert q_x.dtype == eval(p.torch_default_dtype)\n",
    "assert s_x.dtype == eval(p.torch_default_dtype)\n",
    "\n",
    "print(\"Visually inspect these to see if they line up with expected values given the transforms\")\n",
    "print('x_transforms_source', p.x_transforms_source)\n",
    "print('x_transforms_target', p.x_transforms_target)\n",
    "print(\"Average magnitude, source:\", get_average_magnitude(q_x[0].numpy()))\n",
    "print(\"Average power, source:\", get_average_power(q_x[0].numpy()))\n",
    "\n",
    "q_x, q_y, s_x, s_y, truth = next(iter(train_processed_target))\n",
    "print(\"Average magnitude, target:\", get_average_magnitude(q_x[0].numpy()))\n",
    "print(\"Average power, target:\", get_average_power(q_x[0].numpy()))\n"
   ]
  },
  {
   "cell_type": "code",
   "execution_count": 12,
   "id": "bbdacba1",
   "metadata": {
    "execution": {
     "iopub.execute_input": "2022-03-25T21:37:03.020754Z",
     "iopub.status.busy": "2022-03-25T21:37:03.019932Z",
     "iopub.status.idle": "2022-03-25T21:37:03.177725Z",
     "shell.execute_reply": "2022-03-25T21:37:03.178044Z"
    },
    "papermill": {
     "duration": 0.179404,
     "end_time": "2022-03-25T21:37:03.178178",
     "exception": false,
     "start_time": "2022-03-25T21:37:02.998774",
     "status": "completed"
    },
    "tags": []
   },
   "outputs": [
    {
     "name": "stdout",
     "output_type": "stream",
     "text": [
      "(2, 256)\n"
     ]
    }
   ],
   "source": [
    "###################################\n",
    "# Build the model\n",
    "###################################\n",
    "model = Steves_Prototypical_Network(x_net, device=p.device, x_shape=(2,256))\n",
    "optimizer = Adam(params=model.parameters(), lr=p.lr)"
   ]
  },
  {
   "cell_type": "code",
   "execution_count": 13,
   "id": "22b39ac5",
   "metadata": {
    "execution": {
     "iopub.execute_input": "2022-03-25T21:37:03.215519Z",
     "iopub.status.busy": "2022-03-25T21:37:03.215145Z",
     "iopub.status.idle": "2022-03-25T22:00:04.150558Z",
     "shell.execute_reply": "2022-03-25T22:00:04.150224Z"
    },
    "papermill": {
     "duration": 1380.95608,
     "end_time": "2022-03-25T22:00:04.150643",
     "exception": false,
     "start_time": "2022-03-25T21:37:03.194563",
     "status": "completed"
    },
    "tags": []
   },
   "outputs": [
    {
     "name": "stdout",
     "output_type": "stream",
     "text": [
      "epoch: 1, [batch: 1 / 2520], examples_per_second: 81.5181, train_label_loss: 2.8637, \n"
     ]
    },
    {
     "name": "stdout",
     "output_type": "stream",
     "text": [
      "epoch: 1, [batch: 252 / 2520], examples_per_second: 1694.7478, train_label_loss: 1.4891, \n"
     ]
    },
    {
     "name": "stdout",
     "output_type": "stream",
     "text": [
      "epoch: 1, [batch: 504 / 2520], examples_per_second: 2248.9423, train_label_loss: 1.3533, \n"
     ]
    },
    {
     "name": "stdout",
     "output_type": "stream",
     "text": [
      "epoch: 1, [batch: 756 / 2520], examples_per_second: 1702.7836, train_label_loss: 0.9443, \n"
     ]
    },
    {
     "name": "stdout",
     "output_type": "stream",
     "text": [
      "epoch: 1, [batch: 1008 / 2520], examples_per_second: 1802.7496, train_label_loss: 0.7919, \n"
     ]
    },
    {
     "name": "stdout",
     "output_type": "stream",
     "text": [
      "epoch: 1, [batch: 1260 / 2520], examples_per_second: 2188.3057, train_label_loss: 0.7439, \n"
     ]
    },
    {
     "name": "stdout",
     "output_type": "stream",
     "text": [
      "epoch: 1, [batch: 1512 / 2520], examples_per_second: 2807.0766, train_label_loss: 0.8668, \n"
     ]
    },
    {
     "name": "stdout",
     "output_type": "stream",
     "text": [
      "epoch: 1, [batch: 1764 / 2520], examples_per_second: 2743.6873, train_label_loss: 0.3664, \n"
     ]
    },
    {
     "name": "stdout",
     "output_type": "stream",
     "text": [
      "epoch: 1, [batch: 2016 / 2520], examples_per_second: 3330.1996, train_label_loss: 0.8107, \n"
     ]
    },
    {
     "name": "stdout",
     "output_type": "stream",
     "text": [
      "epoch: 1, [batch: 2268 / 2520], examples_per_second: 3374.0625, train_label_loss: 0.6073, \n"
     ]
    },
    {
     "name": "stdout",
     "output_type": "stream",
     "text": [
      "=============================================================\n",
      "epoch: 1, source_val_acc_label: 0.6618, target_val_acc_label: 0.5988, source_val_label_loss: 25.0975, target_val_label_loss: 15.4945, \n",
      "=============================================================\n"
     ]
    },
    {
     "name": "stdout",
     "output_type": "stream",
     "text": [
      "New best\n"
     ]
    },
    {
     "name": "stdout",
     "output_type": "stream",
     "text": [
      "epoch: 2, [batch: 1 / 2520], examples_per_second: 8.5705, train_label_loss: 0.8992, \n"
     ]
    },
    {
     "name": "stdout",
     "output_type": "stream",
     "text": [
      "epoch: 2, [batch: 252 / 2520], examples_per_second: 3976.2054, train_label_loss: 0.6422, \n"
     ]
    },
    {
     "name": "stdout",
     "output_type": "stream",
     "text": [
      "epoch: 2, [batch: 504 / 2520], examples_per_second: 3900.7595, train_label_loss: 0.7434, \n"
     ]
    },
    {
     "name": "stdout",
     "output_type": "stream",
     "text": [
      "epoch: 2, [batch: 756 / 2520], examples_per_second: 4055.0545, train_label_loss: 0.6742, \n"
     ]
    },
    {
     "name": "stdout",
     "output_type": "stream",
     "text": [
      "epoch: 2, [batch: 1008 / 2520], examples_per_second: 3910.9008, train_label_loss: 0.5629, \n"
     ]
    },
    {
     "name": "stdout",
     "output_type": "stream",
     "text": [
      "epoch: 2, [batch: 1260 / 2520], examples_per_second: 4402.0667, train_label_loss: 0.8369, \n"
     ]
    },
    {
     "name": "stdout",
     "output_type": "stream",
     "text": [
      "epoch: 2, [batch: 1512 / 2520], examples_per_second: 4541.1999, train_label_loss: 0.3769, \n"
     ]
    },
    {
     "name": "stdout",
     "output_type": "stream",
     "text": [
      "epoch: 2, [batch: 1764 / 2520], examples_per_second: 4621.1856, train_label_loss: 0.7522, \n"
     ]
    },
    {
     "name": "stdout",
     "output_type": "stream",
     "text": [
      "epoch: 2, [batch: 2016 / 2520], examples_per_second: 4575.1753, train_label_loss: 0.4110, \n"
     ]
    },
    {
     "name": "stdout",
     "output_type": "stream",
     "text": [
      "epoch: 2, [batch: 2268 / 2520], examples_per_second: 3857.3825, train_label_loss: 0.6466, \n"
     ]
    },
    {
     "name": "stdout",
     "output_type": "stream",
     "text": [
      "=============================================================\n",
      "epoch: 2, source_val_acc_label: 0.8155, target_val_acc_label: 0.7527, source_val_label_loss: 0.5257, target_val_label_loss: 3.6203, \n",
      "=============================================================\n"
     ]
    },
    {
     "name": "stdout",
     "output_type": "stream",
     "text": [
      "New best\n"
     ]
    },
    {
     "name": "stdout",
     "output_type": "stream",
     "text": [
      "epoch: 3, [batch: 1 / 2520], examples_per_second: 3.5065, train_label_loss: 0.4172, \n"
     ]
    },
    {
     "name": "stdout",
     "output_type": "stream",
     "text": [
      "epoch: 3, [batch: 252 / 2520], examples_per_second: 1698.2189, train_label_loss: 0.5367, \n"
     ]
    },
    {
     "name": "stdout",
     "output_type": "stream",
     "text": [
      "epoch: 3, [batch: 504 / 2520], examples_per_second: 1731.9448, train_label_loss: 0.5475, \n"
     ]
    },
    {
     "name": "stdout",
     "output_type": "stream",
     "text": [
      "epoch: 3, [batch: 756 / 2520], examples_per_second: 2224.7941, train_label_loss: 0.6824, \n"
     ]
    },
    {
     "name": "stdout",
     "output_type": "stream",
     "text": [
      "epoch: 3, [batch: 1008 / 2520], examples_per_second: 1724.2613, train_label_loss: 0.6950, \n"
     ]
    },
    {
     "name": "stdout",
     "output_type": "stream",
     "text": [
      "epoch: 3, [batch: 1260 / 2520], examples_per_second: 1838.6681, train_label_loss: 0.4970, \n"
     ]
    },
    {
     "name": "stdout",
     "output_type": "stream",
     "text": [
      "epoch: 3, [batch: 1512 / 2520], examples_per_second: 2258.7071, train_label_loss: 0.4827, \n"
     ]
    },
    {
     "name": "stdout",
     "output_type": "stream",
     "text": [
      "epoch: 3, [batch: 1764 / 2520], examples_per_second: 1930.4366, train_label_loss: 0.8088, \n"
     ]
    },
    {
     "name": "stdout",
     "output_type": "stream",
     "text": [
      "epoch: 3, [batch: 2016 / 2520], examples_per_second: 1881.8703, train_label_loss: 0.7543, \n"
     ]
    },
    {
     "name": "stdout",
     "output_type": "stream",
     "text": [
      "epoch: 3, [batch: 2268 / 2520], examples_per_second: 1788.6544, train_label_loss: 0.2373, \n"
     ]
    },
    {
     "name": "stdout",
     "output_type": "stream",
     "text": [
      "=============================================================\n",
      "epoch: 3, source_val_acc_label: 0.8165, target_val_acc_label: 0.7363, source_val_label_loss: 0.5202, target_val_label_loss: 3.8032, \n",
      "=============================================================\n"
     ]
    },
    {
     "name": "stdout",
     "output_type": "stream",
     "text": [
      "epoch: 4, [batch: 1 / 2520], examples_per_second: 3.3138, train_label_loss: 0.5171, \n"
     ]
    },
    {
     "name": "stdout",
     "output_type": "stream",
     "text": [
      "epoch: 4, [batch: 252 / 2520], examples_per_second: 1672.8029, train_label_loss: 0.5722, \n"
     ]
    },
    {
     "name": "stdout",
     "output_type": "stream",
     "text": [
      "epoch: 4, [batch: 504 / 2520], examples_per_second: 1736.6725, train_label_loss: 0.3511, \n"
     ]
    },
    {
     "name": "stdout",
     "output_type": "stream",
     "text": [
      "epoch: 4, [batch: 756 / 2520], examples_per_second: 2169.4661, train_label_loss: 0.4243, \n"
     ]
    },
    {
     "name": "stdout",
     "output_type": "stream",
     "text": [
      "epoch: 4, [batch: 1008 / 2520], examples_per_second: 1706.7502, train_label_loss: 0.3308, \n"
     ]
    },
    {
     "name": "stdout",
     "output_type": "stream",
     "text": [
      "epoch: 4, [batch: 1260 / 2520], examples_per_second: 1812.0207, train_label_loss: 0.3036, \n"
     ]
    },
    {
     "name": "stdout",
     "output_type": "stream",
     "text": [
      "epoch: 4, [batch: 1512 / 2520], examples_per_second: 2315.0769, train_label_loss: 0.3851, \n"
     ]
    },
    {
     "name": "stdout",
     "output_type": "stream",
     "text": [
      "epoch: 4, [batch: 1764 / 2520], examples_per_second: 2697.8429, train_label_loss: 0.3969, \n"
     ]
    },
    {
     "name": "stdout",
     "output_type": "stream",
     "text": [
      "epoch: 4, [batch: 2016 / 2520], examples_per_second: 2897.9575, train_label_loss: 0.5084, \n"
     ]
    },
    {
     "name": "stdout",
     "output_type": "stream",
     "text": [
      "epoch: 4, [batch: 2268 / 2520], examples_per_second: 3034.5270, train_label_loss: 0.5352, \n"
     ]
    },
    {
     "name": "stdout",
     "output_type": "stream",
     "text": [
      "=============================================================\n",
      "epoch: 4, source_val_acc_label: 0.8303, target_val_acc_label: 0.7527, source_val_label_loss: 0.5233, target_val_label_loss: 4.2717, \n",
      "=============================================================\n"
     ]
    },
    {
     "name": "stdout",
     "output_type": "stream",
     "text": [
      "epoch: 5, [batch: 1 / 2520], examples_per_second: 8.4636, train_label_loss: 0.4583, \n"
     ]
    },
    {
     "name": "stdout",
     "output_type": "stream",
     "text": [
      "epoch: 5, [batch: 252 / 2520], examples_per_second: 3929.4374, train_label_loss: 0.2477, \n"
     ]
    },
    {
     "name": "stdout",
     "output_type": "stream",
     "text": [
      "epoch: 5, [batch: 504 / 2520], examples_per_second: 3845.9360, train_label_loss: 0.3508, \n"
     ]
    },
    {
     "name": "stdout",
     "output_type": "stream",
     "text": [
      "epoch: 5, [batch: 756 / 2520], examples_per_second: 3858.1180, train_label_loss: 0.3111, \n"
     ]
    },
    {
     "name": "stdout",
     "output_type": "stream",
     "text": [
      "epoch: 5, [batch: 1008 / 2520], examples_per_second: 3974.9366, train_label_loss: 0.2235, \n"
     ]
    },
    {
     "name": "stdout",
     "output_type": "stream",
     "text": [
      "epoch: 5, [batch: 1260 / 2520], examples_per_second: 4069.6271, train_label_loss: 0.5918, \n"
     ]
    },
    {
     "name": "stdout",
     "output_type": "stream",
     "text": [
      "epoch: 5, [batch: 1512 / 2520], examples_per_second: 4395.1746, train_label_loss: 0.5446, \n"
     ]
    },
    {
     "name": "stdout",
     "output_type": "stream",
     "text": [
      "epoch: 5, [batch: 1764 / 2520], examples_per_second: 4365.6395, train_label_loss: 0.5157, \n"
     ]
    },
    {
     "name": "stdout",
     "output_type": "stream",
     "text": [
      "epoch: 5, [batch: 2016 / 2520], examples_per_second: 4912.1519, train_label_loss: 0.1769, \n"
     ]
    },
    {
     "name": "stdout",
     "output_type": "stream",
     "text": [
      "epoch: 5, [batch: 2268 / 2520], examples_per_second: 3908.6704, train_label_loss: 0.3838, \n"
     ]
    },
    {
     "name": "stdout",
     "output_type": "stream",
     "text": [
      "=============================================================\n",
      "epoch: 5, source_val_acc_label: 0.8628, target_val_acc_label: 0.7823, source_val_label_loss: 0.4590, target_val_label_loss: 4.3838, \n",
      "=============================================================\n"
     ]
    },
    {
     "name": "stdout",
     "output_type": "stream",
     "text": [
      "New best\n"
     ]
    },
    {
     "name": "stdout",
     "output_type": "stream",
     "text": [
      "epoch: 6, [batch: 1 / 2520], examples_per_second: 3.7524, train_label_loss: 0.0846, \n"
     ]
    },
    {
     "name": "stdout",
     "output_type": "stream",
     "text": [
      "epoch: 6, [batch: 252 / 2520], examples_per_second: 1689.5501, train_label_loss: 0.2179, \n"
     ]
    },
    {
     "name": "stdout",
     "output_type": "stream",
     "text": [
      "epoch: 6, [batch: 504 / 2520], examples_per_second: 1691.6778, train_label_loss: 0.3677, \n"
     ]
    },
    {
     "name": "stdout",
     "output_type": "stream",
     "text": [
      "epoch: 6, [batch: 756 / 2520], examples_per_second: 2044.4795, train_label_loss: 0.5794, \n"
     ]
    },
    {
     "name": "stdout",
     "output_type": "stream",
     "text": [
      "epoch: 6, [batch: 1008 / 2520], examples_per_second: 1858.6774, train_label_loss: 0.4237, \n"
     ]
    },
    {
     "name": "stdout",
     "output_type": "stream",
     "text": [
      "epoch: 6, [batch: 1260 / 2520], examples_per_second: 1849.0069, train_label_loss: 0.2036, \n"
     ]
    },
    {
     "name": "stdout",
     "output_type": "stream",
     "text": [
      "epoch: 6, [batch: 1512 / 2520], examples_per_second: 1940.4070, train_label_loss: 0.2444, \n"
     ]
    },
    {
     "name": "stdout",
     "output_type": "stream",
     "text": [
      "epoch: 6, [batch: 1764 / 2520], examples_per_second: 2286.2957, train_label_loss: 0.4037, \n"
     ]
    },
    {
     "name": "stdout",
     "output_type": "stream",
     "text": [
      "epoch: 6, [batch: 2016 / 2520], examples_per_second: 1905.2983, train_label_loss: 0.2736, \n"
     ]
    },
    {
     "name": "stdout",
     "output_type": "stream",
     "text": [
      "epoch: 6, [batch: 2268 / 2520], examples_per_second: 1686.7697, train_label_loss: 0.2971, \n"
     ]
    },
    {
     "name": "stdout",
     "output_type": "stream",
     "text": [
      "=============================================================\n",
      "epoch: 6, source_val_acc_label: 0.8897, target_val_acc_label: 0.7953, source_val_label_loss: 0.4123, target_val_label_loss: 4.8358, \n",
      "=============================================================\n"
     ]
    },
    {
     "name": "stdout",
     "output_type": "stream",
     "text": [
      "New best\n"
     ]
    },
    {
     "name": "stdout",
     "output_type": "stream",
     "text": [
      "epoch: 7, [batch: 1 / 2520], examples_per_second: 3.3586, train_label_loss: 0.3092, \n"
     ]
    },
    {
     "name": "stdout",
     "output_type": "stream",
     "text": [
      "epoch: 7, [batch: 252 / 2520], examples_per_second: 1672.4453, train_label_loss: 0.1911, \n"
     ]
    },
    {
     "name": "stdout",
     "output_type": "stream",
     "text": [
      "epoch: 7, [batch: 504 / 2520], examples_per_second: 1668.4634, train_label_loss: 0.2834, \n"
     ]
    },
    {
     "name": "stdout",
     "output_type": "stream",
     "text": [
      "epoch: 7, [batch: 756 / 2520], examples_per_second: 2049.6853, train_label_loss: 0.2795, \n"
     ]
    },
    {
     "name": "stdout",
     "output_type": "stream",
     "text": [
      "epoch: 7, [batch: 1008 / 2520], examples_per_second: 1728.4697, train_label_loss: 0.1013, \n"
     ]
    },
    {
     "name": "stdout",
     "output_type": "stream",
     "text": [
      "epoch: 7, [batch: 1260 / 2520], examples_per_second: 1836.1495, train_label_loss: 0.0672, \n"
     ]
    },
    {
     "name": "stdout",
     "output_type": "stream",
     "text": [
      "epoch: 7, [batch: 1512 / 2520], examples_per_second: 2030.1966, train_label_loss: 0.2957, \n"
     ]
    },
    {
     "name": "stdout",
     "output_type": "stream",
     "text": [
      "epoch: 7, [batch: 1764 / 2520], examples_per_second: 2723.8969, train_label_loss: 0.3053, \n"
     ]
    },
    {
     "name": "stdout",
     "output_type": "stream",
     "text": [
      "epoch: 7, [batch: 2016 / 2520], examples_per_second: 2742.3504, train_label_loss: 0.4973, \n"
     ]
    },
    {
     "name": "stdout",
     "output_type": "stream",
     "text": [
      "epoch: 7, [batch: 2268 / 2520], examples_per_second: 3074.7723, train_label_loss: 0.2402, \n"
     ]
    },
    {
     "name": "stdout",
     "output_type": "stream",
     "text": [
      "=============================================================\n",
      "epoch: 7, source_val_acc_label: 0.8719, target_val_acc_label: 0.7805, source_val_label_loss: 0.4259, target_val_label_loss: 4.3303, \n",
      "=============================================================\n"
     ]
    },
    {
     "name": "stdout",
     "output_type": "stream",
     "text": [
      "epoch: 8, [batch: 1 / 2520], examples_per_second: 8.0870, train_label_loss: 0.6309, \n"
     ]
    },
    {
     "name": "stdout",
     "output_type": "stream",
     "text": [
      "epoch: 8, [batch: 252 / 2520], examples_per_second: 3952.9174, train_label_loss: 0.3905, \n"
     ]
    },
    {
     "name": "stdout",
     "output_type": "stream",
     "text": [
      "epoch: 8, [batch: 504 / 2520], examples_per_second: 3962.2853, train_label_loss: 0.3885, \n"
     ]
    },
    {
     "name": "stdout",
     "output_type": "stream",
     "text": [
      "epoch: 8, [batch: 756 / 2520], examples_per_second: 4011.7643, train_label_loss: 0.1506, \n"
     ]
    },
    {
     "name": "stdout",
     "output_type": "stream",
     "text": [
      "epoch: 8, [batch: 1008 / 2520], examples_per_second: 3884.5190, train_label_loss: 0.3059, \n"
     ]
    },
    {
     "name": "stdout",
     "output_type": "stream",
     "text": [
      "epoch: 8, [batch: 1260 / 2520], examples_per_second: 3913.3333, train_label_loss: 0.1097, \n"
     ]
    },
    {
     "name": "stdout",
     "output_type": "stream",
     "text": [
      "epoch: 8, [batch: 1512 / 2520], examples_per_second: 4273.4817, train_label_loss: 0.2399, \n"
     ]
    },
    {
     "name": "stdout",
     "output_type": "stream",
     "text": [
      "epoch: 8, [batch: 1764 / 2520], examples_per_second: 4260.8322, train_label_loss: 0.3270, \n"
     ]
    },
    {
     "name": "stdout",
     "output_type": "stream",
     "text": [
      "epoch: 8, [batch: 2016 / 2520], examples_per_second: 4889.7790, train_label_loss: 0.3251, \n"
     ]
    },
    {
     "name": "stdout",
     "output_type": "stream",
     "text": [
      "epoch: 8, [batch: 2268 / 2520], examples_per_second: 4062.9432, train_label_loss: 0.2179, \n"
     ]
    },
    {
     "name": "stdout",
     "output_type": "stream",
     "text": [
      "=============================================================\n",
      "epoch: 8, source_val_acc_label: 0.9000, target_val_acc_label: 0.7976, source_val_label_loss: 0.3680, target_val_label_loss: 4.2073, \n",
      "=============================================================\n"
     ]
    },
    {
     "name": "stdout",
     "output_type": "stream",
     "text": [
      "New best\n"
     ]
    },
    {
     "name": "stdout",
     "output_type": "stream",
     "text": [
      "epoch: 9, [batch: 1 / 2520], examples_per_second: 4.3571, train_label_loss: 0.1511, \n"
     ]
    },
    {
     "name": "stdout",
     "output_type": "stream",
     "text": [
      "epoch: 9, [batch: 252 / 2520], examples_per_second: 2393.6857, train_label_loss: 0.1698, \n"
     ]
    },
    {
     "name": "stdout",
     "output_type": "stream",
     "text": [
      "epoch: 9, [batch: 504 / 2520], examples_per_second: 1700.2016, train_label_loss: 0.2816, \n"
     ]
    },
    {
     "name": "stdout",
     "output_type": "stream",
     "text": [
      "epoch: 9, [batch: 756 / 2520], examples_per_second: 1698.5876, train_label_loss: 0.1928, \n"
     ]
    },
    {
     "name": "stdout",
     "output_type": "stream",
     "text": [
      "epoch: 9, [batch: 1008 / 2520], examples_per_second: 1901.2943, train_label_loss: 0.2903, \n"
     ]
    },
    {
     "name": "stdout",
     "output_type": "stream",
     "text": [
      "epoch: 9, [batch: 1260 / 2520], examples_per_second: 2088.8596, train_label_loss: 0.2357, \n"
     ]
    },
    {
     "name": "stdout",
     "output_type": "stream",
     "text": [
      "epoch: 9, [batch: 1512 / 2520], examples_per_second: 1886.9337, train_label_loss: 0.0874, \n"
     ]
    },
    {
     "name": "stdout",
     "output_type": "stream",
     "text": [
      "epoch: 9, [batch: 1764 / 2520], examples_per_second: 1846.6581, train_label_loss: 0.2992, \n"
     ]
    },
    {
     "name": "stdout",
     "output_type": "stream",
     "text": [
      "epoch: 9, [batch: 2016 / 2520], examples_per_second: 2470.7623, train_label_loss: 0.3350, \n"
     ]
    },
    {
     "name": "stdout",
     "output_type": "stream",
     "text": [
      "epoch: 9, [batch: 2268 / 2520], examples_per_second: 1865.0701, train_label_loss: 0.3358, \n"
     ]
    },
    {
     "name": "stdout",
     "output_type": "stream",
     "text": [
      "=============================================================\n",
      "epoch: 9, source_val_acc_label: 0.9089, target_val_acc_label: 0.8040, source_val_label_loss: 0.3561, target_val_label_loss: 4.5320, \n",
      "=============================================================\n"
     ]
    },
    {
     "name": "stdout",
     "output_type": "stream",
     "text": [
      "New best\n"
     ]
    },
    {
     "name": "stdout",
     "output_type": "stream",
     "text": [
      "epoch: 10, [batch: 1 / 2520], examples_per_second: 3.5632, train_label_loss: 0.1512, \n"
     ]
    },
    {
     "name": "stdout",
     "output_type": "stream",
     "text": [
      "epoch: 10, [batch: 252 / 2520], examples_per_second: 2363.7539, train_label_loss: 0.3819, \n"
     ]
    },
    {
     "name": "stdout",
     "output_type": "stream",
     "text": [
      "epoch: 10, [batch: 504 / 2520], examples_per_second: 1857.6084, train_label_loss: 0.1625, \n"
     ]
    },
    {
     "name": "stdout",
     "output_type": "stream",
     "text": [
      "epoch: 10, [batch: 756 / 2520], examples_per_second: 1801.5749, train_label_loss: 0.5939, \n"
     ]
    },
    {
     "name": "stdout",
     "output_type": "stream",
     "text": [
      "epoch: 10, [batch: 1008 / 2520], examples_per_second: 2076.9352, train_label_loss: 0.0443, \n"
     ]
    },
    {
     "name": "stdout",
     "output_type": "stream",
     "text": [
      "epoch: 10, [batch: 1260 / 2520], examples_per_second: 1994.6869, train_label_loss: 0.2555, \n"
     ]
    },
    {
     "name": "stdout",
     "output_type": "stream",
     "text": [
      "epoch: 10, [batch: 1512 / 2520], examples_per_second: 1810.9264, train_label_loss: 0.0412, \n"
     ]
    },
    {
     "name": "stdout",
     "output_type": "stream",
     "text": [
      "epoch: 10, [batch: 1764 / 2520], examples_per_second: 1870.7879, train_label_loss: 0.0488, \n"
     ]
    },
    {
     "name": "stdout",
     "output_type": "stream",
     "text": [
      "epoch: 10, [batch: 2016 / 2520], examples_per_second: 2741.7559, train_label_loss: 0.1412, \n"
     ]
    },
    {
     "name": "stdout",
     "output_type": "stream",
     "text": [
      "epoch: 10, [batch: 2268 / 2520], examples_per_second: 3404.9988, train_label_loss: 0.2341, \n"
     ]
    },
    {
     "name": "stdout",
     "output_type": "stream",
     "text": [
      "=============================================================\n",
      "epoch: 10, source_val_acc_label: 0.9007, target_val_acc_label: 0.7902, source_val_label_loss: 0.4189, target_val_label_loss: 5.0353, \n",
      "=============================================================\n"
     ]
    },
    {
     "name": "stdout",
     "output_type": "stream",
     "text": [
      "epoch: 11, [batch: 1 / 2520], examples_per_second: 9.8171, train_label_loss: 0.0992, \n"
     ]
    },
    {
     "name": "stdout",
     "output_type": "stream",
     "text": [
      "epoch: 11, [batch: 252 / 2520], examples_per_second: 5308.0102, train_label_loss: 0.0573, \n"
     ]
    },
    {
     "name": "stdout",
     "output_type": "stream",
     "text": [
      "epoch: 11, [batch: 504 / 2520], examples_per_second: 5687.2454, train_label_loss: 0.2420, \n"
     ]
    },
    {
     "name": "stdout",
     "output_type": "stream",
     "text": [
      "epoch: 11, [batch: 756 / 2520], examples_per_second: 5454.9190, train_label_loss: 0.1571, \n"
     ]
    },
    {
     "name": "stdout",
     "output_type": "stream",
     "text": [
      "epoch: 11, [batch: 1008 / 2520], examples_per_second: 5452.8675, train_label_loss: 0.1154, \n"
     ]
    },
    {
     "name": "stdout",
     "output_type": "stream",
     "text": [
      "epoch: 11, [batch: 1260 / 2520], examples_per_second: 5126.8215, train_label_loss: 0.1486, \n"
     ]
    },
    {
     "name": "stdout",
     "output_type": "stream",
     "text": [
      "epoch: 11, [batch: 1512 / 2520], examples_per_second: 5094.3188, train_label_loss: 0.1765, \n"
     ]
    },
    {
     "name": "stdout",
     "output_type": "stream",
     "text": [
      "epoch: 11, [batch: 1764 / 2520], examples_per_second: 5247.1257, train_label_loss: 0.3092, \n"
     ]
    },
    {
     "name": "stdout",
     "output_type": "stream",
     "text": [
      "epoch: 11, [batch: 2016 / 2520], examples_per_second: 5298.1708, train_label_loss: 0.2312, \n"
     ]
    },
    {
     "name": "stdout",
     "output_type": "stream",
     "text": [
      "epoch: 11, [batch: 2268 / 2520], examples_per_second: 4776.1165, train_label_loss: 0.2648, \n"
     ]
    },
    {
     "name": "stdout",
     "output_type": "stream",
     "text": [
      "=============================================================\n",
      "epoch: 11, source_val_acc_label: 0.9057, target_val_acc_label: 0.7982, source_val_label_loss: 0.3948, target_val_label_loss: 4.8453, \n",
      "=============================================================\n"
     ]
    },
    {
     "name": "stdout",
     "output_type": "stream",
     "text": [
      "epoch: 12, [batch: 1 / 2520], examples_per_second: 9.6939, train_label_loss: 0.2575, \n"
     ]
    },
    {
     "name": "stdout",
     "output_type": "stream",
     "text": [
      "epoch: 12, [batch: 252 / 2520], examples_per_second: 4048.8115, train_label_loss: 0.2391, \n"
     ]
    },
    {
     "name": "stdout",
     "output_type": "stream",
     "text": [
      "epoch: 12, [batch: 504 / 2520], examples_per_second: 3894.9452, train_label_loss: 0.0694, \n"
     ]
    },
    {
     "name": "stdout",
     "output_type": "stream",
     "text": [
      "epoch: 12, [batch: 756 / 2520], examples_per_second: 2259.8049, train_label_loss: 0.0504, \n"
     ]
    },
    {
     "name": "stdout",
     "output_type": "stream",
     "text": [
      "epoch: 12, [batch: 1008 / 2520], examples_per_second: 1696.6076, train_label_loss: 0.0388, \n"
     ]
    },
    {
     "name": "stdout",
     "output_type": "stream",
     "text": [
      "epoch: 12, [batch: 1260 / 2520], examples_per_second: 1686.9382, train_label_loss: 0.2860, \n"
     ]
    },
    {
     "name": "stdout",
     "output_type": "stream",
     "text": [
      "epoch: 12, [batch: 1512 / 2520], examples_per_second: 2511.1892, train_label_loss: 0.1963, \n"
     ]
    },
    {
     "name": "stdout",
     "output_type": "stream",
     "text": [
      "epoch: 12, [batch: 1764 / 2520], examples_per_second: 1718.4705, train_label_loss: 0.1039, \n"
     ]
    },
    {
     "name": "stdout",
     "output_type": "stream",
     "text": [
      "epoch: 12, [batch: 2016 / 2520], examples_per_second: 1804.1591, train_label_loss: 0.4386, \n"
     ]
    },
    {
     "name": "stdout",
     "output_type": "stream",
     "text": [
      "epoch: 12, [batch: 2268 / 2520], examples_per_second: 2056.3190, train_label_loss: 0.0604, \n"
     ]
    },
    {
     "name": "stdout",
     "output_type": "stream",
     "text": [
      "=============================================================\n",
      "epoch: 12, source_val_acc_label: 0.9111, target_val_acc_label: 0.8029, source_val_label_loss: 0.3941, target_val_label_loss: 4.9149, \n",
      "=============================================================\n"
     ]
    },
    {
     "name": "stdout",
     "output_type": "stream",
     "text": [
      "epoch: 13, [batch: 1 / 2520], examples_per_second: 3.4735, train_label_loss: 0.2701, \n"
     ]
    },
    {
     "name": "stdout",
     "output_type": "stream",
     "text": [
      "epoch: 13, [batch: 252 / 2520], examples_per_second: 1691.4383, train_label_loss: 0.1312, \n"
     ]
    },
    {
     "name": "stdout",
     "output_type": "stream",
     "text": [
      "epoch: 13, [batch: 504 / 2520], examples_per_second: 1794.8510, train_label_loss: 0.1621, \n"
     ]
    },
    {
     "name": "stdout",
     "output_type": "stream",
     "text": [
      "epoch: 13, [batch: 756 / 2520], examples_per_second: 2062.9939, train_label_loss: 0.2996, \n"
     ]
    },
    {
     "name": "stdout",
     "output_type": "stream",
     "text": [
      "epoch: 13, [batch: 1008 / 2520], examples_per_second: 1694.6875, train_label_loss: 0.1860, \n"
     ]
    },
    {
     "name": "stdout",
     "output_type": "stream",
     "text": [
      "epoch: 13, [batch: 1260 / 2520], examples_per_second: 1704.8362, train_label_loss: 0.0885, \n"
     ]
    },
    {
     "name": "stdout",
     "output_type": "stream",
     "text": [
      "epoch: 13, [batch: 1512 / 2520], examples_per_second: 2226.7829, train_label_loss: 0.1476, \n"
     ]
    },
    {
     "name": "stdout",
     "output_type": "stream",
     "text": [
      "epoch: 13, [batch: 1764 / 2520], examples_per_second: 2452.6004, train_label_loss: 0.0640, \n"
     ]
    },
    {
     "name": "stdout",
     "output_type": "stream",
     "text": [
      "epoch: 13, [batch: 2016 / 2520], examples_per_second: 2698.2766, train_label_loss: 0.1376, \n"
     ]
    },
    {
     "name": "stdout",
     "output_type": "stream",
     "text": [
      "epoch: 13, [batch: 2268 / 2520], examples_per_second: 3720.2058, train_label_loss: 0.1866, \n"
     ]
    },
    {
     "name": "stdout",
     "output_type": "stream",
     "text": [
      "=============================================================\n",
      "epoch: 13, source_val_acc_label: 0.9090, target_val_acc_label: 0.8040, source_val_label_loss: 0.3983, target_val_label_loss: 5.1181, \n",
      "=============================================================\n"
     ]
    },
    {
     "name": "stdout",
     "output_type": "stream",
     "text": [
      "Patience (3) exhausted\n"
     ]
    }
   ],
   "source": [
    "###################################\n",
    "# train\n",
    "###################################\n",
    "jig = PTN_Train_Eval_Test_Jig(model, p.BEST_MODEL_PATH, p.device)\n",
    "\n",
    "jig.train(\n",
    "    train_iterable=datasets.source.processed.train,\n",
    "    source_val_iterable=datasets.source.processed.val,\n",
    "    target_val_iterable=datasets.target.processed.val,\n",
    "    num_epochs=p.n_epoch,\n",
    "    num_logs_per_epoch=p.NUM_LOGS_PER_EPOCH,\n",
    "    patience=p.patience,\n",
    "    optimizer=optimizer,\n",
    "    criteria_for_best=p.criteria_for_best,\n",
    ")"
   ]
  },
  {
   "cell_type": "code",
   "execution_count": 14,
   "id": "31e8fabf",
   "metadata": {
    "execution": {
     "iopub.execute_input": "2022-03-25T22:00:04.261282Z",
     "iopub.status.busy": "2022-03-25T22:00:04.260665Z",
     "iopub.status.idle": "2022-03-25T22:00:04.294307Z",
     "shell.execute_reply": "2022-03-25T22:00:04.293523Z"
    },
    "papermill": {
     "duration": 0.091173,
     "end_time": "2022-03-25T22:00:04.294459",
     "exception": false,
     "start_time": "2022-03-25T22:00:04.203286",
     "status": "completed"
    },
    "tags": []
   },
   "outputs": [],
   "source": [
    "total_experiment_time_secs = time.time() - start_time_secs"
   ]
  },
  {
   "cell_type": "code",
   "execution_count": 15,
   "id": "87b9595b",
   "metadata": {
    "execution": {
     "iopub.execute_input": "2022-03-25T22:00:04.417629Z",
     "iopub.status.busy": "2022-03-25T22:00:04.417033Z",
     "iopub.status.idle": "2022-03-25T22:01:30.586383Z",
     "shell.execute_reply": "2022-03-25T22:01:30.587110Z"
    },
    "papermill": {
     "duration": 86.234734,
     "end_time": "2022-03-25T22:01:30.587327",
     "exception": false,
     "start_time": "2022-03-25T22:00:04.352593",
     "status": "completed"
    },
    "tags": []
   },
   "outputs": [],
   "source": [
    "###################################\n",
    "# Evaluate the model\n",
    "###################################\n",
    "source_test_label_accuracy, source_test_label_loss = jig.test(datasets.source.processed.test)\n",
    "target_test_label_accuracy, target_test_label_loss = jig.test(datasets.target.processed.test)\n",
    "\n",
    "source_val_label_accuracy, source_val_label_loss = jig.test(datasets.source.processed.val)\n",
    "target_val_label_accuracy, target_val_label_loss = jig.test(datasets.target.processed.val)\n",
    "\n",
    "history = jig.get_history()\n",
    "\n",
    "total_epochs_trained = len(history[\"epoch_indices\"])\n",
    "\n",
    "val_dl = Iterable_Aggregator((datasets.source.original.val,datasets.target.original.val))\n",
    "\n",
    "confusion = ptn_confusion_by_domain_over_dataloader(model, p.device, val_dl)\n",
    "per_domain_accuracy = per_domain_accuracy_from_confusion(confusion)\n",
    "\n",
    "# Add a key to per_domain_accuracy for if it was a source domain\n",
    "for domain, accuracy in per_domain_accuracy.items():\n",
    "    per_domain_accuracy[domain] = {\n",
    "        \"accuracy\": accuracy,\n",
    "        \"source?\": domain in p.domains_source\n",
    "    }\n",
    "\n",
    "# Do an independent accuracy assesment JUST TO BE SURE!\n",
    "# _source_test_label_accuracy = independent_accuracy_assesment(model, datasets.source.processed.test, p.device)\n",
    "# _target_test_label_accuracy = independent_accuracy_assesment(model, datasets.target.processed.test, p.device)\n",
    "# _source_val_label_accuracy = independent_accuracy_assesment(model, datasets.source.processed.val, p.device)\n",
    "# _target_val_label_accuracy = independent_accuracy_assesment(model, datasets.target.processed.val, p.device)\n",
    "\n",
    "# assert(_source_test_label_accuracy == source_test_label_accuracy)\n",
    "# assert(_target_test_label_accuracy == target_test_label_accuracy)\n",
    "# assert(_source_val_label_accuracy == source_val_label_accuracy)\n",
    "# assert(_target_val_label_accuracy == target_val_label_accuracy)\n",
    "\n",
    "experiment = {\n",
    "    \"experiment_name\": p.experiment_name,\n",
    "    \"parameters\": dict(p),\n",
    "    \"results\": {\n",
    "        \"source_test_label_accuracy\": source_test_label_accuracy,\n",
    "        \"source_test_label_loss\": source_test_label_loss,\n",
    "        \"target_test_label_accuracy\": target_test_label_accuracy,\n",
    "        \"target_test_label_loss\": target_test_label_loss,\n",
    "        \"source_val_label_accuracy\": source_val_label_accuracy,\n",
    "        \"source_val_label_loss\": source_val_label_loss,\n",
    "        \"target_val_label_accuracy\": target_val_label_accuracy,\n",
    "        \"target_val_label_loss\": target_val_label_loss,\n",
    "        \"total_epochs_trained\": total_epochs_trained,\n",
    "        \"total_experiment_time_secs\": total_experiment_time_secs,\n",
    "        \"confusion\": confusion,\n",
    "        \"per_domain_accuracy\": per_domain_accuracy,\n",
    "    },\n",
    "    \"history\": history,\n",
    "    \"dataset_metrics\": get_dataset_metrics(datasets, \"ptn\"),\n",
    "}"
   ]
  },
  {
   "cell_type": "code",
   "execution_count": 16,
   "id": "54a21829",
   "metadata": {
    "execution": {
     "iopub.execute_input": "2022-03-25T22:01:30.710410Z",
     "iopub.status.busy": "2022-03-25T22:01:30.709987Z",
     "iopub.status.idle": "2022-03-25T22:01:30.926920Z",
     "shell.execute_reply": "2022-03-25T22:01:30.927720Z"
    },
    "papermill": {
     "duration": 0.276738,
     "end_time": "2022-03-25T22:01:30.928024",
     "exception": false,
     "start_time": "2022-03-25T22:01:30.651286",
     "status": "completed"
    },
    "tags": []
   },
   "outputs": [
    {
     "data": {
      "image/png": "[encoded data removed]",
      "text/plain": [
       "<Figure size 1080x504 with 1 Axes>"
      ]
     },
     "metadata": {
      "needs_background": "light"
     },
     "output_type": "display_data"
    }
   ],
   "source": [
    "ax = get_loss_curve(experiment)\n",
    "plt.show()"
   ]
  },
  {
   "cell_type": "code",
   "execution_count": 17,
   "id": "fd8a0f60",
   "metadata": {
    "execution": {
     "iopub.execute_input": "2022-03-25T22:01:31.053007Z",
     "iopub.status.busy": "2022-03-25T22:01:31.052624Z",
     "iopub.status.idle": "2022-03-25T22:01:31.377040Z",
     "shell.execute_reply": "2022-03-25T22:01:31.377732Z"
    },
    "papermill": {
     "duration": 0.388173,
     "end_time": "2022-03-25T22:01:31.377956",
     "exception": false,
     "start_time": "2022-03-25T22:01:30.989783",
     "status": "completed"
    },
    "tags": []
   },
   "outputs": [
    {
     "data": {
      "text/plain": [
       "<AxesSubplot:title={'center':'Results'}>"
      ]
     },
     "execution_count": 17,
     "metadata": {},
     "output_type": "execute_result"
    },
    {
     "data": {
      "image/png": "[encoded data removed]",
      "text/plain": [
       "<Figure size 1080x504 with 1 Axes>"
      ]
     },
     "metadata": {
      "needs_background": "light"
     },
     "output_type": "display_data"
    }
   ],
   "source": [
    "get_results_table(experiment)"
   ]
  },
  {
   "cell_type": "code",
   "execution_count": 18,
   "id": "cf8dc689",
   "metadata": {
    "execution": {
     "iopub.execute_input": "2022-03-25T22:01:31.505193Z",
     "iopub.status.busy": "2022-03-25T22:01:31.504823Z",
     "iopub.status.idle": "2022-03-25T22:01:31.716052Z",
     "shell.execute_reply": "2022-03-25T22:01:31.716921Z"
    },
    "papermill": {
     "duration": 0.274274,
     "end_time": "2022-03-25T22:01:31.717152",
     "exception": false,
     "start_time": "2022-03-25T22:01:31.442878",
     "status": "completed"
    },
    "tags": []
   },
   "outputs": [
    {
     "data": {
      "text/plain": [
       "<AxesSubplot:title={'center':'Per Domain Validation Accuracy'}, xlabel='domain'>"
      ]
     },
     "execution_count": 18,
     "metadata": {},
     "output_type": "execute_result"
    },
    {
     "data": {
      "image/png": "[encoded data removed]",
      "text/plain": [
       "<Figure size 1080x504 with 1 Axes>"
      ]
     },
     "metadata": {
      "needs_background": "light"
     },
     "output_type": "display_data"
    }
   ],
   "source": [
    "get_domain_accuracies(experiment)"
   ]
  },
  {
   "cell_type": "code",
   "execution_count": 19,
   "id": "a74ae082",
   "metadata": {
    "execution": {
     "iopub.execute_input": "2022-03-25T22:01:31.850837Z",
     "iopub.status.busy": "2022-03-25T22:01:31.850314Z",
     "iopub.status.idle": "2022-03-25T22:01:31.871780Z",
     "shell.execute_reply": "2022-03-25T22:01:31.872698Z"
    },
    "papermill": {
     "duration": 0.087757,
     "end_time": "2022-03-25T22:01:31.872985",
     "exception": false,
     "start_time": "2022-03-25T22:01:31.785228",
     "status": "completed"
    },
    "tags": []
   },
   "outputs": [
    {
     "name": "stdout",
     "output_type": "stream",
     "text": [
      "Source Test Label Accuracy: 0.9020833333333333 Target Test Label Accuracy: 0.8000520833333333\n",
      "Source Val Label Accuracy: 0.9088541666666666 Target Val Label Accuracy: 0.8040104166666666\n"
     ]
    }
   ],
   "source": [
    "print(\"Source Test Label Accuracy:\", experiment[\"results\"][\"source_test_label_accuracy\"], \"Target Test Label Accuracy:\", experiment[\"results\"][\"target_test_label_accuracy\"])\n",
    "print(\"Source Val Label Accuracy:\", experiment[\"results\"][\"source_val_label_accuracy\"], \"Target Val Label Accuracy:\", experiment[\"results\"][\"target_val_label_accuracy\"])"
   ]
  },
  {
   "cell_type": "code",
   "execution_count": 20,
   "id": "dacca602",
   "metadata": {
    "execution": {
     "iopub.execute_input": "2022-03-25T22:01:32.009639Z",
     "iopub.status.busy": "2022-03-25T22:01:32.009257Z",
     "iopub.status.idle": "2022-03-25T22:01:32.030606Z",
     "shell.execute_reply": "2022-03-25T22:01:32.031307Z"
    },
    "papermill": {
     "duration": 0.087252,
     "end_time": "2022-03-25T22:01:32.031509",
     "exception": false,
     "start_time": "2022-03-25T22:01:31.944257",
     "status": "completed"
    },
    "tags": [
     "experiment_json"
    ]
   },
   "outputs": [
    {
     "data": {
      "text/plain": [
       "'{\"experiment_name\": \"tuned_1v2:oracle.run1.framed\", \"parameters\": {\"experiment_name\": \"tuned_1v2:oracle.run1.framed\", \"device\": \"cuda\", \"lr\": 0.0001, \"labels_source\": [\"3123D52\", \"3123D65\", \"3123D79\", \"3123D80\", \"3123D54\", \"3123D70\", \"3123D7B\", \"3123D89\", \"3123D58\", \"3123D76\", \"3123D7D\", \"3123EFE\", \"3123D64\", \"3123D78\", \"3123D7E\", \"3124E4A\"], \"labels_target\": [\"3123D52\", \"3123D65\", \"3123D79\", \"3123D80\", \"3123D54\", \"3123D70\", \"3123D7B\", \"3123D89\", \"3123D58\", \"3123D76\", \"3123D7D\", \"3123EFE\", \"3123D64\", \"3123D78\", \"3123D7E\", \"3124E4A\"], \"episode_transforms_source\": [], \"episode_transforms_target\": [], \"domains_source\": [8, 32, 50], \"domains_target\": [14, 20, 26, 38, 44], \"num_examples_per_domain_per_label_source\": -1, \"num_examples_per_domain_per_label_target\": -1, \"n_shot\": 3, \"n_way\": 16, \"n_query\": 2, \"train_k_factor\": 3, \"val_k_factor\": 2, \"test_k_factor\": 2, \"torch_default_dtype\": \"torch.float32\", \"n_epoch\": 50, \"patience\": 3, \"criteria_for_best\": \"target_accuracy\", \"x_net\": [{\"class\": \"nnReshape\", \"kargs\": {\"shape\": [-1, 1, 2, 256]}}, {\"class\": \"Conv2d\", \"kargs\": {\"in_channels\": 1, \"out_channels\": 256, \"kernel_size\": [1, 7], \"bias\": false, \"padding\": [0, 3]}}, {\"class\": \"ReLU\", \"kargs\": {\"inplace\": true}}, {\"class\": \"BatchNorm2d\", \"kargs\": {\"num_features\": 256}}, {\"class\": \"Conv2d\", \"kargs\": {\"in_channels\": 256, \"out_channels\": 80, \"kernel_size\": [2, 7], \"bias\": true, \"padding\": [0, 3]}}, {\"class\": \"ReLU\", \"kargs\": {\"inplace\": true}}, {\"class\": \"BatchNorm2d\", \"kargs\": {\"num_features\": 80}}, {\"class\": \"Flatten\", \"kargs\": {}}, {\"class\": \"Linear\", \"kargs\": {\"in_features\": 20480, \"out_features\": 256}}, {\"class\": \"ReLU\", \"kargs\": {\"inplace\": true}}, {\"class\": \"BatchNorm1d\", \"kargs\": {\"num_features\": 256}}, {\"class\": \"Linear\", \"kargs\": {\"in_features\": 256, \"out_features\": 256}}], \"NUM_LOGS_PER_EPOCH\": 10, \"BEST_MODEL_PATH\": \"./best_model.pth\", \"pickle_name\": \"oracle.Run1_framed_2000Examples_stratified_ds.2022A.pkl\", \"x_transforms_source\": [\"unit_mag\"], \"x_transforms_target\": [\"unit_mag\"], \"dataset_seed\": 154325, \"seed\": 154325}, \"results\": {\"source_test_label_accuracy\": 0.9020833333333333, \"source_test_label_loss\": 0.28158700466156006, \"target_test_label_accuracy\": 0.8000520833333333, \"target_test_label_loss\": 7.885194778442383, \"source_val_label_accuracy\": 0.9088541666666666, \"source_val_label_loss\": 0.356086403131485, \"target_val_label_accuracy\": 0.8040104166666666, \"target_val_label_loss\": 4.531986236572266, \"total_epochs_trained\": 13, \"total_experiment_time_secs\": 1409.7698888778687, \"confusion\": {\"32\": {\"13\": {\"13\": 207, \"4\": 9, \"5\": 6, \"8\": 5, \"7\": 4, \"3\": 8, \"11\": 1}, \"9\": {\"9\": 240}, \"15\": {\"15\": 240}, \"2\": {\"2\": 208, \"4\": 31, \"7\": 1}, \"3\": {\"3\": 235, \"13\": 4, \"8\": 1}, \"8\": {\"8\": 221, \"0\": 11, \"13\": 4, \"7\": 1, \"14\": 1, \"5\": 2}, \"5\": {\"5\": 163, \"8\": 7, \"4\": 10, \"7\": 38, \"13\": 13, \"3\": 4, \"0\": 4, \"14\": 1}, \"14\": {\"14\": 182, \"11\": 21, \"0\": 19, \"7\": 10, \"8\": 8}, \"1\": {\"1\": 240}, \"0\": {\"0\": 211, \"14\": 14, \"8\": 12, \"5\": 1, \"7\": 2}, \"10\": {\"10\": 237, \"15\": 1, \"1\": 2}, \"6\": {\"6\": 240}, \"11\": {\"11\": 235, \"14\": 5}, \"7\": {\"7\": 183, \"13\": 4, \"5\": 26, \"4\": 18, \"14\": 6, \"11\": 2, \"2\": 1}, \"4\": {\"4\": 200, \"2\": 19, \"7\": 13, \"13\": 5, \"5\": 3}, \"12\": {\"12\": 240}}, \"50\": {\"10\": {\"10\": 232, \"13\": 3, \"0\": 5}, \"12\": {\"12\": 236, \"9\": 3, \"14\": 1}, \"1\": {\"1\": 212, \"4\": 3, \"15\": 20, \"2\": 1, \"0\": 1, \"5\": 1, \"6\": 2}, \"0\": {\"0\": 226, \"2\": 13, \"10\": 1}, \"15\": {\"15\": 215, \"4\": 11, \"1\": 11, \"6\": 2, \"11\": 1}, \"13\": {\"13\": 224, \"5\": 8, \"7\": 4, \"6\": 2, \"10\": 2}, \"8\": {\"8\": 237, \"3\": 3}, \"3\": {\"3\": 240}, \"11\": {\"11\": 231, \"9\": 3, \"12\": 2, \"15\": 3, \"14\": 1}, \"4\": {\"4\": 167, \"1\": 4, \"5\": 50, \"6\": 4, \"15\": 14, \"11\": 1}, \"6\": {\"6\": 223, \"13\": 8, \"7\": 2, \"15\": 3, \"4\": 3, \"1\": 1}, \"7\": {\"7\": 207, \"13\": 15, \"5\": 11, \"6\": 7}, \"14\": {\"14\": 240}, \"2\": {\"2\": 236, \"0\": 4}, \"5\": {\"5\": 159, \"4\": 35, \"7\": 16, \"13\": 14, \"0\": 2, \"1\": 13, \"15\": 1}, \"9\": {\"9\": 223, \"11\": 10, \"12\": 7}}, \"8\": {\"14\": {\"14\": 212, \"10\": 13, \"13\": 4, \"4\": 8, \"1\": 3}, \"10\": {\"10\": 212, \"13\": 10, \"14\": 16, \"4\": 2}, \"2\": {\"2\": 236, \"3\": 3, \"7\": 1}, \"8\": {\"8\": 238, \"15\": 2}, \"6\": {\"6\": 200, \"13\": 7, \"7\": 20, \"4\": 11, \"0\": 2}, \"7\": {\"7\": 215, \"6\": 23, \"0\": 2}, \"9\": {\"9\": 240}, \"11\": {\"11\": 234, \"1\": 6}, \"12\": {\"12\": 200, \"15\": 33, \"3\": 2, \"8\": 5}, \"13\": {\"13\": 144, \"0\": 31, \"4\": 31, \"10\": 25, \"6\": 6, \"14\": 3}, \"0\": {\"0\": 209, \"13\": 23, \"7\": 5, \"6\": 3}, \"3\": {\"3\": 237, \"2\": 2, \"12\": 1}, \"4\": {\"4\": 216, \"13\": 15, \"6\": 4, \"10\": 1, \"14\": 4}, \"15\": {\"15\": 221, \"12\": 17, \"8\": 2}, \"5\": {\"5\": 228, \"1\": 5, \"14\": 3, \"10\": 4}, \"1\": {\"1\": 238, \"14\": 1, \"11\": 1}}, \"44\": {\"13\": {\"13\": 186, \"9\": 20, \"6\": 30, \"11\": 1, \"7\": 2, \"14\": 1}, \"9\": {\"9\": 131, \"7\": 55, \"13\": 26, \"6\": 28}, \"15\": {\"14\": 21, \"15\": 201, \"8\": 4, \"5\": 1, \"0\": 13}, \"2\": {\"10\": 10, \"2\": 198, \"7\": 20, \"1\": 9, \"12\": 2, \"3\": 1}, \"3\": {\"3\": 232, \"1\": 6, \"12\": 1, \"2\": 1}, \"8\": {\"8\": 149, \"5\": 5, \"0\": 79, \"15\": 7}, \"5\": {\"5\": 220, \"8\": 1, \"0\": 9, \"15\": 3, \"14\": 7}, \"14\": {\"14\": 178, \"4\": 55, \"15\": 6, \"5\": 1}, \"1\": {\"1\": 178, \"10\": 11, \"3\": 12, \"12\": 24, \"2\": 15}, \"0\": {\"8\": 62, \"0\": 152, \"5\": 18, \"15\": 8}, \"10\": {\"10\": 201, \"2\": 12, \"12\": 7, \"1\": 18, \"7\": 2}, \"6\": {\"13\": 29, \"6\": 167, \"9\": 28, \"7\": 15, \"11\": 1}, \"11\": {\"11\": 228, \"13\": 11, \"6\": 1}, \"7\": {\"7\": 180, \"6\": 5, \"2\": 25, \"9\": 30}, \"4\": {\"4\": 164, \"14\": 76}, \"12\": {\"12\": 217, \"1\": 17, \"10\": 4, \"3\": 2}}, \"38\": {\"13\": {\"13\": 217, \"10\": 14, \"15\": 3, \"14\": 1, \"2\": 3, \"8\": 2}, \"12\": {\"12\": 240}, \"2\": {\"2\": 221, \"14\": 18, \"13\": 1}, \"9\": {\"9\": 228, \"6\": 9, \"5\": 3}, \"15\": {\"15\": 214, \"1\": 11, \"8\": 7, \"13\": 7, \"5\": 1}, \"5\": {\"5\": 133, \"8\": 55, \"7\": 25, \"6\": 6, \"9\": 7, \"0\": 2, \"15\": 5, \"10\": 7}, \"14\": {\"14\": 229, \"2\": 9, \"12\": 1, \"13\": 1}, \"0\": {\"10\": 17, \"0\": 157, \"8\": 15, \"7\": 21, \"3\": 14, \"12\": 4, \"13\": 3, \"5\": 3, \"4\": 4, \"11\": 2}, \"3\": {\"3\": 220, \"2\": 1, \"1\": 4, \"9\": 5, \"11\": 3, \"0\": 6, \"10\": 1}, \"1\": {\"1\": 235, \"15\": 5}, \"11\": {\"11\": 157, \"6\": 2, \"14\": 15, \"2\": 11, \"10\": 39, \"0\": 4, \"4\": 7, \"3\": 1, \"1\": 2, \"7\": 1, \"13\": 1}, \"7\": {\"7\": 208, \"5\": 15, \"10\": 7, \"0\": 7, \"4\": 1, \"8\": 2}, \"8\": {\"8\": 176, \"5\": 37, \"0\": 8, \"15\": 8, \"10\": 8, \"13\": 3}, \"4\": {\"4\": 233, \"7\": 1, \"10\": 2, \"0\": 4}, \"10\": {\"10\": 201, \"8\": 6, \"13\": 14, \"5\": 6, \"7\": 9, \"0\": 2, \"11\": 2}, \"6\": {\"6\": 239, \"9\": 1}}, \"26\": {\"10\": {\"0\": 60, \"10\": 113, \"14\": 19, \"8\": 38, \"4\": 6, \"9\": 1, \"6\": 2, \"1\": 1}, \"12\": {\"12\": 240}, \"1\": {\"4\": 4, \"1\": 212, \"14\": 22, \"8\": 1, \"0\": 1}, \"0\": {\"14\": 40, \"0\": 99, \"10\": 60, \"8\": 19, \"4\": 18, \"1\": 1, \"7\": 3}, \"15\": {\"15\": 151, \"10\": 3, \"13\": 3, \"9\": 57, \"6\": 10, \"8\": 6, \"5\": 5, \"2\": 3, \"7\": 2}, \"13\": {\"13\": 190, \"5\": 37, \"2\": 10, \"9\": 1, \"15\": 2}, \"8\": {\"8\": 127, \"9\": 3, \"10\": 43, \"4\": 32, \"15\": 6, \"7\": 13, \"0\": 12, \"3\": 1, \"14\": 1, \"2\": 2}, \"3\": {\"3\": 184, \"2\": 44, \"7\": 12}, \"11\": {\"11\": 240}, \"4\": {\"8\": 17, \"4\": 157, \"14\": 36, \"0\": 17, \"7\": 6, \"10\": 5, \"1\": 2}, \"6\": {\"15\": 8, \"6\": 201, \"9\": 24, \"10\": 7}, \"7\": {\"0\": 2, \"4\": 16, \"7\": 174, \"10\": 1, \"2\": 21, \"3\": 15, \"8\": 11}, \"14\": {\"0\": 33, \"14\": 134, \"4\": 45, \"8\": 5, \"7\": 1, \"10\": 11, \"1\": 11}, \"2\": {\"5\": 17, \"8\": 10, \"7\": 20, \"2\": 123, \"15\": 12, \"3\": 54, \"9\": 4}, \"5\": {\"5\": 201, \"15\": 5, \"13\": 16, \"2\": 14, \"9\": 2, \"8\": 2}, \"9\": {\"6\": 12, \"9\": 184, \"15\": 39, \"5\": 1, \"13\": 3, \"10\": 1}}, \"20\": {\"5\": {\"5\": 169, \"0\": 41, \"12\": 12, \"15\": 10, \"1\": 6, \"7\": 1, \"13\": 1}, \"15\": {\"15\": 206, \"1\": 14, \"13\": 4, \"5\": 8, \"0\": 7, \"12\": 1}, \"9\": {\"9\": 153, \"3\": 35, \"2\": 31, \"12\": 17, \"1\": 4}, \"7\": {\"7\": 208, \"3\": 5, \"2\": 23, \"5\": 1, \"9\": 2, \"4\": 1}, \"3\": {\"3\": 165, \"9\": 24, \"12\": 39, \"2\": 8, \"7\": 2, \"4\": 2}, \"8\": {\"8\": 229, \"4\": 11}, \"4\": {\"4\": 225, \"8\": 15}, \"6\": {\"6\": 233, \"14\": 7}, \"2\": {\"2\": 121, \"12\": 28, \"1\": 4, \"9\": 57, \"3\": 6, \"7\": 21, \"13\": 3}, \"12\": {\"3\": 48, \"12\": 130, \"1\": 27, \"2\": 16, \"9\": 12, \"5\": 6, \"7\": 1}, \"0\": {\"0\": 170, \"5\": 51, \"15\": 16, \"1\": 1, \"13\": 1, \"8\": 1}, \"13\": {\"13\": 222, \"12\": 1, \"2\": 5, \"7\": 2, \"1\": 3, \"5\": 1, \"0\": 1, \"9\": 2, \"15\": 3}, \"10\": {\"10\": 236, \"14\": 4}, \"11\": {\"11\": 240}, \"14\": {\"14\": 229, \"6\": 8, \"10\": 1, \"8\": 2}, \"1\": {\"15\": 16, \"1\": 165, \"12\": 45, \"5\": 6, \"3\": 4, \"9\": 1, \"2\": 2, \"13\": 1}}, \"14\": {\"13\": {\"13\": 85, \"2\": 17, \"14\": 40, \"6\": 79, \"5\": 16, \"3\": 1, \"1\": 1, \"4\": 1}, \"4\": {\"4\": 214, \"5\": 18, \"1\": 7, \"3\": 1}, \"6\": {\"6\": 171, \"13\": 64, \"2\": 3, \"14\": 2}, \"0\": {\"0\": 238, \"11\": 1, \"10\": 1}, \"10\": {\"10\": 240}, \"7\": {\"7\": 240}, \"14\": {\"14\": 212, \"2\": 15, \"13\": 11, \"3\": 2}, \"15\": {\"15\": 240}, \"5\": {\"5\": 168, \"1\": 35, \"4\": 25, \"3\": 6, \"2\": 6}, \"2\": {\"14\": 49, \"2\": 112, \"5\": 24, \"6\": 21, \"3\": 14, \"13\": 13, \"15\": 2, \"4\": 4, \"1\": 1}, \"9\": {\"9\": 239, \"11\": 1}, \"12\": {\"12\": 240}, \"8\": {\"8\": 240}, \"3\": {\"3\": 237, \"4\": 3}, \"1\": {\"1\": 210, \"4\": 7, \"5\": 23}, \"11\": {\"11\": 230, \"9\": 10}}}, \"per_domain_accuracy\": {\"32\": {\"accuracy\": 0.9067708333333333, \"source?\": true}, \"50\": {\"accuracy\": 0.9135416666666667, \"source?\": true}, \"8\": {\"accuracy\": 0.90625, \"source?\": true}, \"44\": {\"accuracy\": 0.7765625, \"source?\": false}, \"38\": {\"accuracy\": 0.8614583333333333, \"source?\": false}, \"26\": {\"accuracy\": 0.7109375, \"source?\": false}, \"20\": {\"accuracy\": 0.8075520833333333, \"source?\": false}, \"14\": {\"accuracy\": 0.8635416666666667, \"source?\": false}}}, \"history\": {\"epoch_indices\": [1, 2, 3, 4, 5, 6, 7, 8, 9, 10, 11, 12, 13], \"train_label_loss\": [1.0123790288610117, 0.8334865073362986, 0.49787056994520956, 0.4467591968128487, 0.3867821285678517, 0.3276530573972397, 0.32959000800721466, 0.2936561362810492, 0.22806954423468265, 0.2120548457836747, 0.21855182063263207, 0.17862064025054375, 0.1716170936397883], \"source_val_label_loss\": [25.09752655029297, 0.5256986021995544, 0.520187497138977, 0.5233394503593445, 0.4589531421661377, 0.4123169779777527, 0.4258974492549896, 0.3680243194103241, 0.356086403131485, 0.41893747448921204, 0.3947547972202301, 0.39406463503837585, 0.3982813060283661], \"target_val_label_loss\": [15.494485855102539, 3.62028169631958, 3.803201198577881, 4.271699905395508, 4.383798599243164, 4.83579683303833, 4.330270290374756, 4.2072577476501465, 4.531986236572266, 5.035328388214111, 4.84526252746582, 4.914945602416992, 5.118119239807129], \"source_val_acc_label\": [0.6618055555555555, 0.8154513888888889, 0.8164930555555555, 0.8302951388888888, 0.8628472222222222, 0.8896701388888889, 0.871875, 0.9, 0.9088541666666666, 0.9006944444444445, 0.9057291666666667, 0.9111111111111111, 0.9090277777777778], \"target_val_acc_label\": [0.59875, 0.7527083333333333, 0.7363020833333334, 0.75265625, 0.7822916666666667, 0.7952604166666667, 0.7805208333333333, 0.7975520833333334, 0.8040104166666666, 0.79015625, 0.7982291666666667, 0.8028645833333333, 0.8039583333333333]}, \"dataset_metrics\": {\"source\": {\"train\": {\"n_unique_x\": 67200, \"n_unique_y\": 16, \"n_batch/episode\": 2520}, \"val\": {\"n_unique_x\": 14400, \"n_unique_y\": 16, \"n_batch/episode\": 360}, \"test\": {\"n_unique_x\": 14400, \"n_unique_y\": 16, \"n_batch/episode\": 360}}, \"target\": {\"train\": {\"n_unique_x\": 112000, \"n_unique_y\": 16, \"n_batch/episode\": 4200}, \"val\": {\"n_unique_x\": 24000, \"n_unique_y\": 16, \"n_batch/episode\": 600}, \"test\": {\"n_unique_x\": 24000, \"n_unique_y\": 16, \"n_batch/episode\": 600}}}}'"
      ]
     },
     "execution_count": 20,
     "metadata": {},
     "output_type": "execute_result"
    }
   ],
   "source": [
    "json.dumps(experiment)"
   ]
  }
 ],
 "metadata": {
  "celltoolbar": "Tags",
  "kernelspec": {
   "display_name": "Python 3 (ipykernel)",
   "language": "python",
   "name": "python3"
  },
  "language_info": {
   "codemirror_mode": {
    "name": "ipython",
    "version": 3
   },
   "file_extension": ".py",
   "mimetype": "text/x-python",
   "name": "python",
   "nbconvert_exporter": "python",
   "pygments_lexer": "ipython3",
   "version": "3.8.12"
  },
  "papermill": {
   "default_parameters": {},
   "duration": 1503.703482,
   "end_time": "2022-03-25T22:01:34.988138",
   "environment_variables": {},
   "exception": null,
   "input_path": "/root/csc500-main/csc500-notebooks/templates/ptn_template.ipynb",
   "output_path": "trial.ipynb",
   "parameters": {
    "parameters": {
     "BEST_MODEL_PATH": "./best_model.pth",
     "NUM_LOGS_PER_EPOCH": 10,
     "criteria_for_best": "target_accuracy",
     "dataset_seed": 154325,
     "device": "cuda",
     "domains_source": [
      8,
      32,
      50
     ],
     "domains_target": [
      14,
      20,
      26,
      38,
      44
     ],
     "episode_transforms_source": [],
     "episode_transforms_target": [],
     "experiment_name": "tuned_1v2:oracle.run1.framed",
     "labels_source": [
      "3123D52",
      "3123D65",
      "3123D79",
      "3123D80",
      "3123D54",
      "3123D70",
      "3123D7B",
      "3123D89",
      "3123D58",
      "3123D76",
      "3123D7D",
      "3123EFE",
      "3123D64",
      "3123D78",
      "3123D7E",
      "3124E4A"
     ],
     "labels_target": [
      "3123D52",
      "3123D65",
      "3123D79",
      "3123D80",
      "3123D54",
      "3123D70",
      "3123D7B",
      "3123D89",
      "3123D58",
      "3123D76",
      "3123D7D",
      "3123EFE",
      "3123D64",
      "3123D78",
      "3123D7E",
      "3124E4A"
     ],
     "lr": 0.0001,
     "n_epoch": 50,
     "n_query": 2,
     "n_shot": 3,
     "n_way": 16,
     "num_examples_per_domain_per_label_source": -1,
     "num_examples_per_domain_per_label_target": -1,
     "patience": 3,
     "pickle_name": "oracle.Run1_framed_2000Examples_stratified_ds.2022A.pkl",
     "seed": 154325,
     "test_k_factor": 2,
     "torch_default_dtype": "torch.float32",
     "train_k_factor": 3,
     "val_k_factor": 2,
     "x_net": [
      {
       "class": "nnReshape",
       "kargs": {
        "shape": [
         -1,
         1,
         2,
         256
        ]
       }
      },
      {
       "class": "Conv2d",
       "kargs": {
        "bias": false,
        "in_channels": 1,
        "kernel_size": [
         1,
         7
        ],
        "out_channels": 256,
        "padding": [
         0,
         3
        ]
       }
      },
      {
       "class": "ReLU",
       "kargs": {
        "inplace": true
       }
      },
      {
       "class": "BatchNorm2d",
       "kargs": {
        "num_features": 256
       }
      },
      {
       "class": "Conv2d",
       "kargs": {
        "bias": true,
        "in_channels": 256,
        "kernel_size": [
         2,
         7
        ],
        "out_channels": 80,
        "padding": [
         0,
         3
        ]
       }
      },
      {
       "class": "ReLU",
       "kargs": {
        "inplace": true
       }
      },
      {
       "class": "BatchNorm2d",
       "kargs": {
        "num_features": 80
       }
      },
      {
       "class": "Flatten",
       "kargs": {}
      },
      {
       "class": "Linear",
       "kargs": {
        "in_features": 20480,
        "out_features": 256
       }
      },
      {
       "class": "ReLU",
       "kargs": {
        "inplace": true
       }
      },
      {
       "class": "BatchNorm1d",
       "kargs": {
        "num_features": 256
       }
      },
      {
       "class": "Linear",
       "kargs": {
        "in_features": 256,
        "out_features": 256
       }
      }
     ],
     "x_transforms_source": [
      "unit_mag"
     ],
     "x_transforms_target": [
      "unit_mag"
     ]
    }
   },
   "start_time": "2022-03-25T21:36:31.284656",
   "version": "2.3.4"
  }
 },
 "nbformat": 4,
 "nbformat_minor": 5
}