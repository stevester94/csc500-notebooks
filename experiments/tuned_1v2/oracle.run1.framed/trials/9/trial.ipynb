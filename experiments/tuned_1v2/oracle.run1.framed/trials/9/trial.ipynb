{
 "cells": [
  {
   "cell_type": "markdown",
   "id": "9fea5f46",
   "metadata": {
    "papermill": {
     "duration": 0.017838,
     "end_time": "2022-03-25T22:31:42.995610",
     "exception": false,
     "start_time": "2022-03-25T22:31:42.977772",
     "status": "completed"
    },
    "tags": []
   },
   "source": [
    "# PTN Template\n",
    "This notebook serves as a template for single dataset PTN experiments  \n",
    "It can be run on its own by setting STANDALONE to True (do a find for \"STANDALONE\" to see where)  \n",
    "But it is intended to be executed as part of a *papermill.py script. See any of the   \n",
    "experimentes with a papermill script to get started with that workflow.  "
   ]
  },
  {
   "cell_type": "code",
   "execution_count": 1,
   "id": "0902182a",
   "metadata": {
    "execution": {
     "iopub.execute_input": "2022-03-25T22:31:43.040976Z",
     "iopub.status.busy": "2022-03-25T22:31:43.040590Z",
     "iopub.status.idle": "2022-03-25T22:31:44.934097Z",
     "shell.execute_reply": "2022-03-25T22:31:44.933586Z"
    },
    "papermill": {
     "duration": 1.924233,
     "end_time": "2022-03-25T22:31:44.934206",
     "exception": false,
     "start_time": "2022-03-25T22:31:43.009973",
     "status": "completed"
    },
    "tags": []
   },
   "outputs": [],
   "source": [
    "%load_ext autoreload\n",
    "%autoreload 2\n",
    "%matplotlib inline\n",
    "\n",
    "    \n",
    "import os, json, sys, time, random\n",
    "import numpy as np\n",
    "import torch\n",
    "from torch.optim import Adam\n",
    "from  easydict import EasyDict\n",
    "import matplotlib.pyplot as plt\n",
    "\n",
    "from steves_models.steves_ptn import Steves_Prototypical_Network\n",
    "\n",
    "from steves_utils.lazy_iterable_wrapper import Lazy_Iterable_Wrapper\n",
    "from steves_utils.iterable_aggregator import Iterable_Aggregator\n",
    "from steves_utils.ptn_train_eval_test_jig import  PTN_Train_Eval_Test_Jig\n",
    "from steves_utils.torch_sequential_builder import build_sequential\n",
    "from steves_utils.torch_utils import get_dataset_metrics, ptn_confusion_by_domain_over_dataloader\n",
    "from steves_utils.utils_v2 import (per_domain_accuracy_from_confusion, get_datasets_base_path)\n",
    "from steves_utils.PTN.utils import independent_accuracy_assesment\n",
    "\n",
    "from steves_utils.stratified_dataset.episodic_accessor import Episodic_Accessor_Factory\n",
    "\n",
    "from steves_utils.ptn_do_report import (\n",
    "    get_loss_curve,\n",
    "    get_results_table,\n",
    "    get_parameters_table,\n",
    "    get_domain_accuracies,\n",
    ")\n",
    "\n",
    "from steves_utils.transforms import get_chained_transform"
   ]
  },
  {
   "cell_type": "markdown",
   "id": "41c840b4",
   "metadata": {
    "papermill": {
     "duration": 0.013991,
     "end_time": "2022-03-25T22:31:44.962760",
     "exception": false,
     "start_time": "2022-03-25T22:31:44.948769",
     "status": "completed"
    },
    "tags": []
   },
   "source": [
    "# Required Parameters\n",
    "These are allowed parameters, not defaults\n",
    "Each of these values need to be present in the injected parameters (the notebook will raise an exception if they are not present)\n",
    "\n",
    "Papermill uses the cell tag \"parameters\" to inject the real parameters below this cell.\n",
    "Enable tags to see what I mean"
   ]
  },
  {
   "cell_type": "code",
   "execution_count": 2,
   "id": "fd44eb83",
   "metadata": {
    "execution": {
     "iopub.execute_input": "2022-03-25T22:31:44.997142Z",
     "iopub.status.busy": "2022-03-25T22:31:44.996757Z",
     "iopub.status.idle": "2022-03-25T22:31:45.017809Z",
     "shell.execute_reply": "2022-03-25T22:31:45.017250Z"
    },
    "papermill": {
     "duration": 0.041155,
     "end_time": "2022-03-25T22:31:45.017915",
     "exception": false,
     "start_time": "2022-03-25T22:31:44.976760",
     "status": "completed"
    },
    "tags": []
   },
   "outputs": [],
   "source": [
    "required_parameters = {\n",
    "    \"experiment_name\",\n",
    "    \"lr\",\n",
    "    \"device\",\n",
    "    \"seed\",\n",
    "    \"dataset_seed\",\n",
    "    \"labels_source\",\n",
    "    \"labels_target\",\n",
    "    \"domains_source\",\n",
    "    \"domains_target\",\n",
    "    \"num_examples_per_domain_per_label_source\",\n",
    "    \"num_examples_per_domain_per_label_target\",\n",
    "    \"n_shot\",\n",
    "    \"n_way\",\n",
    "    \"n_query\",\n",
    "    \"train_k_factor\",\n",
    "    \"val_k_factor\",\n",
    "    \"test_k_factor\",\n",
    "    \"n_epoch\",\n",
    "    \"patience\",\n",
    "    \"criteria_for_best\",\n",
    "    \"x_transforms_source\",\n",
    "    \"x_transforms_target\",\n",
    "    \"episode_transforms_source\",\n",
    "    \"episode_transforms_target\",\n",
    "    \"pickle_name\",\n",
    "    \"x_net\",\n",
    "    \"NUM_LOGS_PER_EPOCH\",\n",
    "    \"BEST_MODEL_PATH\",\n",
    "    \"torch_default_dtype\"\n",
    "}"
   ]
  },
  {
   "cell_type": "code",
   "execution_count": 3,
   "id": "fa3f0049",
   "metadata": {
    "execution": {
     "iopub.execute_input": "2022-03-25T22:31:45.062855Z",
     "iopub.status.busy": "2022-03-25T22:31:45.061944Z",
     "iopub.status.idle": "2022-03-25T22:31:45.081451Z",
     "shell.execute_reply": "2022-03-25T22:31:45.080612Z"
    },
    "papermill": {
     "duration": 0.046208,
     "end_time": "2022-03-25T22:31:45.081604",
     "exception": false,
     "start_time": "2022-03-25T22:31:45.035396",
     "status": "completed"
    },
    "tags": [
     "parameters"
    ]
   },
   "outputs": [],
   "source": [
    "\n",
    "\n",
    "standalone_parameters = {}\n",
    "standalone_parameters[\"experiment_name\"] = \"STANDALONE PTN\"\n",
    "standalone_parameters[\"lr\"] = 0.0001\n",
    "standalone_parameters[\"device\"] = \"cuda\"\n",
    "\n",
    "standalone_parameters[\"seed\"] = 1337\n",
    "standalone_parameters[\"dataset_seed\"] = 1337\n",
    "\n",
    "\n",
    "standalone_parameters[\"num_examples_per_domain_per_label_source\"]=100\n",
    "standalone_parameters[\"num_examples_per_domain_per_label_target\"]=100\n",
    "\n",
    "standalone_parameters[\"n_shot\"] = 3\n",
    "standalone_parameters[\"n_query\"]  = 2\n",
    "standalone_parameters[\"train_k_factor\"] = 1\n",
    "standalone_parameters[\"val_k_factor\"] = 2\n",
    "standalone_parameters[\"test_k_factor\"] = 2\n",
    "\n",
    "\n",
    "standalone_parameters[\"n_epoch\"] = 100\n",
    "\n",
    "standalone_parameters[\"patience\"] = 10\n",
    "standalone_parameters[\"criteria_for_best\"] = \"target_accuracy\"\n",
    "\n",
    "standalone_parameters[\"x_transforms_source\"] = [\"unit_power\"]\n",
    "standalone_parameters[\"x_transforms_target\"] = [\"unit_power\"]\n",
    "standalone_parameters[\"episode_transforms_source\"] = []\n",
    "standalone_parameters[\"episode_transforms_target\"] = []\n",
    "\n",
    "standalone_parameters[\"torch_default_dtype\"] = \"torch.float32\" \n",
    "\n",
    "\n",
    "\n",
    "standalone_parameters[\"x_net\"] =     [\n",
    "    {\"class\": \"nnReshape\", \"kargs\": {\"shape\":[-1, 1, 2, 256]}},\n",
    "    {\"class\": \"Conv2d\", \"kargs\": { \"in_channels\":1, \"out_channels\":256, \"kernel_size\":(1,7), \"bias\":False, \"padding\":(0,3), },},\n",
    "    {\"class\": \"ReLU\", \"kargs\": {\"inplace\": True}},\n",
    "    {\"class\": \"BatchNorm2d\", \"kargs\": {\"num_features\":256}},\n",
    "\n",
    "    {\"class\": \"Conv2d\", \"kargs\": { \"in_channels\":256, \"out_channels\":80, \"kernel_size\":(2,7), \"bias\":True, \"padding\":(0,3), },},\n",
    "    {\"class\": \"ReLU\", \"kargs\": {\"inplace\": True}},\n",
    "    {\"class\": \"BatchNorm2d\", \"kargs\": {\"num_features\":80}},\n",
    "    {\"class\": \"Flatten\", \"kargs\": {}},\n",
    "\n",
    "    {\"class\": \"Linear\", \"kargs\": {\"in_features\": 80*256, \"out_features\": 256}}, # 80 units per IQ pair\n",
    "    {\"class\": \"ReLU\", \"kargs\": {\"inplace\": True}},\n",
    "    {\"class\": \"BatchNorm1d\", \"kargs\": {\"num_features\":256}},\n",
    "\n",
    "    {\"class\": \"Linear\", \"kargs\": {\"in_features\": 256, \"out_features\": 256}},\n",
    "]\n",
    "\n",
    "# Parameters relevant to results\n",
    "# These parameters will basically never need to change\n",
    "standalone_parameters[\"NUM_LOGS_PER_EPOCH\"] = 10\n",
    "standalone_parameters[\"BEST_MODEL_PATH\"] = \"./best_model.pth\"\n",
    "\n",
    "# uncomment for CORES dataset\n",
    "from steves_utils.CORES.utils import (\n",
    "    ALL_NODES,\n",
    "    ALL_NODES_MINIMUM_1000_EXAMPLES,\n",
    "    ALL_DAYS\n",
    ")\n",
    "\n",
    "\n",
    "standalone_parameters[\"labels_source\"] = ALL_NODES\n",
    "standalone_parameters[\"labels_target\"] = ALL_NODES\n",
    "\n",
    "standalone_parameters[\"domains_source\"] = [1]\n",
    "standalone_parameters[\"domains_target\"] = [2,3,4,5]\n",
    "\n",
    "standalone_parameters[\"pickle_name\"] = \"cores.stratified_ds.2022A.pkl\"\n",
    "\n",
    "\n",
    "# Uncomment these for ORACLE dataset\n",
    "# from steves_utils.ORACLE.utils_v2 import (\n",
    "#     ALL_DISTANCES_FEET,\n",
    "#     ALL_RUNS,\n",
    "#     ALL_SERIAL_NUMBERS,\n",
    "# )\n",
    "# standalone_parameters[\"labels_source\"] = ALL_SERIAL_NUMBERS\n",
    "# standalone_parameters[\"labels_target\"] = ALL_SERIAL_NUMBERS\n",
    "# standalone_parameters[\"domains_source\"] = [8,20, 38,50]\n",
    "# standalone_parameters[\"domains_target\"] = [14, 26, 32, 44, 56]\n",
    "# standalone_parameters[\"pickle_name\"] = \"oracle.frame_indexed.stratified_ds.2022A.pkl\"\n",
    "# standalone_parameters[\"num_examples_per_domain_per_label_source\"]=1000\n",
    "# standalone_parameters[\"num_examples_per_domain_per_label_target\"]=1000\n",
    "\n",
    "# Uncomment these for Metahan dataset\n",
    "# standalone_parameters[\"labels_source\"] = list(range(19))\n",
    "# standalone_parameters[\"labels_target\"] = list(range(19))\n",
    "# standalone_parameters[\"domains_source\"] = [0]\n",
    "# standalone_parameters[\"domains_target\"] = [1]\n",
    "# standalone_parameters[\"pickle_name\"] = \"metehan.stratified_ds.2022A.pkl\"\n",
    "# standalone_parameters[\"n_way\"]  = len(standalone_parameters[\"labels_source\"])\n",
    "# standalone_parameters[\"num_examples_per_domain_per_label_source\"]=200\n",
    "# standalone_parameters[\"num_examples_per_domain_per_label_target\"]=100\n",
    "\n",
    "\n",
    "standalone_parameters[\"n_way\"]  = len(standalone_parameters[\"labels_source\"])"
   ]
  },
  {
   "cell_type": "code",
   "execution_count": 4,
   "id": "e7f1b98d",
   "metadata": {
    "execution": {
     "iopub.execute_input": "2022-03-25T22:31:45.127747Z",
     "iopub.status.busy": "2022-03-25T22:31:45.126049Z",
     "iopub.status.idle": "2022-03-25T22:31:45.145649Z",
     "shell.execute_reply": "2022-03-25T22:31:45.144849Z"
    },
    "papermill": {
     "duration": 0.044021,
     "end_time": "2022-03-25T22:31:45.145806",
     "exception": false,
     "start_time": "2022-03-25T22:31:45.101785",
     "status": "completed"
    },
    "tags": [
     "injected-parameters"
    ]
   },
   "outputs": [],
   "source": [
    "# Parameters\n",
    "parameters = {\n",
    "    \"experiment_name\": \"tuned_1v2:oracle.run1.framed\",\n",
    "    \"device\": \"cuda\",\n",
    "    \"lr\": 0.0001,\n",
    "    \"labels_source\": [\n",
    "        \"3123D52\",\n",
    "        \"3123D65\",\n",
    "        \"3123D79\",\n",
    "        \"3123D80\",\n",
    "        \"3123D54\",\n",
    "        \"3123D70\",\n",
    "        \"3123D7B\",\n",
    "        \"3123D89\",\n",
    "        \"3123D58\",\n",
    "        \"3123D76\",\n",
    "        \"3123D7D\",\n",
    "        \"3123EFE\",\n",
    "        \"3123D64\",\n",
    "        \"3123D78\",\n",
    "        \"3123D7E\",\n",
    "        \"3124E4A\",\n",
    "    ],\n",
    "    \"labels_target\": [\n",
    "        \"3123D52\",\n",
    "        \"3123D65\",\n",
    "        \"3123D79\",\n",
    "        \"3123D80\",\n",
    "        \"3123D54\",\n",
    "        \"3123D70\",\n",
    "        \"3123D7B\",\n",
    "        \"3123D89\",\n",
    "        \"3123D58\",\n",
    "        \"3123D76\",\n",
    "        \"3123D7D\",\n",
    "        \"3123EFE\",\n",
    "        \"3123D64\",\n",
    "        \"3123D78\",\n",
    "        \"3123D7E\",\n",
    "        \"3124E4A\",\n",
    "    ],\n",
    "    \"episode_transforms_source\": [],\n",
    "    \"episode_transforms_target\": [],\n",
    "    \"domains_source\": [8, 32, 50],\n",
    "    \"domains_target\": [14, 20, 26, 38, 44],\n",
    "    \"num_examples_per_domain_per_label_source\": -1,\n",
    "    \"num_examples_per_domain_per_label_target\": -1,\n",
    "    \"n_shot\": 3,\n",
    "    \"n_way\": 16,\n",
    "    \"n_query\": 2,\n",
    "    \"train_k_factor\": 3,\n",
    "    \"val_k_factor\": 2,\n",
    "    \"test_k_factor\": 2,\n",
    "    \"torch_default_dtype\": \"torch.float32\",\n",
    "    \"n_epoch\": 50,\n",
    "    \"patience\": 3,\n",
    "    \"criteria_for_best\": \"target_accuracy\",\n",
    "    \"x_net\": [\n",
    "        {\"class\": \"nnReshape\", \"kargs\": {\"shape\": [-1, 1, 2, 256]}},\n",
    "        {\n",
    "            \"class\": \"Conv2d\",\n",
    "            \"kargs\": {\n",
    "                \"in_channels\": 1,\n",
    "                \"out_channels\": 256,\n",
    "                \"kernel_size\": [1, 7],\n",
    "                \"bias\": False,\n",
    "                \"padding\": [0, 3],\n",
    "            },\n",
    "        },\n",
    "        {\"class\": \"ReLU\", \"kargs\": {\"inplace\": True}},\n",
    "        {\"class\": \"BatchNorm2d\", \"kargs\": {\"num_features\": 256}},\n",
    "        {\n",
    "            \"class\": \"Conv2d\",\n",
    "            \"kargs\": {\n",
    "                \"in_channels\": 256,\n",
    "                \"out_channels\": 80,\n",
    "                \"kernel_size\": [2, 7],\n",
    "                \"bias\": True,\n",
    "                \"padding\": [0, 3],\n",
    "            },\n",
    "        },\n",
    "        {\"class\": \"ReLU\", \"kargs\": {\"inplace\": True}},\n",
    "        {\"class\": \"BatchNorm2d\", \"kargs\": {\"num_features\": 80}},\n",
    "        {\"class\": \"Flatten\", \"kargs\": {}},\n",
    "        {\"class\": \"Linear\", \"kargs\": {\"in_features\": 20480, \"out_features\": 256}},\n",
    "        {\"class\": \"ReLU\", \"kargs\": {\"inplace\": True}},\n",
    "        {\"class\": \"BatchNorm1d\", \"kargs\": {\"num_features\": 256}},\n",
    "        {\"class\": \"Linear\", \"kargs\": {\"in_features\": 256, \"out_features\": 256}},\n",
    "    ],\n",
    "    \"NUM_LOGS_PER_EPOCH\": 10,\n",
    "    \"BEST_MODEL_PATH\": \"./best_model.pth\",\n",
    "    \"pickle_name\": \"oracle.Run1_framed_2000Examples_stratified_ds.2022A.pkl\",\n",
    "    \"x_transforms_source\": [\"unit_mag\"],\n",
    "    \"x_transforms_target\": [\"unit_mag\"],\n",
    "    \"dataset_seed\": 7,\n",
    "    \"seed\": 7,\n",
    "}\n"
   ]
  },
  {
   "cell_type": "code",
   "execution_count": 5,
   "id": "8fa1cc33",
   "metadata": {
    "execution": {
     "iopub.execute_input": "2022-03-25T22:31:45.188363Z",
     "iopub.status.busy": "2022-03-25T22:31:45.184601Z",
     "iopub.status.idle": "2022-03-25T22:31:45.206065Z",
     "shell.execute_reply": "2022-03-25T22:31:45.205362Z"
    },
    "papermill": {
     "duration": 0.040477,
     "end_time": "2022-03-25T22:31:45.206217",
     "exception": false,
     "start_time": "2022-03-25T22:31:45.165740",
     "status": "completed"
    },
    "tags": []
   },
   "outputs": [],
   "source": [
    "# Set this to True if you want to run this template directly\n",
    "STANDALONE = False\n",
    "if STANDALONE:\n",
    "    print(\"parameters not injected, running with standalone_parameters\")\n",
    "    parameters = standalone_parameters\n",
    "\n",
    "if not 'parameters' in locals() and not 'parameters' in globals():\n",
    "    raise Exception(\"Parameter injection failed\")\n",
    "\n",
    "#Use an easy dict for all the parameters\n",
    "p = EasyDict(parameters)\n",
    "\n",
    "supplied_keys = set(p.keys())\n",
    "\n",
    "if  supplied_keys != required_parameters:\n",
    "    print(\"Parameters are incorrect\")\n",
    "    if len(supplied_keys - required_parameters)>0: print(\"Shouldn't have:\", str(supplied_keys - required_parameters))\n",
    "    if len(required_parameters - supplied_keys)>0: print(\"Need to have:\", str(required_parameters - supplied_keys))\n",
    "    raise RuntimeError(\"Parameters are incorrect\")\n",
    "\n"
   ]
  },
  {
   "cell_type": "code",
   "execution_count": 6,
   "id": "3a028d58",
   "metadata": {
    "execution": {
     "iopub.execute_input": "2022-03-25T22:31:45.246459Z",
     "iopub.status.busy": "2022-03-25T22:31:45.245616Z",
     "iopub.status.idle": "2022-03-25T22:31:45.266735Z",
     "shell.execute_reply": "2022-03-25T22:31:45.265993Z"
    },
    "papermill": {
     "duration": 0.040533,
     "end_time": "2022-03-25T22:31:45.266886",
     "exception": false,
     "start_time": "2022-03-25T22:31:45.226353",
     "status": "completed"
    },
    "tags": []
   },
   "outputs": [],
   "source": [
    "###################################\n",
    "# Set the RNGs and make it all deterministic\n",
    "###################################\n",
    "np.random.seed(p.seed)\n",
    "random.seed(p.seed)\n",
    "torch.manual_seed(p.seed)\n",
    "\n",
    "torch.use_deterministic_algorithms(True) "
   ]
  },
  {
   "cell_type": "code",
   "execution_count": 7,
   "id": "b691acf6",
   "metadata": {
    "execution": {
     "iopub.execute_input": "2022-03-25T22:31:45.305058Z",
     "iopub.status.busy": "2022-03-25T22:31:45.304608Z",
     "iopub.status.idle": "2022-03-25T22:31:45.325098Z",
     "shell.execute_reply": "2022-03-25T22:31:45.325765Z"
    },
    "papermill": {
     "duration": 0.039636,
     "end_time": "2022-03-25T22:31:45.325942",
     "exception": false,
     "start_time": "2022-03-25T22:31:45.286306",
     "status": "completed"
    },
    "tags": []
   },
   "outputs": [],
   "source": [
    "###########################################\n",
    "# The stratified datasets honor this\n",
    "###########################################\n",
    "torch.set_default_dtype(eval(p.torch_default_dtype))"
   ]
  },
  {
   "cell_type": "code",
   "execution_count": 8,
   "id": "b5fba671",
   "metadata": {
    "execution": {
     "iopub.execute_input": "2022-03-25T22:31:45.365410Z",
     "iopub.status.busy": "2022-03-25T22:31:45.363616Z",
     "iopub.status.idle": "2022-03-25T22:31:45.419095Z",
     "shell.execute_reply": "2022-03-25T22:31:45.418367Z"
    },
    "papermill": {
     "duration": 0.073483,
     "end_time": "2022-03-25T22:31:45.419247",
     "exception": false,
     "start_time": "2022-03-25T22:31:45.345764",
     "status": "completed"
    },
    "tags": []
   },
   "outputs": [],
   "source": [
    "###################################\n",
    "# Build the network(s)\n",
    "# Note: It's critical to do this AFTER setting the RNG\n",
    "# (This is due to the randomized initial weights)\n",
    "###################################\n",
    "x_net = build_sequential(p.x_net)"
   ]
  },
  {
   "cell_type": "code",
   "execution_count": 9,
   "id": "5d7e61cc",
   "metadata": {
    "execution": {
     "iopub.execute_input": "2022-03-25T22:31:45.457520Z",
     "iopub.status.busy": "2022-03-25T22:31:45.457160Z",
     "iopub.status.idle": "2022-03-25T22:31:45.483177Z",
     "shell.execute_reply": "2022-03-25T22:31:45.482354Z"
    },
    "papermill": {
     "duration": 0.044708,
     "end_time": "2022-03-25T22:31:45.483329",
     "exception": false,
     "start_time": "2022-03-25T22:31:45.438621",
     "status": "completed"
    },
    "tags": []
   },
   "outputs": [],
   "source": [
    "start_time_secs = time.time()"
   ]
  },
  {
   "cell_type": "code",
   "execution_count": 10,
   "id": "fd5442bc",
   "metadata": {
    "execution": {
     "iopub.execute_input": "2022-03-25T22:31:45.535116Z",
     "iopub.status.busy": "2022-03-25T22:31:45.534250Z",
     "iopub.status.idle": "2022-03-25T22:32:07.496131Z",
     "shell.execute_reply": "2022-03-25T22:32:07.495339Z"
    },
    "papermill": {
     "duration": 21.989082,
     "end_time": "2022-03-25T22:32:07.496319",
     "exception": false,
     "start_time": "2022-03-25T22:31:45.507237",
     "status": "completed"
    },
    "tags": []
   },
   "outputs": [],
   "source": [
    "###################################\n",
    "# Build the dataset\n",
    "###################################\n",
    "\n",
    "if p.x_transforms_source == []: x_transform_source = None\n",
    "else: x_transform_source = get_chained_transform(p.x_transforms_source) \n",
    "\n",
    "if p.x_transforms_target == []: x_transform_target = None\n",
    "else: x_transform_target = get_chained_transform(p.x_transforms_target)\n",
    "\n",
    "if p.episode_transforms_source == []: episode_transform_source = None\n",
    "else: raise Exception(\"episode_transform_source not implemented\")\n",
    "\n",
    "if p.episode_transforms_target == []: episode_transform_target = None\n",
    "else: raise Exception(\"episode_transform_target not implemented\")\n",
    "\n",
    "\n",
    "eaf_source = Episodic_Accessor_Factory(\n",
    "    labels=p.labels_source,\n",
    "    domains=p.domains_source,\n",
    "    num_examples_per_domain_per_label=p.num_examples_per_domain_per_label_source,\n",
    "    iterator_seed=p.seed,\n",
    "    dataset_seed=p.dataset_seed,\n",
    "    n_shot=p.n_shot,\n",
    "    n_way=p.n_way,\n",
    "    n_query=p.n_query,\n",
    "    train_val_test_k_factors=(p.train_k_factor,p.val_k_factor,p.test_k_factor),\n",
    "    pickle_path=os.path.join(get_datasets_base_path(), p.pickle_name),\n",
    "    x_transform_func=x_transform_source,\n",
    "    example_transform_func=episode_transform_source,\n",
    "    \n",
    ")\n",
    "train_original_source, val_original_source, test_original_source = eaf_source.get_train(), eaf_source.get_val(), eaf_source.get_test()\n",
    "\n",
    "\n",
    "eaf_target = Episodic_Accessor_Factory(\n",
    "    labels=p.labels_target,\n",
    "    domains=p.domains_target,\n",
    "    num_examples_per_domain_per_label=p.num_examples_per_domain_per_label_target,\n",
    "    iterator_seed=p.seed,\n",
    "    dataset_seed=p.dataset_seed,\n",
    "    n_shot=p.n_shot,\n",
    "    n_way=p.n_way,\n",
    "    n_query=p.n_query,\n",
    "    train_val_test_k_factors=(p.train_k_factor,p.val_k_factor,p.test_k_factor),\n",
    "    pickle_path=os.path.join(get_datasets_base_path(), p.pickle_name),\n",
    "    x_transform_func=x_transform_target,\n",
    "    example_transform_func=episode_transform_target,\n",
    ")\n",
    "train_original_target, val_original_target, test_original_target = eaf_target.get_train(), eaf_target.get_val(), eaf_target.get_test()\n",
    "\n",
    "\n",
    "transform_lambda = lambda ex: ex[1] # Original is (<domain>, <episode>) so we strip down to episode only\n",
    "\n",
    "train_processed_source = Lazy_Iterable_Wrapper(train_original_source, transform_lambda)\n",
    "val_processed_source   = Lazy_Iterable_Wrapper(val_original_source, transform_lambda)\n",
    "test_processed_source  = Lazy_Iterable_Wrapper(test_original_source, transform_lambda)\n",
    "\n",
    "train_processed_target = Lazy_Iterable_Wrapper(train_original_target, transform_lambda)\n",
    "val_processed_target   = Lazy_Iterable_Wrapper(val_original_target, transform_lambda)\n",
    "test_processed_target  = Lazy_Iterable_Wrapper(test_original_target, transform_lambda)\n",
    "\n",
    "datasets = EasyDict({\n",
    "    \"source\": {\n",
    "        \"original\": {\"train\":train_original_source, \"val\":val_original_source, \"test\":test_original_source},\n",
    "        \"processed\": {\"train\":train_processed_source, \"val\":val_processed_source, \"test\":test_processed_source}\n",
    "    },\n",
    "    \"target\": {\n",
    "        \"original\": {\"train\":train_original_target, \"val\":val_original_target, \"test\":test_original_target},\n",
    "        \"processed\": {\"train\":train_processed_target, \"val\":val_processed_target, \"test\":test_processed_target}\n",
    "    },\n",
    "})"
   ]
  },
  {
   "cell_type": "code",
   "execution_count": 11,
   "id": "296189d9",
   "metadata": {
    "execution": {
     "iopub.execute_input": "2022-03-25T22:32:07.539985Z",
     "iopub.status.busy": "2022-03-25T22:32:07.539595Z",
     "iopub.status.idle": "2022-03-25T22:32:13.060405Z",
     "shell.execute_reply": "2022-03-25T22:32:13.059573Z"
    },
    "papermill": {
     "duration": 5.543493,
     "end_time": "2022-03-25T22:32:13.060572",
     "exception": false,
     "start_time": "2022-03-25T22:32:07.517079",
     "status": "completed"
    },
    "tags": []
   },
   "outputs": [
    {
     "name": "stdout",
     "output_type": "stream",
     "text": [
      "Visually inspect these to see if they line up with expected values given the transforms\n",
      "x_transforms_source ['unit_mag']\n",
      "x_transforms_target ['unit_mag']\n",
      "Average magnitude, source: 1.0\n",
      "Average power, source: 1.0907633\n"
     ]
    },
    {
     "name": "stdout",
     "output_type": "stream",
     "text": [
      "Average magnitude, target: 1.0\n",
      "Average power, target: 1.0861253\n"
     ]
    }
   ],
   "source": [
    "# Some quick unit tests on the data\n",
    "from steves_utils.transforms import get_average_power, get_average_magnitude\n",
    "\n",
    "q_x, q_y, s_x, s_y, truth = next(iter(train_processed_source))\n",
    "\n",
    "assert q_x.dtype == eval(p.torch_default_dtype)\n",
    "assert s_x.dtype == eval(p.torch_default_dtype)\n",
    "\n",
    "print(\"Visually inspect these to see if they line up with expected values given the transforms\")\n",
    "print('x_transforms_source', p.x_transforms_source)\n",
    "print('x_transforms_target', p.x_transforms_target)\n",
    "print(\"Average magnitude, source:\", get_average_magnitude(q_x[0].numpy()))\n",
    "print(\"Average power, source:\", get_average_power(q_x[0].numpy()))\n",
    "\n",
    "q_x, q_y, s_x, s_y, truth = next(iter(train_processed_target))\n",
    "print(\"Average magnitude, target:\", get_average_magnitude(q_x[0].numpy()))\n",
    "print(\"Average power, target:\", get_average_power(q_x[0].numpy()))\n"
   ]
  },
  {
   "cell_type": "code",
   "execution_count": 12,
   "id": "bbdacba1",
   "metadata": {
    "execution": {
     "iopub.execute_input": "2022-03-25T22:32:13.101837Z",
     "iopub.status.busy": "2022-03-25T22:32:13.101458Z",
     "iopub.status.idle": "2022-03-25T22:32:13.278942Z",
     "shell.execute_reply": "2022-03-25T22:32:13.278558Z"
    },
    "papermill": {
     "duration": 0.19789,
     "end_time": "2022-03-25T22:32:13.279051",
     "exception": false,
     "start_time": "2022-03-25T22:32:13.081161",
     "status": "completed"
    },
    "tags": []
   },
   "outputs": [
    {
     "name": "stdout",
     "output_type": "stream",
     "text": [
      "(2, 256)\n"
     ]
    }
   ],
   "source": [
    "###################################\n",
    "# Build the model\n",
    "###################################\n",
    "model = Steves_Prototypical_Network(x_net, device=p.device, x_shape=(2,256))\n",
    "optimizer = Adam(params=model.parameters(), lr=p.lr)"
   ]
  },
  {
   "cell_type": "code",
   "execution_count": 13,
   "id": "22b39ac5",
   "metadata": {
    "execution": {
     "iopub.execute_input": "2022-03-25T22:32:13.340956Z",
     "iopub.status.busy": "2022-03-25T22:32:13.340139Z",
     "iopub.status.idle": "2022-03-25T22:50:29.227450Z",
     "shell.execute_reply": "2022-03-25T22:50:29.227112Z"
    },
    "papermill": {
     "duration": 1095.931718,
     "end_time": "2022-03-25T22:50:29.227545",
     "exception": false,
     "start_time": "2022-03-25T22:32:13.295827",
     "status": "completed"
    },
    "tags": []
   },
   "outputs": [
    {
     "name": "stdout",
     "output_type": "stream",
     "text": [
      "epoch: 1, [batch: 1 / 2520], examples_per_second: 74.4579, train_label_loss: 2.9187, \n"
     ]
    },
    {
     "name": "stdout",
     "output_type": "stream",
     "text": [
      "epoch: 1, [batch: 252 / 2520], examples_per_second: 3832.5354, train_label_loss: 2.0150, \n"
     ]
    },
    {
     "name": "stdout",
     "output_type": "stream",
     "text": [
      "epoch: 1, [batch: 504 / 2520], examples_per_second: 1742.1031, train_label_loss: 1.1627, \n"
     ]
    },
    {
     "name": "stdout",
     "output_type": "stream",
     "text": [
      "epoch: 1, [batch: 756 / 2520], examples_per_second: 1852.2693, train_label_loss: 1.2151, \n"
     ]
    },
    {
     "name": "stdout",
     "output_type": "stream",
     "text": [
      "epoch: 1, [batch: 1008 / 2520], examples_per_second: 2078.4704, train_label_loss: 0.9965, \n"
     ]
    },
    {
     "name": "stdout",
     "output_type": "stream",
     "text": [
      "epoch: 1, [batch: 1260 / 2520], examples_per_second: 2292.3955, train_label_loss: 0.6019, \n"
     ]
    },
    {
     "name": "stdout",
     "output_type": "stream",
     "text": [
      "epoch: 1, [batch: 1512 / 2520], examples_per_second: 1861.3868, train_label_loss: 0.6042, \n"
     ]
    },
    {
     "name": "stdout",
     "output_type": "stream",
     "text": [
      "epoch: 1, [batch: 1764 / 2520], examples_per_second: 1676.0128, train_label_loss: 0.6959, \n"
     ]
    },
    {
     "name": "stdout",
     "output_type": "stream",
     "text": [
      "epoch: 1, [batch: 2016 / 2520], examples_per_second: 2174.9753, train_label_loss: 0.5829, \n"
     ]
    },
    {
     "name": "stdout",
     "output_type": "stream",
     "text": [
      "epoch: 1, [batch: 2268 / 2520], examples_per_second: 1745.3524, train_label_loss: 0.5168, \n"
     ]
    },
    {
     "name": "stdout",
     "output_type": "stream",
     "text": [
      "=============================================================\n",
      "epoch: 1, source_val_acc_label: 0.6832, target_val_acc_label: 0.6235, source_val_label_loss: 2.7694, target_val_label_loss: 3.5159, \n",
      "=============================================================\n"
     ]
    },
    {
     "name": "stdout",
     "output_type": "stream",
     "text": [
      "New best\n"
     ]
    },
    {
     "name": "stdout",
     "output_type": "stream",
     "text": [
      "epoch: 2, [batch: 1 / 2520], examples_per_second: 3.1712, train_label_loss: 10.0355, \n"
     ]
    },
    {
     "name": "stdout",
     "output_type": "stream",
     "text": [
      "epoch: 2, [batch: 252 / 2520], examples_per_second: 2109.3483, train_label_loss: 0.6243, \n"
     ]
    },
    {
     "name": "stdout",
     "output_type": "stream",
     "text": [
      "epoch: 2, [batch: 504 / 2520], examples_per_second: 1857.4680, train_label_loss: 0.4131, \n"
     ]
    },
    {
     "name": "stdout",
     "output_type": "stream",
     "text": [
      "epoch: 2, [batch: 756 / 2520], examples_per_second: 1842.0435, train_label_loss: 0.6238, \n"
     ]
    },
    {
     "name": "stdout",
     "output_type": "stream",
     "text": [
      "epoch: 2, [batch: 1008 / 2520], examples_per_second: 1933.5180, train_label_loss: 0.4361, \n"
     ]
    },
    {
     "name": "stdout",
     "output_type": "stream",
     "text": [
      "epoch: 2, [batch: 1260 / 2520], examples_per_second: 2175.4968, train_label_loss: 0.6015, \n"
     ]
    },
    {
     "name": "stdout",
     "output_type": "stream",
     "text": [
      "epoch: 2, [batch: 1512 / 2520], examples_per_second: 1841.3425, train_label_loss: 0.5799, \n"
     ]
    },
    {
     "name": "stdout",
     "output_type": "stream",
     "text": [
      "epoch: 2, [batch: 1764 / 2520], examples_per_second: 1658.0398, train_label_loss: 0.3373, \n"
     ]
    },
    {
     "name": "stdout",
     "output_type": "stream",
     "text": [
      "epoch: 2, [batch: 2016 / 2520], examples_per_second: 2200.2035, train_label_loss: 0.6559, \n"
     ]
    },
    {
     "name": "stdout",
     "output_type": "stream",
     "text": [
      "epoch: 2, [batch: 2268 / 2520], examples_per_second: 1697.0760, train_label_loss: 0.3601, \n"
     ]
    },
    {
     "name": "stdout",
     "output_type": "stream",
     "text": [
      "=============================================================\n",
      "epoch: 2, source_val_acc_label: 0.8187, target_val_acc_label: 0.7628, source_val_label_loss: 0.5127, target_val_label_loss: 4.6307, \n",
      "=============================================================\n"
     ]
    },
    {
     "name": "stdout",
     "output_type": "stream",
     "text": [
      "New best\n"
     ]
    },
    {
     "name": "stdout",
     "output_type": "stream",
     "text": [
      "epoch: 3, [batch: 1 / 2520], examples_per_second: 3.8639, train_label_loss: 1.0438, \n"
     ]
    },
    {
     "name": "stdout",
     "output_type": "stream",
     "text": [
      "epoch: 3, [batch: 252 / 2520], examples_per_second: 3151.7179, train_label_loss: 0.5996, \n"
     ]
    },
    {
     "name": "stdout",
     "output_type": "stream",
     "text": [
      "epoch: 3, [batch: 504 / 2520], examples_per_second: 4009.4968, train_label_loss: 0.4866, \n"
     ]
    },
    {
     "name": "stdout",
     "output_type": "stream",
     "text": [
      "epoch: 3, [batch: 756 / 2520], examples_per_second: 4480.4627, train_label_loss: 0.3835, \n"
     ]
    },
    {
     "name": "stdout",
     "output_type": "stream",
     "text": [
      "epoch: 3, [batch: 1008 / 2520], examples_per_second: 4452.0224, train_label_loss: 0.6590, \n"
     ]
    },
    {
     "name": "stdout",
     "output_type": "stream",
     "text": [
      "epoch: 3, [batch: 1260 / 2520], examples_per_second: 4849.5691, train_label_loss: 0.4993, \n"
     ]
    },
    {
     "name": "stdout",
     "output_type": "stream",
     "text": [
      "epoch: 3, [batch: 1512 / 2520], examples_per_second: 3836.1743, train_label_loss: 0.4877, \n"
     ]
    },
    {
     "name": "stdout",
     "output_type": "stream",
     "text": [
      "epoch: 3, [batch: 1764 / 2520], examples_per_second: 3829.6263, train_label_loss: 0.3854, \n"
     ]
    },
    {
     "name": "stdout",
     "output_type": "stream",
     "text": [
      "epoch: 3, [batch: 2016 / 2520], examples_per_second: 3776.6881, train_label_loss: 0.3795, \n"
     ]
    },
    {
     "name": "stdout",
     "output_type": "stream",
     "text": [
      "epoch: 3, [batch: 2268 / 2520], examples_per_second: 3843.9730, train_label_loss: 0.3335, \n"
     ]
    },
    {
     "name": "stdout",
     "output_type": "stream",
     "text": [
      "=============================================================\n",
      "epoch: 3, source_val_acc_label: 0.8319, target_val_acc_label: 0.7649, source_val_label_loss: 0.4872, target_val_label_loss: 4.8015, \n",
      "=============================================================\n"
     ]
    },
    {
     "name": "stdout",
     "output_type": "stream",
     "text": [
      "New best\n"
     ]
    },
    {
     "name": "stdout",
     "output_type": "stream",
     "text": [
      "epoch: 4, [batch: 1 / 2520], examples_per_second: 8.5532, train_label_loss: 0.6939, \n"
     ]
    },
    {
     "name": "stdout",
     "output_type": "stream",
     "text": [
      "epoch: 4, [batch: 252 / 2520], examples_per_second: 3828.4298, train_label_loss: 0.6004, \n"
     ]
    },
    {
     "name": "stdout",
     "output_type": "stream",
     "text": [
      "epoch: 4, [batch: 504 / 2520], examples_per_second: 2599.2467, train_label_loss: 0.5189, \n"
     ]
    },
    {
     "name": "stdout",
     "output_type": "stream",
     "text": [
      "epoch: 4, [batch: 756 / 2520], examples_per_second: 1875.8182, train_label_loss: 0.5461, \n"
     ]
    },
    {
     "name": "stdout",
     "output_type": "stream",
     "text": [
      "epoch: 4, [batch: 1008 / 2520], examples_per_second: 1859.1879, train_label_loss: 0.3801, \n"
     ]
    },
    {
     "name": "stdout",
     "output_type": "stream",
     "text": [
      "epoch: 4, [batch: 1260 / 2520], examples_per_second: 2485.0802, train_label_loss: 0.5027, \n"
     ]
    },
    {
     "name": "stdout",
     "output_type": "stream",
     "text": [
      "epoch: 4, [batch: 1512 / 2520], examples_per_second: 1999.6650, train_label_loss: 0.4030, \n"
     ]
    },
    {
     "name": "stdout",
     "output_type": "stream",
     "text": [
      "epoch: 4, [batch: 1764 / 2520], examples_per_second: 1701.9712, train_label_loss: 0.2565, \n"
     ]
    },
    {
     "name": "stdout",
     "output_type": "stream",
     "text": [
      "epoch: 4, [batch: 2016 / 2520], examples_per_second: 1760.6648, train_label_loss: 0.2628, \n"
     ]
    },
    {
     "name": "stdout",
     "output_type": "stream",
     "text": [
      "epoch: 4, [batch: 2268 / 2520], examples_per_second: 2105.7582, train_label_loss: 0.3141, \n"
     ]
    },
    {
     "name": "stdout",
     "output_type": "stream",
     "text": [
      "=============================================================\n",
      "epoch: 4, source_val_acc_label: 0.8459, target_val_acc_label: 0.7745, source_val_label_loss: 0.4414, target_val_label_loss: 5.0858, \n",
      "=============================================================\n"
     ]
    },
    {
     "name": "stdout",
     "output_type": "stream",
     "text": [
      "New best\n"
     ]
    },
    {
     "name": "stdout",
     "output_type": "stream",
     "text": [
      "epoch: 5, [batch: 1 / 2520], examples_per_second: 3.1646, train_label_loss: 0.2421, \n"
     ]
    },
    {
     "name": "stdout",
     "output_type": "stream",
     "text": [
      "epoch: 5, [batch: 252 / 2520], examples_per_second: 1720.0168, train_label_loss: 0.3944, \n"
     ]
    },
    {
     "name": "stdout",
     "output_type": "stream",
     "text": [
      "epoch: 5, [batch: 504 / 2520], examples_per_second: 2147.8319, train_label_loss: 0.2194, \n"
     ]
    },
    {
     "name": "stdout",
     "output_type": "stream",
     "text": [
      "epoch: 5, [batch: 756 / 2520], examples_per_second: 1840.9351, train_label_loss: 0.3298, \n"
     ]
    },
    {
     "name": "stdout",
     "output_type": "stream",
     "text": [
      "epoch: 5, [batch: 1008 / 2520], examples_per_second: 1839.9351, train_label_loss: 0.5157, \n"
     ]
    },
    {
     "name": "stdout",
     "output_type": "stream",
     "text": [
      "epoch: 5, [batch: 1260 / 2520], examples_per_second: 2264.7834, train_label_loss: 0.3327, \n"
     ]
    },
    {
     "name": "stdout",
     "output_type": "stream",
     "text": [
      "epoch: 5, [batch: 1512 / 2520], examples_per_second: 1986.1938, train_label_loss: 0.3605, \n"
     ]
    },
    {
     "name": "stdout",
     "output_type": "stream",
     "text": [
      "epoch: 5, [batch: 1764 / 2520], examples_per_second: 1669.7944, train_label_loss: 0.3655, \n"
     ]
    },
    {
     "name": "stdout",
     "output_type": "stream",
     "text": [
      "epoch: 5, [batch: 2016 / 2520], examples_per_second: 1784.7617, train_label_loss: 0.4040, \n"
     ]
    },
    {
     "name": "stdout",
     "output_type": "stream",
     "text": [
      "epoch: 5, [batch: 2268 / 2520], examples_per_second: 2048.4028, train_label_loss: 0.4908, \n"
     ]
    },
    {
     "name": "stdout",
     "output_type": "stream",
     "text": [
      "=============================================================\n",
      "epoch: 5, source_val_acc_label: 0.8760, target_val_acc_label: 0.7954, source_val_label_loss: 0.3883, target_val_label_loss: 5.1769, \n",
      "=============================================================\n"
     ]
    },
    {
     "name": "stdout",
     "output_type": "stream",
     "text": [
      "New best\n"
     ]
    },
    {
     "name": "stdout",
     "output_type": "stream",
     "text": [
      "epoch: 6, [batch: 1 / 2520], examples_per_second: 3.0856, train_label_loss: 0.3908, \n"
     ]
    },
    {
     "name": "stdout",
     "output_type": "stream",
     "text": [
      "epoch: 6, [batch: 252 / 2520], examples_per_second: 1852.4994, train_label_loss: 0.2193, \n"
     ]
    },
    {
     "name": "stdout",
     "output_type": "stream",
     "text": [
      "epoch: 6, [batch: 504 / 2520], examples_per_second: 1986.7256, train_label_loss: 0.4925, \n"
     ]
    },
    {
     "name": "stdout",
     "output_type": "stream",
     "text": [
      "epoch: 6, [batch: 756 / 2520], examples_per_second: 1819.1538, train_label_loss: 0.1748, \n"
     ]
    },
    {
     "name": "stdout",
     "output_type": "stream",
     "text": [
      "epoch: 6, [batch: 1008 / 2520], examples_per_second: 1838.9318, train_label_loss: 0.4753, \n"
     ]
    },
    {
     "name": "stdout",
     "output_type": "stream",
     "text": [
      "epoch: 6, [batch: 1260 / 2520], examples_per_second: 2631.1906, train_label_loss: 0.2655, \n"
     ]
    },
    {
     "name": "stdout",
     "output_type": "stream",
     "text": [
      "epoch: 6, [batch: 1512 / 2520], examples_per_second: 2859.1828, train_label_loss: 0.0767, \n"
     ]
    },
    {
     "name": "stdout",
     "output_type": "stream",
     "text": [
      "epoch: 6, [batch: 1764 / 2520], examples_per_second: 2607.8424, train_label_loss: 0.2471, \n"
     ]
    },
    {
     "name": "stdout",
     "output_type": "stream",
     "text": [
      "epoch: 6, [batch: 2016 / 2520], examples_per_second: 3165.1614, train_label_loss: 0.1721, \n"
     ]
    },
    {
     "name": "stdout",
     "output_type": "stream",
     "text": [
      "epoch: 6, [batch: 2268 / 2520], examples_per_second: 3594.8669, train_label_loss: 0.4793, \n"
     ]
    },
    {
     "name": "stdout",
     "output_type": "stream",
     "text": [
      "=============================================================\n",
      "epoch: 6, source_val_acc_label: 0.8981, target_val_acc_label: 0.8208, source_val_label_loss: 0.3495, target_val_label_loss: 5.5937, \n",
      "=============================================================\n"
     ]
    },
    {
     "name": "stdout",
     "output_type": "stream",
     "text": [
      "New best\n"
     ]
    },
    {
     "name": "stdout",
     "output_type": "stream",
     "text": [
      "epoch: 7, [batch: 1 / 2520], examples_per_second: 8.6501, train_label_loss: 0.1533, \n"
     ]
    },
    {
     "name": "stdout",
     "output_type": "stream",
     "text": [
      "epoch: 7, [batch: 252 / 2520], examples_per_second: 3944.6320, train_label_loss: 0.1588, \n"
     ]
    },
    {
     "name": "stdout",
     "output_type": "stream",
     "text": [
      "epoch: 7, [batch: 504 / 2520], examples_per_second: 4064.7662, train_label_loss: 0.2917, \n"
     ]
    },
    {
     "name": "stdout",
     "output_type": "stream",
     "text": [
      "epoch: 7, [batch: 756 / 2520], examples_per_second: 4059.2128, train_label_loss: 0.2788, \n"
     ]
    },
    {
     "name": "stdout",
     "output_type": "stream",
     "text": [
      "epoch: 7, [batch: 1008 / 2520], examples_per_second: 4372.0280, train_label_loss: 0.2651, \n"
     ]
    },
    {
     "name": "stdout",
     "output_type": "stream",
     "text": [
      "epoch: 7, [batch: 1260 / 2520], examples_per_second: 4400.5641, train_label_loss: 0.3058, \n"
     ]
    },
    {
     "name": "stdout",
     "output_type": "stream",
     "text": [
      "epoch: 7, [batch: 1512 / 2520], examples_per_second: 4927.6477, train_label_loss: 0.0343, \n"
     ]
    },
    {
     "name": "stdout",
     "output_type": "stream",
     "text": [
      "epoch: 7, [batch: 1764 / 2520], examples_per_second: 3928.7749, train_label_loss: 0.5615, \n"
     ]
    },
    {
     "name": "stdout",
     "output_type": "stream",
     "text": [
      "epoch: 7, [batch: 2016 / 2520], examples_per_second: 3926.5685, train_label_loss: 0.3411, \n"
     ]
    },
    {
     "name": "stdout",
     "output_type": "stream",
     "text": [
      "epoch: 7, [batch: 2268 / 2520], examples_per_second: 3693.4811, train_label_loss: 0.2576, \n"
     ]
    },
    {
     "name": "stdout",
     "output_type": "stream",
     "text": [
      "=============================================================\n",
      "epoch: 7, source_val_acc_label: 0.8931, target_val_acc_label: 0.8059, source_val_label_loss: 0.3882, target_val_label_loss: 5.8481, \n",
      "=============================================================\n"
     ]
    },
    {
     "name": "stdout",
     "output_type": "stream",
     "text": [
      "epoch: 8, [batch: 1 / 2520], examples_per_second: 3.4574, train_label_loss: 0.0919, \n"
     ]
    },
    {
     "name": "stdout",
     "output_type": "stream",
     "text": [
      "epoch: 8, [batch: 252 / 2520], examples_per_second: 1705.0450, train_label_loss: 0.1328, \n"
     ]
    },
    {
     "name": "stdout",
     "output_type": "stream",
     "text": [
      "epoch: 8, [batch: 504 / 2520], examples_per_second: 1800.2875, train_label_loss: 0.2329, \n"
     ]
    },
    {
     "name": "stdout",
     "output_type": "stream",
     "text": [
      "epoch: 8, [batch: 756 / 2520], examples_per_second: 2234.6392, train_label_loss: 0.2224, \n"
     ]
    },
    {
     "name": "stdout",
     "output_type": "stream",
     "text": [
      "epoch: 8, [batch: 1008 / 2520], examples_per_second: 1853.8186, train_label_loss: 0.3531, \n"
     ]
    },
    {
     "name": "stdout",
     "output_type": "stream",
     "text": [
      "epoch: 8, [batch: 1260 / 2520], examples_per_second: 1836.2898, train_label_loss: 0.1206, \n"
     ]
    },
    {
     "name": "stdout",
     "output_type": "stream",
     "text": [
      "epoch: 8, [batch: 1512 / 2520], examples_per_second: 2410.7586, train_label_loss: 0.1288, \n"
     ]
    },
    {
     "name": "stdout",
     "output_type": "stream",
     "text": [
      "epoch: 8, [batch: 1764 / 2520], examples_per_second: 1853.5040, train_label_loss: 0.1458, \n"
     ]
    },
    {
     "name": "stdout",
     "output_type": "stream",
     "text": [
      "epoch: 8, [batch: 2016 / 2520], examples_per_second: 1862.9133, train_label_loss: 0.2933, \n"
     ]
    },
    {
     "name": "stdout",
     "output_type": "stream",
     "text": [
      "epoch: 8, [batch: 2268 / 2520], examples_per_second: 2024.5655, train_label_loss: 0.0726, \n"
     ]
    },
    {
     "name": "stdout",
     "output_type": "stream",
     "text": [
      "=============================================================\n",
      "epoch: 8, source_val_acc_label: 0.8942, target_val_acc_label: 0.7941, source_val_label_loss: 0.4249, target_val_label_loss: 6.1341, \n",
      "=============================================================\n"
     ]
    },
    {
     "name": "stdout",
     "output_type": "stream",
     "text": [
      "epoch: 9, [batch: 1 / 2520], examples_per_second: 3.9073, train_label_loss: 0.1586, \n"
     ]
    },
    {
     "name": "stdout",
     "output_type": "stream",
     "text": [
      "epoch: 9, [batch: 252 / 2520], examples_per_second: 2900.5666, train_label_loss: 0.4301, \n"
     ]
    },
    {
     "name": "stdout",
     "output_type": "stream",
     "text": [
      "epoch: 9, [batch: 504 / 2520], examples_per_second: 3682.2645, train_label_loss: 0.2326, \n"
     ]
    },
    {
     "name": "stdout",
     "output_type": "stream",
     "text": [
      "epoch: 9, [batch: 756 / 2520], examples_per_second: 4006.7589, train_label_loss: 0.3118, \n"
     ]
    },
    {
     "name": "stdout",
     "output_type": "stream",
     "text": [
      "epoch: 9, [batch: 1008 / 2520], examples_per_second: 4327.5033, train_label_loss: 0.1532, \n"
     ]
    },
    {
     "name": "stdout",
     "output_type": "stream",
     "text": [
      "epoch: 9, [batch: 1260 / 2520], examples_per_second: 5190.0454, train_label_loss: 0.2704, \n"
     ]
    },
    {
     "name": "stdout",
     "output_type": "stream",
     "text": [
      "epoch: 9, [batch: 1512 / 2520], examples_per_second: 5387.5131, train_label_loss: 0.2342, \n"
     ]
    },
    {
     "name": "stdout",
     "output_type": "stream",
     "text": [
      "epoch: 9, [batch: 1764 / 2520], examples_per_second: 5229.9313, train_label_loss: 0.2122, \n"
     ]
    },
    {
     "name": "stdout",
     "output_type": "stream",
     "text": [
      "epoch: 9, [batch: 2016 / 2520], examples_per_second: 5224.3357, train_label_loss: 0.1679, \n"
     ]
    },
    {
     "name": "stdout",
     "output_type": "stream",
     "text": [
      "epoch: 9, [batch: 2268 / 2520], examples_per_second: 5138.1313, train_label_loss: 0.0356, \n"
     ]
    },
    {
     "name": "stdout",
     "output_type": "stream",
     "text": [
      "=============================================================\n",
      "epoch: 9, source_val_acc_label: 0.8957, target_val_acc_label: 0.7931, source_val_label_loss: 0.4042, target_val_label_loss: 5.8370, \n",
      "=============================================================\n"
     ]
    },
    {
     "name": "stdout",
     "output_type": "stream",
     "text": [
      "epoch: 10, [batch: 1 / 2520], examples_per_second: 11.3255, train_label_loss: 0.4598, \n"
     ]
    },
    {
     "name": "stdout",
     "output_type": "stream",
     "text": [
      "epoch: 10, [batch: 252 / 2520], examples_per_second: 5208.1059, train_label_loss: 0.0585, \n"
     ]
    },
    {
     "name": "stdout",
     "output_type": "stream",
     "text": [
      "epoch: 10, [batch: 504 / 2520], examples_per_second: 5303.1188, train_label_loss: 0.3970, \n"
     ]
    },
    {
     "name": "stdout",
     "output_type": "stream",
     "text": [
      "epoch: 10, [batch: 756 / 2520], examples_per_second: 5132.7512, train_label_loss: 0.0383, \n"
     ]
    },
    {
     "name": "stdout",
     "output_type": "stream",
     "text": [
      "epoch: 10, [batch: 1008 / 2520], examples_per_second: 5013.8837, train_label_loss: 0.0939, \n"
     ]
    },
    {
     "name": "stdout",
     "output_type": "stream",
     "text": [
      "epoch: 10, [batch: 1260 / 2520], examples_per_second: 5462.0851, train_label_loss: 0.0571, \n"
     ]
    },
    {
     "name": "stdout",
     "output_type": "stream",
     "text": [
      "epoch: 10, [batch: 1512 / 2520], examples_per_second: 5171.5645, train_label_loss: 0.1395, \n"
     ]
    },
    {
     "name": "stdout",
     "output_type": "stream",
     "text": [
      "epoch: 10, [batch: 1764 / 2520], examples_per_second: 3035.4816, train_label_loss: 0.1743, \n"
     ]
    },
    {
     "name": "stdout",
     "output_type": "stream",
     "text": [
      "epoch: 10, [batch: 2016 / 2520], examples_per_second: 2314.9320, train_label_loss: 0.2992, \n"
     ]
    },
    {
     "name": "stdout",
     "output_type": "stream",
     "text": [
      "epoch: 10, [batch: 2268 / 2520], examples_per_second: 2125.5634, train_label_loss: 0.0183, \n"
     ]
    },
    {
     "name": "stdout",
     "output_type": "stream",
     "text": [
      "=============================================================\n",
      "epoch: 10, source_val_acc_label: 0.9150, target_val_acc_label: 0.8190, source_val_label_loss: 0.3730, target_val_label_loss: 5.8514, \n",
      "=============================================================\n"
     ]
    },
    {
     "name": "stdout",
     "output_type": "stream",
     "text": [
      "Patience (3) exhausted\n"
     ]
    }
   ],
   "source": [
    "###################################\n",
    "# train\n",
    "###################################\n",
    "jig = PTN_Train_Eval_Test_Jig(model, p.BEST_MODEL_PATH, p.device)\n",
    "\n",
    "jig.train(\n",
    "    train_iterable=datasets.source.processed.train,\n",
    "    source_val_iterable=datasets.source.processed.val,\n",
    "    target_val_iterable=datasets.target.processed.val,\n",
    "    num_epochs=p.n_epoch,\n",
    "    num_logs_per_epoch=p.NUM_LOGS_PER_EPOCH,\n",
    "    patience=p.patience,\n",
    "    optimizer=optimizer,\n",
    "    criteria_for_best=p.criteria_for_best,\n",
    ")"
   ]
  },
  {
   "cell_type": "code",
   "execution_count": 14,
   "id": "31e8fabf",
   "metadata": {
    "execution": {
     "iopub.execute_input": "2022-03-25T22:50:29.326920Z",
     "iopub.status.busy": "2022-03-25T22:50:29.326512Z",
     "iopub.status.idle": "2022-03-25T22:50:29.361806Z",
     "shell.execute_reply": "2022-03-25T22:50:29.361106Z"
    },
    "papermill": {
     "duration": 0.087367,
     "end_time": "2022-03-25T22:50:29.361960",
     "exception": false,
     "start_time": "2022-03-25T22:50:29.274593",
     "status": "completed"
    },
    "tags": []
   },
   "outputs": [],
   "source": [
    "total_experiment_time_secs = time.time() - start_time_secs"
   ]
  },
  {
   "cell_type": "code",
   "execution_count": 15,
   "id": "87b9595b",
   "metadata": {
    "execution": {
     "iopub.execute_input": "2022-03-25T22:50:29.471253Z",
     "iopub.status.busy": "2022-03-25T22:50:29.470056Z",
     "iopub.status.idle": "2022-03-25T22:53:30.367876Z",
     "shell.execute_reply": "2022-03-25T22:53:30.367062Z"
    },
    "papermill": {
     "duration": 180.955076,
     "end_time": "2022-03-25T22:53:30.368063",
     "exception": false,
     "start_time": "2022-03-25T22:50:29.412987",
     "status": "completed"
    },
    "tags": []
   },
   "outputs": [],
   "source": [
    "###################################\n",
    "# Evaluate the model\n",
    "###################################\n",
    "source_test_label_accuracy, source_test_label_loss = jig.test(datasets.source.processed.test)\n",
    "target_test_label_accuracy, target_test_label_loss = jig.test(datasets.target.processed.test)\n",
    "\n",
    "source_val_label_accuracy, source_val_label_loss = jig.test(datasets.source.processed.val)\n",
    "target_val_label_accuracy, target_val_label_loss = jig.test(datasets.target.processed.val)\n",
    "\n",
    "history = jig.get_history()\n",
    "\n",
    "total_epochs_trained = len(history[\"epoch_indices\"])\n",
    "\n",
    "val_dl = Iterable_Aggregator((datasets.source.original.val,datasets.target.original.val))\n",
    "\n",
    "confusion = ptn_confusion_by_domain_over_dataloader(model, p.device, val_dl)\n",
    "per_domain_accuracy = per_domain_accuracy_from_confusion(confusion)\n",
    "\n",
    "# Add a key to per_domain_accuracy for if it was a source domain\n",
    "for domain, accuracy in per_domain_accuracy.items():\n",
    "    per_domain_accuracy[domain] = {\n",
    "        \"accuracy\": accuracy,\n",
    "        \"source?\": domain in p.domains_source\n",
    "    }\n",
    "\n",
    "# Do an independent accuracy assesment JUST TO BE SURE!\n",
    "# _source_test_label_accuracy = independent_accuracy_assesment(model, datasets.source.processed.test, p.device)\n",
    "# _target_test_label_accuracy = independent_accuracy_assesment(model, datasets.target.processed.test, p.device)\n",
    "# _source_val_label_accuracy = independent_accuracy_assesment(model, datasets.source.processed.val, p.device)\n",
    "# _target_val_label_accuracy = independent_accuracy_assesment(model, datasets.target.processed.val, p.device)\n",
    "\n",
    "# assert(_source_test_label_accuracy == source_test_label_accuracy)\n",
    "# assert(_target_test_label_accuracy == target_test_label_accuracy)\n",
    "# assert(_source_val_label_accuracy == source_val_label_accuracy)\n",
    "# assert(_target_val_label_accuracy == target_val_label_accuracy)\n",
    "\n",
    "experiment = {\n",
    "    \"experiment_name\": p.experiment_name,\n",
    "    \"parameters\": dict(p),\n",
    "    \"results\": {\n",
    "        \"source_test_label_accuracy\": source_test_label_accuracy,\n",
    "        \"source_test_label_loss\": source_test_label_loss,\n",
    "        \"target_test_label_accuracy\": target_test_label_accuracy,\n",
    "        \"target_test_label_loss\": target_test_label_loss,\n",
    "        \"source_val_label_accuracy\": source_val_label_accuracy,\n",
    "        \"source_val_label_loss\": source_val_label_loss,\n",
    "        \"target_val_label_accuracy\": target_val_label_accuracy,\n",
    "        \"target_val_label_loss\": target_val_label_loss,\n",
    "        \"total_epochs_trained\": total_epochs_trained,\n",
    "        \"total_experiment_time_secs\": total_experiment_time_secs,\n",
    "        \"confusion\": confusion,\n",
    "        \"per_domain_accuracy\": per_domain_accuracy,\n",
    "    },\n",
    "    \"history\": history,\n",
    "    \"dataset_metrics\": get_dataset_metrics(datasets, \"ptn\"),\n",
    "}"
   ]
  },
  {
   "cell_type": "code",
   "execution_count": 16,
   "id": "54a21829",
   "metadata": {
    "execution": {
     "iopub.execute_input": "2022-03-25T22:53:30.474096Z",
     "iopub.status.busy": "2022-03-25T22:53:30.473520Z",
     "iopub.status.idle": "2022-03-25T22:53:30.693341Z",
     "shell.execute_reply": "2022-03-25T22:53:30.694031Z"
    },
    "papermill": {
     "duration": 0.272789,
     "end_time": "2022-03-25T22:53:30.694251",
     "exception": false,
     "start_time": "2022-03-25T22:53:30.421462",
     "status": "completed"
    },
    "tags": []
   },
   "outputs": [
    {
     "data": {
      "image/png": "[encoded data removed]",
      "text/plain": [
       "<Figure size 1080x504 with 1 Axes>"
      ]
     },
     "metadata": {
      "needs_background": "light"
     },
     "output_type": "display_data"
    }
   ],
   "source": [
    "ax = get_loss_curve(experiment)\n",
    "plt.show()"
   ]
  },
  {
   "cell_type": "code",
   "execution_count": 17,
   "id": "fd8a0f60",
   "metadata": {
    "execution": {
     "iopub.execute_input": "2022-03-25T22:53:30.799716Z",
     "iopub.status.busy": "2022-03-25T22:53:30.799325Z",
     "iopub.status.idle": "2022-03-25T22:53:31.171343Z",
     "shell.execute_reply": "2022-03-25T22:53:31.172058Z"
    },
    "papermill": {
     "duration": 0.425473,
     "end_time": "2022-03-25T22:53:31.172279",
     "exception": false,
     "start_time": "2022-03-25T22:53:30.746806",
     "status": "completed"
    },
    "tags": []
   },
   "outputs": [
    {
     "data": {
      "text/plain": [
       "<AxesSubplot:title={'center':'Results'}>"
      ]
     },
     "execution_count": 17,
     "metadata": {},
     "output_type": "execute_result"
    },
    {
     "data": {
      "image/png": "[encoded data removed]",
      "text/plain": [
       "<Figure size 1080x504 with 1 Axes>"
      ]
     },
     "metadata": {
      "needs_background": "light"
     },
     "output_type": "display_data"
    }
   ],
   "source": [
    "get_results_table(experiment)"
   ]
  },
  {
   "cell_type": "code",
   "execution_count": 18,
   "id": "cf8dc689",
   "metadata": {
    "execution": {
     "iopub.execute_input": "2022-03-25T22:53:31.283258Z",
     "iopub.status.busy": "2022-03-25T22:53:31.282818Z",
     "iopub.status.idle": "2022-03-25T22:53:31.494889Z",
     "shell.execute_reply": "2022-03-25T22:53:31.495600Z"
    },
    "papermill": {
     "duration": 0.267518,
     "end_time": "2022-03-25T22:53:31.495821",
     "exception": false,
     "start_time": "2022-03-25T22:53:31.228303",
     "status": "completed"
    },
    "tags": []
   },
   "outputs": [
    {
     "data": {
      "text/plain": [
       "<AxesSubplot:title={'center':'Per Domain Validation Accuracy'}, xlabel='domain'>"
      ]
     },
     "execution_count": 18,
     "metadata": {},
     "output_type": "execute_result"
    },
    {
     "data": {
      "image/png": "[encoded data removed]",
      "text/plain": [
       "<Figure size 1080x504 with 1 Axes>"
      ]
     },
     "metadata": {
      "needs_background": "light"
     },
     "output_type": "display_data"
    }
   ],
   "source": [
    "get_domain_accuracies(experiment)"
   ]
  },
  {
   "cell_type": "code",
   "execution_count": 19,
   "id": "a74ae082",
   "metadata": {
    "execution": {
     "iopub.execute_input": "2022-03-25T22:53:31.607323Z",
     "iopub.status.busy": "2022-03-25T22:53:31.606946Z",
     "iopub.status.idle": "2022-03-25T22:53:31.632593Z",
     "shell.execute_reply": "2022-03-25T22:53:31.631738Z"
    },
    "papermill": {
     "duration": 0.082081,
     "end_time": "2022-03-25T22:53:31.632772",
     "exception": false,
     "start_time": "2022-03-25T22:53:31.550691",
     "status": "completed"
    },
    "tags": []
   },
   "outputs": [
    {
     "name": "stdout",
     "output_type": "stream",
     "text": [
      "Source Test Label Accuracy: 0.9019965277777777 Target Test Label Accuracy: 0.8182291666666667\n",
      "Source Val Label Accuracy: 0.8980902777777777 Target Val Label Accuracy: 0.82078125\n"
     ]
    }
   ],
   "source": [
    "print(\"Source Test Label Accuracy:\", experiment[\"results\"][\"source_test_label_accuracy\"], \"Target Test Label Accuracy:\", experiment[\"results\"][\"target_test_label_accuracy\"])\n",
    "print(\"Source Val Label Accuracy:\", experiment[\"results\"][\"source_val_label_accuracy\"], \"Target Val Label Accuracy:\", experiment[\"results\"][\"target_val_label_accuracy\"])"
   ]
  },
  {
   "cell_type": "code",
   "execution_count": 20,
   "id": "dacca602",
   "metadata": {
    "execution": {
     "iopub.execute_input": "2022-03-25T22:53:31.751442Z",
     "iopub.status.busy": "2022-03-25T22:53:31.750597Z",
     "iopub.status.idle": "2022-03-25T22:53:31.773238Z",
     "shell.execute_reply": "2022-03-25T22:53:31.773909Z"
    },
    "papermill": {
     "duration": 0.080864,
     "end_time": "2022-03-25T22:53:31.774116",
     "exception": false,
     "start_time": "2022-03-25T22:53:31.693252",
     "status": "completed"
    },
    "tags": [
     "experiment_json"
    ]
   },
   "outputs": [
    {
     "data": {
      "text/plain": [
       "'{\"experiment_name\": \"tuned_1v2:oracle.run1.framed\", \"parameters\": {\"experiment_name\": \"tuned_1v2:oracle.run1.framed\", \"device\": \"cuda\", \"lr\": 0.0001, \"labels_source\": [\"3123D52\", \"3123D65\", \"3123D79\", \"3123D80\", \"3123D54\", \"3123D70\", \"3123D7B\", \"3123D89\", \"3123D58\", \"3123D76\", \"3123D7D\", \"3123EFE\", \"3123D64\", \"3123D78\", \"3123D7E\", \"3124E4A\"], \"labels_target\": [\"3123D52\", \"3123D65\", \"3123D79\", \"3123D80\", \"3123D54\", \"3123D70\", \"3123D7B\", \"3123D89\", \"3123D58\", \"3123D76\", \"3123D7D\", \"3123EFE\", \"3123D64\", \"3123D78\", \"3123D7E\", \"3124E4A\"], \"episode_transforms_source\": [], \"episode_transforms_target\": [], \"domains_source\": [8, 32, 50], \"domains_target\": [14, 20, 26, 38, 44], \"num_examples_per_domain_per_label_source\": -1, \"num_examples_per_domain_per_label_target\": -1, \"n_shot\": 3, \"n_way\": 16, \"n_query\": 2, \"train_k_factor\": 3, \"val_k_factor\": 2, \"test_k_factor\": 2, \"torch_default_dtype\": \"torch.float32\", \"n_epoch\": 50, \"patience\": 3, \"criteria_for_best\": \"target_accuracy\", \"x_net\": [{\"class\": \"nnReshape\", \"kargs\": {\"shape\": [-1, 1, 2, 256]}}, {\"class\": \"Conv2d\", \"kargs\": {\"in_channels\": 1, \"out_channels\": 256, \"kernel_size\": [1, 7], \"bias\": false, \"padding\": [0, 3]}}, {\"class\": \"ReLU\", \"kargs\": {\"inplace\": true}}, {\"class\": \"BatchNorm2d\", \"kargs\": {\"num_features\": 256}}, {\"class\": \"Conv2d\", \"kargs\": {\"in_channels\": 256, \"out_channels\": 80, \"kernel_size\": [2, 7], \"bias\": true, \"padding\": [0, 3]}}, {\"class\": \"ReLU\", \"kargs\": {\"inplace\": true}}, {\"class\": \"BatchNorm2d\", \"kargs\": {\"num_features\": 80}}, {\"class\": \"Flatten\", \"kargs\": {}}, {\"class\": \"Linear\", \"kargs\": {\"in_features\": 20480, \"out_features\": 256}}, {\"class\": \"ReLU\", \"kargs\": {\"inplace\": true}}, {\"class\": \"BatchNorm1d\", \"kargs\": {\"num_features\": 256}}, {\"class\": \"Linear\", \"kargs\": {\"in_features\": 256, \"out_features\": 256}}], \"NUM_LOGS_PER_EPOCH\": 10, \"BEST_MODEL_PATH\": \"./best_model.pth\", \"pickle_name\": \"oracle.Run1_framed_2000Examples_stratified_ds.2022A.pkl\", \"x_transforms_source\": [\"unit_mag\"], \"x_transforms_target\": [\"unit_mag\"], \"dataset_seed\": 7, \"seed\": 7}, \"results\": {\"source_test_label_accuracy\": 0.9019965277777777, \"source_test_label_loss\": 0.40965431928634644, \"target_test_label_accuracy\": 0.8182291666666667, \"target_test_label_loss\": 5.165757179260254, \"source_val_label_accuracy\": 0.8980902777777777, \"source_val_label_loss\": 0.34953609108924866, \"target_val_label_accuracy\": 0.82078125, \"target_val_label_loss\": 5.593718528747559, \"total_epochs_trained\": 10, \"total_experiment_time_secs\": 1123.878333568573, \"confusion\": {\"50\": {\"0\": {\"0\": 222, \"13\": 3, \"2\": 13, \"10\": 2}, \"4\": {\"4\": 172, \"5\": 27, \"15\": 24, \"6\": 2, \"1\": 13, \"7\": 1, \"13\": 1}, \"14\": {\"14\": 240}, \"12\": {\"12\": 236, \"11\": 2, \"9\": 2}, \"8\": {\"8\": 238, \"3\": 1, \"10\": 1}, \"7\": {\"7\": 214, \"6\": 5, \"13\": 14, \"5\": 6, \"10\": 1}, \"13\": {\"6\": 10, \"13\": 213, \"5\": 11, \"7\": 6}, \"5\": {\"5\": 157, \"7\": 7, \"13\": 22, \"4\": 40, \"6\": 2, \"1\": 11, \"3\": 1}, \"15\": {\"15\": 204, \"1\": 20, \"5\": 1, \"4\": 10, \"11\": 3, \"6\": 2}, \"10\": {\"10\": 235, \"8\": 1, \"0\": 4}, \"3\": {\"3\": 239, \"8\": 1}, \"9\": {\"9\": 225, \"11\": 7, \"12\": 8}, \"6\": {\"6\": 227, \"4\": 1, \"13\": 6, \"1\": 2, \"7\": 2, \"15\": 1, \"5\": 1}, \"1\": {\"1\": 206, \"15\": 24, \"4\": 6, \"6\": 1, \"5\": 3}, \"11\": {\"11\": 235, \"12\": 3, \"15\": 2}, \"2\": {\"2\": 234, \"0\": 6}}, \"8\": {\"1\": {\"1\": 239, \"11\": 1}, \"11\": {\"11\": 235, \"1\": 5}, \"3\": {\"3\": 239, \"12\": 1}, \"6\": {\"7\": 23, \"6\": 200, \"4\": 8, \"13\": 6, \"0\": 3}, \"7\": {\"7\": 209, \"0\": 2, \"6\": 29}, \"5\": {\"5\": 227, \"10\": 7, \"1\": 4, \"14\": 2}, \"2\": {\"2\": 237, \"7\": 2, \"3\": 1}, \"15\": {\"15\": 223, \"12\": 17}, \"10\": {\"10\": 227, \"4\": 3, \"13\": 5, \"14\": 5}, \"13\": {\"10\": 28, \"13\": 123, \"4\": 29, \"14\": 5, \"0\": 48, \"6\": 7}, \"8\": {\"8\": 240}, \"4\": {\"13\": 28, \"4\": 198, \"14\": 9, \"6\": 4, \"10\": 1}, \"9\": {\"9\": 240}, \"14\": {\"14\": 199, \"10\": 19, \"4\": 18, \"1\": 3, \"13\": 1}, \"0\": {\"0\": 191, \"13\": 38, \"10\": 1, \"7\": 6, \"6\": 4}, \"12\": {\"12\": 183, \"3\": 15, \"15\": 39, \"8\": 3}}, \"32\": {\"15\": {\"15\": 240}, \"11\": {\"11\": 224, \"14\": 13, \"13\": 3}, \"10\": {\"10\": 240}, \"14\": {\"14\": 176, \"8\": 3, \"11\": 45, \"0\": 12, \"7\": 4}, \"6\": {\"6\": 240}, \"4\": {\"4\": 193, \"7\": 13, \"5\": 11, \"13\": 1, \"2\": 22}, \"13\": {\"13\": 204, \"7\": 8, \"3\": 9, \"8\": 3, \"4\": 4, \"5\": 12}, \"3\": {\"3\": 238, \"13\": 1, \"8\": 1}, \"7\": {\"7\": 179, \"4\": 10, \"5\": 41, \"14\": 5, \"13\": 2, \"8\": 1, \"0\": 1, \"11\": 1}, \"8\": {\"8\": 215, \"13\": 10, \"3\": 3, \"14\": 2, \"0\": 8, \"5\": 2}, \"1\": {\"1\": 240}, \"5\": {\"5\": 161, \"7\": 37, \"13\": 20, \"4\": 6, \"0\": 1, \"3\": 6, \"8\": 5, \"14\": 3, \"2\": 1}, \"0\": {\"0\": 195, \"13\": 5, \"14\": 13, \"5\": 4, \"8\": 21, \"7\": 2}, \"2\": {\"2\": 214, \"4\": 23, \"7\": 3}, \"12\": {\"12\": 240}, \"9\": {\"9\": 240}}, \"26\": {\"0\": {\"14\": 29, \"0\": 113, \"4\": 24, \"10\": 53, \"8\": 18, \"7\": 2, \"1\": 1}, \"4\": {\"4\": 151, \"0\": 10, \"8\": 17, \"14\": 48, \"7\": 11, \"10\": 1, \"1\": 2}, \"14\": {\"14\": 131, \"4\": 51, \"0\": 31, \"10\": 5, \"1\": 17, \"8\": 4, \"7\": 1}, \"12\": {\"12\": 240}, \"8\": {\"8\": 146, \"10\": 29, \"4\": 20, \"15\": 8, \"7\": 11, \"14\": 9, \"0\": 11, \"9\": 3, \"2\": 3}, \"7\": {\"7\": 189, \"3\": 14, \"2\": 19, \"4\": 9, \"15\": 1, \"8\": 8}, \"13\": {\"13\": 192, \"5\": 39, \"2\": 4, \"15\": 3, \"9\": 2}, \"5\": {\"5\": 204, \"15\": 5, \"13\": 19, \"2\": 7, \"7\": 1, \"8\": 3, \"9\": 1}, \"15\": {\"15\": 138, \"9\": 79, \"13\": 5, \"8\": 6, \"10\": 1, \"2\": 2, \"5\": 6, \"6\": 3}, \"10\": {\"10\": 129, \"6\": 4, \"8\": 26, \"0\": 62, \"14\": 13, \"4\": 4, \"1\": 1, \"9\": 1}, \"3\": {\"2\": 32, \"3\": 195, \"7\": 13}, \"9\": {\"9\": 181, \"15\": 48, \"6\": 9, \"13\": 2}, \"6\": {\"6\": 213, \"9\": 20, \"15\": 3, \"10\": 3, \"8\": 1}, \"1\": {\"1\": 208, \"14\": 17, \"4\": 11, \"7\": 2, \"3\": 1, \"0\": 1}, \"11\": {\"11\": 240}, \"2\": {\"5\": 22, \"2\": 107, \"3\": 76, \"7\": 18, \"9\": 1, \"4\": 1, \"8\": 7, \"15\": 5, \"13\": 3}}, \"44\": {\"1\": {\"1\": 172, \"2\": 8, \"3\": 18, \"10\": 7, \"12\": 35}, \"11\": {\"11\": 230, \"13\": 8, \"6\": 2}, \"3\": {\"3\": 238, \"1\": 2}, \"6\": {\"6\": 175, \"7\": 17, \"13\": 28, \"9\": 20}, \"7\": {\"7\": 165, \"9\": 37, \"2\": 27, \"6\": 9, \"3\": 2}, \"5\": {\"5\": 224, \"14\": 5, \"0\": 10, \"15\": 1}, \"2\": {\"2\": 198, \"7\": 20, \"10\": 10, \"1\": 12}, \"15\": {\"15\": 207, \"0\": 9, \"14\": 20, \"4\": 2, \"5\": 2}, \"10\": {\"10\": 208, \"2\": 9, \"1\": 17, \"12\": 6}, \"13\": {\"13\": 168, \"6\": 33, \"9\": 37, \"4\": 1, \"7\": 1}, \"8\": {\"8\": 165, \"0\": 65, \"5\": 5, \"15\": 5}, \"4\": {\"4\": 173, \"14\": 67}, \"9\": {\"6\": 37, \"7\": 40, \"2\": 2, \"9\": 129, \"13\": 32}, \"14\": {\"14\": 162, \"4\": 69, \"15\": 7, \"5\": 2}, \"0\": {\"0\": 172, \"8\": 50, \"5\": 8, \"15\": 10}, \"12\": {\"12\": 202, \"1\": 29, \"10\": 5, \"3\": 4}}, \"20\": {\"15\": {\"15\": 207, \"5\": 7, \"13\": 4, \"0\": 7, \"1\": 14, \"12\": 1}, \"4\": {\"4\": 237, \"3\": 1, \"8\": 2}, \"6\": {\"6\": 232, \"14\": 8}, \"2\": {\"2\": 158, \"9\": 45, \"7\": 11, \"13\": 8, \"12\": 9, \"3\": 9}, \"5\": {\"5\": 205, \"0\": 22, \"1\": 4, \"15\": 8, \"12\": 1}, \"9\": {\"9\": 157, \"3\": 26, \"2\": 50, \"7\": 2, \"12\": 5}, \"8\": {\"8\": 235, \"4\": 3, \"7\": 2}, \"12\": {\"12\": 177, \"3\": 27, \"5\": 3, \"1\": 20, \"9\": 5, \"2\": 8}, \"10\": {\"10\": 240}, \"1\": {\"12\": 34, \"1\": 188, \"15\": 5, \"2\": 2, \"3\": 3, \"5\": 8}, \"0\": {\"5\": 58, \"0\": 165, \"15\": 17}, \"3\": {\"3\": 179, \"9\": 22, \"4\": 4, \"12\": 21, \"2\": 14}, \"13\": {\"13\": 239, \"15\": 1}, \"11\": {\"11\": 240}, \"7\": {\"7\": 227, \"8\": 1, \"2\": 8, \"9\": 1, \"3\": 2, \"4\": 1}, \"14\": {\"14\": 236, \"6\": 2, \"10\": 2}}, \"38\": {\"15\": {\"15\": 204, \"1\": 12, \"13\": 12, \"8\": 11, \"5\": 1}, \"11\": {\"4\": 35, \"14\": 12, \"11\": 160, \"10\": 20, \"2\": 8, \"3\": 1, \"0\": 2, \"9\": 1, \"7\": 1}, \"10\": {\"10\": 214, \"13\": 13, \"0\": 4, \"8\": 6, \"11\": 2, \"7\": 1}, \"14\": {\"14\": 228, \"2\": 10, \"10\": 1, \"13\": 1}, \"6\": {\"6\": 233, \"9\": 7}, \"4\": {\"4\": 235, \"0\": 3, \"7\": 2}, \"13\": {\"13\": 213, \"10\": 12, \"2\": 6, \"15\": 7, \"8\": 1, \"0\": 1}, \"3\": {\"3\": 208, \"2\": 7, \"4\": 3, \"9\": 9, \"0\": 5, \"7\": 5, \"11\": 2, \"1\": 1}, \"7\": {\"7\": 217, \"5\": 12, \"0\": 7, \"10\": 1, \"8\": 3}, \"8\": {\"8\": 199, \"5\": 26, \"0\": 12, \"15\": 2, \"10\": 1}, \"1\": {\"1\": 234, \"15\": 6}, \"5\": {\"5\": 136, \"7\": 31, \"8\": 53, \"6\": 7, \"9\": 3, \"15\": 2, \"10\": 5, \"0\": 2, \"13\": 1}, \"0\": {\"0\": 155, \"8\": 37, \"10\": 9, \"7\": 12, \"3\": 10, \"4\": 8, \"12\": 4, \"13\": 1, \"5\": 2, \"9\": 1, \"11\": 1}, \"2\": {\"2\": 211, \"14\": 29}, \"12\": {\"12\": 240}, \"9\": {\"9\": 221, \"6\": 19}}, \"14\": {\"0\": {\"0\": 239, \"10\": 1}, \"12\": {\"12\": 239, \"9\": 1}, \"1\": {\"1\": 216, \"5\": 21, \"4\": 3}, \"4\": {\"4\": 224, \"5\": 13, \"2\": 1, \"1\": 2}, \"5\": {\"5\": 167, \"2\": 6, \"1\": 40, \"4\": 26, \"3\": 1}, \"3\": {\"3\": 239, \"2\": 1}, \"7\": {\"7\": 240}, \"15\": {\"15\": 240}, \"13\": {\"2\": 23, \"6\": 85, \"14\": 48, \"13\": 77, \"4\": 1, \"5\": 6}, \"10\": {\"10\": 240}, \"14\": {\"14\": 226, \"13\": 8, \"2\": 5, \"6\": 1}, \"6\": {\"13\": 53, \"6\": 183, \"2\": 4}, \"9\": {\"9\": 240}, \"2\": {\"2\": 124, \"15\": 5, \"14\": 34, \"5\": 26, \"3\": 14, \"13\": 10, \"6\": 18, \"4\": 8, \"1\": 1}, \"8\": {\"8\": 240}, \"11\": {\"11\": 230, \"9\": 10}}}, \"per_domain_accuracy\": {\"50\": {\"accuracy\": 0.9106770833333333, \"source?\": true}, \"8\": {\"accuracy\": 0.8880208333333334, \"source?\": true}, \"32\": {\"accuracy\": 0.8955729166666667, \"source?\": true}, \"26\": {\"accuracy\": 0.7231770833333333, \"source?\": false}, \"44\": {\"accuracy\": 0.778125, \"source?\": false}, \"20\": {\"accuracy\": 0.8651041666666667, \"source?\": false}, \"38\": {\"accuracy\": 0.8614583333333333, \"source?\": false}, \"14\": {\"accuracy\": 0.8760416666666667, \"source?\": false}}}, \"history\": {\"epoch_indices\": [1, 2, 3, 4, 5, 6, 7, 8, 9, 10], \"train_label_loss\": [0.9948113299196675, 0.6765997080989773, 0.47368911733584745, 0.42183007028042563, 0.3350807532461153, 0.2962479896422121, 0.2645527624063164, 0.23320888197086456, 0.22332749529224302, 0.19606257605196406], \"source_val_label_loss\": [2.769383430480957, 0.5127059817314148, 0.4871920049190521, 0.44140154123306274, 0.388265460729599, 0.34953609108924866, 0.3881648778915405, 0.4248884916305542, 0.40421831607818604, 0.37304773926734924], \"target_val_label_loss\": [3.515902519226074, 4.630658149719238, 4.801516056060791, 5.085840702056885, 5.176911354064941, 5.593718528747559, 5.848066329956055, 6.134100914001465, 5.836982727050781, 5.851350784301758], \"source_val_acc_label\": [0.6831597222222222, 0.81875, 0.8318576388888889, 0.8459201388888888, 0.8760416666666667, 0.8980902777777777, 0.8931423611111111, 0.8941840277777777, 0.8956597222222222, 0.9150173611111111], \"target_val_acc_label\": [0.6234895833333334, 0.7627604166666667, 0.7649479166666666, 0.77453125, 0.7953645833333334, 0.82078125, 0.8059375, 0.7940625, 0.793125, 0.8189583333333333]}, \"dataset_metrics\": {\"source\": {\"train\": {\"n_unique_x\": 67200, \"n_unique_y\": 16, \"n_batch/episode\": 2520}, \"val\": {\"n_unique_x\": 14400, \"n_unique_y\": 16, \"n_batch/episode\": 360}, \"test\": {\"n_unique_x\": 14400, \"n_unique_y\": 16, \"n_batch/episode\": 360}}, \"target\": {\"train\": {\"n_unique_x\": 112000, \"n_unique_y\": 16, \"n_batch/episode\": 4200}, \"val\": {\"n_unique_x\": 24000, \"n_unique_y\": 16, \"n_batch/episode\": 600}, \"test\": {\"n_unique_x\": 24000, \"n_unique_y\": 16, \"n_batch/episode\": 600}}}}'"
      ]
     },
     "execution_count": 20,
     "metadata": {},
     "output_type": "execute_result"
    }
   ],
   "source": [
    "json.dumps(experiment)"
   ]
  }
 ],
 "metadata": {
  "celltoolbar": "Tags",
  "kernelspec": {
   "display_name": "Python 3 (ipykernel)",
   "language": "python",
   "name": "python3"
  },
  "language_info": {
   "codemirror_mode": {
    "name": "ipython",
    "version": 3
   },
   "file_extension": ".py",
   "mimetype": "text/x-python",
   "name": "python",
   "nbconvert_exporter": "python",
   "pygments_lexer": "ipython3",
   "version": "3.8.12"
  },
  "papermill": {
   "default_parameters": {},
   "duration": 1312.782533,
   "end_time": "2022-03-25T22:53:34.828905",
   "environment_variables": {},
   "exception": null,
   "input_path": "/root/csc500-main/csc500-notebooks/templates/ptn_template.ipynb",
   "output_path": "trial.ipynb",
   "parameters": {
    "parameters": {
     "BEST_MODEL_PATH": "./best_model.pth",
     "NUM_LOGS_PER_EPOCH": 10,
     "criteria_for_best": "target_accuracy",
     "dataset_seed": 7,
     "device": "cuda",
     "domains_source": [
      8,
      32,
      50
     ],
     "domains_target": [
      14,
      20,
      26,
      38,
      44
     ],
     "episode_transforms_source": [],
     "episode_transforms_target": [],
     "experiment_name": "tuned_1v2:oracle.run1.framed",
     "labels_source": [
      "3123D52",
      "3123D65",
      "3123D79",
      "3123D80",
      "3123D54",
      "3123D70",
      "3123D7B",
      "3123D89",
      "3123D58",
      "3123D76",
      "3123D7D",
      "3123EFE",
      "3123D64",
      "3123D78",
      "3123D7E",
      "3124E4A"
     ],
     "labels_target": [
      "3123D52",
      "3123D65",
      "3123D79",
      "3123D80",
      "3123D54",
      "3123D70",
      "3123D7B",
      "3123D89",
      "3123D58",
      "3123D76",
      "3123D7D",
      "3123EFE",
      "3123D64",
      "3123D78",
      "3123D7E",
      "3124E4A"
     ],
     "lr": 0.0001,
     "n_epoch": 50,
     "n_query": 2,
     "n_shot": 3,
     "n_way": 16,
     "num_examples_per_domain_per_label_source": -1,
     "num_examples_per_domain_per_label_target": -1,
     "patience": 3,
     "pickle_name": "oracle.Run1_framed_2000Examples_stratified_ds.2022A.pkl",
     "seed": 7,
     "test_k_factor": 2,
     "torch_default_dtype": "torch.float32",
     "train_k_factor": 3,
     "val_k_factor": 2,
     "x_net": [
      {
       "class": "nnReshape",
       "kargs": {
        "shape": [
         -1,
         1,
         2,
         256
        ]
       }
      },
      {
       "class": "Conv2d",
       "kargs": {
        "bias": false,
        "in_channels": 1,
        "kernel_size": [
         1,
         7
        ],
        "out_channels": 256,
        "padding": [
         0,
         3
        ]
       }
      },
      {
       "class": "ReLU",
       "kargs": {
        "inplace": true
       }
      },
      {
       "class": "BatchNorm2d",
       "kargs": {
        "num_features": 256
       }
      },
      {
       "class": "Conv2d",
       "kargs": {
        "bias": true,
        "in_channels": 256,
        "kernel_size": [
         2,
         7
        ],
        "out_channels": 80,
        "padding": [
         0,
         3
        ]
       }
      },
      {
       "class": "ReLU",
       "kargs": {
        "inplace": true
       }
      },
      {
       "class": "BatchNorm2d",
       "kargs": {
        "num_features": 80
       }
      },
      {
       "class": "Flatten",
       "kargs": {}
      },
      {
       "class": "Linear",
       "kargs": {
        "in_features": 20480,
        "out_features": 256
       }
      },
      {
       "class": "ReLU",
       "kargs": {
        "inplace": true
       }
      },
      {
       "class": "BatchNorm1d",
       "kargs": {
        "num_features": 256
       }
      },
      {
       "class": "Linear",
       "kargs": {
        "in_features": 256,
        "out_features": 256
       }
      }
     ],
     "x_transforms_source": [
      "unit_mag"
     ],
     "x_transforms_target": [
      "unit_mag"
     ]
    }
   },
   "start_time": "2022-03-25T22:31:42.046372",
   "version": "2.3.4"
  }
 },
 "nbformat": 4,
 "nbformat_minor": 5
}