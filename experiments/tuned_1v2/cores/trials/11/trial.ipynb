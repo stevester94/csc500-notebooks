{
 "cells": [
  {
   "cell_type": "markdown",
   "id": "9fea5f46",
   "metadata": {
    "papermill": {
     "duration": 0.014403,
     "end_time": "2022-03-22T16:20:59.914291",
     "exception": false,
     "start_time": "2022-03-22T16:20:59.899888",
     "status": "completed"
    },
    "tags": []
   },
   "source": [
    "# PTN Template\n",
    "This notebook serves as a template for single dataset PTN experiments  \n",
    "It can be run on its own by setting STANDALONE to True (do a find for \"STANDALONE\" to see where)  \n",
    "But it is intended to be executed as part of a *papermill.py script. See any of the   \n",
    "experimentes with a papermill script to get started with that workflow.  "
   ]
  },
  {
   "cell_type": "code",
   "execution_count": 1,
   "id": "0902182a",
   "metadata": {
    "execution": {
     "iopub.execute_input": "2022-03-22T16:20:59.943516Z",
     "iopub.status.busy": "2022-03-22T16:20:59.943085Z",
     "iopub.status.idle": "2022-03-22T16:21:00.894445Z",
     "shell.execute_reply": "2022-03-22T16:21:00.893933Z"
    },
    "papermill": {
     "duration": 0.970253,
     "end_time": "2022-03-22T16:21:00.894564",
     "exception": false,
     "start_time": "2022-03-22T16:20:59.924311",
     "status": "completed"
    },
    "tags": []
   },
   "outputs": [],
   "source": [
    "%load_ext autoreload\n",
    "%autoreload 2\n",
    "%matplotlib inline\n",
    "\n",
    "    \n",
    "import os, json, sys, time, random\n",
    "import numpy as np\n",
    "import torch\n",
    "from torch.optim import Adam\n",
    "from  easydict import EasyDict\n",
    "import matplotlib.pyplot as plt\n",
    "\n",
    "from steves_models.steves_ptn import Steves_Prototypical_Network\n",
    "\n",
    "from steves_utils.lazy_iterable_wrapper import Lazy_Iterable_Wrapper\n",
    "from steves_utils.iterable_aggregator import Iterable_Aggregator\n",
    "from steves_utils.ptn_train_eval_test_jig import  PTN_Train_Eval_Test_Jig\n",
    "from steves_utils.torch_sequential_builder import build_sequential\n",
    "from steves_utils.torch_utils import get_dataset_metrics, ptn_confusion_by_domain_over_dataloader\n",
    "from steves_utils.utils_v2 import (per_domain_accuracy_from_confusion, get_datasets_base_path)\n",
    "from steves_utils.PTN.utils import independent_accuracy_assesment\n",
    "\n",
    "from steves_utils.stratified_dataset.episodic_accessor import Episodic_Accessor_Factory\n",
    "\n",
    "from steves_utils.ptn_do_report import (\n",
    "    get_loss_curve,\n",
    "    get_results_table,\n",
    "    get_parameters_table,\n",
    "    get_domain_accuracies,\n",
    ")\n",
    "\n",
    "from steves_utils.transforms import get_chained_transform"
   ]
  },
  {
   "cell_type": "markdown",
   "id": "41c840b4",
   "metadata": {
    "papermill": {
     "duration": 0.009256,
     "end_time": "2022-03-22T16:21:00.920116",
     "exception": false,
     "start_time": "2022-03-22T16:21:00.910860",
     "status": "completed"
    },
    "tags": []
   },
   "source": [
    "# Required Parameters\n",
    "These are allowed parameters, not defaults\n",
    "Each of these values need to be present in the injected parameters (the notebook will raise an exception if they are not present)\n",
    "\n",
    "Papermill uses the cell tag \"parameters\" to inject the real parameters below this cell.\n",
    "Enable tags to see what I mean"
   ]
  },
  {
   "cell_type": "code",
   "execution_count": 2,
   "id": "fd44eb83",
   "metadata": {
    "execution": {
     "iopub.execute_input": "2022-03-22T16:21:00.942560Z",
     "iopub.status.busy": "2022-03-22T16:21:00.941898Z",
     "iopub.status.idle": "2022-03-22T16:21:00.955921Z",
     "shell.execute_reply": "2022-03-22T16:21:00.955478Z"
    },
    "papermill": {
     "duration": 0.026723,
     "end_time": "2022-03-22T16:21:00.956013",
     "exception": false,
     "start_time": "2022-03-22T16:21:00.929290",
     "status": "completed"
    },
    "tags": []
   },
   "outputs": [],
   "source": [
    "required_parameters = {\n",
    "    \"experiment_name\",\n",
    "    \"lr\",\n",
    "    \"device\",\n",
    "    \"seed\",\n",
    "    \"dataset_seed\",\n",
    "    \"labels_source\",\n",
    "    \"labels_target\",\n",
    "    \"domains_source\",\n",
    "    \"domains_target\",\n",
    "    \"num_examples_per_domain_per_label_source\",\n",
    "    \"num_examples_per_domain_per_label_target\",\n",
    "    \"n_shot\",\n",
    "    \"n_way\",\n",
    "    \"n_query\",\n",
    "    \"train_k_factor\",\n",
    "    \"val_k_factor\",\n",
    "    \"test_k_factor\",\n",
    "    \"n_epoch\",\n",
    "    \"patience\",\n",
    "    \"criteria_for_best\",\n",
    "    \"x_transforms_source\",\n",
    "    \"x_transforms_target\",\n",
    "    \"episode_transforms_source\",\n",
    "    \"episode_transforms_target\",\n",
    "    \"pickle_name\",\n",
    "    \"x_net\",\n",
    "    \"NUM_LOGS_PER_EPOCH\",\n",
    "    \"BEST_MODEL_PATH\",\n",
    "    \"torch_default_dtype\"\n",
    "}"
   ]
  },
  {
   "cell_type": "code",
   "execution_count": 3,
   "id": "fa3f0049",
   "metadata": {
    "execution": {
     "iopub.execute_input": "2022-03-22T16:21:00.985894Z",
     "iopub.status.busy": "2022-03-22T16:21:00.985587Z",
     "iopub.status.idle": "2022-03-22T16:21:00.997997Z",
     "shell.execute_reply": "2022-03-22T16:21:00.997561Z"
    },
    "papermill": {
     "duration": 0.027321,
     "end_time": "2022-03-22T16:21:00.998085",
     "exception": false,
     "start_time": "2022-03-22T16:21:00.970764",
     "status": "completed"
    },
    "tags": [
     "parameters"
    ]
   },
   "outputs": [],
   "source": [
    "\n",
    "\n",
    "standalone_parameters = {}\n",
    "standalone_parameters[\"experiment_name\"] = \"STANDALONE PTN\"\n",
    "standalone_parameters[\"lr\"] = 0.0001\n",
    "standalone_parameters[\"device\"] = \"cuda\"\n",
    "\n",
    "standalone_parameters[\"seed\"] = 1337\n",
    "standalone_parameters[\"dataset_seed\"] = 1337\n",
    "\n",
    "\n",
    "standalone_parameters[\"num_examples_per_domain_per_label_source\"]=100\n",
    "standalone_parameters[\"num_examples_per_domain_per_label_target\"]=100\n",
    "\n",
    "standalone_parameters[\"n_shot\"] = 3\n",
    "standalone_parameters[\"n_query\"]  = 2\n",
    "standalone_parameters[\"train_k_factor\"] = 1\n",
    "standalone_parameters[\"val_k_factor\"] = 2\n",
    "standalone_parameters[\"test_k_factor\"] = 2\n",
    "\n",
    "\n",
    "standalone_parameters[\"n_epoch\"] = 100\n",
    "\n",
    "standalone_parameters[\"patience\"] = 10\n",
    "standalone_parameters[\"criteria_for_best\"] = \"target_accuracy\"\n",
    "\n",
    "standalone_parameters[\"x_transforms_source\"] = [\"unit_power\"]\n",
    "standalone_parameters[\"x_transforms_target\"] = [\"unit_power\"]\n",
    "standalone_parameters[\"episode_transforms_source\"] = []\n",
    "standalone_parameters[\"episode_transforms_target\"] = []\n",
    "\n",
    "standalone_parameters[\"torch_default_dtype\"] = \"torch.float32\" \n",
    "\n",
    "\n",
    "\n",
    "standalone_parameters[\"x_net\"] =     [\n",
    "    {\"class\": \"nnReshape\", \"kargs\": {\"shape\":[-1, 1, 2, 256]}},\n",
    "    {\"class\": \"Conv2d\", \"kargs\": { \"in_channels\":1, \"out_channels\":256, \"kernel_size\":(1,7), \"bias\":False, \"padding\":(0,3), },},\n",
    "    {\"class\": \"ReLU\", \"kargs\": {\"inplace\": True}},\n",
    "    {\"class\": \"BatchNorm2d\", \"kargs\": {\"num_features\":256}},\n",
    "\n",
    "    {\"class\": \"Conv2d\", \"kargs\": { \"in_channels\":256, \"out_channels\":80, \"kernel_size\":(2,7), \"bias\":True, \"padding\":(0,3), },},\n",
    "    {\"class\": \"ReLU\", \"kargs\": {\"inplace\": True}},\n",
    "    {\"class\": \"BatchNorm2d\", \"kargs\": {\"num_features\":80}},\n",
    "    {\"class\": \"Flatten\", \"kargs\": {}},\n",
    "\n",
    "    {\"class\": \"Linear\", \"kargs\": {\"in_features\": 80*256, \"out_features\": 256}}, # 80 units per IQ pair\n",
    "    {\"class\": \"ReLU\", \"kargs\": {\"inplace\": True}},\n",
    "    {\"class\": \"BatchNorm1d\", \"kargs\": {\"num_features\":256}},\n",
    "\n",
    "    {\"class\": \"Linear\", \"kargs\": {\"in_features\": 256, \"out_features\": 256}},\n",
    "]\n",
    "\n",
    "# Parameters relevant to results\n",
    "# These parameters will basically never need to change\n",
    "standalone_parameters[\"NUM_LOGS_PER_EPOCH\"] = 10\n",
    "standalone_parameters[\"BEST_MODEL_PATH\"] = \"./best_model.pth\"\n",
    "\n",
    "# uncomment for CORES dataset\n",
    "from steves_utils.CORES.utils import (\n",
    "    ALL_NODES,\n",
    "    ALL_NODES_MINIMUM_1000_EXAMPLES,\n",
    "    ALL_DAYS\n",
    ")\n",
    "\n",
    "\n",
    "standalone_parameters[\"labels_source\"] = ALL_NODES\n",
    "standalone_parameters[\"labels_target\"] = ALL_NODES\n",
    "\n",
    "standalone_parameters[\"domains_source\"] = [1]\n",
    "standalone_parameters[\"domains_target\"] = [2,3,4,5]\n",
    "\n",
    "standalone_parameters[\"pickle_name\"] = \"cores.stratified_ds.2022A.pkl\"\n",
    "\n",
    "\n",
    "# Uncomment these for ORACLE dataset\n",
    "# from steves_utils.ORACLE.utils_v2 import (\n",
    "#     ALL_DISTANCES_FEET,\n",
    "#     ALL_RUNS,\n",
    "#     ALL_SERIAL_NUMBERS,\n",
    "# )\n",
    "# standalone_parameters[\"labels_source\"] = ALL_SERIAL_NUMBERS\n",
    "# standalone_parameters[\"labels_target\"] = ALL_SERIAL_NUMBERS\n",
    "# standalone_parameters[\"domains_source\"] = [8,20, 38,50]\n",
    "# standalone_parameters[\"domains_target\"] = [14, 26, 32, 44, 56]\n",
    "# standalone_parameters[\"pickle_name\"] = \"oracle.frame_indexed.stratified_ds.2022A.pkl\"\n",
    "# standalone_parameters[\"num_examples_per_domain_per_label_source\"]=1000\n",
    "# standalone_parameters[\"num_examples_per_domain_per_label_target\"]=1000\n",
    "\n",
    "# Uncomment these for Metahan dataset\n",
    "# standalone_parameters[\"labels_source\"] = list(range(19))\n",
    "# standalone_parameters[\"labels_target\"] = list(range(19))\n",
    "# standalone_parameters[\"domains_source\"] = [0]\n",
    "# standalone_parameters[\"domains_target\"] = [1]\n",
    "# standalone_parameters[\"pickle_name\"] = \"metehan.stratified_ds.2022A.pkl\"\n",
    "# standalone_parameters[\"n_way\"]  = len(standalone_parameters[\"labels_source\"])\n",
    "# standalone_parameters[\"num_examples_per_domain_per_label_source\"]=200\n",
    "# standalone_parameters[\"num_examples_per_domain_per_label_target\"]=100\n",
    "\n",
    "\n",
    "standalone_parameters[\"n_way\"]  = len(standalone_parameters[\"labels_source\"])"
   ]
  },
  {
   "cell_type": "code",
   "execution_count": 4,
   "id": "fe2def5e",
   "metadata": {
    "execution": {
     "iopub.execute_input": "2022-03-22T16:21:01.026175Z",
     "iopub.status.busy": "2022-03-22T16:21:01.025459Z",
     "iopub.status.idle": "2022-03-22T16:21:01.038025Z",
     "shell.execute_reply": "2022-03-22T16:21:01.037643Z"
    },
    "papermill": {
     "duration": 0.02796,
     "end_time": "2022-03-22T16:21:01.038112",
     "exception": false,
     "start_time": "2022-03-22T16:21:01.010152",
     "status": "completed"
    },
    "tags": [
     "injected-parameters"
    ]
   },
   "outputs": [],
   "source": [
    "# Parameters\n",
    "parameters = {\n",
    "    \"experiment_name\": \"tuned_1v2:cores\",\n",
    "    \"device\": \"cuda\",\n",
    "    \"lr\": 0.0001,\n",
    "    \"labels_source\": [\n",
    "        \"1-10.\",\n",
    "        \"1-11.\",\n",
    "        \"1-15.\",\n",
    "        \"1-16.\",\n",
    "        \"1-17.\",\n",
    "        \"1-18.\",\n",
    "        \"1-19.\",\n",
    "        \"10-4.\",\n",
    "        \"10-7.\",\n",
    "        \"11-1.\",\n",
    "        \"11-14.\",\n",
    "        \"11-17.\",\n",
    "        \"11-20.\",\n",
    "        \"11-7.\",\n",
    "        \"13-20.\",\n",
    "        \"13-8.\",\n",
    "        \"14-10.\",\n",
    "        \"14-11.\",\n",
    "        \"14-14.\",\n",
    "        \"14-7.\",\n",
    "        \"15-1.\",\n",
    "        \"15-20.\",\n",
    "        \"16-1.\",\n",
    "        \"16-16.\",\n",
    "        \"17-10.\",\n",
    "        \"17-11.\",\n",
    "        \"17-2.\",\n",
    "        \"19-1.\",\n",
    "        \"19-16.\",\n",
    "        \"19-19.\",\n",
    "        \"19-20.\",\n",
    "        \"19-3.\",\n",
    "        \"2-10.\",\n",
    "        \"2-11.\",\n",
    "        \"2-17.\",\n",
    "        \"2-18.\",\n",
    "        \"2-20.\",\n",
    "        \"2-3.\",\n",
    "        \"2-4.\",\n",
    "        \"2-5.\",\n",
    "        \"2-6.\",\n",
    "        \"2-7.\",\n",
    "        \"2-8.\",\n",
    "        \"3-13.\",\n",
    "        \"3-18.\",\n",
    "        \"3-3.\",\n",
    "        \"4-1.\",\n",
    "        \"4-10.\",\n",
    "        \"4-11.\",\n",
    "        \"4-19.\",\n",
    "        \"5-5.\",\n",
    "        \"6-15.\",\n",
    "        \"7-10.\",\n",
    "        \"7-14.\",\n",
    "        \"8-18.\",\n",
    "        \"8-20.\",\n",
    "        \"8-3.\",\n",
    "        \"8-8.\",\n",
    "    ],\n",
    "    \"labels_target\": [\n",
    "        \"1-10.\",\n",
    "        \"1-11.\",\n",
    "        \"1-15.\",\n",
    "        \"1-16.\",\n",
    "        \"1-17.\",\n",
    "        \"1-18.\",\n",
    "        \"1-19.\",\n",
    "        \"10-4.\",\n",
    "        \"10-7.\",\n",
    "        \"11-1.\",\n",
    "        \"11-14.\",\n",
    "        \"11-17.\",\n",
    "        \"11-20.\",\n",
    "        \"11-7.\",\n",
    "        \"13-20.\",\n",
    "        \"13-8.\",\n",
    "        \"14-10.\",\n",
    "        \"14-11.\",\n",
    "        \"14-14.\",\n",
    "        \"14-7.\",\n",
    "        \"15-1.\",\n",
    "        \"15-20.\",\n",
    "        \"16-1.\",\n",
    "        \"16-16.\",\n",
    "        \"17-10.\",\n",
    "        \"17-11.\",\n",
    "        \"17-2.\",\n",
    "        \"19-1.\",\n",
    "        \"19-16.\",\n",
    "        \"19-19.\",\n",
    "        \"19-20.\",\n",
    "        \"19-3.\",\n",
    "        \"2-10.\",\n",
    "        \"2-11.\",\n",
    "        \"2-17.\",\n",
    "        \"2-18.\",\n",
    "        \"2-20.\",\n",
    "        \"2-3.\",\n",
    "        \"2-4.\",\n",
    "        \"2-5.\",\n",
    "        \"2-6.\",\n",
    "        \"2-7.\",\n",
    "        \"2-8.\",\n",
    "        \"3-13.\",\n",
    "        \"3-18.\",\n",
    "        \"3-3.\",\n",
    "        \"4-1.\",\n",
    "        \"4-10.\",\n",
    "        \"4-11.\",\n",
    "        \"4-19.\",\n",
    "        \"5-5.\",\n",
    "        \"6-15.\",\n",
    "        \"7-10.\",\n",
    "        \"7-14.\",\n",
    "        \"8-18.\",\n",
    "        \"8-20.\",\n",
    "        \"8-3.\",\n",
    "        \"8-8.\",\n",
    "    ],\n",
    "    \"episode_transforms_source\": [],\n",
    "    \"episode_transforms_target\": [],\n",
    "    \"domains_source\": [1, 5],\n",
    "    \"domains_target\": [2, 3, 4],\n",
    "    \"num_examples_per_domain_per_label_source\": -1,\n",
    "    \"num_examples_per_domain_per_label_target\": -1,\n",
    "    \"n_shot\": 3,\n",
    "    \"n_way\": 58,\n",
    "    \"n_query\": 2,\n",
    "    \"train_k_factor\": 3,\n",
    "    \"val_k_factor\": 2,\n",
    "    \"test_k_factor\": 2,\n",
    "    \"torch_default_dtype\": \"torch.float32\",\n",
    "    \"n_epoch\": 50,\n",
    "    \"patience\": 3,\n",
    "    \"criteria_for_best\": \"target_accuracy\",\n",
    "    \"x_net\": [\n",
    "        {\"class\": \"nnReshape\", \"kargs\": {\"shape\": [-1, 1, 2, 256]}},\n",
    "        {\n",
    "            \"class\": \"Conv2d\",\n",
    "            \"kargs\": {\n",
    "                \"in_channels\": 1,\n",
    "                \"out_channels\": 256,\n",
    "                \"kernel_size\": [1, 7],\n",
    "                \"bias\": False,\n",
    "                \"padding\": [0, 3],\n",
    "            },\n",
    "        },\n",
    "        {\"class\": \"ReLU\", \"kargs\": {\"inplace\": True}},\n",
    "        {\"class\": \"BatchNorm2d\", \"kargs\": {\"num_features\": 256}},\n",
    "        {\n",
    "            \"class\": \"Conv2d\",\n",
    "            \"kargs\": {\n",
    "                \"in_channels\": 256,\n",
    "                \"out_channels\": 80,\n",
    "                \"kernel_size\": [2, 7],\n",
    "                \"bias\": True,\n",
    "                \"padding\": [0, 3],\n",
    "            },\n",
    "        },\n",
    "        {\"class\": \"ReLU\", \"kargs\": {\"inplace\": True}},\n",
    "        {\"class\": \"BatchNorm2d\", \"kargs\": {\"num_features\": 80}},\n",
    "        {\"class\": \"Flatten\", \"kargs\": {}},\n",
    "        {\"class\": \"Linear\", \"kargs\": {\"in_features\": 20480, \"out_features\": 256}},\n",
    "        {\"class\": \"ReLU\", \"kargs\": {\"inplace\": True}},\n",
    "        {\"class\": \"BatchNorm1d\", \"kargs\": {\"num_features\": 256}},\n",
    "        {\"class\": \"Linear\", \"kargs\": {\"in_features\": 256, \"out_features\": 256}},\n",
    "    ],\n",
    "    \"NUM_LOGS_PER_EPOCH\": 10,\n",
    "    \"BEST_MODEL_PATH\": \"./best_model.pth\",\n",
    "    \"pickle_name\": \"cores.stratified_ds.2022A.pkl\",\n",
    "    \"x_transforms_source\": [\"unit_power\"],\n",
    "    \"x_transforms_target\": [\"unit_power\"],\n",
    "    \"dataset_seed\": 420,\n",
    "    \"seed\": 420,\n",
    "}\n"
   ]
  },
  {
   "cell_type": "code",
   "execution_count": 5,
   "id": "8fa1cc33",
   "metadata": {
    "execution": {
     "iopub.execute_input": "2022-03-22T16:21:01.065794Z",
     "iopub.status.busy": "2022-03-22T16:21:01.065541Z",
     "iopub.status.idle": "2022-03-22T16:21:01.079564Z",
     "shell.execute_reply": "2022-03-22T16:21:01.079224Z"
    },
    "papermill": {
     "duration": 0.027414,
     "end_time": "2022-03-22T16:21:01.079633",
     "exception": false,
     "start_time": "2022-03-22T16:21:01.052219",
     "status": "completed"
    },
    "tags": []
   },
   "outputs": [],
   "source": [
    "# Set this to True if you want to run this template directly\n",
    "STANDALONE = False\n",
    "if STANDALONE:\n",
    "    print(\"parameters not injected, running with standalone_parameters\")\n",
    "    parameters = standalone_parameters\n",
    "\n",
    "if not 'parameters' in locals() and not 'parameters' in globals():\n",
    "    raise Exception(\"Parameter injection failed\")\n",
    "\n",
    "#Use an easy dict for all the parameters\n",
    "p = EasyDict(parameters)\n",
    "\n",
    "supplied_keys = set(p.keys())\n",
    "\n",
    "if  supplied_keys != required_parameters:\n",
    "    print(\"Parameters are incorrect\")\n",
    "    if len(supplied_keys - required_parameters)>0: print(\"Shouldn't have:\", str(supplied_keys - required_parameters))\n",
    "    if len(required_parameters - supplied_keys)>0: print(\"Need to have:\", str(required_parameters - supplied_keys))\n",
    "    raise RuntimeError(\"Parameters are incorrect\")\n",
    "\n"
   ]
  },
  {
   "cell_type": "code",
   "execution_count": 6,
   "id": "3a028d58",
   "metadata": {
    "execution": {
     "iopub.execute_input": "2022-03-22T16:21:01.105746Z",
     "iopub.status.busy": "2022-03-22T16:21:01.105500Z",
     "iopub.status.idle": "2022-03-22T16:21:01.118869Z",
     "shell.execute_reply": "2022-03-22T16:21:01.118649Z"
    },
    "papermill": {
     "duration": 0.025544,
     "end_time": "2022-03-22T16:21:01.118919",
     "exception": false,
     "start_time": "2022-03-22T16:21:01.093375",
     "status": "completed"
    },
    "tags": []
   },
   "outputs": [],
   "source": [
    "###################################\n",
    "# Set the RNGs and make it all deterministic\n",
    "###################################\n",
    "np.random.seed(p.seed)\n",
    "random.seed(p.seed)\n",
    "torch.manual_seed(p.seed)\n",
    "\n",
    "torch.use_deterministic_algorithms(True) "
   ]
  },
  {
   "cell_type": "code",
   "execution_count": 7,
   "id": "b691acf6",
   "metadata": {
    "execution": {
     "iopub.execute_input": "2022-03-22T16:21:01.144653Z",
     "iopub.status.busy": "2022-03-22T16:21:01.144405Z",
     "iopub.status.idle": "2022-03-22T16:21:01.156419Z",
     "shell.execute_reply": "2022-03-22T16:21:01.155989Z"
    },
    "papermill": {
     "duration": 0.023991,
     "end_time": "2022-03-22T16:21:01.156506",
     "exception": false,
     "start_time": "2022-03-22T16:21:01.132515",
     "status": "completed"
    },
    "tags": []
   },
   "outputs": [],
   "source": [
    "###########################################\n",
    "# The stratified datasets honor this\n",
    "###########################################\n",
    "torch.set_default_dtype(eval(p.torch_default_dtype))"
   ]
  },
  {
   "cell_type": "code",
   "execution_count": 8,
   "id": "b5fba671",
   "metadata": {
    "execution": {
     "iopub.execute_input": "2022-03-22T16:21:01.184213Z",
     "iopub.status.busy": "2022-03-22T16:21:01.183941Z",
     "iopub.status.idle": "2022-03-22T16:21:01.223690Z",
     "shell.execute_reply": "2022-03-22T16:21:01.223294Z"
    },
    "papermill": {
     "duration": 0.052134,
     "end_time": "2022-03-22T16:21:01.223778",
     "exception": false,
     "start_time": "2022-03-22T16:21:01.171644",
     "status": "completed"
    },
    "tags": []
   },
   "outputs": [],
   "source": [
    "###################################\n",
    "# Build the network(s)\n",
    "# Note: It's critical to do this AFTER setting the RNG\n",
    "# (This is due to the randomized initial weights)\n",
    "###################################\n",
    "x_net = build_sequential(p.x_net)"
   ]
  },
  {
   "cell_type": "code",
   "execution_count": 9,
   "id": "5d7e61cc",
   "metadata": {
    "execution": {
     "iopub.execute_input": "2022-03-22T16:21:01.250438Z",
     "iopub.status.busy": "2022-03-22T16:21:01.250192Z",
     "iopub.status.idle": "2022-03-22T16:21:01.265315Z",
     "shell.execute_reply": "2022-03-22T16:21:01.264871Z"
    },
    "papermill": {
     "duration": 0.027803,
     "end_time": "2022-03-22T16:21:01.265403",
     "exception": false,
     "start_time": "2022-03-22T16:21:01.237600",
     "status": "completed"
    },
    "tags": []
   },
   "outputs": [],
   "source": [
    "start_time_secs = time.time()"
   ]
  },
  {
   "cell_type": "code",
   "execution_count": 10,
   "id": "fd5442bc",
   "metadata": {
    "execution": {
     "iopub.execute_input": "2022-03-22T16:21:01.296398Z",
     "iopub.status.busy": "2022-03-22T16:21:01.296030Z",
     "iopub.status.idle": "2022-03-22T16:21:17.213506Z",
     "shell.execute_reply": "2022-03-22T16:21:17.213025Z"
    },
    "papermill": {
     "duration": 15.933321,
     "end_time": "2022-03-22T16:21:17.213608",
     "exception": false,
     "start_time": "2022-03-22T16:21:01.280287",
     "status": "completed"
    },
    "tags": []
   },
   "outputs": [],
   "source": [
    "###################################\n",
    "# Build the dataset\n",
    "###################################\n",
    "\n",
    "if p.x_transforms_source == []: x_transform_source = None\n",
    "else: x_transform_source = get_chained_transform(p.x_transforms_source) \n",
    "\n",
    "if p.x_transforms_target == []: x_transform_target = None\n",
    "else: x_transform_target = get_chained_transform(p.x_transforms_target)\n",
    "\n",
    "if p.episode_transforms_source == []: episode_transform_source = None\n",
    "else: raise Exception(\"episode_transform_source not implemented\")\n",
    "\n",
    "if p.episode_transforms_target == []: episode_transform_target = None\n",
    "else: raise Exception(\"episode_transform_target not implemented\")\n",
    "\n",
    "\n",
    "eaf_source = Episodic_Accessor_Factory(\n",
    "    labels=p.labels_source,\n",
    "    domains=p.domains_source,\n",
    "    num_examples_per_domain_per_label=p.num_examples_per_domain_per_label_source,\n",
    "    iterator_seed=p.seed,\n",
    "    dataset_seed=p.dataset_seed,\n",
    "    n_shot=p.n_shot,\n",
    "    n_way=p.n_way,\n",
    "    n_query=p.n_query,\n",
    "    train_val_test_k_factors=(p.train_k_factor,p.val_k_factor,p.test_k_factor),\n",
    "    pickle_path=os.path.join(get_datasets_base_path(), p.pickle_name),\n",
    "    x_transform_func=x_transform_source,\n",
    "    example_transform_func=episode_transform_source,\n",
    "    \n",
    ")\n",
    "train_original_source, val_original_source, test_original_source = eaf_source.get_train(), eaf_source.get_val(), eaf_source.get_test()\n",
    "\n",
    "\n",
    "eaf_target = Episodic_Accessor_Factory(\n",
    "    labels=p.labels_target,\n",
    "    domains=p.domains_target,\n",
    "    num_examples_per_domain_per_label=p.num_examples_per_domain_per_label_target,\n",
    "    iterator_seed=p.seed,\n",
    "    dataset_seed=p.dataset_seed,\n",
    "    n_shot=p.n_shot,\n",
    "    n_way=p.n_way,\n",
    "    n_query=p.n_query,\n",
    "    train_val_test_k_factors=(p.train_k_factor,p.val_k_factor,p.test_k_factor),\n",
    "    pickle_path=os.path.join(get_datasets_base_path(), p.pickle_name),\n",
    "    x_transform_func=x_transform_target,\n",
    "    example_transform_func=episode_transform_target,\n",
    ")\n",
    "train_original_target, val_original_target, test_original_target = eaf_target.get_train(), eaf_target.get_val(), eaf_target.get_test()\n",
    "\n",
    "\n",
    "transform_lambda = lambda ex: ex[1] # Original is (<domain>, <episode>) so we strip down to episode only\n",
    "\n",
    "train_processed_source = Lazy_Iterable_Wrapper(train_original_source, transform_lambda)\n",
    "val_processed_source   = Lazy_Iterable_Wrapper(val_original_source, transform_lambda)\n",
    "test_processed_source  = Lazy_Iterable_Wrapper(test_original_source, transform_lambda)\n",
    "\n",
    "train_processed_target = Lazy_Iterable_Wrapper(train_original_target, transform_lambda)\n",
    "val_processed_target   = Lazy_Iterable_Wrapper(val_original_target, transform_lambda)\n",
    "test_processed_target  = Lazy_Iterable_Wrapper(test_original_target, transform_lambda)\n",
    "\n",
    "datasets = EasyDict({\n",
    "    \"source\": {\n",
    "        \"original\": {\"train\":train_original_source, \"val\":val_original_source, \"test\":test_original_source},\n",
    "        \"processed\": {\"train\":train_processed_source, \"val\":val_processed_source, \"test\":test_processed_source}\n",
    "    },\n",
    "    \"target\": {\n",
    "        \"original\": {\"train\":train_original_target, \"val\":val_original_target, \"test\":test_original_target},\n",
    "        \"processed\": {\"train\":train_processed_target, \"val\":val_processed_target, \"test\":test_processed_target}\n",
    "    },\n",
    "})"
   ]
  },
  {
   "cell_type": "code",
   "execution_count": 11,
   "id": "296189d9",
   "metadata": {
    "execution": {
     "iopub.execute_input": "2022-03-22T16:21:17.240965Z",
     "iopub.status.busy": "2022-03-22T16:21:17.240710Z",
     "iopub.status.idle": "2022-03-22T16:21:18.930534Z",
     "shell.execute_reply": "2022-03-22T16:21:18.930899Z"
    },
    "papermill": {
     "duration": 1.702769,
     "end_time": "2022-03-22T16:21:18.931009",
     "exception": false,
     "start_time": "2022-03-22T16:21:17.228240",
     "status": "completed"
    },
    "tags": []
   },
   "outputs": [
    {
     "name": "stdout",
     "output_type": "stream",
     "text": [
      "Visually inspect these to see if they line up with expected values given the transforms\n",
      "x_transforms_source ['unit_power']\n",
      "x_transforms_target ['unit_power']\n",
      "Average magnitude, source: 0.9321008\n",
      "Average power, source: 1.0\n"
     ]
    },
    {
     "name": "stdout",
     "output_type": "stream",
     "text": [
      "Average magnitude, target: 0.93180424\n",
      "Average power, target: 1.0\n"
     ]
    }
   ],
   "source": [
    "# Some quick unit tests on the data\n",
    "from steves_utils.transforms import get_average_power, get_average_magnitude\n",
    "\n",
    "q_x, q_y, s_x, s_y, truth = next(iter(train_processed_source))\n",
    "\n",
    "assert q_x.dtype == eval(p.torch_default_dtype)\n",
    "assert s_x.dtype == eval(p.torch_default_dtype)\n",
    "\n",
    "print(\"Visually inspect these to see if they line up with expected values given the transforms\")\n",
    "print('x_transforms_source', p.x_transforms_source)\n",
    "print('x_transforms_target', p.x_transforms_target)\n",
    "print(\"Average magnitude, source:\", get_average_magnitude(q_x[0].numpy()))\n",
    "print(\"Average power, source:\", get_average_power(q_x[0].numpy()))\n",
    "\n",
    "q_x, q_y, s_x, s_y, truth = next(iter(train_processed_target))\n",
    "print(\"Average magnitude, target:\", get_average_magnitude(q_x[0].numpy()))\n",
    "print(\"Average power, target:\", get_average_power(q_x[0].numpy()))\n"
   ]
  },
  {
   "cell_type": "code",
   "execution_count": 12,
   "id": "bbdacba1",
   "metadata": {
    "execution": {
     "iopub.execute_input": "2022-03-22T16:21:18.964847Z",
     "iopub.status.busy": "2022-03-22T16:21:18.964582Z",
     "iopub.status.idle": "2022-03-22T16:21:19.025132Z",
     "shell.execute_reply": "2022-03-22T16:21:19.024882Z"
    },
    "papermill": {
     "duration": 0.078969,
     "end_time": "2022-03-22T16:21:19.025188",
     "exception": false,
     "start_time": "2022-03-22T16:21:18.946219",
     "status": "completed"
    },
    "tags": []
   },
   "outputs": [
    {
     "name": "stdout",
     "output_type": "stream",
     "text": [
      "(2, 256)\n"
     ]
    }
   ],
   "source": [
    "###################################\n",
    "# Build the model\n",
    "###################################\n",
    "model = Steves_Prototypical_Network(x_net, device=p.device, x_shape=(2,256))\n",
    "optimizer = Adam(params=model.parameters(), lr=p.lr)"
   ]
  },
  {
   "cell_type": "code",
   "execution_count": 13,
   "id": "22b39ac5",
   "metadata": {
    "execution": {
     "iopub.execute_input": "2022-03-22T16:21:19.052500Z",
     "iopub.status.busy": "2022-03-22T16:21:19.052251Z",
     "iopub.status.idle": "2022-03-22T16:22:37.789862Z",
     "shell.execute_reply": "2022-03-22T16:22:37.789453Z"
    },
    "papermill": {
     "duration": 78.751186,
     "end_time": "2022-03-22T16:22:37.789963",
     "exception": false,
     "start_time": "2022-03-22T16:21:19.038777",
     "status": "completed"
    },
    "tags": []
   },
   "outputs": [
    {
     "name": "stdout",
     "output_type": "stream",
     "text": [
      "epoch: 1, [batch: 1 / 156], examples_per_second: 1010.2618, train_label_loss: 3.8040, \n"
     ]
    },
    {
     "name": "stdout",
     "output_type": "stream",
     "text": [
      "epoch: 1, [batch: 16 / 156], examples_per_second: 3833.2280, train_label_loss: 1.9817, \n"
     ]
    },
    {
     "name": "stdout",
     "output_type": "stream",
     "text": [
      "epoch: 1, [batch: 32 / 156], examples_per_second: 3853.6878, train_label_loss: 0.8999, \n"
     ]
    },
    {
     "name": "stdout",
     "output_type": "stream",
     "text": [
      "epoch: 1, [batch: 47 / 156], examples_per_second: 3794.4493, train_label_loss: 0.4457, \n"
     ]
    },
    {
     "name": "stdout",
     "output_type": "stream",
     "text": [
      "epoch: 1, [batch: 63 / 156], examples_per_second: 3896.7790, train_label_loss: 0.2451, \n"
     ]
    },
    {
     "name": "stdout",
     "output_type": "stream",
     "text": [
      "epoch: 1, [batch: 78 / 156], examples_per_second: 3905.3929, train_label_loss: 0.1435, \n"
     ]
    },
    {
     "name": "stdout",
     "output_type": "stream",
     "text": [
      "epoch: 1, [batch: 94 / 156], examples_per_second: 3839.4609, train_label_loss: 0.1092, \n"
     ]
    },
    {
     "name": "stdout",
     "output_type": "stream",
     "text": [
      "epoch: 1, [batch: 109 / 156], examples_per_second: 3903.7267, train_label_loss: 0.0871, \n"
     ]
    },
    {
     "name": "stdout",
     "output_type": "stream",
     "text": [
      "epoch: 1, [batch: 125 / 156], examples_per_second: 3925.3435, train_label_loss: 0.0715, \n"
     ]
    },
    {
     "name": "stdout",
     "output_type": "stream",
     "text": [
      "epoch: 1, [batch: 140 / 156], examples_per_second: 3923.5021, train_label_loss: 0.1140, \n"
     ]
    },
    {
     "name": "stdout",
     "output_type": "stream",
     "text": [
      "=============================================================\n",
      "epoch: 1, source_val_acc_label: 0.9957, target_val_acc_label: 0.9781, source_val_label_loss: 0.0524, target_val_label_loss: 0.1397, \n",
      "=============================================================\n"
     ]
    },
    {
     "name": "stdout",
     "output_type": "stream",
     "text": [
      "New best\n"
     ]
    },
    {
     "name": "stdout",
     "output_type": "stream",
     "text": [
      "epoch: 2, [batch: 1 / 156], examples_per_second: 200.3421, train_label_loss: 0.1023, \n"
     ]
    },
    {
     "name": "stdout",
     "output_type": "stream",
     "text": [
      "epoch: 2, [batch: 16 / 156], examples_per_second: 3925.0475, train_label_loss: 0.0255, \n"
     ]
    },
    {
     "name": "stdout",
     "output_type": "stream",
     "text": [
      "epoch: 2, [batch: 32 / 156], examples_per_second: 3920.6636, train_label_loss: 0.0080, \n"
     ]
    },
    {
     "name": "stdout",
     "output_type": "stream",
     "text": [
      "epoch: 2, [batch: 47 / 156], examples_per_second: 3869.9588, train_label_loss: 0.0533, \n"
     ]
    },
    {
     "name": "stdout",
     "output_type": "stream",
     "text": [
      "epoch: 2, [batch: 63 / 156], examples_per_second: 3980.7529, train_label_loss: 0.0067, \n"
     ]
    },
    {
     "name": "stdout",
     "output_type": "stream",
     "text": [
      "epoch: 2, [batch: 78 / 156], examples_per_second: 3977.7758, train_label_loss: 0.0059, \n"
     ]
    },
    {
     "name": "stdout",
     "output_type": "stream",
     "text": [
      "epoch: 2, [batch: 94 / 156], examples_per_second: 3900.2683, train_label_loss: 0.0208, \n"
     ]
    },
    {
     "name": "stdout",
     "output_type": "stream",
     "text": [
      "epoch: 2, [batch: 109 / 156], examples_per_second: 3977.0536, train_label_loss: 0.0034, \n"
     ]
    },
    {
     "name": "stdout",
     "output_type": "stream",
     "text": [
      "epoch: 2, [batch: 125 / 156], examples_per_second: 3978.0084, train_label_loss: 0.0179, \n"
     ]
    },
    {
     "name": "stdout",
     "output_type": "stream",
     "text": [
      "epoch: 2, [batch: 140 / 156], examples_per_second: 3970.0854, train_label_loss: 0.0033, \n"
     ]
    },
    {
     "name": "stdout",
     "output_type": "stream",
     "text": [
      "=============================================================\n",
      "epoch: 2, source_val_acc_label: 0.9980, target_val_acc_label: 0.9871, source_val_label_loss: 0.0108, target_val_label_loss: 0.0464, \n",
      "=============================================================\n"
     ]
    },
    {
     "name": "stdout",
     "output_type": "stream",
     "text": [
      "New best\n"
     ]
    },
    {
     "name": "stdout",
     "output_type": "stream",
     "text": [
      "epoch: 3, [batch: 1 / 156], examples_per_second: 197.2555, train_label_loss: 0.0071, \n"
     ]
    },
    {
     "name": "stdout",
     "output_type": "stream",
     "text": [
      "epoch: 3, [batch: 16 / 156], examples_per_second: 3924.0590, train_label_loss: 0.0442, \n"
     ]
    },
    {
     "name": "stdout",
     "output_type": "stream",
     "text": [
      "epoch: 3, [batch: 32 / 156], examples_per_second: 3921.2040, train_label_loss: 0.0031, \n"
     ]
    },
    {
     "name": "stdout",
     "output_type": "stream",
     "text": [
      "epoch: 3, [batch: 47 / 156], examples_per_second: 3870.9448, train_label_loss: 0.0020, \n"
     ]
    },
    {
     "name": "stdout",
     "output_type": "stream",
     "text": [
      "epoch: 3, [batch: 63 / 156], examples_per_second: 3982.4888, train_label_loss: 0.0056, \n"
     ]
    },
    {
     "name": "stdout",
     "output_type": "stream",
     "text": [
      "epoch: 3, [batch: 78 / 156], examples_per_second: 3979.0519, train_label_loss: 0.0022, \n"
     ]
    },
    {
     "name": "stdout",
     "output_type": "stream",
     "text": [
      "epoch: 3, [batch: 94 / 156], examples_per_second: 3899.9682, train_label_loss: 0.0018, \n"
     ]
    },
    {
     "name": "stdout",
     "output_type": "stream",
     "text": [
      "epoch: 3, [batch: 109 / 156], examples_per_second: 3977.6986, train_label_loss: 0.0255, \n"
     ]
    },
    {
     "name": "stdout",
     "output_type": "stream",
     "text": [
      "epoch: 3, [batch: 125 / 156], examples_per_second: 3982.1629, train_label_loss: 0.1201, \n"
     ]
    },
    {
     "name": "stdout",
     "output_type": "stream",
     "text": [
      "epoch: 3, [batch: 140 / 156], examples_per_second: 3981.2321, train_label_loss: 0.0052, \n"
     ]
    },
    {
     "name": "stdout",
     "output_type": "stream",
     "text": [
      "=============================================================\n",
      "epoch: 3, source_val_acc_label: 0.9922, target_val_acc_label: 0.9721, source_val_label_loss: 0.0235, target_val_label_loss: 0.0897, \n",
      "=============================================================\n"
     ]
    },
    {
     "name": "stdout",
     "output_type": "stream",
     "text": [
      "epoch: 4, [batch: 1 / 156], examples_per_second: 202.5348, train_label_loss: 0.0241, \n"
     ]
    },
    {
     "name": "stdout",
     "output_type": "stream",
     "text": [
      "epoch: 4, [batch: 16 / 156], examples_per_second: 3932.5219, train_label_loss: 0.0109, \n"
     ]
    },
    {
     "name": "stdout",
     "output_type": "stream",
     "text": [
      "epoch: 4, [batch: 32 / 156], examples_per_second: 3934.4187, train_label_loss: 0.0086, \n"
     ]
    },
    {
     "name": "stdout",
     "output_type": "stream",
     "text": [
      "epoch: 4, [batch: 47 / 156], examples_per_second: 3878.2539, train_label_loss: 0.0708, \n"
     ]
    },
    {
     "name": "stdout",
     "output_type": "stream",
     "text": [
      "epoch: 4, [batch: 63 / 156], examples_per_second: 3992.9926, train_label_loss: 0.0007, \n"
     ]
    },
    {
     "name": "stdout",
     "output_type": "stream",
     "text": [
      "epoch: 4, [batch: 78 / 156], examples_per_second: 3992.7972, train_label_loss: 0.0031, \n"
     ]
    },
    {
     "name": "stdout",
     "output_type": "stream",
     "text": [
      "epoch: 4, [batch: 94 / 156], examples_per_second: 3912.3870, train_label_loss: 0.0012, \n"
     ]
    },
    {
     "name": "stdout",
     "output_type": "stream",
     "text": [
      "epoch: 4, [batch: 109 / 156], examples_per_second: 3993.8879, train_label_loss: 0.0019, \n"
     ]
    },
    {
     "name": "stdout",
     "output_type": "stream",
     "text": [
      "epoch: 4, [batch: 125 / 156], examples_per_second: 3948.6054, train_label_loss: 0.0007, \n"
     ]
    },
    {
     "name": "stdout",
     "output_type": "stream",
     "text": [
      "epoch: 4, [batch: 140 / 156], examples_per_second: 3991.9341, train_label_loss: 0.0014, \n"
     ]
    },
    {
     "name": "stdout",
     "output_type": "stream",
     "text": [
      "=============================================================\n",
      "epoch: 4, source_val_acc_label: 0.9976, target_val_acc_label: 0.9821, source_val_label_loss: 0.0072, target_val_label_loss: 0.0556, \n",
      "=============================================================\n"
     ]
    },
    {
     "name": "stdout",
     "output_type": "stream",
     "text": [
      "epoch: 5, [batch: 1 / 156], examples_per_second: 202.5588, train_label_loss: 0.0030, \n"
     ]
    },
    {
     "name": "stdout",
     "output_type": "stream",
     "text": [
      "epoch: 5, [batch: 16 / 156], examples_per_second: 3928.6335, train_label_loss: 0.0022, \n"
     ]
    },
    {
     "name": "stdout",
     "output_type": "stream",
     "text": [
      "epoch: 5, [batch: 32 / 156], examples_per_second: 3930.2259, train_label_loss: 0.0034, \n"
     ]
    },
    {
     "name": "stdout",
     "output_type": "stream",
     "text": [
      "epoch: 5, [batch: 47 / 156], examples_per_second: 3875.4654, train_label_loss: 0.0052, \n"
     ]
    },
    {
     "name": "stdout",
     "output_type": "stream",
     "text": [
      "epoch: 5, [batch: 63 / 156], examples_per_second: 3988.8458, train_label_loss: 0.0029, \n"
     ]
    },
    {
     "name": "stdout",
     "output_type": "stream",
     "text": [
      "epoch: 5, [batch: 78 / 156], examples_per_second: 3994.4065, train_label_loss: 0.0050, \n"
     ]
    },
    {
     "name": "stdout",
     "output_type": "stream",
     "text": [
      "epoch: 5, [batch: 94 / 156], examples_per_second: 3913.2020, train_label_loss: 0.0002, \n"
     ]
    },
    {
     "name": "stdout",
     "output_type": "stream",
     "text": [
      "epoch: 5, [batch: 109 / 156], examples_per_second: 3994.4922, train_label_loss: 0.0081, \n"
     ]
    },
    {
     "name": "stdout",
     "output_type": "stream",
     "text": [
      "epoch: 5, [batch: 125 / 156], examples_per_second: 3987.7318, train_label_loss: 0.0050, \n"
     ]
    },
    {
     "name": "stdout",
     "output_type": "stream",
     "text": [
      "epoch: 5, [batch: 140 / 156], examples_per_second: 3980.1144, train_label_loss: 0.0006, \n"
     ]
    },
    {
     "name": "stdout",
     "output_type": "stream",
     "text": [
      "=============================================================\n",
      "epoch: 5, source_val_acc_label: 0.9976, target_val_acc_label: 0.9844, source_val_label_loss: 0.0116, target_val_label_loss: 0.0523, \n",
      "=============================================================\n"
     ]
    },
    {
     "name": "stdout",
     "output_type": "stream",
     "text": [
      "epoch: 6, [batch: 1 / 156], examples_per_second: 202.2468, train_label_loss: 0.0050, \n"
     ]
    },
    {
     "name": "stdout",
     "output_type": "stream",
     "text": [
      "epoch: 6, [batch: 16 / 156], examples_per_second: 3937.6608, train_label_loss: 0.0003, \n"
     ]
    },
    {
     "name": "stdout",
     "output_type": "stream",
     "text": [
      "epoch: 6, [batch: 32 / 156], examples_per_second: 3947.3616, train_label_loss: 0.0009, \n"
     ]
    },
    {
     "name": "stdout",
     "output_type": "stream",
     "text": [
      "epoch: 6, [batch: 47 / 156], examples_per_second: 3883.6537, train_label_loss: 0.0110, \n"
     ]
    },
    {
     "name": "stdout",
     "output_type": "stream",
     "text": [
      "epoch: 6, [batch: 63 / 156], examples_per_second: 3992.0253, train_label_loss: 0.0004, \n"
     ]
    },
    {
     "name": "stdout",
     "output_type": "stream",
     "text": [
      "epoch: 6, [batch: 78 / 156], examples_per_second: 3993.1257, train_label_loss: 0.0002, \n"
     ]
    },
    {
     "name": "stdout",
     "output_type": "stream",
     "text": [
      "epoch: 6, [batch: 94 / 156], examples_per_second: 3914.2181, train_label_loss: 0.0133, \n"
     ]
    },
    {
     "name": "stdout",
     "output_type": "stream",
     "text": [
      "epoch: 6, [batch: 109 / 156], examples_per_second: 3993.9964, train_label_loss: 0.0001, \n"
     ]
    },
    {
     "name": "stdout",
     "output_type": "stream",
     "text": [
      "epoch: 6, [batch: 125 / 156], examples_per_second: 3994.1194, train_label_loss: 0.0014, \n"
     ]
    },
    {
     "name": "stdout",
     "output_type": "stream",
     "text": [
      "epoch: 6, [batch: 140 / 156], examples_per_second: 3991.5498, train_label_loss: 0.0002, \n"
     ]
    },
    {
     "name": "stdout",
     "output_type": "stream",
     "text": [
      "=============================================================\n",
      "epoch: 6, source_val_acc_label: 0.9969, target_val_acc_label: 0.9841, source_val_label_loss: 0.0106, target_val_label_loss: 0.0506, \n",
      "=============================================================\n"
     ]
    },
    {
     "name": "stdout",
     "output_type": "stream",
     "text": [
      "Patience (3) exhausted\n"
     ]
    }
   ],
   "source": [
    "###################################\n",
    "# train\n",
    "###################################\n",
    "jig = PTN_Train_Eval_Test_Jig(model, p.BEST_MODEL_PATH, p.device)\n",
    "\n",
    "jig.train(\n",
    "    train_iterable=datasets.source.processed.train,\n",
    "    source_val_iterable=datasets.source.processed.val,\n",
    "    target_val_iterable=datasets.target.processed.val,\n",
    "    num_epochs=p.n_epoch,\n",
    "    num_logs_per_epoch=p.NUM_LOGS_PER_EPOCH,\n",
    "    patience=p.patience,\n",
    "    optimizer=optimizer,\n",
    "    criteria_for_best=p.criteria_for_best,\n",
    ")"
   ]
  },
  {
   "cell_type": "code",
   "execution_count": 14,
   "id": "31e8fabf",
   "metadata": {
    "execution": {
     "iopub.execute_input": "2022-03-22T16:22:37.842690Z",
     "iopub.status.busy": "2022-03-22T16:22:37.842443Z",
     "iopub.status.idle": "2022-03-22T16:22:37.859771Z",
     "shell.execute_reply": "2022-03-22T16:22:37.859318Z"
    },
    "papermill": {
     "duration": 0.042617,
     "end_time": "2022-03-22T16:22:37.859862",
     "exception": false,
     "start_time": "2022-03-22T16:22:37.817245",
     "status": "completed"
    },
    "tags": []
   },
   "outputs": [],
   "source": [
    "total_experiment_time_secs = time.time() - start_time_secs"
   ]
  },
  {
   "cell_type": "code",
   "execution_count": 15,
   "id": "87b9595b",
   "metadata": {
    "execution": {
     "iopub.execute_input": "2022-03-22T16:22:37.915762Z",
     "iopub.status.busy": "2022-03-22T16:22:37.915476Z",
     "iopub.status.idle": "2022-03-22T16:22:45.210918Z",
     "shell.execute_reply": "2022-03-22T16:22:45.210487Z"
    },
    "papermill": {
     "duration": 7.323605,
     "end_time": "2022-03-22T16:22:45.211022",
     "exception": false,
     "start_time": "2022-03-22T16:22:37.887417",
     "status": "completed"
    },
    "tags": []
   },
   "outputs": [],
   "source": [
    "###################################\n",
    "# Evaluate the model\n",
    "###################################\n",
    "source_test_label_accuracy, source_test_label_loss = jig.test(datasets.source.processed.test)\n",
    "target_test_label_accuracy, target_test_label_loss = jig.test(datasets.target.processed.test)\n",
    "\n",
    "source_val_label_accuracy, source_val_label_loss = jig.test(datasets.source.processed.val)\n",
    "target_val_label_accuracy, target_val_label_loss = jig.test(datasets.target.processed.val)\n",
    "\n",
    "history = jig.get_history()\n",
    "\n",
    "total_epochs_trained = len(history[\"epoch_indices\"])\n",
    "\n",
    "val_dl = Iterable_Aggregator((datasets.source.original.val,datasets.target.original.val))\n",
    "\n",
    "confusion = ptn_confusion_by_domain_over_dataloader(model, p.device, val_dl)\n",
    "per_domain_accuracy = per_domain_accuracy_from_confusion(confusion)\n",
    "\n",
    "# Add a key to per_domain_accuracy for if it was a source domain\n",
    "for domain, accuracy in per_domain_accuracy.items():\n",
    "    per_domain_accuracy[domain] = {\n",
    "        \"accuracy\": accuracy,\n",
    "        \"source?\": domain in p.domains_source\n",
    "    }\n",
    "\n",
    "# Do an independent accuracy assesment JUST TO BE SURE!\n",
    "# _source_test_label_accuracy = independent_accuracy_assesment(model, datasets.source.processed.test, p.device)\n",
    "# _target_test_label_accuracy = independent_accuracy_assesment(model, datasets.target.processed.test, p.device)\n",
    "# _source_val_label_accuracy = independent_accuracy_assesment(model, datasets.source.processed.val, p.device)\n",
    "# _target_val_label_accuracy = independent_accuracy_assesment(model, datasets.target.processed.val, p.device)\n",
    "\n",
    "# assert(_source_test_label_accuracy == source_test_label_accuracy)\n",
    "# assert(_target_test_label_accuracy == target_test_label_accuracy)\n",
    "# assert(_source_val_label_accuracy == source_val_label_accuracy)\n",
    "# assert(_target_val_label_accuracy == target_val_label_accuracy)\n",
    "\n",
    "experiment = {\n",
    "    \"experiment_name\": p.experiment_name,\n",
    "    \"parameters\": dict(p),\n",
    "    \"results\": {\n",
    "        \"source_test_label_accuracy\": source_test_label_accuracy,\n",
    "        \"source_test_label_loss\": source_test_label_loss,\n",
    "        \"target_test_label_accuracy\": target_test_label_accuracy,\n",
    "        \"target_test_label_loss\": target_test_label_loss,\n",
    "        \"source_val_label_accuracy\": source_val_label_accuracy,\n",
    "        \"source_val_label_loss\": source_val_label_loss,\n",
    "        \"target_val_label_accuracy\": target_val_label_accuracy,\n",
    "        \"target_val_label_loss\": target_val_label_loss,\n",
    "        \"total_epochs_trained\": total_epochs_trained,\n",
    "        \"total_experiment_time_secs\": total_experiment_time_secs,\n",
    "        \"confusion\": confusion,\n",
    "        \"per_domain_accuracy\": per_domain_accuracy,\n",
    "    },\n",
    "    \"history\": history,\n",
    "    \"dataset_metrics\": get_dataset_metrics(datasets, \"ptn\"),\n",
    "}"
   ]
  },
  {
   "cell_type": "code",
   "execution_count": 16,
   "id": "54a21829",
   "metadata": {
    "execution": {
     "iopub.execute_input": "2022-03-22T16:22:45.265521Z",
     "iopub.status.busy": "2022-03-22T16:22:45.264813Z",
     "iopub.status.idle": "2022-03-22T16:22:45.392693Z",
     "shell.execute_reply": "2022-03-22T16:22:45.393064Z"
    },
    "papermill": {
     "duration": 0.153304,
     "end_time": "2022-03-22T16:22:45.393178",
     "exception": false,
     "start_time": "2022-03-22T16:22:45.239874",
     "status": "completed"
    },
    "tags": []
   },
   "outputs": [
    {
     "data": {
      "image/png": "[encoded data removed]",
      "text/plain": [
       "<Figure size 1080x504 with 1 Axes>"
      ]
     },
     "metadata": {
      "needs_background": "light"
     },
     "output_type": "display_data"
    }
   ],
   "source": [
    "ax = get_loss_curve(experiment)\n",
    "plt.show()"
   ]
  },
  {
   "cell_type": "code",
   "execution_count": 17,
   "id": "fd8a0f60",
   "metadata": {
    "execution": {
     "iopub.execute_input": "2022-03-22T16:22:45.447302Z",
     "iopub.status.busy": "2022-03-22T16:22:45.447012Z",
     "iopub.status.idle": "2022-03-22T16:22:45.591848Z",
     "shell.execute_reply": "2022-03-22T16:22:45.591503Z"
    },
    "papermill": {
     "duration": 0.170513,
     "end_time": "2022-03-22T16:22:45.591921",
     "exception": false,
     "start_time": "2022-03-22T16:22:45.421408",
     "status": "completed"
    },
    "tags": []
   },
   "outputs": [
    {
     "data": {
      "text/plain": [
       "<AxesSubplot:title={'center':'Results'}>"
      ]
     },
     "execution_count": 17,
     "metadata": {},
     "output_type": "execute_result"
    },
    {
     "data": {
      "image/png": "[encoded data removed]",
      "text/plain": [
       "<Figure size 1080x504 with 1 Axes>"
      ]
     },
     "metadata": {
      "needs_background": "light"
     },
     "output_type": "display_data"
    }
   ],
   "source": [
    "get_results_table(experiment)"
   ]
  },
  {
   "cell_type": "code",
   "execution_count": 18,
   "id": "cf8dc689",
   "metadata": {
    "execution": {
     "iopub.execute_input": "2022-03-22T16:22:45.658665Z",
     "iopub.status.busy": "2022-03-22T16:22:45.658414Z",
     "iopub.status.idle": "2022-03-22T16:22:45.761195Z",
     "shell.execute_reply": "2022-03-22T16:22:45.760751Z"
    },
    "papermill": {
     "duration": 0.131205,
     "end_time": "2022-03-22T16:22:45.761292",
     "exception": false,
     "start_time": "2022-03-22T16:22:45.630087",
     "status": "completed"
    },
    "tags": []
   },
   "outputs": [
    {
     "data": {
      "text/plain": [
       "<AxesSubplot:title={'center':'Per Domain Validation Accuracy'}, xlabel='domain'>"
      ]
     },
     "execution_count": 18,
     "metadata": {},
     "output_type": "execute_result"
    },
    {
     "data": {
      "image/png": "[encoded data removed]",
      "text/plain": [
       "<Figure size 1080x504 with 1 Axes>"
      ]
     },
     "metadata": {
      "needs_background": "light"
     },
     "output_type": "display_data"
    }
   ],
   "source": [
    "get_domain_accuracies(experiment)"
   ]
  },
  {
   "cell_type": "code",
   "execution_count": 19,
   "id": "a74ae082",
   "metadata": {
    "execution": {
     "iopub.execute_input": "2022-03-22T16:22:45.818822Z",
     "iopub.status.busy": "2022-03-22T16:22:45.818574Z",
     "iopub.status.idle": "2022-03-22T16:22:45.831205Z",
     "shell.execute_reply": "2022-03-22T16:22:45.830867Z"
    },
    "papermill": {
     "duration": 0.039713,
     "end_time": "2022-03-22T16:22:45.831295",
     "exception": false,
     "start_time": "2022-03-22T16:22:45.791582",
     "status": "completed"
    },
    "tags": []
   },
   "outputs": [
    {
     "name": "stdout",
     "output_type": "stream",
     "text": [
      "Source Test Label Accuracy: 0.9976489028213166 Target Test Label Accuracy: 0.9864532019704434\n",
      "Source Val Label Accuracy: 0.9980407523510971 Target Val Label Accuracy: 0.9870689655172413\n"
     ]
    }
   ],
   "source": [
    "print(\"Source Test Label Accuracy:\", experiment[\"results\"][\"source_test_label_accuracy\"], \"Target Test Label Accuracy:\", experiment[\"results\"][\"target_test_label_accuracy\"])\n",
    "print(\"Source Val Label Accuracy:\", experiment[\"results\"][\"source_val_label_accuracy\"], \"Target Val Label Accuracy:\", experiment[\"results\"][\"target_val_label_accuracy\"])"
   ]
  },
  {
   "cell_type": "code",
   "execution_count": 20,
   "id": "dacca602",
   "metadata": {
    "execution": {
     "iopub.execute_input": "2022-03-22T16:22:45.888028Z",
     "iopub.status.busy": "2022-03-22T16:22:45.887785Z",
     "iopub.status.idle": "2022-03-22T16:22:45.899088Z",
     "shell.execute_reply": "2022-03-22T16:22:45.898655Z"
    },
    "papermill": {
     "duration": 0.038823,
     "end_time": "2022-03-22T16:22:45.899178",
     "exception": false,
     "start_time": "2022-03-22T16:22:45.860355",
     "status": "completed"
    },
    "tags": [
     "experiment_json"
    ]
   },
   "outputs": [
    {
     "data": {
      "text/plain": [
       "'{\"experiment_name\": \"tuned_1v2:cores\", \"parameters\": {\"experiment_name\": \"tuned_1v2:cores\", \"device\": \"cuda\", \"lr\": 0.0001, \"labels_source\": [\"1-10.\", \"1-11.\", \"1-15.\", \"1-16.\", \"1-17.\", \"1-18.\", \"1-19.\", \"10-4.\", \"10-7.\", \"11-1.\", \"11-14.\", \"11-17.\", \"11-20.\", \"11-7.\", \"13-20.\", \"13-8.\", \"14-10.\", \"14-11.\", \"14-14.\", \"14-7.\", \"15-1.\", \"15-20.\", \"16-1.\", \"16-16.\", \"17-10.\", \"17-11.\", \"17-2.\", \"19-1.\", \"19-16.\", \"19-19.\", \"19-20.\", \"19-3.\", \"2-10.\", \"2-11.\", \"2-17.\", \"2-18.\", \"2-20.\", \"2-3.\", \"2-4.\", \"2-5.\", \"2-6.\", \"2-7.\", \"2-8.\", \"3-13.\", \"3-18.\", \"3-3.\", \"4-1.\", \"4-10.\", \"4-11.\", \"4-19.\", \"5-5.\", \"6-15.\", \"7-10.\", \"7-14.\", \"8-18.\", \"8-20.\", \"8-3.\", \"8-8.\"], \"labels_target\": [\"1-10.\", \"1-11.\", \"1-15.\", \"1-16.\", \"1-17.\", \"1-18.\", \"1-19.\", \"10-4.\", \"10-7.\", \"11-1.\", \"11-14.\", \"11-17.\", \"11-20.\", \"11-7.\", \"13-20.\", \"13-8.\", \"14-10.\", \"14-11.\", \"14-14.\", \"14-7.\", \"15-1.\", \"15-20.\", \"16-1.\", \"16-16.\", \"17-10.\", \"17-11.\", \"17-2.\", \"19-1.\", \"19-16.\", \"19-19.\", \"19-20.\", \"19-3.\", \"2-10.\", \"2-11.\", \"2-17.\", \"2-18.\", \"2-20.\", \"2-3.\", \"2-4.\", \"2-5.\", \"2-6.\", \"2-7.\", \"2-8.\", \"3-13.\", \"3-18.\", \"3-3.\", \"4-1.\", \"4-10.\", \"4-11.\", \"4-19.\", \"5-5.\", \"6-15.\", \"7-10.\", \"7-14.\", \"8-18.\", \"8-20.\", \"8-3.\", \"8-8.\"], \"episode_transforms_source\": [], \"episode_transforms_target\": [], \"domains_source\": [1, 5], \"domains_target\": [2, 3, 4], \"num_examples_per_domain_per_label_source\": -1, \"num_examples_per_domain_per_label_target\": -1, \"n_shot\": 3, \"n_way\": 58, \"n_query\": 2, \"train_k_factor\": 3, \"val_k_factor\": 2, \"test_k_factor\": 2, \"torch_default_dtype\": \"torch.float32\", \"n_epoch\": 50, \"patience\": 3, \"criteria_for_best\": \"target_accuracy\", \"x_net\": [{\"class\": \"nnReshape\", \"kargs\": {\"shape\": [-1, 1, 2, 256]}}, {\"class\": \"Conv2d\", \"kargs\": {\"in_channels\": 1, \"out_channels\": 256, \"kernel_size\": [1, 7], \"bias\": false, \"padding\": [0, 3]}}, {\"class\": \"ReLU\", \"kargs\": {\"inplace\": true}}, {\"class\": \"BatchNorm2d\", \"kargs\": {\"num_features\": 256}}, {\"class\": \"Conv2d\", \"kargs\": {\"in_channels\": 256, \"out_channels\": 80, \"kernel_size\": [2, 7], \"bias\": true, \"padding\": [0, 3]}}, {\"class\": \"ReLU\", \"kargs\": {\"inplace\": true}}, {\"class\": \"BatchNorm2d\", \"kargs\": {\"num_features\": 80}}, {\"class\": \"Flatten\", \"kargs\": {}}, {\"class\": \"Linear\", \"kargs\": {\"in_features\": 20480, \"out_features\": 256}}, {\"class\": \"ReLU\", \"kargs\": {\"inplace\": true}}, {\"class\": \"BatchNorm1d\", \"kargs\": {\"num_features\": 256}}, {\"class\": \"Linear\", \"kargs\": {\"in_features\": 256, \"out_features\": 256}}], \"NUM_LOGS_PER_EPOCH\": 10, \"BEST_MODEL_PATH\": \"./best_model.pth\", \"pickle_name\": \"cores.stratified_ds.2022A.pkl\", \"x_transforms_source\": [\"unit_power\"], \"x_transforms_target\": [\"unit_power\"], \"dataset_seed\": 420, \"seed\": 420}, \"results\": {\"source_test_label_accuracy\": 0.9976489028213166, \"source_test_label_loss\": 0.008823387324810028, \"target_test_label_accuracy\": 0.9864532019704434, \"target_test_label_loss\": 0.04274969920516014, \"source_val_label_accuracy\": 0.9980407523510971, \"source_val_label_loss\": 0.010840619914233685, \"target_val_label_accuracy\": 0.9870689655172413, \"target_val_label_loss\": 0.046399787068367004, \"total_epochs_trained\": 6, \"total_experiment_time_secs\": 96.5943386554718, \"confusion\": {\"5\": {\"56\": {\"56\": 20}, \"35\": {\"35\": 20}, \"51\": {\"51\": 20}, \"21\": {\"21\": 20}, \"47\": {\"47\": 20}, \"40\": {\"40\": 20}, \"53\": {\"53\": 20}, \"22\": {\"22\": 20}, \"31\": {\"31\": 20}, \"6\": {\"6\": 20}, \"52\": {\"52\": 20}, \"30\": {\"30\": 20}, \"39\": {\"39\": 20}, \"7\": {\"7\": 20}, \"37\": {\"37\": 20}, \"44\": {\"44\": 20}, \"9\": {\"9\": 20}, \"42\": {\"42\": 20}, \"5\": {\"5\": 20}, \"13\": {\"13\": 20}, \"46\": {\"46\": 20}, \"16\": {\"16\": 20}, \"36\": {\"36\": 20}, \"26\": {\"26\": 20}, \"27\": {\"27\": 20}, \"4\": {\"4\": 20}, \"45\": {\"45\": 18, \"9\": 2}, \"19\": {\"19\": 20}, \"41\": {\"41\": 20}, \"49\": {\"49\": 20}, \"24\": {\"24\": 20}, \"15\": {\"15\": 19, \"3\": 1}, \"28\": {\"28\": 20}, \"10\": {\"10\": 20}, \"0\": {\"0\": 20}, \"3\": {\"3\": 20}, \"8\": {\"8\": 20}, \"20\": {\"20\": 20}, \"55\": {\"55\": 20}, \"32\": {\"32\": 20}, \"38\": {\"38\": 20}, \"54\": {\"54\": 20}, \"48\": {\"48\": 20}, \"33\": {\"33\": 20}, \"43\": {\"43\": 20}, \"23\": {\"23\": 20}, \"29\": {\"29\": 20}, \"12\": {\"12\": 20}, \"18\": {\"18\": 20}, \"25\": {\"25\": 20}, \"34\": {\"34\": 19, \"29\": 1}, \"11\": {\"11\": 19, \"3\": 1}, \"1\": {\"1\": 20}, \"57\": {\"57\": 20}, \"2\": {\"2\": 20}, \"14\": {\"14\": 20}, \"17\": {\"17\": 20}, \"50\": {\"50\": 20}}, \"1\": {\"43\": {\"43\": 24}, \"52\": {\"52\": 24}, \"9\": {\"9\": 24}, \"49\": {\"49\": 24}, \"27\": {\"27\": 24}, \"4\": {\"4\": 24}, \"31\": {\"31\": 24}, \"47\": {\"47\": 24}, \"21\": {\"21\": 24}, \"0\": {\"0\": 24}, \"16\": {\"16\": 24}, \"51\": {\"51\": 24}, \"3\": {\"3\": 24}, \"50\": {\"50\": 24}, \"40\": {\"40\": 24}, \"55\": {\"55\": 24}, \"12\": {\"12\": 24}, \"45\": {\"45\": 24}, \"7\": {\"7\": 24}, \"28\": {\"28\": 24}, \"33\": {\"33\": 24}, \"38\": {\"38\": 24}, \"44\": {\"44\": 24}, \"15\": {\"15\": 24}, \"25\": {\"25\": 24}, \"11\": {\"11\": 24}, \"57\": {\"57\": 24}, \"34\": {\"34\": 24}, \"14\": {\"14\": 24}, \"32\": {\"32\": 24}, \"18\": {\"18\": 24}, \"42\": {\"42\": 24}, \"8\": {\"8\": 24}, \"48\": {\"48\": 24}, \"24\": {\"24\": 24}, \"30\": {\"30\": 24}, \"10\": {\"10\": 24}, \"36\": {\"36\": 24}, \"35\": {\"35\": 24}, \"56\": {\"56\": 24}, \"41\": {\"41\": 24}, \"53\": {\"53\": 24}, \"37\": {\"37\": 24}, \"20\": {\"20\": 24}, \"17\": {\"17\": 24}, \"13\": {\"13\": 24}, \"46\": {\"46\": 24}, \"22\": {\"22\": 24}, \"1\": {\"1\": 24}, \"6\": {\"6\": 24}, \"26\": {\"26\": 24}, \"23\": {\"23\": 24}, \"19\": {\"19\": 24}, \"29\": {\"29\": 24}, \"2\": {\"2\": 24}, \"54\": {\"54\": 24}, \"5\": {\"5\": 24}, \"39\": {\"39\": 24}}, \"3\": {\"56\": {\"56\": 16}, \"35\": {\"35\": 16}, \"51\": {\"51\": 16}, \"21\": {\"50\": 3, \"21\": 13}, \"47\": {\"47\": 16}, \"40\": {\"40\": 16}, \"53\": {\"53\": 16}, \"22\": {\"22\": 16}, \"31\": {\"31\": 16}, \"6\": {\"6\": 16}, \"52\": {\"52\": 16}, \"30\": {\"30\": 16}, \"39\": {\"39\": 16}, \"7\": {\"7\": 16}, \"37\": {\"37\": 16}, \"44\": {\"44\": 16}, \"9\": {\"9\": 16}, \"42\": {\"42\": 16}, \"5\": {\"5\": 16}, \"13\": {\"13\": 16}, \"46\": {\"26\": 1, \"46\": 15}, \"16\": {\"16\": 16}, \"36\": {\"36\": 16}, \"26\": {\"26\": 16}, \"27\": {\"27\": 16}, \"4\": {\"4\": 16}, \"45\": {\"2\": 2, \"45\": 14}, \"19\": {\"19\": 16}, \"41\": {\"41\": 16}, \"49\": {\"49\": 16}, \"24\": {\"24\": 16}, \"15\": {\"15\": 16}, \"28\": {\"28\": 16}, \"10\": {\"10\": 16}, \"0\": {\"0\": 16}, \"3\": {\"3\": 16}, \"8\": {\"8\": 16}, \"20\": {\"20\": 15, \"18\": 1}, \"55\": {\"55\": 16}, \"32\": {\"32\": 16}, \"38\": {\"38\": 16}, \"54\": {\"54\": 16}, \"48\": {\"48\": 16}, \"33\": {\"33\": 16}, \"43\": {\"43\": 16}, \"23\": {\"23\": 16}, \"29\": {\"29\": 16}, \"12\": {\"12\": 15, \"6\": 1}, \"18\": {\"18\": 16}, \"25\": {\"25\": 16}, \"34\": {\"34\": 16}, \"11\": {\"11\": 16}, \"1\": {\"1\": 16}, \"57\": {\"57\": 16}, \"2\": {\"2\": 16}, \"14\": {\"14\": 16}, \"17\": {\"17\": 16}, \"50\": {\"50\": 13, \"3\": 1, \"52\": 1, \"53\": 1}}, \"4\": {\"55\": {\"55\": 16}, \"28\": {\"28\": 16}, \"21\": {\"21\": 16}, \"53\": {\"53\": 16}, \"2\": {\"2\": 16}, \"0\": {\"0\": 15, \"14\": 1}, \"7\": {\"7\": 12, \"46\": 1, \"31\": 2, \"10\": 1}, \"19\": {\"19\": 16}, \"25\": {\"25\": 16}, \"45\": {\"45\": 16}, \"57\": {\"57\": 16}, \"42\": {\"42\": 16}, \"5\": {\"5\": 16}, \"16\": {\"16\": 16}, \"26\": {\"26\": 16}, \"32\": {\"32\": 16}, \"15\": {\"15\": 15, \"7\": 1}, \"30\": {\"30\": 16}, \"3\": {\"3\": 16}, \"35\": {\"35\": 16}, \"14\": {\"14\": 12, \"0\": 2, \"1\": 1, \"38\": 1}, \"8\": {\"8\": 16}, \"56\": {\"56\": 16}, \"50\": {\"50\": 13, \"3\": 3}, \"31\": {\"31\": 16}, \"52\": {\"52\": 16}, \"1\": {\"1\": 16}, \"44\": {\"44\": 16}, \"39\": {\"39\": 16}, \"27\": {\"27\": 16}, \"17\": {\"17\": 16}, \"41\": {\"41\": 16}, \"40\": {\"40\": 16}, \"48\": {\"48\": 16}, \"22\": {\"22\": 16}, \"6\": {\"6\": 12, \"3\": 4}, \"11\": {\"11\": 16}, \"12\": {\"12\": 16}, \"49\": {\"49\": 16}, \"34\": {\"34\": 16}, \"37\": {\"37\": 16}, \"24\": {\"24\": 16}, \"33\": {\"33\": 16}, \"47\": {\"47\": 16}, \"23\": {\"23\": 16}, \"13\": {\"13\": 16}, \"29\": {\"29\": 16}, \"46\": {\"46\": 13, \"7\": 2, \"32\": 1}, \"38\": {\"38\": 16}, \"18\": {\"18\": 15, \"5\": 1}, \"9\": {\"9\": 16}, \"36\": {\"36\": 16}, \"51\": {\"51\": 16}, \"54\": {\"54\": 16}, \"43\": {\"43\": 15, \"2\": 1}, \"10\": {\"10\": 16}, \"4\": {\"4\": 16}, \"20\": {\"20\": 16}}, \"2\": {\"43\": {\"43\": 20}, \"52\": {\"52\": 20}, \"9\": {\"9\": 20}, \"49\": {\"49\": 20}, \"27\": {\"27\": 20}, \"4\": {\"4\": 20}, \"31\": {\"31\": 20}, \"47\": {\"47\": 20}, \"21\": {\"21\": 20}, \"0\": {\"0\": 20}, \"16\": {\"16\": 20}, \"51\": {\"51\": 20}, \"3\": {\"3\": 20}, \"50\": {\"50\": 18, \"3\": 2}, \"40\": {\"40\": 20}, \"55\": {\"55\": 20}, \"12\": {\"12\": 20}, \"45\": {\"45\": 19, \"17\": 1}, \"7\": {\"7\": 20}, \"28\": {\"28\": 20}, \"33\": {\"33\": 20}, \"38\": {\"38\": 20}, \"44\": {\"44\": 20}, \"15\": {\"15\": 20}, \"25\": {\"25\": 20}, \"11\": {\"11\": 20}, \"57\": {\"57\": 20}, \"34\": {\"34\": 20}, \"14\": {\"14\": 20}, \"32\": {\"32\": 20}, \"18\": {\"18\": 19, \"30\": 1}, \"42\": {\"42\": 20}, \"8\": {\"8\": 20}, \"48\": {\"48\": 20}, \"24\": {\"24\": 20}, \"30\": {\"30\": 20}, \"10\": {\"10\": 20}, \"36\": {\"36\": 20}, \"35\": {\"35\": 20}, \"56\": {\"56\": 20}, \"41\": {\"41\": 20}, \"53\": {\"53\": 20}, \"37\": {\"37\": 20}, \"20\": {\"20\": 20}, \"17\": {\"17\": 20}, \"13\": {\"13\": 20}, \"46\": {\"46\": 20}, \"22\": {\"22\": 20}, \"1\": {\"1\": 19, \"42\": 1}, \"6\": {\"6\": 20}, \"26\": {\"26\": 20}, \"23\": {\"23\": 20}, \"19\": {\"19\": 20}, \"29\": {\"29\": 20}, \"2\": {\"2\": 20}, \"54\": {\"54\": 19, \"32\": 1}, \"5\": {\"5\": 20}, \"39\": {\"39\": 20}}}, \"per_domain_accuracy\": {\"5\": {\"accuracy\": 0.9956896551724138, \"source?\": true}, \"1\": {\"accuracy\": 1.0, \"source?\": true}, \"3\": {\"accuracy\": 0.9881465517241379, \"source?\": false}, \"4\": {\"accuracy\": 0.9762931034482759, \"source?\": false}, \"2\": {\"accuracy\": 0.9948275862068966, \"source?\": false}}}, \"history\": {\"epoch_indices\": [1, 2, 3, 4, 5, 6], \"train_label_loss\": [0.6282964365031475, 0.01941506235072246, 0.014320545410065768, 0.010878832907623384, 0.012588316626370681, 0.003350832260343267], \"source_val_label_loss\": [0.05235472694039345, 0.010840619914233685, 0.02345053292810917, 0.007243150379508734, 0.011571361683309078, 0.010584237053990364], \"target_val_label_loss\": [0.13974620401859283, 0.046399787068367004, 0.08974408358335495, 0.055637992918491364, 0.052281029522418976, 0.05064106732606888], \"source_val_acc_label\": [0.9956896551724138, 0.9980407523510971, 0.9921630094043887, 0.9976489028213166, 0.9976489028213166, 0.9968652037617555], \"target_val_acc_label\": [0.9781167108753316, 0.9870689655172413, 0.9721485411140584, 0.9820954907161804, 0.9844164456233422, 0.9840848806366048]}, \"dataset_metrics\": {\"source\": {\"train\": {\"n_unique_x\": 33141, \"n_unique_y\": 58, \"n_batch/episode\": 156}, \"val\": {\"n_unique_x\": 5344, \"n_unique_y\": 58, \"n_batch/episode\": 22}, \"test\": {\"n_unique_x\": 5331, \"n_unique_y\": 58, \"n_batch/episode\": 22}}, \"target\": {\"train\": {\"n_unique_x\": 42721, \"n_unique_y\": 58, \"n_batch/episode\": 195}, \"val\": {\"n_unique_x\": 6512, \"n_unique_y\": 58, \"n_batch/episode\": 26}, \"test\": {\"n_unique_x\": 6948, \"n_unique_y\": 58, \"n_batch/episode\": 28}}}}'"
      ]
     },
     "execution_count": 20,
     "metadata": {},
     "output_type": "execute_result"
    }
   ],
   "source": [
    "json.dumps(experiment)"
   ]
  }
 ],
 "metadata": {
  "celltoolbar": "Tags",
  "kernelspec": {
   "display_name": "Python 3 (ipykernel)",
   "language": "python",
   "name": "python3"
  },
  "language_info": {
   "codemirror_mode": {
    "name": "ipython",
    "version": 3
   },
   "file_extension": ".py",
   "mimetype": "text/x-python",
   "name": "python",
   "nbconvert_exporter": "python",
   "pygments_lexer": "ipython3",
   "version": "3.8.10"
  },
  "papermill": {
   "default_parameters": {},
   "duration": 107.752956,
   "end_time": "2022-03-22T16:22:46.834262",
   "environment_variables": {},
   "exception": null,
   "input_path": "/mnt/wd500GB/CSC500/csc500-main/csc500-notebooks/templates/ptn_template.ipynb",
   "output_path": "trial.ipynb",
   "parameters": {
    "parameters": {
     "BEST_MODEL_PATH": "./best_model.pth",
     "NUM_LOGS_PER_EPOCH": 10,
     "criteria_for_best": "target_accuracy",
     "dataset_seed": 420,
     "device": "cuda",
     "domains_source": [
      1,
      5
     ],
     "domains_target": [
      2,
      3,
      4
     ],
     "episode_transforms_source": [],
     "episode_transforms_target": [],
     "experiment_name": "tuned_1v2:cores",
     "labels_source": [
      "1-10.",
      "1-11.",
      "1-15.",
      "1-16.",
      "1-17.",
      "1-18.",
      "1-19.",
      "10-4.",
      "10-7.",
      "11-1.",
      "11-14.",
      "11-17.",
      "11-20.",
      "11-7.",
      "13-20.",
      "13-8.",
      "14-10.",
      "14-11.",
      "14-14.",
      "14-7.",
      "15-1.",
      "15-20.",
      "16-1.",
      "16-16.",
      "17-10.",
      "17-11.",
      "17-2.",
      "19-1.",
      "19-16.",
      "19-19.",
      "19-20.",
      "19-3.",
      "2-10.",
      "2-11.",
      "2-17.",
      "2-18.",
      "2-20.",
      "2-3.",
      "2-4.",
      "2-5.",
      "2-6.",
      "2-7.",
      "2-8.",
      "3-13.",
      "3-18.",
      "3-3.",
      "4-1.",
      "4-10.",
      "4-11.",
      "4-19.",
      "5-5.",
      "6-15.",
      "7-10.",
      "7-14.",
      "8-18.",
      "8-20.",
      "8-3.",
      "8-8."
     ],
     "labels_target": [
      "1-10.",
      "1-11.",
      "1-15.",
      "1-16.",
      "1-17.",
      "1-18.",
      "1-19.",
      "10-4.",
      "10-7.",
      "11-1.",
      "11-14.",
      "11-17.",
      "11-20.",
      "11-7.",
      "13-20.",
      "13-8.",
      "14-10.",
      "14-11.",
      "14-14.",
      "14-7.",
      "15-1.",
      "15-20.",
      "16-1.",
      "16-16.",
      "17-10.",
      "17-11.",
      "17-2.",
      "19-1.",
      "19-16.",
      "19-19.",
      "19-20.",
      "19-3.",
      "2-10.",
      "2-11.",
      "2-17.",
      "2-18.",
      "2-20.",
      "2-3.",
      "2-4.",
      "2-5.",
      "2-6.",
      "2-7.",
      "2-8.",
      "3-13.",
      "3-18.",
      "3-3.",
      "4-1.",
      "4-10.",
      "4-11.",
      "4-19.",
      "5-5.",
      "6-15.",
      "7-10.",
      "7-14.",
      "8-18.",
      "8-20.",
      "8-3.",
      "8-8."
     ],
     "lr": 0.0001,
     "n_epoch": 50,
     "n_query": 2,
     "n_shot": 3,
     "n_way": 58,
     "num_examples_per_domain_per_label_source": -1,
     "num_examples_per_domain_per_label_target": -1,
     "patience": 3,
     "pickle_name": "cores.stratified_ds.2022A.pkl",
     "seed": 420,
     "test_k_factor": 2,
     "torch_default_dtype": "torch.float32",
     "train_k_factor": 3,
     "val_k_factor": 2,
     "x_net": [
      {
       "class": "nnReshape",
       "kargs": {
        "shape": [
         -1,
         1,
         2,
         256
        ]
       }
      },
      {
       "class": "Conv2d",
       "kargs": {
        "bias": false,
        "in_channels": 1,
        "kernel_size": [
         1,
         7
        ],
        "out_channels": 256,
        "padding": [
         0,
         3
        ]
       }
      },
      {
       "class": "ReLU",
       "kargs": {
        "inplace": true
       }
      },
      {
       "class": "BatchNorm2d",
       "kargs": {
        "num_features": 256
       }
      },
      {
       "class": "Conv2d",
       "kargs": {
        "bias": true,
        "in_channels": 256,
        "kernel_size": [
         2,
         7
        ],
        "out_channels": 80,
        "padding": [
         0,
         3
        ]
       }
      },
      {
       "class": "ReLU",
       "kargs": {
        "inplace": true
       }
      },
      {
       "class": "BatchNorm2d",
       "kargs": {
        "num_features": 80
       }
      },
      {
       "class": "Flatten",
       "kargs": {}
      },
      {
       "class": "Linear",
       "kargs": {
        "in_features": 20480,
        "out_features": 256
       }
      },
      {
       "class": "ReLU",
       "kargs": {
        "inplace": true
       }
      },
      {
       "class": "BatchNorm1d",
       "kargs": {
        "num_features": 256
       }
      },
      {
       "class": "Linear",
       "kargs": {
        "in_features": 256,
        "out_features": 256
       }
      }
     ],
     "x_transforms_source": [
      "unit_power"
     ],
     "x_transforms_target": [
      "unit_power"
     ]
    }
   },
   "start_time": "2022-03-22T16:20:59.081306",
   "version": "2.3.4"
  }
 },
 "nbformat": 4,
 "nbformat_minor": 5
}